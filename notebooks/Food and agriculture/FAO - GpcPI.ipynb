{
 "cells": [
  {
   "cell_type": "code",
   "execution_count": 1,
   "metadata": {},
   "outputs": [],
   "source": [
    "import sys\n",
    "sys.path.append(\"..\")\n",
    "import csv\n",
    "import json\n",
    "import urllib.request\n",
    "from IPython.display import clear_output\n",
    "import sources\n",
    "from Countries import Countries\n",
    "from data.Frame import Frame\n",
    "from data.Row import Row\n",
    "from data.Cell import Cell\n",
    "from data.Stats import calculate_weighted_average as wa\n",
    "c = Countries()\n",
    "c.\n",
    "from ldcs.groups import get_regionalized_dataframe as get_reg_df"
   ]
  },
  {
   "cell_type": "code",
   "execution_count": 2,
   "metadata": {
    "collapsed": true
   },
   "outputs": [],
   "source": [
    "column_names = []\n",
    "df = Frame()\n",
    "with open('FAOSTAT_gross_per_capita_production_index.csv') as csvfile:\n",
    "    reader = csv.reader(csvfile, delimiter=',', quotechar='\"')\n",
    "    i = next(reader)\n",
    "    for col in i:\n",
    "        column_names.append(col)\n",
    "    \n",
    "    for r in reader:\n",
    "        dr = Row()\n",
    "        for i in range(0,len(r)):\n",
    "            dr.cells.append(Cell(column=column_names[i], value=r[i]))\n",
    "        \n",
    "        df.rows.append(dr)"
   ]
  },
  {
   "cell_type": "code",
   "execution_count": 3,
   "metadata": {
    "collapsed": true
   },
   "outputs": [],
   "source": [
    "dfw = df.wide('area', 'value', 'year')"
   ]
  },
  {
   "cell_type": "code",
   "execution_count": 4,
   "metadata": {},
   "outputs": [],
   "source": [
    "df_ldcs = get_reg_df(dfw, 'area')"
   ]
  },
  {
   "cell_type": "code",
   "execution_count": 5,
   "metadata": {},
   "outputs": [
    {
     "name": "stdout",
     "output_type": "stream",
     "text": [
      "Angola\n",
      "Burundi\n",
      "Benin\n",
      "Burkina Faso\n",
      "Central African Republic\n",
      "Democratic Republic of the Congo\n",
      "Comoros\n",
      "Djibouti\n",
      "Eritrea\n",
      "Ethiopia\n",
      "Guinea\n",
      "Gambia\n",
      "Guinea-Bissau\n",
      "Liberia\n",
      "Lesotho\n",
      "Madagascar\n",
      "Mali\n",
      "Mozambique\n",
      "Mauritania\n",
      "Malawi\n",
      "Niger\n",
      "Rwanda\n",
      "Senegal\n",
      "Sierra Leone\n",
      "Somalia\n",
      "Sao Tome and Principe\n",
      "Chad\n",
      "Togo\n",
      "United Republic of Tanzania\n",
      "Uganda\n",
      "Zambia\n",
      "Afghanistan\n",
      "Bangladesh\n",
      "Bhutan\n",
      "Cambodia\n",
      "Kiribati\n",
      "Lao People's Democratic Republic\n",
      "Myanmar\n",
      "Nepal\n",
      "Solomon Islands\n",
      "Timor-Leste\n",
      "Tuvalu\n",
      "Vanuatu\n",
      "Yemen\n",
      "Haiti\n"
     ]
    }
   ],
   "source": [
    "for r in df_ldcs.rows:\n",
    "    print(r.get_by_column_name('area').get())"
   ]
  },
  {
   "cell_type": "code",
   "execution_count": 6,
   "metadata": {
    "collapsed": true
   },
   "outputs": [],
   "source": [
    "df_ldcs.name = \"FAO GPCPI for LDCs\"\n",
    "df_ldcs.to_xlsx()"
   ]
  },
  {
   "cell_type": "code",
   "execution_count": null,
   "metadata": {
    "collapsed": true
   },
   "outputs": [],
   "source": []
  }
 ],
 "metadata": {
  "kernelspec": {
   "display_name": "Python 3",
   "language": "python",
   "name": "python3"
  },
  "language_info": {
   "codemirror_mode": {
    "name": "ipython",
    "version": 3
   },
   "file_extension": ".py",
   "mimetype": "text/x-python",
   "name": "python",
   "nbconvert_exporter": "python",
   "pygments_lexer": "ipython3",
   "version": "3.7.1"
  }
 },
 "nbformat": 4,
 "nbformat_minor": 2
}
