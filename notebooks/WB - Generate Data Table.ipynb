{
 "cells": [
  {
   "cell_type": "code",
   "execution_count": 1,
   "metadata": {},
   "outputs": [],
   "source": [
    "import sys\n",
    "sys.path.append(\"..\")\n",
    "import json\n",
    "import urllib.request\n",
    "from IPython.display import clear_output\n",
    "import sources\n",
    "from countries.list import CountryList\n",
    "from data.Frame import Frame\n",
    "from data.Stats import calculate_weighted_average as wa\n",
    "c = CountryList()\n",
    "c.load_wb()\n",
    "from sources.worldbank.indicators import get_data_frame_wide as getdfw"
   ]
  },
  {
   "cell_type": "code",
   "execution_count": 2,
   "metadata": {},
   "outputs": [],
   "source": [
    "def get_data_table(start, end, indicator, groups, export_to_excel=False):    \n",
    "    # We will store the final result here\n",
    "    ndf = Frame()\n",
    "    # Now we get the data that we want to average by region (defined in the groups)\n",
    "    # and also total\n",
    "    for g in groups:    \n",
    "        # Data points\n",
    "        df_data = getdfw(name=indicator, \n",
    "            start=start, end=end, \n",
    "            countries=c.get_groups(g),\n",
    "            label_field='entity',\n",
    "            value_field='value',\n",
    "            column_field='date'\n",
    "            )\n",
    "\n",
    "        for r in df_data.rows:\n",
    "            ndf.rows.append(r)\n",
    "    \n",
    "    # Produce dataframe that will be resturned as a result of the function\n",
    "    final_df = Frame()    \n",
    "    final_df.add_column(ndf.get_column('entity'))\n",
    "    \n",
    "    for i in range(end-start):\n",
    "        final_df.add_column(ndf.get_column(float('%s%s.0' % (str(start)[0:4-len(str(i))],i))))\n",
    "            \n",
    "    if export_to_excel == True:\n",
    "        s = \"\"\n",
    "        for g in groups:    \n",
    "            for i in g:\n",
    "                s =  i + \"_\" + s     \n",
    "        final_df.name = \"%s-%s-%s-%s\" % (indicator, start, end, s)\n",
    "        final_df.to_xlsx()\n",
    "    \n",
    "    return final_df\n"
   ]
  },
  {
   "cell_type": "code",
   "execution_count": 7,
   "metadata": {},
   "outputs": [],
   "source": [
    "# Added value of agriculture as a percentage of GDP\n",
    "start = 2000\n",
    "end = 2018\n",
    "indicator = 'NV.AGR.TOTL.ZS'\n",
    "weight = 'NY.GDP.MKTP.CD'\n",
    "groups_ldcs=[['LDCs', 'Africa'],['LDCs', 'Asia and the Pacific'],['LDCs', 'America']]\n",
    "groups=[['Developing excluding LDCs']]"
   ]
  },
  {
   "cell_type": "code",
   "execution_count": 8,
   "metadata": {
    "scrolled": true
   },
   "outputs": [],
   "source": [
    "data_ldcs = get_data_table(start, end, indicator, groups_ldcs, export_to_excel=False)\n",
    "weight_ldcs = get_data_table(start, end, weight, groups_ldcs, export_to_excel=False)"
   ]
  },
  {
   "cell_type": "code",
   "execution_count": 9,
   "metadata": {},
   "outputs": [],
   "source": [
    "df_ldcs_w = wa(data_ldcs, weight_ldcs, 'entity' )"
   ]
  },
  {
   "cell_type": "code",
   "execution_count": 10,
   "metadata": {},
   "outputs": [],
   "source": [
    "df_ldcs_w.to_xlsx()"
   ]
  },
  {
   "cell_type": "code",
   "execution_count": 12,
   "metadata": {},
   "outputs": [],
   "source": [
    "# Employment in agriculture as a percentage of total employment\n",
    "start = 2000\n",
    "end = 2018\n",
    "indicator = 'SL.AGR.EMPL.ZS'\n",
    "weight = 'SP.RUR.TOTL'\n",
    "groups_ldcs=[['LDCs', 'Africa'],['LDCs', 'Asia and the Pacific'],['LDCs', 'America']]\n",
    "groups=[['Developing excluding LDCs']]\n",
    "\n",
    "data_ldcs = get_data_table(start, end, indicator, groups_ldcs, export_to_excel=False)\n",
    "weight_ldcs = get_data_table(start, end, weight, groups_ldcs, export_to_excel=False)\n",
    "df_ldcs_w = wa(data_ldcs, weight_ldcs, 'entity' )\n",
    "df_ldcs_w.to_xlsx()"
   ]
  },
  {
   "cell_type": "code",
   "execution_count": null,
   "metadata": {},
   "outputs": [],
   "source": []
  }
 ],
 "metadata": {
  "kernelspec": {
   "display_name": "Python 3",
   "language": "python",
   "name": "python3"
  },
  "language_info": {
   "codemirror_mode": {
    "name": "ipython",
    "version": 3
   },
   "file_extension": ".py",
   "mimetype": "text/x-python",
   "name": "python",
   "nbconvert_exporter": "python",
   "pygments_lexer": "ipython3",
   "version": "3.7.1"
  }
 },
 "nbformat": 4,
 "nbformat_minor": 2
}
