<<<<<<< HEAD
{
 "cells": [
  {
   "cell_type": "code",
   "execution_count": 40,
   "metadata": {},
   "outputs": [],
   "source": [
    "import sys\n",
    "sys.path.append(\"..\")\n",
    "import json\n",
    "import urllib.request\n",
    "from IPython.display import clear_output\n",
    "import sources\n",
    "from countries.list import CountryList\n",
    "from data.Frame import Frame\n",
    "from data.Row import Row\n",
    "from data.Cell import Cell\n",
    "from data.Stats import calculate_weighted_average as wa\n",
    "c = CountryList()\n",
    "c.load_wb()\n",
    "from sources.worldbank.indicators import get_data_frame_wide as getdfw"
   ]
  },
  {
   "cell_type": "code",
   "execution_count": 41,
   "metadata": {},
   "outputs": [],
   "source": [
    "start = 2000\n",
    "end = 2018\n",
    "gs_of_countries = []\n",
    "gs_of_countries.append(['LDCs', 'Africa'])\n",
    "gs_of_countries.append(['LDCs', 'Asia and the Pacific'])\n",
    "gs_of_countries.append(['LDCs', 'America'])\n",
    "gs_of_countries.append(['LDCs'])\n",
    "gs_of_countries.append(['Developing excluding LDCs'])"
   ]
  },
  {
   "cell_type": "code",
   "execution_count": 42,
   "metadata": {},
   "outputs": [],
   "source": [
    "w_inds = []\n",
    "w_inds.append(['NV.SRV.TOTL.ZS', 'NY.GDP.MKTP.CD']) # Services, value added as a percentage of GDP / GDP Current USD\n",
    "w_inds.append(['NV.IND.TOTL.ZS', 'NY.GDP.MKTP.CD']) # Industry, value added as a percentage of GDP / GDP Current USD\n",
    "w_inds.append(['NV.AGR.TOTL.ZS', 'NY.GDP.MKTP.CD']) # Agriculture, value added as a percentage of GDP / GDP Current USD\n",
    "w_inds.append(['NV.IND.MANF.ZS', 'NY.GDP.MKTP.CD']) # Manufacture, value added as a percentage of GDP / GDP Current USD\n",
    "w_inds.append(['NE.GDI.TOTL.ZS', 'NY.GDP.MKTP.CD']) # Gross capital formation as a percentage of GDP / GDP Current USD\n",
    "w_inds.append(['IT.NET.USER.ZS', 'SP.POP.TOTL']) # Internet users as a pecentage of the population / Population\n",
    "w_inds.append(['IT.CEL.SETS.P2', '']) # Mobile cellular subscriptions per 100 people / No weighted\n",
    "w_inds.append(['IS.AIR.GOOD.MT.K1', '']) # Air transport, freight (million ton-km) / No weighted\n",
    "w_inds.append(['IS.AIR.PSGR', '']) # Air transport, passengers carried / No weighted\n",
    "w_inds.append(['IP.JRN.ARTC.SC', '']) # Scientific and technical journal articles\n",
    "w_inds.append(['IP.PAT.RESD', '']) # Patent applications, residents / No weighted\n",
    "w_inds.append(['IP.PAT.NRES', '']) # Patent applications, non residents / No weighted\n",
    "w_inds.append(['AG.CON.FERT.ZS', 'AG.LND.ARBL.HA']) # Fertilizer consumption (kilograms per hectare of arable land) / Arable land (hectares)\n"
   ]
  },
  {
   "cell_type": "code",
   "execution_count": 69,
   "metadata": {},
   "outputs": [],
   "source": [
    "datasets = []\n",
    "cs = []\n",
    "for ind in w_inds:\n",
    "    for g in gs_of_countries:\n",
    "        # LDCs\n",
    "        d = getdfw(name= ind[0], \n",
    "                        start=start, end=end, \n",
    "                        countries=c.get_groups(g),\n",
    "                        label_field='entity',\n",
    "                        value_field='value',\n",
    "                        column_field='date'\n",
    "                       )\n",
    "\n",
    "        if ind[1] !='':\n",
    "            w = getdfw(name=ind[1], \n",
    "                            start=start, end=end, \n",
    "                            countries=c.get_groups(g),\n",
    "                            label_field='entity',\n",
    "                            value_field='value',\n",
    "                            column_field='date'\n",
    "                           )    \n",
    "            datasets.append([ind, g, wa(d, w, 'entity')])\n",
    "            datasets[len(datasets)-1][2].name = ('data/' + str(ind) + '-' + str(g) + '-' + str(start) + '-' + str(end))\n",
    "        else:\n",
    "            datasets.append([ind, g, d])        "
   ]
  },
  {
   "cell_type": "code",
   "execution_count": 70,
   "metadata": {},
   "outputs": [],
   "source": [
    "for d in datasets:\n",
    "    d[2].to_xlsx()"
   ]
  },
  {
   "cell_type": "code",
   "execution_count": null,
   "metadata": {},
   "outputs": [],
   "source": []
  }
 ],
 "metadata": {
  "kernelspec": {
   "display_name": "Python 3",
   "language": "python",
   "name": "python3"
  },
  "language_info": {
   "codemirror_mode": {
    "name": "ipython",
    "version": 3
   },
   "file_extension": ".py",
   "mimetype": "text/x-python",
   "name": "python",
   "nbconvert_exporter": "python",
   "pygments_lexer": "ipython3",
   "version": "3.7.0"
  }
 },
 "nbformat": 4,
 "nbformat_minor": 2
}
=======
{
 "cells": [
  {
   "cell_type": "code",
   "execution_count": 40,
   "metadata": {},
   "outputs": [],
   "source": [
    "import sys\n",
    "sys.path.append(\"..\")\n",
    "import json\n",
    "import urllib.request\n",
    "from IPython.display import clear_output\n",
    "import sources\n",
    "from countries.list import CountryList\n",
    "from data.Frame import Frame\n",
    "from data.Row import Row\n",
    "from data.Cell import Cell\n",
    "from data.Stats import calculate_weighted_average as wa\n",
    "c = CountryList()\n",
    "c.load_wb()\n",
    "from sources.worldbank.indicators import get_data_frame_wide as getdfw"
   ]
  },
  {
   "cell_type": "code",
   "execution_count": 41,
   "metadata": {},
   "outputs": [],
   "source": [
    "start = 2000\n",
    "end = 2018\n",
    "gs_of_countries = []\n",
    "gs_of_countries.append(['LDCs', 'Africa'])\n",
    "gs_of_countries.append(['LDCs', 'Asia and the Pacific'])\n",
    "gs_of_countries.append(['LDCs', 'America'])\n",
    "gs_of_countries.append(['LDCs'])\n",
    "gs_of_countries.append(['Developing excluding LDCs'])"
   ]
  },
  {
   "cell_type": "code",
   "execution_count": 42,
   "metadata": {},
   "outputs": [],
   "source": [
    "w_inds = []\n",
    "w_inds.append(['NV.SRV.TOTL.ZS', 'NY.GDP.MKTP.CD']) # Services, value added as a percentage of GDP / GDP Current USD\n",
    "w_inds.append(['NV.IND.TOTL.ZS', 'NY.GDP.MKTP.CD']) # Industry, value added as a percentage of GDP / GDP Current USD\n",
    "w_inds.append(['NV.AGR.TOTL.ZS', 'NY.GDP.MKTP.CD']) # Agriculture, value added as a percentage of GDP / GDP Current USD\n",
    "w_inds.append(['NV.IND.MANF.ZS', 'NY.GDP.MKTP.CD']) # Manufacture, value added as a percentage of GDP / GDP Current USD\n",
    "w_inds.append(['NE.GDI.TOTL.ZS', 'NY.GDP.MKTP.CD']) # Gross capital formation as a percentage of GDP / GDP Current USD\n",
    "w_inds.append(['IT.NET.USER.ZS', 'SP.POP.TOTL']) # Internet users as a pecentage of the population / Population\n",
    "w_inds.append(['IT.CEL.SETS.P2', '']) # Mobile cellular subscriptions per 100 people / No weighted\n",
    "w_inds.append(['IS.AIR.GOOD.MT.K1', '']) # Air transport, freight (million ton-km) / No weighted\n",
    "w_inds.append(['IS.AIR.PSGR', '']) # Air transport, passengers carried / No weighted\n",
    "w_inds.append(['IP.JRN.ARTC.SC', '']) # Scientific and technical journal articles\n",
    "w_inds.append(['IP.PAT.RESD', '']) # Patent applications, residents / No weighted\n",
    "w_inds.append(['IP.PAT.NRES', '']) # Patent applications, non residents / No weighted\n",
    "w_inds.append(['AG.CON.FERT.ZS', 'AG.LND.ARBL.HA']) # Fertilizer consumption (kilograms per hectare of arable land) / Arable land (hectares)\n"
   ]
  },
  {
   "cell_type": "code",
   "execution_count": 69,
   "metadata": {},
   "outputs": [],
   "source": [
    "datasets = []\n",
    "cs = []\n",
    "for ind in w_inds:\n",
    "    for g in gs_of_countries:\n",
    "        # LDCs\n",
    "        d = getdfw(name= ind[0], \n",
    "                        start=start, end=end, \n",
    "                        countries=c.get_groups(g),\n",
    "                        label_field='entity',\n",
    "                        value_field='value',\n",
    "                        column_field='date'\n",
    "                       )\n",
    "\n",
    "        if ind[1] !='':\n",
    "            w = getdfw(name=ind[1], \n",
    "                            start=start, end=end, \n",
    "                            countries=c.get_groups(g),\n",
    "                            label_field='entity',\n",
    "                            value_field='value',\n",
    "                            column_field='date'\n",
    "                           )    \n",
    "            datasets.append([ind, g, wa(d, w, 'entity')])\n",
    "            datasets[len(datasets)-1][2].name = ('data/' + str(ind) + '-' + str(g) + '-' + str(start) + '-' + str(end))\n",
    "        else:\n",
    "            datasets.append([ind, g, d])        "
   ]
  },
  {
   "cell_type": "code",
   "execution_count": 70,
   "metadata": {},
   "outputs": [],
   "source": [
    "for d in datasets:\n",
    "    d[2].to_xlsx()"
   ]
  },
  {
   "cell_type": "code",
   "execution_count": null,
   "metadata": {},
   "outputs": [],
   "source": []
  }
 ],
 "metadata": {
  "kernelspec": {
   "display_name": "Python 3",
   "language": "python",
   "name": "python3"
  },
  "language_info": {
   "codemirror_mode": {
    "name": "ipython",
    "version": 3
   },
   "file_extension": ".py",
   "mimetype": "text/x-python",
   "name": "python",
   "nbconvert_exporter": "python",
   "pygments_lexer": "ipython3",
   "version": "3.7.1"
  }
 },
 "nbformat": 4,
 "nbformat_minor": 2
}
>>>>>>> c96503b519580efd1b289fd0cb82f75f04931b4c
