{
 "cells": [
  {
   "cell_type": "code",
   "execution_count": 1,
   "metadata": {},
   "outputs": [],
   "source": [
    "import sys\n",
    "sys.path.append(\"..\")\n",
    "sys.path.append(\"../datasets/movie_dialogs\")\n",
    "import bot\n",
    "import pandas as pd"
   ]
  },
  {
   "cell_type": "code",
   "execution_count": 2,
   "metadata": {},
   "outputs": [],
   "source": [
    "file = open('movie_lines.txt', encoding='latin_1').read().split('\\n')\n",
    "lines =[]\n",
    "for l in file:\n",
    "    if len(l.split(\"+++$+++\")) > 1:\n",
    "        lines.append(l.split(\"+++$+++\"))"
   ]
  },
  {
   "cell_type": "code",
   "execution_count": 3,
   "metadata": {},
   "outputs": [],
   "source": [
    "file = open('movie_conversations.txt', encoding='latin_1').read().split('\\n')\n",
    "conversations =[]\n",
    "for l in file:\n",
    "    if len(l.split(\"+++$+++\")) > 1:\n",
    "        conversations.append(l.split(\"+++$+++\"))"
   ]
  },
  {
   "cell_type": "code",
   "execution_count": 4,
   "metadata": {},
   "outputs": [],
   "source": [
    "# Get all movies\n",
    "movies = []\n",
    "for l in lines:\n",
    "    if len(l) > 1:\n",
    "        if l[2] not in movies:\n",
    "            movies.append(l[2])"
   ]
  },
  {
   "cell_type": "code",
   "execution_count": 5,
   "metadata": {},
   "outputs": [],
   "source": [
    "def search(field, value):\n",
    "    lines = []\n",
    "    for l in data:\n",
    "        if len(l) > 2:\n",
    "            if l[field].strip() == value:\n",
    "                lines.append(l)\n",
    "    return lines\n",
    "    "
   ]
  },
  {
   "cell_type": "code",
   "execution_count": 6,
   "metadata": {},
   "outputs": [],
   "source": [
    "def getKey(item):\n",
    "    return item[0]"
   ]
  },
  {
   "cell_type": "code",
   "execution_count": 28,
   "metadata": {},
   "outputs": [],
   "source": [
    "def get_dialog(ls):\n",
    "    ls = ls.replace(\"[\", \"\").replace(\"]\", \"\").replace(\"'\", \"\").strip().split(\",\")\n",
    "    dialog_lines = []\n",
    "    for l in lines:\n",
    "        for i in ls:\n",
    "            if l[0].strip() == i.strip():\n",
    "                dialog_lines.append(l)\n",
    "    return dialog_lines"
   ]
  },
  {
   "cell_type": "code",
   "execution_count": 29,
   "metadata": {},
   "outputs": [
    {
     "data": {
      "text/plain": [
       "[['L200 ',\n",
       "  ' u0 ',\n",
       "  ' m0 ',\n",
       "  ' BIANCA ',\n",
       "  \" No, no, it's my fault -- we didn't have a proper introduction ---\"],\n",
       " ['L201 ', ' u2 ', ' m0 ', ' CAMERON ', ' Cameron.'],\n",
       " ['L202 ',\n",
       "  ' u0 ',\n",
       "  ' m0 ',\n",
       "  ' BIANCA ',\n",
       "  \" The thing is, Cameron -- I'm at the mercy of a particularly hideous breed of loser.  My sister.  I can't date until she does.\"],\n",
       " ['L203 ',\n",
       "  ' u2 ',\n",
       "  ' m0 ',\n",
       "  ' CAMERON ',\n",
       "  ' Seems like she could get a date easy enough...']]"
      ]
     },
     "execution_count": 29,
     "metadata": {},
     "output_type": "execute_result"
    }
   ],
   "source": [
    "sorted(get_dialog(conversations[2][3]), key=getKey)"
   ]
  },
  {
   "cell_type": "code",
   "execution_count": 48,
   "metadata": {},
   "outputs": [
    {
     "data": {
      "text/plain": [
       "[['L85896 ', ' u501 ', ' m31 ', ' JOHN ', ' Give me some money.'],\n",
       " ['L85897 ', ' u502 ', ' m31 ', ' NADIA ', \" I don't have any money.\"]]"
      ]
     },
     "execution_count": 48,
     "metadata": {},
     "output_type": "execute_result"
    }
   ],
   "source": [
    "sorted(get_dialog(conversations[4120][3]), key=getKey)"
   ]
  },
  {
   "cell_type": "code",
   "execution_count": 49,
   "metadata": {},
   "outputs": [],
   "source": [
    "def get_dialog_characters(dialog):\n",
    "    characters = []\n",
    "    for d in dialog:\n",
    "        if d[3] not in characters:\n",
    "            characters.append(d[3])\n",
    "            \n",
    "    return characters"
   ]
  },
  {
   "cell_type": "code",
   "execution_count": 50,
   "metadata": {},
   "outputs": [
    {
     "data": {
      "text/plain": [
       "[' CAMERON ', ' BIANCA ']"
      ]
     },
     "execution_count": 50,
     "metadata": {},
     "output_type": "execute_result"
    }
   ],
   "source": [
    "get_dialog_characters(sorted(get_dialog(conversations[3][3]), key=getKey))"
   ]
  },
  {
   "cell_type": "code",
   "execution_count": 51,
   "metadata": {},
   "outputs": [],
   "source": [
    "def is_dialog_suitable(dialog):\n",
    "    character = \"\"\n",
    "    for d in dialog:\n",
    "        if character !=\"\" and d[3] == character:\n",
    "            return False\n",
    "        if character !=\"\" and d[3] != character:\n",
    "            characters = d[3]\n",
    "    return True\n",
    "        \n",
    "        "
   ]
  },
  {
   "cell_type": "code",
   "execution_count": 52,
   "metadata": {},
   "outputs": [
    {
     "data": {
      "text/plain": [
       "True"
      ]
     },
     "execution_count": 52,
     "metadata": {},
     "output_type": "execute_result"
    }
   ],
   "source": [
    "is_dialog_suitable(sorted(get_dialog(conversations[3][3]), key=getKey))"
   ]
  },
  {
   "cell_type": "code",
   "execution_count": null,
   "metadata": {},
   "outputs": [],
   "source": [
    "inputs = []\n",
    "outputs = []\n",
    "for c in conversations:\n",
    "    if is_dialog_suitable(sorted(get_dialog(c[3]), key=getKey)):\n",
    "        "
   ]
  }
 ],
 "metadata": {
  "kernelspec": {
   "display_name": "python3.6",
   "language": "python",
   "name": "python3.6"
  },
  "language_info": {
   "codemirror_mode": {
    "name": "ipython",
    "version": 3
   },
   "file_extension": ".py",
   "mimetype": "text/x-python",
   "name": "python",
   "nbconvert_exporter": "python",
   "pygments_lexer": "ipython3",
   "version": "3.6.4"
  }
 },
 "nbformat": 4,
 "nbformat_minor": 2
}
