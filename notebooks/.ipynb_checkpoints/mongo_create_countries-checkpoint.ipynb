{
 "cells": [
  {
   "cell_type": "code",
   "execution_count": 40,
   "metadata": {},
   "outputs": [],
   "source": [
    "import sys\n",
    "sys.path.append(\"..\")\n",
    "from sources import *\n",
    "import os\n",
    "from IPython.display import clear_output\n",
    "import time\n",
    "from countries.list import CountryList\n",
    "from countries.utils import extract_countries\n",
    "from data.Frame import Frame\n",
    "c = CountryList()\n",
    "c.load_wb()\n",
    "import requests\n",
    "import urllib\n",
    "import json"
   ]
  },
  {
   "cell_type": "code",
   "execution_count": 38,
   "metadata": {},
   "outputs": [],
   "source": [
    "from pymongo import MongoClient\n",
    "import db\n",
    "client = MongoClient('localhost', 27017)\n",
    "db = client[\"stats\"]"
   ]
  },
  {
   "cell_type": "code",
   "execution_count": 39,
   "metadata": {},
   "outputs": [],
   "source": [
    "profile_indicators = ['FIRESTOTLCD', 'ITCELSETSP2', 'ENATMCO2EPC', 'BXKLTDINVCDWD', 'EGELCACCSZS', 'FIRESTOTLCD']"
   ]
  },
  {
   "cell_type": "code",
   "execution_count": 35,
   "metadata": {},
   "outputs": [],
   "source": [
    "def process_wb_data(c):\n",
    "    \n",
    "    new_g = []            \n",
    "    for g in c['groups']:\n",
    "        new_g.append(g.lower())    \n",
    "    \n",
    "    c.groups = new_g\n",
    "        \n",
    "    return new_g"
   ]
  },
  {
   "cell_type": "code",
   "execution_count": 41,
   "metadata": {},
   "outputs": [],
   "source": [
    "url = 'http://country.io/names.json'\n",
    "response = urllib.request.urlopen(url)\n",
    "data = response.read().decode('utf-8')\n",
    "country_names = json.loads(data)"
   ]
  },
  {
   "cell_type": "code",
   "execution_count": 43,
   "metadata": {},
   "outputs": [
    {
     "data": {
      "text/plain": [
       "'Bangladesh'"
      ]
     },
     "execution_count": 43,
     "metadata": {},
     "output_type": "execute_result"
    }
   ],
   "source": []
  },
  {
   "cell_type": "code",
   "execution_count": 36,
   "metadata": {},
   "outputs": [],
   "source": [
    "for ct in c:\n",
    "    try:\n",
    "        if (ct['capital_longitude'] != \"\"):\n",
    "            g = process_wb_data(ct)\n",
    "            db[\"countries\"].update_one({ \"name\" : ct['name'].lower()}, {\"$set\":{\"name\": country_names[ct[\"iso2code\"]].lower(),\n",
    "                                                                       \"aliases\": ct[\"aliases\"],\n",
    "                                                                       \"iso2code\": ct[\"iso2code\"],\n",
    "                                                                       \"iso3code\": ct[\"iso3code\"],\n",
    "                                                                       \"income_level\": ct[\"incomelevel\"],\n",
    "                                                                       \"capital_longitude\": ct[\"capital_longitude\"],\n",
    "                                                                       \"capital_latitude\": ct[\"capital_latitude\"],\n",
    "                                                                       \"lendingtype\": ct[\"lendingtype\"],\n",
    "                                                                       \"region\": ct[\"region\"],\n",
    "                                                                       \"groups\": g,\n",
    "                                                                       \"profile\": {\"indicators\": profile_indicators}}}, True)\n",
    "    except ValueError:\n",
    "        pass"
   ]
  },
  {
   "cell_type": "code",
   "execution_count": 9,
   "metadata": {},
   "outputs": [],
   "source": [
    "# Add CIA World Factbook Info\n",
    "url = 'https://raw.githubusercontent.com/iancoleman/cia_world_factbook_api/master/data/factbook.json'\n",
    "r = requests.get(url)"
   ]
  },
  {
   "cell_type": "code",
   "execution_count": 10,
   "metadata": {},
   "outputs": [],
   "source": [
    "for item in r.json()['countries']:\n",
    "    pais = r.json()['countries'][item]['data']\n",
    "    if ('population_distribution' in pais['geography'].keys()):\n",
    "        db[\"countries\"].update_one({ \"name\" : item.capitalize()}, \n",
    "                                           {\"$set\":{\"population_distribution\" : pais['geography']['population_distribution']}}, True)\n",
    "    if ('border_countries' in pais['geography'].keys()): \n",
    "        db[\"countries\"].update_one({ \"name\" : item.capitalize()}, \n",
    "                                           {\"$set\":{\"border_countries\" : pais['geography']['land_boundaries']['border_countries']}}, True)\n",
    "       \n",
    "        \n",
    "    if ('elevation' in pais['geography'].keys()):\n",
    "        db[\"countries\"].update_one({ \"name\" : item.capitalize()}, \n",
    "                                           {\"$set\":{\"elevation\" : pais['geography']['elevation']}}, True)\n",
    "    \n",
    "    if ('climate' in pais['geography'].keys()):\n",
    "        db[\"countries\"].update_one({ \"name\" : item.capitalize()}, \n",
    "                                           {\"$set\":{\"climate\" : pais['geography']['climate']}}, True)\n",
    "    \n",
    "    if ('environment' in pais['geography']['environment'].keys()):\n",
    "        db[\"countries\"].update_one({ \"name\" : item.capitalize()}, \n",
    "                                           {\"$set\":{\"environment\" : pais['geography']['environment']}}, True)\n",
    "    \n",
    "    if ('people' in pais.keys()):\n",
    "        if ('mothers_mean_age_at_first_birth' in pais['people'].keys()):\n",
    "            db[\"countries\"].update_one({ \"name\" : item.capitalize()}, \n",
    "                                           {\"$set\":{\"mothers_mean_age_at_first_birth\" : pais['people']['mothers_mean_age_at_first_birth']}}, True)\n",
    "            \n",
    "    if ('people' in pais.keys()):\n",
    "        if ('major_urban_areas' in pais['people'].keys()):\n",
    "            db[\"countries\"].update_one({ \"name\" : item.capitalize()}, \n",
    "                                                   {\"$set\":{\"major_urban_areas\" : pais['people']['major_urban_areas']}}, True)\n",
    "\n",
    "    if ('people' in pais.keys()):\n",
    "        if ('population' in pais['people'].keys()):\n",
    "            db[\"countries\"].update_one({ \"name\" : item.capitalize()}, \n",
    "                                                   {\"$set\":{\"population\" : pais['people']['population']}}, True)\n",
    "    if ('people' in pais.keys()):\n",
    "        if ('age_structure' in pais['people'].keys()):\n",
    "            db[\"countries\"].update_one({ \"name\" : item.capitalize()}, \n",
    "                                                   {\"$set\":{\"age_structure\" : pais['people']['age_structure']}}, True)\n",
    "            \n",
    "    if ('energy' in pais.keys()):\n",
    "        if ('electricity' in pais['energy'].keys()):\n",
    "            db[\"countries\"].update_one({ \"name\" : item.capitalize()}, \n",
    "                                                       {\"$set\":{\"electricity\" : pais['energy']['electricity']}}, True)\n",
    "    if ('flag_description' in pais['government'].keys()):\n",
    "        db[\"countries\"].update_one({ \"name\" : item.capitalize()}, \n",
    "                                                   {\"$set\":{\"flag_description\" : pais['government']['flag_description']}}, True)\n",
    "    if ('executive_branch' in pais['government']):\n",
    "        db[\"countries\"].update_one({ \"name\" : item.capitalize()}, \n",
    "                                                   {\"$set\":{\"executive_branch\" : pais['government']['executive_branch']}}, True)\n",
    "    if ('government_type' in pais['government'].keys()):\n",
    "        db[\"countries\"].update_one({ \"name\" : item.capitalize()}, \n",
    "                                                   {\"$set\":{\"government_type\" : pais['government']['government_type']}}, True)\n",
    "    if ('communications' in pais.keys()):\n",
    "        db[\"countries\"].update_one({ \"name\" : item.capitalize()}, \n",
    "                                                   {\"$set\":{\"comunications\" : pais['communications']}}, True)"
   ]
  },
  {
   "cell_type": "code",
   "execution_count": 8,
   "metadata": {},
   "outputs": [],
   "source": []
  },
  {
   "cell_type": "code",
   "execution_count": 11,
   "metadata": {},
   "outputs": [
    {
     "data": {
      "text/plain": [
       "True"
      ]
     },
     "execution_count": 11,
     "metadata": {},
     "output_type": "execute_result"
    }
   ],
   "source": []
  },
  {
   "cell_type": "code",
   "execution_count": null,
   "metadata": {},
   "outputs": [],
   "source": []
  }
 ],
 "metadata": {
  "kernelspec": {
   "display_name": "Python 3",
   "language": "python",
   "name": "python3"
  },
  "language_info": {
   "codemirror_mode": {
    "name": "ipython",
    "version": 3
   },
   "file_extension": ".py",
   "mimetype": "text/x-python",
   "name": "python",
   "nbconvert_exporter": "python",
   "pygments_lexer": "ipython3",
   "version": "3.7.1"
  }
 },
 "nbformat": 4,
 "nbformat_minor": 4
}
