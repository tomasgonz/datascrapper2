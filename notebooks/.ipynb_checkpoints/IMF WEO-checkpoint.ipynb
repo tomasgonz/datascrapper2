{
 "cells": [
  {
   "cell_type": "code",
   "execution_count": 7,
   "metadata": {},
   "outputs": [],
   "source": [
    "import csv\n",
    "import sys\n",
    "sys.path.append(\"..\")\n",
    "import json\n",
    "import urllib.request\n",
    "from IPython.display import clear_output\n",
    "import sources\n",
    "from countrylist import CountryList\n",
    "from data.Frame import Frame\n",
    "from data.Row import Row\n",
    "from data.Cell import Cell\n",
    "from data.Stats import calculate_weighted_average as wa\n",
    "c = CountryList()\n",
    "c.load_wb()\n",
    "from ldcs.groups import get_regionalized_dataframe as get_rdf"
   ]
  },
  {
   "cell_type": "code",
   "execution_count": 8,
   "metadata": {},
   "outputs": [],
   "source": [
    "WEO_file = 'WEOApr2018all.csv'"
   ]
  },
  {
   "cell_type": "code",
   "execution_count": 11,
   "metadata": {},
   "outputs": [],
   "source": [
    "def get_indicator_ldcs(subject_code, export_to_excel=False):\n",
    "    column_names = []\n",
    "    df = Frame()\n",
    "    with open(WEO_file) as csvfile:\n",
    "        weo_reader = csv.reader(csvfile, delimiter=',', quotechar='\"')\n",
    "        i = next(weo_reader)\n",
    "        for col in i:\n",
    "            column_names.append(col)\n",
    "\n",
    "        column_names[0] = 'WEO_Country_Code'\n",
    "\n",
    "        for r in weo_reader:\n",
    "            dr = Row()\n",
    "            for i in range(0,len(r)):\n",
    "                dr.cells.append(Cell(column=column_names[i], value=r[i]))\n",
    "\n",
    "            df.rows.append(dr)\n",
    "            \n",
    "        df_subject = df.search('WEO Subject Code', subject_code)\n",
    "        df_subject_ldcs = get_rdf(df_subject, 'Country')\n",
    "        \n",
    "        if export_to_excel == True:\n",
    "            df_subject_ldcs.name = \"%s\" % (subject_code)\n",
    "            df_subject_ldcs.to_xlsx()\n",
    "            \n",
    "        return df_subject_ldcs"
   ]
  },
  {
   "cell_type": "code",
   "execution_count": 12,
   "metadata": {},
   "outputs": [
    {
     "data": {
      "text/plain": [
       "<data.Frame.Frame at 0x134cc3390>"
      ]
     },
     "execution_count": 12,
     "metadata": {},
     "output_type": "execute_result"
    }
   ],
   "source": [
    "ggr=get_indicator_ldcs('GGR_NGDP',export_to_excel=True)\n",
    "ggte=get_indicator_ldcs('GGX_NGDP',export_to_excel=True)\n",
    "gdpd=get_indicator_ldcs('NGDPD',export_to_excel=True)"
   ]
  },
  {
   "cell_type": "code",
   "execution_count": null,
   "metadata": {},
   "outputs": [],
   "source": [
    "df_av = wa(df_gdp_cp_growth_ldcs, df_gdp_ppp_usd_ldcs, 'Country')"
   ]
  },
  {
   "cell_type": "code",
   "execution_count": null,
   "metadata": {},
   "outputs": [],
   "source": []
  }
 ],
 "metadata": {
  "kernelspec": {
   "display_name": "python3.6",
   "language": "python",
   "name": "python3.6"
  },
  "language_info": {
   "codemirror_mode": {
    "name": "ipython",
    "version": 3
   },
   "file_extension": ".py",
   "mimetype": "text/x-python",
   "name": "python",
   "nbconvert_exporter": "python",
   "pygments_lexer": "ipython3",
   "version": "3.6.5"
  }
 },
 "nbformat": 4,
 "nbformat_minor": 2
}
