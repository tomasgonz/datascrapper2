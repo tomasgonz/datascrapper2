{
 "cells": [
  {
   "cell_type": "code",
   "execution_count": 1,
   "metadata": {},
   "outputs": [],
   "source": [
    "import sys\n",
    "sys.path.append(\"..\")\n",
    "import json\n",
    "import urllib.request\n",
    "from IPython.display import clear_output\n",
    "import sources\n",
    "import countries\n",
    "from data.Frame import Frame\n",
    "from data.Row import Row\n",
    "from data.Cell import Cell\n",
    "from data.Stats import calculate_weighted_average as wa\n",
    "c = countries.list.CountryList()\n",
    "c.load_wb()\n",
    "from sources.worldbank.indicators import get_data_frame_wide as getdfw\n",
    "import csv\n",
    "from ldcs.groups import get_regionalized_dataframe as get_rdf"
   ]
  },
  {
   "cell_type": "code",
   "execution_count": 2,
   "metadata": {},
   "outputs": [],
   "source": [
    "column_names = []\n",
    "df = Frame()\n",
    "with open('GDPdata_OHRLLS_revised.csv') as csvfile:\n",
    "    reader = csv.reader(csvfile, delimiter=',', quotechar='\"')\n",
    "    i = next(reader)\n",
    "    for col in i:\n",
    "        column_names.append(col)\n",
    "    \n",
    "    column_names[0] = 'Country'\n",
    "    \n",
    "    for r in reader:\n",
    "        dr = Row()\n",
    "        for i in range(0,len(r)):\n",
    "            dr.cells.append(Cell(column=column_names[i], value=r[i]))\n",
    "        \n",
    "        df.rows.append(dr)"
   ]
  },
  {
   "cell_type": "code",
   "execution_count": 3,
   "metadata": {},
   "outputs": [],
   "source": [
    "df_ldcs = get_rdf(df, 'Country')"
   ]
  },
  {
   "cell_type": "code",
   "execution_count": 4,
   "metadata": {},
   "outputs": [],
   "source": [
    "df_ldcs.name = \"GDP\"\n",
    "df_ldcs.to_xlsx()"
   ]
  },
  {
   "cell_type": "code",
   "execution_count": 12,
   "metadata": {},
   "outputs": [],
   "source": [
    "df_odc  = countries.table.get(df, ['Developing excluding LDCs'], 'Country')"
   ]
  },
  {
   "cell_type": "code",
   "execution_count": 13,
   "metadata": {},
   "outputs": [
    {
     "data": {
      "text/plain": [
       "[<data.Row.Row at 0x5c8edd8>,\n",
       " <data.Row.Row at 0x5cabcc0>,\n",
       " <data.Row.Row at 0x56734e0>,\n",
       " <data.Row.Row at 0x5cba6a0>,\n",
       " <data.Row.Row at 0x5692ba8>,\n",
       " <data.Row.Row at 0x56dbe80>,\n",
       " <data.Row.Row at 0x56e2630>,\n",
       " <data.Row.Row at 0x56e6048>,\n",
       " <data.Row.Row at 0x56f8160>,\n",
       " <data.Row.Row at 0x5700ef0>,\n",
       " <data.Row.Row at 0x5676908>,\n",
       " <data.Row.Row at 0x5663320>,\n",
       " <data.Row.Row at 0x5693358>,\n",
       " <data.Row.Row at 0x569c128>,\n",
       " <data.Row.Row at 0x5c8f4e0>,\n",
       " <data.Row.Row at 0x5c8fc50>,\n",
       " <data.Row.Row at 0x5c9e9e8>,\n",
       " <data.Row.Row at 0x5cad748>,\n",
       " <data.Row.Row at 0x5cb18d0>,\n",
       " <data.Row.Row at 0x57202e8>,\n",
       " <data.Row.Row at 0x5722240>,\n",
       " <data.Row.Row at 0x5726da0>,\n",
       " <data.Row.Row at 0x572a780>,\n",
       " <data.Row.Row at 0x572cb38>,\n",
       " <data.Row.Row at 0x5730320>,\n",
       " <data.Row.Row at 0x5732c50>,\n",
       " <data.Row.Row at 0x57395c0>,\n",
       " <data.Row.Row at 0x5745eb8>,\n",
       " <data.Row.Row at 0x574d0b8>,\n",
       " <data.Row.Row at 0x5751240>,\n",
       " <data.Row.Row at 0x5751be0>,\n",
       " <data.Row.Row at 0x5753f98>,\n",
       " <data.Row.Row at 0x5756780>,\n",
       " <data.Row.Row at 0x5756f60>,\n",
       " <data.Row.Row at 0x575a978>,\n",
       " <data.Row.Row at 0x575c198>,\n",
       " <data.Row.Row at 0x575c940>,\n",
       " <data.Row.Row at 0x59600f0>,\n",
       " <data.Row.Row at 0x5963320>,\n",
       " <data.Row.Row at 0x5963cf8>,\n",
       " <data.Row.Row at 0x5966710>,\n",
       " <data.Row.Row at 0x596a898>,\n",
       " <data.Row.Row at 0x596f3c8>,\n",
       " <data.Row.Row at 0x5973550>,\n",
       " <data.Row.Row at 0x5973d30>,\n",
       " <data.Row.Row at 0x5976518>,\n",
       " <data.Row.Row at 0x5976ef0>,\n",
       " <data.Row.Row at 0x597a8d0>,\n",
       " <data.Row.Row at 0x597c0f0>,\n",
       " <data.Row.Row at 0x597cac8>,\n",
       " <data.Row.Row at 0x5983668>,\n",
       " <data.Row.Row at 0x5987080>,\n",
       " <data.Row.Row at 0x5987a20>,\n",
       " <data.Row.Row at 0x598a400>,\n",
       " <data.Row.Row at 0x598ada0>,\n",
       " <data.Row.Row at 0x5990198>,\n",
       " <data.Row.Row at 0x5990940>,\n",
       " <data.Row.Row at 0x5992320>,\n",
       " <data.Row.Row at 0x5992cf8>,\n",
       " <data.Row.Row at 0x5998a90>,\n",
       " <data.Row.Row at 0x599b4a8>,\n",
       " <data.Row.Row at 0x599be80>,\n",
       " <data.Row.Row at 0x599d898>,\n",
       " <data.Row.Row at 0x59a1278>,\n",
       " <data.Row.Row at 0x59a1c18>]"
      ]
     },
     "execution_count": 13,
     "metadata": {},
     "output_type": "execute_result"
    }
   ],
   "source": [
    "df_odc.to_xlsx()"
   ]
  },
  {
   "cell_type": "code",
   "execution_count": 11,
   "metadata": {},
   "outputs": [
    {
     "data": {
      "text/plain": [
       "[<countries.country.Country at 0x5674828>,\n",
       " <countries.country.Country at 0x56749e8>,\n",
       " <countries.country.Country at 0x5674a20>,\n",
       " <countries.country.Country at 0x5674a58>,\n",
       " <countries.country.Country at 0x5674a90>,\n",
       " <countries.country.Country at 0x5674ac8>,\n",
       " <countries.country.Country at 0x5674b70>,\n",
       " <countries.country.Country at 0x5674da0>,\n",
       " <countries.country.Country at 0x5674eb8>,\n",
       " <countries.country.Country at 0x5674f60>,\n",
       " <countries.country.Country at 0x5674f98>,\n",
       " <countries.country.Country at 0x5674fd0>,\n",
       " <countries.country.Country at 0x567d048>,\n",
       " <countries.country.Country at 0x567d0f0>,\n",
       " <countries.country.Country at 0x567d2e8>,\n",
       " <countries.country.Country at 0x567d320>,\n",
       " <countries.country.Country at 0x567d400>,\n",
       " <countries.country.Country at 0x567d4a8>,\n",
       " <countries.country.Country at 0x567d518>,\n",
       " <countries.country.Country at 0x567d550>,\n",
       " <countries.country.Country at 0x567d5f8>,\n",
       " <countries.country.Country at 0x567d668>,\n",
       " <countries.country.Country at 0x567d6a0>,\n",
       " <countries.country.Country at 0x567d860>,\n",
       " <countries.country.Country at 0x567d978>,\n",
       " <countries.country.Country at 0x567da90>,\n",
       " <countries.country.Country at 0x567dbe0>,\n",
       " <countries.country.Country at 0x567de10>,\n",
       " <countries.country.Country at 0x567df28>,\n",
       " <countries.country.Country at 0x567df98>,\n",
       " <countries.country.Country at 0x567dfd0>,\n",
       " <countries.country.Country at 0x5682128>,\n",
       " <countries.country.Country at 0x5682198>,\n",
       " <countries.country.Country at 0x5682208>,\n",
       " <countries.country.Country at 0x5682240>,\n",
       " <countries.country.Country at 0x5682278>,\n",
       " <countries.country.Country at 0x5682320>,\n",
       " <countries.country.Country at 0x5682550>,\n",
       " <countries.country.Country at 0x56825f8>,\n",
       " <countries.country.Country at 0x56826d8>,\n",
       " <countries.country.Country at 0x5682748>,\n",
       " <countries.country.Country at 0x56827b8>,\n",
       " <countries.country.Country at 0x56827f0>,\n",
       " <countries.country.Country at 0x5682860>,\n",
       " <countries.country.Country at 0x5682898>,\n",
       " <countries.country.Country at 0x56829e8>,\n",
       " <countries.country.Country at 0x5682a90>,\n",
       " <countries.country.Country at 0x5682b00>,\n",
       " <countries.country.Country at 0x5682c88>,\n",
       " <countries.country.Country at 0x5682eb8>,\n",
       " <countries.country.Country at 0x5687048>,\n",
       " <countries.country.Country at 0x56870b8>,\n",
       " <countries.country.Country at 0x56872b0>,\n",
       " <countries.country.Country at 0x56872e8>,\n",
       " <countries.country.Country at 0x5687390>,\n",
       " <countries.country.Country at 0x5687400>,\n",
       " <countries.country.Country at 0x56874a8>,\n",
       " <countries.country.Country at 0x56874e0>,\n",
       " <countries.country.Country at 0x5687550>,\n",
       " <countries.country.Country at 0x5687588>,\n",
       " <countries.country.Country at 0x56876d8>,\n",
       " <countries.country.Country at 0x56877b8>,\n",
       " <countries.country.Country at 0x5687828>,\n",
       " <countries.country.Country at 0x5687860>,\n",
       " <countries.country.Country at 0x5687898>,\n",
       " <countries.country.Country at 0x56878d0>,\n",
       " <countries.country.Country at 0x5687908>,\n",
       " <countries.country.Country at 0x5687940>,\n",
       " <countries.country.Country at 0x56879e8>,\n",
       " <countries.country.Country at 0x5687a90>,\n",
       " <countries.country.Country at 0x5687b70>,\n",
       " <countries.country.Country at 0x5687ba8>,\n",
       " <countries.country.Country at 0x5687d30>,\n",
       " <countries.country.Country at 0x5687dd8>,\n",
       " <countries.country.Country at 0x5687e10>,\n",
       " <countries.country.Country at 0x5687eb8>,\n",
       " <countries.country.Country at 0x568a0f0>,\n",
       " <countries.country.Country at 0x568a278>,\n",
       " <countries.country.Country at 0x568a2e8>,\n",
       " <countries.country.Country at 0x568a400>,\n",
       " <countries.country.Country at 0x568a438>,\n",
       " <countries.country.Country at 0x568a470>,\n",
       " <countries.country.Country at 0x568a550>,\n",
       " <countries.country.Country at 0x568a5f8>,\n",
       " <countries.country.Country at 0x568a630>,\n",
       " <countries.country.Country at 0x568a668>,\n",
       " <countries.country.Country at 0x568a7f0>,\n",
       " <countries.country.Country at 0x568a860>,\n",
       " <countries.country.Country at 0x568a908>,\n",
       " <countries.country.Country at 0x568ab00>,\n",
       " <countries.country.Country at 0x568ab70>]"
      ]
     },
     "execution_count": 11,
     "metadata": {},
     "output_type": "execute_result"
    }
   ],
   "source": [
    "c.get_groups(['Developing excluding LDCs'])"
   ]
  },
  {
   "cell_type": "code",
   "execution_count": null,
   "metadata": {},
   "outputs": [],
   "source": []
  },
  {
   "cell_type": "code",
   "execution_count": null,
   "metadata": {},
   "outputs": [],
   "source": []
  }
 ],
 "metadata": {
  "kernelspec": {
   "display_name": "Python 3",
   "language": "python",
   "name": "python3"
  },
  "language_info": {
   "codemirror_mode": {
    "name": "ipython",
    "version": 3
   },
   "file_extension": ".py",
   "mimetype": "text/x-python",
   "name": "python",
   "nbconvert_exporter": "python",
   "pygments_lexer": "ipython3",
   "version": "3.7.0"
  }
 },
 "nbformat": 4,
 "nbformat_minor": 2
}
