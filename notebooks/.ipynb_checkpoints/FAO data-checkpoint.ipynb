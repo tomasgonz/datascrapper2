{
 "cells": [
  {
   "cell_type": "code",
   "execution_count": 1,
   "metadata": {},
   "outputs": [],
   "source": [
    "import sys\n",
    "sys.path.append(\"..\")\n",
    "import json\n",
    "import re\n",
    "import requests\n",
    "import sources\n",
    "from data.Frame import Frame\n",
    "from sources.fao.utils import json_to_frame\n",
    "from sources.fao.data import get_country_code\n",
    "from countries.list import CountryList\n",
    "c = CountryList()\n",
    "c.load_wb()\n",
    "c.load_fao_code()"
   ]
  },
  {
   "cell_type": "code",
   "execution_count": null,
   "metadata": {},
   "outputs": [],
   "source": [
    "domains = sources.fao.data.get_domains()\n",
    "sources.fao.data.load_countries()\n",
    "countries = sources.fao.data.countries"
   ]
  },
  {
   "cell_type": "code",
   "execution_count": null,
   "metadata": {},
   "outputs": [],
   "source": [
    "area = '7'\n",
    "area_cs = 'FAO'\n",
    "element = '6110'\n",
    "item = '22008'\n",
    "year = '2016'\n",
    "domain= 'MK'\n",
    "page_size='99000'\n",
    "url_base = 'http://fenixservices.fao.org/faostat/api/v1/en/data/'\n",
    "url = ('%s%s?area=%s&element=%s&area_cs=%s&item=%s&year=%s&page_size=%s' \n",
    "       % (url_base, domain, area, element, area_cs, item, year, page_size))"
   ]
  },
  {
   "cell_type": "code",
   "execution_count": null,
   "metadata": {},
   "outputs": [],
   "source": [
    "url"
   ]
  },
  {
   "cell_type": "code",
   "execution_count": null,
   "metadata": {},
   "outputs": [],
   "source": [
    "data = json_to_frame(requests.get(url, json=json_parameters).json())"
   ]
  },
  {
   "cell_type": "code",
   "execution_count": null,
   "metadata": {},
   "outputs": [],
   "source": [
    "for d in data.rows:\n",
    "    d.print()"
   ]
  },
  {
   "cell_type": "code",
   "execution_count": null,
   "metadata": {},
   "outputs": [],
   "source": [
    "countries.get_column_names()"
   ]
  },
  {
   "cell_type": "code",
   "execution_count": null,
   "metadata": {},
   "outputs": [],
   "source": [
    "sources.fao.data.countries"
   ]
  },
  {
   "cell_type": "code",
   "execution_count": null,
   "metadata": {},
   "outputs": [],
   "source": []
  }
 ],
 "metadata": {
  "kernelspec": {
   "display_name": "Python 3",
   "language": "python",
   "name": "python3"
  },
  "language_info": {
   "codemirror_mode": {
    "name": "ipython",
    "version": 3
   },
   "file_extension": ".py",
   "mimetype": "text/x-python",
   "name": "python",
   "nbconvert_exporter": "python",
   "pygments_lexer": "ipython3",
   "version": "3.7.1"
  }
 },
 "nbformat": 4,
 "nbformat_minor": 2
}
