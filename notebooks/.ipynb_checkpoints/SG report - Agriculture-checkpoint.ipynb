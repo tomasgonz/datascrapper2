{
 "cells": [
  {
   "cell_type": "code",
   "execution_count": 1,
   "metadata": {},
   "outputs": [],
   "source": [
    "import sys\n",
    "sys.path.append(\"..\")\n",
    "import json\n",
    "import urllib.request\n",
    "from IPython.display import clear_output\n",
    "import sources\n",
    "from countries.list import CountryList\n",
    "from countries.utils import extract_countries\n",
    "from data.Frame import Frame\n",
    "from data.Row import Row\n",
    "from data.Cell import Cell\n",
    "from data.Stats import calculate_weighted_average as wa\n",
    "c = CountryList()\n",
    "c.load_wb()\n",
    "from sources.worldbank.indicators import get_data_frame_wide as getdfw\n",
    "from sources.worldbank.datatable import get_data_table"
   ]
  },
  {
   "cell_type": "code",
   "execution_count": 5,
   "metadata": {},
   "outputs": [],
   "source": [
    "years = [\"2017\"]\n",
    "indicator = 'NV.AGR.TOTL.ZS'\n",
    "weight = 'NY.GDP.MKTP.CD'\n",
    "groups_ldcs=[['LDCs']]\n",
    "#groups=[['Developing excluding LDCs']]"
   ]
  },
  {
   "cell_type": "code",
   "execution_count": 6,
   "metadata": {},
   "outputs": [],
   "source": [
    "data_ldcs = get_data_table(years, indicator, groups_ldcs, export_to_excel=False)\n",
    "weight_ldcs = get_data_table(years, weight, groups_ldcs, export_to_excel=False)\n",
    "df_ldcs_w = wa(data_ldcs, weight_ldcs, 'entity' )\n",
    "df_ldcs_w.to_xlsx()"
   ]
  },
  {
   "cell_type": "code",
   "execution_count": null,
   "metadata": {},
   "outputs": [],
   "source": [
    "# Rural population\n",
    "start = 2000\n",
    "end = 2018\n",
    "indicator = 'SP.RUR.TOTL.ZS'\n",
    "weight = 'SP.POP.TOTL'\n",
    "groups_ldcs=[['LDCs', 'Africa'],['LDCs', 'Asia and the Pacific'],['LDCs', 'America']]\n",
    "groups=[['Developing excluding LDCs']]\n",
    "\n",
    "data_ldcs = get_data_table(start, end, indicator, groups_ldcs, export_to_excel=False)\n",
    "weight_ldcs = get_data_table(start, end, weight, groups_ldcs, export_to_excel=False)\n",
    "\n",
    "df_ldcs_w = wa(data_ldcs, weight_ldcs, 'entity' )\n",
    "df_ldcs_w.to_xlsx()"
   ]
  },
  {
   "cell_type": "code",
   "execution_count": null,
   "metadata": {},
   "outputs": [],
   "source": [
    "# Added value of agriculture as a percentage of GDP\n",
    "start = 2000\n",
    "end = 2018\n",
    "indicator = 'NV.AGR.TOTL.ZS'\n",
    "weight = 'NY.GDP.MKTP.CD'\n",
    "groups_ldcs=[['LDCs', 'Africa'],['LDCs', 'Asia and the Pacific'],['LDCs', 'America']]\n",
    "groups=[['Developing excluding LDCs']]\n",
    "\n",
    "data_ldcs = get_data_table(start, end, indicator, groups_ldcs, export_to_excel=False)\n",
    "weight_ldcs = get_data_table(start, end, weight, groups_ldcs, export_to_excel=False)\n",
    "\n",
    "df_ldcs_w = wa(data_ldcs, weight_ldcs, 'entity' )\n",
    "df_ldcs_w.to_xlsx()"
   ]
  },
  {
   "cell_type": "code",
   "execution_count": null,
   "metadata": {},
   "outputs": [],
   "source": [
    "# Employment in agriculture\n",
    "start = 2000\n",
    "end = 2018\n",
    "indicator = 'SL.AGR.EMPL.ZS'\n",
    "weight = 'SP.RUR.TOTL'\n",
    "groups_ldcs=[['LDCs', 'Africa'],['LDCs', 'Asia and the Pacific'],['LDCs', 'America']]\n",
    "groups=[['Developing excluding LDCs']]\n",
    "\n",
    "data_ldcs = get_data_table(start, end, indicator, groups_ldcs, export_to_excel=False)\n",
    "weight_ldcs = get_data_table(start, end, weight, groups_ldcs, export_to_excel=False)\n",
    "df_ldcs_w = wa(data_ldcs, weight_ldcs, 'entity' )\n",
    "df_ldcs_w.to_xlsx()"
   ]
  },
  {
   "cell_type": "code",
   "execution_count": null,
   "metadata": {},
   "outputs": [],
   "source": [
    "# Arable land below 5 metrs\n",
    "start = 2000\n",
    "end = 2018\n",
    "indicator = 'AG.LND.EL5M.RU.ZS'\n",
    "weight = 'AG.LND.TOTL.K2'\n",
    "groups_ldcs=[['LDCs', 'Africa'],['LDCs', 'Asia and the Pacific'],['LDCs', 'America']]\n",
    "groups=[['Developing excluding LDCs']]\n",
    "\n",
    "data_ldcs = get_data_table(start, end, indicator, groups_ldcs, export_to_excel=False)\n",
    "weight_ldcs = get_data_table(start, end, weight, groups_ldcs, export_to_excel=False)\n",
    "\n",
    "df_ldcs_w = wa(data_ldcs, weight_ldcs, 'entity' )\n",
    "df_ldcs_w.to_xlsx()"
   ]
  },
  {
   "cell_type": "code",
   "execution_count": 3,
   "metadata": {},
   "outputs": [
    {
     "ename": "TypeError",
     "evalue": "get_data_table() got multiple values for argument 'export_to_excel'",
     "output_type": "error",
     "traceback": [
      "\u001b[0;31m---------------------------------------------------------------------------\u001b[0m",
      "\u001b[0;31mTypeError\u001b[0m                                 Traceback (most recent call last)",
      "\u001b[0;32m<ipython-input-3-de54c53b946b>\u001b[0m in \u001b[0;36m<module>\u001b[0;34m\u001b[0m\n\u001b[1;32m      8\u001b[0m \u001b[0mgroups\u001b[0m\u001b[0;34m=\u001b[0m\u001b[0;34m[\u001b[0m\u001b[0;34m[\u001b[0m\u001b[0;34m'Developing excluding LDCs'\u001b[0m\u001b[0;34m]\u001b[0m\u001b[0;34m]\u001b[0m\u001b[0;34m\u001b[0m\u001b[0;34m\u001b[0m\u001b[0m\n\u001b[1;32m      9\u001b[0m \u001b[0;34m\u001b[0m\u001b[0m\n\u001b[0;32m---> 10\u001b[0;31m \u001b[0mdata_ldcs\u001b[0m \u001b[0;34m=\u001b[0m \u001b[0mget_data_table\u001b[0m\u001b[0;34m(\u001b[0m\u001b[0mstart\u001b[0m\u001b[0;34m,\u001b[0m \u001b[0mend\u001b[0m\u001b[0;34m,\u001b[0m \u001b[0mindicator\u001b[0m\u001b[0;34m,\u001b[0m \u001b[0mgroups_ldcs\u001b[0m\u001b[0;34m,\u001b[0m \u001b[0mexport_to_excel\u001b[0m\u001b[0;34m=\u001b[0m\u001b[0;32mFalse\u001b[0m\u001b[0;34m)\u001b[0m\u001b[0;34m\u001b[0m\u001b[0;34m\u001b[0m\u001b[0m\n\u001b[0m\u001b[1;32m     11\u001b[0m \u001b[0mweight_ldcs\u001b[0m \u001b[0;34m=\u001b[0m \u001b[0mget_data_table\u001b[0m\u001b[0;34m(\u001b[0m\u001b[0mstart\u001b[0m\u001b[0;34m,\u001b[0m \u001b[0mend\u001b[0m\u001b[0;34m,\u001b[0m \u001b[0mweight\u001b[0m\u001b[0;34m,\u001b[0m \u001b[0mgroups_ldcs\u001b[0m\u001b[0;34m,\u001b[0m \u001b[0mexport_to_excel\u001b[0m\u001b[0;34m=\u001b[0m\u001b[0;32mFalse\u001b[0m\u001b[0;34m)\u001b[0m\u001b[0;34m\u001b[0m\u001b[0;34m\u001b[0m\u001b[0m\n\u001b[1;32m     12\u001b[0m \u001b[0;34m\u001b[0m\u001b[0m\n",
      "\u001b[0;31mTypeError\u001b[0m: get_data_table() got multiple values for argument 'export_to_excel'"
     ]
    }
   ],
   "source": [
    "# Fertilizer consumption\n",
    "years  = [\"2011\", \"2012\", \"2013\", \"2014\", \"2015\", \"2016\", \"2017\", \"2018\"]\n",
    "# Fertilizer consumption (kilograms per hectare of arable land)\n",
    "indicator = 'AG.CON.FERT.ZS'\n",
    "# Arable land, hectares\n",
    "weight = 'AG.LND.ARBL.HA'\n",
    "groups_ldcs=[['LDCs', 'Africa'],['LDCs', 'Asia and the Pacific'],['LDCs', 'America']]\n",
    "groups=[['Developing excluding LDCs']]\n",
    "\n",
    "data_ldcs = get_data_table(years, indicator, groups_ldcs, export_to_excel=False)\n",
    "weight_ldcs = get_data_table(years, weight, groups_ldcs, export_to_excel=False)\n",
    "\n",
    "df_ldcs_w = wa(data_ldcs, weight_ldcs, 'entity' )\n",
    "df_ldcs_w.to_xlsx()"
   ]
  },
  {
   "cell_type": "code",
   "execution_count": null,
   "metadata": {},
   "outputs": [],
   "source": [
    "years = [\"2018\",\"2017\"]\n",
    "\";\".join(years)"
   ]
  },
  {
   "cell_type": "code",
   "execution_count": null,
   "metadata": {},
   "outputs": [],
   "source": [
    "years.sort()"
   ]
  },
  {
   "cell_type": "code",
   "execution_count": null,
   "metadata": {},
   "outputs": [],
   "source": [
    "years"
   ]
  },
  {
   "cell_type": "code",
   "execution_count": null,
   "metadata": {},
   "outputs": [],
   "source": []
  }
 ],
 "metadata": {
  "kernelspec": {
   "display_name": "Python 3",
   "language": "python",
   "name": "python3"
  },
  "language_info": {
   "codemirror_mode": {
    "name": "ipython",
    "version": 3
   },
   "file_extension": ".py",
   "mimetype": "text/x-python",
   "name": "python",
   "nbconvert_exporter": "python",
   "pygments_lexer": "ipython3",
   "version": "3.7.1"
  }
 },
 "nbformat": 4,
 "nbformat_minor": 2
}
