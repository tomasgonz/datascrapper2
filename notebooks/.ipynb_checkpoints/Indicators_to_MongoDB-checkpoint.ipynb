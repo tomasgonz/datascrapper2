{
 "cells": [
  {
   "cell_type": "code",
   "execution_count": 2,
   "metadata": {},
   "outputs": [],
   "source": [
    "import sys\n",
    "sys.path.append(\"..\")\n",
    "from sources import *\n",
    "import os\n",
    "from IPython.display import clear_output\n",
    "from pymongo import MongoClient\n",
    "import db\n",
    "client = MongoClient('localhost', 27017)\n",
    "db = client[\"stats\"]\n",
    "import time"
   ]
  },
  {
   "cell_type": "code",
   "execution_count": 3,
   "metadata": {},
   "outputs": [],
   "source": [
    "from sources import worldbank as wb\n",
    "wb.indicators.load_all()"
   ]
  },
  {
   "cell_type": "code",
   "execution_count": 4,
   "metadata": {},
   "outputs": [
    {
     "data": {
      "text/plain": [
       "'DP.DOD.DLD2A.CR.CG.CD'"
      ]
     },
     "execution_count": 4,
     "metadata": {},
     "output_type": "execute_result"
    }
   ],
   "source": [
    "wb.indicators.Indicators[2000].name"
   ]
  },
  {
   "cell_type": "code",
   "execution_count": 25,
   "metadata": {},
   "outputs": [],
   "source": [
    "indicators_to_retrieve = [\"FS.AST.DOMS.GD.ZS\",\n",
    "                               \"SI.POV.DDAY\",\n",
    "                               \"EG.USE.ELEC.KH.PC\",\n",
    "                               \"FB.AST.NPER.ZS\",\n",
    "                               \"FS.AST.DOMS.GD.ZS\",\n",
    "                               \"AG.LND.IRIG.AG.ZS\",\n",
    "                               \"EG.ELC.ACCS.ZS\",\n",
    "                               \"NV.AGR.TOTL.ZS\",\n",
    "                               \"IT.CEL.SETS.P2\",\n",
    "                               \"NY.GDP.PCAP.CD\",\n",
    "                               \"NY.GNP.PCAP.CD\",\n",
    "                               \"EG.IMP.CONS.ZS\",\n",
    "                               \"BX.TRF.PWKR.CD.DT\",\n",
    "                               \"NE.EXP.GNFS.ZS\",\n",
    "                               \"EN.ATM.CO2E.PC\",\n",
    "                               \"SI.POV.DDAY\",\n",
    "                               \"EG.USE.ELEC.KH.PC\",\n",
    "                               \"FB.AST.NPER.ZS\",\n",
    "                               \"SP.POP.TOTL\",\n",
    "                               \"NY.GDP.MKTP.KD.ZG\",\n",
    "                               \"NV.IND.MANF.ZS\",\n",
    "                               \"EG.ELC.ACCS.ZS\",\n",
    "                               \"IT.NET.USER.P2\",\n",
    "                               \"TX.VAL.FUEL.ZS.UN\",\n",
    "                               \"SE.ADT.LITR.ZS\",\n",
    "                               \"SH.H2O.SAFE.ZS\",\n",
    "                               \"SH.H2O.SAFE.RU.ZS\",\n",
    "                               \"SH.H2O.SAFE.UR.ZS\",\n",
    "                               \"SG.GEN.PARL.ZS\",\n",
    "                               \"BX.KLT.DINV.CD.WD\",\n",
    "                               \"BX.TRF.PWKR.CD.DT\",\n",
    "                               \"DT.ODA.ODAT.CD\",\n",
    "                               \"AG.LND.FRST.ZS\",\n",
    "                               \"EN.ATM.CO2E.PC\",\n",
    "                               \"GC.TAX.TOTL.GD.ZS\",\n",
    "                               \"BN.CAB.XOKA.CD\",\n",
    "                               \"DT.DOD.DECT.CD\",\n",
    "                               \"BX.KLT.DINV.CD.WD\",\n",
    "                               \"BX.KLT.DINV.CD.WD\",\n",
    "                               \"DT.TDS.DECT.EX.ZS\",\n",
    "                               \"NE.GDI.TOTL.ZS\",\n",
    "                               \"NV.SRV.TETC.ZS\",\n",
    "                               \"BG.GSR.NFSV.GD.ZS\",\n",
    "                               \"FI.RES.TOTL.CD\",\n",
    "                               \"SH.STA.ACSN\",\n",
    "                               \"SH.DYN.MORT\",\n",
    "                               \"SE.ADT.LITR.ZS\",\n",
    "                               \"SE.ADT.1524.LT.ZS\",\n",
    "                               \"SL.UEM.TOTL.FE.ZS\",\n",
    "                               \"SL.UEM.TOTL.MA.ZS\",\n",
    "                               \"SL.UEM.TOTL.ZS\",\n",
    "                               \"SE.PRM.CMPT.FE.ZS\",\n",
    "                               \"FI.RES.TOTL.CD\",\n",
    "                               \"FS.AST.PRVT.GD.ZS\",\n",
    "                               \"GC.XPN.TOTL.GD.ZS\",\n",
    "                               \"EG.IMP.CONS.ZS\",\n",
    "                               \"TX.VAL.TECH.MF.ZS\",\n",
    "                               \"TX.VAL.ICTG.ZS.UN\",\n",
    "                               \"TM.VAL.ICTG.ZS.UN\",\n",
    "                               \"NE.IMP.GNFS.ZS\"]"
   ]
  },
  {
   "cell_type": "code",
   "execution_count": 26,
   "metadata": {},
   "outputs": [
    {
     "name": "stdout",
     "output_type": "stream",
     "text": [
      "AG.LND.FRST.ZS\n"
     ]
    },
    {
     "ename": "KeyError",
     "evalue": "'years'",
     "output_type": "error",
     "traceback": [
      "\u001b[0;31m---------------------------------------------------------------------------\u001b[0m",
      "\u001b[0;31mKeyError\u001b[0m                                  Traceback (most recent call last)",
      "\u001b[0;32m<ipython-input-26-a7cb120a778c>\u001b[0m in \u001b[0;36m<module>\u001b[0;34m\u001b[0m\n\u001b[1;32m      5\u001b[0m     \u001b[0;32mif\u001b[0m \u001b[0mind\u001b[0m\u001b[0;34m.\u001b[0m\u001b[0mname\u001b[0m \u001b[0;32min\u001b[0m \u001b[0mindicators_to_retrieve\u001b[0m\u001b[0;34m:\u001b[0m\u001b[0;34m\u001b[0m\u001b[0m\n\u001b[1;32m      6\u001b[0m         \u001b[0mprint\u001b[0m \u001b[0;34m(\u001b[0m\u001b[0mind\u001b[0m\u001b[0;34m.\u001b[0m\u001b[0mname\u001b[0m\u001b[0;34m)\u001b[0m\u001b[0;34m\u001b[0m\u001b[0m\n\u001b[0;32m----> 7\u001b[0;31m         \u001b[0mdata\u001b[0m \u001b[0;34m=\u001b[0m \u001b[0mwb\u001b[0m\u001b[0;34m.\u001b[0m\u001b[0mindicators\u001b[0m\u001b[0;34m.\u001b[0m\u001b[0mget\u001b[0m\u001b[0;34m(\u001b[0m\u001b[0mname\u001b[0m\u001b[0;34m=\u001b[0m\u001b[0mind\u001b[0m\u001b[0;34m.\u001b[0m\u001b[0mname\u001b[0m\u001b[0;34m,\u001b[0m \u001b[0mstart\u001b[0m\u001b[0;34m=\u001b[0m\u001b[0mstart\u001b[0m\u001b[0;34m,\u001b[0m \u001b[0mend\u001b[0m\u001b[0;34m=\u001b[0m\u001b[0mend\u001b[0m\u001b[0;34m)\u001b[0m\u001b[0;34m\u001b[0m\u001b[0m\n\u001b[0m\u001b[1;32m      8\u001b[0m         \u001b[0mprint\u001b[0m \u001b[0;34m(\u001b[0m\u001b[0mdata\u001b[0m\u001b[0;34m[\u001b[0m\u001b[0;34m'name'\u001b[0m\u001b[0;34m]\u001b[0m\u001b[0;34m)\u001b[0m\u001b[0;34m\u001b[0m\u001b[0m\n\u001b[1;32m      9\u001b[0m         \u001b[0mprint\u001b[0m \u001b[0;34m(\u001b[0m\u001b[0mdata\u001b[0m\u001b[0;34m[\u001b[0m\u001b[0;34m'description'\u001b[0m\u001b[0;34m]\u001b[0m\u001b[0;34m)\u001b[0m\u001b[0;34m\u001b[0m\u001b[0m\n",
      "\u001b[0;32m~/Dropbox/Coding/datascrapper2/sources/worldbank/indicators.py\u001b[0m in \u001b[0;36mget\u001b[0;34m(**kwargs)\u001b[0m\n\u001b[1;32m     54\u001b[0m \u001b[0;34m\u001b[0m\u001b[0m\n\u001b[1;32m     55\u001b[0m     \u001b[0;31m# Get dates\u001b[0m\u001b[0;34m\u001b[0m\u001b[0;34m\u001b[0m\u001b[0m\n\u001b[0;32m---> 56\u001b[0;31m     \u001b[0myears\u001b[0m \u001b[0;34m=\u001b[0m \u001b[0mkwargs\u001b[0m\u001b[0;34m[\u001b[0m\u001b[0;34m'years'\u001b[0m\u001b[0;34m]\u001b[0m\u001b[0;34m\u001b[0m\u001b[0m\n\u001b[0m\u001b[1;32m     57\u001b[0m     \u001b[0myears\u001b[0m\u001b[0;34m.\u001b[0m\u001b[0msort\u001b[0m\u001b[0;34m(\u001b[0m\u001b[0;34m)\u001b[0m\u001b[0;34m\u001b[0m\u001b[0m\n\u001b[1;32m     58\u001b[0m \u001b[0;34m\u001b[0m\u001b[0m\n",
      "\u001b[0;31mKeyError\u001b[0m: 'years'"
     ]
    }
   ],
   "source": [
    "i = 0\n",
    "j = 0\n",
    "years=list(range(2000,2010))\n",
    "for ind in wb.indicators.Indicators:\n",
    "    if ind.name in indicators_to_retrieve:\n",
    "        print (ind.name)\n",
    "        data = wb.indicators.get(name=ind.name, years=years)\n",
    "        print (data['name'])\n",
    "        print (data['description'])\n",
    "        print (data['years'])\n",
    "        time.sleep(5)\n",
    "        try:\n",
    "            db[\"indicators\"].update_one({ \"name\" : data['name']}, \n",
    "                           {\"$set\":{\"name\" : data['name'], \n",
    "                                    \"description\" : data['description'], \n",
    "                                    \"years\" : data['years'], \n",
    "                                    \"sourceNote\" : ind.sourcenote,\n",
    "                                    \"connector\" : data['source'],\n",
    "                                    \"datasource\" : ind.datasource,\n",
    "                                    \"sourceurl\" : data['sourceurl'], \n",
    "                                    'data' : data['data']}}, True)\n",
    "            \n",
    "            \n",
    "        \n",
    "        except ValueError:\n",
    "            pass"
   ]
  },
  {
   "cell_type": "code",
   "execution_count": null,
   "metadata": {},
   "outputs": [],
   "source": [
    "import urllib\n",
    "import json\n",
    "url = 'http://api.worldbank.org/indicators?format=json&per_page=' + \\\n",
    "        str(20000)\n",
    "\n",
    "response = urllib.request.urlopen(url)\n",
    "data = response.read().decode('utf-8')\n",
    "data = json.loads(data)\n"
   ]
  },
  {
   "cell_type": "code",
   "execution_count": null,
   "metadata": {},
   "outputs": [],
   "source": [
    "print(data[1][0])"
   ]
  },
  {
   "cell_type": "code",
   "execution_count": null,
   "metadata": {},
   "outputs": [],
   "source": []
  }
 ],
 "metadata": {
  "kernelspec": {
   "display_name": "Python 3",
   "language": "python",
   "name": "python3"
  },
  "language_info": {
   "codemirror_mode": {
    "name": "ipython",
    "version": 3
   },
   "file_extension": ".py",
   "mimetype": "text/x-python",
   "name": "python",
   "nbconvert_exporter": "python",
   "pygments_lexer": "ipython3",
   "version": "3.7.0"
  }
 },
 "nbformat": 4,
 "nbformat_minor": 4
}
