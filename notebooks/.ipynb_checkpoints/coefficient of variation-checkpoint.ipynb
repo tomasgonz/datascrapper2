{
 "cells": [
  {
   "cell_type": "code",
   "execution_count": 12,
   "metadata": {},
   "outputs": [],
   "source": [
    "import sys\n",
    "sys.path.append(\"..\")\n",
    "import json\n",
    "import urllib.request\n",
    "from IPython.display import clear_output\n",
    "import sources\n",
    "from countries.list import CountryList\n",
    "from data.Frame import Frame\n",
    "from data.Row import Row\n",
    "from data.Cell import Cell\n",
    "from data.Stats import calculate_weighted_average as wa\n",
    "c = CountryList()\n",
    "c.load_wb()\n",
    "from sources.worldbank.indicators import get_data_frame_wide as getdfw"
   ]
  },
  {
   "cell_type": "code",
   "execution_count": 15,
   "metadata": {},
   "outputs": [],
   "source": [
    "start = 2000\n",
    "end = 2018\n",
    "indicator = 'NY.GDP.MKTP.KD'\n",
    "#weight = 'SP.POP.TOTL'\n",
    "groups=[['LDCs']]\n",
    "groups_odc=[['Developing excluding LDCs']]\n",
    "\n",
    "groups_of_groups = [groups, groups_odc]\n"
   ]
  },
  {
   "cell_type": "code",
   "execution_count": 16,
   "metadata": {},
   "outputs": [],
   "source": [
    "for gg in groups_of_groups:    \n",
    "    for g in gg:        \n",
    "        df_data = getdfw(name=indicator, \n",
    "                        start=start, end=end, \n",
    "                        countries=c.get_groups(g),\n",
    "                        label_field='entity',\n",
    "                        value_field='value',\n",
    "                        column_field='date'\n",
    "                        )\n",
    "    df_data.name = ' '.join(str(e) for e in gg) + \"-\" + indicator + \"-\" + str(start) + \"-\" + str(end)\n",
    "    df_data.to_xlsx()"
   ]
  },
  {
   "cell_type": "code",
   "execution_count": null,
   "metadata": {},
   "outputs": [],
   "source": []
  }
 ],
 "metadata": {
  "kernelspec": {
   "display_name": "Python 3",
   "language": "python",
   "name": "python3"
  },
  "language_info": {
   "codemirror_mode": {
    "name": "ipython",
    "version": 3
   },
   "file_extension": ".py",
   "mimetype": "text/x-python",
   "name": "python",
   "nbconvert_exporter": "python",
   "pygments_lexer": "ipython3",
   "version": "3.7.0"
  }
 },
 "nbformat": 4,
 "nbformat_minor": 2
}
