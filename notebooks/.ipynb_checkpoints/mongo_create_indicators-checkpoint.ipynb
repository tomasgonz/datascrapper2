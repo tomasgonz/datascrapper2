{
 "cells": [
  {
   "cell_type": "code",
   "execution_count": 1,
   "metadata": {},
   "outputs": [],
   "source": [
    "import sys\n",
    "sys.path.append(\"..\")\n",
    "from sources import *\n",
    "import os\n",
    "from IPython.display import clear_output\n",
    "from pymongo import MongoClient\n",
    "import db\n",
    "client = MongoClient('localhost', 27017)\n",
    "db = client[\"stats\"]\n",
    "import time"
   ]
  },
  {
   "cell_type": "code",
   "execution_count": 2,
   "metadata": {},
   "outputs": [],
   "source": [
    "from sources import worldbank as wb\n",
    "wb.indicators.load_all()"
   ]
  },
  {
   "cell_type": "code",
   "execution_count": 3,
   "metadata": {},
   "outputs": [
    {
     "data": {
      "text/plain": [
       "'DP.DOD.DLD2A.CR.CG.CD'"
      ]
     },
     "execution_count": 3,
     "metadata": {},
     "output_type": "execute_result"
    }
   ],
   "source": [
    "wb.indicators.Indicators[2000].name"
   ]
  },
  {
   "cell_type": "code",
   "execution_count": 4,
   "metadata": {},
   "outputs": [],
   "source": [
    "indicators_to_retrieve = [\"FS.AST.DOMS.GD.ZS\",\n",
    "                               \"SI.POV.DDAY\",\n",
    "                               \"EG.USE.ELEC.KH.PC\",\n",
    "                               \"FB.AST.NPER.ZS\",\n",
    "                               \"FS.AST.DOMS.GD.ZS\",\n",
    "                               \"AG.LND.IRIG.AG.ZS\",\n",
    "                               \"EG.ELC.ACCS.ZS\",\n",
    "                               \"NV.AGR.TOTL.ZS\",\n",
    "                               \"IT.CEL.SETS.P2\",\n",
    "                               \"NY.GDP.PCAP.CD\",\n",
    "                               \"NY.GNP.PCAP.CD\",\n",
    "                               \"EG.IMP.CONS.ZS\",\n",
    "                               \"BX.TRF.PWKR.CD.DT\",\n",
    "                               \"NE.EXP.GNFS.ZS\",\n",
    "                               \"EN.ATM.CO2E.PC\",\n",
    "                               \"SI.POV.DDAY\",\n",
    "                               \"EG.USE.ELEC.KH.PC\",\n",
    "                               \"FB.AST.NPER.ZS\",\n",
    "                               \"SP.POP.TOTL\",\n",
    "                               \"NY.GDP.MKTP.KD.ZG\",\n",
    "                               \"NV.IND.MANF.ZS\",\n",
    "                               \"EG.ELC.ACCS.ZS\",\n",
    "                               \"IT.NET.USER.P2\",\n",
    "                               \"TX.VAL.FUEL.ZS.UN\",\n",
    "                               \"SE.ADT.LITR.ZS\",\n",
    "                               \"SH.H2O.SAFE.ZS\",\n",
    "                               \"SH.H2O.SAFE.RU.ZS\",\n",
    "                               \"SH.H2O.SAFE.UR.ZS\",\n",
    "                               \"SG.GEN.PARL.ZS\",\n",
    "                               \"BX.KLT.DINV.CD.WD\",\n",
    "                               \"BX.TRF.PWKR.CD.DT\",\n",
    "                               \"DT.ODA.ODAT.CD\",\n",
    "                               \"AG.LND.FRST.ZS\",\n",
    "                               \"EN.ATM.CO2E.PC\",\n",
    "                               \"GC.TAX.TOTL.GD.ZS\",\n",
    "                               \"BN.CAB.XOKA.CD\",\n",
    "                               \"DT.DOD.DECT.CD\",\n",
    "                               \"BX.KLT.DINV.CD.WD\",\n",
    "                               \"BX.KLT.DINV.CD.WD\",\n",
    "                               \"DT.TDS.DECT.EX.ZS\",\n",
    "                               \"NE.GDI.TOTL.ZS\",\n",
    "                               \"NV.SRV.TETC.ZS\",\n",
    "                               \"BG.GSR.NFSV.GD.ZS\",\n",
    "                               \"FI.RES.TOTL.CD\",\n",
    "                               \"SH.STA.ACSN\",\n",
    "                               \"SH.DYN.MORT\",\n",
    "                               \"SE.ADT.LITR.ZS\",\n",
    "                               \"SE.ADT.1524.LT.ZS\",\n",
    "                               \"SL.UEM.TOTL.FE.ZS\",\n",
    "                               \"SL.UEM.TOTL.MA.ZS\",\n",
    "                               \"SL.UEM.TOTL.ZS\",\n",
    "                               \"SE.PRM.CMPT.FE.ZS\",\n",
    "                               \"FI.RES.TOTL.CD\",\n",
    "                               \"FS.AST.PRVT.GD.ZS\",\n",
    "                               \"GC.XPN.TOTL.GD.ZS\",\n",
    "                               \"EG.IMP.CONS.ZS\",\n",
    "                               \"TX.VAL.TECH.MF.ZS\",\n",
    "                               \"TX.VAL.ICTG.ZS.UN\",\n",
    "                               \"TM.VAL.ICTG.ZS.UN\",\n",
    "                               \"NE.IMP.GNFS.ZS\"]"
   ]
  },
  {
   "cell_type": "code",
   "execution_count": null,
   "metadata": {},
   "outputs": [
    {
     "name": "stdout",
     "output_type": "stream",
     "text": [
      "AG.LND.FRST.ZS\n",
      "AGLNDFRSTZS\n",
      "Forest area (% of land area)\n",
      "[2000, 2001, 2002, 2003, 2004, 2005, 2006, 2007, 2008, 2009]\n",
      "AG.LND.IRIG.AG.ZS\n",
      "AGLNDIRIGAGZS\n",
      "Agricultural irrigated land (% of total agricultural land)\n",
      "[2000, 2001, 2002, 2003, 2004, 2005, 2006, 2007, 2008, 2009]\n",
      "BG.GSR.NFSV.GD.ZS\n",
      "BGGSRNFSVGDZS\n",
      "Trade in services (% of GDP)\n",
      "[2000, 2001, 2002, 2003, 2004, 2005, 2006, 2007, 2008, 2009]\n",
      "BN.CAB.XOKA.CD\n",
      "BNCABXOKACD\n",
      "Current account balance (BoP, current US$)\n",
      "[2000, 2001, 2002, 2003, 2004, 2005, 2006, 2007, 2008, 2009]\n",
      "BX.KLT.DINV.CD.WD\n",
      "BXKLTDINVCDWD\n",
      "Foreign direct investment, net inflows (BoP, current US$)\n",
      "[2000, 2001, 2002, 2003, 2004, 2005, 2006, 2007, 2008, 2009]\n",
      "BX.TRF.PWKR.CD.DT\n",
      "BXTRFPWKRCDDT\n",
      "Personal remittances, received (current US$)\n",
      "[2000, 2001, 2002, 2003, 2004, 2005, 2006, 2007, 2008, 2009]\n",
      "DT.DOD.DECT.CD\n",
      "DTDODDECTCD\n",
      "External debt stocks, total (DOD, current US$)\n",
      "[2000, 2001, 2002, 2003, 2004, 2005, 2006, 2007, 2008, 2009]\n",
      "DT.ODA.ODAT.CD\n",
      "DTODAODATCD\n",
      "Net official development assistance received (current US$)\n",
      "[2000, 2001, 2002, 2003, 2004, 2005, 2006, 2007, 2008, 2009]\n",
      "DT.TDS.DECT.EX.ZS\n",
      "DTTDSDECTEXZS\n",
      "Total debt service (% of exports of goods, services and primary income)\n",
      "[2000, 2001, 2002, 2003, 2004, 2005, 2006, 2007, 2008, 2009]\n",
      "EG.ELC.ACCS.ZS\n",
      "EGELCACCSZS\n",
      "Access to electricity (% of population)\n",
      "[2000, 2001, 2002, 2003, 2004, 2005, 2006, 2007, 2008, 2009]\n",
      "EG.IMP.CONS.ZS\n",
      "EGIMPCONSZS\n",
      "Energy imports, net (% of energy use)\n",
      "[2000, 2001, 2002, 2003, 2004, 2005, 2006, 2007, 2008, 2009]\n",
      "EG.USE.ELEC.KH.PC\n",
      "EGUSEELECKHPC\n",
      "Electric power consumption (kWh per capita)\n",
      "[2000, 2001, 2002, 2003, 2004, 2005, 2006, 2007, 2008, 2009]\n",
      "EN.ATM.CO2E.PC\n",
      "ENATMCO2EPC\n",
      "CO2 emissions (metric tons per capita)\n",
      "[2000, 2001, 2002, 2003, 2004, 2005, 2006, 2007, 2008, 2009]\n",
      "FB.AST.NPER.ZS\n",
      "FBASTNPERZS\n",
      "Bank nonperforming loans to total gross loans (%)\n",
      "[2000, 2001, 2002, 2003, 2004, 2005, 2006, 2007, 2008, 2009]\n",
      "FI.RES.TOTL.CD\n",
      "FIRESTOTLCD\n",
      "Total reserves (includes gold, current US$)\n",
      "[2000, 2001, 2002, 2003, 2004, 2005, 2006, 2007, 2008, 2009]\n",
      "FS.AST.DOMS.GD.ZS\n"
     ]
    }
   ],
   "source": [
    "i = 0\n",
    "j = 0\n",
    "years=list(range(2000,2010))\n",
    "for ind in wb.indicators.Indicators:\n",
    "    if ind.name in indicators_to_retrieve:\n",
    "        print (ind.name)\n",
    "        data = wb.indicators.get(name=ind.name, years=years)\n",
    "        print (data['name'])\n",
    "        print (data['description'])\n",
    "        print (data['years'])\n",
    "        time.sleep(5)\n",
    "        try:\n",
    "            db[\"indicators\"].update_one({ \"name\" : data['name']}, \n",
    "                           {\"$set\":{\"name\" : data['name'], \n",
    "                                    \"description\" : data['description'], \n",
    "                                    \"years\" : data['years'], \n",
    "                                    \"sourceNote\" : ind.sourcenote,\n",
    "                                    \"connector\" : data['source'],\n",
    "                                    \"datasource\" : ind.datasource,\n",
    "                                    \"sourceurl\" : data['sourceurl'], \n",
    "                                    \"keyField\" : \"entity\",\n",
    "                                    \"pivotField\" : \"date\",\n",
    "                                    \"valueField\" : \"value\",\n",
    "                                    'data' : data['data']}}, True)\n",
    "        except ValueError:\n",
    "            pass"
   ]
  },
  {
   "cell_type": "code",
   "execution_count": null,
   "metadata": {},
   "outputs": [],
   "source": [
    "import urllib\n",
    "import json\n",
    "url = 'http://api.worldbank.org/indicators?format=json&per_page=' + \\\n",
    "        str(20000)\n",
    "\n",
    "response = urllib.request.urlopen(url)\n",
    "data = response.read().decode('utf-8')\n",
    "data = json.loads(data)\n"
   ]
  },
  {
   "cell_type": "code",
   "execution_count": null,
   "metadata": {},
   "outputs": [],
   "source": [
    "print(data[1][0])"
   ]
  },
  {
   "cell_type": "code",
   "execution_count": null,
   "metadata": {},
   "outputs": [],
   "source": []
  }
 ],
 "metadata": {
  "kernelspec": {
   "display_name": "Python 3",
   "language": "python",
   "name": "python3"
  },
  "language_info": {
   "codemirror_mode": {
    "name": "ipython",
    "version": 3
   },
   "file_extension": ".py",
   "mimetype": "text/x-python",
   "name": "python",
   "nbconvert_exporter": "python",
   "pygments_lexer": "ipython3",
   "version": "3.7.0"
  }
 },
 "nbformat": 4,
 "nbformat_minor": 4
}
