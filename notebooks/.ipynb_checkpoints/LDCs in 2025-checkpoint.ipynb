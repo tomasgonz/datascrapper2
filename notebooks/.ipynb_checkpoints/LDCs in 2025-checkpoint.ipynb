{
 "cells": [
  {
   "cell_type": "code",
   "execution_count": 1,
   "metadata": {
    "ExecuteTime": {
     "end_time": "2019-10-25T15:28:17.255933Z",
     "start_time": "2019-10-25T15:28:16.476952Z"
    }
   },
   "outputs": [
    {
     "ename": "ModuleNotFoundError",
     "evalue": "No module named 'cache'",
     "output_type": "error",
     "traceback": [
      "\u001b[0;31m---------------------------------------------------------------------------\u001b[0m",
      "\u001b[0;31mModuleNotFoundError\u001b[0m                       Traceback (most recent call last)",
      "\u001b[0;32m<ipython-input-1-fe843ccee3a2>\u001b[0m in \u001b[0;36m<module>\u001b[0;34m\u001b[0m\n\u001b[1;32m      4\u001b[0m \u001b[0;32mimport\u001b[0m \u001b[0murllib\u001b[0m\u001b[0;34m.\u001b[0m\u001b[0mrequest\u001b[0m\u001b[0;34m\u001b[0m\u001b[0;34m\u001b[0m\u001b[0m\n\u001b[1;32m      5\u001b[0m \u001b[0;32mfrom\u001b[0m \u001b[0mIPython\u001b[0m\u001b[0;34m.\u001b[0m\u001b[0mdisplay\u001b[0m \u001b[0;32mimport\u001b[0m \u001b[0mclear_output\u001b[0m\u001b[0;34m\u001b[0m\u001b[0;34m\u001b[0m\u001b[0m\n\u001b[0;32m----> 6\u001b[0;31m \u001b[0;32mimport\u001b[0m \u001b[0msources\u001b[0m\u001b[0;34m\u001b[0m\u001b[0;34m\u001b[0m\u001b[0m\n\u001b[0m\u001b[1;32m      7\u001b[0m \u001b[0;32mfrom\u001b[0m \u001b[0mcountries\u001b[0m\u001b[0;34m.\u001b[0m\u001b[0mlist\u001b[0m \u001b[0;32mimport\u001b[0m \u001b[0mCountryList\u001b[0m\u001b[0;34m\u001b[0m\u001b[0;34m\u001b[0m\u001b[0m\n\u001b[1;32m      8\u001b[0m \u001b[0;32mfrom\u001b[0m \u001b[0mcountries\u001b[0m\u001b[0;34m.\u001b[0m\u001b[0mutils\u001b[0m \u001b[0;32mimport\u001b[0m \u001b[0mextract_countries\u001b[0m\u001b[0;34m\u001b[0m\u001b[0;34m\u001b[0m\u001b[0m\n",
      "\u001b[0;32m/mnt/c/Users/Tomas.Gonzalez/datascrapper2/sources/__init__.py\u001b[0m in \u001b[0;36m<module>\u001b[0;34m\u001b[0m\n\u001b[0;32m----> 1\u001b[0;31m \u001b[0;32mimport\u001b[0m \u001b[0msources\u001b[0m\u001b[0;34m.\u001b[0m\u001b[0mworldbank\u001b[0m\u001b[0;34m\u001b[0m\u001b[0;34m\u001b[0m\u001b[0m\n\u001b[0m\u001b[1;32m      2\u001b[0m \u001b[0;32mimport\u001b[0m \u001b[0msources\u001b[0m\u001b[0;34m.\u001b[0m\u001b[0mundp\u001b[0m\u001b[0;34m\u001b[0m\u001b[0;34m\u001b[0m\u001b[0m\n\u001b[1;32m      3\u001b[0m \u001b[0;32mimport\u001b[0m \u001b[0msources\u001b[0m\u001b[0;34m.\u001b[0m\u001b[0munpd\u001b[0m\u001b[0;34m\u001b[0m\u001b[0;34m\u001b[0m\u001b[0m\n\u001b[1;32m      4\u001b[0m \u001b[0;32mimport\u001b[0m \u001b[0msources\u001b[0m\u001b[0;34m.\u001b[0m\u001b[0mimf\u001b[0m\u001b[0;34m\u001b[0m\u001b[0;34m\u001b[0m\u001b[0m\n\u001b[1;32m      5\u001b[0m \u001b[0;32mimport\u001b[0m \u001b[0msources\u001b[0m\u001b[0;34m.\u001b[0m\u001b[0mcomtrade\u001b[0m\u001b[0;34m\u001b[0m\u001b[0;34m\u001b[0m\u001b[0m\n",
      "\u001b[0;32m/mnt/c/Users/Tomas.Gonzalez/datascrapper2/sources/worldbank/__init__.py\u001b[0m in \u001b[0;36m<module>\u001b[0;34m\u001b[0m\n\u001b[1;32m      1\u001b[0m \u001b[0;32mimport\u001b[0m \u001b[0msources\u001b[0m\u001b[0;34m.\u001b[0m\u001b[0mworldbank\u001b[0m\u001b[0;34m.\u001b[0m\u001b[0mindicators\u001b[0m\u001b[0;34m\u001b[0m\u001b[0;34m\u001b[0m\u001b[0m\n\u001b[1;32m      2\u001b[0m \u001b[0;32mimport\u001b[0m \u001b[0msources\u001b[0m\u001b[0;34m.\u001b[0m\u001b[0mworldbank\u001b[0m\u001b[0;34m.\u001b[0m\u001b[0mclimate\u001b[0m\u001b[0;34m\u001b[0m\u001b[0;34m\u001b[0m\u001b[0m\n\u001b[0;32m----> 3\u001b[0;31m \u001b[0;32mimport\u001b[0m \u001b[0msources\u001b[0m\u001b[0;34m.\u001b[0m\u001b[0mworldbank\u001b[0m\u001b[0;34m.\u001b[0m\u001b[0mdatatable\u001b[0m\u001b[0;34m\u001b[0m\u001b[0;34m\u001b[0m\u001b[0m\n\u001b[0m\u001b[1;32m      4\u001b[0m \u001b[0;32mimport\u001b[0m \u001b[0msources\u001b[0m\u001b[0;34m.\u001b[0m\u001b[0mworldbank\u001b[0m\u001b[0;34m.\u001b[0m\u001b[0mcache\u001b[0m\u001b[0;34m\u001b[0m\u001b[0;34m\u001b[0m\u001b[0m\n\u001b[1;32m      5\u001b[0m \u001b[0;34m\u001b[0m\u001b[0m\n",
      "\u001b[0;32m/mnt/c/Users/Tomas.Gonzalez/datascrapper2/sources/worldbank/datatable.py\u001b[0m in \u001b[0;36m<module>\u001b[0;34m\u001b[0m\n\u001b[1;32m      1\u001b[0m \u001b[0;32mimport\u001b[0m \u001b[0msources\u001b[0m\u001b[0;34m\u001b[0m\u001b[0;34m\u001b[0m\u001b[0m\n\u001b[1;32m      2\u001b[0m \u001b[0;32mfrom\u001b[0m \u001b[0mdata\u001b[0m\u001b[0;34m.\u001b[0m\u001b[0mFrame\u001b[0m \u001b[0;32mimport\u001b[0m \u001b[0mFrame\u001b[0m\u001b[0;34m\u001b[0m\u001b[0;34m\u001b[0m\u001b[0m\n\u001b[0;32m----> 3\u001b[0;31m \u001b[0;32mfrom\u001b[0m \u001b[0mcountries\u001b[0m\u001b[0;34m.\u001b[0m\u001b[0mlist\u001b[0m \u001b[0;32mimport\u001b[0m \u001b[0mCountryList\u001b[0m\u001b[0;34m\u001b[0m\u001b[0;34m\u001b[0m\u001b[0m\n\u001b[0m\u001b[1;32m      4\u001b[0m \u001b[0;34m\u001b[0m\u001b[0m\n\u001b[1;32m      5\u001b[0m \u001b[0mc\u001b[0m \u001b[0;34m=\u001b[0m \u001b[0mCountryList\u001b[0m\u001b[0;34m(\u001b[0m\u001b[0;34m)\u001b[0m\u001b[0;34m\u001b[0m\u001b[0;34m\u001b[0m\u001b[0m\n",
      "\u001b[0;32m/mnt/c/Users/Tomas.Gonzalez/datascrapper2/countries/__init__.py\u001b[0m in \u001b[0;36m<module>\u001b[0;34m\u001b[0m\n\u001b[0;32m----> 1\u001b[0;31m \u001b[0;32mimport\u001b[0m \u001b[0mcountries\u001b[0m\u001b[0;34m.\u001b[0m\u001b[0mtable\u001b[0m\u001b[0;34m\u001b[0m\u001b[0;34m\u001b[0m\u001b[0m\n\u001b[0m\u001b[1;32m      2\u001b[0m \u001b[0;32mimport\u001b[0m \u001b[0mcountries\u001b[0m\u001b[0;34m.\u001b[0m\u001b[0mdata\u001b[0m\u001b[0;34m\u001b[0m\u001b[0;34m\u001b[0m\u001b[0m\n\u001b[1;32m      3\u001b[0m \u001b[0;32mimport\u001b[0m \u001b[0mcountries\u001b[0m\u001b[0;34m.\u001b[0m\u001b[0mcountry\u001b[0m\u001b[0;34m\u001b[0m\u001b[0;34m\u001b[0m\u001b[0m\n\u001b[1;32m      4\u001b[0m \u001b[0;32mimport\u001b[0m \u001b[0mcountries\u001b[0m\u001b[0;34m.\u001b[0m\u001b[0mlist\u001b[0m\u001b[0;34m\u001b[0m\u001b[0;34m\u001b[0m\u001b[0m\n\u001b[1;32m      5\u001b[0m \u001b[0;32mimport\u001b[0m \u001b[0mcountries\u001b[0m\u001b[0;34m.\u001b[0m\u001b[0mutils\u001b[0m\u001b[0;34m\u001b[0m\u001b[0;34m\u001b[0m\u001b[0m\n",
      "\u001b[0;32m/mnt/c/Users/Tomas.Gonzalez/datascrapper2/countries/table.py\u001b[0m in \u001b[0;36m<module>\u001b[0;34m\u001b[0m\n\u001b[0;32m----> 1\u001b[0;31m \u001b[0;32mfrom\u001b[0m \u001b[0mcountries\u001b[0m\u001b[0;34m.\u001b[0m\u001b[0mlist\u001b[0m \u001b[0;32mimport\u001b[0m \u001b[0mCountryList\u001b[0m\u001b[0;34m\u001b[0m\u001b[0;34m\u001b[0m\u001b[0m\n\u001b[0m\u001b[1;32m      2\u001b[0m \u001b[0;32mfrom\u001b[0m \u001b[0mdata\u001b[0m\u001b[0;34m.\u001b[0m\u001b[0mFrame\u001b[0m \u001b[0;32mimport\u001b[0m \u001b[0mFrame\u001b[0m\u001b[0;34m\u001b[0m\u001b[0;34m\u001b[0m\u001b[0m\n\u001b[1;32m      3\u001b[0m \u001b[0;34m\u001b[0m\u001b[0m\n\u001b[1;32m      4\u001b[0m \u001b[0;32mdef\u001b[0m \u001b[0mget\u001b[0m\u001b[0;34m(\u001b[0m\u001b[0mdata\u001b[0m\u001b[0;34m,\u001b[0m \u001b[0mgroups\u001b[0m\u001b[0;34m,\u001b[0m \u001b[0mcountry_field\u001b[0m\u001b[0;34m)\u001b[0m\u001b[0;34m:\u001b[0m\u001b[0;34m\u001b[0m\u001b[0;34m\u001b[0m\u001b[0m\n\u001b[1;32m      5\u001b[0m     \u001b[0;31m# We will store the final result here\u001b[0m\u001b[0;34m\u001b[0m\u001b[0;34m\u001b[0m\u001b[0;34m\u001b[0m\u001b[0m\n",
      "\u001b[0;32m/mnt/c/Users/Tomas.Gonzalez/datascrapper2/countries/list.py\u001b[0m in \u001b[0;36m<module>\u001b[0;34m\u001b[0m\n\u001b[1;32m      6\u001b[0m \u001b[0;32mfrom\u001b[0m \u001b[0mtexttable\u001b[0m \u001b[0;32mimport\u001b[0m \u001b[0mTexttable\u001b[0m\u001b[0;34m\u001b[0m\u001b[0;34m\u001b[0m\u001b[0m\n\u001b[1;32m      7\u001b[0m \u001b[0;32mimport\u001b[0m \u001b[0mos\u001b[0m\u001b[0;34m\u001b[0m\u001b[0;34m\u001b[0m\u001b[0m\n\u001b[0;32m----> 8\u001b[0;31m \u001b[0;32mimport\u001b[0m \u001b[0mcache\u001b[0m\u001b[0;34m\u001b[0m\u001b[0;34m\u001b[0m\u001b[0m\n\u001b[0m\u001b[1;32m      9\u001b[0m \u001b[0;34m\u001b[0m\u001b[0m\n\u001b[1;32m     10\u001b[0m \u001b[0;32mfrom\u001b[0m \u001b[0mcountries\u001b[0m\u001b[0;34m.\u001b[0m\u001b[0mdata\u001b[0m \u001b[0;32mimport\u001b[0m \u001b[0mldcs2025\u001b[0m\u001b[0;34m,\u001b[0m \u001b[0mldcs2018\u001b[0m\u001b[0;34m,\u001b[0m \u001b[0mldcs2017\u001b[0m\u001b[0;34m,\u001b[0m \u001b[0mlldcs\u001b[0m\u001b[0;34m,\u001b[0m \u001b[0mmics\u001b[0m\u001b[0;34m,\u001b[0m \u001b[0mmics_lower\u001b[0m\u001b[0;34m,\u001b[0m\u001b[0;31m \u001b[0m\u001b[0;31m\\\u001b[0m\u001b[0;34m\u001b[0m\u001b[0;34m\u001b[0m\u001b[0m\n",
      "\u001b[0;31mModuleNotFoundError\u001b[0m: No module named 'cache'"
     ]
    }
   ],
   "source": [
    "import sys\n",
    "sys.path.append(\"..\")\n",
    "import json\n",
    "import urllib.request\n",
    "from IPython.display import clear_output\n",
    "import sources\n",
    "from countries.list import CountryList\n",
    "from countries.utils import extract_countries\n",
    "from data.Frame import Frame\n",
    "from data.Row import Row\n",
    "from data.Cell import Cell\n",
    "from data.Stats import calculate_weighted_average as wa\n",
    "c = CountryList()\n",
    "c.load_wb()\n",
    "from sources.worldbank.indicators import get_data_frame_wide as getdfw\n",
    "from sources.worldbank.datatable import get_data_table"
   ]
  },
  {
   "cell_type": "code",
   "execution_count": null,
   "metadata": {},
   "outputs": [],
   "source": [
    "years = [\"2017\"]\n",
    "groups_ldcs=[['LDCs']]\n",
    "groups_ldcs2025=[['LDCs2025']]\n",
    "indicator = 'NV.AGR.TOTL.ZS'\n",
    "weight = 'NY.GDP.MKTP.CD'"
   ]
  },
  {
   "cell_type": "code",
   "execution_count": null,
   "metadata": {},
   "outputs": [],
   "source": [
    "def estimate(years,indicator, groups, weight = None):\n",
    "    data_df = get_data_table(years, indicator, groups, export_to_excel=False)    \n",
    "    \n",
    "    if weight is None:\n",
    "        return (data_df)    \n",
    "    \n",
    "    weight_df = get_data_table(years, weight, groups, export_to_excel=False)   \n",
    "    \n",
    "    df_ldcs_w = wa(data_df, weight_df, 'entity' )\n",
    "    \n",
    "    return (df_ldcs_w)"
   ]
  },
  {
   "cell_type": "code",
   "execution_count": null,
   "metadata": {},
   "outputs": [],
   "source": [
    "def latest_data_point(df):    \n",
    "    return (df.rows[len(df.rows)-1].cells[len(df.get_column_names())-1].get_value())"
   ]
  },
  {
   "cell_type": "code",
   "execution_count": null,
   "metadata": {},
   "outputs": [],
   "source": [
    "# Agriculture, fisheries and forestry added valuea s a percentae of GDP\n",
    "years = [\"2011\"]\n",
    "indicator = 'NV.AGR.TOTL.ZS'\n",
    "weight = 'NY.GDP.MKTP.CD'\n",
    "print(latest_data_point(estimate(years, indicator, [['LDCs']], weight = weight)))\n",
    "years = [\"2017\"]\n",
    "print(latest_data_point(estimate(years, indicator, [['LDCs']], weight = weight)))"
   ]
  },
  {
   "cell_type": "code",
   "execution_count": null,
   "metadata": {},
   "outputs": [],
   "source": [
    "estimate(years, indicator, [['LDCs']], weight = weight).to_xlsx() "
   ]
  },
  {
   "cell_type": "code",
   "execution_count": null,
   "metadata": {},
   "outputs": [],
   "source": [
    "# Agriculture, fisheries and forestry added valuea s a percentae of GDP\n",
    "indicator = 'NV.AGR.TOTL.ZS'\n",
    "weight = 'NY.GDP.MKTP.CD'\n",
    "print(latest_data_point(estimate(years, indicator, [['LDCs']], weight = weight)))\n",
    "print(latest_data_point(estimate(years, indicator, [['LDCs2025']], weight = weight)))"
   ]
  },
  {
   "cell_type": "code",
   "execution_count": null,
   "metadata": {},
   "outputs": [],
   "source": [
    "# Ubran population as a percentage of total population\n",
    "indicator = 'SP.URB.TOTL.IN.ZS'\n",
    "weight = 'SP.POP.TOTL'\n",
    "print(latest_data_point(estimate(years, indicator, [['LDCs']], weight = weight)))\n",
    "print(latest_data_point(estimate(years, indicator, [['LDCs2025']], weight = weight)))"
   ]
  },
  {
   "cell_type": "code",
   "execution_count": null,
   "metadata": {},
   "outputs": [],
   "source": [
    "# Exports of manufactures as a percentage of merchandise exports\n",
    "indicator = 'TX.VAL.MANF.ZS.UN'\n",
    "weight = 'TX.VAL.MRCH.CD.WT'\n",
    "print(latest_data_point(estimate(years, indicator, [['LDCs']], weight = weight)))\n",
    "print(latest_data_point(estimate(years, indicator, [['LDCs2025']], weight = weight)))"
   ]
  },
  {
   "cell_type": "code",
   "execution_count": null,
   "metadata": {},
   "outputs": [],
   "source": [
    "# Gross savings as a percentage of GDP\n",
    "indicator = 'NY.GNS.ICTR.ZS'\n",
    "weight = 'NY.GDP.MKTP.CD'\n",
    "print(latest_data_point(estimate(years, indicator, [['LDCs']], weight = weight)))\n",
    "print(latest_data_point(estimate(years, indicator, [['Developing excluding LDCs']], weight = weight)))"
   ]
  },
  {
   "cell_type": "code",
   "execution_count": null,
   "metadata": {},
   "outputs": [],
   "source": [
    "# People using safely managed sanitation services (% of population)\n",
    "years = [\"2011\"]\n",
    "indicator = 'SH.STA.SMSS.ZS'\n",
    "weight = 'SP.POP.TOTL'\n",
    "print(latest_data_point(estimate(years, indicator, [['LDCs']], weight = weight)))\n",
    "print(latest_data_point(estimate(years, indicator, [['LDCs2025']], weight = weight)))"
   ]
  },
  {
   "cell_type": "code",
   "execution_count": null,
   "metadata": {},
   "outputs": [],
   "source": [
    "# Gross capital formation (% of GDP)\n",
    "# Gross capital formation (formerly gross domestic investment) consists of outlays on additions to the fixed assets of the economy plus net changes in the level of inventories. Fixed assets include land improvements (fences, ditches, drains, and so on); plant, machinery, and equipment purchases; and the construction of roads, railways, and the like, including schools, offices, hospitals, private residential dwellings, and commercial and industrial buildings. Inventories are stocks of goods held by firms to meet temporary or unexpected fluctuations in production or sales, and\n",
    "indicator = 'NE.GDI.TOTL.ZS'\n",
    "weight = 'NY.GDP.MKTP.CD'\n",
    "print(latest_data_point(estimate(years, indicator, [['LDCs']], weight = weight)))\n",
    "print(latest_data_point(estimate(years, indicator, [['LDCs2025']], weight = weight)))"
   ]
  },
  {
   "cell_type": "code",
   "execution_count": null,
   "metadata": {},
   "outputs": [],
   "source": [
    "# Current account balance (% of GDP)\n",
    "indicator = 'BN.CAB.XOKA.GD.ZS'\n",
    "weight = 'NY.GDP.MKTP.CD'\n",
    "print(latest_data_point(estimate(years, indicator, [['LDCs']], weight = weight)))\n",
    "print(latest_data_point(estimate(years, indicator, [['LDCs2025']], weight = weight)))"
   ]
  },
  {
   "cell_type": "code",
   "execution_count": null,
   "metadata": {},
   "outputs": [],
   "source": [
    "# Market capitalization of listed domestic companies (% of GDP)\n",
    "indicator = 'CM.MKT.LCAP.GD.ZS'\n",
    "weight = 'NY.GDP.MKTP.CD'\n",
    "print(latest_data_point(estimate(years, indicator, [['LDCs']], weight = weight)))\n",
    "print(latest_data_point(estimate(years, indicator, [['LDCs2025']], weight = weight)))"
   ]
  },
  {
   "cell_type": "code",
   "execution_count": null,
   "metadata": {},
   "outputs": [],
   "source": [
    "# Military expenditure (% of GDP)\n",
    "indicator = 'MS.MIL.XPND.GD.ZS'\n",
    "weight = 'NY.GDP.MKTP.CD'\n",
    "print(latest_data_point(estimate(years, indicator, [['LDCs']], weight = weight)))\n",
    "print(latest_data_point(estimate(years, indicator, [['LDCs2025']], weight = weight)))"
   ]
  },
  {
   "cell_type": "code",
   "execution_count": null,
   "metadata": {},
   "outputs": [],
   "source": [
    "# Individuals using the Internet (% of population)\n",
    "indicator = 'IT.NET.USER.ZS'\n",
    "weight = 'SP.POP.TOTL'\n",
    "print(latest_data_point(estimate(years, indicator, [['LDCs']], weight = weight)))\n",
    "print(latest_data_point(estimate(years, indicator, [['LDCs2025']], weight = weight)))"
   ]
  },
  {
   "cell_type": "code",
   "execution_count": null,
   "metadata": {},
   "outputs": [],
   "source": [
    "# Research and development expenditure (% of GDP)\n",
    "# Individuals using the Internet (% of population)\n",
    "indicator = 'GB.XPD.RSDV.GD.ZS'\n",
    "weight = 'NY.GDP.MKTP.CD'\n",
    "print(latest_data_point(estimate(years, indicator, [['LDCs']], weight = weight)))\n",
    "print(latest_data_point(estimate(years, indicator, [['LDCs2025']], weight = weight)))\n"
   ]
  },
  {
   "cell_type": "code",
   "execution_count": null,
   "metadata": {},
   "outputs": [],
   "source": [
    "# ICT goods exports (% of total goods exports)\n",
    "indicator = 'TX.VAL.ICTG.ZS.UN'\n"
   ]
  },
  {
   "cell_type": "code",
   "execution_count": null,
   "metadata": {},
   "outputs": [],
   "source": [
    "# Personal remittances, received (% of GDP)\n",
    "years = [\"2017\"]\n",
    "indicator = 'BX.TRF.PWKR.DT.GD.ZS'\n",
    "weight = 'NY.GDP.MKTP.CD'\n",
    "print(latest_data_point(estimate(years, indicator, [['LDCs']], weight = weight)))\n",
    "print(latest_data_point(estimate(years, indicator, [['LDCs2025']], weight = weight)))"
   ]
  },
  {
   "cell_type": "code",
   "execution_count": null,
   "metadata": {},
   "outputs": [],
   "source": [
    "SP.POP.2024.FE.5Y"
   ]
  }
 ],
 "metadata": {
  "kernelspec": {
   "display_name": "Python 3",
   "language": "python",
   "name": "python3"
  },
  "language_info": {
   "codemirror_mode": {
    "name": "ipython",
    "version": 3
   },
   "file_extension": ".py",
   "mimetype": "text/x-python",
   "name": "python",
   "nbconvert_exporter": "python",
   "pygments_lexer": "ipython3",
   "version": "3.7.1"
  }
 },
 "nbformat": 4,
 "nbformat_minor": 4
}
