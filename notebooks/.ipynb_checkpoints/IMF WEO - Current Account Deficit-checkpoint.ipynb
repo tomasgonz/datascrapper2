{
 "cells": [
  {
   "cell_type": "code",
   "execution_count": 1,
   "metadata": {
    "collapsed": false
   },
   "outputs": [],
   "source": [
    "import csv\n",
    "import sys\n",
    "sys.path.append(\"..\")\n",
    "import json\n",
    "import urllib.request\n",
    "from IPython.display import clear_output\n",
    "import sources\n",
    "from countrylist import CountryList\n",
    "from data.Frame import Frame\n",
    "from data.Row import Row\n",
    "from data.Cell import Cell\n",
    "from data.Stats import calculate_weighted_average as wa\n",
    "c = CountryList()\n",
    "c.load_wb()\n",
    "from ldcs.groups import get_regionalized_dataframe as get_rdf"
   ]
  },
  {
   "cell_type": "code",
   "execution_count": 2,
   "metadata": {
    "collapsed": true
   },
   "outputs": [],
   "source": [
    "WEO_file = 'WEOApr2018all.csv'"
   ]
  },
  {
   "cell_type": "code",
   "execution_count": 3,
   "metadata": {
    "collapsed": true
   },
   "outputs": [],
   "source": [
    "def get_indicator_ldcs(subject_code, export_to_excel=False):\n",
    "    column_names = []\n",
    "    df = Frame()\n",
    "    with open(WEO_file) as csvfile:\n",
    "        weo_reader = csv.reader(csvfile, delimiter=',', quotechar='\"')\n",
    "        i = next(weo_reader)\n",
    "        for col in i:\n",
    "            column_names.append(col)\n",
    "\n",
    "        column_names[0] = 'WEO_Country_Code'\n",
    "\n",
    "        for r in weo_reader:\n",
    "            dr = Row()\n",
    "            for i in range(0,len(r)):\n",
    "                dr.cells.append(Cell(column=column_names[i], value=r[i]))\n",
    "\n",
    "            df.rows.append(dr)\n",
    "            \n",
    "        df_subject = df.search('WEO Subject Code', subject_code)\n",
    "        df_subject_ldcs = get_rdf(df_subject, 'Country')\n",
    "        \n",
    "        if export_to_excel == True:\n",
    "            df_subject_ldcs.name = \"%s\" % (subject_code)\n",
    "            df_subject_ldcs.to_xlsx()\n",
    "            \n",
    "        return df_subject_ldcs"
   ]
  },
  {
   "cell_type": "code",
   "execution_count": 6,
   "metadata": {
    "collapsed": false
   },
   "outputs": [],
   "source": [
    "#ggr=get_indicator_ldcs('GGR_NGDP',export_to_excel=True)\n",
    "#ggte=get_indicator_ldcs('GGX_NGDP',export_to_excel=True)\n",
    "#gdpd=get_indicator_ldcs('NGDPD',export_to_excel=True)\n",
    "bca=get_indicator_ldcs('BCA',export_to_excel=True)"
   ]
  },
  {
   "cell_type": "code",
   "execution_count": null,
   "metadata": {
    "collapsed": true
   },
   "outputs": [],
   "source": [
    "df_av = wa(df_gdp_cp_growth_ldcs, df_gdp_ppp_usd_ldcs, 'Country')"
   ]
  },
  {
   "cell_type": "code",
   "execution_count": 3,
   "metadata": {
    "collapsed": true
   },
   "outputs": [],
   "source": [
    "def filter_by_group(data, groups, label_field):\n",
    "    # We will store the final result here\n",
    "    ndf = Frame()\n",
    "    # Now we get the data that we want to average by region (defined in the groups)\n",
    "    # and also total\n",
    "    for g in groups:    \n",
    "        # Data points\n",
    "        ctrs = c.get_groups(g)\n",
    "        for ctry in ctrs:\n",
    "            for r in data.rows:\n",
    "                lv = r.get_by_column_name(label_field).value.get()\n",
    "                if lv == ctry.name or lv in ctry.alias:\n",
    "                    r.get_by_column_name(label_field).value.value = ctry.name\n",
    "                    ndf.rows.append(r)     \n",
    "    return ndf"
   ]
  },
  {
   "cell_type": "code",
   "execution_count": 4,
   "metadata": {
    "collapsed": true
   },
   "outputs": [],
   "source": [
    "def filter_by_subject(subject_code):\n",
    "    # Other developing countries excluding LDCs\n",
    "    column_names = []\n",
    "    df = Frame()\n",
    "    with open(WEO_file) as csvfile:\n",
    "        weo_reader = csv.reader(csvfile, delimiter=',', quotechar='\"')\n",
    "        i = next(weo_reader)\n",
    "        for col in i:\n",
    "            column_names.append(col)\n",
    "\n",
    "        column_names[0] = 'WEO_Country_Code'\n",
    "\n",
    "        for r in weo_reader:\n",
    "            dr = Row()\n",
    "            for i in range(0,len(r)):\n",
    "                dr.cells.append(Cell(column=column_names[i], value=r[i]))\n",
    "\n",
    "            df.rows.append(dr)\n",
    "\n",
    "        df_subject = df.search('WEO Subject Code', subject_code)\n",
    "    \n",
    "    return df_subject"
   ]
  },
  {
   "cell_type": "code",
   "execution_count": 5,
   "metadata": {
    "collapsed": false
   },
   "outputs": [
    {
     "ename": "NameError",
     "evalue": "name 'label_field' is not defined",
     "output_type": "error",
     "traceback": [
      "\u001b[0;31m---------------------------------------------------------------------------\u001b[0m",
      "\u001b[0;31mNameError\u001b[0m                                 Traceback (most recent call last)",
      "\u001b[0;32m<ipython-input-5-635f34207dd4>\u001b[0m in \u001b[0;36m<module>\u001b[0;34m()\u001b[0m\n\u001b[1;32m      1\u001b[0m \u001b[0mgroups\u001b[0m \u001b[1;33m=\u001b[0m \u001b[1;33m[\u001b[0m\u001b[1;33m[\u001b[0m\u001b[1;34m'Developing excluding LDCs'\u001b[0m\u001b[1;33m]\u001b[0m\u001b[1;33m]\u001b[0m\u001b[1;33m\u001b[0m\u001b[0m\n\u001b[0;32m----> 2\u001b[0;31m \u001b[0mdf_other_developing_countries\u001b[0m \u001b[1;33m=\u001b[0m \u001b[0mfilter_by_group\u001b[0m\u001b[1;33m(\u001b[0m\u001b[0mfilter_by_subject\u001b[0m\u001b[1;33m(\u001b[0m\u001b[1;34m\"BCA\"\u001b[0m\u001b[1;33m)\u001b[0m\u001b[1;33m,\u001b[0m \u001b[0mgroups\u001b[0m\u001b[1;33m)\u001b[0m\u001b[1;33m\u001b[0m\u001b[0m\n\u001b[0m",
      "\u001b[0;32m<ipython-input-3-54a82f1fde7d>\u001b[0m in \u001b[0;36mfilter_by_group\u001b[0;34m(data, groups)\u001b[0m\n\u001b[1;32m      9\u001b[0m         \u001b[1;32mfor\u001b[0m \u001b[0mctry\u001b[0m \u001b[1;32min\u001b[0m \u001b[0mctrs\u001b[0m\u001b[1;33m:\u001b[0m\u001b[1;33m\u001b[0m\u001b[0m\n\u001b[1;32m     10\u001b[0m             \u001b[1;32mfor\u001b[0m \u001b[0mr\u001b[0m \u001b[1;32min\u001b[0m \u001b[0mdata\u001b[0m\u001b[1;33m.\u001b[0m\u001b[0mrows\u001b[0m\u001b[1;33m:\u001b[0m\u001b[1;33m\u001b[0m\u001b[0m\n\u001b[0;32m---> 11\u001b[0;31m                 \u001b[0mlv\u001b[0m \u001b[1;33m=\u001b[0m \u001b[0mr\u001b[0m\u001b[1;33m.\u001b[0m\u001b[0mget_by_column_name\u001b[0m\u001b[1;33m(\u001b[0m\u001b[0mlabel_field\u001b[0m\u001b[1;33m)\u001b[0m\u001b[1;33m.\u001b[0m\u001b[0mvalue\u001b[0m\u001b[1;33m.\u001b[0m\u001b[0mget\u001b[0m\u001b[1;33m(\u001b[0m\u001b[1;33m)\u001b[0m\u001b[1;33m\u001b[0m\u001b[0m\n\u001b[0m\u001b[1;32m     12\u001b[0m                 \u001b[1;32mif\u001b[0m \u001b[0mlv\u001b[0m \u001b[1;33m==\u001b[0m \u001b[0mctry\u001b[0m\u001b[1;33m.\u001b[0m\u001b[0mname\u001b[0m \u001b[1;32mor\u001b[0m \u001b[0mlv\u001b[0m \u001b[1;32min\u001b[0m \u001b[0mctry\u001b[0m\u001b[1;33m.\u001b[0m\u001b[0malias\u001b[0m\u001b[1;33m:\u001b[0m\u001b[1;33m\u001b[0m\u001b[0m\n\u001b[1;32m     13\u001b[0m                     \u001b[0mr\u001b[0m\u001b[1;33m.\u001b[0m\u001b[0mget_by_column_name\u001b[0m\u001b[1;33m(\u001b[0m\u001b[0mlabel_field\u001b[0m\u001b[1;33m)\u001b[0m\u001b[1;33m.\u001b[0m\u001b[0mvalue\u001b[0m\u001b[1;33m.\u001b[0m\u001b[0mvalue\u001b[0m \u001b[1;33m=\u001b[0m \u001b[0mctry\u001b[0m\u001b[1;33m.\u001b[0m\u001b[0mname\u001b[0m\u001b[1;33m\u001b[0m\u001b[0m\n",
      "\u001b[0;31mNameError\u001b[0m: name 'label_field' is not defined"
     ]
    }
   ],
   "source": [
    "groups = [['Developing excluding LDCs']]\n",
    "df_other_developing_countries = filter_by_group(filter_by_subject(\"BCA\"), groups, \"Country\")"
   ]
  },
  {
   "cell_type": "code",
   "execution_count": null,
   "metadata": {
    "collapsed": true
   },
   "outputs": [],
   "source": []
  }
 ],
 "metadata": {
  "kernelspec": {
   "display_name": "Python 3",
   "language": "python",
   "name": "python3"
  },
  "language_info": {
   "codemirror_mode": {
    "name": "ipython",
    "version": 3
   },
   "file_extension": ".py",
   "mimetype": "text/x-python",
   "name": "python",
   "nbconvert_exporter": "python",
   "pygments_lexer": "ipython3",
   "version": "3.5.1"
  }
 },
 "nbformat": 4,
 "nbformat_minor": 2
}
