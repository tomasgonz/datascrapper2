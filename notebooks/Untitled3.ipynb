{
 "cells": [
  {
   "cell_type": "code",
   "execution_count": 1,
   "metadata": {},
   "outputs": [],
   "source": [
    "import sys\n",
    "sys.path.append(\"..\")\n",
    "import json\n",
    "import urllib.request\n",
    "from IPython.display import clear_output\n",
    "import sources\n",
    "from countries.list import CountryList\n",
    "from data.Frame import Frame\n",
    "from data.Row import Row\n",
    "from data.Cell import Cell\n",
    "from data.Stats import calculate_weighted_average as wa\n",
    "c = CountryList()\n",
    "c.load_wb()\n",
    "from sources.worldbank.indicators import get_data_frame_wide as getdfw\n",
    "\n",
    "import sources.fao"
   ]
  },
  {
   "cell_type": "code",
   "execution_count": 2,
   "metadata": {},
   "outputs": [],
   "source": [
    "sources.fao.data.get_datasets()"
   ]
  },
  {
   "cell_type": "code",
   "execution_count": 14,
   "metadata": {},
   "outputs": [
    {
     "name": "stdout",
     "output_type": "stream",
     "text": [
      "1 ASTI R&D Indicators: ASTI-Expenditures\n",
      "2 ASTI R&D Indicators: ASTI-Researchers\n",
      "3 Food Balance: Commodity Balances - Crops Primary Equivalent\n",
      "4 Food Balance: Commodity Balances - Livestock and Fish Primary Equivalent\n",
      "5 Food Balance: Food Supply - Crops Primary Equivalent\n",
      "6 Investment: Country Investment Statistics Profile\n",
      "7 Food Balance: Food Supply - Livestock and Fish Primary Equivalent\n",
      "8 Prices: Consumer Price Indices\n",
      "9 Macro-Statistics: Capital Stock\n",
      "10 Investment: Development Flows to Agriculture\n",
      "11 Agri-Environmental Indicators: Air and climate change\n",
      "12 Agri-Environmental Indicators: Energy\n",
      "13 Agri-Environmental Indicators: Fertilizers\n",
      "14 Agri-Environmental Indicators: Emissions intensities\n",
      "15 Agri-Environmental Indicators: Livestock Patterns\n",
      "16 Agri-Environmental Indicators: Land Use\n",
      "17 Agri-Environmental Indicators: Emissions by sector\n",
      "18 Agri-Environmental Indicators: Livestock Manure\n",
      "19 Agri-Environmental Indicators: Pesticides\n",
      "20 Agri-Environmental Indicators: Soil\n",
      "21 Agri-Environmental Indicators: Temperature change\n",
      "22 Agri-Environmental Indicators: Water\n",
      "23 Emergency Response: Food Aid Shipments (WFP)\n",
      "24 Food Balance: Food Balance Sheets\n",
      "25 Investment: Foreign Direct Investment (FDI)\n",
      "26 Forestry: Forestry Production and Trade\n",
      "27 Food Security: Suite of Food Security Indicators\n",
      "28 Forestry: Forestry Trade Flows\n",
      "29 Emissions - Agriculture: Crop Residues\n",
      "30 Emissions - Agriculture: Burning - Crop Residues\n",
      "31 Emissions - Land Use: Cropland\n",
      "32 Emissions - Agriculture: Enteric Fermentation\n",
      "33 Emissions - Land Use: Forest Land\n",
      "34 Emissions - Land Use: Grassland\n",
      "35 Emissions - Agriculture: Burning - Savanna\n",
      "36 Emissions - Land Use: Burning - Biomass\n",
      "37 Emissions - Land Use: Land Use Total\n",
      "38 Emissions - Agriculture: Manure Management\n",
      "39 Emissions - Agriculture: Energy Use\n",
      "40 Emissions - Agriculture: Manure left on Pasture\n",
      "41 Emissions - Agriculture: Rice Cultivation\n",
      "42 Emissions - Agriculture: Agriculture Total\n",
      "43 Emissions - Agriculture: Manure applied to Soils\n",
      "44 Emissions - Agriculture: Cultivation of Organic Soils\n",
      "45 Emissions - Agriculture: Synthetic Fertilizers\n",
      "46 Food Security: Indicators from Household Surveys (gender, area, socioeconomics)\n",
      "47 Investment: Credit to Agriculture\n",
      "48 Investment: Government Expenditure\n",
      "49 Agri-Environmental Indicators: Land Cover\n",
      "50 Macro-Statistics: Macro Indicators\n",
      "51 Population: Annual population\n",
      "52 Inputs: Employment Indicators\n",
      "53 Prices: Producer Prices - Archive\n",
      "54 Prices: Deflators\n",
      "55 Prices: Exchange rates - Annual\n",
      "56 Prices: Producer Price Indices - Annual\n",
      "57 Prices: Producer Prices - Monthly\n",
      "58 Prices: Producer Prices - Annual\n",
      "59 Production: Live Animals\n",
      "60 Production: Crops\n",
      "61 Production: Crops processed\n",
      "62 Production: Production Indices\n",
      "63 Production: Livestock Primary\n",
      "64 Production: Livestock Processed\n",
      "65 Production: Value of Agricultural Production\n",
      "66 Inputs: Fertilizers archive\n",
      "67 Inputs: Fertilizers by Product\n",
      "68 Inputs: Fertilizers by Nutrient\n",
      "69 Inputs: Land Use\n",
      "70 Investment: Machinery\n",
      "71 Inputs: Pesticides Use\n",
      "72 Inputs: Pesticides Trade\n",
      "73 Inputs: Fertilizers - Trade Value\n",
      "74 Investment: Machinery Archive\n",
      "75 Trade: Live animals\n",
      "76 Trade: Trade Indices\n",
      "77 Trade: Detailed trade matrix\n",
      "78 Trade: Crops and livestock products\n"
     ]
    }
   ],
   "source": [
    "i = 0\n",
    "for d in sources.fao.data.datasets:\n",
    "    i = i + 1\n",
    "    print(\"%s %s\" % (i, d.DatasetName))"
   ]
  },
  {
   "cell_type": "code",
   "execution_count": 15,
   "metadata": {},
   "outputs": [
    {
     "data": {
      "text/plain": [
       "78"
      ]
     },
     "execution_count": 15,
     "metadata": {},
     "output_type": "execute_result"
    }
   ],
   "source": [
    "len(sources.fao.data.datasets)"
   ]
  },
  {
   "cell_type": "code",
   "execution_count": null,
   "metadata": {},
   "outputs": [],
   "source": []
  }
 ],
 "metadata": {
  "kernelspec": {
   "display_name": "Python 3",
   "language": "python",
   "name": "python3"
  },
  "language_info": {
   "codemirror_mode": {
    "name": "ipython",
    "version": 3
   },
   "file_extension": ".py",
   "mimetype": "text/x-python",
   "name": "python",
   "nbconvert_exporter": "python",
   "pygments_lexer": "ipython3",
   "version": "3.7.1"
  }
 },
 "nbformat": 4,
 "nbformat_minor": 2
}
