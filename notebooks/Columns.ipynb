{
 "cells": [
  {
   "cell_type": "code",
   "execution_count": 23,
   "metadata": {
    "collapsed": true
   },
   "outputs": [],
   "source": [
    "import sys\n",
    "sys.path.append(\"..\")\n",
    "import json\n",
    "import urllib.request\n",
    "from IPython.display import clear_output\n",
    "import countries\n",
    "import sources\n",
    "from countrylist import CountryList\n",
    "from data.Frame import Frame\n",
    "from data.Row import Row\n",
    "from data.Cell import Cell\n",
    "from data.Stats import calculate_weighted_average as wa\n",
    "c = CountryList()\n",
    "c.load_wb()\n",
    "from sources.worldbank.indicators import get_data_frame_wide as getdfw"
   ]
  },
  {
   "cell_type": "code",
   "execution_count": 34,
   "metadata": {
    "collapsed": false
   },
   "outputs": [],
   "source": [
    "start = 2016\n",
    "end = 2016\n",
    "indicator = 'NV.IND.MANF.ZS'\n",
    "weight = 'NY.GDP.MKTP.CD'\n",
    "df_data = getdfw(name=indicator, \n",
    "                start=start, end=end, \n",
    "                countries=c.get_groups([\"LDCs\", \"Africa\"]),\n",
    "                label_field='entity',\n",
    "                value_field='value',\n",
    "                column_field='date'\n",
    "                )"
   ]
  },
  {
   "cell_type": "code",
   "execution_count": 28,
   "metadata": {
    "collapsed": true
   },
   "outputs": [],
   "source": [
    "n = Frame()"
   ]
  },
  {
   "cell_type": "code",
   "execution_count": 29,
   "metadata": {
    "collapsed": false
   },
   "outputs": [
    {
     "data": {
      "text/plain": [
       "True"
      ]
     },
     "execution_count": 29,
     "metadata": {},
     "output_type": "execute_result"
    }
   ],
   "source": [
    "n.add_column(df_data.get_column(\"entity\"))"
   ]
  },
  {
   "cell_type": "code",
   "execution_count": 35,
   "metadata": {
    "collapsed": false
   },
   "outputs": [
    {
     "name": "stdout",
     "output_type": "stream",
     "text": [
      "Length of dataset not equal\n"
     ]
    },
    {
     "data": {
      "text/plain": [
       "False"
      ]
     },
     "execution_count": 35,
     "metadata": {},
     "output_type": "execute_result"
    }
   ],
   "source": [
    "n.add_column(df_data.get_column(2016.0))"
   ]
  },
  {
   "cell_type": "code",
   "execution_count": 31,
   "metadata": {
    "collapsed": false
   },
   "outputs": [
    {
     "data": {
      "text/plain": [
       "['entity', 2016.0]"
      ]
     },
     "execution_count": 31,
     "metadata": {},
     "output_type": "execute_result"
    }
   ],
   "source": [
    "n.column_names()"
   ]
  },
  {
   "cell_type": "code",
   "execution_count": 32,
   "metadata": {
    "collapsed": false
   },
   "outputs": [
    {
     "name": "stdout",
     "output_type": "stream",
     "text": [
      "+------------+------------+\n",
      "| entity     | 2016       |\n",
      "+------------+------------+\n",
      "| Afghanista | 11.818     |\n",
      "| n          |            |\n",
      "+------------+------------+\n",
      "| Bangladesh | 17.915     |\n",
      "+------------+------------+\n",
      "| Bhutan     | 7.817      |\n",
      "+------------+------------+\n",
      "| Cambodia   | 17.236     |\n",
      "+------------+------------+\n",
      "| Lao PDR    | 8.784      |\n",
      "+------------+------------+\n",
      "| Myanmar    | 22.789     |\n",
      "+------------+------------+\n",
      "| Nepal      | 5.967      |\n",
      "+------------+------------+\n",
      "| Timor-     | None       |\n",
      "| Leste      |            |\n",
      "+------------+------------+\n"
     ]
    }
   ],
   "source": [
    "n.print()"
   ]
  },
  {
   "cell_type": "code",
   "execution_count": 33,
   "metadata": {
    "collapsed": false
   },
   "outputs": [
    {
     "name": "stdout",
     "output_type": "stream",
     "text": [
      "+------------+------------+\n",
      "| entity     | 2016       |\n",
      "+------------+------------+\n",
      "| Afghanista | 11.818     |\n",
      "| n          |            |\n",
      "+------------+------------+\n",
      "| Bangladesh | 17.915     |\n",
      "+------------+------------+\n",
      "| Bhutan     | 7.817      |\n",
      "+------------+------------+\n",
      "| Cambodia   | 17.236     |\n",
      "+------------+------------+\n",
      "| Lao PDR    | 8.784      |\n",
      "+------------+------------+\n",
      "| Myanmar    | 22.789     |\n",
      "+------------+------------+\n",
      "| Nepal      | 5.967      |\n",
      "+------------+------------+\n",
      "| Timor-     | None       |\n",
      "| Leste      |            |\n",
      "+------------+------------+\n"
     ]
    }
   ],
   "source": [
    "df_data.print()"
   ]
  },
  {
   "cell_type": "code",
   "execution_count": null,
   "metadata": {
    "collapsed": true
   },
   "outputs": [],
   "source": []
  }
 ],
 "metadata": {
  "kernelspec": {
   "display_name": "Python 3",
   "language": "python",
   "name": "python3"
  },
  "language_info": {
   "codemirror_mode": {
    "name": "ipython",
    "version": 3
   },
   "file_extension": ".py",
   "mimetype": "text/x-python",
   "name": "python",
   "nbconvert_exporter": "python",
   "pygments_lexer": "ipython3",
   "version": "3.5.1"
  }
 },
 "nbformat": 4,
 "nbformat_minor": 2
}
