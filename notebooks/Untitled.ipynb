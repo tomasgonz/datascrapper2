{
 "cells": [
  {
   "cell_type": "code",
   "execution_count": 1,
   "metadata": {},
   "outputs": [],
   "source": [
    "import sys\n",
    "import os\n",
    "sys.path.append(os.getcwd().split(\"datascrapper2\")[0])\n",
    "sys.path.append(\"../\")\n",
    "from sources import *\n",
    "from data.Frame import Frame\n",
    "from data.Stats import calculate_weighted_average as wa\n",
    "from geo.countries import Countries\n",
    "import json\n",
    "import requests\n",
    "from sources.fao.data import get_country_code\n",
    "from sources.fao.data import load_countries\n",
    "c = Countries()\n",
    "c.load_wb()\n",
    "c.load_fao_code()"
   ]
  },
  {
   "cell_type": "code",
   "execution_count": 13,
   "metadata": {},
   "outputs": [],
   "source": [
    "area = \",\".join(get_group('LDCs').get_as_fao_code())\n",
    "area_cs = 'FAO'\n",
    "element = '434'\n",
    "item = '2051'\n",
    "year = '2000,2011,2014,2016'\n",
    "show_flags='false'\n",
    "null_values='false'\n",
    "page_number='1'\n",
    "page_size='1000'\n",
    "output_type='objects'\n",
    "url = ('http://fenixservices.fao.org/faostat/api/v1/en/data/QI?area=%s&area_cs=%s&element=%s&item=%s&year=%s&show_codes=%s&show_unit=%s&show_flags=%s&null_values=%s&page_number=&s&page_size=&s&output_type=%s' %\n",
    "          (area, area_cs, element, item, year, show_flags, null_values, page_number, page_size, output_type))\n",
    "r = requests.get(url)"
   ]
  },
  {
   "cell_type": "code",
   "execution_count": 34,
   "metadata": {},
   "outputs": [
    {
     "data": {
      "text/plain": [
       " \n",
       "+------------+------------+------------+\n",
       "| entity     | date       | value      |\n",
       "+------------+------------+------------+\n",
       "| Bangladesh | 2000       | 32171      |\n",
       "+------------+------------+------------+\n",
       "| Bangladesh | 2016       | 25398.247  |\n",
       "+------------+------------+------------+\n",
       "| Bhutan     | 2011       | 194.700    |\n",
       "+------------+------------+------------+\n",
       "| Bhutan     | 2014       | 192.369    |\n",
       "+------------+------------+------------+\n",
       "| Cambodia   | 2000       | 3781.264   |\n",
       "+------------+------------+------------+\n",
       "| Comoros    | 2014       | 65.938     |\n",
       "+------------+------------+------------+\n",
       "| Mali       | 2014       | 3821.669   |\n",
       "+------------+------------+------------+\n",
       "| Mali       | 2016       | 3542.244   |\n",
       "+------------+------------+------------+\n",
       "| Sierra     | 2014       | 930.589    |\n",
       "| Leone      |            |            |\n",
       "+------------+------------+------------+\n",
       "| Timor-     | 2016       | 214.297    |\n",
       "| Leste      |            |            |\n",
       "+------------+------------+------------+\n",
       "| United     | 2014       | 14399.773  |\n",
       "| Republic   |            |            |\n",
       "| of         |            |            |\n",
       "| Tanzania   |            |            |\n",
       "+------------+------------+------------+\n",
       "| Yemen      | 2014       | 1226.271   |\n",
       "+------------+------------+------------+"
      ]
     },
     "execution_count": 34,
     "metadata": {},
     "output_type": "execute_result"
    }
   ],
   "source": [
    "fao_data"
   ]
  },
  {
   "cell_type": "code",
   "execution_count": null,
   "metadata": {},
   "outputs": [],
   "source": []
  }
 ],
 "metadata": {
  "kernelspec": {
   "display_name": "Python 3",
   "language": "python",
   "name": "python3"
  },
  "language_info": {
   "codemirror_mode": {
    "name": "ipython",
    "version": 3
   },
   "file_extension": ".py",
   "mimetype": "text/x-python",
   "name": "python",
   "nbconvert_exporter": "python",
   "pygments_lexer": "ipython3",
   "version": "3.8.5"
  }
 },
 "nbformat": 4,
 "nbformat_minor": 4
}
