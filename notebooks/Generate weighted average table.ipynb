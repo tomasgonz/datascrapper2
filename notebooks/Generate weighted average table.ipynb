{
 "cells": [
  {
   "cell_type": "code",
   "execution_count": 5,
   "metadata": {},
   "outputs": [],
   "source": [
    "import sys\n",
    "sys.path.append(\"..\")\n",
    "import json\n",
    "import urllib.request\n",
    "from IPython.display import clear_output\n",
    "import sources\n",
    "from countries.list import Countries\n",
    "from data.Frame import Frame\n",
    "from data.Row import Row\n",
    "from data.Cell import Cell\n",
    "from data.Stats import calculate_weighted_average as wa\n",
    "c = Countries()\n",
    "c.\n",
    "from sources.worldbank.indicators import get_data_frame_wide as getdfw"
   ]
  },
  {
   "cell_type": "code",
   "execution_count": 6,
   "metadata": {},
   "outputs": [],
   "source": [
    "def generate_weighted_average_table(indicator, weight, groups, start, end, export_to_excel=False):\n",
    "    # We will store the final result here\n",
    "    ndf = Frame()\n",
    "    # Now we get the data that we want to average by region (defined in the groups)\n",
    "    # and also total\n",
    "    for g in groups:    \n",
    "        # Data points\n",
    "        df_data = getdfw(name=indicator, \n",
    "                    start=start, end=end, \n",
    "                    countries=c.get_groups(g),\n",
    "                    label_field='entity',\n",
    "                    value_field='value',\n",
    "                    column_field='date'\n",
    "                    )\n",
    "        # Data to weight\n",
    "        df_weight = getdfw(name = weight, \n",
    "                    countries = c.get_groups(g),\n",
    "                    start=start, end=end,\n",
    "                    label_field='entity',\n",
    "                    value_field='value',\n",
    "                    column_field='date'\n",
    "                    )\n",
    "\n",
    "        df_av = wa(df_data, df_weight, 'entity')\n",
    "\n",
    "        # Change weigthed average from position\n",
    "        r = df_av.rows[len(df_av.rows)-1]    \n",
    "        for i in range(1, len(r.cells)-2,  3):\n",
    "            r.cells[i] =  Cell(column=r.cells[i].column.name, value=r.cells[i+2].value.value)\n",
    "        df_av.rows[len(df_av.rows)-1] = r\n",
    "\n",
    "        for r in df_av.rows:\n",
    "            ndf.rows.append(r)  \n",
    "\n",
    "    cs = []        \n",
    "\n",
    "    # Average for all groups\n",
    "\n",
    "    for g in groups:\n",
    "        for ctry in c.get_groups(g):\n",
    "            cs.append(ctry)\n",
    "\n",
    "    df_data = getdfw(name=indicator, \n",
    "                    start=start, end=end, \n",
    "                    countries=cs,\n",
    "                    label_field='entity',\n",
    "                    value_field='value',\n",
    "                    column_field='date'\n",
    "                   )\n",
    "\n",
    "    df_weight = getdfw(name = weight, \n",
    "                    countries = cs,\n",
    "                    start=start, end=end,\n",
    "                    label_field='entity',\n",
    "                    value_field='value',\n",
    "                    column_field='date'\n",
    "                    )\n",
    "\n",
    "    df_av = wa(df_data, df_weight, 'entity')\n",
    "\n",
    "    # Change weigthed average from position\n",
    "    r = df_av.rows[len(df_av.rows)-1]   \n",
    "\n",
    "    for i in range(1, len(r.cells)-2,  3):\n",
    "        r.cells[i] = Cell(column=r.cells[i].column.name, value=r.cells[i+2].value.value)\n",
    "        \n",
    "    ndf.rows[len(ndf.rows)-1] = r\n",
    "    \n",
    "    # Produce dataframe that will be resturned as a result of the function\n",
    "    final_df = Frame()    \n",
    "    final_df.add_column(ndf.get_column('entity'))\n",
    "    \n",
    "    for i in range(end-start):        \n",
    "        final_df.add_column(ndf.get_column('%s%s.0_value' % (str(start)[0:4-len(str(i))],i)))\n",
    "        \n",
    "    if export_to_excel == True:\n",
    "        s = \"\"\n",
    "        for g in groups:    \n",
    "            for i in g:\n",
    "                s =  i + \"_\" + s     \n",
    "        final_df.name = \"data/%s-%s-%s-%s-%s\" % (indicator, weight, start, end, s)\n",
    "        final_df.to_xlsx()\n",
    "                            \n",
    "    return final_df"
   ]
  },
  {
   "cell_type": "code",
   "execution_count": 7,
   "metadata": {},
   "outputs": [],
   "source": [
    "start = 2000\n",
    "end = 2018\n",
    "indicator = 'SE.ADT.LITR.FE.ZS'\n",
    "weight = 'SP.POP.TOTL'\n",
    "groups=[['LDCs', 'Africa'],['LDCs', 'Asia and the Pacific'],['LDCs', 'America']]\n",
    "groups_odc=[['Developing excluding LDCs']]\n",
    "#groups=[['LDCs2017', 'Africa'],['LDCs2017', 'Asia and the Pacific'],['LDCs2017', 'America']]"
   ]
  },
  {
   "cell_type": "code",
   "execution_count": 8,
   "metadata": {},
   "outputs": [
    {
     "data": {
      "text/plain": [
       "<data.Frame.Frame at 0x7f97cc1cd160>"
      ]
     },
     "execution_count": 8,
     "metadata": {},
     "output_type": "execute_result"
    }
   ],
   "source": [
    "generate_weighted_average_table(indicator, weight, groups, start, end, True)\n",
    "generate_weighted_average_table(indicator, weight, groups_odc, start, end, True)"
   ]
  },
  {
   "cell_type": "markdown",
   "metadata": {
    "collapsed": true
   },
   "source": []
  }
 ],
 "metadata": {
  "kernelspec": {
   "display_name": "Python 3",
   "language": "python",
   "name": "python3"
  },
  "language_info": {
   "codemirror_mode": {
    "name": "ipython",
    "version": 3
   },
   "file_extension": ".py",
   "mimetype": "text/x-python",
   "name": "python",
   "nbconvert_exporter": "python",
   "pygments_lexer": "ipython3",
   "version": "3.7.1"
  }
 },
 "nbformat": 4,
 "nbformat_minor": 2
}
