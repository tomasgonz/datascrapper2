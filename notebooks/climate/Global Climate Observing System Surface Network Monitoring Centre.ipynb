{
 "cells": [
  {
   "cell_type": "code",
   "execution_count": null,
   "metadata": {},
   "outputs": [],
   "source": [
    "import urllib.request\n",
    "base_url = \"https://www.dwd.de/EN/specialusers/water_management/gsnmc/editorial/gsnmcdataset/\"\n",
    "for i in range(2000,2019):\n",
    "    for j in range(1,12):\n",
    "        remote_file = \"gsstr(i)\n",
    "remote_file = gsn_200001_dat.dat\n",
    "print('Beginning file download with urllib2...')\n",
    "?view=nasPublication&nn=559810\n",
    "url = 'http://i3.ytimg.com/vi/J---aiyznGQ/mqdefault.jpg'\n",
    "urllib.request.urlretrieve(url, '/Users/scott/Downloads/cat.jpg')"
   ]
  }
 ],
 "metadata": {
  "kernelspec": {
   "display_name": "Python 3",
   "language": "python",
   "name": "python3"
  },
  "language_info": {
   "codemirror_mode": {
    "name": "ipython",
    "version": 3
   },
   "file_extension": ".py",
   "mimetype": "text/x-python",
   "name": "python",
   "nbconvert_exporter": "python",
   "pygments_lexer": "ipython3",
   "version": "3.7.1"
  }
 },
 "nbformat": 4,
 "nbformat_minor": 2
}
