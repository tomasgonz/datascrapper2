{
 "cells": [
  {
   "cell_type": "code",
   "execution_count": 14,
   "metadata": {
    "ExecuteTime": {
     "end_time": "2020-01-06T16:15:36.288474Z",
     "start_time": "2020-01-06T16:15:36.106587Z"
    }
   },
   "outputs": [],
   "source": [
    "import sys\n",
    "sys.path.append(\"../../\")\n",
    "from geo.countries import Countries\n",
    "c = Countries()\n",
    "c.\n",
    "import sources"
   ]
  },
  {
   "cell_type": "code",
   "execution_count": 9,
   "metadata": {
    "ExecuteTime": {
     "end_time": "2020-01-06T16:07:40.115931Z",
     "start_time": "2020-01-06T16:07:40.101973Z"
    }
   },
   "outputs": [],
   "source": [
    "afr = c.get_country_names_from_groups(['LDCs2019', 'Africa'])\n",
    "ap = c.get_country_names_from_groups(['LDCs2019', 'Asia and the Pacific'])\n",
    "am = c.get_country_names_from_groups(['LDCs2019', 'America'])"
   ]
  },
  {
   "cell_type": "code",
   "execution_count": 16,
   "metadata": {
    "ExecuteTime": {
     "end_time": "2020-01-06T16:59:52.808881Z",
     "start_time": "2020-01-06T16:59:52.478087Z"
    }
   },
   "outputs": [
    {
     "ename": "KeyError",
     "evalue": "'value_field'",
     "output_type": "error",
     "traceback": [
      "\u001b[0;31m-----------------------------------------------------------------\u001b[0m",
      "\u001b[0;31mKeyError\u001b[0m                        Traceback (most recent call last)",
      "\u001b[0;32m<ipython-input-16-9a3e0c234b93>\u001b[0m in \u001b[0;36m<module>\u001b[0;34m\u001b[0m\n\u001b[1;32m      4\u001b[0m                                                        \u001b[0mcountries\u001b[0m \u001b[0;34m=\u001b[0m \u001b[0mafr\u001b[0m\u001b[0;34m,\u001b[0m\u001b[0;34m\u001b[0m\u001b[0;34m\u001b[0m\u001b[0m\n\u001b[1;32m      5\u001b[0m                                                        \u001b[0mlabel_field\u001b[0m\u001b[0;34m=\u001b[0m\u001b[0;34m'entity'\u001b[0m\u001b[0;34m,\u001b[0m\u001b[0;34m\u001b[0m\u001b[0;34m\u001b[0m\u001b[0m\n\u001b[0;32m----> 6\u001b[0;31m                                                        column_field='value')\n\u001b[0m",
      "\u001b[0;32m/mnt/c/Users/Tomas.Gonzalez/datascrapper2/sources/worldbank/indicators.py\u001b[0m in \u001b[0;36mget_data_frame_wide\u001b[0;34m(**kwargs)\u001b[0m\n\u001b[1;32m     55\u001b[0m \u001b[0;34m\u001b[0m\u001b[0m\n\u001b[1;32m     56\u001b[0m     dfw = df.wide(kwargs['label_field'],\n\u001b[0;32m---> 57\u001b[0;31m         \u001b[0mkwargs\u001b[0m\u001b[0;34m[\u001b[0m\u001b[0;34m'value_field'\u001b[0m\u001b[0;34m]\u001b[0m\u001b[0;34m,\u001b[0m\u001b[0;34m\u001b[0m\u001b[0;34m\u001b[0m\u001b[0m\n\u001b[0m\u001b[1;32m     58\u001b[0m         kwargs['column_field'])\n\u001b[1;32m     59\u001b[0m \u001b[0;34m\u001b[0m\u001b[0m\n",
      "\u001b[0;31mKeyError\u001b[0m: 'value_field'"
     ]
    }
   ],
   "source": [
    "years = list(map(str, list(range(2011,2019))))\n",
    "pop = sources.worldbank.indicators.get_data_frame_wide(name='SP.POP.TOTL', \n",
    "                                                       years = years, \n",
    "                                                       countries = afr,\n",
    "                                                       label_field='entity',\n",
    "                                                       value_field='value',\n",
    "                                                       column_field = 'date')"
   ]
  },
  {
   "cell_type": "code",
   "execution_count": null,
   "metadata": {},
   "outputs": [],
   "source": []
  }
 ],
 "metadata": {
  "kernelspec": {
   "display_name": "Python 3",
   "language": "python",
   "name": "python3"
  },
  "language_info": {
   "codemirror_mode": {
    "name": "ipython",
    "version": 3
   },
   "file_extension": ".py",
   "mimetype": "text/x-python",
   "name": "python",
   "nbconvert_exporter": "python",
   "pygments_lexer": "ipython3",
   "version": "3.7.1"
  }
 },
 "nbformat": 4,
 "nbformat_minor": 2
}
