{
 "cells": [
  {
   "cell_type": "code",
   "execution_count": null,
   "metadata": {
    "ExecuteTime": {
     "end_time": "2019-10-25T14:23:46.481587Z",
     "start_time": "2019-10-25T14:23:45.039173Z"
    },
    "slideshow": {
     "slide_type": "skip"
    }
   },
   "outputs": [],
   "source": [
    "import sys\n",
    "sys.path.append(\"../../\")\n",
    "from data.Frame import Frame\n",
    "from bk import show_weighted_average, show_group_total, get_pandas_dataframe, line_chart, scatter_plot\n",
    "from bokeh.io import output_notebook\n",
    "from bokeh.plotting import figure, output_file, show, reset_output\n",
    "import sources\n",
    "from sources.unpd.indicators import get_projection_by_groups as gpp\n",
    "from sources.cdp.indicators import get_indicators as get_indicators_cdp_2018\n",
    "from sources.worldbank.datatable import get_data_table as get_wb_tb\n",
    "reset_output()\n",
    "output_notebook()"
   ]
  },
  {
   "cell_type": "markdown",
   "metadata": {
    "slideshow": {
     "slide_type": "slide"
    }
   },
   "source": [
    "# Human and Social development in the LDCs"
   ]
  },
  {
   "cell_type": "markdown",
   "metadata": {
    "slideshow": {
     "slide_type": "slide"
    }
   },
   "source": [
    "# The Least Developed Countries\n",
    "\n",
    "+ The category of the least developed countries was created in 1971\n",
    "\n",
    "+ Least developed countries (LDCs) are low-income countries confronting severe structural impediments to sustainable development. They are highly vulnerable to economic and environmental shocks and have low levels of human assets.\n"
   ]
  },
  {
   "cell_type": "markdown",
   "metadata": {
    "slideshow": {
     "slide_type": "slide"
    }
   },
   "source": [
    "Least developed countries (LDCs) are **low-income countries** confronting severe **structural** impediments to sustainable development. They are highly **vulnerable to economic and environmental shocks** and have **low levels of human assets**."
   ]
  },
  {
   "cell_type": "markdown",
   "metadata": {
    "slideshow": {
     "slide_type": "slide"
    }
   },
   "source": [
    "## The criteria to dentify LDCs\n",
    "The Committee for Development Policy has established three criteria for including and graduating countries from the category:\n",
    "    \n",
    "### The Economic Vulnerability Index (EVI)\n",
    "    \n",
    "### The Human Assets Index (HAI)\n",
    "\n",
    "### GNI per capita"
   ]
  },
  {
   "cell_type": "code",
   "execution_count": 2,
   "metadata": {
    "ExecuteTime": {
     "end_time": "2019-10-25T14:23:46.674809Z",
     "start_time": "2019-10-25T14:23:46.484107Z"
    },
    "slideshow": {
     "slide_type": "skip"
    }
   },
   "outputs": [],
   "source": [
    "cdp_data_2018 = get_indicators_cdp_2018(['LDCs'])\n",
    "entities = cdp_data_2018.get_column('entity').as_array()\n",
    "evi = cdp_data_2018.get_column('evi').as_array()\n",
    "hai = cdp_data_2018.get_column('hai').as_array()\n",
    "gni = cdp_data_2018.get_column('gni_per_capita_dollars').as_array()\n",
    "gni_normalized = [(x / sum(gni))*30 for x in gni]"
   ]
  },
  {
   "cell_type": "code",
   "execution_count": 3,
   "metadata": {
    "ExecuteTime": {
     "end_time": "2019-10-25T14:23:46.713931Z",
     "start_time": "2019-10-25T14:23:46.677516Z"
    },
    "slideshow": {
     "slide_type": "slide"
    }
   },
   "outputs": [
    {
     "data": {
      "text/html": [
       "\n",
       "\n",
       "\n",
       "\n",
       "\n",
       "\n",
       "  <div class=\"bk-root\" id=\"92e61630-19ab-4fff-8439-a6ea8d83ac21\" data-root-id=\"1004\"></div>\n"
      ]
     },
     "metadata": {},
     "output_type": "display_data"
    },
    {
     "data": {
      "application/javascript": [
       "(function(root) {\n",
       "  function embed_document(root) {\n",
       "    \n",
       "  var docs_json = {\"b0d0f284-6d26-4357-940b-1fced713a6cd\":{\"roots\":{\"references\":[{\"attributes\":{\"below\":[{\"id\":\"1015\",\"type\":\"LinearAxis\"}],\"center\":[{\"id\":\"1019\",\"type\":\"Grid\"},{\"id\":\"1024\",\"type\":\"Grid\"},{\"id\":\"1033\",\"type\":\"LabelSet\"}],\"left\":[{\"id\":\"1020\",\"type\":\"LinearAxis\"}],\"plot_width\":950,\"renderers\":[{\"id\":\"1031\",\"type\":\"GlyphRenderer\"}],\"title\":{\"id\":\"1005\",\"type\":\"Title\"},\"toolbar\":{\"id\":\"1026\",\"type\":\"Toolbar\"},\"x_range\":{\"id\":\"1007\",\"type\":\"DataRange1d\"},\"x_scale\":{\"id\":\"1011\",\"type\":\"LinearScale\"},\"y_range\":{\"id\":\"1009\",\"type\":\"DataRange1d\"},\"y_scale\":{\"id\":\"1013\",\"type\":\"LinearScale\"}},\"id\":\"1004\",\"subtype\":\"Figure\",\"type\":\"Plot\"},{\"attributes\":{\"level\":\"glyph\",\"source\":{\"id\":\"1003\",\"type\":\"ColumnDataSource\"},\"text\":{\"field\":\"names\"},\"text_font_size\":{\"value\":\"8pt\"},\"x\":{\"field\":\"evi\"},\"x_offset\":{\"value\":5},\"y\":{\"field\":\"hai\"},\"y_offset\":{\"value\":5}},\"id\":\"1033\",\"type\":\"LabelSet\"},{\"attributes\":{\"data_source\":{\"id\":\"1003\",\"type\":\"ColumnDataSource\"},\"glyph\":{\"id\":\"1029\",\"type\":\"Circle\"},\"hover_glyph\":null,\"muted_glyph\":null,\"nonselection_glyph\":{\"id\":\"1030\",\"type\":\"Circle\"},\"selection_glyph\":null,\"view\":{\"id\":\"1032\",\"type\":\"CDSView\"}},\"id\":\"1031\",\"type\":\"GlyphRenderer\"},{\"attributes\":{\"callback\":null},\"id\":\"1007\",\"type\":\"DataRange1d\"},{\"attributes\":{},\"id\":\"1040\",\"type\":\"Selection\"},{\"attributes\":{},\"id\":\"1039\",\"type\":\"BasicTickFormatter\"},{\"attributes\":{\"text\":\"HAI vs EVI\"},\"id\":\"1005\",\"type\":\"Title\"},{\"attributes\":{},\"id\":\"1011\",\"type\":\"LinearScale\"},{\"attributes\":{\"callback\":null},\"id\":\"1009\",\"type\":\"DataRange1d\"},{\"attributes\":{},\"id\":\"1041\",\"type\":\"UnionRenderers\"},{\"attributes\":{\"axis_label\":\"EVI\",\"formatter\":{\"id\":\"1037\",\"type\":\"BasicTickFormatter\"},\"ticker\":{\"id\":\"1016\",\"type\":\"BasicTicker\"}},\"id\":\"1015\",\"type\":\"LinearAxis\"},{\"attributes\":{},\"id\":\"1013\",\"type\":\"LinearScale\"},{\"attributes\":{\"source\":{\"id\":\"1003\",\"type\":\"ColumnDataSource\"}},\"id\":\"1032\",\"type\":\"CDSView\"},{\"attributes\":{\"callback\":null,\"data\":{\"evi\":[39.31847499761291,36.757499031522215,25.21977531407407,34.32843983867595,36.26105903025079,38.24968188294886,44.53840537420615,34.75933730781097,33.55527518528004,52.43229442971872,52.38395723067039,27.237133266314615,36.329678101824925,54.70608523319488,32.09573717926084,72.15168677316157,30.163203421036275,52.38566801102522,30.553838443774744,73.69258065327526,42.02234466093909,53.203575960114186,37.845308176229935,47.1236284854542,36.7941622313397,39.91252075695854,36.7237686236129,31.7432961328469,28.422642129717293,35.255239686720145,36.377946784929456,41.23100272969866,33.44246330286905,51.563062215984765,51.90755365345187,34.725685139794926,49.214096687726894,56.79572845959256,28.338132621668773,56.01606076954609,31.718809204036635,27.90609781167721,46.9962786557694,38.63576320999087,40.46026103469391],\"hai\":[48.3698405313323,52.52043657551618,73.15064266822495,49.75421277291333,72.86608884522367,42.91698654581399,38.4582473052599,68.92528304696823,17.37091156051442,22.085484315685715,49.385256569573,41.87232303636952,58.02908229893985,42.893055780999646,45.30853361262692,51.82920387983884,39.48893995074097,41.716252662688056,47.97415181855695,83.96679690389746,61.572583924694506,37.23070426579468,54.53329453168444,52.522138892622166,43.106314630459046,46.940261858442696,45.8152514338928,68.47497037955749,71.21981923337259,35.374052152796644,54.97246497703989,86.00679852404463,57.12957161797068,27.395916767676766,74.78849047963382,16.65507946932967,53.03509118236097,66.63143020458574,61.82618003109269,90.13457842056366,50.23906690599287,56.02779180814835,78.51943490439294,59.22749709179137,58.594410552318735],\"names\":[\"Afghanistan\",\"Angola\",\"Bangladesh\",\"Benin\",\"Bhutan\",\"Burkina Faso\",\"Burundi\",\"Cambodia\",\"Central African Republic\",\"Chad\",\"Comoros\",\"Democratic Republic of the Congo\",\"Djibouti\",\"Eritrea\",\"Ethiopia\",\"Gambia\",\"Guinea\",\"Guinea-Bissau\",\"Haiti\",\"Kiribati\",\"Lesotho\",\"Liberia\",\"Madagascar\",\"Malawi\",\"Mali\",\"Mauritania\",\"Mozambique\",\"Myanmar\",\"Nepal\",\"Niger\",\"Rwanda\",\"Sao Tome and Principe\",\"Senegal\",\"Sierra Leone\",\"Solomon Islands\",\"Somalia\",\"Sudan\",\"Timor-Leste\",\"Togo\",\"Tuvalu\",\"Uganda\",\"United Republic of Tanzania\",\"Vanuatu\",\"Yemen\",\"Zambia\"],\"radii\":[0.3486056940032576,2.4668524266042016,0.7020447947937721,0.48602223509185105,1.3228778144086932,0.3545063770828273,0.1439906217703531,0.5921658071844065,0.2039025303122942,0.5072539150463391,0.8788819521470623,0.26478852194206287,1.0434896028654765,0.4748310823991456,0.3550084704511006,0.247446969190501,0.37373691067035597,0.32794088514739334,0.44869169499991846,1.6454751810450026,0.7143690867404829,0.23730867258431165,0.2677231781905875,0.18263121659249557,0.441142763699007,0.6775521275707559,0.3108420352212877,0.6914928152526487,0.41032077914907744,0.2166245207324081,0.3895316490963874,0.9279304402907724,0.5532615213153896,0.32073284585082373,0.9714956147211605,0.052410075653960046,0.8001174040745556,1.4634728916821294,0.3057813583848219,2.9686806171600546,0.3643815661228828,0.49688045527581914,1.6609010705734226,0.5258532451564529,0.8600485617522887]},\"selected\":{\"id\":\"1040\",\"type\":\"Selection\"},\"selection_policy\":{\"id\":\"1041\",\"type\":\"UnionRenderers\"}},\"id\":\"1003\",\"type\":\"ColumnDataSource\"},{\"attributes\":{},\"id\":\"1021\",\"type\":\"BasicTicker\"},{\"attributes\":{\"ticker\":{\"id\":\"1016\",\"type\":\"BasicTicker\"}},\"id\":\"1019\",\"type\":\"Grid\"},{\"attributes\":{\"axis_label\":\"HAI\",\"formatter\":{\"id\":\"1039\",\"type\":\"BasicTickFormatter\"},\"ticker\":{\"id\":\"1021\",\"type\":\"BasicTicker\"}},\"id\":\"1020\",\"type\":\"LinearAxis\"},{\"attributes\":{},\"id\":\"1016\",\"type\":\"BasicTicker\"},{\"attributes\":{\"callback\":null},\"id\":\"1025\",\"type\":\"HoverTool\"},{\"attributes\":{\"fill_alpha\":{\"value\":0.1},\"fill_color\":{\"value\":\"#1f77b4\"},\"line_alpha\":{\"value\":0.1},\"line_color\":{\"value\":\"#1f77b4\"},\"radius\":{\"field\":\"radii\",\"units\":\"data\"},\"x\":{\"field\":\"evi\"},\"y\":{\"field\":\"hai\"}},\"id\":\"1030\",\"type\":\"Circle\"},{\"attributes\":{\"active_drag\":\"auto\",\"active_inspect\":\"auto\",\"active_multi\":null,\"active_scroll\":\"auto\",\"active_tap\":\"auto\",\"tools\":[{\"id\":\"1025\",\"type\":\"HoverTool\"}]},\"id\":\"1026\",\"type\":\"Toolbar\"},{\"attributes\":{\"dimension\":1,\"ticker\":{\"id\":\"1021\",\"type\":\"BasicTicker\"}},\"id\":\"1024\",\"type\":\"Grid\"},{\"attributes\":{},\"id\":\"1037\",\"type\":\"BasicTickFormatter\"},{\"attributes\":{\"fill_alpha\":{\"value\":0.6},\"fill_color\":{\"value\":\"#1f77b4\"},\"line_color\":{\"value\":null},\"radius\":{\"field\":\"radii\",\"units\":\"data\"},\"x\":{\"field\":\"evi\"},\"y\":{\"field\":\"hai\"}},\"id\":\"1029\",\"type\":\"Circle\"}],\"root_ids\":[\"1004\"]},\"title\":\"Bokeh Application\",\"version\":\"1.3.4\"}};\n",
       "  var render_items = [{\"docid\":\"b0d0f284-6d26-4357-940b-1fced713a6cd\",\"roots\":{\"1004\":\"92e61630-19ab-4fff-8439-a6ea8d83ac21\"}}];\n",
       "  root.Bokeh.embed.embed_items_notebook(docs_json, render_items);\n",
       "\n",
       "  }\n",
       "  if (root.Bokeh !== undefined) {\n",
       "    embed_document(root);\n",
       "  } else {\n",
       "    var attempts = 0;\n",
       "    var timer = setInterval(function(root) {\n",
       "      if (root.Bokeh !== undefined) {\n",
       "        embed_document(root);\n",
       "        clearInterval(timer);\n",
       "      }\n",
       "      attempts++;\n",
       "      if (attempts > 100) {\n",
       "        console.log(\"Bokeh: ERROR: Unable to run BokehJS code because BokehJS library is missing\");\n",
       "        clearInterval(timer);\n",
       "      }\n",
       "    }, 10, root)\n",
       "  }\n",
       "})(window);"
      ],
      "application/vnd.bokehjs_exec.v0+json": ""
     },
     "metadata": {
      "application/vnd.bokehjs_exec.v0+json": {
       "id": "1004"
      }
     },
     "output_type": "display_data"
    }
   ],
   "source": [
    "p = scatter_plot(evi, hai, gni_normalized, entities)\n",
    "show(p)"
   ]
  },
  {
   "cell_type": "markdown",
   "metadata": {
    "slideshow": {
     "slide_type": "slide"
    }
   },
   "source": [
    "# The Istanbul Programme of Action"
   ]
  },
  {
   "cell_type": "markdown",
   "metadata": {
    "ExecuteTime": {
     "end_time": "2019-10-23T16:34:47.577716Z",
     "start_time": "2019-10-23T16:34:47.551207Z"
    },
    "slideshow": {
     "slide_type": "slide"
    }
   },
   "source": [
    "# Objectives"
   ]
  },
  {
   "cell_type": "markdown",
   "metadata": {
    "slideshow": {
     "slide_type": "slide"
    }
   },
   "source": [
    "27. The overarching goal of the Programme of Action for the decade 2011-2020 is to overcome the structural challenges faced by the least developed countries in order to eradicate poverty, achieve internationally agreed development goals and enable graduation from the least developed country category.\n",
    "\n"
   ]
  },
  {
   "cell_type": "markdown",
   "metadata": {
    "slideshow": {
     "slide_type": "slide"
    }
   },
   "source": [
    "28. Guided by the overarching goal, national policies of least developed countries and international support measures during the decade will focus on the following specific objectives with the aim of enabling half the number of least developed countries to meet the criteria for graduation by 2020:"
   ]
  },
  {
   "cell_type": "markdown",
   "metadata": {
    "slideshow": {
     "slide_type": "slide"
    }
   },
   "source": [
    "**(a)** Achieve sustained, equitable and inclusive economic growth in least developed countries, to at least the level of 7 per cent per annum, by strengthening their productive capacity in all sectors through structural transformation and overcoming their marginalization through their effective integration into the global economy, including through regional integration;"
   ]
  },
  {
   "cell_type": "markdown",
   "metadata": {
    "slideshow": {
     "slide_type": "slide"
    }
   },
   "source": [
    "**(b) Build human capacities by fostering sustained, equitable and inclusive human and social development, gender equality and the empowerment of women;**"
   ]
  },
  {
   "cell_type": "markdown",
   "metadata": {
    "slideshow": {
     "slide_type": "slide"
    }
   },
   "source": [
    "**(c)** Reduce the **vulnerability** of least developed countries to economic, natural and environmental shocks and disasters, as well as climate change, and enhance their ability to meet these and other challenges through strengthening their resilience;"
   ]
  },
  {
   "cell_type": "markdown",
   "metadata": {
    "slideshow": {
     "slide_type": "slide"
    }
   },
   "source": [
    "**(d)** Ensure enhanced financial resources and their effective use for least developed countries’ development, including through domestic resource mobilization, ODA, external debt relief, foreign direct investment and remittances;"
   ]
  },
  {
   "cell_type": "markdown",
   "metadata": {
    "slideshow": {
     "slide_type": "slide"
    }
   },
   "source": [
    "**(e)** Enhance good governance at all levels, by strengthening democratic processes, institutions and the rule of law; increasing efficiency, coherence, transparency and participation; protecting and promoting human rights; and reducing corruption, and strengthen least developed country Governments’ capacity to play an effective role in their economic and social development."
   ]
  },
  {
   "cell_type": "markdown",
   "metadata": {
    "slideshow": {
     "slide_type": "slide"
    }
   },
   "source": [
    "# IV. Priority areas for action\n",
    "\n",
    "43. The actions will be organized by priority areas as:\n",
    "\n",
    "A. Productive capacity\n",
    "\n",
    "B. Agriculture, food security and rural development\n",
    "\n",
    "C. Trade\n",
    "\n",
    "D. Commodities\n",
    "\n",
    "**E. Human and social development**\n",
    "\n",
    "F. Multiple crises and other emerging challenges ▪Economic shocks\n",
    "\n",
    "H. Good governance at all levels"
   ]
  },
  {
   "cell_type": "markdown",
   "metadata": {
    "slideshow": {
     "slide_type": "slide"
    }
   },
   "source": [
    "# E. Human and social development\n",
    "\n",
    "+ Education and training\n",
    "\n",
    "+ Population and primary health\n",
    "\n",
    "+ Youth development\n",
    "\n",
    "+ Shelter\n",
    "\n",
    "+ Water and sanitation\n",
    "\n",
    "+ Gender equality and empowerment of women \n",
    "\n",
    "+ Social protection"
   ]
  },
  {
   "cell_type": "markdown",
   "metadata": {
    "slideshow": {
     "slide_type": "slide"
    }
   },
   "source": [
    "# Population and primary health"
   ]
  },
  {
   "cell_type": "code",
   "execution_count": 39,
   "metadata": {
    "ExecuteTime": {
     "end_time": "2019-10-25T14:23:47.479465Z",
     "start_time": "2019-10-25T14:23:46.720219Z"
    },
    "scrolled": true,
    "slideshow": {
     "slide_type": "slide"
    }
   },
   "outputs": [
    {
     "data": {
      "text/html": [
       "\n",
       "\n",
       "\n",
       "\n",
       "\n",
       "\n",
       "  <div class=\"bk-root\" id=\"7b18b3a0-368e-485f-9a35-7b10d3212243\" data-root-id=\"16758\"></div>\n"
      ]
     },
     "metadata": {},
     "output_type": "display_data"
    },
    {
     "data": {
      "application/javascript": [
       "(function(root) {\n",
       "  function embed_document(root) {\n",
       "    \n",
       "  var docs_json = {\"463b36f2-f577-4d1f-a683-e01917f81c14\":{\"roots\":{\"references\":[{\"attributes\":{\"below\":[{\"id\":\"16769\",\"type\":\"LinearAxis\"}],\"center\":[{\"id\":\"16773\",\"type\":\"Grid\"},{\"id\":\"16778\",\"type\":\"Grid\"},{\"id\":\"16803\",\"type\":\"Legend\"}],\"left\":[{\"id\":\"16774\",\"type\":\"LinearAxis\"}],\"plot_height\":400,\"plot_width\":1000,\"renderers\":[{\"id\":\"16795\",\"type\":\"GlyphRenderer\"},{\"id\":\"16808\",\"type\":\"GlyphRenderer\"}],\"title\":{\"id\":\"16759\",\"type\":\"Title\"},\"toolbar\":{\"id\":\"16785\",\"type\":\"Toolbar\"},\"x_range\":{\"id\":\"16761\",\"type\":\"DataRange1d\"},\"x_scale\":{\"id\":\"16765\",\"type\":\"LinearScale\"},\"y_range\":{\"id\":\"16763\",\"type\":\"DataRange1d\"},\"y_scale\":{\"id\":\"16767\",\"type\":\"LinearScale\"}},\"id\":\"16758\",\"subtype\":\"Figure\",\"type\":\"Plot\"},{\"attributes\":{\"source\":{\"id\":\"16805\",\"type\":\"ColumnDataSource\"}},\"id\":\"16809\",\"type\":\"CDSView\"},{\"attributes\":{\"items\":[{\"id\":\"16804\",\"type\":\"LegendItem\"}],\"location\":\"bottom_left\"},\"id\":\"16803\",\"type\":\"Legend\"},{\"attributes\":{\"fill_color\":{\"value\":\"#FA1857\"},\"line_color\":{\"value\":\"#FA1857\"},\"size\":{\"units\":\"screen\",\"value\":0},\"x\":{\"field\":\"x\"},\"y\":{\"field\":\"y\"}},\"id\":\"16806\",\"type\":\"Circle\"},{\"attributes\":{},\"id\":\"17378\",\"type\":\"UnionRenderers\"},{\"attributes\":{\"label\":{\"value\":\"LDCs\"},\"renderers\":[{\"id\":\"16795\",\"type\":\"GlyphRenderer\"}]},\"id\":\"16804\",\"type\":\"LegendItem\"},{\"attributes\":{\"grid_line_color\":null,\"ticker\":{\"id\":\"16770\",\"type\":\"BasicTicker\"}},\"id\":\"16773\",\"type\":\"Grid\"},{\"attributes\":{\"callback\":null},\"id\":\"16761\",\"type\":\"DataRange1d\"},{\"attributes\":{},\"id\":\"17377\",\"type\":\"Selection\"},{\"attributes\":{},\"id\":\"16779\",\"type\":\"PanTool\"},{\"attributes\":{},\"id\":\"16782\",\"type\":\"SaveTool\"},{\"attributes\":{\"axis_label\":\"Years\",\"formatter\":{\"id\":\"16799\",\"type\":\"BasicTickFormatter\"},\"ticker\":{\"id\":\"16770\",\"type\":\"BasicTicker\"}},\"id\":\"16769\",\"type\":\"LinearAxis\"},{\"attributes\":{\"callback\":null,\"data\":{\"x\":[\"1962\",\"1963\",\"1964\",\"1965\",\"1966\",\"1967\",\"1968\",\"1969\",\"1970\",\"1971\",\"1972\",\"1973\",\"1974\",\"1975\",\"1976\",\"1977\",\"1978\",\"1979\",\"1980\",\"1981\",\"1982\",\"1983\",\"1984\",\"1985\",\"1986\",\"1987\",\"1988\",\"1989\",\"1990\",\"1991\",\"1992\",\"1993\",\"1994\",\"1995\",\"1996\",\"1997\",\"1998\",\"1999\",\"2000\",\"2001\",\"2002\",\"2003\",\"2004\",\"2005\",\"2006\",\"2007\",\"2008\",\"2009\",\"2010\",\"2011\",\"2012\",\"2013\",\"2014\",\"2015\",\"2016\",\"2017\"],\"y\":[251900741.0,257908074.0,264174179.0,270720892.0,277573029.0,284708409.0,292045744.0,299473256.0,306916896.0,314344629.0,321797581.0,329357353.0,337142681.0,345242710.0,353691338.0,362475112.0,371577256.0,380963304.0,390612563.0,400528924.0,410740611.0,421279107.0,432185325.0,443491288.0,455193656.0,467290514.0,479814021.0,492803028.0,506275612.0,520262423.0,534731006.0,549559264.0,564581083.0,579681672.0,594801259.0,609983301.0,625342098.0,641046802.0,657215864.0,673903112.0,691061397.0,708587948.0,726331177.0,744190510.0,762132501.0,780219542.0,798563392.0,817322629.0,836614860.0,856472234.0,873619764.0,894516028.0,915914952.0,937788499.0,960134718.0,982952189.0]},\"selected\":{\"id\":\"17377\",\"type\":\"Selection\"},\"selection_policy\":{\"id\":\"17378\",\"type\":\"UnionRenderers\"}},\"id\":\"16805\",\"type\":\"ColumnDataSource\"},{\"attributes\":{\"dimension\":1,\"grid_line_alpha\":0.5,\"ticker\":{\"id\":\"16775\",\"type\":\"BasicTicker\"}},\"id\":\"16778\",\"type\":\"Grid\"},{\"attributes\":{},\"id\":\"16767\",\"type\":\"LinearScale\"},{\"attributes\":{\"bottom_units\":\"screen\",\"fill_alpha\":{\"value\":0.5},\"fill_color\":{\"value\":\"lightgrey\"},\"left_units\":\"screen\",\"level\":\"overlay\",\"line_alpha\":{\"value\":1.0},\"line_color\":{\"value\":\"black\"},\"line_dash\":[4,4],\"line_width\":{\"value\":2},\"render_mode\":\"css\",\"right_units\":\"screen\",\"top_units\":\"screen\"},\"id\":\"16802\",\"type\":\"BoxAnnotation\"},{\"attributes\":{\"data_source\":{\"id\":\"16805\",\"type\":\"ColumnDataSource\"},\"glyph\":{\"id\":\"16806\",\"type\":\"Circle\"},\"hover_glyph\":null,\"muted_glyph\":null,\"nonselection_glyph\":{\"id\":\"16807\",\"type\":\"Circle\"},\"selection_glyph\":null,\"view\":{\"id\":\"16809\",\"type\":\"CDSView\"}},\"id\":\"16808\",\"type\":\"GlyphRenderer\"},{\"attributes\":{\"line_color\":\"#FA1857\",\"line_width\":3,\"x\":{\"field\":\"x\"},\"y\":{\"field\":\"y\"}},\"id\":\"16793\",\"type\":\"Line\"},{\"attributes\":{},\"id\":\"17376\",\"type\":\"UnionRenderers\"},{\"attributes\":{\"callback\":null},\"id\":\"16763\",\"type\":\"DataRange1d\"},{\"attributes\":{},\"id\":\"16775\",\"type\":\"BasicTicker\"},{\"attributes\":{\"axis_label\":\"SP.POP.TOTL\",\"formatter\":{\"id\":\"16801\",\"type\":\"BasicTickFormatter\"},\"ticker\":{\"id\":\"16775\",\"type\":\"BasicTicker\"}},\"id\":\"16774\",\"type\":\"LinearAxis\"},{\"attributes\":{\"active_drag\":\"auto\",\"active_inspect\":\"auto\",\"active_multi\":null,\"active_scroll\":\"auto\",\"active_tap\":\"auto\",\"tools\":[{\"id\":\"16779\",\"type\":\"PanTool\"},{\"id\":\"16780\",\"type\":\"WheelZoomTool\"},{\"id\":\"16781\",\"type\":\"BoxZoomTool\"},{\"id\":\"16782\",\"type\":\"SaveTool\"},{\"id\":\"16783\",\"type\":\"ResetTool\"},{\"id\":\"16784\",\"type\":\"HelpTool\"},{\"id\":\"16810\",\"type\":\"HoverTool\"}]},\"id\":\"16785\",\"type\":\"Toolbar\"},{\"attributes\":{\"line_alpha\":0.1,\"line_color\":\"#1f77b4\",\"line_width\":3,\"x\":{\"field\":\"x\"},\"y\":{\"field\":\"y\"}},\"id\":\"16794\",\"type\":\"Line\"},{\"attributes\":{},\"id\":\"16780\",\"type\":\"WheelZoomTool\"},{\"attributes\":{\"source\":{\"id\":\"16792\",\"type\":\"ColumnDataSource\"}},\"id\":\"16796\",\"type\":\"CDSView\"},{\"attributes\":{},\"id\":\"16799\",\"type\":\"BasicTickFormatter\"},{\"attributes\":{\"overlay\":{\"id\":\"16802\",\"type\":\"BoxAnnotation\"}},\"id\":\"16781\",\"type\":\"BoxZoomTool\"},{\"attributes\":{},\"id\":\"16784\",\"type\":\"HelpTool\"},{\"attributes\":{},\"id\":\"16783\",\"type\":\"ResetTool\"},{\"attributes\":{\"fill_alpha\":{\"value\":0.1},\"fill_color\":{\"value\":\"#1f77b4\"},\"line_alpha\":{\"value\":0.1},\"line_color\":{\"value\":\"#1f77b4\"},\"size\":{\"units\":\"screen\",\"value\":0},\"x\":{\"field\":\"x\"},\"y\":{\"field\":\"y\"}},\"id\":\"16807\",\"type\":\"Circle\"},{\"attributes\":{},\"id\":\"16770\",\"type\":\"BasicTicker\"},{\"attributes\":{\"text\":\"Population, total\"},\"id\":\"16759\",\"type\":\"Title\"},{\"attributes\":{\"callback\":null,\"tooltips\":\"                \\n        <div style=padding=5px>Year:@x</div>\\n        <div style=padding=5px>Value:@y</div>        \\n        \"},\"id\":\"16810\",\"type\":\"HoverTool\"},{\"attributes\":{},\"id\":\"17375\",\"type\":\"Selection\"},{\"attributes\":{},\"id\":\"16801\",\"type\":\"BasicTickFormatter\"},{\"attributes\":{\"data_source\":{\"id\":\"16792\",\"type\":\"ColumnDataSource\"},\"glyph\":{\"id\":\"16793\",\"type\":\"Line\"},\"hover_glyph\":null,\"muted_glyph\":null,\"nonselection_glyph\":{\"id\":\"16794\",\"type\":\"Line\"},\"selection_glyph\":null,\"view\":{\"id\":\"16796\",\"type\":\"CDSView\"}},\"id\":\"16795\",\"type\":\"GlyphRenderer\"},{\"attributes\":{\"callback\":null,\"data\":{\"x\":[\"1962\",\"1963\",\"1964\",\"1965\",\"1966\",\"1967\",\"1968\",\"1969\",\"1970\",\"1971\",\"1972\",\"1973\",\"1974\",\"1975\",\"1976\",\"1977\",\"1978\",\"1979\",\"1980\",\"1981\",\"1982\",\"1983\",\"1984\",\"1985\",\"1986\",\"1987\",\"1988\",\"1989\",\"1990\",\"1991\",\"1992\",\"1993\",\"1994\",\"1995\",\"1996\",\"1997\",\"1998\",\"1999\",\"2000\",\"2001\",\"2002\",\"2003\",\"2004\",\"2005\",\"2006\",\"2007\",\"2008\",\"2009\",\"2010\",\"2011\",\"2012\",\"2013\",\"2014\",\"2015\",\"2016\",\"2017\"],\"y\":[251900741.0,257908074.0,264174179.0,270720892.0,277573029.0,284708409.0,292045744.0,299473256.0,306916896.0,314344629.0,321797581.0,329357353.0,337142681.0,345242710.0,353691338.0,362475112.0,371577256.0,380963304.0,390612563.0,400528924.0,410740611.0,421279107.0,432185325.0,443491288.0,455193656.0,467290514.0,479814021.0,492803028.0,506275612.0,520262423.0,534731006.0,549559264.0,564581083.0,579681672.0,594801259.0,609983301.0,625342098.0,641046802.0,657215864.0,673903112.0,691061397.0,708587948.0,726331177.0,744190510.0,762132501.0,780219542.0,798563392.0,817322629.0,836614860.0,856472234.0,873619764.0,894516028.0,915914952.0,937788499.0,960134718.0,982952189.0]},\"selected\":{\"id\":\"17375\",\"type\":\"Selection\"},\"selection_policy\":{\"id\":\"17376\",\"type\":\"UnionRenderers\"}},\"id\":\"16792\",\"type\":\"ColumnDataSource\"},{\"attributes\":{},\"id\":\"16765\",\"type\":\"LinearScale\"}],\"root_ids\":[\"16758\"]},\"title\":\"Bokeh Application\",\"version\":\"1.3.4\"}};\n",
       "  var render_items = [{\"docid\":\"463b36f2-f577-4d1f-a683-e01917f81c14\",\"roots\":{\"16758\":\"7b18b3a0-368e-485f-9a35-7b10d3212243\"}}];\n",
       "  root.Bokeh.embed.embed_items_notebook(docs_json, render_items);\n",
       "\n",
       "  }\n",
       "  if (root.Bokeh !== undefined) {\n",
       "    embed_document(root);\n",
       "  } else {\n",
       "    var attempts = 0;\n",
       "    var timer = setInterval(function(root) {\n",
       "      if (root.Bokeh !== undefined) {\n",
       "        embed_document(root);\n",
       "        clearInterval(timer);\n",
       "      }\n",
       "      attempts++;\n",
       "      if (attempts > 100) {\n",
       "        console.log(\"Bokeh: ERROR: Unable to run BokehJS code because BokehJS library is missing\");\n",
       "        clearInterval(timer);\n",
       "      }\n",
       "    }, 10, root)\n",
       "  }\n",
       "})(window);"
      ],
      "application/vnd.bokehjs_exec.v0+json": ""
     },
     "metadata": {
      "application/vnd.bokehjs_exec.v0+json": {
       "id": "16758"
      }
     },
     "output_type": "display_data"
    }
   ],
   "source": [
    "years = list(map(str, list(range(1962,2018))))\n",
    "result = show_group_total(years, 'SP.POP.TOTL', ['LDCs'], line_width=3, height=400, width= 1000, marker_width=0)"
   ]
  },
  {
   "cell_type": "code",
   "execution_count": 40,
   "metadata": {
    "slideshow": {
     "slide_type": "skip"
    }
   },
   "outputs": [],
   "source": [
    "gr = []\n",
    "for i in range (0, len(result[0][1])):\n",
    "    gr.append((result[0][1][i]/result[0][1][i-1])-1)  "
   ]
  },
  {
   "cell_type": "code",
   "execution_count": 6,
   "metadata": {
    "slideshow": {
     "slide_type": "skip"
    }
   },
   "outputs": [
    {
     "name": "stdout",
     "output_type": "stream",
     "text": [
      "1963-2017 -> 0.7376189026422728\n",
      "1963-1982 -> 0.37209015351053276\n",
      "1982-2002 -> 0.40563803334539317\n",
      "2002-1967 -> 0.29695319392589503\n"
     ]
    }
   ],
   "source": [
    "print (result[0][0][1] + \"-\" + result[0][0][55] + \" -> \" + str(1-(result[0][1][1]/result[0][1][55])))\n",
    "print (result[0][0][1] + \"-\" + result[0][0][20] + \" -> \" + str(1-(result[0][1][1]/result[0][1][20])))\n",
    "print (result[0][0][20] + \"-\" + result[0][0][40] + \" -> \" + str(1-(result[0][1][20]/result[0][1][40])))\n",
    "print (result[0][0][40] + \"-\" + result[0][0][5] + \" -> \" + str(1-(result[0][1][40]/result[0][1][55])))"
   ]
  },
  {
   "cell_type": "markdown",
   "metadata": {
    "slideshow": {
     "slide_type": "slide"
    }
   },
   "source": [
    "# Growth rates\n",
    "\n",
    "1963-2017 -> 73%\n",
    "\n",
    "1963-1982 -> 37%\n",
    "\n",
    "1982-2002 -> 40%\n",
    "\n",
    "2002-1967 -> 29%"
   ]
  },
  {
   "cell_type": "code",
   "execution_count": 34,
   "metadata": {
    "scrolled": true,
    "slideshow": {
     "slide_type": "slide"
    }
   },
   "outputs": [
    {
     "data": {
      "text/html": [
       "\n",
       "\n",
       "\n",
       "\n",
       "\n",
       "\n",
       "  <div class=\"bk-root\" id=\"abd546c3-b526-4084-a7db-f70d2042ee86\" data-root-id=\"13187\"></div>\n"
      ]
     },
     "metadata": {},
     "output_type": "display_data"
    },
    {
     "data": {
      "application/javascript": [
       "(function(root) {\n",
       "  function embed_document(root) {\n",
       "    \n",
       "  var docs_json = {\"a0b44e71-d64d-4ab8-8bcf-d27937c8ea71\":{\"roots\":{\"references\":[{\"attributes\":{\"below\":[{\"id\":\"13198\",\"type\":\"LinearAxis\"}],\"center\":[{\"id\":\"13202\",\"type\":\"Grid\"},{\"id\":\"13207\",\"type\":\"Grid\"},{\"id\":\"13232\",\"type\":\"Legend\"}],\"left\":[{\"id\":\"13203\",\"type\":\"LinearAxis\"}],\"plot_height\":400,\"plot_width\":1000,\"renderers\":[{\"id\":\"13224\",\"type\":\"GlyphRenderer\"},{\"id\":\"13237\",\"type\":\"GlyphRenderer\"},{\"id\":\"13242\",\"type\":\"GlyphRenderer\"},{\"id\":\"13258\",\"type\":\"GlyphRenderer\"},{\"id\":\"13263\",\"type\":\"GlyphRenderer\"},{\"id\":\"13283\",\"type\":\"GlyphRenderer\"}],\"title\":{\"id\":\"13188\",\"type\":\"Title\"},\"toolbar\":{\"id\":\"13214\",\"type\":\"Toolbar\"},\"x_range\":{\"id\":\"13190\",\"type\":\"DataRange1d\"},\"x_scale\":{\"id\":\"13194\",\"type\":\"LinearScale\"},\"y_range\":{\"id\":\"13192\",\"type\":\"DataRange1d\"},\"y_scale\":{\"id\":\"13196\",\"type\":\"LinearScale\"}},\"id\":\"13187\",\"subtype\":\"Figure\",\"type\":\"Plot\"},{\"attributes\":{},\"id\":\"13204\",\"type\":\"BasicTicker\"},{\"attributes\":{},\"id\":\"13230\",\"type\":\"BasicTickFormatter\"},{\"attributes\":{\"callback\":null,\"tooltips\":\"                \\n        <div style=padding=5px>Year:@x</div>\\n        <div style=padding=5px>Value:@y</div>        \\n        \"},\"id\":\"13285\",\"type\":\"HoverTool\"},{\"attributes\":{\"items\":[{\"id\":\"13233\",\"type\":\"LegendItem\"},{\"id\":\"13254\",\"type\":\"LegendItem\"},{\"id\":\"13279\",\"type\":\"LegendItem\"}],\"location\":\"bottom_left\"},\"id\":\"13232\",\"type\":\"Legend\"},{\"attributes\":{\"fill_color\":{\"value\":\"#5430F1\"},\"line_color\":{\"value\":\"#5430F1\"},\"size\":{\"units\":\"screen\",\"value\":1},\"x\":{\"field\":\"x\"},\"y\":{\"field\":\"y\"}},\"id\":\"13256\",\"type\":\"Circle\"},{\"attributes\":{\"dimension\":1,\"grid_line_alpha\":0.5,\"ticker\":{\"id\":\"13204\",\"type\":\"BasicTicker\"}},\"id\":\"13207\",\"type\":\"Grid\"},{\"attributes\":{},\"id\":\"13776\",\"type\":\"Selection\"},{\"attributes\":{\"line_color\":\"#FA1857\",\"line_width\":3,\"x\":{\"field\":\"x\"},\"y\":{\"field\":\"y\"}},\"id\":\"13222\",\"type\":\"Line\"},{\"attributes\":{\"callback\":null,\"data\":{\"x\":[\"2000\",\"2001\",\"2002\",\"2003\",\"2004\",\"2005\",\"2006\",\"2007\",\"2008\",\"2009\",\"2010\",\"2011\",\"2012\",\"2013\",\"2014\",\"2015\",\"2016\",\"2017\"],\"y\":[2.4605362239442816,2.4797931495868255,2.489792153868337,2.4824763086176094,2.4518808845037743,2.4076196290078777,2.360542239941488,2.323723087115377,2.3024094453683133,2.3010455242497385,2.3128659126824465,2.3266992480463013,2.3397184240072226,2.3448171148647408,2.343459596932034,2.33706688897366,2.329409894860727,2.3211985526426835]},\"selected\":{\"id\":\"13252\",\"type\":\"Selection\"},\"selection_policy\":{\"id\":\"13253\",\"type\":\"UnionRenderers\"}},\"id\":\"13234\",\"type\":\"ColumnDataSource\"},{\"attributes\":{\"fill_alpha\":{\"value\":0.1},\"fill_color\":{\"value\":\"#1f77b4\"},\"line_alpha\":{\"value\":0.1},\"line_color\":{\"value\":\"#1f77b4\"},\"size\":{\"units\":\"screen\",\"value\":1},\"x\":{\"field\":\"x\"},\"y\":{\"field\":\"y\"}},\"id\":\"13257\",\"type\":\"Circle\"},{\"attributes\":{},\"id\":\"13777\",\"type\":\"UnionRenderers\"},{\"attributes\":{},\"id\":\"13208\",\"type\":\"PanTool\"},{\"attributes\":{\"label\":{\"value\":\"LDCs\"},\"renderers\":[{\"id\":\"13224\",\"type\":\"GlyphRenderer\"}]},\"id\":\"13233\",\"type\":\"LegendItem\"},{\"attributes\":{\"source\":{\"id\":\"13255\",\"type\":\"ColumnDataSource\"}},\"id\":\"13259\",\"type\":\"CDSView\"},{\"attributes\":{\"data_source\":{\"id\":\"13255\",\"type\":\"ColumnDataSource\"},\"glyph\":{\"id\":\"13256\",\"type\":\"Circle\"},\"hover_glyph\":null,\"muted_glyph\":null,\"nonselection_glyph\":{\"id\":\"13257\",\"type\":\"Circle\"},\"selection_glyph\":null,\"view\":{\"id\":\"13259\",\"type\":\"CDSView\"}},\"id\":\"13258\",\"type\":\"GlyphRenderer\"},{\"attributes\":{\"line_alpha\":0.1,\"line_color\":\"#1f77b4\",\"line_width\":3,\"x\":{\"field\":\"x\"},\"y\":{\"field\":\"y\"}},\"id\":\"13223\",\"type\":\"Line\"},{\"attributes\":{},\"id\":\"13778\",\"type\":\"Selection\"},{\"attributes\":{\"callback\":null,\"data\":{\"x\":[\"2000\",\"2001\",\"2002\",\"2003\",\"2004\",\"2005\",\"2006\",\"2007\",\"2008\",\"2009\",\"2010\",\"2011\",\"2012\",\"2013\",\"2014\",\"2015\",\"2016\",\"2017\"],\"y\":[0.687766613834093,0.7165781748152029,0.7222991988914922,0.7125445414465215,0.7116853100646184,0.7041290534872531,0.7308774051234026,0.7396983966784099,0.7704431012170118,0.7020391166581761,0.6499896423337479,0.5010345900600076,0.6145947197826909,0.6361048346767268,0.6591659962316119,0.6463311041635733,0.6504088384393314,0.5845348434731328]},\"selected\":{\"id\":\"13776\",\"type\":\"Selection\"},\"selection_policy\":{\"id\":\"13777\",\"type\":\"UnionRenderers\"}},\"id\":\"13260\",\"type\":\"ColumnDataSource\"},{\"attributes\":{\"fill_color\":{\"value\":\"#FA1857\"},\"line_color\":{\"value\":\"#FA1857\"},\"size\":{\"units\":\"screen\",\"value\":1},\"x\":{\"field\":\"x\"},\"y\":{\"field\":\"y\"}},\"id\":\"13235\",\"type\":\"Circle\"},{\"attributes\":{},\"id\":\"13209\",\"type\":\"WheelZoomTool\"},{\"attributes\":{},\"id\":\"13779\",\"type\":\"UnionRenderers\"},{\"attributes\":{\"bottom_units\":\"screen\",\"fill_alpha\":{\"value\":0.5},\"fill_color\":{\"value\":\"lightgrey\"},\"left_units\":\"screen\",\"level\":\"overlay\",\"line_alpha\":{\"value\":1.0},\"line_color\":{\"value\":\"black\"},\"line_dash\":[4,4],\"line_width\":{\"value\":2},\"render_mode\":\"css\",\"right_units\":\"screen\",\"top_units\":\"screen\"},\"id\":\"13231\",\"type\":\"BoxAnnotation\"},{\"attributes\":{\"line_color\":\"#2CC775\",\"line_width\":3,\"x\":{\"field\":\"x\"},\"y\":{\"field\":\"y\"}},\"id\":\"13261\",\"type\":\"Line\"},{\"attributes\":{\"data_source\":{\"id\":\"13234\",\"type\":\"ColumnDataSource\"},\"glyph\":{\"id\":\"13235\",\"type\":\"Circle\"},\"hover_glyph\":null,\"muted_glyph\":null,\"nonselection_glyph\":{\"id\":\"13236\",\"type\":\"Circle\"},\"selection_glyph\":null,\"view\":{\"id\":\"13238\",\"type\":\"CDSView\"}},\"id\":\"13237\",\"type\":\"GlyphRenderer\"},{\"attributes\":{\"overlay\":{\"id\":\"13231\",\"type\":\"BoxAnnotation\"}},\"id\":\"13210\",\"type\":\"BoxZoomTool\"},{\"attributes\":{\"fill_alpha\":{\"value\":0.1},\"fill_color\":{\"value\":\"#1f77b4\"},\"line_alpha\":{\"value\":0.1},\"line_color\":{\"value\":\"#1f77b4\"},\"size\":{\"units\":\"screen\",\"value\":1},\"x\":{\"field\":\"x\"},\"y\":{\"field\":\"y\"}},\"id\":\"13236\",\"type\":\"Circle\"},{\"attributes\":{\"line_alpha\":0.1,\"line_color\":\"#1f77b4\",\"line_width\":3,\"x\":{\"field\":\"x\"},\"y\":{\"field\":\"y\"}},\"id\":\"13262\",\"type\":\"Line\"},{\"attributes\":{\"data_source\":{\"id\":\"13260\",\"type\":\"ColumnDataSource\"},\"glyph\":{\"id\":\"13261\",\"type\":\"Line\"},\"hover_glyph\":null,\"muted_glyph\":null,\"nonselection_glyph\":{\"id\":\"13262\",\"type\":\"Line\"},\"selection_glyph\":null,\"view\":{\"id\":\"13264\",\"type\":\"CDSView\"}},\"id\":\"13263\",\"type\":\"GlyphRenderer\"},{\"attributes\":{\"source\":{\"id\":\"13234\",\"type\":\"ColumnDataSource\"}},\"id\":\"13238\",\"type\":\"CDSView\"},{\"attributes\":{},\"id\":\"13211\",\"type\":\"SaveTool\"},{\"attributes\":{\"text\":\"Population growth (annual %) weighted against Population, total\"},\"id\":\"13188\",\"type\":\"Title\"},{\"attributes\":{\"line_color\":\"#5430F1\",\"line_width\":3,\"x\":{\"field\":\"x\"},\"y\":{\"field\":\"y\"}},\"id\":\"13240\",\"type\":\"Line\"},{\"attributes\":{\"source\":{\"id\":\"13260\",\"type\":\"ColumnDataSource\"}},\"id\":\"13264\",\"type\":\"CDSView\"},{\"attributes\":{\"callback\":null,\"data\":{\"x\":[\"2000\",\"2001\",\"2002\",\"2003\",\"2004\",\"2005\",\"2006\",\"2007\",\"2008\",\"2009\",\"2010\",\"2011\",\"2012\",\"2013\",\"2014\",\"2015\",\"2016\",\"2017\"],\"y\":[2.4605362239442816,2.4797931495868255,2.489792153868337,2.4824763086176094,2.4518808845037743,2.4076196290078777,2.360542239941488,2.323723087115377,2.3024094453683133,2.3010455242497385,2.3128659126824465,2.3266992480463013,2.3397184240072226,2.3448171148647408,2.343459596932034,2.33706688897366,2.329409894860727,2.3211985526426835]},\"selected\":{\"id\":\"13250\",\"type\":\"Selection\"},\"selection_policy\":{\"id\":\"13251\",\"type\":\"UnionRenderers\"}},\"id\":\"13221\",\"type\":\"ColumnDataSource\"},{\"attributes\":{\"callback\":null},\"id\":\"13190\",\"type\":\"DataRange1d\"},{\"attributes\":{},\"id\":\"13212\",\"type\":\"ResetTool\"},{\"attributes\":{\"callback\":null,\"data\":{\"x\":[\"2000\",\"2001\",\"2002\",\"2003\",\"2004\",\"2005\",\"2006\",\"2007\",\"2008\",\"2009\",\"2010\",\"2011\",\"2012\",\"2013\",\"2014\",\"2015\",\"2016\",\"2017\"],\"y\":[1.4284709251799304,1.3871444510344466,1.347820520925966,1.3235142067953654,1.291539227751766,1.2927592700683024,1.2789920177056144,1.2631318864042496,1.2566050545301795,1.2455220063229346,1.226235921966863,1.2163273086331117,1.1965996983573604,1.1873045989925284,1.1754398599289038,1.1573683976427818,1.1485195896511564,1.1315610485739276]},\"selected\":{\"id\":\"13275\",\"type\":\"Selection\"},\"selection_policy\":{\"id\":\"13276\",\"type\":\"UnionRenderers\"}},\"id\":\"13239\",\"type\":\"ColumnDataSource\"},{\"attributes\":{},\"id\":\"13275\",\"type\":\"Selection\"},{\"attributes\":{\"callback\":null},\"id\":\"13192\",\"type\":\"DataRange1d\"},{\"attributes\":{\"line_alpha\":0.1,\"line_color\":\"#1f77b4\",\"line_width\":3,\"x\":{\"field\":\"x\"},\"y\":{\"field\":\"y\"}},\"id\":\"13241\",\"type\":\"Line\"},{\"attributes\":{},\"id\":\"13276\",\"type\":\"UnionRenderers\"},{\"attributes\":{},\"id\":\"13213\",\"type\":\"HelpTool\"},{\"attributes\":{},\"id\":\"13194\",\"type\":\"LinearScale\"},{\"attributes\":{\"source\":{\"id\":\"13239\",\"type\":\"ColumnDataSource\"}},\"id\":\"13243\",\"type\":\"CDSView\"},{\"attributes\":{},\"id\":\"13277\",\"type\":\"Selection\"},{\"attributes\":{\"active_drag\":\"auto\",\"active_inspect\":\"auto\",\"active_multi\":null,\"active_scroll\":\"auto\",\"active_tap\":\"auto\",\"tools\":[{\"id\":\"13208\",\"type\":\"PanTool\"},{\"id\":\"13209\",\"type\":\"WheelZoomTool\"},{\"id\":\"13210\",\"type\":\"BoxZoomTool\"},{\"id\":\"13211\",\"type\":\"SaveTool\"},{\"id\":\"13212\",\"type\":\"ResetTool\"},{\"id\":\"13213\",\"type\":\"HelpTool\"},{\"id\":\"13285\",\"type\":\"HoverTool\"}]},\"id\":\"13214\",\"type\":\"Toolbar\"},{\"attributes\":{\"data_source\":{\"id\":\"13239\",\"type\":\"ColumnDataSource\"},\"glyph\":{\"id\":\"13240\",\"type\":\"Line\"},\"hover_glyph\":null,\"muted_glyph\":null,\"nonselection_glyph\":{\"id\":\"13241\",\"type\":\"Line\"},\"selection_glyph\":null,\"view\":{\"id\":\"13243\",\"type\":\"CDSView\"}},\"id\":\"13242\",\"type\":\"GlyphRenderer\"},{\"attributes\":{},\"id\":\"13196\",\"type\":\"LinearScale\"},{\"attributes\":{},\"id\":\"13278\",\"type\":\"UnionRenderers\"},{\"attributes\":{\"axis_label\":\"Years\",\"formatter\":{\"id\":\"13228\",\"type\":\"BasicTickFormatter\"},\"ticker\":{\"id\":\"13199\",\"type\":\"BasicTicker\"}},\"id\":\"13198\",\"type\":\"LinearAxis\"},{\"attributes\":{\"label\":{\"value\":\"OECD\"},\"renderers\":[{\"id\":\"13263\",\"type\":\"GlyphRenderer\"}]},\"id\":\"13279\",\"type\":\"LegendItem\"},{\"attributes\":{},\"id\":\"13250\",\"type\":\"Selection\"},{\"attributes\":{\"data_source\":{\"id\":\"13221\",\"type\":\"ColumnDataSource\"},\"glyph\":{\"id\":\"13222\",\"type\":\"Line\"},\"hover_glyph\":null,\"muted_glyph\":null,\"nonselection_glyph\":{\"id\":\"13223\",\"type\":\"Line\"},\"selection_glyph\":null,\"view\":{\"id\":\"13225\",\"type\":\"CDSView\"}},\"id\":\"13224\",\"type\":\"GlyphRenderer\"},{\"attributes\":{},\"id\":\"13199\",\"type\":\"BasicTicker\"},{\"attributes\":{},\"id\":\"13252\",\"type\":\"Selection\"},{\"attributes\":{\"grid_line_color\":null,\"ticker\":{\"id\":\"13199\",\"type\":\"BasicTicker\"}},\"id\":\"13202\",\"type\":\"Grid\"},{\"attributes\":{\"source\":{\"id\":\"13221\",\"type\":\"ColumnDataSource\"}},\"id\":\"13225\",\"type\":\"CDSView\"},{\"attributes\":{\"fill_color\":{\"value\":\"#2CC775\"},\"line_color\":{\"value\":\"#2CC775\"},\"size\":{\"units\":\"screen\",\"value\":1},\"x\":{\"field\":\"x\"},\"y\":{\"field\":\"y\"}},\"id\":\"13281\",\"type\":\"Circle\"},{\"attributes\":{\"callback\":null,\"data\":{\"x\":[\"2000\",\"2001\",\"2002\",\"2003\",\"2004\",\"2005\",\"2006\",\"2007\",\"2008\",\"2009\",\"2010\",\"2011\",\"2012\",\"2013\",\"2014\",\"2015\",\"2016\",\"2017\"],\"y\":[0.687766613834093,0.7165781748152029,0.7222991988914922,0.7125445414465215,0.7116853100646184,0.7041290534872531,0.7308774051234026,0.7396983966784099,0.7704431012170118,0.7020391166581761,0.6499896423337479,0.5010345900600076,0.6145947197826909,0.6361048346767268,0.6591659962316119,0.6463311041635733,0.6504088384393314,0.5845348434731328]},\"selected\":{\"id\":\"13778\",\"type\":\"Selection\"},\"selection_policy\":{\"id\":\"13779\",\"type\":\"UnionRenderers\"}},\"id\":\"13280\",\"type\":\"ColumnDataSource\"},{\"attributes\":{},\"id\":\"13251\",\"type\":\"UnionRenderers\"},{\"attributes\":{\"fill_alpha\":{\"value\":0.1},\"fill_color\":{\"value\":\"#1f77b4\"},\"line_alpha\":{\"value\":0.1},\"line_color\":{\"value\":\"#1f77b4\"},\"size\":{\"units\":\"screen\",\"value\":1},\"x\":{\"field\":\"x\"},\"y\":{\"field\":\"y\"}},\"id\":\"13282\",\"type\":\"Circle\"},{\"attributes\":{\"callback\":null,\"data\":{\"x\":[\"2000\",\"2001\",\"2002\",\"2003\",\"2004\",\"2005\",\"2006\",\"2007\",\"2008\",\"2009\",\"2010\",\"2011\",\"2012\",\"2013\",\"2014\",\"2015\",\"2016\",\"2017\"],\"y\":[1.4284709251799304,1.3871444510344466,1.347820520925966,1.3235142067953654,1.291539227751766,1.2927592700683024,1.2789920177056144,1.2631318864042496,1.2566050545301795,1.2455220063229346,1.226235921966863,1.2163273086331117,1.1965996983573604,1.1873045989925284,1.1754398599289038,1.1573683976427818,1.1485195896511564,1.1315610485739276]},\"selected\":{\"id\":\"13277\",\"type\":\"Selection\"},\"selection_policy\":{\"id\":\"13278\",\"type\":\"UnionRenderers\"}},\"id\":\"13255\",\"type\":\"ColumnDataSource\"},{\"attributes\":{},\"id\":\"13253\",\"type\":\"UnionRenderers\"},{\"attributes\":{},\"id\":\"13228\",\"type\":\"BasicTickFormatter\"},{\"attributes\":{\"data_source\":{\"id\":\"13280\",\"type\":\"ColumnDataSource\"},\"glyph\":{\"id\":\"13281\",\"type\":\"Circle\"},\"hover_glyph\":null,\"muted_glyph\":null,\"nonselection_glyph\":{\"id\":\"13282\",\"type\":\"Circle\"},\"selection_glyph\":null,\"view\":{\"id\":\"13284\",\"type\":\"CDSView\"}},\"id\":\"13283\",\"type\":\"GlyphRenderer\"},{\"attributes\":{\"axis_label\":\"SP.POP.GROW\",\"formatter\":{\"id\":\"13230\",\"type\":\"BasicTickFormatter\"},\"ticker\":{\"id\":\"13204\",\"type\":\"BasicTicker\"}},\"id\":\"13203\",\"type\":\"LinearAxis\"},{\"attributes\":{\"label\":{\"value\":\"Developing excluding LDCs\"},\"renderers\":[{\"id\":\"13242\",\"type\":\"GlyphRenderer\"}]},\"id\":\"13254\",\"type\":\"LegendItem\"},{\"attributes\":{\"source\":{\"id\":\"13280\",\"type\":\"ColumnDataSource\"}},\"id\":\"13284\",\"type\":\"CDSView\"}],\"root_ids\":[\"13187\"]},\"title\":\"Bokeh Application\",\"version\":\"1.3.4\"}};\n",
       "  var render_items = [{\"docid\":\"a0b44e71-d64d-4ab8-8bcf-d27937c8ea71\",\"roots\":{\"13187\":\"abd546c3-b526-4084-a7db-f70d2042ee86\"}}];\n",
       "  root.Bokeh.embed.embed_items_notebook(docs_json, render_items);\n",
       "\n",
       "  }\n",
       "  if (root.Bokeh !== undefined) {\n",
       "    embed_document(root);\n",
       "  } else {\n",
       "    var attempts = 0;\n",
       "    var timer = setInterval(function(root) {\n",
       "      if (root.Bokeh !== undefined) {\n",
       "        embed_document(root);\n",
       "        clearInterval(timer);\n",
       "      }\n",
       "      attempts++;\n",
       "      if (attempts > 100) {\n",
       "        console.log(\"Bokeh: ERROR: Unable to run BokehJS code because BokehJS library is missing\");\n",
       "        clearInterval(timer);\n",
       "      }\n",
       "    }, 10, root)\n",
       "  }\n",
       "})(window);"
      ],
      "application/vnd.bokehjs_exec.v0+json": ""
     },
     "metadata": {
      "application/vnd.bokehjs_exec.v0+json": {
       "id": "13187"
      }
     },
     "output_type": "display_data"
    }
   ],
   "source": [
    "# Population growth\n",
    "result = show_weighted_average(years, 'SP.POP.GROW', 'SP.POP.TOTL', \n",
    "                               ['LDCs', 'Developing excluding LDCs', 'OECD'], \n",
    "                                height=400, width=1000, line_width=3)"
   ]
  },
  {
   "cell_type": "markdown",
   "metadata": {
    "slideshow": {
     "slide_type": "slide"
    }
   },
   "source": [
    "# Average population growth in the LDCs is almost double than for other developing countries"
   ]
  },
  {
   "cell_type": "code",
   "execution_count": 53,
   "metadata": {
    "slideshow": {
     "slide_type": "slide"
    }
   },
   "outputs": [
    {
     "data": {
      "text/html": [
       "\n",
       "\n",
       "\n",
       "\n",
       "\n",
       "\n",
       "  <div class=\"bk-root\" id=\"4a154fd5-3e88-4ea2-928b-9829fad7205a\" data-root-id=\"27564\"></div>\n"
      ]
     },
     "metadata": {},
     "output_type": "display_data"
    },
    {
     "data": {
      "application/javascript": [
       "(function(root) {\n",
       "  function embed_document(root) {\n",
       "    \n",
       "  var docs_json = {\"33e00eea-e801-4fec-88ce-5550510ffd8a\":{\"roots\":{\"references\":[{\"attributes\":{\"below\":[{\"id\":\"27575\",\"type\":\"LinearAxis\"}],\"center\":[{\"id\":\"27579\",\"type\":\"Grid\"},{\"id\":\"27584\",\"type\":\"Grid\"},{\"id\":\"27609\",\"type\":\"Legend\"}],\"left\":[{\"id\":\"27580\",\"type\":\"LinearAxis\"}],\"plot_height\":400,\"plot_width\":1000,\"renderers\":[{\"id\":\"27601\",\"type\":\"GlyphRenderer\"},{\"id\":\"27614\",\"type\":\"GlyphRenderer\"},{\"id\":\"27619\",\"type\":\"GlyphRenderer\"},{\"id\":\"27635\",\"type\":\"GlyphRenderer\"},{\"id\":\"27640\",\"type\":\"GlyphRenderer\"},{\"id\":\"27660\",\"type\":\"GlyphRenderer\"}],\"title\":{\"id\":\"27565\",\"type\":\"Title\"},\"toolbar\":{\"id\":\"27591\",\"type\":\"Toolbar\"},\"x_range\":{\"id\":\"27567\",\"type\":\"DataRange1d\"},\"x_scale\":{\"id\":\"27571\",\"type\":\"LinearScale\"},\"y_range\":{\"id\":\"27569\",\"type\":\"DataRange1d\"},\"y_scale\":{\"id\":\"27573\",\"type\":\"LinearScale\"}},\"id\":\"27564\",\"subtype\":\"Figure\",\"type\":\"Plot\"},{\"attributes\":{},\"id\":\"27653\",\"type\":\"UnionRenderers\"},{\"attributes\":{\"data_source\":{\"id\":\"27616\",\"type\":\"ColumnDataSource\"},\"glyph\":{\"id\":\"27617\",\"type\":\"Line\"},\"hover_glyph\":null,\"muted_glyph\":null,\"nonselection_glyph\":{\"id\":\"27618\",\"type\":\"Line\"},\"selection_glyph\":null,\"view\":{\"id\":\"27620\",\"type\":\"CDSView\"}},\"id\":\"27619\",\"type\":\"GlyphRenderer\"},{\"attributes\":{\"active_drag\":\"auto\",\"active_inspect\":\"auto\",\"active_multi\":null,\"active_scroll\":\"auto\",\"active_tap\":\"auto\",\"tools\":[{\"id\":\"27585\",\"type\":\"PanTool\"},{\"id\":\"27586\",\"type\":\"WheelZoomTool\"},{\"id\":\"27587\",\"type\":\"BoxZoomTool\"},{\"id\":\"27588\",\"type\":\"SaveTool\"},{\"id\":\"27589\",\"type\":\"ResetTool\"},{\"id\":\"27590\",\"type\":\"HelpTool\"},{\"id\":\"27662\",\"type\":\"HoverTool\"}]},\"id\":\"27591\",\"type\":\"Toolbar\"},{\"attributes\":{\"callback\":null},\"id\":\"27569\",\"type\":\"DataRange1d\"},{\"attributes\":{},\"id\":\"27654\",\"type\":\"Selection\"},{\"attributes\":{\"source\":{\"id\":\"27616\",\"type\":\"ColumnDataSource\"}},\"id\":\"27620\",\"type\":\"CDSView\"},{\"attributes\":{},\"id\":\"27571\",\"type\":\"LinearScale\"},{\"attributes\":{\"data_source\":{\"id\":\"27598\",\"type\":\"ColumnDataSource\"},\"glyph\":{\"id\":\"27599\",\"type\":\"Line\"},\"hover_glyph\":null,\"muted_glyph\":null,\"nonselection_glyph\":{\"id\":\"27600\",\"type\":\"Line\"},\"selection_glyph\":null,\"view\":{\"id\":\"27602\",\"type\":\"CDSView\"}},\"id\":\"27601\",\"type\":\"GlyphRenderer\"},{\"attributes\":{},\"id\":\"27655\",\"type\":\"UnionRenderers\"},{\"attributes\":{},\"id\":\"27627\",\"type\":\"Selection\"},{\"attributes\":{},\"id\":\"27573\",\"type\":\"LinearScale\"},{\"attributes\":{\"label\":{\"value\":\"OECD\"},\"renderers\":[{\"id\":\"27640\",\"type\":\"GlyphRenderer\"}]},\"id\":\"27656\",\"type\":\"LegendItem\"},{\"attributes\":{},\"id\":\"27628\",\"type\":\"UnionRenderers\"},{\"attributes\":{\"source\":{\"id\":\"27598\",\"type\":\"ColumnDataSource\"}},\"id\":\"27602\",\"type\":\"CDSView\"},{\"attributes\":{\"axis_label\":\"Years\",\"formatter\":{\"id\":\"27605\",\"type\":\"BasicTickFormatter\"},\"ticker\":{\"id\":\"27576\",\"type\":\"BasicTicker\"}},\"id\":\"27575\",\"type\":\"LinearAxis\"},{\"attributes\":{},\"id\":\"27629\",\"type\":\"Selection\"},{\"attributes\":{\"callback\":null,\"data\":{\"x\":[\"1970\",\"1971\",\"1972\",\"1973\",\"1974\",\"1975\",\"1976\",\"1977\",\"1978\",\"1979\",\"1980\",\"1981\",\"1982\",\"1983\",\"1984\",\"1985\",\"1986\",\"1987\",\"1988\",\"1989\",\"1990\",\"1991\",\"1992\",\"1993\",\"1994\",\"1995\",\"1996\",\"1997\",\"1998\",\"1999\",\"2000\",\"2001\",\"2002\",\"2003\",\"2004\",\"2005\",\"2006\",\"2007\",\"2008\",\"2009\",\"2010\",\"2011\",\"2012\",\"2013\",\"2014\",\"2015\",\"2016\"],\"y\":[1.9708658593606905,3.684984894094831,5.393537488740294,6.047565306102646,1.037079430634777,0.30511231926720417,4.90047121773208,3.803624497401075,4.457622339125099,3.9225516705022514,1.3073205982921066,2.231194883624438,0.11807402117538779,3.179800913000088,5.13557675252695,3.8834678570238896,3.1321446863588394,3.565913370159357,4.784468573857565,3.885551357314172,3.0858902716314973,1.5023307102368753,2.006477569857466,1.1186648061307904,3.023970889412698,2.738880201235089,3.019735197420786,3.407154369871777,2.8517755426639058,3.250401169768282,3.96578339531242,1.3389017882543195,1.530805075821244,2.003809153023252,3.1523786284378,2.7759068425936033,3.038993692550884,2.6003543420958644,0.2926102829452506,-3.475942066951403,2.9134969699961335,1.8126881437242326,1.347580599795485,1.4935732368653372,2.117249469316046,2.512564495187938,1.7438260767094502]},\"selected\":{\"id\":\"28435\",\"type\":\"Selection\"},\"selection_policy\":{\"id\":\"28436\",\"type\":\"UnionRenderers\"}},\"id\":\"27657\",\"type\":\"ColumnDataSource\"},{\"attributes\":{},\"id\":\"27576\",\"type\":\"BasicTicker\"},{\"attributes\":{},\"id\":\"27605\",\"type\":\"BasicTickFormatter\"},{\"attributes\":{\"fill_color\":{\"value\":\"#2CC775\"},\"line_color\":{\"value\":\"#2CC775\"},\"size\":{\"units\":\"screen\",\"value\":1},\"x\":{\"field\":\"x\"},\"y\":{\"field\":\"y\"}},\"id\":\"27658\",\"type\":\"Circle\"},{\"attributes\":{},\"id\":\"27630\",\"type\":\"UnionRenderers\"},{\"attributes\":{\"grid_line_color\":null,\"ticker\":{\"id\":\"27576\",\"type\":\"BasicTicker\"}},\"id\":\"27579\",\"type\":\"Grid\"},{\"attributes\":{\"fill_alpha\":{\"value\":0.1},\"fill_color\":{\"value\":\"#1f77b4\"},\"line_alpha\":{\"value\":0.1},\"line_color\":{\"value\":\"#1f77b4\"},\"size\":{\"units\":\"screen\",\"value\":1},\"x\":{\"field\":\"x\"},\"y\":{\"field\":\"y\"}},\"id\":\"27659\",\"type\":\"Circle\"},{\"attributes\":{},\"id\":\"27607\",\"type\":\"BasicTickFormatter\"},{\"attributes\":{\"label\":{\"value\":\"Developing excluding LDCs\"},\"renderers\":[{\"id\":\"27619\",\"type\":\"GlyphRenderer\"}]},\"id\":\"27631\",\"type\":\"LegendItem\"},{\"attributes\":{\"data_source\":{\"id\":\"27657\",\"type\":\"ColumnDataSource\"},\"glyph\":{\"id\":\"27658\",\"type\":\"Circle\"},\"hover_glyph\":null,\"muted_glyph\":null,\"nonselection_glyph\":{\"id\":\"27659\",\"type\":\"Circle\"},\"selection_glyph\":null,\"view\":{\"id\":\"27661\",\"type\":\"CDSView\"}},\"id\":\"27660\",\"type\":\"GlyphRenderer\"},{\"attributes\":{\"bottom_units\":\"screen\",\"fill_alpha\":{\"value\":0.5},\"fill_color\":{\"value\":\"lightgrey\"},\"left_units\":\"screen\",\"level\":\"overlay\",\"line_alpha\":{\"value\":1.0},\"line_color\":{\"value\":\"black\"},\"line_dash\":[4,4],\"line_width\":{\"value\":2},\"render_mode\":\"css\",\"right_units\":\"screen\",\"top_units\":\"screen\"},\"id\":\"27608\",\"type\":\"BoxAnnotation\"},{\"attributes\":{\"axis_label\":\"NY.GDP.MKTP.KD.ZG\",\"formatter\":{\"id\":\"27607\",\"type\":\"BasicTickFormatter\"},\"ticker\":{\"id\":\"27581\",\"type\":\"BasicTicker\"}},\"id\":\"27580\",\"type\":\"LinearAxis\"},{\"attributes\":{\"callback\":null,\"data\":{\"x\":[\"1970\",\"1971\",\"1972\",\"1973\",\"1974\",\"1975\",\"1976\",\"1977\",\"1978\",\"1979\",\"1980\",\"1981\",\"1982\",\"1983\",\"1984\",\"1985\",\"1986\",\"1987\",\"1988\",\"1989\",\"1990\",\"1991\",\"1992\",\"1993\",\"1994\",\"1995\",\"1996\",\"1997\",\"1998\",\"1999\",\"2000\",\"2001\",\"2002\",\"2003\",\"2004\",\"2005\",\"2006\",\"2007\",\"2008\",\"2009\",\"2010\",\"2011\",\"2012\",\"2013\",\"2014\",\"2015\",\"2016\"],\"y\":[9.980984625932717,6.142086562249392,5.49524318968822,6.755019019705574,5.69739334641279,4.575246926898226,5.940246930695465,5.837392925117238,4.747010068078586,6.3794100759948815,6.679926868992973,2.2153366606622282,-0.1349784980871657,0.6775799522852956,4.863837478236739,3.964285597304646,5.151324181673996,4.642479767349732,4.996126976265806,3.8147392867079386,7.0404011674791755,4.2701600631461485,4.998896366999276,5.390288327882468,6.064226958452284,4.815344701036855,5.9316396430033285,5.367820154741937,3.151150083032216,3.1264569986451565,5.409329553821824,2.859379117494541,4.278655355939796,6.142560985170195,7.7364695106917445,6.968743861285385,7.790698287674111,8.031223551791909,5.636961202717234,3.579163526769731,8.00594539640993,6.7868136251031554,5.987251482073588,5.63288698354127,5.010709786506495,4.900996199546361,4.58986503216058]},\"selected\":{\"id\":\"27654\",\"type\":\"Selection\"},\"selection_policy\":{\"id\":\"27655\",\"type\":\"UnionRenderers\"}},\"id\":\"27632\",\"type\":\"ColumnDataSource\"},{\"attributes\":{\"items\":[{\"id\":\"27610\",\"type\":\"LegendItem\"},{\"id\":\"27631\",\"type\":\"LegendItem\"},{\"id\":\"27656\",\"type\":\"LegendItem\"}],\"location\":\"bottom_left\"},\"id\":\"27609\",\"type\":\"Legend\"},{\"attributes\":{\"source\":{\"id\":\"27657\",\"type\":\"ColumnDataSource\"}},\"id\":\"27661\",\"type\":\"CDSView\"},{\"attributes\":{},\"id\":\"27581\",\"type\":\"BasicTicker\"},{\"attributes\":{\"fill_color\":{\"value\":\"#5430F1\"},\"line_color\":{\"value\":\"#5430F1\"},\"size\":{\"units\":\"screen\",\"value\":1},\"x\":{\"field\":\"x\"},\"y\":{\"field\":\"y\"}},\"id\":\"27633\",\"type\":\"Circle\"},{\"attributes\":{\"label\":{\"value\":\"LDCs\"},\"renderers\":[{\"id\":\"27601\",\"type\":\"GlyphRenderer\"}]},\"id\":\"27610\",\"type\":\"LegendItem\"},{\"attributes\":{\"dimension\":1,\"grid_line_alpha\":0.5,\"ticker\":{\"id\":\"27581\",\"type\":\"BasicTicker\"}},\"id\":\"27584\",\"type\":\"Grid\"},{\"attributes\":{\"fill_alpha\":{\"value\":0.1},\"fill_color\":{\"value\":\"#1f77b4\"},\"line_alpha\":{\"value\":0.1},\"line_color\":{\"value\":\"#1f77b4\"},\"size\":{\"units\":\"screen\",\"value\":1},\"x\":{\"field\":\"x\"},\"y\":{\"field\":\"y\"}},\"id\":\"27634\",\"type\":\"Circle\"},{\"attributes\":{\"callback\":null,\"data\":{\"x\":[\"1970\",\"1971\",\"1972\",\"1973\",\"1974\",\"1975\",\"1976\",\"1977\",\"1978\",\"1979\",\"1980\",\"1981\",\"1982\",\"1983\",\"1984\",\"1985\",\"1986\",\"1987\",\"1988\",\"1989\",\"1990\",\"1991\",\"1992\",\"1993\",\"1994\",\"1995\",\"1996\",\"1997\",\"1998\",\"1999\",\"2000\",\"2001\",\"2002\",\"2003\",\"2004\",\"2005\",\"2006\",\"2007\",\"2008\",\"2009\",\"2010\",\"2011\",\"2012\",\"2013\",\"2014\",\"2015\",\"2016\"],\"y\":[4.324289937914565,0.42360608796348387,-2.202032190166116,2.013673659496385,6.487946238259491,0.3132201242250357,4.787477594442745,2.7319815155627922,0.4520050614180213,2.111979073093675,1.163064248947674,3.7648080745291694,1.3834692663131323,1.6479123774393298,1.4149009460301931,0.8671757550385526,3.9296884018418528,5.862101462559562,2.929609121727588,2.7944943158361846,1.170192545954521,1.9282855452641556,0.40941781118541093,1.3156461346437436,1.1183077703131774,5.666972473781772,6.064918341025735,4.68929386808431,3.5009371502909974,4.318839922601917,3.7973936234836003,5.277223721229322,4.788670883078557,5.402403301512716,6.807366330677271,8.200702571122935,7.751551316335285,8.328847031953092,7.1924278498861645,4.766671300007055,6.252702054296805,3.860184274779867,5.402966544277843,5.816223272082946,5.409726719932504,3.9901864204329245,4.060111232618751]},\"selected\":{\"id\":\"27629\",\"type\":\"Selection\"},\"selection_policy\":{\"id\":\"27630\",\"type\":\"UnionRenderers\"}},\"id\":\"27611\",\"type\":\"ColumnDataSource\"},{\"attributes\":{},\"id\":\"28433\",\"type\":\"Selection\"},{\"attributes\":{\"data_source\":{\"id\":\"27632\",\"type\":\"ColumnDataSource\"},\"glyph\":{\"id\":\"27633\",\"type\":\"Circle\"},\"hover_glyph\":null,\"muted_glyph\":null,\"nonselection_glyph\":{\"id\":\"27634\",\"type\":\"Circle\"},\"selection_glyph\":null,\"view\":{\"id\":\"27636\",\"type\":\"CDSView\"}},\"id\":\"27635\",\"type\":\"GlyphRenderer\"},{\"attributes\":{\"line_color\":\"#FA1857\",\"line_width\":2,\"x\":{\"field\":\"x\"},\"y\":{\"field\":\"y\"}},\"id\":\"27599\",\"type\":\"Line\"},{\"attributes\":{\"fill_color\":{\"value\":\"#FA1857\"},\"line_color\":{\"value\":\"#FA1857\"},\"size\":{\"units\":\"screen\",\"value\":1},\"x\":{\"field\":\"x\"},\"y\":{\"field\":\"y\"}},\"id\":\"27612\",\"type\":\"Circle\"},{\"attributes\":{},\"id\":\"28434\",\"type\":\"UnionRenderers\"},{\"attributes\":{\"source\":{\"id\":\"27632\",\"type\":\"ColumnDataSource\"}},\"id\":\"27636\",\"type\":\"CDSView\"},{\"attributes\":{\"callback\":null,\"data\":{\"x\":[\"1970\",\"1971\",\"1972\",\"1973\",\"1974\",\"1975\",\"1976\",\"1977\",\"1978\",\"1979\",\"1980\",\"1981\",\"1982\",\"1983\",\"1984\",\"1985\",\"1986\",\"1987\",\"1988\",\"1989\",\"1990\",\"1991\",\"1992\",\"1993\",\"1994\",\"1995\",\"1996\",\"1997\",\"1998\",\"1999\",\"2000\",\"2001\",\"2002\",\"2003\",\"2004\",\"2005\",\"2006\",\"2007\",\"2008\",\"2009\",\"2010\",\"2011\",\"2012\",\"2013\",\"2014\",\"2015\",\"2016\"],\"y\":[4.324289937914565,0.42360608796348387,-2.202032190166116,2.013673659496385,6.487946238259491,0.3132201242250357,4.787477594442745,2.7319815155627922,0.4520050614180213,2.111979073093675,1.163064248947674,3.7648080745291694,1.3834692663131323,1.6479123774393298,1.4149009460301931,0.8671757550385526,3.9296884018418528,5.862101462559562,2.929609121727588,2.7944943158361846,1.170192545954521,1.9282855452641556,0.40941781118541093,1.3156461346437436,1.1183077703131774,5.666972473781772,6.064918341025735,4.68929386808431,3.5009371502909974,4.318839922601917,3.7973936234836003,5.277223721229322,4.788670883078557,5.402403301512716,6.807366330677271,8.200702571122935,7.751551316335285,8.328847031953092,7.1924278498861645,4.766671300007055,6.252702054296805,3.860184274779867,5.402966544277843,5.816223272082946,5.409726719932504,3.9901864204329245,4.060111232618751]},\"selected\":{\"id\":\"27627\",\"type\":\"Selection\"},\"selection_policy\":{\"id\":\"27628\",\"type\":\"UnionRenderers\"}},\"id\":\"27598\",\"type\":\"ColumnDataSource\"},{\"attributes\":{\"fill_alpha\":{\"value\":0.1},\"fill_color\":{\"value\":\"#1f77b4\"},\"line_alpha\":{\"value\":0.1},\"line_color\":{\"value\":\"#1f77b4\"},\"size\":{\"units\":\"screen\",\"value\":1},\"x\":{\"field\":\"x\"},\"y\":{\"field\":\"y\"}},\"id\":\"27613\",\"type\":\"Circle\"},{\"attributes\":{},\"id\":\"28435\",\"type\":\"Selection\"},{\"attributes\":{\"line_alpha\":0.1,\"line_color\":\"#1f77b4\",\"line_width\":2,\"x\":{\"field\":\"x\"},\"y\":{\"field\":\"y\"}},\"id\":\"27600\",\"type\":\"Line\"},{\"attributes\":{\"callback\":null,\"data\":{\"x\":[\"1970\",\"1971\",\"1972\",\"1973\",\"1974\",\"1975\",\"1976\",\"1977\",\"1978\",\"1979\",\"1980\",\"1981\",\"1982\",\"1983\",\"1984\",\"1985\",\"1986\",\"1987\",\"1988\",\"1989\",\"1990\",\"1991\",\"1992\",\"1993\",\"1994\",\"1995\",\"1996\",\"1997\",\"1998\",\"1999\",\"2000\",\"2001\",\"2002\",\"2003\",\"2004\",\"2005\",\"2006\",\"2007\",\"2008\",\"2009\",\"2010\",\"2011\",\"2012\",\"2013\",\"2014\",\"2015\",\"2016\"],\"y\":[1.9708658593606905,3.684984894094831,5.393537488740294,6.047565306102646,1.037079430634777,0.30511231926720417,4.90047121773208,3.803624497401075,4.457622339125099,3.9225516705022514,1.3073205982921066,2.231194883624438,0.11807402117538779,3.179800913000088,5.13557675252695,3.8834678570238896,3.1321446863588394,3.565913370159357,4.784468573857565,3.885551357314172,3.0858902716314973,1.5023307102368753,2.006477569857466,1.1186648061307904,3.023970889412698,2.738880201235089,3.019735197420786,3.407154369871777,2.8517755426639058,3.250401169768282,3.96578339531242,1.3389017882543195,1.530805075821244,2.003809153023252,3.1523786284378,2.7759068425936033,3.038993692550884,2.6003543420958644,0.2926102829452506,-3.475942066951403,2.9134969699961335,1.8126881437242326,1.347580599795485,1.4935732368653372,2.117249469316046,2.512564495187938,1.7438260767094502]},\"selected\":{\"id\":\"28433\",\"type\":\"Selection\"},\"selection_policy\":{\"id\":\"28434\",\"type\":\"UnionRenderers\"}},\"id\":\"27637\",\"type\":\"ColumnDataSource\"},{\"attributes\":{},\"id\":\"27585\",\"type\":\"PanTool\"},{\"attributes\":{\"data_source\":{\"id\":\"27611\",\"type\":\"ColumnDataSource\"},\"glyph\":{\"id\":\"27612\",\"type\":\"Circle\"},\"hover_glyph\":null,\"muted_glyph\":null,\"nonselection_glyph\":{\"id\":\"27613\",\"type\":\"Circle\"},\"selection_glyph\":null,\"view\":{\"id\":\"27615\",\"type\":\"CDSView\"}},\"id\":\"27614\",\"type\":\"GlyphRenderer\"},{\"attributes\":{},\"id\":\"28436\",\"type\":\"UnionRenderers\"},{\"attributes\":{\"line_color\":\"#2CC775\",\"line_width\":2,\"x\":{\"field\":\"x\"},\"y\":{\"field\":\"y\"}},\"id\":\"27638\",\"type\":\"Line\"},{\"attributes\":{},\"id\":\"27586\",\"type\":\"WheelZoomTool\"},{\"attributes\":{\"source\":{\"id\":\"27611\",\"type\":\"ColumnDataSource\"}},\"id\":\"27615\",\"type\":\"CDSView\"},{\"attributes\":{\"line_alpha\":0.1,\"line_color\":\"#1f77b4\",\"line_width\":2,\"x\":{\"field\":\"x\"},\"y\":{\"field\":\"y\"}},\"id\":\"27639\",\"type\":\"Line\"},{\"attributes\":{\"overlay\":{\"id\":\"27608\",\"type\":\"BoxAnnotation\"}},\"id\":\"27587\",\"type\":\"BoxZoomTool\"},{\"attributes\":{\"callback\":null,\"data\":{\"x\":[\"1970\",\"1971\",\"1972\",\"1973\",\"1974\",\"1975\",\"1976\",\"1977\",\"1978\",\"1979\",\"1980\",\"1981\",\"1982\",\"1983\",\"1984\",\"1985\",\"1986\",\"1987\",\"1988\",\"1989\",\"1990\",\"1991\",\"1992\",\"1993\",\"1994\",\"1995\",\"1996\",\"1997\",\"1998\",\"1999\",\"2000\",\"2001\",\"2002\",\"2003\",\"2004\",\"2005\",\"2006\",\"2007\",\"2008\",\"2009\",\"2010\",\"2011\",\"2012\",\"2013\",\"2014\",\"2015\",\"2016\"],\"y\":[9.980984625932717,6.142086562249392,5.49524318968822,6.755019019705574,5.69739334641279,4.575246926898226,5.940246930695465,5.837392925117238,4.747010068078586,6.3794100759948815,6.679926868992973,2.2153366606622282,-0.1349784980871657,0.6775799522852956,4.863837478236739,3.964285597304646,5.151324181673996,4.642479767349732,4.996126976265806,3.8147392867079386,7.0404011674791755,4.2701600631461485,4.998896366999276,5.390288327882468,6.064226958452284,4.815344701036855,5.9316396430033285,5.367820154741937,3.151150083032216,3.1264569986451565,5.409329553821824,2.859379117494541,4.278655355939796,6.142560985170195,7.7364695106917445,6.968743861285385,7.790698287674111,8.031223551791909,5.636961202717234,3.579163526769731,8.00594539640993,6.7868136251031554,5.987251482073588,5.63288698354127,5.010709786506495,4.900996199546361,4.58986503216058]},\"selected\":{\"id\":\"27652\",\"type\":\"Selection\"},\"selection_policy\":{\"id\":\"27653\",\"type\":\"UnionRenderers\"}},\"id\":\"27616\",\"type\":\"ColumnDataSource\"},{\"attributes\":{\"data_source\":{\"id\":\"27637\",\"type\":\"ColumnDataSource\"},\"glyph\":{\"id\":\"27638\",\"type\":\"Line\"},\"hover_glyph\":null,\"muted_glyph\":null,\"nonselection_glyph\":{\"id\":\"27639\",\"type\":\"Line\"},\"selection_glyph\":null,\"view\":{\"id\":\"27641\",\"type\":\"CDSView\"}},\"id\":\"27640\",\"type\":\"GlyphRenderer\"},{\"attributes\":{},\"id\":\"27588\",\"type\":\"SaveTool\"},{\"attributes\":{\"callback\":null,\"tooltips\":\"                \\n        <div style=padding=5px>Year:@x</div>\\n        <div style=padding=5px>Value:@y</div>        \\n        \"},\"id\":\"27662\",\"type\":\"HoverTool\"},{\"attributes\":{\"line_color\":\"#5430F1\",\"line_width\":2,\"x\":{\"field\":\"x\"},\"y\":{\"field\":\"y\"}},\"id\":\"27617\",\"type\":\"Line\"},{\"attributes\":{\"source\":{\"id\":\"27637\",\"type\":\"ColumnDataSource\"}},\"id\":\"27641\",\"type\":\"CDSView\"},{\"attributes\":{\"text\":\"GDP growth (annual %) weighted against GDP (current US$)\"},\"id\":\"27565\",\"type\":\"Title\"},{\"attributes\":{},\"id\":\"27589\",\"type\":\"ResetTool\"},{\"attributes\":{\"line_alpha\":0.1,\"line_color\":\"#1f77b4\",\"line_width\":2,\"x\":{\"field\":\"x\"},\"y\":{\"field\":\"y\"}},\"id\":\"27618\",\"type\":\"Line\"},{\"attributes\":{},\"id\":\"27652\",\"type\":\"Selection\"},{\"attributes\":{\"callback\":null},\"id\":\"27567\",\"type\":\"DataRange1d\"},{\"attributes\":{},\"id\":\"27590\",\"type\":\"HelpTool\"}],\"root_ids\":[\"27564\"]},\"title\":\"Bokeh Application\",\"version\":\"1.3.4\"}};\n",
       "  var render_items = [{\"docid\":\"33e00eea-e801-4fec-88ce-5550510ffd8a\",\"roots\":{\"27564\":\"4a154fd5-3e88-4ea2-928b-9829fad7205a\"}}];\n",
       "  root.Bokeh.embed.embed_items_notebook(docs_json, render_items);\n",
       "\n",
       "  }\n",
       "  if (root.Bokeh !== undefined) {\n",
       "    embed_document(root);\n",
       "  } else {\n",
       "    var attempts = 0;\n",
       "    var timer = setInterval(function(root) {\n",
       "      if (root.Bokeh !== undefined) {\n",
       "        embed_document(root);\n",
       "        clearInterval(timer);\n",
       "      }\n",
       "      attempts++;\n",
       "      if (attempts > 100) {\n",
       "        console.log(\"Bokeh: ERROR: Unable to run BokehJS code because BokehJS library is missing\");\n",
       "        clearInterval(timer);\n",
       "      }\n",
       "    }, 10, root)\n",
       "  }\n",
       "})(window);"
      ],
      "application/vnd.bokehjs_exec.v0+json": ""
     },
     "metadata": {
      "application/vnd.bokehjs_exec.v0+json": {
       "id": "27564"
      }
     },
     "output_type": "display_data"
    }
   ],
   "source": [
    "# GDP growth\n",
    "years = list(map(str, list(range(1970,2017))))\n",
    "result = show_weighted_average(years, 'NY.GDP.MKTP.KD.ZG', 'NY.GDP.MKTP.CD', \n",
    "                               ['LDCs', 'Developing excluding LDCs', 'OECD'], \n",
    "                                height=400, width=1000, line_width=2, marker_width = 4)"
   ]
  },
  {
   "cell_type": "markdown",
   "metadata": {
    "slideshow": {
     "slide_type": "slide"
    }
   },
   "source": [
    "# Economic and demographic growth are closely intertwined\n",
    "\n",
    "# Accelerating poverty erradication requires higher growth rates (The IPoA set a target of 7%)\n",
    "\n",
    "# Economic growth should facilitate the process of economic transformation and support poverty erradication"
   ]
  },
  {
   "cell_type": "code",
   "execution_count": 9,
   "metadata": {
    "ExecuteTime": {
     "end_time": "2019-10-25T14:23:48.553769Z",
     "start_time": "2019-10-25T14:23:47.482012Z"
    },
    "slideshow": {
     "slide_type": "slide"
    }
   },
   "outputs": [
    {
     "data": {
      "text/html": [
       "\n",
       "\n",
       "\n",
       "\n",
       "\n",
       "\n",
       "  <div class=\"bk-root\" id=\"c442e336-12b9-4457-be9e-64b24e0d2c5d\" data-root-id=\"1719\"></div>\n"
      ]
     },
     "metadata": {},
     "output_type": "display_data"
    },
    {
     "data": {
      "application/javascript": [
       "(function(root) {\n",
       "  function embed_document(root) {\n",
       "    \n",
       "  var docs_json = {\"899de50c-60c1-4d73-93c5-4d1bb00313e2\":{\"roots\":{\"references\":[{\"attributes\":{\"below\":[{\"id\":\"1730\",\"type\":\"LinearAxis\"}],\"center\":[{\"id\":\"1734\",\"type\":\"Grid\"},{\"id\":\"1739\",\"type\":\"Grid\"},{\"id\":\"1764\",\"type\":\"Legend\"}],\"left\":[{\"id\":\"1735\",\"type\":\"LinearAxis\"}],\"plot_height\":400,\"plot_width\":1000,\"renderers\":[{\"id\":\"1756\",\"type\":\"GlyphRenderer\"},{\"id\":\"1769\",\"type\":\"GlyphRenderer\"}],\"title\":{\"id\":\"1720\",\"type\":\"Title\"},\"toolbar\":{\"id\":\"1746\",\"type\":\"Toolbar\"},\"x_range\":{\"id\":\"1722\",\"type\":\"DataRange1d\"},\"x_scale\":{\"id\":\"1726\",\"type\":\"LinearScale\"},\"y_range\":{\"id\":\"1724\",\"type\":\"DataRange1d\"},\"y_scale\":{\"id\":\"1728\",\"type\":\"LinearScale\"}},\"id\":\"1719\",\"subtype\":\"Figure\",\"type\":\"Plot\"},{\"attributes\":{\"callback\":null,\"data\":{\"x\":[2020,2025,2030,2035,2040,2045,2050,2055,2060,2065,2070,2075,2080,2085,2090,2095,2100],\"y\":[1057438.163,1182376.585,1313758.882,1450358.0589999997,1590723.5140000007,1733412.6489999997,1876797.781,2019337.702000001,2159628.188,2296253.5399999996,2427682.2370000007,2552545.8049999997,2669675.032999999,2778054.0900000003,2877186.7590000005,2966790.3559999997,3046778.7830000003]},\"selected\":{\"id\":\"1832\",\"type\":\"Selection\"},\"selection_policy\":{\"id\":\"1833\",\"type\":\"UnionRenderers\"}},\"id\":\"1753\",\"type\":\"ColumnDataSource\"},{\"attributes\":{},\"id\":\"1835\",\"type\":\"UnionRenderers\"},{\"attributes\":{\"fill_color\":{\"value\":\"#FA1857\"},\"line_color\":{\"value\":\"#FA1857\"},\"size\":{\"units\":\"screen\",\"value\":3},\"x\":{\"field\":\"x\"},\"y\":{\"field\":\"y\"}},\"id\":\"1767\",\"type\":\"Circle\"},{\"attributes\":{\"axis_label\":\"Projected population, thousands\",\"formatter\":{\"id\":\"1762\",\"type\":\"BasicTickFormatter\"},\"ticker\":{\"id\":\"1736\",\"type\":\"BasicTicker\"}},\"id\":\"1735\",\"type\":\"LinearAxis\"},{\"attributes\":{\"fill_alpha\":{\"value\":0.1},\"fill_color\":{\"value\":\"#1f77b4\"},\"line_alpha\":{\"value\":0.1},\"line_color\":{\"value\":\"#1f77b4\"},\"size\":{\"units\":\"screen\",\"value\":3},\"x\":{\"field\":\"x\"},\"y\":{\"field\":\"y\"}},\"id\":\"1768\",\"type\":\"Circle\"},{\"attributes\":{},\"id\":\"1760\",\"type\":\"BasicTickFormatter\"},{\"attributes\":{},\"id\":\"1736\",\"type\":\"BasicTicker\"},{\"attributes\":{\"grid_line_color\":null,\"ticker\":{\"id\":\"1731\",\"type\":\"BasicTicker\"}},\"id\":\"1734\",\"type\":\"Grid\"},{\"attributes\":{\"data_source\":{\"id\":\"1766\",\"type\":\"ColumnDataSource\"},\"glyph\":{\"id\":\"1767\",\"type\":\"Circle\"},\"hover_glyph\":null,\"muted_glyph\":null,\"nonselection_glyph\":{\"id\":\"1768\",\"type\":\"Circle\"},\"selection_glyph\":null,\"view\":{\"id\":\"1770\",\"type\":\"CDSView\"}},\"id\":\"1769\",\"type\":\"GlyphRenderer\"},{\"attributes\":{\"axis_label\":\"Years\",\"formatter\":{\"id\":\"1760\",\"type\":\"BasicTickFormatter\"},\"ticker\":{\"id\":\"1731\",\"type\":\"BasicTicker\"}},\"id\":\"1730\",\"type\":\"LinearAxis\"},{\"attributes\":{\"overlay\":{\"id\":\"1763\",\"type\":\"BoxAnnotation\"}},\"id\":\"1742\",\"type\":\"BoxZoomTool\"},{\"attributes\":{\"dimension\":1,\"grid_line_alpha\":0.5,\"ticker\":{\"id\":\"1736\",\"type\":\"BasicTicker\"}},\"id\":\"1739\",\"type\":\"Grid\"},{\"attributes\":{\"callback\":null,\"data\":{\"x\":[2020,2025,2030,2035,2040,2045,2050,2055,2060,2065,2070,2075,2080,2085,2090,2095,2100],\"y\":[1057438.163,1182376.585,1313758.882,1450358.0589999997,1590723.5140000007,1733412.6489999997,1876797.781,2019337.702000001,2159628.188,2296253.5399999996,2427682.2370000007,2552545.8049999997,2669675.032999999,2778054.0900000003,2877186.7590000005,2966790.3559999997,3046778.7830000003]},\"selected\":{\"id\":\"1834\",\"type\":\"Selection\"},\"selection_policy\":{\"id\":\"1835\",\"type\":\"UnionRenderers\"}},\"id\":\"1766\",\"type\":\"ColumnDataSource\"},{\"attributes\":{\"source\":{\"id\":\"1766\",\"type\":\"ColumnDataSource\"}},\"id\":\"1770\",\"type\":\"CDSView\"},{\"attributes\":{},\"id\":\"1832\",\"type\":\"Selection\"},{\"attributes\":{},\"id\":\"1726\",\"type\":\"LinearScale\"},{\"attributes\":{\"line_color\":\"#FA1857\",\"line_width\":3,\"x\":{\"field\":\"x\"},\"y\":{\"field\":\"y\"}},\"id\":\"1754\",\"type\":\"Line\"},{\"attributes\":{},\"id\":\"1833\",\"type\":\"UnionRenderers\"},{\"attributes\":{\"callback\":null},\"id\":\"1722\",\"type\":\"DataRange1d\"},{\"attributes\":{},\"id\":\"1740\",\"type\":\"PanTool\"},{\"attributes\":{\"callback\":null},\"id\":\"1724\",\"type\":\"DataRange1d\"},{\"attributes\":{},\"id\":\"1834\",\"type\":\"Selection\"},{\"attributes\":{\"bottom_units\":\"screen\",\"fill_alpha\":{\"value\":0.5},\"fill_color\":{\"value\":\"lightgrey\"},\"left_units\":\"screen\",\"level\":\"overlay\",\"line_alpha\":{\"value\":1.0},\"line_color\":{\"value\":\"black\"},\"line_dash\":[4,4],\"line_width\":{\"value\":2},\"render_mode\":\"css\",\"right_units\":\"screen\",\"top_units\":\"screen\"},\"id\":\"1763\",\"type\":\"BoxAnnotation\"},{\"attributes\":{},\"id\":\"1741\",\"type\":\"WheelZoomTool\"},{\"attributes\":{\"text\":\"Projected population, thousands\"},\"id\":\"1720\",\"type\":\"Title\"},{\"attributes\":{},\"id\":\"1743\",\"type\":\"SaveTool\"},{\"attributes\":{},\"id\":\"1762\",\"type\":\"BasicTickFormatter\"},{\"attributes\":{\"label\":{\"value\":\"LDCs\"},\"renderers\":[{\"id\":\"1756\",\"type\":\"GlyphRenderer\"}]},\"id\":\"1765\",\"type\":\"LegendItem\"},{\"attributes\":{},\"id\":\"1744\",\"type\":\"ResetTool\"},{\"attributes\":{\"data_source\":{\"id\":\"1753\",\"type\":\"ColumnDataSource\"},\"glyph\":{\"id\":\"1754\",\"type\":\"Line\"},\"hover_glyph\":null,\"muted_glyph\":null,\"nonselection_glyph\":{\"id\":\"1755\",\"type\":\"Line\"},\"selection_glyph\":null,\"view\":{\"id\":\"1757\",\"type\":\"CDSView\"}},\"id\":\"1756\",\"type\":\"GlyphRenderer\"},{\"attributes\":{},\"id\":\"1731\",\"type\":\"BasicTicker\"},{\"attributes\":{\"items\":[{\"id\":\"1765\",\"type\":\"LegendItem\"}],\"location\":\"bottom_left\"},\"id\":\"1764\",\"type\":\"Legend\"},{\"attributes\":{\"source\":{\"id\":\"1753\",\"type\":\"ColumnDataSource\"}},\"id\":\"1757\",\"type\":\"CDSView\"},{\"attributes\":{\"active_drag\":\"auto\",\"active_inspect\":\"auto\",\"active_multi\":null,\"active_scroll\":\"auto\",\"active_tap\":\"auto\",\"tools\":[{\"id\":\"1740\",\"type\":\"PanTool\"},{\"id\":\"1741\",\"type\":\"WheelZoomTool\"},{\"id\":\"1742\",\"type\":\"BoxZoomTool\"},{\"id\":\"1743\",\"type\":\"SaveTool\"},{\"id\":\"1744\",\"type\":\"ResetTool\"},{\"id\":\"1745\",\"type\":\"HelpTool\"},{\"id\":\"1771\",\"type\":\"HoverTool\"}]},\"id\":\"1746\",\"type\":\"Toolbar\"},{\"attributes\":{\"callback\":null,\"tooltips\":\"                \\n        <div style=padding=5px>Year:@x</div>\\n        <div style=padding=5px>Value:@y</div>        \\n        \"},\"id\":\"1771\",\"type\":\"HoverTool\"},{\"attributes\":{},\"id\":\"1728\",\"type\":\"LinearScale\"},{\"attributes\":{},\"id\":\"1745\",\"type\":\"HelpTool\"},{\"attributes\":{\"line_alpha\":0.1,\"line_color\":\"#1f77b4\",\"line_width\":3,\"x\":{\"field\":\"x\"},\"y\":{\"field\":\"y\"}},\"id\":\"1755\",\"type\":\"Line\"}],\"root_ids\":[\"1719\"]},\"title\":\"Bokeh Application\",\"version\":\"1.3.4\"}};\n",
       "  var render_items = [{\"docid\":\"899de50c-60c1-4d73-93c5-4d1bb00313e2\",\"roots\":{\"1719\":\"c442e336-12b9-4457-be9e-64b24e0d2c5d\"}}];\n",
       "  root.Bokeh.embed.embed_items_notebook(docs_json, render_items);\n",
       "\n",
       "  }\n",
       "  if (root.Bokeh !== undefined) {\n",
       "    embed_document(root);\n",
       "  } else {\n",
       "    var attempts = 0;\n",
       "    var timer = setInterval(function(root) {\n",
       "      if (root.Bokeh !== undefined) {\n",
       "        embed_document(root);\n",
       "        clearInterval(timer);\n",
       "      }\n",
       "      attempts++;\n",
       "      if (attempts > 100) {\n",
       "        console.log(\"Bokeh: ERROR: Unable to run BokehJS code because BokehJS library is missing\");\n",
       "        clearInterval(timer);\n",
       "      }\n",
       "    }, 10, root)\n",
       "  }\n",
       "})(window);"
      ],
      "application/vnd.bokehjs_exec.v0+json": ""
     },
     "metadata": {
      "application/vnd.bokehjs_exec.v0+json": {
       "id": "1719"
      }
     },
     "output_type": "display_data"
    }
   ],
   "source": [
    "show(line_chart(gpp(['LDCs']), \"Projected population, thousands\", dataset='all',\n",
    "                x_axis_label='Years', y_axis_label='Projected population, thousands', \n",
    "                height=400, width=1000, line_width=3))"
   ]
  },
  {
   "cell_type": "code",
   "execution_count": 10,
   "metadata": {
    "slideshow": {
     "slide_type": "slide"
    }
   },
   "outputs": [
    {
     "data": {
      "text/html": [
       "\n",
       "\n",
       "\n",
       "\n",
       "\n",
       "\n",
       "  <div class=\"bk-root\" id=\"30bc5e75-8fdc-4b71-870e-419c62adb629\" data-root-id=\"1896\"></div>\n"
      ]
     },
     "metadata": {},
     "output_type": "display_data"
    },
    {
     "data": {
      "application/javascript": [
       "(function(root) {\n",
       "  function embed_document(root) {\n",
       "    \n",
       "  var docs_json = {\"f3e2bad2-71c9-447e-9134-21a951cbb2e8\":{\"roots\":{\"references\":[{\"attributes\":{\"below\":[{\"id\":\"1907\",\"type\":\"LinearAxis\"}],\"center\":[{\"id\":\"1911\",\"type\":\"Grid\"},{\"id\":\"1916\",\"type\":\"Grid\"},{\"id\":\"1941\",\"type\":\"Legend\"}],\"left\":[{\"id\":\"1912\",\"type\":\"LinearAxis\"}],\"plot_height\":400,\"plot_width\":1000,\"renderers\":[{\"id\":\"1933\",\"type\":\"GlyphRenderer\"},{\"id\":\"1946\",\"type\":\"GlyphRenderer\"},{\"id\":\"1951\",\"type\":\"GlyphRenderer\"},{\"id\":\"1967\",\"type\":\"GlyphRenderer\"}],\"title\":{\"id\":\"1897\",\"type\":\"Title\"},\"toolbar\":{\"id\":\"1923\",\"type\":\"Toolbar\"},\"x_range\":{\"id\":\"1899\",\"type\":\"DataRange1d\"},\"x_scale\":{\"id\":\"1903\",\"type\":\"LinearScale\"},\"y_range\":{\"id\":\"1901\",\"type\":\"DataRange1d\"},\"y_scale\":{\"id\":\"1905\",\"type\":\"LinearScale\"}},\"id\":\"1896\",\"subtype\":\"Figure\",\"type\":\"Plot\"},{\"attributes\":{},\"id\":\"1937\",\"type\":\"BasicTickFormatter\"},{\"attributes\":{\"label\":{\"value\":\"Developing excluding LDCs\"},\"renderers\":[{\"id\":\"1951\",\"type\":\"GlyphRenderer\"}]},\"id\":\"1963\",\"type\":\"LegendItem\"},{\"attributes\":{},\"id\":\"1939\",\"type\":\"BasicTickFormatter\"},{\"attributes\":{\"callback\":null,\"data\":{\"x\":[2025,2030,2035,2040,2045,2050,2055,2060,2065,2070,2075,2080,2085,2090,2095,2100],\"y\":[2042563.6190000004,2042987.3229999996,2030948.397,2009087.2360000003,1983909.0610000002,1960819.4249999986,1937764.0890000002,1911041.9990000005,1881222.3620000002,1848204.0030000003,1813687.5220000003,1778408.793999999,1742707.0599999994,1706259.0559999992,1669257.7220000003,1631586.4350000005]},\"selected\":{\"id\":\"2046\",\"type\":\"Selection\"},\"selection_policy\":{\"id\":\"2047\",\"type\":\"UnionRenderers\"}},\"id\":\"1964\",\"type\":\"ColumnDataSource\"},{\"attributes\":{\"callback\":null},\"id\":\"1901\",\"type\":\"DataRange1d\"},{\"attributes\":{\"bottom_units\":\"screen\",\"fill_alpha\":{\"value\":0.5},\"fill_color\":{\"value\":\"lightgrey\"},\"left_units\":\"screen\",\"level\":\"overlay\",\"line_alpha\":{\"value\":1.0},\"line_color\":{\"value\":\"black\"},\"line_dash\":[4,4],\"line_width\":{\"value\":2},\"render_mode\":\"css\",\"right_units\":\"screen\",\"top_units\":\"screen\"},\"id\":\"1940\",\"type\":\"BoxAnnotation\"},{\"attributes\":{\"fill_color\":{\"value\":\"#5430F1\"},\"line_color\":{\"value\":\"#5430F1\"},\"size\":{\"units\":\"screen\",\"value\":3},\"x\":{\"field\":\"x\"},\"y\":{\"field\":\"y\"}},\"id\":\"1965\",\"type\":\"Circle\"},{\"attributes\":{\"items\":[{\"id\":\"1942\",\"type\":\"LegendItem\"},{\"id\":\"1963\",\"type\":\"LegendItem\"}],\"location\":\"bottom_left\"},\"id\":\"1941\",\"type\":\"Legend\"},{\"attributes\":{\"fill_alpha\":{\"value\":0.1},\"fill_color\":{\"value\":\"#1f77b4\"},\"line_alpha\":{\"value\":0.1},\"line_color\":{\"value\":\"#1f77b4\"},\"size\":{\"units\":\"screen\",\"value\":3},\"x\":{\"field\":\"x\"},\"y\":{\"field\":\"y\"}},\"id\":\"1966\",\"type\":\"Circle\"},{\"attributes\":{\"callback\":null,\"data\":{\"x\":[2025,2030,2035,2040,2045,2050,2055,2060,2065,2070,2075,2080,2085,2090,2095,2100],\"y\":[675001.29,726540.356,775991.2950000003,822982.5320000001,866849.0980000001,906694.7520000001,942231.1660000001,973538.734,1000876.354,1023972.5529999998,1042835.4999999999,1057450.079,1067694.3459999997,1073671.2289999998,1075700.2040000001,1074115.0160000003]},\"selected\":{\"id\":\"1961\",\"type\":\"Selection\"},\"selection_policy\":{\"id\":\"1962\",\"type\":\"UnionRenderers\"}},\"id\":\"1943\",\"type\":\"ColumnDataSource\"},{\"attributes\":{\"label\":{\"value\":\"LDCs\"},\"renderers\":[{\"id\":\"1933\",\"type\":\"GlyphRenderer\"}]},\"id\":\"1942\",\"type\":\"LegendItem\"},{\"attributes\":{\"data_source\":{\"id\":\"1964\",\"type\":\"ColumnDataSource\"},\"glyph\":{\"id\":\"1965\",\"type\":\"Circle\"},\"hover_glyph\":null,\"muted_glyph\":null,\"nonselection_glyph\":{\"id\":\"1966\",\"type\":\"Circle\"},\"selection_glyph\":null,\"view\":{\"id\":\"1968\",\"type\":\"CDSView\"}},\"id\":\"1967\",\"type\":\"GlyphRenderer\"},{\"attributes\":{\"dimension\":1,\"grid_line_alpha\":0.5,\"ticker\":{\"id\":\"1913\",\"type\":\"BasicTicker\"}},\"id\":\"1916\",\"type\":\"Grid\"},{\"attributes\":{\"source\":{\"id\":\"1964\",\"type\":\"ColumnDataSource\"}},\"id\":\"1968\",\"type\":\"CDSView\"},{\"attributes\":{\"fill_color\":{\"value\":\"#FA1857\"},\"line_color\":{\"value\":\"#FA1857\"},\"size\":{\"units\":\"screen\",\"value\":3},\"x\":{\"field\":\"x\"},\"y\":{\"field\":\"y\"}},\"id\":\"1944\",\"type\":\"Circle\"},{\"attributes\":{\"line_color\":\"#FA1857\",\"line_width\":4,\"x\":{\"field\":\"x\"},\"y\":{\"field\":\"y\"}},\"id\":\"1931\",\"type\":\"Line\"},{\"attributes\":{},\"id\":\"1908\",\"type\":\"BasicTicker\"},{\"attributes\":{\"fill_alpha\":{\"value\":0.1},\"fill_color\":{\"value\":\"#1f77b4\"},\"line_alpha\":{\"value\":0.1},\"line_color\":{\"value\":\"#1f77b4\"},\"size\":{\"units\":\"screen\",\"value\":3},\"x\":{\"field\":\"x\"},\"y\":{\"field\":\"y\"}},\"id\":\"1945\",\"type\":\"Circle\"},{\"attributes\":{},\"id\":\"1905\",\"type\":\"LinearScale\"},{\"attributes\":{\"callback\":null,\"data\":{\"x\":[2025,2030,2035,2040,2045,2050,2055,2060,2065,2070,2075,2080,2085,2090,2095,2100],\"y\":[675001.29,726540.356,775991.2950000003,822982.5320000001,866849.0980000001,906694.7520000001,942231.1660000001,973538.734,1000876.354,1023972.5529999998,1042835.4999999999,1057450.079,1067694.3459999997,1073671.2289999998,1075700.2040000001,1074115.0160000003]},\"selected\":{\"id\":\"1959\",\"type\":\"Selection\"},\"selection_policy\":{\"id\":\"1960\",\"type\":\"UnionRenderers\"}},\"id\":\"1930\",\"type\":\"ColumnDataSource\"},{\"attributes\":{\"data_source\":{\"id\":\"1943\",\"type\":\"ColumnDataSource\"},\"glyph\":{\"id\":\"1944\",\"type\":\"Circle\"},\"hover_glyph\":null,\"muted_glyph\":null,\"nonselection_glyph\":{\"id\":\"1945\",\"type\":\"Circle\"},\"selection_glyph\":null,\"view\":{\"id\":\"1947\",\"type\":\"CDSView\"}},\"id\":\"1946\",\"type\":\"GlyphRenderer\"},{\"attributes\":{},\"id\":\"2044\",\"type\":\"Selection\"},{\"attributes\":{},\"id\":\"1917\",\"type\":\"PanTool\"},{\"attributes\":{},\"id\":\"2045\",\"type\":\"UnionRenderers\"},{\"attributes\":{\"source\":{\"id\":\"1943\",\"type\":\"ColumnDataSource\"}},\"id\":\"1947\",\"type\":\"CDSView\"},{\"attributes\":{},\"id\":\"1918\",\"type\":\"WheelZoomTool\"},{\"attributes\":{},\"id\":\"2046\",\"type\":\"Selection\"},{\"attributes\":{\"callback\":null,\"data\":{\"x\":[2025,2030,2035,2040,2045,2050,2055,2060,2065,2070,2075,2080,2085,2090,2095,2100],\"y\":[2042563.6190000004,2042987.3229999996,2030948.397,2009087.2360000003,1983909.0610000002,1960819.4249999986,1937764.0890000002,1911041.9990000005,1881222.3620000002,1848204.0030000003,1813687.5220000003,1778408.793999999,1742707.0599999994,1706259.0559999992,1669257.7220000003,1631586.4350000005]},\"selected\":{\"id\":\"2044\",\"type\":\"Selection\"},\"selection_policy\":{\"id\":\"2045\",\"type\":\"UnionRenderers\"}},\"id\":\"1948\",\"type\":\"ColumnDataSource\"},{\"attributes\":{\"callback\":null},\"id\":\"1899\",\"type\":\"DataRange1d\"},{\"attributes\":{},\"id\":\"1913\",\"type\":\"BasicTicker\"},{\"attributes\":{\"overlay\":{\"id\":\"1940\",\"type\":\"BoxAnnotation\"}},\"id\":\"1919\",\"type\":\"BoxZoomTool\"},{\"attributes\":{},\"id\":\"2047\",\"type\":\"UnionRenderers\"},{\"attributes\":{\"line_color\":\"#5430F1\",\"line_width\":4,\"x\":{\"field\":\"x\"},\"y\":{\"field\":\"y\"}},\"id\":\"1949\",\"type\":\"Line\"},{\"attributes\":{},\"id\":\"1903\",\"type\":\"LinearScale\"},{\"attributes\":{},\"id\":\"1920\",\"type\":\"SaveTool\"},{\"attributes\":{\"line_alpha\":0.1,\"line_color\":\"#1f77b4\",\"line_width\":4,\"x\":{\"field\":\"x\"},\"y\":{\"field\":\"y\"}},\"id\":\"1950\",\"type\":\"Line\"},{\"attributes\":{},\"id\":\"1921\",\"type\":\"ResetTool\"},{\"attributes\":{\"callback\":null,\"tooltips\":\"                \\n        <div style=padding=5px>Year:@x</div>\\n        <div style=padding=5px>Value:@y</div>        \\n        \"},\"id\":\"1969\",\"type\":\"HoverTool\"},{\"attributes\":{\"data_source\":{\"id\":\"1948\",\"type\":\"ColumnDataSource\"},\"glyph\":{\"id\":\"1949\",\"type\":\"Line\"},\"hover_glyph\":null,\"muted_glyph\":null,\"nonselection_glyph\":{\"id\":\"1950\",\"type\":\"Line\"},\"selection_glyph\":null,\"view\":{\"id\":\"1952\",\"type\":\"CDSView\"}},\"id\":\"1951\",\"type\":\"GlyphRenderer\"},{\"attributes\":{\"grid_line_color\":null,\"ticker\":{\"id\":\"1908\",\"type\":\"BasicTicker\"}},\"id\":\"1911\",\"type\":\"Grid\"},{\"attributes\":{},\"id\":\"1922\",\"type\":\"HelpTool\"},{\"attributes\":{\"source\":{\"id\":\"1948\",\"type\":\"ColumnDataSource\"}},\"id\":\"1952\",\"type\":\"CDSView\"},{\"attributes\":{\"active_drag\":\"auto\",\"active_inspect\":\"auto\",\"active_multi\":null,\"active_scroll\":\"auto\",\"active_tap\":\"auto\",\"tools\":[{\"id\":\"1917\",\"type\":\"PanTool\"},{\"id\":\"1918\",\"type\":\"WheelZoomTool\"},{\"id\":\"1919\",\"type\":\"BoxZoomTool\"},{\"id\":\"1920\",\"type\":\"SaveTool\"},{\"id\":\"1921\",\"type\":\"ResetTool\"},{\"id\":\"1922\",\"type\":\"HelpTool\"},{\"id\":\"1969\",\"type\":\"HoverTool\"}]},\"id\":\"1923\",\"type\":\"Toolbar\"},{\"attributes\":{},\"id\":\"1959\",\"type\":\"Selection\"},{\"attributes\":{\"line_alpha\":0.1,\"line_color\":\"#1f77b4\",\"line_width\":4,\"x\":{\"field\":\"x\"},\"y\":{\"field\":\"y\"}},\"id\":\"1932\",\"type\":\"Line\"},{\"attributes\":{\"axis_label\":\"Projected population, 0-24, thousands\",\"formatter\":{\"id\":\"1939\",\"type\":\"BasicTickFormatter\"},\"ticker\":{\"id\":\"1913\",\"type\":\"BasicTicker\"}},\"id\":\"1912\",\"type\":\"LinearAxis\"},{\"attributes\":{},\"id\":\"1960\",\"type\":\"UnionRenderers\"},{\"attributes\":{\"axis_label\":\"Years\",\"formatter\":{\"id\":\"1937\",\"type\":\"BasicTickFormatter\"},\"ticker\":{\"id\":\"1908\",\"type\":\"BasicTicker\"}},\"id\":\"1907\",\"type\":\"LinearAxis\"},{\"attributes\":{\"data_source\":{\"id\":\"1930\",\"type\":\"ColumnDataSource\"},\"glyph\":{\"id\":\"1931\",\"type\":\"Line\"},\"hover_glyph\":null,\"muted_glyph\":null,\"nonselection_glyph\":{\"id\":\"1932\",\"type\":\"Line\"},\"selection_glyph\":null,\"view\":{\"id\":\"1934\",\"type\":\"CDSView\"}},\"id\":\"1933\",\"type\":\"GlyphRenderer\"},{\"attributes\":{},\"id\":\"1961\",\"type\":\"Selection\"},{\"attributes\":{\"source\":{\"id\":\"1930\",\"type\":\"ColumnDataSource\"}},\"id\":\"1934\",\"type\":\"CDSView\"},{\"attributes\":{\"text\":\"Projected population, thousands\"},\"id\":\"1897\",\"type\":\"Title\"},{\"attributes\":{},\"id\":\"1962\",\"type\":\"UnionRenderers\"}],\"root_ids\":[\"1896\"]},\"title\":\"Bokeh Application\",\"version\":\"1.3.4\"}};\n",
       "  var render_items = [{\"docid\":\"f3e2bad2-71c9-447e-9134-21a951cbb2e8\",\"roots\":{\"1896\":\"30bc5e75-8fdc-4b71-870e-419c62adb629\"}}];\n",
       "  root.Bokeh.embed.embed_items_notebook(docs_json, render_items);\n",
       "\n",
       "  }\n",
       "  if (root.Bokeh !== undefined) {\n",
       "    embed_document(root);\n",
       "  } else {\n",
       "    var attempts = 0;\n",
       "    var timer = setInterval(function(root) {\n",
       "      if (root.Bokeh !== undefined) {\n",
       "        embed_document(root);\n",
       "        clearInterval(timer);\n",
       "      }\n",
       "      attempts++;\n",
       "      if (attempts > 100) {\n",
       "        console.log(\"Bokeh: ERROR: Unable to run BokehJS code because BokehJS library is missing\");\n",
       "        clearInterval(timer);\n",
       "      }\n",
       "    }, 10, root)\n",
       "  }\n",
       "})(window);"
      ],
      "application/vnd.bokehjs_exec.v0+json": ""
     },
     "metadata": {
      "application/vnd.bokehjs_exec.v0+json": {
       "id": "1896"
      }
     },
     "output_type": "display_data"
    }
   ],
   "source": [
    "show(line_chart(sources.unpd.indicators.get_projection_by_groups(['LDCs', 'Developing excluding LDCs'], \n",
    "                                                                 dataset='0-24'), \"Projected population, thousands\", x_axis_label='Years', y_axis_label='Projected population, 0-24, thousands', height=400, width=1000, line_width=4))"
   ]
  },
  {
   "cell_type": "code",
   "execution_count": 35,
   "metadata": {
    "ExecuteTime": {
     "end_time": "2019-10-25T14:24:54.398684Z",
     "start_time": "2019-10-25T14:24:52.791475Z"
    },
    "slideshow": {
     "slide_type": "slide"
    }
   },
   "outputs": [
    {
     "data": {
      "text/html": [
       "\n",
       "\n",
       "\n",
       "\n",
       "\n",
       "\n",
       "  <div class=\"bk-root\" id=\"8482c975-8cdd-4648-ab06-fdfc071a4566\" data-root-id=\"13888\"></div>\n"
      ]
     },
     "metadata": {},
     "output_type": "display_data"
    },
    {
     "data": {
      "application/javascript": [
       "(function(root) {\n",
       "  function embed_document(root) {\n",
       "    \n",
       "  var docs_json = {\"a7bdfa8c-001e-4abe-8a53-d3d6e4241811\":{\"roots\":{\"references\":[{\"attributes\":{\"below\":[{\"id\":\"13899\",\"type\":\"LinearAxis\"}],\"center\":[{\"id\":\"13903\",\"type\":\"Grid\"},{\"id\":\"13908\",\"type\":\"Grid\"},{\"id\":\"13933\",\"type\":\"Legend\"}],\"left\":[{\"id\":\"13904\",\"type\":\"LinearAxis\"}],\"plot_height\":400,\"plot_width\":900,\"renderers\":[{\"id\":\"13925\",\"type\":\"GlyphRenderer\"},{\"id\":\"13938\",\"type\":\"GlyphRenderer\"},{\"id\":\"13943\",\"type\":\"GlyphRenderer\"},{\"id\":\"13959\",\"type\":\"GlyphRenderer\"},{\"id\":\"13964\",\"type\":\"GlyphRenderer\"},{\"id\":\"13984\",\"type\":\"GlyphRenderer\"}],\"title\":{\"id\":\"13889\",\"type\":\"Title\"},\"toolbar\":{\"id\":\"13915\",\"type\":\"Toolbar\"},\"x_range\":{\"id\":\"13891\",\"type\":\"DataRange1d\"},\"x_scale\":{\"id\":\"13895\",\"type\":\"LinearScale\"},\"y_range\":{\"id\":\"13893\",\"type\":\"DataRange1d\"},\"y_scale\":{\"id\":\"13897\",\"type\":\"LinearScale\"}},\"id\":\"13888\",\"subtype\":\"Figure\",\"type\":\"Plot\"},{\"attributes\":{\"callback\":null},\"id\":\"13893\",\"type\":\"DataRange1d\"},{\"attributes\":{\"callback\":null,\"data\":{\"x\":[2020,2025,2030,2035,2040,2045,2050,2055,2060,2065,2070,2075,2080,2085,2090,2095,2100],\"y\":[1057438.163,1182376.585,1313758.882,1450358.0589999997,1590723.5140000007,1733412.6489999997,1876797.781,2019337.702000001,2159628.188,2296253.5399999996,2427682.2370000007,2552545.8049999997,2669675.032999999,2778054.0900000003,2877186.7590000005,2966790.3559999997,3046778.7830000003]},\"selected\":{\"id\":\"13951\",\"type\":\"Selection\"},\"selection_policy\":{\"id\":\"13952\",\"type\":\"UnionRenderers\"}},\"id\":\"13922\",\"type\":\"ColumnDataSource\"},{\"attributes\":{\"source\":{\"id\":\"13961\",\"type\":\"ColumnDataSource\"}},\"id\":\"13965\",\"type\":\"CDSView\"},{\"attributes\":{},\"id\":\"13910\",\"type\":\"WheelZoomTool\"},{\"attributes\":{\"line_color\":\"#5430F1\",\"line_width\":3,\"x\":{\"field\":\"x\"},\"y\":{\"field\":\"y\"}},\"id\":\"13941\",\"type\":\"Line\"},{\"attributes\":{},\"id\":\"13976\",\"type\":\"Selection\"},{\"attributes\":{\"data_source\":{\"id\":\"13961\",\"type\":\"ColumnDataSource\"},\"glyph\":{\"id\":\"13962\",\"type\":\"Line\"},\"hover_glyph\":null,\"muted_glyph\":null,\"nonselection_glyph\":{\"id\":\"13963\",\"type\":\"Line\"},\"selection_glyph\":null,\"view\":{\"id\":\"13965\",\"type\":\"CDSView\"}},\"id\":\"13964\",\"type\":\"GlyphRenderer\"},{\"attributes\":{\"overlay\":{\"id\":\"13932\",\"type\":\"BoxAnnotation\"}},\"id\":\"13911\",\"type\":\"BoxZoomTool\"},{\"attributes\":{\"callback\":null,\"data\":{\"x\":[2020,2025,2030,2035,2040,2045,2050,2055,2060,2065,2070,2075,2080,2085,2090,2095,2100],\"y\":[4993103.786000001,5218738.716999997,5421085.645999999,5600144.947999999,5752488.066,5878012.936,5976889.714000002,6050353.927999998,6099916.011999999,6128642.660999999,6138746.354000001,6132326.774999998,6111578.452999997,6078805.713000003,6037048.572999997,5987636.3539999975,5930332.014000001]},\"selected\":{\"id\":\"13976\",\"type\":\"Selection\"},\"selection_policy\":{\"id\":\"13977\",\"type\":\"UnionRenderers\"}},\"id\":\"13940\",\"type\":\"ColumnDataSource\"},{\"attributes\":{\"line_alpha\":0.1,\"line_color\":\"#1f77b4\",\"line_width\":3,\"x\":{\"field\":\"x\"},\"y\":{\"field\":\"y\"}},\"id\":\"13963\",\"type\":\"Line\"},{\"attributes\":{},\"id\":\"13895\",\"type\":\"LinearScale\"},{\"attributes\":{},\"id\":\"13977\",\"type\":\"UnionRenderers\"},{\"attributes\":{\"source\":{\"id\":\"13935\",\"type\":\"ColumnDataSource\"}},\"id\":\"13939\",\"type\":\"CDSView\"},{\"attributes\":{},\"id\":\"13978\",\"type\":\"Selection\"},{\"attributes\":{\"data_source\":{\"id\":\"13935\",\"type\":\"ColumnDataSource\"},\"glyph\":{\"id\":\"13936\",\"type\":\"Circle\"},\"hover_glyph\":null,\"muted_glyph\":null,\"nonselection_glyph\":{\"id\":\"13937\",\"type\":\"Circle\"},\"selection_glyph\":null,\"view\":{\"id\":\"13939\",\"type\":\"CDSView\"}},\"id\":\"13938\",\"type\":\"GlyphRenderer\"},{\"attributes\":{\"line_color\":\"#2CC775\",\"line_width\":3,\"x\":{\"field\":\"x\"},\"y\":{\"field\":\"y\"}},\"id\":\"13962\",\"type\":\"Line\"},{\"attributes\":{},\"id\":\"13897\",\"type\":\"LinearScale\"},{\"attributes\":{},\"id\":\"13979\",\"type\":\"UnionRenderers\"},{\"attributes\":{\"fill_alpha\":{\"value\":0.1},\"fill_color\":{\"value\":\"#1f77b4\"},\"line_alpha\":{\"value\":0.1},\"line_color\":{\"value\":\"#1f77b4\"},\"size\":{\"units\":\"screen\",\"value\":3},\"x\":{\"field\":\"x\"},\"y\":{\"field\":\"y\"}},\"id\":\"13937\",\"type\":\"Circle\"},{\"attributes\":{\"label\":{\"value\":\"OECD\"},\"renderers\":[{\"id\":\"13964\",\"type\":\"GlyphRenderer\"}]},\"id\":\"13980\",\"type\":\"LegendItem\"},{\"attributes\":{\"callback\":null,\"data\":{\"x\":[2020,2025,2030,2035,2040,2045,2050,2055,2060,2065,2070,2075,2080,2085,2090,2095,2100],\"y\":[912306.7240000002,924199.783,933262.5580000001,940475.6150000001,944668.037,945929.6540000001,944372.924,940125.755,933542.0040000002,925493.626,916927.8789999998,908413.484,900272.8359999999,892459.4159999999,884981.163,877749.1270000001,870615.133]},\"selected\":{\"id\":\"14495\",\"type\":\"Selection\"},\"selection_policy\":{\"id\":\"14496\",\"type\":\"UnionRenderers\"}},\"id\":\"13961\",\"type\":\"ColumnDataSource\"},{\"attributes\":{},\"id\":\"13909\",\"type\":\"PanTool\"},{\"attributes\":{\"fill_color\":{\"value\":\"#FA1857\"},\"line_color\":{\"value\":\"#FA1857\"},\"size\":{\"units\":\"screen\",\"value\":3},\"x\":{\"field\":\"x\"},\"y\":{\"field\":\"y\"}},\"id\":\"13936\",\"type\":\"Circle\"},{\"attributes\":{\"source\":{\"id\":\"13956\",\"type\":\"ColumnDataSource\"}},\"id\":\"13960\",\"type\":\"CDSView\"},{\"attributes\":{\"axis_label\":\"Years\",\"formatter\":{\"id\":\"13929\",\"type\":\"BasicTickFormatter\"},\"ticker\":{\"id\":\"13900\",\"type\":\"BasicTicker\"}},\"id\":\"13899\",\"type\":\"LinearAxis\"},{\"attributes\":{\"callback\":null,\"data\":{\"x\":[2020,2025,2030,2035,2040,2045,2050,2055,2060,2065,2070,2075,2080,2085,2090,2095,2100],\"y\":[912306.7240000002,924199.783,933262.5580000001,940475.6150000001,944668.037,945929.6540000001,944372.924,940125.755,933542.0040000002,925493.626,916927.8789999998,908413.484,900272.8359999999,892459.4159999999,884981.163,877749.1270000001,870615.133]},\"selected\":{\"id\":\"14497\",\"type\":\"Selection\"},\"selection_policy\":{\"id\":\"14498\",\"type\":\"UnionRenderers\"}},\"id\":\"13981\",\"type\":\"ColumnDataSource\"},{\"attributes\":{\"data_source\":{\"id\":\"13956\",\"type\":\"ColumnDataSource\"},\"glyph\":{\"id\":\"13957\",\"type\":\"Circle\"},\"hover_glyph\":null,\"muted_glyph\":null,\"nonselection_glyph\":{\"id\":\"13958\",\"type\":\"Circle\"},\"selection_glyph\":null,\"view\":{\"id\":\"13960\",\"type\":\"CDSView\"}},\"id\":\"13959\",\"type\":\"GlyphRenderer\"},{\"attributes\":{\"label\":{\"value\":\"LDCs\"},\"renderers\":[{\"id\":\"13925\",\"type\":\"GlyphRenderer\"}]},\"id\":\"13934\",\"type\":\"LegendItem\"},{\"attributes\":{\"fill_color\":{\"value\":\"#2CC775\"},\"line_color\":{\"value\":\"#2CC775\"},\"size\":{\"units\":\"screen\",\"value\":3},\"x\":{\"field\":\"x\"},\"y\":{\"field\":\"y\"}},\"id\":\"13982\",\"type\":\"Circle\"},{\"attributes\":{},\"id\":\"13900\",\"type\":\"BasicTicker\"},{\"attributes\":{\"line_alpha\":0.1,\"line_color\":\"#1f77b4\",\"line_width\":3,\"x\":{\"field\":\"x\"},\"y\":{\"field\":\"y\"}},\"id\":\"13942\",\"type\":\"Line\"},{\"attributes\":{\"fill_alpha\":{\"value\":0.1},\"fill_color\":{\"value\":\"#1f77b4\"},\"line_alpha\":{\"value\":0.1},\"line_color\":{\"value\":\"#1f77b4\"},\"size\":{\"units\":\"screen\",\"value\":3},\"x\":{\"field\":\"x\"},\"y\":{\"field\":\"y\"}},\"id\":\"13958\",\"type\":\"Circle\"},{\"attributes\":{\"items\":[{\"id\":\"13934\",\"type\":\"LegendItem\"},{\"id\":\"13955\",\"type\":\"LegendItem\"},{\"id\":\"13980\",\"type\":\"LegendItem\"}],\"location\":\"bottom_left\"},\"id\":\"13933\",\"type\":\"Legend\"},{\"attributes\":{\"fill_alpha\":{\"value\":0.1},\"fill_color\":{\"value\":\"#1f77b4\"},\"line_alpha\":{\"value\":0.1},\"line_color\":{\"value\":\"#1f77b4\"},\"size\":{\"units\":\"screen\",\"value\":3},\"x\":{\"field\":\"x\"},\"y\":{\"field\":\"y\"}},\"id\":\"13983\",\"type\":\"Circle\"},{\"attributes\":{\"data_source\":{\"id\":\"13981\",\"type\":\"ColumnDataSource\"},\"glyph\":{\"id\":\"13982\",\"type\":\"Circle\"},\"hover_glyph\":null,\"muted_glyph\":null,\"nonselection_glyph\":{\"id\":\"13983\",\"type\":\"Circle\"},\"selection_glyph\":null,\"view\":{\"id\":\"13985\",\"type\":\"CDSView\"}},\"id\":\"13984\",\"type\":\"GlyphRenderer\"},{\"attributes\":{\"fill_color\":{\"value\":\"#5430F1\"},\"line_color\":{\"value\":\"#5430F1\"},\"size\":{\"units\":\"screen\",\"value\":3},\"x\":{\"field\":\"x\"},\"y\":{\"field\":\"y\"}},\"id\":\"13957\",\"type\":\"Circle\"},{\"attributes\":{\"bottom_units\":\"screen\",\"fill_alpha\":{\"value\":0.5},\"fill_color\":{\"value\":\"lightgrey\"},\"left_units\":\"screen\",\"level\":\"overlay\",\"line_alpha\":{\"value\":1.0},\"line_color\":{\"value\":\"black\"},\"line_dash\":[4,4],\"line_width\":{\"value\":2},\"render_mode\":\"css\",\"right_units\":\"screen\",\"top_units\":\"screen\"},\"id\":\"13932\",\"type\":\"BoxAnnotation\"},{\"attributes\":{\"callback\":null,\"data\":{\"x\":[2020,2025,2030,2035,2040,2045,2050,2055,2060,2065,2070,2075,2080,2085,2090,2095,2100],\"y\":[4993103.786000001,5218738.716999997,5421085.645999999,5600144.947999999,5752488.066,5878012.936,5976889.714000002,6050353.927999998,6099916.011999999,6128642.660999999,6138746.354000001,6132326.774999998,6111578.452999997,6078805.713000003,6037048.572999997,5987636.3539999975,5930332.014000001]},\"selected\":{\"id\":\"13978\",\"type\":\"Selection\"},\"selection_policy\":{\"id\":\"13979\",\"type\":\"UnionRenderers\"}},\"id\":\"13956\",\"type\":\"ColumnDataSource\"},{\"attributes\":{\"source\":{\"id\":\"13981\",\"type\":\"ColumnDataSource\"}},\"id\":\"13985\",\"type\":\"CDSView\"},{\"attributes\":{},\"id\":\"13931\",\"type\":\"BasicTickFormatter\"},{\"attributes\":{\"label\":{\"value\":\"Developing excluding LDCs\"},\"renderers\":[{\"id\":\"13943\",\"type\":\"GlyphRenderer\"}]},\"id\":\"13955\",\"type\":\"LegendItem\"},{\"attributes\":{\"grid_line_color\":null,\"ticker\":{\"id\":\"13900\",\"type\":\"BasicTicker\"}},\"id\":\"13903\",\"type\":\"Grid\"},{\"attributes\":{},\"id\":\"13929\",\"type\":\"BasicTickFormatter\"},{\"attributes\":{},\"id\":\"13954\",\"type\":\"UnionRenderers\"},{\"attributes\":{\"source\":{\"id\":\"13922\",\"type\":\"ColumnDataSource\"}},\"id\":\"13926\",\"type\":\"CDSView\"},{\"attributes\":{},\"id\":\"14495\",\"type\":\"Selection\"},{\"attributes\":{\"data_source\":{\"id\":\"13922\",\"type\":\"ColumnDataSource\"},\"glyph\":{\"id\":\"13923\",\"type\":\"Line\"},\"hover_glyph\":null,\"muted_glyph\":null,\"nonselection_glyph\":{\"id\":\"13924\",\"type\":\"Line\"},\"selection_glyph\":null,\"view\":{\"id\":\"13926\",\"type\":\"CDSView\"}},\"id\":\"13925\",\"type\":\"GlyphRenderer\"},{\"attributes\":{\"axis_label\":\"Projected population, thousands\",\"formatter\":{\"id\":\"13931\",\"type\":\"BasicTickFormatter\"},\"ticker\":{\"id\":\"13905\",\"type\":\"BasicTicker\"}},\"id\":\"13904\",\"type\":\"LinearAxis\"},{\"attributes\":{},\"id\":\"13953\",\"type\":\"Selection\"},{\"attributes\":{\"callback\":null,\"data\":{\"x\":[2020,2025,2030,2035,2040,2045,2050,2055,2060,2065,2070,2075,2080,2085,2090,2095,2100],\"y\":[1057438.163,1182376.585,1313758.882,1450358.0589999997,1590723.5140000007,1733412.6489999997,1876797.781,2019337.702000001,2159628.188,2296253.5399999996,2427682.2370000007,2552545.8049999997,2669675.032999999,2778054.0900000003,2877186.7590000005,2966790.3559999997,3046778.7830000003]},\"selected\":{\"id\":\"13953\",\"type\":\"Selection\"},\"selection_policy\":{\"id\":\"13954\",\"type\":\"UnionRenderers\"}},\"id\":\"13935\",\"type\":\"ColumnDataSource\"},{\"attributes\":{},\"id\":\"14496\",\"type\":\"UnionRenderers\"},{\"attributes\":{\"text\":\"Projected population, thousands\"},\"id\":\"13889\",\"type\":\"Title\"},{\"attributes\":{\"callback\":null,\"tooltips\":\"                \\n        <div style=padding=5px>Year:@x</div>\\n        <div style=padding=5px>Value:@y</div>        \\n        \"},\"id\":\"13986\",\"type\":\"HoverTool\"},{\"attributes\":{},\"id\":\"13952\",\"type\":\"UnionRenderers\"},{\"attributes\":{},\"id\":\"14497\",\"type\":\"Selection\"},{\"attributes\":{\"dimension\":1,\"grid_line_alpha\":0.5,\"ticker\":{\"id\":\"13905\",\"type\":\"BasicTicker\"}},\"id\":\"13908\",\"type\":\"Grid\"},{\"attributes\":{\"active_drag\":\"auto\",\"active_inspect\":\"auto\",\"active_multi\":null,\"active_scroll\":\"auto\",\"active_tap\":\"auto\",\"tools\":[{\"id\":\"13909\",\"type\":\"PanTool\"},{\"id\":\"13910\",\"type\":\"WheelZoomTool\"},{\"id\":\"13911\",\"type\":\"BoxZoomTool\"},{\"id\":\"13912\",\"type\":\"SaveTool\"},{\"id\":\"13913\",\"type\":\"ResetTool\"},{\"id\":\"13914\",\"type\":\"HelpTool\"},{\"id\":\"13986\",\"type\":\"HoverTool\"}]},\"id\":\"13915\",\"type\":\"Toolbar\"},{\"attributes\":{},\"id\":\"13905\",\"type\":\"BasicTicker\"},{\"attributes\":{},\"id\":\"13951\",\"type\":\"Selection\"},{\"attributes\":{},\"id\":\"14498\",\"type\":\"UnionRenderers\"},{\"attributes\":{},\"id\":\"13914\",\"type\":\"HelpTool\"},{\"attributes\":{\"line_color\":\"#FA1857\",\"line_width\":3,\"x\":{\"field\":\"x\"},\"y\":{\"field\":\"y\"}},\"id\":\"13923\",\"type\":\"Line\"},{\"attributes\":{\"source\":{\"id\":\"13940\",\"type\":\"ColumnDataSource\"}},\"id\":\"13944\",\"type\":\"CDSView\"},{\"attributes\":{},\"id\":\"13913\",\"type\":\"ResetTool\"},{\"attributes\":{\"data_source\":{\"id\":\"13940\",\"type\":\"ColumnDataSource\"},\"glyph\":{\"id\":\"13941\",\"type\":\"Line\"},\"hover_glyph\":null,\"muted_glyph\":null,\"nonselection_glyph\":{\"id\":\"13942\",\"type\":\"Line\"},\"selection_glyph\":null,\"view\":{\"id\":\"13944\",\"type\":\"CDSView\"}},\"id\":\"13943\",\"type\":\"GlyphRenderer\"},{\"attributes\":{\"line_alpha\":0.1,\"line_color\":\"#1f77b4\",\"line_width\":3,\"x\":{\"field\":\"x\"},\"y\":{\"field\":\"y\"}},\"id\":\"13924\",\"type\":\"Line\"},{\"attributes\":{},\"id\":\"13912\",\"type\":\"SaveTool\"},{\"attributes\":{\"callback\":null},\"id\":\"13891\",\"type\":\"DataRange1d\"}],\"root_ids\":[\"13888\"]},\"title\":\"Bokeh Application\",\"version\":\"1.3.4\"}};\n",
       "  var render_items = [{\"docid\":\"a7bdfa8c-001e-4abe-8a53-d3d6e4241811\",\"roots\":{\"13888\":\"8482c975-8cdd-4648-ab06-fdfc071a4566\"}}];\n",
       "  root.Bokeh.embed.embed_items_notebook(docs_json, render_items);\n",
       "\n",
       "  }\n",
       "  if (root.Bokeh !== undefined) {\n",
       "    embed_document(root);\n",
       "  } else {\n",
       "    var attempts = 0;\n",
       "    var timer = setInterval(function(root) {\n",
       "      if (root.Bokeh !== undefined) {\n",
       "        embed_document(root);\n",
       "        clearInterval(timer);\n",
       "      }\n",
       "      attempts++;\n",
       "      if (attempts > 100) {\n",
       "        console.log(\"Bokeh: ERROR: Unable to run BokehJS code because BokehJS library is missing\");\n",
       "        clearInterval(timer);\n",
       "      }\n",
       "    }, 10, root)\n",
       "  }\n",
       "})(window);"
      ],
      "application/vnd.bokehjs_exec.v0+json": ""
     },
     "metadata": {
      "application/vnd.bokehjs_exec.v0+json": {
       "id": "13888"
      }
     },
     "output_type": "display_data"
    }
   ],
   "source": [
    "show(line_chart(gpp(['LDCs', 'Developing excluding LDCs', 'OECD']), \n",
    "                \"Projected population, thousands\", x_axis_label='Years', \n",
    "                y_axis_label='Projected population, thousands', height=400, line_width=3,width=900))"
   ]
  },
  {
   "cell_type": "code",
   "execution_count": 54,
   "metadata": {
    "ExecuteTime": {
     "end_time": "2019-10-25T14:24:45.413121Z",
     "start_time": "2019-10-25T14:23:48.680578Z"
    },
    "slideshow": {
     "slide_type": "slide"
    }
   },
   "outputs": [
    {
     "data": {
      "text/html": [
       "\n",
       "\n",
       "\n",
       "\n",
       "\n",
       "\n",
       "  <div class=\"bk-root\" id=\"f334f51c-747d-4688-a843-1915d70795af\" data-root-id=\"28545\"></div>\n"
      ]
     },
     "metadata": {},
     "output_type": "display_data"
    },
    {
     "data": {
      "application/javascript": [
       "(function(root) {\n",
       "  function embed_document(root) {\n",
       "    \n",
       "  var docs_json = {\"701c12f8-5c00-413f-80fe-a232941ffe21\":{\"roots\":{\"references\":[{\"attributes\":{\"below\":[{\"id\":\"28556\",\"type\":\"LinearAxis\"}],\"center\":[{\"id\":\"28560\",\"type\":\"Grid\"},{\"id\":\"28565\",\"type\":\"Grid\"},{\"id\":\"28590\",\"type\":\"Legend\"}],\"left\":[{\"id\":\"28561\",\"type\":\"LinearAxis\"}],\"plot_height\":400,\"plot_width\":1000,\"renderers\":[{\"id\":\"28582\",\"type\":\"GlyphRenderer\"},{\"id\":\"28595\",\"type\":\"GlyphRenderer\"},{\"id\":\"28600\",\"type\":\"GlyphRenderer\"},{\"id\":\"28616\",\"type\":\"GlyphRenderer\"},{\"id\":\"28621\",\"type\":\"GlyphRenderer\"},{\"id\":\"28641\",\"type\":\"GlyphRenderer\"}],\"title\":{\"id\":\"28546\",\"type\":\"Title\"},\"toolbar\":{\"id\":\"28572\",\"type\":\"Toolbar\"},\"x_range\":{\"id\":\"28548\",\"type\":\"DataRange1d\"},\"x_scale\":{\"id\":\"28552\",\"type\":\"LinearScale\"},\"y_range\":{\"id\":\"28550\",\"type\":\"DataRange1d\"},\"y_scale\":{\"id\":\"28554\",\"type\":\"LinearScale\"}},\"id\":\"28545\",\"subtype\":\"Figure\",\"type\":\"Plot\"},{\"attributes\":{},\"id\":\"28608\",\"type\":\"Selection\"},{\"attributes\":{},\"id\":\"28636\",\"type\":\"UnionRenderers\"},{\"attributes\":{},\"id\":\"28554\",\"type\":\"LinearScale\"},{\"attributes\":{\"data_source\":{\"id\":\"28579\",\"type\":\"ColumnDataSource\"},\"glyph\":{\"id\":\"28580\",\"type\":\"Line\"},\"hover_glyph\":null,\"muted_glyph\":null,\"nonselection_glyph\":{\"id\":\"28581\",\"type\":\"Line\"},\"selection_glyph\":null,\"view\":{\"id\":\"28583\",\"type\":\"CDSView\"}},\"id\":\"28582\",\"type\":\"GlyphRenderer\"},{\"attributes\":{},\"id\":\"28609\",\"type\":\"UnionRenderers\"},{\"attributes\":{\"label\":{\"value\":\"OECD\"},\"renderers\":[{\"id\":\"28621\",\"type\":\"GlyphRenderer\"}]},\"id\":\"28637\",\"type\":\"LegendItem\"},{\"attributes\":{\"axis_label\":\"Years\",\"formatter\":{\"id\":\"28586\",\"type\":\"BasicTickFormatter\"},\"ticker\":{\"id\":\"28557\",\"type\":\"BasicTicker\"}},\"id\":\"28556\",\"type\":\"LinearAxis\"},{\"attributes\":{\"source\":{\"id\":\"28579\",\"type\":\"ColumnDataSource\"}},\"id\":\"28583\",\"type\":\"CDSView\"},{\"attributes\":{},\"id\":\"28610\",\"type\":\"Selection\"},{\"attributes\":{},\"id\":\"28557\",\"type\":\"BasicTicker\"},{\"attributes\":{\"callback\":null,\"data\":{\"x\":[\"1962\",\"1963\",\"1964\",\"1965\",\"1966\",\"1967\",\"1968\",\"1969\",\"1970\",\"1971\",\"1972\",\"1973\",\"1974\",\"1975\",\"1976\",\"1977\",\"1978\",\"1979\",\"1980\",\"1981\",\"1982\",\"1983\",\"1984\",\"1985\",\"1986\",\"1987\",\"1988\",\"1989\",\"1990\",\"1991\",\"1992\",\"1993\",\"1994\",\"1995\",\"1996\",\"1997\",\"1998\",\"1999\",\"2000\",\"2001\",\"2002\",\"2003\",\"2004\",\"2005\",\"2006\",\"2007\",\"2008\",\"2009\",\"2010\",\"2011\",\"2012\",\"2013\",\"2014\",\"2015\",\"2016\",\"2017\"],\"y\":[36.42127360665778,35.91623000953568,35.41312563450036,34.91259283883799,34.41460814240305,33.906853776784544,33.41175944934178,32.93243762343052,32.47371657833314,32.08243047483682,31.72254341724644,31.376230937591238,31.02541989859808,30.694684316251664,30.439520115174478,30.192444164715646,29.942960728335073,29.698117424398575,29.45271291536762,29.159197365938237,28.884819993799557,28.62443020571846,28.373177767459325,28.121981510199006,27.8604458404359,27.578860132814693,27.299974013372434,27.04188263980006,26.764398045351797,26.48515980107442,26.22585182821077,25.962163393862863,25.69276563048598,25.42543337883581,25.181488242051362,24.9477281910235,24.714988268795185,24.48183071086911,24.25025925627994,23.905203675760802,23.504398066886452,23.123776637102807,22.758727449036055,22.408569017585673,22.085829368063017,21.7813270701607,21.485590735868247,21.19879146971327,20.918753085714805,20.70228925587614,20.51614583488052,20.332611207313864,20.1493430924518,19.961337971168508,19.770869743541244,19.576668574669895]},\"selected\":{\"id\":\"29434\",\"type\":\"Selection\"},\"selection_policy\":{\"id\":\"29435\",\"type\":\"UnionRenderers\"}},\"id\":\"28638\",\"type\":\"ColumnDataSource\"},{\"attributes\":{},\"id\":\"28611\",\"type\":\"UnionRenderers\"},{\"attributes\":{},\"id\":\"28586\",\"type\":\"BasicTickFormatter\"},{\"attributes\":{\"fill_color\":{\"value\":\"#2CC775\"},\"line_color\":{\"value\":\"#2CC775\"},\"size\":{\"units\":\"screen\",\"value\":1},\"x\":{\"field\":\"x\"},\"y\":{\"field\":\"y\"}},\"id\":\"28639\",\"type\":\"Circle\"},{\"attributes\":{\"grid_line_color\":null,\"ticker\":{\"id\":\"28557\",\"type\":\"BasicTicker\"}},\"id\":\"28560\",\"type\":\"Grid\"},{\"attributes\":{\"label\":{\"value\":\"Developing excluding LDCs\"},\"renderers\":[{\"id\":\"28600\",\"type\":\"GlyphRenderer\"}]},\"id\":\"28612\",\"type\":\"LegendItem\"},{\"attributes\":{\"fill_alpha\":{\"value\":0.1},\"fill_color\":{\"value\":\"#1f77b4\"},\"line_alpha\":{\"value\":0.1},\"line_color\":{\"value\":\"#1f77b4\"},\"size\":{\"units\":\"screen\",\"value\":1},\"x\":{\"field\":\"x\"},\"y\":{\"field\":\"y\"}},\"id\":\"28640\",\"type\":\"Circle\"},{\"attributes\":{},\"id\":\"28588\",\"type\":\"BasicTickFormatter\"},{\"attributes\":{\"axis_label\":\"SP.RUR.TOTL.ZS\",\"formatter\":{\"id\":\"28588\",\"type\":\"BasicTickFormatter\"},\"ticker\":{\"id\":\"28562\",\"type\":\"BasicTicker\"}},\"id\":\"28561\",\"type\":\"LinearAxis\"},{\"attributes\":{\"callback\":null,\"data\":{\"x\":[\"1962\",\"1963\",\"1964\",\"1965\",\"1966\",\"1967\",\"1968\",\"1969\",\"1970\",\"1971\",\"1972\",\"1973\",\"1974\",\"1975\",\"1976\",\"1977\",\"1978\",\"1979\",\"1980\",\"1981\",\"1982\",\"1983\",\"1984\",\"1985\",\"1986\",\"1987\",\"1988\",\"1989\",\"1990\",\"1991\",\"1992\",\"1993\",\"1994\",\"1995\",\"1996\",\"1997\",\"1998\",\"1999\",\"2000\",\"2001\",\"2002\",\"2003\",\"2004\",\"2005\",\"2006\",\"2007\",\"2008\",\"2009\",\"2010\",\"2011\",\"2012\",\"2013\",\"2014\",\"2015\",\"2016\",\"2017\"],\"y\":[76.36339285706455,75.90657569857643,75.44052033579077,75.26400028680143,75.08339297208057,74.88663372543422,74.69354781183536,74.50525820996135,74.31608190924274,74.0994295857478,73.84165122691049,73.53470588085722,73.18012411831,72.8174531601147,72.46881304831041,72.11284869316286,71.63344265720838,71.03048255353748,70.41825210024072,69.78091162633353,69.1609761614545,68.5951423309108,68.01991309071222,67.44534086814598,66.87635574289399,66.31309198875933,65.7505405937328,65.1877917641661,64.62267427579381,64.05034616689697,63.51617996958811,62.94363443737534,62.370097261167366,61.7726251818695,61.20134552410558,60.62761861786045,60.04987015034463,59.47145651552464,58.8832603140381,58.236628025371395,57.53677645413849,56.83692426838377,56.13161431088994,55.42218461512898,54.7231232706239,54.02923081587353,53.3330568384248,52.63943737031043,51.94737597716072,51.283253521656704,50.62996024858259,49.98012308165774,49.331297704584024,48.68603002244665,48.042910549351525,47.4043586144919]},\"selected\":{\"id\":\"28635\",\"type\":\"Selection\"},\"selection_policy\":{\"id\":\"28636\",\"type\":\"UnionRenderers\"}},\"id\":\"28613\",\"type\":\"ColumnDataSource\"},{\"attributes\":{\"data_source\":{\"id\":\"28638\",\"type\":\"ColumnDataSource\"},\"glyph\":{\"id\":\"28639\",\"type\":\"Circle\"},\"hover_glyph\":null,\"muted_glyph\":null,\"nonselection_glyph\":{\"id\":\"28640\",\"type\":\"Circle\"},\"selection_glyph\":null,\"view\":{\"id\":\"28642\",\"type\":\"CDSView\"}},\"id\":\"28641\",\"type\":\"GlyphRenderer\"},{\"attributes\":{\"bottom_units\":\"screen\",\"fill_alpha\":{\"value\":0.5},\"fill_color\":{\"value\":\"lightgrey\"},\"left_units\":\"screen\",\"level\":\"overlay\",\"line_alpha\":{\"value\":1.0},\"line_color\":{\"value\":\"black\"},\"line_dash\":[4,4],\"line_width\":{\"value\":2},\"render_mode\":\"css\",\"right_units\":\"screen\",\"top_units\":\"screen\"},\"id\":\"28589\",\"type\":\"BoxAnnotation\"},{\"attributes\":{},\"id\":\"28562\",\"type\":\"BasicTicker\"},{\"attributes\":{\"fill_color\":{\"value\":\"#5430F1\"},\"line_color\":{\"value\":\"#5430F1\"},\"size\":{\"units\":\"screen\",\"value\":1},\"x\":{\"field\":\"x\"},\"y\":{\"field\":\"y\"}},\"id\":\"28614\",\"type\":\"Circle\"},{\"attributes\":{\"items\":[{\"id\":\"28591\",\"type\":\"LegendItem\"},{\"id\":\"28612\",\"type\":\"LegendItem\"},{\"id\":\"28637\",\"type\":\"LegendItem\"}],\"location\":\"bottom_left\"},\"id\":\"28590\",\"type\":\"Legend\"},{\"attributes\":{\"source\":{\"id\":\"28638\",\"type\":\"ColumnDataSource\"}},\"id\":\"28642\",\"type\":\"CDSView\"},{\"attributes\":{\"dimension\":1,\"grid_line_alpha\":0.5,\"ticker\":{\"id\":\"28562\",\"type\":\"BasicTicker\"}},\"id\":\"28565\",\"type\":\"Grid\"},{\"attributes\":{\"fill_alpha\":{\"value\":0.1},\"fill_color\":{\"value\":\"#1f77b4\"},\"line_alpha\":{\"value\":0.1},\"line_color\":{\"value\":\"#1f77b4\"},\"size\":{\"units\":\"screen\",\"value\":1},\"x\":{\"field\":\"x\"},\"y\":{\"field\":\"y\"}},\"id\":\"28615\",\"type\":\"Circle\"},{\"attributes\":{\"label\":{\"value\":\"LDCs\"},\"renderers\":[{\"id\":\"28582\",\"type\":\"GlyphRenderer\"}]},\"id\":\"28591\",\"type\":\"LegendItem\"},{\"attributes\":{\"data_source\":{\"id\":\"28613\",\"type\":\"ColumnDataSource\"},\"glyph\":{\"id\":\"28614\",\"type\":\"Circle\"},\"hover_glyph\":null,\"muted_glyph\":null,\"nonselection_glyph\":{\"id\":\"28615\",\"type\":\"Circle\"},\"selection_glyph\":null,\"view\":{\"id\":\"28617\",\"type\":\"CDSView\"}},\"id\":\"28616\",\"type\":\"GlyphRenderer\"},{\"attributes\":{\"line_color\":\"#FA1857\",\"line_width\":3,\"x\":{\"field\":\"x\"},\"y\":{\"field\":\"y\"}},\"id\":\"28580\",\"type\":\"Line\"},{\"attributes\":{\"callback\":null,\"data\":{\"x\":[\"1962\",\"1963\",\"1964\",\"1965\",\"1966\",\"1967\",\"1968\",\"1969\",\"1970\",\"1971\",\"1972\",\"1973\",\"1974\",\"1975\",\"1976\",\"1977\",\"1978\",\"1979\",\"1980\",\"1981\",\"1982\",\"1983\",\"1984\",\"1985\",\"1986\",\"1987\",\"1988\",\"1989\",\"1990\",\"1991\",\"1992\",\"1993\",\"1994\",\"1995\",\"1996\",\"1997\",\"1998\",\"1999\",\"2000\",\"2001\",\"2002\",\"2003\",\"2004\",\"2005\",\"2006\",\"2007\",\"2008\",\"2009\",\"2010\",\"2011\",\"2012\",\"2013\",\"2014\",\"2015\",\"2016\",\"2017\"],\"y\":[88.49317080122637,88.22840028265047,87.94990263493402,87.66155033648887,87.3641390310271,87.03385889268613,86.68982762918448,86.32916622899764,85.96775037463605,85.56855469902285,85.1428495686006,84.7117431310034,84.2752466550058,84.38589084454625,83.92375685724423,83.44096820409904,82.94024522267715,82.45591103908215,81.89333073011242,81.39378812254,81.04714420871082,80.66838842845898,80.24385790029407,79.79355991817908,79.3378233597624,78.87648632012264,78.40713078056805,77.9598005058758,77.49936799859805,77.06556198170198,76.66187797875509,76.27777894361772,75.94330765183989,75.62327542673187,75.30351373978903,74.97382646969444,74.65033879869868,74.3275699289948,73.99938422128915,73.61927055073161,73.2102923285181,72.78732929275272,72.36248070735364,71.92319139086008,71.4887276102885,71.09761887631305,70.61576005817462,70.12466145048869,69.62580805480984,69.12023174484858,68.6437134604995,68.14647270790401,67.64336558698045,67.13448240573528,66.61970742292803,66.09925314007546]},\"selected\":{\"id\":\"28610\",\"type\":\"Selection\"},\"selection_policy\":{\"id\":\"28611\",\"type\":\"UnionRenderers\"}},\"id\":\"28592\",\"type\":\"ColumnDataSource\"},{\"attributes\":{},\"id\":\"29432\",\"type\":\"Selection\"},{\"attributes\":{\"callback\":null,\"data\":{\"x\":[\"1962\",\"1963\",\"1964\",\"1965\",\"1966\",\"1967\",\"1968\",\"1969\",\"1970\",\"1971\",\"1972\",\"1973\",\"1974\",\"1975\",\"1976\",\"1977\",\"1978\",\"1979\",\"1980\",\"1981\",\"1982\",\"1983\",\"1984\",\"1985\",\"1986\",\"1987\",\"1988\",\"1989\",\"1990\",\"1991\",\"1992\",\"1993\",\"1994\",\"1995\",\"1996\",\"1997\",\"1998\",\"1999\",\"2000\",\"2001\",\"2002\",\"2003\",\"2004\",\"2005\",\"2006\",\"2007\",\"2008\",\"2009\",\"2010\",\"2011\",\"2012\",\"2013\",\"2014\",\"2015\",\"2016\",\"2017\"],\"y\":[88.49317080122637,88.22840028265047,87.94990263493402,87.66155033648887,87.3641390310271,87.03385889268613,86.68982762918448,86.32916622899764,85.96775037463605,85.56855469902285,85.1428495686006,84.7117431310034,84.2752466550058,84.38589084454625,83.92375685724423,83.44096820409904,82.94024522267715,82.45591103908215,81.89333073011242,81.39378812254,81.04714420871082,80.66838842845898,80.24385790029407,79.79355991817908,79.3378233597624,78.87648632012264,78.40713078056805,77.9598005058758,77.49936799859805,77.06556198170198,76.66187797875509,76.27777894361772,75.94330765183989,75.62327542673187,75.30351373978903,74.97382646969444,74.65033879869868,74.3275699289948,73.99938422128915,73.61927055073161,73.2102923285181,72.78732929275272,72.36248070735364,71.92319139086008,71.4887276102885,71.09761887631305,70.61576005817462,70.12466145048869,69.62580805480984,69.12023174484858,68.6437134604995,68.14647270790401,67.64336558698045,67.13448240573528,66.61970742292803,66.09925314007546]},\"selected\":{\"id\":\"28608\",\"type\":\"Selection\"},\"selection_policy\":{\"id\":\"28609\",\"type\":\"UnionRenderers\"}},\"id\":\"28579\",\"type\":\"ColumnDataSource\"},{\"attributes\":{\"source\":{\"id\":\"28613\",\"type\":\"ColumnDataSource\"}},\"id\":\"28617\",\"type\":\"CDSView\"},{\"attributes\":{\"fill_color\":{\"value\":\"#FA1857\"},\"line_color\":{\"value\":\"#FA1857\"},\"size\":{\"units\":\"screen\",\"value\":1},\"x\":{\"field\":\"x\"},\"y\":{\"field\":\"y\"}},\"id\":\"28593\",\"type\":\"Circle\"},{\"attributes\":{},\"id\":\"29433\",\"type\":\"UnionRenderers\"},{\"attributes\":{\"callback\":null,\"tooltips\":\"                \\n        <div style=padding=5px>Year:@x</div>\\n        <div style=padding=5px>Value:@y</div>        \\n        \"},\"id\":\"28643\",\"type\":\"HoverTool\"},{\"attributes\":{\"line_alpha\":0.1,\"line_color\":\"#1f77b4\",\"line_width\":3,\"x\":{\"field\":\"x\"},\"y\":{\"field\":\"y\"}},\"id\":\"28581\",\"type\":\"Line\"},{\"attributes\":{\"callback\":null,\"data\":{\"x\":[\"1962\",\"1963\",\"1964\",\"1965\",\"1966\",\"1967\",\"1968\",\"1969\",\"1970\",\"1971\",\"1972\",\"1973\",\"1974\",\"1975\",\"1976\",\"1977\",\"1978\",\"1979\",\"1980\",\"1981\",\"1982\",\"1983\",\"1984\",\"1985\",\"1986\",\"1987\",\"1988\",\"1989\",\"1990\",\"1991\",\"1992\",\"1993\",\"1994\",\"1995\",\"1996\",\"1997\",\"1998\",\"1999\",\"2000\",\"2001\",\"2002\",\"2003\",\"2004\",\"2005\",\"2006\",\"2007\",\"2008\",\"2009\",\"2010\",\"2011\",\"2012\",\"2013\",\"2014\",\"2015\",\"2016\",\"2017\"],\"y\":[36.42127360665778,35.91623000953568,35.41312563450036,34.91259283883799,34.41460814240305,33.906853776784544,33.41175944934178,32.93243762343052,32.47371657833314,32.08243047483682,31.72254341724644,31.376230937591238,31.02541989859808,30.694684316251664,30.439520115174478,30.192444164715646,29.942960728335073,29.698117424398575,29.45271291536762,29.159197365938237,28.884819993799557,28.62443020571846,28.373177767459325,28.121981510199006,27.8604458404359,27.578860132814693,27.299974013372434,27.04188263980006,26.764398045351797,26.48515980107442,26.22585182821077,25.962163393862863,25.69276563048598,25.42543337883581,25.181488242051362,24.9477281910235,24.714988268795185,24.48183071086911,24.25025925627994,23.905203675760802,23.504398066886452,23.123776637102807,22.758727449036055,22.408569017585673,22.085829368063017,21.7813270701607,21.485590735868247,21.19879146971327,20.918753085714805,20.70228925587614,20.51614583488052,20.332611207313864,20.1493430924518,19.961337971168508,19.770869743541244,19.576668574669895]},\"selected\":{\"id\":\"29432\",\"type\":\"Selection\"},\"selection_policy\":{\"id\":\"29433\",\"type\":\"UnionRenderers\"}},\"id\":\"28618\",\"type\":\"ColumnDataSource\"},{\"attributes\":{\"fill_alpha\":{\"value\":0.1},\"fill_color\":{\"value\":\"#1f77b4\"},\"line_alpha\":{\"value\":0.1},\"line_color\":{\"value\":\"#1f77b4\"},\"size\":{\"units\":\"screen\",\"value\":1},\"x\":{\"field\":\"x\"},\"y\":{\"field\":\"y\"}},\"id\":\"28594\",\"type\":\"Circle\"},{\"attributes\":{},\"id\":\"29434\",\"type\":\"Selection\"},{\"attributes\":{},\"id\":\"28566\",\"type\":\"PanTool\"},{\"attributes\":{\"line_color\":\"#2CC775\",\"line_width\":3,\"x\":{\"field\":\"x\"},\"y\":{\"field\":\"y\"}},\"id\":\"28619\",\"type\":\"Line\"},{\"attributes\":{\"data_source\":{\"id\":\"28592\",\"type\":\"ColumnDataSource\"},\"glyph\":{\"id\":\"28593\",\"type\":\"Circle\"},\"hover_glyph\":null,\"muted_glyph\":null,\"nonselection_glyph\":{\"id\":\"28594\",\"type\":\"Circle\"},\"selection_glyph\":null,\"view\":{\"id\":\"28596\",\"type\":\"CDSView\"}},\"id\":\"28595\",\"type\":\"GlyphRenderer\"},{\"attributes\":{},\"id\":\"29435\",\"type\":\"UnionRenderers\"},{\"attributes\":{},\"id\":\"28567\",\"type\":\"WheelZoomTool\"},{\"attributes\":{\"line_alpha\":0.1,\"line_color\":\"#1f77b4\",\"line_width\":3,\"x\":{\"field\":\"x\"},\"y\":{\"field\":\"y\"}},\"id\":\"28620\",\"type\":\"Line\"},{\"attributes\":{\"source\":{\"id\":\"28592\",\"type\":\"ColumnDataSource\"}},\"id\":\"28596\",\"type\":\"CDSView\"},{\"attributes\":{\"overlay\":{\"id\":\"28589\",\"type\":\"BoxAnnotation\"}},\"id\":\"28568\",\"type\":\"BoxZoomTool\"},{\"attributes\":{\"data_source\":{\"id\":\"28618\",\"type\":\"ColumnDataSource\"},\"glyph\":{\"id\":\"28619\",\"type\":\"Line\"},\"hover_glyph\":null,\"muted_glyph\":null,\"nonselection_glyph\":{\"id\":\"28620\",\"type\":\"Line\"},\"selection_glyph\":null,\"view\":{\"id\":\"28622\",\"type\":\"CDSView\"}},\"id\":\"28621\",\"type\":\"GlyphRenderer\"},{\"attributes\":{\"callback\":null,\"data\":{\"x\":[\"1962\",\"1963\",\"1964\",\"1965\",\"1966\",\"1967\",\"1968\",\"1969\",\"1970\",\"1971\",\"1972\",\"1973\",\"1974\",\"1975\",\"1976\",\"1977\",\"1978\",\"1979\",\"1980\",\"1981\",\"1982\",\"1983\",\"1984\",\"1985\",\"1986\",\"1987\",\"1988\",\"1989\",\"1990\",\"1991\",\"1992\",\"1993\",\"1994\",\"1995\",\"1996\",\"1997\",\"1998\",\"1999\",\"2000\",\"2001\",\"2002\",\"2003\",\"2004\",\"2005\",\"2006\",\"2007\",\"2008\",\"2009\",\"2010\",\"2011\",\"2012\",\"2013\",\"2014\",\"2015\",\"2016\",\"2017\"],\"y\":[76.36339285706455,75.90657569857643,75.44052033579077,75.26400028680143,75.08339297208057,74.88663372543422,74.69354781183536,74.50525820996135,74.31608190924274,74.0994295857478,73.84165122691049,73.53470588085722,73.18012411831,72.8174531601147,72.46881304831041,72.11284869316286,71.63344265720838,71.03048255353748,70.41825210024072,69.78091162633353,69.1609761614545,68.5951423309108,68.01991309071222,67.44534086814598,66.87635574289399,66.31309198875933,65.7505405937328,65.1877917641661,64.62267427579381,64.05034616689697,63.51617996958811,62.94363443737534,62.370097261167366,61.7726251818695,61.20134552410558,60.62761861786045,60.04987015034463,59.47145651552464,58.8832603140381,58.236628025371395,57.53677645413849,56.83692426838377,56.13161431088994,55.42218461512898,54.7231232706239,54.02923081587353,53.3330568384248,52.63943737031043,51.94737597716072,51.283253521656704,50.62996024858259,49.98012308165774,49.331297704584024,48.68603002244665,48.042910549351525,47.4043586144919]},\"selected\":{\"id\":\"28633\",\"type\":\"Selection\"},\"selection_policy\":{\"id\":\"28634\",\"type\":\"UnionRenderers\"}},\"id\":\"28597\",\"type\":\"ColumnDataSource\"},{\"attributes\":{},\"id\":\"28569\",\"type\":\"SaveTool\"},{\"attributes\":{\"source\":{\"id\":\"28618\",\"type\":\"ColumnDataSource\"}},\"id\":\"28622\",\"type\":\"CDSView\"},{\"attributes\":{\"line_color\":\"#5430F1\",\"line_width\":3,\"x\":{\"field\":\"x\"},\"y\":{\"field\":\"y\"}},\"id\":\"28598\",\"type\":\"Line\"},{\"attributes\":{},\"id\":\"28570\",\"type\":\"ResetTool\"},{\"attributes\":{\"text\":\"Rural population (% of total population) weighted against Population, total\"},\"id\":\"28546\",\"type\":\"Title\"},{\"attributes\":{},\"id\":\"28633\",\"type\":\"Selection\"},{\"attributes\":{\"line_alpha\":0.1,\"line_color\":\"#1f77b4\",\"line_width\":3,\"x\":{\"field\":\"x\"},\"y\":{\"field\":\"y\"}},\"id\":\"28599\",\"type\":\"Line\"},{\"attributes\":{},\"id\":\"28571\",\"type\":\"HelpTool\"},{\"attributes\":{\"callback\":null},\"id\":\"28548\",\"type\":\"DataRange1d\"},{\"attributes\":{},\"id\":\"28634\",\"type\":\"UnionRenderers\"},{\"attributes\":{\"data_source\":{\"id\":\"28597\",\"type\":\"ColumnDataSource\"},\"glyph\":{\"id\":\"28598\",\"type\":\"Line\"},\"hover_glyph\":null,\"muted_glyph\":null,\"nonselection_glyph\":{\"id\":\"28599\",\"type\":\"Line\"},\"selection_glyph\":null,\"view\":{\"id\":\"28601\",\"type\":\"CDSView\"}},\"id\":\"28600\",\"type\":\"GlyphRenderer\"},{\"attributes\":{\"active_drag\":\"auto\",\"active_inspect\":\"auto\",\"active_multi\":null,\"active_scroll\":\"auto\",\"active_tap\":\"auto\",\"tools\":[{\"id\":\"28566\",\"type\":\"PanTool\"},{\"id\":\"28567\",\"type\":\"WheelZoomTool\"},{\"id\":\"28568\",\"type\":\"BoxZoomTool\"},{\"id\":\"28569\",\"type\":\"SaveTool\"},{\"id\":\"28570\",\"type\":\"ResetTool\"},{\"id\":\"28571\",\"type\":\"HelpTool\"},{\"id\":\"28643\",\"type\":\"HoverTool\"}]},\"id\":\"28572\",\"type\":\"Toolbar\"},{\"attributes\":{\"callback\":null},\"id\":\"28550\",\"type\":\"DataRange1d\"},{\"attributes\":{},\"id\":\"28635\",\"type\":\"Selection\"},{\"attributes\":{\"source\":{\"id\":\"28597\",\"type\":\"ColumnDataSource\"}},\"id\":\"28601\",\"type\":\"CDSView\"},{\"attributes\":{},\"id\":\"28552\",\"type\":\"LinearScale\"}],\"root_ids\":[\"28545\"]},\"title\":\"Bokeh Application\",\"version\":\"1.3.4\"}};\n",
       "  var render_items = [{\"docid\":\"701c12f8-5c00-413f-80fe-a232941ffe21\",\"roots\":{\"28545\":\"f334f51c-747d-4688-a843-1915d70795af\"}}];\n",
       "  root.Bokeh.embed.embed_items_notebook(docs_json, render_items);\n",
       "\n",
       "  }\n",
       "  if (root.Bokeh !== undefined) {\n",
       "    embed_document(root);\n",
       "  } else {\n",
       "    var attempts = 0;\n",
       "    var timer = setInterval(function(root) {\n",
       "      if (root.Bokeh !== undefined) {\n",
       "        embed_document(root);\n",
       "        clearInterval(timer);\n",
       "      }\n",
       "      attempts++;\n",
       "      if (attempts > 100) {\n",
       "        console.log(\"Bokeh: ERROR: Unable to run BokehJS code because BokehJS library is missing\");\n",
       "        clearInterval(timer);\n",
       "      }\n",
       "    }, 10, root)\n",
       "  }\n",
       "})(window);"
      ],
      "application/vnd.bokehjs_exec.v0+json": ""
     },
     "metadata": {
      "application/vnd.bokehjs_exec.v0+json": {
       "id": "28545"
      }
     },
     "output_type": "display_data"
    }
   ],
   "source": [
    "years = list(map(str, list(range(1962,2018))))\n",
    "# Rural population as a percentage of total population\n",
    "result = show_weighted_average(years, 'SP.RUR.TOTL.ZS', 'SP.POP.TOTL', \n",
    "                               ['LDCs', 'Developing excluding LDCs', 'OECD'], \n",
    "                                height=400, width=1000, line_width=3)"
   ]
  },
  {
   "cell_type": "code",
   "execution_count": 13,
   "metadata": {},
   "outputs": [
    {
     "data": {
      "text/html": [
       "\n",
       "\n",
       "\n",
       "\n",
       "\n",
       "\n",
       "  <div class=\"bk-root\" id=\"8b1f0bb0-32c7-40dd-9173-215ee266f49a\" data-root-id=\"2646\"></div>\n"
      ]
     },
     "metadata": {},
     "output_type": "display_data"
    },
    {
     "data": {
      "application/javascript": [
       "(function(root) {\n",
       "  function embed_document(root) {\n",
       "    \n",
       "  var docs_json = {\"fcb0b58b-79a0-4aaa-95cf-ca3f45b4da54\":{\"roots\":{\"references\":[{\"attributes\":{\"below\":[{\"id\":\"2657\",\"type\":\"LinearAxis\"}],\"center\":[{\"id\":\"2661\",\"type\":\"Grid\"},{\"id\":\"2666\",\"type\":\"Grid\"},{\"id\":\"2691\",\"type\":\"Legend\"}],\"left\":[{\"id\":\"2662\",\"type\":\"LinearAxis\"}],\"plot_height\":400,\"plot_width\":1000,\"renderers\":[{\"id\":\"2683\",\"type\":\"GlyphRenderer\"},{\"id\":\"2696\",\"type\":\"GlyphRenderer\"},{\"id\":\"2701\",\"type\":\"GlyphRenderer\"},{\"id\":\"2717\",\"type\":\"GlyphRenderer\"},{\"id\":\"2722\",\"type\":\"GlyphRenderer\"},{\"id\":\"2742\",\"type\":\"GlyphRenderer\"}],\"title\":{\"id\":\"2647\",\"type\":\"Title\"},\"toolbar\":{\"id\":\"2673\",\"type\":\"Toolbar\"},\"x_range\":{\"id\":\"2649\",\"type\":\"DataRange1d\"},\"x_scale\":{\"id\":\"2653\",\"type\":\"LinearScale\"},\"y_range\":{\"id\":\"2651\",\"type\":\"DataRange1d\"},\"y_scale\":{\"id\":\"2655\",\"type\":\"LinearScale\"}},\"id\":\"2646\",\"subtype\":\"Figure\",\"type\":\"Plot\"},{\"attributes\":{\"axis_label\":\"Years\",\"formatter\":{\"id\":\"2687\",\"type\":\"BasicTickFormatter\"},\"ticker\":{\"id\":\"2658\",\"type\":\"BasicTicker\"}},\"id\":\"2657\",\"type\":\"LinearAxis\"},{\"attributes\":{\"callback\":null,\"data\":{\"x\":[\"2010\",\"2011\",\"2012\",\"2013\",\"2014\",\"2015\",\"2016\",\"2017\"],\"y\":[13.978854328501042,14.079101439324456,13.813447842599281,13.871578614770941,13.758696729529278,13.566439505653028,13.544352270945682,13.21254599532053]},\"selected\":{\"id\":\"2734\",\"type\":\"Selection\"},\"selection_policy\":{\"id\":\"2735\",\"type\":\"UnionRenderers\"}},\"id\":\"2698\",\"type\":\"ColumnDataSource\"},{\"attributes\":{\"fill_color\":{\"value\":\"#FA1857\"},\"line_color\":{\"value\":\"#FA1857\"},\"size\":{\"units\":\"screen\",\"value\":1},\"x\":{\"field\":\"x\"},\"y\":{\"field\":\"y\"}},\"id\":\"2694\",\"type\":\"Circle\"},{\"attributes\":{},\"id\":\"2709\",\"type\":\"Selection\"},{\"attributes\":{},\"id\":\"2670\",\"type\":\"SaveTool\"},{\"attributes\":{},\"id\":\"2653\",\"type\":\"LinearScale\"},{\"attributes\":{},\"id\":\"2672\",\"type\":\"HelpTool\"},{\"attributes\":{\"fill_alpha\":{\"value\":0.1},\"fill_color\":{\"value\":\"#1f77b4\"},\"line_alpha\":{\"value\":0.1},\"line_color\":{\"value\":\"#1f77b4\"},\"size\":{\"units\":\"screen\",\"value\":1},\"x\":{\"field\":\"x\"},\"y\":{\"field\":\"y\"}},\"id\":\"2695\",\"type\":\"Circle\"},{\"attributes\":{\"line_color\":\"#2CC775\",\"line_width\":4,\"x\":{\"field\":\"x\"},\"y\":{\"field\":\"y\"}},\"id\":\"2720\",\"type\":\"Line\"},{\"attributes\":{\"data_source\":{\"id\":\"2719\",\"type\":\"ColumnDataSource\"},\"glyph\":{\"id\":\"2720\",\"type\":\"Line\"},\"hover_glyph\":null,\"muted_glyph\":null,\"nonselection_glyph\":{\"id\":\"2721\",\"type\":\"Line\"},\"selection_glyph\":null,\"view\":{\"id\":\"2723\",\"type\":\"CDSView\"}},\"id\":\"2722\",\"type\":\"GlyphRenderer\"},{\"attributes\":{},\"id\":\"2671\",\"type\":\"ResetTool\"},{\"attributes\":{\"source\":{\"id\":\"2693\",\"type\":\"ColumnDataSource\"}},\"id\":\"2697\",\"type\":\"CDSView\"},{\"attributes\":{},\"id\":\"2658\",\"type\":\"BasicTicker\"},{\"attributes\":{\"line_color\":\"#5430F1\",\"line_width\":4,\"x\":{\"field\":\"x\"},\"y\":{\"field\":\"y\"}},\"id\":\"2699\",\"type\":\"Line\"},{\"attributes\":{\"items\":[{\"id\":\"2692\",\"type\":\"LegendItem\"},{\"id\":\"2713\",\"type\":\"LegendItem\"},{\"id\":\"2738\",\"type\":\"LegendItem\"}],\"location\":\"bottom_left\"},\"id\":\"2691\",\"type\":\"Legend\"},{\"attributes\":{\"label\":{\"value\":\"Developing excluding LDCs\"},\"renderers\":[{\"id\":\"2701\",\"type\":\"GlyphRenderer\"}]},\"id\":\"2713\",\"type\":\"LegendItem\"},{\"attributes\":{\"source\":{\"id\":\"2719\",\"type\":\"ColumnDataSource\"}},\"id\":\"2723\",\"type\":\"CDSView\"},{\"attributes\":{\"overlay\":{\"id\":\"2690\",\"type\":\"BoxAnnotation\"}},\"id\":\"2669\",\"type\":\"BoxZoomTool\"},{\"attributes\":{\"label\":{\"value\":\"LDCs\"},\"renderers\":[{\"id\":\"2683\",\"type\":\"GlyphRenderer\"}]},\"id\":\"2692\",\"type\":\"LegendItem\"},{\"attributes\":{\"line_alpha\":0.1,\"line_color\":\"#1f77b4\",\"line_width\":4,\"x\":{\"field\":\"x\"},\"y\":{\"field\":\"y\"}},\"id\":\"2721\",\"type\":\"Line\"},{\"attributes\":{},\"id\":\"2710\",\"type\":\"UnionRenderers\"},{\"attributes\":{},\"id\":\"2667\",\"type\":\"PanTool\"},{\"attributes\":{},\"id\":\"2711\",\"type\":\"Selection\"},{\"attributes\":{\"callback\":null,\"data\":{\"x\":[\"2010\",\"2011\",\"2012\",\"2013\",\"2014\",\"2015\",\"2016\",\"2017\"],\"y\":[26.970813517721258,26.338322578572715,27.107809058801486,26.09339957108172,25.32319516695439,24.70843354448144,24.255117716459917,24.012036750774875]},\"selected\":{\"id\":\"2711\",\"type\":\"Selection\"},\"selection_policy\":{\"id\":\"2712\",\"type\":\"UnionRenderers\"}},\"id\":\"2693\",\"type\":\"ColumnDataSource\"},{\"attributes\":{\"line_alpha\":0.1,\"line_color\":\"#1f77b4\",\"line_width\":4,\"x\":{\"field\":\"x\"},\"y\":{\"field\":\"y\"}},\"id\":\"2700\",\"type\":\"Line\"},{\"attributes\":{},\"id\":\"2687\",\"type\":\"BasicTickFormatter\"},{\"attributes\":{},\"id\":\"2668\",\"type\":\"WheelZoomTool\"},{\"attributes\":{\"callback\":null,\"data\":{\"x\":[\"2010\",\"2011\",\"2012\",\"2013\",\"2014\",\"2015\",\"2016\",\"2017\"],\"y\":[13.978854328501042,14.079101439324456,13.813447842599281,13.871578614770941,13.758696729529278,13.566439505653028,13.544352270945682,13.21254599532053]},\"selected\":{\"id\":\"2736\",\"type\":\"Selection\"},\"selection_policy\":{\"id\":\"2737\",\"type\":\"UnionRenderers\"}},\"id\":\"2714\",\"type\":\"ColumnDataSource\"},{\"attributes\":{},\"id\":\"2689\",\"type\":\"BasicTickFormatter\"},{\"attributes\":{\"source\":{\"id\":\"2698\",\"type\":\"ColumnDataSource\"}},\"id\":\"2702\",\"type\":\"CDSView\"},{\"attributes\":{\"callback\":null,\"tooltips\":\"                \\n        <div style=padding=5px>Year:@x</div>\\n        <div style=padding=5px>Value:@y</div>        \\n        \"},\"id\":\"2744\",\"type\":\"HoverTool\"},{\"attributes\":{},\"id\":\"2734\",\"type\":\"Selection\"},{\"attributes\":{},\"id\":\"2712\",\"type\":\"UnionRenderers\"},{\"attributes\":{\"callback\":null,\"data\":{\"x\":[\"2010\",\"2011\",\"2012\",\"2013\",\"2014\",\"2015\",\"2016\",\"2017\"],\"y\":[26.970813517721258,26.338322578572715,27.107809058801486,26.09339957108172,25.32319516695439,24.70843354448144,24.255117716459917,24.012036750774875]},\"selected\":{\"id\":\"2709\",\"type\":\"Selection\"},\"selection_policy\":{\"id\":\"2710\",\"type\":\"UnionRenderers\"}},\"id\":\"2680\",\"type\":\"ColumnDataSource\"},{\"attributes\":{\"bottom_units\":\"screen\",\"fill_alpha\":{\"value\":0.5},\"fill_color\":{\"value\":\"lightgrey\"},\"left_units\":\"screen\",\"level\":\"overlay\",\"line_alpha\":{\"value\":1.0},\"line_color\":{\"value\":\"black\"},\"line_dash\":[4,4],\"line_width\":{\"value\":2},\"render_mode\":\"css\",\"right_units\":\"screen\",\"top_units\":\"screen\"},\"id\":\"2690\",\"type\":\"BoxAnnotation\"},{\"attributes\":{},\"id\":\"2735\",\"type\":\"UnionRenderers\"},{\"attributes\":{\"data_source\":{\"id\":\"2698\",\"type\":\"ColumnDataSource\"},\"glyph\":{\"id\":\"2699\",\"type\":\"Line\"},\"hover_glyph\":null,\"muted_glyph\":null,\"nonselection_glyph\":{\"id\":\"2700\",\"type\":\"Line\"},\"selection_glyph\":null,\"view\":{\"id\":\"2702\",\"type\":\"CDSView\"}},\"id\":\"2701\",\"type\":\"GlyphRenderer\"},{\"attributes\":{},\"id\":\"2736\",\"type\":\"Selection\"},{\"attributes\":{\"fill_alpha\":{\"value\":0.1},\"fill_color\":{\"value\":\"#1f77b4\"},\"line_alpha\":{\"value\":0.1},\"line_color\":{\"value\":\"#1f77b4\"},\"size\":{\"units\":\"screen\",\"value\":1},\"x\":{\"field\":\"x\"},\"y\":{\"field\":\"y\"}},\"id\":\"2716\",\"type\":\"Circle\"},{\"attributes\":{\"active_drag\":\"auto\",\"active_inspect\":\"auto\",\"active_multi\":null,\"active_scroll\":\"auto\",\"active_tap\":\"auto\",\"tools\":[{\"id\":\"2667\",\"type\":\"PanTool\"},{\"id\":\"2668\",\"type\":\"WheelZoomTool\"},{\"id\":\"2669\",\"type\":\"BoxZoomTool\"},{\"id\":\"2670\",\"type\":\"SaveTool\"},{\"id\":\"2671\",\"type\":\"ResetTool\"},{\"id\":\"2672\",\"type\":\"HelpTool\"},{\"id\":\"2744\",\"type\":\"HoverTool\"}]},\"id\":\"2673\",\"type\":\"Toolbar\"},{\"attributes\":{},\"id\":\"2737\",\"type\":\"UnionRenderers\"},{\"attributes\":{\"line_color\":\"#FA1857\",\"line_width\":4,\"x\":{\"field\":\"x\"},\"y\":{\"field\":\"y\"}},\"id\":\"2681\",\"type\":\"Line\"},{\"attributes\":{\"text\":\"Agriculture, forestry, and fishing, value added (% of GDP) weighted against Rural population\"},\"id\":\"2647\",\"type\":\"Title\"},{\"attributes\":{\"callback\":null,\"data\":{\"x\":[\"2010\",\"2011\",\"2012\",\"2013\",\"2014\",\"2015\",\"2016\",\"2017\"],\"y\":[2.289573574641918,2.315743844718029,2.264232824674261,2.2602240779390366,2.1847885588963964,2.1491694265941352,2.088136748731761,2.0685491468463306]},\"selected\":{\"id\":\"2867\",\"type\":\"Selection\"},\"selection_policy\":{\"id\":\"2868\",\"type\":\"UnionRenderers\"}},\"id\":\"2739\",\"type\":\"ColumnDataSource\"},{\"attributes\":{\"label\":{\"value\":\"OECD\"},\"renderers\":[{\"id\":\"2722\",\"type\":\"GlyphRenderer\"}]},\"id\":\"2738\",\"type\":\"LegendItem\"},{\"attributes\":{\"source\":{\"id\":\"2680\",\"type\":\"ColumnDataSource\"}},\"id\":\"2684\",\"type\":\"CDSView\"},{\"attributes\":{\"data_source\":{\"id\":\"2693\",\"type\":\"ColumnDataSource\"},\"glyph\":{\"id\":\"2694\",\"type\":\"Circle\"},\"hover_glyph\":null,\"muted_glyph\":null,\"nonselection_glyph\":{\"id\":\"2695\",\"type\":\"Circle\"},\"selection_glyph\":null,\"view\":{\"id\":\"2697\",\"type\":\"CDSView\"}},\"id\":\"2696\",\"type\":\"GlyphRenderer\"},{\"attributes\":{},\"id\":\"2868\",\"type\":\"UnionRenderers\"},{\"attributes\":{},\"id\":\"2866\",\"type\":\"UnionRenderers\"},{\"attributes\":{\"data_source\":{\"id\":\"2680\",\"type\":\"ColumnDataSource\"},\"glyph\":{\"id\":\"2681\",\"type\":\"Line\"},\"hover_glyph\":null,\"muted_glyph\":null,\"nonselection_glyph\":{\"id\":\"2682\",\"type\":\"Line\"},\"selection_glyph\":null,\"view\":{\"id\":\"2684\",\"type\":\"CDSView\"}},\"id\":\"2683\",\"type\":\"GlyphRenderer\"},{\"attributes\":{},\"id\":\"2663\",\"type\":\"BasicTicker\"},{\"attributes\":{\"data_source\":{\"id\":\"2714\",\"type\":\"ColumnDataSource\"},\"glyph\":{\"id\":\"2715\",\"type\":\"Circle\"},\"hover_glyph\":null,\"muted_glyph\":null,\"nonselection_glyph\":{\"id\":\"2716\",\"type\":\"Circle\"},\"selection_glyph\":null,\"view\":{\"id\":\"2718\",\"type\":\"CDSView\"}},\"id\":\"2717\",\"type\":\"GlyphRenderer\"},{\"attributes\":{},\"id\":\"2867\",\"type\":\"Selection\"},{\"attributes\":{\"fill_color\":{\"value\":\"#2CC775\"},\"line_color\":{\"value\":\"#2CC775\"},\"size\":{\"units\":\"screen\",\"value\":1},\"x\":{\"field\":\"x\"},\"y\":{\"field\":\"y\"}},\"id\":\"2740\",\"type\":\"Circle\"},{\"attributes\":{\"dimension\":1,\"grid_line_alpha\":0.5,\"ticker\":{\"id\":\"2663\",\"type\":\"BasicTicker\"}},\"id\":\"2666\",\"type\":\"Grid\"},{\"attributes\":{\"callback\":null},\"id\":\"2651\",\"type\":\"DataRange1d\"},{\"attributes\":{\"line_alpha\":0.1,\"line_color\":\"#1f77b4\",\"line_width\":4,\"x\":{\"field\":\"x\"},\"y\":{\"field\":\"y\"}},\"id\":\"2682\",\"type\":\"Line\"},{\"attributes\":{\"fill_color\":{\"value\":\"#5430F1\"},\"line_color\":{\"value\":\"#5430F1\"},\"size\":{\"units\":\"screen\",\"value\":1},\"x\":{\"field\":\"x\"},\"y\":{\"field\":\"y\"}},\"id\":\"2715\",\"type\":\"Circle\"},{\"attributes\":{\"fill_alpha\":{\"value\":0.1},\"fill_color\":{\"value\":\"#1f77b4\"},\"line_alpha\":{\"value\":0.1},\"line_color\":{\"value\":\"#1f77b4\"},\"size\":{\"units\":\"screen\",\"value\":1},\"x\":{\"field\":\"x\"},\"y\":{\"field\":\"y\"}},\"id\":\"2741\",\"type\":\"Circle\"},{\"attributes\":{},\"id\":\"2865\",\"type\":\"Selection\"},{\"attributes\":{\"data_source\":{\"id\":\"2739\",\"type\":\"ColumnDataSource\"},\"glyph\":{\"id\":\"2740\",\"type\":\"Circle\"},\"hover_glyph\":null,\"muted_glyph\":null,\"nonselection_glyph\":{\"id\":\"2741\",\"type\":\"Circle\"},\"selection_glyph\":null,\"view\":{\"id\":\"2743\",\"type\":\"CDSView\"}},\"id\":\"2742\",\"type\":\"GlyphRenderer\"},{\"attributes\":{\"callback\":null},\"id\":\"2649\",\"type\":\"DataRange1d\"},{\"attributes\":{\"source\":{\"id\":\"2714\",\"type\":\"ColumnDataSource\"}},\"id\":\"2718\",\"type\":\"CDSView\"},{\"attributes\":{\"axis_label\":\"NV.AGR.TOTL.ZS\",\"formatter\":{\"id\":\"2689\",\"type\":\"BasicTickFormatter\"},\"ticker\":{\"id\":\"2663\",\"type\":\"BasicTicker\"}},\"id\":\"2662\",\"type\":\"LinearAxis\"},{\"attributes\":{\"source\":{\"id\":\"2739\",\"type\":\"ColumnDataSource\"}},\"id\":\"2743\",\"type\":\"CDSView\"},{\"attributes\":{},\"id\":\"2655\",\"type\":\"LinearScale\"},{\"attributes\":{\"grid_line_color\":null,\"ticker\":{\"id\":\"2658\",\"type\":\"BasicTicker\"}},\"id\":\"2661\",\"type\":\"Grid\"},{\"attributes\":{\"callback\":null,\"data\":{\"x\":[\"2010\",\"2011\",\"2012\",\"2013\",\"2014\",\"2015\",\"2016\",\"2017\"],\"y\":[2.289573574641918,2.315743844718029,2.264232824674261,2.2602240779390366,2.1847885588963964,2.1491694265941352,2.088136748731761,2.0685491468463306]},\"selected\":{\"id\":\"2865\",\"type\":\"Selection\"},\"selection_policy\":{\"id\":\"2866\",\"type\":\"UnionRenderers\"}},\"id\":\"2719\",\"type\":\"ColumnDataSource\"}],\"root_ids\":[\"2646\"]},\"title\":\"Bokeh Application\",\"version\":\"1.3.4\"}};\n",
       "  var render_items = [{\"docid\":\"fcb0b58b-79a0-4aaa-95cf-ca3f45b4da54\",\"roots\":{\"2646\":\"8b1f0bb0-32c7-40dd-9173-215ee266f49a\"}}];\n",
       "  root.Bokeh.embed.embed_items_notebook(docs_json, render_items);\n",
       "\n",
       "  }\n",
       "  if (root.Bokeh !== undefined) {\n",
       "    embed_document(root);\n",
       "  } else {\n",
       "    var attempts = 0;\n",
       "    var timer = setInterval(function(root) {\n",
       "      if (root.Bokeh !== undefined) {\n",
       "        embed_document(root);\n",
       "        clearInterval(timer);\n",
       "      }\n",
       "      attempts++;\n",
       "      if (attempts > 100) {\n",
       "        console.log(\"Bokeh: ERROR: Unable to run BokehJS code because BokehJS library is missing\");\n",
       "        clearInterval(timer);\n",
       "      }\n",
       "    }, 10, root)\n",
       "  }\n",
       "})(window);"
      ],
      "application/vnd.bokehjs_exec.v0+json": ""
     },
     "metadata": {
      "application/vnd.bokehjs_exec.v0+json": {
       "id": "2646"
      }
     },
     "output_type": "display_data"
    }
   ],
   "source": [
    "years = list(map(str, list(range(2010,2018))))\n",
    "result = show_weighted_average(years, 'NV.AGR.TOTL.ZS', 'SP.RUR.TOTL', \n",
    "                               ['LDCs', 'Developing excluding LDCs', 'OECD'], \n",
    "                                height=400, width=1000, line_width=4)"
   ]
  },
  {
   "cell_type": "code",
   "execution_count": 14,
   "metadata": {
    "ExecuteTime": {
     "end_time": "2019-10-25T14:24:46.376641Z",
     "start_time": "2019-10-25T14:24:45.418470Z"
    },
    "slideshow": {
     "slide_type": "slide"
    }
   },
   "outputs": [
    {
     "data": {
      "text/html": [
       "\n",
       "\n",
       "\n",
       "\n",
       "\n",
       "\n",
       "  <div class=\"bk-root\" id=\"6c5481f7-cf85-40d4-ae40-081c227728af\" data-root-id=\"2977\"></div>\n"
      ]
     },
     "metadata": {},
     "output_type": "display_data"
    },
    {
     "data": {
      "application/javascript": [
       "(function(root) {\n",
       "  function embed_document(root) {\n",
       "    \n",
       "  var docs_json = {\"7e7cef1f-940c-4f71-89e6-f793be6265bf\":{\"roots\":{\"references\":[{\"attributes\":{\"below\":[{\"id\":\"2988\",\"type\":\"LinearAxis\"}],\"center\":[{\"id\":\"2992\",\"type\":\"Grid\"},{\"id\":\"2997\",\"type\":\"Grid\"},{\"id\":\"3022\",\"type\":\"Legend\"}],\"left\":[{\"id\":\"2993\",\"type\":\"LinearAxis\"}],\"plot_height\":400,\"plot_width\":1000,\"renderers\":[{\"id\":\"3014\",\"type\":\"GlyphRenderer\"},{\"id\":\"3027\",\"type\":\"GlyphRenderer\"}],\"title\":{\"id\":\"2978\",\"type\":\"Title\"},\"toolbar\":{\"id\":\"3004\",\"type\":\"Toolbar\"},\"x_range\":{\"id\":\"2980\",\"type\":\"DataRange1d\"},\"x_scale\":{\"id\":\"2984\",\"type\":\"LinearScale\"},\"y_range\":{\"id\":\"2982\",\"type\":\"DataRange1d\"},\"y_scale\":{\"id\":\"2986\",\"type\":\"LinearScale\"}},\"id\":\"2977\",\"subtype\":\"Figure\",\"type\":\"Plot\"},{\"attributes\":{\"data_source\":{\"id\":\"3024\",\"type\":\"ColumnDataSource\"},\"glyph\":{\"id\":\"3025\",\"type\":\"Circle\"},\"hover_glyph\":null,\"muted_glyph\":null,\"nonselection_glyph\":{\"id\":\"3026\",\"type\":\"Circle\"},\"selection_glyph\":null,\"view\":{\"id\":\"3028\",\"type\":\"CDSView\"}},\"id\":\"3027\",\"type\":\"GlyphRenderer\"},{\"attributes\":{\"axis_label\":\"Years\",\"formatter\":{\"id\":\"3018\",\"type\":\"BasicTickFormatter\"},\"ticker\":{\"id\":\"2989\",\"type\":\"BasicTicker\"}},\"id\":\"2988\",\"type\":\"LinearAxis\"},{\"attributes\":{\"bottom_units\":\"screen\",\"fill_alpha\":{\"value\":0.5},\"fill_color\":{\"value\":\"lightgrey\"},\"left_units\":\"screen\",\"level\":\"overlay\",\"line_alpha\":{\"value\":1.0},\"line_color\":{\"value\":\"black\"},\"line_dash\":[4,4],\"line_width\":{\"value\":2},\"render_mode\":\"css\",\"right_units\":\"screen\",\"top_units\":\"screen\"},\"id\":\"3021\",\"type\":\"BoxAnnotation\"},{\"attributes\":{\"overlay\":{\"id\":\"3021\",\"type\":\"BoxAnnotation\"}},\"id\":\"3000\",\"type\":\"BoxZoomTool\"},{\"attributes\":{\"fill_color\":{\"value\":\"#FA1857\"},\"line_color\":{\"value\":\"#FA1857\"},\"size\":{\"units\":\"screen\",\"value\":3},\"x\":{\"field\":\"x\"},\"y\":{\"field\":\"y\"}},\"id\":\"3025\",\"type\":\"Circle\"},{\"attributes\":{},\"id\":\"2984\",\"type\":\"LinearScale\"},{\"attributes\":{},\"id\":\"2999\",\"type\":\"WheelZoomTool\"},{\"attributes\":{},\"id\":\"3160\",\"type\":\"Selection\"},{\"attributes\":{},\"id\":\"3002\",\"type\":\"ResetTool\"},{\"attributes\":{\"fill_alpha\":{\"value\":0.1},\"fill_color\":{\"value\":\"#1f77b4\"},\"line_alpha\":{\"value\":0.1},\"line_color\":{\"value\":\"#1f77b4\"},\"size\":{\"units\":\"screen\",\"value\":3},\"x\":{\"field\":\"x\"},\"y\":{\"field\":\"y\"}},\"id\":\"3026\",\"type\":\"Circle\"},{\"attributes\":{\"active_drag\":\"auto\",\"active_inspect\":\"auto\",\"active_multi\":null,\"active_scroll\":\"auto\",\"active_tap\":\"auto\",\"tools\":[{\"id\":\"2998\",\"type\":\"PanTool\"},{\"id\":\"2999\",\"type\":\"WheelZoomTool\"},{\"id\":\"3000\",\"type\":\"BoxZoomTool\"},{\"id\":\"3001\",\"type\":\"SaveTool\"},{\"id\":\"3002\",\"type\":\"ResetTool\"},{\"id\":\"3003\",\"type\":\"HelpTool\"},{\"id\":\"3029\",\"type\":\"HoverTool\"}]},\"id\":\"3004\",\"type\":\"Toolbar\"},{\"attributes\":{},\"id\":\"2986\",\"type\":\"LinearScale\"},{\"attributes\":{\"line_alpha\":0.1,\"line_color\":\"#1f77b4\",\"line_width\":4,\"x\":{\"field\":\"x\"},\"y\":{\"field\":\"y\"}},\"id\":\"3013\",\"type\":\"Line\"},{\"attributes\":{\"source\":{\"id\":\"3024\",\"type\":\"ColumnDataSource\"}},\"id\":\"3028\",\"type\":\"CDSView\"},{\"attributes\":{\"source\":{\"id\":\"3011\",\"type\":\"ColumnDataSource\"}},\"id\":\"3015\",\"type\":\"CDSView\"},{\"attributes\":{},\"id\":\"3018\",\"type\":\"BasicTickFormatter\"},{\"attributes\":{\"data_source\":{\"id\":\"3011\",\"type\":\"ColumnDataSource\"},\"glyph\":{\"id\":\"3012\",\"type\":\"Line\"},\"hover_glyph\":null,\"muted_glyph\":null,\"nonselection_glyph\":{\"id\":\"3013\",\"type\":\"Line\"},\"selection_glyph\":null,\"view\":{\"id\":\"3015\",\"type\":\"CDSView\"}},\"id\":\"3014\",\"type\":\"GlyphRenderer\"},{\"attributes\":{\"callback\":null},\"id\":\"2982\",\"type\":\"DataRange1d\"},{\"attributes\":{\"callback\":null,\"data\":{\"x\":[\"2010\",\"2011\",\"2012\",\"2013\",\"2014\",\"2015\",\"2016\",\"2017\"],\"y\":[590103650.0,599729467.0,607552372.0,617585217.0,627707285.0,637891695.0,648126174.0,658398338.0]},\"selected\":{\"id\":\"3162\",\"type\":\"Selection\"},\"selection_policy\":{\"id\":\"3163\",\"type\":\"UnionRenderers\"}},\"id\":\"3024\",\"type\":\"ColumnDataSource\"},{\"attributes\":{\"dimension\":1,\"grid_line_alpha\":0.5,\"ticker\":{\"id\":\"2994\",\"type\":\"BasicTicker\"}},\"id\":\"2997\",\"type\":\"Grid\"},{\"attributes\":{\"axis_label\":\"SP.RUR.TOTL\",\"formatter\":{\"id\":\"3020\",\"type\":\"BasicTickFormatter\"},\"ticker\":{\"id\":\"2994\",\"type\":\"BasicTicker\"}},\"id\":\"2993\",\"type\":\"LinearAxis\"},{\"attributes\":{},\"id\":\"2989\",\"type\":\"BasicTicker\"},{\"attributes\":{\"label\":{\"value\":\"LDCs\"},\"renderers\":[{\"id\":\"3014\",\"type\":\"GlyphRenderer\"}]},\"id\":\"3023\",\"type\":\"LegendItem\"},{\"attributes\":{\"text\":\"Rural population\"},\"id\":\"2978\",\"type\":\"Title\"},{\"attributes\":{\"callback\":null,\"data\":{\"x\":[\"2010\",\"2011\",\"2012\",\"2013\",\"2014\",\"2015\",\"2016\",\"2017\"],\"y\":[590103650.0,599729467.0,607552372.0,617585217.0,627707285.0,637891695.0,648126174.0,658398338.0]},\"selected\":{\"id\":\"3160\",\"type\":\"Selection\"},\"selection_policy\":{\"id\":\"3161\",\"type\":\"UnionRenderers\"}},\"id\":\"3011\",\"type\":\"ColumnDataSource\"},{\"attributes\":{},\"id\":\"2998\",\"type\":\"PanTool\"},{\"attributes\":{},\"id\":\"3162\",\"type\":\"Selection\"},{\"attributes\":{},\"id\":\"3003\",\"type\":\"HelpTool\"},{\"attributes\":{},\"id\":\"3161\",\"type\":\"UnionRenderers\"},{\"attributes\":{},\"id\":\"2994\",\"type\":\"BasicTicker\"},{\"attributes\":{\"callback\":null,\"tooltips\":\"                \\n        <div style=padding=5px>Year:@x</div>\\n        <div style=padding=5px>Value:@y</div>        \\n        \"},\"id\":\"3029\",\"type\":\"HoverTool\"},{\"attributes\":{},\"id\":\"3001\",\"type\":\"SaveTool\"},{\"attributes\":{\"grid_line_color\":null,\"ticker\":{\"id\":\"2989\",\"type\":\"BasicTicker\"}},\"id\":\"2992\",\"type\":\"Grid\"},{\"attributes\":{},\"id\":\"3163\",\"type\":\"UnionRenderers\"},{\"attributes\":{\"callback\":null},\"id\":\"2980\",\"type\":\"DataRange1d\"},{\"attributes\":{\"line_color\":\"#FA1857\",\"line_width\":4,\"x\":{\"field\":\"x\"},\"y\":{\"field\":\"y\"}},\"id\":\"3012\",\"type\":\"Line\"},{\"attributes\":{},\"id\":\"3020\",\"type\":\"BasicTickFormatter\"},{\"attributes\":{\"items\":[{\"id\":\"3023\",\"type\":\"LegendItem\"}],\"location\":\"bottom_left\"},\"id\":\"3022\",\"type\":\"Legend\"}],\"root_ids\":[\"2977\"]},\"title\":\"Bokeh Application\",\"version\":\"1.3.4\"}};\n",
       "  var render_items = [{\"docid\":\"7e7cef1f-940c-4f71-89e6-f793be6265bf\",\"roots\":{\"2977\":\"6c5481f7-cf85-40d4-ae40-081c227728af\"}}];\n",
       "  root.Bokeh.embed.embed_items_notebook(docs_json, render_items);\n",
       "\n",
       "  }\n",
       "  if (root.Bokeh !== undefined) {\n",
       "    embed_document(root);\n",
       "  } else {\n",
       "    var attempts = 0;\n",
       "    var timer = setInterval(function(root) {\n",
       "      if (root.Bokeh !== undefined) {\n",
       "        embed_document(root);\n",
       "        clearInterval(timer);\n",
       "      }\n",
       "      attempts++;\n",
       "      if (attempts > 100) {\n",
       "        console.log(\"Bokeh: ERROR: Unable to run BokehJS code because BokehJS library is missing\");\n",
       "        clearInterval(timer);\n",
       "      }\n",
       "    }, 10, root)\n",
       "  }\n",
       "})(window);"
      ],
      "application/vnd.bokehjs_exec.v0+json": ""
     },
     "metadata": {
      "application/vnd.bokehjs_exec.v0+json": {
       "id": "2977"
      }
     },
     "output_type": "display_data"
    }
   ],
   "source": [
    "result = show_group_total(years, 'SP.RUR.TOTL', ['LDCs'], \n",
    "                                height=400, width=1000, line_width=4)"
   ]
  },
  {
   "cell_type": "markdown",
   "metadata": {
    "slideshow": {
     "slide_type": "slide"
    }
   },
   "source": [
    "# Rural job creation is crucial for poverty eradication\n",
    "\n",
    " + Smallholder population have an important role in achieving food security\n",
    "\n",
    " + Importance of synergies between urban and rural development\n",
    "\n",
    " + The majority of the population lives in rural areas in LDCs, yet agriculture generates less than 30% of GDP"
   ]
  },
  {
   "cell_type": "code",
   "execution_count": 15,
   "metadata": {
    "ExecuteTime": {
     "end_time": "2019-10-25T14:24:52.788910Z",
     "start_time": "2019-10-25T14:24:46.379697Z"
    },
    "slideshow": {
     "slide_type": "slide"
    }
   },
   "outputs": [
    {
     "data": {
      "text/html": [
       "\n",
       "\n",
       "\n",
       "\n",
       "\n",
       "\n",
       "  <div class=\"bk-root\" id=\"e2be0618-2796-4d60-8335-ed8078d2417a\" data-root-id=\"3224\"></div>\n"
      ]
     },
     "metadata": {},
     "output_type": "display_data"
    },
    {
     "data": {
      "application/javascript": [
       "(function(root) {\n",
       "  function embed_document(root) {\n",
       "    \n",
       "  var docs_json = {\"dfba5322-64e0-4896-8909-e38688304af1\":{\"roots\":{\"references\":[{\"attributes\":{\"below\":[{\"id\":\"3235\",\"type\":\"LinearAxis\"}],\"center\":[{\"id\":\"3239\",\"type\":\"Grid\"},{\"id\":\"3244\",\"type\":\"Grid\"},{\"id\":\"3269\",\"type\":\"Legend\"}],\"left\":[{\"id\":\"3240\",\"type\":\"LinearAxis\"}],\"plot_height\":400,\"plot_width\":1000,\"renderers\":[{\"id\":\"3261\",\"type\":\"GlyphRenderer\"},{\"id\":\"3274\",\"type\":\"GlyphRenderer\"},{\"id\":\"3279\",\"type\":\"GlyphRenderer\"},{\"id\":\"3295\",\"type\":\"GlyphRenderer\"},{\"id\":\"3300\",\"type\":\"GlyphRenderer\"},{\"id\":\"3320\",\"type\":\"GlyphRenderer\"}],\"title\":{\"id\":\"3225\",\"type\":\"Title\"},\"toolbar\":{\"id\":\"3251\",\"type\":\"Toolbar\"},\"x_range\":{\"id\":\"3227\",\"type\":\"DataRange1d\"},\"x_scale\":{\"id\":\"3231\",\"type\":\"LinearScale\"},\"y_range\":{\"id\":\"3229\",\"type\":\"DataRange1d\"},\"y_scale\":{\"id\":\"3233\",\"type\":\"LinearScale\"}},\"id\":\"3224\",\"subtype\":\"Figure\",\"type\":\"Plot\"},{\"attributes\":{\"text\":\"Population ages 0-14 (% of total population) weighted against Population, total\"},\"id\":\"3225\",\"type\":\"Title\"},{\"attributes\":{},\"id\":\"3314\",\"type\":\"Selection\"},{\"attributes\":{},\"id\":\"3315\",\"type\":\"UnionRenderers\"},{\"attributes\":{\"data_source\":{\"id\":\"3292\",\"type\":\"ColumnDataSource\"},\"glyph\":{\"id\":\"3293\",\"type\":\"Circle\"},\"hover_glyph\":null,\"muted_glyph\":null,\"nonselection_glyph\":{\"id\":\"3294\",\"type\":\"Circle\"},\"selection_glyph\":null,\"view\":{\"id\":\"3296\",\"type\":\"CDSView\"}},\"id\":\"3295\",\"type\":\"GlyphRenderer\"},{\"attributes\":{\"bottom_units\":\"screen\",\"fill_alpha\":{\"value\":0.5},\"fill_color\":{\"value\":\"lightgrey\"},\"left_units\":\"screen\",\"level\":\"overlay\",\"line_alpha\":{\"value\":1.0},\"line_color\":{\"value\":\"black\"},\"line_dash\":[4,4],\"line_width\":{\"value\":2},\"render_mode\":\"css\",\"right_units\":\"screen\",\"top_units\":\"screen\"},\"id\":\"3268\",\"type\":\"BoxAnnotation\"},{\"attributes\":{},\"id\":\"3249\",\"type\":\"ResetTool\"},{\"attributes\":{\"label\":{\"value\":\"OECD\"},\"renderers\":[{\"id\":\"3300\",\"type\":\"GlyphRenderer\"}]},\"id\":\"3316\",\"type\":\"LegendItem\"},{\"attributes\":{\"items\":[{\"id\":\"3270\",\"type\":\"LegendItem\"},{\"id\":\"3291\",\"type\":\"LegendItem\"},{\"id\":\"3316\",\"type\":\"LegendItem\"}],\"location\":\"bottom_left\"},\"id\":\"3269\",\"type\":\"Legend\"},{\"attributes\":{\"callback\":null},\"id\":\"3227\",\"type\":\"DataRange1d\"},{\"attributes\":{\"source\":{\"id\":\"3292\",\"type\":\"ColumnDataSource\"}},\"id\":\"3296\",\"type\":\"CDSView\"},{\"attributes\":{},\"id\":\"3231\",\"type\":\"LinearScale\"},{\"attributes\":{\"label\":{\"value\":\"LDCs\"},\"renderers\":[{\"id\":\"3261\",\"type\":\"GlyphRenderer\"}]},\"id\":\"3270\",\"type\":\"LegendItem\"},{\"attributes\":{},\"id\":\"3250\",\"type\":\"HelpTool\"},{\"attributes\":{\"fill_color\":{\"value\":\"#2CC775\"},\"line_color\":{\"value\":\"#2CC775\"},\"size\":{\"units\":\"screen\",\"value\":1},\"x\":{\"field\":\"x\"},\"y\":{\"field\":\"y\"}},\"id\":\"3318\",\"type\":\"Circle\"},{\"attributes\":{\"callback\":null,\"data\":{\"x\":[\"2000\",\"2001\",\"2002\",\"2003\",\"2004\",\"2005\",\"2006\",\"2007\",\"2008\",\"2009\",\"2010\",\"2011\",\"2012\",\"2013\",\"2014\",\"2015\",\"2016\",\"2017\"],\"y\":[20.653439230371426,20.415555136413452,20.200407075212425,19.99721546354425,19.792580083113325,19.58153049491419,19.42936673752946,19.266708712785178,19.10062316536645,18.940792466102835,18.78763312883592,18.68284269266012,18.553760570557017,18.4175092045611,18.28626606521173,18.163323640146963,18.042734326142373,17.93618839869138]},\"selected\":{\"id\":\"3471\",\"type\":\"Selection\"},\"selection_policy\":{\"id\":\"3472\",\"type\":\"UnionRenderers\"}},\"id\":\"3297\",\"type\":\"ColumnDataSource\"},{\"attributes\":{\"fill_alpha\":{\"value\":0.1},\"fill_color\":{\"value\":\"#1f77b4\"},\"line_alpha\":{\"value\":0.1},\"line_color\":{\"value\":\"#1f77b4\"},\"size\":{\"units\":\"screen\",\"value\":1},\"x\":{\"field\":\"x\"},\"y\":{\"field\":\"y\"}},\"id\":\"3294\",\"type\":\"Circle\"},{\"attributes\":{\"callback\":null},\"id\":\"3229\",\"type\":\"DataRange1d\"},{\"attributes\":{\"callback\":null,\"data\":{\"x\":[\"2000\",\"2001\",\"2002\",\"2003\",\"2004\",\"2005\",\"2006\",\"2007\",\"2008\",\"2009\",\"2010\",\"2011\",\"2012\",\"2013\",\"2014\",\"2015\",\"2016\",\"2017\"],\"y\":[42.501489666698774,42.37374392265807,42.22887581740992,42.07219844488613,41.90384954996243,41.72083610508943,41.610008469641,41.47442096320036,41.316846318100616,41.141558470261536,40.95102839868382,40.755189506552824,40.53475295078126,40.29220143540501,40.03263457305002,39.758822964891884,39.49253508027312,39.211954136230496]},\"selected\":{\"id\":\"3289\",\"type\":\"Selection\"},\"selection_policy\":{\"id\":\"3290\",\"type\":\"UnionRenderers\"}},\"id\":\"3271\",\"type\":\"ColumnDataSource\"},{\"attributes\":{\"callback\":null,\"data\":{\"x\":[\"2000\",\"2001\",\"2002\",\"2003\",\"2004\",\"2005\",\"2006\",\"2007\",\"2008\",\"2009\",\"2010\",\"2011\",\"2012\",\"2013\",\"2014\",\"2015\",\"2016\",\"2017\"],\"y\":[20.653439230371426,20.415555136413452,20.200407075212425,19.99721546354425,19.792580083113325,19.58153049491419,19.42936673752946,19.266708712785178,19.10062316536645,18.940792466102835,18.78763312883592,18.68284269266012,18.553760570557017,18.4175092045611,18.28626606521173,18.163323640146963,18.042734326142373,17.93618839869138]},\"selected\":{\"id\":\"3473\",\"type\":\"Selection\"},\"selection_policy\":{\"id\":\"3474\",\"type\":\"UnionRenderers\"}},\"id\":\"3317\",\"type\":\"ColumnDataSource\"},{\"attributes\":{\"fill_alpha\":{\"value\":0.1},\"fill_color\":{\"value\":\"#1f77b4\"},\"line_alpha\":{\"value\":0.1},\"line_color\":{\"value\":\"#1f77b4\"},\"size\":{\"units\":\"screen\",\"value\":1},\"x\":{\"field\":\"x\"},\"y\":{\"field\":\"y\"}},\"id\":\"3319\",\"type\":\"Circle\"},{\"attributes\":{},\"id\":\"3233\",\"type\":\"LinearScale\"},{\"attributes\":{\"fill_color\":{\"value\":\"#FA1857\"},\"line_color\":{\"value\":\"#FA1857\"},\"size\":{\"units\":\"screen\",\"value\":1},\"x\":{\"field\":\"x\"},\"y\":{\"field\":\"y\"}},\"id\":\"3272\",\"type\":\"Circle\"},{\"attributes\":{\"active_drag\":\"auto\",\"active_inspect\":\"auto\",\"active_multi\":null,\"active_scroll\":\"auto\",\"active_tap\":\"auto\",\"tools\":[{\"id\":\"3245\",\"type\":\"PanTool\"},{\"id\":\"3246\",\"type\":\"WheelZoomTool\"},{\"id\":\"3247\",\"type\":\"BoxZoomTool\"},{\"id\":\"3248\",\"type\":\"SaveTool\"},{\"id\":\"3249\",\"type\":\"ResetTool\"},{\"id\":\"3250\",\"type\":\"HelpTool\"},{\"id\":\"3322\",\"type\":\"HoverTool\"}]},\"id\":\"3251\",\"type\":\"Toolbar\"},{\"attributes\":{\"line_color\":\"#2CC775\",\"line_width\":4,\"x\":{\"field\":\"x\"},\"y\":{\"field\":\"y\"}},\"id\":\"3298\",\"type\":\"Line\"},{\"attributes\":{\"data_source\":{\"id\":\"3317\",\"type\":\"ColumnDataSource\"},\"glyph\":{\"id\":\"3318\",\"type\":\"Circle\"},\"hover_glyph\":null,\"muted_glyph\":null,\"nonselection_glyph\":{\"id\":\"3319\",\"type\":\"Circle\"},\"selection_glyph\":null,\"view\":{\"id\":\"3321\",\"type\":\"CDSView\"}},\"id\":\"3320\",\"type\":\"GlyphRenderer\"},{\"attributes\":{},\"id\":\"3236\",\"type\":\"BasicTicker\"},{\"attributes\":{\"fill_alpha\":{\"value\":0.1},\"fill_color\":{\"value\":\"#1f77b4\"},\"line_alpha\":{\"value\":0.1},\"line_color\":{\"value\":\"#1f77b4\"},\"size\":{\"units\":\"screen\",\"value\":1},\"x\":{\"field\":\"x\"},\"y\":{\"field\":\"y\"}},\"id\":\"3273\",\"type\":\"Circle\"},{\"attributes\":{\"line_alpha\":0.1,\"line_color\":\"#1f77b4\",\"line_width\":4,\"x\":{\"field\":\"x\"},\"y\":{\"field\":\"y\"}},\"id\":\"3260\",\"type\":\"Line\"},{\"attributes\":{\"source\":{\"id\":\"3317\",\"type\":\"ColumnDataSource\"}},\"id\":\"3321\",\"type\":\"CDSView\"},{\"attributes\":{\"axis_label\":\"Years\",\"formatter\":{\"id\":\"3265\",\"type\":\"BasicTickFormatter\"},\"ticker\":{\"id\":\"3236\",\"type\":\"BasicTicker\"}},\"id\":\"3235\",\"type\":\"LinearAxis\"},{\"attributes\":{\"data_source\":{\"id\":\"3271\",\"type\":\"ColumnDataSource\"},\"glyph\":{\"id\":\"3272\",\"type\":\"Circle\"},\"hover_glyph\":null,\"muted_glyph\":null,\"nonselection_glyph\":{\"id\":\"3273\",\"type\":\"Circle\"},\"selection_glyph\":null,\"view\":{\"id\":\"3275\",\"type\":\"CDSView\"}},\"id\":\"3274\",\"type\":\"GlyphRenderer\"},{\"attributes\":{\"line_alpha\":0.1,\"line_color\":\"#1f77b4\",\"line_width\":4,\"x\":{\"field\":\"x\"},\"y\":{\"field\":\"y\"}},\"id\":\"3299\",\"type\":\"Line\"},{\"attributes\":{\"grid_line_color\":null,\"ticker\":{\"id\":\"3236\",\"type\":\"BasicTicker\"}},\"id\":\"3239\",\"type\":\"Grid\"},{\"attributes\":{\"data_source\":{\"id\":\"3258\",\"type\":\"ColumnDataSource\"},\"glyph\":{\"id\":\"3259\",\"type\":\"Line\"},\"hover_glyph\":null,\"muted_glyph\":null,\"nonselection_glyph\":{\"id\":\"3260\",\"type\":\"Line\"},\"selection_glyph\":null,\"view\":{\"id\":\"3262\",\"type\":\"CDSView\"}},\"id\":\"3261\",\"type\":\"GlyphRenderer\"},{\"attributes\":{\"source\":{\"id\":\"3271\",\"type\":\"ColumnDataSource\"}},\"id\":\"3275\",\"type\":\"CDSView\"},{\"attributes\":{},\"id\":\"3471\",\"type\":\"Selection\"},{\"attributes\":{\"axis_label\":\"SP.POP.0014.TO.ZS\",\"formatter\":{\"id\":\"3267\",\"type\":\"BasicTickFormatter\"},\"ticker\":{\"id\":\"3241\",\"type\":\"BasicTicker\"}},\"id\":\"3240\",\"type\":\"LinearAxis\"},{\"attributes\":{\"data_source\":{\"id\":\"3297\",\"type\":\"ColumnDataSource\"},\"glyph\":{\"id\":\"3298\",\"type\":\"Line\"},\"hover_glyph\":null,\"muted_glyph\":null,\"nonselection_glyph\":{\"id\":\"3299\",\"type\":\"Line\"},\"selection_glyph\":null,\"view\":{\"id\":\"3301\",\"type\":\"CDSView\"}},\"id\":\"3300\",\"type\":\"GlyphRenderer\"},{\"attributes\":{\"callback\":null,\"data\":{\"x\":[\"2000\",\"2001\",\"2002\",\"2003\",\"2004\",\"2005\",\"2006\",\"2007\",\"2008\",\"2009\",\"2010\",\"2011\",\"2012\",\"2013\",\"2014\",\"2015\",\"2016\",\"2017\"],\"y\":[31.45501317728547,31.043683748305877,30.511296017830627,29.917494644233273,29.36093695575281,28.890888585119253,28.471845013916965,28.126271073986057,27.83776671071426,27.567471401995352,27.29508958383986,27.05516942192989,26.810529887579573,26.56498460112185,26.326362059346703,26.096530369916763,25.87910474904753,25.665245061731724]},\"selected\":{\"id\":\"3312\",\"type\":\"Selection\"},\"selection_policy\":{\"id\":\"3313\",\"type\":\"UnionRenderers\"}},\"id\":\"3276\",\"type\":\"ColumnDataSource\"},{\"attributes\":{},\"id\":\"3472\",\"type\":\"UnionRenderers\"},{\"attributes\":{\"line_color\":\"#5430F1\",\"line_width\":4,\"x\":{\"field\":\"x\"},\"y\":{\"field\":\"y\"}},\"id\":\"3277\",\"type\":\"Line\"},{\"attributes\":{},\"id\":\"3473\",\"type\":\"Selection\"},{\"attributes\":{},\"id\":\"3241\",\"type\":\"BasicTicker\"},{\"attributes\":{\"source\":{\"id\":\"3258\",\"type\":\"ColumnDataSource\"}},\"id\":\"3262\",\"type\":\"CDSView\"},{\"attributes\":{\"line_alpha\":0.1,\"line_color\":\"#1f77b4\",\"line_width\":4,\"x\":{\"field\":\"x\"},\"y\":{\"field\":\"y\"}},\"id\":\"3278\",\"type\":\"Line\"},{\"attributes\":{\"dimension\":1,\"grid_line_alpha\":0.5,\"ticker\":{\"id\":\"3241\",\"type\":\"BasicTicker\"}},\"id\":\"3244\",\"type\":\"Grid\"},{\"attributes\":{\"source\":{\"id\":\"3297\",\"type\":\"ColumnDataSource\"}},\"id\":\"3301\",\"type\":\"CDSView\"},{\"attributes\":{},\"id\":\"3474\",\"type\":\"UnionRenderers\"},{\"attributes\":{\"data_source\":{\"id\":\"3276\",\"type\":\"ColumnDataSource\"},\"glyph\":{\"id\":\"3277\",\"type\":\"Line\"},\"hover_glyph\":null,\"muted_glyph\":null,\"nonselection_glyph\":{\"id\":\"3278\",\"type\":\"Line\"},\"selection_glyph\":null,\"view\":{\"id\":\"3280\",\"type\":\"CDSView\"}},\"id\":\"3279\",\"type\":\"GlyphRenderer\"},{\"attributes\":{\"line_color\":\"#FA1857\",\"line_width\":4,\"x\":{\"field\":\"x\"},\"y\":{\"field\":\"y\"}},\"id\":\"3259\",\"type\":\"Line\"},{\"attributes\":{\"callback\":null,\"tooltips\":\"                \\n        <div style=padding=5px>Year:@x</div>\\n        <div style=padding=5px>Value:@y</div>        \\n        \"},\"id\":\"3322\",\"type\":\"HoverTool\"},{\"attributes\":{\"source\":{\"id\":\"3276\",\"type\":\"ColumnDataSource\"}},\"id\":\"3280\",\"type\":\"CDSView\"},{\"attributes\":{\"callback\":null,\"data\":{\"x\":[\"2000\",\"2001\",\"2002\",\"2003\",\"2004\",\"2005\",\"2006\",\"2007\",\"2008\",\"2009\",\"2010\",\"2011\",\"2012\",\"2013\",\"2014\",\"2015\",\"2016\",\"2017\"],\"y\":[42.501489666698774,42.37374392265807,42.22887581740992,42.07219844488613,41.90384954996243,41.72083610508943,41.610008469641,41.47442096320036,41.316846318100616,41.141558470261536,40.95102839868382,40.755189506552824,40.53475295078126,40.29220143540501,40.03263457305002,39.758822964891884,39.49253508027312,39.211954136230496]},\"selected\":{\"id\":\"3287\",\"type\":\"Selection\"},\"selection_policy\":{\"id\":\"3288\",\"type\":\"UnionRenderers\"}},\"id\":\"3258\",\"type\":\"ColumnDataSource\"},{\"attributes\":{},\"id\":\"3312\",\"type\":\"Selection\"},{\"attributes\":{},\"id\":\"3265\",\"type\":\"BasicTickFormatter\"},{\"attributes\":{},\"id\":\"3245\",\"type\":\"PanTool\"},{\"attributes\":{\"callback\":null,\"data\":{\"x\":[\"2000\",\"2001\",\"2002\",\"2003\",\"2004\",\"2005\",\"2006\",\"2007\",\"2008\",\"2009\",\"2010\",\"2011\",\"2012\",\"2013\",\"2014\",\"2015\",\"2016\",\"2017\"],\"y\":[31.45501317728547,31.043683748305877,30.511296017830627,29.917494644233273,29.36093695575281,28.890888585119253,28.471845013916965,28.126271073986057,27.83776671071426,27.567471401995352,27.29508958383986,27.05516942192989,26.810529887579573,26.56498460112185,26.326362059346703,26.096530369916763,25.87910474904753,25.665245061731724]},\"selected\":{\"id\":\"3314\",\"type\":\"Selection\"},\"selection_policy\":{\"id\":\"3315\",\"type\":\"UnionRenderers\"}},\"id\":\"3292\",\"type\":\"ColumnDataSource\"},{\"attributes\":{},\"id\":\"3287\",\"type\":\"Selection\"},{\"attributes\":{},\"id\":\"3246\",\"type\":\"WheelZoomTool\"},{\"attributes\":{},\"id\":\"3288\",\"type\":\"UnionRenderers\"},{\"attributes\":{},\"id\":\"3313\",\"type\":\"UnionRenderers\"},{\"attributes\":{\"fill_color\":{\"value\":\"#5430F1\"},\"line_color\":{\"value\":\"#5430F1\"},\"size\":{\"units\":\"screen\",\"value\":1},\"x\":{\"field\":\"x\"},\"y\":{\"field\":\"y\"}},\"id\":\"3293\",\"type\":\"Circle\"},{\"attributes\":{\"overlay\":{\"id\":\"3268\",\"type\":\"BoxAnnotation\"}},\"id\":\"3247\",\"type\":\"BoxZoomTool\"},{\"attributes\":{},\"id\":\"3267\",\"type\":\"BasicTickFormatter\"},{\"attributes\":{},\"id\":\"3289\",\"type\":\"Selection\"},{\"attributes\":{\"label\":{\"value\":\"Developing excluding LDCs\"},\"renderers\":[{\"id\":\"3279\",\"type\":\"GlyphRenderer\"}]},\"id\":\"3291\",\"type\":\"LegendItem\"},{\"attributes\":{},\"id\":\"3290\",\"type\":\"UnionRenderers\"},{\"attributes\":{},\"id\":\"3248\",\"type\":\"SaveTool\"}],\"root_ids\":[\"3224\"]},\"title\":\"Bokeh Application\",\"version\":\"1.3.4\"}};\n",
       "  var render_items = [{\"docid\":\"dfba5322-64e0-4896-8909-e38688304af1\",\"roots\":{\"3224\":\"e2be0618-2796-4d60-8335-ed8078d2417a\"}}];\n",
       "  root.Bokeh.embed.embed_items_notebook(docs_json, render_items);\n",
       "\n",
       "  }\n",
       "  if (root.Bokeh !== undefined) {\n",
       "    embed_document(root);\n",
       "  } else {\n",
       "    var attempts = 0;\n",
       "    var timer = setInterval(function(root) {\n",
       "      if (root.Bokeh !== undefined) {\n",
       "        embed_document(root);\n",
       "        clearInterval(timer);\n",
       "      }\n",
       "      attempts++;\n",
       "      if (attempts > 100) {\n",
       "        console.log(\"Bokeh: ERROR: Unable to run BokehJS code because BokehJS library is missing\");\n",
       "        clearInterval(timer);\n",
       "      }\n",
       "    }, 10, root)\n",
       "  }\n",
       "})(window);"
      ],
      "application/vnd.bokehjs_exec.v0+json": ""
     },
     "metadata": {
      "application/vnd.bokehjs_exec.v0+json": {
       "id": "3224"
      }
     },
     "output_type": "display_data"
    }
   ],
   "source": [
    "years = list(map(str, list(range(2000,2018))))\n",
    "# Population 0-14\n",
    "result = show_weighted_average(years, 'SP.POP.0014.TO.ZS', 'SP.POP.TOTL', \n",
    "                               ['LDCs', 'Developing excluding LDCs', 'OECD'], \n",
    "                                height=400, width=1000, line_width=4)"
   ]
  },
  {
   "cell_type": "code",
   "execution_count": 36,
   "metadata": {
    "slideshow": {
     "slide_type": "slide"
    }
   },
   "outputs": [
    {
     "data": {
      "text/html": [
       "\n",
       "\n",
       "\n",
       "\n",
       "\n",
       "\n",
       "  <div class=\"bk-root\" id=\"14f1af47-f1ee-45dc-8614-dfa2e784b418\" data-root-id=\"14607\"></div>\n"
      ]
     },
     "metadata": {},
     "output_type": "display_data"
    },
    {
     "data": {
      "application/javascript": [
       "(function(root) {\n",
       "  function embed_document(root) {\n",
       "    \n",
       "  var docs_json = {\"16ec3a9a-775a-40ee-a1b7-1dfcba0d4fb2\":{\"roots\":{\"references\":[{\"attributes\":{\"below\":[{\"id\":\"14618\",\"type\":\"LinearAxis\"}],\"center\":[{\"id\":\"14622\",\"type\":\"Grid\"},{\"id\":\"14627\",\"type\":\"Grid\"},{\"id\":\"14652\",\"type\":\"Legend\"}],\"left\":[{\"id\":\"14623\",\"type\":\"LinearAxis\"}],\"plot_height\":400,\"plot_width\":900,\"renderers\":[{\"id\":\"14644\",\"type\":\"GlyphRenderer\"},{\"id\":\"14657\",\"type\":\"GlyphRenderer\"},{\"id\":\"14662\",\"type\":\"GlyphRenderer\"},{\"id\":\"14678\",\"type\":\"GlyphRenderer\"}],\"title\":{\"id\":\"14608\",\"type\":\"Title\"},\"toolbar\":{\"id\":\"14634\",\"type\":\"Toolbar\"},\"x_range\":{\"id\":\"14610\",\"type\":\"DataRange1d\"},\"x_scale\":{\"id\":\"14614\",\"type\":\"LinearScale\"},\"y_range\":{\"id\":\"14612\",\"type\":\"DataRange1d\"},\"y_scale\":{\"id\":\"14616\",\"type\":\"LinearScale\"}},\"id\":\"14607\",\"subtype\":\"Figure\",\"type\":\"Plot\"},{\"attributes\":{\"source\":{\"id\":\"14675\",\"type\":\"ColumnDataSource\"}},\"id\":\"14679\",\"type\":\"CDSView\"},{\"attributes\":{\"fill_color\":{\"value\":\"#FA1857\"},\"line_color\":{\"value\":\"#FA1857\"},\"size\":{\"units\":\"screen\",\"value\":3},\"x\":{\"field\":\"x\"},\"y\":{\"field\":\"y\"}},\"id\":\"14655\",\"type\":\"Circle\"},{\"attributes\":{\"line_color\":\"#FA1857\",\"line_width\":4,\"x\":{\"field\":\"x\"},\"y\":{\"field\":\"y\"}},\"id\":\"14642\",\"type\":\"Line\"},{\"attributes\":{\"fill_alpha\":{\"value\":0.1},\"fill_color\":{\"value\":\"#1f77b4\"},\"line_alpha\":{\"value\":0.1},\"line_color\":{\"value\":\"#1f77b4\"},\"size\":{\"units\":\"screen\",\"value\":3},\"x\":{\"field\":\"x\"},\"y\":{\"field\":\"y\"}},\"id\":\"14656\",\"type\":\"Circle\"},{\"attributes\":{\"callback\":null,\"data\":{\"x\":[1950.0,1951.0,1952.0,1953.0,1954.0,1955.0,1956.0,1957.0,1958.0,1959.0,1960.0,1961.0,1962.0,1963.0,1964.0,1965.0,1966.0,1967.0,1968.0,1969.0,1970.0,1971.0,1972.0,1973.0,1974.0,1975.0,1976.0,1977.0,1978.0,1979.0,1980.0,1981.0,1982.0,1983.0,1984.0,1985.0,1986.0,1987.0,1988.0,1989.0,1990.0,1991.0,1992.0,1993.0,1994.0,1995.0,1996.0,1997.0,1998.0,1999.0,2000.0,2001.0,2002.0,2003.0,2004.0,2005.0,2006.0,2007.0,2008.0,2009.0,2010.0,2011.0,2012.0,2013.0,2014.0,2015.0,2016.0,2017.0,2018.0,2019.0,2020.0],\"y\":[132855.88099999996,135623.16100000002,138407.477,141227.311,144119.51400000002,147127.231,150509.91700000002,153963.42400000003,157518.09399999998,161189.969,164981.977,169109.49200000006,173326.13599999997,177665.10000000006,182166.30499999996,186863.58400000003,192073.58499999996,197434.59099999996,202899.996,208393.333,213859.267,219331.986,224731.436,230128.11800000002,235632.36299999998,241339.312,247786.55999999997,254424.46299999993,261269.672,268312.89499999996,275543.42300000007,283376.7379999999,291350.78199999995,299481.427,307779.018,316260.33599999995,325094.9699999999,334018.047,343080.72,352344.05400000006,361846.22199999995,371586.42400000006,381491.8949999999,391487.6139999999,401463.72899999993,411352.94100000005,421795.947,432141.857,442496.88000000006,453010.24,463788.02800000005,475026.4589999999,486453.019,498005.87899999996,509581.276,521108.3789999999,532682.003,544207.1329999999,555758.8630000001,567425.0279999999,579272.7570000001,591382.7909999999,603599.0029999999,615969.5159999998,628560.117,641410.265,654453.5269999998,667655.3029999998,680941.229,694201.3130000002,707362.3299999997]},\"selected\":{\"id\":\"14670\",\"type\":\"Selection\"},\"selection_policy\":{\"id\":\"14671\",\"type\":\"UnionRenderers\"}},\"id\":\"14641\",\"type\":\"ColumnDataSource\"},{\"attributes\":{},\"id\":\"15203\",\"type\":\"Selection\"},{\"attributes\":{\"data_source\":{\"id\":\"14654\",\"type\":\"ColumnDataSource\"},\"glyph\":{\"id\":\"14655\",\"type\":\"Circle\"},\"hover_glyph\":null,\"muted_glyph\":null,\"nonselection_glyph\":{\"id\":\"14656\",\"type\":\"Circle\"},\"selection_glyph\":null,\"view\":{\"id\":\"14658\",\"type\":\"CDSView\"}},\"id\":\"14657\",\"type\":\"GlyphRenderer\"},{\"attributes\":{},\"id\":\"14628\",\"type\":\"PanTool\"},{\"attributes\":{},\"id\":\"15204\",\"type\":\"UnionRenderers\"},{\"attributes\":{\"source\":{\"id\":\"14654\",\"type\":\"ColumnDataSource\"}},\"id\":\"14658\",\"type\":\"CDSView\"},{\"attributes\":{},\"id\":\"14629\",\"type\":\"WheelZoomTool\"},{\"attributes\":{},\"id\":\"15205\",\"type\":\"Selection\"},{\"attributes\":{\"callback\":null,\"data\":{\"x\":[1950.0,1951.0,1952.0,1953.0,1954.0,1955.0,1956.0,1957.0,1958.0,1959.0,1960.0,1961.0,1962.0,1963.0,1964.0,1965.0,1966.0,1967.0,1968.0,1969.0,1970.0,1971.0,1972.0,1973.0,1974.0,1975.0,1976.0,1977.0,1978.0,1979.0,1980.0,1981.0,1982.0,1983.0,1984.0,1985.0,1986.0,1987.0,1988.0,1989.0,1990.0,1991.0,1992.0,1993.0,1994.0,1995.0,1996.0,1997.0,1998.0,1999.0,2000.0,2001.0,2002.0,2003.0,2004.0,2005.0,2006.0,2007.0,2008.0,2009.0,2010.0,2011.0,2012.0,2013.0,2014.0,2015.0,2016.0,2017.0,2018.0,2019.0,2020.0],\"y\":[892688.0639999999,917729.9030000002,943029.4839999998,967121.08,989580.52,1010988.7880000001,1035741.7419999999,1058744.3689999997,1081579.835,1105581.8370000003,1131243.5109999997,1156285.583,1184163.3229999996,1214250.4889999998,1245567.5620000008,1277895.2320000005,1313466.0239999997,1349516.8029999998,1386209.681999999,1423862.393,1462361.6330000006,1502384.129,1542207.924,1581623.6730000004,1620124.5529999998,1657288.9939999997,1693526.6109999993,1728347.7249999994,1761606.5420000006,1793232.4570000004,1823379.1030000004,1852455.5749999995,1880355.1789999998,1907802.9270000001,1936022.882000001,1965870.5740000007,2000005.2549999992,2035545.605999999,2071105.313999999,2104315.3649999993,2133418.8409999995,2161577.525,2183886.3200000008,2201824.601,2217733.3499999996,2233006.5130000003,2244165.967,2256424.2980000004,2268729.673,2279302.593000001,2287574.6650000005,2298982.2510000006,2307818.3360000006,2315227.101,2323270.674,2332955.113999999,2343670.7100000004,2355632.7090000007,2368369.693,2380616.477000002,2391576.023,2403055.2289999994,2413351.8319999995,2422002.5480000004,2428450.4210000006,2432341.8510000007,2434867.4969999986,2434529.9630000014,2432290.252000001,2429672.639999999,2427659.5729999975]},\"selected\":{\"id\":\"15203\",\"type\":\"Selection\"},\"selection_policy\":{\"id\":\"15204\",\"type\":\"UnionRenderers\"}},\"id\":\"14659\",\"type\":\"ColumnDataSource\"},{\"attributes\":{\"overlay\":{\"id\":\"14651\",\"type\":\"BoxAnnotation\"}},\"id\":\"14630\",\"type\":\"BoxZoomTool\"},{\"attributes\":{},\"id\":\"15206\",\"type\":\"UnionRenderers\"},{\"attributes\":{\"line_color\":\"#5430F1\",\"line_width\":4,\"x\":{\"field\":\"x\"},\"y\":{\"field\":\"y\"}},\"id\":\"14660\",\"type\":\"Line\"},{\"attributes\":{},\"id\":\"14631\",\"type\":\"SaveTool\"},{\"attributes\":{\"line_alpha\":0.1,\"line_color\":\"#1f77b4\",\"line_width\":4,\"x\":{\"field\":\"x\"},\"y\":{\"field\":\"y\"}},\"id\":\"14661\",\"type\":\"Line\"},{\"attributes\":{},\"id\":\"14632\",\"type\":\"ResetTool\"},{\"attributes\":{\"data_source\":{\"id\":\"14659\",\"type\":\"ColumnDataSource\"},\"glyph\":{\"id\":\"14660\",\"type\":\"Line\"},\"hover_glyph\":null,\"muted_glyph\":null,\"nonselection_glyph\":{\"id\":\"14661\",\"type\":\"Line\"},\"selection_glyph\":null,\"view\":{\"id\":\"14663\",\"type\":\"CDSView\"}},\"id\":\"14662\",\"type\":\"GlyphRenderer\"},{\"attributes\":{\"text\":\"\"},\"id\":\"14608\",\"type\":\"Title\"},{\"attributes\":{},\"id\":\"14633\",\"type\":\"HelpTool\"},{\"attributes\":{\"callback\":null,\"tooltips\":\"                \\n        <div style=padding=5px>Year:@x</div>\\n        <div style=padding=5px>Value:@y</div>        \\n        \"},\"id\":\"14680\",\"type\":\"HoverTool\"},{\"attributes\":{\"source\":{\"id\":\"14659\",\"type\":\"ColumnDataSource\"}},\"id\":\"14663\",\"type\":\"CDSView\"},{\"attributes\":{\"callback\":null},\"id\":\"14610\",\"type\":\"DataRange1d\"},{\"attributes\":{\"active_drag\":\"auto\",\"active_inspect\":\"auto\",\"active_multi\":null,\"active_scroll\":\"auto\",\"active_tap\":\"auto\",\"tools\":[{\"id\":\"14628\",\"type\":\"PanTool\"},{\"id\":\"14629\",\"type\":\"WheelZoomTool\"},{\"id\":\"14630\",\"type\":\"BoxZoomTool\"},{\"id\":\"14631\",\"type\":\"SaveTool\"},{\"id\":\"14632\",\"type\":\"ResetTool\"},{\"id\":\"14633\",\"type\":\"HelpTool\"},{\"id\":\"14680\",\"type\":\"HoverTool\"}]},\"id\":\"14634\",\"type\":\"Toolbar\"},{\"attributes\":{},\"id\":\"14670\",\"type\":\"Selection\"},{\"attributes\":{\"line_alpha\":0.1,\"line_color\":\"#1f77b4\",\"line_width\":4,\"x\":{\"field\":\"x\"},\"y\":{\"field\":\"y\"}},\"id\":\"14643\",\"type\":\"Line\"},{\"attributes\":{\"callback\":null},\"id\":\"14612\",\"type\":\"DataRange1d\"},{\"attributes\":{},\"id\":\"14671\",\"type\":\"UnionRenderers\"},{\"attributes\":{},\"id\":\"14614\",\"type\":\"LinearScale\"},{\"attributes\":{\"data_source\":{\"id\":\"14641\",\"type\":\"ColumnDataSource\"},\"glyph\":{\"id\":\"14642\",\"type\":\"Line\"},\"hover_glyph\":null,\"muted_glyph\":null,\"nonselection_glyph\":{\"id\":\"14643\",\"type\":\"Line\"},\"selection_glyph\":null,\"view\":{\"id\":\"14645\",\"type\":\"CDSView\"}},\"id\":\"14644\",\"type\":\"GlyphRenderer\"},{\"attributes\":{},\"id\":\"14672\",\"type\":\"Selection\"},{\"attributes\":{\"source\":{\"id\":\"14641\",\"type\":\"ColumnDataSource\"}},\"id\":\"14645\",\"type\":\"CDSView\"},{\"attributes\":{},\"id\":\"14616\",\"type\":\"LinearScale\"},{\"attributes\":{\"callback\":null,\"data\":{\"x\":[1950.0,1951.0,1952.0,1953.0,1954.0,1955.0,1956.0,1957.0,1958.0,1959.0,1960.0,1961.0,1962.0,1963.0,1964.0,1965.0,1966.0,1967.0,1968.0,1969.0,1970.0,1971.0,1972.0,1973.0,1974.0,1975.0,1976.0,1977.0,1978.0,1979.0,1980.0,1981.0,1982.0,1983.0,1984.0,1985.0,1986.0,1987.0,1988.0,1989.0,1990.0,1991.0,1992.0,1993.0,1994.0,1995.0,1996.0,1997.0,1998.0,1999.0,2000.0,2001.0,2002.0,2003.0,2004.0,2005.0,2006.0,2007.0,2008.0,2009.0,2010.0,2011.0,2012.0,2013.0,2014.0,2015.0,2016.0,2017.0,2018.0,2019.0,2020.0],\"y\":[132855.88099999996,135623.16100000002,138407.477,141227.311,144119.51400000002,147127.231,150509.91700000002,153963.42400000003,157518.09399999998,161189.969,164981.977,169109.49200000006,173326.13599999997,177665.10000000006,182166.30499999996,186863.58400000003,192073.58499999996,197434.59099999996,202899.996,208393.333,213859.267,219331.986,224731.436,230128.11800000002,235632.36299999998,241339.312,247786.55999999997,254424.46299999993,261269.672,268312.89499999996,275543.42300000007,283376.7379999999,291350.78199999995,299481.427,307779.018,316260.33599999995,325094.9699999999,334018.047,343080.72,352344.05400000006,361846.22199999995,371586.42400000006,381491.8949999999,391487.6139999999,401463.72899999993,411352.94100000005,421795.947,432141.857,442496.88000000006,453010.24,463788.02800000005,475026.4589999999,486453.019,498005.87899999996,509581.276,521108.3789999999,532682.003,544207.1329999999,555758.8630000001,567425.0279999999,579272.7570000001,591382.7909999999,603599.0029999999,615969.5159999998,628560.117,641410.265,654453.5269999998,667655.3029999998,680941.229,694201.3130000002,707362.3299999997]},\"selected\":{\"id\":\"14672\",\"type\":\"Selection\"},\"selection_policy\":{\"id\":\"14673\",\"type\":\"UnionRenderers\"}},\"id\":\"14654\",\"type\":\"ColumnDataSource\"},{\"attributes\":{},\"id\":\"14673\",\"type\":\"UnionRenderers\"},{\"attributes\":{},\"id\":\"14648\",\"type\":\"BasicTickFormatter\"},{\"attributes\":{\"axis_label\":\"Years\",\"formatter\":{\"id\":\"14648\",\"type\":\"BasicTickFormatter\"},\"ticker\":{\"id\":\"14619\",\"type\":\"BasicTicker\"}},\"id\":\"14618\",\"type\":\"LinearAxis\"},{\"attributes\":{\"label\":{\"value\":\"Developing excluding LDCs\"},\"renderers\":[{\"id\":\"14662\",\"type\":\"GlyphRenderer\"}]},\"id\":\"14674\",\"type\":\"LegendItem\"},{\"attributes\":{},\"id\":\"14650\",\"type\":\"BasicTickFormatter\"},{\"attributes\":{},\"id\":\"14619\",\"type\":\"BasicTicker\"},{\"attributes\":{\"callback\":null,\"data\":{\"x\":[1950.0,1951.0,1952.0,1953.0,1954.0,1955.0,1956.0,1957.0,1958.0,1959.0,1960.0,1961.0,1962.0,1963.0,1964.0,1965.0,1966.0,1967.0,1968.0,1969.0,1970.0,1971.0,1972.0,1973.0,1974.0,1975.0,1976.0,1977.0,1978.0,1979.0,1980.0,1981.0,1982.0,1983.0,1984.0,1985.0,1986.0,1987.0,1988.0,1989.0,1990.0,1991.0,1992.0,1993.0,1994.0,1995.0,1996.0,1997.0,1998.0,1999.0,2000.0,2001.0,2002.0,2003.0,2004.0,2005.0,2006.0,2007.0,2008.0,2009.0,2010.0,2011.0,2012.0,2013.0,2014.0,2015.0,2016.0,2017.0,2018.0,2019.0,2020.0],\"y\":[892688.0639999999,917729.9030000002,943029.4839999998,967121.08,989580.52,1010988.7880000001,1035741.7419999999,1058744.3689999997,1081579.835,1105581.8370000003,1131243.5109999997,1156285.583,1184163.3229999996,1214250.4889999998,1245567.5620000008,1277895.2320000005,1313466.0239999997,1349516.8029999998,1386209.681999999,1423862.393,1462361.6330000006,1502384.129,1542207.924,1581623.6730000004,1620124.5529999998,1657288.9939999997,1693526.6109999993,1728347.7249999994,1761606.5420000006,1793232.4570000004,1823379.1030000004,1852455.5749999995,1880355.1789999998,1907802.9270000001,1936022.882000001,1965870.5740000007,2000005.2549999992,2035545.605999999,2071105.313999999,2104315.3649999993,2133418.8409999995,2161577.525,2183886.3200000008,2201824.601,2217733.3499999996,2233006.5130000003,2244165.967,2256424.2980000004,2268729.673,2279302.593000001,2287574.6650000005,2298982.2510000006,2307818.3360000006,2315227.101,2323270.674,2332955.113999999,2343670.7100000004,2355632.7090000007,2368369.693,2380616.477000002,2391576.023,2403055.2289999994,2413351.8319999995,2422002.5480000004,2428450.4210000006,2432341.8510000007,2434867.4969999986,2434529.9630000014,2432290.252000001,2429672.639999999,2427659.5729999975]},\"selected\":{\"id\":\"15205\",\"type\":\"Selection\"},\"selection_policy\":{\"id\":\"15206\",\"type\":\"UnionRenderers\"}},\"id\":\"14675\",\"type\":\"ColumnDataSource\"},{\"attributes\":{\"bottom_units\":\"screen\",\"fill_alpha\":{\"value\":0.5},\"fill_color\":{\"value\":\"lightgrey\"},\"left_units\":\"screen\",\"level\":\"overlay\",\"line_alpha\":{\"value\":1.0},\"line_color\":{\"value\":\"black\"},\"line_dash\":[4,4],\"line_width\":{\"value\":2},\"render_mode\":\"css\",\"right_units\":\"screen\",\"top_units\":\"screen\"},\"id\":\"14651\",\"type\":\"BoxAnnotation\"},{\"attributes\":{\"grid_line_color\":null,\"ticker\":{\"id\":\"14619\",\"type\":\"BasicTicker\"}},\"id\":\"14622\",\"type\":\"Grid\"},{\"attributes\":{\"fill_color\":{\"value\":\"#5430F1\"},\"line_color\":{\"value\":\"#5430F1\"},\"size\":{\"units\":\"screen\",\"value\":3},\"x\":{\"field\":\"x\"},\"y\":{\"field\":\"y\"}},\"id\":\"14676\",\"type\":\"Circle\"},{\"attributes\":{\"items\":[{\"id\":\"14653\",\"type\":\"LegendItem\"},{\"id\":\"14674\",\"type\":\"LegendItem\"}],\"location\":\"bottom_left\"},\"id\":\"14652\",\"type\":\"Legend\"},{\"attributes\":{\"axis_label\":\"Population below 30\",\"formatter\":{\"id\":\"14650\",\"type\":\"BasicTickFormatter\"},\"ticker\":{\"id\":\"14624\",\"type\":\"BasicTicker\"}},\"id\":\"14623\",\"type\":\"LinearAxis\"},{\"attributes\":{\"fill_alpha\":{\"value\":0.1},\"fill_color\":{\"value\":\"#1f77b4\"},\"line_alpha\":{\"value\":0.1},\"line_color\":{\"value\":\"#1f77b4\"},\"size\":{\"units\":\"screen\",\"value\":3},\"x\":{\"field\":\"x\"},\"y\":{\"field\":\"y\"}},\"id\":\"14677\",\"type\":\"Circle\"},{\"attributes\":{\"label\":{\"value\":\"LDCs\"},\"renderers\":[{\"id\":\"14644\",\"type\":\"GlyphRenderer\"}]},\"id\":\"14653\",\"type\":\"LegendItem\"},{\"attributes\":{},\"id\":\"14624\",\"type\":\"BasicTicker\"},{\"attributes\":{\"data_source\":{\"id\":\"14675\",\"type\":\"ColumnDataSource\"},\"glyph\":{\"id\":\"14676\",\"type\":\"Circle\"},\"hover_glyph\":null,\"muted_glyph\":null,\"nonselection_glyph\":{\"id\":\"14677\",\"type\":\"Circle\"},\"selection_glyph\":null,\"view\":{\"id\":\"14679\",\"type\":\"CDSView\"}},\"id\":\"14678\",\"type\":\"GlyphRenderer\"},{\"attributes\":{\"dimension\":1,\"grid_line_alpha\":0.5,\"ticker\":{\"id\":\"14624\",\"type\":\"BasicTicker\"}},\"id\":\"14627\",\"type\":\"Grid\"}],\"root_ids\":[\"14607\"]},\"title\":\"Bokeh Application\",\"version\":\"1.3.4\"}};\n",
       "  var render_items = [{\"docid\":\"16ec3a9a-775a-40ee-a1b7-1dfcba0d4fb2\",\"roots\":{\"14607\":\"14f1af47-f1ee-45dc-8614-dfa2e784b418\"}}];\n",
       "  root.Bokeh.embed.embed_items_notebook(docs_json, render_items);\n",
       "\n",
       "  }\n",
       "  if (root.Bokeh !== undefined) {\n",
       "    embed_document(root);\n",
       "  } else {\n",
       "    var attempts = 0;\n",
       "    var timer = setInterval(function(root) {\n",
       "      if (root.Bokeh !== undefined) {\n",
       "        embed_document(root);\n",
       "        clearInterval(timer);\n",
       "      }\n",
       "      attempts++;\n",
       "      if (attempts > 100) {\n",
       "        console.log(\"Bokeh: ERROR: Unable to run BokehJS code because BokehJS library is missing\");\n",
       "        clearInterval(timer);\n",
       "      }\n",
       "    }, 10, root)\n",
       "  }\n",
       "})(window);"
      ],
      "application/vnd.bokehjs_exec.v0+json": ""
     },
     "metadata": {
      "application/vnd.bokehjs_exec.v0+json": {
       "id": "14607"
      }
     },
     "output_type": "display_data"
    }
   ],
   "source": [
    "d = sources.unpd.indicators.get_age_group_by_country_groups(\"0-29\", ['LDCs'])\n",
    "show(line_chart(d, d[0][3], x_axis_label=\"Years\", y_axis_label='Population below 30', height=400, \n",
    "                width=900, line_width=4))"
   ]
  },
  {
   "cell_type": "code",
   "execution_count": 28,
   "metadata": {
    "ExecuteTime": {
     "end_time": "2019-10-25T14:24:58.884216Z",
     "start_time": "2019-10-25T14:24:54.401294Z"
    },
    "slideshow": {
     "slide_type": "slide"
    }
   },
   "outputs": [
    {
     "data": {
      "text/html": [
       "\n",
       "\n",
       "\n",
       "\n",
       "\n",
       "\n",
       "  <div class=\"bk-root\" id=\"12b85074-a628-48b0-804a-0a55f65c8992\" data-root-id=\"9388\"></div>\n"
      ]
     },
     "metadata": {},
     "output_type": "display_data"
    },
    {
     "data": {
      "application/javascript": [
       "(function(root) {\n",
       "  function embed_document(root) {\n",
       "    \n",
       "  var docs_json = {\"77777073-b42d-4173-a05d-b177d40ba0e5\":{\"roots\":{\"references\":[{\"attributes\":{\"below\":[{\"id\":\"9399\",\"type\":\"LinearAxis\"}],\"center\":[{\"id\":\"9403\",\"type\":\"Grid\"},{\"id\":\"9408\",\"type\":\"Grid\"},{\"id\":\"9433\",\"type\":\"Legend\"}],\"left\":[{\"id\":\"9404\",\"type\":\"LinearAxis\"}],\"plot_height\":400,\"plot_width\":1000,\"renderers\":[{\"id\":\"9425\",\"type\":\"GlyphRenderer\"},{\"id\":\"9438\",\"type\":\"GlyphRenderer\"},{\"id\":\"9443\",\"type\":\"GlyphRenderer\"},{\"id\":\"9459\",\"type\":\"GlyphRenderer\"},{\"id\":\"9464\",\"type\":\"GlyphRenderer\"},{\"id\":\"9484\",\"type\":\"GlyphRenderer\"}],\"title\":{\"id\":\"9389\",\"type\":\"Title\"},\"toolbar\":{\"id\":\"9415\",\"type\":\"Toolbar\"},\"x_range\":{\"id\":\"9391\",\"type\":\"DataRange1d\"},\"x_scale\":{\"id\":\"9395\",\"type\":\"LinearScale\"},\"y_range\":{\"id\":\"9393\",\"type\":\"DataRange1d\"},\"y_scale\":{\"id\":\"9397\",\"type\":\"LinearScale\"}},\"id\":\"9388\",\"subtype\":\"Figure\",\"type\":\"Plot\"},{\"attributes\":{\"axis_label\":\"SN.ITK.DEFC.ZS\",\"formatter\":{\"id\":\"9431\",\"type\":\"BasicTickFormatter\"},\"ticker\":{\"id\":\"9405\",\"type\":\"BasicTicker\"}},\"id\":\"9404\",\"type\":\"LinearAxis\"},{\"attributes\":{\"callback\":null,\"data\":{\"x\":[\"2000\",\"2001\",\"2002\",\"2003\",\"2004\",\"2005\",\"2006\",\"2007\",\"2008\",\"2009\",\"2010\",\"2011\",\"2012\",\"2013\",\"2014\",\"2015\",\"2016\",\"2017\"],\"y\":[16.02606192520864,16.270773333279084,16.606876788025307,16.74535026220969,16.656448375078725,16.13405944602225,15.331780508336847,14.527816819573228,13.806451647166279,13.227587976590945,12.752576312725115,12.323216723695218,11.983420331424563,11.624874868210318,11.27625760481156,10.9695925016704,10.831636605682938,10.76640933924249]},\"selected\":{\"id\":\"9476\",\"type\":\"Selection\"},\"selection_policy\":{\"id\":\"9477\",\"type\":\"UnionRenderers\"}},\"id\":\"9440\",\"type\":\"ColumnDataSource\"},{\"attributes\":{\"grid_line_color\":null,\"ticker\":{\"id\":\"9400\",\"type\":\"BasicTicker\"}},\"id\":\"9403\",\"type\":\"Grid\"},{\"attributes\":{\"line_alpha\":0.1,\"line_color\":\"#1f77b4\",\"line_width\":3,\"x\":{\"field\":\"x\"},\"y\":{\"field\":\"y\"}},\"id\":\"9463\",\"type\":\"Line\"},{\"attributes\":{\"source\":{\"id\":\"9435\",\"type\":\"ColumnDataSource\"}},\"id\":\"9439\",\"type\":\"CDSView\"},{\"attributes\":{},\"id\":\"9431\",\"type\":\"BasicTickFormatter\"},{\"attributes\":{\"text\":\"Prevalence of undernourishment (% of population) weighted against Population, total\"},\"id\":\"9389\",\"type\":\"Title\"},{\"attributes\":{},\"id\":\"9454\",\"type\":\"UnionRenderers\"},{\"attributes\":{\"source\":{\"id\":\"9461\",\"type\":\"ColumnDataSource\"}},\"id\":\"9465\",\"type\":\"CDSView\"},{\"attributes\":{\"line_color\":\"#5430F1\",\"line_width\":3,\"x\":{\"field\":\"x\"},\"y\":{\"field\":\"y\"}},\"id\":\"9441\",\"type\":\"Line\"},{\"attributes\":{\"bottom_units\":\"screen\",\"fill_alpha\":{\"value\":0.5},\"fill_color\":{\"value\":\"lightgrey\"},\"left_units\":\"screen\",\"level\":\"overlay\",\"line_alpha\":{\"value\":1.0},\"line_color\":{\"value\":\"black\"},\"line_dash\":[4,4],\"line_width\":{\"value\":2},\"render_mode\":\"css\",\"right_units\":\"screen\",\"top_units\":\"screen\"},\"id\":\"9432\",\"type\":\"BoxAnnotation\"},{\"attributes\":{\"data_source\":{\"id\":\"9461\",\"type\":\"ColumnDataSource\"},\"glyph\":{\"id\":\"9462\",\"type\":\"Line\"},\"hover_glyph\":null,\"muted_glyph\":null,\"nonselection_glyph\":{\"id\":\"9463\",\"type\":\"Line\"},\"selection_glyph\":null,\"view\":{\"id\":\"9465\",\"type\":\"CDSView\"}},\"id\":\"9464\",\"type\":\"GlyphRenderer\"},{\"attributes\":{\"callback\":null},\"id\":\"9391\",\"type\":\"DataRange1d\"},{\"attributes\":{\"label\":{\"value\":\"Developing excluding LDCs\"},\"renderers\":[{\"id\":\"9443\",\"type\":\"GlyphRenderer\"}]},\"id\":\"9455\",\"type\":\"LegendItem\"},{\"attributes\":{\"overlay\":{\"id\":\"9432\",\"type\":\"BoxAnnotation\"}},\"id\":\"9411\",\"type\":\"BoxZoomTool\"},{\"attributes\":{\"items\":[{\"id\":\"9434\",\"type\":\"LegendItem\"},{\"id\":\"9455\",\"type\":\"LegendItem\"},{\"id\":\"9480\",\"type\":\"LegendItem\"}],\"location\":\"bottom_left\"},\"id\":\"9433\",\"type\":\"Legend\"},{\"attributes\":{},\"id\":\"9476\",\"type\":\"Selection\"},{\"attributes\":{\"callback\":null},\"id\":\"9393\",\"type\":\"DataRange1d\"},{\"attributes\":{},\"id\":\"9478\",\"type\":\"Selection\"},{\"attributes\":{},\"id\":\"9412\",\"type\":\"SaveTool\"},{\"attributes\":{\"label\":{\"value\":\"LDCs\"},\"renderers\":[{\"id\":\"9425\",\"type\":\"GlyphRenderer\"}]},\"id\":\"9434\",\"type\":\"LegendItem\"},{\"attributes\":{\"callback\":null,\"data\":{\"x\":[\"2000\",\"2001\",\"2002\",\"2003\",\"2004\",\"2005\",\"2006\",\"2007\",\"2008\",\"2009\",\"2010\",\"2011\",\"2012\",\"2013\",\"2014\",\"2015\",\"2016\",\"2017\"],\"y\":[16.02606192520864,16.270773333279084,16.606876788025307,16.74535026220969,16.656448375078725,16.13405944602225,15.331780508336847,14.527816819573228,13.806451647166279,13.227587976590945,12.752576312725115,12.323216723695218,11.983420331424563,11.624874868210318,11.27625760481156,10.9695925016704,10.831636605682938,10.76640933924249]},\"selected\":{\"id\":\"9478\",\"type\":\"Selection\"},\"selection_policy\":{\"id\":\"9479\",\"type\":\"UnionRenderers\"}},\"id\":\"9456\",\"type\":\"ColumnDataSource\"},{\"attributes\":{},\"id\":\"9477\",\"type\":\"UnionRenderers\"},{\"attributes\":{},\"id\":\"9395\",\"type\":\"LinearScale\"},{\"attributes\":{},\"id\":\"9413\",\"type\":\"ResetTool\"},{\"attributes\":{\"callback\":null,\"data\":{\"x\":[\"2000\",\"2001\",\"2002\",\"2003\",\"2004\",\"2005\",\"2006\",\"2007\",\"2008\",\"2009\",\"2010\",\"2011\",\"2012\",\"2013\",\"2014\",\"2015\",\"2016\",\"2017\"],\"y\":[34.296690006630136,32.8968410303035,31.79773886292999,30.5686122583698,29.40060625275987,28.197830907824812,27.181161548902693,26.25402759144791,25.398866265707913,24.5963903225063,23.970161747111305,23.43052018307879,23.050821983980665,22.705763685275056,22.47210274575761,22.469255784991716,22.563852846171923,22.65045794352939]},\"selected\":{\"id\":\"9453\",\"type\":\"Selection\"},\"selection_policy\":{\"id\":\"9454\",\"type\":\"UnionRenderers\"}},\"id\":\"9435\",\"type\":\"ColumnDataSource\"},{\"attributes\":{},\"id\":\"9479\",\"type\":\"UnionRenderers\"},{\"attributes\":{},\"id\":\"9397\",\"type\":\"LinearScale\"},{\"attributes\":{\"fill_color\":{\"value\":\"#5430F1\"},\"line_color\":{\"value\":\"#5430F1\"},\"size\":{\"units\":\"screen\",\"value\":1},\"x\":{\"field\":\"x\"},\"y\":{\"field\":\"y\"}},\"id\":\"9457\",\"type\":\"Circle\"},{\"attributes\":{},\"id\":\"9414\",\"type\":\"HelpTool\"},{\"attributes\":{\"fill_color\":{\"value\":\"#FA1857\"},\"line_color\":{\"value\":\"#FA1857\"},\"size\":{\"units\":\"screen\",\"value\":1},\"x\":{\"field\":\"x\"},\"y\":{\"field\":\"y\"}},\"id\":\"9436\",\"type\":\"Circle\"},{\"attributes\":{\"label\":{\"value\":\"OECD\"},\"renderers\":[{\"id\":\"9464\",\"type\":\"GlyphRenderer\"}]},\"id\":\"9480\",\"type\":\"LegendItem\"},{\"attributes\":{},\"id\":\"9400\",\"type\":\"BasicTicker\"},{\"attributes\":{\"axis_label\":\"Years\",\"formatter\":{\"id\":\"9429\",\"type\":\"BasicTickFormatter\"},\"ticker\":{\"id\":\"9400\",\"type\":\"BasicTicker\"}},\"id\":\"9399\",\"type\":\"LinearAxis\"},{\"attributes\":{\"fill_alpha\":{\"value\":0.1},\"fill_color\":{\"value\":\"#1f77b4\"},\"line_alpha\":{\"value\":0.1},\"line_color\":{\"value\":\"#1f77b4\"},\"size\":{\"units\":\"screen\",\"value\":1},\"x\":{\"field\":\"x\"},\"y\":{\"field\":\"y\"}},\"id\":\"9458\",\"type\":\"Circle\"},{\"attributes\":{\"active_drag\":\"auto\",\"active_inspect\":\"auto\",\"active_multi\":null,\"active_scroll\":\"auto\",\"active_tap\":\"auto\",\"tools\":[{\"id\":\"9409\",\"type\":\"PanTool\"},{\"id\":\"9410\",\"type\":\"WheelZoomTool\"},{\"id\":\"9411\",\"type\":\"BoxZoomTool\"},{\"id\":\"9412\",\"type\":\"SaveTool\"},{\"id\":\"9413\",\"type\":\"ResetTool\"},{\"id\":\"9414\",\"type\":\"HelpTool\"},{\"id\":\"9486\",\"type\":\"HoverTool\"}]},\"id\":\"9415\",\"type\":\"Toolbar\"},{\"attributes\":{\"fill_alpha\":{\"value\":0.1},\"fill_color\":{\"value\":\"#1f77b4\"},\"line_alpha\":{\"value\":0.1},\"line_color\":{\"value\":\"#1f77b4\"},\"size\":{\"units\":\"screen\",\"value\":1},\"x\":{\"field\":\"x\"},\"y\":{\"field\":\"y\"}},\"id\":\"9437\",\"type\":\"Circle\"},{\"attributes\":{\"fill_color\":{\"value\":\"#2CC775\"},\"line_color\":{\"value\":\"#2CC775\"},\"size\":{\"units\":\"screen\",\"value\":1},\"x\":{\"field\":\"x\"},\"y\":{\"field\":\"y\"}},\"id\":\"9482\",\"type\":\"Circle\"},{\"attributes\":{\"callback\":null,\"data\":{\"x\":[\"2000\",\"2001\",\"2002\",\"2003\",\"2004\",\"2005\",\"2006\",\"2007\",\"2008\",\"2009\",\"2010\",\"2011\",\"2012\",\"2013\",\"2014\",\"2015\",\"2016\",\"2017\"],\"y\":[2.717504233905171,2.7154866043270727,2.7462604986550527,2.806001725421847,2.83058646052991,2.80349980744469,2.7583374960640157,2.7328716945985123,2.734358102618147,2.734445239277997,2.724690515681557,2.7229922593698563,2.711802941232593,2.6925433317980856,2.671440686153528,2.648991920011479,2.6258157949200918,2.613168165844644]},\"selected\":{\"id\":\"9875\",\"type\":\"Selection\"},\"selection_policy\":{\"id\":\"9876\",\"type\":\"UnionRenderers\"}},\"id\":\"9481\",\"type\":\"ColumnDataSource\"},{\"attributes\":{\"line_color\":\"#FA1857\",\"line_width\":3,\"x\":{\"field\":\"x\"},\"y\":{\"field\":\"y\"}},\"id\":\"9423\",\"type\":\"Line\"},{\"attributes\":{\"data_source\":{\"id\":\"9481\",\"type\":\"ColumnDataSource\"},\"glyph\":{\"id\":\"9482\",\"type\":\"Circle\"},\"hover_glyph\":null,\"muted_glyph\":null,\"nonselection_glyph\":{\"id\":\"9483\",\"type\":\"Circle\"},\"selection_glyph\":null,\"view\":{\"id\":\"9485\",\"type\":\"CDSView\"}},\"id\":\"9484\",\"type\":\"GlyphRenderer\"},{\"attributes\":{\"data_source\":{\"id\":\"9435\",\"type\":\"ColumnDataSource\"},\"glyph\":{\"id\":\"9436\",\"type\":\"Circle\"},\"hover_glyph\":null,\"muted_glyph\":null,\"nonselection_glyph\":{\"id\":\"9437\",\"type\":\"Circle\"},\"selection_glyph\":null,\"view\":{\"id\":\"9439\",\"type\":\"CDSView\"}},\"id\":\"9438\",\"type\":\"GlyphRenderer\"},{\"attributes\":{\"data_source\":{\"id\":\"9456\",\"type\":\"ColumnDataSource\"},\"glyph\":{\"id\":\"9457\",\"type\":\"Circle\"},\"hover_glyph\":null,\"muted_glyph\":null,\"nonselection_glyph\":{\"id\":\"9458\",\"type\":\"Circle\"},\"selection_glyph\":null,\"view\":{\"id\":\"9460\",\"type\":\"CDSView\"}},\"id\":\"9459\",\"type\":\"GlyphRenderer\"},{\"attributes\":{\"line_alpha\":0.1,\"line_color\":\"#1f77b4\",\"line_width\":3,\"x\":{\"field\":\"x\"},\"y\":{\"field\":\"y\"}},\"id\":\"9424\",\"type\":\"Line\"},{\"attributes\":{\"data_source\":{\"id\":\"9440\",\"type\":\"ColumnDataSource\"},\"glyph\":{\"id\":\"9441\",\"type\":\"Line\"},\"hover_glyph\":null,\"muted_glyph\":null,\"nonselection_glyph\":{\"id\":\"9442\",\"type\":\"Line\"},\"selection_glyph\":null,\"view\":{\"id\":\"9444\",\"type\":\"CDSView\"}},\"id\":\"9443\",\"type\":\"GlyphRenderer\"},{\"attributes\":{\"fill_alpha\":{\"value\":0.1},\"fill_color\":{\"value\":\"#1f77b4\"},\"line_alpha\":{\"value\":0.1},\"line_color\":{\"value\":\"#1f77b4\"},\"size\":{\"units\":\"screen\",\"value\":1},\"x\":{\"field\":\"x\"},\"y\":{\"field\":\"y\"}},\"id\":\"9483\",\"type\":\"Circle\"},{\"attributes\":{},\"id\":\"9405\",\"type\":\"BasicTicker\"},{\"attributes\":{\"source\":{\"id\":\"9481\",\"type\":\"ColumnDataSource\"}},\"id\":\"9485\",\"type\":\"CDSView\"},{\"attributes\":{\"line_alpha\":0.1,\"line_color\":\"#1f77b4\",\"line_width\":3,\"x\":{\"field\":\"x\"},\"y\":{\"field\":\"y\"}},\"id\":\"9442\",\"type\":\"Line\"},{\"attributes\":{\"data_source\":{\"id\":\"9422\",\"type\":\"ColumnDataSource\"},\"glyph\":{\"id\":\"9423\",\"type\":\"Line\"},\"hover_glyph\":null,\"muted_glyph\":null,\"nonselection_glyph\":{\"id\":\"9424\",\"type\":\"Line\"},\"selection_glyph\":null,\"view\":{\"id\":\"9426\",\"type\":\"CDSView\"}},\"id\":\"9425\",\"type\":\"GlyphRenderer\"},{\"attributes\":{\"source\":{\"id\":\"9456\",\"type\":\"ColumnDataSource\"}},\"id\":\"9460\",\"type\":\"CDSView\"},{\"attributes\":{},\"id\":\"9873\",\"type\":\"Selection\"},{\"attributes\":{\"source\":{\"id\":\"9440\",\"type\":\"ColumnDataSource\"}},\"id\":\"9444\",\"type\":\"CDSView\"},{\"attributes\":{\"source\":{\"id\":\"9422\",\"type\":\"ColumnDataSource\"}},\"id\":\"9426\",\"type\":\"CDSView\"},{\"attributes\":{},\"id\":\"9875\",\"type\":\"Selection\"},{\"attributes\":{\"dimension\":1,\"grid_line_alpha\":0.5,\"ticker\":{\"id\":\"9405\",\"type\":\"BasicTicker\"}},\"id\":\"9408\",\"type\":\"Grid\"},{\"attributes\":{},\"id\":\"9409\",\"type\":\"PanTool\"},{\"attributes\":{},\"id\":\"9452\",\"type\":\"UnionRenderers\"},{\"attributes\":{\"callback\":null,\"data\":{\"x\":[\"2000\",\"2001\",\"2002\",\"2003\",\"2004\",\"2005\",\"2006\",\"2007\",\"2008\",\"2009\",\"2010\",\"2011\",\"2012\",\"2013\",\"2014\",\"2015\",\"2016\",\"2017\"],\"y\":[34.296690006630136,32.8968410303035,31.79773886292999,30.5686122583698,29.40060625275987,28.197830907824812,27.181161548902693,26.25402759144791,25.398866265707913,24.5963903225063,23.970161747111305,23.43052018307879,23.050821983980665,22.705763685275056,22.47210274575761,22.469255784991716,22.563852846171923,22.65045794352939]},\"selected\":{\"id\":\"9451\",\"type\":\"Selection\"},\"selection_policy\":{\"id\":\"9452\",\"type\":\"UnionRenderers\"}},\"id\":\"9422\",\"type\":\"ColumnDataSource\"},{\"attributes\":{\"callback\":null,\"data\":{\"x\":[\"2000\",\"2001\",\"2002\",\"2003\",\"2004\",\"2005\",\"2006\",\"2007\",\"2008\",\"2009\",\"2010\",\"2011\",\"2012\",\"2013\",\"2014\",\"2015\",\"2016\",\"2017\"],\"y\":[2.717504233905171,2.7154866043270727,2.7462604986550527,2.806001725421847,2.83058646052991,2.80349980744469,2.7583374960640157,2.7328716945985123,2.734358102618147,2.734445239277997,2.724690515681557,2.7229922593698563,2.711802941232593,2.6925433317980856,2.671440686153528,2.648991920011479,2.6258157949200918,2.613168165844644]},\"selected\":{\"id\":\"9873\",\"type\":\"Selection\"},\"selection_policy\":{\"id\":\"9874\",\"type\":\"UnionRenderers\"}},\"id\":\"9461\",\"type\":\"ColumnDataSource\"},{\"attributes\":{},\"id\":\"9874\",\"type\":\"UnionRenderers\"},{\"attributes\":{\"callback\":null,\"tooltips\":\"                \\n        <div style=padding=5px>Year:@x</div>\\n        <div style=padding=5px>Value:@y</div>        \\n        \"},\"id\":\"9486\",\"type\":\"HoverTool\"},{\"attributes\":{},\"id\":\"9451\",\"type\":\"Selection\"},{\"attributes\":{},\"id\":\"9410\",\"type\":\"WheelZoomTool\"},{\"attributes\":{},\"id\":\"9876\",\"type\":\"UnionRenderers\"},{\"attributes\":{},\"id\":\"9453\",\"type\":\"Selection\"},{\"attributes\":{\"line_color\":\"#2CC775\",\"line_width\":3,\"x\":{\"field\":\"x\"},\"y\":{\"field\":\"y\"}},\"id\":\"9462\",\"type\":\"Line\"},{\"attributes\":{},\"id\":\"9429\",\"type\":\"BasicTickFormatter\"}],\"root_ids\":[\"9388\"]},\"title\":\"Bokeh Application\",\"version\":\"1.3.4\"}};\n",
       "  var render_items = [{\"docid\":\"77777073-b42d-4173-a05d-b177d40ba0e5\",\"roots\":{\"9388\":\"12b85074-a628-48b0-804a-0a55f65c8992\"}}];\n",
       "  root.Bokeh.embed.embed_items_notebook(docs_json, render_items);\n",
       "\n",
       "  }\n",
       "  if (root.Bokeh !== undefined) {\n",
       "    embed_document(root);\n",
       "  } else {\n",
       "    var attempts = 0;\n",
       "    var timer = setInterval(function(root) {\n",
       "      if (root.Bokeh !== undefined) {\n",
       "        embed_document(root);\n",
       "        clearInterval(timer);\n",
       "      }\n",
       "      attempts++;\n",
       "      if (attempts > 100) {\n",
       "        console.log(\"Bokeh: ERROR: Unable to run BokehJS code because BokehJS library is missing\");\n",
       "        clearInterval(timer);\n",
       "      }\n",
       "    }, 10, root)\n",
       "  }\n",
       "})(window);"
      ],
      "application/vnd.bokehjs_exec.v0+json": ""
     },
     "metadata": {
      "application/vnd.bokehjs_exec.v0+json": {
       "id": "9388"
      }
     },
     "output_type": "display_data"
    }
   ],
   "source": [
    "# Prevalence of undernourishment (% of population)\n",
    "years = list(map(str, list(range(2000,2018))))\n",
    "result = show_weighted_average(years, 'SN.ITK.DEFC.ZS', 'SP.POP.TOTL', \n",
    "                               ['LDCs', 'Developing excluding LDCs', 'OECD'], \n",
    "                                height=400, width=1000, line_width=3)"
   ]
  },
  {
   "cell_type": "code",
   "execution_count": 29,
   "metadata": {
    "ExecuteTime": {
     "end_time": "2019-10-25T14:25:03.855925Z",
     "start_time": "2019-10-25T14:24:58.886407Z"
    },
    "slideshow": {
     "slide_type": "slide"
    }
   },
   "outputs": [
    {
     "data": {
      "text/html": [
       "\n",
       "\n",
       "\n",
       "\n",
       "\n",
       "\n",
       "  <div class=\"bk-root\" id=\"0d75c95e-9cbc-4716-a124-517d20897821\" data-root-id=\"9985\"></div>\n"
      ]
     },
     "metadata": {},
     "output_type": "display_data"
    },
    {
     "data": {
      "application/javascript": [
       "(function(root) {\n",
       "  function embed_document(root) {\n",
       "    \n",
       "  var docs_json = {\"9834b6b1-c43c-449a-93a2-d84189542f64\":{\"roots\":{\"references\":[{\"attributes\":{\"below\":[{\"id\":\"9996\",\"type\":\"LinearAxis\"}],\"center\":[{\"id\":\"10000\",\"type\":\"Grid\"},{\"id\":\"10005\",\"type\":\"Grid\"},{\"id\":\"10030\",\"type\":\"Legend\"}],\"left\":[{\"id\":\"10001\",\"type\":\"LinearAxis\"}],\"plot_height\":400,\"plot_width\":1000,\"renderers\":[{\"id\":\"10022\",\"type\":\"GlyphRenderer\"},{\"id\":\"10035\",\"type\":\"GlyphRenderer\"},{\"id\":\"10040\",\"type\":\"GlyphRenderer\"},{\"id\":\"10056\",\"type\":\"GlyphRenderer\"},{\"id\":\"10061\",\"type\":\"GlyphRenderer\"},{\"id\":\"10081\",\"type\":\"GlyphRenderer\"}],\"title\":{\"id\":\"9986\",\"type\":\"Title\"},\"toolbar\":{\"id\":\"10012\",\"type\":\"Toolbar\"},\"x_range\":{\"id\":\"9988\",\"type\":\"DataRange1d\"},\"x_scale\":{\"id\":\"9992\",\"type\":\"LinearScale\"},\"y_range\":{\"id\":\"9990\",\"type\":\"DataRange1d\"},\"y_scale\":{\"id\":\"9994\",\"type\":\"LinearScale\"}},\"id\":\"9985\",\"subtype\":\"Figure\",\"type\":\"Plot\"},{\"attributes\":{},\"id\":\"10050\",\"type\":\"Selection\"},{\"attributes\":{\"data_source\":{\"id\":\"10053\",\"type\":\"ColumnDataSource\"},\"glyph\":{\"id\":\"10054\",\"type\":\"Circle\"},\"hover_glyph\":null,\"muted_glyph\":null,\"nonselection_glyph\":{\"id\":\"10055\",\"type\":\"Circle\"},\"selection_glyph\":null,\"view\":{\"id\":\"10057\",\"type\":\"CDSView\"}},\"id\":\"10056\",\"type\":\"GlyphRenderer\"},{\"attributes\":{\"text\":\"Food imports (% of merchandise imports) weighted against Merchandise imports (current US$)\"},\"id\":\"9986\",\"type\":\"Title\"},{\"attributes\":{},\"id\":\"9997\",\"type\":\"BasicTicker\"},{\"attributes\":{},\"id\":\"10026\",\"type\":\"BasicTickFormatter\"},{\"attributes\":{\"source\":{\"id\":\"10032\",\"type\":\"ColumnDataSource\"}},\"id\":\"10036\",\"type\":\"CDSView\"},{\"attributes\":{\"callback\":null,\"data\":{\"x\":[\"2000\",\"2001\",\"2002\",\"2003\",\"2004\",\"2005\",\"2006\",\"2007\",\"2008\",\"2009\",\"2010\",\"2011\",\"2012\",\"2013\",\"2014\",\"2015\",\"2016\",\"2017\"],\"y\":[17.473674203541137,16.380118773051816,16.47513346649186,18.08613953149967,16.78490129479693,16.007482051291397,15.313322308226102,15.983622760588208,15.681066764755263,16.22610041134688,16.154563828357762,16.562353136179336,15.178298854466885,14.75804992134933,14.9560562510018,14.784916706699187,15.752772028130035,16.792717806787888]},\"selected\":{\"id\":\"10048\",\"type\":\"Selection\"},\"selection_policy\":{\"id\":\"10049\",\"type\":\"UnionRenderers\"}},\"id\":\"10019\",\"type\":\"ColumnDataSource\"},{\"attributes\":{},\"id\":\"10010\",\"type\":\"ResetTool\"},{\"attributes\":{},\"id\":\"10049\",\"type\":\"UnionRenderers\"},{\"attributes\":{},\"id\":\"10074\",\"type\":\"UnionRenderers\"},{\"attributes\":{\"fill_alpha\":{\"value\":0.1},\"fill_color\":{\"value\":\"#1f77b4\"},\"line_alpha\":{\"value\":0.1},\"line_color\":{\"value\":\"#1f77b4\"},\"size\":{\"units\":\"screen\",\"value\":1},\"x\":{\"field\":\"x\"},\"y\":{\"field\":\"y\"}},\"id\":\"10055\",\"type\":\"Circle\"},{\"attributes\":{\"axis_label\":\"Years\",\"formatter\":{\"id\":\"10026\",\"type\":\"BasicTickFormatter\"},\"ticker\":{\"id\":\"9997\",\"type\":\"BasicTicker\"}},\"id\":\"9996\",\"type\":\"LinearAxis\"},{\"attributes\":{\"data_source\":{\"id\":\"10032\",\"type\":\"ColumnDataSource\"},\"glyph\":{\"id\":\"10033\",\"type\":\"Circle\"},\"hover_glyph\":null,\"muted_glyph\":null,\"nonselection_glyph\":{\"id\":\"10034\",\"type\":\"Circle\"},\"selection_glyph\":null,\"view\":{\"id\":\"10036\",\"type\":\"CDSView\"}},\"id\":\"10035\",\"type\":\"GlyphRenderer\"},{\"attributes\":{\"source\":{\"id\":\"10019\",\"type\":\"ColumnDataSource\"}},\"id\":\"10023\",\"type\":\"CDSView\"},{\"attributes\":{},\"id\":\"10028\",\"type\":\"BasicTickFormatter\"},{\"attributes\":{},\"id\":\"10009\",\"type\":\"SaveTool\"},{\"attributes\":{},\"id\":\"10048\",\"type\":\"Selection\"},{\"attributes\":{},\"id\":\"10073\",\"type\":\"Selection\"},{\"attributes\":{},\"id\":\"9994\",\"type\":\"LinearScale\"},{\"attributes\":{\"data_source\":{\"id\":\"10078\",\"type\":\"ColumnDataSource\"},\"glyph\":{\"id\":\"10079\",\"type\":\"Circle\"},\"hover_glyph\":null,\"muted_glyph\":null,\"nonselection_glyph\":{\"id\":\"10080\",\"type\":\"Circle\"},\"selection_glyph\":null,\"view\":{\"id\":\"10082\",\"type\":\"CDSView\"}},\"id\":\"10081\",\"type\":\"GlyphRenderer\"},{\"attributes\":{\"fill_alpha\":{\"value\":0.1},\"fill_color\":{\"value\":\"#1f77b4\"},\"line_alpha\":{\"value\":0.1},\"line_color\":{\"value\":\"#1f77b4\"},\"size\":{\"units\":\"screen\",\"value\":1},\"x\":{\"field\":\"x\"},\"y\":{\"field\":\"y\"}},\"id\":\"10034\",\"type\":\"Circle\"},{\"attributes\":{\"overlay\":{\"id\":\"10029\",\"type\":\"BoxAnnotation\"}},\"id\":\"10008\",\"type\":\"BoxZoomTool\"},{\"attributes\":{\"source\":{\"id\":\"10037\",\"type\":\"ColumnDataSource\"}},\"id\":\"10041\",\"type\":\"CDSView\"},{\"attributes\":{\"source\":{\"id\":\"10058\",\"type\":\"ColumnDataSource\"}},\"id\":\"10062\",\"type\":\"CDSView\"},{\"attributes\":{\"data_source\":{\"id\":\"10019\",\"type\":\"ColumnDataSource\"},\"glyph\":{\"id\":\"10020\",\"type\":\"Line\"},\"hover_glyph\":null,\"muted_glyph\":null,\"nonselection_glyph\":{\"id\":\"10021\",\"type\":\"Line\"},\"selection_glyph\":null,\"view\":{\"id\":\"10023\",\"type\":\"CDSView\"}},\"id\":\"10022\",\"type\":\"GlyphRenderer\"},{\"attributes\":{\"fill_alpha\":{\"value\":0.1},\"fill_color\":{\"value\":\"#1f77b4\"},\"line_alpha\":{\"value\":0.1},\"line_color\":{\"value\":\"#1f77b4\"},\"size\":{\"units\":\"screen\",\"value\":1},\"x\":{\"field\":\"x\"},\"y\":{\"field\":\"y\"}},\"id\":\"10080\",\"type\":\"Circle\"},{\"attributes\":{},\"id\":\"10491\",\"type\":\"UnionRenderers\"},{\"attributes\":{\"fill_color\":{\"value\":\"#FA1857\"},\"line_color\":{\"value\":\"#FA1857\"},\"size\":{\"units\":\"screen\",\"value\":1},\"x\":{\"field\":\"x\"},\"y\":{\"field\":\"y\"}},\"id\":\"10033\",\"type\":\"Circle\"},{\"attributes\":{},\"id\":\"10007\",\"type\":\"WheelZoomTool\"},{\"attributes\":{\"data_source\":{\"id\":\"10058\",\"type\":\"ColumnDataSource\"},\"glyph\":{\"id\":\"10059\",\"type\":\"Line\"},\"hover_glyph\":null,\"muted_glyph\":null,\"nonselection_glyph\":{\"id\":\"10060\",\"type\":\"Line\"},\"selection_glyph\":null,\"view\":{\"id\":\"10062\",\"type\":\"CDSView\"}},\"id\":\"10061\",\"type\":\"GlyphRenderer\"},{\"attributes\":{\"data_source\":{\"id\":\"10037\",\"type\":\"ColumnDataSource\"},\"glyph\":{\"id\":\"10038\",\"type\":\"Line\"},\"hover_glyph\":null,\"muted_glyph\":null,\"nonselection_glyph\":{\"id\":\"10039\",\"type\":\"Line\"},\"selection_glyph\":null,\"view\":{\"id\":\"10041\",\"type\":\"CDSView\"}},\"id\":\"10040\",\"type\":\"GlyphRenderer\"},{\"attributes\":{\"callback\":null,\"tooltips\":\"                \\n        <div style=padding=5px>Year:@x</div>\\n        <div style=padding=5px>Value:@y</div>        \\n        \"},\"id\":\"10083\",\"type\":\"HoverTool\"},{\"attributes\":{\"active_drag\":\"auto\",\"active_inspect\":\"auto\",\"active_multi\":null,\"active_scroll\":\"auto\",\"active_tap\":\"auto\",\"tools\":[{\"id\":\"10006\",\"type\":\"PanTool\"},{\"id\":\"10007\",\"type\":\"WheelZoomTool\"},{\"id\":\"10008\",\"type\":\"BoxZoomTool\"},{\"id\":\"10009\",\"type\":\"SaveTool\"},{\"id\":\"10010\",\"type\":\"ResetTool\"},{\"id\":\"10011\",\"type\":\"HelpTool\"},{\"id\":\"10083\",\"type\":\"HoverTool\"}]},\"id\":\"10012\",\"type\":\"Toolbar\"},{\"attributes\":{\"fill_color\":{\"value\":\"#2CC775\"},\"line_color\":{\"value\":\"#2CC775\"},\"size\":{\"units\":\"screen\",\"value\":1},\"x\":{\"field\":\"x\"},\"y\":{\"field\":\"y\"}},\"id\":\"10079\",\"type\":\"Circle\"},{\"attributes\":{},\"id\":\"10490\",\"type\":\"Selection\"},{\"attributes\":{\"callback\":null,\"data\":{\"x\":[\"2000\",\"2001\",\"2002\",\"2003\",\"2004\",\"2005\",\"2006\",\"2007\",\"2008\",\"2009\",\"2010\",\"2011\",\"2012\",\"2013\",\"2014\",\"2015\",\"2016\",\"2017\"],\"y\":[17.473674203541137,16.380118773051816,16.47513346649186,18.08613953149967,16.78490129479693,16.007482051291397,15.313322308226102,15.983622760588208,15.681066764755263,16.22610041134688,16.154563828357762,16.562353136179336,15.178298854466885,14.75804992134933,14.9560562510018,14.784916706699187,15.752772028130035,16.792717806787888]},\"selected\":{\"id\":\"10050\",\"type\":\"Selection\"},\"selection_policy\":{\"id\":\"10051\",\"type\":\"UnionRenderers\"}},\"id\":\"10032\",\"type\":\"ColumnDataSource\"},{\"attributes\":{\"dimension\":1,\"grid_line_alpha\":0.5,\"ticker\":{\"id\":\"10002\",\"type\":\"BasicTicker\"}},\"id\":\"10005\",\"type\":\"Grid\"},{\"attributes\":{},\"id\":\"10006\",\"type\":\"PanTool\"},{\"attributes\":{\"line_alpha\":0.1,\"line_color\":\"#1f77b4\",\"line_width\":3,\"x\":{\"field\":\"x\"},\"y\":{\"field\":\"y\"}},\"id\":\"10060\",\"type\":\"Line\"},{\"attributes\":{\"fill_color\":{\"value\":\"#5430F1\"},\"line_color\":{\"value\":\"#5430F1\"},\"size\":{\"units\":\"screen\",\"value\":1},\"x\":{\"field\":\"x\"},\"y\":{\"field\":\"y\"}},\"id\":\"10054\",\"type\":\"Circle\"},{\"attributes\":{\"callback\":null,\"data\":{\"x\":[\"2000\",\"2001\",\"2002\",\"2003\",\"2004\",\"2005\",\"2006\",\"2007\",\"2008\",\"2009\",\"2010\",\"2011\",\"2012\",\"2013\",\"2014\",\"2015\",\"2016\",\"2017\"],\"y\":[6.664750789193946,7.14260825773659,7.454785931920459,7.5069480358449825,7.061134298970307,6.798358087904257,6.463499051640063,6.724561457383378,7.076831863705094,8.259612794934673,7.468578257026923,7.615305901349119,7.570593882649795,7.890298170268733,7.995508600894686,8.359319653572543,8.569945562785916,8.425056582808882]},\"selected\":{\"id\":\"10490\",\"type\":\"Selection\"},\"selection_policy\":{\"id\":\"10491\",\"type\":\"UnionRenderers\"}},\"id\":\"10078\",\"type\":\"ColumnDataSource\"},{\"attributes\":{\"label\":{\"value\":\"LDCs\"},\"renderers\":[{\"id\":\"10022\",\"type\":\"GlyphRenderer\"}]},\"id\":\"10031\",\"type\":\"LegendItem\"},{\"attributes\":{},\"id\":\"10489\",\"type\":\"UnionRenderers\"},{\"attributes\":{},\"id\":\"10002\",\"type\":\"BasicTicker\"},{\"attributes\":{\"line_color\":\"#2CC775\",\"line_width\":3,\"x\":{\"field\":\"x\"},\"y\":{\"field\":\"y\"}},\"id\":\"10059\",\"type\":\"Line\"},{\"attributes\":{\"callback\":null,\"data\":{\"x\":[\"2000\",\"2001\",\"2002\",\"2003\",\"2004\",\"2005\",\"2006\",\"2007\",\"2008\",\"2009\",\"2010\",\"2011\",\"2012\",\"2013\",\"2014\",\"2015\",\"2016\",\"2017\"],\"y\":[6.67838532122474,7.066966145061542,6.889353323332191,6.655588423229744,6.203546783341963,5.6363019320072345,5.349287409558019,5.9381576157577065,6.354971423643562,6.88697962812065,6.44811794037661,6.779580388013174,6.758180775464634,6.834941707698121,7.185358680561078,7.821629436531289,8.043040894368179,8.132975934296237]},\"selected\":{\"id\":\"10075\",\"type\":\"Selection\"},\"selection_policy\":{\"id\":\"10076\",\"type\":\"UnionRenderers\"}},\"id\":\"10053\",\"type\":\"ColumnDataSource\"},{\"attributes\":{\"items\":[{\"id\":\"10031\",\"type\":\"LegendItem\"},{\"id\":\"10052\",\"type\":\"LegendItem\"},{\"id\":\"10077\",\"type\":\"LegendItem\"}],\"location\":\"bottom_left\"},\"id\":\"10030\",\"type\":\"Legend\"},{\"attributes\":{},\"id\":\"9992\",\"type\":\"LinearScale\"},{\"attributes\":{\"label\":{\"value\":\"OECD\"},\"renderers\":[{\"id\":\"10061\",\"type\":\"GlyphRenderer\"}]},\"id\":\"10077\",\"type\":\"LegendItem\"},{\"attributes\":{\"line_color\":\"#FA1857\",\"line_width\":3,\"x\":{\"field\":\"x\"},\"y\":{\"field\":\"y\"}},\"id\":\"10020\",\"type\":\"Line\"},{\"attributes\":{\"line_alpha\":0.1,\"line_color\":\"#1f77b4\",\"line_width\":3,\"x\":{\"field\":\"x\"},\"y\":{\"field\":\"y\"}},\"id\":\"10039\",\"type\":\"Line\"},{\"attributes\":{},\"id\":\"10488\",\"type\":\"Selection\"},{\"attributes\":{\"axis_label\":\"TM.VAL.FOOD.ZS.UN\",\"formatter\":{\"id\":\"10028\",\"type\":\"BasicTickFormatter\"},\"ticker\":{\"id\":\"10002\",\"type\":\"BasicTicker\"}},\"id\":\"10001\",\"type\":\"LinearAxis\"},{\"attributes\":{\"callback\":null,\"data\":{\"x\":[\"2000\",\"2001\",\"2002\",\"2003\",\"2004\",\"2005\",\"2006\",\"2007\",\"2008\",\"2009\",\"2010\",\"2011\",\"2012\",\"2013\",\"2014\",\"2015\",\"2016\",\"2017\"],\"y\":[6.664750789193946,7.14260825773659,7.454785931920459,7.5069480358449825,7.061134298970307,6.798358087904257,6.463499051640063,6.724561457383378,7.076831863705094,8.259612794934673,7.468578257026923,7.615305901349119,7.570593882649795,7.890298170268733,7.995508600894686,8.359319653572543,8.569945562785916,8.425056582808882]},\"selected\":{\"id\":\"10488\",\"type\":\"Selection\"},\"selection_policy\":{\"id\":\"10489\",\"type\":\"UnionRenderers\"}},\"id\":\"10058\",\"type\":\"ColumnDataSource\"},{\"attributes\":{\"source\":{\"id\":\"10078\",\"type\":\"ColumnDataSource\"}},\"id\":\"10082\",\"type\":\"CDSView\"},{\"attributes\":{\"label\":{\"value\":\"Developing excluding LDCs\"},\"renderers\":[{\"id\":\"10040\",\"type\":\"GlyphRenderer\"}]},\"id\":\"10052\",\"type\":\"LegendItem\"},{\"attributes\":{},\"id\":\"10075\",\"type\":\"Selection\"},{\"attributes\":{\"callback\":null},\"id\":\"9990\",\"type\":\"DataRange1d\"},{\"attributes\":{\"line_color\":\"#5430F1\",\"line_width\":3,\"x\":{\"field\":\"x\"},\"y\":{\"field\":\"y\"}},\"id\":\"10038\",\"type\":\"Line\"},{\"attributes\":{\"grid_line_color\":null,\"ticker\":{\"id\":\"9997\",\"type\":\"BasicTicker\"}},\"id\":\"10000\",\"type\":\"Grid\"},{\"attributes\":{\"bottom_units\":\"screen\",\"fill_alpha\":{\"value\":0.5},\"fill_color\":{\"value\":\"lightgrey\"},\"left_units\":\"screen\",\"level\":\"overlay\",\"line_alpha\":{\"value\":1.0},\"line_color\":{\"value\":\"black\"},\"line_dash\":[4,4],\"line_width\":{\"value\":2},\"render_mode\":\"css\",\"right_units\":\"screen\",\"top_units\":\"screen\"},\"id\":\"10029\",\"type\":\"BoxAnnotation\"},{\"attributes\":{},\"id\":\"10076\",\"type\":\"UnionRenderers\"},{\"attributes\":{\"line_alpha\":0.1,\"line_color\":\"#1f77b4\",\"line_width\":3,\"x\":{\"field\":\"x\"},\"y\":{\"field\":\"y\"}},\"id\":\"10021\",\"type\":\"Line\"},{\"attributes\":{\"source\":{\"id\":\"10053\",\"type\":\"ColumnDataSource\"}},\"id\":\"10057\",\"type\":\"CDSView\"},{\"attributes\":{},\"id\":\"10051\",\"type\":\"UnionRenderers\"},{\"attributes\":{\"callback\":null},\"id\":\"9988\",\"type\":\"DataRange1d\"},{\"attributes\":{\"callback\":null,\"data\":{\"x\":[\"2000\",\"2001\",\"2002\",\"2003\",\"2004\",\"2005\",\"2006\",\"2007\",\"2008\",\"2009\",\"2010\",\"2011\",\"2012\",\"2013\",\"2014\",\"2015\",\"2016\",\"2017\"],\"y\":[6.67838532122474,7.066966145061542,6.889353323332191,6.655588423229744,6.203546783341963,5.6363019320072345,5.349287409558019,5.9381576157577065,6.354971423643562,6.88697962812065,6.44811794037661,6.779580388013174,6.758180775464634,6.834941707698121,7.185358680561078,7.821629436531289,8.043040894368179,8.132975934296237]},\"selected\":{\"id\":\"10073\",\"type\":\"Selection\"},\"selection_policy\":{\"id\":\"10074\",\"type\":\"UnionRenderers\"}},\"id\":\"10037\",\"type\":\"ColumnDataSource\"},{\"attributes\":{},\"id\":\"10011\",\"type\":\"HelpTool\"}],\"root_ids\":[\"9985\"]},\"title\":\"Bokeh Application\",\"version\":\"1.3.4\"}};\n",
       "  var render_items = [{\"docid\":\"9834b6b1-c43c-449a-93a2-d84189542f64\",\"roots\":{\"9985\":\"0d75c95e-9cbc-4716-a124-517d20897821\"}}];\n",
       "  root.Bokeh.embed.embed_items_notebook(docs_json, render_items);\n",
       "\n",
       "  }\n",
       "  if (root.Bokeh !== undefined) {\n",
       "    embed_document(root);\n",
       "  } else {\n",
       "    var attempts = 0;\n",
       "    var timer = setInterval(function(root) {\n",
       "      if (root.Bokeh !== undefined) {\n",
       "        embed_document(root);\n",
       "        clearInterval(timer);\n",
       "      }\n",
       "      attempts++;\n",
       "      if (attempts > 100) {\n",
       "        console.log(\"Bokeh: ERROR: Unable to run BokehJS code because BokehJS library is missing\");\n",
       "        clearInterval(timer);\n",
       "      }\n",
       "    }, 10, root)\n",
       "  }\n",
       "})(window);"
      ],
      "application/vnd.bokehjs_exec.v0+json": ""
     },
     "metadata": {
      "application/vnd.bokehjs_exec.v0+json": {
       "id": "9985"
      }
     },
     "output_type": "display_data"
    }
   ],
   "source": [
    "# Food imports as a percentage of merchandise imports\n",
    "years = list(map(str, list(range(2000,2018))))\n",
    "result = show_weighted_average(years, 'TM.VAL.FOOD.ZS.UN', 'TM.VAL.MRCH.CD.WT', \n",
    "                               ['LDCs', 'Developing excluding LDCs', 'OECD'], \n",
    "                                height=400, width=1000, line_width=3)"
   ]
  },
  {
   "cell_type": "code",
   "execution_count": 30,
   "metadata": {
    "ExecuteTime": {
     "end_time": "2019-10-25T14:25:08.896422Z",
     "start_time": "2019-10-25T14:25:03.862619Z"
    },
    "slideshow": {
     "slide_type": "slide"
    }
   },
   "outputs": [
    {
     "data": {
      "text/html": [
       "\n",
       "\n",
       "\n",
       "\n",
       "\n",
       "\n",
       "  <div class=\"bk-root\" id=\"a5ba1a63-4c2c-4270-a3d2-243b5724be1e\" data-root-id=\"10600\"></div>\n"
      ]
     },
     "metadata": {},
     "output_type": "display_data"
    },
    {
     "data": {
      "application/javascript": [
       "(function(root) {\n",
       "  function embed_document(root) {\n",
       "    \n",
       "  var docs_json = {\"f4f26acf-b692-4857-8580-290c070092f4\":{\"roots\":{\"references\":[{\"attributes\":{\"below\":[{\"id\":\"10611\",\"type\":\"LinearAxis\"}],\"center\":[{\"id\":\"10615\",\"type\":\"Grid\"},{\"id\":\"10620\",\"type\":\"Grid\"},{\"id\":\"10645\",\"type\":\"Legend\"}],\"left\":[{\"id\":\"10616\",\"type\":\"LinearAxis\"}],\"plot_height\":400,\"plot_width\":1000,\"renderers\":[{\"id\":\"10637\",\"type\":\"GlyphRenderer\"},{\"id\":\"10650\",\"type\":\"GlyphRenderer\"},{\"id\":\"10655\",\"type\":\"GlyphRenderer\"},{\"id\":\"10671\",\"type\":\"GlyphRenderer\"},{\"id\":\"10676\",\"type\":\"GlyphRenderer\"},{\"id\":\"10696\",\"type\":\"GlyphRenderer\"}],\"title\":{\"id\":\"10601\",\"type\":\"Title\"},\"toolbar\":{\"id\":\"10627\",\"type\":\"Toolbar\"},\"x_range\":{\"id\":\"10603\",\"type\":\"DataRange1d\"},\"x_scale\":{\"id\":\"10607\",\"type\":\"LinearScale\"},\"y_range\":{\"id\":\"10605\",\"type\":\"DataRange1d\"},\"y_scale\":{\"id\":\"10609\",\"type\":\"LinearScale\"}},\"id\":\"10600\",\"subtype\":\"Figure\",\"type\":\"Plot\"},{\"attributes\":{\"fill_alpha\":{\"value\":0.1},\"fill_color\":{\"value\":\"#1f77b4\"},\"line_alpha\":{\"value\":0.1},\"line_color\":{\"value\":\"#1f77b4\"},\"size\":{\"units\":\"screen\",\"value\":1},\"x\":{\"field\":\"x\"},\"y\":{\"field\":\"y\"}},\"id\":\"10649\",\"type\":\"Circle\"},{\"attributes\":{\"source\":{\"id\":\"10693\",\"type\":\"ColumnDataSource\"}},\"id\":\"10697\",\"type\":\"CDSView\"},{\"attributes\":{\"fill_color\":{\"value\":\"#5430F1\"},\"line_color\":{\"value\":\"#5430F1\"},\"size\":{\"units\":\"screen\",\"value\":1},\"x\":{\"field\":\"x\"},\"y\":{\"field\":\"y\"}},\"id\":\"10669\",\"type\":\"Circle\"},{\"attributes\":{\"line_color\":\"#2CC775\",\"line_width\":3,\"x\":{\"field\":\"x\"},\"y\":{\"field\":\"y\"}},\"id\":\"10674\",\"type\":\"Line\"},{\"attributes\":{\"grid_line_color\":null,\"ticker\":{\"id\":\"10612\",\"type\":\"BasicTicker\"}},\"id\":\"10615\",\"type\":\"Grid\"},{\"attributes\":{\"line_alpha\":0.1,\"line_color\":\"#1f77b4\",\"line_width\":3,\"x\":{\"field\":\"x\"},\"y\":{\"field\":\"y\"}},\"id\":\"10636\",\"type\":\"Line\"},{\"attributes\":{\"line_alpha\":0.1,\"line_color\":\"#1f77b4\",\"line_width\":3,\"x\":{\"field\":\"x\"},\"y\":{\"field\":\"y\"}},\"id\":\"10675\",\"type\":\"Line\"},{\"attributes\":{},\"id\":\"10617\",\"type\":\"BasicTicker\"},{\"attributes\":{\"callback\":null,\"tooltips\":\"                \\n        <div style=padding=5px>Year:@x</div>\\n        <div style=padding=5px>Value:@y</div>        \\n        \"},\"id\":\"10698\",\"type\":\"HoverTool\"},{\"attributes\":{\"fill_color\":{\"value\":\"#FA1857\"},\"line_color\":{\"value\":\"#FA1857\"},\"size\":{\"units\":\"screen\",\"value\":1},\"x\":{\"field\":\"x\"},\"y\":{\"field\":\"y\"}},\"id\":\"10648\",\"type\":\"Circle\"},{\"attributes\":{\"callback\":null,\"data\":{\"x\":[\"2000\",\"2001\",\"2002\",\"2003\",\"2004\",\"2005\",\"2006\",\"2007\",\"2008\",\"2009\",\"2010\",\"2011\",\"2012\",\"2013\",\"2014\",\"2015\",\"2016\",\"2017\"],\"y\":[61.112907428435086,60.691447078218324,60.12378233908463,59.83958298619775,59.2886948540458,58.68715381695083,58.034486084007646,57.56646933138067,57.20233508484887,56.901675348262174,56.42641838827256,55.55841766390446,54.541716177965164,54.01071229168338,53.54334284165231,53.11197804583197,52.82467723653058,52.50722323269526]},\"selected\":{\"id\":\"10690\",\"type\":\"Selection\"},\"selection_policy\":{\"id\":\"10691\",\"type\":\"UnionRenderers\"}},\"id\":\"10668\",\"type\":\"ColumnDataSource\"},{\"attributes\":{},\"id\":\"10612\",\"type\":\"BasicTicker\"},{\"attributes\":{\"items\":[{\"id\":\"10646\",\"type\":\"LegendItem\"},{\"id\":\"10667\",\"type\":\"LegendItem\"},{\"id\":\"10692\",\"type\":\"LegendItem\"}],\"location\":\"bottom_left\"},\"id\":\"10645\",\"type\":\"Legend\"},{\"attributes\":{\"data_source\":{\"id\":\"10668\",\"type\":\"ColumnDataSource\"},\"glyph\":{\"id\":\"10669\",\"type\":\"Circle\"},\"hover_glyph\":null,\"muted_glyph\":null,\"nonselection_glyph\":{\"id\":\"10670\",\"type\":\"Circle\"},\"selection_glyph\":null,\"view\":{\"id\":\"10672\",\"type\":\"CDSView\"}},\"id\":\"10671\",\"type\":\"GlyphRenderer\"},{\"attributes\":{\"label\":{\"value\":\"Developing excluding LDCs\"},\"renderers\":[{\"id\":\"10655\",\"type\":\"GlyphRenderer\"}]},\"id\":\"10667\",\"type\":\"LegendItem\"},{\"attributes\":{\"source\":{\"id\":\"10652\",\"type\":\"ColumnDataSource\"}},\"id\":\"10656\",\"type\":\"CDSView\"},{\"attributes\":{},\"id\":\"10688\",\"type\":\"Selection\"},{\"attributes\":{\"axis_label\":\"Years\",\"formatter\":{\"id\":\"10641\",\"type\":\"BasicTickFormatter\"},\"ticker\":{\"id\":\"10612\",\"type\":\"BasicTicker\"}},\"id\":\"10611\",\"type\":\"LinearAxis\"},{\"attributes\":{\"callback\":null,\"data\":{\"x\":[\"2000\",\"2001\",\"2002\",\"2003\",\"2004\",\"2005\",\"2006\",\"2007\",\"2008\",\"2009\",\"2010\",\"2011\",\"2012\",\"2013\",\"2014\",\"2015\",\"2016\",\"2017\"],\"y\":[76.55562066104517,76.37986864337054,76.20491185151087,76.0285482679487,75.82094785929357,75.61511952397093,75.32895405434937,75.01381997539303,74.69307298605345,74.43136697400037,74.07291940189262,73.61967067900957,73.18548775794076,72.8705406679276,72.58557928075658,72.42095588745232,72.24762664827033,71.97617982154789]},\"selected\":{\"id\":\"10665\",\"type\":\"Selection\"},\"selection_policy\":{\"id\":\"10666\",\"type\":\"UnionRenderers\"}},\"id\":\"10647\",\"type\":\"ColumnDataSource\"},{\"attributes\":{\"label\":{\"value\":\"LDCs\"},\"renderers\":[{\"id\":\"10637\",\"type\":\"GlyphRenderer\"}]},\"id\":\"10646\",\"type\":\"LegendItem\"},{\"attributes\":{\"label\":{\"value\":\"OECD\"},\"renderers\":[{\"id\":\"10676\",\"type\":\"GlyphRenderer\"}]},\"id\":\"10692\",\"type\":\"LegendItem\"},{\"attributes\":{\"data_source\":{\"id\":\"10652\",\"type\":\"ColumnDataSource\"},\"glyph\":{\"id\":\"10653\",\"type\":\"Line\"},\"hover_glyph\":null,\"muted_glyph\":null,\"nonselection_glyph\":{\"id\":\"10654\",\"type\":\"Line\"},\"selection_glyph\":null,\"view\":{\"id\":\"10656\",\"type\":\"CDSView\"}},\"id\":\"10655\",\"type\":\"GlyphRenderer\"},{\"attributes\":{\"active_drag\":\"auto\",\"active_inspect\":\"auto\",\"active_multi\":null,\"active_scroll\":\"auto\",\"active_tap\":\"auto\",\"tools\":[{\"id\":\"10621\",\"type\":\"PanTool\"},{\"id\":\"10622\",\"type\":\"WheelZoomTool\"},{\"id\":\"10623\",\"type\":\"BoxZoomTool\"},{\"id\":\"10624\",\"type\":\"SaveTool\"},{\"id\":\"10625\",\"type\":\"ResetTool\"},{\"id\":\"10626\",\"type\":\"HelpTool\"},{\"id\":\"10698\",\"type\":\"HoverTool\"}]},\"id\":\"10627\",\"type\":\"Toolbar\"},{\"attributes\":{},\"id\":\"10666\",\"type\":\"UnionRenderers\"},{\"attributes\":{\"callback\":null,\"data\":{\"x\":[\"2000\",\"2001\",\"2002\",\"2003\",\"2004\",\"2005\",\"2006\",\"2007\",\"2008\",\"2009\",\"2010\",\"2011\",\"2012\",\"2013\",\"2014\",\"2015\",\"2016\",\"2017\"],\"y\":[15.103695797826978,15.131169027337517,14.956404858686836,14.940762682053347,14.834277780762966,14.355494539286878,13.756191814089059,13.46227561311569,13.185720820345873,13.311176143007764,13.205454041812168,13.11874289832326,13.014718113971039,12.888181456404036,12.723579196926023,12.524640395839814,12.37155664238607,12.249551314128]},\"selected\":{\"id\":\"11121\",\"type\":\"Selection\"},\"selection_policy\":{\"id\":\"11122\",\"type\":\"UnionRenderers\"}},\"id\":\"10673\",\"type\":\"ColumnDataSource\"},{\"attributes\":{},\"id\":\"10609\",\"type\":\"LinearScale\"},{\"attributes\":{},\"id\":\"10689\",\"type\":\"UnionRenderers\"},{\"attributes\":{\"data_source\":{\"id\":\"10693\",\"type\":\"ColumnDataSource\"},\"glyph\":{\"id\":\"10694\",\"type\":\"Circle\"},\"hover_glyph\":null,\"muted_glyph\":null,\"nonselection_glyph\":{\"id\":\"10695\",\"type\":\"Circle\"},\"selection_glyph\":null,\"view\":{\"id\":\"10697\",\"type\":\"CDSView\"}},\"id\":\"10696\",\"type\":\"GlyphRenderer\"},{\"attributes\":{},\"id\":\"10643\",\"type\":\"BasicTickFormatter\"},{\"attributes\":{},\"id\":\"10690\",\"type\":\"Selection\"},{\"attributes\":{\"line_alpha\":0.1,\"line_color\":\"#1f77b4\",\"line_width\":3,\"x\":{\"field\":\"x\"},\"y\":{\"field\":\"y\"}},\"id\":\"10654\",\"type\":\"Line\"},{\"attributes\":{\"source\":{\"id\":\"10634\",\"type\":\"ColumnDataSource\"}},\"id\":\"10638\",\"type\":\"CDSView\"},{\"attributes\":{},\"id\":\"10665\",\"type\":\"Selection\"},{\"attributes\":{},\"id\":\"11121\",\"type\":\"Selection\"},{\"attributes\":{\"data_source\":{\"id\":\"10647\",\"type\":\"ColumnDataSource\"},\"glyph\":{\"id\":\"10648\",\"type\":\"Circle\"},\"hover_glyph\":null,\"muted_glyph\":null,\"nonselection_glyph\":{\"id\":\"10649\",\"type\":\"Circle\"},\"selection_glyph\":null,\"view\":{\"id\":\"10651\",\"type\":\"CDSView\"}},\"id\":\"10650\",\"type\":\"GlyphRenderer\"},{\"attributes\":{},\"id\":\"10607\",\"type\":\"LinearScale\"},{\"attributes\":{\"text\":\"Vulnerable employment, total (% of total employment) (modeled ILO estimate) weighted against Population, total\"},\"id\":\"10601\",\"type\":\"Title\"},{\"attributes\":{\"fill_alpha\":{\"value\":0.1},\"fill_color\":{\"value\":\"#1f77b4\"},\"line_alpha\":{\"value\":0.1},\"line_color\":{\"value\":\"#1f77b4\"},\"size\":{\"units\":\"screen\",\"value\":1},\"x\":{\"field\":\"x\"},\"y\":{\"field\":\"y\"}},\"id\":\"10695\",\"type\":\"Circle\"},{\"attributes\":{\"bottom_units\":\"screen\",\"fill_alpha\":{\"value\":0.5},\"fill_color\":{\"value\":\"lightgrey\"},\"left_units\":\"screen\",\"level\":\"overlay\",\"line_alpha\":{\"value\":1.0},\"line_color\":{\"value\":\"black\"},\"line_dash\":[4,4],\"line_width\":{\"value\":2},\"render_mode\":\"css\",\"right_units\":\"screen\",\"top_units\":\"screen\"},\"id\":\"10644\",\"type\":\"BoxAnnotation\"},{\"attributes\":{\"line_color\":\"#5430F1\",\"line_width\":3,\"x\":{\"field\":\"x\"},\"y\":{\"field\":\"y\"}},\"id\":\"10653\",\"type\":\"Line\"},{\"attributes\":{\"dimension\":1,\"grid_line_alpha\":0.5,\"ticker\":{\"id\":\"10617\",\"type\":\"BasicTicker\"}},\"id\":\"10620\",\"type\":\"Grid\"},{\"attributes\":{\"source\":{\"id\":\"10673\",\"type\":\"ColumnDataSource\"}},\"id\":\"10677\",\"type\":\"CDSView\"},{\"attributes\":{\"source\":{\"id\":\"10668\",\"type\":\"ColumnDataSource\"}},\"id\":\"10672\",\"type\":\"CDSView\"},{\"attributes\":{},\"id\":\"10664\",\"type\":\"UnionRenderers\"},{\"attributes\":{\"callback\":null},\"id\":\"10605\",\"type\":\"DataRange1d\"},{\"attributes\":{\"callback\":null,\"data\":{\"x\":[\"2000\",\"2001\",\"2002\",\"2003\",\"2004\",\"2005\",\"2006\",\"2007\",\"2008\",\"2009\",\"2010\",\"2011\",\"2012\",\"2013\",\"2014\",\"2015\",\"2016\",\"2017\"],\"y\":[15.103695797826978,15.131169027337517,14.956404858686836,14.940762682053347,14.834277780762966,14.355494539286878,13.756191814089059,13.46227561311569,13.185720820345873,13.311176143007764,13.205454041812168,13.11874289832326,13.014718113971039,12.888181456404036,12.723579196926023,12.524640395839814,12.37155664238607,12.249551314128]},\"selected\":{\"id\":\"11123\",\"type\":\"Selection\"},\"selection_policy\":{\"id\":\"11124\",\"type\":\"UnionRenderers\"}},\"id\":\"10693\",\"type\":\"ColumnDataSource\"},{\"attributes\":{},\"id\":\"10622\",\"type\":\"WheelZoomTool\"},{\"attributes\":{\"data_source\":{\"id\":\"10634\",\"type\":\"ColumnDataSource\"},\"glyph\":{\"id\":\"10635\",\"type\":\"Line\"},\"hover_glyph\":null,\"muted_glyph\":null,\"nonselection_glyph\":{\"id\":\"10636\",\"type\":\"Line\"},\"selection_glyph\":null,\"view\":{\"id\":\"10638\",\"type\":\"CDSView\"}},\"id\":\"10637\",\"type\":\"GlyphRenderer\"},{\"attributes\":{},\"id\":\"10691\",\"type\":\"UnionRenderers\"},{\"attributes\":{\"callback\":null,\"data\":{\"x\":[\"2000\",\"2001\",\"2002\",\"2003\",\"2004\",\"2005\",\"2006\",\"2007\",\"2008\",\"2009\",\"2010\",\"2011\",\"2012\",\"2013\",\"2014\",\"2015\",\"2016\",\"2017\"],\"y\":[61.112907428435086,60.691447078218324,60.12378233908463,59.83958298619775,59.2886948540458,58.68715381695083,58.034486084007646,57.56646933138067,57.20233508484887,56.901675348262174,56.42641838827256,55.55841766390446,54.541716177965164,54.01071229168338,53.54334284165231,53.11197804583197,52.82467723653058,52.50722323269526]},\"selected\":{\"id\":\"10688\",\"type\":\"Selection\"},\"selection_policy\":{\"id\":\"10689\",\"type\":\"UnionRenderers\"}},\"id\":\"10652\",\"type\":\"ColumnDataSource\"},{\"attributes\":{},\"id\":\"10663\",\"type\":\"Selection\"},{\"attributes\":{},\"id\":\"10626\",\"type\":\"HelpTool\"},{\"attributes\":{},\"id\":\"11124\",\"type\":\"UnionRenderers\"},{\"attributes\":{\"callback\":null},\"id\":\"10603\",\"type\":\"DataRange1d\"},{\"attributes\":{},\"id\":\"10641\",\"type\":\"BasicTickFormatter\"},{\"attributes\":{\"callback\":null,\"data\":{\"x\":[\"2000\",\"2001\",\"2002\",\"2003\",\"2004\",\"2005\",\"2006\",\"2007\",\"2008\",\"2009\",\"2010\",\"2011\",\"2012\",\"2013\",\"2014\",\"2015\",\"2016\",\"2017\"],\"y\":[76.55562066104517,76.37986864337054,76.20491185151087,76.0285482679487,75.82094785929357,75.61511952397093,75.32895405434937,75.01381997539303,74.69307298605345,74.43136697400037,74.07291940189262,73.61967067900957,73.18548775794076,72.8705406679276,72.58557928075658,72.42095588745232,72.24762664827033,71.97617982154789]},\"selected\":{\"id\":\"10663\",\"type\":\"Selection\"},\"selection_policy\":{\"id\":\"10664\",\"type\":\"UnionRenderers\"}},\"id\":\"10634\",\"type\":\"ColumnDataSource\"},{\"attributes\":{},\"id\":\"10625\",\"type\":\"ResetTool\"},{\"attributes\":{},\"id\":\"11123\",\"type\":\"Selection\"},{\"attributes\":{},\"id\":\"10621\",\"type\":\"PanTool\"},{\"attributes\":{\"source\":{\"id\":\"10647\",\"type\":\"ColumnDataSource\"}},\"id\":\"10651\",\"type\":\"CDSView\"},{\"attributes\":{\"overlay\":{\"id\":\"10644\",\"type\":\"BoxAnnotation\"}},\"id\":\"10623\",\"type\":\"BoxZoomTool\"},{\"attributes\":{\"line_color\":\"#FA1857\",\"line_width\":3,\"x\":{\"field\":\"x\"},\"y\":{\"field\":\"y\"}},\"id\":\"10635\",\"type\":\"Line\"},{\"attributes\":{\"fill_alpha\":{\"value\":0.1},\"fill_color\":{\"value\":\"#1f77b4\"},\"line_alpha\":{\"value\":0.1},\"line_color\":{\"value\":\"#1f77b4\"},\"size\":{\"units\":\"screen\",\"value\":1},\"x\":{\"field\":\"x\"},\"y\":{\"field\":\"y\"}},\"id\":\"10670\",\"type\":\"Circle\"},{\"attributes\":{\"fill_color\":{\"value\":\"#2CC775\"},\"line_color\":{\"value\":\"#2CC775\"},\"size\":{\"units\":\"screen\",\"value\":1},\"x\":{\"field\":\"x\"},\"y\":{\"field\":\"y\"}},\"id\":\"10694\",\"type\":\"Circle\"},{\"attributes\":{},\"id\":\"11122\",\"type\":\"UnionRenderers\"},{\"attributes\":{\"axis_label\":\"SL.EMP.VULN.ZS\",\"formatter\":{\"id\":\"10643\",\"type\":\"BasicTickFormatter\"},\"ticker\":{\"id\":\"10617\",\"type\":\"BasicTicker\"}},\"id\":\"10616\",\"type\":\"LinearAxis\"},{\"attributes\":{},\"id\":\"10624\",\"type\":\"SaveTool\"},{\"attributes\":{\"data_source\":{\"id\":\"10673\",\"type\":\"ColumnDataSource\"},\"glyph\":{\"id\":\"10674\",\"type\":\"Line\"},\"hover_glyph\":null,\"muted_glyph\":null,\"nonselection_glyph\":{\"id\":\"10675\",\"type\":\"Line\"},\"selection_glyph\":null,\"view\":{\"id\":\"10677\",\"type\":\"CDSView\"}},\"id\":\"10676\",\"type\":\"GlyphRenderer\"}],\"root_ids\":[\"10600\"]},\"title\":\"Bokeh Application\",\"version\":\"1.3.4\"}};\n",
       "  var render_items = [{\"docid\":\"f4f26acf-b692-4857-8580-290c070092f4\",\"roots\":{\"10600\":\"a5ba1a63-4c2c-4270-a3d2-243b5724be1e\"}}];\n",
       "  root.Bokeh.embed.embed_items_notebook(docs_json, render_items);\n",
       "\n",
       "  }\n",
       "  if (root.Bokeh !== undefined) {\n",
       "    embed_document(root);\n",
       "  } else {\n",
       "    var attempts = 0;\n",
       "    var timer = setInterval(function(root) {\n",
       "      if (root.Bokeh !== undefined) {\n",
       "        embed_document(root);\n",
       "        clearInterval(timer);\n",
       "      }\n",
       "      attempts++;\n",
       "      if (attempts > 100) {\n",
       "        console.log(\"Bokeh: ERROR: Unable to run BokehJS code because BokehJS library is missing\");\n",
       "        clearInterval(timer);\n",
       "      }\n",
       "    }, 10, root)\n",
       "  }\n",
       "})(window);"
      ],
      "application/vnd.bokehjs_exec.v0+json": ""
     },
     "metadata": {
      "application/vnd.bokehjs_exec.v0+json": {
       "id": "10600"
      }
     },
     "output_type": "display_data"
    }
   ],
   "source": [
    "# Vulnerable employment\n",
    "years = list(map(str, list(range(2000,2018))))\n",
    "result = show_weighted_average(years, 'SL.EMP.VULN.ZS', 'SP.POP.TOTL', \n",
    "                               ['LDCs', 'Developing excluding LDCs', 'OECD'], \n",
    "                                height=400, width=1000, line_width=3)"
   ]
  },
  {
   "cell_type": "code",
   "execution_count": 31,
   "metadata": {
    "ExecuteTime": {
     "end_time": "2019-10-25T14:25:14.112300Z",
     "start_time": "2019-10-25T14:25:08.899437Z"
    },
    "slideshow": {
     "slide_type": "slide"
    }
   },
   "outputs": [
    {
     "data": {
      "text/html": [
       "\n",
       "\n",
       "\n",
       "\n",
       "\n",
       "\n",
       "  <div class=\"bk-root\" id=\"c2cd59fb-e6f8-4984-ad7c-9314baa7a23d\" data-root-id=\"11233\"></div>\n"
      ]
     },
     "metadata": {},
     "output_type": "display_data"
    },
    {
     "data": {
      "application/javascript": [
       "(function(root) {\n",
       "  function embed_document(root) {\n",
       "    \n",
       "  var docs_json = {\"4cef279a-b240-4bc0-8c15-729371e5b000\":{\"roots\":{\"references\":[{\"attributes\":{\"below\":[{\"id\":\"11244\",\"type\":\"LinearAxis\"}],\"center\":[{\"id\":\"11248\",\"type\":\"Grid\"},{\"id\":\"11253\",\"type\":\"Grid\"},{\"id\":\"11278\",\"type\":\"Legend\"}],\"left\":[{\"id\":\"11249\",\"type\":\"LinearAxis\"}],\"plot_height\":400,\"plot_width\":1000,\"renderers\":[{\"id\":\"11270\",\"type\":\"GlyphRenderer\"},{\"id\":\"11283\",\"type\":\"GlyphRenderer\"},{\"id\":\"11288\",\"type\":\"GlyphRenderer\"},{\"id\":\"11304\",\"type\":\"GlyphRenderer\"},{\"id\":\"11309\",\"type\":\"GlyphRenderer\"},{\"id\":\"11329\",\"type\":\"GlyphRenderer\"}],\"title\":{\"id\":\"11234\",\"type\":\"Title\"},\"toolbar\":{\"id\":\"11260\",\"type\":\"Toolbar\"},\"x_range\":{\"id\":\"11236\",\"type\":\"DataRange1d\"},\"x_scale\":{\"id\":\"11240\",\"type\":\"LinearScale\"},\"y_range\":{\"id\":\"11238\",\"type\":\"DataRange1d\"},\"y_scale\":{\"id\":\"11242\",\"type\":\"LinearScale\"}},\"id\":\"11233\",\"subtype\":\"Figure\",\"type\":\"Plot\"},{\"attributes\":{\"text\":\"Vulnerable employment, female (% of female employment) (modeled ILO estimate) weighted against Labor force, total\"},\"id\":\"11234\",\"type\":\"Title\"},{\"attributes\":{\"source\":{\"id\":\"11280\",\"type\":\"ColumnDataSource\"}},\"id\":\"11284\",\"type\":\"CDSView\"},{\"attributes\":{\"line_alpha\":0.1,\"line_color\":\"#1f77b4\",\"line_width\":3,\"x\":{\"field\":\"x\"},\"y\":{\"field\":\"y\"}},\"id\":\"11308\",\"type\":\"Line\"},{\"attributes\":{\"callback\":null,\"data\":{\"x\":[\"2000\",\"2001\",\"2002\",\"2003\",\"2004\",\"2005\",\"2006\",\"2007\",\"2008\",\"2009\",\"2010\",\"2011\",\"2012\",\"2013\",\"2014\",\"2015\",\"2016\",\"2017\"],\"y\":[14.48536902485712,14.493511769829844,14.191813316333826,13.993763075972725,13.83147018503385,13.370962271652207,12.80581092501148,12.566340934456548,12.298027267203656,12.373333284001852,12.307219209624574,12.287989367669757,12.15311900334881,11.971961077598174,11.744068220445252,11.58624004783634,11.401146754618209,11.2798928194068]},\"selected\":{\"id\":\"11774\",\"type\":\"Selection\"},\"selection_policy\":{\"id\":\"11775\",\"type\":\"UnionRenderers\"}},\"id\":\"11326\",\"type\":\"ColumnDataSource\"},{\"attributes\":{},\"id\":\"11245\",\"type\":\"BasicTicker\"},{\"attributes\":{\"label\":{\"value\":\"Developing excluding LDCs\"},\"renderers\":[{\"id\":\"11288\",\"type\":\"GlyphRenderer\"}]},\"id\":\"11300\",\"type\":\"LegendItem\"},{\"attributes\":{\"source\":{\"id\":\"11267\",\"type\":\"ColumnDataSource\"}},\"id\":\"11271\",\"type\":\"CDSView\"},{\"attributes\":{\"active_drag\":\"auto\",\"active_inspect\":\"auto\",\"active_multi\":null,\"active_scroll\":\"auto\",\"active_tap\":\"auto\",\"tools\":[{\"id\":\"11254\",\"type\":\"PanTool\"},{\"id\":\"11255\",\"type\":\"WheelZoomTool\"},{\"id\":\"11256\",\"type\":\"BoxZoomTool\"},{\"id\":\"11257\",\"type\":\"SaveTool\"},{\"id\":\"11258\",\"type\":\"ResetTool\"},{\"id\":\"11259\",\"type\":\"HelpTool\"},{\"id\":\"11331\",\"type\":\"HoverTool\"}]},\"id\":\"11260\",\"type\":\"Toolbar\"},{\"attributes\":{\"label\":{\"value\":\"LDCs\"},\"renderers\":[{\"id\":\"11270\",\"type\":\"GlyphRenderer\"}]},\"id\":\"11279\",\"type\":\"LegendItem\"},{\"attributes\":{\"axis_label\":\"Years\",\"formatter\":{\"id\":\"11274\",\"type\":\"BasicTickFormatter\"},\"ticker\":{\"id\":\"11245\",\"type\":\"BasicTicker\"}},\"id\":\"11244\",\"type\":\"LinearAxis\"},{\"attributes\":{\"source\":{\"id\":\"11285\",\"type\":\"ColumnDataSource\"}},\"id\":\"11289\",\"type\":\"CDSView\"},{\"attributes\":{\"data_source\":{\"id\":\"11280\",\"type\":\"ColumnDataSource\"},\"glyph\":{\"id\":\"11281\",\"type\":\"Circle\"},\"hover_glyph\":null,\"muted_glyph\":null,\"nonselection_glyph\":{\"id\":\"11282\",\"type\":\"Circle\"},\"selection_glyph\":null,\"view\":{\"id\":\"11284\",\"type\":\"CDSView\"}},\"id\":\"11283\",\"type\":\"GlyphRenderer\"},{\"attributes\":{},\"id\":\"11259\",\"type\":\"HelpTool\"},{\"attributes\":{\"line_color\":\"#2CC775\",\"line_width\":3,\"x\":{\"field\":\"x\"},\"y\":{\"field\":\"y\"}},\"id\":\"11307\",\"type\":\"Line\"},{\"attributes\":{\"label\":{\"value\":\"OECD\"},\"renderers\":[{\"id\":\"11309\",\"type\":\"GlyphRenderer\"}]},\"id\":\"11325\",\"type\":\"LegendItem\"},{\"attributes\":{},\"id\":\"11299\",\"type\":\"UnionRenderers\"},{\"attributes\":{},\"id\":\"11775\",\"type\":\"UnionRenderers\"},{\"attributes\":{\"data_source\":{\"id\":\"11267\",\"type\":\"ColumnDataSource\"},\"glyph\":{\"id\":\"11268\",\"type\":\"Line\"},\"hover_glyph\":null,\"muted_glyph\":null,\"nonselection_glyph\":{\"id\":\"11269\",\"type\":\"Line\"},\"selection_glyph\":null,\"view\":{\"id\":\"11271\",\"type\":\"CDSView\"}},\"id\":\"11270\",\"type\":\"GlyphRenderer\"},{\"attributes\":{\"callback\":null,\"tooltips\":\"                \\n        <div style=padding=5px>Year:@x</div>\\n        <div style=padding=5px>Value:@y</div>        \\n        \"},\"id\":\"11331\",\"type\":\"HoverTool\"},{\"attributes\":{\"items\":[{\"id\":\"11279\",\"type\":\"LegendItem\"},{\"id\":\"11300\",\"type\":\"LegendItem\"},{\"id\":\"11325\",\"type\":\"LegendItem\"}],\"location\":\"bottom_left\"},\"id\":\"11278\",\"type\":\"Legend\"},{\"attributes\":{},\"id\":\"11258\",\"type\":\"ResetTool\"},{\"attributes\":{\"data_source\":{\"id\":\"11285\",\"type\":\"ColumnDataSource\"},\"glyph\":{\"id\":\"11286\",\"type\":\"Line\"},\"hover_glyph\":null,\"muted_glyph\":null,\"nonselection_glyph\":{\"id\":\"11287\",\"type\":\"Line\"},\"selection_glyph\":null,\"view\":{\"id\":\"11289\",\"type\":\"CDSView\"}},\"id\":\"11288\",\"type\":\"GlyphRenderer\"},{\"attributes\":{},\"id\":\"11774\",\"type\":\"Selection\"},{\"attributes\":{},\"id\":\"11242\",\"type\":\"LinearScale\"},{\"attributes\":{\"callback\":null,\"data\":{\"x\":[\"2000\",\"2001\",\"2002\",\"2003\",\"2004\",\"2005\",\"2006\",\"2007\",\"2008\",\"2009\",\"2010\",\"2011\",\"2012\",\"2013\",\"2014\",\"2015\",\"2016\",\"2017\"],\"y\":[84.67570947351659,84.54845719460349,84.41534021529151,84.25521506724928,84.12032093981615,83.97106596987518,83.68867661570852,83.77709620056729,83.84020087096158,83.93173050952733,83.8920683978044,83.35726364980452,82.7838732457836,82.3227983282936,81.7453445606311,81.28405232986904,80.80378155261585,80.23067519381057]},\"selected\":{\"id\":\"11296\",\"type\":\"Selection\"},\"selection_policy\":{\"id\":\"11297\",\"type\":\"UnionRenderers\"}},\"id\":\"11267\",\"type\":\"ColumnDataSource\"},{\"attributes\":{\"fill_alpha\":{\"value\":0.1},\"fill_color\":{\"value\":\"#1f77b4\"},\"line_alpha\":{\"value\":0.1},\"line_color\":{\"value\":\"#1f77b4\"},\"size\":{\"units\":\"screen\",\"value\":1},\"x\":{\"field\":\"x\"},\"y\":{\"field\":\"y\"}},\"id\":\"11282\",\"type\":\"Circle\"},{\"attributes\":{\"callback\":null,\"data\":{\"x\":[\"2000\",\"2001\",\"2002\",\"2003\",\"2004\",\"2005\",\"2006\",\"2007\",\"2008\",\"2009\",\"2010\",\"2011\",\"2012\",\"2013\",\"2014\",\"2015\",\"2016\",\"2017\"],\"y\":[14.48536902485712,14.493511769829844,14.191813316333826,13.993763075972725,13.83147018503385,13.370962271652207,12.80581092501148,12.566340934456548,12.298027267203656,12.373333284001852,12.307219209624574,12.287989367669757,12.15311900334881,11.971961077598174,11.744068220445252,11.58624004783634,11.401146754618209,11.2798928194068]},\"selected\":{\"id\":\"11772\",\"type\":\"Selection\"},\"selection_policy\":{\"id\":\"11773\",\"type\":\"UnionRenderers\"}},\"id\":\"11306\",\"type\":\"ColumnDataSource\"},{\"attributes\":{\"source\":{\"id\":\"11326\",\"type\":\"ColumnDataSource\"}},\"id\":\"11330\",\"type\":\"CDSView\"},{\"attributes\":{},\"id\":\"11298\",\"type\":\"Selection\"},{\"attributes\":{},\"id\":\"11322\",\"type\":\"UnionRenderers\"},{\"attributes\":{},\"id\":\"11324\",\"type\":\"UnionRenderers\"},{\"attributes\":{},\"id\":\"11772\",\"type\":\"Selection\"},{\"attributes\":{},\"id\":\"11257\",\"type\":\"SaveTool\"},{\"attributes\":{},\"id\":\"11773\",\"type\":\"UnionRenderers\"},{\"attributes\":{\"line_color\":\"#FA1857\",\"line_width\":3,\"x\":{\"field\":\"x\"},\"y\":{\"field\":\"y\"}},\"id\":\"11268\",\"type\":\"Line\"},{\"attributes\":{\"bottom_units\":\"screen\",\"fill_alpha\":{\"value\":0.5},\"fill_color\":{\"value\":\"lightgrey\"},\"left_units\":\"screen\",\"level\":\"overlay\",\"line_alpha\":{\"value\":1.0},\"line_color\":{\"value\":\"black\"},\"line_dash\":[4,4],\"line_width\":{\"value\":2},\"render_mode\":\"css\",\"right_units\":\"screen\",\"top_units\":\"screen\"},\"id\":\"11277\",\"type\":\"BoxAnnotation\"},{\"attributes\":{\"line_alpha\":0.1,\"line_color\":\"#1f77b4\",\"line_width\":3,\"x\":{\"field\":\"x\"},\"y\":{\"field\":\"y\"}},\"id\":\"11287\",\"type\":\"Line\"},{\"attributes\":{},\"id\":\"11240\",\"type\":\"LinearScale\"},{\"attributes\":{\"fill_color\":{\"value\":\"#FA1857\"},\"line_color\":{\"value\":\"#FA1857\"},\"size\":{\"units\":\"screen\",\"value\":1},\"x\":{\"field\":\"x\"},\"y\":{\"field\":\"y\"}},\"id\":\"11281\",\"type\":\"Circle\"},{\"attributes\":{\"data_source\":{\"id\":\"11326\",\"type\":\"ColumnDataSource\"},\"glyph\":{\"id\":\"11327\",\"type\":\"Circle\"},\"hover_glyph\":null,\"muted_glyph\":null,\"nonselection_glyph\":{\"id\":\"11328\",\"type\":\"Circle\"},\"selection_glyph\":null,\"view\":{\"id\":\"11330\",\"type\":\"CDSView\"}},\"id\":\"11329\",\"type\":\"GlyphRenderer\"},{\"attributes\":{\"overlay\":{\"id\":\"11277\",\"type\":\"BoxAnnotation\"}},\"id\":\"11256\",\"type\":\"BoxZoomTool\"},{\"attributes\":{\"source\":{\"id\":\"11301\",\"type\":\"ColumnDataSource\"}},\"id\":\"11305\",\"type\":\"CDSView\"},{\"attributes\":{},\"id\":\"11297\",\"type\":\"UnionRenderers\"},{\"attributes\":{},\"id\":\"11321\",\"type\":\"Selection\"},{\"attributes\":{\"dimension\":1,\"grid_line_alpha\":0.5,\"ticker\":{\"id\":\"11250\",\"type\":\"BasicTicker\"}},\"id\":\"11253\",\"type\":\"Grid\"},{\"attributes\":{\"fill_alpha\":{\"value\":0.1},\"fill_color\":{\"value\":\"#1f77b4\"},\"line_alpha\":{\"value\":0.1},\"line_color\":{\"value\":\"#1f77b4\"},\"size\":{\"units\":\"screen\",\"value\":1},\"x\":{\"field\":\"x\"},\"y\":{\"field\":\"y\"}},\"id\":\"11303\",\"type\":\"Circle\"},{\"attributes\":{},\"id\":\"11323\",\"type\":\"Selection\"},{\"attributes\":{},\"id\":\"11255\",\"type\":\"WheelZoomTool\"},{\"attributes\":{},\"id\":\"11276\",\"type\":\"BasicTickFormatter\"},{\"attributes\":{\"line_color\":\"#5430F1\",\"line_width\":3,\"x\":{\"field\":\"x\"},\"y\":{\"field\":\"y\"}},\"id\":\"11286\",\"type\":\"Line\"},{\"attributes\":{\"callback\":null},\"id\":\"11238\",\"type\":\"DataRange1d\"},{\"attributes\":{},\"id\":\"11250\",\"type\":\"BasicTicker\"},{\"attributes\":{\"data_source\":{\"id\":\"11301\",\"type\":\"ColumnDataSource\"},\"glyph\":{\"id\":\"11302\",\"type\":\"Circle\"},\"hover_glyph\":null,\"muted_glyph\":null,\"nonselection_glyph\":{\"id\":\"11303\",\"type\":\"Circle\"},\"selection_glyph\":null,\"view\":{\"id\":\"11305\",\"type\":\"CDSView\"}},\"id\":\"11304\",\"type\":\"GlyphRenderer\"},{\"attributes\":{\"fill_alpha\":{\"value\":0.1},\"fill_color\":{\"value\":\"#1f77b4\"},\"line_alpha\":{\"value\":0.1},\"line_color\":{\"value\":\"#1f77b4\"},\"size\":{\"units\":\"screen\",\"value\":1},\"x\":{\"field\":\"x\"},\"y\":{\"field\":\"y\"}},\"id\":\"11328\",\"type\":\"Circle\"},{\"attributes\":{\"source\":{\"id\":\"11306\",\"type\":\"ColumnDataSource\"}},\"id\":\"11310\",\"type\":\"CDSView\"},{\"attributes\":{},\"id\":\"11296\",\"type\":\"Selection\"},{\"attributes\":{\"fill_color\":{\"value\":\"#5430F1\"},\"line_color\":{\"value\":\"#5430F1\"},\"size\":{\"units\":\"screen\",\"value\":1},\"x\":{\"field\":\"x\"},\"y\":{\"field\":\"y\"}},\"id\":\"11302\",\"type\":\"Circle\"},{\"attributes\":{},\"id\":\"11254\",\"type\":\"PanTool\"},{\"attributes\":{\"axis_label\":\"SL.EMP.VULN.FE.ZS\",\"formatter\":{\"id\":\"11276\",\"type\":\"BasicTickFormatter\"},\"ticker\":{\"id\":\"11250\",\"type\":\"BasicTicker\"}},\"id\":\"11249\",\"type\":\"LinearAxis\"},{\"attributes\":{},\"id\":\"11274\",\"type\":\"BasicTickFormatter\"},{\"attributes\":{\"line_alpha\":0.1,\"line_color\":\"#1f77b4\",\"line_width\":3,\"x\":{\"field\":\"x\"},\"y\":{\"field\":\"y\"}},\"id\":\"11269\",\"type\":\"Line\"},{\"attributes\":{\"callback\":null,\"data\":{\"x\":[\"2000\",\"2001\",\"2002\",\"2003\",\"2004\",\"2005\",\"2006\",\"2007\",\"2008\",\"2009\",\"2010\",\"2011\",\"2012\",\"2013\",\"2014\",\"2015\",\"2016\",\"2017\"],\"y\":[65.39692668505631,64.96919616793897,64.2505725082179,63.79870336954884,63.21897556155796,62.36083024839076,61.600784397619954,60.977719388475336,60.33881045385905,59.7742461753223,59.09696605173391,57.96713437952283,56.63962670853221,56.007047740270906,55.416368528487254,54.98638981382023,54.60991636925909,54.26255432591824]},\"selected\":{\"id\":\"11321\",\"type\":\"Selection\"},\"selection_policy\":{\"id\":\"11322\",\"type\":\"UnionRenderers\"}},\"id\":\"11285\",\"type\":\"ColumnDataSource\"},{\"attributes\":{\"callback\":null},\"id\":\"11236\",\"type\":\"DataRange1d\"},{\"attributes\":{\"fill_color\":{\"value\":\"#2CC775\"},\"line_color\":{\"value\":\"#2CC775\"},\"size\":{\"units\":\"screen\",\"value\":1},\"x\":{\"field\":\"x\"},\"y\":{\"field\":\"y\"}},\"id\":\"11327\",\"type\":\"Circle\"},{\"attributes\":{\"data_source\":{\"id\":\"11306\",\"type\":\"ColumnDataSource\"},\"glyph\":{\"id\":\"11307\",\"type\":\"Line\"},\"hover_glyph\":null,\"muted_glyph\":null,\"nonselection_glyph\":{\"id\":\"11308\",\"type\":\"Line\"},\"selection_glyph\":null,\"view\":{\"id\":\"11310\",\"type\":\"CDSView\"}},\"id\":\"11309\",\"type\":\"GlyphRenderer\"},{\"attributes\":{\"callback\":null,\"data\":{\"x\":[\"2000\",\"2001\",\"2002\",\"2003\",\"2004\",\"2005\",\"2006\",\"2007\",\"2008\",\"2009\",\"2010\",\"2011\",\"2012\",\"2013\",\"2014\",\"2015\",\"2016\",\"2017\"],\"y\":[65.39692668505631,64.96919616793897,64.2505725082179,63.79870336954884,63.21897556155796,62.36083024839076,61.600784397619954,60.977719388475336,60.33881045385905,59.7742461753223,59.09696605173391,57.96713437952283,56.63962670853221,56.007047740270906,55.416368528487254,54.98638981382023,54.60991636925909,54.26255432591824]},\"selected\":{\"id\":\"11323\",\"type\":\"Selection\"},\"selection_policy\":{\"id\":\"11324\",\"type\":\"UnionRenderers\"}},\"id\":\"11301\",\"type\":\"ColumnDataSource\"},{\"attributes\":{\"grid_line_color\":null,\"ticker\":{\"id\":\"11245\",\"type\":\"BasicTicker\"}},\"id\":\"11248\",\"type\":\"Grid\"},{\"attributes\":{\"callback\":null,\"data\":{\"x\":[\"2000\",\"2001\",\"2002\",\"2003\",\"2004\",\"2005\",\"2006\",\"2007\",\"2008\",\"2009\",\"2010\",\"2011\",\"2012\",\"2013\",\"2014\",\"2015\",\"2016\",\"2017\"],\"y\":[84.67570947351659,84.54845719460349,84.41534021529151,84.25521506724928,84.12032093981615,83.97106596987518,83.68867661570852,83.77709620056729,83.84020087096158,83.93173050952733,83.8920683978044,83.35726364980452,82.7838732457836,82.3227983282936,81.7453445606311,81.28405232986904,80.80378155261585,80.23067519381057]},\"selected\":{\"id\":\"11298\",\"type\":\"Selection\"},\"selection_policy\":{\"id\":\"11299\",\"type\":\"UnionRenderers\"}},\"id\":\"11280\",\"type\":\"ColumnDataSource\"}],\"root_ids\":[\"11233\"]},\"title\":\"Bokeh Application\",\"version\":\"1.3.4\"}};\n",
       "  var render_items = [{\"docid\":\"4cef279a-b240-4bc0-8c15-729371e5b000\",\"roots\":{\"11233\":\"c2cd59fb-e6f8-4984-ad7c-9314baa7a23d\"}}];\n",
       "  root.Bokeh.embed.embed_items_notebook(docs_json, render_items);\n",
       "\n",
       "  }\n",
       "  if (root.Bokeh !== undefined) {\n",
       "    embed_document(root);\n",
       "  } else {\n",
       "    var attempts = 0;\n",
       "    var timer = setInterval(function(root) {\n",
       "      if (root.Bokeh !== undefined) {\n",
       "        embed_document(root);\n",
       "        clearInterval(timer);\n",
       "      }\n",
       "      attempts++;\n",
       "      if (attempts > 100) {\n",
       "        console.log(\"Bokeh: ERROR: Unable to run BokehJS code because BokehJS library is missing\");\n",
       "        clearInterval(timer);\n",
       "      }\n",
       "    }, 10, root)\n",
       "  }\n",
       "})(window);"
      ],
      "application/vnd.bokehjs_exec.v0+json": ""
     },
     "metadata": {
      "application/vnd.bokehjs_exec.v0+json": {
       "id": "11233"
      }
     },
     "output_type": "display_data"
    }
   ],
   "source": [
    "# Female vulnerable employment\n",
    "years = list(map(str, list(range(2000,2018))))\n",
    "result = show_weighted_average(years, 'SL.EMP.VULN.FE.ZS', 'SL.TLF.TOTL.IN', \n",
    "                               ['LDCs', 'Developing excluding LDCs', 'OECD'], \n",
    "                                height=400, width=1000, line_width=3)"
   ]
  },
  {
   "cell_type": "code",
   "execution_count": 21,
   "metadata": {
    "ExecuteTime": {
     "end_time": "2019-10-25T14:25:19.414594Z",
     "start_time": "2019-10-25T14:25:14.115306Z"
    },
    "slideshow": {
     "slide_type": "slide"
    }
   },
   "outputs": [
    {
     "data": {
      "text/html": [
       "\n",
       "\n",
       "\n",
       "\n",
       "\n",
       "\n",
       "  <div class=\"bk-root\" id=\"21987cab-2f12-4436-97d6-bf8807cd6047\" data-root-id=\"5721\"></div>\n"
      ]
     },
     "metadata": {},
     "output_type": "display_data"
    },
    {
     "data": {
      "application/javascript": [
       "(function(root) {\n",
       "  function embed_document(root) {\n",
       "    \n",
       "  var docs_json = {\"6ca10f10-ec4f-4397-9653-c381f0fd8dd1\":{\"roots\":{\"references\":[{\"attributes\":{\"below\":[{\"id\":\"5732\",\"type\":\"LinearAxis\"}],\"center\":[{\"id\":\"5736\",\"type\":\"Grid\"},{\"id\":\"5741\",\"type\":\"Grid\"},{\"id\":\"5766\",\"type\":\"Legend\"}],\"left\":[{\"id\":\"5737\",\"type\":\"LinearAxis\"}],\"plot_height\":400,\"plot_width\":1000,\"renderers\":[{\"id\":\"5758\",\"type\":\"GlyphRenderer\"},{\"id\":\"5771\",\"type\":\"GlyphRenderer\"},{\"id\":\"5776\",\"type\":\"GlyphRenderer\"},{\"id\":\"5792\",\"type\":\"GlyphRenderer\"},{\"id\":\"5797\",\"type\":\"GlyphRenderer\"},{\"id\":\"5817\",\"type\":\"GlyphRenderer\"}],\"title\":{\"id\":\"5722\",\"type\":\"Title\"},\"toolbar\":{\"id\":\"5748\",\"type\":\"Toolbar\"},\"x_range\":{\"id\":\"5724\",\"type\":\"DataRange1d\"},\"x_scale\":{\"id\":\"5728\",\"type\":\"LinearScale\"},\"y_range\":{\"id\":\"5726\",\"type\":\"DataRange1d\"},\"y_scale\":{\"id\":\"5730\",\"type\":\"LinearScale\"}},\"id\":\"5721\",\"subtype\":\"Figure\",\"type\":\"Plot\"},{\"attributes\":{\"callback\":null},\"id\":\"5724\",\"type\":\"DataRange1d\"},{\"attributes\":{\"label\":{\"value\":\"Developing excluding LDCs\"},\"renderers\":[{\"id\":\"5776\",\"type\":\"GlyphRenderer\"}]},\"id\":\"5788\",\"type\":\"LegendItem\"},{\"attributes\":{},\"id\":\"5812\",\"type\":\"UnionRenderers\"},{\"attributes\":{\"label\":{\"value\":\"LDCs\"},\"renderers\":[{\"id\":\"5758\",\"type\":\"GlyphRenderer\"}]},\"id\":\"5767\",\"type\":\"LegendItem\"},{\"attributes\":{\"label\":{\"value\":\"OECD\"},\"renderers\":[{\"id\":\"5797\",\"type\":\"GlyphRenderer\"}]},\"id\":\"5813\",\"type\":\"LegendItem\"},{\"attributes\":{\"data_source\":{\"id\":\"5755\",\"type\":\"ColumnDataSource\"},\"glyph\":{\"id\":\"5756\",\"type\":\"Line\"},\"hover_glyph\":null,\"muted_glyph\":null,\"nonselection_glyph\":{\"id\":\"5757\",\"type\":\"Line\"},\"selection_glyph\":null,\"view\":{\"id\":\"5759\",\"type\":\"CDSView\"}},\"id\":\"5758\",\"type\":\"GlyphRenderer\"},{\"attributes\":{\"source\":{\"id\":\"5773\",\"type\":\"ColumnDataSource\"}},\"id\":\"5777\",\"type\":\"CDSView\"},{\"attributes\":{\"text\":\"Vulnerable employment, male (% of male employment) (modeled ILO estimate) weighted against Labor force, total\"},\"id\":\"5722\",\"type\":\"Title\"},{\"attributes\":{\"source\":{\"id\":\"5794\",\"type\":\"ColumnDataSource\"}},\"id\":\"5798\",\"type\":\"CDSView\"},{\"attributes\":{},\"id\":\"5784\",\"type\":\"Selection\"},{\"attributes\":{},\"id\":\"5811\",\"type\":\"Selection\"},{\"attributes\":{},\"id\":\"5762\",\"type\":\"BasicTickFormatter\"},{\"attributes\":{},\"id\":\"5746\",\"type\":\"ResetTool\"},{\"attributes\":{},\"id\":\"5785\",\"type\":\"UnionRenderers\"},{\"attributes\":{},\"id\":\"5809\",\"type\":\"Selection\"},{\"attributes\":{\"line_color\":\"#5430F1\",\"line_width\":4,\"x\":{\"field\":\"x\"},\"y\":{\"field\":\"y\"}},\"id\":\"5774\",\"type\":\"Line\"},{\"attributes\":{},\"id\":\"5747\",\"type\":\"HelpTool\"},{\"attributes\":{},\"id\":\"5764\",\"type\":\"BasicTickFormatter\"},{\"attributes\":{},\"id\":\"5810\",\"type\":\"UnionRenderers\"},{\"attributes\":{\"line_alpha\":0.1,\"line_color\":\"#1f77b4\",\"line_width\":4,\"x\":{\"field\":\"x\"},\"y\":{\"field\":\"y\"}},\"id\":\"5775\",\"type\":\"Line\"},{\"attributes\":{\"active_drag\":\"auto\",\"active_inspect\":\"auto\",\"active_multi\":null,\"active_scroll\":\"auto\",\"active_tap\":\"auto\",\"tools\":[{\"id\":\"5742\",\"type\":\"PanTool\"},{\"id\":\"5743\",\"type\":\"WheelZoomTool\"},{\"id\":\"5744\",\"type\":\"BoxZoomTool\"},{\"id\":\"5745\",\"type\":\"SaveTool\"},{\"id\":\"5746\",\"type\":\"ResetTool\"},{\"id\":\"5747\",\"type\":\"HelpTool\"},{\"id\":\"5819\",\"type\":\"HoverTool\"}]},\"id\":\"5748\",\"type\":\"Toolbar\"},{\"attributes\":{\"source\":{\"id\":\"5755\",\"type\":\"ColumnDataSource\"}},\"id\":\"5759\",\"type\":\"CDSView\"},{\"attributes\":{\"line_color\":\"#2CC775\",\"line_width\":4,\"x\":{\"field\":\"x\"},\"y\":{\"field\":\"y\"}},\"id\":\"5795\",\"type\":\"Line\"},{\"attributes\":{\"data_source\":{\"id\":\"5773\",\"type\":\"ColumnDataSource\"},\"glyph\":{\"id\":\"5774\",\"type\":\"Line\"},\"hover_glyph\":null,\"muted_glyph\":null,\"nonselection_glyph\":{\"id\":\"5775\",\"type\":\"Line\"},\"selection_glyph\":null,\"view\":{\"id\":\"5777\",\"type\":\"CDSView\"}},\"id\":\"5776\",\"type\":\"GlyphRenderer\"},{\"attributes\":{},\"id\":\"5743\",\"type\":\"WheelZoomTool\"},{\"attributes\":{\"line_alpha\":0.1,\"line_color\":\"#1f77b4\",\"line_width\":4,\"x\":{\"field\":\"x\"},\"y\":{\"field\":\"y\"}},\"id\":\"5796\",\"type\":\"Line\"},{\"attributes\":{},\"id\":\"6083\",\"type\":\"UnionRenderers\"},{\"attributes\":{\"data_source\":{\"id\":\"5768\",\"type\":\"ColumnDataSource\"},\"glyph\":{\"id\":\"5769\",\"type\":\"Circle\"},\"hover_glyph\":null,\"muted_glyph\":null,\"nonselection_glyph\":{\"id\":\"5770\",\"type\":\"Circle\"},\"selection_glyph\":null,\"view\":{\"id\":\"5772\",\"type\":\"CDSView\"}},\"id\":\"5771\",\"type\":\"GlyphRenderer\"},{\"attributes\":{\"overlay\":{\"id\":\"5765\",\"type\":\"BoxAnnotation\"}},\"id\":\"5744\",\"type\":\"BoxZoomTool\"},{\"attributes\":{\"data_source\":{\"id\":\"5794\",\"type\":\"ColumnDataSource\"},\"glyph\":{\"id\":\"5795\",\"type\":\"Line\"},\"hover_glyph\":null,\"muted_glyph\":null,\"nonselection_glyph\":{\"id\":\"5796\",\"type\":\"Line\"},\"selection_glyph\":null,\"view\":{\"id\":\"5798\",\"type\":\"CDSView\"}},\"id\":\"5797\",\"type\":\"GlyphRenderer\"},{\"attributes\":{\"source\":{\"id\":\"5768\",\"type\":\"ColumnDataSource\"}},\"id\":\"5772\",\"type\":\"CDSView\"},{\"attributes\":{},\"id\":\"5745\",\"type\":\"SaveTool\"},{\"attributes\":{\"source\":{\"id\":\"5789\",\"type\":\"ColumnDataSource\"}},\"id\":\"5793\",\"type\":\"CDSView\"},{\"attributes\":{\"line_color\":\"#FA1857\",\"line_width\":4,\"x\":{\"field\":\"x\"},\"y\":{\"field\":\"y\"}},\"id\":\"5756\",\"type\":\"Line\"},{\"attributes\":{\"callback\":null,\"data\":{\"x\":[\"2000\",\"2001\",\"2002\",\"2003\",\"2004\",\"2005\",\"2006\",\"2007\",\"2008\",\"2009\",\"2010\",\"2011\",\"2012\",\"2013\",\"2014\",\"2015\",\"2016\",\"2017\"],\"y\":[57.182668493701804,56.624347402457296,56.14973579960289,55.87796189195199,55.25401813080033,54.67087712681627,53.921143113103525,53.323776327013384,52.83097870875332,52.43257032658141,51.929260596232744,51.09073039239959,50.08754694939069,49.60308553742829,49.20403712953163,48.77821761472152,48.56988546874208,48.2728268059283]},\"selected\":{\"id\":\"5809\",\"type\":\"Selection\"},\"selection_policy\":{\"id\":\"5810\",\"type\":\"UnionRenderers\"}},\"id\":\"5773\",\"type\":\"ColumnDataSource\"},{\"attributes\":{},\"id\":\"6080\",\"type\":\"Selection\"},{\"attributes\":{\"callback\":null,\"data\":{\"x\":[\"2000\",\"2001\",\"2002\",\"2003\",\"2004\",\"2005\",\"2006\",\"2007\",\"2008\",\"2009\",\"2010\",\"2011\",\"2012\",\"2013\",\"2014\",\"2015\",\"2016\",\"2017\"],\"y\":[73.21763465176444,72.99635651982048,72.78114922045958,72.56740210564952,72.31280809134215,72.06374288534862,71.69979704264206,71.14977890148174,70.60291365237993,70.13601099904103,69.53324532417238,69.00621511120234,68.55967633532312,68.25151294620667,68.00716472004207,67.84672660682828,67.79561725854789,67.4365616886222]},\"selected\":{\"id\":\"5784\",\"type\":\"Selection\"},\"selection_policy\":{\"id\":\"5785\",\"type\":\"UnionRenderers\"}},\"id\":\"5755\",\"type\":\"ColumnDataSource\"},{\"attributes\":{\"callback\":null,\"data\":{\"x\":[\"2000\",\"2001\",\"2002\",\"2003\",\"2004\",\"2005\",\"2006\",\"2007\",\"2008\",\"2009\",\"2010\",\"2011\",\"2012\",\"2013\",\"2014\",\"2015\",\"2016\",\"2017\"],\"y\":[73.21763465176444,72.99635651982048,72.78114922045958,72.56740210564952,72.31280809134215,72.06374288534862,71.69979704264206,71.14977890148174,70.60291365237993,70.13601099904103,69.53324532417238,69.00621511120234,68.55967633532312,68.25151294620667,68.00716472004207,67.84672660682828,67.79561725854789,67.4365616886222]},\"selected\":{\"id\":\"5786\",\"type\":\"Selection\"},\"selection_policy\":{\"id\":\"5787\",\"type\":\"UnionRenderers\"}},\"id\":\"5768\",\"type\":\"ColumnDataSource\"},{\"attributes\":{\"callback\":null,\"data\":{\"x\":[\"2000\",\"2001\",\"2002\",\"2003\",\"2004\",\"2005\",\"2006\",\"2007\",\"2008\",\"2009\",\"2010\",\"2011\",\"2012\",\"2013\",\"2014\",\"2015\",\"2016\",\"2017\"],\"y\":[13.983595169339262,13.998859245381606,13.991020663967802,14.08072441547863,14.122426832902441,13.78425403912315,13.299377817936158,13.057250481869682,12.840791354088491,13.031251656893089,13.030931611471235,12.99280973346482,12.971599240608382,12.90982728415717,12.853117783704255,12.684740815496953,12.575432474590244,12.453772658805285]},\"selected\":{\"id\":\"6080\",\"type\":\"Selection\"},\"selection_policy\":{\"id\":\"6081\",\"type\":\"UnionRenderers\"}},\"id\":\"5794\",\"type\":\"ColumnDataSource\"},{\"attributes\":{\"callback\":null,\"tooltips\":\"                \\n        <div style=padding=5px>Year:@x</div>\\n        <div style=padding=5px>Value:@y</div>        \\n        \"},\"id\":\"5819\",\"type\":\"HoverTool\"},{\"attributes\":{},\"id\":\"6081\",\"type\":\"UnionRenderers\"},{\"attributes\":{},\"id\":\"5742\",\"type\":\"PanTool\"},{\"attributes\":{\"fill_color\":{\"value\":\"#FA1857\"},\"line_color\":{\"value\":\"#FA1857\"},\"size\":{\"units\":\"screen\",\"value\":1},\"x\":{\"field\":\"x\"},\"y\":{\"field\":\"y\"}},\"id\":\"5769\",\"type\":\"Circle\"},{\"attributes\":{\"line_alpha\":0.1,\"line_color\":\"#1f77b4\",\"line_width\":4,\"x\":{\"field\":\"x\"},\"y\":{\"field\":\"y\"}},\"id\":\"5757\",\"type\":\"Line\"},{\"attributes\":{},\"id\":\"6082\",\"type\":\"Selection\"},{\"attributes\":{\"axis_label\":\"SL.EMP.VULN.MA.ZS\",\"formatter\":{\"id\":\"5764\",\"type\":\"BasicTickFormatter\"},\"ticker\":{\"id\":\"5738\",\"type\":\"BasicTicker\"}},\"id\":\"5737\",\"type\":\"LinearAxis\"},{\"attributes\":{\"fill_alpha\":{\"value\":0.1},\"fill_color\":{\"value\":\"#1f77b4\"},\"line_alpha\":{\"value\":0.1},\"line_color\":{\"value\":\"#1f77b4\"},\"size\":{\"units\":\"screen\",\"value\":1},\"x\":{\"field\":\"x\"},\"y\":{\"field\":\"y\"}},\"id\":\"5770\",\"type\":\"Circle\"},{\"attributes\":{\"data_source\":{\"id\":\"5814\",\"type\":\"ColumnDataSource\"},\"glyph\":{\"id\":\"5815\",\"type\":\"Circle\"},\"hover_glyph\":null,\"muted_glyph\":null,\"nonselection_glyph\":{\"id\":\"5816\",\"type\":\"Circle\"},\"selection_glyph\":null,\"view\":{\"id\":\"5818\",\"type\":\"CDSView\"}},\"id\":\"5817\",\"type\":\"GlyphRenderer\"},{\"attributes\":{},\"id\":\"5730\",\"type\":\"LinearScale\"},{\"attributes\":{\"source\":{\"id\":\"5814\",\"type\":\"ColumnDataSource\"}},\"id\":\"5818\",\"type\":\"CDSView\"},{\"attributes\":{},\"id\":\"5738\",\"type\":\"BasicTicker\"},{\"attributes\":{\"bottom_units\":\"screen\",\"fill_alpha\":{\"value\":0.5},\"fill_color\":{\"value\":\"lightgrey\"},\"left_units\":\"screen\",\"level\":\"overlay\",\"line_alpha\":{\"value\":1.0},\"line_color\":{\"value\":\"black\"},\"line_dash\":[4,4],\"line_width\":{\"value\":2},\"render_mode\":\"css\",\"right_units\":\"screen\",\"top_units\":\"screen\"},\"id\":\"5765\",\"type\":\"BoxAnnotation\"},{\"attributes\":{\"data_source\":{\"id\":\"5789\",\"type\":\"ColumnDataSource\"},\"glyph\":{\"id\":\"5790\",\"type\":\"Circle\"},\"hover_glyph\":null,\"muted_glyph\":null,\"nonselection_glyph\":{\"id\":\"5791\",\"type\":\"Circle\"},\"selection_glyph\":null,\"view\":{\"id\":\"5793\",\"type\":\"CDSView\"}},\"id\":\"5792\",\"type\":\"GlyphRenderer\"},{\"attributes\":{\"items\":[{\"id\":\"5767\",\"type\":\"LegendItem\"},{\"id\":\"5788\",\"type\":\"LegendItem\"},{\"id\":\"5813\",\"type\":\"LegendItem\"}],\"location\":\"bottom_left\"},\"id\":\"5766\",\"type\":\"Legend\"},{\"attributes\":{\"dimension\":1,\"grid_line_alpha\":0.5,\"ticker\":{\"id\":\"5738\",\"type\":\"BasicTicker\"}},\"id\":\"5741\",\"type\":\"Grid\"},{\"attributes\":{\"callback\":null,\"data\":{\"x\":[\"2000\",\"2001\",\"2002\",\"2003\",\"2004\",\"2005\",\"2006\",\"2007\",\"2008\",\"2009\",\"2010\",\"2011\",\"2012\",\"2013\",\"2014\",\"2015\",\"2016\",\"2017\"],\"y\":[57.182668493701804,56.624347402457296,56.14973579960289,55.87796189195199,55.25401813080033,54.67087712681627,53.921143113103525,53.323776327013384,52.83097870875332,52.43257032658141,51.929260596232744,51.09073039239959,50.08754694939069,49.60308553742829,49.20403712953163,48.77821761472152,48.56988546874208,48.2728268059283]},\"selected\":{\"id\":\"5811\",\"type\":\"Selection\"},\"selection_policy\":{\"id\":\"5812\",\"type\":\"UnionRenderers\"}},\"id\":\"5789\",\"type\":\"ColumnDataSource\"},{\"attributes\":{},\"id\":\"5733\",\"type\":\"BasicTicker\"},{\"attributes\":{},\"id\":\"5728\",\"type\":\"LinearScale\"},{\"attributes\":{\"fill_color\":{\"value\":\"#5430F1\"},\"line_color\":{\"value\":\"#5430F1\"},\"size\":{\"units\":\"screen\",\"value\":1},\"x\":{\"field\":\"x\"},\"y\":{\"field\":\"y\"}},\"id\":\"5790\",\"type\":\"Circle\"},{\"attributes\":{\"grid_line_color\":null,\"ticker\":{\"id\":\"5733\",\"type\":\"BasicTicker\"}},\"id\":\"5736\",\"type\":\"Grid\"},{\"attributes\":{\"callback\":null,\"data\":{\"x\":[\"2000\",\"2001\",\"2002\",\"2003\",\"2004\",\"2005\",\"2006\",\"2007\",\"2008\",\"2009\",\"2010\",\"2011\",\"2012\",\"2013\",\"2014\",\"2015\",\"2016\",\"2017\"],\"y\":[13.983595169339262,13.998859245381606,13.991020663967802,14.08072441547863,14.122426832902441,13.78425403912315,13.299377817936158,13.057250481869682,12.840791354088491,13.031251656893089,13.030931611471235,12.99280973346482,12.971599240608382,12.90982728415717,12.853117783704255,12.684740815496953,12.575432474590244,12.453772658805285]},\"selected\":{\"id\":\"6082\",\"type\":\"Selection\"},\"selection_policy\":{\"id\":\"6083\",\"type\":\"UnionRenderers\"}},\"id\":\"5814\",\"type\":\"ColumnDataSource\"},{\"attributes\":{\"fill_color\":{\"value\":\"#2CC775\"},\"line_color\":{\"value\":\"#2CC775\"},\"size\":{\"units\":\"screen\",\"value\":1},\"x\":{\"field\":\"x\"},\"y\":{\"field\":\"y\"}},\"id\":\"5815\",\"type\":\"Circle\"},{\"attributes\":{\"fill_alpha\":{\"value\":0.1},\"fill_color\":{\"value\":\"#1f77b4\"},\"line_alpha\":{\"value\":0.1},\"line_color\":{\"value\":\"#1f77b4\"},\"size\":{\"units\":\"screen\",\"value\":1},\"x\":{\"field\":\"x\"},\"y\":{\"field\":\"y\"}},\"id\":\"5791\",\"type\":\"Circle\"},{\"attributes\":{\"callback\":null},\"id\":\"5726\",\"type\":\"DataRange1d\"},{\"attributes\":{\"fill_alpha\":{\"value\":0.1},\"fill_color\":{\"value\":\"#1f77b4\"},\"line_alpha\":{\"value\":0.1},\"line_color\":{\"value\":\"#1f77b4\"},\"size\":{\"units\":\"screen\",\"value\":1},\"x\":{\"field\":\"x\"},\"y\":{\"field\":\"y\"}},\"id\":\"5816\",\"type\":\"Circle\"},{\"attributes\":{},\"id\":\"5786\",\"type\":\"Selection\"},{\"attributes\":{\"axis_label\":\"Years\",\"formatter\":{\"id\":\"5762\",\"type\":\"BasicTickFormatter\"},\"ticker\":{\"id\":\"5733\",\"type\":\"BasicTicker\"}},\"id\":\"5732\",\"type\":\"LinearAxis\"},{\"attributes\":{},\"id\":\"5787\",\"type\":\"UnionRenderers\"}],\"root_ids\":[\"5721\"]},\"title\":\"Bokeh Application\",\"version\":\"1.3.4\"}};\n",
       "  var render_items = [{\"docid\":\"6ca10f10-ec4f-4397-9653-c381f0fd8dd1\",\"roots\":{\"5721\":\"21987cab-2f12-4436-97d6-bf8807cd6047\"}}];\n",
       "  root.Bokeh.embed.embed_items_notebook(docs_json, render_items);\n",
       "\n",
       "  }\n",
       "  if (root.Bokeh !== undefined) {\n",
       "    embed_document(root);\n",
       "  } else {\n",
       "    var attempts = 0;\n",
       "    var timer = setInterval(function(root) {\n",
       "      if (root.Bokeh !== undefined) {\n",
       "        embed_document(root);\n",
       "        clearInterval(timer);\n",
       "      }\n",
       "      attempts++;\n",
       "      if (attempts > 100) {\n",
       "        console.log(\"Bokeh: ERROR: Unable to run BokehJS code because BokehJS library is missing\");\n",
       "        clearInterval(timer);\n",
       "      }\n",
       "    }, 10, root)\n",
       "  }\n",
       "})(window);"
      ],
      "application/vnd.bokehjs_exec.v0+json": ""
     },
     "metadata": {
      "application/vnd.bokehjs_exec.v0+json": {
       "id": "5721"
      }
     },
     "output_type": "display_data"
    }
   ],
   "source": [
    "# Male vulnerable employment\n",
    "years = list(map(str, list(range(2000,2018))))\n",
    "result = show_weighted_average(years, 'SL.EMP.VULN.MA.ZS', 'SL.TLF.TOTL.IN', \n",
    "                               ['LDCs', 'Developing excluding LDCs', 'OECD'], \n",
    "                                height=400, width=1000, line_width=4)"
   ]
  },
  {
   "cell_type": "code",
   "execution_count": 32,
   "metadata": {
    "ExecuteTime": {
     "end_time": "2019-10-25T14:25:24.083516Z",
     "start_time": "2019-10-25T14:25:19.417499Z"
    },
    "slideshow": {
     "slide_type": "slide"
    }
   },
   "outputs": [
    {
     "data": {
      "text/html": [
       "\n",
       "\n",
       "\n",
       "\n",
       "\n",
       "\n",
       "  <div class=\"bk-root\" id=\"41262088-6950-4f1e-a463-b8fdfcb276d2\" data-root-id=\"11884\"></div>\n"
      ]
     },
     "metadata": {},
     "output_type": "display_data"
    },
    {
     "data": {
      "application/javascript": [
       "(function(root) {\n",
       "  function embed_document(root) {\n",
       "    \n",
       "  var docs_json = {\"36f62369-28c1-48a1-9985-cd429dd27a71\":{\"roots\":{\"references\":[{\"attributes\":{\"below\":[{\"id\":\"11895\",\"type\":\"LinearAxis\"}],\"center\":[{\"id\":\"11899\",\"type\":\"Grid\"},{\"id\":\"11904\",\"type\":\"Grid\"},{\"id\":\"11929\",\"type\":\"Legend\"}],\"left\":[{\"id\":\"11900\",\"type\":\"LinearAxis\"}],\"plot_height\":400,\"plot_width\":1000,\"renderers\":[{\"id\":\"11921\",\"type\":\"GlyphRenderer\"},{\"id\":\"11934\",\"type\":\"GlyphRenderer\"},{\"id\":\"11939\",\"type\":\"GlyphRenderer\"},{\"id\":\"11955\",\"type\":\"GlyphRenderer\"},{\"id\":\"11960\",\"type\":\"GlyphRenderer\"},{\"id\":\"11980\",\"type\":\"GlyphRenderer\"}],\"title\":{\"id\":\"11885\",\"type\":\"Title\"},\"toolbar\":{\"id\":\"11911\",\"type\":\"Toolbar\"},\"x_range\":{\"id\":\"11887\",\"type\":\"DataRange1d\"},\"x_scale\":{\"id\":\"11891\",\"type\":\"LinearScale\"},\"y_range\":{\"id\":\"11889\",\"type\":\"DataRange1d\"},\"y_scale\":{\"id\":\"11893\",\"type\":\"LinearScale\"}},\"id\":\"11884\",\"subtype\":\"Figure\",\"type\":\"Plot\"},{\"attributes\":{},\"id\":\"11927\",\"type\":\"BasicTickFormatter\"},{\"attributes\":{\"callback\":null,\"tooltips\":\"                \\n        <div style=padding=5px>Year:@x</div>\\n        <div style=padding=5px>Value:@y</div>        \\n        \"},\"id\":\"11982\",\"type\":\"HoverTool\"},{\"attributes\":{\"items\":[{\"id\":\"11930\",\"type\":\"LegendItem\"},{\"id\":\"11951\",\"type\":\"LegendItem\"},{\"id\":\"11976\",\"type\":\"LegendItem\"}],\"location\":\"bottom_left\"},\"id\":\"11929\",\"type\":\"Legend\"},{\"attributes\":{\"source\":{\"id\":\"11957\",\"type\":\"ColumnDataSource\"}},\"id\":\"11961\",\"type\":\"CDSView\"},{\"attributes\":{\"line_alpha\":0.1,\"line_color\":\"#1f77b4\",\"line_width\":3,\"x\":{\"field\":\"x\"},\"y\":{\"field\":\"y\"}},\"id\":\"11959\",\"type\":\"Line\"},{\"attributes\":{\"text\":\"Life expectancy at birth, total (years) weighted against Population, total\"},\"id\":\"11885\",\"type\":\"Title\"},{\"attributes\":{},\"id\":\"11972\",\"type\":\"Selection\"},{\"attributes\":{\"data_source\":{\"id\":\"11977\",\"type\":\"ColumnDataSource\"},\"glyph\":{\"id\":\"11978\",\"type\":\"Circle\"},\"hover_glyph\":null,\"muted_glyph\":null,\"nonselection_glyph\":{\"id\":\"11979\",\"type\":\"Circle\"},\"selection_glyph\":null,\"view\":{\"id\":\"11981\",\"type\":\"CDSView\"}},\"id\":\"11980\",\"type\":\"GlyphRenderer\"},{\"attributes\":{},\"id\":\"11901\",\"type\":\"BasicTicker\"},{\"attributes\":{},\"id\":\"11910\",\"type\":\"HelpTool\"},{\"attributes\":{\"source\":{\"id\":\"11952\",\"type\":\"ColumnDataSource\"}},\"id\":\"11956\",\"type\":\"CDSView\"},{\"attributes\":{\"label\":{\"value\":\"LDCs\"},\"renderers\":[{\"id\":\"11921\",\"type\":\"GlyphRenderer\"}]},\"id\":\"11930\",\"type\":\"LegendItem\"},{\"attributes\":{\"label\":{\"value\":\"Developing excluding LDCs\"},\"renderers\":[{\"id\":\"11939\",\"type\":\"GlyphRenderer\"}]},\"id\":\"11951\",\"type\":\"LegendItem\"},{\"attributes\":{\"overlay\":{\"id\":\"11928\",\"type\":\"BoxAnnotation\"}},\"id\":\"11907\",\"type\":\"BoxZoomTool\"},{\"attributes\":{},\"id\":\"11949\",\"type\":\"Selection\"},{\"attributes\":{},\"id\":\"11896\",\"type\":\"BasicTicker\"},{\"attributes\":{\"callback\":null,\"data\":{\"x\":[\"2000\",\"2001\",\"2002\",\"2003\",\"2004\",\"2005\",\"2006\",\"2007\",\"2008\",\"2009\",\"2010\",\"2011\",\"2012\",\"2013\",\"2014\",\"2015\",\"2016\",\"2017\"],\"y\":[54.79038158679697,55.287074928807264,55.813316402849836,56.368633395794234,56.948533135666324,57.54898574320102,58.16602728511171,58.79219566302946,59.41811372554519,60.03542306147486,60.63396924590268,61.20650588606631,61.743458424691624,62.25279596395541,62.72434854700804,63.154635897597124,63.54299723731197,63.89474884744179]},\"selected\":{\"id\":\"11947\",\"type\":\"Selection\"},\"selection_policy\":{\"id\":\"11948\",\"type\":\"UnionRenderers\"}},\"id\":\"11918\",\"type\":\"ColumnDataSource\"},{\"attributes\":{},\"id\":\"11947\",\"type\":\"Selection\"},{\"attributes\":{\"callback\":null,\"data\":{\"x\":[\"2000\",\"2001\",\"2002\",\"2003\",\"2004\",\"2005\",\"2006\",\"2007\",\"2008\",\"2009\",\"2010\",\"2011\",\"2012\",\"2013\",\"2014\",\"2015\",\"2016\",\"2017\"],\"y\":[66.80550762746502,67.09575522261287,67.38845397138815,67.68641242492377,67.98850353535039,68.29683586546594,68.61376868812876,68.93811600827559,69.26960155877734,69.60770006976703,69.93884575077878,70.26845966598577,70.58941992930774,70.89896146370299,71.1942586920573,71.46625116456777,71.71665557950269,71.94788632890526]},\"selected\":{\"id\":\"11972\",\"type\":\"Selection\"},\"selection_policy\":{\"id\":\"11973\",\"type\":\"UnionRenderers\"}},\"id\":\"11936\",\"type\":\"ColumnDataSource\"},{\"attributes\":{\"fill_alpha\":{\"value\":0.1},\"fill_color\":{\"value\":\"#1f77b4\"},\"line_alpha\":{\"value\":0.1},\"line_color\":{\"value\":\"#1f77b4\"},\"size\":{\"units\":\"screen\",\"value\":1},\"x\":{\"field\":\"x\"},\"y\":{\"field\":\"y\"}},\"id\":\"11979\",\"type\":\"Circle\"},{\"attributes\":{\"fill_color\":{\"value\":\"#5430F1\"},\"line_color\":{\"value\":\"#5430F1\"},\"size\":{\"units\":\"screen\",\"value\":1},\"x\":{\"field\":\"x\"},\"y\":{\"field\":\"y\"}},\"id\":\"11953\",\"type\":\"Circle\"},{\"attributes\":{\"source\":{\"id\":\"11977\",\"type\":\"ColumnDataSource\"}},\"id\":\"11981\",\"type\":\"CDSView\"},{\"attributes\":{\"data_source\":{\"id\":\"11936\",\"type\":\"ColumnDataSource\"},\"glyph\":{\"id\":\"11937\",\"type\":\"Line\"},\"hover_glyph\":null,\"muted_glyph\":null,\"nonselection_glyph\":{\"id\":\"11938\",\"type\":\"Line\"},\"selection_glyph\":null,\"view\":{\"id\":\"11940\",\"type\":\"CDSView\"}},\"id\":\"11939\",\"type\":\"GlyphRenderer\"},{\"attributes\":{},\"id\":\"11891\",\"type\":\"LinearScale\"},{\"attributes\":{\"fill_alpha\":{\"value\":0.1},\"fill_color\":{\"value\":\"#1f77b4\"},\"line_alpha\":{\"value\":0.1},\"line_color\":{\"value\":\"#1f77b4\"},\"size\":{\"units\":\"screen\",\"value\":1},\"x\":{\"field\":\"x\"},\"y\":{\"field\":\"y\"}},\"id\":\"11954\",\"type\":\"Circle\"},{\"attributes\":{},\"id\":\"11909\",\"type\":\"ResetTool\"},{\"attributes\":{\"callback\":null,\"data\":{\"x\":[\"2000\",\"2001\",\"2002\",\"2003\",\"2004\",\"2005\",\"2006\",\"2007\",\"2008\",\"2009\",\"2010\",\"2011\",\"2012\",\"2013\",\"2014\",\"2015\",\"2016\",\"2017\"],\"y\":[66.80550762746502,67.09575522261287,67.38845397138815,67.68641242492377,67.98850353535039,68.29683586546594,68.61376868812876,68.93811600827559,69.26960155877734,69.60770006976703,69.93884575077878,70.26845966598577,70.58941992930774,70.89896146370299,71.1942586920573,71.46625116456777,71.71665557950269,71.94788632890526]},\"selected\":{\"id\":\"11974\",\"type\":\"Selection\"},\"selection_policy\":{\"id\":\"11975\",\"type\":\"UnionRenderers\"}},\"id\":\"11952\",\"type\":\"ColumnDataSource\"},{\"attributes\":{},\"id\":\"12441\",\"type\":\"Selection\"},{\"attributes\":{\"axis_label\":\"SP.DYN.LE00.IN\",\"formatter\":{\"id\":\"11927\",\"type\":\"BasicTickFormatter\"},\"ticker\":{\"id\":\"11901\",\"type\":\"BasicTicker\"}},\"id\":\"11900\",\"type\":\"LinearAxis\"},{\"attributes\":{\"fill_color\":{\"value\":\"#2CC775\"},\"line_color\":{\"value\":\"#2CC775\"},\"size\":{\"units\":\"screen\",\"value\":1},\"x\":{\"field\":\"x\"},\"y\":{\"field\":\"y\"}},\"id\":\"11978\",\"type\":\"Circle\"},{\"attributes\":{\"dimension\":1,\"grid_line_alpha\":0.5,\"ticker\":{\"id\":\"11901\",\"type\":\"BasicTicker\"}},\"id\":\"11904\",\"type\":\"Grid\"},{\"attributes\":{\"fill_color\":{\"value\":\"#FA1857\"},\"line_color\":{\"value\":\"#FA1857\"},\"size\":{\"units\":\"screen\",\"value\":1},\"x\":{\"field\":\"x\"},\"y\":{\"field\":\"y\"}},\"id\":\"11932\",\"type\":\"Circle\"},{\"attributes\":{\"callback\":null},\"id\":\"11889\",\"type\":\"DataRange1d\"},{\"attributes\":{\"source\":{\"id\":\"11936\",\"type\":\"ColumnDataSource\"}},\"id\":\"11940\",\"type\":\"CDSView\"},{\"attributes\":{\"line_color\":\"#5430F1\",\"line_width\":3,\"x\":{\"field\":\"x\"},\"y\":{\"field\":\"y\"}},\"id\":\"11937\",\"type\":\"Line\"},{\"attributes\":{\"data_source\":{\"id\":\"11957\",\"type\":\"ColumnDataSource\"},\"glyph\":{\"id\":\"11958\",\"type\":\"Line\"},\"hover_glyph\":null,\"muted_glyph\":null,\"nonselection_glyph\":{\"id\":\"11959\",\"type\":\"Line\"},\"selection_glyph\":null,\"view\":{\"id\":\"11961\",\"type\":\"CDSView\"}},\"id\":\"11960\",\"type\":\"GlyphRenderer\"},{\"attributes\":{\"callback\":null,\"data\":{\"x\":[\"2000\",\"2001\",\"2002\",\"2003\",\"2004\",\"2005\",\"2006\",\"2007\",\"2008\",\"2009\",\"2010\",\"2011\",\"2012\",\"2013\",\"2014\",\"2015\",\"2016\",\"2017\"],\"y\":[77.07712560169232,77.38833297513385,77.54776037882743,77.69654179560608,78.09938587502181,78.21736324644525,78.50714525876474,78.73135260844114,78.87486015871855,79.13132827194039,79.3009215024766,79.53231619249463,79.64498856482149,79.80818222814423,80.05654259453199,79.94678663973315,80.09864354689779,80.15042257303583]},\"selected\":{\"id\":\"12443\",\"type\":\"Selection\"},\"selection_policy\":{\"id\":\"12444\",\"type\":\"UnionRenderers\"}},\"id\":\"11977\",\"type\":\"ColumnDataSource\"},{\"attributes\":{\"line_alpha\":0.1,\"line_color\":\"#1f77b4\",\"line_width\":3,\"x\":{\"field\":\"x\"},\"y\":{\"field\":\"y\"}},\"id\":\"11938\",\"type\":\"Line\"},{\"attributes\":{\"callback\":null,\"data\":{\"x\":[\"2000\",\"2001\",\"2002\",\"2003\",\"2004\",\"2005\",\"2006\",\"2007\",\"2008\",\"2009\",\"2010\",\"2011\",\"2012\",\"2013\",\"2014\",\"2015\",\"2016\",\"2017\"],\"y\":[77.07712560169232,77.38833297513385,77.54776037882743,77.69654179560608,78.09938587502181,78.21736324644525,78.50714525876474,78.73135260844114,78.87486015871855,79.13132827194039,79.3009215024766,79.53231619249463,79.64498856482149,79.80818222814423,80.05654259453199,79.94678663973315,80.09864354689779,80.15042257303583]},\"selected\":{\"id\":\"12441\",\"type\":\"Selection\"},\"selection_policy\":{\"id\":\"12442\",\"type\":\"UnionRenderers\"}},\"id\":\"11957\",\"type\":\"ColumnDataSource\"},{\"attributes\":{},\"id\":\"11948\",\"type\":\"UnionRenderers\"},{\"attributes\":{},\"id\":\"11906\",\"type\":\"WheelZoomTool\"},{\"attributes\":{\"line_color\":\"#2CC775\",\"line_width\":3,\"x\":{\"field\":\"x\"},\"y\":{\"field\":\"y\"}},\"id\":\"11958\",\"type\":\"Line\"},{\"attributes\":{},\"id\":\"11950\",\"type\":\"UnionRenderers\"},{\"attributes\":{\"label\":{\"value\":\"OECD\"},\"renderers\":[{\"id\":\"11960\",\"type\":\"GlyphRenderer\"}]},\"id\":\"11976\",\"type\":\"LegendItem\"},{\"attributes\":{},\"id\":\"12443\",\"type\":\"Selection\"},{\"attributes\":{\"line_color\":\"#FA1857\",\"line_width\":3,\"x\":{\"field\":\"x\"},\"y\":{\"field\":\"y\"}},\"id\":\"11919\",\"type\":\"Line\"},{\"attributes\":{\"callback\":null},\"id\":\"11887\",\"type\":\"DataRange1d\"},{\"attributes\":{},\"id\":\"11925\",\"type\":\"BasicTickFormatter\"},{\"attributes\":{\"line_alpha\":0.1,\"line_color\":\"#1f77b4\",\"line_width\":3,\"x\":{\"field\":\"x\"},\"y\":{\"field\":\"y\"}},\"id\":\"11920\",\"type\":\"Line\"},{\"attributes\":{\"source\":{\"id\":\"11931\",\"type\":\"ColumnDataSource\"}},\"id\":\"11935\",\"type\":\"CDSView\"},{\"attributes\":{},\"id\":\"11908\",\"type\":\"SaveTool\"},{\"attributes\":{\"data_source\":{\"id\":\"11952\",\"type\":\"ColumnDataSource\"},\"glyph\":{\"id\":\"11953\",\"type\":\"Circle\"},\"hover_glyph\":null,\"muted_glyph\":null,\"nonselection_glyph\":{\"id\":\"11954\",\"type\":\"Circle\"},\"selection_glyph\":null,\"view\":{\"id\":\"11956\",\"type\":\"CDSView\"}},\"id\":\"11955\",\"type\":\"GlyphRenderer\"},{\"attributes\":{\"axis_label\":\"Years\",\"formatter\":{\"id\":\"11925\",\"type\":\"BasicTickFormatter\"},\"ticker\":{\"id\":\"11896\",\"type\":\"BasicTicker\"}},\"id\":\"11895\",\"type\":\"LinearAxis\"},{\"attributes\":{\"source\":{\"id\":\"11918\",\"type\":\"ColumnDataSource\"}},\"id\":\"11922\",\"type\":\"CDSView\"},{\"attributes\":{\"bottom_units\":\"screen\",\"fill_alpha\":{\"value\":0.5},\"fill_color\":{\"value\":\"lightgrey\"},\"left_units\":\"screen\",\"level\":\"overlay\",\"line_alpha\":{\"value\":1.0},\"line_color\":{\"value\":\"black\"},\"line_dash\":[4,4],\"line_width\":{\"value\":2},\"render_mode\":\"css\",\"right_units\":\"screen\",\"top_units\":\"screen\"},\"id\":\"11928\",\"type\":\"BoxAnnotation\"},{\"attributes\":{},\"id\":\"11975\",\"type\":\"UnionRenderers\"},{\"attributes\":{},\"id\":\"12442\",\"type\":\"UnionRenderers\"},{\"attributes\":{\"active_drag\":\"auto\",\"active_inspect\":\"auto\",\"active_multi\":null,\"active_scroll\":\"auto\",\"active_tap\":\"auto\",\"tools\":[{\"id\":\"11905\",\"type\":\"PanTool\"},{\"id\":\"11906\",\"type\":\"WheelZoomTool\"},{\"id\":\"11907\",\"type\":\"BoxZoomTool\"},{\"id\":\"11908\",\"type\":\"SaveTool\"},{\"id\":\"11909\",\"type\":\"ResetTool\"},{\"id\":\"11910\",\"type\":\"HelpTool\"},{\"id\":\"11982\",\"type\":\"HoverTool\"}]},\"id\":\"11911\",\"type\":\"Toolbar\"},{\"attributes\":{\"data_source\":{\"id\":\"11918\",\"type\":\"ColumnDataSource\"},\"glyph\":{\"id\":\"11919\",\"type\":\"Line\"},\"hover_glyph\":null,\"muted_glyph\":null,\"nonselection_glyph\":{\"id\":\"11920\",\"type\":\"Line\"},\"selection_glyph\":null,\"view\":{\"id\":\"11922\",\"type\":\"CDSView\"}},\"id\":\"11921\",\"type\":\"GlyphRenderer\"},{\"attributes\":{\"fill_alpha\":{\"value\":0.1},\"fill_color\":{\"value\":\"#1f77b4\"},\"line_alpha\":{\"value\":0.1},\"line_color\":{\"value\":\"#1f77b4\"},\"size\":{\"units\":\"screen\",\"value\":1},\"x\":{\"field\":\"x\"},\"y\":{\"field\":\"y\"}},\"id\":\"11933\",\"type\":\"Circle\"},{\"attributes\":{},\"id\":\"11893\",\"type\":\"LinearScale\"},{\"attributes\":{},\"id\":\"11905\",\"type\":\"PanTool\"},{\"attributes\":{},\"id\":\"11974\",\"type\":\"Selection\"},{\"attributes\":{},\"id\":\"11973\",\"type\":\"UnionRenderers\"},{\"attributes\":{},\"id\":\"12444\",\"type\":\"UnionRenderers\"},{\"attributes\":{\"callback\":null,\"data\":{\"x\":[\"2000\",\"2001\",\"2002\",\"2003\",\"2004\",\"2005\",\"2006\",\"2007\",\"2008\",\"2009\",\"2010\",\"2011\",\"2012\",\"2013\",\"2014\",\"2015\",\"2016\",\"2017\"],\"y\":[54.79038158679697,55.287074928807264,55.813316402849836,56.368633395794234,56.948533135666324,57.54898574320102,58.16602728511171,58.79219566302946,59.41811372554519,60.03542306147486,60.63396924590268,61.20650588606631,61.743458424691624,62.25279596395541,62.72434854700804,63.154635897597124,63.54299723731197,63.89474884744179]},\"selected\":{\"id\":\"11949\",\"type\":\"Selection\"},\"selection_policy\":{\"id\":\"11950\",\"type\":\"UnionRenderers\"}},\"id\":\"11931\",\"type\":\"ColumnDataSource\"},{\"attributes\":{\"grid_line_color\":null,\"ticker\":{\"id\":\"11896\",\"type\":\"BasicTicker\"}},\"id\":\"11899\",\"type\":\"Grid\"},{\"attributes\":{\"data_source\":{\"id\":\"11931\",\"type\":\"ColumnDataSource\"},\"glyph\":{\"id\":\"11932\",\"type\":\"Circle\"},\"hover_glyph\":null,\"muted_glyph\":null,\"nonselection_glyph\":{\"id\":\"11933\",\"type\":\"Circle\"},\"selection_glyph\":null,\"view\":{\"id\":\"11935\",\"type\":\"CDSView\"}},\"id\":\"11934\",\"type\":\"GlyphRenderer\"}],\"root_ids\":[\"11884\"]},\"title\":\"Bokeh Application\",\"version\":\"1.3.4\"}};\n",
       "  var render_items = [{\"docid\":\"36f62369-28c1-48a1-9985-cd429dd27a71\",\"roots\":{\"11884\":\"41262088-6950-4f1e-a463-b8fdfcb276d2\"}}];\n",
       "  root.Bokeh.embed.embed_items_notebook(docs_json, render_items);\n",
       "\n",
       "  }\n",
       "  if (root.Bokeh !== undefined) {\n",
       "    embed_document(root);\n",
       "  } else {\n",
       "    var attempts = 0;\n",
       "    var timer = setInterval(function(root) {\n",
       "      if (root.Bokeh !== undefined) {\n",
       "        embed_document(root);\n",
       "        clearInterval(timer);\n",
       "      }\n",
       "      attempts++;\n",
       "      if (attempts > 100) {\n",
       "        console.log(\"Bokeh: ERROR: Unable to run BokehJS code because BokehJS library is missing\");\n",
       "        clearInterval(timer);\n",
       "      }\n",
       "    }, 10, root)\n",
       "  }\n",
       "})(window);"
      ],
      "application/vnd.bokehjs_exec.v0+json": ""
     },
     "metadata": {
      "application/vnd.bokehjs_exec.v0+json": {
       "id": "11884"
      }
     },
     "output_type": "display_data"
    }
   ],
   "source": [
    "# Life expectancy\n",
    "years = list(map(str, list(range(2000,2018))))\n",
    "result = show_weighted_average(years, 'SP.DYN.LE00.IN', 'SP.POP.TOTL', \n",
    "                               ['LDCs', 'Developing excluding LDCs', 'OECD'], \n",
    "                                height=400, width=1000, line_width=3)"
   ]
  },
  {
   "cell_type": "code",
   "execution_count": 23,
   "metadata": {
    "ExecuteTime": {
     "end_time": "2019-10-25T14:25:28.872290Z",
     "start_time": "2019-10-25T14:25:24.086081Z"
    },
    "slideshow": {
     "slide_type": "slide"
    }
   },
   "outputs": [
    {
     "data": {
      "text/html": [
       "\n",
       "\n",
       "\n",
       "\n",
       "\n",
       "\n",
       "  <div class=\"bk-root\" id=\"11dceb48-ab5b-455b-9779-a1d712b555a5\" data-root-id=\"6681\"></div>\n"
      ]
     },
     "metadata": {},
     "output_type": "display_data"
    },
    {
     "data": {
      "application/javascript": [
       "(function(root) {\n",
       "  function embed_document(root) {\n",
       "    \n",
       "  var docs_json = {\"f0ccad68-70ec-445b-8b16-d6205c6dd470\":{\"roots\":{\"references\":[{\"attributes\":{\"below\":[{\"id\":\"6692\",\"type\":\"LinearAxis\"}],\"center\":[{\"id\":\"6696\",\"type\":\"Grid\"},{\"id\":\"6701\",\"type\":\"Grid\"},{\"id\":\"6726\",\"type\":\"Legend\"}],\"left\":[{\"id\":\"6697\",\"type\":\"LinearAxis\"}],\"plot_height\":400,\"plot_width\":1000,\"renderers\":[{\"id\":\"6718\",\"type\":\"GlyphRenderer\"},{\"id\":\"6731\",\"type\":\"GlyphRenderer\"},{\"id\":\"6736\",\"type\":\"GlyphRenderer\"},{\"id\":\"6752\",\"type\":\"GlyphRenderer\"},{\"id\":\"6757\",\"type\":\"GlyphRenderer\"},{\"id\":\"6777\",\"type\":\"GlyphRenderer\"}],\"title\":{\"id\":\"6682\",\"type\":\"Title\"},\"toolbar\":{\"id\":\"6708\",\"type\":\"Toolbar\"},\"x_range\":{\"id\":\"6684\",\"type\":\"DataRange1d\"},\"x_scale\":{\"id\":\"6688\",\"type\":\"LinearScale\"},\"y_range\":{\"id\":\"6686\",\"type\":\"DataRange1d\"},\"y_scale\":{\"id\":\"6690\",\"type\":\"LinearScale\"}},\"id\":\"6681\",\"subtype\":\"Figure\",\"type\":\"Plot\"},{\"attributes\":{\"active_drag\":\"auto\",\"active_inspect\":\"auto\",\"active_multi\":null,\"active_scroll\":\"auto\",\"active_tap\":\"auto\",\"tools\":[{\"id\":\"6702\",\"type\":\"PanTool\"},{\"id\":\"6703\",\"type\":\"WheelZoomTool\"},{\"id\":\"6704\",\"type\":\"BoxZoomTool\"},{\"id\":\"6705\",\"type\":\"SaveTool\"},{\"id\":\"6706\",\"type\":\"ResetTool\"},{\"id\":\"6707\",\"type\":\"HelpTool\"},{\"id\":\"6779\",\"type\":\"HoverTool\"}]},\"id\":\"6708\",\"type\":\"Toolbar\"},{\"attributes\":{\"axis_label\":\"SP.DYN.LE00.FE.IN\",\"formatter\":{\"id\":\"6724\",\"type\":\"BasicTickFormatter\"},\"ticker\":{\"id\":\"6698\",\"type\":\"BasicTicker\"}},\"id\":\"6697\",\"type\":\"LinearAxis\"},{\"attributes\":{},\"id\":\"6707\",\"type\":\"HelpTool\"},{\"attributes\":{\"label\":{\"value\":\"Developing excluding LDCs\"},\"renderers\":[{\"id\":\"6736\",\"type\":\"GlyphRenderer\"}]},\"id\":\"6748\",\"type\":\"LegendItem\"},{\"attributes\":{},\"id\":\"7077\",\"type\":\"UnionRenderers\"},{\"attributes\":{},\"id\":\"6698\",\"type\":\"BasicTicker\"},{\"attributes\":{},\"id\":\"6703\",\"type\":\"WheelZoomTool\"},{\"attributes\":{\"line_alpha\":0.1,\"line_color\":\"#1f77b4\",\"line_width\":4,\"x\":{\"field\":\"x\"},\"y\":{\"field\":\"y\"}},\"id\":\"6717\",\"type\":\"Line\"},{\"attributes\":{\"callback\":null,\"data\":{\"x\":[\"2000\",\"2001\",\"2002\",\"2003\",\"2004\",\"2005\",\"2006\",\"2007\",\"2008\",\"2009\",\"2010\",\"2011\",\"2012\",\"2013\",\"2014\",\"2015\",\"2016\",\"2017\"],\"y\":[79.93351879418076,80.20290658761989,80.32918832949842,80.39856940465691,80.77521328865518,80.86674990168122,81.1402038786844,81.32381241465296,81.43163205746191,81.62948962454634,81.79594928587568,82.07333933782573,82.11929566013815,82.26555024337196,82.51912432141074,82.35601028400251,82.55037747513924,82.59790657999017]},\"selected\":{\"id\":\"7078\",\"type\":\"Selection\"},\"selection_policy\":{\"id\":\"7079\",\"type\":\"UnionRenderers\"}},\"id\":\"6774\",\"type\":\"ColumnDataSource\"},{\"attributes\":{\"bottom_units\":\"screen\",\"fill_alpha\":{\"value\":0.5},\"fill_color\":{\"value\":\"lightgrey\"},\"left_units\":\"screen\",\"level\":\"overlay\",\"line_alpha\":{\"value\":1.0},\"line_color\":{\"value\":\"black\"},\"line_dash\":[4,4],\"line_width\":{\"value\":2},\"render_mode\":\"css\",\"right_units\":\"screen\",\"top_units\":\"screen\"},\"id\":\"6725\",\"type\":\"BoxAnnotation\"},{\"attributes\":{\"label\":{\"value\":\"LDCs\"},\"renderers\":[{\"id\":\"6718\",\"type\":\"GlyphRenderer\"}]},\"id\":\"6727\",\"type\":\"LegendItem\"},{\"attributes\":{},\"id\":\"7076\",\"type\":\"Selection\"},{\"attributes\":{\"text\":\"Life expectancy at birth, female (years) weighted against Rural population\"},\"id\":\"6682\",\"type\":\"Title\"},{\"attributes\":{\"line_alpha\":0.1,\"line_color\":\"#1f77b4\",\"line_width\":4,\"x\":{\"field\":\"x\"},\"y\":{\"field\":\"y\"}},\"id\":\"6756\",\"type\":\"Line\"},{\"attributes\":{},\"id\":\"6745\",\"type\":\"UnionRenderers\"},{\"attributes\":{\"data_source\":{\"id\":\"6728\",\"type\":\"ColumnDataSource\"},\"glyph\":{\"id\":\"6729\",\"type\":\"Circle\"},\"hover_glyph\":null,\"muted_glyph\":null,\"nonselection_glyph\":{\"id\":\"6730\",\"type\":\"Circle\"},\"selection_glyph\":null,\"view\":{\"id\":\"6732\",\"type\":\"CDSView\"}},\"id\":\"6731\",\"type\":\"GlyphRenderer\"},{\"attributes\":{\"data_source\":{\"id\":\"6733\",\"type\":\"ColumnDataSource\"},\"glyph\":{\"id\":\"6734\",\"type\":\"Line\"},\"hover_glyph\":null,\"muted_glyph\":null,\"nonselection_glyph\":{\"id\":\"6735\",\"type\":\"Line\"},\"selection_glyph\":null,\"view\":{\"id\":\"6737\",\"type\":\"CDSView\"}},\"id\":\"6736\",\"type\":\"GlyphRenderer\"},{\"attributes\":{\"source\":{\"id\":\"6733\",\"type\":\"ColumnDataSource\"}},\"id\":\"6737\",\"type\":\"CDSView\"},{\"attributes\":{\"data_source\":{\"id\":\"6754\",\"type\":\"ColumnDataSource\"},\"glyph\":{\"id\":\"6755\",\"type\":\"Line\"},\"hover_glyph\":null,\"muted_glyph\":null,\"nonselection_glyph\":{\"id\":\"6756\",\"type\":\"Line\"},\"selection_glyph\":null,\"view\":{\"id\":\"6758\",\"type\":\"CDSView\"}},\"id\":\"6757\",\"type\":\"GlyphRenderer\"},{\"attributes\":{},\"id\":\"6702\",\"type\":\"PanTool\"},{\"attributes\":{},\"id\":\"7079\",\"type\":\"UnionRenderers\"},{\"attributes\":{\"data_source\":{\"id\":\"6774\",\"type\":\"ColumnDataSource\"},\"glyph\":{\"id\":\"6775\",\"type\":\"Circle\"},\"hover_glyph\":null,\"muted_glyph\":null,\"nonselection_glyph\":{\"id\":\"6776\",\"type\":\"Circle\"},\"selection_glyph\":null,\"view\":{\"id\":\"6778\",\"type\":\"CDSView\"}},\"id\":\"6777\",\"type\":\"GlyphRenderer\"},{\"attributes\":{\"callback\":null,\"data\":{\"x\":[\"2000\",\"2001\",\"2002\",\"2003\",\"2004\",\"2005\",\"2006\",\"2007\",\"2008\",\"2009\",\"2010\",\"2011\",\"2012\",\"2013\",\"2014\",\"2015\",\"2016\",\"2017\"],\"y\":[67.72613360952067,67.96678765132117,68.21521706263611,68.47684702683729,68.75328942223987,69.0484966771406,69.36634426933745,69.70503900878862,70.05566335667386,70.41841613739292,70.77789293848497,71.13500951943153,71.47851972701005,71.80180695377123,72.09903276477121,72.36667910378955,72.59908110172458,72.80832887210636]},\"selected\":{\"id\":\"6769\",\"type\":\"Selection\"},\"selection_policy\":{\"id\":\"6770\",\"type\":\"UnionRenderers\"}},\"id\":\"6733\",\"type\":\"ColumnDataSource\"},{\"attributes\":{\"fill_color\":{\"value\":\"#2CC775\"},\"line_color\":{\"value\":\"#2CC775\"},\"size\":{\"units\":\"screen\",\"value\":1},\"x\":{\"field\":\"x\"},\"y\":{\"field\":\"y\"}},\"id\":\"6775\",\"type\":\"Circle\"},{\"attributes\":{\"source\":{\"id\":\"6728\",\"type\":\"ColumnDataSource\"}},\"id\":\"6732\",\"type\":\"CDSView\"},{\"attributes\":{\"fill_alpha\":{\"value\":0.1},\"fill_color\":{\"value\":\"#1f77b4\"},\"line_alpha\":{\"value\":0.1},\"line_color\":{\"value\":\"#1f77b4\"},\"size\":{\"units\":\"screen\",\"value\":1},\"x\":{\"field\":\"x\"},\"y\":{\"field\":\"y\"}},\"id\":\"6751\",\"type\":\"Circle\"},{\"attributes\":{},\"id\":\"6744\",\"type\":\"Selection\"},{\"attributes\":{\"source\":{\"id\":\"6749\",\"type\":\"ColumnDataSource\"}},\"id\":\"6753\",\"type\":\"CDSView\"},{\"attributes\":{},\"id\":\"6747\",\"type\":\"UnionRenderers\"},{\"attributes\":{},\"id\":\"6771\",\"type\":\"Selection\"},{\"attributes\":{\"line_alpha\":0.1,\"line_color\":\"#1f77b4\",\"line_width\":4,\"x\":{\"field\":\"x\"},\"y\":{\"field\":\"y\"}},\"id\":\"6735\",\"type\":\"Line\"},{\"attributes\":{\"callback\":null,\"data\":{\"x\":[\"2000\",\"2001\",\"2002\",\"2003\",\"2004\",\"2005\",\"2006\",\"2007\",\"2008\",\"2009\",\"2010\",\"2011\",\"2012\",\"2013\",\"2014\",\"2015\",\"2016\",\"2017\"],\"y\":[56.4096480624582,56.91140883682168,57.44192353385225,58.00503362723879,58.598142772139326,59.21818984292778,59.86162958279785,60.51585399850994,61.17972155336314,61.83778106023187,62.478304438318595,63.09159526396696,63.664439641264124,64.20565620034435,64.70347781963777,65.15542624720327,65.56010632225701,65.92570996932908]},\"selected\":{\"id\":\"6744\",\"type\":\"Selection\"},\"selection_policy\":{\"id\":\"6745\",\"type\":\"UnionRenderers\"}},\"id\":\"6715\",\"type\":\"ColumnDataSource\"},{\"attributes\":{\"callback\":null,\"data\":{\"x\":[\"2000\",\"2001\",\"2002\",\"2003\",\"2004\",\"2005\",\"2006\",\"2007\",\"2008\",\"2009\",\"2010\",\"2011\",\"2012\",\"2013\",\"2014\",\"2015\",\"2016\",\"2017\"],\"y\":[79.93351879418076,80.20290658761989,80.32918832949842,80.39856940465691,80.77521328865518,80.86674990168122,81.1402038786844,81.32381241465296,81.43163205746191,81.62948962454634,81.79594928587568,82.07333933782573,82.11929566013815,82.26555024337196,82.51912432141074,82.35601028400251,82.55037747513924,82.59790657999017]},\"selected\":{\"id\":\"7076\",\"type\":\"Selection\"},\"selection_policy\":{\"id\":\"7077\",\"type\":\"UnionRenderers\"}},\"id\":\"6754\",\"type\":\"ColumnDataSource\"},{\"attributes\":{\"callback\":null},\"id\":\"6684\",\"type\":\"DataRange1d\"},{\"attributes\":{\"fill_alpha\":{\"value\":0.1},\"fill_color\":{\"value\":\"#1f77b4\"},\"line_alpha\":{\"value\":0.1},\"line_color\":{\"value\":\"#1f77b4\"},\"size\":{\"units\":\"screen\",\"value\":1},\"x\":{\"field\":\"x\"},\"y\":{\"field\":\"y\"}},\"id\":\"6730\",\"type\":\"Circle\"},{\"attributes\":{},\"id\":\"6770\",\"type\":\"UnionRenderers\"},{\"attributes\":{\"callback\":null,\"data\":{\"x\":[\"2000\",\"2001\",\"2002\",\"2003\",\"2004\",\"2005\",\"2006\",\"2007\",\"2008\",\"2009\",\"2010\",\"2011\",\"2012\",\"2013\",\"2014\",\"2015\",\"2016\",\"2017\"],\"y\":[67.72613360952067,67.96678765132117,68.21521706263611,68.47684702683729,68.75328942223987,69.0484966771406,69.36634426933745,69.70503900878862,70.05566335667386,70.41841613739292,70.77789293848497,71.13500951943153,71.47851972701005,71.80180695377123,72.09903276477121,72.36667910378955,72.59908110172458,72.80832887210636]},\"selected\":{\"id\":\"6771\",\"type\":\"Selection\"},\"selection_policy\":{\"id\":\"6772\",\"type\":\"UnionRenderers\"}},\"id\":\"6749\",\"type\":\"ColumnDataSource\"},{\"attributes\":{\"callback\":null,\"tooltips\":\"                \\n        <div style=padding=5px>Year:@x</div>\\n        <div style=padding=5px>Value:@y</div>        \\n        \"},\"id\":\"6779\",\"type\":\"HoverTool\"},{\"attributes\":{\"source\":{\"id\":\"6774\",\"type\":\"ColumnDataSource\"}},\"id\":\"6778\",\"type\":\"CDSView\"},{\"attributes\":{\"line_color\":\"#FA1857\",\"line_width\":4,\"x\":{\"field\":\"x\"},\"y\":{\"field\":\"y\"}},\"id\":\"6716\",\"type\":\"Line\"},{\"attributes\":{},\"id\":\"6706\",\"type\":\"ResetTool\"},{\"attributes\":{\"source\":{\"id\":\"6754\",\"type\":\"ColumnDataSource\"}},\"id\":\"6758\",\"type\":\"CDSView\"},{\"attributes\":{\"fill_color\":{\"value\":\"#5430F1\"},\"line_color\":{\"value\":\"#5430F1\"},\"size\":{\"units\":\"screen\",\"value\":1},\"x\":{\"field\":\"x\"},\"y\":{\"field\":\"y\"}},\"id\":\"6750\",\"type\":\"Circle\"},{\"attributes\":{},\"id\":\"6772\",\"type\":\"UnionRenderers\"},{\"attributes\":{\"fill_color\":{\"value\":\"#FA1857\"},\"line_color\":{\"value\":\"#FA1857\"},\"size\":{\"units\":\"screen\",\"value\":1},\"x\":{\"field\":\"x\"},\"y\":{\"field\":\"y\"}},\"id\":\"6729\",\"type\":\"Circle\"},{\"attributes\":{},\"id\":\"6724\",\"type\":\"BasicTickFormatter\"},{\"attributes\":{\"items\":[{\"id\":\"6727\",\"type\":\"LegendItem\"},{\"id\":\"6748\",\"type\":\"LegendItem\"},{\"id\":\"6773\",\"type\":\"LegendItem\"}],\"location\":\"bottom_left\"},\"id\":\"6726\",\"type\":\"Legend\"},{\"attributes\":{},\"id\":\"6705\",\"type\":\"SaveTool\"},{\"attributes\":{\"callback\":null},\"id\":\"6686\",\"type\":\"DataRange1d\"},{\"attributes\":{},\"id\":\"7078\",\"type\":\"Selection\"},{\"attributes\":{\"source\":{\"id\":\"6715\",\"type\":\"ColumnDataSource\"}},\"id\":\"6719\",\"type\":\"CDSView\"},{\"attributes\":{},\"id\":\"6693\",\"type\":\"BasicTicker\"},{\"attributes\":{},\"id\":\"6769\",\"type\":\"Selection\"},{\"attributes\":{\"dimension\":1,\"grid_line_alpha\":0.5,\"ticker\":{\"id\":\"6698\",\"type\":\"BasicTicker\"}},\"id\":\"6701\",\"type\":\"Grid\"},{\"attributes\":{},\"id\":\"6688\",\"type\":\"LinearScale\"},{\"attributes\":{\"fill_alpha\":{\"value\":0.1},\"fill_color\":{\"value\":\"#1f77b4\"},\"line_alpha\":{\"value\":0.1},\"line_color\":{\"value\":\"#1f77b4\"},\"size\":{\"units\":\"screen\",\"value\":1},\"x\":{\"field\":\"x\"},\"y\":{\"field\":\"y\"}},\"id\":\"6776\",\"type\":\"Circle\"},{\"attributes\":{},\"id\":\"6690\",\"type\":\"LinearScale\"},{\"attributes\":{},\"id\":\"6746\",\"type\":\"Selection\"},{\"attributes\":{\"label\":{\"value\":\"OECD\"},\"renderers\":[{\"id\":\"6757\",\"type\":\"GlyphRenderer\"}]},\"id\":\"6773\",\"type\":\"LegendItem\"},{\"attributes\":{\"data_source\":{\"id\":\"6749\",\"type\":\"ColumnDataSource\"},\"glyph\":{\"id\":\"6750\",\"type\":\"Circle\"},\"hover_glyph\":null,\"muted_glyph\":null,\"nonselection_glyph\":{\"id\":\"6751\",\"type\":\"Circle\"},\"selection_glyph\":null,\"view\":{\"id\":\"6753\",\"type\":\"CDSView\"}},\"id\":\"6752\",\"type\":\"GlyphRenderer\"},{\"attributes\":{\"callback\":null,\"data\":{\"x\":[\"2000\",\"2001\",\"2002\",\"2003\",\"2004\",\"2005\",\"2006\",\"2007\",\"2008\",\"2009\",\"2010\",\"2011\",\"2012\",\"2013\",\"2014\",\"2015\",\"2016\",\"2017\"],\"y\":[56.4096480624582,56.91140883682168,57.44192353385225,58.00503362723879,58.598142772139326,59.21818984292778,59.86162958279785,60.51585399850994,61.17972155336314,61.83778106023187,62.478304438318595,63.09159526396696,63.664439641264124,64.20565620034435,64.70347781963777,65.15542624720327,65.56010632225701,65.92570996932908]},\"selected\":{\"id\":\"6746\",\"type\":\"Selection\"},\"selection_policy\":{\"id\":\"6747\",\"type\":\"UnionRenderers\"}},\"id\":\"6728\",\"type\":\"ColumnDataSource\"},{\"attributes\":{\"grid_line_color\":null,\"ticker\":{\"id\":\"6693\",\"type\":\"BasicTicker\"}},\"id\":\"6696\",\"type\":\"Grid\"},{\"attributes\":{\"line_color\":\"#2CC775\",\"line_width\":4,\"x\":{\"field\":\"x\"},\"y\":{\"field\":\"y\"}},\"id\":\"6755\",\"type\":\"Line\"},{\"attributes\":{\"data_source\":{\"id\":\"6715\",\"type\":\"ColumnDataSource\"},\"glyph\":{\"id\":\"6716\",\"type\":\"Line\"},\"hover_glyph\":null,\"muted_glyph\":null,\"nonselection_glyph\":{\"id\":\"6717\",\"type\":\"Line\"},\"selection_glyph\":null,\"view\":{\"id\":\"6719\",\"type\":\"CDSView\"}},\"id\":\"6718\",\"type\":\"GlyphRenderer\"},{\"attributes\":{\"overlay\":{\"id\":\"6725\",\"type\":\"BoxAnnotation\"}},\"id\":\"6704\",\"type\":\"BoxZoomTool\"},{\"attributes\":{\"axis_label\":\"Years\",\"formatter\":{\"id\":\"6722\",\"type\":\"BasicTickFormatter\"},\"ticker\":{\"id\":\"6693\",\"type\":\"BasicTicker\"}},\"id\":\"6692\",\"type\":\"LinearAxis\"},{\"attributes\":{\"line_color\":\"#5430F1\",\"line_width\":4,\"x\":{\"field\":\"x\"},\"y\":{\"field\":\"y\"}},\"id\":\"6734\",\"type\":\"Line\"},{\"attributes\":{},\"id\":\"6722\",\"type\":\"BasicTickFormatter\"}],\"root_ids\":[\"6681\"]},\"title\":\"Bokeh Application\",\"version\":\"1.3.4\"}};\n",
       "  var render_items = [{\"docid\":\"f0ccad68-70ec-445b-8b16-d6205c6dd470\",\"roots\":{\"6681\":\"11dceb48-ab5b-455b-9779-a1d712b555a5\"}}];\n",
       "  root.Bokeh.embed.embed_items_notebook(docs_json, render_items);\n",
       "\n",
       "  }\n",
       "  if (root.Bokeh !== undefined) {\n",
       "    embed_document(root);\n",
       "  } else {\n",
       "    var attempts = 0;\n",
       "    var timer = setInterval(function(root) {\n",
       "      if (root.Bokeh !== undefined) {\n",
       "        embed_document(root);\n",
       "        clearInterval(timer);\n",
       "      }\n",
       "      attempts++;\n",
       "      if (attempts > 100) {\n",
       "        console.log(\"Bokeh: ERROR: Unable to run BokehJS code because BokehJS library is missing\");\n",
       "        clearInterval(timer);\n",
       "      }\n",
       "    }, 10, root)\n",
       "  }\n",
       "})(window);"
      ],
      "application/vnd.bokehjs_exec.v0+json": ""
     },
     "metadata": {
      "application/vnd.bokehjs_exec.v0+json": {
       "id": "6681"
      }
     },
     "output_type": "display_data"
    }
   ],
   "source": [
    "# Female life expectancy\n",
    "years = list(map(str, list(range(2000,2018))))\n",
    "result = show_weighted_average(years, 'SP.DYN.LE00.FE.IN', 'SP.RUR.TOTL', \n",
    "                               ['LDCs', 'Developing excluding LDCs', 'OECD'], \n",
    "                                height=400, width=1000, line_width=4)"
   ]
  },
  {
   "cell_type": "code",
   "execution_count": 33,
   "metadata": {
    "ExecuteTime": {
     "end_time": "2019-10-25T14:25:33.233720Z",
     "start_time": "2019-10-25T14:25:28.874728Z"
    },
    "slideshow": {
     "slide_type": "slide"
    }
   },
   "outputs": [
    {
     "data": {
      "text/html": [
       "\n",
       "\n",
       "\n",
       "\n",
       "\n",
       "\n",
       "  <div class=\"bk-root\" id=\"525b65a4-f1d9-4a11-bda2-4db72918998d\" data-root-id=\"12553\"></div>\n"
      ]
     },
     "metadata": {},
     "output_type": "display_data"
    },
    {
     "data": {
      "application/javascript": [
       "(function(root) {\n",
       "  function embed_document(root) {\n",
       "    \n",
       "  var docs_json = {\"9117c006-8983-48a8-bf10-3bbc29871803\":{\"roots\":{\"references\":[{\"attributes\":{\"below\":[{\"id\":\"12564\",\"type\":\"LinearAxis\"}],\"center\":[{\"id\":\"12568\",\"type\":\"Grid\"},{\"id\":\"12573\",\"type\":\"Grid\"},{\"id\":\"12598\",\"type\":\"Legend\"}],\"left\":[{\"id\":\"12569\",\"type\":\"LinearAxis\"}],\"plot_height\":400,\"plot_width\":1000,\"renderers\":[{\"id\":\"12590\",\"type\":\"GlyphRenderer\"},{\"id\":\"12603\",\"type\":\"GlyphRenderer\"},{\"id\":\"12608\",\"type\":\"GlyphRenderer\"},{\"id\":\"12624\",\"type\":\"GlyphRenderer\"}],\"title\":{\"id\":\"12554\",\"type\":\"Title\"},\"toolbar\":{\"id\":\"12580\",\"type\":\"Toolbar\"},\"x_range\":{\"id\":\"12556\",\"type\":\"DataRange1d\"},\"x_scale\":{\"id\":\"12560\",\"type\":\"LinearScale\"},\"y_range\":{\"id\":\"12558\",\"type\":\"DataRange1d\"},\"y_scale\":{\"id\":\"12562\",\"type\":\"LinearScale\"}},\"id\":\"12553\",\"subtype\":\"Figure\",\"type\":\"Plot\"},{\"attributes\":{\"callback\":null},\"id\":\"12558\",\"type\":\"DataRange1d\"},{\"attributes\":{\"overlay\":{\"id\":\"12597\",\"type\":\"BoxAnnotation\"}},\"id\":\"12576\",\"type\":\"BoxZoomTool\"},{\"attributes\":{\"dimension\":1,\"grid_line_alpha\":0.5,\"ticker\":{\"id\":\"12570\",\"type\":\"BasicTicker\"}},\"id\":\"12573\",\"type\":\"Grid\"},{\"attributes\":{\"axis_label\":\"SH.STA.MMRT\",\"formatter\":{\"id\":\"12596\",\"type\":\"BasicTickFormatter\"},\"ticker\":{\"id\":\"12570\",\"type\":\"BasicTicker\"}},\"id\":\"12569\",\"type\":\"LinearAxis\"},{\"attributes\":{},\"id\":\"13101\",\"type\":\"Selection\"},{\"attributes\":{},\"id\":\"12574\",\"type\":\"PanTool\"},{\"attributes\":{\"callback\":null,\"data\":{\"x\":[\"2000\",\"2001\",\"2002\",\"2003\",\"2004\",\"2005\",\"2006\",\"2007\",\"2008\",\"2009\",\"2010\",\"2011\",\"2012\",\"2013\",\"2014\",\"2015\",\"2016\",\"2017\"],\"y\":[219.59332239180722,213.79178224882705,206.7101391641294,200.94829957227932,194.47262113081396,186.6900748169621,179.6875283788996,172.88250023278727,167.30998830487772,161.32739957997765,155.26019847197256,149.52928908927956,144.63840989429647,140.54135376423983,137.10987842496655,133.64519145588477,129.98852533210263,127.89498651545217]},\"selected\":{\"id\":\"13099\",\"type\":\"Selection\"},\"selection_policy\":{\"id\":\"13100\",\"type\":\"UnionRenderers\"}},\"id\":\"12605\",\"type\":\"ColumnDataSource\"},{\"attributes\":{\"grid_line_color\":null,\"ticker\":{\"id\":\"12565\",\"type\":\"BasicTicker\"}},\"id\":\"12568\",\"type\":\"Grid\"},{\"attributes\":{\"data_source\":{\"id\":\"12605\",\"type\":\"ColumnDataSource\"},\"glyph\":{\"id\":\"12606\",\"type\":\"Line\"},\"hover_glyph\":null,\"muted_glyph\":null,\"nonselection_glyph\":{\"id\":\"12607\",\"type\":\"Line\"},\"selection_glyph\":null,\"view\":{\"id\":\"12609\",\"type\":\"CDSView\"}},\"id\":\"12608\",\"type\":\"GlyphRenderer\"},{\"attributes\":{},\"id\":\"12619\",\"type\":\"UnionRenderers\"},{\"attributes\":{\"fill_alpha\":{\"value\":0.1},\"fill_color\":{\"value\":\"#1f77b4\"},\"line_alpha\":{\"value\":0.1},\"line_color\":{\"value\":\"#1f77b4\"},\"size\":{\"units\":\"screen\",\"value\":1},\"x\":{\"field\":\"x\"},\"y\":{\"field\":\"y\"}},\"id\":\"12623\",\"type\":\"Circle\"},{\"attributes\":{\"data_source\":{\"id\":\"12621\",\"type\":\"ColumnDataSource\"},\"glyph\":{\"id\":\"12622\",\"type\":\"Circle\"},\"hover_glyph\":null,\"muted_glyph\":null,\"nonselection_glyph\":{\"id\":\"12623\",\"type\":\"Circle\"},\"selection_glyph\":null,\"view\":{\"id\":\"12625\",\"type\":\"CDSView\"}},\"id\":\"12624\",\"type\":\"GlyphRenderer\"},{\"attributes\":{\"callback\":null,\"data\":{\"x\":[\"2000\",\"2001\",\"2002\",\"2003\",\"2004\",\"2005\",\"2006\",\"2007\",\"2008\",\"2009\",\"2010\",\"2011\",\"2012\",\"2013\",\"2014\",\"2015\",\"2016\",\"2017\"],\"y\":[707.531739364374,683.283841045393,664.7414975773867,642.2893584675744,617.168252539152,585.3156477244164,558.0368400964686,533.8385872165519,513.0331627922752,494.0011262280731,475.11407864456663,457.69536641876675,442.6467497166802,428.52376993081737,415.93865365234706,401.1090399695652,387.80267341348326,376.40298034245205]},\"selected\":{\"id\":\"12618\",\"type\":\"Selection\"},\"selection_policy\":{\"id\":\"12619\",\"type\":\"UnionRenderers\"}},\"id\":\"12600\",\"type\":\"ColumnDataSource\"},{\"attributes\":{\"fill_alpha\":{\"value\":0.1},\"fill_color\":{\"value\":\"#1f77b4\"},\"line_alpha\":{\"value\":0.1},\"line_color\":{\"value\":\"#1f77b4\"},\"size\":{\"units\":\"screen\",\"value\":1},\"x\":{\"field\":\"x\"},\"y\":{\"field\":\"y\"}},\"id\":\"12602\",\"type\":\"Circle\"},{\"attributes\":{\"bottom_units\":\"screen\",\"fill_alpha\":{\"value\":0.5},\"fill_color\":{\"value\":\"lightgrey\"},\"left_units\":\"screen\",\"level\":\"overlay\",\"line_alpha\":{\"value\":1.0},\"line_color\":{\"value\":\"black\"},\"line_dash\":[4,4],\"line_width\":{\"value\":2},\"render_mode\":\"css\",\"right_units\":\"screen\",\"top_units\":\"screen\"},\"id\":\"12597\",\"type\":\"BoxAnnotation\"},{\"attributes\":{\"axis_label\":\"Years\",\"formatter\":{\"id\":\"12594\",\"type\":\"BasicTickFormatter\"},\"ticker\":{\"id\":\"12565\",\"type\":\"BasicTicker\"}},\"id\":\"12564\",\"type\":\"LinearAxis\"},{\"attributes\":{\"label\":{\"value\":\"Developing excluding LDCs\"},\"renderers\":[{\"id\":\"12608\",\"type\":\"GlyphRenderer\"}]},\"id\":\"12620\",\"type\":\"LegendItem\"},{\"attributes\":{\"line_color\":\"#FA1857\",\"line_width\":3,\"x\":{\"field\":\"x\"},\"y\":{\"field\":\"y\"}},\"id\":\"12588\",\"type\":\"Line\"},{\"attributes\":{},\"id\":\"12570\",\"type\":\"BasicTicker\"},{\"attributes\":{\"line_color\":\"#5430F1\",\"line_width\":3,\"x\":{\"field\":\"x\"},\"y\":{\"field\":\"y\"}},\"id\":\"12606\",\"type\":\"Line\"},{\"attributes\":{\"items\":[{\"id\":\"12599\",\"type\":\"LegendItem\"},{\"id\":\"12620\",\"type\":\"LegendItem\"}],\"location\":\"bottom_left\"},\"id\":\"12598\",\"type\":\"Legend\"},{\"attributes\":{\"callback\":null,\"data\":{\"x\":[\"2000\",\"2001\",\"2002\",\"2003\",\"2004\",\"2005\",\"2006\",\"2007\",\"2008\",\"2009\",\"2010\",\"2011\",\"2012\",\"2013\",\"2014\",\"2015\",\"2016\",\"2017\"],\"y\":[707.531739364374,683.283841045393,664.7414975773867,642.2893584675744,617.168252539152,585.3156477244164,558.0368400964686,533.8385872165519,513.0331627922752,494.0011262280731,475.11407864456663,457.69536641876675,442.6467497166802,428.52376993081737,415.93865365234706,401.1090399695652,387.80267341348326,376.40298034245205]},\"selected\":{\"id\":\"12616\",\"type\":\"Selection\"},\"selection_policy\":{\"id\":\"12617\",\"type\":\"UnionRenderers\"}},\"id\":\"12587\",\"type\":\"ColumnDataSource\"},{\"attributes\":{\"source\":{\"id\":\"12587\",\"type\":\"ColumnDataSource\"}},\"id\":\"12591\",\"type\":\"CDSView\"},{\"attributes\":{\"source\":{\"id\":\"12621\",\"type\":\"ColumnDataSource\"}},\"id\":\"12625\",\"type\":\"CDSView\"},{\"attributes\":{},\"id\":\"12575\",\"type\":\"WheelZoomTool\"},{\"attributes\":{\"fill_color\":{\"value\":\"#5430F1\"},\"line_color\":{\"value\":\"#5430F1\"},\"size\":{\"units\":\"screen\",\"value\":1},\"x\":{\"field\":\"x\"},\"y\":{\"field\":\"y\"}},\"id\":\"12622\",\"type\":\"Circle\"},{\"attributes\":{},\"id\":\"12565\",\"type\":\"BasicTicker\"},{\"attributes\":{},\"id\":\"12617\",\"type\":\"UnionRenderers\"},{\"attributes\":{},\"id\":\"12594\",\"type\":\"BasicTickFormatter\"},{\"attributes\":{\"callback\":null,\"tooltips\":\"                \\n        <div style=padding=5px>Year:@x</div>\\n        <div style=padding=5px>Value:@y</div>        \\n        \"},\"id\":\"12626\",\"type\":\"HoverTool\"},{\"attributes\":{},\"id\":\"13099\",\"type\":\"Selection\"},{\"attributes\":{\"text\":\"Maternal mortality ratio (modeled estimate, per 100,000 live births) weighted against Population, female\"},\"id\":\"12554\",\"type\":\"Title\"},{\"attributes\":{},\"id\":\"12618\",\"type\":\"Selection\"},{\"attributes\":{},\"id\":\"12596\",\"type\":\"BasicTickFormatter\"},{\"attributes\":{},\"id\":\"12578\",\"type\":\"ResetTool\"},{\"attributes\":{\"source\":{\"id\":\"12605\",\"type\":\"ColumnDataSource\"}},\"id\":\"12609\",\"type\":\"CDSView\"},{\"attributes\":{\"fill_color\":{\"value\":\"#FA1857\"},\"line_color\":{\"value\":\"#FA1857\"},\"size\":{\"units\":\"screen\",\"value\":1},\"x\":{\"field\":\"x\"},\"y\":{\"field\":\"y\"}},\"id\":\"12601\",\"type\":\"Circle\"},{\"attributes\":{},\"id\":\"12579\",\"type\":\"HelpTool\"},{\"attributes\":{\"line_alpha\":0.1,\"line_color\":\"#1f77b4\",\"line_width\":3,\"x\":{\"field\":\"x\"},\"y\":{\"field\":\"y\"}},\"id\":\"12607\",\"type\":\"Line\"},{\"attributes\":{\"data_source\":{\"id\":\"12587\",\"type\":\"ColumnDataSource\"},\"glyph\":{\"id\":\"12588\",\"type\":\"Line\"},\"hover_glyph\":null,\"muted_glyph\":null,\"nonselection_glyph\":{\"id\":\"12589\",\"type\":\"Line\"},\"selection_glyph\":null,\"view\":{\"id\":\"12591\",\"type\":\"CDSView\"}},\"id\":\"12590\",\"type\":\"GlyphRenderer\"},{\"attributes\":{\"callback\":null},\"id\":\"12556\",\"type\":\"DataRange1d\"},{\"attributes\":{\"line_alpha\":0.1,\"line_color\":\"#1f77b4\",\"line_width\":3,\"x\":{\"field\":\"x\"},\"y\":{\"field\":\"y\"}},\"id\":\"12589\",\"type\":\"Line\"},{\"attributes\":{\"callback\":null,\"data\":{\"x\":[\"2000\",\"2001\",\"2002\",\"2003\",\"2004\",\"2005\",\"2006\",\"2007\",\"2008\",\"2009\",\"2010\",\"2011\",\"2012\",\"2013\",\"2014\",\"2015\",\"2016\",\"2017\"],\"y\":[219.59332239180722,213.79178224882705,206.7101391641294,200.94829957227932,194.47262113081396,186.6900748169621,179.6875283788996,172.88250023278727,167.30998830487772,161.32739957997765,155.26019847197256,149.52928908927956,144.63840989429647,140.54135376423983,137.10987842496655,133.64519145588477,129.98852533210263,127.89498651545217]},\"selected\":{\"id\":\"13101\",\"type\":\"Selection\"},\"selection_policy\":{\"id\":\"13102\",\"type\":\"UnionRenderers\"}},\"id\":\"12621\",\"type\":\"ColumnDataSource\"},{\"attributes\":{\"data_source\":{\"id\":\"12600\",\"type\":\"ColumnDataSource\"},\"glyph\":{\"id\":\"12601\",\"type\":\"Circle\"},\"hover_glyph\":null,\"muted_glyph\":null,\"nonselection_glyph\":{\"id\":\"12602\",\"type\":\"Circle\"},\"selection_glyph\":null,\"view\":{\"id\":\"12604\",\"type\":\"CDSView\"}},\"id\":\"12603\",\"type\":\"GlyphRenderer\"},{\"attributes\":{},\"id\":\"12577\",\"type\":\"SaveTool\"},{\"attributes\":{},\"id\":\"12616\",\"type\":\"Selection\"},{\"attributes\":{},\"id\":\"13100\",\"type\":\"UnionRenderers\"},{\"attributes\":{},\"id\":\"12560\",\"type\":\"LinearScale\"},{\"attributes\":{},\"id\":\"13102\",\"type\":\"UnionRenderers\"},{\"attributes\":{},\"id\":\"12562\",\"type\":\"LinearScale\"},{\"attributes\":{\"label\":{\"value\":\"LDCs\"},\"renderers\":[{\"id\":\"12590\",\"type\":\"GlyphRenderer\"}]},\"id\":\"12599\",\"type\":\"LegendItem\"},{\"attributes\":{\"active_drag\":\"auto\",\"active_inspect\":\"auto\",\"active_multi\":null,\"active_scroll\":\"auto\",\"active_tap\":\"auto\",\"tools\":[{\"id\":\"12574\",\"type\":\"PanTool\"},{\"id\":\"12575\",\"type\":\"WheelZoomTool\"},{\"id\":\"12576\",\"type\":\"BoxZoomTool\"},{\"id\":\"12577\",\"type\":\"SaveTool\"},{\"id\":\"12578\",\"type\":\"ResetTool\"},{\"id\":\"12579\",\"type\":\"HelpTool\"},{\"id\":\"12626\",\"type\":\"HoverTool\"}]},\"id\":\"12580\",\"type\":\"Toolbar\"},{\"attributes\":{\"source\":{\"id\":\"12600\",\"type\":\"ColumnDataSource\"}},\"id\":\"12604\",\"type\":\"CDSView\"}],\"root_ids\":[\"12553\"]},\"title\":\"Bokeh Application\",\"version\":\"1.3.4\"}};\n",
       "  var render_items = [{\"docid\":\"9117c006-8983-48a8-bf10-3bbc29871803\",\"roots\":{\"12553\":\"525b65a4-f1d9-4a11-bda2-4db72918998d\"}}];\n",
       "  root.Bokeh.embed.embed_items_notebook(docs_json, render_items);\n",
       "\n",
       "  }\n",
       "  if (root.Bokeh !== undefined) {\n",
       "    embed_document(root);\n",
       "  } else {\n",
       "    var attempts = 0;\n",
       "    var timer = setInterval(function(root) {\n",
       "      if (root.Bokeh !== undefined) {\n",
       "        embed_document(root);\n",
       "        clearInterval(timer);\n",
       "      }\n",
       "      attempts++;\n",
       "      if (attempts > 100) {\n",
       "        console.log(\"Bokeh: ERROR: Unable to run BokehJS code because BokehJS library is missing\");\n",
       "        clearInterval(timer);\n",
       "      }\n",
       "    }, 10, root)\n",
       "  }\n",
       "})(window);"
      ],
      "application/vnd.bokehjs_exec.v0+json": ""
     },
     "metadata": {
      "application/vnd.bokehjs_exec.v0+json": {
       "id": "12553"
      }
     },
     "output_type": "display_data"
    }
   ],
   "source": [
    "# Maternal mortality ratio\n",
    "years = list(map(str, list(range(2000,2018))))\n",
    "result = show_weighted_average(years, 'SH.STA.MMRT', 'SP.POP.TOTL.FE.IN', ['LDCs', 'Developing excluding LDCs'], \n",
    "                                height=400, width=1000, line_width=3)"
   ]
  },
  {
   "cell_type": "code",
   "execution_count": 25,
   "metadata": {
    "ExecuteTime": {
     "end_time": "2019-10-25T14:25:37.466675Z",
     "start_time": "2019-10-25T14:25:33.236157Z"
    },
    "slideshow": {
     "slide_type": "slide"
    }
   },
   "outputs": [
    {
     "data": {
      "text/html": [
       "\n",
       "\n",
       "\n",
       "\n",
       "\n",
       "\n",
       "  <div class=\"bk-root\" id=\"1c50b7eb-28e0-4741-b29a-f50a865cb9e1\" data-root-id=\"7660\"></div>\n"
      ]
     },
     "metadata": {},
     "output_type": "display_data"
    },
    {
     "data": {
      "application/javascript": [
       "(function(root) {\n",
       "  function embed_document(root) {\n",
       "    \n",
       "  var docs_json = {\"c6bd73ca-1be8-410c-9d71-d869fc8d778a\":{\"roots\":{\"references\":[{\"attributes\":{\"below\":[{\"id\":\"7671\",\"type\":\"LinearAxis\"}],\"center\":[{\"id\":\"7675\",\"type\":\"Grid\"},{\"id\":\"7680\",\"type\":\"Grid\"},{\"id\":\"7705\",\"type\":\"Legend\"}],\"left\":[{\"id\":\"7676\",\"type\":\"LinearAxis\"}],\"plot_height\":400,\"plot_width\":1000,\"renderers\":[{\"id\":\"7697\",\"type\":\"GlyphRenderer\"},{\"id\":\"7710\",\"type\":\"GlyphRenderer\"},{\"id\":\"7715\",\"type\":\"GlyphRenderer\"},{\"id\":\"7731\",\"type\":\"GlyphRenderer\"}],\"title\":{\"id\":\"7661\",\"type\":\"Title\"},\"toolbar\":{\"id\":\"7687\",\"type\":\"Toolbar\"},\"x_range\":{\"id\":\"7663\",\"type\":\"DataRange1d\"},\"x_scale\":{\"id\":\"7667\",\"type\":\"LinearScale\"},\"y_range\":{\"id\":\"7665\",\"type\":\"DataRange1d\"},\"y_scale\":{\"id\":\"7669\",\"type\":\"LinearScale\"}},\"id\":\"7660\",\"subtype\":\"Figure\",\"type\":\"Plot\"},{\"attributes\":{},\"id\":\"7725\",\"type\":\"Selection\"},{\"attributes\":{},\"id\":\"7672\",\"type\":\"BasicTicker\"},{\"attributes\":{},\"id\":\"7701\",\"type\":\"BasicTickFormatter\"},{\"attributes\":{},\"id\":\"7726\",\"type\":\"UnionRenderers\"},{\"attributes\":{\"grid_line_color\":null,\"ticker\":{\"id\":\"7672\",\"type\":\"BasicTicker\"}},\"id\":\"7675\",\"type\":\"Grid\"},{\"attributes\":{},\"id\":\"7703\",\"type\":\"BasicTickFormatter\"},{\"attributes\":{\"label\":{\"value\":\"Developing excluding LDCs\"},\"renderers\":[{\"id\":\"7715\",\"type\":\"GlyphRenderer\"}]},\"id\":\"7727\",\"type\":\"LegendItem\"},{\"attributes\":{\"bottom_units\":\"screen\",\"fill_alpha\":{\"value\":0.5},\"fill_color\":{\"value\":\"lightgrey\"},\"left_units\":\"screen\",\"level\":\"overlay\",\"line_alpha\":{\"value\":1.0},\"line_color\":{\"value\":\"black\"},\"line_dash\":[4,4],\"line_width\":{\"value\":2},\"render_mode\":\"css\",\"right_units\":\"screen\",\"top_units\":\"screen\"},\"id\":\"7704\",\"type\":\"BoxAnnotation\"},{\"attributes\":{\"axis_label\":\"SP.DYN.IMRT.IN\",\"formatter\":{\"id\":\"7703\",\"type\":\"BasicTickFormatter\"},\"ticker\":{\"id\":\"7677\",\"type\":\"BasicTicker\"}},\"id\":\"7676\",\"type\":\"LinearAxis\"},{\"attributes\":{\"callback\":null,\"data\":{\"x\":[\"2000\",\"2001\",\"2002\",\"2003\",\"2004\",\"2005\",\"2006\",\"2007\",\"2008\",\"2009\",\"2010\",\"2011\",\"2012\",\"2013\",\"2014\",\"2015\",\"2016\",\"2017\"],\"y\":[45.78578383486713,44.031337681921,42.299199545339675,40.54757027872643,38.98089862139654,37.254607293482884,35.73002700694259,34.25452486812492,32.831847885572984,31.511479629869857,30.239629828962936,29.032021703430917,27.851114277234785,26.780028383299534,25.710035808823015,24.679313694191894,23.770222266419392,22.83221285696215]},\"selected\":{\"id\":\"8060\",\"type\":\"Selection\"},\"selection_policy\":{\"id\":\"8061\",\"type\":\"UnionRenderers\"}},\"id\":\"7728\",\"type\":\"ColumnDataSource\"},{\"attributes\":{\"items\":[{\"id\":\"7706\",\"type\":\"LegendItem\"},{\"id\":\"7727\",\"type\":\"LegendItem\"}],\"location\":\"bottom_left\"},\"id\":\"7705\",\"type\":\"Legend\"},{\"attributes\":{},\"id\":\"7677\",\"type\":\"BasicTicker\"},{\"attributes\":{\"fill_color\":{\"value\":\"#5430F1\"},\"line_color\":{\"value\":\"#5430F1\"},\"size\":{\"units\":\"screen\",\"value\":1},\"x\":{\"field\":\"x\"},\"y\":{\"field\":\"y\"}},\"id\":\"7729\",\"type\":\"Circle\"},{\"attributes\":{\"label\":{\"value\":\"LDCs\"},\"renderers\":[{\"id\":\"7697\",\"type\":\"GlyphRenderer\"}]},\"id\":\"7706\",\"type\":\"LegendItem\"},{\"attributes\":{\"dimension\":1,\"grid_line_alpha\":0.5,\"ticker\":{\"id\":\"7677\",\"type\":\"BasicTicker\"}},\"id\":\"7680\",\"type\":\"Grid\"},{\"attributes\":{\"fill_alpha\":{\"value\":0.1},\"fill_color\":{\"value\":\"#1f77b4\"},\"line_alpha\":{\"value\":0.1},\"line_color\":{\"value\":\"#1f77b4\"},\"size\":{\"units\":\"screen\",\"value\":1},\"x\":{\"field\":\"x\"},\"y\":{\"field\":\"y\"}},\"id\":\"7730\",\"type\":\"Circle\"},{\"attributes\":{\"callback\":null,\"data\":{\"x\":[\"2000\",\"2001\",\"2002\",\"2003\",\"2004\",\"2005\",\"2006\",\"2007\",\"2008\",\"2009\",\"2010\",\"2011\",\"2012\",\"2013\",\"2014\",\"2015\",\"2016\",\"2017\"],\"y\":[81.69737664551816,78.7776742491001,75.79362231840066,72.85366195554936,69.98405325689488,67.2302438001353,64.64697239792967,62.09970211682473,59.955823257655744,57.44271974761365,55.609782399199666,53.204853479803546,51.33747517746826,49.57214439495452,47.923201331929235,46.39163855174094,44.93241266562697,43.528829212630185]},\"selected\":{\"id\":\"7725\",\"type\":\"Selection\"},\"selection_policy\":{\"id\":\"7726\",\"type\":\"UnionRenderers\"}},\"id\":\"7707\",\"type\":\"ColumnDataSource\"},{\"attributes\":{\"data_source\":{\"id\":\"7728\",\"type\":\"ColumnDataSource\"},\"glyph\":{\"id\":\"7729\",\"type\":\"Circle\"},\"hover_glyph\":null,\"muted_glyph\":null,\"nonselection_glyph\":{\"id\":\"7730\",\"type\":\"Circle\"},\"selection_glyph\":null,\"view\":{\"id\":\"7732\",\"type\":\"CDSView\"}},\"id\":\"7731\",\"type\":\"GlyphRenderer\"},{\"attributes\":{\"line_color\":\"#FA1857\",\"line_width\":4,\"x\":{\"field\":\"x\"},\"y\":{\"field\":\"y\"}},\"id\":\"7695\",\"type\":\"Line\"},{\"attributes\":{\"fill_color\":{\"value\":\"#FA1857\"},\"line_color\":{\"value\":\"#FA1857\"},\"size\":{\"units\":\"screen\",\"value\":1},\"x\":{\"field\":\"x\"},\"y\":{\"field\":\"y\"}},\"id\":\"7708\",\"type\":\"Circle\"},{\"attributes\":{\"source\":{\"id\":\"7728\",\"type\":\"ColumnDataSource\"}},\"id\":\"7732\",\"type\":\"CDSView\"},{\"attributes\":{\"callback\":null,\"data\":{\"x\":[\"2000\",\"2001\",\"2002\",\"2003\",\"2004\",\"2005\",\"2006\",\"2007\",\"2008\",\"2009\",\"2010\",\"2011\",\"2012\",\"2013\",\"2014\",\"2015\",\"2016\",\"2017\"],\"y\":[81.69737664551816,78.7776742491001,75.79362231840066,72.85366195554936,69.98405325689488,67.2302438001353,64.64697239792967,62.09970211682473,59.955823257655744,57.44271974761365,55.609782399199666,53.204853479803546,51.33747517746826,49.57214439495452,47.923201331929235,46.39163855174094,44.93241266562697,43.528829212630185]},\"selected\":{\"id\":\"7723\",\"type\":\"Selection\"},\"selection_policy\":{\"id\":\"7724\",\"type\":\"UnionRenderers\"}},\"id\":\"7694\",\"type\":\"ColumnDataSource\"},{\"attributes\":{\"fill_alpha\":{\"value\":0.1},\"fill_color\":{\"value\":\"#1f77b4\"},\"line_alpha\":{\"value\":0.1},\"line_color\":{\"value\":\"#1f77b4\"},\"size\":{\"units\":\"screen\",\"value\":1},\"x\":{\"field\":\"x\"},\"y\":{\"field\":\"y\"}},\"id\":\"7709\",\"type\":\"Circle\"},{\"attributes\":{\"line_alpha\":0.1,\"line_color\":\"#1f77b4\",\"line_width\":4,\"x\":{\"field\":\"x\"},\"y\":{\"field\":\"y\"}},\"id\":\"7696\",\"type\":\"Line\"},{\"attributes\":{},\"id\":\"7681\",\"type\":\"PanTool\"},{\"attributes\":{\"data_source\":{\"id\":\"7707\",\"type\":\"ColumnDataSource\"},\"glyph\":{\"id\":\"7708\",\"type\":\"Circle\"},\"hover_glyph\":null,\"muted_glyph\":null,\"nonselection_glyph\":{\"id\":\"7709\",\"type\":\"Circle\"},\"selection_glyph\":null,\"view\":{\"id\":\"7711\",\"type\":\"CDSView\"}},\"id\":\"7710\",\"type\":\"GlyphRenderer\"},{\"attributes\":{},\"id\":\"8058\",\"type\":\"Selection\"},{\"attributes\":{},\"id\":\"7682\",\"type\":\"WheelZoomTool\"},{\"attributes\":{\"source\":{\"id\":\"7707\",\"type\":\"ColumnDataSource\"}},\"id\":\"7711\",\"type\":\"CDSView\"},{\"attributes\":{},\"id\":\"8059\",\"type\":\"UnionRenderers\"},{\"attributes\":{\"overlay\":{\"id\":\"7704\",\"type\":\"BoxAnnotation\"}},\"id\":\"7683\",\"type\":\"BoxZoomTool\"},{\"attributes\":{\"callback\":null,\"data\":{\"x\":[\"2000\",\"2001\",\"2002\",\"2003\",\"2004\",\"2005\",\"2006\",\"2007\",\"2008\",\"2009\",\"2010\",\"2011\",\"2012\",\"2013\",\"2014\",\"2015\",\"2016\",\"2017\"],\"y\":[45.78578383486713,44.031337681921,42.299199545339675,40.54757027872643,38.98089862139654,37.254607293482884,35.73002700694259,34.25452486812492,32.831847885572984,31.511479629869857,30.239629828962936,29.032021703430917,27.851114277234785,26.780028383299534,25.710035808823015,24.679313694191894,23.770222266419392,22.83221285696215]},\"selected\":{\"id\":\"8058\",\"type\":\"Selection\"},\"selection_policy\":{\"id\":\"8059\",\"type\":\"UnionRenderers\"}},\"id\":\"7712\",\"type\":\"ColumnDataSource\"},{\"attributes\":{},\"id\":\"8060\",\"type\":\"Selection\"},{\"attributes\":{},\"id\":\"7684\",\"type\":\"SaveTool\"},{\"attributes\":{\"callback\":null,\"tooltips\":\"                \\n        <div style=padding=5px>Year:@x</div>\\n        <div style=padding=5px>Value:@y</div>        \\n        \"},\"id\":\"7733\",\"type\":\"HoverTool\"},{\"attributes\":{\"line_color\":\"#5430F1\",\"line_width\":4,\"x\":{\"field\":\"x\"},\"y\":{\"field\":\"y\"}},\"id\":\"7713\",\"type\":\"Line\"},{\"attributes\":{},\"id\":\"8061\",\"type\":\"UnionRenderers\"},{\"attributes\":{\"text\":\"Mortality rate, infant (per 1,000 live births) weighted against Population, total\"},\"id\":\"7661\",\"type\":\"Title\"},{\"attributes\":{},\"id\":\"7685\",\"type\":\"ResetTool\"},{\"attributes\":{\"line_alpha\":0.1,\"line_color\":\"#1f77b4\",\"line_width\":4,\"x\":{\"field\":\"x\"},\"y\":{\"field\":\"y\"}},\"id\":\"7714\",\"type\":\"Line\"},{\"attributes\":{\"callback\":null},\"id\":\"7663\",\"type\":\"DataRange1d\"},{\"attributes\":{},\"id\":\"7686\",\"type\":\"HelpTool\"},{\"attributes\":{\"data_source\":{\"id\":\"7712\",\"type\":\"ColumnDataSource\"},\"glyph\":{\"id\":\"7713\",\"type\":\"Line\"},\"hover_glyph\":null,\"muted_glyph\":null,\"nonselection_glyph\":{\"id\":\"7714\",\"type\":\"Line\"},\"selection_glyph\":null,\"view\":{\"id\":\"7716\",\"type\":\"CDSView\"}},\"id\":\"7715\",\"type\":\"GlyphRenderer\"},{\"attributes\":{\"callback\":null},\"id\":\"7665\",\"type\":\"DataRange1d\"},{\"attributes\":{\"active_drag\":\"auto\",\"active_inspect\":\"auto\",\"active_multi\":null,\"active_scroll\":\"auto\",\"active_tap\":\"auto\",\"tools\":[{\"id\":\"7681\",\"type\":\"PanTool\"},{\"id\":\"7682\",\"type\":\"WheelZoomTool\"},{\"id\":\"7683\",\"type\":\"BoxZoomTool\"},{\"id\":\"7684\",\"type\":\"SaveTool\"},{\"id\":\"7685\",\"type\":\"ResetTool\"},{\"id\":\"7686\",\"type\":\"HelpTool\"},{\"id\":\"7733\",\"type\":\"HoverTool\"}]},\"id\":\"7687\",\"type\":\"Toolbar\"},{\"attributes\":{\"source\":{\"id\":\"7712\",\"type\":\"ColumnDataSource\"}},\"id\":\"7716\",\"type\":\"CDSView\"},{\"attributes\":{},\"id\":\"7667\",\"type\":\"LinearScale\"},{\"attributes\":{},\"id\":\"7723\",\"type\":\"Selection\"},{\"attributes\":{\"data_source\":{\"id\":\"7694\",\"type\":\"ColumnDataSource\"},\"glyph\":{\"id\":\"7695\",\"type\":\"Line\"},\"hover_glyph\":null,\"muted_glyph\":null,\"nonselection_glyph\":{\"id\":\"7696\",\"type\":\"Line\"},\"selection_glyph\":null,\"view\":{\"id\":\"7698\",\"type\":\"CDSView\"}},\"id\":\"7697\",\"type\":\"GlyphRenderer\"},{\"attributes\":{},\"id\":\"7669\",\"type\":\"LinearScale\"},{\"attributes\":{},\"id\":\"7724\",\"type\":\"UnionRenderers\"},{\"attributes\":{\"axis_label\":\"Years\",\"formatter\":{\"id\":\"7701\",\"type\":\"BasicTickFormatter\"},\"ticker\":{\"id\":\"7672\",\"type\":\"BasicTicker\"}},\"id\":\"7671\",\"type\":\"LinearAxis\"},{\"attributes\":{\"source\":{\"id\":\"7694\",\"type\":\"ColumnDataSource\"}},\"id\":\"7698\",\"type\":\"CDSView\"}],\"root_ids\":[\"7660\"]},\"title\":\"Bokeh Application\",\"version\":\"1.3.4\"}};\n",
       "  var render_items = [{\"docid\":\"c6bd73ca-1be8-410c-9d71-d869fc8d778a\",\"roots\":{\"7660\":\"1c50b7eb-28e0-4741-b29a-f50a865cb9e1\"}}];\n",
       "  root.Bokeh.embed.embed_items_notebook(docs_json, render_items);\n",
       "\n",
       "  }\n",
       "  if (root.Bokeh !== undefined) {\n",
       "    embed_document(root);\n",
       "  } else {\n",
       "    var attempts = 0;\n",
       "    var timer = setInterval(function(root) {\n",
       "      if (root.Bokeh !== undefined) {\n",
       "        embed_document(root);\n",
       "        clearInterval(timer);\n",
       "      }\n",
       "      attempts++;\n",
       "      if (attempts > 100) {\n",
       "        console.log(\"Bokeh: ERROR: Unable to run BokehJS code because BokehJS library is missing\");\n",
       "        clearInterval(timer);\n",
       "      }\n",
       "    }, 10, root)\n",
       "  }\n",
       "})(window);"
      ],
      "application/vnd.bokehjs_exec.v0+json": ""
     },
     "metadata": {
      "application/vnd.bokehjs_exec.v0+json": {
       "id": "7660"
      }
     },
     "output_type": "display_data"
    }
   ],
   "source": [
    "# Infant mortality rate\n",
    "years = list(map(str, list(range(2000,2018))))\n",
    "result = show_weighted_average(years, 'SP.DYN.IMRT.IN', 'SP.POP.TOTL', ['LDCs', 'Developing excluding LDCs'], \n",
    "                                height=400, width=1000, line_width=4)"
   ]
  },
  {
   "cell_type": "markdown",
   "metadata": {},
   "source": [
    "# Lack of dissagregated gender data is a problem\n",
    "\n",
    "\n",
    "# Gender responsive development planning\n",
    "\n",
    "\n",
    "# Great progress of political representation of women in parliament\n",
    "\n",
    "\n",
    "# Important to promote the representation of women in other domains and across social groups"
   ]
  },
  {
   "cell_type": "markdown",
   "metadata": {
    "slideshow": {
     "slide_type": "slide"
    }
   },
   "source": [
    "# Education and training"
   ]
  },
  {
   "cell_type": "code",
   "execution_count": null,
   "metadata": {
    "slideshow": {
     "slide_type": "slide"
    }
   },
   "outputs": [],
   "source": [
    "# School enrollment, primary\n",
    "years = ['2011', '2016']\n",
    "result = show_weighted_average(years, 'SE.PRM.ENRR', 'SP.POP.TOTL', \n",
    "                               ['LDCs'], \n",
    "                                height=400, width=1000, line_width=3)"
   ]
  },
  {
   "cell_type": "code",
   "execution_count": null,
   "metadata": {
    "slideshow": {
     "slide_type": "slide"
    }
   },
   "outputs": [],
   "source": [
    "# School enrollment, secondary\n",
    "years = list(map(str, list(range(2010,2018))))\n",
    "result = show_weighted_average(years, 'SE.SEC.ENRR', 'SP.POP.TOTL', \n",
    "                               ['LDCs', 'Developing excluding LDCs', 'UMICs'], \n",
    "                                height=400, width=1000, line_width=3)"
   ]
  },
  {
   "cell_type": "code",
   "execution_count": null,
   "metadata": {
    "ExecuteTime": {
     "end_time": "2019-10-25T14:25:38.329630Z",
     "start_time": "2019-10-25T14:25:37.469130Z"
    },
    "slideshow": {
     "slide_type": "slide"
    }
   },
   "outputs": [],
   "source": [
    "# School enrollment, tertiary\n",
    "years = list(map(str, list(range(2010,2015))))\n",
    "result = show_weighted_average(years, 'SE.TER.ENRR', 'SP.POP.TOTL', \n",
    "                               ['LDCs', 'Developing excluding LDCs', 'UMICs'], \n",
    "                                height=400, width=1000, line_width=3)"
   ]
  },
  {
   "cell_type": "code",
   "execution_count": null,
   "metadata": {
    "ExecuteTime": {
     "end_time": "2019-10-25T14:25:43.236189Z",
     "start_time": "2019-10-25T14:25:38.332666Z"
    },
    "slideshow": {
     "slide_type": "slide"
    }
   },
   "outputs": [],
   "source": [
    "# Pupil teacher ratio\n",
    "years = list(map(str, list(range(2000,2018))))\n",
    "result = show_weighted_average(years, 'SE.PRM.ENRL.TC.ZS', 'SP.POP.TOTL', \n",
    "                               ['LDCs', 'Developing excluding LDCs'], \n",
    "                                height=400, width=1000, line_width=4)"
   ]
  },
  {
   "cell_type": "code",
   "execution_count": null,
   "metadata": {
    "ExecuteTime": {
     "end_time": "2019-10-25T14:25:45.212387Z",
     "start_time": "2019-10-25T14:25:43.238485Z"
    },
    "scrolled": true,
    "slideshow": {
     "slide_type": "slide"
    }
   },
   "outputs": [],
   "source": [
    "# Trained teachers in primary\n",
    "years = list(map(str, list(range(2005,2015))))\n",
    "result = show_weighted_average(years, 'SE.PRM.TCAQ.ZS', 'SE.PRM.TCHR', \n",
    "                               ['LDCs', 'Developing excluding LDCs', 'OECD'], \n",
    "                                height=400, width=1000, line_width=4)"
   ]
  },
  {
   "cell_type": "code",
   "execution_count": null,
   "metadata": {
    "ExecuteTime": {
     "end_time": "2019-10-25T14:25:47.154621Z",
     "start_time": "2019-10-25T14:25:45.217692Z"
    },
    "slideshow": {
     "slide_type": "slide"
    }
   },
   "outputs": [],
   "source": [
    "# Trained teachers secondary\n",
    "years = list(map(str, list(range(2005,2015))))\n",
    "result = show_weighted_average(years, 'SE.SEC.TCAQ.ZS', 'SE.SEC.TCHR', \n",
    "                               ['LDCs', 'Developing excluding LDCs', 'OECD'], \n",
    "                                height=400, width=1000, line_width=4)"
   ]
  },
  {
   "cell_type": "markdown",
   "metadata": {
    "slideshow": {
     "slide_type": "slide"
    }
   },
   "source": [
    "# LDCs have made enormous progress in enrollment at the primary level\n",
    "\n",
    "# Challenges remain in relation to factors affecting the quality of education\n",
    "\n",
    "# Gender inequality, specially at secondary and tertiary levels"
   ]
  },
  {
   "cell_type": "markdown",
   "metadata": {
    "slideshow": {
     "slide_type": "slide"
    }
   },
   "source": [
    "# Youth development"
   ]
  },
  {
   "cell_type": "code",
   "execution_count": 59,
   "metadata": {
    "ExecuteTime": {
     "end_time": "2019-10-25T14:25:48.983763Z",
     "start_time": "2019-10-25T14:25:47.157404Z"
    },
    "slideshow": {
     "slide_type": "slide"
    }
   },
   "outputs": [
    {
     "data": {
      "text/html": [
       "\n",
       "\n",
       "\n",
       "\n",
       "\n",
       "\n",
       "  <div class=\"bk-root\" id=\"e2666822-c700-49de-9063-f3e0932b4019\" data-root-id=\"33541\"></div>\n"
      ]
     },
     "metadata": {},
     "output_type": "display_data"
    },
    {
     "data": {
      "application/javascript": [
       "(function(root) {\n",
       "  function embed_document(root) {\n",
       "    \n",
       "  var docs_json = {\"d24f10d6-5596-48aa-b478-3d2f28a6becd\":{\"roots\":{\"references\":[{\"attributes\":{\"below\":[{\"id\":\"33552\",\"type\":\"LinearAxis\"}],\"center\":[{\"id\":\"33556\",\"type\":\"Grid\"},{\"id\":\"33561\",\"type\":\"Grid\"},{\"id\":\"33586\",\"type\":\"Legend\"}],\"left\":[{\"id\":\"33557\",\"type\":\"LinearAxis\"}],\"plot_height\":400,\"plot_width\":1000,\"renderers\":[{\"id\":\"33578\",\"type\":\"GlyphRenderer\"},{\"id\":\"33591\",\"type\":\"GlyphRenderer\"},{\"id\":\"33596\",\"type\":\"GlyphRenderer\"},{\"id\":\"33612\",\"type\":\"GlyphRenderer\"},{\"id\":\"33617\",\"type\":\"GlyphRenderer\"},{\"id\":\"33637\",\"type\":\"GlyphRenderer\"}],\"title\":{\"id\":\"33542\",\"type\":\"Title\"},\"toolbar\":{\"id\":\"33568\",\"type\":\"Toolbar\"},\"x_range\":{\"id\":\"33544\",\"type\":\"DataRange1d\"},\"x_scale\":{\"id\":\"33548\",\"type\":\"LinearScale\"},\"y_range\":{\"id\":\"33546\",\"type\":\"DataRange1d\"},\"y_scale\":{\"id\":\"33550\",\"type\":\"LinearScale\"}},\"id\":\"33541\",\"subtype\":\"Figure\",\"type\":\"Plot\"},{\"attributes\":{\"fill_color\":{\"value\":\"#5430F1\"},\"line_color\":{\"value\":\"#5430F1\"},\"size\":{\"units\":\"screen\",\"value\":1},\"x\":{\"field\":\"x\"},\"y\":{\"field\":\"y\"}},\"id\":\"33610\",\"type\":\"Circle\"},{\"attributes\":{\"data_source\":{\"id\":\"33593\",\"type\":\"ColumnDataSource\"},\"glyph\":{\"id\":\"33594\",\"type\":\"Line\"},\"hover_glyph\":null,\"muted_glyph\":null,\"nonselection_glyph\":{\"id\":\"33595\",\"type\":\"Line\"},\"selection_glyph\":null,\"view\":{\"id\":\"33597\",\"type\":\"CDSView\"}},\"id\":\"33596\",\"type\":\"GlyphRenderer\"},{\"attributes\":{},\"id\":\"33558\",\"type\":\"BasicTicker\"},{\"attributes\":{\"line_color\":\"#2CC775\",\"line_width\":4,\"x\":{\"field\":\"x\"},\"y\":{\"field\":\"y\"}},\"id\":\"33615\",\"type\":\"Line\"},{\"attributes\":{\"line_color\":\"#FA1857\",\"line_width\":4,\"x\":{\"field\":\"x\"},\"y\":{\"field\":\"y\"}},\"id\":\"33576\",\"type\":\"Line\"},{\"attributes\":{\"bottom_units\":\"screen\",\"fill_alpha\":{\"value\":0.5},\"fill_color\":{\"value\":\"lightgrey\"},\"left_units\":\"screen\",\"level\":\"overlay\",\"line_alpha\":{\"value\":1.0},\"line_color\":{\"value\":\"black\"},\"line_dash\":[4,4],\"line_width\":{\"value\":2},\"render_mode\":\"css\",\"right_units\":\"screen\",\"top_units\":\"screen\"},\"id\":\"33585\",\"type\":\"BoxAnnotation\"},{\"attributes\":{\"source\":{\"id\":\"33634\",\"type\":\"ColumnDataSource\"}},\"id\":\"33638\",\"type\":\"CDSView\"},{\"attributes\":{},\"id\":\"33629\",\"type\":\"Selection\"},{\"attributes\":{\"data_source\":{\"id\":\"33609\",\"type\":\"ColumnDataSource\"},\"glyph\":{\"id\":\"33610\",\"type\":\"Circle\"},\"hover_glyph\":null,\"muted_glyph\":null,\"nonselection_glyph\":{\"id\":\"33611\",\"type\":\"Circle\"},\"selection_glyph\":null,\"view\":{\"id\":\"33613\",\"type\":\"CDSView\"}},\"id\":\"33612\",\"type\":\"GlyphRenderer\"},{\"attributes\":{},\"id\":\"33550\",\"type\":\"LinearScale\"},{\"attributes\":{\"axis_label\":\"SE.ADT.1524.LT.ZS\",\"formatter\":{\"id\":\"33584\",\"type\":\"BasicTickFormatter\"},\"ticker\":{\"id\":\"33558\",\"type\":\"BasicTicker\"}},\"id\":\"33557\",\"type\":\"LinearAxis\"},{\"attributes\":{},\"id\":\"34509\",\"type\":\"UnionRenderers\"},{\"attributes\":{\"line_color\":\"#5430F1\",\"line_width\":4,\"x\":{\"field\":\"x\"},\"y\":{\"field\":\"y\"}},\"id\":\"33594\",\"type\":\"Line\"},{\"attributes\":{\"callback\":null},\"id\":\"33544\",\"type\":\"DataRange1d\"},{\"attributes\":{},\"id\":\"34507\",\"type\":\"UnionRenderers\"},{\"attributes\":{},\"id\":\"33604\",\"type\":\"Selection\"},{\"attributes\":{\"fill_alpha\":{\"value\":0.1},\"fill_color\":{\"value\":\"#1f77b4\"},\"line_alpha\":{\"value\":0.1},\"line_color\":{\"value\":\"#1f77b4\"},\"size\":{\"units\":\"screen\",\"value\":1},\"x\":{\"field\":\"x\"},\"y\":{\"field\":\"y\"}},\"id\":\"33636\",\"type\":\"Circle\"},{\"attributes\":{\"label\":{\"value\":\"Developing excluding LDCs\"},\"renderers\":[{\"id\":\"33596\",\"type\":\"GlyphRenderer\"}]},\"id\":\"33608\",\"type\":\"LegendItem\"},{\"attributes\":{\"fill_color\":{\"value\":\"#FA1857\"},\"line_color\":{\"value\":\"#FA1857\"},\"size\":{\"units\":\"screen\",\"value\":1},\"x\":{\"field\":\"x\"},\"y\":{\"field\":\"y\"}},\"id\":\"33589\",\"type\":\"Circle\"},{\"attributes\":{},\"id\":\"33584\",\"type\":\"BasicTickFormatter\"},{\"attributes\":{\"source\":{\"id\":\"33588\",\"type\":\"ColumnDataSource\"}},\"id\":\"33592\",\"type\":\"CDSView\"},{\"attributes\":{\"line_alpha\":0.1,\"line_color\":\"#1f77b4\",\"line_width\":4,\"x\":{\"field\":\"x\"},\"y\":{\"field\":\"y\"}},\"id\":\"33595\",\"type\":\"Line\"},{\"attributes\":{\"text\":\"Literacy rate, youth total (% of people ages 15-24) weighted against Population, total\"},\"id\":\"33542\",\"type\":\"Title\"},{\"attributes\":{},\"id\":\"33567\",\"type\":\"HelpTool\"},{\"attributes\":{\"source\":{\"id\":\"33614\",\"type\":\"ColumnDataSource\"}},\"id\":\"33618\",\"type\":\"CDSView\"},{\"attributes\":{\"label\":{\"value\":\"LDCs\"},\"renderers\":[{\"id\":\"33578\",\"type\":\"GlyphRenderer\"}]},\"id\":\"33587\",\"type\":\"LegendItem\"},{\"attributes\":{},\"id\":\"33566\",\"type\":\"ResetTool\"},{\"attributes\":{},\"id\":\"33606\",\"type\":\"Selection\"},{\"attributes\":{\"callback\":null,\"data\":{\"x\":[\"2010\",\"2011\",\"2012\",\"2013\",\"2014\",\"2015\",\"2016\",\"2017\"],\"y\":[96.50415085262814,89.42889728758811,92.57459369827922,91.294425846238,94.29379999548429,99.107942466396,99.22860159362506,92.46225099778181]},\"selected\":{\"id\":\"33629\",\"type\":\"Selection\"},\"selection_policy\":{\"id\":\"33630\",\"type\":\"UnionRenderers\"}},\"id\":\"33593\",\"type\":\"ColumnDataSource\"},{\"attributes\":{\"fill_alpha\":{\"value\":0.1},\"fill_color\":{\"value\":\"#1f77b4\"},\"line_alpha\":{\"value\":0.1},\"line_color\":{\"value\":\"#1f77b4\"},\"size\":{\"units\":\"screen\",\"value\":1},\"x\":{\"field\":\"x\"},\"y\":{\"field\":\"y\"}},\"id\":\"33590\",\"type\":\"Circle\"},{\"attributes\":{\"data_source\":{\"id\":\"33614\",\"type\":\"ColumnDataSource\"},\"glyph\":{\"id\":\"33615\",\"type\":\"Line\"},\"hover_glyph\":null,\"muted_glyph\":null,\"nonselection_glyph\":{\"id\":\"33616\",\"type\":\"Line\"},\"selection_glyph\":null,\"view\":{\"id\":\"33618\",\"type\":\"CDSView\"}},\"id\":\"33617\",\"type\":\"GlyphRenderer\"},{\"attributes\":{},\"id\":\"33582\",\"type\":\"BasicTickFormatter\"},{\"attributes\":{\"items\":[{\"id\":\"33587\",\"type\":\"LegendItem\"},{\"id\":\"33608\",\"type\":\"LegendItem\"},{\"id\":\"33633\",\"type\":\"LegendItem\"}],\"location\":\"bottom_left\"},\"id\":\"33586\",\"type\":\"Legend\"},{\"attributes\":{\"callback\":null,\"data\":{\"x\":[\"2010\",\"2011\",\"2012\",\"2013\",\"2014\",\"2015\",\"2016\",\"2017\"],\"y\":[69.2373146461557,72.29845761573951,78.07440625148908,81.8057026121577,77.51259455033403,81.0061268219742,86.01201643997595,82.38507029320442]},\"selected\":{\"id\":\"33606\",\"type\":\"Selection\"},\"selection_policy\":{\"id\":\"33607\",\"type\":\"UnionRenderers\"}},\"id\":\"33588\",\"type\":\"ColumnDataSource\"},{\"attributes\":{\"fill_color\":{\"value\":\"#2CC775\"},\"line_color\":{\"value\":\"#2CC775\"},\"size\":{\"units\":\"screen\",\"value\":1},\"x\":{\"field\":\"x\"},\"y\":{\"field\":\"y\"}},\"id\":\"33635\",\"type\":\"Circle\"},{\"attributes\":{},\"id\":\"33565\",\"type\":\"SaveTool\"},{\"attributes\":{\"callback\":null,\"data\":{\"x\":[\"2010\",\"2011\",\"2012\",\"2013\",\"2014\",\"2015\",\"2016\",\"2017\"],\"y\":[69.2373146461557,72.29845761573951,78.07440625148908,81.8057026121577,77.51259455033403,81.0061268219742,86.01201643997595,82.38507029320442]},\"selected\":{\"id\":\"33604\",\"type\":\"Selection\"},\"selection_policy\":{\"id\":\"33605\",\"type\":\"UnionRenderers\"}},\"id\":\"33575\",\"type\":\"ColumnDataSource\"},{\"attributes\":{\"overlay\":{\"id\":\"33585\",\"type\":\"BoxAnnotation\"}},\"id\":\"33564\",\"type\":\"BoxZoomTool\"},{\"attributes\":{\"callback\":null,\"data\":{\"x\":[\"2010\",\"2011\",\"2012\",\"2013\",\"2014\",\"2015\",\"2016\",\"2017\"],\"y\":[98.60126354061576,99.03754266433798,99.07563421003766,98.99061001274666,99.23813510360118,99.26019316389551,99.37193589589631,99.34150004009295]},\"selected\":{\"id\":\"34506\",\"type\":\"Selection\"},\"selection_policy\":{\"id\":\"34507\",\"type\":\"UnionRenderers\"}},\"id\":\"33614\",\"type\":\"ColumnDataSource\"},{\"attributes\":{\"callback\":null},\"id\":\"33546\",\"type\":\"DataRange1d\"},{\"attributes\":{},\"id\":\"33563\",\"type\":\"WheelZoomTool\"},{\"attributes\":{\"callback\":null,\"data\":{\"x\":[\"2010\",\"2011\",\"2012\",\"2013\",\"2014\",\"2015\",\"2016\",\"2017\"],\"y\":[96.50415085262814,89.42889728758811,92.57459369827922,91.294425846238,94.29379999548429,99.107942466396,99.22860159362506,92.46225099778181]},\"selected\":{\"id\":\"33631\",\"type\":\"Selection\"},\"selection_policy\":{\"id\":\"33632\",\"type\":\"UnionRenderers\"}},\"id\":\"33609\",\"type\":\"ColumnDataSource\"},{\"attributes\":{\"grid_line_color\":null,\"ticker\":{\"id\":\"33553\",\"type\":\"BasicTicker\"}},\"id\":\"33556\",\"type\":\"Grid\"},{\"attributes\":{\"line_alpha\":0.1,\"line_color\":\"#1f77b4\",\"line_width\":4,\"x\":{\"field\":\"x\"},\"y\":{\"field\":\"y\"}},\"id\":\"33616\",\"type\":\"Line\"},{\"attributes\":{},\"id\":\"33562\",\"type\":\"PanTool\"},{\"attributes\":{\"callback\":null,\"tooltips\":\"                \\n        <div style=padding=5px>Year:@x</div>\\n        <div style=padding=5px>Value:@y</div>        \\n        \"},\"id\":\"33639\",\"type\":\"HoverTool\"},{\"attributes\":{\"line_alpha\":0.1,\"line_color\":\"#1f77b4\",\"line_width\":4,\"x\":{\"field\":\"x\"},\"y\":{\"field\":\"y\"}},\"id\":\"33577\",\"type\":\"Line\"},{\"attributes\":{\"fill_alpha\":{\"value\":0.1},\"fill_color\":{\"value\":\"#1f77b4\"},\"line_alpha\":{\"value\":0.1},\"line_color\":{\"value\":\"#1f77b4\"},\"size\":{\"units\":\"screen\",\"value\":1},\"x\":{\"field\":\"x\"},\"y\":{\"field\":\"y\"}},\"id\":\"33611\",\"type\":\"Circle\"},{\"attributes\":{\"data_source\":{\"id\":\"33634\",\"type\":\"ColumnDataSource\"},\"glyph\":{\"id\":\"33635\",\"type\":\"Circle\"},\"hover_glyph\":null,\"muted_glyph\":null,\"nonselection_glyph\":{\"id\":\"33636\",\"type\":\"Circle\"},\"selection_glyph\":null,\"view\":{\"id\":\"33638\",\"type\":\"CDSView\"}},\"id\":\"33637\",\"type\":\"GlyphRenderer\"},{\"attributes\":{\"dimension\":1,\"grid_line_alpha\":0.5,\"ticker\":{\"id\":\"33558\",\"type\":\"BasicTicker\"}},\"id\":\"33561\",\"type\":\"Grid\"},{\"attributes\":{},\"id\":\"33630\",\"type\":\"UnionRenderers\"},{\"attributes\":{},\"id\":\"33632\",\"type\":\"UnionRenderers\"},{\"attributes\":{},\"id\":\"33553\",\"type\":\"BasicTicker\"},{\"attributes\":{\"source\":{\"id\":\"33593\",\"type\":\"ColumnDataSource\"}},\"id\":\"33597\",\"type\":\"CDSView\"},{\"attributes\":{\"callback\":null,\"data\":{\"x\":[\"2010\",\"2011\",\"2012\",\"2013\",\"2014\",\"2015\",\"2016\",\"2017\"],\"y\":[98.60126354061576,99.03754266433798,99.07563421003766,98.99061001274666,99.23813510360118,99.26019316389551,99.37193589589631,99.34150004009295]},\"selected\":{\"id\":\"34508\",\"type\":\"Selection\"},\"selection_policy\":{\"id\":\"34509\",\"type\":\"UnionRenderers\"}},\"id\":\"33634\",\"type\":\"ColumnDataSource\"},{\"attributes\":{\"active_drag\":\"auto\",\"active_inspect\":\"auto\",\"active_multi\":null,\"active_scroll\":\"auto\",\"active_tap\":\"auto\",\"tools\":[{\"id\":\"33562\",\"type\":\"PanTool\"},{\"id\":\"33563\",\"type\":\"WheelZoomTool\"},{\"id\":\"33564\",\"type\":\"BoxZoomTool\"},{\"id\":\"33565\",\"type\":\"SaveTool\"},{\"id\":\"33566\",\"type\":\"ResetTool\"},{\"id\":\"33567\",\"type\":\"HelpTool\"},{\"id\":\"33639\",\"type\":\"HoverTool\"}]},\"id\":\"33568\",\"type\":\"Toolbar\"},{\"attributes\":{},\"id\":\"33548\",\"type\":\"LinearScale\"},{\"attributes\":{},\"id\":\"33631\",\"type\":\"Selection\"},{\"attributes\":{\"data_source\":{\"id\":\"33588\",\"type\":\"ColumnDataSource\"},\"glyph\":{\"id\":\"33589\",\"type\":\"Circle\"},\"hover_glyph\":null,\"muted_glyph\":null,\"nonselection_glyph\":{\"id\":\"33590\",\"type\":\"Circle\"},\"selection_glyph\":null,\"view\":{\"id\":\"33592\",\"type\":\"CDSView\"}},\"id\":\"33591\",\"type\":\"GlyphRenderer\"},{\"attributes\":{\"source\":{\"id\":\"33609\",\"type\":\"ColumnDataSource\"}},\"id\":\"33613\",\"type\":\"CDSView\"},{\"attributes\":{\"axis_label\":\"Years\",\"formatter\":{\"id\":\"33582\",\"type\":\"BasicTickFormatter\"},\"ticker\":{\"id\":\"33553\",\"type\":\"BasicTicker\"}},\"id\":\"33552\",\"type\":\"LinearAxis\"},{\"attributes\":{},\"id\":\"33605\",\"type\":\"UnionRenderers\"},{\"attributes\":{\"source\":{\"id\":\"33575\",\"type\":\"ColumnDataSource\"}},\"id\":\"33579\",\"type\":\"CDSView\"},{\"attributes\":{},\"id\":\"34508\",\"type\":\"Selection\"},{\"attributes\":{},\"id\":\"34506\",\"type\":\"Selection\"},{\"attributes\":{\"label\":{\"value\":\"OECD\"},\"renderers\":[{\"id\":\"33617\",\"type\":\"GlyphRenderer\"}]},\"id\":\"33633\",\"type\":\"LegendItem\"},{\"attributes\":{\"data_source\":{\"id\":\"33575\",\"type\":\"ColumnDataSource\"},\"glyph\":{\"id\":\"33576\",\"type\":\"Line\"},\"hover_glyph\":null,\"muted_glyph\":null,\"nonselection_glyph\":{\"id\":\"33577\",\"type\":\"Line\"},\"selection_glyph\":null,\"view\":{\"id\":\"33579\",\"type\":\"CDSView\"}},\"id\":\"33578\",\"type\":\"GlyphRenderer\"},{\"attributes\":{},\"id\":\"33607\",\"type\":\"UnionRenderers\"}],\"root_ids\":[\"33541\"]},\"title\":\"Bokeh Application\",\"version\":\"1.3.4\"}};\n",
       "  var render_items = [{\"docid\":\"d24f10d6-5596-48aa-b478-3d2f28a6becd\",\"roots\":{\"33541\":\"e2666822-c700-49de-9063-f3e0932b4019\"}}];\n",
       "  root.Bokeh.embed.embed_items_notebook(docs_json, render_items);\n",
       "\n",
       "  }\n",
       "  if (root.Bokeh !== undefined) {\n",
       "    embed_document(root);\n",
       "  } else {\n",
       "    var attempts = 0;\n",
       "    var timer = setInterval(function(root) {\n",
       "      if (root.Bokeh !== undefined) {\n",
       "        embed_document(root);\n",
       "        clearInterval(timer);\n",
       "      }\n",
       "      attempts++;\n",
       "      if (attempts > 100) {\n",
       "        console.log(\"Bokeh: ERROR: Unable to run BokehJS code because BokehJS library is missing\");\n",
       "        clearInterval(timer);\n",
       "      }\n",
       "    }, 10, root)\n",
       "  }\n",
       "})(window);"
      ],
      "application/vnd.bokehjs_exec.v0+json": ""
     },
     "metadata": {
      "application/vnd.bokehjs_exec.v0+json": {
       "id": "33541"
      }
     },
     "output_type": "display_data"
    }
   ],
   "source": [
    "#Literacy rate, youth, total (% of youth 15-24)\n",
    "years = list(map(str, list(range(2010,2018))))\n",
    "result = show_weighted_average(years, 'SE.ADT.1524.LT.ZS', 'SP.POP.TOTL', \n",
    "                               ['LDCs', 'Developing excluding LDCs', 'OECD'], \n",
    "                                height=400, width=1000, line_width=4)"
   ]
  },
  {
   "cell_type": "code",
   "execution_count": 64,
   "metadata": {},
   "outputs": [
    {
     "data": {
      "text/html": [
       "\n",
       "\n",
       "\n",
       "\n",
       "\n",
       "\n",
       "  <div class=\"bk-root\" id=\"e7c4ca22-a738-4b03-92f1-86517a17fdab\" data-root-id=\"38650\"></div>\n"
      ]
     },
     "metadata": {},
     "output_type": "display_data"
    },
    {
     "data": {
      "application/javascript": [
       "(function(root) {\n",
       "  function embed_document(root) {\n",
       "    \n",
       "  var docs_json = {\"f26ec54d-724a-4650-8fe2-49da4d3d9e8b\":{\"roots\":{\"references\":[{\"attributes\":{\"below\":[{\"id\":\"38661\",\"type\":\"LinearAxis\"}],\"center\":[{\"id\":\"38665\",\"type\":\"Grid\"},{\"id\":\"38670\",\"type\":\"Grid\"},{\"id\":\"38695\",\"type\":\"Legend\"}],\"left\":[{\"id\":\"38666\",\"type\":\"LinearAxis\"}],\"plot_height\":400,\"plot_width\":1000,\"renderers\":[{\"id\":\"38687\",\"type\":\"GlyphRenderer\"},{\"id\":\"38700\",\"type\":\"GlyphRenderer\"}],\"title\":{\"id\":\"38651\",\"type\":\"Title\"},\"toolbar\":{\"id\":\"38677\",\"type\":\"Toolbar\"},\"x_range\":{\"id\":\"38653\",\"type\":\"DataRange1d\"},\"x_scale\":{\"id\":\"38657\",\"type\":\"LinearScale\"},\"y_range\":{\"id\":\"38655\",\"type\":\"DataRange1d\"},\"y_scale\":{\"id\":\"38659\",\"type\":\"LinearScale\"}},\"id\":\"38650\",\"subtype\":\"Figure\",\"type\":\"Plot\"},{\"attributes\":{\"callback\":null,\"data\":{\"x\":[\"2011\",\"2012\",\"2013\",\"2014\",\"2015\",\"2016\",\"2017\"],\"y\":[22.196484798594305,16.63124145427354,14.405234475255297,16.370937711552916,18.649822551545157,28.93374675550048,29.34753578925073]},\"selected\":{\"id\":\"39619\",\"type\":\"Selection\"},\"selection_policy\":{\"id\":\"39620\",\"type\":\"UnionRenderers\"}},\"id\":\"38684\",\"type\":\"ColumnDataSource\"},{\"attributes\":{},\"id\":\"38691\",\"type\":\"BasicTickFormatter\"},{\"attributes\":{\"fill_alpha\":{\"value\":0.1},\"fill_color\":{\"value\":\"#1f77b4\"},\"line_alpha\":{\"value\":0.1},\"line_color\":{\"value\":\"#1f77b4\"},\"size\":{\"units\":\"screen\",\"value\":1},\"x\":{\"field\":\"x\"},\"y\":{\"field\":\"y\"}},\"id\":\"38699\",\"type\":\"Circle\"},{\"attributes\":{\"data_source\":{\"id\":\"38697\",\"type\":\"ColumnDataSource\"},\"glyph\":{\"id\":\"38698\",\"type\":\"Circle\"},\"hover_glyph\":null,\"muted_glyph\":null,\"nonselection_glyph\":{\"id\":\"38699\",\"type\":\"Circle\"},\"selection_glyph\":null,\"view\":{\"id\":\"38701\",\"type\":\"CDSView\"}},\"id\":\"38700\",\"type\":\"GlyphRenderer\"},{\"attributes\":{},\"id\":\"38693\",\"type\":\"BasicTickFormatter\"},{\"attributes\":{\"axis_label\":\"SL.UEM.NEET.ZS\",\"formatter\":{\"id\":\"38693\",\"type\":\"BasicTickFormatter\"},\"ticker\":{\"id\":\"38667\",\"type\":\"BasicTicker\"}},\"id\":\"38666\",\"type\":\"LinearAxis\"},{\"attributes\":{\"items\":[{\"id\":\"38696\",\"type\":\"LegendItem\"}],\"location\":\"bottom_left\"},\"id\":\"38695\",\"type\":\"Legend\"},{\"attributes\":{},\"id\":\"38667\",\"type\":\"BasicTicker\"},{\"attributes\":{\"line_alpha\":0.1,\"line_color\":\"#1f77b4\",\"line_width\":4,\"x\":{\"field\":\"x\"},\"y\":{\"field\":\"y\"}},\"id\":\"38686\",\"type\":\"Line\"},{\"attributes\":{\"data_source\":{\"id\":\"38684\",\"type\":\"ColumnDataSource\"},\"glyph\":{\"id\":\"38685\",\"type\":\"Line\"},\"hover_glyph\":null,\"muted_glyph\":null,\"nonselection_glyph\":{\"id\":\"38686\",\"type\":\"Line\"},\"selection_glyph\":null,\"view\":{\"id\":\"38688\",\"type\":\"CDSView\"}},\"id\":\"38687\",\"type\":\"GlyphRenderer\"},{\"attributes\":{\"label\":{\"value\":\"LDCs\"},\"renderers\":[{\"id\":\"38687\",\"type\":\"GlyphRenderer\"}]},\"id\":\"38696\",\"type\":\"LegendItem\"},{\"attributes\":{\"axis_label\":\"Years\",\"formatter\":{\"id\":\"38691\",\"type\":\"BasicTickFormatter\"},\"ticker\":{\"id\":\"38662\",\"type\":\"BasicTicker\"}},\"id\":\"38661\",\"type\":\"LinearAxis\"},{\"attributes\":{},\"id\":\"38662\",\"type\":\"BasicTicker\"},{\"attributes\":{\"callback\":null,\"data\":{\"x\":[\"2011\",\"2012\",\"2013\",\"2014\",\"2015\",\"2016\",\"2017\"],\"y\":[22.196484798594305,16.63124145427354,14.405234475255297,16.370937711552916,18.649822551545157,28.93374675550048,29.34753578925073]},\"selected\":{\"id\":\"39621\",\"type\":\"Selection\"},\"selection_policy\":{\"id\":\"39622\",\"type\":\"UnionRenderers\"}},\"id\":\"38697\",\"type\":\"ColumnDataSource\"},{\"attributes\":{\"dimension\":1,\"grid_line_alpha\":0.5,\"ticker\":{\"id\":\"38667\",\"type\":\"BasicTicker\"}},\"id\":\"38670\",\"type\":\"Grid\"},{\"attributes\":{\"callback\":null},\"id\":\"38655\",\"type\":\"DataRange1d\"},{\"attributes\":{\"fill_color\":{\"value\":\"#FA1857\"},\"line_color\":{\"value\":\"#FA1857\"},\"size\":{\"units\":\"screen\",\"value\":1},\"x\":{\"field\":\"x\"},\"y\":{\"field\":\"y\"}},\"id\":\"38698\",\"type\":\"Circle\"},{\"attributes\":{},\"id\":\"38657\",\"type\":\"LinearScale\"},{\"attributes\":{\"source\":{\"id\":\"38697\",\"type\":\"ColumnDataSource\"}},\"id\":\"38701\",\"type\":\"CDSView\"},{\"attributes\":{\"active_drag\":\"auto\",\"active_inspect\":\"auto\",\"active_multi\":null,\"active_scroll\":\"auto\",\"active_tap\":\"auto\",\"tools\":[{\"id\":\"38671\",\"type\":\"PanTool\"},{\"id\":\"38672\",\"type\":\"WheelZoomTool\"},{\"id\":\"38673\",\"type\":\"BoxZoomTool\"},{\"id\":\"38674\",\"type\":\"SaveTool\"},{\"id\":\"38675\",\"type\":\"ResetTool\"},{\"id\":\"38676\",\"type\":\"HelpTool\"},{\"id\":\"38702\",\"type\":\"HoverTool\"}]},\"id\":\"38677\",\"type\":\"Toolbar\"},{\"attributes\":{\"grid_line_color\":null,\"ticker\":{\"id\":\"38662\",\"type\":\"BasicTicker\"}},\"id\":\"38665\",\"type\":\"Grid\"},{\"attributes\":{\"bottom_units\":\"screen\",\"fill_alpha\":{\"value\":0.5},\"fill_color\":{\"value\":\"lightgrey\"},\"left_units\":\"screen\",\"level\":\"overlay\",\"line_alpha\":{\"value\":1.0},\"line_color\":{\"value\":\"black\"},\"line_dash\":[4,4],\"line_width\":{\"value\":2},\"render_mode\":\"css\",\"right_units\":\"screen\",\"top_units\":\"screen\"},\"id\":\"38694\",\"type\":\"BoxAnnotation\"},{\"attributes\":{},\"id\":\"38675\",\"type\":\"ResetTool\"},{\"attributes\":{},\"id\":\"39619\",\"type\":\"Selection\"},{\"attributes\":{},\"id\":\"38676\",\"type\":\"HelpTool\"},{\"attributes\":{\"text\":\"Share of youth not in education, employment or training, total (% of youth population) weighted against Population, total\"},\"id\":\"38651\",\"type\":\"Title\"},{\"attributes\":{},\"id\":\"39620\",\"type\":\"UnionRenderers\"},{\"attributes\":{},\"id\":\"38674\",\"type\":\"SaveTool\"},{\"attributes\":{},\"id\":\"38659\",\"type\":\"LinearScale\"},{\"attributes\":{\"source\":{\"id\":\"38684\",\"type\":\"ColumnDataSource\"}},\"id\":\"38688\",\"type\":\"CDSView\"},{\"attributes\":{},\"id\":\"39621\",\"type\":\"Selection\"},{\"attributes\":{},\"id\":\"38672\",\"type\":\"WheelZoomTool\"},{\"attributes\":{},\"id\":\"39622\",\"type\":\"UnionRenderers\"},{\"attributes\":{\"overlay\":{\"id\":\"38694\",\"type\":\"BoxAnnotation\"}},\"id\":\"38673\",\"type\":\"BoxZoomTool\"},{\"attributes\":{},\"id\":\"38671\",\"type\":\"PanTool\"},{\"attributes\":{\"callback\":null},\"id\":\"38653\",\"type\":\"DataRange1d\"},{\"attributes\":{\"line_color\":\"#FA1857\",\"line_width\":4,\"x\":{\"field\":\"x\"},\"y\":{\"field\":\"y\"}},\"id\":\"38685\",\"type\":\"Line\"},{\"attributes\":{\"callback\":null,\"tooltips\":\"                \\n        <div style=padding=5px>Year:@x</div>\\n        <div style=padding=5px>Value:@y</div>        \\n        \"},\"id\":\"38702\",\"type\":\"HoverTool\"}],\"root_ids\":[\"38650\"]},\"title\":\"Bokeh Application\",\"version\":\"1.3.4\"}};\n",
       "  var render_items = [{\"docid\":\"f26ec54d-724a-4650-8fe2-49da4d3d9e8b\",\"roots\":{\"38650\":\"e7c4ca22-a738-4b03-92f1-86517a17fdab\"}}];\n",
       "  root.Bokeh.embed.embed_items_notebook(docs_json, render_items);\n",
       "\n",
       "  }\n",
       "  if (root.Bokeh !== undefined) {\n",
       "    embed_document(root);\n",
       "  } else {\n",
       "    var attempts = 0;\n",
       "    var timer = setInterval(function(root) {\n",
       "      if (root.Bokeh !== undefined) {\n",
       "        embed_document(root);\n",
       "        clearInterval(timer);\n",
       "      }\n",
       "      attempts++;\n",
       "      if (attempts > 100) {\n",
       "        console.log(\"Bokeh: ERROR: Unable to run BokehJS code because BokehJS library is missing\");\n",
       "        clearInterval(timer);\n",
       "      }\n",
       "    }, 10, root)\n",
       "  }\n",
       "})(window);"
      ],
      "application/vnd.bokehjs_exec.v0+json": ""
     },
     "metadata": {
      "application/vnd.bokehjs_exec.v0+json": {
       "id": "38650"
      }
     },
     "output_type": "display_data"
    }
   ],
   "source": [
    "# Literacy rate, youth, total (% of youth 15-24)\n",
    "years = list(map(str, list(range(2011,2018))))\n",
    "result = show_weighted_average(years, 'SL.UEM.NEET.ZS', 'SP.POP.TOTL', \n",
    "                               ['LDCs'], \n",
    "                                height=400, width=1000, line_width=4)"
   ]
  },
  {
   "cell_type": "markdown",
   "metadata": {},
   "source": [
    "# Support training to provide quality education\n",
    "\n",
    "\n",
    "# Unemployment rate is substantially higher for youth population\n",
    "\n",
    "\n",
    "# Underemployment and vulnerable employment particularly affect the youth and in many countries has a gender dimension\n",
    "\n",
    "\n",
    "# Promote employment opportunities for the youth"
   ]
  },
  {
   "cell_type": "markdown",
   "metadata": {
    "slideshow": {
     "slide_type": "slide"
    }
   },
   "source": [
    "# Shelter"
   ]
  },
  {
   "cell_type": "code",
   "execution_count": 46,
   "metadata": {
    "ExecuteTime": {
     "end_time": "2019-10-25T14:25:51.766648Z",
     "start_time": "2019-10-25T14:25:50.523438Z"
    },
    "slideshow": {
     "slide_type": "slide"
    }
   },
   "outputs": [
    {
     "data": {
      "text/html": [
       "\n",
       "\n",
       "\n",
       "\n",
       "\n",
       "\n",
       "  <div class=\"bk-root\" id=\"b354ed46-4705-425e-8185-9d45392a92ca\" data-root-id=\"21279\"></div>\n"
      ]
     },
     "metadata": {},
     "output_type": "display_data"
    },
    {
     "data": {
      "application/javascript": [
       "(function(root) {\n",
       "  function embed_document(root) {\n",
       "    \n",
       "  var docs_json = {\"3f8fa994-66d0-4d2a-8815-9f6795da74f1\":{\"roots\":{\"references\":[{\"attributes\":{\"below\":[{\"id\":\"21290\",\"type\":\"LinearAxis\"}],\"center\":[{\"id\":\"21294\",\"type\":\"Grid\"},{\"id\":\"21299\",\"type\":\"Grid\"},{\"id\":\"21324\",\"type\":\"Legend\"}],\"left\":[{\"id\":\"21295\",\"type\":\"LinearAxis\"}],\"plot_height\":400,\"plot_width\":1000,\"renderers\":[{\"id\":\"21316\",\"type\":\"GlyphRenderer\"},{\"id\":\"21329\",\"type\":\"GlyphRenderer\"},{\"id\":\"21334\",\"type\":\"GlyphRenderer\"},{\"id\":\"21350\",\"type\":\"GlyphRenderer\"},{\"id\":\"21355\",\"type\":\"GlyphRenderer\"},{\"id\":\"21375\",\"type\":\"GlyphRenderer\"}],\"title\":{\"id\":\"21280\",\"type\":\"Title\"},\"toolbar\":{\"id\":\"21306\",\"type\":\"Toolbar\"},\"x_range\":{\"id\":\"21282\",\"type\":\"DataRange1d\"},\"x_scale\":{\"id\":\"21286\",\"type\":\"LinearScale\"},\"y_range\":{\"id\":\"21284\",\"type\":\"DataRange1d\"},\"y_scale\":{\"id\":\"21288\",\"type\":\"LinearScale\"}},\"id\":\"21279\",\"subtype\":\"Figure\",\"type\":\"Plot\"},{\"attributes\":{\"callback\":null,\"data\":{\"x\":[\"2000\",\"2005\",\"2007\",\"2009\",\"2014\"],\"y\":[37.12593509389958,32.316430637513314,30.981376218825975,30.14981039905175,25.693627611759997]},\"selected\":{\"id\":\"21369\",\"type\":\"Selection\"},\"selection_policy\":{\"id\":\"21370\",\"type\":\"UnionRenderers\"}},\"id\":\"21347\",\"type\":\"ColumnDataSource\"},{\"attributes\":{},\"id\":\"21369\",\"type\":\"Selection\"},{\"attributes\":{},\"id\":\"22031\",\"type\":\"UnionRenderers\"},{\"attributes\":{},\"id\":\"21291\",\"type\":\"BasicTicker\"},{\"attributes\":{\"source\":{\"id\":\"21331\",\"type\":\"ColumnDataSource\"}},\"id\":\"21335\",\"type\":\"CDSView\"},{\"attributes\":{\"fill_alpha\":{\"value\":0.1},\"fill_color\":{\"value\":\"#1f77b4\"},\"line_alpha\":{\"value\":0.1},\"line_color\":{\"value\":\"#1f77b4\"},\"size\":{\"units\":\"screen\",\"value\":1},\"x\":{\"field\":\"x\"},\"y\":{\"field\":\"y\"}},\"id\":\"21349\",\"type\":\"Circle\"},{\"attributes\":{\"data_source\":{\"id\":\"21372\",\"type\":\"ColumnDataSource\"},\"glyph\":{\"id\":\"21373\",\"type\":\"Circle\"},\"hover_glyph\":null,\"muted_glyph\":null,\"nonselection_glyph\":{\"id\":\"21374\",\"type\":\"Circle\"},\"selection_glyph\":null,\"view\":{\"id\":\"21376\",\"type\":\"CDSView\"}},\"id\":\"21375\",\"type\":\"GlyphRenderer\"},{\"attributes\":{\"callback\":null,\"data\":{\"x\":[\"2000\",\"2005\",\"2007\",\"2009\",\"2014\"],\"y\":[37.12593509389958,32.316430637513314,30.981376218825975,30.14981039905175,25.693627611759997]},\"selected\":{\"id\":\"21367\",\"type\":\"Selection\"},\"selection_policy\":{\"id\":\"21368\",\"type\":\"UnionRenderers\"}},\"id\":\"21331\",\"type\":\"ColumnDataSource\"},{\"attributes\":{\"line_alpha\":0.1,\"line_color\":\"#1f77b4\",\"line_width\":4,\"x\":{\"field\":\"x\"},\"y\":{\"field\":\"y\"}},\"id\":\"21354\",\"type\":\"Line\"},{\"attributes\":{\"data_source\":{\"id\":\"21352\",\"type\":\"ColumnDataSource\"},\"glyph\":{\"id\":\"21353\",\"type\":\"Line\"},\"hover_glyph\":null,\"muted_glyph\":null,\"nonselection_glyph\":{\"id\":\"21354\",\"type\":\"Line\"},\"selection_glyph\":null,\"view\":{\"id\":\"21356\",\"type\":\"CDSView\"}},\"id\":\"21355\",\"type\":\"GlyphRenderer\"},{\"attributes\":{\"source\":{\"id\":\"21326\",\"type\":\"ColumnDataSource\"}},\"id\":\"21330\",\"type\":\"CDSView\"},{\"attributes\":{\"data_source\":{\"id\":\"21331\",\"type\":\"ColumnDataSource\"},\"glyph\":{\"id\":\"21332\",\"type\":\"Line\"},\"hover_glyph\":null,\"muted_glyph\":null,\"nonselection_glyph\":{\"id\":\"21333\",\"type\":\"Line\"},\"selection_glyph\":null,\"view\":{\"id\":\"21335\",\"type\":\"CDSView\"}},\"id\":\"21334\",\"type\":\"GlyphRenderer\"},{\"attributes\":{\"fill_color\":{\"value\":\"#2CC775\"},\"line_color\":{\"value\":\"#2CC775\"},\"size\":{\"units\":\"screen\",\"value\":1},\"x\":{\"field\":\"x\"},\"y\":{\"field\":\"y\"}},\"id\":\"21373\",\"type\":\"Circle\"},{\"attributes\":{\"source\":{\"id\":\"21372\",\"type\":\"ColumnDataSource\"}},\"id\":\"21376\",\"type\":\"CDSView\"},{\"attributes\":{\"items\":[{\"id\":\"21325\",\"type\":\"LegendItem\"},{\"id\":\"21346\",\"type\":\"LegendItem\"},{\"id\":\"21371\",\"type\":\"LegendItem\"}],\"location\":\"bottom_left\"},\"id\":\"21324\",\"type\":\"Legend\"},{\"attributes\":{\"text\":\"Population living in slums (% of urban population) weighted against Urban population\"},\"id\":\"21280\",\"type\":\"Title\"},{\"attributes\":{\"data_source\":{\"id\":\"21347\",\"type\":\"ColumnDataSource\"},\"glyph\":{\"id\":\"21348\",\"type\":\"Circle\"},\"hover_glyph\":null,\"muted_glyph\":null,\"nonselection_glyph\":{\"id\":\"21349\",\"type\":\"Circle\"},\"selection_glyph\":null,\"view\":{\"id\":\"21351\",\"type\":\"CDSView\"}},\"id\":\"21350\",\"type\":\"GlyphRenderer\"},{\"attributes\":{\"line_alpha\":0.1,\"line_color\":\"#1f77b4\",\"line_width\":4,\"x\":{\"field\":\"x\"},\"y\":{\"field\":\"y\"}},\"id\":\"21333\",\"type\":\"Line\"},{\"attributes\":{\"active_drag\":\"auto\",\"active_inspect\":\"auto\",\"active_multi\":null,\"active_scroll\":\"auto\",\"active_tap\":\"auto\",\"tools\":[{\"id\":\"21300\",\"type\":\"PanTool\"},{\"id\":\"21301\",\"type\":\"WheelZoomTool\"},{\"id\":\"21302\",\"type\":\"BoxZoomTool\"},{\"id\":\"21303\",\"type\":\"SaveTool\"},{\"id\":\"21304\",\"type\":\"ResetTool\"},{\"id\":\"21305\",\"type\":\"HelpTool\"},{\"id\":\"21377\",\"type\":\"HoverTool\"}]},\"id\":\"21306\",\"type\":\"Toolbar\"},{\"attributes\":{},\"id\":\"21305\",\"type\":\"HelpTool\"},{\"attributes\":{\"fill_alpha\":{\"value\":0.1},\"fill_color\":{\"value\":\"#1f77b4\"},\"line_alpha\":{\"value\":0.1},\"line_color\":{\"value\":\"#1f77b4\"},\"size\":{\"units\":\"screen\",\"value\":1},\"x\":{\"field\":\"x\"},\"y\":{\"field\":\"y\"}},\"id\":\"21328\",\"type\":\"Circle\"},{\"attributes\":{\"source\":{\"id\":\"21347\",\"type\":\"ColumnDataSource\"}},\"id\":\"21351\",\"type\":\"CDSView\"},{\"attributes\":{},\"id\":\"21322\",\"type\":\"BasicTickFormatter\"},{\"attributes\":{\"label\":{\"value\":\"LDCs\"},\"renderers\":[{\"id\":\"21316\",\"type\":\"GlyphRenderer\"}]},\"id\":\"21325\",\"type\":\"LegendItem\"},{\"attributes\":{},\"id\":\"21367\",\"type\":\"Selection\"},{\"attributes\":{\"label\":{\"value\":\"Developing excluding LDCs\"},\"renderers\":[{\"id\":\"21334\",\"type\":\"GlyphRenderer\"}]},\"id\":\"21346\",\"type\":\"LegendItem\"},{\"attributes\":{\"callback\":null},\"id\":\"21282\",\"type\":\"DataRange1d\"},{\"attributes\":{\"data_source\":{\"id\":\"21313\",\"type\":\"ColumnDataSource\"},\"glyph\":{\"id\":\"21314\",\"type\":\"Line\"},\"hover_glyph\":null,\"muted_glyph\":null,\"nonselection_glyph\":{\"id\":\"21315\",\"type\":\"Line\"},\"selection_glyph\":null,\"view\":{\"id\":\"21317\",\"type\":\"CDSView\"}},\"id\":\"21316\",\"type\":\"GlyphRenderer\"},{\"attributes\":{},\"id\":\"21288\",\"type\":\"LinearScale\"},{\"attributes\":{},\"id\":\"21296\",\"type\":\"BasicTicker\"},{\"attributes\":{\"source\":{\"id\":\"21352\",\"type\":\"ColumnDataSource\"}},\"id\":\"21356\",\"type\":\"CDSView\"},{\"attributes\":{\"grid_line_color\":null,\"ticker\":{\"id\":\"21291\",\"type\":\"BasicTicker\"}},\"id\":\"21294\",\"type\":\"Grid\"},{\"attributes\":{\"callback\":null},\"id\":\"21284\",\"type\":\"DataRange1d\"},{\"attributes\":{\"callback\":null,\"data\":{\"x\":[\"2000\",\"2005\",\"2007\",\"2009\",\"2014\"],\"y\":[75.33747542942652,69.6201732119946,67.93590338091548,65.70655306857522,62.3851831063759]},\"selected\":{\"id\":\"21342\",\"type\":\"Selection\"},\"selection_policy\":{\"id\":\"21343\",\"type\":\"UnionRenderers\"}},\"id\":\"21313\",\"type\":\"ColumnDataSource\"},{\"attributes\":{\"fill_color\":{\"value\":\"#5430F1\"},\"line_color\":{\"value\":\"#5430F1\"},\"size\":{\"units\":\"screen\",\"value\":1},\"x\":{\"field\":\"x\"},\"y\":{\"field\":\"y\"}},\"id\":\"21348\",\"type\":\"Circle\"},{\"attributes\":{},\"id\":\"21345\",\"type\":\"UnionRenderers\"},{\"attributes\":{\"bottom_units\":\"screen\",\"fill_alpha\":{\"value\":0.5},\"fill_color\":{\"value\":\"lightgrey\"},\"left_units\":\"screen\",\"level\":\"overlay\",\"line_alpha\":{\"value\":1.0},\"line_color\":{\"value\":\"black\"},\"line_dash\":[4,4],\"line_width\":{\"value\":2},\"render_mode\":\"css\",\"right_units\":\"screen\",\"top_units\":\"screen\"},\"id\":\"21323\",\"type\":\"BoxAnnotation\"},{\"attributes\":{\"dimension\":1,\"grid_line_alpha\":0.5,\"ticker\":{\"id\":\"21296\",\"type\":\"BasicTicker\"}},\"id\":\"21299\",\"type\":\"Grid\"},{\"attributes\":{\"data_source\":{\"id\":\"21326\",\"type\":\"ColumnDataSource\"},\"glyph\":{\"id\":\"21327\",\"type\":\"Circle\"},\"hover_glyph\":null,\"muted_glyph\":null,\"nonselection_glyph\":{\"id\":\"21328\",\"type\":\"Circle\"},\"selection_glyph\":null,\"view\":{\"id\":\"21330\",\"type\":\"CDSView\"}},\"id\":\"21329\",\"type\":\"GlyphRenderer\"},{\"attributes\":{\"source\":{\"id\":\"21313\",\"type\":\"ColumnDataSource\"}},\"id\":\"21317\",\"type\":\"CDSView\"},{\"attributes\":{\"callback\":null,\"data\":{\"x\":[\"2000\",\"2005\",\"2007\",\"2009\",\"2014\"],\"y\":[19.186981494515138,14.221528307791516,14.290817645409502,13.0,11.398005045670415]},\"selected\":{\"id\":\"22032\",\"type\":\"Selection\"},\"selection_policy\":{\"id\":\"22033\",\"type\":\"UnionRenderers\"}},\"id\":\"21372\",\"type\":\"ColumnDataSource\"},{\"attributes\":{},\"id\":\"21300\",\"type\":\"PanTool\"},{\"attributes\":{},\"id\":\"21342\",\"type\":\"Selection\"},{\"attributes\":{\"axis_label\":\"Years\",\"formatter\":{\"id\":\"21320\",\"type\":\"BasicTickFormatter\"},\"ticker\":{\"id\":\"21291\",\"type\":\"BasicTicker\"}},\"id\":\"21290\",\"type\":\"LinearAxis\"},{\"attributes\":{\"callback\":null,\"data\":{\"x\":[\"2000\",\"2005\",\"2007\",\"2009\",\"2014\"],\"y\":[75.33747542942652,69.6201732119946,67.93590338091548,65.70655306857522,62.3851831063759]},\"selected\":{\"id\":\"21344\",\"type\":\"Selection\"},\"selection_policy\":{\"id\":\"21345\",\"type\":\"UnionRenderers\"}},\"id\":\"21326\",\"type\":\"ColumnDataSource\"},{\"attributes\":{\"callback\":null,\"data\":{\"x\":[\"2000\",\"2005\",\"2007\",\"2009\",\"2014\"],\"y\":[19.186981494515138,14.221528307791516,14.290817645409502,13.0,11.398005045670415]},\"selected\":{\"id\":\"22030\",\"type\":\"Selection\"},\"selection_policy\":{\"id\":\"22031\",\"type\":\"UnionRenderers\"}},\"id\":\"21352\",\"type\":\"ColumnDataSource\"},{\"attributes\":{\"line_alpha\":0.1,\"line_color\":\"#1f77b4\",\"line_width\":4,\"x\":{\"field\":\"x\"},\"y\":{\"field\":\"y\"}},\"id\":\"21315\",\"type\":\"Line\"},{\"attributes\":{\"line_color\":\"#5430F1\",\"line_width\":4,\"x\":{\"field\":\"x\"},\"y\":{\"field\":\"y\"}},\"id\":\"21332\",\"type\":\"Line\"},{\"attributes\":{\"callback\":null,\"tooltips\":\"                \\n        <div style=padding=5px>Year:@x</div>\\n        <div style=padding=5px>Value:@y</div>        \\n        \"},\"id\":\"21377\",\"type\":\"HoverTool\"},{\"attributes\":{},\"id\":\"21370\",\"type\":\"UnionRenderers\"},{\"attributes\":{},\"id\":\"22032\",\"type\":\"Selection\"},{\"attributes\":{},\"id\":\"21368\",\"type\":\"UnionRenderers\"},{\"attributes\":{\"line_color\":\"#FA1857\",\"line_width\":4,\"x\":{\"field\":\"x\"},\"y\":{\"field\":\"y\"}},\"id\":\"21314\",\"type\":\"Line\"},{\"attributes\":{\"overlay\":{\"id\":\"21323\",\"type\":\"BoxAnnotation\"}},\"id\":\"21302\",\"type\":\"BoxZoomTool\"},{\"attributes\":{\"fill_color\":{\"value\":\"#FA1857\"},\"line_color\":{\"value\":\"#FA1857\"},\"size\":{\"units\":\"screen\",\"value\":1},\"x\":{\"field\":\"x\"},\"y\":{\"field\":\"y\"}},\"id\":\"21327\",\"type\":\"Circle\"},{\"attributes\":{},\"id\":\"22030\",\"type\":\"Selection\"},{\"attributes\":{},\"id\":\"21320\",\"type\":\"BasicTickFormatter\"},{\"attributes\":{\"line_color\":\"#2CC775\",\"line_width\":4,\"x\":{\"field\":\"x\"},\"y\":{\"field\":\"y\"}},\"id\":\"21353\",\"type\":\"Line\"},{\"attributes\":{\"fill_alpha\":{\"value\":0.1},\"fill_color\":{\"value\":\"#1f77b4\"},\"line_alpha\":{\"value\":0.1},\"line_color\":{\"value\":\"#1f77b4\"},\"size\":{\"units\":\"screen\",\"value\":1},\"x\":{\"field\":\"x\"},\"y\":{\"field\":\"y\"}},\"id\":\"21374\",\"type\":\"Circle\"},{\"attributes\":{},\"id\":\"21286\",\"type\":\"LinearScale\"},{\"attributes\":{},\"id\":\"21344\",\"type\":\"Selection\"},{\"attributes\":{},\"id\":\"21303\",\"type\":\"SaveTool\"},{\"attributes\":{},\"id\":\"22033\",\"type\":\"UnionRenderers\"},{\"attributes\":{},\"id\":\"21343\",\"type\":\"UnionRenderers\"},{\"attributes\":{\"label\":{\"value\":\"OECD\"},\"renderers\":[{\"id\":\"21355\",\"type\":\"GlyphRenderer\"}]},\"id\":\"21371\",\"type\":\"LegendItem\"},{\"attributes\":{},\"id\":\"21304\",\"type\":\"ResetTool\"},{\"attributes\":{\"axis_label\":\"EN.POP.SLUM.UR.ZS\",\"formatter\":{\"id\":\"21322\",\"type\":\"BasicTickFormatter\"},\"ticker\":{\"id\":\"21296\",\"type\":\"BasicTicker\"}},\"id\":\"21295\",\"type\":\"LinearAxis\"},{\"attributes\":{},\"id\":\"21301\",\"type\":\"WheelZoomTool\"}],\"root_ids\":[\"21279\"]},\"title\":\"Bokeh Application\",\"version\":\"1.3.4\"}};\n",
       "  var render_items = [{\"docid\":\"3f8fa994-66d0-4d2a-8815-9f6795da74f1\",\"roots\":{\"21279\":\"b354ed46-4705-425e-8185-9d45392a92ca\"}}];\n",
       "  root.Bokeh.embed.embed_items_notebook(docs_json, render_items);\n",
       "\n",
       "  }\n",
       "  if (root.Bokeh !== undefined) {\n",
       "    embed_document(root);\n",
       "  } else {\n",
       "    var attempts = 0;\n",
       "    var timer = setInterval(function(root) {\n",
       "      if (root.Bokeh !== undefined) {\n",
       "        embed_document(root);\n",
       "        clearInterval(timer);\n",
       "      }\n",
       "      attempts++;\n",
       "      if (attempts > 100) {\n",
       "        console.log(\"Bokeh: ERROR: Unable to run BokehJS code because BokehJS library is missing\");\n",
       "        clearInterval(timer);\n",
       "      }\n",
       "    }, 10, root)\n",
       "  }\n",
       "})(window);"
      ],
      "application/vnd.bokehjs_exec.v0+json": ""
     },
     "metadata": {
      "application/vnd.bokehjs_exec.v0+json": {
       "id": "21279"
      }
     },
     "output_type": "display_data"
    }
   ],
   "source": [
    "# Percentage of urban population living in slums\n",
    "years = ['2000', '2005', '2007', '2009', '2014']\n",
    "result = show_weighted_average(years, 'EN.POP.SLUM.UR.ZS', 'SP.URB.TOTL', \n",
    "                               ['LDCs', 'Developing excluding LDCs', 'OECD'], \n",
    "                                height=400, width=1000, line_width=4)"
   ]
  },
  {
   "cell_type": "code",
   "execution_count": 47,
   "metadata": {
    "ExecuteTime": {
     "end_time": "2019-10-25T14:32:38.578383Z",
     "start_time": "2019-10-25T14:31:44.564667Z"
    },
    "slideshow": {
     "slide_type": "slide"
    }
   },
   "outputs": [
    {
     "data": {
      "text/html": [
       "\n",
       "\n",
       "\n",
       "\n",
       "\n",
       "\n",
       "  <div class=\"bk-root\" id=\"291d353e-c96d-49a3-b5ba-00b54cad3ef4\" data-root-id=\"22142\"></div>\n"
      ]
     },
     "metadata": {},
     "output_type": "display_data"
    },
    {
     "data": {
      "application/javascript": [
       "(function(root) {\n",
       "  function embed_document(root) {\n",
       "    \n",
       "  var docs_json = {\"51481167-ed89-40a4-a208-966e65721933\":{\"roots\":{\"references\":[{\"attributes\":{\"below\":[{\"id\":\"22153\",\"type\":\"LinearAxis\"}],\"center\":[{\"id\":\"22157\",\"type\":\"Grid\"},{\"id\":\"22162\",\"type\":\"Grid\"},{\"id\":\"22187\",\"type\":\"Legend\"}],\"left\":[{\"id\":\"22158\",\"type\":\"LinearAxis\"}],\"plot_height\":400,\"plot_width\":1000,\"renderers\":[{\"id\":\"22179\",\"type\":\"GlyphRenderer\"},{\"id\":\"22192\",\"type\":\"GlyphRenderer\"},{\"id\":\"22197\",\"type\":\"GlyphRenderer\"},{\"id\":\"22213\",\"type\":\"GlyphRenderer\"},{\"id\":\"22218\",\"type\":\"GlyphRenderer\"},{\"id\":\"22238\",\"type\":\"GlyphRenderer\"}],\"title\":{\"id\":\"22143\",\"type\":\"Title\"},\"toolbar\":{\"id\":\"22169\",\"type\":\"Toolbar\"},\"x_range\":{\"id\":\"22145\",\"type\":\"DataRange1d\"},\"x_scale\":{\"id\":\"22149\",\"type\":\"LinearScale\"},\"y_range\":{\"id\":\"22147\",\"type\":\"DataRange1d\"},\"y_scale\":{\"id\":\"22151\",\"type\":\"LinearScale\"}},\"id\":\"22142\",\"subtype\":\"Figure\",\"type\":\"Plot\"},{\"attributes\":{},\"id\":\"22163\",\"type\":\"PanTool\"},{\"attributes\":{\"line_color\":\"#2CC775\",\"line_width\":4,\"x\":{\"field\":\"x\"},\"y\":{\"field\":\"y\"}},\"id\":\"22216\",\"type\":\"Line\"},{\"attributes\":{\"data_source\":{\"id\":\"22189\",\"type\":\"ColumnDataSource\"},\"glyph\":{\"id\":\"22190\",\"type\":\"Circle\"},\"hover_glyph\":null,\"muted_glyph\":null,\"nonselection_glyph\":{\"id\":\"22191\",\"type\":\"Circle\"},\"selection_glyph\":null,\"view\":{\"id\":\"22193\",\"type\":\"CDSView\"}},\"id\":\"22192\",\"type\":\"GlyphRenderer\"},{\"attributes\":{},\"id\":\"22154\",\"type\":\"BasicTicker\"},{\"attributes\":{\"line_alpha\":0.1,\"line_color\":\"#1f77b4\",\"line_width\":4,\"x\":{\"field\":\"x\"},\"y\":{\"field\":\"y\"}},\"id\":\"22178\",\"type\":\"Line\"},{\"attributes\":{\"callback\":null,\"data\":{\"x\":[\"1960\",\"1961\",\"1962\",\"1963\",\"1964\",\"1965\",\"1966\",\"1967\",\"1968\",\"1969\",\"1970\",\"1971\",\"1972\",\"1973\",\"1974\",\"1975\",\"1976\",\"1977\",\"1978\",\"1979\",\"1980\",\"1981\",\"1982\",\"1983\",\"1984\",\"1985\",\"1986\",\"1987\",\"1988\",\"1989\",\"1990\",\"1991\",\"1992\",\"1993\",\"1994\",\"1995\",\"1996\",\"1997\",\"1998\",\"1999\",\"2000\",\"2001\",\"2002\",\"2003\",\"2004\",\"2005\",\"2006\",\"2007\",\"2008\",\"2009\",\"2010\",\"2011\",\"2012\",\"2013\",\"2014\",\"2015\",\"2016\",\"2017\"],\"y\":[9.590441626589154,9.82956798804145,10.089934021962767,10.364196897530594,10.652282421195487,10.950321706725706,11.25750617684957,11.597625960136675,11.951557303382339,12.322182079802046,12.693637316992934,13.102812270349515,13.538428975399318,13.979617608585043,14.426656898097457,14.327100490197138,14.800859912325933,15.295458366390301,15.807482552340032,16.301789127132675,16.872464467732378,17.378256808688977,17.729484022454084,18.11100449405242,18.536347067726282,18.98554603996622,19.438205330760468,19.894885353886682,20.35901959600948,20.801792260188662,21.259109417937637,21.691581230817796,22.09539325255832,22.480412543964785,22.815688586431065,23.135882958165656,23.454910987065734,23.783364917127294,24.10596219711036,24.429269167363092,24.760018964979476,25.144909976033862,25.560303342013075,25.99027025544907,26.42138428012602,26.865355922534857,27.302613758312003,27.694992295194165,28.177233849451273,28.66869884679192,29.16842314668098,29.675548544753788,30.14948587235772,30.64825122352178,31.151609942305576,31.658943613022824,32.17025719236082,32.68572055294565]},\"selected\":{\"id\":\"22205\",\"type\":\"Selection\"},\"selection_policy\":{\"id\":\"22206\",\"type\":\"UnionRenderers\"}},\"id\":\"22176\",\"type\":\"ColumnDataSource\"},{\"attributes\":{\"fill_alpha\":{\"value\":0.1},\"fill_color\":{\"value\":\"#1f77b4\"},\"line_alpha\":{\"value\":0.1},\"line_color\":{\"value\":\"#1f77b4\"},\"size\":{\"units\":\"screen\",\"value\":1},\"x\":{\"field\":\"x\"},\"y\":{\"field\":\"y\"}},\"id\":\"22191\",\"type\":\"Circle\"},{\"attributes\":{\"callback\":null,\"data\":{\"x\":[\"1960\",\"1961\",\"1962\",\"1963\",\"1964\",\"1965\",\"1966\",\"1967\",\"1968\",\"1969\",\"1970\",\"1971\",\"1972\",\"1973\",\"1974\",\"1975\",\"1976\",\"1977\",\"1978\",\"1979\",\"1980\",\"1981\",\"1982\",\"1983\",\"1984\",\"1985\",\"1986\",\"1987\",\"1988\",\"1989\",\"1990\",\"1991\",\"1992\",\"1993\",\"1994\",\"1995\",\"1996\",\"1997\",\"1998\",\"1999\",\"2000\",\"2001\",\"2002\",\"2003\",\"2004\",\"2005\",\"2006\",\"2007\",\"2008\",\"2009\",\"2010\",\"2011\",\"2012\",\"2013\",\"2014\",\"2015\",\"2016\",\"2017\"],\"y\":[62.59953620237616,63.08957334358763,63.57872639334224,64.08376999046433,64.58687436549964,65.087407161162,65.58539185759696,66.09314622321546,66.58824055065821,67.06756237656948,67.52628342166688,67.91756952516317,68.27745658275356,68.62376906240875,68.9745801014019,69.30531568374833,69.56047988482551,69.80755583528435,70.0570392716649,70.30188257560143,70.54728708463239,70.84080263406176,71.11518000620043,71.37556979428155,71.62682223254069,71.87801848980098,72.13955415956409,72.4211398671853,72.7000259866276,72.95811736019994,73.23560195464822,73.51484019892555,73.77414817178924,74.03783660613713,74.30723436951402,74.5745666211642,74.81851175794863,75.05227180897651,75.28501173120483,75.5181692891309,75.74974074372007,76.09479632423921,76.49560193311356,76.87622336289719,77.24127255096394,77.59143098241435,77.91417063193697,78.21867292983931,78.51440926413176,78.80120853028673,79.08124691428517,79.29771074412386,79.48385416511948,79.66738879268615,79.8506569075482,80.0386620288315,80.22913025645875,80.4233314253301]},\"selected\":{\"id\":\"22911\",\"type\":\"Selection\"},\"selection_policy\":{\"id\":\"22912\",\"type\":\"UnionRenderers\"}},\"id\":\"22215\",\"type\":\"ColumnDataSource\"},{\"attributes\":{\"axis_label\":\"Years\",\"formatter\":{\"id\":\"22183\",\"type\":\"BasicTickFormatter\"},\"ticker\":{\"id\":\"22154\",\"type\":\"BasicTicker\"}},\"id\":\"22153\",\"type\":\"LinearAxis\"},{\"attributes\":{\"fill_color\":{\"value\":\"#FA1857\"},\"line_color\":{\"value\":\"#FA1857\"},\"size\":{\"units\":\"screen\",\"value\":1},\"x\":{\"field\":\"x\"},\"y\":{\"field\":\"y\"}},\"id\":\"22190\",\"type\":\"Circle\"},{\"attributes\":{\"line_color\":\"#FA1857\",\"line_width\":4,\"x\":{\"field\":\"x\"},\"y\":{\"field\":\"y\"}},\"id\":\"22177\",\"type\":\"Line\"},{\"attributes\":{\"source\":{\"id\":\"22210\",\"type\":\"ColumnDataSource\"}},\"id\":\"22214\",\"type\":\"CDSView\"},{\"attributes\":{},\"id\":\"22912\",\"type\":\"UnionRenderers\"},{\"attributes\":{},\"id\":\"22151\",\"type\":\"LinearScale\"},{\"attributes\":{\"callback\":null,\"data\":{\"x\":[\"1960\",\"1961\",\"1962\",\"1963\",\"1964\",\"1965\",\"1966\",\"1967\",\"1968\",\"1969\",\"1970\",\"1971\",\"1972\",\"1973\",\"1974\",\"1975\",\"1976\",\"1977\",\"1978\",\"1979\",\"1980\",\"1981\",\"1982\",\"1983\",\"1984\",\"1985\",\"1986\",\"1987\",\"1988\",\"1989\",\"1990\",\"1991\",\"1992\",\"1993\",\"1994\",\"1995\",\"1996\",\"1997\",\"1998\",\"1999\",\"2000\",\"2001\",\"2002\",\"2003\",\"2004\",\"2005\",\"2006\",\"2007\",\"2008\",\"2009\",\"2010\",\"2011\",\"2012\",\"2013\",\"2014\",\"2015\",\"2016\",\"2017\"],\"y\":[9.590441626589154,9.82956798804145,10.089934021962767,10.364196897530594,10.652282421195487,10.950321706725706,11.25750617684957,11.597625960136675,11.951557303382339,12.322182079802046,12.693637316992934,13.102812270349515,13.538428975399318,13.979617608585043,14.426656898097457,14.327100490197138,14.800859912325933,15.295458366390301,15.807482552340032,16.301789127132675,16.872464467732378,17.378256808688977,17.729484022454084,18.11100449405242,18.536347067726282,18.98554603996622,19.438205330760468,19.894885353886682,20.35901959600948,20.801792260188662,21.259109417937637,21.691581230817796,22.09539325255832,22.480412543964785,22.815688586431065,23.135882958165656,23.454910987065734,23.783364917127294,24.10596219711036,24.429269167363092,24.760018964979476,25.144909976033862,25.560303342013075,25.99027025544907,26.42138428012602,26.865355922534857,27.302613758312003,27.694992295194165,28.177233849451273,28.66869884679192,29.16842314668098,29.675548544753788,30.14948587235772,30.64825122352178,31.151609942305576,31.658943613022824,32.17025719236082,32.68572055294565]},\"selected\":{\"id\":\"22207\",\"type\":\"Selection\"},\"selection_policy\":{\"id\":\"22208\",\"type\":\"UnionRenderers\"}},\"id\":\"22189\",\"type\":\"ColumnDataSource\"},{\"attributes\":{\"data_source\":{\"id\":\"22210\",\"type\":\"ColumnDataSource\"},\"glyph\":{\"id\":\"22211\",\"type\":\"Circle\"},\"hover_glyph\":null,\"muted_glyph\":null,\"nonselection_glyph\":{\"id\":\"22212\",\"type\":\"Circle\"},\"selection_glyph\":null,\"view\":{\"id\":\"22214\",\"type\":\"CDSView\"}},\"id\":\"22213\",\"type\":\"GlyphRenderer\"},{\"attributes\":{},\"id\":\"22911\",\"type\":\"Selection\"},{\"attributes\":{\"dimension\":1,\"grid_line_alpha\":0.5,\"ticker\":{\"id\":\"22159\",\"type\":\"BasicTicker\"}},\"id\":\"22162\",\"type\":\"Grid\"},{\"attributes\":{},\"id\":\"22149\",\"type\":\"LinearScale\"},{\"attributes\":{\"label\":{\"value\":\"LDCs\"},\"renderers\":[{\"id\":\"22179\",\"type\":\"GlyphRenderer\"}]},\"id\":\"22188\",\"type\":\"LegendItem\"},{\"attributes\":{\"fill_alpha\":{\"value\":0.1},\"fill_color\":{\"value\":\"#1f77b4\"},\"line_alpha\":{\"value\":0.1},\"line_color\":{\"value\":\"#1f77b4\"},\"size\":{\"units\":\"screen\",\"value\":1},\"x\":{\"field\":\"x\"},\"y\":{\"field\":\"y\"}},\"id\":\"22212\",\"type\":\"Circle\"},{\"attributes\":{\"callback\":null},\"id\":\"22147\",\"type\":\"DataRange1d\"},{\"attributes\":{},\"id\":\"22159\",\"type\":\"BasicTicker\"},{\"attributes\":{\"items\":[{\"id\":\"22188\",\"type\":\"LegendItem\"},{\"id\":\"22209\",\"type\":\"LegendItem\"},{\"id\":\"22234\",\"type\":\"LegendItem\"}],\"location\":\"bottom_left\"},\"id\":\"22187\",\"type\":\"Legend\"},{\"attributes\":{\"fill_color\":{\"value\":\"#5430F1\"},\"line_color\":{\"value\":\"#5430F1\"},\"size\":{\"units\":\"screen\",\"value\":1},\"x\":{\"field\":\"x\"},\"y\":{\"field\":\"y\"}},\"id\":\"22211\",\"type\":\"Circle\"},{\"attributes\":{\"source\":{\"id\":\"22235\",\"type\":\"ColumnDataSource\"}},\"id\":\"22239\",\"type\":\"CDSView\"},{\"attributes\":{\"callback\":null},\"id\":\"22145\",\"type\":\"DataRange1d\"},{\"attributes\":{\"bottom_units\":\"screen\",\"fill_alpha\":{\"value\":0.5},\"fill_color\":{\"value\":\"lightgrey\"},\"left_units\":\"screen\",\"level\":\"overlay\",\"line_alpha\":{\"value\":1.0},\"line_color\":{\"value\":\"black\"},\"line_dash\":[4,4],\"line_width\":{\"value\":2},\"render_mode\":\"css\",\"right_units\":\"screen\",\"top_units\":\"screen\"},\"id\":\"22186\",\"type\":\"BoxAnnotation\"},{\"attributes\":{\"callback\":null,\"data\":{\"x\":[\"1960\",\"1961\",\"1962\",\"1963\",\"1964\",\"1965\",\"1966\",\"1967\",\"1968\",\"1969\",\"1970\",\"1971\",\"1972\",\"1973\",\"1974\",\"1975\",\"1976\",\"1977\",\"1978\",\"1979\",\"1980\",\"1981\",\"1982\",\"1983\",\"1984\",\"1985\",\"1986\",\"1987\",\"1988\",\"1989\",\"1990\",\"1991\",\"1992\",\"1993\",\"1994\",\"1995\",\"1996\",\"1997\",\"1998\",\"1999\",\"2000\",\"2001\",\"2002\",\"2003\",\"2004\",\"2005\",\"2006\",\"2007\",\"2008\",\"2009\",\"2010\",\"2011\",\"2012\",\"2013\",\"2014\",\"2015\",\"2016\",\"2017\"],\"y\":[22.630949288694833,23.14281914867262,23.63312711968041,24.089976990736393,24.556059976253326,24.732603461884004,24.91323170795608,25.110005118236234,25.303107900443436,25.49142592220588,25.680646321274192,25.897359116719393,26.15520822571961,26.462227546535093,26.816876575043107,27.179600502462144,27.528279378386834,27.884271151811344,28.363702119408167,28.966693913320626,29.57896681146142,30.216362823981534,30.836365224138223,31.40227128490981,31.977573113645832,32.552216495483755,33.12127196800427,33.684605348038794,34.247222182829134,34.81002887259299,35.37519635893041,35.94756436038916,36.481760611613694,37.05433252421815,37.627897151830695,38.22540077342875,38.79671598864855,39.37048203585944,39.948270161766125,40.52672004161325,41.11494683071915,41.761603501479144,42.46147430353454,43.16134280503671,43.86666821577943,44.576114937235026,45.27519476585794,45.96910645799235,46.665300390624786,47.35893958565393,48.05102009881094,48.71516104918681,49.368472052422604,50.01832656497409,50.667168529751926,51.31245173550162,51.95558590128294,52.59415157798671]},\"selected\":{\"id\":\"22232\",\"type\":\"Selection\"},\"selection_policy\":{\"id\":\"22233\",\"type\":\"UnionRenderers\"}},\"id\":\"22210\",\"type\":\"ColumnDataSource\"},{\"attributes\":{\"data_source\":{\"id\":\"22235\",\"type\":\"ColumnDataSource\"},\"glyph\":{\"id\":\"22236\",\"type\":\"Circle\"},\"hover_glyph\":null,\"muted_glyph\":null,\"nonselection_glyph\":{\"id\":\"22237\",\"type\":\"Circle\"},\"selection_glyph\":null,\"view\":{\"id\":\"22239\",\"type\":\"CDSView\"}},\"id\":\"22238\",\"type\":\"GlyphRenderer\"},{\"attributes\":{\"text\":\"Urban population (% of total population) weighted against Population, total\"},\"id\":\"22143\",\"type\":\"Title\"},{\"attributes\":{},\"id\":\"22185\",\"type\":\"BasicTickFormatter\"},{\"attributes\":{\"label\":{\"value\":\"Developing excluding LDCs\"},\"renderers\":[{\"id\":\"22197\",\"type\":\"GlyphRenderer\"}]},\"id\":\"22209\",\"type\":\"LegendItem\"},{\"attributes\":{\"callback\":null,\"tooltips\":\"                \\n        <div style=padding=5px>Year:@x</div>\\n        <div style=padding=5px>Value:@y</div>        \\n        \"},\"id\":\"22240\",\"type\":\"HoverTool\"},{\"attributes\":{\"line_alpha\":0.1,\"line_color\":\"#1f77b4\",\"line_width\":4,\"x\":{\"field\":\"x\"},\"y\":{\"field\":\"y\"}},\"id\":\"22217\",\"type\":\"Line\"},{\"attributes\":{\"fill_alpha\":{\"value\":0.1},\"fill_color\":{\"value\":\"#1f77b4\"},\"line_alpha\":{\"value\":0.1},\"line_color\":{\"value\":\"#1f77b4\"},\"size\":{\"units\":\"screen\",\"value\":1},\"x\":{\"field\":\"x\"},\"y\":{\"field\":\"y\"}},\"id\":\"22237\",\"type\":\"Circle\"},{\"attributes\":{},\"id\":\"22183\",\"type\":\"BasicTickFormatter\"},{\"attributes\":{},\"id\":\"22208\",\"type\":\"UnionRenderers\"},{\"attributes\":{\"fill_color\":{\"value\":\"#2CC775\"},\"line_color\":{\"value\":\"#2CC775\"},\"size\":{\"units\":\"screen\",\"value\":1},\"x\":{\"field\":\"x\"},\"y\":{\"field\":\"y\"}},\"id\":\"22236\",\"type\":\"Circle\"},{\"attributes\":{\"callback\":null,\"data\":{\"x\":[\"1960\",\"1961\",\"1962\",\"1963\",\"1964\",\"1965\",\"1966\",\"1967\",\"1968\",\"1969\",\"1970\",\"1971\",\"1972\",\"1973\",\"1974\",\"1975\",\"1976\",\"1977\",\"1978\",\"1979\",\"1980\",\"1981\",\"1982\",\"1983\",\"1984\",\"1985\",\"1986\",\"1987\",\"1988\",\"1989\",\"1990\",\"1991\",\"1992\",\"1993\",\"1994\",\"1995\",\"1996\",\"1997\",\"1998\",\"1999\",\"2000\",\"2001\",\"2002\",\"2003\",\"2004\",\"2005\",\"2006\",\"2007\",\"2008\",\"2009\",\"2010\",\"2011\",\"2012\",\"2013\",\"2014\",\"2015\",\"2016\",\"2017\"],\"y\":[62.59953620237616,63.08957334358763,63.57872639334224,64.08376999046433,64.58687436549964,65.087407161162,65.58539185759696,66.09314622321546,66.58824055065821,67.06756237656948,67.52628342166688,67.91756952516317,68.27745658275356,68.62376906240875,68.9745801014019,69.30531568374833,69.56047988482551,69.80755583528435,70.0570392716649,70.30188257560143,70.54728708463239,70.84080263406176,71.11518000620043,71.37556979428155,71.62682223254069,71.87801848980098,72.13955415956409,72.4211398671853,72.7000259866276,72.95811736019994,73.23560195464822,73.51484019892555,73.77414817178924,74.03783660613713,74.30723436951402,74.5745666211642,74.81851175794863,75.05227180897651,75.28501173120483,75.5181692891309,75.74974074372007,76.09479632423921,76.49560193311356,76.87622336289719,77.24127255096394,77.59143098241435,77.91417063193697,78.21867292983931,78.51440926413176,78.80120853028673,79.08124691428517,79.29771074412386,79.48385416511948,79.66738879268615,79.8506569075482,80.0386620288315,80.22913025645875,80.4233314253301]},\"selected\":{\"id\":\"22913\",\"type\":\"Selection\"},\"selection_policy\":{\"id\":\"22914\",\"type\":\"UnionRenderers\"}},\"id\":\"22235\",\"type\":\"ColumnDataSource\"},{\"attributes\":{},\"id\":\"22207\",\"type\":\"Selection\"},{\"attributes\":{\"source\":{\"id\":\"22176\",\"type\":\"ColumnDataSource\"}},\"id\":\"22180\",\"type\":\"CDSView\"},{\"attributes\":{},\"id\":\"22206\",\"type\":\"UnionRenderers\"},{\"attributes\":{\"label\":{\"value\":\"OECD\"},\"renderers\":[{\"id\":\"22218\",\"type\":\"GlyphRenderer\"}]},\"id\":\"22234\",\"type\":\"LegendItem\"},{\"attributes\":{\"data_source\":{\"id\":\"22176\",\"type\":\"ColumnDataSource\"},\"glyph\":{\"id\":\"22177\",\"type\":\"Line\"},\"hover_glyph\":null,\"muted_glyph\":null,\"nonselection_glyph\":{\"id\":\"22178\",\"type\":\"Line\"},\"selection_glyph\":null,\"view\":{\"id\":\"22180\",\"type\":\"CDSView\"}},\"id\":\"22179\",\"type\":\"GlyphRenderer\"},{\"attributes\":{},\"id\":\"22205\",\"type\":\"Selection\"},{\"attributes\":{},\"id\":\"22233\",\"type\":\"UnionRenderers\"},{\"attributes\":{\"source\":{\"id\":\"22194\",\"type\":\"ColumnDataSource\"}},\"id\":\"22198\",\"type\":\"CDSView\"},{\"attributes\":{\"active_drag\":\"auto\",\"active_inspect\":\"auto\",\"active_multi\":null,\"active_scroll\":\"auto\",\"active_tap\":\"auto\",\"tools\":[{\"id\":\"22163\",\"type\":\"PanTool\"},{\"id\":\"22164\",\"type\":\"WheelZoomTool\"},{\"id\":\"22165\",\"type\":\"BoxZoomTool\"},{\"id\":\"22166\",\"type\":\"SaveTool\"},{\"id\":\"22167\",\"type\":\"ResetTool\"},{\"id\":\"22168\",\"type\":\"HelpTool\"},{\"id\":\"22240\",\"type\":\"HoverTool\"}]},\"id\":\"22169\",\"type\":\"Toolbar\"},{\"attributes\":{},\"id\":\"22232\",\"type\":\"Selection\"},{\"attributes\":{\"data_source\":{\"id\":\"22194\",\"type\":\"ColumnDataSource\"},\"glyph\":{\"id\":\"22195\",\"type\":\"Line\"},\"hover_glyph\":null,\"muted_glyph\":null,\"nonselection_glyph\":{\"id\":\"22196\",\"type\":\"Line\"},\"selection_glyph\":null,\"view\":{\"id\":\"22198\",\"type\":\"CDSView\"}},\"id\":\"22197\",\"type\":\"GlyphRenderer\"},{\"attributes\":{},\"id\":\"22168\",\"type\":\"HelpTool\"},{\"attributes\":{},\"id\":\"22231\",\"type\":\"UnionRenderers\"},{\"attributes\":{\"line_alpha\":0.1,\"line_color\":\"#1f77b4\",\"line_width\":4,\"x\":{\"field\":\"x\"},\"y\":{\"field\":\"y\"}},\"id\":\"22196\",\"type\":\"Line\"},{\"attributes\":{},\"id\":\"22167\",\"type\":\"ResetTool\"},{\"attributes\":{},\"id\":\"22230\",\"type\":\"Selection\"},{\"attributes\":{\"line_color\":\"#5430F1\",\"line_width\":4,\"x\":{\"field\":\"x\"},\"y\":{\"field\":\"y\"}},\"id\":\"22195\",\"type\":\"Line\"},{\"attributes\":{},\"id\":\"22166\",\"type\":\"SaveTool\"},{\"attributes\":{\"source\":{\"id\":\"22215\",\"type\":\"ColumnDataSource\"}},\"id\":\"22219\",\"type\":\"CDSView\"},{\"attributes\":{\"callback\":null,\"data\":{\"x\":[\"1960\",\"1961\",\"1962\",\"1963\",\"1964\",\"1965\",\"1966\",\"1967\",\"1968\",\"1969\",\"1970\",\"1971\",\"1972\",\"1973\",\"1974\",\"1975\",\"1976\",\"1977\",\"1978\",\"1979\",\"1980\",\"1981\",\"1982\",\"1983\",\"1984\",\"1985\",\"1986\",\"1987\",\"1988\",\"1989\",\"1990\",\"1991\",\"1992\",\"1993\",\"1994\",\"1995\",\"1996\",\"1997\",\"1998\",\"1999\",\"2000\",\"2001\",\"2002\",\"2003\",\"2004\",\"2005\",\"2006\",\"2007\",\"2008\",\"2009\",\"2010\",\"2011\",\"2012\",\"2013\",\"2014\",\"2015\",\"2016\",\"2017\"],\"y\":[22.630949288694833,23.14281914867262,23.63312711968041,24.089976990736393,24.556059976253326,24.732603461884004,24.91323170795608,25.110005118236234,25.303107900443436,25.49142592220588,25.680646321274192,25.897359116719393,26.15520822571961,26.462227546535093,26.816876575043107,27.179600502462144,27.528279378386834,27.884271151811344,28.363702119408167,28.966693913320626,29.57896681146142,30.216362823981534,30.836365224138223,31.40227128490981,31.977573113645832,32.552216495483755,33.12127196800427,33.684605348038794,34.247222182829134,34.81002887259299,35.37519635893041,35.94756436038916,36.481760611613694,37.05433252421815,37.627897151830695,38.22540077342875,38.79671598864855,39.37048203585944,39.948270161766125,40.52672004161325,41.11494683071915,41.761603501479144,42.46147430353454,43.16134280503671,43.86666821577943,44.576114937235026,45.27519476585794,45.96910645799235,46.665300390624786,47.35893958565393,48.05102009881094,48.71516104918681,49.368472052422604,50.01832656497409,50.667168529751926,51.31245173550162,51.95558590128294,52.59415157798671]},\"selected\":{\"id\":\"22230\",\"type\":\"Selection\"},\"selection_policy\":{\"id\":\"22231\",\"type\":\"UnionRenderers\"}},\"id\":\"22194\",\"type\":\"ColumnDataSource\"},{\"attributes\":{},\"id\":\"22914\",\"type\":\"UnionRenderers\"},{\"attributes\":{\"data_source\":{\"id\":\"22215\",\"type\":\"ColumnDataSource\"},\"glyph\":{\"id\":\"22216\",\"type\":\"Line\"},\"hover_glyph\":null,\"muted_glyph\":null,\"nonselection_glyph\":{\"id\":\"22217\",\"type\":\"Line\"},\"selection_glyph\":null,\"view\":{\"id\":\"22219\",\"type\":\"CDSView\"}},\"id\":\"22218\",\"type\":\"GlyphRenderer\"},{\"attributes\":{\"axis_label\":\"SP.URB.TOTL.IN.ZS\",\"formatter\":{\"id\":\"22185\",\"type\":\"BasicTickFormatter\"},\"ticker\":{\"id\":\"22159\",\"type\":\"BasicTicker\"}},\"id\":\"22158\",\"type\":\"LinearAxis\"},{\"attributes\":{\"overlay\":{\"id\":\"22186\",\"type\":\"BoxAnnotation\"}},\"id\":\"22165\",\"type\":\"BoxZoomTool\"},{\"attributes\":{\"source\":{\"id\":\"22189\",\"type\":\"ColumnDataSource\"}},\"id\":\"22193\",\"type\":\"CDSView\"},{\"attributes\":{},\"id\":\"22164\",\"type\":\"WheelZoomTool\"},{\"attributes\":{},\"id\":\"22913\",\"type\":\"Selection\"},{\"attributes\":{\"grid_line_color\":null,\"ticker\":{\"id\":\"22154\",\"type\":\"BasicTicker\"}},\"id\":\"22157\",\"type\":\"Grid\"}],\"root_ids\":[\"22142\"]},\"title\":\"Bokeh Application\",\"version\":\"1.3.4\"}};\n",
       "  var render_items = [{\"docid\":\"51481167-ed89-40a4-a208-966e65721933\",\"roots\":{\"22142\":\"291d353e-c96d-49a3-b5ba-00b54cad3ef4\"}}];\n",
       "  root.Bokeh.embed.embed_items_notebook(docs_json, render_items);\n",
       "\n",
       "  }\n",
       "  if (root.Bokeh !== undefined) {\n",
       "    embed_document(root);\n",
       "  } else {\n",
       "    var attempts = 0;\n",
       "    var timer = setInterval(function(root) {\n",
       "      if (root.Bokeh !== undefined) {\n",
       "        embed_document(root);\n",
       "        clearInterval(timer);\n",
       "      }\n",
       "      attempts++;\n",
       "      if (attempts > 100) {\n",
       "        console.log(\"Bokeh: ERROR: Unable to run BokehJS code because BokehJS library is missing\");\n",
       "        clearInterval(timer);\n",
       "      }\n",
       "    }, 10, root)\n",
       "  }\n",
       "})(window);"
      ],
      "application/vnd.bokehjs_exec.v0+json": ""
     },
     "metadata": {
      "application/vnd.bokehjs_exec.v0+json": {
       "id": "22142"
      }
     },
     "output_type": "display_data"
    }
   ],
   "source": [
    "years = list(map(str, list(range(1960,2018))))\n",
    "# Urban population as a percentage of total population\n",
    "result = show_weighted_average(years, 'SP.URB.TOTL.IN.ZS', 'SP.POP.TOTL', \n",
    "                               ['LDCs', 'Developing excluding LDCs', 'OECD'], \n",
    "                                height=400, width=1000, line_width=4)"
   ]
  },
  {
   "cell_type": "code",
   "execution_count": 48,
   "metadata": {
    "ExecuteTime": {
     "end_time": "2019-10-25T14:29:15.192779Z",
     "start_time": "2019-10-25T14:29:14.263102Z"
    },
    "slideshow": {
     "slide_type": "slide"
    }
   },
   "outputs": [
    {
     "data": {
      "text/html": [
       "\n",
       "\n",
       "\n",
       "\n",
       "\n",
       "\n",
       "  <div class=\"bk-root\" id=\"cd0c8115-6fdb-4ce7-881a-91d0b9cdeb0d\" data-root-id=\"23023\"></div>\n"
      ]
     },
     "metadata": {},
     "output_type": "display_data"
    },
    {
     "data": {
      "application/javascript": [
       "(function(root) {\n",
       "  function embed_document(root) {\n",
       "    \n",
       "  var docs_json = {\"3ea6112b-bb53-4a89-b21c-e180ad6ddab6\":{\"roots\":{\"references\":[{\"attributes\":{\"below\":[{\"id\":\"23034\",\"type\":\"LinearAxis\"}],\"center\":[{\"id\":\"23038\",\"type\":\"Grid\"},{\"id\":\"23043\",\"type\":\"Grid\"},{\"id\":\"23068\",\"type\":\"Legend\"}],\"left\":[{\"id\":\"23039\",\"type\":\"LinearAxis\"}],\"plot_height\":400,\"plot_width\":1000,\"renderers\":[{\"id\":\"23060\",\"type\":\"GlyphRenderer\"},{\"id\":\"23073\",\"type\":\"GlyphRenderer\"}],\"title\":{\"id\":\"23024\",\"type\":\"Title\"},\"toolbar\":{\"id\":\"23050\",\"type\":\"Toolbar\"},\"x_range\":{\"id\":\"23026\",\"type\":\"DataRange1d\"},\"x_scale\":{\"id\":\"23030\",\"type\":\"LinearScale\"},\"y_range\":{\"id\":\"23028\",\"type\":\"DataRange1d\"},\"y_scale\":{\"id\":\"23032\",\"type\":\"LinearScale\"}},\"id\":\"23023\",\"subtype\":\"Figure\",\"type\":\"Plot\"},{\"attributes\":{\"fill_alpha\":{\"value\":0.1},\"fill_color\":{\"value\":\"#1f77b4\"},\"line_alpha\":{\"value\":0.1},\"line_color\":{\"value\":\"#1f77b4\"},\"size\":{\"units\":\"screen\",\"value\":3},\"x\":{\"field\":\"x\"},\"y\":{\"field\":\"y\"}},\"id\":\"23072\",\"type\":\"Circle\"},{\"attributes\":{},\"id\":\"23757\",\"type\":\"UnionRenderers\"},{\"attributes\":{},\"id\":\"23049\",\"type\":\"HelpTool\"},{\"attributes\":{\"data_source\":{\"id\":\"23070\",\"type\":\"ColumnDataSource\"},\"glyph\":{\"id\":\"23071\",\"type\":\"Circle\"},\"hover_glyph\":null,\"muted_glyph\":null,\"nonselection_glyph\":{\"id\":\"23072\",\"type\":\"Circle\"},\"selection_glyph\":null,\"view\":{\"id\":\"23074\",\"type\":\"CDSView\"}},\"id\":\"23073\",\"type\":\"GlyphRenderer\"},{\"attributes\":{},\"id\":\"23035\",\"type\":\"BasicTicker\"},{\"attributes\":{\"grid_line_color\":null,\"ticker\":{\"id\":\"23035\",\"type\":\"BasicTicker\"}},\"id\":\"23038\",\"type\":\"Grid\"},{\"attributes\":{\"overlay\":{\"id\":\"23067\",\"type\":\"BoxAnnotation\"}},\"id\":\"23046\",\"type\":\"BoxZoomTool\"},{\"attributes\":{},\"id\":\"23759\",\"type\":\"UnionRenderers\"},{\"attributes\":{},\"id\":\"23047\",\"type\":\"SaveTool\"},{\"attributes\":{},\"id\":\"23758\",\"type\":\"Selection\"},{\"attributes\":{},\"id\":\"23032\",\"type\":\"LinearScale\"},{\"attributes\":{\"axis_label\":\"SP.URB.TOTL\",\"formatter\":{\"id\":\"23066\",\"type\":\"BasicTickFormatter\"},\"ticker\":{\"id\":\"23040\",\"type\":\"BasicTicker\"}},\"id\":\"23039\",\"type\":\"LinearAxis\"},{\"attributes\":{\"callback\":null,\"tooltips\":\"                \\n        <div style=padding=5px>Year:@x</div>\\n        <div style=padding=5px>Value:@y</div>        \\n        \"},\"id\":\"23075\",\"type\":\"HoverTool\"},{\"attributes\":{},\"id\":\"23756\",\"type\":\"Selection\"},{\"attributes\":{\"axis_label\":\"Years\",\"formatter\":{\"id\":\"23064\",\"type\":\"BasicTickFormatter\"},\"ticker\":{\"id\":\"23035\",\"type\":\"BasicTicker\"}},\"id\":\"23034\",\"type\":\"LinearAxis\"},{\"attributes\":{\"source\":{\"id\":\"23057\",\"type\":\"ColumnDataSource\"}},\"id\":\"23061\",\"type\":\"CDSView\"},{\"attributes\":{},\"id\":\"23030\",\"type\":\"LinearScale\"},{\"attributes\":{\"callback\":null,\"data\":{\"x\":[\"1960\",\"1961\",\"1962\",\"1963\",\"1964\",\"1965\",\"1966\",\"1967\",\"1968\",\"1969\",\"1970\",\"1971\",\"1972\",\"1973\",\"1974\",\"1975\",\"1976\",\"1977\",\"1978\",\"1979\",\"1980\",\"1981\",\"1982\",\"1983\",\"1984\",\"1985\",\"1986\",\"1987\",\"1988\",\"1989\",\"1990\",\"1991\",\"1992\",\"1993\",\"1994\",\"1995\",\"1996\",\"1997\",\"1998\",\"1999\",\"2000\",\"2001\",\"2002\",\"2003\",\"2004\",\"2005\",\"2006\",\"2007\",\"2008\",\"2009\",\"2010\",\"2011\",\"2012\",\"2013\",\"2014\",\"2015\",\"2016\",\"2017\"],\"y\":[23317292.0,24465608.0,25715484.0,27056026.0,28495614.0,30031066.0,31667488.0,33475608.0,35399148.0,37438167.0,39538583.0,41813984.0,44241565.0,46769493.0,49418771.0,50279277.0,53224569.0,56380077.0,59741635.0,63173090.0,67018359.0,70759809.0,74015049.0,77517852.0,81340591.0,85438619.0,89730611.0,94224950.0,98950365.0,103779087.0,108895345.0,114110906.0,119435249.0,124882817.0,130206642.0,135562776.0,141015012.0,146637320.0,152365029.0,158280891.0,164462270.0,171248545.0,178496124.0,186087168.0,193896898.0,201991152.0,210219133.0,218294690.0,227312839.0,236706129.0,246511210.0,256742767.0,266067392.0,276930811.0,288207667.0,299896804.0,312008544.0,324553851.0]},\"selected\":{\"id\":\"23756\",\"type\":\"Selection\"},\"selection_policy\":{\"id\":\"23757\",\"type\":\"UnionRenderers\"}},\"id\":\"23057\",\"type\":\"ColumnDataSource\"},{\"attributes\":{\"callback\":null,\"data\":{\"x\":[\"1960\",\"1961\",\"1962\",\"1963\",\"1964\",\"1965\",\"1966\",\"1967\",\"1968\",\"1969\",\"1970\",\"1971\",\"1972\",\"1973\",\"1974\",\"1975\",\"1976\",\"1977\",\"1978\",\"1979\",\"1980\",\"1981\",\"1982\",\"1983\",\"1984\",\"1985\",\"1986\",\"1987\",\"1988\",\"1989\",\"1990\",\"1991\",\"1992\",\"1993\",\"1994\",\"1995\",\"1996\",\"1997\",\"1998\",\"1999\",\"2000\",\"2001\",\"2002\",\"2003\",\"2004\",\"2005\",\"2006\",\"2007\",\"2008\",\"2009\",\"2010\",\"2011\",\"2012\",\"2013\",\"2014\",\"2015\",\"2016\",\"2017\"],\"y\":[23317292.0,24465608.0,25715484.0,27056026.0,28495614.0,30031066.0,31667488.0,33475608.0,35399148.0,37438167.0,39538583.0,41813984.0,44241565.0,46769493.0,49418771.0,50279277.0,53224569.0,56380077.0,59741635.0,63173090.0,67018359.0,70759809.0,74015049.0,77517852.0,81340591.0,85438619.0,89730611.0,94224950.0,98950365.0,103779087.0,108895345.0,114110906.0,119435249.0,124882817.0,130206642.0,135562776.0,141015012.0,146637320.0,152365029.0,158280891.0,164462270.0,171248545.0,178496124.0,186087168.0,193896898.0,201991152.0,210219133.0,218294690.0,227312839.0,236706129.0,246511210.0,256742767.0,266067392.0,276930811.0,288207667.0,299896804.0,312008544.0,324553851.0]},\"selected\":{\"id\":\"23758\",\"type\":\"Selection\"},\"selection_policy\":{\"id\":\"23759\",\"type\":\"UnionRenderers\"}},\"id\":\"23070\",\"type\":\"ColumnDataSource\"},{\"attributes\":{\"callback\":null},\"id\":\"23028\",\"type\":\"DataRange1d\"},{\"attributes\":{},\"id\":\"23045\",\"type\":\"WheelZoomTool\"},{\"attributes\":{\"source\":{\"id\":\"23070\",\"type\":\"ColumnDataSource\"}},\"id\":\"23074\",\"type\":\"CDSView\"},{\"attributes\":{},\"id\":\"23066\",\"type\":\"BasicTickFormatter\"},{\"attributes\":{\"label\":{\"value\":\"LDCs\"},\"renderers\":[{\"id\":\"23060\",\"type\":\"GlyphRenderer\"}]},\"id\":\"23069\",\"type\":\"LegendItem\"},{\"attributes\":{\"active_drag\":\"auto\",\"active_inspect\":\"auto\",\"active_multi\":null,\"active_scroll\":\"auto\",\"active_tap\":\"auto\",\"tools\":[{\"id\":\"23044\",\"type\":\"PanTool\"},{\"id\":\"23045\",\"type\":\"WheelZoomTool\"},{\"id\":\"23046\",\"type\":\"BoxZoomTool\"},{\"id\":\"23047\",\"type\":\"SaveTool\"},{\"id\":\"23048\",\"type\":\"ResetTool\"},{\"id\":\"23049\",\"type\":\"HelpTool\"},{\"id\":\"23075\",\"type\":\"HoverTool\"}]},\"id\":\"23050\",\"type\":\"Toolbar\"},{\"attributes\":{\"text\":\"Urban population\"},\"id\":\"23024\",\"type\":\"Title\"},{\"attributes\":{\"fill_color\":{\"value\":\"#FA1857\"},\"line_color\":{\"value\":\"#FA1857\"},\"size\":{\"units\":\"screen\",\"value\":3},\"x\":{\"field\":\"x\"},\"y\":{\"field\":\"y\"}},\"id\":\"23071\",\"type\":\"Circle\"},{\"attributes\":{\"callback\":null},\"id\":\"23026\",\"type\":\"DataRange1d\"},{\"attributes\":{\"dimension\":1,\"grid_line_alpha\":0.5,\"ticker\":{\"id\":\"23040\",\"type\":\"BasicTicker\"}},\"id\":\"23043\",\"type\":\"Grid\"},{\"attributes\":{\"items\":[{\"id\":\"23069\",\"type\":\"LegendItem\"}],\"location\":\"bottom_left\"},\"id\":\"23068\",\"type\":\"Legend\"},{\"attributes\":{},\"id\":\"23040\",\"type\":\"BasicTicker\"},{\"attributes\":{\"bottom_units\":\"screen\",\"fill_alpha\":{\"value\":0.5},\"fill_color\":{\"value\":\"lightgrey\"},\"left_units\":\"screen\",\"level\":\"overlay\",\"line_alpha\":{\"value\":1.0},\"line_color\":{\"value\":\"black\"},\"line_dash\":[4,4],\"line_width\":{\"value\":2},\"render_mode\":\"css\",\"right_units\":\"screen\",\"top_units\":\"screen\"},\"id\":\"23067\",\"type\":\"BoxAnnotation\"},{\"attributes\":{},\"id\":\"23044\",\"type\":\"PanTool\"},{\"attributes\":{\"data_source\":{\"id\":\"23057\",\"type\":\"ColumnDataSource\"},\"glyph\":{\"id\":\"23058\",\"type\":\"Line\"},\"hover_glyph\":null,\"muted_glyph\":null,\"nonselection_glyph\":{\"id\":\"23059\",\"type\":\"Line\"},\"selection_glyph\":null,\"view\":{\"id\":\"23061\",\"type\":\"CDSView\"}},\"id\":\"23060\",\"type\":\"GlyphRenderer\"},{\"attributes\":{},\"id\":\"23048\",\"type\":\"ResetTool\"},{\"attributes\":{\"line_alpha\":0.1,\"line_color\":\"#1f77b4\",\"line_width\":4,\"x\":{\"field\":\"x\"},\"y\":{\"field\":\"y\"}},\"id\":\"23059\",\"type\":\"Line\"},{\"attributes\":{\"line_color\":\"#FA1857\",\"line_width\":4,\"x\":{\"field\":\"x\"},\"y\":{\"field\":\"y\"}},\"id\":\"23058\",\"type\":\"Line\"},{\"attributes\":{},\"id\":\"23064\",\"type\":\"BasicTickFormatter\"}],\"root_ids\":[\"23023\"]},\"title\":\"Bokeh Application\",\"version\":\"1.3.4\"}};\n",
       "  var render_items = [{\"docid\":\"3ea6112b-bb53-4a89-b21c-e180ad6ddab6\",\"roots\":{\"23023\":\"cd0c8115-6fdb-4ce7-881a-91d0b9cdeb0d\"}}];\n",
       "  root.Bokeh.embed.embed_items_notebook(docs_json, render_items);\n",
       "\n",
       "  }\n",
       "  if (root.Bokeh !== undefined) {\n",
       "    embed_document(root);\n",
       "  } else {\n",
       "    var attempts = 0;\n",
       "    var timer = setInterval(function(root) {\n",
       "      if (root.Bokeh !== undefined) {\n",
       "        embed_document(root);\n",
       "        clearInterval(timer);\n",
       "      }\n",
       "      attempts++;\n",
       "      if (attempts > 100) {\n",
       "        console.log(\"Bokeh: ERROR: Unable to run BokehJS code because BokehJS library is missing\");\n",
       "        clearInterval(timer);\n",
       "      }\n",
       "    }, 10, root)\n",
       "  }\n",
       "})(window);"
      ],
      "application/vnd.bokehjs_exec.v0+json": ""
     },
     "metadata": {
      "application/vnd.bokehjs_exec.v0+json": {
       "id": "23023"
      }
     },
     "output_type": "display_data"
    }
   ],
   "source": [
    "result = show_group_total(years, 'SP.URB.TOTL', ['LDCs'], \n",
    "                                height=400, width=1000, line_width=4)"
   ]
  },
  {
   "cell_type": "code",
   "execution_count": 49,
   "metadata": {
    "ExecuteTime": {
     "end_time": "2019-10-25T14:35:30.281624Z",
     "start_time": "2019-10-25T14:35:22.402094Z"
    },
    "slideshow": {
     "slide_type": "slide"
    }
   },
   "outputs": [
    {
     "data": {
      "text/html": [
       "\n",
       "\n",
       "\n",
       "\n",
       "\n",
       "\n",
       "  <div class=\"bk-root\" id=\"86be1cb5-d329-48fa-b8ad-a06916076d9e\" data-root-id=\"23820\"></div>\n"
      ]
     },
     "metadata": {},
     "output_type": "display_data"
    },
    {
     "data": {
      "application/javascript": [
       "(function(root) {\n",
       "  function embed_document(root) {\n",
       "    \n",
       "  var docs_json = {\"206fc49b-258b-4940-832b-05c7fce9ca97\":{\"roots\":{\"references\":[{\"attributes\":{\"below\":[{\"id\":\"23831\",\"type\":\"LinearAxis\"}],\"center\":[{\"id\":\"23835\",\"type\":\"Grid\"},{\"id\":\"23840\",\"type\":\"Grid\"},{\"id\":\"23865\",\"type\":\"Legend\"}],\"left\":[{\"id\":\"23836\",\"type\":\"LinearAxis\"}],\"plot_height\":400,\"plot_width\":1000,\"renderers\":[{\"id\":\"23857\",\"type\":\"GlyphRenderer\"},{\"id\":\"23870\",\"type\":\"GlyphRenderer\"},{\"id\":\"23875\",\"type\":\"GlyphRenderer\"},{\"id\":\"23891\",\"type\":\"GlyphRenderer\"},{\"id\":\"23896\",\"type\":\"GlyphRenderer\"},{\"id\":\"23916\",\"type\":\"GlyphRenderer\"}],\"title\":{\"id\":\"23821\",\"type\":\"Title\"},\"toolbar\":{\"id\":\"23847\",\"type\":\"Toolbar\"},\"x_range\":{\"id\":\"23823\",\"type\":\"DataRange1d\"},\"x_scale\":{\"id\":\"23827\",\"type\":\"LinearScale\"},\"y_range\":{\"id\":\"23825\",\"type\":\"DataRange1d\"},\"y_scale\":{\"id\":\"23829\",\"type\":\"LinearScale\"}},\"id\":\"23820\",\"subtype\":\"Figure\",\"type\":\"Plot\"},{\"attributes\":{},\"id\":\"23832\",\"type\":\"BasicTicker\"},{\"attributes\":{\"line_color\":\"#2CC775\",\"line_width\":4,\"x\":{\"field\":\"x\"},\"y\":{\"field\":\"y\"}},\"id\":\"23894\",\"type\":\"Line\"},{\"attributes\":{\"grid_line_color\":null,\"ticker\":{\"id\":\"23832\",\"type\":\"BasicTicker\"}},\"id\":\"23835\",\"type\":\"Grid\"},{\"attributes\":{},\"id\":\"23863\",\"type\":\"BasicTickFormatter\"},{\"attributes\":{\"data_source\":{\"id\":\"23888\",\"type\":\"ColumnDataSource\"},\"glyph\":{\"id\":\"23889\",\"type\":\"Circle\"},\"hover_glyph\":null,\"muted_glyph\":null,\"nonselection_glyph\":{\"id\":\"23890\",\"type\":\"Circle\"},\"selection_glyph\":null,\"view\":{\"id\":\"23892\",\"type\":\"CDSView\"}},\"id\":\"23891\",\"type\":\"GlyphRenderer\"},{\"attributes\":{\"line_alpha\":0.1,\"line_color\":\"#1f77b4\",\"line_width\":4,\"x\":{\"field\":\"x\"},\"y\":{\"field\":\"y\"}},\"id\":\"23895\",\"type\":\"Line\"},{\"attributes\":{\"fill_color\":{\"value\":\"#2CC775\"},\"line_color\":{\"value\":\"#2CC775\"},\"size\":{\"units\":\"screen\",\"value\":1},\"x\":{\"field\":\"x\"},\"y\":{\"field\":\"y\"}},\"id\":\"23914\",\"type\":\"Circle\"},{\"attributes\":{\"source\":{\"id\":\"23888\",\"type\":\"ColumnDataSource\"}},\"id\":\"23892\",\"type\":\"CDSView\"},{\"attributes\":{\"axis_label\":\"SP.URB.GROW\",\"formatter\":{\"id\":\"23863\",\"type\":\"BasicTickFormatter\"},\"ticker\":{\"id\":\"23837\",\"type\":\"BasicTicker\"}},\"id\":\"23836\",\"type\":\"LinearAxis\"},{\"attributes\":{\"fill_alpha\":{\"value\":0.1},\"fill_color\":{\"value\":\"#1f77b4\"},\"line_alpha\":{\"value\":0.1},\"line_color\":{\"value\":\"#1f77b4\"},\"size\":{\"units\":\"screen\",\"value\":1},\"x\":{\"field\":\"x\"},\"y\":{\"field\":\"y\"}},\"id\":\"23915\",\"type\":\"Circle\"},{\"attributes\":{\"callback\":null,\"data\":{\"x\":[\"2000\",\"2001\",\"2002\",\"2003\",\"2004\",\"2005\",\"2006\",\"2007\",\"2008\",\"2009\",\"2010\",\"2011\",\"2012\",\"2013\",\"2014\",\"2015\",\"2016\",\"2017\"],\"y\":[0.9948809271821193,1.1720404938170361,1.2487792655994334,1.2098437389978234,1.1858418971351812,1.1566812882637159,1.1461235724859402,1.1299299497492925,1.1478412678703078,1.0667506897450498,1.004952660145055,0.7748422786938176,0.8497708748839219,0.8674781666983666,0.8896129313491413,0.882013187119933,0.8885753632137473,0.8267985143506588]},\"selected\":{\"id\":\"24617\",\"type\":\"Selection\"},\"selection_policy\":{\"id\":\"24618\",\"type\":\"UnionRenderers\"}},\"id\":\"23893\",\"type\":\"ColumnDataSource\"},{\"attributes\":{\"data_source\":{\"id\":\"23893\",\"type\":\"ColumnDataSource\"},\"glyph\":{\"id\":\"23894\",\"type\":\"Line\"},\"hover_glyph\":null,\"muted_glyph\":null,\"nonselection_glyph\":{\"id\":\"23895\",\"type\":\"Line\"},\"selection_glyph\":null,\"view\":{\"id\":\"23897\",\"type\":\"CDSView\"}},\"id\":\"23896\",\"type\":\"GlyphRenderer\"},{\"attributes\":{},\"id\":\"23837\",\"type\":\"BasicTicker\"},{\"attributes\":{\"data_source\":{\"id\":\"23913\",\"type\":\"ColumnDataSource\"},\"glyph\":{\"id\":\"23914\",\"type\":\"Circle\"},\"hover_glyph\":null,\"muted_glyph\":null,\"nonselection_glyph\":{\"id\":\"23915\",\"type\":\"Circle\"},\"selection_glyph\":null,\"view\":{\"id\":\"23917\",\"type\":\"CDSView\"}},\"id\":\"23916\",\"type\":\"GlyphRenderer\"},{\"attributes\":{},\"id\":\"23861\",\"type\":\"BasicTickFormatter\"},{\"attributes\":{\"callback\":null,\"data\":{\"x\":[\"2000\",\"2001\",\"2002\",\"2003\",\"2004\",\"2005\",\"2006\",\"2007\",\"2008\",\"2009\",\"2010\",\"2011\",\"2012\",\"2013\",\"2014\",\"2015\",\"2016\",\"2017\"],\"y\":[2.871713123812663,2.9511432100791484,3.0136932118765114,2.953868405139294,2.924116416288403,2.9006768448998628,2.8385887182475527,2.787551595330817,2.7628871731196654,2.72341580335172,2.6789486862183955,2.590195657094341,2.529948100519968,2.4961358861963343,2.465255348584935,2.4236075249092615,2.394780581402036,2.3538548161434734]},\"selected\":{\"id\":\"23910\",\"type\":\"Selection\"},\"selection_policy\":{\"id\":\"23911\",\"type\":\"UnionRenderers\"}},\"id\":\"23888\",\"type\":\"ColumnDataSource\"},{\"attributes\":{\"dimension\":1,\"grid_line_alpha\":0.5,\"ticker\":{\"id\":\"23837\",\"type\":\"BasicTicker\"}},\"id\":\"23840\",\"type\":\"Grid\"},{\"attributes\":{\"source\":{\"id\":\"23913\",\"type\":\"ColumnDataSource\"}},\"id\":\"23917\",\"type\":\"CDSView\"},{\"attributes\":{\"callback\":null,\"data\":{\"x\":[\"2000\",\"2001\",\"2002\",\"2003\",\"2004\",\"2005\",\"2006\",\"2007\",\"2008\",\"2009\",\"2010\",\"2011\",\"2012\",\"2013\",\"2014\",\"2015\",\"2016\",\"2017\"],\"y\":[3.781552399759757,3.9942501736128904,4.0980366224839635,4.1200279616396,4.067771523272396,4.0462628038554005,3.9491110534001477,3.7343089278830024,4.00474292401507,4.006365015359042,4.017012003822316,4.026193802500771,3.976323997042947,3.9618560270813443,3.9501422897690834,3.931939995499514,3.9127531302754495,3.8933983484972026]},\"selected\":{\"id\":\"23885\",\"type\":\"Selection\"},\"selection_policy\":{\"id\":\"23886\",\"type\":\"UnionRenderers\"}},\"id\":\"23867\",\"type\":\"ColumnDataSource\"},{\"attributes\":{\"fill_color\":{\"value\":\"#5430F1\"},\"line_color\":{\"value\":\"#5430F1\"},\"size\":{\"units\":\"screen\",\"value\":1},\"x\":{\"field\":\"x\"},\"y\":{\"field\":\"y\"}},\"id\":\"23889\",\"type\":\"Circle\"},{\"attributes\":{\"line_color\":\"#FA1857\",\"line_width\":4,\"x\":{\"field\":\"x\"},\"y\":{\"field\":\"y\"}},\"id\":\"23855\",\"type\":\"Line\"},{\"attributes\":{\"source\":{\"id\":\"23893\",\"type\":\"ColumnDataSource\"}},\"id\":\"23897\",\"type\":\"CDSView\"},{\"attributes\":{\"text\":\"Urban population growth (annual %) weighted against Urban population\"},\"id\":\"23821\",\"type\":\"Title\"},{\"attributes\":{\"fill_alpha\":{\"value\":0.1},\"fill_color\":{\"value\":\"#1f77b4\"},\"line_alpha\":{\"value\":0.1},\"line_color\":{\"value\":\"#1f77b4\"},\"size\":{\"units\":\"screen\",\"value\":1},\"x\":{\"field\":\"x\"},\"y\":{\"field\":\"y\"}},\"id\":\"23890\",\"type\":\"Circle\"},{\"attributes\":{\"callback\":null,\"data\":{\"x\":[\"2000\",\"2001\",\"2002\",\"2003\",\"2004\",\"2005\",\"2006\",\"2007\",\"2008\",\"2009\",\"2010\",\"2011\",\"2012\",\"2013\",\"2014\",\"2015\",\"2016\",\"2017\"],\"y\":[3.781552399759757,3.9942501736128904,4.0980366224839635,4.1200279616396,4.067771523272396,4.0462628038554005,3.9491110534001477,3.7343089278830024,4.00474292401507,4.006365015359042,4.017012003822316,4.026193802500771,3.976323997042947,3.9618560270813443,3.9501422897690834,3.931939995499514,3.9127531302754495,3.8933983484972026]},\"selected\":{\"id\":\"23883\",\"type\":\"Selection\"},\"selection_policy\":{\"id\":\"23884\",\"type\":\"UnionRenderers\"}},\"id\":\"23854\",\"type\":\"ColumnDataSource\"},{\"attributes\":{},\"id\":\"24617\",\"type\":\"Selection\"},{\"attributes\":{\"callback\":null,\"tooltips\":\"                \\n        <div style=padding=5px>Year:@x</div>\\n        <div style=padding=5px>Value:@y</div>        \\n        \"},\"id\":\"23918\",\"type\":\"HoverTool\"},{\"attributes\":{},\"id\":\"23885\",\"type\":\"Selection\"},{\"attributes\":{\"line_alpha\":0.1,\"line_color\":\"#1f77b4\",\"line_width\":4,\"x\":{\"field\":\"x\"},\"y\":{\"field\":\"y\"}},\"id\":\"23856\",\"type\":\"Line\"},{\"attributes\":{},\"id\":\"23908\",\"type\":\"Selection\"},{\"attributes\":{},\"id\":\"24618\",\"type\":\"UnionRenderers\"},{\"attributes\":{},\"id\":\"23841\",\"type\":\"PanTool\"},{\"attributes\":{\"callback\":null},\"id\":\"23823\",\"type\":\"DataRange1d\"},{\"attributes\":{},\"id\":\"23886\",\"type\":\"UnionRenderers\"},{\"attributes\":{},\"id\":\"24619\",\"type\":\"Selection\"},{\"attributes\":{},\"id\":\"23842\",\"type\":\"WheelZoomTool\"},{\"attributes\":{\"source\":{\"id\":\"23872\",\"type\":\"ColumnDataSource\"}},\"id\":\"23876\",\"type\":\"CDSView\"},{\"attributes\":{\"label\":{\"value\":\"Developing excluding LDCs\"},\"renderers\":[{\"id\":\"23875\",\"type\":\"GlyphRenderer\"}]},\"id\":\"23887\",\"type\":\"LegendItem\"},{\"attributes\":{},\"id\":\"23909\",\"type\":\"UnionRenderers\"},{\"attributes\":{},\"id\":\"24620\",\"type\":\"UnionRenderers\"},{\"attributes\":{\"data_source\":{\"id\":\"23872\",\"type\":\"ColumnDataSource\"},\"glyph\":{\"id\":\"23873\",\"type\":\"Line\"},\"hover_glyph\":null,\"muted_glyph\":null,\"nonselection_glyph\":{\"id\":\"23874\",\"type\":\"Line\"},\"selection_glyph\":null,\"view\":{\"id\":\"23876\",\"type\":\"CDSView\"}},\"id\":\"23875\",\"type\":\"GlyphRenderer\"},{\"attributes\":{\"overlay\":{\"id\":\"23864\",\"type\":\"BoxAnnotation\"}},\"id\":\"23843\",\"type\":\"BoxZoomTool\"},{\"attributes\":{\"callback\":null},\"id\":\"23825\",\"type\":\"DataRange1d\"},{\"attributes\":{\"label\":{\"value\":\"LDCs\"},\"renderers\":[{\"id\":\"23857\",\"type\":\"GlyphRenderer\"}]},\"id\":\"23866\",\"type\":\"LegendItem\"},{\"attributes\":{},\"id\":\"23844\",\"type\":\"SaveTool\"},{\"attributes\":{},\"id\":\"23883\",\"type\":\"Selection\"},{\"attributes\":{\"line_alpha\":0.1,\"line_color\":\"#1f77b4\",\"line_width\":4,\"x\":{\"field\":\"x\"},\"y\":{\"field\":\"y\"}},\"id\":\"23874\",\"type\":\"Line\"},{\"attributes\":{},\"id\":\"23910\",\"type\":\"Selection\"},{\"attributes\":{},\"id\":\"23845\",\"type\":\"ResetTool\"},{\"attributes\":{},\"id\":\"23827\",\"type\":\"LinearScale\"},{\"attributes\":{},\"id\":\"23884\",\"type\":\"UnionRenderers\"},{\"attributes\":{\"fill_alpha\":{\"value\":0.1},\"fill_color\":{\"value\":\"#1f77b4\"},\"line_alpha\":{\"value\":0.1},\"line_color\":{\"value\":\"#1f77b4\"},\"size\":{\"units\":\"screen\",\"value\":1},\"x\":{\"field\":\"x\"},\"y\":{\"field\":\"y\"}},\"id\":\"23869\",\"type\":\"Circle\"},{\"attributes\":{},\"id\":\"23846\",\"type\":\"HelpTool\"},{\"attributes\":{\"line_color\":\"#5430F1\",\"line_width\":4,\"x\":{\"field\":\"x\"},\"y\":{\"field\":\"y\"}},\"id\":\"23873\",\"type\":\"Line\"},{\"attributes\":{},\"id\":\"23911\",\"type\":\"UnionRenderers\"},{\"attributes\":{\"active_drag\":\"auto\",\"active_inspect\":\"auto\",\"active_multi\":null,\"active_scroll\":\"auto\",\"active_tap\":\"auto\",\"tools\":[{\"id\":\"23841\",\"type\":\"PanTool\"},{\"id\":\"23842\",\"type\":\"WheelZoomTool\"},{\"id\":\"23843\",\"type\":\"BoxZoomTool\"},{\"id\":\"23844\",\"type\":\"SaveTool\"},{\"id\":\"23845\",\"type\":\"ResetTool\"},{\"id\":\"23846\",\"type\":\"HelpTool\"},{\"id\":\"23918\",\"type\":\"HoverTool\"}]},\"id\":\"23847\",\"type\":\"Toolbar\"},{\"attributes\":{},\"id\":\"23829\",\"type\":\"LinearScale\"},{\"attributes\":{\"callback\":null,\"data\":{\"x\":[\"2000\",\"2001\",\"2002\",\"2003\",\"2004\",\"2005\",\"2006\",\"2007\",\"2008\",\"2009\",\"2010\",\"2011\",\"2012\",\"2013\",\"2014\",\"2015\",\"2016\",\"2017\"],\"y\":[2.871713123812663,2.9511432100791484,3.0136932118765114,2.953868405139294,2.924116416288403,2.9006768448998628,2.8385887182475527,2.787551595330817,2.7628871731196654,2.72341580335172,2.6789486862183955,2.590195657094341,2.529948100519968,2.4961358861963343,2.465255348584935,2.4236075249092615,2.394780581402036,2.3538548161434734]},\"selected\":{\"id\":\"23908\",\"type\":\"Selection\"},\"selection_policy\":{\"id\":\"23909\",\"type\":\"UnionRenderers\"}},\"id\":\"23872\",\"type\":\"ColumnDataSource\"},{\"attributes\":{\"data_source\":{\"id\":\"23854\",\"type\":\"ColumnDataSource\"},\"glyph\":{\"id\":\"23855\",\"type\":\"Line\"},\"hover_glyph\":null,\"muted_glyph\":null,\"nonselection_glyph\":{\"id\":\"23856\",\"type\":\"Line\"},\"selection_glyph\":null,\"view\":{\"id\":\"23858\",\"type\":\"CDSView\"}},\"id\":\"23857\",\"type\":\"GlyphRenderer\"},{\"attributes\":{\"label\":{\"value\":\"OECD\"},\"renderers\":[{\"id\":\"23896\",\"type\":\"GlyphRenderer\"}]},\"id\":\"23912\",\"type\":\"LegendItem\"},{\"attributes\":{\"source\":{\"id\":\"23867\",\"type\":\"ColumnDataSource\"}},\"id\":\"23871\",\"type\":\"CDSView\"},{\"attributes\":{\"axis_label\":\"Years\",\"formatter\":{\"id\":\"23861\",\"type\":\"BasicTickFormatter\"},\"ticker\":{\"id\":\"23832\",\"type\":\"BasicTicker\"}},\"id\":\"23831\",\"type\":\"LinearAxis\"},{\"attributes\":{\"source\":{\"id\":\"23854\",\"type\":\"ColumnDataSource\"}},\"id\":\"23858\",\"type\":\"CDSView\"},{\"attributes\":{\"callback\":null,\"data\":{\"x\":[\"2000\",\"2001\",\"2002\",\"2003\",\"2004\",\"2005\",\"2006\",\"2007\",\"2008\",\"2009\",\"2010\",\"2011\",\"2012\",\"2013\",\"2014\",\"2015\",\"2016\",\"2017\"],\"y\":[0.9948809271821193,1.1720404938170361,1.2487792655994334,1.2098437389978234,1.1858418971351812,1.1566812882637159,1.1461235724859402,1.1299299497492925,1.1478412678703078,1.0667506897450498,1.004952660145055,0.7748422786938176,0.8497708748839219,0.8674781666983666,0.8896129313491413,0.882013187119933,0.8885753632137473,0.8267985143506588]},\"selected\":{\"id\":\"24619\",\"type\":\"Selection\"},\"selection_policy\":{\"id\":\"24620\",\"type\":\"UnionRenderers\"}},\"id\":\"23913\",\"type\":\"ColumnDataSource\"},{\"attributes\":{\"bottom_units\":\"screen\",\"fill_alpha\":{\"value\":0.5},\"fill_color\":{\"value\":\"lightgrey\"},\"left_units\":\"screen\",\"level\":\"overlay\",\"line_alpha\":{\"value\":1.0},\"line_color\":{\"value\":\"black\"},\"line_dash\":[4,4],\"line_width\":{\"value\":2},\"render_mode\":\"css\",\"right_units\":\"screen\",\"top_units\":\"screen\"},\"id\":\"23864\",\"type\":\"BoxAnnotation\"},{\"attributes\":{\"items\":[{\"id\":\"23866\",\"type\":\"LegendItem\"},{\"id\":\"23887\",\"type\":\"LegendItem\"},{\"id\":\"23912\",\"type\":\"LegendItem\"}],\"location\":\"bottom_left\"},\"id\":\"23865\",\"type\":\"Legend\"},{\"attributes\":{\"fill_color\":{\"value\":\"#FA1857\"},\"line_color\":{\"value\":\"#FA1857\"},\"size\":{\"units\":\"screen\",\"value\":1},\"x\":{\"field\":\"x\"},\"y\":{\"field\":\"y\"}},\"id\":\"23868\",\"type\":\"Circle\"},{\"attributes\":{\"data_source\":{\"id\":\"23867\",\"type\":\"ColumnDataSource\"},\"glyph\":{\"id\":\"23868\",\"type\":\"Circle\"},\"hover_glyph\":null,\"muted_glyph\":null,\"nonselection_glyph\":{\"id\":\"23869\",\"type\":\"Circle\"},\"selection_glyph\":null,\"view\":{\"id\":\"23871\",\"type\":\"CDSView\"}},\"id\":\"23870\",\"type\":\"GlyphRenderer\"}],\"root_ids\":[\"23820\"]},\"title\":\"Bokeh Application\",\"version\":\"1.3.4\"}};\n",
       "  var render_items = [{\"docid\":\"206fc49b-258b-4940-832b-05c7fce9ca97\",\"roots\":{\"23820\":\"86be1cb5-d329-48fa-b8ad-a06916076d9e\"}}];\n",
       "  root.Bokeh.embed.embed_items_notebook(docs_json, render_items);\n",
       "\n",
       "  }\n",
       "  if (root.Bokeh !== undefined) {\n",
       "    embed_document(root);\n",
       "  } else {\n",
       "    var attempts = 0;\n",
       "    var timer = setInterval(function(root) {\n",
       "      if (root.Bokeh !== undefined) {\n",
       "        embed_document(root);\n",
       "        clearInterval(timer);\n",
       "      }\n",
       "      attempts++;\n",
       "      if (attempts > 100) {\n",
       "        console.log(\"Bokeh: ERROR: Unable to run BokehJS code because BokehJS library is missing\");\n",
       "        clearInterval(timer);\n",
       "      }\n",
       "    }, 10, root)\n",
       "  }\n",
       "})(window);"
      ],
      "application/vnd.bokehjs_exec.v0+json": ""
     },
     "metadata": {
      "application/vnd.bokehjs_exec.v0+json": {
       "id": "23820"
      }
     },
     "output_type": "display_data"
    }
   ],
   "source": [
    "# Growth of urban population\n",
    "years = list(map(str, list(range(2000,2018))))\n",
    "result = show_weighted_average(years, 'SP.URB.GROW', 'SP.URB.TOTL', \n",
    "                               ['LDCs', 'Developing excluding LDCs', 'OECD'], \n",
    "                                height=400, width=1000, line_width=4)"
   ]
  },
  {
   "cell_type": "markdown",
   "metadata": {
    "slideshow": {
     "slide_type": "slide"
    }
   },
   "source": [
    "# Urban areas are rapidly increasing in LDCs\n",
    "\n",
    "# Two thirds of the urban space in the LDCs will have to be built in the next 35 years\n",
    "\n",
    "# The rate of urbanization in LDCs is very high. Cities will have to absorb more people in less time\n",
    "\n",
    "# Adressing the provision of services in a context of low resources and lack of technical capacities constitute a huge challenge"
   ]
  },
  {
   "cell_type": "markdown",
   "metadata": {
    "slideshow": {
     "slide_type": "slide"
    }
   },
   "source": [
    "# Water and sanitation"
   ]
  },
  {
   "cell_type": "code",
   "execution_count": null,
   "metadata": {
    "ExecuteTime": {
     "end_time": "2019-10-25T14:25:57.739495Z",
     "start_time": "2019-10-25T14:25:51.769121Z"
    },
    "slideshow": {
     "slide_type": "slide"
    }
   },
   "outputs": [],
   "source": [
    "# Access to safely managed sanitation services\n",
    "years = list(map(str, list(range(2000,2018))))\n",
    "result = show_weighted_average(years, 'SH.STA.SMSS.ZS', 'SP.POP.TOTL', \n",
    "                               ['LDCs', 'Developing excluding LDCs', 'OECD'], \n",
    "                                height=400, width=1000, line_width=4)"
   ]
  },
  {
   "cell_type": "code",
   "execution_count": null,
   "metadata": {
    "ExecuteTime": {
     "end_time": "2019-10-25T14:26:01.793967Z",
     "start_time": "2019-10-25T14:25:57.741996Z"
    },
    "slideshow": {
     "slide_type": "slide"
    }
   },
   "outputs": [],
   "source": [
    "# Basic water access\n",
    "years = list(map(str, list(range(2000,2018))))\n",
    "result = show_weighted_average(years, 'SH.H2O.BASW.ZS', 'SP.POP.TOTL', ['LDCs', 'Developing excluding LDCs'], \n",
    "                                height=400, width=1000, line_width=4)"
   ]
  },
  {
   "cell_type": "code",
   "execution_count": null,
   "metadata": {
    "ExecuteTime": {
     "end_time": "2019-10-25T14:26:06.027715Z",
     "start_time": "2019-10-25T14:26:01.795810Z"
    },
    "slideshow": {
     "slide_type": "slide"
    }
   },
   "outputs": [],
   "source": [
    "# Basic water access rural\n",
    "years = list(map(str, list(range(2000,2018))))\n",
    "result = show_weighted_average(years, 'SH.H2O.BASW.RU.ZS', 'SP.RUR.TOTL', ['LDCs', 'Developing excluding LDCs'], \n",
    "                                height=400, width=1000, line_width=4)"
   ]
  },
  {
   "cell_type": "markdown",
   "metadata": {
    "slideshow": {
     "slide_type": "slide"
    }
   },
   "source": [
    "# Gender equality and the empowerment of women"
   ]
  },
  {
   "cell_type": "code",
   "execution_count": null,
   "metadata": {
    "ExecuteTime": {
     "end_time": "2019-10-25T14:26:06.754335Z",
     "start_time": "2019-10-25T14:26:06.030180Z"
    },
    "slideshow": {
     "slide_type": "slide"
    }
   },
   "outputs": [],
   "source": [
    "# Basic water access rural\n",
    "years = ['2004', '2007', '2009', '2014', '2016']\n",
    "result = show_weighted_average(years, 'SH.FPL.SATM.ZS', 'SP.POP.TOTL.FE.IN', \n",
    "                               ['LDCs', 'Developing excluding LDCs'], \n",
    "                                height=400, width=1000, line_width=4)"
   ]
  },
  {
   "cell_type": "code",
   "execution_count": null,
   "metadata": {
    "ExecuteTime": {
     "end_time": "2019-10-25T14:26:07.694750Z",
     "start_time": "2019-10-25T14:26:06.760738Z"
    },
    "slideshow": {
     "slide_type": "slide"
    }
   },
   "outputs": [],
   "source": [
    "# Basic water access rural\n",
    "years = ['2000', '2003', '2006', '2009', '2014', '2017']\n",
    "result = show_weighted_average(years, 'SP.ADO.TFRT', 'SP.POP.TOTL.FE.IN', \n",
    "                               ['LDCs', 'Developing excluding LDCs'], \n",
    "                                height=400, width=1000, line_width=4)"
   ]
  },
  {
   "cell_type": "markdown",
   "metadata": {
    "slideshow": {
     "slide_type": "slide"
    }
   },
   "source": [
    "# Social protection"
   ]
  },
  {
   "cell_type": "code",
   "execution_count": null,
   "metadata": {
    "ExecuteTime": {
     "end_time": "2019-10-25T14:26:12.858520Z",
     "start_time": "2019-10-25T14:26:07.697975Z"
    },
    "slideshow": {
     "slide_type": "slide"
    }
   },
   "outputs": [],
   "source": [
    "# Age dependency ratio (% of working-age population)\n",
    "years = list(map(str, list(range(2000,2018))))\n",
    "result = show_weighted_average(years, 'SP.POP.DPND', 'SP.POP.1564.TO', \n",
    "                               ['LDCs', 'Developing excluding LDCs', 'OECD'], \n",
    "                                height=400, width=1000, line_width=4)"
   ]
  },
  {
   "cell_type": "code",
   "execution_count": 50,
   "metadata": {
    "ExecuteTime": {
     "end_time": "2019-10-25T14:26:17.747160Z",
     "start_time": "2019-10-25T14:26:12.861357Z"
    },
    "slideshow": {
     "slide_type": "slide"
    }
   },
   "outputs": [
    {
     "data": {
      "text/html": [
       "\n",
       "\n",
       "\n",
       "\n",
       "\n",
       "\n",
       "  <div class=\"bk-root\" id=\"2c38525f-ebca-4f1a-9b3e-bab5b85da955\" data-root-id=\"24729\"></div>\n"
      ]
     },
     "metadata": {},
     "output_type": "display_data"
    },
    {
     "data": {
      "application/javascript": [
       "(function(root) {\n",
       "  function embed_document(root) {\n",
       "    \n",
       "  var docs_json = {\"e32aa13b-c4cb-479a-93f0-b6225437e7d6\":{\"roots\":{\"references\":[{\"attributes\":{\"below\":[{\"id\":\"24740\",\"type\":\"LinearAxis\"}],\"center\":[{\"id\":\"24744\",\"type\":\"Grid\"},{\"id\":\"24749\",\"type\":\"Grid\"},{\"id\":\"24774\",\"type\":\"Legend\"}],\"left\":[{\"id\":\"24745\",\"type\":\"LinearAxis\"}],\"plot_height\":400,\"plot_width\":1000,\"renderers\":[{\"id\":\"24766\",\"type\":\"GlyphRenderer\"},{\"id\":\"24779\",\"type\":\"GlyphRenderer\"},{\"id\":\"24784\",\"type\":\"GlyphRenderer\"},{\"id\":\"24800\",\"type\":\"GlyphRenderer\"},{\"id\":\"24805\",\"type\":\"GlyphRenderer\"},{\"id\":\"24825\",\"type\":\"GlyphRenderer\"}],\"title\":{\"id\":\"24730\",\"type\":\"Title\"},\"toolbar\":{\"id\":\"24756\",\"type\":\"Toolbar\"},\"x_range\":{\"id\":\"24732\",\"type\":\"DataRange1d\"},\"x_scale\":{\"id\":\"24736\",\"type\":\"LinearScale\"},\"y_range\":{\"id\":\"24734\",\"type\":\"DataRange1d\"},\"y_scale\":{\"id\":\"24738\",\"type\":\"LinearScale\"}},\"id\":\"24729\",\"subtype\":\"Figure\",\"type\":\"Plot\"},{\"attributes\":{\"label\":{\"value\":\"Developing excluding LDCs\"},\"renderers\":[{\"id\":\"24784\",\"type\":\"GlyphRenderer\"}]},\"id\":\"24796\",\"type\":\"LegendItem\"},{\"attributes\":{\"line_alpha\":0.1,\"line_color\":\"#1f77b4\",\"line_width\":3,\"x\":{\"field\":\"x\"},\"y\":{\"field\":\"y\"}},\"id\":\"24783\",\"type\":\"Line\"},{\"attributes\":{\"source\":{\"id\":\"24763\",\"type\":\"ColumnDataSource\"}},\"id\":\"24767\",\"type\":\"CDSView\"},{\"attributes\":{\"line_alpha\":0.1,\"line_color\":\"#1f77b4\",\"line_width\":3,\"x\":{\"field\":\"x\"},\"y\":{\"field\":\"y\"}},\"id\":\"24804\",\"type\":\"Line\"},{\"attributes\":{\"items\":[{\"id\":\"24775\",\"type\":\"LegendItem\"},{\"id\":\"24796\",\"type\":\"LegendItem\"},{\"id\":\"24821\",\"type\":\"LegendItem\"}],\"location\":\"bottom_left\"},\"id\":\"24774\",\"type\":\"Legend\"},{\"attributes\":{\"callback\":null},\"id\":\"24732\",\"type\":\"DataRange1d\"},{\"attributes\":{},\"id\":\"24738\",\"type\":\"LinearScale\"},{\"attributes\":{\"callback\":null,\"data\":{\"x\":[\"2000\",\"2001\",\"2002\",\"2003\",\"2004\",\"2005\",\"2006\",\"2007\",\"2008\",\"2009\",\"2010\",\"2011\",\"2012\",\"2013\",\"2014\",\"2015\",\"2016\",\"2017\"],\"y\":[65.83301652521625,65.8684425528842,65.73427571808543,65.64919764713692,65.66603925352581,65.747247617559,65.82733188121632,65.79867099451198,65.67749694606924,65.23243344174506,65.14313911051282,65.0042687463501,64.80493437351076,64.6705264038209,64.61325967142318,64.54779771445858,64.48134681180402,64.84243717269096]},\"selected\":{\"id\":\"24794\",\"type\":\"Selection\"},\"selection_policy\":{\"id\":\"24795\",\"type\":\"UnionRenderers\"}},\"id\":\"24776\",\"type\":\"ColumnDataSource\"},{\"attributes\":{\"source\":{\"id\":\"24802\",\"type\":\"ColumnDataSource\"}},\"id\":\"24806\",\"type\":\"CDSView\"},{\"attributes\":{},\"id\":\"25547\",\"type\":\"UnionRenderers\"},{\"attributes\":{\"callback\":null,\"data\":{\"x\":[\"2000\",\"2001\",\"2002\",\"2003\",\"2004\",\"2005\",\"2006\",\"2007\",\"2008\",\"2009\",\"2010\",\"2011\",\"2012\",\"2013\",\"2014\",\"2015\",\"2016\",\"2017\"],\"y\":[62.02243357574345,61.64016680037185,61.1618940952195,60.78637558710965,60.735995768634645,60.53607853298226,60.269713445332776,60.075721745799676,59.750477553036504,59.25835137121876,58.96155327114154,58.71265955540014,58.47689078553427,58.318144479363795,58.199985004749834,58.00138011342064,57.745664542750994,57.66029265801793]},\"selected\":{\"id\":\"24819\",\"type\":\"Selection\"},\"selection_policy\":{\"id\":\"24820\",\"type\":\"UnionRenderers\"}},\"id\":\"24797\",\"type\":\"ColumnDataSource\"},{\"attributes\":{\"data_source\":{\"id\":\"24781\",\"type\":\"ColumnDataSource\"},\"glyph\":{\"id\":\"24782\",\"type\":\"Line\"},\"hover_glyph\":null,\"muted_glyph\":null,\"nonselection_glyph\":{\"id\":\"24783\",\"type\":\"Line\"},\"selection_glyph\":null,\"view\":{\"id\":\"24785\",\"type\":\"CDSView\"}},\"id\":\"24784\",\"type\":\"GlyphRenderer\"},{\"attributes\":{\"label\":{\"value\":\"LDCs\"},\"renderers\":[{\"id\":\"24766\",\"type\":\"GlyphRenderer\"}]},\"id\":\"24775\",\"type\":\"LegendItem\"},{\"attributes\":{},\"id\":\"24818\",\"type\":\"UnionRenderers\"},{\"attributes\":{\"grid_line_color\":null,\"ticker\":{\"id\":\"24741\",\"type\":\"BasicTicker\"}},\"id\":\"24744\",\"type\":\"Grid\"},{\"attributes\":{\"fill_alpha\":{\"value\":0.1},\"fill_color\":{\"value\":\"#1f77b4\"},\"line_alpha\":{\"value\":0.1},\"line_color\":{\"value\":\"#1f77b4\"},\"size\":{\"units\":\"screen\",\"value\":1},\"x\":{\"field\":\"x\"},\"y\":{\"field\":\"y\"}},\"id\":\"24799\",\"type\":\"Circle\"},{\"attributes\":{},\"id\":\"24792\",\"type\":\"Selection\"},{\"attributes\":{\"text\":\"Employment to population ratio, 15+, total (%) (modeled ILO estimate) weighted against Population, total\"},\"id\":\"24730\",\"type\":\"Title\"},{\"attributes\":{\"fill_color\":{\"value\":\"#FA1857\"},\"line_color\":{\"value\":\"#FA1857\"},\"size\":{\"units\":\"screen\",\"value\":1},\"x\":{\"field\":\"x\"},\"y\":{\"field\":\"y\"}},\"id\":\"24777\",\"type\":\"Circle\"},{\"attributes\":{\"overlay\":{\"id\":\"24773\",\"type\":\"BoxAnnotation\"}},\"id\":\"24752\",\"type\":\"BoxZoomTool\"},{\"attributes\":{},\"id\":\"24817\",\"type\":\"Selection\"},{\"attributes\":{\"callback\":null},\"id\":\"24734\",\"type\":\"DataRange1d\"},{\"attributes\":{\"fill_color\":{\"value\":\"#5430F1\"},\"line_color\":{\"value\":\"#5430F1\"},\"size\":{\"units\":\"screen\",\"value\":1},\"x\":{\"field\":\"x\"},\"y\":{\"field\":\"y\"}},\"id\":\"24798\",\"type\":\"Circle\"},{\"attributes\":{\"source\":{\"id\":\"24781\",\"type\":\"ColumnDataSource\"}},\"id\":\"24785\",\"type\":\"CDSView\"},{\"attributes\":{},\"id\":\"25546\",\"type\":\"Selection\"},{\"attributes\":{\"active_drag\":\"auto\",\"active_inspect\":\"auto\",\"active_multi\":null,\"active_scroll\":\"auto\",\"active_tap\":\"auto\",\"tools\":[{\"id\":\"24750\",\"type\":\"PanTool\"},{\"id\":\"24751\",\"type\":\"WheelZoomTool\"},{\"id\":\"24752\",\"type\":\"BoxZoomTool\"},{\"id\":\"24753\",\"type\":\"SaveTool\"},{\"id\":\"24754\",\"type\":\"ResetTool\"},{\"id\":\"24755\",\"type\":\"HelpTool\"},{\"id\":\"24827\",\"type\":\"HoverTool\"}]},\"id\":\"24756\",\"type\":\"Toolbar\"},{\"attributes\":{},\"id\":\"24793\",\"type\":\"UnionRenderers\"},{\"attributes\":{\"dimension\":1,\"grid_line_alpha\":0.5,\"ticker\":{\"id\":\"24746\",\"type\":\"BasicTicker\"}},\"id\":\"24749\",\"type\":\"Grid\"},{\"attributes\":{\"data_source\":{\"id\":\"24776\",\"type\":\"ColumnDataSource\"},\"glyph\":{\"id\":\"24777\",\"type\":\"Circle\"},\"hover_glyph\":null,\"muted_glyph\":null,\"nonselection_glyph\":{\"id\":\"24778\",\"type\":\"Circle\"},\"selection_glyph\":null,\"view\":{\"id\":\"24780\",\"type\":\"CDSView\"}},\"id\":\"24779\",\"type\":\"GlyphRenderer\"},{\"attributes\":{\"data_source\":{\"id\":\"24797\",\"type\":\"ColumnDataSource\"},\"glyph\":{\"id\":\"24798\",\"type\":\"Circle\"},\"hover_glyph\":null,\"muted_glyph\":null,\"nonselection_glyph\":{\"id\":\"24799\",\"type\":\"Circle\"},\"selection_glyph\":null,\"view\":{\"id\":\"24801\",\"type\":\"CDSView\"}},\"id\":\"24800\",\"type\":\"GlyphRenderer\"},{\"attributes\":{},\"id\":\"24736\",\"type\":\"LinearScale\"},{\"attributes\":{\"data_source\":{\"id\":\"24763\",\"type\":\"ColumnDataSource\"},\"glyph\":{\"id\":\"24764\",\"type\":\"Line\"},\"hover_glyph\":null,\"muted_glyph\":null,\"nonselection_glyph\":{\"id\":\"24765\",\"type\":\"Line\"},\"selection_glyph\":null,\"view\":{\"id\":\"24767\",\"type\":\"CDSView\"}},\"id\":\"24766\",\"type\":\"GlyphRenderer\"},{\"attributes\":{\"axis_label\":\"Years\",\"formatter\":{\"id\":\"24770\",\"type\":\"BasicTickFormatter\"},\"ticker\":{\"id\":\"24741\",\"type\":\"BasicTicker\"}},\"id\":\"24740\",\"type\":\"LinearAxis\"},{\"attributes\":{\"fill_alpha\":{\"value\":0.1},\"fill_color\":{\"value\":\"#1f77b4\"},\"line_alpha\":{\"value\":0.1},\"line_color\":{\"value\":\"#1f77b4\"},\"size\":{\"units\":\"screen\",\"value\":1},\"x\":{\"field\":\"x\"},\"y\":{\"field\":\"y\"}},\"id\":\"24778\",\"type\":\"Circle\"},{\"attributes\":{\"callback\":null,\"tooltips\":\"                \\n        <div style=padding=5px>Year:@x</div>\\n        <div style=padding=5px>Value:@y</div>        \\n        \"},\"id\":\"24827\",\"type\":\"HoverTool\"},{\"attributes\":{\"callback\":null,\"data\":{\"x\":[\"2000\",\"2001\",\"2002\",\"2003\",\"2004\",\"2005\",\"2006\",\"2007\",\"2008\",\"2009\",\"2010\",\"2011\",\"2012\",\"2013\",\"2014\",\"2015\",\"2016\",\"2017\"],\"y\":[56.40865141951019,56.15551087542925,55.78176951023597,55.5296417520831,55.589161503213,55.967412284918765,56.41051699770243,56.73108736593439,56.62697234239764,55.124996476006956,54.84009591169655,54.959388942012374,55.0534575823381,55.05901270441525,55.304467418720705,55.67918767759019,56.10556899868917,56.579633263980924]},\"selected\":{\"id\":\"25544\",\"type\":\"Selection\"},\"selection_policy\":{\"id\":\"25545\",\"type\":\"UnionRenderers\"}},\"id\":\"24802\",\"type\":\"ColumnDataSource\"},{\"attributes\":{\"source\":{\"id\":\"24822\",\"type\":\"ColumnDataSource\"}},\"id\":\"24826\",\"type\":\"CDSView\"},{\"attributes\":{\"line_alpha\":0.1,\"line_color\":\"#1f77b4\",\"line_width\":3,\"x\":{\"field\":\"x\"},\"y\":{\"field\":\"y\"}},\"id\":\"24765\",\"type\":\"Line\"},{\"attributes\":{},\"id\":\"24755\",\"type\":\"HelpTool\"},{\"attributes\":{\"callback\":null,\"data\":{\"x\":[\"2000\",\"2001\",\"2002\",\"2003\",\"2004\",\"2005\",\"2006\",\"2007\",\"2008\",\"2009\",\"2010\",\"2011\",\"2012\",\"2013\",\"2014\",\"2015\",\"2016\",\"2017\"],\"y\":[56.40865141951019,56.15551087542925,55.78176951023597,55.5296417520831,55.589161503213,55.967412284918765,56.41051699770243,56.73108736593439,56.62697234239764,55.124996476006956,54.84009591169655,54.959388942012374,55.0534575823381,55.05901270441525,55.304467418720705,55.67918767759019,56.10556899868917,56.579633263980924]},\"selected\":{\"id\":\"25546\",\"type\":\"Selection\"},\"selection_policy\":{\"id\":\"25547\",\"type\":\"UnionRenderers\"}},\"id\":\"24822\",\"type\":\"ColumnDataSource\"},{\"attributes\":{},\"id\":\"24741\",\"type\":\"BasicTicker\"},{\"attributes\":{\"bottom_units\":\"screen\",\"fill_alpha\":{\"value\":0.5},\"fill_color\":{\"value\":\"lightgrey\"},\"left_units\":\"screen\",\"level\":\"overlay\",\"line_alpha\":{\"value\":1.0},\"line_color\":{\"value\":\"black\"},\"line_dash\":[4,4],\"line_width\":{\"value\":2},\"render_mode\":\"css\",\"right_units\":\"screen\",\"top_units\":\"screen\"},\"id\":\"24773\",\"type\":\"BoxAnnotation\"},{\"attributes\":{},\"id\":\"24746\",\"type\":\"BasicTicker\"},{\"attributes\":{},\"id\":\"24754\",\"type\":\"ResetTool\"},{\"attributes\":{\"source\":{\"id\":\"24776\",\"type\":\"ColumnDataSource\"}},\"id\":\"24780\",\"type\":\"CDSView\"},{\"attributes\":{\"source\":{\"id\":\"24797\",\"type\":\"ColumnDataSource\"}},\"id\":\"24801\",\"type\":\"CDSView\"},{\"attributes\":{\"fill_color\":{\"value\":\"#2CC775\"},\"line_color\":{\"value\":\"#2CC775\"},\"size\":{\"units\":\"screen\",\"value\":1},\"x\":{\"field\":\"x\"},\"y\":{\"field\":\"y\"}},\"id\":\"24823\",\"type\":\"Circle\"},{\"attributes\":{},\"id\":\"24770\",\"type\":\"BasicTickFormatter\"},{\"attributes\":{\"fill_alpha\":{\"value\":0.1},\"fill_color\":{\"value\":\"#1f77b4\"},\"line_alpha\":{\"value\":0.1},\"line_color\":{\"value\":\"#1f77b4\"},\"size\":{\"units\":\"screen\",\"value\":1},\"x\":{\"field\":\"x\"},\"y\":{\"field\":\"y\"}},\"id\":\"24824\",\"type\":\"Circle\"},{\"attributes\":{\"axis_label\":\"SL.EMP.TOTL.SP.ZS\",\"formatter\":{\"id\":\"24772\",\"type\":\"BasicTickFormatter\"},\"ticker\":{\"id\":\"24746\",\"type\":\"BasicTicker\"}},\"id\":\"24745\",\"type\":\"LinearAxis\"},{\"attributes\":{\"label\":{\"value\":\"OECD\"},\"renderers\":[{\"id\":\"24805\",\"type\":\"GlyphRenderer\"}]},\"id\":\"24821\",\"type\":\"LegendItem\"},{\"attributes\":{},\"id\":\"24753\",\"type\":\"SaveTool\"},{\"attributes\":{},\"id\":\"24751\",\"type\":\"WheelZoomTool\"},{\"attributes\":{\"callback\":null,\"data\":{\"x\":[\"2000\",\"2001\",\"2002\",\"2003\",\"2004\",\"2005\",\"2006\",\"2007\",\"2008\",\"2009\",\"2010\",\"2011\",\"2012\",\"2013\",\"2014\",\"2015\",\"2016\",\"2017\"],\"y\":[62.02243357574345,61.64016680037185,61.1618940952195,60.78637558710965,60.735995768634645,60.53607853298226,60.269713445332776,60.075721745799676,59.750477553036504,59.25835137121876,58.96155327114154,58.71265955540014,58.47689078553427,58.318144479363795,58.199985004749834,58.00138011342064,57.745664542750994,57.66029265801793]},\"selected\":{\"id\":\"24817\",\"type\":\"Selection\"},\"selection_policy\":{\"id\":\"24818\",\"type\":\"UnionRenderers\"}},\"id\":\"24781\",\"type\":\"ColumnDataSource\"},{\"attributes\":{},\"id\":\"24772\",\"type\":\"BasicTickFormatter\"},{\"attributes\":{},\"id\":\"24794\",\"type\":\"Selection\"},{\"attributes\":{\"line_color\":\"#5430F1\",\"line_width\":3,\"x\":{\"field\":\"x\"},\"y\":{\"field\":\"y\"}},\"id\":\"24782\",\"type\":\"Line\"},{\"attributes\":{},\"id\":\"25545\",\"type\":\"UnionRenderers\"},{\"attributes\":{\"line_color\":\"#2CC775\",\"line_width\":3,\"x\":{\"field\":\"x\"},\"y\":{\"field\":\"y\"}},\"id\":\"24803\",\"type\":\"Line\"},{\"attributes\":{},\"id\":\"24820\",\"type\":\"UnionRenderers\"},{\"attributes\":{},\"id\":\"25544\",\"type\":\"Selection\"},{\"attributes\":{\"callback\":null,\"data\":{\"x\":[\"2000\",\"2001\",\"2002\",\"2003\",\"2004\",\"2005\",\"2006\",\"2007\",\"2008\",\"2009\",\"2010\",\"2011\",\"2012\",\"2013\",\"2014\",\"2015\",\"2016\",\"2017\"],\"y\":[65.83301652521625,65.8684425528842,65.73427571808543,65.64919764713692,65.66603925352581,65.747247617559,65.82733188121632,65.79867099451198,65.67749694606924,65.23243344174506,65.14313911051282,65.0042687463501,64.80493437351076,64.6705264038209,64.61325967142318,64.54779771445858,64.48134681180402,64.84243717269096]},\"selected\":{\"id\":\"24792\",\"type\":\"Selection\"},\"selection_policy\":{\"id\":\"24793\",\"type\":\"UnionRenderers\"}},\"id\":\"24763\",\"type\":\"ColumnDataSource\"},{\"attributes\":{},\"id\":\"24819\",\"type\":\"Selection\"},{\"attributes\":{\"line_color\":\"#FA1857\",\"line_width\":3,\"x\":{\"field\":\"x\"},\"y\":{\"field\":\"y\"}},\"id\":\"24764\",\"type\":\"Line\"},{\"attributes\":{\"data_source\":{\"id\":\"24822\",\"type\":\"ColumnDataSource\"},\"glyph\":{\"id\":\"24823\",\"type\":\"Circle\"},\"hover_glyph\":null,\"muted_glyph\":null,\"nonselection_glyph\":{\"id\":\"24824\",\"type\":\"Circle\"},\"selection_glyph\":null,\"view\":{\"id\":\"24826\",\"type\":\"CDSView\"}},\"id\":\"24825\",\"type\":\"GlyphRenderer\"},{\"attributes\":{\"data_source\":{\"id\":\"24802\",\"type\":\"ColumnDataSource\"},\"glyph\":{\"id\":\"24803\",\"type\":\"Line\"},\"hover_glyph\":null,\"muted_glyph\":null,\"nonselection_glyph\":{\"id\":\"24804\",\"type\":\"Line\"},\"selection_glyph\":null,\"view\":{\"id\":\"24806\",\"type\":\"CDSView\"}},\"id\":\"24805\",\"type\":\"GlyphRenderer\"},{\"attributes\":{},\"id\":\"24795\",\"type\":\"UnionRenderers\"},{\"attributes\":{},\"id\":\"24750\",\"type\":\"PanTool\"}],\"root_ids\":[\"24729\"]},\"title\":\"Bokeh Application\",\"version\":\"1.3.4\"}};\n",
       "  var render_items = [{\"docid\":\"e32aa13b-c4cb-479a-93f0-b6225437e7d6\",\"roots\":{\"24729\":\"2c38525f-ebca-4f1a-9b3e-bab5b85da955\"}}];\n",
       "  root.Bokeh.embed.embed_items_notebook(docs_json, render_items);\n",
       "\n",
       "  }\n",
       "  if (root.Bokeh !== undefined) {\n",
       "    embed_document(root);\n",
       "  } else {\n",
       "    var attempts = 0;\n",
       "    var timer = setInterval(function(root) {\n",
       "      if (root.Bokeh !== undefined) {\n",
       "        embed_document(root);\n",
       "        clearInterval(timer);\n",
       "      }\n",
       "      attempts++;\n",
       "      if (attempts > 100) {\n",
       "        console.log(\"Bokeh: ERROR: Unable to run BokehJS code because BokehJS library is missing\");\n",
       "        clearInterval(timer);\n",
       "      }\n",
       "    }, 10, root)\n",
       "  }\n",
       "})(window);"
      ],
      "application/vnd.bokehjs_exec.v0+json": ""
     },
     "metadata": {
      "application/vnd.bokehjs_exec.v0+json": {
       "id": "24729"
      }
     },
     "output_type": "display_data"
    }
   ],
   "source": [
    "#Employment to population ratio, 15+, total (%) (modeled ILO estimate)\n",
    "# Age dependency ratio (% of working-age population)\n",
    "years = list(map(str, list(range(2000,2018))))\n",
    "result = show_weighted_average(years, 'SL.EMP.TOTL.SP.ZS', 'SP.POP.TOTL', \n",
    "                               ['LDCs', 'Developing excluding LDCs', 'OECD'], \n",
    "                                height=400, width=1000, line_width=3)"
   ]
  },
  {
   "cell_type": "code",
   "execution_count": null,
   "metadata": {},
   "outputs": [],
   "source": []
  },
  {
   "cell_type": "markdown",
   "metadata": {
    "slideshow": {
     "slide_type": "slide"
    }
   },
   "source": [
    "# Some very general ideas"
   ]
  },
  {
   "cell_type": "markdown",
   "metadata": {
    "slideshow": {
     "slide_type": "slide"
    }
   },
   "source": [
    "# The world is becoming increasingly unequal"
   ]
  },
  {
   "cell_type": "markdown",
   "metadata": {
    "slideshow": {
     "slide_type": "slide"
    }
   },
   "source": [
    "# Great progress in certain areas, still an awful lot to do"
   ]
  },
  {
   "cell_type": "markdown",
   "metadata": {
    "slideshow": {
     "slide_type": "slide"
    }
   },
   "source": [
    "# Sustainable development in the LDCs won't happen without addressing gender inequalities"
   ]
  },
  {
   "cell_type": "markdown",
   "metadata": {
    "slideshow": {
     "slide_type": "slide"
    }
   },
   "source": [
    "# The SDGs and other internationally agreed development goals won't happen without accelerated progress in the LDCs."
   ]
  },
  {
   "cell_type": "markdown",
   "metadata": {
    "slideshow": {
     "slide_type": "slide"
    }
   },
   "source": [
    "# Many thanks\n",
    "\n",
    "Let's stay in touch\n",
    "\n",
    "Tomás González\n",
    "gonzalezt@un.org\n"
   ]
  },
  {
   "cell_type": "code",
   "execution_count": null,
   "metadata": {
    "scrolled": true
   },
   "outputs": [],
   "source": []
  }
 ],
 "metadata": {
  "celltoolbar": "Slideshow",
  "kernelspec": {
   "display_name": "Python 3",
   "language": "python",
   "name": "python3"
  },
  "language_info": {
   "codemirror_mode": {
    "name": "ipython",
    "version": 3
   },
   "file_extension": ".py",
   "mimetype": "text/x-python",
   "name": "python",
   "nbconvert_exporter": "python",
   "pygments_lexer": "ipython3",
   "version": "3.7.0"
  },
  "toc": {
   "base_numbering": 1,
   "nav_menu": {},
   "number_sections": true,
   "sideBar": true,
   "skip_h1_title": false,
   "title_cell": "Table of Contents",
   "title_sidebar": "Contents",
   "toc_cell": false,
   "toc_position": {},
   "toc_section_display": true,
   "toc_window_display": false
  }
 },
 "nbformat": 4,
 "nbformat_minor": 2
}
