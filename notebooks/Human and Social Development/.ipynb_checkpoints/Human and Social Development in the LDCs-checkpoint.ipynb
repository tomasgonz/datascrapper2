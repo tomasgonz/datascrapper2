{
 "cells": [
  {
   "cell_type": "code",
   "execution_count": 1,
   "metadata": {
    "slideshow": {
     "slide_type": "slide"
    }
   },
   "outputs": [
    {
     "data": {
      "text/html": [
       "\n",
       "    <div class=\"bk-root\">\n",
       "        <a href=\"https://bokeh.pydata.org\" target=\"_blank\" class=\"bk-logo bk-logo-small bk-logo-notebook\"></a>\n",
       "        <span id=\"1001\">Loading BokehJS ...</span>\n",
       "    </div>"
      ]
     },
     "metadata": {},
     "output_type": "display_data"
    },
    {
     "data": {
      "application/javascript": [
       "\n",
       "(function(root) {\n",
       "  function now() {\n",
       "    return new Date();\n",
       "  }\n",
       "\n",
       "  var force = true;\n",
       "\n",
       "  if (typeof root._bokeh_onload_callbacks === \"undefined\" || force === true) {\n",
       "    root._bokeh_onload_callbacks = [];\n",
       "    root._bokeh_is_loading = undefined;\n",
       "  }\n",
       "\n",
       "  var JS_MIME_TYPE = 'application/javascript';\n",
       "  var HTML_MIME_TYPE = 'text/html';\n",
       "  var EXEC_MIME_TYPE = 'application/vnd.bokehjs_exec.v0+json';\n",
       "  var CLASS_NAME = 'output_bokeh rendered_html';\n",
       "\n",
       "  /**\n",
       "   * Render data to the DOM node\n",
       "   */\n",
       "  function render(props, node) {\n",
       "    var script = document.createElement(\"script\");\n",
       "    node.appendChild(script);\n",
       "  }\n",
       "\n",
       "  /**\n",
       "   * Handle when an output is cleared or removed\n",
       "   */\n",
       "  function handleClearOutput(event, handle) {\n",
       "    var cell = handle.cell;\n",
       "\n",
       "    var id = cell.output_area._bokeh_element_id;\n",
       "    var server_id = cell.output_area._bokeh_server_id;\n",
       "    // Clean up Bokeh references\n",
       "    if (id != null && id in Bokeh.index) {\n",
       "      Bokeh.index[id].model.document.clear();\n",
       "      delete Bokeh.index[id];\n",
       "    }\n",
       "\n",
       "    if (server_id !== undefined) {\n",
       "      // Clean up Bokeh references\n",
       "      var cmd = \"from bokeh.io.state import curstate; print(curstate().uuid_to_server['\" + server_id + \"'].get_sessions()[0].document.roots[0]._id)\";\n",
       "      cell.notebook.kernel.execute(cmd, {\n",
       "        iopub: {\n",
       "          output: function(msg) {\n",
       "            var id = msg.content.text.trim();\n",
       "            if (id in Bokeh.index) {\n",
       "              Bokeh.index[id].model.document.clear();\n",
       "              delete Bokeh.index[id];\n",
       "            }\n",
       "          }\n",
       "        }\n",
       "      });\n",
       "      // Destroy server and session\n",
       "      var cmd = \"import bokeh.io.notebook as ion; ion.destroy_server('\" + server_id + \"')\";\n",
       "      cell.notebook.kernel.execute(cmd);\n",
       "    }\n",
       "  }\n",
       "\n",
       "  /**\n",
       "   * Handle when a new output is added\n",
       "   */\n",
       "  function handleAddOutput(event, handle) {\n",
       "    var output_area = handle.output_area;\n",
       "    var output = handle.output;\n",
       "\n",
       "    // limit handleAddOutput to display_data with EXEC_MIME_TYPE content only\n",
       "    if ((output.output_type != \"display_data\") || (!output.data.hasOwnProperty(EXEC_MIME_TYPE))) {\n",
       "      return\n",
       "    }\n",
       "\n",
       "    var toinsert = output_area.element.find(\".\" + CLASS_NAME.split(' ')[0]);\n",
       "\n",
       "    if (output.metadata[EXEC_MIME_TYPE][\"id\"] !== undefined) {\n",
       "      toinsert[toinsert.length - 1].firstChild.textContent = output.data[JS_MIME_TYPE];\n",
       "      // store reference to embed id on output_area\n",
       "      output_area._bokeh_element_id = output.metadata[EXEC_MIME_TYPE][\"id\"];\n",
       "    }\n",
       "    if (output.metadata[EXEC_MIME_TYPE][\"server_id\"] !== undefined) {\n",
       "      var bk_div = document.createElement(\"div\");\n",
       "      bk_div.innerHTML = output.data[HTML_MIME_TYPE];\n",
       "      var script_attrs = bk_div.children[0].attributes;\n",
       "      for (var i = 0; i < script_attrs.length; i++) {\n",
       "        toinsert[toinsert.length - 1].firstChild.setAttribute(script_attrs[i].name, script_attrs[i].value);\n",
       "      }\n",
       "      // store reference to server id on output_area\n",
       "      output_area._bokeh_server_id = output.metadata[EXEC_MIME_TYPE][\"server_id\"];\n",
       "    }\n",
       "  }\n",
       "\n",
       "  function register_renderer(events, OutputArea) {\n",
       "\n",
       "    function append_mime(data, metadata, element) {\n",
       "      // create a DOM node to render to\n",
       "      var toinsert = this.create_output_subarea(\n",
       "        metadata,\n",
       "        CLASS_NAME,\n",
       "        EXEC_MIME_TYPE\n",
       "      );\n",
       "      this.keyboard_manager.register_events(toinsert);\n",
       "      // Render to node\n",
       "      var props = {data: data, metadata: metadata[EXEC_MIME_TYPE]};\n",
       "      render(props, toinsert[toinsert.length - 1]);\n",
       "      element.append(toinsert);\n",
       "      return toinsert\n",
       "    }\n",
       "\n",
       "    /* Handle when an output is cleared or removed */\n",
       "    events.on('clear_output.CodeCell', handleClearOutput);\n",
       "    events.on('delete.Cell', handleClearOutput);\n",
       "\n",
       "    /* Handle when a new output is added */\n",
       "    events.on('output_added.OutputArea', handleAddOutput);\n",
       "\n",
       "    /**\n",
       "     * Register the mime type and append_mime function with output_area\n",
       "     */\n",
       "    OutputArea.prototype.register_mime_type(EXEC_MIME_TYPE, append_mime, {\n",
       "      /* Is output safe? */\n",
       "      safe: true,\n",
       "      /* Index of renderer in `output_area.display_order` */\n",
       "      index: 0\n",
       "    });\n",
       "  }\n",
       "\n",
       "  // register the mime type if in Jupyter Notebook environment and previously unregistered\n",
       "  if (root.Jupyter !== undefined) {\n",
       "    var events = require('base/js/events');\n",
       "    var OutputArea = require('notebook/js/outputarea').OutputArea;\n",
       "\n",
       "    if (OutputArea.prototype.mime_types().indexOf(EXEC_MIME_TYPE) == -1) {\n",
       "      register_renderer(events, OutputArea);\n",
       "    }\n",
       "  }\n",
       "\n",
       "  \n",
       "  if (typeof (root._bokeh_timeout) === \"undefined\" || force === true) {\n",
       "    root._bokeh_timeout = Date.now() + 5000;\n",
       "    root._bokeh_failed_load = false;\n",
       "  }\n",
       "\n",
       "  var NB_LOAD_WARNING = {'data': {'text/html':\n",
       "     \"<div style='background-color: #fdd'>\\n\"+\n",
       "     \"<p>\\n\"+\n",
       "     \"BokehJS does not appear to have successfully loaded. If loading BokehJS from CDN, this \\n\"+\n",
       "     \"may be due to a slow or bad network connection. Possible fixes:\\n\"+\n",
       "     \"</p>\\n\"+\n",
       "     \"<ul>\\n\"+\n",
       "     \"<li>re-rerun `output_notebook()` to attempt to load from CDN again, or</li>\\n\"+\n",
       "     \"<li>use INLINE resources instead, as so:</li>\\n\"+\n",
       "     \"</ul>\\n\"+\n",
       "     \"<code>\\n\"+\n",
       "     \"from bokeh.resources import INLINE\\n\"+\n",
       "     \"output_notebook(resources=INLINE)\\n\"+\n",
       "     \"</code>\\n\"+\n",
       "     \"</div>\"}};\n",
       "\n",
       "  function display_loaded() {\n",
       "    var el = document.getElementById(\"1001\");\n",
       "    if (el != null) {\n",
       "      el.textContent = \"BokehJS is loading...\";\n",
       "    }\n",
       "    if (root.Bokeh !== undefined) {\n",
       "      if (el != null) {\n",
       "        el.textContent = \"BokehJS \" + root.Bokeh.version + \" successfully loaded.\";\n",
       "      }\n",
       "    } else if (Date.now() < root._bokeh_timeout) {\n",
       "      setTimeout(display_loaded, 100)\n",
       "    }\n",
       "  }\n",
       "\n",
       "\n",
       "  function run_callbacks() {\n",
       "    try {\n",
       "      root._bokeh_onload_callbacks.forEach(function(callback) {\n",
       "        if (callback != null)\n",
       "          callback();\n",
       "      });\n",
       "    } finally {\n",
       "      delete root._bokeh_onload_callbacks\n",
       "    }\n",
       "    console.debug(\"Bokeh: all callbacks have finished\");\n",
       "  }\n",
       "\n",
       "  function load_libs(css_urls, js_urls, callback) {\n",
       "    if (css_urls == null) css_urls = [];\n",
       "    if (js_urls == null) js_urls = [];\n",
       "\n",
       "    root._bokeh_onload_callbacks.push(callback);\n",
       "    if (root._bokeh_is_loading > 0) {\n",
       "      console.debug(\"Bokeh: BokehJS is being loaded, scheduling callback at\", now());\n",
       "      return null;\n",
       "    }\n",
       "    if (js_urls == null || js_urls.length === 0) {\n",
       "      run_callbacks();\n",
       "      return null;\n",
       "    }\n",
       "    console.debug(\"Bokeh: BokehJS not loaded, scheduling load and callback at\", now());\n",
       "    root._bokeh_is_loading = css_urls.length + js_urls.length;\n",
       "\n",
       "    function on_load() {\n",
       "      root._bokeh_is_loading--;\n",
       "      if (root._bokeh_is_loading === 0) {\n",
       "        console.debug(\"Bokeh: all BokehJS libraries/stylesheets loaded\");\n",
       "        run_callbacks()\n",
       "      }\n",
       "    }\n",
       "\n",
       "    function on_error() {\n",
       "      console.error(\"failed to load \" + url);\n",
       "    }\n",
       "\n",
       "    for (var i = 0; i < css_urls.length; i++) {\n",
       "      var url = css_urls[i];\n",
       "      const element = document.createElement(\"link\");\n",
       "      element.onload = on_load;\n",
       "      element.onerror = on_error;\n",
       "      element.rel = \"stylesheet\";\n",
       "      element.type = \"text/css\";\n",
       "      element.href = url;\n",
       "      console.debug(\"Bokeh: injecting link tag for BokehJS stylesheet: \", url);\n",
       "      document.body.appendChild(element);\n",
       "    }\n",
       "\n",
       "    for (var i = 0; i < js_urls.length; i++) {\n",
       "      var url = js_urls[i];\n",
       "      var element = document.createElement('script');\n",
       "      element.onload = on_load;\n",
       "      element.onerror = on_error;\n",
       "      element.async = false;\n",
       "      element.src = url;\n",
       "      console.debug(\"Bokeh: injecting script tag for BokehJS library: \", url);\n",
       "      document.head.appendChild(element);\n",
       "    }\n",
       "  };var element = document.getElementById(\"1001\");\n",
       "  if (element == null) {\n",
       "    console.error(\"Bokeh: ERROR: autoload.js configured with elementid '1001' but no matching script tag was found. \")\n",
       "    return false;\n",
       "  }\n",
       "\n",
       "  function inject_raw_css(css) {\n",
       "    const element = document.createElement(\"style\");\n",
       "    element.appendChild(document.createTextNode(css));\n",
       "    document.body.appendChild(element);\n",
       "  }\n",
       "\n",
       "  var js_urls = [\"https://cdn.pydata.org/bokeh/release/bokeh-1.3.4.min.js\", \"https://cdn.pydata.org/bokeh/release/bokeh-widgets-1.3.4.min.js\", \"https://cdn.pydata.org/bokeh/release/bokeh-tables-1.3.4.min.js\", \"https://cdn.pydata.org/bokeh/release/bokeh-gl-1.3.4.min.js\"];\n",
       "  var css_urls = [];\n",
       "\n",
       "  var inline_js = [\n",
       "    function(Bokeh) {\n",
       "      Bokeh.set_log_level(\"info\");\n",
       "    },\n",
       "    \n",
       "    function(Bokeh) {\n",
       "      \n",
       "    },\n",
       "    function(Bokeh) {} // ensure no trailing comma for IE\n",
       "  ];\n",
       "\n",
       "  function run_inline_js() {\n",
       "    \n",
       "    if ((root.Bokeh !== undefined) || (force === true)) {\n",
       "      for (var i = 0; i < inline_js.length; i++) {\n",
       "        inline_js[i].call(root, root.Bokeh);\n",
       "      }if (force === true) {\n",
       "        display_loaded();\n",
       "      }} else if (Date.now() < root._bokeh_timeout) {\n",
       "      setTimeout(run_inline_js, 100);\n",
       "    } else if (!root._bokeh_failed_load) {\n",
       "      console.log(\"Bokeh: BokehJS failed to load within specified timeout.\");\n",
       "      root._bokeh_failed_load = true;\n",
       "    } else if (force !== true) {\n",
       "      var cell = $(document.getElementById(\"1001\")).parents('.cell').data().cell;\n",
       "      cell.output_area.append_execute_result(NB_LOAD_WARNING)\n",
       "    }\n",
       "\n",
       "  }\n",
       "\n",
       "  if (root._bokeh_is_loading === 0) {\n",
       "    console.debug(\"Bokeh: BokehJS loaded, going straight to plotting\");\n",
       "    run_inline_js();\n",
       "  } else {\n",
       "    load_libs(css_urls, js_urls, function() {\n",
       "      console.debug(\"Bokeh: BokehJS plotting callback run at\", now());\n",
       "      run_inline_js();\n",
       "    });\n",
       "  }\n",
       "}(window));"
      ],
      "application/vnd.bokehjs_load.v0+json": "\n(function(root) {\n  function now() {\n    return new Date();\n  }\n\n  var force = true;\n\n  if (typeof root._bokeh_onload_callbacks === \"undefined\" || force === true) {\n    root._bokeh_onload_callbacks = [];\n    root._bokeh_is_loading = undefined;\n  }\n\n  \n\n  \n  if (typeof (root._bokeh_timeout) === \"undefined\" || force === true) {\n    root._bokeh_timeout = Date.now() + 5000;\n    root._bokeh_failed_load = false;\n  }\n\n  var NB_LOAD_WARNING = {'data': {'text/html':\n     \"<div style='background-color: #fdd'>\\n\"+\n     \"<p>\\n\"+\n     \"BokehJS does not appear to have successfully loaded. If loading BokehJS from CDN, this \\n\"+\n     \"may be due to a slow or bad network connection. Possible fixes:\\n\"+\n     \"</p>\\n\"+\n     \"<ul>\\n\"+\n     \"<li>re-rerun `output_notebook()` to attempt to load from CDN again, or</li>\\n\"+\n     \"<li>use INLINE resources instead, as so:</li>\\n\"+\n     \"</ul>\\n\"+\n     \"<code>\\n\"+\n     \"from bokeh.resources import INLINE\\n\"+\n     \"output_notebook(resources=INLINE)\\n\"+\n     \"</code>\\n\"+\n     \"</div>\"}};\n\n  function display_loaded() {\n    var el = document.getElementById(\"1001\");\n    if (el != null) {\n      el.textContent = \"BokehJS is loading...\";\n    }\n    if (root.Bokeh !== undefined) {\n      if (el != null) {\n        el.textContent = \"BokehJS \" + root.Bokeh.version + \" successfully loaded.\";\n      }\n    } else if (Date.now() < root._bokeh_timeout) {\n      setTimeout(display_loaded, 100)\n    }\n  }\n\n\n  function run_callbacks() {\n    try {\n      root._bokeh_onload_callbacks.forEach(function(callback) {\n        if (callback != null)\n          callback();\n      });\n    } finally {\n      delete root._bokeh_onload_callbacks\n    }\n    console.debug(\"Bokeh: all callbacks have finished\");\n  }\n\n  function load_libs(css_urls, js_urls, callback) {\n    if (css_urls == null) css_urls = [];\n    if (js_urls == null) js_urls = [];\n\n    root._bokeh_onload_callbacks.push(callback);\n    if (root._bokeh_is_loading > 0) {\n      console.debug(\"Bokeh: BokehJS is being loaded, scheduling callback at\", now());\n      return null;\n    }\n    if (js_urls == null || js_urls.length === 0) {\n      run_callbacks();\n      return null;\n    }\n    console.debug(\"Bokeh: BokehJS not loaded, scheduling load and callback at\", now());\n    root._bokeh_is_loading = css_urls.length + js_urls.length;\n\n    function on_load() {\n      root._bokeh_is_loading--;\n      if (root._bokeh_is_loading === 0) {\n        console.debug(\"Bokeh: all BokehJS libraries/stylesheets loaded\");\n        run_callbacks()\n      }\n    }\n\n    function on_error() {\n      console.error(\"failed to load \" + url);\n    }\n\n    for (var i = 0; i < css_urls.length; i++) {\n      var url = css_urls[i];\n      const element = document.createElement(\"link\");\n      element.onload = on_load;\n      element.onerror = on_error;\n      element.rel = \"stylesheet\";\n      element.type = \"text/css\";\n      element.href = url;\n      console.debug(\"Bokeh: injecting link tag for BokehJS stylesheet: \", url);\n      document.body.appendChild(element);\n    }\n\n    for (var i = 0; i < js_urls.length; i++) {\n      var url = js_urls[i];\n      var element = document.createElement('script');\n      element.onload = on_load;\n      element.onerror = on_error;\n      element.async = false;\n      element.src = url;\n      console.debug(\"Bokeh: injecting script tag for BokehJS library: \", url);\n      document.head.appendChild(element);\n    }\n  };var element = document.getElementById(\"1001\");\n  if (element == null) {\n    console.error(\"Bokeh: ERROR: autoload.js configured with elementid '1001' but no matching script tag was found. \")\n    return false;\n  }\n\n  function inject_raw_css(css) {\n    const element = document.createElement(\"style\");\n    element.appendChild(document.createTextNode(css));\n    document.body.appendChild(element);\n  }\n\n  var js_urls = [\"https://cdn.pydata.org/bokeh/release/bokeh-1.3.4.min.js\", \"https://cdn.pydata.org/bokeh/release/bokeh-widgets-1.3.4.min.js\", \"https://cdn.pydata.org/bokeh/release/bokeh-tables-1.3.4.min.js\", \"https://cdn.pydata.org/bokeh/release/bokeh-gl-1.3.4.min.js\"];\n  var css_urls = [];\n\n  var inline_js = [\n    function(Bokeh) {\n      Bokeh.set_log_level(\"info\");\n    },\n    \n    function(Bokeh) {\n      \n    },\n    function(Bokeh) {} // ensure no trailing comma for IE\n  ];\n\n  function run_inline_js() {\n    \n    if ((root.Bokeh !== undefined) || (force === true)) {\n      for (var i = 0; i < inline_js.length; i++) {\n        inline_js[i].call(root, root.Bokeh);\n      }if (force === true) {\n        display_loaded();\n      }} else if (Date.now() < root._bokeh_timeout) {\n      setTimeout(run_inline_js, 100);\n    } else if (!root._bokeh_failed_load) {\n      console.log(\"Bokeh: BokehJS failed to load within specified timeout.\");\n      root._bokeh_failed_load = true;\n    } else if (force !== true) {\n      var cell = $(document.getElementById(\"1001\")).parents('.cell').data().cell;\n      cell.output_area.append_execute_result(NB_LOAD_WARNING)\n    }\n\n  }\n\n  if (root._bokeh_is_loading === 0) {\n    console.debug(\"Bokeh: BokehJS loaded, going straight to plotting\");\n    run_inline_js();\n  } else {\n    load_libs(css_urls, js_urls, function() {\n      console.debug(\"Bokeh: BokehJS plotting callback run at\", now());\n      run_inline_js();\n    });\n  }\n}(window));"
     },
     "metadata": {},
     "output_type": "display_data"
    }
   ],
   "source": [
    "import sys\n",
    "sys.path.append(\"../../\")\n",
    "from data.Frame import Frame\n",
    "from bk import show_weighted_average, show_group_total, get_pandas_dataframe\n",
    "from bokeh.io import output_notebook\n",
    "from bokeh.plotting import figure, output_file, show, reset_output\n",
    "reset_output()\n",
    "output_notebook()"
   ]
  },
  {
   "cell_type": "markdown",
   "metadata": {
    "slideshow": {
     "slide_type": "slide"
    }
   },
   "source": [
    "# Human and Social development in the LDCs"
   ]
  },
  {
   "cell_type": "markdown",
   "metadata": {
    "slideshow": {
     "slide_type": "slide"
    }
   },
   "source": [
    "+ Population and primary health\n",
    "+ Education and training\n",
    "+ Youth development\n",
    "+ Shelter, water and sanitation\n",
    "+ Gender equality and the empowerment of women\n",
    "+ Social protection"
   ]
  },
  {
   "cell_type": "markdown",
   "metadata": {},
   "source": [
    "# Population and primary health"
   ]
  },
  {
   "cell_type": "code",
   "execution_count": 2,
   "metadata": {},
   "outputs": [
    {
     "data": {
      "text/html": [
       "\n",
       "\n",
       "\n",
       "\n",
       "\n",
       "\n",
       "  <div class=\"bk-root\" id=\"1ab294c1-5c58-4925-92d0-26359d6d147f\" data-root-id=\"1002\"></div>\n"
      ]
     },
     "metadata": {},
     "output_type": "display_data"
    },
    {
     "data": {
      "application/javascript": [
       "(function(root) {\n",
       "  function embed_document(root) {\n",
       "    \n",
       "  var docs_json = {\"ad570f0a-1639-464a-9b7d-3afe220636d9\":{\"roots\":{\"references\":[{\"attributes\":{\"below\":[{\"id\":\"1013\",\"type\":\"LinearAxis\"}],\"center\":[{\"id\":\"1017\",\"type\":\"Grid\"},{\"id\":\"1022\",\"type\":\"Grid\"},{\"id\":\"1047\",\"type\":\"Legend\"}],\"left\":[{\"id\":\"1018\",\"type\":\"LinearAxis\"}],\"plot_height\":400,\"plot_width\":950,\"renderers\":[{\"id\":\"1039\",\"type\":\"GlyphRenderer\"},{\"id\":\"1052\",\"type\":\"GlyphRenderer\"}],\"title\":{\"id\":\"1003\",\"type\":\"Title\"},\"toolbar\":{\"id\":\"1029\",\"type\":\"Toolbar\"},\"x_range\":{\"id\":\"1005\",\"type\":\"DataRange1d\"},\"x_scale\":{\"id\":\"1009\",\"type\":\"LinearScale\"},\"y_range\":{\"id\":\"1007\",\"type\":\"DataRange1d\"},\"y_scale\":{\"id\":\"1011\",\"type\":\"LinearScale\"}},\"id\":\"1002\",\"subtype\":\"Figure\",\"type\":\"Plot\"},{\"attributes\":{\"callback\":null},\"id\":\"1005\",\"type\":\"DataRange1d\"},{\"attributes\":{},\"id\":\"1028\",\"type\":\"HelpTool\"},{\"attributes\":{},\"id\":\"1063\",\"type\":\"Selection\"},{\"attributes\":{\"callback\":null},\"id\":\"1007\",\"type\":\"DataRange1d\"},{\"attributes\":{\"active_drag\":\"auto\",\"active_inspect\":\"auto\",\"active_multi\":null,\"active_scroll\":\"auto\",\"active_tap\":\"auto\",\"tools\":[{\"id\":\"1023\",\"type\":\"PanTool\"},{\"id\":\"1024\",\"type\":\"WheelZoomTool\"},{\"id\":\"1025\",\"type\":\"BoxZoomTool\"},{\"id\":\"1026\",\"type\":\"SaveTool\"},{\"id\":\"1027\",\"type\":\"ResetTool\"},{\"id\":\"1028\",\"type\":\"HelpTool\"},{\"id\":\"1054\",\"type\":\"HoverTool\"}]},\"id\":\"1029\",\"type\":\"Toolbar\"},{\"attributes\":{\"callback\":null,\"data\":{\"x\":[\"1960\",\"1961\",\"1962\",\"1963\",\"1964\",\"1965\",\"1966\",\"1967\",\"1968\",\"1969\",\"1970\",\"1971\",\"1972\",\"1973\",\"1974\",\"1975\",\"1976\",\"1977\",\"1978\",\"1979\",\"1980\",\"1981\",\"1982\",\"1983\",\"1984\",\"1985\",\"1986\",\"1987\",\"1988\",\"1989\",\"1990\",\"1991\",\"1992\",\"1993\",\"1994\",\"1995\",\"1996\",\"1997\",\"1998\",\"1999\",\"2000\",\"2001\",\"2002\",\"2003\",\"2004\",\"2005\",\"2006\",\"2007\",\"2008\",\"2009\",\"2010\",\"2011\",\"2012\",\"2013\",\"2014\",\"2015\",\"2016\",\"2017\"],\"y\":[240518433.0,246113640.0,251900741.0,257908074.0,264174179.0,270720892.0,277573029.0,284708409.0,292045744.0,299473256.0,306916896.0,314344629.0,321797581.0,329357353.0,337142681.0,345242710.0,353691338.0,362475112.0,371577256.0,380963304.0,390612563.0,400528924.0,410740611.0,421279107.0,432185325.0,443491288.0,455193656.0,467290514.0,479814021.0,492803028.0,506275612.0,520262423.0,534731006.0,549559264.0,564581083.0,579681672.0,594801259.0,609983301.0,625342098.0,641046802.0,657215864.0,673903112.0,691061397.0,708587948.0,726331177.0,744190510.0,762132501.0,780219542.0,798563392.0,817322629.0,836614860.0,856472234.0,873619764.0,894516028.0,915914952.0,937788499.0,960134718.0,982952189.0]},\"selected\":{\"id\":\"1063\",\"type\":\"Selection\"},\"selection_policy\":{\"id\":\"1064\",\"type\":\"UnionRenderers\"}},\"id\":\"1049\",\"type\":\"ColumnDataSource\"},{\"attributes\":{},\"id\":\"1064\",\"type\":\"UnionRenderers\"},{\"attributes\":{},\"id\":\"1009\",\"type\":\"LinearScale\"},{\"attributes\":{},\"id\":\"1011\",\"type\":\"LinearScale\"},{\"attributes\":{\"line_color\":\"red\",\"line_width\":2,\"x\":{\"field\":\"x\"},\"y\":{\"field\":\"y\"}},\"id\":\"1037\",\"type\":\"Line\"},{\"attributes\":{\"line_alpha\":0.1,\"line_color\":\"#1f77b4\",\"line_width\":2,\"x\":{\"field\":\"x\"},\"y\":{\"field\":\"y\"}},\"id\":\"1038\",\"type\":\"Line\"},{\"attributes\":{\"axis_label\":\"Years\",\"formatter\":{\"id\":\"1045\",\"type\":\"BasicTickFormatter\"},\"ticker\":{\"id\":\"1014\",\"type\":\"BasicTicker\"}},\"id\":\"1013\",\"type\":\"LinearAxis\"},{\"attributes\":{\"data_source\":{\"id\":\"1036\",\"type\":\"ColumnDataSource\"},\"glyph\":{\"id\":\"1037\",\"type\":\"Line\"},\"hover_glyph\":null,\"muted_glyph\":null,\"nonselection_glyph\":{\"id\":\"1038\",\"type\":\"Line\"},\"selection_glyph\":null,\"view\":{\"id\":\"1040\",\"type\":\"CDSView\"}},\"id\":\"1039\",\"type\":\"GlyphRenderer\"},{\"attributes\":{},\"id\":\"1014\",\"type\":\"BasicTicker\"},{\"attributes\":{\"source\":{\"id\":\"1036\",\"type\":\"ColumnDataSource\"}},\"id\":\"1040\",\"type\":\"CDSView\"},{\"attributes\":{\"ticker\":{\"id\":\"1014\",\"type\":\"BasicTicker\"}},\"id\":\"1017\",\"type\":\"Grid\"},{\"attributes\":{},\"id\":\"1043\",\"type\":\"BasicTickFormatter\"},{\"attributes\":{\"axis_label\":\"Percentage\",\"formatter\":{\"id\":\"1043\",\"type\":\"BasicTickFormatter\"},\"ticker\":{\"id\":\"1019\",\"type\":\"BasicTicker\"}},\"id\":\"1018\",\"type\":\"LinearAxis\"},{\"attributes\":{},\"id\":\"1045\",\"type\":\"BasicTickFormatter\"},{\"attributes\":{},\"id\":\"1019\",\"type\":\"BasicTicker\"},{\"attributes\":{\"bottom_units\":\"screen\",\"fill_alpha\":{\"value\":0.5},\"fill_color\":{\"value\":\"lightgrey\"},\"left_units\":\"screen\",\"level\":\"overlay\",\"line_alpha\":{\"value\":1.0},\"line_color\":{\"value\":\"black\"},\"line_dash\":[4,4],\"line_width\":{\"value\":2},\"render_mode\":\"css\",\"right_units\":\"screen\",\"top_units\":\"screen\"},\"id\":\"1046\",\"type\":\"BoxAnnotation\"},{\"attributes\":{\"dimension\":1,\"ticker\":{\"id\":\"1019\",\"type\":\"BasicTicker\"}},\"id\":\"1022\",\"type\":\"Grid\"},{\"attributes\":{\"items\":[{\"id\":\"1048\",\"type\":\"LegendItem\"}],\"location\":\"bottom_left\"},\"id\":\"1047\",\"type\":\"Legend\"},{\"attributes\":{\"label\":{\"value\":\"LDCs\"},\"renderers\":[{\"id\":\"1039\",\"type\":\"GlyphRenderer\"}]},\"id\":\"1048\",\"type\":\"LegendItem\"},{\"attributes\":{},\"id\":\"1061\",\"type\":\"Selection\"},{\"attributes\":{\"fill_color\":{\"value\":\"red\"},\"line_color\":{\"value\":\"red\"},\"line_width\":{\"value\":3},\"x\":{\"field\":\"x\"},\"y\":{\"field\":\"y\"}},\"id\":\"1050\",\"type\":\"Circle\"},{\"attributes\":{\"callback\":null,\"data\":{\"x\":[\"1960\",\"1961\",\"1962\",\"1963\",\"1964\",\"1965\",\"1966\",\"1967\",\"1968\",\"1969\",\"1970\",\"1971\",\"1972\",\"1973\",\"1974\",\"1975\",\"1976\",\"1977\",\"1978\",\"1979\",\"1980\",\"1981\",\"1982\",\"1983\",\"1984\",\"1985\",\"1986\",\"1987\",\"1988\",\"1989\",\"1990\",\"1991\",\"1992\",\"1993\",\"1994\",\"1995\",\"1996\",\"1997\",\"1998\",\"1999\",\"2000\",\"2001\",\"2002\",\"2003\",\"2004\",\"2005\",\"2006\",\"2007\",\"2008\",\"2009\",\"2010\",\"2011\",\"2012\",\"2013\",\"2014\",\"2015\",\"2016\",\"2017\"],\"y\":[240518433.0,246113640.0,251900741.0,257908074.0,264174179.0,270720892.0,277573029.0,284708409.0,292045744.0,299473256.0,306916896.0,314344629.0,321797581.0,329357353.0,337142681.0,345242710.0,353691338.0,362475112.0,371577256.0,380963304.0,390612563.0,400528924.0,410740611.0,421279107.0,432185325.0,443491288.0,455193656.0,467290514.0,479814021.0,492803028.0,506275612.0,520262423.0,534731006.0,549559264.0,564581083.0,579681672.0,594801259.0,609983301.0,625342098.0,641046802.0,657215864.0,673903112.0,691061397.0,708587948.0,726331177.0,744190510.0,762132501.0,780219542.0,798563392.0,817322629.0,836614860.0,856472234.0,873619764.0,894516028.0,915914952.0,937788499.0,960134718.0,982952189.0]},\"selected\":{\"id\":\"1061\",\"type\":\"Selection\"},\"selection_policy\":{\"id\":\"1062\",\"type\":\"UnionRenderers\"}},\"id\":\"1036\",\"type\":\"ColumnDataSource\"},{\"attributes\":{},\"id\":\"1023\",\"type\":\"PanTool\"},{\"attributes\":{\"fill_alpha\":{\"value\":0.1},\"fill_color\":{\"value\":\"#1f77b4\"},\"line_alpha\":{\"value\":0.1},\"line_color\":{\"value\":\"#1f77b4\"},\"line_width\":{\"value\":3},\"x\":{\"field\":\"x\"},\"y\":{\"field\":\"y\"}},\"id\":\"1051\",\"type\":\"Circle\"},{\"attributes\":{},\"id\":\"1024\",\"type\":\"WheelZoomTool\"},{\"attributes\":{\"data_source\":{\"id\":\"1049\",\"type\":\"ColumnDataSource\"},\"glyph\":{\"id\":\"1050\",\"type\":\"Circle\"},\"hover_glyph\":null,\"muted_glyph\":null,\"nonselection_glyph\":{\"id\":\"1051\",\"type\":\"Circle\"},\"selection_glyph\":null,\"view\":{\"id\":\"1053\",\"type\":\"CDSView\"}},\"id\":\"1052\",\"type\":\"GlyphRenderer\"},{\"attributes\":{\"overlay\":{\"id\":\"1046\",\"type\":\"BoxAnnotation\"}},\"id\":\"1025\",\"type\":\"BoxZoomTool\"},{\"attributes\":{\"source\":{\"id\":\"1049\",\"type\":\"ColumnDataSource\"}},\"id\":\"1053\",\"type\":\"CDSView\"},{\"attributes\":{},\"id\":\"1026\",\"type\":\"SaveTool\"},{\"attributes\":{\"callback\":null,\"tooltips\":\"\\n        <div style=padding=5px>Year:@x</div>\\n        <div style=padding=5px>Value:@y</div>\\n        \"},\"id\":\"1054\",\"type\":\"HoverTool\"},{\"attributes\":{},\"id\":\"1027\",\"type\":\"ResetTool\"},{\"attributes\":{\"text\":\"Population, total\"},\"id\":\"1003\",\"type\":\"Title\"},{\"attributes\":{},\"id\":\"1062\",\"type\":\"UnionRenderers\"}],\"root_ids\":[\"1002\"]},\"title\":\"Bokeh Application\",\"version\":\"1.3.4\"}};\n",
       "  var render_items = [{\"docid\":\"ad570f0a-1639-464a-9b7d-3afe220636d9\",\"roots\":{\"1002\":\"1ab294c1-5c58-4925-92d0-26359d6d147f\"}}];\n",
       "  root.Bokeh.embed.embed_items_notebook(docs_json, render_items);\n",
       "\n",
       "  }\n",
       "  if (root.Bokeh !== undefined) {\n",
       "    embed_document(root);\n",
       "  } else {\n",
       "    var attempts = 0;\n",
       "    var timer = setInterval(function(root) {\n",
       "      if (root.Bokeh !== undefined) {\n",
       "        embed_document(root);\n",
       "        clearInterval(timer);\n",
       "      }\n",
       "      attempts++;\n",
       "      if (attempts > 100) {\n",
       "        console.log(\"Bokeh: ERROR: Unable to run BokehJS code because BokehJS library is missing\");\n",
       "        clearInterval(timer);\n",
       "      }\n",
       "    }, 10, root)\n",
       "  }\n",
       "})(window);"
      ],
      "application/vnd.bokehjs_exec.v0+json": ""
     },
     "metadata": {
      "application/vnd.bokehjs_exec.v0+json": {
       "id": "1002"
      }
     },
     "output_type": "display_data"
    }
   ],
   "source": [
    "years = list(map(str, list(range(1960,2018))))\n",
    "result = show_group_total(years, 'SP.POP.TOTL', ['LDCs'])"
   ]
  },
  {
   "cell_type": "code",
   "execution_count": 3,
   "metadata": {
    "slideshow": {
     "slide_type": "slide"
    }
   },
   "outputs": [
    {
     "data": {
      "text/html": [
       "\n",
       "\n",
       "\n",
       "\n",
       "\n",
       "\n",
       "  <div class=\"bk-root\" id=\"6c6f74a6-7fb1-4c1c-b19b-38762762052f\" data-root-id=\"1126\"></div>\n"
      ]
     },
     "metadata": {},
     "output_type": "display_data"
    },
    {
     "data": {
      "application/javascript": [
       "(function(root) {\n",
       "  function embed_document(root) {\n",
       "    \n",
       "  var docs_json = {\"25763aad-2630-41f6-a741-c6a40c72b4b3\":{\"roots\":{\"references\":[{\"attributes\":{\"below\":[{\"id\":\"1137\",\"type\":\"LinearAxis\"}],\"center\":[{\"id\":\"1141\",\"type\":\"Grid\"},{\"id\":\"1146\",\"type\":\"Grid\"},{\"id\":\"1171\",\"type\":\"Legend\"}],\"left\":[{\"id\":\"1142\",\"type\":\"LinearAxis\"}],\"plot_height\":400,\"plot_width\":950,\"renderers\":[{\"id\":\"1163\",\"type\":\"GlyphRenderer\"},{\"id\":\"1176\",\"type\":\"GlyphRenderer\"},{\"id\":\"1181\",\"type\":\"GlyphRenderer\"},{\"id\":\"1197\",\"type\":\"GlyphRenderer\"},{\"id\":\"1202\",\"type\":\"GlyphRenderer\"},{\"id\":\"1222\",\"type\":\"GlyphRenderer\"},{\"id\":\"1227\",\"type\":\"GlyphRenderer\"},{\"id\":\"1251\",\"type\":\"GlyphRenderer\"}],\"title\":{\"id\":\"1127\",\"type\":\"Title\"},\"toolbar\":{\"id\":\"1153\",\"type\":\"Toolbar\"},\"x_range\":{\"id\":\"1129\",\"type\":\"DataRange1d\"},\"x_scale\":{\"id\":\"1133\",\"type\":\"LinearScale\"},\"y_range\":{\"id\":\"1131\",\"type\":\"DataRange1d\"},\"y_scale\":{\"id\":\"1135\",\"type\":\"LinearScale\"}},\"id\":\"1126\",\"subtype\":\"Figure\",\"type\":\"Plot\"},{\"attributes\":{\"callback\":null,\"data\":{\"x\":[\"1960\",\"1961\",\"1962\",\"1963\",\"1964\",\"1965\",\"1966\",\"1967\",\"1968\",\"1969\",\"1970\",\"1971\",\"1972\",\"1973\",\"1974\",\"1975\",\"1976\",\"1977\",\"1978\",\"1979\",\"1980\",\"1981\",\"1982\",\"1983\",\"1984\",\"1985\",\"1986\",\"1987\",\"1988\",\"1989\",\"1990\",\"1991\",\"1992\",\"1993\",\"1994\",\"1995\",\"1996\",\"1997\",\"1998\",\"1999\",\"2000\",\"2001\",\"2002\",\"2003\",\"2004\",\"2005\",\"2006\",\"2007\",\"2008\",\"2009\",\"2010\",\"2011\",\"2012\",\"2013\",\"2014\",\"2015\",\"2016\",\"2017\"],\"y\":[71.4287204162724,70.58478250090545,69.8627218315356,69.2540534167852,68.62952651886468,68.45269565349967,68.30330145591509,68.12847306488024,67.96068601354663,67.8097178825033,67.66447717679529,67.50600323778671,67.32862526142779,67.08183571737001,66.75828385647537,66.41241444846794,66.07777678128967,65.72668190688223,65.18183524981795,64.4533757788048,63.71881733857113,62.96799844389245,62.22027737245605,61.55864151878186,60.87351190939736,60.19171278583993,59.52652435331649,58.874355767944024,58.220572862789105,57.57964295439006,56.926360221842,56.245909809812225,55.56098070279166,54.86910939948112,54.16746170928522,53.456021744647074,52.74214817103619,52.02016599335358,51.28627069074148,50.5403206844424,49.77439259824327,48.893390112203925,47.94735599195921,46.983717946888646,46.00910558025151,45.0291651703681,44.0668468063683,43.11117920895944,42.15254333218535,41.19555588209807,40.237420349816226,39.32742590316421,38.44124896012396,37.56281422863779,36.69054987945994,35.828956012498,34.97713364375602,34.1379315559834]},\"selected\":{\"id\":\"1244\",\"type\":\"Selection\"},\"selection_policy\":{\"id\":\"1245\",\"type\":\"UnionRenderers\"}},\"id\":\"1219\",\"type\":\"ColumnDataSource\"},{\"attributes\":{\"data_source\":{\"id\":\"1219\",\"type\":\"ColumnDataSource\"},\"glyph\":{\"id\":\"1220\",\"type\":\"Circle\"},\"hover_glyph\":null,\"muted_glyph\":null,\"nonselection_glyph\":{\"id\":\"1221\",\"type\":\"Circle\"},\"selection_glyph\":null,\"view\":{\"id\":\"1223\",\"type\":\"CDSView\"}},\"id\":\"1222\",\"type\":\"GlyphRenderer\"},{\"attributes\":{\"fill_alpha\":{\"value\":0.1},\"fill_color\":{\"value\":\"#1f77b4\"},\"line_alpha\":{\"value\":0.1},\"line_color\":{\"value\":\"#1f77b4\"},\"line_width\":{\"value\":3},\"x\":{\"field\":\"x\"},\"y\":{\"field\":\"y\"}},\"id\":\"1221\",\"type\":\"Circle\"},{\"attributes\":{\"fill_color\":{\"value\":\"green\"},\"line_color\":{\"value\":\"green\"},\"line_width\":{\"value\":3},\"x\":{\"field\":\"x\"},\"y\":{\"field\":\"y\"}},\"id\":\"1220\",\"type\":\"Circle\"},{\"attributes\":{\"line_color\":\"orange\",\"line_width\":2,\"x\":{\"field\":\"x\"},\"y\":{\"field\":\"y\"}},\"id\":\"1225\",\"type\":\"Line\"},{\"attributes\":{\"callback\":null,\"data\":{\"x\":[\"1960\",\"1961\",\"1962\",\"1963\",\"1964\",\"1965\",\"1966\",\"1967\",\"1968\",\"1969\",\"1970\",\"1971\",\"1972\",\"1973\",\"1974\",\"1975\",\"1976\",\"1977\",\"1978\",\"1979\",\"1980\",\"1981\",\"1982\",\"1983\",\"1984\",\"1985\",\"1986\",\"1987\",\"1988\",\"1989\",\"1990\",\"1991\",\"1992\",\"1993\",\"1994\",\"1995\",\"1996\",\"1997\",\"1998\",\"1999\",\"2000\",\"2001\",\"2002\",\"2003\",\"2004\",\"2005\",\"2006\",\"2007\",\"2008\",\"2009\",\"2010\",\"2011\",\"2012\",\"2013\",\"2014\",\"2015\",\"2016\",\"2017\"],\"y\":[37.40046379762384,36.910426656412376,36.42127360665778,35.91623000953568,35.41312563450036,34.91259283883799,34.41460814240305,33.906853776784544,33.41175944934178,32.93243762343052,32.47371657833314,32.08243047483682,31.72254341724644,31.376230937591238,31.02541989859808,30.694684316251664,30.439520115174478,30.192444164715646,29.942960728335073,29.698117424398575,29.45271291536762,29.159197365938237,28.884819993799557,28.62443020571846,28.373177767459325,28.121981510199006,27.8604458404359,27.578860132814693,27.299974013372434,27.04188263980006,26.764398045351797,26.48515980107442,26.22585182821077,25.962163393862863,25.69276563048598,25.42543337883581,25.181488242051362,24.9477281910235,24.714988268795185,24.48183071086911,24.25025925627994,23.905203675760802,23.504398066886452,23.123776637102807,22.758727449036055,22.408569017585673,22.085829368063017,21.7813270701607,21.485590735868247,21.19879146971327,20.918753085714805,20.70228925587614,20.51614583488052,20.332611207313864,20.1493430924518,19.961337971168508,19.770869743541244,19.576668574669895]},\"selected\":{\"id\":\"1282\",\"type\":\"Selection\"},\"selection_policy\":{\"id\":\"1283\",\"type\":\"UnionRenderers\"}},\"id\":\"1224\",\"type\":\"ColumnDataSource\"},{\"attributes\":{\"source\":{\"id\":\"1219\",\"type\":\"ColumnDataSource\"}},\"id\":\"1223\",\"type\":\"CDSView\"},{\"attributes\":{\"line_alpha\":0.1,\"line_color\":\"#1f77b4\",\"line_width\":2,\"x\":{\"field\":\"x\"},\"y\":{\"field\":\"y\"}},\"id\":\"1226\",\"type\":\"Line\"},{\"attributes\":{\"source\":{\"id\":\"1224\",\"type\":\"ColumnDataSource\"}},\"id\":\"1228\",\"type\":\"CDSView\"},{\"attributes\":{\"fill_color\":{\"value\":\"orange\"},\"line_color\":{\"value\":\"orange\"},\"line_width\":{\"value\":3},\"x\":{\"field\":\"x\"},\"y\":{\"field\":\"y\"}},\"id\":\"1249\",\"type\":\"Circle\"},{\"attributes\":{\"data_source\":{\"id\":\"1224\",\"type\":\"ColumnDataSource\"},\"glyph\":{\"id\":\"1225\",\"type\":\"Line\"},\"hover_glyph\":null,\"muted_glyph\":null,\"nonselection_glyph\":{\"id\":\"1226\",\"type\":\"Line\"},\"selection_glyph\":null,\"view\":{\"id\":\"1228\",\"type\":\"CDSView\"}},\"id\":\"1227\",\"type\":\"GlyphRenderer\"},{\"attributes\":{},\"id\":\"1244\",\"type\":\"Selection\"},{\"attributes\":{},\"id\":\"1243\",\"type\":\"UnionRenderers\"},{\"attributes\":{},\"id\":\"1242\",\"type\":\"Selection\"},{\"attributes\":{\"callback\":null,\"data\":{\"x\":[\"1960\",\"1961\",\"1962\",\"1963\",\"1964\",\"1965\",\"1966\",\"1967\",\"1968\",\"1969\",\"1970\",\"1971\",\"1972\",\"1973\",\"1974\",\"1975\",\"1976\",\"1977\",\"1978\",\"1979\",\"1980\",\"1981\",\"1982\",\"1983\",\"1984\",\"1985\",\"1986\",\"1987\",\"1988\",\"1989\",\"1990\",\"1991\",\"1992\",\"1993\",\"1994\",\"1995\",\"1996\",\"1997\",\"1998\",\"1999\",\"2000\",\"2001\",\"2002\",\"2003\",\"2004\",\"2005\",\"2006\",\"2007\",\"2008\",\"2009\",\"2010\",\"2011\",\"2012\",\"2013\",\"2014\",\"2015\",\"2016\",\"2017\"],\"y\":[37.40046379762384,36.910426656412376,36.42127360665778,35.91623000953568,35.41312563450036,34.91259283883799,34.41460814240305,33.906853776784544,33.41175944934178,32.93243762343052,32.47371657833314,32.08243047483682,31.72254341724644,31.376230937591238,31.02541989859808,30.694684316251664,30.439520115174478,30.192444164715646,29.942960728335073,29.698117424398575,29.45271291536762,29.159197365938237,28.884819993799557,28.62443020571846,28.373177767459325,28.121981510199006,27.8604458404359,27.578860132814693,27.299974013372434,27.04188263980006,26.764398045351797,26.48515980107442,26.22585182821077,25.962163393862863,25.69276563048598,25.42543337883581,25.181488242051362,24.9477281910235,24.714988268795185,24.48183071086911,24.25025925627994,23.905203675760802,23.504398066886452,23.123776637102807,22.758727449036055,22.408569017585673,22.085829368063017,21.7813270701607,21.485590735868247,21.19879146971327,20.918753085714805,20.70228925587614,20.51614583488052,20.332611207313864,20.1493430924518,19.961337971168508,19.770869743541244,19.576668574669895]},\"selected\":{\"id\":\"1284\",\"type\":\"Selection\"},\"selection_policy\":{\"id\":\"1285\",\"type\":\"UnionRenderers\"}},\"id\":\"1248\",\"type\":\"ColumnDataSource\"},{\"attributes\":{\"label\":{\"value\":\"OECD\"},\"renderers\":[{\"id\":\"1227\",\"type\":\"GlyphRenderer\"}]},\"id\":\"1247\",\"type\":\"LegendItem\"},{\"attributes\":{},\"id\":\"1245\",\"type\":\"UnionRenderers\"},{\"attributes\":{},\"id\":\"1216\",\"type\":\"UnionRenderers\"},{\"attributes\":{\"source\":{\"id\":\"1248\",\"type\":\"ColumnDataSource\"}},\"id\":\"1252\",\"type\":\"CDSView\"},{\"attributes\":{\"data_source\":{\"id\":\"1248\",\"type\":\"ColumnDataSource\"},\"glyph\":{\"id\":\"1249\",\"type\":\"Circle\"},\"hover_glyph\":null,\"muted_glyph\":null,\"nonselection_glyph\":{\"id\":\"1250\",\"type\":\"Circle\"},\"selection_glyph\":null,\"view\":{\"id\":\"1252\",\"type\":\"CDSView\"}},\"id\":\"1251\",\"type\":\"GlyphRenderer\"},{\"attributes\":{},\"id\":\"1213\",\"type\":\"Selection\"},{\"attributes\":{\"dimension\":1,\"ticker\":{\"id\":\"1143\",\"type\":\"BasicTicker\"}},\"id\":\"1146\",\"type\":\"Grid\"},{\"attributes\":{\"label\":{\"value\":\"UMICs\"},\"renderers\":[{\"id\":\"1202\",\"type\":\"GlyphRenderer\"}]},\"id\":\"1218\",\"type\":\"LegendItem\"},{\"attributes\":{},\"id\":\"1283\",\"type\":\"UnionRenderers\"},{\"attributes\":{},\"id\":\"1147\",\"type\":\"PanTool\"},{\"attributes\":{},\"id\":\"1282\",\"type\":\"Selection\"},{\"attributes\":{},\"id\":\"1215\",\"type\":\"Selection\"},{\"attributes\":{\"callback\":null,\"data\":{\"x\":[\"1960\",\"1961\",\"1962\",\"1963\",\"1964\",\"1965\",\"1966\",\"1967\",\"1968\",\"1969\",\"1970\",\"1971\",\"1972\",\"1973\",\"1974\",\"1975\",\"1976\",\"1977\",\"1978\",\"1979\",\"1980\",\"1981\",\"1982\",\"1983\",\"1984\",\"1985\",\"1986\",\"1987\",\"1988\",\"1989\",\"1990\",\"1991\",\"1992\",\"1993\",\"1994\",\"1995\",\"1996\",\"1997\",\"1998\",\"1999\",\"2000\",\"2001\",\"2002\",\"2003\",\"2004\",\"2005\",\"2006\",\"2007\",\"2008\",\"2009\",\"2010\",\"2011\",\"2012\",\"2013\",\"2014\",\"2015\",\"2016\",\"2017\"],\"y\":[90.30540314961225,90.05922308596143,89.79142197607507,89.50943020766772,89.21332392073033,88.90699930713514,88.59129404993091,88.2421437061032,87.87890301522422,87.498660914606,87.1174953120763,86.69804365829646,86.25174066596233,85.79977180585672,85.34188252862592,85.43654119910886,84.95168938138087,84.44580769216783,83.9221505351178,83.41754005994233,82.84275481593508,82.33340839124018,81.98009926769818,81.5994068914721,81.17923373810068,80.73499511441362,80.28737654778298,79.83589419008621,79.37735062469132,78.94106163003731,78.49089593262889,78.06666464387531,77.66442498847728,77.27582295914314,76.937477006595,76.6142721385419,76.29207931094508,75.96043698797583,75.63493186609195,75.3089958985288,74.97591336080258,74.58855084775452,74.17072837361799,73.7383105264119,73.30461571223451,72.85760200817124,72.41698364409473,72.02137630639736,71.53477802260059,71.03883841181644,70.53468445683478,70.02322338974272,69.54425681847671,69.04126913036824,68.53335948867445,68.02084860989429,67.5036702230874,66.9817255009623]},\"selected\":{\"id\":\"1188\",\"type\":\"Selection\"},\"selection_policy\":{\"id\":\"1189\",\"type\":\"UnionRenderers\"}},\"id\":\"1160\",\"type\":\"ColumnDataSource\"},{\"attributes\":{},\"id\":\"1214\",\"type\":\"UnionRenderers\"},{\"attributes\":{},\"id\":\"1285\",\"type\":\"UnionRenderers\"},{\"attributes\":{\"data_source\":{\"id\":\"1199\",\"type\":\"ColumnDataSource\"},\"glyph\":{\"id\":\"1200\",\"type\":\"Line\"},\"hover_glyph\":null,\"muted_glyph\":null,\"nonselection_glyph\":{\"id\":\"1201\",\"type\":\"Line\"},\"selection_glyph\":null,\"view\":{\"id\":\"1203\",\"type\":\"CDSView\"}},\"id\":\"1202\",\"type\":\"GlyphRenderer\"},{\"attributes\":{},\"id\":\"1150\",\"type\":\"SaveTool\"},{\"attributes\":{},\"id\":\"1284\",\"type\":\"Selection\"},{\"attributes\":{\"line_alpha\":0.1,\"line_color\":\"#1f77b4\",\"line_width\":2,\"x\":{\"field\":\"x\"},\"y\":{\"field\":\"y\"}},\"id\":\"1201\",\"type\":\"Line\"},{\"attributes\":{\"line_color\":\"red\",\"line_width\":2,\"x\":{\"field\":\"x\"},\"y\":{\"field\":\"y\"}},\"id\":\"1161\",\"type\":\"Line\"},{\"attributes\":{\"overlay\":{\"id\":\"1170\",\"type\":\"BoxAnnotation\"}},\"id\":\"1149\",\"type\":\"BoxZoomTool\"},{\"attributes\":{\"source\":{\"id\":\"1194\",\"type\":\"ColumnDataSource\"}},\"id\":\"1198\",\"type\":\"CDSView\"},{\"attributes\":{},\"id\":\"1148\",\"type\":\"WheelZoomTool\"},{\"attributes\":{\"line_alpha\":0.1,\"line_color\":\"#1f77b4\",\"line_width\":2,\"x\":{\"field\":\"x\"},\"y\":{\"field\":\"y\"}},\"id\":\"1162\",\"type\":\"Line\"},{\"attributes\":{\"source\":{\"id\":\"1199\",\"type\":\"ColumnDataSource\"}},\"id\":\"1203\",\"type\":\"CDSView\"},{\"attributes\":{\"active_drag\":\"auto\",\"active_inspect\":\"auto\",\"active_multi\":null,\"active_scroll\":\"auto\",\"active_tap\":\"auto\",\"tools\":[{\"id\":\"1147\",\"type\":\"PanTool\"},{\"id\":\"1148\",\"type\":\"WheelZoomTool\"},{\"id\":\"1149\",\"type\":\"BoxZoomTool\"},{\"id\":\"1150\",\"type\":\"SaveTool\"},{\"id\":\"1151\",\"type\":\"ResetTool\"},{\"id\":\"1152\",\"type\":\"HelpTool\"},{\"id\":\"1253\",\"type\":\"HoverTool\"}]},\"id\":\"1153\",\"type\":\"Toolbar\"},{\"attributes\":{\"line_color\":\"green\",\"line_width\":2,\"x\":{\"field\":\"x\"},\"y\":{\"field\":\"y\"}},\"id\":\"1200\",\"type\":\"Line\"},{\"attributes\":{},\"id\":\"1152\",\"type\":\"HelpTool\"},{\"attributes\":{\"callback\":null,\"data\":{\"x\":[\"1960\",\"1961\",\"1962\",\"1963\",\"1964\",\"1965\",\"1966\",\"1967\",\"1968\",\"1969\",\"1970\",\"1971\",\"1972\",\"1973\",\"1974\",\"1975\",\"1976\",\"1977\",\"1978\",\"1979\",\"1980\",\"1981\",\"1982\",\"1983\",\"1984\",\"1985\",\"1986\",\"1987\",\"1988\",\"1989\",\"1990\",\"1991\",\"1992\",\"1993\",\"1994\",\"1995\",\"1996\",\"1997\",\"1998\",\"1999\",\"2000\",\"2001\",\"2002\",\"2003\",\"2004\",\"2005\",\"2006\",\"2007\",\"2008\",\"2009\",\"2010\",\"2011\",\"2012\",\"2013\",\"2014\",\"2015\",\"2016\",\"2017\"],\"y\":[71.4287204162724,70.58478250090545,69.8627218315356,69.2540534167852,68.62952651886468,68.45269565349967,68.30330145591509,68.12847306488024,67.96068601354663,67.8097178825033,67.66447717679529,67.50600323778671,67.32862526142779,67.08183571737001,66.75828385647537,66.41241444846794,66.07777678128967,65.72668190688223,65.18183524981795,64.4533757788048,63.71881733857113,62.96799844389245,62.22027737245605,61.55864151878186,60.87351190939736,60.19171278583993,59.52652435331649,58.874355767944024,58.220572862789105,57.57964295439006,56.926360221842,56.245909809812225,55.56098070279166,54.86910939948112,54.16746170928522,53.456021744647074,52.74214817103619,52.02016599335358,51.28627069074148,50.5403206844424,49.77439259824327,48.893390112203925,47.94735599195921,46.983717946888646,46.00910558025151,45.0291651703681,44.0668468063683,43.11117920895944,42.15254333218535,41.19555588209807,40.237420349816226,39.32742590316421,38.44124896012396,37.56281422863779,36.69054987945994,35.828956012498,34.97713364375602,34.1379315559834]},\"selected\":{\"id\":\"1242\",\"type\":\"Selection\"},\"selection_policy\":{\"id\":\"1243\",\"type\":\"UnionRenderers\"}},\"id\":\"1199\",\"type\":\"ColumnDataSource\"},{\"attributes\":{},\"id\":\"1151\",\"type\":\"ResetTool\"},{\"attributes\":{},\"id\":\"1167\",\"type\":\"BasicTickFormatter\"},{\"attributes\":{\"fill_alpha\":{\"value\":0.1},\"fill_color\":{\"value\":\"#1f77b4\"},\"line_alpha\":{\"value\":0.1},\"line_color\":{\"value\":\"#1f77b4\"},\"line_width\":{\"value\":3},\"x\":{\"field\":\"x\"},\"y\":{\"field\":\"y\"}},\"id\":\"1196\",\"type\":\"Circle\"},{\"attributes\":{\"source\":{\"id\":\"1160\",\"type\":\"ColumnDataSource\"}},\"id\":\"1164\",\"type\":\"CDSView\"},{\"attributes\":{\"fill_color\":{\"value\":\"blue\"},\"line_color\":{\"value\":\"blue\"},\"line_width\":{\"value\":3},\"x\":{\"field\":\"x\"},\"y\":{\"field\":\"y\"}},\"id\":\"1195\",\"type\":\"Circle\"},{\"attributes\":{\"data_source\":{\"id\":\"1160\",\"type\":\"ColumnDataSource\"},\"glyph\":{\"id\":\"1161\",\"type\":\"Line\"},\"hover_glyph\":null,\"muted_glyph\":null,\"nonselection_glyph\":{\"id\":\"1162\",\"type\":\"Line\"},\"selection_glyph\":null,\"view\":{\"id\":\"1164\",\"type\":\"CDSView\"}},\"id\":\"1163\",\"type\":\"GlyphRenderer\"},{\"attributes\":{},\"id\":\"1191\",\"type\":\"UnionRenderers\"},{\"attributes\":{\"callback\":null,\"tooltips\":\"\\n        <div style=padding=5px>Year:@x</div>\\n        <div style=padding=5px>Value:@y</div>\\n        \"},\"id\":\"1253\",\"type\":\"HoverTool\"},{\"attributes\":{\"data_source\":{\"id\":\"1194\",\"type\":\"ColumnDataSource\"},\"glyph\":{\"id\":\"1195\",\"type\":\"Circle\"},\"hover_glyph\":null,\"muted_glyph\":null,\"nonselection_glyph\":{\"id\":\"1196\",\"type\":\"Circle\"},\"selection_glyph\":null,\"view\":{\"id\":\"1198\",\"type\":\"CDSView\"}},\"id\":\"1197\",\"type\":\"GlyphRenderer\"},{\"attributes\":{\"bottom_units\":\"screen\",\"fill_alpha\":{\"value\":0.5},\"fill_color\":{\"value\":\"lightgrey\"},\"left_units\":\"screen\",\"level\":\"overlay\",\"line_alpha\":{\"value\":1.0},\"line_color\":{\"value\":\"black\"},\"line_dash\":[4,4],\"line_width\":{\"value\":2},\"render_mode\":\"css\",\"right_units\":\"screen\",\"top_units\":\"screen\"},\"id\":\"1170\",\"type\":\"BoxAnnotation\"},{\"attributes\":{\"callback\":null,\"data\":{\"x\":[\"1960\",\"1961\",\"1962\",\"1963\",\"1964\",\"1965\",\"1966\",\"1967\",\"1968\",\"1969\",\"1970\",\"1971\",\"1972\",\"1973\",\"1974\",\"1975\",\"1976\",\"1977\",\"1978\",\"1979\",\"1980\",\"1981\",\"1982\",\"1983\",\"1984\",\"1985\",\"1986\",\"1987\",\"1988\",\"1989\",\"1990\",\"1991\",\"1992\",\"1993\",\"1994\",\"1995\",\"1996\",\"1997\",\"1998\",\"1999\",\"2000\",\"2001\",\"2002\",\"2003\",\"2004\",\"2005\",\"2006\",\"2007\",\"2008\",\"2009\",\"2010\",\"2011\",\"2012\",\"2013\",\"2014\",\"2015\",\"2016\",\"2017\"],\"y\":[77.35363246498096,76.84064660563966,76.34919251805987,75.8911929273984,75.42392730969407,75.2455974700976,75.0631805029994,74.86460025693607,74.66965460183357,74.47948707660744,74.2883999829702,74.06985096112246,73.81021003144735,73.50148081814949,73.14517867392526,72.78077064593286,72.43033463814923,72.07257197472818,71.59162525042468,70.98739212549752,70.37390537107983,69.73538235357832,69.11523379006417,68.549880776788,67.97514579855805,67.40108835439656,66.83263598790077,66.2699204282547,65.70792376395148,65.14572411519175,64.58115696120876,64.00938831679981,63.47568887216426,62.90371180406295,62.32979564017021,61.731735700190455,61.15980763653538,60.58546239748637,60.00711357933131,59.428106219917154,58.83934865686248,58.1922959373342,57.492147507303955,56.791072578711145,56.08420239450577,55.373297896508575,54.67280454992341,53.977539651904614,53.28007273722423,52.58524307181396,51.89203527626144,51.22700828217377,50.57300177227712,49.92250999168939,49.27308811920352,48.62727125106838,47.983660157571435,47.34467173180428]},\"selected\":{\"id\":\"1215\",\"type\":\"Selection\"},\"selection_policy\":{\"id\":\"1216\",\"type\":\"UnionRenderers\"}},\"id\":\"1194\",\"type\":\"ColumnDataSource\"},{\"attributes\":{},\"id\":\"1169\",\"type\":\"BasicTickFormatter\"},{\"attributes\":{\"callback\":null},\"id\":\"1131\",\"type\":\"DataRange1d\"},{\"attributes\":{\"label\":{\"value\":\"Developing excluding LDCs\"},\"renderers\":[{\"id\":\"1181\",\"type\":\"GlyphRenderer\"}]},\"id\":\"1193\",\"type\":\"LegendItem\"},{\"attributes\":{\"callback\":null},\"id\":\"1129\",\"type\":\"DataRange1d\"},{\"attributes\":{\"text\":\"Rural population (% of total population) weighted against Population, total\"},\"id\":\"1127\",\"type\":\"Title\"},{\"attributes\":{},\"id\":\"1189\",\"type\":\"UnionRenderers\"},{\"attributes\":{\"callback\":null,\"data\":{\"x\":[\"1960\",\"1961\",\"1962\",\"1963\",\"1964\",\"1965\",\"1966\",\"1967\",\"1968\",\"1969\",\"1970\",\"1971\",\"1972\",\"1973\",\"1974\",\"1975\",\"1976\",\"1977\",\"1978\",\"1979\",\"1980\",\"1981\",\"1982\",\"1983\",\"1984\",\"1985\",\"1986\",\"1987\",\"1988\",\"1989\",\"1990\",\"1991\",\"1992\",\"1993\",\"1994\",\"1995\",\"1996\",\"1997\",\"1998\",\"1999\",\"2000\",\"2001\",\"2002\",\"2003\",\"2004\",\"2005\",\"2006\",\"2007\",\"2008\",\"2009\",\"2010\",\"2011\",\"2012\",\"2013\",\"2014\",\"2015\",\"2016\",\"2017\"],\"y\":[90.30540314961225,90.05922308596143,89.79142197607507,89.50943020766772,89.21332392073033,88.90699930713514,88.59129404993091,88.2421437061032,87.87890301522422,87.498660914606,87.1174953120763,86.69804365829646,86.25174066596233,85.79977180585672,85.34188252862592,85.43654119910886,84.95168938138087,84.44580769216783,83.9221505351178,83.41754005994233,82.84275481593508,82.33340839124018,81.98009926769818,81.5994068914721,81.17923373810068,80.73499511441362,80.28737654778298,79.83589419008621,79.37735062469132,78.94106163003731,78.49089593262889,78.06666464387531,77.66442498847728,77.27582295914314,76.937477006595,76.6142721385419,76.29207931094508,75.96043698797583,75.63493186609195,75.3089958985288,74.97591336080258,74.58855084775452,74.17072837361799,73.7383105264119,73.30461571223451,72.85760200817124,72.41698364409473,72.02137630639736,71.53477802260059,71.03883841181644,70.53468445683478,70.02322338974272,69.54425681847671,69.04126913036824,68.53335948867445,68.02084860989429,67.5036702230874,66.9817255009623]},\"selected\":{\"id\":\"1190\",\"type\":\"Selection\"},\"selection_policy\":{\"id\":\"1191\",\"type\":\"UnionRenderers\"}},\"id\":\"1173\",\"type\":\"ColumnDataSource\"},{\"attributes\":{\"axis_label\":\"Years\",\"formatter\":{\"id\":\"1169\",\"type\":\"BasicTickFormatter\"},\"ticker\":{\"id\":\"1138\",\"type\":\"BasicTicker\"}},\"id\":\"1137\",\"type\":\"LinearAxis\"},{\"attributes\":{},\"id\":\"1188\",\"type\":\"Selection\"},{\"attributes\":{},\"id\":\"1135\",\"type\":\"LinearScale\"},{\"attributes\":{\"label\":{\"value\":\"LDCs\"},\"renderers\":[{\"id\":\"1163\",\"type\":\"GlyphRenderer\"}]},\"id\":\"1172\",\"type\":\"LegendItem\"},{\"attributes\":{},\"id\":\"1133\",\"type\":\"LinearScale\"},{\"attributes\":{\"line_alpha\":0.1,\"line_color\":\"#1f77b4\",\"line_width\":2,\"x\":{\"field\":\"x\"},\"y\":{\"field\":\"y\"}},\"id\":\"1180\",\"type\":\"Line\"},{\"attributes\":{\"axis_label\":\"Percentage\",\"formatter\":{\"id\":\"1167\",\"type\":\"BasicTickFormatter\"},\"ticker\":{\"id\":\"1143\",\"type\":\"BasicTicker\"}},\"id\":\"1142\",\"type\":\"LinearAxis\"},{\"attributes\":{\"items\":[{\"id\":\"1172\",\"type\":\"LegendItem\"},{\"id\":\"1193\",\"type\":\"LegendItem\"},{\"id\":\"1218\",\"type\":\"LegendItem\"},{\"id\":\"1247\",\"type\":\"LegendItem\"}],\"location\":\"bottom_left\"},\"id\":\"1171\",\"type\":\"Legend\"},{\"attributes\":{},\"id\":\"1190\",\"type\":\"Selection\"},{\"attributes\":{\"data_source\":{\"id\":\"1173\",\"type\":\"ColumnDataSource\"},\"glyph\":{\"id\":\"1174\",\"type\":\"Circle\"},\"hover_glyph\":null,\"muted_glyph\":null,\"nonselection_glyph\":{\"id\":\"1175\",\"type\":\"Circle\"},\"selection_glyph\":null,\"view\":{\"id\":\"1177\",\"type\":\"CDSView\"}},\"id\":\"1176\",\"type\":\"GlyphRenderer\"},{\"attributes\":{\"ticker\":{\"id\":\"1138\",\"type\":\"BasicTicker\"}},\"id\":\"1141\",\"type\":\"Grid\"},{\"attributes\":{\"source\":{\"id\":\"1178\",\"type\":\"ColumnDataSource\"}},\"id\":\"1182\",\"type\":\"CDSView\"},{\"attributes\":{\"fill_alpha\":{\"value\":0.1},\"fill_color\":{\"value\":\"#1f77b4\"},\"line_alpha\":{\"value\":0.1},\"line_color\":{\"value\":\"#1f77b4\"},\"line_width\":{\"value\":3},\"x\":{\"field\":\"x\"},\"y\":{\"field\":\"y\"}},\"id\":\"1175\",\"type\":\"Circle\"},{\"attributes\":{\"data_source\":{\"id\":\"1178\",\"type\":\"ColumnDataSource\"},\"glyph\":{\"id\":\"1179\",\"type\":\"Line\"},\"hover_glyph\":null,\"muted_glyph\":null,\"nonselection_glyph\":{\"id\":\"1180\",\"type\":\"Line\"},\"selection_glyph\":null,\"view\":{\"id\":\"1182\",\"type\":\"CDSView\"}},\"id\":\"1181\",\"type\":\"GlyphRenderer\"},{\"attributes\":{\"fill_color\":{\"value\":\"red\"},\"line_color\":{\"value\":\"red\"},\"line_width\":{\"value\":3},\"x\":{\"field\":\"x\"},\"y\":{\"field\":\"y\"}},\"id\":\"1174\",\"type\":\"Circle\"},{\"attributes\":{},\"id\":\"1143\",\"type\":\"BasicTicker\"},{\"attributes\":{\"callback\":null,\"data\":{\"x\":[\"1960\",\"1961\",\"1962\",\"1963\",\"1964\",\"1965\",\"1966\",\"1967\",\"1968\",\"1969\",\"1970\",\"1971\",\"1972\",\"1973\",\"1974\",\"1975\",\"1976\",\"1977\",\"1978\",\"1979\",\"1980\",\"1981\",\"1982\",\"1983\",\"1984\",\"1985\",\"1986\",\"1987\",\"1988\",\"1989\",\"1990\",\"1991\",\"1992\",\"1993\",\"1994\",\"1995\",\"1996\",\"1997\",\"1998\",\"1999\",\"2000\",\"2001\",\"2002\",\"2003\",\"2004\",\"2005\",\"2006\",\"2007\",\"2008\",\"2009\",\"2010\",\"2011\",\"2012\",\"2013\",\"2014\",\"2015\",\"2016\",\"2017\"],\"y\":[77.35363246498096,76.84064660563966,76.34919251805987,75.8911929273984,75.42392730969407,75.2455974700976,75.0631805029994,74.86460025693607,74.66965460183357,74.47948707660744,74.2883999829702,74.06985096112246,73.81021003144735,73.50148081814949,73.14517867392526,72.78077064593286,72.43033463814923,72.07257197472818,71.59162525042468,70.98739212549752,70.37390537107983,69.73538235357832,69.11523379006417,68.549880776788,67.97514579855805,67.40108835439656,66.83263598790077,66.2699204282547,65.70792376395148,65.14572411519175,64.58115696120876,64.00938831679981,63.47568887216426,62.90371180406295,62.32979564017021,61.731735700190455,61.15980763653538,60.58546239748637,60.00711357933131,59.428106219917154,58.83934865686248,58.1922959373342,57.492147507303955,56.791072578711145,56.08420239450577,55.373297896508575,54.67280454992341,53.977539651904614,53.28007273722423,52.58524307181396,51.89203527626144,51.22700828217377,50.57300177227712,49.92250999168939,49.27308811920352,48.62727125106838,47.983660157571435,47.34467173180428]},\"selected\":{\"id\":\"1213\",\"type\":\"Selection\"},\"selection_policy\":{\"id\":\"1214\",\"type\":\"UnionRenderers\"}},\"id\":\"1178\",\"type\":\"ColumnDataSource\"},{\"attributes\":{\"line_color\":\"blue\",\"line_width\":2,\"x\":{\"field\":\"x\"},\"y\":{\"field\":\"y\"}},\"id\":\"1179\",\"type\":\"Line\"},{\"attributes\":{\"fill_alpha\":{\"value\":0.1},\"fill_color\":{\"value\":\"#1f77b4\"},\"line_alpha\":{\"value\":0.1},\"line_color\":{\"value\":\"#1f77b4\"},\"line_width\":{\"value\":3},\"x\":{\"field\":\"x\"},\"y\":{\"field\":\"y\"}},\"id\":\"1250\",\"type\":\"Circle\"},{\"attributes\":{},\"id\":\"1138\",\"type\":\"BasicTicker\"},{\"attributes\":{\"source\":{\"id\":\"1173\",\"type\":\"ColumnDataSource\"}},\"id\":\"1177\",\"type\":\"CDSView\"}],\"root_ids\":[\"1126\"]},\"title\":\"Bokeh Application\",\"version\":\"1.3.4\"}};\n",
       "  var render_items = [{\"docid\":\"25763aad-2630-41f6-a741-c6a40c72b4b3\",\"roots\":{\"1126\":\"6c6f74a6-7fb1-4c1c-b19b-38762762052f\"}}];\n",
       "  root.Bokeh.embed.embed_items_notebook(docs_json, render_items);\n",
       "\n",
       "  }\n",
       "  if (root.Bokeh !== undefined) {\n",
       "    embed_document(root);\n",
       "  } else {\n",
       "    var attempts = 0;\n",
       "    var timer = setInterval(function(root) {\n",
       "      if (root.Bokeh !== undefined) {\n",
       "        embed_document(root);\n",
       "        clearInterval(timer);\n",
       "      }\n",
       "      attempts++;\n",
       "      if (attempts > 100) {\n",
       "        console.log(\"Bokeh: ERROR: Unable to run BokehJS code because BokehJS library is missing\");\n",
       "        clearInterval(timer);\n",
       "      }\n",
       "    }, 10, root)\n",
       "  }\n",
       "})(window);"
      ],
      "application/vnd.bokehjs_exec.v0+json": ""
     },
     "metadata": {
      "application/vnd.bokehjs_exec.v0+json": {
       "id": "1126"
      }
     },
     "output_type": "display_data"
    }
   ],
   "source": [
    "# Urban population as a percentage of total population\n",
    "result = show_weighted_average(years, 'SP.RUR.TOTL.ZS', 'SP.POP.TOTL', \n",
    "                               ['LDCs', 'Developing excluding LDCs', 'OECD', 'UMICs'])"
   ]
  },
  {
   "cell_type": "code",
   "execution_count": 4,
   "metadata": {
    "slideshow": {
     "slide_type": "subslide"
    }
   },
   "outputs": [
    {
     "data": {
      "text/html": [
       "\n",
       "\n",
       "\n",
       "\n",
       "\n",
       "\n",
       "  <div class=\"bk-root\" id=\"da2ef98e-d817-4ea8-acc2-58515e46be08\" data-root-id=\"1419\"></div>\n"
      ]
     },
     "metadata": {},
     "output_type": "display_data"
    },
    {
     "data": {
      "application/javascript": [
       "(function(root) {\n",
       "  function embed_document(root) {\n",
       "    \n",
       "  var docs_json = {\"dd022beb-96ff-4f25-acb7-b7804ca1e428\":{\"roots\":{\"references\":[{\"attributes\":{\"below\":[{\"id\":\"1430\",\"type\":\"LinearAxis\"}],\"center\":[{\"id\":\"1434\",\"type\":\"Grid\"},{\"id\":\"1439\",\"type\":\"Grid\"},{\"id\":\"1464\",\"type\":\"Legend\"}],\"left\":[{\"id\":\"1435\",\"type\":\"LinearAxis\"}],\"plot_height\":400,\"plot_width\":950,\"renderers\":[{\"id\":\"1456\",\"type\":\"GlyphRenderer\"},{\"id\":\"1469\",\"type\":\"GlyphRenderer\"}],\"title\":{\"id\":\"1420\",\"type\":\"Title\"},\"toolbar\":{\"id\":\"1446\",\"type\":\"Toolbar\"},\"x_range\":{\"id\":\"1422\",\"type\":\"DataRange1d\"},\"x_scale\":{\"id\":\"1426\",\"type\":\"LinearScale\"},\"y_range\":{\"id\":\"1424\",\"type\":\"DataRange1d\"},\"y_scale\":{\"id\":\"1428\",\"type\":\"LinearScale\"}},\"id\":\"1419\",\"subtype\":\"Figure\",\"type\":\"Plot\"},{\"attributes\":{\"callback\":null},\"id\":\"1422\",\"type\":\"DataRange1d\"},{\"attributes\":{\"active_drag\":\"auto\",\"active_inspect\":\"auto\",\"active_multi\":null,\"active_scroll\":\"auto\",\"active_tap\":\"auto\",\"tools\":[{\"id\":\"1440\",\"type\":\"PanTool\"},{\"id\":\"1441\",\"type\":\"WheelZoomTool\"},{\"id\":\"1442\",\"type\":\"BoxZoomTool\"},{\"id\":\"1443\",\"type\":\"SaveTool\"},{\"id\":\"1444\",\"type\":\"ResetTool\"},{\"id\":\"1445\",\"type\":\"HelpTool\"},{\"id\":\"1471\",\"type\":\"HoverTool\"}]},\"id\":\"1446\",\"type\":\"Toolbar\"},{\"attributes\":{\"line_alpha\":0.1,\"line_color\":\"#1f77b4\",\"line_width\":2,\"x\":{\"field\":\"x\"},\"y\":{\"field\":\"y\"}},\"id\":\"1455\",\"type\":\"Line\"},{\"attributes\":{\"callback\":null},\"id\":\"1424\",\"type\":\"DataRange1d\"},{\"attributes\":{\"callback\":null,\"tooltips\":\"\\n        <div style=padding=5px>Year:@x</div>\\n        <div style=padding=5px>Value:@y</div>\\n        \"},\"id\":\"1471\",\"type\":\"HoverTool\"},{\"attributes\":{},\"id\":\"1426\",\"type\":\"LinearScale\"},{\"attributes\":{\"data_source\":{\"id\":\"1453\",\"type\":\"ColumnDataSource\"},\"glyph\":{\"id\":\"1454\",\"type\":\"Line\"},\"hover_glyph\":null,\"muted_glyph\":null,\"nonselection_glyph\":{\"id\":\"1455\",\"type\":\"Line\"},\"selection_glyph\":null,\"view\":{\"id\":\"1457\",\"type\":\"CDSView\"}},\"id\":\"1456\",\"type\":\"GlyphRenderer\"},{\"attributes\":{\"source\":{\"id\":\"1453\",\"type\":\"ColumnDataSource\"}},\"id\":\"1457\",\"type\":\"CDSView\"},{\"attributes\":{},\"id\":\"1428\",\"type\":\"LinearScale\"},{\"attributes\":{},\"id\":\"1460\",\"type\":\"BasicTickFormatter\"},{\"attributes\":{\"axis_label\":\"Years\",\"formatter\":{\"id\":\"1462\",\"type\":\"BasicTickFormatter\"},\"ticker\":{\"id\":\"1431\",\"type\":\"BasicTicker\"}},\"id\":\"1430\",\"type\":\"LinearAxis\"},{\"attributes\":{},\"id\":\"1513\",\"type\":\"UnionRenderers\"},{\"attributes\":{},\"id\":\"1431\",\"type\":\"BasicTicker\"},{\"attributes\":{},\"id\":\"1462\",\"type\":\"BasicTickFormatter\"},{\"attributes\":{\"ticker\":{\"id\":\"1431\",\"type\":\"BasicTicker\"}},\"id\":\"1434\",\"type\":\"Grid\"},{\"attributes\":{\"bottom_units\":\"screen\",\"fill_alpha\":{\"value\":0.5},\"fill_color\":{\"value\":\"lightgrey\"},\"left_units\":\"screen\",\"level\":\"overlay\",\"line_alpha\":{\"value\":1.0},\"line_color\":{\"value\":\"black\"},\"line_dash\":[4,4],\"line_width\":{\"value\":2},\"render_mode\":\"css\",\"right_units\":\"screen\",\"top_units\":\"screen\"},\"id\":\"1463\",\"type\":\"BoxAnnotation\"},{\"attributes\":{\"axis_label\":\"Percentage\",\"formatter\":{\"id\":\"1460\",\"type\":\"BasicTickFormatter\"},\"ticker\":{\"id\":\"1436\",\"type\":\"BasicTicker\"}},\"id\":\"1435\",\"type\":\"LinearAxis\"},{\"attributes\":{\"text\":\"Rural population\"},\"id\":\"1420\",\"type\":\"Title\"},{\"attributes\":{\"items\":[{\"id\":\"1465\",\"type\":\"LegendItem\"}],\"location\":\"bottom_left\"},\"id\":\"1464\",\"type\":\"Legend\"},{\"attributes\":{},\"id\":\"1436\",\"type\":\"BasicTicker\"},{\"attributes\":{\"line_color\":\"red\",\"line_width\":2,\"x\":{\"field\":\"x\"},\"y\":{\"field\":\"y\"}},\"id\":\"1454\",\"type\":\"Line\"},{\"attributes\":{\"label\":{\"value\":\"LDCs\"},\"renderers\":[{\"id\":\"1456\",\"type\":\"GlyphRenderer\"}]},\"id\":\"1465\",\"type\":\"LegendItem\"},{\"attributes\":{\"dimension\":1,\"ticker\":{\"id\":\"1436\",\"type\":\"BasicTicker\"}},\"id\":\"1439\",\"type\":\"Grid\"},{\"attributes\":{\"callback\":null,\"data\":{\"x\":[\"1960\",\"1961\",\"1962\",\"1963\",\"1964\",\"1965\",\"1966\",\"1967\",\"1968\",\"1969\",\"1970\",\"1971\",\"1972\",\"1973\",\"1974\",\"1975\",\"1976\",\"1977\",\"1978\",\"1979\",\"1980\",\"1981\",\"1982\",\"1983\",\"1984\",\"1985\",\"1986\",\"1987\",\"1988\",\"1989\",\"1990\",\"1991\",\"1992\",\"1993\",\"1994\",\"1995\",\"1996\",\"1997\",\"1998\",\"1999\",\"2000\",\"2001\",\"2002\",\"2003\",\"2004\",\"2005\",\"2006\",\"2007\",\"2008\",\"2009\",\"2010\",\"2011\",\"2012\",\"2013\",\"2014\",\"2015\",\"2016\",\"2017\"],\"y\":[217201141.0,221648032.0,226185257.0,230852048.0,235678565.0,240689826.0,245905541.0,251232801.0,256646596.0,262035089.0,267378313.0,272530645.0,277556016.0,282587860.0,287723910.0,294963433.0,300466769.0,306095035.0,311835621.0,317790214.0,323594204.0,329769115.0,336725562.0,343761255.0,350844734.0,358052669.0,365463045.0,373065564.0,380863656.0,389023941.0,397380267.0,406151517.0,415295757.0,424676447.0,434374441.0,444118896.0,453786247.0,463345981.0,472977069.0,482765911.0,492753594.0,502654567.0,512565273.0,522500780.0,532434279.0,542199358.0,551913368.0,561924852.0,571250553.0,580616500.0,590103650.0,599729467.0,607552372.0,617585217.0,627707285.0,637891695.0,648126174.0,658398338.0]},\"selected\":{\"id\":\"1512\",\"type\":\"Selection\"},\"selection_policy\":{\"id\":\"1513\",\"type\":\"UnionRenderers\"}},\"id\":\"1466\",\"type\":\"ColumnDataSource\"},{\"attributes\":{\"fill_color\":{\"value\":\"red\"},\"line_color\":{\"value\":\"red\"},\"line_width\":{\"value\":3},\"x\":{\"field\":\"x\"},\"y\":{\"field\":\"y\"}},\"id\":\"1467\",\"type\":\"Circle\"},{\"attributes\":{\"fill_alpha\":{\"value\":0.1},\"fill_color\":{\"value\":\"#1f77b4\"},\"line_alpha\":{\"value\":0.1},\"line_color\":{\"value\":\"#1f77b4\"},\"line_width\":{\"value\":3},\"x\":{\"field\":\"x\"},\"y\":{\"field\":\"y\"}},\"id\":\"1468\",\"type\":\"Circle\"},{\"attributes\":{\"callback\":null,\"data\":{\"x\":[\"1960\",\"1961\",\"1962\",\"1963\",\"1964\",\"1965\",\"1966\",\"1967\",\"1968\",\"1969\",\"1970\",\"1971\",\"1972\",\"1973\",\"1974\",\"1975\",\"1976\",\"1977\",\"1978\",\"1979\",\"1980\",\"1981\",\"1982\",\"1983\",\"1984\",\"1985\",\"1986\",\"1987\",\"1988\",\"1989\",\"1990\",\"1991\",\"1992\",\"1993\",\"1994\",\"1995\",\"1996\",\"1997\",\"1998\",\"1999\",\"2000\",\"2001\",\"2002\",\"2003\",\"2004\",\"2005\",\"2006\",\"2007\",\"2008\",\"2009\",\"2010\",\"2011\",\"2012\",\"2013\",\"2014\",\"2015\",\"2016\",\"2017\"],\"y\":[217201141.0,221648032.0,226185257.0,230852048.0,235678565.0,240689826.0,245905541.0,251232801.0,256646596.0,262035089.0,267378313.0,272530645.0,277556016.0,282587860.0,287723910.0,294963433.0,300466769.0,306095035.0,311835621.0,317790214.0,323594204.0,329769115.0,336725562.0,343761255.0,350844734.0,358052669.0,365463045.0,373065564.0,380863656.0,389023941.0,397380267.0,406151517.0,415295757.0,424676447.0,434374441.0,444118896.0,453786247.0,463345981.0,472977069.0,482765911.0,492753594.0,502654567.0,512565273.0,522500780.0,532434279.0,542199358.0,551913368.0,561924852.0,571250553.0,580616500.0,590103650.0,599729467.0,607552372.0,617585217.0,627707285.0,637891695.0,648126174.0,658398338.0]},\"selected\":{\"id\":\"1510\",\"type\":\"Selection\"},\"selection_policy\":{\"id\":\"1511\",\"type\":\"UnionRenderers\"}},\"id\":\"1453\",\"type\":\"ColumnDataSource\"},{\"attributes\":{\"data_source\":{\"id\":\"1466\",\"type\":\"ColumnDataSource\"},\"glyph\":{\"id\":\"1467\",\"type\":\"Circle\"},\"hover_glyph\":null,\"muted_glyph\":null,\"nonselection_glyph\":{\"id\":\"1468\",\"type\":\"Circle\"},\"selection_glyph\":null,\"view\":{\"id\":\"1470\",\"type\":\"CDSView\"}},\"id\":\"1469\",\"type\":\"GlyphRenderer\"},{\"attributes\":{},\"id\":\"1440\",\"type\":\"PanTool\"},{\"attributes\":{\"source\":{\"id\":\"1466\",\"type\":\"ColumnDataSource\"}},\"id\":\"1470\",\"type\":\"CDSView\"},{\"attributes\":{},\"id\":\"1441\",\"type\":\"WheelZoomTool\"},{\"attributes\":{\"overlay\":{\"id\":\"1463\",\"type\":\"BoxAnnotation\"}},\"id\":\"1442\",\"type\":\"BoxZoomTool\"},{\"attributes\":{},\"id\":\"1510\",\"type\":\"Selection\"},{\"attributes\":{},\"id\":\"1443\",\"type\":\"SaveTool\"},{\"attributes\":{},\"id\":\"1511\",\"type\":\"UnionRenderers\"},{\"attributes\":{},\"id\":\"1444\",\"type\":\"ResetTool\"},{\"attributes\":{},\"id\":\"1512\",\"type\":\"Selection\"},{\"attributes\":{},\"id\":\"1445\",\"type\":\"HelpTool\"}],\"root_ids\":[\"1419\"]},\"title\":\"Bokeh Application\",\"version\":\"1.3.4\"}};\n",
       "  var render_items = [{\"docid\":\"dd022beb-96ff-4f25-acb7-b7804ca1e428\",\"roots\":{\"1419\":\"da2ef98e-d817-4ea8-acc2-58515e46be08\"}}];\n",
       "  root.Bokeh.embed.embed_items_notebook(docs_json, render_items);\n",
       "\n",
       "  }\n",
       "  if (root.Bokeh !== undefined) {\n",
       "    embed_document(root);\n",
       "  } else {\n",
       "    var attempts = 0;\n",
       "    var timer = setInterval(function(root) {\n",
       "      if (root.Bokeh !== undefined) {\n",
       "        embed_document(root);\n",
       "        clearInterval(timer);\n",
       "      }\n",
       "      attempts++;\n",
       "      if (attempts > 100) {\n",
       "        console.log(\"Bokeh: ERROR: Unable to run BokehJS code because BokehJS library is missing\");\n",
       "        clearInterval(timer);\n",
       "      }\n",
       "    }, 10, root)\n",
       "  }\n",
       "})(window);"
      ],
      "application/vnd.bokehjs_exec.v0+json": ""
     },
     "metadata": {
      "application/vnd.bokehjs_exec.v0+json": {
       "id": "1419"
      }
     },
     "output_type": "display_data"
    }
   ],
   "source": [
    "result = show_group_total(years, 'SP.RUR.TOTL', ['LDCs'])"
   ]
  },
  {
   "cell_type": "code",
   "execution_count": 5,
   "metadata": {
    "slideshow": {
     "slide_type": "slide"
    }
   },
   "outputs": [
    {
     "data": {
      "text/html": [
       "\n",
       "\n",
       "\n",
       "\n",
       "\n",
       "\n",
       "  <div class=\"bk-root\" id=\"ace7eecc-152c-41e0-a732-3aaf082eee76\" data-root-id=\"1575\"></div>\n"
      ]
     },
     "metadata": {},
     "output_type": "display_data"
    },
    {
     "data": {
      "application/javascript": [
       "(function(root) {\n",
       "  function embed_document(root) {\n",
       "    \n",
       "  var docs_json = {\"42391c0f-8406-497b-a6c6-8c2f86f90a8b\":{\"roots\":{\"references\":[{\"attributes\":{\"below\":[{\"id\":\"1586\",\"type\":\"LinearAxis\"}],\"center\":[{\"id\":\"1590\",\"type\":\"Grid\"},{\"id\":\"1595\",\"type\":\"Grid\"},{\"id\":\"1620\",\"type\":\"Legend\"}],\"left\":[{\"id\":\"1591\",\"type\":\"LinearAxis\"}],\"plot_height\":400,\"plot_width\":950,\"renderers\":[{\"id\":\"1612\",\"type\":\"GlyphRenderer\"},{\"id\":\"1625\",\"type\":\"GlyphRenderer\"},{\"id\":\"1630\",\"type\":\"GlyphRenderer\"},{\"id\":\"1646\",\"type\":\"GlyphRenderer\"},{\"id\":\"1651\",\"type\":\"GlyphRenderer\"},{\"id\":\"1671\",\"type\":\"GlyphRenderer\"}],\"title\":{\"id\":\"1576\",\"type\":\"Title\"},\"toolbar\":{\"id\":\"1602\",\"type\":\"Toolbar\"},\"x_range\":{\"id\":\"1578\",\"type\":\"DataRange1d\"},\"x_scale\":{\"id\":\"1582\",\"type\":\"LinearScale\"},\"y_range\":{\"id\":\"1580\",\"type\":\"DataRange1d\"},\"y_scale\":{\"id\":\"1584\",\"type\":\"LinearScale\"}},\"id\":\"1575\",\"subtype\":\"Figure\",\"type\":\"Plot\"},{\"attributes\":{\"dimension\":1,\"ticker\":{\"id\":\"1592\",\"type\":\"BasicTicker\"}},\"id\":\"1595\",\"type\":\"Grid\"},{\"attributes\":{\"callback\":null,\"data\":{\"x\":[\"1960\",\"1961\",\"1962\",\"1963\",\"1964\",\"1965\",\"1966\",\"1967\",\"1968\",\"1969\",\"1970\",\"1971\",\"1972\",\"1973\",\"1974\",\"1975\",\"1976\",\"1977\",\"1978\",\"1979\",\"1980\",\"1981\",\"1982\",\"1983\",\"1984\",\"1985\",\"1986\",\"1987\",\"1988\",\"1989\",\"1990\",\"1991\",\"1992\",\"1993\",\"1994\",\"1995\",\"1996\",\"1997\",\"1998\",\"1999\",\"2000\",\"2001\",\"2002\",\"2003\",\"2004\",\"2005\",\"2006\",\"2007\",\"2008\",\"2009\",\"2010\",\"2011\",\"2012\",\"2013\",\"2014\",\"2015\",\"2016\",\"2017\"],\"y\":[42.59819142499137,42.89225875575388,43.129862065246684,43.31738154412952,43.45608262788829,43.550080947339595,43.80234938883768,43.979676666304975,44.10080029168044,44.17631629755081,44.20610888112995,44.37753247201889,44.49280808409436,44.56006946571624,44.58954872369071,44.589064341807266,44.71379908475905,44.773230781109994,44.788422265526854,44.77559460379179,44.741865851430674,44.85211199748614,44.91008171726692,44.92393384548275,44.899031348737715,44.84056977606963,44.89237790006058,44.874893102298195,44.80717206791495,44.7065744876418,44.58173260177241,44.50989062931576,44.40331762439485,44.2631076363979,44.08449967458614,43.864782315812064,43.77791497159772,43.63859321880778,43.46040712665935,43.261074903554466,43.05250753237409,42.92645426230383,42.78153339187954,42.623671123778905,42.4538109516677,42.26938810853834,42.15716163307373,42.02039711340489,41.86147936931502,41.68421796662147,41.49082505944,41.290660205111934,41.06737328423549,40.819736905133695,40.55543302226044,40.27763880852747,40.006149187520116,39.721083369953]},\"selected\":{\"id\":\"1639\",\"type\":\"Selection\"},\"selection_policy\":{\"id\":\"1640\",\"type\":\"UnionRenderers\"}},\"id\":\"1622\",\"type\":\"ColumnDataSource\"},{\"attributes\":{\"data_source\":{\"id\":\"1643\",\"type\":\"ColumnDataSource\"},\"glyph\":{\"id\":\"1644\",\"type\":\"Circle\"},\"hover_glyph\":null,\"muted_glyph\":null,\"nonselection_glyph\":{\"id\":\"1645\",\"type\":\"Circle\"},\"selection_glyph\":null,\"view\":{\"id\":\"1647\",\"type\":\"CDSView\"}},\"id\":\"1646\",\"type\":\"GlyphRenderer\"},{\"attributes\":{},\"id\":\"1730\",\"type\":\"Selection\"},{\"attributes\":{\"fill_color\":{\"value\":\"red\"},\"line_color\":{\"value\":\"red\"},\"line_width\":{\"value\":3},\"x\":{\"field\":\"x\"},\"y\":{\"field\":\"y\"}},\"id\":\"1623\",\"type\":\"Circle\"},{\"attributes\":{\"source\":{\"id\":\"1643\",\"type\":\"ColumnDataSource\"}},\"id\":\"1647\",\"type\":\"CDSView\"},{\"attributes\":{},\"id\":\"1731\",\"type\":\"UnionRenderers\"},{\"attributes\":{\"fill_alpha\":{\"value\":0.1},\"fill_color\":{\"value\":\"#1f77b4\"},\"line_alpha\":{\"value\":0.1},\"line_color\":{\"value\":\"#1f77b4\"},\"line_width\":{\"value\":3},\"x\":{\"field\":\"x\"},\"y\":{\"field\":\"y\"}},\"id\":\"1624\",\"type\":\"Circle\"},{\"attributes\":{\"callback\":null,\"data\":{\"x\":[\"1960\",\"1961\",\"1962\",\"1963\",\"1964\",\"1965\",\"1966\",\"1967\",\"1968\",\"1969\",\"1970\",\"1971\",\"1972\",\"1973\",\"1974\",\"1975\",\"1976\",\"1977\",\"1978\",\"1979\",\"1980\",\"1981\",\"1982\",\"1983\",\"1984\",\"1985\",\"1986\",\"1987\",\"1988\",\"1989\",\"1990\",\"1991\",\"1992\",\"1993\",\"1994\",\"1995\",\"1996\",\"1997\",\"1998\",\"1999\",\"2000\",\"2001\",\"2002\",\"2003\",\"2004\",\"2005\",\"2006\",\"2007\",\"2008\",\"2009\",\"2010\",\"2011\",\"2012\",\"2013\",\"2014\",\"2015\",\"2016\",\"2017\"],\"y\":[42.59819142499137,42.89225875575388,43.129862065246684,43.31738154412952,43.45608262788829,43.550080947339595,43.80234938883768,43.979676666304975,44.10080029168044,44.17631629755081,44.20610888112995,44.37753247201889,44.49280808409436,44.56006946571624,44.58954872369071,44.589064341807266,44.71379908475905,44.773230781109994,44.788422265526854,44.77559460379179,44.741865851430674,44.85211199748614,44.91008171726692,44.92393384548275,44.899031348737715,44.84056977606963,44.89237790006058,44.874893102298195,44.80717206791495,44.7065744876418,44.58173260177241,44.50989062931576,44.40331762439485,44.2631076363979,44.08449967458614,43.864782315812064,43.77791497159772,43.63859321880778,43.46040712665935,43.261074903554466,43.05250753237409,42.92645426230383,42.78153339187954,42.623671123778905,42.4538109516677,42.26938810853834,42.15716163307373,42.02039711340489,41.86147936931502,41.68421796662147,41.49082505944,41.290660205111934,41.06737328423549,40.819736905133695,40.55543302226044,40.27763880852747,40.006149187520116,39.721083369953]},\"selected\":{\"id\":\"1637\",\"type\":\"Selection\"},\"selection_policy\":{\"id\":\"1638\",\"type\":\"UnionRenderers\"}},\"id\":\"1609\",\"type\":\"ColumnDataSource\"},{\"attributes\":{\"callback\":null,\"data\":{\"x\":[\"1960\",\"1961\",\"1962\",\"1963\",\"1964\",\"1965\",\"1966\",\"1967\",\"1968\",\"1969\",\"1970\",\"1971\",\"1972\",\"1973\",\"1974\",\"1975\",\"1976\",\"1977\",\"1978\",\"1979\",\"1980\",\"1981\",\"1982\",\"1983\",\"1984\",\"1985\",\"1986\",\"1987\",\"1988\",\"1989\",\"1990\",\"1991\",\"1992\",\"1993\",\"1994\",\"1995\",\"1996\",\"1997\",\"1998\",\"1999\",\"2000\",\"2001\",\"2002\",\"2003\",\"2004\",\"2005\",\"2006\",\"2007\",\"2008\",\"2009\",\"2010\",\"2011\",\"2012\",\"2013\",\"2014\",\"2015\",\"2016\",\"2017\"],\"y\":[29.77106331014537,29.795078765943412,29.715660963596108,29.563556483910688,29.389118800336995,29.215670794674537,29.07930385078313,28.92453325117747,28.75849705740509,28.56821784592817,28.369749850588036,28.122885014890574,27.878919698201713,27.62991099655804,27.348221107327554,27.030442718492527,26.765992328628798,26.44181798800294,26.080454042479047,25.717987521095793,25.375733155610774,25.028388215758664,24.722631521938716,24.4426864396022,24.160295391195362,23.862733177274027,23.623030227766826,23.356918465516564,23.07914342693694,22.81471511296764,22.578317982101005,22.38233511820821,22.212344635002115,22.055643128218186,21.889631105089745,21.70179980056244,21.52287844833605,21.314999783111602,21.089332157673738,20.865922563716104,20.653439230371426,20.415555136413452,20.200407075212425,19.99721546354425,19.792580083113325,19.58153049491419,19.42936673752946,19.266708712785178,19.10062316536645,18.940792466102835,18.78763312883592,18.68284269266012,18.553760570557017,18.4175092045611,18.28626606521173,18.163323640146963,18.042734326142373,17.93618839869138]},\"selected\":{\"id\":\"1730\",\"type\":\"Selection\"},\"selection_policy\":{\"id\":\"1731\",\"type\":\"UnionRenderers\"}},\"id\":\"1648\",\"type\":\"ColumnDataSource\"},{\"attributes\":{},\"id\":\"1732\",\"type\":\"Selection\"},{\"attributes\":{\"data_source\":{\"id\":\"1622\",\"type\":\"ColumnDataSource\"},\"glyph\":{\"id\":\"1623\",\"type\":\"Circle\"},\"hover_glyph\":null,\"muted_glyph\":null,\"nonselection_glyph\":{\"id\":\"1624\",\"type\":\"Circle\"},\"selection_glyph\":null,\"view\":{\"id\":\"1626\",\"type\":\"CDSView\"}},\"id\":\"1625\",\"type\":\"GlyphRenderer\"},{\"attributes\":{\"line_color\":\"green\",\"line_width\":2,\"x\":{\"field\":\"x\"},\"y\":{\"field\":\"y\"}},\"id\":\"1649\",\"type\":\"Line\"},{\"attributes\":{},\"id\":\"1596\",\"type\":\"PanTool\"},{\"attributes\":{},\"id\":\"1733\",\"type\":\"UnionRenderers\"},{\"attributes\":{\"source\":{\"id\":\"1622\",\"type\":\"ColumnDataSource\"}},\"id\":\"1626\",\"type\":\"CDSView\"},{\"attributes\":{\"line_alpha\":0.1,\"line_color\":\"#1f77b4\",\"line_width\":2,\"x\":{\"field\":\"x\"},\"y\":{\"field\":\"y\"}},\"id\":\"1650\",\"type\":\"Line\"},{\"attributes\":{},\"id\":\"1597\",\"type\":\"WheelZoomTool\"},{\"attributes\":{\"callback\":null,\"data\":{\"x\":[\"1960\",\"1961\",\"1962\",\"1963\",\"1964\",\"1965\",\"1966\",\"1967\",\"1968\",\"1969\",\"1970\",\"1971\",\"1972\",\"1973\",\"1974\",\"1975\",\"1976\",\"1977\",\"1978\",\"1979\",\"1980\",\"1981\",\"1982\",\"1983\",\"1984\",\"1985\",\"1986\",\"1987\",\"1988\",\"1989\",\"1990\",\"1991\",\"1992\",\"1993\",\"1994\",\"1995\",\"1996\",\"1997\",\"1998\",\"1999\",\"2000\",\"2001\",\"2002\",\"2003\",\"2004\",\"2005\",\"2006\",\"2007\",\"2008\",\"2009\",\"2010\",\"2011\",\"2012\",\"2013\",\"2014\",\"2015\",\"2016\",\"2017\"],\"y\":[40.68759292632059,40.902248184500756,41.25589173324295,41.63113763328221,41.87801412069505,41.94219453287967,42.094041714057774,42.03456904537488,41.84680969805507,41.6470138158929,41.48521788948078,41.42837556904059,41.34072859018314,41.22034102414996,41.03787663028312,40.77381338406043,40.47747993216549,40.112056066676914,39.68490639889442,39.21506061934624,38.72274549043441,38.22040703425205,37.731843452302435,37.254322793467296,36.789574703424364,36.34588577100764,36.055588220879315,35.77288499030644,35.50139724701606,35.227029417340695,34.92906688406042,34.76038495941502,34.47582595073569,34.12486208888969,33.776242109823194,33.457165094453174,32.99736074145577,32.650848787290194,32.33944960452067,31.956163591015965,31.46247449723159,31.051171911215434,30.519130398965917,29.925822930439033,29.3696380683664,28.89970990346446,28.48061580116519,28.13477676517371,27.845842847927425,27.57508608250911,27.302294757124095,27.06200424509802,26.817074946864174,26.571303888699866,26.33248478028756,26.10246731610828,25.884872437055105,25.670861481196635]},\"selected\":{\"id\":\"1662\",\"type\":\"Selection\"},\"selection_policy\":{\"id\":\"1663\",\"type\":\"UnionRenderers\"}},\"id\":\"1627\",\"type\":\"ColumnDataSource\"},{\"attributes\":{\"data_source\":{\"id\":\"1648\",\"type\":\"ColumnDataSource\"},\"glyph\":{\"id\":\"1649\",\"type\":\"Line\"},\"hover_glyph\":null,\"muted_glyph\":null,\"nonselection_glyph\":{\"id\":\"1650\",\"type\":\"Line\"},\"selection_glyph\":null,\"view\":{\"id\":\"1652\",\"type\":\"CDSView\"}},\"id\":\"1651\",\"type\":\"GlyphRenderer\"},{\"attributes\":{\"overlay\":{\"id\":\"1619\",\"type\":\"BoxAnnotation\"}},\"id\":\"1598\",\"type\":\"BoxZoomTool\"},{\"attributes\":{\"line_color\":\"blue\",\"line_width\":2,\"x\":{\"field\":\"x\"},\"y\":{\"field\":\"y\"}},\"id\":\"1628\",\"type\":\"Line\"},{\"attributes\":{\"source\":{\"id\":\"1648\",\"type\":\"ColumnDataSource\"}},\"id\":\"1652\",\"type\":\"CDSView\"},{\"attributes\":{},\"id\":\"1599\",\"type\":\"SaveTool\"},{\"attributes\":{\"line_alpha\":0.1,\"line_color\":\"#1f77b4\",\"line_width\":2,\"x\":{\"field\":\"x\"},\"y\":{\"field\":\"y\"}},\"id\":\"1629\",\"type\":\"Line\"},{\"attributes\":{\"callback\":null,\"tooltips\":\"\\n        <div style=padding=5px>Year:@x</div>\\n        <div style=padding=5px>Value:@y</div>\\n        \"},\"id\":\"1673\",\"type\":\"HoverTool\"},{\"attributes\":{},\"id\":\"1600\",\"type\":\"ResetTool\"},{\"attributes\":{\"text\":\"Population ages 0-14 (% of total population) weighted against Population, total\"},\"id\":\"1576\",\"type\":\"Title\"},{\"attributes\":{},\"id\":\"1662\",\"type\":\"Selection\"},{\"attributes\":{\"data_source\":{\"id\":\"1627\",\"type\":\"ColumnDataSource\"},\"glyph\":{\"id\":\"1628\",\"type\":\"Line\"},\"hover_glyph\":null,\"muted_glyph\":null,\"nonselection_glyph\":{\"id\":\"1629\",\"type\":\"Line\"},\"selection_glyph\":null,\"view\":{\"id\":\"1631\",\"type\":\"CDSView\"}},\"id\":\"1630\",\"type\":\"GlyphRenderer\"},{\"attributes\":{},\"id\":\"1601\",\"type\":\"HelpTool\"},{\"attributes\":{\"callback\":null},\"id\":\"1578\",\"type\":\"DataRange1d\"},{\"attributes\":{},\"id\":\"1663\",\"type\":\"UnionRenderers\"},{\"attributes\":{\"source\":{\"id\":\"1627\",\"type\":\"ColumnDataSource\"}},\"id\":\"1631\",\"type\":\"CDSView\"},{\"attributes\":{\"active_drag\":\"auto\",\"active_inspect\":\"auto\",\"active_multi\":null,\"active_scroll\":\"auto\",\"active_tap\":\"auto\",\"tools\":[{\"id\":\"1596\",\"type\":\"PanTool\"},{\"id\":\"1597\",\"type\":\"WheelZoomTool\"},{\"id\":\"1598\",\"type\":\"BoxZoomTool\"},{\"id\":\"1599\",\"type\":\"SaveTool\"},{\"id\":\"1600\",\"type\":\"ResetTool\"},{\"id\":\"1601\",\"type\":\"HelpTool\"},{\"id\":\"1673\",\"type\":\"HoverTool\"}]},\"id\":\"1602\",\"type\":\"Toolbar\"},{\"attributes\":{\"callback\":null},\"id\":\"1580\",\"type\":\"DataRange1d\"},{\"attributes\":{},\"id\":\"1664\",\"type\":\"Selection\"},{\"attributes\":{\"line_alpha\":0.1,\"line_color\":\"#1f77b4\",\"line_width\":2,\"x\":{\"field\":\"x\"},\"y\":{\"field\":\"y\"}},\"id\":\"1611\",\"type\":\"Line\"},{\"attributes\":{},\"id\":\"1637\",\"type\":\"Selection\"},{\"attributes\":{},\"id\":\"1665\",\"type\":\"UnionRenderers\"},{\"attributes\":{},\"id\":\"1582\",\"type\":\"LinearScale\"},{\"attributes\":{},\"id\":\"1638\",\"type\":\"UnionRenderers\"},{\"attributes\":{\"data_source\":{\"id\":\"1609\",\"type\":\"ColumnDataSource\"},\"glyph\":{\"id\":\"1610\",\"type\":\"Line\"},\"hover_glyph\":null,\"muted_glyph\":null,\"nonselection_glyph\":{\"id\":\"1611\",\"type\":\"Line\"},\"selection_glyph\":null,\"view\":{\"id\":\"1613\",\"type\":\"CDSView\"}},\"id\":\"1612\",\"type\":\"GlyphRenderer\"},{\"attributes\":{},\"id\":\"1584\",\"type\":\"LinearScale\"},{\"attributes\":{\"label\":{\"value\":\"OECD\"},\"renderers\":[{\"id\":\"1651\",\"type\":\"GlyphRenderer\"}]},\"id\":\"1667\",\"type\":\"LegendItem\"},{\"attributes\":{\"source\":{\"id\":\"1609\",\"type\":\"ColumnDataSource\"}},\"id\":\"1613\",\"type\":\"CDSView\"},{\"attributes\":{},\"id\":\"1639\",\"type\":\"Selection\"},{\"attributes\":{\"axis_label\":\"Years\",\"formatter\":{\"id\":\"1618\",\"type\":\"BasicTickFormatter\"},\"ticker\":{\"id\":\"1587\",\"type\":\"BasicTicker\"}},\"id\":\"1586\",\"type\":\"LinearAxis\"},{\"attributes\":{},\"id\":\"1616\",\"type\":\"BasicTickFormatter\"},{\"attributes\":{\"callback\":null,\"data\":{\"x\":[\"1960\",\"1961\",\"1962\",\"1963\",\"1964\",\"1965\",\"1966\",\"1967\",\"1968\",\"1969\",\"1970\",\"1971\",\"1972\",\"1973\",\"1974\",\"1975\",\"1976\",\"1977\",\"1978\",\"1979\",\"1980\",\"1981\",\"1982\",\"1983\",\"1984\",\"1985\",\"1986\",\"1987\",\"1988\",\"1989\",\"1990\",\"1991\",\"1992\",\"1993\",\"1994\",\"1995\",\"1996\",\"1997\",\"1998\",\"1999\",\"2000\",\"2001\",\"2002\",\"2003\",\"2004\",\"2005\",\"2006\",\"2007\",\"2008\",\"2009\",\"2010\",\"2011\",\"2012\",\"2013\",\"2014\",\"2015\",\"2016\",\"2017\"],\"y\":[29.77106331014537,29.795078765943412,29.715660963596108,29.563556483910688,29.389118800336995,29.215670794674537,29.07930385078313,28.92453325117747,28.75849705740509,28.56821784592817,28.369749850588036,28.122885014890574,27.878919698201713,27.62991099655804,27.348221107327554,27.030442718492527,26.765992328628798,26.44181798800294,26.080454042479047,25.717987521095793,25.375733155610774,25.028388215758664,24.722631521938716,24.4426864396022,24.160295391195362,23.862733177274027,23.623030227766826,23.356918465516564,23.07914342693694,22.81471511296764,22.578317982101005,22.38233511820821,22.212344635002115,22.055643128218186,21.889631105089745,21.70179980056244,21.52287844833605,21.314999783111602,21.089332157673738,20.865922563716104,20.653439230371426,20.415555136413452,20.200407075212425,19.99721546354425,19.792580083113325,19.58153049491419,19.42936673752946,19.266708712785178,19.10062316536645,18.940792466102835,18.78763312883592,18.68284269266012,18.553760570557017,18.4175092045611,18.28626606521173,18.163323640146963,18.042734326142373,17.93618839869138]},\"selected\":{\"id\":\"1732\",\"type\":\"Selection\"},\"selection_policy\":{\"id\":\"1733\",\"type\":\"UnionRenderers\"}},\"id\":\"1668\",\"type\":\"ColumnDataSource\"},{\"attributes\":{},\"id\":\"1640\",\"type\":\"UnionRenderers\"},{\"attributes\":{\"fill_color\":{\"value\":\"green\"},\"line_color\":{\"value\":\"green\"},\"line_width\":{\"value\":3},\"x\":{\"field\":\"x\"},\"y\":{\"field\":\"y\"}},\"id\":\"1669\",\"type\":\"Circle\"},{\"attributes\":{},\"id\":\"1587\",\"type\":\"BasicTicker\"},{\"attributes\":{\"label\":{\"value\":\"Developing excluding LDCs\"},\"renderers\":[{\"id\":\"1630\",\"type\":\"GlyphRenderer\"}]},\"id\":\"1642\",\"type\":\"LegendItem\"},{\"attributes\":{},\"id\":\"1618\",\"type\":\"BasicTickFormatter\"},{\"attributes\":{\"ticker\":{\"id\":\"1587\",\"type\":\"BasicTicker\"}},\"id\":\"1590\",\"type\":\"Grid\"},{\"attributes\":{\"fill_alpha\":{\"value\":0.1},\"fill_color\":{\"value\":\"#1f77b4\"},\"line_alpha\":{\"value\":0.1},\"line_color\":{\"value\":\"#1f77b4\"},\"line_width\":{\"value\":3},\"x\":{\"field\":\"x\"},\"y\":{\"field\":\"y\"}},\"id\":\"1670\",\"type\":\"Circle\"},{\"attributes\":{\"line_color\":\"red\",\"line_width\":2,\"x\":{\"field\":\"x\"},\"y\":{\"field\":\"y\"}},\"id\":\"1610\",\"type\":\"Line\"},{\"attributes\":{\"callback\":null,\"data\":{\"x\":[\"1960\",\"1961\",\"1962\",\"1963\",\"1964\",\"1965\",\"1966\",\"1967\",\"1968\",\"1969\",\"1970\",\"1971\",\"1972\",\"1973\",\"1974\",\"1975\",\"1976\",\"1977\",\"1978\",\"1979\",\"1980\",\"1981\",\"1982\",\"1983\",\"1984\",\"1985\",\"1986\",\"1987\",\"1988\",\"1989\",\"1990\",\"1991\",\"1992\",\"1993\",\"1994\",\"1995\",\"1996\",\"1997\",\"1998\",\"1999\",\"2000\",\"2001\",\"2002\",\"2003\",\"2004\",\"2005\",\"2006\",\"2007\",\"2008\",\"2009\",\"2010\",\"2011\",\"2012\",\"2013\",\"2014\",\"2015\",\"2016\",\"2017\"],\"y\":[40.68759292632059,40.902248184500756,41.25589173324295,41.63113763328221,41.87801412069505,41.94219453287967,42.094041714057774,42.03456904537488,41.84680969805507,41.6470138158929,41.48521788948078,41.42837556904059,41.34072859018314,41.22034102414996,41.03787663028312,40.77381338406043,40.47747993216549,40.112056066676914,39.68490639889442,39.21506061934624,38.72274549043441,38.22040703425205,37.731843452302435,37.254322793467296,36.789574703424364,36.34588577100764,36.055588220879315,35.77288499030644,35.50139724701606,35.227029417340695,34.92906688406042,34.76038495941502,34.47582595073569,34.12486208888969,33.776242109823194,33.457165094453174,32.99736074145577,32.650848787290194,32.33944960452067,31.956163591015965,31.46247449723159,31.051171911215434,30.519130398965917,29.925822930439033,29.3696380683664,28.89970990346446,28.48061580116519,28.13477676517371,27.845842847927425,27.57508608250911,27.302294757124095,27.06200424509802,26.817074946864174,26.571303888699866,26.33248478028756,26.10246731610828,25.884872437055105,25.670861481196635]},\"selected\":{\"id\":\"1664\",\"type\":\"Selection\"},\"selection_policy\":{\"id\":\"1665\",\"type\":\"UnionRenderers\"}},\"id\":\"1643\",\"type\":\"ColumnDataSource\"},{\"attributes\":{\"data_source\":{\"id\":\"1668\",\"type\":\"ColumnDataSource\"},\"glyph\":{\"id\":\"1669\",\"type\":\"Circle\"},\"hover_glyph\":null,\"muted_glyph\":null,\"nonselection_glyph\":{\"id\":\"1670\",\"type\":\"Circle\"},\"selection_glyph\":null,\"view\":{\"id\":\"1672\",\"type\":\"CDSView\"}},\"id\":\"1671\",\"type\":\"GlyphRenderer\"},{\"attributes\":{\"axis_label\":\"Percentage\",\"formatter\":{\"id\":\"1616\",\"type\":\"BasicTickFormatter\"},\"ticker\":{\"id\":\"1592\",\"type\":\"BasicTicker\"}},\"id\":\"1591\",\"type\":\"LinearAxis\"},{\"attributes\":{\"bottom_units\":\"screen\",\"fill_alpha\":{\"value\":0.5},\"fill_color\":{\"value\":\"lightgrey\"},\"left_units\":\"screen\",\"level\":\"overlay\",\"line_alpha\":{\"value\":1.0},\"line_color\":{\"value\":\"black\"},\"line_dash\":[4,4],\"line_width\":{\"value\":2},\"render_mode\":\"css\",\"right_units\":\"screen\",\"top_units\":\"screen\"},\"id\":\"1619\",\"type\":\"BoxAnnotation\"},{\"attributes\":{\"source\":{\"id\":\"1668\",\"type\":\"ColumnDataSource\"}},\"id\":\"1672\",\"type\":\"CDSView\"},{\"attributes\":{\"fill_color\":{\"value\":\"blue\"},\"line_color\":{\"value\":\"blue\"},\"line_width\":{\"value\":3},\"x\":{\"field\":\"x\"},\"y\":{\"field\":\"y\"}},\"id\":\"1644\",\"type\":\"Circle\"},{\"attributes\":{\"items\":[{\"id\":\"1621\",\"type\":\"LegendItem\"},{\"id\":\"1642\",\"type\":\"LegendItem\"},{\"id\":\"1667\",\"type\":\"LegendItem\"}],\"location\":\"bottom_left\"},\"id\":\"1620\",\"type\":\"Legend\"},{\"attributes\":{},\"id\":\"1592\",\"type\":\"BasicTicker\"},{\"attributes\":{\"fill_alpha\":{\"value\":0.1},\"fill_color\":{\"value\":\"#1f77b4\"},\"line_alpha\":{\"value\":0.1},\"line_color\":{\"value\":\"#1f77b4\"},\"line_width\":{\"value\":3},\"x\":{\"field\":\"x\"},\"y\":{\"field\":\"y\"}},\"id\":\"1645\",\"type\":\"Circle\"},{\"attributes\":{\"label\":{\"value\":\"LDCs\"},\"renderers\":[{\"id\":\"1612\",\"type\":\"GlyphRenderer\"}]},\"id\":\"1621\",\"type\":\"LegendItem\"}],\"root_ids\":[\"1575\"]},\"title\":\"Bokeh Application\",\"version\":\"1.3.4\"}};\n",
       "  var render_items = [{\"docid\":\"42391c0f-8406-497b-a6c6-8c2f86f90a8b\",\"roots\":{\"1575\":\"ace7eecc-152c-41e0-a732-3aaf082eee76\"}}];\n",
       "  root.Bokeh.embed.embed_items_notebook(docs_json, render_items);\n",
       "\n",
       "  }\n",
       "  if (root.Bokeh !== undefined) {\n",
       "    embed_document(root);\n",
       "  } else {\n",
       "    var attempts = 0;\n",
       "    var timer = setInterval(function(root) {\n",
       "      if (root.Bokeh !== undefined) {\n",
       "        embed_document(root);\n",
       "        clearInterval(timer);\n",
       "      }\n",
       "      attempts++;\n",
       "      if (attempts > 100) {\n",
       "        console.log(\"Bokeh: ERROR: Unable to run BokehJS code because BokehJS library is missing\");\n",
       "        clearInterval(timer);\n",
       "      }\n",
       "    }, 10, root)\n",
       "  }\n",
       "})(window);"
      ],
      "application/vnd.bokehjs_exec.v0+json": ""
     },
     "metadata": {
      "application/vnd.bokehjs_exec.v0+json": {
       "id": "1575"
      }
     },
     "output_type": "display_data"
    }
   ],
   "source": [
    "# Population 0-14\n",
    "result = show_weighted_average(years, 'SP.POP.0014.TO.ZS', 'SP.POP.TOTL', \n",
    "                               ['LDCs', 'Developing excluding LDCs', 'OECD', 'UMICs'])"
   ]
  },
  {
   "cell_type": "code",
   "execution_count": 7,
   "metadata": {},
   "outputs": [
    {
     "data": {
      "text/html": [
       "\n",
       "\n",
       "\n",
       "\n",
       "\n",
       "\n",
       "  <div class=\"bk-root\" id=\"36092cd6-e3d2-4dc3-b90b-ea4e753e7ec5\" data-root-id=\"2076\"></div>\n"
      ]
     },
     "metadata": {},
     "output_type": "display_data"
    },
    {
     "data": {
      "application/javascript": [
       "(function(root) {\n",
       "  function embed_document(root) {\n",
       "    \n",
       "  var docs_json = {\"ad20828a-9ed3-447b-863b-a076984ba1ec\":{\"roots\":{\"references\":[{\"attributes\":{\"below\":[{\"id\":\"2087\",\"type\":\"LinearAxis\"}],\"center\":[{\"id\":\"2091\",\"type\":\"Grid\"},{\"id\":\"2096\",\"type\":\"Grid\"},{\"id\":\"2121\",\"type\":\"Legend\"}],\"left\":[{\"id\":\"2092\",\"type\":\"LinearAxis\"}],\"plot_height\":400,\"plot_width\":950,\"renderers\":[{\"id\":\"2113\",\"type\":\"GlyphRenderer\"},{\"id\":\"2126\",\"type\":\"GlyphRenderer\"},{\"id\":\"2131\",\"type\":\"GlyphRenderer\"},{\"id\":\"2147\",\"type\":\"GlyphRenderer\"}],\"title\":{\"id\":\"2077\",\"type\":\"Title\"},\"toolbar\":{\"id\":\"2103\",\"type\":\"Toolbar\"},\"x_range\":{\"id\":\"2079\",\"type\":\"DataRange1d\"},\"x_scale\":{\"id\":\"2083\",\"type\":\"LinearScale\"},\"y_range\":{\"id\":\"2081\",\"type\":\"DataRange1d\"},\"y_scale\":{\"id\":\"2085\",\"type\":\"LinearScale\"}},\"id\":\"2076\",\"subtype\":\"Figure\",\"type\":\"Plot\"},{\"attributes\":{},\"id\":\"2234\",\"type\":\"Selection\"},{\"attributes\":{\"fill_alpha\":{\"value\":0.1},\"fill_color\":{\"value\":\"#1f77b4\"},\"line_alpha\":{\"value\":0.1},\"line_color\":{\"value\":\"#1f77b4\"},\"line_width\":{\"value\":3},\"x\":{\"field\":\"x\"},\"y\":{\"field\":\"y\"}},\"id\":\"2146\",\"type\":\"Circle\"},{\"attributes\":{\"bottom_units\":\"screen\",\"fill_alpha\":{\"value\":0.5},\"fill_color\":{\"value\":\"lightgrey\"},\"left_units\":\"screen\",\"level\":\"overlay\",\"line_alpha\":{\"value\":1.0},\"line_color\":{\"value\":\"black\"},\"line_dash\":[4,4],\"line_width\":{\"value\":2},\"render_mode\":\"css\",\"right_units\":\"screen\",\"top_units\":\"screen\"},\"id\":\"2120\",\"type\":\"BoxAnnotation\"},{\"attributes\":{\"ticker\":{\"id\":\"2088\",\"type\":\"BasicTicker\"}},\"id\":\"2091\",\"type\":\"Grid\"},{\"attributes\":{},\"id\":\"2235\",\"type\":\"UnionRenderers\"},{\"attributes\":{},\"id\":\"2140\",\"type\":\"Selection\"},{\"attributes\":{\"label\":{\"value\":\"LDCs\"},\"renderers\":[{\"id\":\"2113\",\"type\":\"GlyphRenderer\"}]},\"id\":\"2122\",\"type\":\"LegendItem\"},{\"attributes\":{\"axis_label\":\"Percentage\",\"formatter\":{\"id\":\"2117\",\"type\":\"BasicTickFormatter\"},\"ticker\":{\"id\":\"2093\",\"type\":\"BasicTicker\"}},\"id\":\"2092\",\"type\":\"LinearAxis\"},{\"attributes\":{\"items\":[{\"id\":\"2122\",\"type\":\"LegendItem\"},{\"id\":\"2143\",\"type\":\"LegendItem\"}],\"location\":\"bottom_left\"},\"id\":\"2121\",\"type\":\"Legend\"},{\"attributes\":{},\"id\":\"2093\",\"type\":\"BasicTicker\"},{\"attributes\":{},\"id\":\"2237\",\"type\":\"UnionRenderers\"},{\"attributes\":{\"callback\":null,\"data\":{\"x\":[\"2010\",\"2011\",\"2012\",\"2013\",\"2014\",\"2015\",\"2016\",\"2017\"],\"y\":[16.709045789768172,17.553474451435992,18.374064944696872,19.187805301854954,19.99536707307814,20.797136473512598,21.58898092737968,22.374104786870443]},\"selected\":{\"id\":\"2140\",\"type\":\"Selection\"},\"selection_policy\":{\"id\":\"2141\",\"type\":\"UnionRenderers\"}},\"id\":\"2123\",\"type\":\"ColumnDataSource\"},{\"attributes\":{\"dimension\":1,\"ticker\":{\"id\":\"2093\",\"type\":\"BasicTicker\"}},\"id\":\"2096\",\"type\":\"Grid\"},{\"attributes\":{\"callback\":null,\"data\":{\"x\":[\"2010\",\"2011\",\"2012\",\"2013\",\"2014\",\"2015\",\"2016\",\"2017\"],\"y\":[44.17895500170897,46.379028286829,48.62938786590606,50.964846617773375,53.35002880170789,55.76782165250671,58.22878123081063,60.72069424656215]},\"selected\":{\"id\":\"2236\",\"type\":\"Selection\"},\"selection_policy\":{\"id\":\"2237\",\"type\":\"UnionRenderers\"}},\"id\":\"2144\",\"type\":\"ColumnDataSource\"},{\"attributes\":{\"fill_alpha\":{\"value\":0.1},\"fill_color\":{\"value\":\"#1f77b4\"},\"line_alpha\":{\"value\":0.1},\"line_color\":{\"value\":\"#1f77b4\"},\"line_width\":{\"value\":3},\"x\":{\"field\":\"x\"},\"y\":{\"field\":\"y\"}},\"id\":\"2125\",\"type\":\"Circle\"},{\"attributes\":{\"fill_color\":{\"value\":\"blue\"},\"line_color\":{\"value\":\"blue\"},\"line_width\":{\"value\":3},\"x\":{\"field\":\"x\"},\"y\":{\"field\":\"y\"}},\"id\":\"2145\",\"type\":\"Circle\"},{\"attributes\":{\"callback\":null,\"data\":{\"x\":[\"2010\",\"2011\",\"2012\",\"2013\",\"2014\",\"2015\",\"2016\",\"2017\"],\"y\":[16.709045789768172,17.553474451435992,18.374064944696872,19.187805301854954,19.99536707307814,20.797136473512598,21.58898092737968,22.374104786870443]},\"selected\":{\"id\":\"2138\",\"type\":\"Selection\"},\"selection_policy\":{\"id\":\"2139\",\"type\":\"UnionRenderers\"}},\"id\":\"2110\",\"type\":\"ColumnDataSource\"},{\"attributes\":{\"fill_color\":{\"value\":\"red\"},\"line_color\":{\"value\":\"red\"},\"line_width\":{\"value\":3},\"x\":{\"field\":\"x\"},\"y\":{\"field\":\"y\"}},\"id\":\"2124\",\"type\":\"Circle\"},{\"attributes\":{},\"id\":\"2236\",\"type\":\"Selection\"},{\"attributes\":{},\"id\":\"2097\",\"type\":\"PanTool\"},{\"attributes\":{\"data_source\":{\"id\":\"2123\",\"type\":\"ColumnDataSource\"},\"glyph\":{\"id\":\"2124\",\"type\":\"Circle\"},\"hover_glyph\":null,\"muted_glyph\":null,\"nonselection_glyph\":{\"id\":\"2125\",\"type\":\"Circle\"},\"selection_glyph\":null,\"view\":{\"id\":\"2127\",\"type\":\"CDSView\"}},\"id\":\"2126\",\"type\":\"GlyphRenderer\"},{\"attributes\":{\"data_source\":{\"id\":\"2144\",\"type\":\"ColumnDataSource\"},\"glyph\":{\"id\":\"2145\",\"type\":\"Circle\"},\"hover_glyph\":null,\"muted_glyph\":null,\"nonselection_glyph\":{\"id\":\"2146\",\"type\":\"Circle\"},\"selection_glyph\":null,\"view\":{\"id\":\"2148\",\"type\":\"CDSView\"}},\"id\":\"2147\",\"type\":\"GlyphRenderer\"},{\"attributes\":{\"callback\":null,\"data\":{\"x\":[\"2010\",\"2011\",\"2012\",\"2013\",\"2014\",\"2015\",\"2016\",\"2017\"],\"y\":[44.17895500170897,46.379028286829,48.62938786590606,50.964846617773375,53.35002880170789,55.76782165250671,58.22878123081063,60.72069424656215]},\"selected\":{\"id\":\"2234\",\"type\":\"Selection\"},\"selection_policy\":{\"id\":\"2235\",\"type\":\"UnionRenderers\"}},\"id\":\"2128\",\"type\":\"ColumnDataSource\"},{\"attributes\":{\"callback\":null,\"tooltips\":\"\\n        <div style=padding=5px>Year:@x</div>\\n        <div style=padding=5px>Value:@y</div>\\n        \"},\"id\":\"2149\",\"type\":\"HoverTool\"},{\"attributes\":{},\"id\":\"2098\",\"type\":\"WheelZoomTool\"},{\"attributes\":{\"source\":{\"id\":\"2144\",\"type\":\"ColumnDataSource\"}},\"id\":\"2148\",\"type\":\"CDSView\"},{\"attributes\":{\"overlay\":{\"id\":\"2120\",\"type\":\"BoxAnnotation\"}},\"id\":\"2099\",\"type\":\"BoxZoomTool\"},{\"attributes\":{},\"id\":\"2083\",\"type\":\"LinearScale\"},{\"attributes\":{},\"id\":\"2100\",\"type\":\"SaveTool\"},{\"attributes\":{},\"id\":\"2139\",\"type\":\"UnionRenderers\"},{\"attributes\":{\"callback\":null},\"id\":\"2081\",\"type\":\"DataRange1d\"},{\"attributes\":{\"source\":{\"id\":\"2128\",\"type\":\"ColumnDataSource\"}},\"id\":\"2132\",\"type\":\"CDSView\"},{\"attributes\":{},\"id\":\"2102\",\"type\":\"HelpTool\"},{\"attributes\":{},\"id\":\"2138\",\"type\":\"Selection\"},{\"attributes\":{},\"id\":\"2088\",\"type\":\"BasicTicker\"},{\"attributes\":{},\"id\":\"2101\",\"type\":\"ResetTool\"},{\"attributes\":{\"line_alpha\":0.1,\"line_color\":\"#1f77b4\",\"line_width\":2,\"x\":{\"field\":\"x\"},\"y\":{\"field\":\"y\"}},\"id\":\"2112\",\"type\":\"Line\"},{\"attributes\":{\"data_source\":{\"id\":\"2128\",\"type\":\"ColumnDataSource\"},\"glyph\":{\"id\":\"2129\",\"type\":\"Line\"},\"hover_glyph\":null,\"muted_glyph\":null,\"nonselection_glyph\":{\"id\":\"2130\",\"type\":\"Line\"},\"selection_glyph\":null,\"view\":{\"id\":\"2132\",\"type\":\"CDSView\"}},\"id\":\"2131\",\"type\":\"GlyphRenderer\"},{\"attributes\":{\"active_drag\":\"auto\",\"active_inspect\":\"auto\",\"active_multi\":null,\"active_scroll\":\"auto\",\"active_tap\":\"auto\",\"tools\":[{\"id\":\"2097\",\"type\":\"PanTool\"},{\"id\":\"2098\",\"type\":\"WheelZoomTool\"},{\"id\":\"2099\",\"type\":\"BoxZoomTool\"},{\"id\":\"2100\",\"type\":\"SaveTool\"},{\"id\":\"2101\",\"type\":\"ResetTool\"},{\"id\":\"2102\",\"type\":\"HelpTool\"},{\"id\":\"2149\",\"type\":\"HoverTool\"}]},\"id\":\"2103\",\"type\":\"Toolbar\"},{\"attributes\":{\"axis_label\":\"Years\",\"formatter\":{\"id\":\"2119\",\"type\":\"BasicTickFormatter\"},\"ticker\":{\"id\":\"2088\",\"type\":\"BasicTicker\"}},\"id\":\"2087\",\"type\":\"LinearAxis\"},{\"attributes\":{\"data_source\":{\"id\":\"2110\",\"type\":\"ColumnDataSource\"},\"glyph\":{\"id\":\"2111\",\"type\":\"Line\"},\"hover_glyph\":null,\"muted_glyph\":null,\"nonselection_glyph\":{\"id\":\"2112\",\"type\":\"Line\"},\"selection_glyph\":null,\"view\":{\"id\":\"2114\",\"type\":\"CDSView\"}},\"id\":\"2113\",\"type\":\"GlyphRenderer\"},{\"attributes\":{\"label\":{\"value\":\"Developing excluding LDCs\"},\"renderers\":[{\"id\":\"2131\",\"type\":\"GlyphRenderer\"}]},\"id\":\"2143\",\"type\":\"LegendItem\"},{\"attributes\":{\"text\":\"People using safely managed sanitation services (% of population) weighted against Population, total\"},\"id\":\"2077\",\"type\":\"Title\"},{\"attributes\":{\"line_alpha\":0.1,\"line_color\":\"#1f77b4\",\"line_width\":2,\"x\":{\"field\":\"x\"},\"y\":{\"field\":\"y\"}},\"id\":\"2130\",\"type\":\"Line\"},{\"attributes\":{},\"id\":\"2085\",\"type\":\"LinearScale\"},{\"attributes\":{},\"id\":\"2117\",\"type\":\"BasicTickFormatter\"},{\"attributes\":{\"callback\":null},\"id\":\"2079\",\"type\":\"DataRange1d\"},{\"attributes\":{\"line_color\":\"red\",\"line_width\":2,\"x\":{\"field\":\"x\"},\"y\":{\"field\":\"y\"}},\"id\":\"2111\",\"type\":\"Line\"},{\"attributes\":{\"line_color\":\"blue\",\"line_width\":2,\"x\":{\"field\":\"x\"},\"y\":{\"field\":\"y\"}},\"id\":\"2129\",\"type\":\"Line\"},{\"attributes\":{},\"id\":\"2141\",\"type\":\"UnionRenderers\"},{\"attributes\":{\"source\":{\"id\":\"2123\",\"type\":\"ColumnDataSource\"}},\"id\":\"2127\",\"type\":\"CDSView\"},{\"attributes\":{\"source\":{\"id\":\"2110\",\"type\":\"ColumnDataSource\"}},\"id\":\"2114\",\"type\":\"CDSView\"},{\"attributes\":{},\"id\":\"2119\",\"type\":\"BasicTickFormatter\"}],\"root_ids\":[\"2076\"]},\"title\":\"Bokeh Application\",\"version\":\"1.3.4\"}};\n",
       "  var render_items = [{\"docid\":\"ad20828a-9ed3-447b-863b-a076984ba1ec\",\"roots\":{\"2076\":\"36092cd6-e3d2-4dc3-b90b-ea4e753e7ec5\"}}];\n",
       "  root.Bokeh.embed.embed_items_notebook(docs_json, render_items);\n",
       "\n",
       "  }\n",
       "  if (root.Bokeh !== undefined) {\n",
       "    embed_document(root);\n",
       "  } else {\n",
       "    var attempts = 0;\n",
       "    var timer = setInterval(function(root) {\n",
       "      if (root.Bokeh !== undefined) {\n",
       "        embed_document(root);\n",
       "        clearInterval(timer);\n",
       "      }\n",
       "      attempts++;\n",
       "      if (attempts > 100) {\n",
       "        console.log(\"Bokeh: ERROR: Unable to run BokehJS code because BokehJS library is missing\");\n",
       "        clearInterval(timer);\n",
       "      }\n",
       "    }, 10, root)\n",
       "  }\n",
       "})(window);"
      ],
      "application/vnd.bokehjs_exec.v0+json": ""
     },
     "metadata": {
      "application/vnd.bokehjs_exec.v0+json": {
       "id": "2076"
      }
     },
     "output_type": "display_data"
    }
   ],
   "source": [
    "# Access to safely managed sanitation services\n",
    "result = show_weighted_average(years, 'SH.STA.SMSS.ZS', 'SP.POP.TOTL', \n",
    "                               ['LDCs', 'Developing excluding LDCs', 'UMICs'])"
   ]
  },
  {
   "cell_type": "code",
   "execution_count": 8,
   "metadata": {},
   "outputs": [
    {
     "data": {
      "text/html": [
       "\n",
       "\n",
       "\n",
       "\n",
       "\n",
       "\n",
       "  <div class=\"bk-root\" id=\"0452fbbf-2bde-4c22-835a-e76d5586a412\" data-root-id=\"2323\"></div>\n"
      ]
     },
     "metadata": {},
     "output_type": "display_data"
    },
    {
     "data": {
      "application/javascript": [
       "(function(root) {\n",
       "  function embed_document(root) {\n",
       "    \n",
       "  var docs_json = {\"dabe0a16-0125-408f-ba3e-444f3f66a72a\":{\"roots\":{\"references\":[{\"attributes\":{\"below\":[{\"id\":\"2334\",\"type\":\"LinearAxis\"}],\"center\":[{\"id\":\"2338\",\"type\":\"Grid\"},{\"id\":\"2343\",\"type\":\"Grid\"},{\"id\":\"2368\",\"type\":\"Legend\"}],\"left\":[{\"id\":\"2339\",\"type\":\"LinearAxis\"}],\"plot_height\":400,\"plot_width\":950,\"renderers\":[{\"id\":\"2360\",\"type\":\"GlyphRenderer\"},{\"id\":\"2373\",\"type\":\"GlyphRenderer\"},{\"id\":\"2378\",\"type\":\"GlyphRenderer\"},{\"id\":\"2394\",\"type\":\"GlyphRenderer\"}],\"title\":{\"id\":\"2324\",\"type\":\"Title\"},\"toolbar\":{\"id\":\"2350\",\"type\":\"Toolbar\"},\"x_range\":{\"id\":\"2326\",\"type\":\"DataRange1d\"},\"x_scale\":{\"id\":\"2330\",\"type\":\"LinearScale\"},\"y_range\":{\"id\":\"2328\",\"type\":\"DataRange1d\"},\"y_scale\":{\"id\":\"2332\",\"type\":\"LinearScale\"}},\"id\":\"2323\",\"subtype\":\"Figure\",\"type\":\"Plot\"},{\"attributes\":{\"text\":\"Literacy rate, youth female (% of females ages 15-24) weighted against Population, total\"},\"id\":\"2324\",\"type\":\"Title\"},{\"attributes\":{\"data_source\":{\"id\":\"2375\",\"type\":\"ColumnDataSource\"},\"glyph\":{\"id\":\"2376\",\"type\":\"Line\"},\"hover_glyph\":null,\"muted_glyph\":null,\"nonselection_glyph\":{\"id\":\"2377\",\"type\":\"Line\"},\"selection_glyph\":null,\"view\":{\"id\":\"2379\",\"type\":\"CDSView\"}},\"id\":\"2378\",\"type\":\"GlyphRenderer\"},{\"attributes\":{},\"id\":\"2349\",\"type\":\"HelpTool\"},{\"attributes\":{\"callback\":null},\"id\":\"2326\",\"type\":\"DataRange1d\"},{\"attributes\":{\"source\":{\"id\":\"2375\",\"type\":\"ColumnDataSource\"}},\"id\":\"2379\",\"type\":\"CDSView\"},{\"attributes\":{\"active_drag\":\"auto\",\"active_inspect\":\"auto\",\"active_multi\":null,\"active_scroll\":\"auto\",\"active_tap\":\"auto\",\"tools\":[{\"id\":\"2344\",\"type\":\"PanTool\"},{\"id\":\"2345\",\"type\":\"WheelZoomTool\"},{\"id\":\"2346\",\"type\":\"BoxZoomTool\"},{\"id\":\"2347\",\"type\":\"SaveTool\"},{\"id\":\"2348\",\"type\":\"ResetTool\"},{\"id\":\"2349\",\"type\":\"HelpTool\"},{\"id\":\"2396\",\"type\":\"HoverTool\"}]},\"id\":\"2350\",\"type\":\"Toolbar\"},{\"attributes\":{\"callback\":null},\"id\":\"2328\",\"type\":\"DataRange1d\"},{\"attributes\":{},\"id\":\"2385\",\"type\":\"Selection\"},{\"attributes\":{},\"id\":\"2330\",\"type\":\"LinearScale\"},{\"attributes\":{},\"id\":\"2386\",\"type\":\"UnionRenderers\"},{\"attributes\":{\"data_source\":{\"id\":\"2357\",\"type\":\"ColumnDataSource\"},\"glyph\":{\"id\":\"2358\",\"type\":\"Line\"},\"hover_glyph\":null,\"muted_glyph\":null,\"nonselection_glyph\":{\"id\":\"2359\",\"type\":\"Line\"},\"selection_glyph\":null,\"view\":{\"id\":\"2361\",\"type\":\"CDSView\"}},\"id\":\"2360\",\"type\":\"GlyphRenderer\"},{\"attributes\":{},\"id\":\"2332\",\"type\":\"LinearScale\"},{\"attributes\":{\"source\":{\"id\":\"2357\",\"type\":\"ColumnDataSource\"}},\"id\":\"2361\",\"type\":\"CDSView\"},{\"attributes\":{},\"id\":\"2387\",\"type\":\"Selection\"},{\"attributes\":{\"axis_label\":\"Years\",\"formatter\":{\"id\":\"2366\",\"type\":\"BasicTickFormatter\"},\"ticker\":{\"id\":\"2335\",\"type\":\"BasicTicker\"}},\"id\":\"2334\",\"type\":\"LinearAxis\"},{\"attributes\":{},\"id\":\"2364\",\"type\":\"BasicTickFormatter\"},{\"attributes\":{},\"id\":\"2388\",\"type\":\"UnionRenderers\"},{\"attributes\":{},\"id\":\"2335\",\"type\":\"BasicTicker\"},{\"attributes\":{\"label\":{\"value\":\"Developing excluding LDCs\"},\"renderers\":[{\"id\":\"2378\",\"type\":\"GlyphRenderer\"}]},\"id\":\"2390\",\"type\":\"LegendItem\"},{\"attributes\":{},\"id\":\"2366\",\"type\":\"BasicTickFormatter\"},{\"attributes\":{\"ticker\":{\"id\":\"2335\",\"type\":\"BasicTicker\"}},\"id\":\"2338\",\"type\":\"Grid\"},{\"attributes\":{\"callback\":null,\"data\":{\"x\":[\"2011\",\"2012\",\"2013\",\"2014\",\"2015\",\"2016\",\"2017\"],\"y\":[86.52637049847509,90.79201280313602,89.77735203026296,93.27009066227772,99.2167206572208,99.33845058757791,90.85673268334823]},\"selected\":{\"id\":\"2497\",\"type\":\"Selection\"},\"selection_policy\":{\"id\":\"2498\",\"type\":\"UnionRenderers\"}},\"id\":\"2391\",\"type\":\"ColumnDataSource\"},{\"attributes\":{\"bottom_units\":\"screen\",\"fill_alpha\":{\"value\":0.5},\"fill_color\":{\"value\":\"lightgrey\"},\"left_units\":\"screen\",\"level\":\"overlay\",\"line_alpha\":{\"value\":1.0},\"line_color\":{\"value\":\"black\"},\"line_dash\":[4,4],\"line_width\":{\"value\":2},\"render_mode\":\"css\",\"right_units\":\"screen\",\"top_units\":\"screen\"},\"id\":\"2367\",\"type\":\"BoxAnnotation\"},{\"attributes\":{\"axis_label\":\"Percentage\",\"formatter\":{\"id\":\"2364\",\"type\":\"BasicTickFormatter\"},\"ticker\":{\"id\":\"2340\",\"type\":\"BasicTicker\"}},\"id\":\"2339\",\"type\":\"LinearAxis\"},{\"attributes\":{\"fill_color\":{\"value\":\"blue\"},\"line_color\":{\"value\":\"blue\"},\"line_width\":{\"value\":3},\"x\":{\"field\":\"x\"},\"y\":{\"field\":\"y\"}},\"id\":\"2392\",\"type\":\"Circle\"},{\"attributes\":{\"items\":[{\"id\":\"2369\",\"type\":\"LegendItem\"},{\"id\":\"2390\",\"type\":\"LegendItem\"}],\"location\":\"bottom_left\"},\"id\":\"2368\",\"type\":\"Legend\"},{\"attributes\":{},\"id\":\"2340\",\"type\":\"BasicTicker\"},{\"attributes\":{\"fill_alpha\":{\"value\":0.1},\"fill_color\":{\"value\":\"#1f77b4\"},\"line_alpha\":{\"value\":0.1},\"line_color\":{\"value\":\"#1f77b4\"},\"line_width\":{\"value\":3},\"x\":{\"field\":\"x\"},\"y\":{\"field\":\"y\"}},\"id\":\"2393\",\"type\":\"Circle\"},{\"attributes\":{\"label\":{\"value\":\"LDCs\"},\"renderers\":[{\"id\":\"2360\",\"type\":\"GlyphRenderer\"}]},\"id\":\"2369\",\"type\":\"LegendItem\"},{\"attributes\":{\"dimension\":1,\"ticker\":{\"id\":\"2340\",\"type\":\"BasicTicker\"}},\"id\":\"2343\",\"type\":\"Grid\"},{\"attributes\":{\"line_alpha\":0.1,\"line_color\":\"#1f77b4\",\"line_width\":2,\"x\":{\"field\":\"x\"},\"y\":{\"field\":\"y\"}},\"id\":\"2377\",\"type\":\"Line\"},{\"attributes\":{\"data_source\":{\"id\":\"2391\",\"type\":\"ColumnDataSource\"},\"glyph\":{\"id\":\"2392\",\"type\":\"Circle\"},\"hover_glyph\":null,\"muted_glyph\":null,\"nonselection_glyph\":{\"id\":\"2393\",\"type\":\"Circle\"},\"selection_glyph\":null,\"view\":{\"id\":\"2395\",\"type\":\"CDSView\"}},\"id\":\"2394\",\"type\":\"GlyphRenderer\"},{\"attributes\":{\"callback\":null,\"data\":{\"x\":[\"2011\",\"2012\",\"2013\",\"2014\",\"2015\",\"2016\",\"2017\"],\"y\":[69.73643076577738,76.28621410347083,82.34338029433856,78.83132852098582,79.67428038697987,84.88400348022606,81.7564251787433]},\"selected\":{\"id\":\"2387\",\"type\":\"Selection\"},\"selection_policy\":{\"id\":\"2388\",\"type\":\"UnionRenderers\"}},\"id\":\"2370\",\"type\":\"ColumnDataSource\"},{\"attributes\":{\"source\":{\"id\":\"2391\",\"type\":\"ColumnDataSource\"}},\"id\":\"2395\",\"type\":\"CDSView\"},{\"attributes\":{\"fill_color\":{\"value\":\"red\"},\"line_color\":{\"value\":\"red\"},\"line_width\":{\"value\":3},\"x\":{\"field\":\"x\"},\"y\":{\"field\":\"y\"}},\"id\":\"2371\",\"type\":\"Circle\"},{\"attributes\":{\"callback\":null,\"data\":{\"x\":[\"2011\",\"2012\",\"2013\",\"2014\",\"2015\",\"2016\",\"2017\"],\"y\":[69.73643076577738,76.28621410347083,82.34338029433856,78.83132852098582,79.67428038697987,84.88400348022606,81.7564251787433]},\"selected\":{\"id\":\"2385\",\"type\":\"Selection\"},\"selection_policy\":{\"id\":\"2386\",\"type\":\"UnionRenderers\"}},\"id\":\"2357\",\"type\":\"ColumnDataSource\"},{\"attributes\":{\"callback\":null,\"tooltips\":\"\\n        <div style=padding=5px>Year:@x</div>\\n        <div style=padding=5px>Value:@y</div>\\n        \"},\"id\":\"2396\",\"type\":\"HoverTool\"},{\"attributes\":{\"fill_alpha\":{\"value\":0.1},\"fill_color\":{\"value\":\"#1f77b4\"},\"line_alpha\":{\"value\":0.1},\"line_color\":{\"value\":\"#1f77b4\"},\"line_width\":{\"value\":3},\"x\":{\"field\":\"x\"},\"y\":{\"field\":\"y\"}},\"id\":\"2372\",\"type\":\"Circle\"},{\"attributes\":{\"line_alpha\":0.1,\"line_color\":\"#1f77b4\",\"line_width\":2,\"x\":{\"field\":\"x\"},\"y\":{\"field\":\"y\"}},\"id\":\"2359\",\"type\":\"Line\"},{\"attributes\":{},\"id\":\"2344\",\"type\":\"PanTool\"},{\"attributes\":{},\"id\":\"2495\",\"type\":\"Selection\"},{\"attributes\":{\"data_source\":{\"id\":\"2370\",\"type\":\"ColumnDataSource\"},\"glyph\":{\"id\":\"2371\",\"type\":\"Circle\"},\"hover_glyph\":null,\"muted_glyph\":null,\"nonselection_glyph\":{\"id\":\"2372\",\"type\":\"Circle\"},\"selection_glyph\":null,\"view\":{\"id\":\"2374\",\"type\":\"CDSView\"}},\"id\":\"2373\",\"type\":\"GlyphRenderer\"},{\"attributes\":{},\"id\":\"2345\",\"type\":\"WheelZoomTool\"},{\"attributes\":{},\"id\":\"2496\",\"type\":\"UnionRenderers\"},{\"attributes\":{\"source\":{\"id\":\"2370\",\"type\":\"ColumnDataSource\"}},\"id\":\"2374\",\"type\":\"CDSView\"},{\"attributes\":{\"overlay\":{\"id\":\"2367\",\"type\":\"BoxAnnotation\"}},\"id\":\"2346\",\"type\":\"BoxZoomTool\"},{\"attributes\":{},\"id\":\"2497\",\"type\":\"Selection\"},{\"attributes\":{\"callback\":null,\"data\":{\"x\":[\"2011\",\"2012\",\"2013\",\"2014\",\"2015\",\"2016\",\"2017\"],\"y\":[86.52637049847509,90.79201280313602,89.77735203026296,93.27009066227772,99.2167206572208,99.33845058757791,90.85673268334823]},\"selected\":{\"id\":\"2495\",\"type\":\"Selection\"},\"selection_policy\":{\"id\":\"2496\",\"type\":\"UnionRenderers\"}},\"id\":\"2375\",\"type\":\"ColumnDataSource\"},{\"attributes\":{},\"id\":\"2347\",\"type\":\"SaveTool\"},{\"attributes\":{},\"id\":\"2498\",\"type\":\"UnionRenderers\"},{\"attributes\":{\"line_color\":\"blue\",\"line_width\":2,\"x\":{\"field\":\"x\"},\"y\":{\"field\":\"y\"}},\"id\":\"2376\",\"type\":\"Line\"},{\"attributes\":{},\"id\":\"2348\",\"type\":\"ResetTool\"},{\"attributes\":{\"line_color\":\"red\",\"line_width\":2,\"x\":{\"field\":\"x\"},\"y\":{\"field\":\"y\"}},\"id\":\"2358\",\"type\":\"Line\"}],\"root_ids\":[\"2323\"]},\"title\":\"Bokeh Application\",\"version\":\"1.3.4\"}};\n",
       "  var render_items = [{\"docid\":\"dabe0a16-0125-408f-ba3e-444f3f66a72a\",\"roots\":{\"2323\":\"0452fbbf-2bde-4c22-835a-e76d5586a412\"}}];\n",
       "  root.Bokeh.embed.embed_items_notebook(docs_json, render_items);\n",
       "\n",
       "  }\n",
       "  if (root.Bokeh !== undefined) {\n",
       "    embed_document(root);\n",
       "  } else {\n",
       "    var attempts = 0;\n",
       "    var timer = setInterval(function(root) {\n",
       "      if (root.Bokeh !== undefined) {\n",
       "        embed_document(root);\n",
       "        clearInterval(timer);\n",
       "      }\n",
       "      attempts++;\n",
       "      if (attempts > 100) {\n",
       "        console.log(\"Bokeh: ERROR: Unable to run BokehJS code because BokehJS library is missing\");\n",
       "        clearInterval(timer);\n",
       "      }\n",
       "    }, 10, root)\n",
       "  }\n",
       "})(window);"
      ],
      "application/vnd.bokehjs_exec.v0+json": ""
     },
     "metadata": {
      "application/vnd.bokehjs_exec.v0+json": {
       "id": "2323"
      }
     },
     "output_type": "display_data"
    }
   ],
   "source": [
    "# Literacy rate, youth female (% of females ages 15-24)\n",
    "years = list(map(str, list(range(2011,2018))))\n",
    "result = show_weighted_average(years, 'SE.ADT.1524.LT.FE.ZS', 'SP.POP.TOTL', \n",
    "                               ['LDCs', 'Developing excluding LDCs', 'UMICs'])"
   ]
  },
  {
   "cell_type": "code",
   "execution_count": 9,
   "metadata": {},
   "outputs": [
    {
     "data": {
      "text/html": [
       "\n",
       "\n",
       "\n",
       "\n",
       "\n",
       "\n",
       "  <div class=\"bk-root\" id=\"b337435b-44f4-452d-bae2-7f38a4c042e0\" data-root-id=\"2584\"></div>\n"
      ]
     },
     "metadata": {},
     "output_type": "display_data"
    },
    {
     "data": {
      "application/javascript": [
       "(function(root) {\n",
       "  function embed_document(root) {\n",
       "    \n",
       "  var docs_json = {\"20b6e757-1fad-4518-bc38-f4c142f48820\":{\"roots\":{\"references\":[{\"attributes\":{\"below\":[{\"id\":\"2595\",\"type\":\"LinearAxis\"}],\"center\":[{\"id\":\"2599\",\"type\":\"Grid\"},{\"id\":\"2604\",\"type\":\"Grid\"},{\"id\":\"2629\",\"type\":\"Legend\"}],\"left\":[{\"id\":\"2600\",\"type\":\"LinearAxis\"}],\"plot_height\":400,\"plot_width\":950,\"renderers\":[{\"id\":\"2621\",\"type\":\"GlyphRenderer\"},{\"id\":\"2634\",\"type\":\"GlyphRenderer\"},{\"id\":\"2639\",\"type\":\"GlyphRenderer\"},{\"id\":\"2655\",\"type\":\"GlyphRenderer\"}],\"title\":{\"id\":\"2585\",\"type\":\"Title\"},\"toolbar\":{\"id\":\"2611\",\"type\":\"Toolbar\"},\"x_range\":{\"id\":\"2587\",\"type\":\"DataRange1d\"},\"x_scale\":{\"id\":\"2591\",\"type\":\"LinearScale\"},\"y_range\":{\"id\":\"2589\",\"type\":\"DataRange1d\"},\"y_scale\":{\"id\":\"2593\",\"type\":\"LinearScale\"}},\"id\":\"2584\",\"subtype\":\"Figure\",\"type\":\"Plot\"},{\"attributes\":{},\"id\":\"2609\",\"type\":\"ResetTool\"},{\"attributes\":{\"fill_color\":{\"value\":\"red\"},\"line_color\":{\"value\":\"red\"},\"line_width\":{\"value\":3},\"x\":{\"field\":\"x\"},\"y\":{\"field\":\"y\"}},\"id\":\"2632\",\"type\":\"Circle\"},{\"attributes\":{\"fill_alpha\":{\"value\":0.1},\"fill_color\":{\"value\":\"#1f77b4\"},\"line_alpha\":{\"value\":0.1},\"line_color\":{\"value\":\"#1f77b4\"},\"line_width\":{\"value\":3},\"x\":{\"field\":\"x\"},\"y\":{\"field\":\"y\"}},\"id\":\"2633\",\"type\":\"Circle\"},{\"attributes\":{\"items\":[{\"id\":\"2630\",\"type\":\"LegendItem\"},{\"id\":\"2651\",\"type\":\"LegendItem\"}],\"location\":\"bottom_left\"},\"id\":\"2629\",\"type\":\"Legend\"},{\"attributes\":{\"callback\":null,\"data\":{\"x\":[\"2011\",\"2012\",\"2013\",\"2014\",\"2015\",\"2016\",\"2017\"],\"y\":[92.16019298807788,94.37168223840837,92.90217775217923,95.33335755824594,98.97521989087501,99.11517515407336,94.01304618557775]},\"selected\":{\"id\":\"2772\",\"type\":\"Selection\"},\"selection_policy\":{\"id\":\"2773\",\"type\":\"UnionRenderers\"}},\"id\":\"2652\",\"type\":\"ColumnDataSource\"},{\"attributes\":{\"callback\":null,\"tooltips\":\"\\n        <div style=padding=5px>Year:@x</div>\\n        <div style=padding=5px>Value:@y</div>\\n        \"},\"id\":\"2657\",\"type\":\"HoverTool\"},{\"attributes\":{\"callback\":null,\"data\":{\"x\":[\"2011\",\"2012\",\"2013\",\"2014\",\"2015\",\"2016\",\"2017\"],\"y\":[75.02611752268099,80.00946290801379,81.31988745347162,81.49752595333796,82.45513767129684,87.36621553878946,83.10410581112856]},\"selected\":{\"id\":\"2646\",\"type\":\"Selection\"},\"selection_policy\":{\"id\":\"2647\",\"type\":\"UnionRenderers\"}},\"id\":\"2618\",\"type\":\"ColumnDataSource\"},{\"attributes\":{\"label\":{\"value\":\"LDCs\"},\"renderers\":[{\"id\":\"2621\",\"type\":\"GlyphRenderer\"}]},\"id\":\"2630\",\"type\":\"LegendItem\"},{\"attributes\":{\"fill_color\":{\"value\":\"blue\"},\"line_color\":{\"value\":\"blue\"},\"line_width\":{\"value\":3},\"x\":{\"field\":\"x\"},\"y\":{\"field\":\"y\"}},\"id\":\"2653\",\"type\":\"Circle\"},{\"attributes\":{},\"id\":\"2605\",\"type\":\"PanTool\"},{\"attributes\":{\"line_alpha\":0.1,\"line_color\":\"#1f77b4\",\"line_width\":2,\"x\":{\"field\":\"x\"},\"y\":{\"field\":\"y\"}},\"id\":\"2620\",\"type\":\"Line\"},{\"attributes\":{\"callback\":null,\"data\":{\"x\":[\"2011\",\"2012\",\"2013\",\"2014\",\"2015\",\"2016\",\"2017\"],\"y\":[75.02611752268099,80.00946290801379,81.31988745347162,81.49752595333796,82.45513767129684,87.36621553878946,83.10410581112856]},\"selected\":{\"id\":\"2648\",\"type\":\"Selection\"},\"selection_policy\":{\"id\":\"2649\",\"type\":\"UnionRenderers\"}},\"id\":\"2631\",\"type\":\"ColumnDataSource\"},{\"attributes\":{\"fill_alpha\":{\"value\":0.1},\"fill_color\":{\"value\":\"#1f77b4\"},\"line_alpha\":{\"value\":0.1},\"line_color\":{\"value\":\"#1f77b4\"},\"line_width\":{\"value\":3},\"x\":{\"field\":\"x\"},\"y\":{\"field\":\"y\"}},\"id\":\"2654\",\"type\":\"Circle\"},{\"attributes\":{},\"id\":\"2606\",\"type\":\"WheelZoomTool\"},{\"attributes\":{},\"id\":\"2648\",\"type\":\"Selection\"},{\"attributes\":{},\"id\":\"2601\",\"type\":\"BasicTicker\"},{\"attributes\":{},\"id\":\"2627\",\"type\":\"BasicTickFormatter\"},{\"attributes\":{\"line_alpha\":0.1,\"line_color\":\"#1f77b4\",\"line_width\":2,\"x\":{\"field\":\"x\"},\"y\":{\"field\":\"y\"}},\"id\":\"2638\",\"type\":\"Line\"},{\"attributes\":{},\"id\":\"2649\",\"type\":\"UnionRenderers\"},{\"attributes\":{\"dimension\":1,\"ticker\":{\"id\":\"2601\",\"type\":\"BasicTicker\"}},\"id\":\"2604\",\"type\":\"Grid\"},{\"attributes\":{\"bottom_units\":\"screen\",\"fill_alpha\":{\"value\":0.5},\"fill_color\":{\"value\":\"lightgrey\"},\"left_units\":\"screen\",\"level\":\"overlay\",\"line_alpha\":{\"value\":1.0},\"line_color\":{\"value\":\"black\"},\"line_dash\":[4,4],\"line_width\":{\"value\":2},\"render_mode\":\"css\",\"right_units\":\"screen\",\"top_units\":\"screen\"},\"id\":\"2628\",\"type\":\"BoxAnnotation\"},{\"attributes\":{\"label\":{\"value\":\"Developing excluding LDCs\"},\"renderers\":[{\"id\":\"2639\",\"type\":\"GlyphRenderer\"}]},\"id\":\"2651\",\"type\":\"LegendItem\"},{\"attributes\":{\"line_color\":\"red\",\"line_width\":2,\"x\":{\"field\":\"x\"},\"y\":{\"field\":\"y\"}},\"id\":\"2619\",\"type\":\"Line\"},{\"attributes\":{\"data_source\":{\"id\":\"2618\",\"type\":\"ColumnDataSource\"},\"glyph\":{\"id\":\"2619\",\"type\":\"Line\"},\"hover_glyph\":null,\"muted_glyph\":null,\"nonselection_glyph\":{\"id\":\"2620\",\"type\":\"Line\"},\"selection_glyph\":null,\"view\":{\"id\":\"2622\",\"type\":\"CDSView\"}},\"id\":\"2621\",\"type\":\"GlyphRenderer\"},{\"attributes\":{\"ticker\":{\"id\":\"2596\",\"type\":\"BasicTicker\"}},\"id\":\"2599\",\"type\":\"Grid\"},{\"attributes\":{\"source\":{\"id\":\"2636\",\"type\":\"ColumnDataSource\"}},\"id\":\"2640\",\"type\":\"CDSView\"},{\"attributes\":{\"line_color\":\"blue\",\"line_width\":2,\"x\":{\"field\":\"x\"},\"y\":{\"field\":\"y\"}},\"id\":\"2637\",\"type\":\"Line\"},{\"attributes\":{\"source\":{\"id\":\"2618\",\"type\":\"ColumnDataSource\"}},\"id\":\"2622\",\"type\":\"CDSView\"},{\"attributes\":{\"callback\":null,\"data\":{\"x\":[\"2011\",\"2012\",\"2013\",\"2014\",\"2015\",\"2016\",\"2017\"],\"y\":[92.16019298807788,94.37168223840837,92.90217775217923,95.33335755824594,98.97521989087501,99.11517515407336,94.01304618557775]},\"selected\":{\"id\":\"2770\",\"type\":\"Selection\"},\"selection_policy\":{\"id\":\"2771\",\"type\":\"UnionRenderers\"}},\"id\":\"2636\",\"type\":\"ColumnDataSource\"},{\"attributes\":{},\"id\":\"2625\",\"type\":\"BasicTickFormatter\"},{\"attributes\":{\"axis_label\":\"Percentage\",\"formatter\":{\"id\":\"2625\",\"type\":\"BasicTickFormatter\"},\"ticker\":{\"id\":\"2601\",\"type\":\"BasicTicker\"}},\"id\":\"2600\",\"type\":\"LinearAxis\"},{\"attributes\":{},\"id\":\"2593\",\"type\":\"LinearScale\"},{\"attributes\":{},\"id\":\"2610\",\"type\":\"HelpTool\"},{\"attributes\":{},\"id\":\"2773\",\"type\":\"UnionRenderers\"},{\"attributes\":{\"axis_label\":\"Years\",\"formatter\":{\"id\":\"2627\",\"type\":\"BasicTickFormatter\"},\"ticker\":{\"id\":\"2596\",\"type\":\"BasicTicker\"}},\"id\":\"2595\",\"type\":\"LinearAxis\"},{\"attributes\":{\"active_drag\":\"auto\",\"active_inspect\":\"auto\",\"active_multi\":null,\"active_scroll\":\"auto\",\"active_tap\":\"auto\",\"tools\":[{\"id\":\"2605\",\"type\":\"PanTool\"},{\"id\":\"2606\",\"type\":\"WheelZoomTool\"},{\"id\":\"2607\",\"type\":\"BoxZoomTool\"},{\"id\":\"2608\",\"type\":\"SaveTool\"},{\"id\":\"2609\",\"type\":\"ResetTool\"},{\"id\":\"2610\",\"type\":\"HelpTool\"},{\"id\":\"2657\",\"type\":\"HoverTool\"}]},\"id\":\"2611\",\"type\":\"Toolbar\"},{\"attributes\":{},\"id\":\"2596\",\"type\":\"BasicTicker\"},{\"attributes\":{},\"id\":\"2608\",\"type\":\"SaveTool\"},{\"attributes\":{\"callback\":null},\"id\":\"2587\",\"type\":\"DataRange1d\"},{\"attributes\":{},\"id\":\"2770\",\"type\":\"Selection\"},{\"attributes\":{\"callback\":null},\"id\":\"2589\",\"type\":\"DataRange1d\"},{\"attributes\":{\"source\":{\"id\":\"2631\",\"type\":\"ColumnDataSource\"}},\"id\":\"2635\",\"type\":\"CDSView\"},{\"attributes\":{},\"id\":\"2771\",\"type\":\"UnionRenderers\"},{\"attributes\":{},\"id\":\"2591\",\"type\":\"LinearScale\"},{\"attributes\":{},\"id\":\"2646\",\"type\":\"Selection\"},{\"attributes\":{},\"id\":\"2772\",\"type\":\"Selection\"},{\"attributes\":{\"data_source\":{\"id\":\"2631\",\"type\":\"ColumnDataSource\"},\"glyph\":{\"id\":\"2632\",\"type\":\"Circle\"},\"hover_glyph\":null,\"muted_glyph\":null,\"nonselection_glyph\":{\"id\":\"2633\",\"type\":\"Circle\"},\"selection_glyph\":null,\"view\":{\"id\":\"2635\",\"type\":\"CDSView\"}},\"id\":\"2634\",\"type\":\"GlyphRenderer\"},{\"attributes\":{},\"id\":\"2647\",\"type\":\"UnionRenderers\"},{\"attributes\":{\"data_source\":{\"id\":\"2652\",\"type\":\"ColumnDataSource\"},\"glyph\":{\"id\":\"2653\",\"type\":\"Circle\"},\"hover_glyph\":null,\"muted_glyph\":null,\"nonselection_glyph\":{\"id\":\"2654\",\"type\":\"Circle\"},\"selection_glyph\":null,\"view\":{\"id\":\"2656\",\"type\":\"CDSView\"}},\"id\":\"2655\",\"type\":\"GlyphRenderer\"},{\"attributes\":{\"overlay\":{\"id\":\"2628\",\"type\":\"BoxAnnotation\"}},\"id\":\"2607\",\"type\":\"BoxZoomTool\"},{\"attributes\":{\"data_source\":{\"id\":\"2636\",\"type\":\"ColumnDataSource\"},\"glyph\":{\"id\":\"2637\",\"type\":\"Line\"},\"hover_glyph\":null,\"muted_glyph\":null,\"nonselection_glyph\":{\"id\":\"2638\",\"type\":\"Line\"},\"selection_glyph\":null,\"view\":{\"id\":\"2640\",\"type\":\"CDSView\"}},\"id\":\"2639\",\"type\":\"GlyphRenderer\"},{\"attributes\":{\"text\":\"Literacy rate, youth male (% of males ages 15-24) weighted against Population, total\"},\"id\":\"2585\",\"type\":\"Title\"},{\"attributes\":{\"source\":{\"id\":\"2652\",\"type\":\"ColumnDataSource\"}},\"id\":\"2656\",\"type\":\"CDSView\"}],\"root_ids\":[\"2584\"]},\"title\":\"Bokeh Application\",\"version\":\"1.3.4\"}};\n",
       "  var render_items = [{\"docid\":\"20b6e757-1fad-4518-bc38-f4c142f48820\",\"roots\":{\"2584\":\"b337435b-44f4-452d-bae2-7f38a4c042e0\"}}];\n",
       "  root.Bokeh.embed.embed_items_notebook(docs_json, render_items);\n",
       "\n",
       "  }\n",
       "  if (root.Bokeh !== undefined) {\n",
       "    embed_document(root);\n",
       "  } else {\n",
       "    var attempts = 0;\n",
       "    var timer = setInterval(function(root) {\n",
       "      if (root.Bokeh !== undefined) {\n",
       "        embed_document(root);\n",
       "        clearInterval(timer);\n",
       "      }\n",
       "      attempts++;\n",
       "      if (attempts > 100) {\n",
       "        console.log(\"Bokeh: ERROR: Unable to run BokehJS code because BokehJS library is missing\");\n",
       "        clearInterval(timer);\n",
       "      }\n",
       "    }, 10, root)\n",
       "  }\n",
       "})(window);"
      ],
      "application/vnd.bokehjs_exec.v0+json": ""
     },
     "metadata": {
      "application/vnd.bokehjs_exec.v0+json": {
       "id": "2584"
      }
     },
     "output_type": "display_data"
    }
   ],
   "source": [
    "# Literacy rate, youth male (% of male ages 15-24)\n",
    "result = show_weighted_average(years, 'SE.ADT.1524.LT.MA.ZS', 'SP.POP.TOTL', \n",
    "                               ['LDCs', 'Developing excluding LDCs', 'UMICs'])"
   ]
  },
  {
   "cell_type": "code",
   "execution_count": 10,
   "metadata": {},
   "outputs": [
    {
     "data": {
      "text/html": [
       "\n",
       "\n",
       "\n",
       "\n",
       "\n",
       "\n",
       "  <div class=\"bk-root\" id=\"68b3279a-6323-4209-937a-387b46d2cbc4\" data-root-id=\"2859\"></div>\n"
      ]
     },
     "metadata": {},
     "output_type": "display_data"
    },
    {
     "data": {
      "application/javascript": [
       "(function(root) {\n",
       "  function embed_document(root) {\n",
       "    \n",
       "  var docs_json = {\"56352f41-70d0-4f4a-98c9-206f8aaefb75\":{\"roots\":{\"references\":[{\"attributes\":{\"below\":[{\"id\":\"2870\",\"type\":\"LinearAxis\"}],\"center\":[{\"id\":\"2874\",\"type\":\"Grid\"},{\"id\":\"2879\",\"type\":\"Grid\"},{\"id\":\"2904\",\"type\":\"Legend\"}],\"left\":[{\"id\":\"2875\",\"type\":\"LinearAxis\"}],\"plot_height\":400,\"plot_width\":950,\"renderers\":[{\"id\":\"2896\",\"type\":\"GlyphRenderer\"},{\"id\":\"2909\",\"type\":\"GlyphRenderer\"},{\"id\":\"2914\",\"type\":\"GlyphRenderer\"},{\"id\":\"2930\",\"type\":\"GlyphRenderer\"}],\"title\":{\"id\":\"2860\",\"type\":\"Title\"},\"toolbar\":{\"id\":\"2886\",\"type\":\"Toolbar\"},\"x_range\":{\"id\":\"2862\",\"type\":\"DataRange1d\"},\"x_scale\":{\"id\":\"2866\",\"type\":\"LinearScale\"},\"y_range\":{\"id\":\"2864\",\"type\":\"DataRange1d\"},\"y_scale\":{\"id\":\"2868\",\"type\":\"LinearScale\"}},\"id\":\"2859\",\"subtype\":\"Figure\",\"type\":\"Plot\"},{\"attributes\":{},\"id\":\"3060\",\"type\":\"UnionRenderers\"},{\"attributes\":{\"callback\":null},\"id\":\"2862\",\"type\":\"DataRange1d\"},{\"attributes\":{},\"id\":\"2880\",\"type\":\"PanTool\"},{\"attributes\":{},\"id\":\"3061\",\"type\":\"Selection\"},{\"attributes\":{\"callback\":null,\"data\":{\"x\":[\"2010\",\"2011\",\"2012\",\"2013\",\"2014\"],\"y\":[23.513041688550018,26.0163518298774,28.653839513727956,29.991015174173807,34.20514037096847]},\"selected\":{\"id\":\"3059\",\"type\":\"Selection\"},\"selection_policy\":{\"id\":\"3060\",\"type\":\"UnionRenderers\"}},\"id\":\"2911\",\"type\":\"ColumnDataSource\"},{\"attributes\":{\"data_source\":{\"id\":\"2893\",\"type\":\"ColumnDataSource\"},\"glyph\":{\"id\":\"2894\",\"type\":\"Line\"},\"hover_glyph\":null,\"muted_glyph\":null,\"nonselection_glyph\":{\"id\":\"2895\",\"type\":\"Line\"},\"selection_glyph\":null,\"view\":{\"id\":\"2897\",\"type\":\"CDSView\"}},\"id\":\"2896\",\"type\":\"GlyphRenderer\"},{\"attributes\":{\"callback\":null,\"tooltips\":\"\\n        <div style=padding=5px>Year:@x</div>\\n        <div style=padding=5px>Value:@y</div>\\n        \"},\"id\":\"2932\",\"type\":\"HoverTool\"},{\"attributes\":{},\"id\":\"3062\",\"type\":\"UnionRenderers\"},{\"attributes\":{\"line_color\":\"blue\",\"line_width\":2,\"x\":{\"field\":\"x\"},\"y\":{\"field\":\"y\"}},\"id\":\"2912\",\"type\":\"Line\"},{\"attributes\":{\"line_alpha\":0.1,\"line_color\":\"#1f77b4\",\"line_width\":2,\"x\":{\"field\":\"x\"},\"y\":{\"field\":\"y\"}},\"id\":\"2913\",\"type\":\"Line\"},{\"attributes\":{},\"id\":\"2881\",\"type\":\"WheelZoomTool\"},{\"attributes\":{},\"id\":\"2883\",\"type\":\"SaveTool\"},{\"attributes\":{\"data_source\":{\"id\":\"2911\",\"type\":\"ColumnDataSource\"},\"glyph\":{\"id\":\"2912\",\"type\":\"Line\"},\"hover_glyph\":null,\"muted_glyph\":null,\"nonselection_glyph\":{\"id\":\"2913\",\"type\":\"Line\"},\"selection_glyph\":null,\"view\":{\"id\":\"2915\",\"type\":\"CDSView\"}},\"id\":\"2914\",\"type\":\"GlyphRenderer\"},{\"attributes\":{\"line_color\":\"red\",\"line_width\":2,\"x\":{\"field\":\"x\"},\"y\":{\"field\":\"y\"}},\"id\":\"2894\",\"type\":\"Line\"},{\"attributes\":{\"overlay\":{\"id\":\"2903\",\"type\":\"BoxAnnotation\"}},\"id\":\"2882\",\"type\":\"BoxZoomTool\"},{\"attributes\":{\"source\":{\"id\":\"2911\",\"type\":\"ColumnDataSource\"}},\"id\":\"2915\",\"type\":\"CDSView\"},{\"attributes\":{},\"id\":\"2884\",\"type\":\"ResetTool\"},{\"attributes\":{\"line_alpha\":0.1,\"line_color\":\"#1f77b4\",\"line_width\":2,\"x\":{\"field\":\"x\"},\"y\":{\"field\":\"y\"}},\"id\":\"2895\",\"type\":\"Line\"},{\"attributes\":{},\"id\":\"2921\",\"type\":\"Selection\"},{\"attributes\":{\"active_drag\":\"auto\",\"active_inspect\":\"auto\",\"active_multi\":null,\"active_scroll\":\"auto\",\"active_tap\":\"auto\",\"tools\":[{\"id\":\"2880\",\"type\":\"PanTool\"},{\"id\":\"2881\",\"type\":\"WheelZoomTool\"},{\"id\":\"2882\",\"type\":\"BoxZoomTool\"},{\"id\":\"2883\",\"type\":\"SaveTool\"},{\"id\":\"2884\",\"type\":\"ResetTool\"},{\"id\":\"2885\",\"type\":\"HelpTool\"},{\"id\":\"2932\",\"type\":\"HoverTool\"}]},\"id\":\"2886\",\"type\":\"Toolbar\"},{\"attributes\":{},\"id\":\"2922\",\"type\":\"UnionRenderers\"},{\"attributes\":{\"fill_alpha\":{\"value\":0.1},\"fill_color\":{\"value\":\"#1f77b4\"},\"line_alpha\":{\"value\":0.1},\"line_color\":{\"value\":\"#1f77b4\"},\"line_width\":{\"value\":3},\"x\":{\"field\":\"x\"},\"y\":{\"field\":\"y\"}},\"id\":\"2908\",\"type\":\"Circle\"},{\"attributes\":{},\"id\":\"2885\",\"type\":\"HelpTool\"},{\"attributes\":{\"text\":\"School enrollment, tertiary (% gross) weighted against Population, total\"},\"id\":\"2860\",\"type\":\"Title\"},{\"attributes\":{},\"id\":\"2923\",\"type\":\"Selection\"},{\"attributes\":{\"source\":{\"id\":\"2893\",\"type\":\"ColumnDataSource\"}},\"id\":\"2897\",\"type\":\"CDSView\"},{\"attributes\":{},\"id\":\"2866\",\"type\":\"LinearScale\"},{\"attributes\":{},\"id\":\"2924\",\"type\":\"UnionRenderers\"},{\"attributes\":{\"data_source\":{\"id\":\"2906\",\"type\":\"ColumnDataSource\"},\"glyph\":{\"id\":\"2907\",\"type\":\"Circle\"},\"hover_glyph\":null,\"muted_glyph\":null,\"nonselection_glyph\":{\"id\":\"2908\",\"type\":\"Circle\"},\"selection_glyph\":null,\"view\":{\"id\":\"2910\",\"type\":\"CDSView\"}},\"id\":\"2909\",\"type\":\"GlyphRenderer\"},{\"attributes\":{\"callback\":null},\"id\":\"2864\",\"type\":\"DataRange1d\"},{\"attributes\":{},\"id\":\"2900\",\"type\":\"BasicTickFormatter\"},{\"attributes\":{\"label\":{\"value\":\"Developing excluding LDCs\"},\"renderers\":[{\"id\":\"2914\",\"type\":\"GlyphRenderer\"}]},\"id\":\"2926\",\"type\":\"LegendItem\"},{\"attributes\":{},\"id\":\"2868\",\"type\":\"LinearScale\"},{\"attributes\":{\"callback\":null,\"data\":{\"x\":[\"2010\",\"2011\",\"2012\",\"2013\",\"2014\"],\"y\":[23.513041688550018,26.0163518298774,28.653839513727956,29.991015174173807,34.20514037096847]},\"selected\":{\"id\":\"3061\",\"type\":\"Selection\"},\"selection_policy\":{\"id\":\"3062\",\"type\":\"UnionRenderers\"}},\"id\":\"2927\",\"type\":\"ColumnDataSource\"},{\"attributes\":{\"source\":{\"id\":\"2906\",\"type\":\"ColumnDataSource\"}},\"id\":\"2910\",\"type\":\"CDSView\"},{\"attributes\":{},\"id\":\"2871\",\"type\":\"BasicTicker\"},{\"attributes\":{},\"id\":\"2902\",\"type\":\"BasicTickFormatter\"},{\"attributes\":{\"fill_color\":{\"value\":\"blue\"},\"line_color\":{\"value\":\"blue\"},\"line_width\":{\"value\":3},\"x\":{\"field\":\"x\"},\"y\":{\"field\":\"y\"}},\"id\":\"2928\",\"type\":\"Circle\"},{\"attributes\":{\"axis_label\":\"Years\",\"formatter\":{\"id\":\"2902\",\"type\":\"BasicTickFormatter\"},\"ticker\":{\"id\":\"2871\",\"type\":\"BasicTicker\"}},\"id\":\"2870\",\"type\":\"LinearAxis\"},{\"attributes\":{\"items\":[{\"id\":\"2905\",\"type\":\"LegendItem\"},{\"id\":\"2926\",\"type\":\"LegendItem\"}],\"location\":\"bottom_left\"},\"id\":\"2904\",\"type\":\"Legend\"},{\"attributes\":{\"fill_alpha\":{\"value\":0.1},\"fill_color\":{\"value\":\"#1f77b4\"},\"line_alpha\":{\"value\":0.1},\"line_color\":{\"value\":\"#1f77b4\"},\"line_width\":{\"value\":3},\"x\":{\"field\":\"x\"},\"y\":{\"field\":\"y\"}},\"id\":\"2929\",\"type\":\"Circle\"},{\"attributes\":{\"ticker\":{\"id\":\"2871\",\"type\":\"BasicTicker\"}},\"id\":\"2874\",\"type\":\"Grid\"},{\"attributes\":{\"bottom_units\":\"screen\",\"fill_alpha\":{\"value\":0.5},\"fill_color\":{\"value\":\"lightgrey\"},\"left_units\":\"screen\",\"level\":\"overlay\",\"line_alpha\":{\"value\":1.0},\"line_color\":{\"value\":\"black\"},\"line_dash\":[4,4],\"line_width\":{\"value\":2},\"render_mode\":\"css\",\"right_units\":\"screen\",\"top_units\":\"screen\"},\"id\":\"2903\",\"type\":\"BoxAnnotation\"},{\"attributes\":{\"data_source\":{\"id\":\"2927\",\"type\":\"ColumnDataSource\"},\"glyph\":{\"id\":\"2928\",\"type\":\"Circle\"},\"hover_glyph\":null,\"muted_glyph\":null,\"nonselection_glyph\":{\"id\":\"2929\",\"type\":\"Circle\"},\"selection_glyph\":null,\"view\":{\"id\":\"2931\",\"type\":\"CDSView\"}},\"id\":\"2930\",\"type\":\"GlyphRenderer\"},{\"attributes\":{},\"id\":\"2876\",\"type\":\"BasicTicker\"},{\"attributes\":{\"label\":{\"value\":\"LDCs\"},\"renderers\":[{\"id\":\"2896\",\"type\":\"GlyphRenderer\"}]},\"id\":\"2905\",\"type\":\"LegendItem\"},{\"attributes\":{\"source\":{\"id\":\"2927\",\"type\":\"ColumnDataSource\"}},\"id\":\"2931\",\"type\":\"CDSView\"},{\"attributes\":{\"axis_label\":\"Percentage\",\"formatter\":{\"id\":\"2900\",\"type\":\"BasicTickFormatter\"},\"ticker\":{\"id\":\"2876\",\"type\":\"BasicTicker\"}},\"id\":\"2875\",\"type\":\"LinearAxis\"},{\"attributes\":{\"fill_color\":{\"value\":\"red\"},\"line_color\":{\"value\":\"red\"},\"line_width\":{\"value\":3},\"x\":{\"field\":\"x\"},\"y\":{\"field\":\"y\"}},\"id\":\"2907\",\"type\":\"Circle\"},{\"attributes\":{\"dimension\":1,\"ticker\":{\"id\":\"2876\",\"type\":\"BasicTicker\"}},\"id\":\"2879\",\"type\":\"Grid\"},{\"attributes\":{\"callback\":null,\"data\":{\"x\":[\"2010\",\"2011\",\"2012\",\"2013\",\"2014\"],\"y\":[7.216305888899169,9.238597293740812,9.286933356659,8.843198313346274,10.341316695036003]},\"selected\":{\"id\":\"2923\",\"type\":\"Selection\"},\"selection_policy\":{\"id\":\"2924\",\"type\":\"UnionRenderers\"}},\"id\":\"2906\",\"type\":\"ColumnDataSource\"},{\"attributes\":{},\"id\":\"3059\",\"type\":\"Selection\"},{\"attributes\":{\"callback\":null,\"data\":{\"x\":[\"2010\",\"2011\",\"2012\",\"2013\",\"2014\"],\"y\":[7.216305888899169,9.238597293740812,9.286933356659,8.843198313346274,10.341316695036003]},\"selected\":{\"id\":\"2921\",\"type\":\"Selection\"},\"selection_policy\":{\"id\":\"2922\",\"type\":\"UnionRenderers\"}},\"id\":\"2893\",\"type\":\"ColumnDataSource\"}],\"root_ids\":[\"2859\"]},\"title\":\"Bokeh Application\",\"version\":\"1.3.4\"}};\n",
       "  var render_items = [{\"docid\":\"56352f41-70d0-4f4a-98c9-206f8aaefb75\",\"roots\":{\"2859\":\"68b3279a-6323-4209-937a-387b46d2cbc4\"}}];\n",
       "  root.Bokeh.embed.embed_items_notebook(docs_json, render_items);\n",
       "\n",
       "  }\n",
       "  if (root.Bokeh !== undefined) {\n",
       "    embed_document(root);\n",
       "  } else {\n",
       "    var attempts = 0;\n",
       "    var timer = setInterval(function(root) {\n",
       "      if (root.Bokeh !== undefined) {\n",
       "        embed_document(root);\n",
       "        clearInterval(timer);\n",
       "      }\n",
       "      attempts++;\n",
       "      if (attempts > 100) {\n",
       "        console.log(\"Bokeh: ERROR: Unable to run BokehJS code because BokehJS library is missing\");\n",
       "        clearInterval(timer);\n",
       "      }\n",
       "    }, 10, root)\n",
       "  }\n",
       "})(window);"
      ],
      "application/vnd.bokehjs_exec.v0+json": ""
     },
     "metadata": {
      "application/vnd.bokehjs_exec.v0+json": {
       "id": "2859"
      }
     },
     "output_type": "display_data"
    }
   ],
   "source": [
    "# School enrollment, tertiary\n",
    "years = list(map(str, list(range(2010,2015))))\n",
    "result = show_weighted_average(years, 'SE.TER.ENRR', 'SP.POP.TOTL', \n",
    "                               ['LDCs', 'Developing excluding LDCs', 'UMICs'])"
   ]
  },
  {
   "cell_type": "code",
   "execution_count": 11,
   "metadata": {},
   "outputs": [
    {
     "data": {
      "text/html": [
       "\n",
       "\n",
       "\n",
       "\n",
       "\n",
       "\n",
       "  <div class=\"bk-root\" id=\"b678d0f0-f581-4e9e-8673-e9350bae7091\" data-root-id=\"3148\"></div>\n"
      ]
     },
     "metadata": {},
     "output_type": "display_data"
    },
    {
     "data": {
      "application/javascript": [
       "(function(root) {\n",
       "  function embed_document(root) {\n",
       "    \n",
       "  var docs_json = {\"1a0bd711-a78e-4719-b18c-1e58b1c13b50\":{\"roots\":{\"references\":[{\"attributes\":{\"below\":[{\"id\":\"3159\",\"type\":\"LinearAxis\"}],\"center\":[{\"id\":\"3163\",\"type\":\"Grid\"},{\"id\":\"3168\",\"type\":\"Grid\"},{\"id\":\"3193\",\"type\":\"Legend\"}],\"left\":[{\"id\":\"3164\",\"type\":\"LinearAxis\"}],\"plot_height\":400,\"plot_width\":950,\"renderers\":[{\"id\":\"3185\",\"type\":\"GlyphRenderer\"},{\"id\":\"3198\",\"type\":\"GlyphRenderer\"},{\"id\":\"3203\",\"type\":\"GlyphRenderer\"},{\"id\":\"3219\",\"type\":\"GlyphRenderer\"}],\"title\":{\"id\":\"3149\",\"type\":\"Title\"},\"toolbar\":{\"id\":\"3175\",\"type\":\"Toolbar\"},\"x_range\":{\"id\":\"3151\",\"type\":\"DataRange1d\"},\"x_scale\":{\"id\":\"3155\",\"type\":\"LinearScale\"},\"y_range\":{\"id\":\"3153\",\"type\":\"DataRange1d\"},\"y_scale\":{\"id\":\"3157\",\"type\":\"LinearScale\"}},\"id\":\"3148\",\"subtype\":\"Figure\",\"type\":\"Plot\"},{\"attributes\":{\"source\":{\"id\":\"3195\",\"type\":\"ColumnDataSource\"}},\"id\":\"3199\",\"type\":\"CDSView\"},{\"attributes\":{},\"id\":\"3363\",\"type\":\"UnionRenderers\"},{\"attributes\":{},\"id\":\"3211\",\"type\":\"UnionRenderers\"},{\"attributes\":{\"line_color\":\"red\",\"line_width\":2,\"x\":{\"field\":\"x\"},\"y\":{\"field\":\"y\"}},\"id\":\"3183\",\"type\":\"Line\"},{\"attributes\":{\"line_color\":\"blue\",\"line_width\":2,\"x\":{\"field\":\"x\"},\"y\":{\"field\":\"y\"}},\"id\":\"3201\",\"type\":\"Line\"},{\"attributes\":{\"callback\":null,\"tooltips\":\"\\n        <div style=padding=5px>Year:@x</div>\\n        <div style=padding=5px>Value:@y</div>\\n        \"},\"id\":\"3221\",\"type\":\"HoverTool\"},{\"attributes\":{},\"id\":\"3365\",\"type\":\"UnionRenderers\"},{\"attributes\":{\"text\":\"Pupil-teacher ratio, primary weighted against Population, total\"},\"id\":\"3149\",\"type\":\"Title\"},{\"attributes\":{\"fill_color\":{\"value\":\"red\"},\"line_color\":{\"value\":\"red\"},\"line_width\":{\"value\":3},\"x\":{\"field\":\"x\"},\"y\":{\"field\":\"y\"}},\"id\":\"3196\",\"type\":\"Circle\"},{\"attributes\":{\"source\":{\"id\":\"3216\",\"type\":\"ColumnDataSource\"}},\"id\":\"3220\",\"type\":\"CDSView\"},{\"attributes\":{\"axis_label\":\"Percentage\",\"formatter\":{\"id\":\"3189\",\"type\":\"BasicTickFormatter\"},\"ticker\":{\"id\":\"3165\",\"type\":\"BasicTicker\"}},\"id\":\"3164\",\"type\":\"LinearAxis\"},{\"attributes\":{\"data_source\":{\"id\":\"3200\",\"type\":\"ColumnDataSource\"},\"glyph\":{\"id\":\"3201\",\"type\":\"Line\"},\"hover_glyph\":null,\"muted_glyph\":null,\"nonselection_glyph\":{\"id\":\"3202\",\"type\":\"Line\"},\"selection_glyph\":null,\"view\":{\"id\":\"3204\",\"type\":\"CDSView\"}},\"id\":\"3203\",\"type\":\"GlyphRenderer\"},{\"attributes\":{\"data_source\":{\"id\":\"3195\",\"type\":\"ColumnDataSource\"},\"glyph\":{\"id\":\"3196\",\"type\":\"Circle\"},\"hover_glyph\":null,\"muted_glyph\":null,\"nonselection_glyph\":{\"id\":\"3197\",\"type\":\"Circle\"},\"selection_glyph\":null,\"view\":{\"id\":\"3199\",\"type\":\"CDSView\"}},\"id\":\"3198\",\"type\":\"GlyphRenderer\"},{\"attributes\":{\"active_drag\":\"auto\",\"active_inspect\":\"auto\",\"active_multi\":null,\"active_scroll\":\"auto\",\"active_tap\":\"auto\",\"tools\":[{\"id\":\"3169\",\"type\":\"PanTool\"},{\"id\":\"3170\",\"type\":\"WheelZoomTool\"},{\"id\":\"3171\",\"type\":\"BoxZoomTool\"},{\"id\":\"3172\",\"type\":\"SaveTool\"},{\"id\":\"3173\",\"type\":\"ResetTool\"},{\"id\":\"3174\",\"type\":\"HelpTool\"},{\"id\":\"3221\",\"type\":\"HoverTool\"}]},\"id\":\"3175\",\"type\":\"Toolbar\"},{\"attributes\":{},\"id\":\"3362\",\"type\":\"Selection\"},{\"attributes\":{\"dimension\":1,\"ticker\":{\"id\":\"3165\",\"type\":\"BasicTicker\"}},\"id\":\"3168\",\"type\":\"Grid\"},{\"attributes\":{\"items\":[{\"id\":\"3194\",\"type\":\"LegendItem\"},{\"id\":\"3215\",\"type\":\"LegendItem\"}],\"location\":\"bottom_left\"},\"id\":\"3193\",\"type\":\"Legend\"},{\"attributes\":{},\"id\":\"3174\",\"type\":\"HelpTool\"},{\"attributes\":{},\"id\":\"3160\",\"type\":\"BasicTicker\"},{\"attributes\":{\"fill_color\":{\"value\":\"blue\"},\"line_color\":{\"value\":\"blue\"},\"line_width\":{\"value\":3},\"x\":{\"field\":\"x\"},\"y\":{\"field\":\"y\"}},\"id\":\"3217\",\"type\":\"Circle\"},{\"attributes\":{\"callback\":null,\"data\":{\"x\":[\"2000\",\"2001\",\"2002\",\"2003\",\"2004\",\"2005\",\"2006\",\"2007\",\"2008\",\"2009\",\"2010\",\"2011\",\"2012\",\"2013\",\"2014\",\"2015\",\"2016\",\"2017\"],\"y\":[33.370051835559885,29.57702548330176,33.388901341061164,33.789125730263024,27.622887569846355,27.43513871906223,23.322003949314283,23.173937290806006,22.087389072731586,21.87034331925848,21.56849553016734,25.1902973461321,21.23626220970231,24.160800450151424,24.012498654781346,24.564505025797747,25.205451210762366,24.27522883303202]},\"selected\":{\"id\":\"3362\",\"type\":\"Selection\"},\"selection_policy\":{\"id\":\"3363\",\"type\":\"UnionRenderers\"}},\"id\":\"3200\",\"type\":\"ColumnDataSource\"},{\"attributes\":{\"ticker\":{\"id\":\"3160\",\"type\":\"BasicTicker\"}},\"id\":\"3163\",\"type\":\"Grid\"},{\"attributes\":{},\"id\":\"3364\",\"type\":\"Selection\"},{\"attributes\":{\"callback\":null,\"data\":{\"x\":[\"2000\",\"2001\",\"2002\",\"2003\",\"2004\",\"2005\",\"2006\",\"2007\",\"2008\",\"2009\",\"2010\",\"2011\",\"2012\",\"2013\",\"2014\",\"2015\",\"2016\",\"2017\"],\"y\":[51.520903177485685,46.52493990984674,45.72529764000698,47.0523349681254,48.04905957142995,48.073273979200536,46.88345337680238,45.37851355945308,47.5713037782683,46.94420318527923,44.98718519250169,45.977667340832,43.49825989518141,43.05048551129662,40.19878876980604,41.85413035115011,38.496722137935755,38.768702276413286]},\"selected\":{\"id\":\"3210\",\"type\":\"Selection\"},\"selection_policy\":{\"id\":\"3211\",\"type\":\"UnionRenderers\"}},\"id\":\"3182\",\"type\":\"ColumnDataSource\"},{\"attributes\":{\"callback\":null,\"data\":{\"x\":[\"2000\",\"2001\",\"2002\",\"2003\",\"2004\",\"2005\",\"2006\",\"2007\",\"2008\",\"2009\",\"2010\",\"2011\",\"2012\",\"2013\",\"2014\",\"2015\",\"2016\",\"2017\"],\"y\":[51.520903177485685,46.52493990984674,45.72529764000698,47.0523349681254,48.04905957142995,48.073273979200536,46.88345337680238,45.37851355945308,47.5713037782683,46.94420318527923,44.98718519250169,45.977667340832,43.49825989518141,43.05048551129662,40.19878876980604,41.85413035115011,38.496722137935755,38.768702276413286]},\"selected\":{\"id\":\"3212\",\"type\":\"Selection\"},\"selection_policy\":{\"id\":\"3213\",\"type\":\"UnionRenderers\"}},\"id\":\"3195\",\"type\":\"ColumnDataSource\"},{\"attributes\":{\"data_source\":{\"id\":\"3216\",\"type\":\"ColumnDataSource\"},\"glyph\":{\"id\":\"3217\",\"type\":\"Circle\"},\"hover_glyph\":null,\"muted_glyph\":null,\"nonselection_glyph\":{\"id\":\"3218\",\"type\":\"Circle\"},\"selection_glyph\":null,\"view\":{\"id\":\"3220\",\"type\":\"CDSView\"}},\"id\":\"3219\",\"type\":\"GlyphRenderer\"},{\"attributes\":{},\"id\":\"3213\",\"type\":\"UnionRenderers\"},{\"attributes\":{},\"id\":\"3173\",\"type\":\"ResetTool\"},{\"attributes\":{\"callback\":null},\"id\":\"3151\",\"type\":\"DataRange1d\"},{\"attributes\":{\"fill_alpha\":{\"value\":0.1},\"fill_color\":{\"value\":\"#1f77b4\"},\"line_alpha\":{\"value\":0.1},\"line_color\":{\"value\":\"#1f77b4\"},\"line_width\":{\"value\":3},\"x\":{\"field\":\"x\"},\"y\":{\"field\":\"y\"}},\"id\":\"3197\",\"type\":\"Circle\"},{\"attributes\":{},\"id\":\"3157\",\"type\":\"LinearScale\"},{\"attributes\":{},\"id\":\"3165\",\"type\":\"BasicTicker\"},{\"attributes\":{},\"id\":\"3172\",\"type\":\"SaveTool\"},{\"attributes\":{\"bottom_units\":\"screen\",\"fill_alpha\":{\"value\":0.5},\"fill_color\":{\"value\":\"lightgrey\"},\"left_units\":\"screen\",\"level\":\"overlay\",\"line_alpha\":{\"value\":1.0},\"line_color\":{\"value\":\"black\"},\"line_dash\":[4,4],\"line_width\":{\"value\":2},\"render_mode\":\"css\",\"right_units\":\"screen\",\"top_units\":\"screen\"},\"id\":\"3192\",\"type\":\"BoxAnnotation\"},{\"attributes\":{\"axis_label\":\"Years\",\"formatter\":{\"id\":\"3191\",\"type\":\"BasicTickFormatter\"},\"ticker\":{\"id\":\"3160\",\"type\":\"BasicTicker\"}},\"id\":\"3159\",\"type\":\"LinearAxis\"},{\"attributes\":{\"callback\":null,\"data\":{\"x\":[\"2000\",\"2001\",\"2002\",\"2003\",\"2004\",\"2005\",\"2006\",\"2007\",\"2008\",\"2009\",\"2010\",\"2011\",\"2012\",\"2013\",\"2014\",\"2015\",\"2016\",\"2017\"],\"y\":[33.370051835559885,29.57702548330176,33.388901341061164,33.789125730263024,27.622887569846355,27.43513871906223,23.322003949314283,23.173937290806006,22.087389072731586,21.87034331925848,21.56849553016734,25.1902973461321,21.23626220970231,24.160800450151424,24.012498654781346,24.564505025797747,25.205451210762366,24.27522883303202]},\"selected\":{\"id\":\"3364\",\"type\":\"Selection\"},\"selection_policy\":{\"id\":\"3365\",\"type\":\"UnionRenderers\"}},\"id\":\"3216\",\"type\":\"ColumnDataSource\"},{\"attributes\":{\"data_source\":{\"id\":\"3182\",\"type\":\"ColumnDataSource\"},\"glyph\":{\"id\":\"3183\",\"type\":\"Line\"},\"hover_glyph\":null,\"muted_glyph\":null,\"nonselection_glyph\":{\"id\":\"3184\",\"type\":\"Line\"},\"selection_glyph\":null,\"view\":{\"id\":\"3186\",\"type\":\"CDSView\"}},\"id\":\"3185\",\"type\":\"GlyphRenderer\"},{\"attributes\":{},\"id\":\"3210\",\"type\":\"Selection\"},{\"attributes\":{\"source\":{\"id\":\"3182\",\"type\":\"ColumnDataSource\"}},\"id\":\"3186\",\"type\":\"CDSView\"},{\"attributes\":{\"label\":{\"value\":\"LDCs\"},\"renderers\":[{\"id\":\"3185\",\"type\":\"GlyphRenderer\"}]},\"id\":\"3194\",\"type\":\"LegendItem\"},{\"attributes\":{\"overlay\":{\"id\":\"3192\",\"type\":\"BoxAnnotation\"}},\"id\":\"3171\",\"type\":\"BoxZoomTool\"},{\"attributes\":{\"fill_alpha\":{\"value\":0.1},\"fill_color\":{\"value\":\"#1f77b4\"},\"line_alpha\":{\"value\":0.1},\"line_color\":{\"value\":\"#1f77b4\"},\"line_width\":{\"value\":3},\"x\":{\"field\":\"x\"},\"y\":{\"field\":\"y\"}},\"id\":\"3218\",\"type\":\"Circle\"},{\"attributes\":{},\"id\":\"3189\",\"type\":\"BasicTickFormatter\"},{\"attributes\":{\"callback\":null},\"id\":\"3153\",\"type\":\"DataRange1d\"},{\"attributes\":{},\"id\":\"3212\",\"type\":\"Selection\"},{\"attributes\":{},\"id\":\"3191\",\"type\":\"BasicTickFormatter\"},{\"attributes\":{},\"id\":\"3170\",\"type\":\"WheelZoomTool\"},{\"attributes\":{\"line_alpha\":0.1,\"line_color\":\"#1f77b4\",\"line_width\":2,\"x\":{\"field\":\"x\"},\"y\":{\"field\":\"y\"}},\"id\":\"3202\",\"type\":\"Line\"},{\"attributes\":{\"line_alpha\":0.1,\"line_color\":\"#1f77b4\",\"line_width\":2,\"x\":{\"field\":\"x\"},\"y\":{\"field\":\"y\"}},\"id\":\"3184\",\"type\":\"Line\"},{\"attributes\":{\"label\":{\"value\":\"Developing excluding LDCs\"},\"renderers\":[{\"id\":\"3203\",\"type\":\"GlyphRenderer\"}]},\"id\":\"3215\",\"type\":\"LegendItem\"},{\"attributes\":{},\"id\":\"3169\",\"type\":\"PanTool\"},{\"attributes\":{\"source\":{\"id\":\"3200\",\"type\":\"ColumnDataSource\"}},\"id\":\"3204\",\"type\":\"CDSView\"},{\"attributes\":{},\"id\":\"3155\",\"type\":\"LinearScale\"}],\"root_ids\":[\"3148\"]},\"title\":\"Bokeh Application\",\"version\":\"1.3.4\"}};\n",
       "  var render_items = [{\"docid\":\"1a0bd711-a78e-4719-b18c-1e58b1c13b50\",\"roots\":{\"3148\":\"b678d0f0-f581-4e9e-8673-e9350bae7091\"}}];\n",
       "  root.Bokeh.embed.embed_items_notebook(docs_json, render_items);\n",
       "\n",
       "  }\n",
       "  if (root.Bokeh !== undefined) {\n",
       "    embed_document(root);\n",
       "  } else {\n",
       "    var attempts = 0;\n",
       "    var timer = setInterval(function(root) {\n",
       "      if (root.Bokeh !== undefined) {\n",
       "        embed_document(root);\n",
       "        clearInterval(timer);\n",
       "      }\n",
       "      attempts++;\n",
       "      if (attempts > 100) {\n",
       "        console.log(\"Bokeh: ERROR: Unable to run BokehJS code because BokehJS library is missing\");\n",
       "        clearInterval(timer);\n",
       "      }\n",
       "    }, 10, root)\n",
       "  }\n",
       "})(window);"
      ],
      "application/vnd.bokehjs_exec.v0+json": ""
     },
     "metadata": {
      "application/vnd.bokehjs_exec.v0+json": {
       "id": "3148"
      }
     },
     "output_type": "display_data"
    }
   ],
   "source": [
    "# Pupil teacher ration\n",
    "years = list(map(str, list(range(2000,2018))))\n",
    "result = show_weighted_average(years, 'SE.PRM.ENRL.TC.ZS', 'SP.POP.TOTL', \n",
    "                               ['LDCs', 'Developing excluding LDCs'])"
   ]
  },
  {
   "cell_type": "code",
   "execution_count": 12,
   "metadata": {},
   "outputs": [
    {
     "data": {
      "text/html": [
       "\n",
       "\n",
       "\n",
       "\n",
       "\n",
       "\n",
       "  <div class=\"bk-root\" id=\"6e1effe7-7f78-436c-8b22-45529a09486d\" data-root-id=\"3451\"></div>\n"
      ]
     },
     "metadata": {},
     "output_type": "display_data"
    },
    {
     "data": {
      "application/javascript": [
       "(function(root) {\n",
       "  function embed_document(root) {\n",
       "    \n",
       "  var docs_json = {\"02604d09-a90d-4f67-be91-056b38753ff8\":{\"roots\":{\"references\":[{\"attributes\":{\"below\":[{\"id\":\"3462\",\"type\":\"LinearAxis\"}],\"center\":[{\"id\":\"3466\",\"type\":\"Grid\"},{\"id\":\"3471\",\"type\":\"Grid\"},{\"id\":\"3496\",\"type\":\"Legend\"}],\"left\":[{\"id\":\"3467\",\"type\":\"LinearAxis\"}],\"plot_height\":400,\"plot_width\":950,\"renderers\":[{\"id\":\"3488\",\"type\":\"GlyphRenderer\"},{\"id\":\"3501\",\"type\":\"GlyphRenderer\"},{\"id\":\"3506\",\"type\":\"GlyphRenderer\"},{\"id\":\"3522\",\"type\":\"GlyphRenderer\"},{\"id\":\"3527\",\"type\":\"GlyphRenderer\"},{\"id\":\"3547\",\"type\":\"GlyphRenderer\"}],\"title\":{\"id\":\"3452\",\"type\":\"Title\"},\"toolbar\":{\"id\":\"3478\",\"type\":\"Toolbar\"},\"x_range\":{\"id\":\"3454\",\"type\":\"DataRange1d\"},\"x_scale\":{\"id\":\"3458\",\"type\":\"LinearScale\"},\"y_range\":{\"id\":\"3456\",\"type\":\"DataRange1d\"},\"y_scale\":{\"id\":\"3460\",\"type\":\"LinearScale\"}},\"id\":\"3451\",\"subtype\":\"Figure\",\"type\":\"Plot\"},{\"attributes\":{\"dimension\":1,\"ticker\":{\"id\":\"3468\",\"type\":\"BasicTicker\"}},\"id\":\"3471\",\"type\":\"Grid\"},{\"attributes\":{\"data_source\":{\"id\":\"3498\",\"type\":\"ColumnDataSource\"},\"glyph\":{\"id\":\"3499\",\"type\":\"Circle\"},\"hover_glyph\":null,\"muted_glyph\":null,\"nonselection_glyph\":{\"id\":\"3500\",\"type\":\"Circle\"},\"selection_glyph\":null,\"view\":{\"id\":\"3502\",\"type\":\"CDSView\"}},\"id\":\"3501\",\"type\":\"GlyphRenderer\"},{\"attributes\":{\"fill_color\":{\"value\":\"blue\"},\"line_color\":{\"value\":\"blue\"},\"line_width\":{\"value\":3},\"x\":{\"field\":\"x\"},\"y\":{\"field\":\"y\"}},\"id\":\"3520\",\"type\":\"Circle\"},{\"attributes\":{\"axis_label\":\"Years\",\"formatter\":{\"id\":\"3494\",\"type\":\"BasicTickFormatter\"},\"ticker\":{\"id\":\"3463\",\"type\":\"BasicTicker\"}},\"id\":\"3462\",\"type\":\"LinearAxis\"},{\"attributes\":{\"callback\":null,\"data\":{\"x\":[\"2000\",\"2001\",\"2002\",\"2003\",\"2004\",\"2005\",\"2006\",\"2007\",\"2008\",\"2009\",\"2010\",\"2011\",\"2012\",\"2013\",\"2014\",\"2015\",\"2016\",\"2017\"],\"y\":[66.81116952985124,67.10136064960203,67.39534765279303,67.69191534513566,67.99394689200506,68.30220457476779,68.61903869781979,68.94325513186014,69.27457578712584,69.61247702715436,69.94342523785205,70.27284035315787,70.59362275978874,70.9030130494035,71.1981897682081,71.47010803591232,71.72046744475756,71.9516686920634]},\"selected\":{\"id\":\"3538\",\"type\":\"Selection\"},\"selection_policy\":{\"id\":\"3539\",\"type\":\"UnionRenderers\"}},\"id\":\"3503\",\"type\":\"ColumnDataSource\"},{\"attributes\":{\"callback\":null,\"data\":{\"x\":[\"2000\",\"2001\",\"2002\",\"2003\",\"2004\",\"2005\",\"2006\",\"2007\",\"2008\",\"2009\",\"2010\",\"2011\",\"2012\",\"2013\",\"2014\",\"2015\",\"2016\",\"2017\"],\"y\":[66.81116952985124,67.10136064960203,67.39534765279303,67.69191534513566,67.99394689200506,68.30220457476779,68.61903869781979,68.94325513186014,69.27457578712584,69.61247702715436,69.94342523785205,70.27284035315787,70.59362275978874,70.9030130494035,71.1981897682081,71.47010803591232,71.72046744475756,71.9516686920634]},\"selected\":{\"id\":\"3540\",\"type\":\"Selection\"},\"selection_policy\":{\"id\":\"3541\",\"type\":\"UnionRenderers\"}},\"id\":\"3519\",\"type\":\"ColumnDataSource\"},{\"attributes\":{},\"id\":\"3463\",\"type\":\"BasicTicker\"},{\"attributes\":{\"source\":{\"id\":\"3498\",\"type\":\"ColumnDataSource\"}},\"id\":\"3502\",\"type\":\"CDSView\"},{\"attributes\":{},\"id\":\"3468\",\"type\":\"BasicTicker\"},{\"attributes\":{\"label\":{\"value\":\"OECD\"},\"renderers\":[{\"id\":\"3527\",\"type\":\"GlyphRenderer\"}]},\"id\":\"3543\",\"type\":\"LegendItem\"},{\"attributes\":{\"callback\":null},\"id\":\"3456\",\"type\":\"DataRange1d\"},{\"attributes\":{\"fill_color\":{\"value\":\"red\"},\"line_color\":{\"value\":\"red\"},\"line_width\":{\"value\":3},\"x\":{\"field\":\"x\"},\"y\":{\"field\":\"y\"}},\"id\":\"3499\",\"type\":\"Circle\"},{\"attributes\":{},\"id\":\"3516\",\"type\":\"UnionRenderers\"},{\"attributes\":{\"fill_color\":{\"value\":\"green\"},\"line_color\":{\"value\":\"green\"},\"line_width\":{\"value\":3},\"x\":{\"field\":\"x\"},\"y\":{\"field\":\"y\"}},\"id\":\"3545\",\"type\":\"Circle\"},{\"attributes\":{},\"id\":\"3458\",\"type\":\"LinearScale\"},{\"attributes\":{\"callback\":null,\"data\":{\"x\":[\"2000\",\"2001\",\"2002\",\"2003\",\"2004\",\"2005\",\"2006\",\"2007\",\"2008\",\"2009\",\"2010\",\"2011\",\"2012\",\"2013\",\"2014\",\"2015\",\"2016\",\"2017\"],\"y\":[55.47978614999483,55.975732696938344,56.50274815798361,57.06108266122101,57.646781535993426,58.25570477828153,58.88310509569853,59.52027856066717,60.15664526899239,60.78301466742689,61.388933701289815,61.967425120830384,62.51265697725478,63.02794492847264,63.50655894613865,63.94522390318217,64.34308028696678,64.70484741974481]},\"selected\":{\"id\":\"3515\",\"type\":\"Selection\"},\"selection_policy\":{\"id\":\"3516\",\"type\":\"UnionRenderers\"}},\"id\":\"3498\",\"type\":\"ColumnDataSource\"},{\"attributes\":{\"callback\":null,\"data\":{\"x\":[\"2000\",\"2001\",\"2002\",\"2003\",\"2004\",\"2005\",\"2006\",\"2007\",\"2008\",\"2009\",\"2010\",\"2011\",\"2012\",\"2013\",\"2014\",\"2015\",\"2016\",\"2017\"],\"y\":[77.07712560169232,77.38833297513385,77.54776037882743,77.69654179560608,78.09938587502181,78.21736324644525,78.50714525876474,78.73135260844114,78.87486015871855,79.13132827194039,79.3009215024766,79.53231619249463,79.64498856482149,79.80818222814423,80.05654259453199,79.94678663973315,80.09864354689779,80.15042257303583]},\"selected\":{\"id\":\"3710\",\"type\":\"Selection\"},\"selection_policy\":{\"id\":\"3711\",\"type\":\"UnionRenderers\"}},\"id\":\"3544\",\"type\":\"ColumnDataSource\"},{\"attributes\":{},\"id\":\"3515\",\"type\":\"Selection\"},{\"attributes\":{\"axis_label\":\"Percentage\",\"formatter\":{\"id\":\"3492\",\"type\":\"BasicTickFormatter\"},\"ticker\":{\"id\":\"3468\",\"type\":\"BasicTicker\"}},\"id\":\"3467\",\"type\":\"LinearAxis\"},{\"attributes\":{},\"id\":\"3460\",\"type\":\"LinearScale\"},{\"attributes\":{\"fill_alpha\":{\"value\":0.1},\"fill_color\":{\"value\":\"#1f77b4\"},\"line_alpha\":{\"value\":0.1},\"line_color\":{\"value\":\"#1f77b4\"},\"line_width\":{\"value\":3},\"x\":{\"field\":\"x\"},\"y\":{\"field\":\"y\"}},\"id\":\"3500\",\"type\":\"Circle\"},{\"attributes\":{},\"id\":\"3539\",\"type\":\"UnionRenderers\"},{\"attributes\":{},\"id\":\"3514\",\"type\":\"UnionRenderers\"},{\"attributes\":{\"bottom_units\":\"screen\",\"fill_alpha\":{\"value\":0.5},\"fill_color\":{\"value\":\"lightgrey\"},\"left_units\":\"screen\",\"level\":\"overlay\",\"line_alpha\":{\"value\":1.0},\"line_color\":{\"value\":\"black\"},\"line_dash\":[4,4],\"line_width\":{\"value\":2},\"render_mode\":\"css\",\"right_units\":\"screen\",\"top_units\":\"screen\"},\"id\":\"3495\",\"type\":\"BoxAnnotation\"},{\"attributes\":{},\"id\":\"3541\",\"type\":\"UnionRenderers\"},{\"attributes\":{\"fill_alpha\":{\"value\":0.1},\"fill_color\":{\"value\":\"#1f77b4\"},\"line_alpha\":{\"value\":0.1},\"line_color\":{\"value\":\"#1f77b4\"},\"line_width\":{\"value\":3},\"x\":{\"field\":\"x\"},\"y\":{\"field\":\"y\"}},\"id\":\"3546\",\"type\":\"Circle\"},{\"attributes\":{\"ticker\":{\"id\":\"3463\",\"type\":\"BasicTicker\"}},\"id\":\"3466\",\"type\":\"Grid\"},{\"attributes\":{\"items\":[{\"id\":\"3497\",\"type\":\"LegendItem\"},{\"id\":\"3518\",\"type\":\"LegendItem\"},{\"id\":\"3543\",\"type\":\"LegendItem\"}],\"location\":\"bottom_left\"},\"id\":\"3496\",\"type\":\"Legend\"},{\"attributes\":{\"text\":\"Life expectancy at birth, total (years) weighted against Population, total\"},\"id\":\"3452\",\"type\":\"Title\"},{\"attributes\":{\"callback\":null,\"tooltips\":\"\\n        <div style=padding=5px>Year:@x</div>\\n        <div style=padding=5px>Value:@y</div>\\n        \"},\"id\":\"3549\",\"type\":\"HoverTool\"},{\"attributes\":{},\"id\":\"3711\",\"type\":\"UnionRenderers\"},{\"attributes\":{},\"id\":\"3540\",\"type\":\"Selection\"},{\"attributes\":{\"callback\":null},\"id\":\"3454\",\"type\":\"DataRange1d\"},{\"attributes\":{\"label\":{\"value\":\"LDCs\"},\"renderers\":[{\"id\":\"3488\",\"type\":\"GlyphRenderer\"}]},\"id\":\"3497\",\"type\":\"LegendItem\"},{\"attributes\":{\"overlay\":{\"id\":\"3495\",\"type\":\"BoxAnnotation\"}},\"id\":\"3474\",\"type\":\"BoxZoomTool\"},{\"attributes\":{},\"id\":\"3513\",\"type\":\"Selection\"},{\"attributes\":{\"data_source\":{\"id\":\"3524\",\"type\":\"ColumnDataSource\"},\"glyph\":{\"id\":\"3525\",\"type\":\"Line\"},\"hover_glyph\":null,\"muted_glyph\":null,\"nonselection_glyph\":{\"id\":\"3526\",\"type\":\"Line\"},\"selection_glyph\":null,\"view\":{\"id\":\"3528\",\"type\":\"CDSView\"}},\"id\":\"3527\",\"type\":\"GlyphRenderer\"},{\"attributes\":{},\"id\":\"3492\",\"type\":\"BasicTickFormatter\"},{\"attributes\":{},\"id\":\"3538\",\"type\":\"Selection\"},{\"attributes\":{},\"id\":\"3473\",\"type\":\"WheelZoomTool\"},{\"attributes\":{},\"id\":\"3708\",\"type\":\"Selection\"},{\"attributes\":{\"source\":{\"id\":\"3503\",\"type\":\"ColumnDataSource\"}},\"id\":\"3507\",\"type\":\"CDSView\"},{\"attributes\":{\"source\":{\"id\":\"3524\",\"type\":\"ColumnDataSource\"}},\"id\":\"3528\",\"type\":\"CDSView\"},{\"attributes\":{},\"id\":\"3494\",\"type\":\"BasicTickFormatter\"},{\"attributes\":{},\"id\":\"3709\",\"type\":\"UnionRenderers\"},{\"attributes\":{\"line_alpha\":0.1,\"line_color\":\"#1f77b4\",\"line_width\":2,\"x\":{\"field\":\"x\"},\"y\":{\"field\":\"y\"}},\"id\":\"3487\",\"type\":\"Line\"},{\"attributes\":{\"callback\":null,\"data\":{\"x\":[\"2000\",\"2001\",\"2002\",\"2003\",\"2004\",\"2005\",\"2006\",\"2007\",\"2008\",\"2009\",\"2010\",\"2011\",\"2012\",\"2013\",\"2014\",\"2015\",\"2016\",\"2017\"],\"y\":[77.07712560169232,77.38833297513385,77.54776037882743,77.69654179560608,78.09938587502181,78.21736324644525,78.50714525876474,78.73135260844114,78.87486015871855,79.13132827194039,79.3009215024766,79.53231619249463,79.64498856482149,79.80818222814423,80.05654259453199,79.94678663973315,80.09864354689779,80.15042257303583]},\"selected\":{\"id\":\"3708\",\"type\":\"Selection\"},\"selection_policy\":{\"id\":\"3709\",\"type\":\"UnionRenderers\"}},\"id\":\"3524\",\"type\":\"ColumnDataSource\"},{\"attributes\":{},\"id\":\"3472\",\"type\":\"PanTool\"},{\"attributes\":{\"active_drag\":\"auto\",\"active_inspect\":\"auto\",\"active_multi\":null,\"active_scroll\":\"auto\",\"active_tap\":\"auto\",\"tools\":[{\"id\":\"3472\",\"type\":\"PanTool\"},{\"id\":\"3473\",\"type\":\"WheelZoomTool\"},{\"id\":\"3474\",\"type\":\"BoxZoomTool\"},{\"id\":\"3475\",\"type\":\"SaveTool\"},{\"id\":\"3476\",\"type\":\"ResetTool\"},{\"id\":\"3477\",\"type\":\"HelpTool\"},{\"id\":\"3549\",\"type\":\"HoverTool\"}]},\"id\":\"3478\",\"type\":\"Toolbar\"},{\"attributes\":{},\"id\":\"3710\",\"type\":\"Selection\"},{\"attributes\":{\"data_source\":{\"id\":\"3503\",\"type\":\"ColumnDataSource\"},\"glyph\":{\"id\":\"3504\",\"type\":\"Line\"},\"hover_glyph\":null,\"muted_glyph\":null,\"nonselection_glyph\":{\"id\":\"3505\",\"type\":\"Line\"},\"selection_glyph\":null,\"view\":{\"id\":\"3507\",\"type\":\"CDSView\"}},\"id\":\"3506\",\"type\":\"GlyphRenderer\"},{\"attributes\":{\"line_alpha\":0.1,\"line_color\":\"#1f77b4\",\"line_width\":2,\"x\":{\"field\":\"x\"},\"y\":{\"field\":\"y\"}},\"id\":\"3526\",\"type\":\"Line\"},{\"attributes\":{\"data_source\":{\"id\":\"3544\",\"type\":\"ColumnDataSource\"},\"glyph\":{\"id\":\"3545\",\"type\":\"Circle\"},\"hover_glyph\":null,\"muted_glyph\":null,\"nonselection_glyph\":{\"id\":\"3546\",\"type\":\"Circle\"},\"selection_glyph\":null,\"view\":{\"id\":\"3548\",\"type\":\"CDSView\"}},\"id\":\"3547\",\"type\":\"GlyphRenderer\"},{\"attributes\":{\"source\":{\"id\":\"3485\",\"type\":\"ColumnDataSource\"}},\"id\":\"3489\",\"type\":\"CDSView\"},{\"attributes\":{\"line_color\":\"green\",\"line_width\":2,\"x\":{\"field\":\"x\"},\"y\":{\"field\":\"y\"}},\"id\":\"3525\",\"type\":\"Line\"},{\"attributes\":{\"callback\":null,\"data\":{\"x\":[\"2000\",\"2001\",\"2002\",\"2003\",\"2004\",\"2005\",\"2006\",\"2007\",\"2008\",\"2009\",\"2010\",\"2011\",\"2012\",\"2013\",\"2014\",\"2015\",\"2016\",\"2017\"],\"y\":[55.47978614999483,55.975732696938344,56.50274815798361,57.06108266122101,57.646781535993426,58.25570477828153,58.88310509569853,59.52027856066717,60.15664526899239,60.78301466742689,61.388933701289815,61.967425120830384,62.51265697725478,63.02794492847264,63.50655894613865,63.94522390318217,64.34308028696678,64.70484741974481]},\"selected\":{\"id\":\"3513\",\"type\":\"Selection\"},\"selection_policy\":{\"id\":\"3514\",\"type\":\"UnionRenderers\"}},\"id\":\"3485\",\"type\":\"ColumnDataSource\"},{\"attributes\":{\"data_source\":{\"id\":\"3485\",\"type\":\"ColumnDataSource\"},\"glyph\":{\"id\":\"3486\",\"type\":\"Line\"},\"hover_glyph\":null,\"muted_glyph\":null,\"nonselection_glyph\":{\"id\":\"3487\",\"type\":\"Line\"},\"selection_glyph\":null,\"view\":{\"id\":\"3489\",\"type\":\"CDSView\"}},\"id\":\"3488\",\"type\":\"GlyphRenderer\"},{\"attributes\":{\"source\":{\"id\":\"3544\",\"type\":\"ColumnDataSource\"}},\"id\":\"3548\",\"type\":\"CDSView\"},{\"attributes\":{\"line_alpha\":0.1,\"line_color\":\"#1f77b4\",\"line_width\":2,\"x\":{\"field\":\"x\"},\"y\":{\"field\":\"y\"}},\"id\":\"3505\",\"type\":\"Line\"},{\"attributes\":{\"fill_alpha\":{\"value\":0.1},\"fill_color\":{\"value\":\"#1f77b4\"},\"line_alpha\":{\"value\":0.1},\"line_color\":{\"value\":\"#1f77b4\"},\"line_width\":{\"value\":3},\"x\":{\"field\":\"x\"},\"y\":{\"field\":\"y\"}},\"id\":\"3521\",\"type\":\"Circle\"},{\"attributes\":{},\"id\":\"3475\",\"type\":\"SaveTool\"},{\"attributes\":{\"source\":{\"id\":\"3519\",\"type\":\"ColumnDataSource\"}},\"id\":\"3523\",\"type\":\"CDSView\"},{\"attributes\":{},\"id\":\"3476\",\"type\":\"ResetTool\"},{\"attributes\":{\"data_source\":{\"id\":\"3519\",\"type\":\"ColumnDataSource\"},\"glyph\":{\"id\":\"3520\",\"type\":\"Circle\"},\"hover_glyph\":null,\"muted_glyph\":null,\"nonselection_glyph\":{\"id\":\"3521\",\"type\":\"Circle\"},\"selection_glyph\":null,\"view\":{\"id\":\"3523\",\"type\":\"CDSView\"}},\"id\":\"3522\",\"type\":\"GlyphRenderer\"},{\"attributes\":{\"line_color\":\"red\",\"line_width\":2,\"x\":{\"field\":\"x\"},\"y\":{\"field\":\"y\"}},\"id\":\"3486\",\"type\":\"Line\"},{\"attributes\":{},\"id\":\"3477\",\"type\":\"HelpTool\"},{\"attributes\":{\"line_color\":\"blue\",\"line_width\":2,\"x\":{\"field\":\"x\"},\"y\":{\"field\":\"y\"}},\"id\":\"3504\",\"type\":\"Line\"},{\"attributes\":{\"label\":{\"value\":\"Developing excluding LDCs\"},\"renderers\":[{\"id\":\"3506\",\"type\":\"GlyphRenderer\"}]},\"id\":\"3518\",\"type\":\"LegendItem\"}],\"root_ids\":[\"3451\"]},\"title\":\"Bokeh Application\",\"version\":\"1.3.4\"}};\n",
       "  var render_items = [{\"docid\":\"02604d09-a90d-4f67-be91-056b38753ff8\",\"roots\":{\"3451\":\"6e1effe7-7f78-436c-8b22-45529a09486d\"}}];\n",
       "  root.Bokeh.embed.embed_items_notebook(docs_json, render_items);\n",
       "\n",
       "  }\n",
       "  if (root.Bokeh !== undefined) {\n",
       "    embed_document(root);\n",
       "  } else {\n",
       "    var attempts = 0;\n",
       "    var timer = setInterval(function(root) {\n",
       "      if (root.Bokeh !== undefined) {\n",
       "        embed_document(root);\n",
       "        clearInterval(timer);\n",
       "      }\n",
       "      attempts++;\n",
       "      if (attempts > 100) {\n",
       "        console.log(\"Bokeh: ERROR: Unable to run BokehJS code because BokehJS library is missing\");\n",
       "        clearInterval(timer);\n",
       "      }\n",
       "    }, 10, root)\n",
       "  }\n",
       "})(window);"
      ],
      "application/vnd.bokehjs_exec.v0+json": ""
     },
     "metadata": {
      "application/vnd.bokehjs_exec.v0+json": {
       "id": "3451"
      }
     },
     "output_type": "display_data"
    }
   ],
   "source": [
    "# Life expectancy\n",
    "years = list(map(str, list(range(2000,2018))))\n",
    "result = show_weighted_average(years, 'SP.DYN.LE00.IN', 'SP.POP.TOTL', \n",
    "                               ['LDCs', 'Developing excluding LDCs', 'OECD'])"
   ]
  },
  {
   "cell_type": "code",
   "execution_count": 13,
   "metadata": {},
   "outputs": [
    {
     "data": {
      "text/html": [
       "\n",
       "\n",
       "\n",
       "\n",
       "\n",
       "\n",
       "  <div class=\"bk-root\" id=\"4100fe92-c28f-467f-82b1-7a0b74f05d4c\" data-root-id=\"3821\"></div>\n"
      ]
     },
     "metadata": {},
     "output_type": "display_data"
    },
    {
     "data": {
      "application/javascript": [
       "(function(root) {\n",
       "  function embed_document(root) {\n",
       "    \n",
       "  var docs_json = {\"a1c3ba08-83d5-4e14-82e2-6515c1d31e93\":{\"roots\":{\"references\":[{\"attributes\":{\"below\":[{\"id\":\"3832\",\"type\":\"LinearAxis\"}],\"center\":[{\"id\":\"3836\",\"type\":\"Grid\"},{\"id\":\"3841\",\"type\":\"Grid\"},{\"id\":\"3866\",\"type\":\"Legend\"}],\"left\":[{\"id\":\"3837\",\"type\":\"LinearAxis\"}],\"plot_height\":400,\"plot_width\":950,\"renderers\":[{\"id\":\"3858\",\"type\":\"GlyphRenderer\"},{\"id\":\"3871\",\"type\":\"GlyphRenderer\"},{\"id\":\"3876\",\"type\":\"GlyphRenderer\"},{\"id\":\"3892\",\"type\":\"GlyphRenderer\"},{\"id\":\"3897\",\"type\":\"GlyphRenderer\"},{\"id\":\"3917\",\"type\":\"GlyphRenderer\"}],\"title\":{\"id\":\"3822\",\"type\":\"Title\"},\"toolbar\":{\"id\":\"3848\",\"type\":\"Toolbar\"},\"x_range\":{\"id\":\"3824\",\"type\":\"DataRange1d\"},\"x_scale\":{\"id\":\"3828\",\"type\":\"LinearScale\"},\"y_range\":{\"id\":\"3826\",\"type\":\"DataRange1d\"},\"y_scale\":{\"id\":\"3830\",\"type\":\"LinearScale\"}},\"id\":\"3821\",\"subtype\":\"Figure\",\"type\":\"Plot\"},{\"attributes\":{\"line_color\":\"blue\",\"line_width\":2,\"x\":{\"field\":\"x\"},\"y\":{\"field\":\"y\"}},\"id\":\"3874\",\"type\":\"Line\"},{\"attributes\":{\"line_color\":\"red\",\"line_width\":2,\"x\":{\"field\":\"x\"},\"y\":{\"field\":\"y\"}},\"id\":\"3856\",\"type\":\"Line\"},{\"attributes\":{\"source\":{\"id\":\"3894\",\"type\":\"ColumnDataSource\"}},\"id\":\"3898\",\"type\":\"CDSView\"},{\"attributes\":{},\"id\":\"3845\",\"type\":\"SaveTool\"},{\"attributes\":{\"line_alpha\":0.1,\"line_color\":\"#1f77b4\",\"line_width\":2,\"x\":{\"field\":\"x\"},\"y\":{\"field\":\"y\"}},\"id\":\"3875\",\"type\":\"Line\"},{\"attributes\":{},\"id\":\"3846\",\"type\":\"ResetTool\"},{\"attributes\":{\"text\":\"Life expectancy at birth, female (years) weighted against Rural population\"},\"id\":\"3822\",\"type\":\"Title\"},{\"attributes\":{},\"id\":\"3908\",\"type\":\"Selection\"},{\"attributes\":{\"data_source\":{\"id\":\"3873\",\"type\":\"ColumnDataSource\"},\"glyph\":{\"id\":\"3874\",\"type\":\"Line\"},\"hover_glyph\":null,\"muted_glyph\":null,\"nonselection_glyph\":{\"id\":\"3875\",\"type\":\"Line\"},\"selection_glyph\":null,\"view\":{\"id\":\"3877\",\"type\":\"CDSView\"}},\"id\":\"3876\",\"type\":\"GlyphRenderer\"},{\"attributes\":{},\"id\":\"3847\",\"type\":\"HelpTool\"},{\"attributes\":{\"callback\":null},\"id\":\"3824\",\"type\":\"DataRange1d\"},{\"attributes\":{},\"id\":\"3909\",\"type\":\"UnionRenderers\"},{\"attributes\":{\"source\":{\"id\":\"3873\",\"type\":\"ColumnDataSource\"}},\"id\":\"3877\",\"type\":\"CDSView\"},{\"attributes\":{\"active_drag\":\"auto\",\"active_inspect\":\"auto\",\"active_multi\":null,\"active_scroll\":\"auto\",\"active_tap\":\"auto\",\"tools\":[{\"id\":\"3842\",\"type\":\"PanTool\"},{\"id\":\"3843\",\"type\":\"WheelZoomTool\"},{\"id\":\"3844\",\"type\":\"BoxZoomTool\"},{\"id\":\"3845\",\"type\":\"SaveTool\"},{\"id\":\"3846\",\"type\":\"ResetTool\"},{\"id\":\"3847\",\"type\":\"HelpTool\"},{\"id\":\"3919\",\"type\":\"HoverTool\"}]},\"id\":\"3848\",\"type\":\"Toolbar\"},{\"attributes\":{\"callback\":null},\"id\":\"3826\",\"type\":\"DataRange1d\"},{\"attributes\":{},\"id\":\"3910\",\"type\":\"Selection\"},{\"attributes\":{},\"id\":\"3883\",\"type\":\"Selection\"},{\"attributes\":{},\"id\":\"3911\",\"type\":\"UnionRenderers\"},{\"attributes\":{},\"id\":\"3828\",\"type\":\"LinearScale\"},{\"attributes\":{},\"id\":\"3884\",\"type\":\"UnionRenderers\"},{\"attributes\":{\"data_source\":{\"id\":\"3855\",\"type\":\"ColumnDataSource\"},\"glyph\":{\"id\":\"3856\",\"type\":\"Line\"},\"hover_glyph\":null,\"muted_glyph\":null,\"nonselection_glyph\":{\"id\":\"3857\",\"type\":\"Line\"},\"selection_glyph\":null,\"view\":{\"id\":\"3859\",\"type\":\"CDSView\"}},\"id\":\"3858\",\"type\":\"GlyphRenderer\"},{\"attributes\":{},\"id\":\"3830\",\"type\":\"LinearScale\"},{\"attributes\":{\"label\":{\"value\":\"OECD\"},\"renderers\":[{\"id\":\"3897\",\"type\":\"GlyphRenderer\"}]},\"id\":\"3913\",\"type\":\"LegendItem\"},{\"attributes\":{\"source\":{\"id\":\"3855\",\"type\":\"ColumnDataSource\"}},\"id\":\"3859\",\"type\":\"CDSView\"},{\"attributes\":{},\"id\":\"3885\",\"type\":\"Selection\"},{\"attributes\":{\"axis_label\":\"Years\",\"formatter\":{\"id\":\"3864\",\"type\":\"BasicTickFormatter\"},\"ticker\":{\"id\":\"3833\",\"type\":\"BasicTicker\"}},\"id\":\"3832\",\"type\":\"LinearAxis\"},{\"attributes\":{},\"id\":\"3862\",\"type\":\"BasicTickFormatter\"},{\"attributes\":{\"callback\":null,\"data\":{\"x\":[\"2000\",\"2001\",\"2002\",\"2003\",\"2004\",\"2005\",\"2006\",\"2007\",\"2008\",\"2009\",\"2010\",\"2011\",\"2012\",\"2013\",\"2014\",\"2015\",\"2016\",\"2017\"],\"y\":[79.93351879418076,80.20290658761989,80.32918832949842,80.39856940465691,80.77521328865518,80.86674990168122,81.1402038786844,81.32381241465296,81.43163205746191,81.62948962454634,81.79594928587568,82.07333933782573,82.11929566013815,82.26555024337196,82.51912432141074,82.35601028400251,82.55037747513924,82.59790657999017]},\"selected\":{\"id\":\"4098\",\"type\":\"Selection\"},\"selection_policy\":{\"id\":\"4099\",\"type\":\"UnionRenderers\"}},\"id\":\"3914\",\"type\":\"ColumnDataSource\"},{\"attributes\":{},\"id\":\"3886\",\"type\":\"UnionRenderers\"},{\"attributes\":{\"fill_color\":{\"value\":\"green\"},\"line_color\":{\"value\":\"green\"},\"line_width\":{\"value\":3},\"x\":{\"field\":\"x\"},\"y\":{\"field\":\"y\"}},\"id\":\"3915\",\"type\":\"Circle\"},{\"attributes\":{},\"id\":\"3833\",\"type\":\"BasicTicker\"},{\"attributes\":{\"label\":{\"value\":\"Developing excluding LDCs\"},\"renderers\":[{\"id\":\"3876\",\"type\":\"GlyphRenderer\"}]},\"id\":\"3888\",\"type\":\"LegendItem\"},{\"attributes\":{},\"id\":\"3864\",\"type\":\"BasicTickFormatter\"},{\"attributes\":{\"ticker\":{\"id\":\"3833\",\"type\":\"BasicTicker\"}},\"id\":\"3836\",\"type\":\"Grid\"},{\"attributes\":{\"fill_alpha\":{\"value\":0.1},\"fill_color\":{\"value\":\"#1f77b4\"},\"line_alpha\":{\"value\":0.1},\"line_color\":{\"value\":\"#1f77b4\"},\"line_width\":{\"value\":3},\"x\":{\"field\":\"x\"},\"y\":{\"field\":\"y\"}},\"id\":\"3916\",\"type\":\"Circle\"},{\"attributes\":{\"callback\":null,\"data\":{\"x\":[\"2000\",\"2001\",\"2002\",\"2003\",\"2004\",\"2005\",\"2006\",\"2007\",\"2008\",\"2009\",\"2010\",\"2011\",\"2012\",\"2013\",\"2014\",\"2015\",\"2016\",\"2017\"],\"y\":[67.73281154489842,67.97348032002085,68.22274061008504,68.4834570193612,68.75974387360039,69.05476389543969,69.3723836455032,69.71081830727181,70.06116455005113,70.42362476987262,70.78281631915947,71.13967644962615,71.48296705077259,71.80606471400148,72.10313283696358,72.37065053741364,72.60294771834627,72.81209975661481]},\"selected\":{\"id\":\"3910\",\"type\":\"Selection\"},\"selection_policy\":{\"id\":\"3911\",\"type\":\"UnionRenderers\"}},\"id\":\"3889\",\"type\":\"ColumnDataSource\"},{\"attributes\":{\"data_source\":{\"id\":\"3914\",\"type\":\"ColumnDataSource\"},\"glyph\":{\"id\":\"3915\",\"type\":\"Circle\"},\"hover_glyph\":null,\"muted_glyph\":null,\"nonselection_glyph\":{\"id\":\"3916\",\"type\":\"Circle\"},\"selection_glyph\":null,\"view\":{\"id\":\"3918\",\"type\":\"CDSView\"}},\"id\":\"3917\",\"type\":\"GlyphRenderer\"},{\"attributes\":{\"axis_label\":\"Percentage\",\"formatter\":{\"id\":\"3862\",\"type\":\"BasicTickFormatter\"},\"ticker\":{\"id\":\"3838\",\"type\":\"BasicTicker\"}},\"id\":\"3837\",\"type\":\"LinearAxis\"},{\"attributes\":{\"bottom_units\":\"screen\",\"fill_alpha\":{\"value\":0.5},\"fill_color\":{\"value\":\"lightgrey\"},\"left_units\":\"screen\",\"level\":\"overlay\",\"line_alpha\":{\"value\":1.0},\"line_color\":{\"value\":\"black\"},\"line_dash\":[4,4],\"line_width\":{\"value\":2},\"render_mode\":\"css\",\"right_units\":\"screen\",\"top_units\":\"screen\"},\"id\":\"3865\",\"type\":\"BoxAnnotation\"},{\"attributes\":{\"fill_color\":{\"value\":\"blue\"},\"line_color\":{\"value\":\"blue\"},\"line_width\":{\"value\":3},\"x\":{\"field\":\"x\"},\"y\":{\"field\":\"y\"}},\"id\":\"3890\",\"type\":\"Circle\"},{\"attributes\":{\"items\":[{\"id\":\"3867\",\"type\":\"LegendItem\"},{\"id\":\"3888\",\"type\":\"LegendItem\"},{\"id\":\"3913\",\"type\":\"LegendItem\"}],\"location\":\"bottom_left\"},\"id\":\"3866\",\"type\":\"Legend\"},{\"attributes\":{},\"id\":\"3838\",\"type\":\"BasicTicker\"},{\"attributes\":{\"source\":{\"id\":\"3914\",\"type\":\"ColumnDataSource\"}},\"id\":\"3918\",\"type\":\"CDSView\"},{\"attributes\":{\"fill_alpha\":{\"value\":0.1},\"fill_color\":{\"value\":\"#1f77b4\"},\"line_alpha\":{\"value\":0.1},\"line_color\":{\"value\":\"#1f77b4\"},\"line_width\":{\"value\":3},\"x\":{\"field\":\"x\"},\"y\":{\"field\":\"y\"}},\"id\":\"3891\",\"type\":\"Circle\"},{\"attributes\":{\"label\":{\"value\":\"LDCs\"},\"renderers\":[{\"id\":\"3858\",\"type\":\"GlyphRenderer\"}]},\"id\":\"3867\",\"type\":\"LegendItem\"},{\"attributes\":{\"dimension\":1,\"ticker\":{\"id\":\"3838\",\"type\":\"BasicTicker\"}},\"id\":\"3841\",\"type\":\"Grid\"},{\"attributes\":{\"data_source\":{\"id\":\"3889\",\"type\":\"ColumnDataSource\"},\"glyph\":{\"id\":\"3890\",\"type\":\"Circle\"},\"hover_glyph\":null,\"muted_glyph\":null,\"nonselection_glyph\":{\"id\":\"3891\",\"type\":\"Circle\"},\"selection_glyph\":null,\"view\":{\"id\":\"3893\",\"type\":\"CDSView\"}},\"id\":\"3892\",\"type\":\"GlyphRenderer\"},{\"attributes\":{\"callback\":null,\"data\":{\"x\":[\"2000\",\"2001\",\"2002\",\"2003\",\"2004\",\"2005\",\"2006\",\"2007\",\"2008\",\"2009\",\"2010\",\"2011\",\"2012\",\"2013\",\"2014\",\"2015\",\"2016\",\"2017\"],\"y\":[57.034527408572266,57.53748489045903,58.07142351800209,58.640581905118836,59.242660221595216,59.87429659950075,60.53079079914172,61.19774721212408,61.87418453620832,62.54301761236867,63.19237481578384,63.81307389468363,64.39532395583093,64.94434252296352,65.45150499669222,65.91438566172573,66.33128171561334,66.70959739482211]},\"selected\":{\"id\":\"3885\",\"type\":\"Selection\"},\"selection_policy\":{\"id\":\"3886\",\"type\":\"UnionRenderers\"}},\"id\":\"3868\",\"type\":\"ColumnDataSource\"},{\"attributes\":{},\"id\":\"4096\",\"type\":\"Selection\"},{\"attributes\":{\"source\":{\"id\":\"3889\",\"type\":\"ColumnDataSource\"}},\"id\":\"3893\",\"type\":\"CDSView\"},{\"attributes\":{\"fill_color\":{\"value\":\"red\"},\"line_color\":{\"value\":\"red\"},\"line_width\":{\"value\":3},\"x\":{\"field\":\"x\"},\"y\":{\"field\":\"y\"}},\"id\":\"3869\",\"type\":\"Circle\"},{\"attributes\":{\"callback\":null,\"data\":{\"x\":[\"2000\",\"2001\",\"2002\",\"2003\",\"2004\",\"2005\",\"2006\",\"2007\",\"2008\",\"2009\",\"2010\",\"2011\",\"2012\",\"2013\",\"2014\",\"2015\",\"2016\",\"2017\"],\"y\":[57.034527408572266,57.53748489045903,58.07142351800209,58.640581905118836,59.242660221595216,59.87429659950075,60.53079079914172,61.19774721212408,61.87418453620832,62.54301761236867,63.19237481578384,63.81307389468363,64.39532395583093,64.94434252296352,65.45150499669222,65.91438566172573,66.33128171561334,66.70959739482211]},\"selected\":{\"id\":\"3883\",\"type\":\"Selection\"},\"selection_policy\":{\"id\":\"3884\",\"type\":\"UnionRenderers\"}},\"id\":\"3855\",\"type\":\"ColumnDataSource\"},{\"attributes\":{},\"id\":\"4097\",\"type\":\"UnionRenderers\"},{\"attributes\":{\"callback\":null,\"data\":{\"x\":[\"2000\",\"2001\",\"2002\",\"2003\",\"2004\",\"2005\",\"2006\",\"2007\",\"2008\",\"2009\",\"2010\",\"2011\",\"2012\",\"2013\",\"2014\",\"2015\",\"2016\",\"2017\"],\"y\":[79.93351879418076,80.20290658761989,80.32918832949842,80.39856940465691,80.77521328865518,80.86674990168122,81.1402038786844,81.32381241465296,81.43163205746191,81.62948962454634,81.79594928587568,82.07333933782573,82.11929566013815,82.26555024337196,82.51912432141074,82.35601028400251,82.55037747513924,82.59790657999017]},\"selected\":{\"id\":\"4096\",\"type\":\"Selection\"},\"selection_policy\":{\"id\":\"4097\",\"type\":\"UnionRenderers\"}},\"id\":\"3894\",\"type\":\"ColumnDataSource\"},{\"attributes\":{\"callback\":null,\"tooltips\":\"\\n        <div style=padding=5px>Year:@x</div>\\n        <div style=padding=5px>Value:@y</div>\\n        \"},\"id\":\"3919\",\"type\":\"HoverTool\"},{\"attributes\":{\"fill_alpha\":{\"value\":0.1},\"fill_color\":{\"value\":\"#1f77b4\"},\"line_alpha\":{\"value\":0.1},\"line_color\":{\"value\":\"#1f77b4\"},\"line_width\":{\"value\":3},\"x\":{\"field\":\"x\"},\"y\":{\"field\":\"y\"}},\"id\":\"3870\",\"type\":\"Circle\"},{\"attributes\":{\"line_alpha\":0.1,\"line_color\":\"#1f77b4\",\"line_width\":2,\"x\":{\"field\":\"x\"},\"y\":{\"field\":\"y\"}},\"id\":\"3857\",\"type\":\"Line\"},{\"attributes\":{},\"id\":\"4098\",\"type\":\"Selection\"},{\"attributes\":{\"line_color\":\"green\",\"line_width\":2,\"x\":{\"field\":\"x\"},\"y\":{\"field\":\"y\"}},\"id\":\"3895\",\"type\":\"Line\"},{\"attributes\":{},\"id\":\"3842\",\"type\":\"PanTool\"},{\"attributes\":{\"data_source\":{\"id\":\"3868\",\"type\":\"ColumnDataSource\"},\"glyph\":{\"id\":\"3869\",\"type\":\"Circle\"},\"hover_glyph\":null,\"muted_glyph\":null,\"nonselection_glyph\":{\"id\":\"3870\",\"type\":\"Circle\"},\"selection_glyph\":null,\"view\":{\"id\":\"3872\",\"type\":\"CDSView\"}},\"id\":\"3871\",\"type\":\"GlyphRenderer\"},{\"attributes\":{},\"id\":\"4099\",\"type\":\"UnionRenderers\"},{\"attributes\":{\"line_alpha\":0.1,\"line_color\":\"#1f77b4\",\"line_width\":2,\"x\":{\"field\":\"x\"},\"y\":{\"field\":\"y\"}},\"id\":\"3896\",\"type\":\"Line\"},{\"attributes\":{},\"id\":\"3843\",\"type\":\"WheelZoomTool\"},{\"attributes\":{\"source\":{\"id\":\"3868\",\"type\":\"ColumnDataSource\"}},\"id\":\"3872\",\"type\":\"CDSView\"},{\"attributes\":{\"overlay\":{\"id\":\"3865\",\"type\":\"BoxAnnotation\"}},\"id\":\"3844\",\"type\":\"BoxZoomTool\"},{\"attributes\":{\"data_source\":{\"id\":\"3894\",\"type\":\"ColumnDataSource\"},\"glyph\":{\"id\":\"3895\",\"type\":\"Line\"},\"hover_glyph\":null,\"muted_glyph\":null,\"nonselection_glyph\":{\"id\":\"3896\",\"type\":\"Line\"},\"selection_glyph\":null,\"view\":{\"id\":\"3898\",\"type\":\"CDSView\"}},\"id\":\"3897\",\"type\":\"GlyphRenderer\"},{\"attributes\":{\"callback\":null,\"data\":{\"x\":[\"2000\",\"2001\",\"2002\",\"2003\",\"2004\",\"2005\",\"2006\",\"2007\",\"2008\",\"2009\",\"2010\",\"2011\",\"2012\",\"2013\",\"2014\",\"2015\",\"2016\",\"2017\"],\"y\":[67.73281154489842,67.97348032002085,68.22274061008504,68.4834570193612,68.75974387360039,69.05476389543969,69.3723836455032,69.71081830727181,70.06116455005113,70.42362476987262,70.78281631915947,71.13967644962615,71.48296705077259,71.80606471400148,72.10313283696358,72.37065053741364,72.60294771834627,72.81209975661481]},\"selected\":{\"id\":\"3908\",\"type\":\"Selection\"},\"selection_policy\":{\"id\":\"3909\",\"type\":\"UnionRenderers\"}},\"id\":\"3873\",\"type\":\"ColumnDataSource\"}],\"root_ids\":[\"3821\"]},\"title\":\"Bokeh Application\",\"version\":\"1.3.4\"}};\n",
       "  var render_items = [{\"docid\":\"a1c3ba08-83d5-4e14-82e2-6515c1d31e93\",\"roots\":{\"3821\":\"4100fe92-c28f-467f-82b1-7a0b74f05d4c\"}}];\n",
       "  root.Bokeh.embed.embed_items_notebook(docs_json, render_items);\n",
       "\n",
       "  }\n",
       "  if (root.Bokeh !== undefined) {\n",
       "    embed_document(root);\n",
       "  } else {\n",
       "    var attempts = 0;\n",
       "    var timer = setInterval(function(root) {\n",
       "      if (root.Bokeh !== undefined) {\n",
       "        embed_document(root);\n",
       "        clearInterval(timer);\n",
       "      }\n",
       "      attempts++;\n",
       "      if (attempts > 100) {\n",
       "        console.log(\"Bokeh: ERROR: Unable to run BokehJS code because BokehJS library is missing\");\n",
       "        clearInterval(timer);\n",
       "      }\n",
       "    }, 10, root)\n",
       "  }\n",
       "})(window);"
      ],
      "application/vnd.bokehjs_exec.v0+json": ""
     },
     "metadata": {
      "application/vnd.bokehjs_exec.v0+json": {
       "id": "3821"
      }
     },
     "output_type": "display_data"
    }
   ],
   "source": [
    "# Female life expectancy\n",
    "years = list(map(str, list(range(2000,2018))))\n",
    "result = show_weighted_average(years, 'SP.DYN.LE00.FE.IN', 'SP.RUR.TOTL', \n",
    "                               ['LDCs', 'Developing excluding LDCs', 'OECD'])"
   ]
  },
  {
   "cell_type": "code",
   "execution_count": 14,
   "metadata": {},
   "outputs": [
    {
     "data": {
      "text/html": [
       "\n",
       "\n",
       "\n",
       "\n",
       "\n",
       "\n",
       "  <div class=\"bk-root\" id=\"956464b7-2742-4734-939d-ec8bfdd260fc\" data-root-id=\"4209\"></div>\n"
      ]
     },
     "metadata": {},
     "output_type": "display_data"
    },
    {
     "data": {
      "application/javascript": [
       "(function(root) {\n",
       "  function embed_document(root) {\n",
       "    \n",
       "  var docs_json = {\"97a825cc-059d-44d6-b3df-5d56597013a1\":{\"roots\":{\"references\":[{\"attributes\":{\"below\":[{\"id\":\"4220\",\"type\":\"LinearAxis\"}],\"center\":[{\"id\":\"4224\",\"type\":\"Grid\"},{\"id\":\"4229\",\"type\":\"Grid\"},{\"id\":\"4254\",\"type\":\"Legend\"}],\"left\":[{\"id\":\"4225\",\"type\":\"LinearAxis\"}],\"plot_height\":400,\"plot_width\":950,\"renderers\":[{\"id\":\"4246\",\"type\":\"GlyphRenderer\"},{\"id\":\"4259\",\"type\":\"GlyphRenderer\"},{\"id\":\"4264\",\"type\":\"GlyphRenderer\"},{\"id\":\"4280\",\"type\":\"GlyphRenderer\"}],\"title\":{\"id\":\"4210\",\"type\":\"Title\"},\"toolbar\":{\"id\":\"4236\",\"type\":\"Toolbar\"},\"x_range\":{\"id\":\"4212\",\"type\":\"DataRange1d\"},\"x_scale\":{\"id\":\"4216\",\"type\":\"LinearScale\"},\"y_range\":{\"id\":\"4214\",\"type\":\"DataRange1d\"},\"y_scale\":{\"id\":\"4218\",\"type\":\"LinearScale\"}},\"id\":\"4209\",\"subtype\":\"Figure\",\"type\":\"Plot\"},{\"attributes\":{},\"id\":\"4474\",\"type\":\"UnionRenderers\"},{\"attributes\":{},\"id\":\"4233\",\"type\":\"SaveTool\"},{\"attributes\":{},\"id\":\"4476\",\"type\":\"UnionRenderers\"},{\"attributes\":{\"line_color\":\"blue\",\"line_width\":2,\"x\":{\"field\":\"x\"},\"y\":{\"field\":\"y\"}},\"id\":\"4262\",\"type\":\"Line\"},{\"attributes\":{},\"id\":\"4234\",\"type\":\"ResetTool\"},{\"attributes\":{\"text\":\"Vulnerable employment, female (% of female employment) (modeled ILO estimate) weighted against Labor force, total\"},\"id\":\"4210\",\"type\":\"Title\"},{\"attributes\":{\"line_alpha\":0.1,\"line_color\":\"#1f77b4\",\"line_width\":2,\"x\":{\"field\":\"x\"},\"y\":{\"field\":\"y\"}},\"id\":\"4263\",\"type\":\"Line\"},{\"attributes\":{},\"id\":\"4235\",\"type\":\"HelpTool\"},{\"attributes\":{\"data_source\":{\"id\":\"4261\",\"type\":\"ColumnDataSource\"},\"glyph\":{\"id\":\"4262\",\"type\":\"Line\"},\"hover_glyph\":null,\"muted_glyph\":null,\"nonselection_glyph\":{\"id\":\"4263\",\"type\":\"Line\"},\"selection_glyph\":null,\"view\":{\"id\":\"4265\",\"type\":\"CDSView\"}},\"id\":\"4264\",\"type\":\"GlyphRenderer\"},{\"attributes\":{\"callback\":null},\"id\":\"4212\",\"type\":\"DataRange1d\"},{\"attributes\":{\"active_drag\":\"auto\",\"active_inspect\":\"auto\",\"active_multi\":null,\"active_scroll\":\"auto\",\"active_tap\":\"auto\",\"tools\":[{\"id\":\"4230\",\"type\":\"PanTool\"},{\"id\":\"4231\",\"type\":\"WheelZoomTool\"},{\"id\":\"4232\",\"type\":\"BoxZoomTool\"},{\"id\":\"4233\",\"type\":\"SaveTool\"},{\"id\":\"4234\",\"type\":\"ResetTool\"},{\"id\":\"4235\",\"type\":\"HelpTool\"},{\"id\":\"4282\",\"type\":\"HoverTool\"}]},\"id\":\"4236\",\"type\":\"Toolbar\"},{\"attributes\":{\"callback\":null},\"id\":\"4214\",\"type\":\"DataRange1d\"},{\"attributes\":{\"line_color\":\"red\",\"line_width\":2,\"x\":{\"field\":\"x\"},\"y\":{\"field\":\"y\"}},\"id\":\"4244\",\"type\":\"Line\"},{\"attributes\":{\"line_alpha\":0.1,\"line_color\":\"#1f77b4\",\"line_width\":2,\"x\":{\"field\":\"x\"},\"y\":{\"field\":\"y\"}},\"id\":\"4245\",\"type\":\"Line\"},{\"attributes\":{\"source\":{\"id\":\"4261\",\"type\":\"ColumnDataSource\"}},\"id\":\"4265\",\"type\":\"CDSView\"},{\"attributes\":{},\"id\":\"4216\",\"type\":\"LinearScale\"},{\"attributes\":{},\"id\":\"4271\",\"type\":\"Selection\"},{\"attributes\":{},\"id\":\"4475\",\"type\":\"Selection\"},{\"attributes\":{\"data_source\":{\"id\":\"4243\",\"type\":\"ColumnDataSource\"},\"glyph\":{\"id\":\"4244\",\"type\":\"Line\"},\"hover_glyph\":null,\"muted_glyph\":null,\"nonselection_glyph\":{\"id\":\"4245\",\"type\":\"Line\"},\"selection_glyph\":null,\"view\":{\"id\":\"4247\",\"type\":\"CDSView\"}},\"id\":\"4246\",\"type\":\"GlyphRenderer\"},{\"attributes\":{},\"id\":\"4218\",\"type\":\"LinearScale\"},{\"attributes\":{\"source\":{\"id\":\"4243\",\"type\":\"ColumnDataSource\"}},\"id\":\"4247\",\"type\":\"CDSView\"},{\"attributes\":{},\"id\":\"4272\",\"type\":\"UnionRenderers\"},{\"attributes\":{\"axis_label\":\"Years\",\"formatter\":{\"id\":\"4252\",\"type\":\"BasicTickFormatter\"},\"ticker\":{\"id\":\"4221\",\"type\":\"BasicTicker\"}},\"id\":\"4220\",\"type\":\"LinearAxis\"},{\"attributes\":{},\"id\":\"4250\",\"type\":\"BasicTickFormatter\"},{\"attributes\":{},\"id\":\"4273\",\"type\":\"Selection\"},{\"attributes\":{},\"id\":\"4221\",\"type\":\"BasicTicker\"},{\"attributes\":{},\"id\":\"4274\",\"type\":\"UnionRenderers\"},{\"attributes\":{},\"id\":\"4252\",\"type\":\"BasicTickFormatter\"},{\"attributes\":{\"ticker\":{\"id\":\"4221\",\"type\":\"BasicTicker\"}},\"id\":\"4224\",\"type\":\"Grid\"},{\"attributes\":{\"label\":{\"value\":\"Developing excluding LDCs\"},\"renderers\":[{\"id\":\"4264\",\"type\":\"GlyphRenderer\"}]},\"id\":\"4276\",\"type\":\"LegendItem\"},{\"attributes\":{\"bottom_units\":\"screen\",\"fill_alpha\":{\"value\":0.5},\"fill_color\":{\"value\":\"lightgrey\"},\"left_units\":\"screen\",\"level\":\"overlay\",\"line_alpha\":{\"value\":1.0},\"line_color\":{\"value\":\"black\"},\"line_dash\":[4,4],\"line_width\":{\"value\":2},\"render_mode\":\"css\",\"right_units\":\"screen\",\"top_units\":\"screen\"},\"id\":\"4253\",\"type\":\"BoxAnnotation\"},{\"attributes\":{\"callback\":null,\"data\":{\"x\":[\"2000\",\"2001\",\"2002\",\"2003\",\"2004\",\"2005\",\"2006\",\"2007\",\"2008\",\"2009\",\"2010\",\"2011\",\"2012\",\"2013\",\"2014\",\"2015\",\"2016\",\"2017\"],\"y\":[65.33052780357724,64.90584506088574,64.18936699106743,63.73445964952182,63.152358860863174,62.30143939928258,61.538376583341744,60.91730989564122,60.2837124463239,59.71729357938916,59.04153779959497,57.91153517857363,56.58414101141624,55.950562536773546,55.358412885604125,54.9320293233056,54.553900414655715,54.20588235767385]},\"selected\":{\"id\":\"4475\",\"type\":\"Selection\"},\"selection_policy\":{\"id\":\"4476\",\"type\":\"UnionRenderers\"}},\"id\":\"4277\",\"type\":\"ColumnDataSource\"},{\"attributes\":{\"axis_label\":\"Percentage\",\"formatter\":{\"id\":\"4250\",\"type\":\"BasicTickFormatter\"},\"ticker\":{\"id\":\"4226\",\"type\":\"BasicTicker\"}},\"id\":\"4225\",\"type\":\"LinearAxis\"},{\"attributes\":{\"items\":[{\"id\":\"4255\",\"type\":\"LegendItem\"},{\"id\":\"4276\",\"type\":\"LegendItem\"}],\"location\":\"bottom_left\"},\"id\":\"4254\",\"type\":\"Legend\"},{\"attributes\":{\"fill_color\":{\"value\":\"blue\"},\"line_color\":{\"value\":\"blue\"},\"line_width\":{\"value\":3},\"x\":{\"field\":\"x\"},\"y\":{\"field\":\"y\"}},\"id\":\"4278\",\"type\":\"Circle\"},{\"attributes\":{},\"id\":\"4226\",\"type\":\"BasicTicker\"},{\"attributes\":{\"label\":{\"value\":\"LDCs\"},\"renderers\":[{\"id\":\"4246\",\"type\":\"GlyphRenderer\"}]},\"id\":\"4255\",\"type\":\"LegendItem\"},{\"attributes\":{\"fill_alpha\":{\"value\":0.1},\"fill_color\":{\"value\":\"#1f77b4\"},\"line_alpha\":{\"value\":0.1},\"line_color\":{\"value\":\"#1f77b4\"},\"line_width\":{\"value\":3},\"x\":{\"field\":\"x\"},\"y\":{\"field\":\"y\"}},\"id\":\"4279\",\"type\":\"Circle\"},{\"attributes\":{\"dimension\":1,\"ticker\":{\"id\":\"4226\",\"type\":\"BasicTicker\"}},\"id\":\"4229\",\"type\":\"Grid\"},{\"attributes\":{\"callback\":null,\"data\":{\"x\":[\"2000\",\"2001\",\"2002\",\"2003\",\"2004\",\"2005\",\"2006\",\"2007\",\"2008\",\"2009\",\"2010\",\"2011\",\"2012\",\"2013\",\"2014\",\"2015\",\"2016\",\"2017\"],\"y\":[85.71439577036236,85.57464637853948,85.42987052449938,85.2595119163731,85.1157816927459,84.95917228819752,84.67367316779398,84.76333397019621,84.82905666578436,84.92486075515858,84.88687200109682,84.34903984029447,83.77222403234691,83.30820688707247,82.72786323433235,82.26461439968713,81.78532591691658,81.20720784411499]},\"selected\":{\"id\":\"4273\",\"type\":\"Selection\"},\"selection_policy\":{\"id\":\"4274\",\"type\":\"UnionRenderers\"}},\"id\":\"4256\",\"type\":\"ColumnDataSource\"},{\"attributes\":{\"data_source\":{\"id\":\"4277\",\"type\":\"ColumnDataSource\"},\"glyph\":{\"id\":\"4278\",\"type\":\"Circle\"},\"hover_glyph\":null,\"muted_glyph\":null,\"nonselection_glyph\":{\"id\":\"4279\",\"type\":\"Circle\"},\"selection_glyph\":null,\"view\":{\"id\":\"4281\",\"type\":\"CDSView\"}},\"id\":\"4280\",\"type\":\"GlyphRenderer\"},{\"attributes\":{\"fill_color\":{\"value\":\"red\"},\"line_color\":{\"value\":\"red\"},\"line_width\":{\"value\":3},\"x\":{\"field\":\"x\"},\"y\":{\"field\":\"y\"}},\"id\":\"4257\",\"type\":\"Circle\"},{\"attributes\":{\"source\":{\"id\":\"4277\",\"type\":\"ColumnDataSource\"}},\"id\":\"4281\",\"type\":\"CDSView\"},{\"attributes\":{\"callback\":null,\"data\":{\"x\":[\"2000\",\"2001\",\"2002\",\"2003\",\"2004\",\"2005\",\"2006\",\"2007\",\"2008\",\"2009\",\"2010\",\"2011\",\"2012\",\"2013\",\"2014\",\"2015\",\"2016\",\"2017\"],\"y\":[85.71439577036236,85.57464637853948,85.42987052449938,85.2595119163731,85.1157816927459,84.95917228819752,84.67367316779398,84.76333397019621,84.82905666578436,84.92486075515858,84.88687200109682,84.34903984029447,83.77222403234691,83.30820688707247,82.72786323433235,82.26461439968713,81.78532591691658,81.20720784411499]},\"selected\":{\"id\":\"4271\",\"type\":\"Selection\"},\"selection_policy\":{\"id\":\"4272\",\"type\":\"UnionRenderers\"}},\"id\":\"4243\",\"type\":\"ColumnDataSource\"},{\"attributes\":{\"fill_alpha\":{\"value\":0.1},\"fill_color\":{\"value\":\"#1f77b4\"},\"line_alpha\":{\"value\":0.1},\"line_color\":{\"value\":\"#1f77b4\"},\"line_width\":{\"value\":3},\"x\":{\"field\":\"x\"},\"y\":{\"field\":\"y\"}},\"id\":\"4258\",\"type\":\"Circle\"},{\"attributes\":{\"callback\":null,\"tooltips\":\"\\n        <div style=padding=5px>Year:@x</div>\\n        <div style=padding=5px>Value:@y</div>\\n        \"},\"id\":\"4282\",\"type\":\"HoverTool\"},{\"attributes\":{\"data_source\":{\"id\":\"4256\",\"type\":\"ColumnDataSource\"},\"glyph\":{\"id\":\"4257\",\"type\":\"Circle\"},\"hover_glyph\":null,\"muted_glyph\":null,\"nonselection_glyph\":{\"id\":\"4258\",\"type\":\"Circle\"},\"selection_glyph\":null,\"view\":{\"id\":\"4260\",\"type\":\"CDSView\"}},\"id\":\"4259\",\"type\":\"GlyphRenderer\"},{\"attributes\":{},\"id\":\"4230\",\"type\":\"PanTool\"},{\"attributes\":{},\"id\":\"4473\",\"type\":\"Selection\"},{\"attributes\":{\"source\":{\"id\":\"4256\",\"type\":\"ColumnDataSource\"}},\"id\":\"4260\",\"type\":\"CDSView\"},{\"attributes\":{},\"id\":\"4231\",\"type\":\"WheelZoomTool\"},{\"attributes\":{\"callback\":null,\"data\":{\"x\":[\"2000\",\"2001\",\"2002\",\"2003\",\"2004\",\"2005\",\"2006\",\"2007\",\"2008\",\"2009\",\"2010\",\"2011\",\"2012\",\"2013\",\"2014\",\"2015\",\"2016\",\"2017\"],\"y\":[65.33052780357724,64.90584506088574,64.18936699106743,63.73445964952182,63.152358860863174,62.30143939928258,61.538376583341744,60.91730989564122,60.2837124463239,59.71729357938916,59.04153779959497,57.91153517857363,56.58414101141624,55.950562536773546,55.358412885604125,54.9320293233056,54.553900414655715,54.20588235767385]},\"selected\":{\"id\":\"4473\",\"type\":\"Selection\"},\"selection_policy\":{\"id\":\"4474\",\"type\":\"UnionRenderers\"}},\"id\":\"4261\",\"type\":\"ColumnDataSource\"},{\"attributes\":{\"overlay\":{\"id\":\"4253\",\"type\":\"BoxAnnotation\"}},\"id\":\"4232\",\"type\":\"BoxZoomTool\"}],\"root_ids\":[\"4209\"]},\"title\":\"Bokeh Application\",\"version\":\"1.3.4\"}};\n",
       "  var render_items = [{\"docid\":\"97a825cc-059d-44d6-b3df-5d56597013a1\",\"roots\":{\"4209\":\"956464b7-2742-4734-939d-ec8bfdd260fc\"}}];\n",
       "  root.Bokeh.embed.embed_items_notebook(docs_json, render_items);\n",
       "\n",
       "  }\n",
       "  if (root.Bokeh !== undefined) {\n",
       "    embed_document(root);\n",
       "  } else {\n",
       "    var attempts = 0;\n",
       "    var timer = setInterval(function(root) {\n",
       "      if (root.Bokeh !== undefined) {\n",
       "        embed_document(root);\n",
       "        clearInterval(timer);\n",
       "      }\n",
       "      attempts++;\n",
       "      if (attempts > 100) {\n",
       "        console.log(\"Bokeh: ERROR: Unable to run BokehJS code because BokehJS library is missing\");\n",
       "        clearInterval(timer);\n",
       "      }\n",
       "    }, 10, root)\n",
       "  }\n",
       "})(window);"
      ],
      "application/vnd.bokehjs_exec.v0+json": ""
     },
     "metadata": {
      "application/vnd.bokehjs_exec.v0+json": {
       "id": "4209"
      }
     },
     "output_type": "display_data"
    }
   ],
   "source": [
    "# Labor force\n",
    "years = list(map(str, list(range(2000,2018))))\n",
    "result = show_weighted_average(years, 'SL.EMP.VULN.FE.ZS', 'SL.TLF.TOTL.IN', ['LDCs', 'Developing excluding LDCs'])"
   ]
  },
  {
   "cell_type": "code",
   "execution_count": 15,
   "metadata": {},
   "outputs": [
    {
     "data": {
      "text/html": [
       "\n",
       "\n",
       "\n",
       "\n",
       "\n",
       "\n",
       "  <div class=\"bk-root\" id=\"b9ee8237-674c-497b-9914-4299fd605cf7\" data-root-id=\"4562\"></div>\n"
      ]
     },
     "metadata": {},
     "output_type": "display_data"
    },
    {
     "data": {
      "application/javascript": [
       "(function(root) {\n",
       "  function embed_document(root) {\n",
       "    \n",
       "  var docs_json = {\"87aab5cf-10db-476f-9a3d-dfc73053dc8c\":{\"roots\":{\"references\":[{\"attributes\":{\"below\":[{\"id\":\"4573\",\"type\":\"LinearAxis\"}],\"center\":[{\"id\":\"4577\",\"type\":\"Grid\"},{\"id\":\"4582\",\"type\":\"Grid\"},{\"id\":\"4607\",\"type\":\"Legend\"}],\"left\":[{\"id\":\"4578\",\"type\":\"LinearAxis\"}],\"plot_height\":400,\"plot_width\":950,\"renderers\":[{\"id\":\"4599\",\"type\":\"GlyphRenderer\"},{\"id\":\"4612\",\"type\":\"GlyphRenderer\"},{\"id\":\"4617\",\"type\":\"GlyphRenderer\"},{\"id\":\"4633\",\"type\":\"GlyphRenderer\"}],\"title\":{\"id\":\"4563\",\"type\":\"Title\"},\"toolbar\":{\"id\":\"4589\",\"type\":\"Toolbar\"},\"x_range\":{\"id\":\"4565\",\"type\":\"DataRange1d\"},\"x_scale\":{\"id\":\"4569\",\"type\":\"LinearScale\"},\"y_range\":{\"id\":\"4567\",\"type\":\"DataRange1d\"},\"y_scale\":{\"id\":\"4571\",\"type\":\"LinearScale\"}},\"id\":\"4562\",\"subtype\":\"Figure\",\"type\":\"Plot\"},{\"attributes\":{},\"id\":\"4603\",\"type\":\"BasicTickFormatter\"},{\"attributes\":{\"line_color\":\"red\",\"line_width\":2,\"x\":{\"field\":\"x\"},\"y\":{\"field\":\"y\"}},\"id\":\"4597\",\"type\":\"Line\"},{\"attributes\":{},\"id\":\"4569\",\"type\":\"LinearScale\"},{\"attributes\":{\"axis_label\":\"Percentage\",\"formatter\":{\"id\":\"4603\",\"type\":\"BasicTickFormatter\"},\"ticker\":{\"id\":\"4579\",\"type\":\"BasicTicker\"}},\"id\":\"4578\",\"type\":\"LinearAxis\"},{\"attributes\":{},\"id\":\"4605\",\"type\":\"BasicTickFormatter\"},{\"attributes\":{},\"id\":\"4571\",\"type\":\"LinearScale\"},{\"attributes\":{},\"id\":\"4843\",\"type\":\"UnionRenderers\"},{\"attributes\":{\"source\":{\"id\":\"4596\",\"type\":\"ColumnDataSource\"}},\"id\":\"4600\",\"type\":\"CDSView\"},{\"attributes\":{\"axis_label\":\"Years\",\"formatter\":{\"id\":\"4605\",\"type\":\"BasicTickFormatter\"},\"ticker\":{\"id\":\"4574\",\"type\":\"BasicTicker\"}},\"id\":\"4573\",\"type\":\"LinearAxis\"},{\"attributes\":{\"label\":{\"value\":\"LDCs\"},\"renderers\":[{\"id\":\"4599\",\"type\":\"GlyphRenderer\"}]},\"id\":\"4608\",\"type\":\"LegendItem\"},{\"attributes\":{\"text\":\"Mortality rate, infant (per 1,000 live births) weighted against Population, total\"},\"id\":\"4563\",\"type\":\"Title\"},{\"attributes\":{},\"id\":\"4587\",\"type\":\"ResetTool\"},{\"attributes\":{\"items\":[{\"id\":\"4608\",\"type\":\"LegendItem\"},{\"id\":\"4629\",\"type\":\"LegendItem\"}],\"location\":\"bottom_left\"},\"id\":\"4607\",\"type\":\"Legend\"},{\"attributes\":{\"data_source\":{\"id\":\"4596\",\"type\":\"ColumnDataSource\"},\"glyph\":{\"id\":\"4597\",\"type\":\"Line\"},\"hover_glyph\":null,\"muted_glyph\":null,\"nonselection_glyph\":{\"id\":\"4598\",\"type\":\"Line\"},\"selection_glyph\":null,\"view\":{\"id\":\"4600\",\"type\":\"CDSView\"}},\"id\":\"4599\",\"type\":\"GlyphRenderer\"},{\"attributes\":{\"callback\":null},\"id\":\"4565\",\"type\":\"DataRange1d\"},{\"attributes\":{},\"id\":\"4840\",\"type\":\"Selection\"},{\"attributes\":{},\"id\":\"4588\",\"type\":\"HelpTool\"},{\"attributes\":{\"source\":{\"id\":\"4614\",\"type\":\"ColumnDataSource\"}},\"id\":\"4618\",\"type\":\"CDSView\"},{\"attributes\":{\"callback\":null},\"id\":\"4567\",\"type\":\"DataRange1d\"},{\"attributes\":{},\"id\":\"4841\",\"type\":\"UnionRenderers\"},{\"attributes\":{\"active_drag\":\"auto\",\"active_inspect\":\"auto\",\"active_multi\":null,\"active_scroll\":\"auto\",\"active_tap\":\"auto\",\"tools\":[{\"id\":\"4583\",\"type\":\"PanTool\"},{\"id\":\"4584\",\"type\":\"WheelZoomTool\"},{\"id\":\"4585\",\"type\":\"BoxZoomTool\"},{\"id\":\"4586\",\"type\":\"SaveTool\"},{\"id\":\"4587\",\"type\":\"ResetTool\"},{\"id\":\"4588\",\"type\":\"HelpTool\"},{\"id\":\"4635\",\"type\":\"HoverTool\"}]},\"id\":\"4589\",\"type\":\"Toolbar\"},{\"attributes\":{\"bottom_units\":\"screen\",\"fill_alpha\":{\"value\":0.5},\"fill_color\":{\"value\":\"lightgrey\"},\"left_units\":\"screen\",\"level\":\"overlay\",\"line_alpha\":{\"value\":1.0},\"line_color\":{\"value\":\"black\"},\"line_dash\":[4,4],\"line_width\":{\"value\":2},\"render_mode\":\"css\",\"right_units\":\"screen\",\"top_units\":\"screen\"},\"id\":\"4606\",\"type\":\"BoxAnnotation\"},{\"attributes\":{},\"id\":\"4842\",\"type\":\"Selection\"},{\"attributes\":{},\"id\":\"4584\",\"type\":\"WheelZoomTool\"},{\"attributes\":{\"line_alpha\":0.1,\"line_color\":\"#1f77b4\",\"line_width\":2,\"x\":{\"field\":\"x\"},\"y\":{\"field\":\"y\"}},\"id\":\"4598\",\"type\":\"Line\"},{\"attributes\":{\"fill_alpha\":{\"value\":0.1},\"fill_color\":{\"value\":\"#1f77b4\"},\"line_alpha\":{\"value\":0.1},\"line_color\":{\"value\":\"#1f77b4\"},\"line_width\":{\"value\":3},\"x\":{\"field\":\"x\"},\"y\":{\"field\":\"y\"}},\"id\":\"4611\",\"type\":\"Circle\"},{\"attributes\":{\"data_source\":{\"id\":\"4630\",\"type\":\"ColumnDataSource\"},\"glyph\":{\"id\":\"4631\",\"type\":\"Circle\"},\"hover_glyph\":null,\"muted_glyph\":null,\"nonselection_glyph\":{\"id\":\"4632\",\"type\":\"Circle\"},\"selection_glyph\":null,\"view\":{\"id\":\"4634\",\"type\":\"CDSView\"}},\"id\":\"4633\",\"type\":\"GlyphRenderer\"},{\"attributes\":{\"overlay\":{\"id\":\"4606\",\"type\":\"BoxAnnotation\"}},\"id\":\"4585\",\"type\":\"BoxZoomTool\"},{\"attributes\":{\"fill_color\":{\"value\":\"red\"},\"line_color\":{\"value\":\"red\"},\"line_width\":{\"value\":3},\"x\":{\"field\":\"x\"},\"y\":{\"field\":\"y\"}},\"id\":\"4610\",\"type\":\"Circle\"},{\"attributes\":{\"source\":{\"id\":\"4630\",\"type\":\"ColumnDataSource\"}},\"id\":\"4634\",\"type\":\"CDSView\"},{\"attributes\":{},\"id\":\"4586\",\"type\":\"SaveTool\"},{\"attributes\":{\"callback\":null,\"data\":{\"x\":[\"2000\",\"2001\",\"2002\",\"2003\",\"2004\",\"2005\",\"2006\",\"2007\",\"2008\",\"2009\",\"2010\",\"2011\",\"2012\",\"2013\",\"2014\",\"2015\",\"2016\",\"2017\"],\"y\":[82.70759690380814,79.73629371086803,76.70131956567673,73.71454770622205,70.80686638940736,68.02122954765979,65.41417889354649,62.8514871260428,60.69956279939264,58.17600443643168,56.34077865781633,53.92638955415337,52.0577982516888,50.28482276049278,48.62932090980866,47.09117150486615,45.62733787270465,44.21599634272751]},\"selected\":{\"id\":\"4626\",\"type\":\"Selection\"},\"selection_policy\":{\"id\":\"4627\",\"type\":\"UnionRenderers\"}},\"id\":\"4609\",\"type\":\"ColumnDataSource\"},{\"attributes\":{\"callback\":null,\"data\":{\"x\":[\"2000\",\"2001\",\"2002\",\"2003\",\"2004\",\"2005\",\"2006\",\"2007\",\"2008\",\"2009\",\"2010\",\"2011\",\"2012\",\"2013\",\"2014\",\"2015\",\"2016\",\"2017\"],\"y\":[45.758602232258916,44.006185482373866,42.27625112523983,40.52709249788235,38.9627181695033,37.23908287256094,35.71694700311238,34.24378821297313,32.82356542916968,31.505214349340378,30.23549863774606,29.02988830437219,27.850705825641178,26.781110096608014,25.712388491284276,24.682632180401672,23.77423357312919,22.83697035928226]},\"selected\":{\"id\":\"4840\",\"type\":\"Selection\"},\"selection_policy\":{\"id\":\"4841\",\"type\":\"UnionRenderers\"}},\"id\":\"4614\",\"type\":\"ColumnDataSource\"},{\"attributes\":{\"callback\":null,\"data\":{\"x\":[\"2000\",\"2001\",\"2002\",\"2003\",\"2004\",\"2005\",\"2006\",\"2007\",\"2008\",\"2009\",\"2010\",\"2011\",\"2012\",\"2013\",\"2014\",\"2015\",\"2016\",\"2017\"],\"y\":[45.758602232258916,44.006185482373866,42.27625112523983,40.52709249788235,38.9627181695033,37.23908287256094,35.71694700311238,34.24378821297313,32.82356542916968,31.505214349340378,30.23549863774606,29.02988830437219,27.850705825641178,26.781110096608014,25.712388491284276,24.682632180401672,23.77423357312919,22.83697035928226]},\"selected\":{\"id\":\"4842\",\"type\":\"Selection\"},\"selection_policy\":{\"id\":\"4843\",\"type\":\"UnionRenderers\"}},\"id\":\"4630\",\"type\":\"ColumnDataSource\"},{\"attributes\":{\"callback\":null,\"tooltips\":\"\\n        <div style=padding=5px>Year:@x</div>\\n        <div style=padding=5px>Value:@y</div>\\n        \"},\"id\":\"4635\",\"type\":\"HoverTool\"},{\"attributes\":{\"callback\":null,\"data\":{\"x\":[\"2000\",\"2001\",\"2002\",\"2003\",\"2004\",\"2005\",\"2006\",\"2007\",\"2008\",\"2009\",\"2010\",\"2011\",\"2012\",\"2013\",\"2014\",\"2015\",\"2016\",\"2017\"],\"y\":[82.70759690380814,79.73629371086803,76.70131956567673,73.71454770622205,70.80686638940736,68.02122954765979,65.41417889354649,62.8514871260428,60.69956279939264,58.17600443643168,56.34077865781633,53.92638955415337,52.0577982516888,50.28482276049278,48.62932090980866,47.09117150486615,45.62733787270465,44.21599634272751]},\"selected\":{\"id\":\"4624\",\"type\":\"Selection\"},\"selection_policy\":{\"id\":\"4625\",\"type\":\"UnionRenderers\"}},\"id\":\"4596\",\"type\":\"ColumnDataSource\"},{\"attributes\":{\"source\":{\"id\":\"4609\",\"type\":\"ColumnDataSource\"}},\"id\":\"4613\",\"type\":\"CDSView\"},{\"attributes\":{\"fill_color\":{\"value\":\"blue\"},\"line_color\":{\"value\":\"blue\"},\"line_width\":{\"value\":3},\"x\":{\"field\":\"x\"},\"y\":{\"field\":\"y\"}},\"id\":\"4631\",\"type\":\"Circle\"},{\"attributes\":{},\"id\":\"4583\",\"type\":\"PanTool\"},{\"attributes\":{},\"id\":\"4624\",\"type\":\"Selection\"},{\"attributes\":{\"data_source\":{\"id\":\"4609\",\"type\":\"ColumnDataSource\"},\"glyph\":{\"id\":\"4610\",\"type\":\"Circle\"},\"hover_glyph\":null,\"muted_glyph\":null,\"nonselection_glyph\":{\"id\":\"4611\",\"type\":\"Circle\"},\"selection_glyph\":null,\"view\":{\"id\":\"4613\",\"type\":\"CDSView\"}},\"id\":\"4612\",\"type\":\"GlyphRenderer\"},{\"attributes\":{\"fill_alpha\":{\"value\":0.1},\"fill_color\":{\"value\":\"#1f77b4\"},\"line_alpha\":{\"value\":0.1},\"line_color\":{\"value\":\"#1f77b4\"},\"line_width\":{\"value\":3},\"x\":{\"field\":\"x\"},\"y\":{\"field\":\"y\"}},\"id\":\"4632\",\"type\":\"Circle\"},{\"attributes\":{\"data_source\":{\"id\":\"4614\",\"type\":\"ColumnDataSource\"},\"glyph\":{\"id\":\"4615\",\"type\":\"Line\"},\"hover_glyph\":null,\"muted_glyph\":null,\"nonselection_glyph\":{\"id\":\"4616\",\"type\":\"Line\"},\"selection_glyph\":null,\"view\":{\"id\":\"4618\",\"type\":\"CDSView\"}},\"id\":\"4617\",\"type\":\"GlyphRenderer\"},{\"attributes\":{},\"id\":\"4626\",\"type\":\"Selection\"},{\"attributes\":{},\"id\":\"4579\",\"type\":\"BasicTicker\"},{\"attributes\":{\"line_alpha\":0.1,\"line_color\":\"#1f77b4\",\"line_width\":2,\"x\":{\"field\":\"x\"},\"y\":{\"field\":\"y\"}},\"id\":\"4616\",\"type\":\"Line\"},{\"attributes\":{},\"id\":\"4627\",\"type\":\"UnionRenderers\"},{\"attributes\":{\"dimension\":1,\"ticker\":{\"id\":\"4579\",\"type\":\"BasicTicker\"}},\"id\":\"4582\",\"type\":\"Grid\"},{\"attributes\":{\"line_color\":\"blue\",\"line_width\":2,\"x\":{\"field\":\"x\"},\"y\":{\"field\":\"y\"}},\"id\":\"4615\",\"type\":\"Line\"},{\"attributes\":{\"label\":{\"value\":\"Developing excluding LDCs\"},\"renderers\":[{\"id\":\"4617\",\"type\":\"GlyphRenderer\"}]},\"id\":\"4629\",\"type\":\"LegendItem\"},{\"attributes\":{},\"id\":\"4574\",\"type\":\"BasicTicker\"},{\"attributes\":{},\"id\":\"4625\",\"type\":\"UnionRenderers\"},{\"attributes\":{\"ticker\":{\"id\":\"4574\",\"type\":\"BasicTicker\"}},\"id\":\"4577\",\"type\":\"Grid\"}],\"root_ids\":[\"4562\"]},\"title\":\"Bokeh Application\",\"version\":\"1.3.4\"}};\n",
       "  var render_items = [{\"docid\":\"87aab5cf-10db-476f-9a3d-dfc73053dc8c\",\"roots\":{\"4562\":\"b9ee8237-674c-497b-9914-4299fd605cf7\"}}];\n",
       "  root.Bokeh.embed.embed_items_notebook(docs_json, render_items);\n",
       "\n",
       "  }\n",
       "  if (root.Bokeh !== undefined) {\n",
       "    embed_document(root);\n",
       "  } else {\n",
       "    var attempts = 0;\n",
       "    var timer = setInterval(function(root) {\n",
       "      if (root.Bokeh !== undefined) {\n",
       "        embed_document(root);\n",
       "        clearInterval(timer);\n",
       "      }\n",
       "      attempts++;\n",
       "      if (attempts > 100) {\n",
       "        console.log(\"Bokeh: ERROR: Unable to run BokehJS code because BokehJS library is missing\");\n",
       "        clearInterval(timer);\n",
       "      }\n",
       "    }, 10, root)\n",
       "  }\n",
       "})(window);"
      ],
      "application/vnd.bokehjs_exec.v0+json": ""
     },
     "metadata": {
      "application/vnd.bokehjs_exec.v0+json": {
       "id": "4562"
      }
     },
     "output_type": "display_data"
    }
   ],
   "source": [
    "# Infant mortality rate\n",
    "years = list(map(str, list(range(2000,2018))))\n",
    "result = show_weighted_average(years, 'SP.DYN.IMRT.IN', 'SP.POP.TOTL', ['LDCs', 'Developing excluding LDCs'])"
   ]
  },
  {
   "cell_type": "code",
   "execution_count": 16,
   "metadata": {},
   "outputs": [
    {
     "data": {
      "text/html": [
       "\n",
       "\n",
       "\n",
       "\n",
       "\n",
       "\n",
       "  <div class=\"bk-root\" id=\"b2cabb70-18ab-4d08-9989-55ecea6d7ac6\" data-root-id=\"4929\"></div>\n"
      ]
     },
     "metadata": {},
     "output_type": "display_data"
    },
    {
     "data": {
      "application/javascript": [
       "(function(root) {\n",
       "  function embed_document(root) {\n",
       "    \n",
       "  var docs_json = {\"7d5d6a35-1f13-41d4-b37f-d65224382ac1\":{\"roots\":{\"references\":[{\"attributes\":{\"below\":[{\"id\":\"4940\",\"type\":\"LinearAxis\"}],\"center\":[{\"id\":\"4944\",\"type\":\"Grid\"},{\"id\":\"4949\",\"type\":\"Grid\"},{\"id\":\"4974\",\"type\":\"Legend\"}],\"left\":[{\"id\":\"4945\",\"type\":\"LinearAxis\"}],\"plot_height\":400,\"plot_width\":950,\"renderers\":[{\"id\":\"4966\",\"type\":\"GlyphRenderer\"},{\"id\":\"4979\",\"type\":\"GlyphRenderer\"},{\"id\":\"4984\",\"type\":\"GlyphRenderer\"},{\"id\":\"5000\",\"type\":\"GlyphRenderer\"}],\"title\":{\"id\":\"4930\",\"type\":\"Title\"},\"toolbar\":{\"id\":\"4956\",\"type\":\"Toolbar\"},\"x_range\":{\"id\":\"4932\",\"type\":\"DataRange1d\"},\"x_scale\":{\"id\":\"4936\",\"type\":\"LinearScale\"},\"y_range\":{\"id\":\"4934\",\"type\":\"DataRange1d\"},\"y_scale\":{\"id\":\"4938\",\"type\":\"LinearScale\"}},\"id\":\"4929\",\"subtype\":\"Figure\",\"type\":\"Plot\"},{\"attributes\":{\"label\":{\"value\":\"LDCs\"},\"renderers\":[{\"id\":\"4966\",\"type\":\"GlyphRenderer\"}]},\"id\":\"4975\",\"type\":\"LegendItem\"},{\"attributes\":{},\"id\":\"4972\",\"type\":\"BasicTickFormatter\"},{\"attributes\":{},\"id\":\"4970\",\"type\":\"BasicTickFormatter\"},{\"attributes\":{},\"id\":\"4936\",\"type\":\"LinearScale\"},{\"attributes\":{\"fill_alpha\":{\"value\":0.1},\"fill_color\":{\"value\":\"#1f77b4\"},\"line_alpha\":{\"value\":0.1},\"line_color\":{\"value\":\"#1f77b4\"},\"line_width\":{\"value\":3},\"x\":{\"field\":\"x\"},\"y\":{\"field\":\"y\"}},\"id\":\"4978\",\"type\":\"Circle\"},{\"attributes\":{},\"id\":\"4938\",\"type\":\"LinearScale\"},{\"attributes\":{\"data_source\":{\"id\":\"4963\",\"type\":\"ColumnDataSource\"},\"glyph\":{\"id\":\"4964\",\"type\":\"Line\"},\"hover_glyph\":null,\"muted_glyph\":null,\"nonselection_glyph\":{\"id\":\"4965\",\"type\":\"Line\"},\"selection_glyph\":null,\"view\":{\"id\":\"4967\",\"type\":\"CDSView\"}},\"id\":\"4966\",\"type\":\"GlyphRenderer\"},{\"attributes\":{\"bottom_units\":\"screen\",\"fill_alpha\":{\"value\":0.5},\"fill_color\":{\"value\":\"lightgrey\"},\"left_units\":\"screen\",\"level\":\"overlay\",\"line_alpha\":{\"value\":1.0},\"line_color\":{\"value\":\"black\"},\"line_dash\":[4,4],\"line_width\":{\"value\":2},\"render_mode\":\"css\",\"right_units\":\"screen\",\"top_units\":\"screen\"},\"id\":\"4973\",\"type\":\"BoxAnnotation\"},{\"attributes\":{\"axis_label\":\"Years\",\"formatter\":{\"id\":\"4972\",\"type\":\"BasicTickFormatter\"},\"ticker\":{\"id\":\"4941\",\"type\":\"BasicTicker\"}},\"id\":\"4940\",\"type\":\"LinearAxis\"},{\"attributes\":{\"source\":{\"id\":\"4963\",\"type\":\"ColumnDataSource\"}},\"id\":\"4967\",\"type\":\"CDSView\"},{\"attributes\":{\"items\":[{\"id\":\"4975\",\"type\":\"LegendItem\"},{\"id\":\"4996\",\"type\":\"LegendItem\"}],\"location\":\"bottom_left\"},\"id\":\"4974\",\"type\":\"Legend\"},{\"attributes\":{\"text\":\"People using at least basic drinking water services (% of population) weighted against Population, total\"},\"id\":\"4930\",\"type\":\"Title\"},{\"attributes\":{},\"id\":\"4954\",\"type\":\"ResetTool\"},{\"attributes\":{},\"id\":\"5224\",\"type\":\"UnionRenderers\"},{\"attributes\":{\"callback\":null,\"data\":{\"x\":[\"2000\",\"2001\",\"2002\",\"2003\",\"2004\",\"2005\",\"2006\",\"2007\",\"2008\",\"2009\",\"2010\",\"2011\",\"2012\",\"2013\",\"2014\",\"2015\",\"2016\",\"2017\"],\"y\":[80.55112682880318,81.00479371625393,81.77679009369407,82.53784452553441,83.28851027121169,84.02975397091646,84.75379189012546,85.4649501299916,86.16369312765474,86.84098274717998,87.50754213927502,88.15891127427683,88.79749865814709,89.42443209227703,90.04162285513938,90.65090738325256,91.23674955938168,91.74156692102636]},\"selected\":{\"id\":\"5221\",\"type\":\"Selection\"},\"selection_policy\":{\"id\":\"5222\",\"type\":\"UnionRenderers\"}},\"id\":\"4981\",\"type\":\"ColumnDataSource\"},{\"attributes\":{\"callback\":null},\"id\":\"4932\",\"type\":\"DataRange1d\"},{\"attributes\":{},\"id\":\"4955\",\"type\":\"HelpTool\"},{\"attributes\":{\"callback\":null,\"data\":{\"x\":[\"2000\",\"2001\",\"2002\",\"2003\",\"2004\",\"2005\",\"2006\",\"2007\",\"2008\",\"2009\",\"2010\",\"2011\",\"2012\",\"2013\",\"2014\",\"2015\",\"2016\",\"2017\"],\"y\":[50.6390755344685,51.36285836928065,52.14657844770643,52.97075929860047,53.794860079880166,54.662284525560544,55.520527356489325,56.36153645028357,57.240532507249455,58.11616913832772,58.98913296089495,59.64521383688594,60.53600239277637,61.398270388222066,62.265100775867786,63.08453248601209,63.816308183565866,64.57404357135272]},\"selected\":{\"id\":\"4993\",\"type\":\"Selection\"},\"selection_policy\":{\"id\":\"4994\",\"type\":\"UnionRenderers\"}},\"id\":\"4976\",\"type\":\"ColumnDataSource\"},{\"attributes\":{\"callback\":null},\"id\":\"4934\",\"type\":\"DataRange1d\"},{\"attributes\":{\"active_drag\":\"auto\",\"active_inspect\":\"auto\",\"active_multi\":null,\"active_scroll\":\"auto\",\"active_tap\":\"auto\",\"tools\":[{\"id\":\"4950\",\"type\":\"PanTool\"},{\"id\":\"4951\",\"type\":\"WheelZoomTool\"},{\"id\":\"4952\",\"type\":\"BoxZoomTool\"},{\"id\":\"4953\",\"type\":\"SaveTool\"},{\"id\":\"4954\",\"type\":\"ResetTool\"},{\"id\":\"4955\",\"type\":\"HelpTool\"},{\"id\":\"5002\",\"type\":\"HoverTool\"}]},\"id\":\"4956\",\"type\":\"Toolbar\"},{\"attributes\":{\"fill_color\":{\"value\":\"red\"},\"line_color\":{\"value\":\"red\"},\"line_width\":{\"value\":3},\"x\":{\"field\":\"x\"},\"y\":{\"field\":\"y\"}},\"id\":\"4977\",\"type\":\"Circle\"},{\"attributes\":{},\"id\":\"4993\",\"type\":\"Selection\"},{\"attributes\":{},\"id\":\"4951\",\"type\":\"WheelZoomTool\"},{\"attributes\":{},\"id\":\"5221\",\"type\":\"Selection\"},{\"attributes\":{\"data_source\":{\"id\":\"4981\",\"type\":\"ColumnDataSource\"},\"glyph\":{\"id\":\"4982\",\"type\":\"Line\"},\"hover_glyph\":null,\"muted_glyph\":null,\"nonselection_glyph\":{\"id\":\"4983\",\"type\":\"Line\"},\"selection_glyph\":null,\"view\":{\"id\":\"4985\",\"type\":\"CDSView\"}},\"id\":\"4984\",\"type\":\"GlyphRenderer\"},{\"attributes\":{\"overlay\":{\"id\":\"4973\",\"type\":\"BoxAnnotation\"}},\"id\":\"4952\",\"type\":\"BoxZoomTool\"},{\"attributes\":{},\"id\":\"5222\",\"type\":\"UnionRenderers\"},{\"attributes\":{\"data_source\":{\"id\":\"4976\",\"type\":\"ColumnDataSource\"},\"glyph\":{\"id\":\"4977\",\"type\":\"Circle\"},\"hover_glyph\":null,\"muted_glyph\":null,\"nonselection_glyph\":{\"id\":\"4978\",\"type\":\"Circle\"},\"selection_glyph\":null,\"view\":{\"id\":\"4980\",\"type\":\"CDSView\"}},\"id\":\"4979\",\"type\":\"GlyphRenderer\"},{\"attributes\":{},\"id\":\"4953\",\"type\":\"SaveTool\"},{\"attributes\":{},\"id\":\"5223\",\"type\":\"Selection\"},{\"attributes\":{\"source\":{\"id\":\"4976\",\"type\":\"ColumnDataSource\"}},\"id\":\"4980\",\"type\":\"CDSView\"},{\"attributes\":{\"data_source\":{\"id\":\"4997\",\"type\":\"ColumnDataSource\"},\"glyph\":{\"id\":\"4998\",\"type\":\"Circle\"},\"hover_glyph\":null,\"muted_glyph\":null,\"nonselection_glyph\":{\"id\":\"4999\",\"type\":\"Circle\"},\"selection_glyph\":null,\"view\":{\"id\":\"5001\",\"type\":\"CDSView\"}},\"id\":\"5000\",\"type\":\"GlyphRenderer\"},{\"attributes\":{},\"id\":\"4992\",\"type\":\"UnionRenderers\"},{\"attributes\":{\"line_color\":\"red\",\"line_width\":2,\"x\":{\"field\":\"x\"},\"y\":{\"field\":\"y\"}},\"id\":\"4964\",\"type\":\"Line\"},{\"attributes\":{\"callback\":null,\"tooltips\":\"\\n        <div style=padding=5px>Year:@x</div>\\n        <div style=padding=5px>Value:@y</div>\\n        \"},\"id\":\"5002\",\"type\":\"HoverTool\"},{\"attributes\":{\"source\":{\"id\":\"4997\",\"type\":\"ColumnDataSource\"}},\"id\":\"5001\",\"type\":\"CDSView\"},{\"attributes\":{\"callback\":null,\"data\":{\"x\":[\"2000\",\"2001\",\"2002\",\"2003\",\"2004\",\"2005\",\"2006\",\"2007\",\"2008\",\"2009\",\"2010\",\"2011\",\"2012\",\"2013\",\"2014\",\"2015\",\"2016\",\"2017\"],\"y\":[50.6390755344685,51.36285836928065,52.14657844770643,52.97075929860047,53.794860079880166,54.662284525560544,55.520527356489325,56.36153645028357,57.240532507249455,58.11616913832772,58.98913296089495,59.64521383688594,60.53600239277637,61.398270388222066,62.265100775867786,63.08453248601209,63.816308183565866,64.57404357135272]},\"selected\":{\"id\":\"4991\",\"type\":\"Selection\"},\"selection_policy\":{\"id\":\"4992\",\"type\":\"UnionRenderers\"}},\"id\":\"4963\",\"type\":\"ColumnDataSource\"},{\"attributes\":{\"line_color\":\"blue\",\"line_width\":2,\"x\":{\"field\":\"x\"},\"y\":{\"field\":\"y\"}},\"id\":\"4982\",\"type\":\"Line\"},{\"attributes\":{},\"id\":\"4950\",\"type\":\"PanTool\"},{\"attributes\":{\"line_alpha\":0.1,\"line_color\":\"#1f77b4\",\"line_width\":2,\"x\":{\"field\":\"x\"},\"y\":{\"field\":\"y\"}},\"id\":\"4965\",\"type\":\"Line\"},{\"attributes\":{\"line_alpha\":0.1,\"line_color\":\"#1f77b4\",\"line_width\":2,\"x\":{\"field\":\"x\"},\"y\":{\"field\":\"y\"}},\"id\":\"4983\",\"type\":\"Line\"},{\"attributes\":{\"callback\":null,\"data\":{\"x\":[\"2000\",\"2001\",\"2002\",\"2003\",\"2004\",\"2005\",\"2006\",\"2007\",\"2008\",\"2009\",\"2010\",\"2011\",\"2012\",\"2013\",\"2014\",\"2015\",\"2016\",\"2017\"],\"y\":[80.55112682880318,81.00479371625393,81.77679009369407,82.53784452553441,83.28851027121169,84.02975397091646,84.75379189012546,85.4649501299916,86.16369312765474,86.84098274717998,87.50754213927502,88.15891127427683,88.79749865814709,89.42443209227703,90.04162285513938,90.65090738325256,91.23674955938168,91.74156692102636]},\"selected\":{\"id\":\"5223\",\"type\":\"Selection\"},\"selection_policy\":{\"id\":\"5224\",\"type\":\"UnionRenderers\"}},\"id\":\"4997\",\"type\":\"ColumnDataSource\"},{\"attributes\":{\"axis_label\":\"Percentage\",\"formatter\":{\"id\":\"4970\",\"type\":\"BasicTickFormatter\"},\"ticker\":{\"id\":\"4946\",\"type\":\"BasicTicker\"}},\"id\":\"4945\",\"type\":\"LinearAxis\"},{\"attributes\":{\"source\":{\"id\":\"4981\",\"type\":\"ColumnDataSource\"}},\"id\":\"4985\",\"type\":\"CDSView\"},{\"attributes\":{\"fill_color\":{\"value\":\"blue\"},\"line_color\":{\"value\":\"blue\"},\"line_width\":{\"value\":3},\"x\":{\"field\":\"x\"},\"y\":{\"field\":\"y\"}},\"id\":\"4998\",\"type\":\"Circle\"},{\"attributes\":{},\"id\":\"4946\",\"type\":\"BasicTicker\"},{\"attributes\":{\"fill_alpha\":{\"value\":0.1},\"fill_color\":{\"value\":\"#1f77b4\"},\"line_alpha\":{\"value\":0.1},\"line_color\":{\"value\":\"#1f77b4\"},\"line_width\":{\"value\":3},\"x\":{\"field\":\"x\"},\"y\":{\"field\":\"y\"}},\"id\":\"4999\",\"type\":\"Circle\"},{\"attributes\":{},\"id\":\"4991\",\"type\":\"Selection\"},{\"attributes\":{\"dimension\":1,\"ticker\":{\"id\":\"4946\",\"type\":\"BasicTicker\"}},\"id\":\"4949\",\"type\":\"Grid\"},{\"attributes\":{},\"id\":\"4941\",\"type\":\"BasicTicker\"},{\"attributes\":{\"label\":{\"value\":\"Developing excluding LDCs\"},\"renderers\":[{\"id\":\"4984\",\"type\":\"GlyphRenderer\"}]},\"id\":\"4996\",\"type\":\"LegendItem\"},{\"attributes\":{},\"id\":\"4994\",\"type\":\"UnionRenderers\"},{\"attributes\":{\"ticker\":{\"id\":\"4941\",\"type\":\"BasicTicker\"}},\"id\":\"4944\",\"type\":\"Grid\"}],\"root_ids\":[\"4929\"]},\"title\":\"Bokeh Application\",\"version\":\"1.3.4\"}};\n",
       "  var render_items = [{\"docid\":\"7d5d6a35-1f13-41d4-b37f-d65224382ac1\",\"roots\":{\"4929\":\"b2cabb70-18ab-4d08-9989-55ecea6d7ac6\"}}];\n",
       "  root.Bokeh.embed.embed_items_notebook(docs_json, render_items);\n",
       "\n",
       "  }\n",
       "  if (root.Bokeh !== undefined) {\n",
       "    embed_document(root);\n",
       "  } else {\n",
       "    var attempts = 0;\n",
       "    var timer = setInterval(function(root) {\n",
       "      if (root.Bokeh !== undefined) {\n",
       "        embed_document(root);\n",
       "        clearInterval(timer);\n",
       "      }\n",
       "      attempts++;\n",
       "      if (attempts > 100) {\n",
       "        console.log(\"Bokeh: ERROR: Unable to run BokehJS code because BokehJS library is missing\");\n",
       "        clearInterval(timer);\n",
       "      }\n",
       "    }, 10, root)\n",
       "  }\n",
       "})(window);"
      ],
      "application/vnd.bokehjs_exec.v0+json": ""
     },
     "metadata": {
      "application/vnd.bokehjs_exec.v0+json": {
       "id": "4929"
      }
     },
     "output_type": "display_data"
    }
   ],
   "source": [
    "# Basic water access\n",
    "years = list(map(str, list(range(2000,2018))))\n",
    "result = show_weighted_average(years, 'SH.H2O.BASW.ZS', 'SP.POP.TOTL', ['LDCs', 'Developing excluding LDCs'])"
   ]
  },
  {
   "cell_type": "code",
   "execution_count": 17,
   "metadata": {},
   "outputs": [
    {
     "data": {
      "text/html": [
       "\n",
       "\n",
       "\n",
       "\n",
       "\n",
       "\n",
       "  <div class=\"bk-root\" id=\"8a04aa02-e48e-4ac0-9124-17930f0dc28f\" data-root-id=\"5310\"></div>\n"
      ]
     },
     "metadata": {},
     "output_type": "display_data"
    },
    {
     "data": {
      "application/javascript": [
       "(function(root) {\n",
       "  function embed_document(root) {\n",
       "    \n",
       "  var docs_json = {\"b68e5e6e-61ec-4489-95fc-bf2d93b39221\":{\"roots\":{\"references\":[{\"attributes\":{\"below\":[{\"id\":\"5321\",\"type\":\"LinearAxis\"}],\"center\":[{\"id\":\"5325\",\"type\":\"Grid\"},{\"id\":\"5330\",\"type\":\"Grid\"},{\"id\":\"5355\",\"type\":\"Legend\"}],\"left\":[{\"id\":\"5326\",\"type\":\"LinearAxis\"}],\"plot_height\":400,\"plot_width\":950,\"renderers\":[{\"id\":\"5347\",\"type\":\"GlyphRenderer\"},{\"id\":\"5360\",\"type\":\"GlyphRenderer\"},{\"id\":\"5365\",\"type\":\"GlyphRenderer\"},{\"id\":\"5381\",\"type\":\"GlyphRenderer\"}],\"title\":{\"id\":\"5311\",\"type\":\"Title\"},\"toolbar\":{\"id\":\"5337\",\"type\":\"Toolbar\"},\"x_range\":{\"id\":\"5313\",\"type\":\"DataRange1d\"},\"x_scale\":{\"id\":\"5317\",\"type\":\"LinearScale\"},\"y_range\":{\"id\":\"5315\",\"type\":\"DataRange1d\"},\"y_scale\":{\"id\":\"5319\",\"type\":\"LinearScale\"}},\"id\":\"5310\",\"subtype\":\"Figure\",\"type\":\"Plot\"},{\"attributes\":{\"bottom_units\":\"screen\",\"fill_alpha\":{\"value\":0.5},\"fill_color\":{\"value\":\"lightgrey\"},\"left_units\":\"screen\",\"level\":\"overlay\",\"line_alpha\":{\"value\":1.0},\"line_color\":{\"value\":\"black\"},\"line_dash\":[4,4],\"line_width\":{\"value\":2},\"render_mode\":\"css\",\"right_units\":\"screen\",\"top_units\":\"screen\"},\"id\":\"5354\",\"type\":\"BoxAnnotation\"},{\"attributes\":{\"active_drag\":\"auto\",\"active_inspect\":\"auto\",\"active_multi\":null,\"active_scroll\":\"auto\",\"active_tap\":\"auto\",\"tools\":[{\"id\":\"5331\",\"type\":\"PanTool\"},{\"id\":\"5332\",\"type\":\"WheelZoomTool\"},{\"id\":\"5333\",\"type\":\"BoxZoomTool\"},{\"id\":\"5334\",\"type\":\"SaveTool\"},{\"id\":\"5335\",\"type\":\"ResetTool\"},{\"id\":\"5336\",\"type\":\"HelpTool\"},{\"id\":\"5383\",\"type\":\"HoverTool\"}]},\"id\":\"5337\",\"type\":\"Toolbar\"},{\"attributes\":{\"callback\":null},\"id\":\"5313\",\"type\":\"DataRange1d\"},{\"attributes\":{},\"id\":\"5353\",\"type\":\"BasicTickFormatter\"},{\"attributes\":{},\"id\":\"5319\",\"type\":\"LinearScale\"},{\"attributes\":{},\"id\":\"5335\",\"type\":\"ResetTool\"},{\"attributes\":{\"data_source\":{\"id\":\"5362\",\"type\":\"ColumnDataSource\"},\"glyph\":{\"id\":\"5363\",\"type\":\"Line\"},\"hover_glyph\":null,\"muted_glyph\":null,\"nonselection_glyph\":{\"id\":\"5364\",\"type\":\"Line\"},\"selection_glyph\":null,\"view\":{\"id\":\"5366\",\"type\":\"CDSView\"}},\"id\":\"5365\",\"type\":\"GlyphRenderer\"},{\"attributes\":{},\"id\":\"5327\",\"type\":\"BasicTicker\"},{\"attributes\":{\"fill_color\":{\"value\":\"blue\"},\"line_color\":{\"value\":\"blue\"},\"line_width\":{\"value\":3},\"x\":{\"field\":\"x\"},\"y\":{\"field\":\"y\"}},\"id\":\"5379\",\"type\":\"Circle\"},{\"attributes\":{},\"id\":\"5322\",\"type\":\"BasicTicker\"},{\"attributes\":{\"line_color\":\"blue\",\"line_width\":2,\"x\":{\"field\":\"x\"},\"y\":{\"field\":\"y\"}},\"id\":\"5363\",\"type\":\"Line\"},{\"attributes\":{\"data_source\":{\"id\":\"5357\",\"type\":\"ColumnDataSource\"},\"glyph\":{\"id\":\"5358\",\"type\":\"Circle\"},\"hover_glyph\":null,\"muted_glyph\":null,\"nonselection_glyph\":{\"id\":\"5359\",\"type\":\"Circle\"},\"selection_glyph\":null,\"view\":{\"id\":\"5361\",\"type\":\"CDSView\"}},\"id\":\"5360\",\"type\":\"GlyphRenderer\"},{\"attributes\":{},\"id\":\"5351\",\"type\":\"BasicTickFormatter\"},{\"attributes\":{\"dimension\":1,\"ticker\":{\"id\":\"5327\",\"type\":\"BasicTicker\"}},\"id\":\"5330\",\"type\":\"Grid\"},{\"attributes\":{\"source\":{\"id\":\"5378\",\"type\":\"ColumnDataSource\"}},\"id\":\"5382\",\"type\":\"CDSView\"},{\"attributes\":{},\"id\":\"5336\",\"type\":\"HelpTool\"},{\"attributes\":{\"fill_alpha\":{\"value\":0.1},\"fill_color\":{\"value\":\"#1f77b4\"},\"line_alpha\":{\"value\":0.1},\"line_color\":{\"value\":\"#1f77b4\"},\"line_width\":{\"value\":3},\"x\":{\"field\":\"x\"},\"y\":{\"field\":\"y\"}},\"id\":\"5380\",\"type\":\"Circle\"},{\"attributes\":{},\"id\":\"5334\",\"type\":\"SaveTool\"},{\"attributes\":{},\"id\":\"5331\",\"type\":\"PanTool\"},{\"attributes\":{},\"id\":\"5374\",\"type\":\"Selection\"},{\"attributes\":{\"source\":{\"id\":\"5344\",\"type\":\"ColumnDataSource\"}},\"id\":\"5348\",\"type\":\"CDSView\"},{\"attributes\":{\"ticker\":{\"id\":\"5322\",\"type\":\"BasicTicker\"}},\"id\":\"5325\",\"type\":\"Grid\"},{\"attributes\":{},\"id\":\"5373\",\"type\":\"UnionRenderers\"},{\"attributes\":{},\"id\":\"5332\",\"type\":\"WheelZoomTool\"},{\"attributes\":{\"text\":\"People using at least basic drinking water services, rural (% of rural population) weighted against Rural population\"},\"id\":\"5311\",\"type\":\"Title\"},{\"attributes\":{},\"id\":\"5317\",\"type\":\"LinearScale\"},{\"attributes\":{},\"id\":\"5617\",\"type\":\"UnionRenderers\"},{\"attributes\":{\"axis_label\":\"Percentage\",\"formatter\":{\"id\":\"5351\",\"type\":\"BasicTickFormatter\"},\"ticker\":{\"id\":\"5327\",\"type\":\"BasicTicker\"}},\"id\":\"5326\",\"type\":\"LinearAxis\"},{\"attributes\":{\"callback\":null},\"id\":\"5315\",\"type\":\"DataRange1d\"},{\"attributes\":{\"line_color\":\"red\",\"line_width\":2,\"x\":{\"field\":\"x\"},\"y\":{\"field\":\"y\"}},\"id\":\"5345\",\"type\":\"Line\"},{\"attributes\":{\"fill_color\":{\"value\":\"red\"},\"line_color\":{\"value\":\"red\"},\"line_width\":{\"value\":3},\"x\":{\"field\":\"x\"},\"y\":{\"field\":\"y\"}},\"id\":\"5358\",\"type\":\"Circle\"},{\"attributes\":{\"callback\":null,\"data\":{\"x\":[\"2000\",\"2001\",\"2002\",\"2003\",\"2004\",\"2005\",\"2006\",\"2007\",\"2008\",\"2009\",\"2010\",\"2011\",\"2012\",\"2013\",\"2014\",\"2015\",\"2016\",\"2017\"],\"y\":[70.548702877432,71.00004920789118,71.95018602183819,72.90005660990126,73.84979674562858,74.80186545073815,75.7497619375849,76.69812617708288,77.64556540872928,78.57794683969233,79.51234784363636,80.44861606275593,81.3846478800014,82.31897898954479,83.25506420388984,84.18519675512437,85.10049117126351,86.01116731571781]},\"selected\":{\"id\":\"5616\",\"type\":\"Selection\"},\"selection_policy\":{\"id\":\"5617\",\"type\":\"UnionRenderers\"}},\"id\":\"5362\",\"type\":\"ColumnDataSource\"},{\"attributes\":{\"overlay\":{\"id\":\"5354\",\"type\":\"BoxAnnotation\"}},\"id\":\"5333\",\"type\":\"BoxZoomTool\"},{\"attributes\":{},\"id\":\"5619\",\"type\":\"UnionRenderers\"},{\"attributes\":{},\"id\":\"5618\",\"type\":\"Selection\"},{\"attributes\":{\"source\":{\"id\":\"5357\",\"type\":\"ColumnDataSource\"}},\"id\":\"5361\",\"type\":\"CDSView\"},{\"attributes\":{\"data_source\":{\"id\":\"5378\",\"type\":\"ColumnDataSource\"},\"glyph\":{\"id\":\"5379\",\"type\":\"Circle\"},\"hover_glyph\":null,\"muted_glyph\":null,\"nonselection_glyph\":{\"id\":\"5380\",\"type\":\"Circle\"},\"selection_glyph\":null,\"view\":{\"id\":\"5382\",\"type\":\"CDSView\"}},\"id\":\"5381\",\"type\":\"GlyphRenderer\"},{\"attributes\":{\"callback\":null,\"data\":{\"x\":[\"2000\",\"2001\",\"2002\",\"2003\",\"2004\",\"2005\",\"2006\",\"2007\",\"2008\",\"2009\",\"2010\",\"2011\",\"2012\",\"2013\",\"2014\",\"2015\",\"2016\",\"2017\"],\"y\":[42.12683300179766,42.80027017649536,43.50079749798844,44.25366307202228,45.00747896662987,45.80419361422807,46.59437519706998,47.36876142509717,48.17616099242744,48.980453708262594,49.782813757361296,50.42503187607093,51.28403194463684,52.07473967276295,52.873727809325516,53.62244943417166,54.273675248356724,54.932811181463364]},\"selected\":{\"id\":\"5372\",\"type\":\"Selection\"},\"selection_policy\":{\"id\":\"5373\",\"type\":\"UnionRenderers\"}},\"id\":\"5344\",\"type\":\"ColumnDataSource\"},{\"attributes\":{\"fill_alpha\":{\"value\":0.1},\"fill_color\":{\"value\":\"#1f77b4\"},\"line_alpha\":{\"value\":0.1},\"line_color\":{\"value\":\"#1f77b4\"},\"line_width\":{\"value\":3},\"x\":{\"field\":\"x\"},\"y\":{\"field\":\"y\"}},\"id\":\"5359\",\"type\":\"Circle\"},{\"attributes\":{\"callback\":null,\"data\":{\"x\":[\"2000\",\"2001\",\"2002\",\"2003\",\"2004\",\"2005\",\"2006\",\"2007\",\"2008\",\"2009\",\"2010\",\"2011\",\"2012\",\"2013\",\"2014\",\"2015\",\"2016\",\"2017\"],\"y\":[42.12683300179766,42.80027017649536,43.50079749798844,44.25366307202228,45.00747896662987,45.80419361422807,46.59437519706998,47.36876142509717,48.17616099242744,48.980453708262594,49.782813757361296,50.42503187607093,51.28403194463684,52.07473967276295,52.873727809325516,53.62244943417166,54.273675248356724,54.932811181463364]},\"selected\":{\"id\":\"5374\",\"type\":\"Selection\"},\"selection_policy\":{\"id\":\"5375\",\"type\":\"UnionRenderers\"}},\"id\":\"5357\",\"type\":\"ColumnDataSource\"},{\"attributes\":{},\"id\":\"5375\",\"type\":\"UnionRenderers\"},{\"attributes\":{\"axis_label\":\"Years\",\"formatter\":{\"id\":\"5353\",\"type\":\"BasicTickFormatter\"},\"ticker\":{\"id\":\"5322\",\"type\":\"BasicTicker\"}},\"id\":\"5321\",\"type\":\"LinearAxis\"},{\"attributes\":{\"label\":{\"value\":\"LDCs\"},\"renderers\":[{\"id\":\"5347\",\"type\":\"GlyphRenderer\"}]},\"id\":\"5356\",\"type\":\"LegendItem\"},{\"attributes\":{\"callback\":null,\"data\":{\"x\":[\"2000\",\"2001\",\"2002\",\"2003\",\"2004\",\"2005\",\"2006\",\"2007\",\"2008\",\"2009\",\"2010\",\"2011\",\"2012\",\"2013\",\"2014\",\"2015\",\"2016\",\"2017\"],\"y\":[70.548702877432,71.00004920789118,71.95018602183819,72.90005660990126,73.84979674562858,74.80186545073815,75.7497619375849,76.69812617708288,77.64556540872928,78.57794683969233,79.51234784363636,80.44861606275593,81.3846478800014,82.31897898954479,83.25506420388984,84.18519675512437,85.10049117126351,86.01116731571781]},\"selected\":{\"id\":\"5618\",\"type\":\"Selection\"},\"selection_policy\":{\"id\":\"5619\",\"type\":\"UnionRenderers\"}},\"id\":\"5378\",\"type\":\"ColumnDataSource\"},{\"attributes\":{\"callback\":null,\"tooltips\":\"\\n        <div style=padding=5px>Year:@x</div>\\n        <div style=padding=5px>Value:@y</div>\\n        \"},\"id\":\"5383\",\"type\":\"HoverTool\"},{\"attributes\":{\"line_alpha\":0.1,\"line_color\":\"#1f77b4\",\"line_width\":2,\"x\":{\"field\":\"x\"},\"y\":{\"field\":\"y\"}},\"id\":\"5346\",\"type\":\"Line\"},{\"attributes\":{\"source\":{\"id\":\"5362\",\"type\":\"ColumnDataSource\"}},\"id\":\"5366\",\"type\":\"CDSView\"},{\"attributes\":{\"line_alpha\":0.1,\"line_color\":\"#1f77b4\",\"line_width\":2,\"x\":{\"field\":\"x\"},\"y\":{\"field\":\"y\"}},\"id\":\"5364\",\"type\":\"Line\"},{\"attributes\":{\"items\":[{\"id\":\"5356\",\"type\":\"LegendItem\"},{\"id\":\"5377\",\"type\":\"LegendItem\"}],\"location\":\"bottom_left\"},\"id\":\"5355\",\"type\":\"Legend\"},{\"attributes\":{\"data_source\":{\"id\":\"5344\",\"type\":\"ColumnDataSource\"},\"glyph\":{\"id\":\"5345\",\"type\":\"Line\"},\"hover_glyph\":null,\"muted_glyph\":null,\"nonselection_glyph\":{\"id\":\"5346\",\"type\":\"Line\"},\"selection_glyph\":null,\"view\":{\"id\":\"5348\",\"type\":\"CDSView\"}},\"id\":\"5347\",\"type\":\"GlyphRenderer\"},{\"attributes\":{},\"id\":\"5616\",\"type\":\"Selection\"},{\"attributes\":{\"label\":{\"value\":\"Developing excluding LDCs\"},\"renderers\":[{\"id\":\"5365\",\"type\":\"GlyphRenderer\"}]},\"id\":\"5377\",\"type\":\"LegendItem\"},{\"attributes\":{},\"id\":\"5372\",\"type\":\"Selection\"}],\"root_ids\":[\"5310\"]},\"title\":\"Bokeh Application\",\"version\":\"1.3.4\"}};\n",
       "  var render_items = [{\"docid\":\"b68e5e6e-61ec-4489-95fc-bf2d93b39221\",\"roots\":{\"5310\":\"8a04aa02-e48e-4ac0-9124-17930f0dc28f\"}}];\n",
       "  root.Bokeh.embed.embed_items_notebook(docs_json, render_items);\n",
       "\n",
       "  }\n",
       "  if (root.Bokeh !== undefined) {\n",
       "    embed_document(root);\n",
       "  } else {\n",
       "    var attempts = 0;\n",
       "    var timer = setInterval(function(root) {\n",
       "      if (root.Bokeh !== undefined) {\n",
       "        embed_document(root);\n",
       "        clearInterval(timer);\n",
       "      }\n",
       "      attempts++;\n",
       "      if (attempts > 100) {\n",
       "        console.log(\"Bokeh: ERROR: Unable to run BokehJS code because BokehJS library is missing\");\n",
       "        clearInterval(timer);\n",
       "      }\n",
       "    }, 10, root)\n",
       "  }\n",
       "})(window);"
      ],
      "application/vnd.bokehjs_exec.v0+json": ""
     },
     "metadata": {
      "application/vnd.bokehjs_exec.v0+json": {
       "id": "5310"
      }
     },
     "output_type": "display_data"
    }
   ],
   "source": [
    "# Basic water access rural\n",
    "years = list(map(str, list(range(2000,2018))))\n",
    "result = show_weighted_average(years, 'SH.H2O.BASW.RU.ZS', 'SP.RUR.TOTL', ['LDCs', 'Developing excluding LDCs'])"
   ]
  },
  {
   "cell_type": "code",
   "execution_count": 19,
   "metadata": {},
   "outputs": [
    {
     "data": {
      "text/html": [
       "\n",
       "\n",
       "\n",
       "\n",
       "\n",
       "\n",
       "  <div class=\"bk-root\" id=\"fd5956c9-0ae4-4904-a029-b3d4a9fb2453\" data-root-id=\"6114\"></div>\n"
      ]
     },
     "metadata": {},
     "output_type": "display_data"
    },
    {
     "data": {
      "application/javascript": [
       "(function(root) {\n",
       "  function embed_document(root) {\n",
       "    \n",
       "  var docs_json = {\"5c1faafb-3ff1-4a2b-a189-219240bb52ac\":{\"roots\":{\"references\":[{\"attributes\":{\"below\":[{\"id\":\"6125\",\"type\":\"LinearAxis\"}],\"center\":[{\"id\":\"6129\",\"type\":\"Grid\"},{\"id\":\"6134\",\"type\":\"Grid\"},{\"id\":\"6159\",\"type\":\"Legend\"}],\"left\":[{\"id\":\"6130\",\"type\":\"LinearAxis\"}],\"plot_height\":400,\"plot_width\":950,\"renderers\":[{\"id\":\"6151\",\"type\":\"GlyphRenderer\"},{\"id\":\"6164\",\"type\":\"GlyphRenderer\"},{\"id\":\"6169\",\"type\":\"GlyphRenderer\"},{\"id\":\"6185\",\"type\":\"GlyphRenderer\"}],\"title\":{\"id\":\"6115\",\"type\":\"Title\"},\"toolbar\":{\"id\":\"6141\",\"type\":\"Toolbar\"},\"x_range\":{\"id\":\"6117\",\"type\":\"DataRange1d\"},\"x_scale\":{\"id\":\"6121\",\"type\":\"LinearScale\"},\"y_range\":{\"id\":\"6119\",\"type\":\"DataRange1d\"},\"y_scale\":{\"id\":\"6123\",\"type\":\"LinearScale\"}},\"id\":\"6114\",\"subtype\":\"Figure\",\"type\":\"Plot\"},{\"attributes\":{\"axis_label\":\"Percentage\",\"formatter\":{\"id\":\"6155\",\"type\":\"BasicTickFormatter\"},\"ticker\":{\"id\":\"6131\",\"type\":\"BasicTicker\"}},\"id\":\"6130\",\"type\":\"LinearAxis\"},{\"attributes\":{},\"id\":\"6131\",\"type\":\"BasicTicker\"},{\"attributes\":{},\"id\":\"6176\",\"type\":\"Selection\"},{\"attributes\":{},\"id\":\"6177\",\"type\":\"UnionRenderers\"},{\"attributes\":{\"dimension\":1,\"ticker\":{\"id\":\"6131\",\"type\":\"BasicTicker\"}},\"id\":\"6134\",\"type\":\"Grid\"},{\"attributes\":{},\"id\":\"6451\",\"type\":\"UnionRenderers\"},{\"attributes\":{\"line_color\":\"blue\",\"line_width\":2,\"x\":{\"field\":\"x\"},\"y\":{\"field\":\"y\"}},\"id\":\"6167\",\"type\":\"Line\"},{\"attributes\":{\"line_color\":\"red\",\"line_width\":2,\"x\":{\"field\":\"x\"},\"y\":{\"field\":\"y\"}},\"id\":\"6149\",\"type\":\"Line\"},{\"attributes\":{\"line_alpha\":0.1,\"line_color\":\"#1f77b4\",\"line_width\":2,\"x\":{\"field\":\"x\"},\"y\":{\"field\":\"y\"}},\"id\":\"6168\",\"type\":\"Line\"},{\"attributes\":{\"callback\":null,\"data\":{\"x\":[\"1990\",\"1991\",\"1992\",\"1993\",\"1994\",\"1995\",\"1996\",\"1997\",\"1998\",\"1999\",\"2000\",\"2001\",\"2002\",\"2003\",\"2004\",\"2005\",\"2006\",\"2007\",\"2008\",\"2009\",\"2010\",\"2011\",\"2012\",\"2013\",\"2014\",\"2015\",\"2016\",\"2017\"],\"y\":[0.0,0.0,0.0,0.0,0.0,0.0,0.0,0.0,0.0,0.0,715.2447987144993,691.6849041419641,673.4892479999546,651.0563817071164,625.5069049458828,592.7740014378311,564.7764525894733,540.1215038192421,519.2159647732941,500.21556542920393,481.30634910908856,463.88510804587,448.827847164424,434.57010999810467,422.4587882882479,406.7932602988281,392.5254468961425,380.5719673986561]},\"selected\":{\"id\":\"6176\",\"type\":\"Selection\"},\"selection_policy\":{\"id\":\"6177\",\"type\":\"UnionRenderers\"}},\"id\":\"6148\",\"type\":\"ColumnDataSource\"},{\"attributes\":{\"callback\":null,\"tooltips\":\"\\n        <div style=padding=5px>Year:@x</div>\\n        <div style=padding=5px>Value:@y</div>\\n        \"},\"id\":\"6187\",\"type\":\"HoverTool\"},{\"attributes\":{\"data_source\":{\"id\":\"6166\",\"type\":\"ColumnDataSource\"},\"glyph\":{\"id\":\"6167\",\"type\":\"Line\"},\"hover_glyph\":null,\"muted_glyph\":null,\"nonselection_glyph\":{\"id\":\"6168\",\"type\":\"Line\"},\"selection_glyph\":null,\"view\":{\"id\":\"6170\",\"type\":\"CDSView\"}},\"id\":\"6169\",\"type\":\"GlyphRenderer\"},{\"attributes\":{},\"id\":\"6135\",\"type\":\"PanTool\"},{\"attributes\":{},\"id\":\"6448\",\"type\":\"Selection\"},{\"attributes\":{\"data_source\":{\"id\":\"6161\",\"type\":\"ColumnDataSource\"},\"glyph\":{\"id\":\"6162\",\"type\":\"Circle\"},\"hover_glyph\":null,\"muted_glyph\":null,\"nonselection_glyph\":{\"id\":\"6163\",\"type\":\"Circle\"},\"selection_glyph\":null,\"view\":{\"id\":\"6165\",\"type\":\"CDSView\"}},\"id\":\"6164\",\"type\":\"GlyphRenderer\"},{\"attributes\":{},\"id\":\"6136\",\"type\":\"WheelZoomTool\"},{\"attributes\":{},\"id\":\"6449\",\"type\":\"UnionRenderers\"},{\"attributes\":{\"source\":{\"id\":\"6161\",\"type\":\"ColumnDataSource\"}},\"id\":\"6165\",\"type\":\"CDSView\"},{\"attributes\":{\"overlay\":{\"id\":\"6158\",\"type\":\"BoxAnnotation\"}},\"id\":\"6137\",\"type\":\"BoxZoomTool\"},{\"attributes\":{},\"id\":\"6450\",\"type\":\"Selection\"},{\"attributes\":{\"callback\":null,\"data\":{\"x\":[\"1990\",\"1991\",\"1992\",\"1993\",\"1994\",\"1995\",\"1996\",\"1997\",\"1998\",\"1999\",\"2000\",\"2001\",\"2002\",\"2003\",\"2004\",\"2005\",\"2006\",\"2007\",\"2008\",\"2009\",\"2010\",\"2011\",\"2012\",\"2013\",\"2014\",\"2015\",\"2016\",\"2017\"],\"y\":[0.0,0.0,0.0,0.0,0.0,0.0,0.0,0.0,0.0,0.0,219.28408588120277,213.48414800134037,206.41811006155564,200.67120038874455,194.22090384430567,186.45995905793217,179.47945880804642,172.69824687103215,167.14239880717736,161.17966398798256,155.12810024875614,149.4076724816034,144.52542353326865,140.4374830912562,137.01364916667524,133.5566778030908,129.90816344064564,127.82152219368795]},\"selected\":{\"id\":\"6448\",\"type\":\"Selection\"},\"selection_policy\":{\"id\":\"6449\",\"type\":\"UnionRenderers\"}},\"id\":\"6166\",\"type\":\"ColumnDataSource\"},{\"attributes\":{\"data_source\":{\"id\":\"6182\",\"type\":\"ColumnDataSource\"},\"glyph\":{\"id\":\"6183\",\"type\":\"Circle\"},\"hover_glyph\":null,\"muted_glyph\":null,\"nonselection_glyph\":{\"id\":\"6184\",\"type\":\"Circle\"},\"selection_glyph\":null,\"view\":{\"id\":\"6186\",\"type\":\"CDSView\"}},\"id\":\"6185\",\"type\":\"GlyphRenderer\"},{\"attributes\":{},\"id\":\"6138\",\"type\":\"SaveTool\"},{\"attributes\":{\"callback\":null,\"data\":{\"x\":[\"1990\",\"1991\",\"1992\",\"1993\",\"1994\",\"1995\",\"1996\",\"1997\",\"1998\",\"1999\",\"2000\",\"2001\",\"2002\",\"2003\",\"2004\",\"2005\",\"2006\",\"2007\",\"2008\",\"2009\",\"2010\",\"2011\",\"2012\",\"2013\",\"2014\",\"2015\",\"2016\",\"2017\"],\"y\":[0.0,0.0,0.0,0.0,0.0,0.0,0.0,0.0,0.0,0.0,715.2447987144993,691.6849041419641,673.4892479999546,651.0563817071164,625.5069049458828,592.7740014378311,564.7764525894733,540.1215038192421,519.2159647732941,500.21556542920393,481.30634910908856,463.88510804587,448.827847164424,434.57010999810467,422.4587882882479,406.7932602988281,392.5254468961425,380.5719673986561]},\"selected\":{\"id\":\"6178\",\"type\":\"Selection\"},\"selection_policy\":{\"id\":\"6179\",\"type\":\"UnionRenderers\"}},\"id\":\"6161\",\"type\":\"ColumnDataSource\"},{\"attributes\":{\"bottom_units\":\"screen\",\"fill_alpha\":{\"value\":0.5},\"fill_color\":{\"value\":\"lightgrey\"},\"left_units\":\"screen\",\"level\":\"overlay\",\"line_alpha\":{\"value\":1.0},\"line_color\":{\"value\":\"black\"},\"line_dash\":[4,4],\"line_width\":{\"value\":2},\"render_mode\":\"css\",\"right_units\":\"screen\",\"top_units\":\"screen\"},\"id\":\"6158\",\"type\":\"BoxAnnotation\"},{\"attributes\":{\"source\":{\"id\":\"6182\",\"type\":\"ColumnDataSource\"}},\"id\":\"6186\",\"type\":\"CDSView\"},{\"attributes\":{},\"id\":\"6139\",\"type\":\"ResetTool\"},{\"attributes\":{\"text\":\"Maternal mortality ratio (modeled estimate, per 100,000 live births) weighted against Population, female\"},\"id\":\"6115\",\"type\":\"Title\"},{\"attributes\":{\"fill_color\":{\"value\":\"red\"},\"line_color\":{\"value\":\"red\"},\"line_width\":{\"value\":3},\"x\":{\"field\":\"x\"},\"y\":{\"field\":\"y\"}},\"id\":\"6162\",\"type\":\"Circle\"},{\"attributes\":{},\"id\":\"6140\",\"type\":\"HelpTool\"},{\"attributes\":{\"callback\":null},\"id\":\"6117\",\"type\":\"DataRange1d\"},{\"attributes\":{\"fill_alpha\":{\"value\":0.1},\"fill_color\":{\"value\":\"#1f77b4\"},\"line_alpha\":{\"value\":0.1},\"line_color\":{\"value\":\"#1f77b4\"},\"line_width\":{\"value\":3},\"x\":{\"field\":\"x\"},\"y\":{\"field\":\"y\"}},\"id\":\"6163\",\"type\":\"Circle\"},{\"attributes\":{\"active_drag\":\"auto\",\"active_inspect\":\"auto\",\"active_multi\":null,\"active_scroll\":\"auto\",\"active_tap\":\"auto\",\"tools\":[{\"id\":\"6135\",\"type\":\"PanTool\"},{\"id\":\"6136\",\"type\":\"WheelZoomTool\"},{\"id\":\"6137\",\"type\":\"BoxZoomTool\"},{\"id\":\"6138\",\"type\":\"SaveTool\"},{\"id\":\"6139\",\"type\":\"ResetTool\"},{\"id\":\"6140\",\"type\":\"HelpTool\"},{\"id\":\"6187\",\"type\":\"HoverTool\"}]},\"id\":\"6141\",\"type\":\"Toolbar\"},{\"attributes\":{\"callback\":null,\"data\":{\"x\":[\"1990\",\"1991\",\"1992\",\"1993\",\"1994\",\"1995\",\"1996\",\"1997\",\"1998\",\"1999\",\"2000\",\"2001\",\"2002\",\"2003\",\"2004\",\"2005\",\"2006\",\"2007\",\"2008\",\"2009\",\"2010\",\"2011\",\"2012\",\"2013\",\"2014\",\"2015\",\"2016\",\"2017\"],\"y\":[0.0,0.0,0.0,0.0,0.0,0.0,0.0,0.0,0.0,0.0,219.28408588120277,213.48414800134037,206.41811006155564,200.67120038874455,194.22090384430567,186.45995905793217,179.47945880804642,172.69824687103215,167.14239880717736,161.17966398798256,155.12810024875614,149.4076724816034,144.52542353326865,140.4374830912562,137.01364916667524,133.5566778030908,129.90816344064564,127.82152219368795]},\"selected\":{\"id\":\"6450\",\"type\":\"Selection\"},\"selection_policy\":{\"id\":\"6451\",\"type\":\"UnionRenderers\"}},\"id\":\"6182\",\"type\":\"ColumnDataSource\"},{\"attributes\":{\"callback\":null},\"id\":\"6119\",\"type\":\"DataRange1d\"},{\"attributes\":{\"line_alpha\":0.1,\"line_color\":\"#1f77b4\",\"line_width\":2,\"x\":{\"field\":\"x\"},\"y\":{\"field\":\"y\"}},\"id\":\"6150\",\"type\":\"Line\"},{\"attributes\":{\"items\":[{\"id\":\"6160\",\"type\":\"LegendItem\"},{\"id\":\"6181\",\"type\":\"LegendItem\"}],\"location\":\"bottom_left\"},\"id\":\"6159\",\"type\":\"Legend\"},{\"attributes\":{\"fill_color\":{\"value\":\"blue\"},\"line_color\":{\"value\":\"blue\"},\"line_width\":{\"value\":3},\"x\":{\"field\":\"x\"},\"y\":{\"field\":\"y\"}},\"id\":\"6183\",\"type\":\"Circle\"},{\"attributes\":{},\"id\":\"6121\",\"type\":\"LinearScale\"},{\"attributes\":{\"label\":{\"value\":\"LDCs\"},\"renderers\":[{\"id\":\"6151\",\"type\":\"GlyphRenderer\"}]},\"id\":\"6160\",\"type\":\"LegendItem\"},{\"attributes\":{\"data_source\":{\"id\":\"6148\",\"type\":\"ColumnDataSource\"},\"glyph\":{\"id\":\"6149\",\"type\":\"Line\"},\"hover_glyph\":null,\"muted_glyph\":null,\"nonselection_glyph\":{\"id\":\"6150\",\"type\":\"Line\"},\"selection_glyph\":null,\"view\":{\"id\":\"6152\",\"type\":\"CDSView\"}},\"id\":\"6151\",\"type\":\"GlyphRenderer\"},{\"attributes\":{\"fill_alpha\":{\"value\":0.1},\"fill_color\":{\"value\":\"#1f77b4\"},\"line_alpha\":{\"value\":0.1},\"line_color\":{\"value\":\"#1f77b4\"},\"line_width\":{\"value\":3},\"x\":{\"field\":\"x\"},\"y\":{\"field\":\"y\"}},\"id\":\"6184\",\"type\":\"Circle\"},{\"attributes\":{},\"id\":\"6123\",\"type\":\"LinearScale\"},{\"attributes\":{\"source\":{\"id\":\"6148\",\"type\":\"ColumnDataSource\"}},\"id\":\"6152\",\"type\":\"CDSView\"},{\"attributes\":{},\"id\":\"6178\",\"type\":\"Selection\"},{\"attributes\":{\"axis_label\":\"Years\",\"formatter\":{\"id\":\"6157\",\"type\":\"BasicTickFormatter\"},\"ticker\":{\"id\":\"6126\",\"type\":\"BasicTicker\"}},\"id\":\"6125\",\"type\":\"LinearAxis\"},{\"attributes\":{},\"id\":\"6155\",\"type\":\"BasicTickFormatter\"},{\"attributes\":{},\"id\":\"6179\",\"type\":\"UnionRenderers\"},{\"attributes\":{},\"id\":\"6126\",\"type\":\"BasicTicker\"},{\"attributes\":{\"label\":{\"value\":\"Developing excluding LDCs\"},\"renderers\":[{\"id\":\"6169\",\"type\":\"GlyphRenderer\"}]},\"id\":\"6181\",\"type\":\"LegendItem\"},{\"attributes\":{},\"id\":\"6157\",\"type\":\"BasicTickFormatter\"},{\"attributes\":{\"ticker\":{\"id\":\"6126\",\"type\":\"BasicTicker\"}},\"id\":\"6129\",\"type\":\"Grid\"},{\"attributes\":{\"source\":{\"id\":\"6166\",\"type\":\"ColumnDataSource\"}},\"id\":\"6170\",\"type\":\"CDSView\"}],\"root_ids\":[\"6114\"]},\"title\":\"Bokeh Application\",\"version\":\"1.3.4\"}};\n",
       "  var render_items = [{\"docid\":\"5c1faafb-3ff1-4a2b-a189-219240bb52ac\",\"roots\":{\"6114\":\"fd5956c9-0ae4-4904-a029-b3d4a9fb2453\"}}];\n",
       "  root.Bokeh.embed.embed_items_notebook(docs_json, render_items);\n",
       "\n",
       "  }\n",
       "  if (root.Bokeh !== undefined) {\n",
       "    embed_document(root);\n",
       "  } else {\n",
       "    var attempts = 0;\n",
       "    var timer = setInterval(function(root) {\n",
       "      if (root.Bokeh !== undefined) {\n",
       "        embed_document(root);\n",
       "        clearInterval(timer);\n",
       "      }\n",
       "      attempts++;\n",
       "      if (attempts > 100) {\n",
       "        console.log(\"Bokeh: ERROR: Unable to run BokehJS code because BokehJS library is missing\");\n",
       "        clearInterval(timer);\n",
       "      }\n",
       "    }, 10, root)\n",
       "  }\n",
       "})(window);"
      ],
      "application/vnd.bokehjs_exec.v0+json": ""
     },
     "metadata": {
      "application/vnd.bokehjs_exec.v0+json": {
       "id": "6114"
      }
     },
     "output_type": "display_data"
    }
   ],
   "source": [
    "# Labor force\n",
    "years = list(map(str, list(range(2000,2018))))\n",
    "result = show_weighted_average(years, 'SH.STA.MMRT', 'SP.POP.TOTL.FE.IN', ['LDCs', 'Developing excluding LDCs'])"
   ]
  },
  {
   "cell_type": "code",
   "execution_count": null,
   "metadata": {},
   "outputs": [],
   "source": []
  }
 ],
 "metadata": {
  "celltoolbar": "Slideshow",
  "kernelspec": {
   "display_name": "Python 3",
   "language": "python",
   "name": "python3"
  },
  "language_info": {
   "codemirror_mode": {
    "name": "ipython",
    "version": 3
   },
   "file_extension": ".py",
   "mimetype": "text/x-python",
   "name": "python",
   "nbconvert_exporter": "python",
   "pygments_lexer": "ipython3",
   "version": "3.7.0"
  }
 },
 "nbformat": 4,
 "nbformat_minor": 2
}
