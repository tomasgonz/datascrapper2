{
 "cells": [
  {
   "cell_type": "code",
   "execution_count": 1,
   "metadata": {
    "ExecuteTime": {
     "end_time": "2019-10-25T14:23:46.481587Z",
     "start_time": "2019-10-25T14:23:45.039173Z"
    },
    "slideshow": {
     "slide_type": "skip"
    }
   },
   "outputs": [
    {
     "data": {
      "text/html": [
       "\n",
       "    <div class=\"bk-root\">\n",
       "        <a href=\"https://bokeh.pydata.org\" target=\"_blank\" class=\"bk-logo bk-logo-small bk-logo-notebook\"></a>\n",
       "        <span id=\"1001\">Loading BokehJS ...</span>\n",
       "    </div>"
      ]
     },
     "metadata": {},
     "output_type": "display_data"
    },
    {
     "data": {
      "application/javascript": [
       "\n",
       "(function(root) {\n",
       "  function now() {\n",
       "    return new Date();\n",
       "  }\n",
       "\n",
       "  var force = true;\n",
       "\n",
       "  if (typeof root._bokeh_onload_callbacks === \"undefined\" || force === true) {\n",
       "    root._bokeh_onload_callbacks = [];\n",
       "    root._bokeh_is_loading = undefined;\n",
       "  }\n",
       "\n",
       "  var JS_MIME_TYPE = 'application/javascript';\n",
       "  var HTML_MIME_TYPE = 'text/html';\n",
       "  var EXEC_MIME_TYPE = 'application/vnd.bokehjs_exec.v0+json';\n",
       "  var CLASS_NAME = 'output_bokeh rendered_html';\n",
       "\n",
       "  /**\n",
       "   * Render data to the DOM node\n",
       "   */\n",
       "  function render(props, node) {\n",
       "    var script = document.createElement(\"script\");\n",
       "    node.appendChild(script);\n",
       "  }\n",
       "\n",
       "  /**\n",
       "   * Handle when an output is cleared or removed\n",
       "   */\n",
       "  function handleClearOutput(event, handle) {\n",
       "    var cell = handle.cell;\n",
       "\n",
       "    var id = cell.output_area._bokeh_element_id;\n",
       "    var server_id = cell.output_area._bokeh_server_id;\n",
       "    // Clean up Bokeh references\n",
       "    if (id != null && id in Bokeh.index) {\n",
       "      Bokeh.index[id].model.document.clear();\n",
       "      delete Bokeh.index[id];\n",
       "    }\n",
       "\n",
       "    if (server_id !== undefined) {\n",
       "      // Clean up Bokeh references\n",
       "      var cmd = \"from bokeh.io.state import curstate; print(curstate().uuid_to_server['\" + server_id + \"'].get_sessions()[0].document.roots[0]._id)\";\n",
       "      cell.notebook.kernel.execute(cmd, {\n",
       "        iopub: {\n",
       "          output: function(msg) {\n",
       "            var id = msg.content.text.trim();\n",
       "            if (id in Bokeh.index) {\n",
       "              Bokeh.index[id].model.document.clear();\n",
       "              delete Bokeh.index[id];\n",
       "            }\n",
       "          }\n",
       "        }\n",
       "      });\n",
       "      // Destroy server and session\n",
       "      var cmd = \"import bokeh.io.notebook as ion; ion.destroy_server('\" + server_id + \"')\";\n",
       "      cell.notebook.kernel.execute(cmd);\n",
       "    }\n",
       "  }\n",
       "\n",
       "  /**\n",
       "   * Handle when a new output is added\n",
       "   */\n",
       "  function handleAddOutput(event, handle) {\n",
       "    var output_area = handle.output_area;\n",
       "    var output = handle.output;\n",
       "\n",
       "    // limit handleAddOutput to display_data with EXEC_MIME_TYPE content only\n",
       "    if ((output.output_type != \"display_data\") || (!output.data.hasOwnProperty(EXEC_MIME_TYPE))) {\n",
       "      return\n",
       "    }\n",
       "\n",
       "    var toinsert = output_area.element.find(\".\" + CLASS_NAME.split(' ')[0]);\n",
       "\n",
       "    if (output.metadata[EXEC_MIME_TYPE][\"id\"] !== undefined) {\n",
       "      toinsert[toinsert.length - 1].firstChild.textContent = output.data[JS_MIME_TYPE];\n",
       "      // store reference to embed id on output_area\n",
       "      output_area._bokeh_element_id = output.metadata[EXEC_MIME_TYPE][\"id\"];\n",
       "    }\n",
       "    if (output.metadata[EXEC_MIME_TYPE][\"server_id\"] !== undefined) {\n",
       "      var bk_div = document.createElement(\"div\");\n",
       "      bk_div.innerHTML = output.data[HTML_MIME_TYPE];\n",
       "      var script_attrs = bk_div.children[0].attributes;\n",
       "      for (var i = 0; i < script_attrs.length; i++) {\n",
       "        toinsert[toinsert.length - 1].firstChild.setAttribute(script_attrs[i].name, script_attrs[i].value);\n",
       "      }\n",
       "      // store reference to server id on output_area\n",
       "      output_area._bokeh_server_id = output.metadata[EXEC_MIME_TYPE][\"server_id\"];\n",
       "    }\n",
       "  }\n",
       "\n",
       "  function register_renderer(events, OutputArea) {\n",
       "\n",
       "    function append_mime(data, metadata, element) {\n",
       "      // create a DOM node to render to\n",
       "      var toinsert = this.create_output_subarea(\n",
       "        metadata,\n",
       "        CLASS_NAME,\n",
       "        EXEC_MIME_TYPE\n",
       "      );\n",
       "      this.keyboard_manager.register_events(toinsert);\n",
       "      // Render to node\n",
       "      var props = {data: data, metadata: metadata[EXEC_MIME_TYPE]};\n",
       "      render(props, toinsert[toinsert.length - 1]);\n",
       "      element.append(toinsert);\n",
       "      return toinsert\n",
       "    }\n",
       "\n",
       "    /* Handle when an output is cleared or removed */\n",
       "    events.on('clear_output.CodeCell', handleClearOutput);\n",
       "    events.on('delete.Cell', handleClearOutput);\n",
       "\n",
       "    /* Handle when a new output is added */\n",
       "    events.on('output_added.OutputArea', handleAddOutput);\n",
       "\n",
       "    /**\n",
       "     * Register the mime type and append_mime function with output_area\n",
       "     */\n",
       "    OutputArea.prototype.register_mime_type(EXEC_MIME_TYPE, append_mime, {\n",
       "      /* Is output safe? */\n",
       "      safe: true,\n",
       "      /* Index of renderer in `output_area.display_order` */\n",
       "      index: 0\n",
       "    });\n",
       "  }\n",
       "\n",
       "  // register the mime type if in Jupyter Notebook environment and previously unregistered\n",
       "  if (root.Jupyter !== undefined) {\n",
       "    var events = require('base/js/events');\n",
       "    var OutputArea = require('notebook/js/outputarea').OutputArea;\n",
       "\n",
       "    if (OutputArea.prototype.mime_types().indexOf(EXEC_MIME_TYPE) == -1) {\n",
       "      register_renderer(events, OutputArea);\n",
       "    }\n",
       "  }\n",
       "\n",
       "  \n",
       "  if (typeof (root._bokeh_timeout) === \"undefined\" || force === true) {\n",
       "    root._bokeh_timeout = Date.now() + 5000;\n",
       "    root._bokeh_failed_load = false;\n",
       "  }\n",
       "\n",
       "  var NB_LOAD_WARNING = {'data': {'text/html':\n",
       "     \"<div style='background-color: #fdd'>\\n\"+\n",
       "     \"<p>\\n\"+\n",
       "     \"BokehJS does not appear to have successfully loaded. If loading BokehJS from CDN, this \\n\"+\n",
       "     \"may be due to a slow or bad network connection. Possible fixes:\\n\"+\n",
       "     \"</p>\\n\"+\n",
       "     \"<ul>\\n\"+\n",
       "     \"<li>re-rerun `output_notebook()` to attempt to load from CDN again, or</li>\\n\"+\n",
       "     \"<li>use INLINE resources instead, as so:</li>\\n\"+\n",
       "     \"</ul>\\n\"+\n",
       "     \"<code>\\n\"+\n",
       "     \"from bokeh.resources import INLINE\\n\"+\n",
       "     \"output_notebook(resources=INLINE)\\n\"+\n",
       "     \"</code>\\n\"+\n",
       "     \"</div>\"}};\n",
       "\n",
       "  function display_loaded() {\n",
       "    var el = document.getElementById(\"1001\");\n",
       "    if (el != null) {\n",
       "      el.textContent = \"BokehJS is loading...\";\n",
       "    }\n",
       "    if (root.Bokeh !== undefined) {\n",
       "      if (el != null) {\n",
       "        el.textContent = \"BokehJS \" + root.Bokeh.version + \" successfully loaded.\";\n",
       "      }\n",
       "    } else if (Date.now() < root._bokeh_timeout) {\n",
       "      setTimeout(display_loaded, 100)\n",
       "    }\n",
       "  }\n",
       "\n",
       "\n",
       "  function run_callbacks() {\n",
       "    try {\n",
       "      root._bokeh_onload_callbacks.forEach(function(callback) {\n",
       "        if (callback != null)\n",
       "          callback();\n",
       "      });\n",
       "    } finally {\n",
       "      delete root._bokeh_onload_callbacks\n",
       "    }\n",
       "    console.debug(\"Bokeh: all callbacks have finished\");\n",
       "  }\n",
       "\n",
       "  function load_libs(css_urls, js_urls, callback) {\n",
       "    if (css_urls == null) css_urls = [];\n",
       "    if (js_urls == null) js_urls = [];\n",
       "\n",
       "    root._bokeh_onload_callbacks.push(callback);\n",
       "    if (root._bokeh_is_loading > 0) {\n",
       "      console.debug(\"Bokeh: BokehJS is being loaded, scheduling callback at\", now());\n",
       "      return null;\n",
       "    }\n",
       "    if (js_urls == null || js_urls.length === 0) {\n",
       "      run_callbacks();\n",
       "      return null;\n",
       "    }\n",
       "    console.debug(\"Bokeh: BokehJS not loaded, scheduling load and callback at\", now());\n",
       "    root._bokeh_is_loading = css_urls.length + js_urls.length;\n",
       "\n",
       "    function on_load() {\n",
       "      root._bokeh_is_loading--;\n",
       "      if (root._bokeh_is_loading === 0) {\n",
       "        console.debug(\"Bokeh: all BokehJS libraries/stylesheets loaded\");\n",
       "        run_callbacks()\n",
       "      }\n",
       "    }\n",
       "\n",
       "    function on_error() {\n",
       "      console.error(\"failed to load \" + url);\n",
       "    }\n",
       "\n",
       "    for (var i = 0; i < css_urls.length; i++) {\n",
       "      var url = css_urls[i];\n",
       "      const element = document.createElement(\"link\");\n",
       "      element.onload = on_load;\n",
       "      element.onerror = on_error;\n",
       "      element.rel = \"stylesheet\";\n",
       "      element.type = \"text/css\";\n",
       "      element.href = url;\n",
       "      console.debug(\"Bokeh: injecting link tag for BokehJS stylesheet: \", url);\n",
       "      document.body.appendChild(element);\n",
       "    }\n",
       "\n",
       "    for (var i = 0; i < js_urls.length; i++) {\n",
       "      var url = js_urls[i];\n",
       "      var element = document.createElement('script');\n",
       "      element.onload = on_load;\n",
       "      element.onerror = on_error;\n",
       "      element.async = false;\n",
       "      element.src = url;\n",
       "      console.debug(\"Bokeh: injecting script tag for BokehJS library: \", url);\n",
       "      document.head.appendChild(element);\n",
       "    }\n",
       "  };var element = document.getElementById(\"1001\");\n",
       "  if (element == null) {\n",
       "    console.error(\"Bokeh: ERROR: autoload.js configured with elementid '1001' but no matching script tag was found. \")\n",
       "    return false;\n",
       "  }\n",
       "\n",
       "  function inject_raw_css(css) {\n",
       "    const element = document.createElement(\"style\");\n",
       "    element.appendChild(document.createTextNode(css));\n",
       "    document.body.appendChild(element);\n",
       "  }\n",
       "\n",
       "  var js_urls = [\"https://cdn.pydata.org/bokeh/release/bokeh-1.3.4.min.js\", \"https://cdn.pydata.org/bokeh/release/bokeh-widgets-1.3.4.min.js\", \"https://cdn.pydata.org/bokeh/release/bokeh-tables-1.3.4.min.js\", \"https://cdn.pydata.org/bokeh/release/bokeh-gl-1.3.4.min.js\"];\n",
       "  var css_urls = [];\n",
       "\n",
       "  var inline_js = [\n",
       "    function(Bokeh) {\n",
       "      Bokeh.set_log_level(\"info\");\n",
       "    },\n",
       "    \n",
       "    function(Bokeh) {\n",
       "      \n",
       "    },\n",
       "    function(Bokeh) {} // ensure no trailing comma for IE\n",
       "  ];\n",
       "\n",
       "  function run_inline_js() {\n",
       "    \n",
       "    if ((root.Bokeh !== undefined) || (force === true)) {\n",
       "      for (var i = 0; i < inline_js.length; i++) {\n",
       "        inline_js[i].call(root, root.Bokeh);\n",
       "      }if (force === true) {\n",
       "        display_loaded();\n",
       "      }} else if (Date.now() < root._bokeh_timeout) {\n",
       "      setTimeout(run_inline_js, 100);\n",
       "    } else if (!root._bokeh_failed_load) {\n",
       "      console.log(\"Bokeh: BokehJS failed to load within specified timeout.\");\n",
       "      root._bokeh_failed_load = true;\n",
       "    } else if (force !== true) {\n",
       "      var cell = $(document.getElementById(\"1001\")).parents('.cell').data().cell;\n",
       "      cell.output_area.append_execute_result(NB_LOAD_WARNING)\n",
       "    }\n",
       "\n",
       "  }\n",
       "\n",
       "  if (root._bokeh_is_loading === 0) {\n",
       "    console.debug(\"Bokeh: BokehJS loaded, going straight to plotting\");\n",
       "    run_inline_js();\n",
       "  } else {\n",
       "    load_libs(css_urls, js_urls, function() {\n",
       "      console.debug(\"Bokeh: BokehJS plotting callback run at\", now());\n",
       "      run_inline_js();\n",
       "    });\n",
       "  }\n",
       "}(window));"
      ],
      "application/vnd.bokehjs_load.v0+json": "\n(function(root) {\n  function now() {\n    return new Date();\n  }\n\n  var force = true;\n\n  if (typeof root._bokeh_onload_callbacks === \"undefined\" || force === true) {\n    root._bokeh_onload_callbacks = [];\n    root._bokeh_is_loading = undefined;\n  }\n\n  \n\n  \n  if (typeof (root._bokeh_timeout) === \"undefined\" || force === true) {\n    root._bokeh_timeout = Date.now() + 5000;\n    root._bokeh_failed_load = false;\n  }\n\n  var NB_LOAD_WARNING = {'data': {'text/html':\n     \"<div style='background-color: #fdd'>\\n\"+\n     \"<p>\\n\"+\n     \"BokehJS does not appear to have successfully loaded. If loading BokehJS from CDN, this \\n\"+\n     \"may be due to a slow or bad network connection. Possible fixes:\\n\"+\n     \"</p>\\n\"+\n     \"<ul>\\n\"+\n     \"<li>re-rerun `output_notebook()` to attempt to load from CDN again, or</li>\\n\"+\n     \"<li>use INLINE resources instead, as so:</li>\\n\"+\n     \"</ul>\\n\"+\n     \"<code>\\n\"+\n     \"from bokeh.resources import INLINE\\n\"+\n     \"output_notebook(resources=INLINE)\\n\"+\n     \"</code>\\n\"+\n     \"</div>\"}};\n\n  function display_loaded() {\n    var el = document.getElementById(\"1001\");\n    if (el != null) {\n      el.textContent = \"BokehJS is loading...\";\n    }\n    if (root.Bokeh !== undefined) {\n      if (el != null) {\n        el.textContent = \"BokehJS \" + root.Bokeh.version + \" successfully loaded.\";\n      }\n    } else if (Date.now() < root._bokeh_timeout) {\n      setTimeout(display_loaded, 100)\n    }\n  }\n\n\n  function run_callbacks() {\n    try {\n      root._bokeh_onload_callbacks.forEach(function(callback) {\n        if (callback != null)\n          callback();\n      });\n    } finally {\n      delete root._bokeh_onload_callbacks\n    }\n    console.debug(\"Bokeh: all callbacks have finished\");\n  }\n\n  function load_libs(css_urls, js_urls, callback) {\n    if (css_urls == null) css_urls = [];\n    if (js_urls == null) js_urls = [];\n\n    root._bokeh_onload_callbacks.push(callback);\n    if (root._bokeh_is_loading > 0) {\n      console.debug(\"Bokeh: BokehJS is being loaded, scheduling callback at\", now());\n      return null;\n    }\n    if (js_urls == null || js_urls.length === 0) {\n      run_callbacks();\n      return null;\n    }\n    console.debug(\"Bokeh: BokehJS not loaded, scheduling load and callback at\", now());\n    root._bokeh_is_loading = css_urls.length + js_urls.length;\n\n    function on_load() {\n      root._bokeh_is_loading--;\n      if (root._bokeh_is_loading === 0) {\n        console.debug(\"Bokeh: all BokehJS libraries/stylesheets loaded\");\n        run_callbacks()\n      }\n    }\n\n    function on_error() {\n      console.error(\"failed to load \" + url);\n    }\n\n    for (var i = 0; i < css_urls.length; i++) {\n      var url = css_urls[i];\n      const element = document.createElement(\"link\");\n      element.onload = on_load;\n      element.onerror = on_error;\n      element.rel = \"stylesheet\";\n      element.type = \"text/css\";\n      element.href = url;\n      console.debug(\"Bokeh: injecting link tag for BokehJS stylesheet: \", url);\n      document.body.appendChild(element);\n    }\n\n    for (var i = 0; i < js_urls.length; i++) {\n      var url = js_urls[i];\n      var element = document.createElement('script');\n      element.onload = on_load;\n      element.onerror = on_error;\n      element.async = false;\n      element.src = url;\n      console.debug(\"Bokeh: injecting script tag for BokehJS library: \", url);\n      document.head.appendChild(element);\n    }\n  };var element = document.getElementById(\"1001\");\n  if (element == null) {\n    console.error(\"Bokeh: ERROR: autoload.js configured with elementid '1001' but no matching script tag was found. \")\n    return false;\n  }\n\n  function inject_raw_css(css) {\n    const element = document.createElement(\"style\");\n    element.appendChild(document.createTextNode(css));\n    document.body.appendChild(element);\n  }\n\n  var js_urls = [\"https://cdn.pydata.org/bokeh/release/bokeh-1.3.4.min.js\", \"https://cdn.pydata.org/bokeh/release/bokeh-widgets-1.3.4.min.js\", \"https://cdn.pydata.org/bokeh/release/bokeh-tables-1.3.4.min.js\", \"https://cdn.pydata.org/bokeh/release/bokeh-gl-1.3.4.min.js\"];\n  var css_urls = [];\n\n  var inline_js = [\n    function(Bokeh) {\n      Bokeh.set_log_level(\"info\");\n    },\n    \n    function(Bokeh) {\n      \n    },\n    function(Bokeh) {} // ensure no trailing comma for IE\n  ];\n\n  function run_inline_js() {\n    \n    if ((root.Bokeh !== undefined) || (force === true)) {\n      for (var i = 0; i < inline_js.length; i++) {\n        inline_js[i].call(root, root.Bokeh);\n      }if (force === true) {\n        display_loaded();\n      }} else if (Date.now() < root._bokeh_timeout) {\n      setTimeout(run_inline_js, 100);\n    } else if (!root._bokeh_failed_load) {\n      console.log(\"Bokeh: BokehJS failed to load within specified timeout.\");\n      root._bokeh_failed_load = true;\n    } else if (force !== true) {\n      var cell = $(document.getElementById(\"1001\")).parents('.cell').data().cell;\n      cell.output_area.append_execute_result(NB_LOAD_WARNING)\n    }\n\n  }\n\n  if (root._bokeh_is_loading === 0) {\n    console.debug(\"Bokeh: BokehJS loaded, going straight to plotting\");\n    run_inline_js();\n  } else {\n    load_libs(css_urls, js_urls, function() {\n      console.debug(\"Bokeh: BokehJS plotting callback run at\", now());\n      run_inline_js();\n    });\n  }\n}(window));"
     },
     "metadata": {},
     "output_type": "display_data"
    }
   ],
   "source": [
    "import sys\n",
    "sys.path.append(\"../../\")\n",
    "from data.Frame import Frame\n",
    "from bk import show_weighted_average, show_group_total, get_pandas_dataframe, line_chart, scatter_plot\n",
    "from bokeh.io import output_notebook\n",
    "from bokeh.plotting import figure, output_file, show, reset_output\n",
    "import sources\n",
    "from sources.unpd.indicators import get_projection_by_groups as gpp\n",
    "from sources.cdp.indicators import get_indicators as get_indicators_cdp_2018\n",
    "from sources.worldbank.datatable import get_data_table as get_wb_tb\n",
    "reset_output()\n",
    "output_notebook()"
   ]
  },
  {
   "cell_type": "markdown",
   "metadata": {
    "slideshow": {
     "slide_type": "slide"
    }
   },
   "source": [
    "# Human and Social development in the LDCs"
   ]
  },
  {
   "cell_type": "markdown",
   "metadata": {
    "slideshow": {
     "slide_type": "slide"
    }
   },
   "source": [
    "# The Least Developed Countries\n",
    "\n",
    "+ The category of the least developed countries was created in 1971\n",
    "\n",
    "+ Least developed countries (LDCs) are low-income countries confronting severe structural impediments to sustainable development. They are highly vulnerable to economic and environmental shocks and have low levels of human assets.\n"
   ]
  },
  {
   "cell_type": "markdown",
   "metadata": {
    "slideshow": {
     "slide_type": "slide"
    }
   },
   "source": [
    "Least developed countries (LDCs) are **low-income countries** confronting severe **structural** impediments to sustainable development. They are highly **vulnerable to economic and environmental shocks** and have **low levels of human assets**."
   ]
  },
  {
   "cell_type": "markdown",
   "metadata": {
    "slideshow": {
     "slide_type": "slide"
    }
   },
   "source": [
    "## The criteria to dentify LDCs\n",
    "The Committee for Development Policy has established three criteria for including and graduating countries from the category:\n",
    "    \n",
    "### The Economic Vulnerability Index (EVI)\n",
    "    \n",
    "### The Human Assets Index (HAI)\n",
    "\n",
    "### GNI per capita"
   ]
  },
  {
   "cell_type": "code",
   "execution_count": 2,
   "metadata": {
    "ExecuteTime": {
     "end_time": "2019-10-25T14:23:46.674809Z",
     "start_time": "2019-10-25T14:23:46.484107Z"
    },
    "slideshow": {
     "slide_type": "skip"
    }
   },
   "outputs": [],
   "source": [
    "cdp_data_2018 = get_indicators_cdp_2018(['LDCs'])\n",
    "entities = cdp_data_2018.get_column('entity').as_array()\n",
    "evi = cdp_data_2018.get_column('evi').as_array()\n",
    "hai = cdp_data_2018.get_column('hai').as_array()\n",
    "gni = cdp_data_2018.get_column('gni_per_capita_dollars').as_array()\n",
    "gni_normalized = [(x / sum(gni))*30 for x in gni]"
   ]
  },
  {
   "cell_type": "code",
   "execution_count": 3,
   "metadata": {
    "ExecuteTime": {
     "end_time": "2019-10-25T14:23:46.713931Z",
     "start_time": "2019-10-25T14:23:46.677516Z"
    },
    "slideshow": {
     "slide_type": "slide"
    }
   },
   "outputs": [
    {
     "data": {
      "text/html": [
       "\n",
       "\n",
       "\n",
       "\n",
       "\n",
       "\n",
       "  <div class=\"bk-root\" id=\"bfbbf33c-018a-44f5-af44-b898bc944234\" data-root-id=\"1004\"></div>\n"
      ]
     },
     "metadata": {},
     "output_type": "display_data"
    },
    {
     "data": {
      "application/javascript": [
       "(function(root) {\n",
       "  function embed_document(root) {\n",
       "    \n",
       "  var docs_json = {\"b0fa6617-ab72-40cc-b870-646f15812467\":{\"roots\":{\"references\":[{\"attributes\":{\"below\":[{\"id\":\"1015\",\"type\":\"LinearAxis\"}],\"center\":[{\"id\":\"1019\",\"type\":\"Grid\"},{\"id\":\"1024\",\"type\":\"Grid\"},{\"id\":\"1033\",\"type\":\"LabelSet\"}],\"left\":[{\"id\":\"1020\",\"type\":\"LinearAxis\"}],\"plot_width\":950,\"renderers\":[{\"id\":\"1031\",\"type\":\"GlyphRenderer\"}],\"title\":{\"id\":\"1005\",\"type\":\"Title\"},\"toolbar\":{\"id\":\"1026\",\"type\":\"Toolbar\"},\"x_range\":{\"id\":\"1007\",\"type\":\"DataRange1d\"},\"x_scale\":{\"id\":\"1011\",\"type\":\"LinearScale\"},\"y_range\":{\"id\":\"1009\",\"type\":\"DataRange1d\"},\"y_scale\":{\"id\":\"1013\",\"type\":\"LinearScale\"}},\"id\":\"1004\",\"subtype\":\"Figure\",\"type\":\"Plot\"},{\"attributes\":{},\"id\":\"1013\",\"type\":\"LinearScale\"},{\"attributes\":{},\"id\":\"1040\",\"type\":\"UnionRenderers\"},{\"attributes\":{\"ticker\":{\"id\":\"1016\",\"type\":\"BasicTicker\"}},\"id\":\"1019\",\"type\":\"Grid\"},{\"attributes\":{},\"id\":\"1036\",\"type\":\"BasicTickFormatter\"},{\"attributes\":{\"axis_label\":\"HAI\",\"formatter\":{\"id\":\"1036\",\"type\":\"BasicTickFormatter\"},\"ticker\":{\"id\":\"1021\",\"type\":\"BasicTicker\"}},\"id\":\"1020\",\"type\":\"LinearAxis\"},{\"attributes\":{\"callback\":null,\"data\":{\"evi\":[39.31847499761291,36.757499031522215,25.21977531407407,34.32843983867595,36.26105903025079,38.24968188294886,44.53840537420615,34.75933730781097,33.55527518528004,52.43229442971872,52.38395723067039,27.237133266314615,36.329678101824925,54.70608523319488,32.09573717926084,72.15168677316157,30.163203421036275,52.38566801102522,30.553838443774744,73.69258065327526,42.02234466093909,53.203575960114186,37.845308176229935,47.1236284854542,36.7941622313397,39.91252075695854,36.7237686236129,31.7432961328469,28.422642129717293,35.255239686720145,36.377946784929456,41.23100272969866,33.44246330286905,51.563062215984765,51.90755365345187,34.725685139794926,49.214096687726894,56.79572845959256,28.338132621668773,56.01606076954609,31.718809204036635,27.90609781167721,46.9962786557694,38.63576320999087,40.46026103469391],\"hai\":[48.3698405313323,52.52043657551618,73.15064266822495,49.75421277291333,72.86608884522367,42.91698654581399,38.4582473052599,68.92528304696823,17.37091156051442,22.085484315685715,49.385256569573,41.87232303636952,58.02908229893985,42.893055780999646,45.30853361262692,51.82920387983884,39.48893995074097,41.716252662688056,47.97415181855695,83.96679690389746,61.572583924694506,37.23070426579468,54.53329453168444,52.522138892622166,43.106314630459046,46.940261858442696,45.8152514338928,68.47497037955749,71.21981923337259,35.374052152796644,54.97246497703989,86.00679852404463,57.12957161797068,27.395916767676766,74.78849047963382,16.65507946932967,53.03509118236097,66.63143020458574,61.82618003109269,90.13457842056366,50.23906690599287,56.02779180814835,78.51943490439294,59.22749709179137,58.594410552318735],\"names\":[\"Afghanistan\",\"Angola\",\"Bangladesh\",\"Benin\",\"Bhutan\",\"Burkina Faso\",\"Burundi\",\"Cambodia\",\"Central African Republic\",\"Chad\",\"Comoros\",\"Democratic Republic of the Congo\",\"Djibouti\",\"Eritrea\",\"Ethiopia\",\"Gambia\",\"Guinea\",\"Guinea-Bissau\",\"Haiti\",\"Kiribati\",\"Lesotho\",\"Liberia\",\"Madagascar\",\"Malawi\",\"Mali\",\"Mauritania\",\"Mozambique\",\"Myanmar\",\"Nepal\",\"Niger\",\"Rwanda\",\"Sao Tome and Principe\",\"Senegal\",\"Sierra Leone\",\"Solomon Islands\",\"Somalia\",\"Sudan\",\"Timor-Leste\",\"Togo\",\"Tuvalu\",\"Uganda\",\"United Republic of Tanzania\",\"Vanuatu\",\"Yemen\",\"Zambia\"],\"radii\":[0.3486056940032576,2.4668524266042016,0.7020447947937721,0.48602223509185105,1.3228778144086932,0.3545063770828273,0.1439906217703531,0.5921658071844065,0.2039025303122942,0.5072539150463391,0.8788819521470623,0.26478852194206287,1.0434896028654765,0.4748310823991456,0.3550084704511006,0.247446969190501,0.37373691067035597,0.32794088514739334,0.44869169499991846,1.6454751810450026,0.7143690867404829,0.23730867258431165,0.2677231781905875,0.18263121659249557,0.441142763699007,0.6775521275707559,0.3108420352212877,0.6914928152526487,0.41032077914907744,0.2166245207324081,0.3895316490963874,0.9279304402907724,0.5532615213153896,0.32073284585082373,0.9714956147211605,0.052410075653960046,0.8001174040745556,1.4634728916821294,0.3057813583848219,2.9686806171600546,0.3643815661228828,0.49688045527581914,1.6609010705734226,0.5258532451564529,0.8600485617522887]},\"selected\":{\"id\":\"1041\",\"type\":\"Selection\"},\"selection_policy\":{\"id\":\"1040\",\"type\":\"UnionRenderers\"}},\"id\":\"1003\",\"type\":\"ColumnDataSource\"},{\"attributes\":{\"dimension\":1,\"ticker\":{\"id\":\"1021\",\"type\":\"BasicTicker\"}},\"id\":\"1024\",\"type\":\"Grid\"},{\"attributes\":{},\"id\":\"1016\",\"type\":\"BasicTicker\"},{\"attributes\":{},\"id\":\"1011\",\"type\":\"LinearScale\"},{\"attributes\":{\"data_source\":{\"id\":\"1003\",\"type\":\"ColumnDataSource\"},\"glyph\":{\"id\":\"1029\",\"type\":\"Circle\"},\"hover_glyph\":null,\"muted_glyph\":null,\"nonselection_glyph\":{\"id\":\"1030\",\"type\":\"Circle\"},\"selection_glyph\":null,\"view\":{\"id\":\"1032\",\"type\":\"CDSView\"}},\"id\":\"1031\",\"type\":\"GlyphRenderer\"},{\"attributes\":{},\"id\":\"1041\",\"type\":\"Selection\"},{\"attributes\":{\"active_drag\":\"auto\",\"active_inspect\":\"auto\",\"active_multi\":null,\"active_scroll\":\"auto\",\"active_tap\":\"auto\",\"tools\":[{\"id\":\"1025\",\"type\":\"HoverTool\"}]},\"id\":\"1026\",\"type\":\"Toolbar\"},{\"attributes\":{\"callback\":null},\"id\":\"1025\",\"type\":\"HoverTool\"},{\"attributes\":{\"fill_alpha\":{\"value\":0.1},\"fill_color\":{\"value\":\"#1f77b4\"},\"line_alpha\":{\"value\":0.1},\"line_color\":{\"value\":\"#1f77b4\"},\"radius\":{\"field\":\"radii\",\"units\":\"data\"},\"x\":{\"field\":\"evi\"},\"y\":{\"field\":\"hai\"}},\"id\":\"1030\",\"type\":\"Circle\"},{\"attributes\":{},\"id\":\"1038\",\"type\":\"BasicTickFormatter\"},{\"attributes\":{\"level\":\"glyph\",\"source\":{\"id\":\"1003\",\"type\":\"ColumnDataSource\"},\"text\":{\"field\":\"names\"},\"text_font_size\":{\"value\":\"8pt\"},\"x\":{\"field\":\"evi\"},\"x_offset\":{\"value\":5},\"y\":{\"field\":\"hai\"},\"y_offset\":{\"value\":5}},\"id\":\"1033\",\"type\":\"LabelSet\"},{\"attributes\":{\"axis_label\":\"EVI\",\"formatter\":{\"id\":\"1038\",\"type\":\"BasicTickFormatter\"},\"ticker\":{\"id\":\"1016\",\"type\":\"BasicTicker\"}},\"id\":\"1015\",\"type\":\"LinearAxis\"},{\"attributes\":{\"callback\":null},\"id\":\"1007\",\"type\":\"DataRange1d\"},{\"attributes\":{\"source\":{\"id\":\"1003\",\"type\":\"ColumnDataSource\"}},\"id\":\"1032\",\"type\":\"CDSView\"},{\"attributes\":{\"text\":\"HAI vs EVI\"},\"id\":\"1005\",\"type\":\"Title\"},{\"attributes\":{\"callback\":null},\"id\":\"1009\",\"type\":\"DataRange1d\"},{\"attributes\":{\"fill_alpha\":{\"value\":0.6},\"fill_color\":{\"value\":\"#1f77b4\"},\"line_color\":{\"value\":null},\"radius\":{\"field\":\"radii\",\"units\":\"data\"},\"x\":{\"field\":\"evi\"},\"y\":{\"field\":\"hai\"}},\"id\":\"1029\",\"type\":\"Circle\"},{\"attributes\":{},\"id\":\"1021\",\"type\":\"BasicTicker\"}],\"root_ids\":[\"1004\"]},\"title\":\"Bokeh Application\",\"version\":\"1.3.4\"}};\n",
       "  var render_items = [{\"docid\":\"b0fa6617-ab72-40cc-b870-646f15812467\",\"roots\":{\"1004\":\"bfbbf33c-018a-44f5-af44-b898bc944234\"}}];\n",
       "  root.Bokeh.embed.embed_items_notebook(docs_json, render_items);\n",
       "\n",
       "  }\n",
       "  if (root.Bokeh !== undefined) {\n",
       "    embed_document(root);\n",
       "  } else {\n",
       "    var attempts = 0;\n",
       "    var timer = setInterval(function(root) {\n",
       "      if (root.Bokeh !== undefined) {\n",
       "        embed_document(root);\n",
       "        clearInterval(timer);\n",
       "      }\n",
       "      attempts++;\n",
       "      if (attempts > 100) {\n",
       "        console.log(\"Bokeh: ERROR: Unable to run BokehJS code because BokehJS library is missing\");\n",
       "        clearInterval(timer);\n",
       "      }\n",
       "    }, 10, root)\n",
       "  }\n",
       "})(window);"
      ],
      "application/vnd.bokehjs_exec.v0+json": ""
     },
     "metadata": {
      "application/vnd.bokehjs_exec.v0+json": {
       "id": "1004"
      }
     },
     "output_type": "display_data"
    }
   ],
   "source": [
    "p = scatter_plot(evi, hai, gni_normalized, entities)\n",
    "show(p)"
   ]
  },
  {
   "cell_type": "markdown",
   "metadata": {
    "slideshow": {
     "slide_type": "slide"
    }
   },
   "source": [
    "# The Istanbul Programme of Action"
   ]
  },
  {
   "cell_type": "markdown",
   "metadata": {
    "ExecuteTime": {
     "end_time": "2019-10-23T16:34:47.577716Z",
     "start_time": "2019-10-23T16:34:47.551207Z"
    },
    "slideshow": {
     "slide_type": "slide"
    }
   },
   "source": [
    "# Objectives"
   ]
  },
  {
   "cell_type": "markdown",
   "metadata": {
    "slideshow": {
     "slide_type": "slide"
    }
   },
   "source": [
    "27. The overarching goal of the Programme of Action for the decade 2011-2020 is to overcome the structural challenges faced by the least developed countries in order to eradicate poverty, achieve internationally agreed development goals and enable graduation from the least developed country category.\n",
    "\n"
   ]
  },
  {
   "cell_type": "markdown",
   "metadata": {
    "slideshow": {
     "slide_type": "slide"
    }
   },
   "source": [
    "28. Guided by the overarching goal, national policies of least developed countries and international support measures during the decade will focus on the following specific objectives with the aim of enabling half the number of least developed countries to meet the criteria for graduation by 2020:"
   ]
  },
  {
   "cell_type": "markdown",
   "metadata": {
    "slideshow": {
     "slide_type": "slide"
    }
   },
   "source": [
    "**(a)** Achieve sustained, equitable and inclusive economic growth in least developed countries, to at least the level of 7 per cent per annum, by strengthening their productive capacity in all sectors through structural transformation and overcoming their marginalization through their effective integration into the global economy, including through regional integration;"
   ]
  },
  {
   "cell_type": "markdown",
   "metadata": {
    "slideshow": {
     "slide_type": "slide"
    }
   },
   "source": [
    "**(b) Build human capacities by fostering sustained, equitable and inclusive human and social development, gender equality and the empowerment of women;**"
   ]
  },
  {
   "cell_type": "markdown",
   "metadata": {
    "slideshow": {
     "slide_type": "slide"
    }
   },
   "source": [
    "**(c)** Reduce the **vulnerability** of least developed countries to economic, natural and environmental shocks and disasters, as well as climate change, and enhance their ability to meet these and other challenges through strengthening their resilience;"
   ]
  },
  {
   "cell_type": "markdown",
   "metadata": {
    "slideshow": {
     "slide_type": "slide"
    }
   },
   "source": [
    "**(d)** Ensure enhanced financial resources and their effective use for least developed countries’ development, including through domestic resource mobilization, ODA, external debt relief, foreign direct investment and remittances;"
   ]
  },
  {
   "cell_type": "markdown",
   "metadata": {
    "slideshow": {
     "slide_type": "slide"
    }
   },
   "source": [
    "**(e)** Enhance good governance at all levels, by strengthening democratic processes, institutions and the rule of law; increasing efficiency, coherence, transparency and participation; protecting and promoting human rights; and reducing corruption, and strengthen least developed country Governments’ capacity to play an effective role in their economic and social development."
   ]
  },
  {
   "cell_type": "markdown",
   "metadata": {
    "slideshow": {
     "slide_type": "slide"
    }
   },
   "source": [
    "# IV. Priority areas for action\n",
    "\n",
    "43. The actions will be organized by priority areas as:\n",
    "\n",
    "A. Productive capacity\n",
    "\n",
    "B. Agriculture, food security and rural development\n",
    "\n",
    "C. Trade\n",
    "\n",
    "D. Commodities\n",
    "\n",
    "**E. Human and social development**\n",
    "\n",
    "F. Multiple crises and other emerging challenges ▪Economic shocks\n",
    "\n",
    "H. Good governance at all levels"
   ]
  },
  {
   "cell_type": "markdown",
   "metadata": {
    "slideshow": {
     "slide_type": "slide"
    }
   },
   "source": [
    "# E. Human and social development\n",
    "\n",
    "+ Education and training\n",
    "\n",
    "+ Population and primary health\n",
    "\n",
    "+ Youth development\n",
    "\n",
    "+ Shelter\n",
    "\n",
    "+ Water and sanitation\n",
    "\n",
    "+ Gender equality and empowerment of women \n",
    "\n",
    "+ Social protection"
   ]
  },
  {
   "cell_type": "markdown",
   "metadata": {
    "slideshow": {
     "slide_type": "slide"
    }
   },
   "source": [
    "# Population and primary health"
   ]
  },
  {
   "cell_type": "code",
   "execution_count": 4,
   "metadata": {
    "ExecuteTime": {
     "end_time": "2019-10-25T14:23:47.479465Z",
     "start_time": "2019-10-25T14:23:46.720219Z"
    },
    "slideshow": {
     "slide_type": "slide"
    }
   },
   "outputs": [
    {
     "data": {
      "text/html": [
       "\n",
       "\n",
       "\n",
       "\n",
       "\n",
       "\n",
       "  <div class=\"bk-root\" id=\"a63166a9-a5d6-4e95-888c-3509e534cb75\" data-root-id=\"1084\"></div>\n"
      ]
     },
     "metadata": {},
     "output_type": "display_data"
    },
    {
     "data": {
      "application/javascript": [
       "(function(root) {\n",
       "  function embed_document(root) {\n",
       "    \n",
       "  var docs_json = {\"dbcb8311-c35a-4f92-b750-a168ffb5ab0b\":{\"roots\":{\"references\":[{\"attributes\":{\"below\":[{\"id\":\"1095\",\"type\":\"LinearAxis\"}],\"center\":[{\"id\":\"1099\",\"type\":\"Grid\"},{\"id\":\"1104\",\"type\":\"Grid\"},{\"id\":\"1129\",\"type\":\"Legend\"}],\"left\":[{\"id\":\"1100\",\"type\":\"LinearAxis\"}],\"plot_height\":400,\"plot_width\":900,\"renderers\":[{\"id\":\"1121\",\"type\":\"GlyphRenderer\"},{\"id\":\"1134\",\"type\":\"GlyphRenderer\"}],\"title\":{\"id\":\"1085\",\"type\":\"Title\"},\"toolbar\":{\"id\":\"1111\",\"type\":\"Toolbar\"},\"x_range\":{\"id\":\"1087\",\"type\":\"DataRange1d\"},\"x_scale\":{\"id\":\"1091\",\"type\":\"LinearScale\"},\"y_range\":{\"id\":\"1089\",\"type\":\"DataRange1d\"},\"y_scale\":{\"id\":\"1093\",\"type\":\"LinearScale\"}},\"id\":\"1084\",\"subtype\":\"Figure\",\"type\":\"Plot\"},{\"attributes\":{\"source\":{\"id\":\"1131\",\"type\":\"ColumnDataSource\"}},\"id\":\"1135\",\"type\":\"CDSView\"},{\"attributes\":{},\"id\":\"1106\",\"type\":\"WheelZoomTool\"},{\"attributes\":{\"overlay\":{\"id\":\"1128\",\"type\":\"BoxAnnotation\"}},\"id\":\"1107\",\"type\":\"BoxZoomTool\"},{\"attributes\":{},\"id\":\"1150\",\"type\":\"UnionRenderers\"},{\"attributes\":{},\"id\":\"1108\",\"type\":\"SaveTool\"},{\"attributes\":{\"text\":\"Population, total\"},\"id\":\"1085\",\"type\":\"Title\"},{\"attributes\":{},\"id\":\"1151\",\"type\":\"Selection\"},{\"attributes\":{},\"id\":\"1109\",\"type\":\"ResetTool\"},{\"attributes\":{\"callback\":null},\"id\":\"1087\",\"type\":\"DataRange1d\"},{\"attributes\":{},\"id\":\"1152\",\"type\":\"UnionRenderers\"},{\"attributes\":{\"items\":[{\"id\":\"1130\",\"type\":\"LegendItem\"}],\"location\":\"bottom_left\"},\"id\":\"1129\",\"type\":\"Legend\"},{\"attributes\":{},\"id\":\"1110\",\"type\":\"HelpTool\"},{\"attributes\":{\"callback\":null},\"id\":\"1089\",\"type\":\"DataRange1d\"},{\"attributes\":{},\"id\":\"1153\",\"type\":\"Selection\"},{\"attributes\":{\"active_drag\":\"auto\",\"active_inspect\":\"auto\",\"active_multi\":null,\"active_scroll\":\"auto\",\"active_tap\":\"auto\",\"tools\":[{\"id\":\"1105\",\"type\":\"PanTool\"},{\"id\":\"1106\",\"type\":\"WheelZoomTool\"},{\"id\":\"1107\",\"type\":\"BoxZoomTool\"},{\"id\":\"1108\",\"type\":\"SaveTool\"},{\"id\":\"1109\",\"type\":\"ResetTool\"},{\"id\":\"1110\",\"type\":\"HelpTool\"},{\"id\":\"1136\",\"type\":\"HoverTool\"}]},\"id\":\"1111\",\"type\":\"Toolbar\"},{\"attributes\":{\"line_alpha\":0.1,\"line_color\":\"#1f77b4\",\"x\":{\"field\":\"x\"},\"y\":{\"field\":\"y\"}},\"id\":\"1120\",\"type\":\"Line\"},{\"attributes\":{},\"id\":\"1091\",\"type\":\"LinearScale\"},{\"attributes\":{\"data_source\":{\"id\":\"1118\",\"type\":\"ColumnDataSource\"},\"glyph\":{\"id\":\"1119\",\"type\":\"Line\"},\"hover_glyph\":null,\"muted_glyph\":null,\"nonselection_glyph\":{\"id\":\"1120\",\"type\":\"Line\"},\"selection_glyph\":null,\"view\":{\"id\":\"1122\",\"type\":\"CDSView\"}},\"id\":\"1121\",\"type\":\"GlyphRenderer\"},{\"attributes\":{},\"id\":\"1093\",\"type\":\"LinearScale\"},{\"attributes\":{\"axis_label\":\"Years\",\"formatter\":{\"id\":\"1126\",\"type\":\"BasicTickFormatter\"},\"ticker\":{\"id\":\"1096\",\"type\":\"BasicTicker\"}},\"id\":\"1095\",\"type\":\"LinearAxis\"},{\"attributes\":{\"source\":{\"id\":\"1118\",\"type\":\"ColumnDataSource\"}},\"id\":\"1122\",\"type\":\"CDSView\"},{\"attributes\":{},\"id\":\"1096\",\"type\":\"BasicTicker\"},{\"attributes\":{},\"id\":\"1124\",\"type\":\"BasicTickFormatter\"},{\"attributes\":{\"grid_line_color\":null,\"ticker\":{\"id\":\"1096\",\"type\":\"BasicTicker\"}},\"id\":\"1099\",\"type\":\"Grid\"},{\"attributes\":{},\"id\":\"1126\",\"type\":\"BasicTickFormatter\"},{\"attributes\":{\"axis_label\":\"SP.POP.TOTL\",\"formatter\":{\"id\":\"1124\",\"type\":\"BasicTickFormatter\"},\"ticker\":{\"id\":\"1101\",\"type\":\"BasicTicker\"}},\"id\":\"1100\",\"type\":\"LinearAxis\"},{\"attributes\":{\"bottom_units\":\"screen\",\"fill_alpha\":{\"value\":0.5},\"fill_color\":{\"value\":\"lightgrey\"},\"left_units\":\"screen\",\"level\":\"overlay\",\"line_alpha\":{\"value\":1.0},\"line_color\":{\"value\":\"black\"},\"line_dash\":[4,4],\"line_width\":{\"value\":2},\"render_mode\":\"css\",\"right_units\":\"screen\",\"top_units\":\"screen\"},\"id\":\"1128\",\"type\":\"BoxAnnotation\"},{\"attributes\":{},\"id\":\"1101\",\"type\":\"BasicTicker\"},{\"attributes\":{\"label\":{\"value\":\"LDCs\"},\"renderers\":[{\"id\":\"1121\",\"type\":\"GlyphRenderer\"}]},\"id\":\"1130\",\"type\":\"LegendItem\"},{\"attributes\":{\"dimension\":1,\"grid_line_alpha\":0.5,\"ticker\":{\"id\":\"1101\",\"type\":\"BasicTicker\"}},\"id\":\"1104\",\"type\":\"Grid\"},{\"attributes\":{\"callback\":null,\"data\":{\"x\":[\"1960\",\"1961\",\"1962\",\"1963\",\"1964\",\"1965\",\"1966\",\"1967\",\"1968\",\"1969\",\"1970\",\"1971\",\"1972\",\"1973\",\"1974\",\"1975\",\"1976\",\"1977\",\"1978\",\"1979\",\"1980\",\"1981\",\"1982\",\"1983\",\"1984\",\"1985\",\"1986\",\"1987\",\"1988\",\"1989\",\"1990\",\"1991\",\"1992\",\"1993\",\"1994\",\"1995\",\"1996\",\"1997\",\"1998\",\"1999\",\"2000\",\"2001\",\"2002\",\"2003\",\"2004\",\"2005\",\"2006\",\"2007\",\"2008\",\"2009\",\"2010\",\"2011\",\"2012\",\"2013\",\"2014\",\"2015\",\"2016\",\"2017\"],\"y\":[240518433.0,246113640.0,251900741.0,257908074.0,264174179.0,270720892.0,277573029.0,284708409.0,292045744.0,299473256.0,306916896.0,314344629.0,321797581.0,329357353.0,337142681.0,345242710.0,353691338.0,362475112.0,371577256.0,380963304.0,390612563.0,400528924.0,410740611.0,421279107.0,432185325.0,443491288.0,455193656.0,467290514.0,479814021.0,492803028.0,506275612.0,520262423.0,534731006.0,549559264.0,564581083.0,579681672.0,594801259.0,609983301.0,625342098.0,641046802.0,657215864.0,673903112.0,691061397.0,708587948.0,726331177.0,744190510.0,762132501.0,780219542.0,798563392.0,817322629.0,836614860.0,856472234.0,873619764.0,894516028.0,915914952.0,937788499.0,960134718.0,982952189.0]},\"selected\":{\"id\":\"1153\",\"type\":\"Selection\"},\"selection_policy\":{\"id\":\"1152\",\"type\":\"UnionRenderers\"}},\"id\":\"1131\",\"type\":\"ColumnDataSource\"},{\"attributes\":{\"line_color\":\"#FA1857\",\"x\":{\"field\":\"x\"},\"y\":{\"field\":\"y\"}},\"id\":\"1119\",\"type\":\"Line\"},{\"attributes\":{\"fill_color\":{\"value\":\"#FA1857\"},\"line_color\":{\"value\":\"#FA1857\"},\"line_width\":{\"value\":3},\"x\":{\"field\":\"x\"},\"y\":{\"field\":\"y\"}},\"id\":\"1132\",\"type\":\"Circle\"},{\"attributes\":{\"callback\":null,\"data\":{\"x\":[\"1960\",\"1961\",\"1962\",\"1963\",\"1964\",\"1965\",\"1966\",\"1967\",\"1968\",\"1969\",\"1970\",\"1971\",\"1972\",\"1973\",\"1974\",\"1975\",\"1976\",\"1977\",\"1978\",\"1979\",\"1980\",\"1981\",\"1982\",\"1983\",\"1984\",\"1985\",\"1986\",\"1987\",\"1988\",\"1989\",\"1990\",\"1991\",\"1992\",\"1993\",\"1994\",\"1995\",\"1996\",\"1997\",\"1998\",\"1999\",\"2000\",\"2001\",\"2002\",\"2003\",\"2004\",\"2005\",\"2006\",\"2007\",\"2008\",\"2009\",\"2010\",\"2011\",\"2012\",\"2013\",\"2014\",\"2015\",\"2016\",\"2017\"],\"y\":[240518433.0,246113640.0,251900741.0,257908074.0,264174179.0,270720892.0,277573029.0,284708409.0,292045744.0,299473256.0,306916896.0,314344629.0,321797581.0,329357353.0,337142681.0,345242710.0,353691338.0,362475112.0,371577256.0,380963304.0,390612563.0,400528924.0,410740611.0,421279107.0,432185325.0,443491288.0,455193656.0,467290514.0,479814021.0,492803028.0,506275612.0,520262423.0,534731006.0,549559264.0,564581083.0,579681672.0,594801259.0,609983301.0,625342098.0,641046802.0,657215864.0,673903112.0,691061397.0,708587948.0,726331177.0,744190510.0,762132501.0,780219542.0,798563392.0,817322629.0,836614860.0,856472234.0,873619764.0,894516028.0,915914952.0,937788499.0,960134718.0,982952189.0]},\"selected\":{\"id\":\"1151\",\"type\":\"Selection\"},\"selection_policy\":{\"id\":\"1150\",\"type\":\"UnionRenderers\"}},\"id\":\"1118\",\"type\":\"ColumnDataSource\"},{\"attributes\":{\"callback\":null,\"tooltips\":\"                \\n        <div style=padding=5px>Year:@x</div>\\n        <div style=padding=5px>Value:@y</div>        \\n        \"},\"id\":\"1136\",\"type\":\"HoverTool\"},{\"attributes\":{\"fill_alpha\":{\"value\":0.1},\"fill_color\":{\"value\":\"#1f77b4\"},\"line_alpha\":{\"value\":0.1},\"line_color\":{\"value\":\"#1f77b4\"},\"line_width\":{\"value\":3},\"x\":{\"field\":\"x\"},\"y\":{\"field\":\"y\"}},\"id\":\"1133\",\"type\":\"Circle\"},{\"attributes\":{},\"id\":\"1105\",\"type\":\"PanTool\"},{\"attributes\":{\"data_source\":{\"id\":\"1131\",\"type\":\"ColumnDataSource\"},\"glyph\":{\"id\":\"1132\",\"type\":\"Circle\"},\"hover_glyph\":null,\"muted_glyph\":null,\"nonselection_glyph\":{\"id\":\"1133\",\"type\":\"Circle\"},\"selection_glyph\":null,\"view\":{\"id\":\"1135\",\"type\":\"CDSView\"}},\"id\":\"1134\",\"type\":\"GlyphRenderer\"}],\"root_ids\":[\"1084\"]},\"title\":\"Bokeh Application\",\"version\":\"1.3.4\"}};\n",
       "  var render_items = [{\"docid\":\"dbcb8311-c35a-4f92-b750-a168ffb5ab0b\",\"roots\":{\"1084\":\"a63166a9-a5d6-4e95-888c-3509e534cb75\"}}];\n",
       "  root.Bokeh.embed.embed_items_notebook(docs_json, render_items);\n",
       "\n",
       "  }\n",
       "  if (root.Bokeh !== undefined) {\n",
       "    embed_document(root);\n",
       "  } else {\n",
       "    var attempts = 0;\n",
       "    var timer = setInterval(function(root) {\n",
       "      if (root.Bokeh !== undefined) {\n",
       "        embed_document(root);\n",
       "        clearInterval(timer);\n",
       "      }\n",
       "      attempts++;\n",
       "      if (attempts > 100) {\n",
       "        console.log(\"Bokeh: ERROR: Unable to run BokehJS code because BokehJS library is missing\");\n",
       "        clearInterval(timer);\n",
       "      }\n",
       "    }, 10, root)\n",
       "  }\n",
       "})(window);"
      ],
      "application/vnd.bokehjs_exec.v0+json": ""
     },
     "metadata": {
      "application/vnd.bokehjs_exec.v0+json": {
       "id": "1084"
      }
     },
     "output_type": "display_data"
    }
   ],
   "source": [
    "years = list(map(str, list(range(1960,2018))))\n",
    "result = show_group_total(years, 'SP.POP.TOTL', ['LDCs'])"
   ]
  },
  {
   "cell_type": "code",
   "execution_count": 5,
   "metadata": {
    "slideshow": {
     "slide_type": "slide"
    }
   },
   "outputs": [
    {
     "data": {
      "text/html": [
       "\n",
       "\n",
       "\n",
       "\n",
       "\n",
       "\n",
       "  <div class=\"bk-root\" id=\"dce6b960-efdb-4507-b2d2-b1d9c6f6053c\" data-root-id=\"1215\"></div>\n"
      ]
     },
     "metadata": {},
     "output_type": "display_data"
    },
    {
     "data": {
      "application/javascript": [
       "(function(root) {\n",
       "  function embed_document(root) {\n",
       "    \n",
       "  var docs_json = {\"bc85abc9-1330-43ef-be40-ccdf28419c27\":{\"roots\":{\"references\":[{\"attributes\":{\"below\":[{\"id\":\"1226\",\"type\":\"LinearAxis\"}],\"center\":[{\"id\":\"1230\",\"type\":\"Grid\"},{\"id\":\"1235\",\"type\":\"Grid\"},{\"id\":\"1260\",\"type\":\"Legend\"}],\"left\":[{\"id\":\"1231\",\"type\":\"LinearAxis\"}],\"plot_height\":400,\"plot_width\":900,\"renderers\":[{\"id\":\"1252\",\"type\":\"GlyphRenderer\"},{\"id\":\"1265\",\"type\":\"GlyphRenderer\"},{\"id\":\"1270\",\"type\":\"GlyphRenderer\"},{\"id\":\"1286\",\"type\":\"GlyphRenderer\"},{\"id\":\"1291\",\"type\":\"GlyphRenderer\"},{\"id\":\"1311\",\"type\":\"GlyphRenderer\"}],\"title\":{\"id\":\"1216\",\"type\":\"Title\"},\"toolbar\":{\"id\":\"1242\",\"type\":\"Toolbar\"},\"x_range\":{\"id\":\"1218\",\"type\":\"DataRange1d\"},\"x_scale\":{\"id\":\"1222\",\"type\":\"LinearScale\"},\"y_range\":{\"id\":\"1220\",\"type\":\"DataRange1d\"},\"y_scale\":{\"id\":\"1224\",\"type\":\"LinearScale\"}},\"id\":\"1215\",\"subtype\":\"Figure\",\"type\":\"Plot\"},{\"attributes\":{\"callback\":null},\"id\":\"1218\",\"type\":\"DataRange1d\"},{\"attributes\":{\"source\":{\"id\":\"1267\",\"type\":\"ColumnDataSource\"}},\"id\":\"1271\",\"type\":\"CDSView\"},{\"attributes\":{\"active_drag\":\"auto\",\"active_inspect\":\"auto\",\"active_multi\":null,\"active_scroll\":\"auto\",\"active_tap\":\"auto\",\"tools\":[{\"id\":\"1236\",\"type\":\"PanTool\"},{\"id\":\"1237\",\"type\":\"WheelZoomTool\"},{\"id\":\"1238\",\"type\":\"BoxZoomTool\"},{\"id\":\"1239\",\"type\":\"SaveTool\"},{\"id\":\"1240\",\"type\":\"ResetTool\"},{\"id\":\"1241\",\"type\":\"HelpTool\"},{\"id\":\"1313\",\"type\":\"HoverTool\"}]},\"id\":\"1242\",\"type\":\"Toolbar\"},{\"attributes\":{},\"id\":\"1305\",\"type\":\"Selection\"},{\"attributes\":{\"line_alpha\":0.1,\"line_color\":\"#1f77b4\",\"x\":{\"field\":\"x\"},\"y\":{\"field\":\"y\"}},\"id\":\"1251\",\"type\":\"Line\"},{\"attributes\":{\"callback\":null},\"id\":\"1220\",\"type\":\"DataRange1d\"},{\"attributes\":{},\"id\":\"1277\",\"type\":\"UnionRenderers\"},{\"attributes\":{\"label\":{\"value\":\"SIDS\"},\"renderers\":[{\"id\":\"1291\",\"type\":\"GlyphRenderer\"}]},\"id\":\"1307\",\"type\":\"LegendItem\"},{\"attributes\":{},\"id\":\"1222\",\"type\":\"LinearScale\"},{\"attributes\":{},\"id\":\"1278\",\"type\":\"Selection\"},{\"attributes\":{\"data_source\":{\"id\":\"1249\",\"type\":\"ColumnDataSource\"},\"glyph\":{\"id\":\"1250\",\"type\":\"Line\"},\"hover_glyph\":null,\"muted_glyph\":null,\"nonselection_glyph\":{\"id\":\"1251\",\"type\":\"Line\"},\"selection_glyph\":null,\"view\":{\"id\":\"1253\",\"type\":\"CDSView\"}},\"id\":\"1252\",\"type\":\"GlyphRenderer\"},{\"attributes\":{},\"id\":\"1303\",\"type\":\"Selection\"},{\"attributes\":{\"source\":{\"id\":\"1249\",\"type\":\"ColumnDataSource\"}},\"id\":\"1253\",\"type\":\"CDSView\"},{\"attributes\":{\"callback\":null,\"data\":{\"x\":[1950.0,1951.0,1952.0,1953.0,1954.0,1955.0,1956.0,1957.0,1958.0,1959.0,1960.0,1961.0,1962.0,1963.0,1964.0,1965.0,1966.0,1967.0,1968.0,1969.0,1970.0,1971.0,1972.0,1973.0,1974.0,1975.0,1976.0,1977.0,1978.0,1979.0,1980.0,1981.0,1982.0,1983.0,1984.0,1985.0,1986.0,1987.0,1988.0,1989.0,1990.0,1991.0,1992.0,1993.0,1994.0,1995.0,1996.0,1997.0,1998.0,1999.0,2000.0,2001.0,2002.0,2003.0,2004.0,2005.0,2006.0,2007.0,2008.0,2009.0,2010.0,2011.0,2012.0,2013.0,2014.0,2015.0,2016.0,2017.0,2018.0,2019.0,2020.0],\"y\":[14451.908,14710.761,15003.639999999998,15317.469000000001,15640.123,15967.512000000004,16326.924999999996,16678.996000000003,17036.192,17414.049,17822.467999999993,18236.793,18684.992000000002,19150.1,19605.287999999997,20035.801999999992,20486.056,20896.224999999995,21284.001,21677.725000000006,22092.791999999998,22502.713000000003,22933.764999999992,23371.541999999998,23791.413999999997,24180.419,24539.319000000003,24860.308999999997,25154.212999999996,25442.828999999998,25740.441999999995,26043.645999999997,26364.432,26693.215999999997,27014.66,27322.588999999993,27666.505,27985.79800000001,28284.001,28566.727000000003,28835.657000000003,29076.17500000001,29295.749,29500.793999999994,29698.61,29894.708999999995,30098.503,30304.934000000005,30506.194000000007,30691.189000000002,30855.607,31019.87100000001,31160.116999999995,31295.094000000005,31451.630999999998,31644.855000000003,31889.024000000005,32167.322999999997,32457.701999999997,32726.200000000008,32950.344,33151.378,33317.155000000006,33453.00800000001,33568.437999999995,33668.138999999996,33734.939000000006,33777.67000000001,33800.055,33810.648,33817.454999999994]},\"selected\":{\"id\":\"1348\",\"type\":\"Selection\"},\"selection_policy\":{\"id\":\"1347\",\"type\":\"UnionRenderers\"}},\"id\":\"1308\",\"type\":\"ColumnDataSource\"},{\"attributes\":{},\"id\":\"1224\",\"type\":\"LinearScale\"},{\"attributes\":{\"fill_color\":{\"value\":\"#2CC775\"},\"line_color\":{\"value\":\"#2CC775\"},\"line_width\":{\"value\":3},\"x\":{\"field\":\"x\"},\"y\":{\"field\":\"y\"}},\"id\":\"1309\",\"type\":\"Circle\"},{\"attributes\":{\"text\":\"\"},\"id\":\"1216\",\"type\":\"Title\"},{\"attributes\":{},\"id\":\"1255\",\"type\":\"BasicTickFormatter\"},{\"attributes\":{},\"id\":\"1280\",\"type\":\"Selection\"},{\"attributes\":{\"axis_label\":\"Years\",\"formatter\":{\"id\":\"1257\",\"type\":\"BasicTickFormatter\"},\"ticker\":{\"id\":\"1227\",\"type\":\"BasicTicker\"}},\"id\":\"1226\",\"type\":\"LinearAxis\"},{\"attributes\":{\"fill_alpha\":{\"value\":0.1},\"fill_color\":{\"value\":\"#1f77b4\"},\"line_alpha\":{\"value\":0.1},\"line_color\":{\"value\":\"#1f77b4\"},\"line_width\":{\"value\":3},\"x\":{\"field\":\"x\"},\"y\":{\"field\":\"y\"}},\"id\":\"1310\",\"type\":\"Circle\"},{\"attributes\":{\"label\":{\"value\":\"LLDCs\"},\"renderers\":[{\"id\":\"1270\",\"type\":\"GlyphRenderer\"}]},\"id\":\"1282\",\"type\":\"LegendItem\"},{\"attributes\":{},\"id\":\"1257\",\"type\":\"BasicTickFormatter\"},{\"attributes\":{},\"id\":\"1227\",\"type\":\"BasicTicker\"},{\"attributes\":{\"data_source\":{\"id\":\"1308\",\"type\":\"ColumnDataSource\"},\"glyph\":{\"id\":\"1309\",\"type\":\"Circle\"},\"hover_glyph\":null,\"muted_glyph\":null,\"nonselection_glyph\":{\"id\":\"1310\",\"type\":\"Circle\"},\"selection_glyph\":null,\"view\":{\"id\":\"1312\",\"type\":\"CDSView\"}},\"id\":\"1311\",\"type\":\"GlyphRenderer\"},{\"attributes\":{\"callback\":null,\"data\":{\"x\":[1950.0,1951.0,1952.0,1953.0,1954.0,1955.0,1956.0,1957.0,1958.0,1959.0,1960.0,1961.0,1962.0,1963.0,1964.0,1965.0,1966.0,1967.0,1968.0,1969.0,1970.0,1971.0,1972.0,1973.0,1974.0,1975.0,1976.0,1977.0,1978.0,1979.0,1980.0,1981.0,1982.0,1983.0,1984.0,1985.0,1986.0,1987.0,1988.0,1989.0,1990.0,1991.0,1992.0,1993.0,1994.0,1995.0,1996.0,1997.0,1998.0,1999.0,2000.0,2001.0,2002.0,2003.0,2004.0,2005.0,2006.0,2007.0,2008.0,2009.0,2010.0,2011.0,2012.0,2013.0,2014.0,2015.0,2016.0,2017.0,2018.0,2019.0,2020.0],\"y\":[64178.10199999999,65690.783,67257.665,68870.66599999998,70511.765,72176.61200000001,74007.75399999997,75812.268,77640.669,79554.82500000003,81590.73199999999,83803.514,86137.66599999998,88556.78200000002,90995.872,93419.72200000001,95977.241,98476.11699999998,100970.135,103550.91200000001,106273.98300000002,109214.316,112299.38399999998,115458.025,118583.818,121614.47200000001,124633.63399999999,127559.20099999999,130426.32699999996,133294.484,136214.41700000002,139426.32,142673.82499999998,146015.70699999997,149526.38899999997,153261.40800000002,157267.84400000004,161457.941,165779.835,170150.60799999995,174514.81699999998,179136.267,183723.21099999995,188289.17999999996,192857.38200000004,197437.35099999997,202246.982,207072.41400000002,211953.14999999994,216930.72999999995,222041.10500000007,227191.503,232448.76200000002,237794.75699999995,243206.98799999998,248671.94600000003,254148.76299999995,259688.72800000003,265319.807,271077.033,276996.2569999999,283103.2140000001,289309.636,295634.45699999994,302087.32500000007,308660.9840000001,315275.76100000006,321908.481,328518.2319999999,335050.439,341465.06500000006]},\"selected\":{\"id\":\"1305\",\"type\":\"Selection\"},\"selection_policy\":{\"id\":\"1304\",\"type\":\"UnionRenderers\"}},\"id\":\"1283\",\"type\":\"ColumnDataSource\"},{\"attributes\":{\"bottom_units\":\"screen\",\"fill_alpha\":{\"value\":0.5},\"fill_color\":{\"value\":\"lightgrey\"},\"left_units\":\"screen\",\"level\":\"overlay\",\"line_alpha\":{\"value\":1.0},\"line_color\":{\"value\":\"black\"},\"line_dash\":[4,4],\"line_width\":{\"value\":2},\"render_mode\":\"css\",\"right_units\":\"screen\",\"top_units\":\"screen\"},\"id\":\"1259\",\"type\":\"BoxAnnotation\"},{\"attributes\":{\"grid_line_color\":null,\"ticker\":{\"id\":\"1227\",\"type\":\"BasicTicker\"}},\"id\":\"1230\",\"type\":\"Grid\"},{\"attributes\":{\"source\":{\"id\":\"1308\",\"type\":\"ColumnDataSource\"}},\"id\":\"1312\",\"type\":\"CDSView\"},{\"attributes\":{\"fill_color\":{\"value\":\"#5430F1\"},\"line_color\":{\"value\":\"#5430F1\"},\"line_width\":{\"value\":3},\"x\":{\"field\":\"x\"},\"y\":{\"field\":\"y\"}},\"id\":\"1284\",\"type\":\"Circle\"},{\"attributes\":{\"items\":[{\"id\":\"1261\",\"type\":\"LegendItem\"},{\"id\":\"1282\",\"type\":\"LegendItem\"},{\"id\":\"1307\",\"type\":\"LegendItem\"}],\"location\":\"bottom_left\"},\"id\":\"1260\",\"type\":\"Legend\"},{\"attributes\":{\"axis_label\":\"Population below 30\",\"formatter\":{\"id\":\"1255\",\"type\":\"BasicTickFormatter\"},\"ticker\":{\"id\":\"1232\",\"type\":\"BasicTicker\"}},\"id\":\"1231\",\"type\":\"LinearAxis\"},{\"attributes\":{},\"id\":\"1304\",\"type\":\"UnionRenderers\"},{\"attributes\":{\"fill_alpha\":{\"value\":0.1},\"fill_color\":{\"value\":\"#1f77b4\"},\"line_alpha\":{\"value\":0.1},\"line_color\":{\"value\":\"#1f77b4\"},\"line_width\":{\"value\":3},\"x\":{\"field\":\"x\"},\"y\":{\"field\":\"y\"}},\"id\":\"1285\",\"type\":\"Circle\"},{\"attributes\":{\"label\":{\"value\":\"LDCs\"},\"renderers\":[{\"id\":\"1252\",\"type\":\"GlyphRenderer\"}]},\"id\":\"1261\",\"type\":\"LegendItem\"},{\"attributes\":{},\"id\":\"1232\",\"type\":\"BasicTicker\"},{\"attributes\":{},\"id\":\"1345\",\"type\":\"UnionRenderers\"},{\"attributes\":{\"data_source\":{\"id\":\"1283\",\"type\":\"ColumnDataSource\"},\"glyph\":{\"id\":\"1284\",\"type\":\"Circle\"},\"hover_glyph\":null,\"muted_glyph\":null,\"nonselection_glyph\":{\"id\":\"1285\",\"type\":\"Circle\"},\"selection_glyph\":null,\"view\":{\"id\":\"1287\",\"type\":\"CDSView\"}},\"id\":\"1286\",\"type\":\"GlyphRenderer\"},{\"attributes\":{\"callback\":null,\"data\":{\"x\":[1950.0,1951.0,1952.0,1953.0,1954.0,1955.0,1956.0,1957.0,1958.0,1959.0,1960.0,1961.0,1962.0,1963.0,1964.0,1965.0,1966.0,1967.0,1968.0,1969.0,1970.0,1971.0,1972.0,1973.0,1974.0,1975.0,1976.0,1977.0,1978.0,1979.0,1980.0,1981.0,1982.0,1983.0,1984.0,1985.0,1986.0,1987.0,1988.0,1989.0,1990.0,1991.0,1992.0,1993.0,1994.0,1995.0,1996.0,1997.0,1998.0,1999.0,2000.0,2001.0,2002.0,2003.0,2004.0,2005.0,2006.0,2007.0,2008.0,2009.0,2010.0,2011.0,2012.0,2013.0,2014.0,2015.0,2016.0,2017.0,2018.0,2019.0,2020.0],\"y\":[132855.88099999996,135623.16100000002,138407.477,141227.311,144119.51400000002,147127.231,150509.91700000002,153963.42400000003,157518.09399999998,161189.969,164981.977,169109.49200000006,173326.13599999997,177665.10000000006,182166.30499999996,186863.58400000003,192073.58499999996,197434.59099999996,202899.996,208393.333,213859.267,219331.986,224731.436,230128.11800000002,235632.36299999998,241339.312,247786.55999999997,254424.46299999993,261269.672,268312.89499999996,275543.42300000007,283376.7379999999,291350.78199999995,299481.427,307779.018,316260.33599999995,325094.9699999999,334018.047,343080.72,352344.05400000006,361846.22199999995,371586.42400000006,381491.8949999999,391487.6139999999,401463.72899999993,411352.94100000005,421795.947,432141.857,442496.88000000006,453010.24,463788.02800000005,475026.4589999999,486453.019,498005.87899999996,509581.276,521108.3789999999,532682.003,544207.1329999999,555758.8630000001,567425.0279999999,579272.7570000001,591382.7909999999,603599.0029999999,615969.5159999998,628560.117,641410.265,654453.5269999998,667655.3029999998,680941.229,694201.3130000002,707362.3299999997]},\"selected\":{\"id\":\"1280\",\"type\":\"Selection\"},\"selection_policy\":{\"id\":\"1279\",\"type\":\"UnionRenderers\"}},\"id\":\"1262\",\"type\":\"ColumnDataSource\"},{\"attributes\":{\"dimension\":1,\"grid_line_alpha\":0.5,\"ticker\":{\"id\":\"1232\",\"type\":\"BasicTicker\"}},\"id\":\"1235\",\"type\":\"Grid\"},{\"attributes\":{},\"id\":\"1279\",\"type\":\"UnionRenderers\"},{\"attributes\":{},\"id\":\"1346\",\"type\":\"Selection\"},{\"attributes\":{\"source\":{\"id\":\"1283\",\"type\":\"ColumnDataSource\"}},\"id\":\"1287\",\"type\":\"CDSView\"},{\"attributes\":{\"fill_color\":{\"value\":\"#FA1857\"},\"line_color\":{\"value\":\"#FA1857\"},\"line_width\":{\"value\":3},\"x\":{\"field\":\"x\"},\"y\":{\"field\":\"y\"}},\"id\":\"1263\",\"type\":\"Circle\"},{\"attributes\":{},\"id\":\"1347\",\"type\":\"UnionRenderers\"},{\"attributes\":{\"line_color\":\"#FA1857\",\"x\":{\"field\":\"x\"},\"y\":{\"field\":\"y\"}},\"id\":\"1250\",\"type\":\"Line\"},{\"attributes\":{\"fill_alpha\":{\"value\":0.1},\"fill_color\":{\"value\":\"#1f77b4\"},\"line_alpha\":{\"value\":0.1},\"line_color\":{\"value\":\"#1f77b4\"},\"line_width\":{\"value\":3},\"x\":{\"field\":\"x\"},\"y\":{\"field\":\"y\"}},\"id\":\"1264\",\"type\":\"Circle\"},{\"attributes\":{\"callback\":null,\"data\":{\"x\":[1950.0,1951.0,1952.0,1953.0,1954.0,1955.0,1956.0,1957.0,1958.0,1959.0,1960.0,1961.0,1962.0,1963.0,1964.0,1965.0,1966.0,1967.0,1968.0,1969.0,1970.0,1971.0,1972.0,1973.0,1974.0,1975.0,1976.0,1977.0,1978.0,1979.0,1980.0,1981.0,1982.0,1983.0,1984.0,1985.0,1986.0,1987.0,1988.0,1989.0,1990.0,1991.0,1992.0,1993.0,1994.0,1995.0,1996.0,1997.0,1998.0,1999.0,2000.0,2001.0,2002.0,2003.0,2004.0,2005.0,2006.0,2007.0,2008.0,2009.0,2010.0,2011.0,2012.0,2013.0,2014.0,2015.0,2016.0,2017.0,2018.0,2019.0,2020.0],\"y\":[14451.908,14710.761,15003.639999999998,15317.469000000001,15640.123,15967.512000000004,16326.924999999996,16678.996000000003,17036.192,17414.049,17822.467999999993,18236.793,18684.992000000002,19150.1,19605.287999999997,20035.801999999992,20486.056,20896.224999999995,21284.001,21677.725000000006,22092.791999999998,22502.713000000003,22933.764999999992,23371.541999999998,23791.413999999997,24180.419,24539.319000000003,24860.308999999997,25154.212999999996,25442.828999999998,25740.441999999995,26043.645999999997,26364.432,26693.215999999997,27014.66,27322.588999999993,27666.505,27985.79800000001,28284.001,28566.727000000003,28835.657000000003,29076.17500000001,29295.749,29500.793999999994,29698.61,29894.708999999995,30098.503,30304.934000000005,30506.194000000007,30691.189000000002,30855.607,31019.87100000001,31160.116999999995,31295.094000000005,31451.630999999998,31644.855000000003,31889.024000000005,32167.322999999997,32457.701999999997,32726.200000000008,32950.344,33151.378,33317.155000000006,33453.00800000001,33568.437999999995,33668.138999999996,33734.939000000006,33777.67000000001,33800.055,33810.648,33817.454999999994]},\"selected\":{\"id\":\"1346\",\"type\":\"Selection\"},\"selection_policy\":{\"id\":\"1345\",\"type\":\"UnionRenderers\"}},\"id\":\"1288\",\"type\":\"ColumnDataSource\"},{\"attributes\":{},\"id\":\"1348\",\"type\":\"Selection\"},{\"attributes\":{\"callback\":null,\"data\":{\"x\":[1950.0,1951.0,1952.0,1953.0,1954.0,1955.0,1956.0,1957.0,1958.0,1959.0,1960.0,1961.0,1962.0,1963.0,1964.0,1965.0,1966.0,1967.0,1968.0,1969.0,1970.0,1971.0,1972.0,1973.0,1974.0,1975.0,1976.0,1977.0,1978.0,1979.0,1980.0,1981.0,1982.0,1983.0,1984.0,1985.0,1986.0,1987.0,1988.0,1989.0,1990.0,1991.0,1992.0,1993.0,1994.0,1995.0,1996.0,1997.0,1998.0,1999.0,2000.0,2001.0,2002.0,2003.0,2004.0,2005.0,2006.0,2007.0,2008.0,2009.0,2010.0,2011.0,2012.0,2013.0,2014.0,2015.0,2016.0,2017.0,2018.0,2019.0,2020.0],\"y\":[132855.88099999996,135623.16100000002,138407.477,141227.311,144119.51400000002,147127.231,150509.91700000002,153963.42400000003,157518.09399999998,161189.969,164981.977,169109.49200000006,173326.13599999997,177665.10000000006,182166.30499999996,186863.58400000003,192073.58499999996,197434.59099999996,202899.996,208393.333,213859.267,219331.986,224731.436,230128.11800000002,235632.36299999998,241339.312,247786.55999999997,254424.46299999993,261269.672,268312.89499999996,275543.42300000007,283376.7379999999,291350.78199999995,299481.427,307779.018,316260.33599999995,325094.9699999999,334018.047,343080.72,352344.05400000006,361846.22199999995,371586.42400000006,381491.8949999999,391487.6139999999,401463.72899999993,411352.94100000005,421795.947,432141.857,442496.88000000006,453010.24,463788.02800000005,475026.4589999999,486453.019,498005.87899999996,509581.276,521108.3789999999,532682.003,544207.1329999999,555758.8630000001,567425.0279999999,579272.7570000001,591382.7909999999,603599.0029999999,615969.5159999998,628560.117,641410.265,654453.5269999998,667655.3029999998,680941.229,694201.3130000002,707362.3299999997]},\"selected\":{\"id\":\"1278\",\"type\":\"Selection\"},\"selection_policy\":{\"id\":\"1277\",\"type\":\"UnionRenderers\"}},\"id\":\"1249\",\"type\":\"ColumnDataSource\"},{\"attributes\":{\"data_source\":{\"id\":\"1262\",\"type\":\"ColumnDataSource\"},\"glyph\":{\"id\":\"1263\",\"type\":\"Circle\"},\"hover_glyph\":null,\"muted_glyph\":null,\"nonselection_glyph\":{\"id\":\"1264\",\"type\":\"Circle\"},\"selection_glyph\":null,\"view\":{\"id\":\"1266\",\"type\":\"CDSView\"}},\"id\":\"1265\",\"type\":\"GlyphRenderer\"},{\"attributes\":{\"line_color\":\"#2CC775\",\"x\":{\"field\":\"x\"},\"y\":{\"field\":\"y\"}},\"id\":\"1289\",\"type\":\"Line\"},{\"attributes\":{\"line_alpha\":0.1,\"line_color\":\"#1f77b4\",\"x\":{\"field\":\"x\"},\"y\":{\"field\":\"y\"}},\"id\":\"1290\",\"type\":\"Line\"},{\"attributes\":{\"source\":{\"id\":\"1262\",\"type\":\"ColumnDataSource\"}},\"id\":\"1266\",\"type\":\"CDSView\"},{\"attributes\":{},\"id\":\"1236\",\"type\":\"PanTool\"},{\"attributes\":{\"data_source\":{\"id\":\"1288\",\"type\":\"ColumnDataSource\"},\"glyph\":{\"id\":\"1289\",\"type\":\"Line\"},\"hover_glyph\":null,\"muted_glyph\":null,\"nonselection_glyph\":{\"id\":\"1290\",\"type\":\"Line\"},\"selection_glyph\":null,\"view\":{\"id\":\"1292\",\"type\":\"CDSView\"}},\"id\":\"1291\",\"type\":\"GlyphRenderer\"},{\"attributes\":{\"callback\":null,\"data\":{\"x\":[1950.0,1951.0,1952.0,1953.0,1954.0,1955.0,1956.0,1957.0,1958.0,1959.0,1960.0,1961.0,1962.0,1963.0,1964.0,1965.0,1966.0,1967.0,1968.0,1969.0,1970.0,1971.0,1972.0,1973.0,1974.0,1975.0,1976.0,1977.0,1978.0,1979.0,1980.0,1981.0,1982.0,1983.0,1984.0,1985.0,1986.0,1987.0,1988.0,1989.0,1990.0,1991.0,1992.0,1993.0,1994.0,1995.0,1996.0,1997.0,1998.0,1999.0,2000.0,2001.0,2002.0,2003.0,2004.0,2005.0,2006.0,2007.0,2008.0,2009.0,2010.0,2011.0,2012.0,2013.0,2014.0,2015.0,2016.0,2017.0,2018.0,2019.0,2020.0],\"y\":[64178.10199999999,65690.783,67257.665,68870.66599999998,70511.765,72176.61200000001,74007.75399999997,75812.268,77640.669,79554.82500000003,81590.73199999999,83803.514,86137.66599999998,88556.78200000002,90995.872,93419.72200000001,95977.241,98476.11699999998,100970.135,103550.91200000001,106273.98300000002,109214.316,112299.38399999998,115458.025,118583.818,121614.47200000001,124633.63399999999,127559.20099999999,130426.32699999996,133294.484,136214.41700000002,139426.32,142673.82499999998,146015.70699999997,149526.38899999997,153261.40800000002,157267.84400000004,161457.941,165779.835,170150.60799999995,174514.81699999998,179136.267,183723.21099999995,188289.17999999996,192857.38200000004,197437.35099999997,202246.982,207072.41400000002,211953.14999999994,216930.72999999995,222041.10500000007,227191.503,232448.76200000002,237794.75699999995,243206.98799999998,248671.94600000003,254148.76299999995,259688.72800000003,265319.807,271077.033,276996.2569999999,283103.2140000001,289309.636,295634.45699999994,302087.32500000007,308660.9840000001,315275.76100000006,321908.481,328518.2319999999,335050.439,341465.06500000006]},\"selected\":{\"id\":\"1303\",\"type\":\"Selection\"},\"selection_policy\":{\"id\":\"1302\",\"type\":\"UnionRenderers\"}},\"id\":\"1267\",\"type\":\"ColumnDataSource\"},{\"attributes\":{},\"id\":\"1237\",\"type\":\"WheelZoomTool\"},{\"attributes\":{\"source\":{\"id\":\"1288\",\"type\":\"ColumnDataSource\"}},\"id\":\"1292\",\"type\":\"CDSView\"},{\"attributes\":{\"line_color\":\"#5430F1\",\"x\":{\"field\":\"x\"},\"y\":{\"field\":\"y\"}},\"id\":\"1268\",\"type\":\"Line\"},{\"attributes\":{\"overlay\":{\"id\":\"1259\",\"type\":\"BoxAnnotation\"}},\"id\":\"1238\",\"type\":\"BoxZoomTool\"},{\"attributes\":{},\"id\":\"1239\",\"type\":\"SaveTool\"},{\"attributes\":{\"line_alpha\":0.1,\"line_color\":\"#1f77b4\",\"x\":{\"field\":\"x\"},\"y\":{\"field\":\"y\"}},\"id\":\"1269\",\"type\":\"Line\"},{\"attributes\":{},\"id\":\"1302\",\"type\":\"UnionRenderers\"},{\"attributes\":{},\"id\":\"1240\",\"type\":\"ResetTool\"},{\"attributes\":{\"data_source\":{\"id\":\"1267\",\"type\":\"ColumnDataSource\"},\"glyph\":{\"id\":\"1268\",\"type\":\"Line\"},\"hover_glyph\":null,\"muted_glyph\":null,\"nonselection_glyph\":{\"id\":\"1269\",\"type\":\"Line\"},\"selection_glyph\":null,\"view\":{\"id\":\"1271\",\"type\":\"CDSView\"}},\"id\":\"1270\",\"type\":\"GlyphRenderer\"},{\"attributes\":{\"callback\":null,\"tooltips\":\"                \\n        <div style=padding=5px>Year:@x</div>\\n        <div style=padding=5px>Value:@y</div>        \\n        \"},\"id\":\"1313\",\"type\":\"HoverTool\"},{\"attributes\":{},\"id\":\"1241\",\"type\":\"HelpTool\"}],\"root_ids\":[\"1215\"]},\"title\":\"Bokeh Application\",\"version\":\"1.3.4\"}};\n",
       "  var render_items = [{\"docid\":\"bc85abc9-1330-43ef-be40-ccdf28419c27\",\"roots\":{\"1215\":\"dce6b960-efdb-4507-b2d2-b1d9c6f6053c\"}}];\n",
       "  root.Bokeh.embed.embed_items_notebook(docs_json, render_items);\n",
       "\n",
       "  }\n",
       "  if (root.Bokeh !== undefined) {\n",
       "    embed_document(root);\n",
       "  } else {\n",
       "    var attempts = 0;\n",
       "    var timer = setInterval(function(root) {\n",
       "      if (root.Bokeh !== undefined) {\n",
       "        embed_document(root);\n",
       "        clearInterval(timer);\n",
       "      }\n",
       "      attempts++;\n",
       "      if (attempts > 100) {\n",
       "        console.log(\"Bokeh: ERROR: Unable to run BokehJS code because BokehJS library is missing\");\n",
       "        clearInterval(timer);\n",
       "      }\n",
       "    }, 10, root)\n",
       "  }\n",
       "})(window);"
      ],
      "application/vnd.bokehjs_exec.v0+json": ""
     },
     "metadata": {
      "application/vnd.bokehjs_exec.v0+json": {
       "id": "1215"
      }
     },
     "output_type": "display_data"
    }
   ],
   "source": [
    "d = sources.unpd.indicators.get_age_group_by_country_groups(\"0-29\", ['LDCs'])\n",
    "show(line_chart(d, d[0][3], x_axis_label=\"Years\", y_axis_label='Population below 30', height=400, width=900))"
   ]
  },
  {
   "cell_type": "code",
   "execution_count": null,
   "metadata": {
    "slideshow": {
     "slide_type": "slide"
    }
   },
   "outputs": [],
   "source": [
    "show(line_chart(sources.unpd.indicators.get_projection_by_groups(['LDCs'], dataset='0-24'), \"Projected population, thousands\", \n",
    "                x_axis_label='Years', y_axis_label='Projected population, 0-24, thousands', height=400, width=1000))"
   ]
  },
  {
   "cell_type": "code",
   "execution_count": 6,
   "metadata": {
    "ExecuteTime": {
     "end_time": "2019-10-25T14:23:48.553769Z",
     "start_time": "2019-10-25T14:23:47.482012Z"
    },
    "slideshow": {
     "slide_type": "slide"
    }
   },
   "outputs": [
    {
     "data": {
      "text/html": [
       "\n",
       "\n",
       "\n",
       "\n",
       "\n",
       "\n",
       "  <div class=\"bk-root\" id=\"5eb5f473-8aca-4743-b129-189bd86aa42d\" data-root-id=\"1458\"></div>\n"
      ]
     },
     "metadata": {},
     "output_type": "display_data"
    },
    {
     "data": {
      "application/javascript": [
       "(function(root) {\n",
       "  function embed_document(root) {\n",
       "    \n",
       "  var docs_json = {\"6d77861d-2088-4511-8c65-d4941c9888d8\":{\"roots\":{\"references\":[{\"attributes\":{\"below\":[{\"id\":\"1469\",\"type\":\"LinearAxis\"}],\"center\":[{\"id\":\"1473\",\"type\":\"Grid\"},{\"id\":\"1478\",\"type\":\"Grid\"},{\"id\":\"1503\",\"type\":\"Legend\"}],\"left\":[{\"id\":\"1474\",\"type\":\"LinearAxis\"}],\"plot_height\":400,\"plot_width\":1000,\"renderers\":[{\"id\":\"1495\",\"type\":\"GlyphRenderer\"},{\"id\":\"1508\",\"type\":\"GlyphRenderer\"},{\"id\":\"1513\",\"type\":\"GlyphRenderer\"},{\"id\":\"1529\",\"type\":\"GlyphRenderer\"},{\"id\":\"1534\",\"type\":\"GlyphRenderer\"},{\"id\":\"1554\",\"type\":\"GlyphRenderer\"}],\"title\":{\"id\":\"1459\",\"type\":\"Title\"},\"toolbar\":{\"id\":\"1485\",\"type\":\"Toolbar\"},\"x_range\":{\"id\":\"1461\",\"type\":\"DataRange1d\"},\"x_scale\":{\"id\":\"1465\",\"type\":\"LinearScale\"},\"y_range\":{\"id\":\"1463\",\"type\":\"DataRange1d\"},\"y_scale\":{\"id\":\"1467\",\"type\":\"LinearScale\"}},\"id\":\"1458\",\"subtype\":\"Figure\",\"type\":\"Plot\"},{\"attributes\":{\"data_source\":{\"id\":\"1510\",\"type\":\"ColumnDataSource\"},\"glyph\":{\"id\":\"1511\",\"type\":\"Line\"},\"hover_glyph\":null,\"muted_glyph\":null,\"nonselection_glyph\":{\"id\":\"1512\",\"type\":\"Line\"},\"selection_glyph\":null,\"view\":{\"id\":\"1514\",\"type\":\"CDSView\"}},\"id\":\"1513\",\"type\":\"GlyphRenderer\"},{\"attributes\":{\"callback\":null,\"data\":{\"x\":[2020,2025,2030,2035,2040,2045,2050,2055,2060,2065,2070,2075,2080,2085,2090,2095,2100],\"y\":[1057438.163,1182376.585,1313758.882,1450358.0589999997,1590723.5140000007,1733412.6489999997,1876797.781,2019337.702000001,2159628.188,2296253.5399999996,2427682.2370000007,2552545.8049999997,2669675.032999999,2778054.0900000003,2877186.7590000005,2966790.3559999997,3046778.7830000003]},\"selected\":{\"id\":\"1521\",\"type\":\"Selection\"},\"selection_policy\":{\"id\":\"1520\",\"type\":\"UnionRenderers\"}},\"id\":\"1492\",\"type\":\"ColumnDataSource\"},{\"attributes\":{\"line_color\":\"#FA1857\",\"x\":{\"field\":\"x\"},\"y\":{\"field\":\"y\"}},\"id\":\"1493\",\"type\":\"Line\"},{\"attributes\":{\"source\":{\"id\":\"1510\",\"type\":\"ColumnDataSource\"}},\"id\":\"1514\",\"type\":\"CDSView\"},{\"attributes\":{\"line_alpha\":0.1,\"line_color\":\"#1f77b4\",\"x\":{\"field\":\"x\"},\"y\":{\"field\":\"y\"}},\"id\":\"1494\",\"type\":\"Line\"},{\"attributes\":{},\"id\":\"1484\",\"type\":\"HelpTool\"},{\"attributes\":{},\"id\":\"1547\",\"type\":\"UnionRenderers\"},{\"attributes\":{\"active_drag\":\"auto\",\"active_inspect\":\"auto\",\"active_multi\":null,\"active_scroll\":\"auto\",\"active_tap\":\"auto\",\"tools\":[{\"id\":\"1479\",\"type\":\"PanTool\"},{\"id\":\"1480\",\"type\":\"WheelZoomTool\"},{\"id\":\"1481\",\"type\":\"BoxZoomTool\"},{\"id\":\"1482\",\"type\":\"SaveTool\"},{\"id\":\"1483\",\"type\":\"ResetTool\"},{\"id\":\"1484\",\"type\":\"HelpTool\"},{\"id\":\"1556\",\"type\":\"HoverTool\"}]},\"id\":\"1485\",\"type\":\"Toolbar\"},{\"attributes\":{},\"id\":\"1479\",\"type\":\"PanTool\"},{\"attributes\":{},\"id\":\"1520\",\"type\":\"UnionRenderers\"},{\"attributes\":{},\"id\":\"1548\",\"type\":\"Selection\"},{\"attributes\":{\"label\":{\"value\":\"OECD\"},\"renderers\":[{\"id\":\"1534\",\"type\":\"GlyphRenderer\"}]},\"id\":\"1550\",\"type\":\"LegendItem\"},{\"attributes\":{},\"id\":\"1480\",\"type\":\"WheelZoomTool\"},{\"attributes\":{},\"id\":\"1521\",\"type\":\"Selection\"},{\"attributes\":{\"callback\":null,\"tooltips\":\"                \\n        <div style=padding=5px>Year:@x</div>\\n        <div style=padding=5px>Value:@y</div>        \\n        \"},\"id\":\"1556\",\"type\":\"HoverTool\"},{\"attributes\":{\"data_source\":{\"id\":\"1492\",\"type\":\"ColumnDataSource\"},\"glyph\":{\"id\":\"1493\",\"type\":\"Line\"},\"hover_glyph\":null,\"muted_glyph\":null,\"nonselection_glyph\":{\"id\":\"1494\",\"type\":\"Line\"},\"selection_glyph\":null,\"view\":{\"id\":\"1496\",\"type\":\"CDSView\"}},\"id\":\"1495\",\"type\":\"GlyphRenderer\"},{\"attributes\":{\"overlay\":{\"id\":\"1502\",\"type\":\"BoxAnnotation\"}},\"id\":\"1481\",\"type\":\"BoxZoomTool\"},{\"attributes\":{\"source\":{\"id\":\"1492\",\"type\":\"ColumnDataSource\"}},\"id\":\"1496\",\"type\":\"CDSView\"},{\"attributes\":{\"callback\":null,\"data\":{\"x\":[2020,2025,2030,2035,2040,2045,2050,2055,2060,2065,2070,2075,2080,2085,2090,2095,2100],\"y\":[912306.7240000002,924199.783,933262.5580000001,940475.6150000001,944668.037,945929.6540000001,944372.924,940125.755,933542.0040000002,925493.626,916927.8789999998,908413.484,900272.8359999999,892459.4159999999,884981.163,877749.1270000001,870615.133]},\"selected\":{\"id\":\"1609\",\"type\":\"Selection\"},\"selection_policy\":{\"id\":\"1608\",\"type\":\"UnionRenderers\"}},\"id\":\"1551\",\"type\":\"ColumnDataSource\"},{\"attributes\":{},\"id\":\"1523\",\"type\":\"Selection\"},{\"attributes\":{\"fill_color\":{\"value\":\"#2CC775\"},\"line_color\":{\"value\":\"#2CC775\"},\"line_width\":{\"value\":3},\"x\":{\"field\":\"x\"},\"y\":{\"field\":\"y\"}},\"id\":\"1552\",\"type\":\"Circle\"},{\"attributes\":{},\"id\":\"1482\",\"type\":\"SaveTool\"},{\"attributes\":{},\"id\":\"1498\",\"type\":\"BasicTickFormatter\"},{\"attributes\":{\"label\":{\"value\":\"Developing excluding LDCs\"},\"renderers\":[{\"id\":\"1513\",\"type\":\"GlyphRenderer\"}]},\"id\":\"1525\",\"type\":\"LegendItem\"},{\"attributes\":{},\"id\":\"1546\",\"type\":\"Selection\"},{\"attributes\":{\"fill_alpha\":{\"value\":0.1},\"fill_color\":{\"value\":\"#1f77b4\"},\"line_alpha\":{\"value\":0.1},\"line_color\":{\"value\":\"#1f77b4\"},\"line_width\":{\"value\":3},\"x\":{\"field\":\"x\"},\"y\":{\"field\":\"y\"}},\"id\":\"1553\",\"type\":\"Circle\"},{\"attributes\":{},\"id\":\"1483\",\"type\":\"ResetTool\"},{\"attributes\":{},\"id\":\"1500\",\"type\":\"BasicTickFormatter\"},{\"attributes\":{\"callback\":null,\"data\":{\"x\":[2020,2025,2030,2035,2040,2045,2050,2055,2060,2065,2070,2075,2080,2085,2090,2095,2100],\"y\":[4993103.786000001,5218738.716999997,5421085.645999999,5600144.947999999,5752488.066,5878012.936,5976889.714000002,6050353.927999998,6099916.011999999,6128642.660999999,6138746.354000001,6132326.774999998,6111578.452999997,6078805.713000003,6037048.572999997,5987636.3539999975,5930332.014000001]},\"selected\":{\"id\":\"1548\",\"type\":\"Selection\"},\"selection_policy\":{\"id\":\"1547\",\"type\":\"UnionRenderers\"}},\"id\":\"1526\",\"type\":\"ColumnDataSource\"},{\"attributes\":{\"data_source\":{\"id\":\"1551\",\"type\":\"ColumnDataSource\"},\"glyph\":{\"id\":\"1552\",\"type\":\"Circle\"},\"hover_glyph\":null,\"muted_glyph\":null,\"nonselection_glyph\":{\"id\":\"1553\",\"type\":\"Circle\"},\"selection_glyph\":null,\"view\":{\"id\":\"1555\",\"type\":\"CDSView\"}},\"id\":\"1554\",\"type\":\"GlyphRenderer\"},{\"attributes\":{\"bottom_units\":\"screen\",\"fill_alpha\":{\"value\":0.5},\"fill_color\":{\"value\":\"lightgrey\"},\"left_units\":\"screen\",\"level\":\"overlay\",\"line_alpha\":{\"value\":1.0},\"line_color\":{\"value\":\"black\"},\"line_dash\":[4,4],\"line_width\":{\"value\":2},\"render_mode\":\"css\",\"right_units\":\"screen\",\"top_units\":\"screen\"},\"id\":\"1502\",\"type\":\"BoxAnnotation\"},{\"attributes\":{\"callback\":null},\"id\":\"1463\",\"type\":\"DataRange1d\"},{\"attributes\":{\"fill_color\":{\"value\":\"#5430F1\"},\"line_color\":{\"value\":\"#5430F1\"},\"line_width\":{\"value\":3},\"x\":{\"field\":\"x\"},\"y\":{\"field\":\"y\"}},\"id\":\"1527\",\"type\":\"Circle\"},{\"attributes\":{\"source\":{\"id\":\"1551\",\"type\":\"ColumnDataSource\"}},\"id\":\"1555\",\"type\":\"CDSView\"},{\"attributes\":{\"items\":[{\"id\":\"1504\",\"type\":\"LegendItem\"},{\"id\":\"1525\",\"type\":\"LegendItem\"},{\"id\":\"1550\",\"type\":\"LegendItem\"}],\"location\":\"bottom_left\"},\"id\":\"1503\",\"type\":\"Legend\"},{\"attributes\":{\"fill_alpha\":{\"value\":0.1},\"fill_color\":{\"value\":\"#1f77b4\"},\"line_alpha\":{\"value\":0.1},\"line_color\":{\"value\":\"#1f77b4\"},\"line_width\":{\"value\":3},\"x\":{\"field\":\"x\"},\"y\":{\"field\":\"y\"}},\"id\":\"1528\",\"type\":\"Circle\"},{\"attributes\":{\"label\":{\"value\":\"LDCs\"},\"renderers\":[{\"id\":\"1495\",\"type\":\"GlyphRenderer\"}]},\"id\":\"1504\",\"type\":\"LegendItem\"},{\"attributes\":{},\"id\":\"1465\",\"type\":\"LinearScale\"},{\"attributes\":{\"data_source\":{\"id\":\"1526\",\"type\":\"ColumnDataSource\"},\"glyph\":{\"id\":\"1527\",\"type\":\"Circle\"},\"hover_glyph\":null,\"muted_glyph\":null,\"nonselection_glyph\":{\"id\":\"1528\",\"type\":\"Circle\"},\"selection_glyph\":null,\"view\":{\"id\":\"1530\",\"type\":\"CDSView\"}},\"id\":\"1529\",\"type\":\"GlyphRenderer\"},{\"attributes\":{\"callback\":null,\"data\":{\"x\":[2020,2025,2030,2035,2040,2045,2050,2055,2060,2065,2070,2075,2080,2085,2090,2095,2100],\"y\":[1057438.163,1182376.585,1313758.882,1450358.0589999997,1590723.5140000007,1733412.6489999997,1876797.781,2019337.702000001,2159628.188,2296253.5399999996,2427682.2370000007,2552545.8049999997,2669675.032999999,2778054.0900000003,2877186.7590000005,2966790.3559999997,3046778.7830000003]},\"selected\":{\"id\":\"1523\",\"type\":\"Selection\"},\"selection_policy\":{\"id\":\"1522\",\"type\":\"UnionRenderers\"}},\"id\":\"1505\",\"type\":\"ColumnDataSource\"},{\"attributes\":{},\"id\":\"1606\",\"type\":\"UnionRenderers\"},{\"attributes\":{},\"id\":\"1467\",\"type\":\"LinearScale\"},{\"attributes\":{\"source\":{\"id\":\"1526\",\"type\":\"ColumnDataSource\"}},\"id\":\"1530\",\"type\":\"CDSView\"},{\"attributes\":{\"fill_color\":{\"value\":\"#FA1857\"},\"line_color\":{\"value\":\"#FA1857\"},\"line_width\":{\"value\":3},\"x\":{\"field\":\"x\"},\"y\":{\"field\":\"y\"}},\"id\":\"1506\",\"type\":\"Circle\"},{\"attributes\":{},\"id\":\"1607\",\"type\":\"Selection\"},{\"attributes\":{\"axis_label\":\"Years\",\"formatter\":{\"id\":\"1500\",\"type\":\"BasicTickFormatter\"},\"ticker\":{\"id\":\"1470\",\"type\":\"BasicTicker\"}},\"id\":\"1469\",\"type\":\"LinearAxis\"},{\"attributes\":{\"callback\":null,\"data\":{\"x\":[2020,2025,2030,2035,2040,2045,2050,2055,2060,2065,2070,2075,2080,2085,2090,2095,2100],\"y\":[912306.7240000002,924199.783,933262.5580000001,940475.6150000001,944668.037,945929.6540000001,944372.924,940125.755,933542.0040000002,925493.626,916927.8789999998,908413.484,900272.8359999999,892459.4159999999,884981.163,877749.1270000001,870615.133]},\"selected\":{\"id\":\"1607\",\"type\":\"Selection\"},\"selection_policy\":{\"id\":\"1606\",\"type\":\"UnionRenderers\"}},\"id\":\"1531\",\"type\":\"ColumnDataSource\"},{\"attributes\":{},\"id\":\"1470\",\"type\":\"BasicTicker\"},{\"attributes\":{\"fill_alpha\":{\"value\":0.1},\"fill_color\":{\"value\":\"#1f77b4\"},\"line_alpha\":{\"value\":0.1},\"line_color\":{\"value\":\"#1f77b4\"},\"line_width\":{\"value\":3},\"x\":{\"field\":\"x\"},\"y\":{\"field\":\"y\"}},\"id\":\"1507\",\"type\":\"Circle\"},{\"attributes\":{},\"id\":\"1608\",\"type\":\"UnionRenderers\"},{\"attributes\":{\"line_color\":\"#2CC775\",\"x\":{\"field\":\"x\"},\"y\":{\"field\":\"y\"}},\"id\":\"1532\",\"type\":\"Line\"},{\"attributes\":{},\"id\":\"1522\",\"type\":\"UnionRenderers\"},{\"attributes\":{\"callback\":null},\"id\":\"1461\",\"type\":\"DataRange1d\"},{\"attributes\":{\"data_source\":{\"id\":\"1505\",\"type\":\"ColumnDataSource\"},\"glyph\":{\"id\":\"1506\",\"type\":\"Circle\"},\"hover_glyph\":null,\"muted_glyph\":null,\"nonselection_glyph\":{\"id\":\"1507\",\"type\":\"Circle\"},\"selection_glyph\":null,\"view\":{\"id\":\"1509\",\"type\":\"CDSView\"}},\"id\":\"1508\",\"type\":\"GlyphRenderer\"},{\"attributes\":{},\"id\":\"1609\",\"type\":\"Selection\"},{\"attributes\":{\"line_alpha\":0.1,\"line_color\":\"#1f77b4\",\"x\":{\"field\":\"x\"},\"y\":{\"field\":\"y\"}},\"id\":\"1533\",\"type\":\"Line\"},{\"attributes\":{\"source\":{\"id\":\"1505\",\"type\":\"ColumnDataSource\"}},\"id\":\"1509\",\"type\":\"CDSView\"},{\"attributes\":{\"data_source\":{\"id\":\"1531\",\"type\":\"ColumnDataSource\"},\"glyph\":{\"id\":\"1532\",\"type\":\"Line\"},\"hover_glyph\":null,\"muted_glyph\":null,\"nonselection_glyph\":{\"id\":\"1533\",\"type\":\"Line\"},\"selection_glyph\":null,\"view\":{\"id\":\"1535\",\"type\":\"CDSView\"}},\"id\":\"1534\",\"type\":\"GlyphRenderer\"},{\"attributes\":{\"text\":\"Projected population, thousands\"},\"id\":\"1459\",\"type\":\"Title\"},{\"attributes\":{\"callback\":null,\"data\":{\"x\":[2020,2025,2030,2035,2040,2045,2050,2055,2060,2065,2070,2075,2080,2085,2090,2095,2100],\"y\":[4993103.786000001,5218738.716999997,5421085.645999999,5600144.947999999,5752488.066,5878012.936,5976889.714000002,6050353.927999998,6099916.011999999,6128642.660999999,6138746.354000001,6132326.774999998,6111578.452999997,6078805.713000003,6037048.572999997,5987636.3539999975,5930332.014000001]},\"selected\":{\"id\":\"1546\",\"type\":\"Selection\"},\"selection_policy\":{\"id\":\"1545\",\"type\":\"UnionRenderers\"}},\"id\":\"1510\",\"type\":\"ColumnDataSource\"},{\"attributes\":{\"grid_line_color\":null,\"ticker\":{\"id\":\"1470\",\"type\":\"BasicTicker\"}},\"id\":\"1473\",\"type\":\"Grid\"},{\"attributes\":{\"source\":{\"id\":\"1531\",\"type\":\"ColumnDataSource\"}},\"id\":\"1535\",\"type\":\"CDSView\"},{\"attributes\":{\"dimension\":1,\"grid_line_alpha\":0.5,\"ticker\":{\"id\":\"1475\",\"type\":\"BasicTicker\"}},\"id\":\"1478\",\"type\":\"Grid\"},{\"attributes\":{\"line_color\":\"#5430F1\",\"x\":{\"field\":\"x\"},\"y\":{\"field\":\"y\"}},\"id\":\"1511\",\"type\":\"Line\"},{\"attributes\":{},\"id\":\"1545\",\"type\":\"UnionRenderers\"},{\"attributes\":{},\"id\":\"1475\",\"type\":\"BasicTicker\"},{\"attributes\":{\"line_alpha\":0.1,\"line_color\":\"#1f77b4\",\"x\":{\"field\":\"x\"},\"y\":{\"field\":\"y\"}},\"id\":\"1512\",\"type\":\"Line\"},{\"attributes\":{\"axis_label\":\"Projected population, thousands\",\"formatter\":{\"id\":\"1498\",\"type\":\"BasicTickFormatter\"},\"ticker\":{\"id\":\"1475\",\"type\":\"BasicTicker\"}},\"id\":\"1474\",\"type\":\"LinearAxis\"}],\"root_ids\":[\"1458\"]},\"title\":\"Bokeh Application\",\"version\":\"1.3.4\"}};\n",
       "  var render_items = [{\"docid\":\"6d77861d-2088-4511-8c65-d4941c9888d8\",\"roots\":{\"1458\":\"5eb5f473-8aca-4743-b129-189bd86aa42d\"}}];\n",
       "  root.Bokeh.embed.embed_items_notebook(docs_json, render_items);\n",
       "\n",
       "  }\n",
       "  if (root.Bokeh !== undefined) {\n",
       "    embed_document(root);\n",
       "  } else {\n",
       "    var attempts = 0;\n",
       "    var timer = setInterval(function(root) {\n",
       "      if (root.Bokeh !== undefined) {\n",
       "        embed_document(root);\n",
       "        clearInterval(timer);\n",
       "      }\n",
       "      attempts++;\n",
       "      if (attempts > 100) {\n",
       "        console.log(\"Bokeh: ERROR: Unable to run BokehJS code because BokehJS library is missing\");\n",
       "        clearInterval(timer);\n",
       "      }\n",
       "    }, 10, root)\n",
       "  }\n",
       "})(window);"
      ],
      "application/vnd.bokehjs_exec.v0+json": ""
     },
     "metadata": {
      "application/vnd.bokehjs_exec.v0+json": {
       "id": "1458"
      }
     },
     "output_type": "display_data"
    }
   ],
   "source": [
    "show(line_chart(gpp(['LDCs', 'Developing excluding LDCs', 'OECD']), \"Projected population, thousands\", \n",
    "                x_axis_label='Years', y_axis_label='Projected population, thousands', height=400, width=1000))"
   ]
  },
  {
   "cell_type": "code",
   "execution_count": 7,
   "metadata": {
    "ExecuteTime": {
     "end_time": "2019-10-25T14:23:48.676948Z",
     "start_time": "2019-10-25T14:23:48.556170Z"
    },
    "scrolled": true,
    "slideshow": {
     "slide_type": "slide"
    }
   },
   "outputs": [],
   "source": [
    "import sources\n",
    "data = sources.unpd.indicators.get_projection_by_group('LDCs')"
   ]
  },
  {
   "cell_type": "code",
   "execution_count": 8,
   "metadata": {
    "ExecuteTime": {
     "end_time": "2019-10-25T14:24:45.413121Z",
     "start_time": "2019-10-25T14:23:48.680578Z"
    },
    "slideshow": {
     "slide_type": "slide"
    }
   },
   "outputs": [
    {
     "data": {
      "text/html": [
       "\n",
       "\n",
       "\n",
       "\n",
       "\n",
       "\n",
       "  <div class=\"bk-root\" id=\"655fcd13-a4aa-491f-bc89-596a2bc36ea9\" data-root-id=\"1719\"></div>\n"
      ]
     },
     "metadata": {},
     "output_type": "display_data"
    },
    {
     "data": {
      "application/javascript": [
       "(function(root) {\n",
       "  function embed_document(root) {\n",
       "    \n",
       "  var docs_json = {\"1f5c91aa-0307-405b-a87d-da73a719e2b3\":{\"roots\":{\"references\":[{\"attributes\":{\"below\":[{\"id\":\"1730\",\"type\":\"LinearAxis\"}],\"center\":[{\"id\":\"1734\",\"type\":\"Grid\"},{\"id\":\"1739\",\"type\":\"Grid\"},{\"id\":\"1764\",\"type\":\"Legend\"}],\"left\":[{\"id\":\"1735\",\"type\":\"LinearAxis\"}],\"plot_height\":400,\"plot_width\":800,\"renderers\":[{\"id\":\"1756\",\"type\":\"GlyphRenderer\"},{\"id\":\"1769\",\"type\":\"GlyphRenderer\"},{\"id\":\"1774\",\"type\":\"GlyphRenderer\"},{\"id\":\"1790\",\"type\":\"GlyphRenderer\"},{\"id\":\"1795\",\"type\":\"GlyphRenderer\"},{\"id\":\"1815\",\"type\":\"GlyphRenderer\"}],\"title\":{\"id\":\"1720\",\"type\":\"Title\"},\"toolbar\":{\"id\":\"1746\",\"type\":\"Toolbar\"},\"x_range\":{\"id\":\"1722\",\"type\":\"DataRange1d\"},\"x_scale\":{\"id\":\"1726\",\"type\":\"LinearScale\"},\"y_range\":{\"id\":\"1724\",\"type\":\"DataRange1d\"},\"y_scale\":{\"id\":\"1728\",\"type\":\"LinearScale\"}},\"id\":\"1719\",\"subtype\":\"Figure\",\"type\":\"Plot\"},{\"attributes\":{\"source\":{\"id\":\"1753\",\"type\":\"ColumnDataSource\"}},\"id\":\"1757\",\"type\":\"CDSView\"},{\"attributes\":{\"axis_label\":\"SP.RUR.TOTL.ZS\",\"formatter\":{\"id\":\"1759\",\"type\":\"BasicTickFormatter\"},\"ticker\":{\"id\":\"1736\",\"type\":\"BasicTicker\"}},\"id\":\"1735\",\"type\":\"LinearAxis\"},{\"attributes\":{},\"id\":\"1736\",\"type\":\"BasicTicker\"},{\"attributes\":{\"fill_alpha\":{\"value\":0.1},\"fill_color\":{\"value\":\"#1f77b4\"},\"line_alpha\":{\"value\":0.1},\"line_color\":{\"value\":\"#1f77b4\"},\"line_width\":{\"value\":3},\"x\":{\"field\":\"x\"},\"y\":{\"field\":\"y\"}},\"id\":\"1814\",\"type\":\"Circle\"},{\"attributes\":{\"fill_alpha\":{\"value\":0.1},\"fill_color\":{\"value\":\"#1f77b4\"},\"line_alpha\":{\"value\":0.1},\"line_color\":{\"value\":\"#1f77b4\"},\"line_width\":{\"value\":3},\"x\":{\"field\":\"x\"},\"y\":{\"field\":\"y\"}},\"id\":\"1768\",\"type\":\"Circle\"},{\"attributes\":{\"data_source\":{\"id\":\"1753\",\"type\":\"ColumnDataSource\"},\"glyph\":{\"id\":\"1754\",\"type\":\"Line\"},\"hover_glyph\":null,\"muted_glyph\":null,\"nonselection_glyph\":{\"id\":\"1755\",\"type\":\"Line\"},\"selection_glyph\":null,\"view\":{\"id\":\"1757\",\"type\":\"CDSView\"}},\"id\":\"1756\",\"type\":\"GlyphRenderer\"},{\"attributes\":{\"line_color\":\"#2CC775\",\"x\":{\"field\":\"x\"},\"y\":{\"field\":\"y\"}},\"id\":\"1793\",\"type\":\"Line\"},{\"attributes\":{\"data_source\":{\"id\":\"1812\",\"type\":\"ColumnDataSource\"},\"glyph\":{\"id\":\"1813\",\"type\":\"Circle\"},\"hover_glyph\":null,\"muted_glyph\":null,\"nonselection_glyph\":{\"id\":\"1814\",\"type\":\"Circle\"},\"selection_glyph\":null,\"view\":{\"id\":\"1816\",\"type\":\"CDSView\"}},\"id\":\"1815\",\"type\":\"GlyphRenderer\"},{\"attributes\":{\"dimension\":1,\"grid_line_alpha\":0.5,\"ticker\":{\"id\":\"1736\",\"type\":\"BasicTicker\"}},\"id\":\"1739\",\"type\":\"Grid\"},{\"attributes\":{},\"id\":\"1782\",\"type\":\"Selection\"},{\"attributes\":{},\"id\":\"1885\",\"type\":\"UnionRenderers\"},{\"attributes\":{\"callback\":null,\"data\":{\"x\":[\"1960\",\"1961\",\"1962\",\"1963\",\"1964\",\"1965\",\"1966\",\"1967\",\"1968\",\"1969\",\"1970\",\"1971\",\"1972\",\"1973\",\"1974\",\"1975\",\"1976\",\"1977\",\"1978\",\"1979\",\"1980\",\"1981\",\"1982\",\"1983\",\"1984\",\"1985\",\"1986\",\"1987\",\"1988\",\"1989\",\"1990\",\"1991\",\"1992\",\"1993\",\"1994\",\"1995\",\"1996\",\"1997\",\"1998\",\"1999\",\"2000\",\"2001\",\"2002\",\"2003\",\"2004\",\"2005\",\"2006\",\"2007\",\"2008\",\"2009\",\"2010\",\"2011\",\"2012\",\"2013\",\"2014\",\"2015\",\"2016\",\"2017\"],\"y\":[88.97397380724426,88.74414586911564,88.49317080122637,88.22840028265047,87.94990263493402,87.66155033648887,87.3641390310271,87.03385889268613,86.68982762918448,86.32916622899764,85.96775037463605,85.56855469902285,85.1428495686006,84.7117431310034,84.2752466550058,84.38589084454625,83.92375685724423,83.44096820409904,82.94024522267715,82.45591103908215,81.89333073011242,81.39378812254,81.04714420871082,80.66838842845898,80.24385790029407,79.79355991817908,79.3378233597624,78.87648632012264,78.40713078056805,77.9598005058758,77.49936799859805,77.06556198170198,76.66187797875509,76.27777894361772,75.94330765183989,75.62327542673187,75.30351373978903,74.97382646969444,74.65033879869868,74.3275699289948,73.99938422128915,73.61927055073161,73.2102923285181,72.78732929275272,72.36248070735364,71.92319139086008,71.4887276102885,71.09761887631305,70.61576005817462,70.12466145048869,69.62580805480984,69.12023174484858,68.6437134604995,68.14647270790401,67.64336558698045,67.13448240573528,66.61970742292803,66.09925314007546]},\"selected\":{\"id\":\"1782\",\"type\":\"Selection\"},\"selection_policy\":{\"id\":\"1781\",\"type\":\"UnionRenderers\"}},\"id\":\"1753\",\"type\":\"ColumnDataSource\"},{\"attributes\":{\"callback\":null,\"data\":{\"x\":[\"1960\",\"1961\",\"1962\",\"1963\",\"1964\",\"1965\",\"1966\",\"1967\",\"1968\",\"1969\",\"1970\",\"1971\",\"1972\",\"1973\",\"1974\",\"1975\",\"1976\",\"1977\",\"1978\",\"1979\",\"1980\",\"1981\",\"1982\",\"1983\",\"1984\",\"1985\",\"1986\",\"1987\",\"1988\",\"1989\",\"1990\",\"1991\",\"1992\",\"1993\",\"1994\",\"1995\",\"1996\",\"1997\",\"1998\",\"1999\",\"2000\",\"2001\",\"2002\",\"2003\",\"2004\",\"2005\",\"2006\",\"2007\",\"2008\",\"2009\",\"2010\",\"2011\",\"2012\",\"2013\",\"2014\",\"2015\",\"2016\",\"2017\"],\"y\":[37.40046379762384,36.910426656412376,36.42127360665778,35.91623000953568,35.41312563450036,34.91259283883799,34.41460814240305,33.906853776784544,33.41175944934178,32.93243762343052,32.47371657833314,32.08243047483682,31.72254341724644,31.376230937591238,31.02541989859808,30.694684316251664,30.439520115174478,30.192444164715646,29.942960728335073,29.698117424398575,29.45271291536762,29.159197365938237,28.884819993799557,28.62443020571846,28.373177767459325,28.121981510199006,27.8604458404359,27.578860132814693,27.299974013372434,27.04188263980006,26.764398045351797,26.48515980107442,26.22585182821077,25.962163393862863,25.69276563048598,25.42543337883581,25.181488242051362,24.9477281910235,24.714988268795185,24.48183071086911,24.25025925627994,23.905203675760802,23.504398066886452,23.123776637102807,22.758727449036055,22.408569017585673,22.085829368063017,21.7813270701607,21.485590735868247,21.19879146971327,20.918753085714805,20.70228925587614,20.51614583488052,20.332611207313864,20.1493430924518,19.961337971168508,19.770869743541244,19.576668574669895]},\"selected\":{\"id\":\"1888\",\"type\":\"Selection\"},\"selection_policy\":{\"id\":\"1887\",\"type\":\"UnionRenderers\"}},\"id\":\"1812\",\"type\":\"ColumnDataSource\"},{\"attributes\":{\"callback\":null},\"id\":\"1724\",\"type\":\"DataRange1d\"},{\"attributes\":{\"callback\":null,\"data\":{\"x\":[\"1960\",\"1961\",\"1962\",\"1963\",\"1964\",\"1965\",\"1966\",\"1967\",\"1968\",\"1969\",\"1970\",\"1971\",\"1972\",\"1973\",\"1974\",\"1975\",\"1976\",\"1977\",\"1978\",\"1979\",\"1980\",\"1981\",\"1982\",\"1983\",\"1984\",\"1985\",\"1986\",\"1987\",\"1988\",\"1989\",\"1990\",\"1991\",\"1992\",\"1993\",\"1994\",\"1995\",\"1996\",\"1997\",\"1998\",\"1999\",\"2000\",\"2001\",\"2002\",\"2003\",\"2004\",\"2005\",\"2006\",\"2007\",\"2008\",\"2009\",\"2010\",\"2011\",\"2012\",\"2013\",\"2014\",\"2015\",\"2016\",\"2017\"],\"y\":[88.97397380724426,88.74414586911564,88.49317080122637,88.22840028265047,87.94990263493402,87.66155033648887,87.3641390310271,87.03385889268613,86.68982762918448,86.32916622899764,85.96775037463605,85.56855469902285,85.1428495686006,84.7117431310034,84.2752466550058,84.38589084454625,83.92375685724423,83.44096820409904,82.94024522267715,82.45591103908215,81.89333073011242,81.39378812254,81.04714420871082,80.66838842845898,80.24385790029407,79.79355991817908,79.3378233597624,78.87648632012264,78.40713078056805,77.9598005058758,77.49936799859805,77.06556198170198,76.66187797875509,76.27777894361772,75.94330765183989,75.62327542673187,75.30351373978903,74.97382646969444,74.65033879869868,74.3275699289948,73.99938422128915,73.61927055073161,73.2102923285181,72.78732929275272,72.36248070735364,71.92319139086008,71.4887276102885,71.09761887631305,70.61576005817462,70.12466145048869,69.62580805480984,69.12023174484858,68.6437134604995,68.14647270790401,67.64336558698045,67.13448240573528,66.61970742292803,66.09925314007546]},\"selected\":{\"id\":\"1784\",\"type\":\"Selection\"},\"selection_policy\":{\"id\":\"1783\",\"type\":\"UnionRenderers\"}},\"id\":\"1766\",\"type\":\"ColumnDataSource\"},{\"attributes\":{\"line_alpha\":0.1,\"line_color\":\"#1f77b4\",\"x\":{\"field\":\"x\"},\"y\":{\"field\":\"y\"}},\"id\":\"1755\",\"type\":\"Line\"},{\"attributes\":{\"source\":{\"id\":\"1787\",\"type\":\"ColumnDataSource\"}},\"id\":\"1791\",\"type\":\"CDSView\"},{\"attributes\":{\"fill_color\":{\"value\":\"#2CC775\"},\"line_color\":{\"value\":\"#2CC775\"},\"line_width\":{\"value\":3},\"x\":{\"field\":\"x\"},\"y\":{\"field\":\"y\"}},\"id\":\"1813\",\"type\":\"Circle\"},{\"attributes\":{},\"id\":\"1761\",\"type\":\"BasicTickFormatter\"},{\"attributes\":{},\"id\":\"1887\",\"type\":\"UnionRenderers\"},{\"attributes\":{\"source\":{\"id\":\"1771\",\"type\":\"ColumnDataSource\"}},\"id\":\"1775\",\"type\":\"CDSView\"},{\"attributes\":{\"callback\":null},\"id\":\"1722\",\"type\":\"DataRange1d\"},{\"attributes\":{\"data_source\":{\"id\":\"1792\",\"type\":\"ColumnDataSource\"},\"glyph\":{\"id\":\"1793\",\"type\":\"Line\"},\"hover_glyph\":null,\"muted_glyph\":null,\"nonselection_glyph\":{\"id\":\"1794\",\"type\":\"Line\"},\"selection_glyph\":null,\"view\":{\"id\":\"1796\",\"type\":\"CDSView\"}},\"id\":\"1795\",\"type\":\"GlyphRenderer\"},{\"attributes\":{},\"id\":\"1740\",\"type\":\"PanTool\"},{\"attributes\":{},\"id\":\"1888\",\"type\":\"Selection\"},{\"attributes\":{\"fill_color\":{\"value\":\"#FA1857\"},\"line_color\":{\"value\":\"#FA1857\"},\"line_width\":{\"value\":3},\"x\":{\"field\":\"x\"},\"y\":{\"field\":\"y\"}},\"id\":\"1767\",\"type\":\"Circle\"},{\"attributes\":{\"label\":{\"value\":\"Developing excluding LDCs\"},\"renderers\":[{\"id\":\"1774\",\"type\":\"GlyphRenderer\"}]},\"id\":\"1786\",\"type\":\"LegendItem\"},{\"attributes\":{\"line_color\":\"#FA1857\",\"x\":{\"field\":\"x\"},\"y\":{\"field\":\"y\"}},\"id\":\"1754\",\"type\":\"Line\"},{\"attributes\":{\"source\":{\"id\":\"1812\",\"type\":\"ColumnDataSource\"}},\"id\":\"1816\",\"type\":\"CDSView\"},{\"attributes\":{\"text\":\"Rural population (% of total population) weighted against Population, total\"},\"id\":\"1720\",\"type\":\"Title\"},{\"attributes\":{},\"id\":\"1759\",\"type\":\"BasicTickFormatter\"},{\"attributes\":{\"source\":{\"id\":\"1792\",\"type\":\"ColumnDataSource\"}},\"id\":\"1796\",\"type\":\"CDSView\"},{\"attributes\":{},\"id\":\"1781\",\"type\":\"UnionRenderers\"},{\"attributes\":{},\"id\":\"1886\",\"type\":\"Selection\"},{\"attributes\":{\"callback\":null,\"data\":{\"x\":[\"1960\",\"1961\",\"1962\",\"1963\",\"1964\",\"1965\",\"1966\",\"1967\",\"1968\",\"1969\",\"1970\",\"1971\",\"1972\",\"1973\",\"1974\",\"1975\",\"1976\",\"1977\",\"1978\",\"1979\",\"1980\",\"1981\",\"1982\",\"1983\",\"1984\",\"1985\",\"1986\",\"1987\",\"1988\",\"1989\",\"1990\",\"1991\",\"1992\",\"1993\",\"1994\",\"1995\",\"1996\",\"1997\",\"1998\",\"1999\",\"2000\",\"2001\",\"2002\",\"2003\",\"2004\",\"2005\",\"2006\",\"2007\",\"2008\",\"2009\",\"2010\",\"2011\",\"2012\",\"2013\",\"2014\",\"2015\",\"2016\",\"2017\"],\"y\":[77.36558167990847,76.85369119674867,76.36339285706455,75.90657569857643,75.44052033579077,75.26400028680143,75.08339297208057,74.88663372543422,74.69354781183536,74.50525820996135,74.31608190924274,74.0994295857478,73.84165122691049,73.53470588085722,73.18012411831,72.8174531601147,72.46881304831041,72.11284869316286,71.63344265720838,71.03048255353748,70.41825210024072,69.78091162633353,69.1609761614545,68.5951423309108,68.01991309071222,67.44534086814598,66.87635574289399,66.31309198875933,65.7505405937328,65.1877917641661,64.62267427579381,64.05034616689697,63.51617996958811,62.94363443737534,62.370097261167366,61.7726251818695,61.20134552410558,60.62761861786045,60.04987015034463,59.47145651552464,58.8832603140381,58.236628025371395,57.53677645413849,56.83692426838377,56.13161431088994,55.42218461512898,54.7231232706239,54.02923081587353,53.3330568384248,52.63943737031043,51.94737597716072,51.283253521656704,50.62996024858259,49.98012308165774,49.331297704584024,48.68603002244665,48.042910549351525,47.4043586144919]},\"selected\":{\"id\":\"1807\",\"type\":\"Selection\"},\"selection_policy\":{\"id\":\"1806\",\"type\":\"UnionRenderers\"}},\"id\":\"1771\",\"type\":\"ColumnDataSource\"},{\"attributes\":{\"callback\":null,\"data\":{\"x\":[\"1960\",\"1961\",\"1962\",\"1963\",\"1964\",\"1965\",\"1966\",\"1967\",\"1968\",\"1969\",\"1970\",\"1971\",\"1972\",\"1973\",\"1974\",\"1975\",\"1976\",\"1977\",\"1978\",\"1979\",\"1980\",\"1981\",\"1982\",\"1983\",\"1984\",\"1985\",\"1986\",\"1987\",\"1988\",\"1989\",\"1990\",\"1991\",\"1992\",\"1993\",\"1994\",\"1995\",\"1996\",\"1997\",\"1998\",\"1999\",\"2000\",\"2001\",\"2002\",\"2003\",\"2004\",\"2005\",\"2006\",\"2007\",\"2008\",\"2009\",\"2010\",\"2011\",\"2012\",\"2013\",\"2014\",\"2015\",\"2016\",\"2017\"],\"y\":[77.36558167990847,76.85369119674867,76.36339285706455,75.90657569857643,75.44052033579077,75.26400028680143,75.08339297208057,74.88663372543422,74.69354781183536,74.50525820996135,74.31608190924274,74.0994295857478,73.84165122691049,73.53470588085722,73.18012411831,72.8174531601147,72.46881304831041,72.11284869316286,71.63344265720838,71.03048255353748,70.41825210024072,69.78091162633353,69.1609761614545,68.5951423309108,68.01991309071222,67.44534086814598,66.87635574289399,66.31309198875933,65.7505405937328,65.1877917641661,64.62267427579381,64.05034616689697,63.51617996958811,62.94363443737534,62.370097261167366,61.7726251818695,61.20134552410558,60.62761861786045,60.04987015034463,59.47145651552464,58.8832603140381,58.236628025371395,57.53677645413849,56.83692426838377,56.13161431088994,55.42218461512898,54.7231232706239,54.02923081587353,53.3330568384248,52.63943737031043,51.94737597716072,51.283253521656704,50.62996024858259,49.98012308165774,49.331297704584024,48.68603002244665,48.042910549351525,47.4043586144919]},\"selected\":{\"id\":\"1809\",\"type\":\"Selection\"},\"selection_policy\":{\"id\":\"1808\",\"type\":\"UnionRenderers\"}},\"id\":\"1787\",\"type\":\"ColumnDataSource\"},{\"attributes\":{\"axis_label\":\"Years\",\"formatter\":{\"id\":\"1761\",\"type\":\"BasicTickFormatter\"},\"ticker\":{\"id\":\"1731\",\"type\":\"BasicTicker\"}},\"id\":\"1730\",\"type\":\"LinearAxis\"},{\"attributes\":{\"line_alpha\":0.1,\"line_color\":\"#1f77b4\",\"x\":{\"field\":\"x\"},\"y\":{\"field\":\"y\"}},\"id\":\"1794\",\"type\":\"Line\"},{\"attributes\":{\"overlay\":{\"id\":\"1763\",\"type\":\"BoxAnnotation\"}},\"id\":\"1742\",\"type\":\"BoxZoomTool\"},{\"attributes\":{\"callback\":null,\"data\":{\"x\":[\"1960\",\"1961\",\"1962\",\"1963\",\"1964\",\"1965\",\"1966\",\"1967\",\"1968\",\"1969\",\"1970\",\"1971\",\"1972\",\"1973\",\"1974\",\"1975\",\"1976\",\"1977\",\"1978\",\"1979\",\"1980\",\"1981\",\"1982\",\"1983\",\"1984\",\"1985\",\"1986\",\"1987\",\"1988\",\"1989\",\"1990\",\"1991\",\"1992\",\"1993\",\"1994\",\"1995\",\"1996\",\"1997\",\"1998\",\"1999\",\"2000\",\"2001\",\"2002\",\"2003\",\"2004\",\"2005\",\"2006\",\"2007\",\"2008\",\"2009\",\"2010\",\"2011\",\"2012\",\"2013\",\"2014\",\"2015\",\"2016\",\"2017\"],\"y\":[37.40046379762384,36.910426656412376,36.42127360665778,35.91623000953568,35.41312563450036,34.91259283883799,34.41460814240305,33.906853776784544,33.41175944934178,32.93243762343052,32.47371657833314,32.08243047483682,31.72254341724644,31.376230937591238,31.02541989859808,30.694684316251664,30.439520115174478,30.192444164715646,29.942960728335073,29.698117424398575,29.45271291536762,29.159197365938237,28.884819993799557,28.62443020571846,28.373177767459325,28.121981510199006,27.8604458404359,27.578860132814693,27.299974013372434,27.04188263980006,26.764398045351797,26.48515980107442,26.22585182821077,25.962163393862863,25.69276563048598,25.42543337883581,25.181488242051362,24.9477281910235,24.714988268795185,24.48183071086911,24.25025925627994,23.905203675760802,23.504398066886452,23.123776637102807,22.758727449036055,22.408569017585673,22.085829368063017,21.7813270701607,21.485590735868247,21.19879146971327,20.918753085714805,20.70228925587614,20.51614583488052,20.332611207313864,20.1493430924518,19.961337971168508,19.770869743541244,19.576668574669895]},\"selected\":{\"id\":\"1886\",\"type\":\"Selection\"},\"selection_policy\":{\"id\":\"1885\",\"type\":\"UnionRenderers\"}},\"id\":\"1792\",\"type\":\"ColumnDataSource\"},{\"attributes\":{\"callback\":null,\"tooltips\":\"                \\n        <div style=padding=5px>Year:@x</div>\\n        <div style=padding=5px>Value:@y</div>        \\n        \"},\"id\":\"1817\",\"type\":\"HoverTool\"},{\"attributes\":{},\"id\":\"1743\",\"type\":\"SaveTool\"},{\"attributes\":{},\"id\":\"1728\",\"type\":\"LinearScale\"},{\"attributes\":{\"data_source\":{\"id\":\"1766\",\"type\":\"ColumnDataSource\"},\"glyph\":{\"id\":\"1767\",\"type\":\"Circle\"},\"hover_glyph\":null,\"muted_glyph\":null,\"nonselection_glyph\":{\"id\":\"1768\",\"type\":\"Circle\"},\"selection_glyph\":null,\"view\":{\"id\":\"1770\",\"type\":\"CDSView\"}},\"id\":\"1769\",\"type\":\"GlyphRenderer\"},{\"attributes\":{},\"id\":\"1784\",\"type\":\"Selection\"},{\"attributes\":{},\"id\":\"1807\",\"type\":\"Selection\"},{\"attributes\":{},\"id\":\"1741\",\"type\":\"WheelZoomTool\"},{\"attributes\":{},\"id\":\"1808\",\"type\":\"UnionRenderers\"},{\"attributes\":{\"source\":{\"id\":\"1766\",\"type\":\"ColumnDataSource\"}},\"id\":\"1770\",\"type\":\"CDSView\"},{\"attributes\":{\"fill_alpha\":{\"value\":0.1},\"fill_color\":{\"value\":\"#1f77b4\"},\"line_alpha\":{\"value\":0.1},\"line_color\":{\"value\":\"#1f77b4\"},\"line_width\":{\"value\":3},\"x\":{\"field\":\"x\"},\"y\":{\"field\":\"y\"}},\"id\":\"1789\",\"type\":\"Circle\"},{\"attributes\":{},\"id\":\"1726\",\"type\":\"LinearScale\"},{\"attributes\":{},\"id\":\"1745\",\"type\":\"HelpTool\"},{\"attributes\":{},\"id\":\"1806\",\"type\":\"UnionRenderers\"},{\"attributes\":{\"line_alpha\":0.1,\"line_color\":\"#1f77b4\",\"x\":{\"field\":\"x\"},\"y\":{\"field\":\"y\"}},\"id\":\"1773\",\"type\":\"Line\"},{\"attributes\":{\"data_source\":{\"id\":\"1771\",\"type\":\"ColumnDataSource\"},\"glyph\":{\"id\":\"1772\",\"type\":\"Line\"},\"hover_glyph\":null,\"muted_glyph\":null,\"nonselection_glyph\":{\"id\":\"1773\",\"type\":\"Line\"},\"selection_glyph\":null,\"view\":{\"id\":\"1775\",\"type\":\"CDSView\"}},\"id\":\"1774\",\"type\":\"GlyphRenderer\"},{\"attributes\":{\"grid_line_color\":null,\"ticker\":{\"id\":\"1731\",\"type\":\"BasicTicker\"}},\"id\":\"1734\",\"type\":\"Grid\"},{\"attributes\":{\"data_source\":{\"id\":\"1787\",\"type\":\"ColumnDataSource\"},\"glyph\":{\"id\":\"1788\",\"type\":\"Circle\"},\"hover_glyph\":null,\"muted_glyph\":null,\"nonselection_glyph\":{\"id\":\"1789\",\"type\":\"Circle\"},\"selection_glyph\":null,\"view\":{\"id\":\"1791\",\"type\":\"CDSView\"}},\"id\":\"1790\",\"type\":\"GlyphRenderer\"},{\"attributes\":{\"active_drag\":\"auto\",\"active_inspect\":\"auto\",\"active_multi\":null,\"active_scroll\":\"auto\",\"active_tap\":\"auto\",\"tools\":[{\"id\":\"1740\",\"type\":\"PanTool\"},{\"id\":\"1741\",\"type\":\"WheelZoomTool\"},{\"id\":\"1742\",\"type\":\"BoxZoomTool\"},{\"id\":\"1743\",\"type\":\"SaveTool\"},{\"id\":\"1744\",\"type\":\"ResetTool\"},{\"id\":\"1745\",\"type\":\"HelpTool\"},{\"id\":\"1817\",\"type\":\"HoverTool\"}]},\"id\":\"1746\",\"type\":\"Toolbar\"},{\"attributes\":{\"label\":{\"value\":\"LDCs\"},\"renderers\":[{\"id\":\"1756\",\"type\":\"GlyphRenderer\"}]},\"id\":\"1765\",\"type\":\"LegendItem\"},{\"attributes\":{},\"id\":\"1809\",\"type\":\"Selection\"},{\"attributes\":{},\"id\":\"1744\",\"type\":\"ResetTool\"},{\"attributes\":{\"line_color\":\"#5430F1\",\"x\":{\"field\":\"x\"},\"y\":{\"field\":\"y\"}},\"id\":\"1772\",\"type\":\"Line\"},{\"attributes\":{\"fill_color\":{\"value\":\"#5430F1\"},\"line_color\":{\"value\":\"#5430F1\"},\"line_width\":{\"value\":3},\"x\":{\"field\":\"x\"},\"y\":{\"field\":\"y\"}},\"id\":\"1788\",\"type\":\"Circle\"},{\"attributes\":{\"bottom_units\":\"screen\",\"fill_alpha\":{\"value\":0.5},\"fill_color\":{\"value\":\"lightgrey\"},\"left_units\":\"screen\",\"level\":\"overlay\",\"line_alpha\":{\"value\":1.0},\"line_color\":{\"value\":\"black\"},\"line_dash\":[4,4],\"line_width\":{\"value\":2},\"render_mode\":\"css\",\"right_units\":\"screen\",\"top_units\":\"screen\"},\"id\":\"1763\",\"type\":\"BoxAnnotation\"},{\"attributes\":{},\"id\":\"1731\",\"type\":\"BasicTicker\"},{\"attributes\":{\"label\":{\"value\":\"OECD\"},\"renderers\":[{\"id\":\"1795\",\"type\":\"GlyphRenderer\"}]},\"id\":\"1811\",\"type\":\"LegendItem\"},{\"attributes\":{},\"id\":\"1783\",\"type\":\"UnionRenderers\"},{\"attributes\":{\"items\":[{\"id\":\"1765\",\"type\":\"LegendItem\"},{\"id\":\"1786\",\"type\":\"LegendItem\"},{\"id\":\"1811\",\"type\":\"LegendItem\"}],\"location\":\"bottom_left\"},\"id\":\"1764\",\"type\":\"Legend\"}],\"root_ids\":[\"1719\"]},\"title\":\"Bokeh Application\",\"version\":\"1.3.4\"}};\n",
       "  var render_items = [{\"docid\":\"1f5c91aa-0307-405b-a87d-da73a719e2b3\",\"roots\":{\"1719\":\"655fcd13-a4aa-491f-bc89-596a2bc36ea9\"}}];\n",
       "  root.Bokeh.embed.embed_items_notebook(docs_json, render_items);\n",
       "\n",
       "  }\n",
       "  if (root.Bokeh !== undefined) {\n",
       "    embed_document(root);\n",
       "  } else {\n",
       "    var attempts = 0;\n",
       "    var timer = setInterval(function(root) {\n",
       "      if (root.Bokeh !== undefined) {\n",
       "        embed_document(root);\n",
       "        clearInterval(timer);\n",
       "      }\n",
       "      attempts++;\n",
       "      if (attempts > 100) {\n",
       "        console.log(\"Bokeh: ERROR: Unable to run BokehJS code because BokehJS library is missing\");\n",
       "        clearInterval(timer);\n",
       "      }\n",
       "    }, 10, root)\n",
       "  }\n",
       "})(window);"
      ],
      "application/vnd.bokehjs_exec.v0+json": ""
     },
     "metadata": {
      "application/vnd.bokehjs_exec.v0+json": {
       "id": "1719"
      }
     },
     "output_type": "display_data"
    }
   ],
   "source": [
    "# Rural population as a percentage of total population\n",
    "result = show_weighted_average(years, 'SP.RUR.TOTL.ZS', 'SP.POP.TOTL', \n",
    "                               ['LDCs', 'Developing excluding LDCs', 'OECD'])"
   ]
  },
  {
   "cell_type": "code",
   "execution_count": 9,
   "metadata": {
    "ExecuteTime": {
     "end_time": "2019-10-25T14:24:46.376641Z",
     "start_time": "2019-10-25T14:24:45.418470Z"
    },
    "slideshow": {
     "slide_type": "slide"
    }
   },
   "outputs": [
    {
     "data": {
      "text/html": [
       "\n",
       "\n",
       "\n",
       "\n",
       "\n",
       "\n",
       "  <div class=\"bk-root\" id=\"28eb8de0-6b01-4444-9932-649b2536dcdc\" data-root-id=\"1998\"></div>\n"
      ]
     },
     "metadata": {},
     "output_type": "display_data"
    },
    {
     "data": {
      "application/javascript": [
       "(function(root) {\n",
       "  function embed_document(root) {\n",
       "    \n",
       "  var docs_json = {\"49619c67-ff92-4acd-b3a6-3138c0a33c32\":{\"roots\":{\"references\":[{\"attributes\":{\"below\":[{\"id\":\"2009\",\"type\":\"LinearAxis\"}],\"center\":[{\"id\":\"2013\",\"type\":\"Grid\"},{\"id\":\"2018\",\"type\":\"Grid\"},{\"id\":\"2043\",\"type\":\"Legend\"}],\"left\":[{\"id\":\"2014\",\"type\":\"LinearAxis\"}],\"plot_height\":400,\"plot_width\":900,\"renderers\":[{\"id\":\"2035\",\"type\":\"GlyphRenderer\"},{\"id\":\"2048\",\"type\":\"GlyphRenderer\"}],\"title\":{\"id\":\"1999\",\"type\":\"Title\"},\"toolbar\":{\"id\":\"2025\",\"type\":\"Toolbar\"},\"x_range\":{\"id\":\"2001\",\"type\":\"DataRange1d\"},\"x_scale\":{\"id\":\"2005\",\"type\":\"LinearScale\"},\"y_range\":{\"id\":\"2003\",\"type\":\"DataRange1d\"},\"y_scale\":{\"id\":\"2007\",\"type\":\"LinearScale\"}},\"id\":\"1998\",\"subtype\":\"Figure\",\"type\":\"Plot\"},{\"attributes\":{\"axis_label\":\"SP.RUR.TOTL\",\"formatter\":{\"id\":\"2038\",\"type\":\"BasicTickFormatter\"},\"ticker\":{\"id\":\"2015\",\"type\":\"BasicTicker\"}},\"id\":\"2014\",\"type\":\"LinearAxis\"},{\"attributes\":{\"items\":[{\"id\":\"2044\",\"type\":\"LegendItem\"}],\"location\":\"bottom_left\"},\"id\":\"2043\",\"type\":\"Legend\"},{\"attributes\":{\"text\":\"Rural population\"},\"id\":\"1999\",\"type\":\"Title\"},{\"attributes\":{},\"id\":\"2015\",\"type\":\"BasicTicker\"},{\"attributes\":{\"label\":{\"value\":\"LDCs\"},\"renderers\":[{\"id\":\"2035\",\"type\":\"GlyphRenderer\"}]},\"id\":\"2044\",\"type\":\"LegendItem\"},{\"attributes\":{\"dimension\":1,\"grid_line_alpha\":0.5,\"ticker\":{\"id\":\"2015\",\"type\":\"BasicTicker\"}},\"id\":\"2018\",\"type\":\"Grid\"},{\"attributes\":{\"callback\":null,\"data\":{\"x\":[\"1960\",\"1961\",\"1962\",\"1963\",\"1964\",\"1965\",\"1966\",\"1967\",\"1968\",\"1969\",\"1970\",\"1971\",\"1972\",\"1973\",\"1974\",\"1975\",\"1976\",\"1977\",\"1978\",\"1979\",\"1980\",\"1981\",\"1982\",\"1983\",\"1984\",\"1985\",\"1986\",\"1987\",\"1988\",\"1989\",\"1990\",\"1991\",\"1992\",\"1993\",\"1994\",\"1995\",\"1996\",\"1997\",\"1998\",\"1999\",\"2000\",\"2001\",\"2002\",\"2003\",\"2004\",\"2005\",\"2006\",\"2007\",\"2008\",\"2009\",\"2010\",\"2011\",\"2012\",\"2013\",\"2014\",\"2015\",\"2016\",\"2017\"],\"y\":[217201141.0,221648032.0,226185257.0,230852048.0,235678565.0,240689826.0,245905541.0,251232801.0,256646596.0,262035089.0,267378313.0,272530645.0,277556016.0,282587860.0,287723910.0,294963433.0,300466769.0,306095035.0,311835621.0,317790214.0,323594204.0,329769115.0,336725562.0,343761255.0,350844734.0,358052669.0,365463045.0,373065564.0,380863656.0,389023941.0,397380267.0,406151517.0,415295757.0,424676447.0,434374441.0,444118896.0,453786247.0,463345981.0,472977069.0,482765911.0,492753594.0,502654567.0,512565273.0,522500780.0,532434279.0,542199358.0,551913368.0,561924852.0,571250553.0,580616500.0,590103650.0,599729467.0,607552372.0,617585217.0,627707285.0,637891695.0,648126174.0,658398338.0]},\"selected\":{\"id\":\"2131\",\"type\":\"Selection\"},\"selection_policy\":{\"id\":\"2130\",\"type\":\"UnionRenderers\"}},\"id\":\"2045\",\"type\":\"ColumnDataSource\"},{\"attributes\":{\"fill_color\":{\"value\":\"#FA1857\"},\"line_color\":{\"value\":\"#FA1857\"},\"line_width\":{\"value\":3},\"x\":{\"field\":\"x\"},\"y\":{\"field\":\"y\"}},\"id\":\"2046\",\"type\":\"Circle\"},{\"attributes\":{\"line_color\":\"#FA1857\",\"x\":{\"field\":\"x\"},\"y\":{\"field\":\"y\"}},\"id\":\"2033\",\"type\":\"Line\"},{\"attributes\":{\"fill_alpha\":{\"value\":0.1},\"fill_color\":{\"value\":\"#1f77b4\"},\"line_alpha\":{\"value\":0.1},\"line_color\":{\"value\":\"#1f77b4\"},\"line_width\":{\"value\":3},\"x\":{\"field\":\"x\"},\"y\":{\"field\":\"y\"}},\"id\":\"2047\",\"type\":\"Circle\"},{\"attributes\":{\"callback\":null,\"data\":{\"x\":[\"1960\",\"1961\",\"1962\",\"1963\",\"1964\",\"1965\",\"1966\",\"1967\",\"1968\",\"1969\",\"1970\",\"1971\",\"1972\",\"1973\",\"1974\",\"1975\",\"1976\",\"1977\",\"1978\",\"1979\",\"1980\",\"1981\",\"1982\",\"1983\",\"1984\",\"1985\",\"1986\",\"1987\",\"1988\",\"1989\",\"1990\",\"1991\",\"1992\",\"1993\",\"1994\",\"1995\",\"1996\",\"1997\",\"1998\",\"1999\",\"2000\",\"2001\",\"2002\",\"2003\",\"2004\",\"2005\",\"2006\",\"2007\",\"2008\",\"2009\",\"2010\",\"2011\",\"2012\",\"2013\",\"2014\",\"2015\",\"2016\",\"2017\"],\"y\":[217201141.0,221648032.0,226185257.0,230852048.0,235678565.0,240689826.0,245905541.0,251232801.0,256646596.0,262035089.0,267378313.0,272530645.0,277556016.0,282587860.0,287723910.0,294963433.0,300466769.0,306095035.0,311835621.0,317790214.0,323594204.0,329769115.0,336725562.0,343761255.0,350844734.0,358052669.0,365463045.0,373065564.0,380863656.0,389023941.0,397380267.0,406151517.0,415295757.0,424676447.0,434374441.0,444118896.0,453786247.0,463345981.0,472977069.0,482765911.0,492753594.0,502654567.0,512565273.0,522500780.0,532434279.0,542199358.0,551913368.0,561924852.0,571250553.0,580616500.0,590103650.0,599729467.0,607552372.0,617585217.0,627707285.0,637891695.0,648126174.0,658398338.0]},\"selected\":{\"id\":\"2129\",\"type\":\"Selection\"},\"selection_policy\":{\"id\":\"2128\",\"type\":\"UnionRenderers\"}},\"id\":\"2032\",\"type\":\"ColumnDataSource\"},{\"attributes\":{\"data_source\":{\"id\":\"2045\",\"type\":\"ColumnDataSource\"},\"glyph\":{\"id\":\"2046\",\"type\":\"Circle\"},\"hover_glyph\":null,\"muted_glyph\":null,\"nonselection_glyph\":{\"id\":\"2047\",\"type\":\"Circle\"},\"selection_glyph\":null,\"view\":{\"id\":\"2049\",\"type\":\"CDSView\"}},\"id\":\"2048\",\"type\":\"GlyphRenderer\"},{\"attributes\":{},\"id\":\"2019\",\"type\":\"PanTool\"},{\"attributes\":{\"source\":{\"id\":\"2045\",\"type\":\"ColumnDataSource\"}},\"id\":\"2049\",\"type\":\"CDSView\"},{\"attributes\":{},\"id\":\"2020\",\"type\":\"WheelZoomTool\"},{\"attributes\":{\"overlay\":{\"id\":\"2042\",\"type\":\"BoxAnnotation\"}},\"id\":\"2021\",\"type\":\"BoxZoomTool\"},{\"attributes\":{\"callback\":null,\"tooltips\":\"                \\n        <div style=padding=5px>Year:@x</div>\\n        <div style=padding=5px>Value:@y</div>        \\n        \"},\"id\":\"2050\",\"type\":\"HoverTool\"},{\"attributes\":{},\"id\":\"2128\",\"type\":\"UnionRenderers\"},{\"attributes\":{},\"id\":\"2022\",\"type\":\"SaveTool\"},{\"attributes\":{},\"id\":\"2129\",\"type\":\"Selection\"},{\"attributes\":{},\"id\":\"2023\",\"type\":\"ResetTool\"},{\"attributes\":{},\"id\":\"2130\",\"type\":\"UnionRenderers\"},{\"attributes\":{},\"id\":\"2024\",\"type\":\"HelpTool\"},{\"attributes\":{\"callback\":null},\"id\":\"2001\",\"type\":\"DataRange1d\"},{\"attributes\":{},\"id\":\"2131\",\"type\":\"Selection\"},{\"attributes\":{\"active_drag\":\"auto\",\"active_inspect\":\"auto\",\"active_multi\":null,\"active_scroll\":\"auto\",\"active_tap\":\"auto\",\"tools\":[{\"id\":\"2019\",\"type\":\"PanTool\"},{\"id\":\"2020\",\"type\":\"WheelZoomTool\"},{\"id\":\"2021\",\"type\":\"BoxZoomTool\"},{\"id\":\"2022\",\"type\":\"SaveTool\"},{\"id\":\"2023\",\"type\":\"ResetTool\"},{\"id\":\"2024\",\"type\":\"HelpTool\"},{\"id\":\"2050\",\"type\":\"HoverTool\"}]},\"id\":\"2025\",\"type\":\"Toolbar\"},{\"attributes\":{\"line_alpha\":0.1,\"line_color\":\"#1f77b4\",\"x\":{\"field\":\"x\"},\"y\":{\"field\":\"y\"}},\"id\":\"2034\",\"type\":\"Line\"},{\"attributes\":{\"callback\":null},\"id\":\"2003\",\"type\":\"DataRange1d\"},{\"attributes\":{},\"id\":\"2005\",\"type\":\"LinearScale\"},{\"attributes\":{\"data_source\":{\"id\":\"2032\",\"type\":\"ColumnDataSource\"},\"glyph\":{\"id\":\"2033\",\"type\":\"Line\"},\"hover_glyph\":null,\"muted_glyph\":null,\"nonselection_glyph\":{\"id\":\"2034\",\"type\":\"Line\"},\"selection_glyph\":null,\"view\":{\"id\":\"2036\",\"type\":\"CDSView\"}},\"id\":\"2035\",\"type\":\"GlyphRenderer\"},{\"attributes\":{\"source\":{\"id\":\"2032\",\"type\":\"ColumnDataSource\"}},\"id\":\"2036\",\"type\":\"CDSView\"},{\"attributes\":{},\"id\":\"2007\",\"type\":\"LinearScale\"},{\"attributes\":{},\"id\":\"2038\",\"type\":\"BasicTickFormatter\"},{\"attributes\":{\"axis_label\":\"Years\",\"formatter\":{\"id\":\"2040\",\"type\":\"BasicTickFormatter\"},\"ticker\":{\"id\":\"2010\",\"type\":\"BasicTicker\"}},\"id\":\"2009\",\"type\":\"LinearAxis\"},{\"attributes\":{},\"id\":\"2040\",\"type\":\"BasicTickFormatter\"},{\"attributes\":{},\"id\":\"2010\",\"type\":\"BasicTicker\"},{\"attributes\":{\"bottom_units\":\"screen\",\"fill_alpha\":{\"value\":0.5},\"fill_color\":{\"value\":\"lightgrey\"},\"left_units\":\"screen\",\"level\":\"overlay\",\"line_alpha\":{\"value\":1.0},\"line_color\":{\"value\":\"black\"},\"line_dash\":[4,4],\"line_width\":{\"value\":2},\"render_mode\":\"css\",\"right_units\":\"screen\",\"top_units\":\"screen\"},\"id\":\"2042\",\"type\":\"BoxAnnotation\"},{\"attributes\":{\"grid_line_color\":null,\"ticker\":{\"id\":\"2010\",\"type\":\"BasicTicker\"}},\"id\":\"2013\",\"type\":\"Grid\"}],\"root_ids\":[\"1998\"]},\"title\":\"Bokeh Application\",\"version\":\"1.3.4\"}};\n",
       "  var render_items = [{\"docid\":\"49619c67-ff92-4acd-b3a6-3138c0a33c32\",\"roots\":{\"1998\":\"28eb8de0-6b01-4444-9932-649b2536dcdc\"}}];\n",
       "  root.Bokeh.embed.embed_items_notebook(docs_json, render_items);\n",
       "\n",
       "  }\n",
       "  if (root.Bokeh !== undefined) {\n",
       "    embed_document(root);\n",
       "  } else {\n",
       "    var attempts = 0;\n",
       "    var timer = setInterval(function(root) {\n",
       "      if (root.Bokeh !== undefined) {\n",
       "        embed_document(root);\n",
       "        clearInterval(timer);\n",
       "      }\n",
       "      attempts++;\n",
       "      if (attempts > 100) {\n",
       "        console.log(\"Bokeh: ERROR: Unable to run BokehJS code because BokehJS library is missing\");\n",
       "        clearInterval(timer);\n",
       "      }\n",
       "    }, 10, root)\n",
       "  }\n",
       "})(window);"
      ],
      "application/vnd.bokehjs_exec.v0+json": ""
     },
     "metadata": {
      "application/vnd.bokehjs_exec.v0+json": {
       "id": "1998"
      }
     },
     "output_type": "display_data"
    }
   ],
   "source": [
    "result = show_group_total(years, 'SP.RUR.TOTL', ['LDCs'])"
   ]
  },
  {
   "cell_type": "code",
   "execution_count": 10,
   "metadata": {
    "ExecuteTime": {
     "end_time": "2019-10-25T14:24:52.788910Z",
     "start_time": "2019-10-25T14:24:46.379697Z"
    },
    "slideshow": {
     "slide_type": "slide"
    }
   },
   "outputs": [
    {
     "data": {
      "text/html": [
       "\n",
       "\n",
       "\n",
       "\n",
       "\n",
       "\n",
       "  <div class=\"bk-root\" id=\"0822a94d-9dbb-4611-94c4-f90658882abe\" data-root-id=\"2193\"></div>\n"
      ]
     },
     "metadata": {},
     "output_type": "display_data"
    },
    {
     "data": {
      "application/javascript": [
       "(function(root) {\n",
       "  function embed_document(root) {\n",
       "    \n",
       "  var docs_json = {\"e61289e3-7f45-40e3-b223-6321476e8c9f\":{\"roots\":{\"references\":[{\"attributes\":{\"below\":[{\"id\":\"2204\",\"type\":\"LinearAxis\"}],\"center\":[{\"id\":\"2208\",\"type\":\"Grid\"},{\"id\":\"2213\",\"type\":\"Grid\"},{\"id\":\"2238\",\"type\":\"Legend\"}],\"left\":[{\"id\":\"2209\",\"type\":\"LinearAxis\"}],\"plot_height\":400,\"plot_width\":800,\"renderers\":[{\"id\":\"2230\",\"type\":\"GlyphRenderer\"},{\"id\":\"2243\",\"type\":\"GlyphRenderer\"},{\"id\":\"2248\",\"type\":\"GlyphRenderer\"},{\"id\":\"2264\",\"type\":\"GlyphRenderer\"},{\"id\":\"2269\",\"type\":\"GlyphRenderer\"},{\"id\":\"2289\",\"type\":\"GlyphRenderer\"},{\"id\":\"2294\",\"type\":\"GlyphRenderer\"},{\"id\":\"2318\",\"type\":\"GlyphRenderer\"}],\"title\":{\"id\":\"2194\",\"type\":\"Title\"},\"toolbar\":{\"id\":\"2220\",\"type\":\"Toolbar\"},\"x_range\":{\"id\":\"2196\",\"type\":\"DataRange1d\"},\"x_scale\":{\"id\":\"2200\",\"type\":\"LinearScale\"},\"y_range\":{\"id\":\"2198\",\"type\":\"DataRange1d\"},\"y_scale\":{\"id\":\"2202\",\"type\":\"LinearScale\"}},\"id\":\"2193\",\"subtype\":\"Figure\",\"type\":\"Plot\"},{\"attributes\":{\"source\":{\"id\":\"2227\",\"type\":\"ColumnDataSource\"}},\"id\":\"2231\",\"type\":\"CDSView\"},{\"attributes\":{\"callback\":null,\"data\":{\"x\":[\"2000\",\"2001\",\"2002\",\"2003\",\"2004\",\"2005\",\"2006\",\"2007\",\"2008\",\"2009\",\"2010\",\"2011\",\"2012\",\"2013\",\"2014\",\"2015\",\"2016\",\"2017\"],\"y\":[20.653439230371426,20.415555136413452,20.200407075212425,19.99721546354425,19.792580083113325,19.58153049491419,19.42936673752946,19.266708712785178,19.10062316536645,18.940792466102835,18.78763312883592,18.68284269266012,18.553760570557017,18.4175092045611,18.28626606521173,18.163323640146963,18.042734326142373,17.93618839869138]},\"selected\":{\"id\":\"2312\",\"type\":\"Selection\"},\"selection_policy\":{\"id\":\"2311\",\"type\":\"UnionRenderers\"}},\"id\":\"2286\",\"type\":\"ColumnDataSource\"},{\"attributes\":{},\"id\":\"2233\",\"type\":\"BasicTickFormatter\"},{\"attributes\":{\"fill_color\":{\"value\":\"#2CC775\"},\"line_color\":{\"value\":\"#2CC775\"},\"line_width\":{\"value\":3},\"x\":{\"field\":\"x\"},\"y\":{\"field\":\"y\"}},\"id\":\"2287\",\"type\":\"Circle\"},{\"attributes\":{\"fill_alpha\":{\"value\":0.1},\"fill_color\":{\"value\":\"#1f77b4\"},\"line_alpha\":{\"value\":0.1},\"line_color\":{\"value\":\"#1f77b4\"},\"line_width\":{\"value\":3},\"x\":{\"field\":\"x\"},\"y\":{\"field\":\"y\"}},\"id\":\"2288\",\"type\":\"Circle\"},{\"attributes\":{},\"id\":\"2235\",\"type\":\"BasicTickFormatter\"},{\"attributes\":{\"data_source\":{\"id\":\"2286\",\"type\":\"ColumnDataSource\"},\"glyph\":{\"id\":\"2287\",\"type\":\"Circle\"},\"hover_glyph\":null,\"muted_glyph\":null,\"nonselection_glyph\":{\"id\":\"2288\",\"type\":\"Circle\"},\"selection_glyph\":null,\"view\":{\"id\":\"2290\",\"type\":\"CDSView\"}},\"id\":\"2289\",\"type\":\"GlyphRenderer\"},{\"attributes\":{\"bottom_units\":\"screen\",\"fill_alpha\":{\"value\":0.5},\"fill_color\":{\"value\":\"lightgrey\"},\"left_units\":\"screen\",\"level\":\"overlay\",\"line_alpha\":{\"value\":1.0},\"line_color\":{\"value\":\"black\"},\"line_dash\":[4,4],\"line_width\":{\"value\":2},\"render_mode\":\"css\",\"right_units\":\"screen\",\"top_units\":\"screen\"},\"id\":\"2237\",\"type\":\"BoxAnnotation\"},{\"attributes\":{\"items\":[{\"id\":\"2239\",\"type\":\"LegendItem\"},{\"id\":\"2260\",\"type\":\"LegendItem\"},{\"id\":\"2285\",\"type\":\"LegendItem\"},{\"id\":\"2314\",\"type\":\"LegendItem\"}],\"location\":\"bottom_left\"},\"id\":\"2238\",\"type\":\"Legend\"},{\"attributes\":{\"source\":{\"id\":\"2286\",\"type\":\"ColumnDataSource\"}},\"id\":\"2290\",\"type\":\"CDSView\"},{\"attributes\":{\"callback\":null,\"data\":{\"x\":[\"2000\",\"2001\",\"2002\",\"2003\",\"2004\",\"2005\",\"2006\",\"2007\",\"2008\",\"2009\",\"2010\",\"2011\",\"2012\",\"2013\",\"2014\",\"2015\",\"2016\",\"2017\"],\"y\":[26.275215002924497,25.740771470033607,24.99104946950845,24.12915585010682,23.339441068530373,22.71617250917954,22.197719471061305,21.81442848640427,21.54223888685379,21.31357973024241,21.09321477333619,20.929134021387153,20.78508387800108,20.65811546306569,20.54888239538855,20.452425596158864,20.36541226108201,20.2739601424701]},\"selected\":{\"id\":\"2421\",\"type\":\"Selection\"},\"selection_policy\":{\"id\":\"2420\",\"type\":\"UnionRenderers\"}},\"id\":\"2291\",\"type\":\"ColumnDataSource\"},{\"attributes\":{\"label\":{\"value\":\"LDCs\"},\"renderers\":[{\"id\":\"2230\",\"type\":\"GlyphRenderer\"}]},\"id\":\"2239\",\"type\":\"LegendItem\"},{\"attributes\":{\"callback\":null,\"data\":{\"x\":[\"2000\",\"2001\",\"2002\",\"2003\",\"2004\",\"2005\",\"2006\",\"2007\",\"2008\",\"2009\",\"2010\",\"2011\",\"2012\",\"2013\",\"2014\",\"2015\",\"2016\",\"2017\"],\"y\":[42.501489666698774,42.37374392265807,42.22887581740992,42.07219844488613,41.90384954996243,41.72083610508943,41.610008469641,41.47442096320036,41.316846318100616,41.141558470261536,40.95102839868382,40.755189506552824,40.53475295078126,40.29220143540501,40.03263457305002,39.758822964891884,39.49253508027312,39.211954136230496]},\"selected\":{\"id\":\"2258\",\"type\":\"Selection\"},\"selection_policy\":{\"id\":\"2257\",\"type\":\"UnionRenderers\"}},\"id\":\"2240\",\"type\":\"ColumnDataSource\"},{\"attributes\":{\"line_color\":\"#F4CA04\",\"x\":{\"field\":\"x\"},\"y\":{\"field\":\"y\"}},\"id\":\"2292\",\"type\":\"Line\"},{\"attributes\":{\"fill_color\":{\"value\":\"#FA1857\"},\"line_color\":{\"value\":\"#FA1857\"},\"line_width\":{\"value\":3},\"x\":{\"field\":\"x\"},\"y\":{\"field\":\"y\"}},\"id\":\"2241\",\"type\":\"Circle\"},{\"attributes\":{\"line_alpha\":0.1,\"line_color\":\"#1f77b4\",\"x\":{\"field\":\"x\"},\"y\":{\"field\":\"y\"}},\"id\":\"2293\",\"type\":\"Line\"},{\"attributes\":{\"data_source\":{\"id\":\"2291\",\"type\":\"ColumnDataSource\"},\"glyph\":{\"id\":\"2292\",\"type\":\"Line\"},\"hover_glyph\":null,\"muted_glyph\":null,\"nonselection_glyph\":{\"id\":\"2293\",\"type\":\"Line\"},\"selection_glyph\":null,\"view\":{\"id\":\"2295\",\"type\":\"CDSView\"}},\"id\":\"2294\",\"type\":\"GlyphRenderer\"},{\"attributes\":{\"fill_alpha\":{\"value\":0.1},\"fill_color\":{\"value\":\"#1f77b4\"},\"line_alpha\":{\"value\":0.1},\"line_color\":{\"value\":\"#1f77b4\"},\"line_width\":{\"value\":3},\"x\":{\"field\":\"x\"},\"y\":{\"field\":\"y\"}},\"id\":\"2242\",\"type\":\"Circle\"},{\"attributes\":{\"data_source\":{\"id\":\"2240\",\"type\":\"ColumnDataSource\"},\"glyph\":{\"id\":\"2241\",\"type\":\"Circle\"},\"hover_glyph\":null,\"muted_glyph\":null,\"nonselection_glyph\":{\"id\":\"2242\",\"type\":\"Circle\"},\"selection_glyph\":null,\"view\":{\"id\":\"2244\",\"type\":\"CDSView\"}},\"id\":\"2243\",\"type\":\"GlyphRenderer\"},{\"attributes\":{\"source\":{\"id\":\"2291\",\"type\":\"ColumnDataSource\"}},\"id\":\"2295\",\"type\":\"CDSView\"},{\"attributes\":{\"source\":{\"id\":\"2240\",\"type\":\"ColumnDataSource\"}},\"id\":\"2244\",\"type\":\"CDSView\"},{\"attributes\":{},\"id\":\"2309\",\"type\":\"UnionRenderers\"},{\"attributes\":{\"callback\":null,\"data\":{\"x\":[\"2000\",\"2001\",\"2002\",\"2003\",\"2004\",\"2005\",\"2006\",\"2007\",\"2008\",\"2009\",\"2010\",\"2011\",\"2012\",\"2013\",\"2014\",\"2015\",\"2016\",\"2017\"],\"y\":[31.45501317728547,31.043683748305877,30.511296017830627,29.917494644233273,29.36093695575281,28.890888585119253,28.471845013916965,28.126271073986057,27.83776671071426,27.567471401995352,27.29508958383986,27.05516942192989,26.810529887579573,26.56498460112185,26.326362059346703,26.096530369916763,25.87910474904753,25.665245061731724]},\"selected\":{\"id\":\"2281\",\"type\":\"Selection\"},\"selection_policy\":{\"id\":\"2280\",\"type\":\"UnionRenderers\"}},\"id\":\"2245\",\"type\":\"ColumnDataSource\"},{\"attributes\":{},\"id\":\"2310\",\"type\":\"Selection\"},{\"attributes\":{\"line_color\":\"#5430F1\",\"x\":{\"field\":\"x\"},\"y\":{\"field\":\"y\"}},\"id\":\"2246\",\"type\":\"Line\"},{\"attributes\":{},\"id\":\"2311\",\"type\":\"UnionRenderers\"},{\"attributes\":{\"text\":\"Population ages 0-14 (% of total population) weighted against Population, total\"},\"id\":\"2194\",\"type\":\"Title\"},{\"attributes\":{\"line_alpha\":0.1,\"line_color\":\"#1f77b4\",\"x\":{\"field\":\"x\"},\"y\":{\"field\":\"y\"}},\"id\":\"2247\",\"type\":\"Line\"},{\"attributes\":{},\"id\":\"2312\",\"type\":\"Selection\"},{\"attributes\":{\"callback\":null},\"id\":\"2196\",\"type\":\"DataRange1d\"},{\"attributes\":{\"data_source\":{\"id\":\"2245\",\"type\":\"ColumnDataSource\"},\"glyph\":{\"id\":\"2246\",\"type\":\"Line\"},\"hover_glyph\":null,\"muted_glyph\":null,\"nonselection_glyph\":{\"id\":\"2247\",\"type\":\"Line\"},\"selection_glyph\":null,\"view\":{\"id\":\"2249\",\"type\":\"CDSView\"}},\"id\":\"2248\",\"type\":\"GlyphRenderer\"},{\"attributes\":{\"label\":{\"value\":\"UMICs\"},\"renderers\":[{\"id\":\"2294\",\"type\":\"GlyphRenderer\"}]},\"id\":\"2314\",\"type\":\"LegendItem\"},{\"attributes\":{\"callback\":null},\"id\":\"2198\",\"type\":\"DataRange1d\"},{\"attributes\":{\"source\":{\"id\":\"2245\",\"type\":\"ColumnDataSource\"}},\"id\":\"2249\",\"type\":\"CDSView\"},{\"attributes\":{\"callback\":null,\"data\":{\"x\":[\"2000\",\"2001\",\"2002\",\"2003\",\"2004\",\"2005\",\"2006\",\"2007\",\"2008\",\"2009\",\"2010\",\"2011\",\"2012\",\"2013\",\"2014\",\"2015\",\"2016\",\"2017\"],\"y\":[26.275215002924497,25.740771470033607,24.99104946950845,24.12915585010682,23.339441068530373,22.71617250917954,22.197719471061305,21.81442848640427,21.54223888685379,21.31357973024241,21.09321477333619,20.929134021387153,20.78508387800108,20.65811546306569,20.54888239538855,20.452425596158864,20.36541226108201,20.2739601424701]},\"selected\":{\"id\":\"2423\",\"type\":\"Selection\"},\"selection_policy\":{\"id\":\"2422\",\"type\":\"UnionRenderers\"}},\"id\":\"2315\",\"type\":\"ColumnDataSource\"},{\"attributes\":{},\"id\":\"2200\",\"type\":\"LinearScale\"},{\"attributes\":{},\"id\":\"2255\",\"type\":\"UnionRenderers\"},{\"attributes\":{\"fill_color\":{\"value\":\"#F4CA04\"},\"line_color\":{\"value\":\"#F4CA04\"},\"line_width\":{\"value\":3},\"x\":{\"field\":\"x\"},\"y\":{\"field\":\"y\"}},\"id\":\"2316\",\"type\":\"Circle\"},{\"attributes\":{},\"id\":\"2202\",\"type\":\"LinearScale\"},{\"attributes\":{},\"id\":\"2256\",\"type\":\"Selection\"},{\"attributes\":{\"fill_alpha\":{\"value\":0.1},\"fill_color\":{\"value\":\"#1f77b4\"},\"line_alpha\":{\"value\":0.1},\"line_color\":{\"value\":\"#1f77b4\"},\"line_width\":{\"value\":3},\"x\":{\"field\":\"x\"},\"y\":{\"field\":\"y\"}},\"id\":\"2317\",\"type\":\"Circle\"},{\"attributes\":{\"axis_label\":\"Years\",\"formatter\":{\"id\":\"2235\",\"type\":\"BasicTickFormatter\"},\"ticker\":{\"id\":\"2205\",\"type\":\"BasicTicker\"}},\"id\":\"2204\",\"type\":\"LinearAxis\"},{\"attributes\":{\"data_source\":{\"id\":\"2315\",\"type\":\"ColumnDataSource\"},\"glyph\":{\"id\":\"2316\",\"type\":\"Circle\"},\"hover_glyph\":null,\"muted_glyph\":null,\"nonselection_glyph\":{\"id\":\"2317\",\"type\":\"Circle\"},\"selection_glyph\":null,\"view\":{\"id\":\"2319\",\"type\":\"CDSView\"}},\"id\":\"2318\",\"type\":\"GlyphRenderer\"},{\"attributes\":{},\"id\":\"2257\",\"type\":\"UnionRenderers\"},{\"attributes\":{},\"id\":\"2205\",\"type\":\"BasicTicker\"},{\"attributes\":{\"source\":{\"id\":\"2315\",\"type\":\"ColumnDataSource\"}},\"id\":\"2319\",\"type\":\"CDSView\"},{\"attributes\":{},\"id\":\"2258\",\"type\":\"Selection\"},{\"attributes\":{\"grid_line_color\":null,\"ticker\":{\"id\":\"2205\",\"type\":\"BasicTicker\"}},\"id\":\"2208\",\"type\":\"Grid\"},{\"attributes\":{\"label\":{\"value\":\"Developing excluding LDCs\"},\"renderers\":[{\"id\":\"2248\",\"type\":\"GlyphRenderer\"}]},\"id\":\"2260\",\"type\":\"LegendItem\"},{\"attributes\":{\"axis_label\":\"SP.POP.0014.TO.ZS\",\"formatter\":{\"id\":\"2233\",\"type\":\"BasicTickFormatter\"},\"ticker\":{\"id\":\"2210\",\"type\":\"BasicTicker\"}},\"id\":\"2209\",\"type\":\"LinearAxis\"},{\"attributes\":{\"callback\":null,\"data\":{\"x\":[\"2000\",\"2001\",\"2002\",\"2003\",\"2004\",\"2005\",\"2006\",\"2007\",\"2008\",\"2009\",\"2010\",\"2011\",\"2012\",\"2013\",\"2014\",\"2015\",\"2016\",\"2017\"],\"y\":[31.45501317728547,31.043683748305877,30.511296017830627,29.917494644233273,29.36093695575281,28.890888585119253,28.471845013916965,28.126271073986057,27.83776671071426,27.567471401995352,27.29508958383986,27.05516942192989,26.810529887579573,26.56498460112185,26.326362059346703,26.096530369916763,25.87910474904753,25.665245061731724]},\"selected\":{\"id\":\"2283\",\"type\":\"Selection\"},\"selection_policy\":{\"id\":\"2282\",\"type\":\"UnionRenderers\"}},\"id\":\"2261\",\"type\":\"ColumnDataSource\"},{\"attributes\":{},\"id\":\"2420\",\"type\":\"UnionRenderers\"},{\"attributes\":{},\"id\":\"2210\",\"type\":\"BasicTicker\"},{\"attributes\":{\"fill_color\":{\"value\":\"#5430F1\"},\"line_color\":{\"value\":\"#5430F1\"},\"line_width\":{\"value\":3},\"x\":{\"field\":\"x\"},\"y\":{\"field\":\"y\"}},\"id\":\"2262\",\"type\":\"Circle\"},{\"attributes\":{},\"id\":\"2421\",\"type\":\"Selection\"},{\"attributes\":{\"dimension\":1,\"grid_line_alpha\":0.5,\"ticker\":{\"id\":\"2210\",\"type\":\"BasicTicker\"}},\"id\":\"2213\",\"type\":\"Grid\"},{\"attributes\":{\"fill_alpha\":{\"value\":0.1},\"fill_color\":{\"value\":\"#1f77b4\"},\"line_alpha\":{\"value\":0.1},\"line_color\":{\"value\":\"#1f77b4\"},\"line_width\":{\"value\":3},\"x\":{\"field\":\"x\"},\"y\":{\"field\":\"y\"}},\"id\":\"2263\",\"type\":\"Circle\"},{\"attributes\":{},\"id\":\"2422\",\"type\":\"UnionRenderers\"},{\"attributes\":{\"data_source\":{\"id\":\"2261\",\"type\":\"ColumnDataSource\"},\"glyph\":{\"id\":\"2262\",\"type\":\"Circle\"},\"hover_glyph\":null,\"muted_glyph\":null,\"nonselection_glyph\":{\"id\":\"2263\",\"type\":\"Circle\"},\"selection_glyph\":null,\"view\":{\"id\":\"2265\",\"type\":\"CDSView\"}},\"id\":\"2264\",\"type\":\"GlyphRenderer\"},{\"attributes\":{\"line_color\":\"#FA1857\",\"x\":{\"field\":\"x\"},\"y\":{\"field\":\"y\"}},\"id\":\"2228\",\"type\":\"Line\"},{\"attributes\":{},\"id\":\"2423\",\"type\":\"Selection\"},{\"attributes\":{\"callback\":null,\"data\":{\"x\":[\"2000\",\"2001\",\"2002\",\"2003\",\"2004\",\"2005\",\"2006\",\"2007\",\"2008\",\"2009\",\"2010\",\"2011\",\"2012\",\"2013\",\"2014\",\"2015\",\"2016\",\"2017\"],\"y\":[42.501489666698774,42.37374392265807,42.22887581740992,42.07219844488613,41.90384954996243,41.72083610508943,41.610008469641,41.47442096320036,41.316846318100616,41.141558470261536,40.95102839868382,40.755189506552824,40.53475295078126,40.29220143540501,40.03263457305002,39.758822964891884,39.49253508027312,39.211954136230496]},\"selected\":{\"id\":\"2256\",\"type\":\"Selection\"},\"selection_policy\":{\"id\":\"2255\",\"type\":\"UnionRenderers\"}},\"id\":\"2227\",\"type\":\"ColumnDataSource\"},{\"attributes\":{\"source\":{\"id\":\"2261\",\"type\":\"ColumnDataSource\"}},\"id\":\"2265\",\"type\":\"CDSView\"},{\"attributes\":{\"callback\":null,\"tooltips\":\"                \\n        <div style=padding=5px>Year:@x</div>\\n        <div style=padding=5px>Value:@y</div>        \\n        \"},\"id\":\"2320\",\"type\":\"HoverTool\"},{\"attributes\":{\"line_alpha\":0.1,\"line_color\":\"#1f77b4\",\"x\":{\"field\":\"x\"},\"y\":{\"field\":\"y\"}},\"id\":\"2229\",\"type\":\"Line\"},{\"attributes\":{\"callback\":null,\"data\":{\"x\":[\"2000\",\"2001\",\"2002\",\"2003\",\"2004\",\"2005\",\"2006\",\"2007\",\"2008\",\"2009\",\"2010\",\"2011\",\"2012\",\"2013\",\"2014\",\"2015\",\"2016\",\"2017\"],\"y\":[20.653439230371426,20.415555136413452,20.200407075212425,19.99721546354425,19.792580083113325,19.58153049491419,19.42936673752946,19.266708712785178,19.10062316536645,18.940792466102835,18.78763312883592,18.68284269266012,18.553760570557017,18.4175092045611,18.28626606521173,18.163323640146963,18.042734326142373,17.93618839869138]},\"selected\":{\"id\":\"2310\",\"type\":\"Selection\"},\"selection_policy\":{\"id\":\"2309\",\"type\":\"UnionRenderers\"}},\"id\":\"2266\",\"type\":\"ColumnDataSource\"},{\"attributes\":{},\"id\":\"2214\",\"type\":\"PanTool\"},{\"attributes\":{\"line_color\":\"#2CC775\",\"x\":{\"field\":\"x\"},\"y\":{\"field\":\"y\"}},\"id\":\"2267\",\"type\":\"Line\"},{\"attributes\":{},\"id\":\"2215\",\"type\":\"WheelZoomTool\"},{\"attributes\":{\"line_alpha\":0.1,\"line_color\":\"#1f77b4\",\"x\":{\"field\":\"x\"},\"y\":{\"field\":\"y\"}},\"id\":\"2268\",\"type\":\"Line\"},{\"attributes\":{\"overlay\":{\"id\":\"2237\",\"type\":\"BoxAnnotation\"}},\"id\":\"2216\",\"type\":\"BoxZoomTool\"},{\"attributes\":{\"data_source\":{\"id\":\"2266\",\"type\":\"ColumnDataSource\"},\"glyph\":{\"id\":\"2267\",\"type\":\"Line\"},\"hover_glyph\":null,\"muted_glyph\":null,\"nonselection_glyph\":{\"id\":\"2268\",\"type\":\"Line\"},\"selection_glyph\":null,\"view\":{\"id\":\"2270\",\"type\":\"CDSView\"}},\"id\":\"2269\",\"type\":\"GlyphRenderer\"},{\"attributes\":{},\"id\":\"2217\",\"type\":\"SaveTool\"},{\"attributes\":{\"source\":{\"id\":\"2266\",\"type\":\"ColumnDataSource\"}},\"id\":\"2270\",\"type\":\"CDSView\"},{\"attributes\":{},\"id\":\"2218\",\"type\":\"ResetTool\"},{\"attributes\":{},\"id\":\"2280\",\"type\":\"UnionRenderers\"},{\"attributes\":{},\"id\":\"2219\",\"type\":\"HelpTool\"},{\"attributes\":{},\"id\":\"2281\",\"type\":\"Selection\"},{\"attributes\":{\"active_drag\":\"auto\",\"active_inspect\":\"auto\",\"active_multi\":null,\"active_scroll\":\"auto\",\"active_tap\":\"auto\",\"tools\":[{\"id\":\"2214\",\"type\":\"PanTool\"},{\"id\":\"2215\",\"type\":\"WheelZoomTool\"},{\"id\":\"2216\",\"type\":\"BoxZoomTool\"},{\"id\":\"2217\",\"type\":\"SaveTool\"},{\"id\":\"2218\",\"type\":\"ResetTool\"},{\"id\":\"2219\",\"type\":\"HelpTool\"},{\"id\":\"2320\",\"type\":\"HoverTool\"}]},\"id\":\"2220\",\"type\":\"Toolbar\"},{\"attributes\":{},\"id\":\"2282\",\"type\":\"UnionRenderers\"},{\"attributes\":{\"data_source\":{\"id\":\"2227\",\"type\":\"ColumnDataSource\"},\"glyph\":{\"id\":\"2228\",\"type\":\"Line\"},\"hover_glyph\":null,\"muted_glyph\":null,\"nonselection_glyph\":{\"id\":\"2229\",\"type\":\"Line\"},\"selection_glyph\":null,\"view\":{\"id\":\"2231\",\"type\":\"CDSView\"}},\"id\":\"2230\",\"type\":\"GlyphRenderer\"},{\"attributes\":{},\"id\":\"2283\",\"type\":\"Selection\"},{\"attributes\":{\"label\":{\"value\":\"OECD\"},\"renderers\":[{\"id\":\"2269\",\"type\":\"GlyphRenderer\"}]},\"id\":\"2285\",\"type\":\"LegendItem\"}],\"root_ids\":[\"2193\"]},\"title\":\"Bokeh Application\",\"version\":\"1.3.4\"}};\n",
       "  var render_items = [{\"docid\":\"e61289e3-7f45-40e3-b223-6321476e8c9f\",\"roots\":{\"2193\":\"0822a94d-9dbb-4611-94c4-f90658882abe\"}}];\n",
       "  root.Bokeh.embed.embed_items_notebook(docs_json, render_items);\n",
       "\n",
       "  }\n",
       "  if (root.Bokeh !== undefined) {\n",
       "    embed_document(root);\n",
       "  } else {\n",
       "    var attempts = 0;\n",
       "    var timer = setInterval(function(root) {\n",
       "      if (root.Bokeh !== undefined) {\n",
       "        embed_document(root);\n",
       "        clearInterval(timer);\n",
       "      }\n",
       "      attempts++;\n",
       "      if (attempts > 100) {\n",
       "        console.log(\"Bokeh: ERROR: Unable to run BokehJS code because BokehJS library is missing\");\n",
       "        clearInterval(timer);\n",
       "      }\n",
       "    }, 10, root)\n",
       "  }\n",
       "})(window);"
      ],
      "application/vnd.bokehjs_exec.v0+json": ""
     },
     "metadata": {
      "application/vnd.bokehjs_exec.v0+json": {
       "id": "2193"
      }
     },
     "output_type": "display_data"
    }
   ],
   "source": [
    "years = list(map(str, list(range(2000,2018))))\n",
    "# Population 0-14\n",
    "result = show_weighted_average(years, 'SP.POP.0014.TO.ZS', 'SP.POP.TOTL', \n",
    "                               ['LDCs', 'Developing excluding LDCs', 'OECD', 'UMICs'])"
   ]
  },
  {
   "cell_type": "code",
   "execution_count": 11,
   "metadata": {
    "ExecuteTime": {
     "end_time": "2019-10-25T14:24:54.398684Z",
     "start_time": "2019-10-25T14:24:52.791475Z"
    },
    "slideshow": {
     "slide_type": "slide"
    }
   },
   "outputs": [
    {
     "data": {
      "text/html": [
       "\n",
       "\n",
       "\n",
       "\n",
       "\n",
       "\n",
       "  <div class=\"bk-root\" id=\"5d56f7ea-648d-4b7d-9460-bb8259da047d\" data-root-id=\"2557\"></div>\n"
      ]
     },
     "metadata": {},
     "output_type": "display_data"
    },
    {
     "data": {
      "application/javascript": [
       "(function(root) {\n",
       "  function embed_document(root) {\n",
       "    \n",
       "  var docs_json = {\"d2256f00-0113-4b25-8b09-b35c15c20cb6\":{\"roots\":{\"references\":[{\"attributes\":{\"below\":[{\"id\":\"2568\",\"type\":\"LinearAxis\"}],\"center\":[{\"id\":\"2572\",\"type\":\"Grid\"},{\"id\":\"2577\",\"type\":\"Grid\"},{\"id\":\"2602\",\"type\":\"Legend\"}],\"left\":[{\"id\":\"2573\",\"type\":\"LinearAxis\"}],\"plot_height\":400,\"plot_width\":900,\"renderers\":[{\"id\":\"2594\",\"type\":\"GlyphRenderer\"},{\"id\":\"2607\",\"type\":\"GlyphRenderer\"},{\"id\":\"2612\",\"type\":\"GlyphRenderer\"},{\"id\":\"2628\",\"type\":\"GlyphRenderer\"},{\"id\":\"2633\",\"type\":\"GlyphRenderer\"},{\"id\":\"2653\",\"type\":\"GlyphRenderer\"},{\"id\":\"2658\",\"type\":\"GlyphRenderer\"},{\"id\":\"2682\",\"type\":\"GlyphRenderer\"}],\"title\":{\"id\":\"2558\",\"type\":\"Title\"},\"toolbar\":{\"id\":\"2584\",\"type\":\"Toolbar\"},\"x_range\":{\"id\":\"2560\",\"type\":\"DataRange1d\"},\"x_scale\":{\"id\":\"2564\",\"type\":\"LinearScale\"},\"y_range\":{\"id\":\"2562\",\"type\":\"DataRange1d\"},\"y_scale\":{\"id\":\"2566\",\"type\":\"LinearScale\"}},\"id\":\"2557\",\"subtype\":\"Figure\",\"type\":\"Plot\"},{\"attributes\":{\"source\":{\"id\":\"2630\",\"type\":\"ColumnDataSource\"}},\"id\":\"2634\",\"type\":\"CDSView\"},{\"attributes\":{\"overlay\":{\"id\":\"2601\",\"type\":\"BoxAnnotation\"}},\"id\":\"2580\",\"type\":\"BoxZoomTool\"},{\"attributes\":{},\"id\":\"2581\",\"type\":\"SaveTool\"},{\"attributes\":{},\"id\":\"2644\",\"type\":\"UnionRenderers\"},{\"attributes\":{},\"id\":\"2582\",\"type\":\"ResetTool\"},{\"attributes\":{},\"id\":\"2645\",\"type\":\"Selection\"},{\"attributes\":{},\"id\":\"2583\",\"type\":\"HelpTool\"},{\"attributes\":{},\"id\":\"2646\",\"type\":\"UnionRenderers\"},{\"attributes\":{\"active_drag\":\"auto\",\"active_inspect\":\"auto\",\"active_multi\":null,\"active_scroll\":\"auto\",\"active_tap\":\"auto\",\"tools\":[{\"id\":\"2578\",\"type\":\"PanTool\"},{\"id\":\"2579\",\"type\":\"WheelZoomTool\"},{\"id\":\"2580\",\"type\":\"BoxZoomTool\"},{\"id\":\"2581\",\"type\":\"SaveTool\"},{\"id\":\"2582\",\"type\":\"ResetTool\"},{\"id\":\"2583\",\"type\":\"HelpTool\"},{\"id\":\"2684\",\"type\":\"HoverTool\"}]},\"id\":\"2584\",\"type\":\"Toolbar\"},{\"attributes\":{},\"id\":\"2647\",\"type\":\"Selection\"},{\"attributes\":{\"label\":{\"value\":\"OECD\"},\"renderers\":[{\"id\":\"2633\",\"type\":\"GlyphRenderer\"}]},\"id\":\"2649\",\"type\":\"LegendItem\"},{\"attributes\":{\"data_source\":{\"id\":\"2591\",\"type\":\"ColumnDataSource\"},\"glyph\":{\"id\":\"2592\",\"type\":\"Line\"},\"hover_glyph\":null,\"muted_glyph\":null,\"nonselection_glyph\":{\"id\":\"2593\",\"type\":\"Line\"},\"selection_glyph\":null,\"view\":{\"id\":\"2595\",\"type\":\"CDSView\"}},\"id\":\"2594\",\"type\":\"GlyphRenderer\"},{\"attributes\":{\"source\":{\"id\":\"2591\",\"type\":\"ColumnDataSource\"}},\"id\":\"2595\",\"type\":\"CDSView\"},{\"attributes\":{\"callback\":null,\"data\":{\"x\":[2020,2025,2030,2035,2040,2045,2050,2055,2060,2065,2070,2075,2080,2085,2090,2095,2100],\"y\":[912306.7240000002,924199.783,933262.5580000001,940475.6150000001,944668.037,945929.6540000001,944372.924,940125.755,933542.0040000002,925493.626,916927.8789999998,908413.484,900272.8359999999,892459.4159999999,884981.163,877749.1270000001,870615.133]},\"selected\":{\"id\":\"2676\",\"type\":\"Selection\"},\"selection_policy\":{\"id\":\"2675\",\"type\":\"UnionRenderers\"}},\"id\":\"2650\",\"type\":\"ColumnDataSource\"},{\"attributes\":{\"fill_color\":{\"value\":\"#2CC775\"},\"line_color\":{\"value\":\"#2CC775\"},\"line_width\":{\"value\":3},\"x\":{\"field\":\"x\"},\"y\":{\"field\":\"y\"}},\"id\":\"2651\",\"type\":\"Circle\"},{\"attributes\":{},\"id\":\"2597\",\"type\":\"BasicTickFormatter\"},{\"attributes\":{\"fill_alpha\":{\"value\":0.1},\"fill_color\":{\"value\":\"#1f77b4\"},\"line_alpha\":{\"value\":0.1},\"line_color\":{\"value\":\"#1f77b4\"},\"line_width\":{\"value\":3},\"x\":{\"field\":\"x\"},\"y\":{\"field\":\"y\"}},\"id\":\"2652\",\"type\":\"Circle\"},{\"attributes\":{},\"id\":\"2599\",\"type\":\"BasicTickFormatter\"},{\"attributes\":{\"data_source\":{\"id\":\"2650\",\"type\":\"ColumnDataSource\"},\"glyph\":{\"id\":\"2651\",\"type\":\"Circle\"},\"hover_glyph\":null,\"muted_glyph\":null,\"nonselection_glyph\":{\"id\":\"2652\",\"type\":\"Circle\"},\"selection_glyph\":null,\"view\":{\"id\":\"2654\",\"type\":\"CDSView\"}},\"id\":\"2653\",\"type\":\"GlyphRenderer\"},{\"attributes\":{\"bottom_units\":\"screen\",\"fill_alpha\":{\"value\":0.5},\"fill_color\":{\"value\":\"lightgrey\"},\"left_units\":\"screen\",\"level\":\"overlay\",\"line_alpha\":{\"value\":1.0},\"line_color\":{\"value\":\"black\"},\"line_dash\":[4,4],\"line_width\":{\"value\":2},\"render_mode\":\"css\",\"right_units\":\"screen\",\"top_units\":\"screen\"},\"id\":\"2601\",\"type\":\"BoxAnnotation\"},{\"attributes\":{\"source\":{\"id\":\"2650\",\"type\":\"ColumnDataSource\"}},\"id\":\"2654\",\"type\":\"CDSView\"},{\"attributes\":{\"items\":[{\"id\":\"2603\",\"type\":\"LegendItem\"},{\"id\":\"2624\",\"type\":\"LegendItem\"},{\"id\":\"2649\",\"type\":\"LegendItem\"},{\"id\":\"2678\",\"type\":\"LegendItem\"}],\"location\":\"bottom_left\"},\"id\":\"2602\",\"type\":\"Legend\"},{\"attributes\":{\"callback\":null,\"data\":{\"x\":[2020,2025,2030,2035,2040,2045,2050,2055,2060,2065,2070,2075,2080,2085,2090,2095,2100],\"y\":[2553770.2610000004,2605055.2009999994,2639029.0200000005,2659103.228999999,2665549.994,2659647.6620000005,2641734.805,2612545.58,2574153.84,2529722.836,2481956.653,2432242.5949999993,2381460.154,2330911.3399999994,2281947.836,2234791.158999999,2187803.0989999995]},\"selected\":{\"id\":\"2807\",\"type\":\"Selection\"},\"selection_policy\":{\"id\":\"2806\",\"type\":\"UnionRenderers\"}},\"id\":\"2655\",\"type\":\"ColumnDataSource\"},{\"attributes\":{\"label\":{\"value\":\"LDCs\"},\"renderers\":[{\"id\":\"2594\",\"type\":\"GlyphRenderer\"}]},\"id\":\"2603\",\"type\":\"LegendItem\"},{\"attributes\":{\"line_color\":\"#F4CA04\",\"x\":{\"field\":\"x\"},\"y\":{\"field\":\"y\"}},\"id\":\"2656\",\"type\":\"Line\"},{\"attributes\":{\"callback\":null,\"data\":{\"x\":[2020,2025,2030,2035,2040,2045,2050,2055,2060,2065,2070,2075,2080,2085,2090,2095,2100],\"y\":[1057438.163,1182376.585,1313758.882,1450358.0589999997,1590723.5140000007,1733412.6489999997,1876797.781,2019337.702000001,2159628.188,2296253.5399999996,2427682.2370000007,2552545.8049999997,2669675.032999999,2778054.0900000003,2877186.7590000005,2966790.3559999997,3046778.7830000003]},\"selected\":{\"id\":\"2622\",\"type\":\"Selection\"},\"selection_policy\":{\"id\":\"2621\",\"type\":\"UnionRenderers\"}},\"id\":\"2604\",\"type\":\"ColumnDataSource\"},{\"attributes\":{\"line_alpha\":0.1,\"line_color\":\"#1f77b4\",\"x\":{\"field\":\"x\"},\"y\":{\"field\":\"y\"}},\"id\":\"2657\",\"type\":\"Line\"},{\"attributes\":{\"fill_color\":{\"value\":\"#FA1857\"},\"line_color\":{\"value\":\"#FA1857\"},\"line_width\":{\"value\":3},\"x\":{\"field\":\"x\"},\"y\":{\"field\":\"y\"}},\"id\":\"2605\",\"type\":\"Circle\"},{\"attributes\":{\"data_source\":{\"id\":\"2655\",\"type\":\"ColumnDataSource\"},\"glyph\":{\"id\":\"2656\",\"type\":\"Line\"},\"hover_glyph\":null,\"muted_glyph\":null,\"nonselection_glyph\":{\"id\":\"2657\",\"type\":\"Line\"},\"selection_glyph\":null,\"view\":{\"id\":\"2659\",\"type\":\"CDSView\"}},\"id\":\"2658\",\"type\":\"GlyphRenderer\"},{\"attributes\":{\"fill_alpha\":{\"value\":0.1},\"fill_color\":{\"value\":\"#1f77b4\"},\"line_alpha\":{\"value\":0.1},\"line_color\":{\"value\":\"#1f77b4\"},\"line_width\":{\"value\":3},\"x\":{\"field\":\"x\"},\"y\":{\"field\":\"y\"}},\"id\":\"2606\",\"type\":\"Circle\"},{\"attributes\":{\"source\":{\"id\":\"2655\",\"type\":\"ColumnDataSource\"}},\"id\":\"2659\",\"type\":\"CDSView\"},{\"attributes\":{\"data_source\":{\"id\":\"2604\",\"type\":\"ColumnDataSource\"},\"glyph\":{\"id\":\"2605\",\"type\":\"Circle\"},\"hover_glyph\":null,\"muted_glyph\":null,\"nonselection_glyph\":{\"id\":\"2606\",\"type\":\"Circle\"},\"selection_glyph\":null,\"view\":{\"id\":\"2608\",\"type\":\"CDSView\"}},\"id\":\"2607\",\"type\":\"GlyphRenderer\"},{\"attributes\":{},\"id\":\"2673\",\"type\":\"UnionRenderers\"},{\"attributes\":{\"source\":{\"id\":\"2604\",\"type\":\"ColumnDataSource\"}},\"id\":\"2608\",\"type\":\"CDSView\"},{\"attributes\":{},\"id\":\"2674\",\"type\":\"Selection\"},{\"attributes\":{\"callback\":null,\"data\":{\"x\":[2020,2025,2030,2035,2040,2045,2050,2055,2060,2065,2070,2075,2080,2085,2090,2095,2100],\"y\":[4993103.786000001,5218738.716999997,5421085.645999999,5600144.947999999,5752488.066,5878012.936,5976889.714000002,6050353.927999998,6099916.011999999,6128642.660999999,6138746.354000001,6132326.774999998,6111578.452999997,6078805.713000003,6037048.572999997,5987636.3539999975,5930332.014000001]},\"selected\":{\"id\":\"2645\",\"type\":\"Selection\"},\"selection_policy\":{\"id\":\"2644\",\"type\":\"UnionRenderers\"}},\"id\":\"2609\",\"type\":\"ColumnDataSource\"},{\"attributes\":{\"callback\":null,\"tooltips\":\"                \\n        <div style=padding=5px>Year:@x</div>\\n        <div style=padding=5px>Value:@y</div>        \\n        \"},\"id\":\"2684\",\"type\":\"HoverTool\"},{\"attributes\":{},\"id\":\"2675\",\"type\":\"UnionRenderers\"},{\"attributes\":{\"line_color\":\"#5430F1\",\"x\":{\"field\":\"x\"},\"y\":{\"field\":\"y\"}},\"id\":\"2610\",\"type\":\"Line\"},{\"attributes\":{},\"id\":\"2676\",\"type\":\"Selection\"},{\"attributes\":{\"line_alpha\":0.1,\"line_color\":\"#1f77b4\",\"x\":{\"field\":\"x\"},\"y\":{\"field\":\"y\"}},\"id\":\"2611\",\"type\":\"Line\"},{\"attributes\":{\"label\":{\"value\":\"UMICs\"},\"renderers\":[{\"id\":\"2658\",\"type\":\"GlyphRenderer\"}]},\"id\":\"2678\",\"type\":\"LegendItem\"},{\"attributes\":{\"data_source\":{\"id\":\"2609\",\"type\":\"ColumnDataSource\"},\"glyph\":{\"id\":\"2610\",\"type\":\"Line\"},\"hover_glyph\":null,\"muted_glyph\":null,\"nonselection_glyph\":{\"id\":\"2611\",\"type\":\"Line\"},\"selection_glyph\":null,\"view\":{\"id\":\"2613\",\"type\":\"CDSView\"}},\"id\":\"2612\",\"type\":\"GlyphRenderer\"},{\"attributes\":{\"callback\":null,\"data\":{\"x\":[2020,2025,2030,2035,2040,2045,2050,2055,2060,2065,2070,2075,2080,2085,2090,2095,2100],\"y\":[2553770.2610000004,2605055.2009999994,2639029.0200000005,2659103.228999999,2665549.994,2659647.6620000005,2641734.805,2612545.58,2574153.84,2529722.836,2481956.653,2432242.5949999993,2381460.154,2330911.3399999994,2281947.836,2234791.158999999,2187803.0989999995]},\"selected\":{\"id\":\"2809\",\"type\":\"Selection\"},\"selection_policy\":{\"id\":\"2808\",\"type\":\"UnionRenderers\"}},\"id\":\"2679\",\"type\":\"ColumnDataSource\"},{\"attributes\":{\"source\":{\"id\":\"2609\",\"type\":\"ColumnDataSource\"}},\"id\":\"2613\",\"type\":\"CDSView\"},{\"attributes\":{\"fill_color\":{\"value\":\"#F4CA04\"},\"line_color\":{\"value\":\"#F4CA04\"},\"line_width\":{\"value\":3},\"x\":{\"field\":\"x\"},\"y\":{\"field\":\"y\"}},\"id\":\"2680\",\"type\":\"Circle\"},{\"attributes\":{},\"id\":\"2619\",\"type\":\"UnionRenderers\"},{\"attributes\":{\"fill_alpha\":{\"value\":0.1},\"fill_color\":{\"value\":\"#1f77b4\"},\"line_alpha\":{\"value\":0.1},\"line_color\":{\"value\":\"#1f77b4\"},\"line_width\":{\"value\":3},\"x\":{\"field\":\"x\"},\"y\":{\"field\":\"y\"}},\"id\":\"2681\",\"type\":\"Circle\"},{\"attributes\":{},\"id\":\"2620\",\"type\":\"Selection\"},{\"attributes\":{\"data_source\":{\"id\":\"2679\",\"type\":\"ColumnDataSource\"},\"glyph\":{\"id\":\"2680\",\"type\":\"Circle\"},\"hover_glyph\":null,\"muted_glyph\":null,\"nonselection_glyph\":{\"id\":\"2681\",\"type\":\"Circle\"},\"selection_glyph\":null,\"view\":{\"id\":\"2683\",\"type\":\"CDSView\"}},\"id\":\"2682\",\"type\":\"GlyphRenderer\"},{\"attributes\":{\"source\":{\"id\":\"2679\",\"type\":\"ColumnDataSource\"}},\"id\":\"2683\",\"type\":\"CDSView\"},{\"attributes\":{},\"id\":\"2622\",\"type\":\"Selection\"},{\"attributes\":{\"label\":{\"value\":\"Developing excluding LDCs\"},\"renderers\":[{\"id\":\"2612\",\"type\":\"GlyphRenderer\"}]},\"id\":\"2624\",\"type\":\"LegendItem\"},{\"attributes\":{\"callback\":null},\"id\":\"2560\",\"type\":\"DataRange1d\"},{\"attributes\":{\"callback\":null,\"data\":{\"x\":[2020,2025,2030,2035,2040,2045,2050,2055,2060,2065,2070,2075,2080,2085,2090,2095,2100],\"y\":[4993103.786000001,5218738.716999997,5421085.645999999,5600144.947999999,5752488.066,5878012.936,5976889.714000002,6050353.927999998,6099916.011999999,6128642.660999999,6138746.354000001,6132326.774999998,6111578.452999997,6078805.713000003,6037048.572999997,5987636.3539999975,5930332.014000001]},\"selected\":{\"id\":\"2647\",\"type\":\"Selection\"},\"selection_policy\":{\"id\":\"2646\",\"type\":\"UnionRenderers\"}},\"id\":\"2625\",\"type\":\"ColumnDataSource\"},{\"attributes\":{},\"id\":\"2806\",\"type\":\"UnionRenderers\"},{\"attributes\":{\"callback\":null},\"id\":\"2562\",\"type\":\"DataRange1d\"},{\"attributes\":{\"fill_color\":{\"value\":\"#5430F1\"},\"line_color\":{\"value\":\"#5430F1\"},\"line_width\":{\"value\":3},\"x\":{\"field\":\"x\"},\"y\":{\"field\":\"y\"}},\"id\":\"2626\",\"type\":\"Circle\"},{\"attributes\":{},\"id\":\"2807\",\"type\":\"Selection\"},{\"attributes\":{},\"id\":\"2564\",\"type\":\"LinearScale\"},{\"attributes\":{\"fill_alpha\":{\"value\":0.1},\"fill_color\":{\"value\":\"#1f77b4\"},\"line_alpha\":{\"value\":0.1},\"line_color\":{\"value\":\"#1f77b4\"},\"line_width\":{\"value\":3},\"x\":{\"field\":\"x\"},\"y\":{\"field\":\"y\"}},\"id\":\"2627\",\"type\":\"Circle\"},{\"attributes\":{},\"id\":\"2808\",\"type\":\"UnionRenderers\"},{\"attributes\":{},\"id\":\"2566\",\"type\":\"LinearScale\"},{\"attributes\":{\"data_source\":{\"id\":\"2625\",\"type\":\"ColumnDataSource\"},\"glyph\":{\"id\":\"2626\",\"type\":\"Circle\"},\"hover_glyph\":null,\"muted_glyph\":null,\"nonselection_glyph\":{\"id\":\"2627\",\"type\":\"Circle\"},\"selection_glyph\":null,\"view\":{\"id\":\"2629\",\"type\":\"CDSView\"}},\"id\":\"2628\",\"type\":\"GlyphRenderer\"},{\"attributes\":{},\"id\":\"2809\",\"type\":\"Selection\"},{\"attributes\":{\"dimension\":1,\"grid_line_alpha\":0.5,\"ticker\":{\"id\":\"2574\",\"type\":\"BasicTicker\"}},\"id\":\"2577\",\"type\":\"Grid\"},{\"attributes\":{\"axis_label\":\"Years\",\"formatter\":{\"id\":\"2599\",\"type\":\"BasicTickFormatter\"},\"ticker\":{\"id\":\"2569\",\"type\":\"BasicTicker\"}},\"id\":\"2568\",\"type\":\"LinearAxis\"},{\"attributes\":{\"source\":{\"id\":\"2625\",\"type\":\"ColumnDataSource\"}},\"id\":\"2629\",\"type\":\"CDSView\"},{\"attributes\":{},\"id\":\"2621\",\"type\":\"UnionRenderers\"},{\"attributes\":{\"text\":\"Projected population, thousands\"},\"id\":\"2558\",\"type\":\"Title\"},{\"attributes\":{\"line_color\":\"#FA1857\",\"x\":{\"field\":\"x\"},\"y\":{\"field\":\"y\"}},\"id\":\"2592\",\"type\":\"Line\"},{\"attributes\":{\"callback\":null,\"data\":{\"x\":[2020,2025,2030,2035,2040,2045,2050,2055,2060,2065,2070,2075,2080,2085,2090,2095,2100],\"y\":[912306.7240000002,924199.783,933262.5580000001,940475.6150000001,944668.037,945929.6540000001,944372.924,940125.755,933542.0040000002,925493.626,916927.8789999998,908413.484,900272.8359999999,892459.4159999999,884981.163,877749.1270000001,870615.133]},\"selected\":{\"id\":\"2674\",\"type\":\"Selection\"},\"selection_policy\":{\"id\":\"2673\",\"type\":\"UnionRenderers\"}},\"id\":\"2630\",\"type\":\"ColumnDataSource\"},{\"attributes\":{},\"id\":\"2569\",\"type\":\"BasicTicker\"},{\"attributes\":{},\"id\":\"2574\",\"type\":\"BasicTicker\"},{\"attributes\":{\"callback\":null,\"data\":{\"x\":[2020,2025,2030,2035,2040,2045,2050,2055,2060,2065,2070,2075,2080,2085,2090,2095,2100],\"y\":[1057438.163,1182376.585,1313758.882,1450358.0589999997,1590723.5140000007,1733412.6489999997,1876797.781,2019337.702000001,2159628.188,2296253.5399999996,2427682.2370000007,2552545.8049999997,2669675.032999999,2778054.0900000003,2877186.7590000005,2966790.3559999997,3046778.7830000003]},\"selected\":{\"id\":\"2620\",\"type\":\"Selection\"},\"selection_policy\":{\"id\":\"2619\",\"type\":\"UnionRenderers\"}},\"id\":\"2591\",\"type\":\"ColumnDataSource\"},{\"attributes\":{\"line_color\":\"#2CC775\",\"x\":{\"field\":\"x\"},\"y\":{\"field\":\"y\"}},\"id\":\"2631\",\"type\":\"Line\"},{\"attributes\":{\"line_alpha\":0.1,\"line_color\":\"#1f77b4\",\"x\":{\"field\":\"x\"},\"y\":{\"field\":\"y\"}},\"id\":\"2593\",\"type\":\"Line\"},{\"attributes\":{\"axis_label\":\"Projected population, thousands\",\"formatter\":{\"id\":\"2597\",\"type\":\"BasicTickFormatter\"},\"ticker\":{\"id\":\"2574\",\"type\":\"BasicTicker\"}},\"id\":\"2573\",\"type\":\"LinearAxis\"},{\"attributes\":{\"line_alpha\":0.1,\"line_color\":\"#1f77b4\",\"x\":{\"field\":\"x\"},\"y\":{\"field\":\"y\"}},\"id\":\"2632\",\"type\":\"Line\"},{\"attributes\":{},\"id\":\"2578\",\"type\":\"PanTool\"},{\"attributes\":{\"grid_line_color\":null,\"ticker\":{\"id\":\"2569\",\"type\":\"BasicTicker\"}},\"id\":\"2572\",\"type\":\"Grid\"},{\"attributes\":{},\"id\":\"2579\",\"type\":\"WheelZoomTool\"},{\"attributes\":{\"data_source\":{\"id\":\"2630\",\"type\":\"ColumnDataSource\"},\"glyph\":{\"id\":\"2631\",\"type\":\"Line\"},\"hover_glyph\":null,\"muted_glyph\":null,\"nonselection_glyph\":{\"id\":\"2632\",\"type\":\"Line\"},\"selection_glyph\":null,\"view\":{\"id\":\"2634\",\"type\":\"CDSView\"}},\"id\":\"2633\",\"type\":\"GlyphRenderer\"}],\"root_ids\":[\"2557\"]},\"title\":\"Bokeh Application\",\"version\":\"1.3.4\"}};\n",
       "  var render_items = [{\"docid\":\"d2256f00-0113-4b25-8b09-b35c15c20cb6\",\"roots\":{\"2557\":\"5d56f7ea-648d-4b7d-9460-bb8259da047d\"}}];\n",
       "  root.Bokeh.embed.embed_items_notebook(docs_json, render_items);\n",
       "\n",
       "  }\n",
       "  if (root.Bokeh !== undefined) {\n",
       "    embed_document(root);\n",
       "  } else {\n",
       "    var attempts = 0;\n",
       "    var timer = setInterval(function(root) {\n",
       "      if (root.Bokeh !== undefined) {\n",
       "        embed_document(root);\n",
       "        clearInterval(timer);\n",
       "      }\n",
       "      attempts++;\n",
       "      if (attempts > 100) {\n",
       "        console.log(\"Bokeh: ERROR: Unable to run BokehJS code because BokehJS library is missing\");\n",
       "        clearInterval(timer);\n",
       "      }\n",
       "    }, 10, root)\n",
       "  }\n",
       "})(window);"
      ],
      "application/vnd.bokehjs_exec.v0+json": ""
     },
     "metadata": {
      "application/vnd.bokehjs_exec.v0+json": {
       "id": "2557"
      }
     },
     "output_type": "display_data"
    }
   ],
   "source": [
    "show(line_chart(gpp(['LDCs', 'Developing excluding LDCs', 'OECD', 'UMICs']), \n",
    "                \"Projected population, thousands\", x_axis_label='Years', \n",
    "                y_axis_label='Projected population, thousands', height=400, width=900))"
   ]
  },
  {
   "cell_type": "code",
   "execution_count": 12,
   "metadata": {
    "ExecuteTime": {
     "end_time": "2019-10-25T14:24:58.884216Z",
     "start_time": "2019-10-25T14:24:54.401294Z"
    },
    "slideshow": {
     "slide_type": "slide"
    }
   },
   "outputs": [
    {
     "data": {
      "text/html": [
       "\n",
       "\n",
       "\n",
       "\n",
       "\n",
       "\n",
       "  <div class=\"bk-root\" id=\"6e046374-a9ef-4e81-850d-ca45eb884064\" data-root-id=\"2943\"></div>\n"
      ]
     },
     "metadata": {},
     "output_type": "display_data"
    },
    {
     "data": {
      "application/javascript": [
       "(function(root) {\n",
       "  function embed_document(root) {\n",
       "    \n",
       "  var docs_json = {\"a7f96499-7933-4426-a257-68f7c39cd0fc\":{\"roots\":{\"references\":[{\"attributes\":{\"below\":[{\"id\":\"2954\",\"type\":\"LinearAxis\"}],\"center\":[{\"id\":\"2958\",\"type\":\"Grid\"},{\"id\":\"2963\",\"type\":\"Grid\"},{\"id\":\"2988\",\"type\":\"Legend\"}],\"left\":[{\"id\":\"2959\",\"type\":\"LinearAxis\"}],\"plot_height\":400,\"plot_width\":800,\"renderers\":[{\"id\":\"2980\",\"type\":\"GlyphRenderer\"},{\"id\":\"2993\",\"type\":\"GlyphRenderer\"},{\"id\":\"2998\",\"type\":\"GlyphRenderer\"},{\"id\":\"3014\",\"type\":\"GlyphRenderer\"},{\"id\":\"3019\",\"type\":\"GlyphRenderer\"},{\"id\":\"3039\",\"type\":\"GlyphRenderer\"}],\"title\":{\"id\":\"2944\",\"type\":\"Title\"},\"toolbar\":{\"id\":\"2970\",\"type\":\"Toolbar\"},\"x_range\":{\"id\":\"2946\",\"type\":\"DataRange1d\"},\"x_scale\":{\"id\":\"2950\",\"type\":\"LinearScale\"},\"y_range\":{\"id\":\"2948\",\"type\":\"DataRange1d\"},\"y_scale\":{\"id\":\"2952\",\"type\":\"LinearScale\"}},\"id\":\"2943\",\"subtype\":\"Figure\",\"type\":\"Plot\"},{\"attributes\":{},\"id\":\"2950\",\"type\":\"LinearScale\"},{\"attributes\":{},\"id\":\"3005\",\"type\":\"UnionRenderers\"},{\"attributes\":{\"data_source\":{\"id\":\"2977\",\"type\":\"ColumnDataSource\"},\"glyph\":{\"id\":\"2978\",\"type\":\"Line\"},\"hover_glyph\":null,\"muted_glyph\":null,\"nonselection_glyph\":{\"id\":\"2979\",\"type\":\"Line\"},\"selection_glyph\":null,\"view\":{\"id\":\"2981\",\"type\":\"CDSView\"}},\"id\":\"2980\",\"type\":\"GlyphRenderer\"},{\"attributes\":{},\"id\":\"2952\",\"type\":\"LinearScale\"},{\"attributes\":{},\"id\":\"3033\",\"type\":\"Selection\"},{\"attributes\":{},\"id\":\"3006\",\"type\":\"Selection\"},{\"attributes\":{\"label\":{\"value\":\"OECD\"},\"renderers\":[{\"id\":\"3019\",\"type\":\"GlyphRenderer\"}]},\"id\":\"3035\",\"type\":\"LegendItem\"},{\"attributes\":{\"axis_label\":\"Years\",\"formatter\":{\"id\":\"2985\",\"type\":\"BasicTickFormatter\"},\"ticker\":{\"id\":\"2955\",\"type\":\"BasicTicker\"}},\"id\":\"2954\",\"type\":\"LinearAxis\"},{\"attributes\":{\"source\":{\"id\":\"2977\",\"type\":\"ColumnDataSource\"}},\"id\":\"2981\",\"type\":\"CDSView\"},{\"attributes\":{},\"id\":\"3007\",\"type\":\"UnionRenderers\"},{\"attributes\":{},\"id\":\"2955\",\"type\":\"BasicTicker\"},{\"attributes\":{\"callback\":null,\"data\":{\"x\":[\"2000\",\"2001\",\"2002\",\"2003\",\"2004\",\"2005\",\"2006\",\"2007\",\"2008\",\"2009\",\"2010\",\"2011\",\"2012\",\"2013\",\"2014\",\"2015\",\"2016\",\"2017\"],\"y\":[2.717504233905171,2.7154866043270727,2.7462604986550527,2.806001725421847,2.83058646052991,2.80349980744469,2.7583374960640157,2.7328716945985123,2.734358102618147,2.734445239277997,2.724690515681557,2.7229922593698563,2.711802941232593,2.6925433317980856,2.671440686153528,2.648991920011479,2.6258157949200918,2.613168165844644]},\"selected\":{\"id\":\"3184\",\"type\":\"Selection\"},\"selection_policy\":{\"id\":\"3183\",\"type\":\"UnionRenderers\"}},\"id\":\"3036\",\"type\":\"ColumnDataSource\"},{\"attributes\":{},\"id\":\"3008\",\"type\":\"Selection\"},{\"attributes\":{},\"id\":\"2983\",\"type\":\"BasicTickFormatter\"},{\"attributes\":{\"grid_line_color\":null,\"ticker\":{\"id\":\"2955\",\"type\":\"BasicTicker\"}},\"id\":\"2958\",\"type\":\"Grid\"},{\"attributes\":{\"fill_color\":{\"value\":\"#2CC775\"},\"line_color\":{\"value\":\"#2CC775\"},\"line_width\":{\"value\":3},\"x\":{\"field\":\"x\"},\"y\":{\"field\":\"y\"}},\"id\":\"3037\",\"type\":\"Circle\"},{\"attributes\":{\"label\":{\"value\":\"Developing excluding LDCs\"},\"renderers\":[{\"id\":\"2998\",\"type\":\"GlyphRenderer\"}]},\"id\":\"3010\",\"type\":\"LegendItem\"},{\"attributes\":{\"fill_alpha\":{\"value\":0.1},\"fill_color\":{\"value\":\"#1f77b4\"},\"line_alpha\":{\"value\":0.1},\"line_color\":{\"value\":\"#1f77b4\"},\"line_width\":{\"value\":3},\"x\":{\"field\":\"x\"},\"y\":{\"field\":\"y\"}},\"id\":\"3038\",\"type\":\"Circle\"},{\"attributes\":{},\"id\":\"2985\",\"type\":\"BasicTickFormatter\"},{\"attributes\":{\"axis_label\":\"SN.ITK.DEFC.ZS\",\"formatter\":{\"id\":\"2983\",\"type\":\"BasicTickFormatter\"},\"ticker\":{\"id\":\"2960\",\"type\":\"BasicTicker\"}},\"id\":\"2959\",\"type\":\"LinearAxis\"},{\"attributes\":{\"callback\":null,\"data\":{\"x\":[\"2000\",\"2001\",\"2002\",\"2003\",\"2004\",\"2005\",\"2006\",\"2007\",\"2008\",\"2009\",\"2010\",\"2011\",\"2012\",\"2013\",\"2014\",\"2015\",\"2016\",\"2017\"],\"y\":[16.02606192520864,16.270773333279084,16.606876788025307,16.74535026220969,16.656448375078725,16.13405944602225,15.331780508336847,14.527816819573228,13.806451647166279,13.227587976590945,12.752576312725115,12.323216723695218,11.983420331424563,11.624874868210318,11.27625760481156,10.9695925016704,10.831636605682938,10.76640933924249]},\"selected\":{\"id\":\"3033\",\"type\":\"Selection\"},\"selection_policy\":{\"id\":\"3032\",\"type\":\"UnionRenderers\"}},\"id\":\"3011\",\"type\":\"ColumnDataSource\"},{\"attributes\":{\"data_source\":{\"id\":\"3036\",\"type\":\"ColumnDataSource\"},\"glyph\":{\"id\":\"3037\",\"type\":\"Circle\"},\"hover_glyph\":null,\"muted_glyph\":null,\"nonselection_glyph\":{\"id\":\"3038\",\"type\":\"Circle\"},\"selection_glyph\":null,\"view\":{\"id\":\"3040\",\"type\":\"CDSView\"}},\"id\":\"3039\",\"type\":\"GlyphRenderer\"},{\"attributes\":{\"bottom_units\":\"screen\",\"fill_alpha\":{\"value\":0.5},\"fill_color\":{\"value\":\"lightgrey\"},\"left_units\":\"screen\",\"level\":\"overlay\",\"line_alpha\":{\"value\":1.0},\"line_color\":{\"value\":\"black\"},\"line_dash\":[4,4],\"line_width\":{\"value\":2},\"render_mode\":\"css\",\"right_units\":\"screen\",\"top_units\":\"screen\"},\"id\":\"2987\",\"type\":\"BoxAnnotation\"},{\"attributes\":{},\"id\":\"2960\",\"type\":\"BasicTicker\"},{\"attributes\":{\"fill_color\":{\"value\":\"#5430F1\"},\"line_color\":{\"value\":\"#5430F1\"},\"line_width\":{\"value\":3},\"x\":{\"field\":\"x\"},\"y\":{\"field\":\"y\"}},\"id\":\"3012\",\"type\":\"Circle\"},{\"attributes\":{\"items\":[{\"id\":\"2989\",\"type\":\"LegendItem\"},{\"id\":\"3010\",\"type\":\"LegendItem\"},{\"id\":\"3035\",\"type\":\"LegendItem\"}],\"location\":\"bottom_left\"},\"id\":\"2988\",\"type\":\"Legend\"},{\"attributes\":{\"source\":{\"id\":\"3036\",\"type\":\"ColumnDataSource\"}},\"id\":\"3040\",\"type\":\"CDSView\"},{\"attributes\":{\"dimension\":1,\"grid_line_alpha\":0.5,\"ticker\":{\"id\":\"2960\",\"type\":\"BasicTicker\"}},\"id\":\"2963\",\"type\":\"Grid\"},{\"attributes\":{\"fill_alpha\":{\"value\":0.1},\"fill_color\":{\"value\":\"#1f77b4\"},\"line_alpha\":{\"value\":0.1},\"line_color\":{\"value\":\"#1f77b4\"},\"line_width\":{\"value\":3},\"x\":{\"field\":\"x\"},\"y\":{\"field\":\"y\"}},\"id\":\"3013\",\"type\":\"Circle\"},{\"attributes\":{\"label\":{\"value\":\"LDCs\"},\"renderers\":[{\"id\":\"2980\",\"type\":\"GlyphRenderer\"}]},\"id\":\"2989\",\"type\":\"LegendItem\"},{\"attributes\":{\"data_source\":{\"id\":\"3011\",\"type\":\"ColumnDataSource\"},\"glyph\":{\"id\":\"3012\",\"type\":\"Circle\"},\"hover_glyph\":null,\"muted_glyph\":null,\"nonselection_glyph\":{\"id\":\"3013\",\"type\":\"Circle\"},\"selection_glyph\":null,\"view\":{\"id\":\"3015\",\"type\":\"CDSView\"}},\"id\":\"3014\",\"type\":\"GlyphRenderer\"},{\"attributes\":{\"line_color\":\"#FA1857\",\"x\":{\"field\":\"x\"},\"y\":{\"field\":\"y\"}},\"id\":\"2978\",\"type\":\"Line\"},{\"attributes\":{\"callback\":null,\"data\":{\"x\":[\"2000\",\"2001\",\"2002\",\"2003\",\"2004\",\"2005\",\"2006\",\"2007\",\"2008\",\"2009\",\"2010\",\"2011\",\"2012\",\"2013\",\"2014\",\"2015\",\"2016\",\"2017\"],\"y\":[34.296690006630136,32.8968410303035,31.79773886292999,30.5686122583698,29.40060625275987,28.197830907824812,27.181161548902693,26.25402759144791,25.398866265707913,24.5963903225063,23.970161747111305,23.43052018307879,23.050821983980665,22.705763685275056,22.47210274575761,22.469255784991716,22.563852846171923,22.65045794352939]},\"selected\":{\"id\":\"3008\",\"type\":\"Selection\"},\"selection_policy\":{\"id\":\"3007\",\"type\":\"UnionRenderers\"}},\"id\":\"2990\",\"type\":\"ColumnDataSource\"},{\"attributes\":{},\"id\":\"3181\",\"type\":\"UnionRenderers\"},{\"attributes\":{\"callback\":null,\"data\":{\"x\":[\"2000\",\"2001\",\"2002\",\"2003\",\"2004\",\"2005\",\"2006\",\"2007\",\"2008\",\"2009\",\"2010\",\"2011\",\"2012\",\"2013\",\"2014\",\"2015\",\"2016\",\"2017\"],\"y\":[34.296690006630136,32.8968410303035,31.79773886292999,30.5686122583698,29.40060625275987,28.197830907824812,27.181161548902693,26.25402759144791,25.398866265707913,24.5963903225063,23.970161747111305,23.43052018307879,23.050821983980665,22.705763685275056,22.47210274575761,22.469255784991716,22.563852846171923,22.65045794352939]},\"selected\":{\"id\":\"3006\",\"type\":\"Selection\"},\"selection_policy\":{\"id\":\"3005\",\"type\":\"UnionRenderers\"}},\"id\":\"2977\",\"type\":\"ColumnDataSource\"},{\"attributes\":{\"source\":{\"id\":\"3011\",\"type\":\"ColumnDataSource\"}},\"id\":\"3015\",\"type\":\"CDSView\"},{\"attributes\":{\"fill_color\":{\"value\":\"#FA1857\"},\"line_color\":{\"value\":\"#FA1857\"},\"line_width\":{\"value\":3},\"x\":{\"field\":\"x\"},\"y\":{\"field\":\"y\"}},\"id\":\"2991\",\"type\":\"Circle\"},{\"attributes\":{\"callback\":null,\"tooltips\":\"                \\n        <div style=padding=5px>Year:@x</div>\\n        <div style=padding=5px>Value:@y</div>        \\n        \"},\"id\":\"3041\",\"type\":\"HoverTool\"},{\"attributes\":{},\"id\":\"3182\",\"type\":\"Selection\"},{\"attributes\":{\"line_alpha\":0.1,\"line_color\":\"#1f77b4\",\"x\":{\"field\":\"x\"},\"y\":{\"field\":\"y\"}},\"id\":\"2979\",\"type\":\"Line\"},{\"attributes\":{\"callback\":null,\"data\":{\"x\":[\"2000\",\"2001\",\"2002\",\"2003\",\"2004\",\"2005\",\"2006\",\"2007\",\"2008\",\"2009\",\"2010\",\"2011\",\"2012\",\"2013\",\"2014\",\"2015\",\"2016\",\"2017\"],\"y\":[2.717504233905171,2.7154866043270727,2.7462604986550527,2.806001725421847,2.83058646052991,2.80349980744469,2.7583374960640157,2.7328716945985123,2.734358102618147,2.734445239277997,2.724690515681557,2.7229922593698563,2.711802941232593,2.6925433317980856,2.671440686153528,2.648991920011479,2.6258157949200918,2.613168165844644]},\"selected\":{\"id\":\"3182\",\"type\":\"Selection\"},\"selection_policy\":{\"id\":\"3181\",\"type\":\"UnionRenderers\"}},\"id\":\"3016\",\"type\":\"ColumnDataSource\"},{\"attributes\":{\"fill_alpha\":{\"value\":0.1},\"fill_color\":{\"value\":\"#1f77b4\"},\"line_alpha\":{\"value\":0.1},\"line_color\":{\"value\":\"#1f77b4\"},\"line_width\":{\"value\":3},\"x\":{\"field\":\"x\"},\"y\":{\"field\":\"y\"}},\"id\":\"2992\",\"type\":\"Circle\"},{\"attributes\":{},\"id\":\"2964\",\"type\":\"PanTool\"},{\"attributes\":{},\"id\":\"3183\",\"type\":\"UnionRenderers\"},{\"attributes\":{\"line_color\":\"#2CC775\",\"x\":{\"field\":\"x\"},\"y\":{\"field\":\"y\"}},\"id\":\"3017\",\"type\":\"Line\"},{\"attributes\":{\"data_source\":{\"id\":\"2990\",\"type\":\"ColumnDataSource\"},\"glyph\":{\"id\":\"2991\",\"type\":\"Circle\"},\"hover_glyph\":null,\"muted_glyph\":null,\"nonselection_glyph\":{\"id\":\"2992\",\"type\":\"Circle\"},\"selection_glyph\":null,\"view\":{\"id\":\"2994\",\"type\":\"CDSView\"}},\"id\":\"2993\",\"type\":\"GlyphRenderer\"},{\"attributes\":{},\"id\":\"2965\",\"type\":\"WheelZoomTool\"},{\"attributes\":{},\"id\":\"3184\",\"type\":\"Selection\"},{\"attributes\":{\"line_alpha\":0.1,\"line_color\":\"#1f77b4\",\"x\":{\"field\":\"x\"},\"y\":{\"field\":\"y\"}},\"id\":\"3018\",\"type\":\"Line\"},{\"attributes\":{\"source\":{\"id\":\"2990\",\"type\":\"ColumnDataSource\"}},\"id\":\"2994\",\"type\":\"CDSView\"},{\"attributes\":{\"overlay\":{\"id\":\"2987\",\"type\":\"BoxAnnotation\"}},\"id\":\"2966\",\"type\":\"BoxZoomTool\"},{\"attributes\":{\"data_source\":{\"id\":\"3016\",\"type\":\"ColumnDataSource\"},\"glyph\":{\"id\":\"3017\",\"type\":\"Line\"},\"hover_glyph\":null,\"muted_glyph\":null,\"nonselection_glyph\":{\"id\":\"3018\",\"type\":\"Line\"},\"selection_glyph\":null,\"view\":{\"id\":\"3020\",\"type\":\"CDSView\"}},\"id\":\"3019\",\"type\":\"GlyphRenderer\"},{\"attributes\":{\"callback\":null,\"data\":{\"x\":[\"2000\",\"2001\",\"2002\",\"2003\",\"2004\",\"2005\",\"2006\",\"2007\",\"2008\",\"2009\",\"2010\",\"2011\",\"2012\",\"2013\",\"2014\",\"2015\",\"2016\",\"2017\"],\"y\":[16.02606192520864,16.270773333279084,16.606876788025307,16.74535026220969,16.656448375078725,16.13405944602225,15.331780508336847,14.527816819573228,13.806451647166279,13.227587976590945,12.752576312725115,12.323216723695218,11.983420331424563,11.624874868210318,11.27625760481156,10.9695925016704,10.831636605682938,10.76640933924249]},\"selected\":{\"id\":\"3031\",\"type\":\"Selection\"},\"selection_policy\":{\"id\":\"3030\",\"type\":\"UnionRenderers\"}},\"id\":\"2995\",\"type\":\"ColumnDataSource\"},{\"attributes\":{},\"id\":\"2967\",\"type\":\"SaveTool\"},{\"attributes\":{\"source\":{\"id\":\"3016\",\"type\":\"ColumnDataSource\"}},\"id\":\"3020\",\"type\":\"CDSView\"},{\"attributes\":{\"line_color\":\"#5430F1\",\"x\":{\"field\":\"x\"},\"y\":{\"field\":\"y\"}},\"id\":\"2996\",\"type\":\"Line\"},{\"attributes\":{},\"id\":\"2968\",\"type\":\"ResetTool\"},{\"attributes\":{\"text\":\"Prevalence of undernourishment (% of population) weighted against Population, total\"},\"id\":\"2944\",\"type\":\"Title\"},{\"attributes\":{},\"id\":\"3030\",\"type\":\"UnionRenderers\"},{\"attributes\":{\"line_alpha\":0.1,\"line_color\":\"#1f77b4\",\"x\":{\"field\":\"x\"},\"y\":{\"field\":\"y\"}},\"id\":\"2997\",\"type\":\"Line\"},{\"attributes\":{},\"id\":\"2969\",\"type\":\"HelpTool\"},{\"attributes\":{\"callback\":null},\"id\":\"2946\",\"type\":\"DataRange1d\"},{\"attributes\":{},\"id\":\"3031\",\"type\":\"Selection\"},{\"attributes\":{\"data_source\":{\"id\":\"2995\",\"type\":\"ColumnDataSource\"},\"glyph\":{\"id\":\"2996\",\"type\":\"Line\"},\"hover_glyph\":null,\"muted_glyph\":null,\"nonselection_glyph\":{\"id\":\"2997\",\"type\":\"Line\"},\"selection_glyph\":null,\"view\":{\"id\":\"2999\",\"type\":\"CDSView\"}},\"id\":\"2998\",\"type\":\"GlyphRenderer\"},{\"attributes\":{\"active_drag\":\"auto\",\"active_inspect\":\"auto\",\"active_multi\":null,\"active_scroll\":\"auto\",\"active_tap\":\"auto\",\"tools\":[{\"id\":\"2964\",\"type\":\"PanTool\"},{\"id\":\"2965\",\"type\":\"WheelZoomTool\"},{\"id\":\"2966\",\"type\":\"BoxZoomTool\"},{\"id\":\"2967\",\"type\":\"SaveTool\"},{\"id\":\"2968\",\"type\":\"ResetTool\"},{\"id\":\"2969\",\"type\":\"HelpTool\"},{\"id\":\"3041\",\"type\":\"HoverTool\"}]},\"id\":\"2970\",\"type\":\"Toolbar\"},{\"attributes\":{\"callback\":null},\"id\":\"2948\",\"type\":\"DataRange1d\"},{\"attributes\":{},\"id\":\"3032\",\"type\":\"UnionRenderers\"},{\"attributes\":{\"source\":{\"id\":\"2995\",\"type\":\"ColumnDataSource\"}},\"id\":\"2999\",\"type\":\"CDSView\"}],\"root_ids\":[\"2943\"]},\"title\":\"Bokeh Application\",\"version\":\"1.3.4\"}};\n",
       "  var render_items = [{\"docid\":\"a7f96499-7933-4426-a257-68f7c39cd0fc\",\"roots\":{\"2943\":\"6e046374-a9ef-4e81-850d-ca45eb884064\"}}];\n",
       "  root.Bokeh.embed.embed_items_notebook(docs_json, render_items);\n",
       "\n",
       "  }\n",
       "  if (root.Bokeh !== undefined) {\n",
       "    embed_document(root);\n",
       "  } else {\n",
       "    var attempts = 0;\n",
       "    var timer = setInterval(function(root) {\n",
       "      if (root.Bokeh !== undefined) {\n",
       "        embed_document(root);\n",
       "        clearInterval(timer);\n",
       "      }\n",
       "      attempts++;\n",
       "      if (attempts > 100) {\n",
       "        console.log(\"Bokeh: ERROR: Unable to run BokehJS code because BokehJS library is missing\");\n",
       "        clearInterval(timer);\n",
       "      }\n",
       "    }, 10, root)\n",
       "  }\n",
       "})(window);"
      ],
      "application/vnd.bokehjs_exec.v0+json": ""
     },
     "metadata": {
      "application/vnd.bokehjs_exec.v0+json": {
       "id": "2943"
      }
     },
     "output_type": "display_data"
    }
   ],
   "source": [
    "# Prevalence of undernourishment (% of population)\n",
    "years = list(map(str, list(range(2000,2018))))\n",
    "result = show_weighted_average(years, 'SN.ITK.DEFC.ZS', 'SP.POP.TOTL', \n",
    "                               ['LDCs', 'Developing excluding LDCs', 'OECD'])"
   ]
  },
  {
   "cell_type": "code",
   "execution_count": 13,
   "metadata": {
    "ExecuteTime": {
     "end_time": "2019-10-25T14:25:03.855925Z",
     "start_time": "2019-10-25T14:24:58.886407Z"
    },
    "slideshow": {
     "slide_type": "slide"
    }
   },
   "outputs": [
    {
     "data": {
      "text/html": [
       "\n",
       "\n",
       "\n",
       "\n",
       "\n",
       "\n",
       "  <div class=\"bk-root\" id=\"f0911c09-36d1-48b8-8446-0c7ee423421c\" data-root-id=\"3294\"></div>\n"
      ]
     },
     "metadata": {},
     "output_type": "display_data"
    },
    {
     "data": {
      "application/javascript": [
       "(function(root) {\n",
       "  function embed_document(root) {\n",
       "    \n",
       "  var docs_json = {\"24624cc0-d332-4abd-8718-176cefac0f1a\":{\"roots\":{\"references\":[{\"attributes\":{\"below\":[{\"id\":\"3305\",\"type\":\"LinearAxis\"}],\"center\":[{\"id\":\"3309\",\"type\":\"Grid\"},{\"id\":\"3314\",\"type\":\"Grid\"},{\"id\":\"3339\",\"type\":\"Legend\"}],\"left\":[{\"id\":\"3310\",\"type\":\"LinearAxis\"}],\"plot_height\":400,\"plot_width\":800,\"renderers\":[{\"id\":\"3331\",\"type\":\"GlyphRenderer\"},{\"id\":\"3344\",\"type\":\"GlyphRenderer\"},{\"id\":\"3349\",\"type\":\"GlyphRenderer\"},{\"id\":\"3365\",\"type\":\"GlyphRenderer\"},{\"id\":\"3370\",\"type\":\"GlyphRenderer\"},{\"id\":\"3390\",\"type\":\"GlyphRenderer\"}],\"title\":{\"id\":\"3295\",\"type\":\"Title\"},\"toolbar\":{\"id\":\"3321\",\"type\":\"Toolbar\"},\"x_range\":{\"id\":\"3297\",\"type\":\"DataRange1d\"},\"x_scale\":{\"id\":\"3301\",\"type\":\"LinearScale\"},\"y_range\":{\"id\":\"3299\",\"type\":\"DataRange1d\"},\"y_scale\":{\"id\":\"3303\",\"type\":\"LinearScale\"}},\"id\":\"3294\",\"subtype\":\"Figure\",\"type\":\"Plot\"},{\"attributes\":{\"line_color\":\"#2CC775\",\"x\":{\"field\":\"x\"},\"y\":{\"field\":\"y\"}},\"id\":\"3368\",\"type\":\"Line\"},{\"attributes\":{\"data_source\":{\"id\":\"3341\",\"type\":\"ColumnDataSource\"},\"glyph\":{\"id\":\"3342\",\"type\":\"Circle\"},\"hover_glyph\":null,\"muted_glyph\":null,\"nonselection_glyph\":{\"id\":\"3343\",\"type\":\"Circle\"},\"selection_glyph\":null,\"view\":{\"id\":\"3345\",\"type\":\"CDSView\"}},\"id\":\"3344\",\"type\":\"GlyphRenderer\"},{\"attributes\":{},\"id\":\"3553\",\"type\":\"Selection\"},{\"attributes\":{},\"id\":\"3316\",\"type\":\"WheelZoomTool\"},{\"attributes\":{\"line_alpha\":0.1,\"line_color\":\"#1f77b4\",\"x\":{\"field\":\"x\"},\"y\":{\"field\":\"y\"}},\"id\":\"3369\",\"type\":\"Line\"},{\"attributes\":{\"source\":{\"id\":\"3341\",\"type\":\"ColumnDataSource\"}},\"id\":\"3345\",\"type\":\"CDSView\"},{\"attributes\":{\"overlay\":{\"id\":\"3338\",\"type\":\"BoxAnnotation\"}},\"id\":\"3317\",\"type\":\"BoxZoomTool\"},{\"attributes\":{\"data_source\":{\"id\":\"3367\",\"type\":\"ColumnDataSource\"},\"glyph\":{\"id\":\"3368\",\"type\":\"Line\"},\"hover_glyph\":null,\"muted_glyph\":null,\"nonselection_glyph\":{\"id\":\"3369\",\"type\":\"Line\"},\"selection_glyph\":null,\"view\":{\"id\":\"3371\",\"type\":\"CDSView\"}},\"id\":\"3370\",\"type\":\"GlyphRenderer\"},{\"attributes\":{\"callback\":null,\"data\":{\"x\":[\"2000\",\"2001\",\"2002\",\"2003\",\"2004\",\"2005\",\"2006\",\"2007\",\"2008\",\"2009\",\"2010\",\"2011\",\"2012\",\"2013\",\"2014\",\"2015\",\"2016\",\"2017\"],\"y\":[6.67838532122474,7.066966145061542,6.889353323332191,6.655588423229744,6.203546783341963,5.6363019320072345,5.349287409558019,5.9381576157577065,6.354971423643562,6.88697962812065,6.44811794037661,6.779580388013174,6.758180775464634,6.834941707698121,7.185358680561078,7.821629436531289,8.043040894368179,8.132975934296237]},\"selected\":{\"id\":\"3382\",\"type\":\"Selection\"},\"selection_policy\":{\"id\":\"3381\",\"type\":\"UnionRenderers\"}},\"id\":\"3346\",\"type\":\"ColumnDataSource\"},{\"attributes\":{},\"id\":\"3318\",\"type\":\"SaveTool\"},{\"attributes\":{},\"id\":\"3552\",\"type\":\"UnionRenderers\"},{\"attributes\":{\"source\":{\"id\":\"3367\",\"type\":\"ColumnDataSource\"}},\"id\":\"3371\",\"type\":\"CDSView\"},{\"attributes\":{\"line_color\":\"#5430F1\",\"x\":{\"field\":\"x\"},\"y\":{\"field\":\"y\"}},\"id\":\"3347\",\"type\":\"Line\"},{\"attributes\":{\"callback\":null,\"data\":{\"x\":[\"2000\",\"2001\",\"2002\",\"2003\",\"2004\",\"2005\",\"2006\",\"2007\",\"2008\",\"2009\",\"2010\",\"2011\",\"2012\",\"2013\",\"2014\",\"2015\",\"2016\",\"2017\"],\"y\":[6.664750789193946,7.14260825773659,7.454785931920459,7.5069480358449825,7.061134298970307,6.798358087904257,6.463499051640063,6.724561457383378,7.076831863705094,8.259612794934673,7.468578257026923,7.615305901349119,7.570593882649795,7.890298170268733,7.995508600894686,8.359319653572543,8.569945562785916,8.425056582808882]},\"selected\":{\"id\":\"3551\",\"type\":\"Selection\"},\"selection_policy\":{\"id\":\"3550\",\"type\":\"UnionRenderers\"}},\"id\":\"3367\",\"type\":\"ColumnDataSource\"},{\"attributes\":{},\"id\":\"3319\",\"type\":\"ResetTool\"},{\"attributes\":{\"text\":\"Food imports (% of merchandise imports) weighted against Merchandise imports (current US$)\"},\"id\":\"3295\",\"type\":\"Title\"},{\"attributes\":{},\"id\":\"3381\",\"type\":\"UnionRenderers\"},{\"attributes\":{\"line_alpha\":0.1,\"line_color\":\"#1f77b4\",\"x\":{\"field\":\"x\"},\"y\":{\"field\":\"y\"}},\"id\":\"3348\",\"type\":\"Line\"},{\"attributes\":{},\"id\":\"3320\",\"type\":\"HelpTool\"},{\"attributes\":{\"callback\":null},\"id\":\"3297\",\"type\":\"DataRange1d\"},{\"attributes\":{},\"id\":\"3382\",\"type\":\"Selection\"},{\"attributes\":{\"data_source\":{\"id\":\"3346\",\"type\":\"ColumnDataSource\"},\"glyph\":{\"id\":\"3347\",\"type\":\"Line\"},\"hover_glyph\":null,\"muted_glyph\":null,\"nonselection_glyph\":{\"id\":\"3348\",\"type\":\"Line\"},\"selection_glyph\":null,\"view\":{\"id\":\"3350\",\"type\":\"CDSView\"}},\"id\":\"3349\",\"type\":\"GlyphRenderer\"},{\"attributes\":{\"active_drag\":\"auto\",\"active_inspect\":\"auto\",\"active_multi\":null,\"active_scroll\":\"auto\",\"active_tap\":\"auto\",\"tools\":[{\"id\":\"3315\",\"type\":\"PanTool\"},{\"id\":\"3316\",\"type\":\"WheelZoomTool\"},{\"id\":\"3317\",\"type\":\"BoxZoomTool\"},{\"id\":\"3318\",\"type\":\"SaveTool\"},{\"id\":\"3319\",\"type\":\"ResetTool\"},{\"id\":\"3320\",\"type\":\"HelpTool\"},{\"id\":\"3392\",\"type\":\"HoverTool\"}]},\"id\":\"3321\",\"type\":\"Toolbar\"},{\"attributes\":{\"callback\":null},\"id\":\"3299\",\"type\":\"DataRange1d\"},{\"attributes\":{},\"id\":\"3383\",\"type\":\"UnionRenderers\"},{\"attributes\":{\"source\":{\"id\":\"3346\",\"type\":\"ColumnDataSource\"}},\"id\":\"3350\",\"type\":\"CDSView\"},{\"attributes\":{},\"id\":\"3301\",\"type\":\"LinearScale\"},{\"attributes\":{\"data_source\":{\"id\":\"3328\",\"type\":\"ColumnDataSource\"},\"glyph\":{\"id\":\"3329\",\"type\":\"Line\"},\"hover_glyph\":null,\"muted_glyph\":null,\"nonselection_glyph\":{\"id\":\"3330\",\"type\":\"Line\"},\"selection_glyph\":null,\"view\":{\"id\":\"3332\",\"type\":\"CDSView\"}},\"id\":\"3331\",\"type\":\"GlyphRenderer\"},{\"attributes\":{},\"id\":\"3384\",\"type\":\"Selection\"},{\"attributes\":{},\"id\":\"3356\",\"type\":\"UnionRenderers\"},{\"attributes\":{},\"id\":\"3303\",\"type\":\"LinearScale\"},{\"attributes\":{\"label\":{\"value\":\"OECD\"},\"renderers\":[{\"id\":\"3370\",\"type\":\"GlyphRenderer\"}]},\"id\":\"3386\",\"type\":\"LegendItem\"},{\"attributes\":{},\"id\":\"3357\",\"type\":\"Selection\"},{\"attributes\":{\"source\":{\"id\":\"3328\",\"type\":\"ColumnDataSource\"}},\"id\":\"3332\",\"type\":\"CDSView\"},{\"attributes\":{\"axis_label\":\"Years\",\"formatter\":{\"id\":\"3336\",\"type\":\"BasicTickFormatter\"},\"ticker\":{\"id\":\"3306\",\"type\":\"BasicTicker\"}},\"id\":\"3305\",\"type\":\"LinearAxis\"},{\"attributes\":{},\"id\":\"3358\",\"type\":\"UnionRenderers\"},{\"attributes\":{\"callback\":null,\"data\":{\"x\":[\"2000\",\"2001\",\"2002\",\"2003\",\"2004\",\"2005\",\"2006\",\"2007\",\"2008\",\"2009\",\"2010\",\"2011\",\"2012\",\"2013\",\"2014\",\"2015\",\"2016\",\"2017\"],\"y\":[6.664750789193946,7.14260825773659,7.454785931920459,7.5069480358449825,7.061134298970307,6.798358087904257,6.463499051640063,6.724561457383378,7.076831863705094,8.259612794934673,7.468578257026923,7.615305901349119,7.570593882649795,7.890298170268733,7.995508600894686,8.359319653572543,8.569945562785916,8.425056582808882]},\"selected\":{\"id\":\"3553\",\"type\":\"Selection\"},\"selection_policy\":{\"id\":\"3552\",\"type\":\"UnionRenderers\"}},\"id\":\"3387\",\"type\":\"ColumnDataSource\"},{\"attributes\":{},\"id\":\"3306\",\"type\":\"BasicTicker\"},{\"attributes\":{},\"id\":\"3334\",\"type\":\"BasicTickFormatter\"},{\"attributes\":{\"fill_color\":{\"value\":\"#2CC775\"},\"line_color\":{\"value\":\"#2CC775\"},\"line_width\":{\"value\":3},\"x\":{\"field\":\"x\"},\"y\":{\"field\":\"y\"}},\"id\":\"3388\",\"type\":\"Circle\"},{\"attributes\":{},\"id\":\"3359\",\"type\":\"Selection\"},{\"attributes\":{\"grid_line_color\":null,\"ticker\":{\"id\":\"3306\",\"type\":\"BasicTicker\"}},\"id\":\"3309\",\"type\":\"Grid\"},{\"attributes\":{\"fill_alpha\":{\"value\":0.1},\"fill_color\":{\"value\":\"#1f77b4\"},\"line_alpha\":{\"value\":0.1},\"line_color\":{\"value\":\"#1f77b4\"},\"line_width\":{\"value\":3},\"x\":{\"field\":\"x\"},\"y\":{\"field\":\"y\"}},\"id\":\"3389\",\"type\":\"Circle\"},{\"attributes\":{},\"id\":\"3336\",\"type\":\"BasicTickFormatter\"},{\"attributes\":{\"label\":{\"value\":\"Developing excluding LDCs\"},\"renderers\":[{\"id\":\"3349\",\"type\":\"GlyphRenderer\"}]},\"id\":\"3361\",\"type\":\"LegendItem\"},{\"attributes\":{\"data_source\":{\"id\":\"3387\",\"type\":\"ColumnDataSource\"},\"glyph\":{\"id\":\"3388\",\"type\":\"Circle\"},\"hover_glyph\":null,\"muted_glyph\":null,\"nonselection_glyph\":{\"id\":\"3389\",\"type\":\"Circle\"},\"selection_glyph\":null,\"view\":{\"id\":\"3391\",\"type\":\"CDSView\"}},\"id\":\"3390\",\"type\":\"GlyphRenderer\"},{\"attributes\":{\"bottom_units\":\"screen\",\"fill_alpha\":{\"value\":0.5},\"fill_color\":{\"value\":\"lightgrey\"},\"left_units\":\"screen\",\"level\":\"overlay\",\"line_alpha\":{\"value\":1.0},\"line_color\":{\"value\":\"black\"},\"line_dash\":[4,4],\"line_width\":{\"value\":2},\"render_mode\":\"css\",\"right_units\":\"screen\",\"top_units\":\"screen\"},\"id\":\"3338\",\"type\":\"BoxAnnotation\"},{\"attributes\":{\"axis_label\":\"TM.VAL.FOOD.ZS.UN\",\"formatter\":{\"id\":\"3334\",\"type\":\"BasicTickFormatter\"},\"ticker\":{\"id\":\"3311\",\"type\":\"BasicTicker\"}},\"id\":\"3310\",\"type\":\"LinearAxis\"},{\"attributes\":{\"callback\":null,\"data\":{\"x\":[\"2000\",\"2001\",\"2002\",\"2003\",\"2004\",\"2005\",\"2006\",\"2007\",\"2008\",\"2009\",\"2010\",\"2011\",\"2012\",\"2013\",\"2014\",\"2015\",\"2016\",\"2017\"],\"y\":[6.67838532122474,7.066966145061542,6.889353323332191,6.655588423229744,6.203546783341963,5.6363019320072345,5.349287409558019,5.9381576157577065,6.354971423643562,6.88697962812065,6.44811794037661,6.779580388013174,6.758180775464634,6.834941707698121,7.185358680561078,7.821629436531289,8.043040894368179,8.132975934296237]},\"selected\":{\"id\":\"3384\",\"type\":\"Selection\"},\"selection_policy\":{\"id\":\"3383\",\"type\":\"UnionRenderers\"}},\"id\":\"3362\",\"type\":\"ColumnDataSource\"},{\"attributes\":{\"items\":[{\"id\":\"3340\",\"type\":\"LegendItem\"},{\"id\":\"3361\",\"type\":\"LegendItem\"},{\"id\":\"3386\",\"type\":\"LegendItem\"}],\"location\":\"bottom_left\"},\"id\":\"3339\",\"type\":\"Legend\"},{\"attributes\":{\"source\":{\"id\":\"3387\",\"type\":\"ColumnDataSource\"}},\"id\":\"3391\",\"type\":\"CDSView\"},{\"attributes\":{},\"id\":\"3311\",\"type\":\"BasicTicker\"},{\"attributes\":{\"fill_color\":{\"value\":\"#5430F1\"},\"line_color\":{\"value\":\"#5430F1\"},\"line_width\":{\"value\":3},\"x\":{\"field\":\"x\"},\"y\":{\"field\":\"y\"}},\"id\":\"3363\",\"type\":\"Circle\"},{\"attributes\":{\"label\":{\"value\":\"LDCs\"},\"renderers\":[{\"id\":\"3331\",\"type\":\"GlyphRenderer\"}]},\"id\":\"3340\",\"type\":\"LegendItem\"},{\"attributes\":{\"dimension\":1,\"grid_line_alpha\":0.5,\"ticker\":{\"id\":\"3311\",\"type\":\"BasicTicker\"}},\"id\":\"3314\",\"type\":\"Grid\"},{\"attributes\":{\"fill_alpha\":{\"value\":0.1},\"fill_color\":{\"value\":\"#1f77b4\"},\"line_alpha\":{\"value\":0.1},\"line_color\":{\"value\":\"#1f77b4\"},\"line_width\":{\"value\":3},\"x\":{\"field\":\"x\"},\"y\":{\"field\":\"y\"}},\"id\":\"3364\",\"type\":\"Circle\"},{\"attributes\":{\"callback\":null,\"data\":{\"x\":[\"2000\",\"2001\",\"2002\",\"2003\",\"2004\",\"2005\",\"2006\",\"2007\",\"2008\",\"2009\",\"2010\",\"2011\",\"2012\",\"2013\",\"2014\",\"2015\",\"2016\",\"2017\"],\"y\":[17.473674203541137,16.380118773051816,16.47513346649186,18.08613953149967,16.78490129479693,16.007482051291397,15.313322308226102,15.983622760588208,15.681066764755263,16.22610041134688,16.154563828357762,16.562353136179336,15.178298854466885,14.75804992134933,14.9560562510018,14.784916706699187,15.752772028130035,16.792717806787888]},\"selected\":{\"id\":\"3359\",\"type\":\"Selection\"},\"selection_policy\":{\"id\":\"3358\",\"type\":\"UnionRenderers\"}},\"id\":\"3341\",\"type\":\"ColumnDataSource\"},{\"attributes\":{},\"id\":\"3550\",\"type\":\"UnionRenderers\"},{\"attributes\":{\"data_source\":{\"id\":\"3362\",\"type\":\"ColumnDataSource\"},\"glyph\":{\"id\":\"3363\",\"type\":\"Circle\"},\"hover_glyph\":null,\"muted_glyph\":null,\"nonselection_glyph\":{\"id\":\"3364\",\"type\":\"Circle\"},\"selection_glyph\":null,\"view\":{\"id\":\"3366\",\"type\":\"CDSView\"}},\"id\":\"3365\",\"type\":\"GlyphRenderer\"},{\"attributes\":{\"line_color\":\"#FA1857\",\"x\":{\"field\":\"x\"},\"y\":{\"field\":\"y\"}},\"id\":\"3329\",\"type\":\"Line\"},{\"attributes\":{\"fill_color\":{\"value\":\"#FA1857\"},\"line_color\":{\"value\":\"#FA1857\"},\"line_width\":{\"value\":3},\"x\":{\"field\":\"x\"},\"y\":{\"field\":\"y\"}},\"id\":\"3342\",\"type\":\"Circle\"},{\"attributes\":{},\"id\":\"3551\",\"type\":\"Selection\"},{\"attributes\":{\"callback\":null,\"data\":{\"x\":[\"2000\",\"2001\",\"2002\",\"2003\",\"2004\",\"2005\",\"2006\",\"2007\",\"2008\",\"2009\",\"2010\",\"2011\",\"2012\",\"2013\",\"2014\",\"2015\",\"2016\",\"2017\"],\"y\":[17.473674203541137,16.380118773051816,16.47513346649186,18.08613953149967,16.78490129479693,16.007482051291397,15.313322308226102,15.983622760588208,15.681066764755263,16.22610041134688,16.154563828357762,16.562353136179336,15.178298854466885,14.75804992134933,14.9560562510018,14.784916706699187,15.752772028130035,16.792717806787888]},\"selected\":{\"id\":\"3357\",\"type\":\"Selection\"},\"selection_policy\":{\"id\":\"3356\",\"type\":\"UnionRenderers\"}},\"id\":\"3328\",\"type\":\"ColumnDataSource\"},{\"attributes\":{\"source\":{\"id\":\"3362\",\"type\":\"ColumnDataSource\"}},\"id\":\"3366\",\"type\":\"CDSView\"},{\"attributes\":{\"callback\":null,\"tooltips\":\"                \\n        <div style=padding=5px>Year:@x</div>\\n        <div style=padding=5px>Value:@y</div>        \\n        \"},\"id\":\"3392\",\"type\":\"HoverTool\"},{\"attributes\":{\"fill_alpha\":{\"value\":0.1},\"fill_color\":{\"value\":\"#1f77b4\"},\"line_alpha\":{\"value\":0.1},\"line_color\":{\"value\":\"#1f77b4\"},\"line_width\":{\"value\":3},\"x\":{\"field\":\"x\"},\"y\":{\"field\":\"y\"}},\"id\":\"3343\",\"type\":\"Circle\"},{\"attributes\":{\"line_alpha\":0.1,\"line_color\":\"#1f77b4\",\"x\":{\"field\":\"x\"},\"y\":{\"field\":\"y\"}},\"id\":\"3330\",\"type\":\"Line\"},{\"attributes\":{},\"id\":\"3315\",\"type\":\"PanTool\"}],\"root_ids\":[\"3294\"]},\"title\":\"Bokeh Application\",\"version\":\"1.3.4\"}};\n",
       "  var render_items = [{\"docid\":\"24624cc0-d332-4abd-8718-176cefac0f1a\",\"roots\":{\"3294\":\"f0911c09-36d1-48b8-8446-0c7ee423421c\"}}];\n",
       "  root.Bokeh.embed.embed_items_notebook(docs_json, render_items);\n",
       "\n",
       "  }\n",
       "  if (root.Bokeh !== undefined) {\n",
       "    embed_document(root);\n",
       "  } else {\n",
       "    var attempts = 0;\n",
       "    var timer = setInterval(function(root) {\n",
       "      if (root.Bokeh !== undefined) {\n",
       "        embed_document(root);\n",
       "        clearInterval(timer);\n",
       "      }\n",
       "      attempts++;\n",
       "      if (attempts > 100) {\n",
       "        console.log(\"Bokeh: ERROR: Unable to run BokehJS code because BokehJS library is missing\");\n",
       "        clearInterval(timer);\n",
       "      }\n",
       "    }, 10, root)\n",
       "  }\n",
       "})(window);"
      ],
      "application/vnd.bokehjs_exec.v0+json": ""
     },
     "metadata": {
      "application/vnd.bokehjs_exec.v0+json": {
       "id": "3294"
      }
     },
     "output_type": "display_data"
    }
   ],
   "source": [
    "# Food imports as a percentage of merchandise imports\n",
    "years = list(map(str, list(range(2000,2018))))\n",
    "result = show_weighted_average(years, 'TM.VAL.FOOD.ZS.UN', 'TM.VAL.MRCH.CD.WT', \n",
    "                               ['LDCs', 'Developing excluding LDCs', 'OECD'])"
   ]
  },
  {
   "cell_type": "code",
   "execution_count": 14,
   "metadata": {
    "ExecuteTime": {
     "end_time": "2019-10-25T14:25:08.896422Z",
     "start_time": "2019-10-25T14:25:03.862619Z"
    },
    "slideshow": {
     "slide_type": "slide"
    }
   },
   "outputs": [
    {
     "data": {
      "text/html": [
       "\n",
       "\n",
       "\n",
       "\n",
       "\n",
       "\n",
       "  <div class=\"bk-root\" id=\"e78ef0ca-2be8-4606-863d-55a9ba320f05\" data-root-id=\"3663\"></div>\n"
      ]
     },
     "metadata": {},
     "output_type": "display_data"
    },
    {
     "data": {
      "application/javascript": [
       "(function(root) {\n",
       "  function embed_document(root) {\n",
       "    \n",
       "  var docs_json = {\"f10d01da-f7be-426e-a7de-9d97444d7f7c\":{\"roots\":{\"references\":[{\"attributes\":{\"below\":[{\"id\":\"3674\",\"type\":\"LinearAxis\"}],\"center\":[{\"id\":\"3678\",\"type\":\"Grid\"},{\"id\":\"3683\",\"type\":\"Grid\"},{\"id\":\"3708\",\"type\":\"Legend\"}],\"left\":[{\"id\":\"3679\",\"type\":\"LinearAxis\"}],\"plot_height\":400,\"plot_width\":800,\"renderers\":[{\"id\":\"3700\",\"type\":\"GlyphRenderer\"},{\"id\":\"3713\",\"type\":\"GlyphRenderer\"},{\"id\":\"3718\",\"type\":\"GlyphRenderer\"},{\"id\":\"3734\",\"type\":\"GlyphRenderer\"},{\"id\":\"3739\",\"type\":\"GlyphRenderer\"},{\"id\":\"3759\",\"type\":\"GlyphRenderer\"}],\"title\":{\"id\":\"3664\",\"type\":\"Title\"},\"toolbar\":{\"id\":\"3690\",\"type\":\"Toolbar\"},\"x_range\":{\"id\":\"3666\",\"type\":\"DataRange1d\"},\"x_scale\":{\"id\":\"3670\",\"type\":\"LinearScale\"},\"y_range\":{\"id\":\"3668\",\"type\":\"DataRange1d\"},\"y_scale\":{\"id\":\"3672\",\"type\":\"LinearScale\"}},\"id\":\"3663\",\"subtype\":\"Figure\",\"type\":\"Plot\"},{\"attributes\":{\"source\":{\"id\":\"3697\",\"type\":\"ColumnDataSource\"}},\"id\":\"3701\",\"type\":\"CDSView\"},{\"attributes\":{\"data_source\":{\"id\":\"3715\",\"type\":\"ColumnDataSource\"},\"glyph\":{\"id\":\"3716\",\"type\":\"Line\"},\"hover_glyph\":null,\"muted_glyph\":null,\"nonselection_glyph\":{\"id\":\"3717\",\"type\":\"Line\"},\"selection_glyph\":null,\"view\":{\"id\":\"3719\",\"type\":\"CDSView\"}},\"id\":\"3718\",\"type\":\"GlyphRenderer\"},{\"attributes\":{\"line_color\":\"#2CC775\",\"x\":{\"field\":\"x\"},\"y\":{\"field\":\"y\"}},\"id\":\"3737\",\"type\":\"Line\"},{\"attributes\":{},\"id\":\"3705\",\"type\":\"BasicTickFormatter\"},{\"attributes\":{\"axis_label\":\"SL.EMP.VULN.ZS\",\"formatter\":{\"id\":\"3703\",\"type\":\"BasicTickFormatter\"},\"ticker\":{\"id\":\"3680\",\"type\":\"BasicTicker\"}},\"id\":\"3679\",\"type\":\"LinearAxis\"},{\"attributes\":{\"line_alpha\":0.1,\"line_color\":\"#1f77b4\",\"x\":{\"field\":\"x\"},\"y\":{\"field\":\"y\"}},\"id\":\"3738\",\"type\":\"Line\"},{\"attributes\":{\"bottom_units\":\"screen\",\"fill_alpha\":{\"value\":0.5},\"fill_color\":{\"value\":\"lightgrey\"},\"left_units\":\"screen\",\"level\":\"overlay\",\"line_alpha\":{\"value\":1.0},\"line_color\":{\"value\":\"black\"},\"line_dash\":[4,4],\"line_width\":{\"value\":2},\"render_mode\":\"css\",\"right_units\":\"screen\",\"top_units\":\"screen\"},\"id\":\"3707\",\"type\":\"BoxAnnotation\"},{\"attributes\":{\"grid_line_color\":null,\"ticker\":{\"id\":\"3675\",\"type\":\"BasicTicker\"}},\"id\":\"3678\",\"type\":\"Grid\"},{\"attributes\":{\"dimension\":1,\"grid_line_alpha\":0.5,\"ticker\":{\"id\":\"3680\",\"type\":\"BasicTicker\"}},\"id\":\"3683\",\"type\":\"Grid\"},{\"attributes\":{\"data_source\":{\"id\":\"3736\",\"type\":\"ColumnDataSource\"},\"glyph\":{\"id\":\"3737\",\"type\":\"Line\"},\"hover_glyph\":null,\"muted_glyph\":null,\"nonselection_glyph\":{\"id\":\"3738\",\"type\":\"Line\"},\"selection_glyph\":null,\"view\":{\"id\":\"3740\",\"type\":\"CDSView\"}},\"id\":\"3739\",\"type\":\"GlyphRenderer\"},{\"attributes\":{\"items\":[{\"id\":\"3709\",\"type\":\"LegendItem\"},{\"id\":\"3730\",\"type\":\"LegendItem\"},{\"id\":\"3755\",\"type\":\"LegendItem\"}],\"location\":\"bottom_left\"},\"id\":\"3708\",\"type\":\"Legend\"},{\"attributes\":{},\"id\":\"3680\",\"type\":\"BasicTicker\"},{\"attributes\":{\"source\":{\"id\":\"3715\",\"type\":\"ColumnDataSource\"}},\"id\":\"3719\",\"type\":\"CDSView\"},{\"attributes\":{\"source\":{\"id\":\"3736\",\"type\":\"ColumnDataSource\"}},\"id\":\"3740\",\"type\":\"CDSView\"},{\"attributes\":{\"label\":{\"value\":\"LDCs\"},\"renderers\":[{\"id\":\"3700\",\"type\":\"GlyphRenderer\"}]},\"id\":\"3709\",\"type\":\"LegendItem\"},{\"attributes\":{\"callback\":null,\"data\":{\"x\":[\"2000\",\"2001\",\"2002\",\"2003\",\"2004\",\"2005\",\"2006\",\"2007\",\"2008\",\"2009\",\"2010\",\"2011\",\"2012\",\"2013\",\"2014\",\"2015\",\"2016\",\"2017\"],\"y\":[76.55562066104517,76.37986864337054,76.20491185151087,76.0285482679487,75.82094785929357,75.61511952397093,75.32895405434937,75.01381997539303,74.69307298605345,74.43136697400037,74.07291940189262,73.61967067900957,73.18548775794076,72.8705406679276,72.58557928075658,72.42095588745232,72.24762664827033,71.97617982154789]},\"selected\":{\"id\":\"3728\",\"type\":\"Selection\"},\"selection_policy\":{\"id\":\"3727\",\"type\":\"UnionRenderers\"}},\"id\":\"3710\",\"type\":\"ColumnDataSource\"},{\"attributes\":{},\"id\":\"3750\",\"type\":\"UnionRenderers\"},{\"attributes\":{\"line_alpha\":0.1,\"line_color\":\"#1f77b4\",\"x\":{\"field\":\"x\"},\"y\":{\"field\":\"y\"}},\"id\":\"3699\",\"type\":\"Line\"},{\"attributes\":{},\"id\":\"3726\",\"type\":\"Selection\"},{\"attributes\":{\"fill_color\":{\"value\":\"#FA1857\"},\"line_color\":{\"value\":\"#FA1857\"},\"line_width\":{\"value\":3},\"x\":{\"field\":\"x\"},\"y\":{\"field\":\"y\"}},\"id\":\"3711\",\"type\":\"Circle\"},{\"attributes\":{},\"id\":\"3751\",\"type\":\"Selection\"},{\"attributes\":{\"line_color\":\"#FA1857\",\"x\":{\"field\":\"x\"},\"y\":{\"field\":\"y\"}},\"id\":\"3698\",\"type\":\"Line\"},{\"attributes\":{},\"id\":\"3940\",\"type\":\"Selection\"},{\"attributes\":{\"fill_alpha\":{\"value\":0.1},\"fill_color\":{\"value\":\"#1f77b4\"},\"line_alpha\":{\"value\":0.1},\"line_color\":{\"value\":\"#1f77b4\"},\"line_width\":{\"value\":3},\"x\":{\"field\":\"x\"},\"y\":{\"field\":\"y\"}},\"id\":\"3712\",\"type\":\"Circle\"},{\"attributes\":{},\"id\":\"3752\",\"type\":\"UnionRenderers\"},{\"attributes\":{},\"id\":\"3939\",\"type\":\"UnionRenderers\"},{\"attributes\":{},\"id\":\"3725\",\"type\":\"UnionRenderers\"},{\"attributes\":{\"data_source\":{\"id\":\"3710\",\"type\":\"ColumnDataSource\"},\"glyph\":{\"id\":\"3711\",\"type\":\"Circle\"},\"hover_glyph\":null,\"muted_glyph\":null,\"nonselection_glyph\":{\"id\":\"3712\",\"type\":\"Circle\"},\"selection_glyph\":null,\"view\":{\"id\":\"3714\",\"type\":\"CDSView\"}},\"id\":\"3713\",\"type\":\"GlyphRenderer\"},{\"attributes\":{},\"id\":\"3753\",\"type\":\"Selection\"},{\"attributes\":{\"callback\":null,\"data\":{\"x\":[\"2000\",\"2001\",\"2002\",\"2003\",\"2004\",\"2005\",\"2006\",\"2007\",\"2008\",\"2009\",\"2010\",\"2011\",\"2012\",\"2013\",\"2014\",\"2015\",\"2016\",\"2017\"],\"y\":[76.55562066104517,76.37986864337054,76.20491185151087,76.0285482679487,75.82094785929357,75.61511952397093,75.32895405434937,75.01381997539303,74.69307298605345,74.43136697400037,74.07291940189262,73.61967067900957,73.18548775794076,72.8705406679276,72.58557928075658,72.42095588745232,72.24762664827033,71.97617982154789]},\"selected\":{\"id\":\"3726\",\"type\":\"Selection\"},\"selection_policy\":{\"id\":\"3725\",\"type\":\"UnionRenderers\"}},\"id\":\"3697\",\"type\":\"ColumnDataSource\"},{\"attributes\":{\"source\":{\"id\":\"3710\",\"type\":\"ColumnDataSource\"}},\"id\":\"3714\",\"type\":\"CDSView\"},{\"attributes\":{\"label\":{\"value\":\"OECD\"},\"renderers\":[{\"id\":\"3739\",\"type\":\"GlyphRenderer\"}]},\"id\":\"3755\",\"type\":\"LegendItem\"},{\"attributes\":{},\"id\":\"3685\",\"type\":\"WheelZoomTool\"},{\"attributes\":{},\"id\":\"3727\",\"type\":\"UnionRenderers\"},{\"attributes\":{\"callback\":null,\"data\":{\"x\":[\"2000\",\"2001\",\"2002\",\"2003\",\"2004\",\"2005\",\"2006\",\"2007\",\"2008\",\"2009\",\"2010\",\"2011\",\"2012\",\"2013\",\"2014\",\"2015\",\"2016\",\"2017\"],\"y\":[61.112907428435086,60.691447078218324,60.12378233908463,59.83958298619775,59.2886948540458,58.68715381695083,58.034486084007646,57.56646933138067,57.20233508484887,56.901675348262174,56.42641838827256,55.55841766390446,54.541716177965164,54.01071229168338,53.54334284165231,53.11197804583197,52.82467723653058,52.50722323269526]},\"selected\":{\"id\":\"3751\",\"type\":\"Selection\"},\"selection_policy\":{\"id\":\"3750\",\"type\":\"UnionRenderers\"}},\"id\":\"3715\",\"type\":\"ColumnDataSource\"},{\"attributes\":{},\"id\":\"3684\",\"type\":\"PanTool\"},{\"attributes\":{\"line_color\":\"#5430F1\",\"x\":{\"field\":\"x\"},\"y\":{\"field\":\"y\"}},\"id\":\"3716\",\"type\":\"Line\"},{\"attributes\":{\"fill_color\":{\"value\":\"#2CC775\"},\"line_color\":{\"value\":\"#2CC775\"},\"line_width\":{\"value\":3},\"x\":{\"field\":\"x\"},\"y\":{\"field\":\"y\"}},\"id\":\"3757\",\"type\":\"Circle\"},{\"attributes\":{\"overlay\":{\"id\":\"3707\",\"type\":\"BoxAnnotation\"}},\"id\":\"3686\",\"type\":\"BoxZoomTool\"},{\"attributes\":{\"label\":{\"value\":\"Developing excluding LDCs\"},\"renderers\":[{\"id\":\"3718\",\"type\":\"GlyphRenderer\"}]},\"id\":\"3730\",\"type\":\"LegendItem\"},{\"attributes\":{\"fill_alpha\":{\"value\":0.1},\"fill_color\":{\"value\":\"#1f77b4\"},\"line_alpha\":{\"value\":0.1},\"line_color\":{\"value\":\"#1f77b4\"},\"line_width\":{\"value\":3},\"x\":{\"field\":\"x\"},\"y\":{\"field\":\"y\"}},\"id\":\"3758\",\"type\":\"Circle\"},{\"attributes\":{},\"id\":\"3688\",\"type\":\"ResetTool\"},{\"attributes\":{\"callback\":null,\"data\":{\"x\":[\"2000\",\"2001\",\"2002\",\"2003\",\"2004\",\"2005\",\"2006\",\"2007\",\"2008\",\"2009\",\"2010\",\"2011\",\"2012\",\"2013\",\"2014\",\"2015\",\"2016\",\"2017\"],\"y\":[15.103695797826978,15.131169027337517,14.956404858686836,14.940762682053347,14.834277780762966,14.355494539286878,13.756191814089059,13.46227561311569,13.185720820345873,13.311176143007764,13.205454041812168,13.11874289832326,13.014718113971039,12.888181456404036,12.723579196926023,12.524640395839814,12.37155664238607,12.249551314128]},\"selected\":{\"id\":\"3940\",\"type\":\"Selection\"},\"selection_policy\":{\"id\":\"3939\",\"type\":\"UnionRenderers\"}},\"id\":\"3756\",\"type\":\"ColumnDataSource\"},{\"attributes\":{\"data_source\":{\"id\":\"3756\",\"type\":\"ColumnDataSource\"},\"glyph\":{\"id\":\"3757\",\"type\":\"Circle\"},\"hover_glyph\":null,\"muted_glyph\":null,\"nonselection_glyph\":{\"id\":\"3758\",\"type\":\"Circle\"},\"selection_glyph\":null,\"view\":{\"id\":\"3760\",\"type\":\"CDSView\"}},\"id\":\"3759\",\"type\":\"GlyphRenderer\"},{\"attributes\":{\"text\":\"Vulnerable employment, total (% of total employment) (modeled ILO estimate) weighted against Population, total\"},\"id\":\"3664\",\"type\":\"Title\"},{\"attributes\":{\"line_alpha\":0.1,\"line_color\":\"#1f77b4\",\"x\":{\"field\":\"x\"},\"y\":{\"field\":\"y\"}},\"id\":\"3717\",\"type\":\"Line\"},{\"attributes\":{},\"id\":\"3672\",\"type\":\"LinearScale\"},{\"attributes\":{},\"id\":\"3687\",\"type\":\"SaveTool\"},{\"attributes\":{},\"id\":\"3728\",\"type\":\"Selection\"},{\"attributes\":{\"callback\":null,\"data\":{\"x\":[\"2000\",\"2001\",\"2002\",\"2003\",\"2004\",\"2005\",\"2006\",\"2007\",\"2008\",\"2009\",\"2010\",\"2011\",\"2012\",\"2013\",\"2014\",\"2015\",\"2016\",\"2017\"],\"y\":[15.103695797826978,15.131169027337517,14.956404858686836,14.940762682053347,14.834277780762966,14.355494539286878,13.756191814089059,13.46227561311569,13.185720820345873,13.311176143007764,13.205454041812168,13.11874289832326,13.014718113971039,12.888181456404036,12.723579196926023,12.524640395839814,12.37155664238607,12.249551314128]},\"selected\":{\"id\":\"3938\",\"type\":\"Selection\"},\"selection_policy\":{\"id\":\"3937\",\"type\":\"UnionRenderers\"}},\"id\":\"3736\",\"type\":\"ColumnDataSource\"},{\"attributes\":{\"source\":{\"id\":\"3756\",\"type\":\"ColumnDataSource\"}},\"id\":\"3760\",\"type\":\"CDSView\"},{\"attributes\":{},\"id\":\"3689\",\"type\":\"HelpTool\"},{\"attributes\":{\"callback\":null,\"tooltips\":\"                \\n        <div style=padding=5px>Year:@x</div>\\n        <div style=padding=5px>Value:@y</div>        \\n        \"},\"id\":\"3761\",\"type\":\"HoverTool\"},{\"attributes\":{\"callback\":null,\"data\":{\"x\":[\"2000\",\"2001\",\"2002\",\"2003\",\"2004\",\"2005\",\"2006\",\"2007\",\"2008\",\"2009\",\"2010\",\"2011\",\"2012\",\"2013\",\"2014\",\"2015\",\"2016\",\"2017\"],\"y\":[61.112907428435086,60.691447078218324,60.12378233908463,59.83958298619775,59.2886948540458,58.68715381695083,58.034486084007646,57.56646933138067,57.20233508484887,56.901675348262174,56.42641838827256,55.55841766390446,54.541716177965164,54.01071229168338,53.54334284165231,53.11197804583197,52.82467723653058,52.50722323269526]},\"selected\":{\"id\":\"3753\",\"type\":\"Selection\"},\"selection_policy\":{\"id\":\"3752\",\"type\":\"UnionRenderers\"}},\"id\":\"3731\",\"type\":\"ColumnDataSource\"},{\"attributes\":{\"callback\":null},\"id\":\"3666\",\"type\":\"DataRange1d\"},{\"attributes\":{},\"id\":\"3675\",\"type\":\"BasicTicker\"},{\"attributes\":{\"data_source\":{\"id\":\"3697\",\"type\":\"ColumnDataSource\"},\"glyph\":{\"id\":\"3698\",\"type\":\"Line\"},\"hover_glyph\":null,\"muted_glyph\":null,\"nonselection_glyph\":{\"id\":\"3699\",\"type\":\"Line\"},\"selection_glyph\":null,\"view\":{\"id\":\"3701\",\"type\":\"CDSView\"}},\"id\":\"3700\",\"type\":\"GlyphRenderer\"},{\"attributes\":{\"fill_alpha\":{\"value\":0.1},\"fill_color\":{\"value\":\"#1f77b4\"},\"line_alpha\":{\"value\":0.1},\"line_color\":{\"value\":\"#1f77b4\"},\"line_width\":{\"value\":3},\"x\":{\"field\":\"x\"},\"y\":{\"field\":\"y\"}},\"id\":\"3733\",\"type\":\"Circle\"},{\"attributes\":{},\"id\":\"3670\",\"type\":\"LinearScale\"},{\"attributes\":{},\"id\":\"3937\",\"type\":\"UnionRenderers\"},{\"attributes\":{\"data_source\":{\"id\":\"3731\",\"type\":\"ColumnDataSource\"},\"glyph\":{\"id\":\"3732\",\"type\":\"Circle\"},\"hover_glyph\":null,\"muted_glyph\":null,\"nonselection_glyph\":{\"id\":\"3733\",\"type\":\"Circle\"},\"selection_glyph\":null,\"view\":{\"id\":\"3735\",\"type\":\"CDSView\"}},\"id\":\"3734\",\"type\":\"GlyphRenderer\"},{\"attributes\":{\"active_drag\":\"auto\",\"active_inspect\":\"auto\",\"active_multi\":null,\"active_scroll\":\"auto\",\"active_tap\":\"auto\",\"tools\":[{\"id\":\"3684\",\"type\":\"PanTool\"},{\"id\":\"3685\",\"type\":\"WheelZoomTool\"},{\"id\":\"3686\",\"type\":\"BoxZoomTool\"},{\"id\":\"3687\",\"type\":\"SaveTool\"},{\"id\":\"3688\",\"type\":\"ResetTool\"},{\"id\":\"3689\",\"type\":\"HelpTool\"},{\"id\":\"3761\",\"type\":\"HoverTool\"}]},\"id\":\"3690\",\"type\":\"Toolbar\"},{\"attributes\":{\"axis_label\":\"Years\",\"formatter\":{\"id\":\"3705\",\"type\":\"BasicTickFormatter\"},\"ticker\":{\"id\":\"3675\",\"type\":\"BasicTicker\"}},\"id\":\"3674\",\"type\":\"LinearAxis\"},{\"attributes\":{\"fill_color\":{\"value\":\"#5430F1\"},\"line_color\":{\"value\":\"#5430F1\"},\"line_width\":{\"value\":3},\"x\":{\"field\":\"x\"},\"y\":{\"field\":\"y\"}},\"id\":\"3732\",\"type\":\"Circle\"},{\"attributes\":{\"callback\":null},\"id\":\"3668\",\"type\":\"DataRange1d\"},{\"attributes\":{},\"id\":\"3938\",\"type\":\"Selection\"},{\"attributes\":{\"source\":{\"id\":\"3731\",\"type\":\"ColumnDataSource\"}},\"id\":\"3735\",\"type\":\"CDSView\"},{\"attributes\":{},\"id\":\"3703\",\"type\":\"BasicTickFormatter\"}],\"root_ids\":[\"3663\"]},\"title\":\"Bokeh Application\",\"version\":\"1.3.4\"}};\n",
       "  var render_items = [{\"docid\":\"f10d01da-f7be-426e-a7de-9d97444d7f7c\",\"roots\":{\"3663\":\"e78ef0ca-2be8-4606-863d-55a9ba320f05\"}}];\n",
       "  root.Bokeh.embed.embed_items_notebook(docs_json, render_items);\n",
       "\n",
       "  }\n",
       "  if (root.Bokeh !== undefined) {\n",
       "    embed_document(root);\n",
       "  } else {\n",
       "    var attempts = 0;\n",
       "    var timer = setInterval(function(root) {\n",
       "      if (root.Bokeh !== undefined) {\n",
       "        embed_document(root);\n",
       "        clearInterval(timer);\n",
       "      }\n",
       "      attempts++;\n",
       "      if (attempts > 100) {\n",
       "        console.log(\"Bokeh: ERROR: Unable to run BokehJS code because BokehJS library is missing\");\n",
       "        clearInterval(timer);\n",
       "      }\n",
       "    }, 10, root)\n",
       "  }\n",
       "})(window);"
      ],
      "application/vnd.bokehjs_exec.v0+json": ""
     },
     "metadata": {
      "application/vnd.bokehjs_exec.v0+json": {
       "id": "3663"
      }
     },
     "output_type": "display_data"
    }
   ],
   "source": [
    "# Vulnerable employment\n",
    "years = list(map(str, list(range(2000,2018))))\n",
    "result = show_weighted_average(years, 'SL.EMP.VULN.ZS', 'SP.POP.TOTL', \n",
    "                               ['LDCs', 'Developing excluding LDCs', 'OECD'])"
   ]
  },
  {
   "cell_type": "code",
   "execution_count": 15,
   "metadata": {
    "ExecuteTime": {
     "end_time": "2019-10-25T14:25:14.112300Z",
     "start_time": "2019-10-25T14:25:08.899437Z"
    },
    "slideshow": {
     "slide_type": "slide"
    }
   },
   "outputs": [
    {
     "data": {
      "text/html": [
       "\n",
       "\n",
       "\n",
       "\n",
       "\n",
       "\n",
       "  <div class=\"bk-root\" id=\"891a1fae-20ff-463e-8c4d-9814a1ac7299\" data-root-id=\"4050\"></div>\n"
      ]
     },
     "metadata": {},
     "output_type": "display_data"
    },
    {
     "data": {
      "application/javascript": [
       "(function(root) {\n",
       "  function embed_document(root) {\n",
       "    \n",
       "  var docs_json = {\"420b44d8-8a7c-4f69-bad9-c4bae4f61a33\":{\"roots\":{\"references\":[{\"attributes\":{\"below\":[{\"id\":\"4061\",\"type\":\"LinearAxis\"}],\"center\":[{\"id\":\"4065\",\"type\":\"Grid\"},{\"id\":\"4070\",\"type\":\"Grid\"},{\"id\":\"4095\",\"type\":\"Legend\"}],\"left\":[{\"id\":\"4066\",\"type\":\"LinearAxis\"}],\"plot_height\":400,\"plot_width\":800,\"renderers\":[{\"id\":\"4087\",\"type\":\"GlyphRenderer\"},{\"id\":\"4100\",\"type\":\"GlyphRenderer\"},{\"id\":\"4105\",\"type\":\"GlyphRenderer\"},{\"id\":\"4121\",\"type\":\"GlyphRenderer\"},{\"id\":\"4126\",\"type\":\"GlyphRenderer\"},{\"id\":\"4146\",\"type\":\"GlyphRenderer\"}],\"title\":{\"id\":\"4051\",\"type\":\"Title\"},\"toolbar\":{\"id\":\"4077\",\"type\":\"Toolbar\"},\"x_range\":{\"id\":\"4053\",\"type\":\"DataRange1d\"},\"x_scale\":{\"id\":\"4057\",\"type\":\"LinearScale\"},\"y_range\":{\"id\":\"4055\",\"type\":\"DataRange1d\"},\"y_scale\":{\"id\":\"4059\",\"type\":\"LinearScale\"}},\"id\":\"4050\",\"subtype\":\"Figure\",\"type\":\"Plot\"},{\"attributes\":{\"source\":{\"id\":\"4084\",\"type\":\"ColumnDataSource\"}},\"id\":\"4088\",\"type\":\"CDSView\"},{\"attributes\":{},\"id\":\"4067\",\"type\":\"BasicTicker\"},{\"attributes\":{},\"id\":\"4062\",\"type\":\"BasicTicker\"},{\"attributes\":{},\"id\":\"4342\",\"type\":\"UnionRenderers\"},{\"attributes\":{\"data_source\":{\"id\":\"4118\",\"type\":\"ColumnDataSource\"},\"glyph\":{\"id\":\"4119\",\"type\":\"Circle\"},\"hover_glyph\":null,\"muted_glyph\":null,\"nonselection_glyph\":{\"id\":\"4120\",\"type\":\"Circle\"},\"selection_glyph\":null,\"view\":{\"id\":\"4122\",\"type\":\"CDSView\"}},\"id\":\"4121\",\"type\":\"GlyphRenderer\"},{\"attributes\":{\"grid_line_color\":null,\"ticker\":{\"id\":\"4062\",\"type\":\"BasicTicker\"}},\"id\":\"4065\",\"type\":\"Grid\"},{\"attributes\":{},\"id\":\"4090\",\"type\":\"BasicTickFormatter\"},{\"attributes\":{\"dimension\":1,\"grid_line_alpha\":0.5,\"ticker\":{\"id\":\"4067\",\"type\":\"BasicTicker\"}},\"id\":\"4070\",\"type\":\"Grid\"},{\"attributes\":{\"source\":{\"id\":\"4118\",\"type\":\"ColumnDataSource\"}},\"id\":\"4122\",\"type\":\"CDSView\"},{\"attributes\":{},\"id\":\"4343\",\"type\":\"Selection\"},{\"attributes\":{\"axis_label\":\"SL.EMP.VULN.FE.ZS\",\"formatter\":{\"id\":\"4090\",\"type\":\"BasicTickFormatter\"},\"ticker\":{\"id\":\"4067\",\"type\":\"BasicTicker\"}},\"id\":\"4066\",\"type\":\"LinearAxis\"},{\"attributes\":{},\"id\":\"4344\",\"type\":\"UnionRenderers\"},{\"attributes\":{\"callback\":null,\"data\":{\"x\":[\"2000\",\"2001\",\"2002\",\"2003\",\"2004\",\"2005\",\"2006\",\"2007\",\"2008\",\"2009\",\"2010\",\"2011\",\"2012\",\"2013\",\"2014\",\"2015\",\"2016\",\"2017\"],\"y\":[14.48536902485712,14.493511769829844,14.191813316333826,13.993763075972725,13.83147018503385,13.370962271652207,12.80581092501148,12.566340934456548,12.298027267203656,12.373333284001852,12.307219209624574,12.287989367669757,12.15311900334881,11.971961077598174,11.744068220445252,11.58624004783634,11.401146754618209,11.2798928194068]},\"selected\":{\"id\":\"4343\",\"type\":\"Selection\"},\"selection_policy\":{\"id\":\"4342\",\"type\":\"UnionRenderers\"}},\"id\":\"4123\",\"type\":\"ColumnDataSource\"},{\"attributes\":{\"bottom_units\":\"screen\",\"fill_alpha\":{\"value\":0.5},\"fill_color\":{\"value\":\"lightgrey\"},\"left_units\":\"screen\",\"level\":\"overlay\",\"line_alpha\":{\"value\":1.0},\"line_color\":{\"value\":\"black\"},\"line_dash\":[4,4],\"line_width\":{\"value\":2},\"render_mode\":\"css\",\"right_units\":\"screen\",\"top_units\":\"screen\"},\"id\":\"4094\",\"type\":\"BoxAnnotation\"},{\"attributes\":{},\"id\":\"4092\",\"type\":\"BasicTickFormatter\"},{\"attributes\":{},\"id\":\"4345\",\"type\":\"Selection\"},{\"attributes\":{\"line_color\":\"#2CC775\",\"x\":{\"field\":\"x\"},\"y\":{\"field\":\"y\"}},\"id\":\"4124\",\"type\":\"Line\"},{\"attributes\":{\"items\":[{\"id\":\"4096\",\"type\":\"LegendItem\"},{\"id\":\"4117\",\"type\":\"LegendItem\"},{\"id\":\"4142\",\"type\":\"LegendItem\"}],\"location\":\"bottom_left\"},\"id\":\"4095\",\"type\":\"Legend\"},{\"attributes\":{\"line_alpha\":0.1,\"line_color\":\"#1f77b4\",\"x\":{\"field\":\"x\"},\"y\":{\"field\":\"y\"}},\"id\":\"4125\",\"type\":\"Line\"},{\"attributes\":{\"line_color\":\"#FA1857\",\"x\":{\"field\":\"x\"},\"y\":{\"field\":\"y\"}},\"id\":\"4085\",\"type\":\"Line\"},{\"attributes\":{\"callback\":null,\"data\":{\"x\":[\"2000\",\"2001\",\"2002\",\"2003\",\"2004\",\"2005\",\"2006\",\"2007\",\"2008\",\"2009\",\"2010\",\"2011\",\"2012\",\"2013\",\"2014\",\"2015\",\"2016\",\"2017\"],\"y\":[84.67570947351659,84.54845719460349,84.41534021529151,84.25521506724928,84.12032093981615,83.97106596987518,83.68867661570852,83.77709620056729,83.84020087096158,83.93173050952733,83.8920683978044,83.35726364980452,82.7838732457836,82.3227983282936,81.7453445606311,81.28405232986904,80.80378155261585,80.23067519381057]},\"selected\":{\"id\":\"4115\",\"type\":\"Selection\"},\"selection_policy\":{\"id\":\"4114\",\"type\":\"UnionRenderers\"}},\"id\":\"4097\",\"type\":\"ColumnDataSource\"},{\"attributes\":{\"data_source\":{\"id\":\"4123\",\"type\":\"ColumnDataSource\"},\"glyph\":{\"id\":\"4124\",\"type\":\"Line\"},\"hover_glyph\":null,\"muted_glyph\":null,\"nonselection_glyph\":{\"id\":\"4125\",\"type\":\"Line\"},\"selection_glyph\":null,\"view\":{\"id\":\"4127\",\"type\":\"CDSView\"}},\"id\":\"4126\",\"type\":\"GlyphRenderer\"},{\"attributes\":{\"line_alpha\":0.1,\"line_color\":\"#1f77b4\",\"x\":{\"field\":\"x\"},\"y\":{\"field\":\"y\"}},\"id\":\"4086\",\"type\":\"Line\"},{\"attributes\":{\"label\":{\"value\":\"LDCs\"},\"renderers\":[{\"id\":\"4087\",\"type\":\"GlyphRenderer\"}]},\"id\":\"4096\",\"type\":\"LegendItem\"},{\"attributes\":{},\"id\":\"4114\",\"type\":\"UnionRenderers\"},{\"attributes\":{\"callback\":null,\"data\":{\"x\":[\"2000\",\"2001\",\"2002\",\"2003\",\"2004\",\"2005\",\"2006\",\"2007\",\"2008\",\"2009\",\"2010\",\"2011\",\"2012\",\"2013\",\"2014\",\"2015\",\"2016\",\"2017\"],\"y\":[84.67570947351659,84.54845719460349,84.41534021529151,84.25521506724928,84.12032093981615,83.97106596987518,83.68867661570852,83.77709620056729,83.84020087096158,83.93173050952733,83.8920683978044,83.35726364980452,82.7838732457836,82.3227983282936,81.7453445606311,81.28405232986904,80.80378155261585,80.23067519381057]},\"selected\":{\"id\":\"4113\",\"type\":\"Selection\"},\"selection_policy\":{\"id\":\"4112\",\"type\":\"UnionRenderers\"}},\"id\":\"4084\",\"type\":\"ColumnDataSource\"},{\"attributes\":{\"source\":{\"id\":\"4123\",\"type\":\"ColumnDataSource\"}},\"id\":\"4127\",\"type\":\"CDSView\"},{\"attributes\":{\"source\":{\"id\":\"4143\",\"type\":\"ColumnDataSource\"}},\"id\":\"4147\",\"type\":\"CDSView\"},{\"attributes\":{\"fill_color\":{\"value\":\"#FA1857\"},\"line_color\":{\"value\":\"#FA1857\"},\"line_width\":{\"value\":3},\"x\":{\"field\":\"x\"},\"y\":{\"field\":\"y\"}},\"id\":\"4098\",\"type\":\"Circle\"},{\"attributes\":{},\"id\":\"4137\",\"type\":\"UnionRenderers\"},{\"attributes\":{},\"id\":\"4071\",\"type\":\"PanTool\"},{\"attributes\":{\"data_source\":{\"id\":\"4097\",\"type\":\"ColumnDataSource\"},\"glyph\":{\"id\":\"4098\",\"type\":\"Circle\"},\"hover_glyph\":null,\"muted_glyph\":null,\"nonselection_glyph\":{\"id\":\"4099\",\"type\":\"Circle\"},\"selection_glyph\":null,\"view\":{\"id\":\"4101\",\"type\":\"CDSView\"}},\"id\":\"4100\",\"type\":\"GlyphRenderer\"},{\"attributes\":{},\"id\":\"4115\",\"type\":\"Selection\"},{\"attributes\":{},\"id\":\"4138\",\"type\":\"Selection\"},{\"attributes\":{\"fill_alpha\":{\"value\":0.1},\"fill_color\":{\"value\":\"#1f77b4\"},\"line_alpha\":{\"value\":0.1},\"line_color\":{\"value\":\"#1f77b4\"},\"line_width\":{\"value\":3},\"x\":{\"field\":\"x\"},\"y\":{\"field\":\"y\"}},\"id\":\"4099\",\"type\":\"Circle\"},{\"attributes\":{},\"id\":\"4072\",\"type\":\"WheelZoomTool\"},{\"attributes\":{\"source\":{\"id\":\"4097\",\"type\":\"ColumnDataSource\"}},\"id\":\"4101\",\"type\":\"CDSView\"},{\"attributes\":{},\"id\":\"4139\",\"type\":\"UnionRenderers\"},{\"attributes\":{\"label\":{\"value\":\"Developing excluding LDCs\"},\"renderers\":[{\"id\":\"4105\",\"type\":\"GlyphRenderer\"}]},\"id\":\"4117\",\"type\":\"LegendItem\"},{\"attributes\":{},\"id\":\"4140\",\"type\":\"Selection\"},{\"attributes\":{\"callback\":null,\"data\":{\"x\":[\"2000\",\"2001\",\"2002\",\"2003\",\"2004\",\"2005\",\"2006\",\"2007\",\"2008\",\"2009\",\"2010\",\"2011\",\"2012\",\"2013\",\"2014\",\"2015\",\"2016\",\"2017\"],\"y\":[65.39692668505631,64.96919616793897,64.2505725082179,63.79870336954884,63.21897556155796,62.36083024839076,61.600784397619954,60.977719388475336,60.33881045385905,59.7742461753223,59.09696605173391,57.96713437952283,56.63962670853221,56.007047740270906,55.416368528487254,54.98638981382023,54.60991636925909,54.26255432591824]},\"selected\":{\"id\":\"4138\",\"type\":\"Selection\"},\"selection_policy\":{\"id\":\"4137\",\"type\":\"UnionRenderers\"}},\"id\":\"4102\",\"type\":\"ColumnDataSource\"},{\"attributes\":{\"overlay\":{\"id\":\"4094\",\"type\":\"BoxAnnotation\"}},\"id\":\"4073\",\"type\":\"BoxZoomTool\"},{\"attributes\":{\"label\":{\"value\":\"OECD\"},\"renderers\":[{\"id\":\"4126\",\"type\":\"GlyphRenderer\"}]},\"id\":\"4142\",\"type\":\"LegendItem\"},{\"attributes\":{\"line_color\":\"#5430F1\",\"x\":{\"field\":\"x\"},\"y\":{\"field\":\"y\"}},\"id\":\"4103\",\"type\":\"Line\"},{\"attributes\":{\"callback\":null,\"data\":{\"x\":[\"2000\",\"2001\",\"2002\",\"2003\",\"2004\",\"2005\",\"2006\",\"2007\",\"2008\",\"2009\",\"2010\",\"2011\",\"2012\",\"2013\",\"2014\",\"2015\",\"2016\",\"2017\"],\"y\":[14.48536902485712,14.493511769829844,14.191813316333826,13.993763075972725,13.83147018503385,13.370962271652207,12.80581092501148,12.566340934456548,12.298027267203656,12.373333284001852,12.307219209624574,12.287989367669757,12.15311900334881,11.971961077598174,11.744068220445252,11.58624004783634,11.401146754618209,11.2798928194068]},\"selected\":{\"id\":\"4345\",\"type\":\"Selection\"},\"selection_policy\":{\"id\":\"4344\",\"type\":\"UnionRenderers\"}},\"id\":\"4143\",\"type\":\"ColumnDataSource\"},{\"attributes\":{\"callback\":null,\"data\":{\"x\":[\"2000\",\"2001\",\"2002\",\"2003\",\"2004\",\"2005\",\"2006\",\"2007\",\"2008\",\"2009\",\"2010\",\"2011\",\"2012\",\"2013\",\"2014\",\"2015\",\"2016\",\"2017\"],\"y\":[65.39692668505631,64.96919616793897,64.2505725082179,63.79870336954884,63.21897556155796,62.36083024839076,61.600784397619954,60.977719388475336,60.33881045385905,59.7742461753223,59.09696605173391,57.96713437952283,56.63962670853221,56.007047740270906,55.416368528487254,54.98638981382023,54.60991636925909,54.26255432591824]},\"selected\":{\"id\":\"4140\",\"type\":\"Selection\"},\"selection_policy\":{\"id\":\"4139\",\"type\":\"UnionRenderers\"}},\"id\":\"4118\",\"type\":\"ColumnDataSource\"},{\"attributes\":{\"text\":\"Vulnerable employment, female (% of female employment) (modeled ILO estimate) weighted against Labor force, total\"},\"id\":\"4051\",\"type\":\"Title\"},{\"attributes\":{\"line_alpha\":0.1,\"line_color\":\"#1f77b4\",\"x\":{\"field\":\"x\"},\"y\":{\"field\":\"y\"}},\"id\":\"4104\",\"type\":\"Line\"},{\"attributes\":{},\"id\":\"4074\",\"type\":\"SaveTool\"},{\"attributes\":{},\"id\":\"4076\",\"type\":\"HelpTool\"},{\"attributes\":{\"callback\":null,\"tooltips\":\"                \\n        <div style=padding=5px>Year:@x</div>\\n        <div style=padding=5px>Value:@y</div>        \\n        \"},\"id\":\"4148\",\"type\":\"HoverTool\"},{\"attributes\":{\"callback\":null},\"id\":\"4053\",\"type\":\"DataRange1d\"},{\"attributes\":{\"data_source\":{\"id\":\"4102\",\"type\":\"ColumnDataSource\"},\"glyph\":{\"id\":\"4103\",\"type\":\"Line\"},\"hover_glyph\":null,\"muted_glyph\":null,\"nonselection_glyph\":{\"id\":\"4104\",\"type\":\"Line\"},\"selection_glyph\":null,\"view\":{\"id\":\"4106\",\"type\":\"CDSView\"}},\"id\":\"4105\",\"type\":\"GlyphRenderer\"},{\"attributes\":{\"fill_color\":{\"value\":\"#2CC775\"},\"line_color\":{\"value\":\"#2CC775\"},\"line_width\":{\"value\":3},\"x\":{\"field\":\"x\"},\"y\":{\"field\":\"y\"}},\"id\":\"4144\",\"type\":\"Circle\"},{\"attributes\":{},\"id\":\"4075\",\"type\":\"ResetTool\"},{\"attributes\":{\"fill_color\":{\"value\":\"#5430F1\"},\"line_color\":{\"value\":\"#5430F1\"},\"line_width\":{\"value\":3},\"x\":{\"field\":\"x\"},\"y\":{\"field\":\"y\"}},\"id\":\"4119\",\"type\":\"Circle\"},{\"attributes\":{\"callback\":null},\"id\":\"4055\",\"type\":\"DataRange1d\"},{\"attributes\":{\"source\":{\"id\":\"4102\",\"type\":\"ColumnDataSource\"}},\"id\":\"4106\",\"type\":\"CDSView\"},{\"attributes\":{\"fill_alpha\":{\"value\":0.1},\"fill_color\":{\"value\":\"#1f77b4\"},\"line_alpha\":{\"value\":0.1},\"line_color\":{\"value\":\"#1f77b4\"},\"line_width\":{\"value\":3},\"x\":{\"field\":\"x\"},\"y\":{\"field\":\"y\"}},\"id\":\"4145\",\"type\":\"Circle\"},{\"attributes\":{\"active_drag\":\"auto\",\"active_inspect\":\"auto\",\"active_multi\":null,\"active_scroll\":\"auto\",\"active_tap\":\"auto\",\"tools\":[{\"id\":\"4071\",\"type\":\"PanTool\"},{\"id\":\"4072\",\"type\":\"WheelZoomTool\"},{\"id\":\"4073\",\"type\":\"BoxZoomTool\"},{\"id\":\"4074\",\"type\":\"SaveTool\"},{\"id\":\"4075\",\"type\":\"ResetTool\"},{\"id\":\"4076\",\"type\":\"HelpTool\"},{\"id\":\"4148\",\"type\":\"HoverTool\"}]},\"id\":\"4077\",\"type\":\"Toolbar\"},{\"attributes\":{},\"id\":\"4057\",\"type\":\"LinearScale\"},{\"attributes\":{\"data_source\":{\"id\":\"4143\",\"type\":\"ColumnDataSource\"},\"glyph\":{\"id\":\"4144\",\"type\":\"Circle\"},\"hover_glyph\":null,\"muted_glyph\":null,\"nonselection_glyph\":{\"id\":\"4145\",\"type\":\"Circle\"},\"selection_glyph\":null,\"view\":{\"id\":\"4147\",\"type\":\"CDSView\"}},\"id\":\"4146\",\"type\":\"GlyphRenderer\"},{\"attributes\":{},\"id\":\"4112\",\"type\":\"UnionRenderers\"},{\"attributes\":{},\"id\":\"4059\",\"type\":\"LinearScale\"},{\"attributes\":{\"fill_alpha\":{\"value\":0.1},\"fill_color\":{\"value\":\"#1f77b4\"},\"line_alpha\":{\"value\":0.1},\"line_color\":{\"value\":\"#1f77b4\"},\"line_width\":{\"value\":3},\"x\":{\"field\":\"x\"},\"y\":{\"field\":\"y\"}},\"id\":\"4120\",\"type\":\"Circle\"},{\"attributes\":{\"data_source\":{\"id\":\"4084\",\"type\":\"ColumnDataSource\"},\"glyph\":{\"id\":\"4085\",\"type\":\"Line\"},\"hover_glyph\":null,\"muted_glyph\":null,\"nonselection_glyph\":{\"id\":\"4086\",\"type\":\"Line\"},\"selection_glyph\":null,\"view\":{\"id\":\"4088\",\"type\":\"CDSView\"}},\"id\":\"4087\",\"type\":\"GlyphRenderer\"},{\"attributes\":{},\"id\":\"4113\",\"type\":\"Selection\"},{\"attributes\":{\"axis_label\":\"Years\",\"formatter\":{\"id\":\"4092\",\"type\":\"BasicTickFormatter\"},\"ticker\":{\"id\":\"4062\",\"type\":\"BasicTicker\"}},\"id\":\"4061\",\"type\":\"LinearAxis\"}],\"root_ids\":[\"4050\"]},\"title\":\"Bokeh Application\",\"version\":\"1.3.4\"}};\n",
       "  var render_items = [{\"docid\":\"420b44d8-8a7c-4f69-bad9-c4bae4f61a33\",\"roots\":{\"4050\":\"891a1fae-20ff-463e-8c4d-9814a1ac7299\"}}];\n",
       "  root.Bokeh.embed.embed_items_notebook(docs_json, render_items);\n",
       "\n",
       "  }\n",
       "  if (root.Bokeh !== undefined) {\n",
       "    embed_document(root);\n",
       "  } else {\n",
       "    var attempts = 0;\n",
       "    var timer = setInterval(function(root) {\n",
       "      if (root.Bokeh !== undefined) {\n",
       "        embed_document(root);\n",
       "        clearInterval(timer);\n",
       "      }\n",
       "      attempts++;\n",
       "      if (attempts > 100) {\n",
       "        console.log(\"Bokeh: ERROR: Unable to run BokehJS code because BokehJS library is missing\");\n",
       "        clearInterval(timer);\n",
       "      }\n",
       "    }, 10, root)\n",
       "  }\n",
       "})(window);"
      ],
      "application/vnd.bokehjs_exec.v0+json": ""
     },
     "metadata": {
      "application/vnd.bokehjs_exec.v0+json": {
       "id": "4050"
      }
     },
     "output_type": "display_data"
    }
   ],
   "source": [
    "# Female vulnerable employment\n",
    "years = list(map(str, list(range(2000,2018))))\n",
    "result = show_weighted_average(years, 'SL.EMP.VULN.FE.ZS', 'SL.TLF.TOTL.IN', \n",
    "                               ['LDCs', 'Developing excluding LDCs', 'OECD'])"
   ]
  },
  {
   "cell_type": "code",
   "execution_count": 16,
   "metadata": {
    "ExecuteTime": {
     "end_time": "2019-10-25T14:25:19.414594Z",
     "start_time": "2019-10-25T14:25:14.115306Z"
    },
    "slideshow": {
     "slide_type": "slide"
    }
   },
   "outputs": [
    {
     "data": {
      "text/html": [
       "\n",
       "\n",
       "\n",
       "\n",
       "\n",
       "\n",
       "  <div class=\"bk-root\" id=\"6f0fa9a8-51b7-44fe-a96c-14d279805bcc\" data-root-id=\"4455\"></div>\n"
      ]
     },
     "metadata": {},
     "output_type": "display_data"
    },
    {
     "data": {
      "application/javascript": [
       "(function(root) {\n",
       "  function embed_document(root) {\n",
       "    \n",
       "  var docs_json = {\"f1f8b3f4-1624-42f6-8f95-b2361546043f\":{\"roots\":{\"references\":[{\"attributes\":{\"below\":[{\"id\":\"4466\",\"type\":\"LinearAxis\"}],\"center\":[{\"id\":\"4470\",\"type\":\"Grid\"},{\"id\":\"4475\",\"type\":\"Grid\"},{\"id\":\"4500\",\"type\":\"Legend\"}],\"left\":[{\"id\":\"4471\",\"type\":\"LinearAxis\"}],\"plot_height\":400,\"plot_width\":800,\"renderers\":[{\"id\":\"4492\",\"type\":\"GlyphRenderer\"},{\"id\":\"4505\",\"type\":\"GlyphRenderer\"},{\"id\":\"4510\",\"type\":\"GlyphRenderer\"},{\"id\":\"4526\",\"type\":\"GlyphRenderer\"},{\"id\":\"4531\",\"type\":\"GlyphRenderer\"},{\"id\":\"4551\",\"type\":\"GlyphRenderer\"}],\"title\":{\"id\":\"4456\",\"type\":\"Title\"},\"toolbar\":{\"id\":\"4482\",\"type\":\"Toolbar\"},\"x_range\":{\"id\":\"4458\",\"type\":\"DataRange1d\"},\"x_scale\":{\"id\":\"4462\",\"type\":\"LinearScale\"},\"y_range\":{\"id\":\"4460\",\"type\":\"DataRange1d\"},\"y_scale\":{\"id\":\"4464\",\"type\":\"LinearScale\"}},\"id\":\"4455\",\"subtype\":\"Figure\",\"type\":\"Plot\"},{\"attributes\":{\"text\":\"Vulnerable employment, male (% of male employment) (modeled ILO estimate) weighted against Labor force, total\"},\"id\":\"4456\",\"type\":\"Title\"},{\"attributes\":{\"overlay\":{\"id\":\"4499\",\"type\":\"BoxAnnotation\"}},\"id\":\"4478\",\"type\":\"BoxZoomTool\"},{\"attributes\":{\"callback\":null,\"tooltips\":\"                \\n        <div style=padding=5px>Year:@x</div>\\n        <div style=padding=5px>Value:@y</div>        \\n        \"},\"id\":\"4553\",\"type\":\"HoverTool\"},{\"attributes\":{\"callback\":null},\"id\":\"4458\",\"type\":\"DataRange1d\"},{\"attributes\":{\"line_alpha\":0.1,\"line_color\":\"#1f77b4\",\"x\":{\"field\":\"x\"},\"y\":{\"field\":\"y\"}},\"id\":\"4530\",\"type\":\"Line\"},{\"attributes\":{\"label\":{\"value\":\"Developing excluding LDCs\"},\"renderers\":[{\"id\":\"4510\",\"type\":\"GlyphRenderer\"}]},\"id\":\"4522\",\"type\":\"LegendItem\"},{\"attributes\":{},\"id\":\"4477\",\"type\":\"WheelZoomTool\"},{\"attributes\":{\"data_source\":{\"id\":\"4528\",\"type\":\"ColumnDataSource\"},\"glyph\":{\"id\":\"4529\",\"type\":\"Line\"},\"hover_glyph\":null,\"muted_glyph\":null,\"nonselection_glyph\":{\"id\":\"4530\",\"type\":\"Line\"},\"selection_glyph\":null,\"view\":{\"id\":\"4532\",\"type\":\"CDSView\"}},\"id\":\"4531\",\"type\":\"GlyphRenderer\"},{\"attributes\":{},\"id\":\"4479\",\"type\":\"SaveTool\"},{\"attributes\":{\"callback\":null},\"id\":\"4460\",\"type\":\"DataRange1d\"},{\"attributes\":{\"callback\":null,\"data\":{\"x\":[\"2000\",\"2001\",\"2002\",\"2003\",\"2004\",\"2005\",\"2006\",\"2007\",\"2008\",\"2009\",\"2010\",\"2011\",\"2012\",\"2013\",\"2014\",\"2015\",\"2016\",\"2017\"],\"y\":[57.182668493701804,56.624347402457296,56.14973579960289,55.87796189195199,55.25401813080033,54.67087712681627,53.921143113103525,53.323776327013384,52.83097870875332,52.43257032658141,51.929260596232744,51.09073039239959,50.08754694939069,49.60308553742829,49.20403712953163,48.77821761472152,48.56988546874208,48.2728268059283]},\"selected\":{\"id\":\"4545\",\"type\":\"Selection\"},\"selection_policy\":{\"id\":\"4544\",\"type\":\"UnionRenderers\"}},\"id\":\"4523\",\"type\":\"ColumnDataSource\"},{\"attributes\":{\"source\":{\"id\":\"4528\",\"type\":\"ColumnDataSource\"}},\"id\":\"4532\",\"type\":\"CDSView\"},{\"attributes\":{},\"id\":\"4481\",\"type\":\"HelpTool\"},{\"attributes\":{},\"id\":\"4462\",\"type\":\"LinearScale\"},{\"attributes\":{\"fill_color\":{\"value\":\"#5430F1\"},\"line_color\":{\"value\":\"#5430F1\"},\"line_width\":{\"value\":3},\"x\":{\"field\":\"x\"},\"y\":{\"field\":\"y\"}},\"id\":\"4524\",\"type\":\"Circle\"},{\"attributes\":{},\"id\":\"4480\",\"type\":\"ResetTool\"},{\"attributes\":{\"source\":{\"id\":\"4502\",\"type\":\"ColumnDataSource\"}},\"id\":\"4506\",\"type\":\"CDSView\"},{\"attributes\":{\"active_drag\":\"auto\",\"active_inspect\":\"auto\",\"active_multi\":null,\"active_scroll\":\"auto\",\"active_tap\":\"auto\",\"tools\":[{\"id\":\"4476\",\"type\":\"PanTool\"},{\"id\":\"4477\",\"type\":\"WheelZoomTool\"},{\"id\":\"4478\",\"type\":\"BoxZoomTool\"},{\"id\":\"4479\",\"type\":\"SaveTool\"},{\"id\":\"4480\",\"type\":\"ResetTool\"},{\"id\":\"4481\",\"type\":\"HelpTool\"},{\"id\":\"4553\",\"type\":\"HoverTool\"}]},\"id\":\"4482\",\"type\":\"Toolbar\"},{\"attributes\":{},\"id\":\"4464\",\"type\":\"LinearScale\"},{\"attributes\":{\"fill_alpha\":{\"value\":0.1},\"fill_color\":{\"value\":\"#1f77b4\"},\"line_alpha\":{\"value\":0.1},\"line_color\":{\"value\":\"#1f77b4\"},\"line_width\":{\"value\":3},\"x\":{\"field\":\"x\"},\"y\":{\"field\":\"y\"}},\"id\":\"4525\",\"type\":\"Circle\"},{\"attributes\":{\"callback\":null,\"data\":{\"x\":[\"2000\",\"2001\",\"2002\",\"2003\",\"2004\",\"2005\",\"2006\",\"2007\",\"2008\",\"2009\",\"2010\",\"2011\",\"2012\",\"2013\",\"2014\",\"2015\",\"2016\",\"2017\"],\"y\":[57.182668493701804,56.624347402457296,56.14973579960289,55.87796189195199,55.25401813080033,54.67087712681627,53.921143113103525,53.323776327013384,52.83097870875332,52.43257032658141,51.929260596232744,51.09073039239959,50.08754694939069,49.60308553742829,49.20403712953163,48.77821761472152,48.56988546874208,48.2728268059283]},\"selected\":{\"id\":\"4543\",\"type\":\"Selection\"},\"selection_policy\":{\"id\":\"4542\",\"type\":\"UnionRenderers\"}},\"id\":\"4507\",\"type\":\"ColumnDataSource\"},{\"attributes\":{\"fill_color\":{\"value\":\"#2CC775\"},\"line_color\":{\"value\":\"#2CC775\"},\"line_width\":{\"value\":3},\"x\":{\"field\":\"x\"},\"y\":{\"field\":\"y\"}},\"id\":\"4549\",\"type\":\"Circle\"},{\"attributes\":{\"data_source\":{\"id\":\"4489\",\"type\":\"ColumnDataSource\"},\"glyph\":{\"id\":\"4490\",\"type\":\"Line\"},\"hover_glyph\":null,\"muted_glyph\":null,\"nonselection_glyph\":{\"id\":\"4491\",\"type\":\"Line\"},\"selection_glyph\":null,\"view\":{\"id\":\"4493\",\"type\":\"CDSView\"}},\"id\":\"4492\",\"type\":\"GlyphRenderer\"},{\"attributes\":{\"axis_label\":\"Years\",\"formatter\":{\"id\":\"4497\",\"type\":\"BasicTickFormatter\"},\"ticker\":{\"id\":\"4467\",\"type\":\"BasicTicker\"}},\"id\":\"4466\",\"type\":\"LinearAxis\"},{\"attributes\":{\"data_source\":{\"id\":\"4523\",\"type\":\"ColumnDataSource\"},\"glyph\":{\"id\":\"4524\",\"type\":\"Circle\"},\"hover_glyph\":null,\"muted_glyph\":null,\"nonselection_glyph\":{\"id\":\"4525\",\"type\":\"Circle\"},\"selection_glyph\":null,\"view\":{\"id\":\"4527\",\"type\":\"CDSView\"}},\"id\":\"4526\",\"type\":\"GlyphRenderer\"},{\"attributes\":{\"line_color\":\"#5430F1\",\"x\":{\"field\":\"x\"},\"y\":{\"field\":\"y\"}},\"id\":\"4508\",\"type\":\"Line\"},{\"attributes\":{\"fill_alpha\":{\"value\":0.1},\"fill_color\":{\"value\":\"#1f77b4\"},\"line_alpha\":{\"value\":0.1},\"line_color\":{\"value\":\"#1f77b4\"},\"line_width\":{\"value\":3},\"x\":{\"field\":\"x\"},\"y\":{\"field\":\"y\"}},\"id\":\"4550\",\"type\":\"Circle\"},{\"attributes\":{\"source\":{\"id\":\"4489\",\"type\":\"ColumnDataSource\"}},\"id\":\"4493\",\"type\":\"CDSView\"},{\"attributes\":{\"callback\":null,\"data\":{\"x\":[\"2000\",\"2001\",\"2002\",\"2003\",\"2004\",\"2005\",\"2006\",\"2007\",\"2008\",\"2009\",\"2010\",\"2011\",\"2012\",\"2013\",\"2014\",\"2015\",\"2016\",\"2017\"],\"y\":[13.983595169339262,13.998859245381606,13.991020663967802,14.08072441547863,14.122426832902441,13.78425403912315,13.299377817936158,13.057250481869682,12.840791354088491,13.031251656893089,13.030931611471235,12.99280973346482,12.971599240608382,12.90982728415717,12.853117783704255,12.684740815496953,12.575432474590244,12.453772658805285]},\"selected\":{\"id\":\"4768\",\"type\":\"Selection\"},\"selection_policy\":{\"id\":\"4767\",\"type\":\"UnionRenderers\"}},\"id\":\"4548\",\"type\":\"ColumnDataSource\"},{\"attributes\":{},\"id\":\"4467\",\"type\":\"BasicTicker\"},{\"attributes\":{\"source\":{\"id\":\"4523\",\"type\":\"ColumnDataSource\"}},\"id\":\"4527\",\"type\":\"CDSView\"},{\"attributes\":{\"data_source\":{\"id\":\"4548\",\"type\":\"ColumnDataSource\"},\"glyph\":{\"id\":\"4549\",\"type\":\"Circle\"},\"hover_glyph\":null,\"muted_glyph\":null,\"nonselection_glyph\":{\"id\":\"4550\",\"type\":\"Circle\"},\"selection_glyph\":null,\"view\":{\"id\":\"4552\",\"type\":\"CDSView\"}},\"id\":\"4551\",\"type\":\"GlyphRenderer\"},{\"attributes\":{\"line_alpha\":0.1,\"line_color\":\"#1f77b4\",\"x\":{\"field\":\"x\"},\"y\":{\"field\":\"y\"}},\"id\":\"4509\",\"type\":\"Line\"},{\"attributes\":{\"grid_line_color\":null,\"ticker\":{\"id\":\"4467\",\"type\":\"BasicTicker\"}},\"id\":\"4470\",\"type\":\"Grid\"},{\"attributes\":{},\"id\":\"4495\",\"type\":\"BasicTickFormatter\"},{\"attributes\":{\"callback\":null,\"data\":{\"x\":[\"2000\",\"2001\",\"2002\",\"2003\",\"2004\",\"2005\",\"2006\",\"2007\",\"2008\",\"2009\",\"2010\",\"2011\",\"2012\",\"2013\",\"2014\",\"2015\",\"2016\",\"2017\"],\"y\":[13.983595169339262,13.998859245381606,13.991020663967802,14.08072441547863,14.122426832902441,13.78425403912315,13.299377817936158,13.057250481869682,12.840791354088491,13.031251656893089,13.030931611471235,12.99280973346482,12.971599240608382,12.90982728415717,12.853117783704255,12.684740815496953,12.575432474590244,12.453772658805285]},\"selected\":{\"id\":\"4766\",\"type\":\"Selection\"},\"selection_policy\":{\"id\":\"4765\",\"type\":\"UnionRenderers\"}},\"id\":\"4528\",\"type\":\"ColumnDataSource\"},{\"attributes\":{\"data_source\":{\"id\":\"4507\",\"type\":\"ColumnDataSource\"},\"glyph\":{\"id\":\"4508\",\"type\":\"Line\"},\"hover_glyph\":null,\"muted_glyph\":null,\"nonselection_glyph\":{\"id\":\"4509\",\"type\":\"Line\"},\"selection_glyph\":null,\"view\":{\"id\":\"4511\",\"type\":\"CDSView\"}},\"id\":\"4510\",\"type\":\"GlyphRenderer\"},{\"attributes\":{\"source\":{\"id\":\"4548\",\"type\":\"ColumnDataSource\"}},\"id\":\"4552\",\"type\":\"CDSView\"},{\"attributes\":{\"axis_label\":\"SL.EMP.VULN.MA.ZS\",\"formatter\":{\"id\":\"4495\",\"type\":\"BasicTickFormatter\"},\"ticker\":{\"id\":\"4472\",\"type\":\"BasicTicker\"}},\"id\":\"4471\",\"type\":\"LinearAxis\"},{\"attributes\":{},\"id\":\"4497\",\"type\":\"BasicTickFormatter\"},{\"attributes\":{},\"id\":\"4520\",\"type\":\"Selection\"},{\"attributes\":{\"line_color\":\"#2CC775\",\"x\":{\"field\":\"x\"},\"y\":{\"field\":\"y\"}},\"id\":\"4529\",\"type\":\"Line\"},{\"attributes\":{\"source\":{\"id\":\"4507\",\"type\":\"ColumnDataSource\"}},\"id\":\"4511\",\"type\":\"CDSView\"},{\"attributes\":{\"bottom_units\":\"screen\",\"fill_alpha\":{\"value\":0.5},\"fill_color\":{\"value\":\"lightgrey\"},\"left_units\":\"screen\",\"level\":\"overlay\",\"line_alpha\":{\"value\":1.0},\"line_color\":{\"value\":\"black\"},\"line_dash\":[4,4],\"line_width\":{\"value\":2},\"render_mode\":\"css\",\"right_units\":\"screen\",\"top_units\":\"screen\"},\"id\":\"4499\",\"type\":\"BoxAnnotation\"},{\"attributes\":{},\"id\":\"4768\",\"type\":\"Selection\"},{\"attributes\":{},\"id\":\"4543\",\"type\":\"Selection\"},{\"attributes\":{},\"id\":\"4472\",\"type\":\"BasicTicker\"},{\"attributes\":{\"items\":[{\"id\":\"4501\",\"type\":\"LegendItem\"},{\"id\":\"4522\",\"type\":\"LegendItem\"},{\"id\":\"4547\",\"type\":\"LegendItem\"}],\"location\":\"bottom_left\"},\"id\":\"4500\",\"type\":\"Legend\"},{\"attributes\":{},\"id\":\"4517\",\"type\":\"UnionRenderers\"},{\"attributes\":{},\"id\":\"4765\",\"type\":\"UnionRenderers\"},{\"attributes\":{},\"id\":\"4542\",\"type\":\"UnionRenderers\"},{\"attributes\":{\"label\":{\"value\":\"LDCs\"},\"renderers\":[{\"id\":\"4492\",\"type\":\"GlyphRenderer\"}]},\"id\":\"4501\",\"type\":\"LegendItem\"},{\"attributes\":{},\"id\":\"4544\",\"type\":\"UnionRenderers\"},{\"attributes\":{\"dimension\":1,\"grid_line_alpha\":0.5,\"ticker\":{\"id\":\"4472\",\"type\":\"BasicTicker\"}},\"id\":\"4475\",\"type\":\"Grid\"},{\"attributes\":{\"callback\":null,\"data\":{\"x\":[\"2000\",\"2001\",\"2002\",\"2003\",\"2004\",\"2005\",\"2006\",\"2007\",\"2008\",\"2009\",\"2010\",\"2011\",\"2012\",\"2013\",\"2014\",\"2015\",\"2016\",\"2017\"],\"y\":[73.21763465176444,72.99635651982048,72.78114922045958,72.56740210564952,72.31280809134215,72.06374288534862,71.69979704264206,71.14977890148174,70.60291365237993,70.13601099904103,69.53324532417238,69.00621511120234,68.55967633532312,68.25151294620667,68.00716472004207,67.84672660682828,67.79561725854789,67.4365616886222]},\"selected\":{\"id\":\"4520\",\"type\":\"Selection\"},\"selection_policy\":{\"id\":\"4519\",\"type\":\"UnionRenderers\"}},\"id\":\"4502\",\"type\":\"ColumnDataSource\"},{\"attributes\":{},\"id\":\"4518\",\"type\":\"Selection\"},{\"attributes\":{\"callback\":null,\"data\":{\"x\":[\"2000\",\"2001\",\"2002\",\"2003\",\"2004\",\"2005\",\"2006\",\"2007\",\"2008\",\"2009\",\"2010\",\"2011\",\"2012\",\"2013\",\"2014\",\"2015\",\"2016\",\"2017\"],\"y\":[73.21763465176444,72.99635651982048,72.78114922045958,72.56740210564952,72.31280809134215,72.06374288534862,71.69979704264206,71.14977890148174,70.60291365237993,70.13601099904103,69.53324532417238,69.00621511120234,68.55967633532312,68.25151294620667,68.00716472004207,67.84672660682828,67.79561725854789,67.4365616886222]},\"selected\":{\"id\":\"4518\",\"type\":\"Selection\"},\"selection_policy\":{\"id\":\"4517\",\"type\":\"UnionRenderers\"}},\"id\":\"4489\",\"type\":\"ColumnDataSource\"},{\"attributes\":{},\"id\":\"4766\",\"type\":\"Selection\"},{\"attributes\":{\"label\":{\"value\":\"OECD\"},\"renderers\":[{\"id\":\"4531\",\"type\":\"GlyphRenderer\"}]},\"id\":\"4547\",\"type\":\"LegendItem\"},{\"attributes\":{\"fill_color\":{\"value\":\"#FA1857\"},\"line_color\":{\"value\":\"#FA1857\"},\"line_width\":{\"value\":3},\"x\":{\"field\":\"x\"},\"y\":{\"field\":\"y\"}},\"id\":\"4503\",\"type\":\"Circle\"},{\"attributes\":{\"line_color\":\"#FA1857\",\"x\":{\"field\":\"x\"},\"y\":{\"field\":\"y\"}},\"id\":\"4490\",\"type\":\"Line\"},{\"attributes\":{},\"id\":\"4519\",\"type\":\"UnionRenderers\"},{\"attributes\":{},\"id\":\"4545\",\"type\":\"Selection\"},{\"attributes\":{},\"id\":\"4767\",\"type\":\"UnionRenderers\"},{\"attributes\":{\"fill_alpha\":{\"value\":0.1},\"fill_color\":{\"value\":\"#1f77b4\"},\"line_alpha\":{\"value\":0.1},\"line_color\":{\"value\":\"#1f77b4\"},\"line_width\":{\"value\":3},\"x\":{\"field\":\"x\"},\"y\":{\"field\":\"y\"}},\"id\":\"4504\",\"type\":\"Circle\"},{\"attributes\":{},\"id\":\"4476\",\"type\":\"PanTool\"},{\"attributes\":{\"data_source\":{\"id\":\"4502\",\"type\":\"ColumnDataSource\"},\"glyph\":{\"id\":\"4503\",\"type\":\"Circle\"},\"hover_glyph\":null,\"muted_glyph\":null,\"nonselection_glyph\":{\"id\":\"4504\",\"type\":\"Circle\"},\"selection_glyph\":null,\"view\":{\"id\":\"4506\",\"type\":\"CDSView\"}},\"id\":\"4505\",\"type\":\"GlyphRenderer\"},{\"attributes\":{\"line_alpha\":0.1,\"line_color\":\"#1f77b4\",\"x\":{\"field\":\"x\"},\"y\":{\"field\":\"y\"}},\"id\":\"4491\",\"type\":\"Line\"}],\"root_ids\":[\"4455\"]},\"title\":\"Bokeh Application\",\"version\":\"1.3.4\"}};\n",
       "  var render_items = [{\"docid\":\"f1f8b3f4-1624-42f6-8f95-b2361546043f\",\"roots\":{\"4455\":\"6f0fa9a8-51b7-44fe-a96c-14d279805bcc\"}}];\n",
       "  root.Bokeh.embed.embed_items_notebook(docs_json, render_items);\n",
       "\n",
       "  }\n",
       "  if (root.Bokeh !== undefined) {\n",
       "    embed_document(root);\n",
       "  } else {\n",
       "    var attempts = 0;\n",
       "    var timer = setInterval(function(root) {\n",
       "      if (root.Bokeh !== undefined) {\n",
       "        embed_document(root);\n",
       "        clearInterval(timer);\n",
       "      }\n",
       "      attempts++;\n",
       "      if (attempts > 100) {\n",
       "        console.log(\"Bokeh: ERROR: Unable to run BokehJS code because BokehJS library is missing\");\n",
       "        clearInterval(timer);\n",
       "      }\n",
       "    }, 10, root)\n",
       "  }\n",
       "})(window);"
      ],
      "application/vnd.bokehjs_exec.v0+json": ""
     },
     "metadata": {
      "application/vnd.bokehjs_exec.v0+json": {
       "id": "4455"
      }
     },
     "output_type": "display_data"
    }
   ],
   "source": [
    "# Male vulnerable employment\n",
    "years = list(map(str, list(range(2000,2018))))\n",
    "result = show_weighted_average(years, 'SL.EMP.VULN.MA.ZS', 'SL.TLF.TOTL.IN', \n",
    "                               ['LDCs', 'Developing excluding LDCs', 'OECD'])"
   ]
  },
  {
   "cell_type": "code",
   "execution_count": 17,
   "metadata": {
    "ExecuteTime": {
     "end_time": "2019-10-25T14:25:24.083516Z",
     "start_time": "2019-10-25T14:25:19.417499Z"
    },
    "slideshow": {
     "slide_type": "slide"
    }
   },
   "outputs": [
    {
     "data": {
      "text/html": [
       "\n",
       "\n",
       "\n",
       "\n",
       "\n",
       "\n",
       "  <div class=\"bk-root\" id=\"46f430d7-6261-45b3-a07e-4d23feae2057\" data-root-id=\"4878\"></div>\n"
      ]
     },
     "metadata": {},
     "output_type": "display_data"
    },
    {
     "data": {
      "application/javascript": [
       "(function(root) {\n",
       "  function embed_document(root) {\n",
       "    \n",
       "  var docs_json = {\"a3aca94d-18bd-41a2-9d9e-80fedbda09dd\":{\"roots\":{\"references\":[{\"attributes\":{\"below\":[{\"id\":\"4889\",\"type\":\"LinearAxis\"}],\"center\":[{\"id\":\"4893\",\"type\":\"Grid\"},{\"id\":\"4898\",\"type\":\"Grid\"},{\"id\":\"4923\",\"type\":\"Legend\"}],\"left\":[{\"id\":\"4894\",\"type\":\"LinearAxis\"}],\"plot_height\":400,\"plot_width\":800,\"renderers\":[{\"id\":\"4915\",\"type\":\"GlyphRenderer\"},{\"id\":\"4928\",\"type\":\"GlyphRenderer\"},{\"id\":\"4933\",\"type\":\"GlyphRenderer\"},{\"id\":\"4949\",\"type\":\"GlyphRenderer\"},{\"id\":\"4954\",\"type\":\"GlyphRenderer\"},{\"id\":\"4974\",\"type\":\"GlyphRenderer\"}],\"title\":{\"id\":\"4879\",\"type\":\"Title\"},\"toolbar\":{\"id\":\"4905\",\"type\":\"Toolbar\"},\"x_range\":{\"id\":\"4881\",\"type\":\"DataRange1d\"},\"x_scale\":{\"id\":\"4885\",\"type\":\"LinearScale\"},\"y_range\":{\"id\":\"4883\",\"type\":\"DataRange1d\"},\"y_scale\":{\"id\":\"4887\",\"type\":\"LinearScale\"}},\"id\":\"4878\",\"subtype\":\"Figure\",\"type\":\"Plot\"},{\"attributes\":{\"callback\":null,\"data\":{\"x\":[\"2000\",\"2001\",\"2002\",\"2003\",\"2004\",\"2005\",\"2006\",\"2007\",\"2008\",\"2009\",\"2010\",\"2011\",\"2012\",\"2013\",\"2014\",\"2015\",\"2016\",\"2017\"],\"y\":[66.80550762746502,67.09575522261287,67.38845397138815,67.68641242492377,67.98850353535039,68.29683586546594,68.61376868812876,68.93811600827559,69.26960155877734,69.60770006976703,69.93884575077878,70.26845966598577,70.58941992930774,70.89896146370299,71.1942586920573,71.46625116456777,71.71665557950269,71.94788632890526]},\"selected\":{\"id\":\"4966\",\"type\":\"Selection\"},\"selection_policy\":{\"id\":\"4965\",\"type\":\"UnionRenderers\"}},\"id\":\"4930\",\"type\":\"ColumnDataSource\"},{\"attributes\":{},\"id\":\"4903\",\"type\":\"ResetTool\"},{\"attributes\":{\"text\":\"Life expectancy at birth, total (years) weighted against Population, total\"},\"id\":\"4879\",\"type\":\"Title\"},{\"attributes\":{\"data_source\":{\"id\":\"4925\",\"type\":\"ColumnDataSource\"},\"glyph\":{\"id\":\"4926\",\"type\":\"Circle\"},\"hover_glyph\":null,\"muted_glyph\":null,\"nonselection_glyph\":{\"id\":\"4927\",\"type\":\"Circle\"},\"selection_glyph\":null,\"view\":{\"id\":\"4929\",\"type\":\"CDSView\"}},\"id\":\"4928\",\"type\":\"GlyphRenderer\"},{\"attributes\":{},\"id\":\"4904\",\"type\":\"HelpTool\"},{\"attributes\":{\"fill_color\":{\"value\":\"#FA1857\"},\"line_color\":{\"value\":\"#FA1857\"},\"line_width\":{\"value\":3},\"x\":{\"field\":\"x\"},\"y\":{\"field\":\"y\"}},\"id\":\"4926\",\"type\":\"Circle\"},{\"attributes\":{},\"id\":\"5206\",\"type\":\"UnionRenderers\"},{\"attributes\":{\"overlay\":{\"id\":\"4922\",\"type\":\"BoxAnnotation\"}},\"id\":\"4901\",\"type\":\"BoxZoomTool\"},{\"attributes\":{\"source\":{\"id\":\"4925\",\"type\":\"ColumnDataSource\"}},\"id\":\"4929\",\"type\":\"CDSView\"},{\"attributes\":{},\"id\":\"4902\",\"type\":\"SaveTool\"},{\"attributes\":{\"data_source\":{\"id\":\"4930\",\"type\":\"ColumnDataSource\"},\"glyph\":{\"id\":\"4931\",\"type\":\"Line\"},\"hover_glyph\":null,\"muted_glyph\":null,\"nonselection_glyph\":{\"id\":\"4932\",\"type\":\"Line\"},\"selection_glyph\":null,\"view\":{\"id\":\"4934\",\"type\":\"CDSView\"}},\"id\":\"4933\",\"type\":\"GlyphRenderer\"},{\"attributes\":{\"source\":{\"id\":\"4971\",\"type\":\"ColumnDataSource\"}},\"id\":\"4975\",\"type\":\"CDSView\"},{\"attributes\":{\"fill_color\":{\"value\":\"#2CC775\"},\"line_color\":{\"value\":\"#2CC775\"},\"line_width\":{\"value\":3},\"x\":{\"field\":\"x\"},\"y\":{\"field\":\"y\"}},\"id\":\"4972\",\"type\":\"Circle\"},{\"attributes\":{\"active_drag\":\"auto\",\"active_inspect\":\"auto\",\"active_multi\":null,\"active_scroll\":\"auto\",\"active_tap\":\"auto\",\"tools\":[{\"id\":\"4899\",\"type\":\"PanTool\"},{\"id\":\"4900\",\"type\":\"WheelZoomTool\"},{\"id\":\"4901\",\"type\":\"BoxZoomTool\"},{\"id\":\"4902\",\"type\":\"SaveTool\"},{\"id\":\"4903\",\"type\":\"ResetTool\"},{\"id\":\"4904\",\"type\":\"HelpTool\"},{\"id\":\"4976\",\"type\":\"HoverTool\"}]},\"id\":\"4905\",\"type\":\"Toolbar\"},{\"attributes\":{},\"id\":\"4885\",\"type\":\"LinearScale\"},{\"attributes\":{\"line_color\":\"#5430F1\",\"x\":{\"field\":\"x\"},\"y\":{\"field\":\"y\"}},\"id\":\"4931\",\"type\":\"Line\"},{\"attributes\":{\"line_alpha\":0.1,\"line_color\":\"#1f77b4\",\"x\":{\"field\":\"x\"},\"y\":{\"field\":\"y\"}},\"id\":\"4914\",\"type\":\"Line\"},{\"attributes\":{\"callback\":null},\"id\":\"4881\",\"type\":\"DataRange1d\"},{\"attributes\":{\"line_alpha\":0.1,\"line_color\":\"#1f77b4\",\"x\":{\"field\":\"x\"},\"y\":{\"field\":\"y\"}},\"id\":\"4932\",\"type\":\"Line\"},{\"attributes\":{\"callback\":null},\"id\":\"4883\",\"type\":\"DataRange1d\"},{\"attributes\":{},\"id\":\"4941\",\"type\":\"Selection\"},{\"attributes\":{},\"id\":\"5207\",\"type\":\"Selection\"},{\"attributes\":{},\"id\":\"4890\",\"type\":\"BasicTicker\"},{\"attributes\":{\"source\":{\"id\":\"4930\",\"type\":\"ColumnDataSource\"}},\"id\":\"4934\",\"type\":\"CDSView\"},{\"attributes\":{\"data_source\":{\"id\":\"4912\",\"type\":\"ColumnDataSource\"},\"glyph\":{\"id\":\"4913\",\"type\":\"Line\"},\"hover_glyph\":null,\"muted_glyph\":null,\"nonselection_glyph\":{\"id\":\"4914\",\"type\":\"Line\"},\"selection_glyph\":null,\"view\":{\"id\":\"4916\",\"type\":\"CDSView\"}},\"id\":\"4915\",\"type\":\"GlyphRenderer\"},{\"attributes\":{\"line_color\":\"#2CC775\",\"x\":{\"field\":\"x\"},\"y\":{\"field\":\"y\"}},\"id\":\"4952\",\"type\":\"Line\"},{\"attributes\":{},\"id\":\"4887\",\"type\":\"LinearScale\"},{\"attributes\":{\"fill_alpha\":{\"value\":0.1},\"fill_color\":{\"value\":\"#1f77b4\"},\"line_alpha\":{\"value\":0.1},\"line_color\":{\"value\":\"#1f77b4\"},\"line_width\":{\"value\":3},\"x\":{\"field\":\"x\"},\"y\":{\"field\":\"y\"}},\"id\":\"4973\",\"type\":\"Circle\"},{\"attributes\":{},\"id\":\"4940\",\"type\":\"UnionRenderers\"},{\"attributes\":{\"source\":{\"id\":\"4912\",\"type\":\"ColumnDataSource\"}},\"id\":\"4916\",\"type\":\"CDSView\"},{\"attributes\":{\"axis_label\":\"Years\",\"formatter\":{\"id\":\"4920\",\"type\":\"BasicTickFormatter\"},\"ticker\":{\"id\":\"4890\",\"type\":\"BasicTicker\"}},\"id\":\"4889\",\"type\":\"LinearAxis\"},{\"attributes\":{\"label\":{\"value\":\"Developing excluding LDCs\"},\"renderers\":[{\"id\":\"4933\",\"type\":\"GlyphRenderer\"}]},\"id\":\"4945\",\"type\":\"LegendItem\"},{\"attributes\":{\"data_source\":{\"id\":\"4951\",\"type\":\"ColumnDataSource\"},\"glyph\":{\"id\":\"4952\",\"type\":\"Line\"},\"hover_glyph\":null,\"muted_glyph\":null,\"nonselection_glyph\":{\"id\":\"4953\",\"type\":\"Line\"},\"selection_glyph\":null,\"view\":{\"id\":\"4955\",\"type\":\"CDSView\"}},\"id\":\"4954\",\"type\":\"GlyphRenderer\"},{\"attributes\":{\"callback\":null,\"tooltips\":\"                \\n        <div style=padding=5px>Year:@x</div>\\n        <div style=padding=5px>Value:@y</div>        \\n        \"},\"id\":\"4976\",\"type\":\"HoverTool\"},{\"attributes\":{},\"id\":\"4942\",\"type\":\"UnionRenderers\"},{\"attributes\":{},\"id\":\"4920\",\"type\":\"BasicTickFormatter\"},{\"attributes\":{\"callback\":null,\"data\":{\"x\":[\"2000\",\"2001\",\"2002\",\"2003\",\"2004\",\"2005\",\"2006\",\"2007\",\"2008\",\"2009\",\"2010\",\"2011\",\"2012\",\"2013\",\"2014\",\"2015\",\"2016\",\"2017\"],\"y\":[77.07712560169232,77.38833297513385,77.54776037882743,77.69654179560608,78.09938587502181,78.21736324644525,78.50714525876474,78.73135260844114,78.87486015871855,79.13132827194039,79.3009215024766,79.53231619249463,79.64498856482149,79.80818222814423,80.05654259453199,79.94678663973315,80.09864354689779,80.15042257303583]},\"selected\":{\"id\":\"5209\",\"type\":\"Selection\"},\"selection_policy\":{\"id\":\"5208\",\"type\":\"UnionRenderers\"}},\"id\":\"4971\",\"type\":\"ColumnDataSource\"},{\"attributes\":{\"grid_line_color\":null,\"ticker\":{\"id\":\"4890\",\"type\":\"BasicTicker\"}},\"id\":\"4893\",\"type\":\"Grid\"},{\"attributes\":{},\"id\":\"4943\",\"type\":\"Selection\"},{\"attributes\":{\"dimension\":1,\"grid_line_alpha\":0.5,\"ticker\":{\"id\":\"4895\",\"type\":\"BasicTicker\"}},\"id\":\"4898\",\"type\":\"Grid\"},{\"attributes\":{},\"id\":\"4968\",\"type\":\"Selection\"},{\"attributes\":{},\"id\":\"4918\",\"type\":\"BasicTickFormatter\"},{\"attributes\":{\"fill_alpha\":{\"value\":0.1},\"fill_color\":{\"value\":\"#1f77b4\"},\"line_alpha\":{\"value\":0.1},\"line_color\":{\"value\":\"#1f77b4\"},\"line_width\":{\"value\":3},\"x\":{\"field\":\"x\"},\"y\":{\"field\":\"y\"}},\"id\":\"4948\",\"type\":\"Circle\"},{\"attributes\":{\"axis_label\":\"SP.DYN.LE00.IN\",\"formatter\":{\"id\":\"4918\",\"type\":\"BasicTickFormatter\"},\"ticker\":{\"id\":\"4895\",\"type\":\"BasicTicker\"}},\"id\":\"4894\",\"type\":\"LinearAxis\"},{\"attributes\":{\"label\":{\"value\":\"LDCs\"},\"renderers\":[{\"id\":\"4915\",\"type\":\"GlyphRenderer\"}]},\"id\":\"4924\",\"type\":\"LegendItem\"},{\"attributes\":{},\"id\":\"4967\",\"type\":\"UnionRenderers\"},{\"attributes\":{\"callback\":null,\"data\":{\"x\":[\"2000\",\"2001\",\"2002\",\"2003\",\"2004\",\"2005\",\"2006\",\"2007\",\"2008\",\"2009\",\"2010\",\"2011\",\"2012\",\"2013\",\"2014\",\"2015\",\"2016\",\"2017\"],\"y\":[66.80550762746502,67.09575522261287,67.38845397138815,67.68641242492377,67.98850353535039,68.29683586546594,68.61376868812876,68.93811600827559,69.26960155877734,69.60770006976703,69.93884575077878,70.26845966598577,70.58941992930774,70.89896146370299,71.1942586920573,71.46625116456777,71.71665557950269,71.94788632890526]},\"selected\":{\"id\":\"4968\",\"type\":\"Selection\"},\"selection_policy\":{\"id\":\"4967\",\"type\":\"UnionRenderers\"}},\"id\":\"4946\",\"type\":\"ColumnDataSource\"},{\"attributes\":{},\"id\":\"4895\",\"type\":\"BasicTicker\"},{\"attributes\":{},\"id\":\"4966\",\"type\":\"Selection\"},{\"attributes\":{\"data_source\":{\"id\":\"4946\",\"type\":\"ColumnDataSource\"},\"glyph\":{\"id\":\"4947\",\"type\":\"Circle\"},\"hover_glyph\":null,\"muted_glyph\":null,\"nonselection_glyph\":{\"id\":\"4948\",\"type\":\"Circle\"},\"selection_glyph\":null,\"view\":{\"id\":\"4950\",\"type\":\"CDSView\"}},\"id\":\"4949\",\"type\":\"GlyphRenderer\"},{\"attributes\":{\"bottom_units\":\"screen\",\"fill_alpha\":{\"value\":0.5},\"fill_color\":{\"value\":\"lightgrey\"},\"left_units\":\"screen\",\"level\":\"overlay\",\"line_alpha\":{\"value\":1.0},\"line_color\":{\"value\":\"black\"},\"line_dash\":[4,4],\"line_width\":{\"value\":2},\"render_mode\":\"css\",\"right_units\":\"screen\",\"top_units\":\"screen\"},\"id\":\"4922\",\"type\":\"BoxAnnotation\"},{\"attributes\":{\"fill_color\":{\"value\":\"#5430F1\"},\"line_color\":{\"value\":\"#5430F1\"},\"line_width\":{\"value\":3},\"x\":{\"field\":\"x\"},\"y\":{\"field\":\"y\"}},\"id\":\"4947\",\"type\":\"Circle\"},{\"attributes\":{\"items\":[{\"id\":\"4924\",\"type\":\"LegendItem\"},{\"id\":\"4945\",\"type\":\"LegendItem\"},{\"id\":\"4970\",\"type\":\"LegendItem\"}],\"location\":\"bottom_left\"},\"id\":\"4923\",\"type\":\"Legend\"},{\"attributes\":{},\"id\":\"4899\",\"type\":\"PanTool\"},{\"attributes\":{},\"id\":\"5209\",\"type\":\"Selection\"},{\"attributes\":{\"line_color\":\"#FA1857\",\"x\":{\"field\":\"x\"},\"y\":{\"field\":\"y\"}},\"id\":\"4913\",\"type\":\"Line\"},{\"attributes\":{\"fill_alpha\":{\"value\":0.1},\"fill_color\":{\"value\":\"#1f77b4\"},\"line_alpha\":{\"value\":0.1},\"line_color\":{\"value\":\"#1f77b4\"},\"line_width\":{\"value\":3},\"x\":{\"field\":\"x\"},\"y\":{\"field\":\"y\"}},\"id\":\"4927\",\"type\":\"Circle\"},{\"attributes\":{\"source\":{\"id\":\"4946\",\"type\":\"ColumnDataSource\"}},\"id\":\"4950\",\"type\":\"CDSView\"},{\"attributes\":{\"line_alpha\":0.1,\"line_color\":\"#1f77b4\",\"x\":{\"field\":\"x\"},\"y\":{\"field\":\"y\"}},\"id\":\"4953\",\"type\":\"Line\"},{\"attributes\":{},\"id\":\"4900\",\"type\":\"WheelZoomTool\"},{\"attributes\":{},\"id\":\"4965\",\"type\":\"UnionRenderers\"},{\"attributes\":{},\"id\":\"5208\",\"type\":\"UnionRenderers\"},{\"attributes\":{\"callback\":null,\"data\":{\"x\":[\"2000\",\"2001\",\"2002\",\"2003\",\"2004\",\"2005\",\"2006\",\"2007\",\"2008\",\"2009\",\"2010\",\"2011\",\"2012\",\"2013\",\"2014\",\"2015\",\"2016\",\"2017\"],\"y\":[54.79038158679697,55.287074928807264,55.813316402849836,56.368633395794234,56.948533135666324,57.54898574320102,58.16602728511171,58.79219566302946,59.41811372554519,60.03542306147486,60.63396924590268,61.20650588606631,61.743458424691624,62.25279596395541,62.72434854700804,63.154635897597124,63.54299723731197,63.89474884744179]},\"selected\":{\"id\":\"4941\",\"type\":\"Selection\"},\"selection_policy\":{\"id\":\"4940\",\"type\":\"UnionRenderers\"}},\"id\":\"4912\",\"type\":\"ColumnDataSource\"},{\"attributes\":{\"callback\":null,\"data\":{\"x\":[\"2000\",\"2001\",\"2002\",\"2003\",\"2004\",\"2005\",\"2006\",\"2007\",\"2008\",\"2009\",\"2010\",\"2011\",\"2012\",\"2013\",\"2014\",\"2015\",\"2016\",\"2017\"],\"y\":[54.79038158679697,55.287074928807264,55.813316402849836,56.368633395794234,56.948533135666324,57.54898574320102,58.16602728511171,58.79219566302946,59.41811372554519,60.03542306147486,60.63396924590268,61.20650588606631,61.743458424691624,62.25279596395541,62.72434854700804,63.154635897597124,63.54299723731197,63.89474884744179]},\"selected\":{\"id\":\"4943\",\"type\":\"Selection\"},\"selection_policy\":{\"id\":\"4942\",\"type\":\"UnionRenderers\"}},\"id\":\"4925\",\"type\":\"ColumnDataSource\"},{\"attributes\":{\"label\":{\"value\":\"OECD\"},\"renderers\":[{\"id\":\"4954\",\"type\":\"GlyphRenderer\"}]},\"id\":\"4970\",\"type\":\"LegendItem\"},{\"attributes\":{\"data_source\":{\"id\":\"4971\",\"type\":\"ColumnDataSource\"},\"glyph\":{\"id\":\"4972\",\"type\":\"Circle\"},\"hover_glyph\":null,\"muted_glyph\":null,\"nonselection_glyph\":{\"id\":\"4973\",\"type\":\"Circle\"},\"selection_glyph\":null,\"view\":{\"id\":\"4975\",\"type\":\"CDSView\"}},\"id\":\"4974\",\"type\":\"GlyphRenderer\"},{\"attributes\":{\"callback\":null,\"data\":{\"x\":[\"2000\",\"2001\",\"2002\",\"2003\",\"2004\",\"2005\",\"2006\",\"2007\",\"2008\",\"2009\",\"2010\",\"2011\",\"2012\",\"2013\",\"2014\",\"2015\",\"2016\",\"2017\"],\"y\":[77.07712560169232,77.38833297513385,77.54776037882743,77.69654179560608,78.09938587502181,78.21736324644525,78.50714525876474,78.73135260844114,78.87486015871855,79.13132827194039,79.3009215024766,79.53231619249463,79.64498856482149,79.80818222814423,80.05654259453199,79.94678663973315,80.09864354689779,80.15042257303583]},\"selected\":{\"id\":\"5207\",\"type\":\"Selection\"},\"selection_policy\":{\"id\":\"5206\",\"type\":\"UnionRenderers\"}},\"id\":\"4951\",\"type\":\"ColumnDataSource\"},{\"attributes\":{\"source\":{\"id\":\"4951\",\"type\":\"ColumnDataSource\"}},\"id\":\"4955\",\"type\":\"CDSView\"}],\"root_ids\":[\"4878\"]},\"title\":\"Bokeh Application\",\"version\":\"1.3.4\"}};\n",
       "  var render_items = [{\"docid\":\"a3aca94d-18bd-41a2-9d9e-80fedbda09dd\",\"roots\":{\"4878\":\"46f430d7-6261-45b3-a07e-4d23feae2057\"}}];\n",
       "  root.Bokeh.embed.embed_items_notebook(docs_json, render_items);\n",
       "\n",
       "  }\n",
       "  if (root.Bokeh !== undefined) {\n",
       "    embed_document(root);\n",
       "  } else {\n",
       "    var attempts = 0;\n",
       "    var timer = setInterval(function(root) {\n",
       "      if (root.Bokeh !== undefined) {\n",
       "        embed_document(root);\n",
       "        clearInterval(timer);\n",
       "      }\n",
       "      attempts++;\n",
       "      if (attempts > 100) {\n",
       "        console.log(\"Bokeh: ERROR: Unable to run BokehJS code because BokehJS library is missing\");\n",
       "        clearInterval(timer);\n",
       "      }\n",
       "    }, 10, root)\n",
       "  }\n",
       "})(window);"
      ],
      "application/vnd.bokehjs_exec.v0+json": ""
     },
     "metadata": {
      "application/vnd.bokehjs_exec.v0+json": {
       "id": "4878"
      }
     },
     "output_type": "display_data"
    }
   ],
   "source": [
    "# Life expectancy\n",
    "years = list(map(str, list(range(2000,2018))))\n",
    "result = show_weighted_average(years, 'SP.DYN.LE00.IN', 'SP.POP.TOTL', \n",
    "                               ['LDCs', 'Developing excluding LDCs', 'OECD'])"
   ]
  },
  {
   "cell_type": "code",
   "execution_count": 18,
   "metadata": {
    "ExecuteTime": {
     "end_time": "2019-10-25T14:25:28.872290Z",
     "start_time": "2019-10-25T14:25:24.086081Z"
    },
    "slideshow": {
     "slide_type": "slide"
    }
   },
   "outputs": [
    {
     "data": {
      "text/html": [
       "\n",
       "\n",
       "\n",
       "\n",
       "\n",
       "\n",
       "  <div class=\"bk-root\" id=\"a60918ab-63fb-40cb-836b-2877586252e9\" data-root-id=\"5319\"></div>\n"
      ]
     },
     "metadata": {},
     "output_type": "display_data"
    },
    {
     "data": {
      "application/javascript": [
       "(function(root) {\n",
       "  function embed_document(root) {\n",
       "    \n",
       "  var docs_json = {\"eba69306-22e2-4679-8988-0936ae2a4d61\":{\"roots\":{\"references\":[{\"attributes\":{\"below\":[{\"id\":\"5330\",\"type\":\"LinearAxis\"}],\"center\":[{\"id\":\"5334\",\"type\":\"Grid\"},{\"id\":\"5339\",\"type\":\"Grid\"},{\"id\":\"5364\",\"type\":\"Legend\"}],\"left\":[{\"id\":\"5335\",\"type\":\"LinearAxis\"}],\"plot_height\":400,\"plot_width\":800,\"renderers\":[{\"id\":\"5356\",\"type\":\"GlyphRenderer\"},{\"id\":\"5369\",\"type\":\"GlyphRenderer\"},{\"id\":\"5374\",\"type\":\"GlyphRenderer\"},{\"id\":\"5390\",\"type\":\"GlyphRenderer\"},{\"id\":\"5395\",\"type\":\"GlyphRenderer\"},{\"id\":\"5415\",\"type\":\"GlyphRenderer\"}],\"title\":{\"id\":\"5320\",\"type\":\"Title\"},\"toolbar\":{\"id\":\"5346\",\"type\":\"Toolbar\"},\"x_range\":{\"id\":\"5322\",\"type\":\"DataRange1d\"},\"x_scale\":{\"id\":\"5326\",\"type\":\"LinearScale\"},\"y_range\":{\"id\":\"5324\",\"type\":\"DataRange1d\"},\"y_scale\":{\"id\":\"5328\",\"type\":\"LinearScale\"}},\"id\":\"5319\",\"subtype\":\"Figure\",\"type\":\"Plot\"},{\"attributes\":{},\"id\":\"5384\",\"type\":\"Selection\"},{\"attributes\":{\"source\":{\"id\":\"5412\",\"type\":\"ColumnDataSource\"}},\"id\":\"5416\",\"type\":\"CDSView\"},{\"attributes\":{\"line_color\":\"#FA1857\",\"x\":{\"field\":\"x\"},\"y\":{\"field\":\"y\"}},\"id\":\"5354\",\"type\":\"Line\"},{\"attributes\":{},\"id\":\"5382\",\"type\":\"Selection\"},{\"attributes\":{\"data_source\":{\"id\":\"5412\",\"type\":\"ColumnDataSource\"},\"glyph\":{\"id\":\"5413\",\"type\":\"Circle\"},\"hover_glyph\":null,\"muted_glyph\":null,\"nonselection_glyph\":{\"id\":\"5414\",\"type\":\"Circle\"},\"selection_glyph\":null,\"view\":{\"id\":\"5416\",\"type\":\"CDSView\"}},\"id\":\"5415\",\"type\":\"GlyphRenderer\"},{\"attributes\":{\"dimension\":1,\"grid_line_alpha\":0.5,\"ticker\":{\"id\":\"5336\",\"type\":\"BasicTicker\"}},\"id\":\"5339\",\"type\":\"Grid\"},{\"attributes\":{\"callback\":null,\"data\":{\"x\":[\"2000\",\"2001\",\"2002\",\"2003\",\"2004\",\"2005\",\"2006\",\"2007\",\"2008\",\"2009\",\"2010\",\"2011\",\"2012\",\"2013\",\"2014\",\"2015\",\"2016\",\"2017\"],\"y\":[79.93351879418076,80.20290658761989,80.32918832949842,80.39856940465691,80.77521328865518,80.86674990168122,81.1402038786844,81.32381241465296,81.43163205746191,81.62948962454634,81.79594928587568,82.07333933782573,82.11929566013815,82.26555024337196,82.51912432141074,82.35601028400251,82.55037747513924,82.59790657999017]},\"selected\":{\"id\":\"5668\",\"type\":\"Selection\"},\"selection_policy\":{\"id\":\"5667\",\"type\":\"UnionRenderers\"}},\"id\":\"5412\",\"type\":\"ColumnDataSource\"},{\"attributes\":{},\"id\":\"5383\",\"type\":\"UnionRenderers\"},{\"attributes\":{},\"id\":\"5406\",\"type\":\"UnionRenderers\"},{\"attributes\":{\"active_drag\":\"auto\",\"active_inspect\":\"auto\",\"active_multi\":null,\"active_scroll\":\"auto\",\"active_tap\":\"auto\",\"tools\":[{\"id\":\"5340\",\"type\":\"PanTool\"},{\"id\":\"5341\",\"type\":\"WheelZoomTool\"},{\"id\":\"5342\",\"type\":\"BoxZoomTool\"},{\"id\":\"5343\",\"type\":\"SaveTool\"},{\"id\":\"5344\",\"type\":\"ResetTool\"},{\"id\":\"5345\",\"type\":\"HelpTool\"},{\"id\":\"5417\",\"type\":\"HoverTool\"}]},\"id\":\"5346\",\"type\":\"Toolbar\"},{\"attributes\":{\"fill_alpha\":{\"value\":0.1},\"fill_color\":{\"value\":\"#1f77b4\"},\"line_alpha\":{\"value\":0.1},\"line_color\":{\"value\":\"#1f77b4\"},\"line_width\":{\"value\":3},\"x\":{\"field\":\"x\"},\"y\":{\"field\":\"y\"}},\"id\":\"5414\",\"type\":\"Circle\"},{\"attributes\":{},\"id\":\"5336\",\"type\":\"BasicTicker\"},{\"attributes\":{\"data_source\":{\"id\":\"5353\",\"type\":\"ColumnDataSource\"},\"glyph\":{\"id\":\"5354\",\"type\":\"Line\"},\"hover_glyph\":null,\"muted_glyph\":null,\"nonselection_glyph\":{\"id\":\"5355\",\"type\":\"Line\"},\"selection_glyph\":null,\"view\":{\"id\":\"5357\",\"type\":\"CDSView\"}},\"id\":\"5356\",\"type\":\"GlyphRenderer\"},{\"attributes\":{},\"id\":\"5381\",\"type\":\"UnionRenderers\"},{\"attributes\":{\"fill_color\":{\"value\":\"#2CC775\"},\"line_color\":{\"value\":\"#2CC775\"},\"line_width\":{\"value\":3},\"x\":{\"field\":\"x\"},\"y\":{\"field\":\"y\"}},\"id\":\"5413\",\"type\":\"Circle\"},{\"attributes\":{\"axis_label\":\"SP.DYN.LE00.FE.IN\",\"formatter\":{\"id\":\"5359\",\"type\":\"BasicTickFormatter\"},\"ticker\":{\"id\":\"5336\",\"type\":\"BasicTicker\"}},\"id\":\"5335\",\"type\":\"LinearAxis\"},{\"attributes\":{},\"id\":\"5359\",\"type\":\"BasicTickFormatter\"},{\"attributes\":{\"source\":{\"id\":\"5392\",\"type\":\"ColumnDataSource\"}},\"id\":\"5396\",\"type\":\"CDSView\"},{\"attributes\":{\"grid_line_color\":null,\"ticker\":{\"id\":\"5331\",\"type\":\"BasicTicker\"}},\"id\":\"5334\",\"type\":\"Grid\"},{\"attributes\":{},\"id\":\"5345\",\"type\":\"HelpTool\"},{\"attributes\":{},\"id\":\"5409\",\"type\":\"Selection\"},{\"attributes\":{\"source\":{\"id\":\"5371\",\"type\":\"ColumnDataSource\"}},\"id\":\"5375\",\"type\":\"CDSView\"},{\"attributes\":{},\"id\":\"5408\",\"type\":\"UnionRenderers\"},{\"attributes\":{\"data_source\":{\"id\":\"5392\",\"type\":\"ColumnDataSource\"},\"glyph\":{\"id\":\"5393\",\"type\":\"Line\"},\"hover_glyph\":null,\"muted_glyph\":null,\"nonselection_glyph\":{\"id\":\"5394\",\"type\":\"Line\"},\"selection_glyph\":null,\"view\":{\"id\":\"5396\",\"type\":\"CDSView\"}},\"id\":\"5395\",\"type\":\"GlyphRenderer\"},{\"attributes\":{},\"id\":\"5331\",\"type\":\"BasicTicker\"},{\"attributes\":{\"label\":{\"value\":\"OECD\"},\"renderers\":[{\"id\":\"5395\",\"type\":\"GlyphRenderer\"}]},\"id\":\"5411\",\"type\":\"LegendItem\"},{\"attributes\":{\"data_source\":{\"id\":\"5371\",\"type\":\"ColumnDataSource\"},\"glyph\":{\"id\":\"5372\",\"type\":\"Line\"},\"hover_glyph\":null,\"muted_glyph\":null,\"nonselection_glyph\":{\"id\":\"5373\",\"type\":\"Line\"},\"selection_glyph\":null,\"view\":{\"id\":\"5375\",\"type\":\"CDSView\"}},\"id\":\"5374\",\"type\":\"GlyphRenderer\"},{\"attributes\":{\"axis_label\":\"Years\",\"formatter\":{\"id\":\"5361\",\"type\":\"BasicTickFormatter\"},\"ticker\":{\"id\":\"5331\",\"type\":\"BasicTicker\"}},\"id\":\"5330\",\"type\":\"LinearAxis\"},{\"attributes\":{},\"id\":\"5407\",\"type\":\"Selection\"},{\"attributes\":{\"line_alpha\":0.1,\"line_color\":\"#1f77b4\",\"x\":{\"field\":\"x\"},\"y\":{\"field\":\"y\"}},\"id\":\"5394\",\"type\":\"Line\"},{\"attributes\":{\"line_color\":\"#5430F1\",\"x\":{\"field\":\"x\"},\"y\":{\"field\":\"y\"}},\"id\":\"5372\",\"type\":\"Line\"},{\"attributes\":{},\"id\":\"5344\",\"type\":\"ResetTool\"},{\"attributes\":{},\"id\":\"5328\",\"type\":\"LinearScale\"},{\"attributes\":{\"line_alpha\":0.1,\"line_color\":\"#1f77b4\",\"x\":{\"field\":\"x\"},\"y\":{\"field\":\"y\"}},\"id\":\"5373\",\"type\":\"Line\"},{\"attributes\":{},\"id\":\"5326\",\"type\":\"LinearScale\"},{\"attributes\":{\"line_color\":\"#2CC775\",\"x\":{\"field\":\"x\"},\"y\":{\"field\":\"y\"}},\"id\":\"5393\",\"type\":\"Line\"},{\"attributes\":{},\"id\":\"5343\",\"type\":\"SaveTool\"},{\"attributes\":{\"callback\":null,\"data\":{\"x\":[\"2000\",\"2001\",\"2002\",\"2003\",\"2004\",\"2005\",\"2006\",\"2007\",\"2008\",\"2009\",\"2010\",\"2011\",\"2012\",\"2013\",\"2014\",\"2015\",\"2016\",\"2017\"],\"y\":[67.72613360952067,67.96678765132117,68.21521706263611,68.47684702683729,68.75328942223987,69.0484966771406,69.36634426933745,69.70503900878862,70.05566335667386,70.41841613739292,70.77789293848497,71.13500951943153,71.47851972701005,71.80180695377123,72.09903276477121,72.36667910378955,72.59908110172458,72.80832887210636]},\"selected\":{\"id\":\"5407\",\"type\":\"Selection\"},\"selection_policy\":{\"id\":\"5406\",\"type\":\"UnionRenderers\"}},\"id\":\"5371\",\"type\":\"ColumnDataSource\"},{\"attributes\":{\"callback\":null},\"id\":\"5324\",\"type\":\"DataRange1d\"},{\"attributes\":{\"callback\":null,\"data\":{\"x\":[\"2000\",\"2001\",\"2002\",\"2003\",\"2004\",\"2005\",\"2006\",\"2007\",\"2008\",\"2009\",\"2010\",\"2011\",\"2012\",\"2013\",\"2014\",\"2015\",\"2016\",\"2017\"],\"y\":[79.93351879418076,80.20290658761989,80.32918832949842,80.39856940465691,80.77521328865518,80.86674990168122,81.1402038786844,81.32381241465296,81.43163205746191,81.62948962454634,81.79594928587568,82.07333933782573,82.11929566013815,82.26555024337196,82.51912432141074,82.35601028400251,82.55037747513924,82.59790657999017]},\"selected\":{\"id\":\"5666\",\"type\":\"Selection\"},\"selection_policy\":{\"id\":\"5665\",\"type\":\"UnionRenderers\"}},\"id\":\"5392\",\"type\":\"ColumnDataSource\"},{\"attributes\":{\"data_source\":{\"id\":\"5366\",\"type\":\"ColumnDataSource\"},\"glyph\":{\"id\":\"5367\",\"type\":\"Circle\"},\"hover_glyph\":null,\"muted_glyph\":null,\"nonselection_glyph\":{\"id\":\"5368\",\"type\":\"Circle\"},\"selection_glyph\":null,\"view\":{\"id\":\"5370\",\"type\":\"CDSView\"}},\"id\":\"5369\",\"type\":\"GlyphRenderer\"},{\"attributes\":{\"overlay\":{\"id\":\"5363\",\"type\":\"BoxAnnotation\"}},\"id\":\"5342\",\"type\":\"BoxZoomTool\"},{\"attributes\":{\"callback\":null},\"id\":\"5322\",\"type\":\"DataRange1d\"},{\"attributes\":{\"source\":{\"id\":\"5366\",\"type\":\"ColumnDataSource\"}},\"id\":\"5370\",\"type\":\"CDSView\"},{\"attributes\":{\"source\":{\"id\":\"5387\",\"type\":\"ColumnDataSource\"}},\"id\":\"5391\",\"type\":\"CDSView\"},{\"attributes\":{},\"id\":\"5341\",\"type\":\"WheelZoomTool\"},{\"attributes\":{\"fill_alpha\":{\"value\":0.1},\"fill_color\":{\"value\":\"#1f77b4\"},\"line_alpha\":{\"value\":0.1},\"line_color\":{\"value\":\"#1f77b4\"},\"line_width\":{\"value\":3},\"x\":{\"field\":\"x\"},\"y\":{\"field\":\"y\"}},\"id\":\"5368\",\"type\":\"Circle\"},{\"attributes\":{\"text\":\"Life expectancy at birth, female (years) weighted against Rural population\"},\"id\":\"5320\",\"type\":\"Title\"},{\"attributes\":{\"data_source\":{\"id\":\"5387\",\"type\":\"ColumnDataSource\"},\"glyph\":{\"id\":\"5388\",\"type\":\"Circle\"},\"hover_glyph\":null,\"muted_glyph\":null,\"nonselection_glyph\":{\"id\":\"5389\",\"type\":\"Circle\"},\"selection_glyph\":null,\"view\":{\"id\":\"5391\",\"type\":\"CDSView\"}},\"id\":\"5390\",\"type\":\"GlyphRenderer\"},{\"attributes\":{\"callback\":null,\"data\":{\"x\":[\"2000\",\"2001\",\"2002\",\"2003\",\"2004\",\"2005\",\"2006\",\"2007\",\"2008\",\"2009\",\"2010\",\"2011\",\"2012\",\"2013\",\"2014\",\"2015\",\"2016\",\"2017\"],\"y\":[56.4096480624582,56.91140883682168,57.44192353385225,58.00503362723879,58.598142772139326,59.21818984292778,59.86162958279785,60.51585399850994,61.17972155336314,61.83778106023187,62.478304438318595,63.09159526396696,63.664439641264124,64.20565620034435,64.70347781963777,65.15542624720327,65.56010632225701,65.92570996932908]},\"selected\":{\"id\":\"5384\",\"type\":\"Selection\"},\"selection_policy\":{\"id\":\"5383\",\"type\":\"UnionRenderers\"}},\"id\":\"5366\",\"type\":\"ColumnDataSource\"},{\"attributes\":{},\"id\":\"5340\",\"type\":\"PanTool\"},{\"attributes\":{},\"id\":\"5668\",\"type\":\"Selection\"},{\"attributes\":{\"fill_color\":{\"value\":\"#FA1857\"},\"line_color\":{\"value\":\"#FA1857\"},\"line_width\":{\"value\":3},\"x\":{\"field\":\"x\"},\"y\":{\"field\":\"y\"}},\"id\":\"5367\",\"type\":\"Circle\"},{\"attributes\":{\"fill_alpha\":{\"value\":0.1},\"fill_color\":{\"value\":\"#1f77b4\"},\"line_alpha\":{\"value\":0.1},\"line_color\":{\"value\":\"#1f77b4\"},\"line_width\":{\"value\":3},\"x\":{\"field\":\"x\"},\"y\":{\"field\":\"y\"}},\"id\":\"5389\",\"type\":\"Circle\"},{\"attributes\":{\"callback\":null,\"tooltips\":\"                \\n        <div style=padding=5px>Year:@x</div>\\n        <div style=padding=5px>Value:@y</div>        \\n        \"},\"id\":\"5417\",\"type\":\"HoverTool\"},{\"attributes\":{},\"id\":\"5361\",\"type\":\"BasicTickFormatter\"},{\"attributes\":{},\"id\":\"5667\",\"type\":\"UnionRenderers\"},{\"attributes\":{\"label\":{\"value\":\"LDCs\"},\"renderers\":[{\"id\":\"5356\",\"type\":\"GlyphRenderer\"}]},\"id\":\"5365\",\"type\":\"LegendItem\"},{\"attributes\":{\"fill_color\":{\"value\":\"#5430F1\"},\"line_color\":{\"value\":\"#5430F1\"},\"line_width\":{\"value\":3},\"x\":{\"field\":\"x\"},\"y\":{\"field\":\"y\"}},\"id\":\"5388\",\"type\":\"Circle\"},{\"attributes\":{},\"id\":\"5666\",\"type\":\"Selection\"},{\"attributes\":{\"bottom_units\":\"screen\",\"fill_alpha\":{\"value\":0.5},\"fill_color\":{\"value\":\"lightgrey\"},\"left_units\":\"screen\",\"level\":\"overlay\",\"line_alpha\":{\"value\":1.0},\"line_color\":{\"value\":\"black\"},\"line_dash\":[4,4],\"line_width\":{\"value\":2},\"render_mode\":\"css\",\"right_units\":\"screen\",\"top_units\":\"screen\"},\"id\":\"5363\",\"type\":\"BoxAnnotation\"},{\"attributes\":{\"source\":{\"id\":\"5353\",\"type\":\"ColumnDataSource\"}},\"id\":\"5357\",\"type\":\"CDSView\"},{\"attributes\":{\"label\":{\"value\":\"Developing excluding LDCs\"},\"renderers\":[{\"id\":\"5374\",\"type\":\"GlyphRenderer\"}]},\"id\":\"5386\",\"type\":\"LegendItem\"},{\"attributes\":{\"line_alpha\":0.1,\"line_color\":\"#1f77b4\",\"x\":{\"field\":\"x\"},\"y\":{\"field\":\"y\"}},\"id\":\"5355\",\"type\":\"Line\"},{\"attributes\":{},\"id\":\"5665\",\"type\":\"UnionRenderers\"},{\"attributes\":{\"items\":[{\"id\":\"5365\",\"type\":\"LegendItem\"},{\"id\":\"5386\",\"type\":\"LegendItem\"},{\"id\":\"5411\",\"type\":\"LegendItem\"}],\"location\":\"bottom_left\"},\"id\":\"5364\",\"type\":\"Legend\"},{\"attributes\":{\"callback\":null,\"data\":{\"x\":[\"2000\",\"2001\",\"2002\",\"2003\",\"2004\",\"2005\",\"2006\",\"2007\",\"2008\",\"2009\",\"2010\",\"2011\",\"2012\",\"2013\",\"2014\",\"2015\",\"2016\",\"2017\"],\"y\":[67.72613360952067,67.96678765132117,68.21521706263611,68.47684702683729,68.75328942223987,69.0484966771406,69.36634426933745,69.70503900878862,70.05566335667386,70.41841613739292,70.77789293848497,71.13500951943153,71.47851972701005,71.80180695377123,72.09903276477121,72.36667910378955,72.59908110172458,72.80832887210636]},\"selected\":{\"id\":\"5409\",\"type\":\"Selection\"},\"selection_policy\":{\"id\":\"5408\",\"type\":\"UnionRenderers\"}},\"id\":\"5387\",\"type\":\"ColumnDataSource\"},{\"attributes\":{\"callback\":null,\"data\":{\"x\":[\"2000\",\"2001\",\"2002\",\"2003\",\"2004\",\"2005\",\"2006\",\"2007\",\"2008\",\"2009\",\"2010\",\"2011\",\"2012\",\"2013\",\"2014\",\"2015\",\"2016\",\"2017\"],\"y\":[56.4096480624582,56.91140883682168,57.44192353385225,58.00503362723879,58.598142772139326,59.21818984292778,59.86162958279785,60.51585399850994,61.17972155336314,61.83778106023187,62.478304438318595,63.09159526396696,63.664439641264124,64.20565620034435,64.70347781963777,65.15542624720327,65.56010632225701,65.92570996932908]},\"selected\":{\"id\":\"5382\",\"type\":\"Selection\"},\"selection_policy\":{\"id\":\"5381\",\"type\":\"UnionRenderers\"}},\"id\":\"5353\",\"type\":\"ColumnDataSource\"}],\"root_ids\":[\"5319\"]},\"title\":\"Bokeh Application\",\"version\":\"1.3.4\"}};\n",
       "  var render_items = [{\"docid\":\"eba69306-22e2-4679-8988-0936ae2a4d61\",\"roots\":{\"5319\":\"a60918ab-63fb-40cb-836b-2877586252e9\"}}];\n",
       "  root.Bokeh.embed.embed_items_notebook(docs_json, render_items);\n",
       "\n",
       "  }\n",
       "  if (root.Bokeh !== undefined) {\n",
       "    embed_document(root);\n",
       "  } else {\n",
       "    var attempts = 0;\n",
       "    var timer = setInterval(function(root) {\n",
       "      if (root.Bokeh !== undefined) {\n",
       "        embed_document(root);\n",
       "        clearInterval(timer);\n",
       "      }\n",
       "      attempts++;\n",
       "      if (attempts > 100) {\n",
       "        console.log(\"Bokeh: ERROR: Unable to run BokehJS code because BokehJS library is missing\");\n",
       "        clearInterval(timer);\n",
       "      }\n",
       "    }, 10, root)\n",
       "  }\n",
       "})(window);"
      ],
      "application/vnd.bokehjs_exec.v0+json": ""
     },
     "metadata": {
      "application/vnd.bokehjs_exec.v0+json": {
       "id": "5319"
      }
     },
     "output_type": "display_data"
    }
   ],
   "source": [
    "# Female life expectancy\n",
    "years = list(map(str, list(range(2000,2018))))\n",
    "result = show_weighted_average(years, 'SP.DYN.LE00.FE.IN', 'SP.RUR.TOTL', \n",
    "                               ['LDCs', 'Developing excluding LDCs', 'OECD'])"
   ]
  },
  {
   "cell_type": "code",
   "execution_count": 19,
   "metadata": {
    "ExecuteTime": {
     "end_time": "2019-10-25T14:25:33.233720Z",
     "start_time": "2019-10-25T14:25:28.874728Z"
    },
    "slideshow": {
     "slide_type": "slide"
    }
   },
   "outputs": [
    {
     "data": {
      "text/html": [
       "\n",
       "\n",
       "\n",
       "\n",
       "\n",
       "\n",
       "  <div class=\"bk-root\" id=\"2d22467b-8697-4003-a552-9b79d438f918\" data-root-id=\"5778\"></div>\n"
      ]
     },
     "metadata": {},
     "output_type": "display_data"
    },
    {
     "data": {
      "application/javascript": [
       "(function(root) {\n",
       "  function embed_document(root) {\n",
       "    \n",
       "  var docs_json = {\"2d8323b1-414a-4c52-a33f-3c13469d8adc\":{\"roots\":{\"references\":[{\"attributes\":{\"below\":[{\"id\":\"5789\",\"type\":\"LinearAxis\"}],\"center\":[{\"id\":\"5793\",\"type\":\"Grid\"},{\"id\":\"5798\",\"type\":\"Grid\"},{\"id\":\"5823\",\"type\":\"Legend\"}],\"left\":[{\"id\":\"5794\",\"type\":\"LinearAxis\"}],\"plot_height\":400,\"plot_width\":800,\"renderers\":[{\"id\":\"5815\",\"type\":\"GlyphRenderer\"},{\"id\":\"5828\",\"type\":\"GlyphRenderer\"},{\"id\":\"5833\",\"type\":\"GlyphRenderer\"},{\"id\":\"5849\",\"type\":\"GlyphRenderer\"}],\"title\":{\"id\":\"5779\",\"type\":\"Title\"},\"toolbar\":{\"id\":\"5805\",\"type\":\"Toolbar\"},\"x_range\":{\"id\":\"5781\",\"type\":\"DataRange1d\"},\"x_scale\":{\"id\":\"5785\",\"type\":\"LinearScale\"},\"y_range\":{\"id\":\"5783\",\"type\":\"DataRange1d\"},\"y_scale\":{\"id\":\"5787\",\"type\":\"LinearScale\"}},\"id\":\"5778\",\"subtype\":\"Figure\",\"type\":\"Plot\"},{\"attributes\":{\"source\":{\"id\":\"5830\",\"type\":\"ColumnDataSource\"}},\"id\":\"5834\",\"type\":\"CDSView\"},{\"attributes\":{\"active_drag\":\"auto\",\"active_inspect\":\"auto\",\"active_multi\":null,\"active_scroll\":\"auto\",\"active_tap\":\"auto\",\"tools\":[{\"id\":\"5799\",\"type\":\"PanTool\"},{\"id\":\"5800\",\"type\":\"WheelZoomTool\"},{\"id\":\"5801\",\"type\":\"BoxZoomTool\"},{\"id\":\"5802\",\"type\":\"SaveTool\"},{\"id\":\"5803\",\"type\":\"ResetTool\"},{\"id\":\"5804\",\"type\":\"HelpTool\"},{\"id\":\"5851\",\"type\":\"HoverTool\"}]},\"id\":\"5805\",\"type\":\"Toolbar\"},{\"attributes\":{},\"id\":\"5785\",\"type\":\"LinearScale\"},{\"attributes\":{},\"id\":\"5840\",\"type\":\"UnionRenderers\"},{\"attributes\":{\"data_source\":{\"id\":\"5812\",\"type\":\"ColumnDataSource\"},\"glyph\":{\"id\":\"5813\",\"type\":\"Line\"},\"hover_glyph\":null,\"muted_glyph\":null,\"nonselection_glyph\":{\"id\":\"5814\",\"type\":\"Line\"},\"selection_glyph\":null,\"view\":{\"id\":\"5816\",\"type\":\"CDSView\"}},\"id\":\"5815\",\"type\":\"GlyphRenderer\"},{\"attributes\":{},\"id\":\"5787\",\"type\":\"LinearScale\"},{\"attributes\":{},\"id\":\"5841\",\"type\":\"Selection\"},{\"attributes\":{\"axis_label\":\"Years\",\"formatter\":{\"id\":\"5820\",\"type\":\"BasicTickFormatter\"},\"ticker\":{\"id\":\"5790\",\"type\":\"BasicTicker\"}},\"id\":\"5789\",\"type\":\"LinearAxis\"},{\"attributes\":{\"source\":{\"id\":\"5812\",\"type\":\"ColumnDataSource\"}},\"id\":\"5816\",\"type\":\"CDSView\"},{\"attributes\":{},\"id\":\"5842\",\"type\":\"UnionRenderers\"},{\"attributes\":{},\"id\":\"5790\",\"type\":\"BasicTicker\"},{\"attributes\":{},\"id\":\"5843\",\"type\":\"Selection\"},{\"attributes\":{},\"id\":\"5818\",\"type\":\"BasicTickFormatter\"},{\"attributes\":{\"grid_line_color\":null,\"ticker\":{\"id\":\"5790\",\"type\":\"BasicTicker\"}},\"id\":\"5793\",\"type\":\"Grid\"},{\"attributes\":{\"label\":{\"value\":\"Developing excluding LDCs\"},\"renderers\":[{\"id\":\"5833\",\"type\":\"GlyphRenderer\"}]},\"id\":\"5845\",\"type\":\"LegendItem\"},{\"attributes\":{},\"id\":\"5820\",\"type\":\"BasicTickFormatter\"},{\"attributes\":{\"axis_label\":\"SH.STA.MMRT\",\"formatter\":{\"id\":\"5818\",\"type\":\"BasicTickFormatter\"},\"ticker\":{\"id\":\"5795\",\"type\":\"BasicTicker\"}},\"id\":\"5794\",\"type\":\"LinearAxis\"},{\"attributes\":{\"callback\":null,\"data\":{\"x\":[\"2000\",\"2001\",\"2002\",\"2003\",\"2004\",\"2005\",\"2006\",\"2007\",\"2008\",\"2009\",\"2010\",\"2011\",\"2012\",\"2013\",\"2014\",\"2015\",\"2016\",\"2017\"],\"y\":[219.59332239180722,213.79178224882705,206.7101391641294,200.94829957227932,194.47262113081396,186.6900748169621,179.6875283788996,172.88250023278727,167.30998830487772,161.32739957997765,155.26019847197256,149.52928908927956,144.63840989429647,140.54135376423983,137.10987842496655,133.64519145588477,129.98852533210263,127.89498651545217]},\"selected\":{\"id\":\"6116\",\"type\":\"Selection\"},\"selection_policy\":{\"id\":\"6115\",\"type\":\"UnionRenderers\"}},\"id\":\"5846\",\"type\":\"ColumnDataSource\"},{\"attributes\":{\"bottom_units\":\"screen\",\"fill_alpha\":{\"value\":0.5},\"fill_color\":{\"value\":\"lightgrey\"},\"left_units\":\"screen\",\"level\":\"overlay\",\"line_alpha\":{\"value\":1.0},\"line_color\":{\"value\":\"black\"},\"line_dash\":[4,4],\"line_width\":{\"value\":2},\"render_mode\":\"css\",\"right_units\":\"screen\",\"top_units\":\"screen\"},\"id\":\"5822\",\"type\":\"BoxAnnotation\"},{\"attributes\":{},\"id\":\"5795\",\"type\":\"BasicTicker\"},{\"attributes\":{\"fill_color\":{\"value\":\"#5430F1\"},\"line_color\":{\"value\":\"#5430F1\"},\"line_width\":{\"value\":3},\"x\":{\"field\":\"x\"},\"y\":{\"field\":\"y\"}},\"id\":\"5847\",\"type\":\"Circle\"},{\"attributes\":{\"items\":[{\"id\":\"5824\",\"type\":\"LegendItem\"},{\"id\":\"5845\",\"type\":\"LegendItem\"}],\"location\":\"bottom_left\"},\"id\":\"5823\",\"type\":\"Legend\"},{\"attributes\":{\"dimension\":1,\"grid_line_alpha\":0.5,\"ticker\":{\"id\":\"5795\",\"type\":\"BasicTicker\"}},\"id\":\"5798\",\"type\":\"Grid\"},{\"attributes\":{\"fill_alpha\":{\"value\":0.1},\"fill_color\":{\"value\":\"#1f77b4\"},\"line_alpha\":{\"value\":0.1},\"line_color\":{\"value\":\"#1f77b4\"},\"line_width\":{\"value\":3},\"x\":{\"field\":\"x\"},\"y\":{\"field\":\"y\"}},\"id\":\"5848\",\"type\":\"Circle\"},{\"attributes\":{\"label\":{\"value\":\"LDCs\"},\"renderers\":[{\"id\":\"5815\",\"type\":\"GlyphRenderer\"}]},\"id\":\"5824\",\"type\":\"LegendItem\"},{\"attributes\":{\"data_source\":{\"id\":\"5846\",\"type\":\"ColumnDataSource\"},\"glyph\":{\"id\":\"5847\",\"type\":\"Circle\"},\"hover_glyph\":null,\"muted_glyph\":null,\"nonselection_glyph\":{\"id\":\"5848\",\"type\":\"Circle\"},\"selection_glyph\":null,\"view\":{\"id\":\"5850\",\"type\":\"CDSView\"}},\"id\":\"5849\",\"type\":\"GlyphRenderer\"},{\"attributes\":{\"line_color\":\"#FA1857\",\"x\":{\"field\":\"x\"},\"y\":{\"field\":\"y\"}},\"id\":\"5813\",\"type\":\"Line\"},{\"attributes\":{\"callback\":null,\"data\":{\"x\":[\"2000\",\"2001\",\"2002\",\"2003\",\"2004\",\"2005\",\"2006\",\"2007\",\"2008\",\"2009\",\"2010\",\"2011\",\"2012\",\"2013\",\"2014\",\"2015\",\"2016\",\"2017\"],\"y\":[707.531739364374,683.283841045393,664.7414975773867,642.2893584675744,617.168252539152,585.3156477244164,558.0368400964686,533.8385872165519,513.0331627922752,494.0011262280731,475.11407864456663,457.69536641876675,442.6467497166802,428.52376993081737,415.93865365234706,401.1090399695652,387.80267341348326,376.40298034245205]},\"selected\":{\"id\":\"5843\",\"type\":\"Selection\"},\"selection_policy\":{\"id\":\"5842\",\"type\":\"UnionRenderers\"}},\"id\":\"5825\",\"type\":\"ColumnDataSource\"},{\"attributes\":{\"callback\":null,\"data\":{\"x\":[\"2000\",\"2001\",\"2002\",\"2003\",\"2004\",\"2005\",\"2006\",\"2007\",\"2008\",\"2009\",\"2010\",\"2011\",\"2012\",\"2013\",\"2014\",\"2015\",\"2016\",\"2017\"],\"y\":[707.531739364374,683.283841045393,664.7414975773867,642.2893584675744,617.168252539152,585.3156477244164,558.0368400964686,533.8385872165519,513.0331627922752,494.0011262280731,475.11407864456663,457.69536641876675,442.6467497166802,428.52376993081737,415.93865365234706,401.1090399695652,387.80267341348326,376.40298034245205]},\"selected\":{\"id\":\"5841\",\"type\":\"Selection\"},\"selection_policy\":{\"id\":\"5840\",\"type\":\"UnionRenderers\"}},\"id\":\"5812\",\"type\":\"ColumnDataSource\"},{\"attributes\":{\"source\":{\"id\":\"5846\",\"type\":\"ColumnDataSource\"}},\"id\":\"5850\",\"type\":\"CDSView\"},{\"attributes\":{\"fill_color\":{\"value\":\"#FA1857\"},\"line_color\":{\"value\":\"#FA1857\"},\"line_width\":{\"value\":3},\"x\":{\"field\":\"x\"},\"y\":{\"field\":\"y\"}},\"id\":\"5826\",\"type\":\"Circle\"},{\"attributes\":{\"callback\":null,\"tooltips\":\"                \\n        <div style=padding=5px>Year:@x</div>\\n        <div style=padding=5px>Value:@y</div>        \\n        \"},\"id\":\"5851\",\"type\":\"HoverTool\"},{\"attributes\":{\"fill_alpha\":{\"value\":0.1},\"fill_color\":{\"value\":\"#1f77b4\"},\"line_alpha\":{\"value\":0.1},\"line_color\":{\"value\":\"#1f77b4\"},\"line_width\":{\"value\":3},\"x\":{\"field\":\"x\"},\"y\":{\"field\":\"y\"}},\"id\":\"5827\",\"type\":\"Circle\"},{\"attributes\":{},\"id\":\"5799\",\"type\":\"PanTool\"},{\"attributes\":{},\"id\":\"6113\",\"type\":\"UnionRenderers\"},{\"attributes\":{\"data_source\":{\"id\":\"5825\",\"type\":\"ColumnDataSource\"},\"glyph\":{\"id\":\"5826\",\"type\":\"Circle\"},\"hover_glyph\":null,\"muted_glyph\":null,\"nonselection_glyph\":{\"id\":\"5827\",\"type\":\"Circle\"},\"selection_glyph\":null,\"view\":{\"id\":\"5829\",\"type\":\"CDSView\"}},\"id\":\"5828\",\"type\":\"GlyphRenderer\"},{\"attributes\":{},\"id\":\"5800\",\"type\":\"WheelZoomTool\"},{\"attributes\":{},\"id\":\"6114\",\"type\":\"Selection\"},{\"attributes\":{\"source\":{\"id\":\"5825\",\"type\":\"ColumnDataSource\"}},\"id\":\"5829\",\"type\":\"CDSView\"},{\"attributes\":{\"overlay\":{\"id\":\"5822\",\"type\":\"BoxAnnotation\"}},\"id\":\"5801\",\"type\":\"BoxZoomTool\"},{\"attributes\":{},\"id\":\"6115\",\"type\":\"UnionRenderers\"},{\"attributes\":{\"callback\":null,\"data\":{\"x\":[\"2000\",\"2001\",\"2002\",\"2003\",\"2004\",\"2005\",\"2006\",\"2007\",\"2008\",\"2009\",\"2010\",\"2011\",\"2012\",\"2013\",\"2014\",\"2015\",\"2016\",\"2017\"],\"y\":[219.59332239180722,213.79178224882705,206.7101391641294,200.94829957227932,194.47262113081396,186.6900748169621,179.6875283788996,172.88250023278727,167.30998830487772,161.32739957997765,155.26019847197256,149.52928908927956,144.63840989429647,140.54135376423983,137.10987842496655,133.64519145588477,129.98852533210263,127.89498651545217]},\"selected\":{\"id\":\"6114\",\"type\":\"Selection\"},\"selection_policy\":{\"id\":\"6113\",\"type\":\"UnionRenderers\"}},\"id\":\"5830\",\"type\":\"ColumnDataSource\"},{\"attributes\":{},\"id\":\"5802\",\"type\":\"SaveTool\"},{\"attributes\":{},\"id\":\"6116\",\"type\":\"Selection\"},{\"attributes\":{\"line_color\":\"#5430F1\",\"x\":{\"field\":\"x\"},\"y\":{\"field\":\"y\"}},\"id\":\"5831\",\"type\":\"Line\"},{\"attributes\":{},\"id\":\"5803\",\"type\":\"ResetTool\"},{\"attributes\":{\"text\":\"Maternal mortality ratio (modeled estimate, per 100,000 live births) weighted against Population, female\"},\"id\":\"5779\",\"type\":\"Title\"},{\"attributes\":{\"line_alpha\":0.1,\"line_color\":\"#1f77b4\",\"x\":{\"field\":\"x\"},\"y\":{\"field\":\"y\"}},\"id\":\"5832\",\"type\":\"Line\"},{\"attributes\":{},\"id\":\"5804\",\"type\":\"HelpTool\"},{\"attributes\":{\"callback\":null},\"id\":\"5781\",\"type\":\"DataRange1d\"},{\"attributes\":{\"data_source\":{\"id\":\"5830\",\"type\":\"ColumnDataSource\"},\"glyph\":{\"id\":\"5831\",\"type\":\"Line\"},\"hover_glyph\":null,\"muted_glyph\":null,\"nonselection_glyph\":{\"id\":\"5832\",\"type\":\"Line\"},\"selection_glyph\":null,\"view\":{\"id\":\"5834\",\"type\":\"CDSView\"}},\"id\":\"5833\",\"type\":\"GlyphRenderer\"},{\"attributes\":{\"line_alpha\":0.1,\"line_color\":\"#1f77b4\",\"x\":{\"field\":\"x\"},\"y\":{\"field\":\"y\"}},\"id\":\"5814\",\"type\":\"Line\"},{\"attributes\":{\"callback\":null},\"id\":\"5783\",\"type\":\"DataRange1d\"}],\"root_ids\":[\"5778\"]},\"title\":\"Bokeh Application\",\"version\":\"1.3.4\"}};\n",
       "  var render_items = [{\"docid\":\"2d8323b1-414a-4c52-a33f-3c13469d8adc\",\"roots\":{\"5778\":\"2d22467b-8697-4003-a552-9b79d438f918\"}}];\n",
       "  root.Bokeh.embed.embed_items_notebook(docs_json, render_items);\n",
       "\n",
       "  }\n",
       "  if (root.Bokeh !== undefined) {\n",
       "    embed_document(root);\n",
       "  } else {\n",
       "    var attempts = 0;\n",
       "    var timer = setInterval(function(root) {\n",
       "      if (root.Bokeh !== undefined) {\n",
       "        embed_document(root);\n",
       "        clearInterval(timer);\n",
       "      }\n",
       "      attempts++;\n",
       "      if (attempts > 100) {\n",
       "        console.log(\"Bokeh: ERROR: Unable to run BokehJS code because BokehJS library is missing\");\n",
       "        clearInterval(timer);\n",
       "      }\n",
       "    }, 10, root)\n",
       "  }\n",
       "})(window);"
      ],
      "application/vnd.bokehjs_exec.v0+json": ""
     },
     "metadata": {
      "application/vnd.bokehjs_exec.v0+json": {
       "id": "5778"
      }
     },
     "output_type": "display_data"
    }
   ],
   "source": [
    "# Maternal mortality ratio\n",
    "years = list(map(str, list(range(2000,2018))))\n",
    "result = show_weighted_average(years, 'SH.STA.MMRT', 'SP.POP.TOTL.FE.IN', ['LDCs', 'Developing excluding LDCs'])"
   ]
  },
  {
   "cell_type": "code",
   "execution_count": 20,
   "metadata": {
    "ExecuteTime": {
     "end_time": "2019-10-25T14:25:37.466675Z",
     "start_time": "2019-10-25T14:25:33.236157Z"
    },
    "slideshow": {
     "slide_type": "slide"
    }
   },
   "outputs": [
    {
     "data": {
      "text/html": [
       "\n",
       "\n",
       "\n",
       "\n",
       "\n",
       "\n",
       "  <div class=\"bk-root\" id=\"1178e338-63c6-4ccb-a4c6-40aca1bb21cb\" data-root-id=\"6202\"></div>\n"
      ]
     },
     "metadata": {},
     "output_type": "display_data"
    },
    {
     "data": {
      "application/javascript": [
       "(function(root) {\n",
       "  function embed_document(root) {\n",
       "    \n",
       "  var docs_json = {\"0805efd4-e01e-4425-8029-fdf42b658f9d\":{\"roots\":{\"references\":[{\"attributes\":{\"below\":[{\"id\":\"6213\",\"type\":\"LinearAxis\"}],\"center\":[{\"id\":\"6217\",\"type\":\"Grid\"},{\"id\":\"6222\",\"type\":\"Grid\"},{\"id\":\"6247\",\"type\":\"Legend\"}],\"left\":[{\"id\":\"6218\",\"type\":\"LinearAxis\"}],\"plot_height\":400,\"plot_width\":800,\"renderers\":[{\"id\":\"6239\",\"type\":\"GlyphRenderer\"},{\"id\":\"6252\",\"type\":\"GlyphRenderer\"},{\"id\":\"6257\",\"type\":\"GlyphRenderer\"},{\"id\":\"6273\",\"type\":\"GlyphRenderer\"}],\"title\":{\"id\":\"6203\",\"type\":\"Title\"},\"toolbar\":{\"id\":\"6229\",\"type\":\"Toolbar\"},\"x_range\":{\"id\":\"6205\",\"type\":\"DataRange1d\"},\"x_scale\":{\"id\":\"6209\",\"type\":\"LinearScale\"},\"y_range\":{\"id\":\"6207\",\"type\":\"DataRange1d\"},\"y_scale\":{\"id\":\"6211\",\"type\":\"LinearScale\"}},\"id\":\"6202\",\"subtype\":\"Figure\",\"type\":\"Plot\"},{\"attributes\":{\"callback\":null,\"data\":{\"x\":[\"2000\",\"2001\",\"2002\",\"2003\",\"2004\",\"2005\",\"2006\",\"2007\",\"2008\",\"2009\",\"2010\",\"2011\",\"2012\",\"2013\",\"2014\",\"2015\",\"2016\",\"2017\"],\"y\":[81.69737664551816,78.7776742491001,75.79362231840066,72.85366195554936,69.98405325689488,67.2302438001353,64.64697239792967,62.09970211682473,59.955823257655744,57.44271974761365,55.609782399199666,53.204853479803546,51.33747517746826,49.57214439495452,47.923201331929235,46.39163855174094,44.93241266562697,43.528829212630185]},\"selected\":{\"id\":\"6265\",\"type\":\"Selection\"},\"selection_policy\":{\"id\":\"6264\",\"type\":\"UnionRenderers\"}},\"id\":\"6236\",\"type\":\"ColumnDataSource\"},{\"attributes\":{},\"id\":\"6244\",\"type\":\"BasicTickFormatter\"},{\"attributes\":{\"callback\":null},\"id\":\"6207\",\"type\":\"DataRange1d\"},{\"attributes\":{\"axis_label\":\"Years\",\"formatter\":{\"id\":\"6244\",\"type\":\"BasicTickFormatter\"},\"ticker\":{\"id\":\"6214\",\"type\":\"BasicTicker\"}},\"id\":\"6213\",\"type\":\"LinearAxis\"},{\"attributes\":{\"data_source\":{\"id\":\"6270\",\"type\":\"ColumnDataSource\"},\"glyph\":{\"id\":\"6271\",\"type\":\"Circle\"},\"hover_glyph\":null,\"muted_glyph\":null,\"nonselection_glyph\":{\"id\":\"6272\",\"type\":\"Circle\"},\"selection_glyph\":null,\"view\":{\"id\":\"6274\",\"type\":\"CDSView\"}},\"id\":\"6273\",\"type\":\"GlyphRenderer\"},{\"attributes\":{\"grid_line_color\":null,\"ticker\":{\"id\":\"6214\",\"type\":\"BasicTicker\"}},\"id\":\"6217\",\"type\":\"Grid\"},{\"attributes\":{\"bottom_units\":\"screen\",\"fill_alpha\":{\"value\":0.5},\"fill_color\":{\"value\":\"lightgrey\"},\"left_units\":\"screen\",\"level\":\"overlay\",\"line_alpha\":{\"value\":1.0},\"line_color\":{\"value\":\"black\"},\"line_dash\":[4,4],\"line_width\":{\"value\":2},\"render_mode\":\"css\",\"right_units\":\"screen\",\"top_units\":\"screen\"},\"id\":\"6246\",\"type\":\"BoxAnnotation\"},{\"attributes\":{\"line_color\":\"#FA1857\",\"x\":{\"field\":\"x\"},\"y\":{\"field\":\"y\"}},\"id\":\"6237\",\"type\":\"Line\"},{\"attributes\":{\"callback\":null,\"tooltips\":\"                \\n        <div style=padding=5px>Year:@x</div>\\n        <div style=padding=5px>Value:@y</div>        \\n        \"},\"id\":\"6275\",\"type\":\"HoverTool\"},{\"attributes\":{},\"id\":\"6554\",\"type\":\"Selection\"},{\"attributes\":{\"axis_label\":\"SP.DYN.IMRT.IN\",\"formatter\":{\"id\":\"6242\",\"type\":\"BasicTickFormatter\"},\"ticker\":{\"id\":\"6219\",\"type\":\"BasicTicker\"}},\"id\":\"6218\",\"type\":\"LinearAxis\"},{\"attributes\":{},\"id\":\"6552\",\"type\":\"Selection\"},{\"attributes\":{},\"id\":\"6223\",\"type\":\"PanTool\"},{\"attributes\":{\"line_alpha\":0.1,\"line_color\":\"#1f77b4\",\"x\":{\"field\":\"x\"},\"y\":{\"field\":\"y\"}},\"id\":\"6256\",\"type\":\"Line\"},{\"attributes\":{},\"id\":\"6551\",\"type\":\"UnionRenderers\"},{\"attributes\":{\"callback\":null,\"data\":{\"x\":[\"2000\",\"2001\",\"2002\",\"2003\",\"2004\",\"2005\",\"2006\",\"2007\",\"2008\",\"2009\",\"2010\",\"2011\",\"2012\",\"2013\",\"2014\",\"2015\",\"2016\",\"2017\"],\"y\":[45.78578383486713,44.031337681921,42.299199545339675,40.54757027872643,38.98089862139654,37.254607293482884,35.73002700694259,34.25452486812492,32.831847885572984,31.511479629869857,30.239629828962936,29.032021703430917,27.851114277234785,26.780028383299534,25.710035808823015,24.679313694191894,23.770222266419392,22.83221285696215]},\"selected\":{\"id\":\"6554\",\"type\":\"Selection\"},\"selection_policy\":{\"id\":\"6553\",\"type\":\"UnionRenderers\"}},\"id\":\"6270\",\"type\":\"ColumnDataSource\"},{\"attributes\":{},\"id\":\"6211\",\"type\":\"LinearScale\"},{\"attributes\":{\"dimension\":1,\"grid_line_alpha\":0.5,\"ticker\":{\"id\":\"6219\",\"type\":\"BasicTicker\"}},\"id\":\"6222\",\"type\":\"Grid\"},{\"attributes\":{},\"id\":\"6242\",\"type\":\"BasicTickFormatter\"},{\"attributes\":{\"source\":{\"id\":\"6254\",\"type\":\"ColumnDataSource\"}},\"id\":\"6258\",\"type\":\"CDSView\"},{\"attributes\":{},\"id\":\"6226\",\"type\":\"SaveTool\"},{\"attributes\":{\"callback\":null},\"id\":\"6205\",\"type\":\"DataRange1d\"},{\"attributes\":{\"label\":{\"value\":\"Developing excluding LDCs\"},\"renderers\":[{\"id\":\"6257\",\"type\":\"GlyphRenderer\"}]},\"id\":\"6269\",\"type\":\"LegendItem\"},{\"attributes\":{\"source\":{\"id\":\"6236\",\"type\":\"ColumnDataSource\"}},\"id\":\"6240\",\"type\":\"CDSView\"},{\"attributes\":{},\"id\":\"6553\",\"type\":\"UnionRenderers\"},{\"attributes\":{\"fill_alpha\":{\"value\":0.1},\"fill_color\":{\"value\":\"#1f77b4\"},\"line_alpha\":{\"value\":0.1},\"line_color\":{\"value\":\"#1f77b4\"},\"line_width\":{\"value\":3},\"x\":{\"field\":\"x\"},\"y\":{\"field\":\"y\"}},\"id\":\"6272\",\"type\":\"Circle\"},{\"attributes\":{},\"id\":\"6214\",\"type\":\"BasicTicker\"},{\"attributes\":{},\"id\":\"6267\",\"type\":\"Selection\"},{\"attributes\":{\"text\":\"Mortality rate, infant (per 1,000 live births) weighted against Population, total\"},\"id\":\"6203\",\"type\":\"Title\"},{\"attributes\":{\"items\":[{\"id\":\"6248\",\"type\":\"LegendItem\"},{\"id\":\"6269\",\"type\":\"LegendItem\"}],\"location\":\"bottom_left\"},\"id\":\"6247\",\"type\":\"Legend\"},{\"attributes\":{\"source\":{\"id\":\"6270\",\"type\":\"ColumnDataSource\"}},\"id\":\"6274\",\"type\":\"CDSView\"},{\"attributes\":{\"line_color\":\"#5430F1\",\"x\":{\"field\":\"x\"},\"y\":{\"field\":\"y\"}},\"id\":\"6255\",\"type\":\"Line\"},{\"attributes\":{\"callback\":null,\"data\":{\"x\":[\"2000\",\"2001\",\"2002\",\"2003\",\"2004\",\"2005\",\"2006\",\"2007\",\"2008\",\"2009\",\"2010\",\"2011\",\"2012\",\"2013\",\"2014\",\"2015\",\"2016\",\"2017\"],\"y\":[45.78578383486713,44.031337681921,42.299199545339675,40.54757027872643,38.98089862139654,37.254607293482884,35.73002700694259,34.25452486812492,32.831847885572984,31.511479629869857,30.239629828962936,29.032021703430917,27.851114277234785,26.780028383299534,25.710035808823015,24.679313694191894,23.770222266419392,22.83221285696215]},\"selected\":{\"id\":\"6552\",\"type\":\"Selection\"},\"selection_policy\":{\"id\":\"6551\",\"type\":\"UnionRenderers\"}},\"id\":\"6254\",\"type\":\"ColumnDataSource\"},{\"attributes\":{\"overlay\":{\"id\":\"6246\",\"type\":\"BoxAnnotation\"}},\"id\":\"6225\",\"type\":\"BoxZoomTool\"},{\"attributes\":{\"fill_color\":{\"value\":\"#FA1857\"},\"line_color\":{\"value\":\"#FA1857\"},\"line_width\":{\"value\":3},\"x\":{\"field\":\"x\"},\"y\":{\"field\":\"y\"}},\"id\":\"6250\",\"type\":\"Circle\"},{\"attributes\":{},\"id\":\"6219\",\"type\":\"BasicTicker\"},{\"attributes\":{},\"id\":\"6224\",\"type\":\"WheelZoomTool\"},{\"attributes\":{},\"id\":\"6209\",\"type\":\"LinearScale\"},{\"attributes\":{\"active_drag\":\"auto\",\"active_inspect\":\"auto\",\"active_multi\":null,\"active_scroll\":\"auto\",\"active_tap\":\"auto\",\"tools\":[{\"id\":\"6223\",\"type\":\"PanTool\"},{\"id\":\"6224\",\"type\":\"WheelZoomTool\"},{\"id\":\"6225\",\"type\":\"BoxZoomTool\"},{\"id\":\"6226\",\"type\":\"SaveTool\"},{\"id\":\"6227\",\"type\":\"ResetTool\"},{\"id\":\"6228\",\"type\":\"HelpTool\"},{\"id\":\"6275\",\"type\":\"HoverTool\"}]},\"id\":\"6229\",\"type\":\"Toolbar\"},{\"attributes\":{\"source\":{\"id\":\"6249\",\"type\":\"ColumnDataSource\"}},\"id\":\"6253\",\"type\":\"CDSView\"},{\"attributes\":{\"data_source\":{\"id\":\"6249\",\"type\":\"ColumnDataSource\"},\"glyph\":{\"id\":\"6250\",\"type\":\"Circle\"},\"hover_glyph\":null,\"muted_glyph\":null,\"nonselection_glyph\":{\"id\":\"6251\",\"type\":\"Circle\"},\"selection_glyph\":null,\"view\":{\"id\":\"6253\",\"type\":\"CDSView\"}},\"id\":\"6252\",\"type\":\"GlyphRenderer\"},{\"attributes\":{\"line_alpha\":0.1,\"line_color\":\"#1f77b4\",\"x\":{\"field\":\"x\"},\"y\":{\"field\":\"y\"}},\"id\":\"6238\",\"type\":\"Line\"},{\"attributes\":{},\"id\":\"6227\",\"type\":\"ResetTool\"},{\"attributes\":{},\"id\":\"6266\",\"type\":\"UnionRenderers\"},{\"attributes\":{\"label\":{\"value\":\"LDCs\"},\"renderers\":[{\"id\":\"6239\",\"type\":\"GlyphRenderer\"}]},\"id\":\"6248\",\"type\":\"LegendItem\"},{\"attributes\":{\"fill_color\":{\"value\":\"#5430F1\"},\"line_color\":{\"value\":\"#5430F1\"},\"line_width\":{\"value\":3},\"x\":{\"field\":\"x\"},\"y\":{\"field\":\"y\"}},\"id\":\"6271\",\"type\":\"Circle\"},{\"attributes\":{\"data_source\":{\"id\":\"6236\",\"type\":\"ColumnDataSource\"},\"glyph\":{\"id\":\"6237\",\"type\":\"Line\"},\"hover_glyph\":null,\"muted_glyph\":null,\"nonselection_glyph\":{\"id\":\"6238\",\"type\":\"Line\"},\"selection_glyph\":null,\"view\":{\"id\":\"6240\",\"type\":\"CDSView\"}},\"id\":\"6239\",\"type\":\"GlyphRenderer\"},{\"attributes\":{\"fill_alpha\":{\"value\":0.1},\"fill_color\":{\"value\":\"#1f77b4\"},\"line_alpha\":{\"value\":0.1},\"line_color\":{\"value\":\"#1f77b4\"},\"line_width\":{\"value\":3},\"x\":{\"field\":\"x\"},\"y\":{\"field\":\"y\"}},\"id\":\"6251\",\"type\":\"Circle\"},{\"attributes\":{},\"id\":\"6264\",\"type\":\"UnionRenderers\"},{\"attributes\":{\"callback\":null,\"data\":{\"x\":[\"2000\",\"2001\",\"2002\",\"2003\",\"2004\",\"2005\",\"2006\",\"2007\",\"2008\",\"2009\",\"2010\",\"2011\",\"2012\",\"2013\",\"2014\",\"2015\",\"2016\",\"2017\"],\"y\":[81.69737664551816,78.7776742491001,75.79362231840066,72.85366195554936,69.98405325689488,67.2302438001353,64.64697239792967,62.09970211682473,59.955823257655744,57.44271974761365,55.609782399199666,53.204853479803546,51.33747517746826,49.57214439495452,47.923201331929235,46.39163855174094,44.93241266562697,43.528829212630185]},\"selected\":{\"id\":\"6267\",\"type\":\"Selection\"},\"selection_policy\":{\"id\":\"6266\",\"type\":\"UnionRenderers\"}},\"id\":\"6249\",\"type\":\"ColumnDataSource\"},{\"attributes\":{},\"id\":\"6228\",\"type\":\"HelpTool\"},{\"attributes\":{\"data_source\":{\"id\":\"6254\",\"type\":\"ColumnDataSource\"},\"glyph\":{\"id\":\"6255\",\"type\":\"Line\"},\"hover_glyph\":null,\"muted_glyph\":null,\"nonselection_glyph\":{\"id\":\"6256\",\"type\":\"Line\"},\"selection_glyph\":null,\"view\":{\"id\":\"6258\",\"type\":\"CDSView\"}},\"id\":\"6257\",\"type\":\"GlyphRenderer\"},{\"attributes\":{},\"id\":\"6265\",\"type\":\"Selection\"}],\"root_ids\":[\"6202\"]},\"title\":\"Bokeh Application\",\"version\":\"1.3.4\"}};\n",
       "  var render_items = [{\"docid\":\"0805efd4-e01e-4425-8029-fdf42b658f9d\",\"roots\":{\"6202\":\"1178e338-63c6-4ccb-a4c6-40aca1bb21cb\"}}];\n",
       "  root.Bokeh.embed.embed_items_notebook(docs_json, render_items);\n",
       "\n",
       "  }\n",
       "  if (root.Bokeh !== undefined) {\n",
       "    embed_document(root);\n",
       "  } else {\n",
       "    var attempts = 0;\n",
       "    var timer = setInterval(function(root) {\n",
       "      if (root.Bokeh !== undefined) {\n",
       "        embed_document(root);\n",
       "        clearInterval(timer);\n",
       "      }\n",
       "      attempts++;\n",
       "      if (attempts > 100) {\n",
       "        console.log(\"Bokeh: ERROR: Unable to run BokehJS code because BokehJS library is missing\");\n",
       "        clearInterval(timer);\n",
       "      }\n",
       "    }, 10, root)\n",
       "  }\n",
       "})(window);"
      ],
      "application/vnd.bokehjs_exec.v0+json": ""
     },
     "metadata": {
      "application/vnd.bokehjs_exec.v0+json": {
       "id": "6202"
      }
     },
     "output_type": "display_data"
    }
   ],
   "source": [
    "# Infant mortality rate\n",
    "years = list(map(str, list(range(2000,2018))))\n",
    "result = show_weighted_average(years, 'SP.DYN.IMRT.IN', 'SP.POP.TOTL', ['LDCs', 'Developing excluding LDCs'])"
   ]
  },
  {
   "cell_type": "markdown",
   "metadata": {
    "slideshow": {
     "slide_type": "slide"
    }
   },
   "source": [
    "# Education and training"
   ]
  },
  {
   "cell_type": "code",
   "execution_count": 21,
   "metadata": {
    "slideshow": {
     "slide_type": "slide"
    }
   },
   "outputs": [
    {
     "data": {
      "text/html": [
       "\n",
       "\n",
       "\n",
       "\n",
       "\n",
       "\n",
       "  <div class=\"bk-root\" id=\"ada561d3-83a4-474a-9072-f29c2556c2d2\" data-root-id=\"6640\"></div>\n"
      ]
     },
     "metadata": {},
     "output_type": "display_data"
    },
    {
     "data": {
      "application/javascript": [
       "(function(root) {\n",
       "  function embed_document(root) {\n",
       "    \n",
       "  var docs_json = {\"12099f3c-245f-419a-88d5-ff22193e5f39\":{\"roots\":{\"references\":[{\"attributes\":{\"below\":[{\"id\":\"6651\",\"type\":\"LinearAxis\"}],\"center\":[{\"id\":\"6655\",\"type\":\"Grid\"},{\"id\":\"6660\",\"type\":\"Grid\"},{\"id\":\"6685\",\"type\":\"Legend\"}],\"left\":[{\"id\":\"6656\",\"type\":\"LinearAxis\"}],\"plot_height\":400,\"plot_width\":800,\"renderers\":[{\"id\":\"6677\",\"type\":\"GlyphRenderer\"},{\"id\":\"6690\",\"type\":\"GlyphRenderer\"}],\"title\":{\"id\":\"6641\",\"type\":\"Title\"},\"toolbar\":{\"id\":\"6667\",\"type\":\"Toolbar\"},\"x_range\":{\"id\":\"6643\",\"type\":\"DataRange1d\"},\"x_scale\":{\"id\":\"6647\",\"type\":\"LinearScale\"},\"y_range\":{\"id\":\"6645\",\"type\":\"DataRange1d\"},\"y_scale\":{\"id\":\"6649\",\"type\":\"LinearScale\"}},\"id\":\"6640\",\"subtype\":\"Figure\",\"type\":\"Plot\"},{\"attributes\":{\"callback\":null},\"id\":\"6643\",\"type\":\"DataRange1d\"},{\"attributes\":{},\"id\":\"6680\",\"type\":\"BasicTickFormatter\"},{\"attributes\":{},\"id\":\"6649\",\"type\":\"LinearScale\"},{\"attributes\":{\"items\":[{\"id\":\"6686\",\"type\":\"LegendItem\"}],\"location\":\"bottom_left\"},\"id\":\"6685\",\"type\":\"Legend\"},{\"attributes\":{\"text\":\"School enrollment, primary (% gross) weighted against Population, total\"},\"id\":\"6641\",\"type\":\"Title\"},{\"attributes\":{\"callback\":null,\"data\":{\"x\":[\"2011\",\"2016\"],\"y\":[102.40504842979927,101.785654111482]},\"selected\":{\"id\":\"6979\",\"type\":\"Selection\"},\"selection_policy\":{\"id\":\"6978\",\"type\":\"UnionRenderers\"}},\"id\":\"6674\",\"type\":\"ColumnDataSource\"},{\"attributes\":{\"dimension\":1,\"grid_line_alpha\":0.5,\"ticker\":{\"id\":\"6657\",\"type\":\"BasicTicker\"}},\"id\":\"6660\",\"type\":\"Grid\"},{\"attributes\":{},\"id\":\"6665\",\"type\":\"ResetTool\"},{\"attributes\":{\"callback\":null},\"id\":\"6645\",\"type\":\"DataRange1d\"},{\"attributes\":{\"source\":{\"id\":\"6687\",\"type\":\"ColumnDataSource\"}},\"id\":\"6691\",\"type\":\"CDSView\"},{\"attributes\":{\"axis_label\":\"Years\",\"formatter\":{\"id\":\"6682\",\"type\":\"BasicTickFormatter\"},\"ticker\":{\"id\":\"6652\",\"type\":\"BasicTicker\"}},\"id\":\"6651\",\"type\":\"LinearAxis\"},{\"attributes\":{\"label\":{\"value\":\"LDCs\"},\"renderers\":[{\"id\":\"6677\",\"type\":\"GlyphRenderer\"}]},\"id\":\"6686\",\"type\":\"LegendItem\"},{\"attributes\":{\"fill_color\":{\"value\":\"#FA1857\"},\"line_color\":{\"value\":\"#FA1857\"},\"line_width\":{\"value\":3},\"x\":{\"field\":\"x\"},\"y\":{\"field\":\"y\"}},\"id\":\"6688\",\"type\":\"Circle\"},{\"attributes\":{},\"id\":\"6661\",\"type\":\"PanTool\"},{\"attributes\":{},\"id\":\"6980\",\"type\":\"UnionRenderers\"},{\"attributes\":{\"grid_line_color\":null,\"ticker\":{\"id\":\"6652\",\"type\":\"BasicTicker\"}},\"id\":\"6655\",\"type\":\"Grid\"},{\"attributes\":{},\"id\":\"6664\",\"type\":\"SaveTool\"},{\"attributes\":{},\"id\":\"6647\",\"type\":\"LinearScale\"},{\"attributes\":{\"fill_alpha\":{\"value\":0.1},\"fill_color\":{\"value\":\"#1f77b4\"},\"line_alpha\":{\"value\":0.1},\"line_color\":{\"value\":\"#1f77b4\"},\"line_width\":{\"value\":3},\"x\":{\"field\":\"x\"},\"y\":{\"field\":\"y\"}},\"id\":\"6689\",\"type\":\"Circle\"},{\"attributes\":{},\"id\":\"6662\",\"type\":\"WheelZoomTool\"},{\"attributes\":{},\"id\":\"6979\",\"type\":\"Selection\"},{\"attributes\":{\"line_color\":\"#FA1857\",\"x\":{\"field\":\"x\"},\"y\":{\"field\":\"y\"}},\"id\":\"6675\",\"type\":\"Line\"},{\"attributes\":{\"data_source\":{\"id\":\"6674\",\"type\":\"ColumnDataSource\"},\"glyph\":{\"id\":\"6675\",\"type\":\"Line\"},\"hover_glyph\":null,\"muted_glyph\":null,\"nonselection_glyph\":{\"id\":\"6676\",\"type\":\"Line\"},\"selection_glyph\":null,\"view\":{\"id\":\"6678\",\"type\":\"CDSView\"}},\"id\":\"6677\",\"type\":\"GlyphRenderer\"},{\"attributes\":{\"overlay\":{\"id\":\"6684\",\"type\":\"BoxAnnotation\"}},\"id\":\"6663\",\"type\":\"BoxZoomTool\"},{\"attributes\":{\"line_alpha\":0.1,\"line_color\":\"#1f77b4\",\"x\":{\"field\":\"x\"},\"y\":{\"field\":\"y\"}},\"id\":\"6676\",\"type\":\"Line\"},{\"attributes\":{\"axis_label\":\"SE.PRM.ENRR\",\"formatter\":{\"id\":\"6680\",\"type\":\"BasicTickFormatter\"},\"ticker\":{\"id\":\"6657\",\"type\":\"BasicTicker\"}},\"id\":\"6656\",\"type\":\"LinearAxis\"},{\"attributes\":{},\"id\":\"6666\",\"type\":\"HelpTool\"},{\"attributes\":{},\"id\":\"6981\",\"type\":\"Selection\"},{\"attributes\":{\"bottom_units\":\"screen\",\"fill_alpha\":{\"value\":0.5},\"fill_color\":{\"value\":\"lightgrey\"},\"left_units\":\"screen\",\"level\":\"overlay\",\"line_alpha\":{\"value\":1.0},\"line_color\":{\"value\":\"black\"},\"line_dash\":[4,4],\"line_width\":{\"value\":2},\"render_mode\":\"css\",\"right_units\":\"screen\",\"top_units\":\"screen\"},\"id\":\"6684\",\"type\":\"BoxAnnotation\"},{\"attributes\":{\"source\":{\"id\":\"6674\",\"type\":\"ColumnDataSource\"}},\"id\":\"6678\",\"type\":\"CDSView\"},{\"attributes\":{\"callback\":null,\"tooltips\":\"                \\n        <div style=padding=5px>Year:@x</div>\\n        <div style=padding=5px>Value:@y</div>        \\n        \"},\"id\":\"6692\",\"type\":\"HoverTool\"},{\"attributes\":{},\"id\":\"6657\",\"type\":\"BasicTicker\"},{\"attributes\":{},\"id\":\"6978\",\"type\":\"UnionRenderers\"},{\"attributes\":{\"callback\":null,\"data\":{\"x\":[\"2011\",\"2016\"],\"y\":[102.40504842979927,101.785654111482]},\"selected\":{\"id\":\"6981\",\"type\":\"Selection\"},\"selection_policy\":{\"id\":\"6980\",\"type\":\"UnionRenderers\"}},\"id\":\"6687\",\"type\":\"ColumnDataSource\"},{\"attributes\":{},\"id\":\"6682\",\"type\":\"BasicTickFormatter\"},{\"attributes\":{},\"id\":\"6652\",\"type\":\"BasicTicker\"},{\"attributes\":{\"active_drag\":\"auto\",\"active_inspect\":\"auto\",\"active_multi\":null,\"active_scroll\":\"auto\",\"active_tap\":\"auto\",\"tools\":[{\"id\":\"6661\",\"type\":\"PanTool\"},{\"id\":\"6662\",\"type\":\"WheelZoomTool\"},{\"id\":\"6663\",\"type\":\"BoxZoomTool\"},{\"id\":\"6664\",\"type\":\"SaveTool\"},{\"id\":\"6665\",\"type\":\"ResetTool\"},{\"id\":\"6666\",\"type\":\"HelpTool\"},{\"id\":\"6692\",\"type\":\"HoverTool\"}]},\"id\":\"6667\",\"type\":\"Toolbar\"},{\"attributes\":{\"data_source\":{\"id\":\"6687\",\"type\":\"ColumnDataSource\"},\"glyph\":{\"id\":\"6688\",\"type\":\"Circle\"},\"hover_glyph\":null,\"muted_glyph\":null,\"nonselection_glyph\":{\"id\":\"6689\",\"type\":\"Circle\"},\"selection_glyph\":null,\"view\":{\"id\":\"6691\",\"type\":\"CDSView\"}},\"id\":\"6690\",\"type\":\"GlyphRenderer\"}],\"root_ids\":[\"6640\"]},\"title\":\"Bokeh Application\",\"version\":\"1.3.4\"}};\n",
       "  var render_items = [{\"docid\":\"12099f3c-245f-419a-88d5-ff22193e5f39\",\"roots\":{\"6640\":\"ada561d3-83a4-474a-9072-f29c2556c2d2\"}}];\n",
       "  root.Bokeh.embed.embed_items_notebook(docs_json, render_items);\n",
       "\n",
       "  }\n",
       "  if (root.Bokeh !== undefined) {\n",
       "    embed_document(root);\n",
       "  } else {\n",
       "    var attempts = 0;\n",
       "    var timer = setInterval(function(root) {\n",
       "      if (root.Bokeh !== undefined) {\n",
       "        embed_document(root);\n",
       "        clearInterval(timer);\n",
       "      }\n",
       "      attempts++;\n",
       "      if (attempts > 100) {\n",
       "        console.log(\"Bokeh: ERROR: Unable to run BokehJS code because BokehJS library is missing\");\n",
       "        clearInterval(timer);\n",
       "      }\n",
       "    }, 10, root)\n",
       "  }\n",
       "})(window);"
      ],
      "application/vnd.bokehjs_exec.v0+json": ""
     },
     "metadata": {
      "application/vnd.bokehjs_exec.v0+json": {
       "id": "6640"
      }
     },
     "output_type": "display_data"
    }
   ],
   "source": [
    "# School enrollment, primary\n",
    "years = ['2011', '2016']\n",
    "result = show_weighted_average(years, 'SE.PRM.ENRR', 'SP.POP.TOTL', \n",
    "                               ['LDCs'])"
   ]
  },
  {
   "cell_type": "code",
   "execution_count": 22,
   "metadata": {
    "slideshow": {
     "slide_type": "slide"
    }
   },
   "outputs": [
    {
     "data": {
      "text/html": [
       "\n",
       "\n",
       "\n",
       "\n",
       "\n",
       "\n",
       "  <div class=\"bk-root\" id=\"2119f589-6b13-49f6-bef9-2713033fe35f\" data-root-id=\"7043\"></div>\n"
      ]
     },
     "metadata": {},
     "output_type": "display_data"
    },
    {
     "data": {
      "application/javascript": [
       "(function(root) {\n",
       "  function embed_document(root) {\n",
       "    \n",
       "  var docs_json = {\"1591118e-f1f1-45b3-ae61-4c6e81c7b67e\":{\"roots\":{\"references\":[{\"attributes\":{\"below\":[{\"id\":\"7054\",\"type\":\"LinearAxis\"}],\"center\":[{\"id\":\"7058\",\"type\":\"Grid\"},{\"id\":\"7063\",\"type\":\"Grid\"},{\"id\":\"7088\",\"type\":\"Legend\"}],\"left\":[{\"id\":\"7059\",\"type\":\"LinearAxis\"}],\"plot_height\":400,\"plot_width\":800,\"renderers\":[{\"id\":\"7080\",\"type\":\"GlyphRenderer\"},{\"id\":\"7093\",\"type\":\"GlyphRenderer\"},{\"id\":\"7098\",\"type\":\"GlyphRenderer\"},{\"id\":\"7114\",\"type\":\"GlyphRenderer\"},{\"id\":\"7119\",\"type\":\"GlyphRenderer\"},{\"id\":\"7139\",\"type\":\"GlyphRenderer\"}],\"title\":{\"id\":\"7044\",\"type\":\"Title\"},\"toolbar\":{\"id\":\"7070\",\"type\":\"Toolbar\"},\"x_range\":{\"id\":\"7046\",\"type\":\"DataRange1d\"},\"x_scale\":{\"id\":\"7050\",\"type\":\"LinearScale\"},\"y_range\":{\"id\":\"7048\",\"type\":\"DataRange1d\"},\"y_scale\":{\"id\":\"7052\",\"type\":\"LinearScale\"}},\"id\":\"7043\",\"subtype\":\"Figure\",\"type\":\"Plot\"},{\"attributes\":{},\"id\":\"7108\",\"type\":\"Selection\"},{\"attributes\":{\"callback\":null,\"tooltips\":\"                \\n        <div style=padding=5px>Year:@x</div>\\n        <div style=padding=5px>Value:@y</div>        \\n        \"},\"id\":\"7141\",\"type\":\"HoverTool\"},{\"attributes\":{},\"id\":\"7132\",\"type\":\"UnionRenderers\"},{\"attributes\":{},\"id\":\"7448\",\"type\":\"Selection\"},{\"attributes\":{\"callback\":null,\"data\":{\"x\":[\"2010\",\"2011\",\"2012\",\"2013\",\"2014\",\"2015\",\"2016\",\"2017\"],\"y\":[88.76105292982297,92.43282204315506,92.56607539302803,96.70035095015737,100.62087691561094,101.89857975276283,102.40612104714488,102.75899444809875]},\"selected\":{\"id\":\"7446\",\"type\":\"Selection\"},\"selection_policy\":{\"id\":\"7445\",\"type\":\"UnionRenderers\"}},\"id\":\"7116\",\"type\":\"ColumnDataSource\"},{\"attributes\":{},\"id\":\"7050\",\"type\":\"LinearScale\"},{\"attributes\":{\"callback\":null},\"id\":\"7048\",\"type\":\"DataRange1d\"},{\"attributes\":{\"line_alpha\":0.1,\"line_color\":\"#1f77b4\",\"x\":{\"field\":\"x\"},\"y\":{\"field\":\"y\"}},\"id\":\"7079\",\"type\":\"Line\"},{\"attributes\":{\"source\":{\"id\":\"7136\",\"type\":\"ColumnDataSource\"}},\"id\":\"7140\",\"type\":\"CDSView\"},{\"attributes\":{\"callback\":null},\"id\":\"7046\",\"type\":\"DataRange1d\"},{\"attributes\":{\"fill_alpha\":{\"value\":0.1},\"fill_color\":{\"value\":\"#1f77b4\"},\"line_alpha\":{\"value\":0.1},\"line_color\":{\"value\":\"#1f77b4\"},\"line_width\":{\"value\":3},\"x\":{\"field\":\"x\"},\"y\":{\"field\":\"y\"}},\"id\":\"7113\",\"type\":\"Circle\"},{\"attributes\":{\"source\":{\"id\":\"7116\",\"type\":\"ColumnDataSource\"}},\"id\":\"7120\",\"type\":\"CDSView\"},{\"attributes\":{\"axis_label\":\"SE.SEC.ENRR\",\"formatter\":{\"id\":\"7083\",\"type\":\"BasicTickFormatter\"},\"ticker\":{\"id\":\"7060\",\"type\":\"BasicTicker\"}},\"id\":\"7059\",\"type\":\"LinearAxis\"},{\"attributes\":{},\"id\":\"7445\",\"type\":\"UnionRenderers\"},{\"attributes\":{},\"id\":\"7083\",\"type\":\"BasicTickFormatter\"},{\"attributes\":{\"callback\":null,\"data\":{\"x\":[\"2010\",\"2011\",\"2012\",\"2013\",\"2014\",\"2015\",\"2016\",\"2017\"],\"y\":[74.89483649419115,71.7293111922578,72.55803200547106,74.88712644187571,78.63032657672926,78.88460416945199,79.3951445589684,81.37361590400792]},\"selected\":{\"id\":\"7133\",\"type\":\"Selection\"},\"selection_policy\":{\"id\":\"7132\",\"type\":\"UnionRenderers\"}},\"id\":\"7111\",\"type\":\"ColumnDataSource\"},{\"attributes\":{},\"id\":\"7060\",\"type\":\"BasicTicker\"},{\"attributes\":{\"data_source\":{\"id\":\"7077\",\"type\":\"ColumnDataSource\"},\"glyph\":{\"id\":\"7078\",\"type\":\"Line\"},\"hover_glyph\":null,\"muted_glyph\":null,\"nonselection_glyph\":{\"id\":\"7079\",\"type\":\"Line\"},\"selection_glyph\":null,\"view\":{\"id\":\"7081\",\"type\":\"CDSView\"}},\"id\":\"7080\",\"type\":\"GlyphRenderer\"},{\"attributes\":{},\"id\":\"7130\",\"type\":\"UnionRenderers\"},{\"attributes\":{\"fill_color\":{\"value\":\"#FA1857\"},\"line_color\":{\"value\":\"#FA1857\"},\"line_width\":{\"value\":3},\"x\":{\"field\":\"x\"},\"y\":{\"field\":\"y\"}},\"id\":\"7091\",\"type\":\"Circle\"},{\"attributes\":{\"axis_label\":\"Years\",\"formatter\":{\"id\":\"7085\",\"type\":\"BasicTickFormatter\"},\"ticker\":{\"id\":\"7055\",\"type\":\"BasicTicker\"}},\"id\":\"7054\",\"type\":\"LinearAxis\"},{\"attributes\":{\"source\":{\"id\":\"7111\",\"type\":\"ColumnDataSource\"}},\"id\":\"7115\",\"type\":\"CDSView\"},{\"attributes\":{\"callback\":null,\"data\":{\"x\":[\"2010\",\"2011\",\"2012\",\"2013\",\"2014\",\"2015\",\"2016\",\"2017\"],\"y\":[88.76105292982297,92.43282204315506,92.56607539302803,96.70035095015737,100.62087691561094,101.89857975276283,102.40612104714488,102.75899444809875]},\"selected\":{\"id\":\"7448\",\"type\":\"Selection\"},\"selection_policy\":{\"id\":\"7447\",\"type\":\"UnionRenderers\"}},\"id\":\"7136\",\"type\":\"ColumnDataSource\"},{\"attributes\":{\"grid_line_color\":null,\"ticker\":{\"id\":\"7055\",\"type\":\"BasicTicker\"}},\"id\":\"7058\",\"type\":\"Grid\"},{\"attributes\":{\"data_source\":{\"id\":\"7116\",\"type\":\"ColumnDataSource\"},\"glyph\":{\"id\":\"7117\",\"type\":\"Line\"},\"hover_glyph\":null,\"muted_glyph\":null,\"nonselection_glyph\":{\"id\":\"7118\",\"type\":\"Line\"},\"selection_glyph\":null,\"view\":{\"id\":\"7120\",\"type\":\"CDSView\"}},\"id\":\"7119\",\"type\":\"GlyphRenderer\"},{\"attributes\":{\"callback\":null,\"data\":{\"x\":[\"2010\",\"2011\",\"2012\",\"2013\",\"2014\",\"2015\",\"2016\",\"2017\"],\"y\":[40.71979156217991,40.50524831492961,42.88559060690365,48.02763417723285,42.06890499122678,45.77221151940908,51.781966052740714,52.216689130724404]},\"selected\":{\"id\":\"7106\",\"type\":\"Selection\"},\"selection_policy\":{\"id\":\"7105\",\"type\":\"UnionRenderers\"}},\"id\":\"7077\",\"type\":\"ColumnDataSource\"},{\"attributes\":{\"bottom_units\":\"screen\",\"fill_alpha\":{\"value\":0.5},\"fill_color\":{\"value\":\"lightgrey\"},\"left_units\":\"screen\",\"level\":\"overlay\",\"line_alpha\":{\"value\":1.0},\"line_color\":{\"value\":\"black\"},\"line_dash\":[4,4],\"line_width\":{\"value\":2},\"render_mode\":\"css\",\"right_units\":\"screen\",\"top_units\":\"screen\"},\"id\":\"7087\",\"type\":\"BoxAnnotation\"},{\"attributes\":{\"source\":{\"id\":\"7077\",\"type\":\"ColumnDataSource\"}},\"id\":\"7081\",\"type\":\"CDSView\"},{\"attributes\":{\"line_alpha\":0.1,\"line_color\":\"#1f77b4\",\"x\":{\"field\":\"x\"},\"y\":{\"field\":\"y\"}},\"id\":\"7118\",\"type\":\"Line\"},{\"attributes\":{},\"id\":\"7069\",\"type\":\"HelpTool\"},{\"attributes\":{},\"id\":\"7107\",\"type\":\"UnionRenderers\"},{\"attributes\":{\"text\":\"School enrollment, secondary (% gross) weighted against Population, total\"},\"id\":\"7044\",\"type\":\"Title\"},{\"attributes\":{\"fill_alpha\":{\"value\":0.1},\"fill_color\":{\"value\":\"#1f77b4\"},\"line_alpha\":{\"value\":0.1},\"line_color\":{\"value\":\"#1f77b4\"},\"line_width\":{\"value\":3},\"x\":{\"field\":\"x\"},\"y\":{\"field\":\"y\"}},\"id\":\"7092\",\"type\":\"Circle\"},{\"attributes\":{\"active_drag\":\"auto\",\"active_inspect\":\"auto\",\"active_multi\":null,\"active_scroll\":\"auto\",\"active_tap\":\"auto\",\"tools\":[{\"id\":\"7064\",\"type\":\"PanTool\"},{\"id\":\"7065\",\"type\":\"WheelZoomTool\"},{\"id\":\"7066\",\"type\":\"BoxZoomTool\"},{\"id\":\"7067\",\"type\":\"SaveTool\"},{\"id\":\"7068\",\"type\":\"ResetTool\"},{\"id\":\"7069\",\"type\":\"HelpTool\"},{\"id\":\"7141\",\"type\":\"HoverTool\"}]},\"id\":\"7070\",\"type\":\"Toolbar\"},{\"attributes\":{\"source\":{\"id\":\"7095\",\"type\":\"ColumnDataSource\"}},\"id\":\"7099\",\"type\":\"CDSView\"},{\"attributes\":{\"line_color\":\"#2CC775\",\"x\":{\"field\":\"x\"},\"y\":{\"field\":\"y\"}},\"id\":\"7117\",\"type\":\"Line\"},{\"attributes\":{\"label\":{\"value\":\"Developing excluding LDCs\"},\"renderers\":[{\"id\":\"7098\",\"type\":\"GlyphRenderer\"}]},\"id\":\"7110\",\"type\":\"LegendItem\"},{\"attributes\":{\"data_source\":{\"id\":\"7095\",\"type\":\"ColumnDataSource\"},\"glyph\":{\"id\":\"7096\",\"type\":\"Line\"},\"hover_glyph\":null,\"muted_glyph\":null,\"nonselection_glyph\":{\"id\":\"7097\",\"type\":\"Line\"},\"selection_glyph\":null,\"view\":{\"id\":\"7099\",\"type\":\"CDSView\"}},\"id\":\"7098\",\"type\":\"GlyphRenderer\"},{\"attributes\":{},\"id\":\"7085\",\"type\":\"BasicTickFormatter\"},{\"attributes\":{},\"id\":\"7133\",\"type\":\"Selection\"},{\"attributes\":{\"line_color\":\"#FA1857\",\"x\":{\"field\":\"x\"},\"y\":{\"field\":\"y\"}},\"id\":\"7078\",\"type\":\"Line\"},{\"attributes\":{},\"id\":\"7105\",\"type\":\"UnionRenderers\"},{\"attributes\":{},\"id\":\"7131\",\"type\":\"Selection\"},{\"attributes\":{\"data_source\":{\"id\":\"7136\",\"type\":\"ColumnDataSource\"},\"glyph\":{\"id\":\"7137\",\"type\":\"Circle\"},\"hover_glyph\":null,\"muted_glyph\":null,\"nonselection_glyph\":{\"id\":\"7138\",\"type\":\"Circle\"},\"selection_glyph\":null,\"view\":{\"id\":\"7140\",\"type\":\"CDSView\"}},\"id\":\"7139\",\"type\":\"GlyphRenderer\"},{\"attributes\":{\"label\":{\"value\":\"LDCs\"},\"renderers\":[{\"id\":\"7080\",\"type\":\"GlyphRenderer\"}]},\"id\":\"7089\",\"type\":\"LegendItem\"},{\"attributes\":{},\"id\":\"7446\",\"type\":\"Selection\"},{\"attributes\":{\"fill_alpha\":{\"value\":0.1},\"fill_color\":{\"value\":\"#1f77b4\"},\"line_alpha\":{\"value\":0.1},\"line_color\":{\"value\":\"#1f77b4\"},\"line_width\":{\"value\":3},\"x\":{\"field\":\"x\"},\"y\":{\"field\":\"y\"}},\"id\":\"7138\",\"type\":\"Circle\"},{\"attributes\":{},\"id\":\"7065\",\"type\":\"WheelZoomTool\"},{\"attributes\":{\"data_source\":{\"id\":\"7111\",\"type\":\"ColumnDataSource\"},\"glyph\":{\"id\":\"7112\",\"type\":\"Circle\"},\"hover_glyph\":null,\"muted_glyph\":null,\"nonselection_glyph\":{\"id\":\"7113\",\"type\":\"Circle\"},\"selection_glyph\":null,\"view\":{\"id\":\"7115\",\"type\":\"CDSView\"}},\"id\":\"7114\",\"type\":\"GlyphRenderer\"},{\"attributes\":{\"overlay\":{\"id\":\"7087\",\"type\":\"BoxAnnotation\"}},\"id\":\"7066\",\"type\":\"BoxZoomTool\"},{\"attributes\":{\"source\":{\"id\":\"7090\",\"type\":\"ColumnDataSource\"}},\"id\":\"7094\",\"type\":\"CDSView\"},{\"attributes\":{\"line_color\":\"#5430F1\",\"x\":{\"field\":\"x\"},\"y\":{\"field\":\"y\"}},\"id\":\"7096\",\"type\":\"Line\"},{\"attributes\":{\"line_alpha\":0.1,\"line_color\":\"#1f77b4\",\"x\":{\"field\":\"x\"},\"y\":{\"field\":\"y\"}},\"id\":\"7097\",\"type\":\"Line\"},{\"attributes\":{\"fill_color\":{\"value\":\"#5430F1\"},\"line_color\":{\"value\":\"#5430F1\"},\"line_width\":{\"value\":3},\"x\":{\"field\":\"x\"},\"y\":{\"field\":\"y\"}},\"id\":\"7112\",\"type\":\"Circle\"},{\"attributes\":{\"fill_color\":{\"value\":\"#2CC775\"},\"line_color\":{\"value\":\"#2CC775\"},\"line_width\":{\"value\":3},\"x\":{\"field\":\"x\"},\"y\":{\"field\":\"y\"}},\"id\":\"7137\",\"type\":\"Circle\"},{\"attributes\":{},\"id\":\"7067\",\"type\":\"SaveTool\"},{\"attributes\":{\"callback\":null,\"data\":{\"x\":[\"2010\",\"2011\",\"2012\",\"2013\",\"2014\",\"2015\",\"2016\",\"2017\"],\"y\":[74.89483649419115,71.7293111922578,72.55803200547106,74.88712644187571,78.63032657672926,78.88460416945199,79.3951445589684,81.37361590400792]},\"selected\":{\"id\":\"7131\",\"type\":\"Selection\"},\"selection_policy\":{\"id\":\"7130\",\"type\":\"UnionRenderers\"}},\"id\":\"7095\",\"type\":\"ColumnDataSource\"},{\"attributes\":{\"callback\":null,\"data\":{\"x\":[\"2010\",\"2011\",\"2012\",\"2013\",\"2014\",\"2015\",\"2016\",\"2017\"],\"y\":[40.71979156217991,40.50524831492961,42.88559060690365,48.02763417723285,42.06890499122678,45.77221151940908,51.781966052740714,52.216689130724404]},\"selected\":{\"id\":\"7108\",\"type\":\"Selection\"},\"selection_policy\":{\"id\":\"7107\",\"type\":\"UnionRenderers\"}},\"id\":\"7090\",\"type\":\"ColumnDataSource\"},{\"attributes\":{},\"id\":\"7064\",\"type\":\"PanTool\"},{\"attributes\":{\"data_source\":{\"id\":\"7090\",\"type\":\"ColumnDataSource\"},\"glyph\":{\"id\":\"7091\",\"type\":\"Circle\"},\"hover_glyph\":null,\"muted_glyph\":null,\"nonselection_glyph\":{\"id\":\"7092\",\"type\":\"Circle\"},\"selection_glyph\":null,\"view\":{\"id\":\"7094\",\"type\":\"CDSView\"}},\"id\":\"7093\",\"type\":\"GlyphRenderer\"},{\"attributes\":{\"label\":{\"value\":\"UMICs\"},\"renderers\":[{\"id\":\"7119\",\"type\":\"GlyphRenderer\"}]},\"id\":\"7135\",\"type\":\"LegendItem\"},{\"attributes\":{\"items\":[{\"id\":\"7089\",\"type\":\"LegendItem\"},{\"id\":\"7110\",\"type\":\"LegendItem\"},{\"id\":\"7135\",\"type\":\"LegendItem\"}],\"location\":\"bottom_left\"},\"id\":\"7088\",\"type\":\"Legend\"},{\"attributes\":{},\"id\":\"7052\",\"type\":\"LinearScale\"},{\"attributes\":{},\"id\":\"7055\",\"type\":\"BasicTicker\"},{\"attributes\":{},\"id\":\"7447\",\"type\":\"UnionRenderers\"},{\"attributes\":{},\"id\":\"7068\",\"type\":\"ResetTool\"},{\"attributes\":{},\"id\":\"7106\",\"type\":\"Selection\"},{\"attributes\":{\"dimension\":1,\"grid_line_alpha\":0.5,\"ticker\":{\"id\":\"7060\",\"type\":\"BasicTicker\"}},\"id\":\"7063\",\"type\":\"Grid\"}],\"root_ids\":[\"7043\"]},\"title\":\"Bokeh Application\",\"version\":\"1.3.4\"}};\n",
       "  var render_items = [{\"docid\":\"1591118e-f1f1-45b3-ae61-4c6e81c7b67e\",\"roots\":{\"7043\":\"2119f589-6b13-49f6-bef9-2713033fe35f\"}}];\n",
       "  root.Bokeh.embed.embed_items_notebook(docs_json, render_items);\n",
       "\n",
       "  }\n",
       "  if (root.Bokeh !== undefined) {\n",
       "    embed_document(root);\n",
       "  } else {\n",
       "    var attempts = 0;\n",
       "    var timer = setInterval(function(root) {\n",
       "      if (root.Bokeh !== undefined) {\n",
       "        embed_document(root);\n",
       "        clearInterval(timer);\n",
       "      }\n",
       "      attempts++;\n",
       "      if (attempts > 100) {\n",
       "        console.log(\"Bokeh: ERROR: Unable to run BokehJS code because BokehJS library is missing\");\n",
       "        clearInterval(timer);\n",
       "      }\n",
       "    }, 10, root)\n",
       "  }\n",
       "})(window);"
      ],
      "application/vnd.bokehjs_exec.v0+json": ""
     },
     "metadata": {
      "application/vnd.bokehjs_exec.v0+json": {
       "id": "7043"
      }
     },
     "output_type": "display_data"
    }
   ],
   "source": [
    "# School enrollment, secondary\n",
    "years = list(map(str, list(range(2010,2018))))\n",
    "result = show_weighted_average(years, 'SE.SEC.ENRR', 'SP.POP.TOTL', \n",
    "                               ['LDCs', 'Developing excluding LDCs', 'UMICs'])"
   ]
  },
  {
   "cell_type": "code",
   "execution_count": 23,
   "metadata": {
    "ExecuteTime": {
     "end_time": "2019-10-25T14:25:38.329630Z",
     "start_time": "2019-10-25T14:25:37.469130Z"
    },
    "slideshow": {
     "slide_type": "slide"
    }
   },
   "outputs": [
    {
     "data": {
      "text/html": [
       "\n",
       "\n",
       "\n",
       "\n",
       "\n",
       "\n",
       "  <div class=\"bk-root\" id=\"642a5df2-ecc3-44b5-acc5-070f71534c13\" data-root-id=\"7558\"></div>\n"
      ]
     },
     "metadata": {},
     "output_type": "display_data"
    },
    {
     "data": {
      "application/javascript": [
       "(function(root) {\n",
       "  function embed_document(root) {\n",
       "    \n",
       "  var docs_json = {\"fb5903b8-fa61-44eb-bd95-e48c60feec3a\":{\"roots\":{\"references\":[{\"attributes\":{\"below\":[{\"id\":\"7569\",\"type\":\"LinearAxis\"}],\"center\":[{\"id\":\"7573\",\"type\":\"Grid\"},{\"id\":\"7578\",\"type\":\"Grid\"},{\"id\":\"7603\",\"type\":\"Legend\"}],\"left\":[{\"id\":\"7574\",\"type\":\"LinearAxis\"}],\"plot_height\":400,\"plot_width\":800,\"renderers\":[{\"id\":\"7595\",\"type\":\"GlyphRenderer\"},{\"id\":\"7608\",\"type\":\"GlyphRenderer\"},{\"id\":\"7613\",\"type\":\"GlyphRenderer\"},{\"id\":\"7629\",\"type\":\"GlyphRenderer\"},{\"id\":\"7634\",\"type\":\"GlyphRenderer\"},{\"id\":\"7654\",\"type\":\"GlyphRenderer\"}],\"title\":{\"id\":\"7559\",\"type\":\"Title\"},\"toolbar\":{\"id\":\"7585\",\"type\":\"Toolbar\"},\"x_range\":{\"id\":\"7561\",\"type\":\"DataRange1d\"},\"x_scale\":{\"id\":\"7565\",\"type\":\"LinearScale\"},\"y_range\":{\"id\":\"7563\",\"type\":\"DataRange1d\"},\"y_scale\":{\"id\":\"7567\",\"type\":\"LinearScale\"}},\"id\":\"7558\",\"subtype\":\"Figure\",\"type\":\"Plot\"},{\"attributes\":{\"line_color\":\"#FA1857\",\"x\":{\"field\":\"x\"},\"y\":{\"field\":\"y\"}},\"id\":\"7593\",\"type\":\"Line\"},{\"attributes\":{\"source\":{\"id\":\"7605\",\"type\":\"ColumnDataSource\"}},\"id\":\"7609\",\"type\":\"CDSView\"},{\"attributes\":{\"data_source\":{\"id\":\"7592\",\"type\":\"ColumnDataSource\"},\"glyph\":{\"id\":\"7593\",\"type\":\"Line\"},\"hover_glyph\":null,\"muted_glyph\":null,\"nonselection_glyph\":{\"id\":\"7594\",\"type\":\"Line\"},\"selection_glyph\":null,\"view\":{\"id\":\"7596\",\"type\":\"CDSView\"}},\"id\":\"7595\",\"type\":\"GlyphRenderer\"},{\"attributes\":{\"fill_alpha\":{\"value\":0.1},\"fill_color\":{\"value\":\"#1f77b4\"},\"line_alpha\":{\"value\":0.1},\"line_color\":{\"value\":\"#1f77b4\"},\"line_width\":{\"value\":3},\"x\":{\"field\":\"x\"},\"y\":{\"field\":\"y\"}},\"id\":\"7607\",\"type\":\"Circle\"},{\"attributes\":{\"data_source\":{\"id\":\"7605\",\"type\":\"ColumnDataSource\"},\"glyph\":{\"id\":\"7606\",\"type\":\"Circle\"},\"hover_glyph\":null,\"muted_glyph\":null,\"nonselection_glyph\":{\"id\":\"7607\",\"type\":\"Circle\"},\"selection_glyph\":null,\"view\":{\"id\":\"7609\",\"type\":\"CDSView\"}},\"id\":\"7608\",\"type\":\"GlyphRenderer\"},{\"attributes\":{\"fill_color\":{\"value\":\"#2CC775\"},\"line_color\":{\"value\":\"#2CC775\"},\"line_width\":{\"value\":3},\"x\":{\"field\":\"x\"},\"y\":{\"field\":\"y\"}},\"id\":\"7652\",\"type\":\"Circle\"},{\"attributes\":{\"grid_line_color\":null,\"ticker\":{\"id\":\"7570\",\"type\":\"BasicTicker\"}},\"id\":\"7573\",\"type\":\"Grid\"},{\"attributes\":{\"items\":[{\"id\":\"7604\",\"type\":\"LegendItem\"},{\"id\":\"7625\",\"type\":\"LegendItem\"},{\"id\":\"7650\",\"type\":\"LegendItem\"}],\"location\":\"bottom_left\"},\"id\":\"7603\",\"type\":\"Legend\"},{\"attributes\":{\"data_source\":{\"id\":\"7651\",\"type\":\"ColumnDataSource\"},\"glyph\":{\"id\":\"7652\",\"type\":\"Circle\"},\"hover_glyph\":null,\"muted_glyph\":null,\"nonselection_glyph\":{\"id\":\"7653\",\"type\":\"Circle\"},\"selection_glyph\":null,\"view\":{\"id\":\"7655\",\"type\":\"CDSView\"}},\"id\":\"7654\",\"type\":\"GlyphRenderer\"},{\"attributes\":{\"label\":{\"value\":\"LDCs\"},\"renderers\":[{\"id\":\"7595\",\"type\":\"GlyphRenderer\"}]},\"id\":\"7604\",\"type\":\"LegendItem\"},{\"attributes\":{},\"id\":\"7646\",\"type\":\"Selection\"},{\"attributes\":{\"axis_label\":\"SE.TER.ENRR\",\"formatter\":{\"id\":\"7598\",\"type\":\"BasicTickFormatter\"},\"ticker\":{\"id\":\"7575\",\"type\":\"BasicTicker\"}},\"id\":\"7574\",\"type\":\"LinearAxis\"},{\"attributes\":{\"text\":\"School enrollment, tertiary (% gross) weighted against Population, total\"},\"id\":\"7559\",\"type\":\"Title\"},{\"attributes\":{\"source\":{\"id\":\"7651\",\"type\":\"ColumnDataSource\"}},\"id\":\"7655\",\"type\":\"CDSView\"},{\"attributes\":{\"fill_alpha\":{\"value\":0.1},\"fill_color\":{\"value\":\"#1f77b4\"},\"line_alpha\":{\"value\":0.1},\"line_color\":{\"value\":\"#1f77b4\"},\"line_width\":{\"value\":3},\"x\":{\"field\":\"x\"},\"y\":{\"field\":\"y\"}},\"id\":\"7653\",\"type\":\"Circle\"},{\"attributes\":{\"callback\":null,\"data\":{\"x\":[\"2010\",\"2011\",\"2012\",\"2013\",\"2014\"],\"y\":[29.578342099714497,35.0387071416137,36.74134581365902,39.400822883016104,45.86198074086463]},\"selected\":{\"id\":\"7981\",\"type\":\"Selection\"},\"selection_policy\":{\"id\":\"7980\",\"type\":\"UnionRenderers\"}},\"id\":\"7651\",\"type\":\"ColumnDataSource\"},{\"attributes\":{\"callback\":null,\"data\":{\"x\":[\"2010\",\"2011\",\"2012\",\"2013\",\"2014\"],\"y\":[23.513041688550018,26.0163518298774,28.605589935710757,29.991015174173807,34.168460693584066]},\"selected\":{\"id\":\"7646\",\"type\":\"Selection\"},\"selection_policy\":{\"id\":\"7645\",\"type\":\"UnionRenderers\"}},\"id\":\"7610\",\"type\":\"ColumnDataSource\"},{\"attributes\":{\"fill_color\":{\"value\":\"#FA1857\"},\"line_color\":{\"value\":\"#FA1857\"},\"line_width\":{\"value\":3},\"x\":{\"field\":\"x\"},\"y\":{\"field\":\"y\"}},\"id\":\"7606\",\"type\":\"Circle\"},{\"attributes\":{},\"id\":\"7579\",\"type\":\"PanTool\"},{\"attributes\":{\"active_drag\":\"auto\",\"active_inspect\":\"auto\",\"active_multi\":null,\"active_scroll\":\"auto\",\"active_tap\":\"auto\",\"tools\":[{\"id\":\"7579\",\"type\":\"PanTool\"},{\"id\":\"7580\",\"type\":\"WheelZoomTool\"},{\"id\":\"7581\",\"type\":\"BoxZoomTool\"},{\"id\":\"7582\",\"type\":\"SaveTool\"},{\"id\":\"7583\",\"type\":\"ResetTool\"},{\"id\":\"7584\",\"type\":\"HelpTool\"},{\"id\":\"7656\",\"type\":\"HoverTool\"}]},\"id\":\"7585\",\"type\":\"Toolbar\"},{\"attributes\":{},\"id\":\"7648\",\"type\":\"Selection\"},{\"attributes\":{\"callback\":null,\"data\":{\"x\":[\"2010\",\"2011\",\"2012\",\"2013\",\"2014\"],\"y\":[6.97759961786947,9.086658069190648,9.121775166295603,8.515917852830238,10.11079604308265]},\"selected\":{\"id\":\"7623\",\"type\":\"Selection\"},\"selection_policy\":{\"id\":\"7622\",\"type\":\"UnionRenderers\"}},\"id\":\"7605\",\"type\":\"ColumnDataSource\"},{\"attributes\":{},\"id\":\"7582\",\"type\":\"SaveTool\"},{\"attributes\":{\"data_source\":{\"id\":\"7631\",\"type\":\"ColumnDataSource\"},\"glyph\":{\"id\":\"7632\",\"type\":\"Line\"},\"hover_glyph\":null,\"muted_glyph\":null,\"nonselection_glyph\":{\"id\":\"7633\",\"type\":\"Line\"},\"selection_glyph\":null,\"view\":{\"id\":\"7635\",\"type\":\"CDSView\"}},\"id\":\"7634\",\"type\":\"GlyphRenderer\"},{\"attributes\":{\"label\":{\"value\":\"UMICs\"},\"renderers\":[{\"id\":\"7634\",\"type\":\"GlyphRenderer\"}]},\"id\":\"7650\",\"type\":\"LegendItem\"},{\"attributes\":{\"callback\":null,\"data\":{\"x\":[\"2010\",\"2011\",\"2012\",\"2013\",\"2014\"],\"y\":[23.513041688550018,26.0163518298774,28.605589935710757,29.991015174173807,34.168460693584066]},\"selected\":{\"id\":\"7648\",\"type\":\"Selection\"},\"selection_policy\":{\"id\":\"7647\",\"type\":\"UnionRenderers\"}},\"id\":\"7626\",\"type\":\"ColumnDataSource\"},{\"attributes\":{},\"id\":\"7647\",\"type\":\"UnionRenderers\"},{\"attributes\":{\"source\":{\"id\":\"7592\",\"type\":\"ColumnDataSource\"}},\"id\":\"7596\",\"type\":\"CDSView\"},{\"attributes\":{\"callback\":null},\"id\":\"7563\",\"type\":\"DataRange1d\"},{\"attributes\":{\"dimension\":1,\"grid_line_alpha\":0.5,\"ticker\":{\"id\":\"7575\",\"type\":\"BasicTicker\"}},\"id\":\"7578\",\"type\":\"Grid\"},{\"attributes\":{},\"id\":\"7575\",\"type\":\"BasicTicker\"},{\"attributes\":{\"fill_color\":{\"value\":\"#5430F1\"},\"line_color\":{\"value\":\"#5430F1\"},\"line_width\":{\"value\":3},\"x\":{\"field\":\"x\"},\"y\":{\"field\":\"y\"}},\"id\":\"7627\",\"type\":\"Circle\"},{\"attributes\":{},\"id\":\"7645\",\"type\":\"UnionRenderers\"},{\"attributes\":{\"axis_label\":\"Years\",\"formatter\":{\"id\":\"7600\",\"type\":\"BasicTickFormatter\"},\"ticker\":{\"id\":\"7570\",\"type\":\"BasicTicker\"}},\"id\":\"7569\",\"type\":\"LinearAxis\"},{\"attributes\":{\"callback\":null,\"tooltips\":\"                \\n        <div style=padding=5px>Year:@x</div>\\n        <div style=padding=5px>Value:@y</div>        \\n        \"},\"id\":\"7656\",\"type\":\"HoverTool\"},{\"attributes\":{},\"id\":\"7622\",\"type\":\"UnionRenderers\"},{\"attributes\":{\"callback\":null,\"data\":{\"x\":[\"2010\",\"2011\",\"2012\",\"2013\",\"2014\"],\"y\":[29.578342099714497,35.0387071416137,36.74134581365902,39.400822883016104,45.86198074086463]},\"selected\":{\"id\":\"7979\",\"type\":\"Selection\"},\"selection_policy\":{\"id\":\"7978\",\"type\":\"UnionRenderers\"}},\"id\":\"7631\",\"type\":\"ColumnDataSource\"},{\"attributes\":{},\"id\":\"7979\",\"type\":\"Selection\"},{\"attributes\":{},\"id\":\"7570\",\"type\":\"BasicTicker\"},{\"attributes\":{\"source\":{\"id\":\"7631\",\"type\":\"ColumnDataSource\"}},\"id\":\"7635\",\"type\":\"CDSView\"},{\"attributes\":{\"line_alpha\":0.1,\"line_color\":\"#1f77b4\",\"x\":{\"field\":\"x\"},\"y\":{\"field\":\"y\"}},\"id\":\"7594\",\"type\":\"Line\"},{\"attributes\":{},\"id\":\"7623\",\"type\":\"Selection\"},{\"attributes\":{},\"id\":\"7567\",\"type\":\"LinearScale\"},{\"attributes\":{\"line_alpha\":0.1,\"line_color\":\"#1f77b4\",\"x\":{\"field\":\"x\"},\"y\":{\"field\":\"y\"}},\"id\":\"7633\",\"type\":\"Line\"},{\"attributes\":{},\"id\":\"7598\",\"type\":\"BasicTickFormatter\"},{\"attributes\":{\"label\":{\"value\":\"Developing excluding LDCs\"},\"renderers\":[{\"id\":\"7613\",\"type\":\"GlyphRenderer\"}]},\"id\":\"7625\",\"type\":\"LegendItem\"},{\"attributes\":{},\"id\":\"7580\",\"type\":\"WheelZoomTool\"},{\"attributes\":{},\"id\":\"7565\",\"type\":\"LinearScale\"},{\"attributes\":{\"source\":{\"id\":\"7610\",\"type\":\"ColumnDataSource\"}},\"id\":\"7614\",\"type\":\"CDSView\"},{\"attributes\":{},\"id\":\"7981\",\"type\":\"Selection\"},{\"attributes\":{\"source\":{\"id\":\"7626\",\"type\":\"ColumnDataSource\"}},\"id\":\"7630\",\"type\":\"CDSView\"},{\"attributes\":{},\"id\":\"7600\",\"type\":\"BasicTickFormatter\"},{\"attributes\":{},\"id\":\"7620\",\"type\":\"UnionRenderers\"},{\"attributes\":{\"line_color\":\"#2CC775\",\"x\":{\"field\":\"x\"},\"y\":{\"field\":\"y\"}},\"id\":\"7632\",\"type\":\"Line\"},{\"attributes\":{\"fill_alpha\":{\"value\":0.1},\"fill_color\":{\"value\":\"#1f77b4\"},\"line_alpha\":{\"value\":0.1},\"line_color\":{\"value\":\"#1f77b4\"},\"line_width\":{\"value\":3},\"x\":{\"field\":\"x\"},\"y\":{\"field\":\"y\"}},\"id\":\"7628\",\"type\":\"Circle\"},{\"attributes\":{},\"id\":\"7584\",\"type\":\"HelpTool\"},{\"attributes\":{},\"id\":\"7621\",\"type\":\"Selection\"},{\"attributes\":{\"line_alpha\":0.1,\"line_color\":\"#1f77b4\",\"x\":{\"field\":\"x\"},\"y\":{\"field\":\"y\"}},\"id\":\"7612\",\"type\":\"Line\"},{\"attributes\":{},\"id\":\"7583\",\"type\":\"ResetTool\"},{\"attributes\":{\"overlay\":{\"id\":\"7602\",\"type\":\"BoxAnnotation\"}},\"id\":\"7581\",\"type\":\"BoxZoomTool\"},{\"attributes\":{\"line_color\":\"#5430F1\",\"x\":{\"field\":\"x\"},\"y\":{\"field\":\"y\"}},\"id\":\"7611\",\"type\":\"Line\"},{\"attributes\":{},\"id\":\"7978\",\"type\":\"UnionRenderers\"},{\"attributes\":{\"callback\":null,\"data\":{\"x\":[\"2010\",\"2011\",\"2012\",\"2013\",\"2014\"],\"y\":[6.97759961786947,9.086658069190648,9.121775166295603,8.515917852830238,10.11079604308265]},\"selected\":{\"id\":\"7621\",\"type\":\"Selection\"},\"selection_policy\":{\"id\":\"7620\",\"type\":\"UnionRenderers\"}},\"id\":\"7592\",\"type\":\"ColumnDataSource\"},{\"attributes\":{},\"id\":\"7980\",\"type\":\"UnionRenderers\"},{\"attributes\":{\"bottom_units\":\"screen\",\"fill_alpha\":{\"value\":0.5},\"fill_color\":{\"value\":\"lightgrey\"},\"left_units\":\"screen\",\"level\":\"overlay\",\"line_alpha\":{\"value\":1.0},\"line_color\":{\"value\":\"black\"},\"line_dash\":[4,4],\"line_width\":{\"value\":2},\"render_mode\":\"css\",\"right_units\":\"screen\",\"top_units\":\"screen\"},\"id\":\"7602\",\"type\":\"BoxAnnotation\"},{\"attributes\":{\"data_source\":{\"id\":\"7610\",\"type\":\"ColumnDataSource\"},\"glyph\":{\"id\":\"7611\",\"type\":\"Line\"},\"hover_glyph\":null,\"muted_glyph\":null,\"nonselection_glyph\":{\"id\":\"7612\",\"type\":\"Line\"},\"selection_glyph\":null,\"view\":{\"id\":\"7614\",\"type\":\"CDSView\"}},\"id\":\"7613\",\"type\":\"GlyphRenderer\"},{\"attributes\":{\"data_source\":{\"id\":\"7626\",\"type\":\"ColumnDataSource\"},\"glyph\":{\"id\":\"7627\",\"type\":\"Circle\"},\"hover_glyph\":null,\"muted_glyph\":null,\"nonselection_glyph\":{\"id\":\"7628\",\"type\":\"Circle\"},\"selection_glyph\":null,\"view\":{\"id\":\"7630\",\"type\":\"CDSView\"}},\"id\":\"7629\",\"type\":\"GlyphRenderer\"},{\"attributes\":{\"callback\":null},\"id\":\"7561\",\"type\":\"DataRange1d\"}],\"root_ids\":[\"7558\"]},\"title\":\"Bokeh Application\",\"version\":\"1.3.4\"}};\n",
       "  var render_items = [{\"docid\":\"fb5903b8-fa61-44eb-bd95-e48c60feec3a\",\"roots\":{\"7558\":\"642a5df2-ecc3-44b5-acc5-070f71534c13\"}}];\n",
       "  root.Bokeh.embed.embed_items_notebook(docs_json, render_items);\n",
       "\n",
       "  }\n",
       "  if (root.Bokeh !== undefined) {\n",
       "    embed_document(root);\n",
       "  } else {\n",
       "    var attempts = 0;\n",
       "    var timer = setInterval(function(root) {\n",
       "      if (root.Bokeh !== undefined) {\n",
       "        embed_document(root);\n",
       "        clearInterval(timer);\n",
       "      }\n",
       "      attempts++;\n",
       "      if (attempts > 100) {\n",
       "        console.log(\"Bokeh: ERROR: Unable to run BokehJS code because BokehJS library is missing\");\n",
       "        clearInterval(timer);\n",
       "      }\n",
       "    }, 10, root)\n",
       "  }\n",
       "})(window);"
      ],
      "application/vnd.bokehjs_exec.v0+json": ""
     },
     "metadata": {
      "application/vnd.bokehjs_exec.v0+json": {
       "id": "7558"
      }
     },
     "output_type": "display_data"
    }
   ],
   "source": [
    "# School enrollment, tertiary\n",
    "years = list(map(str, list(range(2010,2015))))\n",
    "result = show_weighted_average(years, 'SE.TER.ENRR', 'SP.POP.TOTL', \n",
    "                               ['LDCs', 'Developing excluding LDCs', 'UMICs'])"
   ]
  },
  {
   "cell_type": "code",
   "execution_count": 24,
   "metadata": {
    "ExecuteTime": {
     "end_time": "2019-10-25T14:25:43.236189Z",
     "start_time": "2019-10-25T14:25:38.332666Z"
    },
    "slideshow": {
     "slide_type": "slide"
    }
   },
   "outputs": [
    {
     "data": {
      "text/html": [
       "\n",
       "\n",
       "\n",
       "\n",
       "\n",
       "\n",
       "  <div class=\"bk-root\" id=\"d261fba6-3170-4cc4-804f-dd2c509e2c54\" data-root-id=\"8091\"></div>\n"
      ]
     },
     "metadata": {},
     "output_type": "display_data"
    },
    {
     "data": {
      "application/javascript": [
       "(function(root) {\n",
       "  function embed_document(root) {\n",
       "    \n",
       "  var docs_json = {\"47e9268c-038f-4fab-889e-33ff8f7378ef\":{\"roots\":{\"references\":[{\"attributes\":{\"below\":[{\"id\":\"8102\",\"type\":\"LinearAxis\"}],\"center\":[{\"id\":\"8106\",\"type\":\"Grid\"},{\"id\":\"8111\",\"type\":\"Grid\"},{\"id\":\"8136\",\"type\":\"Legend\"}],\"left\":[{\"id\":\"8107\",\"type\":\"LinearAxis\"}],\"plot_height\":400,\"plot_width\":800,\"renderers\":[{\"id\":\"8128\",\"type\":\"GlyphRenderer\"},{\"id\":\"8141\",\"type\":\"GlyphRenderer\"},{\"id\":\"8146\",\"type\":\"GlyphRenderer\"},{\"id\":\"8162\",\"type\":\"GlyphRenderer\"}],\"title\":{\"id\":\"8092\",\"type\":\"Title\"},\"toolbar\":{\"id\":\"8118\",\"type\":\"Toolbar\"},\"x_range\":{\"id\":\"8094\",\"type\":\"DataRange1d\"},\"x_scale\":{\"id\":\"8098\",\"type\":\"LinearScale\"},\"y_range\":{\"id\":\"8096\",\"type\":\"DataRange1d\"},\"y_scale\":{\"id\":\"8100\",\"type\":\"LinearScale\"}},\"id\":\"8091\",\"subtype\":\"Figure\",\"type\":\"Plot\"},{\"attributes\":{},\"id\":\"8131\",\"type\":\"BasicTickFormatter\"},{\"attributes\":{},\"id\":\"8156\",\"type\":\"Selection\"},{\"attributes\":{\"grid_line_color\":null,\"ticker\":{\"id\":\"8103\",\"type\":\"BasicTicker\"}},\"id\":\"8106\",\"type\":\"Grid\"},{\"attributes\":{},\"id\":\"8133\",\"type\":\"BasicTickFormatter\"},{\"attributes\":{\"label\":{\"value\":\"Developing excluding LDCs\"},\"renderers\":[{\"id\":\"8146\",\"type\":\"GlyphRenderer\"}]},\"id\":\"8158\",\"type\":\"LegendItem\"},{\"attributes\":{\"bottom_units\":\"screen\",\"fill_alpha\":{\"value\":0.5},\"fill_color\":{\"value\":\"lightgrey\"},\"left_units\":\"screen\",\"level\":\"overlay\",\"line_alpha\":{\"value\":1.0},\"line_color\":{\"value\":\"black\"},\"line_dash\":[4,4],\"line_width\":{\"value\":2},\"render_mode\":\"css\",\"right_units\":\"screen\",\"top_units\":\"screen\"},\"id\":\"8135\",\"type\":\"BoxAnnotation\"},{\"attributes\":{\"axis_label\":\"SE.PRM.ENRL.TC.ZS\",\"formatter\":{\"id\":\"8131\",\"type\":\"BasicTickFormatter\"},\"ticker\":{\"id\":\"8108\",\"type\":\"BasicTicker\"}},\"id\":\"8107\",\"type\":\"LinearAxis\"},{\"attributes\":{\"callback\":null,\"data\":{\"x\":[\"2000\",\"2001\",\"2002\",\"2003\",\"2004\",\"2005\",\"2006\",\"2007\",\"2008\",\"2009\",\"2010\",\"2011\",\"2012\",\"2013\",\"2014\",\"2015\",\"2016\",\"2017\"],\"y\":[33.37755563924882,29.576682084815303,33.39105245017255,33.78858371701915,27.636590845295633,27.45339800030305,23.324341793120627,23.17127908568781,22.095315459859545,21.858282304050356,21.554388636153632,25.18934762572364,21.227554530089638,24.16219498381551,24.02036266685082,24.579997184779092,25.221609621925957,24.28833783517891]},\"selected\":{\"id\":\"8503\",\"type\":\"Selection\"},\"selection_policy\":{\"id\":\"8502\",\"type\":\"UnionRenderers\"}},\"id\":\"8159\",\"type\":\"ColumnDataSource\"},{\"attributes\":{\"items\":[{\"id\":\"8137\",\"type\":\"LegendItem\"},{\"id\":\"8158\",\"type\":\"LegendItem\"}],\"location\":\"bottom_left\"},\"id\":\"8136\",\"type\":\"Legend\"},{\"attributes\":{},\"id\":\"8108\",\"type\":\"BasicTicker\"},{\"attributes\":{\"fill_color\":{\"value\":\"#5430F1\"},\"line_color\":{\"value\":\"#5430F1\"},\"line_width\":{\"value\":3},\"x\":{\"field\":\"x\"},\"y\":{\"field\":\"y\"}},\"id\":\"8160\",\"type\":\"Circle\"},{\"attributes\":{\"label\":{\"value\":\"LDCs\"},\"renderers\":[{\"id\":\"8128\",\"type\":\"GlyphRenderer\"}]},\"id\":\"8137\",\"type\":\"LegendItem\"},{\"attributes\":{\"dimension\":1,\"grid_line_alpha\":0.5,\"ticker\":{\"id\":\"8108\",\"type\":\"BasicTicker\"}},\"id\":\"8111\",\"type\":\"Grid\"},{\"attributes\":{\"fill_alpha\":{\"value\":0.1},\"fill_color\":{\"value\":\"#1f77b4\"},\"line_alpha\":{\"value\":0.1},\"line_color\":{\"value\":\"#1f77b4\"},\"line_width\":{\"value\":3},\"x\":{\"field\":\"x\"},\"y\":{\"field\":\"y\"}},\"id\":\"8161\",\"type\":\"Circle\"},{\"attributes\":{\"callback\":null,\"data\":{\"x\":[\"2000\",\"2001\",\"2002\",\"2003\",\"2004\",\"2005\",\"2006\",\"2007\",\"2008\",\"2009\",\"2010\",\"2011\",\"2012\",\"2013\",\"2014\",\"2015\",\"2016\",\"2017\"],\"y\":[50.219754446492956,45.26929484916652,44.56567701152669,45.6269370204446,46.76775854418482,47.1921065769571,46.27871208171681,44.66074157882838,46.9343675391617,46.3074080366361,44.50508898614148,45.14368089916075,42.48998185792987,42.00549530078297,39.07495315457117,41.85413035115011,37.28410352715137,38.768702276413286]},\"selected\":{\"id\":\"8156\",\"type\":\"Selection\"},\"selection_policy\":{\"id\":\"8155\",\"type\":\"UnionRenderers\"}},\"id\":\"8138\",\"type\":\"ColumnDataSource\"},{\"attributes\":{\"data_source\":{\"id\":\"8159\",\"type\":\"ColumnDataSource\"},\"glyph\":{\"id\":\"8160\",\"type\":\"Circle\"},\"hover_glyph\":null,\"muted_glyph\":null,\"nonselection_glyph\":{\"id\":\"8161\",\"type\":\"Circle\"},\"selection_glyph\":null,\"view\":{\"id\":\"8163\",\"type\":\"CDSView\"}},\"id\":\"8162\",\"type\":\"GlyphRenderer\"},{\"attributes\":{\"line_color\":\"#FA1857\",\"x\":{\"field\":\"x\"},\"y\":{\"field\":\"y\"}},\"id\":\"8126\",\"type\":\"Line\"},{\"attributes\":{\"fill_color\":{\"value\":\"#FA1857\"},\"line_color\":{\"value\":\"#FA1857\"},\"line_width\":{\"value\":3},\"x\":{\"field\":\"x\"},\"y\":{\"field\":\"y\"}},\"id\":\"8139\",\"type\":\"Circle\"},{\"attributes\":{\"source\":{\"id\":\"8159\",\"type\":\"ColumnDataSource\"}},\"id\":\"8163\",\"type\":\"CDSView\"},{\"attributes\":{\"callback\":null,\"data\":{\"x\":[\"2000\",\"2001\",\"2002\",\"2003\",\"2004\",\"2005\",\"2006\",\"2007\",\"2008\",\"2009\",\"2010\",\"2011\",\"2012\",\"2013\",\"2014\",\"2015\",\"2016\",\"2017\"],\"y\":[50.219754446492956,45.26929484916652,44.56567701152669,45.6269370204446,46.76775854418482,47.1921065769571,46.27871208171681,44.66074157882838,46.9343675391617,46.3074080366361,44.50508898614148,45.14368089916075,42.48998185792987,42.00549530078297,39.07495315457117,41.85413035115011,37.28410352715137,38.768702276413286]},\"selected\":{\"id\":\"8154\",\"type\":\"Selection\"},\"selection_policy\":{\"id\":\"8153\",\"type\":\"UnionRenderers\"}},\"id\":\"8125\",\"type\":\"ColumnDataSource\"},{\"attributes\":{\"fill_alpha\":{\"value\":0.1},\"fill_color\":{\"value\":\"#1f77b4\"},\"line_alpha\":{\"value\":0.1},\"line_color\":{\"value\":\"#1f77b4\"},\"line_width\":{\"value\":3},\"x\":{\"field\":\"x\"},\"y\":{\"field\":\"y\"}},\"id\":\"8140\",\"type\":\"Circle\"},{\"attributes\":{\"line_alpha\":0.1,\"line_color\":\"#1f77b4\",\"x\":{\"field\":\"x\"},\"y\":{\"field\":\"y\"}},\"id\":\"8127\",\"type\":\"Line\"},{\"attributes\":{},\"id\":\"8112\",\"type\":\"PanTool\"},{\"attributes\":{\"data_source\":{\"id\":\"8138\",\"type\":\"ColumnDataSource\"},\"glyph\":{\"id\":\"8139\",\"type\":\"Circle\"},\"hover_glyph\":null,\"muted_glyph\":null,\"nonselection_glyph\":{\"id\":\"8140\",\"type\":\"Circle\"},\"selection_glyph\":null,\"view\":{\"id\":\"8142\",\"type\":\"CDSView\"}},\"id\":\"8141\",\"type\":\"GlyphRenderer\"},{\"attributes\":{},\"id\":\"8500\",\"type\":\"UnionRenderers\"},{\"attributes\":{},\"id\":\"8113\",\"type\":\"WheelZoomTool\"},{\"attributes\":{\"source\":{\"id\":\"8138\",\"type\":\"ColumnDataSource\"}},\"id\":\"8142\",\"type\":\"CDSView\"},{\"attributes\":{},\"id\":\"8501\",\"type\":\"Selection\"},{\"attributes\":{\"overlay\":{\"id\":\"8135\",\"type\":\"BoxAnnotation\"}},\"id\":\"8114\",\"type\":\"BoxZoomTool\"},{\"attributes\":{\"callback\":null,\"data\":{\"x\":[\"2000\",\"2001\",\"2002\",\"2003\",\"2004\",\"2005\",\"2006\",\"2007\",\"2008\",\"2009\",\"2010\",\"2011\",\"2012\",\"2013\",\"2014\",\"2015\",\"2016\",\"2017\"],\"y\":[33.37755563924882,29.576682084815303,33.39105245017255,33.78858371701915,27.636590845295633,27.45339800030305,23.324341793120627,23.17127908568781,22.095315459859545,21.858282304050356,21.554388636153632,25.18934762572364,21.227554530089638,24.16219498381551,24.02036266685082,24.579997184779092,25.221609621925957,24.28833783517891]},\"selected\":{\"id\":\"8501\",\"type\":\"Selection\"},\"selection_policy\":{\"id\":\"8500\",\"type\":\"UnionRenderers\"}},\"id\":\"8143\",\"type\":\"ColumnDataSource\"},{\"attributes\":{},\"id\":\"8502\",\"type\":\"UnionRenderers\"},{\"attributes\":{},\"id\":\"8115\",\"type\":\"SaveTool\"},{\"attributes\":{\"line_color\":\"#5430F1\",\"x\":{\"field\":\"x\"},\"y\":{\"field\":\"y\"}},\"id\":\"8144\",\"type\":\"Line\"},{\"attributes\":{\"callback\":null,\"tooltips\":\"                \\n        <div style=padding=5px>Year:@x</div>\\n        <div style=padding=5px>Value:@y</div>        \\n        \"},\"id\":\"8164\",\"type\":\"HoverTool\"},{\"attributes\":{},\"id\":\"8503\",\"type\":\"Selection\"},{\"attributes\":{\"text\":\"Pupil-teacher ratio, primary weighted against Population, total\"},\"id\":\"8092\",\"type\":\"Title\"},{\"attributes\":{},\"id\":\"8116\",\"type\":\"ResetTool\"},{\"attributes\":{\"line_alpha\":0.1,\"line_color\":\"#1f77b4\",\"x\":{\"field\":\"x\"},\"y\":{\"field\":\"y\"}},\"id\":\"8145\",\"type\":\"Line\"},{\"attributes\":{\"callback\":null},\"id\":\"8094\",\"type\":\"DataRange1d\"},{\"attributes\":{},\"id\":\"8117\",\"type\":\"HelpTool\"},{\"attributes\":{\"data_source\":{\"id\":\"8143\",\"type\":\"ColumnDataSource\"},\"glyph\":{\"id\":\"8144\",\"type\":\"Line\"},\"hover_glyph\":null,\"muted_glyph\":null,\"nonselection_glyph\":{\"id\":\"8145\",\"type\":\"Line\"},\"selection_glyph\":null,\"view\":{\"id\":\"8147\",\"type\":\"CDSView\"}},\"id\":\"8146\",\"type\":\"GlyphRenderer\"},{\"attributes\":{\"callback\":null},\"id\":\"8096\",\"type\":\"DataRange1d\"},{\"attributes\":{\"active_drag\":\"auto\",\"active_inspect\":\"auto\",\"active_multi\":null,\"active_scroll\":\"auto\",\"active_tap\":\"auto\",\"tools\":[{\"id\":\"8112\",\"type\":\"PanTool\"},{\"id\":\"8113\",\"type\":\"WheelZoomTool\"},{\"id\":\"8114\",\"type\":\"BoxZoomTool\"},{\"id\":\"8115\",\"type\":\"SaveTool\"},{\"id\":\"8116\",\"type\":\"ResetTool\"},{\"id\":\"8117\",\"type\":\"HelpTool\"},{\"id\":\"8164\",\"type\":\"HoverTool\"}]},\"id\":\"8118\",\"type\":\"Toolbar\"},{\"attributes\":{\"source\":{\"id\":\"8143\",\"type\":\"ColumnDataSource\"}},\"id\":\"8147\",\"type\":\"CDSView\"},{\"attributes\":{},\"id\":\"8098\",\"type\":\"LinearScale\"},{\"attributes\":{},\"id\":\"8153\",\"type\":\"UnionRenderers\"},{\"attributes\":{\"data_source\":{\"id\":\"8125\",\"type\":\"ColumnDataSource\"},\"glyph\":{\"id\":\"8126\",\"type\":\"Line\"},\"hover_glyph\":null,\"muted_glyph\":null,\"nonselection_glyph\":{\"id\":\"8127\",\"type\":\"Line\"},\"selection_glyph\":null,\"view\":{\"id\":\"8129\",\"type\":\"CDSView\"}},\"id\":\"8128\",\"type\":\"GlyphRenderer\"},{\"attributes\":{},\"id\":\"8100\",\"type\":\"LinearScale\"},{\"attributes\":{},\"id\":\"8154\",\"type\":\"Selection\"},{\"attributes\":{\"axis_label\":\"Years\",\"formatter\":{\"id\":\"8133\",\"type\":\"BasicTickFormatter\"},\"ticker\":{\"id\":\"8103\",\"type\":\"BasicTicker\"}},\"id\":\"8102\",\"type\":\"LinearAxis\"},{\"attributes\":{\"source\":{\"id\":\"8125\",\"type\":\"ColumnDataSource\"}},\"id\":\"8129\",\"type\":\"CDSView\"},{\"attributes\":{},\"id\":\"8155\",\"type\":\"UnionRenderers\"},{\"attributes\":{},\"id\":\"8103\",\"type\":\"BasicTicker\"}],\"root_ids\":[\"8091\"]},\"title\":\"Bokeh Application\",\"version\":\"1.3.4\"}};\n",
       "  var render_items = [{\"docid\":\"47e9268c-038f-4fab-889e-33ff8f7378ef\",\"roots\":{\"8091\":\"d261fba6-3170-4cc4-804f-dd2c509e2c54\"}}];\n",
       "  root.Bokeh.embed.embed_items_notebook(docs_json, render_items);\n",
       "\n",
       "  }\n",
       "  if (root.Bokeh !== undefined) {\n",
       "    embed_document(root);\n",
       "  } else {\n",
       "    var attempts = 0;\n",
       "    var timer = setInterval(function(root) {\n",
       "      if (root.Bokeh !== undefined) {\n",
       "        embed_document(root);\n",
       "        clearInterval(timer);\n",
       "      }\n",
       "      attempts++;\n",
       "      if (attempts > 100) {\n",
       "        console.log(\"Bokeh: ERROR: Unable to run BokehJS code because BokehJS library is missing\");\n",
       "        clearInterval(timer);\n",
       "      }\n",
       "    }, 10, root)\n",
       "  }\n",
       "})(window);"
      ],
      "application/vnd.bokehjs_exec.v0+json": ""
     },
     "metadata": {
      "application/vnd.bokehjs_exec.v0+json": {
       "id": "8091"
      }
     },
     "output_type": "display_data"
    }
   ],
   "source": [
    "# Pupil teacher ratio\n",
    "years = list(map(str, list(range(2000,2018))))\n",
    "result = show_weighted_average(years, 'SE.PRM.ENRL.TC.ZS', 'SP.POP.TOTL', \n",
    "                               ['LDCs', 'Developing excluding LDCs'])"
   ]
  },
  {
   "cell_type": "code",
   "execution_count": 25,
   "metadata": {
    "ExecuteTime": {
     "end_time": "2019-10-25T14:25:45.212387Z",
     "start_time": "2019-10-25T14:25:43.238485Z"
    },
    "scrolled": true,
    "slideshow": {
     "slide_type": "slide"
    }
   },
   "outputs": [
    {
     "data": {
      "text/html": [
       "\n",
       "\n",
       "\n",
       "\n",
       "\n",
       "\n",
       "  <div class=\"bk-root\" id=\"13b47363-bc31-4cbe-becc-71cf5138037a\" data-root-id=\"8589\"></div>\n"
      ]
     },
     "metadata": {},
     "output_type": "display_data"
    },
    {
     "data": {
      "application/javascript": [
       "(function(root) {\n",
       "  function embed_document(root) {\n",
       "    \n",
       "  var docs_json = {\"f77f9b91-5602-406a-aa0b-c8b4cefee5b9\":{\"roots\":{\"references\":[{\"attributes\":{\"below\":[{\"id\":\"8600\",\"type\":\"LinearAxis\"}],\"center\":[{\"id\":\"8604\",\"type\":\"Grid\"},{\"id\":\"8609\",\"type\":\"Grid\"},{\"id\":\"8634\",\"type\":\"Legend\"}],\"left\":[{\"id\":\"8605\",\"type\":\"LinearAxis\"}],\"plot_height\":400,\"plot_width\":800,\"renderers\":[{\"id\":\"8626\",\"type\":\"GlyphRenderer\"},{\"id\":\"8639\",\"type\":\"GlyphRenderer\"},{\"id\":\"8644\",\"type\":\"GlyphRenderer\"},{\"id\":\"8660\",\"type\":\"GlyphRenderer\"},{\"id\":\"8665\",\"type\":\"GlyphRenderer\"},{\"id\":\"8685\",\"type\":\"GlyphRenderer\"}],\"title\":{\"id\":\"8590\",\"type\":\"Title\"},\"toolbar\":{\"id\":\"8616\",\"type\":\"Toolbar\"},\"x_range\":{\"id\":\"8592\",\"type\":\"DataRange1d\"},\"x_scale\":{\"id\":\"8596\",\"type\":\"LinearScale\"},\"y_range\":{\"id\":\"8594\",\"type\":\"DataRange1d\"},\"y_scale\":{\"id\":\"8598\",\"type\":\"LinearScale\"}},\"id\":\"8589\",\"subtype\":\"Figure\",\"type\":\"Plot\"},{\"attributes\":{},\"id\":\"8611\",\"type\":\"WheelZoomTool\"},{\"attributes\":{},\"id\":\"8677\",\"type\":\"Selection\"},{\"attributes\":{},\"id\":\"8614\",\"type\":\"ResetTool\"},{\"attributes\":{},\"id\":\"8629\",\"type\":\"BasicTickFormatter\"},{\"attributes\":{},\"id\":\"8679\",\"type\":\"Selection\"},{\"attributes\":{},\"id\":\"8631\",\"type\":\"BasicTickFormatter\"},{\"attributes\":{},\"id\":\"8678\",\"type\":\"UnionRenderers\"},{\"attributes\":{\"label\":{\"value\":\"OECD\"},\"renderers\":[{\"id\":\"8665\",\"type\":\"GlyphRenderer\"}]},\"id\":\"8681\",\"type\":\"LegendItem\"},{\"attributes\":{\"bottom_units\":\"screen\",\"fill_alpha\":{\"value\":0.5},\"fill_color\":{\"value\":\"lightgrey\"},\"left_units\":\"screen\",\"level\":\"overlay\",\"line_alpha\":{\"value\":1.0},\"line_color\":{\"value\":\"black\"},\"line_dash\":[4,4],\"line_width\":{\"value\":2},\"render_mode\":\"css\",\"right_units\":\"screen\",\"top_units\":\"screen\"},\"id\":\"8633\",\"type\":\"BoxAnnotation\"},{\"attributes\":{},\"id\":\"8615\",\"type\":\"HelpTool\"},{\"attributes\":{\"items\":[{\"id\":\"8635\",\"type\":\"LegendItem\"},{\"id\":\"8656\",\"type\":\"LegendItem\"},{\"id\":\"8681\",\"type\":\"LegendItem\"}],\"location\":\"bottom_left\"},\"id\":\"8634\",\"type\":\"Legend\"},{\"attributes\":{\"fill_color\":{\"value\":\"#2CC775\"},\"line_color\":{\"value\":\"#2CC775\"},\"line_width\":{\"value\":3},\"x\":{\"field\":\"x\"},\"y\":{\"field\":\"y\"}},\"id\":\"8683\",\"type\":\"Circle\"},{\"attributes\":{\"label\":{\"value\":\"LDCs\"},\"renderers\":[{\"id\":\"8626\",\"type\":\"GlyphRenderer\"}]},\"id\":\"8635\",\"type\":\"LegendItem\"},{\"attributes\":{\"active_drag\":\"auto\",\"active_inspect\":\"auto\",\"active_multi\":null,\"active_scroll\":\"auto\",\"active_tap\":\"auto\",\"tools\":[{\"id\":\"8610\",\"type\":\"PanTool\"},{\"id\":\"8611\",\"type\":\"WheelZoomTool\"},{\"id\":\"8612\",\"type\":\"BoxZoomTool\"},{\"id\":\"8613\",\"type\":\"SaveTool\"},{\"id\":\"8614\",\"type\":\"ResetTool\"},{\"id\":\"8615\",\"type\":\"HelpTool\"},{\"id\":\"8687\",\"type\":\"HoverTool\"}]},\"id\":\"8616\",\"type\":\"Toolbar\"},{\"attributes\":{\"callback\":null,\"data\":{\"x\":[\"2005\",\"2006\",\"2007\",\"2008\",\"2009\",\"2010\",\"2011\",\"2012\",\"2013\",\"2014\"],\"y\":[94.93443,95.15333,95.36857,95.04649,95.58816,95.58591,96.00005,95.99993,96.40006,96.78775]},\"selected\":{\"id\":\"9044\",\"type\":\"Selection\"},\"selection_policy\":{\"id\":\"9043\",\"type\":\"UnionRenderers\"}},\"id\":\"8682\",\"type\":\"ColumnDataSource\"},{\"attributes\":{\"text\":\"Trained teachers in primary education (% of total teachers) weighted against Primary education, teachers\"},\"id\":\"8590\",\"type\":\"Title\"},{\"attributes\":{\"data_source\":{\"id\":\"8682\",\"type\":\"ColumnDataSource\"},\"glyph\":{\"id\":\"8683\",\"type\":\"Circle\"},\"hover_glyph\":null,\"muted_glyph\":null,\"nonselection_glyph\":{\"id\":\"8684\",\"type\":\"Circle\"},\"selection_glyph\":null,\"view\":{\"id\":\"8686\",\"type\":\"CDSView\"}},\"id\":\"8685\",\"type\":\"GlyphRenderer\"},{\"attributes\":{\"line_alpha\":0.1,\"line_color\":\"#1f77b4\",\"x\":{\"field\":\"x\"},\"y\":{\"field\":\"y\"}},\"id\":\"8625\",\"type\":\"Line\"},{\"attributes\":{\"callback\":null,\"data\":{\"x\":[\"2005\",\"2006\",\"2007\",\"2008\",\"2009\",\"2010\",\"2011\",\"2012\",\"2013\",\"2014\"],\"y\":[66.33843499380261,73.6181546297905,79.87922435274227,76.22568962608408,80.2435538339136,84.97842027154721,70.47245477285507,81.31887968744829,76.00179129461559,81.44549818899193]},\"selected\":{\"id\":\"8654\",\"type\":\"Selection\"},\"selection_policy\":{\"id\":\"8653\",\"type\":\"UnionRenderers\"}},\"id\":\"8636\",\"type\":\"ColumnDataSource\"},{\"attributes\":{\"data_source\":{\"id\":\"8657\",\"type\":\"ColumnDataSource\"},\"glyph\":{\"id\":\"8658\",\"type\":\"Circle\"},\"hover_glyph\":null,\"muted_glyph\":null,\"nonselection_glyph\":{\"id\":\"8659\",\"type\":\"Circle\"},\"selection_glyph\":null,\"view\":{\"id\":\"8661\",\"type\":\"CDSView\"}},\"id\":\"8660\",\"type\":\"GlyphRenderer\"},{\"attributes\":{\"callback\":null},\"id\":\"8592\",\"type\":\"DataRange1d\"},{\"attributes\":{\"fill_color\":{\"value\":\"#FA1857\"},\"line_color\":{\"value\":\"#FA1857\"},\"line_width\":{\"value\":3},\"x\":{\"field\":\"x\"},\"y\":{\"field\":\"y\"}},\"id\":\"8637\",\"type\":\"Circle\"},{\"attributes\":{\"data_source\":{\"id\":\"8623\",\"type\":\"ColumnDataSource\"},\"glyph\":{\"id\":\"8624\",\"type\":\"Line\"},\"hover_glyph\":null,\"muted_glyph\":null,\"nonselection_glyph\":{\"id\":\"8625\",\"type\":\"Line\"},\"selection_glyph\":null,\"view\":{\"id\":\"8627\",\"type\":\"CDSView\"}},\"id\":\"8626\",\"type\":\"GlyphRenderer\"},{\"attributes\":{\"grid_line_color\":null,\"ticker\":{\"id\":\"8601\",\"type\":\"BasicTicker\"}},\"id\":\"8604\",\"type\":\"Grid\"},{\"attributes\":{\"source\":{\"id\":\"8682\",\"type\":\"ColumnDataSource\"}},\"id\":\"8686\",\"type\":\"CDSView\"},{\"attributes\":{\"fill_alpha\":{\"value\":0.1},\"fill_color\":{\"value\":\"#1f77b4\"},\"line_alpha\":{\"value\":0.1},\"line_color\":{\"value\":\"#1f77b4\"},\"line_width\":{\"value\":3},\"x\":{\"field\":\"x\"},\"y\":{\"field\":\"y\"}},\"id\":\"8684\",\"type\":\"Circle\"},{\"attributes\":{\"fill_alpha\":{\"value\":0.1},\"fill_color\":{\"value\":\"#1f77b4\"},\"line_alpha\":{\"value\":0.1},\"line_color\":{\"value\":\"#1f77b4\"},\"line_width\":{\"value\":3},\"x\":{\"field\":\"x\"},\"y\":{\"field\":\"y\"}},\"id\":\"8638\",\"type\":\"Circle\"},{\"attributes\":{\"source\":{\"id\":\"8657\",\"type\":\"ColumnDataSource\"}},\"id\":\"8661\",\"type\":\"CDSView\"},{\"attributes\":{},\"id\":\"8601\",\"type\":\"BasicTicker\"},{\"attributes\":{\"callback\":null},\"id\":\"8594\",\"type\":\"DataRange1d\"},{\"attributes\":{\"axis_label\":\"SE.PRM.TCAQ.ZS\",\"formatter\":{\"id\":\"8629\",\"type\":\"BasicTickFormatter\"},\"ticker\":{\"id\":\"8606\",\"type\":\"BasicTicker\"}},\"id\":\"8605\",\"type\":\"LinearAxis\"},{\"attributes\":{\"data_source\":{\"id\":\"8636\",\"type\":\"ColumnDataSource\"},\"glyph\":{\"id\":\"8637\",\"type\":\"Circle\"},\"hover_glyph\":null,\"muted_glyph\":null,\"nonselection_glyph\":{\"id\":\"8638\",\"type\":\"Circle\"},\"selection_glyph\":null,\"view\":{\"id\":\"8640\",\"type\":\"CDSView\"}},\"id\":\"8639\",\"type\":\"GlyphRenderer\"},{\"attributes\":{},\"id\":\"8596\",\"type\":\"LinearScale\"},{\"attributes\":{\"callback\":null,\"data\":{\"x\":[\"2005\",\"2006\",\"2007\",\"2008\",\"2009\",\"2010\",\"2011\",\"2012\",\"2013\",\"2014\"],\"y\":[94.93443,95.15333,95.36857,95.04649,95.58816,95.58591,96.00005,95.99993,96.40006,96.78775]},\"selected\":{\"id\":\"9042\",\"type\":\"Selection\"},\"selection_policy\":{\"id\":\"9041\",\"type\":\"UnionRenderers\"}},\"id\":\"8662\",\"type\":\"ColumnDataSource\"},{\"attributes\":{\"source\":{\"id\":\"8636\",\"type\":\"ColumnDataSource\"}},\"id\":\"8640\",\"type\":\"CDSView\"},{\"attributes\":{},\"id\":\"9041\",\"type\":\"UnionRenderers\"},{\"attributes\":{},\"id\":\"8598\",\"type\":\"LinearScale\"},{\"attributes\":{},\"id\":\"8606\",\"type\":\"BasicTicker\"},{\"attributes\":{\"source\":{\"id\":\"8623\",\"type\":\"ColumnDataSource\"}},\"id\":\"8627\",\"type\":\"CDSView\"},{\"attributes\":{\"callback\":null,\"data\":{\"x\":[\"2005\",\"2006\",\"2007\",\"2008\",\"2009\",\"2010\",\"2011\",\"2012\",\"2013\",\"2014\"],\"y\":[80.72632882678737,81.71278915097777,90.68777914211722,90.47838782500084,90.73361691395684,84.09064780984899,88.1094587699186,88.97810074188251,90.90131756789039,93.93159751056649]},\"selected\":{\"id\":\"8677\",\"type\":\"Selection\"},\"selection_policy\":{\"id\":\"8676\",\"type\":\"UnionRenderers\"}},\"id\":\"8641\",\"type\":\"ColumnDataSource\"},{\"attributes\":{},\"id\":\"9042\",\"type\":\"Selection\"},{\"attributes\":{\"line_color\":\"#2CC775\",\"x\":{\"field\":\"x\"},\"y\":{\"field\":\"y\"}},\"id\":\"8663\",\"type\":\"Line\"},{\"attributes\":{\"axis_label\":\"Years\",\"formatter\":{\"id\":\"8631\",\"type\":\"BasicTickFormatter\"},\"ticker\":{\"id\":\"8601\",\"type\":\"BasicTicker\"}},\"id\":\"8600\",\"type\":\"LinearAxis\"},{\"attributes\":{\"line_color\":\"#FA1857\",\"x\":{\"field\":\"x\"},\"y\":{\"field\":\"y\"}},\"id\":\"8624\",\"type\":\"Line\"},{\"attributes\":{},\"id\":\"8653\",\"type\":\"UnionRenderers\"},{\"attributes\":{\"line_color\":\"#5430F1\",\"x\":{\"field\":\"x\"},\"y\":{\"field\":\"y\"}},\"id\":\"8642\",\"type\":\"Line\"},{\"attributes\":{},\"id\":\"9043\",\"type\":\"UnionRenderers\"},{\"attributes\":{\"data_source\":{\"id\":\"8641\",\"type\":\"ColumnDataSource\"},\"glyph\":{\"id\":\"8642\",\"type\":\"Line\"},\"hover_glyph\":null,\"muted_glyph\":null,\"nonselection_glyph\":{\"id\":\"8643\",\"type\":\"Line\"},\"selection_glyph\":null,\"view\":{\"id\":\"8645\",\"type\":\"CDSView\"}},\"id\":\"8644\",\"type\":\"GlyphRenderer\"},{\"attributes\":{\"dimension\":1,\"grid_line_alpha\":0.5,\"ticker\":{\"id\":\"8606\",\"type\":\"BasicTicker\"}},\"id\":\"8609\",\"type\":\"Grid\"},{\"attributes\":{\"line_alpha\":0.1,\"line_color\":\"#1f77b4\",\"x\":{\"field\":\"x\"},\"y\":{\"field\":\"y\"}},\"id\":\"8664\",\"type\":\"Line\"},{\"attributes\":{\"label\":{\"value\":\"Developing excluding LDCs\"},\"renderers\":[{\"id\":\"8644\",\"type\":\"GlyphRenderer\"}]},\"id\":\"8656\",\"type\":\"LegendItem\"},{\"attributes\":{},\"id\":\"9044\",\"type\":\"Selection\"},{\"attributes\":{\"callback\":null,\"tooltips\":\"                \\n        <div style=padding=5px>Year:@x</div>\\n        <div style=padding=5px>Value:@y</div>        \\n        \"},\"id\":\"8687\",\"type\":\"HoverTool\"},{\"attributes\":{},\"id\":\"8676\",\"type\":\"UnionRenderers\"},{\"attributes\":{\"line_alpha\":0.1,\"line_color\":\"#1f77b4\",\"x\":{\"field\":\"x\"},\"y\":{\"field\":\"y\"}},\"id\":\"8643\",\"type\":\"Line\"},{\"attributes\":{\"callback\":null,\"data\":{\"x\":[\"2005\",\"2006\",\"2007\",\"2008\",\"2009\",\"2010\",\"2011\",\"2012\",\"2013\",\"2014\"],\"y\":[66.33843499380261,73.6181546297905,79.87922435274227,76.22568962608408,80.2435538339136,84.97842027154721,70.47245477285507,81.31887968744829,76.00179129461559,81.44549818899193]},\"selected\":{\"id\":\"8652\",\"type\":\"Selection\"},\"selection_policy\":{\"id\":\"8651\",\"type\":\"UnionRenderers\"}},\"id\":\"8623\",\"type\":\"ColumnDataSource\"},{\"attributes\":{},\"id\":\"8654\",\"type\":\"Selection\"},{\"attributes\":{\"data_source\":{\"id\":\"8662\",\"type\":\"ColumnDataSource\"},\"glyph\":{\"id\":\"8663\",\"type\":\"Line\"},\"hover_glyph\":null,\"muted_glyph\":null,\"nonselection_glyph\":{\"id\":\"8664\",\"type\":\"Line\"},\"selection_glyph\":null,\"view\":{\"id\":\"8666\",\"type\":\"CDSView\"}},\"id\":\"8665\",\"type\":\"GlyphRenderer\"},{\"attributes\":{\"source\":{\"id\":\"8641\",\"type\":\"ColumnDataSource\"}},\"id\":\"8645\",\"type\":\"CDSView\"},{\"attributes\":{\"callback\":null,\"data\":{\"x\":[\"2005\",\"2006\",\"2007\",\"2008\",\"2009\",\"2010\",\"2011\",\"2012\",\"2013\",\"2014\"],\"y\":[80.72632882678737,81.71278915097777,90.68777914211722,90.47838782500084,90.73361691395684,84.09064780984899,88.1094587699186,88.97810074188251,90.90131756789039,93.93159751056649]},\"selected\":{\"id\":\"8679\",\"type\":\"Selection\"},\"selection_policy\":{\"id\":\"8678\",\"type\":\"UnionRenderers\"}},\"id\":\"8657\",\"type\":\"ColumnDataSource\"},{\"attributes\":{},\"id\":\"8610\",\"type\":\"PanTool\"},{\"attributes\":{},\"id\":\"8652\",\"type\":\"Selection\"},{\"attributes\":{\"fill_alpha\":{\"value\":0.1},\"fill_color\":{\"value\":\"#1f77b4\"},\"line_alpha\":{\"value\":0.1},\"line_color\":{\"value\":\"#1f77b4\"},\"line_width\":{\"value\":3},\"x\":{\"field\":\"x\"},\"y\":{\"field\":\"y\"}},\"id\":\"8659\",\"type\":\"Circle\"},{\"attributes\":{\"source\":{\"id\":\"8662\",\"type\":\"ColumnDataSource\"}},\"id\":\"8666\",\"type\":\"CDSView\"},{\"attributes\":{},\"id\":\"8651\",\"type\":\"UnionRenderers\"},{\"attributes\":{\"fill_color\":{\"value\":\"#5430F1\"},\"line_color\":{\"value\":\"#5430F1\"},\"line_width\":{\"value\":3},\"x\":{\"field\":\"x\"},\"y\":{\"field\":\"y\"}},\"id\":\"8658\",\"type\":\"Circle\"},{\"attributes\":{\"overlay\":{\"id\":\"8633\",\"type\":\"BoxAnnotation\"}},\"id\":\"8612\",\"type\":\"BoxZoomTool\"},{\"attributes\":{},\"id\":\"8613\",\"type\":\"SaveTool\"}],\"root_ids\":[\"8589\"]},\"title\":\"Bokeh Application\",\"version\":\"1.3.4\"}};\n",
       "  var render_items = [{\"docid\":\"f77f9b91-5602-406a-aa0b-c8b4cefee5b9\",\"roots\":{\"8589\":\"13b47363-bc31-4cbe-becc-71cf5138037a\"}}];\n",
       "  root.Bokeh.embed.embed_items_notebook(docs_json, render_items);\n",
       "\n",
       "  }\n",
       "  if (root.Bokeh !== undefined) {\n",
       "    embed_document(root);\n",
       "  } else {\n",
       "    var attempts = 0;\n",
       "    var timer = setInterval(function(root) {\n",
       "      if (root.Bokeh !== undefined) {\n",
       "        embed_document(root);\n",
       "        clearInterval(timer);\n",
       "      }\n",
       "      attempts++;\n",
       "      if (attempts > 100) {\n",
       "        console.log(\"Bokeh: ERROR: Unable to run BokehJS code because BokehJS library is missing\");\n",
       "        clearInterval(timer);\n",
       "      }\n",
       "    }, 10, root)\n",
       "  }\n",
       "})(window);"
      ],
      "application/vnd.bokehjs_exec.v0+json": ""
     },
     "metadata": {
      "application/vnd.bokehjs_exec.v0+json": {
       "id": "8589"
      }
     },
     "output_type": "display_data"
    }
   ],
   "source": [
    "# Trained teachers in primary\n",
    "years = list(map(str, list(range(2005,2015))))\n",
    "result = show_weighted_average(years, 'SE.PRM.TCAQ.ZS', 'SE.PRM.TCHR', \n",
    "                               ['LDCs', 'Developing excluding LDCs', 'OECD'])"
   ]
  },
  {
   "cell_type": "code",
   "execution_count": 26,
   "metadata": {
    "ExecuteTime": {
     "end_time": "2019-10-25T14:25:47.154621Z",
     "start_time": "2019-10-25T14:25:45.217692Z"
    },
    "slideshow": {
     "slide_type": "slide"
    }
   },
   "outputs": [
    {
     "data": {
      "text/html": [
       "\n",
       "\n",
       "\n",
       "\n",
       "\n",
       "\n",
       "  <div class=\"bk-root\" id=\"af42b258-11b7-4cf3-a042-7a33fd56e250\" data-root-id=\"9154\"></div>\n"
      ]
     },
     "metadata": {},
     "output_type": "display_data"
    },
    {
     "data": {
      "application/javascript": [
       "(function(root) {\n",
       "  function embed_document(root) {\n",
       "    \n",
       "  var docs_json = {\"8c29e2b5-836a-49d7-834f-bfce279dfbbd\":{\"roots\":{\"references\":[{\"attributes\":{\"below\":[{\"id\":\"9165\",\"type\":\"LinearAxis\"}],\"center\":[{\"id\":\"9169\",\"type\":\"Grid\"},{\"id\":\"9174\",\"type\":\"Grid\"},{\"id\":\"9199\",\"type\":\"Legend\"}],\"left\":[{\"id\":\"9170\",\"type\":\"LinearAxis\"}],\"plot_height\":400,\"plot_width\":800,\"renderers\":[{\"id\":\"9191\",\"type\":\"GlyphRenderer\"},{\"id\":\"9204\",\"type\":\"GlyphRenderer\"},{\"id\":\"9209\",\"type\":\"GlyphRenderer\"},{\"id\":\"9225\",\"type\":\"GlyphRenderer\"},{\"id\":\"9230\",\"type\":\"GlyphRenderer\"},{\"id\":\"9250\",\"type\":\"GlyphRenderer\"}],\"title\":{\"id\":\"9155\",\"type\":\"Title\"},\"toolbar\":{\"id\":\"9181\",\"type\":\"Toolbar\"},\"x_range\":{\"id\":\"9157\",\"type\":\"DataRange1d\"},\"x_scale\":{\"id\":\"9161\",\"type\":\"LinearScale\"},\"y_range\":{\"id\":\"9159\",\"type\":\"DataRange1d\"},\"y_scale\":{\"id\":\"9163\",\"type\":\"LinearScale\"}},\"id\":\"9154\",\"subtype\":\"Figure\",\"type\":\"Plot\"},{\"attributes\":{\"source\":{\"id\":\"9227\",\"type\":\"ColumnDataSource\"}},\"id\":\"9231\",\"type\":\"CDSView\"},{\"attributes\":{},\"id\":\"9179\",\"type\":\"ResetTool\"},{\"attributes\":{\"line_color\":\"#5430F1\",\"x\":{\"field\":\"x\"},\"y\":{\"field\":\"y\"}},\"id\":\"9207\",\"type\":\"Line\"},{\"attributes\":{},\"id\":\"9241\",\"type\":\"UnionRenderers\"},{\"attributes\":{\"line_alpha\":0.1,\"line_color\":\"#1f77b4\",\"x\":{\"field\":\"x\"},\"y\":{\"field\":\"y\"}},\"id\":\"9208\",\"type\":\"Line\"},{\"attributes\":{},\"id\":\"9242\",\"type\":\"Selection\"},{\"attributes\":{},\"id\":\"9178\",\"type\":\"SaveTool\"},{\"attributes\":{\"data_source\":{\"id\":\"9206\",\"type\":\"ColumnDataSource\"},\"glyph\":{\"id\":\"9207\",\"type\":\"Line\"},\"hover_glyph\":null,\"muted_glyph\":null,\"nonselection_glyph\":{\"id\":\"9208\",\"type\":\"Line\"},\"selection_glyph\":null,\"view\":{\"id\":\"9210\",\"type\":\"CDSView\"}},\"id\":\"9209\",\"type\":\"GlyphRenderer\"},{\"attributes\":{\"overlay\":{\"id\":\"9198\",\"type\":\"BoxAnnotation\"}},\"id\":\"9177\",\"type\":\"BoxZoomTool\"},{\"attributes\":{},\"id\":\"9243\",\"type\":\"UnionRenderers\"},{\"attributes\":{\"source\":{\"id\":\"9206\",\"type\":\"ColumnDataSource\"}},\"id\":\"9210\",\"type\":\"CDSView\"},{\"attributes\":{\"line_alpha\":0.1,\"line_color\":\"#1f77b4\",\"x\":{\"field\":\"x\"},\"y\":{\"field\":\"y\"}},\"id\":\"9190\",\"type\":\"Line\"},{\"attributes\":{},\"id\":\"9175\",\"type\":\"PanTool\"},{\"attributes\":{},\"id\":\"9244\",\"type\":\"Selection\"},{\"attributes\":{\"active_drag\":\"auto\",\"active_inspect\":\"auto\",\"active_multi\":null,\"active_scroll\":\"auto\",\"active_tap\":\"auto\",\"tools\":[{\"id\":\"9175\",\"type\":\"PanTool\"},{\"id\":\"9176\",\"type\":\"WheelZoomTool\"},{\"id\":\"9177\",\"type\":\"BoxZoomTool\"},{\"id\":\"9178\",\"type\":\"SaveTool\"},{\"id\":\"9179\",\"type\":\"ResetTool\"},{\"id\":\"9180\",\"type\":\"HelpTool\"},{\"id\":\"9252\",\"type\":\"HoverTool\"}]},\"id\":\"9181\",\"type\":\"Toolbar\"},{\"attributes\":{},\"id\":\"9216\",\"type\":\"UnionRenderers\"},{\"attributes\":{\"label\":{\"value\":\"OECD\"},\"renderers\":[{\"id\":\"9230\",\"type\":\"GlyphRenderer\"}]},\"id\":\"9246\",\"type\":\"LegendItem\"},{\"attributes\":{},\"id\":\"9176\",\"type\":\"WheelZoomTool\"},{\"attributes\":{\"data_source\":{\"id\":\"9188\",\"type\":\"ColumnDataSource\"},\"glyph\":{\"id\":\"9189\",\"type\":\"Line\"},\"hover_glyph\":null,\"muted_glyph\":null,\"nonselection_glyph\":{\"id\":\"9190\",\"type\":\"Line\"},\"selection_glyph\":null,\"view\":{\"id\":\"9192\",\"type\":\"CDSView\"}},\"id\":\"9191\",\"type\":\"GlyphRenderer\"},{\"attributes\":{},\"id\":\"9218\",\"type\":\"UnionRenderers\"},{\"attributes\":{\"axis_label\":\"Years\",\"formatter\":{\"id\":\"9196\",\"type\":\"BasicTickFormatter\"},\"ticker\":{\"id\":\"9166\",\"type\":\"BasicTicker\"}},\"id\":\"9165\",\"type\":\"LinearAxis\"},{\"attributes\":{\"source\":{\"id\":\"9188\",\"type\":\"ColumnDataSource\"}},\"id\":\"9192\",\"type\":\"CDSView\"},{\"attributes\":{\"callback\":null,\"data\":{\"x\":[\"2005\",\"2006\",\"2007\",\"2008\",\"2009\",\"2010\",\"2011\",\"2012\",\"2013\",\"2014\"],\"y\":[89.36711,85.318,90.00625,88.78647,89.85324,90.99565,85.67287,91.79758,92.06496,90.8964]},\"selected\":{\"id\":\"9627\",\"type\":\"Selection\"},\"selection_policy\":{\"id\":\"9626\",\"type\":\"UnionRenderers\"}},\"id\":\"9247\",\"type\":\"ColumnDataSource\"},{\"attributes\":{},\"id\":\"9217\",\"type\":\"Selection\"},{\"attributes\":{},\"id\":\"9163\",\"type\":\"LinearScale\"},{\"attributes\":{\"fill_color\":{\"value\":\"#2CC775\"},\"line_color\":{\"value\":\"#2CC775\"},\"line_width\":{\"value\":3},\"x\":{\"field\":\"x\"},\"y\":{\"field\":\"y\"}},\"id\":\"9248\",\"type\":\"Circle\"},{\"attributes\":{},\"id\":\"9219\",\"type\":\"Selection\"},{\"attributes\":{\"fill_alpha\":{\"value\":0.1},\"fill_color\":{\"value\":\"#1f77b4\"},\"line_alpha\":{\"value\":0.1},\"line_color\":{\"value\":\"#1f77b4\"},\"line_width\":{\"value\":3},\"x\":{\"field\":\"x\"},\"y\":{\"field\":\"y\"}},\"id\":\"9249\",\"type\":\"Circle\"},{\"attributes\":{},\"id\":\"9166\",\"type\":\"BasicTicker\"},{\"attributes\":{\"callback\":null,\"data\":{\"x\":[\"2005\",\"2006\",\"2007\",\"2008\",\"2009\",\"2010\",\"2011\",\"2012\",\"2013\",\"2014\"],\"y\":[86.87512995423359,87.63056023970321,92.32432134685388,91.63770297087862,92.55462125523024,83.46199102331038,88.7996933360356,89.20267700659186,89.01092336236253,90.12016981876029]},\"selected\":{\"id\":\"9244\",\"type\":\"Selection\"},\"selection_policy\":{\"id\":\"9243\",\"type\":\"UnionRenderers\"}},\"id\":\"9222\",\"type\":\"ColumnDataSource\"},{\"attributes\":{\"axis_label\":\"SE.SEC.TCAQ.ZS\",\"formatter\":{\"id\":\"9194\",\"type\":\"BasicTickFormatter\"},\"ticker\":{\"id\":\"9171\",\"type\":\"BasicTicker\"}},\"id\":\"9170\",\"type\":\"LinearAxis\"},{\"attributes\":{\"data_source\":{\"id\":\"9247\",\"type\":\"ColumnDataSource\"},\"glyph\":{\"id\":\"9248\",\"type\":\"Circle\"},\"hover_glyph\":null,\"muted_glyph\":null,\"nonselection_glyph\":{\"id\":\"9249\",\"type\":\"Circle\"},\"selection_glyph\":null,\"view\":{\"id\":\"9251\",\"type\":\"CDSView\"}},\"id\":\"9250\",\"type\":\"GlyphRenderer\"},{\"attributes\":{},\"id\":\"9194\",\"type\":\"BasicTickFormatter\"},{\"attributes\":{\"callback\":null,\"tooltips\":\"                \\n        <div style=padding=5px>Year:@x</div>\\n        <div style=padding=5px>Value:@y</div>        \\n        \"},\"id\":\"9252\",\"type\":\"HoverTool\"},{\"attributes\":{\"label\":{\"value\":\"Developing excluding LDCs\"},\"renderers\":[{\"id\":\"9209\",\"type\":\"GlyphRenderer\"}]},\"id\":\"9221\",\"type\":\"LegendItem\"},{\"attributes\":{\"source\":{\"id\":\"9247\",\"type\":\"ColumnDataSource\"}},\"id\":\"9251\",\"type\":\"CDSView\"},{\"attributes\":{},\"id\":\"9196\",\"type\":\"BasicTickFormatter\"},{\"attributes\":{\"fill_color\":{\"value\":\"#5430F1\"},\"line_color\":{\"value\":\"#5430F1\"},\"line_width\":{\"value\":3},\"x\":{\"field\":\"x\"},\"y\":{\"field\":\"y\"}},\"id\":\"9223\",\"type\":\"Circle\"},{\"attributes\":{},\"id\":\"9171\",\"type\":\"BasicTicker\"},{\"attributes\":{\"bottom_units\":\"screen\",\"fill_alpha\":{\"value\":0.5},\"fill_color\":{\"value\":\"lightgrey\"},\"left_units\":\"screen\",\"level\":\"overlay\",\"line_alpha\":{\"value\":1.0},\"line_color\":{\"value\":\"black\"},\"line_dash\":[4,4],\"line_width\":{\"value\":2},\"render_mode\":\"css\",\"right_units\":\"screen\",\"top_units\":\"screen\"},\"id\":\"9198\",\"type\":\"BoxAnnotation\"},{\"attributes\":{\"callback\":null},\"id\":\"9157\",\"type\":\"DataRange1d\"},{\"attributes\":{\"items\":[{\"id\":\"9200\",\"type\":\"LegendItem\"},{\"id\":\"9221\",\"type\":\"LegendItem\"},{\"id\":\"9246\",\"type\":\"LegendItem\"}],\"location\":\"bottom_left\"},\"id\":\"9199\",\"type\":\"Legend\"},{\"attributes\":{\"data_source\":{\"id\":\"9222\",\"type\":\"ColumnDataSource\"},\"glyph\":{\"id\":\"9223\",\"type\":\"Circle\"},\"hover_glyph\":null,\"muted_glyph\":null,\"nonselection_glyph\":{\"id\":\"9224\",\"type\":\"Circle\"},\"selection_glyph\":null,\"view\":{\"id\":\"9226\",\"type\":\"CDSView\"}},\"id\":\"9225\",\"type\":\"GlyphRenderer\"},{\"attributes\":{\"line_color\":\"#FA1857\",\"x\":{\"field\":\"x\"},\"y\":{\"field\":\"y\"}},\"id\":\"9189\",\"type\":\"Line\"},{\"attributes\":{\"label\":{\"value\":\"LDCs\"},\"renderers\":[{\"id\":\"9191\",\"type\":\"GlyphRenderer\"}]},\"id\":\"9200\",\"type\":\"LegendItem\"},{\"attributes\":{\"text\":\"Trained teachers in secondary education (% of total teachers) weighted against Secondary education, teachers\"},\"id\":\"9155\",\"type\":\"Title\"},{\"attributes\":{},\"id\":\"9624\",\"type\":\"UnionRenderers\"},{\"attributes\":{},\"id\":\"9161\",\"type\":\"LinearScale\"},{\"attributes\":{\"dimension\":1,\"grid_line_alpha\":0.5,\"ticker\":{\"id\":\"9171\",\"type\":\"BasicTicker\"}},\"id\":\"9174\",\"type\":\"Grid\"},{\"attributes\":{\"callback\":null,\"data\":{\"x\":[\"2005\",\"2006\",\"2007\",\"2008\",\"2009\",\"2010\",\"2011\",\"2012\",\"2013\",\"2014\"],\"y\":[79.32941752876195,86.15621977489293,86.02774661892278,71.04739762838975,86.58685496184725,56.63384935461981,67.78695315953377,62.34684223691954,52.49870973544407,51.4375480377963]},\"selected\":{\"id\":\"9219\",\"type\":\"Selection\"},\"selection_policy\":{\"id\":\"9218\",\"type\":\"UnionRenderers\"}},\"id\":\"9201\",\"type\":\"ColumnDataSource\"},{\"attributes\":{\"fill_alpha\":{\"value\":0.1},\"fill_color\":{\"value\":\"#1f77b4\"},\"line_alpha\":{\"value\":0.1},\"line_color\":{\"value\":\"#1f77b4\"},\"line_width\":{\"value\":3},\"x\":{\"field\":\"x\"},\"y\":{\"field\":\"y\"}},\"id\":\"9224\",\"type\":\"Circle\"},{\"attributes\":{},\"id\":\"9627\",\"type\":\"Selection\"},{\"attributes\":{\"callback\":null,\"data\":{\"x\":[\"2005\",\"2006\",\"2007\",\"2008\",\"2009\",\"2010\",\"2011\",\"2012\",\"2013\",\"2014\"],\"y\":[79.32941752876195,86.15621977489293,86.02774661892278,71.04739762838975,86.58685496184725,56.63384935461981,67.78695315953377,62.34684223691954,52.49870973544407,51.4375480377963]},\"selected\":{\"id\":\"9217\",\"type\":\"Selection\"},\"selection_policy\":{\"id\":\"9216\",\"type\":\"UnionRenderers\"}},\"id\":\"9188\",\"type\":\"ColumnDataSource\"},{\"attributes\":{},\"id\":\"9626\",\"type\":\"UnionRenderers\"},{\"attributes\":{\"source\":{\"id\":\"9222\",\"type\":\"ColumnDataSource\"}},\"id\":\"9226\",\"type\":\"CDSView\"},{\"attributes\":{\"fill_color\":{\"value\":\"#FA1857\"},\"line_color\":{\"value\":\"#FA1857\"},\"line_width\":{\"value\":3},\"x\":{\"field\":\"x\"},\"y\":{\"field\":\"y\"}},\"id\":\"9202\",\"type\":\"Circle\"},{\"attributes\":{\"callback\":null},\"id\":\"9159\",\"type\":\"DataRange1d\"},{\"attributes\":{\"callback\":null,\"data\":{\"x\":[\"2005\",\"2006\",\"2007\",\"2008\",\"2009\",\"2010\",\"2011\",\"2012\",\"2013\",\"2014\"],\"y\":[89.36711,85.318,90.00625,88.78647,89.85324,90.99565,85.67287,91.79758,92.06496,90.8964]},\"selected\":{\"id\":\"9625\",\"type\":\"Selection\"},\"selection_policy\":{\"id\":\"9624\",\"type\":\"UnionRenderers\"}},\"id\":\"9227\",\"type\":\"ColumnDataSource\"},{\"attributes\":{},\"id\":\"9625\",\"type\":\"Selection\"},{\"attributes\":{},\"id\":\"9180\",\"type\":\"HelpTool\"},{\"attributes\":{\"grid_line_color\":null,\"ticker\":{\"id\":\"9166\",\"type\":\"BasicTicker\"}},\"id\":\"9169\",\"type\":\"Grid\"},{\"attributes\":{\"fill_alpha\":{\"value\":0.1},\"fill_color\":{\"value\":\"#1f77b4\"},\"line_alpha\":{\"value\":0.1},\"line_color\":{\"value\":\"#1f77b4\"},\"line_width\":{\"value\":3},\"x\":{\"field\":\"x\"},\"y\":{\"field\":\"y\"}},\"id\":\"9203\",\"type\":\"Circle\"},{\"attributes\":{\"line_color\":\"#2CC775\",\"x\":{\"field\":\"x\"},\"y\":{\"field\":\"y\"}},\"id\":\"9228\",\"type\":\"Line\"},{\"attributes\":{\"line_alpha\":0.1,\"line_color\":\"#1f77b4\",\"x\":{\"field\":\"x\"},\"y\":{\"field\":\"y\"}},\"id\":\"9229\",\"type\":\"Line\"},{\"attributes\":{\"callback\":null,\"data\":{\"x\":[\"2005\",\"2006\",\"2007\",\"2008\",\"2009\",\"2010\",\"2011\",\"2012\",\"2013\",\"2014\"],\"y\":[86.87512995423359,87.63056023970321,92.32432134685388,91.63770297087862,92.55462125523024,83.46199102331038,88.7996933360356,89.20267700659186,89.01092336236253,90.12016981876029]},\"selected\":{\"id\":\"9242\",\"type\":\"Selection\"},\"selection_policy\":{\"id\":\"9241\",\"type\":\"UnionRenderers\"}},\"id\":\"9206\",\"type\":\"ColumnDataSource\"},{\"attributes\":{\"data_source\":{\"id\":\"9201\",\"type\":\"ColumnDataSource\"},\"glyph\":{\"id\":\"9202\",\"type\":\"Circle\"},\"hover_glyph\":null,\"muted_glyph\":null,\"nonselection_glyph\":{\"id\":\"9203\",\"type\":\"Circle\"},\"selection_glyph\":null,\"view\":{\"id\":\"9205\",\"type\":\"CDSView\"}},\"id\":\"9204\",\"type\":\"GlyphRenderer\"},{\"attributes\":{\"data_source\":{\"id\":\"9227\",\"type\":\"ColumnDataSource\"},\"glyph\":{\"id\":\"9228\",\"type\":\"Line\"},\"hover_glyph\":null,\"muted_glyph\":null,\"nonselection_glyph\":{\"id\":\"9229\",\"type\":\"Line\"},\"selection_glyph\":null,\"view\":{\"id\":\"9231\",\"type\":\"CDSView\"}},\"id\":\"9230\",\"type\":\"GlyphRenderer\"},{\"attributes\":{\"source\":{\"id\":\"9201\",\"type\":\"ColumnDataSource\"}},\"id\":\"9205\",\"type\":\"CDSView\"}],\"root_ids\":[\"9154\"]},\"title\":\"Bokeh Application\",\"version\":\"1.3.4\"}};\n",
       "  var render_items = [{\"docid\":\"8c29e2b5-836a-49d7-834f-bfce279dfbbd\",\"roots\":{\"9154\":\"af42b258-11b7-4cf3-a042-7a33fd56e250\"}}];\n",
       "  root.Bokeh.embed.embed_items_notebook(docs_json, render_items);\n",
       "\n",
       "  }\n",
       "  if (root.Bokeh !== undefined) {\n",
       "    embed_document(root);\n",
       "  } else {\n",
       "    var attempts = 0;\n",
       "    var timer = setInterval(function(root) {\n",
       "      if (root.Bokeh !== undefined) {\n",
       "        embed_document(root);\n",
       "        clearInterval(timer);\n",
       "      }\n",
       "      attempts++;\n",
       "      if (attempts > 100) {\n",
       "        console.log(\"Bokeh: ERROR: Unable to run BokehJS code because BokehJS library is missing\");\n",
       "        clearInterval(timer);\n",
       "      }\n",
       "    }, 10, root)\n",
       "  }\n",
       "})(window);"
      ],
      "application/vnd.bokehjs_exec.v0+json": ""
     },
     "metadata": {
      "application/vnd.bokehjs_exec.v0+json": {
       "id": "9154"
      }
     },
     "output_type": "display_data"
    }
   ],
   "source": [
    "# Trained teachers secondary\n",
    "years = list(map(str, list(range(2005,2015))))\n",
    "result = show_weighted_average(years, 'SE.SEC.TCAQ.ZS', 'SE.SEC.TCHR', \n",
    "                               ['LDCs', 'Developing excluding LDCs', 'OECD'])"
   ]
  },
  {
   "cell_type": "markdown",
   "metadata": {
    "slideshow": {
     "slide_type": "slide"
    }
   },
   "source": [
    "# Youth development"
   ]
  },
  {
   "cell_type": "code",
   "execution_count": 27,
   "metadata": {
    "ExecuteTime": {
     "end_time": "2019-10-25T14:25:48.983763Z",
     "start_time": "2019-10-25T14:25:47.157404Z"
    },
    "slideshow": {
     "slide_type": "slide"
    }
   },
   "outputs": [
    {
     "data": {
      "text/html": [
       "\n",
       "\n",
       "\n",
       "\n",
       "\n",
       "\n",
       "  <div class=\"bk-root\" id=\"f9ed1b6e-5fd8-40f0-b169-8ffce5a5cc1a\" data-root-id=\"9737\"></div>\n"
      ]
     },
     "metadata": {},
     "output_type": "display_data"
    },
    {
     "data": {
      "application/javascript": [
       "(function(root) {\n",
       "  function embed_document(root) {\n",
       "    \n",
       "  var docs_json = {\"48f344c4-5e5a-43dd-825b-5079ed8997a4\":{\"roots\":{\"references\":[{\"attributes\":{\"below\":[{\"id\":\"9748\",\"type\":\"LinearAxis\"}],\"center\":[{\"id\":\"9752\",\"type\":\"Grid\"},{\"id\":\"9757\",\"type\":\"Grid\"},{\"id\":\"9782\",\"type\":\"Legend\"}],\"left\":[{\"id\":\"9753\",\"type\":\"LinearAxis\"}],\"plot_height\":400,\"plot_width\":800,\"renderers\":[{\"id\":\"9774\",\"type\":\"GlyphRenderer\"},{\"id\":\"9787\",\"type\":\"GlyphRenderer\"},{\"id\":\"9792\",\"type\":\"GlyphRenderer\"},{\"id\":\"9808\",\"type\":\"GlyphRenderer\"}],\"title\":{\"id\":\"9738\",\"type\":\"Title\"},\"toolbar\":{\"id\":\"9764\",\"type\":\"Toolbar\"},\"x_range\":{\"id\":\"9740\",\"type\":\"DataRange1d\"},\"x_scale\":{\"id\":\"9744\",\"type\":\"LinearScale\"},\"y_range\":{\"id\":\"9742\",\"type\":\"DataRange1d\"},\"y_scale\":{\"id\":\"9746\",\"type\":\"LinearScale\"}},\"id\":\"9737\",\"subtype\":\"Figure\",\"type\":\"Plot\"},{\"attributes\":{},\"id\":\"10198\",\"type\":\"UnionRenderers\"},{\"attributes\":{\"data_source\":{\"id\":\"9771\",\"type\":\"ColumnDataSource\"},\"glyph\":{\"id\":\"9772\",\"type\":\"Line\"},\"hover_glyph\":null,\"muted_glyph\":null,\"nonselection_glyph\":{\"id\":\"9773\",\"type\":\"Line\"},\"selection_glyph\":null,\"view\":{\"id\":\"9775\",\"type\":\"CDSView\"}},\"id\":\"9774\",\"type\":\"GlyphRenderer\"},{\"attributes\":{\"grid_line_color\":null,\"ticker\":{\"id\":\"9749\",\"type\":\"BasicTicker\"}},\"id\":\"9752\",\"type\":\"Grid\"},{\"attributes\":{},\"id\":\"9758\",\"type\":\"PanTool\"},{\"attributes\":{},\"id\":\"9800\",\"type\":\"Selection\"},{\"attributes\":{\"label\":{\"value\":\"LDCs\"},\"renderers\":[{\"id\":\"9774\",\"type\":\"GlyphRenderer\"}]},\"id\":\"9783\",\"type\":\"LegendItem\"},{\"attributes\":{\"source\":{\"id\":\"9789\",\"type\":\"ColumnDataSource\"}},\"id\":\"9793\",\"type\":\"CDSView\"},{\"attributes\":{},\"id\":\"9749\",\"type\":\"BasicTicker\"},{\"attributes\":{},\"id\":\"10197\",\"type\":\"Selection\"},{\"attributes\":{\"label\":{\"value\":\"Developing excluding LDCs\"},\"renderers\":[{\"id\":\"9792\",\"type\":\"GlyphRenderer\"}]},\"id\":\"9804\",\"type\":\"LegendItem\"},{\"attributes\":{\"bottom_units\":\"screen\",\"fill_alpha\":{\"value\":0.5},\"fill_color\":{\"value\":\"lightgrey\"},\"left_units\":\"screen\",\"level\":\"overlay\",\"line_alpha\":{\"value\":1.0},\"line_color\":{\"value\":\"black\"},\"line_dash\":[4,4],\"line_width\":{\"value\":2},\"render_mode\":\"css\",\"right_units\":\"screen\",\"top_units\":\"screen\"},\"id\":\"9781\",\"type\":\"BoxAnnotation\"},{\"attributes\":{\"text\":\"Literacy rate, youth male (% of males ages 15-24) weighted against Population, total\"},\"id\":\"9738\",\"type\":\"Title\"},{\"attributes\":{},\"id\":\"10199\",\"type\":\"Selection\"},{\"attributes\":{\"fill_color\":{\"value\":\"#FA1857\"},\"line_color\":{\"value\":\"#FA1857\"},\"line_width\":{\"value\":3},\"x\":{\"field\":\"x\"},\"y\":{\"field\":\"y\"}},\"id\":\"9785\",\"type\":\"Circle\"},{\"attributes\":{\"callback\":null},\"id\":\"9740\",\"type\":\"DataRange1d\"},{\"attributes\":{\"fill_alpha\":{\"value\":0.1},\"fill_color\":{\"value\":\"#1f77b4\"},\"line_alpha\":{\"value\":0.1},\"line_color\":{\"value\":\"#1f77b4\"},\"line_width\":{\"value\":3},\"x\":{\"field\":\"x\"},\"y\":{\"field\":\"y\"}},\"id\":\"9807\",\"type\":\"Circle\"},{\"attributes\":{\"source\":{\"id\":\"9771\",\"type\":\"ColumnDataSource\"}},\"id\":\"9775\",\"type\":\"CDSView\"},{\"attributes\":{\"callback\":null},\"id\":\"9742\",\"type\":\"DataRange1d\"},{\"attributes\":{},\"id\":\"9754\",\"type\":\"BasicTicker\"},{\"attributes\":{},\"id\":\"9799\",\"type\":\"UnionRenderers\"},{\"attributes\":{\"data_source\":{\"id\":\"9805\",\"type\":\"ColumnDataSource\"},\"glyph\":{\"id\":\"9806\",\"type\":\"Circle\"},\"hover_glyph\":null,\"muted_glyph\":null,\"nonselection_glyph\":{\"id\":\"9807\",\"type\":\"Circle\"},\"selection_glyph\":null,\"view\":{\"id\":\"9809\",\"type\":\"CDSView\"}},\"id\":\"9808\",\"type\":\"GlyphRenderer\"},{\"attributes\":{},\"id\":\"9777\",\"type\":\"BasicTickFormatter\"},{\"attributes\":{\"axis_label\":\"SE.ADT.1524.LT.MA.ZS\",\"formatter\":{\"id\":\"9777\",\"type\":\"BasicTickFormatter\"},\"ticker\":{\"id\":\"9754\",\"type\":\"BasicTicker\"}},\"id\":\"9753\",\"type\":\"LinearAxis\"},{\"attributes\":{\"fill_alpha\":{\"value\":0.1},\"fill_color\":{\"value\":\"#1f77b4\"},\"line_alpha\":{\"value\":0.1},\"line_color\":{\"value\":\"#1f77b4\"},\"line_width\":{\"value\":3},\"x\":{\"field\":\"x\"},\"y\":{\"field\":\"y\"}},\"id\":\"9786\",\"type\":\"Circle\"},{\"attributes\":{\"callback\":null,\"data\":{\"x\":[\"2005\",\"2006\",\"2007\",\"2008\",\"2009\",\"2010\",\"2011\",\"2012\",\"2013\",\"2014\"],\"y\":[55.45037040894994,66.06053979838372,61.59263991865721,70.57472702626119,77.29950443176172,72.34804785677224,75.02611752268099,80.00946290801379,81.31988745347162,78.84605966652113]},\"selected\":{\"id\":\"9800\",\"type\":\"Selection\"},\"selection_policy\":{\"id\":\"9799\",\"type\":\"UnionRenderers\"}},\"id\":\"9771\",\"type\":\"ColumnDataSource\"},{\"attributes\":{\"line_color\":\"#5430F1\",\"x\":{\"field\":\"x\"},\"y\":{\"field\":\"y\"}},\"id\":\"9790\",\"type\":\"Line\"},{\"attributes\":{\"data_source\":{\"id\":\"9789\",\"type\":\"ColumnDataSource\"},\"glyph\":{\"id\":\"9790\",\"type\":\"Line\"},\"hover_glyph\":null,\"muted_glyph\":null,\"nonselection_glyph\":{\"id\":\"9791\",\"type\":\"Line\"},\"selection_glyph\":null,\"view\":{\"id\":\"9793\",\"type\":\"CDSView\"}},\"id\":\"9792\",\"type\":\"GlyphRenderer\"},{\"attributes\":{},\"id\":\"9762\",\"type\":\"ResetTool\"},{\"attributes\":{\"items\":[{\"id\":\"9783\",\"type\":\"LegendItem\"},{\"id\":\"9804\",\"type\":\"LegendItem\"}],\"location\":\"bottom_left\"},\"id\":\"9782\",\"type\":\"Legend\"},{\"attributes\":{\"callback\":null,\"tooltips\":\"                \\n        <div style=padding=5px>Year:@x</div>\\n        <div style=padding=5px>Value:@y</div>        \\n        \"},\"id\":\"9810\",\"type\":\"HoverTool\"},{\"attributes\":{\"dimension\":1,\"grid_line_alpha\":0.5,\"ticker\":{\"id\":\"9754\",\"type\":\"BasicTicker\"}},\"id\":\"9757\",\"type\":\"Grid\"},{\"attributes\":{\"line_alpha\":0.1,\"line_color\":\"#1f77b4\",\"x\":{\"field\":\"x\"},\"y\":{\"field\":\"y\"}},\"id\":\"9773\",\"type\":\"Line\"},{\"attributes\":{\"data_source\":{\"id\":\"9784\",\"type\":\"ColumnDataSource\"},\"glyph\":{\"id\":\"9785\",\"type\":\"Circle\"},\"hover_glyph\":null,\"muted_glyph\":null,\"nonselection_glyph\":{\"id\":\"9786\",\"type\":\"Circle\"},\"selection_glyph\":null,\"view\":{\"id\":\"9788\",\"type\":\"CDSView\"}},\"id\":\"9787\",\"type\":\"GlyphRenderer\"},{\"attributes\":{\"line_color\":\"#FA1857\",\"x\":{\"field\":\"x\"},\"y\":{\"field\":\"y\"}},\"id\":\"9772\",\"type\":\"Line\"},{\"attributes\":{},\"id\":\"9759\",\"type\":\"WheelZoomTool\"},{\"attributes\":{},\"id\":\"10196\",\"type\":\"UnionRenderers\"},{\"attributes\":{},\"id\":\"9746\",\"type\":\"LinearScale\"},{\"attributes\":{\"fill_color\":{\"value\":\"#5430F1\"},\"line_color\":{\"value\":\"#5430F1\"},\"line_width\":{\"value\":3},\"x\":{\"field\":\"x\"},\"y\":{\"field\":\"y\"}},\"id\":\"9806\",\"type\":\"Circle\"},{\"attributes\":{\"overlay\":{\"id\":\"9781\",\"type\":\"BoxAnnotation\"}},\"id\":\"9760\",\"type\":\"BoxZoomTool\"},{\"attributes\":{\"source\":{\"id\":\"9805\",\"type\":\"ColumnDataSource\"}},\"id\":\"9809\",\"type\":\"CDSView\"},{\"attributes\":{\"callback\":null,\"data\":{\"x\":[\"2005\",\"2006\",\"2007\",\"2008\",\"2009\",\"2010\",\"2011\",\"2012\",\"2013\",\"2014\"],\"y\":[90.78019536879648,90.77418753814752,96.50711051017467,92.05316715849918,94.74806511431586,97.16832187574117,92.14401070505136,94.34896382647602,92.86366736987512,95.31671021609542]},\"selected\":{\"id\":\"10199\",\"type\":\"Selection\"},\"selection_policy\":{\"id\":\"10198\",\"type\":\"UnionRenderers\"}},\"id\":\"9805\",\"type\":\"ColumnDataSource\"},{\"attributes\":{},\"id\":\"9802\",\"type\":\"Selection\"},{\"attributes\":{\"axis_label\":\"Years\",\"formatter\":{\"id\":\"9779\",\"type\":\"BasicTickFormatter\"},\"ticker\":{\"id\":\"9749\",\"type\":\"BasicTicker\"}},\"id\":\"9748\",\"type\":\"LinearAxis\"},{\"attributes\":{\"callback\":null,\"data\":{\"x\":[\"2005\",\"2006\",\"2007\",\"2008\",\"2009\",\"2010\",\"2011\",\"2012\",\"2013\",\"2014\"],\"y\":[55.45037040894994,66.06053979838372,61.59263991865721,70.57472702626119,77.29950443176172,72.34804785677224,75.02611752268099,80.00946290801379,81.31988745347162,78.84605966652113]},\"selected\":{\"id\":\"9802\",\"type\":\"Selection\"},\"selection_policy\":{\"id\":\"9801\",\"type\":\"UnionRenderers\"}},\"id\":\"9784\",\"type\":\"ColumnDataSource\"},{\"attributes\":{\"source\":{\"id\":\"9784\",\"type\":\"ColumnDataSource\"}},\"id\":\"9788\",\"type\":\"CDSView\"},{\"attributes\":{},\"id\":\"9763\",\"type\":\"HelpTool\"},{\"attributes\":{\"line_alpha\":0.1,\"line_color\":\"#1f77b4\",\"x\":{\"field\":\"x\"},\"y\":{\"field\":\"y\"}},\"id\":\"9791\",\"type\":\"Line\"},{\"attributes\":{},\"id\":\"9801\",\"type\":\"UnionRenderers\"},{\"attributes\":{\"active_drag\":\"auto\",\"active_inspect\":\"auto\",\"active_multi\":null,\"active_scroll\":\"auto\",\"active_tap\":\"auto\",\"tools\":[{\"id\":\"9758\",\"type\":\"PanTool\"},{\"id\":\"9759\",\"type\":\"WheelZoomTool\"},{\"id\":\"9760\",\"type\":\"BoxZoomTool\"},{\"id\":\"9761\",\"type\":\"SaveTool\"},{\"id\":\"9762\",\"type\":\"ResetTool\"},{\"id\":\"9763\",\"type\":\"HelpTool\"},{\"id\":\"9810\",\"type\":\"HoverTool\"}]},\"id\":\"9764\",\"type\":\"Toolbar\"},{\"attributes\":{},\"id\":\"9761\",\"type\":\"SaveTool\"},{\"attributes\":{\"callback\":null,\"data\":{\"x\":[\"2005\",\"2006\",\"2007\",\"2008\",\"2009\",\"2010\",\"2011\",\"2012\",\"2013\",\"2014\"],\"y\":[90.78019536879648,90.77418753814752,96.50711051017467,92.05316715849918,94.74806511431586,97.16832187574117,92.14401070505136,94.34896382647602,92.86366736987512,95.31671021609542]},\"selected\":{\"id\":\"10197\",\"type\":\"Selection\"},\"selection_policy\":{\"id\":\"10196\",\"type\":\"UnionRenderers\"}},\"id\":\"9789\",\"type\":\"ColumnDataSource\"},{\"attributes\":{},\"id\":\"9779\",\"type\":\"BasicTickFormatter\"},{\"attributes\":{},\"id\":\"9744\",\"type\":\"LinearScale\"}],\"root_ids\":[\"9737\"]},\"title\":\"Bokeh Application\",\"version\":\"1.3.4\"}};\n",
       "  var render_items = [{\"docid\":\"48f344c4-5e5a-43dd-825b-5079ed8997a4\",\"roots\":{\"9737\":\"f9ed1b6e-5fd8-40f0-b169-8ffce5a5cc1a\"}}];\n",
       "  root.Bokeh.embed.embed_items_notebook(docs_json, render_items);\n",
       "\n",
       "  }\n",
       "  if (root.Bokeh !== undefined) {\n",
       "    embed_document(root);\n",
       "  } else {\n",
       "    var attempts = 0;\n",
       "    var timer = setInterval(function(root) {\n",
       "      if (root.Bokeh !== undefined) {\n",
       "        embed_document(root);\n",
       "        clearInterval(timer);\n",
       "      }\n",
       "      attempts++;\n",
       "      if (attempts > 100) {\n",
       "        console.log(\"Bokeh: ERROR: Unable to run BokehJS code because BokehJS library is missing\");\n",
       "        clearInterval(timer);\n",
       "      }\n",
       "    }, 10, root)\n",
       "  }\n",
       "})(window);"
      ],
      "application/vnd.bokehjs_exec.v0+json": ""
     },
     "metadata": {
      "application/vnd.bokehjs_exec.v0+json": {
       "id": "9737"
      }
     },
     "output_type": "display_data"
    }
   ],
   "source": [
    "# Literacy rate, youth male (% of male ages 15-24)\n",
    "result = show_weighted_average(years, 'SE.ADT.1524.LT.MA.ZS', 'SP.POP.TOTL', \n",
    "                               ['LDCs', 'Developing excluding LDCs'])"
   ]
  },
  {
   "cell_type": "code",
   "execution_count": 28,
   "metadata": {
    "ExecuteTime": {
     "end_time": "2019-10-25T14:30:13.251639Z",
     "start_time": "2019-10-25T14:30:11.929452Z"
    },
    "slideshow": {
     "slide_type": "slide"
    }
   },
   "outputs": [
    {
     "data": {
      "text/html": [
       "\n",
       "\n",
       "\n",
       "\n",
       "\n",
       "\n",
       "  <div class=\"bk-root\" id=\"bfd15fba-9153-431a-9b43-59cfd9a6ccd7\" data-root-id=\"10285\"></div>\n"
      ]
     },
     "metadata": {},
     "output_type": "display_data"
    },
    {
     "data": {
      "application/javascript": [
       "(function(root) {\n",
       "  function embed_document(root) {\n",
       "    \n",
       "  var docs_json = {\"568f6296-c598-4b1a-9e92-517a516c2fd4\":{\"roots\":{\"references\":[{\"attributes\":{\"below\":[{\"id\":\"10296\",\"type\":\"LinearAxis\"}],\"center\":[{\"id\":\"10300\",\"type\":\"Grid\"},{\"id\":\"10305\",\"type\":\"Grid\"},{\"id\":\"10330\",\"type\":\"Legend\"}],\"left\":[{\"id\":\"10301\",\"type\":\"LinearAxis\"}],\"plot_height\":400,\"plot_width\":800,\"renderers\":[{\"id\":\"10322\",\"type\":\"GlyphRenderer\"},{\"id\":\"10335\",\"type\":\"GlyphRenderer\"},{\"id\":\"10340\",\"type\":\"GlyphRenderer\"},{\"id\":\"10356\",\"type\":\"GlyphRenderer\"},{\"id\":\"10361\",\"type\":\"GlyphRenderer\"},{\"id\":\"10381\",\"type\":\"GlyphRenderer\"}],\"title\":{\"id\":\"10286\",\"type\":\"Title\"},\"toolbar\":{\"id\":\"10312\",\"type\":\"Toolbar\"},\"x_range\":{\"id\":\"10288\",\"type\":\"DataRange1d\"},\"x_scale\":{\"id\":\"10292\",\"type\":\"LinearScale\"},\"y_range\":{\"id\":\"10290\",\"type\":\"DataRange1d\"},\"y_scale\":{\"id\":\"10294\",\"type\":\"LinearScale\"}},\"id\":\"10285\",\"subtype\":\"Figure\",\"type\":\"Plot\"},{\"attributes\":{},\"id\":\"10325\",\"type\":\"BasicTickFormatter\"},{\"attributes\":{\"axis_label\":\"Years\",\"formatter\":{\"id\":\"10327\",\"type\":\"BasicTickFormatter\"},\"ticker\":{\"id\":\"10297\",\"type\":\"BasicTicker\"}},\"id\":\"10296\",\"type\":\"LinearAxis\"},{\"attributes\":{\"label\":{\"value\":\"UMICs\"},\"renderers\":[{\"id\":\"10361\",\"type\":\"GlyphRenderer\"}]},\"id\":\"10377\",\"type\":\"LegendItem\"},{\"attributes\":{\"callback\":null,\"data\":{\"x\":[\"2011\",\"2012\",\"2013\",\"2014\",\"2015\",\"2016\",\"2017\"],\"y\":[69.73643076577738,76.28621410347083,82.34338029433856,76.33290776938205,79.67428038697987,84.88400348022606,81.7564251787433]},\"selected\":{\"id\":\"10348\",\"type\":\"Selection\"},\"selection_policy\":{\"id\":\"10347\",\"type\":\"UnionRenderers\"}},\"id\":\"10319\",\"type\":\"ColumnDataSource\"},{\"attributes\":{\"axis_label\":\"SE.ADT.1524.LT.FE.ZS\",\"formatter\":{\"id\":\"10325\",\"type\":\"BasicTickFormatter\"},\"ticker\":{\"id\":\"10302\",\"type\":\"BasicTicker\"}},\"id\":\"10301\",\"type\":\"LinearAxis\"},{\"attributes\":{\"data_source\":{\"id\":\"10332\",\"type\":\"ColumnDataSource\"},\"glyph\":{\"id\":\"10333\",\"type\":\"Circle\"},\"hover_glyph\":null,\"muted_glyph\":null,\"nonselection_glyph\":{\"id\":\"10334\",\"type\":\"Circle\"},\"selection_glyph\":null,\"view\":{\"id\":\"10336\",\"type\":\"CDSView\"}},\"id\":\"10335\",\"type\":\"GlyphRenderer\"},{\"attributes\":{\"fill_color\":{\"value\":\"#5430F1\"},\"line_color\":{\"value\":\"#5430F1\"},\"line_width\":{\"value\":3},\"x\":{\"field\":\"x\"},\"y\":{\"field\":\"y\"}},\"id\":\"10354\",\"type\":\"Circle\"},{\"attributes\":{},\"id\":\"10789\",\"type\":\"UnionRenderers\"},{\"attributes\":{\"overlay\":{\"id\":\"10329\",\"type\":\"BoxAnnotation\"}},\"id\":\"10308\",\"type\":\"BoxZoomTool\"},{\"attributes\":{\"data_source\":{\"id\":\"10353\",\"type\":\"ColumnDataSource\"},\"glyph\":{\"id\":\"10354\",\"type\":\"Circle\"},\"hover_glyph\":null,\"muted_glyph\":null,\"nonselection_glyph\":{\"id\":\"10355\",\"type\":\"Circle\"},\"selection_glyph\":null,\"view\":{\"id\":\"10357\",\"type\":\"CDSView\"}},\"id\":\"10356\",\"type\":\"GlyphRenderer\"},{\"attributes\":{},\"id\":\"10327\",\"type\":\"BasicTickFormatter\"},{\"attributes\":{},\"id\":\"10347\",\"type\":\"UnionRenderers\"},{\"attributes\":{\"items\":[{\"id\":\"10331\",\"type\":\"LegendItem\"},{\"id\":\"10352\",\"type\":\"LegendItem\"},{\"id\":\"10377\",\"type\":\"LegendItem\"}],\"location\":\"bottom_left\"},\"id\":\"10330\",\"type\":\"Legend\"},{\"attributes\":{\"source\":{\"id\":\"10319\",\"type\":\"ColumnDataSource\"}},\"id\":\"10323\",\"type\":\"CDSView\"},{\"attributes\":{\"callback\":null,\"data\":{\"x\":[\"2011\",\"2012\",\"2013\",\"2014\",\"2015\",\"2016\",\"2017\"],\"y\":[98.80323873395295,98.93122055874738,98.98058143637144,99.08615738416806,99.12698901894608,99.24316995964482,99.10889426005937]},\"selected\":{\"id\":\"10790\",\"type\":\"Selection\"},\"selection_policy\":{\"id\":\"10789\",\"type\":\"UnionRenderers\"}},\"id\":\"10378\",\"type\":\"ColumnDataSource\"},{\"attributes\":{\"fill_alpha\":{\"value\":0.1},\"fill_color\":{\"value\":\"#1f77b4\"},\"line_alpha\":{\"value\":0.1},\"line_color\":{\"value\":\"#1f77b4\"},\"line_width\":{\"value\":3},\"x\":{\"field\":\"x\"},\"y\":{\"field\":\"y\"}},\"id\":\"10334\",\"type\":\"Circle\"},{\"attributes\":{\"data_source\":{\"id\":\"10358\",\"type\":\"ColumnDataSource\"},\"glyph\":{\"id\":\"10359\",\"type\":\"Line\"},\"hover_glyph\":null,\"muted_glyph\":null,\"nonselection_glyph\":{\"id\":\"10360\",\"type\":\"Line\"},\"selection_glyph\":null,\"view\":{\"id\":\"10362\",\"type\":\"CDSView\"}},\"id\":\"10361\",\"type\":\"GlyphRenderer\"},{\"attributes\":{\"source\":{\"id\":\"10337\",\"type\":\"ColumnDataSource\"}},\"id\":\"10341\",\"type\":\"CDSView\"},{\"attributes\":{\"line_alpha\":0.1,\"line_color\":\"#1f77b4\",\"x\":{\"field\":\"x\"},\"y\":{\"field\":\"y\"}},\"id\":\"10339\",\"type\":\"Line\"},{\"attributes\":{},\"id\":\"10373\",\"type\":\"Selection\"},{\"attributes\":{\"data_source\":{\"id\":\"10378\",\"type\":\"ColumnDataSource\"},\"glyph\":{\"id\":\"10379\",\"type\":\"Circle\"},\"hover_glyph\":null,\"muted_glyph\":null,\"nonselection_glyph\":{\"id\":\"10380\",\"type\":\"Circle\"},\"selection_glyph\":null,\"view\":{\"id\":\"10382\",\"type\":\"CDSView\"}},\"id\":\"10381\",\"type\":\"GlyphRenderer\"},{\"attributes\":{},\"id\":\"10309\",\"type\":\"SaveTool\"},{\"attributes\":{},\"id\":\"10375\",\"type\":\"Selection\"},{\"attributes\":{\"fill_color\":{\"value\":\"#FA1857\"},\"line_color\":{\"value\":\"#FA1857\"},\"line_width\":{\"value\":3},\"x\":{\"field\":\"x\"},\"y\":{\"field\":\"y\"}},\"id\":\"10333\",\"type\":\"Circle\"},{\"attributes\":{\"line_color\":\"#2CC775\",\"x\":{\"field\":\"x\"},\"y\":{\"field\":\"y\"}},\"id\":\"10359\",\"type\":\"Line\"},{\"attributes\":{\"line_color\":\"#5430F1\",\"x\":{\"field\":\"x\"},\"y\":{\"field\":\"y\"}},\"id\":\"10338\",\"type\":\"Line\"},{\"attributes\":{},\"id\":\"10374\",\"type\":\"UnionRenderers\"},{\"attributes\":{\"fill_color\":{\"value\":\"#2CC775\"},\"line_color\":{\"value\":\"#2CC775\"},\"line_width\":{\"value\":3},\"x\":{\"field\":\"x\"},\"y\":{\"field\":\"y\"}},\"id\":\"10379\",\"type\":\"Circle\"},{\"attributes\":{\"callback\":null},\"id\":\"10290\",\"type\":\"DataRange1d\"},{\"attributes\":{},\"id\":\"10310\",\"type\":\"ResetTool\"},{\"attributes\":{\"line_alpha\":0.1,\"line_color\":\"#1f77b4\",\"x\":{\"field\":\"x\"},\"y\":{\"field\":\"y\"}},\"id\":\"10321\",\"type\":\"Line\"},{\"attributes\":{\"callback\":null,\"tooltips\":\"                \\n        <div style=padding=5px>Year:@x</div>\\n        <div style=padding=5px>Value:@y</div>        \\n        \"},\"id\":\"10383\",\"type\":\"HoverTool\"},{\"attributes\":{\"grid_line_color\":null,\"ticker\":{\"id\":\"10297\",\"type\":\"BasicTicker\"}},\"id\":\"10300\",\"type\":\"Grid\"},{\"attributes\":{\"callback\":null,\"data\":{\"x\":[\"2011\",\"2012\",\"2013\",\"2014\",\"2015\",\"2016\",\"2017\"],\"y\":[69.73643076577738,76.28621410347083,82.34338029433856,76.33290776938205,79.67428038697987,84.88400348022606,81.7564251787433]},\"selected\":{\"id\":\"10350\",\"type\":\"Selection\"},\"selection_policy\":{\"id\":\"10349\",\"type\":\"UnionRenderers\"}},\"id\":\"10332\",\"type\":\"ColumnDataSource\"},{\"attributes\":{\"callback\":null,\"data\":{\"x\":[\"2011\",\"2012\",\"2013\",\"2014\",\"2015\",\"2016\",\"2017\"],\"y\":[98.80323873395295,98.93122055874738,98.98058143637144,99.08615738416806,99.12698901894608,99.24316995964482,99.10889426005937]},\"selected\":{\"id\":\"10788\",\"type\":\"Selection\"},\"selection_policy\":{\"id\":\"10787\",\"type\":\"UnionRenderers\"}},\"id\":\"10358\",\"type\":\"ColumnDataSource\"},{\"attributes\":{\"callback\":null,\"data\":{\"x\":[\"2011\",\"2012\",\"2013\",\"2014\",\"2015\",\"2016\",\"2017\"],\"y\":[86.47892526910303,90.71073278613366,89.69280855721597,93.23074490917638,99.22731691065268,99.34360327194112,90.85673268334823]},\"selected\":{\"id\":\"10373\",\"type\":\"Selection\"},\"selection_policy\":{\"id\":\"10372\",\"type\":\"UnionRenderers\"}},\"id\":\"10337\",\"type\":\"ColumnDataSource\"},{\"attributes\":{},\"id\":\"10349\",\"type\":\"UnionRenderers\"},{\"attributes\":{},\"id\":\"10307\",\"type\":\"WheelZoomTool\"},{\"attributes\":{\"source\":{\"id\":\"10378\",\"type\":\"ColumnDataSource\"}},\"id\":\"10382\",\"type\":\"CDSView\"},{\"attributes\":{\"dimension\":1,\"grid_line_alpha\":0.5,\"ticker\":{\"id\":\"10302\",\"type\":\"BasicTicker\"}},\"id\":\"10305\",\"type\":\"Grid\"},{\"attributes\":{\"source\":{\"id\":\"10353\",\"type\":\"ColumnDataSource\"}},\"id\":\"10357\",\"type\":\"CDSView\"},{\"attributes\":{},\"id\":\"10790\",\"type\":\"Selection\"},{\"attributes\":{},\"id\":\"10372\",\"type\":\"UnionRenderers\"},{\"attributes\":{},\"id\":\"10297\",\"type\":\"BasicTicker\"},{\"attributes\":{\"data_source\":{\"id\":\"10337\",\"type\":\"ColumnDataSource\"},\"glyph\":{\"id\":\"10338\",\"type\":\"Line\"},\"hover_glyph\":null,\"muted_glyph\":null,\"nonselection_glyph\":{\"id\":\"10339\",\"type\":\"Line\"},\"selection_glyph\":null,\"view\":{\"id\":\"10341\",\"type\":\"CDSView\"}},\"id\":\"10340\",\"type\":\"GlyphRenderer\"},{\"attributes\":{},\"id\":\"10306\",\"type\":\"PanTool\"},{\"attributes\":{\"active_drag\":\"auto\",\"active_inspect\":\"auto\",\"active_multi\":null,\"active_scroll\":\"auto\",\"active_tap\":\"auto\",\"tools\":[{\"id\":\"10306\",\"type\":\"PanTool\"},{\"id\":\"10307\",\"type\":\"WheelZoomTool\"},{\"id\":\"10308\",\"type\":\"BoxZoomTool\"},{\"id\":\"10309\",\"type\":\"SaveTool\"},{\"id\":\"10310\",\"type\":\"ResetTool\"},{\"id\":\"10311\",\"type\":\"HelpTool\"},{\"id\":\"10383\",\"type\":\"HoverTool\"}]},\"id\":\"10312\",\"type\":\"Toolbar\"},{\"attributes\":{},\"id\":\"10350\",\"type\":\"Selection\"},{\"attributes\":{\"fill_alpha\":{\"value\":0.1},\"fill_color\":{\"value\":\"#1f77b4\"},\"line_alpha\":{\"value\":0.1},\"line_color\":{\"value\":\"#1f77b4\"},\"line_width\":{\"value\":3},\"x\":{\"field\":\"x\"},\"y\":{\"field\":\"y\"}},\"id\":\"10355\",\"type\":\"Circle\"},{\"attributes\":{\"callback\":null},\"id\":\"10288\",\"type\":\"DataRange1d\"},{\"attributes\":{\"label\":{\"value\":\"LDCs\"},\"renderers\":[{\"id\":\"10322\",\"type\":\"GlyphRenderer\"}]},\"id\":\"10331\",\"type\":\"LegendItem\"},{\"attributes\":{\"line_color\":\"#FA1857\",\"x\":{\"field\":\"x\"},\"y\":{\"field\":\"y\"}},\"id\":\"10320\",\"type\":\"Line\"},{\"attributes\":{\"source\":{\"id\":\"10332\",\"type\":\"ColumnDataSource\"}},\"id\":\"10336\",\"type\":\"CDSView\"},{\"attributes\":{},\"id\":\"10348\",\"type\":\"Selection\"},{\"attributes\":{\"source\":{\"id\":\"10358\",\"type\":\"ColumnDataSource\"}},\"id\":\"10362\",\"type\":\"CDSView\"},{\"attributes\":{},\"id\":\"10788\",\"type\":\"Selection\"},{\"attributes\":{},\"id\":\"10294\",\"type\":\"LinearScale\"},{\"attributes\":{},\"id\":\"10302\",\"type\":\"BasicTicker\"},{\"attributes\":{},\"id\":\"10292\",\"type\":\"LinearScale\"},{\"attributes\":{\"line_alpha\":0.1,\"line_color\":\"#1f77b4\",\"x\":{\"field\":\"x\"},\"y\":{\"field\":\"y\"}},\"id\":\"10360\",\"type\":\"Line\"},{\"attributes\":{\"data_source\":{\"id\":\"10319\",\"type\":\"ColumnDataSource\"},\"glyph\":{\"id\":\"10320\",\"type\":\"Line\"},\"hover_glyph\":null,\"muted_glyph\":null,\"nonselection_glyph\":{\"id\":\"10321\",\"type\":\"Line\"},\"selection_glyph\":null,\"view\":{\"id\":\"10323\",\"type\":\"CDSView\"}},\"id\":\"10322\",\"type\":\"GlyphRenderer\"},{\"attributes\":{\"callback\":null,\"data\":{\"x\":[\"2011\",\"2012\",\"2013\",\"2014\",\"2015\",\"2016\",\"2017\"],\"y\":[86.47892526910303,90.71073278613366,89.69280855721597,93.23074490917638,99.22731691065268,99.34360327194112,90.85673268334823]},\"selected\":{\"id\":\"10375\",\"type\":\"Selection\"},\"selection_policy\":{\"id\":\"10374\",\"type\":\"UnionRenderers\"}},\"id\":\"10353\",\"type\":\"ColumnDataSource\"},{\"attributes\":{},\"id\":\"10311\",\"type\":\"HelpTool\"},{\"attributes\":{\"fill_alpha\":{\"value\":0.1},\"fill_color\":{\"value\":\"#1f77b4\"},\"line_alpha\":{\"value\":0.1},\"line_color\":{\"value\":\"#1f77b4\"},\"line_width\":{\"value\":3},\"x\":{\"field\":\"x\"},\"y\":{\"field\":\"y\"}},\"id\":\"10380\",\"type\":\"Circle\"},{\"attributes\":{\"bottom_units\":\"screen\",\"fill_alpha\":{\"value\":0.5},\"fill_color\":{\"value\":\"lightgrey\"},\"left_units\":\"screen\",\"level\":\"overlay\",\"line_alpha\":{\"value\":1.0},\"line_color\":{\"value\":\"black\"},\"line_dash\":[4,4],\"line_width\":{\"value\":2},\"render_mode\":\"css\",\"right_units\":\"screen\",\"top_units\":\"screen\"},\"id\":\"10329\",\"type\":\"BoxAnnotation\"},{\"attributes\":{\"label\":{\"value\":\"Developing excluding LDCs\"},\"renderers\":[{\"id\":\"10340\",\"type\":\"GlyphRenderer\"}]},\"id\":\"10352\",\"type\":\"LegendItem\"},{\"attributes\":{\"text\":\"Literacy rate, youth female (% of females ages 15-24) weighted against Population, total\"},\"id\":\"10286\",\"type\":\"Title\"},{\"attributes\":{},\"id\":\"10787\",\"type\":\"UnionRenderers\"}],\"root_ids\":[\"10285\"]},\"title\":\"Bokeh Application\",\"version\":\"1.3.4\"}};\n",
       "  var render_items = [{\"docid\":\"568f6296-c598-4b1a-9e92-517a516c2fd4\",\"roots\":{\"10285\":\"bfd15fba-9153-431a-9b43-59cfd9a6ccd7\"}}];\n",
       "  root.Bokeh.embed.embed_items_notebook(docs_json, render_items);\n",
       "\n",
       "  }\n",
       "  if (root.Bokeh !== undefined) {\n",
       "    embed_document(root);\n",
       "  } else {\n",
       "    var attempts = 0;\n",
       "    var timer = setInterval(function(root) {\n",
       "      if (root.Bokeh !== undefined) {\n",
       "        embed_document(root);\n",
       "        clearInterval(timer);\n",
       "      }\n",
       "      attempts++;\n",
       "      if (attempts > 100) {\n",
       "        console.log(\"Bokeh: ERROR: Unable to run BokehJS code because BokehJS library is missing\");\n",
       "        clearInterval(timer);\n",
       "      }\n",
       "    }, 10, root)\n",
       "  }\n",
       "})(window);"
      ],
      "application/vnd.bokehjs_exec.v0+json": ""
     },
     "metadata": {
      "application/vnd.bokehjs_exec.v0+json": {
       "id": "10285"
      }
     },
     "output_type": "display_data"
    }
   ],
   "source": [
    "# Literacy rate, youth female (% of females ages 15-24)\n",
    "years = list(map(str, list(range(2011,2018))))\n",
    "result = show_weighted_average(years, 'SE.ADT.1524.LT.FE.ZS', 'SP.POP.TOTL', \n",
    "                               ['LDCs', 'Developing excluding LDCs', 'UMICs'])"
   ]
  },
  {
   "cell_type": "markdown",
   "metadata": {
    "slideshow": {
     "slide_type": "slide"
    }
   },
   "source": [
    "# Shelter"
   ]
  },
  {
   "cell_type": "code",
   "execution_count": 29,
   "metadata": {
    "ExecuteTime": {
     "end_time": "2019-10-25T14:25:51.766648Z",
     "start_time": "2019-10-25T14:25:50.523438Z"
    },
    "slideshow": {
     "slide_type": "slide"
    }
   },
   "outputs": [
    {
     "data": {
      "text/html": [
       "\n",
       "\n",
       "\n",
       "\n",
       "\n",
       "\n",
       "  <div class=\"bk-root\" id=\"76fc45f7-9cbe-4ad1-aa7f-fa699f195e64\" data-root-id=\"10900\"></div>\n"
      ]
     },
     "metadata": {},
     "output_type": "display_data"
    },
    {
     "data": {
      "application/javascript": [
       "(function(root) {\n",
       "  function embed_document(root) {\n",
       "    \n",
       "  var docs_json = {\"c7b7f3e4-cae2-4920-bee6-2bec07cf82b5\":{\"roots\":{\"references\":[{\"attributes\":{\"below\":[{\"id\":\"10911\",\"type\":\"LinearAxis\"}],\"center\":[{\"id\":\"10915\",\"type\":\"Grid\"},{\"id\":\"10920\",\"type\":\"Grid\"},{\"id\":\"10945\",\"type\":\"Legend\"}],\"left\":[{\"id\":\"10916\",\"type\":\"LinearAxis\"}],\"plot_height\":400,\"plot_width\":800,\"renderers\":[{\"id\":\"10937\",\"type\":\"GlyphRenderer\"},{\"id\":\"10950\",\"type\":\"GlyphRenderer\"},{\"id\":\"10955\",\"type\":\"GlyphRenderer\"},{\"id\":\"10971\",\"type\":\"GlyphRenderer\"},{\"id\":\"10976\",\"type\":\"GlyphRenderer\"},{\"id\":\"10996\",\"type\":\"GlyphRenderer\"}],\"title\":{\"id\":\"10901\",\"type\":\"Title\"},\"toolbar\":{\"id\":\"10927\",\"type\":\"Toolbar\"},\"x_range\":{\"id\":\"10903\",\"type\":\"DataRange1d\"},\"x_scale\":{\"id\":\"10907\",\"type\":\"LinearScale\"},\"y_range\":{\"id\":\"10905\",\"type\":\"DataRange1d\"},\"y_scale\":{\"id\":\"10909\",\"type\":\"LinearScale\"}},\"id\":\"10900\",\"subtype\":\"Figure\",\"type\":\"Plot\"},{\"attributes\":{\"fill_alpha\":{\"value\":0.1},\"fill_color\":{\"value\":\"#1f77b4\"},\"line_alpha\":{\"value\":0.1},\"line_color\":{\"value\":\"#1f77b4\"},\"line_width\":{\"value\":3},\"x\":{\"field\":\"x\"},\"y\":{\"field\":\"y\"}},\"id\":\"10970\",\"type\":\"Circle\"},{\"attributes\":{\"grid_line_color\":null,\"ticker\":{\"id\":\"10912\",\"type\":\"BasicTicker\"}},\"id\":\"10915\",\"type\":\"Grid\"},{\"attributes\":{\"axis_label\":\"Years\",\"formatter\":{\"id\":\"10942\",\"type\":\"BasicTickFormatter\"},\"ticker\":{\"id\":\"10912\",\"type\":\"BasicTicker\"}},\"id\":\"10911\",\"type\":\"LinearAxis\"},{\"attributes\":{\"data_source\":{\"id\":\"10993\",\"type\":\"ColumnDataSource\"},\"glyph\":{\"id\":\"10994\",\"type\":\"Circle\"},\"hover_glyph\":null,\"muted_glyph\":null,\"nonselection_glyph\":{\"id\":\"10995\",\"type\":\"Circle\"},\"selection_glyph\":null,\"view\":{\"id\":\"10997\",\"type\":\"CDSView\"}},\"id\":\"10996\",\"type\":\"GlyphRenderer\"},{\"attributes\":{\"callback\":null,\"data\":{\"x\":[\"2000\",\"2005\",\"2007\",\"2009\",\"2014\"],\"y\":[37.12593509389958,32.316430637513314,30.981376218825975,30.14981039905175,25.693627611759997]},\"selected\":{\"id\":\"10988\",\"type\":\"Selection\"},\"selection_policy\":{\"id\":\"10987\",\"type\":\"UnionRenderers\"}},\"id\":\"10952\",\"type\":\"ColumnDataSource\"},{\"attributes\":{},\"id\":\"10922\",\"type\":\"WheelZoomTool\"},{\"attributes\":{},\"id\":\"10990\",\"type\":\"Selection\"},{\"attributes\":{},\"id\":\"10921\",\"type\":\"PanTool\"},{\"attributes\":{},\"id\":\"10963\",\"type\":\"Selection\"},{\"attributes\":{},\"id\":\"10925\",\"type\":\"ResetTool\"},{\"attributes\":{\"line_color\":\"#5430F1\",\"x\":{\"field\":\"x\"},\"y\":{\"field\":\"y\"}},\"id\":\"10953\",\"type\":\"Line\"},{\"attributes\":{},\"id\":\"11422\",\"type\":\"UnionRenderers\"},{\"attributes\":{\"data_source\":{\"id\":\"10973\",\"type\":\"ColumnDataSource\"},\"glyph\":{\"id\":\"10974\",\"type\":\"Line\"},\"hover_glyph\":null,\"muted_glyph\":null,\"nonselection_glyph\":{\"id\":\"10975\",\"type\":\"Line\"},\"selection_glyph\":null,\"view\":{\"id\":\"10977\",\"type\":\"CDSView\"}},\"id\":\"10976\",\"type\":\"GlyphRenderer\"},{\"attributes\":{\"active_drag\":\"auto\",\"active_inspect\":\"auto\",\"active_multi\":null,\"active_scroll\":\"auto\",\"active_tap\":\"auto\",\"tools\":[{\"id\":\"10921\",\"type\":\"PanTool\"},{\"id\":\"10922\",\"type\":\"WheelZoomTool\"},{\"id\":\"10923\",\"type\":\"BoxZoomTool\"},{\"id\":\"10924\",\"type\":\"SaveTool\"},{\"id\":\"10925\",\"type\":\"ResetTool\"},{\"id\":\"10926\",\"type\":\"HelpTool\"},{\"id\":\"10998\",\"type\":\"HoverTool\"}]},\"id\":\"10927\",\"type\":\"Toolbar\"},{\"attributes\":{\"dimension\":1,\"grid_line_alpha\":0.5,\"ticker\":{\"id\":\"10917\",\"type\":\"BasicTicker\"}},\"id\":\"10920\",\"type\":\"Grid\"},{\"attributes\":{\"source\":{\"id\":\"10947\",\"type\":\"ColumnDataSource\"}},\"id\":\"10951\",\"type\":\"CDSView\"},{\"attributes\":{\"source\":{\"id\":\"10968\",\"type\":\"ColumnDataSource\"}},\"id\":\"10972\",\"type\":\"CDSView\"},{\"attributes\":{\"callback\":null,\"data\":{\"x\":[\"2000\",\"2005\",\"2007\",\"2009\",\"2014\"],\"y\":[19.186981494515138,14.221528307791516,14.290817645409502,13.0,11.398005045670415]},\"selected\":{\"id\":\"11423\",\"type\":\"Selection\"},\"selection_policy\":{\"id\":\"11422\",\"type\":\"UnionRenderers\"}},\"id\":\"10993\",\"type\":\"ColumnDataSource\"},{\"attributes\":{\"fill_alpha\":{\"value\":0.1},\"fill_color\":{\"value\":\"#1f77b4\"},\"line_alpha\":{\"value\":0.1},\"line_color\":{\"value\":\"#1f77b4\"},\"line_width\":{\"value\":3},\"x\":{\"field\":\"x\"},\"y\":{\"field\":\"y\"}},\"id\":\"10949\",\"type\":\"Circle\"},{\"attributes\":{},\"id\":\"11423\",\"type\":\"Selection\"},{\"attributes\":{\"line_color\":\"#FA1857\",\"x\":{\"field\":\"x\"},\"y\":{\"field\":\"y\"}},\"id\":\"10935\",\"type\":\"Line\"},{\"attributes\":{\"data_source\":{\"id\":\"10968\",\"type\":\"ColumnDataSource\"},\"glyph\":{\"id\":\"10969\",\"type\":\"Circle\"},\"hover_glyph\":null,\"muted_glyph\":null,\"nonselection_glyph\":{\"id\":\"10970\",\"type\":\"Circle\"},\"selection_glyph\":null,\"view\":{\"id\":\"10972\",\"type\":\"CDSView\"}},\"id\":\"10971\",\"type\":\"GlyphRenderer\"},{\"attributes\":{\"items\":[{\"id\":\"10946\",\"type\":\"LegendItem\"},{\"id\":\"10967\",\"type\":\"LegendItem\"},{\"id\":\"10992\",\"type\":\"LegendItem\"}],\"location\":\"bottom_left\"},\"id\":\"10945\",\"type\":\"Legend\"},{\"attributes\":{\"line_color\":\"#2CC775\",\"x\":{\"field\":\"x\"},\"y\":{\"field\":\"y\"}},\"id\":\"10974\",\"type\":\"Line\"},{\"attributes\":{},\"id\":\"10917\",\"type\":\"BasicTicker\"},{\"attributes\":{},\"id\":\"10964\",\"type\":\"UnionRenderers\"},{\"attributes\":{\"callback\":null,\"data\":{\"x\":[\"2000\",\"2005\",\"2007\",\"2009\",\"2014\"],\"y\":[37.12593509389958,32.316430637513314,30.981376218825975,30.14981039905175,25.693627611759997]},\"selected\":{\"id\":\"10990\",\"type\":\"Selection\"},\"selection_policy\":{\"id\":\"10989\",\"type\":\"UnionRenderers\"}},\"id\":\"10968\",\"type\":\"ColumnDataSource\"},{\"attributes\":{},\"id\":\"11420\",\"type\":\"UnionRenderers\"},{\"attributes\":{\"overlay\":{\"id\":\"10944\",\"type\":\"BoxAnnotation\"}},\"id\":\"10923\",\"type\":\"BoxZoomTool\"},{\"attributes\":{},\"id\":\"10940\",\"type\":\"BasicTickFormatter\"},{\"attributes\":{\"axis_label\":\"EN.POP.SLUM.UR.ZS\",\"formatter\":{\"id\":\"10940\",\"type\":\"BasicTickFormatter\"},\"ticker\":{\"id\":\"10917\",\"type\":\"BasicTicker\"}},\"id\":\"10916\",\"type\":\"LinearAxis\"},{\"attributes\":{\"line_alpha\":0.1,\"line_color\":\"#1f77b4\",\"x\":{\"field\":\"x\"},\"y\":{\"field\":\"y\"}},\"id\":\"10975\",\"type\":\"Line\"},{\"attributes\":{\"source\":{\"id\":\"10952\",\"type\":\"ColumnDataSource\"}},\"id\":\"10956\",\"type\":\"CDSView\"},{\"attributes\":{\"line_alpha\":0.1,\"line_color\":\"#1f77b4\",\"x\":{\"field\":\"x\"},\"y\":{\"field\":\"y\"}},\"id\":\"10954\",\"type\":\"Line\"},{\"attributes\":{\"fill_color\":{\"value\":\"#5430F1\"},\"line_color\":{\"value\":\"#5430F1\"},\"line_width\":{\"value\":3},\"x\":{\"field\":\"x\"},\"y\":{\"field\":\"y\"}},\"id\":\"10969\",\"type\":\"Circle\"},{\"attributes\":{\"label\":{\"value\":\"LDCs\"},\"renderers\":[{\"id\":\"10937\",\"type\":\"GlyphRenderer\"}]},\"id\":\"10946\",\"type\":\"LegendItem\"},{\"attributes\":{},\"id\":\"11421\",\"type\":\"Selection\"},{\"attributes\":{},\"id\":\"10942\",\"type\":\"BasicTickFormatter\"},{\"attributes\":{\"data_source\":{\"id\":\"10952\",\"type\":\"ColumnDataSource\"},\"glyph\":{\"id\":\"10953\",\"type\":\"Line\"},\"hover_glyph\":null,\"muted_glyph\":null,\"nonselection_glyph\":{\"id\":\"10954\",\"type\":\"Line\"},\"selection_glyph\":null,\"view\":{\"id\":\"10956\",\"type\":\"CDSView\"}},\"id\":\"10955\",\"type\":\"GlyphRenderer\"},{\"attributes\":{\"callback\":null},\"id\":\"10903\",\"type\":\"DataRange1d\"},{\"attributes\":{\"fill_color\":{\"value\":\"#FA1857\"},\"line_color\":{\"value\":\"#FA1857\"},\"line_width\":{\"value\":3},\"x\":{\"field\":\"x\"},\"y\":{\"field\":\"y\"}},\"id\":\"10948\",\"type\":\"Circle\"},{\"attributes\":{\"fill_color\":{\"value\":\"#2CC775\"},\"line_color\":{\"value\":\"#2CC775\"},\"line_width\":{\"value\":3},\"x\":{\"field\":\"x\"},\"y\":{\"field\":\"y\"}},\"id\":\"10994\",\"type\":\"Circle\"},{\"attributes\":{\"label\":{\"value\":\"Developing excluding LDCs\"},\"renderers\":[{\"id\":\"10955\",\"type\":\"GlyphRenderer\"}]},\"id\":\"10967\",\"type\":\"LegendItem\"},{\"attributes\":{\"bottom_units\":\"screen\",\"fill_alpha\":{\"value\":0.5},\"fill_color\":{\"value\":\"lightgrey\"},\"left_units\":\"screen\",\"level\":\"overlay\",\"line_alpha\":{\"value\":1.0},\"line_color\":{\"value\":\"black\"},\"line_dash\":[4,4],\"line_width\":{\"value\":2},\"render_mode\":\"css\",\"right_units\":\"screen\",\"top_units\":\"screen\"},\"id\":\"10944\",\"type\":\"BoxAnnotation\"},{\"attributes\":{\"text\":\"Population living in slums (% of urban population) weighted against Urban population\"},\"id\":\"10901\",\"type\":\"Title\"},{\"attributes\":{\"callback\":null,\"data\":{\"x\":[\"2000\",\"2005\",\"2007\",\"2009\",\"2014\"],\"y\":[75.33747542942652,69.6201732119946,67.93590338091548,65.70655306857522,62.3851831063759]},\"selected\":{\"id\":\"10965\",\"type\":\"Selection\"},\"selection_policy\":{\"id\":\"10964\",\"type\":\"UnionRenderers\"}},\"id\":\"10947\",\"type\":\"ColumnDataSource\"},{\"attributes\":{\"label\":{\"value\":\"OECD\"},\"renderers\":[{\"id\":\"10976\",\"type\":\"GlyphRenderer\"}]},\"id\":\"10992\",\"type\":\"LegendItem\"},{\"attributes\":{},\"id\":\"10987\",\"type\":\"UnionRenderers\"},{\"attributes\":{},\"id\":\"10926\",\"type\":\"HelpTool\"},{\"attributes\":{},\"id\":\"10988\",\"type\":\"Selection\"},{\"attributes\":{\"source\":{\"id\":\"10934\",\"type\":\"ColumnDataSource\"}},\"id\":\"10938\",\"type\":\"CDSView\"},{\"attributes\":{\"callback\":null,\"data\":{\"x\":[\"2000\",\"2005\",\"2007\",\"2009\",\"2014\"],\"y\":[19.186981494515138,14.221528307791516,14.290817645409502,13.0,11.398005045670415]},\"selected\":{\"id\":\"11421\",\"type\":\"Selection\"},\"selection_policy\":{\"id\":\"11420\",\"type\":\"UnionRenderers\"}},\"id\":\"10973\",\"type\":\"ColumnDataSource\"},{\"attributes\":{\"callback\":null,\"tooltips\":\"                \\n        <div style=padding=5px>Year:@x</div>\\n        <div style=padding=5px>Value:@y</div>        \\n        \"},\"id\":\"10998\",\"type\":\"HoverTool\"},{\"attributes\":{\"source\":{\"id\":\"10993\",\"type\":\"ColumnDataSource\"}},\"id\":\"10997\",\"type\":\"CDSView\"},{\"attributes\":{},\"id\":\"10907\",\"type\":\"LinearScale\"},{\"attributes\":{},\"id\":\"10965\",\"type\":\"Selection\"},{\"attributes\":{},\"id\":\"10924\",\"type\":\"SaveTool\"},{\"attributes\":{\"source\":{\"id\":\"10973\",\"type\":\"ColumnDataSource\"}},\"id\":\"10977\",\"type\":\"CDSView\"},{\"attributes\":{\"data_source\":{\"id\":\"10947\",\"type\":\"ColumnDataSource\"},\"glyph\":{\"id\":\"10948\",\"type\":\"Circle\"},\"hover_glyph\":null,\"muted_glyph\":null,\"nonselection_glyph\":{\"id\":\"10949\",\"type\":\"Circle\"},\"selection_glyph\":null,\"view\":{\"id\":\"10951\",\"type\":\"CDSView\"}},\"id\":\"10950\",\"type\":\"GlyphRenderer\"},{\"attributes\":{},\"id\":\"10912\",\"type\":\"BasicTicker\"},{\"attributes\":{\"line_alpha\":0.1,\"line_color\":\"#1f77b4\",\"x\":{\"field\":\"x\"},\"y\":{\"field\":\"y\"}},\"id\":\"10936\",\"type\":\"Line\"},{\"attributes\":{\"callback\":null,\"data\":{\"x\":[\"2000\",\"2005\",\"2007\",\"2009\",\"2014\"],\"y\":[75.33747542942652,69.6201732119946,67.93590338091548,65.70655306857522,62.3851831063759]},\"selected\":{\"id\":\"10963\",\"type\":\"Selection\"},\"selection_policy\":{\"id\":\"10962\",\"type\":\"UnionRenderers\"}},\"id\":\"10934\",\"type\":\"ColumnDataSource\"},{\"attributes\":{\"fill_alpha\":{\"value\":0.1},\"fill_color\":{\"value\":\"#1f77b4\"},\"line_alpha\":{\"value\":0.1},\"line_color\":{\"value\":\"#1f77b4\"},\"line_width\":{\"value\":3},\"x\":{\"field\":\"x\"},\"y\":{\"field\":\"y\"}},\"id\":\"10995\",\"type\":\"Circle\"},{\"attributes\":{},\"id\":\"10989\",\"type\":\"UnionRenderers\"},{\"attributes\":{\"callback\":null},\"id\":\"10905\",\"type\":\"DataRange1d\"},{\"attributes\":{},\"id\":\"10909\",\"type\":\"LinearScale\"},{\"attributes\":{\"data_source\":{\"id\":\"10934\",\"type\":\"ColumnDataSource\"},\"glyph\":{\"id\":\"10935\",\"type\":\"Line\"},\"hover_glyph\":null,\"muted_glyph\":null,\"nonselection_glyph\":{\"id\":\"10936\",\"type\":\"Line\"},\"selection_glyph\":null,\"view\":{\"id\":\"10938\",\"type\":\"CDSView\"}},\"id\":\"10937\",\"type\":\"GlyphRenderer\"},{\"attributes\":{},\"id\":\"10962\",\"type\":\"UnionRenderers\"}],\"root_ids\":[\"10900\"]},\"title\":\"Bokeh Application\",\"version\":\"1.3.4\"}};\n",
       "  var render_items = [{\"docid\":\"c7b7f3e4-cae2-4920-bee6-2bec07cf82b5\",\"roots\":{\"10900\":\"76fc45f7-9cbe-4ad1-aa7f-fa699f195e64\"}}];\n",
       "  root.Bokeh.embed.embed_items_notebook(docs_json, render_items);\n",
       "\n",
       "  }\n",
       "  if (root.Bokeh !== undefined) {\n",
       "    embed_document(root);\n",
       "  } else {\n",
       "    var attempts = 0;\n",
       "    var timer = setInterval(function(root) {\n",
       "      if (root.Bokeh !== undefined) {\n",
       "        embed_document(root);\n",
       "        clearInterval(timer);\n",
       "      }\n",
       "      attempts++;\n",
       "      if (attempts > 100) {\n",
       "        console.log(\"Bokeh: ERROR: Unable to run BokehJS code because BokehJS library is missing\");\n",
       "        clearInterval(timer);\n",
       "      }\n",
       "    }, 10, root)\n",
       "  }\n",
       "})(window);"
      ],
      "application/vnd.bokehjs_exec.v0+json": ""
     },
     "metadata": {
      "application/vnd.bokehjs_exec.v0+json": {
       "id": "10900"
      }
     },
     "output_type": "display_data"
    }
   ],
   "source": [
    "# Percentage of urban population living in slums\n",
    "years = ['2000', '2005', '2007', '2009', '2014']\n",
    "result = show_weighted_average(years, 'EN.POP.SLUM.UR.ZS', 'SP.URB.TOTL', \n",
    "                               ['LDCs', 'Developing excluding LDCs', 'OECD'])"
   ]
  },
  {
   "cell_type": "code",
   "execution_count": 30,
   "metadata": {
    "ExecuteTime": {
     "end_time": "2019-10-25T14:32:38.578383Z",
     "start_time": "2019-10-25T14:31:44.564667Z"
    },
    "slideshow": {
     "slide_type": "slide"
    }
   },
   "outputs": [
    {
     "data": {
      "text/html": [
       "\n",
       "\n",
       "\n",
       "\n",
       "\n",
       "\n",
       "  <div class=\"bk-root\" id=\"fa80b0d7-5ab3-4259-ba92-65337b1259fe\" data-root-id=\"11533\"></div>\n"
      ]
     },
     "metadata": {},
     "output_type": "display_data"
    },
    {
     "data": {
      "application/javascript": [
       "(function(root) {\n",
       "  function embed_document(root) {\n",
       "    \n",
       "  var docs_json = {\"968d1d40-036f-49b0-9f90-08248def2468\":{\"roots\":{\"references\":[{\"attributes\":{\"below\":[{\"id\":\"11544\",\"type\":\"LinearAxis\"}],\"center\":[{\"id\":\"11548\",\"type\":\"Grid\"},{\"id\":\"11553\",\"type\":\"Grid\"},{\"id\":\"11578\",\"type\":\"Legend\"}],\"left\":[{\"id\":\"11549\",\"type\":\"LinearAxis\"}],\"plot_height\":400,\"plot_width\":800,\"renderers\":[{\"id\":\"11570\",\"type\":\"GlyphRenderer\"},{\"id\":\"11583\",\"type\":\"GlyphRenderer\"},{\"id\":\"11588\",\"type\":\"GlyphRenderer\"},{\"id\":\"11604\",\"type\":\"GlyphRenderer\"},{\"id\":\"11609\",\"type\":\"GlyphRenderer\"},{\"id\":\"11629\",\"type\":\"GlyphRenderer\"}],\"title\":{\"id\":\"11534\",\"type\":\"Title\"},\"toolbar\":{\"id\":\"11560\",\"type\":\"Toolbar\"},\"x_range\":{\"id\":\"11536\",\"type\":\"DataRange1d\"},\"x_scale\":{\"id\":\"11540\",\"type\":\"LinearScale\"},\"y_range\":{\"id\":\"11538\",\"type\":\"DataRange1d\"},\"y_scale\":{\"id\":\"11542\",\"type\":\"LinearScale\"}},\"id\":\"11533\",\"subtype\":\"Figure\",\"type\":\"Plot\"},{\"attributes\":{\"callback\":null,\"data\":{\"x\":[\"1960\",\"1961\",\"1962\",\"1963\",\"1964\",\"1965\",\"1966\",\"1967\",\"1968\",\"1969\",\"1970\",\"1971\",\"1972\",\"1973\",\"1974\",\"1975\",\"1976\",\"1977\",\"1978\",\"1979\",\"1980\",\"1981\",\"1982\",\"1983\",\"1984\",\"1985\",\"1986\",\"1987\",\"1988\",\"1989\",\"1990\",\"1991\",\"1992\",\"1993\",\"1994\",\"1995\",\"1996\",\"1997\",\"1998\",\"1999\",\"2000\",\"2001\",\"2002\",\"2003\",\"2004\",\"2005\",\"2006\",\"2007\",\"2008\",\"2009\",\"2010\",\"2011\",\"2012\",\"2013\",\"2014\",\"2015\",\"2016\",\"2017\"],\"y\":[62.59953620237616,63.08957334358763,63.57872639334224,64.08376999046433,64.58687436549964,65.087407161162,65.58539185759696,66.09314622321546,66.58824055065821,67.06756237656948,67.52628342166688,67.91756952516317,68.27745658275356,68.62376906240875,68.9745801014019,69.30531568374833,69.56047988482551,69.80755583528435,70.0570392716649,70.30188257560143,70.54728708463239,70.84080263406176,71.11518000620043,71.37556979428155,71.62682223254069,71.87801848980098,72.13955415956409,72.4211398671853,72.7000259866276,72.95811736019994,73.23560195464822,73.51484019892555,73.77414817178924,74.03783660613713,74.30723436951402,74.5745666211642,74.81851175794863,75.05227180897651,75.28501173120483,75.5181692891309,75.74974074372007,76.09479632423921,76.49560193311356,76.87622336289719,77.24127255096394,77.59143098241435,77.91417063193697,78.21867292983931,78.51440926413176,78.80120853028673,79.08124691428517,79.29771074412386,79.48385416511948,79.66738879268615,79.8506569075482,80.0386620288315,80.22913025645875,80.4233314253301]},\"selected\":{\"id\":\"12072\",\"type\":\"Selection\"},\"selection_policy\":{\"id\":\"12071\",\"type\":\"UnionRenderers\"}},\"id\":\"11606\",\"type\":\"ColumnDataSource\"},{\"attributes\":{},\"id\":\"11554\",\"type\":\"PanTool\"},{\"attributes\":{\"fill_alpha\":{\"value\":0.1},\"fill_color\":{\"value\":\"#1f77b4\"},\"line_alpha\":{\"value\":0.1},\"line_color\":{\"value\":\"#1f77b4\"},\"line_width\":{\"value\":3},\"x\":{\"field\":\"x\"},\"y\":{\"field\":\"y\"}},\"id\":\"11582\",\"type\":\"Circle\"},{\"attributes\":{\"line_alpha\":0.1,\"line_color\":\"#1f77b4\",\"x\":{\"field\":\"x\"},\"y\":{\"field\":\"y\"}},\"id\":\"11569\",\"type\":\"Line\"},{\"attributes\":{},\"id\":\"12073\",\"type\":\"UnionRenderers\"},{\"attributes\":{\"line_color\":\"#2CC775\",\"x\":{\"field\":\"x\"},\"y\":{\"field\":\"y\"}},\"id\":\"11607\",\"type\":\"Line\"},{\"attributes\":{\"callback\":null,\"tooltips\":\"                \\n        <div style=padding=5px>Year:@x</div>\\n        <div style=padding=5px>Value:@y</div>        \\n        \"},\"id\":\"11631\",\"type\":\"HoverTool\"},{\"attributes\":{\"data_source\":{\"id\":\"11580\",\"type\":\"ColumnDataSource\"},\"glyph\":{\"id\":\"11581\",\"type\":\"Circle\"},\"hover_glyph\":null,\"muted_glyph\":null,\"nonselection_glyph\":{\"id\":\"11582\",\"type\":\"Circle\"},\"selection_glyph\":null,\"view\":{\"id\":\"11584\",\"type\":\"CDSView\"}},\"id\":\"11583\",\"type\":\"GlyphRenderer\"},{\"attributes\":{},\"id\":\"12074\",\"type\":\"Selection\"},{\"attributes\":{\"line_alpha\":0.1,\"line_color\":\"#1f77b4\",\"x\":{\"field\":\"x\"},\"y\":{\"field\":\"y\"}},\"id\":\"11608\",\"type\":\"Line\"},{\"attributes\":{},\"id\":\"11555\",\"type\":\"WheelZoomTool\"},{\"attributes\":{\"source\":{\"id\":\"11580\",\"type\":\"ColumnDataSource\"}},\"id\":\"11584\",\"type\":\"CDSView\"},{\"attributes\":{\"data_source\":{\"id\":\"11606\",\"type\":\"ColumnDataSource\"},\"glyph\":{\"id\":\"11607\",\"type\":\"Line\"},\"hover_glyph\":null,\"muted_glyph\":null,\"nonselection_glyph\":{\"id\":\"11608\",\"type\":\"Line\"},\"selection_glyph\":null,\"view\":{\"id\":\"11610\",\"type\":\"CDSView\"}},\"id\":\"11609\",\"type\":\"GlyphRenderer\"},{\"attributes\":{},\"id\":\"11557\",\"type\":\"SaveTool\"},{\"attributes\":{\"callback\":null,\"data\":{\"x\":[\"1960\",\"1961\",\"1962\",\"1963\",\"1964\",\"1965\",\"1966\",\"1967\",\"1968\",\"1969\",\"1970\",\"1971\",\"1972\",\"1973\",\"1974\",\"1975\",\"1976\",\"1977\",\"1978\",\"1979\",\"1980\",\"1981\",\"1982\",\"1983\",\"1984\",\"1985\",\"1986\",\"1987\",\"1988\",\"1989\",\"1990\",\"1991\",\"1992\",\"1993\",\"1994\",\"1995\",\"1996\",\"1997\",\"1998\",\"1999\",\"2000\",\"2001\",\"2002\",\"2003\",\"2004\",\"2005\",\"2006\",\"2007\",\"2008\",\"2009\",\"2010\",\"2011\",\"2012\",\"2013\",\"2014\",\"2015\",\"2016\",\"2017\"],\"y\":[22.630949288694833,23.14281914867262,23.63312711968041,24.089976990736393,24.556059976253326,24.732603461884004,24.91323170795608,25.110005118236234,25.303107900443436,25.49142592220588,25.680646321274192,25.897359116719393,26.15520822571961,26.462227546535093,26.816876575043107,27.179600502462144,27.528279378386834,27.884271151811344,28.363702119408167,28.966693913320626,29.57896681146142,30.216362823981534,30.836365224138223,31.40227128490981,31.977573113645832,32.552216495483755,33.12127196800427,33.684605348038794,34.247222182829134,34.81002887259299,35.37519635893041,35.94756436038916,36.481760611613694,37.05433252421815,37.627897151830695,38.22540077342875,38.79671598864855,39.37048203585944,39.948270161766125,40.52672004161325,41.11494683071915,41.761603501479144,42.46147430353454,43.16134280503671,43.86666821577943,44.576114937235026,45.27519476585794,45.96910645799235,46.665300390624786,47.35893958565393,48.05102009881094,48.71516104918681,49.368472052422604,50.01832656497409,50.667168529751926,51.31245173550162,51.95558590128294,52.59415157798671]},\"selected\":{\"id\":\"11621\",\"type\":\"Selection\"},\"selection_policy\":{\"id\":\"11620\",\"type\":\"UnionRenderers\"}},\"id\":\"11585\",\"type\":\"ColumnDataSource\"},{\"attributes\":{\"source\":{\"id\":\"11606\",\"type\":\"ColumnDataSource\"}},\"id\":\"11610\",\"type\":\"CDSView\"},{\"attributes\":{\"overlay\":{\"id\":\"11577\",\"type\":\"BoxAnnotation\"}},\"id\":\"11556\",\"type\":\"BoxZoomTool\"},{\"attributes\":{\"line_color\":\"#5430F1\",\"x\":{\"field\":\"x\"},\"y\":{\"field\":\"y\"}},\"id\":\"11586\",\"type\":\"Line\"},{\"attributes\":{},\"id\":\"11558\",\"type\":\"ResetTool\"},{\"attributes\":{},\"id\":\"11620\",\"type\":\"UnionRenderers\"},{\"attributes\":{\"text\":\"Urban population (% of total population) weighted against Population, total\"},\"id\":\"11534\",\"type\":\"Title\"},{\"attributes\":{\"line_alpha\":0.1,\"line_color\":\"#1f77b4\",\"x\":{\"field\":\"x\"},\"y\":{\"field\":\"y\"}},\"id\":\"11587\",\"type\":\"Line\"},{\"attributes\":{\"active_drag\":\"auto\",\"active_inspect\":\"auto\",\"active_multi\":null,\"active_scroll\":\"auto\",\"active_tap\":\"auto\",\"tools\":[{\"id\":\"11554\",\"type\":\"PanTool\"},{\"id\":\"11555\",\"type\":\"WheelZoomTool\"},{\"id\":\"11556\",\"type\":\"BoxZoomTool\"},{\"id\":\"11557\",\"type\":\"SaveTool\"},{\"id\":\"11558\",\"type\":\"ResetTool\"},{\"id\":\"11559\",\"type\":\"HelpTool\"},{\"id\":\"11631\",\"type\":\"HoverTool\"}]},\"id\":\"11560\",\"type\":\"Toolbar\"},{\"attributes\":{},\"id\":\"11621\",\"type\":\"Selection\"},{\"attributes\":{\"callback\":null},\"id\":\"11538\",\"type\":\"DataRange1d\"},{\"attributes\":{\"data_source\":{\"id\":\"11585\",\"type\":\"ColumnDataSource\"},\"glyph\":{\"id\":\"11586\",\"type\":\"Line\"},\"hover_glyph\":null,\"muted_glyph\":null,\"nonselection_glyph\":{\"id\":\"11587\",\"type\":\"Line\"},\"selection_glyph\":null,\"view\":{\"id\":\"11589\",\"type\":\"CDSView\"}},\"id\":\"11588\",\"type\":\"GlyphRenderer\"},{\"attributes\":{},\"id\":\"11559\",\"type\":\"HelpTool\"},{\"attributes\":{},\"id\":\"11622\",\"type\":\"UnionRenderers\"},{\"attributes\":{\"callback\":null},\"id\":\"11536\",\"type\":\"DataRange1d\"},{\"attributes\":{\"source\":{\"id\":\"11585\",\"type\":\"ColumnDataSource\"}},\"id\":\"11589\",\"type\":\"CDSView\"},{\"attributes\":{\"data_source\":{\"id\":\"11567\",\"type\":\"ColumnDataSource\"},\"glyph\":{\"id\":\"11568\",\"type\":\"Line\"},\"hover_glyph\":null,\"muted_glyph\":null,\"nonselection_glyph\":{\"id\":\"11569\",\"type\":\"Line\"},\"selection_glyph\":null,\"view\":{\"id\":\"11571\",\"type\":\"CDSView\"}},\"id\":\"11570\",\"type\":\"GlyphRenderer\"},{\"attributes\":{},\"id\":\"11623\",\"type\":\"Selection\"},{\"attributes\":{},\"id\":\"11540\",\"type\":\"LinearScale\"},{\"attributes\":{},\"id\":\"11595\",\"type\":\"UnionRenderers\"},{\"attributes\":{\"source\":{\"id\":\"11567\",\"type\":\"ColumnDataSource\"}},\"id\":\"11571\",\"type\":\"CDSView\"},{\"attributes\":{\"label\":{\"value\":\"OECD\"},\"renderers\":[{\"id\":\"11609\",\"type\":\"GlyphRenderer\"}]},\"id\":\"11625\",\"type\":\"LegendItem\"},{\"attributes\":{\"axis_label\":\"Years\",\"formatter\":{\"id\":\"11575\",\"type\":\"BasicTickFormatter\"},\"ticker\":{\"id\":\"11545\",\"type\":\"BasicTicker\"}},\"id\":\"11544\",\"type\":\"LinearAxis\"},{\"attributes\":{},\"id\":\"11596\",\"type\":\"Selection\"},{\"attributes\":{},\"id\":\"11542\",\"type\":\"LinearScale\"},{\"attributes\":{},\"id\":\"11597\",\"type\":\"UnionRenderers\"},{\"attributes\":{},\"id\":\"11573\",\"type\":\"BasicTickFormatter\"},{\"attributes\":{\"fill_color\":{\"value\":\"#2CC775\"},\"line_color\":{\"value\":\"#2CC775\"},\"line_width\":{\"value\":3},\"x\":{\"field\":\"x\"},\"y\":{\"field\":\"y\"}},\"id\":\"11627\",\"type\":\"Circle\"},{\"attributes\":{},\"id\":\"11545\",\"type\":\"BasicTicker\"},{\"attributes\":{\"callback\":null,\"data\":{\"x\":[\"1960\",\"1961\",\"1962\",\"1963\",\"1964\",\"1965\",\"1966\",\"1967\",\"1968\",\"1969\",\"1970\",\"1971\",\"1972\",\"1973\",\"1974\",\"1975\",\"1976\",\"1977\",\"1978\",\"1979\",\"1980\",\"1981\",\"1982\",\"1983\",\"1984\",\"1985\",\"1986\",\"1987\",\"1988\",\"1989\",\"1990\",\"1991\",\"1992\",\"1993\",\"1994\",\"1995\",\"1996\",\"1997\",\"1998\",\"1999\",\"2000\",\"2001\",\"2002\",\"2003\",\"2004\",\"2005\",\"2006\",\"2007\",\"2008\",\"2009\",\"2010\",\"2011\",\"2012\",\"2013\",\"2014\",\"2015\",\"2016\",\"2017\"],\"y\":[62.59953620237616,63.08957334358763,63.57872639334224,64.08376999046433,64.58687436549964,65.087407161162,65.58539185759696,66.09314622321546,66.58824055065821,67.06756237656948,67.52628342166688,67.91756952516317,68.27745658275356,68.62376906240875,68.9745801014019,69.30531568374833,69.56047988482551,69.80755583528435,70.0570392716649,70.30188257560143,70.54728708463239,70.84080263406176,71.11518000620043,71.37556979428155,71.62682223254069,71.87801848980098,72.13955415956409,72.4211398671853,72.7000259866276,72.95811736019994,73.23560195464822,73.51484019892555,73.77414817178924,74.03783660613713,74.30723436951402,74.5745666211642,74.81851175794863,75.05227180897651,75.28501173120483,75.5181692891309,75.74974074372007,76.09479632423921,76.49560193311356,76.87622336289719,77.24127255096394,77.59143098241435,77.91417063193697,78.21867292983931,78.51440926413176,78.80120853028673,79.08124691428517,79.29771074412386,79.48385416511948,79.66738879268615,79.8506569075482,80.0386620288315,80.22913025645875,80.4233314253301]},\"selected\":{\"id\":\"12074\",\"type\":\"Selection\"},\"selection_policy\":{\"id\":\"12073\",\"type\":\"UnionRenderers\"}},\"id\":\"11626\",\"type\":\"ColumnDataSource\"},{\"attributes\":{},\"id\":\"11598\",\"type\":\"Selection\"},{\"attributes\":{\"fill_alpha\":{\"value\":0.1},\"fill_color\":{\"value\":\"#1f77b4\"},\"line_alpha\":{\"value\":0.1},\"line_color\":{\"value\":\"#1f77b4\"},\"line_width\":{\"value\":3},\"x\":{\"field\":\"x\"},\"y\":{\"field\":\"y\"}},\"id\":\"11628\",\"type\":\"Circle\"},{\"attributes\":{\"label\":{\"value\":\"Developing excluding LDCs\"},\"renderers\":[{\"id\":\"11588\",\"type\":\"GlyphRenderer\"}]},\"id\":\"11600\",\"type\":\"LegendItem\"},{\"attributes\":{},\"id\":\"11575\",\"type\":\"BasicTickFormatter\"},{\"attributes\":{\"data_source\":{\"id\":\"11626\",\"type\":\"ColumnDataSource\"},\"glyph\":{\"id\":\"11627\",\"type\":\"Circle\"},\"hover_glyph\":null,\"muted_glyph\":null,\"nonselection_glyph\":{\"id\":\"11628\",\"type\":\"Circle\"},\"selection_glyph\":null,\"view\":{\"id\":\"11630\",\"type\":\"CDSView\"}},\"id\":\"11629\",\"type\":\"GlyphRenderer\"},{\"attributes\":{\"grid_line_color\":null,\"ticker\":{\"id\":\"11545\",\"type\":\"BasicTicker\"}},\"id\":\"11548\",\"type\":\"Grid\"},{\"attributes\":{\"callback\":null,\"data\":{\"x\":[\"1960\",\"1961\",\"1962\",\"1963\",\"1964\",\"1965\",\"1966\",\"1967\",\"1968\",\"1969\",\"1970\",\"1971\",\"1972\",\"1973\",\"1974\",\"1975\",\"1976\",\"1977\",\"1978\",\"1979\",\"1980\",\"1981\",\"1982\",\"1983\",\"1984\",\"1985\",\"1986\",\"1987\",\"1988\",\"1989\",\"1990\",\"1991\",\"1992\",\"1993\",\"1994\",\"1995\",\"1996\",\"1997\",\"1998\",\"1999\",\"2000\",\"2001\",\"2002\",\"2003\",\"2004\",\"2005\",\"2006\",\"2007\",\"2008\",\"2009\",\"2010\",\"2011\",\"2012\",\"2013\",\"2014\",\"2015\",\"2016\",\"2017\"],\"y\":[22.630949288694833,23.14281914867262,23.63312711968041,24.089976990736393,24.556059976253326,24.732603461884004,24.91323170795608,25.110005118236234,25.303107900443436,25.49142592220588,25.680646321274192,25.897359116719393,26.15520822571961,26.462227546535093,26.816876575043107,27.179600502462144,27.528279378386834,27.884271151811344,28.363702119408167,28.966693913320626,29.57896681146142,30.216362823981534,30.836365224138223,31.40227128490981,31.977573113645832,32.552216495483755,33.12127196800427,33.684605348038794,34.247222182829134,34.81002887259299,35.37519635893041,35.94756436038916,36.481760611613694,37.05433252421815,37.627897151830695,38.22540077342875,38.79671598864855,39.37048203585944,39.948270161766125,40.52672004161325,41.11494683071915,41.761603501479144,42.46147430353454,43.16134280503671,43.86666821577943,44.576114937235026,45.27519476585794,45.96910645799235,46.665300390624786,47.35893958565393,48.05102009881094,48.71516104918681,49.368472052422604,50.01832656497409,50.667168529751926,51.31245173550162,51.95558590128294,52.59415157798671]},\"selected\":{\"id\":\"11623\",\"type\":\"Selection\"},\"selection_policy\":{\"id\":\"11622\",\"type\":\"UnionRenderers\"}},\"id\":\"11601\",\"type\":\"ColumnDataSource\"},{\"attributes\":{\"items\":[{\"id\":\"11579\",\"type\":\"LegendItem\"},{\"id\":\"11600\",\"type\":\"LegendItem\"},{\"id\":\"11625\",\"type\":\"LegendItem\"}],\"location\":\"bottom_left\"},\"id\":\"11578\",\"type\":\"Legend\"},{\"attributes\":{},\"id\":\"11550\",\"type\":\"BasicTicker\"},{\"attributes\":{\"source\":{\"id\":\"11626\",\"type\":\"ColumnDataSource\"}},\"id\":\"11630\",\"type\":\"CDSView\"},{\"attributes\":{\"fill_color\":{\"value\":\"#5430F1\"},\"line_color\":{\"value\":\"#5430F1\"},\"line_width\":{\"value\":3},\"x\":{\"field\":\"x\"},\"y\":{\"field\":\"y\"}},\"id\":\"11602\",\"type\":\"Circle\"},{\"attributes\":{\"bottom_units\":\"screen\",\"fill_alpha\":{\"value\":0.5},\"fill_color\":{\"value\":\"lightgrey\"},\"left_units\":\"screen\",\"level\":\"overlay\",\"line_alpha\":{\"value\":1.0},\"line_color\":{\"value\":\"black\"},\"line_dash\":[4,4],\"line_width\":{\"value\":2},\"render_mode\":\"css\",\"right_units\":\"screen\",\"top_units\":\"screen\"},\"id\":\"11577\",\"type\":\"BoxAnnotation\"},{\"attributes\":{\"axis_label\":\"SP.URB.TOTL.IN.ZS\",\"formatter\":{\"id\":\"11573\",\"type\":\"BasicTickFormatter\"},\"ticker\":{\"id\":\"11550\",\"type\":\"BasicTicker\"}},\"id\":\"11549\",\"type\":\"LinearAxis\"},{\"attributes\":{\"fill_alpha\":{\"value\":0.1},\"fill_color\":{\"value\":\"#1f77b4\"},\"line_alpha\":{\"value\":0.1},\"line_color\":{\"value\":\"#1f77b4\"},\"line_width\":{\"value\":3},\"x\":{\"field\":\"x\"},\"y\":{\"field\":\"y\"}},\"id\":\"11603\",\"type\":\"Circle\"},{\"attributes\":{\"label\":{\"value\":\"LDCs\"},\"renderers\":[{\"id\":\"11570\",\"type\":\"GlyphRenderer\"}]},\"id\":\"11579\",\"type\":\"LegendItem\"},{\"attributes\":{\"dimension\":1,\"grid_line_alpha\":0.5,\"ticker\":{\"id\":\"11550\",\"type\":\"BasicTicker\"}},\"id\":\"11553\",\"type\":\"Grid\"},{\"attributes\":{},\"id\":\"12071\",\"type\":\"UnionRenderers\"},{\"attributes\":{\"data_source\":{\"id\":\"11601\",\"type\":\"ColumnDataSource\"},\"glyph\":{\"id\":\"11602\",\"type\":\"Circle\"},\"hover_glyph\":null,\"muted_glyph\":null,\"nonselection_glyph\":{\"id\":\"11603\",\"type\":\"Circle\"},\"selection_glyph\":null,\"view\":{\"id\":\"11605\",\"type\":\"CDSView\"}},\"id\":\"11604\",\"type\":\"GlyphRenderer\"},{\"attributes\":{\"fill_color\":{\"value\":\"#FA1857\"},\"line_color\":{\"value\":\"#FA1857\"},\"line_width\":{\"value\":3},\"x\":{\"field\":\"x\"},\"y\":{\"field\":\"y\"}},\"id\":\"11581\",\"type\":\"Circle\"},{\"attributes\":{\"callback\":null,\"data\":{\"x\":[\"1960\",\"1961\",\"1962\",\"1963\",\"1964\",\"1965\",\"1966\",\"1967\",\"1968\",\"1969\",\"1970\",\"1971\",\"1972\",\"1973\",\"1974\",\"1975\",\"1976\",\"1977\",\"1978\",\"1979\",\"1980\",\"1981\",\"1982\",\"1983\",\"1984\",\"1985\",\"1986\",\"1987\",\"1988\",\"1989\",\"1990\",\"1991\",\"1992\",\"1993\",\"1994\",\"1995\",\"1996\",\"1997\",\"1998\",\"1999\",\"2000\",\"2001\",\"2002\",\"2003\",\"2004\",\"2005\",\"2006\",\"2007\",\"2008\",\"2009\",\"2010\",\"2011\",\"2012\",\"2013\",\"2014\",\"2015\",\"2016\",\"2017\"],\"y\":[9.590441626589154,9.82956798804145,10.089934021962767,10.364196897530594,10.652282421195487,10.950321706725706,11.25750617684957,11.597625960136675,11.951557303382339,12.322182079802046,12.693637316992934,13.102812270349515,13.538428975399318,13.979617608585043,14.426656898097457,14.327100490197138,14.800859912325933,15.295458366390301,15.807482552340032,16.301789127132675,16.872464467732378,17.378256808688977,17.729484022454084,18.11100449405242,18.536347067726282,18.98554603996622,19.438205330760468,19.894885353886682,20.35901959600948,20.801792260188662,21.259109417937637,21.691581230817796,22.09539325255832,22.480412543964785,22.815688586431065,23.135882958165656,23.454910987065734,23.783364917127294,24.10596219711036,24.429269167363092,24.760018964979476,25.144909976033862,25.560303342013075,25.99027025544907,26.42138428012602,26.865355922534857,27.302613758312003,27.694992295194165,28.177233849451273,28.66869884679192,29.16842314668098,29.675548544753788,30.14948587235772,30.64825122352178,31.151609942305576,31.658943613022824,32.17025719236082,32.68572055294565]},\"selected\":{\"id\":\"11596\",\"type\":\"Selection\"},\"selection_policy\":{\"id\":\"11595\",\"type\":\"UnionRenderers\"}},\"id\":\"11567\",\"type\":\"ColumnDataSource\"},{\"attributes\":{},\"id\":\"12072\",\"type\":\"Selection\"},{\"attributes\":{\"source\":{\"id\":\"11601\",\"type\":\"ColumnDataSource\"}},\"id\":\"11605\",\"type\":\"CDSView\"},{\"attributes\":{\"callback\":null,\"data\":{\"x\":[\"1960\",\"1961\",\"1962\",\"1963\",\"1964\",\"1965\",\"1966\",\"1967\",\"1968\",\"1969\",\"1970\",\"1971\",\"1972\",\"1973\",\"1974\",\"1975\",\"1976\",\"1977\",\"1978\",\"1979\",\"1980\",\"1981\",\"1982\",\"1983\",\"1984\",\"1985\",\"1986\",\"1987\",\"1988\",\"1989\",\"1990\",\"1991\",\"1992\",\"1993\",\"1994\",\"1995\",\"1996\",\"1997\",\"1998\",\"1999\",\"2000\",\"2001\",\"2002\",\"2003\",\"2004\",\"2005\",\"2006\",\"2007\",\"2008\",\"2009\",\"2010\",\"2011\",\"2012\",\"2013\",\"2014\",\"2015\",\"2016\",\"2017\"],\"y\":[9.590441626589154,9.82956798804145,10.089934021962767,10.364196897530594,10.652282421195487,10.950321706725706,11.25750617684957,11.597625960136675,11.951557303382339,12.322182079802046,12.693637316992934,13.102812270349515,13.538428975399318,13.979617608585043,14.426656898097457,14.327100490197138,14.800859912325933,15.295458366390301,15.807482552340032,16.301789127132675,16.872464467732378,17.378256808688977,17.729484022454084,18.11100449405242,18.536347067726282,18.98554603996622,19.438205330760468,19.894885353886682,20.35901959600948,20.801792260188662,21.259109417937637,21.691581230817796,22.09539325255832,22.480412543964785,22.815688586431065,23.135882958165656,23.454910987065734,23.783364917127294,24.10596219711036,24.429269167363092,24.760018964979476,25.144909976033862,25.560303342013075,25.99027025544907,26.42138428012602,26.865355922534857,27.302613758312003,27.694992295194165,28.177233849451273,28.66869884679192,29.16842314668098,29.675548544753788,30.14948587235772,30.64825122352178,31.151609942305576,31.658943613022824,32.17025719236082,32.68572055294565]},\"selected\":{\"id\":\"11598\",\"type\":\"Selection\"},\"selection_policy\":{\"id\":\"11597\",\"type\":\"UnionRenderers\"}},\"id\":\"11580\",\"type\":\"ColumnDataSource\"},{\"attributes\":{\"line_color\":\"#FA1857\",\"x\":{\"field\":\"x\"},\"y\":{\"field\":\"y\"}},\"id\":\"11568\",\"type\":\"Line\"}],\"root_ids\":[\"11533\"]},\"title\":\"Bokeh Application\",\"version\":\"1.3.4\"}};\n",
       "  var render_items = [{\"docid\":\"968d1d40-036f-49b0-9f90-08248def2468\",\"roots\":{\"11533\":\"fa80b0d7-5ab3-4259-ba92-65337b1259fe\"}}];\n",
       "  root.Bokeh.embed.embed_items_notebook(docs_json, render_items);\n",
       "\n",
       "  }\n",
       "  if (root.Bokeh !== undefined) {\n",
       "    embed_document(root);\n",
       "  } else {\n",
       "    var attempts = 0;\n",
       "    var timer = setInterval(function(root) {\n",
       "      if (root.Bokeh !== undefined) {\n",
       "        embed_document(root);\n",
       "        clearInterval(timer);\n",
       "      }\n",
       "      attempts++;\n",
       "      if (attempts > 100) {\n",
       "        console.log(\"Bokeh: ERROR: Unable to run BokehJS code because BokehJS library is missing\");\n",
       "        clearInterval(timer);\n",
       "      }\n",
       "    }, 10, root)\n",
       "  }\n",
       "})(window);"
      ],
      "application/vnd.bokehjs_exec.v0+json": ""
     },
     "metadata": {
      "application/vnd.bokehjs_exec.v0+json": {
       "id": "11533"
      }
     },
     "output_type": "display_data"
    }
   ],
   "source": [
    "years = list(map(str, list(range(1960,2018))))\n",
    "# Urban population as a percentage of total population\n",
    "result = show_weighted_average(years, 'SP.URB.TOTL.IN.ZS', 'SP.POP.TOTL', \n",
    "                               ['LDCs', 'Developing excluding LDCs', 'OECD'])"
   ]
  },
  {
   "cell_type": "code",
   "execution_count": 31,
   "metadata": {
    "ExecuteTime": {
     "end_time": "2019-10-25T14:29:15.192779Z",
     "start_time": "2019-10-25T14:29:14.263102Z"
    },
    "slideshow": {
     "slide_type": "slide"
    }
   },
   "outputs": [
    {
     "data": {
      "text/html": [
       "\n",
       "\n",
       "\n",
       "\n",
       "\n",
       "\n",
       "  <div class=\"bk-root\" id=\"949887c5-f8ff-462f-9745-3fbfd8db3049\" data-root-id=\"12184\"></div>\n"
      ]
     },
     "metadata": {},
     "output_type": "display_data"
    },
    {
     "data": {
      "application/javascript": [
       "(function(root) {\n",
       "  function embed_document(root) {\n",
       "    \n",
       "  var docs_json = {\"93b84a2b-b9e4-4c7d-ac48-4cea3ff08ef4\":{\"roots\":{\"references\":[{\"attributes\":{\"below\":[{\"id\":\"12195\",\"type\":\"LinearAxis\"}],\"center\":[{\"id\":\"12199\",\"type\":\"Grid\"},{\"id\":\"12204\",\"type\":\"Grid\"},{\"id\":\"12229\",\"type\":\"Legend\"}],\"left\":[{\"id\":\"12200\",\"type\":\"LinearAxis\"}],\"plot_height\":400,\"plot_width\":900,\"renderers\":[{\"id\":\"12221\",\"type\":\"GlyphRenderer\"},{\"id\":\"12234\",\"type\":\"GlyphRenderer\"}],\"title\":{\"id\":\"12185\",\"type\":\"Title\"},\"toolbar\":{\"id\":\"12211\",\"type\":\"Toolbar\"},\"x_range\":{\"id\":\"12187\",\"type\":\"DataRange1d\"},\"x_scale\":{\"id\":\"12191\",\"type\":\"LinearScale\"},\"y_range\":{\"id\":\"12189\",\"type\":\"DataRange1d\"},\"y_scale\":{\"id\":\"12193\",\"type\":\"LinearScale\"}},\"id\":\"12184\",\"subtype\":\"Figure\",\"type\":\"Plot\"},{\"attributes\":{\"text\":\"Urban population\"},\"id\":\"12185\",\"type\":\"Title\"},{\"attributes\":{\"callback\":null,\"data\":{\"x\":[\"1960\",\"1961\",\"1962\",\"1963\",\"1964\",\"1965\",\"1966\",\"1967\",\"1968\",\"1969\",\"1970\",\"1971\",\"1972\",\"1973\",\"1974\",\"1975\",\"1976\",\"1977\",\"1978\",\"1979\",\"1980\",\"1981\",\"1982\",\"1983\",\"1984\",\"1985\",\"1986\",\"1987\",\"1988\",\"1989\",\"1990\",\"1991\",\"1992\",\"1993\",\"1994\",\"1995\",\"1996\",\"1997\",\"1998\",\"1999\",\"2000\",\"2001\",\"2002\",\"2003\",\"2004\",\"2005\",\"2006\",\"2007\",\"2008\",\"2009\",\"2010\",\"2011\",\"2012\",\"2013\",\"2014\",\"2015\",\"2016\",\"2017\"],\"y\":[23317292.0,24465608.0,25715484.0,27056026.0,28495614.0,30031066.0,31667488.0,33475608.0,35399148.0,37438167.0,39538583.0,41813984.0,44241565.0,46769493.0,49418771.0,50279277.0,53224569.0,56380077.0,59741635.0,63173090.0,67018359.0,70759809.0,74015049.0,77517852.0,81340591.0,85438619.0,89730611.0,94224950.0,98950365.0,103779087.0,108895345.0,114110906.0,119435249.0,124882817.0,130206642.0,135562776.0,141015012.0,146637320.0,152365029.0,158280891.0,164462270.0,171248545.0,178496124.0,186087168.0,193896898.0,201991152.0,210219133.0,218294690.0,227312839.0,236706129.0,246511210.0,256742767.0,266067392.0,276930811.0,288207667.0,299896804.0,312008544.0,324553851.0]},\"selected\":{\"id\":\"12689\",\"type\":\"Selection\"},\"selection_policy\":{\"id\":\"12688\",\"type\":\"UnionRenderers\"}},\"id\":\"12231\",\"type\":\"ColumnDataSource\"},{\"attributes\":{\"axis_label\":\"Years\",\"formatter\":{\"id\":\"12226\",\"type\":\"BasicTickFormatter\"},\"ticker\":{\"id\":\"12196\",\"type\":\"BasicTicker\"}},\"id\":\"12195\",\"type\":\"LinearAxis\"},{\"attributes\":{},\"id\":\"12201\",\"type\":\"BasicTicker\"},{\"attributes\":{},\"id\":\"12224\",\"type\":\"BasicTickFormatter\"},{\"attributes\":{\"line_color\":\"#FA1857\",\"x\":{\"field\":\"x\"},\"y\":{\"field\":\"y\"}},\"id\":\"12219\",\"type\":\"Line\"},{\"attributes\":{\"bottom_units\":\"screen\",\"fill_alpha\":{\"value\":0.5},\"fill_color\":{\"value\":\"lightgrey\"},\"left_units\":\"screen\",\"level\":\"overlay\",\"line_alpha\":{\"value\":1.0},\"line_color\":{\"value\":\"black\"},\"line_dash\":[4,4],\"line_width\":{\"value\":2},\"render_mode\":\"css\",\"right_units\":\"screen\",\"top_units\":\"screen\"},\"id\":\"12228\",\"type\":\"BoxAnnotation\"},{\"attributes\":{},\"id\":\"12205\",\"type\":\"PanTool\"},{\"attributes\":{\"label\":{\"value\":\"LDCs\"},\"renderers\":[{\"id\":\"12221\",\"type\":\"GlyphRenderer\"}]},\"id\":\"12230\",\"type\":\"LegendItem\"},{\"attributes\":{\"active_drag\":\"auto\",\"active_inspect\":\"auto\",\"active_multi\":null,\"active_scroll\":\"auto\",\"active_tap\":\"auto\",\"tools\":[{\"id\":\"12205\",\"type\":\"PanTool\"},{\"id\":\"12206\",\"type\":\"WheelZoomTool\"},{\"id\":\"12207\",\"type\":\"BoxZoomTool\"},{\"id\":\"12208\",\"type\":\"SaveTool\"},{\"id\":\"12209\",\"type\":\"ResetTool\"},{\"id\":\"12210\",\"type\":\"HelpTool\"},{\"id\":\"12236\",\"type\":\"HoverTool\"}]},\"id\":\"12211\",\"type\":\"Toolbar\"},{\"attributes\":{\"callback\":null},\"id\":\"12189\",\"type\":\"DataRange1d\"},{\"attributes\":{},\"id\":\"12206\",\"type\":\"WheelZoomTool\"},{\"attributes\":{},\"id\":\"12688\",\"type\":\"UnionRenderers\"},{\"attributes\":{},\"id\":\"12208\",\"type\":\"SaveTool\"},{\"attributes\":{\"source\":{\"id\":\"12231\",\"type\":\"ColumnDataSource\"}},\"id\":\"12235\",\"type\":\"CDSView\"},{\"attributes\":{\"overlay\":{\"id\":\"12228\",\"type\":\"BoxAnnotation\"}},\"id\":\"12207\",\"type\":\"BoxZoomTool\"},{\"attributes\":{},\"id\":\"12686\",\"type\":\"UnionRenderers\"},{\"attributes\":{\"callback\":null,\"tooltips\":\"                \\n        <div style=padding=5px>Year:@x</div>\\n        <div style=padding=5px>Value:@y</div>        \\n        \"},\"id\":\"12236\",\"type\":\"HoverTool\"},{\"attributes\":{},\"id\":\"12687\",\"type\":\"Selection\"},{\"attributes\":{},\"id\":\"12226\",\"type\":\"BasicTickFormatter\"},{\"attributes\":{},\"id\":\"12689\",\"type\":\"Selection\"},{\"attributes\":{\"grid_line_color\":null,\"ticker\":{\"id\":\"12196\",\"type\":\"BasicTicker\"}},\"id\":\"12199\",\"type\":\"Grid\"},{\"attributes\":{\"fill_alpha\":{\"value\":0.1},\"fill_color\":{\"value\":\"#1f77b4\"},\"line_alpha\":{\"value\":0.1},\"line_color\":{\"value\":\"#1f77b4\"},\"line_width\":{\"value\":3},\"x\":{\"field\":\"x\"},\"y\":{\"field\":\"y\"}},\"id\":\"12233\",\"type\":\"Circle\"},{\"attributes\":{\"axis_label\":\"SP.URB.TOTL\",\"formatter\":{\"id\":\"12224\",\"type\":\"BasicTickFormatter\"},\"ticker\":{\"id\":\"12201\",\"type\":\"BasicTicker\"}},\"id\":\"12200\",\"type\":\"LinearAxis\"},{\"attributes\":{\"items\":[{\"id\":\"12230\",\"type\":\"LegendItem\"}],\"location\":\"bottom_left\"},\"id\":\"12229\",\"type\":\"Legend\"},{\"attributes\":{\"line_alpha\":0.1,\"line_color\":\"#1f77b4\",\"x\":{\"field\":\"x\"},\"y\":{\"field\":\"y\"}},\"id\":\"12220\",\"type\":\"Line\"},{\"attributes\":{},\"id\":\"12196\",\"type\":\"BasicTicker\"},{\"attributes\":{\"source\":{\"id\":\"12218\",\"type\":\"ColumnDataSource\"}},\"id\":\"12222\",\"type\":\"CDSView\"},{\"attributes\":{},\"id\":\"12209\",\"type\":\"ResetTool\"},{\"attributes\":{},\"id\":\"12210\",\"type\":\"HelpTool\"},{\"attributes\":{\"data_source\":{\"id\":\"12231\",\"type\":\"ColumnDataSource\"},\"glyph\":{\"id\":\"12232\",\"type\":\"Circle\"},\"hover_glyph\":null,\"muted_glyph\":null,\"nonselection_glyph\":{\"id\":\"12233\",\"type\":\"Circle\"},\"selection_glyph\":null,\"view\":{\"id\":\"12235\",\"type\":\"CDSView\"}},\"id\":\"12234\",\"type\":\"GlyphRenderer\"},{\"attributes\":{},\"id\":\"12191\",\"type\":\"LinearScale\"},{\"attributes\":{\"dimension\":1,\"grid_line_alpha\":0.5,\"ticker\":{\"id\":\"12201\",\"type\":\"BasicTicker\"}},\"id\":\"12204\",\"type\":\"Grid\"},{\"attributes\":{},\"id\":\"12193\",\"type\":\"LinearScale\"},{\"attributes\":{\"fill_color\":{\"value\":\"#FA1857\"},\"line_color\":{\"value\":\"#FA1857\"},\"line_width\":{\"value\":3},\"x\":{\"field\":\"x\"},\"y\":{\"field\":\"y\"}},\"id\":\"12232\",\"type\":\"Circle\"},{\"attributes\":{\"callback\":null,\"data\":{\"x\":[\"1960\",\"1961\",\"1962\",\"1963\",\"1964\",\"1965\",\"1966\",\"1967\",\"1968\",\"1969\",\"1970\",\"1971\",\"1972\",\"1973\",\"1974\",\"1975\",\"1976\",\"1977\",\"1978\",\"1979\",\"1980\",\"1981\",\"1982\",\"1983\",\"1984\",\"1985\",\"1986\",\"1987\",\"1988\",\"1989\",\"1990\",\"1991\",\"1992\",\"1993\",\"1994\",\"1995\",\"1996\",\"1997\",\"1998\",\"1999\",\"2000\",\"2001\",\"2002\",\"2003\",\"2004\",\"2005\",\"2006\",\"2007\",\"2008\",\"2009\",\"2010\",\"2011\",\"2012\",\"2013\",\"2014\",\"2015\",\"2016\",\"2017\"],\"y\":[23317292.0,24465608.0,25715484.0,27056026.0,28495614.0,30031066.0,31667488.0,33475608.0,35399148.0,37438167.0,39538583.0,41813984.0,44241565.0,46769493.0,49418771.0,50279277.0,53224569.0,56380077.0,59741635.0,63173090.0,67018359.0,70759809.0,74015049.0,77517852.0,81340591.0,85438619.0,89730611.0,94224950.0,98950365.0,103779087.0,108895345.0,114110906.0,119435249.0,124882817.0,130206642.0,135562776.0,141015012.0,146637320.0,152365029.0,158280891.0,164462270.0,171248545.0,178496124.0,186087168.0,193896898.0,201991152.0,210219133.0,218294690.0,227312839.0,236706129.0,246511210.0,256742767.0,266067392.0,276930811.0,288207667.0,299896804.0,312008544.0,324553851.0]},\"selected\":{\"id\":\"12687\",\"type\":\"Selection\"},\"selection_policy\":{\"id\":\"12686\",\"type\":\"UnionRenderers\"}},\"id\":\"12218\",\"type\":\"ColumnDataSource\"},{\"attributes\":{\"callback\":null},\"id\":\"12187\",\"type\":\"DataRange1d\"},{\"attributes\":{\"data_source\":{\"id\":\"12218\",\"type\":\"ColumnDataSource\"},\"glyph\":{\"id\":\"12219\",\"type\":\"Line\"},\"hover_glyph\":null,\"muted_glyph\":null,\"nonselection_glyph\":{\"id\":\"12220\",\"type\":\"Line\"},\"selection_glyph\":null,\"view\":{\"id\":\"12222\",\"type\":\"CDSView\"}},\"id\":\"12221\",\"type\":\"GlyphRenderer\"}],\"root_ids\":[\"12184\"]},\"title\":\"Bokeh Application\",\"version\":\"1.3.4\"}};\n",
       "  var render_items = [{\"docid\":\"93b84a2b-b9e4-4c7d-ac48-4cea3ff08ef4\",\"roots\":{\"12184\":\"949887c5-f8ff-462f-9745-3fbfd8db3049\"}}];\n",
       "  root.Bokeh.embed.embed_items_notebook(docs_json, render_items);\n",
       "\n",
       "  }\n",
       "  if (root.Bokeh !== undefined) {\n",
       "    embed_document(root);\n",
       "  } else {\n",
       "    var attempts = 0;\n",
       "    var timer = setInterval(function(root) {\n",
       "      if (root.Bokeh !== undefined) {\n",
       "        embed_document(root);\n",
       "        clearInterval(timer);\n",
       "      }\n",
       "      attempts++;\n",
       "      if (attempts > 100) {\n",
       "        console.log(\"Bokeh: ERROR: Unable to run BokehJS code because BokehJS library is missing\");\n",
       "        clearInterval(timer);\n",
       "      }\n",
       "    }, 10, root)\n",
       "  }\n",
       "})(window);"
      ],
      "application/vnd.bokehjs_exec.v0+json": ""
     },
     "metadata": {
      "application/vnd.bokehjs_exec.v0+json": {
       "id": "12184"
      }
     },
     "output_type": "display_data"
    }
   ],
   "source": [
    "result = show_group_total(years, 'SP.URB.TOTL', ['LDCs'])"
   ]
  },
  {
   "cell_type": "code",
   "execution_count": 32,
   "metadata": {
    "ExecuteTime": {
     "end_time": "2019-10-25T14:35:30.281624Z",
     "start_time": "2019-10-25T14:35:22.402094Z"
    },
    "slideshow": {
     "slide_type": "slide"
    }
   },
   "outputs": [
    {
     "data": {
      "text/html": [
       "\n",
       "\n",
       "\n",
       "\n",
       "\n",
       "\n",
       "  <div class=\"bk-root\" id=\"8d949b02-4f5e-4515-badc-5b578f598389\" data-root-id=\"12751\"></div>\n"
      ]
     },
     "metadata": {},
     "output_type": "display_data"
    },
    {
     "data": {
      "application/javascript": [
       "(function(root) {\n",
       "  function embed_document(root) {\n",
       "    \n",
       "  var docs_json = {\"bb056115-50ff-4c4f-909b-5b370646b5cc\":{\"roots\":{\"references\":[{\"attributes\":{\"below\":[{\"id\":\"12762\",\"type\":\"LinearAxis\"}],\"center\":[{\"id\":\"12766\",\"type\":\"Grid\"},{\"id\":\"12771\",\"type\":\"Grid\"},{\"id\":\"12796\",\"type\":\"Legend\"}],\"left\":[{\"id\":\"12767\",\"type\":\"LinearAxis\"}],\"plot_height\":400,\"plot_width\":800,\"renderers\":[{\"id\":\"12788\",\"type\":\"GlyphRenderer\"},{\"id\":\"12801\",\"type\":\"GlyphRenderer\"},{\"id\":\"12806\",\"type\":\"GlyphRenderer\"},{\"id\":\"12822\",\"type\":\"GlyphRenderer\"},{\"id\":\"12827\",\"type\":\"GlyphRenderer\"},{\"id\":\"12847\",\"type\":\"GlyphRenderer\"}],\"title\":{\"id\":\"12752\",\"type\":\"Title\"},\"toolbar\":{\"id\":\"12778\",\"type\":\"Toolbar\"},\"x_range\":{\"id\":\"12754\",\"type\":\"DataRange1d\"},\"x_scale\":{\"id\":\"12758\",\"type\":\"LinearScale\"},\"y_range\":{\"id\":\"12756\",\"type\":\"DataRange1d\"},\"y_scale\":{\"id\":\"12760\",\"type\":\"LinearScale\"}},\"id\":\"12751\",\"subtype\":\"Figure\",\"type\":\"Plot\"},{\"attributes\":{\"callback\":null,\"data\":{\"x\":[\"2000\",\"2001\",\"2002\",\"2003\",\"2004\",\"2005\",\"2006\",\"2007\",\"2008\",\"2009\",\"2010\",\"2011\",\"2012\",\"2013\",\"2014\",\"2015\",\"2016\",\"2017\"],\"y\":[3.781552399759757,3.9942501736128904,4.0980366224839635,4.1200279616396,4.067771523272396,4.0462628038554005,3.9491110534001477,3.7343089278830024,4.00474292401507,4.006365015359042,4.017012003822316,4.026193802500771,3.976323997042947,3.9618560270813443,3.9501422897690834,3.931939995499514,3.9127531302754495,3.8933983484972026]},\"selected\":{\"id\":\"12814\",\"type\":\"Selection\"},\"selection_policy\":{\"id\":\"12813\",\"type\":\"UnionRenderers\"}},\"id\":\"12785\",\"type\":\"ColumnDataSource\"},{\"attributes\":{\"source\":{\"id\":\"12819\",\"type\":\"ColumnDataSource\"}},\"id\":\"12823\",\"type\":\"CDSView\"},{\"attributes\":{\"fill_color\":{\"value\":\"#FA1857\"},\"line_color\":{\"value\":\"#FA1857\"},\"line_width\":{\"value\":3},\"x\":{\"field\":\"x\"},\"y\":{\"field\":\"y\"}},\"id\":\"12799\",\"type\":\"Circle\"},{\"attributes\":{\"callback\":null,\"tooltips\":\"                \\n        <div style=padding=5px>Year:@x</div>\\n        <div style=padding=5px>Value:@y</div>        \\n        \"},\"id\":\"12849\",\"type\":\"HoverTool\"},{\"attributes\":{\"line_alpha\":0.1,\"line_color\":\"#1f77b4\",\"x\":{\"field\":\"x\"},\"y\":{\"field\":\"y\"}},\"id\":\"12787\",\"type\":\"Line\"},{\"attributes\":{\"callback\":null,\"data\":{\"x\":[\"2000\",\"2001\",\"2002\",\"2003\",\"2004\",\"2005\",\"2006\",\"2007\",\"2008\",\"2009\",\"2010\",\"2011\",\"2012\",\"2013\",\"2014\",\"2015\",\"2016\",\"2017\"],\"y\":[0.9948809271821193,1.1720404938170361,1.2487792655994334,1.2098437389978234,1.1858418971351812,1.1566812882637159,1.1461235724859402,1.1299299497492925,1.1478412678703078,1.0667506897450498,1.004952660145055,0.7748422786938176,0.8497708748839219,0.8674781666983666,0.8896129313491413,0.882013187119933,0.8885753632137473,0.8267985143506588]},\"selected\":{\"id\":\"13318\",\"type\":\"Selection\"},\"selection_policy\":{\"id\":\"13317\",\"type\":\"UnionRenderers\"}},\"id\":\"12824\",\"type\":\"ColumnDataSource\"},{\"attributes\":{\"fill_alpha\":{\"value\":0.1},\"fill_color\":{\"value\":\"#1f77b4\"},\"line_alpha\":{\"value\":0.1},\"line_color\":{\"value\":\"#1f77b4\"},\"line_width\":{\"value\":3},\"x\":{\"field\":\"x\"},\"y\":{\"field\":\"y\"}},\"id\":\"12800\",\"type\":\"Circle\"},{\"attributes\":{},\"id\":\"12772\",\"type\":\"PanTool\"},{\"attributes\":{\"line_color\":\"#2CC775\",\"x\":{\"field\":\"x\"},\"y\":{\"field\":\"y\"}},\"id\":\"12825\",\"type\":\"Line\"},{\"attributes\":{\"data_source\":{\"id\":\"12798\",\"type\":\"ColumnDataSource\"},\"glyph\":{\"id\":\"12799\",\"type\":\"Circle\"},\"hover_glyph\":null,\"muted_glyph\":null,\"nonselection_glyph\":{\"id\":\"12800\",\"type\":\"Circle\"},\"selection_glyph\":null,\"view\":{\"id\":\"12802\",\"type\":\"CDSView\"}},\"id\":\"12801\",\"type\":\"GlyphRenderer\"},{\"attributes\":{},\"id\":\"12773\",\"type\":\"WheelZoomTool\"},{\"attributes\":{\"line_alpha\":0.1,\"line_color\":\"#1f77b4\",\"x\":{\"field\":\"x\"},\"y\":{\"field\":\"y\"}},\"id\":\"12826\",\"type\":\"Line\"},{\"attributes\":{\"source\":{\"id\":\"12798\",\"type\":\"ColumnDataSource\"}},\"id\":\"12802\",\"type\":\"CDSView\"},{\"attributes\":{\"overlay\":{\"id\":\"12795\",\"type\":\"BoxAnnotation\"}},\"id\":\"12774\",\"type\":\"BoxZoomTool\"},{\"attributes\":{\"data_source\":{\"id\":\"12824\",\"type\":\"ColumnDataSource\"},\"glyph\":{\"id\":\"12825\",\"type\":\"Line\"},\"hover_glyph\":null,\"muted_glyph\":null,\"nonselection_glyph\":{\"id\":\"12826\",\"type\":\"Line\"},\"selection_glyph\":null,\"view\":{\"id\":\"12828\",\"type\":\"CDSView\"}},\"id\":\"12827\",\"type\":\"GlyphRenderer\"},{\"attributes\":{\"callback\":null,\"data\":{\"x\":[\"2000\",\"2001\",\"2002\",\"2003\",\"2004\",\"2005\",\"2006\",\"2007\",\"2008\",\"2009\",\"2010\",\"2011\",\"2012\",\"2013\",\"2014\",\"2015\",\"2016\",\"2017\"],\"y\":[2.871713123812663,2.9511432100791484,3.0136932118765114,2.953868405139294,2.924116416288403,2.9006768448998628,2.8385887182475527,2.787551595330817,2.7628871731196654,2.72341580335172,2.6789486862183955,2.590195657094341,2.529948100519968,2.4961358861963343,2.465255348584935,2.4236075249092615,2.394780581402036,2.3538548161434734]},\"selected\":{\"id\":\"12839\",\"type\":\"Selection\"},\"selection_policy\":{\"id\":\"12838\",\"type\":\"UnionRenderers\"}},\"id\":\"12803\",\"type\":\"ColumnDataSource\"},{\"attributes\":{},\"id\":\"12775\",\"type\":\"SaveTool\"},{\"attributes\":{\"source\":{\"id\":\"12824\",\"type\":\"ColumnDataSource\"}},\"id\":\"12828\",\"type\":\"CDSView\"},{\"attributes\":{\"line_color\":\"#5430F1\",\"x\":{\"field\":\"x\"},\"y\":{\"field\":\"y\"}},\"id\":\"12804\",\"type\":\"Line\"},{\"attributes\":{},\"id\":\"12776\",\"type\":\"ResetTool\"},{\"attributes\":{\"text\":\"Urban population growth (annual %) weighted against Urban population\"},\"id\":\"12752\",\"type\":\"Title\"},{\"attributes\":{\"line_color\":\"#FA1857\",\"x\":{\"field\":\"x\"},\"y\":{\"field\":\"y\"}},\"id\":\"12786\",\"type\":\"Line\"},{\"attributes\":{},\"id\":\"12838\",\"type\":\"UnionRenderers\"},{\"attributes\":{\"line_alpha\":0.1,\"line_color\":\"#1f77b4\",\"x\":{\"field\":\"x\"},\"y\":{\"field\":\"y\"}},\"id\":\"12805\",\"type\":\"Line\"},{\"attributes\":{},\"id\":\"12777\",\"type\":\"HelpTool\"},{\"attributes\":{\"callback\":null},\"id\":\"12754\",\"type\":\"DataRange1d\"},{\"attributes\":{},\"id\":\"12839\",\"type\":\"Selection\"},{\"attributes\":{\"data_source\":{\"id\":\"12803\",\"type\":\"ColumnDataSource\"},\"glyph\":{\"id\":\"12804\",\"type\":\"Line\"},\"hover_glyph\":null,\"muted_glyph\":null,\"nonselection_glyph\":{\"id\":\"12805\",\"type\":\"Line\"},\"selection_glyph\":null,\"view\":{\"id\":\"12807\",\"type\":\"CDSView\"}},\"id\":\"12806\",\"type\":\"GlyphRenderer\"},{\"attributes\":{\"active_drag\":\"auto\",\"active_inspect\":\"auto\",\"active_multi\":null,\"active_scroll\":\"auto\",\"active_tap\":\"auto\",\"tools\":[{\"id\":\"12772\",\"type\":\"PanTool\"},{\"id\":\"12773\",\"type\":\"WheelZoomTool\"},{\"id\":\"12774\",\"type\":\"BoxZoomTool\"},{\"id\":\"12775\",\"type\":\"SaveTool\"},{\"id\":\"12776\",\"type\":\"ResetTool\"},{\"id\":\"12777\",\"type\":\"HelpTool\"},{\"id\":\"12849\",\"type\":\"HoverTool\"}]},\"id\":\"12778\",\"type\":\"Toolbar\"},{\"attributes\":{\"callback\":null},\"id\":\"12756\",\"type\":\"DataRange1d\"},{\"attributes\":{},\"id\":\"12840\",\"type\":\"UnionRenderers\"},{\"attributes\":{\"source\":{\"id\":\"12803\",\"type\":\"ColumnDataSource\"}},\"id\":\"12807\",\"type\":\"CDSView\"},{\"attributes\":{},\"id\":\"12758\",\"type\":\"LinearScale\"},{\"attributes\":{\"data_source\":{\"id\":\"12785\",\"type\":\"ColumnDataSource\"},\"glyph\":{\"id\":\"12786\",\"type\":\"Line\"},\"hover_glyph\":null,\"muted_glyph\":null,\"nonselection_glyph\":{\"id\":\"12787\",\"type\":\"Line\"},\"selection_glyph\":null,\"view\":{\"id\":\"12789\",\"type\":\"CDSView\"}},\"id\":\"12788\",\"type\":\"GlyphRenderer\"},{\"attributes\":{},\"id\":\"12841\",\"type\":\"Selection\"},{\"attributes\":{},\"id\":\"12813\",\"type\":\"UnionRenderers\"},{\"attributes\":{},\"id\":\"12760\",\"type\":\"LinearScale\"},{\"attributes\":{\"label\":{\"value\":\"OECD\"},\"renderers\":[{\"id\":\"12827\",\"type\":\"GlyphRenderer\"}]},\"id\":\"12843\",\"type\":\"LegendItem\"},{\"attributes\":{},\"id\":\"12814\",\"type\":\"Selection\"},{\"attributes\":{\"source\":{\"id\":\"12785\",\"type\":\"ColumnDataSource\"}},\"id\":\"12789\",\"type\":\"CDSView\"},{\"attributes\":{\"axis_label\":\"Years\",\"formatter\":{\"id\":\"12793\",\"type\":\"BasicTickFormatter\"},\"ticker\":{\"id\":\"12763\",\"type\":\"BasicTicker\"}},\"id\":\"12762\",\"type\":\"LinearAxis\"},{\"attributes\":{},\"id\":\"12815\",\"type\":\"UnionRenderers\"},{\"attributes\":{\"callback\":null,\"data\":{\"x\":[\"2000\",\"2001\",\"2002\",\"2003\",\"2004\",\"2005\",\"2006\",\"2007\",\"2008\",\"2009\",\"2010\",\"2011\",\"2012\",\"2013\",\"2014\",\"2015\",\"2016\",\"2017\"],\"y\":[0.9948809271821193,1.1720404938170361,1.2487792655994334,1.2098437389978234,1.1858418971351812,1.1566812882637159,1.1461235724859402,1.1299299497492925,1.1478412678703078,1.0667506897450498,1.004952660145055,0.7748422786938176,0.8497708748839219,0.8674781666983666,0.8896129313491413,0.882013187119933,0.8885753632137473,0.8267985143506588]},\"selected\":{\"id\":\"13320\",\"type\":\"Selection\"},\"selection_policy\":{\"id\":\"13319\",\"type\":\"UnionRenderers\"}},\"id\":\"12844\",\"type\":\"ColumnDataSource\"},{\"attributes\":{},\"id\":\"13318\",\"type\":\"Selection\"},{\"attributes\":{},\"id\":\"12763\",\"type\":\"BasicTicker\"},{\"attributes\":{},\"id\":\"12791\",\"type\":\"BasicTickFormatter\"},{\"attributes\":{\"fill_color\":{\"value\":\"#2CC775\"},\"line_color\":{\"value\":\"#2CC775\"},\"line_width\":{\"value\":3},\"x\":{\"field\":\"x\"},\"y\":{\"field\":\"y\"}},\"id\":\"12845\",\"type\":\"Circle\"},{\"attributes\":{},\"id\":\"12816\",\"type\":\"Selection\"},{\"attributes\":{},\"id\":\"13320\",\"type\":\"Selection\"},{\"attributes\":{\"grid_line_color\":null,\"ticker\":{\"id\":\"12763\",\"type\":\"BasicTicker\"}},\"id\":\"12766\",\"type\":\"Grid\"},{\"attributes\":{\"fill_alpha\":{\"value\":0.1},\"fill_color\":{\"value\":\"#1f77b4\"},\"line_alpha\":{\"value\":0.1},\"line_color\":{\"value\":\"#1f77b4\"},\"line_width\":{\"value\":3},\"x\":{\"field\":\"x\"},\"y\":{\"field\":\"y\"}},\"id\":\"12846\",\"type\":\"Circle\"},{\"attributes\":{},\"id\":\"12793\",\"type\":\"BasicTickFormatter\"},{\"attributes\":{\"label\":{\"value\":\"Developing excluding LDCs\"},\"renderers\":[{\"id\":\"12806\",\"type\":\"GlyphRenderer\"}]},\"id\":\"12818\",\"type\":\"LegendItem\"},{\"attributes\":{},\"id\":\"13319\",\"type\":\"UnionRenderers\"},{\"attributes\":{\"data_source\":{\"id\":\"12844\",\"type\":\"ColumnDataSource\"},\"glyph\":{\"id\":\"12845\",\"type\":\"Circle\"},\"hover_glyph\":null,\"muted_glyph\":null,\"nonselection_glyph\":{\"id\":\"12846\",\"type\":\"Circle\"},\"selection_glyph\":null,\"view\":{\"id\":\"12848\",\"type\":\"CDSView\"}},\"id\":\"12847\",\"type\":\"GlyphRenderer\"},{\"attributes\":{\"bottom_units\":\"screen\",\"fill_alpha\":{\"value\":0.5},\"fill_color\":{\"value\":\"lightgrey\"},\"left_units\":\"screen\",\"level\":\"overlay\",\"line_alpha\":{\"value\":1.0},\"line_color\":{\"value\":\"black\"},\"line_dash\":[4,4],\"line_width\":{\"value\":2},\"render_mode\":\"css\",\"right_units\":\"screen\",\"top_units\":\"screen\"},\"id\":\"12795\",\"type\":\"BoxAnnotation\"},{\"attributes\":{\"axis_label\":\"SP.URB.GROW\",\"formatter\":{\"id\":\"12791\",\"type\":\"BasicTickFormatter\"},\"ticker\":{\"id\":\"12768\",\"type\":\"BasicTicker\"}},\"id\":\"12767\",\"type\":\"LinearAxis\"},{\"attributes\":{\"callback\":null,\"data\":{\"x\":[\"2000\",\"2001\",\"2002\",\"2003\",\"2004\",\"2005\",\"2006\",\"2007\",\"2008\",\"2009\",\"2010\",\"2011\",\"2012\",\"2013\",\"2014\",\"2015\",\"2016\",\"2017\"],\"y\":[2.871713123812663,2.9511432100791484,3.0136932118765114,2.953868405139294,2.924116416288403,2.9006768448998628,2.8385887182475527,2.787551595330817,2.7628871731196654,2.72341580335172,2.6789486862183955,2.590195657094341,2.529948100519968,2.4961358861963343,2.465255348584935,2.4236075249092615,2.394780581402036,2.3538548161434734]},\"selected\":{\"id\":\"12841\",\"type\":\"Selection\"},\"selection_policy\":{\"id\":\"12840\",\"type\":\"UnionRenderers\"}},\"id\":\"12819\",\"type\":\"ColumnDataSource\"},{\"attributes\":{\"items\":[{\"id\":\"12797\",\"type\":\"LegendItem\"},{\"id\":\"12818\",\"type\":\"LegendItem\"},{\"id\":\"12843\",\"type\":\"LegendItem\"}],\"location\":\"bottom_left\"},\"id\":\"12796\",\"type\":\"Legend\"},{\"attributes\":{\"source\":{\"id\":\"12844\",\"type\":\"ColumnDataSource\"}},\"id\":\"12848\",\"type\":\"CDSView\"},{\"attributes\":{},\"id\":\"12768\",\"type\":\"BasicTicker\"},{\"attributes\":{\"fill_color\":{\"value\":\"#5430F1\"},\"line_color\":{\"value\":\"#5430F1\"},\"line_width\":{\"value\":3},\"x\":{\"field\":\"x\"},\"y\":{\"field\":\"y\"}},\"id\":\"12820\",\"type\":\"Circle\"},{\"attributes\":{},\"id\":\"13317\",\"type\":\"UnionRenderers\"},{\"attributes\":{\"label\":{\"value\":\"LDCs\"},\"renderers\":[{\"id\":\"12788\",\"type\":\"GlyphRenderer\"}]},\"id\":\"12797\",\"type\":\"LegendItem\"},{\"attributes\":{\"dimension\":1,\"grid_line_alpha\":0.5,\"ticker\":{\"id\":\"12768\",\"type\":\"BasicTicker\"}},\"id\":\"12771\",\"type\":\"Grid\"},{\"attributes\":{\"fill_alpha\":{\"value\":0.1},\"fill_color\":{\"value\":\"#1f77b4\"},\"line_alpha\":{\"value\":0.1},\"line_color\":{\"value\":\"#1f77b4\"},\"line_width\":{\"value\":3},\"x\":{\"field\":\"x\"},\"y\":{\"field\":\"y\"}},\"id\":\"12821\",\"type\":\"Circle\"},{\"attributes\":{\"callback\":null,\"data\":{\"x\":[\"2000\",\"2001\",\"2002\",\"2003\",\"2004\",\"2005\",\"2006\",\"2007\",\"2008\",\"2009\",\"2010\",\"2011\",\"2012\",\"2013\",\"2014\",\"2015\",\"2016\",\"2017\"],\"y\":[3.781552399759757,3.9942501736128904,4.0980366224839635,4.1200279616396,4.067771523272396,4.0462628038554005,3.9491110534001477,3.7343089278830024,4.00474292401507,4.006365015359042,4.017012003822316,4.026193802500771,3.976323997042947,3.9618560270813443,3.9501422897690834,3.931939995499514,3.9127531302754495,3.8933983484972026]},\"selected\":{\"id\":\"12816\",\"type\":\"Selection\"},\"selection_policy\":{\"id\":\"12815\",\"type\":\"UnionRenderers\"}},\"id\":\"12798\",\"type\":\"ColumnDataSource\"},{\"attributes\":{\"data_source\":{\"id\":\"12819\",\"type\":\"ColumnDataSource\"},\"glyph\":{\"id\":\"12820\",\"type\":\"Circle\"},\"hover_glyph\":null,\"muted_glyph\":null,\"nonselection_glyph\":{\"id\":\"12821\",\"type\":\"Circle\"},\"selection_glyph\":null,\"view\":{\"id\":\"12823\",\"type\":\"CDSView\"}},\"id\":\"12822\",\"type\":\"GlyphRenderer\"}],\"root_ids\":[\"12751\"]},\"title\":\"Bokeh Application\",\"version\":\"1.3.4\"}};\n",
       "  var render_items = [{\"docid\":\"bb056115-50ff-4c4f-909b-5b370646b5cc\",\"roots\":{\"12751\":\"8d949b02-4f5e-4515-badc-5b578f598389\"}}];\n",
       "  root.Bokeh.embed.embed_items_notebook(docs_json, render_items);\n",
       "\n",
       "  }\n",
       "  if (root.Bokeh !== undefined) {\n",
       "    embed_document(root);\n",
       "  } else {\n",
       "    var attempts = 0;\n",
       "    var timer = setInterval(function(root) {\n",
       "      if (root.Bokeh !== undefined) {\n",
       "        embed_document(root);\n",
       "        clearInterval(timer);\n",
       "      }\n",
       "      attempts++;\n",
       "      if (attempts > 100) {\n",
       "        console.log(\"Bokeh: ERROR: Unable to run BokehJS code because BokehJS library is missing\");\n",
       "        clearInterval(timer);\n",
       "      }\n",
       "    }, 10, root)\n",
       "  }\n",
       "})(window);"
      ],
      "application/vnd.bokehjs_exec.v0+json": ""
     },
     "metadata": {
      "application/vnd.bokehjs_exec.v0+json": {
       "id": "12751"
      }
     },
     "output_type": "display_data"
    }
   ],
   "source": [
    "# Growth of urban population\n",
    "years = list(map(str, list(range(2000,2018))))\n",
    "result = show_weighted_average(years, 'SP.URB.GROW', 'SP.URB.TOTL', \n",
    "                               ['LDCs', 'Developing excluding LDCs', 'OECD']) "
   ]
  },
  {
   "cell_type": "markdown",
   "metadata": {
    "slideshow": {
     "slide_type": "slide"
    }
   },
   "source": [
    "# Water and sanitation"
   ]
  },
  {
   "cell_type": "code",
   "execution_count": 33,
   "metadata": {
    "ExecuteTime": {
     "end_time": "2019-10-25T14:25:57.739495Z",
     "start_time": "2019-10-25T14:25:51.769121Z"
    },
    "slideshow": {
     "slide_type": "slide"
    }
   },
   "outputs": [
    {
     "data": {
      "text/html": [
       "\n",
       "\n",
       "\n",
       "\n",
       "\n",
       "\n",
       "  <div class=\"bk-root\" id=\"3f130675-0aa2-43a8-a584-6ae37722a2eb\" data-root-id=\"13430\"></div>\n"
      ]
     },
     "metadata": {},
     "output_type": "display_data"
    },
    {
     "data": {
      "application/javascript": [
       "(function(root) {\n",
       "  function embed_document(root) {\n",
       "    \n",
       "  var docs_json = {\"47ac4f51-30aa-4200-8a73-21f4b7a868f4\":{\"roots\":{\"references\":[{\"attributes\":{\"below\":[{\"id\":\"13441\",\"type\":\"LinearAxis\"}],\"center\":[{\"id\":\"13445\",\"type\":\"Grid\"},{\"id\":\"13450\",\"type\":\"Grid\"},{\"id\":\"13475\",\"type\":\"Legend\"}],\"left\":[{\"id\":\"13446\",\"type\":\"LinearAxis\"}],\"plot_height\":400,\"plot_width\":800,\"renderers\":[{\"id\":\"13467\",\"type\":\"GlyphRenderer\"},{\"id\":\"13480\",\"type\":\"GlyphRenderer\"},{\"id\":\"13485\",\"type\":\"GlyphRenderer\"},{\"id\":\"13501\",\"type\":\"GlyphRenderer\"},{\"id\":\"13506\",\"type\":\"GlyphRenderer\"},{\"id\":\"13526\",\"type\":\"GlyphRenderer\"}],\"title\":{\"id\":\"13431\",\"type\":\"Title\"},\"toolbar\":{\"id\":\"13457\",\"type\":\"Toolbar\"},\"x_range\":{\"id\":\"13433\",\"type\":\"DataRange1d\"},\"x_scale\":{\"id\":\"13437\",\"type\":\"LinearScale\"},\"y_range\":{\"id\":\"13435\",\"type\":\"DataRange1d\"},\"y_scale\":{\"id\":\"13439\",\"type\":\"LinearScale\"}},\"id\":\"13430\",\"subtype\":\"Figure\",\"type\":\"Plot\"},{\"attributes\":{},\"id\":\"13472\",\"type\":\"BasicTickFormatter\"},{\"attributes\":{\"fill_color\":{\"value\":\"#5430F1\"},\"line_color\":{\"value\":\"#5430F1\"},\"line_width\":{\"value\":3},\"x\":{\"field\":\"x\"},\"y\":{\"field\":\"y\"}},\"id\":\"13499\",\"type\":\"Circle\"},{\"attributes\":{\"items\":[{\"id\":\"13476\",\"type\":\"LegendItem\"},{\"id\":\"13497\",\"type\":\"LegendItem\"},{\"id\":\"13522\",\"type\":\"LegendItem\"}],\"location\":\"bottom_left\"},\"id\":\"13475\",\"type\":\"Legend\"},{\"attributes\":{\"data_source\":{\"id\":\"13503\",\"type\":\"ColumnDataSource\"},\"glyph\":{\"id\":\"13504\",\"type\":\"Line\"},\"hover_glyph\":null,\"muted_glyph\":null,\"nonselection_glyph\":{\"id\":\"13505\",\"type\":\"Line\"},\"selection_glyph\":null,\"view\":{\"id\":\"13507\",\"type\":\"CDSView\"}},\"id\":\"13506\",\"type\":\"GlyphRenderer\"},{\"attributes\":{\"axis_label\":\"Years\",\"formatter\":{\"id\":\"13472\",\"type\":\"BasicTickFormatter\"},\"ticker\":{\"id\":\"13442\",\"type\":\"BasicTicker\"}},\"id\":\"13441\",\"type\":\"LinearAxis\"},{\"attributes\":{},\"id\":\"13517\",\"type\":\"UnionRenderers\"},{\"attributes\":{\"bottom_units\":\"screen\",\"fill_alpha\":{\"value\":0.5},\"fill_color\":{\"value\":\"lightgrey\"},\"left_units\":\"screen\",\"level\":\"overlay\",\"line_alpha\":{\"value\":1.0},\"line_color\":{\"value\":\"black\"},\"line_dash\":[4,4],\"line_width\":{\"value\":2},\"render_mode\":\"css\",\"right_units\":\"screen\",\"top_units\":\"screen\"},\"id\":\"13474\",\"type\":\"BoxAnnotation\"},{\"attributes\":{\"callback\":null,\"data\":{\"x\":[\"2000\",\"2001\",\"2002\",\"2003\",\"2004\",\"2005\",\"2006\",\"2007\",\"2008\",\"2009\",\"2010\",\"2011\",\"2012\",\"2013\",\"2014\",\"2015\",\"2016\",\"2017\"],\"y\":[28.95024757925739,29.209016301994986,29.79844631497895,31.18696960164219,32.69297789614253,34.30733873540626,36.01016978662808,37.93187043091685,39.94500520648879,42.03012406148348,44.17895500170897,46.379028286829,48.62938786590606,50.964846617773375,53.35002880170789,55.76782165250671,58.22878123081063,60.72069424656215]},\"selected\":{\"id\":\"13520\",\"type\":\"Selection\"},\"selection_policy\":{\"id\":\"13519\",\"type\":\"UnionRenderers\"}},\"id\":\"13498\",\"type\":\"ColumnDataSource\"},{\"attributes\":{},\"id\":\"13518\",\"type\":\"Selection\"},{\"attributes\":{},\"id\":\"13493\",\"type\":\"Selection\"},{\"attributes\":{\"line_color\":\"#2CC775\",\"x\":{\"field\":\"x\"},\"y\":{\"field\":\"y\"}},\"id\":\"13504\",\"type\":\"Line\"},{\"attributes\":{\"label\":{\"value\":\"OECD\"},\"renderers\":[{\"id\":\"13506\",\"type\":\"GlyphRenderer\"}]},\"id\":\"13522\",\"type\":\"LegendItem\"},{\"attributes\":{},\"id\":\"13439\",\"type\":\"LinearScale\"},{\"attributes\":{},\"id\":\"13470\",\"type\":\"BasicTickFormatter\"},{\"attributes\":{},\"id\":\"13494\",\"type\":\"UnionRenderers\"},{\"attributes\":{\"source\":{\"id\":\"13464\",\"type\":\"ColumnDataSource\"}},\"id\":\"13468\",\"type\":\"CDSView\"},{\"attributes\":{},\"id\":\"14014\",\"type\":\"UnionRenderers\"},{\"attributes\":{},\"id\":\"13495\",\"type\":\"Selection\"},{\"attributes\":{\"callback\":null},\"id\":\"13435\",\"type\":\"DataRange1d\"},{\"attributes\":{},\"id\":\"13456\",\"type\":\"HelpTool\"},{\"attributes\":{},\"id\":\"13437\",\"type\":\"LinearScale\"},{\"attributes\":{\"data_source\":{\"id\":\"13482\",\"type\":\"ColumnDataSource\"},\"glyph\":{\"id\":\"13483\",\"type\":\"Line\"},\"hover_glyph\":null,\"muted_glyph\":null,\"nonselection_glyph\":{\"id\":\"13484\",\"type\":\"Line\"},\"selection_glyph\":null,\"view\":{\"id\":\"13486\",\"type\":\"CDSView\"}},\"id\":\"13485\",\"type\":\"GlyphRenderer\"},{\"attributes\":{\"source\":{\"id\":\"13503\",\"type\":\"ColumnDataSource\"}},\"id\":\"13507\",\"type\":\"CDSView\"},{\"attributes\":{\"callback\":null,\"data\":{\"x\":[\"2000\",\"2001\",\"2002\",\"2003\",\"2004\",\"2005\",\"2006\",\"2007\",\"2008\",\"2009\",\"2010\",\"2011\",\"2012\",\"2013\",\"2014\",\"2015\",\"2016\",\"2017\"],\"y\":[80.04575550274292,80.13536831650443,80.2749830491825,80.58814768410595,80.98591935582309,81.41241391811296,82.53376279435736,82.94328127236986,83.35812838971606,83.77383345525976,84.19453320444809,84.60616451316776,85.02010336426527,85.44818985737146,85.89167410057688,86.28661161448157,86.61428373311065,86.89175663743303]},\"selected\":{\"id\":\"14017\",\"type\":\"Selection\"},\"selection_policy\":{\"id\":\"14016\",\"type\":\"UnionRenderers\"}},\"id\":\"13523\",\"type\":\"ColumnDataSource\"},{\"attributes\":{\"source\":{\"id\":\"13523\",\"type\":\"ColumnDataSource\"}},\"id\":\"13527\",\"type\":\"CDSView\"},{\"attributes\":{\"source\":{\"id\":\"13482\",\"type\":\"ColumnDataSource\"}},\"id\":\"13486\",\"type\":\"CDSView\"},{\"attributes\":{\"data_source\":{\"id\":\"13464\",\"type\":\"ColumnDataSource\"},\"glyph\":{\"id\":\"13465\",\"type\":\"Line\"},\"hover_glyph\":null,\"muted_glyph\":null,\"nonselection_glyph\":{\"id\":\"13466\",\"type\":\"Line\"},\"selection_glyph\":null,\"view\":{\"id\":\"13468\",\"type\":\"CDSView\"}},\"id\":\"13467\",\"type\":\"GlyphRenderer\"},{\"attributes\":{},\"id\":\"13519\",\"type\":\"UnionRenderers\"},{\"attributes\":{\"callback\":null},\"id\":\"13433\",\"type\":\"DataRange1d\"},{\"attributes\":{},\"id\":\"13442\",\"type\":\"BasicTicker\"},{\"attributes\":{\"active_drag\":\"auto\",\"active_inspect\":\"auto\",\"active_multi\":null,\"active_scroll\":\"auto\",\"active_tap\":\"auto\",\"tools\":[{\"id\":\"13451\",\"type\":\"PanTool\"},{\"id\":\"13452\",\"type\":\"WheelZoomTool\"},{\"id\":\"13453\",\"type\":\"BoxZoomTool\"},{\"id\":\"13454\",\"type\":\"SaveTool\"},{\"id\":\"13455\",\"type\":\"ResetTool\"},{\"id\":\"13456\",\"type\":\"HelpTool\"},{\"id\":\"13528\",\"type\":\"HoverTool\"}]},\"id\":\"13457\",\"type\":\"Toolbar\"},{\"attributes\":{},\"id\":\"13492\",\"type\":\"UnionRenderers\"},{\"attributes\":{\"dimension\":1,\"grid_line_alpha\":0.5,\"ticker\":{\"id\":\"13447\",\"type\":\"BasicTicker\"}},\"id\":\"13450\",\"type\":\"Grid\"},{\"attributes\":{\"overlay\":{\"id\":\"13474\",\"type\":\"BoxAnnotation\"}},\"id\":\"13453\",\"type\":\"BoxZoomTool\"},{\"attributes\":{},\"id\":\"13520\",\"type\":\"Selection\"},{\"attributes\":{\"callback\":null,\"data\":{\"x\":[\"2000\",\"2001\",\"2002\",\"2003\",\"2004\",\"2005\",\"2006\",\"2007\",\"2008\",\"2009\",\"2010\",\"2011\",\"2012\",\"2013\",\"2014\",\"2015\",\"2016\",\"2017\"],\"y\":[28.95024757925739,29.209016301994986,29.79844631497895,31.18696960164219,32.69297789614253,34.30733873540626,36.01016978662808,37.93187043091685,39.94500520648879,42.03012406148348,44.17895500170897,46.379028286829,48.62938786590606,50.964846617773375,53.35002880170789,55.76782165250671,58.22878123081063,60.72069424656215]},\"selected\":{\"id\":\"13518\",\"type\":\"Selection\"},\"selection_policy\":{\"id\":\"13517\",\"type\":\"UnionRenderers\"}},\"id\":\"13482\",\"type\":\"ColumnDataSource\"},{\"attributes\":{\"line_color\":\"#5430F1\",\"x\":{\"field\":\"x\"},\"y\":{\"field\":\"y\"}},\"id\":\"13483\",\"type\":\"Line\"},{\"attributes\":{\"data_source\":{\"id\":\"13498\",\"type\":\"ColumnDataSource\"},\"glyph\":{\"id\":\"13499\",\"type\":\"Circle\"},\"hover_glyph\":null,\"muted_glyph\":null,\"nonselection_glyph\":{\"id\":\"13500\",\"type\":\"Circle\"},\"selection_glyph\":null,\"view\":{\"id\":\"13502\",\"type\":\"CDSView\"}},\"id\":\"13501\",\"type\":\"GlyphRenderer\"},{\"attributes\":{},\"id\":\"13447\",\"type\":\"BasicTicker\"},{\"attributes\":{\"text\":\"People using safely managed sanitation services (% of population) weighted against Population, total\"},\"id\":\"13431\",\"type\":\"Title\"},{\"attributes\":{},\"id\":\"14015\",\"type\":\"Selection\"},{\"attributes\":{},\"id\":\"13454\",\"type\":\"SaveTool\"},{\"attributes\":{\"line_alpha\":0.1,\"line_color\":\"#1f77b4\",\"x\":{\"field\":\"x\"},\"y\":{\"field\":\"y\"}},\"id\":\"13484\",\"type\":\"Line\"},{\"attributes\":{\"callback\":null,\"tooltips\":\"                \\n        <div style=padding=5px>Year:@x</div>\\n        <div style=padding=5px>Value:@y</div>        \\n        \"},\"id\":\"13528\",\"type\":\"HoverTool\"},{\"attributes\":{\"callback\":null,\"data\":{\"x\":[\"2000\",\"2001\",\"2002\",\"2003\",\"2004\",\"2005\",\"2006\",\"2007\",\"2008\",\"2009\",\"2010\",\"2011\",\"2012\",\"2013\",\"2014\",\"2015\",\"2016\",\"2017\"],\"y\":[7.313298252489695,8.310611901533424,9.28077115926377,10.252918388064188,11.205379345323372,12.149632874228196,13.089596716542752,14.025080502459863,14.955900981807803,15.821696108471013,16.709045789768172,17.553474451435992,18.374064944696872,19.187805301854954,19.99536707307814,20.797136473512598,21.58898092737968,22.374104786870443]},\"selected\":{\"id\":\"13493\",\"type\":\"Selection\"},\"selection_policy\":{\"id\":\"13492\",\"type\":\"UnionRenderers\"}},\"id\":\"13464\",\"type\":\"ColumnDataSource\"},{\"attributes\":{},\"id\":\"14017\",\"type\":\"Selection\"},{\"attributes\":{\"fill_alpha\":{\"value\":0.1},\"fill_color\":{\"value\":\"#1f77b4\"},\"line_alpha\":{\"value\":0.1},\"line_color\":{\"value\":\"#1f77b4\"},\"line_width\":{\"value\":3},\"x\":{\"field\":\"x\"},\"y\":{\"field\":\"y\"}},\"id\":\"13479\",\"type\":\"Circle\"},{\"attributes\":{\"axis_label\":\"SH.STA.SMSS.ZS\",\"formatter\":{\"id\":\"13470\",\"type\":\"BasicTickFormatter\"},\"ticker\":{\"id\":\"13447\",\"type\":\"BasicTicker\"}},\"id\":\"13446\",\"type\":\"LinearAxis\"},{\"attributes\":{\"line_alpha\":0.1,\"line_color\":\"#1f77b4\",\"x\":{\"field\":\"x\"},\"y\":{\"field\":\"y\"}},\"id\":\"13466\",\"type\":\"Line\"},{\"attributes\":{},\"id\":\"13455\",\"type\":\"ResetTool\"},{\"attributes\":{\"data_source\":{\"id\":\"13477\",\"type\":\"ColumnDataSource\"},\"glyph\":{\"id\":\"13478\",\"type\":\"Circle\"},\"hover_glyph\":null,\"muted_glyph\":null,\"nonselection_glyph\":{\"id\":\"13479\",\"type\":\"Circle\"},\"selection_glyph\":null,\"view\":{\"id\":\"13481\",\"type\":\"CDSView\"}},\"id\":\"13480\",\"type\":\"GlyphRenderer\"},{\"attributes\":{\"fill_alpha\":{\"value\":0.1},\"fill_color\":{\"value\":\"#1f77b4\"},\"line_alpha\":{\"value\":0.1},\"line_color\":{\"value\":\"#1f77b4\"},\"line_width\":{\"value\":3},\"x\":{\"field\":\"x\"},\"y\":{\"field\":\"y\"}},\"id\":\"13500\",\"type\":\"Circle\"},{\"attributes\":{\"label\":{\"value\":\"Developing excluding LDCs\"},\"renderers\":[{\"id\":\"13485\",\"type\":\"GlyphRenderer\"}]},\"id\":\"13497\",\"type\":\"LegendItem\"},{\"attributes\":{\"source\":{\"id\":\"13477\",\"type\":\"ColumnDataSource\"}},\"id\":\"13481\",\"type\":\"CDSView\"},{\"attributes\":{\"fill_color\":{\"value\":\"#2CC775\"},\"line_color\":{\"value\":\"#2CC775\"},\"line_width\":{\"value\":3},\"x\":{\"field\":\"x\"},\"y\":{\"field\":\"y\"}},\"id\":\"13524\",\"type\":\"Circle\"},{\"attributes\":{},\"id\":\"14016\",\"type\":\"UnionRenderers\"},{\"attributes\":{},\"id\":\"13451\",\"type\":\"PanTool\"},{\"attributes\":{\"grid_line_color\":null,\"ticker\":{\"id\":\"13442\",\"type\":\"BasicTicker\"}},\"id\":\"13445\",\"type\":\"Grid\"},{\"attributes\":{\"source\":{\"id\":\"13498\",\"type\":\"ColumnDataSource\"}},\"id\":\"13502\",\"type\":\"CDSView\"},{\"attributes\":{\"label\":{\"value\":\"LDCs\"},\"renderers\":[{\"id\":\"13467\",\"type\":\"GlyphRenderer\"}]},\"id\":\"13476\",\"type\":\"LegendItem\"},{\"attributes\":{\"line_alpha\":0.1,\"line_color\":\"#1f77b4\",\"x\":{\"field\":\"x\"},\"y\":{\"field\":\"y\"}},\"id\":\"13505\",\"type\":\"Line\"},{\"attributes\":{\"fill_color\":{\"value\":\"#FA1857\"},\"line_color\":{\"value\":\"#FA1857\"},\"line_width\":{\"value\":3},\"x\":{\"field\":\"x\"},\"y\":{\"field\":\"y\"}},\"id\":\"13478\",\"type\":\"Circle\"},{\"attributes\":{\"callback\":null,\"data\":{\"x\":[\"2000\",\"2001\",\"2002\",\"2003\",\"2004\",\"2005\",\"2006\",\"2007\",\"2008\",\"2009\",\"2010\",\"2011\",\"2012\",\"2013\",\"2014\",\"2015\",\"2016\",\"2017\"],\"y\":[80.04575550274292,80.13536831650443,80.2749830491825,80.58814768410595,80.98591935582309,81.41241391811296,82.53376279435736,82.94328127236986,83.35812838971606,83.77383345525976,84.19453320444809,84.60616451316776,85.02010336426527,85.44818985737146,85.89167410057688,86.28661161448157,86.61428373311065,86.89175663743303]},\"selected\":{\"id\":\"14015\",\"type\":\"Selection\"},\"selection_policy\":{\"id\":\"14014\",\"type\":\"UnionRenderers\"}},\"id\":\"13503\",\"type\":\"ColumnDataSource\"},{\"attributes\":{\"fill_alpha\":{\"value\":0.1},\"fill_color\":{\"value\":\"#1f77b4\"},\"line_alpha\":{\"value\":0.1},\"line_color\":{\"value\":\"#1f77b4\"},\"line_width\":{\"value\":3},\"x\":{\"field\":\"x\"},\"y\":{\"field\":\"y\"}},\"id\":\"13525\",\"type\":\"Circle\"},{\"attributes\":{},\"id\":\"13452\",\"type\":\"WheelZoomTool\"},{\"attributes\":{\"line_color\":\"#FA1857\",\"x\":{\"field\":\"x\"},\"y\":{\"field\":\"y\"}},\"id\":\"13465\",\"type\":\"Line\"},{\"attributes\":{\"callback\":null,\"data\":{\"x\":[\"2000\",\"2001\",\"2002\",\"2003\",\"2004\",\"2005\",\"2006\",\"2007\",\"2008\",\"2009\",\"2010\",\"2011\",\"2012\",\"2013\",\"2014\",\"2015\",\"2016\",\"2017\"],\"y\":[7.313298252489695,8.310611901533424,9.28077115926377,10.252918388064188,11.205379345323372,12.149632874228196,13.089596716542752,14.025080502459863,14.955900981807803,15.821696108471013,16.709045789768172,17.553474451435992,18.374064944696872,19.187805301854954,19.99536707307814,20.797136473512598,21.58898092737968,22.374104786870443]},\"selected\":{\"id\":\"13495\",\"type\":\"Selection\"},\"selection_policy\":{\"id\":\"13494\",\"type\":\"UnionRenderers\"}},\"id\":\"13477\",\"type\":\"ColumnDataSource\"},{\"attributes\":{\"data_source\":{\"id\":\"13523\",\"type\":\"ColumnDataSource\"},\"glyph\":{\"id\":\"13524\",\"type\":\"Circle\"},\"hover_glyph\":null,\"muted_glyph\":null,\"nonselection_glyph\":{\"id\":\"13525\",\"type\":\"Circle\"},\"selection_glyph\":null,\"view\":{\"id\":\"13527\",\"type\":\"CDSView\"}},\"id\":\"13526\",\"type\":\"GlyphRenderer\"}],\"root_ids\":[\"13430\"]},\"title\":\"Bokeh Application\",\"version\":\"1.3.4\"}};\n",
       "  var render_items = [{\"docid\":\"47ac4f51-30aa-4200-8a73-21f4b7a868f4\",\"roots\":{\"13430\":\"3f130675-0aa2-43a8-a584-6ae37722a2eb\"}}];\n",
       "  root.Bokeh.embed.embed_items_notebook(docs_json, render_items);\n",
       "\n",
       "  }\n",
       "  if (root.Bokeh !== undefined) {\n",
       "    embed_document(root);\n",
       "  } else {\n",
       "    var attempts = 0;\n",
       "    var timer = setInterval(function(root) {\n",
       "      if (root.Bokeh !== undefined) {\n",
       "        embed_document(root);\n",
       "        clearInterval(timer);\n",
       "      }\n",
       "      attempts++;\n",
       "      if (attempts > 100) {\n",
       "        console.log(\"Bokeh: ERROR: Unable to run BokehJS code because BokehJS library is missing\");\n",
       "        clearInterval(timer);\n",
       "      }\n",
       "    }, 10, root)\n",
       "  }\n",
       "})(window);"
      ],
      "application/vnd.bokehjs_exec.v0+json": ""
     },
     "metadata": {
      "application/vnd.bokehjs_exec.v0+json": {
       "id": "13430"
      }
     },
     "output_type": "display_data"
    }
   ],
   "source": [
    "# Access to safely managed sanitation services\n",
    "years = list(map(str, list(range(2000,2018))))\n",
    "result = show_weighted_average(years, 'SH.STA.SMSS.ZS', 'SP.POP.TOTL', \n",
    "                               ['LDCs', 'Developing excluding LDCs', 'OECD']) "
   ]
  },
  {
   "cell_type": "code",
   "execution_count": 34,
   "metadata": {
    "ExecuteTime": {
     "end_time": "2019-10-25T14:26:01.793967Z",
     "start_time": "2019-10-25T14:25:57.741996Z"
    },
    "slideshow": {
     "slide_type": "slide"
    }
   },
   "outputs": [
    {
     "data": {
      "text/html": [
       "\n",
       "\n",
       "\n",
       "\n",
       "\n",
       "\n",
       "  <div class=\"bk-root\" id=\"cedeae82-1bea-4b5b-9568-6b7815d3a823\" data-root-id=\"14127\"></div>\n"
      ]
     },
     "metadata": {},
     "output_type": "display_data"
    },
    {
     "data": {
      "application/javascript": [
       "(function(root) {\n",
       "  function embed_document(root) {\n",
       "    \n",
       "  var docs_json = {\"472725cd-1074-4419-a750-0a243f15ab86\":{\"roots\":{\"references\":[{\"attributes\":{\"below\":[{\"id\":\"14138\",\"type\":\"LinearAxis\"}],\"center\":[{\"id\":\"14142\",\"type\":\"Grid\"},{\"id\":\"14147\",\"type\":\"Grid\"},{\"id\":\"14172\",\"type\":\"Legend\"}],\"left\":[{\"id\":\"14143\",\"type\":\"LinearAxis\"}],\"plot_height\":400,\"plot_width\":800,\"renderers\":[{\"id\":\"14164\",\"type\":\"GlyphRenderer\"},{\"id\":\"14177\",\"type\":\"GlyphRenderer\"},{\"id\":\"14182\",\"type\":\"GlyphRenderer\"},{\"id\":\"14198\",\"type\":\"GlyphRenderer\"}],\"title\":{\"id\":\"14128\",\"type\":\"Title\"},\"toolbar\":{\"id\":\"14154\",\"type\":\"Toolbar\"},\"x_range\":{\"id\":\"14130\",\"type\":\"DataRange1d\"},\"x_scale\":{\"id\":\"14134\",\"type\":\"LinearScale\"},\"y_range\":{\"id\":\"14132\",\"type\":\"DataRange1d\"},\"y_scale\":{\"id\":\"14136\",\"type\":\"LinearScale\"}},\"id\":\"14127\",\"subtype\":\"Figure\",\"type\":\"Plot\"},{\"attributes\":{},\"id\":\"14148\",\"type\":\"PanTool\"},{\"attributes\":{\"callback\":null,\"data\":{\"x\":[\"2000\",\"2001\",\"2002\",\"2003\",\"2004\",\"2005\",\"2006\",\"2007\",\"2008\",\"2009\",\"2010\",\"2011\",\"2012\",\"2013\",\"2014\",\"2015\",\"2016\",\"2017\"],\"y\":[80.52938553993671,80.98306916658386,81.75577271857544,82.51738528343346,83.26856527716375,84.01035061665243,84.73493683343618,85.44665790841732,86.14597909243486,86.82384120053665,87.49098552195242,88.14296769426193,88.78219085406499,89.40976403386004,90.02760049458978,90.63753858167426,91.22512295896829,91.73069352453612]},\"selected\":{\"id\":\"14701\",\"type\":\"Selection\"},\"selection_policy\":{\"id\":\"14700\",\"type\":\"UnionRenderers\"}},\"id\":\"14179\",\"type\":\"ColumnDataSource\"},{\"attributes\":{\"line_color\":\"#5430F1\",\"x\":{\"field\":\"x\"},\"y\":{\"field\":\"y\"}},\"id\":\"14180\",\"type\":\"Line\"},{\"attributes\":{\"callback\":null,\"tooltips\":\"                \\n        <div style=padding=5px>Year:@x</div>\\n        <div style=padding=5px>Value:@y</div>        \\n        \"},\"id\":\"14200\",\"type\":\"HoverTool\"},{\"attributes\":{},\"id\":\"14703\",\"type\":\"Selection\"},{\"attributes\":{\"line_alpha\":0.1,\"line_color\":\"#1f77b4\",\"x\":{\"field\":\"x\"},\"y\":{\"field\":\"y\"}},\"id\":\"14181\",\"type\":\"Line\"},{\"attributes\":{\"grid_line_color\":null,\"ticker\":{\"id\":\"14139\",\"type\":\"BasicTicker\"}},\"id\":\"14142\",\"type\":\"Grid\"},{\"attributes\":{\"callback\":null},\"id\":\"14132\",\"type\":\"DataRange1d\"},{\"attributes\":{\"fill_alpha\":{\"value\":0.1},\"fill_color\":{\"value\":\"#1f77b4\"},\"line_alpha\":{\"value\":0.1},\"line_color\":{\"value\":\"#1f77b4\"},\"line_width\":{\"value\":3},\"x\":{\"field\":\"x\"},\"y\":{\"field\":\"y\"}},\"id\":\"14176\",\"type\":\"Circle\"},{\"attributes\":{},\"id\":\"14152\",\"type\":\"ResetTool\"},{\"attributes\":{},\"id\":\"14702\",\"type\":\"UnionRenderers\"},{\"attributes\":{\"data_source\":{\"id\":\"14174\",\"type\":\"ColumnDataSource\"},\"glyph\":{\"id\":\"14175\",\"type\":\"Circle\"},\"hover_glyph\":null,\"muted_glyph\":null,\"nonselection_glyph\":{\"id\":\"14176\",\"type\":\"Circle\"},\"selection_glyph\":null,\"view\":{\"id\":\"14178\",\"type\":\"CDSView\"}},\"id\":\"14177\",\"type\":\"GlyphRenderer\"},{\"attributes\":{},\"id\":\"14700\",\"type\":\"UnionRenderers\"},{\"attributes\":{},\"id\":\"14136\",\"type\":\"LinearScale\"},{\"attributes\":{\"source\":{\"id\":\"14174\",\"type\":\"ColumnDataSource\"}},\"id\":\"14178\",\"type\":\"CDSView\"},{\"attributes\":{},\"id\":\"14701\",\"type\":\"Selection\"},{\"attributes\":{\"callback\":null},\"id\":\"14130\",\"type\":\"DataRange1d\"},{\"attributes\":{\"label\":{\"value\":\"LDCs\"},\"renderers\":[{\"id\":\"14164\",\"type\":\"GlyphRenderer\"}]},\"id\":\"14173\",\"type\":\"LegendItem\"},{\"attributes\":{\"fill_alpha\":{\"value\":0.1},\"fill_color\":{\"value\":\"#1f77b4\"},\"line_alpha\":{\"value\":0.1},\"line_color\":{\"value\":\"#1f77b4\"},\"line_width\":{\"value\":3},\"x\":{\"field\":\"x\"},\"y\":{\"field\":\"y\"}},\"id\":\"14197\",\"type\":\"Circle\"},{\"attributes\":{\"callback\":null,\"data\":{\"x\":[\"2000\",\"2001\",\"2002\",\"2003\",\"2004\",\"2005\",\"2006\",\"2007\",\"2008\",\"2009\",\"2010\",\"2011\",\"2012\",\"2013\",\"2014\",\"2015\",\"2016\",\"2017\"],\"y\":[49.88174088230704,50.608086227470224,51.395986738735594,52.22351498455358,53.05074087389461,53.92007437124153,54.779372631776084,55.62089417800866,56.4996966988253,57.37541469551412,58.24907194342576,58.917144030541415,59.80691635243508,60.671159882373644,61.5393733519655,62.35975740919952,63.092404238757574,63.83980163897949]},\"selected\":{\"id\":\"14192\",\"type\":\"Selection\"},\"selection_policy\":{\"id\":\"14191\",\"type\":\"UnionRenderers\"}},\"id\":\"14174\",\"type\":\"ColumnDataSource\"},{\"attributes\":{\"data_source\":{\"id\":\"14195\",\"type\":\"ColumnDataSource\"},\"glyph\":{\"id\":\"14196\",\"type\":\"Circle\"},\"hover_glyph\":null,\"muted_glyph\":null,\"nonselection_glyph\":{\"id\":\"14197\",\"type\":\"Circle\"},\"selection_glyph\":null,\"view\":{\"id\":\"14199\",\"type\":\"CDSView\"}},\"id\":\"14198\",\"type\":\"GlyphRenderer\"},{\"attributes\":{\"callback\":null,\"data\":{\"x\":[\"2000\",\"2001\",\"2002\",\"2003\",\"2004\",\"2005\",\"2006\",\"2007\",\"2008\",\"2009\",\"2010\",\"2011\",\"2012\",\"2013\",\"2014\",\"2015\",\"2016\",\"2017\"],\"y\":[49.88174088230704,50.608086227470224,51.395986738735594,52.22351498455358,53.05074087389461,53.92007437124153,54.779372631776084,55.62089417800866,56.4996966988253,57.37541469551412,58.24907194342576,58.917144030541415,59.80691635243508,60.671159882373644,61.5393733519655,62.35975740919952,63.092404238757574,63.83980163897949]},\"selected\":{\"id\":\"14190\",\"type\":\"Selection\"},\"selection_policy\":{\"id\":\"14189\",\"type\":\"UnionRenderers\"}},\"id\":\"14161\",\"type\":\"ColumnDataSource\"},{\"attributes\":{\"axis_label\":\"SH.H2O.BASW.ZS\",\"formatter\":{\"id\":\"14167\",\"type\":\"BasicTickFormatter\"},\"ticker\":{\"id\":\"14144\",\"type\":\"BasicTicker\"}},\"id\":\"14143\",\"type\":\"LinearAxis\"},{\"attributes\":{\"fill_color\":{\"value\":\"#FA1857\"},\"line_color\":{\"value\":\"#FA1857\"},\"line_width\":{\"value\":3},\"x\":{\"field\":\"x\"},\"y\":{\"field\":\"y\"}},\"id\":\"14175\",\"type\":\"Circle\"},{\"attributes\":{\"source\":{\"id\":\"14195\",\"type\":\"ColumnDataSource\"}},\"id\":\"14199\",\"type\":\"CDSView\"},{\"attributes\":{\"dimension\":1,\"grid_line_alpha\":0.5,\"ticker\":{\"id\":\"14144\",\"type\":\"BasicTicker\"}},\"id\":\"14147\",\"type\":\"Grid\"},{\"attributes\":{},\"id\":\"14169\",\"type\":\"BasicTickFormatter\"},{\"attributes\":{\"label\":{\"value\":\"Developing excluding LDCs\"},\"renderers\":[{\"id\":\"14182\",\"type\":\"GlyphRenderer\"}]},\"id\":\"14194\",\"type\":\"LegendItem\"},{\"attributes\":{},\"id\":\"14144\",\"type\":\"BasicTicker\"},{\"attributes\":{\"bottom_units\":\"screen\",\"fill_alpha\":{\"value\":0.5},\"fill_color\":{\"value\":\"lightgrey\"},\"left_units\":\"screen\",\"level\":\"overlay\",\"line_alpha\":{\"value\":1.0},\"line_color\":{\"value\":\"black\"},\"line_dash\":[4,4],\"line_width\":{\"value\":2},\"render_mode\":\"css\",\"right_units\":\"screen\",\"top_units\":\"screen\"},\"id\":\"14171\",\"type\":\"BoxAnnotation\"},{\"attributes\":{\"callback\":null,\"data\":{\"x\":[\"2000\",\"2001\",\"2002\",\"2003\",\"2004\",\"2005\",\"2006\",\"2007\",\"2008\",\"2009\",\"2010\",\"2011\",\"2012\",\"2013\",\"2014\",\"2015\",\"2016\",\"2017\"],\"y\":[80.52938553993671,80.98306916658386,81.75577271857544,82.51738528343346,83.26856527716375,84.01035061665243,84.73493683343618,85.44665790841732,86.14597909243486,86.82384120053665,87.49098552195242,88.14296769426193,88.78219085406499,89.40976403386004,90.02760049458978,90.63753858167426,91.22512295896829,91.73069352453612]},\"selected\":{\"id\":\"14703\",\"type\":\"Selection\"},\"selection_policy\":{\"id\":\"14702\",\"type\":\"UnionRenderers\"}},\"id\":\"14195\",\"type\":\"ColumnDataSource\"},{\"attributes\":{\"items\":[{\"id\":\"14173\",\"type\":\"LegendItem\"},{\"id\":\"14194\",\"type\":\"LegendItem\"}],\"location\":\"bottom_left\"},\"id\":\"14172\",\"type\":\"Legend\"},{\"attributes\":{\"axis_label\":\"Years\",\"formatter\":{\"id\":\"14169\",\"type\":\"BasicTickFormatter\"},\"ticker\":{\"id\":\"14139\",\"type\":\"BasicTicker\"}},\"id\":\"14138\",\"type\":\"LinearAxis\"},{\"attributes\":{\"fill_color\":{\"value\":\"#5430F1\"},\"line_color\":{\"value\":\"#5430F1\"},\"line_width\":{\"value\":3},\"x\":{\"field\":\"x\"},\"y\":{\"field\":\"y\"}},\"id\":\"14196\",\"type\":\"Circle\"},{\"attributes\":{\"text\":\"People using at least basic drinking water services (% of population) weighted against Population, total\"},\"id\":\"14128\",\"type\":\"Title\"},{\"attributes\":{},\"id\":\"14190\",\"type\":\"Selection\"},{\"attributes\":{\"overlay\":{\"id\":\"14171\",\"type\":\"BoxAnnotation\"}},\"id\":\"14150\",\"type\":\"BoxZoomTool\"},{\"attributes\":{},\"id\":\"14191\",\"type\":\"UnionRenderers\"},{\"attributes\":{\"source\":{\"id\":\"14161\",\"type\":\"ColumnDataSource\"}},\"id\":\"14165\",\"type\":\"CDSView\"},{\"attributes\":{},\"id\":\"14149\",\"type\":\"WheelZoomTool\"},{\"attributes\":{},\"id\":\"14167\",\"type\":\"BasicTickFormatter\"},{\"attributes\":{},\"id\":\"14153\",\"type\":\"HelpTool\"},{\"attributes\":{},\"id\":\"14192\",\"type\":\"Selection\"},{\"attributes\":{},\"id\":\"14134\",\"type\":\"LinearScale\"},{\"attributes\":{\"active_drag\":\"auto\",\"active_inspect\":\"auto\",\"active_multi\":null,\"active_scroll\":\"auto\",\"active_tap\":\"auto\",\"tools\":[{\"id\":\"14148\",\"type\":\"PanTool\"},{\"id\":\"14149\",\"type\":\"WheelZoomTool\"},{\"id\":\"14150\",\"type\":\"BoxZoomTool\"},{\"id\":\"14151\",\"type\":\"SaveTool\"},{\"id\":\"14152\",\"type\":\"ResetTool\"},{\"id\":\"14153\",\"type\":\"HelpTool\"},{\"id\":\"14200\",\"type\":\"HoverTool\"}]},\"id\":\"14154\",\"type\":\"Toolbar\"},{\"attributes\":{\"data_source\":{\"id\":\"14179\",\"type\":\"ColumnDataSource\"},\"glyph\":{\"id\":\"14180\",\"type\":\"Line\"},\"hover_glyph\":null,\"muted_glyph\":null,\"nonselection_glyph\":{\"id\":\"14181\",\"type\":\"Line\"},\"selection_glyph\":null,\"view\":{\"id\":\"14183\",\"type\":\"CDSView\"}},\"id\":\"14182\",\"type\":\"GlyphRenderer\"},{\"attributes\":{\"line_color\":\"#FA1857\",\"x\":{\"field\":\"x\"},\"y\":{\"field\":\"y\"}},\"id\":\"14162\",\"type\":\"Line\"},{\"attributes\":{\"line_alpha\":0.1,\"line_color\":\"#1f77b4\",\"x\":{\"field\":\"x\"},\"y\":{\"field\":\"y\"}},\"id\":\"14163\",\"type\":\"Line\"},{\"attributes\":{},\"id\":\"14151\",\"type\":\"SaveTool\"},{\"attributes\":{\"data_source\":{\"id\":\"14161\",\"type\":\"ColumnDataSource\"},\"glyph\":{\"id\":\"14162\",\"type\":\"Line\"},\"hover_glyph\":null,\"muted_glyph\":null,\"nonselection_glyph\":{\"id\":\"14163\",\"type\":\"Line\"},\"selection_glyph\":null,\"view\":{\"id\":\"14165\",\"type\":\"CDSView\"}},\"id\":\"14164\",\"type\":\"GlyphRenderer\"},{\"attributes\":{\"source\":{\"id\":\"14179\",\"type\":\"ColumnDataSource\"}},\"id\":\"14183\",\"type\":\"CDSView\"},{\"attributes\":{},\"id\":\"14139\",\"type\":\"BasicTicker\"},{\"attributes\":{},\"id\":\"14189\",\"type\":\"UnionRenderers\"}],\"root_ids\":[\"14127\"]},\"title\":\"Bokeh Application\",\"version\":\"1.3.4\"}};\n",
       "  var render_items = [{\"docid\":\"472725cd-1074-4419-a750-0a243f15ab86\",\"roots\":{\"14127\":\"cedeae82-1bea-4b5b-9568-6b7815d3a823\"}}];\n",
       "  root.Bokeh.embed.embed_items_notebook(docs_json, render_items);\n",
       "\n",
       "  }\n",
       "  if (root.Bokeh !== undefined) {\n",
       "    embed_document(root);\n",
       "  } else {\n",
       "    var attempts = 0;\n",
       "    var timer = setInterval(function(root) {\n",
       "      if (root.Bokeh !== undefined) {\n",
       "        embed_document(root);\n",
       "        clearInterval(timer);\n",
       "      }\n",
       "      attempts++;\n",
       "      if (attempts > 100) {\n",
       "        console.log(\"Bokeh: ERROR: Unable to run BokehJS code because BokehJS library is missing\");\n",
       "        clearInterval(timer);\n",
       "      }\n",
       "    }, 10, root)\n",
       "  }\n",
       "})(window);"
      ],
      "application/vnd.bokehjs_exec.v0+json": ""
     },
     "metadata": {
      "application/vnd.bokehjs_exec.v0+json": {
       "id": "14127"
      }
     },
     "output_type": "display_data"
    }
   ],
   "source": [
    "# Basic water access\n",
    "years = list(map(str, list(range(2000,2018))))\n",
    "result = show_weighted_average(years, 'SH.H2O.BASW.ZS', 'SP.POP.TOTL', ['LDCs', 'Developing excluding LDCs'])"
   ]
  },
  {
   "cell_type": "code",
   "execution_count": 35,
   "metadata": {
    "ExecuteTime": {
     "end_time": "2019-10-25T14:26:06.027715Z",
     "start_time": "2019-10-25T14:26:01.795810Z"
    },
    "slideshow": {
     "slide_type": "slide"
    }
   },
   "outputs": [
    {
     "data": {
      "text/html": [
       "\n",
       "\n",
       "\n",
       "\n",
       "\n",
       "\n",
       "  <div class=\"bk-root\" id=\"1ded15a2-9a35-47c5-b1c9-e3f93036c96e\" data-root-id=\"14789\"></div>\n"
      ]
     },
     "metadata": {},
     "output_type": "display_data"
    },
    {
     "data": {
      "application/javascript": [
       "(function(root) {\n",
       "  function embed_document(root) {\n",
       "    \n",
       "  var docs_json = {\"61d5245e-7d53-4f42-9244-dfdf7817998b\":{\"roots\":{\"references\":[{\"attributes\":{\"below\":[{\"id\":\"14800\",\"type\":\"LinearAxis\"}],\"center\":[{\"id\":\"14804\",\"type\":\"Grid\"},{\"id\":\"14809\",\"type\":\"Grid\"},{\"id\":\"14834\",\"type\":\"Legend\"}],\"left\":[{\"id\":\"14805\",\"type\":\"LinearAxis\"}],\"plot_height\":400,\"plot_width\":800,\"renderers\":[{\"id\":\"14826\",\"type\":\"GlyphRenderer\"},{\"id\":\"14839\",\"type\":\"GlyphRenderer\"},{\"id\":\"14844\",\"type\":\"GlyphRenderer\"},{\"id\":\"14860\",\"type\":\"GlyphRenderer\"}],\"title\":{\"id\":\"14790\",\"type\":\"Title\"},\"toolbar\":{\"id\":\"14816\",\"type\":\"Toolbar\"},\"x_range\":{\"id\":\"14792\",\"type\":\"DataRange1d\"},\"x_scale\":{\"id\":\"14796\",\"type\":\"LinearScale\"},\"y_range\":{\"id\":\"14794\",\"type\":\"DataRange1d\"},\"y_scale\":{\"id\":\"14798\",\"type\":\"LinearScale\"}},\"id\":\"14789\",\"subtype\":\"Figure\",\"type\":\"Plot\"},{\"attributes\":{\"data_source\":{\"id\":\"14823\",\"type\":\"ColumnDataSource\"},\"glyph\":{\"id\":\"14824\",\"type\":\"Line\"},\"hover_glyph\":null,\"muted_glyph\":null,\"nonselection_glyph\":{\"id\":\"14825\",\"type\":\"Line\"},\"selection_glyph\":null,\"view\":{\"id\":\"14827\",\"type\":\"CDSView\"}},\"id\":\"14826\",\"type\":\"GlyphRenderer\"},{\"attributes\":{},\"id\":\"14851\",\"type\":\"UnionRenderers\"},{\"attributes\":{},\"id\":\"14798\",\"type\":\"LinearScale\"},{\"attributes\":{},\"id\":\"14852\",\"type\":\"Selection\"},{\"attributes\":{\"source\":{\"id\":\"14823\",\"type\":\"ColumnDataSource\"}},\"id\":\"14827\",\"type\":\"CDSView\"},{\"attributes\":{\"axis_label\":\"Years\",\"formatter\":{\"id\":\"14831\",\"type\":\"BasicTickFormatter\"},\"ticker\":{\"id\":\"14801\",\"type\":\"BasicTicker\"}},\"id\":\"14800\",\"type\":\"LinearAxis\"},{\"attributes\":{},\"id\":\"14853\",\"type\":\"UnionRenderers\"},{\"attributes\":{},\"id\":\"14801\",\"type\":\"BasicTicker\"},{\"attributes\":{},\"id\":\"14829\",\"type\":\"BasicTickFormatter\"},{\"attributes\":{},\"id\":\"14854\",\"type\":\"Selection\"},{\"attributes\":{\"grid_line_color\":null,\"ticker\":{\"id\":\"14801\",\"type\":\"BasicTicker\"}},\"id\":\"14804\",\"type\":\"Grid\"},{\"attributes\":{},\"id\":\"14831\",\"type\":\"BasicTickFormatter\"},{\"attributes\":{\"label\":{\"value\":\"Developing excluding LDCs\"},\"renderers\":[{\"id\":\"14844\",\"type\":\"GlyphRenderer\"}]},\"id\":\"14856\",\"type\":\"LegendItem\"},{\"attributes\":{\"bottom_units\":\"screen\",\"fill_alpha\":{\"value\":0.5},\"fill_color\":{\"value\":\"lightgrey\"},\"left_units\":\"screen\",\"level\":\"overlay\",\"line_alpha\":{\"value\":1.0},\"line_color\":{\"value\":\"black\"},\"line_dash\":[4,4],\"line_width\":{\"value\":2},\"render_mode\":\"css\",\"right_units\":\"screen\",\"top_units\":\"screen\"},\"id\":\"14833\",\"type\":\"BoxAnnotation\"},{\"attributes\":{\"axis_label\":\"SH.H2O.BASW.RU.ZS\",\"formatter\":{\"id\":\"14829\",\"type\":\"BasicTickFormatter\"},\"ticker\":{\"id\":\"14806\",\"type\":\"BasicTicker\"}},\"id\":\"14805\",\"type\":\"LinearAxis\"},{\"attributes\":{\"callback\":null,\"data\":{\"x\":[\"2000\",\"2001\",\"2002\",\"2003\",\"2004\",\"2005\",\"2006\",\"2007\",\"2008\",\"2009\",\"2010\",\"2011\",\"2012\",\"2013\",\"2014\",\"2015\",\"2016\",\"2017\"],\"y\":[70.53617342079441,70.98736853175153,71.93803161887901,72.88856091575647,73.83899935125105,74.79174508474752,75.7402919385478,76.68928352401974,77.63732473716367,78.57026473333019,79.50520264937938,80.44196190784398,81.37844584739321,82.31320813991483,83.24970749545021,84.18023015230632,85.0958832055751,86.00729014906636]},\"selected\":{\"id\":\"15379\",\"type\":\"Selection\"},\"selection_policy\":{\"id\":\"15378\",\"type\":\"UnionRenderers\"}},\"id\":\"14857\",\"type\":\"ColumnDataSource\"},{\"attributes\":{\"items\":[{\"id\":\"14835\",\"type\":\"LegendItem\"},{\"id\":\"14856\",\"type\":\"LegendItem\"}],\"location\":\"bottom_left\"},\"id\":\"14834\",\"type\":\"Legend\"},{\"attributes\":{},\"id\":\"14806\",\"type\":\"BasicTicker\"},{\"attributes\":{\"fill_color\":{\"value\":\"#5430F1\"},\"line_color\":{\"value\":\"#5430F1\"},\"line_width\":{\"value\":3},\"x\":{\"field\":\"x\"},\"y\":{\"field\":\"y\"}},\"id\":\"14858\",\"type\":\"Circle\"},{\"attributes\":{\"label\":{\"value\":\"LDCs\"},\"renderers\":[{\"id\":\"14826\",\"type\":\"GlyphRenderer\"}]},\"id\":\"14835\",\"type\":\"LegendItem\"},{\"attributes\":{\"dimension\":1,\"grid_line_alpha\":0.5,\"ticker\":{\"id\":\"14806\",\"type\":\"BasicTicker\"}},\"id\":\"14809\",\"type\":\"Grid\"},{\"attributes\":{\"fill_alpha\":{\"value\":0.1},\"fill_color\":{\"value\":\"#1f77b4\"},\"line_alpha\":{\"value\":0.1},\"line_color\":{\"value\":\"#1f77b4\"},\"line_width\":{\"value\":3},\"x\":{\"field\":\"x\"},\"y\":{\"field\":\"y\"}},\"id\":\"14859\",\"type\":\"Circle\"},{\"attributes\":{\"callback\":null,\"data\":{\"x\":[\"2000\",\"2001\",\"2002\",\"2003\",\"2004\",\"2005\",\"2006\",\"2007\",\"2008\",\"2009\",\"2010\",\"2011\",\"2012\",\"2013\",\"2014\",\"2015\",\"2016\",\"2017\"],\"y\":[41.5045691703602,42.1806214875968,42.885242622983625,43.64136482547633,44.39836037458768,45.19722362416373,45.98902922387146,46.7651200755641,47.57302323497532,48.37812393351483,49.181884079296815,49.83570430661606,50.69488925039761,51.48859977029182,52.29018616324078,53.04155575034853,53.69592350981019,54.34820662340301]},\"selected\":{\"id\":\"14854\",\"type\":\"Selection\"},\"selection_policy\":{\"id\":\"14853\",\"type\":\"UnionRenderers\"}},\"id\":\"14836\",\"type\":\"ColumnDataSource\"},{\"attributes\":{\"data_source\":{\"id\":\"14857\",\"type\":\"ColumnDataSource\"},\"glyph\":{\"id\":\"14858\",\"type\":\"Circle\"},\"hover_glyph\":null,\"muted_glyph\":null,\"nonselection_glyph\":{\"id\":\"14859\",\"type\":\"Circle\"},\"selection_glyph\":null,\"view\":{\"id\":\"14861\",\"type\":\"CDSView\"}},\"id\":\"14860\",\"type\":\"GlyphRenderer\"},{\"attributes\":{\"line_color\":\"#FA1857\",\"x\":{\"field\":\"x\"},\"y\":{\"field\":\"y\"}},\"id\":\"14824\",\"type\":\"Line\"},{\"attributes\":{\"fill_color\":{\"value\":\"#FA1857\"},\"line_color\":{\"value\":\"#FA1857\"},\"line_width\":{\"value\":3},\"x\":{\"field\":\"x\"},\"y\":{\"field\":\"y\"}},\"id\":\"14837\",\"type\":\"Circle\"},{\"attributes\":{\"source\":{\"id\":\"14857\",\"type\":\"ColumnDataSource\"}},\"id\":\"14861\",\"type\":\"CDSView\"},{\"attributes\":{\"callback\":null,\"data\":{\"x\":[\"2000\",\"2001\",\"2002\",\"2003\",\"2004\",\"2005\",\"2006\",\"2007\",\"2008\",\"2009\",\"2010\",\"2011\",\"2012\",\"2013\",\"2014\",\"2015\",\"2016\",\"2017\"],\"y\":[41.5045691703602,42.1806214875968,42.885242622983625,43.64136482547633,44.39836037458768,45.19722362416373,45.98902922387146,46.7651200755641,47.57302323497532,48.37812393351483,49.181884079296815,49.83570430661606,50.69488925039761,51.48859977029182,52.29018616324078,53.04155575034853,53.69592350981019,54.34820662340301]},\"selected\":{\"id\":\"14852\",\"type\":\"Selection\"},\"selection_policy\":{\"id\":\"14851\",\"type\":\"UnionRenderers\"}},\"id\":\"14823\",\"type\":\"ColumnDataSource\"},{\"attributes\":{\"fill_alpha\":{\"value\":0.1},\"fill_color\":{\"value\":\"#1f77b4\"},\"line_alpha\":{\"value\":0.1},\"line_color\":{\"value\":\"#1f77b4\"},\"line_width\":{\"value\":3},\"x\":{\"field\":\"x\"},\"y\":{\"field\":\"y\"}},\"id\":\"14838\",\"type\":\"Circle\"},{\"attributes\":{\"line_alpha\":0.1,\"line_color\":\"#1f77b4\",\"x\":{\"field\":\"x\"},\"y\":{\"field\":\"y\"}},\"id\":\"14825\",\"type\":\"Line\"},{\"attributes\":{},\"id\":\"14810\",\"type\":\"PanTool\"},{\"attributes\":{\"data_source\":{\"id\":\"14836\",\"type\":\"ColumnDataSource\"},\"glyph\":{\"id\":\"14837\",\"type\":\"Circle\"},\"hover_glyph\":null,\"muted_glyph\":null,\"nonselection_glyph\":{\"id\":\"14838\",\"type\":\"Circle\"},\"selection_glyph\":null,\"view\":{\"id\":\"14840\",\"type\":\"CDSView\"}},\"id\":\"14839\",\"type\":\"GlyphRenderer\"},{\"attributes\":{},\"id\":\"15376\",\"type\":\"UnionRenderers\"},{\"attributes\":{},\"id\":\"14811\",\"type\":\"WheelZoomTool\"},{\"attributes\":{\"source\":{\"id\":\"14836\",\"type\":\"ColumnDataSource\"}},\"id\":\"14840\",\"type\":\"CDSView\"},{\"attributes\":{},\"id\":\"15377\",\"type\":\"Selection\"},{\"attributes\":{\"overlay\":{\"id\":\"14833\",\"type\":\"BoxAnnotation\"}},\"id\":\"14812\",\"type\":\"BoxZoomTool\"},{\"attributes\":{\"callback\":null,\"data\":{\"x\":[\"2000\",\"2001\",\"2002\",\"2003\",\"2004\",\"2005\",\"2006\",\"2007\",\"2008\",\"2009\",\"2010\",\"2011\",\"2012\",\"2013\",\"2014\",\"2015\",\"2016\",\"2017\"],\"y\":[70.53617342079441,70.98736853175153,71.93803161887901,72.88856091575647,73.83899935125105,74.79174508474752,75.7402919385478,76.68928352401974,77.63732473716367,78.57026473333019,79.50520264937938,80.44196190784398,81.37844584739321,82.31320813991483,83.24970749545021,84.18023015230632,85.0958832055751,86.00729014906636]},\"selected\":{\"id\":\"15377\",\"type\":\"Selection\"},\"selection_policy\":{\"id\":\"15376\",\"type\":\"UnionRenderers\"}},\"id\":\"14841\",\"type\":\"ColumnDataSource\"},{\"attributes\":{},\"id\":\"15378\",\"type\":\"UnionRenderers\"},{\"attributes\":{},\"id\":\"14813\",\"type\":\"SaveTool\"},{\"attributes\":{\"line_color\":\"#5430F1\",\"x\":{\"field\":\"x\"},\"y\":{\"field\":\"y\"}},\"id\":\"14842\",\"type\":\"Line\"},{\"attributes\":{\"callback\":null,\"tooltips\":\"                \\n        <div style=padding=5px>Year:@x</div>\\n        <div style=padding=5px>Value:@y</div>        \\n        \"},\"id\":\"14862\",\"type\":\"HoverTool\"},{\"attributes\":{},\"id\":\"15379\",\"type\":\"Selection\"},{\"attributes\":{\"text\":\"People using at least basic drinking water services, rural (% of rural population) weighted against Rural population\"},\"id\":\"14790\",\"type\":\"Title\"},{\"attributes\":{},\"id\":\"14814\",\"type\":\"ResetTool\"},{\"attributes\":{\"line_alpha\":0.1,\"line_color\":\"#1f77b4\",\"x\":{\"field\":\"x\"},\"y\":{\"field\":\"y\"}},\"id\":\"14843\",\"type\":\"Line\"},{\"attributes\":{\"callback\":null},\"id\":\"14792\",\"type\":\"DataRange1d\"},{\"attributes\":{},\"id\":\"14815\",\"type\":\"HelpTool\"},{\"attributes\":{\"data_source\":{\"id\":\"14841\",\"type\":\"ColumnDataSource\"},\"glyph\":{\"id\":\"14842\",\"type\":\"Line\"},\"hover_glyph\":null,\"muted_glyph\":null,\"nonselection_glyph\":{\"id\":\"14843\",\"type\":\"Line\"},\"selection_glyph\":null,\"view\":{\"id\":\"14845\",\"type\":\"CDSView\"}},\"id\":\"14844\",\"type\":\"GlyphRenderer\"},{\"attributes\":{\"callback\":null},\"id\":\"14794\",\"type\":\"DataRange1d\"},{\"attributes\":{\"active_drag\":\"auto\",\"active_inspect\":\"auto\",\"active_multi\":null,\"active_scroll\":\"auto\",\"active_tap\":\"auto\",\"tools\":[{\"id\":\"14810\",\"type\":\"PanTool\"},{\"id\":\"14811\",\"type\":\"WheelZoomTool\"},{\"id\":\"14812\",\"type\":\"BoxZoomTool\"},{\"id\":\"14813\",\"type\":\"SaveTool\"},{\"id\":\"14814\",\"type\":\"ResetTool\"},{\"id\":\"14815\",\"type\":\"HelpTool\"},{\"id\":\"14862\",\"type\":\"HoverTool\"}]},\"id\":\"14816\",\"type\":\"Toolbar\"},{\"attributes\":{\"source\":{\"id\":\"14841\",\"type\":\"ColumnDataSource\"}},\"id\":\"14845\",\"type\":\"CDSView\"},{\"attributes\":{},\"id\":\"14796\",\"type\":\"LinearScale\"}],\"root_ids\":[\"14789\"]},\"title\":\"Bokeh Application\",\"version\":\"1.3.4\"}};\n",
       "  var render_items = [{\"docid\":\"61d5245e-7d53-4f42-9244-dfdf7817998b\",\"roots\":{\"14789\":\"1ded15a2-9a35-47c5-b1c9-e3f93036c96e\"}}];\n",
       "  root.Bokeh.embed.embed_items_notebook(docs_json, render_items);\n",
       "\n",
       "  }\n",
       "  if (root.Bokeh !== undefined) {\n",
       "    embed_document(root);\n",
       "  } else {\n",
       "    var attempts = 0;\n",
       "    var timer = setInterval(function(root) {\n",
       "      if (root.Bokeh !== undefined) {\n",
       "        embed_document(root);\n",
       "        clearInterval(timer);\n",
       "      }\n",
       "      attempts++;\n",
       "      if (attempts > 100) {\n",
       "        console.log(\"Bokeh: ERROR: Unable to run BokehJS code because BokehJS library is missing\");\n",
       "        clearInterval(timer);\n",
       "      }\n",
       "    }, 10, root)\n",
       "  }\n",
       "})(window);"
      ],
      "application/vnd.bokehjs_exec.v0+json": ""
     },
     "metadata": {
      "application/vnd.bokehjs_exec.v0+json": {
       "id": "14789"
      }
     },
     "output_type": "display_data"
    }
   ],
   "source": [
    "# Basic water access rural\n",
    "years = list(map(str, list(range(2000,2018))))\n",
    "result = show_weighted_average(years, 'SH.H2O.BASW.RU.ZS', 'SP.RUR.TOTL', ['LDCs', 'Developing excluding LDCs'])"
   ]
  },
  {
   "cell_type": "markdown",
   "metadata": {
    "slideshow": {
     "slide_type": "slide"
    }
   },
   "source": [
    "# Gender equality and the empowerment of women"
   ]
  },
  {
   "cell_type": "code",
   "execution_count": 36,
   "metadata": {
    "ExecuteTime": {
     "end_time": "2019-10-25T14:26:06.754335Z",
     "start_time": "2019-10-25T14:26:06.030180Z"
    },
    "slideshow": {
     "slide_type": "slide"
    }
   },
   "outputs": [
    {
     "data": {
      "text/html": [
       "\n",
       "\n",
       "\n",
       "\n",
       "\n",
       "\n",
       "  <div class=\"bk-root\" id=\"7cb59741-ac11-494b-8942-77cc3409a264\" data-root-id=\"15465\"></div>\n"
      ]
     },
     "metadata": {},
     "output_type": "display_data"
    },
    {
     "data": {
      "application/javascript": [
       "(function(root) {\n",
       "  function embed_document(root) {\n",
       "    \n",
       "  var docs_json = {\"a30dc80d-f271-4cfe-9e23-419abef0bfe0\":{\"roots\":{\"references\":[{\"attributes\":{\"below\":[{\"id\":\"15476\",\"type\":\"LinearAxis\"}],\"center\":[{\"id\":\"15480\",\"type\":\"Grid\"},{\"id\":\"15485\",\"type\":\"Grid\"},{\"id\":\"15510\",\"type\":\"Legend\"}],\"left\":[{\"id\":\"15481\",\"type\":\"LinearAxis\"}],\"plot_height\":400,\"plot_width\":800,\"renderers\":[{\"id\":\"15502\",\"type\":\"GlyphRenderer\"},{\"id\":\"15515\",\"type\":\"GlyphRenderer\"},{\"id\":\"15520\",\"type\":\"GlyphRenderer\"},{\"id\":\"15536\",\"type\":\"GlyphRenderer\"}],\"title\":{\"id\":\"15466\",\"type\":\"Title\"},\"toolbar\":{\"id\":\"15492\",\"type\":\"Toolbar\"},\"x_range\":{\"id\":\"15468\",\"type\":\"DataRange1d\"},\"x_scale\":{\"id\":\"15472\",\"type\":\"LinearScale\"},\"y_range\":{\"id\":\"15470\",\"type\":\"DataRange1d\"},\"y_scale\":{\"id\":\"15474\",\"type\":\"LinearScale\"}},\"id\":\"15465\",\"subtype\":\"Figure\",\"type\":\"Plot\"},{\"attributes\":{},\"id\":\"15490\",\"type\":\"ResetTool\"},{\"attributes\":{\"dimension\":1,\"grid_line_alpha\":0.5,\"ticker\":{\"id\":\"15482\",\"type\":\"BasicTicker\"}},\"id\":\"15485\",\"type\":\"Grid\"},{\"attributes\":{\"fill_alpha\":{\"value\":0.1},\"fill_color\":{\"value\":\"#1f77b4\"},\"line_alpha\":{\"value\":0.1},\"line_color\":{\"value\":\"#1f77b4\"},\"line_width\":{\"value\":3},\"x\":{\"field\":\"x\"},\"y\":{\"field\":\"y\"}},\"id\":\"15514\",\"type\":\"Circle\"},{\"attributes\":{\"data_source\":{\"id\":\"15499\",\"type\":\"ColumnDataSource\"},\"glyph\":{\"id\":\"15500\",\"type\":\"Line\"},\"hover_glyph\":null,\"muted_glyph\":null,\"nonselection_glyph\":{\"id\":\"15501\",\"type\":\"Line\"},\"selection_glyph\":null,\"view\":{\"id\":\"15503\",\"type\":\"CDSView\"}},\"id\":\"15502\",\"type\":\"GlyphRenderer\"},{\"attributes\":{\"callback\":null,\"data\":{\"x\":[\"2004\",\"2007\",\"2009\",\"2014\",\"2016\"],\"y\":[55.95647488898381,49.148601616188614,50.86221893261661,50.63622946017881,53.343214850211766]},\"selected\":{\"id\":\"15530\",\"type\":\"Selection\"},\"selection_policy\":{\"id\":\"15529\",\"type\":\"UnionRenderers\"}},\"id\":\"15512\",\"type\":\"ColumnDataSource\"},{\"attributes\":{\"callback\":null,\"data\":{\"x\":[\"2004\",\"2007\",\"2009\",\"2014\",\"2016\"],\"y\":[55.95647488898381,49.148601616188614,50.86221893261661,50.63622946017881,53.343214850211766]},\"selected\":{\"id\":\"15528\",\"type\":\"Selection\"},\"selection_policy\":{\"id\":\"15527\",\"type\":\"UnionRenderers\"}},\"id\":\"15499\",\"type\":\"ColumnDataSource\"},{\"attributes\":{\"data_source\":{\"id\":\"15512\",\"type\":\"ColumnDataSource\"},\"glyph\":{\"id\":\"15513\",\"type\":\"Circle\"},\"hover_glyph\":null,\"muted_glyph\":null,\"nonselection_glyph\":{\"id\":\"15514\",\"type\":\"Circle\"},\"selection_glyph\":null,\"view\":{\"id\":\"15516\",\"type\":\"CDSView\"}},\"id\":\"15515\",\"type\":\"GlyphRenderer\"},{\"attributes\":{\"source\":{\"id\":\"15533\",\"type\":\"ColumnDataSource\"}},\"id\":\"15537\",\"type\":\"CDSView\"},{\"attributes\":{\"label\":{\"value\":\"LDCs\"},\"renderers\":[{\"id\":\"15502\",\"type\":\"GlyphRenderer\"}]},\"id\":\"15511\",\"type\":\"LegendItem\"},{\"attributes\":{\"callback\":null,\"tooltips\":\"                \\n        <div style=padding=5px>Year:@x</div>\\n        <div style=padding=5px>Value:@y</div>        \\n        \"},\"id\":\"15538\",\"type\":\"HoverTool\"},{\"attributes\":{\"label\":{\"value\":\"Developing excluding LDCs\"},\"renderers\":[{\"id\":\"15520\",\"type\":\"GlyphRenderer\"}]},\"id\":\"15532\",\"type\":\"LegendItem\"},{\"attributes\":{\"active_drag\":\"auto\",\"active_inspect\":\"auto\",\"active_multi\":null,\"active_scroll\":\"auto\",\"active_tap\":\"auto\",\"tools\":[{\"id\":\"15486\",\"type\":\"PanTool\"},{\"id\":\"15487\",\"type\":\"WheelZoomTool\"},{\"id\":\"15488\",\"type\":\"BoxZoomTool\"},{\"id\":\"15489\",\"type\":\"SaveTool\"},{\"id\":\"15490\",\"type\":\"ResetTool\"},{\"id\":\"15491\",\"type\":\"HelpTool\"},{\"id\":\"15538\",\"type\":\"HoverTool\"}]},\"id\":\"15492\",\"type\":\"Toolbar\"},{\"attributes\":{},\"id\":\"16069\",\"type\":\"Selection\"},{\"attributes\":{\"overlay\":{\"id\":\"15509\",\"type\":\"BoxAnnotation\"}},\"id\":\"15488\",\"type\":\"BoxZoomTool\"},{\"attributes\":{\"grid_line_color\":null,\"ticker\":{\"id\":\"15477\",\"type\":\"BasicTicker\"}},\"id\":\"15480\",\"type\":\"Grid\"},{\"attributes\":{},\"id\":\"15505\",\"type\":\"BasicTickFormatter\"},{\"attributes\":{},\"id\":\"15507\",\"type\":\"BasicTickFormatter\"},{\"attributes\":{},\"id\":\"15530\",\"type\":\"Selection\"},{\"attributes\":{\"source\":{\"id\":\"15517\",\"type\":\"ColumnDataSource\"}},\"id\":\"15521\",\"type\":\"CDSView\"},{\"attributes\":{\"callback\":null},\"id\":\"15468\",\"type\":\"DataRange1d\"},{\"attributes\":{\"fill_color\":{\"value\":\"#5430F1\"},\"line_color\":{\"value\":\"#5430F1\"},\"line_width\":{\"value\":3},\"x\":{\"field\":\"x\"},\"y\":{\"field\":\"y\"}},\"id\":\"15534\",\"type\":\"Circle\"},{\"attributes\":{},\"id\":\"15482\",\"type\":\"BasicTicker\"},{\"attributes\":{\"line_alpha\":0.1,\"line_color\":\"#1f77b4\",\"x\":{\"field\":\"x\"},\"y\":{\"field\":\"y\"}},\"id\":\"15519\",\"type\":\"Line\"},{\"attributes\":{},\"id\":\"15477\",\"type\":\"BasicTicker\"},{\"attributes\":{\"axis_label\":\"SH.FPL.SATM.ZS\",\"formatter\":{\"id\":\"15505\",\"type\":\"BasicTickFormatter\"},\"ticker\":{\"id\":\"15482\",\"type\":\"BasicTicker\"}},\"id\":\"15481\",\"type\":\"LinearAxis\"},{\"attributes\":{},\"id\":\"15528\",\"type\":\"Selection\"},{\"attributes\":{},\"id\":\"16066\",\"type\":\"UnionRenderers\"},{\"attributes\":{},\"id\":\"15472\",\"type\":\"LinearScale\"},{\"attributes\":{},\"id\":\"16068\",\"type\":\"UnionRenderers\"},{\"attributes\":{},\"id\":\"16067\",\"type\":\"Selection\"},{\"attributes\":{\"text\":\"Demand for family planning satisfied by modern methods (% of married women with demand for family planning) weighted against Population, female\"},\"id\":\"15466\",\"type\":\"Title\"},{\"attributes\":{\"fill_color\":{\"value\":\"#FA1857\"},\"line_color\":{\"value\":\"#FA1857\"},\"line_width\":{\"value\":3},\"x\":{\"field\":\"x\"},\"y\":{\"field\":\"y\"}},\"id\":\"15513\",\"type\":\"Circle\"},{\"attributes\":{\"axis_label\":\"Years\",\"formatter\":{\"id\":\"15507\",\"type\":\"BasicTickFormatter\"},\"ticker\":{\"id\":\"15477\",\"type\":\"BasicTicker\"}},\"id\":\"15476\",\"type\":\"LinearAxis\"},{\"attributes\":{\"source\":{\"id\":\"15499\",\"type\":\"ColumnDataSource\"}},\"id\":\"15503\",\"type\":\"CDSView\"},{\"attributes\":{\"fill_alpha\":{\"value\":0.1},\"fill_color\":{\"value\":\"#1f77b4\"},\"line_alpha\":{\"value\":0.1},\"line_color\":{\"value\":\"#1f77b4\"},\"line_width\":{\"value\":3},\"x\":{\"field\":\"x\"},\"y\":{\"field\":\"y\"}},\"id\":\"15535\",\"type\":\"Circle\"},{\"attributes\":{\"items\":[{\"id\":\"15511\",\"type\":\"LegendItem\"},{\"id\":\"15532\",\"type\":\"LegendItem\"}],\"location\":\"bottom_left\"},\"id\":\"15510\",\"type\":\"Legend\"},{\"attributes\":{\"callback\":null},\"id\":\"15470\",\"type\":\"DataRange1d\"},{\"attributes\":{},\"id\":\"15529\",\"type\":\"UnionRenderers\"},{\"attributes\":{\"data_source\":{\"id\":\"15533\",\"type\":\"ColumnDataSource\"},\"glyph\":{\"id\":\"15534\",\"type\":\"Circle\"},\"hover_glyph\":null,\"muted_glyph\":null,\"nonselection_glyph\":{\"id\":\"15535\",\"type\":\"Circle\"},\"selection_glyph\":null,\"view\":{\"id\":\"15537\",\"type\":\"CDSView\"}},\"id\":\"15536\",\"type\":\"GlyphRenderer\"},{\"attributes\":{},\"id\":\"15487\",\"type\":\"WheelZoomTool\"},{\"attributes\":{},\"id\":\"15527\",\"type\":\"UnionRenderers\"},{\"attributes\":{\"bottom_units\":\"screen\",\"fill_alpha\":{\"value\":0.5},\"fill_color\":{\"value\":\"lightgrey\"},\"left_units\":\"screen\",\"level\":\"overlay\",\"line_alpha\":{\"value\":1.0},\"line_color\":{\"value\":\"black\"},\"line_dash\":[4,4],\"line_width\":{\"value\":2},\"render_mode\":\"css\",\"right_units\":\"screen\",\"top_units\":\"screen\"},\"id\":\"15509\",\"type\":\"BoxAnnotation\"},{\"attributes\":{\"callback\":null,\"data\":{\"x\":[\"2004\",\"2007\",\"2009\",\"2014\",\"2016\"],\"y\":[61.86680129076366,69.97282422378196,71.47856926329575,60.75834802241367,69.21737011372109]},\"selected\":{\"id\":\"16069\",\"type\":\"Selection\"},\"selection_policy\":{\"id\":\"16068\",\"type\":\"UnionRenderers\"}},\"id\":\"15533\",\"type\":\"ColumnDataSource\"},{\"attributes\":{\"source\":{\"id\":\"15512\",\"type\":\"ColumnDataSource\"}},\"id\":\"15516\",\"type\":\"CDSView\"},{\"attributes\":{},\"id\":\"15486\",\"type\":\"PanTool\"},{\"attributes\":{\"line_color\":\"#5430F1\",\"x\":{\"field\":\"x\"},\"y\":{\"field\":\"y\"}},\"id\":\"15518\",\"type\":\"Line\"},{\"attributes\":{\"data_source\":{\"id\":\"15517\",\"type\":\"ColumnDataSource\"},\"glyph\":{\"id\":\"15518\",\"type\":\"Line\"},\"hover_glyph\":null,\"muted_glyph\":null,\"nonselection_glyph\":{\"id\":\"15519\",\"type\":\"Line\"},\"selection_glyph\":null,\"view\":{\"id\":\"15521\",\"type\":\"CDSView\"}},\"id\":\"15520\",\"type\":\"GlyphRenderer\"},{\"attributes\":{},\"id\":\"15491\",\"type\":\"HelpTool\"},{\"attributes\":{\"line_alpha\":0.1,\"line_color\":\"#1f77b4\",\"x\":{\"field\":\"x\"},\"y\":{\"field\":\"y\"}},\"id\":\"15501\",\"type\":\"Line\"},{\"attributes\":{},\"id\":\"15474\",\"type\":\"LinearScale\"},{\"attributes\":{\"line_color\":\"#FA1857\",\"x\":{\"field\":\"x\"},\"y\":{\"field\":\"y\"}},\"id\":\"15500\",\"type\":\"Line\"},{\"attributes\":{},\"id\":\"15489\",\"type\":\"SaveTool\"},{\"attributes\":{\"callback\":null,\"data\":{\"x\":[\"2004\",\"2007\",\"2009\",\"2014\",\"2016\"],\"y\":[61.86680129076366,69.97282422378196,71.47856926329575,60.75834802241367,69.21737011372109]},\"selected\":{\"id\":\"16067\",\"type\":\"Selection\"},\"selection_policy\":{\"id\":\"16066\",\"type\":\"UnionRenderers\"}},\"id\":\"15517\",\"type\":\"ColumnDataSource\"}],\"root_ids\":[\"15465\"]},\"title\":\"Bokeh Application\",\"version\":\"1.3.4\"}};\n",
       "  var render_items = [{\"docid\":\"a30dc80d-f271-4cfe-9e23-419abef0bfe0\",\"roots\":{\"15465\":\"7cb59741-ac11-494b-8942-77cc3409a264\"}}];\n",
       "  root.Bokeh.embed.embed_items_notebook(docs_json, render_items);\n",
       "\n",
       "  }\n",
       "  if (root.Bokeh !== undefined) {\n",
       "    embed_document(root);\n",
       "  } else {\n",
       "    var attempts = 0;\n",
       "    var timer = setInterval(function(root) {\n",
       "      if (root.Bokeh !== undefined) {\n",
       "        embed_document(root);\n",
       "        clearInterval(timer);\n",
       "      }\n",
       "      attempts++;\n",
       "      if (attempts > 100) {\n",
       "        console.log(\"Bokeh: ERROR: Unable to run BokehJS code because BokehJS library is missing\");\n",
       "        clearInterval(timer);\n",
       "      }\n",
       "    }, 10, root)\n",
       "  }\n",
       "})(window);"
      ],
      "application/vnd.bokehjs_exec.v0+json": ""
     },
     "metadata": {
      "application/vnd.bokehjs_exec.v0+json": {
       "id": "15465"
      }
     },
     "output_type": "display_data"
    }
   ],
   "source": [
    "# Basic water access rural\n",
    "years = ['2004', '2007', '2009', '2014', '2016']\n",
    "result = show_weighted_average(years, 'SH.FPL.SATM.ZS', 'SP.POP.TOTL.FE.IN', \n",
    "                               ['LDCs', 'Developing excluding LDCs'])"
   ]
  },
  {
   "cell_type": "code",
   "execution_count": 37,
   "metadata": {
    "ExecuteTime": {
     "end_time": "2019-10-25T14:26:07.694750Z",
     "start_time": "2019-10-25T14:26:06.760738Z"
    },
    "slideshow": {
     "slide_type": "slide"
    }
   },
   "outputs": [
    {
     "data": {
      "text/html": [
       "\n",
       "\n",
       "\n",
       "\n",
       "\n",
       "\n",
       "  <div class=\"bk-root\" id=\"947c001f-7c3c-4c92-b8e2-a514bf50eeb4\" data-root-id=\"16155\"></div>\n"
      ]
     },
     "metadata": {},
     "output_type": "display_data"
    },
    {
     "data": {
      "application/javascript": [
       "(function(root) {\n",
       "  function embed_document(root) {\n",
       "    \n",
       "  var docs_json = {\"68837293-8219-48fc-a694-8f681b30c2d1\":{\"roots\":{\"references\":[{\"attributes\":{\"below\":[{\"id\":\"16166\",\"type\":\"LinearAxis\"}],\"center\":[{\"id\":\"16170\",\"type\":\"Grid\"},{\"id\":\"16175\",\"type\":\"Grid\"},{\"id\":\"16200\",\"type\":\"Legend\"}],\"left\":[{\"id\":\"16171\",\"type\":\"LinearAxis\"}],\"plot_height\":400,\"plot_width\":800,\"renderers\":[{\"id\":\"16192\",\"type\":\"GlyphRenderer\"},{\"id\":\"16205\",\"type\":\"GlyphRenderer\"},{\"id\":\"16210\",\"type\":\"GlyphRenderer\"},{\"id\":\"16226\",\"type\":\"GlyphRenderer\"}],\"title\":{\"id\":\"16156\",\"type\":\"Title\"},\"toolbar\":{\"id\":\"16182\",\"type\":\"Toolbar\"},\"x_range\":{\"id\":\"16158\",\"type\":\"DataRange1d\"},\"x_scale\":{\"id\":\"16162\",\"type\":\"LinearScale\"},\"y_range\":{\"id\":\"16160\",\"type\":\"DataRange1d\"},\"y_scale\":{\"id\":\"16164\",\"type\":\"LinearScale\"}},\"id\":\"16155\",\"subtype\":\"Figure\",\"type\":\"Plot\"},{\"attributes\":{\"grid_line_color\":null,\"ticker\":{\"id\":\"16167\",\"type\":\"BasicTicker\"}},\"id\":\"16170\",\"type\":\"Grid\"},{\"attributes\":{\"source\":{\"id\":\"16223\",\"type\":\"ColumnDataSource\"}},\"id\":\"16227\",\"type\":\"CDSView\"},{\"attributes\":{},\"id\":\"16772\",\"type\":\"UnionRenderers\"},{\"attributes\":{\"callback\":null},\"id\":\"16160\",\"type\":\"DataRange1d\"},{\"attributes\":{\"fill_color\":{\"value\":\"#FA1857\"},\"line_color\":{\"value\":\"#FA1857\"},\"line_width\":{\"value\":3},\"x\":{\"field\":\"x\"},\"y\":{\"field\":\"y\"}},\"id\":\"16203\",\"type\":\"Circle\"},{\"attributes\":{},\"id\":\"16172\",\"type\":\"BasicTicker\"},{\"attributes\":{},\"id\":\"16162\",\"type\":\"LinearScale\"},{\"attributes\":{\"fill_color\":{\"value\":\"#5430F1\"},\"line_color\":{\"value\":\"#5430F1\"},\"line_width\":{\"value\":3},\"x\":{\"field\":\"x\"},\"y\":{\"field\":\"y\"}},\"id\":\"16224\",\"type\":\"Circle\"},{\"attributes\":{},\"id\":\"16219\",\"type\":\"UnionRenderers\"},{\"attributes\":{\"active_drag\":\"auto\",\"active_inspect\":\"auto\",\"active_multi\":null,\"active_scroll\":\"auto\",\"active_tap\":\"auto\",\"tools\":[{\"id\":\"16176\",\"type\":\"PanTool\"},{\"id\":\"16177\",\"type\":\"WheelZoomTool\"},{\"id\":\"16178\",\"type\":\"BoxZoomTool\"},{\"id\":\"16179\",\"type\":\"SaveTool\"},{\"id\":\"16180\",\"type\":\"ResetTool\"},{\"id\":\"16181\",\"type\":\"HelpTool\"},{\"id\":\"16228\",\"type\":\"HoverTool\"}]},\"id\":\"16182\",\"type\":\"Toolbar\"},{\"attributes\":{\"fill_alpha\":{\"value\":0.1},\"fill_color\":{\"value\":\"#1f77b4\"},\"line_alpha\":{\"value\":0.1},\"line_color\":{\"value\":\"#1f77b4\"},\"line_width\":{\"value\":3},\"x\":{\"field\":\"x\"},\"y\":{\"field\":\"y\"}},\"id\":\"16225\",\"type\":\"Circle\"},{\"attributes\":{},\"id\":\"16195\",\"type\":\"BasicTickFormatter\"},{\"attributes\":{\"data_source\":{\"id\":\"16223\",\"type\":\"ColumnDataSource\"},\"glyph\":{\"id\":\"16224\",\"type\":\"Circle\"},\"hover_glyph\":null,\"muted_glyph\":null,\"nonselection_glyph\":{\"id\":\"16225\",\"type\":\"Circle\"},\"selection_glyph\":null,\"view\":{\"id\":\"16227\",\"type\":\"CDSView\"}},\"id\":\"16226\",\"type\":\"GlyphRenderer\"},{\"attributes\":{\"source\":{\"id\":\"16189\",\"type\":\"ColumnDataSource\"}},\"id\":\"16193\",\"type\":\"CDSView\"},{\"attributes\":{\"source\":{\"id\":\"16202\",\"type\":\"ColumnDataSource\"}},\"id\":\"16206\",\"type\":\"CDSView\"},{\"attributes\":{},\"id\":\"16770\",\"type\":\"UnionRenderers\"},{\"attributes\":{\"bottom_units\":\"screen\",\"fill_alpha\":{\"value\":0.5},\"fill_color\":{\"value\":\"lightgrey\"},\"left_units\":\"screen\",\"level\":\"overlay\",\"line_alpha\":{\"value\":1.0},\"line_color\":{\"value\":\"black\"},\"line_dash\":[4,4],\"line_width\":{\"value\":2},\"render_mode\":\"css\",\"right_units\":\"screen\",\"top_units\":\"screen\"},\"id\":\"16199\",\"type\":\"BoxAnnotation\"},{\"attributes\":{\"text\":\"Adolescent fertility rate (births per 1,000 women ages 15-19) weighted against Population, female\"},\"id\":\"16156\",\"type\":\"Title\"},{\"attributes\":{},\"id\":\"16177\",\"type\":\"WheelZoomTool\"},{\"attributes\":{},\"id\":\"16217\",\"type\":\"UnionRenderers\"},{\"attributes\":{\"overlay\":{\"id\":\"16199\",\"type\":\"BoxAnnotation\"}},\"id\":\"16178\",\"type\":\"BoxZoomTool\"},{\"attributes\":{\"dimension\":1,\"grid_line_alpha\":0.5,\"ticker\":{\"id\":\"16172\",\"type\":\"BasicTicker\"}},\"id\":\"16175\",\"type\":\"Grid\"},{\"attributes\":{},\"id\":\"16176\",\"type\":\"PanTool\"},{\"attributes\":{\"label\":{\"value\":\"Developing excluding LDCs\"},\"renderers\":[{\"id\":\"16210\",\"type\":\"GlyphRenderer\"}]},\"id\":\"16222\",\"type\":\"LegendItem\"},{\"attributes\":{},\"id\":\"16220\",\"type\":\"Selection\"},{\"attributes\":{},\"id\":\"16181\",\"type\":\"HelpTool\"},{\"attributes\":{},\"id\":\"16167\",\"type\":\"BasicTicker\"},{\"attributes\":{},\"id\":\"16179\",\"type\":\"SaveTool\"},{\"attributes\":{},\"id\":\"16218\",\"type\":\"Selection\"},{\"attributes\":{},\"id\":\"16180\",\"type\":\"ResetTool\"},{\"attributes\":{\"axis_label\":\"SP.ADO.TFRT\",\"formatter\":{\"id\":\"16195\",\"type\":\"BasicTickFormatter\"},\"ticker\":{\"id\":\"16172\",\"type\":\"BasicTicker\"}},\"id\":\"16171\",\"type\":\"LinearAxis\"},{\"attributes\":{\"line_color\":\"#5430F1\",\"x\":{\"field\":\"x\"},\"y\":{\"field\":\"y\"}},\"id\":\"16208\",\"type\":\"Line\"},{\"attributes\":{\"source\":{\"id\":\"16207\",\"type\":\"ColumnDataSource\"}},\"id\":\"16211\",\"type\":\"CDSView\"},{\"attributes\":{},\"id\":\"16771\",\"type\":\"Selection\"},{\"attributes\":{\"callback\":null,\"data\":{\"x\":[\"2000\",\"2003\",\"2006\",\"2009\",\"2014\",\"2017\"],\"y\":[119.30680955251184,114.98644401832998,110.35720256269572,105.31697784440021,96.90208117559042,91.981959778557]},\"selected\":{\"id\":\"16220\",\"type\":\"Selection\"},\"selection_policy\":{\"id\":\"16219\",\"type\":\"UnionRenderers\"}},\"id\":\"16202\",\"type\":\"ColumnDataSource\"},{\"attributes\":{\"line_color\":\"#FA1857\",\"x\":{\"field\":\"x\"},\"y\":{\"field\":\"y\"}},\"id\":\"16190\",\"type\":\"Line\"},{\"attributes\":{\"callback\":null,\"data\":{\"x\":[\"2000\",\"2003\",\"2006\",\"2009\",\"2014\",\"2017\"],\"y\":[48.60949425276021,44.793271674532996,41.346064517381414,38.23315248769004,33.08506789122465,29.748702993171424]},\"selected\":{\"id\":\"16773\",\"type\":\"Selection\"},\"selection_policy\":{\"id\":\"16772\",\"type\":\"UnionRenderers\"}},\"id\":\"16223\",\"type\":\"ColumnDataSource\"},{\"attributes\":{},\"id\":\"16773\",\"type\":\"Selection\"},{\"attributes\":{\"line_alpha\":0.1,\"line_color\":\"#1f77b4\",\"x\":{\"field\":\"x\"},\"y\":{\"field\":\"y\"}},\"id\":\"16209\",\"type\":\"Line\"},{\"attributes\":{},\"id\":\"16197\",\"type\":\"BasicTickFormatter\"},{\"attributes\":{\"callback\":null,\"tooltips\":\"                \\n        <div style=padding=5px>Year:@x</div>\\n        <div style=padding=5px>Value:@y</div>        \\n        \"},\"id\":\"16228\",\"type\":\"HoverTool\"},{\"attributes\":{\"callback\":null},\"id\":\"16158\",\"type\":\"DataRange1d\"},{\"attributes\":{\"line_alpha\":0.1,\"line_color\":\"#1f77b4\",\"x\":{\"field\":\"x\"},\"y\":{\"field\":\"y\"}},\"id\":\"16191\",\"type\":\"Line\"},{\"attributes\":{\"data_source\":{\"id\":\"16207\",\"type\":\"ColumnDataSource\"},\"glyph\":{\"id\":\"16208\",\"type\":\"Line\"},\"hover_glyph\":null,\"muted_glyph\":null,\"nonselection_glyph\":{\"id\":\"16209\",\"type\":\"Line\"},\"selection_glyph\":null,\"view\":{\"id\":\"16211\",\"type\":\"CDSView\"}},\"id\":\"16210\",\"type\":\"GlyphRenderer\"},{\"attributes\":{},\"id\":\"16164\",\"type\":\"LinearScale\"},{\"attributes\":{\"callback\":null,\"data\":{\"x\":[\"2000\",\"2003\",\"2006\",\"2009\",\"2014\",\"2017\"],\"y\":[48.60949425276021,44.793271674532996,41.346064517381414,38.23315248769004,33.08506789122465,29.748702993171424]},\"selected\":{\"id\":\"16771\",\"type\":\"Selection\"},\"selection_policy\":{\"id\":\"16770\",\"type\":\"UnionRenderers\"}},\"id\":\"16207\",\"type\":\"ColumnDataSource\"},{\"attributes\":{\"callback\":null,\"data\":{\"x\":[\"2000\",\"2003\",\"2006\",\"2009\",\"2014\",\"2017\"],\"y\":[119.30680955251184,114.98644401832998,110.35720256269572,105.31697784440021,96.90208117559042,91.981959778557]},\"selected\":{\"id\":\"16218\",\"type\":\"Selection\"},\"selection_policy\":{\"id\":\"16217\",\"type\":\"UnionRenderers\"}},\"id\":\"16189\",\"type\":\"ColumnDataSource\"},{\"attributes\":{\"label\":{\"value\":\"LDCs\"},\"renderers\":[{\"id\":\"16192\",\"type\":\"GlyphRenderer\"}]},\"id\":\"16201\",\"type\":\"LegendItem\"},{\"attributes\":{\"items\":[{\"id\":\"16201\",\"type\":\"LegendItem\"},{\"id\":\"16222\",\"type\":\"LegendItem\"}],\"location\":\"bottom_left\"},\"id\":\"16200\",\"type\":\"Legend\"},{\"attributes\":{\"axis_label\":\"Years\",\"formatter\":{\"id\":\"16197\",\"type\":\"BasicTickFormatter\"},\"ticker\":{\"id\":\"16167\",\"type\":\"BasicTicker\"}},\"id\":\"16166\",\"type\":\"LinearAxis\"},{\"attributes\":{\"data_source\":{\"id\":\"16202\",\"type\":\"ColumnDataSource\"},\"glyph\":{\"id\":\"16203\",\"type\":\"Circle\"},\"hover_glyph\":null,\"muted_glyph\":null,\"nonselection_glyph\":{\"id\":\"16204\",\"type\":\"Circle\"},\"selection_glyph\":null,\"view\":{\"id\":\"16206\",\"type\":\"CDSView\"}},\"id\":\"16205\",\"type\":\"GlyphRenderer\"},{\"attributes\":{\"data_source\":{\"id\":\"16189\",\"type\":\"ColumnDataSource\"},\"glyph\":{\"id\":\"16190\",\"type\":\"Line\"},\"hover_glyph\":null,\"muted_glyph\":null,\"nonselection_glyph\":{\"id\":\"16191\",\"type\":\"Line\"},\"selection_glyph\":null,\"view\":{\"id\":\"16193\",\"type\":\"CDSView\"}},\"id\":\"16192\",\"type\":\"GlyphRenderer\"},{\"attributes\":{\"fill_alpha\":{\"value\":0.1},\"fill_color\":{\"value\":\"#1f77b4\"},\"line_alpha\":{\"value\":0.1},\"line_color\":{\"value\":\"#1f77b4\"},\"line_width\":{\"value\":3},\"x\":{\"field\":\"x\"},\"y\":{\"field\":\"y\"}},\"id\":\"16204\",\"type\":\"Circle\"}],\"root_ids\":[\"16155\"]},\"title\":\"Bokeh Application\",\"version\":\"1.3.4\"}};\n",
       "  var render_items = [{\"docid\":\"68837293-8219-48fc-a694-8f681b30c2d1\",\"roots\":{\"16155\":\"947c001f-7c3c-4c92-b8e2-a514bf50eeb4\"}}];\n",
       "  root.Bokeh.embed.embed_items_notebook(docs_json, render_items);\n",
       "\n",
       "  }\n",
       "  if (root.Bokeh !== undefined) {\n",
       "    embed_document(root);\n",
       "  } else {\n",
       "    var attempts = 0;\n",
       "    var timer = setInterval(function(root) {\n",
       "      if (root.Bokeh !== undefined) {\n",
       "        embed_document(root);\n",
       "        clearInterval(timer);\n",
       "      }\n",
       "      attempts++;\n",
       "      if (attempts > 100) {\n",
       "        console.log(\"Bokeh: ERROR: Unable to run BokehJS code because BokehJS library is missing\");\n",
       "        clearInterval(timer);\n",
       "      }\n",
       "    }, 10, root)\n",
       "  }\n",
       "})(window);"
      ],
      "application/vnd.bokehjs_exec.v0+json": ""
     },
     "metadata": {
      "application/vnd.bokehjs_exec.v0+json": {
       "id": "16155"
      }
     },
     "output_type": "display_data"
    }
   ],
   "source": [
    "# Basic water access rural\n",
    "years = ['2000', '2003', '2006', '2009', '2014', '2017']\n",
    "result = show_weighted_average(years, 'SP.ADO.TFRT', 'SP.POP.TOTL.FE.IN', \n",
    "                               ['LDCs', 'Developing excluding LDCs'])"
   ]
  },
  {
   "cell_type": "markdown",
   "metadata": {
    "slideshow": {
     "slide_type": "slide"
    }
   },
   "source": [
    "# Social protection"
   ]
  },
  {
   "cell_type": "code",
   "execution_count": 38,
   "metadata": {
    "ExecuteTime": {
     "end_time": "2019-10-25T14:26:12.858520Z",
     "start_time": "2019-10-25T14:26:07.697975Z"
    },
    "slideshow": {
     "slide_type": "slide"
    }
   },
   "outputs": [
    {
     "data": {
      "text/html": [
       "\n",
       "\n",
       "\n",
       "\n",
       "\n",
       "\n",
       "  <div class=\"bk-root\" id=\"cd3413b5-e96f-46da-bb7f-65654d8e03e8\" data-root-id=\"16859\"></div>\n"
      ]
     },
     "metadata": {},
     "output_type": "display_data"
    },
    {
     "data": {
      "application/javascript": [
       "(function(root) {\n",
       "  function embed_document(root) {\n",
       "    \n",
       "  var docs_json = {\"add069f9-258f-4ac5-ba6d-84c31607379c\":{\"roots\":{\"references\":[{\"attributes\":{\"below\":[{\"id\":\"16870\",\"type\":\"LinearAxis\"}],\"center\":[{\"id\":\"16874\",\"type\":\"Grid\"},{\"id\":\"16879\",\"type\":\"Grid\"},{\"id\":\"16904\",\"type\":\"Legend\"}],\"left\":[{\"id\":\"16875\",\"type\":\"LinearAxis\"}],\"plot_height\":400,\"plot_width\":800,\"renderers\":[{\"id\":\"16896\",\"type\":\"GlyphRenderer\"},{\"id\":\"16909\",\"type\":\"GlyphRenderer\"},{\"id\":\"16914\",\"type\":\"GlyphRenderer\"},{\"id\":\"16930\",\"type\":\"GlyphRenderer\"},{\"id\":\"16935\",\"type\":\"GlyphRenderer\"},{\"id\":\"16955\",\"type\":\"GlyphRenderer\"}],\"title\":{\"id\":\"16860\",\"type\":\"Title\"},\"toolbar\":{\"id\":\"16886\",\"type\":\"Toolbar\"},\"x_range\":{\"id\":\"16862\",\"type\":\"DataRange1d\"},\"x_scale\":{\"id\":\"16866\",\"type\":\"LinearScale\"},\"y_range\":{\"id\":\"16864\",\"type\":\"DataRange1d\"},\"y_scale\":{\"id\":\"16868\",\"type\":\"LinearScale\"}},\"id\":\"16859\",\"subtype\":\"Figure\",\"type\":\"Plot\"},{\"attributes\":{\"text\":\"Age dependency ratio (% of working-age population) weighted against Population ages 15-64, total\"},\"id\":\"16860\",\"type\":\"Title\"},{\"attributes\":{\"overlay\":{\"id\":\"16903\",\"type\":\"BoxAnnotation\"}},\"id\":\"16882\",\"type\":\"BoxZoomTool\"},{\"attributes\":{\"source\":{\"id\":\"16927\",\"type\":\"ColumnDataSource\"}},\"id\":\"16931\",\"type\":\"CDSView\"},{\"attributes\":{\"callback\":null},\"id\":\"16862\",\"type\":\"DataRange1d\"},{\"attributes\":{\"data_source\":{\"id\":\"16911\",\"type\":\"ColumnDataSource\"},\"glyph\":{\"id\":\"16912\",\"type\":\"Line\"},\"hover_glyph\":null,\"muted_glyph\":null,\"nonselection_glyph\":{\"id\":\"16913\",\"type\":\"Line\"},\"selection_glyph\":null,\"view\":{\"id\":\"16915\",\"type\":\"CDSView\"}},\"id\":\"16914\",\"type\":\"GlyphRenderer\"},{\"attributes\":{},\"id\":\"16923\",\"type\":\"UnionRenderers\"},{\"attributes\":{},\"id\":\"16946\",\"type\":\"UnionRenderers\"},{\"attributes\":{},\"id\":\"17517\",\"type\":\"UnionRenderers\"},{\"attributes\":{\"line_alpha\":0.1,\"line_color\":\"#1f77b4\",\"x\":{\"field\":\"x\"},\"y\":{\"field\":\"y\"}},\"id\":\"16913\",\"type\":\"Line\"},{\"attributes\":{\"fill_alpha\":{\"value\":0.1},\"fill_color\":{\"value\":\"#1f77b4\"},\"line_alpha\":{\"value\":0.1},\"line_color\":{\"value\":\"#1f77b4\"},\"line_width\":{\"value\":3},\"x\":{\"field\":\"x\"},\"y\":{\"field\":\"y\"}},\"id\":\"16929\",\"type\":\"Circle\"},{\"attributes\":{},\"id\":\"16948\",\"type\":\"UnionRenderers\"},{\"attributes\":{},\"id\":\"16880\",\"type\":\"PanTool\"},{\"attributes\":{\"callback\":null,\"data\":{\"x\":[\"2000\",\"2001\",\"2002\",\"2003\",\"2004\",\"2005\",\"2006\",\"2007\",\"2008\",\"2009\",\"2010\",\"2011\",\"2012\",\"2013\",\"2014\",\"2015\",\"2016\",\"2017\"],\"y\":[58.19409281505839,57.390788669127076,56.303566941143856,55.0777888204011,53.9356506864574,52.98456714221311,52.19880666201814,51.56524492183216,51.0555121914691,50.59642272787209,50.15377130229243,49.85370067049981,49.550004873173656,49.27463686577526,49.07562632818277,48.97354671460469,49.01384219923888,49.124886101246084]},\"selected\":{\"id\":\"16947\",\"type\":\"Selection\"},\"selection_policy\":{\"id\":\"16946\",\"type\":\"UnionRenderers\"}},\"id\":\"16911\",\"type\":\"ColumnDataSource\"},{\"attributes\":{\"callback\":null,\"data\":{\"x\":[\"2000\",\"2001\",\"2002\",\"2003\",\"2004\",\"2005\",\"2006\",\"2007\",\"2008\",\"2009\",\"2010\",\"2011\",\"2012\",\"2013\",\"2014\",\"2015\",\"2016\",\"2017\"],\"y\":[58.19409281505839,57.390788669127076,56.303566941143856,55.0777888204011,53.9356506864574,52.98456714221311,52.19880666201814,51.56524492183216,51.0555121914691,50.59642272787209,50.15377130229243,49.85370067049981,49.550004873173656,49.27463686577526,49.07562632818277,48.97354671460469,49.01384219923888,49.124886101246084]},\"selected\":{\"id\":\"16949\",\"type\":\"Selection\"},\"selection_policy\":{\"id\":\"16948\",\"type\":\"UnionRenderers\"}},\"id\":\"16927\",\"type\":\"ColumnDataSource\"},{\"attributes\":{\"line_alpha\":0.1,\"line_color\":\"#1f77b4\",\"x\":{\"field\":\"x\"},\"y\":{\"field\":\"y\"}},\"id\":\"16934\",\"type\":\"Line\"},{\"attributes\":{\"items\":[{\"id\":\"16905\",\"type\":\"LegendItem\"},{\"id\":\"16926\",\"type\":\"LegendItem\"},{\"id\":\"16951\",\"type\":\"LegendItem\"}],\"location\":\"bottom_left\"},\"id\":\"16904\",\"type\":\"Legend\"},{\"attributes\":{},\"id\":\"16868\",\"type\":\"LinearScale\"},{\"attributes\":{},\"id\":\"16924\",\"type\":\"Selection\"},{\"attributes\":{},\"id\":\"17520\",\"type\":\"Selection\"},{\"attributes\":{\"callback\":null},\"id\":\"16864\",\"type\":\"DataRange1d\"},{\"attributes\":{},\"id\":\"16921\",\"type\":\"UnionRenderers\"},{\"attributes\":{\"source\":{\"id\":\"16952\",\"type\":\"ColumnDataSource\"}},\"id\":\"16956\",\"type\":\"CDSView\"},{\"attributes\":{\"callback\":null,\"data\":{\"x\":[\"2000\",\"2001\",\"2002\",\"2003\",\"2004\",\"2005\",\"2006\",\"2007\",\"2008\",\"2009\",\"2010\",\"2011\",\"2012\",\"2013\",\"2014\",\"2015\",\"2016\",\"2017\"],\"y\":[85.17405524987429,84.79540428030643,84.3330650787975,83.81501444931978,83.25253104425855,82.64268122833322,82.3537804564918,81.97232450086702,81.50749277844447,80.9718701788124,80.37500826423279,79.81216621177352,79.1507140134569,78.41620239885593,77.62490340829318,76.79105196030804,76.0307949316323,75.22397002256074]},\"selected\":{\"id\":\"16924\",\"type\":\"Selection\"},\"selection_policy\":{\"id\":\"16923\",\"type\":\"UnionRenderers\"}},\"id\":\"16906\",\"type\":\"ColumnDataSource\"},{\"attributes\":{\"source\":{\"id\":\"16932\",\"type\":\"ColumnDataSource\"}},\"id\":\"16936\",\"type\":\"CDSView\"},{\"attributes\":{},\"id\":\"16881\",\"type\":\"WheelZoomTool\"},{\"attributes\":{\"line_color\":\"#5430F1\",\"x\":{\"field\":\"x\"},\"y\":{\"field\":\"y\"}},\"id\":\"16912\",\"type\":\"Line\"},{\"attributes\":{},\"id\":\"16885\",\"type\":\"HelpTool\"},{\"attributes\":{\"dimension\":1,\"grid_line_alpha\":0.5,\"ticker\":{\"id\":\"16876\",\"type\":\"BasicTicker\"}},\"id\":\"16879\",\"type\":\"Grid\"},{\"attributes\":{},\"id\":\"16949\",\"type\":\"Selection\"},{\"attributes\":{\"grid_line_color\":null,\"ticker\":{\"id\":\"16871\",\"type\":\"BasicTicker\"}},\"id\":\"16874\",\"type\":\"Grid\"},{\"attributes\":{\"fill_alpha\":{\"value\":0.1},\"fill_color\":{\"value\":\"#1f77b4\"},\"line_alpha\":{\"value\":0.1},\"line_color\":{\"value\":\"#1f77b4\"},\"line_width\":{\"value\":3},\"x\":{\"field\":\"x\"},\"y\":{\"field\":\"y\"}},\"id\":\"16908\",\"type\":\"Circle\"},{\"attributes\":{\"axis_label\":\"SP.POP.DPND\",\"formatter\":{\"id\":\"16899\",\"type\":\"BasicTickFormatter\"},\"ticker\":{\"id\":\"16876\",\"type\":\"BasicTicker\"}},\"id\":\"16875\",\"type\":\"LinearAxis\"},{\"attributes\":{\"label\":{\"value\":\"LDCs\"},\"renderers\":[{\"id\":\"16896\",\"type\":\"GlyphRenderer\"}]},\"id\":\"16905\",\"type\":\"LegendItem\"},{\"attributes\":{\"axis_label\":\"Years\",\"formatter\":{\"id\":\"16901\",\"type\":\"BasicTickFormatter\"},\"ticker\":{\"id\":\"16871\",\"type\":\"BasicTicker\"}},\"id\":\"16870\",\"type\":\"LinearAxis\"},{\"attributes\":{\"source\":{\"id\":\"16911\",\"type\":\"ColumnDataSource\"}},\"id\":\"16915\",\"type\":\"CDSView\"},{\"attributes\":{\"data_source\":{\"id\":\"16932\",\"type\":\"ColumnDataSource\"},\"glyph\":{\"id\":\"16933\",\"type\":\"Line\"},\"hover_glyph\":null,\"muted_glyph\":null,\"nonselection_glyph\":{\"id\":\"16934\",\"type\":\"Line\"},\"selection_glyph\":null,\"view\":{\"id\":\"16936\",\"type\":\"CDSView\"}},\"id\":\"16935\",\"type\":\"GlyphRenderer\"},{\"attributes\":{},\"id\":\"16866\",\"type\":\"LinearScale\"},{\"attributes\":{},\"id\":\"16884\",\"type\":\"ResetTool\"},{\"attributes\":{},\"id\":\"17518\",\"type\":\"Selection\"},{\"attributes\":{\"data_source\":{\"id\":\"16893\",\"type\":\"ColumnDataSource\"},\"glyph\":{\"id\":\"16894\",\"type\":\"Line\"},\"hover_glyph\":null,\"muted_glyph\":null,\"nonselection_glyph\":{\"id\":\"16895\",\"type\":\"Line\"},\"selection_glyph\":null,\"view\":{\"id\":\"16897\",\"type\":\"CDSView\"}},\"id\":\"16896\",\"type\":\"GlyphRenderer\"},{\"attributes\":{\"line_alpha\":0.1,\"line_color\":\"#1f77b4\",\"x\":{\"field\":\"x\"},\"y\":{\"field\":\"y\"}},\"id\":\"16895\",\"type\":\"Line\"},{\"attributes\":{},\"id\":\"16899\",\"type\":\"BasicTickFormatter\"},{\"attributes\":{\"data_source\":{\"id\":\"16952\",\"type\":\"ColumnDataSource\"},\"glyph\":{\"id\":\"16953\",\"type\":\"Circle\"},\"hover_glyph\":null,\"muted_glyph\":null,\"nonselection_glyph\":{\"id\":\"16954\",\"type\":\"Circle\"},\"selection_glyph\":null,\"view\":{\"id\":\"16956\",\"type\":\"CDSView\"}},\"id\":\"16955\",\"type\":\"GlyphRenderer\"},{\"attributes\":{\"fill_color\":{\"value\":\"#5430F1\"},\"line_color\":{\"value\":\"#5430F1\"},\"line_width\":{\"value\":3},\"x\":{\"field\":\"x\"},\"y\":{\"field\":\"y\"}},\"id\":\"16928\",\"type\":\"Circle\"},{\"attributes\":{\"active_drag\":\"auto\",\"active_inspect\":\"auto\",\"active_multi\":null,\"active_scroll\":\"auto\",\"active_tap\":\"auto\",\"tools\":[{\"id\":\"16880\",\"type\":\"PanTool\"},{\"id\":\"16881\",\"type\":\"WheelZoomTool\"},{\"id\":\"16882\",\"type\":\"BoxZoomTool\"},{\"id\":\"16883\",\"type\":\"SaveTool\"},{\"id\":\"16884\",\"type\":\"ResetTool\"},{\"id\":\"16885\",\"type\":\"HelpTool\"},{\"id\":\"16957\",\"type\":\"HoverTool\"}]},\"id\":\"16886\",\"type\":\"Toolbar\"},{\"attributes\":{\"line_color\":\"#FA1857\",\"x\":{\"field\":\"x\"},\"y\":{\"field\":\"y\"}},\"id\":\"16894\",\"type\":\"Line\"},{\"attributes\":{\"callback\":null,\"data\":{\"x\":[\"2000\",\"2001\",\"2002\",\"2003\",\"2004\",\"2005\",\"2006\",\"2007\",\"2008\",\"2009\",\"2010\",\"2011\",\"2012\",\"2013\",\"2014\",\"2015\",\"2016\",\"2017\"],\"y\":[50.723128378093605,50.5231850468679,50.37496397566116,50.256690141387246,50.13330348053058,49.99664317017944,50.01583887693405,50.00026173733251,49.99506396621195,50.06955879546578,50.259015743666154,50.596556044189086,50.982156909542724,51.41864250914094,51.884735692147885,52.364033705503694,52.810673816186224,53.26354779686192]},\"selected\":{\"id\":\"17518\",\"type\":\"Selection\"},\"selection_policy\":{\"id\":\"17517\",\"type\":\"UnionRenderers\"}},\"id\":\"16932\",\"type\":\"ColumnDataSource\"},{\"attributes\":{\"source\":{\"id\":\"16893\",\"type\":\"ColumnDataSource\"}},\"id\":\"16897\",\"type\":\"CDSView\"},{\"attributes\":{},\"id\":\"16922\",\"type\":\"Selection\"},{\"attributes\":{\"fill_color\":{\"value\":\"#FA1857\"},\"line_color\":{\"value\":\"#FA1857\"},\"line_width\":{\"value\":3},\"x\":{\"field\":\"x\"},\"y\":{\"field\":\"y\"}},\"id\":\"16907\",\"type\":\"Circle\"},{\"attributes\":{},\"id\":\"16876\",\"type\":\"BasicTicker\"},{\"attributes\":{\"source\":{\"id\":\"16906\",\"type\":\"ColumnDataSource\"}},\"id\":\"16910\",\"type\":\"CDSView\"},{\"attributes\":{\"bottom_units\":\"screen\",\"fill_alpha\":{\"value\":0.5},\"fill_color\":{\"value\":\"lightgrey\"},\"left_units\":\"screen\",\"level\":\"overlay\",\"line_alpha\":{\"value\":1.0},\"line_color\":{\"value\":\"black\"},\"line_dash\":[4,4],\"line_width\":{\"value\":2},\"render_mode\":\"css\",\"right_units\":\"screen\",\"top_units\":\"screen\"},\"id\":\"16903\",\"type\":\"BoxAnnotation\"},{\"attributes\":{},\"id\":\"16883\",\"type\":\"SaveTool\"},{\"attributes\":{\"fill_alpha\":{\"value\":0.1},\"fill_color\":{\"value\":\"#1f77b4\"},\"line_alpha\":{\"value\":0.1},\"line_color\":{\"value\":\"#1f77b4\"},\"line_width\":{\"value\":3},\"x\":{\"field\":\"x\"},\"y\":{\"field\":\"y\"}},\"id\":\"16954\",\"type\":\"Circle\"},{\"attributes\":{\"callback\":null,\"data\":{\"x\":[\"2000\",\"2001\",\"2002\",\"2003\",\"2004\",\"2005\",\"2006\",\"2007\",\"2008\",\"2009\",\"2010\",\"2011\",\"2012\",\"2013\",\"2014\",\"2015\",\"2016\",\"2017\"],\"y\":[50.723128378093605,50.5231850468679,50.37496397566116,50.256690141387246,50.13330348053058,49.99664317017944,50.01583887693405,50.00026173733251,49.99506396621195,50.06955879546578,50.259015743666154,50.596556044189086,50.982156909542724,51.41864250914094,51.884735692147885,52.364033705503694,52.810673816186224,53.26354779686192]},\"selected\":{\"id\":\"17520\",\"type\":\"Selection\"},\"selection_policy\":{\"id\":\"17519\",\"type\":\"UnionRenderers\"}},\"id\":\"16952\",\"type\":\"ColumnDataSource\"},{\"attributes\":{\"label\":{\"value\":\"Developing excluding LDCs\"},\"renderers\":[{\"id\":\"16914\",\"type\":\"GlyphRenderer\"}]},\"id\":\"16926\",\"type\":\"LegendItem\"},{\"attributes\":{\"callback\":null,\"tooltips\":\"                \\n        <div style=padding=5px>Year:@x</div>\\n        <div style=padding=5px>Value:@y</div>        \\n        \"},\"id\":\"16957\",\"type\":\"HoverTool\"},{\"attributes\":{\"data_source\":{\"id\":\"16927\",\"type\":\"ColumnDataSource\"},\"glyph\":{\"id\":\"16928\",\"type\":\"Circle\"},\"hover_glyph\":null,\"muted_glyph\":null,\"nonselection_glyph\":{\"id\":\"16929\",\"type\":\"Circle\"},\"selection_glyph\":null,\"view\":{\"id\":\"16931\",\"type\":\"CDSView\"}},\"id\":\"16930\",\"type\":\"GlyphRenderer\"},{\"attributes\":{\"line_color\":\"#2CC775\",\"x\":{\"field\":\"x\"},\"y\":{\"field\":\"y\"}},\"id\":\"16933\",\"type\":\"Line\"},{\"attributes\":{},\"id\":\"16901\",\"type\":\"BasicTickFormatter\"},{\"attributes\":{\"data_source\":{\"id\":\"16906\",\"type\":\"ColumnDataSource\"},\"glyph\":{\"id\":\"16907\",\"type\":\"Circle\"},\"hover_glyph\":null,\"muted_glyph\":null,\"nonselection_glyph\":{\"id\":\"16908\",\"type\":\"Circle\"},\"selection_glyph\":null,\"view\":{\"id\":\"16910\",\"type\":\"CDSView\"}},\"id\":\"16909\",\"type\":\"GlyphRenderer\"},{\"attributes\":{\"callback\":null,\"data\":{\"x\":[\"2000\",\"2001\",\"2002\",\"2003\",\"2004\",\"2005\",\"2006\",\"2007\",\"2008\",\"2009\",\"2010\",\"2011\",\"2012\",\"2013\",\"2014\",\"2015\",\"2016\",\"2017\"],\"y\":[85.17405524987429,84.79540428030643,84.3330650787975,83.81501444931978,83.25253104425855,82.64268122833322,82.3537804564918,81.97232450086702,81.50749277844447,80.9718701788124,80.37500826423279,79.81216621177352,79.1507140134569,78.41620239885593,77.62490340829318,76.79105196030804,76.0307949316323,75.22397002256074]},\"selected\":{\"id\":\"16922\",\"type\":\"Selection\"},\"selection_policy\":{\"id\":\"16921\",\"type\":\"UnionRenderers\"}},\"id\":\"16893\",\"type\":\"ColumnDataSource\"},{\"attributes\":{},\"id\":\"16947\",\"type\":\"Selection\"},{\"attributes\":{},\"id\":\"16871\",\"type\":\"BasicTicker\"},{\"attributes\":{\"fill_color\":{\"value\":\"#2CC775\"},\"line_color\":{\"value\":\"#2CC775\"},\"line_width\":{\"value\":3},\"x\":{\"field\":\"x\"},\"y\":{\"field\":\"y\"}},\"id\":\"16953\",\"type\":\"Circle\"},{\"attributes\":{\"label\":{\"value\":\"OECD\"},\"renderers\":[{\"id\":\"16935\",\"type\":\"GlyphRenderer\"}]},\"id\":\"16951\",\"type\":\"LegendItem\"},{\"attributes\":{},\"id\":\"17519\",\"type\":\"UnionRenderers\"}],\"root_ids\":[\"16859\"]},\"title\":\"Bokeh Application\",\"version\":\"1.3.4\"}};\n",
       "  var render_items = [{\"docid\":\"add069f9-258f-4ac5-ba6d-84c31607379c\",\"roots\":{\"16859\":\"cd3413b5-e96f-46da-bb7f-65654d8e03e8\"}}];\n",
       "  root.Bokeh.embed.embed_items_notebook(docs_json, render_items);\n",
       "\n",
       "  }\n",
       "  if (root.Bokeh !== undefined) {\n",
       "    embed_document(root);\n",
       "  } else {\n",
       "    var attempts = 0;\n",
       "    var timer = setInterval(function(root) {\n",
       "      if (root.Bokeh !== undefined) {\n",
       "        embed_document(root);\n",
       "        clearInterval(timer);\n",
       "      }\n",
       "      attempts++;\n",
       "      if (attempts > 100) {\n",
       "        console.log(\"Bokeh: ERROR: Unable to run BokehJS code because BokehJS library is missing\");\n",
       "        clearInterval(timer);\n",
       "      }\n",
       "    }, 10, root)\n",
       "  }\n",
       "})(window);"
      ],
      "application/vnd.bokehjs_exec.v0+json": ""
     },
     "metadata": {
      "application/vnd.bokehjs_exec.v0+json": {
       "id": "16859"
      }
     },
     "output_type": "display_data"
    }
   ],
   "source": [
    "# Age dependency ratio (% of working-age population)\n",
    "years = list(map(str, list(range(2000,2018))))\n",
    "result = show_weighted_average(years, 'SP.POP.DPND', 'SP.POP.1564.TO', ['LDCs', 'Developing excluding LDCs', 'OECD'])"
   ]
  },
  {
   "cell_type": "code",
   "execution_count": 39,
   "metadata": {
    "ExecuteTime": {
     "end_time": "2019-10-25T14:26:17.747160Z",
     "start_time": "2019-10-25T14:26:12.861357Z"
    },
    "slideshow": {
     "slide_type": "slide"
    }
   },
   "outputs": [
    {
     "data": {
      "text/html": [
       "\n",
       "\n",
       "\n",
       "\n",
       "\n",
       "\n",
       "  <div class=\"bk-root\" id=\"aa62905b-7ec7-4095-a56b-3f8ca10e4ba0\" data-root-id=\"17630\"></div>\n"
      ]
     },
     "metadata": {},
     "output_type": "display_data"
    },
    {
     "data": {
      "application/javascript": [
       "(function(root) {\n",
       "  function embed_document(root) {\n",
       "    \n",
       "  var docs_json = {\"7d1bc2e8-0365-4ed6-a77f-f62efa22f4be\":{\"roots\":{\"references\":[{\"attributes\":{\"below\":[{\"id\":\"17641\",\"type\":\"LinearAxis\"}],\"center\":[{\"id\":\"17645\",\"type\":\"Grid\"},{\"id\":\"17650\",\"type\":\"Grid\"},{\"id\":\"17675\",\"type\":\"Legend\"}],\"left\":[{\"id\":\"17646\",\"type\":\"LinearAxis\"}],\"plot_height\":400,\"plot_width\":800,\"renderers\":[{\"id\":\"17667\",\"type\":\"GlyphRenderer\"},{\"id\":\"17680\",\"type\":\"GlyphRenderer\"},{\"id\":\"17685\",\"type\":\"GlyphRenderer\"},{\"id\":\"17701\",\"type\":\"GlyphRenderer\"},{\"id\":\"17706\",\"type\":\"GlyphRenderer\"},{\"id\":\"17726\",\"type\":\"GlyphRenderer\"}],\"title\":{\"id\":\"17631\",\"type\":\"Title\"},\"toolbar\":{\"id\":\"17657\",\"type\":\"Toolbar\"},\"x_range\":{\"id\":\"17633\",\"type\":\"DataRange1d\"},\"x_scale\":{\"id\":\"17637\",\"type\":\"LinearScale\"},\"y_range\":{\"id\":\"17635\",\"type\":\"DataRange1d\"},\"y_scale\":{\"id\":\"17639\",\"type\":\"LinearScale\"}},\"id\":\"17630\",\"subtype\":\"Figure\",\"type\":\"Plot\"},{\"attributes\":{\"grid_line_color\":null,\"ticker\":{\"id\":\"17642\",\"type\":\"BasicTicker\"}},\"id\":\"17645\",\"type\":\"Grid\"},{\"attributes\":{\"dimension\":1,\"grid_line_alpha\":0.5,\"ticker\":{\"id\":\"17647\",\"type\":\"BasicTicker\"}},\"id\":\"17650\",\"type\":\"Grid\"},{\"attributes\":{\"line_color\":\"#5430F1\",\"x\":{\"field\":\"x\"},\"y\":{\"field\":\"y\"}},\"id\":\"17683\",\"type\":\"Line\"},{\"attributes\":{},\"id\":\"17694\",\"type\":\"UnionRenderers\"},{\"attributes\":{\"callback\":null,\"tooltips\":\"                \\n        <div style=padding=5px>Year:@x</div>\\n        <div style=padding=5px>Value:@y</div>        \\n        \"},\"id\":\"17728\",\"type\":\"HoverTool\"},{\"attributes\":{},\"id\":\"17695\",\"type\":\"Selection\"},{\"attributes\":{},\"id\":\"17718\",\"type\":\"Selection\"},{\"attributes\":{\"data_source\":{\"id\":\"17682\",\"type\":\"ColumnDataSource\"},\"glyph\":{\"id\":\"17683\",\"type\":\"Line\"},\"hover_glyph\":null,\"muted_glyph\":null,\"nonselection_glyph\":{\"id\":\"17684\",\"type\":\"Line\"},\"selection_glyph\":null,\"view\":{\"id\":\"17686\",\"type\":\"CDSView\"}},\"id\":\"17685\",\"type\":\"GlyphRenderer\"},{\"attributes\":{},\"id\":\"18307\",\"type\":\"Selection\"},{\"attributes\":{},\"id\":\"17639\",\"type\":\"LinearScale\"},{\"attributes\":{\"data_source\":{\"id\":\"17677\",\"type\":\"ColumnDataSource\"},\"glyph\":{\"id\":\"17678\",\"type\":\"Circle\"},\"hover_glyph\":null,\"muted_glyph\":null,\"nonselection_glyph\":{\"id\":\"17679\",\"type\":\"Circle\"},\"selection_glyph\":null,\"view\":{\"id\":\"17681\",\"type\":\"CDSView\"}},\"id\":\"17680\",\"type\":\"GlyphRenderer\"},{\"attributes\":{},\"id\":\"17647\",\"type\":\"BasicTicker\"},{\"attributes\":{},\"id\":\"17654\",\"type\":\"SaveTool\"},{\"attributes\":{\"callback\":null},\"id\":\"17633\",\"type\":\"DataRange1d\"},{\"attributes\":{\"label\":{\"value\":\"Developing excluding LDCs\"},\"renderers\":[{\"id\":\"17685\",\"type\":\"GlyphRenderer\"}]},\"id\":\"17697\",\"type\":\"LegendItem\"},{\"attributes\":{\"fill_alpha\":{\"value\":0.1},\"fill_color\":{\"value\":\"#1f77b4\"},\"line_alpha\":{\"value\":0.1},\"line_color\":{\"value\":\"#1f77b4\"},\"line_width\":{\"value\":3},\"x\":{\"field\":\"x\"},\"y\":{\"field\":\"y\"}},\"id\":\"17679\",\"type\":\"Circle\"},{\"attributes\":{\"axis_label\":\"Years\",\"formatter\":{\"id\":\"17672\",\"type\":\"BasicTickFormatter\"},\"ticker\":{\"id\":\"17642\",\"type\":\"BasicTicker\"}},\"id\":\"17641\",\"type\":\"LinearAxis\"},{\"attributes\":{\"axis_label\":\"SL.EMP.TOTL.SP.ZS\",\"formatter\":{\"id\":\"17670\",\"type\":\"BasicTickFormatter\"},\"ticker\":{\"id\":\"17647\",\"type\":\"BasicTicker\"}},\"id\":\"17646\",\"type\":\"LinearAxis\"},{\"attributes\":{\"label\":{\"value\":\"LDCs\"},\"renderers\":[{\"id\":\"17667\",\"type\":\"GlyphRenderer\"}]},\"id\":\"17676\",\"type\":\"LegendItem\"},{\"attributes\":{},\"id\":\"17637\",\"type\":\"LinearScale\"},{\"attributes\":{\"data_source\":{\"id\":\"17698\",\"type\":\"ColumnDataSource\"},\"glyph\":{\"id\":\"17699\",\"type\":\"Circle\"},\"hover_glyph\":null,\"muted_glyph\":null,\"nonselection_glyph\":{\"id\":\"17700\",\"type\":\"Circle\"},\"selection_glyph\":null,\"view\":{\"id\":\"17702\",\"type\":\"CDSView\"}},\"id\":\"17701\",\"type\":\"GlyphRenderer\"},{\"attributes\":{},\"id\":\"17655\",\"type\":\"ResetTool\"},{\"attributes\":{\"fill_alpha\":{\"value\":0.1},\"fill_color\":{\"value\":\"#1f77b4\"},\"line_alpha\":{\"value\":0.1},\"line_color\":{\"value\":\"#1f77b4\"},\"line_width\":{\"value\":3},\"x\":{\"field\":\"x\"},\"y\":{\"field\":\"y\"}},\"id\":\"17700\",\"type\":\"Circle\"},{\"attributes\":{\"line_color\":\"#2CC775\",\"x\":{\"field\":\"x\"},\"y\":{\"field\":\"y\"}},\"id\":\"17704\",\"type\":\"Line\"},{\"attributes\":{\"callback\":null,\"data\":{\"x\":[\"2000\",\"2001\",\"2002\",\"2003\",\"2004\",\"2005\",\"2006\",\"2007\",\"2008\",\"2009\",\"2010\",\"2011\",\"2012\",\"2013\",\"2014\",\"2015\",\"2016\",\"2017\"],\"y\":[62.02243357574345,61.64016680037185,61.1618940952195,60.78637558710965,60.735995768634645,60.53607853298226,60.269713445332776,60.075721745799676,59.750477553036504,59.25835137121876,58.96155327114154,58.71265955540014,58.47689078553427,58.318144479363795,58.199985004749834,58.00138011342064,57.745664542750994,57.66029265801793]},\"selected\":{\"id\":\"17720\",\"type\":\"Selection\"},\"selection_policy\":{\"id\":\"17719\",\"type\":\"UnionRenderers\"}},\"id\":\"17698\",\"type\":\"ColumnDataSource\"},{\"attributes\":{\"source\":{\"id\":\"17703\",\"type\":\"ColumnDataSource\"}},\"id\":\"17707\",\"type\":\"CDSView\"},{\"attributes\":{\"active_drag\":\"auto\",\"active_inspect\":\"auto\",\"active_multi\":null,\"active_scroll\":\"auto\",\"active_tap\":\"auto\",\"tools\":[{\"id\":\"17651\",\"type\":\"PanTool\"},{\"id\":\"17652\",\"type\":\"WheelZoomTool\"},{\"id\":\"17653\",\"type\":\"BoxZoomTool\"},{\"id\":\"17654\",\"type\":\"SaveTool\"},{\"id\":\"17655\",\"type\":\"ResetTool\"},{\"id\":\"17656\",\"type\":\"HelpTool\"},{\"id\":\"17728\",\"type\":\"HoverTool\"}]},\"id\":\"17657\",\"type\":\"Toolbar\"},{\"attributes\":{\"fill_color\":{\"value\":\"#FA1857\"},\"line_color\":{\"value\":\"#FA1857\"},\"line_width\":{\"value\":3},\"x\":{\"field\":\"x\"},\"y\":{\"field\":\"y\"}},\"id\":\"17678\",\"type\":\"Circle\"},{\"attributes\":{\"data_source\":{\"id\":\"17703\",\"type\":\"ColumnDataSource\"},\"glyph\":{\"id\":\"17704\",\"type\":\"Line\"},\"hover_glyph\":null,\"muted_glyph\":null,\"nonselection_glyph\":{\"id\":\"17705\",\"type\":\"Line\"},\"selection_glyph\":null,\"view\":{\"id\":\"17707\",\"type\":\"CDSView\"}},\"id\":\"17706\",\"type\":\"GlyphRenderer\"},{\"attributes\":{\"source\":{\"id\":\"17682\",\"type\":\"ColumnDataSource\"}},\"id\":\"17686\",\"type\":\"CDSView\"},{\"attributes\":{\"line_alpha\":0.1,\"line_color\":\"#1f77b4\",\"x\":{\"field\":\"x\"},\"y\":{\"field\":\"y\"}},\"id\":\"17705\",\"type\":\"Line\"},{\"attributes\":{\"callback\":null,\"data\":{\"x\":[\"2000\",\"2001\",\"2002\",\"2003\",\"2004\",\"2005\",\"2006\",\"2007\",\"2008\",\"2009\",\"2010\",\"2011\",\"2012\",\"2013\",\"2014\",\"2015\",\"2016\",\"2017\"],\"y\":[65.83301652521625,65.8684425528842,65.73427571808543,65.64919764713692,65.66603925352581,65.747247617559,65.82733188121632,65.79867099451198,65.67749694606924,65.23243344174506,65.14313911051282,65.0042687463501,64.80493437351076,64.6705264038209,64.61325967142318,64.54779771445858,64.48134681180402,64.84243717269096]},\"selected\":{\"id\":\"17695\",\"type\":\"Selection\"},\"selection_policy\":{\"id\":\"17694\",\"type\":\"UnionRenderers\"}},\"id\":\"17677\",\"type\":\"ColumnDataSource\"},{\"attributes\":{\"source\":{\"id\":\"17664\",\"type\":\"ColumnDataSource\"}},\"id\":\"17668\",\"type\":\"CDSView\"},{\"attributes\":{},\"id\":\"17642\",\"type\":\"BasicTicker\"},{\"attributes\":{},\"id\":\"17692\",\"type\":\"UnionRenderers\"},{\"attributes\":{\"callback\":null},\"id\":\"17635\",\"type\":\"DataRange1d\"},{\"attributes\":{\"data_source\":{\"id\":\"17664\",\"type\":\"ColumnDataSource\"},\"glyph\":{\"id\":\"17665\",\"type\":\"Line\"},\"hover_glyph\":null,\"muted_glyph\":null,\"nonselection_glyph\":{\"id\":\"17666\",\"type\":\"Line\"},\"selection_glyph\":null,\"view\":{\"id\":\"17668\",\"type\":\"CDSView\"}},\"id\":\"17667\",\"type\":\"GlyphRenderer\"},{\"attributes\":{},\"id\":\"18308\",\"type\":\"UnionRenderers\"},{\"attributes\":{\"callback\":null,\"data\":{\"x\":[\"2000\",\"2001\",\"2002\",\"2003\",\"2004\",\"2005\",\"2006\",\"2007\",\"2008\",\"2009\",\"2010\",\"2011\",\"2012\",\"2013\",\"2014\",\"2015\",\"2016\",\"2017\"],\"y\":[62.02243357574345,61.64016680037185,61.1618940952195,60.78637558710965,60.735995768634645,60.53607853298226,60.269713445332776,60.075721745799676,59.750477553036504,59.25835137121876,58.96155327114154,58.71265955540014,58.47689078553427,58.318144479363795,58.199985004749834,58.00138011342064,57.745664542750994,57.66029265801793]},\"selected\":{\"id\":\"17718\",\"type\":\"Selection\"},\"selection_policy\":{\"id\":\"17717\",\"type\":\"UnionRenderers\"}},\"id\":\"17682\",\"type\":\"ColumnDataSource\"},{\"attributes\":{},\"id\":\"17651\",\"type\":\"PanTool\"},{\"attributes\":{},\"id\":\"17652\",\"type\":\"WheelZoomTool\"},{\"attributes\":{\"source\":{\"id\":\"17677\",\"type\":\"ColumnDataSource\"}},\"id\":\"17681\",\"type\":\"CDSView\"},{\"attributes\":{},\"id\":\"18306\",\"type\":\"UnionRenderers\"},{\"attributes\":{},\"id\":\"17717\",\"type\":\"UnionRenderers\"},{\"attributes\":{\"source\":{\"id\":\"17698\",\"type\":\"ColumnDataSource\"}},\"id\":\"17702\",\"type\":\"CDSView\"},{\"attributes\":{\"fill_color\":{\"value\":\"#2CC775\"},\"line_color\":{\"value\":\"#2CC775\"},\"line_width\":{\"value\":3},\"x\":{\"field\":\"x\"},\"y\":{\"field\":\"y\"}},\"id\":\"17724\",\"type\":\"Circle\"},{\"attributes\":{},\"id\":\"17672\",\"type\":\"BasicTickFormatter\"},{\"attributes\":{\"overlay\":{\"id\":\"17674\",\"type\":\"BoxAnnotation\"}},\"id\":\"17653\",\"type\":\"BoxZoomTool\"},{\"attributes\":{},\"id\":\"17720\",\"type\":\"Selection\"},{\"attributes\":{\"text\":\"Employment to population ratio, 15+, total (%) (modeled ILO estimate) weighted against Population, total\"},\"id\":\"17631\",\"type\":\"Title\"},{\"attributes\":{},\"id\":\"17656\",\"type\":\"HelpTool\"},{\"attributes\":{},\"id\":\"17719\",\"type\":\"UnionRenderers\"},{\"attributes\":{\"bottom_units\":\"screen\",\"fill_alpha\":{\"value\":0.5},\"fill_color\":{\"value\":\"lightgrey\"},\"left_units\":\"screen\",\"level\":\"overlay\",\"line_alpha\":{\"value\":1.0},\"line_color\":{\"value\":\"black\"},\"line_dash\":[4,4],\"line_width\":{\"value\":2},\"render_mode\":\"css\",\"right_units\":\"screen\",\"top_units\":\"screen\"},\"id\":\"17674\",\"type\":\"BoxAnnotation\"},{\"attributes\":{\"fill_alpha\":{\"value\":0.1},\"fill_color\":{\"value\":\"#1f77b4\"},\"line_alpha\":{\"value\":0.1},\"line_color\":{\"value\":\"#1f77b4\"},\"line_width\":{\"value\":3},\"x\":{\"field\":\"x\"},\"y\":{\"field\":\"y\"}},\"id\":\"17725\",\"type\":\"Circle\"},{\"attributes\":{\"data_source\":{\"id\":\"17723\",\"type\":\"ColumnDataSource\"},\"glyph\":{\"id\":\"17724\",\"type\":\"Circle\"},\"hover_glyph\":null,\"muted_glyph\":null,\"nonselection_glyph\":{\"id\":\"17725\",\"type\":\"Circle\"},\"selection_glyph\":null,\"view\":{\"id\":\"17727\",\"type\":\"CDSView\"}},\"id\":\"17726\",\"type\":\"GlyphRenderer\"},{\"attributes\":{\"fill_color\":{\"value\":\"#5430F1\"},\"line_color\":{\"value\":\"#5430F1\"},\"line_width\":{\"value\":3},\"x\":{\"field\":\"x\"},\"y\":{\"field\":\"y\"}},\"id\":\"17699\",\"type\":\"Circle\"},{\"attributes\":{\"source\":{\"id\":\"17723\",\"type\":\"ColumnDataSource\"}},\"id\":\"17727\",\"type\":\"CDSView\"},{\"attributes\":{},\"id\":\"17693\",\"type\":\"Selection\"},{\"attributes\":{},\"id\":\"18309\",\"type\":\"Selection\"},{\"attributes\":{\"items\":[{\"id\":\"17676\",\"type\":\"LegendItem\"},{\"id\":\"17697\",\"type\":\"LegendItem\"},{\"id\":\"17722\",\"type\":\"LegendItem\"}],\"location\":\"bottom_left\"},\"id\":\"17675\",\"type\":\"Legend\"},{\"attributes\":{\"line_color\":\"#FA1857\",\"x\":{\"field\":\"x\"},\"y\":{\"field\":\"y\"}},\"id\":\"17665\",\"type\":\"Line\"},{\"attributes\":{\"callback\":null,\"data\":{\"x\":[\"2000\",\"2001\",\"2002\",\"2003\",\"2004\",\"2005\",\"2006\",\"2007\",\"2008\",\"2009\",\"2010\",\"2011\",\"2012\",\"2013\",\"2014\",\"2015\",\"2016\",\"2017\"],\"y\":[65.83301652521625,65.8684425528842,65.73427571808543,65.64919764713692,65.66603925352581,65.747247617559,65.82733188121632,65.79867099451198,65.67749694606924,65.23243344174506,65.14313911051282,65.0042687463501,64.80493437351076,64.6705264038209,64.61325967142318,64.54779771445858,64.48134681180402,64.84243717269096]},\"selected\":{\"id\":\"17693\",\"type\":\"Selection\"},\"selection_policy\":{\"id\":\"17692\",\"type\":\"UnionRenderers\"}},\"id\":\"17664\",\"type\":\"ColumnDataSource\"},{\"attributes\":{},\"id\":\"17670\",\"type\":\"BasicTickFormatter\"},{\"attributes\":{\"line_alpha\":0.1,\"line_color\":\"#1f77b4\",\"x\":{\"field\":\"x\"},\"y\":{\"field\":\"y\"}},\"id\":\"17684\",\"type\":\"Line\"},{\"attributes\":{\"callback\":null,\"data\":{\"x\":[\"2000\",\"2001\",\"2002\",\"2003\",\"2004\",\"2005\",\"2006\",\"2007\",\"2008\",\"2009\",\"2010\",\"2011\",\"2012\",\"2013\",\"2014\",\"2015\",\"2016\",\"2017\"],\"y\":[56.40865141951019,56.15551087542925,55.78176951023597,55.5296417520831,55.589161503213,55.967412284918765,56.41051699770243,56.73108736593439,56.62697234239764,55.124996476006956,54.84009591169655,54.959388942012374,55.0534575823381,55.05901270441525,55.304467418720705,55.67918767759019,56.10556899868917,56.579633263980924]},\"selected\":{\"id\":\"18307\",\"type\":\"Selection\"},\"selection_policy\":{\"id\":\"18306\",\"type\":\"UnionRenderers\"}},\"id\":\"17703\",\"type\":\"ColumnDataSource\"},{\"attributes\":{\"callback\":null,\"data\":{\"x\":[\"2000\",\"2001\",\"2002\",\"2003\",\"2004\",\"2005\",\"2006\",\"2007\",\"2008\",\"2009\",\"2010\",\"2011\",\"2012\",\"2013\",\"2014\",\"2015\",\"2016\",\"2017\"],\"y\":[56.40865141951019,56.15551087542925,55.78176951023597,55.5296417520831,55.589161503213,55.967412284918765,56.41051699770243,56.73108736593439,56.62697234239764,55.124996476006956,54.84009591169655,54.959388942012374,55.0534575823381,55.05901270441525,55.304467418720705,55.67918767759019,56.10556899868917,56.579633263980924]},\"selected\":{\"id\":\"18309\",\"type\":\"Selection\"},\"selection_policy\":{\"id\":\"18308\",\"type\":\"UnionRenderers\"}},\"id\":\"17723\",\"type\":\"ColumnDataSource\"},{\"attributes\":{\"line_alpha\":0.1,\"line_color\":\"#1f77b4\",\"x\":{\"field\":\"x\"},\"y\":{\"field\":\"y\"}},\"id\":\"17666\",\"type\":\"Line\"},{\"attributes\":{\"label\":{\"value\":\"OECD\"},\"renderers\":[{\"id\":\"17706\",\"type\":\"GlyphRenderer\"}]},\"id\":\"17722\",\"type\":\"LegendItem\"}],\"root_ids\":[\"17630\"]},\"title\":\"Bokeh Application\",\"version\":\"1.3.4\"}};\n",
       "  var render_items = [{\"docid\":\"7d1bc2e8-0365-4ed6-a77f-f62efa22f4be\",\"roots\":{\"17630\":\"aa62905b-7ec7-4095-a56b-3f8ca10e4ba0\"}}];\n",
       "  root.Bokeh.embed.embed_items_notebook(docs_json, render_items);\n",
       "\n",
       "  }\n",
       "  if (root.Bokeh !== undefined) {\n",
       "    embed_document(root);\n",
       "  } else {\n",
       "    var attempts = 0;\n",
       "    var timer = setInterval(function(root) {\n",
       "      if (root.Bokeh !== undefined) {\n",
       "        embed_document(root);\n",
       "        clearInterval(timer);\n",
       "      }\n",
       "      attempts++;\n",
       "      if (attempts > 100) {\n",
       "        console.log(\"Bokeh: ERROR: Unable to run BokehJS code because BokehJS library is missing\");\n",
       "        clearInterval(timer);\n",
       "      }\n",
       "    }, 10, root)\n",
       "  }\n",
       "})(window);"
      ],
      "application/vnd.bokehjs_exec.v0+json": ""
     },
     "metadata": {
      "application/vnd.bokehjs_exec.v0+json": {
       "id": "17630"
      }
     },
     "output_type": "display_data"
    }
   ],
   "source": [
    "#Employment to population ratio, 15+, total (%) (modeled ILO estimate)\n",
    "# Age dependency ratio (% of working-age population)\n",
    "years = list(map(str, list(range(2000,2018))))\n",
    "result = show_weighted_average(years, 'SL.EMP.TOTL.SP.ZS', 'SP.POP.TOTL', ['LDCs', 'Developing excluding LDCs', 'OECD'])"
   ]
  },
  {
   "cell_type": "markdown",
   "metadata": {
    "slideshow": {
     "slide_type": "slide"
    }
   },
   "source": [
    "# Some very general ideas"
   ]
  },
  {
   "cell_type": "markdown",
   "metadata": {
    "slideshow": {
     "slide_type": "slide"
    }
   },
   "source": [
    "# The world is becoming increasingly unequal"
   ]
  },
  {
   "cell_type": "markdown",
   "metadata": {
    "slideshow": {
     "slide_type": "slide"
    }
   },
   "source": [
    "# Great progress in certain areas, still an awful lot to do"
   ]
  },
  {
   "cell_type": "markdown",
   "metadata": {
    "slideshow": {
     "slide_type": "slide"
    }
   },
   "source": [
    "# Sustainable development in the LDCs won't happen without addressing gender inequalities"
   ]
  },
  {
   "cell_type": "markdown",
   "metadata": {
    "slideshow": {
     "slide_type": "slide"
    }
   },
   "source": [
    "# The SDGs and other internationally agreed development goals won't happen without accelerated progress in the LDCs."
   ]
  },
  {
   "cell_type": "markdown",
   "metadata": {
    "slideshow": {
     "slide_type": "slide"
    }
   },
   "source": [
    "# Many thanks\n",
    "\n",
    "Let's stay in touch\n",
    "\n",
    "Tomás González\n",
    "gonzalezt@un.org\n"
   ]
  },
  {
   "cell_type": "code",
   "execution_count": null,
   "metadata": {
    "scrolled": true
   },
   "outputs": [],
   "source": []
  }
 ],
 "metadata": {
  "celltoolbar": "Slideshow",
  "kernelspec": {
   "display_name": "Python 3",
   "language": "python",
   "name": "python3"
  },
  "language_info": {
   "codemirror_mode": {
    "name": "ipython",
    "version": 3
   },
   "file_extension": ".py",
   "mimetype": "text/x-python",
   "name": "python",
   "nbconvert_exporter": "python",
   "pygments_lexer": "ipython3",
   "version": "3.7.1"
  },
  "toc": {
   "base_numbering": 1,
   "nav_menu": {},
   "number_sections": true,
   "sideBar": true,
   "skip_h1_title": false,
   "title_cell": "Table of Contents",
   "title_sidebar": "Contents",
   "toc_cell": false,
   "toc_position": {},
   "toc_section_display": true,
   "toc_window_display": false
  }
 },
 "nbformat": 4,
 "nbformat_minor": 2
}
