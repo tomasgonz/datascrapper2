{
 "cells": [
  {
   "cell_type": "code",
   "execution_count": 1,
   "metadata": {
    "ExecuteTime": {
     "end_time": "2019-10-25T14:23:46.481587Z",
     "start_time": "2019-10-25T14:23:45.039173Z"
    },
    "slideshow": {
     "slide_type": "skip"
    }
   },
   "outputs": [
    {
     "data": {
      "text/html": [
       "\n",
       "    <div class=\"bk-root\">\n",
       "        <a href=\"https://bokeh.pydata.org\" target=\"_blank\" class=\"bk-logo bk-logo-small bk-logo-notebook\"></a>\n",
       "        <span id=\"1001\">Loading BokehJS ...</span>\n",
       "    </div>"
      ]
     },
     "metadata": {},
     "output_type": "display_data"
    },
    {
     "data": {
      "application/javascript": [
       "\n",
       "(function(root) {\n",
       "  function now() {\n",
       "    return new Date();\n",
       "  }\n",
       "\n",
       "  var force = true;\n",
       "\n",
       "  if (typeof root._bokeh_onload_callbacks === \"undefined\" || force === true) {\n",
       "    root._bokeh_onload_callbacks = [];\n",
       "    root._bokeh_is_loading = undefined;\n",
       "  }\n",
       "\n",
       "  var JS_MIME_TYPE = 'application/javascript';\n",
       "  var HTML_MIME_TYPE = 'text/html';\n",
       "  var EXEC_MIME_TYPE = 'application/vnd.bokehjs_exec.v0+json';\n",
       "  var CLASS_NAME = 'output_bokeh rendered_html';\n",
       "\n",
       "  /**\n",
       "   * Render data to the DOM node\n",
       "   */\n",
       "  function render(props, node) {\n",
       "    var script = document.createElement(\"script\");\n",
       "    node.appendChild(script);\n",
       "  }\n",
       "\n",
       "  /**\n",
       "   * Handle when an output is cleared or removed\n",
       "   */\n",
       "  function handleClearOutput(event, handle) {\n",
       "    var cell = handle.cell;\n",
       "\n",
       "    var id = cell.output_area._bokeh_element_id;\n",
       "    var server_id = cell.output_area._bokeh_server_id;\n",
       "    // Clean up Bokeh references\n",
       "    if (id != null && id in Bokeh.index) {\n",
       "      Bokeh.index[id].model.document.clear();\n",
       "      delete Bokeh.index[id];\n",
       "    }\n",
       "\n",
       "    if (server_id !== undefined) {\n",
       "      // Clean up Bokeh references\n",
       "      var cmd = \"from bokeh.io.state import curstate; print(curstate().uuid_to_server['\" + server_id + \"'].get_sessions()[0].document.roots[0]._id)\";\n",
       "      cell.notebook.kernel.execute(cmd, {\n",
       "        iopub: {\n",
       "          output: function(msg) {\n",
       "            var id = msg.content.text.trim();\n",
       "            if (id in Bokeh.index) {\n",
       "              Bokeh.index[id].model.document.clear();\n",
       "              delete Bokeh.index[id];\n",
       "            }\n",
       "          }\n",
       "        }\n",
       "      });\n",
       "      // Destroy server and session\n",
       "      var cmd = \"import bokeh.io.notebook as ion; ion.destroy_server('\" + server_id + \"')\";\n",
       "      cell.notebook.kernel.execute(cmd);\n",
       "    }\n",
       "  }\n",
       "\n",
       "  /**\n",
       "   * Handle when a new output is added\n",
       "   */\n",
       "  function handleAddOutput(event, handle) {\n",
       "    var output_area = handle.output_area;\n",
       "    var output = handle.output;\n",
       "\n",
       "    // limit handleAddOutput to display_data with EXEC_MIME_TYPE content only\n",
       "    if ((output.output_type != \"display_data\") || (!output.data.hasOwnProperty(EXEC_MIME_TYPE))) {\n",
       "      return\n",
       "    }\n",
       "\n",
       "    var toinsert = output_area.element.find(\".\" + CLASS_NAME.split(' ')[0]);\n",
       "\n",
       "    if (output.metadata[EXEC_MIME_TYPE][\"id\"] !== undefined) {\n",
       "      toinsert[toinsert.length - 1].firstChild.textContent = output.data[JS_MIME_TYPE];\n",
       "      // store reference to embed id on output_area\n",
       "      output_area._bokeh_element_id = output.metadata[EXEC_MIME_TYPE][\"id\"];\n",
       "    }\n",
       "    if (output.metadata[EXEC_MIME_TYPE][\"server_id\"] !== undefined) {\n",
       "      var bk_div = document.createElement(\"div\");\n",
       "      bk_div.innerHTML = output.data[HTML_MIME_TYPE];\n",
       "      var script_attrs = bk_div.children[0].attributes;\n",
       "      for (var i = 0; i < script_attrs.length; i++) {\n",
       "        toinsert[toinsert.length - 1].firstChild.setAttribute(script_attrs[i].name, script_attrs[i].value);\n",
       "      }\n",
       "      // store reference to server id on output_area\n",
       "      output_area._bokeh_server_id = output.metadata[EXEC_MIME_TYPE][\"server_id\"];\n",
       "    }\n",
       "  }\n",
       "\n",
       "  function register_renderer(events, OutputArea) {\n",
       "\n",
       "    function append_mime(data, metadata, element) {\n",
       "      // create a DOM node to render to\n",
       "      var toinsert = this.create_output_subarea(\n",
       "        metadata,\n",
       "        CLASS_NAME,\n",
       "        EXEC_MIME_TYPE\n",
       "      );\n",
       "      this.keyboard_manager.register_events(toinsert);\n",
       "      // Render to node\n",
       "      var props = {data: data, metadata: metadata[EXEC_MIME_TYPE]};\n",
       "      render(props, toinsert[toinsert.length - 1]);\n",
       "      element.append(toinsert);\n",
       "      return toinsert\n",
       "    }\n",
       "\n",
       "    /* Handle when an output is cleared or removed */\n",
       "    events.on('clear_output.CodeCell', handleClearOutput);\n",
       "    events.on('delete.Cell', handleClearOutput);\n",
       "\n",
       "    /* Handle when a new output is added */\n",
       "    events.on('output_added.OutputArea', handleAddOutput);\n",
       "\n",
       "    /**\n",
       "     * Register the mime type and append_mime function with output_area\n",
       "     */\n",
       "    OutputArea.prototype.register_mime_type(EXEC_MIME_TYPE, append_mime, {\n",
       "      /* Is output safe? */\n",
       "      safe: true,\n",
       "      /* Index of renderer in `output_area.display_order` */\n",
       "      index: 0\n",
       "    });\n",
       "  }\n",
       "\n",
       "  // register the mime type if in Jupyter Notebook environment and previously unregistered\n",
       "  if (root.Jupyter !== undefined) {\n",
       "    var events = require('base/js/events');\n",
       "    var OutputArea = require('notebook/js/outputarea').OutputArea;\n",
       "\n",
       "    if (OutputArea.prototype.mime_types().indexOf(EXEC_MIME_TYPE) == -1) {\n",
       "      register_renderer(events, OutputArea);\n",
       "    }\n",
       "  }\n",
       "\n",
       "  \n",
       "  if (typeof (root._bokeh_timeout) === \"undefined\" || force === true) {\n",
       "    root._bokeh_timeout = Date.now() + 5000;\n",
       "    root._bokeh_failed_load = false;\n",
       "  }\n",
       "\n",
       "  var NB_LOAD_WARNING = {'data': {'text/html':\n",
       "     \"<div style='background-color: #fdd'>\\n\"+\n",
       "     \"<p>\\n\"+\n",
       "     \"BokehJS does not appear to have successfully loaded. If loading BokehJS from CDN, this \\n\"+\n",
       "     \"may be due to a slow or bad network connection. Possible fixes:\\n\"+\n",
       "     \"</p>\\n\"+\n",
       "     \"<ul>\\n\"+\n",
       "     \"<li>re-rerun `output_notebook()` to attempt to load from CDN again, or</li>\\n\"+\n",
       "     \"<li>use INLINE resources instead, as so:</li>\\n\"+\n",
       "     \"</ul>\\n\"+\n",
       "     \"<code>\\n\"+\n",
       "     \"from bokeh.resources import INLINE\\n\"+\n",
       "     \"output_notebook(resources=INLINE)\\n\"+\n",
       "     \"</code>\\n\"+\n",
       "     \"</div>\"}};\n",
       "\n",
       "  function display_loaded() {\n",
       "    var el = document.getElementById(\"1001\");\n",
       "    if (el != null) {\n",
       "      el.textContent = \"BokehJS is loading...\";\n",
       "    }\n",
       "    if (root.Bokeh !== undefined) {\n",
       "      if (el != null) {\n",
       "        el.textContent = \"BokehJS \" + root.Bokeh.version + \" successfully loaded.\";\n",
       "      }\n",
       "    } else if (Date.now() < root._bokeh_timeout) {\n",
       "      setTimeout(display_loaded, 100)\n",
       "    }\n",
       "  }\n",
       "\n",
       "\n",
       "  function run_callbacks() {\n",
       "    try {\n",
       "      root._bokeh_onload_callbacks.forEach(function(callback) {\n",
       "        if (callback != null)\n",
       "          callback();\n",
       "      });\n",
       "    } finally {\n",
       "      delete root._bokeh_onload_callbacks\n",
       "    }\n",
       "    console.debug(\"Bokeh: all callbacks have finished\");\n",
       "  }\n",
       "\n",
       "  function load_libs(css_urls, js_urls, callback) {\n",
       "    if (css_urls == null) css_urls = [];\n",
       "    if (js_urls == null) js_urls = [];\n",
       "\n",
       "    root._bokeh_onload_callbacks.push(callback);\n",
       "    if (root._bokeh_is_loading > 0) {\n",
       "      console.debug(\"Bokeh: BokehJS is being loaded, scheduling callback at\", now());\n",
       "      return null;\n",
       "    }\n",
       "    if (js_urls == null || js_urls.length === 0) {\n",
       "      run_callbacks();\n",
       "      return null;\n",
       "    }\n",
       "    console.debug(\"Bokeh: BokehJS not loaded, scheduling load and callback at\", now());\n",
       "    root._bokeh_is_loading = css_urls.length + js_urls.length;\n",
       "\n",
       "    function on_load() {\n",
       "      root._bokeh_is_loading--;\n",
       "      if (root._bokeh_is_loading === 0) {\n",
       "        console.debug(\"Bokeh: all BokehJS libraries/stylesheets loaded\");\n",
       "        run_callbacks()\n",
       "      }\n",
       "    }\n",
       "\n",
       "    function on_error() {\n",
       "      console.error(\"failed to load \" + url);\n",
       "    }\n",
       "\n",
       "    for (var i = 0; i < css_urls.length; i++) {\n",
       "      var url = css_urls[i];\n",
       "      const element = document.createElement(\"link\");\n",
       "      element.onload = on_load;\n",
       "      element.onerror = on_error;\n",
       "      element.rel = \"stylesheet\";\n",
       "      element.type = \"text/css\";\n",
       "      element.href = url;\n",
       "      console.debug(\"Bokeh: injecting link tag for BokehJS stylesheet: \", url);\n",
       "      document.body.appendChild(element);\n",
       "    }\n",
       "\n",
       "    for (var i = 0; i < js_urls.length; i++) {\n",
       "      var url = js_urls[i];\n",
       "      var element = document.createElement('script');\n",
       "      element.onload = on_load;\n",
       "      element.onerror = on_error;\n",
       "      element.async = false;\n",
       "      element.src = url;\n",
       "      console.debug(\"Bokeh: injecting script tag for BokehJS library: \", url);\n",
       "      document.head.appendChild(element);\n",
       "    }\n",
       "  };var element = document.getElementById(\"1001\");\n",
       "  if (element == null) {\n",
       "    console.error(\"Bokeh: ERROR: autoload.js configured with elementid '1001' but no matching script tag was found. \")\n",
       "    return false;\n",
       "  }\n",
       "\n",
       "  function inject_raw_css(css) {\n",
       "    const element = document.createElement(\"style\");\n",
       "    element.appendChild(document.createTextNode(css));\n",
       "    document.body.appendChild(element);\n",
       "  }\n",
       "\n",
       "  var js_urls = [\"https://cdn.pydata.org/bokeh/release/bokeh-1.3.4.min.js\", \"https://cdn.pydata.org/bokeh/release/bokeh-widgets-1.3.4.min.js\", \"https://cdn.pydata.org/bokeh/release/bokeh-tables-1.3.4.min.js\", \"https://cdn.pydata.org/bokeh/release/bokeh-gl-1.3.4.min.js\"];\n",
       "  var css_urls = [];\n",
       "\n",
       "  var inline_js = [\n",
       "    function(Bokeh) {\n",
       "      Bokeh.set_log_level(\"info\");\n",
       "    },\n",
       "    \n",
       "    function(Bokeh) {\n",
       "      \n",
       "    },\n",
       "    function(Bokeh) {} // ensure no trailing comma for IE\n",
       "  ];\n",
       "\n",
       "  function run_inline_js() {\n",
       "    \n",
       "    if ((root.Bokeh !== undefined) || (force === true)) {\n",
       "      for (var i = 0; i < inline_js.length; i++) {\n",
       "        inline_js[i].call(root, root.Bokeh);\n",
       "      }if (force === true) {\n",
       "        display_loaded();\n",
       "      }} else if (Date.now() < root._bokeh_timeout) {\n",
       "      setTimeout(run_inline_js, 100);\n",
       "    } else if (!root._bokeh_failed_load) {\n",
       "      console.log(\"Bokeh: BokehJS failed to load within specified timeout.\");\n",
       "      root._bokeh_failed_load = true;\n",
       "    } else if (force !== true) {\n",
       "      var cell = $(document.getElementById(\"1001\")).parents('.cell').data().cell;\n",
       "      cell.output_area.append_execute_result(NB_LOAD_WARNING)\n",
       "    }\n",
       "\n",
       "  }\n",
       "\n",
       "  if (root._bokeh_is_loading === 0) {\n",
       "    console.debug(\"Bokeh: BokehJS loaded, going straight to plotting\");\n",
       "    run_inline_js();\n",
       "  } else {\n",
       "    load_libs(css_urls, js_urls, function() {\n",
       "      console.debug(\"Bokeh: BokehJS plotting callback run at\", now());\n",
       "      run_inline_js();\n",
       "    });\n",
       "  }\n",
       "}(window));"
      ],
      "application/vnd.bokehjs_load.v0+json": "\n(function(root) {\n  function now() {\n    return new Date();\n  }\n\n  var force = true;\n\n  if (typeof root._bokeh_onload_callbacks === \"undefined\" || force === true) {\n    root._bokeh_onload_callbacks = [];\n    root._bokeh_is_loading = undefined;\n  }\n\n  \n\n  \n  if (typeof (root._bokeh_timeout) === \"undefined\" || force === true) {\n    root._bokeh_timeout = Date.now() + 5000;\n    root._bokeh_failed_load = false;\n  }\n\n  var NB_LOAD_WARNING = {'data': {'text/html':\n     \"<div style='background-color: #fdd'>\\n\"+\n     \"<p>\\n\"+\n     \"BokehJS does not appear to have successfully loaded. If loading BokehJS from CDN, this \\n\"+\n     \"may be due to a slow or bad network connection. Possible fixes:\\n\"+\n     \"</p>\\n\"+\n     \"<ul>\\n\"+\n     \"<li>re-rerun `output_notebook()` to attempt to load from CDN again, or</li>\\n\"+\n     \"<li>use INLINE resources instead, as so:</li>\\n\"+\n     \"</ul>\\n\"+\n     \"<code>\\n\"+\n     \"from bokeh.resources import INLINE\\n\"+\n     \"output_notebook(resources=INLINE)\\n\"+\n     \"</code>\\n\"+\n     \"</div>\"}};\n\n  function display_loaded() {\n    var el = document.getElementById(\"1001\");\n    if (el != null) {\n      el.textContent = \"BokehJS is loading...\";\n    }\n    if (root.Bokeh !== undefined) {\n      if (el != null) {\n        el.textContent = \"BokehJS \" + root.Bokeh.version + \" successfully loaded.\";\n      }\n    } else if (Date.now() < root._bokeh_timeout) {\n      setTimeout(display_loaded, 100)\n    }\n  }\n\n\n  function run_callbacks() {\n    try {\n      root._bokeh_onload_callbacks.forEach(function(callback) {\n        if (callback != null)\n          callback();\n      });\n    } finally {\n      delete root._bokeh_onload_callbacks\n    }\n    console.debug(\"Bokeh: all callbacks have finished\");\n  }\n\n  function load_libs(css_urls, js_urls, callback) {\n    if (css_urls == null) css_urls = [];\n    if (js_urls == null) js_urls = [];\n\n    root._bokeh_onload_callbacks.push(callback);\n    if (root._bokeh_is_loading > 0) {\n      console.debug(\"Bokeh: BokehJS is being loaded, scheduling callback at\", now());\n      return null;\n    }\n    if (js_urls == null || js_urls.length === 0) {\n      run_callbacks();\n      return null;\n    }\n    console.debug(\"Bokeh: BokehJS not loaded, scheduling load and callback at\", now());\n    root._bokeh_is_loading = css_urls.length + js_urls.length;\n\n    function on_load() {\n      root._bokeh_is_loading--;\n      if (root._bokeh_is_loading === 0) {\n        console.debug(\"Bokeh: all BokehJS libraries/stylesheets loaded\");\n        run_callbacks()\n      }\n    }\n\n    function on_error() {\n      console.error(\"failed to load \" + url);\n    }\n\n    for (var i = 0; i < css_urls.length; i++) {\n      var url = css_urls[i];\n      const element = document.createElement(\"link\");\n      element.onload = on_load;\n      element.onerror = on_error;\n      element.rel = \"stylesheet\";\n      element.type = \"text/css\";\n      element.href = url;\n      console.debug(\"Bokeh: injecting link tag for BokehJS stylesheet: \", url);\n      document.body.appendChild(element);\n    }\n\n    for (var i = 0; i < js_urls.length; i++) {\n      var url = js_urls[i];\n      var element = document.createElement('script');\n      element.onload = on_load;\n      element.onerror = on_error;\n      element.async = false;\n      element.src = url;\n      console.debug(\"Bokeh: injecting script tag for BokehJS library: \", url);\n      document.head.appendChild(element);\n    }\n  };var element = document.getElementById(\"1001\");\n  if (element == null) {\n    console.error(\"Bokeh: ERROR: autoload.js configured with elementid '1001' but no matching script tag was found. \")\n    return false;\n  }\n\n  function inject_raw_css(css) {\n    const element = document.createElement(\"style\");\n    element.appendChild(document.createTextNode(css));\n    document.body.appendChild(element);\n  }\n\n  var js_urls = [\"https://cdn.pydata.org/bokeh/release/bokeh-1.3.4.min.js\", \"https://cdn.pydata.org/bokeh/release/bokeh-widgets-1.3.4.min.js\", \"https://cdn.pydata.org/bokeh/release/bokeh-tables-1.3.4.min.js\", \"https://cdn.pydata.org/bokeh/release/bokeh-gl-1.3.4.min.js\"];\n  var css_urls = [];\n\n  var inline_js = [\n    function(Bokeh) {\n      Bokeh.set_log_level(\"info\");\n    },\n    \n    function(Bokeh) {\n      \n    },\n    function(Bokeh) {} // ensure no trailing comma for IE\n  ];\n\n  function run_inline_js() {\n    \n    if ((root.Bokeh !== undefined) || (force === true)) {\n      for (var i = 0; i < inline_js.length; i++) {\n        inline_js[i].call(root, root.Bokeh);\n      }if (force === true) {\n        display_loaded();\n      }} else if (Date.now() < root._bokeh_timeout) {\n      setTimeout(run_inline_js, 100);\n    } else if (!root._bokeh_failed_load) {\n      console.log(\"Bokeh: BokehJS failed to load within specified timeout.\");\n      root._bokeh_failed_load = true;\n    } else if (force !== true) {\n      var cell = $(document.getElementById(\"1001\")).parents('.cell').data().cell;\n      cell.output_area.append_execute_result(NB_LOAD_WARNING)\n    }\n\n  }\n\n  if (root._bokeh_is_loading === 0) {\n    console.debug(\"Bokeh: BokehJS loaded, going straight to plotting\");\n    run_inline_js();\n  } else {\n    load_libs(css_urls, js_urls, function() {\n      console.debug(\"Bokeh: BokehJS plotting callback run at\", now());\n      run_inline_js();\n    });\n  }\n}(window));"
     },
     "metadata": {},
     "output_type": "display_data"
    }
   ],
   "source": [
    "import sys\n",
    "sys.path.append(\"../../\")\n",
    "from data.Frame import Frame\n",
    "from bk import show_weighted_average, show_group_total, get_pandas_dataframe, line_chart, scatter_plot\n",
    "from bokeh.io import output_notebook\n",
    "from bokeh.plotting import figure, output_file, show, reset_output\n",
    "from sources.unpd.indicators import get_projection_by_groups as gpp\n",
    "from sources.cdp.indicators import get_indicators as get_indicators_cdp_2018\n",
    "from sources.worldbank.datatable import get_data_table as get_wb_tb\n",
    "reset_output()\n",
    "output_notebook()"
   ]
  },
  {
   "cell_type": "markdown",
   "metadata": {
    "slideshow": {
     "slide_type": "slide"
    }
   },
   "source": [
    "# Human and Social development in the LDCs"
   ]
  },
  {
   "cell_type": "markdown",
   "metadata": {
    "slideshow": {
     "slide_type": "slide"
    }
   },
   "source": [
    "# The Least Developed Countries\n",
    "\n",
    "+ The category of the least developed countries was created in 1971\n",
    "\n",
    "+ Least developed countries (LDCs) are low-income countries confronting severe structural impediments to sustainable development. They are highly vulnerable to economic and environmental shocks and have low levels of human assets.\n"
   ]
  },
  {
   "cell_type": "markdown",
   "metadata": {
    "slideshow": {
     "slide_type": "slide"
    }
   },
   "source": [
    "Least developed countries (LDCs) are **low-income countries** confronting severe **structural** impediments to sustainable development. They are highly **vulnerable to economic and environmental shocks** and have **low levels of human assets**."
   ]
  },
  {
   "cell_type": "markdown",
   "metadata": {
    "slideshow": {
     "slide_type": "slide"
    }
   },
   "source": [
    "## The criteria to dentify LDCs\n",
    "The Committee for Development Policy has established three criteria for including and graduating countries from the category:\n",
    "    \n",
    "### The Economic Vulnerability Index (EVI)\n",
    "    \n",
    "### The Human Assets Index (HAI)\n",
    "\n",
    "### GNI per capita"
   ]
  },
  {
   "cell_type": "code",
   "execution_count": 2,
   "metadata": {
    "ExecuteTime": {
     "end_time": "2019-10-25T14:23:46.674809Z",
     "start_time": "2019-10-25T14:23:46.484107Z"
    },
    "slideshow": {
     "slide_type": "skip"
    }
   },
   "outputs": [],
   "source": [
    "cdp_data_2018 = get_indicators_cdp_2018(['LDCs'])\n",
    "entities = cdp_data_2018.get_column('entity').get_as_array()\n",
    "evi = cdp_data_2018.get_column('evi').get_as_array()\n",
    "hai = cdp_data_2018.get_column('hai').get_as_array()\n",
    "gni = cdp_data_2018.get_column('gni_per_capita_dollars').get_as_array()\n",
    "gni_normalized = [(x / sum(gni))*30 for x in gni]"
   ]
  },
  {
   "cell_type": "code",
   "execution_count": 3,
   "metadata": {
    "ExecuteTime": {
     "end_time": "2019-10-25T14:23:46.713931Z",
     "start_time": "2019-10-25T14:23:46.677516Z"
    },
    "slideshow": {
     "slide_type": "slide"
    }
   },
   "outputs": [
    {
     "data": {
      "text/html": [
       "\n",
       "\n",
       "\n",
       "\n",
       "\n",
       "\n",
       "  <div class=\"bk-root\" id=\"77813f2c-079f-43e4-9311-d56728ab5c38\" data-root-id=\"1004\"></div>\n"
      ]
     },
     "metadata": {},
     "output_type": "display_data"
    },
    {
     "data": {
      "application/javascript": [
       "(function(root) {\n",
       "  function embed_document(root) {\n",
       "    \n",
       "  var docs_json = {\"279ea4fb-5390-46b6-8825-cfcdbae7b4c4\":{\"roots\":{\"references\":[{\"attributes\":{\"below\":[{\"id\":\"1015\",\"type\":\"LinearAxis\"}],\"center\":[{\"id\":\"1019\",\"type\":\"Grid\"},{\"id\":\"1024\",\"type\":\"Grid\"},{\"id\":\"1033\",\"type\":\"LabelSet\"}],\"left\":[{\"id\":\"1020\",\"type\":\"LinearAxis\"}],\"plot_width\":950,\"renderers\":[{\"id\":\"1031\",\"type\":\"GlyphRenderer\"}],\"title\":{\"id\":\"1005\",\"type\":\"Title\"},\"toolbar\":{\"id\":\"1026\",\"type\":\"Toolbar\"},\"x_range\":{\"id\":\"1007\",\"type\":\"DataRange1d\"},\"x_scale\":{\"id\":\"1011\",\"type\":\"LinearScale\"},\"y_range\":{\"id\":\"1009\",\"type\":\"DataRange1d\"},\"y_scale\":{\"id\":\"1013\",\"type\":\"LinearScale\"}},\"id\":\"1004\",\"subtype\":\"Figure\",\"type\":\"Plot\"},{\"attributes\":{\"callback\":null},\"id\":\"1007\",\"type\":\"DataRange1d\"},{\"attributes\":{},\"id\":\"1011\",\"type\":\"LinearScale\"},{\"attributes\":{},\"id\":\"1036\",\"type\":\"BasicTickFormatter\"},{\"attributes\":{\"callback\":null},\"id\":\"1009\",\"type\":\"DataRange1d\"},{\"attributes\":{},\"id\":\"1013\",\"type\":\"LinearScale\"},{\"attributes\":{\"axis_label\":\"EVI\",\"formatter\":{\"id\":\"1038\",\"type\":\"BasicTickFormatter\"},\"ticker\":{\"id\":\"1016\",\"type\":\"BasicTicker\"}},\"id\":\"1015\",\"type\":\"LinearAxis\"},{\"attributes\":{\"callback\":null},\"id\":\"1025\",\"type\":\"HoverTool\"},{\"attributes\":{\"data_source\":{\"id\":\"1003\",\"type\":\"ColumnDataSource\"},\"glyph\":{\"id\":\"1029\",\"type\":\"Circle\"},\"hover_glyph\":null,\"muted_glyph\":null,\"nonselection_glyph\":{\"id\":\"1030\",\"type\":\"Circle\"},\"selection_glyph\":null,\"view\":{\"id\":\"1032\",\"type\":\"CDSView\"}},\"id\":\"1031\",\"type\":\"GlyphRenderer\"},{\"attributes\":{\"fill_alpha\":{\"value\":0.1},\"fill_color\":{\"value\":\"#1f77b4\"},\"line_alpha\":{\"value\":0.1},\"line_color\":{\"value\":\"#1f77b4\"},\"radius\":{\"field\":\"radii\",\"units\":\"data\"},\"x\":{\"field\":\"evi\"},\"y\":{\"field\":\"hai\"}},\"id\":\"1030\",\"type\":\"Circle\"},{\"attributes\":{\"text\":\"HAI vs EVI\"},\"id\":\"1005\",\"type\":\"Title\"},{\"attributes\":{\"callback\":null,\"data\":{\"evi\":[39.31847499761291,36.757499031522215,25.21977531407407,34.32843983867595,36.26105903025079,38.24968188294886,44.53840537420615,34.75933730781097,33.55527518528004,52.43229442971872,52.38395723067039,27.237133266314615,36.329678101824925,54.70608523319488,32.09573717926084,72.15168677316157,30.163203421036275,52.38566801102522,30.553838443774744,73.69258065327526,42.02234466093909,53.203575960114186,37.845308176229935,47.1236284854542,36.7941622313397,39.91252075695854,36.7237686236129,31.7432961328469,28.422642129717293,35.255239686720145,36.377946784929456,41.23100272969866,33.44246330286905,51.563062215984765,51.90755365345187,34.725685139794926,49.214096687726894,56.79572845959256,28.338132621668773,56.01606076954609,31.718809204036635,27.90609781167721,46.9962786557694,38.63576320999087,40.46026103469391],\"hai\":[48.3698405313323,52.52043657551618,73.15064266822495,49.75421277291333,72.86608884522367,42.91698654581399,38.4582473052599,68.92528304696823,17.37091156051442,22.085484315685715,49.385256569573,41.87232303636952,58.02908229893985,42.893055780999646,45.30853361262692,51.82920387983884,39.48893995074097,41.716252662688056,47.97415181855695,83.96679690389746,61.572583924694506,37.23070426579468,54.53329453168444,52.522138892622166,43.106314630459046,46.940261858442696,45.8152514338928,68.47497037955749,71.21981923337259,35.374052152796644,54.97246497703989,86.00679852404463,57.12957161797068,27.395916767676766,74.78849047963382,16.65507946932967,53.03509118236097,66.63143020458574,61.82618003109269,90.13457842056366,50.23906690599287,56.02779180814835,78.51943490439294,59.22749709179137,58.594410552318735],\"names\":[\"Afghanistan\",\"Angola\",\"Bangladesh\",\"Benin\",\"Bhutan\",\"Burkina Faso\",\"Burundi\",\"Cambodia\",\"Central African Republic\",\"Chad\",\"Comoros\",\"Democratic Republic of the Congo\",\"Djibouti\",\"Eritrea\",\"Ethiopia\",\"Gambia\",\"Guinea\",\"Guinea-Bissau\",\"Haiti\",\"Kiribati\",\"Lesotho\",\"Liberia\",\"Madagascar\",\"Malawi\",\"Mali\",\"Mauritania\",\"Mozambique\",\"Myanmar\",\"Nepal\",\"Niger\",\"Rwanda\",\"Sao Tome and Principe\",\"Senegal\",\"Sierra Leone\",\"Solomon Islands\",\"Somalia\",\"Sudan\",\"Timor-Leste\",\"Togo\",\"Tuvalu\",\"Uganda\",\"United Republic of Tanzania\",\"Vanuatu\",\"Yemen\",\"Zambia\"],\"radii\":[0.3486056940032576,2.4668524266042016,0.7020447947937721,0.48602223509185105,1.3228778144086932,0.3545063770828273,0.1439906217703531,0.5921658071844065,0.2039025303122942,0.5072539150463391,0.8788819521470623,0.26478852194206287,1.0434896028654765,0.4748310823991456,0.3550084704511006,0.247446969190501,0.37373691067035597,0.32794088514739334,0.44869169499991846,1.6454751810450026,0.7143690867404829,0.23730867258431165,0.2677231781905875,0.18263121659249557,0.441142763699007,0.6775521275707559,0.3108420352212877,0.6914928152526487,0.41032077914907744,0.2166245207324081,0.3895316490963874,0.9279304402907724,0.5532615213153896,0.32073284585082373,0.9714956147211605,0.052410075653960046,0.8001174040745556,1.4634728916821294,0.3057813583848219,2.9686806171600546,0.3643815661228828,0.49688045527581914,1.6609010705734226,0.5258532451564529,0.8600485617522887]},\"selected\":{\"id\":\"1040\",\"type\":\"Selection\"},\"selection_policy\":{\"id\":\"1041\",\"type\":\"UnionRenderers\"}},\"id\":\"1003\",\"type\":\"ColumnDataSource\"},{\"attributes\":{},\"id\":\"1038\",\"type\":\"BasicTickFormatter\"},{\"attributes\":{},\"id\":\"1016\",\"type\":\"BasicTicker\"},{\"attributes\":{\"active_drag\":\"auto\",\"active_inspect\":\"auto\",\"active_multi\":null,\"active_scroll\":\"auto\",\"active_tap\":\"auto\",\"tools\":[{\"id\":\"1025\",\"type\":\"HoverTool\"}]},\"id\":\"1026\",\"type\":\"Toolbar\"},{\"attributes\":{\"fill_alpha\":{\"value\":0.6},\"fill_color\":{\"value\":\"#1f77b4\"},\"line_color\":{\"value\":null},\"radius\":{\"field\":\"radii\",\"units\":\"data\"},\"x\":{\"field\":\"evi\"},\"y\":{\"field\":\"hai\"}},\"id\":\"1029\",\"type\":\"Circle\"},{\"attributes\":{\"ticker\":{\"id\":\"1016\",\"type\":\"BasicTicker\"}},\"id\":\"1019\",\"type\":\"Grid\"},{\"attributes\":{\"level\":\"glyph\",\"source\":{\"id\":\"1003\",\"type\":\"ColumnDataSource\"},\"text\":{\"field\":\"names\"},\"text_font_size\":{\"value\":\"8pt\"},\"x\":{\"field\":\"evi\"},\"x_offset\":{\"value\":5},\"y\":{\"field\":\"hai\"},\"y_offset\":{\"value\":5}},\"id\":\"1033\",\"type\":\"LabelSet\"},{\"attributes\":{\"axis_label\":\"HAI\",\"formatter\":{\"id\":\"1036\",\"type\":\"BasicTickFormatter\"},\"ticker\":{\"id\":\"1021\",\"type\":\"BasicTicker\"}},\"id\":\"1020\",\"type\":\"LinearAxis\"},{\"attributes\":{\"source\":{\"id\":\"1003\",\"type\":\"ColumnDataSource\"}},\"id\":\"1032\",\"type\":\"CDSView\"},{\"attributes\":{},\"id\":\"1040\",\"type\":\"Selection\"},{\"attributes\":{},\"id\":\"1041\",\"type\":\"UnionRenderers\"},{\"attributes\":{},\"id\":\"1021\",\"type\":\"BasicTicker\"},{\"attributes\":{\"dimension\":1,\"ticker\":{\"id\":\"1021\",\"type\":\"BasicTicker\"}},\"id\":\"1024\",\"type\":\"Grid\"}],\"root_ids\":[\"1004\"]},\"title\":\"Bokeh Application\",\"version\":\"1.3.4\"}};\n",
       "  var render_items = [{\"docid\":\"279ea4fb-5390-46b6-8825-cfcdbae7b4c4\",\"roots\":{\"1004\":\"77813f2c-079f-43e4-9311-d56728ab5c38\"}}];\n",
       "  root.Bokeh.embed.embed_items_notebook(docs_json, render_items);\n",
       "\n",
       "  }\n",
       "  if (root.Bokeh !== undefined) {\n",
       "    embed_document(root);\n",
       "  } else {\n",
       "    var attempts = 0;\n",
       "    var timer = setInterval(function(root) {\n",
       "      if (root.Bokeh !== undefined) {\n",
       "        embed_document(root);\n",
       "        clearInterval(timer);\n",
       "      }\n",
       "      attempts++;\n",
       "      if (attempts > 100) {\n",
       "        console.log(\"Bokeh: ERROR: Unable to run BokehJS code because BokehJS library is missing\");\n",
       "        clearInterval(timer);\n",
       "      }\n",
       "    }, 10, root)\n",
       "  }\n",
       "})(window);"
      ],
      "application/vnd.bokehjs_exec.v0+json": ""
     },
     "metadata": {
      "application/vnd.bokehjs_exec.v0+json": {
       "id": "1004"
      }
     },
     "output_type": "display_data"
    }
   ],
   "source": [
    "p = scatter_plot(evi, hai, gni_normalized, entities)\n",
    "show(p)"
   ]
  },
  {
   "cell_type": "markdown",
   "metadata": {
    "slideshow": {
     "slide_type": "slide"
    }
   },
   "source": [
    "# The Istanbul Programme of Action"
   ]
  },
  {
   "cell_type": "markdown",
   "metadata": {
    "ExecuteTime": {
     "end_time": "2019-10-23T16:34:47.577716Z",
     "start_time": "2019-10-23T16:34:47.551207Z"
    },
    "slideshow": {
     "slide_type": "slide"
    }
   },
   "source": [
    "# Objectives"
   ]
  },
  {
   "cell_type": "markdown",
   "metadata": {
    "slideshow": {
     "slide_type": "slide"
    }
   },
   "source": [
    "27. The overarching goal of the Programme of Action for the decade 2011-2020 is to overcome the structural challenges faced by the least developed countries in order to eradicate poverty, achieve internationally agreed development goals and enable graduation from the least developed country category.\n",
    "\n"
   ]
  },
  {
   "cell_type": "markdown",
   "metadata": {
    "slideshow": {
     "slide_type": "slide"
    }
   },
   "source": [
    "28. Guided by the overarching goal, national policies of least developed countries and international support measures during the decade will focus on the following specific objectives with the aim of enabling half the number of least developed countries to meet the criteria for graduation by 2020:"
   ]
  },
  {
   "cell_type": "markdown",
   "metadata": {
    "slideshow": {
     "slide_type": "slide"
    }
   },
   "source": [
    "**(a)** Achieve sustained, equitable and inclusive economic growth in least developed countries, to at least the level of 7 per cent per annum, by strengthening their productive capacity in all sectors through structural transformation and overcoming their marginalization through their effective integration into the global economy, including through regional integration;"
   ]
  },
  {
   "cell_type": "markdown",
   "metadata": {
    "slideshow": {
     "slide_type": "slide"
    }
   },
   "source": [
    "**(b) Build human capacities by fostering sustained, equitable and inclusive human and social development, gender equality and the empowerment of women;**"
   ]
  },
  {
   "cell_type": "markdown",
   "metadata": {
    "slideshow": {
     "slide_type": "slide"
    }
   },
   "source": [
    "**(c)** Reduce the **vulnerability** of least developed countries to economic, natural and environmental shocks and disasters, as well as climate change, and enhance their ability to meet these and other challenges through strengthening their resilience;"
   ]
  },
  {
   "cell_type": "markdown",
   "metadata": {
    "slideshow": {
     "slide_type": "slide"
    }
   },
   "source": [
    "**(d)** Ensure enhanced financial resources and their effective use for least developed countries’ development, including through domestic resource mobilization, ODA, external debt relief, foreign direct investment and remittances;"
   ]
  },
  {
   "cell_type": "markdown",
   "metadata": {
    "slideshow": {
     "slide_type": "slide"
    }
   },
   "source": [
    "**(e)** Enhance good governance at all levels, by strengthening democratic processes, institutions and the rule of law; increasing efficiency, coherence, transparency and participation; protecting and promoting human rights; and reducing corruption, and strengthen least developed country Governments’ capacity to play an effective role in their economic and social development."
   ]
  },
  {
   "cell_type": "markdown",
   "metadata": {
    "slideshow": {
     "slide_type": "slide"
    }
   },
   "source": [
    "# IV. Priority areas for action\n",
    "\n",
    "43. The actions will be organized by priority areas as:\n",
    "\n",
    "A. Productive capacity\n",
    "\n",
    "B. Agriculture, food security and rural development\n",
    "\n",
    "C. Trade\n",
    "\n",
    "D. Commodities\n",
    "\n",
    "**E. Human and social development**\n",
    "\n",
    "F. Multiple crises and other emerging challenges ▪Economic shocks\n",
    "\n",
    "H. Good governance at all levels"
   ]
  },
  {
   "cell_type": "markdown",
   "metadata": {
    "slideshow": {
     "slide_type": "slide"
    }
   },
   "source": [
    "# E. Human and social development\n",
    "\n",
    "+ Education and training\n",
    "\n",
    "+ Population and primary health\n",
    "\n",
    "+ Youth development\n",
    "\n",
    "+ Shelter\n",
    "\n",
    "+ Water and sanitation\n",
    "\n",
    "+ Gender equality and empowerment of women \n",
    "\n",
    "+ Social protection"
   ]
  },
  {
   "cell_type": "markdown",
   "metadata": {
    "slideshow": {
     "slide_type": "slide"
    }
   },
   "source": [
    "# Population and primary health"
   ]
  },
  {
   "cell_type": "code",
   "execution_count": 4,
   "metadata": {
    "ExecuteTime": {
     "end_time": "2019-10-25T14:23:47.479465Z",
     "start_time": "2019-10-25T14:23:46.720219Z"
    },
    "slideshow": {
     "slide_type": "slide"
    }
   },
   "outputs": [
    {
     "data": {
      "text/html": [
       "\n",
       "\n",
       "\n",
       "\n",
       "\n",
       "\n",
       "  <div class=\"bk-root\" id=\"a09de787-9965-4a08-9e87-da9bc87ba769\" data-root-id=\"1084\"></div>\n"
      ]
     },
     "metadata": {},
     "output_type": "display_data"
    },
    {
     "data": {
      "application/javascript": [
       "(function(root) {\n",
       "  function embed_document(root) {\n",
       "    \n",
       "  var docs_json = {\"3911e7b0-de92-42c3-a3e2-cdfc218fea98\":{\"roots\":{\"references\":[{\"attributes\":{\"below\":[{\"id\":\"1095\",\"type\":\"LinearAxis\"}],\"center\":[{\"id\":\"1099\",\"type\":\"Grid\"},{\"id\":\"1104\",\"type\":\"Grid\"},{\"id\":\"1129\",\"type\":\"Legend\"}],\"left\":[{\"id\":\"1100\",\"type\":\"LinearAxis\"}],\"plot_height\":400,\"plot_width\":900,\"renderers\":[{\"id\":\"1121\",\"type\":\"GlyphRenderer\"},{\"id\":\"1134\",\"type\":\"GlyphRenderer\"}],\"title\":{\"id\":\"1085\",\"type\":\"Title\"},\"toolbar\":{\"id\":\"1111\",\"type\":\"Toolbar\"},\"x_range\":{\"id\":\"1087\",\"type\":\"DataRange1d\"},\"x_scale\":{\"id\":\"1091\",\"type\":\"LinearScale\"},\"y_range\":{\"id\":\"1089\",\"type\":\"DataRange1d\"},\"y_scale\":{\"id\":\"1093\",\"type\":\"LinearScale\"}},\"id\":\"1084\",\"subtype\":\"Figure\",\"type\":\"Plot\"},{\"attributes\":{\"axis_label\":\"SP.POP.TOTL\",\"formatter\":{\"id\":\"1124\",\"type\":\"BasicTickFormatter\"},\"ticker\":{\"id\":\"1101\",\"type\":\"BasicTicker\"}},\"id\":\"1100\",\"type\":\"LinearAxis\"},{\"attributes\":{\"bottom_units\":\"screen\",\"fill_alpha\":{\"value\":0.5},\"fill_color\":{\"value\":\"lightgrey\"},\"left_units\":\"screen\",\"level\":\"overlay\",\"line_alpha\":{\"value\":1.0},\"line_color\":{\"value\":\"black\"},\"line_dash\":[4,4],\"line_width\":{\"value\":2},\"render_mode\":\"css\",\"right_units\":\"screen\",\"top_units\":\"screen\"},\"id\":\"1128\",\"type\":\"BoxAnnotation\"},{\"attributes\":{},\"id\":\"1101\",\"type\":\"BasicTicker\"},{\"attributes\":{\"label\":{\"value\":\"LDCs\"},\"renderers\":[{\"id\":\"1121\",\"type\":\"GlyphRenderer\"}]},\"id\":\"1130\",\"type\":\"LegendItem\"},{\"attributes\":{\"dimension\":1,\"grid_line_alpha\":0.5,\"ticker\":{\"id\":\"1101\",\"type\":\"BasicTicker\"}},\"id\":\"1104\",\"type\":\"Grid\"},{\"attributes\":{\"callback\":null,\"data\":{\"x\":[\"1960\",\"1961\",\"1962\",\"1963\",\"1964\",\"1965\",\"1966\",\"1967\",\"1968\",\"1969\",\"1970\",\"1971\",\"1972\",\"1973\",\"1974\",\"1975\",\"1976\",\"1977\",\"1978\",\"1979\",\"1980\",\"1981\",\"1982\",\"1983\",\"1984\",\"1985\",\"1986\",\"1987\",\"1988\",\"1989\",\"1990\",\"1991\",\"1992\",\"1993\",\"1994\",\"1995\",\"1996\",\"1997\",\"1998\",\"1999\",\"2000\",\"2001\",\"2002\",\"2003\",\"2004\",\"2005\",\"2006\",\"2007\",\"2008\",\"2009\",\"2010\",\"2011\",\"2012\",\"2013\",\"2014\",\"2015\",\"2016\",\"2017\"],\"y\":[240518433.0,246113640.0,251900741.0,257908074.0,264174179.0,270720892.0,277573029.0,284708409.0,292045744.0,299473256.0,306916896.0,314344629.0,321797581.0,329357353.0,337142681.0,345242710.0,353691338.0,362475112.0,371577256.0,380963304.0,390612563.0,400528924.0,410740611.0,421279107.0,432185325.0,443491288.0,455193656.0,467290514.0,479814021.0,492803028.0,506275612.0,520262423.0,534731006.0,549559264.0,564581083.0,579681672.0,594801259.0,609983301.0,625342098.0,641046802.0,657215864.0,673903112.0,691061397.0,708587948.0,726331177.0,744190510.0,762132501.0,780219542.0,798563392.0,817322629.0,836614860.0,856472234.0,873619764.0,894516028.0,915914952.0,937788499.0,960134718.0,982952189.0]},\"selected\":{\"id\":\"1153\",\"type\":\"Selection\"},\"selection_policy\":{\"id\":\"1154\",\"type\":\"UnionRenderers\"}},\"id\":\"1131\",\"type\":\"ColumnDataSource\"},{\"attributes\":{\"line_color\":\"#FA1857\",\"x\":{\"field\":\"x\"},\"y\":{\"field\":\"y\"}},\"id\":\"1119\",\"type\":\"Line\"},{\"attributes\":{\"fill_color\":{\"value\":\"#FA1857\"},\"line_color\":{\"value\":\"#FA1857\"},\"line_width\":{\"value\":3},\"x\":{\"field\":\"x\"},\"y\":{\"field\":\"y\"}},\"id\":\"1132\",\"type\":\"Circle\"},{\"attributes\":{\"callback\":null,\"data\":{\"x\":[\"1960\",\"1961\",\"1962\",\"1963\",\"1964\",\"1965\",\"1966\",\"1967\",\"1968\",\"1969\",\"1970\",\"1971\",\"1972\",\"1973\",\"1974\",\"1975\",\"1976\",\"1977\",\"1978\",\"1979\",\"1980\",\"1981\",\"1982\",\"1983\",\"1984\",\"1985\",\"1986\",\"1987\",\"1988\",\"1989\",\"1990\",\"1991\",\"1992\",\"1993\",\"1994\",\"1995\",\"1996\",\"1997\",\"1998\",\"1999\",\"2000\",\"2001\",\"2002\",\"2003\",\"2004\",\"2005\",\"2006\",\"2007\",\"2008\",\"2009\",\"2010\",\"2011\",\"2012\",\"2013\",\"2014\",\"2015\",\"2016\",\"2017\"],\"y\":[240518433.0,246113640.0,251900741.0,257908074.0,264174179.0,270720892.0,277573029.0,284708409.0,292045744.0,299473256.0,306916896.0,314344629.0,321797581.0,329357353.0,337142681.0,345242710.0,353691338.0,362475112.0,371577256.0,380963304.0,390612563.0,400528924.0,410740611.0,421279107.0,432185325.0,443491288.0,455193656.0,467290514.0,479814021.0,492803028.0,506275612.0,520262423.0,534731006.0,549559264.0,564581083.0,579681672.0,594801259.0,609983301.0,625342098.0,641046802.0,657215864.0,673903112.0,691061397.0,708587948.0,726331177.0,744190510.0,762132501.0,780219542.0,798563392.0,817322629.0,836614860.0,856472234.0,873619764.0,894516028.0,915914952.0,937788499.0,960134718.0,982952189.0]},\"selected\":{\"id\":\"1151\",\"type\":\"Selection\"},\"selection_policy\":{\"id\":\"1152\",\"type\":\"UnionRenderers\"}},\"id\":\"1118\",\"type\":\"ColumnDataSource\"},{\"attributes\":{\"callback\":null,\"tooltips\":\"                \\n        <div style=padding=5px>Year:@x</div>\\n        <div style=padding=5px>Value:@y</div>        \\n        \"},\"id\":\"1136\",\"type\":\"HoverTool\"},{\"attributes\":{\"fill_alpha\":{\"value\":0.1},\"fill_color\":{\"value\":\"#1f77b4\"},\"line_alpha\":{\"value\":0.1},\"line_color\":{\"value\":\"#1f77b4\"},\"line_width\":{\"value\":3},\"x\":{\"field\":\"x\"},\"y\":{\"field\":\"y\"}},\"id\":\"1133\",\"type\":\"Circle\"},{\"attributes\":{\"line_alpha\":0.1,\"line_color\":\"#1f77b4\",\"x\":{\"field\":\"x\"},\"y\":{\"field\":\"y\"}},\"id\":\"1120\",\"type\":\"Line\"},{\"attributes\":{},\"id\":\"1105\",\"type\":\"PanTool\"},{\"attributes\":{\"data_source\":{\"id\":\"1131\",\"type\":\"ColumnDataSource\"},\"glyph\":{\"id\":\"1132\",\"type\":\"Circle\"},\"hover_glyph\":null,\"muted_glyph\":null,\"nonselection_glyph\":{\"id\":\"1133\",\"type\":\"Circle\"},\"selection_glyph\":null,\"view\":{\"id\":\"1135\",\"type\":\"CDSView\"}},\"id\":\"1134\",\"type\":\"GlyphRenderer\"},{\"attributes\":{},\"id\":\"1106\",\"type\":\"WheelZoomTool\"},{\"attributes\":{\"source\":{\"id\":\"1131\",\"type\":\"ColumnDataSource\"}},\"id\":\"1135\",\"type\":\"CDSView\"},{\"attributes\":{\"overlay\":{\"id\":\"1128\",\"type\":\"BoxAnnotation\"}},\"id\":\"1107\",\"type\":\"BoxZoomTool\"},{\"attributes\":{},\"id\":\"1108\",\"type\":\"SaveTool\"},{\"attributes\":{},\"id\":\"1151\",\"type\":\"Selection\"},{\"attributes\":{},\"id\":\"1109\",\"type\":\"ResetTool\"},{\"attributes\":{\"text\":\"Population, total\"},\"id\":\"1085\",\"type\":\"Title\"},{\"attributes\":{},\"id\":\"1152\",\"type\":\"UnionRenderers\"},{\"attributes\":{},\"id\":\"1110\",\"type\":\"HelpTool\"},{\"attributes\":{\"callback\":null},\"id\":\"1087\",\"type\":\"DataRange1d\"},{\"attributes\":{},\"id\":\"1153\",\"type\":\"Selection\"},{\"attributes\":{\"active_drag\":\"auto\",\"active_inspect\":\"auto\",\"active_multi\":null,\"active_scroll\":\"auto\",\"active_tap\":\"auto\",\"tools\":[{\"id\":\"1105\",\"type\":\"PanTool\"},{\"id\":\"1106\",\"type\":\"WheelZoomTool\"},{\"id\":\"1107\",\"type\":\"BoxZoomTool\"},{\"id\":\"1108\",\"type\":\"SaveTool\"},{\"id\":\"1109\",\"type\":\"ResetTool\"},{\"id\":\"1110\",\"type\":\"HelpTool\"},{\"id\":\"1136\",\"type\":\"HoverTool\"}]},\"id\":\"1111\",\"type\":\"Toolbar\"},{\"attributes\":{\"callback\":null},\"id\":\"1089\",\"type\":\"DataRange1d\"},{\"attributes\":{\"items\":[{\"id\":\"1130\",\"type\":\"LegendItem\"}],\"location\":\"bottom_left\"},\"id\":\"1129\",\"type\":\"Legend\"},{\"attributes\":{},\"id\":\"1154\",\"type\":\"UnionRenderers\"},{\"attributes\":{},\"id\":\"1091\",\"type\":\"LinearScale\"},{\"attributes\":{\"data_source\":{\"id\":\"1118\",\"type\":\"ColumnDataSource\"},\"glyph\":{\"id\":\"1119\",\"type\":\"Line\"},\"hover_glyph\":null,\"muted_glyph\":null,\"nonselection_glyph\":{\"id\":\"1120\",\"type\":\"Line\"},\"selection_glyph\":null,\"view\":{\"id\":\"1122\",\"type\":\"CDSView\"}},\"id\":\"1121\",\"type\":\"GlyphRenderer\"},{\"attributes\":{},\"id\":\"1093\",\"type\":\"LinearScale\"},{\"attributes\":{\"source\":{\"id\":\"1118\",\"type\":\"ColumnDataSource\"}},\"id\":\"1122\",\"type\":\"CDSView\"},{\"attributes\":{\"axis_label\":\"Years\",\"formatter\":{\"id\":\"1126\",\"type\":\"BasicTickFormatter\"},\"ticker\":{\"id\":\"1096\",\"type\":\"BasicTicker\"}},\"id\":\"1095\",\"type\":\"LinearAxis\"},{\"attributes\":{},\"id\":\"1096\",\"type\":\"BasicTicker\"},{\"attributes\":{},\"id\":\"1124\",\"type\":\"BasicTickFormatter\"},{\"attributes\":{\"grid_line_color\":null,\"ticker\":{\"id\":\"1096\",\"type\":\"BasicTicker\"}},\"id\":\"1099\",\"type\":\"Grid\"},{\"attributes\":{},\"id\":\"1126\",\"type\":\"BasicTickFormatter\"}],\"root_ids\":[\"1084\"]},\"title\":\"Bokeh Application\",\"version\":\"1.3.4\"}};\n",
       "  var render_items = [{\"docid\":\"3911e7b0-de92-42c3-a3e2-cdfc218fea98\",\"roots\":{\"1084\":\"a09de787-9965-4a08-9e87-da9bc87ba769\"}}];\n",
       "  root.Bokeh.embed.embed_items_notebook(docs_json, render_items);\n",
       "\n",
       "  }\n",
       "  if (root.Bokeh !== undefined) {\n",
       "    embed_document(root);\n",
       "  } else {\n",
       "    var attempts = 0;\n",
       "    var timer = setInterval(function(root) {\n",
       "      if (root.Bokeh !== undefined) {\n",
       "        embed_document(root);\n",
       "        clearInterval(timer);\n",
       "      }\n",
       "      attempts++;\n",
       "      if (attempts > 100) {\n",
       "        console.log(\"Bokeh: ERROR: Unable to run BokehJS code because BokehJS library is missing\");\n",
       "        clearInterval(timer);\n",
       "      }\n",
       "    }, 10, root)\n",
       "  }\n",
       "})(window);"
      ],
      "application/vnd.bokehjs_exec.v0+json": ""
     },
     "metadata": {
      "application/vnd.bokehjs_exec.v0+json": {
       "id": "1084"
      }
     },
     "output_type": "display_data"
    }
   ],
   "source": [
    "years = list(map(str, list(range(1960,2018))))\n",
    "result = show_group_total(years, 'SP.POP.TOTL', ['LDCs'])"
   ]
  },
  {
   "cell_type": "code",
   "execution_count": 5,
   "metadata": {
    "ExecuteTime": {
     "end_time": "2019-10-25T14:23:48.553769Z",
     "start_time": "2019-10-25T14:23:47.482012Z"
    },
    "slideshow": {
     "slide_type": "slide"
    }
   },
   "outputs": [
    {
     "data": {
      "text/html": [
       "\n",
       "\n",
       "\n",
       "\n",
       "\n",
       "\n",
       "  <div class=\"bk-root\" id=\"e98f49bb-fbff-4e75-8e00-48c89e035e34\" data-root-id=\"1215\"></div>\n"
      ]
     },
     "metadata": {},
     "output_type": "display_data"
    },
    {
     "data": {
      "application/javascript": [
       "(function(root) {\n",
       "  function embed_document(root) {\n",
       "    \n",
       "  var docs_json = {\"5ec605b7-f263-4426-afca-170228292d52\":{\"roots\":{\"references\":[{\"attributes\":{\"below\":[{\"id\":\"1226\",\"type\":\"LinearAxis\"}],\"center\":[{\"id\":\"1230\",\"type\":\"Grid\"},{\"id\":\"1235\",\"type\":\"Grid\"},{\"id\":\"1260\",\"type\":\"Legend\"}],\"left\":[{\"id\":\"1231\",\"type\":\"LinearAxis\"}],\"plot_height\":400,\"plot_width\":1000,\"renderers\":[{\"id\":\"1252\",\"type\":\"GlyphRenderer\"},{\"id\":\"1265\",\"type\":\"GlyphRenderer\"},{\"id\":\"1270\",\"type\":\"GlyphRenderer\"},{\"id\":\"1286\",\"type\":\"GlyphRenderer\"},{\"id\":\"1291\",\"type\":\"GlyphRenderer\"},{\"id\":\"1311\",\"type\":\"GlyphRenderer\"}],\"title\":{\"id\":\"1216\",\"type\":\"Title\"},\"toolbar\":{\"id\":\"1242\",\"type\":\"Toolbar\"},\"x_range\":{\"id\":\"1218\",\"type\":\"DataRange1d\"},\"x_scale\":{\"id\":\"1222\",\"type\":\"LinearScale\"},\"y_range\":{\"id\":\"1220\",\"type\":\"DataRange1d\"},\"y_scale\":{\"id\":\"1224\",\"type\":\"LinearScale\"}},\"id\":\"1215\",\"subtype\":\"Figure\",\"type\":\"Plot\"},{\"attributes\":{},\"id\":\"1240\",\"type\":\"ResetTool\"},{\"attributes\":{},\"id\":\"1304\",\"type\":\"UnionRenderers\"},{\"attributes\":{\"data_source\":{\"id\":\"1267\",\"type\":\"ColumnDataSource\"},\"glyph\":{\"id\":\"1268\",\"type\":\"Line\"},\"hover_glyph\":null,\"muted_glyph\":null,\"nonselection_glyph\":{\"id\":\"1269\",\"type\":\"Line\"},\"selection_glyph\":null,\"view\":{\"id\":\"1271\",\"type\":\"CDSView\"}},\"id\":\"1270\",\"type\":\"GlyphRenderer\"},{\"attributes\":{},\"id\":\"1241\",\"type\":\"HelpTool\"},{\"attributes\":{},\"id\":\"1305\",\"type\":\"Selection\"},{\"attributes\":{\"source\":{\"id\":\"1267\",\"type\":\"ColumnDataSource\"}},\"id\":\"1271\",\"type\":\"CDSView\"},{\"attributes\":{},\"id\":\"1303\",\"type\":\"Selection\"},{\"attributes\":{\"callback\":null},\"id\":\"1218\",\"type\":\"DataRange1d\"},{\"attributes\":{\"active_drag\":\"auto\",\"active_inspect\":\"auto\",\"active_multi\":null,\"active_scroll\":\"auto\",\"active_tap\":\"auto\",\"tools\":[{\"id\":\"1236\",\"type\":\"PanTool\"},{\"id\":\"1237\",\"type\":\"WheelZoomTool\"},{\"id\":\"1238\",\"type\":\"BoxZoomTool\"},{\"id\":\"1239\",\"type\":\"SaveTool\"},{\"id\":\"1240\",\"type\":\"ResetTool\"},{\"id\":\"1241\",\"type\":\"HelpTool\"},{\"id\":\"1313\",\"type\":\"HoverTool\"}]},\"id\":\"1242\",\"type\":\"Toolbar\"},{\"attributes\":{},\"id\":\"1306\",\"type\":\"UnionRenderers\"},{\"attributes\":{},\"id\":\"1278\",\"type\":\"Selection\"},{\"attributes\":{\"line_alpha\":0.1,\"line_color\":\"#1f77b4\",\"x\":{\"field\":\"x\"},\"y\":{\"field\":\"y\"}},\"id\":\"1251\",\"type\":\"Line\"},{\"attributes\":{},\"id\":\"1227\",\"type\":\"BasicTicker\"},{\"attributes\":{\"label\":{\"value\":\"OECD\"},\"renderers\":[{\"id\":\"1291\",\"type\":\"GlyphRenderer\"}]},\"id\":\"1307\",\"type\":\"LegendItem\"},{\"attributes\":{},\"id\":\"1279\",\"type\":\"UnionRenderers\"},{\"attributes\":{},\"id\":\"1232\",\"type\":\"BasicTicker\"},{\"attributes\":{\"grid_line_color\":null,\"ticker\":{\"id\":\"1227\",\"type\":\"BasicTicker\"}},\"id\":\"1230\",\"type\":\"Grid\"},{\"attributes\":{\"data_source\":{\"id\":\"1249\",\"type\":\"ColumnDataSource\"},\"glyph\":{\"id\":\"1250\",\"type\":\"Line\"},\"hover_glyph\":null,\"muted_glyph\":null,\"nonselection_glyph\":{\"id\":\"1251\",\"type\":\"Line\"},\"selection_glyph\":null,\"view\":{\"id\":\"1253\",\"type\":\"CDSView\"}},\"id\":\"1252\",\"type\":\"GlyphRenderer\"},{\"attributes\":{},\"id\":\"1280\",\"type\":\"Selection\"},{\"attributes\":{\"source\":{\"id\":\"1249\",\"type\":\"ColumnDataSource\"}},\"id\":\"1253\",\"type\":\"CDSView\"},{\"attributes\":{\"callback\":null,\"data\":{\"x\":[2020,2025,2030,2035,2040,2045,2050,2055,2060,2065,2070,2075,2080,2085,2090,2095,2100],\"y\":[912306.7240000002,924199.783,933262.5580000001,940475.6150000001,944668.037,945929.6540000001,944372.924,940125.755,933542.0040000002,925493.626,916927.8789999998,908413.484,900272.8359999999,892459.4159999999,884981.163,877749.1270000001,870615.133]},\"selected\":{\"id\":\"1348\",\"type\":\"Selection\"},\"selection_policy\":{\"id\":\"1349\",\"type\":\"UnionRenderers\"}},\"id\":\"1308\",\"type\":\"ColumnDataSource\"},{\"attributes\":{\"fill_color\":{\"value\":\"#2CC775\"},\"line_color\":{\"value\":\"#2CC775\"},\"line_width\":{\"value\":3},\"x\":{\"field\":\"x\"},\"y\":{\"field\":\"y\"}},\"id\":\"1309\",\"type\":\"Circle\"},{\"attributes\":{},\"id\":\"1281\",\"type\":\"UnionRenderers\"},{\"attributes\":{},\"id\":\"1255\",\"type\":\"BasicTickFormatter\"},{\"attributes\":{},\"id\":\"1224\",\"type\":\"LinearScale\"},{\"attributes\":{\"fill_alpha\":{\"value\":0.1},\"fill_color\":{\"value\":\"#1f77b4\"},\"line_alpha\":{\"value\":0.1},\"line_color\":{\"value\":\"#1f77b4\"},\"line_width\":{\"value\":3},\"x\":{\"field\":\"x\"},\"y\":{\"field\":\"y\"}},\"id\":\"1310\",\"type\":\"Circle\"},{\"attributes\":{\"label\":{\"value\":\"Developing excluding LDCs\"},\"renderers\":[{\"id\":\"1270\",\"type\":\"GlyphRenderer\"}]},\"id\":\"1282\",\"type\":\"LegendItem\"},{\"attributes\":{},\"id\":\"1257\",\"type\":\"BasicTickFormatter\"},{\"attributes\":{},\"id\":\"1222\",\"type\":\"LinearScale\"},{\"attributes\":{\"data_source\":{\"id\":\"1308\",\"type\":\"ColumnDataSource\"},\"glyph\":{\"id\":\"1309\",\"type\":\"Circle\"},\"hover_glyph\":null,\"muted_glyph\":null,\"nonselection_glyph\":{\"id\":\"1310\",\"type\":\"Circle\"},\"selection_glyph\":null,\"view\":{\"id\":\"1312\",\"type\":\"CDSView\"}},\"id\":\"1311\",\"type\":\"GlyphRenderer\"},{\"attributes\":{\"callback\":null,\"data\":{\"x\":[2020,2025,2030,2035,2040,2045,2050,2055,2060,2065,2070,2075,2080,2085,2090,2095,2100],\"y\":[4993103.786000001,5218738.716999997,5421085.645999999,5600144.947999999,5752488.066,5878012.936,5976889.714000002,6050353.927999998,6099916.011999999,6128642.660999999,6138746.354000001,6132326.774999998,6111578.452999997,6078805.713000003,6037048.572999997,5987636.3539999975,5930332.014000001]},\"selected\":{\"id\":\"1305\",\"type\":\"Selection\"},\"selection_policy\":{\"id\":\"1306\",\"type\":\"UnionRenderers\"}},\"id\":\"1283\",\"type\":\"ColumnDataSource\"},{\"attributes\":{\"bottom_units\":\"screen\",\"fill_alpha\":{\"value\":0.5},\"fill_color\":{\"value\":\"lightgrey\"},\"left_units\":\"screen\",\"level\":\"overlay\",\"line_alpha\":{\"value\":1.0},\"line_color\":{\"value\":\"black\"},\"line_dash\":[4,4],\"line_width\":{\"value\":2},\"render_mode\":\"css\",\"right_units\":\"screen\",\"top_units\":\"screen\"},\"id\":\"1259\",\"type\":\"BoxAnnotation\"},{\"attributes\":{\"callback\":null},\"id\":\"1220\",\"type\":\"DataRange1d\"},{\"attributes\":{\"source\":{\"id\":\"1308\",\"type\":\"ColumnDataSource\"}},\"id\":\"1312\",\"type\":\"CDSView\"},{\"attributes\":{\"fill_color\":{\"value\":\"#5430F1\"},\"line_color\":{\"value\":\"#5430F1\"},\"line_width\":{\"value\":3},\"x\":{\"field\":\"x\"},\"y\":{\"field\":\"y\"}},\"id\":\"1284\",\"type\":\"Circle\"},{\"attributes\":{\"text\":\"Projected population, thousands\"},\"id\":\"1216\",\"type\":\"Title\"},{\"attributes\":{\"label\":{\"value\":\"LDCs\"},\"renderers\":[{\"id\":\"1252\",\"type\":\"GlyphRenderer\"}]},\"id\":\"1261\",\"type\":\"LegendItem\"},{\"attributes\":{\"items\":[{\"id\":\"1261\",\"type\":\"LegendItem\"},{\"id\":\"1282\",\"type\":\"LegendItem\"},{\"id\":\"1307\",\"type\":\"LegendItem\"}],\"location\":\"bottom_left\"},\"id\":\"1260\",\"type\":\"Legend\"},{\"attributes\":{\"fill_alpha\":{\"value\":0.1},\"fill_color\":{\"value\":\"#1f77b4\"},\"line_alpha\":{\"value\":0.1},\"line_color\":{\"value\":\"#1f77b4\"},\"line_width\":{\"value\":3},\"x\":{\"field\":\"x\"},\"y\":{\"field\":\"y\"}},\"id\":\"1285\",\"type\":\"Circle\"},{\"attributes\":{\"callback\":null,\"data\":{\"x\":[2020,2025,2030,2035,2040,2045,2050,2055,2060,2065,2070,2075,2080,2085,2090,2095,2100],\"y\":[1057438.163,1182376.585,1313758.882,1450358.0589999997,1590723.5140000007,1733412.6489999997,1876797.781,2019337.702000001,2159628.188,2296253.5399999996,2427682.2370000007,2552545.8049999997,2669675.032999999,2778054.0900000003,2877186.7590000005,2966790.3559999997,3046778.7830000003]},\"selected\":{\"id\":\"1280\",\"type\":\"Selection\"},\"selection_policy\":{\"id\":\"1281\",\"type\":\"UnionRenderers\"}},\"id\":\"1262\",\"type\":\"ColumnDataSource\"},{\"attributes\":{},\"id\":\"1346\",\"type\":\"Selection\"},{\"attributes\":{\"data_source\":{\"id\":\"1283\",\"type\":\"ColumnDataSource\"},\"glyph\":{\"id\":\"1284\",\"type\":\"Circle\"},\"hover_glyph\":null,\"muted_glyph\":null,\"nonselection_glyph\":{\"id\":\"1285\",\"type\":\"Circle\"},\"selection_glyph\":null,\"view\":{\"id\":\"1287\",\"type\":\"CDSView\"}},\"id\":\"1286\",\"type\":\"GlyphRenderer\"},{\"attributes\":{\"axis_label\":\"Years\",\"formatter\":{\"id\":\"1257\",\"type\":\"BasicTickFormatter\"},\"ticker\":{\"id\":\"1227\",\"type\":\"BasicTicker\"}},\"id\":\"1226\",\"type\":\"LinearAxis\"},{\"attributes\":{\"axis_label\":\"Projected population, thousands\",\"formatter\":{\"id\":\"1255\",\"type\":\"BasicTickFormatter\"},\"ticker\":{\"id\":\"1232\",\"type\":\"BasicTicker\"}},\"id\":\"1231\",\"type\":\"LinearAxis\"},{\"attributes\":{\"dimension\":1,\"grid_line_alpha\":0.5,\"ticker\":{\"id\":\"1232\",\"type\":\"BasicTicker\"}},\"id\":\"1235\",\"type\":\"Grid\"},{\"attributes\":{\"fill_color\":{\"value\":\"#FA1857\"},\"line_color\":{\"value\":\"#FA1857\"},\"line_width\":{\"value\":3},\"x\":{\"field\":\"x\"},\"y\":{\"field\":\"y\"}},\"id\":\"1263\",\"type\":\"Circle\"},{\"attributes\":{\"source\":{\"id\":\"1283\",\"type\":\"ColumnDataSource\"}},\"id\":\"1287\",\"type\":\"CDSView\"},{\"attributes\":{},\"id\":\"1347\",\"type\":\"UnionRenderers\"},{\"attributes\":{\"fill_alpha\":{\"value\":0.1},\"fill_color\":{\"value\":\"#1f77b4\"},\"line_alpha\":{\"value\":0.1},\"line_color\":{\"value\":\"#1f77b4\"},\"line_width\":{\"value\":3},\"x\":{\"field\":\"x\"},\"y\":{\"field\":\"y\"}},\"id\":\"1264\",\"type\":\"Circle\"},{\"attributes\":{},\"id\":\"1348\",\"type\":\"Selection\"},{\"attributes\":{\"line_color\":\"#FA1857\",\"x\":{\"field\":\"x\"},\"y\":{\"field\":\"y\"}},\"id\":\"1250\",\"type\":\"Line\"},{\"attributes\":{\"callback\":null,\"data\":{\"x\":[2020,2025,2030,2035,2040,2045,2050,2055,2060,2065,2070,2075,2080,2085,2090,2095,2100],\"y\":[912306.7240000002,924199.783,933262.5580000001,940475.6150000001,944668.037,945929.6540000001,944372.924,940125.755,933542.0040000002,925493.626,916927.8789999998,908413.484,900272.8359999999,892459.4159999999,884981.163,877749.1270000001,870615.133]},\"selected\":{\"id\":\"1346\",\"type\":\"Selection\"},\"selection_policy\":{\"id\":\"1347\",\"type\":\"UnionRenderers\"}},\"id\":\"1288\",\"type\":\"ColumnDataSource\"},{\"attributes\":{\"data_source\":{\"id\":\"1262\",\"type\":\"ColumnDataSource\"},\"glyph\":{\"id\":\"1263\",\"type\":\"Circle\"},\"hover_glyph\":null,\"muted_glyph\":null,\"nonselection_glyph\":{\"id\":\"1264\",\"type\":\"Circle\"},\"selection_glyph\":null,\"view\":{\"id\":\"1266\",\"type\":\"CDSView\"}},\"id\":\"1265\",\"type\":\"GlyphRenderer\"},{\"attributes\":{},\"id\":\"1349\",\"type\":\"UnionRenderers\"},{\"attributes\":{\"callback\":null,\"data\":{\"x\":[2020,2025,2030,2035,2040,2045,2050,2055,2060,2065,2070,2075,2080,2085,2090,2095,2100],\"y\":[1057438.163,1182376.585,1313758.882,1450358.0589999997,1590723.5140000007,1733412.6489999997,1876797.781,2019337.702000001,2159628.188,2296253.5399999996,2427682.2370000007,2552545.8049999997,2669675.032999999,2778054.0900000003,2877186.7590000005,2966790.3559999997,3046778.7830000003]},\"selected\":{\"id\":\"1278\",\"type\":\"Selection\"},\"selection_policy\":{\"id\":\"1279\",\"type\":\"UnionRenderers\"}},\"id\":\"1249\",\"type\":\"ColumnDataSource\"},{\"attributes\":{\"line_color\":\"#2CC775\",\"x\":{\"field\":\"x\"},\"y\":{\"field\":\"y\"}},\"id\":\"1289\",\"type\":\"Line\"},{\"attributes\":{\"source\":{\"id\":\"1262\",\"type\":\"ColumnDataSource\"}},\"id\":\"1266\",\"type\":\"CDSView\"},{\"attributes\":{},\"id\":\"1236\",\"type\":\"PanTool\"},{\"attributes\":{\"line_alpha\":0.1,\"line_color\":\"#1f77b4\",\"x\":{\"field\":\"x\"},\"y\":{\"field\":\"y\"}},\"id\":\"1290\",\"type\":\"Line\"},{\"attributes\":{\"callback\":null,\"data\":{\"x\":[2020,2025,2030,2035,2040,2045,2050,2055,2060,2065,2070,2075,2080,2085,2090,2095,2100],\"y\":[4993103.786000001,5218738.716999997,5421085.645999999,5600144.947999999,5752488.066,5878012.936,5976889.714000002,6050353.927999998,6099916.011999999,6128642.660999999,6138746.354000001,6132326.774999998,6111578.452999997,6078805.713000003,6037048.572999997,5987636.3539999975,5930332.014000001]},\"selected\":{\"id\":\"1303\",\"type\":\"Selection\"},\"selection_policy\":{\"id\":\"1304\",\"type\":\"UnionRenderers\"}},\"id\":\"1267\",\"type\":\"ColumnDataSource\"},{\"attributes\":{\"data_source\":{\"id\":\"1288\",\"type\":\"ColumnDataSource\"},\"glyph\":{\"id\":\"1289\",\"type\":\"Line\"},\"hover_glyph\":null,\"muted_glyph\":null,\"nonselection_glyph\":{\"id\":\"1290\",\"type\":\"Line\"},\"selection_glyph\":null,\"view\":{\"id\":\"1292\",\"type\":\"CDSView\"}},\"id\":\"1291\",\"type\":\"GlyphRenderer\"},{\"attributes\":{},\"id\":\"1237\",\"type\":\"WheelZoomTool\"},{\"attributes\":{\"line_color\":\"#5430F1\",\"x\":{\"field\":\"x\"},\"y\":{\"field\":\"y\"}},\"id\":\"1268\",\"type\":\"Line\"},{\"attributes\":{\"overlay\":{\"id\":\"1259\",\"type\":\"BoxAnnotation\"}},\"id\":\"1238\",\"type\":\"BoxZoomTool\"},{\"attributes\":{\"callback\":null,\"tooltips\":\"                \\n        <div style=padding=5px>Year:@x</div>\\n        <div style=padding=5px>Value:@y</div>        \\n        \"},\"id\":\"1313\",\"type\":\"HoverTool\"},{\"attributes\":{\"source\":{\"id\":\"1288\",\"type\":\"ColumnDataSource\"}},\"id\":\"1292\",\"type\":\"CDSView\"},{\"attributes\":{\"line_alpha\":0.1,\"line_color\":\"#1f77b4\",\"x\":{\"field\":\"x\"},\"y\":{\"field\":\"y\"}},\"id\":\"1269\",\"type\":\"Line\"},{\"attributes\":{},\"id\":\"1239\",\"type\":\"SaveTool\"}],\"root_ids\":[\"1215\"]},\"title\":\"Bokeh Application\",\"version\":\"1.3.4\"}};\n",
       "  var render_items = [{\"docid\":\"5ec605b7-f263-4426-afca-170228292d52\",\"roots\":{\"1215\":\"e98f49bb-fbff-4e75-8e00-48c89e035e34\"}}];\n",
       "  root.Bokeh.embed.embed_items_notebook(docs_json, render_items);\n",
       "\n",
       "  }\n",
       "  if (root.Bokeh !== undefined) {\n",
       "    embed_document(root);\n",
       "  } else {\n",
       "    var attempts = 0;\n",
       "    var timer = setInterval(function(root) {\n",
       "      if (root.Bokeh !== undefined) {\n",
       "        embed_document(root);\n",
       "        clearInterval(timer);\n",
       "      }\n",
       "      attempts++;\n",
       "      if (attempts > 100) {\n",
       "        console.log(\"Bokeh: ERROR: Unable to run BokehJS code because BokehJS library is missing\");\n",
       "        clearInterval(timer);\n",
       "      }\n",
       "    }, 10, root)\n",
       "  }\n",
       "})(window);"
      ],
      "application/vnd.bokehjs_exec.v0+json": ""
     },
     "metadata": {
      "application/vnd.bokehjs_exec.v0+json": {
       "id": "1215"
      }
     },
     "output_type": "display_data"
    }
   ],
   "source": [
    "show(line_chart(gpp(['LDCs', 'Developing excluding LDCs', 'OECD']), \"Projected population, thousands\", \n",
    "                x_axis_label='Years', y_axis_label='Projected population, thousands', height=400, width=1000))"
   ]
  },
  {
   "cell_type": "code",
   "execution_count": 6,
   "metadata": {
    "ExecuteTime": {
     "end_time": "2019-10-25T14:23:48.676948Z",
     "start_time": "2019-10-25T14:23:48.556170Z"
    },
    "scrolled": true
   },
   "outputs": [],
   "source": [
    "import sources\n",
    "data = sources.unpd.indicators.get_projection_by_group('LDCs')"
   ]
  },
  {
   "cell_type": "code",
   "execution_count": 7,
   "metadata": {
    "ExecuteTime": {
     "end_time": "2019-10-25T14:24:45.413121Z",
     "start_time": "2019-10-25T14:23:48.680578Z"
    },
    "slideshow": {
     "slide_type": "slide"
    }
   },
   "outputs": [
    {
     "data": {
      "text/html": [
       "\n",
       "\n",
       "\n",
       "\n",
       "\n",
       "\n",
       "  <div class=\"bk-root\" id=\"dea9e337-1c66-44ac-a3ee-56117d09e2bb\" data-root-id=\"1458\"></div>\n"
      ]
     },
     "metadata": {},
     "output_type": "display_data"
    },
    {
     "data": {
      "application/javascript": [
       "(function(root) {\n",
       "  function embed_document(root) {\n",
       "    \n",
       "  var docs_json = {\"8b3bade6-3fdb-40fe-a28d-9ac07ffc6dfa\":{\"roots\":{\"references\":[{\"attributes\":{\"below\":[{\"id\":\"1469\",\"type\":\"LinearAxis\"}],\"center\":[{\"id\":\"1473\",\"type\":\"Grid\"},{\"id\":\"1478\",\"type\":\"Grid\"},{\"id\":\"1503\",\"type\":\"Legend\"}],\"left\":[{\"id\":\"1474\",\"type\":\"LinearAxis\"}],\"plot_height\":400,\"plot_width\":800,\"renderers\":[{\"id\":\"1495\",\"type\":\"GlyphRenderer\"},{\"id\":\"1508\",\"type\":\"GlyphRenderer\"},{\"id\":\"1513\",\"type\":\"GlyphRenderer\"},{\"id\":\"1529\",\"type\":\"GlyphRenderer\"},{\"id\":\"1534\",\"type\":\"GlyphRenderer\"},{\"id\":\"1554\",\"type\":\"GlyphRenderer\"}],\"title\":{\"id\":\"1459\",\"type\":\"Title\"},\"toolbar\":{\"id\":\"1485\",\"type\":\"Toolbar\"},\"x_range\":{\"id\":\"1461\",\"type\":\"DataRange1d\"},\"x_scale\":{\"id\":\"1465\",\"type\":\"LinearScale\"},\"y_range\":{\"id\":\"1463\",\"type\":\"DataRange1d\"},\"y_scale\":{\"id\":\"1467\",\"type\":\"LinearScale\"}},\"id\":\"1458\",\"subtype\":\"Figure\",\"type\":\"Plot\"},{\"attributes\":{\"callback\":null},\"id\":\"1463\",\"type\":\"DataRange1d\"},{\"attributes\":{\"label\":{\"value\":\"Developing excluding LDCs\"},\"renderers\":[{\"id\":\"1513\",\"type\":\"GlyphRenderer\"}]},\"id\":\"1525\",\"type\":\"LegendItem\"},{\"attributes\":{},\"id\":\"1470\",\"type\":\"BasicTicker\"},{\"attributes\":{},\"id\":\"1549\",\"type\":\"UnionRenderers\"},{\"attributes\":{\"data_source\":{\"id\":\"1492\",\"type\":\"ColumnDataSource\"},\"glyph\":{\"id\":\"1493\",\"type\":\"Line\"},\"hover_glyph\":null,\"muted_glyph\":null,\"nonselection_glyph\":{\"id\":\"1494\",\"type\":\"Line\"},\"selection_glyph\":null,\"view\":{\"id\":\"1496\",\"type\":\"CDSView\"}},\"id\":\"1495\",\"type\":\"GlyphRenderer\"},{\"attributes\":{},\"id\":\"1524\",\"type\":\"UnionRenderers\"},{\"attributes\":{\"source\":{\"id\":\"1551\",\"type\":\"ColumnDataSource\"}},\"id\":\"1555\",\"type\":\"CDSView\"},{\"attributes\":{\"grid_line_color\":null,\"ticker\":{\"id\":\"1470\",\"type\":\"BasicTicker\"}},\"id\":\"1473\",\"type\":\"Grid\"},{\"attributes\":{},\"id\":\"1498\",\"type\":\"BasicTickFormatter\"},{\"attributes\":{},\"id\":\"1607\",\"type\":\"Selection\"},{\"attributes\":{},\"id\":\"1523\",\"type\":\"Selection\"},{\"attributes\":{\"source\":{\"id\":\"1492\",\"type\":\"ColumnDataSource\"}},\"id\":\"1496\",\"type\":\"CDSView\"},{\"attributes\":{\"axis_label\":\"Years\",\"formatter\":{\"id\":\"1500\",\"type\":\"BasicTickFormatter\"},\"ticker\":{\"id\":\"1470\",\"type\":\"BasicTicker\"}},\"id\":\"1469\",\"type\":\"LinearAxis\"},{\"attributes\":{\"fill_alpha\":{\"value\":0.1},\"fill_color\":{\"value\":\"#1f77b4\"},\"line_alpha\":{\"value\":0.1},\"line_color\":{\"value\":\"#1f77b4\"},\"line_width\":{\"value\":3},\"x\":{\"field\":\"x\"},\"y\":{\"field\":\"y\"}},\"id\":\"1528\",\"type\":\"Circle\"},{\"attributes\":{\"label\":{\"value\":\"LDCs\"},\"renderers\":[{\"id\":\"1495\",\"type\":\"GlyphRenderer\"}]},\"id\":\"1504\",\"type\":\"LegendItem\"},{\"attributes\":{},\"id\":\"1548\",\"type\":\"Selection\"},{\"attributes\":{},\"id\":\"1608\",\"type\":\"UnionRenderers\"},{\"attributes\":{\"data_source\":{\"id\":\"1551\",\"type\":\"ColumnDataSource\"},\"glyph\":{\"id\":\"1552\",\"type\":\"Circle\"},\"hover_glyph\":null,\"muted_glyph\":null,\"nonselection_glyph\":{\"id\":\"1553\",\"type\":\"Circle\"},\"selection_glyph\":null,\"view\":{\"id\":\"1555\",\"type\":\"CDSView\"}},\"id\":\"1554\",\"type\":\"GlyphRenderer\"},{\"attributes\":{},\"id\":\"1475\",\"type\":\"BasicTicker\"},{\"attributes\":{\"fill_color\":{\"value\":\"#5430F1\"},\"line_color\":{\"value\":\"#5430F1\"},\"line_width\":{\"value\":3},\"x\":{\"field\":\"x\"},\"y\":{\"field\":\"y\"}},\"id\":\"1527\",\"type\":\"Circle\"},{\"attributes\":{\"callback\":null,\"data\":{\"x\":[\"1960\",\"1961\",\"1962\",\"1963\",\"1964\",\"1965\",\"1966\",\"1967\",\"1968\",\"1969\",\"1970\",\"1971\",\"1972\",\"1973\",\"1974\",\"1975\",\"1976\",\"1977\",\"1978\",\"1979\",\"1980\",\"1981\",\"1982\",\"1983\",\"1984\",\"1985\",\"1986\",\"1987\",\"1988\",\"1989\",\"1990\",\"1991\",\"1992\",\"1993\",\"1994\",\"1995\",\"1996\",\"1997\",\"1998\",\"1999\",\"2000\",\"2001\",\"2002\",\"2003\",\"2004\",\"2005\",\"2006\",\"2007\",\"2008\",\"2009\",\"2010\",\"2011\",\"2012\",\"2013\",\"2014\",\"2015\",\"2016\",\"2017\"],\"y\":[77.35363246498096,76.84064660563966,76.34919251805987,75.8911929273984,75.42392730969407,75.2455974700976,75.0631805029994,74.86460025693607,74.66965460183357,74.47948707660744,74.2883999829702,74.06985096112246,73.81021003144735,73.50148081814949,73.14517867392526,72.78077064593286,72.43033463814923,72.07257197472818,71.59162525042468,70.98739212549752,70.37390537107983,69.73538235357832,69.11523379006417,68.549880776788,67.97514579855805,67.40108835439656,66.83263598790077,66.2699204282547,65.70792376395148,65.14572411519175,64.58115696120876,64.00938831679981,63.47568887216426,62.90371180406295,62.32979564017021,61.731735700190455,61.15980763653538,60.58546239748637,60.00711357933131,59.428106219917154,58.83934865686248,58.1922959373342,57.492147507303955,56.791072578711145,56.08420239450577,55.373297896508575,54.67280454992341,53.977539651904614,53.28007273722423,52.58524307181396,51.89203527626144,51.22700828217377,50.57300177227712,49.92250999168939,49.27308811920352,48.62727125106838,47.983660157571435,47.34467173180428]},\"selected\":{\"id\":\"1548\",\"type\":\"Selection\"},\"selection_policy\":{\"id\":\"1549\",\"type\":\"UnionRenderers\"}},\"id\":\"1526\",\"type\":\"ColumnDataSource\"},{\"attributes\":{\"bottom_units\":\"screen\",\"fill_alpha\":{\"value\":0.5},\"fill_color\":{\"value\":\"lightgrey\"},\"left_units\":\"screen\",\"level\":\"overlay\",\"line_alpha\":{\"value\":1.0},\"line_color\":{\"value\":\"black\"},\"line_dash\":[4,4],\"line_width\":{\"value\":2},\"render_mode\":\"css\",\"right_units\":\"screen\",\"top_units\":\"screen\"},\"id\":\"1502\",\"type\":\"BoxAnnotation\"},{\"attributes\":{\"axis_label\":\"SP.RUR.TOTL.ZS\",\"formatter\":{\"id\":\"1498\",\"type\":\"BasicTickFormatter\"},\"ticker\":{\"id\":\"1475\",\"type\":\"BasicTicker\"}},\"id\":\"1474\",\"type\":\"LinearAxis\"},{\"attributes\":{\"callback\":null,\"data\":{\"x\":[\"1960\",\"1961\",\"1962\",\"1963\",\"1964\",\"1965\",\"1966\",\"1967\",\"1968\",\"1969\",\"1970\",\"1971\",\"1972\",\"1973\",\"1974\",\"1975\",\"1976\",\"1977\",\"1978\",\"1979\",\"1980\",\"1981\",\"1982\",\"1983\",\"1984\",\"1985\",\"1986\",\"1987\",\"1988\",\"1989\",\"1990\",\"1991\",\"1992\",\"1993\",\"1994\",\"1995\",\"1996\",\"1997\",\"1998\",\"1999\",\"2000\",\"2001\",\"2002\",\"2003\",\"2004\",\"2005\",\"2006\",\"2007\",\"2008\",\"2009\",\"2010\",\"2011\",\"2012\",\"2013\",\"2014\",\"2015\",\"2016\",\"2017\"],\"y\":[37.40046379762384,36.910426656412376,36.42127360665778,35.91623000953568,35.41312563450036,34.91259283883799,34.41460814240305,33.906853776784544,33.41175944934178,32.93243762343052,32.47371657833314,32.08243047483682,31.72254341724644,31.376230937591238,31.02541989859808,30.694684316251664,30.439520115174478,30.192444164715646,29.942960728335073,29.698117424398575,29.45271291536762,29.159197365938237,28.884819993799557,28.62443020571846,28.373177767459325,28.121981510199006,27.8604458404359,27.578860132814693,27.299974013372434,27.04188263980006,26.764398045351797,26.48515980107442,26.22585182821077,25.962163393862863,25.69276563048598,25.42543337883581,25.181488242051362,24.9477281910235,24.714988268795185,24.48183071086911,24.25025925627994,23.905203675760802,23.504398066886452,23.123776637102807,22.758727449036055,22.408569017585673,22.085829368063017,21.7813270701607,21.485590735868247,21.19879146971327,20.918753085714805,20.70228925587614,20.51614583488052,20.332611207313864,20.1493430924518,19.961337971168508,19.770869743541244,19.576668574669895]},\"selected\":{\"id\":\"1607\",\"type\":\"Selection\"},\"selection_policy\":{\"id\":\"1608\",\"type\":\"UnionRenderers\"}},\"id\":\"1531\",\"type\":\"ColumnDataSource\"},{\"attributes\":{\"fill_alpha\":{\"value\":0.1},\"fill_color\":{\"value\":\"#1f77b4\"},\"line_alpha\":{\"value\":0.1},\"line_color\":{\"value\":\"#1f77b4\"},\"line_width\":{\"value\":3},\"x\":{\"field\":\"x\"},\"y\":{\"field\":\"y\"}},\"id\":\"1507\",\"type\":\"Circle\"},{\"attributes\":{},\"id\":\"1547\",\"type\":\"UnionRenderers\"},{\"attributes\":{},\"id\":\"1610\",\"type\":\"UnionRenderers\"},{\"attributes\":{\"fill_alpha\":{\"value\":0.1},\"fill_color\":{\"value\":\"#1f77b4\"},\"line_alpha\":{\"value\":0.1},\"line_color\":{\"value\":\"#1f77b4\"},\"line_width\":{\"value\":3},\"x\":{\"field\":\"x\"},\"y\":{\"field\":\"y\"}},\"id\":\"1553\",\"type\":\"Circle\"},{\"attributes\":{},\"id\":\"1500\",\"type\":\"BasicTickFormatter\"},{\"attributes\":{\"callback\":null,\"data\":{\"x\":[\"1960\",\"1961\",\"1962\",\"1963\",\"1964\",\"1965\",\"1966\",\"1967\",\"1968\",\"1969\",\"1970\",\"1971\",\"1972\",\"1973\",\"1974\",\"1975\",\"1976\",\"1977\",\"1978\",\"1979\",\"1980\",\"1981\",\"1982\",\"1983\",\"1984\",\"1985\",\"1986\",\"1987\",\"1988\",\"1989\",\"1990\",\"1991\",\"1992\",\"1993\",\"1994\",\"1995\",\"1996\",\"1997\",\"1998\",\"1999\",\"2000\",\"2001\",\"2002\",\"2003\",\"2004\",\"2005\",\"2006\",\"2007\",\"2008\",\"2009\",\"2010\",\"2011\",\"2012\",\"2013\",\"2014\",\"2015\",\"2016\",\"2017\"],\"y\":[90.30540314961225,90.05922308596143,89.79142197607507,89.50943020766772,89.21332392073033,88.90699930713514,88.59129404993091,88.2421437061032,87.87890301522422,87.498660914606,87.1174953120763,86.69804365829646,86.25174066596233,85.79977180585672,85.34188252862592,85.43654119910886,84.95168938138087,84.44580769216783,83.9221505351178,83.41754005994233,82.84275481593508,82.33340839124018,81.98009926769818,81.5994068914721,81.17923373810068,80.73499511441362,80.28737654778298,79.83589419008621,79.37735062469132,78.94106163003731,78.49089593262889,78.06666464387531,77.66442498847728,77.27582295914314,76.937477006595,76.6142721385419,76.29207931094508,75.96043698797583,75.63493186609195,75.3089958985288,74.97591336080258,74.58855084775452,74.17072837361799,73.7383105264119,73.30461571223451,72.85760200817124,72.41698364409473,72.02137630639736,71.53477802260059,71.03883841181644,70.53468445683478,70.02322338974272,69.54425681847671,69.04126913036824,68.53335948867445,68.02084860989429,67.5036702230874,66.9817255009623]},\"selected\":{\"id\":\"1521\",\"type\":\"Selection\"},\"selection_policy\":{\"id\":\"1522\",\"type\":\"UnionRenderers\"}},\"id\":\"1492\",\"type\":\"ColumnDataSource\"},{\"attributes\":{\"source\":{\"id\":\"1526\",\"type\":\"ColumnDataSource\"}},\"id\":\"1530\",\"type\":\"CDSView\"},{\"attributes\":{\"fill_color\":{\"value\":\"#FA1857\"},\"line_color\":{\"value\":\"#FA1857\"},\"line_width\":{\"value\":3},\"x\":{\"field\":\"x\"},\"y\":{\"field\":\"y\"}},\"id\":\"1506\",\"type\":\"Circle\"},{\"attributes\":{\"callback\":null,\"tooltips\":\"                \\n        <div style=padding=5px>Year:@x</div>\\n        <div style=padding=5px>Value:@y</div>        \\n        \"},\"id\":\"1556\",\"type\":\"HoverTool\"},{\"attributes\":{\"dimension\":1,\"grid_line_alpha\":0.5,\"ticker\":{\"id\":\"1475\",\"type\":\"BasicTicker\"}},\"id\":\"1478\",\"type\":\"Grid\"},{\"attributes\":{\"data_source\":{\"id\":\"1526\",\"type\":\"ColumnDataSource\"},\"glyph\":{\"id\":\"1527\",\"type\":\"Circle\"},\"hover_glyph\":null,\"muted_glyph\":null,\"nonselection_glyph\":{\"id\":\"1528\",\"type\":\"Circle\"},\"selection_glyph\":null,\"view\":{\"id\":\"1530\",\"type\":\"CDSView\"}},\"id\":\"1529\",\"type\":\"GlyphRenderer\"},{\"attributes\":{\"callback\":null,\"data\":{\"x\":[\"1960\",\"1961\",\"1962\",\"1963\",\"1964\",\"1965\",\"1966\",\"1967\",\"1968\",\"1969\",\"1970\",\"1971\",\"1972\",\"1973\",\"1974\",\"1975\",\"1976\",\"1977\",\"1978\",\"1979\",\"1980\",\"1981\",\"1982\",\"1983\",\"1984\",\"1985\",\"1986\",\"1987\",\"1988\",\"1989\",\"1990\",\"1991\",\"1992\",\"1993\",\"1994\",\"1995\",\"1996\",\"1997\",\"1998\",\"1999\",\"2000\",\"2001\",\"2002\",\"2003\",\"2004\",\"2005\",\"2006\",\"2007\",\"2008\",\"2009\",\"2010\",\"2011\",\"2012\",\"2013\",\"2014\",\"2015\",\"2016\",\"2017\"],\"y\":[90.30540314961225,90.05922308596143,89.79142197607507,89.50943020766772,89.21332392073033,88.90699930713514,88.59129404993091,88.2421437061032,87.87890301522422,87.498660914606,87.1174953120763,86.69804365829646,86.25174066596233,85.79977180585672,85.34188252862592,85.43654119910886,84.95168938138087,84.44580769216783,83.9221505351178,83.41754005994233,82.84275481593508,82.33340839124018,81.98009926769818,81.5994068914721,81.17923373810068,80.73499511441362,80.28737654778298,79.83589419008621,79.37735062469132,78.94106163003731,78.49089593262889,78.06666464387531,77.66442498847728,77.27582295914314,76.937477006595,76.6142721385419,76.29207931094508,75.96043698797583,75.63493186609195,75.3089958985288,74.97591336080258,74.58855084775452,74.17072837361799,73.7383105264119,73.30461571223451,72.85760200817124,72.41698364409473,72.02137630639736,71.53477802260059,71.03883841181644,70.53468445683478,70.02322338974272,69.54425681847671,69.04126913036824,68.53335948867445,68.02084860989429,67.5036702230874,66.9817255009623]},\"selected\":{\"id\":\"1523\",\"type\":\"Selection\"},\"selection_policy\":{\"id\":\"1524\",\"type\":\"UnionRenderers\"}},\"id\":\"1505\",\"type\":\"ColumnDataSource\"},{\"attributes\":{\"data_source\":{\"id\":\"1531\",\"type\":\"ColumnDataSource\"},\"glyph\":{\"id\":\"1532\",\"type\":\"Line\"},\"hover_glyph\":null,\"muted_glyph\":null,\"nonselection_glyph\":{\"id\":\"1533\",\"type\":\"Line\"},\"selection_glyph\":null,\"view\":{\"id\":\"1535\",\"type\":\"CDSView\"}},\"id\":\"1534\",\"type\":\"GlyphRenderer\"},{\"attributes\":{\"line_color\":\"#FA1857\",\"x\":{\"field\":\"x\"},\"y\":{\"field\":\"y\"}},\"id\":\"1493\",\"type\":\"Line\"},{\"attributes\":{\"callback\":null,\"data\":{\"x\":[\"1960\",\"1961\",\"1962\",\"1963\",\"1964\",\"1965\",\"1966\",\"1967\",\"1968\",\"1969\",\"1970\",\"1971\",\"1972\",\"1973\",\"1974\",\"1975\",\"1976\",\"1977\",\"1978\",\"1979\",\"1980\",\"1981\",\"1982\",\"1983\",\"1984\",\"1985\",\"1986\",\"1987\",\"1988\",\"1989\",\"1990\",\"1991\",\"1992\",\"1993\",\"1994\",\"1995\",\"1996\",\"1997\",\"1998\",\"1999\",\"2000\",\"2001\",\"2002\",\"2003\",\"2004\",\"2005\",\"2006\",\"2007\",\"2008\",\"2009\",\"2010\",\"2011\",\"2012\",\"2013\",\"2014\",\"2015\",\"2016\",\"2017\"],\"y\":[77.35363246498096,76.84064660563966,76.34919251805987,75.8911929273984,75.42392730969407,75.2455974700976,75.0631805029994,74.86460025693607,74.66965460183357,74.47948707660744,74.2883999829702,74.06985096112246,73.81021003144735,73.50148081814949,73.14517867392526,72.78077064593286,72.43033463814923,72.07257197472818,71.59162525042468,70.98739212549752,70.37390537107983,69.73538235357832,69.11523379006417,68.549880776788,67.97514579855805,67.40108835439656,66.83263598790077,66.2699204282547,65.70792376395148,65.14572411519175,64.58115696120876,64.00938831679981,63.47568887216426,62.90371180406295,62.32979564017021,61.731735700190455,61.15980763653538,60.58546239748637,60.00711357933131,59.428106219917154,58.83934865686248,58.1922959373342,57.492147507303955,56.791072578711145,56.08420239450577,55.373297896508575,54.67280454992341,53.977539651904614,53.28007273722423,52.58524307181396,51.89203527626144,51.22700828217377,50.57300177227712,49.92250999168939,49.27308811920352,48.62727125106838,47.983660157571435,47.34467173180428]},\"selected\":{\"id\":\"1546\",\"type\":\"Selection\"},\"selection_policy\":{\"id\":\"1547\",\"type\":\"UnionRenderers\"}},\"id\":\"1510\",\"type\":\"ColumnDataSource\"},{\"attributes\":{},\"id\":\"1480\",\"type\":\"WheelZoomTool\"},{\"attributes\":{},\"id\":\"1609\",\"type\":\"Selection\"},{\"attributes\":{\"fill_color\":{\"value\":\"#2CC775\"},\"line_color\":{\"value\":\"#2CC775\"},\"line_width\":{\"value\":3},\"x\":{\"field\":\"x\"},\"y\":{\"field\":\"y\"}},\"id\":\"1552\",\"type\":\"Circle\"},{\"attributes\":{\"source\":{\"id\":\"1505\",\"type\":\"ColumnDataSource\"}},\"id\":\"1509\",\"type\":\"CDSView\"},{\"attributes\":{\"overlay\":{\"id\":\"1502\",\"type\":\"BoxAnnotation\"}},\"id\":\"1481\",\"type\":\"BoxZoomTool\"},{\"attributes\":{\"line_alpha\":0.1,\"line_color\":\"#1f77b4\",\"x\":{\"field\":\"x\"},\"y\":{\"field\":\"y\"}},\"id\":\"1533\",\"type\":\"Line\"},{\"attributes\":{},\"id\":\"1479\",\"type\":\"PanTool\"},{\"attributes\":{\"data_source\":{\"id\":\"1505\",\"type\":\"ColumnDataSource\"},\"glyph\":{\"id\":\"1506\",\"type\":\"Circle\"},\"hover_glyph\":null,\"muted_glyph\":null,\"nonselection_glyph\":{\"id\":\"1507\",\"type\":\"Circle\"},\"selection_glyph\":null,\"view\":{\"id\":\"1509\",\"type\":\"CDSView\"}},\"id\":\"1508\",\"type\":\"GlyphRenderer\"},{\"attributes\":{\"callback\":null,\"data\":{\"x\":[\"1960\",\"1961\",\"1962\",\"1963\",\"1964\",\"1965\",\"1966\",\"1967\",\"1968\",\"1969\",\"1970\",\"1971\",\"1972\",\"1973\",\"1974\",\"1975\",\"1976\",\"1977\",\"1978\",\"1979\",\"1980\",\"1981\",\"1982\",\"1983\",\"1984\",\"1985\",\"1986\",\"1987\",\"1988\",\"1989\",\"1990\",\"1991\",\"1992\",\"1993\",\"1994\",\"1995\",\"1996\",\"1997\",\"1998\",\"1999\",\"2000\",\"2001\",\"2002\",\"2003\",\"2004\",\"2005\",\"2006\",\"2007\",\"2008\",\"2009\",\"2010\",\"2011\",\"2012\",\"2013\",\"2014\",\"2015\",\"2016\",\"2017\"],\"y\":[37.40046379762384,36.910426656412376,36.42127360665778,35.91623000953568,35.41312563450036,34.91259283883799,34.41460814240305,33.906853776784544,33.41175944934178,32.93243762343052,32.47371657833314,32.08243047483682,31.72254341724644,31.376230937591238,31.02541989859808,30.694684316251664,30.439520115174478,30.192444164715646,29.942960728335073,29.698117424398575,29.45271291536762,29.159197365938237,28.884819993799557,28.62443020571846,28.373177767459325,28.121981510199006,27.8604458404359,27.578860132814693,27.299974013372434,27.04188263980006,26.764398045351797,26.48515980107442,26.22585182821077,25.962163393862863,25.69276563048598,25.42543337883581,25.181488242051362,24.9477281910235,24.714988268795185,24.48183071086911,24.25025925627994,23.905203675760802,23.504398066886452,23.123776637102807,22.758727449036055,22.408569017585673,22.085829368063017,21.7813270701607,21.485590735868247,21.19879146971327,20.918753085714805,20.70228925587614,20.51614583488052,20.332611207313864,20.1493430924518,19.961337971168508,19.770869743541244,19.576668574669895]},\"selected\":{\"id\":\"1609\",\"type\":\"Selection\"},\"selection_policy\":{\"id\":\"1610\",\"type\":\"UnionRenderers\"}},\"id\":\"1551\",\"type\":\"ColumnDataSource\"},{\"attributes\":{},\"id\":\"1546\",\"type\":\"Selection\"},{\"attributes\":{},\"id\":\"1484\",\"type\":\"HelpTool\"},{\"attributes\":{\"data_source\":{\"id\":\"1510\",\"type\":\"ColumnDataSource\"},\"glyph\":{\"id\":\"1511\",\"type\":\"Line\"},\"hover_glyph\":null,\"muted_glyph\":null,\"nonselection_glyph\":{\"id\":\"1512\",\"type\":\"Line\"},\"selection_glyph\":null,\"view\":{\"id\":\"1514\",\"type\":\"CDSView\"}},\"id\":\"1513\",\"type\":\"GlyphRenderer\"},{\"attributes\":{\"text\":\"Rural population (% of total population) weighted against Population, total\"},\"id\":\"1459\",\"type\":\"Title\"},{\"attributes\":{\"line_alpha\":0.1,\"line_color\":\"#1f77b4\",\"x\":{\"field\":\"x\"},\"y\":{\"field\":\"y\"}},\"id\":\"1512\",\"type\":\"Line\"},{\"attributes\":{\"items\":[{\"id\":\"1504\",\"type\":\"LegendItem\"},{\"id\":\"1525\",\"type\":\"LegendItem\"},{\"id\":\"1550\",\"type\":\"LegendItem\"}],\"location\":\"bottom_left\"},\"id\":\"1503\",\"type\":\"Legend\"},{\"attributes\":{\"line_alpha\":0.1,\"line_color\":\"#1f77b4\",\"x\":{\"field\":\"x\"},\"y\":{\"field\":\"y\"}},\"id\":\"1494\",\"type\":\"Line\"},{\"attributes\":{\"callback\":null},\"id\":\"1461\",\"type\":\"DataRange1d\"},{\"attributes\":{},\"id\":\"1483\",\"type\":\"ResetTool\"},{\"attributes\":{\"line_color\":\"#5430F1\",\"x\":{\"field\":\"x\"},\"y\":{\"field\":\"y\"}},\"id\":\"1511\",\"type\":\"Line\"},{\"attributes\":{\"line_color\":\"#2CC775\",\"x\":{\"field\":\"x\"},\"y\":{\"field\":\"y\"}},\"id\":\"1532\",\"type\":\"Line\"},{\"attributes\":{},\"id\":\"1482\",\"type\":\"SaveTool\"},{\"attributes\":{},\"id\":\"1522\",\"type\":\"UnionRenderers\"},{\"attributes\":{},\"id\":\"1465\",\"type\":\"LinearScale\"},{\"attributes\":{\"label\":{\"value\":\"OECD\"},\"renderers\":[{\"id\":\"1534\",\"type\":\"GlyphRenderer\"}]},\"id\":\"1550\",\"type\":\"LegendItem\"},{\"attributes\":{\"source\":{\"id\":\"1531\",\"type\":\"ColumnDataSource\"}},\"id\":\"1535\",\"type\":\"CDSView\"},{\"attributes\":{},\"id\":\"1521\",\"type\":\"Selection\"},{\"attributes\":{},\"id\":\"1467\",\"type\":\"LinearScale\"},{\"attributes\":{\"active_drag\":\"auto\",\"active_inspect\":\"auto\",\"active_multi\":null,\"active_scroll\":\"auto\",\"active_tap\":\"auto\",\"tools\":[{\"id\":\"1479\",\"type\":\"PanTool\"},{\"id\":\"1480\",\"type\":\"WheelZoomTool\"},{\"id\":\"1481\",\"type\":\"BoxZoomTool\"},{\"id\":\"1482\",\"type\":\"SaveTool\"},{\"id\":\"1483\",\"type\":\"ResetTool\"},{\"id\":\"1484\",\"type\":\"HelpTool\"},{\"id\":\"1556\",\"type\":\"HoverTool\"}]},\"id\":\"1485\",\"type\":\"Toolbar\"},{\"attributes\":{\"source\":{\"id\":\"1510\",\"type\":\"ColumnDataSource\"}},\"id\":\"1514\",\"type\":\"CDSView\"}],\"root_ids\":[\"1458\"]},\"title\":\"Bokeh Application\",\"version\":\"1.3.4\"}};\n",
       "  var render_items = [{\"docid\":\"8b3bade6-3fdb-40fe-a28d-9ac07ffc6dfa\",\"roots\":{\"1458\":\"dea9e337-1c66-44ac-a3ee-56117d09e2bb\"}}];\n",
       "  root.Bokeh.embed.embed_items_notebook(docs_json, render_items);\n",
       "\n",
       "  }\n",
       "  if (root.Bokeh !== undefined) {\n",
       "    embed_document(root);\n",
       "  } else {\n",
       "    var attempts = 0;\n",
       "    var timer = setInterval(function(root) {\n",
       "      if (root.Bokeh !== undefined) {\n",
       "        embed_document(root);\n",
       "        clearInterval(timer);\n",
       "      }\n",
       "      attempts++;\n",
       "      if (attempts > 100) {\n",
       "        console.log(\"Bokeh: ERROR: Unable to run BokehJS code because BokehJS library is missing\");\n",
       "        clearInterval(timer);\n",
       "      }\n",
       "    }, 10, root)\n",
       "  }\n",
       "})(window);"
      ],
      "application/vnd.bokehjs_exec.v0+json": ""
     },
     "metadata": {
      "application/vnd.bokehjs_exec.v0+json": {
       "id": "1458"
      }
     },
     "output_type": "display_data"
    }
   ],
   "source": [
    "# Rural population as a percentage of total population\n",
    "result = show_weighted_average(years, 'SP.RUR.TOTL.ZS', 'SP.POP.TOTL', \n",
    "                               ['LDCs', 'Developing excluding LDCs', 'OECD'])"
   ]
  },
  {
   "cell_type": "code",
   "execution_count": 8,
   "metadata": {
    "ExecuteTime": {
     "end_time": "2019-10-25T14:24:46.376641Z",
     "start_time": "2019-10-25T14:24:45.418470Z"
    },
    "slideshow": {
     "slide_type": "slide"
    }
   },
   "outputs": [
    {
     "data": {
      "text/html": [
       "\n",
       "\n",
       "\n",
       "\n",
       "\n",
       "\n",
       "  <div class=\"bk-root\" id=\"6cf69d27-2d68-4816-92e3-4ad4129eb4ae\" data-root-id=\"1719\"></div>\n"
      ]
     },
     "metadata": {},
     "output_type": "display_data"
    },
    {
     "data": {
      "application/javascript": [
       "(function(root) {\n",
       "  function embed_document(root) {\n",
       "    \n",
       "  var docs_json = {\"3d6ee0f0-36e7-4122-b78e-f6db920c622b\":{\"roots\":{\"references\":[{\"attributes\":{\"below\":[{\"id\":\"1730\",\"type\":\"LinearAxis\"}],\"center\":[{\"id\":\"1734\",\"type\":\"Grid\"},{\"id\":\"1739\",\"type\":\"Grid\"},{\"id\":\"1764\",\"type\":\"Legend\"}],\"left\":[{\"id\":\"1735\",\"type\":\"LinearAxis\"}],\"plot_height\":400,\"plot_width\":900,\"renderers\":[{\"id\":\"1756\",\"type\":\"GlyphRenderer\"},{\"id\":\"1769\",\"type\":\"GlyphRenderer\"}],\"title\":{\"id\":\"1720\",\"type\":\"Title\"},\"toolbar\":{\"id\":\"1746\",\"type\":\"Toolbar\"},\"x_range\":{\"id\":\"1722\",\"type\":\"DataRange1d\"},\"x_scale\":{\"id\":\"1726\",\"type\":\"LinearScale\"},\"y_range\":{\"id\":\"1724\",\"type\":\"DataRange1d\"},\"y_scale\":{\"id\":\"1728\",\"type\":\"LinearScale\"}},\"id\":\"1719\",\"subtype\":\"Figure\",\"type\":\"Plot\"},{\"attributes\":{},\"id\":\"1744\",\"type\":\"ResetTool\"},{\"attributes\":{},\"id\":\"1834\",\"type\":\"Selection\"},{\"attributes\":{},\"id\":\"1745\",\"type\":\"HelpTool\"},{\"attributes\":{\"callback\":null},\"id\":\"1722\",\"type\":\"DataRange1d\"},{\"attributes\":{\"active_drag\":\"auto\",\"active_inspect\":\"auto\",\"active_multi\":null,\"active_scroll\":\"auto\",\"active_tap\":\"auto\",\"tools\":[{\"id\":\"1740\",\"type\":\"PanTool\"},{\"id\":\"1741\",\"type\":\"WheelZoomTool\"},{\"id\":\"1742\",\"type\":\"BoxZoomTool\"},{\"id\":\"1743\",\"type\":\"SaveTool\"},{\"id\":\"1744\",\"type\":\"ResetTool\"},{\"id\":\"1745\",\"type\":\"HelpTool\"},{\"id\":\"1771\",\"type\":\"HoverTool\"}]},\"id\":\"1746\",\"type\":\"Toolbar\"},{\"attributes\":{},\"id\":\"1835\",\"type\":\"UnionRenderers\"},{\"attributes\":{\"line_alpha\":0.1,\"line_color\":\"#1f77b4\",\"x\":{\"field\":\"x\"},\"y\":{\"field\":\"y\"}},\"id\":\"1755\",\"type\":\"Line\"},{\"attributes\":{\"callback\":null},\"id\":\"1724\",\"type\":\"DataRange1d\"},{\"attributes\":{},\"id\":\"1726\",\"type\":\"LinearScale\"},{\"attributes\":{\"data_source\":{\"id\":\"1753\",\"type\":\"ColumnDataSource\"},\"glyph\":{\"id\":\"1754\",\"type\":\"Line\"},\"hover_glyph\":null,\"muted_glyph\":null,\"nonselection_glyph\":{\"id\":\"1755\",\"type\":\"Line\"},\"selection_glyph\":null,\"view\":{\"id\":\"1757\",\"type\":\"CDSView\"}},\"id\":\"1756\",\"type\":\"GlyphRenderer\"},{\"attributes\":{\"source\":{\"id\":\"1753\",\"type\":\"ColumnDataSource\"}},\"id\":\"1757\",\"type\":\"CDSView\"},{\"attributes\":{},\"id\":\"1728\",\"type\":\"LinearScale\"},{\"attributes\":{},\"id\":\"1759\",\"type\":\"BasicTickFormatter\"},{\"attributes\":{\"axis_label\":\"Years\",\"formatter\":{\"id\":\"1761\",\"type\":\"BasicTickFormatter\"},\"ticker\":{\"id\":\"1731\",\"type\":\"BasicTicker\"}},\"id\":\"1730\",\"type\":\"LinearAxis\"},{\"attributes\":{},\"id\":\"1761\",\"type\":\"BasicTickFormatter\"},{\"attributes\":{},\"id\":\"1731\",\"type\":\"BasicTicker\"},{\"attributes\":{\"bottom_units\":\"screen\",\"fill_alpha\":{\"value\":0.5},\"fill_color\":{\"value\":\"lightgrey\"},\"left_units\":\"screen\",\"level\":\"overlay\",\"line_alpha\":{\"value\":1.0},\"line_color\":{\"value\":\"black\"},\"line_dash\":[4,4],\"line_width\":{\"value\":2},\"render_mode\":\"css\",\"right_units\":\"screen\",\"top_units\":\"screen\"},\"id\":\"1763\",\"type\":\"BoxAnnotation\"},{\"attributes\":{\"grid_line_color\":null,\"ticker\":{\"id\":\"1731\",\"type\":\"BasicTicker\"}},\"id\":\"1734\",\"type\":\"Grid\"},{\"attributes\":{\"items\":[{\"id\":\"1765\",\"type\":\"LegendItem\"}],\"location\":\"bottom_left\"},\"id\":\"1764\",\"type\":\"Legend\"},{\"attributes\":{\"axis_label\":\"SP.RUR.TOTL\",\"formatter\":{\"id\":\"1759\",\"type\":\"BasicTickFormatter\"},\"ticker\":{\"id\":\"1736\",\"type\":\"BasicTicker\"}},\"id\":\"1735\",\"type\":\"LinearAxis\"},{\"attributes\":{\"label\":{\"value\":\"LDCs\"},\"renderers\":[{\"id\":\"1756\",\"type\":\"GlyphRenderer\"}]},\"id\":\"1765\",\"type\":\"LegendItem\"},{\"attributes\":{},\"id\":\"1736\",\"type\":\"BasicTicker\"},{\"attributes\":{\"callback\":null,\"tooltips\":\"                \\n        <div style=padding=5px>Year:@x</div>\\n        <div style=padding=5px>Value:@y</div>        \\n        \"},\"id\":\"1771\",\"type\":\"HoverTool\"},{\"attributes\":{\"callback\":null,\"data\":{\"x\":[\"1960\",\"1961\",\"1962\",\"1963\",\"1964\",\"1965\",\"1966\",\"1967\",\"1968\",\"1969\",\"1970\",\"1971\",\"1972\",\"1973\",\"1974\",\"1975\",\"1976\",\"1977\",\"1978\",\"1979\",\"1980\",\"1981\",\"1982\",\"1983\",\"1984\",\"1985\",\"1986\",\"1987\",\"1988\",\"1989\",\"1990\",\"1991\",\"1992\",\"1993\",\"1994\",\"1995\",\"1996\",\"1997\",\"1998\",\"1999\",\"2000\",\"2001\",\"2002\",\"2003\",\"2004\",\"2005\",\"2006\",\"2007\",\"2008\",\"2009\",\"2010\",\"2011\",\"2012\",\"2013\",\"2014\",\"2015\",\"2016\",\"2017\"],\"y\":[217201141.0,221648032.0,226185257.0,230852048.0,235678565.0,240689826.0,245905541.0,251232801.0,256646596.0,262035089.0,267378313.0,272530645.0,277556016.0,282587860.0,287723910.0,294963433.0,300466769.0,306095035.0,311835621.0,317790214.0,323594204.0,329769115.0,336725562.0,343761255.0,350844734.0,358052669.0,365463045.0,373065564.0,380863656.0,389023941.0,397380267.0,406151517.0,415295757.0,424676447.0,434374441.0,444118896.0,453786247.0,463345981.0,472977069.0,482765911.0,492753594.0,502654567.0,512565273.0,522500780.0,532434279.0,542199358.0,551913368.0,561924852.0,571250553.0,580616500.0,590103650.0,599729467.0,607552372.0,617585217.0,627707285.0,637891695.0,648126174.0,658398338.0]},\"selected\":{\"id\":\"1834\",\"type\":\"Selection\"},\"selection_policy\":{\"id\":\"1835\",\"type\":\"UnionRenderers\"}},\"id\":\"1766\",\"type\":\"ColumnDataSource\"},{\"attributes\":{\"dimension\":1,\"grid_line_alpha\":0.5,\"ticker\":{\"id\":\"1736\",\"type\":\"BasicTicker\"}},\"id\":\"1739\",\"type\":\"Grid\"},{\"attributes\":{\"fill_color\":{\"value\":\"#FA1857\"},\"line_color\":{\"value\":\"#FA1857\"},\"line_width\":{\"value\":3},\"x\":{\"field\":\"x\"},\"y\":{\"field\":\"y\"}},\"id\":\"1767\",\"type\":\"Circle\"},{\"attributes\":{\"line_color\":\"#FA1857\",\"x\":{\"field\":\"x\"},\"y\":{\"field\":\"y\"}},\"id\":\"1754\",\"type\":\"Line\"},{\"attributes\":{\"fill_alpha\":{\"value\":0.1},\"fill_color\":{\"value\":\"#1f77b4\"},\"line_alpha\":{\"value\":0.1},\"line_color\":{\"value\":\"#1f77b4\"},\"line_width\":{\"value\":3},\"x\":{\"field\":\"x\"},\"y\":{\"field\":\"y\"}},\"id\":\"1768\",\"type\":\"Circle\"},{\"attributes\":{\"callback\":null,\"data\":{\"x\":[\"1960\",\"1961\",\"1962\",\"1963\",\"1964\",\"1965\",\"1966\",\"1967\",\"1968\",\"1969\",\"1970\",\"1971\",\"1972\",\"1973\",\"1974\",\"1975\",\"1976\",\"1977\",\"1978\",\"1979\",\"1980\",\"1981\",\"1982\",\"1983\",\"1984\",\"1985\",\"1986\",\"1987\",\"1988\",\"1989\",\"1990\",\"1991\",\"1992\",\"1993\",\"1994\",\"1995\",\"1996\",\"1997\",\"1998\",\"1999\",\"2000\",\"2001\",\"2002\",\"2003\",\"2004\",\"2005\",\"2006\",\"2007\",\"2008\",\"2009\",\"2010\",\"2011\",\"2012\",\"2013\",\"2014\",\"2015\",\"2016\",\"2017\"],\"y\":[217201141.0,221648032.0,226185257.0,230852048.0,235678565.0,240689826.0,245905541.0,251232801.0,256646596.0,262035089.0,267378313.0,272530645.0,277556016.0,282587860.0,287723910.0,294963433.0,300466769.0,306095035.0,311835621.0,317790214.0,323594204.0,329769115.0,336725562.0,343761255.0,350844734.0,358052669.0,365463045.0,373065564.0,380863656.0,389023941.0,397380267.0,406151517.0,415295757.0,424676447.0,434374441.0,444118896.0,453786247.0,463345981.0,472977069.0,482765911.0,492753594.0,502654567.0,512565273.0,522500780.0,532434279.0,542199358.0,551913368.0,561924852.0,571250553.0,580616500.0,590103650.0,599729467.0,607552372.0,617585217.0,627707285.0,637891695.0,648126174.0,658398338.0]},\"selected\":{\"id\":\"1832\",\"type\":\"Selection\"},\"selection_policy\":{\"id\":\"1833\",\"type\":\"UnionRenderers\"}},\"id\":\"1753\",\"type\":\"ColumnDataSource\"},{\"attributes\":{\"data_source\":{\"id\":\"1766\",\"type\":\"ColumnDataSource\"},\"glyph\":{\"id\":\"1767\",\"type\":\"Circle\"},\"hover_glyph\":null,\"muted_glyph\":null,\"nonselection_glyph\":{\"id\":\"1768\",\"type\":\"Circle\"},\"selection_glyph\":null,\"view\":{\"id\":\"1770\",\"type\":\"CDSView\"}},\"id\":\"1769\",\"type\":\"GlyphRenderer\"},{\"attributes\":{},\"id\":\"1740\",\"type\":\"PanTool\"},{\"attributes\":{\"source\":{\"id\":\"1766\",\"type\":\"ColumnDataSource\"}},\"id\":\"1770\",\"type\":\"CDSView\"},{\"attributes\":{\"text\":\"Rural population\"},\"id\":\"1720\",\"type\":\"Title\"},{\"attributes\":{},\"id\":\"1741\",\"type\":\"WheelZoomTool\"},{\"attributes\":{\"overlay\":{\"id\":\"1763\",\"type\":\"BoxAnnotation\"}},\"id\":\"1742\",\"type\":\"BoxZoomTool\"},{\"attributes\":{},\"id\":\"1832\",\"type\":\"Selection\"},{\"attributes\":{},\"id\":\"1743\",\"type\":\"SaveTool\"},{\"attributes\":{},\"id\":\"1833\",\"type\":\"UnionRenderers\"}],\"root_ids\":[\"1719\"]},\"title\":\"Bokeh Application\",\"version\":\"1.3.4\"}};\n",
       "  var render_items = [{\"docid\":\"3d6ee0f0-36e7-4122-b78e-f6db920c622b\",\"roots\":{\"1719\":\"6cf69d27-2d68-4816-92e3-4ad4129eb4ae\"}}];\n",
       "  root.Bokeh.embed.embed_items_notebook(docs_json, render_items);\n",
       "\n",
       "  }\n",
       "  if (root.Bokeh !== undefined) {\n",
       "    embed_document(root);\n",
       "  } else {\n",
       "    var attempts = 0;\n",
       "    var timer = setInterval(function(root) {\n",
       "      if (root.Bokeh !== undefined) {\n",
       "        embed_document(root);\n",
       "        clearInterval(timer);\n",
       "      }\n",
       "      attempts++;\n",
       "      if (attempts > 100) {\n",
       "        console.log(\"Bokeh: ERROR: Unable to run BokehJS code because BokehJS library is missing\");\n",
       "        clearInterval(timer);\n",
       "      }\n",
       "    }, 10, root)\n",
       "  }\n",
       "})(window);"
      ],
      "application/vnd.bokehjs_exec.v0+json": ""
     },
     "metadata": {
      "application/vnd.bokehjs_exec.v0+json": {
       "id": "1719"
      }
     },
     "output_type": "display_data"
    }
   ],
   "source": [
    "result = show_group_total(years, 'SP.RUR.TOTL', ['LDCs'])"
   ]
  },
  {
   "cell_type": "code",
   "execution_count": 9,
   "metadata": {
    "ExecuteTime": {
     "end_time": "2019-10-25T14:24:52.788910Z",
     "start_time": "2019-10-25T14:24:46.379697Z"
    },
    "slideshow": {
     "slide_type": "slide"
    }
   },
   "outputs": [
    {
     "data": {
      "text/html": [
       "\n",
       "\n",
       "\n",
       "\n",
       "\n",
       "\n",
       "  <div class=\"bk-root\" id=\"ec490d2e-2efc-49b5-b445-c692c2730768\" data-root-id=\"1896\"></div>\n"
      ]
     },
     "metadata": {},
     "output_type": "display_data"
    },
    {
     "data": {
      "application/javascript": [
       "(function(root) {\n",
       "  function embed_document(root) {\n",
       "    \n",
       "  var docs_json = {\"fe4081dd-7140-4a44-ad1c-d81b7f1b4f7a\":{\"roots\":{\"references\":[{\"attributes\":{\"below\":[{\"id\":\"1907\",\"type\":\"LinearAxis\"}],\"center\":[{\"id\":\"1911\",\"type\":\"Grid\"},{\"id\":\"1916\",\"type\":\"Grid\"},{\"id\":\"1941\",\"type\":\"Legend\"}],\"left\":[{\"id\":\"1912\",\"type\":\"LinearAxis\"}],\"plot_height\":400,\"plot_width\":800,\"renderers\":[{\"id\":\"1933\",\"type\":\"GlyphRenderer\"},{\"id\":\"1946\",\"type\":\"GlyphRenderer\"},{\"id\":\"1951\",\"type\":\"GlyphRenderer\"},{\"id\":\"1967\",\"type\":\"GlyphRenderer\"},{\"id\":\"1972\",\"type\":\"GlyphRenderer\"},{\"id\":\"1992\",\"type\":\"GlyphRenderer\"},{\"id\":\"1997\",\"type\":\"GlyphRenderer\"},{\"id\":\"2021\",\"type\":\"GlyphRenderer\"}],\"title\":{\"id\":\"1897\",\"type\":\"Title\"},\"toolbar\":{\"id\":\"1923\",\"type\":\"Toolbar\"},\"x_range\":{\"id\":\"1899\",\"type\":\"DataRange1d\"},\"x_scale\":{\"id\":\"1903\",\"type\":\"LinearScale\"},\"y_range\":{\"id\":\"1901\",\"type\":\"DataRange1d\"},\"y_scale\":{\"id\":\"1905\",\"type\":\"LinearScale\"}},\"id\":\"1896\",\"subtype\":\"Figure\",\"type\":\"Plot\"},{\"attributes\":{},\"id\":\"1903\",\"type\":\"LinearScale\"},{\"attributes\":{\"callback\":null},\"id\":\"1901\",\"type\":\"DataRange1d\"},{\"attributes\":{\"callback\":null},\"id\":\"1899\",\"type\":\"DataRange1d\"},{\"attributes\":{\"text\":\"Population ages 0-14 (% of total population) weighted against Population, total\"},\"id\":\"1897\",\"type\":\"Title\"},{\"attributes\":{},\"id\":\"1922\",\"type\":\"HelpTool\"},{\"attributes\":{\"active_drag\":\"auto\",\"active_inspect\":\"auto\",\"active_multi\":null,\"active_scroll\":\"auto\",\"active_tap\":\"auto\",\"tools\":[{\"id\":\"1917\",\"type\":\"PanTool\"},{\"id\":\"1918\",\"type\":\"WheelZoomTool\"},{\"id\":\"1919\",\"type\":\"BoxZoomTool\"},{\"id\":\"1920\",\"type\":\"SaveTool\"},{\"id\":\"1921\",\"type\":\"ResetTool\"},{\"id\":\"1922\",\"type\":\"HelpTool\"},{\"id\":\"2023\",\"type\":\"HoverTool\"}]},\"id\":\"1923\",\"type\":\"Toolbar\"},{\"attributes\":{\"overlay\":{\"id\":\"1940\",\"type\":\"BoxAnnotation\"}},\"id\":\"1919\",\"type\":\"BoxZoomTool\"},{\"attributes\":{},\"id\":\"1920\",\"type\":\"SaveTool\"},{\"attributes\":{\"callback\":null,\"data\":{\"x\":[\"2000\",\"2001\",\"2002\",\"2003\",\"2004\",\"2005\",\"2006\",\"2007\",\"2008\",\"2009\",\"2010\",\"2011\",\"2012\",\"2013\",\"2014\",\"2015\",\"2016\",\"2017\"],\"y\":[43.05250753237409,42.92645426230383,42.78153339187954,42.623671123778905,42.4538109516677,42.26938810853834,42.15716163307373,42.02039711340489,41.86147936931502,41.68421796662147,41.49082505944,41.290660205111934,41.06737328423549,40.819736905133695,40.55543302226044,40.27763880852747,40.006149187520116,39.721083369953]},\"selected\":{\"id\":\"1959\",\"type\":\"Selection\"},\"selection_policy\":{\"id\":\"1960\",\"type\":\"UnionRenderers\"}},\"id\":\"1930\",\"type\":\"ColumnDataSource\"},{\"attributes\":{},\"id\":\"1921\",\"type\":\"ResetTool\"},{\"attributes\":{\"line_alpha\":0.1,\"line_color\":\"#1f77b4\",\"x\":{\"field\":\"x\"},\"y\":{\"field\":\"y\"}},\"id\":\"1932\",\"type\":\"Line\"},{\"attributes\":{\"callback\":null,\"tooltips\":\"                \\n        <div style=padding=5px>Year:@x</div>\\n        <div style=padding=5px>Value:@y</div>        \\n        \"},\"id\":\"2023\",\"type\":\"HoverTool\"},{\"attributes\":{},\"id\":\"1917\",\"type\":\"PanTool\"},{\"attributes\":{},\"id\":\"1913\",\"type\":\"BasicTicker\"},{\"attributes\":{},\"id\":\"1918\",\"type\":\"WheelZoomTool\"},{\"attributes\":{\"dimension\":1,\"grid_line_alpha\":0.5,\"ticker\":{\"id\":\"1913\",\"type\":\"BasicTicker\"}},\"id\":\"1916\",\"type\":\"Grid\"},{\"attributes\":{\"line_color\":\"#FA1857\",\"x\":{\"field\":\"x\"},\"y\":{\"field\":\"y\"}},\"id\":\"1931\",\"type\":\"Line\"},{\"attributes\":{\"grid_line_color\":null,\"ticker\":{\"id\":\"1908\",\"type\":\"BasicTicker\"}},\"id\":\"1911\",\"type\":\"Grid\"},{\"attributes\":{\"axis_label\":\"SP.POP.0014.TO.ZS\",\"formatter\":{\"id\":\"1936\",\"type\":\"BasicTickFormatter\"},\"ticker\":{\"id\":\"1913\",\"type\":\"BasicTicker\"}},\"id\":\"1912\",\"type\":\"LinearAxis\"},{\"attributes\":{},\"id\":\"1905\",\"type\":\"LinearScale\"},{\"attributes\":{\"axis_label\":\"Years\",\"formatter\":{\"id\":\"1938\",\"type\":\"BasicTickFormatter\"},\"ticker\":{\"id\":\"1908\",\"type\":\"BasicTicker\"}},\"id\":\"1907\",\"type\":\"LinearAxis\"},{\"attributes\":{},\"id\":\"1908\",\"type\":\"BasicTicker\"},{\"attributes\":{\"fill_color\":{\"value\":\"#F4CA04\"},\"line_color\":{\"value\":\"#F4CA04\"},\"line_width\":{\"value\":3},\"x\":{\"field\":\"x\"},\"y\":{\"field\":\"y\"}},\"id\":\"2019\",\"type\":\"Circle\"},{\"attributes\":{},\"id\":\"2107\",\"type\":\"UnionRenderers\"},{\"attributes\":{},\"id\":\"2016\",\"type\":\"UnionRenderers\"},{\"attributes\":{\"label\":{\"value\":\"UMICs\"},\"renderers\":[{\"id\":\"1997\",\"type\":\"GlyphRenderer\"}]},\"id\":\"2017\",\"type\":\"LegendItem\"},{\"attributes\":{},\"id\":\"2106\",\"type\":\"Selection\"},{\"attributes\":{\"callback\":null,\"data\":{\"x\":[\"2000\",\"2001\",\"2002\",\"2003\",\"2004\",\"2005\",\"2006\",\"2007\",\"2008\",\"2009\",\"2010\",\"2011\",\"2012\",\"2013\",\"2014\",\"2015\",\"2016\",\"2017\"],\"y\":[26.30800939099633,25.774296102468575,25.026248850289214,24.166506585119667,23.378611198688276,22.7564057756466,22.23850077501672,21.855123550494294,21.582316836822265,21.352857582015258,21.131736385781664,20.96685520801494,20.822031831895877,20.69432052610686,20.584341818712765,20.487134501741675,20.399401670984584,20.307288003226695]},\"selected\":{\"id\":\"2108\",\"type\":\"Selection\"},\"selection_policy\":{\"id\":\"2109\",\"type\":\"UnionRenderers\"}},\"id\":\"2018\",\"type\":\"ColumnDataSource\"},{\"attributes\":{},\"id\":\"2013\",\"type\":\"Selection\"},{\"attributes\":{},\"id\":\"2014\",\"type\":\"UnionRenderers\"},{\"attributes\":{\"source\":{\"id\":\"2018\",\"type\":\"ColumnDataSource\"}},\"id\":\"2022\",\"type\":\"CDSView\"},{\"attributes\":{},\"id\":\"2015\",\"type\":\"Selection\"},{\"attributes\":{\"line_alpha\":0.1,\"line_color\":\"#1f77b4\",\"x\":{\"field\":\"x\"},\"y\":{\"field\":\"y\"}},\"id\":\"1996\",\"type\":\"Line\"},{\"attributes\":{\"data_source\":{\"id\":\"2018\",\"type\":\"ColumnDataSource\"},\"glyph\":{\"id\":\"2019\",\"type\":\"Circle\"},\"hover_glyph\":null,\"muted_glyph\":null,\"nonselection_glyph\":{\"id\":\"2020\",\"type\":\"Circle\"},\"selection_glyph\":null,\"view\":{\"id\":\"2022\",\"type\":\"CDSView\"}},\"id\":\"2021\",\"type\":\"GlyphRenderer\"},{\"attributes\":{\"data_source\":{\"id\":\"1994\",\"type\":\"ColumnDataSource\"},\"glyph\":{\"id\":\"1995\",\"type\":\"Line\"},\"hover_glyph\":null,\"muted_glyph\":null,\"nonselection_glyph\":{\"id\":\"1996\",\"type\":\"Line\"},\"selection_glyph\":null,\"view\":{\"id\":\"1998\",\"type\":\"CDSView\"}},\"id\":\"1997\",\"type\":\"GlyphRenderer\"},{\"attributes\":{\"source\":{\"id\":\"1994\",\"type\":\"ColumnDataSource\"}},\"id\":\"1998\",\"type\":\"CDSView\"},{\"attributes\":{\"fill_color\":{\"value\":\"#5430F1\"},\"line_color\":{\"value\":\"#5430F1\"},\"line_width\":{\"value\":3},\"x\":{\"field\":\"x\"},\"y\":{\"field\":\"y\"}},\"id\":\"1965\",\"type\":\"Circle\"},{\"attributes\":{\"source\":{\"id\":\"1989\",\"type\":\"ColumnDataSource\"}},\"id\":\"1993\",\"type\":\"CDSView\"},{\"attributes\":{\"fill_alpha\":{\"value\":0.1},\"fill_color\":{\"value\":\"#1f77b4\"},\"line_alpha\":{\"value\":0.1},\"line_color\":{\"value\":\"#1f77b4\"},\"line_width\":{\"value\":3},\"x\":{\"field\":\"x\"},\"y\":{\"field\":\"y\"}},\"id\":\"2020\",\"type\":\"Circle\"},{\"attributes\":{\"fill_alpha\":{\"value\":0.1},\"fill_color\":{\"value\":\"#1f77b4\"},\"line_alpha\":{\"value\":0.1},\"line_color\":{\"value\":\"#1f77b4\"},\"line_width\":{\"value\":3},\"x\":{\"field\":\"x\"},\"y\":{\"field\":\"y\"}},\"id\":\"1966\",\"type\":\"Circle\"},{\"attributes\":{\"callback\":null,\"data\":{\"x\":[\"2000\",\"2001\",\"2002\",\"2003\",\"2004\",\"2005\",\"2006\",\"2007\",\"2008\",\"2009\",\"2010\",\"2011\",\"2012\",\"2013\",\"2014\",\"2015\",\"2016\",\"2017\"],\"y\":[26.30800939099633,25.774296102468575,25.026248850289214,24.166506585119667,23.378611198688276,22.7564057756466,22.23850077501672,21.855123550494294,21.582316836822265,21.352857582015258,21.131736385781664,20.96685520801494,20.822031831895877,20.69432052610686,20.584341818712765,20.487134501741675,20.399401670984584,20.307288003226695]},\"selected\":{\"id\":\"2106\",\"type\":\"Selection\"},\"selection_policy\":{\"id\":\"2107\",\"type\":\"UnionRenderers\"}},\"id\":\"1994\",\"type\":\"ColumnDataSource\"},{\"attributes\":{\"data_source\":{\"id\":\"1964\",\"type\":\"ColumnDataSource\"},\"glyph\":{\"id\":\"1965\",\"type\":\"Circle\"},\"hover_glyph\":null,\"muted_glyph\":null,\"nonselection_glyph\":{\"id\":\"1966\",\"type\":\"Circle\"},\"selection_glyph\":null,\"view\":{\"id\":\"1968\",\"type\":\"CDSView\"}},\"id\":\"1967\",\"type\":\"GlyphRenderer\"},{\"attributes\":{\"line_color\":\"#F4CA04\",\"x\":{\"field\":\"x\"},\"y\":{\"field\":\"y\"}},\"id\":\"1995\",\"type\":\"Line\"},{\"attributes\":{\"fill_color\":{\"value\":\"#2CC775\"},\"line_color\":{\"value\":\"#2CC775\"},\"line_width\":{\"value\":3},\"x\":{\"field\":\"x\"},\"y\":{\"field\":\"y\"}},\"id\":\"1990\",\"type\":\"Circle\"},{\"attributes\":{},\"id\":\"1962\",\"type\":\"UnionRenderers\"},{\"attributes\":{\"fill_alpha\":{\"value\":0.1},\"fill_color\":{\"value\":\"#1f77b4\"},\"line_alpha\":{\"value\":0.1},\"line_color\":{\"value\":\"#1f77b4\"},\"line_width\":{\"value\":3},\"x\":{\"field\":\"x\"},\"y\":{\"field\":\"y\"}},\"id\":\"1991\",\"type\":\"Circle\"},{\"attributes\":{\"label\":{\"value\":\"Developing excluding LDCs\"},\"renderers\":[{\"id\":\"1951\",\"type\":\"GlyphRenderer\"}]},\"id\":\"1963\",\"type\":\"LegendItem\"},{\"attributes\":{\"data_source\":{\"id\":\"1989\",\"type\":\"ColumnDataSource\"},\"glyph\":{\"id\":\"1990\",\"type\":\"Circle\"},\"hover_glyph\":null,\"muted_glyph\":null,\"nonselection_glyph\":{\"id\":\"1991\",\"type\":\"Circle\"},\"selection_glyph\":null,\"view\":{\"id\":\"1993\",\"type\":\"CDSView\"}},\"id\":\"1992\",\"type\":\"GlyphRenderer\"},{\"attributes\":{\"callback\":null,\"data\":{\"x\":[\"2000\",\"2001\",\"2002\",\"2003\",\"2004\",\"2005\",\"2006\",\"2007\",\"2008\",\"2009\",\"2010\",\"2011\",\"2012\",\"2013\",\"2014\",\"2015\",\"2016\",\"2017\"],\"y\":[31.46247449723159,31.051171911215434,30.519130398965917,29.925822930439033,29.3696380683664,28.89970990346446,28.48061580116519,28.13477676517371,27.845842847927425,27.57508608250911,27.302294757124095,27.06200424509802,26.817074946864174,26.571303888699866,26.33248478028756,26.10246731610828,25.884872437055105,25.670861481196635]},\"selected\":{\"id\":\"1986\",\"type\":\"Selection\"},\"selection_policy\":{\"id\":\"1987\",\"type\":\"UnionRenderers\"}},\"id\":\"1964\",\"type\":\"ColumnDataSource\"},{\"attributes\":{},\"id\":\"1959\",\"type\":\"Selection\"},{\"attributes\":{},\"id\":\"1987\",\"type\":\"UnionRenderers\"},{\"attributes\":{},\"id\":\"1960\",\"type\":\"UnionRenderers\"},{\"attributes\":{\"label\":{\"value\":\"OECD\"},\"renderers\":[{\"id\":\"1972\",\"type\":\"GlyphRenderer\"}]},\"id\":\"1988\",\"type\":\"LegendItem\"},{\"attributes\":{\"callback\":null,\"data\":{\"x\":[\"2000\",\"2001\",\"2002\",\"2003\",\"2004\",\"2005\",\"2006\",\"2007\",\"2008\",\"2009\",\"2010\",\"2011\",\"2012\",\"2013\",\"2014\",\"2015\",\"2016\",\"2017\"],\"y\":[20.653439230371426,20.415555136413452,20.200407075212425,19.99721546354425,19.792580083113325,19.58153049491419,19.42936673752946,19.266708712785178,19.10062316536645,18.940792466102835,18.78763312883592,18.68284269266012,18.553760570557017,18.4175092045611,18.28626606521173,18.163323640146963,18.042734326142373,17.93618839869138]},\"selected\":{\"id\":\"2015\",\"type\":\"Selection\"},\"selection_policy\":{\"id\":\"2016\",\"type\":\"UnionRenderers\"}},\"id\":\"1989\",\"type\":\"ColumnDataSource\"},{\"attributes\":{},\"id\":\"1961\",\"type\":\"Selection\"},{\"attributes\":{\"line_alpha\":0.1,\"line_color\":\"#1f77b4\",\"x\":{\"field\":\"x\"},\"y\":{\"field\":\"y\"}},\"id\":\"1950\",\"type\":\"Line\"},{\"attributes\":{},\"id\":\"1984\",\"type\":\"Selection\"},{\"attributes\":{\"data_source\":{\"id\":\"1948\",\"type\":\"ColumnDataSource\"},\"glyph\":{\"id\":\"1949\",\"type\":\"Line\"},\"hover_glyph\":null,\"muted_glyph\":null,\"nonselection_glyph\":{\"id\":\"1950\",\"type\":\"Line\"},\"selection_glyph\":null,\"view\":{\"id\":\"1952\",\"type\":\"CDSView\"}},\"id\":\"1951\",\"type\":\"GlyphRenderer\"},{\"attributes\":{},\"id\":\"1985\",\"type\":\"UnionRenderers\"},{\"attributes\":{\"source\":{\"id\":\"1948\",\"type\":\"ColumnDataSource\"}},\"id\":\"1952\",\"type\":\"CDSView\"},{\"attributes\":{},\"id\":\"1986\",\"type\":\"Selection\"},{\"attributes\":{\"source\":{\"id\":\"1943\",\"type\":\"ColumnDataSource\"}},\"id\":\"1947\",\"type\":\"CDSView\"},{\"attributes\":{\"line_alpha\":0.1,\"line_color\":\"#1f77b4\",\"x\":{\"field\":\"x\"},\"y\":{\"field\":\"y\"}},\"id\":\"1971\",\"type\":\"Line\"},{\"attributes\":{\"data_source\":{\"id\":\"1969\",\"type\":\"ColumnDataSource\"},\"glyph\":{\"id\":\"1970\",\"type\":\"Line\"},\"hover_glyph\":null,\"muted_glyph\":null,\"nonselection_glyph\":{\"id\":\"1971\",\"type\":\"Line\"},\"selection_glyph\":null,\"view\":{\"id\":\"1973\",\"type\":\"CDSView\"}},\"id\":\"1972\",\"type\":\"GlyphRenderer\"},{\"attributes\":{\"callback\":null,\"data\":{\"x\":[\"2000\",\"2001\",\"2002\",\"2003\",\"2004\",\"2005\",\"2006\",\"2007\",\"2008\",\"2009\",\"2010\",\"2011\",\"2012\",\"2013\",\"2014\",\"2015\",\"2016\",\"2017\"],\"y\":[31.46247449723159,31.051171911215434,30.519130398965917,29.925822930439033,29.3696380683664,28.89970990346446,28.48061580116519,28.13477676517371,27.845842847927425,27.57508608250911,27.302294757124095,27.06200424509802,26.817074946864174,26.571303888699866,26.33248478028756,26.10246731610828,25.884872437055105,25.670861481196635]},\"selected\":{\"id\":\"1984\",\"type\":\"Selection\"},\"selection_policy\":{\"id\":\"1985\",\"type\":\"UnionRenderers\"}},\"id\":\"1948\",\"type\":\"ColumnDataSource\"},{\"attributes\":{\"line_color\":\"#5430F1\",\"x\":{\"field\":\"x\"},\"y\":{\"field\":\"y\"}},\"id\":\"1949\",\"type\":\"Line\"},{\"attributes\":{\"source\":{\"id\":\"1969\",\"type\":\"ColumnDataSource\"}},\"id\":\"1973\",\"type\":\"CDSView\"},{\"attributes\":{\"fill_color\":{\"value\":\"#FA1857\"},\"line_color\":{\"value\":\"#FA1857\"},\"line_width\":{\"value\":3},\"x\":{\"field\":\"x\"},\"y\":{\"field\":\"y\"}},\"id\":\"1944\",\"type\":\"Circle\"},{\"attributes\":{\"source\":{\"id\":\"1964\",\"type\":\"ColumnDataSource\"}},\"id\":\"1968\",\"type\":\"CDSView\"},{\"attributes\":{\"fill_alpha\":{\"value\":0.1},\"fill_color\":{\"value\":\"#1f77b4\"},\"line_alpha\":{\"value\":0.1},\"line_color\":{\"value\":\"#1f77b4\"},\"line_width\":{\"value\":3},\"x\":{\"field\":\"x\"},\"y\":{\"field\":\"y\"}},\"id\":\"1945\",\"type\":\"Circle\"},{\"attributes\":{\"callback\":null,\"data\":{\"x\":[\"2000\",\"2001\",\"2002\",\"2003\",\"2004\",\"2005\",\"2006\",\"2007\",\"2008\",\"2009\",\"2010\",\"2011\",\"2012\",\"2013\",\"2014\",\"2015\",\"2016\",\"2017\"],\"y\":[20.653439230371426,20.415555136413452,20.200407075212425,19.99721546354425,19.792580083113325,19.58153049491419,19.42936673752946,19.266708712785178,19.10062316536645,18.940792466102835,18.78763312883592,18.68284269266012,18.553760570557017,18.4175092045611,18.28626606521173,18.163323640146963,18.042734326142373,17.93618839869138]},\"selected\":{\"id\":\"2013\",\"type\":\"Selection\"},\"selection_policy\":{\"id\":\"2014\",\"type\":\"UnionRenderers\"}},\"id\":\"1969\",\"type\":\"ColumnDataSource\"},{\"attributes\":{\"data_source\":{\"id\":\"1943\",\"type\":\"ColumnDataSource\"},\"glyph\":{\"id\":\"1944\",\"type\":\"Circle\"},\"hover_glyph\":null,\"muted_glyph\":null,\"nonselection_glyph\":{\"id\":\"1945\",\"type\":\"Circle\"},\"selection_glyph\":null,\"view\":{\"id\":\"1947\",\"type\":\"CDSView\"}},\"id\":\"1946\",\"type\":\"GlyphRenderer\"},{\"attributes\":{\"line_color\":\"#2CC775\",\"x\":{\"field\":\"x\"},\"y\":{\"field\":\"y\"}},\"id\":\"1970\",\"type\":\"Line\"},{\"attributes\":{\"items\":[{\"id\":\"1942\",\"type\":\"LegendItem\"},{\"id\":\"1963\",\"type\":\"LegendItem\"},{\"id\":\"1988\",\"type\":\"LegendItem\"},{\"id\":\"2017\",\"type\":\"LegendItem\"}],\"location\":\"bottom_left\"},\"id\":\"1941\",\"type\":\"Legend\"},{\"attributes\":{\"label\":{\"value\":\"LDCs\"},\"renderers\":[{\"id\":\"1933\",\"type\":\"GlyphRenderer\"}]},\"id\":\"1942\",\"type\":\"LegendItem\"},{\"attributes\":{\"callback\":null,\"data\":{\"x\":[\"2000\",\"2001\",\"2002\",\"2003\",\"2004\",\"2005\",\"2006\",\"2007\",\"2008\",\"2009\",\"2010\",\"2011\",\"2012\",\"2013\",\"2014\",\"2015\",\"2016\",\"2017\"],\"y\":[43.05250753237409,42.92645426230383,42.78153339187954,42.623671123778905,42.4538109516677,42.26938810853834,42.15716163307373,42.02039711340489,41.86147936931502,41.68421796662147,41.49082505944,41.290660205111934,41.06737328423549,40.819736905133695,40.55543302226044,40.27763880852747,40.006149187520116,39.721083369953]},\"selected\":{\"id\":\"1961\",\"type\":\"Selection\"},\"selection_policy\":{\"id\":\"1962\",\"type\":\"UnionRenderers\"}},\"id\":\"1943\",\"type\":\"ColumnDataSource\"},{\"attributes\":{},\"id\":\"1936\",\"type\":\"BasicTickFormatter\"},{\"attributes\":{},\"id\":\"1938\",\"type\":\"BasicTickFormatter\"},{\"attributes\":{\"bottom_units\":\"screen\",\"fill_alpha\":{\"value\":0.5},\"fill_color\":{\"value\":\"lightgrey\"},\"left_units\":\"screen\",\"level\":\"overlay\",\"line_alpha\":{\"value\":1.0},\"line_color\":{\"value\":\"black\"},\"line_dash\":[4,4],\"line_width\":{\"value\":2},\"render_mode\":\"css\",\"right_units\":\"screen\",\"top_units\":\"screen\"},\"id\":\"1940\",\"type\":\"BoxAnnotation\"},{\"attributes\":{},\"id\":\"2108\",\"type\":\"Selection\"},{\"attributes\":{\"data_source\":{\"id\":\"1930\",\"type\":\"ColumnDataSource\"},\"glyph\":{\"id\":\"1931\",\"type\":\"Line\"},\"hover_glyph\":null,\"muted_glyph\":null,\"nonselection_glyph\":{\"id\":\"1932\",\"type\":\"Line\"},\"selection_glyph\":null,\"view\":{\"id\":\"1934\",\"type\":\"CDSView\"}},\"id\":\"1933\",\"type\":\"GlyphRenderer\"},{\"attributes\":{},\"id\":\"2109\",\"type\":\"UnionRenderers\"},{\"attributes\":{\"source\":{\"id\":\"1930\",\"type\":\"ColumnDataSource\"}},\"id\":\"1934\",\"type\":\"CDSView\"}],\"root_ids\":[\"1896\"]},\"title\":\"Bokeh Application\",\"version\":\"1.3.4\"}};\n",
       "  var render_items = [{\"docid\":\"fe4081dd-7140-4a44-ad1c-d81b7f1b4f7a\",\"roots\":{\"1896\":\"ec490d2e-2efc-49b5-b445-c692c2730768\"}}];\n",
       "  root.Bokeh.embed.embed_items_notebook(docs_json, render_items);\n",
       "\n",
       "  }\n",
       "  if (root.Bokeh !== undefined) {\n",
       "    embed_document(root);\n",
       "  } else {\n",
       "    var attempts = 0;\n",
       "    var timer = setInterval(function(root) {\n",
       "      if (root.Bokeh !== undefined) {\n",
       "        embed_document(root);\n",
       "        clearInterval(timer);\n",
       "      }\n",
       "      attempts++;\n",
       "      if (attempts > 100) {\n",
       "        console.log(\"Bokeh: ERROR: Unable to run BokehJS code because BokehJS library is missing\");\n",
       "        clearInterval(timer);\n",
       "      }\n",
       "    }, 10, root)\n",
       "  }\n",
       "})(window);"
      ],
      "application/vnd.bokehjs_exec.v0+json": ""
     },
     "metadata": {
      "application/vnd.bokehjs_exec.v0+json": {
       "id": "1896"
      }
     },
     "output_type": "display_data"
    }
   ],
   "source": [
    "years = list(map(str, list(range(2000,2018))))\n",
    "# Population 0-14\n",
    "result = show_weighted_average(years, 'SP.POP.0014.TO.ZS', 'SP.POP.TOTL', \n",
    "                               ['LDCs', 'Developing excluding LDCs', 'OECD', 'UMICs'])"
   ]
  },
  {
   "cell_type": "code",
   "execution_count": 10,
   "metadata": {
    "ExecuteTime": {
     "end_time": "2019-10-25T14:24:54.398684Z",
     "start_time": "2019-10-25T14:24:52.791475Z"
    },
    "slideshow": {
     "slide_type": "slide"
    }
   },
   "outputs": [
    {
     "data": {
      "text/html": [
       "\n",
       "\n",
       "\n",
       "\n",
       "\n",
       "\n",
       "  <div class=\"bk-root\" id=\"dcddfcaa-547c-43f1-834e-0f74283631ed\" data-root-id=\"2242\"></div>\n"
      ]
     },
     "metadata": {},
     "output_type": "display_data"
    },
    {
     "data": {
      "application/javascript": [
       "(function(root) {\n",
       "  function embed_document(root) {\n",
       "    \n",
       "  var docs_json = {\"3320d382-c561-42ea-889d-2aa2b9f5a89e\":{\"roots\":{\"references\":[{\"attributes\":{\"below\":[{\"id\":\"2253\",\"type\":\"LinearAxis\"}],\"center\":[{\"id\":\"2257\",\"type\":\"Grid\"},{\"id\":\"2262\",\"type\":\"Grid\"},{\"id\":\"2287\",\"type\":\"Legend\"}],\"left\":[{\"id\":\"2258\",\"type\":\"LinearAxis\"}],\"plot_height\":400,\"plot_width\":900,\"renderers\":[{\"id\":\"2279\",\"type\":\"GlyphRenderer\"},{\"id\":\"2292\",\"type\":\"GlyphRenderer\"},{\"id\":\"2297\",\"type\":\"GlyphRenderer\"},{\"id\":\"2313\",\"type\":\"GlyphRenderer\"},{\"id\":\"2318\",\"type\":\"GlyphRenderer\"},{\"id\":\"2338\",\"type\":\"GlyphRenderer\"},{\"id\":\"2343\",\"type\":\"GlyphRenderer\"},{\"id\":\"2367\",\"type\":\"GlyphRenderer\"}],\"title\":{\"id\":\"2243\",\"type\":\"Title\"},\"toolbar\":{\"id\":\"2269\",\"type\":\"Toolbar\"},\"x_range\":{\"id\":\"2245\",\"type\":\"DataRange1d\"},\"x_scale\":{\"id\":\"2249\",\"type\":\"LinearScale\"},\"y_range\":{\"id\":\"2247\",\"type\":\"DataRange1d\"},\"y_scale\":{\"id\":\"2251\",\"type\":\"LinearScale\"}},\"id\":\"2242\",\"subtype\":\"Figure\",\"type\":\"Plot\"},{\"attributes\":{\"fill_alpha\":{\"value\":0.1},\"fill_color\":{\"value\":\"#1f77b4\"},\"line_alpha\":{\"value\":0.1},\"line_color\":{\"value\":\"#1f77b4\"},\"line_width\":{\"value\":3},\"x\":{\"field\":\"x\"},\"y\":{\"field\":\"y\"}},\"id\":\"2312\",\"type\":\"Circle\"},{\"attributes\":{},\"id\":\"2330\",\"type\":\"Selection\"},{\"attributes\":{\"fill_color\":{\"value\":\"#5430F1\"},\"line_color\":{\"value\":\"#5430F1\"},\"line_width\":{\"value\":3},\"x\":{\"field\":\"x\"},\"y\":{\"field\":\"y\"}},\"id\":\"2311\",\"type\":\"Circle\"},{\"attributes\":{\"data_source\":{\"id\":\"2315\",\"type\":\"ColumnDataSource\"},\"glyph\":{\"id\":\"2316\",\"type\":\"Line\"},\"hover_glyph\":null,\"muted_glyph\":null,\"nonselection_glyph\":{\"id\":\"2317\",\"type\":\"Line\"},\"selection_glyph\":null,\"view\":{\"id\":\"2319\",\"type\":\"CDSView\"}},\"id\":\"2318\",\"type\":\"GlyphRenderer\"},{\"attributes\":{},\"id\":\"2361\",\"type\":\"Selection\"},{\"attributes\":{\"callback\":null,\"data\":{\"x\":[2020,2025,2030,2035,2040,2045,2050,2055,2060,2065,2070,2075,2080,2085,2090,2095,2100],\"y\":[912306.7240000002,924199.783,933262.5580000001,940475.6150000001,944668.037,945929.6540000001,944372.924,940125.755,933542.0040000002,925493.626,916927.8789999998,908413.484,900272.8359999999,892459.4159999999,884981.163,877749.1270000001,870615.133]},\"selected\":{\"id\":\"2361\",\"type\":\"Selection\"},\"selection_policy\":{\"id\":\"2362\",\"type\":\"UnionRenderers\"}},\"id\":\"2335\",\"type\":\"ColumnDataSource\"},{\"attributes\":{},\"id\":\"2362\",\"type\":\"UnionRenderers\"},{\"attributes\":{\"source\":{\"id\":\"2335\",\"type\":\"ColumnDataSource\"}},\"id\":\"2339\",\"type\":\"CDSView\"},{\"attributes\":{},\"id\":\"2360\",\"type\":\"UnionRenderers\"},{\"attributes\":{\"line_color\":\"#2CC775\",\"x\":{\"field\":\"x\"},\"y\":{\"field\":\"y\"}},\"id\":\"2316\",\"type\":\"Line\"},{\"attributes\":{\"grid_line_color\":null,\"ticker\":{\"id\":\"2254\",\"type\":\"BasicTicker\"}},\"id\":\"2257\",\"type\":\"Grid\"},{\"attributes\":{\"data_source\":{\"id\":\"2310\",\"type\":\"ColumnDataSource\"},\"glyph\":{\"id\":\"2311\",\"type\":\"Circle\"},\"hover_glyph\":null,\"muted_glyph\":null,\"nonselection_glyph\":{\"id\":\"2312\",\"type\":\"Circle\"},\"selection_glyph\":null,\"view\":{\"id\":\"2314\",\"type\":\"CDSView\"}},\"id\":\"2313\",\"type\":\"GlyphRenderer\"},{\"attributes\":{\"label\":{\"value\":\"UMICs\"},\"renderers\":[{\"id\":\"2343\",\"type\":\"GlyphRenderer\"}]},\"id\":\"2363\",\"type\":\"LegendItem\"},{\"attributes\":{\"fill_alpha\":{\"value\":0.1},\"fill_color\":{\"value\":\"#1f77b4\"},\"line_alpha\":{\"value\":0.1},\"line_color\":{\"value\":\"#1f77b4\"},\"line_width\":{\"value\":3},\"x\":{\"field\":\"x\"},\"y\":{\"field\":\"y\"}},\"id\":\"2337\",\"type\":\"Circle\"},{\"attributes\":{\"callback\":null,\"data\":{\"x\":[2020,2025,2030,2035,2040,2045,2050,2055,2060,2065,2070,2075,2080,2085,2090,2095,2100],\"y\":[912306.7240000002,924199.783,933262.5580000001,940475.6150000001,944668.037,945929.6540000001,944372.924,940125.755,933542.0040000002,925493.626,916927.8789999998,908413.484,900272.8359999999,892459.4159999999,884981.163,877749.1270000001,870615.133]},\"selected\":{\"id\":\"2359\",\"type\":\"Selection\"},\"selection_policy\":{\"id\":\"2360\",\"type\":\"UnionRenderers\"}},\"id\":\"2315\",\"type\":\"ColumnDataSource\"},{\"attributes\":{\"source\":{\"id\":\"2310\",\"type\":\"ColumnDataSource\"}},\"id\":\"2314\",\"type\":\"CDSView\"},{\"attributes\":{\"line_alpha\":0.1,\"line_color\":\"#1f77b4\",\"x\":{\"field\":\"x\"},\"y\":{\"field\":\"y\"}},\"id\":\"2317\",\"type\":\"Line\"},{\"attributes\":{},\"id\":\"2259\",\"type\":\"BasicTicker\"},{\"attributes\":{\"fill_color\":{\"value\":\"#2CC775\"},\"line_color\":{\"value\":\"#2CC775\"},\"line_width\":{\"value\":3},\"x\":{\"field\":\"x\"},\"y\":{\"field\":\"y\"}},\"id\":\"2336\",\"type\":\"Circle\"},{\"attributes\":{},\"id\":\"2359\",\"type\":\"Selection\"},{\"attributes\":{\"data_source\":{\"id\":\"2340\",\"type\":\"ColumnDataSource\"},\"glyph\":{\"id\":\"2341\",\"type\":\"Line\"},\"hover_glyph\":null,\"muted_glyph\":null,\"nonselection_glyph\":{\"id\":\"2342\",\"type\":\"Line\"},\"selection_glyph\":null,\"view\":{\"id\":\"2344\",\"type\":\"CDSView\"}},\"id\":\"2343\",\"type\":\"GlyphRenderer\"},{\"attributes\":{},\"id\":\"2307\",\"type\":\"Selection\"},{\"attributes\":{\"label\":{\"value\":\"Developing excluding LDCs\"},\"renderers\":[{\"id\":\"2297\",\"type\":\"GlyphRenderer\"}]},\"id\":\"2309\",\"type\":\"LegendItem\"},{\"attributes\":{\"callback\":null,\"data\":{\"x\":[2020,2025,2030,2035,2040,2045,2050,2055,2060,2065,2070,2075,2080,2085,2090,2095,2100],\"y\":[4993103.786000001,5218738.716999997,5421085.645999999,5600144.947999999,5752488.066,5878012.936,5976889.714000002,6050353.927999998,6099916.011999999,6128642.660999999,6138746.354000001,6132326.774999998,6111578.452999997,6078805.713000003,6037048.572999997,5987636.3539999975,5930332.014000001]},\"selected\":{\"id\":\"2332\",\"type\":\"Selection\"},\"selection_policy\":{\"id\":\"2333\",\"type\":\"UnionRenderers\"}},\"id\":\"2310\",\"type\":\"ColumnDataSource\"},{\"attributes\":{},\"id\":\"2306\",\"type\":\"UnionRenderers\"},{\"attributes\":{},\"id\":\"2308\",\"type\":\"UnionRenderers\"},{\"attributes\":{\"source\":{\"id\":\"2340\",\"type\":\"ColumnDataSource\"}},\"id\":\"2344\",\"type\":\"CDSView\"},{\"attributes\":{\"source\":{\"id\":\"2294\",\"type\":\"ColumnDataSource\"}},\"id\":\"2298\",\"type\":\"CDSView\"},{\"attributes\":{\"callback\":null,\"data\":{\"x\":[2020,2025,2030,2035,2040,2045,2050,2055,2060,2065,2070,2075,2080,2085,2090,2095,2100],\"y\":[2553770.2610000004,2605055.2009999994,2639029.0200000005,2659103.228999999,2665549.994,2659647.6620000005,2641734.805,2612545.58,2574153.84,2529722.836,2481956.653,2432242.5949999993,2381460.154,2330911.3399999994,2281947.836,2234791.158999999,2187803.0989999995]},\"selected\":{\"id\":\"2474\",\"type\":\"Selection\"},\"selection_policy\":{\"id\":\"2475\",\"type\":\"UnionRenderers\"}},\"id\":\"2340\",\"type\":\"ColumnDataSource\"},{\"attributes\":{},\"id\":\"2305\",\"type\":\"Selection\"},{\"attributes\":{\"line_alpha\":0.1,\"line_color\":\"#1f77b4\",\"x\":{\"field\":\"x\"},\"y\":{\"field\":\"y\"}},\"id\":\"2342\",\"type\":\"Line\"},{\"attributes\":{},\"id\":\"2332\",\"type\":\"Selection\"},{\"attributes\":{\"data_source\":{\"id\":\"2335\",\"type\":\"ColumnDataSource\"},\"glyph\":{\"id\":\"2336\",\"type\":\"Circle\"},\"hover_glyph\":null,\"muted_glyph\":null,\"nonselection_glyph\":{\"id\":\"2337\",\"type\":\"Circle\"},\"selection_glyph\":null,\"view\":{\"id\":\"2339\",\"type\":\"CDSView\"}},\"id\":\"2338\",\"type\":\"GlyphRenderer\"},{\"attributes\":{\"label\":{\"value\":\"OECD\"},\"renderers\":[{\"id\":\"2318\",\"type\":\"GlyphRenderer\"}]},\"id\":\"2334\",\"type\":\"LegendItem\"},{\"attributes\":{\"source\":{\"id\":\"2315\",\"type\":\"ColumnDataSource\"}},\"id\":\"2319\",\"type\":\"CDSView\"},{\"attributes\":{},\"id\":\"2331\",\"type\":\"UnionRenderers\"},{\"attributes\":{\"line_color\":\"#F4CA04\",\"x\":{\"field\":\"x\"},\"y\":{\"field\":\"y\"}},\"id\":\"2341\",\"type\":\"Line\"},{\"attributes\":{},\"id\":\"2333\",\"type\":\"UnionRenderers\"},{\"attributes\":{\"data_source\":{\"id\":\"2294\",\"type\":\"ColumnDataSource\"},\"glyph\":{\"id\":\"2295\",\"type\":\"Line\"},\"hover_glyph\":null,\"muted_glyph\":null,\"nonselection_glyph\":{\"id\":\"2296\",\"type\":\"Line\"},\"selection_glyph\":null,\"view\":{\"id\":\"2298\",\"type\":\"CDSView\"}},\"id\":\"2297\",\"type\":\"GlyphRenderer\"},{\"attributes\":{},\"id\":\"2475\",\"type\":\"UnionRenderers\"},{\"attributes\":{\"label\":{\"value\":\"LDCs\"},\"renderers\":[{\"id\":\"2279\",\"type\":\"GlyphRenderer\"}]},\"id\":\"2288\",\"type\":\"LegendItem\"},{\"attributes\":{},\"id\":\"2474\",\"type\":\"Selection\"},{\"attributes\":{},\"id\":\"2264\",\"type\":\"WheelZoomTool\"},{\"attributes\":{},\"id\":\"2282\",\"type\":\"BasicTickFormatter\"},{\"attributes\":{},\"id\":\"2477\",\"type\":\"UnionRenderers\"},{\"attributes\":{},\"id\":\"2476\",\"type\":\"Selection\"},{\"attributes\":{},\"id\":\"2263\",\"type\":\"PanTool\"},{\"attributes\":{},\"id\":\"2268\",\"type\":\"HelpTool\"},{\"attributes\":{\"callback\":null,\"data\":{\"x\":[2020,2025,2030,2035,2040,2045,2050,2055,2060,2065,2070,2075,2080,2085,2090,2095,2100],\"y\":[1057438.163,1182376.585,1313758.882,1450358.0589999997,1590723.5140000007,1733412.6489999997,1876797.781,2019337.702000001,2159628.188,2296253.5399999996,2427682.2370000007,2552545.8049999997,2669675.032999999,2778054.0900000003,2877186.7590000005,2966790.3559999997,3046778.7830000003]},\"selected\":{\"id\":\"2305\",\"type\":\"Selection\"},\"selection_policy\":{\"id\":\"2306\",\"type\":\"UnionRenderers\"}},\"id\":\"2276\",\"type\":\"ColumnDataSource\"},{\"attributes\":{\"fill_alpha\":{\"value\":0.1},\"fill_color\":{\"value\":\"#1f77b4\"},\"line_alpha\":{\"value\":0.1},\"line_color\":{\"value\":\"#1f77b4\"},\"line_width\":{\"value\":3},\"x\":{\"field\":\"x\"},\"y\":{\"field\":\"y\"}},\"id\":\"2291\",\"type\":\"Circle\"},{\"attributes\":{\"fill_color\":{\"value\":\"#FA1857\"},\"line_color\":{\"value\":\"#FA1857\"},\"line_width\":{\"value\":3},\"x\":{\"field\":\"x\"},\"y\":{\"field\":\"y\"}},\"id\":\"2290\",\"type\":\"Circle\"},{\"attributes\":{\"fill_color\":{\"value\":\"#F4CA04\"},\"line_color\":{\"value\":\"#F4CA04\"},\"line_width\":{\"value\":3},\"x\":{\"field\":\"x\"},\"y\":{\"field\":\"y\"}},\"id\":\"2365\",\"type\":\"Circle\"},{\"attributes\":{},\"id\":\"2267\",\"type\":\"ResetTool\"},{\"attributes\":{\"callback\":null,\"data\":{\"x\":[2020,2025,2030,2035,2040,2045,2050,2055,2060,2065,2070,2075,2080,2085,2090,2095,2100],\"y\":[1057438.163,1182376.585,1313758.882,1450358.0589999997,1590723.5140000007,1733412.6489999997,1876797.781,2019337.702000001,2159628.188,2296253.5399999996,2427682.2370000007,2552545.8049999997,2669675.032999999,2778054.0900000003,2877186.7590000005,2966790.3559999997,3046778.7830000003]},\"selected\":{\"id\":\"2307\",\"type\":\"Selection\"},\"selection_policy\":{\"id\":\"2308\",\"type\":\"UnionRenderers\"}},\"id\":\"2289\",\"type\":\"ColumnDataSource\"},{\"attributes\":{\"fill_alpha\":{\"value\":0.1},\"fill_color\":{\"value\":\"#1f77b4\"},\"line_alpha\":{\"value\":0.1},\"line_color\":{\"value\":\"#1f77b4\"},\"line_width\":{\"value\":3},\"x\":{\"field\":\"x\"},\"y\":{\"field\":\"y\"}},\"id\":\"2366\",\"type\":\"Circle\"},{\"attributes\":{},\"id\":\"2266\",\"type\":\"SaveTool\"},{\"attributes\":{\"source\":{\"id\":\"2289\",\"type\":\"ColumnDataSource\"}},\"id\":\"2293\",\"type\":\"CDSView\"},{\"attributes\":{\"overlay\":{\"id\":\"2286\",\"type\":\"BoxAnnotation\"}},\"id\":\"2265\",\"type\":\"BoxZoomTool\"},{\"attributes\":{\"source\":{\"id\":\"2364\",\"type\":\"ColumnDataSource\"}},\"id\":\"2368\",\"type\":\"CDSView\"},{\"attributes\":{\"data_source\":{\"id\":\"2289\",\"type\":\"ColumnDataSource\"},\"glyph\":{\"id\":\"2290\",\"type\":\"Circle\"},\"hover_glyph\":null,\"muted_glyph\":null,\"nonselection_glyph\":{\"id\":\"2291\",\"type\":\"Circle\"},\"selection_glyph\":null,\"view\":{\"id\":\"2293\",\"type\":\"CDSView\"}},\"id\":\"2292\",\"type\":\"GlyphRenderer\"},{\"attributes\":{\"data_source\":{\"id\":\"2276\",\"type\":\"ColumnDataSource\"},\"glyph\":{\"id\":\"2277\",\"type\":\"Line\"},\"hover_glyph\":null,\"muted_glyph\":null,\"nonselection_glyph\":{\"id\":\"2278\",\"type\":\"Line\"},\"selection_glyph\":null,\"view\":{\"id\":\"2280\",\"type\":\"CDSView\"}},\"id\":\"2279\",\"type\":\"GlyphRenderer\"},{\"attributes\":{\"source\":{\"id\":\"2276\",\"type\":\"ColumnDataSource\"}},\"id\":\"2280\",\"type\":\"CDSView\"},{\"attributes\":{\"callback\":null,\"tooltips\":\"                \\n        <div style=padding=5px>Year:@x</div>\\n        <div style=padding=5px>Value:@y</div>        \\n        \"},\"id\":\"2369\",\"type\":\"HoverTool\"},{\"attributes\":{\"text\":\"Projected population, thousands\"},\"id\":\"2243\",\"type\":\"Title\"},{\"attributes\":{\"callback\":null},\"id\":\"2245\",\"type\":\"DataRange1d\"},{\"attributes\":{\"callback\":null},\"id\":\"2247\",\"type\":\"DataRange1d\"},{\"attributes\":{\"line_alpha\":0.1,\"line_color\":\"#1f77b4\",\"x\":{\"field\":\"x\"},\"y\":{\"field\":\"y\"}},\"id\":\"2296\",\"type\":\"Line\"},{\"attributes\":{\"line_color\":\"#5430F1\",\"x\":{\"field\":\"x\"},\"y\":{\"field\":\"y\"}},\"id\":\"2295\",\"type\":\"Line\"},{\"attributes\":{\"active_drag\":\"auto\",\"active_inspect\":\"auto\",\"active_multi\":null,\"active_scroll\":\"auto\",\"active_tap\":\"auto\",\"tools\":[{\"id\":\"2263\",\"type\":\"PanTool\"},{\"id\":\"2264\",\"type\":\"WheelZoomTool\"},{\"id\":\"2265\",\"type\":\"BoxZoomTool\"},{\"id\":\"2266\",\"type\":\"SaveTool\"},{\"id\":\"2267\",\"type\":\"ResetTool\"},{\"id\":\"2268\",\"type\":\"HelpTool\"},{\"id\":\"2369\",\"type\":\"HoverTool\"}]},\"id\":\"2269\",\"type\":\"Toolbar\"},{\"attributes\":{},\"id\":\"2249\",\"type\":\"LinearScale\"},{\"attributes\":{\"line_alpha\":0.1,\"line_color\":\"#1f77b4\",\"x\":{\"field\":\"x\"},\"y\":{\"field\":\"y\"}},\"id\":\"2278\",\"type\":\"Line\"},{\"attributes\":{\"data_source\":{\"id\":\"2364\",\"type\":\"ColumnDataSource\"},\"glyph\":{\"id\":\"2365\",\"type\":\"Circle\"},\"hover_glyph\":null,\"muted_glyph\":null,\"nonselection_glyph\":{\"id\":\"2366\",\"type\":\"Circle\"},\"selection_glyph\":null,\"view\":{\"id\":\"2368\",\"type\":\"CDSView\"}},\"id\":\"2367\",\"type\":\"GlyphRenderer\"},{\"attributes\":{\"items\":[{\"id\":\"2288\",\"type\":\"LegendItem\"},{\"id\":\"2309\",\"type\":\"LegendItem\"},{\"id\":\"2334\",\"type\":\"LegendItem\"},{\"id\":\"2363\",\"type\":\"LegendItem\"}],\"location\":\"bottom_left\"},\"id\":\"2287\",\"type\":\"Legend\"},{\"attributes\":{\"axis_label\":\"Years\",\"formatter\":{\"id\":\"2284\",\"type\":\"BasicTickFormatter\"},\"ticker\":{\"id\":\"2254\",\"type\":\"BasicTicker\"}},\"id\":\"2253\",\"type\":\"LinearAxis\"},{\"attributes\":{\"callback\":null,\"data\":{\"x\":[2020,2025,2030,2035,2040,2045,2050,2055,2060,2065,2070,2075,2080,2085,2090,2095,2100],\"y\":[4993103.786000001,5218738.716999997,5421085.645999999,5600144.947999999,5752488.066,5878012.936,5976889.714000002,6050353.927999998,6099916.011999999,6128642.660999999,6138746.354000001,6132326.774999998,6111578.452999997,6078805.713000003,6037048.572999997,5987636.3539999975,5930332.014000001]},\"selected\":{\"id\":\"2330\",\"type\":\"Selection\"},\"selection_policy\":{\"id\":\"2331\",\"type\":\"UnionRenderers\"}},\"id\":\"2294\",\"type\":\"ColumnDataSource\"},{\"attributes\":{\"line_color\":\"#FA1857\",\"x\":{\"field\":\"x\"},\"y\":{\"field\":\"y\"}},\"id\":\"2277\",\"type\":\"Line\"},{\"attributes\":{\"dimension\":1,\"grid_line_alpha\":0.5,\"ticker\":{\"id\":\"2259\",\"type\":\"BasicTicker\"}},\"id\":\"2262\",\"type\":\"Grid\"},{\"attributes\":{},\"id\":\"2284\",\"type\":\"BasicTickFormatter\"},{\"attributes\":{},\"id\":\"2254\",\"type\":\"BasicTicker\"},{\"attributes\":{\"callback\":null,\"data\":{\"x\":[2020,2025,2030,2035,2040,2045,2050,2055,2060,2065,2070,2075,2080,2085,2090,2095,2100],\"y\":[2553770.2610000004,2605055.2009999994,2639029.0200000005,2659103.228999999,2665549.994,2659647.6620000005,2641734.805,2612545.58,2574153.84,2529722.836,2481956.653,2432242.5949999993,2381460.154,2330911.3399999994,2281947.836,2234791.158999999,2187803.0989999995]},\"selected\":{\"id\":\"2476\",\"type\":\"Selection\"},\"selection_policy\":{\"id\":\"2477\",\"type\":\"UnionRenderers\"}},\"id\":\"2364\",\"type\":\"ColumnDataSource\"},{\"attributes\":{\"axis_label\":\"Projected population, thousands\",\"formatter\":{\"id\":\"2282\",\"type\":\"BasicTickFormatter\"},\"ticker\":{\"id\":\"2259\",\"type\":\"BasicTicker\"}},\"id\":\"2258\",\"type\":\"LinearAxis\"},{\"attributes\":{\"bottom_units\":\"screen\",\"fill_alpha\":{\"value\":0.5},\"fill_color\":{\"value\":\"lightgrey\"},\"left_units\":\"screen\",\"level\":\"overlay\",\"line_alpha\":{\"value\":1.0},\"line_color\":{\"value\":\"black\"},\"line_dash\":[4,4],\"line_width\":{\"value\":2},\"render_mode\":\"css\",\"right_units\":\"screen\",\"top_units\":\"screen\"},\"id\":\"2286\",\"type\":\"BoxAnnotation\"},{\"attributes\":{},\"id\":\"2251\",\"type\":\"LinearScale\"}],\"root_ids\":[\"2242\"]},\"title\":\"Bokeh Application\",\"version\":\"1.3.4\"}};\n",
       "  var render_items = [{\"docid\":\"3320d382-c561-42ea-889d-2aa2b9f5a89e\",\"roots\":{\"2242\":\"dcddfcaa-547c-43f1-834e-0f74283631ed\"}}];\n",
       "  root.Bokeh.embed.embed_items_notebook(docs_json, render_items);\n",
       "\n",
       "  }\n",
       "  if (root.Bokeh !== undefined) {\n",
       "    embed_document(root);\n",
       "  } else {\n",
       "    var attempts = 0;\n",
       "    var timer = setInterval(function(root) {\n",
       "      if (root.Bokeh !== undefined) {\n",
       "        embed_document(root);\n",
       "        clearInterval(timer);\n",
       "      }\n",
       "      attempts++;\n",
       "      if (attempts > 100) {\n",
       "        console.log(\"Bokeh: ERROR: Unable to run BokehJS code because BokehJS library is missing\");\n",
       "        clearInterval(timer);\n",
       "      }\n",
       "    }, 10, root)\n",
       "  }\n",
       "})(window);"
      ],
      "application/vnd.bokehjs_exec.v0+json": ""
     },
     "metadata": {
      "application/vnd.bokehjs_exec.v0+json": {
       "id": "2242"
      }
     },
     "output_type": "display_data"
    }
   ],
   "source": [
    "show(line_chart(gpp(['LDCs', 'Developing excluding LDCs', 'OECD', 'UMICs']), \n",
    "                \"Projected population, thousands\", x_axis_label='Years', \n",
    "                y_axis_label='Projected population, thousands', height=400, width=900))"
   ]
  },
  {
   "cell_type": "code",
   "execution_count": 11,
   "metadata": {
    "ExecuteTime": {
     "end_time": "2019-10-25T14:24:58.884216Z",
     "start_time": "2019-10-25T14:24:54.401294Z"
    },
    "slideshow": {
     "slide_type": "slide"
    }
   },
   "outputs": [
    {
     "data": {
      "text/html": [
       "\n",
       "\n",
       "\n",
       "\n",
       "\n",
       "\n",
       "  <div class=\"bk-root\" id=\"7bea2975-54b9-4009-9816-6cbe52cd7c5e\" data-root-id=\"2610\"></div>\n"
      ]
     },
     "metadata": {},
     "output_type": "display_data"
    },
    {
     "data": {
      "application/javascript": [
       "(function(root) {\n",
       "  function embed_document(root) {\n",
       "    \n",
       "  var docs_json = {\"6bd2f3c1-6e34-4b2d-8c2c-906938d551c8\":{\"roots\":{\"references\":[{\"attributes\":{\"below\":[{\"id\":\"2621\",\"type\":\"LinearAxis\"}],\"center\":[{\"id\":\"2625\",\"type\":\"Grid\"},{\"id\":\"2630\",\"type\":\"Grid\"},{\"id\":\"2655\",\"type\":\"Legend\"}],\"left\":[{\"id\":\"2626\",\"type\":\"LinearAxis\"}],\"plot_height\":400,\"plot_width\":800,\"renderers\":[{\"id\":\"2647\",\"type\":\"GlyphRenderer\"},{\"id\":\"2660\",\"type\":\"GlyphRenderer\"},{\"id\":\"2665\",\"type\":\"GlyphRenderer\"},{\"id\":\"2681\",\"type\":\"GlyphRenderer\"},{\"id\":\"2686\",\"type\":\"GlyphRenderer\"},{\"id\":\"2706\",\"type\":\"GlyphRenderer\"}],\"title\":{\"id\":\"2611\",\"type\":\"Title\"},\"toolbar\":{\"id\":\"2637\",\"type\":\"Toolbar\"},\"x_range\":{\"id\":\"2613\",\"type\":\"DataRange1d\"},\"x_scale\":{\"id\":\"2617\",\"type\":\"LinearScale\"},\"y_range\":{\"id\":\"2615\",\"type\":\"DataRange1d\"},\"y_scale\":{\"id\":\"2619\",\"type\":\"LinearScale\"}},\"id\":\"2610\",\"subtype\":\"Figure\",\"type\":\"Plot\"},{\"attributes\":{},\"id\":\"2700\",\"type\":\"Selection\"},{\"attributes\":{\"source\":{\"id\":\"2662\",\"type\":\"ColumnDataSource\"}},\"id\":\"2666\",\"type\":\"CDSView\"},{\"attributes\":{},\"id\":\"2617\",\"type\":\"LinearScale\"},{\"attributes\":{\"data_source\":{\"id\":\"2644\",\"type\":\"ColumnDataSource\"},\"glyph\":{\"id\":\"2645\",\"type\":\"Line\"},\"hover_glyph\":null,\"muted_glyph\":null,\"nonselection_glyph\":{\"id\":\"2646\",\"type\":\"Line\"},\"selection_glyph\":null,\"view\":{\"id\":\"2648\",\"type\":\"CDSView\"}},\"id\":\"2647\",\"type\":\"GlyphRenderer\"},{\"attributes\":{},\"id\":\"2701\",\"type\":\"UnionRenderers\"},{\"attributes\":{},\"id\":\"2673\",\"type\":\"Selection\"},{\"attributes\":{},\"id\":\"2619\",\"type\":\"LinearScale\"},{\"attributes\":{\"label\":{\"value\":\"OECD\"},\"renderers\":[{\"id\":\"2686\",\"type\":\"GlyphRenderer\"}]},\"id\":\"2702\",\"type\":\"LegendItem\"},{\"attributes\":{},\"id\":\"2674\",\"type\":\"UnionRenderers\"},{\"attributes\":{\"source\":{\"id\":\"2644\",\"type\":\"ColumnDataSource\"}},\"id\":\"2648\",\"type\":\"CDSView\"},{\"attributes\":{\"axis_label\":\"Years\",\"formatter\":{\"id\":\"2652\",\"type\":\"BasicTickFormatter\"},\"ticker\":{\"id\":\"2622\",\"type\":\"BasicTicker\"}},\"id\":\"2621\",\"type\":\"LinearAxis\"},{\"attributes\":{},\"id\":\"2675\",\"type\":\"Selection\"},{\"attributes\":{\"callback\":null,\"data\":{\"x\":[\"2000\",\"2001\",\"2002\",\"2003\",\"2004\",\"2005\",\"2006\",\"2007\",\"2008\",\"2009\",\"2010\",\"2011\",\"2012\",\"2013\",\"2014\",\"2015\",\"2016\",\"2017\"],\"y\":[2.717504233905171,2.7154866043270727,2.7462604986550527,2.806001725421847,2.83058646052991,2.80349980744469,2.7583374960640157,2.7328716945985123,2.734358102618147,2.734445239277997,2.724690515681557,2.7229922593698563,2.711802941232593,2.6925433317980856,2.671440686153528,2.648991920011479,2.6258157949200918,2.613168165844644]},\"selected\":{\"id\":\"2833\",\"type\":\"Selection\"},\"selection_policy\":{\"id\":\"2834\",\"type\":\"UnionRenderers\"}},\"id\":\"2703\",\"type\":\"ColumnDataSource\"},{\"attributes\":{},\"id\":\"2622\",\"type\":\"BasicTicker\"},{\"attributes\":{},\"id\":\"2650\",\"type\":\"BasicTickFormatter\"},{\"attributes\":{\"fill_color\":{\"value\":\"#2CC775\"},\"line_color\":{\"value\":\"#2CC775\"},\"line_width\":{\"value\":3},\"x\":{\"field\":\"x\"},\"y\":{\"field\":\"y\"}},\"id\":\"2704\",\"type\":\"Circle\"},{\"attributes\":{},\"id\":\"2676\",\"type\":\"UnionRenderers\"},{\"attributes\":{\"grid_line_color\":null,\"ticker\":{\"id\":\"2622\",\"type\":\"BasicTicker\"}},\"id\":\"2625\",\"type\":\"Grid\"},{\"attributes\":{\"fill_alpha\":{\"value\":0.1},\"fill_color\":{\"value\":\"#1f77b4\"},\"line_alpha\":{\"value\":0.1},\"line_color\":{\"value\":\"#1f77b4\"},\"line_width\":{\"value\":3},\"x\":{\"field\":\"x\"},\"y\":{\"field\":\"y\"}},\"id\":\"2705\",\"type\":\"Circle\"},{\"attributes\":{},\"id\":\"2652\",\"type\":\"BasicTickFormatter\"},{\"attributes\":{\"label\":{\"value\":\"Developing excluding LDCs\"},\"renderers\":[{\"id\":\"2665\",\"type\":\"GlyphRenderer\"}]},\"id\":\"2677\",\"type\":\"LegendItem\"},{\"attributes\":{\"data_source\":{\"id\":\"2703\",\"type\":\"ColumnDataSource\"},\"glyph\":{\"id\":\"2704\",\"type\":\"Circle\"},\"hover_glyph\":null,\"muted_glyph\":null,\"nonselection_glyph\":{\"id\":\"2705\",\"type\":\"Circle\"},\"selection_glyph\":null,\"view\":{\"id\":\"2707\",\"type\":\"CDSView\"}},\"id\":\"2706\",\"type\":\"GlyphRenderer\"},{\"attributes\":{\"bottom_units\":\"screen\",\"fill_alpha\":{\"value\":0.5},\"fill_color\":{\"value\":\"lightgrey\"},\"left_units\":\"screen\",\"level\":\"overlay\",\"line_alpha\":{\"value\":1.0},\"line_color\":{\"value\":\"black\"},\"line_dash\":[4,4],\"line_width\":{\"value\":2},\"render_mode\":\"css\",\"right_units\":\"screen\",\"top_units\":\"screen\"},\"id\":\"2654\",\"type\":\"BoxAnnotation\"},{\"attributes\":{\"axis_label\":\"SN.ITK.DEFC.ZS\",\"formatter\":{\"id\":\"2650\",\"type\":\"BasicTickFormatter\"},\"ticker\":{\"id\":\"2627\",\"type\":\"BasicTicker\"}},\"id\":\"2626\",\"type\":\"LinearAxis\"},{\"attributes\":{\"callback\":null,\"data\":{\"x\":[\"2000\",\"2001\",\"2002\",\"2003\",\"2004\",\"2005\",\"2006\",\"2007\",\"2008\",\"2009\",\"2010\",\"2011\",\"2012\",\"2013\",\"2014\",\"2015\",\"2016\",\"2017\"],\"y\":[16.05239062334145,16.294418660137005,16.6306934442216,16.770645243436284,16.679133301220844,16.152224600709463,15.346241803517456,14.541847732797331,13.820530355695096,13.239432930737298,12.760868451003246,12.328293629752078,11.987055152737149,11.62798440215843,11.278159512359393,10.969758392076667,10.82969267747837,10.763728683353742]},\"selected\":{\"id\":\"2700\",\"type\":\"Selection\"},\"selection_policy\":{\"id\":\"2701\",\"type\":\"UnionRenderers\"}},\"id\":\"2678\",\"type\":\"ColumnDataSource\"},{\"attributes\":{\"items\":[{\"id\":\"2656\",\"type\":\"LegendItem\"},{\"id\":\"2677\",\"type\":\"LegendItem\"},{\"id\":\"2702\",\"type\":\"LegendItem\"}],\"location\":\"bottom_left\"},\"id\":\"2655\",\"type\":\"Legend\"},{\"attributes\":{\"source\":{\"id\":\"2703\",\"type\":\"ColumnDataSource\"}},\"id\":\"2707\",\"type\":\"CDSView\"},{\"attributes\":{},\"id\":\"2627\",\"type\":\"BasicTicker\"},{\"attributes\":{\"fill_color\":{\"value\":\"#5430F1\"},\"line_color\":{\"value\":\"#5430F1\"},\"line_width\":{\"value\":3},\"x\":{\"field\":\"x\"},\"y\":{\"field\":\"y\"}},\"id\":\"2679\",\"type\":\"Circle\"},{\"attributes\":{\"label\":{\"value\":\"LDCs\"},\"renderers\":[{\"id\":\"2647\",\"type\":\"GlyphRenderer\"}]},\"id\":\"2656\",\"type\":\"LegendItem\"},{\"attributes\":{\"dimension\":1,\"grid_line_alpha\":0.5,\"ticker\":{\"id\":\"2627\",\"type\":\"BasicTicker\"}},\"id\":\"2630\",\"type\":\"Grid\"},{\"attributes\":{\"fill_alpha\":{\"value\":0.1},\"fill_color\":{\"value\":\"#1f77b4\"},\"line_alpha\":{\"value\":0.1},\"line_color\":{\"value\":\"#1f77b4\"},\"line_width\":{\"value\":3},\"x\":{\"field\":\"x\"},\"y\":{\"field\":\"y\"}},\"id\":\"2680\",\"type\":\"Circle\"},{\"attributes\":{\"callback\":null,\"data\":{\"x\":[\"2000\",\"2001\",\"2002\",\"2003\",\"2004\",\"2005\",\"2006\",\"2007\",\"2008\",\"2009\",\"2010\",\"2011\",\"2012\",\"2013\",\"2014\",\"2015\",\"2016\",\"2017\"],\"y\":[34.793593542464336,33.37905122711434,32.25476712521983,30.99121550456933,29.786824759633184,28.553187359257198,27.511349113782753,26.564751720056844,25.692683295090003,24.8794987970399,24.247268278005087,23.695114337155676,23.284047196142527,22.9085907646186,22.644878748870756,22.6257313140025,22.722324690505264,22.81758279569403]},\"selected\":{\"id\":\"2675\",\"type\":\"Selection\"},\"selection_policy\":{\"id\":\"2676\",\"type\":\"UnionRenderers\"}},\"id\":\"2657\",\"type\":\"ColumnDataSource\"},{\"attributes\":{},\"id\":\"2831\",\"type\":\"Selection\"},{\"attributes\":{\"data_source\":{\"id\":\"2678\",\"type\":\"ColumnDataSource\"},\"glyph\":{\"id\":\"2679\",\"type\":\"Circle\"},\"hover_glyph\":null,\"muted_glyph\":null,\"nonselection_glyph\":{\"id\":\"2680\",\"type\":\"Circle\"},\"selection_glyph\":null,\"view\":{\"id\":\"2682\",\"type\":\"CDSView\"}},\"id\":\"2681\",\"type\":\"GlyphRenderer\"},{\"attributes\":{\"line_color\":\"#FA1857\",\"x\":{\"field\":\"x\"},\"y\":{\"field\":\"y\"}},\"id\":\"2645\",\"type\":\"Line\"},{\"attributes\":{\"fill_color\":{\"value\":\"#FA1857\"},\"line_color\":{\"value\":\"#FA1857\"},\"line_width\":{\"value\":3},\"x\":{\"field\":\"x\"},\"y\":{\"field\":\"y\"}},\"id\":\"2658\",\"type\":\"Circle\"},{\"attributes\":{},\"id\":\"2832\",\"type\":\"UnionRenderers\"},{\"attributes\":{\"source\":{\"id\":\"2678\",\"type\":\"ColumnDataSource\"}},\"id\":\"2682\",\"type\":\"CDSView\"},{\"attributes\":{\"callback\":null,\"data\":{\"x\":[\"2000\",\"2001\",\"2002\",\"2003\",\"2004\",\"2005\",\"2006\",\"2007\",\"2008\",\"2009\",\"2010\",\"2011\",\"2012\",\"2013\",\"2014\",\"2015\",\"2016\",\"2017\"],\"y\":[34.793593542464336,33.37905122711434,32.25476712521983,30.99121550456933,29.786824759633184,28.553187359257198,27.511349113782753,26.564751720056844,25.692683295090003,24.8794987970399,24.247268278005087,23.695114337155676,23.284047196142527,22.9085907646186,22.644878748870756,22.6257313140025,22.722324690505264,22.81758279569403]},\"selected\":{\"id\":\"2673\",\"type\":\"Selection\"},\"selection_policy\":{\"id\":\"2674\",\"type\":\"UnionRenderers\"}},\"id\":\"2644\",\"type\":\"ColumnDataSource\"},{\"attributes\":{\"fill_alpha\":{\"value\":0.1},\"fill_color\":{\"value\":\"#1f77b4\"},\"line_alpha\":{\"value\":0.1},\"line_color\":{\"value\":\"#1f77b4\"},\"line_width\":{\"value\":3},\"x\":{\"field\":\"x\"},\"y\":{\"field\":\"y\"}},\"id\":\"2659\",\"type\":\"Circle\"},{\"attributes\":{},\"id\":\"2833\",\"type\":\"Selection\"},{\"attributes\":{\"line_alpha\":0.1,\"line_color\":\"#1f77b4\",\"x\":{\"field\":\"x\"},\"y\":{\"field\":\"y\"}},\"id\":\"2646\",\"type\":\"Line\"},{\"attributes\":{\"callback\":null,\"data\":{\"x\":[\"2000\",\"2001\",\"2002\",\"2003\",\"2004\",\"2005\",\"2006\",\"2007\",\"2008\",\"2009\",\"2010\",\"2011\",\"2012\",\"2013\",\"2014\",\"2015\",\"2016\",\"2017\"],\"y\":[2.717504233905171,2.7154866043270727,2.7462604986550527,2.806001725421847,2.83058646052991,2.80349980744469,2.7583374960640157,2.7328716945985123,2.734358102618147,2.734445239277997,2.724690515681557,2.7229922593698563,2.711802941232593,2.6925433317980856,2.671440686153528,2.648991920011479,2.6258157949200918,2.613168165844644]},\"selected\":{\"id\":\"2831\",\"type\":\"Selection\"},\"selection_policy\":{\"id\":\"2832\",\"type\":\"UnionRenderers\"}},\"id\":\"2683\",\"type\":\"ColumnDataSource\"},{\"attributes\":{},\"id\":\"2631\",\"type\":\"PanTool\"},{\"attributes\":{\"data_source\":{\"id\":\"2657\",\"type\":\"ColumnDataSource\"},\"glyph\":{\"id\":\"2658\",\"type\":\"Circle\"},\"hover_glyph\":null,\"muted_glyph\":null,\"nonselection_glyph\":{\"id\":\"2659\",\"type\":\"Circle\"},\"selection_glyph\":null,\"view\":{\"id\":\"2661\",\"type\":\"CDSView\"}},\"id\":\"2660\",\"type\":\"GlyphRenderer\"},{\"attributes\":{},\"id\":\"2834\",\"type\":\"UnionRenderers\"},{\"attributes\":{\"line_color\":\"#2CC775\",\"x\":{\"field\":\"x\"},\"y\":{\"field\":\"y\"}},\"id\":\"2684\",\"type\":\"Line\"},{\"attributes\":{},\"id\":\"2632\",\"type\":\"WheelZoomTool\"},{\"attributes\":{\"source\":{\"id\":\"2657\",\"type\":\"ColumnDataSource\"}},\"id\":\"2661\",\"type\":\"CDSView\"},{\"attributes\":{\"line_alpha\":0.1,\"line_color\":\"#1f77b4\",\"x\":{\"field\":\"x\"},\"y\":{\"field\":\"y\"}},\"id\":\"2685\",\"type\":\"Line\"},{\"attributes\":{\"overlay\":{\"id\":\"2654\",\"type\":\"BoxAnnotation\"}},\"id\":\"2633\",\"type\":\"BoxZoomTool\"},{\"attributes\":{\"callback\":null,\"data\":{\"x\":[\"2000\",\"2001\",\"2002\",\"2003\",\"2004\",\"2005\",\"2006\",\"2007\",\"2008\",\"2009\",\"2010\",\"2011\",\"2012\",\"2013\",\"2014\",\"2015\",\"2016\",\"2017\"],\"y\":[16.05239062334145,16.294418660137005,16.6306934442216,16.770645243436284,16.679133301220844,16.152224600709463,15.346241803517456,14.541847732797331,13.820530355695096,13.239432930737298,12.760868451003246,12.328293629752078,11.987055152737149,11.62798440215843,11.278159512359393,10.969758392076667,10.82969267747837,10.763728683353742]},\"selected\":{\"id\":\"2698\",\"type\":\"Selection\"},\"selection_policy\":{\"id\":\"2699\",\"type\":\"UnionRenderers\"}},\"id\":\"2662\",\"type\":\"ColumnDataSource\"},{\"attributes\":{\"data_source\":{\"id\":\"2683\",\"type\":\"ColumnDataSource\"},\"glyph\":{\"id\":\"2684\",\"type\":\"Line\"},\"hover_glyph\":null,\"muted_glyph\":null,\"nonselection_glyph\":{\"id\":\"2685\",\"type\":\"Line\"},\"selection_glyph\":null,\"view\":{\"id\":\"2687\",\"type\":\"CDSView\"}},\"id\":\"2686\",\"type\":\"GlyphRenderer\"},{\"attributes\":{},\"id\":\"2634\",\"type\":\"SaveTool\"},{\"attributes\":{\"callback\":null,\"tooltips\":\"                \\n        <div style=padding=5px>Year:@x</div>\\n        <div style=padding=5px>Value:@y</div>        \\n        \"},\"id\":\"2708\",\"type\":\"HoverTool\"},{\"attributes\":{\"line_color\":\"#5430F1\",\"x\":{\"field\":\"x\"},\"y\":{\"field\":\"y\"}},\"id\":\"2663\",\"type\":\"Line\"},{\"attributes\":{\"source\":{\"id\":\"2683\",\"type\":\"ColumnDataSource\"}},\"id\":\"2687\",\"type\":\"CDSView\"},{\"attributes\":{\"text\":\"Prevalence of undernourishment (% of population) weighted against Population, total\"},\"id\":\"2611\",\"type\":\"Title\"},{\"attributes\":{},\"id\":\"2635\",\"type\":\"ResetTool\"},{\"attributes\":{\"line_alpha\":0.1,\"line_color\":\"#1f77b4\",\"x\":{\"field\":\"x\"},\"y\":{\"field\":\"y\"}},\"id\":\"2664\",\"type\":\"Line\"},{\"attributes\":{},\"id\":\"2698\",\"type\":\"Selection\"},{\"attributes\":{\"callback\":null},\"id\":\"2613\",\"type\":\"DataRange1d\"},{\"attributes\":{},\"id\":\"2636\",\"type\":\"HelpTool\"},{\"attributes\":{\"data_source\":{\"id\":\"2662\",\"type\":\"ColumnDataSource\"},\"glyph\":{\"id\":\"2663\",\"type\":\"Line\"},\"hover_glyph\":null,\"muted_glyph\":null,\"nonselection_glyph\":{\"id\":\"2664\",\"type\":\"Line\"},\"selection_glyph\":null,\"view\":{\"id\":\"2666\",\"type\":\"CDSView\"}},\"id\":\"2665\",\"type\":\"GlyphRenderer\"},{\"attributes\":{},\"id\":\"2699\",\"type\":\"UnionRenderers\"},{\"attributes\":{\"callback\":null},\"id\":\"2615\",\"type\":\"DataRange1d\"},{\"attributes\":{\"active_drag\":\"auto\",\"active_inspect\":\"auto\",\"active_multi\":null,\"active_scroll\":\"auto\",\"active_tap\":\"auto\",\"tools\":[{\"id\":\"2631\",\"type\":\"PanTool\"},{\"id\":\"2632\",\"type\":\"WheelZoomTool\"},{\"id\":\"2633\",\"type\":\"BoxZoomTool\"},{\"id\":\"2634\",\"type\":\"SaveTool\"},{\"id\":\"2635\",\"type\":\"ResetTool\"},{\"id\":\"2636\",\"type\":\"HelpTool\"},{\"id\":\"2708\",\"type\":\"HoverTool\"}]},\"id\":\"2637\",\"type\":\"Toolbar\"}],\"root_ids\":[\"2610\"]},\"title\":\"Bokeh Application\",\"version\":\"1.3.4\"}};\n",
       "  var render_items = [{\"docid\":\"6bd2f3c1-6e34-4b2d-8c2c-906938d551c8\",\"roots\":{\"2610\":\"7bea2975-54b9-4009-9816-6cbe52cd7c5e\"}}];\n",
       "  root.Bokeh.embed.embed_items_notebook(docs_json, render_items);\n",
       "\n",
       "  }\n",
       "  if (root.Bokeh !== undefined) {\n",
       "    embed_document(root);\n",
       "  } else {\n",
       "    var attempts = 0;\n",
       "    var timer = setInterval(function(root) {\n",
       "      if (root.Bokeh !== undefined) {\n",
       "        embed_document(root);\n",
       "        clearInterval(timer);\n",
       "      }\n",
       "      attempts++;\n",
       "      if (attempts > 100) {\n",
       "        console.log(\"Bokeh: ERROR: Unable to run BokehJS code because BokehJS library is missing\");\n",
       "        clearInterval(timer);\n",
       "      }\n",
       "    }, 10, root)\n",
       "  }\n",
       "})(window);"
      ],
      "application/vnd.bokehjs_exec.v0+json": ""
     },
     "metadata": {
      "application/vnd.bokehjs_exec.v0+json": {
       "id": "2610"
      }
     },
     "output_type": "display_data"
    }
   ],
   "source": [
    "# Prevalence of undernourishment (% of population)\n",
    "years = list(map(str, list(range(2000,2018))))\n",
    "result = show_weighted_average(years, 'SN.ITK.DEFC.ZS', 'SP.POP.TOTL', \n",
    "                               ['LDCs', 'Developing excluding LDCs', 'OECD'])"
   ]
  },
  {
   "cell_type": "code",
   "execution_count": 12,
   "metadata": {
    "ExecuteTime": {
     "end_time": "2019-10-25T14:25:03.855925Z",
     "start_time": "2019-10-25T14:24:58.886407Z"
    },
    "slideshow": {
     "slide_type": "slide"
    }
   },
   "outputs": [
    {
     "data": {
      "text/html": [
       "\n",
       "\n",
       "\n",
       "\n",
       "\n",
       "\n",
       "  <div class=\"bk-root\" id=\"b129b62f-29ac-48ba-b304-5f39de401267\" data-root-id=\"2943\"></div>\n"
      ]
     },
     "metadata": {},
     "output_type": "display_data"
    },
    {
     "data": {
      "application/javascript": [
       "(function(root) {\n",
       "  function embed_document(root) {\n",
       "    \n",
       "  var docs_json = {\"ef9491f2-5a15-425e-9c84-7799554f25d6\":{\"roots\":{\"references\":[{\"attributes\":{\"below\":[{\"id\":\"2954\",\"type\":\"LinearAxis\"}],\"center\":[{\"id\":\"2958\",\"type\":\"Grid\"},{\"id\":\"2963\",\"type\":\"Grid\"},{\"id\":\"2988\",\"type\":\"Legend\"}],\"left\":[{\"id\":\"2959\",\"type\":\"LinearAxis\"}],\"plot_height\":400,\"plot_width\":800,\"renderers\":[{\"id\":\"2980\",\"type\":\"GlyphRenderer\"},{\"id\":\"2993\",\"type\":\"GlyphRenderer\"},{\"id\":\"2998\",\"type\":\"GlyphRenderer\"},{\"id\":\"3014\",\"type\":\"GlyphRenderer\"},{\"id\":\"3019\",\"type\":\"GlyphRenderer\"},{\"id\":\"3039\",\"type\":\"GlyphRenderer\"}],\"title\":{\"id\":\"2944\",\"type\":\"Title\"},\"toolbar\":{\"id\":\"2970\",\"type\":\"Toolbar\"},\"x_range\":{\"id\":\"2946\",\"type\":\"DataRange1d\"},\"x_scale\":{\"id\":\"2950\",\"type\":\"LinearScale\"},\"y_range\":{\"id\":\"2948\",\"type\":\"DataRange1d\"},\"y_scale\":{\"id\":\"2952\",\"type\":\"LinearScale\"}},\"id\":\"2943\",\"subtype\":\"Figure\",\"type\":\"Plot\"},{\"attributes\":{\"data_source\":{\"id\":\"2990\",\"type\":\"ColumnDataSource\"},\"glyph\":{\"id\":\"2991\",\"type\":\"Circle\"},\"hover_glyph\":null,\"muted_glyph\":null,\"nonselection_glyph\":{\"id\":\"2992\",\"type\":\"Circle\"},\"selection_glyph\":null,\"view\":{\"id\":\"2994\",\"type\":\"CDSView\"}},\"id\":\"2993\",\"type\":\"GlyphRenderer\"},{\"attributes\":{\"callback\":null,\"data\":{\"x\":[\"2000\",\"2001\",\"2002\",\"2003\",\"2004\",\"2005\",\"2006\",\"2007\",\"2008\",\"2009\",\"2010\",\"2011\",\"2012\",\"2013\",\"2014\",\"2015\",\"2016\",\"2017\"],\"y\":[6.664750789193946,7.14260825773659,7.454785931920459,7.5069480358449825,7.061134298970307,6.798358087904257,6.463499051640063,6.724561457383378,7.076831863705094,8.259612794934673,7.468578257026923,7.615305901349119,7.570593882649795,7.890298170268733,7.995508600894686,8.359319653572543,8.569945562785916,8.425056582808882]},\"selected\":{\"id\":\"3184\",\"type\":\"Selection\"},\"selection_policy\":{\"id\":\"3185\",\"type\":\"UnionRenderers\"}},\"id\":\"3036\",\"type\":\"ColumnDataSource\"},{\"attributes\":{\"axis_label\":\"Years\",\"formatter\":{\"id\":\"2985\",\"type\":\"BasicTickFormatter\"},\"ticker\":{\"id\":\"2955\",\"type\":\"BasicTicker\"}},\"id\":\"2954\",\"type\":\"LinearAxis\"},{\"attributes\":{\"source\":{\"id\":\"2990\",\"type\":\"ColumnDataSource\"}},\"id\":\"2994\",\"type\":\"CDSView\"},{\"attributes\":{\"fill_color\":{\"value\":\"#2CC775\"},\"line_color\":{\"value\":\"#2CC775\"},\"line_width\":{\"value\":3},\"x\":{\"field\":\"x\"},\"y\":{\"field\":\"y\"}},\"id\":\"3037\",\"type\":\"Circle\"},{\"attributes\":{},\"id\":\"2967\",\"type\":\"SaveTool\"},{\"attributes\":{\"fill_alpha\":{\"value\":0.1},\"fill_color\":{\"value\":\"#1f77b4\"},\"line_alpha\":{\"value\":0.1},\"line_color\":{\"value\":\"#1f77b4\"},\"line_width\":{\"value\":3},\"x\":{\"field\":\"x\"},\"y\":{\"field\":\"y\"}},\"id\":\"3038\",\"type\":\"Circle\"},{\"attributes\":{},\"id\":\"2955\",\"type\":\"BasicTicker\"},{\"attributes\":{\"text\":\"Food imports (% of merchandise imports) weighted against Merchandise imports (current US$)\"},\"id\":\"2944\",\"type\":\"Title\"},{\"attributes\":{\"data_source\":{\"id\":\"3036\",\"type\":\"ColumnDataSource\"},\"glyph\":{\"id\":\"3037\",\"type\":\"Circle\"},\"hover_glyph\":null,\"muted_glyph\":null,\"nonselection_glyph\":{\"id\":\"3038\",\"type\":\"Circle\"},\"selection_glyph\":null,\"view\":{\"id\":\"3040\",\"type\":\"CDSView\"}},\"id\":\"3039\",\"type\":\"GlyphRenderer\"},{\"attributes\":{\"callback\":null,\"data\":{\"x\":[\"2000\",\"2001\",\"2002\",\"2003\",\"2004\",\"2005\",\"2006\",\"2007\",\"2008\",\"2009\",\"2010\",\"2011\",\"2012\",\"2013\",\"2014\",\"2015\",\"2016\",\"2017\"],\"y\":[6.680761900137902,7.103266650915765,6.9541849955897606,6.71483006886033,6.245912622425446,5.671804704646423,5.391568297068544,5.972886125793425,6.3914893367351935,6.916327387090665,6.474547310095425,6.804185950656369,6.780992206038605,6.8536773836084866,7.205658369676085,7.84683494478912,8.06735084956151,8.155877729724605]},\"selected\":{\"id\":\"3031\",\"type\":\"Selection\"},\"selection_policy\":{\"id\":\"3032\",\"type\":\"UnionRenderers\"}},\"id\":\"2995\",\"type\":\"ColumnDataSource\"},{\"attributes\":{\"grid_line_color\":null,\"ticker\":{\"id\":\"2955\",\"type\":\"BasicTicker\"}},\"id\":\"2958\",\"type\":\"Grid\"},{\"attributes\":{\"callback\":null},\"id\":\"2946\",\"type\":\"DataRange1d\"},{\"attributes\":{\"line_color\":\"#5430F1\",\"x\":{\"field\":\"x\"},\"y\":{\"field\":\"y\"}},\"id\":\"2996\",\"type\":\"Line\"},{\"attributes\":{},\"id\":\"2968\",\"type\":\"ResetTool\"},{\"attributes\":{\"source\":{\"id\":\"3036\",\"type\":\"ColumnDataSource\"}},\"id\":\"3040\",\"type\":\"CDSView\"},{\"attributes\":{},\"id\":\"2969\",\"type\":\"HelpTool\"},{\"attributes\":{\"callback\":null},\"id\":\"2948\",\"type\":\"DataRange1d\"},{\"attributes\":{\"line_alpha\":0.1,\"line_color\":\"#1f77b4\",\"x\":{\"field\":\"x\"},\"y\":{\"field\":\"y\"}},\"id\":\"2997\",\"type\":\"Line\"},{\"attributes\":{\"line_alpha\":0.1,\"line_color\":\"#1f77b4\",\"x\":{\"field\":\"x\"},\"y\":{\"field\":\"y\"}},\"id\":\"3018\",\"type\":\"Line\"},{\"attributes\":{\"active_drag\":\"auto\",\"active_inspect\":\"auto\",\"active_multi\":null,\"active_scroll\":\"auto\",\"active_tap\":\"auto\",\"tools\":[{\"id\":\"2964\",\"type\":\"PanTool\"},{\"id\":\"2965\",\"type\":\"WheelZoomTool\"},{\"id\":\"2966\",\"type\":\"BoxZoomTool\"},{\"id\":\"2967\",\"type\":\"SaveTool\"},{\"id\":\"2968\",\"type\":\"ResetTool\"},{\"id\":\"2969\",\"type\":\"HelpTool\"},{\"id\":\"3041\",\"type\":\"HoverTool\"}]},\"id\":\"2970\",\"type\":\"Toolbar\"},{\"attributes\":{\"data_source\":{\"id\":\"2995\",\"type\":\"ColumnDataSource\"},\"glyph\":{\"id\":\"2996\",\"type\":\"Line\"},\"hover_glyph\":null,\"muted_glyph\":null,\"nonselection_glyph\":{\"id\":\"2997\",\"type\":\"Line\"},\"selection_glyph\":null,\"view\":{\"id\":\"2999\",\"type\":\"CDSView\"}},\"id\":\"2998\",\"type\":\"GlyphRenderer\"},{\"attributes\":{},\"id\":\"2950\",\"type\":\"LinearScale\"},{\"attributes\":{\"axis_label\":\"TM.VAL.FOOD.ZS.UN\",\"formatter\":{\"id\":\"2983\",\"type\":\"BasicTickFormatter\"},\"ticker\":{\"id\":\"2960\",\"type\":\"BasicTicker\"}},\"id\":\"2959\",\"type\":\"LinearAxis\"},{\"attributes\":{},\"id\":\"3182\",\"type\":\"Selection\"},{\"attributes\":{\"data_source\":{\"id\":\"3016\",\"type\":\"ColumnDataSource\"},\"glyph\":{\"id\":\"3017\",\"type\":\"Line\"},\"hover_glyph\":null,\"muted_glyph\":null,\"nonselection_glyph\":{\"id\":\"3018\",\"type\":\"Line\"},\"selection_glyph\":null,\"view\":{\"id\":\"3020\",\"type\":\"CDSView\"}},\"id\":\"3019\",\"type\":\"GlyphRenderer\"},{\"attributes\":{},\"id\":\"2952\",\"type\":\"LinearScale\"},{\"attributes\":{\"source\":{\"id\":\"2995\",\"type\":\"ColumnDataSource\"}},\"id\":\"2999\",\"type\":\"CDSView\"},{\"attributes\":{},\"id\":\"2960\",\"type\":\"BasicTicker\"},{\"attributes\":{\"line_alpha\":0.1,\"line_color\":\"#1f77b4\",\"x\":{\"field\":\"x\"},\"y\":{\"field\":\"y\"}},\"id\":\"2979\",\"type\":\"Line\"},{\"attributes\":{},\"id\":\"3183\",\"type\":\"UnionRenderers\"},{\"attributes\":{},\"id\":\"3006\",\"type\":\"Selection\"},{\"attributes\":{},\"id\":\"3184\",\"type\":\"Selection\"},{\"attributes\":{\"data_source\":{\"id\":\"2977\",\"type\":\"ColumnDataSource\"},\"glyph\":{\"id\":\"2978\",\"type\":\"Line\"},\"hover_glyph\":null,\"muted_glyph\":null,\"nonselection_glyph\":{\"id\":\"2979\",\"type\":\"Line\"},\"selection_glyph\":null,\"view\":{\"id\":\"2981\",\"type\":\"CDSView\"}},\"id\":\"2980\",\"type\":\"GlyphRenderer\"},{\"attributes\":{\"dimension\":1,\"grid_line_alpha\":0.5,\"ticker\":{\"id\":\"2960\",\"type\":\"BasicTicker\"}},\"id\":\"2963\",\"type\":\"Grid\"},{\"attributes\":{\"source\":{\"id\":\"2977\",\"type\":\"ColumnDataSource\"}},\"id\":\"2981\",\"type\":\"CDSView\"},{\"attributes\":{\"source\":{\"id\":\"3016\",\"type\":\"ColumnDataSource\"}},\"id\":\"3020\",\"type\":\"CDSView\"},{\"attributes\":{},\"id\":\"3007\",\"type\":\"UnionRenderers\"},{\"attributes\":{\"line_color\":\"#FA1857\",\"x\":{\"field\":\"x\"},\"y\":{\"field\":\"y\"}},\"id\":\"2978\",\"type\":\"Line\"},{\"attributes\":{},\"id\":\"3185\",\"type\":\"UnionRenderers\"},{\"attributes\":{\"callback\":null,\"tooltips\":\"                \\n        <div style=padding=5px>Year:@x</div>\\n        <div style=padding=5px>Value:@y</div>        \\n        \"},\"id\":\"3041\",\"type\":\"HoverTool\"},{\"attributes\":{},\"id\":\"3008\",\"type\":\"Selection\"},{\"attributes\":{\"callback\":null,\"data\":{\"x\":[\"2000\",\"2001\",\"2002\",\"2003\",\"2004\",\"2005\",\"2006\",\"2007\",\"2008\",\"2009\",\"2010\",\"2011\",\"2012\",\"2013\",\"2014\",\"2015\",\"2016\",\"2017\"],\"y\":[17.937695982171277,16.78037600311266,16.94317265283144,17.48983390427108,16.774223530017515,15.813789653901436,15.673007066416822,16.191269937341083,15.838994250962328,16.22610041134688,16.154563828357762,16.562353136179336,15.178298854466885,14.955659220400578,15.29447697970412,15.041932495198918,15.752772028130035,16.792717806787888]},\"selected\":{\"id\":\"3006\",\"type\":\"Selection\"},\"selection_policy\":{\"id\":\"3007\",\"type\":\"UnionRenderers\"}},\"id\":\"2977\",\"type\":\"ColumnDataSource\"},{\"attributes\":{},\"id\":\"2964\",\"type\":\"PanTool\"},{\"attributes\":{},\"id\":\"3009\",\"type\":\"UnionRenderers\"},{\"attributes\":{},\"id\":\"3031\",\"type\":\"Selection\"},{\"attributes\":{},\"id\":\"2983\",\"type\":\"BasicTickFormatter\"},{\"attributes\":{},\"id\":\"2965\",\"type\":\"WheelZoomTool\"},{\"attributes\":{\"label\":{\"value\":\"Developing excluding LDCs\"},\"renderers\":[{\"id\":\"2998\",\"type\":\"GlyphRenderer\"}]},\"id\":\"3010\",\"type\":\"LegendItem\"},{\"attributes\":{},\"id\":\"2985\",\"type\":\"BasicTickFormatter\"},{\"attributes\":{\"overlay\":{\"id\":\"2987\",\"type\":\"BoxAnnotation\"}},\"id\":\"2966\",\"type\":\"BoxZoomTool\"},{\"attributes\":{\"callback\":null,\"data\":{\"x\":[\"2000\",\"2001\",\"2002\",\"2003\",\"2004\",\"2005\",\"2006\",\"2007\",\"2008\",\"2009\",\"2010\",\"2011\",\"2012\",\"2013\",\"2014\",\"2015\",\"2016\",\"2017\"],\"y\":[6.680761900137902,7.103266650915765,6.9541849955897606,6.71483006886033,6.245912622425446,5.671804704646423,5.391568297068544,5.972886125793425,6.3914893367351935,6.916327387090665,6.474547310095425,6.804185950656369,6.780992206038605,6.8536773836084866,7.205658369676085,7.84683494478912,8.06735084956151,8.155877729724605]},\"selected\":{\"id\":\"3033\",\"type\":\"Selection\"},\"selection_policy\":{\"id\":\"3034\",\"type\":\"UnionRenderers\"}},\"id\":\"3011\",\"type\":\"ColumnDataSource\"},{\"attributes\":{},\"id\":\"3032\",\"type\":\"UnionRenderers\"},{\"attributes\":{\"bottom_units\":\"screen\",\"fill_alpha\":{\"value\":0.5},\"fill_color\":{\"value\":\"lightgrey\"},\"left_units\":\"screen\",\"level\":\"overlay\",\"line_alpha\":{\"value\":1.0},\"line_color\":{\"value\":\"black\"},\"line_dash\":[4,4],\"line_width\":{\"value\":2},\"render_mode\":\"css\",\"right_units\":\"screen\",\"top_units\":\"screen\"},\"id\":\"2987\",\"type\":\"BoxAnnotation\"},{\"attributes\":{\"fill_color\":{\"value\":\"#5430F1\"},\"line_color\":{\"value\":\"#5430F1\"},\"line_width\":{\"value\":3},\"x\":{\"field\":\"x\"},\"y\":{\"field\":\"y\"}},\"id\":\"3012\",\"type\":\"Circle\"},{\"attributes\":{\"items\":[{\"id\":\"2989\",\"type\":\"LegendItem\"},{\"id\":\"3010\",\"type\":\"LegendItem\"},{\"id\":\"3035\",\"type\":\"LegendItem\"}],\"location\":\"bottom_left\"},\"id\":\"2988\",\"type\":\"Legend\"},{\"attributes\":{},\"id\":\"3033\",\"type\":\"Selection\"},{\"attributes\":{\"fill_alpha\":{\"value\":0.1},\"fill_color\":{\"value\":\"#1f77b4\"},\"line_alpha\":{\"value\":0.1},\"line_color\":{\"value\":\"#1f77b4\"},\"line_width\":{\"value\":3},\"x\":{\"field\":\"x\"},\"y\":{\"field\":\"y\"}},\"id\":\"3013\",\"type\":\"Circle\"},{\"attributes\":{\"label\":{\"value\":\"LDCs\"},\"renderers\":[{\"id\":\"2980\",\"type\":\"GlyphRenderer\"}]},\"id\":\"2989\",\"type\":\"LegendItem\"},{\"attributes\":{\"data_source\":{\"id\":\"3011\",\"type\":\"ColumnDataSource\"},\"glyph\":{\"id\":\"3012\",\"type\":\"Circle\"},\"hover_glyph\":null,\"muted_glyph\":null,\"nonselection_glyph\":{\"id\":\"3013\",\"type\":\"Circle\"},\"selection_glyph\":null,\"view\":{\"id\":\"3015\",\"type\":\"CDSView\"}},\"id\":\"3014\",\"type\":\"GlyphRenderer\"},{\"attributes\":{\"callback\":null,\"data\":{\"x\":[\"2000\",\"2001\",\"2002\",\"2003\",\"2004\",\"2005\",\"2006\",\"2007\",\"2008\",\"2009\",\"2010\",\"2011\",\"2012\",\"2013\",\"2014\",\"2015\",\"2016\",\"2017\"],\"y\":[17.937695982171277,16.78037600311266,16.94317265283144,17.48983390427108,16.774223530017515,15.813789653901436,15.673007066416822,16.191269937341083,15.838994250962328,16.22610041134688,16.154563828357762,16.562353136179336,15.178298854466885,14.955659220400578,15.29447697970412,15.041932495198918,15.752772028130035,16.792717806787888]},\"selected\":{\"id\":\"3008\",\"type\":\"Selection\"},\"selection_policy\":{\"id\":\"3009\",\"type\":\"UnionRenderers\"}},\"id\":\"2990\",\"type\":\"ColumnDataSource\"},{\"attributes\":{},\"id\":\"3034\",\"type\":\"UnionRenderers\"},{\"attributes\":{\"source\":{\"id\":\"3011\",\"type\":\"ColumnDataSource\"}},\"id\":\"3015\",\"type\":\"CDSView\"},{\"attributes\":{\"fill_color\":{\"value\":\"#FA1857\"},\"line_color\":{\"value\":\"#FA1857\"},\"line_width\":{\"value\":3},\"x\":{\"field\":\"x\"},\"y\":{\"field\":\"y\"}},\"id\":\"2991\",\"type\":\"Circle\"},{\"attributes\":{\"callback\":null,\"data\":{\"x\":[\"2000\",\"2001\",\"2002\",\"2003\",\"2004\",\"2005\",\"2006\",\"2007\",\"2008\",\"2009\",\"2010\",\"2011\",\"2012\",\"2013\",\"2014\",\"2015\",\"2016\",\"2017\"],\"y\":[6.664750789193946,7.14260825773659,7.454785931920459,7.5069480358449825,7.061134298970307,6.798358087904257,6.463499051640063,6.724561457383378,7.076831863705094,8.259612794934673,7.468578257026923,7.615305901349119,7.570593882649795,7.890298170268733,7.995508600894686,8.359319653572543,8.569945562785916,8.425056582808882]},\"selected\":{\"id\":\"3182\",\"type\":\"Selection\"},\"selection_policy\":{\"id\":\"3183\",\"type\":\"UnionRenderers\"}},\"id\":\"3016\",\"type\":\"ColumnDataSource\"},{\"attributes\":{\"fill_alpha\":{\"value\":0.1},\"fill_color\":{\"value\":\"#1f77b4\"},\"line_alpha\":{\"value\":0.1},\"line_color\":{\"value\":\"#1f77b4\"},\"line_width\":{\"value\":3},\"x\":{\"field\":\"x\"},\"y\":{\"field\":\"y\"}},\"id\":\"2992\",\"type\":\"Circle\"},{\"attributes\":{\"line_color\":\"#2CC775\",\"x\":{\"field\":\"x\"},\"y\":{\"field\":\"y\"}},\"id\":\"3017\",\"type\":\"Line\"},{\"attributes\":{\"label\":{\"value\":\"OECD\"},\"renderers\":[{\"id\":\"3019\",\"type\":\"GlyphRenderer\"}]},\"id\":\"3035\",\"type\":\"LegendItem\"}],\"root_ids\":[\"2943\"]},\"title\":\"Bokeh Application\",\"version\":\"1.3.4\"}};\n",
       "  var render_items = [{\"docid\":\"ef9491f2-5a15-425e-9c84-7799554f25d6\",\"roots\":{\"2943\":\"b129b62f-29ac-48ba-b304-5f39de401267\"}}];\n",
       "  root.Bokeh.embed.embed_items_notebook(docs_json, render_items);\n",
       "\n",
       "  }\n",
       "  if (root.Bokeh !== undefined) {\n",
       "    embed_document(root);\n",
       "  } else {\n",
       "    var attempts = 0;\n",
       "    var timer = setInterval(function(root) {\n",
       "      if (root.Bokeh !== undefined) {\n",
       "        embed_document(root);\n",
       "        clearInterval(timer);\n",
       "      }\n",
       "      attempts++;\n",
       "      if (attempts > 100) {\n",
       "        console.log(\"Bokeh: ERROR: Unable to run BokehJS code because BokehJS library is missing\");\n",
       "        clearInterval(timer);\n",
       "      }\n",
       "    }, 10, root)\n",
       "  }\n",
       "})(window);"
      ],
      "application/vnd.bokehjs_exec.v0+json": ""
     },
     "metadata": {
      "application/vnd.bokehjs_exec.v0+json": {
       "id": "2943"
      }
     },
     "output_type": "display_data"
    }
   ],
   "source": [
    "# Food imports as a percentage of merchandise imports\n",
    "years = list(map(str, list(range(2000,2018))))\n",
    "result = show_weighted_average(years, 'TM.VAL.FOOD.ZS.UN', 'TM.VAL.MRCH.CD.WT', \n",
    "                               ['LDCs', 'Developing excluding LDCs', 'OECD'])"
   ]
  },
  {
   "cell_type": "code",
   "execution_count": 13,
   "metadata": {
    "ExecuteTime": {
     "end_time": "2019-10-25T14:25:08.896422Z",
     "start_time": "2019-10-25T14:25:03.862619Z"
    },
    "slideshow": {
     "slide_type": "slide"
    }
   },
   "outputs": [
    {
     "data": {
      "text/html": [
       "\n",
       "\n",
       "\n",
       "\n",
       "\n",
       "\n",
       "  <div class=\"bk-root\" id=\"3943897c-eddc-4ec4-8c9f-34e64034296e\" data-root-id=\"3294\"></div>\n"
      ]
     },
     "metadata": {},
     "output_type": "display_data"
    },
    {
     "data": {
      "application/javascript": [
       "(function(root) {\n",
       "  function embed_document(root) {\n",
       "    \n",
       "  var docs_json = {\"421098e1-46d7-4b0e-ae2a-e4a011faa555\":{\"roots\":{\"references\":[{\"attributes\":{\"below\":[{\"id\":\"3305\",\"type\":\"LinearAxis\"}],\"center\":[{\"id\":\"3309\",\"type\":\"Grid\"},{\"id\":\"3314\",\"type\":\"Grid\"},{\"id\":\"3339\",\"type\":\"Legend\"}],\"left\":[{\"id\":\"3310\",\"type\":\"LinearAxis\"}],\"plot_height\":400,\"plot_width\":800,\"renderers\":[{\"id\":\"3331\",\"type\":\"GlyphRenderer\"},{\"id\":\"3344\",\"type\":\"GlyphRenderer\"},{\"id\":\"3349\",\"type\":\"GlyphRenderer\"},{\"id\":\"3365\",\"type\":\"GlyphRenderer\"},{\"id\":\"3370\",\"type\":\"GlyphRenderer\"},{\"id\":\"3390\",\"type\":\"GlyphRenderer\"}],\"title\":{\"id\":\"3295\",\"type\":\"Title\"},\"toolbar\":{\"id\":\"3321\",\"type\":\"Toolbar\"},\"x_range\":{\"id\":\"3297\",\"type\":\"DataRange1d\"},\"x_scale\":{\"id\":\"3301\",\"type\":\"LinearScale\"},\"y_range\":{\"id\":\"3299\",\"type\":\"DataRange1d\"},\"y_scale\":{\"id\":\"3303\",\"type\":\"LinearScale\"}},\"id\":\"3294\",\"subtype\":\"Figure\",\"type\":\"Plot\"},{\"attributes\":{},\"id\":\"3319\",\"type\":\"ResetTool\"},{\"attributes\":{\"fill_color\":{\"value\":\"#FA1857\"},\"line_color\":{\"value\":\"#FA1857\"},\"line_width\":{\"value\":3},\"x\":{\"field\":\"x\"},\"y\":{\"field\":\"y\"}},\"id\":\"3342\",\"type\":\"Circle\"},{\"attributes\":{\"fill_color\":{\"value\":\"#5430F1\"},\"line_color\":{\"value\":\"#5430F1\"},\"line_width\":{\"value\":3},\"x\":{\"field\":\"x\"},\"y\":{\"field\":\"y\"}},\"id\":\"3363\",\"type\":\"Circle\"},{\"attributes\":{\"items\":[{\"id\":\"3340\",\"type\":\"LegendItem\"},{\"id\":\"3361\",\"type\":\"LegendItem\"},{\"id\":\"3386\",\"type\":\"LegendItem\"}],\"location\":\"bottom_left\"},\"id\":\"3339\",\"type\":\"Legend\"},{\"attributes\":{\"callback\":null,\"tooltips\":\"                \\n        <div style=padding=5px>Year:@x</div>\\n        <div style=padding=5px>Value:@y</div>        \\n        \"},\"id\":\"3392\",\"type\":\"HoverTool\"},{\"attributes\":{\"fill_alpha\":{\"value\":0.1},\"fill_color\":{\"value\":\"#1f77b4\"},\"line_alpha\":{\"value\":0.1},\"line_color\":{\"value\":\"#1f77b4\"},\"line_width\":{\"value\":3},\"x\":{\"field\":\"x\"},\"y\":{\"field\":\"y\"}},\"id\":\"3343\",\"type\":\"Circle\"},{\"attributes\":{\"callback\":null,\"data\":{\"x\":[\"2000\",\"2001\",\"2002\",\"2003\",\"2004\",\"2005\",\"2006\",\"2007\",\"2008\",\"2009\",\"2010\",\"2011\",\"2012\",\"2013\",\"2014\",\"2015\",\"2016\",\"2017\"],\"y\":[77.66578611815008,77.48372117856151,77.3003924283104,77.1161525061927,76.90031449181213,76.68776345896921,76.39614003844204,76.07617621973222,75.75177177404335,75.48791521612867,75.12502195029214,74.66610555949481,74.2289571673177,73.9102202255493,73.62207946448815,73.45806110199783,73.28473415585526,73.01422935144863]},\"selected\":{\"id\":\"3357\",\"type\":\"Selection\"},\"selection_policy\":{\"id\":\"3358\",\"type\":\"UnionRenderers\"}},\"id\":\"3328\",\"type\":\"ColumnDataSource\"},{\"attributes\":{\"text\":\"Vulnerable employment, total (% of total employment) (modeled ILO estimate) weighted against Population, total\"},\"id\":\"3295\",\"type\":\"Title\"},{\"attributes\":{\"line_color\":\"#2CC775\",\"x\":{\"field\":\"x\"},\"y\":{\"field\":\"y\"}},\"id\":\"3368\",\"type\":\"Line\"},{\"attributes\":{\"dimension\":1,\"grid_line_alpha\":0.5,\"ticker\":{\"id\":\"3311\",\"type\":\"BasicTicker\"}},\"id\":\"3314\",\"type\":\"Grid\"},{\"attributes\":{\"fill_alpha\":{\"value\":0.1},\"fill_color\":{\"value\":\"#1f77b4\"},\"line_alpha\":{\"value\":0.1},\"line_color\":{\"value\":\"#1f77b4\"},\"line_width\":{\"value\":3},\"x\":{\"field\":\"x\"},\"y\":{\"field\":\"y\"}},\"id\":\"3364\",\"type\":\"Circle\"},{\"attributes\":{},\"id\":\"3311\",\"type\":\"BasicTicker\"},{\"attributes\":{},\"id\":\"3318\",\"type\":\"SaveTool\"},{\"attributes\":{\"label\":{\"value\":\"LDCs\"},\"renderers\":[{\"id\":\"3331\",\"type\":\"GlyphRenderer\"}]},\"id\":\"3340\",\"type\":\"LegendItem\"},{\"attributes\":{\"source\":{\"id\":\"3387\",\"type\":\"ColumnDataSource\"}},\"id\":\"3391\",\"type\":\"CDSView\"},{\"attributes\":{},\"id\":\"3360\",\"type\":\"UnionRenderers\"},{\"attributes\":{\"line_color\":\"#FA1857\",\"x\":{\"field\":\"x\"},\"y\":{\"field\":\"y\"}},\"id\":\"3329\",\"type\":\"Line\"},{\"attributes\":{\"fill_color\":{\"value\":\"#2CC775\"},\"line_color\":{\"value\":\"#2CC775\"},\"line_width\":{\"value\":3},\"x\":{\"field\":\"x\"},\"y\":{\"field\":\"y\"}},\"id\":\"3388\",\"type\":\"Circle\"},{\"attributes\":{},\"id\":\"3551\",\"type\":\"Selection\"},{\"attributes\":{\"data_source\":{\"id\":\"3362\",\"type\":\"ColumnDataSource\"},\"glyph\":{\"id\":\"3363\",\"type\":\"Circle\"},\"hover_glyph\":null,\"muted_glyph\":null,\"nonselection_glyph\":{\"id\":\"3364\",\"type\":\"Circle\"},\"selection_glyph\":null,\"view\":{\"id\":\"3366\",\"type\":\"CDSView\"}},\"id\":\"3365\",\"type\":\"GlyphRenderer\"},{\"attributes\":{\"label\":{\"value\":\"Developing excluding LDCs\"},\"renderers\":[{\"id\":\"3349\",\"type\":\"GlyphRenderer\"}]},\"id\":\"3361\",\"type\":\"LegendItem\"},{\"attributes\":{\"fill_alpha\":{\"value\":0.1},\"fill_color\":{\"value\":\"#1f77b4\"},\"line_alpha\":{\"value\":0.1},\"line_color\":{\"value\":\"#1f77b4\"},\"line_width\":{\"value\":3},\"x\":{\"field\":\"x\"},\"y\":{\"field\":\"y\"}},\"id\":\"3389\",\"type\":\"Circle\"},{\"attributes\":{\"overlay\":{\"id\":\"3338\",\"type\":\"BoxAnnotation\"}},\"id\":\"3317\",\"type\":\"BoxZoomTool\"},{\"attributes\":{},\"id\":\"3357\",\"type\":\"Selection\"},{\"attributes\":{\"data_source\":{\"id\":\"3328\",\"type\":\"ColumnDataSource\"},\"glyph\":{\"id\":\"3329\",\"type\":\"Line\"},\"hover_glyph\":null,\"muted_glyph\":null,\"nonselection_glyph\":{\"id\":\"3330\",\"type\":\"Line\"},\"selection_glyph\":null,\"view\":{\"id\":\"3332\",\"type\":\"CDSView\"}},\"id\":\"3331\",\"type\":\"GlyphRenderer\"},{\"attributes\":{},\"id\":\"3385\",\"type\":\"UnionRenderers\"},{\"attributes\":{\"source\":{\"id\":\"3367\",\"type\":\"ColumnDataSource\"}},\"id\":\"3371\",\"type\":\"CDSView\"},{\"attributes\":{\"callback\":null,\"data\":{\"x\":[\"2000\",\"2001\",\"2002\",\"2003\",\"2004\",\"2005\",\"2006\",\"2007\",\"2008\",\"2009\",\"2010\",\"2011\",\"2012\",\"2013\",\"2014\",\"2015\",\"2016\",\"2017\"],\"y\":[61.0670899676933,60.64887617851456,60.0847174439562,59.8004428750146,59.24493004641758,58.64982323027214,57.9982987425477,57.53000290515276,57.170618508695945,56.87034484147922,56.39818778323896,55.53142880868701,54.515207463938346,53.981841318734105,53.516452959813726,53.08603882753668,52.796133419564455,52.481225827201754]},\"selected\":{\"id\":\"3384\",\"type\":\"Selection\"},\"selection_policy\":{\"id\":\"3385\",\"type\":\"UnionRenderers\"}},\"id\":\"3362\",\"type\":\"ColumnDataSource\"},{\"attributes\":{},\"id\":\"3303\",\"type\":\"LinearScale\"},{\"attributes\":{\"data_source\":{\"id\":\"3387\",\"type\":\"ColumnDataSource\"},\"glyph\":{\"id\":\"3388\",\"type\":\"Circle\"},\"hover_glyph\":null,\"muted_glyph\":null,\"nonselection_glyph\":{\"id\":\"3389\",\"type\":\"Circle\"},\"selection_glyph\":null,\"view\":{\"id\":\"3391\",\"type\":\"CDSView\"}},\"id\":\"3390\",\"type\":\"GlyphRenderer\"},{\"attributes\":{},\"id\":\"3358\",\"type\":\"UnionRenderers\"},{\"attributes\":{\"label\":{\"value\":\"OECD\"},\"renderers\":[{\"id\":\"3370\",\"type\":\"GlyphRenderer\"}]},\"id\":\"3386\",\"type\":\"LegendItem\"},{\"attributes\":{},\"id\":\"3316\",\"type\":\"WheelZoomTool\"},{\"attributes\":{\"line_alpha\":0.1,\"line_color\":\"#1f77b4\",\"x\":{\"field\":\"x\"},\"y\":{\"field\":\"y\"}},\"id\":\"3348\",\"type\":\"Line\"},{\"attributes\":{},\"id\":\"3554\",\"type\":\"UnionRenderers\"},{\"attributes\":{\"line_alpha\":0.1,\"line_color\":\"#1f77b4\",\"x\":{\"field\":\"x\"},\"y\":{\"field\":\"y\"}},\"id\":\"3330\",\"type\":\"Line\"},{\"attributes\":{},\"id\":\"3382\",\"type\":\"Selection\"},{\"attributes\":{\"callback\":null,\"data\":{\"x\":[\"2000\",\"2001\",\"2002\",\"2003\",\"2004\",\"2005\",\"2006\",\"2007\",\"2008\",\"2009\",\"2010\",\"2011\",\"2012\",\"2013\",\"2014\",\"2015\",\"2016\",\"2017\"],\"y\":[15.103695797826978,15.131169027337517,14.956404858686836,14.940762682053347,14.834277780762966,14.355494539286878,13.756191814089059,13.46227561311569,13.185720820345873,13.311176143007764,13.205454041812168,13.11874289832326,13.014718113971039,12.888181456404036,12.723579196926023,12.524640395839814,12.37155664238607,12.249551314128]},\"selected\":{\"id\":\"3553\",\"type\":\"Selection\"},\"selection_policy\":{\"id\":\"3554\",\"type\":\"UnionRenderers\"}},\"id\":\"3387\",\"type\":\"ColumnDataSource\"},{\"attributes\":{},\"id\":\"3359\",\"type\":\"Selection\"},{\"attributes\":{},\"id\":\"3301\",\"type\":\"LinearScale\"},{\"attributes\":{\"data_source\":{\"id\":\"3341\",\"type\":\"ColumnDataSource\"},\"glyph\":{\"id\":\"3342\",\"type\":\"Circle\"},\"hover_glyph\":null,\"muted_glyph\":null,\"nonselection_glyph\":{\"id\":\"3343\",\"type\":\"Circle\"},\"selection_glyph\":null,\"view\":{\"id\":\"3345\",\"type\":\"CDSView\"}},\"id\":\"3344\",\"type\":\"GlyphRenderer\"},{\"attributes\":{\"data_source\":{\"id\":\"3346\",\"type\":\"ColumnDataSource\"},\"glyph\":{\"id\":\"3347\",\"type\":\"Line\"},\"hover_glyph\":null,\"muted_glyph\":null,\"nonselection_glyph\":{\"id\":\"3348\",\"type\":\"Line\"},\"selection_glyph\":null,\"view\":{\"id\":\"3350\",\"type\":\"CDSView\"}},\"id\":\"3349\",\"type\":\"GlyphRenderer\"},{\"attributes\":{},\"id\":\"3383\",\"type\":\"UnionRenderers\"},{\"attributes\":{},\"id\":\"3315\",\"type\":\"PanTool\"},{\"attributes\":{\"active_drag\":\"auto\",\"active_inspect\":\"auto\",\"active_multi\":null,\"active_scroll\":\"auto\",\"active_tap\":\"auto\",\"tools\":[{\"id\":\"3315\",\"type\":\"PanTool\"},{\"id\":\"3316\",\"type\":\"WheelZoomTool\"},{\"id\":\"3317\",\"type\":\"BoxZoomTool\"},{\"id\":\"3318\",\"type\":\"SaveTool\"},{\"id\":\"3319\",\"type\":\"ResetTool\"},{\"id\":\"3320\",\"type\":\"HelpTool\"},{\"id\":\"3392\",\"type\":\"HoverTool\"}]},\"id\":\"3321\",\"type\":\"Toolbar\"},{\"attributes\":{},\"id\":\"3334\",\"type\":\"BasicTickFormatter\"},{\"attributes\":{\"source\":{\"id\":\"3341\",\"type\":\"ColumnDataSource\"}},\"id\":\"3345\",\"type\":\"CDSView\"},{\"attributes\":{\"line_alpha\":0.1,\"line_color\":\"#1f77b4\",\"x\":{\"field\":\"x\"},\"y\":{\"field\":\"y\"}},\"id\":\"3369\",\"type\":\"Line\"},{\"attributes\":{},\"id\":\"3553\",\"type\":\"Selection\"},{\"attributes\":{\"callback\":null,\"data\":{\"x\":[\"2000\",\"2001\",\"2002\",\"2003\",\"2004\",\"2005\",\"2006\",\"2007\",\"2008\",\"2009\",\"2010\",\"2011\",\"2012\",\"2013\",\"2014\",\"2015\",\"2016\",\"2017\"],\"y\":[77.66578611815008,77.48372117856151,77.3003924283104,77.1161525061927,76.90031449181213,76.68776345896921,76.39614003844204,76.07617621973222,75.75177177404335,75.48791521612867,75.12502195029214,74.66610555949481,74.2289571673177,73.9102202255493,73.62207946448815,73.45806110199783,73.28473415585526,73.01422935144863]},\"selected\":{\"id\":\"3359\",\"type\":\"Selection\"},\"selection_policy\":{\"id\":\"3360\",\"type\":\"UnionRenderers\"}},\"id\":\"3341\",\"type\":\"ColumnDataSource\"},{\"attributes\":{\"source\":{\"id\":\"3346\",\"type\":\"ColumnDataSource\"}},\"id\":\"3350\",\"type\":\"CDSView\"},{\"attributes\":{\"callback\":null},\"id\":\"3299\",\"type\":\"DataRange1d\"},{\"attributes\":{\"grid_line_color\":null,\"ticker\":{\"id\":\"3306\",\"type\":\"BasicTicker\"}},\"id\":\"3309\",\"type\":\"Grid\"},{\"attributes\":{},\"id\":\"3384\",\"type\":\"Selection\"},{\"attributes\":{\"callback\":null,\"data\":{\"x\":[\"2000\",\"2001\",\"2002\",\"2003\",\"2004\",\"2005\",\"2006\",\"2007\",\"2008\",\"2009\",\"2010\",\"2011\",\"2012\",\"2013\",\"2014\",\"2015\",\"2016\",\"2017\"],\"y\":[61.0670899676933,60.64887617851456,60.0847174439562,59.8004428750146,59.24493004641758,58.64982323027214,57.9982987425477,57.53000290515276,57.170618508695945,56.87034484147922,56.39818778323896,55.53142880868701,54.515207463938346,53.981841318734105,53.516452959813726,53.08603882753668,52.796133419564455,52.481225827201754]},\"selected\":{\"id\":\"3382\",\"type\":\"Selection\"},\"selection_policy\":{\"id\":\"3383\",\"type\":\"UnionRenderers\"}},\"id\":\"3346\",\"type\":\"ColumnDataSource\"},{\"attributes\":{},\"id\":\"3336\",\"type\":\"BasicTickFormatter\"},{\"attributes\":{\"data_source\":{\"id\":\"3367\",\"type\":\"ColumnDataSource\"},\"glyph\":{\"id\":\"3368\",\"type\":\"Line\"},\"hover_glyph\":null,\"muted_glyph\":null,\"nonselection_glyph\":{\"id\":\"3369\",\"type\":\"Line\"},\"selection_glyph\":null,\"view\":{\"id\":\"3371\",\"type\":\"CDSView\"}},\"id\":\"3370\",\"type\":\"GlyphRenderer\"},{\"attributes\":{},\"id\":\"3320\",\"type\":\"HelpTool\"},{\"attributes\":{\"axis_label\":\"SL.EMP.VULN.ZS\",\"formatter\":{\"id\":\"3334\",\"type\":\"BasicTickFormatter\"},\"ticker\":{\"id\":\"3311\",\"type\":\"BasicTicker\"}},\"id\":\"3310\",\"type\":\"LinearAxis\"},{\"attributes\":{},\"id\":\"3552\",\"type\":\"UnionRenderers\"},{\"attributes\":{\"source\":{\"id\":\"3362\",\"type\":\"ColumnDataSource\"}},\"id\":\"3366\",\"type\":\"CDSView\"},{\"attributes\":{\"source\":{\"id\":\"3328\",\"type\":\"ColumnDataSource\"}},\"id\":\"3332\",\"type\":\"CDSView\"},{\"attributes\":{\"line_color\":\"#5430F1\",\"x\":{\"field\":\"x\"},\"y\":{\"field\":\"y\"}},\"id\":\"3347\",\"type\":\"Line\"},{\"attributes\":{},\"id\":\"3306\",\"type\":\"BasicTicker\"},{\"attributes\":{\"callback\":null},\"id\":\"3297\",\"type\":\"DataRange1d\"},{\"attributes\":{\"bottom_units\":\"screen\",\"fill_alpha\":{\"value\":0.5},\"fill_color\":{\"value\":\"lightgrey\"},\"left_units\":\"screen\",\"level\":\"overlay\",\"line_alpha\":{\"value\":1.0},\"line_color\":{\"value\":\"black\"},\"line_dash\":[4,4],\"line_width\":{\"value\":2},\"render_mode\":\"css\",\"right_units\":\"screen\",\"top_units\":\"screen\"},\"id\":\"3338\",\"type\":\"BoxAnnotation\"},{\"attributes\":{\"axis_label\":\"Years\",\"formatter\":{\"id\":\"3336\",\"type\":\"BasicTickFormatter\"},\"ticker\":{\"id\":\"3306\",\"type\":\"BasicTicker\"}},\"id\":\"3305\",\"type\":\"LinearAxis\"},{\"attributes\":{\"callback\":null,\"data\":{\"x\":[\"2000\",\"2001\",\"2002\",\"2003\",\"2004\",\"2005\",\"2006\",\"2007\",\"2008\",\"2009\",\"2010\",\"2011\",\"2012\",\"2013\",\"2014\",\"2015\",\"2016\",\"2017\"],\"y\":[15.103695797826978,15.131169027337517,14.956404858686836,14.940762682053347,14.834277780762966,14.355494539286878,13.756191814089059,13.46227561311569,13.185720820345873,13.311176143007764,13.205454041812168,13.11874289832326,13.014718113971039,12.888181456404036,12.723579196926023,12.524640395839814,12.37155664238607,12.249551314128]},\"selected\":{\"id\":\"3551\",\"type\":\"Selection\"},\"selection_policy\":{\"id\":\"3552\",\"type\":\"UnionRenderers\"}},\"id\":\"3367\",\"type\":\"ColumnDataSource\"}],\"root_ids\":[\"3294\"]},\"title\":\"Bokeh Application\",\"version\":\"1.3.4\"}};\n",
       "  var render_items = [{\"docid\":\"421098e1-46d7-4b0e-ae2a-e4a011faa555\",\"roots\":{\"3294\":\"3943897c-eddc-4ec4-8c9f-34e64034296e\"}}];\n",
       "  root.Bokeh.embed.embed_items_notebook(docs_json, render_items);\n",
       "\n",
       "  }\n",
       "  if (root.Bokeh !== undefined) {\n",
       "    embed_document(root);\n",
       "  } else {\n",
       "    var attempts = 0;\n",
       "    var timer = setInterval(function(root) {\n",
       "      if (root.Bokeh !== undefined) {\n",
       "        embed_document(root);\n",
       "        clearInterval(timer);\n",
       "      }\n",
       "      attempts++;\n",
       "      if (attempts > 100) {\n",
       "        console.log(\"Bokeh: ERROR: Unable to run BokehJS code because BokehJS library is missing\");\n",
       "        clearInterval(timer);\n",
       "      }\n",
       "    }, 10, root)\n",
       "  }\n",
       "})(window);"
      ],
      "application/vnd.bokehjs_exec.v0+json": ""
     },
     "metadata": {
      "application/vnd.bokehjs_exec.v0+json": {
       "id": "3294"
      }
     },
     "output_type": "display_data"
    }
   ],
   "source": [
    "# Vulnerable employment\n",
    "years = list(map(str, list(range(2000,2018))))\n",
    "result = show_weighted_average(years, 'SL.EMP.VULN.ZS', 'SP.POP.TOTL', \n",
    "                               ['LDCs', 'Developing excluding LDCs', 'OECD'])"
   ]
  },
  {
   "cell_type": "code",
   "execution_count": 14,
   "metadata": {
    "ExecuteTime": {
     "end_time": "2019-10-25T14:25:14.112300Z",
     "start_time": "2019-10-25T14:25:08.899437Z"
    },
    "slideshow": {
     "slide_type": "slide"
    }
   },
   "outputs": [
    {
     "data": {
      "text/html": [
       "\n",
       "\n",
       "\n",
       "\n",
       "\n",
       "\n",
       "  <div class=\"bk-root\" id=\"663432f6-35d7-4717-8a46-4a33c222f4ba\" data-root-id=\"3663\"></div>\n"
      ]
     },
     "metadata": {},
     "output_type": "display_data"
    },
    {
     "data": {
      "application/javascript": [
       "(function(root) {\n",
       "  function embed_document(root) {\n",
       "    \n",
       "  var docs_json = {\"1808f241-f1a5-4865-88f5-b95196aafe0c\":{\"roots\":{\"references\":[{\"attributes\":{\"below\":[{\"id\":\"3674\",\"type\":\"LinearAxis\"}],\"center\":[{\"id\":\"3678\",\"type\":\"Grid\"},{\"id\":\"3683\",\"type\":\"Grid\"},{\"id\":\"3708\",\"type\":\"Legend\"}],\"left\":[{\"id\":\"3679\",\"type\":\"LinearAxis\"}],\"plot_height\":400,\"plot_width\":800,\"renderers\":[{\"id\":\"3700\",\"type\":\"GlyphRenderer\"},{\"id\":\"3713\",\"type\":\"GlyphRenderer\"},{\"id\":\"3718\",\"type\":\"GlyphRenderer\"},{\"id\":\"3734\",\"type\":\"GlyphRenderer\"},{\"id\":\"3739\",\"type\":\"GlyphRenderer\"},{\"id\":\"3759\",\"type\":\"GlyphRenderer\"}],\"title\":{\"id\":\"3664\",\"type\":\"Title\"},\"toolbar\":{\"id\":\"3690\",\"type\":\"Toolbar\"},\"x_range\":{\"id\":\"3666\",\"type\":\"DataRange1d\"},\"x_scale\":{\"id\":\"3670\",\"type\":\"LinearScale\"},\"y_range\":{\"id\":\"3668\",\"type\":\"DataRange1d\"},\"y_scale\":{\"id\":\"3672\",\"type\":\"LinearScale\"}},\"id\":\"3663\",\"subtype\":\"Figure\",\"type\":\"Plot\"},{\"attributes\":{\"overlay\":{\"id\":\"3707\",\"type\":\"BoxAnnotation\"}},\"id\":\"3686\",\"type\":\"BoxZoomTool\"},{\"attributes\":{\"active_drag\":\"auto\",\"active_inspect\":\"auto\",\"active_multi\":null,\"active_scroll\":\"auto\",\"active_tap\":\"auto\",\"tools\":[{\"id\":\"3684\",\"type\":\"PanTool\"},{\"id\":\"3685\",\"type\":\"WheelZoomTool\"},{\"id\":\"3686\",\"type\":\"BoxZoomTool\"},{\"id\":\"3687\",\"type\":\"SaveTool\"},{\"id\":\"3688\",\"type\":\"ResetTool\"},{\"id\":\"3689\",\"type\":\"HelpTool\"},{\"id\":\"3761\",\"type\":\"HoverTool\"}]},\"id\":\"3690\",\"type\":\"Toolbar\"},{\"attributes\":{\"fill_alpha\":{\"value\":0.1},\"fill_color\":{\"value\":\"#1f77b4\"},\"line_alpha\":{\"value\":0.1},\"line_color\":{\"value\":\"#1f77b4\"},\"line_width\":{\"value\":3},\"x\":{\"field\":\"x\"},\"y\":{\"field\":\"y\"}},\"id\":\"3712\",\"type\":\"Circle\"},{\"attributes\":{\"line_alpha\":0.1,\"line_color\":\"#1f77b4\",\"x\":{\"field\":\"x\"},\"y\":{\"field\":\"y\"}},\"id\":\"3738\",\"type\":\"Line\"},{\"attributes\":{\"source\":{\"id\":\"3697\",\"type\":\"ColumnDataSource\"}},\"id\":\"3701\",\"type\":\"CDSView\"},{\"attributes\":{\"callback\":null,\"data\":{\"x\":[\"2000\",\"2001\",\"2002\",\"2003\",\"2004\",\"2005\",\"2006\",\"2007\",\"2008\",\"2009\",\"2010\",\"2011\",\"2012\",\"2013\",\"2014\",\"2015\",\"2016\",\"2017\"],\"y\":[65.33052780357724,64.90584506088574,64.18936699106743,63.73445964952182,63.152358860863174,62.30143939928258,61.538376583341744,60.91730989564122,60.2837124463239,59.71729357938916,59.04153779959497,57.91153517857363,56.58414101141624,55.950562536773546,55.358412885604125,54.9320293233056,54.553900414655715,54.20588235767385]},\"selected\":{\"id\":\"3751\",\"type\":\"Selection\"},\"selection_policy\":{\"id\":\"3752\",\"type\":\"UnionRenderers\"}},\"id\":\"3715\",\"type\":\"ColumnDataSource\"},{\"attributes\":{\"data_source\":{\"id\":\"3736\",\"type\":\"ColumnDataSource\"},\"glyph\":{\"id\":\"3737\",\"type\":\"Line\"},\"hover_glyph\":null,\"muted_glyph\":null,\"nonselection_glyph\":{\"id\":\"3738\",\"type\":\"Line\"},\"selection_glyph\":null,\"view\":{\"id\":\"3740\",\"type\":\"CDSView\"}},\"id\":\"3739\",\"type\":\"GlyphRenderer\"},{\"attributes\":{\"grid_line_color\":null,\"ticker\":{\"id\":\"3675\",\"type\":\"BasicTicker\"}},\"id\":\"3678\",\"type\":\"Grid\"},{\"attributes\":{\"line_color\":\"#5430F1\",\"x\":{\"field\":\"x\"},\"y\":{\"field\":\"y\"}},\"id\":\"3716\",\"type\":\"Line\"},{\"attributes\":{\"source\":{\"id\":\"3736\",\"type\":\"ColumnDataSource\"}},\"id\":\"3740\",\"type\":\"CDSView\"},{\"attributes\":{\"label\":{\"value\":\"LDCs\"},\"renderers\":[{\"id\":\"3700\",\"type\":\"GlyphRenderer\"}]},\"id\":\"3709\",\"type\":\"LegendItem\"},{\"attributes\":{\"fill_color\":{\"value\":\"#FA1857\"},\"line_color\":{\"value\":\"#FA1857\"},\"line_width\":{\"value\":3},\"x\":{\"field\":\"x\"},\"y\":{\"field\":\"y\"}},\"id\":\"3711\",\"type\":\"Circle\"},{\"attributes\":{},\"id\":\"3940\",\"type\":\"Selection\"},{\"attributes\":{},\"id\":\"3751\",\"type\":\"Selection\"},{\"attributes\":{\"line_alpha\":0.1,\"line_color\":\"#1f77b4\",\"x\":{\"field\":\"x\"},\"y\":{\"field\":\"y\"}},\"id\":\"3717\",\"type\":\"Line\"},{\"attributes\":{},\"id\":\"3685\",\"type\":\"WheelZoomTool\"},{\"attributes\":{},\"id\":\"3689\",\"type\":\"HelpTool\"},{\"attributes\":{\"source\":{\"id\":\"3715\",\"type\":\"ColumnDataSource\"}},\"id\":\"3719\",\"type\":\"CDSView\"},{\"attributes\":{},\"id\":\"3752\",\"type\":\"UnionRenderers\"},{\"attributes\":{\"data_source\":{\"id\":\"3697\",\"type\":\"ColumnDataSource\"},\"glyph\":{\"id\":\"3698\",\"type\":\"Line\"},\"hover_glyph\":null,\"muted_glyph\":null,\"nonselection_glyph\":{\"id\":\"3699\",\"type\":\"Line\"},\"selection_glyph\":null,\"view\":{\"id\":\"3701\",\"type\":\"CDSView\"}},\"id\":\"3700\",\"type\":\"GlyphRenderer\"},{\"attributes\":{\"data_source\":{\"id\":\"3715\",\"type\":\"ColumnDataSource\"},\"glyph\":{\"id\":\"3716\",\"type\":\"Line\"},\"hover_glyph\":null,\"muted_glyph\":null,\"nonselection_glyph\":{\"id\":\"3717\",\"type\":\"Line\"},\"selection_glyph\":null,\"view\":{\"id\":\"3719\",\"type\":\"CDSView\"}},\"id\":\"3718\",\"type\":\"GlyphRenderer\"},{\"attributes\":{\"items\":[{\"id\":\"3709\",\"type\":\"LegendItem\"},{\"id\":\"3730\",\"type\":\"LegendItem\"},{\"id\":\"3755\",\"type\":\"LegendItem\"}],\"location\":\"bottom_left\"},\"id\":\"3708\",\"type\":\"Legend\"},{\"attributes\":{},\"id\":\"3753\",\"type\":\"Selection\"},{\"attributes\":{\"callback\":null,\"data\":{\"x\":[\"2000\",\"2001\",\"2002\",\"2003\",\"2004\",\"2005\",\"2006\",\"2007\",\"2008\",\"2009\",\"2010\",\"2011\",\"2012\",\"2013\",\"2014\",\"2015\",\"2016\",\"2017\"],\"y\":[85.71439577036236,85.57464637853948,85.42987052449938,85.2595119163731,85.1157816927459,84.95917228819752,84.67367316779398,84.76333397019621,84.82905666578436,84.92486075515858,84.88687200109682,84.34903984029447,83.77222403234691,83.30820688707247,82.72786323433235,82.26461439968713,81.78532591691658,81.20720784411499]},\"selected\":{\"id\":\"3728\",\"type\":\"Selection\"},\"selection_policy\":{\"id\":\"3729\",\"type\":\"UnionRenderers\"}},\"id\":\"3710\",\"type\":\"ColumnDataSource\"},{\"attributes\":{},\"id\":\"3941\",\"type\":\"UnionRenderers\"},{\"attributes\":{},\"id\":\"3675\",\"type\":\"BasicTicker\"},{\"attributes\":{},\"id\":\"3726\",\"type\":\"Selection\"},{\"attributes\":{},\"id\":\"3754\",\"type\":\"UnionRenderers\"},{\"attributes\":{\"line_alpha\":0.1,\"line_color\":\"#1f77b4\",\"x\":{\"field\":\"x\"},\"y\":{\"field\":\"y\"}},\"id\":\"3699\",\"type\":\"Line\"},{\"attributes\":{},\"id\":\"3728\",\"type\":\"Selection\"},{\"attributes\":{\"label\":{\"value\":\"OECD\"},\"renderers\":[{\"id\":\"3739\",\"type\":\"GlyphRenderer\"}]},\"id\":\"3755\",\"type\":\"LegendItem\"},{\"attributes\":{\"callback\":null,\"data\":{\"x\":[\"2000\",\"2001\",\"2002\",\"2003\",\"2004\",\"2005\",\"2006\",\"2007\",\"2008\",\"2009\",\"2010\",\"2011\",\"2012\",\"2013\",\"2014\",\"2015\",\"2016\",\"2017\"],\"y\":[14.48536902485712,14.493511769829844,14.191813316333826,13.993763075972725,13.83147018503385,13.370962271652207,12.80581092501148,12.566340934456548,12.298027267203656,12.373333284001852,12.307219209624574,12.287989367669757,12.15311900334881,11.971961077598174,11.744068220445252,11.58624004783634,11.401146754618209,11.2798928194068]},\"selected\":{\"id\":\"3940\",\"type\":\"Selection\"},\"selection_policy\":{\"id\":\"3941\",\"type\":\"UnionRenderers\"}},\"id\":\"3756\",\"type\":\"ColumnDataSource\"},{\"attributes\":{\"bottom_units\":\"screen\",\"fill_alpha\":{\"value\":0.5},\"fill_color\":{\"value\":\"lightgrey\"},\"left_units\":\"screen\",\"level\":\"overlay\",\"line_alpha\":{\"value\":1.0},\"line_color\":{\"value\":\"black\"},\"line_dash\":[4,4],\"line_width\":{\"value\":2},\"render_mode\":\"css\",\"right_units\":\"screen\",\"top_units\":\"screen\"},\"id\":\"3707\",\"type\":\"BoxAnnotation\"},{\"attributes\":{},\"id\":\"3727\",\"type\":\"UnionRenderers\"},{\"attributes\":{},\"id\":\"3688\",\"type\":\"ResetTool\"},{\"attributes\":{},\"id\":\"3729\",\"type\":\"UnionRenderers\"},{\"attributes\":{\"callback\":null,\"data\":{\"x\":[\"2000\",\"2001\",\"2002\",\"2003\",\"2004\",\"2005\",\"2006\",\"2007\",\"2008\",\"2009\",\"2010\",\"2011\",\"2012\",\"2013\",\"2014\",\"2015\",\"2016\",\"2017\"],\"y\":[85.71439577036236,85.57464637853948,85.42987052449938,85.2595119163731,85.1157816927459,84.95917228819752,84.67367316779398,84.76333397019621,84.82905666578436,84.92486075515858,84.88687200109682,84.34903984029447,83.77222403234691,83.30820688707247,82.72786323433235,82.26461439968713,81.78532591691658,81.20720784411499]},\"selected\":{\"id\":\"3726\",\"type\":\"Selection\"},\"selection_policy\":{\"id\":\"3727\",\"type\":\"UnionRenderers\"}},\"id\":\"3697\",\"type\":\"ColumnDataSource\"},{\"attributes\":{\"fill_color\":{\"value\":\"#2CC775\"},\"line_color\":{\"value\":\"#2CC775\"},\"line_width\":{\"value\":3},\"x\":{\"field\":\"x\"},\"y\":{\"field\":\"y\"}},\"id\":\"3757\",\"type\":\"Circle\"},{\"attributes\":{\"callback\":null,\"data\":{\"x\":[\"2000\",\"2001\",\"2002\",\"2003\",\"2004\",\"2005\",\"2006\",\"2007\",\"2008\",\"2009\",\"2010\",\"2011\",\"2012\",\"2013\",\"2014\",\"2015\",\"2016\",\"2017\"],\"y\":[65.33052780357724,64.90584506088574,64.18936699106743,63.73445964952182,63.152358860863174,62.30143939928258,61.538376583341744,60.91730989564122,60.2837124463239,59.71729357938916,59.04153779959497,57.91153517857363,56.58414101141624,55.950562536773546,55.358412885604125,54.9320293233056,54.553900414655715,54.20588235767385]},\"selected\":{\"id\":\"3753\",\"type\":\"Selection\"},\"selection_policy\":{\"id\":\"3754\",\"type\":\"UnionRenderers\"}},\"id\":\"3731\",\"type\":\"ColumnDataSource\"},{\"attributes\":{\"callback\":null,\"tooltips\":\"                \\n        <div style=padding=5px>Year:@x</div>\\n        <div style=padding=5px>Value:@y</div>        \\n        \"},\"id\":\"3761\",\"type\":\"HoverTool\"},{\"attributes\":{\"fill_alpha\":{\"value\":0.1},\"fill_color\":{\"value\":\"#1f77b4\"},\"line_alpha\":{\"value\":0.1},\"line_color\":{\"value\":\"#1f77b4\"},\"line_width\":{\"value\":3},\"x\":{\"field\":\"x\"},\"y\":{\"field\":\"y\"}},\"id\":\"3758\",\"type\":\"Circle\"},{\"attributes\":{},\"id\":\"3684\",\"type\":\"PanTool\"},{\"attributes\":{},\"id\":\"3705\",\"type\":\"BasicTickFormatter\"},{\"attributes\":{\"data_source\":{\"id\":\"3756\",\"type\":\"ColumnDataSource\"},\"glyph\":{\"id\":\"3757\",\"type\":\"Circle\"},\"hover_glyph\":null,\"muted_glyph\":null,\"nonselection_glyph\":{\"id\":\"3758\",\"type\":\"Circle\"},\"selection_glyph\":null,\"view\":{\"id\":\"3760\",\"type\":\"CDSView\"}},\"id\":\"3759\",\"type\":\"GlyphRenderer\"},{\"attributes\":{\"label\":{\"value\":\"Developing excluding LDCs\"},\"renderers\":[{\"id\":\"3718\",\"type\":\"GlyphRenderer\"}]},\"id\":\"3730\",\"type\":\"LegendItem\"},{\"attributes\":{\"text\":\"Vulnerable employment, female (% of female employment) (modeled ILO estimate) weighted against Labor force, total\"},\"id\":\"3664\",\"type\":\"Title\"},{\"attributes\":{\"source\":{\"id\":\"3710\",\"type\":\"ColumnDataSource\"}},\"id\":\"3714\",\"type\":\"CDSView\"},{\"attributes\":{\"fill_color\":{\"value\":\"#5430F1\"},\"line_color\":{\"value\":\"#5430F1\"},\"line_width\":{\"value\":3},\"x\":{\"field\":\"x\"},\"y\":{\"field\":\"y\"}},\"id\":\"3732\",\"type\":\"Circle\"},{\"attributes\":{\"source\":{\"id\":\"3756\",\"type\":\"ColumnDataSource\"}},\"id\":\"3760\",\"type\":\"CDSView\"},{\"attributes\":{\"callback\":null},\"id\":\"3666\",\"type\":\"DataRange1d\"},{\"attributes\":{},\"id\":\"3680\",\"type\":\"BasicTicker\"},{\"attributes\":{\"data_source\":{\"id\":\"3731\",\"type\":\"ColumnDataSource\"},\"glyph\":{\"id\":\"3732\",\"type\":\"Circle\"},\"hover_glyph\":null,\"muted_glyph\":null,\"nonselection_glyph\":{\"id\":\"3733\",\"type\":\"Circle\"},\"selection_glyph\":null,\"view\":{\"id\":\"3735\",\"type\":\"CDSView\"}},\"id\":\"3734\",\"type\":\"GlyphRenderer\"},{\"attributes\":{},\"id\":\"3687\",\"type\":\"SaveTool\"},{\"attributes\":{\"callback\":null},\"id\":\"3668\",\"type\":\"DataRange1d\"},{\"attributes\":{\"line_color\":\"#FA1857\",\"x\":{\"field\":\"x\"},\"y\":{\"field\":\"y\"}},\"id\":\"3698\",\"type\":\"Line\"},{\"attributes\":{},\"id\":\"3703\",\"type\":\"BasicTickFormatter\"},{\"attributes\":{\"dimension\":1,\"grid_line_alpha\":0.5,\"ticker\":{\"id\":\"3680\",\"type\":\"BasicTicker\"}},\"id\":\"3683\",\"type\":\"Grid\"},{\"attributes\":{\"fill_alpha\":{\"value\":0.1},\"fill_color\":{\"value\":\"#1f77b4\"},\"line_alpha\":{\"value\":0.1},\"line_color\":{\"value\":\"#1f77b4\"},\"line_width\":{\"value\":3},\"x\":{\"field\":\"x\"},\"y\":{\"field\":\"y\"}},\"id\":\"3733\",\"type\":\"Circle\"},{\"attributes\":{},\"id\":\"3938\",\"type\":\"Selection\"},{\"attributes\":{},\"id\":\"3670\",\"type\":\"LinearScale\"},{\"attributes\":{\"data_source\":{\"id\":\"3710\",\"type\":\"ColumnDataSource\"},\"glyph\":{\"id\":\"3711\",\"type\":\"Circle\"},\"hover_glyph\":null,\"muted_glyph\":null,\"nonselection_glyph\":{\"id\":\"3712\",\"type\":\"Circle\"},\"selection_glyph\":null,\"view\":{\"id\":\"3714\",\"type\":\"CDSView\"}},\"id\":\"3713\",\"type\":\"GlyphRenderer\"},{\"attributes\":{\"source\":{\"id\":\"3731\",\"type\":\"ColumnDataSource\"}},\"id\":\"3735\",\"type\":\"CDSView\"},{\"attributes\":{},\"id\":\"3939\",\"type\":\"UnionRenderers\"},{\"attributes\":{},\"id\":\"3672\",\"type\":\"LinearScale\"},{\"attributes\":{\"line_color\":\"#2CC775\",\"x\":{\"field\":\"x\"},\"y\":{\"field\":\"y\"}},\"id\":\"3737\",\"type\":\"Line\"},{\"attributes\":{\"axis_label\":\"SL.EMP.VULN.FE.ZS\",\"formatter\":{\"id\":\"3703\",\"type\":\"BasicTickFormatter\"},\"ticker\":{\"id\":\"3680\",\"type\":\"BasicTicker\"}},\"id\":\"3679\",\"type\":\"LinearAxis\"},{\"attributes\":{\"axis_label\":\"Years\",\"formatter\":{\"id\":\"3705\",\"type\":\"BasicTickFormatter\"},\"ticker\":{\"id\":\"3675\",\"type\":\"BasicTicker\"}},\"id\":\"3674\",\"type\":\"LinearAxis\"},{\"attributes\":{\"callback\":null,\"data\":{\"x\":[\"2000\",\"2001\",\"2002\",\"2003\",\"2004\",\"2005\",\"2006\",\"2007\",\"2008\",\"2009\",\"2010\",\"2011\",\"2012\",\"2013\",\"2014\",\"2015\",\"2016\",\"2017\"],\"y\":[14.48536902485712,14.493511769829844,14.191813316333826,13.993763075972725,13.83147018503385,13.370962271652207,12.80581092501148,12.566340934456548,12.298027267203656,12.373333284001852,12.307219209624574,12.287989367669757,12.15311900334881,11.971961077598174,11.744068220445252,11.58624004783634,11.401146754618209,11.2798928194068]},\"selected\":{\"id\":\"3938\",\"type\":\"Selection\"},\"selection_policy\":{\"id\":\"3939\",\"type\":\"UnionRenderers\"}},\"id\":\"3736\",\"type\":\"ColumnDataSource\"}],\"root_ids\":[\"3663\"]},\"title\":\"Bokeh Application\",\"version\":\"1.3.4\"}};\n",
       "  var render_items = [{\"docid\":\"1808f241-f1a5-4865-88f5-b95196aafe0c\",\"roots\":{\"3663\":\"663432f6-35d7-4717-8a46-4a33c222f4ba\"}}];\n",
       "  root.Bokeh.embed.embed_items_notebook(docs_json, render_items);\n",
       "\n",
       "  }\n",
       "  if (root.Bokeh !== undefined) {\n",
       "    embed_document(root);\n",
       "  } else {\n",
       "    var attempts = 0;\n",
       "    var timer = setInterval(function(root) {\n",
       "      if (root.Bokeh !== undefined) {\n",
       "        embed_document(root);\n",
       "        clearInterval(timer);\n",
       "      }\n",
       "      attempts++;\n",
       "      if (attempts > 100) {\n",
       "        console.log(\"Bokeh: ERROR: Unable to run BokehJS code because BokehJS library is missing\");\n",
       "        clearInterval(timer);\n",
       "      }\n",
       "    }, 10, root)\n",
       "  }\n",
       "})(window);"
      ],
      "application/vnd.bokehjs_exec.v0+json": ""
     },
     "metadata": {
      "application/vnd.bokehjs_exec.v0+json": {
       "id": "3663"
      }
     },
     "output_type": "display_data"
    }
   ],
   "source": [
    "# Female vulnerable employment\n",
    "years = list(map(str, list(range(2000,2018))))\n",
    "result = show_weighted_average(years, 'SL.EMP.VULN.FE.ZS', 'SL.TLF.TOTL.IN', \n",
    "                               ['LDCs', 'Developing excluding LDCs', 'OECD'])"
   ]
  },
  {
   "cell_type": "code",
   "execution_count": 15,
   "metadata": {
    "ExecuteTime": {
     "end_time": "2019-10-25T14:25:19.414594Z",
     "start_time": "2019-10-25T14:25:14.115306Z"
    },
    "slideshow": {
     "slide_type": "slide"
    }
   },
   "outputs": [
    {
     "data": {
      "text/html": [
       "\n",
       "\n",
       "\n",
       "\n",
       "\n",
       "\n",
       "  <div class=\"bk-root\" id=\"016fd1c7-53c9-46e4-bc28-0f8145ad76de\" data-root-id=\"4050\"></div>\n"
      ]
     },
     "metadata": {},
     "output_type": "display_data"
    },
    {
     "data": {
      "application/javascript": [
       "(function(root) {\n",
       "  function embed_document(root) {\n",
       "    \n",
       "  var docs_json = {\"35a1dc20-7f2f-4fd3-ad0e-91c041d7e93d\":{\"roots\":{\"references\":[{\"attributes\":{\"below\":[{\"id\":\"4061\",\"type\":\"LinearAxis\"}],\"center\":[{\"id\":\"4065\",\"type\":\"Grid\"},{\"id\":\"4070\",\"type\":\"Grid\"},{\"id\":\"4095\",\"type\":\"Legend\"}],\"left\":[{\"id\":\"4066\",\"type\":\"LinearAxis\"}],\"plot_height\":400,\"plot_width\":800,\"renderers\":[{\"id\":\"4087\",\"type\":\"GlyphRenderer\"},{\"id\":\"4100\",\"type\":\"GlyphRenderer\"},{\"id\":\"4105\",\"type\":\"GlyphRenderer\"},{\"id\":\"4121\",\"type\":\"GlyphRenderer\"},{\"id\":\"4126\",\"type\":\"GlyphRenderer\"},{\"id\":\"4146\",\"type\":\"GlyphRenderer\"}],\"title\":{\"id\":\"4051\",\"type\":\"Title\"},\"toolbar\":{\"id\":\"4077\",\"type\":\"Toolbar\"},\"x_range\":{\"id\":\"4053\",\"type\":\"DataRange1d\"},\"x_scale\":{\"id\":\"4057\",\"type\":\"LinearScale\"},\"y_range\":{\"id\":\"4055\",\"type\":\"DataRange1d\"},\"y_scale\":{\"id\":\"4059\",\"type\":\"LinearScale\"}},\"id\":\"4050\",\"subtype\":\"Figure\",\"type\":\"Plot\"},{\"attributes\":{\"callback\":null,\"data\":{\"x\":[\"2000\",\"2001\",\"2002\",\"2003\",\"2004\",\"2005\",\"2006\",\"2007\",\"2008\",\"2009\",\"2010\",\"2011\",\"2012\",\"2013\",\"2014\",\"2015\",\"2016\",\"2017\"],\"y\":[57.162058571674514,56.606289000325106,56.134969853149975,55.86467253906732,55.23614990236691,54.65777734929141,53.910271017457475,53.31175091252963,52.82300852185612,52.42697021813929,51.9269088341739,51.08969085177007,50.08705037089944,49.59934100300258,49.20391271355406,48.776572721276494,48.56477332449704,48.27271220976738]},\"selected\":{\"id\":\"4138\",\"type\":\"Selection\"},\"selection_policy\":{\"id\":\"4139\",\"type\":\"UnionRenderers\"}},\"id\":\"4102\",\"type\":\"ColumnDataSource\"},{\"attributes\":{\"overlay\":{\"id\":\"4094\",\"type\":\"BoxAnnotation\"}},\"id\":\"4073\",\"type\":\"BoxZoomTool\"},{\"attributes\":{\"fill_alpha\":{\"value\":0.1},\"fill_color\":{\"value\":\"#1f77b4\"},\"line_alpha\":{\"value\":0.1},\"line_color\":{\"value\":\"#1f77b4\"},\"line_width\":{\"value\":3},\"x\":{\"field\":\"x\"},\"y\":{\"field\":\"y\"}},\"id\":\"4120\",\"type\":\"Circle\"},{\"attributes\":{\"line_color\":\"#5430F1\",\"x\":{\"field\":\"x\"},\"y\":{\"field\":\"y\"}},\"id\":\"4103\",\"type\":\"Line\"},{\"attributes\":{},\"id\":\"4343\",\"type\":\"Selection\"},{\"attributes\":{\"data_source\":{\"id\":\"4118\",\"type\":\"ColumnDataSource\"},\"glyph\":{\"id\":\"4119\",\"type\":\"Circle\"},\"hover_glyph\":null,\"muted_glyph\":null,\"nonselection_glyph\":{\"id\":\"4120\",\"type\":\"Circle\"},\"selection_glyph\":null,\"view\":{\"id\":\"4122\",\"type\":\"CDSView\"}},\"id\":\"4121\",\"type\":\"GlyphRenderer\"},{\"attributes\":{},\"id\":\"4074\",\"type\":\"SaveTool\"},{\"attributes\":{},\"id\":\"4072\",\"type\":\"WheelZoomTool\"},{\"attributes\":{\"line_alpha\":0.1,\"line_color\":\"#1f77b4\",\"x\":{\"field\":\"x\"},\"y\":{\"field\":\"y\"}},\"id\":\"4104\",\"type\":\"Line\"},{\"attributes\":{},\"id\":\"4344\",\"type\":\"UnionRenderers\"},{\"attributes\":{},\"id\":\"4075\",\"type\":\"ResetTool\"},{\"attributes\":{\"source\":{\"id\":\"4118\",\"type\":\"ColumnDataSource\"}},\"id\":\"4122\",\"type\":\"CDSView\"},{\"attributes\":{\"data_source\":{\"id\":\"4102\",\"type\":\"ColumnDataSource\"},\"glyph\":{\"id\":\"4103\",\"type\":\"Line\"},\"hover_glyph\":null,\"muted_glyph\":null,\"nonselection_glyph\":{\"id\":\"4104\",\"type\":\"Line\"},\"selection_glyph\":null,\"view\":{\"id\":\"4106\",\"type\":\"CDSView\"}},\"id\":\"4105\",\"type\":\"GlyphRenderer\"},{\"attributes\":{},\"id\":\"4345\",\"type\":\"Selection\"},{\"attributes\":{},\"id\":\"4076\",\"type\":\"HelpTool\"},{\"attributes\":{\"callback\":null,\"data\":{\"x\":[\"2000\",\"2001\",\"2002\",\"2003\",\"2004\",\"2005\",\"2006\",\"2007\",\"2008\",\"2009\",\"2010\",\"2011\",\"2012\",\"2013\",\"2014\",\"2015\",\"2016\",\"2017\"],\"y\":[13.983595169339262,13.998859245381606,13.991020663967802,14.08072441547863,14.122426832902441,13.78425403912315,13.299377817936158,13.057250481869682,12.840791354088491,13.031251656893089,13.030931611471235,12.99280973346482,12.971599240608382,12.90982728415717,12.853117783704255,12.684740815496953,12.575432474590244,12.453772658805285]},\"selected\":{\"id\":\"4343\",\"type\":\"Selection\"},\"selection_policy\":{\"id\":\"4344\",\"type\":\"UnionRenderers\"}},\"id\":\"4123\",\"type\":\"ColumnDataSource\"},{\"attributes\":{\"source\":{\"id\":\"4102\",\"type\":\"ColumnDataSource\"}},\"id\":\"4106\",\"type\":\"CDSView\"},{\"attributes\":{},\"id\":\"4346\",\"type\":\"UnionRenderers\"},{\"attributes\":{\"active_drag\":\"auto\",\"active_inspect\":\"auto\",\"active_multi\":null,\"active_scroll\":\"auto\",\"active_tap\":\"auto\",\"tools\":[{\"id\":\"4071\",\"type\":\"PanTool\"},{\"id\":\"4072\",\"type\":\"WheelZoomTool\"},{\"id\":\"4073\",\"type\":\"BoxZoomTool\"},{\"id\":\"4074\",\"type\":\"SaveTool\"},{\"id\":\"4075\",\"type\":\"ResetTool\"},{\"id\":\"4076\",\"type\":\"HelpTool\"},{\"id\":\"4148\",\"type\":\"HoverTool\"}]},\"id\":\"4077\",\"type\":\"Toolbar\"},{\"attributes\":{\"line_color\":\"#2CC775\",\"x\":{\"field\":\"x\"},\"y\":{\"field\":\"y\"}},\"id\":\"4124\",\"type\":\"Line\"},{\"attributes\":{\"data_source\":{\"id\":\"4084\",\"type\":\"ColumnDataSource\"},\"glyph\":{\"id\":\"4085\",\"type\":\"Line\"},\"hover_glyph\":null,\"muted_glyph\":null,\"nonselection_glyph\":{\"id\":\"4086\",\"type\":\"Line\"},\"selection_glyph\":null,\"view\":{\"id\":\"4088\",\"type\":\"CDSView\"}},\"id\":\"4087\",\"type\":\"GlyphRenderer\"},{\"attributes\":{},\"id\":\"4113\",\"type\":\"Selection\"},{\"attributes\":{\"line_alpha\":0.1,\"line_color\":\"#1f77b4\",\"x\":{\"field\":\"x\"},\"y\":{\"field\":\"y\"}},\"id\":\"4125\",\"type\":\"Line\"},{\"attributes\":{},\"id\":\"4114\",\"type\":\"UnionRenderers\"},{\"attributes\":{\"data_source\":{\"id\":\"4123\",\"type\":\"ColumnDataSource\"},\"glyph\":{\"id\":\"4124\",\"type\":\"Line\"},\"hover_glyph\":null,\"muted_glyph\":null,\"nonselection_glyph\":{\"id\":\"4125\",\"type\":\"Line\"},\"selection_glyph\":null,\"view\":{\"id\":\"4127\",\"type\":\"CDSView\"}},\"id\":\"4126\",\"type\":\"GlyphRenderer\"},{\"attributes\":{\"callback\":null,\"tooltips\":\"                \\n        <div style=padding=5px>Year:@x</div>\\n        <div style=padding=5px>Value:@y</div>        \\n        \"},\"id\":\"4148\",\"type\":\"HoverTool\"},{\"attributes\":{},\"id\":\"4115\",\"type\":\"Selection\"},{\"attributes\":{\"source\":{\"id\":\"4084\",\"type\":\"ColumnDataSource\"}},\"id\":\"4088\",\"type\":\"CDSView\"},{\"attributes\":{\"text\":\"Vulnerable employment, male (% of male employment) (modeled ILO estimate) weighted against Labor force, total\"},\"id\":\"4051\",\"type\":\"Title\"},{\"attributes\":{\"source\":{\"id\":\"4123\",\"type\":\"ColumnDataSource\"}},\"id\":\"4127\",\"type\":\"CDSView\"},{\"attributes\":{},\"id\":\"4090\",\"type\":\"BasicTickFormatter\"},{\"attributes\":{},\"id\":\"4116\",\"type\":\"UnionRenderers\"},{\"attributes\":{},\"id\":\"4138\",\"type\":\"Selection\"},{\"attributes\":{\"callback\":null},\"id\":\"4053\",\"type\":\"DataRange1d\"},{\"attributes\":{},\"id\":\"4092\",\"type\":\"BasicTickFormatter\"},{\"attributes\":{\"label\":{\"value\":\"Developing excluding LDCs\"},\"renderers\":[{\"id\":\"4105\",\"type\":\"GlyphRenderer\"}]},\"id\":\"4117\",\"type\":\"LegendItem\"},{\"attributes\":{},\"id\":\"4139\",\"type\":\"UnionRenderers\"},{\"attributes\":{\"callback\":null},\"id\":\"4055\",\"type\":\"DataRange1d\"},{\"attributes\":{\"bottom_units\":\"screen\",\"fill_alpha\":{\"value\":0.5},\"fill_color\":{\"value\":\"lightgrey\"},\"left_units\":\"screen\",\"level\":\"overlay\",\"line_alpha\":{\"value\":1.0},\"line_color\":{\"value\":\"black\"},\"line_dash\":[4,4],\"line_width\":{\"value\":2},\"render_mode\":\"css\",\"right_units\":\"screen\",\"top_units\":\"screen\"},\"id\":\"4094\",\"type\":\"BoxAnnotation\"},{\"attributes\":{\"callback\":null,\"data\":{\"x\":[\"2000\",\"2001\",\"2002\",\"2003\",\"2004\",\"2005\",\"2006\",\"2007\",\"2008\",\"2009\",\"2010\",\"2011\",\"2012\",\"2013\",\"2014\",\"2015\",\"2016\",\"2017\"],\"y\":[57.162058571674514,56.606289000325106,56.134969853149975,55.86467253906732,55.23614990236691,54.65777734929141,53.910271017457475,53.31175091252963,52.82300852185612,52.42697021813929,51.9269088341739,51.08969085177007,50.08705037089944,49.59934100300258,49.20391271355406,48.776572721276494,48.56477332449704,48.27271220976738]},\"selected\":{\"id\":\"4140\",\"type\":\"Selection\"},\"selection_policy\":{\"id\":\"4141\",\"type\":\"UnionRenderers\"}},\"id\":\"4118\",\"type\":\"ColumnDataSource\"},{\"attributes\":{},\"id\":\"4140\",\"type\":\"Selection\"},{\"attributes\":{},\"id\":\"4057\",\"type\":\"LinearScale\"},{\"attributes\":{\"fill_color\":{\"value\":\"#5430F1\"},\"line_color\":{\"value\":\"#5430F1\"},\"line_width\":{\"value\":3},\"x\":{\"field\":\"x\"},\"y\":{\"field\":\"y\"}},\"id\":\"4119\",\"type\":\"Circle\"},{\"attributes\":{\"items\":[{\"id\":\"4096\",\"type\":\"LegendItem\"},{\"id\":\"4117\",\"type\":\"LegendItem\"},{\"id\":\"4142\",\"type\":\"LegendItem\"}],\"location\":\"bottom_left\"},\"id\":\"4095\",\"type\":\"Legend\"},{\"attributes\":{},\"id\":\"4141\",\"type\":\"UnionRenderers\"},{\"attributes\":{},\"id\":\"4059\",\"type\":\"LinearScale\"},{\"attributes\":{\"dimension\":1,\"grid_line_alpha\":0.5,\"ticker\":{\"id\":\"4067\",\"type\":\"BasicTicker\"}},\"id\":\"4070\",\"type\":\"Grid\"},{\"attributes\":{\"label\":{\"value\":\"LDCs\"},\"renderers\":[{\"id\":\"4087\",\"type\":\"GlyphRenderer\"}]},\"id\":\"4096\",\"type\":\"LegendItem\"},{\"attributes\":{\"label\":{\"value\":\"OECD\"},\"renderers\":[{\"id\":\"4126\",\"type\":\"GlyphRenderer\"}]},\"id\":\"4142\",\"type\":\"LegendItem\"},{\"attributes\":{\"axis_label\":\"Years\",\"formatter\":{\"id\":\"4092\",\"type\":\"BasicTickFormatter\"},\"ticker\":{\"id\":\"4062\",\"type\":\"BasicTicker\"}},\"id\":\"4061\",\"type\":\"LinearAxis\"},{\"attributes\":{\"callback\":null,\"data\":{\"x\":[\"2000\",\"2001\",\"2002\",\"2003\",\"2004\",\"2005\",\"2006\",\"2007\",\"2008\",\"2009\",\"2010\",\"2011\",\"2012\",\"2013\",\"2014\",\"2015\",\"2016\",\"2017\"],\"y\":[74.17490342423534,73.94089415529531,73.71257016321482,73.48889734749105,73.22463658041619,72.96729205783156,72.59917813612904,72.04385997887525,71.49346657145566,71.02608808960134,70.41926557924683,69.88894703680953,69.43780550112619,69.12810473391316,68.88251845033184,68.7230759491215,68.67403711036012,68.31013941320272]},\"selected\":{\"id\":\"4115\",\"type\":\"Selection\"},\"selection_policy\":{\"id\":\"4116\",\"type\":\"UnionRenderers\"}},\"id\":\"4097\",\"type\":\"ColumnDataSource\"},{\"attributes\":{},\"id\":\"4062\",\"type\":\"BasicTicker\"},{\"attributes\":{\"callback\":null,\"data\":{\"x\":[\"2000\",\"2001\",\"2002\",\"2003\",\"2004\",\"2005\",\"2006\",\"2007\",\"2008\",\"2009\",\"2010\",\"2011\",\"2012\",\"2013\",\"2014\",\"2015\",\"2016\",\"2017\"],\"y\":[13.983595169339262,13.998859245381606,13.991020663967802,14.08072441547863,14.122426832902441,13.78425403912315,13.299377817936158,13.057250481869682,12.840791354088491,13.031251656893089,13.030931611471235,12.99280973346482,12.971599240608382,12.90982728415717,12.853117783704255,12.684740815496953,12.575432474590244,12.453772658805285]},\"selected\":{\"id\":\"4345\",\"type\":\"Selection\"},\"selection_policy\":{\"id\":\"4346\",\"type\":\"UnionRenderers\"}},\"id\":\"4143\",\"type\":\"ColumnDataSource\"},{\"attributes\":{\"source\":{\"id\":\"4143\",\"type\":\"ColumnDataSource\"}},\"id\":\"4147\",\"type\":\"CDSView\"},{\"attributes\":{\"line_color\":\"#FA1857\",\"x\":{\"field\":\"x\"},\"y\":{\"field\":\"y\"}},\"id\":\"4085\",\"type\":\"Line\"},{\"attributes\":{\"fill_color\":{\"value\":\"#FA1857\"},\"line_color\":{\"value\":\"#FA1857\"},\"line_width\":{\"value\":3},\"x\":{\"field\":\"x\"},\"y\":{\"field\":\"y\"}},\"id\":\"4098\",\"type\":\"Circle\"},{\"attributes\":{\"grid_line_color\":null,\"ticker\":{\"id\":\"4062\",\"type\":\"BasicTicker\"}},\"id\":\"4065\",\"type\":\"Grid\"},{\"attributes\":{\"line_alpha\":0.1,\"line_color\":\"#1f77b4\",\"x\":{\"field\":\"x\"},\"y\":{\"field\":\"y\"}},\"id\":\"4086\",\"type\":\"Line\"},{\"attributes\":{\"fill_color\":{\"value\":\"#2CC775\"},\"line_color\":{\"value\":\"#2CC775\"},\"line_width\":{\"value\":3},\"x\":{\"field\":\"x\"},\"y\":{\"field\":\"y\"}},\"id\":\"4144\",\"type\":\"Circle\"},{\"attributes\":{\"callback\":null,\"data\":{\"x\":[\"2000\",\"2001\",\"2002\",\"2003\",\"2004\",\"2005\",\"2006\",\"2007\",\"2008\",\"2009\",\"2010\",\"2011\",\"2012\",\"2013\",\"2014\",\"2015\",\"2016\",\"2017\"],\"y\":[74.17490342423534,73.94089415529531,73.71257016321482,73.48889734749105,73.22463658041619,72.96729205783156,72.59917813612904,72.04385997887525,71.49346657145566,71.02608808960134,70.41926557924683,69.88894703680953,69.43780550112619,69.12810473391316,68.88251845033184,68.7230759491215,68.67403711036012,68.31013941320272]},\"selected\":{\"id\":\"4113\",\"type\":\"Selection\"},\"selection_policy\":{\"id\":\"4114\",\"type\":\"UnionRenderers\"}},\"id\":\"4084\",\"type\":\"ColumnDataSource\"},{\"attributes\":{\"fill_alpha\":{\"value\":0.1},\"fill_color\":{\"value\":\"#1f77b4\"},\"line_alpha\":{\"value\":0.1},\"line_color\":{\"value\":\"#1f77b4\"},\"line_width\":{\"value\":3},\"x\":{\"field\":\"x\"},\"y\":{\"field\":\"y\"}},\"id\":\"4099\",\"type\":\"Circle\"},{\"attributes\":{\"fill_alpha\":{\"value\":0.1},\"fill_color\":{\"value\":\"#1f77b4\"},\"line_alpha\":{\"value\":0.1},\"line_color\":{\"value\":\"#1f77b4\"},\"line_width\":{\"value\":3},\"x\":{\"field\":\"x\"},\"y\":{\"field\":\"y\"}},\"id\":\"4145\",\"type\":\"Circle\"},{\"attributes\":{\"data_source\":{\"id\":\"4097\",\"type\":\"ColumnDataSource\"},\"glyph\":{\"id\":\"4098\",\"type\":\"Circle\"},\"hover_glyph\":null,\"muted_glyph\":null,\"nonselection_glyph\":{\"id\":\"4099\",\"type\":\"Circle\"},\"selection_glyph\":null,\"view\":{\"id\":\"4101\",\"type\":\"CDSView\"}},\"id\":\"4100\",\"type\":\"GlyphRenderer\"},{\"attributes\":{\"axis_label\":\"SL.EMP.VULN.MA.ZS\",\"formatter\":{\"id\":\"4090\",\"type\":\"BasicTickFormatter\"},\"ticker\":{\"id\":\"4067\",\"type\":\"BasicTicker\"}},\"id\":\"4066\",\"type\":\"LinearAxis\"},{\"attributes\":{},\"id\":\"4071\",\"type\":\"PanTool\"},{\"attributes\":{\"data_source\":{\"id\":\"4143\",\"type\":\"ColumnDataSource\"},\"glyph\":{\"id\":\"4144\",\"type\":\"Circle\"},\"hover_glyph\":null,\"muted_glyph\":null,\"nonselection_glyph\":{\"id\":\"4145\",\"type\":\"Circle\"},\"selection_glyph\":null,\"view\":{\"id\":\"4147\",\"type\":\"CDSView\"}},\"id\":\"4146\",\"type\":\"GlyphRenderer\"},{\"attributes\":{},\"id\":\"4067\",\"type\":\"BasicTicker\"},{\"attributes\":{\"source\":{\"id\":\"4097\",\"type\":\"ColumnDataSource\"}},\"id\":\"4101\",\"type\":\"CDSView\"}],\"root_ids\":[\"4050\"]},\"title\":\"Bokeh Application\",\"version\":\"1.3.4\"}};\n",
       "  var render_items = [{\"docid\":\"35a1dc20-7f2f-4fd3-ad0e-91c041d7e93d\",\"roots\":{\"4050\":\"016fd1c7-53c9-46e4-bc28-0f8145ad76de\"}}];\n",
       "  root.Bokeh.embed.embed_items_notebook(docs_json, render_items);\n",
       "\n",
       "  }\n",
       "  if (root.Bokeh !== undefined) {\n",
       "    embed_document(root);\n",
       "  } else {\n",
       "    var attempts = 0;\n",
       "    var timer = setInterval(function(root) {\n",
       "      if (root.Bokeh !== undefined) {\n",
       "        embed_document(root);\n",
       "        clearInterval(timer);\n",
       "      }\n",
       "      attempts++;\n",
       "      if (attempts > 100) {\n",
       "        console.log(\"Bokeh: ERROR: Unable to run BokehJS code because BokehJS library is missing\");\n",
       "        clearInterval(timer);\n",
       "      }\n",
       "    }, 10, root)\n",
       "  }\n",
       "})(window);"
      ],
      "application/vnd.bokehjs_exec.v0+json": ""
     },
     "metadata": {
      "application/vnd.bokehjs_exec.v0+json": {
       "id": "4050"
      }
     },
     "output_type": "display_data"
    }
   ],
   "source": [
    "# Male vulnerable employment\n",
    "years = list(map(str, list(range(2000,2018))))\n",
    "result = show_weighted_average(years, 'SL.EMP.VULN.MA.ZS', 'SL.TLF.TOTL.IN', \n",
    "                               ['LDCs', 'Developing excluding LDCs', 'OECD'])"
   ]
  },
  {
   "cell_type": "code",
   "execution_count": 16,
   "metadata": {
    "ExecuteTime": {
     "end_time": "2019-10-25T14:25:24.083516Z",
     "start_time": "2019-10-25T14:25:19.417499Z"
    },
    "slideshow": {
     "slide_type": "slide"
    }
   },
   "outputs": [
    {
     "data": {
      "text/html": [
       "\n",
       "\n",
       "\n",
       "\n",
       "\n",
       "\n",
       "  <div class=\"bk-root\" id=\"86f22e1d-dd8a-4958-8dda-a5a61496a9ba\" data-root-id=\"4455\"></div>\n"
      ]
     },
     "metadata": {},
     "output_type": "display_data"
    },
    {
     "data": {
      "application/javascript": [
       "(function(root) {\n",
       "  function embed_document(root) {\n",
       "    \n",
       "  var docs_json = {\"80c18140-8947-4ef9-975d-aa45c06810c8\":{\"roots\":{\"references\":[{\"attributes\":{\"below\":[{\"id\":\"4466\",\"type\":\"LinearAxis\"}],\"center\":[{\"id\":\"4470\",\"type\":\"Grid\"},{\"id\":\"4475\",\"type\":\"Grid\"},{\"id\":\"4500\",\"type\":\"Legend\"}],\"left\":[{\"id\":\"4471\",\"type\":\"LinearAxis\"}],\"plot_height\":400,\"plot_width\":800,\"renderers\":[{\"id\":\"4492\",\"type\":\"GlyphRenderer\"},{\"id\":\"4505\",\"type\":\"GlyphRenderer\"},{\"id\":\"4510\",\"type\":\"GlyphRenderer\"},{\"id\":\"4526\",\"type\":\"GlyphRenderer\"},{\"id\":\"4531\",\"type\":\"GlyphRenderer\"},{\"id\":\"4551\",\"type\":\"GlyphRenderer\"}],\"title\":{\"id\":\"4456\",\"type\":\"Title\"},\"toolbar\":{\"id\":\"4482\",\"type\":\"Toolbar\"},\"x_range\":{\"id\":\"4458\",\"type\":\"DataRange1d\"},\"x_scale\":{\"id\":\"4462\",\"type\":\"LinearScale\"},\"y_range\":{\"id\":\"4460\",\"type\":\"DataRange1d\"},\"y_scale\":{\"id\":\"4464\",\"type\":\"LinearScale\"}},\"id\":\"4455\",\"subtype\":\"Figure\",\"type\":\"Plot\"},{\"attributes\":{},\"id\":\"4477\",\"type\":\"WheelZoomTool\"},{\"attributes\":{\"line_alpha\":0.1,\"line_color\":\"#1f77b4\",\"x\":{\"field\":\"x\"},\"y\":{\"field\":\"y\"}},\"id\":\"4530\",\"type\":\"Line\"},{\"attributes\":{\"source\":{\"id\":\"4502\",\"type\":\"ColumnDataSource\"}},\"id\":\"4506\",\"type\":\"CDSView\"},{\"attributes\":{\"overlay\":{\"id\":\"4499\",\"type\":\"BoxAnnotation\"}},\"id\":\"4478\",\"type\":\"BoxZoomTool\"},{\"attributes\":{\"data_source\":{\"id\":\"4528\",\"type\":\"ColumnDataSource\"},\"glyph\":{\"id\":\"4529\",\"type\":\"Line\"},\"hover_glyph\":null,\"muted_glyph\":null,\"nonselection_glyph\":{\"id\":\"4530\",\"type\":\"Line\"},\"selection_glyph\":null,\"view\":{\"id\":\"4532\",\"type\":\"CDSView\"}},\"id\":\"4531\",\"type\":\"GlyphRenderer\"},{\"attributes\":{\"callback\":null,\"data\":{\"x\":[\"2000\",\"2001\",\"2002\",\"2003\",\"2004\",\"2005\",\"2006\",\"2007\",\"2008\",\"2009\",\"2010\",\"2011\",\"2012\",\"2013\",\"2014\",\"2015\",\"2016\",\"2017\"],\"y\":[66.81116952985124,67.10136064960203,67.39534765279303,67.69191534513566,67.99394689200506,68.30220457476779,68.61903869781979,68.94325513186014,69.27457578712584,69.61247702715436,69.94342523785205,70.27284035315787,70.59362275978874,70.9030130494035,71.1981897682081,71.47010803591232,71.72046744475756,71.9516686920634]},\"selected\":{\"id\":\"4543\",\"type\":\"Selection\"},\"selection_policy\":{\"id\":\"4544\",\"type\":\"UnionRenderers\"}},\"id\":\"4507\",\"type\":\"ColumnDataSource\"},{\"attributes\":{},\"id\":\"4479\",\"type\":\"SaveTool\"},{\"attributes\":{\"source\":{\"id\":\"4528\",\"type\":\"ColumnDataSource\"}},\"id\":\"4532\",\"type\":\"CDSView\"},{\"attributes\":{\"line_color\":\"#5430F1\",\"x\":{\"field\":\"x\"},\"y\":{\"field\":\"y\"}},\"id\":\"4508\",\"type\":\"Line\"},{\"attributes\":{},\"id\":\"4480\",\"type\":\"ResetTool\"},{\"attributes\":{\"text\":\"Life expectancy at birth, total (years) weighted against Population, total\"},\"id\":\"4456\",\"type\":\"Title\"},{\"attributes\":{},\"id\":\"4543\",\"type\":\"Selection\"},{\"attributes\":{\"line_alpha\":0.1,\"line_color\":\"#1f77b4\",\"x\":{\"field\":\"x\"},\"y\":{\"field\":\"y\"}},\"id\":\"4509\",\"type\":\"Line\"},{\"attributes\":{},\"id\":\"4481\",\"type\":\"HelpTool\"},{\"attributes\":{\"callback\":null},\"id\":\"4458\",\"type\":\"DataRange1d\"},{\"attributes\":{},\"id\":\"4544\",\"type\":\"UnionRenderers\"},{\"attributes\":{\"data_source\":{\"id\":\"4507\",\"type\":\"ColumnDataSource\"},\"glyph\":{\"id\":\"4508\",\"type\":\"Line\"},\"hover_glyph\":null,\"muted_glyph\":null,\"nonselection_glyph\":{\"id\":\"4509\",\"type\":\"Line\"},\"selection_glyph\":null,\"view\":{\"id\":\"4511\",\"type\":\"CDSView\"}},\"id\":\"4510\",\"type\":\"GlyphRenderer\"},{\"attributes\":{\"active_drag\":\"auto\",\"active_inspect\":\"auto\",\"active_multi\":null,\"active_scroll\":\"auto\",\"active_tap\":\"auto\",\"tools\":[{\"id\":\"4476\",\"type\":\"PanTool\"},{\"id\":\"4477\",\"type\":\"WheelZoomTool\"},{\"id\":\"4478\",\"type\":\"BoxZoomTool\"},{\"id\":\"4479\",\"type\":\"SaveTool\"},{\"id\":\"4480\",\"type\":\"ResetTool\"},{\"id\":\"4481\",\"type\":\"HelpTool\"},{\"id\":\"4553\",\"type\":\"HoverTool\"}]},\"id\":\"4482\",\"type\":\"Toolbar\"},{\"attributes\":{\"callback\":null,\"data\":{\"x\":[\"2000\",\"2001\",\"2002\",\"2003\",\"2004\",\"2005\",\"2006\",\"2007\",\"2008\",\"2009\",\"2010\",\"2011\",\"2012\",\"2013\",\"2014\",\"2015\",\"2016\",\"2017\"],\"y\":[77.07712560169232,77.38833297513385,77.54776037882743,77.69654179560608,78.09938587502181,78.21736324644525,78.50714525876474,78.73135260844114,78.87486015871855,79.13132827194039,79.3009215024766,79.53231619249463,79.64498856482149,79.80818222814423,80.05654259453199,79.94678663973315,80.09864354689779,80.15042257303583]},\"selected\":{\"id\":\"4766\",\"type\":\"Selection\"},\"selection_policy\":{\"id\":\"4767\",\"type\":\"UnionRenderers\"}},\"id\":\"4528\",\"type\":\"ColumnDataSource\"},{\"attributes\":{\"callback\":null},\"id\":\"4460\",\"type\":\"DataRange1d\"},{\"attributes\":{},\"id\":\"4545\",\"type\":\"Selection\"},{\"attributes\":{\"source\":{\"id\":\"4507\",\"type\":\"ColumnDataSource\"}},\"id\":\"4511\",\"type\":\"CDSView\"},{\"attributes\":{},\"id\":\"4462\",\"type\":\"LinearScale\"},{\"attributes\":{\"data_source\":{\"id\":\"4489\",\"type\":\"ColumnDataSource\"},\"glyph\":{\"id\":\"4490\",\"type\":\"Line\"},\"hover_glyph\":null,\"muted_glyph\":null,\"nonselection_glyph\":{\"id\":\"4491\",\"type\":\"Line\"},\"selection_glyph\":null,\"view\":{\"id\":\"4493\",\"type\":\"CDSView\"}},\"id\":\"4492\",\"type\":\"GlyphRenderer\"},{\"attributes\":{},\"id\":\"4546\",\"type\":\"UnionRenderers\"},{\"attributes\":{},\"id\":\"4518\",\"type\":\"Selection\"},{\"attributes\":{},\"id\":\"4464\",\"type\":\"LinearScale\"},{\"attributes\":{\"label\":{\"value\":\"OECD\"},\"renderers\":[{\"id\":\"4531\",\"type\":\"GlyphRenderer\"}]},\"id\":\"4547\",\"type\":\"LegendItem\"},{\"attributes\":{},\"id\":\"4519\",\"type\":\"UnionRenderers\"},{\"attributes\":{\"source\":{\"id\":\"4489\",\"type\":\"ColumnDataSource\"}},\"id\":\"4493\",\"type\":\"CDSView\"},{\"attributes\":{\"axis_label\":\"Years\",\"formatter\":{\"id\":\"4497\",\"type\":\"BasicTickFormatter\"},\"ticker\":{\"id\":\"4467\",\"type\":\"BasicTicker\"}},\"id\":\"4466\",\"type\":\"LinearAxis\"},{\"attributes\":{},\"id\":\"4520\",\"type\":\"Selection\"},{\"attributes\":{\"callback\":null,\"data\":{\"x\":[\"2000\",\"2001\",\"2002\",\"2003\",\"2004\",\"2005\",\"2006\",\"2007\",\"2008\",\"2009\",\"2010\",\"2011\",\"2012\",\"2013\",\"2014\",\"2015\",\"2016\",\"2017\"],\"y\":[77.07712560169232,77.38833297513385,77.54776037882743,77.69654179560608,78.09938587502181,78.21736324644525,78.50714525876474,78.73135260844114,78.87486015871855,79.13132827194039,79.3009215024766,79.53231619249463,79.64498856482149,79.80818222814423,80.05654259453199,79.94678663973315,80.09864354689779,80.15042257303583]},\"selected\":{\"id\":\"4768\",\"type\":\"Selection\"},\"selection_policy\":{\"id\":\"4769\",\"type\":\"UnionRenderers\"}},\"id\":\"4548\",\"type\":\"ColumnDataSource\"},{\"attributes\":{},\"id\":\"4769\",\"type\":\"UnionRenderers\"},{\"attributes\":{},\"id\":\"4467\",\"type\":\"BasicTicker\"},{\"attributes\":{},\"id\":\"4495\",\"type\":\"BasicTickFormatter\"},{\"attributes\":{\"fill_color\":{\"value\":\"#2CC775\"},\"line_color\":{\"value\":\"#2CC775\"},\"line_width\":{\"value\":3},\"x\":{\"field\":\"x\"},\"y\":{\"field\":\"y\"}},\"id\":\"4549\",\"type\":\"Circle\"},{\"attributes\":{},\"id\":\"4521\",\"type\":\"UnionRenderers\"},{\"attributes\":{\"grid_line_color\":null,\"ticker\":{\"id\":\"4467\",\"type\":\"BasicTicker\"}},\"id\":\"4470\",\"type\":\"Grid\"},{\"attributes\":{\"fill_alpha\":{\"value\":0.1},\"fill_color\":{\"value\":\"#1f77b4\"},\"line_alpha\":{\"value\":0.1},\"line_color\":{\"value\":\"#1f77b4\"},\"line_width\":{\"value\":3},\"x\":{\"field\":\"x\"},\"y\":{\"field\":\"y\"}},\"id\":\"4550\",\"type\":\"Circle\"},{\"attributes\":{},\"id\":\"4497\",\"type\":\"BasicTickFormatter\"},{\"attributes\":{\"label\":{\"value\":\"Developing excluding LDCs\"},\"renderers\":[{\"id\":\"4510\",\"type\":\"GlyphRenderer\"}]},\"id\":\"4522\",\"type\":\"LegendItem\"},{\"attributes\":{\"data_source\":{\"id\":\"4548\",\"type\":\"ColumnDataSource\"},\"glyph\":{\"id\":\"4549\",\"type\":\"Circle\"},\"hover_glyph\":null,\"muted_glyph\":null,\"nonselection_glyph\":{\"id\":\"4550\",\"type\":\"Circle\"},\"selection_glyph\":null,\"view\":{\"id\":\"4552\",\"type\":\"CDSView\"}},\"id\":\"4551\",\"type\":\"GlyphRenderer\"},{\"attributes\":{\"bottom_units\":\"screen\",\"fill_alpha\":{\"value\":0.5},\"fill_color\":{\"value\":\"lightgrey\"},\"left_units\":\"screen\",\"level\":\"overlay\",\"line_alpha\":{\"value\":1.0},\"line_color\":{\"value\":\"black\"},\"line_dash\":[4,4],\"line_width\":{\"value\":2},\"render_mode\":\"css\",\"right_units\":\"screen\",\"top_units\":\"screen\"},\"id\":\"4499\",\"type\":\"BoxAnnotation\"},{\"attributes\":{\"axis_label\":\"SP.DYN.LE00.IN\",\"formatter\":{\"id\":\"4495\",\"type\":\"BasicTickFormatter\"},\"ticker\":{\"id\":\"4472\",\"type\":\"BasicTicker\"}},\"id\":\"4471\",\"type\":\"LinearAxis\"},{\"attributes\":{\"callback\":null,\"data\":{\"x\":[\"2000\",\"2001\",\"2002\",\"2003\",\"2004\",\"2005\",\"2006\",\"2007\",\"2008\",\"2009\",\"2010\",\"2011\",\"2012\",\"2013\",\"2014\",\"2015\",\"2016\",\"2017\"],\"y\":[66.81116952985124,67.10136064960203,67.39534765279303,67.69191534513566,67.99394689200506,68.30220457476779,68.61903869781979,68.94325513186014,69.27457578712584,69.61247702715436,69.94342523785205,70.27284035315787,70.59362275978874,70.9030130494035,71.1981897682081,71.47010803591232,71.72046744475756,71.9516686920634]},\"selected\":{\"id\":\"4545\",\"type\":\"Selection\"},\"selection_policy\":{\"id\":\"4546\",\"type\":\"UnionRenderers\"}},\"id\":\"4523\",\"type\":\"ColumnDataSource\"},{\"attributes\":{\"items\":[{\"id\":\"4501\",\"type\":\"LegendItem\"},{\"id\":\"4522\",\"type\":\"LegendItem\"},{\"id\":\"4547\",\"type\":\"LegendItem\"}],\"location\":\"bottom_left\"},\"id\":\"4500\",\"type\":\"Legend\"},{\"attributes\":{\"source\":{\"id\":\"4548\",\"type\":\"ColumnDataSource\"}},\"id\":\"4552\",\"type\":\"CDSView\"},{\"attributes\":{},\"id\":\"4472\",\"type\":\"BasicTicker\"},{\"attributes\":{\"fill_color\":{\"value\":\"#5430F1\"},\"line_color\":{\"value\":\"#5430F1\"},\"line_width\":{\"value\":3},\"x\":{\"field\":\"x\"},\"y\":{\"field\":\"y\"}},\"id\":\"4524\",\"type\":\"Circle\"},{\"attributes\":{\"label\":{\"value\":\"LDCs\"},\"renderers\":[{\"id\":\"4492\",\"type\":\"GlyphRenderer\"}]},\"id\":\"4501\",\"type\":\"LegendItem\"},{\"attributes\":{\"dimension\":1,\"grid_line_alpha\":0.5,\"ticker\":{\"id\":\"4472\",\"type\":\"BasicTicker\"}},\"id\":\"4475\",\"type\":\"Grid\"},{\"attributes\":{\"fill_alpha\":{\"value\":0.1},\"fill_color\":{\"value\":\"#1f77b4\"},\"line_alpha\":{\"value\":0.1},\"line_color\":{\"value\":\"#1f77b4\"},\"line_width\":{\"value\":3},\"x\":{\"field\":\"x\"},\"y\":{\"field\":\"y\"}},\"id\":\"4525\",\"type\":\"Circle\"},{\"attributes\":{\"callback\":null,\"data\":{\"x\":[\"2000\",\"2001\",\"2002\",\"2003\",\"2004\",\"2005\",\"2006\",\"2007\",\"2008\",\"2009\",\"2010\",\"2011\",\"2012\",\"2013\",\"2014\",\"2015\",\"2016\",\"2017\"],\"y\":[55.47978614999483,55.975732696938344,56.50274815798361,57.06108266122101,57.646781535993426,58.25570477828153,58.88310509569853,59.52027856066717,60.15664526899239,60.78301466742689,61.388933701289815,61.967425120830384,62.51265697725478,63.02794492847264,63.50655894613865,63.94522390318217,64.34308028696678,64.70484741974481]},\"selected\":{\"id\":\"4520\",\"type\":\"Selection\"},\"selection_policy\":{\"id\":\"4521\",\"type\":\"UnionRenderers\"}},\"id\":\"4502\",\"type\":\"ColumnDataSource\"},{\"attributes\":{},\"id\":\"4766\",\"type\":\"Selection\"},{\"attributes\":{\"data_source\":{\"id\":\"4523\",\"type\":\"ColumnDataSource\"},\"glyph\":{\"id\":\"4524\",\"type\":\"Circle\"},\"hover_glyph\":null,\"muted_glyph\":null,\"nonselection_glyph\":{\"id\":\"4525\",\"type\":\"Circle\"},\"selection_glyph\":null,\"view\":{\"id\":\"4527\",\"type\":\"CDSView\"}},\"id\":\"4526\",\"type\":\"GlyphRenderer\"},{\"attributes\":{\"line_color\":\"#FA1857\",\"x\":{\"field\":\"x\"},\"y\":{\"field\":\"y\"}},\"id\":\"4490\",\"type\":\"Line\"},{\"attributes\":{\"fill_color\":{\"value\":\"#FA1857\"},\"line_color\":{\"value\":\"#FA1857\"},\"line_width\":{\"value\":3},\"x\":{\"field\":\"x\"},\"y\":{\"field\":\"y\"}},\"id\":\"4503\",\"type\":\"Circle\"},{\"attributes\":{},\"id\":\"4767\",\"type\":\"UnionRenderers\"},{\"attributes\":{\"callback\":null,\"data\":{\"x\":[\"2000\",\"2001\",\"2002\",\"2003\",\"2004\",\"2005\",\"2006\",\"2007\",\"2008\",\"2009\",\"2010\",\"2011\",\"2012\",\"2013\",\"2014\",\"2015\",\"2016\",\"2017\"],\"y\":[55.47978614999483,55.975732696938344,56.50274815798361,57.06108266122101,57.646781535993426,58.25570477828153,58.88310509569853,59.52027856066717,60.15664526899239,60.78301466742689,61.388933701289815,61.967425120830384,62.51265697725478,63.02794492847264,63.50655894613865,63.94522390318217,64.34308028696678,64.70484741974481]},\"selected\":{\"id\":\"4518\",\"type\":\"Selection\"},\"selection_policy\":{\"id\":\"4519\",\"type\":\"UnionRenderers\"}},\"id\":\"4489\",\"type\":\"ColumnDataSource\"},{\"attributes\":{\"source\":{\"id\":\"4523\",\"type\":\"ColumnDataSource\"}},\"id\":\"4527\",\"type\":\"CDSView\"},{\"attributes\":{\"callback\":null,\"tooltips\":\"                \\n        <div style=padding=5px>Year:@x</div>\\n        <div style=padding=5px>Value:@y</div>        \\n        \"},\"id\":\"4553\",\"type\":\"HoverTool\"},{\"attributes\":{\"fill_alpha\":{\"value\":0.1},\"fill_color\":{\"value\":\"#1f77b4\"},\"line_alpha\":{\"value\":0.1},\"line_color\":{\"value\":\"#1f77b4\"},\"line_width\":{\"value\":3},\"x\":{\"field\":\"x\"},\"y\":{\"field\":\"y\"}},\"id\":\"4504\",\"type\":\"Circle\"},{\"attributes\":{},\"id\":\"4768\",\"type\":\"Selection\"},{\"attributes\":{\"line_alpha\":0.1,\"line_color\":\"#1f77b4\",\"x\":{\"field\":\"x\"},\"y\":{\"field\":\"y\"}},\"id\":\"4491\",\"type\":\"Line\"},{\"attributes\":{},\"id\":\"4476\",\"type\":\"PanTool\"},{\"attributes\":{\"data_source\":{\"id\":\"4502\",\"type\":\"ColumnDataSource\"},\"glyph\":{\"id\":\"4503\",\"type\":\"Circle\"},\"hover_glyph\":null,\"muted_glyph\":null,\"nonselection_glyph\":{\"id\":\"4504\",\"type\":\"Circle\"},\"selection_glyph\":null,\"view\":{\"id\":\"4506\",\"type\":\"CDSView\"}},\"id\":\"4505\",\"type\":\"GlyphRenderer\"},{\"attributes\":{\"line_color\":\"#2CC775\",\"x\":{\"field\":\"x\"},\"y\":{\"field\":\"y\"}},\"id\":\"4529\",\"type\":\"Line\"}],\"root_ids\":[\"4455\"]},\"title\":\"Bokeh Application\",\"version\":\"1.3.4\"}};\n",
       "  var render_items = [{\"docid\":\"80c18140-8947-4ef9-975d-aa45c06810c8\",\"roots\":{\"4455\":\"86f22e1d-dd8a-4958-8dda-a5a61496a9ba\"}}];\n",
       "  root.Bokeh.embed.embed_items_notebook(docs_json, render_items);\n",
       "\n",
       "  }\n",
       "  if (root.Bokeh !== undefined) {\n",
       "    embed_document(root);\n",
       "  } else {\n",
       "    var attempts = 0;\n",
       "    var timer = setInterval(function(root) {\n",
       "      if (root.Bokeh !== undefined) {\n",
       "        embed_document(root);\n",
       "        clearInterval(timer);\n",
       "      }\n",
       "      attempts++;\n",
       "      if (attempts > 100) {\n",
       "        console.log(\"Bokeh: ERROR: Unable to run BokehJS code because BokehJS library is missing\");\n",
       "        clearInterval(timer);\n",
       "      }\n",
       "    }, 10, root)\n",
       "  }\n",
       "})(window);"
      ],
      "application/vnd.bokehjs_exec.v0+json": ""
     },
     "metadata": {
      "application/vnd.bokehjs_exec.v0+json": {
       "id": "4455"
      }
     },
     "output_type": "display_data"
    }
   ],
   "source": [
    "# Life expectancy\n",
    "years = list(map(str, list(range(2000,2018))))\n",
    "result = show_weighted_average(years, 'SP.DYN.LE00.IN', 'SP.POP.TOTL', \n",
    "                               ['LDCs', 'Developing excluding LDCs', 'OECD'])"
   ]
  },
  {
   "cell_type": "code",
   "execution_count": 17,
   "metadata": {
    "ExecuteTime": {
     "end_time": "2019-10-25T14:25:28.872290Z",
     "start_time": "2019-10-25T14:25:24.086081Z"
    },
    "slideshow": {
     "slide_type": "slide"
    }
   },
   "outputs": [
    {
     "data": {
      "text/html": [
       "\n",
       "\n",
       "\n",
       "\n",
       "\n",
       "\n",
       "  <div class=\"bk-root\" id=\"738fba8c-d072-4bbf-83cb-c004e548e039\" data-root-id=\"4878\"></div>\n"
      ]
     },
     "metadata": {},
     "output_type": "display_data"
    },
    {
     "data": {
      "application/javascript": [
       "(function(root) {\n",
       "  function embed_document(root) {\n",
       "    \n",
       "  var docs_json = {\"15848653-46b1-4d2f-87b0-ed907b4405dc\":{\"roots\":{\"references\":[{\"attributes\":{\"below\":[{\"id\":\"4889\",\"type\":\"LinearAxis\"}],\"center\":[{\"id\":\"4893\",\"type\":\"Grid\"},{\"id\":\"4898\",\"type\":\"Grid\"},{\"id\":\"4923\",\"type\":\"Legend\"}],\"left\":[{\"id\":\"4894\",\"type\":\"LinearAxis\"}],\"plot_height\":400,\"plot_width\":800,\"renderers\":[{\"id\":\"4915\",\"type\":\"GlyphRenderer\"},{\"id\":\"4928\",\"type\":\"GlyphRenderer\"},{\"id\":\"4933\",\"type\":\"GlyphRenderer\"},{\"id\":\"4949\",\"type\":\"GlyphRenderer\"},{\"id\":\"4954\",\"type\":\"GlyphRenderer\"},{\"id\":\"4974\",\"type\":\"GlyphRenderer\"}],\"title\":{\"id\":\"4879\",\"type\":\"Title\"},\"toolbar\":{\"id\":\"4905\",\"type\":\"Toolbar\"},\"x_range\":{\"id\":\"4881\",\"type\":\"DataRange1d\"},\"x_scale\":{\"id\":\"4885\",\"type\":\"LinearScale\"},\"y_range\":{\"id\":\"4883\",\"type\":\"DataRange1d\"},\"y_scale\":{\"id\":\"4887\",\"type\":\"LinearScale\"}},\"id\":\"4878\",\"subtype\":\"Figure\",\"type\":\"Plot\"},{\"attributes\":{\"text\":\"Life expectancy at birth, female (years) weighted against Rural population\"},\"id\":\"4879\",\"type\":\"Title\"},{\"attributes\":{\"active_drag\":\"auto\",\"active_inspect\":\"auto\",\"active_multi\":null,\"active_scroll\":\"auto\",\"active_tap\":\"auto\",\"tools\":[{\"id\":\"4899\",\"type\":\"PanTool\"},{\"id\":\"4900\",\"type\":\"WheelZoomTool\"},{\"id\":\"4901\",\"type\":\"BoxZoomTool\"},{\"id\":\"4902\",\"type\":\"SaveTool\"},{\"id\":\"4903\",\"type\":\"ResetTool\"},{\"id\":\"4904\",\"type\":\"HelpTool\"},{\"id\":\"4976\",\"type\":\"HoverTool\"}]},\"id\":\"4905\",\"type\":\"Toolbar\"},{\"attributes\":{\"data_source\":{\"id\":\"4951\",\"type\":\"ColumnDataSource\"},\"glyph\":{\"id\":\"4952\",\"type\":\"Line\"},\"hover_glyph\":null,\"muted_glyph\":null,\"nonselection_glyph\":{\"id\":\"4953\",\"type\":\"Line\"},\"selection_glyph\":null,\"view\":{\"id\":\"4955\",\"type\":\"CDSView\"}},\"id\":\"4954\",\"type\":\"GlyphRenderer\"},{\"attributes\":{\"fill_alpha\":{\"value\":0.1},\"fill_color\":{\"value\":\"#1f77b4\"},\"line_alpha\":{\"value\":0.1},\"line_color\":{\"value\":\"#1f77b4\"},\"line_width\":{\"value\":3},\"x\":{\"field\":\"x\"},\"y\":{\"field\":\"y\"}},\"id\":\"4948\",\"type\":\"Circle\"},{\"attributes\":{},\"id\":\"4885\",\"type\":\"LinearScale\"},{\"attributes\":{},\"id\":\"5208\",\"type\":\"UnionRenderers\"},{\"attributes\":{\"callback\":null},\"id\":\"4881\",\"type\":\"DataRange1d\"},{\"attributes\":{\"fill_color\":{\"value\":\"#5430F1\"},\"line_color\":{\"value\":\"#5430F1\"},\"line_width\":{\"value\":3},\"x\":{\"field\":\"x\"},\"y\":{\"field\":\"y\"}},\"id\":\"4947\",\"type\":\"Circle\"},{\"attributes\":{\"callback\":null,\"data\":{\"x\":[\"2000\",\"2001\",\"2002\",\"2003\",\"2004\",\"2005\",\"2006\",\"2007\",\"2008\",\"2009\",\"2010\",\"2011\",\"2012\",\"2013\",\"2014\",\"2015\",\"2016\",\"2017\"],\"y\":[79.93351879418076,80.20290658761989,80.32918832949842,80.39856940465691,80.77521328865518,80.86674990168122,81.1402038786844,81.32381241465296,81.43163205746191,81.62948962454634,81.79594928587568,82.07333933782573,82.11929566013815,82.26555024337196,82.51912432141074,82.35601028400251,82.55037747513924,82.59790657999017]},\"selected\":{\"id\":\"5207\",\"type\":\"Selection\"},\"selection_policy\":{\"id\":\"5208\",\"type\":\"UnionRenderers\"}},\"id\":\"4951\",\"type\":\"ColumnDataSource\"},{\"attributes\":{\"callback\":null},\"id\":\"4883\",\"type\":\"DataRange1d\"},{\"attributes\":{},\"id\":\"4904\",\"type\":\"HelpTool\"},{\"attributes\":{\"label\":{\"value\":\"Developing excluding LDCs\"},\"renderers\":[{\"id\":\"4933\",\"type\":\"GlyphRenderer\"}]},\"id\":\"4945\",\"type\":\"LegendItem\"},{\"attributes\":{\"data_source\":{\"id\":\"4946\",\"type\":\"ColumnDataSource\"},\"glyph\":{\"id\":\"4947\",\"type\":\"Circle\"},\"hover_glyph\":null,\"muted_glyph\":null,\"nonselection_glyph\":{\"id\":\"4948\",\"type\":\"Circle\"},\"selection_glyph\":null,\"view\":{\"id\":\"4950\",\"type\":\"CDSView\"}},\"id\":\"4949\",\"type\":\"GlyphRenderer\"},{\"attributes\":{},\"id\":\"4902\",\"type\":\"SaveTool\"},{\"attributes\":{\"line_alpha\":0.1,\"line_color\":\"#1f77b4\",\"x\":{\"field\":\"x\"},\"y\":{\"field\":\"y\"}},\"id\":\"4914\",\"type\":\"Line\"},{\"attributes\":{},\"id\":\"4890\",\"type\":\"BasicTicker\"},{\"attributes\":{},\"id\":\"5207\",\"type\":\"Selection\"},{\"attributes\":{},\"id\":\"4944\",\"type\":\"UnionRenderers\"},{\"attributes\":{\"source\":{\"id\":\"4946\",\"type\":\"ColumnDataSource\"}},\"id\":\"4950\",\"type\":\"CDSView\"},{\"attributes\":{\"overlay\":{\"id\":\"4922\",\"type\":\"BoxAnnotation\"}},\"id\":\"4901\",\"type\":\"BoxZoomTool\"},{\"attributes\":{},\"id\":\"4942\",\"type\":\"UnionRenderers\"},{\"attributes\":{\"line_color\":\"#5430F1\",\"x\":{\"field\":\"x\"},\"y\":{\"field\":\"y\"}},\"id\":\"4931\",\"type\":\"Line\"},{\"attributes\":{},\"id\":\"4899\",\"type\":\"PanTool\"},{\"attributes\":{\"callback\":null,\"data\":{\"x\":[\"2000\",\"2001\",\"2002\",\"2003\",\"2004\",\"2005\",\"2006\",\"2007\",\"2008\",\"2009\",\"2010\",\"2011\",\"2012\",\"2013\",\"2014\",\"2015\",\"2016\",\"2017\"],\"y\":[67.73281154489842,67.97348032002085,68.22274061008504,68.4834570193612,68.75974387360039,69.05476389543969,69.3723836455032,69.71081830727181,70.06116455005113,70.42362476987262,70.78281631915947,71.13967644962615,71.48296705077259,71.80606471400148,72.10313283696358,72.37065053741364,72.60294771834627,72.81209975661481]},\"selected\":{\"id\":\"4968\",\"type\":\"Selection\"},\"selection_policy\":{\"id\":\"4969\",\"type\":\"UnionRenderers\"}},\"id\":\"4946\",\"type\":\"ColumnDataSource\"},{\"attributes\":{\"dimension\":1,\"grid_line_alpha\":0.5,\"ticker\":{\"id\":\"4895\",\"type\":\"BasicTicker\"}},\"id\":\"4898\",\"type\":\"Grid\"},{\"attributes\":{\"callback\":null,\"tooltips\":\"                \\n        <div style=padding=5px>Year:@x</div>\\n        <div style=padding=5px>Value:@y</div>        \\n        \"},\"id\":\"4976\",\"type\":\"HoverTool\"},{\"attributes\":{\"source\":{\"id\":\"4971\",\"type\":\"ColumnDataSource\"}},\"id\":\"4975\",\"type\":\"CDSView\"},{\"attributes\":{},\"id\":\"4903\",\"type\":\"ResetTool\"},{\"attributes\":{\"label\":{\"value\":\"LDCs\"},\"renderers\":[{\"id\":\"4915\",\"type\":\"GlyphRenderer\"}]},\"id\":\"4924\",\"type\":\"LegendItem\"},{\"attributes\":{},\"id\":\"4941\",\"type\":\"Selection\"},{\"attributes\":{\"fill_color\":{\"value\":\"#FA1857\"},\"line_color\":{\"value\":\"#FA1857\"},\"line_width\":{\"value\":3},\"x\":{\"field\":\"x\"},\"y\":{\"field\":\"y\"}},\"id\":\"4926\",\"type\":\"Circle\"},{\"attributes\":{\"data_source\":{\"id\":\"4930\",\"type\":\"ColumnDataSource\"},\"glyph\":{\"id\":\"4931\",\"type\":\"Line\"},\"hover_glyph\":null,\"muted_glyph\":null,\"nonselection_glyph\":{\"id\":\"4932\",\"type\":\"Line\"},\"selection_glyph\":null,\"view\":{\"id\":\"4934\",\"type\":\"CDSView\"}},\"id\":\"4933\",\"type\":\"GlyphRenderer\"},{\"attributes\":{\"callback\":null,\"data\":{\"x\":[\"2000\",\"2001\",\"2002\",\"2003\",\"2004\",\"2005\",\"2006\",\"2007\",\"2008\",\"2009\",\"2010\",\"2011\",\"2012\",\"2013\",\"2014\",\"2015\",\"2016\",\"2017\"],\"y\":[57.034527408572266,57.53748489045903,58.07142351800209,58.640581905118836,59.242660221595216,59.87429659950075,60.53079079914172,61.19774721212408,61.87418453620832,62.54301761236867,63.19237481578384,63.81307389468363,64.39532395583093,64.94434252296352,65.45150499669222,65.91438566172573,66.33128171561334,66.70959739482211]},\"selected\":{\"id\":\"4941\",\"type\":\"Selection\"},\"selection_policy\":{\"id\":\"4942\",\"type\":\"UnionRenderers\"}},\"id\":\"4912\",\"type\":\"ColumnDataSource\"},{\"attributes\":{\"fill_color\":{\"value\":\"#2CC775\"},\"line_color\":{\"value\":\"#2CC775\"},\"line_width\":{\"value\":3},\"x\":{\"field\":\"x\"},\"y\":{\"field\":\"y\"}},\"id\":\"4972\",\"type\":\"Circle\"},{\"attributes\":{\"data_source\":{\"id\":\"4925\",\"type\":\"ColumnDataSource\"},\"glyph\":{\"id\":\"4926\",\"type\":\"Circle\"},\"hover_glyph\":null,\"muted_glyph\":null,\"nonselection_glyph\":{\"id\":\"4927\",\"type\":\"Circle\"},\"selection_glyph\":null,\"view\":{\"id\":\"4929\",\"type\":\"CDSView\"}},\"id\":\"4928\",\"type\":\"GlyphRenderer\"},{\"attributes\":{},\"id\":\"4943\",\"type\":\"Selection\"},{\"attributes\":{},\"id\":\"4969\",\"type\":\"UnionRenderers\"},{\"attributes\":{},\"id\":\"4920\",\"type\":\"BasicTickFormatter\"},{\"attributes\":{},\"id\":\"4967\",\"type\":\"UnionRenderers\"},{\"attributes\":{},\"id\":\"4900\",\"type\":\"WheelZoomTool\"},{\"attributes\":{\"line_alpha\":0.1,\"line_color\":\"#1f77b4\",\"x\":{\"field\":\"x\"},\"y\":{\"field\":\"y\"}},\"id\":\"4932\",\"type\":\"Line\"},{\"attributes\":{},\"id\":\"4895\",\"type\":\"BasicTicker\"},{\"attributes\":{\"items\":[{\"id\":\"4924\",\"type\":\"LegendItem\"},{\"id\":\"4945\",\"type\":\"LegendItem\"},{\"id\":\"4970\",\"type\":\"LegendItem\"}],\"location\":\"bottom_left\"},\"id\":\"4923\",\"type\":\"Legend\"},{\"attributes\":{\"callback\":null,\"data\":{\"x\":[\"2000\",\"2001\",\"2002\",\"2003\",\"2004\",\"2005\",\"2006\",\"2007\",\"2008\",\"2009\",\"2010\",\"2011\",\"2012\",\"2013\",\"2014\",\"2015\",\"2016\",\"2017\"],\"y\":[79.93351879418076,80.20290658761989,80.32918832949842,80.39856940465691,80.77521328865518,80.86674990168122,81.1402038786844,81.32381241465296,81.43163205746191,81.62948962454634,81.79594928587568,82.07333933782573,82.11929566013815,82.26555024337196,82.51912432141074,82.35601028400251,82.55037747513924,82.59790657999017]},\"selected\":{\"id\":\"5209\",\"type\":\"Selection\"},\"selection_policy\":{\"id\":\"5210\",\"type\":\"UnionRenderers\"}},\"id\":\"4971\",\"type\":\"ColumnDataSource\"},{\"attributes\":{\"callback\":null,\"data\":{\"x\":[\"2000\",\"2001\",\"2002\",\"2003\",\"2004\",\"2005\",\"2006\",\"2007\",\"2008\",\"2009\",\"2010\",\"2011\",\"2012\",\"2013\",\"2014\",\"2015\",\"2016\",\"2017\"],\"y\":[67.73281154489842,67.97348032002085,68.22274061008504,68.4834570193612,68.75974387360039,69.05476389543969,69.3723836455032,69.71081830727181,70.06116455005113,70.42362476987262,70.78281631915947,71.13967644962615,71.48296705077259,71.80606471400148,72.10313283696358,72.37065053741364,72.60294771834627,72.81209975661481]},\"selected\":{\"id\":\"4966\",\"type\":\"Selection\"},\"selection_policy\":{\"id\":\"4967\",\"type\":\"UnionRenderers\"}},\"id\":\"4930\",\"type\":\"ColumnDataSource\"},{\"attributes\":{\"fill_alpha\":{\"value\":0.1},\"fill_color\":{\"value\":\"#1f77b4\"},\"line_alpha\":{\"value\":0.1},\"line_color\":{\"value\":\"#1f77b4\"},\"line_width\":{\"value\":3},\"x\":{\"field\":\"x\"},\"y\":{\"field\":\"y\"}},\"id\":\"4973\",\"type\":\"Circle\"},{\"attributes\":{},\"id\":\"5210\",\"type\":\"UnionRenderers\"},{\"attributes\":{\"callback\":null,\"data\":{\"x\":[\"2000\",\"2001\",\"2002\",\"2003\",\"2004\",\"2005\",\"2006\",\"2007\",\"2008\",\"2009\",\"2010\",\"2011\",\"2012\",\"2013\",\"2014\",\"2015\",\"2016\",\"2017\"],\"y\":[57.034527408572266,57.53748489045903,58.07142351800209,58.640581905118836,59.242660221595216,59.87429659950075,60.53079079914172,61.19774721212408,61.87418453620832,62.54301761236867,63.19237481578384,63.81307389468363,64.39532395583093,64.94434252296352,65.45150499669222,65.91438566172573,66.33128171561334,66.70959739482211]},\"selected\":{\"id\":\"4943\",\"type\":\"Selection\"},\"selection_policy\":{\"id\":\"4944\",\"type\":\"UnionRenderers\"}},\"id\":\"4925\",\"type\":\"ColumnDataSource\"},{\"attributes\":{\"source\":{\"id\":\"4930\",\"type\":\"ColumnDataSource\"}},\"id\":\"4934\",\"type\":\"CDSView\"},{\"attributes\":{\"line_color\":\"#FA1857\",\"x\":{\"field\":\"x\"},\"y\":{\"field\":\"y\"}},\"id\":\"4913\",\"type\":\"Line\"},{\"attributes\":{\"data_source\":{\"id\":\"4971\",\"type\":\"ColumnDataSource\"},\"glyph\":{\"id\":\"4972\",\"type\":\"Circle\"},\"hover_glyph\":null,\"muted_glyph\":null,\"nonselection_glyph\":{\"id\":\"4973\",\"type\":\"Circle\"},\"selection_glyph\":null,\"view\":{\"id\":\"4975\",\"type\":\"CDSView\"}},\"id\":\"4974\",\"type\":\"GlyphRenderer\"},{\"attributes\":{\"source\":{\"id\":\"4925\",\"type\":\"ColumnDataSource\"}},\"id\":\"4929\",\"type\":\"CDSView\"},{\"attributes\":{\"source\":{\"id\":\"4951\",\"type\":\"ColumnDataSource\"}},\"id\":\"4955\",\"type\":\"CDSView\"},{\"attributes\":{\"axis_label\":\"SP.DYN.LE00.FE.IN\",\"formatter\":{\"id\":\"4918\",\"type\":\"BasicTickFormatter\"},\"ticker\":{\"id\":\"4895\",\"type\":\"BasicTicker\"}},\"id\":\"4894\",\"type\":\"LinearAxis\"},{\"attributes\":{},\"id\":\"4918\",\"type\":\"BasicTickFormatter\"},{\"attributes\":{\"fill_alpha\":{\"value\":0.1},\"fill_color\":{\"value\":\"#1f77b4\"},\"line_alpha\":{\"value\":0.1},\"line_color\":{\"value\":\"#1f77b4\"},\"line_width\":{\"value\":3},\"x\":{\"field\":\"x\"},\"y\":{\"field\":\"y\"}},\"id\":\"4927\",\"type\":\"Circle\"},{\"attributes\":{},\"id\":\"4968\",\"type\":\"Selection\"},{\"attributes\":{\"grid_line_color\":null,\"ticker\":{\"id\":\"4890\",\"type\":\"BasicTicker\"}},\"id\":\"4893\",\"type\":\"Grid\"},{\"attributes\":{\"source\":{\"id\":\"4912\",\"type\":\"ColumnDataSource\"}},\"id\":\"4916\",\"type\":\"CDSView\"},{\"attributes\":{},\"id\":\"5209\",\"type\":\"Selection\"},{\"attributes\":{\"axis_label\":\"Years\",\"formatter\":{\"id\":\"4920\",\"type\":\"BasicTickFormatter\"},\"ticker\":{\"id\":\"4890\",\"type\":\"BasicTicker\"}},\"id\":\"4889\",\"type\":\"LinearAxis\"},{\"attributes\":{},\"id\":\"4966\",\"type\":\"Selection\"},{\"attributes\":{\"bottom_units\":\"screen\",\"fill_alpha\":{\"value\":0.5},\"fill_color\":{\"value\":\"lightgrey\"},\"left_units\":\"screen\",\"level\":\"overlay\",\"line_alpha\":{\"value\":1.0},\"line_color\":{\"value\":\"black\"},\"line_dash\":[4,4],\"line_width\":{\"value\":2},\"render_mode\":\"css\",\"right_units\":\"screen\",\"top_units\":\"screen\"},\"id\":\"4922\",\"type\":\"BoxAnnotation\"},{\"attributes\":{\"label\":{\"value\":\"OECD\"},\"renderers\":[{\"id\":\"4954\",\"type\":\"GlyphRenderer\"}]},\"id\":\"4970\",\"type\":\"LegendItem\"},{\"attributes\":{},\"id\":\"4887\",\"type\":\"LinearScale\"},{\"attributes\":{\"line_color\":\"#2CC775\",\"x\":{\"field\":\"x\"},\"y\":{\"field\":\"y\"}},\"id\":\"4952\",\"type\":\"Line\"},{\"attributes\":{\"data_source\":{\"id\":\"4912\",\"type\":\"ColumnDataSource\"},\"glyph\":{\"id\":\"4913\",\"type\":\"Line\"},\"hover_glyph\":null,\"muted_glyph\":null,\"nonselection_glyph\":{\"id\":\"4914\",\"type\":\"Line\"},\"selection_glyph\":null,\"view\":{\"id\":\"4916\",\"type\":\"CDSView\"}},\"id\":\"4915\",\"type\":\"GlyphRenderer\"},{\"attributes\":{\"line_alpha\":0.1,\"line_color\":\"#1f77b4\",\"x\":{\"field\":\"x\"},\"y\":{\"field\":\"y\"}},\"id\":\"4953\",\"type\":\"Line\"}],\"root_ids\":[\"4878\"]},\"title\":\"Bokeh Application\",\"version\":\"1.3.4\"}};\n",
       "  var render_items = [{\"docid\":\"15848653-46b1-4d2f-87b0-ed907b4405dc\",\"roots\":{\"4878\":\"738fba8c-d072-4bbf-83cb-c004e548e039\"}}];\n",
       "  root.Bokeh.embed.embed_items_notebook(docs_json, render_items);\n",
       "\n",
       "  }\n",
       "  if (root.Bokeh !== undefined) {\n",
       "    embed_document(root);\n",
       "  } else {\n",
       "    var attempts = 0;\n",
       "    var timer = setInterval(function(root) {\n",
       "      if (root.Bokeh !== undefined) {\n",
       "        embed_document(root);\n",
       "        clearInterval(timer);\n",
       "      }\n",
       "      attempts++;\n",
       "      if (attempts > 100) {\n",
       "        console.log(\"Bokeh: ERROR: Unable to run BokehJS code because BokehJS library is missing\");\n",
       "        clearInterval(timer);\n",
       "      }\n",
       "    }, 10, root)\n",
       "  }\n",
       "})(window);"
      ],
      "application/vnd.bokehjs_exec.v0+json": ""
     },
     "metadata": {
      "application/vnd.bokehjs_exec.v0+json": {
       "id": "4878"
      }
     },
     "output_type": "display_data"
    }
   ],
   "source": [
    "# Female life expectancy\n",
    "years = list(map(str, list(range(2000,2018))))\n",
    "result = show_weighted_average(years, 'SP.DYN.LE00.FE.IN', 'SP.RUR.TOTL', \n",
    "                               ['LDCs', 'Developing excluding LDCs', 'OECD'])"
   ]
  },
  {
   "cell_type": "code",
   "execution_count": 18,
   "metadata": {
    "ExecuteTime": {
     "end_time": "2019-10-25T14:25:33.233720Z",
     "start_time": "2019-10-25T14:25:28.874728Z"
    },
    "slideshow": {
     "slide_type": "slide"
    }
   },
   "outputs": [
    {
     "data": {
      "text/html": [
       "\n",
       "\n",
       "\n",
       "\n",
       "\n",
       "\n",
       "  <div class=\"bk-root\" id=\"68a8a0aa-ede2-46cb-9eb3-40e3ba59dcba\" data-root-id=\"5319\"></div>\n"
      ]
     },
     "metadata": {},
     "output_type": "display_data"
    },
    {
     "data": {
      "application/javascript": [
       "(function(root) {\n",
       "  function embed_document(root) {\n",
       "    \n",
       "  var docs_json = {\"cc91447a-1cb5-4737-8538-09661211bf1c\":{\"roots\":{\"references\":[{\"attributes\":{\"below\":[{\"id\":\"5330\",\"type\":\"LinearAxis\"}],\"center\":[{\"id\":\"5334\",\"type\":\"Grid\"},{\"id\":\"5339\",\"type\":\"Grid\"},{\"id\":\"5364\",\"type\":\"Legend\"}],\"left\":[{\"id\":\"5335\",\"type\":\"LinearAxis\"}],\"plot_height\":400,\"plot_width\":800,\"renderers\":[{\"id\":\"5356\",\"type\":\"GlyphRenderer\"},{\"id\":\"5369\",\"type\":\"GlyphRenderer\"},{\"id\":\"5374\",\"type\":\"GlyphRenderer\"},{\"id\":\"5390\",\"type\":\"GlyphRenderer\"}],\"title\":{\"id\":\"5320\",\"type\":\"Title\"},\"toolbar\":{\"id\":\"5346\",\"type\":\"Toolbar\"},\"x_range\":{\"id\":\"5322\",\"type\":\"DataRange1d\"},\"x_scale\":{\"id\":\"5326\",\"type\":\"LinearScale\"},\"y_range\":{\"id\":\"5324\",\"type\":\"DataRange1d\"},\"y_scale\":{\"id\":\"5328\",\"type\":\"LinearScale\"}},\"id\":\"5319\",\"subtype\":\"Figure\",\"type\":\"Plot\"},{\"attributes\":{},\"id\":\"5344\",\"type\":\"ResetTool\"},{\"attributes\":{\"source\":{\"id\":\"5366\",\"type\":\"ColumnDataSource\"}},\"id\":\"5370\",\"type\":\"CDSView\"},{\"attributes\":{\"line_alpha\":0.1,\"line_color\":\"#1f77b4\",\"x\":{\"field\":\"x\"},\"y\":{\"field\":\"y\"}},\"id\":\"5373\",\"type\":\"Line\"},{\"attributes\":{\"overlay\":{\"id\":\"5363\",\"type\":\"BoxAnnotation\"}},\"id\":\"5342\",\"type\":\"BoxZoomTool\"},{\"attributes\":{\"grid_line_color\":null,\"ticker\":{\"id\":\"5331\",\"type\":\"BasicTicker\"}},\"id\":\"5334\",\"type\":\"Grid\"},{\"attributes\":{},\"id\":\"5359\",\"type\":\"BasicTickFormatter\"},{\"attributes\":{},\"id\":\"5384\",\"type\":\"Selection\"},{\"attributes\":{},\"id\":\"5385\",\"type\":\"UnionRenderers\"},{\"attributes\":{\"callback\":null,\"data\":{\"x\":[\"2000\",\"2001\",\"2002\",\"2003\",\"2004\",\"2005\",\"2006\",\"2007\",\"2008\",\"2009\",\"2010\",\"2011\",\"2012\",\"2013\",\"2014\",\"2015\",\"2016\",\"2017\"],\"y\":[219.28408588120277,213.48414800134037,206.41811006155564,200.67120038874455,194.22090384430567,186.45995905793217,179.47945880804642,172.69824687103215,167.14239880717736,161.17966398798256,155.12810024875614,149.4076724816034,144.52542353326865,140.4374830912562,137.01364916667524,133.5566778030908,129.90816344064564,127.82152219368795]},\"selected\":{\"id\":\"5639\",\"type\":\"Selection\"},\"selection_policy\":{\"id\":\"5640\",\"type\":\"UnionRenderers\"}},\"id\":\"5387\",\"type\":\"ColumnDataSource\"},{\"attributes\":{\"active_drag\":\"auto\",\"active_inspect\":\"auto\",\"active_multi\":null,\"active_scroll\":\"auto\",\"active_tap\":\"auto\",\"tools\":[{\"id\":\"5340\",\"type\":\"PanTool\"},{\"id\":\"5341\",\"type\":\"WheelZoomTool\"},{\"id\":\"5342\",\"type\":\"BoxZoomTool\"},{\"id\":\"5343\",\"type\":\"SaveTool\"},{\"id\":\"5344\",\"type\":\"ResetTool\"},{\"id\":\"5345\",\"type\":\"HelpTool\"},{\"id\":\"5392\",\"type\":\"HoverTool\"}]},\"id\":\"5346\",\"type\":\"Toolbar\"},{\"attributes\":{\"line_color\":\"#5430F1\",\"x\":{\"field\":\"x\"},\"y\":{\"field\":\"y\"}},\"id\":\"5372\",\"type\":\"Line\"},{\"attributes\":{\"callback\":null,\"data\":{\"x\":[\"2000\",\"2001\",\"2002\",\"2003\",\"2004\",\"2005\",\"2006\",\"2007\",\"2008\",\"2009\",\"2010\",\"2011\",\"2012\",\"2013\",\"2014\",\"2015\",\"2016\",\"2017\"],\"y\":[715.2447987144993,691.6849041419641,673.4892479999546,651.0563817071164,625.5069049458828,592.7740014378311,564.7764525894733,540.1215038192421,519.2159647732941,500.21556542920393,481.30634910908856,463.88510804587,448.827847164424,434.57010999810467,422.4587882882479,406.7932602988281,392.5254468961425,380.5719673986561]},\"selected\":{\"id\":\"5384\",\"type\":\"Selection\"},\"selection_policy\":{\"id\":\"5385\",\"type\":\"UnionRenderers\"}},\"id\":\"5366\",\"type\":\"ColumnDataSource\"},{\"attributes\":{\"fill_alpha\":{\"value\":0.1},\"fill_color\":{\"value\":\"#1f77b4\"},\"line_alpha\":{\"value\":0.1},\"line_color\":{\"value\":\"#1f77b4\"},\"line_width\":{\"value\":3},\"x\":{\"field\":\"x\"},\"y\":{\"field\":\"y\"}},\"id\":\"5368\",\"type\":\"Circle\"},{\"attributes\":{\"callback\":null,\"data\":{\"x\":[\"2000\",\"2001\",\"2002\",\"2003\",\"2004\",\"2005\",\"2006\",\"2007\",\"2008\",\"2009\",\"2010\",\"2011\",\"2012\",\"2013\",\"2014\",\"2015\",\"2016\",\"2017\"],\"y\":[715.2447987144993,691.6849041419641,673.4892479999546,651.0563817071164,625.5069049458828,592.7740014378311,564.7764525894733,540.1215038192421,519.2159647732941,500.21556542920393,481.30634910908856,463.88510804587,448.827847164424,434.57010999810467,422.4587882882479,406.7932602988281,392.5254468961425,380.5719673986561]},\"selected\":{\"id\":\"5382\",\"type\":\"Selection\"},\"selection_policy\":{\"id\":\"5383\",\"type\":\"UnionRenderers\"}},\"id\":\"5353\",\"type\":\"ColumnDataSource\"},{\"attributes\":{\"bottom_units\":\"screen\",\"fill_alpha\":{\"value\":0.5},\"fill_color\":{\"value\":\"lightgrey\"},\"left_units\":\"screen\",\"level\":\"overlay\",\"line_alpha\":{\"value\":1.0},\"line_color\":{\"value\":\"black\"},\"line_dash\":[4,4],\"line_width\":{\"value\":2},\"render_mode\":\"css\",\"right_units\":\"screen\",\"top_units\":\"screen\"},\"id\":\"5363\",\"type\":\"BoxAnnotation\"},{\"attributes\":{\"fill_color\":{\"value\":\"#FA1857\"},\"line_color\":{\"value\":\"#FA1857\"},\"line_width\":{\"value\":3},\"x\":{\"field\":\"x\"},\"y\":{\"field\":\"y\"}},\"id\":\"5367\",\"type\":\"Circle\"},{\"attributes\":{\"data_source\":{\"id\":\"5353\",\"type\":\"ColumnDataSource\"},\"glyph\":{\"id\":\"5354\",\"type\":\"Line\"},\"hover_glyph\":null,\"muted_glyph\":null,\"nonselection_glyph\":{\"id\":\"5355\",\"type\":\"Line\"},\"selection_glyph\":null,\"view\":{\"id\":\"5357\",\"type\":\"CDSView\"}},\"id\":\"5356\",\"type\":\"GlyphRenderer\"},{\"attributes\":{\"axis_label\":\"SH.STA.MMRT\",\"formatter\":{\"id\":\"5359\",\"type\":\"BasicTickFormatter\"},\"ticker\":{\"id\":\"5336\",\"type\":\"BasicTicker\"}},\"id\":\"5335\",\"type\":\"LinearAxis\"},{\"attributes\":{\"data_source\":{\"id\":\"5366\",\"type\":\"ColumnDataSource\"},\"glyph\":{\"id\":\"5367\",\"type\":\"Circle\"},\"hover_glyph\":null,\"muted_glyph\":null,\"nonselection_glyph\":{\"id\":\"5368\",\"type\":\"Circle\"},\"selection_glyph\":null,\"view\":{\"id\":\"5370\",\"type\":\"CDSView\"}},\"id\":\"5369\",\"type\":\"GlyphRenderer\"},{\"attributes\":{\"source\":{\"id\":\"5387\",\"type\":\"ColumnDataSource\"}},\"id\":\"5391\",\"type\":\"CDSView\"},{\"attributes\":{},\"id\":\"5361\",\"type\":\"BasicTickFormatter\"},{\"attributes\":{},\"id\":\"5331\",\"type\":\"BasicTicker\"},{\"attributes\":{\"callback\":null,\"data\":{\"x\":[\"2000\",\"2001\",\"2002\",\"2003\",\"2004\",\"2005\",\"2006\",\"2007\",\"2008\",\"2009\",\"2010\",\"2011\",\"2012\",\"2013\",\"2014\",\"2015\",\"2016\",\"2017\"],\"y\":[219.28408588120277,213.48414800134037,206.41811006155564,200.67120038874455,194.22090384430567,186.45995905793217,179.47945880804642,172.69824687103215,167.14239880717736,161.17966398798256,155.12810024875614,149.4076724816034,144.52542353326865,140.4374830912562,137.01364916667524,133.5566778030908,129.90816344064564,127.82152219368795]},\"selected\":{\"id\":\"5637\",\"type\":\"Selection\"},\"selection_policy\":{\"id\":\"5638\",\"type\":\"UnionRenderers\"}},\"id\":\"5371\",\"type\":\"ColumnDataSource\"},{\"attributes\":{\"line_color\":\"#FA1857\",\"x\":{\"field\":\"x\"},\"y\":{\"field\":\"y\"}},\"id\":\"5354\",\"type\":\"Line\"},{\"attributes\":{},\"id\":\"5639\",\"type\":\"Selection\"},{\"attributes\":{\"axis_label\":\"Years\",\"formatter\":{\"id\":\"5361\",\"type\":\"BasicTickFormatter\"},\"ticker\":{\"id\":\"5331\",\"type\":\"BasicTicker\"}},\"id\":\"5330\",\"type\":\"LinearAxis\"},{\"attributes\":{},\"id\":\"5640\",\"type\":\"UnionRenderers\"},{\"attributes\":{},\"id\":\"5345\",\"type\":\"HelpTool\"},{\"attributes\":{\"label\":{\"value\":\"LDCs\"},\"renderers\":[{\"id\":\"5356\",\"type\":\"GlyphRenderer\"}]},\"id\":\"5365\",\"type\":\"LegendItem\"},{\"attributes\":{},\"id\":\"5328\",\"type\":\"LinearScale\"},{\"attributes\":{},\"id\":\"5326\",\"type\":\"LinearScale\"},{\"attributes\":{\"line_alpha\":0.1,\"line_color\":\"#1f77b4\",\"x\":{\"field\":\"x\"},\"y\":{\"field\":\"y\"}},\"id\":\"5355\",\"type\":\"Line\"},{\"attributes\":{},\"id\":\"5638\",\"type\":\"UnionRenderers\"},{\"attributes\":{\"items\":[{\"id\":\"5365\",\"type\":\"LegendItem\"},{\"id\":\"5386\",\"type\":\"LegendItem\"}],\"location\":\"bottom_left\"},\"id\":\"5364\",\"type\":\"Legend\"},{\"attributes\":{\"source\":{\"id\":\"5353\",\"type\":\"ColumnDataSource\"}},\"id\":\"5357\",\"type\":\"CDSView\"},{\"attributes\":{},\"id\":\"5336\",\"type\":\"BasicTicker\"},{\"attributes\":{\"fill_color\":{\"value\":\"#5430F1\"},\"line_color\":{\"value\":\"#5430F1\"},\"line_width\":{\"value\":3},\"x\":{\"field\":\"x\"},\"y\":{\"field\":\"y\"}},\"id\":\"5388\",\"type\":\"Circle\"},{\"attributes\":{\"text\":\"Maternal mortality ratio (modeled estimate, per 100,000 live births) weighted against Population, female\"},\"id\":\"5320\",\"type\":\"Title\"},{\"attributes\":{\"callback\":null},\"id\":\"5324\",\"type\":\"DataRange1d\"},{\"attributes\":{\"label\":{\"value\":\"Developing excluding LDCs\"},\"renderers\":[{\"id\":\"5374\",\"type\":\"GlyphRenderer\"}]},\"id\":\"5386\",\"type\":\"LegendItem\"},{\"attributes\":{},\"id\":\"5637\",\"type\":\"Selection\"},{\"attributes\":{},\"id\":\"5382\",\"type\":\"Selection\"},{\"attributes\":{\"callback\":null,\"tooltips\":\"                \\n        <div style=padding=5px>Year:@x</div>\\n        <div style=padding=5px>Value:@y</div>        \\n        \"},\"id\":\"5392\",\"type\":\"HoverTool\"},{\"attributes\":{\"source\":{\"id\":\"5371\",\"type\":\"ColumnDataSource\"}},\"id\":\"5375\",\"type\":\"CDSView\"},{\"attributes\":{},\"id\":\"5383\",\"type\":\"UnionRenderers\"},{\"attributes\":{},\"id\":\"5340\",\"type\":\"PanTool\"},{\"attributes\":{\"data_source\":{\"id\":\"5387\",\"type\":\"ColumnDataSource\"},\"glyph\":{\"id\":\"5388\",\"type\":\"Circle\"},\"hover_glyph\":null,\"muted_glyph\":null,\"nonselection_glyph\":{\"id\":\"5389\",\"type\":\"Circle\"},\"selection_glyph\":null,\"view\":{\"id\":\"5391\",\"type\":\"CDSView\"}},\"id\":\"5390\",\"type\":\"GlyphRenderer\"},{\"attributes\":{},\"id\":\"5341\",\"type\":\"WheelZoomTool\"},{\"attributes\":{\"callback\":null},\"id\":\"5322\",\"type\":\"DataRange1d\"},{\"attributes\":{\"data_source\":{\"id\":\"5371\",\"type\":\"ColumnDataSource\"},\"glyph\":{\"id\":\"5372\",\"type\":\"Line\"},\"hover_glyph\":null,\"muted_glyph\":null,\"nonselection_glyph\":{\"id\":\"5373\",\"type\":\"Line\"},\"selection_glyph\":null,\"view\":{\"id\":\"5375\",\"type\":\"CDSView\"}},\"id\":\"5374\",\"type\":\"GlyphRenderer\"},{\"attributes\":{\"fill_alpha\":{\"value\":0.1},\"fill_color\":{\"value\":\"#1f77b4\"},\"line_alpha\":{\"value\":0.1},\"line_color\":{\"value\":\"#1f77b4\"},\"line_width\":{\"value\":3},\"x\":{\"field\":\"x\"},\"y\":{\"field\":\"y\"}},\"id\":\"5389\",\"type\":\"Circle\"},{\"attributes\":{\"dimension\":1,\"grid_line_alpha\":0.5,\"ticker\":{\"id\":\"5336\",\"type\":\"BasicTicker\"}},\"id\":\"5339\",\"type\":\"Grid\"},{\"attributes\":{},\"id\":\"5343\",\"type\":\"SaveTool\"}],\"root_ids\":[\"5319\"]},\"title\":\"Bokeh Application\",\"version\":\"1.3.4\"}};\n",
       "  var render_items = [{\"docid\":\"cc91447a-1cb5-4737-8538-09661211bf1c\",\"roots\":{\"5319\":\"68a8a0aa-ede2-46cb-9eb3-40e3ba59dcba\"}}];\n",
       "  root.Bokeh.embed.embed_items_notebook(docs_json, render_items);\n",
       "\n",
       "  }\n",
       "  if (root.Bokeh !== undefined) {\n",
       "    embed_document(root);\n",
       "  } else {\n",
       "    var attempts = 0;\n",
       "    var timer = setInterval(function(root) {\n",
       "      if (root.Bokeh !== undefined) {\n",
       "        embed_document(root);\n",
       "        clearInterval(timer);\n",
       "      }\n",
       "      attempts++;\n",
       "      if (attempts > 100) {\n",
       "        console.log(\"Bokeh: ERROR: Unable to run BokehJS code because BokehJS library is missing\");\n",
       "        clearInterval(timer);\n",
       "      }\n",
       "    }, 10, root)\n",
       "  }\n",
       "})(window);"
      ],
      "application/vnd.bokehjs_exec.v0+json": ""
     },
     "metadata": {
      "application/vnd.bokehjs_exec.v0+json": {
       "id": "5319"
      }
     },
     "output_type": "display_data"
    }
   ],
   "source": [
    "# Maternal mortality ratio\n",
    "years = list(map(str, list(range(2000,2018))))\n",
    "result = show_weighted_average(years, 'SH.STA.MMRT', 'SP.POP.TOTL.FE.IN', ['LDCs', 'Developing excluding LDCs'])"
   ]
  },
  {
   "cell_type": "code",
   "execution_count": 19,
   "metadata": {
    "ExecuteTime": {
     "end_time": "2019-10-25T14:25:37.466675Z",
     "start_time": "2019-10-25T14:25:33.236157Z"
    },
    "slideshow": {
     "slide_type": "slide"
    }
   },
   "outputs": [
    {
     "data": {
      "text/html": [
       "\n",
       "\n",
       "\n",
       "\n",
       "\n",
       "\n",
       "  <div class=\"bk-root\" id=\"28859412-2383-4eda-b9ce-87a544d75f14\" data-root-id=\"5725\"></div>\n"
      ]
     },
     "metadata": {},
     "output_type": "display_data"
    },
    {
     "data": {
      "application/javascript": [
       "(function(root) {\n",
       "  function embed_document(root) {\n",
       "    \n",
       "  var docs_json = {\"f2e5fad3-0a50-4f0a-896f-3eab876368c1\":{\"roots\":{\"references\":[{\"attributes\":{\"below\":[{\"id\":\"5736\",\"type\":\"LinearAxis\"}],\"center\":[{\"id\":\"5740\",\"type\":\"Grid\"},{\"id\":\"5745\",\"type\":\"Grid\"},{\"id\":\"5770\",\"type\":\"Legend\"}],\"left\":[{\"id\":\"5741\",\"type\":\"LinearAxis\"}],\"plot_height\":400,\"plot_width\":800,\"renderers\":[{\"id\":\"5762\",\"type\":\"GlyphRenderer\"},{\"id\":\"5775\",\"type\":\"GlyphRenderer\"},{\"id\":\"5780\",\"type\":\"GlyphRenderer\"},{\"id\":\"5796\",\"type\":\"GlyphRenderer\"}],\"title\":{\"id\":\"5726\",\"type\":\"Title\"},\"toolbar\":{\"id\":\"5752\",\"type\":\"Toolbar\"},\"x_range\":{\"id\":\"5728\",\"type\":\"DataRange1d\"},\"x_scale\":{\"id\":\"5732\",\"type\":\"LinearScale\"},\"y_range\":{\"id\":\"5730\",\"type\":\"DataRange1d\"},\"y_scale\":{\"id\":\"5734\",\"type\":\"LinearScale\"}},\"id\":\"5725\",\"subtype\":\"Figure\",\"type\":\"Plot\"},{\"attributes\":{},\"id\":\"5732\",\"type\":\"LinearScale\"},{\"attributes\":{},\"id\":\"5734\",\"type\":\"LinearScale\"},{\"attributes\":{\"source\":{\"id\":\"5759\",\"type\":\"ColumnDataSource\"}},\"id\":\"5763\",\"type\":\"CDSView\"},{\"attributes\":{},\"id\":\"5788\",\"type\":\"Selection\"},{\"attributes\":{\"axis_label\":\"Years\",\"formatter\":{\"id\":\"5767\",\"type\":\"BasicTickFormatter\"},\"ticker\":{\"id\":\"5737\",\"type\":\"BasicTicker\"}},\"id\":\"5736\",\"type\":\"LinearAxis\"},{\"attributes\":{},\"id\":\"5789\",\"type\":\"UnionRenderers\"},{\"attributes\":{},\"id\":\"5765\",\"type\":\"BasicTickFormatter\"},{\"attributes\":{},\"id\":\"5737\",\"type\":\"BasicTicker\"},{\"attributes\":{},\"id\":\"5790\",\"type\":\"Selection\"},{\"attributes\":{\"grid_line_color\":null,\"ticker\":{\"id\":\"5737\",\"type\":\"BasicTicker\"}},\"id\":\"5740\",\"type\":\"Grid\"},{\"attributes\":{},\"id\":\"5791\",\"type\":\"UnionRenderers\"},{\"attributes\":{},\"id\":\"5767\",\"type\":\"BasicTickFormatter\"},{\"attributes\":{\"label\":{\"value\":\"Developing excluding LDCs\"},\"renderers\":[{\"id\":\"5780\",\"type\":\"GlyphRenderer\"}]},\"id\":\"5792\",\"type\":\"LegendItem\"},{\"attributes\":{\"items\":[{\"id\":\"5771\",\"type\":\"LegendItem\"},{\"id\":\"5792\",\"type\":\"LegendItem\"}],\"location\":\"bottom_left\"},\"id\":\"5770\",\"type\":\"Legend\"},{\"attributes\":{},\"id\":\"5742\",\"type\":\"BasicTicker\"},{\"attributes\":{\"callback\":null,\"data\":{\"x\":[\"2000\",\"2001\",\"2002\",\"2003\",\"2004\",\"2005\",\"2006\",\"2007\",\"2008\",\"2009\",\"2010\",\"2011\",\"2012\",\"2013\",\"2014\",\"2015\",\"2016\",\"2017\"],\"y\":[45.758602232258916,44.006185482373866,42.27625112523983,40.52709249788235,38.9627181695033,37.23908287256094,35.71694700311238,34.24378821297313,32.82356542916968,31.505214349340378,30.23549863774606,29.02988830437219,27.850705825641178,26.781110096608014,25.712388491284276,24.682632180401672,23.77423357312919,22.83697035928226]},\"selected\":{\"id\":\"6059\",\"type\":\"Selection\"},\"selection_policy\":{\"id\":\"6060\",\"type\":\"UnionRenderers\"}},\"id\":\"5793\",\"type\":\"ColumnDataSource\"},{\"attributes\":{\"bottom_units\":\"screen\",\"fill_alpha\":{\"value\":0.5},\"fill_color\":{\"value\":\"lightgrey\"},\"left_units\":\"screen\",\"level\":\"overlay\",\"line_alpha\":{\"value\":1.0},\"line_color\":{\"value\":\"black\"},\"line_dash\":[4,4],\"line_width\":{\"value\":2},\"render_mode\":\"css\",\"right_units\":\"screen\",\"top_units\":\"screen\"},\"id\":\"5769\",\"type\":\"BoxAnnotation\"},{\"attributes\":{\"axis_label\":\"SP.DYN.IMRT.IN\",\"formatter\":{\"id\":\"5765\",\"type\":\"BasicTickFormatter\"},\"ticker\":{\"id\":\"5742\",\"type\":\"BasicTicker\"}},\"id\":\"5741\",\"type\":\"LinearAxis\"},{\"attributes\":{\"fill_color\":{\"value\":\"#5430F1\"},\"line_color\":{\"value\":\"#5430F1\"},\"line_width\":{\"value\":3},\"x\":{\"field\":\"x\"},\"y\":{\"field\":\"y\"}},\"id\":\"5794\",\"type\":\"Circle\"},{\"attributes\":{\"label\":{\"value\":\"LDCs\"},\"renderers\":[{\"id\":\"5762\",\"type\":\"GlyphRenderer\"}]},\"id\":\"5771\",\"type\":\"LegendItem\"},{\"attributes\":{\"dimension\":1,\"grid_line_alpha\":0.5,\"ticker\":{\"id\":\"5742\",\"type\":\"BasicTicker\"}},\"id\":\"5745\",\"type\":\"Grid\"},{\"attributes\":{\"fill_alpha\":{\"value\":0.1},\"fill_color\":{\"value\":\"#1f77b4\"},\"line_alpha\":{\"value\":0.1},\"line_color\":{\"value\":\"#1f77b4\"},\"line_width\":{\"value\":3},\"x\":{\"field\":\"x\"},\"y\":{\"field\":\"y\"}},\"id\":\"5795\",\"type\":\"Circle\"},{\"attributes\":{\"fill_color\":{\"value\":\"#FA1857\"},\"line_color\":{\"value\":\"#FA1857\"},\"line_width\":{\"value\":3},\"x\":{\"field\":\"x\"},\"y\":{\"field\":\"y\"}},\"id\":\"5773\",\"type\":\"Circle\"},{\"attributes\":{\"data_source\":{\"id\":\"5793\",\"type\":\"ColumnDataSource\"},\"glyph\":{\"id\":\"5794\",\"type\":\"Circle\"},\"hover_glyph\":null,\"muted_glyph\":null,\"nonselection_glyph\":{\"id\":\"5795\",\"type\":\"Circle\"},\"selection_glyph\":null,\"view\":{\"id\":\"5797\",\"type\":\"CDSView\"}},\"id\":\"5796\",\"type\":\"GlyphRenderer\"},{\"attributes\":{\"line_color\":\"#FA1857\",\"x\":{\"field\":\"x\"},\"y\":{\"field\":\"y\"}},\"id\":\"5760\",\"type\":\"Line\"},{\"attributes\":{\"callback\":null,\"data\":{\"x\":[\"2000\",\"2001\",\"2002\",\"2003\",\"2004\",\"2005\",\"2006\",\"2007\",\"2008\",\"2009\",\"2010\",\"2011\",\"2012\",\"2013\",\"2014\",\"2015\",\"2016\",\"2017\"],\"y\":[82.70759690380814,79.73629371086803,76.70131956567673,73.71454770622205,70.80686638940736,68.02122954765979,65.41417889354649,62.8514871260428,60.69956279939264,58.17600443643168,56.34077865781633,53.92638955415337,52.0577982516888,50.28482276049278,48.62932090980866,47.09117150486615,45.62733787270465,44.21599634272751]},\"selected\":{\"id\":\"5790\",\"type\":\"Selection\"},\"selection_policy\":{\"id\":\"5791\",\"type\":\"UnionRenderers\"}},\"id\":\"5772\",\"type\":\"ColumnDataSource\"},{\"attributes\":{\"source\":{\"id\":\"5793\",\"type\":\"ColumnDataSource\"}},\"id\":\"5797\",\"type\":\"CDSView\"},{\"attributes\":{},\"id\":\"5746\",\"type\":\"PanTool\"},{\"attributes\":{\"fill_alpha\":{\"value\":0.1},\"fill_color\":{\"value\":\"#1f77b4\"},\"line_alpha\":{\"value\":0.1},\"line_color\":{\"value\":\"#1f77b4\"},\"line_width\":{\"value\":3},\"x\":{\"field\":\"x\"},\"y\":{\"field\":\"y\"}},\"id\":\"5774\",\"type\":\"Circle\"},{\"attributes\":{\"line_alpha\":0.1,\"line_color\":\"#1f77b4\",\"x\":{\"field\":\"x\"},\"y\":{\"field\":\"y\"}},\"id\":\"5761\",\"type\":\"Line\"},{\"attributes\":{\"callback\":null,\"data\":{\"x\":[\"2000\",\"2001\",\"2002\",\"2003\",\"2004\",\"2005\",\"2006\",\"2007\",\"2008\",\"2009\",\"2010\",\"2011\",\"2012\",\"2013\",\"2014\",\"2015\",\"2016\",\"2017\"],\"y\":[82.70759690380814,79.73629371086803,76.70131956567673,73.71454770622205,70.80686638940736,68.02122954765979,65.41417889354649,62.8514871260428,60.69956279939264,58.17600443643168,56.34077865781633,53.92638955415337,52.0577982516888,50.28482276049278,48.62932090980866,47.09117150486615,45.62733787270465,44.21599634272751]},\"selected\":{\"id\":\"5788\",\"type\":\"Selection\"},\"selection_policy\":{\"id\":\"5789\",\"type\":\"UnionRenderers\"}},\"id\":\"5759\",\"type\":\"ColumnDataSource\"},{\"attributes\":{\"source\":{\"id\":\"5772\",\"type\":\"ColumnDataSource\"}},\"id\":\"5776\",\"type\":\"CDSView\"},{\"attributes\":{},\"id\":\"6057\",\"type\":\"Selection\"},{\"attributes\":{},\"id\":\"5747\",\"type\":\"WheelZoomTool\"},{\"attributes\":{\"data_source\":{\"id\":\"5772\",\"type\":\"ColumnDataSource\"},\"glyph\":{\"id\":\"5773\",\"type\":\"Circle\"},\"hover_glyph\":null,\"muted_glyph\":null,\"nonselection_glyph\":{\"id\":\"5774\",\"type\":\"Circle\"},\"selection_glyph\":null,\"view\":{\"id\":\"5776\",\"type\":\"CDSView\"}},\"id\":\"5775\",\"type\":\"GlyphRenderer\"},{\"attributes\":{},\"id\":\"6058\",\"type\":\"UnionRenderers\"},{\"attributes\":{},\"id\":\"5749\",\"type\":\"SaveTool\"},{\"attributes\":{\"callback\":null,\"data\":{\"x\":[\"2000\",\"2001\",\"2002\",\"2003\",\"2004\",\"2005\",\"2006\",\"2007\",\"2008\",\"2009\",\"2010\",\"2011\",\"2012\",\"2013\",\"2014\",\"2015\",\"2016\",\"2017\"],\"y\":[45.758602232258916,44.006185482373866,42.27625112523983,40.52709249788235,38.9627181695033,37.23908287256094,35.71694700311238,34.24378821297313,32.82356542916968,31.505214349340378,30.23549863774606,29.02988830437219,27.850705825641178,26.781110096608014,25.712388491284276,24.682632180401672,23.77423357312919,22.83697035928226]},\"selected\":{\"id\":\"6057\",\"type\":\"Selection\"},\"selection_policy\":{\"id\":\"6058\",\"type\":\"UnionRenderers\"}},\"id\":\"5777\",\"type\":\"ColumnDataSource\"},{\"attributes\":{},\"id\":\"6059\",\"type\":\"Selection\"},{\"attributes\":{\"overlay\":{\"id\":\"5769\",\"type\":\"BoxAnnotation\"}},\"id\":\"5748\",\"type\":\"BoxZoomTool\"},{\"attributes\":{\"callback\":null,\"tooltips\":\"                \\n        <div style=padding=5px>Year:@x</div>\\n        <div style=padding=5px>Value:@y</div>        \\n        \"},\"id\":\"5798\",\"type\":\"HoverTool\"},{\"attributes\":{\"line_alpha\":0.1,\"line_color\":\"#1f77b4\",\"x\":{\"field\":\"x\"},\"y\":{\"field\":\"y\"}},\"id\":\"5779\",\"type\":\"Line\"},{\"attributes\":{},\"id\":\"6060\",\"type\":\"UnionRenderers\"},{\"attributes\":{\"text\":\"Mortality rate, infant (per 1,000 live births) weighted against Population, total\"},\"id\":\"5726\",\"type\":\"Title\"},{\"attributes\":{},\"id\":\"5750\",\"type\":\"ResetTool\"},{\"attributes\":{\"line_color\":\"#5430F1\",\"x\":{\"field\":\"x\"},\"y\":{\"field\":\"y\"}},\"id\":\"5778\",\"type\":\"Line\"},{\"attributes\":{\"callback\":null},\"id\":\"5728\",\"type\":\"DataRange1d\"},{\"attributes\":{\"active_drag\":\"auto\",\"active_inspect\":\"auto\",\"active_multi\":null,\"active_scroll\":\"auto\",\"active_tap\":\"auto\",\"tools\":[{\"id\":\"5746\",\"type\":\"PanTool\"},{\"id\":\"5747\",\"type\":\"WheelZoomTool\"},{\"id\":\"5748\",\"type\":\"BoxZoomTool\"},{\"id\":\"5749\",\"type\":\"SaveTool\"},{\"id\":\"5750\",\"type\":\"ResetTool\"},{\"id\":\"5751\",\"type\":\"HelpTool\"},{\"id\":\"5798\",\"type\":\"HoverTool\"}]},\"id\":\"5752\",\"type\":\"Toolbar\"},{\"attributes\":{\"data_source\":{\"id\":\"5777\",\"type\":\"ColumnDataSource\"},\"glyph\":{\"id\":\"5778\",\"type\":\"Line\"},\"hover_glyph\":null,\"muted_glyph\":null,\"nonselection_glyph\":{\"id\":\"5779\",\"type\":\"Line\"},\"selection_glyph\":null,\"view\":{\"id\":\"5781\",\"type\":\"CDSView\"}},\"id\":\"5780\",\"type\":\"GlyphRenderer\"},{\"attributes\":{\"callback\":null},\"id\":\"5730\",\"type\":\"DataRange1d\"},{\"attributes\":{},\"id\":\"5751\",\"type\":\"HelpTool\"},{\"attributes\":{\"source\":{\"id\":\"5777\",\"type\":\"ColumnDataSource\"}},\"id\":\"5781\",\"type\":\"CDSView\"},{\"attributes\":{\"data_source\":{\"id\":\"5759\",\"type\":\"ColumnDataSource\"},\"glyph\":{\"id\":\"5760\",\"type\":\"Line\"},\"hover_glyph\":null,\"muted_glyph\":null,\"nonselection_glyph\":{\"id\":\"5761\",\"type\":\"Line\"},\"selection_glyph\":null,\"view\":{\"id\":\"5763\",\"type\":\"CDSView\"}},\"id\":\"5762\",\"type\":\"GlyphRenderer\"}],\"root_ids\":[\"5725\"]},\"title\":\"Bokeh Application\",\"version\":\"1.3.4\"}};\n",
       "  var render_items = [{\"docid\":\"f2e5fad3-0a50-4f0a-896f-3eab876368c1\",\"roots\":{\"5725\":\"28859412-2383-4eda-b9ce-87a544d75f14\"}}];\n",
       "  root.Bokeh.embed.embed_items_notebook(docs_json, render_items);\n",
       "\n",
       "  }\n",
       "  if (root.Bokeh !== undefined) {\n",
       "    embed_document(root);\n",
       "  } else {\n",
       "    var attempts = 0;\n",
       "    var timer = setInterval(function(root) {\n",
       "      if (root.Bokeh !== undefined) {\n",
       "        embed_document(root);\n",
       "        clearInterval(timer);\n",
       "      }\n",
       "      attempts++;\n",
       "      if (attempts > 100) {\n",
       "        console.log(\"Bokeh: ERROR: Unable to run BokehJS code because BokehJS library is missing\");\n",
       "        clearInterval(timer);\n",
       "      }\n",
       "    }, 10, root)\n",
       "  }\n",
       "})(window);"
      ],
      "application/vnd.bokehjs_exec.v0+json": ""
     },
     "metadata": {
      "application/vnd.bokehjs_exec.v0+json": {
       "id": "5725"
      }
     },
     "output_type": "display_data"
    }
   ],
   "source": [
    "# Infant mortality rate\n",
    "years = list(map(str, list(range(2000,2018))))\n",
    "result = show_weighted_average(years, 'SP.DYN.IMRT.IN', 'SP.POP.TOTL', ['LDCs', 'Developing excluding LDCs'])"
   ]
  },
  {
   "cell_type": "markdown",
   "metadata": {
    "slideshow": {
     "slide_type": "slide"
    }
   },
   "source": [
    "# Education and training"
   ]
  },
  {
   "cell_type": "code",
   "execution_count": 42,
   "metadata": {
    "slideshow": {
     "slide_type": "slide"
    }
   },
   "outputs": [
    {
     "data": {
      "text/html": [
       "\n",
       "\n",
       "\n",
       "\n",
       "\n",
       "\n",
       "  <div class=\"bk-root\" id=\"6e181308-2743-475c-98a3-313a82401172\" data-root-id=\"19433\"></div>\n"
      ]
     },
     "metadata": {},
     "output_type": "display_data"
    },
    {
     "data": {
      "application/javascript": [
       "(function(root) {\n",
       "  function embed_document(root) {\n",
       "    \n",
       "  var docs_json = {\"bf39c7ae-94d9-4041-bbe5-00362c296b4a\":{\"roots\":{\"references\":[{\"attributes\":{\"below\":[{\"id\":\"19444\",\"type\":\"LinearAxis\"}],\"center\":[{\"id\":\"19448\",\"type\":\"Grid\"},{\"id\":\"19453\",\"type\":\"Grid\"},{\"id\":\"19478\",\"type\":\"Legend\"}],\"left\":[{\"id\":\"19449\",\"type\":\"LinearAxis\"}],\"plot_height\":400,\"plot_width\":800,\"renderers\":[{\"id\":\"19470\",\"type\":\"GlyphRenderer\"},{\"id\":\"19483\",\"type\":\"GlyphRenderer\"}],\"title\":{\"id\":\"19434\",\"type\":\"Title\"},\"toolbar\":{\"id\":\"19460\",\"type\":\"Toolbar\"},\"x_range\":{\"id\":\"19436\",\"type\":\"DataRange1d\"},\"x_scale\":{\"id\":\"19440\",\"type\":\"LinearScale\"},\"y_range\":{\"id\":\"19438\",\"type\":\"DataRange1d\"},\"y_scale\":{\"id\":\"19442\",\"type\":\"LinearScale\"}},\"id\":\"19433\",\"subtype\":\"Figure\",\"type\":\"Plot\"},{\"attributes\":{},\"id\":\"20104\",\"type\":\"Selection\"},{\"attributes\":{\"axis_label\":\"Years\",\"formatter\":{\"id\":\"19475\",\"type\":\"BasicTickFormatter\"},\"ticker\":{\"id\":\"19445\",\"type\":\"BasicTicker\"}},\"id\":\"19444\",\"type\":\"LinearAxis\"},{\"attributes\":{},\"id\":\"19473\",\"type\":\"BasicTickFormatter\"},{\"attributes\":{\"source\":{\"id\":\"19467\",\"type\":\"ColumnDataSource\"}},\"id\":\"19471\",\"type\":\"CDSView\"},{\"attributes\":{\"active_drag\":\"auto\",\"active_inspect\":\"auto\",\"active_multi\":null,\"active_scroll\":\"auto\",\"active_tap\":\"auto\",\"tools\":[{\"id\":\"19454\",\"type\":\"PanTool\"},{\"id\":\"19455\",\"type\":\"WheelZoomTool\"},{\"id\":\"19456\",\"type\":\"BoxZoomTool\"},{\"id\":\"19457\",\"type\":\"SaveTool\"},{\"id\":\"19458\",\"type\":\"ResetTool\"},{\"id\":\"19459\",\"type\":\"HelpTool\"},{\"id\":\"19485\",\"type\":\"HoverTool\"}]},\"id\":\"19460\",\"type\":\"Toolbar\"},{\"attributes\":{},\"id\":\"19475\",\"type\":\"BasicTickFormatter\"},{\"attributes\":{\"callback\":null,\"tooltips\":\"                \\n        <div style=padding=5px>Year:@x</div>\\n        <div style=padding=5px>Value:@y</div>        \\n        \"},\"id\":\"19485\",\"type\":\"HoverTool\"},{\"attributes\":{},\"id\":\"20105\",\"type\":\"UnionRenderers\"},{\"attributes\":{},\"id\":\"19458\",\"type\":\"ResetTool\"},{\"attributes\":{},\"id\":\"19440\",\"type\":\"LinearScale\"},{\"attributes\":{},\"id\":\"19454\",\"type\":\"PanTool\"},{\"attributes\":{},\"id\":\"19457\",\"type\":\"SaveTool\"},{\"attributes\":{},\"id\":\"19459\",\"type\":\"HelpTool\"},{\"attributes\":{\"callback\":null},\"id\":\"19438\",\"type\":\"DataRange1d\"},{\"attributes\":{\"line_color\":\"#FA1857\",\"x\":{\"field\":\"x\"},\"y\":{\"field\":\"y\"}},\"id\":\"19468\",\"type\":\"Line\"},{\"attributes\":{\"overlay\":{\"id\":\"19477\",\"type\":\"BoxAnnotation\"}},\"id\":\"19456\",\"type\":\"BoxZoomTool\"},{\"attributes\":{\"text\":\"School enrollment, primary (% gross) weighted against Population, total\"},\"id\":\"19434\",\"type\":\"Title\"},{\"attributes\":{},\"id\":\"20107\",\"type\":\"UnionRenderers\"},{\"attributes\":{\"axis_label\":\"SE.PRM.ENRR\",\"formatter\":{\"id\":\"19473\",\"type\":\"BasicTickFormatter\"},\"ticker\":{\"id\":\"19450\",\"type\":\"BasicTicker\"}},\"id\":\"19449\",\"type\":\"LinearAxis\"},{\"attributes\":{},\"id\":\"20106\",\"type\":\"Selection\"},{\"attributes\":{\"bottom_units\":\"screen\",\"fill_alpha\":{\"value\":0.5},\"fill_color\":{\"value\":\"lightgrey\"},\"left_units\":\"screen\",\"level\":\"overlay\",\"line_alpha\":{\"value\":1.0},\"line_color\":{\"value\":\"black\"},\"line_dash\":[4,4],\"line_width\":{\"value\":2},\"render_mode\":\"css\",\"right_units\":\"screen\",\"top_units\":\"screen\"},\"id\":\"19477\",\"type\":\"BoxAnnotation\"},{\"attributes\":{\"data_source\":{\"id\":\"19467\",\"type\":\"ColumnDataSource\"},\"glyph\":{\"id\":\"19468\",\"type\":\"Line\"},\"hover_glyph\":null,\"muted_glyph\":null,\"nonselection_glyph\":{\"id\":\"19469\",\"type\":\"Line\"},\"selection_glyph\":null,\"view\":{\"id\":\"19471\",\"type\":\"CDSView\"}},\"id\":\"19470\",\"type\":\"GlyphRenderer\"},{\"attributes\":{},\"id\":\"19455\",\"type\":\"WheelZoomTool\"},{\"attributes\":{\"callback\":null,\"data\":{\"x\":[\"2010\",\"2011\",\"2012\",\"2013\",\"2014\",\"2015\",\"2016\",\"2017\"],\"y\":[103.51888884075998,103.84465214472975,104.18252959770884,105.94347397276762,104.37114022753947,104.33578807060616,103.8640406838448,103.68177991550498]},\"selected\":{\"id\":\"20104\",\"type\":\"Selection\"},\"selection_policy\":{\"id\":\"20105\",\"type\":\"UnionRenderers\"}},\"id\":\"19467\",\"type\":\"ColumnDataSource\"},{\"attributes\":{},\"id\":\"19450\",\"type\":\"BasicTicker\"},{\"attributes\":{\"items\":[{\"id\":\"19479\",\"type\":\"LegendItem\"}],\"location\":\"bottom_left\"},\"id\":\"19478\",\"type\":\"Legend\"},{\"attributes\":{\"grid_line_color\":null,\"ticker\":{\"id\":\"19445\",\"type\":\"BasicTicker\"}},\"id\":\"19448\",\"type\":\"Grid\"},{\"attributes\":{\"line_alpha\":0.1,\"line_color\":\"#1f77b4\",\"x\":{\"field\":\"x\"},\"y\":{\"field\":\"y\"}},\"id\":\"19469\",\"type\":\"Line\"},{\"attributes\":{\"label\":{\"value\":\"LDCs\"},\"renderers\":[{\"id\":\"19470\",\"type\":\"GlyphRenderer\"}]},\"id\":\"19479\",\"type\":\"LegendItem\"},{\"attributes\":{\"callback\":null,\"data\":{\"x\":[\"2010\",\"2011\",\"2012\",\"2013\",\"2014\",\"2015\",\"2016\",\"2017\"],\"y\":[103.51888884075998,103.84465214472975,104.18252959770884,105.94347397276762,104.37114022753947,104.33578807060616,103.8640406838448,103.68177991550498]},\"selected\":{\"id\":\"20106\",\"type\":\"Selection\"},\"selection_policy\":{\"id\":\"20107\",\"type\":\"UnionRenderers\"}},\"id\":\"19480\",\"type\":\"ColumnDataSource\"},{\"attributes\":{\"dimension\":1,\"grid_line_alpha\":0.5,\"ticker\":{\"id\":\"19450\",\"type\":\"BasicTicker\"}},\"id\":\"19453\",\"type\":\"Grid\"},{\"attributes\":{\"callback\":null},\"id\":\"19436\",\"type\":\"DataRange1d\"},{\"attributes\":{\"data_source\":{\"id\":\"19480\",\"type\":\"ColumnDataSource\"},\"glyph\":{\"id\":\"19481\",\"type\":\"Circle\"},\"hover_glyph\":null,\"muted_glyph\":null,\"nonselection_glyph\":{\"id\":\"19482\",\"type\":\"Circle\"},\"selection_glyph\":null,\"view\":{\"id\":\"19484\",\"type\":\"CDSView\"}},\"id\":\"19483\",\"type\":\"GlyphRenderer\"},{\"attributes\":{},\"id\":\"19445\",\"type\":\"BasicTicker\"},{\"attributes\":{\"fill_alpha\":{\"value\":0.1},\"fill_color\":{\"value\":\"#1f77b4\"},\"line_alpha\":{\"value\":0.1},\"line_color\":{\"value\":\"#1f77b4\"},\"line_width\":{\"value\":3},\"x\":{\"field\":\"x\"},\"y\":{\"field\":\"y\"}},\"id\":\"19482\",\"type\":\"Circle\"},{\"attributes\":{},\"id\":\"19442\",\"type\":\"LinearScale\"},{\"attributes\":{\"fill_color\":{\"value\":\"#FA1857\"},\"line_color\":{\"value\":\"#FA1857\"},\"line_width\":{\"value\":3},\"x\":{\"field\":\"x\"},\"y\":{\"field\":\"y\"}},\"id\":\"19481\",\"type\":\"Circle\"},{\"attributes\":{\"source\":{\"id\":\"19480\",\"type\":\"ColumnDataSource\"}},\"id\":\"19484\",\"type\":\"CDSView\"}],\"root_ids\":[\"19433\"]},\"title\":\"Bokeh Application\",\"version\":\"1.3.4\"}};\n",
       "  var render_items = [{\"docid\":\"bf39c7ae-94d9-4041-bbe5-00362c296b4a\",\"roots\":{\"19433\":\"6e181308-2743-475c-98a3-313a82401172\"}}];\n",
       "  root.Bokeh.embed.embed_items_notebook(docs_json, render_items);\n",
       "\n",
       "  }\n",
       "  if (root.Bokeh !== undefined) {\n",
       "    embed_document(root);\n",
       "  } else {\n",
       "    var attempts = 0;\n",
       "    var timer = setInterval(function(root) {\n",
       "      if (root.Bokeh !== undefined) {\n",
       "        embed_document(root);\n",
       "        clearInterval(timer);\n",
       "      }\n",
       "      attempts++;\n",
       "      if (attempts > 100) {\n",
       "        console.log(\"Bokeh: ERROR: Unable to run BokehJS code because BokehJS library is missing\");\n",
       "        clearInterval(timer);\n",
       "      }\n",
       "    }, 10, root)\n",
       "  }\n",
       "})(window);"
      ],
      "application/vnd.bokehjs_exec.v0+json": ""
     },
     "metadata": {
      "application/vnd.bokehjs_exec.v0+json": {
       "id": "19433"
      }
     },
     "output_type": "display_data"
    }
   ],
   "source": [
    "# School enrollment, primary\n",
    "years = ['2011', '2014', '2016']\n",
    "result = show_weighted_average(years, 'SE.PRM.ENRR', 'SP.POP.TOTL', \n",
    "                               ['LDCs'])"
   ]
  },
  {
   "cell_type": "code",
   "execution_count": 43,
   "metadata": {
    "slideshow": {
     "slide_type": "slide"
    }
   },
   "outputs": [
    {
     "data": {
      "text/html": [
       "\n",
       "\n",
       "\n",
       "\n",
       "\n",
       "\n",
       "  <div class=\"bk-root\" id=\"cbb79201-850d-41c0-8ada-087af6ad1fcf\" data-root-id=\"20168\"></div>\n"
      ]
     },
     "metadata": {},
     "output_type": "display_data"
    },
    {
     "data": {
      "application/javascript": [
       "(function(root) {\n",
       "  function embed_document(root) {\n",
       "    \n",
       "  var docs_json = {\"f644a2de-6475-4227-81c9-718b39dfa0e4\":{\"roots\":{\"references\":[{\"attributes\":{\"below\":[{\"id\":\"20179\",\"type\":\"LinearAxis\"}],\"center\":[{\"id\":\"20183\",\"type\":\"Grid\"},{\"id\":\"20188\",\"type\":\"Grid\"},{\"id\":\"20213\",\"type\":\"Legend\"}],\"left\":[{\"id\":\"20184\",\"type\":\"LinearAxis\"}],\"plot_height\":400,\"plot_width\":800,\"renderers\":[{\"id\":\"20205\",\"type\":\"GlyphRenderer\"},{\"id\":\"20218\",\"type\":\"GlyphRenderer\"},{\"id\":\"20223\",\"type\":\"GlyphRenderer\"},{\"id\":\"20239\",\"type\":\"GlyphRenderer\"},{\"id\":\"20244\",\"type\":\"GlyphRenderer\"},{\"id\":\"20264\",\"type\":\"GlyphRenderer\"}],\"title\":{\"id\":\"20169\",\"type\":\"Title\"},\"toolbar\":{\"id\":\"20195\",\"type\":\"Toolbar\"},\"x_range\":{\"id\":\"20171\",\"type\":\"DataRange1d\"},\"x_scale\":{\"id\":\"20175\",\"type\":\"LinearScale\"},\"y_range\":{\"id\":\"20173\",\"type\":\"DataRange1d\"},\"y_scale\":{\"id\":\"20177\",\"type\":\"LinearScale\"}},\"id\":\"20168\",\"subtype\":\"Figure\",\"type\":\"Plot\"},{\"attributes\":{},\"id\":\"20185\",\"type\":\"BasicTicker\"},{\"attributes\":{\"fill_color\":{\"value\":\"#FA1857\"},\"line_color\":{\"value\":\"#FA1857\"},\"line_width\":{\"value\":3},\"x\":{\"field\":\"x\"},\"y\":{\"field\":\"y\"}},\"id\":\"20216\",\"type\":\"Circle\"},{\"attributes\":{\"data_source\":{\"id\":\"20241\",\"type\":\"ColumnDataSource\"},\"glyph\":{\"id\":\"20242\",\"type\":\"Line\"},\"hover_glyph\":null,\"muted_glyph\":null,\"nonselection_glyph\":{\"id\":\"20243\",\"type\":\"Line\"},\"selection_glyph\":null,\"view\":{\"id\":\"20245\",\"type\":\"CDSView\"}},\"id\":\"20244\",\"type\":\"GlyphRenderer\"},{\"attributes\":{\"callback\":null,\"tooltips\":\"                \\n        <div style=padding=5px>Year:@x</div>\\n        <div style=padding=5px>Value:@y</div>        \\n        \"},\"id\":\"20266\",\"type\":\"HoverTool\"},{\"attributes\":{\"data_source\":{\"id\":\"20236\",\"type\":\"ColumnDataSource\"},\"glyph\":{\"id\":\"20237\",\"type\":\"Circle\"},\"hover_glyph\":null,\"muted_glyph\":null,\"nonselection_glyph\":{\"id\":\"20238\",\"type\":\"Circle\"},\"selection_glyph\":null,\"view\":{\"id\":\"20240\",\"type\":\"CDSView\"}},\"id\":\"20239\",\"type\":\"GlyphRenderer\"},{\"attributes\":{\"data_source\":{\"id\":\"20261\",\"type\":\"ColumnDataSource\"},\"glyph\":{\"id\":\"20262\",\"type\":\"Circle\"},\"hover_glyph\":null,\"muted_glyph\":null,\"nonselection_glyph\":{\"id\":\"20263\",\"type\":\"Circle\"},\"selection_glyph\":null,\"view\":{\"id\":\"20265\",\"type\":\"CDSView\"}},\"id\":\"20264\",\"type\":\"GlyphRenderer\"},{\"attributes\":{\"data_source\":{\"id\":\"20220\",\"type\":\"ColumnDataSource\"},\"glyph\":{\"id\":\"20221\",\"type\":\"Line\"},\"hover_glyph\":null,\"muted_glyph\":null,\"nonselection_glyph\":{\"id\":\"20222\",\"type\":\"Line\"},\"selection_glyph\":null,\"view\":{\"id\":\"20224\",\"type\":\"CDSView\"}},\"id\":\"20223\",\"type\":\"GlyphRenderer\"},{\"attributes\":{\"text\":\"School enrollment, secondary (% gross) weighted against Population, total\"},\"id\":\"20169\",\"type\":\"Title\"},{\"attributes\":{\"line_alpha\":0.1,\"line_color\":\"#1f77b4\",\"x\":{\"field\":\"x\"},\"y\":{\"field\":\"y\"}},\"id\":\"20243\",\"type\":\"Line\"},{\"attributes\":{\"source\":{\"id\":\"20241\",\"type\":\"ColumnDataSource\"}},\"id\":\"20245\",\"type\":\"CDSView\"},{\"attributes\":{\"callback\":null,\"data\":{\"x\":[\"2010\",\"2011\",\"2012\",\"2013\",\"2014\",\"2015\",\"2016\",\"2017\"],\"y\":[40.71979156217991,41.08937602701584,43.54367808429187,48.02763417723285,42.97302655987665,45.77221151940908,51.781966052740714,52.216689130724404]},\"selected\":{\"id\":\"20231\",\"type\":\"Selection\"},\"selection_policy\":{\"id\":\"20232\",\"type\":\"UnionRenderers\"}},\"id\":\"20202\",\"type\":\"ColumnDataSource\"},{\"attributes\":{},\"id\":\"20906\",\"type\":\"UnionRenderers\"},{\"attributes\":{\"fill_alpha\":{\"value\":0.1},\"fill_color\":{\"value\":\"#1f77b4\"},\"line_alpha\":{\"value\":0.1},\"line_color\":{\"value\":\"#1f77b4\"},\"line_width\":{\"value\":3},\"x\":{\"field\":\"x\"},\"y\":{\"field\":\"y\"}},\"id\":\"20238\",\"type\":\"Circle\"},{\"attributes\":{},\"id\":\"20258\",\"type\":\"Selection\"},{\"attributes\":{},\"id\":\"20175\",\"type\":\"LinearScale\"},{\"attributes\":{\"line_alpha\":0.1,\"line_color\":\"#1f77b4\",\"x\":{\"field\":\"x\"},\"y\":{\"field\":\"y\"}},\"id\":\"20222\",\"type\":\"Line\"},{\"attributes\":{},\"id\":\"20904\",\"type\":\"UnionRenderers\"},{\"attributes\":{\"grid_line_color\":null,\"ticker\":{\"id\":\"20180\",\"type\":\"BasicTicker\"}},\"id\":\"20183\",\"type\":\"Grid\"},{\"attributes\":{\"axis_label\":\"SE.SEC.ENRR\",\"formatter\":{\"id\":\"20208\",\"type\":\"BasicTickFormatter\"},\"ticker\":{\"id\":\"20185\",\"type\":\"BasicTicker\"}},\"id\":\"20184\",\"type\":\"LinearAxis\"},{\"attributes\":{},\"id\":\"20256\",\"type\":\"Selection\"},{\"attributes\":{},\"id\":\"20233\",\"type\":\"Selection\"},{\"attributes\":{\"callback\":null},\"id\":\"20173\",\"type\":\"DataRange1d\"},{\"attributes\":{\"axis_label\":\"Years\",\"formatter\":{\"id\":\"20210\",\"type\":\"BasicTickFormatter\"},\"ticker\":{\"id\":\"20180\",\"type\":\"BasicTicker\"}},\"id\":\"20179\",\"type\":\"LinearAxis\"},{\"attributes\":{\"label\":{\"value\":\"UMICs\"},\"renderers\":[{\"id\":\"20244\",\"type\":\"GlyphRenderer\"}]},\"id\":\"20260\",\"type\":\"LegendItem\"},{\"attributes\":{},\"id\":\"20905\",\"type\":\"Selection\"},{\"attributes\":{\"callback\":null,\"data\":{\"x\":[\"2010\",\"2011\",\"2012\",\"2013\",\"2014\",\"2015\",\"2016\",\"2017\"],\"y\":[88.71326377717656,92.294893020403,92.4176613275317,96.51503896248411,100.42272694876223,101.68265319416062,102.17655795238042,102.51696792001233]},\"selected\":{\"id\":\"20905\",\"type\":\"Selection\"},\"selection_policy\":{\"id\":\"20906\",\"type\":\"UnionRenderers\"}},\"id\":\"20261\",\"type\":\"ColumnDataSource\"},{\"attributes\":{},\"id\":\"20189\",\"type\":\"PanTool\"},{\"attributes\":{\"line_color\":\"#2CC775\",\"x\":{\"field\":\"x\"},\"y\":{\"field\":\"y\"}},\"id\":\"20242\",\"type\":\"Line\"},{\"attributes\":{},\"id\":\"20180\",\"type\":\"BasicTicker\"},{\"attributes\":{\"fill_color\":{\"value\":\"#2CC775\"},\"line_color\":{\"value\":\"#2CC775\"},\"line_width\":{\"value\":3},\"x\":{\"field\":\"x\"},\"y\":{\"field\":\"y\"}},\"id\":\"20262\",\"type\":\"Circle\"},{\"attributes\":{},\"id\":\"20234\",\"type\":\"UnionRenderers\"},{\"attributes\":{\"label\":{\"value\":\"LDCs\"},\"renderers\":[{\"id\":\"20205\",\"type\":\"GlyphRenderer\"}]},\"id\":\"20214\",\"type\":\"LegendItem\"},{\"attributes\":{\"callback\":null,\"data\":{\"x\":[\"2010\",\"2011\",\"2012\",\"2013\",\"2014\",\"2015\",\"2016\",\"2017\"],\"y\":[74.90445017276772,71.75112419736351,72.57689927409001,74.90223534335082,78.63755961560692,78.89055784854993,79.39678018088793,81.36778617876334]},\"selected\":{\"id\":\"20256\",\"type\":\"Selection\"},\"selection_policy\":{\"id\":\"20257\",\"type\":\"UnionRenderers\"}},\"id\":\"20220\",\"type\":\"ColumnDataSource\"},{\"attributes\":{\"line_alpha\":0.1,\"line_color\":\"#1f77b4\",\"x\":{\"field\":\"x\"},\"y\":{\"field\":\"y\"}},\"id\":\"20204\",\"type\":\"Line\"},{\"attributes\":{},\"id\":\"20210\",\"type\":\"BasicTickFormatter\"},{\"attributes\":{},\"id\":\"20177\",\"type\":\"LinearScale\"},{\"attributes\":{},\"id\":\"20257\",\"type\":\"UnionRenderers\"},{\"attributes\":{\"data_source\":{\"id\":\"20202\",\"type\":\"ColumnDataSource\"},\"glyph\":{\"id\":\"20203\",\"type\":\"Line\"},\"hover_glyph\":null,\"muted_glyph\":null,\"nonselection_glyph\":{\"id\":\"20204\",\"type\":\"Line\"},\"selection_glyph\":null,\"view\":{\"id\":\"20206\",\"type\":\"CDSView\"}},\"id\":\"20205\",\"type\":\"GlyphRenderer\"},{\"attributes\":{},\"id\":\"20192\",\"type\":\"SaveTool\"},{\"attributes\":{\"label\":{\"value\":\"Developing excluding LDCs\"},\"renderers\":[{\"id\":\"20223\",\"type\":\"GlyphRenderer\"}]},\"id\":\"20235\",\"type\":\"LegendItem\"},{\"attributes\":{},\"id\":\"20194\",\"type\":\"HelpTool\"},{\"attributes\":{\"source\":{\"id\":\"20236\",\"type\":\"ColumnDataSource\"}},\"id\":\"20240\",\"type\":\"CDSView\"},{\"attributes\":{\"source\":{\"id\":\"20261\",\"type\":\"ColumnDataSource\"}},\"id\":\"20265\",\"type\":\"CDSView\"},{\"attributes\":{\"bottom_units\":\"screen\",\"fill_alpha\":{\"value\":0.5},\"fill_color\":{\"value\":\"lightgrey\"},\"left_units\":\"screen\",\"level\":\"overlay\",\"line_alpha\":{\"value\":1.0},\"line_color\":{\"value\":\"black\"},\"line_dash\":[4,4],\"line_width\":{\"value\":2},\"render_mode\":\"css\",\"right_units\":\"screen\",\"top_units\":\"screen\"},\"id\":\"20212\",\"type\":\"BoxAnnotation\"},{\"attributes\":{\"dimension\":1,\"grid_line_alpha\":0.5,\"ticker\":{\"id\":\"20185\",\"type\":\"BasicTicker\"}},\"id\":\"20188\",\"type\":\"Grid\"},{\"attributes\":{\"overlay\":{\"id\":\"20212\",\"type\":\"BoxAnnotation\"}},\"id\":\"20191\",\"type\":\"BoxZoomTool\"},{\"attributes\":{\"line_color\":\"#FA1857\",\"x\":{\"field\":\"x\"},\"y\":{\"field\":\"y\"}},\"id\":\"20203\",\"type\":\"Line\"},{\"attributes\":{\"fill_alpha\":{\"value\":0.1},\"fill_color\":{\"value\":\"#1f77b4\"},\"line_alpha\":{\"value\":0.1},\"line_color\":{\"value\":\"#1f77b4\"},\"line_width\":{\"value\":3},\"x\":{\"field\":\"x\"},\"y\":{\"field\":\"y\"}},\"id\":\"20217\",\"type\":\"Circle\"},{\"attributes\":{\"callback\":null,\"data\":{\"x\":[\"2010\",\"2011\",\"2012\",\"2013\",\"2014\",\"2015\",\"2016\",\"2017\"],\"y\":[40.71979156217991,41.08937602701584,43.54367808429187,48.02763417723285,42.97302655987665,45.77221151940908,51.781966052740714,52.216689130724404]},\"selected\":{\"id\":\"20233\",\"type\":\"Selection\"},\"selection_policy\":{\"id\":\"20234\",\"type\":\"UnionRenderers\"}},\"id\":\"20215\",\"type\":\"ColumnDataSource\"},{\"attributes\":{\"fill_color\":{\"value\":\"#5430F1\"},\"line_color\":{\"value\":\"#5430F1\"},\"line_width\":{\"value\":3},\"x\":{\"field\":\"x\"},\"y\":{\"field\":\"y\"}},\"id\":\"20237\",\"type\":\"Circle\"},{\"attributes\":{\"fill_alpha\":{\"value\":0.1},\"fill_color\":{\"value\":\"#1f77b4\"},\"line_alpha\":{\"value\":0.1},\"line_color\":{\"value\":\"#1f77b4\"},\"line_width\":{\"value\":3},\"x\":{\"field\":\"x\"},\"y\":{\"field\":\"y\"}},\"id\":\"20263\",\"type\":\"Circle\"},{\"attributes\":{},\"id\":\"20231\",\"type\":\"Selection\"},{\"attributes\":{},\"id\":\"20259\",\"type\":\"UnionRenderers\"},{\"attributes\":{\"source\":{\"id\":\"20215\",\"type\":\"ColumnDataSource\"}},\"id\":\"20219\",\"type\":\"CDSView\"},{\"attributes\":{},\"id\":\"20208\",\"type\":\"BasicTickFormatter\"},{\"attributes\":{\"callback\":null},\"id\":\"20171\",\"type\":\"DataRange1d\"},{\"attributes\":{\"data_source\":{\"id\":\"20215\",\"type\":\"ColumnDataSource\"},\"glyph\":{\"id\":\"20216\",\"type\":\"Circle\"},\"hover_glyph\":null,\"muted_glyph\":null,\"nonselection_glyph\":{\"id\":\"20217\",\"type\":\"Circle\"},\"selection_glyph\":null,\"view\":{\"id\":\"20219\",\"type\":\"CDSView\"}},\"id\":\"20218\",\"type\":\"GlyphRenderer\"},{\"attributes\":{\"source\":{\"id\":\"20202\",\"type\":\"ColumnDataSource\"}},\"id\":\"20206\",\"type\":\"CDSView\"},{\"attributes\":{\"callback\":null,\"data\":{\"x\":[\"2010\",\"2011\",\"2012\",\"2013\",\"2014\",\"2015\",\"2016\",\"2017\"],\"y\":[74.90445017276772,71.75112419736351,72.57689927409001,74.90223534335082,78.63755961560692,78.89055784854993,79.39678018088793,81.36778617876334]},\"selected\":{\"id\":\"20258\",\"type\":\"Selection\"},\"selection_policy\":{\"id\":\"20259\",\"type\":\"UnionRenderers\"}},\"id\":\"20236\",\"type\":\"ColumnDataSource\"},{\"attributes\":{\"line_color\":\"#5430F1\",\"x\":{\"field\":\"x\"},\"y\":{\"field\":\"y\"}},\"id\":\"20221\",\"type\":\"Line\"},{\"attributes\":{},\"id\":\"20903\",\"type\":\"Selection\"},{\"attributes\":{\"items\":[{\"id\":\"20214\",\"type\":\"LegendItem\"},{\"id\":\"20235\",\"type\":\"LegendItem\"},{\"id\":\"20260\",\"type\":\"LegendItem\"}],\"location\":\"bottom_left\"},\"id\":\"20213\",\"type\":\"Legend\"},{\"attributes\":{},\"id\":\"20193\",\"type\":\"ResetTool\"},{\"attributes\":{\"active_drag\":\"auto\",\"active_inspect\":\"auto\",\"active_multi\":null,\"active_scroll\":\"auto\",\"active_tap\":\"auto\",\"tools\":[{\"id\":\"20189\",\"type\":\"PanTool\"},{\"id\":\"20190\",\"type\":\"WheelZoomTool\"},{\"id\":\"20191\",\"type\":\"BoxZoomTool\"},{\"id\":\"20192\",\"type\":\"SaveTool\"},{\"id\":\"20193\",\"type\":\"ResetTool\"},{\"id\":\"20194\",\"type\":\"HelpTool\"},{\"id\":\"20266\",\"type\":\"HoverTool\"}]},\"id\":\"20195\",\"type\":\"Toolbar\"},{\"attributes\":{\"callback\":null,\"data\":{\"x\":[\"2010\",\"2011\",\"2012\",\"2013\",\"2014\",\"2015\",\"2016\",\"2017\"],\"y\":[88.71326377717656,92.294893020403,92.4176613275317,96.51503896248411,100.42272694876223,101.68265319416062,102.17655795238042,102.51696792001233]},\"selected\":{\"id\":\"20903\",\"type\":\"Selection\"},\"selection_policy\":{\"id\":\"20904\",\"type\":\"UnionRenderers\"}},\"id\":\"20241\",\"type\":\"ColumnDataSource\"},{\"attributes\":{},\"id\":\"20232\",\"type\":\"UnionRenderers\"},{\"attributes\":{},\"id\":\"20190\",\"type\":\"WheelZoomTool\"},{\"attributes\":{\"source\":{\"id\":\"20220\",\"type\":\"ColumnDataSource\"}},\"id\":\"20224\",\"type\":\"CDSView\"}],\"root_ids\":[\"20168\"]},\"title\":\"Bokeh Application\",\"version\":\"1.3.4\"}};\n",
       "  var render_items = [{\"docid\":\"f644a2de-6475-4227-81c9-718b39dfa0e4\",\"roots\":{\"20168\":\"cbb79201-850d-41c0-8ada-087af6ad1fcf\"}}];\n",
       "  root.Bokeh.embed.embed_items_notebook(docs_json, render_items);\n",
       "\n",
       "  }\n",
       "  if (root.Bokeh !== undefined) {\n",
       "    embed_document(root);\n",
       "  } else {\n",
       "    var attempts = 0;\n",
       "    var timer = setInterval(function(root) {\n",
       "      if (root.Bokeh !== undefined) {\n",
       "        embed_document(root);\n",
       "        clearInterval(timer);\n",
       "      }\n",
       "      attempts++;\n",
       "      if (attempts > 100) {\n",
       "        console.log(\"Bokeh: ERROR: Unable to run BokehJS code because BokehJS library is missing\");\n",
       "        clearInterval(timer);\n",
       "      }\n",
       "    }, 10, root)\n",
       "  }\n",
       "})(window);"
      ],
      "application/vnd.bokehjs_exec.v0+json": ""
     },
     "metadata": {
      "application/vnd.bokehjs_exec.v0+json": {
       "id": "20168"
      }
     },
     "output_type": "display_data"
    }
   ],
   "source": [
    "# School enrollment, secondary\n",
    "years = list(map(str, list(range(2010,2018))))\n",
    "result = show_weighted_average(years, 'SE.SEC.ENRR', 'SP.POP.TOTL', \n",
    "                               ['LDCs', 'Developing excluding LDCs', 'UMICs'])"
   ]
  },
  {
   "cell_type": "code",
   "execution_count": 20,
   "metadata": {
    "ExecuteTime": {
     "end_time": "2019-10-25T14:25:38.329630Z",
     "start_time": "2019-10-25T14:25:37.469130Z"
    },
    "slideshow": {
     "slide_type": "slide"
    }
   },
   "outputs": [
    {
     "data": {
      "text/html": [
       "\n",
       "\n",
       "\n",
       "\n",
       "\n",
       "\n",
       "  <div class=\"bk-root\" id=\"09783bf3-a04a-4586-9cae-cb80d02b1c72\" data-root-id=\"6145\"></div>\n"
      ]
     },
     "metadata": {},
     "output_type": "display_data"
    },
    {
     "data": {
      "application/javascript": [
       "(function(root) {\n",
       "  function embed_document(root) {\n",
       "    \n",
       "  var docs_json = {\"cfb3165f-6128-44fd-b5c6-ab9c1a0a17aa\":{\"roots\":{\"references\":[{\"attributes\":{\"below\":[{\"id\":\"6156\",\"type\":\"LinearAxis\"}],\"center\":[{\"id\":\"6160\",\"type\":\"Grid\"},{\"id\":\"6165\",\"type\":\"Grid\"},{\"id\":\"6190\",\"type\":\"Legend\"}],\"left\":[{\"id\":\"6161\",\"type\":\"LinearAxis\"}],\"plot_height\":400,\"plot_width\":800,\"renderers\":[{\"id\":\"6182\",\"type\":\"GlyphRenderer\"},{\"id\":\"6195\",\"type\":\"GlyphRenderer\"},{\"id\":\"6200\",\"type\":\"GlyphRenderer\"},{\"id\":\"6216\",\"type\":\"GlyphRenderer\"},{\"id\":\"6221\",\"type\":\"GlyphRenderer\"},{\"id\":\"6241\",\"type\":\"GlyphRenderer\"}],\"title\":{\"id\":\"6146\",\"type\":\"Title\"},\"toolbar\":{\"id\":\"6172\",\"type\":\"Toolbar\"},\"x_range\":{\"id\":\"6148\",\"type\":\"DataRange1d\"},\"x_scale\":{\"id\":\"6152\",\"type\":\"LinearScale\"},\"y_range\":{\"id\":\"6150\",\"type\":\"DataRange1d\"},\"y_scale\":{\"id\":\"6154\",\"type\":\"LinearScale\"}},\"id\":\"6145\",\"subtype\":\"Figure\",\"type\":\"Plot\"},{\"attributes\":{\"data_source\":{\"id\":\"6218\",\"type\":\"ColumnDataSource\"},\"glyph\":{\"id\":\"6219\",\"type\":\"Line\"},\"hover_glyph\":null,\"muted_glyph\":null,\"nonselection_glyph\":{\"id\":\"6220\",\"type\":\"Line\"},\"selection_glyph\":null,\"view\":{\"id\":\"6222\",\"type\":\"CDSView\"}},\"id\":\"6221\",\"type\":\"GlyphRenderer\"},{\"attributes\":{},\"id\":\"6211\",\"type\":\"UnionRenderers\"},{\"attributes\":{},\"id\":\"6152\",\"type\":\"LinearScale\"},{\"attributes\":{},\"id\":\"6233\",\"type\":\"Selection\"},{\"attributes\":{\"label\":{\"value\":\"Developing excluding LDCs\"},\"renderers\":[{\"id\":\"6200\",\"type\":\"GlyphRenderer\"}]},\"id\":\"6212\",\"type\":\"LegendItem\"},{\"attributes\":{\"axis_label\":\"Years\",\"formatter\":{\"id\":\"6187\",\"type\":\"BasicTickFormatter\"},\"ticker\":{\"id\":\"6157\",\"type\":\"BasicTicker\"}},\"id\":\"6156\",\"type\":\"LinearAxis\"},{\"attributes\":{},\"id\":\"6185\",\"type\":\"BasicTickFormatter\"},{\"attributes\":{\"source\":{\"id\":\"6218\",\"type\":\"ColumnDataSource\"}},\"id\":\"6222\",\"type\":\"CDSView\"},{\"attributes\":{\"callback\":null,\"data\":{\"x\":[\"2010\",\"2011\",\"2012\",\"2013\",\"2014\"],\"y\":[23.513041688550018,26.0163518298774,28.653839513727956,29.991015174173807,34.20514037096847]},\"selected\":{\"id\":\"6235\",\"type\":\"Selection\"},\"selection_policy\":{\"id\":\"6236\",\"type\":\"UnionRenderers\"}},\"id\":\"6213\",\"type\":\"ColumnDataSource\"},{\"attributes\":{\"grid_line_color\":null,\"ticker\":{\"id\":\"6157\",\"type\":\"BasicTicker\"}},\"id\":\"6160\",\"type\":\"Grid\"},{\"attributes\":{},\"id\":\"6157\",\"type\":\"BasicTicker\"},{\"attributes\":{},\"id\":\"6234\",\"type\":\"UnionRenderers\"},{\"attributes\":{\"fill_color\":{\"value\":\"#5430F1\"},\"line_color\":{\"value\":\"#5430F1\"},\"line_width\":{\"value\":3},\"x\":{\"field\":\"x\"},\"y\":{\"field\":\"y\"}},\"id\":\"6214\",\"type\":\"Circle\"},{\"attributes\":{},\"id\":\"6187\",\"type\":\"BasicTickFormatter\"},{\"attributes\":{},\"id\":\"6236\",\"type\":\"UnionRenderers\"},{\"attributes\":{\"axis_label\":\"SE.TER.ENRR\",\"formatter\":{\"id\":\"6185\",\"type\":\"BasicTickFormatter\"},\"ticker\":{\"id\":\"6162\",\"type\":\"BasicTicker\"}},\"id\":\"6161\",\"type\":\"LinearAxis\"},{\"attributes\":{\"fill_alpha\":{\"value\":0.1},\"fill_color\":{\"value\":\"#1f77b4\"},\"line_alpha\":{\"value\":0.1},\"line_color\":{\"value\":\"#1f77b4\"},\"line_width\":{\"value\":3},\"x\":{\"field\":\"x\"},\"y\":{\"field\":\"y\"}},\"id\":\"6215\",\"type\":\"Circle\"},{\"attributes\":{\"bottom_units\":\"screen\",\"fill_alpha\":{\"value\":0.5},\"fill_color\":{\"value\":\"lightgrey\"},\"left_units\":\"screen\",\"level\":\"overlay\",\"line_alpha\":{\"value\":1.0},\"line_color\":{\"value\":\"black\"},\"line_dash\":[4,4],\"line_width\":{\"value\":2},\"render_mode\":\"css\",\"right_units\":\"screen\",\"top_units\":\"screen\"},\"id\":\"6189\",\"type\":\"BoxAnnotation\"},{\"attributes\":{},\"id\":\"6235\",\"type\":\"Selection\"},{\"attributes\":{\"source\":{\"id\":\"6213\",\"type\":\"ColumnDataSource\"}},\"id\":\"6217\",\"type\":\"CDSView\"},{\"attributes\":{\"items\":[{\"id\":\"6191\",\"type\":\"LegendItem\"},{\"id\":\"6212\",\"type\":\"LegendItem\"},{\"id\":\"6237\",\"type\":\"LegendItem\"}],\"location\":\"bottom_left\"},\"id\":\"6190\",\"type\":\"Legend\"},{\"attributes\":{\"callback\":null,\"data\":{\"x\":[\"2010\",\"2011\",\"2012\",\"2013\",\"2014\"],\"y\":[23.513041688550018,26.0163518298774,28.653839513727956,29.991015174173807,34.20514037096847]},\"selected\":{\"id\":\"6233\",\"type\":\"Selection\"},\"selection_policy\":{\"id\":\"6234\",\"type\":\"UnionRenderers\"}},\"id\":\"6197\",\"type\":\"ColumnDataSource\"},{\"attributes\":{\"label\":{\"value\":\"UMICs\"},\"renderers\":[{\"id\":\"6221\",\"type\":\"GlyphRenderer\"}]},\"id\":\"6237\",\"type\":\"LegendItem\"},{\"attributes\":{},\"id\":\"6210\",\"type\":\"Selection\"},{\"attributes\":{},\"id\":\"6162\",\"type\":\"BasicTicker\"},{\"attributes\":{\"data_source\":{\"id\":\"6213\",\"type\":\"ColumnDataSource\"},\"glyph\":{\"id\":\"6214\",\"type\":\"Circle\"},\"hover_glyph\":null,\"muted_glyph\":null,\"nonselection_glyph\":{\"id\":\"6215\",\"type\":\"Circle\"},\"selection_glyph\":null,\"view\":{\"id\":\"6217\",\"type\":\"CDSView\"}},\"id\":\"6216\",\"type\":\"GlyphRenderer\"},{\"attributes\":{\"fill_color\":{\"value\":\"#2CC775\"},\"line_color\":{\"value\":\"#2CC775\"},\"line_width\":{\"value\":3},\"x\":{\"field\":\"x\"},\"y\":{\"field\":\"y\"}},\"id\":\"6239\",\"type\":\"Circle\"},{\"attributes\":{\"callback\":null,\"data\":{\"x\":[\"2010\",\"2011\",\"2012\",\"2013\",\"2014\"],\"y\":[29.578342099714497,35.0387071416137,36.79347919201178,39.400822883016104,45.87742349232858]},\"selected\":{\"id\":\"6522\",\"type\":\"Selection\"},\"selection_policy\":{\"id\":\"6523\",\"type\":\"UnionRenderers\"}},\"id\":\"6238\",\"type\":\"ColumnDataSource\"},{\"attributes\":{\"callback\":null,\"data\":{\"x\":[\"2010\",\"2011\",\"2012\",\"2013\",\"2014\"],\"y\":[29.578342099714497,35.0387071416137,36.79347919201178,39.400822883016104,45.87742349232858]},\"selected\":{\"id\":\"6520\",\"type\":\"Selection\"},\"selection_policy\":{\"id\":\"6521\",\"type\":\"UnionRenderers\"}},\"id\":\"6218\",\"type\":\"ColumnDataSource\"},{\"attributes\":{\"line_alpha\":0.1,\"line_color\":\"#1f77b4\",\"x\":{\"field\":\"x\"},\"y\":{\"field\":\"y\"}},\"id\":\"6199\",\"type\":\"Line\"},{\"attributes\":{\"line_alpha\":0.1,\"line_color\":\"#1f77b4\",\"x\":{\"field\":\"x\"},\"y\":{\"field\":\"y\"}},\"id\":\"6220\",\"type\":\"Line\"},{\"attributes\":{\"fill_alpha\":{\"value\":0.1},\"fill_color\":{\"value\":\"#1f77b4\"},\"line_alpha\":{\"value\":0.1},\"line_color\":{\"value\":\"#1f77b4\"},\"line_width\":{\"value\":3},\"x\":{\"field\":\"x\"},\"y\":{\"field\":\"y\"}},\"id\":\"6240\",\"type\":\"Circle\"},{\"attributes\":{\"line_color\":\"#5430F1\",\"x\":{\"field\":\"x\"},\"y\":{\"field\":\"y\"}},\"id\":\"6198\",\"type\":\"Line\"},{\"attributes\":{\"source\":{\"id\":\"6179\",\"type\":\"ColumnDataSource\"}},\"id\":\"6183\",\"type\":\"CDSView\"},{\"attributes\":{\"line_color\":\"#2CC775\",\"x\":{\"field\":\"x\"},\"y\":{\"field\":\"y\"}},\"id\":\"6219\",\"type\":\"Line\"},{\"attributes\":{\"source\":{\"id\":\"6238\",\"type\":\"ColumnDataSource\"}},\"id\":\"6242\",\"type\":\"CDSView\"},{\"attributes\":{},\"id\":\"6170\",\"type\":\"ResetTool\"},{\"attributes\":{\"data_source\":{\"id\":\"6197\",\"type\":\"ColumnDataSource\"},\"glyph\":{\"id\":\"6198\",\"type\":\"Line\"},\"hover_glyph\":null,\"muted_glyph\":null,\"nonselection_glyph\":{\"id\":\"6199\",\"type\":\"Line\"},\"selection_glyph\":null,\"view\":{\"id\":\"6201\",\"type\":\"CDSView\"}},\"id\":\"6200\",\"type\":\"GlyphRenderer\"},{\"attributes\":{\"data_source\":{\"id\":\"6238\",\"type\":\"ColumnDataSource\"},\"glyph\":{\"id\":\"6239\",\"type\":\"Circle\"},\"hover_glyph\":null,\"muted_glyph\":null,\"nonselection_glyph\":{\"id\":\"6240\",\"type\":\"Circle\"},\"selection_glyph\":null,\"view\":{\"id\":\"6242\",\"type\":\"CDSView\"}},\"id\":\"6241\",\"type\":\"GlyphRenderer\"},{\"attributes\":{},\"id\":\"6169\",\"type\":\"SaveTool\"},{\"attributes\":{\"dimension\":1,\"grid_line_alpha\":0.5,\"ticker\":{\"id\":\"6162\",\"type\":\"BasicTicker\"}},\"id\":\"6165\",\"type\":\"Grid\"},{\"attributes\":{\"source\":{\"id\":\"6197\",\"type\":\"ColumnDataSource\"}},\"id\":\"6201\",\"type\":\"CDSView\"},{\"attributes\":{\"label\":{\"value\":\"LDCs\"},\"renderers\":[{\"id\":\"6182\",\"type\":\"GlyphRenderer\"}]},\"id\":\"6191\",\"type\":\"LegendItem\"},{\"attributes\":{\"line_color\":\"#FA1857\",\"x\":{\"field\":\"x\"},\"y\":{\"field\":\"y\"}},\"id\":\"6180\",\"type\":\"Line\"},{\"attributes\":{},\"id\":\"6521\",\"type\":\"UnionRenderers\"},{\"attributes\":{\"callback\":null,\"data\":{\"x\":[\"2010\",\"2011\",\"2012\",\"2013\",\"2014\"],\"y\":[7.216305888899169,9.238597293740812,9.286933356659,8.843198313346274,10.341316695036003]},\"selected\":{\"id\":\"6210\",\"type\":\"Selection\"},\"selection_policy\":{\"id\":\"6211\",\"type\":\"UnionRenderers\"}},\"id\":\"6192\",\"type\":\"ColumnDataSource\"},{\"attributes\":{},\"id\":\"6171\",\"type\":\"HelpTool\"},{\"attributes\":{\"callback\":null,\"data\":{\"x\":[\"2010\",\"2011\",\"2012\",\"2013\",\"2014\"],\"y\":[7.216305888899169,9.238597293740812,9.286933356659,8.843198313346274,10.341316695036003]},\"selected\":{\"id\":\"6208\",\"type\":\"Selection\"},\"selection_policy\":{\"id\":\"6209\",\"type\":\"UnionRenderers\"}},\"id\":\"6179\",\"type\":\"ColumnDataSource\"},{\"attributes\":{},\"id\":\"6208\",\"type\":\"Selection\"},{\"attributes\":{},\"id\":\"6520\",\"type\":\"Selection\"},{\"attributes\":{\"callback\":null,\"tooltips\":\"                \\n        <div style=padding=5px>Year:@x</div>\\n        <div style=padding=5px>Value:@y</div>        \\n        \"},\"id\":\"6243\",\"type\":\"HoverTool\"},{\"attributes\":{\"fill_color\":{\"value\":\"#FA1857\"},\"line_color\":{\"value\":\"#FA1857\"},\"line_width\":{\"value\":3},\"x\":{\"field\":\"x\"},\"y\":{\"field\":\"y\"}},\"id\":\"6193\",\"type\":\"Circle\"},{\"attributes\":{\"callback\":null},\"id\":\"6148\",\"type\":\"DataRange1d\"},{\"attributes\":{\"active_drag\":\"auto\",\"active_inspect\":\"auto\",\"active_multi\":null,\"active_scroll\":\"auto\",\"active_tap\":\"auto\",\"tools\":[{\"id\":\"6166\",\"type\":\"PanTool\"},{\"id\":\"6167\",\"type\":\"WheelZoomTool\"},{\"id\":\"6168\",\"type\":\"BoxZoomTool\"},{\"id\":\"6169\",\"type\":\"SaveTool\"},{\"id\":\"6170\",\"type\":\"ResetTool\"},{\"id\":\"6171\",\"type\":\"HelpTool\"},{\"id\":\"6243\",\"type\":\"HoverTool\"}]},\"id\":\"6172\",\"type\":\"Toolbar\"},{\"attributes\":{},\"id\":\"6522\",\"type\":\"Selection\"},{\"attributes\":{},\"id\":\"6209\",\"type\":\"UnionRenderers\"},{\"attributes\":{},\"id\":\"6166\",\"type\":\"PanTool\"},{\"attributes\":{\"fill_alpha\":{\"value\":0.1},\"fill_color\":{\"value\":\"#1f77b4\"},\"line_alpha\":{\"value\":0.1},\"line_color\":{\"value\":\"#1f77b4\"},\"line_width\":{\"value\":3},\"x\":{\"field\":\"x\"},\"y\":{\"field\":\"y\"}},\"id\":\"6194\",\"type\":\"Circle\"},{\"attributes\":{\"text\":\"School enrollment, tertiary (% gross) weighted against Population, total\"},\"id\":\"6146\",\"type\":\"Title\"},{\"attributes\":{\"overlay\":{\"id\":\"6189\",\"type\":\"BoxAnnotation\"}},\"id\":\"6168\",\"type\":\"BoxZoomTool\"},{\"attributes\":{},\"id\":\"6523\",\"type\":\"UnionRenderers\"},{\"attributes\":{\"line_alpha\":0.1,\"line_color\":\"#1f77b4\",\"x\":{\"field\":\"x\"},\"y\":{\"field\":\"y\"}},\"id\":\"6181\",\"type\":\"Line\"},{\"attributes\":{\"data_source\":{\"id\":\"6192\",\"type\":\"ColumnDataSource\"},\"glyph\":{\"id\":\"6193\",\"type\":\"Circle\"},\"hover_glyph\":null,\"muted_glyph\":null,\"nonselection_glyph\":{\"id\":\"6194\",\"type\":\"Circle\"},\"selection_glyph\":null,\"view\":{\"id\":\"6196\",\"type\":\"CDSView\"}},\"id\":\"6195\",\"type\":\"GlyphRenderer\"},{\"attributes\":{\"callback\":null},\"id\":\"6150\",\"type\":\"DataRange1d\"},{\"attributes\":{},\"id\":\"6167\",\"type\":\"WheelZoomTool\"},{\"attributes\":{\"data_source\":{\"id\":\"6179\",\"type\":\"ColumnDataSource\"},\"glyph\":{\"id\":\"6180\",\"type\":\"Line\"},\"hover_glyph\":null,\"muted_glyph\":null,\"nonselection_glyph\":{\"id\":\"6181\",\"type\":\"Line\"},\"selection_glyph\":null,\"view\":{\"id\":\"6183\",\"type\":\"CDSView\"}},\"id\":\"6182\",\"type\":\"GlyphRenderer\"},{\"attributes\":{\"source\":{\"id\":\"6192\",\"type\":\"ColumnDataSource\"}},\"id\":\"6196\",\"type\":\"CDSView\"},{\"attributes\":{},\"id\":\"6154\",\"type\":\"LinearScale\"}],\"root_ids\":[\"6145\"]},\"title\":\"Bokeh Application\",\"version\":\"1.3.4\"}};\n",
       "  var render_items = [{\"docid\":\"cfb3165f-6128-44fd-b5c6-ab9c1a0a17aa\",\"roots\":{\"6145\":\"09783bf3-a04a-4586-9cae-cb80d02b1c72\"}}];\n",
       "  root.Bokeh.embed.embed_items_notebook(docs_json, render_items);\n",
       "\n",
       "  }\n",
       "  if (root.Bokeh !== undefined) {\n",
       "    embed_document(root);\n",
       "  } else {\n",
       "    var attempts = 0;\n",
       "    var timer = setInterval(function(root) {\n",
       "      if (root.Bokeh !== undefined) {\n",
       "        embed_document(root);\n",
       "        clearInterval(timer);\n",
       "      }\n",
       "      attempts++;\n",
       "      if (attempts > 100) {\n",
       "        console.log(\"Bokeh: ERROR: Unable to run BokehJS code because BokehJS library is missing\");\n",
       "        clearInterval(timer);\n",
       "      }\n",
       "    }, 10, root)\n",
       "  }\n",
       "})(window);"
      ],
      "application/vnd.bokehjs_exec.v0+json": ""
     },
     "metadata": {
      "application/vnd.bokehjs_exec.v0+json": {
       "id": "6145"
      }
     },
     "output_type": "display_data"
    }
   ],
   "source": [
    "# School enrollment, tertiary\n",
    "years = list(map(str, list(range(2010,2015))))\n",
    "result = show_weighted_average(years, 'SE.TER.ENRR', 'SP.POP.TOTL', \n",
    "                               ['LDCs', 'Developing excluding LDCs', 'UMICs'])"
   ]
  },
  {
   "cell_type": "code",
   "execution_count": 21,
   "metadata": {
    "ExecuteTime": {
     "end_time": "2019-10-25T14:25:43.236189Z",
     "start_time": "2019-10-25T14:25:38.332666Z"
    },
    "slideshow": {
     "slide_type": "slide"
    }
   },
   "outputs": [
    {
     "data": {
      "text/html": [
       "\n",
       "\n",
       "\n",
       "\n",
       "\n",
       "\n",
       "  <div class=\"bk-root\" id=\"62b40cae-ee37-49f1-b63a-e33c3dde85e3\" data-root-id=\"6632\"></div>\n"
      ]
     },
     "metadata": {},
     "output_type": "display_data"
    },
    {
     "data": {
      "application/javascript": [
       "(function(root) {\n",
       "  function embed_document(root) {\n",
       "    \n",
       "  var docs_json = {\"e4efa1f1-2190-4223-a316-9ec8fad79f66\":{\"roots\":{\"references\":[{\"attributes\":{\"below\":[{\"id\":\"6643\",\"type\":\"LinearAxis\"}],\"center\":[{\"id\":\"6647\",\"type\":\"Grid\"},{\"id\":\"6652\",\"type\":\"Grid\"},{\"id\":\"6677\",\"type\":\"Legend\"}],\"left\":[{\"id\":\"6648\",\"type\":\"LinearAxis\"}],\"plot_height\":400,\"plot_width\":800,\"renderers\":[{\"id\":\"6669\",\"type\":\"GlyphRenderer\"},{\"id\":\"6682\",\"type\":\"GlyphRenderer\"},{\"id\":\"6687\",\"type\":\"GlyphRenderer\"},{\"id\":\"6703\",\"type\":\"GlyphRenderer\"}],\"title\":{\"id\":\"6633\",\"type\":\"Title\"},\"toolbar\":{\"id\":\"6659\",\"type\":\"Toolbar\"},\"x_range\":{\"id\":\"6635\",\"type\":\"DataRange1d\"},\"x_scale\":{\"id\":\"6639\",\"type\":\"LinearScale\"},\"y_range\":{\"id\":\"6637\",\"type\":\"DataRange1d\"},\"y_scale\":{\"id\":\"6641\",\"type\":\"LinearScale\"}},\"id\":\"6632\",\"subtype\":\"Figure\",\"type\":\"Plot\"},{\"attributes\":{\"overlay\":{\"id\":\"6676\",\"type\":\"BoxAnnotation\"}},\"id\":\"6655\",\"type\":\"BoxZoomTool\"},{\"attributes\":{\"callback\":null,\"data\":{\"x\":[\"2000\",\"2001\",\"2002\",\"2003\",\"2004\",\"2005\",\"2006\",\"2007\",\"2008\",\"2009\",\"2010\",\"2011\",\"2012\",\"2013\",\"2014\",\"2015\",\"2016\",\"2017\"],\"y\":[33.370051835559885,29.57702548330176,33.388901341061164,33.789125730263024,27.622887569846355,27.43513871906223,23.322003949314283,23.173937290806006,22.087389072731586,21.87034331925848,21.56849553016734,25.1902973461321,21.23626220970231,24.160800450151424,24.012498654781346,24.564505025797747,25.205451210762366,24.27522883303202]},\"selected\":{\"id\":\"6998\",\"type\":\"Selection\"},\"selection_policy\":{\"id\":\"6999\",\"type\":\"UnionRenderers\"}},\"id\":\"6700\",\"type\":\"ColumnDataSource\"},{\"attributes\":{\"data_source\":{\"id\":\"6700\",\"type\":\"ColumnDataSource\"},\"glyph\":{\"id\":\"6701\",\"type\":\"Circle\"},\"hover_glyph\":null,\"muted_glyph\":null,\"nonselection_glyph\":{\"id\":\"6702\",\"type\":\"Circle\"},\"selection_glyph\":null,\"view\":{\"id\":\"6704\",\"type\":\"CDSView\"}},\"id\":\"6703\",\"type\":\"GlyphRenderer\"},{\"attributes\":{\"fill_alpha\":{\"value\":0.1},\"fill_color\":{\"value\":\"#1f77b4\"},\"line_alpha\":{\"value\":0.1},\"line_color\":{\"value\":\"#1f77b4\"},\"line_width\":{\"value\":3},\"x\":{\"field\":\"x\"},\"y\":{\"field\":\"y\"}},\"id\":\"6681\",\"type\":\"Circle\"},{\"attributes\":{},\"id\":\"6656\",\"type\":\"SaveTool\"},{\"attributes\":{\"callback\":null,\"data\":{\"x\":[\"2000\",\"2001\",\"2002\",\"2003\",\"2004\",\"2005\",\"2006\",\"2007\",\"2008\",\"2009\",\"2010\",\"2011\",\"2012\",\"2013\",\"2014\",\"2015\",\"2016\",\"2017\"],\"y\":[51.520903177485685,46.52493990984674,45.72529764000698,47.0523349681254,48.04905957142995,48.073273979200536,46.88345337680238,45.37851355945308,47.5713037782683,46.94420318527923,44.98718519250169,45.977667340832,43.49825989518141,43.05048551129662,40.19878876980604,41.85413035115011,38.496722137935755,38.768702276413286]},\"selected\":{\"id\":\"6695\",\"type\":\"Selection\"},\"selection_policy\":{\"id\":\"6696\",\"type\":\"UnionRenderers\"}},\"id\":\"6666\",\"type\":\"ColumnDataSource\"},{\"attributes\":{\"fill_alpha\":{\"value\":0.1},\"fill_color\":{\"value\":\"#1f77b4\"},\"line_alpha\":{\"value\":0.1},\"line_color\":{\"value\":\"#1f77b4\"},\"line_width\":{\"value\":3},\"x\":{\"field\":\"x\"},\"y\":{\"field\":\"y\"}},\"id\":\"6702\",\"type\":\"Circle\"},{\"attributes\":{\"line_alpha\":0.1,\"line_color\":\"#1f77b4\",\"x\":{\"field\":\"x\"},\"y\":{\"field\":\"y\"}},\"id\":\"6668\",\"type\":\"Line\"},{\"attributes\":{\"fill_color\":{\"value\":\"#FA1857\"},\"line_color\":{\"value\":\"#FA1857\"},\"line_width\":{\"value\":3},\"x\":{\"field\":\"x\"},\"y\":{\"field\":\"y\"}},\"id\":\"6680\",\"type\":\"Circle\"},{\"attributes\":{},\"id\":\"6698\",\"type\":\"UnionRenderers\"},{\"attributes\":{\"callback\":null,\"tooltips\":\"                \\n        <div style=padding=5px>Year:@x</div>\\n        <div style=padding=5px>Value:@y</div>        \\n        \"},\"id\":\"6705\",\"type\":\"HoverTool\"},{\"attributes\":{},\"id\":\"6996\",\"type\":\"Selection\"},{\"attributes\":{},\"id\":\"6653\",\"type\":\"PanTool\"},{\"attributes\":{},\"id\":\"6649\",\"type\":\"BasicTicker\"},{\"attributes\":{\"items\":[{\"id\":\"6678\",\"type\":\"LegendItem\"},{\"id\":\"6699\",\"type\":\"LegendItem\"}],\"location\":\"bottom_left\"},\"id\":\"6677\",\"type\":\"Legend\"},{\"attributes\":{\"source\":{\"id\":\"6700\",\"type\":\"ColumnDataSource\"}},\"id\":\"6704\",\"type\":\"CDSView\"},{\"attributes\":{\"dimension\":1,\"grid_line_alpha\":0.5,\"ticker\":{\"id\":\"6649\",\"type\":\"BasicTicker\"}},\"id\":\"6652\",\"type\":\"Grid\"},{\"attributes\":{},\"id\":\"6695\",\"type\":\"Selection\"},{\"attributes\":{\"fill_color\":{\"value\":\"#5430F1\"},\"line_color\":{\"value\":\"#5430F1\"},\"line_width\":{\"value\":3},\"x\":{\"field\":\"x\"},\"y\":{\"field\":\"y\"}},\"id\":\"6701\",\"type\":\"Circle\"},{\"attributes\":{\"label\":{\"value\":\"LDCs\"},\"renderers\":[{\"id\":\"6669\",\"type\":\"GlyphRenderer\"}]},\"id\":\"6678\",\"type\":\"LegendItem\"},{\"attributes\":{\"data_source\":{\"id\":\"6679\",\"type\":\"ColumnDataSource\"},\"glyph\":{\"id\":\"6680\",\"type\":\"Circle\"},\"hover_glyph\":null,\"muted_glyph\":null,\"nonselection_glyph\":{\"id\":\"6681\",\"type\":\"Circle\"},\"selection_glyph\":null,\"view\":{\"id\":\"6683\",\"type\":\"CDSView\"}},\"id\":\"6682\",\"type\":\"GlyphRenderer\"},{\"attributes\":{\"line_color\":\"#FA1857\",\"x\":{\"field\":\"x\"},\"y\":{\"field\":\"y\"}},\"id\":\"6667\",\"type\":\"Line\"},{\"attributes\":{\"line_alpha\":0.1,\"line_color\":\"#1f77b4\",\"x\":{\"field\":\"x\"},\"y\":{\"field\":\"y\"}},\"id\":\"6686\",\"type\":\"Line\"},{\"attributes\":{\"callback\":null,\"data\":{\"x\":[\"2000\",\"2001\",\"2002\",\"2003\",\"2004\",\"2005\",\"2006\",\"2007\",\"2008\",\"2009\",\"2010\",\"2011\",\"2012\",\"2013\",\"2014\",\"2015\",\"2016\",\"2017\"],\"y\":[51.520903177485685,46.52493990984674,45.72529764000698,47.0523349681254,48.04905957142995,48.073273979200536,46.88345337680238,45.37851355945308,47.5713037782683,46.94420318527923,44.98718519250169,45.977667340832,43.49825989518141,43.05048551129662,40.19878876980604,41.85413035115011,38.496722137935755,38.768702276413286]},\"selected\":{\"id\":\"6697\",\"type\":\"Selection\"},\"selection_policy\":{\"id\":\"6698\",\"type\":\"UnionRenderers\"}},\"id\":\"6679\",\"type\":\"ColumnDataSource\"},{\"attributes\":{},\"id\":\"6672\",\"type\":\"BasicTickFormatter\"},{\"attributes\":{\"line_color\":\"#5430F1\",\"x\":{\"field\":\"x\"},\"y\":{\"field\":\"y\"}},\"id\":\"6685\",\"type\":\"Line\"},{\"attributes\":{},\"id\":\"6644\",\"type\":\"BasicTicker\"},{\"attributes\":{},\"id\":\"6696\",\"type\":\"UnionRenderers\"},{\"attributes\":{},\"id\":\"6674\",\"type\":\"BasicTickFormatter\"},{\"attributes\":{\"grid_line_color\":null,\"ticker\":{\"id\":\"6644\",\"type\":\"BasicTicker\"}},\"id\":\"6647\",\"type\":\"Grid\"},{\"attributes\":{\"axis_label\":\"SE.PRM.ENRL.TC.ZS\",\"formatter\":{\"id\":\"6672\",\"type\":\"BasicTickFormatter\"},\"ticker\":{\"id\":\"6649\",\"type\":\"BasicTicker\"}},\"id\":\"6648\",\"type\":\"LinearAxis\"},{\"attributes\":{},\"id\":\"6999\",\"type\":\"UnionRenderers\"},{\"attributes\":{\"bottom_units\":\"screen\",\"fill_alpha\":{\"value\":0.5},\"fill_color\":{\"value\":\"lightgrey\"},\"left_units\":\"screen\",\"level\":\"overlay\",\"line_alpha\":{\"value\":1.0},\"line_color\":{\"value\":\"black\"},\"line_dash\":[4,4],\"line_width\":{\"value\":2},\"render_mode\":\"css\",\"right_units\":\"screen\",\"top_units\":\"screen\"},\"id\":\"6676\",\"type\":\"BoxAnnotation\"},{\"attributes\":{\"callback\":null,\"data\":{\"x\":[\"2000\",\"2001\",\"2002\",\"2003\",\"2004\",\"2005\",\"2006\",\"2007\",\"2008\",\"2009\",\"2010\",\"2011\",\"2012\",\"2013\",\"2014\",\"2015\",\"2016\",\"2017\"],\"y\":[33.370051835559885,29.57702548330176,33.388901341061164,33.789125730263024,27.622887569846355,27.43513871906223,23.322003949314283,23.173937290806006,22.087389072731586,21.87034331925848,21.56849553016734,25.1902973461321,21.23626220970231,24.160800450151424,24.012498654781346,24.564505025797747,25.205451210762366,24.27522883303202]},\"selected\":{\"id\":\"6996\",\"type\":\"Selection\"},\"selection_policy\":{\"id\":\"6997\",\"type\":\"UnionRenderers\"}},\"id\":\"6684\",\"type\":\"ColumnDataSource\"},{\"attributes\":{},\"id\":\"6998\",\"type\":\"Selection\"},{\"attributes\":{\"data_source\":{\"id\":\"6666\",\"type\":\"ColumnDataSource\"},\"glyph\":{\"id\":\"6667\",\"type\":\"Line\"},\"hover_glyph\":null,\"muted_glyph\":null,\"nonselection_glyph\":{\"id\":\"6668\",\"type\":\"Line\"},\"selection_glyph\":null,\"view\":{\"id\":\"6670\",\"type\":\"CDSView\"}},\"id\":\"6669\",\"type\":\"GlyphRenderer\"},{\"attributes\":{},\"id\":\"6639\",\"type\":\"LinearScale\"},{\"attributes\":{},\"id\":\"6997\",\"type\":\"UnionRenderers\"},{\"attributes\":{},\"id\":\"6641\",\"type\":\"LinearScale\"},{\"attributes\":{\"source\":{\"id\":\"6679\",\"type\":\"ColumnDataSource\"}},\"id\":\"6683\",\"type\":\"CDSView\"},{\"attributes\":{},\"id\":\"6697\",\"type\":\"Selection\"},{\"attributes\":{\"axis_label\":\"Years\",\"formatter\":{\"id\":\"6674\",\"type\":\"BasicTickFormatter\"},\"ticker\":{\"id\":\"6644\",\"type\":\"BasicTicker\"}},\"id\":\"6643\",\"type\":\"LinearAxis\"},{\"attributes\":{\"source\":{\"id\":\"6666\",\"type\":\"ColumnDataSource\"}},\"id\":\"6670\",\"type\":\"CDSView\"},{\"attributes\":{\"text\":\"Pupil-teacher ratio, primary weighted against Population, total\"},\"id\":\"6633\",\"type\":\"Title\"},{\"attributes\":{\"source\":{\"id\":\"6684\",\"type\":\"ColumnDataSource\"}},\"id\":\"6688\",\"type\":\"CDSView\"},{\"attributes\":{},\"id\":\"6657\",\"type\":\"ResetTool\"},{\"attributes\":{\"label\":{\"value\":\"Developing excluding LDCs\"},\"renderers\":[{\"id\":\"6687\",\"type\":\"GlyphRenderer\"}]},\"id\":\"6699\",\"type\":\"LegendItem\"},{\"attributes\":{\"callback\":null},\"id\":\"6635\",\"type\":\"DataRange1d\"},{\"attributes\":{},\"id\":\"6658\",\"type\":\"HelpTool\"},{\"attributes\":{\"callback\":null},\"id\":\"6637\",\"type\":\"DataRange1d\"},{\"attributes\":{\"data_source\":{\"id\":\"6684\",\"type\":\"ColumnDataSource\"},\"glyph\":{\"id\":\"6685\",\"type\":\"Line\"},\"hover_glyph\":null,\"muted_glyph\":null,\"nonselection_glyph\":{\"id\":\"6686\",\"type\":\"Line\"},\"selection_glyph\":null,\"view\":{\"id\":\"6688\",\"type\":\"CDSView\"}},\"id\":\"6687\",\"type\":\"GlyphRenderer\"},{\"attributes\":{\"active_drag\":\"auto\",\"active_inspect\":\"auto\",\"active_multi\":null,\"active_scroll\":\"auto\",\"active_tap\":\"auto\",\"tools\":[{\"id\":\"6653\",\"type\":\"PanTool\"},{\"id\":\"6654\",\"type\":\"WheelZoomTool\"},{\"id\":\"6655\",\"type\":\"BoxZoomTool\"},{\"id\":\"6656\",\"type\":\"SaveTool\"},{\"id\":\"6657\",\"type\":\"ResetTool\"},{\"id\":\"6658\",\"type\":\"HelpTool\"},{\"id\":\"6705\",\"type\":\"HoverTool\"}]},\"id\":\"6659\",\"type\":\"Toolbar\"},{\"attributes\":{},\"id\":\"6654\",\"type\":\"WheelZoomTool\"}],\"root_ids\":[\"6632\"]},\"title\":\"Bokeh Application\",\"version\":\"1.3.4\"}};\n",
       "  var render_items = [{\"docid\":\"e4efa1f1-2190-4223-a316-9ec8fad79f66\",\"roots\":{\"6632\":\"62b40cae-ee37-49f1-b63a-e33c3dde85e3\"}}];\n",
       "  root.Bokeh.embed.embed_items_notebook(docs_json, render_items);\n",
       "\n",
       "  }\n",
       "  if (root.Bokeh !== undefined) {\n",
       "    embed_document(root);\n",
       "  } else {\n",
       "    var attempts = 0;\n",
       "    var timer = setInterval(function(root) {\n",
       "      if (root.Bokeh !== undefined) {\n",
       "        embed_document(root);\n",
       "        clearInterval(timer);\n",
       "      }\n",
       "      attempts++;\n",
       "      if (attempts > 100) {\n",
       "        console.log(\"Bokeh: ERROR: Unable to run BokehJS code because BokehJS library is missing\");\n",
       "        clearInterval(timer);\n",
       "      }\n",
       "    }, 10, root)\n",
       "  }\n",
       "})(window);"
      ],
      "application/vnd.bokehjs_exec.v0+json": ""
     },
     "metadata": {
      "application/vnd.bokehjs_exec.v0+json": {
       "id": "6632"
      }
     },
     "output_type": "display_data"
    }
   ],
   "source": [
    "# Pupil teacher ratio\n",
    "years = list(map(str, list(range(2000,2018))))\n",
    "result = show_weighted_average(years, 'SE.PRM.ENRL.TC.ZS', 'SP.POP.TOTL', \n",
    "                               ['LDCs', 'Developing excluding LDCs'])"
   ]
  },
  {
   "cell_type": "code",
   "execution_count": 22,
   "metadata": {
    "ExecuteTime": {
     "end_time": "2019-10-25T14:25:45.212387Z",
     "start_time": "2019-10-25T14:25:43.238485Z"
    },
    "scrolled": true
   },
   "outputs": [
    {
     "data": {
      "text/html": [
       "\n",
       "\n",
       "\n",
       "\n",
       "\n",
       "\n",
       "  <div class=\"bk-root\" id=\"4164aa2a-1817-4f36-9d58-fa943db1cc90\" data-root-id=\"7084\"></div>\n"
      ]
     },
     "metadata": {},
     "output_type": "display_data"
    },
    {
     "data": {
      "application/javascript": [
       "(function(root) {\n",
       "  function embed_document(root) {\n",
       "    \n",
       "  var docs_json = {\"0edee2cd-ccbe-4dcb-bd97-e9bd12f512ab\":{\"roots\":{\"references\":[{\"attributes\":{\"below\":[{\"id\":\"7095\",\"type\":\"LinearAxis\"}],\"center\":[{\"id\":\"7099\",\"type\":\"Grid\"},{\"id\":\"7104\",\"type\":\"Grid\"},{\"id\":\"7129\",\"type\":\"Legend\"}],\"left\":[{\"id\":\"7100\",\"type\":\"LinearAxis\"}],\"plot_height\":400,\"plot_width\":800,\"renderers\":[{\"id\":\"7121\",\"type\":\"GlyphRenderer\"},{\"id\":\"7134\",\"type\":\"GlyphRenderer\"},{\"id\":\"7139\",\"type\":\"GlyphRenderer\"},{\"id\":\"7155\",\"type\":\"GlyphRenderer\"},{\"id\":\"7160\",\"type\":\"GlyphRenderer\"},{\"id\":\"7180\",\"type\":\"GlyphRenderer\"}],\"title\":{\"id\":\"7085\",\"type\":\"Title\"},\"toolbar\":{\"id\":\"7111\",\"type\":\"Toolbar\"},\"x_range\":{\"id\":\"7087\",\"type\":\"DataRange1d\"},\"x_scale\":{\"id\":\"7091\",\"type\":\"LinearScale\"},\"y_range\":{\"id\":\"7089\",\"type\":\"DataRange1d\"},\"y_scale\":{\"id\":\"7093\",\"type\":\"LinearScale\"}},\"id\":\"7084\",\"subtype\":\"Figure\",\"type\":\"Plot\"},{\"attributes\":{},\"id\":\"7126\",\"type\":\"BasicTickFormatter\"},{\"attributes\":{\"callback\":null},\"id\":\"7089\",\"type\":\"DataRange1d\"},{\"attributes\":{},\"id\":\"7106\",\"type\":\"WheelZoomTool\"},{\"attributes\":{\"items\":[{\"id\":\"7130\",\"type\":\"LegendItem\"},{\"id\":\"7151\",\"type\":\"LegendItem\"},{\"id\":\"7176\",\"type\":\"LegendItem\"}],\"location\":\"bottom_left\"},\"id\":\"7129\",\"type\":\"Legend\"},{\"attributes\":{\"callback\":null,\"tooltips\":\"                \\n        <div style=padding=5px>Year:@x</div>\\n        <div style=padding=5px>Value:@y</div>        \\n        \"},\"id\":\"7182\",\"type\":\"HoverTool\"},{\"attributes\":{\"callback\":null,\"data\":{\"x\":[\"2005\",\"2006\",\"2007\",\"2008\",\"2009\",\"2010\",\"2011\",\"2012\",\"2013\",\"2014\"],\"y\":[80.87577512569715,81.85206283992444,90.65145367997155,90.45633728331472,90.59311575791322,84.11460984017013,88.05466307521918,88.90480196152866,90.7249509060436,93.73549200452184]},\"selected\":{\"id\":\"7172\",\"type\":\"Selection\"},\"selection_policy\":{\"id\":\"7173\",\"type\":\"UnionRenderers\"}},\"id\":\"7136\",\"type\":\"ColumnDataSource\"},{\"attributes\":{\"callback\":null,\"data\":{\"x\":[\"2005\",\"2006\",\"2007\",\"2008\",\"2009\",\"2010\",\"2011\",\"2012\",\"2013\",\"2014\"],\"y\":[94.93443,95.15333,95.36857,95.04649,95.58816,95.58591,96.00005,95.99993,96.40006,96.78775]},\"selected\":{\"id\":\"7491\",\"type\":\"Selection\"},\"selection_policy\":{\"id\":\"7492\",\"type\":\"UnionRenderers\"}},\"id\":\"7157\",\"type\":\"ColumnDataSource\"},{\"attributes\":{},\"id\":\"7494\",\"type\":\"UnionRenderers\"},{\"attributes\":{\"active_drag\":\"auto\",\"active_inspect\":\"auto\",\"active_multi\":null,\"active_scroll\":\"auto\",\"active_tap\":\"auto\",\"tools\":[{\"id\":\"7105\",\"type\":\"PanTool\"},{\"id\":\"7106\",\"type\":\"WheelZoomTool\"},{\"id\":\"7107\",\"type\":\"BoxZoomTool\"},{\"id\":\"7108\",\"type\":\"SaveTool\"},{\"id\":\"7109\",\"type\":\"ResetTool\"},{\"id\":\"7110\",\"type\":\"HelpTool\"},{\"id\":\"7182\",\"type\":\"HoverTool\"}]},\"id\":\"7111\",\"type\":\"Toolbar\"},{\"attributes\":{\"axis_label\":\"Years\",\"formatter\":{\"id\":\"7126\",\"type\":\"BasicTickFormatter\"},\"ticker\":{\"id\":\"7096\",\"type\":\"BasicTicker\"}},\"id\":\"7095\",\"type\":\"LinearAxis\"},{\"attributes\":{},\"id\":\"7093\",\"type\":\"LinearScale\"},{\"attributes\":{},\"id\":\"7096\",\"type\":\"BasicTicker\"},{\"attributes\":{},\"id\":\"7172\",\"type\":\"Selection\"},{\"attributes\":{},\"id\":\"7150\",\"type\":\"UnionRenderers\"},{\"attributes\":{\"line_color\":\"#5430F1\",\"x\":{\"field\":\"x\"},\"y\":{\"field\":\"y\"}},\"id\":\"7137\",\"type\":\"Line\"},{\"attributes\":{\"source\":{\"id\":\"7136\",\"type\":\"ColumnDataSource\"}},\"id\":\"7140\",\"type\":\"CDSView\"},{\"attributes\":{\"label\":{\"value\":\"Developing excluding LDCs\"},\"renderers\":[{\"id\":\"7139\",\"type\":\"GlyphRenderer\"}]},\"id\":\"7151\",\"type\":\"LegendItem\"},{\"attributes\":{},\"id\":\"7173\",\"type\":\"UnionRenderers\"},{\"attributes\":{},\"id\":\"7493\",\"type\":\"Selection\"},{\"attributes\":{\"callback\":null},\"id\":\"7087\",\"type\":\"DataRange1d\"},{\"attributes\":{\"source\":{\"id\":\"7118\",\"type\":\"ColumnDataSource\"}},\"id\":\"7122\",\"type\":\"CDSView\"},{\"attributes\":{\"callback\":null,\"data\":{\"x\":[\"2005\",\"2006\",\"2007\",\"2008\",\"2009\",\"2010\",\"2011\",\"2012\",\"2013\",\"2014\"],\"y\":[80.87577512569715,81.85206283992444,90.65145367997155,90.45633728331472,90.59311575791322,84.11460984017013,88.05466307521918,88.90480196152866,90.7249509060436,93.73549200452184]},\"selected\":{\"id\":\"7174\",\"type\":\"Selection\"},\"selection_policy\":{\"id\":\"7175\",\"type\":\"UnionRenderers\"}},\"id\":\"7152\",\"type\":\"ColumnDataSource\"},{\"attributes\":{\"axis_label\":\"SE.PRM.TCAQ.ZS\",\"formatter\":{\"id\":\"7124\",\"type\":\"BasicTickFormatter\"},\"ticker\":{\"id\":\"7101\",\"type\":\"BasicTicker\"}},\"id\":\"7100\",\"type\":\"LinearAxis\"},{\"attributes\":{\"source\":{\"id\":\"7152\",\"type\":\"ColumnDataSource\"}},\"id\":\"7156\",\"type\":\"CDSView\"},{\"attributes\":{},\"id\":\"7149\",\"type\":\"Selection\"},{\"attributes\":{\"overlay\":{\"id\":\"7128\",\"type\":\"BoxAnnotation\"}},\"id\":\"7107\",\"type\":\"BoxZoomTool\"},{\"attributes\":{\"fill_alpha\":{\"value\":0.1},\"fill_color\":{\"value\":\"#1f77b4\"},\"line_alpha\":{\"value\":0.1},\"line_color\":{\"value\":\"#1f77b4\"},\"line_width\":{\"value\":3},\"x\":{\"field\":\"x\"},\"y\":{\"field\":\"y\"}},\"id\":\"7179\",\"type\":\"Circle\"},{\"attributes\":{\"line_color\":\"#2CC775\",\"x\":{\"field\":\"x\"},\"y\":{\"field\":\"y\"}},\"id\":\"7158\",\"type\":\"Line\"},{\"attributes\":{\"callback\":null,\"data\":{\"x\":[\"2005\",\"2006\",\"2007\",\"2008\",\"2009\",\"2010\",\"2011\",\"2012\",\"2013\",\"2014\"],\"y\":[68.04371850481311,75.50888229954143,79.87922435274227,77.81223796007717,80.2435538339136,86.03203145521927,72.05415443808455,83.36058521662818,78.51356437342356,83.36680129582463]},\"selected\":{\"id\":\"7147\",\"type\":\"Selection\"},\"selection_policy\":{\"id\":\"7148\",\"type\":\"UnionRenderers\"}},\"id\":\"7118\",\"type\":\"ColumnDataSource\"},{\"attributes\":{\"label\":{\"value\":\"OECD\"},\"renderers\":[{\"id\":\"7160\",\"type\":\"GlyphRenderer\"}]},\"id\":\"7176\",\"type\":\"LegendItem\"},{\"attributes\":{},\"id\":\"7109\",\"type\":\"ResetTool\"},{\"attributes\":{},\"id\":\"7108\",\"type\":\"SaveTool\"},{\"attributes\":{\"fill_alpha\":{\"value\":0.1},\"fill_color\":{\"value\":\"#1f77b4\"},\"line_alpha\":{\"value\":0.1},\"line_color\":{\"value\":\"#1f77b4\"},\"line_width\":{\"value\":3},\"x\":{\"field\":\"x\"},\"y\":{\"field\":\"y\"}},\"id\":\"7133\",\"type\":\"Circle\"},{\"attributes\":{},\"id\":\"7492\",\"type\":\"UnionRenderers\"},{\"attributes\":{\"source\":{\"id\":\"7131\",\"type\":\"ColumnDataSource\"}},\"id\":\"7135\",\"type\":\"CDSView\"},{\"attributes\":{\"grid_line_color\":null,\"ticker\":{\"id\":\"7096\",\"type\":\"BasicTicker\"}},\"id\":\"7099\",\"type\":\"Grid\"},{\"attributes\":{},\"id\":\"7105\",\"type\":\"PanTool\"},{\"attributes\":{\"line_alpha\":0.1,\"line_color\":\"#1f77b4\",\"x\":{\"field\":\"x\"},\"y\":{\"field\":\"y\"}},\"id\":\"7159\",\"type\":\"Line\"},{\"attributes\":{\"fill_color\":{\"value\":\"#2CC775\"},\"line_color\":{\"value\":\"#2CC775\"},\"line_width\":{\"value\":3},\"x\":{\"field\":\"x\"},\"y\":{\"field\":\"y\"}},\"id\":\"7178\",\"type\":\"Circle\"},{\"attributes\":{\"data_source\":{\"id\":\"7118\",\"type\":\"ColumnDataSource\"},\"glyph\":{\"id\":\"7119\",\"type\":\"Line\"},\"hover_glyph\":null,\"muted_glyph\":null,\"nonselection_glyph\":{\"id\":\"7120\",\"type\":\"Line\"},\"selection_glyph\":null,\"view\":{\"id\":\"7122\",\"type\":\"CDSView\"}},\"id\":\"7121\",\"type\":\"GlyphRenderer\"},{\"attributes\":{\"data_source\":{\"id\":\"7131\",\"type\":\"ColumnDataSource\"},\"glyph\":{\"id\":\"7132\",\"type\":\"Circle\"},\"hover_glyph\":null,\"muted_glyph\":null,\"nonselection_glyph\":{\"id\":\"7133\",\"type\":\"Circle\"},\"selection_glyph\":null,\"view\":{\"id\":\"7135\",\"type\":\"CDSView\"}},\"id\":\"7134\",\"type\":\"GlyphRenderer\"},{\"attributes\":{\"dimension\":1,\"grid_line_alpha\":0.5,\"ticker\":{\"id\":\"7101\",\"type\":\"BasicTicker\"}},\"id\":\"7104\",\"type\":\"Grid\"},{\"attributes\":{},\"id\":\"7110\",\"type\":\"HelpTool\"},{\"attributes\":{},\"id\":\"7147\",\"type\":\"Selection\"},{\"attributes\":{\"text\":\"Trained teachers in primary education (% of total teachers) weighted against Primary education, teachers\"},\"id\":\"7085\",\"type\":\"Title\"},{\"attributes\":{\"callback\":null,\"data\":{\"x\":[\"2005\",\"2006\",\"2007\",\"2008\",\"2009\",\"2010\",\"2011\",\"2012\",\"2013\",\"2014\"],\"y\":[68.04371850481311,75.50888229954143,79.87922435274227,77.81223796007717,80.2435538339136,86.03203145521927,72.05415443808455,83.36058521662818,78.51356437342356,83.36680129582463]},\"selected\":{\"id\":\"7149\",\"type\":\"Selection\"},\"selection_policy\":{\"id\":\"7150\",\"type\":\"UnionRenderers\"}},\"id\":\"7131\",\"type\":\"ColumnDataSource\"},{\"attributes\":{\"fill_color\":{\"value\":\"#FA1857\"},\"line_color\":{\"value\":\"#FA1857\"},\"line_width\":{\"value\":3},\"x\":{\"field\":\"x\"},\"y\":{\"field\":\"y\"}},\"id\":\"7132\",\"type\":\"Circle\"},{\"attributes\":{\"source\":{\"id\":\"7157\",\"type\":\"ColumnDataSource\"}},\"id\":\"7161\",\"type\":\"CDSView\"},{\"attributes\":{},\"id\":\"7091\",\"type\":\"LinearScale\"},{\"attributes\":{\"callback\":null,\"data\":{\"x\":[\"2005\",\"2006\",\"2007\",\"2008\",\"2009\",\"2010\",\"2011\",\"2012\",\"2013\",\"2014\"],\"y\":[94.93443,95.15333,95.36857,95.04649,95.58816,95.58591,96.00005,95.99993,96.40006,96.78775]},\"selected\":{\"id\":\"7493\",\"type\":\"Selection\"},\"selection_policy\":{\"id\":\"7494\",\"type\":\"UnionRenderers\"}},\"id\":\"7177\",\"type\":\"ColumnDataSource\"},{\"attributes\":{\"bottom_units\":\"screen\",\"fill_alpha\":{\"value\":0.5},\"fill_color\":{\"value\":\"lightgrey\"},\"left_units\":\"screen\",\"level\":\"overlay\",\"line_alpha\":{\"value\":1.0},\"line_color\":{\"value\":\"black\"},\"line_dash\":[4,4],\"line_width\":{\"value\":2},\"render_mode\":\"css\",\"right_units\":\"screen\",\"top_units\":\"screen\"},\"id\":\"7128\",\"type\":\"BoxAnnotation\"},{\"attributes\":{},\"id\":\"7491\",\"type\":\"Selection\"},{\"attributes\":{\"label\":{\"value\":\"LDCs\"},\"renderers\":[{\"id\":\"7121\",\"type\":\"GlyphRenderer\"}]},\"id\":\"7130\",\"type\":\"LegendItem\"},{\"attributes\":{},\"id\":\"7174\",\"type\":\"Selection\"},{\"attributes\":{\"data_source\":{\"id\":\"7157\",\"type\":\"ColumnDataSource\"},\"glyph\":{\"id\":\"7158\",\"type\":\"Line\"},\"hover_glyph\":null,\"muted_glyph\":null,\"nonselection_glyph\":{\"id\":\"7159\",\"type\":\"Line\"},\"selection_glyph\":null,\"view\":{\"id\":\"7161\",\"type\":\"CDSView\"}},\"id\":\"7160\",\"type\":\"GlyphRenderer\"},{\"attributes\":{\"fill_color\":{\"value\":\"#5430F1\"},\"line_color\":{\"value\":\"#5430F1\"},\"line_width\":{\"value\":3},\"x\":{\"field\":\"x\"},\"y\":{\"field\":\"y\"}},\"id\":\"7153\",\"type\":\"Circle\"},{\"attributes\":{\"data_source\":{\"id\":\"7177\",\"type\":\"ColumnDataSource\"},\"glyph\":{\"id\":\"7178\",\"type\":\"Circle\"},\"hover_glyph\":null,\"muted_glyph\":null,\"nonselection_glyph\":{\"id\":\"7179\",\"type\":\"Circle\"},\"selection_glyph\":null,\"view\":{\"id\":\"7181\",\"type\":\"CDSView\"}},\"id\":\"7180\",\"type\":\"GlyphRenderer\"},{\"attributes\":{},\"id\":\"7148\",\"type\":\"UnionRenderers\"},{\"attributes\":{},\"id\":\"7124\",\"type\":\"BasicTickFormatter\"},{\"attributes\":{\"line_color\":\"#FA1857\",\"x\":{\"field\":\"x\"},\"y\":{\"field\":\"y\"}},\"id\":\"7119\",\"type\":\"Line\"},{\"attributes\":{\"source\":{\"id\":\"7177\",\"type\":\"ColumnDataSource\"}},\"id\":\"7181\",\"type\":\"CDSView\"},{\"attributes\":{},\"id\":\"7175\",\"type\":\"UnionRenderers\"},{\"attributes\":{\"data_source\":{\"id\":\"7136\",\"type\":\"ColumnDataSource\"},\"glyph\":{\"id\":\"7137\",\"type\":\"Line\"},\"hover_glyph\":null,\"muted_glyph\":null,\"nonselection_glyph\":{\"id\":\"7138\",\"type\":\"Line\"},\"selection_glyph\":null,\"view\":{\"id\":\"7140\",\"type\":\"CDSView\"}},\"id\":\"7139\",\"type\":\"GlyphRenderer\"},{\"attributes\":{},\"id\":\"7101\",\"type\":\"BasicTicker\"},{\"attributes\":{\"fill_alpha\":{\"value\":0.1},\"fill_color\":{\"value\":\"#1f77b4\"},\"line_alpha\":{\"value\":0.1},\"line_color\":{\"value\":\"#1f77b4\"},\"line_width\":{\"value\":3},\"x\":{\"field\":\"x\"},\"y\":{\"field\":\"y\"}},\"id\":\"7154\",\"type\":\"Circle\"},{\"attributes\":{\"data_source\":{\"id\":\"7152\",\"type\":\"ColumnDataSource\"},\"glyph\":{\"id\":\"7153\",\"type\":\"Circle\"},\"hover_glyph\":null,\"muted_glyph\":null,\"nonselection_glyph\":{\"id\":\"7154\",\"type\":\"Circle\"},\"selection_glyph\":null,\"view\":{\"id\":\"7156\",\"type\":\"CDSView\"}},\"id\":\"7155\",\"type\":\"GlyphRenderer\"},{\"attributes\":{\"line_alpha\":0.1,\"line_color\":\"#1f77b4\",\"x\":{\"field\":\"x\"},\"y\":{\"field\":\"y\"}},\"id\":\"7120\",\"type\":\"Line\"},{\"attributes\":{\"line_alpha\":0.1,\"line_color\":\"#1f77b4\",\"x\":{\"field\":\"x\"},\"y\":{\"field\":\"y\"}},\"id\":\"7138\",\"type\":\"Line\"}],\"root_ids\":[\"7084\"]},\"title\":\"Bokeh Application\",\"version\":\"1.3.4\"}};\n",
       "  var render_items = [{\"docid\":\"0edee2cd-ccbe-4dcb-bd97-e9bd12f512ab\",\"roots\":{\"7084\":\"4164aa2a-1817-4f36-9d58-fa943db1cc90\"}}];\n",
       "  root.Bokeh.embed.embed_items_notebook(docs_json, render_items);\n",
       "\n",
       "  }\n",
       "  if (root.Bokeh !== undefined) {\n",
       "    embed_document(root);\n",
       "  } else {\n",
       "    var attempts = 0;\n",
       "    var timer = setInterval(function(root) {\n",
       "      if (root.Bokeh !== undefined) {\n",
       "        embed_document(root);\n",
       "        clearInterval(timer);\n",
       "      }\n",
       "      attempts++;\n",
       "      if (attempts > 100) {\n",
       "        console.log(\"Bokeh: ERROR: Unable to run BokehJS code because BokehJS library is missing\");\n",
       "        clearInterval(timer);\n",
       "      }\n",
       "    }, 10, root)\n",
       "  }\n",
       "})(window);"
      ],
      "application/vnd.bokehjs_exec.v0+json": ""
     },
     "metadata": {
      "application/vnd.bokehjs_exec.v0+json": {
       "id": "7084"
      }
     },
     "output_type": "display_data"
    }
   ],
   "source": [
    "# Trained teachers in primary\n",
    "years = list(map(str, list(range(2005,2015))))\n",
    "result = show_weighted_average(years, 'SE.PRM.TCAQ.ZS', 'SE.PRM.TCHR', \n",
    "                               ['LDCs', 'Developing excluding LDCs', 'OECD'])"
   ]
  },
  {
   "cell_type": "code",
   "execution_count": 23,
   "metadata": {
    "ExecuteTime": {
     "end_time": "2019-10-25T14:25:47.154621Z",
     "start_time": "2019-10-25T14:25:45.217692Z"
    }
   },
   "outputs": [
    {
     "data": {
      "text/html": [
       "\n",
       "\n",
       "\n",
       "\n",
       "\n",
       "\n",
       "  <div class=\"bk-root\" id=\"b5dcc269-a099-41a5-94fb-1e06e78a8218\" data-root-id=\"7603\"></div>\n"
      ]
     },
     "metadata": {},
     "output_type": "display_data"
    },
    {
     "data": {
      "application/javascript": [
       "(function(root) {\n",
       "  function embed_document(root) {\n",
       "    \n",
       "  var docs_json = {\"16d38917-2e77-4ed1-a80f-2bfb4babb0a8\":{\"roots\":{\"references\":[{\"attributes\":{\"below\":[{\"id\":\"7614\",\"type\":\"LinearAxis\"}],\"center\":[{\"id\":\"7618\",\"type\":\"Grid\"},{\"id\":\"7623\",\"type\":\"Grid\"},{\"id\":\"7648\",\"type\":\"Legend\"}],\"left\":[{\"id\":\"7619\",\"type\":\"LinearAxis\"}],\"plot_height\":400,\"plot_width\":800,\"renderers\":[{\"id\":\"7640\",\"type\":\"GlyphRenderer\"},{\"id\":\"7653\",\"type\":\"GlyphRenderer\"},{\"id\":\"7658\",\"type\":\"GlyphRenderer\"},{\"id\":\"7674\",\"type\":\"GlyphRenderer\"},{\"id\":\"7679\",\"type\":\"GlyphRenderer\"},{\"id\":\"7699\",\"type\":\"GlyphRenderer\"}],\"title\":{\"id\":\"7604\",\"type\":\"Title\"},\"toolbar\":{\"id\":\"7630\",\"type\":\"Toolbar\"},\"x_range\":{\"id\":\"7606\",\"type\":\"DataRange1d\"},\"x_scale\":{\"id\":\"7610\",\"type\":\"LinearScale\"},\"y_range\":{\"id\":\"7608\",\"type\":\"DataRange1d\"},\"y_scale\":{\"id\":\"7612\",\"type\":\"LinearScale\"}},\"id\":\"7603\",\"subtype\":\"Figure\",\"type\":\"Plot\"},{\"attributes\":{\"items\":[{\"id\":\"7649\",\"type\":\"LegendItem\"},{\"id\":\"7670\",\"type\":\"LegendItem\"},{\"id\":\"7695\",\"type\":\"LegendItem\"}],\"location\":\"bottom_left\"},\"id\":\"7648\",\"type\":\"Legend\"},{\"attributes\":{\"callback\":null,\"data\":{\"x\":[\"2005\",\"2006\",\"2007\",\"2008\",\"2009\",\"2010\",\"2011\",\"2012\",\"2013\",\"2014\"],\"y\":[79.32941752876195,86.15621977489293,86.02774661892278,75.6848372922106,86.58685496184725,56.63384935461981,67.78695315953377,62.34684223691954,52.49870973544407,51.4375480377963]},\"selected\":{\"id\":\"7668\",\"type\":\"Selection\"},\"selection_policy\":{\"id\":\"7669\",\"type\":\"UnionRenderers\"}},\"id\":\"7650\",\"type\":\"ColumnDataSource\"},{\"attributes\":{},\"id\":\"7643\",\"type\":\"BasicTickFormatter\"},{\"attributes\":{},\"id\":\"7610\",\"type\":\"LinearScale\"},{\"attributes\":{},\"id\":\"7693\",\"type\":\"Selection\"},{\"attributes\":{\"callback\":null,\"tooltips\":\"                \\n        <div style=padding=5px>Year:@x</div>\\n        <div style=padding=5px>Value:@y</div>        \\n        \"},\"id\":\"7701\",\"type\":\"HoverTool\"},{\"attributes\":{\"source\":{\"id\":\"7676\",\"type\":\"ColumnDataSource\"}},\"id\":\"7680\",\"type\":\"CDSView\"},{\"attributes\":{},\"id\":\"7645\",\"type\":\"BasicTickFormatter\"},{\"attributes\":{},\"id\":\"7691\",\"type\":\"Selection\"},{\"attributes\":{\"source\":{\"id\":\"7671\",\"type\":\"ColumnDataSource\"}},\"id\":\"7675\",\"type\":\"CDSView\"},{\"attributes\":{\"bottom_units\":\"screen\",\"fill_alpha\":{\"value\":0.5},\"fill_color\":{\"value\":\"lightgrey\"},\"left_units\":\"screen\",\"level\":\"overlay\",\"line_alpha\":{\"value\":1.0},\"line_color\":{\"value\":\"black\"},\"line_dash\":[4,4],\"line_width\":{\"value\":2},\"render_mode\":\"css\",\"right_units\":\"screen\",\"top_units\":\"screen\"},\"id\":\"7647\",\"type\":\"BoxAnnotation\"},{\"attributes\":{},\"id\":\"7692\",\"type\":\"UnionRenderers\"},{\"attributes\":{\"callback\":null,\"data\":{\"x\":[\"2005\",\"2006\",\"2007\",\"2008\",\"2009\",\"2010\",\"2011\",\"2012\",\"2013\",\"2014\"],\"y\":[86.82574356731617,87.49911600327948,92.20883194794601,91.51287856450479,92.41662152112006,83.57414302746557,88.6627442012224,89.21585520344051,88.80962696969527,90.12928443149794]},\"selected\":{\"id\":\"7693\",\"type\":\"Selection\"},\"selection_policy\":{\"id\":\"7694\",\"type\":\"UnionRenderers\"}},\"id\":\"7671\",\"type\":\"ColumnDataSource\"},{\"attributes\":{\"label\":{\"value\":\"LDCs\"},\"renderers\":[{\"id\":\"7640\",\"type\":\"GlyphRenderer\"}]},\"id\":\"7649\",\"type\":\"LegendItem\"},{\"attributes\":{\"data_source\":{\"id\":\"7637\",\"type\":\"ColumnDataSource\"},\"glyph\":{\"id\":\"7638\",\"type\":\"Line\"},\"hover_glyph\":null,\"muted_glyph\":null,\"nonselection_glyph\":{\"id\":\"7639\",\"type\":\"Line\"},\"selection_glyph\":null,\"view\":{\"id\":\"7641\",\"type\":\"CDSView\"}},\"id\":\"7640\",\"type\":\"GlyphRenderer\"},{\"attributes\":{\"callback\":null},\"id\":\"7608\",\"type\":\"DataRange1d\"},{\"attributes\":{\"line_color\":\"#2CC775\",\"x\":{\"field\":\"x\"},\"y\":{\"field\":\"y\"}},\"id\":\"7677\",\"type\":\"Line\"},{\"attributes\":{\"callback\":null,\"data\":{\"x\":[\"2005\",\"2006\",\"2007\",\"2008\",\"2009\",\"2010\",\"2011\",\"2012\",\"2013\",\"2014\"],\"y\":[89.36711,85.318,90.00625,88.78647,89.85324,90.99565,85.67287,91.79758,92.06496,90.8964]},\"selected\":{\"id\":\"8028\",\"type\":\"Selection\"},\"selection_policy\":{\"id\":\"8029\",\"type\":\"UnionRenderers\"}},\"id\":\"7676\",\"type\":\"ColumnDataSource\"},{\"attributes\":{\"line_alpha\":0.1,\"line_color\":\"#1f77b4\",\"x\":{\"field\":\"x\"},\"y\":{\"field\":\"y\"}},\"id\":\"7678\",\"type\":\"Line\"},{\"attributes\":{},\"id\":\"7627\",\"type\":\"SaveTool\"},{\"attributes\":{\"fill_color\":{\"value\":\"#5430F1\"},\"line_color\":{\"value\":\"#5430F1\"},\"line_width\":{\"value\":3},\"x\":{\"field\":\"x\"},\"y\":{\"field\":\"y\"}},\"id\":\"7672\",\"type\":\"Circle\"},{\"attributes\":{\"data_source\":{\"id\":\"7676\",\"type\":\"ColumnDataSource\"},\"glyph\":{\"id\":\"7677\",\"type\":\"Line\"},\"hover_glyph\":null,\"muted_glyph\":null,\"nonselection_glyph\":{\"id\":\"7678\",\"type\":\"Line\"},\"selection_glyph\":null,\"view\":{\"id\":\"7680\",\"type\":\"CDSView\"}},\"id\":\"7679\",\"type\":\"GlyphRenderer\"},{\"attributes\":{\"source\":{\"id\":\"7637\",\"type\":\"ColumnDataSource\"}},\"id\":\"7641\",\"type\":\"CDSView\"},{\"attributes\":{\"callback\":null,\"data\":{\"x\":[\"2005\",\"2006\",\"2007\",\"2008\",\"2009\",\"2010\",\"2011\",\"2012\",\"2013\",\"2014\"],\"y\":[79.32941752876195,86.15621977489293,86.02774661892278,75.6848372922106,86.58685496184725,56.63384935461981,67.78695315953377,62.34684223691954,52.49870973544407,51.4375480377963]},\"selected\":{\"id\":\"7666\",\"type\":\"Selection\"},\"selection_policy\":{\"id\":\"7667\",\"type\":\"UnionRenderers\"}},\"id\":\"7637\",\"type\":\"ColumnDataSource\"},{\"attributes\":{},\"id\":\"7668\",\"type\":\"Selection\"},{\"attributes\":{\"data_source\":{\"id\":\"7671\",\"type\":\"ColumnDataSource\"},\"glyph\":{\"id\":\"7672\",\"type\":\"Circle\"},\"hover_glyph\":null,\"muted_glyph\":null,\"nonselection_glyph\":{\"id\":\"7673\",\"type\":\"Circle\"},\"selection_glyph\":null,\"view\":{\"id\":\"7675\",\"type\":\"CDSView\"}},\"id\":\"7674\",\"type\":\"GlyphRenderer\"},{\"attributes\":{\"callback\":null},\"id\":\"7606\",\"type\":\"DataRange1d\"},{\"attributes\":{},\"id\":\"7629\",\"type\":\"HelpTool\"},{\"attributes\":{},\"id\":\"7628\",\"type\":\"ResetTool\"},{\"attributes\":{\"fill_alpha\":{\"value\":0.1},\"fill_color\":{\"value\":\"#1f77b4\"},\"line_alpha\":{\"value\":0.1},\"line_color\":{\"value\":\"#1f77b4\"},\"line_width\":{\"value\":3},\"x\":{\"field\":\"x\"},\"y\":{\"field\":\"y\"}},\"id\":\"7673\",\"type\":\"Circle\"},{\"attributes\":{},\"id\":\"7624\",\"type\":\"PanTool\"},{\"attributes\":{},\"id\":\"7669\",\"type\":\"UnionRenderers\"},{\"attributes\":{\"active_drag\":\"auto\",\"active_inspect\":\"auto\",\"active_multi\":null,\"active_scroll\":\"auto\",\"active_tap\":\"auto\",\"tools\":[{\"id\":\"7624\",\"type\":\"PanTool\"},{\"id\":\"7625\",\"type\":\"WheelZoomTool\"},{\"id\":\"7626\",\"type\":\"BoxZoomTool\"},{\"id\":\"7627\",\"type\":\"SaveTool\"},{\"id\":\"7628\",\"type\":\"ResetTool\"},{\"id\":\"7629\",\"type\":\"HelpTool\"},{\"id\":\"7701\",\"type\":\"HoverTool\"}]},\"id\":\"7630\",\"type\":\"Toolbar\"},{\"attributes\":{\"line_alpha\":0.1,\"line_color\":\"#1f77b4\",\"x\":{\"field\":\"x\"},\"y\":{\"field\":\"y\"}},\"id\":\"7639\",\"type\":\"Line\"},{\"attributes\":{\"source\":{\"id\":\"7650\",\"type\":\"ColumnDataSource\"}},\"id\":\"7654\",\"type\":\"CDSView\"},{\"attributes\":{\"fill_color\":{\"value\":\"#2CC775\"},\"line_color\":{\"value\":\"#2CC775\"},\"line_width\":{\"value\":3},\"x\":{\"field\":\"x\"},\"y\":{\"field\":\"y\"}},\"id\":\"7697\",\"type\":\"Circle\"},{\"attributes\":{\"source\":{\"id\":\"7655\",\"type\":\"ColumnDataSource\"}},\"id\":\"7659\",\"type\":\"CDSView\"},{\"attributes\":{},\"id\":\"8029\",\"type\":\"UnionRenderers\"},{\"attributes\":{\"overlay\":{\"id\":\"7647\",\"type\":\"BoxAnnotation\"}},\"id\":\"7626\",\"type\":\"BoxZoomTool\"},{\"attributes\":{\"text\":\"Trained teachers in secondary education (% of total teachers) weighted against Secondary education, teachers\"},\"id\":\"7604\",\"type\":\"Title\"},{\"attributes\":{},\"id\":\"7620\",\"type\":\"BasicTicker\"},{\"attributes\":{\"callback\":null,\"data\":{\"x\":[\"2005\",\"2006\",\"2007\",\"2008\",\"2009\",\"2010\",\"2011\",\"2012\",\"2013\",\"2014\"],\"y\":[89.36711,85.318,90.00625,88.78647,89.85324,90.99565,85.67287,91.79758,92.06496,90.8964]},\"selected\":{\"id\":\"8030\",\"type\":\"Selection\"},\"selection_policy\":{\"id\":\"8031\",\"type\":\"UnionRenderers\"}},\"id\":\"7696\",\"type\":\"ColumnDataSource\"},{\"attributes\":{},\"id\":\"7625\",\"type\":\"WheelZoomTool\"},{\"attributes\":{\"label\":{\"value\":\"Developing excluding LDCs\"},\"renderers\":[{\"id\":\"7658\",\"type\":\"GlyphRenderer\"}]},\"id\":\"7670\",\"type\":\"LegendItem\"},{\"attributes\":{},\"id\":\"8030\",\"type\":\"Selection\"},{\"attributes\":{},\"id\":\"7666\",\"type\":\"Selection\"},{\"attributes\":{},\"id\":\"8031\",\"type\":\"UnionRenderers\"},{\"attributes\":{\"dimension\":1,\"grid_line_alpha\":0.5,\"ticker\":{\"id\":\"7620\",\"type\":\"BasicTicker\"}},\"id\":\"7623\",\"type\":\"Grid\"},{\"attributes\":{},\"id\":\"7667\",\"type\":\"UnionRenderers\"},{\"attributes\":{\"data_source\":{\"id\":\"7650\",\"type\":\"ColumnDataSource\"},\"glyph\":{\"id\":\"7651\",\"type\":\"Circle\"},\"hover_glyph\":null,\"muted_glyph\":null,\"nonselection_glyph\":{\"id\":\"7652\",\"type\":\"Circle\"},\"selection_glyph\":null,\"view\":{\"id\":\"7654\",\"type\":\"CDSView\"}},\"id\":\"7653\",\"type\":\"GlyphRenderer\"},{\"attributes\":{\"grid_line_color\":null,\"ticker\":{\"id\":\"7615\",\"type\":\"BasicTicker\"}},\"id\":\"7618\",\"type\":\"Grid\"},{\"attributes\":{\"source\":{\"id\":\"7696\",\"type\":\"ColumnDataSource\"}},\"id\":\"7700\",\"type\":\"CDSView\"},{\"attributes\":{\"label\":{\"value\":\"OECD\"},\"renderers\":[{\"id\":\"7679\",\"type\":\"GlyphRenderer\"}]},\"id\":\"7695\",\"type\":\"LegendItem\"},{\"attributes\":{\"line_color\":\"#5430F1\",\"x\":{\"field\":\"x\"},\"y\":{\"field\":\"y\"}},\"id\":\"7656\",\"type\":\"Line\"},{\"attributes\":{\"line_color\":\"#FA1857\",\"x\":{\"field\":\"x\"},\"y\":{\"field\":\"y\"}},\"id\":\"7638\",\"type\":\"Line\"},{\"attributes\":{\"axis_label\":\"SE.SEC.TCAQ.ZS\",\"formatter\":{\"id\":\"7643\",\"type\":\"BasicTickFormatter\"},\"ticker\":{\"id\":\"7620\",\"type\":\"BasicTicker\"}},\"id\":\"7619\",\"type\":\"LinearAxis\"},{\"attributes\":{\"line_alpha\":0.1,\"line_color\":\"#1f77b4\",\"x\":{\"field\":\"x\"},\"y\":{\"field\":\"y\"}},\"id\":\"7657\",\"type\":\"Line\"},{\"attributes\":{},\"id\":\"8028\",\"type\":\"Selection\"},{\"attributes\":{\"fill_alpha\":{\"value\":0.1},\"fill_color\":{\"value\":\"#1f77b4\"},\"line_alpha\":{\"value\":0.1},\"line_color\":{\"value\":\"#1f77b4\"},\"line_width\":{\"value\":3},\"x\":{\"field\":\"x\"},\"y\":{\"field\":\"y\"}},\"id\":\"7652\",\"type\":\"Circle\"},{\"attributes\":{\"data_source\":{\"id\":\"7655\",\"type\":\"ColumnDataSource\"},\"glyph\":{\"id\":\"7656\",\"type\":\"Line\"},\"hover_glyph\":null,\"muted_glyph\":null,\"nonselection_glyph\":{\"id\":\"7657\",\"type\":\"Line\"},\"selection_glyph\":null,\"view\":{\"id\":\"7659\",\"type\":\"CDSView\"}},\"id\":\"7658\",\"type\":\"GlyphRenderer\"},{\"attributes\":{},\"id\":\"7694\",\"type\":\"UnionRenderers\"},{\"attributes\":{\"fill_color\":{\"value\":\"#FA1857\"},\"line_color\":{\"value\":\"#FA1857\"},\"line_width\":{\"value\":3},\"x\":{\"field\":\"x\"},\"y\":{\"field\":\"y\"}},\"id\":\"7651\",\"type\":\"Circle\"},{\"attributes\":{\"callback\":null,\"data\":{\"x\":[\"2005\",\"2006\",\"2007\",\"2008\",\"2009\",\"2010\",\"2011\",\"2012\",\"2013\",\"2014\"],\"y\":[86.82574356731617,87.49911600327948,92.20883194794601,91.51287856450479,92.41662152112006,83.57414302746557,88.6627442012224,89.21585520344051,88.80962696969527,90.12928443149794]},\"selected\":{\"id\":\"7691\",\"type\":\"Selection\"},\"selection_policy\":{\"id\":\"7692\",\"type\":\"UnionRenderers\"}},\"id\":\"7655\",\"type\":\"ColumnDataSource\"},{\"attributes\":{\"fill_alpha\":{\"value\":0.1},\"fill_color\":{\"value\":\"#1f77b4\"},\"line_alpha\":{\"value\":0.1},\"line_color\":{\"value\":\"#1f77b4\"},\"line_width\":{\"value\":3},\"x\":{\"field\":\"x\"},\"y\":{\"field\":\"y\"}},\"id\":\"7698\",\"type\":\"Circle\"},{\"attributes\":{},\"id\":\"7612\",\"type\":\"LinearScale\"},{\"attributes\":{\"data_source\":{\"id\":\"7696\",\"type\":\"ColumnDataSource\"},\"glyph\":{\"id\":\"7697\",\"type\":\"Circle\"},\"hover_glyph\":null,\"muted_glyph\":null,\"nonselection_glyph\":{\"id\":\"7698\",\"type\":\"Circle\"},\"selection_glyph\":null,\"view\":{\"id\":\"7700\",\"type\":\"CDSView\"}},\"id\":\"7699\",\"type\":\"GlyphRenderer\"},{\"attributes\":{},\"id\":\"7615\",\"type\":\"BasicTicker\"},{\"attributes\":{\"axis_label\":\"Years\",\"formatter\":{\"id\":\"7645\",\"type\":\"BasicTickFormatter\"},\"ticker\":{\"id\":\"7615\",\"type\":\"BasicTicker\"}},\"id\":\"7614\",\"type\":\"LinearAxis\"}],\"root_ids\":[\"7603\"]},\"title\":\"Bokeh Application\",\"version\":\"1.3.4\"}};\n",
       "  var render_items = [{\"docid\":\"16d38917-2e77-4ed1-a80f-2bfb4babb0a8\",\"roots\":{\"7603\":\"b5dcc269-a099-41a5-94fb-1e06e78a8218\"}}];\n",
       "  root.Bokeh.embed.embed_items_notebook(docs_json, render_items);\n",
       "\n",
       "  }\n",
       "  if (root.Bokeh !== undefined) {\n",
       "    embed_document(root);\n",
       "  } else {\n",
       "    var attempts = 0;\n",
       "    var timer = setInterval(function(root) {\n",
       "      if (root.Bokeh !== undefined) {\n",
       "        embed_document(root);\n",
       "        clearInterval(timer);\n",
       "      }\n",
       "      attempts++;\n",
       "      if (attempts > 100) {\n",
       "        console.log(\"Bokeh: ERROR: Unable to run BokehJS code because BokehJS library is missing\");\n",
       "        clearInterval(timer);\n",
       "      }\n",
       "    }, 10, root)\n",
       "  }\n",
       "})(window);"
      ],
      "application/vnd.bokehjs_exec.v0+json": ""
     },
     "metadata": {
      "application/vnd.bokehjs_exec.v0+json": {
       "id": "7603"
      }
     },
     "output_type": "display_data"
    }
   ],
   "source": [
    "# Trained teachers secondary\n",
    "years = list(map(str, list(range(2005,2015))))\n",
    "result = show_weighted_average(years, 'SE.SEC.TCAQ.ZS', 'SE.SEC.TCHR', \n",
    "                               ['LDCs', 'Developing excluding LDCs', 'OECD'])"
   ]
  },
  {
   "cell_type": "markdown",
   "metadata": {},
   "source": [
    "# Youth development"
   ]
  },
  {
   "cell_type": "code",
   "execution_count": 24,
   "metadata": {
    "ExecuteTime": {
     "end_time": "2019-10-25T14:25:48.983763Z",
     "start_time": "2019-10-25T14:25:47.157404Z"
    },
    "slideshow": {
     "slide_type": "slide"
    }
   },
   "outputs": [
    {
     "data": {
      "text/html": [
       "\n",
       "\n",
       "\n",
       "\n",
       "\n",
       "\n",
       "  <div class=\"bk-root\" id=\"aa580cde-0799-4ff5-846e-16fe34e605fa\" data-root-id=\"8140\"></div>\n"
      ]
     },
     "metadata": {},
     "output_type": "display_data"
    },
    {
     "data": {
      "application/javascript": [
       "(function(root) {\n",
       "  function embed_document(root) {\n",
       "    \n",
       "  var docs_json = {\"996b7e5c-aade-4097-abfc-b20d6d91755e\":{\"roots\":{\"references\":[{\"attributes\":{\"below\":[{\"id\":\"8151\",\"type\":\"LinearAxis\"}],\"center\":[{\"id\":\"8155\",\"type\":\"Grid\"},{\"id\":\"8160\",\"type\":\"Grid\"},{\"id\":\"8185\",\"type\":\"Legend\"}],\"left\":[{\"id\":\"8156\",\"type\":\"LinearAxis\"}],\"plot_height\":400,\"plot_width\":800,\"renderers\":[{\"id\":\"8177\",\"type\":\"GlyphRenderer\"},{\"id\":\"8190\",\"type\":\"GlyphRenderer\"},{\"id\":\"8195\",\"type\":\"GlyphRenderer\"},{\"id\":\"8211\",\"type\":\"GlyphRenderer\"}],\"title\":{\"id\":\"8141\",\"type\":\"Title\"},\"toolbar\":{\"id\":\"8167\",\"type\":\"Toolbar\"},\"x_range\":{\"id\":\"8143\",\"type\":\"DataRange1d\"},\"x_scale\":{\"id\":\"8147\",\"type\":\"LinearScale\"},\"y_range\":{\"id\":\"8145\",\"type\":\"DataRange1d\"},\"y_scale\":{\"id\":\"8149\",\"type\":\"LinearScale\"}},\"id\":\"8140\",\"subtype\":\"Figure\",\"type\":\"Plot\"},{\"attributes\":{\"bottom_units\":\"screen\",\"fill_alpha\":{\"value\":0.5},\"fill_color\":{\"value\":\"lightgrey\"},\"left_units\":\"screen\",\"level\":\"overlay\",\"line_alpha\":{\"value\":1.0},\"line_color\":{\"value\":\"black\"},\"line_dash\":[4,4],\"line_width\":{\"value\":2},\"render_mode\":\"css\",\"right_units\":\"screen\",\"top_units\":\"screen\"},\"id\":\"8184\",\"type\":\"BoxAnnotation\"},{\"attributes\":{\"callback\":null},\"id\":\"8143\",\"type\":\"DataRange1d\"},{\"attributes\":{},\"id\":\"8554\",\"type\":\"Selection\"},{\"attributes\":{\"label\":{\"value\":\"LDCs\"},\"renderers\":[{\"id\":\"8177\",\"type\":\"GlyphRenderer\"}]},\"id\":\"8186\",\"type\":\"LegendItem\"},{\"attributes\":{\"line_alpha\":0.1,\"line_color\":\"#1f77b4\",\"x\":{\"field\":\"x\"},\"y\":{\"field\":\"y\"}},\"id\":\"8176\",\"type\":\"Line\"},{\"attributes\":{\"callback\":null},\"id\":\"8145\",\"type\":\"DataRange1d\"},{\"attributes\":{\"line_color\":\"#FA1857\",\"x\":{\"field\":\"x\"},\"y\":{\"field\":\"y\"}},\"id\":\"8175\",\"type\":\"Line\"},{\"attributes\":{\"fill_color\":{\"value\":\"#FA1857\"},\"line_color\":{\"value\":\"#FA1857\"},\"line_width\":{\"value\":3},\"x\":{\"field\":\"x\"},\"y\":{\"field\":\"y\"}},\"id\":\"8188\",\"type\":\"Circle\"},{\"attributes\":{},\"id\":\"8555\",\"type\":\"UnionRenderers\"},{\"attributes\":{},\"id\":\"8147\",\"type\":\"LinearScale\"},{\"attributes\":{},\"id\":\"8556\",\"type\":\"Selection\"},{\"attributes\":{\"callback\":null,\"data\":{\"x\":[\"2005\",\"2006\",\"2007\",\"2008\",\"2009\",\"2010\",\"2011\",\"2012\",\"2013\",\"2014\"],\"y\":[55.45037040894994,66.06053979838372,61.59263991865721,70.57472702626119,77.29950443176172,74.97632355784125,75.02611752268099,80.00946290801379,81.31988745347162,81.49752595333796]},\"selected\":{\"id\":\"8205\",\"type\":\"Selection\"},\"selection_policy\":{\"id\":\"8206\",\"type\":\"UnionRenderers\"}},\"id\":\"8187\",\"type\":\"ColumnDataSource\"},{\"attributes\":{},\"id\":\"8161\",\"type\":\"PanTool\"},{\"attributes\":{},\"id\":\"8149\",\"type\":\"LinearScale\"},{\"attributes\":{\"fill_color\":{\"value\":\"#5430F1\"},\"line_color\":{\"value\":\"#5430F1\"},\"line_width\":{\"value\":3},\"x\":{\"field\":\"x\"},\"y\":{\"field\":\"y\"}},\"id\":\"8209\",\"type\":\"Circle\"},{\"attributes\":{\"fill_alpha\":{\"value\":0.1},\"fill_color\":{\"value\":\"#1f77b4\"},\"line_alpha\":{\"value\":0.1},\"line_color\":{\"value\":\"#1f77b4\"},\"line_width\":{\"value\":3},\"x\":{\"field\":\"x\"},\"y\":{\"field\":\"y\"}},\"id\":\"8189\",\"type\":\"Circle\"},{\"attributes\":{\"axis_label\":\"Years\",\"formatter\":{\"id\":\"8182\",\"type\":\"BasicTickFormatter\"},\"ticker\":{\"id\":\"8152\",\"type\":\"BasicTicker\"}},\"id\":\"8151\",\"type\":\"LinearAxis\"},{\"attributes\":{},\"id\":\"8162\",\"type\":\"WheelZoomTool\"},{\"attributes\":{\"source\":{\"id\":\"8187\",\"type\":\"ColumnDataSource\"}},\"id\":\"8191\",\"type\":\"CDSView\"},{\"attributes\":{},\"id\":\"8152\",\"type\":\"BasicTicker\"},{\"attributes\":{\"fill_alpha\":{\"value\":0.1},\"fill_color\":{\"value\":\"#1f77b4\"},\"line_alpha\":{\"value\":0.1},\"line_color\":{\"value\":\"#1f77b4\"},\"line_width\":{\"value\":3},\"x\":{\"field\":\"x\"},\"y\":{\"field\":\"y\"}},\"id\":\"8210\",\"type\":\"Circle\"},{\"attributes\":{\"data_source\":{\"id\":\"8187\",\"type\":\"ColumnDataSource\"},\"glyph\":{\"id\":\"8188\",\"type\":\"Circle\"},\"hover_glyph\":null,\"muted_glyph\":null,\"nonselection_glyph\":{\"id\":\"8189\",\"type\":\"Circle\"},\"selection_glyph\":null,\"view\":{\"id\":\"8191\",\"type\":\"CDSView\"}},\"id\":\"8190\",\"type\":\"GlyphRenderer\"},{\"attributes\":{\"overlay\":{\"id\":\"8184\",\"type\":\"BoxAnnotation\"}},\"id\":\"8163\",\"type\":\"BoxZoomTool\"},{\"attributes\":{\"grid_line_color\":null,\"ticker\":{\"id\":\"8152\",\"type\":\"BasicTicker\"}},\"id\":\"8155\",\"type\":\"Grid\"},{\"attributes\":{\"callback\":null,\"data\":{\"x\":[\"2005\",\"2006\",\"2007\",\"2008\",\"2009\",\"2010\",\"2011\",\"2012\",\"2013\",\"2014\"],\"y\":[90.78019536879648,90.77418753814752,96.4797858665008,92.05316715849918,94.74806511431586,97.16254832371536,92.16019298807788,94.37168223840837,92.90217775217923,95.33335755824594]},\"selected\":{\"id\":\"8554\",\"type\":\"Selection\"},\"selection_policy\":{\"id\":\"8555\",\"type\":\"UnionRenderers\"}},\"id\":\"8192\",\"type\":\"ColumnDataSource\"},{\"attributes\":{},\"id\":\"8164\",\"type\":\"SaveTool\"},{\"attributes\":{\"line_alpha\":0.1,\"line_color\":\"#1f77b4\",\"x\":{\"field\":\"x\"},\"y\":{\"field\":\"y\"}},\"id\":\"8194\",\"type\":\"Line\"},{\"attributes\":{\"data_source\":{\"id\":\"8208\",\"type\":\"ColumnDataSource\"},\"glyph\":{\"id\":\"8209\",\"type\":\"Circle\"},\"hover_glyph\":null,\"muted_glyph\":null,\"nonselection_glyph\":{\"id\":\"8210\",\"type\":\"Circle\"},\"selection_glyph\":null,\"view\":{\"id\":\"8212\",\"type\":\"CDSView\"}},\"id\":\"8211\",\"type\":\"GlyphRenderer\"},{\"attributes\":{\"axis_label\":\"SE.ADT.1524.LT.MA.ZS\",\"formatter\":{\"id\":\"8180\",\"type\":\"BasicTickFormatter\"},\"ticker\":{\"id\":\"8157\",\"type\":\"BasicTicker\"}},\"id\":\"8156\",\"type\":\"LinearAxis\"},{\"attributes\":{\"line_color\":\"#5430F1\",\"x\":{\"field\":\"x\"},\"y\":{\"field\":\"y\"}},\"id\":\"8193\",\"type\":\"Line\"},{\"attributes\":{},\"id\":\"8165\",\"type\":\"ResetTool\"},{\"attributes\":{\"dimension\":1,\"grid_line_alpha\":0.5,\"ticker\":{\"id\":\"8157\",\"type\":\"BasicTicker\"}},\"id\":\"8160\",\"type\":\"Grid\"},{\"attributes\":{\"active_drag\":\"auto\",\"active_inspect\":\"auto\",\"active_multi\":null,\"active_scroll\":\"auto\",\"active_tap\":\"auto\",\"tools\":[{\"id\":\"8161\",\"type\":\"PanTool\"},{\"id\":\"8162\",\"type\":\"WheelZoomTool\"},{\"id\":\"8163\",\"type\":\"BoxZoomTool\"},{\"id\":\"8164\",\"type\":\"SaveTool\"},{\"id\":\"8165\",\"type\":\"ResetTool\"},{\"id\":\"8166\",\"type\":\"HelpTool\"},{\"id\":\"8213\",\"type\":\"HoverTool\"}]},\"id\":\"8167\",\"type\":\"Toolbar\"},{\"attributes\":{\"data_source\":{\"id\":\"8192\",\"type\":\"ColumnDataSource\"},\"glyph\":{\"id\":\"8193\",\"type\":\"Line\"},\"hover_glyph\":null,\"muted_glyph\":null,\"nonselection_glyph\":{\"id\":\"8194\",\"type\":\"Line\"},\"selection_glyph\":null,\"view\":{\"id\":\"8196\",\"type\":\"CDSView\"}},\"id\":\"8195\",\"type\":\"GlyphRenderer\"},{\"attributes\":{\"source\":{\"id\":\"8208\",\"type\":\"ColumnDataSource\"}},\"id\":\"8212\",\"type\":\"CDSView\"},{\"attributes\":{},\"id\":\"8157\",\"type\":\"BasicTicker\"},{\"attributes\":{},\"id\":\"8166\",\"type\":\"HelpTool\"},{\"attributes\":{\"callback\":null,\"tooltips\":\"                \\n        <div style=padding=5px>Year:@x</div>\\n        <div style=padding=5px>Value:@y</div>        \\n        \"},\"id\":\"8213\",\"type\":\"HoverTool\"},{\"attributes\":{},\"id\":\"8203\",\"type\":\"Selection\"},{\"attributes\":{\"data_source\":{\"id\":\"8174\",\"type\":\"ColumnDataSource\"},\"glyph\":{\"id\":\"8175\",\"type\":\"Line\"},\"hover_glyph\":null,\"muted_glyph\":null,\"nonselection_glyph\":{\"id\":\"8176\",\"type\":\"Line\"},\"selection_glyph\":null,\"view\":{\"id\":\"8178\",\"type\":\"CDSView\"}},\"id\":\"8177\",\"type\":\"GlyphRenderer\"},{\"attributes\":{\"callback\":null,\"data\":{\"x\":[\"2005\",\"2006\",\"2007\",\"2008\",\"2009\",\"2010\",\"2011\",\"2012\",\"2013\",\"2014\"],\"y\":[55.45037040894994,66.06053979838372,61.59263991865721,70.57472702626119,77.29950443176172,74.97632355784125,75.02611752268099,80.00946290801379,81.31988745347162,81.49752595333796]},\"selected\":{\"id\":\"8203\",\"type\":\"Selection\"},\"selection_policy\":{\"id\":\"8204\",\"type\":\"UnionRenderers\"}},\"id\":\"8174\",\"type\":\"ColumnDataSource\"},{\"attributes\":{\"source\":{\"id\":\"8192\",\"type\":\"ColumnDataSource\"}},\"id\":\"8196\",\"type\":\"CDSView\"},{\"attributes\":{\"source\":{\"id\":\"8174\",\"type\":\"ColumnDataSource\"}},\"id\":\"8178\",\"type\":\"CDSView\"},{\"attributes\":{},\"id\":\"8204\",\"type\":\"UnionRenderers\"},{\"attributes\":{},\"id\":\"8206\",\"type\":\"UnionRenderers\"},{\"attributes\":{},\"id\":\"8180\",\"type\":\"BasicTickFormatter\"},{\"attributes\":{},\"id\":\"8557\",\"type\":\"UnionRenderers\"},{\"attributes\":{},\"id\":\"8205\",\"type\":\"Selection\"},{\"attributes\":{\"label\":{\"value\":\"Developing excluding LDCs\"},\"renderers\":[{\"id\":\"8195\",\"type\":\"GlyphRenderer\"}]},\"id\":\"8207\",\"type\":\"LegendItem\"},{\"attributes\":{},\"id\":\"8182\",\"type\":\"BasicTickFormatter\"},{\"attributes\":{\"items\":[{\"id\":\"8186\",\"type\":\"LegendItem\"},{\"id\":\"8207\",\"type\":\"LegendItem\"}],\"location\":\"bottom_left\"},\"id\":\"8185\",\"type\":\"Legend\"},{\"attributes\":{\"callback\":null,\"data\":{\"x\":[\"2005\",\"2006\",\"2007\",\"2008\",\"2009\",\"2010\",\"2011\",\"2012\",\"2013\",\"2014\"],\"y\":[90.78019536879648,90.77418753814752,96.4797858665008,92.05316715849918,94.74806511431586,97.16254832371536,92.16019298807788,94.37168223840837,92.90217775217923,95.33335755824594]},\"selected\":{\"id\":\"8556\",\"type\":\"Selection\"},\"selection_policy\":{\"id\":\"8557\",\"type\":\"UnionRenderers\"}},\"id\":\"8208\",\"type\":\"ColumnDataSource\"},{\"attributes\":{\"text\":\"Literacy rate, youth male (% of males ages 15-24) weighted against Population, total\"},\"id\":\"8141\",\"type\":\"Title\"}],\"root_ids\":[\"8140\"]},\"title\":\"Bokeh Application\",\"version\":\"1.3.4\"}};\n",
       "  var render_items = [{\"docid\":\"996b7e5c-aade-4097-abfc-b20d6d91755e\",\"roots\":{\"8140\":\"aa580cde-0799-4ff5-846e-16fe34e605fa\"}}];\n",
       "  root.Bokeh.embed.embed_items_notebook(docs_json, render_items);\n",
       "\n",
       "  }\n",
       "  if (root.Bokeh !== undefined) {\n",
       "    embed_document(root);\n",
       "  } else {\n",
       "    var attempts = 0;\n",
       "    var timer = setInterval(function(root) {\n",
       "      if (root.Bokeh !== undefined) {\n",
       "        embed_document(root);\n",
       "        clearInterval(timer);\n",
       "      }\n",
       "      attempts++;\n",
       "      if (attempts > 100) {\n",
       "        console.log(\"Bokeh: ERROR: Unable to run BokehJS code because BokehJS library is missing\");\n",
       "        clearInterval(timer);\n",
       "      }\n",
       "    }, 10, root)\n",
       "  }\n",
       "})(window);"
      ],
      "application/vnd.bokehjs_exec.v0+json": ""
     },
     "metadata": {
      "application/vnd.bokehjs_exec.v0+json": {
       "id": "8140"
      }
     },
     "output_type": "display_data"
    }
   ],
   "source": [
    "# Literacy rate, youth male (% of male ages 15-24)\n",
    "result = show_weighted_average(years, 'SE.ADT.1524.LT.MA.ZS', 'SP.POP.TOTL', \n",
    "                               ['LDCs', 'Developing excluding LDCs'])"
   ]
  },
  {
   "cell_type": "code",
   "execution_count": 25,
   "metadata": {
    "ExecuteTime": {
     "end_time": "2019-10-25T14:30:13.251639Z",
     "start_time": "2019-10-25T14:30:11.929452Z"
    },
    "slideshow": {
     "slide_type": "slide"
    }
   },
   "outputs": [
    {
     "data": {
      "text/html": [
       "\n",
       "\n",
       "\n",
       "\n",
       "\n",
       "\n",
       "  <div class=\"bk-root\" id=\"8f4d5588-83de-4d8d-9afb-2a9b4fc67153\" data-root-id=\"8642\"></div>\n"
      ]
     },
     "metadata": {},
     "output_type": "display_data"
    },
    {
     "data": {
      "application/javascript": [
       "(function(root) {\n",
       "  function embed_document(root) {\n",
       "    \n",
       "  var docs_json = {\"6335d301-7fbb-4dd8-be66-5b57f8defaae\":{\"roots\":{\"references\":[{\"attributes\":{\"below\":[{\"id\":\"8653\",\"type\":\"LinearAxis\"}],\"center\":[{\"id\":\"8657\",\"type\":\"Grid\"},{\"id\":\"8662\",\"type\":\"Grid\"},{\"id\":\"8687\",\"type\":\"Legend\"}],\"left\":[{\"id\":\"8658\",\"type\":\"LinearAxis\"}],\"plot_height\":400,\"plot_width\":800,\"renderers\":[{\"id\":\"8679\",\"type\":\"GlyphRenderer\"},{\"id\":\"8692\",\"type\":\"GlyphRenderer\"},{\"id\":\"8697\",\"type\":\"GlyphRenderer\"},{\"id\":\"8713\",\"type\":\"GlyphRenderer\"},{\"id\":\"8718\",\"type\":\"GlyphRenderer\"},{\"id\":\"8738\",\"type\":\"GlyphRenderer\"}],\"title\":{\"id\":\"8643\",\"type\":\"Title\"},\"toolbar\":{\"id\":\"8669\",\"type\":\"Toolbar\"},\"x_range\":{\"id\":\"8645\",\"type\":\"DataRange1d\"},\"x_scale\":{\"id\":\"8649\",\"type\":\"LinearScale\"},\"y_range\":{\"id\":\"8647\",\"type\":\"DataRange1d\"},\"y_scale\":{\"id\":\"8651\",\"type\":\"LinearScale\"}},\"id\":\"8642\",\"subtype\":\"Figure\",\"type\":\"Plot\"},{\"attributes\":{},\"id\":\"8659\",\"type\":\"BasicTicker\"},{\"attributes\":{},\"id\":\"8731\",\"type\":\"UnionRenderers\"},{\"attributes\":{\"axis_label\":\"Years\",\"formatter\":{\"id\":\"8684\",\"type\":\"BasicTickFormatter\"},\"ticker\":{\"id\":\"8654\",\"type\":\"BasicTicker\"}},\"id\":\"8653\",\"type\":\"LinearAxis\"},{\"attributes\":{\"callback\":null,\"data\":{\"x\":[\"2011\",\"2012\",\"2013\",\"2014\",\"2015\",\"2016\",\"2017\"],\"y\":[86.52637049847509,90.79201280313602,89.77735203026296,93.27009066227772,99.2167206572208,99.33845058757791,90.85673268334823]},\"selected\":{\"id\":\"8732\",\"type\":\"Selection\"},\"selection_policy\":{\"id\":\"8733\",\"type\":\"UnionRenderers\"}},\"id\":\"8710\",\"type\":\"ColumnDataSource\"},{\"attributes\":{\"source\":{\"id\":\"8676\",\"type\":\"ColumnDataSource\"}},\"id\":\"8680\",\"type\":\"CDSView\"},{\"attributes\":{\"data_source\":{\"id\":\"8715\",\"type\":\"ColumnDataSource\"},\"glyph\":{\"id\":\"8716\",\"type\":\"Line\"},\"hover_glyph\":null,\"muted_glyph\":null,\"nonselection_glyph\":{\"id\":\"8717\",\"type\":\"Line\"},\"selection_glyph\":null,\"view\":{\"id\":\"8719\",\"type\":\"CDSView\"}},\"id\":\"8718\",\"type\":\"GlyphRenderer\"},{\"attributes\":{\"fill_color\":{\"value\":\"#5430F1\"},\"line_color\":{\"value\":\"#5430F1\"},\"line_width\":{\"value\":3},\"x\":{\"field\":\"x\"},\"y\":{\"field\":\"y\"}},\"id\":\"8711\",\"type\":\"Circle\"},{\"attributes\":{},\"id\":\"8654\",\"type\":\"BasicTicker\"},{\"attributes\":{},\"id\":\"9101\",\"type\":\"Selection\"},{\"attributes\":{\"callback\":null},\"id\":\"8645\",\"type\":\"DataRange1d\"},{\"attributes\":{},\"id\":\"8706\",\"type\":\"UnionRenderers\"},{\"attributes\":{},\"id\":\"8668\",\"type\":\"HelpTool\"},{\"attributes\":{},\"id\":\"9102\",\"type\":\"UnionRenderers\"},{\"attributes\":{},\"id\":\"8682\",\"type\":\"BasicTickFormatter\"},{\"attributes\":{\"source\":{\"id\":\"8715\",\"type\":\"ColumnDataSource\"}},\"id\":\"8719\",\"type\":\"CDSView\"},{\"attributes\":{\"callback\":null},\"id\":\"8647\",\"type\":\"DataRange1d\"},{\"attributes\":{},\"id\":\"8707\",\"type\":\"Selection\"},{\"attributes\":{\"active_drag\":\"auto\",\"active_inspect\":\"auto\",\"active_multi\":null,\"active_scroll\":\"auto\",\"active_tap\":\"auto\",\"tools\":[{\"id\":\"8663\",\"type\":\"PanTool\"},{\"id\":\"8664\",\"type\":\"WheelZoomTool\"},{\"id\":\"8665\",\"type\":\"BoxZoomTool\"},{\"id\":\"8666\",\"type\":\"SaveTool\"},{\"id\":\"8667\",\"type\":\"ResetTool\"},{\"id\":\"8668\",\"type\":\"HelpTool\"},{\"id\":\"8740\",\"type\":\"HoverTool\"}]},\"id\":\"8669\",\"type\":\"Toolbar\"},{\"attributes\":{\"callback\":null,\"data\":{\"x\":[\"2011\",\"2012\",\"2013\",\"2014\",\"2015\",\"2016\",\"2017\"],\"y\":[98.79246433133073,98.91166421847787,98.96779030929173,99.06962254043965,99.11181905005378,99.23710774713751,99.10889426005937]},\"selected\":{\"id\":\"9099\",\"type\":\"Selection\"},\"selection_policy\":{\"id\":\"9100\",\"type\":\"UnionRenderers\"}},\"id\":\"8715\",\"type\":\"ColumnDataSource\"},{\"attributes\":{},\"id\":\"8649\",\"type\":\"LinearScale\"},{\"attributes\":{},\"id\":\"8708\",\"type\":\"UnionRenderers\"},{\"attributes\":{},\"id\":\"8730\",\"type\":\"Selection\"},{\"attributes\":{\"data_source\":{\"id\":\"8694\",\"type\":\"ColumnDataSource\"},\"glyph\":{\"id\":\"8695\",\"type\":\"Line\"},\"hover_glyph\":null,\"muted_glyph\":null,\"nonselection_glyph\":{\"id\":\"8696\",\"type\":\"Line\"},\"selection_glyph\":null,\"view\":{\"id\":\"8698\",\"type\":\"CDSView\"}},\"id\":\"8697\",\"type\":\"GlyphRenderer\"},{\"attributes\":{\"overlay\":{\"id\":\"8686\",\"type\":\"BoxAnnotation\"}},\"id\":\"8665\",\"type\":\"BoxZoomTool\"},{\"attributes\":{\"line_color\":\"#2CC775\",\"x\":{\"field\":\"x\"},\"y\":{\"field\":\"y\"}},\"id\":\"8716\",\"type\":\"Line\"},{\"attributes\":{},\"id\":\"9099\",\"type\":\"Selection\"},{\"attributes\":{\"data_source\":{\"id\":\"8676\",\"type\":\"ColumnDataSource\"},\"glyph\":{\"id\":\"8677\",\"type\":\"Line\"},\"hover_glyph\":null,\"muted_glyph\":null,\"nonselection_glyph\":{\"id\":\"8678\",\"type\":\"Line\"},\"selection_glyph\":null,\"view\":{\"id\":\"8680\",\"type\":\"CDSView\"}},\"id\":\"8679\",\"type\":\"GlyphRenderer\"},{\"attributes\":{\"source\":{\"id\":\"8694\",\"type\":\"ColumnDataSource\"}},\"id\":\"8698\",\"type\":\"CDSView\"},{\"attributes\":{},\"id\":\"8666\",\"type\":\"SaveTool\"},{\"attributes\":{},\"id\":\"9100\",\"type\":\"UnionRenderers\"},{\"attributes\":{\"text\":\"Literacy rate, youth female (% of females ages 15-24) weighted against Population, total\"},\"id\":\"8643\",\"type\":\"Title\"},{\"attributes\":{},\"id\":\"8667\",\"type\":\"ResetTool\"},{\"attributes\":{\"fill_alpha\":{\"value\":0.1},\"fill_color\":{\"value\":\"#1f77b4\"},\"line_alpha\":{\"value\":0.1},\"line_color\":{\"value\":\"#1f77b4\"},\"line_width\":{\"value\":3},\"x\":{\"field\":\"x\"},\"y\":{\"field\":\"y\"}},\"id\":\"8737\",\"type\":\"Circle\"},{\"attributes\":{},\"id\":\"8705\",\"type\":\"Selection\"},{\"attributes\":{\"callback\":null,\"data\":{\"x\":[\"2011\",\"2012\",\"2013\",\"2014\",\"2015\",\"2016\",\"2017\"],\"y\":[86.52637049847509,90.79201280313602,89.77735203026296,93.27009066227772,99.2167206572208,99.33845058757791,90.85673268334823]},\"selected\":{\"id\":\"8730\",\"type\":\"Selection\"},\"selection_policy\":{\"id\":\"8731\",\"type\":\"UnionRenderers\"}},\"id\":\"8694\",\"type\":\"ColumnDataSource\"},{\"attributes\":{\"callback\":null,\"tooltips\":\"                \\n        <div style=padding=5px>Year:@x</div>\\n        <div style=padding=5px>Value:@y</div>        \\n        \"},\"id\":\"8740\",\"type\":\"HoverTool\"},{\"attributes\":{\"data_source\":{\"id\":\"8735\",\"type\":\"ColumnDataSource\"},\"glyph\":{\"id\":\"8736\",\"type\":\"Circle\"},\"hover_glyph\":null,\"muted_glyph\":null,\"nonselection_glyph\":{\"id\":\"8737\",\"type\":\"Circle\"},\"selection_glyph\":null,\"view\":{\"id\":\"8739\",\"type\":\"CDSView\"}},\"id\":\"8738\",\"type\":\"GlyphRenderer\"},{\"attributes\":{\"label\":{\"value\":\"UMICs\"},\"renderers\":[{\"id\":\"8718\",\"type\":\"GlyphRenderer\"}]},\"id\":\"8734\",\"type\":\"LegendItem\"},{\"attributes\":{\"line_color\":\"#5430F1\",\"x\":{\"field\":\"x\"},\"y\":{\"field\":\"y\"}},\"id\":\"8695\",\"type\":\"Line\"},{\"attributes\":{},\"id\":\"8663\",\"type\":\"PanTool\"},{\"attributes\":{\"source\":{\"id\":\"8735\",\"type\":\"ColumnDataSource\"}},\"id\":\"8739\",\"type\":\"CDSView\"},{\"attributes\":{\"line_alpha\":0.1,\"line_color\":\"#1f77b4\",\"x\":{\"field\":\"x\"},\"y\":{\"field\":\"y\"}},\"id\":\"8678\",\"type\":\"Line\"},{\"attributes\":{\"line_alpha\":0.1,\"line_color\":\"#1f77b4\",\"x\":{\"field\":\"x\"},\"y\":{\"field\":\"y\"}},\"id\":\"8696\",\"type\":\"Line\"},{\"attributes\":{},\"id\":\"8664\",\"type\":\"WheelZoomTool\"},{\"attributes\":{},\"id\":\"8733\",\"type\":\"UnionRenderers\"},{\"attributes\":{\"fill_alpha\":{\"value\":0.1},\"fill_color\":{\"value\":\"#1f77b4\"},\"line_alpha\":{\"value\":0.1},\"line_color\":{\"value\":\"#1f77b4\"},\"line_width\":{\"value\":3},\"x\":{\"field\":\"x\"},\"y\":{\"field\":\"y\"}},\"id\":\"8691\",\"type\":\"Circle\"},{\"attributes\":{\"callback\":null,\"data\":{\"x\":[\"2011\",\"2012\",\"2013\",\"2014\",\"2015\",\"2016\",\"2017\"],\"y\":[98.79246433133073,98.91166421847787,98.96779030929173,99.06962254043965,99.11181905005378,99.23710774713751,99.10889426005937]},\"selected\":{\"id\":\"9101\",\"type\":\"Selection\"},\"selection_policy\":{\"id\":\"9102\",\"type\":\"UnionRenderers\"}},\"id\":\"8735\",\"type\":\"ColumnDataSource\"},{\"attributes\":{\"label\":{\"value\":\"Developing excluding LDCs\"},\"renderers\":[{\"id\":\"8697\",\"type\":\"GlyphRenderer\"}]},\"id\":\"8709\",\"type\":\"LegendItem\"},{\"attributes\":{\"data_source\":{\"id\":\"8689\",\"type\":\"ColumnDataSource\"},\"glyph\":{\"id\":\"8690\",\"type\":\"Circle\"},\"hover_glyph\":null,\"muted_glyph\":null,\"nonselection_glyph\":{\"id\":\"8691\",\"type\":\"Circle\"},\"selection_glyph\":null,\"view\":{\"id\":\"8693\",\"type\":\"CDSView\"}},\"id\":\"8692\",\"type\":\"GlyphRenderer\"},{\"attributes\":{\"fill_color\":{\"value\":\"#2CC775\"},\"line_color\":{\"value\":\"#2CC775\"},\"line_width\":{\"value\":3},\"x\":{\"field\":\"x\"},\"y\":{\"field\":\"y\"}},\"id\":\"8736\",\"type\":\"Circle\"},{\"attributes\":{},\"id\":\"8732\",\"type\":\"Selection\"},{\"attributes\":{\"bottom_units\":\"screen\",\"fill_alpha\":{\"value\":0.5},\"fill_color\":{\"value\":\"lightgrey\"},\"left_units\":\"screen\",\"level\":\"overlay\",\"line_alpha\":{\"value\":1.0},\"line_color\":{\"value\":\"black\"},\"line_dash\":[4,4],\"line_width\":{\"value\":2},\"render_mode\":\"css\",\"right_units\":\"screen\",\"top_units\":\"screen\"},\"id\":\"8686\",\"type\":\"BoxAnnotation\"},{\"attributes\":{\"dimension\":1,\"grid_line_alpha\":0.5,\"ticker\":{\"id\":\"8659\",\"type\":\"BasicTicker\"}},\"id\":\"8662\",\"type\":\"Grid\"},{\"attributes\":{\"source\":{\"id\":\"8689\",\"type\":\"ColumnDataSource\"}},\"id\":\"8693\",\"type\":\"CDSView\"},{\"attributes\":{\"line_alpha\":0.1,\"line_color\":\"#1f77b4\",\"x\":{\"field\":\"x\"},\"y\":{\"field\":\"y\"}},\"id\":\"8717\",\"type\":\"Line\"},{\"attributes\":{\"line_color\":\"#FA1857\",\"x\":{\"field\":\"x\"},\"y\":{\"field\":\"y\"}},\"id\":\"8677\",\"type\":\"Line\"},{\"attributes\":{\"label\":{\"value\":\"LDCs\"},\"renderers\":[{\"id\":\"8679\",\"type\":\"GlyphRenderer\"}]},\"id\":\"8688\",\"type\":\"LegendItem\"},{\"attributes\":{\"grid_line_color\":null,\"ticker\":{\"id\":\"8654\",\"type\":\"BasicTicker\"}},\"id\":\"8657\",\"type\":\"Grid\"},{\"attributes\":{\"fill_alpha\":{\"value\":0.1},\"fill_color\":{\"value\":\"#1f77b4\"},\"line_alpha\":{\"value\":0.1},\"line_color\":{\"value\":\"#1f77b4\"},\"line_width\":{\"value\":3},\"x\":{\"field\":\"x\"},\"y\":{\"field\":\"y\"}},\"id\":\"8712\",\"type\":\"Circle\"},{\"attributes\":{\"callback\":null,\"data\":{\"x\":[\"2011\",\"2012\",\"2013\",\"2014\",\"2015\",\"2016\",\"2017\"],\"y\":[69.73643076577738,76.28621410347083,82.34338029433856,78.83132852098582,79.67428038697987,84.88400348022606,81.7564251787433]},\"selected\":{\"id\":\"8705\",\"type\":\"Selection\"},\"selection_policy\":{\"id\":\"8706\",\"type\":\"UnionRenderers\"}},\"id\":\"8676\",\"type\":\"ColumnDataSource\"},{\"attributes\":{\"callback\":null,\"data\":{\"x\":[\"2011\",\"2012\",\"2013\",\"2014\",\"2015\",\"2016\",\"2017\"],\"y\":[69.73643076577738,76.28621410347083,82.34338029433856,78.83132852098582,79.67428038697987,84.88400348022606,81.7564251787433]},\"selected\":{\"id\":\"8707\",\"type\":\"Selection\"},\"selection_policy\":{\"id\":\"8708\",\"type\":\"UnionRenderers\"}},\"id\":\"8689\",\"type\":\"ColumnDataSource\"},{\"attributes\":{\"data_source\":{\"id\":\"8710\",\"type\":\"ColumnDataSource\"},\"glyph\":{\"id\":\"8711\",\"type\":\"Circle\"},\"hover_glyph\":null,\"muted_glyph\":null,\"nonselection_glyph\":{\"id\":\"8712\",\"type\":\"Circle\"},\"selection_glyph\":null,\"view\":{\"id\":\"8714\",\"type\":\"CDSView\"}},\"id\":\"8713\",\"type\":\"GlyphRenderer\"},{\"attributes\":{},\"id\":\"8684\",\"type\":\"BasicTickFormatter\"},{\"attributes\":{\"fill_color\":{\"value\":\"#FA1857\"},\"line_color\":{\"value\":\"#FA1857\"},\"line_width\":{\"value\":3},\"x\":{\"field\":\"x\"},\"y\":{\"field\":\"y\"}},\"id\":\"8690\",\"type\":\"Circle\"},{\"attributes\":{\"source\":{\"id\":\"8710\",\"type\":\"ColumnDataSource\"}},\"id\":\"8714\",\"type\":\"CDSView\"},{\"attributes\":{\"axis_label\":\"SE.ADT.1524.LT.FE.ZS\",\"formatter\":{\"id\":\"8682\",\"type\":\"BasicTickFormatter\"},\"ticker\":{\"id\":\"8659\",\"type\":\"BasicTicker\"}},\"id\":\"8658\",\"type\":\"LinearAxis\"},{\"attributes\":{\"items\":[{\"id\":\"8688\",\"type\":\"LegendItem\"},{\"id\":\"8709\",\"type\":\"LegendItem\"},{\"id\":\"8734\",\"type\":\"LegendItem\"}],\"location\":\"bottom_left\"},\"id\":\"8687\",\"type\":\"Legend\"},{\"attributes\":{},\"id\":\"8651\",\"type\":\"LinearScale\"}],\"root_ids\":[\"8642\"]},\"title\":\"Bokeh Application\",\"version\":\"1.3.4\"}};\n",
       "  var render_items = [{\"docid\":\"6335d301-7fbb-4dd8-be66-5b57f8defaae\",\"roots\":{\"8642\":\"8f4d5588-83de-4d8d-9afb-2a9b4fc67153\"}}];\n",
       "  root.Bokeh.embed.embed_items_notebook(docs_json, render_items);\n",
       "\n",
       "  }\n",
       "  if (root.Bokeh !== undefined) {\n",
       "    embed_document(root);\n",
       "  } else {\n",
       "    var attempts = 0;\n",
       "    var timer = setInterval(function(root) {\n",
       "      if (root.Bokeh !== undefined) {\n",
       "        embed_document(root);\n",
       "        clearInterval(timer);\n",
       "      }\n",
       "      attempts++;\n",
       "      if (attempts > 100) {\n",
       "        console.log(\"Bokeh: ERROR: Unable to run BokehJS code because BokehJS library is missing\");\n",
       "        clearInterval(timer);\n",
       "      }\n",
       "    }, 10, root)\n",
       "  }\n",
       "})(window);"
      ],
      "application/vnd.bokehjs_exec.v0+json": ""
     },
     "metadata": {
      "application/vnd.bokehjs_exec.v0+json": {
       "id": "8642"
      }
     },
     "output_type": "display_data"
    }
   ],
   "source": [
    "# Literacy rate, youth female (% of females ages 15-24)\n",
    "years = list(map(str, list(range(2011,2018))))\n",
    "result = show_weighted_average(years, 'SE.ADT.1524.LT.FE.ZS', 'SP.POP.TOTL', \n",
    "                               ['LDCs', 'Developing excluding LDCs', 'UMICs'])"
   ]
  },
  {
   "cell_type": "markdown",
   "metadata": {},
   "source": [
    "# Shelter"
   ]
  },
  {
   "cell_type": "code",
   "execution_count": 26,
   "metadata": {
    "ExecuteTime": {
     "end_time": "2019-10-25T14:25:51.766648Z",
     "start_time": "2019-10-25T14:25:50.523438Z"
    }
   },
   "outputs": [
    {
     "data": {
      "text/html": [
       "\n",
       "\n",
       "\n",
       "\n",
       "\n",
       "\n",
       "  <div class=\"bk-root\" id=\"006b5f2b-1324-4ea0-8694-c9df1e3d4008\" data-root-id=\"9211\"></div>\n"
      ]
     },
     "metadata": {},
     "output_type": "display_data"
    },
    {
     "data": {
      "application/javascript": [
       "(function(root) {\n",
       "  function embed_document(root) {\n",
       "    \n",
       "  var docs_json = {\"93bd668c-28bd-43d7-9658-ddbb8148011d\":{\"roots\":{\"references\":[{\"attributes\":{\"below\":[{\"id\":\"9222\",\"type\":\"LinearAxis\"}],\"center\":[{\"id\":\"9226\",\"type\":\"Grid\"},{\"id\":\"9231\",\"type\":\"Grid\"},{\"id\":\"9256\",\"type\":\"Legend\"}],\"left\":[{\"id\":\"9227\",\"type\":\"LinearAxis\"}],\"plot_height\":400,\"plot_width\":800,\"renderers\":[{\"id\":\"9248\",\"type\":\"GlyphRenderer\"},{\"id\":\"9261\",\"type\":\"GlyphRenderer\"},{\"id\":\"9266\",\"type\":\"GlyphRenderer\"},{\"id\":\"9282\",\"type\":\"GlyphRenderer\"},{\"id\":\"9287\",\"type\":\"GlyphRenderer\"},{\"id\":\"9307\",\"type\":\"GlyphRenderer\"}],\"title\":{\"id\":\"9212\",\"type\":\"Title\"},\"toolbar\":{\"id\":\"9238\",\"type\":\"Toolbar\"},\"x_range\":{\"id\":\"9214\",\"type\":\"DataRange1d\"},\"x_scale\":{\"id\":\"9218\",\"type\":\"LinearScale\"},\"y_range\":{\"id\":\"9216\",\"type\":\"DataRange1d\"},\"y_scale\":{\"id\":\"9220\",\"type\":\"LinearScale\"}},\"id\":\"9211\",\"subtype\":\"Figure\",\"type\":\"Plot\"},{\"attributes\":{\"callback\":null,\"tooltips\":\"                \\n        <div style=padding=5px>Year:@x</div>\\n        <div style=padding=5px>Value:@y</div>        \\n        \"},\"id\":\"9309\",\"type\":\"HoverTool\"},{\"attributes\":{},\"id\":\"9236\",\"type\":\"ResetTool\"},{\"attributes\":{\"source\":{\"id\":\"9279\",\"type\":\"ColumnDataSource\"}},\"id\":\"9283\",\"type\":\"CDSView\"},{\"attributes\":{\"fill_color\":{\"value\":\"#2CC775\"},\"line_color\":{\"value\":\"#2CC775\"},\"line_width\":{\"value\":3},\"x\":{\"field\":\"x\"},\"y\":{\"field\":\"y\"}},\"id\":\"9305\",\"type\":\"Circle\"},{\"attributes\":{\"source\":{\"id\":\"9304\",\"type\":\"ColumnDataSource\"}},\"id\":\"9308\",\"type\":\"CDSView\"},{\"attributes\":{\"label\":{\"value\":\"Developing excluding LDCs\"},\"renderers\":[{\"id\":\"9266\",\"type\":\"GlyphRenderer\"}]},\"id\":\"9278\",\"type\":\"LegendItem\"},{\"attributes\":{},\"id\":\"9274\",\"type\":\"Selection\"},{\"attributes\":{},\"id\":\"9223\",\"type\":\"BasicTicker\"},{\"attributes\":{\"callback\":null},\"id\":\"9216\",\"type\":\"DataRange1d\"},{\"attributes\":{},\"id\":\"9301\",\"type\":\"Selection\"},{\"attributes\":{},\"id\":\"9686\",\"type\":\"Selection\"},{\"attributes\":{\"data_source\":{\"id\":\"9304\",\"type\":\"ColumnDataSource\"},\"glyph\":{\"id\":\"9305\",\"type\":\"Circle\"},\"hover_glyph\":null,\"muted_glyph\":null,\"nonselection_glyph\":{\"id\":\"9306\",\"type\":\"Circle\"},\"selection_glyph\":null,\"view\":{\"id\":\"9308\",\"type\":\"CDSView\"}},\"id\":\"9307\",\"type\":\"GlyphRenderer\"},{\"attributes\":{\"axis_label\":\"Years\",\"formatter\":{\"id\":\"9253\",\"type\":\"BasicTickFormatter\"},\"ticker\":{\"id\":\"9223\",\"type\":\"BasicTicker\"}},\"id\":\"9222\",\"type\":\"LinearAxis\"},{\"attributes\":{\"axis_label\":\"EN.POP.SLUM.UR.ZS\",\"formatter\":{\"id\":\"9251\",\"type\":\"BasicTickFormatter\"},\"ticker\":{\"id\":\"9228\",\"type\":\"BasicTicker\"}},\"id\":\"9227\",\"type\":\"LinearAxis\"},{\"attributes\":{\"callback\":null},\"id\":\"9214\",\"type\":\"DataRange1d\"},{\"attributes\":{\"source\":{\"id\":\"9263\",\"type\":\"ColumnDataSource\"}},\"id\":\"9267\",\"type\":\"CDSView\"},{\"attributes\":{},\"id\":\"9232\",\"type\":\"PanTool\"},{\"attributes\":{},\"id\":\"9689\",\"type\":\"UnionRenderers\"},{\"attributes\":{\"fill_alpha\":{\"value\":0.1},\"fill_color\":{\"value\":\"#1f77b4\"},\"line_alpha\":{\"value\":0.1},\"line_color\":{\"value\":\"#1f77b4\"},\"line_width\":{\"value\":3},\"x\":{\"field\":\"x\"},\"y\":{\"field\":\"y\"}},\"id\":\"9306\",\"type\":\"Circle\"},{\"attributes\":{},\"id\":\"9277\",\"type\":\"UnionRenderers\"},{\"attributes\":{},\"id\":\"9302\",\"type\":\"UnionRenderers\"},{\"attributes\":{},\"id\":\"9237\",\"type\":\"HelpTool\"},{\"attributes\":{\"label\":{\"value\":\"OECD\"},\"renderers\":[{\"id\":\"9287\",\"type\":\"GlyphRenderer\"}]},\"id\":\"9303\",\"type\":\"LegendItem\"},{\"attributes\":{\"data_source\":{\"id\":\"9284\",\"type\":\"ColumnDataSource\"},\"glyph\":{\"id\":\"9285\",\"type\":\"Line\"},\"hover_glyph\":null,\"muted_glyph\":null,\"nonselection_glyph\":{\"id\":\"9286\",\"type\":\"Line\"},\"selection_glyph\":null,\"view\":{\"id\":\"9288\",\"type\":\"CDSView\"}},\"id\":\"9287\",\"type\":\"GlyphRenderer\"},{\"attributes\":{},\"id\":\"9218\",\"type\":\"LinearScale\"},{\"attributes\":{\"fill_color\":{\"value\":\"#5430F1\"},\"line_color\":{\"value\":\"#5430F1\"},\"line_width\":{\"value\":3},\"x\":{\"field\":\"x\"},\"y\":{\"field\":\"y\"}},\"id\":\"9280\",\"type\":\"Circle\"},{\"attributes\":{\"line_alpha\":0.1,\"line_color\":\"#1f77b4\",\"x\":{\"field\":\"x\"},\"y\":{\"field\":\"y\"}},\"id\":\"9286\",\"type\":\"Line\"},{\"attributes\":{},\"id\":\"9687\",\"type\":\"UnionRenderers\"},{\"attributes\":{\"callback\":null,\"data\":{\"x\":[\"2000\",\"2005\",\"2007\",\"2009\",\"2014\"],\"y\":[76.78621372378811,70.18532090390086,68.76988136557345,65.70655306857522,62.75026305440896]},\"selected\":{\"id\":\"9276\",\"type\":\"Selection\"},\"selection_policy\":{\"id\":\"9277\",\"type\":\"UnionRenderers\"}},\"id\":\"9258\",\"type\":\"ColumnDataSource\"},{\"attributes\":{\"source\":{\"id\":\"9284\",\"type\":\"ColumnDataSource\"}},\"id\":\"9288\",\"type\":\"CDSView\"},{\"attributes\":{\"text\":\"Population living in slums (% of urban population) weighted against Urban population\"},\"id\":\"9212\",\"type\":\"Title\"},{\"attributes\":{},\"id\":\"9251\",\"type\":\"BasicTickFormatter\"},{\"attributes\":{},\"id\":\"9688\",\"type\":\"Selection\"},{\"attributes\":{\"items\":[{\"id\":\"9257\",\"type\":\"LegendItem\"},{\"id\":\"9278\",\"type\":\"LegendItem\"},{\"id\":\"9303\",\"type\":\"LegendItem\"}],\"location\":\"bottom_left\"},\"id\":\"9256\",\"type\":\"Legend\"},{\"attributes\":{\"line_color\":\"#2CC775\",\"x\":{\"field\":\"x\"},\"y\":{\"field\":\"y\"}},\"id\":\"9285\",\"type\":\"Line\"},{\"attributes\":{},\"id\":\"9220\",\"type\":\"LinearScale\"},{\"attributes\":{\"callback\":null,\"data\":{\"x\":[\"2000\",\"2005\",\"2007\",\"2009\",\"2014\"],\"y\":[37.06642748310544,32.26467852416708,30.926899986307756,30.089181030908218,25.64394447134966]},\"selected\":{\"id\":\"9301\",\"type\":\"Selection\"},\"selection_policy\":{\"id\":\"9302\",\"type\":\"UnionRenderers\"}},\"id\":\"9279\",\"type\":\"ColumnDataSource\"},{\"attributes\":{},\"id\":\"9300\",\"type\":\"UnionRenderers\"},{\"attributes\":{},\"id\":\"9233\",\"type\":\"WheelZoomTool\"},{\"attributes\":{\"fill_alpha\":{\"value\":0.1},\"fill_color\":{\"value\":\"#1f77b4\"},\"line_alpha\":{\"value\":0.1},\"line_color\":{\"value\":\"#1f77b4\"},\"line_width\":{\"value\":3},\"x\":{\"field\":\"x\"},\"y\":{\"field\":\"y\"}},\"id\":\"9281\",\"type\":\"Circle\"},{\"attributes\":{\"label\":{\"value\":\"LDCs\"},\"renderers\":[{\"id\":\"9248\",\"type\":\"GlyphRenderer\"}]},\"id\":\"9257\",\"type\":\"LegendItem\"},{\"attributes\":{\"dimension\":1,\"grid_line_alpha\":0.5,\"ticker\":{\"id\":\"9228\",\"type\":\"BasicTicker\"}},\"id\":\"9231\",\"type\":\"Grid\"},{\"attributes\":{\"callback\":null,\"data\":{\"x\":[\"2000\",\"2005\",\"2007\",\"2009\",\"2014\"],\"y\":[76.78621372378811,70.18532090390086,68.76988136557345,65.70655306857522,62.75026305440896]},\"selected\":{\"id\":\"9274\",\"type\":\"Selection\"},\"selection_policy\":{\"id\":\"9275\",\"type\":\"UnionRenderers\"}},\"id\":\"9245\",\"type\":\"ColumnDataSource\"},{\"attributes\":{\"data_source\":{\"id\":\"9245\",\"type\":\"ColumnDataSource\"},\"glyph\":{\"id\":\"9246\",\"type\":\"Line\"},\"hover_glyph\":null,\"muted_glyph\":null,\"nonselection_glyph\":{\"id\":\"9247\",\"type\":\"Line\"},\"selection_glyph\":null,\"view\":{\"id\":\"9249\",\"type\":\"CDSView\"}},\"id\":\"9248\",\"type\":\"GlyphRenderer\"},{\"attributes\":{},\"id\":\"9275\",\"type\":\"UnionRenderers\"},{\"attributes\":{\"grid_line_color\":null,\"ticker\":{\"id\":\"9223\",\"type\":\"BasicTicker\"}},\"id\":\"9226\",\"type\":\"Grid\"},{\"attributes\":{\"callback\":null,\"data\":{\"x\":[\"2000\",\"2005\",\"2007\",\"2009\",\"2014\"],\"y\":[19.186981494515138,14.221528307791516,14.290817645409502,13.0,11.398005045670415]},\"selected\":{\"id\":\"9688\",\"type\":\"Selection\"},\"selection_policy\":{\"id\":\"9689\",\"type\":\"UnionRenderers\"}},\"id\":\"9304\",\"type\":\"ColumnDataSource\"},{\"attributes\":{\"line_alpha\":0.1,\"line_color\":\"#1f77b4\",\"x\":{\"field\":\"x\"},\"y\":{\"field\":\"y\"}},\"id\":\"9247\",\"type\":\"Line\"},{\"attributes\":{\"callback\":null,\"data\":{\"x\":[\"2000\",\"2005\",\"2007\",\"2009\",\"2014\"],\"y\":[37.06642748310544,32.26467852416708,30.926899986307756,30.089181030908218,25.64394447134966]},\"selected\":{\"id\":\"9299\",\"type\":\"Selection\"},\"selection_policy\":{\"id\":\"9300\",\"type\":\"UnionRenderers\"}},\"id\":\"9263\",\"type\":\"ColumnDataSource\"},{\"attributes\":{},\"id\":\"9299\",\"type\":\"Selection\"},{\"attributes\":{\"data_source\":{\"id\":\"9279\",\"type\":\"ColumnDataSource\"},\"glyph\":{\"id\":\"9280\",\"type\":\"Circle\"},\"hover_glyph\":null,\"muted_glyph\":null,\"nonselection_glyph\":{\"id\":\"9281\",\"type\":\"Circle\"},\"selection_glyph\":null,\"view\":{\"id\":\"9283\",\"type\":\"CDSView\"}},\"id\":\"9282\",\"type\":\"GlyphRenderer\"},{\"attributes\":{\"source\":{\"id\":\"9245\",\"type\":\"ColumnDataSource\"}},\"id\":\"9249\",\"type\":\"CDSView\"},{\"attributes\":{\"line_color\":\"#FA1857\",\"x\":{\"field\":\"x\"},\"y\":{\"field\":\"y\"}},\"id\":\"9246\",\"type\":\"Line\"},{\"attributes\":{\"data_source\":{\"id\":\"9258\",\"type\":\"ColumnDataSource\"},\"glyph\":{\"id\":\"9259\",\"type\":\"Circle\"},\"hover_glyph\":null,\"muted_glyph\":null,\"nonselection_glyph\":{\"id\":\"9260\",\"type\":\"Circle\"},\"selection_glyph\":null,\"view\":{\"id\":\"9262\",\"type\":\"CDSView\"}},\"id\":\"9261\",\"type\":\"GlyphRenderer\"},{\"attributes\":{\"data_source\":{\"id\":\"9263\",\"type\":\"ColumnDataSource\"},\"glyph\":{\"id\":\"9264\",\"type\":\"Line\"},\"hover_glyph\":null,\"muted_glyph\":null,\"nonselection_glyph\":{\"id\":\"9265\",\"type\":\"Line\"},\"selection_glyph\":null,\"view\":{\"id\":\"9267\",\"type\":\"CDSView\"}},\"id\":\"9266\",\"type\":\"GlyphRenderer\"},{\"attributes\":{\"line_color\":\"#5430F1\",\"x\":{\"field\":\"x\"},\"y\":{\"field\":\"y\"}},\"id\":\"9264\",\"type\":\"Line\"},{\"attributes\":{\"overlay\":{\"id\":\"9255\",\"type\":\"BoxAnnotation\"}},\"id\":\"9234\",\"type\":\"BoxZoomTool\"},{\"attributes\":{\"active_drag\":\"auto\",\"active_inspect\":\"auto\",\"active_multi\":null,\"active_scroll\":\"auto\",\"active_tap\":\"auto\",\"tools\":[{\"id\":\"9232\",\"type\":\"PanTool\"},{\"id\":\"9233\",\"type\":\"WheelZoomTool\"},{\"id\":\"9234\",\"type\":\"BoxZoomTool\"},{\"id\":\"9235\",\"type\":\"SaveTool\"},{\"id\":\"9236\",\"type\":\"ResetTool\"},{\"id\":\"9237\",\"type\":\"HelpTool\"},{\"id\":\"9309\",\"type\":\"HoverTool\"}]},\"id\":\"9238\",\"type\":\"Toolbar\"},{\"attributes\":{\"fill_color\":{\"value\":\"#FA1857\"},\"line_color\":{\"value\":\"#FA1857\"},\"line_width\":{\"value\":3},\"x\":{\"field\":\"x\"},\"y\":{\"field\":\"y\"}},\"id\":\"9259\",\"type\":\"Circle\"},{\"attributes\":{},\"id\":\"9235\",\"type\":\"SaveTool\"},{\"attributes\":{\"fill_alpha\":{\"value\":0.1},\"fill_color\":{\"value\":\"#1f77b4\"},\"line_alpha\":{\"value\":0.1},\"line_color\":{\"value\":\"#1f77b4\"},\"line_width\":{\"value\":3},\"x\":{\"field\":\"x\"},\"y\":{\"field\":\"y\"}},\"id\":\"9260\",\"type\":\"Circle\"},{\"attributes\":{\"bottom_units\":\"screen\",\"fill_alpha\":{\"value\":0.5},\"fill_color\":{\"value\":\"lightgrey\"},\"left_units\":\"screen\",\"level\":\"overlay\",\"line_alpha\":{\"value\":1.0},\"line_color\":{\"value\":\"black\"},\"line_dash\":[4,4],\"line_width\":{\"value\":2},\"render_mode\":\"css\",\"right_units\":\"screen\",\"top_units\":\"screen\"},\"id\":\"9255\",\"type\":\"BoxAnnotation\"},{\"attributes\":{\"line_alpha\":0.1,\"line_color\":\"#1f77b4\",\"x\":{\"field\":\"x\"},\"y\":{\"field\":\"y\"}},\"id\":\"9265\",\"type\":\"Line\"},{\"attributes\":{},\"id\":\"9253\",\"type\":\"BasicTickFormatter\"},{\"attributes\":{},\"id\":\"9228\",\"type\":\"BasicTicker\"},{\"attributes\":{\"callback\":null,\"data\":{\"x\":[\"2000\",\"2005\",\"2007\",\"2009\",\"2014\"],\"y\":[19.186981494515138,14.221528307791516,14.290817645409502,13.0,11.398005045670415]},\"selected\":{\"id\":\"9686\",\"type\":\"Selection\"},\"selection_policy\":{\"id\":\"9687\",\"type\":\"UnionRenderers\"}},\"id\":\"9284\",\"type\":\"ColumnDataSource\"},{\"attributes\":{},\"id\":\"9276\",\"type\":\"Selection\"},{\"attributes\":{\"source\":{\"id\":\"9258\",\"type\":\"ColumnDataSource\"}},\"id\":\"9262\",\"type\":\"CDSView\"}],\"root_ids\":[\"9211\"]},\"title\":\"Bokeh Application\",\"version\":\"1.3.4\"}};\n",
       "  var render_items = [{\"docid\":\"93bd668c-28bd-43d7-9658-ddbb8148011d\",\"roots\":{\"9211\":\"006b5f2b-1324-4ea0-8694-c9df1e3d4008\"}}];\n",
       "  root.Bokeh.embed.embed_items_notebook(docs_json, render_items);\n",
       "\n",
       "  }\n",
       "  if (root.Bokeh !== undefined) {\n",
       "    embed_document(root);\n",
       "  } else {\n",
       "    var attempts = 0;\n",
       "    var timer = setInterval(function(root) {\n",
       "      if (root.Bokeh !== undefined) {\n",
       "        embed_document(root);\n",
       "        clearInterval(timer);\n",
       "      }\n",
       "      attempts++;\n",
       "      if (attempts > 100) {\n",
       "        console.log(\"Bokeh: ERROR: Unable to run BokehJS code because BokehJS library is missing\");\n",
       "        clearInterval(timer);\n",
       "      }\n",
       "    }, 10, root)\n",
       "  }\n",
       "})(window);"
      ],
      "application/vnd.bokehjs_exec.v0+json": ""
     },
     "metadata": {
      "application/vnd.bokehjs_exec.v0+json": {
       "id": "9211"
      }
     },
     "output_type": "display_data"
    }
   ],
   "source": [
    "# Percentage of urban population living in slums\n",
    "years = ['2000', '2005', '2007', '2009', '2014']\n",
    "result = show_weighted_average(years, 'EN.POP.SLUM.UR.ZS', 'SP.URB.TOTL', \n",
    "                               ['LDCs', 'Developing excluding LDCs', 'OECD'])"
   ]
  },
  {
   "cell_type": "code",
   "execution_count": 27,
   "metadata": {
    "ExecuteTime": {
     "end_time": "2019-10-25T14:32:38.578383Z",
     "start_time": "2019-10-25T14:31:44.564667Z"
    }
   },
   "outputs": [
    {
     "data": {
      "text/html": [
       "\n",
       "\n",
       "\n",
       "\n",
       "\n",
       "\n",
       "  <div class=\"bk-root\" id=\"9223e441-d964-4883-a312-30b9e5b9030c\" data-root-id=\"9798\"></div>\n"
      ]
     },
     "metadata": {},
     "output_type": "display_data"
    },
    {
     "data": {
      "application/javascript": [
       "(function(root) {\n",
       "  function embed_document(root) {\n",
       "    \n",
       "  var docs_json = {\"37e92216-55c5-453c-aed6-5af6ed7cafd9\":{\"roots\":{\"references\":[{\"attributes\":{\"below\":[{\"id\":\"9809\",\"type\":\"LinearAxis\"}],\"center\":[{\"id\":\"9813\",\"type\":\"Grid\"},{\"id\":\"9818\",\"type\":\"Grid\"},{\"id\":\"9843\",\"type\":\"Legend\"}],\"left\":[{\"id\":\"9814\",\"type\":\"LinearAxis\"}],\"plot_height\":400,\"plot_width\":800,\"renderers\":[{\"id\":\"9835\",\"type\":\"GlyphRenderer\"},{\"id\":\"9848\",\"type\":\"GlyphRenderer\"},{\"id\":\"9853\",\"type\":\"GlyphRenderer\"},{\"id\":\"9869\",\"type\":\"GlyphRenderer\"},{\"id\":\"9874\",\"type\":\"GlyphRenderer\"},{\"id\":\"9894\",\"type\":\"GlyphRenderer\"}],\"title\":{\"id\":\"9799\",\"type\":\"Title\"},\"toolbar\":{\"id\":\"9825\",\"type\":\"Toolbar\"},\"x_range\":{\"id\":\"9801\",\"type\":\"DataRange1d\"},\"x_scale\":{\"id\":\"9805\",\"type\":\"LinearScale\"},\"y_range\":{\"id\":\"9803\",\"type\":\"DataRange1d\"},\"y_scale\":{\"id\":\"9807\",\"type\":\"LinearScale\"}},\"id\":\"9798\",\"subtype\":\"Figure\",\"type\":\"Plot\"},{\"attributes\":{\"grid_line_color\":null,\"ticker\":{\"id\":\"9810\",\"type\":\"BasicTicker\"}},\"id\":\"9813\",\"type\":\"Grid\"},{\"attributes\":{\"label\":{\"value\":\"Developing excluding LDCs\"},\"renderers\":[{\"id\":\"9853\",\"type\":\"GlyphRenderer\"}]},\"id\":\"9865\",\"type\":\"LegendItem\"},{\"attributes\":{},\"id\":\"9824\",\"type\":\"HelpTool\"},{\"attributes\":{\"fill_color\":{\"value\":\"#FA1857\"},\"line_color\":{\"value\":\"#FA1857\"},\"line_width\":{\"value\":3},\"x\":{\"field\":\"x\"},\"y\":{\"field\":\"y\"}},\"id\":\"9846\",\"type\":\"Circle\"},{\"attributes\":{},\"id\":\"9864\",\"type\":\"UnionRenderers\"},{\"attributes\":{},\"id\":\"10291\",\"type\":\"Selection\"},{\"attributes\":{},\"id\":\"9810\",\"type\":\"BasicTicker\"},{\"attributes\":{},\"id\":\"9823\",\"type\":\"ResetTool\"},{\"attributes\":{\"callback\":null,\"data\":{\"x\":[\"1960\",\"1961\",\"1962\",\"1963\",\"1964\",\"1965\",\"1966\",\"1967\",\"1968\",\"1969\",\"1970\",\"1971\",\"1972\",\"1973\",\"1974\",\"1975\",\"1976\",\"1977\",\"1978\",\"1979\",\"1980\",\"1981\",\"1982\",\"1983\",\"1984\",\"1985\",\"1986\",\"1987\",\"1988\",\"1989\",\"1990\",\"1991\",\"1992\",\"1993\",\"1994\",\"1995\",\"1996\",\"1997\",\"1998\",\"1999\",\"2000\",\"2001\",\"2002\",\"2003\",\"2004\",\"2005\",\"2006\",\"2007\",\"2008\",\"2009\",\"2010\",\"2011\",\"2012\",\"2013\",\"2014\",\"2015\",\"2016\",\"2017\"],\"y\":[9.694596850387763,9.940776914038576,10.208578023924911,10.490569792332288,10.786676079269657,11.093000692864887,11.408705950069086,11.757856293896815,12.121096984775779,12.501339085393989,12.882504687923733,13.301956341703553,13.74825933403769,14.20022819414328,14.658117471374087,14.563458800891116,15.048310618619109,15.554192307832162,16.077849464882206,16.58245994005764,17.157245184064905,17.666591608759823,18.019900732301828,18.40059310852793,18.820766261899337,19.265004885586393,19.712623452217006,20.164105809913796,20.62264937530869,21.058938369962696,21.509104067371112,21.933335356124694,22.335575011522703,22.724177040856873,23.062522993405008,23.385727861458065,23.707920689054898,24.03956301202416,24.36506813390805,24.691004101471197,25.024086639197435,25.411449152245495,25.829271626381995,26.261689473588106,26.695384287765474,27.14239799182873,27.583016355905283,27.978623693602632,28.465221977399377,28.961161588183558,29.46531554316522,29.976776610257286,30.455743181523303,30.958730869631772,31.466640511325554,31.9791513901057,32.49632977691262,33.018274499037716]},\"selected\":{\"id\":\"9863\",\"type\":\"Selection\"},\"selection_policy\":{\"id\":\"9864\",\"type\":\"UnionRenderers\"}},\"id\":\"9845\",\"type\":\"ColumnDataSource\"},{\"attributes\":{\"source\":{\"id\":\"9871\",\"type\":\"ColumnDataSource\"}},\"id\":\"9875\",\"type\":\"CDSView\"},{\"attributes\":{},\"id\":\"9863\",\"type\":\"Selection\"},{\"attributes\":{\"axis_label\":\"Years\",\"formatter\":{\"id\":\"9840\",\"type\":\"BasicTickFormatter\"},\"ticker\":{\"id\":\"9810\",\"type\":\"BasicTicker\"}},\"id\":\"9809\",\"type\":\"LinearAxis\"},{\"attributes\":{},\"id\":\"9822\",\"type\":\"SaveTool\"},{\"attributes\":{\"label\":{\"value\":\"LDCs\"},\"renderers\":[{\"id\":\"9835\",\"type\":\"GlyphRenderer\"}]},\"id\":\"9844\",\"type\":\"LegendItem\"},{\"attributes\":{},\"id\":\"9886\",\"type\":\"Selection\"},{\"attributes\":{\"source\":{\"id\":\"9891\",\"type\":\"ColumnDataSource\"}},\"id\":\"9895\",\"type\":\"CDSView\"},{\"attributes\":{},\"id\":\"9862\",\"type\":\"UnionRenderers\"},{\"attributes\":{},\"id\":\"9807\",\"type\":\"LinearScale\"},{\"attributes\":{\"overlay\":{\"id\":\"9842\",\"type\":\"BoxAnnotation\"}},\"id\":\"9821\",\"type\":\"BoxZoomTool\"},{\"attributes\":{\"data_source\":{\"id\":\"9871\",\"type\":\"ColumnDataSource\"},\"glyph\":{\"id\":\"9872\",\"type\":\"Line\"},\"hover_glyph\":null,\"muted_glyph\":null,\"nonselection_glyph\":{\"id\":\"9873\",\"type\":\"Line\"},\"selection_glyph\":null,\"view\":{\"id\":\"9875\",\"type\":\"CDSView\"}},\"id\":\"9874\",\"type\":\"GlyphRenderer\"},{\"attributes\":{\"items\":[{\"id\":\"9844\",\"type\":\"LegendItem\"},{\"id\":\"9865\",\"type\":\"LegendItem\"},{\"id\":\"9890\",\"type\":\"LegendItem\"}],\"location\":\"bottom_left\"},\"id\":\"9843\",\"type\":\"Legend\"},{\"attributes\":{\"data_source\":{\"id\":\"9891\",\"type\":\"ColumnDataSource\"},\"glyph\":{\"id\":\"9892\",\"type\":\"Circle\"},\"hover_glyph\":null,\"muted_glyph\":null,\"nonselection_glyph\":{\"id\":\"9893\",\"type\":\"Circle\"},\"selection_glyph\":null,\"view\":{\"id\":\"9895\",\"type\":\"CDSView\"}},\"id\":\"9894\",\"type\":\"GlyphRenderer\"},{\"attributes\":{},\"id\":\"9861\",\"type\":\"Selection\"},{\"attributes\":{},\"id\":\"9805\",\"type\":\"LinearScale\"},{\"attributes\":{},\"id\":\"9820\",\"type\":\"WheelZoomTool\"},{\"attributes\":{\"line_alpha\":0.1,\"line_color\":\"#1f77b4\",\"x\":{\"field\":\"x\"},\"y\":{\"field\":\"y\"}},\"id\":\"9873\",\"type\":\"Line\"},{\"attributes\":{\"bottom_units\":\"screen\",\"fill_alpha\":{\"value\":0.5},\"fill_color\":{\"value\":\"lightgrey\"},\"left_units\":\"screen\",\"level\":\"overlay\",\"line_alpha\":{\"value\":1.0},\"line_color\":{\"value\":\"black\"},\"line_dash\":[4,4],\"line_width\":{\"value\":2},\"render_mode\":\"css\",\"right_units\":\"screen\",\"top_units\":\"screen\"},\"id\":\"9842\",\"type\":\"BoxAnnotation\"},{\"attributes\":{\"source\":{\"id\":\"9850\",\"type\":\"ColumnDataSource\"}},\"id\":\"9854\",\"type\":\"CDSView\"},{\"attributes\":{\"fill_alpha\":{\"value\":0.1},\"fill_color\":{\"value\":\"#1f77b4\"},\"line_alpha\":{\"value\":0.1},\"line_color\":{\"value\":\"#1f77b4\"},\"line_width\":{\"value\":3},\"x\":{\"field\":\"x\"},\"y\":{\"field\":\"y\"}},\"id\":\"9893\",\"type\":\"Circle\"},{\"attributes\":{\"callback\":null},\"id\":\"9803\",\"type\":\"DataRange1d\"},{\"attributes\":{},\"id\":\"9819\",\"type\":\"PanTool\"},{\"attributes\":{\"line_color\":\"#2CC775\",\"x\":{\"field\":\"x\"},\"y\":{\"field\":\"y\"}},\"id\":\"9872\",\"type\":\"Line\"},{\"attributes\":{},\"id\":\"9840\",\"type\":\"BasicTickFormatter\"},{\"attributes\":{\"data_source\":{\"id\":\"9850\",\"type\":\"ColumnDataSource\"},\"glyph\":{\"id\":\"9851\",\"type\":\"Line\"},\"hover_glyph\":null,\"muted_glyph\":null,\"nonselection_glyph\":{\"id\":\"9852\",\"type\":\"Line\"},\"selection_glyph\":null,\"view\":{\"id\":\"9854\",\"type\":\"CDSView\"}},\"id\":\"9853\",\"type\":\"GlyphRenderer\"},{\"attributes\":{\"fill_color\":{\"value\":\"#2CC775\"},\"line_color\":{\"value\":\"#2CC775\"},\"line_width\":{\"value\":3},\"x\":{\"field\":\"x\"},\"y\":{\"field\":\"y\"}},\"id\":\"9892\",\"type\":\"Circle\"},{\"attributes\":{\"callback\":null},\"id\":\"9801\",\"type\":\"DataRange1d\"},{\"attributes\":{\"callback\":null,\"tooltips\":\"                \\n        <div style=padding=5px>Year:@x</div>\\n        <div style=padding=5px>Value:@y</div>        \\n        \"},\"id\":\"9896\",\"type\":\"HoverTool\"},{\"attributes\":{\"callback\":null,\"data\":{\"x\":[\"1960\",\"1961\",\"1962\",\"1963\",\"1964\",\"1965\",\"1966\",\"1967\",\"1968\",\"1969\",\"1970\",\"1971\",\"1972\",\"1973\",\"1974\",\"1975\",\"1976\",\"1977\",\"1978\",\"1979\",\"1980\",\"1981\",\"1982\",\"1983\",\"1984\",\"1985\",\"1986\",\"1987\",\"1988\",\"1989\",\"1990\",\"1991\",\"1992\",\"1993\",\"1994\",\"1995\",\"1996\",\"1997\",\"1998\",\"1999\",\"2000\",\"2001\",\"2002\",\"2003\",\"2004\",\"2005\",\"2006\",\"2007\",\"2008\",\"2009\",\"2010\",\"2011\",\"2012\",\"2013\",\"2014\",\"2015\",\"2016\",\"2017\"],\"y\":[62.59953620237616,63.08957334358763,63.57872639334224,64.08376999046433,64.58687436549964,65.087407161162,65.58539185759696,66.09314622321546,66.58824055065821,67.06756237656948,67.52628342166688,67.91756952516317,68.27745658275356,68.62376906240875,68.9745801014019,69.30531568374833,69.56047988482551,69.80755583528435,70.0570392716649,70.30188257560143,70.54728708463239,70.84080263406176,71.11518000620043,71.37556979428155,71.62682223254069,71.87801848980098,72.13955415956409,72.4211398671853,72.7000259866276,72.95811736019994,73.23560195464822,73.51484019892555,73.77414817178924,74.03783660613713,74.30723436951402,74.5745666211642,74.81851175794863,75.05227180897651,75.28501173120483,75.5181692891309,75.74974074372007,76.09479632423921,76.49560193311356,76.87622336289719,77.24127255096394,77.59143098241435,77.91417063193697,78.21867292983931,78.51440926413176,78.80120853028673,79.08124691428517,79.29771074412386,79.48385416511948,79.66738879268615,79.8506569075482,80.0386620288315,80.22913025645875,80.4233314253301]},\"selected\":{\"id\":\"10293\",\"type\":\"Selection\"},\"selection_policy\":{\"id\":\"10294\",\"type\":\"UnionRenderers\"}},\"id\":\"9891\",\"type\":\"ColumnDataSource\"},{\"attributes\":{},\"id\":\"9838\",\"type\":\"BasicTickFormatter\"},{\"attributes\":{\"callback\":null,\"data\":{\"x\":[\"1960\",\"1961\",\"1962\",\"1963\",\"1964\",\"1965\",\"1966\",\"1967\",\"1968\",\"1969\",\"1970\",\"1971\",\"1972\",\"1973\",\"1974\",\"1975\",\"1976\",\"1977\",\"1978\",\"1979\",\"1980\",\"1981\",\"1982\",\"1983\",\"1984\",\"1985\",\"1986\",\"1987\",\"1988\",\"1989\",\"1990\",\"1991\",\"1992\",\"1993\",\"1994\",\"1995\",\"1996\",\"1997\",\"1998\",\"1999\",\"2000\",\"2001\",\"2002\",\"2003\",\"2004\",\"2005\",\"2006\",\"2007\",\"2008\",\"2009\",\"2010\",\"2011\",\"2012\",\"2013\",\"2014\",\"2015\",\"2016\",\"2017\"],\"y\":[62.59953620237616,63.08957334358763,63.57872639334224,64.08376999046433,64.58687436549964,65.087407161162,65.58539185759696,66.09314622321546,66.58824055065821,67.06756237656948,67.52628342166688,67.91756952516317,68.27745658275356,68.62376906240875,68.9745801014019,69.30531568374833,69.56047988482551,69.80755583528435,70.0570392716649,70.30188257560143,70.54728708463239,70.84080263406176,71.11518000620043,71.37556979428155,71.62682223254069,71.87801848980098,72.13955415956409,72.4211398671853,72.7000259866276,72.95811736019994,73.23560195464822,73.51484019892555,73.77414817178924,74.03783660613713,74.30723436951402,74.5745666211642,74.81851175794863,75.05227180897651,75.28501173120483,75.5181692891309,75.74974074372007,76.09479632423921,76.49560193311356,76.87622336289719,77.24127255096394,77.59143098241435,77.91417063193697,78.21867292983931,78.51440926413176,78.80120853028673,79.08124691428517,79.29771074412386,79.48385416511948,79.66738879268615,79.8506569075482,80.0386620288315,80.22913025645875,80.4233314253301]},\"selected\":{\"id\":\"10291\",\"type\":\"Selection\"},\"selection_policy\":{\"id\":\"10292\",\"type\":\"UnionRenderers\"}},\"id\":\"9871\",\"type\":\"ColumnDataSource\"},{\"attributes\":{\"callback\":null,\"data\":{\"x\":[\"1960\",\"1961\",\"1962\",\"1963\",\"1964\",\"1965\",\"1966\",\"1967\",\"1968\",\"1969\",\"1970\",\"1971\",\"1972\",\"1973\",\"1974\",\"1975\",\"1976\",\"1977\",\"1978\",\"1979\",\"1980\",\"1981\",\"1982\",\"1983\",\"1984\",\"1985\",\"1986\",\"1987\",\"1988\",\"1989\",\"1990\",\"1991\",\"1992\",\"1993\",\"1994\",\"1995\",\"1996\",\"1997\",\"1998\",\"1999\",\"2000\",\"2001\",\"2002\",\"2003\",\"2004\",\"2005\",\"2006\",\"2007\",\"2008\",\"2009\",\"2010\",\"2011\",\"2012\",\"2013\",\"2014\",\"2015\",\"2016\",\"2017\"],\"y\":[9.694596850387763,9.940776914038576,10.208578023924911,10.490569792332288,10.786676079269657,11.093000692864887,11.408705950069086,11.757856293896815,12.121096984775779,12.501339085393989,12.882504687923733,13.301956341703553,13.74825933403769,14.20022819414328,14.658117471374087,14.563458800891116,15.048310618619109,15.554192307832162,16.077849464882206,16.58245994005764,17.157245184064905,17.666591608759823,18.019900732301828,18.40059310852793,18.820766261899337,19.265004885586393,19.712623452217006,20.164105809913796,20.62264937530869,21.058938369962696,21.509104067371112,21.933335356124694,22.335575011522703,22.724177040856873,23.062522993405008,23.385727861458065,23.707920689054898,24.03956301202416,24.36506813390805,24.691004101471197,25.024086639197435,25.411449152245495,25.829271626381995,26.261689473588106,26.695384287765474,27.14239799182873,27.583016355905283,27.978623693602632,28.465221977399377,28.961161588183558,29.46531554316522,29.976776610257286,30.455743181523303,30.958730869631772,31.466640511325554,31.9791513901057,32.49632977691262,33.018274499037716]},\"selected\":{\"id\":\"9861\",\"type\":\"Selection\"},\"selection_policy\":{\"id\":\"9862\",\"type\":\"UnionRenderers\"}},\"id\":\"9832\",\"type\":\"ColumnDataSource\"},{\"attributes\":{\"line_alpha\":0.1,\"line_color\":\"#1f77b4\",\"x\":{\"field\":\"x\"},\"y\":{\"field\":\"y\"}},\"id\":\"9852\",\"type\":\"Line\"},{\"attributes\":{\"text\":\"Urban population (% of total population) weighted against Population, total\"},\"id\":\"9799\",\"type\":\"Title\"},{\"attributes\":{\"source\":{\"id\":\"9866\",\"type\":\"ColumnDataSource\"}},\"id\":\"9870\",\"type\":\"CDSView\"},{\"attributes\":{\"line_color\":\"#FA1857\",\"x\":{\"field\":\"x\"},\"y\":{\"field\":\"y\"}},\"id\":\"9833\",\"type\":\"Line\"},{\"attributes\":{\"line_color\":\"#5430F1\",\"x\":{\"field\":\"x\"},\"y\":{\"field\":\"y\"}},\"id\":\"9851\",\"type\":\"Line\"},{\"attributes\":{\"label\":{\"value\":\"OECD\"},\"renderers\":[{\"id\":\"9874\",\"type\":\"GlyphRenderer\"}]},\"id\":\"9890\",\"type\":\"LegendItem\"},{\"attributes\":{\"source\":{\"id\":\"9832\",\"type\":\"ColumnDataSource\"}},\"id\":\"9836\",\"type\":\"CDSView\"},{\"attributes\":{\"data_source\":{\"id\":\"9866\",\"type\":\"ColumnDataSource\"},\"glyph\":{\"id\":\"9867\",\"type\":\"Circle\"},\"hover_glyph\":null,\"muted_glyph\":null,\"nonselection_glyph\":{\"id\":\"9868\",\"type\":\"Circle\"},\"selection_glyph\":null,\"view\":{\"id\":\"9870\",\"type\":\"CDSView\"}},\"id\":\"9869\",\"type\":\"GlyphRenderer\"},{\"attributes\":{\"dimension\":1,\"grid_line_alpha\":0.5,\"ticker\":{\"id\":\"9815\",\"type\":\"BasicTicker\"}},\"id\":\"9818\",\"type\":\"Grid\"},{\"attributes\":{\"callback\":null,\"data\":{\"x\":[\"1960\",\"1961\",\"1962\",\"1963\",\"1964\",\"1965\",\"1966\",\"1967\",\"1968\",\"1969\",\"1970\",\"1971\",\"1972\",\"1973\",\"1974\",\"1975\",\"1976\",\"1977\",\"1978\",\"1979\",\"1980\",\"1981\",\"1982\",\"1983\",\"1984\",\"1985\",\"1986\",\"1987\",\"1988\",\"1989\",\"1990\",\"1991\",\"1992\",\"1993\",\"1994\",\"1995\",\"1996\",\"1997\",\"1998\",\"1999\",\"2000\",\"2001\",\"2002\",\"2003\",\"2004\",\"2005\",\"2006\",\"2007\",\"2008\",\"2009\",\"2010\",\"2011\",\"2012\",\"2013\",\"2014\",\"2015\",\"2016\",\"2017\"],\"y\":[22.646367535019042,23.159353394360398,23.650807481940124,24.10880707260157,24.576072690305928,24.754402529902354,24.936819497000638,25.135399743063957,25.330345398166408,25.52051292339253,25.711600017029788,25.930149038877573,26.189789968552645,26.498519181850494,26.854821326074745,27.21922935406714,27.569665361850735,27.927428025271823,28.408374749575376,29.012607874502493,29.626094628920157,30.264617646421645,30.88476620993583,31.450119223212013,32.02485420144193,32.59891164560345,33.16736401209923,33.73007957174527,34.29207623604852,34.85427588480823,35.41884303879125,35.99061168320017,36.524311127835745,37.096288195937035,37.670204359829796,38.26826429980952,38.8401923634646,39.41453760251364,39.992886420668675,40.57189378008285,41.160651343137516,41.807704062665806,42.50785249269604,43.20892742128887,43.91579760549425,44.62670210349144,45.32719545007659,46.02246034809535,46.719927262775805,47.414756928186044,48.10796472373857,48.772991717826265,49.42699822772284,50.07749000831065,50.726911880796486,51.372728748931614,52.01633984242857,52.655328268195724]},\"selected\":{\"id\":\"9886\",\"type\":\"Selection\"},\"selection_policy\":{\"id\":\"9887\",\"type\":\"UnionRenderers\"}},\"id\":\"9850\",\"type\":\"ColumnDataSource\"},{\"attributes\":{},\"id\":\"9889\",\"type\":\"UnionRenderers\"},{\"attributes\":{},\"id\":\"10292\",\"type\":\"UnionRenderers\"},{\"attributes\":{\"data_source\":{\"id\":\"9832\",\"type\":\"ColumnDataSource\"},\"glyph\":{\"id\":\"9833\",\"type\":\"Line\"},\"hover_glyph\":null,\"muted_glyph\":null,\"nonselection_glyph\":{\"id\":\"9834\",\"type\":\"Line\"},\"selection_glyph\":null,\"view\":{\"id\":\"9836\",\"type\":\"CDSView\"}},\"id\":\"9835\",\"type\":\"GlyphRenderer\"},{\"attributes\":{\"fill_alpha\":{\"value\":0.1},\"fill_color\":{\"value\":\"#1f77b4\"},\"line_alpha\":{\"value\":0.1},\"line_color\":{\"value\":\"#1f77b4\"},\"line_width\":{\"value\":3},\"x\":{\"field\":\"x\"},\"y\":{\"field\":\"y\"}},\"id\":\"9868\",\"type\":\"Circle\"},{\"attributes\":{},\"id\":\"9815\",\"type\":\"BasicTicker\"},{\"attributes\":{\"source\":{\"id\":\"9845\",\"type\":\"ColumnDataSource\"}},\"id\":\"9849\",\"type\":\"CDSView\"},{\"attributes\":{},\"id\":\"9888\",\"type\":\"Selection\"},{\"attributes\":{},\"id\":\"10294\",\"type\":\"UnionRenderers\"},{\"attributes\":{\"line_alpha\":0.1,\"line_color\":\"#1f77b4\",\"x\":{\"field\":\"x\"},\"y\":{\"field\":\"y\"}},\"id\":\"9834\",\"type\":\"Line\"},{\"attributes\":{\"fill_color\":{\"value\":\"#5430F1\"},\"line_color\":{\"value\":\"#5430F1\"},\"line_width\":{\"value\":3},\"x\":{\"field\":\"x\"},\"y\":{\"field\":\"y\"}},\"id\":\"9867\",\"type\":\"Circle\"},{\"attributes\":{\"axis_label\":\"SP.URB.TOTL.IN.ZS\",\"formatter\":{\"id\":\"9838\",\"type\":\"BasicTickFormatter\"},\"ticker\":{\"id\":\"9815\",\"type\":\"BasicTicker\"}},\"id\":\"9814\",\"type\":\"LinearAxis\"},{\"attributes\":{\"data_source\":{\"id\":\"9845\",\"type\":\"ColumnDataSource\"},\"glyph\":{\"id\":\"9846\",\"type\":\"Circle\"},\"hover_glyph\":null,\"muted_glyph\":null,\"nonselection_glyph\":{\"id\":\"9847\",\"type\":\"Circle\"},\"selection_glyph\":null,\"view\":{\"id\":\"9849\",\"type\":\"CDSView\"}},\"id\":\"9848\",\"type\":\"GlyphRenderer\"},{\"attributes\":{},\"id\":\"9887\",\"type\":\"UnionRenderers\"},{\"attributes\":{},\"id\":\"10293\",\"type\":\"Selection\"},{\"attributes\":{\"active_drag\":\"auto\",\"active_inspect\":\"auto\",\"active_multi\":null,\"active_scroll\":\"auto\",\"active_tap\":\"auto\",\"tools\":[{\"id\":\"9819\",\"type\":\"PanTool\"},{\"id\":\"9820\",\"type\":\"WheelZoomTool\"},{\"id\":\"9821\",\"type\":\"BoxZoomTool\"},{\"id\":\"9822\",\"type\":\"SaveTool\"},{\"id\":\"9823\",\"type\":\"ResetTool\"},{\"id\":\"9824\",\"type\":\"HelpTool\"},{\"id\":\"9896\",\"type\":\"HoverTool\"}]},\"id\":\"9825\",\"type\":\"Toolbar\"},{\"attributes\":{\"callback\":null,\"data\":{\"x\":[\"1960\",\"1961\",\"1962\",\"1963\",\"1964\",\"1965\",\"1966\",\"1967\",\"1968\",\"1969\",\"1970\",\"1971\",\"1972\",\"1973\",\"1974\",\"1975\",\"1976\",\"1977\",\"1978\",\"1979\",\"1980\",\"1981\",\"1982\",\"1983\",\"1984\",\"1985\",\"1986\",\"1987\",\"1988\",\"1989\",\"1990\",\"1991\",\"1992\",\"1993\",\"1994\",\"1995\",\"1996\",\"1997\",\"1998\",\"1999\",\"2000\",\"2001\",\"2002\",\"2003\",\"2004\",\"2005\",\"2006\",\"2007\",\"2008\",\"2009\",\"2010\",\"2011\",\"2012\",\"2013\",\"2014\",\"2015\",\"2016\",\"2017\"],\"y\":[22.646367535019042,23.159353394360398,23.650807481940124,24.10880707260157,24.576072690305928,24.754402529902354,24.936819497000638,25.135399743063957,25.330345398166408,25.52051292339253,25.711600017029788,25.930149038877573,26.189789968552645,26.498519181850494,26.854821326074745,27.21922935406714,27.569665361850735,27.927428025271823,28.408374749575376,29.012607874502493,29.626094628920157,30.264617646421645,30.88476620993583,31.450119223212013,32.02485420144193,32.59891164560345,33.16736401209923,33.73007957174527,34.29207623604852,34.85427588480823,35.41884303879125,35.99061168320017,36.524311127835745,37.096288195937035,37.670204359829796,38.26826429980952,38.8401923634646,39.41453760251364,39.992886420668675,40.57189378008285,41.160651343137516,41.807704062665806,42.50785249269604,43.20892742128887,43.91579760549425,44.62670210349144,45.32719545007659,46.02246034809535,46.719927262775805,47.414756928186044,48.10796472373857,48.772991717826265,49.42699822772284,50.07749000831065,50.726911880796486,51.372728748931614,52.01633984242857,52.655328268195724]},\"selected\":{\"id\":\"9888\",\"type\":\"Selection\"},\"selection_policy\":{\"id\":\"9889\",\"type\":\"UnionRenderers\"}},\"id\":\"9866\",\"type\":\"ColumnDataSource\"},{\"attributes\":{\"fill_alpha\":{\"value\":0.1},\"fill_color\":{\"value\":\"#1f77b4\"},\"line_alpha\":{\"value\":0.1},\"line_color\":{\"value\":\"#1f77b4\"},\"line_width\":{\"value\":3},\"x\":{\"field\":\"x\"},\"y\":{\"field\":\"y\"}},\"id\":\"9847\",\"type\":\"Circle\"}],\"root_ids\":[\"9798\"]},\"title\":\"Bokeh Application\",\"version\":\"1.3.4\"}};\n",
       "  var render_items = [{\"docid\":\"37e92216-55c5-453c-aed6-5af6ed7cafd9\",\"roots\":{\"9798\":\"9223e441-d964-4883-a312-30b9e5b9030c\"}}];\n",
       "  root.Bokeh.embed.embed_items_notebook(docs_json, render_items);\n",
       "\n",
       "  }\n",
       "  if (root.Bokeh !== undefined) {\n",
       "    embed_document(root);\n",
       "  } else {\n",
       "    var attempts = 0;\n",
       "    var timer = setInterval(function(root) {\n",
       "      if (root.Bokeh !== undefined) {\n",
       "        embed_document(root);\n",
       "        clearInterval(timer);\n",
       "      }\n",
       "      attempts++;\n",
       "      if (attempts > 100) {\n",
       "        console.log(\"Bokeh: ERROR: Unable to run BokehJS code because BokehJS library is missing\");\n",
       "        clearInterval(timer);\n",
       "      }\n",
       "    }, 10, root)\n",
       "  }\n",
       "})(window);"
      ],
      "application/vnd.bokehjs_exec.v0+json": ""
     },
     "metadata": {
      "application/vnd.bokehjs_exec.v0+json": {
       "id": "9798"
      }
     },
     "output_type": "display_data"
    }
   ],
   "source": [
    "years = list(map(str, list(range(1960,2018))))\n",
    "# Urban population as a percentage of total population\n",
    "result = show_weighted_average(years, 'SP.URB.TOTL.IN.ZS', 'SP.POP.TOTL', \n",
    "                               ['LDCs', 'Developing excluding LDCs', 'OECD'])"
   ]
  },
  {
   "cell_type": "code",
   "execution_count": 28,
   "metadata": {
    "ExecuteTime": {
     "end_time": "2019-10-25T14:29:15.192779Z",
     "start_time": "2019-10-25T14:29:14.263102Z"
    }
   },
   "outputs": [
    {
     "data": {
      "text/html": [
       "\n",
       "\n",
       "\n",
       "\n",
       "\n",
       "\n",
       "  <div class=\"bk-root\" id=\"dee220eb-b67f-4a43-bfac-541e33d44125\" data-root-id=\"10403\"></div>\n"
      ]
     },
     "metadata": {},
     "output_type": "display_data"
    },
    {
     "data": {
      "application/javascript": [
       "(function(root) {\n",
       "  function embed_document(root) {\n",
       "    \n",
       "  var docs_json = {\"851b59bc-d079-4108-9911-c03612416821\":{\"roots\":{\"references\":[{\"attributes\":{\"below\":[{\"id\":\"10414\",\"type\":\"LinearAxis\"}],\"center\":[{\"id\":\"10418\",\"type\":\"Grid\"},{\"id\":\"10423\",\"type\":\"Grid\"},{\"id\":\"10448\",\"type\":\"Legend\"}],\"left\":[{\"id\":\"10419\",\"type\":\"LinearAxis\"}],\"plot_height\":400,\"plot_width\":900,\"renderers\":[{\"id\":\"10440\",\"type\":\"GlyphRenderer\"},{\"id\":\"10453\",\"type\":\"GlyphRenderer\"}],\"title\":{\"id\":\"10404\",\"type\":\"Title\"},\"toolbar\":{\"id\":\"10430\",\"type\":\"Toolbar\"},\"x_range\":{\"id\":\"10406\",\"type\":\"DataRange1d\"},\"x_scale\":{\"id\":\"10410\",\"type\":\"LinearScale\"},\"y_range\":{\"id\":\"10408\",\"type\":\"DataRange1d\"},\"y_scale\":{\"id\":\"10412\",\"type\":\"LinearScale\"}},\"id\":\"10403\",\"subtype\":\"Figure\",\"type\":\"Plot\"},{\"attributes\":{\"callback\":null,\"data\":{\"x\":[\"1960\",\"1961\",\"1962\",\"1963\",\"1964\",\"1965\",\"1966\",\"1967\",\"1968\",\"1969\",\"1970\",\"1971\",\"1972\",\"1973\",\"1974\",\"1975\",\"1976\",\"1977\",\"1978\",\"1979\",\"1980\",\"1981\",\"1982\",\"1983\",\"1984\",\"1985\",\"1986\",\"1987\",\"1988\",\"1989\",\"1990\",\"1991\",\"1992\",\"1993\",\"1994\",\"1995\",\"1996\",\"1997\",\"1998\",\"1999\",\"2000\",\"2001\",\"2002\",\"2003\",\"2004\",\"2005\",\"2006\",\"2007\",\"2008\",\"2009\",\"2010\",\"2011\",\"2012\",\"2013\",\"2014\",\"2015\",\"2016\",\"2017\"],\"y\":[23317292.0,24465608.0,25715484.0,27056026.0,28495614.0,30031066.0,31667488.0,33475608.0,35399148.0,37438167.0,39538583.0,41813984.0,44241565.0,46769493.0,49418771.0,50279277.0,53224569.0,56380077.0,59741635.0,63173090.0,67018359.0,70759809.0,74015049.0,77517852.0,81340591.0,85438619.0,89730611.0,94224950.0,98950365.0,103779087.0,108895345.0,114110906.0,119435249.0,124882817.0,130206642.0,135562776.0,141015012.0,146637320.0,152365029.0,158280891.0,164462270.0,171248545.0,178496124.0,186087168.0,193896898.0,201991152.0,210219133.0,218294690.0,227312839.0,236706129.0,246511210.0,256742767.0,266067392.0,276930811.0,288207667.0,299896804.0,312008544.0,324553851.0]},\"selected\":{\"id\":\"10862\",\"type\":\"Selection\"},\"selection_policy\":{\"id\":\"10863\",\"type\":\"UnionRenderers\"}},\"id\":\"10450\",\"type\":\"ColumnDataSource\"},{\"attributes\":{\"line_color\":\"#FA1857\",\"x\":{\"field\":\"x\"},\"y\":{\"field\":\"y\"}},\"id\":\"10438\",\"type\":\"Line\"},{\"attributes\":{\"fill_color\":{\"value\":\"#FA1857\"},\"line_color\":{\"value\":\"#FA1857\"},\"line_width\":{\"value\":3},\"x\":{\"field\":\"x\"},\"y\":{\"field\":\"y\"}},\"id\":\"10451\",\"type\":\"Circle\"},{\"attributes\":{\"callback\":null,\"data\":{\"x\":[\"1960\",\"1961\",\"1962\",\"1963\",\"1964\",\"1965\",\"1966\",\"1967\",\"1968\",\"1969\",\"1970\",\"1971\",\"1972\",\"1973\",\"1974\",\"1975\",\"1976\",\"1977\",\"1978\",\"1979\",\"1980\",\"1981\",\"1982\",\"1983\",\"1984\",\"1985\",\"1986\",\"1987\",\"1988\",\"1989\",\"1990\",\"1991\",\"1992\",\"1993\",\"1994\",\"1995\",\"1996\",\"1997\",\"1998\",\"1999\",\"2000\",\"2001\",\"2002\",\"2003\",\"2004\",\"2005\",\"2006\",\"2007\",\"2008\",\"2009\",\"2010\",\"2011\",\"2012\",\"2013\",\"2014\",\"2015\",\"2016\",\"2017\"],\"y\":[23317292.0,24465608.0,25715484.0,27056026.0,28495614.0,30031066.0,31667488.0,33475608.0,35399148.0,37438167.0,39538583.0,41813984.0,44241565.0,46769493.0,49418771.0,50279277.0,53224569.0,56380077.0,59741635.0,63173090.0,67018359.0,70759809.0,74015049.0,77517852.0,81340591.0,85438619.0,89730611.0,94224950.0,98950365.0,103779087.0,108895345.0,114110906.0,119435249.0,124882817.0,130206642.0,135562776.0,141015012.0,146637320.0,152365029.0,158280891.0,164462270.0,171248545.0,178496124.0,186087168.0,193896898.0,201991152.0,210219133.0,218294690.0,227312839.0,236706129.0,246511210.0,256742767.0,266067392.0,276930811.0,288207667.0,299896804.0,312008544.0,324553851.0]},\"selected\":{\"id\":\"10860\",\"type\":\"Selection\"},\"selection_policy\":{\"id\":\"10861\",\"type\":\"UnionRenderers\"}},\"id\":\"10437\",\"type\":\"ColumnDataSource\"},{\"attributes\":{\"fill_alpha\":{\"value\":0.1},\"fill_color\":{\"value\":\"#1f77b4\"},\"line_alpha\":{\"value\":0.1},\"line_color\":{\"value\":\"#1f77b4\"},\"line_width\":{\"value\":3},\"x\":{\"field\":\"x\"},\"y\":{\"field\":\"y\"}},\"id\":\"10452\",\"type\":\"Circle\"},{\"attributes\":{\"line_alpha\":0.1,\"line_color\":\"#1f77b4\",\"x\":{\"field\":\"x\"},\"y\":{\"field\":\"y\"}},\"id\":\"10439\",\"type\":\"Line\"},{\"attributes\":{},\"id\":\"10424\",\"type\":\"PanTool\"},{\"attributes\":{\"data_source\":{\"id\":\"10450\",\"type\":\"ColumnDataSource\"},\"glyph\":{\"id\":\"10451\",\"type\":\"Circle\"},\"hover_glyph\":null,\"muted_glyph\":null,\"nonselection_glyph\":{\"id\":\"10452\",\"type\":\"Circle\"},\"selection_glyph\":null,\"view\":{\"id\":\"10454\",\"type\":\"CDSView\"}},\"id\":\"10453\",\"type\":\"GlyphRenderer\"},{\"attributes\":{},\"id\":\"10425\",\"type\":\"WheelZoomTool\"},{\"attributes\":{\"source\":{\"id\":\"10450\",\"type\":\"ColumnDataSource\"}},\"id\":\"10454\",\"type\":\"CDSView\"},{\"attributes\":{\"overlay\":{\"id\":\"10447\",\"type\":\"BoxAnnotation\"}},\"id\":\"10426\",\"type\":\"BoxZoomTool\"},{\"attributes\":{},\"id\":\"10427\",\"type\":\"SaveTool\"},{\"attributes\":{\"callback\":null,\"tooltips\":\"                \\n        <div style=padding=5px>Year:@x</div>\\n        <div style=padding=5px>Value:@y</div>        \\n        \"},\"id\":\"10455\",\"type\":\"HoverTool\"},{\"attributes\":{},\"id\":\"10860\",\"type\":\"Selection\"},{\"attributes\":{\"text\":\"Urban population\"},\"id\":\"10404\",\"type\":\"Title\"},{\"attributes\":{},\"id\":\"10428\",\"type\":\"ResetTool\"},{\"attributes\":{},\"id\":\"10861\",\"type\":\"UnionRenderers\"},{\"attributes\":{\"callback\":null},\"id\":\"10406\",\"type\":\"DataRange1d\"},{\"attributes\":{},\"id\":\"10429\",\"type\":\"HelpTool\"},{\"attributes\":{},\"id\":\"10862\",\"type\":\"Selection\"},{\"attributes\":{\"callback\":null},\"id\":\"10408\",\"type\":\"DataRange1d\"},{\"attributes\":{\"active_drag\":\"auto\",\"active_inspect\":\"auto\",\"active_multi\":null,\"active_scroll\":\"auto\",\"active_tap\":\"auto\",\"tools\":[{\"id\":\"10424\",\"type\":\"PanTool\"},{\"id\":\"10425\",\"type\":\"WheelZoomTool\"},{\"id\":\"10426\",\"type\":\"BoxZoomTool\"},{\"id\":\"10427\",\"type\":\"SaveTool\"},{\"id\":\"10428\",\"type\":\"ResetTool\"},{\"id\":\"10429\",\"type\":\"HelpTool\"},{\"id\":\"10455\",\"type\":\"HoverTool\"}]},\"id\":\"10430\",\"type\":\"Toolbar\"},{\"attributes\":{},\"id\":\"10863\",\"type\":\"UnionRenderers\"},{\"attributes\":{},\"id\":\"10410\",\"type\":\"LinearScale\"},{\"attributes\":{\"data_source\":{\"id\":\"10437\",\"type\":\"ColumnDataSource\"},\"glyph\":{\"id\":\"10438\",\"type\":\"Line\"},\"hover_glyph\":null,\"muted_glyph\":null,\"nonselection_glyph\":{\"id\":\"10439\",\"type\":\"Line\"},\"selection_glyph\":null,\"view\":{\"id\":\"10441\",\"type\":\"CDSView\"}},\"id\":\"10440\",\"type\":\"GlyphRenderer\"},{\"attributes\":{},\"id\":\"10412\",\"type\":\"LinearScale\"},{\"attributes\":{\"axis_label\":\"Years\",\"formatter\":{\"id\":\"10445\",\"type\":\"BasicTickFormatter\"},\"ticker\":{\"id\":\"10415\",\"type\":\"BasicTicker\"}},\"id\":\"10414\",\"type\":\"LinearAxis\"},{\"attributes\":{\"source\":{\"id\":\"10437\",\"type\":\"ColumnDataSource\"}},\"id\":\"10441\",\"type\":\"CDSView\"},{\"attributes\":{},\"id\":\"10415\",\"type\":\"BasicTicker\"},{\"attributes\":{},\"id\":\"10443\",\"type\":\"BasicTickFormatter\"},{\"attributes\":{\"grid_line_color\":null,\"ticker\":{\"id\":\"10415\",\"type\":\"BasicTicker\"}},\"id\":\"10418\",\"type\":\"Grid\"},{\"attributes\":{},\"id\":\"10445\",\"type\":\"BasicTickFormatter\"},{\"attributes\":{\"axis_label\":\"SP.URB.TOTL\",\"formatter\":{\"id\":\"10443\",\"type\":\"BasicTickFormatter\"},\"ticker\":{\"id\":\"10420\",\"type\":\"BasicTicker\"}},\"id\":\"10419\",\"type\":\"LinearAxis\"},{\"attributes\":{\"bottom_units\":\"screen\",\"fill_alpha\":{\"value\":0.5},\"fill_color\":{\"value\":\"lightgrey\"},\"left_units\":\"screen\",\"level\":\"overlay\",\"line_alpha\":{\"value\":1.0},\"line_color\":{\"value\":\"black\"},\"line_dash\":[4,4],\"line_width\":{\"value\":2},\"render_mode\":\"css\",\"right_units\":\"screen\",\"top_units\":\"screen\"},\"id\":\"10447\",\"type\":\"BoxAnnotation\"},{\"attributes\":{},\"id\":\"10420\",\"type\":\"BasicTicker\"},{\"attributes\":{\"items\":[{\"id\":\"10449\",\"type\":\"LegendItem\"}],\"location\":\"bottom_left\"},\"id\":\"10448\",\"type\":\"Legend\"},{\"attributes\":{\"dimension\":1,\"grid_line_alpha\":0.5,\"ticker\":{\"id\":\"10420\",\"type\":\"BasicTicker\"}},\"id\":\"10423\",\"type\":\"Grid\"},{\"attributes\":{\"label\":{\"value\":\"LDCs\"},\"renderers\":[{\"id\":\"10440\",\"type\":\"GlyphRenderer\"}]},\"id\":\"10449\",\"type\":\"LegendItem\"}],\"root_ids\":[\"10403\"]},\"title\":\"Bokeh Application\",\"version\":\"1.3.4\"}};\n",
       "  var render_items = [{\"docid\":\"851b59bc-d079-4108-9911-c03612416821\",\"roots\":{\"10403\":\"dee220eb-b67f-4a43-bfac-541e33d44125\"}}];\n",
       "  root.Bokeh.embed.embed_items_notebook(docs_json, render_items);\n",
       "\n",
       "  }\n",
       "  if (root.Bokeh !== undefined) {\n",
       "    embed_document(root);\n",
       "  } else {\n",
       "    var attempts = 0;\n",
       "    var timer = setInterval(function(root) {\n",
       "      if (root.Bokeh !== undefined) {\n",
       "        embed_document(root);\n",
       "        clearInterval(timer);\n",
       "      }\n",
       "      attempts++;\n",
       "      if (attempts > 100) {\n",
       "        console.log(\"Bokeh: ERROR: Unable to run BokehJS code because BokehJS library is missing\");\n",
       "        clearInterval(timer);\n",
       "      }\n",
       "    }, 10, root)\n",
       "  }\n",
       "})(window);"
      ],
      "application/vnd.bokehjs_exec.v0+json": ""
     },
     "metadata": {
      "application/vnd.bokehjs_exec.v0+json": {
       "id": "10403"
      }
     },
     "output_type": "display_data"
    }
   ],
   "source": [
    "result = show_group_total(years, 'SP.URB.TOTL', ['LDCs'])"
   ]
  },
  {
   "cell_type": "code",
   "execution_count": 29,
   "metadata": {
    "ExecuteTime": {
     "end_time": "2019-10-25T14:35:30.281624Z",
     "start_time": "2019-10-25T14:35:22.402094Z"
    }
   },
   "outputs": [
    {
     "data": {
      "text/html": [
       "\n",
       "\n",
       "\n",
       "\n",
       "\n",
       "\n",
       "  <div class=\"bk-root\" id=\"1d31081a-996b-4055-b408-9838ea75f3fe\" data-root-id=\"10924\"></div>\n"
      ]
     },
     "metadata": {},
     "output_type": "display_data"
    },
    {
     "data": {
      "application/javascript": [
       "(function(root) {\n",
       "  function embed_document(root) {\n",
       "    \n",
       "  var docs_json = {\"8015cd8e-6347-4740-a0ab-9e90b377f6dc\":{\"roots\":{\"references\":[{\"attributes\":{\"below\":[{\"id\":\"10935\",\"type\":\"LinearAxis\"}],\"center\":[{\"id\":\"10939\",\"type\":\"Grid\"},{\"id\":\"10944\",\"type\":\"Grid\"},{\"id\":\"10969\",\"type\":\"Legend\"}],\"left\":[{\"id\":\"10940\",\"type\":\"LinearAxis\"}],\"plot_height\":400,\"plot_width\":800,\"renderers\":[{\"id\":\"10961\",\"type\":\"GlyphRenderer\"},{\"id\":\"10974\",\"type\":\"GlyphRenderer\"},{\"id\":\"10979\",\"type\":\"GlyphRenderer\"},{\"id\":\"10995\",\"type\":\"GlyphRenderer\"},{\"id\":\"11000\",\"type\":\"GlyphRenderer\"},{\"id\":\"11020\",\"type\":\"GlyphRenderer\"}],\"title\":{\"id\":\"10925\",\"type\":\"Title\"},\"toolbar\":{\"id\":\"10951\",\"type\":\"Toolbar\"},\"x_range\":{\"id\":\"10927\",\"type\":\"DataRange1d\"},\"x_scale\":{\"id\":\"10931\",\"type\":\"LinearScale\"},\"y_range\":{\"id\":\"10929\",\"type\":\"DataRange1d\"},\"y_scale\":{\"id\":\"10933\",\"type\":\"LinearScale\"}},\"id\":\"10924\",\"subtype\":\"Figure\",\"type\":\"Plot\"},{\"attributes\":{},\"id\":\"10933\",\"type\":\"LinearScale\"},{\"attributes\":{\"line_color\":\"#5430F1\",\"x\":{\"field\":\"x\"},\"y\":{\"field\":\"y\"}},\"id\":\"10977\",\"type\":\"Line\"},{\"attributes\":{\"fill_alpha\":{\"value\":0.1},\"fill_color\":{\"value\":\"#1f77b4\"},\"line_alpha\":{\"value\":0.1},\"line_color\":{\"value\":\"#1f77b4\"},\"line_width\":{\"value\":3},\"x\":{\"field\":\"x\"},\"y\":{\"field\":\"y\"}},\"id\":\"10973\",\"type\":\"Circle\"},{\"attributes\":{},\"id\":\"10936\",\"type\":\"BasicTicker\"},{\"attributes\":{\"data_source\":{\"id\":\"10971\",\"type\":\"ColumnDataSource\"},\"glyph\":{\"id\":\"10972\",\"type\":\"Circle\"},\"hover_glyph\":null,\"muted_glyph\":null,\"nonselection_glyph\":{\"id\":\"10973\",\"type\":\"Circle\"},\"selection_glyph\":null,\"view\":{\"id\":\"10975\",\"type\":\"CDSView\"}},\"id\":\"10974\",\"type\":\"GlyphRenderer\"},{\"attributes\":{\"line_color\":\"#FA1857\",\"x\":{\"field\":\"x\"},\"y\":{\"field\":\"y\"}},\"id\":\"10959\",\"type\":\"Line\"},{\"attributes\":{\"callback\":null,\"data\":{\"x\":[\"2000\",\"2001\",\"2002\",\"2003\",\"2004\",\"2005\",\"2006\",\"2007\",\"2008\",\"2009\",\"2010\",\"2011\",\"2012\",\"2013\",\"2014\",\"2015\",\"2016\",\"2017\"],\"y\":[0.9948809271821193,1.1720404938170361,1.2487792655994334,1.2098437389978234,1.1858418971351812,1.1566812882637159,1.1461235724859402,1.1299299497492925,1.1478412678703078,1.0667506897450498,1.004952660145055,0.7748422786938176,0.8497708748839219,0.8674781666983666,0.8896129313491413,0.882013187119933,0.8885753632137473,0.8267985143506588]},\"selected\":{\"id\":\"11445\",\"type\":\"Selection\"},\"selection_policy\":{\"id\":\"11446\",\"type\":\"UnionRenderers\"}},\"id\":\"10997\",\"type\":\"ColumnDataSource\"},{\"attributes\":{\"callback\":null,\"tooltips\":\"                \\n        <div style=padding=5px>Year:@x</div>\\n        <div style=padding=5px>Value:@y</div>        \\n        \"},\"id\":\"11022\",\"type\":\"HoverTool\"},{\"attributes\":{\"source\":{\"id\":\"10971\",\"type\":\"ColumnDataSource\"}},\"id\":\"10975\",\"type\":\"CDSView\"},{\"attributes\":{\"source\":{\"id\":\"11017\",\"type\":\"ColumnDataSource\"}},\"id\":\"11021\",\"type\":\"CDSView\"},{\"attributes\":{\"callback\":null,\"data\":{\"x\":[\"2000\",\"2001\",\"2002\",\"2003\",\"2004\",\"2005\",\"2006\",\"2007\",\"2008\",\"2009\",\"2010\",\"2011\",\"2012\",\"2013\",\"2014\",\"2015\",\"2016\",\"2017\"],\"y\":[3.839632443355257,4.050750120562035,4.152129316368502,4.171955840398782,4.118157957818914,4.096610597665852,3.999003616988988,3.782220570286373,4.05564287553224,4.056319092424261,4.065590147015717,4.073261083571143,4.021938233312422,4.007280454129896,3.99665201031686,3.9807823530140833,3.9641647477589586,3.946963230420776]},\"selected\":{\"id\":\"10987\",\"type\":\"Selection\"},\"selection_policy\":{\"id\":\"10988\",\"type\":\"UnionRenderers\"}},\"id\":\"10958\",\"type\":\"ColumnDataSource\"},{\"attributes\":{\"source\":{\"id\":\"10958\",\"type\":\"ColumnDataSource\"}},\"id\":\"10962\",\"type\":\"CDSView\"},{\"attributes\":{\"line_color\":\"#2CC775\",\"x\":{\"field\":\"x\"},\"y\":{\"field\":\"y\"}},\"id\":\"10998\",\"type\":\"Line\"},{\"attributes\":{},\"id\":\"10945\",\"type\":\"PanTool\"},{\"attributes\":{\"fill_alpha\":{\"value\":0.1},\"fill_color\":{\"value\":\"#1f77b4\"},\"line_alpha\":{\"value\":0.1},\"line_color\":{\"value\":\"#1f77b4\"},\"line_width\":{\"value\":3},\"x\":{\"field\":\"x\"},\"y\":{\"field\":\"y\"}},\"id\":\"10994\",\"type\":\"Circle\"},{\"attributes\":{\"fill_color\":{\"value\":\"#FA1857\"},\"line_color\":{\"value\":\"#FA1857\"},\"line_width\":{\"value\":3},\"x\":{\"field\":\"x\"},\"y\":{\"field\":\"y\"}},\"id\":\"10972\",\"type\":\"Circle\"},{\"attributes\":{},\"id\":\"11447\",\"type\":\"Selection\"},{\"attributes\":{\"data_source\":{\"id\":\"10992\",\"type\":\"ColumnDataSource\"},\"glyph\":{\"id\":\"10993\",\"type\":\"Circle\"},\"hover_glyph\":null,\"muted_glyph\":null,\"nonselection_glyph\":{\"id\":\"10994\",\"type\":\"Circle\"},\"selection_glyph\":null,\"view\":{\"id\":\"10996\",\"type\":\"CDSView\"}},\"id\":\"10995\",\"type\":\"GlyphRenderer\"},{\"attributes\":{\"text\":\"Urban population growth (annual %) weighted against Urban population\"},\"id\":\"10925\",\"type\":\"Title\"},{\"attributes\":{},\"id\":\"11446\",\"type\":\"UnionRenderers\"},{\"attributes\":{\"data_source\":{\"id\":\"11017\",\"type\":\"ColumnDataSource\"},\"glyph\":{\"id\":\"11018\",\"type\":\"Circle\"},\"hover_glyph\":null,\"muted_glyph\":null,\"nonselection_glyph\":{\"id\":\"11019\",\"type\":\"Circle\"},\"selection_glyph\":null,\"view\":{\"id\":\"11021\",\"type\":\"CDSView\"}},\"id\":\"11020\",\"type\":\"GlyphRenderer\"},{\"attributes\":{\"source\":{\"id\":\"10992\",\"type\":\"ColumnDataSource\"}},\"id\":\"10996\",\"type\":\"CDSView\"},{\"attributes\":{\"callback\":null,\"data\":{\"x\":[\"2000\",\"2001\",\"2002\",\"2003\",\"2004\",\"2005\",\"2006\",\"2007\",\"2008\",\"2009\",\"2010\",\"2011\",\"2012\",\"2013\",\"2014\",\"2015\",\"2016\",\"2017\"],\"y\":[3.839632443355257,4.050750120562035,4.152129316368502,4.171955840398782,4.118157957818914,4.096610597665852,3.999003616988988,3.782220570286373,4.05564287553224,4.056319092424261,4.065590147015717,4.073261083571143,4.021938233312422,4.007280454129896,3.99665201031686,3.9807823530140833,3.9641647477589586,3.946963230420776]},\"selected\":{\"id\":\"10989\",\"type\":\"Selection\"},\"selection_policy\":{\"id\":\"10990\",\"type\":\"UnionRenderers\"}},\"id\":\"10971\",\"type\":\"ColumnDataSource\"},{\"attributes\":{},\"id\":\"11014\",\"type\":\"Selection\"},{\"attributes\":{\"items\":[{\"id\":\"10970\",\"type\":\"LegendItem\"},{\"id\":\"10991\",\"type\":\"LegendItem\"},{\"id\":\"11016\",\"type\":\"LegendItem\"}],\"location\":\"bottom_left\"},\"id\":\"10969\",\"type\":\"Legend\"},{\"attributes\":{},\"id\":\"11445\",\"type\":\"Selection\"},{\"attributes\":{\"label\":{\"value\":\"LDCs\"},\"renderers\":[{\"id\":\"10961\",\"type\":\"GlyphRenderer\"}]},\"id\":\"10970\",\"type\":\"LegendItem\"},{\"attributes\":{},\"id\":\"10946\",\"type\":\"WheelZoomTool\"},{\"attributes\":{\"label\":{\"value\":\"Developing excluding LDCs\"},\"renderers\":[{\"id\":\"10979\",\"type\":\"GlyphRenderer\"}]},\"id\":\"10991\",\"type\":\"LegendItem\"},{\"attributes\":{\"line_alpha\":0.1,\"line_color\":\"#1f77b4\",\"x\":{\"field\":\"x\"},\"y\":{\"field\":\"y\"}},\"id\":\"10960\",\"type\":\"Line\"},{\"attributes\":{\"callback\":null,\"data\":{\"x\":[\"2000\",\"2001\",\"2002\",\"2003\",\"2004\",\"2005\",\"2006\",\"2007\",\"2008\",\"2009\",\"2010\",\"2011\",\"2012\",\"2013\",\"2014\",\"2015\",\"2016\",\"2017\"],\"y\":[2.871670536873578,2.9506525215988475,3.0128271447645267,2.9551890553185785,2.9261247060175326,2.902361475102694,2.840108257415668,2.7888748778370944,2.763950625262151,2.7242593532233568,2.6796435548957946,2.590427234522604,2.5298152471442634,2.4958792694478364,2.4648828979709463,2.423163368529642,2.3942249088769576,2.353214309708347]},\"selected\":{\"id\":\"11014\",\"type\":\"Selection\"},\"selection_policy\":{\"id\":\"11015\",\"type\":\"UnionRenderers\"}},\"id\":\"10992\",\"type\":\"ColumnDataSource\"},{\"attributes\":{\"bottom_units\":\"screen\",\"fill_alpha\":{\"value\":0.5},\"fill_color\":{\"value\":\"lightgrey\"},\"left_units\":\"screen\",\"level\":\"overlay\",\"line_alpha\":{\"value\":1.0},\"line_color\":{\"value\":\"black\"},\"line_dash\":[4,4],\"line_width\":{\"value\":2},\"render_mode\":\"css\",\"right_units\":\"screen\",\"top_units\":\"screen\"},\"id\":\"10968\",\"type\":\"BoxAnnotation\"},{\"attributes\":{},\"id\":\"11013\",\"type\":\"UnionRenderers\"},{\"attributes\":{},\"id\":\"10966\",\"type\":\"BasicTickFormatter\"},{\"attributes\":{},\"id\":\"10949\",\"type\":\"ResetTool\"},{\"attributes\":{\"fill_color\":{\"value\":\"#5430F1\"},\"line_color\":{\"value\":\"#5430F1\"},\"line_width\":{\"value\":3},\"x\":{\"field\":\"x\"},\"y\":{\"field\":\"y\"}},\"id\":\"10993\",\"type\":\"Circle\"},{\"attributes\":{\"callback\":null,\"data\":{\"x\":[\"2000\",\"2001\",\"2002\",\"2003\",\"2004\",\"2005\",\"2006\",\"2007\",\"2008\",\"2009\",\"2010\",\"2011\",\"2012\",\"2013\",\"2014\",\"2015\",\"2016\",\"2017\"],\"y\":[0.9948809271821193,1.1720404938170361,1.2487792655994334,1.2098437389978234,1.1858418971351812,1.1566812882637159,1.1461235724859402,1.1299299497492925,1.1478412678703078,1.0667506897450498,1.004952660145055,0.7748422786938176,0.8497708748839219,0.8674781666983666,0.8896129313491413,0.882013187119933,0.8885753632137473,0.8267985143506588]},\"selected\":{\"id\":\"11447\",\"type\":\"Selection\"},\"selection_policy\":{\"id\":\"11448\",\"type\":\"UnionRenderers\"}},\"id\":\"11017\",\"type\":\"ColumnDataSource\"},{\"attributes\":{\"overlay\":{\"id\":\"10968\",\"type\":\"BoxAnnotation\"}},\"id\":\"10947\",\"type\":\"BoxZoomTool\"},{\"attributes\":{\"fill_color\":{\"value\":\"#2CC775\"},\"line_color\":{\"value\":\"#2CC775\"},\"line_width\":{\"value\":3},\"x\":{\"field\":\"x\"},\"y\":{\"field\":\"y\"}},\"id\":\"11018\",\"type\":\"Circle\"},{\"attributes\":{},\"id\":\"10988\",\"type\":\"UnionRenderers\"},{\"attributes\":{\"grid_line_color\":null,\"ticker\":{\"id\":\"10936\",\"type\":\"BasicTicker\"}},\"id\":\"10939\",\"type\":\"Grid\"},{\"attributes\":{},\"id\":\"11012\",\"type\":\"Selection\"},{\"attributes\":{\"callback\":null},\"id\":\"10927\",\"type\":\"DataRange1d\"},{\"attributes\":{\"active_drag\":\"auto\",\"active_inspect\":\"auto\",\"active_multi\":null,\"active_scroll\":\"auto\",\"active_tap\":\"auto\",\"tools\":[{\"id\":\"10945\",\"type\":\"PanTool\"},{\"id\":\"10946\",\"type\":\"WheelZoomTool\"},{\"id\":\"10947\",\"type\":\"BoxZoomTool\"},{\"id\":\"10948\",\"type\":\"SaveTool\"},{\"id\":\"10949\",\"type\":\"ResetTool\"},{\"id\":\"10950\",\"type\":\"HelpTool\"},{\"id\":\"11022\",\"type\":\"HoverTool\"}]},\"id\":\"10951\",\"type\":\"Toolbar\"},{\"attributes\":{},\"id\":\"10989\",\"type\":\"Selection\"},{\"attributes\":{\"label\":{\"value\":\"OECD\"},\"renderers\":[{\"id\":\"11000\",\"type\":\"GlyphRenderer\"}]},\"id\":\"11016\",\"type\":\"LegendItem\"},{\"attributes\":{\"dimension\":1,\"grid_line_alpha\":0.5,\"ticker\":{\"id\":\"10941\",\"type\":\"BasicTicker\"}},\"id\":\"10944\",\"type\":\"Grid\"},{\"attributes\":{},\"id\":\"10990\",\"type\":\"UnionRenderers\"},{\"attributes\":{\"axis_label\":\"Years\",\"formatter\":{\"id\":\"10966\",\"type\":\"BasicTickFormatter\"},\"ticker\":{\"id\":\"10936\",\"type\":\"BasicTicker\"}},\"id\":\"10935\",\"type\":\"LinearAxis\"},{\"attributes\":{\"source\":{\"id\":\"10997\",\"type\":\"ColumnDataSource\"}},\"id\":\"11001\",\"type\":\"CDSView\"},{\"attributes\":{},\"id\":\"11448\",\"type\":\"UnionRenderers\"},{\"attributes\":{},\"id\":\"10941\",\"type\":\"BasicTicker\"},{\"attributes\":{\"data_source\":{\"id\":\"10976\",\"type\":\"ColumnDataSource\"},\"glyph\":{\"id\":\"10977\",\"type\":\"Line\"},\"hover_glyph\":null,\"muted_glyph\":null,\"nonselection_glyph\":{\"id\":\"10978\",\"type\":\"Line\"},\"selection_glyph\":null,\"view\":{\"id\":\"10980\",\"type\":\"CDSView\"}},\"id\":\"10979\",\"type\":\"GlyphRenderer\"},{\"attributes\":{\"callback\":null},\"id\":\"10929\",\"type\":\"DataRange1d\"},{\"attributes\":{},\"id\":\"10950\",\"type\":\"HelpTool\"},{\"attributes\":{\"fill_alpha\":{\"value\":0.1},\"fill_color\":{\"value\":\"#1f77b4\"},\"line_alpha\":{\"value\":0.1},\"line_color\":{\"value\":\"#1f77b4\"},\"line_width\":{\"value\":3},\"x\":{\"field\":\"x\"},\"y\":{\"field\":\"y\"}},\"id\":\"11019\",\"type\":\"Circle\"},{\"attributes\":{},\"id\":\"11015\",\"type\":\"UnionRenderers\"},{\"attributes\":{},\"id\":\"10948\",\"type\":\"SaveTool\"},{\"attributes\":{\"data_source\":{\"id\":\"10997\",\"type\":\"ColumnDataSource\"},\"glyph\":{\"id\":\"10998\",\"type\":\"Line\"},\"hover_glyph\":null,\"muted_glyph\":null,\"nonselection_glyph\":{\"id\":\"10999\",\"type\":\"Line\"},\"selection_glyph\":null,\"view\":{\"id\":\"11001\",\"type\":\"CDSView\"}},\"id\":\"11000\",\"type\":\"GlyphRenderer\"},{\"attributes\":{\"source\":{\"id\":\"10976\",\"type\":\"ColumnDataSource\"}},\"id\":\"10980\",\"type\":\"CDSView\"},{\"attributes\":{},\"id\":\"10987\",\"type\":\"Selection\"},{\"attributes\":{},\"id\":\"10964\",\"type\":\"BasicTickFormatter\"},{\"attributes\":{\"callback\":null,\"data\":{\"x\":[\"2000\",\"2001\",\"2002\",\"2003\",\"2004\",\"2005\",\"2006\",\"2007\",\"2008\",\"2009\",\"2010\",\"2011\",\"2012\",\"2013\",\"2014\",\"2015\",\"2016\",\"2017\"],\"y\":[2.871670536873578,2.9506525215988475,3.0128271447645267,2.9551890553185785,2.9261247060175326,2.902361475102694,2.840108257415668,2.7888748778370944,2.763950625262151,2.7242593532233568,2.6796435548957946,2.590427234522604,2.5298152471442634,2.4958792694478364,2.4648828979709463,2.423163368529642,2.3942249088769576,2.353214309708347]},\"selected\":{\"id\":\"11012\",\"type\":\"Selection\"},\"selection_policy\":{\"id\":\"11013\",\"type\":\"UnionRenderers\"}},\"id\":\"10976\",\"type\":\"ColumnDataSource\"},{\"attributes\":{\"line_alpha\":0.1,\"line_color\":\"#1f77b4\",\"x\":{\"field\":\"x\"},\"y\":{\"field\":\"y\"}},\"id\":\"10999\",\"type\":\"Line\"},{\"attributes\":{\"data_source\":{\"id\":\"10958\",\"type\":\"ColumnDataSource\"},\"glyph\":{\"id\":\"10959\",\"type\":\"Line\"},\"hover_glyph\":null,\"muted_glyph\":null,\"nonselection_glyph\":{\"id\":\"10960\",\"type\":\"Line\"},\"selection_glyph\":null,\"view\":{\"id\":\"10962\",\"type\":\"CDSView\"}},\"id\":\"10961\",\"type\":\"GlyphRenderer\"},{\"attributes\":{},\"id\":\"10931\",\"type\":\"LinearScale\"},{\"attributes\":{\"axis_label\":\"SP.URB.GROW\",\"formatter\":{\"id\":\"10964\",\"type\":\"BasicTickFormatter\"},\"ticker\":{\"id\":\"10941\",\"type\":\"BasicTicker\"}},\"id\":\"10940\",\"type\":\"LinearAxis\"},{\"attributes\":{\"line_alpha\":0.1,\"line_color\":\"#1f77b4\",\"x\":{\"field\":\"x\"},\"y\":{\"field\":\"y\"}},\"id\":\"10978\",\"type\":\"Line\"}],\"root_ids\":[\"10924\"]},\"title\":\"Bokeh Application\",\"version\":\"1.3.4\"}};\n",
       "  var render_items = [{\"docid\":\"8015cd8e-6347-4740-a0ab-9e90b377f6dc\",\"roots\":{\"10924\":\"1d31081a-996b-4055-b408-9838ea75f3fe\"}}];\n",
       "  root.Bokeh.embed.embed_items_notebook(docs_json, render_items);\n",
       "\n",
       "  }\n",
       "  if (root.Bokeh !== undefined) {\n",
       "    embed_document(root);\n",
       "  } else {\n",
       "    var attempts = 0;\n",
       "    var timer = setInterval(function(root) {\n",
       "      if (root.Bokeh !== undefined) {\n",
       "        embed_document(root);\n",
       "        clearInterval(timer);\n",
       "      }\n",
       "      attempts++;\n",
       "      if (attempts > 100) {\n",
       "        console.log(\"Bokeh: ERROR: Unable to run BokehJS code because BokehJS library is missing\");\n",
       "        clearInterval(timer);\n",
       "      }\n",
       "    }, 10, root)\n",
       "  }\n",
       "})(window);"
      ],
      "application/vnd.bokehjs_exec.v0+json": ""
     },
     "metadata": {
      "application/vnd.bokehjs_exec.v0+json": {
       "id": "10924"
      }
     },
     "output_type": "display_data"
    }
   ],
   "source": [
    "# Growth of urban population\n",
    "years = list(map(str, list(range(2000,2018))))\n",
    "result = show_weighted_average(years, 'SP.URB.GROW', 'SP.URB.TOTL', \n",
    "                               ['LDCs', 'Developing excluding LDCs', 'OECD']) "
   ]
  },
  {
   "cell_type": "markdown",
   "metadata": {},
   "source": [
    "# Water and sanitation"
   ]
  },
  {
   "cell_type": "code",
   "execution_count": 30,
   "metadata": {
    "ExecuteTime": {
     "end_time": "2019-10-25T14:25:57.739495Z",
     "start_time": "2019-10-25T14:25:51.769121Z"
    },
    "slideshow": {
     "slide_type": "slide"
    }
   },
   "outputs": [
    {
     "data": {
      "text/html": [
       "\n",
       "\n",
       "\n",
       "\n",
       "\n",
       "\n",
       "  <div class=\"bk-root\" id=\"25db4be7-1e06-4752-a4c1-df6e30f34ad6\" data-root-id=\"11557\"></div>\n"
      ]
     },
     "metadata": {},
     "output_type": "display_data"
    },
    {
     "data": {
      "application/javascript": [
       "(function(root) {\n",
       "  function embed_document(root) {\n",
       "    \n",
       "  var docs_json = {\"27611dbd-3401-4056-9af8-d9edefd01c1f\":{\"roots\":{\"references\":[{\"attributes\":{\"below\":[{\"id\":\"11568\",\"type\":\"LinearAxis\"}],\"center\":[{\"id\":\"11572\",\"type\":\"Grid\"},{\"id\":\"11577\",\"type\":\"Grid\"},{\"id\":\"11602\",\"type\":\"Legend\"}],\"left\":[{\"id\":\"11573\",\"type\":\"LinearAxis\"}],\"plot_height\":400,\"plot_width\":800,\"renderers\":[{\"id\":\"11594\",\"type\":\"GlyphRenderer\"},{\"id\":\"11607\",\"type\":\"GlyphRenderer\"},{\"id\":\"11612\",\"type\":\"GlyphRenderer\"},{\"id\":\"11628\",\"type\":\"GlyphRenderer\"},{\"id\":\"11633\",\"type\":\"GlyphRenderer\"},{\"id\":\"11653\",\"type\":\"GlyphRenderer\"}],\"title\":{\"id\":\"11558\",\"type\":\"Title\"},\"toolbar\":{\"id\":\"11584\",\"type\":\"Toolbar\"},\"x_range\":{\"id\":\"11560\",\"type\":\"DataRange1d\"},\"x_scale\":{\"id\":\"11564\",\"type\":\"LinearScale\"},\"y_range\":{\"id\":\"11562\",\"type\":\"DataRange1d\"},\"y_scale\":{\"id\":\"11566\",\"type\":\"LinearScale\"}},\"id\":\"11557\",\"subtype\":\"Figure\",\"type\":\"Plot\"},{\"attributes\":{},\"id\":\"11569\",\"type\":\"BasicTicker\"},{\"attributes\":{\"label\":{\"value\":\"LDCs\"},\"renderers\":[{\"id\":\"11594\",\"type\":\"GlyphRenderer\"}]},\"id\":\"11603\",\"type\":\"LegendItem\"},{\"attributes\":{\"fill_alpha\":{\"value\":0.1},\"fill_color\":{\"value\":\"#1f77b4\"},\"line_alpha\":{\"value\":0.1},\"line_color\":{\"value\":\"#1f77b4\"},\"line_width\":{\"value\":3},\"x\":{\"field\":\"x\"},\"y\":{\"field\":\"y\"}},\"id\":\"11627\",\"type\":\"Circle\"},{\"attributes\":{},\"id\":\"11564\",\"type\":\"LinearScale\"},{\"attributes\":{\"fill_color\":{\"value\":\"#FA1857\"},\"line_color\":{\"value\":\"#FA1857\"},\"line_width\":{\"value\":3},\"x\":{\"field\":\"x\"},\"y\":{\"field\":\"y\"}},\"id\":\"11605\",\"type\":\"Circle\"},{\"attributes\":{\"axis_label\":\"Years\",\"formatter\":{\"id\":\"11599\",\"type\":\"BasicTickFormatter\"},\"ticker\":{\"id\":\"11569\",\"type\":\"BasicTicker\"}},\"id\":\"11568\",\"type\":\"LinearAxis\"},{\"attributes\":{},\"id\":\"12096\",\"type\":\"Selection\"},{\"attributes\":{\"callback\":null,\"tooltips\":\"                \\n        <div style=padding=5px>Year:@x</div>\\n        <div style=padding=5px>Value:@y</div>        \\n        \"},\"id\":\"11655\",\"type\":\"HoverTool\"},{\"attributes\":{},\"id\":\"11566\",\"type\":\"LinearScale\"},{\"attributes\":{\"data_source\":{\"id\":\"11625\",\"type\":\"ColumnDataSource\"},\"glyph\":{\"id\":\"11626\",\"type\":\"Circle\"},\"hover_glyph\":null,\"muted_glyph\":null,\"nonselection_glyph\":{\"id\":\"11627\",\"type\":\"Circle\"},\"selection_glyph\":null,\"view\":{\"id\":\"11629\",\"type\":\"CDSView\"}},\"id\":\"11628\",\"type\":\"GlyphRenderer\"},{\"attributes\":{},\"id\":\"11599\",\"type\":\"BasicTickFormatter\"},{\"attributes\":{},\"id\":\"12097\",\"type\":\"UnionRenderers\"},{\"attributes\":{\"line_color\":\"#FA1857\",\"x\":{\"field\":\"x\"},\"y\":{\"field\":\"y\"}},\"id\":\"11592\",\"type\":\"Line\"},{\"attributes\":{\"callback\":null,\"data\":{\"x\":[\"2000\",\"2001\",\"2002\",\"2003\",\"2004\",\"2005\",\"2006\",\"2007\",\"2008\",\"2009\",\"2010\",\"2011\",\"2012\",\"2013\",\"2014\",\"2015\",\"2016\",\"2017\"],\"y\":[80.04575550274292,80.13536831650443,80.2749830491825,80.58814768410595,80.98591935582309,81.41241391811296,82.53376279435736,82.94328127236986,83.35812838971606,83.77383345525976,84.19453320444809,84.60616451316776,85.02010336426527,85.44818985737146,85.89167410057688,86.28661161448157,86.61428373311065,86.89175663743303]},\"selected\":{\"id\":\"12098\",\"type\":\"Selection\"},\"selection_policy\":{\"id\":\"12099\",\"type\":\"UnionRenderers\"}},\"id\":\"11650\",\"type\":\"ColumnDataSource\"},{\"attributes\":{\"text\":\"People using safely managed sanitation services (% of population) weighted against Population, total\"},\"id\":\"11558\",\"type\":\"Title\"},{\"attributes\":{\"fill_alpha\":{\"value\":0.1},\"fill_color\":{\"value\":\"#1f77b4\"},\"line_alpha\":{\"value\":0.1},\"line_color\":{\"value\":\"#1f77b4\"},\"line_width\":{\"value\":3},\"x\":{\"field\":\"x\"},\"y\":{\"field\":\"y\"}},\"id\":\"11652\",\"type\":\"Circle\"},{\"attributes\":{\"items\":[{\"id\":\"11603\",\"type\":\"LegendItem\"},{\"id\":\"11624\",\"type\":\"LegendItem\"},{\"id\":\"11649\",\"type\":\"LegendItem\"}],\"location\":\"bottom_left\"},\"id\":\"11602\",\"type\":\"Legend\"},{\"attributes\":{\"label\":{\"value\":\"Developing excluding LDCs\"},\"renderers\":[{\"id\":\"11612\",\"type\":\"GlyphRenderer\"}]},\"id\":\"11624\",\"type\":\"LegendItem\"},{\"attributes\":{\"callback\":null},\"id\":\"11562\",\"type\":\"DataRange1d\"},{\"attributes\":{\"data_source\":{\"id\":\"11650\",\"type\":\"ColumnDataSource\"},\"glyph\":{\"id\":\"11651\",\"type\":\"Circle\"},\"hover_glyph\":null,\"muted_glyph\":null,\"nonselection_glyph\":{\"id\":\"11652\",\"type\":\"Circle\"},\"selection_glyph\":null,\"view\":{\"id\":\"11654\",\"type\":\"CDSView\"}},\"id\":\"11653\",\"type\":\"GlyphRenderer\"},{\"attributes\":{\"line_alpha\":0.1,\"line_color\":\"#1f77b4\",\"x\":{\"field\":\"x\"},\"y\":{\"field\":\"y\"}},\"id\":\"11593\",\"type\":\"Line\"},{\"attributes\":{\"fill_color\":{\"value\":\"#5430F1\"},\"line_color\":{\"value\":\"#5430F1\"},\"line_width\":{\"value\":3},\"x\":{\"field\":\"x\"},\"y\":{\"field\":\"y\"}},\"id\":\"11626\",\"type\":\"Circle\"},{\"attributes\":{\"callback\":null,\"data\":{\"x\":[\"2000\",\"2001\",\"2002\",\"2003\",\"2004\",\"2005\",\"2006\",\"2007\",\"2008\",\"2009\",\"2010\",\"2011\",\"2012\",\"2013\",\"2014\",\"2015\",\"2016\",\"2017\"],\"y\":[7.313298252489695,8.310611901533424,9.28077115926377,10.252918388064188,11.205379345323372,12.149632874228196,13.089596716542752,14.025080502459863,14.955900981807803,15.821696108471013,16.709045789768172,17.553474451435992,18.374064944696872,19.187805301854954,19.99536707307814,20.797136473512598,21.58898092737968,22.374104786870443]},\"selected\":{\"id\":\"11620\",\"type\":\"Selection\"},\"selection_policy\":{\"id\":\"11621\",\"type\":\"UnionRenderers\"}},\"id\":\"11591\",\"type\":\"ColumnDataSource\"},{\"attributes\":{\"callback\":null},\"id\":\"11560\",\"type\":\"DataRange1d\"},{\"attributes\":{\"callback\":null,\"data\":{\"x\":[\"2000\",\"2001\",\"2002\",\"2003\",\"2004\",\"2005\",\"2006\",\"2007\",\"2008\",\"2009\",\"2010\",\"2011\",\"2012\",\"2013\",\"2014\",\"2015\",\"2016\",\"2017\"],\"y\":[28.95024757925739,29.209016301994986,29.79844631497895,31.18696960164219,32.69297789614253,34.30733873540626,36.01016978662808,37.93187043091685,39.94500520648879,42.03012406148348,44.17895500170897,46.379028286829,48.62938786590606,50.964846617773375,53.35002880170789,55.76782165250671,58.22878123081063,60.72069424656215]},\"selected\":{\"id\":\"11647\",\"type\":\"Selection\"},\"selection_policy\":{\"id\":\"11648\",\"type\":\"UnionRenderers\"}},\"id\":\"11625\",\"type\":\"ColumnDataSource\"},{\"attributes\":{\"source\":{\"id\":\"11650\",\"type\":\"ColumnDataSource\"}},\"id\":\"11654\",\"type\":\"CDSView\"},{\"attributes\":{},\"id\":\"11647\",\"type\":\"Selection\"},{\"attributes\":{},\"id\":\"12099\",\"type\":\"UnionRenderers\"},{\"attributes\":{\"label\":{\"value\":\"OECD\"},\"renderers\":[{\"id\":\"11633\",\"type\":\"GlyphRenderer\"}]},\"id\":\"11649\",\"type\":\"LegendItem\"},{\"attributes\":{},\"id\":\"11597\",\"type\":\"BasicTickFormatter\"},{\"attributes\":{},\"id\":\"11621\",\"type\":\"UnionRenderers\"},{\"attributes\":{\"dimension\":1,\"grid_line_alpha\":0.5,\"ticker\":{\"id\":\"11574\",\"type\":\"BasicTicker\"}},\"id\":\"11577\",\"type\":\"Grid\"},{\"attributes\":{},\"id\":\"11623\",\"type\":\"UnionRenderers\"},{\"attributes\":{},\"id\":\"12098\",\"type\":\"Selection\"},{\"attributes\":{\"fill_color\":{\"value\":\"#2CC775\"},\"line_color\":{\"value\":\"#2CC775\"},\"line_width\":{\"value\":3},\"x\":{\"field\":\"x\"},\"y\":{\"field\":\"y\"}},\"id\":\"11651\",\"type\":\"Circle\"},{\"attributes\":{},\"id\":\"11622\",\"type\":\"Selection\"},{\"attributes\":{\"axis_label\":\"SH.STA.SMSS.ZS\",\"formatter\":{\"id\":\"11597\",\"type\":\"BasicTickFormatter\"},\"ticker\":{\"id\":\"11574\",\"type\":\"BasicTicker\"}},\"id\":\"11573\",\"type\":\"LinearAxis\"},{\"attributes\":{\"source\":{\"id\":\"11630\",\"type\":\"ColumnDataSource\"}},\"id\":\"11634\",\"type\":\"CDSView\"},{\"attributes\":{},\"id\":\"11583\",\"type\":\"HelpTool\"},{\"attributes\":{\"data_source\":{\"id\":\"11609\",\"type\":\"ColumnDataSource\"},\"glyph\":{\"id\":\"11610\",\"type\":\"Line\"},\"hover_glyph\":null,\"muted_glyph\":null,\"nonselection_glyph\":{\"id\":\"11611\",\"type\":\"Line\"},\"selection_glyph\":null,\"view\":{\"id\":\"11613\",\"type\":\"CDSView\"}},\"id\":\"11612\",\"type\":\"GlyphRenderer\"},{\"attributes\":{\"data_source\":{\"id\":\"11591\",\"type\":\"ColumnDataSource\"},\"glyph\":{\"id\":\"11592\",\"type\":\"Line\"},\"hover_glyph\":null,\"muted_glyph\":null,\"nonselection_glyph\":{\"id\":\"11593\",\"type\":\"Line\"},\"selection_glyph\":null,\"view\":{\"id\":\"11595\",\"type\":\"CDSView\"}},\"id\":\"11594\",\"type\":\"GlyphRenderer\"},{\"attributes\":{},\"id\":\"11646\",\"type\":\"UnionRenderers\"},{\"attributes\":{},\"id\":\"11648\",\"type\":\"UnionRenderers\"},{\"attributes\":{},\"id\":\"11620\",\"type\":\"Selection\"},{\"attributes\":{\"data_source\":{\"id\":\"11604\",\"type\":\"ColumnDataSource\"},\"glyph\":{\"id\":\"11605\",\"type\":\"Circle\"},\"hover_glyph\":null,\"muted_glyph\":null,\"nonselection_glyph\":{\"id\":\"11606\",\"type\":\"Circle\"},\"selection_glyph\":null,\"view\":{\"id\":\"11608\",\"type\":\"CDSView\"}},\"id\":\"11607\",\"type\":\"GlyphRenderer\"},{\"attributes\":{},\"id\":\"11574\",\"type\":\"BasicTicker\"},{\"attributes\":{\"source\":{\"id\":\"11591\",\"type\":\"ColumnDataSource\"}},\"id\":\"11595\",\"type\":\"CDSView\"},{\"attributes\":{\"line_color\":\"#2CC775\",\"x\":{\"field\":\"x\"},\"y\":{\"field\":\"y\"}},\"id\":\"11631\",\"type\":\"Line\"},{\"attributes\":{\"source\":{\"id\":\"11609\",\"type\":\"ColumnDataSource\"}},\"id\":\"11613\",\"type\":\"CDSView\"},{\"attributes\":{\"callback\":null,\"data\":{\"x\":[\"2000\",\"2001\",\"2002\",\"2003\",\"2004\",\"2005\",\"2006\",\"2007\",\"2008\",\"2009\",\"2010\",\"2011\",\"2012\",\"2013\",\"2014\",\"2015\",\"2016\",\"2017\"],\"y\":[28.95024757925739,29.209016301994986,29.79844631497895,31.18696960164219,32.69297789614253,34.30733873540626,36.01016978662808,37.93187043091685,39.94500520648879,42.03012406148348,44.17895500170897,46.379028286829,48.62938786590606,50.964846617773375,53.35002880170789,55.76782165250671,58.22878123081063,60.72069424656215]},\"selected\":{\"id\":\"11645\",\"type\":\"Selection\"},\"selection_policy\":{\"id\":\"11646\",\"type\":\"UnionRenderers\"}},\"id\":\"11609\",\"type\":\"ColumnDataSource\"},{\"attributes\":{\"data_source\":{\"id\":\"11630\",\"type\":\"ColumnDataSource\"},\"glyph\":{\"id\":\"11631\",\"type\":\"Line\"},\"hover_glyph\":null,\"muted_glyph\":null,\"nonselection_glyph\":{\"id\":\"11632\",\"type\":\"Line\"},\"selection_glyph\":null,\"view\":{\"id\":\"11634\",\"type\":\"CDSView\"}},\"id\":\"11633\",\"type\":\"GlyphRenderer\"},{\"attributes\":{\"overlay\":{\"id\":\"11601\",\"type\":\"BoxAnnotation\"}},\"id\":\"11580\",\"type\":\"BoxZoomTool\"},{\"attributes\":{},\"id\":\"11582\",\"type\":\"ResetTool\"},{\"attributes\":{},\"id\":\"11645\",\"type\":\"Selection\"},{\"attributes\":{\"line_alpha\":0.1,\"line_color\":\"#1f77b4\",\"x\":{\"field\":\"x\"},\"y\":{\"field\":\"y\"}},\"id\":\"11611\",\"type\":\"Line\"},{\"attributes\":{},\"id\":\"11578\",\"type\":\"PanTool\"},{\"attributes\":{\"grid_line_color\":null,\"ticker\":{\"id\":\"11569\",\"type\":\"BasicTicker\"}},\"id\":\"11572\",\"type\":\"Grid\"},{\"attributes\":{\"callback\":null,\"data\":{\"x\":[\"2000\",\"2001\",\"2002\",\"2003\",\"2004\",\"2005\",\"2006\",\"2007\",\"2008\",\"2009\",\"2010\",\"2011\",\"2012\",\"2013\",\"2014\",\"2015\",\"2016\",\"2017\"],\"y\":[7.313298252489695,8.310611901533424,9.28077115926377,10.252918388064188,11.205379345323372,12.149632874228196,13.089596716542752,14.025080502459863,14.955900981807803,15.821696108471013,16.709045789768172,17.553474451435992,18.374064944696872,19.187805301854954,19.99536707307814,20.797136473512598,21.58898092737968,22.374104786870443]},\"selected\":{\"id\":\"11622\",\"type\":\"Selection\"},\"selection_policy\":{\"id\":\"11623\",\"type\":\"UnionRenderers\"}},\"id\":\"11604\",\"type\":\"ColumnDataSource\"},{\"attributes\":{\"active_drag\":\"auto\",\"active_inspect\":\"auto\",\"active_multi\":null,\"active_scroll\":\"auto\",\"active_tap\":\"auto\",\"tools\":[{\"id\":\"11578\",\"type\":\"PanTool\"},{\"id\":\"11579\",\"type\":\"WheelZoomTool\"},{\"id\":\"11580\",\"type\":\"BoxZoomTool\"},{\"id\":\"11581\",\"type\":\"SaveTool\"},{\"id\":\"11582\",\"type\":\"ResetTool\"},{\"id\":\"11583\",\"type\":\"HelpTool\"},{\"id\":\"11655\",\"type\":\"HoverTool\"}]},\"id\":\"11584\",\"type\":\"Toolbar\"},{\"attributes\":{\"source\":{\"id\":\"11625\",\"type\":\"ColumnDataSource\"}},\"id\":\"11629\",\"type\":\"CDSView\"},{\"attributes\":{\"line_color\":\"#5430F1\",\"x\":{\"field\":\"x\"},\"y\":{\"field\":\"y\"}},\"id\":\"11610\",\"type\":\"Line\"},{\"attributes\":{\"fill_alpha\":{\"value\":0.1},\"fill_color\":{\"value\":\"#1f77b4\"},\"line_alpha\":{\"value\":0.1},\"line_color\":{\"value\":\"#1f77b4\"},\"line_width\":{\"value\":3},\"x\":{\"field\":\"x\"},\"y\":{\"field\":\"y\"}},\"id\":\"11606\",\"type\":\"Circle\"},{\"attributes\":{},\"id\":\"11579\",\"type\":\"WheelZoomTool\"},{\"attributes\":{\"callback\":null,\"data\":{\"x\":[\"2000\",\"2001\",\"2002\",\"2003\",\"2004\",\"2005\",\"2006\",\"2007\",\"2008\",\"2009\",\"2010\",\"2011\",\"2012\",\"2013\",\"2014\",\"2015\",\"2016\",\"2017\"],\"y\":[80.04575550274292,80.13536831650443,80.2749830491825,80.58814768410595,80.98591935582309,81.41241391811296,82.53376279435736,82.94328127236986,83.35812838971606,83.77383345525976,84.19453320444809,84.60616451316776,85.02010336426527,85.44818985737146,85.89167410057688,86.28661161448157,86.61428373311065,86.89175663743303]},\"selected\":{\"id\":\"12096\",\"type\":\"Selection\"},\"selection_policy\":{\"id\":\"12097\",\"type\":\"UnionRenderers\"}},\"id\":\"11630\",\"type\":\"ColumnDataSource\"},{\"attributes\":{},\"id\":\"11581\",\"type\":\"SaveTool\"},{\"attributes\":{\"source\":{\"id\":\"11604\",\"type\":\"ColumnDataSource\"}},\"id\":\"11608\",\"type\":\"CDSView\"},{\"attributes\":{\"line_alpha\":0.1,\"line_color\":\"#1f77b4\",\"x\":{\"field\":\"x\"},\"y\":{\"field\":\"y\"}},\"id\":\"11632\",\"type\":\"Line\"},{\"attributes\":{\"bottom_units\":\"screen\",\"fill_alpha\":{\"value\":0.5},\"fill_color\":{\"value\":\"lightgrey\"},\"left_units\":\"screen\",\"level\":\"overlay\",\"line_alpha\":{\"value\":1.0},\"line_color\":{\"value\":\"black\"},\"line_dash\":[4,4],\"line_width\":{\"value\":2},\"render_mode\":\"css\",\"right_units\":\"screen\",\"top_units\":\"screen\"},\"id\":\"11601\",\"type\":\"BoxAnnotation\"}],\"root_ids\":[\"11557\"]},\"title\":\"Bokeh Application\",\"version\":\"1.3.4\"}};\n",
       "  var render_items = [{\"docid\":\"27611dbd-3401-4056-9af8-d9edefd01c1f\",\"roots\":{\"11557\":\"25db4be7-1e06-4752-a4c1-df6e30f34ad6\"}}];\n",
       "  root.Bokeh.embed.embed_items_notebook(docs_json, render_items);\n",
       "\n",
       "  }\n",
       "  if (root.Bokeh !== undefined) {\n",
       "    embed_document(root);\n",
       "  } else {\n",
       "    var attempts = 0;\n",
       "    var timer = setInterval(function(root) {\n",
       "      if (root.Bokeh !== undefined) {\n",
       "        embed_document(root);\n",
       "        clearInterval(timer);\n",
       "      }\n",
       "      attempts++;\n",
       "      if (attempts > 100) {\n",
       "        console.log(\"Bokeh: ERROR: Unable to run BokehJS code because BokehJS library is missing\");\n",
       "        clearInterval(timer);\n",
       "      }\n",
       "    }, 10, root)\n",
       "  }\n",
       "})(window);"
      ],
      "application/vnd.bokehjs_exec.v0+json": ""
     },
     "metadata": {
      "application/vnd.bokehjs_exec.v0+json": {
       "id": "11557"
      }
     },
     "output_type": "display_data"
    }
   ],
   "source": [
    "# Access to safely managed sanitation services\n",
    "years = list(map(str, list(range(2000,2018))))\n",
    "result = show_weighted_average(years, 'SH.STA.SMSS.ZS', 'SP.POP.TOTL', \n",
    "                               ['LDCs', 'Developing excluding LDCs', 'OECD']) "
   ]
  },
  {
   "cell_type": "code",
   "execution_count": 31,
   "metadata": {
    "ExecuteTime": {
     "end_time": "2019-10-25T14:26:01.793967Z",
     "start_time": "2019-10-25T14:25:57.741996Z"
    },
    "slideshow": {
     "slide_type": "slide"
    }
   },
   "outputs": [
    {
     "data": {
      "text/html": [
       "\n",
       "\n",
       "\n",
       "\n",
       "\n",
       "\n",
       "  <div class=\"bk-root\" id=\"c39653cb-4dba-41cb-99bd-947c22660d1a\" data-root-id=\"12208\"></div>\n"
      ]
     },
     "metadata": {},
     "output_type": "display_data"
    },
    {
     "data": {
      "application/javascript": [
       "(function(root) {\n",
       "  function embed_document(root) {\n",
       "    \n",
       "  var docs_json = {\"69134c19-3f64-42a8-915d-babb42399ddd\":{\"roots\":{\"references\":[{\"attributes\":{\"below\":[{\"id\":\"12219\",\"type\":\"LinearAxis\"}],\"center\":[{\"id\":\"12223\",\"type\":\"Grid\"},{\"id\":\"12228\",\"type\":\"Grid\"},{\"id\":\"12253\",\"type\":\"Legend\"}],\"left\":[{\"id\":\"12224\",\"type\":\"LinearAxis\"}],\"plot_height\":400,\"plot_width\":800,\"renderers\":[{\"id\":\"12245\",\"type\":\"GlyphRenderer\"},{\"id\":\"12258\",\"type\":\"GlyphRenderer\"},{\"id\":\"12263\",\"type\":\"GlyphRenderer\"},{\"id\":\"12279\",\"type\":\"GlyphRenderer\"}],\"title\":{\"id\":\"12209\",\"type\":\"Title\"},\"toolbar\":{\"id\":\"12235\",\"type\":\"Toolbar\"},\"x_range\":{\"id\":\"12211\",\"type\":\"DataRange1d\"},\"x_scale\":{\"id\":\"12215\",\"type\":\"LinearScale\"},\"y_range\":{\"id\":\"12213\",\"type\":\"DataRange1d\"},\"y_scale\":{\"id\":\"12217\",\"type\":\"LinearScale\"}},\"id\":\"12208\",\"subtype\":\"Figure\",\"type\":\"Plot\"},{\"attributes\":{\"callback\":null},\"id\":\"12213\",\"type\":\"DataRange1d\"},{\"attributes\":{\"data_source\":{\"id\":\"12276\",\"type\":\"ColumnDataSource\"},\"glyph\":{\"id\":\"12277\",\"type\":\"Circle\"},\"hover_glyph\":null,\"muted_glyph\":null,\"nonselection_glyph\":{\"id\":\"12278\",\"type\":\"Circle\"},\"selection_glyph\":null,\"view\":{\"id\":\"12280\",\"type\":\"CDSView\"}},\"id\":\"12279\",\"type\":\"GlyphRenderer\"},{\"attributes\":{},\"id\":\"12738\",\"type\":\"Selection\"},{\"attributes\":{\"active_drag\":\"auto\",\"active_inspect\":\"auto\",\"active_multi\":null,\"active_scroll\":\"auto\",\"active_tap\":\"auto\",\"tools\":[{\"id\":\"12229\",\"type\":\"PanTool\"},{\"id\":\"12230\",\"type\":\"WheelZoomTool\"},{\"id\":\"12231\",\"type\":\"BoxZoomTool\"},{\"id\":\"12232\",\"type\":\"SaveTool\"},{\"id\":\"12233\",\"type\":\"ResetTool\"},{\"id\":\"12234\",\"type\":\"HelpTool\"},{\"id\":\"12281\",\"type\":\"HoverTool\"}]},\"id\":\"12235\",\"type\":\"Toolbar\"},{\"attributes\":{},\"id\":\"12215\",\"type\":\"LinearScale\"},{\"attributes\":{\"data_source\":{\"id\":\"12242\",\"type\":\"ColumnDataSource\"},\"glyph\":{\"id\":\"12243\",\"type\":\"Line\"},\"hover_glyph\":null,\"muted_glyph\":null,\"nonselection_glyph\":{\"id\":\"12244\",\"type\":\"Line\"},\"selection_glyph\":null,\"view\":{\"id\":\"12246\",\"type\":\"CDSView\"}},\"id\":\"12245\",\"type\":\"GlyphRenderer\"},{\"attributes\":{\"source\":{\"id\":\"12276\",\"type\":\"ColumnDataSource\"}},\"id\":\"12280\",\"type\":\"CDSView\"},{\"attributes\":{},\"id\":\"12736\",\"type\":\"Selection\"},{\"attributes\":{\"callback\":null,\"data\":{\"x\":[\"2000\",\"2001\",\"2002\",\"2003\",\"2004\",\"2005\",\"2006\",\"2007\",\"2008\",\"2009\",\"2010\",\"2011\",\"2012\",\"2013\",\"2014\",\"2015\",\"2016\",\"2017\"],\"y\":[80.55112682880318,81.00479371625393,81.77679009369407,82.53784452553441,83.28851027121169,84.02975397091646,84.75379189012546,85.4649501299916,86.16369312765474,86.84098274717998,87.50754213927502,88.15891127427683,88.79749865814709,89.42443209227703,90.04162285513938,90.65090738325256,91.23674955938168,91.74156692102636]},\"selected\":{\"id\":\"12738\",\"type\":\"Selection\"},\"selection_policy\":{\"id\":\"12739\",\"type\":\"UnionRenderers\"}},\"id\":\"12276\",\"type\":\"ColumnDataSource\"},{\"attributes\":{},\"id\":\"12232\",\"type\":\"SaveTool\"},{\"attributes\":{},\"id\":\"12234\",\"type\":\"HelpTool\"},{\"attributes\":{\"fill_color\":{\"value\":\"#5430F1\"},\"line_color\":{\"value\":\"#5430F1\"},\"line_width\":{\"value\":3},\"x\":{\"field\":\"x\"},\"y\":{\"field\":\"y\"}},\"id\":\"12277\",\"type\":\"Circle\"},{\"attributes\":{},\"id\":\"12233\",\"type\":\"ResetTool\"},{\"attributes\":{},\"id\":\"12273\",\"type\":\"Selection\"},{\"attributes\":{},\"id\":\"12229\",\"type\":\"PanTool\"},{\"attributes\":{},\"id\":\"12737\",\"type\":\"UnionRenderers\"},{\"attributes\":{\"data_source\":{\"id\":\"12255\",\"type\":\"ColumnDataSource\"},\"glyph\":{\"id\":\"12256\",\"type\":\"Circle\"},\"hover_glyph\":null,\"muted_glyph\":null,\"nonselection_glyph\":{\"id\":\"12257\",\"type\":\"Circle\"},\"selection_glyph\":null,\"view\":{\"id\":\"12259\",\"type\":\"CDSView\"}},\"id\":\"12258\",\"type\":\"GlyphRenderer\"},{\"attributes\":{\"fill_alpha\":{\"value\":0.1},\"fill_color\":{\"value\":\"#1f77b4\"},\"line_alpha\":{\"value\":0.1},\"line_color\":{\"value\":\"#1f77b4\"},\"line_width\":{\"value\":3},\"x\":{\"field\":\"x\"},\"y\":{\"field\":\"y\"}},\"id\":\"12278\",\"type\":\"Circle\"},{\"attributes\":{\"overlay\":{\"id\":\"12252\",\"type\":\"BoxAnnotation\"}},\"id\":\"12231\",\"type\":\"BoxZoomTool\"},{\"attributes\":{\"source\":{\"id\":\"12255\",\"type\":\"ColumnDataSource\"}},\"id\":\"12259\",\"type\":\"CDSView\"},{\"attributes\":{},\"id\":\"12274\",\"type\":\"UnionRenderers\"},{\"attributes\":{},\"id\":\"12230\",\"type\":\"WheelZoomTool\"},{\"attributes\":{\"callback\":null,\"data\":{\"x\":[\"2000\",\"2001\",\"2002\",\"2003\",\"2004\",\"2005\",\"2006\",\"2007\",\"2008\",\"2009\",\"2010\",\"2011\",\"2012\",\"2013\",\"2014\",\"2015\",\"2016\",\"2017\"],\"y\":[80.55112682880318,81.00479371625393,81.77679009369407,82.53784452553441,83.28851027121169,84.02975397091646,84.75379189012546,85.4649501299916,86.16369312765474,86.84098274717998,87.50754213927502,88.15891127427683,88.79749865814709,89.42443209227703,90.04162285513938,90.65090738325256,91.23674955938168,91.74156692102636]},\"selected\":{\"id\":\"12736\",\"type\":\"Selection\"},\"selection_policy\":{\"id\":\"12737\",\"type\":\"UnionRenderers\"}},\"id\":\"12260\",\"type\":\"ColumnDataSource\"},{\"attributes\":{\"line_color\":\"#FA1857\",\"x\":{\"field\":\"x\"},\"y\":{\"field\":\"y\"}},\"id\":\"12243\",\"type\":\"Line\"},{\"attributes\":{\"source\":{\"id\":\"12260\",\"type\":\"ColumnDataSource\"}},\"id\":\"12264\",\"type\":\"CDSView\"},{\"attributes\":{\"callback\":null,\"data\":{\"x\":[\"2000\",\"2001\",\"2002\",\"2003\",\"2004\",\"2005\",\"2006\",\"2007\",\"2008\",\"2009\",\"2010\",\"2011\",\"2012\",\"2013\",\"2014\",\"2015\",\"2016\",\"2017\"],\"y\":[50.6390755344685,51.36285836928065,52.14657844770643,52.97075929860047,53.794860079880166,54.662284525560544,55.520527356489325,56.36153645028357,57.240532507249455,58.11616913832772,58.98913296089495,59.64521383688594,60.53600239277637,61.398270388222066,62.265100775867786,63.08453248601209,63.816308183565866,64.57404357135272]},\"selected\":{\"id\":\"12273\",\"type\":\"Selection\"},\"selection_policy\":{\"id\":\"12274\",\"type\":\"UnionRenderers\"}},\"id\":\"12255\",\"type\":\"ColumnDataSource\"},{\"attributes\":{\"label\":{\"value\":\"Developing excluding LDCs\"},\"renderers\":[{\"id\":\"12263\",\"type\":\"GlyphRenderer\"}]},\"id\":\"12275\",\"type\":\"LegendItem\"},{\"attributes\":{\"callback\":null,\"tooltips\":\"                \\n        <div style=padding=5px>Year:@x</div>\\n        <div style=padding=5px>Value:@y</div>        \\n        \"},\"id\":\"12281\",\"type\":\"HoverTool\"},{\"attributes\":{\"fill_color\":{\"value\":\"#FA1857\"},\"line_color\":{\"value\":\"#FA1857\"},\"line_width\":{\"value\":3},\"x\":{\"field\":\"x\"},\"y\":{\"field\":\"y\"}},\"id\":\"12256\",\"type\":\"Circle\"},{\"attributes\":{\"callback\":null,\"data\":{\"x\":[\"2000\",\"2001\",\"2002\",\"2003\",\"2004\",\"2005\",\"2006\",\"2007\",\"2008\",\"2009\",\"2010\",\"2011\",\"2012\",\"2013\",\"2014\",\"2015\",\"2016\",\"2017\"],\"y\":[50.6390755344685,51.36285836928065,52.14657844770643,52.97075929860047,53.794860079880166,54.662284525560544,55.520527356489325,56.36153645028357,57.240532507249455,58.11616913832772,58.98913296089495,59.64521383688594,60.53600239277637,61.398270388222066,62.265100775867786,63.08453248601209,63.816308183565866,64.57404357135272]},\"selected\":{\"id\":\"12271\",\"type\":\"Selection\"},\"selection_policy\":{\"id\":\"12272\",\"type\":\"UnionRenderers\"}},\"id\":\"12242\",\"type\":\"ColumnDataSource\"},{\"attributes\":{},\"id\":\"12217\",\"type\":\"LinearScale\"},{\"attributes\":{},\"id\":\"12271\",\"type\":\"Selection\"},{\"attributes\":{\"fill_alpha\":{\"value\":0.1},\"fill_color\":{\"value\":\"#1f77b4\"},\"line_alpha\":{\"value\":0.1},\"line_color\":{\"value\":\"#1f77b4\"},\"line_width\":{\"value\":3},\"x\":{\"field\":\"x\"},\"y\":{\"field\":\"y\"}},\"id\":\"12257\",\"type\":\"Circle\"},{\"attributes\":{\"axis_label\":\"SH.H2O.BASW.ZS\",\"formatter\":{\"id\":\"12248\",\"type\":\"BasicTickFormatter\"},\"ticker\":{\"id\":\"12225\",\"type\":\"BasicTicker\"}},\"id\":\"12224\",\"type\":\"LinearAxis\"},{\"attributes\":{\"line_color\":\"#5430F1\",\"x\":{\"field\":\"x\"},\"y\":{\"field\":\"y\"}},\"id\":\"12261\",\"type\":\"Line\"},{\"attributes\":{\"bottom_units\":\"screen\",\"fill_alpha\":{\"value\":0.5},\"fill_color\":{\"value\":\"lightgrey\"},\"left_units\":\"screen\",\"level\":\"overlay\",\"line_alpha\":{\"value\":1.0},\"line_color\":{\"value\":\"black\"},\"line_dash\":[4,4],\"line_width\":{\"value\":2},\"render_mode\":\"css\",\"right_units\":\"screen\",\"top_units\":\"screen\"},\"id\":\"12252\",\"type\":\"BoxAnnotation\"},{\"attributes\":{\"line_alpha\":0.1,\"line_color\":\"#1f77b4\",\"x\":{\"field\":\"x\"},\"y\":{\"field\":\"y\"}},\"id\":\"12244\",\"type\":\"Line\"},{\"attributes\":{\"text\":\"People using at least basic drinking water services (% of population) weighted against Population, total\"},\"id\":\"12209\",\"type\":\"Title\"},{\"attributes\":{},\"id\":\"12272\",\"type\":\"UnionRenderers\"},{\"attributes\":{\"items\":[{\"id\":\"12254\",\"type\":\"LegendItem\"},{\"id\":\"12275\",\"type\":\"LegendItem\"}],\"location\":\"bottom_left\"},\"id\":\"12253\",\"type\":\"Legend\"},{\"attributes\":{},\"id\":\"12225\",\"type\":\"BasicTicker\"},{\"attributes\":{\"callback\":null},\"id\":\"12211\",\"type\":\"DataRange1d\"},{\"attributes\":{\"line_alpha\":0.1,\"line_color\":\"#1f77b4\",\"x\":{\"field\":\"x\"},\"y\":{\"field\":\"y\"}},\"id\":\"12262\",\"type\":\"Line\"},{\"attributes\":{},\"id\":\"12739\",\"type\":\"UnionRenderers\"},{\"attributes\":{\"label\":{\"value\":\"LDCs\"},\"renderers\":[{\"id\":\"12245\",\"type\":\"GlyphRenderer\"}]},\"id\":\"12254\",\"type\":\"LegendItem\"},{\"attributes\":{\"data_source\":{\"id\":\"12260\",\"type\":\"ColumnDataSource\"},\"glyph\":{\"id\":\"12261\",\"type\":\"Line\"},\"hover_glyph\":null,\"muted_glyph\":null,\"nonselection_glyph\":{\"id\":\"12262\",\"type\":\"Line\"},\"selection_glyph\":null,\"view\":{\"id\":\"12264\",\"type\":\"CDSView\"}},\"id\":\"12263\",\"type\":\"GlyphRenderer\"},{\"attributes\":{\"source\":{\"id\":\"12242\",\"type\":\"ColumnDataSource\"}},\"id\":\"12246\",\"type\":\"CDSView\"},{\"attributes\":{\"axis_label\":\"Years\",\"formatter\":{\"id\":\"12250\",\"type\":\"BasicTickFormatter\"},\"ticker\":{\"id\":\"12220\",\"type\":\"BasicTicker\"}},\"id\":\"12219\",\"type\":\"LinearAxis\"},{\"attributes\":{\"dimension\":1,\"grid_line_alpha\":0.5,\"ticker\":{\"id\":\"12225\",\"type\":\"BasicTicker\"}},\"id\":\"12228\",\"type\":\"Grid\"},{\"attributes\":{\"grid_line_color\":null,\"ticker\":{\"id\":\"12220\",\"type\":\"BasicTicker\"}},\"id\":\"12223\",\"type\":\"Grid\"},{\"attributes\":{},\"id\":\"12248\",\"type\":\"BasicTickFormatter\"},{\"attributes\":{},\"id\":\"12220\",\"type\":\"BasicTicker\"},{\"attributes\":{},\"id\":\"12250\",\"type\":\"BasicTickFormatter\"}],\"root_ids\":[\"12208\"]},\"title\":\"Bokeh Application\",\"version\":\"1.3.4\"}};\n",
       "  var render_items = [{\"docid\":\"69134c19-3f64-42a8-915d-babb42399ddd\",\"roots\":{\"12208\":\"c39653cb-4dba-41cb-99bd-947c22660d1a\"}}];\n",
       "  root.Bokeh.embed.embed_items_notebook(docs_json, render_items);\n",
       "\n",
       "  }\n",
       "  if (root.Bokeh !== undefined) {\n",
       "    embed_document(root);\n",
       "  } else {\n",
       "    var attempts = 0;\n",
       "    var timer = setInterval(function(root) {\n",
       "      if (root.Bokeh !== undefined) {\n",
       "        embed_document(root);\n",
       "        clearInterval(timer);\n",
       "      }\n",
       "      attempts++;\n",
       "      if (attempts > 100) {\n",
       "        console.log(\"Bokeh: ERROR: Unable to run BokehJS code because BokehJS library is missing\");\n",
       "        clearInterval(timer);\n",
       "      }\n",
       "    }, 10, root)\n",
       "  }\n",
       "})(window);"
      ],
      "application/vnd.bokehjs_exec.v0+json": ""
     },
     "metadata": {
      "application/vnd.bokehjs_exec.v0+json": {
       "id": "12208"
      }
     },
     "output_type": "display_data"
    }
   ],
   "source": [
    "# Basic water access\n",
    "years = list(map(str, list(range(2000,2018))))\n",
    "result = show_weighted_average(years, 'SH.H2O.BASW.ZS', 'SP.POP.TOTL', ['LDCs', 'Developing excluding LDCs'])"
   ]
  },
  {
   "cell_type": "code",
   "execution_count": 32,
   "metadata": {
    "ExecuteTime": {
     "end_time": "2019-10-25T14:26:06.027715Z",
     "start_time": "2019-10-25T14:26:01.795810Z"
    },
    "slideshow": {
     "slide_type": "slide"
    }
   },
   "outputs": [
    {
     "data": {
      "text/html": [
       "\n",
       "\n",
       "\n",
       "\n",
       "\n",
       "\n",
       "  <div class=\"bk-root\" id=\"c890a8d9-8e0b-4e2e-bdee-5583e04165a7\" data-root-id=\"12824\"></div>\n"
      ]
     },
     "metadata": {},
     "output_type": "display_data"
    },
    {
     "data": {
      "application/javascript": [
       "(function(root) {\n",
       "  function embed_document(root) {\n",
       "    \n",
       "  var docs_json = {\"f6bd0b2f-72c5-43df-88d3-da91e70222ff\":{\"roots\":{\"references\":[{\"attributes\":{\"below\":[{\"id\":\"12835\",\"type\":\"LinearAxis\"}],\"center\":[{\"id\":\"12839\",\"type\":\"Grid\"},{\"id\":\"12844\",\"type\":\"Grid\"},{\"id\":\"12869\",\"type\":\"Legend\"}],\"left\":[{\"id\":\"12840\",\"type\":\"LinearAxis\"}],\"plot_height\":400,\"plot_width\":800,\"renderers\":[{\"id\":\"12861\",\"type\":\"GlyphRenderer\"},{\"id\":\"12874\",\"type\":\"GlyphRenderer\"},{\"id\":\"12879\",\"type\":\"GlyphRenderer\"},{\"id\":\"12895\",\"type\":\"GlyphRenderer\"}],\"title\":{\"id\":\"12825\",\"type\":\"Title\"},\"toolbar\":{\"id\":\"12851\",\"type\":\"Toolbar\"},\"x_range\":{\"id\":\"12827\",\"type\":\"DataRange1d\"},\"x_scale\":{\"id\":\"12831\",\"type\":\"LinearScale\"},\"y_range\":{\"id\":\"12829\",\"type\":\"DataRange1d\"},\"y_scale\":{\"id\":\"12833\",\"type\":\"LinearScale\"}},\"id\":\"12824\",\"subtype\":\"Figure\",\"type\":\"Plot\"},{\"attributes\":{},\"id\":\"13368\",\"type\":\"Selection\"},{\"attributes\":{\"source\":{\"id\":\"12871\",\"type\":\"ColumnDataSource\"}},\"id\":\"12875\",\"type\":\"CDSView\"},{\"attributes\":{\"data_source\":{\"id\":\"12892\",\"type\":\"ColumnDataSource\"},\"glyph\":{\"id\":\"12893\",\"type\":\"Circle\"},\"hover_glyph\":null,\"muted_glyph\":null,\"nonselection_glyph\":{\"id\":\"12894\",\"type\":\"Circle\"},\"selection_glyph\":null,\"view\":{\"id\":\"12896\",\"type\":\"CDSView\"}},\"id\":\"12895\",\"type\":\"GlyphRenderer\"},{\"attributes\":{},\"id\":\"12831\",\"type\":\"LinearScale\"},{\"attributes\":{\"data_source\":{\"id\":\"12871\",\"type\":\"ColumnDataSource\"},\"glyph\":{\"id\":\"12872\",\"type\":\"Circle\"},\"hover_glyph\":null,\"muted_glyph\":null,\"nonselection_glyph\":{\"id\":\"12873\",\"type\":\"Circle\"},\"selection_glyph\":null,\"view\":{\"id\":\"12875\",\"type\":\"CDSView\"}},\"id\":\"12874\",\"type\":\"GlyphRenderer\"},{\"attributes\":{},\"id\":\"12833\",\"type\":\"LinearScale\"},{\"attributes\":{\"data_source\":{\"id\":\"12858\",\"type\":\"ColumnDataSource\"},\"glyph\":{\"id\":\"12859\",\"type\":\"Line\"},\"hover_glyph\":null,\"muted_glyph\":null,\"nonselection_glyph\":{\"id\":\"12860\",\"type\":\"Line\"},\"selection_glyph\":null,\"view\":{\"id\":\"12862\",\"type\":\"CDSView\"}},\"id\":\"12861\",\"type\":\"GlyphRenderer\"},{\"attributes\":{\"axis_label\":\"Years\",\"formatter\":{\"id\":\"12866\",\"type\":\"BasicTickFormatter\"},\"ticker\":{\"id\":\"12836\",\"type\":\"BasicTicker\"}},\"id\":\"12835\",\"type\":\"LinearAxis\"},{\"attributes\":{\"source\":{\"id\":\"12858\",\"type\":\"ColumnDataSource\"}},\"id\":\"12862\",\"type\":\"CDSView\"},{\"attributes\":{},\"id\":\"12890\",\"type\":\"UnionRenderers\"},{\"attributes\":{\"text\":\"People using at least basic drinking water services, rural (% of rural population) weighted against Rural population\"},\"id\":\"12825\",\"type\":\"Title\"},{\"attributes\":{},\"id\":\"13366\",\"type\":\"Selection\"},{\"attributes\":{},\"id\":\"12849\",\"type\":\"ResetTool\"},{\"attributes\":{\"fill_alpha\":{\"value\":0.1},\"fill_color\":{\"value\":\"#1f77b4\"},\"line_alpha\":{\"value\":0.1},\"line_color\":{\"value\":\"#1f77b4\"},\"line_width\":{\"value\":3},\"x\":{\"field\":\"x\"},\"y\":{\"field\":\"y\"}},\"id\":\"12873\",\"type\":\"Circle\"},{\"attributes\":{\"callback\":null},\"id\":\"12827\",\"type\":\"DataRange1d\"},{\"attributes\":{},\"id\":\"12850\",\"type\":\"HelpTool\"},{\"attributes\":{\"line_color\":\"#5430F1\",\"x\":{\"field\":\"x\"},\"y\":{\"field\":\"y\"}},\"id\":\"12877\",\"type\":\"Line\"},{\"attributes\":{\"callback\":null},\"id\":\"12829\",\"type\":\"DataRange1d\"},{\"attributes\":{\"active_drag\":\"auto\",\"active_inspect\":\"auto\",\"active_multi\":null,\"active_scroll\":\"auto\",\"active_tap\":\"auto\",\"tools\":[{\"id\":\"12845\",\"type\":\"PanTool\"},{\"id\":\"12846\",\"type\":\"WheelZoomTool\"},{\"id\":\"12847\",\"type\":\"BoxZoomTool\"},{\"id\":\"12848\",\"type\":\"SaveTool\"},{\"id\":\"12849\",\"type\":\"ResetTool\"},{\"id\":\"12850\",\"type\":\"HelpTool\"},{\"id\":\"12897\",\"type\":\"HoverTool\"}]},\"id\":\"12851\",\"type\":\"Toolbar\"},{\"attributes\":{\"callback\":null,\"data\":{\"x\":[\"2000\",\"2001\",\"2002\",\"2003\",\"2004\",\"2005\",\"2006\",\"2007\",\"2008\",\"2009\",\"2010\",\"2011\",\"2012\",\"2013\",\"2014\",\"2015\",\"2016\",\"2017\"],\"y\":[70.548702877432,71.00004920789118,71.95018602183819,72.90005660990126,73.84979674562858,74.80186545073815,75.7497619375849,76.69812617708288,77.64556540872928,78.57794683969233,79.51234784363636,80.44861606275593,81.3846478800014,82.31897898954479,83.25506420388984,84.18519675512437,85.10049117126351,86.01116731571781]},\"selected\":{\"id\":\"13366\",\"type\":\"Selection\"},\"selection_policy\":{\"id\":\"13367\",\"type\":\"UnionRenderers\"}},\"id\":\"12876\",\"type\":\"ColumnDataSource\"},{\"attributes\":{},\"id\":\"13369\",\"type\":\"UnionRenderers\"},{\"attributes\":{},\"id\":\"12846\",\"type\":\"WheelZoomTool\"},{\"attributes\":{\"data_source\":{\"id\":\"12876\",\"type\":\"ColumnDataSource\"},\"glyph\":{\"id\":\"12877\",\"type\":\"Line\"},\"hover_glyph\":null,\"muted_glyph\":null,\"nonselection_glyph\":{\"id\":\"12878\",\"type\":\"Line\"},\"selection_glyph\":null,\"view\":{\"id\":\"12880\",\"type\":\"CDSView\"}},\"id\":\"12879\",\"type\":\"GlyphRenderer\"},{\"attributes\":{\"bottom_units\":\"screen\",\"fill_alpha\":{\"value\":0.5},\"fill_color\":{\"value\":\"lightgrey\"},\"left_units\":\"screen\",\"level\":\"overlay\",\"line_alpha\":{\"value\":1.0},\"line_color\":{\"value\":\"black\"},\"line_dash\":[4,4],\"line_width\":{\"value\":2},\"render_mode\":\"css\",\"right_units\":\"screen\",\"top_units\":\"screen\"},\"id\":\"12868\",\"type\":\"BoxAnnotation\"},{\"attributes\":{\"overlay\":{\"id\":\"12868\",\"type\":\"BoxAnnotation\"}},\"id\":\"12847\",\"type\":\"BoxZoomTool\"},{\"attributes\":{\"fill_color\":{\"value\":\"#FA1857\"},\"line_color\":{\"value\":\"#FA1857\"},\"line_width\":{\"value\":3},\"x\":{\"field\":\"x\"},\"y\":{\"field\":\"y\"}},\"id\":\"12872\",\"type\":\"Circle\"},{\"attributes\":{\"source\":{\"id\":\"12876\",\"type\":\"ColumnDataSource\"}},\"id\":\"12880\",\"type\":\"CDSView\"},{\"attributes\":{},\"id\":\"12848\",\"type\":\"SaveTool\"},{\"attributes\":{\"label\":{\"value\":\"LDCs\"},\"renderers\":[{\"id\":\"12861\",\"type\":\"GlyphRenderer\"}]},\"id\":\"12870\",\"type\":\"LegendItem\"},{\"attributes\":{\"line_color\":\"#FA1857\",\"x\":{\"field\":\"x\"},\"y\":{\"field\":\"y\"}},\"id\":\"12859\",\"type\":\"Line\"},{\"attributes\":{\"callback\":null,\"data\":{\"x\":[\"2000\",\"2001\",\"2002\",\"2003\",\"2004\",\"2005\",\"2006\",\"2007\",\"2008\",\"2009\",\"2010\",\"2011\",\"2012\",\"2013\",\"2014\",\"2015\",\"2016\",\"2017\"],\"y\":[42.12683300179766,42.80027017649536,43.50079749798844,44.25366307202228,45.00747896662987,45.80419361422807,46.59437519706998,47.36876142509717,48.17616099242744,48.980453708262594,49.782813757361296,50.42503187607093,51.28403194463684,52.07473967276295,52.873727809325516,53.62244943417166,54.273675248356724,54.932811181463364]},\"selected\":{\"id\":\"12889\",\"type\":\"Selection\"},\"selection_policy\":{\"id\":\"12890\",\"type\":\"UnionRenderers\"}},\"id\":\"12871\",\"type\":\"ColumnDataSource\"},{\"attributes\":{},\"id\":\"12888\",\"type\":\"UnionRenderers\"},{\"attributes\":{\"callback\":null,\"tooltips\":\"                \\n        <div style=padding=5px>Year:@x</div>\\n        <div style=padding=5px>Value:@y</div>        \\n        \"},\"id\":\"12897\",\"type\":\"HoverTool\"},{\"attributes\":{},\"id\":\"12887\",\"type\":\"Selection\"},{\"attributes\":{\"callback\":null,\"data\":{\"x\":[\"2000\",\"2001\",\"2002\",\"2003\",\"2004\",\"2005\",\"2006\",\"2007\",\"2008\",\"2009\",\"2010\",\"2011\",\"2012\",\"2013\",\"2014\",\"2015\",\"2016\",\"2017\"],\"y\":[42.12683300179766,42.80027017649536,43.50079749798844,44.25366307202228,45.00747896662987,45.80419361422807,46.59437519706998,47.36876142509717,48.17616099242744,48.980453708262594,49.782813757361296,50.42503187607093,51.28403194463684,52.07473967276295,52.873727809325516,53.62244943417166,54.273675248356724,54.932811181463364]},\"selected\":{\"id\":\"12887\",\"type\":\"Selection\"},\"selection_policy\":{\"id\":\"12888\",\"type\":\"UnionRenderers\"}},\"id\":\"12858\",\"type\":\"ColumnDataSource\"},{\"attributes\":{\"line_alpha\":0.1,\"line_color\":\"#1f77b4\",\"x\":{\"field\":\"x\"},\"y\":{\"field\":\"y\"}},\"id\":\"12878\",\"type\":\"Line\"},{\"attributes\":{},\"id\":\"12866\",\"type\":\"BasicTickFormatter\"},{\"attributes\":{},\"id\":\"12845\",\"type\":\"PanTool\"},{\"attributes\":{\"items\":[{\"id\":\"12870\",\"type\":\"LegendItem\"},{\"id\":\"12891\",\"type\":\"LegendItem\"}],\"location\":\"bottom_left\"},\"id\":\"12869\",\"type\":\"Legend\"},{\"attributes\":{\"line_alpha\":0.1,\"line_color\":\"#1f77b4\",\"x\":{\"field\":\"x\"},\"y\":{\"field\":\"y\"}},\"id\":\"12860\",\"type\":\"Line\"},{\"attributes\":{},\"id\":\"12889\",\"type\":\"Selection\"},{\"attributes\":{\"axis_label\":\"SH.H2O.BASW.RU.ZS\",\"formatter\":{\"id\":\"12864\",\"type\":\"BasicTickFormatter\"},\"ticker\":{\"id\":\"12841\",\"type\":\"BasicTicker\"}},\"id\":\"12840\",\"type\":\"LinearAxis\"},{\"attributes\":{\"label\":{\"value\":\"Developing excluding LDCs\"},\"renderers\":[{\"id\":\"12879\",\"type\":\"GlyphRenderer\"}]},\"id\":\"12891\",\"type\":\"LegendItem\"},{\"attributes\":{},\"id\":\"12841\",\"type\":\"BasicTicker\"},{\"attributes\":{\"fill_alpha\":{\"value\":0.1},\"fill_color\":{\"value\":\"#1f77b4\"},\"line_alpha\":{\"value\":0.1},\"line_color\":{\"value\":\"#1f77b4\"},\"line_width\":{\"value\":3},\"x\":{\"field\":\"x\"},\"y\":{\"field\":\"y\"}},\"id\":\"12894\",\"type\":\"Circle\"},{\"attributes\":{\"fill_color\":{\"value\":\"#5430F1\"},\"line_color\":{\"value\":\"#5430F1\"},\"line_width\":{\"value\":3},\"x\":{\"field\":\"x\"},\"y\":{\"field\":\"y\"}},\"id\":\"12893\",\"type\":\"Circle\"},{\"attributes\":{\"source\":{\"id\":\"12892\",\"type\":\"ColumnDataSource\"}},\"id\":\"12896\",\"type\":\"CDSView\"},{\"attributes\":{\"dimension\":1,\"grid_line_alpha\":0.5,\"ticker\":{\"id\":\"12841\",\"type\":\"BasicTicker\"}},\"id\":\"12844\",\"type\":\"Grid\"},{\"attributes\":{},\"id\":\"12836\",\"type\":\"BasicTicker\"},{\"attributes\":{},\"id\":\"12864\",\"type\":\"BasicTickFormatter\"},{\"attributes\":{\"callback\":null,\"data\":{\"x\":[\"2000\",\"2001\",\"2002\",\"2003\",\"2004\",\"2005\",\"2006\",\"2007\",\"2008\",\"2009\",\"2010\",\"2011\",\"2012\",\"2013\",\"2014\",\"2015\",\"2016\",\"2017\"],\"y\":[70.548702877432,71.00004920789118,71.95018602183819,72.90005660990126,73.84979674562858,74.80186545073815,75.7497619375849,76.69812617708288,77.64556540872928,78.57794683969233,79.51234784363636,80.44861606275593,81.3846478800014,82.31897898954479,83.25506420388984,84.18519675512437,85.10049117126351,86.01116731571781]},\"selected\":{\"id\":\"13368\",\"type\":\"Selection\"},\"selection_policy\":{\"id\":\"13369\",\"type\":\"UnionRenderers\"}},\"id\":\"12892\",\"type\":\"ColumnDataSource\"},{\"attributes\":{\"grid_line_color\":null,\"ticker\":{\"id\":\"12836\",\"type\":\"BasicTicker\"}},\"id\":\"12839\",\"type\":\"Grid\"},{\"attributes\":{},\"id\":\"13367\",\"type\":\"UnionRenderers\"}],\"root_ids\":[\"12824\"]},\"title\":\"Bokeh Application\",\"version\":\"1.3.4\"}};\n",
       "  var render_items = [{\"docid\":\"f6bd0b2f-72c5-43df-88d3-da91e70222ff\",\"roots\":{\"12824\":\"c890a8d9-8e0b-4e2e-bdee-5583e04165a7\"}}];\n",
       "  root.Bokeh.embed.embed_items_notebook(docs_json, render_items);\n",
       "\n",
       "  }\n",
       "  if (root.Bokeh !== undefined) {\n",
       "    embed_document(root);\n",
       "  } else {\n",
       "    var attempts = 0;\n",
       "    var timer = setInterval(function(root) {\n",
       "      if (root.Bokeh !== undefined) {\n",
       "        embed_document(root);\n",
       "        clearInterval(timer);\n",
       "      }\n",
       "      attempts++;\n",
       "      if (attempts > 100) {\n",
       "        console.log(\"Bokeh: ERROR: Unable to run BokehJS code because BokehJS library is missing\");\n",
       "        clearInterval(timer);\n",
       "      }\n",
       "    }, 10, root)\n",
       "  }\n",
       "})(window);"
      ],
      "application/vnd.bokehjs_exec.v0+json": ""
     },
     "metadata": {
      "application/vnd.bokehjs_exec.v0+json": {
       "id": "12824"
      }
     },
     "output_type": "display_data"
    }
   ],
   "source": [
    "# Basic water access rural\n",
    "years = list(map(str, list(range(2000,2018))))\n",
    "result = show_weighted_average(years, 'SH.H2O.BASW.RU.ZS', 'SP.RUR.TOTL', ['LDCs', 'Developing excluding LDCs'])"
   ]
  },
  {
   "cell_type": "markdown",
   "metadata": {
    "slideshow": {
     "slide_type": "slide"
    }
   },
   "source": [
    "# Gender equality and the empowerment of women"
   ]
  },
  {
   "cell_type": "code",
   "execution_count": 33,
   "metadata": {
    "ExecuteTime": {
     "end_time": "2019-10-25T14:26:06.754335Z",
     "start_time": "2019-10-25T14:26:06.030180Z"
    }
   },
   "outputs": [
    {
     "data": {
      "text/html": [
       "\n",
       "\n",
       "\n",
       "\n",
       "\n",
       "\n",
       "  <div class=\"bk-root\" id=\"024de664-9f35-4613-9410-8bce9170ec63\" data-root-id=\"13454\"></div>\n"
      ]
     },
     "metadata": {},
     "output_type": "display_data"
    },
    {
     "data": {
      "application/javascript": [
       "(function(root) {\n",
       "  function embed_document(root) {\n",
       "    \n",
       "  var docs_json = {\"fe8d78c5-b210-445c-9478-a18ba6233a93\":{\"roots\":{\"references\":[{\"attributes\":{\"below\":[{\"id\":\"13465\",\"type\":\"LinearAxis\"}],\"center\":[{\"id\":\"13469\",\"type\":\"Grid\"},{\"id\":\"13474\",\"type\":\"Grid\"},{\"id\":\"13499\",\"type\":\"Legend\"}],\"left\":[{\"id\":\"13470\",\"type\":\"LinearAxis\"}],\"plot_height\":400,\"plot_width\":800,\"renderers\":[{\"id\":\"13491\",\"type\":\"GlyphRenderer\"},{\"id\":\"13504\",\"type\":\"GlyphRenderer\"},{\"id\":\"13509\",\"type\":\"GlyphRenderer\"},{\"id\":\"13525\",\"type\":\"GlyphRenderer\"}],\"title\":{\"id\":\"13455\",\"type\":\"Title\"},\"toolbar\":{\"id\":\"13481\",\"type\":\"Toolbar\"},\"x_range\":{\"id\":\"13457\",\"type\":\"DataRange1d\"},\"x_scale\":{\"id\":\"13461\",\"type\":\"LinearScale\"},\"y_range\":{\"id\":\"13459\",\"type\":\"DataRange1d\"},\"y_scale\":{\"id\":\"13463\",\"type\":\"LinearScale\"}},\"id\":\"13454\",\"subtype\":\"Figure\",\"type\":\"Plot\"},{\"attributes\":{\"axis_label\":\"SH.FPL.SATM.ZS\",\"formatter\":{\"id\":\"13494\",\"type\":\"BasicTickFormatter\"},\"ticker\":{\"id\":\"13471\",\"type\":\"BasicTicker\"}},\"id\":\"13470\",\"type\":\"LinearAxis\"},{\"attributes\":{},\"id\":\"13478\",\"type\":\"SaveTool\"},{\"attributes\":{\"data_source\":{\"id\":\"13501\",\"type\":\"ColumnDataSource\"},\"glyph\":{\"id\":\"13502\",\"type\":\"Circle\"},\"hover_glyph\":null,\"muted_glyph\":null,\"nonselection_glyph\":{\"id\":\"13503\",\"type\":\"Circle\"},\"selection_glyph\":null,\"view\":{\"id\":\"13505\",\"type\":\"CDSView\"}},\"id\":\"13504\",\"type\":\"GlyphRenderer\"},{\"attributes\":{},\"id\":\"13520\",\"type\":\"UnionRenderers\"},{\"attributes\":{},\"id\":\"13466\",\"type\":\"BasicTicker\"},{\"attributes\":{\"callback\":null},\"id\":\"13459\",\"type\":\"DataRange1d\"},{\"attributes\":{\"axis_label\":\"Years\",\"formatter\":{\"id\":\"13496\",\"type\":\"BasicTickFormatter\"},\"ticker\":{\"id\":\"13466\",\"type\":\"BasicTicker\"}},\"id\":\"13465\",\"type\":\"LinearAxis\"},{\"attributes\":{\"dimension\":1,\"grid_line_alpha\":0.5,\"ticker\":{\"id\":\"13471\",\"type\":\"BasicTicker\"}},\"id\":\"13474\",\"type\":\"Grid\"},{\"attributes\":{\"source\":{\"id\":\"13522\",\"type\":\"ColumnDataSource\"}},\"id\":\"13526\",\"type\":\"CDSView\"},{\"attributes\":{},\"id\":\"13479\",\"type\":\"ResetTool\"},{\"attributes\":{\"source\":{\"id\":\"13501\",\"type\":\"ColumnDataSource\"}},\"id\":\"13505\",\"type\":\"CDSView\"},{\"attributes\":{\"fill_color\":{\"value\":\"#5430F1\"},\"line_color\":{\"value\":\"#5430F1\"},\"line_width\":{\"value\":3},\"x\":{\"field\":\"x\"},\"y\":{\"field\":\"y\"}},\"id\":\"13523\",\"type\":\"Circle\"},{\"attributes\":{},\"id\":\"13517\",\"type\":\"Selection\"},{\"attributes\":{},\"id\":\"13494\",\"type\":\"BasicTickFormatter\"},{\"attributes\":{},\"id\":\"14012\",\"type\":\"Selection\"},{\"attributes\":{\"line_alpha\":0.1,\"line_color\":\"#1f77b4\",\"x\":{\"field\":\"x\"},\"y\":{\"field\":\"y\"}},\"id\":\"13508\",\"type\":\"Line\"},{\"attributes\":{\"source\":{\"id\":\"13488\",\"type\":\"ColumnDataSource\"}},\"id\":\"13492\",\"type\":\"CDSView\"},{\"attributes\":{\"overlay\":{\"id\":\"13498\",\"type\":\"BoxAnnotation\"}},\"id\":\"13477\",\"type\":\"BoxZoomTool\"},{\"attributes\":{\"callback\":null,\"data\":{\"x\":[\"2004\",\"2007\",\"2009\",\"2014\",\"2016\"],\"y\":[61.86680129076366,70.16503057113218,71.47856926329575,62.01315999152563,69.21737011372109]},\"selected\":{\"id\":\"14010\",\"type\":\"Selection\"},\"selection_policy\":{\"id\":\"14011\",\"type\":\"UnionRenderers\"}},\"id\":\"13506\",\"type\":\"ColumnDataSource\"},{\"attributes\":{\"label\":{\"value\":\"LDCs\"},\"renderers\":[{\"id\":\"13491\",\"type\":\"GlyphRenderer\"}]},\"id\":\"13500\",\"type\":\"LegendItem\"},{\"attributes\":{},\"id\":\"13471\",\"type\":\"BasicTicker\"},{\"attributes\":{\"callback\":null,\"data\":{\"x\":[\"2004\",\"2007\",\"2009\",\"2014\",\"2016\"],\"y\":[55.95647488898381,49.148601616188614,50.86221893261661,50.89351363882598,53.98820201623006]},\"selected\":{\"id\":\"13519\",\"type\":\"Selection\"},\"selection_policy\":{\"id\":\"13520\",\"type\":\"UnionRenderers\"}},\"id\":\"13501\",\"type\":\"ColumnDataSource\"},{\"attributes\":{},\"id\":\"13463\",\"type\":\"LinearScale\"},{\"attributes\":{\"grid_line_color\":null,\"ticker\":{\"id\":\"13466\",\"type\":\"BasicTicker\"}},\"id\":\"13469\",\"type\":\"Grid\"},{\"attributes\":{\"line_color\":\"#5430F1\",\"x\":{\"field\":\"x\"},\"y\":{\"field\":\"y\"}},\"id\":\"13507\",\"type\":\"Line\"},{\"attributes\":{},\"id\":\"13480\",\"type\":\"HelpTool\"},{\"attributes\":{},\"id\":\"13461\",\"type\":\"LinearScale\"},{\"attributes\":{\"items\":[{\"id\":\"13500\",\"type\":\"LegendItem\"},{\"id\":\"13521\",\"type\":\"LegendItem\"}],\"location\":\"bottom_left\"},\"id\":\"13499\",\"type\":\"Legend\"},{\"attributes\":{\"line_color\":\"#FA1857\",\"x\":{\"field\":\"x\"},\"y\":{\"field\":\"y\"}},\"id\":\"13489\",\"type\":\"Line\"},{\"attributes\":{},\"id\":\"13496\",\"type\":\"BasicTickFormatter\"},{\"attributes\":{\"label\":{\"value\":\"Developing excluding LDCs\"},\"renderers\":[{\"id\":\"13509\",\"type\":\"GlyphRenderer\"}]},\"id\":\"13521\",\"type\":\"LegendItem\"},{\"attributes\":{\"data_source\":{\"id\":\"13488\",\"type\":\"ColumnDataSource\"},\"glyph\":{\"id\":\"13489\",\"type\":\"Line\"},\"hover_glyph\":null,\"muted_glyph\":null,\"nonselection_glyph\":{\"id\":\"13490\",\"type\":\"Line\"},\"selection_glyph\":null,\"view\":{\"id\":\"13492\",\"type\":\"CDSView\"}},\"id\":\"13491\",\"type\":\"GlyphRenderer\"},{\"attributes\":{},\"id\":\"14010\",\"type\":\"Selection\"},{\"attributes\":{},\"id\":\"13475\",\"type\":\"PanTool\"},{\"attributes\":{\"callback\":null,\"data\":{\"x\":[\"2004\",\"2007\",\"2009\",\"2014\",\"2016\"],\"y\":[61.86680129076366,70.16503057113218,71.47856926329575,62.01315999152563,69.21737011372109]},\"selected\":{\"id\":\"14012\",\"type\":\"Selection\"},\"selection_policy\":{\"id\":\"14013\",\"type\":\"UnionRenderers\"}},\"id\":\"13522\",\"type\":\"ColumnDataSource\"},{\"attributes\":{},\"id\":\"14011\",\"type\":\"UnionRenderers\"},{\"attributes\":{\"active_drag\":\"auto\",\"active_inspect\":\"auto\",\"active_multi\":null,\"active_scroll\":\"auto\",\"active_tap\":\"auto\",\"tools\":[{\"id\":\"13475\",\"type\":\"PanTool\"},{\"id\":\"13476\",\"type\":\"WheelZoomTool\"},{\"id\":\"13477\",\"type\":\"BoxZoomTool\"},{\"id\":\"13478\",\"type\":\"SaveTool\"},{\"id\":\"13479\",\"type\":\"ResetTool\"},{\"id\":\"13480\",\"type\":\"HelpTool\"},{\"id\":\"13527\",\"type\":\"HoverTool\"}]},\"id\":\"13481\",\"type\":\"Toolbar\"},{\"attributes\":{\"source\":{\"id\":\"13506\",\"type\":\"ColumnDataSource\"}},\"id\":\"13510\",\"type\":\"CDSView\"},{\"attributes\":{\"callback\":null,\"data\":{\"x\":[\"2004\",\"2007\",\"2009\",\"2014\",\"2016\"],\"y\":[55.95647488898381,49.148601616188614,50.86221893261661,50.89351363882598,53.98820201623006]},\"selected\":{\"id\":\"13517\",\"type\":\"Selection\"},\"selection_policy\":{\"id\":\"13518\",\"type\":\"UnionRenderers\"}},\"id\":\"13488\",\"type\":\"ColumnDataSource\"},{\"attributes\":{\"line_alpha\":0.1,\"line_color\":\"#1f77b4\",\"x\":{\"field\":\"x\"},\"y\":{\"field\":\"y\"}},\"id\":\"13490\",\"type\":\"Line\"},{\"attributes\":{},\"id\":\"13476\",\"type\":\"WheelZoomTool\"},{\"attributes\":{\"fill_alpha\":{\"value\":0.1},\"fill_color\":{\"value\":\"#1f77b4\"},\"line_alpha\":{\"value\":0.1},\"line_color\":{\"value\":\"#1f77b4\"},\"line_width\":{\"value\":3},\"x\":{\"field\":\"x\"},\"y\":{\"field\":\"y\"}},\"id\":\"13503\",\"type\":\"Circle\"},{\"attributes\":{},\"id\":\"13518\",\"type\":\"UnionRenderers\"},{\"attributes\":{\"callback\":null},\"id\":\"13457\",\"type\":\"DataRange1d\"},{\"attributes\":{\"data_source\":{\"id\":\"13506\",\"type\":\"ColumnDataSource\"},\"glyph\":{\"id\":\"13507\",\"type\":\"Line\"},\"hover_glyph\":null,\"muted_glyph\":null,\"nonselection_glyph\":{\"id\":\"13508\",\"type\":\"Line\"},\"selection_glyph\":null,\"view\":{\"id\":\"13510\",\"type\":\"CDSView\"}},\"id\":\"13509\",\"type\":\"GlyphRenderer\"},{\"attributes\":{\"fill_alpha\":{\"value\":0.1},\"fill_color\":{\"value\":\"#1f77b4\"},\"line_alpha\":{\"value\":0.1},\"line_color\":{\"value\":\"#1f77b4\"},\"line_width\":{\"value\":3},\"x\":{\"field\":\"x\"},\"y\":{\"field\":\"y\"}},\"id\":\"13524\",\"type\":\"Circle\"},{\"attributes\":{\"callback\":null,\"tooltips\":\"                \\n        <div style=padding=5px>Year:@x</div>\\n        <div style=padding=5px>Value:@y</div>        \\n        \"},\"id\":\"13527\",\"type\":\"HoverTool\"},{\"attributes\":{\"fill_color\":{\"value\":\"#FA1857\"},\"line_color\":{\"value\":\"#FA1857\"},\"line_width\":{\"value\":3},\"x\":{\"field\":\"x\"},\"y\":{\"field\":\"y\"}},\"id\":\"13502\",\"type\":\"Circle\"},{\"attributes\":{},\"id\":\"14013\",\"type\":\"UnionRenderers\"},{\"attributes\":{\"data_source\":{\"id\":\"13522\",\"type\":\"ColumnDataSource\"},\"glyph\":{\"id\":\"13523\",\"type\":\"Circle\"},\"hover_glyph\":null,\"muted_glyph\":null,\"nonselection_glyph\":{\"id\":\"13524\",\"type\":\"Circle\"},\"selection_glyph\":null,\"view\":{\"id\":\"13526\",\"type\":\"CDSView\"}},\"id\":\"13525\",\"type\":\"GlyphRenderer\"},{\"attributes\":{\"bottom_units\":\"screen\",\"fill_alpha\":{\"value\":0.5},\"fill_color\":{\"value\":\"lightgrey\"},\"left_units\":\"screen\",\"level\":\"overlay\",\"line_alpha\":{\"value\":1.0},\"line_color\":{\"value\":\"black\"},\"line_dash\":[4,4],\"line_width\":{\"value\":2},\"render_mode\":\"css\",\"right_units\":\"screen\",\"top_units\":\"screen\"},\"id\":\"13498\",\"type\":\"BoxAnnotation\"},{\"attributes\":{},\"id\":\"13519\",\"type\":\"Selection\"},{\"attributes\":{\"text\":\"Demand for family planning satisfied by modern methods (% of married women with demand for family planning) weighted against Population, female\"},\"id\":\"13455\",\"type\":\"Title\"}],\"root_ids\":[\"13454\"]},\"title\":\"Bokeh Application\",\"version\":\"1.3.4\"}};\n",
       "  var render_items = [{\"docid\":\"fe8d78c5-b210-445c-9478-a18ba6233a93\",\"roots\":{\"13454\":\"024de664-9f35-4613-9410-8bce9170ec63\"}}];\n",
       "  root.Bokeh.embed.embed_items_notebook(docs_json, render_items);\n",
       "\n",
       "  }\n",
       "  if (root.Bokeh !== undefined) {\n",
       "    embed_document(root);\n",
       "  } else {\n",
       "    var attempts = 0;\n",
       "    var timer = setInterval(function(root) {\n",
       "      if (root.Bokeh !== undefined) {\n",
       "        embed_document(root);\n",
       "        clearInterval(timer);\n",
       "      }\n",
       "      attempts++;\n",
       "      if (attempts > 100) {\n",
       "        console.log(\"Bokeh: ERROR: Unable to run BokehJS code because BokehJS library is missing\");\n",
       "        clearInterval(timer);\n",
       "      }\n",
       "    }, 10, root)\n",
       "  }\n",
       "})(window);"
      ],
      "application/vnd.bokehjs_exec.v0+json": ""
     },
     "metadata": {
      "application/vnd.bokehjs_exec.v0+json": {
       "id": "13454"
      }
     },
     "output_type": "display_data"
    }
   ],
   "source": [
    "# Basic water access rural\n",
    "years = ['2004', '2007', '2009', '2014', '2016']\n",
    "result = show_weighted_average(years, 'SH.FPL.SATM.ZS', 'SP.POP.TOTL.FE.IN', \n",
    "                               ['LDCs', 'Developing excluding LDCs'])"
   ]
  },
  {
   "cell_type": "code",
   "execution_count": 34,
   "metadata": {
    "ExecuteTime": {
     "end_time": "2019-10-25T14:26:07.694750Z",
     "start_time": "2019-10-25T14:26:06.760738Z"
    }
   },
   "outputs": [
    {
     "data": {
      "text/html": [
       "\n",
       "\n",
       "\n",
       "\n",
       "\n",
       "\n",
       "  <div class=\"bk-root\" id=\"e6fdf912-be4c-45b4-b93b-48cc179e5c89\" data-root-id=\"14098\"></div>\n"
      ]
     },
     "metadata": {},
     "output_type": "display_data"
    },
    {
     "data": {
      "application/javascript": [
       "(function(root) {\n",
       "  function embed_document(root) {\n",
       "    \n",
       "  var docs_json = {\"9eaac235-6b29-4c84-ab87-42901a5d5f0d\":{\"roots\":{\"references\":[{\"attributes\":{\"below\":[{\"id\":\"14109\",\"type\":\"LinearAxis\"}],\"center\":[{\"id\":\"14113\",\"type\":\"Grid\"},{\"id\":\"14118\",\"type\":\"Grid\"},{\"id\":\"14143\",\"type\":\"Legend\"}],\"left\":[{\"id\":\"14114\",\"type\":\"LinearAxis\"}],\"plot_height\":400,\"plot_width\":800,\"renderers\":[{\"id\":\"14135\",\"type\":\"GlyphRenderer\"},{\"id\":\"14148\",\"type\":\"GlyphRenderer\"},{\"id\":\"14153\",\"type\":\"GlyphRenderer\"},{\"id\":\"14169\",\"type\":\"GlyphRenderer\"}],\"title\":{\"id\":\"14099\",\"type\":\"Title\"},\"toolbar\":{\"id\":\"14125\",\"type\":\"Toolbar\"},\"x_range\":{\"id\":\"14101\",\"type\":\"DataRange1d\"},\"x_scale\":{\"id\":\"14105\",\"type\":\"LinearScale\"},\"y_range\":{\"id\":\"14103\",\"type\":\"DataRange1d\"},\"y_scale\":{\"id\":\"14107\",\"type\":\"LinearScale\"}},\"id\":\"14098\",\"subtype\":\"Figure\",\"type\":\"Plot\"},{\"attributes\":{},\"id\":\"14123\",\"type\":\"ResetTool\"},{\"attributes\":{},\"id\":\"14668\",\"type\":\"Selection\"},{\"attributes\":{\"source\":{\"id\":\"14145\",\"type\":\"ColumnDataSource\"}},\"id\":\"14149\",\"type\":\"CDSView\"},{\"attributes\":{},\"id\":\"14119\",\"type\":\"PanTool\"},{\"attributes\":{},\"id\":\"14669\",\"type\":\"UnionRenderers\"},{\"attributes\":{\"line_color\":\"#5430F1\",\"x\":{\"field\":\"x\"},\"y\":{\"field\":\"y\"}},\"id\":\"14151\",\"type\":\"Line\"},{\"attributes\":{\"line_alpha\":0.1,\"line_color\":\"#1f77b4\",\"x\":{\"field\":\"x\"},\"y\":{\"field\":\"y\"}},\"id\":\"14134\",\"type\":\"Line\"},{\"attributes\":{\"active_drag\":\"auto\",\"active_inspect\":\"auto\",\"active_multi\":null,\"active_scroll\":\"auto\",\"active_tap\":\"auto\",\"tools\":[{\"id\":\"14119\",\"type\":\"PanTool\"},{\"id\":\"14120\",\"type\":\"WheelZoomTool\"},{\"id\":\"14121\",\"type\":\"BoxZoomTool\"},{\"id\":\"14122\",\"type\":\"SaveTool\"},{\"id\":\"14123\",\"type\":\"ResetTool\"},{\"id\":\"14124\",\"type\":\"HelpTool\"},{\"id\":\"14171\",\"type\":\"HoverTool\"}]},\"id\":\"14125\",\"type\":\"Toolbar\"},{\"attributes\":{\"data_source\":{\"id\":\"14150\",\"type\":\"ColumnDataSource\"},\"glyph\":{\"id\":\"14151\",\"type\":\"Line\"},\"hover_glyph\":null,\"muted_glyph\":null,\"nonselection_glyph\":{\"id\":\"14152\",\"type\":\"Line\"},\"selection_glyph\":null,\"view\":{\"id\":\"14154\",\"type\":\"CDSView\"}},\"id\":\"14153\",\"type\":\"GlyphRenderer\"},{\"attributes\":{},\"id\":\"14124\",\"type\":\"HelpTool\"},{\"attributes\":{\"line_alpha\":0.1,\"line_color\":\"#1f77b4\",\"x\":{\"field\":\"x\"},\"y\":{\"field\":\"y\"}},\"id\":\"14152\",\"type\":\"Line\"},{\"attributes\":{},\"id\":\"14671\",\"type\":\"UnionRenderers\"},{\"attributes\":{\"source\":{\"id\":\"14150\",\"type\":\"ColumnDataSource\"}},\"id\":\"14154\",\"type\":\"CDSView\"},{\"attributes\":{},\"id\":\"14138\",\"type\":\"BasicTickFormatter\"},{\"attributes\":{},\"id\":\"14670\",\"type\":\"Selection\"},{\"attributes\":{\"source\":{\"id\":\"14132\",\"type\":\"ColumnDataSource\"}},\"id\":\"14136\",\"type\":\"CDSView\"},{\"attributes\":{\"text\":\"Adolescent fertility rate (births per 1,000 women ages 15-19) weighted against Population, female\"},\"id\":\"14099\",\"type\":\"Title\"},{\"attributes\":{\"data_source\":{\"id\":\"14166\",\"type\":\"ColumnDataSource\"},\"glyph\":{\"id\":\"14167\",\"type\":\"Circle\"},\"hover_glyph\":null,\"muted_glyph\":null,\"nonselection_glyph\":{\"id\":\"14168\",\"type\":\"Circle\"},\"selection_glyph\":null,\"view\":{\"id\":\"14170\",\"type\":\"CDSView\"}},\"id\":\"14169\",\"type\":\"GlyphRenderer\"},{\"attributes\":{\"data_source\":{\"id\":\"14132\",\"type\":\"ColumnDataSource\"},\"glyph\":{\"id\":\"14133\",\"type\":\"Line\"},\"hover_glyph\":null,\"muted_glyph\":null,\"nonselection_glyph\":{\"id\":\"14134\",\"type\":\"Line\"},\"selection_glyph\":null,\"view\":{\"id\":\"14136\",\"type\":\"CDSView\"}},\"id\":\"14135\",\"type\":\"GlyphRenderer\"},{\"attributes\":{},\"id\":\"14120\",\"type\":\"WheelZoomTool\"},{\"attributes\":{},\"id\":\"14140\",\"type\":\"BasicTickFormatter\"},{\"attributes\":{\"callback\":null},\"id\":\"14101\",\"type\":\"DataRange1d\"},{\"attributes\":{\"items\":[{\"id\":\"14144\",\"type\":\"LegendItem\"},{\"id\":\"14165\",\"type\":\"LegendItem\"}],\"location\":\"bottom_left\"},\"id\":\"14143\",\"type\":\"Legend\"},{\"attributes\":{\"callback\":null},\"id\":\"14103\",\"type\":\"DataRange1d\"},{\"attributes\":{\"bottom_units\":\"screen\",\"fill_alpha\":{\"value\":0.5},\"fill_color\":{\"value\":\"lightgrey\"},\"left_units\":\"screen\",\"level\":\"overlay\",\"line_alpha\":{\"value\":1.0},\"line_color\":{\"value\":\"black\"},\"line_dash\":[4,4],\"line_width\":{\"value\":2},\"render_mode\":\"css\",\"right_units\":\"screen\",\"top_units\":\"screen\"},\"id\":\"14142\",\"type\":\"BoxAnnotation\"},{\"attributes\":{},\"id\":\"14105\",\"type\":\"LinearScale\"},{\"attributes\":{},\"id\":\"14162\",\"type\":\"UnionRenderers\"},{\"attributes\":{\"label\":{\"value\":\"LDCs\"},\"renderers\":[{\"id\":\"14135\",\"type\":\"GlyphRenderer\"}]},\"id\":\"14144\",\"type\":\"LegendItem\"},{\"attributes\":{},\"id\":\"14107\",\"type\":\"LinearScale\"},{\"attributes\":{\"fill_color\":{\"value\":\"#5430F1\"},\"line_color\":{\"value\":\"#5430F1\"},\"line_width\":{\"value\":3},\"x\":{\"field\":\"x\"},\"y\":{\"field\":\"y\"}},\"id\":\"14167\",\"type\":\"Circle\"},{\"attributes\":{},\"id\":\"14161\",\"type\":\"Selection\"},{\"attributes\":{\"source\":{\"id\":\"14166\",\"type\":\"ColumnDataSource\"}},\"id\":\"14170\",\"type\":\"CDSView\"},{\"attributes\":{\"axis_label\":\"Years\",\"formatter\":{\"id\":\"14140\",\"type\":\"BasicTickFormatter\"},\"ticker\":{\"id\":\"14110\",\"type\":\"BasicTicker\"}},\"id\":\"14109\",\"type\":\"LinearAxis\"},{\"attributes\":{},\"id\":\"14163\",\"type\":\"Selection\"},{\"attributes\":{\"label\":{\"value\":\"Developing excluding LDCs\"},\"renderers\":[{\"id\":\"14153\",\"type\":\"GlyphRenderer\"}]},\"id\":\"14165\",\"type\":\"LegendItem\"},{\"attributes\":{},\"id\":\"14110\",\"type\":\"BasicTicker\"},{\"attributes\":{},\"id\":\"14164\",\"type\":\"UnionRenderers\"},{\"attributes\":{\"line_color\":\"#FA1857\",\"x\":{\"field\":\"x\"},\"y\":{\"field\":\"y\"}},\"id\":\"14133\",\"type\":\"Line\"},{\"attributes\":{\"overlay\":{\"id\":\"14142\",\"type\":\"BoxAnnotation\"}},\"id\":\"14121\",\"type\":\"BoxZoomTool\"},{\"attributes\":{\"callback\":null,\"data\":{\"x\":[\"2000\",\"2003\",\"2006\",\"2009\",\"2014\",\"2017\"],\"y\":[121.393612707868,116.97120416672126,112.24066897604072,107.13649273310496,98.58747877321025,93.55880064175741]},\"selected\":{\"id\":\"14163\",\"type\":\"Selection\"},\"selection_policy\":{\"id\":\"14164\",\"type\":\"UnionRenderers\"}},\"id\":\"14145\",\"type\":\"ColumnDataSource\"},{\"attributes\":{\"grid_line_color\":null,\"ticker\":{\"id\":\"14110\",\"type\":\"BasicTicker\"}},\"id\":\"14113\",\"type\":\"Grid\"},{\"attributes\":{},\"id\":\"14115\",\"type\":\"BasicTicker\"},{\"attributes\":{\"callback\":null,\"data\":{\"x\":[\"2000\",\"2003\",\"2006\",\"2009\",\"2014\",\"2017\"],\"y\":[48.74071159336641,44.929266859794446,41.487416464846476,38.37474339114627,33.22605410426525,29.89275075881614]},\"selected\":{\"id\":\"14670\",\"type\":\"Selection\"},\"selection_policy\":{\"id\":\"14671\",\"type\":\"UnionRenderers\"}},\"id\":\"14166\",\"type\":\"ColumnDataSource\"},{\"attributes\":{\"fill_alpha\":{\"value\":0.1},\"fill_color\":{\"value\":\"#1f77b4\"},\"line_alpha\":{\"value\":0.1},\"line_color\":{\"value\":\"#1f77b4\"},\"line_width\":{\"value\":3},\"x\":{\"field\":\"x\"},\"y\":{\"field\":\"y\"}},\"id\":\"14147\",\"type\":\"Circle\"},{\"attributes\":{\"axis_label\":\"SP.ADO.TFRT\",\"formatter\":{\"id\":\"14138\",\"type\":\"BasicTickFormatter\"},\"ticker\":{\"id\":\"14115\",\"type\":\"BasicTicker\"}},\"id\":\"14114\",\"type\":\"LinearAxis\"},{\"attributes\":{\"callback\":null,\"tooltips\":\"                \\n        <div style=padding=5px>Year:@x</div>\\n        <div style=padding=5px>Value:@y</div>        \\n        \"},\"id\":\"14171\",\"type\":\"HoverTool\"},{\"attributes\":{\"fill_color\":{\"value\":\"#FA1857\"},\"line_color\":{\"value\":\"#FA1857\"},\"line_width\":{\"value\":3},\"x\":{\"field\":\"x\"},\"y\":{\"field\":\"y\"}},\"id\":\"14146\",\"type\":\"Circle\"},{\"attributes\":{\"dimension\":1,\"grid_line_alpha\":0.5,\"ticker\":{\"id\":\"14115\",\"type\":\"BasicTicker\"}},\"id\":\"14118\",\"type\":\"Grid\"},{\"attributes\":{},\"id\":\"14122\",\"type\":\"SaveTool\"},{\"attributes\":{\"fill_alpha\":{\"value\":0.1},\"fill_color\":{\"value\":\"#1f77b4\"},\"line_alpha\":{\"value\":0.1},\"line_color\":{\"value\":\"#1f77b4\"},\"line_width\":{\"value\":3},\"x\":{\"field\":\"x\"},\"y\":{\"field\":\"y\"}},\"id\":\"14168\",\"type\":\"Circle\"},{\"attributes\":{\"data_source\":{\"id\":\"14145\",\"type\":\"ColumnDataSource\"},\"glyph\":{\"id\":\"14146\",\"type\":\"Circle\"},\"hover_glyph\":null,\"muted_glyph\":null,\"nonselection_glyph\":{\"id\":\"14147\",\"type\":\"Circle\"},\"selection_glyph\":null,\"view\":{\"id\":\"14149\",\"type\":\"CDSView\"}},\"id\":\"14148\",\"type\":\"GlyphRenderer\"},{\"attributes\":{\"callback\":null,\"data\":{\"x\":[\"2000\",\"2003\",\"2006\",\"2009\",\"2014\",\"2017\"],\"y\":[121.393612707868,116.97120416672126,112.24066897604072,107.13649273310496,98.58747877321025,93.55880064175741]},\"selected\":{\"id\":\"14161\",\"type\":\"Selection\"},\"selection_policy\":{\"id\":\"14162\",\"type\":\"UnionRenderers\"}},\"id\":\"14132\",\"type\":\"ColumnDataSource\"},{\"attributes\":{\"callback\":null,\"data\":{\"x\":[\"2000\",\"2003\",\"2006\",\"2009\",\"2014\",\"2017\"],\"y\":[48.74071159336641,44.929266859794446,41.487416464846476,38.37474339114627,33.22605410426525,29.89275075881614]},\"selected\":{\"id\":\"14668\",\"type\":\"Selection\"},\"selection_policy\":{\"id\":\"14669\",\"type\":\"UnionRenderers\"}},\"id\":\"14150\",\"type\":\"ColumnDataSource\"}],\"root_ids\":[\"14098\"]},\"title\":\"Bokeh Application\",\"version\":\"1.3.4\"}};\n",
       "  var render_items = [{\"docid\":\"9eaac235-6b29-4c84-ab87-42901a5d5f0d\",\"roots\":{\"14098\":\"e6fdf912-be4c-45b4-b93b-48cc179e5c89\"}}];\n",
       "  root.Bokeh.embed.embed_items_notebook(docs_json, render_items);\n",
       "\n",
       "  }\n",
       "  if (root.Bokeh !== undefined) {\n",
       "    embed_document(root);\n",
       "  } else {\n",
       "    var attempts = 0;\n",
       "    var timer = setInterval(function(root) {\n",
       "      if (root.Bokeh !== undefined) {\n",
       "        embed_document(root);\n",
       "        clearInterval(timer);\n",
       "      }\n",
       "      attempts++;\n",
       "      if (attempts > 100) {\n",
       "        console.log(\"Bokeh: ERROR: Unable to run BokehJS code because BokehJS library is missing\");\n",
       "        clearInterval(timer);\n",
       "      }\n",
       "    }, 10, root)\n",
       "  }\n",
       "})(window);"
      ],
      "application/vnd.bokehjs_exec.v0+json": ""
     },
     "metadata": {
      "application/vnd.bokehjs_exec.v0+json": {
       "id": "14098"
      }
     },
     "output_type": "display_data"
    }
   ],
   "source": [
    "# Basic water access rural\n",
    "years = ['2000', '2003', '2006', '2009', '2014', '2017']\n",
    "result = show_weighted_average(years, 'SP.ADO.TFRT', 'SP.POP.TOTL.FE.IN', \n",
    "                               ['LDCs', 'Developing excluding LDCs'])"
   ]
  },
  {
   "cell_type": "markdown",
   "metadata": {
    "slideshow": {
     "slide_type": "slide"
    }
   },
   "source": [
    "# Social protection"
   ]
  },
  {
   "cell_type": "code",
   "execution_count": 35,
   "metadata": {
    "ExecuteTime": {
     "end_time": "2019-10-25T14:26:12.858520Z",
     "start_time": "2019-10-25T14:26:07.697975Z"
    },
    "slideshow": {
     "slide_type": "slide"
    }
   },
   "outputs": [
    {
     "data": {
      "text/html": [
       "\n",
       "\n",
       "\n",
       "\n",
       "\n",
       "\n",
       "  <div class=\"bk-root\" id=\"fdd51f67-9b61-4d50-ad40-23715a9bcced\" data-root-id=\"14756\"></div>\n"
      ]
     },
     "metadata": {},
     "output_type": "display_data"
    },
    {
     "data": {
      "application/javascript": [
       "(function(root) {\n",
       "  function embed_document(root) {\n",
       "    \n",
       "  var docs_json = {\"5032f8bf-58d1-466d-a713-ae05d51cb6a4\":{\"roots\":{\"references\":[{\"attributes\":{\"below\":[{\"id\":\"14767\",\"type\":\"LinearAxis\"}],\"center\":[{\"id\":\"14771\",\"type\":\"Grid\"},{\"id\":\"14776\",\"type\":\"Grid\"},{\"id\":\"14801\",\"type\":\"Legend\"}],\"left\":[{\"id\":\"14772\",\"type\":\"LinearAxis\"}],\"plot_height\":400,\"plot_width\":800,\"renderers\":[{\"id\":\"14793\",\"type\":\"GlyphRenderer\"},{\"id\":\"14806\",\"type\":\"GlyphRenderer\"},{\"id\":\"14811\",\"type\":\"GlyphRenderer\"},{\"id\":\"14827\",\"type\":\"GlyphRenderer\"},{\"id\":\"14832\",\"type\":\"GlyphRenderer\"},{\"id\":\"14852\",\"type\":\"GlyphRenderer\"}],\"title\":{\"id\":\"14757\",\"type\":\"Title\"},\"toolbar\":{\"id\":\"14783\",\"type\":\"Toolbar\"},\"x_range\":{\"id\":\"14759\",\"type\":\"DataRange1d\"},\"x_scale\":{\"id\":\"14763\",\"type\":\"LinearScale\"},\"y_range\":{\"id\":\"14761\",\"type\":\"DataRange1d\"},\"y_scale\":{\"id\":\"14765\",\"type\":\"LinearScale\"}},\"id\":\"14756\",\"subtype\":\"Figure\",\"type\":\"Plot\"},{\"attributes\":{},\"id\":\"14773\",\"type\":\"BasicTicker\"},{\"attributes\":{\"line_alpha\":0.1,\"line_color\":\"#1f77b4\",\"x\":{\"field\":\"x\"},\"y\":{\"field\":\"y\"}},\"id\":\"14831\",\"type\":\"Line\"},{\"attributes\":{},\"id\":\"14822\",\"type\":\"UnionRenderers\"},{\"attributes\":{\"overlay\":{\"id\":\"14800\",\"type\":\"BoxAnnotation\"}},\"id\":\"14779\",\"type\":\"BoxZoomTool\"},{\"attributes\":{},\"id\":\"14845\",\"type\":\"UnionRenderers\"},{\"attributes\":{\"source\":{\"id\":\"14849\",\"type\":\"ColumnDataSource\"}},\"id\":\"14853\",\"type\":\"CDSView\"},{\"attributes\":{},\"id\":\"15371\",\"type\":\"Selection\"},{\"attributes\":{},\"id\":\"14846\",\"type\":\"Selection\"},{\"attributes\":{\"axis_label\":\"SP.POP.DPND\",\"formatter\":{\"id\":\"14796\",\"type\":\"BasicTickFormatter\"},\"ticker\":{\"id\":\"14773\",\"type\":\"BasicTicker\"}},\"id\":\"14772\",\"type\":\"LinearAxis\"},{\"attributes\":{\"data_source\":{\"id\":\"14808\",\"type\":\"ColumnDataSource\"},\"glyph\":{\"id\":\"14809\",\"type\":\"Line\"},\"hover_glyph\":null,\"muted_glyph\":null,\"nonselection_glyph\":{\"id\":\"14810\",\"type\":\"Line\"},\"selection_glyph\":null,\"view\":{\"id\":\"14812\",\"type\":\"CDSView\"}},\"id\":\"14811\",\"type\":\"GlyphRenderer\"},{\"attributes\":{},\"id\":\"14763\",\"type\":\"LinearScale\"},{\"attributes\":{},\"id\":\"14778\",\"type\":\"WheelZoomTool\"},{\"attributes\":{\"fill_alpha\":{\"value\":0.1},\"fill_color\":{\"value\":\"#1f77b4\"},\"line_alpha\":{\"value\":0.1},\"line_color\":{\"value\":\"#1f77b4\"},\"line_width\":{\"value\":3},\"x\":{\"field\":\"x\"},\"y\":{\"field\":\"y\"}},\"id\":\"14805\",\"type\":\"Circle\"},{\"attributes\":{\"bottom_units\":\"screen\",\"fill_alpha\":{\"value\":0.5},\"fill_color\":{\"value\":\"lightgrey\"},\"left_units\":\"screen\",\"level\":\"overlay\",\"line_alpha\":{\"value\":1.0},\"line_color\":{\"value\":\"black\"},\"line_dash\":[4,4],\"line_width\":{\"value\":2},\"render_mode\":\"css\",\"right_units\":\"screen\",\"top_units\":\"screen\"},\"id\":\"14800\",\"type\":\"BoxAnnotation\"},{\"attributes\":{},\"id\":\"14847\",\"type\":\"UnionRenderers\"},{\"attributes\":{\"data_source\":{\"id\":\"14849\",\"type\":\"ColumnDataSource\"},\"glyph\":{\"id\":\"14850\",\"type\":\"Circle\"},\"hover_glyph\":null,\"muted_glyph\":null,\"nonselection_glyph\":{\"id\":\"14851\",\"type\":\"Circle\"},\"selection_glyph\":null,\"view\":{\"id\":\"14853\",\"type\":\"CDSView\"}},\"id\":\"14852\",\"type\":\"GlyphRenderer\"},{\"attributes\":{\"line_color\":\"#2CC775\",\"x\":{\"field\":\"x\"},\"y\":{\"field\":\"y\"}},\"id\":\"14830\",\"type\":\"Line\"},{\"attributes\":{},\"id\":\"14821\",\"type\":\"Selection\"},{\"attributes\":{},\"id\":\"15372\",\"type\":\"UnionRenderers\"},{\"attributes\":{},\"id\":\"14777\",\"type\":\"PanTool\"},{\"attributes\":{\"callback\":null},\"id\":\"14761\",\"type\":\"DataRange1d\"},{\"attributes\":{\"grid_line_color\":null,\"ticker\":{\"id\":\"14768\",\"type\":\"BasicTicker\"}},\"id\":\"14771\",\"type\":\"Grid\"},{\"attributes\":{\"fill_color\":{\"value\":\"#FA1857\"},\"line_color\":{\"value\":\"#FA1857\"},\"line_width\":{\"value\":3},\"x\":{\"field\":\"x\"},\"y\":{\"field\":\"y\"}},\"id\":\"14804\",\"type\":\"Circle\"},{\"attributes\":{\"line_alpha\":0.1,\"line_color\":\"#1f77b4\",\"x\":{\"field\":\"x\"},\"y\":{\"field\":\"y\"}},\"id\":\"14792\",\"type\":\"Line\"},{\"attributes\":{\"line_alpha\":0.1,\"line_color\":\"#1f77b4\",\"x\":{\"field\":\"x\"},\"y\":{\"field\":\"y\"}},\"id\":\"14810\",\"type\":\"Line\"},{\"attributes\":{\"fill_alpha\":{\"value\":0.1},\"fill_color\":{\"value\":\"#1f77b4\"},\"line_alpha\":{\"value\":0.1},\"line_color\":{\"value\":\"#1f77b4\"},\"line_width\":{\"value\":3},\"x\":{\"field\":\"x\"},\"y\":{\"field\":\"y\"}},\"id\":\"14851\",\"type\":\"Circle\"},{\"attributes\":{},\"id\":\"14798\",\"type\":\"BasicTickFormatter\"},{\"attributes\":{\"callback\":null,\"data\":{\"x\":[\"2000\",\"2001\",\"2002\",\"2003\",\"2004\",\"2005\",\"2006\",\"2007\",\"2008\",\"2009\",\"2010\",\"2011\",\"2012\",\"2013\",\"2014\",\"2015\",\"2016\",\"2017\"],\"y\":[50.723128378093605,50.5231850468679,50.37496397566116,50.256690141387246,50.13330348053058,49.99664317017944,50.01583887693405,50.00026173733251,49.99506396621195,50.06955879546578,50.259015743666154,50.596556044189086,50.982156909542724,51.41864250914094,51.884735692147885,52.364033705503694,52.810673816186224,53.26354779686192]},\"selected\":{\"id\":\"15369\",\"type\":\"Selection\"},\"selection_policy\":{\"id\":\"15370\",\"type\":\"UnionRenderers\"}},\"id\":\"14829\",\"type\":\"ColumnDataSource\"},{\"attributes\":{},\"id\":\"14820\",\"type\":\"UnionRenderers\"},{\"attributes\":{\"line_color\":\"#FA1857\",\"x\":{\"field\":\"x\"},\"y\":{\"field\":\"y\"}},\"id\":\"14791\",\"type\":\"Line\"},{\"attributes\":{},\"id\":\"14768\",\"type\":\"BasicTicker\"},{\"attributes\":{},\"id\":\"15370\",\"type\":\"UnionRenderers\"},{\"attributes\":{\"callback\":null},\"id\":\"14759\",\"type\":\"DataRange1d\"},{\"attributes\":{\"line_color\":\"#5430F1\",\"x\":{\"field\":\"x\"},\"y\":{\"field\":\"y\"}},\"id\":\"14809\",\"type\":\"Line\"},{\"attributes\":{},\"id\":\"14796\",\"type\":\"BasicTickFormatter\"},{\"attributes\":{\"callback\":null,\"data\":{\"x\":[\"2000\",\"2001\",\"2002\",\"2003\",\"2004\",\"2005\",\"2006\",\"2007\",\"2008\",\"2009\",\"2010\",\"2011\",\"2012\",\"2013\",\"2014\",\"2015\",\"2016\",\"2017\"],\"y\":[86.25509166868437,85.88074159498726,85.41835214899203,84.89732048671314,84.3305896273254,83.71589426111542,83.42424741118637,83.03958290671235,82.57031399160857,82.02815998839458,81.4222126287297,80.8467087893619,80.17480091529504,79.425006534633,78.6185865928844,77.77069036922822,76.9940444906128,76.17208529652623]},\"selected\":{\"id\":\"14821\",\"type\":\"Selection\"},\"selection_policy\":{\"id\":\"14822\",\"type\":\"UnionRenderers\"}},\"id\":\"14803\",\"type\":\"ColumnDataSource\"},{\"attributes\":{\"axis_label\":\"Years\",\"formatter\":{\"id\":\"14798\",\"type\":\"BasicTickFormatter\"},\"ticker\":{\"id\":\"14768\",\"type\":\"BasicTicker\"}},\"id\":\"14767\",\"type\":\"LinearAxis\"},{\"attributes\":{\"fill_color\":{\"value\":\"#5430F1\"},\"line_color\":{\"value\":\"#5430F1\"},\"line_width\":{\"value\":3},\"x\":{\"field\":\"x\"},\"y\":{\"field\":\"y\"}},\"id\":\"14825\",\"type\":\"Circle\"},{\"attributes\":{\"source\":{\"id\":\"14824\",\"type\":\"ColumnDataSource\"}},\"id\":\"14828\",\"type\":\"CDSView\"},{\"attributes\":{},\"id\":\"14819\",\"type\":\"Selection\"},{\"attributes\":{},\"id\":\"14844\",\"type\":\"Selection\"},{\"attributes\":{},\"id\":\"15369\",\"type\":\"Selection\"},{\"attributes\":{\"active_drag\":\"auto\",\"active_inspect\":\"auto\",\"active_multi\":null,\"active_scroll\":\"auto\",\"active_tap\":\"auto\",\"tools\":[{\"id\":\"14777\",\"type\":\"PanTool\"},{\"id\":\"14778\",\"type\":\"WheelZoomTool\"},{\"id\":\"14779\",\"type\":\"BoxZoomTool\"},{\"id\":\"14780\",\"type\":\"SaveTool\"},{\"id\":\"14781\",\"type\":\"ResetTool\"},{\"id\":\"14782\",\"type\":\"HelpTool\"},{\"id\":\"14854\",\"type\":\"HoverTool\"}]},\"id\":\"14783\",\"type\":\"Toolbar\"},{\"attributes\":{\"data_source\":{\"id\":\"14803\",\"type\":\"ColumnDataSource\"},\"glyph\":{\"id\":\"14804\",\"type\":\"Circle\"},\"hover_glyph\":null,\"muted_glyph\":null,\"nonselection_glyph\":{\"id\":\"14805\",\"type\":\"Circle\"},\"selection_glyph\":null,\"view\":{\"id\":\"14807\",\"type\":\"CDSView\"}},\"id\":\"14806\",\"type\":\"GlyphRenderer\"},{\"attributes\":{\"text\":\"Age dependency ratio (% of working-age population) weighted against Population ages 15-64, total\"},\"id\":\"14757\",\"type\":\"Title\"},{\"attributes\":{},\"id\":\"14765\",\"type\":\"LinearScale\"},{\"attributes\":{\"callback\":null,\"data\":{\"x\":[\"2000\",\"2001\",\"2002\",\"2003\",\"2004\",\"2005\",\"2006\",\"2007\",\"2008\",\"2009\",\"2010\",\"2011\",\"2012\",\"2013\",\"2014\",\"2015\",\"2016\",\"2017\"],\"y\":[58.210062853510706,57.406866641649444,56.32044999967519,55.095759224596485,53.954404045070156,53.00353695374894,52.217555205370566,51.5833194243256,51.07258094488592,50.612442570694185,50.16887988631728,49.867951481624914,49.56359901248621,49.28770345340982,49.08817208719477,48.985515185534666,49.0251654363354,49.135531817718444]},\"selected\":{\"id\":\"14844\",\"type\":\"Selection\"},\"selection_policy\":{\"id\":\"14845\",\"type\":\"UnionRenderers\"}},\"id\":\"14808\",\"type\":\"ColumnDataSource\"},{\"attributes\":{\"source\":{\"id\":\"14790\",\"type\":\"ColumnDataSource\"}},\"id\":\"14794\",\"type\":\"CDSView\"},{\"attributes\":{\"data_source\":{\"id\":\"14824\",\"type\":\"ColumnDataSource\"},\"glyph\":{\"id\":\"14825\",\"type\":\"Circle\"},\"hover_glyph\":null,\"muted_glyph\":null,\"nonselection_glyph\":{\"id\":\"14826\",\"type\":\"Circle\"},\"selection_glyph\":null,\"view\":{\"id\":\"14828\",\"type\":\"CDSView\"}},\"id\":\"14827\",\"type\":\"GlyphRenderer\"},{\"attributes\":{\"callback\":null,\"data\":{\"x\":[\"2000\",\"2001\",\"2002\",\"2003\",\"2004\",\"2005\",\"2006\",\"2007\",\"2008\",\"2009\",\"2010\",\"2011\",\"2012\",\"2013\",\"2014\",\"2015\",\"2016\",\"2017\"],\"y\":[58.210062853510706,57.406866641649444,56.32044999967519,55.095759224596485,53.954404045070156,53.00353695374894,52.217555205370566,51.5833194243256,51.07258094488592,50.612442570694185,50.16887988631728,49.867951481624914,49.56359901248621,49.28770345340982,49.08817208719477,48.985515185534666,49.0251654363354,49.135531817718444]},\"selected\":{\"id\":\"14846\",\"type\":\"Selection\"},\"selection_policy\":{\"id\":\"14847\",\"type\":\"UnionRenderers\"}},\"id\":\"14824\",\"type\":\"ColumnDataSource\"},{\"attributes\":{\"source\":{\"id\":\"14808\",\"type\":\"ColumnDataSource\"}},\"id\":\"14812\",\"type\":\"CDSView\"},{\"attributes\":{\"source\":{\"id\":\"14829\",\"type\":\"ColumnDataSource\"}},\"id\":\"14833\",\"type\":\"CDSView\"},{\"attributes\":{},\"id\":\"14782\",\"type\":\"HelpTool\"},{\"attributes\":{\"label\":{\"value\":\"OECD\"},\"renderers\":[{\"id\":\"14832\",\"type\":\"GlyphRenderer\"}]},\"id\":\"14848\",\"type\":\"LegendItem\"},{\"attributes\":{\"callback\":null,\"tooltips\":\"                \\n        <div style=padding=5px>Year:@x</div>\\n        <div style=padding=5px>Value:@y</div>        \\n        \"},\"id\":\"14854\",\"type\":\"HoverTool\"},{\"attributes\":{\"fill_color\":{\"value\":\"#2CC775\"},\"line_color\":{\"value\":\"#2CC775\"},\"line_width\":{\"value\":3},\"x\":{\"field\":\"x\"},\"y\":{\"field\":\"y\"}},\"id\":\"14850\",\"type\":\"Circle\"},{\"attributes\":{\"source\":{\"id\":\"14803\",\"type\":\"ColumnDataSource\"}},\"id\":\"14807\",\"type\":\"CDSView\"},{\"attributes\":{\"label\":{\"value\":\"LDCs\"},\"renderers\":[{\"id\":\"14793\",\"type\":\"GlyphRenderer\"}]},\"id\":\"14802\",\"type\":\"LegendItem\"},{\"attributes\":{\"callback\":null,\"data\":{\"x\":[\"2000\",\"2001\",\"2002\",\"2003\",\"2004\",\"2005\",\"2006\",\"2007\",\"2008\",\"2009\",\"2010\",\"2011\",\"2012\",\"2013\",\"2014\",\"2015\",\"2016\",\"2017\"],\"y\":[86.25509166868437,85.88074159498726,85.41835214899203,84.89732048671314,84.3305896273254,83.71589426111542,83.42424741118637,83.03958290671235,82.57031399160857,82.02815998839458,81.4222126287297,80.8467087893619,80.17480091529504,79.425006534633,78.6185865928844,77.77069036922822,76.9940444906128,76.17208529652623]},\"selected\":{\"id\":\"14819\",\"type\":\"Selection\"},\"selection_policy\":{\"id\":\"14820\",\"type\":\"UnionRenderers\"}},\"id\":\"14790\",\"type\":\"ColumnDataSource\"},{\"attributes\":{\"callback\":null,\"data\":{\"x\":[\"2000\",\"2001\",\"2002\",\"2003\",\"2004\",\"2005\",\"2006\",\"2007\",\"2008\",\"2009\",\"2010\",\"2011\",\"2012\",\"2013\",\"2014\",\"2015\",\"2016\",\"2017\"],\"y\":[50.723128378093605,50.5231850468679,50.37496397566116,50.256690141387246,50.13330348053058,49.99664317017944,50.01583887693405,50.00026173733251,49.99506396621195,50.06955879546578,50.259015743666154,50.596556044189086,50.982156909542724,51.41864250914094,51.884735692147885,52.364033705503694,52.810673816186224,53.26354779686192]},\"selected\":{\"id\":\"15371\",\"type\":\"Selection\"},\"selection_policy\":{\"id\":\"15372\",\"type\":\"UnionRenderers\"}},\"id\":\"14849\",\"type\":\"ColumnDataSource\"},{\"attributes\":{},\"id\":\"14781\",\"type\":\"ResetTool\"},{\"attributes\":{\"fill_alpha\":{\"value\":0.1},\"fill_color\":{\"value\":\"#1f77b4\"},\"line_alpha\":{\"value\":0.1},\"line_color\":{\"value\":\"#1f77b4\"},\"line_width\":{\"value\":3},\"x\":{\"field\":\"x\"},\"y\":{\"field\":\"y\"}},\"id\":\"14826\",\"type\":\"Circle\"},{\"attributes\":{\"label\":{\"value\":\"Developing excluding LDCs\"},\"renderers\":[{\"id\":\"14811\",\"type\":\"GlyphRenderer\"}]},\"id\":\"14823\",\"type\":\"LegendItem\"},{\"attributes\":{\"data_source\":{\"id\":\"14829\",\"type\":\"ColumnDataSource\"},\"glyph\":{\"id\":\"14830\",\"type\":\"Line\"},\"hover_glyph\":null,\"muted_glyph\":null,\"nonselection_glyph\":{\"id\":\"14831\",\"type\":\"Line\"},\"selection_glyph\":null,\"view\":{\"id\":\"14833\",\"type\":\"CDSView\"}},\"id\":\"14832\",\"type\":\"GlyphRenderer\"},{\"attributes\":{\"dimension\":1,\"grid_line_alpha\":0.5,\"ticker\":{\"id\":\"14773\",\"type\":\"BasicTicker\"}},\"id\":\"14776\",\"type\":\"Grid\"},{\"attributes\":{},\"id\":\"14780\",\"type\":\"SaveTool\"},{\"attributes\":{\"items\":[{\"id\":\"14802\",\"type\":\"LegendItem\"},{\"id\":\"14823\",\"type\":\"LegendItem\"},{\"id\":\"14848\",\"type\":\"LegendItem\"}],\"location\":\"bottom_left\"},\"id\":\"14801\",\"type\":\"Legend\"},{\"attributes\":{\"data_source\":{\"id\":\"14790\",\"type\":\"ColumnDataSource\"},\"glyph\":{\"id\":\"14791\",\"type\":\"Line\"},\"hover_glyph\":null,\"muted_glyph\":null,\"nonselection_glyph\":{\"id\":\"14792\",\"type\":\"Line\"},\"selection_glyph\":null,\"view\":{\"id\":\"14794\",\"type\":\"CDSView\"}},\"id\":\"14793\",\"type\":\"GlyphRenderer\"}],\"root_ids\":[\"14756\"]},\"title\":\"Bokeh Application\",\"version\":\"1.3.4\"}};\n",
       "  var render_items = [{\"docid\":\"5032f8bf-58d1-466d-a713-ae05d51cb6a4\",\"roots\":{\"14756\":\"fdd51f67-9b61-4d50-ad40-23715a9bcced\"}}];\n",
       "  root.Bokeh.embed.embed_items_notebook(docs_json, render_items);\n",
       "\n",
       "  }\n",
       "  if (root.Bokeh !== undefined) {\n",
       "    embed_document(root);\n",
       "  } else {\n",
       "    var attempts = 0;\n",
       "    var timer = setInterval(function(root) {\n",
       "      if (root.Bokeh !== undefined) {\n",
       "        embed_document(root);\n",
       "        clearInterval(timer);\n",
       "      }\n",
       "      attempts++;\n",
       "      if (attempts > 100) {\n",
       "        console.log(\"Bokeh: ERROR: Unable to run BokehJS code because BokehJS library is missing\");\n",
       "        clearInterval(timer);\n",
       "      }\n",
       "    }, 10, root)\n",
       "  }\n",
       "})(window);"
      ],
      "application/vnd.bokehjs_exec.v0+json": ""
     },
     "metadata": {
      "application/vnd.bokehjs_exec.v0+json": {
       "id": "14756"
      }
     },
     "output_type": "display_data"
    }
   ],
   "source": [
    "# Age dependency ratio (% of working-age population)\n",
    "years = list(map(str, list(range(2000,2018))))\n",
    "result = show_weighted_average(years, 'SP.POP.DPND', 'SP.POP.1564.TO', ['LDCs', 'Developing excluding LDCs', 'OECD'])"
   ]
  },
  {
   "cell_type": "code",
   "execution_count": 36,
   "metadata": {
    "ExecuteTime": {
     "end_time": "2019-10-25T14:26:17.747160Z",
     "start_time": "2019-10-25T14:26:12.861357Z"
    },
    "slideshow": {
     "slide_type": "slide"
    }
   },
   "outputs": [
    {
     "data": {
      "text/html": [
       "\n",
       "\n",
       "\n",
       "\n",
       "\n",
       "\n",
       "  <div class=\"bk-root\" id=\"fd55c2fb-5329-497b-9d41-ced8821d9769\" data-root-id=\"15481\"></div>\n"
      ]
     },
     "metadata": {},
     "output_type": "display_data"
    },
    {
     "data": {
      "application/javascript": [
       "(function(root) {\n",
       "  function embed_document(root) {\n",
       "    \n",
       "  var docs_json = {\"6276c739-9361-4a88-9661-0c9bdbd2c22d\":{\"roots\":{\"references\":[{\"attributes\":{\"below\":[{\"id\":\"15492\",\"type\":\"LinearAxis\"}],\"center\":[{\"id\":\"15496\",\"type\":\"Grid\"},{\"id\":\"15501\",\"type\":\"Grid\"},{\"id\":\"15526\",\"type\":\"Legend\"}],\"left\":[{\"id\":\"15497\",\"type\":\"LinearAxis\"}],\"plot_height\":400,\"plot_width\":800,\"renderers\":[{\"id\":\"15518\",\"type\":\"GlyphRenderer\"},{\"id\":\"15531\",\"type\":\"GlyphRenderer\"},{\"id\":\"15536\",\"type\":\"GlyphRenderer\"},{\"id\":\"15552\",\"type\":\"GlyphRenderer\"},{\"id\":\"15557\",\"type\":\"GlyphRenderer\"},{\"id\":\"15577\",\"type\":\"GlyphRenderer\"}],\"title\":{\"id\":\"15482\",\"type\":\"Title\"},\"toolbar\":{\"id\":\"15508\",\"type\":\"Toolbar\"},\"x_range\":{\"id\":\"15484\",\"type\":\"DataRange1d\"},\"x_scale\":{\"id\":\"15488\",\"type\":\"LinearScale\"},\"y_range\":{\"id\":\"15486\",\"type\":\"DataRange1d\"},\"y_scale\":{\"id\":\"15490\",\"type\":\"LinearScale\"}},\"id\":\"15481\",\"subtype\":\"Figure\",\"type\":\"Plot\"},{\"attributes\":{\"text\":\"Employment to population ratio, 15+, total (%) (modeled ILO estimate) weighted against Population, total\"},\"id\":\"15482\",\"type\":\"Title\"},{\"attributes\":{},\"id\":\"16114\",\"type\":\"Selection\"},{\"attributes\":{},\"id\":\"15506\",\"type\":\"ResetTool\"},{\"attributes\":{\"fill_alpha\":{\"value\":0.1},\"fill_color\":{\"value\":\"#1f77b4\"},\"line_alpha\":{\"value\":0.1},\"line_color\":{\"value\":\"#1f77b4\"},\"line_width\":{\"value\":3},\"x\":{\"field\":\"x\"},\"y\":{\"field\":\"y\"}},\"id\":\"15576\",\"type\":\"Circle\"},{\"attributes\":{\"line_alpha\":0.1,\"line_color\":\"#1f77b4\",\"x\":{\"field\":\"x\"},\"y\":{\"field\":\"y\"}},\"id\":\"15535\",\"type\":\"Line\"},{\"attributes\":{},\"id\":\"16112\",\"type\":\"Selection\"},{\"attributes\":{\"callback\":null},\"id\":\"15484\",\"type\":\"DataRange1d\"},{\"attributes\":{},\"id\":\"16115\",\"type\":\"UnionRenderers\"},{\"attributes\":{},\"id\":\"15507\",\"type\":\"HelpTool\"},{\"attributes\":{\"data_source\":{\"id\":\"15533\",\"type\":\"ColumnDataSource\"},\"glyph\":{\"id\":\"15534\",\"type\":\"Line\"},\"hover_glyph\":null,\"muted_glyph\":null,\"nonselection_glyph\":{\"id\":\"15535\",\"type\":\"Line\"},\"selection_glyph\":null,\"view\":{\"id\":\"15537\",\"type\":\"CDSView\"}},\"id\":\"15536\",\"type\":\"GlyphRenderer\"},{\"attributes\":{\"callback\":null},\"id\":\"15486\",\"type\":\"DataRange1d\"},{\"attributes\":{\"active_drag\":\"auto\",\"active_inspect\":\"auto\",\"active_multi\":null,\"active_scroll\":\"auto\",\"active_tap\":\"auto\",\"tools\":[{\"id\":\"15502\",\"type\":\"PanTool\"},{\"id\":\"15503\",\"type\":\"WheelZoomTool\"},{\"id\":\"15504\",\"type\":\"BoxZoomTool\"},{\"id\":\"15505\",\"type\":\"SaveTool\"},{\"id\":\"15506\",\"type\":\"ResetTool\"},{\"id\":\"15507\",\"type\":\"HelpTool\"},{\"id\":\"15579\",\"type\":\"HoverTool\"}]},\"id\":\"15508\",\"type\":\"Toolbar\"},{\"attributes\":{\"source\":{\"id\":\"15533\",\"type\":\"ColumnDataSource\"}},\"id\":\"15537\",\"type\":\"CDSView\"},{\"attributes\":{\"line_alpha\":0.1,\"line_color\":\"#1f77b4\",\"x\":{\"field\":\"x\"},\"y\":{\"field\":\"y\"}},\"id\":\"15517\",\"type\":\"Line\"},{\"attributes\":{},\"id\":\"15488\",\"type\":\"LinearScale\"},{\"attributes\":{},\"id\":\"15544\",\"type\":\"Selection\"},{\"attributes\":{\"data_source\":{\"id\":\"15515\",\"type\":\"ColumnDataSource\"},\"glyph\":{\"id\":\"15516\",\"type\":\"Line\"},\"hover_glyph\":null,\"muted_glyph\":null,\"nonselection_glyph\":{\"id\":\"15517\",\"type\":\"Line\"},\"selection_glyph\":null,\"view\":{\"id\":\"15519\",\"type\":\"CDSView\"}},\"id\":\"15518\",\"type\":\"GlyphRenderer\"},{\"attributes\":{},\"id\":\"15490\",\"type\":\"LinearScale\"},{\"attributes\":{},\"id\":\"15545\",\"type\":\"UnionRenderers\"},{\"attributes\":{\"axis_label\":\"Years\",\"formatter\":{\"id\":\"15523\",\"type\":\"BasicTickFormatter\"},\"ticker\":{\"id\":\"15493\",\"type\":\"BasicTicker\"}},\"id\":\"15492\",\"type\":\"LinearAxis\"},{\"attributes\":{\"source\":{\"id\":\"15515\",\"type\":\"ColumnDataSource\"}},\"id\":\"15519\",\"type\":\"CDSView\"},{\"attributes\":{\"source\":{\"id\":\"15574\",\"type\":\"ColumnDataSource\"}},\"id\":\"15578\",\"type\":\"CDSView\"},{\"attributes\":{},\"id\":\"15546\",\"type\":\"Selection\"},{\"attributes\":{},\"id\":\"15493\",\"type\":\"BasicTicker\"},{\"attributes\":{},\"id\":\"15547\",\"type\":\"UnionRenderers\"},{\"attributes\":{},\"id\":\"15521\",\"type\":\"BasicTickFormatter\"},{\"attributes\":{\"grid_line_color\":null,\"ticker\":{\"id\":\"15493\",\"type\":\"BasicTicker\"}},\"id\":\"15496\",\"type\":\"Grid\"},{\"attributes\":{\"label\":{\"value\":\"Developing excluding LDCs\"},\"renderers\":[{\"id\":\"15536\",\"type\":\"GlyphRenderer\"}]},\"id\":\"15548\",\"type\":\"LegendItem\"},{\"attributes\":{},\"id\":\"15523\",\"type\":\"BasicTickFormatter\"},{\"attributes\":{\"axis_label\":\"SL.EMP.TOTL.SP.ZS\",\"formatter\":{\"id\":\"15521\",\"type\":\"BasicTickFormatter\"},\"ticker\":{\"id\":\"15498\",\"type\":\"BasicTicker\"}},\"id\":\"15497\",\"type\":\"LinearAxis\"},{\"attributes\":{\"callback\":null,\"data\":{\"x\":[\"2000\",\"2001\",\"2002\",\"2003\",\"2004\",\"2005\",\"2006\",\"2007\",\"2008\",\"2009\",\"2010\",\"2011\",\"2012\",\"2013\",\"2014\",\"2015\",\"2016\",\"2017\"],\"y\":[62.00285200148233,61.620469744868885,61.14403191068359,60.76907335763383,60.71960242654923,60.520143238269135,60.25805585338507,60.06453899155872,59.741276396807486,59.24483539970416,58.9521320250133,58.70718271820256,58.47106962166943,58.31248809672999,58.196266068850925,58.00293977670905,57.74894867391089,57.66588638023179]},\"selected\":{\"id\":\"15571\",\"type\":\"Selection\"},\"selection_policy\":{\"id\":\"15572\",\"type\":\"UnionRenderers\"}},\"id\":\"15549\",\"type\":\"ColumnDataSource\"},{\"attributes\":{\"bottom_units\":\"screen\",\"fill_alpha\":{\"value\":0.5},\"fill_color\":{\"value\":\"lightgrey\"},\"left_units\":\"screen\",\"level\":\"overlay\",\"line_alpha\":{\"value\":1.0},\"line_color\":{\"value\":\"black\"},\"line_dash\":[4,4],\"line_width\":{\"value\":2},\"render_mode\":\"css\",\"right_units\":\"screen\",\"top_units\":\"screen\"},\"id\":\"15525\",\"type\":\"BoxAnnotation\"},{\"attributes\":{},\"id\":\"15569\",\"type\":\"Selection\"},{\"attributes\":{},\"id\":\"15498\",\"type\":\"BasicTicker\"},{\"attributes\":{\"fill_color\":{\"value\":\"#5430F1\"},\"line_color\":{\"value\":\"#5430F1\"},\"line_width\":{\"value\":3},\"x\":{\"field\":\"x\"},\"y\":{\"field\":\"y\"}},\"id\":\"15550\",\"type\":\"Circle\"},{\"attributes\":{\"items\":[{\"id\":\"15527\",\"type\":\"LegendItem\"},{\"id\":\"15548\",\"type\":\"LegendItem\"},{\"id\":\"15573\",\"type\":\"LegendItem\"}],\"location\":\"bottom_left\"},\"id\":\"15526\",\"type\":\"Legend\"},{\"attributes\":{},\"id\":\"15571\",\"type\":\"Selection\"},{\"attributes\":{\"dimension\":1,\"grid_line_alpha\":0.5,\"ticker\":{\"id\":\"15498\",\"type\":\"BasicTicker\"}},\"id\":\"15501\",\"type\":\"Grid\"},{\"attributes\":{\"fill_alpha\":{\"value\":0.1},\"fill_color\":{\"value\":\"#1f77b4\"},\"line_alpha\":{\"value\":0.1},\"line_color\":{\"value\":\"#1f77b4\"},\"line_width\":{\"value\":3},\"x\":{\"field\":\"x\"},\"y\":{\"field\":\"y\"}},\"id\":\"15551\",\"type\":\"Circle\"},{\"attributes\":{\"label\":{\"value\":\"LDCs\"},\"renderers\":[{\"id\":\"15518\",\"type\":\"GlyphRenderer\"}]},\"id\":\"15527\",\"type\":\"LegendItem\"},{\"attributes\":{},\"id\":\"15570\",\"type\":\"UnionRenderers\"},{\"attributes\":{\"data_source\":{\"id\":\"15549\",\"type\":\"ColumnDataSource\"},\"glyph\":{\"id\":\"15550\",\"type\":\"Circle\"},\"hover_glyph\":null,\"muted_glyph\":null,\"nonselection_glyph\":{\"id\":\"15551\",\"type\":\"Circle\"},\"selection_glyph\":null,\"view\":{\"id\":\"15553\",\"type\":\"CDSView\"}},\"id\":\"15552\",\"type\":\"GlyphRenderer\"},{\"attributes\":{\"line_color\":\"#FA1857\",\"x\":{\"field\":\"x\"},\"y\":{\"field\":\"y\"}},\"id\":\"15516\",\"type\":\"Line\"},{\"attributes\":{\"callback\":null,\"data\":{\"x\":[\"2000\",\"2001\",\"2002\",\"2003\",\"2004\",\"2005\",\"2006\",\"2007\",\"2008\",\"2009\",\"2010\",\"2011\",\"2012\",\"2013\",\"2014\",\"2015\",\"2016\",\"2017\"],\"y\":[66.58465574817114,66.61631193331569,66.47630847526436,66.38715284214597,66.40047807232631,66.47905689285292,66.558012816664,66.52579208729857,66.40335916126566,65.95321895673382,65.86080177166036,65.71916064561672,65.51845255568324,65.37964837175828,65.31832020866648,65.25237128057972,65.18901328154712,65.5543751123046]},\"selected\":{\"id\":\"15546\",\"type\":\"Selection\"},\"selection_policy\":{\"id\":\"15547\",\"type\":\"UnionRenderers\"}},\"id\":\"15528\",\"type\":\"ColumnDataSource\"},{\"attributes\":{},\"id\":\"15572\",\"type\":\"UnionRenderers\"},{\"attributes\":{\"callback\":null,\"data\":{\"x\":[\"2000\",\"2001\",\"2002\",\"2003\",\"2004\",\"2005\",\"2006\",\"2007\",\"2008\",\"2009\",\"2010\",\"2011\",\"2012\",\"2013\",\"2014\",\"2015\",\"2016\",\"2017\"],\"y\":[56.40865141951019,56.15551087542925,55.78176951023597,55.5296417520831,55.589161503213,55.967412284918765,56.41051699770243,56.73108736593439,56.62697234239764,55.124996476006956,54.84009591169655,54.959388942012374,55.0534575823381,55.05901270441525,55.304467418720705,55.67918767759019,56.10556899868917,56.579633263980924]},\"selected\":{\"id\":\"16114\",\"type\":\"Selection\"},\"selection_policy\":{\"id\":\"16115\",\"type\":\"UnionRenderers\"}},\"id\":\"15574\",\"type\":\"ColumnDataSource\"},{\"attributes\":{\"callback\":null,\"data\":{\"x\":[\"2000\",\"2001\",\"2002\",\"2003\",\"2004\",\"2005\",\"2006\",\"2007\",\"2008\",\"2009\",\"2010\",\"2011\",\"2012\",\"2013\",\"2014\",\"2015\",\"2016\",\"2017\"],\"y\":[66.58465574817114,66.61631193331569,66.47630847526436,66.38715284214597,66.40047807232631,66.47905689285292,66.558012816664,66.52579208729857,66.40335916126566,65.95321895673382,65.86080177166036,65.71916064561672,65.51845255568324,65.37964837175828,65.31832020866648,65.25237128057972,65.18901328154712,65.5543751123046]},\"selected\":{\"id\":\"15544\",\"type\":\"Selection\"},\"selection_policy\":{\"id\":\"15545\",\"type\":\"UnionRenderers\"}},\"id\":\"15515\",\"type\":\"ColumnDataSource\"},{\"attributes\":{\"source\":{\"id\":\"15549\",\"type\":\"ColumnDataSource\"}},\"id\":\"15553\",\"type\":\"CDSView\"},{\"attributes\":{\"fill_color\":{\"value\":\"#FA1857\"},\"line_color\":{\"value\":\"#FA1857\"},\"line_width\":{\"value\":3},\"x\":{\"field\":\"x\"},\"y\":{\"field\":\"y\"}},\"id\":\"15529\",\"type\":\"Circle\"},{\"attributes\":{\"callback\":null,\"tooltips\":\"                \\n        <div style=padding=5px>Year:@x</div>\\n        <div style=padding=5px>Value:@y</div>        \\n        \"},\"id\":\"15579\",\"type\":\"HoverTool\"},{\"attributes\":{\"callback\":null,\"data\":{\"x\":[\"2000\",\"2001\",\"2002\",\"2003\",\"2004\",\"2005\",\"2006\",\"2007\",\"2008\",\"2009\",\"2010\",\"2011\",\"2012\",\"2013\",\"2014\",\"2015\",\"2016\",\"2017\"],\"y\":[56.40865141951019,56.15551087542925,55.78176951023597,55.5296417520831,55.589161503213,55.967412284918765,56.41051699770243,56.73108736593439,56.62697234239764,55.124996476006956,54.84009591169655,54.959388942012374,55.0534575823381,55.05901270441525,55.304467418720705,55.67918767759019,56.10556899868917,56.579633263980924]},\"selected\":{\"id\":\"16112\",\"type\":\"Selection\"},\"selection_policy\":{\"id\":\"16113\",\"type\":\"UnionRenderers\"}},\"id\":\"15554\",\"type\":\"ColumnDataSource\"},{\"attributes\":{\"fill_alpha\":{\"value\":0.1},\"fill_color\":{\"value\":\"#1f77b4\"},\"line_alpha\":{\"value\":0.1},\"line_color\":{\"value\":\"#1f77b4\"},\"line_width\":{\"value\":3},\"x\":{\"field\":\"x\"},\"y\":{\"field\":\"y\"}},\"id\":\"15530\",\"type\":\"Circle\"},{\"attributes\":{},\"id\":\"15502\",\"type\":\"PanTool\"},{\"attributes\":{\"label\":{\"value\":\"OECD\"},\"renderers\":[{\"id\":\"15557\",\"type\":\"GlyphRenderer\"}]},\"id\":\"15573\",\"type\":\"LegendItem\"},{\"attributes\":{\"line_color\":\"#2CC775\",\"x\":{\"field\":\"x\"},\"y\":{\"field\":\"y\"}},\"id\":\"15555\",\"type\":\"Line\"},{\"attributes\":{\"data_source\":{\"id\":\"15528\",\"type\":\"ColumnDataSource\"},\"glyph\":{\"id\":\"15529\",\"type\":\"Circle\"},\"hover_glyph\":null,\"muted_glyph\":null,\"nonselection_glyph\":{\"id\":\"15530\",\"type\":\"Circle\"},\"selection_glyph\":null,\"view\":{\"id\":\"15532\",\"type\":\"CDSView\"}},\"id\":\"15531\",\"type\":\"GlyphRenderer\"},{\"attributes\":{},\"id\":\"15503\",\"type\":\"WheelZoomTool\"},{\"attributes\":{\"fill_color\":{\"value\":\"#2CC775\"},\"line_color\":{\"value\":\"#2CC775\"},\"line_width\":{\"value\":3},\"x\":{\"field\":\"x\"},\"y\":{\"field\":\"y\"}},\"id\":\"15575\",\"type\":\"Circle\"},{\"attributes\":{\"line_alpha\":0.1,\"line_color\":\"#1f77b4\",\"x\":{\"field\":\"x\"},\"y\":{\"field\":\"y\"}},\"id\":\"15556\",\"type\":\"Line\"},{\"attributes\":{\"data_source\":{\"id\":\"15574\",\"type\":\"ColumnDataSource\"},\"glyph\":{\"id\":\"15575\",\"type\":\"Circle\"},\"hover_glyph\":null,\"muted_glyph\":null,\"nonselection_glyph\":{\"id\":\"15576\",\"type\":\"Circle\"},\"selection_glyph\":null,\"view\":{\"id\":\"15578\",\"type\":\"CDSView\"}},\"id\":\"15577\",\"type\":\"GlyphRenderer\"},{\"attributes\":{\"overlay\":{\"id\":\"15525\",\"type\":\"BoxAnnotation\"}},\"id\":\"15504\",\"type\":\"BoxZoomTool\"},{\"attributes\":{\"source\":{\"id\":\"15528\",\"type\":\"ColumnDataSource\"}},\"id\":\"15532\",\"type\":\"CDSView\"},{\"attributes\":{\"data_source\":{\"id\":\"15554\",\"type\":\"ColumnDataSource\"},\"glyph\":{\"id\":\"15555\",\"type\":\"Line\"},\"hover_glyph\":null,\"muted_glyph\":null,\"nonselection_glyph\":{\"id\":\"15556\",\"type\":\"Line\"},\"selection_glyph\":null,\"view\":{\"id\":\"15558\",\"type\":\"CDSView\"}},\"id\":\"15557\",\"type\":\"GlyphRenderer\"},{\"attributes\":{\"callback\":null,\"data\":{\"x\":[\"2000\",\"2001\",\"2002\",\"2003\",\"2004\",\"2005\",\"2006\",\"2007\",\"2008\",\"2009\",\"2010\",\"2011\",\"2012\",\"2013\",\"2014\",\"2015\",\"2016\",\"2017\"],\"y\":[62.00285200148233,61.620469744868885,61.14403191068359,60.76907335763383,60.71960242654923,60.520143238269135,60.25805585338507,60.06453899155872,59.741276396807486,59.24483539970416,58.9521320250133,58.70718271820256,58.47106962166943,58.31248809672999,58.196266068850925,58.00293977670905,57.74894867391089,57.66588638023179]},\"selected\":{\"id\":\"15569\",\"type\":\"Selection\"},\"selection_policy\":{\"id\":\"15570\",\"type\":\"UnionRenderers\"}},\"id\":\"15533\",\"type\":\"ColumnDataSource\"},{\"attributes\":{},\"id\":\"15505\",\"type\":\"SaveTool\"},{\"attributes\":{},\"id\":\"16113\",\"type\":\"UnionRenderers\"},{\"attributes\":{\"source\":{\"id\":\"15554\",\"type\":\"ColumnDataSource\"}},\"id\":\"15558\",\"type\":\"CDSView\"},{\"attributes\":{\"line_color\":\"#5430F1\",\"x\":{\"field\":\"x\"},\"y\":{\"field\":\"y\"}},\"id\":\"15534\",\"type\":\"Line\"}],\"root_ids\":[\"15481\"]},\"title\":\"Bokeh Application\",\"version\":\"1.3.4\"}};\n",
       "  var render_items = [{\"docid\":\"6276c739-9361-4a88-9661-0c9bdbd2c22d\",\"roots\":{\"15481\":\"fd55c2fb-5329-497b-9d41-ced8821d9769\"}}];\n",
       "  root.Bokeh.embed.embed_items_notebook(docs_json, render_items);\n",
       "\n",
       "  }\n",
       "  if (root.Bokeh !== undefined) {\n",
       "    embed_document(root);\n",
       "  } else {\n",
       "    var attempts = 0;\n",
       "    var timer = setInterval(function(root) {\n",
       "      if (root.Bokeh !== undefined) {\n",
       "        embed_document(root);\n",
       "        clearInterval(timer);\n",
       "      }\n",
       "      attempts++;\n",
       "      if (attempts > 100) {\n",
       "        console.log(\"Bokeh: ERROR: Unable to run BokehJS code because BokehJS library is missing\");\n",
       "        clearInterval(timer);\n",
       "      }\n",
       "    }, 10, root)\n",
       "  }\n",
       "})(window);"
      ],
      "application/vnd.bokehjs_exec.v0+json": ""
     },
     "metadata": {
      "application/vnd.bokehjs_exec.v0+json": {
       "id": "15481"
      }
     },
     "output_type": "display_data"
    }
   ],
   "source": [
    "#Employment to population ratio, 15+, total (%) (modeled ILO estimate)\n",
    "# Age dependency ratio (% of working-age population)\n",
    "years = list(map(str, list(range(2000,2018))))\n",
    "result = show_weighted_average(years, 'SL.EMP.TOTL.SP.ZS', 'SP.POP.TOTL', ['LDCs', 'Developing excluding LDCs', 'OECD'])"
   ]
  },
  {
   "cell_type": "markdown",
   "metadata": {
    "slideshow": {
     "slide_type": "slide"
    }
   },
   "source": [
    "# Some very general ideas"
   ]
  },
  {
   "cell_type": "markdown",
   "metadata": {
    "slideshow": {
     "slide_type": "slide"
    }
   },
   "source": [
    "# The world is becoming increasingly unequal"
   ]
  },
  {
   "cell_type": "markdown",
   "metadata": {
    "slideshow": {
     "slide_type": "slide"
    }
   },
   "source": [
    "# Great progress in certain areas, still an awful lot to do"
   ]
  },
  {
   "cell_type": "markdown",
   "metadata": {
    "slideshow": {
     "slide_type": "slide"
    }
   },
   "source": [
    "# Sustainable development in the LDCs won't happen without addressing gender inequalities"
   ]
  },
  {
   "cell_type": "markdown",
   "metadata": {
    "slideshow": {
     "slide_type": "slide"
    }
   },
   "source": [
    "# The SDGs and other internationally agreed development goals won't happen without accelerated progress in the LDCs."
   ]
  },
  {
   "cell_type": "markdown",
   "metadata": {
    "slideshow": {
     "slide_type": "slide"
    }
   },
   "source": [
    "# Many thanks\n",
    "\n",
    "Let's stay in touch\n",
    "\n",
    "Tomás González\n",
    "gonzalezt@un.org\n"
   ]
  },
  {
   "cell_type": "code",
   "execution_count": null,
   "metadata": {
    "scrolled": true
   },
   "outputs": [],
   "source": []
  }
 ],
 "metadata": {
  "celltoolbar": "Slideshow",
  "kernelspec": {
   "display_name": "Python 3",
   "language": "python",
   "name": "python3"
  },
  "language_info": {
   "codemirror_mode": {
    "name": "ipython",
    "version": 3
   },
   "file_extension": ".py",
   "mimetype": "text/x-python",
   "name": "python",
   "nbconvert_exporter": "python",
   "pygments_lexer": "ipython3",
   "version": "3.7.0"
  },
  "toc": {
   "base_numbering": 1,
   "nav_menu": {},
   "number_sections": true,
   "sideBar": true,
   "skip_h1_title": false,
   "title_cell": "Table of Contents",
   "title_sidebar": "Contents",
   "toc_cell": false,
   "toc_position": {},
   "toc_section_display": true,
   "toc_window_display": false
  }
 },
 "nbformat": 4,
 "nbformat_minor": 2
}
