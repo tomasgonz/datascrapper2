{
 "cells": [
  {
   "cell_type": "code",
   "execution_count": 1,
   "metadata": {
    "slideshow": {
     "slide_type": "slide"
    }
   },
   "outputs": [
    {
     "data": {
      "text/html": [
       "\n",
       "    <div class=\"bk-root\">\n",
       "        <a href=\"https://bokeh.pydata.org\" target=\"_blank\" class=\"bk-logo bk-logo-small bk-logo-notebook\"></a>\n",
       "        <span id=\"1001\">Loading BokehJS ...</span>\n",
       "    </div>"
      ]
     },
     "metadata": {},
     "output_type": "display_data"
    },
    {
     "data": {
      "application/javascript": [
       "\n",
       "(function(root) {\n",
       "  function now() {\n",
       "    return new Date();\n",
       "  }\n",
       "\n",
       "  var force = true;\n",
       "\n",
       "  if (typeof root._bokeh_onload_callbacks === \"undefined\" || force === true) {\n",
       "    root._bokeh_onload_callbacks = [];\n",
       "    root._bokeh_is_loading = undefined;\n",
       "  }\n",
       "\n",
       "  var JS_MIME_TYPE = 'application/javascript';\n",
       "  var HTML_MIME_TYPE = 'text/html';\n",
       "  var EXEC_MIME_TYPE = 'application/vnd.bokehjs_exec.v0+json';\n",
       "  var CLASS_NAME = 'output_bokeh rendered_html';\n",
       "\n",
       "  /**\n",
       "   * Render data to the DOM node\n",
       "   */\n",
       "  function render(props, node) {\n",
       "    var script = document.createElement(\"script\");\n",
       "    node.appendChild(script);\n",
       "  }\n",
       "\n",
       "  /**\n",
       "   * Handle when an output is cleared or removed\n",
       "   */\n",
       "  function handleClearOutput(event, handle) {\n",
       "    var cell = handle.cell;\n",
       "\n",
       "    var id = cell.output_area._bokeh_element_id;\n",
       "    var server_id = cell.output_area._bokeh_server_id;\n",
       "    // Clean up Bokeh references\n",
       "    if (id != null && id in Bokeh.index) {\n",
       "      Bokeh.index[id].model.document.clear();\n",
       "      delete Bokeh.index[id];\n",
       "    }\n",
       "\n",
       "    if (server_id !== undefined) {\n",
       "      // Clean up Bokeh references\n",
       "      var cmd = \"from bokeh.io.state import curstate; print(curstate().uuid_to_server['\" + server_id + \"'].get_sessions()[0].document.roots[0]._id)\";\n",
       "      cell.notebook.kernel.execute(cmd, {\n",
       "        iopub: {\n",
       "          output: function(msg) {\n",
       "            var id = msg.content.text.trim();\n",
       "            if (id in Bokeh.index) {\n",
       "              Bokeh.index[id].model.document.clear();\n",
       "              delete Bokeh.index[id];\n",
       "            }\n",
       "          }\n",
       "        }\n",
       "      });\n",
       "      // Destroy server and session\n",
       "      var cmd = \"import bokeh.io.notebook as ion; ion.destroy_server('\" + server_id + \"')\";\n",
       "      cell.notebook.kernel.execute(cmd);\n",
       "    }\n",
       "  }\n",
       "\n",
       "  /**\n",
       "   * Handle when a new output is added\n",
       "   */\n",
       "  function handleAddOutput(event, handle) {\n",
       "    var output_area = handle.output_area;\n",
       "    var output = handle.output;\n",
       "\n",
       "    // limit handleAddOutput to display_data with EXEC_MIME_TYPE content only\n",
       "    if ((output.output_type != \"display_data\") || (!output.data.hasOwnProperty(EXEC_MIME_TYPE))) {\n",
       "      return\n",
       "    }\n",
       "\n",
       "    var toinsert = output_area.element.find(\".\" + CLASS_NAME.split(' ')[0]);\n",
       "\n",
       "    if (output.metadata[EXEC_MIME_TYPE][\"id\"] !== undefined) {\n",
       "      toinsert[toinsert.length - 1].firstChild.textContent = output.data[JS_MIME_TYPE];\n",
       "      // store reference to embed id on output_area\n",
       "      output_area._bokeh_element_id = output.metadata[EXEC_MIME_TYPE][\"id\"];\n",
       "    }\n",
       "    if (output.metadata[EXEC_MIME_TYPE][\"server_id\"] !== undefined) {\n",
       "      var bk_div = document.createElement(\"div\");\n",
       "      bk_div.innerHTML = output.data[HTML_MIME_TYPE];\n",
       "      var script_attrs = bk_div.children[0].attributes;\n",
       "      for (var i = 0; i < script_attrs.length; i++) {\n",
       "        toinsert[toinsert.length - 1].firstChild.setAttribute(script_attrs[i].name, script_attrs[i].value);\n",
       "      }\n",
       "      // store reference to server id on output_area\n",
       "      output_area._bokeh_server_id = output.metadata[EXEC_MIME_TYPE][\"server_id\"];\n",
       "    }\n",
       "  }\n",
       "\n",
       "  function register_renderer(events, OutputArea) {\n",
       "\n",
       "    function append_mime(data, metadata, element) {\n",
       "      // create a DOM node to render to\n",
       "      var toinsert = this.create_output_subarea(\n",
       "        metadata,\n",
       "        CLASS_NAME,\n",
       "        EXEC_MIME_TYPE\n",
       "      );\n",
       "      this.keyboard_manager.register_events(toinsert);\n",
       "      // Render to node\n",
       "      var props = {data: data, metadata: metadata[EXEC_MIME_TYPE]};\n",
       "      render(props, toinsert[toinsert.length - 1]);\n",
       "      element.append(toinsert);\n",
       "      return toinsert\n",
       "    }\n",
       "\n",
       "    /* Handle when an output is cleared or removed */\n",
       "    events.on('clear_output.CodeCell', handleClearOutput);\n",
       "    events.on('delete.Cell', handleClearOutput);\n",
       "\n",
       "    /* Handle when a new output is added */\n",
       "    events.on('output_added.OutputArea', handleAddOutput);\n",
       "\n",
       "    /**\n",
       "     * Register the mime type and append_mime function with output_area\n",
       "     */\n",
       "    OutputArea.prototype.register_mime_type(EXEC_MIME_TYPE, append_mime, {\n",
       "      /* Is output safe? */\n",
       "      safe: true,\n",
       "      /* Index of renderer in `output_area.display_order` */\n",
       "      index: 0\n",
       "    });\n",
       "  }\n",
       "\n",
       "  // register the mime type if in Jupyter Notebook environment and previously unregistered\n",
       "  if (root.Jupyter !== undefined) {\n",
       "    var events = require('base/js/events');\n",
       "    var OutputArea = require('notebook/js/outputarea').OutputArea;\n",
       "\n",
       "    if (OutputArea.prototype.mime_types().indexOf(EXEC_MIME_TYPE) == -1) {\n",
       "      register_renderer(events, OutputArea);\n",
       "    }\n",
       "  }\n",
       "\n",
       "  \n",
       "  if (typeof (root._bokeh_timeout) === \"undefined\" || force === true) {\n",
       "    root._bokeh_timeout = Date.now() + 5000;\n",
       "    root._bokeh_failed_load = false;\n",
       "  }\n",
       "\n",
       "  var NB_LOAD_WARNING = {'data': {'text/html':\n",
       "     \"<div style='background-color: #fdd'>\\n\"+\n",
       "     \"<p>\\n\"+\n",
       "     \"BokehJS does not appear to have successfully loaded. If loading BokehJS from CDN, this \\n\"+\n",
       "     \"may be due to a slow or bad network connection. Possible fixes:\\n\"+\n",
       "     \"</p>\\n\"+\n",
       "     \"<ul>\\n\"+\n",
       "     \"<li>re-rerun `output_notebook()` to attempt to load from CDN again, or</li>\\n\"+\n",
       "     \"<li>use INLINE resources instead, as so:</li>\\n\"+\n",
       "     \"</ul>\\n\"+\n",
       "     \"<code>\\n\"+\n",
       "     \"from bokeh.resources import INLINE\\n\"+\n",
       "     \"output_notebook(resources=INLINE)\\n\"+\n",
       "     \"</code>\\n\"+\n",
       "     \"</div>\"}};\n",
       "\n",
       "  function display_loaded() {\n",
       "    var el = document.getElementById(\"1001\");\n",
       "    if (el != null) {\n",
       "      el.textContent = \"BokehJS is loading...\";\n",
       "    }\n",
       "    if (root.Bokeh !== undefined) {\n",
       "      if (el != null) {\n",
       "        el.textContent = \"BokehJS \" + root.Bokeh.version + \" successfully loaded.\";\n",
       "      }\n",
       "    } else if (Date.now() < root._bokeh_timeout) {\n",
       "      setTimeout(display_loaded, 100)\n",
       "    }\n",
       "  }\n",
       "\n",
       "\n",
       "  function run_callbacks() {\n",
       "    try {\n",
       "      root._bokeh_onload_callbacks.forEach(function(callback) {\n",
       "        if (callback != null)\n",
       "          callback();\n",
       "      });\n",
       "    } finally {\n",
       "      delete root._bokeh_onload_callbacks\n",
       "    }\n",
       "    console.debug(\"Bokeh: all callbacks have finished\");\n",
       "  }\n",
       "\n",
       "  function load_libs(css_urls, js_urls, callback) {\n",
       "    if (css_urls == null) css_urls = [];\n",
       "    if (js_urls == null) js_urls = [];\n",
       "\n",
       "    root._bokeh_onload_callbacks.push(callback);\n",
       "    if (root._bokeh_is_loading > 0) {\n",
       "      console.debug(\"Bokeh: BokehJS is being loaded, scheduling callback at\", now());\n",
       "      return null;\n",
       "    }\n",
       "    if (js_urls == null || js_urls.length === 0) {\n",
       "      run_callbacks();\n",
       "      return null;\n",
       "    }\n",
       "    console.debug(\"Bokeh: BokehJS not loaded, scheduling load and callback at\", now());\n",
       "    root._bokeh_is_loading = css_urls.length + js_urls.length;\n",
       "\n",
       "    function on_load() {\n",
       "      root._bokeh_is_loading--;\n",
       "      if (root._bokeh_is_loading === 0) {\n",
       "        console.debug(\"Bokeh: all BokehJS libraries/stylesheets loaded\");\n",
       "        run_callbacks()\n",
       "      }\n",
       "    }\n",
       "\n",
       "    function on_error() {\n",
       "      console.error(\"failed to load \" + url);\n",
       "    }\n",
       "\n",
       "    for (var i = 0; i < css_urls.length; i++) {\n",
       "      var url = css_urls[i];\n",
       "      const element = document.createElement(\"link\");\n",
       "      element.onload = on_load;\n",
       "      element.onerror = on_error;\n",
       "      element.rel = \"stylesheet\";\n",
       "      element.type = \"text/css\";\n",
       "      element.href = url;\n",
       "      console.debug(\"Bokeh: injecting link tag for BokehJS stylesheet: \", url);\n",
       "      document.body.appendChild(element);\n",
       "    }\n",
       "\n",
       "    for (var i = 0; i < js_urls.length; i++) {\n",
       "      var url = js_urls[i];\n",
       "      var element = document.createElement('script');\n",
       "      element.onload = on_load;\n",
       "      element.onerror = on_error;\n",
       "      element.async = false;\n",
       "      element.src = url;\n",
       "      console.debug(\"Bokeh: injecting script tag for BokehJS library: \", url);\n",
       "      document.head.appendChild(element);\n",
       "    }\n",
       "  };var element = document.getElementById(\"1001\");\n",
       "  if (element == null) {\n",
       "    console.error(\"Bokeh: ERROR: autoload.js configured with elementid '1001' but no matching script tag was found. \")\n",
       "    return false;\n",
       "  }\n",
       "\n",
       "  function inject_raw_css(css) {\n",
       "    const element = document.createElement(\"style\");\n",
       "    element.appendChild(document.createTextNode(css));\n",
       "    document.body.appendChild(element);\n",
       "  }\n",
       "\n",
       "  var js_urls = [\"https://cdn.pydata.org/bokeh/release/bokeh-1.3.4.min.js\", \"https://cdn.pydata.org/bokeh/release/bokeh-widgets-1.3.4.min.js\", \"https://cdn.pydata.org/bokeh/release/bokeh-tables-1.3.4.min.js\", \"https://cdn.pydata.org/bokeh/release/bokeh-gl-1.3.4.min.js\"];\n",
       "  var css_urls = [];\n",
       "\n",
       "  var inline_js = [\n",
       "    function(Bokeh) {\n",
       "      Bokeh.set_log_level(\"info\");\n",
       "    },\n",
       "    \n",
       "    function(Bokeh) {\n",
       "      \n",
       "    },\n",
       "    function(Bokeh) {} // ensure no trailing comma for IE\n",
       "  ];\n",
       "\n",
       "  function run_inline_js() {\n",
       "    \n",
       "    if ((root.Bokeh !== undefined) || (force === true)) {\n",
       "      for (var i = 0; i < inline_js.length; i++) {\n",
       "        inline_js[i].call(root, root.Bokeh);\n",
       "      }if (force === true) {\n",
       "        display_loaded();\n",
       "      }} else if (Date.now() < root._bokeh_timeout) {\n",
       "      setTimeout(run_inline_js, 100);\n",
       "    } else if (!root._bokeh_failed_load) {\n",
       "      console.log(\"Bokeh: BokehJS failed to load within specified timeout.\");\n",
       "      root._bokeh_failed_load = true;\n",
       "    } else if (force !== true) {\n",
       "      var cell = $(document.getElementById(\"1001\")).parents('.cell').data().cell;\n",
       "      cell.output_area.append_execute_result(NB_LOAD_WARNING)\n",
       "    }\n",
       "\n",
       "  }\n",
       "\n",
       "  if (root._bokeh_is_loading === 0) {\n",
       "    console.debug(\"Bokeh: BokehJS loaded, going straight to plotting\");\n",
       "    run_inline_js();\n",
       "  } else {\n",
       "    load_libs(css_urls, js_urls, function() {\n",
       "      console.debug(\"Bokeh: BokehJS plotting callback run at\", now());\n",
       "      run_inline_js();\n",
       "    });\n",
       "  }\n",
       "}(window));"
      ],
      "application/vnd.bokehjs_load.v0+json": "\n(function(root) {\n  function now() {\n    return new Date();\n  }\n\n  var force = true;\n\n  if (typeof root._bokeh_onload_callbacks === \"undefined\" || force === true) {\n    root._bokeh_onload_callbacks = [];\n    root._bokeh_is_loading = undefined;\n  }\n\n  \n\n  \n  if (typeof (root._bokeh_timeout) === \"undefined\" || force === true) {\n    root._bokeh_timeout = Date.now() + 5000;\n    root._bokeh_failed_load = false;\n  }\n\n  var NB_LOAD_WARNING = {'data': {'text/html':\n     \"<div style='background-color: #fdd'>\\n\"+\n     \"<p>\\n\"+\n     \"BokehJS does not appear to have successfully loaded. If loading BokehJS from CDN, this \\n\"+\n     \"may be due to a slow or bad network connection. Possible fixes:\\n\"+\n     \"</p>\\n\"+\n     \"<ul>\\n\"+\n     \"<li>re-rerun `output_notebook()` to attempt to load from CDN again, or</li>\\n\"+\n     \"<li>use INLINE resources instead, as so:</li>\\n\"+\n     \"</ul>\\n\"+\n     \"<code>\\n\"+\n     \"from bokeh.resources import INLINE\\n\"+\n     \"output_notebook(resources=INLINE)\\n\"+\n     \"</code>\\n\"+\n     \"</div>\"}};\n\n  function display_loaded() {\n    var el = document.getElementById(\"1001\");\n    if (el != null) {\n      el.textContent = \"BokehJS is loading...\";\n    }\n    if (root.Bokeh !== undefined) {\n      if (el != null) {\n        el.textContent = \"BokehJS \" + root.Bokeh.version + \" successfully loaded.\";\n      }\n    } else if (Date.now() < root._bokeh_timeout) {\n      setTimeout(display_loaded, 100)\n    }\n  }\n\n\n  function run_callbacks() {\n    try {\n      root._bokeh_onload_callbacks.forEach(function(callback) {\n        if (callback != null)\n          callback();\n      });\n    } finally {\n      delete root._bokeh_onload_callbacks\n    }\n    console.debug(\"Bokeh: all callbacks have finished\");\n  }\n\n  function load_libs(css_urls, js_urls, callback) {\n    if (css_urls == null) css_urls = [];\n    if (js_urls == null) js_urls = [];\n\n    root._bokeh_onload_callbacks.push(callback);\n    if (root._bokeh_is_loading > 0) {\n      console.debug(\"Bokeh: BokehJS is being loaded, scheduling callback at\", now());\n      return null;\n    }\n    if (js_urls == null || js_urls.length === 0) {\n      run_callbacks();\n      return null;\n    }\n    console.debug(\"Bokeh: BokehJS not loaded, scheduling load and callback at\", now());\n    root._bokeh_is_loading = css_urls.length + js_urls.length;\n\n    function on_load() {\n      root._bokeh_is_loading--;\n      if (root._bokeh_is_loading === 0) {\n        console.debug(\"Bokeh: all BokehJS libraries/stylesheets loaded\");\n        run_callbacks()\n      }\n    }\n\n    function on_error() {\n      console.error(\"failed to load \" + url);\n    }\n\n    for (var i = 0; i < css_urls.length; i++) {\n      var url = css_urls[i];\n      const element = document.createElement(\"link\");\n      element.onload = on_load;\n      element.onerror = on_error;\n      element.rel = \"stylesheet\";\n      element.type = \"text/css\";\n      element.href = url;\n      console.debug(\"Bokeh: injecting link tag for BokehJS stylesheet: \", url);\n      document.body.appendChild(element);\n    }\n\n    for (var i = 0; i < js_urls.length; i++) {\n      var url = js_urls[i];\n      var element = document.createElement('script');\n      element.onload = on_load;\n      element.onerror = on_error;\n      element.async = false;\n      element.src = url;\n      console.debug(\"Bokeh: injecting script tag for BokehJS library: \", url);\n      document.head.appendChild(element);\n    }\n  };var element = document.getElementById(\"1001\");\n  if (element == null) {\n    console.error(\"Bokeh: ERROR: autoload.js configured with elementid '1001' but no matching script tag was found. \")\n    return false;\n  }\n\n  function inject_raw_css(css) {\n    const element = document.createElement(\"style\");\n    element.appendChild(document.createTextNode(css));\n    document.body.appendChild(element);\n  }\n\n  var js_urls = [\"https://cdn.pydata.org/bokeh/release/bokeh-1.3.4.min.js\", \"https://cdn.pydata.org/bokeh/release/bokeh-widgets-1.3.4.min.js\", \"https://cdn.pydata.org/bokeh/release/bokeh-tables-1.3.4.min.js\", \"https://cdn.pydata.org/bokeh/release/bokeh-gl-1.3.4.min.js\"];\n  var css_urls = [];\n\n  var inline_js = [\n    function(Bokeh) {\n      Bokeh.set_log_level(\"info\");\n    },\n    \n    function(Bokeh) {\n      \n    },\n    function(Bokeh) {} // ensure no trailing comma for IE\n  ];\n\n  function run_inline_js() {\n    \n    if ((root.Bokeh !== undefined) || (force === true)) {\n      for (var i = 0; i < inline_js.length; i++) {\n        inline_js[i].call(root, root.Bokeh);\n      }if (force === true) {\n        display_loaded();\n      }} else if (Date.now() < root._bokeh_timeout) {\n      setTimeout(run_inline_js, 100);\n    } else if (!root._bokeh_failed_load) {\n      console.log(\"Bokeh: BokehJS failed to load within specified timeout.\");\n      root._bokeh_failed_load = true;\n    } else if (force !== true) {\n      var cell = $(document.getElementById(\"1001\")).parents('.cell').data().cell;\n      cell.output_area.append_execute_result(NB_LOAD_WARNING)\n    }\n\n  }\n\n  if (root._bokeh_is_loading === 0) {\n    console.debug(\"Bokeh: BokehJS loaded, going straight to plotting\");\n    run_inline_js();\n  } else {\n    load_libs(css_urls, js_urls, function() {\n      console.debug(\"Bokeh: BokehJS plotting callback run at\", now());\n      run_inline_js();\n    });\n  }\n}(window));"
     },
     "metadata": {},
     "output_type": "display_data"
    }
   ],
   "source": [
    "import sys\n",
    "sys.path.append(\"../../\")\n",
    "from data.Frame import Frame\n",
    "from bk import show_weighted_average, show_group_total, get_pandas_dataframe, line_chart\n",
    "from bokeh.io import output_notebook\n",
    "from bokeh.plotting import figure, output_file, show, reset_output\n",
    "from sources.unpd.indicators import get_projection_by_groups as gpp\n",
    "reset_output()\n",
    "output_notebook()"
   ]
  },
  {
   "cell_type": "markdown",
   "metadata": {
    "slideshow": {
     "slide_type": "slide"
    }
   },
   "source": [
    "# Human and Social development in the LDCs"
   ]
  },
  {
   "cell_type": "markdown",
   "metadata": {
    "slideshow": {
     "slide_type": "slide"
    }
   },
   "source": [
    "+ Population and primary health\n",
    "+ Education and training\n",
    "+ Youth development\n",
    "+ Shelter, water and sanitation\n",
    "+ Gender equality and the empowerment of women\n",
    "+ Social protection"
   ]
  },
  {
   "cell_type": "markdown",
   "metadata": {},
   "source": [
    "# Population and primary health"
   ]
  },
  {
   "cell_type": "code",
   "execution_count": 3,
   "metadata": {},
   "outputs": [
    {
     "data": {
      "text/html": [
       "\n",
       "\n",
       "\n",
       "\n",
       "\n",
       "\n",
       "  <div class=\"bk-root\" id=\"5637bdeb-d787-4ed8-b418-8d2be63fd099\" data-root-id=\"1228\"></div>\n"
      ]
     },
     "metadata": {},
     "output_type": "display_data"
    },
    {
     "data": {
      "application/javascript": [
       "(function(root) {\n",
       "  function embed_document(root) {\n",
       "    \n",
       "  var docs_json = {\"331c3ecb-2694-4d25-b731-7ea443b817fb\":{\"roots\":{\"references\":[{\"attributes\":{\"below\":[{\"id\":\"1239\",\"type\":\"LinearAxis\"}],\"center\":[{\"id\":\"1243\",\"type\":\"Grid\"},{\"id\":\"1248\",\"type\":\"Grid\"},{\"id\":\"1273\",\"type\":\"Legend\"}],\"left\":[{\"id\":\"1244\",\"type\":\"LinearAxis\"}],\"plot_height\":400,\"plot_width\":950,\"renderers\":[{\"id\":\"1265\",\"type\":\"GlyphRenderer\"},{\"id\":\"1278\",\"type\":\"GlyphRenderer\"}],\"title\":{\"id\":\"1229\",\"type\":\"Title\"},\"toolbar\":{\"id\":\"1255\",\"type\":\"Toolbar\"},\"x_range\":{\"id\":\"1231\",\"type\":\"DataRange1d\"},\"x_scale\":{\"id\":\"1235\",\"type\":\"LinearScale\"},\"y_range\":{\"id\":\"1233\",\"type\":\"DataRange1d\"},\"y_scale\":{\"id\":\"1237\",\"type\":\"LinearScale\"}},\"id\":\"1228\",\"subtype\":\"Figure\",\"type\":\"Plot\"},{\"attributes\":{\"callback\":null},\"id\":\"1233\",\"type\":\"DataRange1d\"},{\"attributes\":{},\"id\":\"1309\",\"type\":\"Selection\"},{\"attributes\":{\"active_drag\":\"auto\",\"active_inspect\":\"auto\",\"active_multi\":null,\"active_scroll\":\"auto\",\"active_tap\":\"auto\",\"tools\":[{\"id\":\"1249\",\"type\":\"PanTool\"},{\"id\":\"1250\",\"type\":\"WheelZoomTool\"},{\"id\":\"1251\",\"type\":\"BoxZoomTool\"},{\"id\":\"1252\",\"type\":\"SaveTool\"},{\"id\":\"1253\",\"type\":\"ResetTool\"},{\"id\":\"1254\",\"type\":\"HelpTool\"},{\"id\":\"1280\",\"type\":\"HoverTool\"}]},\"id\":\"1255\",\"type\":\"Toolbar\"},{\"attributes\":{},\"id\":\"1235\",\"type\":\"LinearScale\"},{\"attributes\":{},\"id\":\"1237\",\"type\":\"LinearScale\"},{\"attributes\":{\"data_source\":{\"id\":\"1262\",\"type\":\"ColumnDataSource\"},\"glyph\":{\"id\":\"1263\",\"type\":\"Line\"},\"hover_glyph\":null,\"muted_glyph\":null,\"nonselection_glyph\":{\"id\":\"1264\",\"type\":\"Line\"},\"selection_glyph\":null,\"view\":{\"id\":\"1266\",\"type\":\"CDSView\"}},\"id\":\"1265\",\"type\":\"GlyphRenderer\"},{\"attributes\":{\"source\":{\"id\":\"1262\",\"type\":\"ColumnDataSource\"}},\"id\":\"1266\",\"type\":\"CDSView\"},{\"attributes\":{\"axis_label\":\"Years\",\"formatter\":{\"id\":\"1271\",\"type\":\"BasicTickFormatter\"},\"ticker\":{\"id\":\"1240\",\"type\":\"BasicTicker\"}},\"id\":\"1239\",\"type\":\"LinearAxis\"},{\"attributes\":{},\"id\":\"1269\",\"type\":\"BasicTickFormatter\"},{\"attributes\":{},\"id\":\"1240\",\"type\":\"BasicTicker\"},{\"attributes\":{\"line_alpha\":0.1,\"line_color\":\"#1f77b4\",\"line_width\":2,\"x\":{\"field\":\"x\"},\"y\":{\"field\":\"y\"}},\"id\":\"1264\",\"type\":\"Line\"},{\"attributes\":{\"ticker\":{\"id\":\"1240\",\"type\":\"BasicTicker\"}},\"id\":\"1243\",\"type\":\"Grid\"},{\"attributes\":{},\"id\":\"1271\",\"type\":\"BasicTickFormatter\"},{\"attributes\":{\"bottom_units\":\"screen\",\"fill_alpha\":{\"value\":0.5},\"fill_color\":{\"value\":\"lightgrey\"},\"left_units\":\"screen\",\"level\":\"overlay\",\"line_alpha\":{\"value\":1.0},\"line_color\":{\"value\":\"black\"},\"line_dash\":[4,4],\"line_width\":{\"value\":2},\"render_mode\":\"css\",\"right_units\":\"screen\",\"top_units\":\"screen\"},\"id\":\"1272\",\"type\":\"BoxAnnotation\"},{\"attributes\":{\"axis_label\":\"Percentage\",\"formatter\":{\"id\":\"1269\",\"type\":\"BasicTickFormatter\"},\"ticker\":{\"id\":\"1245\",\"type\":\"BasicTicker\"}},\"id\":\"1244\",\"type\":\"LinearAxis\"},{\"attributes\":{\"items\":[{\"id\":\"1274\",\"type\":\"LegendItem\"}],\"location\":\"bottom_left\"},\"id\":\"1273\",\"type\":\"Legend\"},{\"attributes\":{},\"id\":\"1245\",\"type\":\"BasicTicker\"},{\"attributes\":{\"label\":{\"value\":\"LDCs\"},\"renderers\":[{\"id\":\"1265\",\"type\":\"GlyphRenderer\"}]},\"id\":\"1274\",\"type\":\"LegendItem\"},{\"attributes\":{\"dimension\":1,\"ticker\":{\"id\":\"1245\",\"type\":\"BasicTicker\"}},\"id\":\"1248\",\"type\":\"Grid\"},{\"attributes\":{\"callback\":null,\"data\":{\"x\":[\"1960\",\"1961\",\"1962\",\"1963\",\"1964\",\"1965\",\"1966\",\"1967\",\"1968\",\"1969\",\"1970\",\"1971\",\"1972\",\"1973\",\"1974\",\"1975\",\"1976\",\"1977\",\"1978\",\"1979\",\"1980\",\"1981\",\"1982\",\"1983\",\"1984\",\"1985\",\"1986\",\"1987\",\"1988\",\"1989\",\"1990\",\"1991\",\"1992\",\"1993\",\"1994\",\"1995\",\"1996\",\"1997\",\"1998\",\"1999\",\"2000\",\"2001\",\"2002\",\"2003\",\"2004\",\"2005\",\"2006\",\"2007\",\"2008\",\"2009\",\"2010\",\"2011\",\"2012\",\"2013\",\"2014\",\"2015\",\"2016\",\"2017\"],\"y\":[240518433.0,246113640.0,251900741.0,257908074.0,264174179.0,270720892.0,277573029.0,284708409.0,292045744.0,299473256.0,306916896.0,314344629.0,321797581.0,329357353.0,337142681.0,345242710.0,353691338.0,362475112.0,371577256.0,380963304.0,390612563.0,400528924.0,410740611.0,421279107.0,432185325.0,443491288.0,455193656.0,467290514.0,479814021.0,492803028.0,506275612.0,520262423.0,534731006.0,549559264.0,564581083.0,579681672.0,594801259.0,609983301.0,625342098.0,641046802.0,657215864.0,673903112.0,691061397.0,708587948.0,726331177.0,744190510.0,762132501.0,780219542.0,798563392.0,817322629.0,836614860.0,856472234.0,873619764.0,894516028.0,915914952.0,937788499.0,960134718.0,982952189.0]},\"selected\":{\"id\":\"1309\",\"type\":\"Selection\"},\"selection_policy\":{\"id\":\"1308\",\"type\":\"UnionRenderers\"}},\"id\":\"1275\",\"type\":\"ColumnDataSource\"},{\"attributes\":{\"line_color\":\"red\",\"line_width\":2,\"x\":{\"field\":\"x\"},\"y\":{\"field\":\"y\"}},\"id\":\"1263\",\"type\":\"Line\"},{\"attributes\":{\"fill_color\":{\"value\":\"red\"},\"line_color\":{\"value\":\"red\"},\"line_width\":{\"value\":3},\"x\":{\"field\":\"x\"},\"y\":{\"field\":\"y\"}},\"id\":\"1276\",\"type\":\"Circle\"},{\"attributes\":{\"callback\":null,\"tooltips\":\"\\n        <div style=padding=5px>Year:@x</div>\\n        <div style=padding=5px>Value:@y</div>\\n        \"},\"id\":\"1280\",\"type\":\"HoverTool\"},{\"attributes\":{\"callback\":null,\"data\":{\"x\":[\"1960\",\"1961\",\"1962\",\"1963\",\"1964\",\"1965\",\"1966\",\"1967\",\"1968\",\"1969\",\"1970\",\"1971\",\"1972\",\"1973\",\"1974\",\"1975\",\"1976\",\"1977\",\"1978\",\"1979\",\"1980\",\"1981\",\"1982\",\"1983\",\"1984\",\"1985\",\"1986\",\"1987\",\"1988\",\"1989\",\"1990\",\"1991\",\"1992\",\"1993\",\"1994\",\"1995\",\"1996\",\"1997\",\"1998\",\"1999\",\"2000\",\"2001\",\"2002\",\"2003\",\"2004\",\"2005\",\"2006\",\"2007\",\"2008\",\"2009\",\"2010\",\"2011\",\"2012\",\"2013\",\"2014\",\"2015\",\"2016\",\"2017\"],\"y\":[240518433.0,246113640.0,251900741.0,257908074.0,264174179.0,270720892.0,277573029.0,284708409.0,292045744.0,299473256.0,306916896.0,314344629.0,321797581.0,329357353.0,337142681.0,345242710.0,353691338.0,362475112.0,371577256.0,380963304.0,390612563.0,400528924.0,410740611.0,421279107.0,432185325.0,443491288.0,455193656.0,467290514.0,479814021.0,492803028.0,506275612.0,520262423.0,534731006.0,549559264.0,564581083.0,579681672.0,594801259.0,609983301.0,625342098.0,641046802.0,657215864.0,673903112.0,691061397.0,708587948.0,726331177.0,744190510.0,762132501.0,780219542.0,798563392.0,817322629.0,836614860.0,856472234.0,873619764.0,894516028.0,915914952.0,937788499.0,960134718.0,982952189.0]},\"selected\":{\"id\":\"1307\",\"type\":\"Selection\"},\"selection_policy\":{\"id\":\"1306\",\"type\":\"UnionRenderers\"}},\"id\":\"1262\",\"type\":\"ColumnDataSource\"},{\"attributes\":{\"fill_alpha\":{\"value\":0.1},\"fill_color\":{\"value\":\"#1f77b4\"},\"line_alpha\":{\"value\":0.1},\"line_color\":{\"value\":\"#1f77b4\"},\"line_width\":{\"value\":3},\"x\":{\"field\":\"x\"},\"y\":{\"field\":\"y\"}},\"id\":\"1277\",\"type\":\"Circle\"},{\"attributes\":{},\"id\":\"1249\",\"type\":\"PanTool\"},{\"attributes\":{\"data_source\":{\"id\":\"1275\",\"type\":\"ColumnDataSource\"},\"glyph\":{\"id\":\"1276\",\"type\":\"Circle\"},\"hover_glyph\":null,\"muted_glyph\":null,\"nonselection_glyph\":{\"id\":\"1277\",\"type\":\"Circle\"},\"selection_glyph\":null,\"view\":{\"id\":\"1279\",\"type\":\"CDSView\"}},\"id\":\"1278\",\"type\":\"GlyphRenderer\"},{\"attributes\":{\"text\":\"Population, total\"},\"id\":\"1229\",\"type\":\"Title\"},{\"attributes\":{},\"id\":\"1250\",\"type\":\"WheelZoomTool\"},{\"attributes\":{\"source\":{\"id\":\"1275\",\"type\":\"ColumnDataSource\"}},\"id\":\"1279\",\"type\":\"CDSView\"},{\"attributes\":{\"overlay\":{\"id\":\"1272\",\"type\":\"BoxAnnotation\"}},\"id\":\"1251\",\"type\":\"BoxZoomTool\"},{\"attributes\":{},\"id\":\"1252\",\"type\":\"SaveTool\"},{\"attributes\":{},\"id\":\"1306\",\"type\":\"UnionRenderers\"},{\"attributes\":{},\"id\":\"1253\",\"type\":\"ResetTool\"},{\"attributes\":{},\"id\":\"1308\",\"type\":\"UnionRenderers\"},{\"attributes\":{},\"id\":\"1307\",\"type\":\"Selection\"},{\"attributes\":{},\"id\":\"1254\",\"type\":\"HelpTool\"},{\"attributes\":{\"callback\":null},\"id\":\"1231\",\"type\":\"DataRange1d\"}],\"root_ids\":[\"1228\"]},\"title\":\"Bokeh Application\",\"version\":\"1.3.4\"}};\n",
       "  var render_items = [{\"docid\":\"331c3ecb-2694-4d25-b731-7ea443b817fb\",\"roots\":{\"1228\":\"5637bdeb-d787-4ed8-b418-8d2be63fd099\"}}];\n",
       "  root.Bokeh.embed.embed_items_notebook(docs_json, render_items);\n",
       "\n",
       "  }\n",
       "  if (root.Bokeh !== undefined) {\n",
       "    embed_document(root);\n",
       "  } else {\n",
       "    var attempts = 0;\n",
       "    var timer = setInterval(function(root) {\n",
       "      if (root.Bokeh !== undefined) {\n",
       "        embed_document(root);\n",
       "        clearInterval(timer);\n",
       "      }\n",
       "      attempts++;\n",
       "      if (attempts > 100) {\n",
       "        console.log(\"Bokeh: ERROR: Unable to run BokehJS code because BokehJS library is missing\");\n",
       "        clearInterval(timer);\n",
       "      }\n",
       "    }, 10, root)\n",
       "  }\n",
       "})(window);"
      ],
      "application/vnd.bokehjs_exec.v0+json": ""
     },
     "metadata": {
      "application/vnd.bokehjs_exec.v0+json": {
       "id": "1228"
      }
     },
     "output_type": "display_data"
    }
   ],
   "source": [
    "years = list(map(str, list(range(1960,2018))))\n",
    "result = show_group_total(years, 'SP.POP.TOTL', ['LDCs'])"
   ]
  },
  {
   "cell_type": "code",
   "execution_count": 19,
   "metadata": {},
   "outputs": [
    {
     "data": {
      "text/html": [
       "\n",
       "\n",
       "\n",
       "\n",
       "\n",
       "\n",
       "  <div class=\"bk-root\" id=\"e7da1140-47db-4836-b6bf-d7cb7938eca9\" data-root-id=\"6696\"></div>\n"
      ]
     },
     "metadata": {},
     "output_type": "display_data"
    },
    {
     "data": {
      "application/javascript": [
       "(function(root) {\n",
       "  function embed_document(root) {\n",
       "    \n",
       "  var docs_json = {\"df9f230b-36f5-491d-b640-ac4b6beb66f5\":{\"roots\":{\"references\":[{\"attributes\":{\"below\":[{\"id\":\"6707\",\"type\":\"LinearAxis\"}],\"center\":[{\"id\":\"6711\",\"type\":\"Grid\"},{\"id\":\"6716\",\"type\":\"Grid\"},{\"id\":\"6741\",\"type\":\"Legend\"}],\"left\":[{\"id\":\"6712\",\"type\":\"LinearAxis\"}],\"plot_height\":400,\"plot_width\":950,\"renderers\":[{\"id\":\"6733\",\"type\":\"GlyphRenderer\"},{\"id\":\"6746\",\"type\":\"GlyphRenderer\"},{\"id\":\"6751\",\"type\":\"GlyphRenderer\"},{\"id\":\"6767\",\"type\":\"GlyphRenderer\"},{\"id\":\"6772\",\"type\":\"GlyphRenderer\"},{\"id\":\"6792\",\"type\":\"GlyphRenderer\"}],\"title\":{\"id\":\"6697\",\"type\":\"Title\"},\"toolbar\":{\"id\":\"6723\",\"type\":\"Toolbar\"},\"x_range\":{\"id\":\"6699\",\"type\":\"DataRange1d\"},\"x_scale\":{\"id\":\"6703\",\"type\":\"LinearScale\"},\"y_range\":{\"id\":\"6701\",\"type\":\"DataRange1d\"},\"y_scale\":{\"id\":\"6705\",\"type\":\"LinearScale\"}},\"id\":\"6696\",\"subtype\":\"Figure\",\"type\":\"Plot\"},{\"attributes\":{},\"id\":\"7084\",\"type\":\"UnionRenderers\"},{\"attributes\":{\"fill_alpha\":{\"value\":0.1},\"fill_color\":{\"value\":\"#1f77b4\"},\"line_alpha\":{\"value\":0.1},\"line_color\":{\"value\":\"#1f77b4\"},\"line_width\":{\"value\":3},\"x\":{\"field\":\"x\"},\"y\":{\"field\":\"y\"}},\"id\":\"6745\",\"type\":\"Circle\"},{\"attributes\":{},\"id\":\"7086\",\"type\":\"UnionRenderers\"},{\"attributes\":{\"callback\":null,\"data\":{\"x\":[2020,2025,2030,2035,2040,2045,2050,2055,2060,2065,2070,2075,2080,2085,2090,2095,2100],\"y\":[912306.7240000002,924199.783,933262.5580000001,940475.6150000001,944668.037,945929.6540000001,944372.924,940125.755,933542.0040000002,925493.626,916927.8789999998,908413.484,900272.8359999999,892459.4159999999,884981.163,877749.1270000001,870615.133]},\"selected\":{\"id\":\"7085\",\"type\":\"Selection\"},\"selection_policy\":{\"id\":\"7084\",\"type\":\"UnionRenderers\"}},\"id\":\"6769\",\"type\":\"ColumnDataSource\"},{\"attributes\":{\"line_color\":\"red\",\"line_width\":2,\"x\":{\"field\":\"x\"},\"y\":{\"field\":\"y\"}},\"id\":\"6731\",\"type\":\"Line\"},{\"attributes\":{\"data_source\":{\"id\":\"6743\",\"type\":\"ColumnDataSource\"},\"glyph\":{\"id\":\"6744\",\"type\":\"Circle\"},\"hover_glyph\":null,\"muted_glyph\":null,\"nonselection_glyph\":{\"id\":\"6745\",\"type\":\"Circle\"},\"selection_glyph\":null,\"view\":{\"id\":\"6747\",\"type\":\"CDSView\"}},\"id\":\"6746\",\"type\":\"GlyphRenderer\"},{\"attributes\":{},\"id\":\"7087\",\"type\":\"Selection\"},{\"attributes\":{\"line_color\":\"green\",\"line_width\":2,\"x\":{\"field\":\"x\"},\"y\":{\"field\":\"y\"}},\"id\":\"6770\",\"type\":\"Line\"},{\"attributes\":{\"callback\":null,\"data\":{\"x\":[2020,2025,2030,2035,2040,2045,2050,2055,2060,2065,2070,2075,2080,2085,2090,2095,2100],\"y\":[1057438.163,1182376.585,1313758.882,1450358.0589999997,1590723.5140000007,1733412.6489999997,1876797.781,2019337.702000001,2159628.188,2296253.5399999996,2427682.2370000007,2552545.8049999997,2669675.032999999,2778054.0900000003,2877186.7590000005,2966790.3559999997,3046778.7830000003]},\"selected\":{\"id\":\"6760\",\"type\":\"Selection\"},\"selection_policy\":{\"id\":\"6759\",\"type\":\"UnionRenderers\"}},\"id\":\"6730\",\"type\":\"ColumnDataSource\"},{\"attributes\":{\"source\":{\"id\":\"6743\",\"type\":\"ColumnDataSource\"}},\"id\":\"6747\",\"type\":\"CDSView\"},{\"attributes\":{\"data_source\":{\"id\":\"6730\",\"type\":\"ColumnDataSource\"},\"glyph\":{\"id\":\"6731\",\"type\":\"Line\"},\"hover_glyph\":null,\"muted_glyph\":null,\"nonselection_glyph\":{\"id\":\"6732\",\"type\":\"Line\"},\"selection_glyph\":null,\"view\":{\"id\":\"6734\",\"type\":\"CDSView\"}},\"id\":\"6733\",\"type\":\"GlyphRenderer\"},{\"attributes\":{\"line_alpha\":0.1,\"line_color\":\"#1f77b4\",\"line_width\":2,\"x\":{\"field\":\"x\"},\"y\":{\"field\":\"y\"}},\"id\":\"6771\",\"type\":\"Line\"},{\"attributes\":{},\"id\":\"6717\",\"type\":\"PanTool\"},{\"attributes\":{\"source\":{\"id\":\"6764\",\"type\":\"ColumnDataSource\"}},\"id\":\"6768\",\"type\":\"CDSView\"},{\"attributes\":{\"callback\":null},\"id\":\"6699\",\"type\":\"DataRange1d\"},{\"attributes\":{\"callback\":null,\"data\":{\"x\":[2020,2025,2030,2035,2040,2045,2050,2055,2060,2065,2070,2075,2080,2085,2090,2095,2100],\"y\":[4993103.786000001,5218738.716999997,5421085.645999999,5600144.947999999,5752488.066,5878012.936,5976889.714000002,6050353.927999998,6099916.011999999,6128642.660999999,6138746.354000001,6132326.774999998,6111578.452999997,6078805.713000003,6037048.572999997,5987636.3539999975,5930332.014000001]},\"selected\":{\"id\":\"6785\",\"type\":\"Selection\"},\"selection_policy\":{\"id\":\"6784\",\"type\":\"UnionRenderers\"}},\"id\":\"6748\",\"type\":\"ColumnDataSource\"},{\"attributes\":{\"data_source\":{\"id\":\"6769\",\"type\":\"ColumnDataSource\"},\"glyph\":{\"id\":\"6770\",\"type\":\"Line\"},\"hover_glyph\":null,\"muted_glyph\":null,\"nonselection_glyph\":{\"id\":\"6771\",\"type\":\"Line\"},\"selection_glyph\":null,\"view\":{\"id\":\"6773\",\"type\":\"CDSView\"}},\"id\":\"6772\",\"type\":\"GlyphRenderer\"},{\"attributes\":{},\"id\":\"6718\",\"type\":\"WheelZoomTool\"},{\"attributes\":{\"line_color\":\"blue\",\"line_width\":2,\"x\":{\"field\":\"x\"},\"y\":{\"field\":\"y\"}},\"id\":\"6749\",\"type\":\"Line\"},{\"attributes\":{\"source\":{\"id\":\"6769\",\"type\":\"ColumnDataSource\"}},\"id\":\"6773\",\"type\":\"CDSView\"},{\"attributes\":{\"overlay\":{\"id\":\"6740\",\"type\":\"BoxAnnotation\"}},\"id\":\"6719\",\"type\":\"BoxZoomTool\"},{\"attributes\":{},\"id\":\"7085\",\"type\":\"Selection\"},{\"attributes\":{\"line_alpha\":0.1,\"line_color\":\"#1f77b4\",\"line_width\":2,\"x\":{\"field\":\"x\"},\"y\":{\"field\":\"y\"}},\"id\":\"6750\",\"type\":\"Line\"},{\"attributes\":{},\"id\":\"6784\",\"type\":\"UnionRenderers\"},{\"attributes\":{},\"id\":\"6720\",\"type\":\"SaveTool\"},{\"attributes\":{\"data_source\":{\"id\":\"6748\",\"type\":\"ColumnDataSource\"},\"glyph\":{\"id\":\"6749\",\"type\":\"Line\"},\"hover_glyph\":null,\"muted_glyph\":null,\"nonselection_glyph\":{\"id\":\"6750\",\"type\":\"Line\"},\"selection_glyph\":null,\"view\":{\"id\":\"6752\",\"type\":\"CDSView\"}},\"id\":\"6751\",\"type\":\"GlyphRenderer\"},{\"attributes\":{},\"id\":\"6785\",\"type\":\"Selection\"},{\"attributes\":{},\"id\":\"6721\",\"type\":\"ResetTool\"},{\"attributes\":{\"source\":{\"id\":\"6748\",\"type\":\"ColumnDataSource\"}},\"id\":\"6752\",\"type\":\"CDSView\"},{\"attributes\":{\"line_alpha\":0.1,\"line_color\":\"#1f77b4\",\"line_width\":2,\"x\":{\"field\":\"x\"},\"y\":{\"field\":\"y\"}},\"id\":\"6732\",\"type\":\"Line\"},{\"attributes\":{},\"id\":\"6786\",\"type\":\"UnionRenderers\"},{\"attributes\":{},\"id\":\"6722\",\"type\":\"HelpTool\"},{\"attributes\":{},\"id\":\"6759\",\"type\":\"UnionRenderers\"},{\"attributes\":{},\"id\":\"6787\",\"type\":\"Selection\"},{\"attributes\":{},\"id\":\"6713\",\"type\":\"BasicTicker\"},{\"attributes\":{\"active_drag\":\"auto\",\"active_inspect\":\"auto\",\"active_multi\":null,\"active_scroll\":\"auto\",\"active_tap\":\"auto\",\"tools\":[{\"id\":\"6717\",\"type\":\"PanTool\"},{\"id\":\"6718\",\"type\":\"WheelZoomTool\"},{\"id\":\"6719\",\"type\":\"BoxZoomTool\"},{\"id\":\"6720\",\"type\":\"SaveTool\"},{\"id\":\"6721\",\"type\":\"ResetTool\"},{\"id\":\"6722\",\"type\":\"HelpTool\"},{\"id\":\"6794\",\"type\":\"HoverTool\"}]},\"id\":\"6723\",\"type\":\"Toolbar\"},{\"attributes\":{\"axis_label\":\"Percentage\",\"formatter\":{\"id\":\"6737\",\"type\":\"BasicTickFormatter\"},\"ticker\":{\"id\":\"6713\",\"type\":\"BasicTicker\"}},\"id\":\"6712\",\"type\":\"LinearAxis\"},{\"attributes\":{},\"id\":\"6760\",\"type\":\"Selection\"},{\"attributes\":{\"label\":{\"value\":\"OECD\"},\"renderers\":[{\"id\":\"6772\",\"type\":\"GlyphRenderer\"}]},\"id\":\"6788\",\"type\":\"LegendItem\"},{\"attributes\":{\"callback\":null},\"id\":\"6701\",\"type\":\"DataRange1d\"},{\"attributes\":{},\"id\":\"6761\",\"type\":\"UnionRenderers\"},{\"attributes\":{\"callback\":null,\"data\":{\"x\":[2020,2025,2030,2035,2040,2045,2050,2055,2060,2065,2070,2075,2080,2085,2090,2095,2100],\"y\":[912306.7240000002,924199.783,933262.5580000001,940475.6150000001,944668.037,945929.6540000001,944372.924,940125.755,933542.0040000002,925493.626,916927.8789999998,908413.484,900272.8359999999,892459.4159999999,884981.163,877749.1270000001,870615.133]},\"selected\":{\"id\":\"7087\",\"type\":\"Selection\"},\"selection_policy\":{\"id\":\"7086\",\"type\":\"UnionRenderers\"}},\"id\":\"6789\",\"type\":\"ColumnDataSource\"},{\"attributes\":{},\"id\":\"6708\",\"type\":\"BasicTicker\"},{\"attributes\":{},\"id\":\"6762\",\"type\":\"Selection\"},{\"attributes\":{},\"id\":\"6737\",\"type\":\"BasicTickFormatter\"},{\"attributes\":{},\"id\":\"6705\",\"type\":\"LinearScale\"},{\"attributes\":{\"fill_color\":{\"value\":\"green\"},\"line_color\":{\"value\":\"green\"},\"line_width\":{\"value\":3},\"x\":{\"field\":\"x\"},\"y\":{\"field\":\"y\"}},\"id\":\"6790\",\"type\":\"Circle\"},{\"attributes\":{\"source\":{\"id\":\"6730\",\"type\":\"ColumnDataSource\"}},\"id\":\"6734\",\"type\":\"CDSView\"},{\"attributes\":{\"label\":{\"value\":\"Developing excluding LDCs\"},\"renderers\":[{\"id\":\"6751\",\"type\":\"GlyphRenderer\"}]},\"id\":\"6763\",\"type\":\"LegendItem\"},{\"attributes\":{},\"id\":\"6739\",\"type\":\"BasicTickFormatter\"},{\"attributes\":{\"fill_alpha\":{\"value\":0.1},\"fill_color\":{\"value\":\"#1f77b4\"},\"line_alpha\":{\"value\":0.1},\"line_color\":{\"value\":\"#1f77b4\"},\"line_width\":{\"value\":3},\"x\":{\"field\":\"x\"},\"y\":{\"field\":\"y\"}},\"id\":\"6791\",\"type\":\"Circle\"},{\"attributes\":{\"axis_label\":\"Years\",\"formatter\":{\"id\":\"6739\",\"type\":\"BasicTickFormatter\"},\"ticker\":{\"id\":\"6708\",\"type\":\"BasicTicker\"}},\"id\":\"6707\",\"type\":\"LinearAxis\"},{\"attributes\":{\"callback\":null,\"data\":{\"x\":[2020,2025,2030,2035,2040,2045,2050,2055,2060,2065,2070,2075,2080,2085,2090,2095,2100],\"y\":[4993103.786000001,5218738.716999997,5421085.645999999,5600144.947999999,5752488.066,5878012.936,5976889.714000002,6050353.927999998,6099916.011999999,6128642.660999999,6138746.354000001,6132326.774999998,6111578.452999997,6078805.713000003,6037048.572999997,5987636.3539999975,5930332.014000001]},\"selected\":{\"id\":\"6787\",\"type\":\"Selection\"},\"selection_policy\":{\"id\":\"6786\",\"type\":\"UnionRenderers\"}},\"id\":\"6764\",\"type\":\"ColumnDataSource\"},{\"attributes\":{\"data_source\":{\"id\":\"6789\",\"type\":\"ColumnDataSource\"},\"glyph\":{\"id\":\"6790\",\"type\":\"Circle\"},\"hover_glyph\":null,\"muted_glyph\":null,\"nonselection_glyph\":{\"id\":\"6791\",\"type\":\"Circle\"},\"selection_glyph\":null,\"view\":{\"id\":\"6793\",\"type\":\"CDSView\"}},\"id\":\"6792\",\"type\":\"GlyphRenderer\"},{\"attributes\":{\"callback\":null,\"tooltips\":\"\\n        <div style=padding=5px>Year:@x</div>\\n        <div style=padding=5px>Value:@y</div>\\n        \"},\"id\":\"6794\",\"type\":\"HoverTool\"},{\"attributes\":{\"bottom_units\":\"screen\",\"fill_alpha\":{\"value\":0.5},\"fill_color\":{\"value\":\"lightgrey\"},\"left_units\":\"screen\",\"level\":\"overlay\",\"line_alpha\":{\"value\":1.0},\"line_color\":{\"value\":\"black\"},\"line_dash\":[4,4],\"line_width\":{\"value\":2},\"render_mode\":\"css\",\"right_units\":\"screen\",\"top_units\":\"screen\"},\"id\":\"6740\",\"type\":\"BoxAnnotation\"},{\"attributes\":{\"fill_color\":{\"value\":\"blue\"},\"line_color\":{\"value\":\"blue\"},\"line_width\":{\"value\":3},\"x\":{\"field\":\"x\"},\"y\":{\"field\":\"y\"}},\"id\":\"6765\",\"type\":\"Circle\"},{\"attributes\":{\"ticker\":{\"id\":\"6708\",\"type\":\"BasicTicker\"}},\"id\":\"6711\",\"type\":\"Grid\"},{\"attributes\":{\"items\":[{\"id\":\"6742\",\"type\":\"LegendItem\"},{\"id\":\"6763\",\"type\":\"LegendItem\"},{\"id\":\"6788\",\"type\":\"LegendItem\"}],\"location\":\"bottom_left\"},\"id\":\"6741\",\"type\":\"Legend\"},{\"attributes\":{\"source\":{\"id\":\"6789\",\"type\":\"ColumnDataSource\"}},\"id\":\"6793\",\"type\":\"CDSView\"},{\"attributes\":{},\"id\":\"6703\",\"type\":\"LinearScale\"},{\"attributes\":{\"fill_alpha\":{\"value\":0.1},\"fill_color\":{\"value\":\"#1f77b4\"},\"line_alpha\":{\"value\":0.1},\"line_color\":{\"value\":\"#1f77b4\"},\"line_width\":{\"value\":3},\"x\":{\"field\":\"x\"},\"y\":{\"field\":\"y\"}},\"id\":\"6766\",\"type\":\"Circle\"},{\"attributes\":{\"label\":{\"value\":\"LDCs\"},\"renderers\":[{\"id\":\"6733\",\"type\":\"GlyphRenderer\"}]},\"id\":\"6742\",\"type\":\"LegendItem\"},{\"attributes\":{\"text\":\"Projected population, thousands\"},\"id\":\"6697\",\"type\":\"Title\"},{\"attributes\":{\"data_source\":{\"id\":\"6764\",\"type\":\"ColumnDataSource\"},\"glyph\":{\"id\":\"6765\",\"type\":\"Circle\"},\"hover_glyph\":null,\"muted_glyph\":null,\"nonselection_glyph\":{\"id\":\"6766\",\"type\":\"Circle\"},\"selection_glyph\":null,\"view\":{\"id\":\"6768\",\"type\":\"CDSView\"}},\"id\":\"6767\",\"type\":\"GlyphRenderer\"},{\"attributes\":{\"callback\":null,\"data\":{\"x\":[2020,2025,2030,2035,2040,2045,2050,2055,2060,2065,2070,2075,2080,2085,2090,2095,2100],\"y\":[1057438.163,1182376.585,1313758.882,1450358.0589999997,1590723.5140000007,1733412.6489999997,1876797.781,2019337.702000001,2159628.188,2296253.5399999996,2427682.2370000007,2552545.8049999997,2669675.032999999,2778054.0900000003,2877186.7590000005,2966790.3559999997,3046778.7830000003]},\"selected\":{\"id\":\"6762\",\"type\":\"Selection\"},\"selection_policy\":{\"id\":\"6761\",\"type\":\"UnionRenderers\"}},\"id\":\"6743\",\"type\":\"ColumnDataSource\"},{\"attributes\":{\"dimension\":1,\"ticker\":{\"id\":\"6713\",\"type\":\"BasicTicker\"}},\"id\":\"6716\",\"type\":\"Grid\"},{\"attributes\":{\"fill_color\":{\"value\":\"red\"},\"line_color\":{\"value\":\"red\"},\"line_width\":{\"value\":3},\"x\":{\"field\":\"x\"},\"y\":{\"field\":\"y\"}},\"id\":\"6744\",\"type\":\"Circle\"}],\"root_ids\":[\"6696\"]},\"title\":\"Bokeh Application\",\"version\":\"1.3.4\"}};\n",
       "  var render_items = [{\"docid\":\"df9f230b-36f5-491d-b640-ac4b6beb66f5\",\"roots\":{\"6696\":\"e7da1140-47db-4836-b6bf-d7cb7938eca9\"}}];\n",
       "  root.Bokeh.embed.embed_items_notebook(docs_json, render_items);\n",
       "\n",
       "  }\n",
       "  if (root.Bokeh !== undefined) {\n",
       "    embed_document(root);\n",
       "  } else {\n",
       "    var attempts = 0;\n",
       "    var timer = setInterval(function(root) {\n",
       "      if (root.Bokeh !== undefined) {\n",
       "        embed_document(root);\n",
       "        clearInterval(timer);\n",
       "      }\n",
       "      attempts++;\n",
       "      if (attempts > 100) {\n",
       "        console.log(\"Bokeh: ERROR: Unable to run BokehJS code because BokehJS library is missing\");\n",
       "        clearInterval(timer);\n",
       "      }\n",
       "    }, 10, root)\n",
       "  }\n",
       "})(window);"
      ],
      "application/vnd.bokehjs_exec.v0+json": ""
     },
     "metadata": {
      "application/vnd.bokehjs_exec.v0+json": {
       "id": "6696"
      }
     },
     "output_type": "display_data"
    }
   ],
   "source": [
    "show(line_chart(gpp(['LDCs', 'Developing excluding LDCs', 'OECD']), \"Projected population, thousands\"))"
   ]
  },
  {
   "cell_type": "code",
   "execution_count": 4,
   "metadata": {
    "slideshow": {
     "slide_type": "slide"
    }
   },
   "outputs": [
    {
     "data": {
      "text/html": [
       "\n",
       "\n",
       "\n",
       "\n",
       "\n",
       "\n",
       "  <div class=\"bk-root\" id=\"1771a407-b4be-497f-a1ff-3b2eaeb02d61\" data-root-id=\"1370\"></div>\n"
      ]
     },
     "metadata": {},
     "output_type": "display_data"
    },
    {
     "data": {
      "application/javascript": [
       "(function(root) {\n",
       "  function embed_document(root) {\n",
       "    \n",
       "  var docs_json = {\"162b87e8-e947-468e-9a93-093e869bdca3\":{\"roots\":{\"references\":[{\"attributes\":{\"below\":[{\"id\":\"1381\",\"type\":\"LinearAxis\"}],\"center\":[{\"id\":\"1385\",\"type\":\"Grid\"},{\"id\":\"1390\",\"type\":\"Grid\"},{\"id\":\"1415\",\"type\":\"Legend\"}],\"left\":[{\"id\":\"1386\",\"type\":\"LinearAxis\"}],\"plot_height\":400,\"plot_width\":950,\"renderers\":[{\"id\":\"1407\",\"type\":\"GlyphRenderer\"},{\"id\":\"1420\",\"type\":\"GlyphRenderer\"},{\"id\":\"1425\",\"type\":\"GlyphRenderer\"},{\"id\":\"1441\",\"type\":\"GlyphRenderer\"},{\"id\":\"1446\",\"type\":\"GlyphRenderer\"},{\"id\":\"1466\",\"type\":\"GlyphRenderer\"},{\"id\":\"1471\",\"type\":\"GlyphRenderer\"},{\"id\":\"1495\",\"type\":\"GlyphRenderer\"}],\"title\":{\"id\":\"1371\",\"type\":\"Title\"},\"toolbar\":{\"id\":\"1397\",\"type\":\"Toolbar\"},\"x_range\":{\"id\":\"1373\",\"type\":\"DataRange1d\"},\"x_scale\":{\"id\":\"1377\",\"type\":\"LinearScale\"},\"y_range\":{\"id\":\"1375\",\"type\":\"DataRange1d\"},\"y_scale\":{\"id\":\"1379\",\"type\":\"LinearScale\"}},\"id\":\"1370\",\"subtype\":\"Figure\",\"type\":\"Plot\"},{\"attributes\":{\"callback\":null,\"data\":{\"x\":[\"1960\",\"1961\",\"1962\",\"1963\",\"1964\",\"1965\",\"1966\",\"1967\",\"1968\",\"1969\",\"1970\",\"1971\",\"1972\",\"1973\",\"1974\",\"1975\",\"1976\",\"1977\",\"1978\",\"1979\",\"1980\",\"1981\",\"1982\",\"1983\",\"1984\",\"1985\",\"1986\",\"1987\",\"1988\",\"1989\",\"1990\",\"1991\",\"1992\",\"1993\",\"1994\",\"1995\",\"1996\",\"1997\",\"1998\",\"1999\",\"2000\",\"2001\",\"2002\",\"2003\",\"2004\",\"2005\",\"2006\",\"2007\",\"2008\",\"2009\",\"2010\",\"2011\",\"2012\",\"2013\",\"2014\",\"2015\",\"2016\",\"2017\"],\"y\":[37.40046379762384,36.910426656412376,36.42127360665778,35.91623000953568,35.41312563450036,34.91259283883799,34.41460814240305,33.906853776784544,33.41175944934178,32.93243762343052,32.47371657833314,32.08243047483682,31.72254341724644,31.376230937591238,31.02541989859808,30.694684316251664,30.439520115174478,30.192444164715646,29.942960728335073,29.698117424398575,29.45271291536762,29.159197365938237,28.884819993799557,28.62443020571846,28.373177767459325,28.121981510199006,27.8604458404359,27.578860132814693,27.299974013372434,27.04188263980006,26.764398045351797,26.48515980107442,26.22585182821077,25.962163393862863,25.69276563048598,25.42543337883581,25.181488242051362,24.9477281910235,24.714988268795185,24.48183071086911,24.25025925627994,23.905203675760802,23.504398066886452,23.123776637102807,22.758727449036055,22.408569017585673,22.085829368063017,21.7813270701607,21.485590735868247,21.19879146971327,20.918753085714805,20.70228925587614,20.51614583488052,20.332611207313864,20.1493430924518,19.961337971168508,19.770869743541244,19.576668574669895]},\"selected\":{\"id\":\"1488\",\"type\":\"Selection\"},\"selection_policy\":{\"id\":\"1487\",\"type\":\"UnionRenderers\"}},\"id\":\"1443\",\"type\":\"ColumnDataSource\"},{\"attributes\":{},\"id\":\"1546\",\"type\":\"Selection\"},{\"attributes\":{\"fill_alpha\":{\"value\":0.1},\"fill_color\":{\"value\":\"#1f77b4\"},\"line_alpha\":{\"value\":0.1},\"line_color\":{\"value\":\"#1f77b4\"},\"line_width\":{\"value\":3},\"x\":{\"field\":\"x\"},\"y\":{\"field\":\"y\"}},\"id\":\"1440\",\"type\":\"Circle\"},{\"attributes\":{},\"id\":\"1547\",\"type\":\"UnionRenderers\"},{\"attributes\":{},\"id\":\"1394\",\"type\":\"SaveTool\"},{\"attributes\":{\"source\":{\"id\":\"1492\",\"type\":\"ColumnDataSource\"}},\"id\":\"1496\",\"type\":\"CDSView\"},{\"attributes\":{\"overlay\":{\"id\":\"1414\",\"type\":\"BoxAnnotation\"}},\"id\":\"1393\",\"type\":\"BoxZoomTool\"},{\"attributes\":{\"data_source\":{\"id\":\"1438\",\"type\":\"ColumnDataSource\"},\"glyph\":{\"id\":\"1439\",\"type\":\"Circle\"},\"hover_glyph\":null,\"muted_glyph\":null,\"nonselection_glyph\":{\"id\":\"1440\",\"type\":\"Circle\"},\"selection_glyph\":null,\"view\":{\"id\":\"1442\",\"type\":\"CDSView\"}},\"id\":\"1441\",\"type\":\"GlyphRenderer\"},{\"attributes\":{},\"id\":\"1392\",\"type\":\"WheelZoomTool\"},{\"attributes\":{\"fill_color\":{\"value\":\"orange\"},\"line_color\":{\"value\":\"orange\"},\"line_width\":{\"value\":3},\"x\":{\"field\":\"x\"},\"y\":{\"field\":\"y\"}},\"id\":\"1493\",\"type\":\"Circle\"},{\"attributes\":{\"line_color\":\"green\",\"line_width\":2,\"x\":{\"field\":\"x\"},\"y\":{\"field\":\"y\"}},\"id\":\"1444\",\"type\":\"Line\"},{\"attributes\":{\"active_drag\":\"auto\",\"active_inspect\":\"auto\",\"active_multi\":null,\"active_scroll\":\"auto\",\"active_tap\":\"auto\",\"tools\":[{\"id\":\"1391\",\"type\":\"PanTool\"},{\"id\":\"1392\",\"type\":\"WheelZoomTool\"},{\"id\":\"1393\",\"type\":\"BoxZoomTool\"},{\"id\":\"1394\",\"type\":\"SaveTool\"},{\"id\":\"1395\",\"type\":\"ResetTool\"},{\"id\":\"1396\",\"type\":\"HelpTool\"},{\"id\":\"1497\",\"type\":\"HoverTool\"}]},\"id\":\"1397\",\"type\":\"Toolbar\"},{\"attributes\":{\"fill_color\":{\"value\":\"blue\"},\"line_color\":{\"value\":\"blue\"},\"line_width\":{\"value\":3},\"x\":{\"field\":\"x\"},\"y\":{\"field\":\"y\"}},\"id\":\"1439\",\"type\":\"Circle\"},{\"attributes\":{\"fill_alpha\":{\"value\":0.1},\"fill_color\":{\"value\":\"#1f77b4\"},\"line_alpha\":{\"value\":0.1},\"line_color\":{\"value\":\"#1f77b4\"},\"line_width\":{\"value\":3},\"x\":{\"field\":\"x\"},\"y\":{\"field\":\"y\"}},\"id\":\"1494\",\"type\":\"Circle\"},{\"attributes\":{},\"id\":\"1411\",\"type\":\"BasicTickFormatter\"},{\"attributes\":{},\"id\":\"1396\",\"type\":\"HelpTool\"},{\"attributes\":{},\"id\":\"1545\",\"type\":\"UnionRenderers\"},{\"attributes\":{\"source\":{\"id\":\"1404\",\"type\":\"ColumnDataSource\"}},\"id\":\"1408\",\"type\":\"CDSView\"},{\"attributes\":{},\"id\":\"1548\",\"type\":\"Selection\"},{\"attributes\":{},\"id\":\"1395\",\"type\":\"ResetTool\"},{\"attributes\":{\"label\":{\"value\":\"Developing excluding LDCs\"},\"renderers\":[{\"id\":\"1425\",\"type\":\"GlyphRenderer\"}]},\"id\":\"1437\",\"type\":\"LegendItem\"},{\"attributes\":{\"label\":{\"value\":\"UMICs\"},\"renderers\":[{\"id\":\"1471\",\"type\":\"GlyphRenderer\"}]},\"id\":\"1491\",\"type\":\"LegendItem\"},{\"attributes\":{\"source\":{\"id\":\"1443\",\"type\":\"ColumnDataSource\"}},\"id\":\"1447\",\"type\":\"CDSView\"},{\"attributes\":{\"data_source\":{\"id\":\"1404\",\"type\":\"ColumnDataSource\"},\"glyph\":{\"id\":\"1405\",\"type\":\"Line\"},\"hover_glyph\":null,\"muted_glyph\":null,\"nonselection_glyph\":{\"id\":\"1406\",\"type\":\"Line\"},\"selection_glyph\":null,\"view\":{\"id\":\"1408\",\"type\":\"CDSView\"}},\"id\":\"1407\",\"type\":\"GlyphRenderer\"},{\"attributes\":{\"data_source\":{\"id\":\"1443\",\"type\":\"ColumnDataSource\"},\"glyph\":{\"id\":\"1444\",\"type\":\"Line\"},\"hover_glyph\":null,\"muted_glyph\":null,\"nonselection_glyph\":{\"id\":\"1445\",\"type\":\"Line\"},\"selection_glyph\":null,\"view\":{\"id\":\"1447\",\"type\":\"CDSView\"}},\"id\":\"1446\",\"type\":\"GlyphRenderer\"},{\"attributes\":{\"callback\":null,\"data\":{\"x\":[\"1960\",\"1961\",\"1962\",\"1963\",\"1964\",\"1965\",\"1966\",\"1967\",\"1968\",\"1969\",\"1970\",\"1971\",\"1972\",\"1973\",\"1974\",\"1975\",\"1976\",\"1977\",\"1978\",\"1979\",\"1980\",\"1981\",\"1982\",\"1983\",\"1984\",\"1985\",\"1986\",\"1987\",\"1988\",\"1989\",\"1990\",\"1991\",\"1992\",\"1993\",\"1994\",\"1995\",\"1996\",\"1997\",\"1998\",\"1999\",\"2000\",\"2001\",\"2002\",\"2003\",\"2004\",\"2005\",\"2006\",\"2007\",\"2008\",\"2009\",\"2010\",\"2011\",\"2012\",\"2013\",\"2014\",\"2015\",\"2016\",\"2017\"],\"y\":[77.35363246498096,76.84064660563966,76.34919251805987,75.8911929273984,75.42392730969407,75.2455974700976,75.0631805029994,74.86460025693607,74.66965460183357,74.47948707660744,74.2883999829702,74.06985096112246,73.81021003144735,73.50148081814949,73.14517867392526,72.78077064593286,72.43033463814923,72.07257197472818,71.59162525042468,70.98739212549752,70.37390537107983,69.73538235357832,69.11523379006417,68.549880776788,67.97514579855805,67.40108835439656,66.83263598790077,66.2699204282547,65.70792376395148,65.14572411519175,64.58115696120876,64.00938831679981,63.47568887216426,62.90371180406295,62.32979564017021,61.731735700190455,61.15980763653538,60.58546239748637,60.00711357933131,59.428106219917154,58.83934865686248,58.1922959373342,57.492147507303955,56.791072578711145,56.08420239450577,55.373297896508575,54.67280454992341,53.977539651904614,53.28007273722423,52.58524307181396,51.89203527626144,51.22700828217377,50.57300177227712,49.92250999168939,49.27308811920352,48.62727125106838,47.983660157571435,47.34467173180428]},\"selected\":{\"id\":\"1461\",\"type\":\"Selection\"},\"selection_policy\":{\"id\":\"1460\",\"type\":\"UnionRenderers\"}},\"id\":\"1438\",\"type\":\"ColumnDataSource\"},{\"attributes\":{},\"id\":\"1490\",\"type\":\"Selection\"},{\"attributes\":{\"line_alpha\":0.1,\"line_color\":\"#1f77b4\",\"line_width\":2,\"x\":{\"field\":\"x\"},\"y\":{\"field\":\"y\"}},\"id\":\"1445\",\"type\":\"Line\"},{\"attributes\":{\"bottom_units\":\"screen\",\"fill_alpha\":{\"value\":0.5},\"fill_color\":{\"value\":\"lightgrey\"},\"left_units\":\"screen\",\"level\":\"overlay\",\"line_alpha\":{\"value\":1.0},\"line_color\":{\"value\":\"black\"},\"line_dash\":[4,4],\"line_width\":{\"value\":2},\"render_mode\":\"css\",\"right_units\":\"screen\",\"top_units\":\"screen\"},\"id\":\"1414\",\"type\":\"BoxAnnotation\"},{\"attributes\":{},\"id\":\"1460\",\"type\":\"UnionRenderers\"},{\"attributes\":{},\"id\":\"1436\",\"type\":\"Selection\"},{\"attributes\":{},\"id\":\"1413\",\"type\":\"BasicTickFormatter\"},{\"attributes\":{\"data_source\":{\"id\":\"1492\",\"type\":\"ColumnDataSource\"},\"glyph\":{\"id\":\"1493\",\"type\":\"Circle\"},\"hover_glyph\":null,\"muted_glyph\":null,\"nonselection_glyph\":{\"id\":\"1494\",\"type\":\"Circle\"},\"selection_glyph\":null,\"view\":{\"id\":\"1496\",\"type\":\"CDSView\"}},\"id\":\"1495\",\"type\":\"GlyphRenderer\"},{\"attributes\":{},\"id\":\"1459\",\"type\":\"Selection\"},{\"attributes\":{},\"id\":\"1458\",\"type\":\"UnionRenderers\"},{\"attributes\":{\"callback\":null,\"data\":{\"x\":[\"1960\",\"1961\",\"1962\",\"1963\",\"1964\",\"1965\",\"1966\",\"1967\",\"1968\",\"1969\",\"1970\",\"1971\",\"1972\",\"1973\",\"1974\",\"1975\",\"1976\",\"1977\",\"1978\",\"1979\",\"1980\",\"1981\",\"1982\",\"1983\",\"1984\",\"1985\",\"1986\",\"1987\",\"1988\",\"1989\",\"1990\",\"1991\",\"1992\",\"1993\",\"1994\",\"1995\",\"1996\",\"1997\",\"1998\",\"1999\",\"2000\",\"2001\",\"2002\",\"2003\",\"2004\",\"2005\",\"2006\",\"2007\",\"2008\",\"2009\",\"2010\",\"2011\",\"2012\",\"2013\",\"2014\",\"2015\",\"2016\",\"2017\"],\"y\":[37.40046379762384,36.910426656412376,36.42127360665778,35.91623000953568,35.41312563450036,34.91259283883799,34.41460814240305,33.906853776784544,33.41175944934178,32.93243762343052,32.47371657833314,32.08243047483682,31.72254341724644,31.376230937591238,31.02541989859808,30.694684316251664,30.439520115174478,30.192444164715646,29.942960728335073,29.698117424398575,29.45271291536762,29.159197365938237,28.884819993799557,28.62443020571846,28.373177767459325,28.121981510199006,27.8604458404359,27.578860132814693,27.299974013372434,27.04188263980006,26.764398045351797,26.48515980107442,26.22585182821077,25.962163393862863,25.69276563048598,25.42543337883581,25.181488242051362,24.9477281910235,24.714988268795185,24.48183071086911,24.25025925627994,23.905203675760802,23.504398066886452,23.123776637102807,22.758727449036055,22.408569017585673,22.085829368063017,21.7813270701607,21.485590735868247,21.19879146971327,20.918753085714805,20.70228925587614,20.51614583488052,20.332611207313864,20.1493430924518,19.961337971168508,19.770869743541244,19.576668574669895]},\"selected\":{\"id\":\"1490\",\"type\":\"Selection\"},\"selection_policy\":{\"id\":\"1489\",\"type\":\"UnionRenderers\"}},\"id\":\"1463\",\"type\":\"ColumnDataSource\"},{\"attributes\":{\"callback\":null,\"data\":{\"x\":[\"1960\",\"1961\",\"1962\",\"1963\",\"1964\",\"1965\",\"1966\",\"1967\",\"1968\",\"1969\",\"1970\",\"1971\",\"1972\",\"1973\",\"1974\",\"1975\",\"1976\",\"1977\",\"1978\",\"1979\",\"1980\",\"1981\",\"1982\",\"1983\",\"1984\",\"1985\",\"1986\",\"1987\",\"1988\",\"1989\",\"1990\",\"1991\",\"1992\",\"1993\",\"1994\",\"1995\",\"1996\",\"1997\",\"1998\",\"1999\",\"2000\",\"2001\",\"2002\",\"2003\",\"2004\",\"2005\",\"2006\",\"2007\",\"2008\",\"2009\",\"2010\",\"2011\",\"2012\",\"2013\",\"2014\",\"2015\",\"2016\",\"2017\"],\"y\":[90.30540314961225,90.05922308596143,89.79142197607507,89.50943020766772,89.21332392073033,88.90699930713514,88.59129404993091,88.2421437061032,87.87890301522422,87.498660914606,87.1174953120763,86.69804365829646,86.25174066596233,85.79977180585672,85.34188252862592,85.43654119910886,84.95168938138087,84.44580769216783,83.9221505351178,83.41754005994233,82.84275481593508,82.33340839124018,81.98009926769818,81.5994068914721,81.17923373810068,80.73499511441362,80.28737654778298,79.83589419008621,79.37735062469132,78.94106163003731,78.49089593262889,78.06666464387531,77.66442498847728,77.27582295914314,76.937477006595,76.6142721385419,76.29207931094508,75.96043698797583,75.63493186609195,75.3089958985288,74.97591336080258,74.58855084775452,74.17072837361799,73.7383105264119,73.30461571223451,72.85760200817124,72.41698364409473,72.02137630639736,71.53477802260059,71.03883841181644,70.53468445683478,70.02322338974272,69.54425681847671,69.04126913036824,68.53335948867445,68.02084860989429,67.5036702230874,66.9817255009623]},\"selected\":{\"id\":\"1436\",\"type\":\"Selection\"},\"selection_policy\":{\"id\":\"1435\",\"type\":\"UnionRenderers\"}},\"id\":\"1417\",\"type\":\"ColumnDataSource\"},{\"attributes\":{},\"id\":\"1488\",\"type\":\"Selection\"},{\"attributes\":{},\"id\":\"1435\",\"type\":\"UnionRenderers\"},{\"attributes\":{\"label\":{\"value\":\"LDCs\"},\"renderers\":[{\"id\":\"1407\",\"type\":\"GlyphRenderer\"}]},\"id\":\"1416\",\"type\":\"LegendItem\"},{\"attributes\":{\"label\":{\"value\":\"OECD\"},\"renderers\":[{\"id\":\"1446\",\"type\":\"GlyphRenderer\"}]},\"id\":\"1462\",\"type\":\"LegendItem\"},{\"attributes\":{\"items\":[{\"id\":\"1416\",\"type\":\"LegendItem\"},{\"id\":\"1437\",\"type\":\"LegendItem\"},{\"id\":\"1462\",\"type\":\"LegendItem\"},{\"id\":\"1491\",\"type\":\"LegendItem\"}],\"location\":\"bottom_left\"},\"id\":\"1415\",\"type\":\"Legend\"},{\"attributes\":{},\"id\":\"1487\",\"type\":\"UnionRenderers\"},{\"attributes\":{},\"id\":\"1434\",\"type\":\"Selection\"},{\"attributes\":{},\"id\":\"1461\",\"type\":\"Selection\"},{\"attributes\":{\"data_source\":{\"id\":\"1417\",\"type\":\"ColumnDataSource\"},\"glyph\":{\"id\":\"1418\",\"type\":\"Circle\"},\"hover_glyph\":null,\"muted_glyph\":null,\"nonselection_glyph\":{\"id\":\"1419\",\"type\":\"Circle\"},\"selection_glyph\":null,\"view\":{\"id\":\"1421\",\"type\":\"CDSView\"}},\"id\":\"1420\",\"type\":\"GlyphRenderer\"},{\"attributes\":{\"data_source\":{\"id\":\"1463\",\"type\":\"ColumnDataSource\"},\"glyph\":{\"id\":\"1464\",\"type\":\"Circle\"},\"hover_glyph\":null,\"muted_glyph\":null,\"nonselection_glyph\":{\"id\":\"1465\",\"type\":\"Circle\"},\"selection_glyph\":null,\"view\":{\"id\":\"1467\",\"type\":\"CDSView\"}},\"id\":\"1466\",\"type\":\"GlyphRenderer\"},{\"attributes\":{\"source\":{\"id\":\"1438\",\"type\":\"ColumnDataSource\"}},\"id\":\"1442\",\"type\":\"CDSView\"},{\"attributes\":{\"callback\":null,\"data\":{\"x\":[\"1960\",\"1961\",\"1962\",\"1963\",\"1964\",\"1965\",\"1966\",\"1967\",\"1968\",\"1969\",\"1970\",\"1971\",\"1972\",\"1973\",\"1974\",\"1975\",\"1976\",\"1977\",\"1978\",\"1979\",\"1980\",\"1981\",\"1982\",\"1983\",\"1984\",\"1985\",\"1986\",\"1987\",\"1988\",\"1989\",\"1990\",\"1991\",\"1992\",\"1993\",\"1994\",\"1995\",\"1996\",\"1997\",\"1998\",\"1999\",\"2000\",\"2001\",\"2002\",\"2003\",\"2004\",\"2005\",\"2006\",\"2007\",\"2008\",\"2009\",\"2010\",\"2011\",\"2012\",\"2013\",\"2014\",\"2015\",\"2016\",\"2017\"],\"y\":[71.4287204162724,70.58478250090545,69.8627218315356,69.2540534167852,68.62952651886468,68.45269565349967,68.30330145591509,68.12847306488024,67.96068601354663,67.8097178825033,67.66447717679529,67.50600323778671,67.32862526142779,67.08183571737001,66.75828385647537,66.41241444846794,66.07777678128967,65.72668190688223,65.18183524981795,64.4533757788048,63.71881733857113,62.96799844389245,62.22027737245605,61.55864151878186,60.87351190939736,60.19171278583993,59.52652435331649,58.874355767944024,58.220572862789105,57.57964295439006,56.926360221842,56.245909809812225,55.56098070279166,54.86910939948112,54.16746170928522,53.456021744647074,52.74214817103619,52.02016599335358,51.28627069074148,50.5403206844424,49.77439259824327,48.893390112203925,47.94735599195921,46.983717946888646,46.00910558025151,45.0291651703681,44.0668468063683,43.11117920895944,42.15254333218535,41.19555588209807,40.237420349816226,39.32742590316421,38.44124896012396,37.56281422863779,36.69054987945994,35.828956012498,34.97713364375602,34.1379315559834]},\"selected\":{\"id\":\"1548\",\"type\":\"Selection\"},\"selection_policy\":{\"id\":\"1547\",\"type\":\"UnionRenderers\"}},\"id\":\"1492\",\"type\":\"ColumnDataSource\"},{\"attributes\":{\"fill_alpha\":{\"value\":0.1},\"fill_color\":{\"value\":\"#1f77b4\"},\"line_alpha\":{\"value\":0.1},\"line_color\":{\"value\":\"#1f77b4\"},\"line_width\":{\"value\":3},\"x\":{\"field\":\"x\"},\"y\":{\"field\":\"y\"}},\"id\":\"1465\",\"type\":\"Circle\"},{\"attributes\":{\"fill_alpha\":{\"value\":0.1},\"fill_color\":{\"value\":\"#1f77b4\"},\"line_alpha\":{\"value\":0.1},\"line_color\":{\"value\":\"#1f77b4\"},\"line_width\":{\"value\":3},\"x\":{\"field\":\"x\"},\"y\":{\"field\":\"y\"}},\"id\":\"1419\",\"type\":\"Circle\"},{\"attributes\":{\"fill_color\":{\"value\":\"green\"},\"line_color\":{\"value\":\"green\"},\"line_width\":{\"value\":3},\"x\":{\"field\":\"x\"},\"y\":{\"field\":\"y\"}},\"id\":\"1464\",\"type\":\"Circle\"},{\"attributes\":{\"fill_color\":{\"value\":\"red\"},\"line_color\":{\"value\":\"red\"},\"line_width\":{\"value\":3},\"x\":{\"field\":\"x\"},\"y\":{\"field\":\"y\"}},\"id\":\"1418\",\"type\":\"Circle\"},{\"attributes\":{\"line_color\":\"orange\",\"line_width\":2,\"x\":{\"field\":\"x\"},\"y\":{\"field\":\"y\"}},\"id\":\"1469\",\"type\":\"Line\"},{\"attributes\":{},\"id\":\"1433\",\"type\":\"UnionRenderers\"},{\"attributes\":{\"data_source\":{\"id\":\"1468\",\"type\":\"ColumnDataSource\"},\"glyph\":{\"id\":\"1469\",\"type\":\"Line\"},\"hover_glyph\":null,\"muted_glyph\":null,\"nonselection_glyph\":{\"id\":\"1470\",\"type\":\"Line\"},\"selection_glyph\":null,\"view\":{\"id\":\"1472\",\"type\":\"CDSView\"}},\"id\":\"1471\",\"type\":\"GlyphRenderer\"},{\"attributes\":{\"line_color\":\"blue\",\"line_width\":2,\"x\":{\"field\":\"x\"},\"y\":{\"field\":\"y\"}},\"id\":\"1423\",\"type\":\"Line\"},{\"attributes\":{\"callback\":null,\"data\":{\"x\":[\"1960\",\"1961\",\"1962\",\"1963\",\"1964\",\"1965\",\"1966\",\"1967\",\"1968\",\"1969\",\"1970\",\"1971\",\"1972\",\"1973\",\"1974\",\"1975\",\"1976\",\"1977\",\"1978\",\"1979\",\"1980\",\"1981\",\"1982\",\"1983\",\"1984\",\"1985\",\"1986\",\"1987\",\"1988\",\"1989\",\"1990\",\"1991\",\"1992\",\"1993\",\"1994\",\"1995\",\"1996\",\"1997\",\"1998\",\"1999\",\"2000\",\"2001\",\"2002\",\"2003\",\"2004\",\"2005\",\"2006\",\"2007\",\"2008\",\"2009\",\"2010\",\"2011\",\"2012\",\"2013\",\"2014\",\"2015\",\"2016\",\"2017\"],\"y\":[71.4287204162724,70.58478250090545,69.8627218315356,69.2540534167852,68.62952651886468,68.45269565349967,68.30330145591509,68.12847306488024,67.96068601354663,67.8097178825033,67.66447717679529,67.50600323778671,67.32862526142779,67.08183571737001,66.75828385647537,66.41241444846794,66.07777678128967,65.72668190688223,65.18183524981795,64.4533757788048,63.71881733857113,62.96799844389245,62.22027737245605,61.55864151878186,60.87351190939736,60.19171278583993,59.52652435331649,58.874355767944024,58.220572862789105,57.57964295439006,56.926360221842,56.245909809812225,55.56098070279166,54.86910939948112,54.16746170928522,53.456021744647074,52.74214817103619,52.02016599335358,51.28627069074148,50.5403206844424,49.77439259824327,48.893390112203925,47.94735599195921,46.983717946888646,46.00910558025151,45.0291651703681,44.0668468063683,43.11117920895944,42.15254333218535,41.19555588209807,40.237420349816226,39.32742590316421,38.44124896012396,37.56281422863779,36.69054987945994,35.828956012498,34.97713364375602,34.1379315559834]},\"selected\":{\"id\":\"1546\",\"type\":\"Selection\"},\"selection_policy\":{\"id\":\"1545\",\"type\":\"UnionRenderers\"}},\"id\":\"1468\",\"type\":\"ColumnDataSource\"},{\"attributes\":{\"callback\":null,\"data\":{\"x\":[\"1960\",\"1961\",\"1962\",\"1963\",\"1964\",\"1965\",\"1966\",\"1967\",\"1968\",\"1969\",\"1970\",\"1971\",\"1972\",\"1973\",\"1974\",\"1975\",\"1976\",\"1977\",\"1978\",\"1979\",\"1980\",\"1981\",\"1982\",\"1983\",\"1984\",\"1985\",\"1986\",\"1987\",\"1988\",\"1989\",\"1990\",\"1991\",\"1992\",\"1993\",\"1994\",\"1995\",\"1996\",\"1997\",\"1998\",\"1999\",\"2000\",\"2001\",\"2002\",\"2003\",\"2004\",\"2005\",\"2006\",\"2007\",\"2008\",\"2009\",\"2010\",\"2011\",\"2012\",\"2013\",\"2014\",\"2015\",\"2016\",\"2017\"],\"y\":[77.35363246498096,76.84064660563966,76.34919251805987,75.8911929273984,75.42392730969407,75.2455974700976,75.0631805029994,74.86460025693607,74.66965460183357,74.47948707660744,74.2883999829702,74.06985096112246,73.81021003144735,73.50148081814949,73.14517867392526,72.78077064593286,72.43033463814923,72.07257197472818,71.59162525042468,70.98739212549752,70.37390537107983,69.73538235357832,69.11523379006417,68.549880776788,67.97514579855805,67.40108835439656,66.83263598790077,66.2699204282547,65.70792376395148,65.14572411519175,64.58115696120876,64.00938831679981,63.47568887216426,62.90371180406295,62.32979564017021,61.731735700190455,61.15980763653538,60.58546239748637,60.00711357933131,59.428106219917154,58.83934865686248,58.1922959373342,57.492147507303955,56.791072578711145,56.08420239450577,55.373297896508575,54.67280454992341,53.977539651904614,53.28007273722423,52.58524307181396,51.89203527626144,51.22700828217377,50.57300177227712,49.92250999168939,49.27308811920352,48.62727125106838,47.983660157571435,47.34467173180428]},\"selected\":{\"id\":\"1459\",\"type\":\"Selection\"},\"selection_policy\":{\"id\":\"1458\",\"type\":\"UnionRenderers\"}},\"id\":\"1422\",\"type\":\"ColumnDataSource\"},{\"attributes\":{\"data_source\":{\"id\":\"1422\",\"type\":\"ColumnDataSource\"},\"glyph\":{\"id\":\"1423\",\"type\":\"Line\"},\"hover_glyph\":null,\"muted_glyph\":null,\"nonselection_glyph\":{\"id\":\"1424\",\"type\":\"Line\"},\"selection_glyph\":null,\"view\":{\"id\":\"1426\",\"type\":\"CDSView\"}},\"id\":\"1425\",\"type\":\"GlyphRenderer\"},{\"attributes\":{\"source\":{\"id\":\"1463\",\"type\":\"ColumnDataSource\"}},\"id\":\"1467\",\"type\":\"CDSView\"},{\"attributes\":{\"source\":{\"id\":\"1417\",\"type\":\"ColumnDataSource\"}},\"id\":\"1421\",\"type\":\"CDSView\"},{\"attributes\":{\"line_alpha\":0.1,\"line_color\":\"#1f77b4\",\"line_width\":2,\"x\":{\"field\":\"x\"},\"y\":{\"field\":\"y\"}},\"id\":\"1470\",\"type\":\"Line\"},{\"attributes\":{\"source\":{\"id\":\"1468\",\"type\":\"ColumnDataSource\"}},\"id\":\"1472\",\"type\":\"CDSView\"},{\"attributes\":{\"source\":{\"id\":\"1422\",\"type\":\"ColumnDataSource\"}},\"id\":\"1426\",\"type\":\"CDSView\"},{\"attributes\":{\"line_alpha\":0.1,\"line_color\":\"#1f77b4\",\"line_width\":2,\"x\":{\"field\":\"x\"},\"y\":{\"field\":\"y\"}},\"id\":\"1424\",\"type\":\"Line\"},{\"attributes\":{},\"id\":\"1489\",\"type\":\"UnionRenderers\"},{\"attributes\":{\"callback\":null},\"id\":\"1373\",\"type\":\"DataRange1d\"},{\"attributes\":{\"text\":\"Rural population (% of total population) weighted against Population, total\"},\"id\":\"1371\",\"type\":\"Title\"},{\"attributes\":{},\"id\":\"1391\",\"type\":\"PanTool\"},{\"attributes\":{\"callback\":null},\"id\":\"1375\",\"type\":\"DataRange1d\"},{\"attributes\":{\"callback\":null,\"tooltips\":\"\\n        <div style=padding=5px>Year:@x</div>\\n        <div style=padding=5px>Value:@y</div>\\n        \"},\"id\":\"1497\",\"type\":\"HoverTool\"},{\"attributes\":{\"callback\":null,\"data\":{\"x\":[\"1960\",\"1961\",\"1962\",\"1963\",\"1964\",\"1965\",\"1966\",\"1967\",\"1968\",\"1969\",\"1970\",\"1971\",\"1972\",\"1973\",\"1974\",\"1975\",\"1976\",\"1977\",\"1978\",\"1979\",\"1980\",\"1981\",\"1982\",\"1983\",\"1984\",\"1985\",\"1986\",\"1987\",\"1988\",\"1989\",\"1990\",\"1991\",\"1992\",\"1993\",\"1994\",\"1995\",\"1996\",\"1997\",\"1998\",\"1999\",\"2000\",\"2001\",\"2002\",\"2003\",\"2004\",\"2005\",\"2006\",\"2007\",\"2008\",\"2009\",\"2010\",\"2011\",\"2012\",\"2013\",\"2014\",\"2015\",\"2016\",\"2017\"],\"y\":[90.30540314961225,90.05922308596143,89.79142197607507,89.50943020766772,89.21332392073033,88.90699930713514,88.59129404993091,88.2421437061032,87.87890301522422,87.498660914606,87.1174953120763,86.69804365829646,86.25174066596233,85.79977180585672,85.34188252862592,85.43654119910886,84.95168938138087,84.44580769216783,83.9221505351178,83.41754005994233,82.84275481593508,82.33340839124018,81.98009926769818,81.5994068914721,81.17923373810068,80.73499511441362,80.28737654778298,79.83589419008621,79.37735062469132,78.94106163003731,78.49089593262889,78.06666464387531,77.66442498847728,77.27582295914314,76.937477006595,76.6142721385419,76.29207931094508,75.96043698797583,75.63493186609195,75.3089958985288,74.97591336080258,74.58855084775452,74.17072837361799,73.7383105264119,73.30461571223451,72.85760200817124,72.41698364409473,72.02137630639736,71.53477802260059,71.03883841181644,70.53468445683478,70.02322338974272,69.54425681847671,69.04126913036824,68.53335948867445,68.02084860989429,67.5036702230874,66.9817255009623]},\"selected\":{\"id\":\"1434\",\"type\":\"Selection\"},\"selection_policy\":{\"id\":\"1433\",\"type\":\"UnionRenderers\"}},\"id\":\"1404\",\"type\":\"ColumnDataSource\"},{\"attributes\":{\"line_color\":\"red\",\"line_width\":2,\"x\":{\"field\":\"x\"},\"y\":{\"field\":\"y\"}},\"id\":\"1405\",\"type\":\"Line\"},{\"attributes\":{\"dimension\":1,\"ticker\":{\"id\":\"1387\",\"type\":\"BasicTicker\"}},\"id\":\"1390\",\"type\":\"Grid\"},{\"attributes\":{},\"id\":\"1387\",\"type\":\"BasicTicker\"},{\"attributes\":{\"axis_label\":\"Percentage\",\"formatter\":{\"id\":\"1411\",\"type\":\"BasicTickFormatter\"},\"ticker\":{\"id\":\"1387\",\"type\":\"BasicTicker\"}},\"id\":\"1386\",\"type\":\"LinearAxis\"},{\"attributes\":{\"ticker\":{\"id\":\"1382\",\"type\":\"BasicTicker\"}},\"id\":\"1385\",\"type\":\"Grid\"},{\"attributes\":{},\"id\":\"1382\",\"type\":\"BasicTicker\"},{\"attributes\":{\"axis_label\":\"Years\",\"formatter\":{\"id\":\"1413\",\"type\":\"BasicTickFormatter\"},\"ticker\":{\"id\":\"1382\",\"type\":\"BasicTicker\"}},\"id\":\"1381\",\"type\":\"LinearAxis\"},{\"attributes\":{},\"id\":\"1379\",\"type\":\"LinearScale\"},{\"attributes\":{\"line_alpha\":0.1,\"line_color\":\"#1f77b4\",\"line_width\":2,\"x\":{\"field\":\"x\"},\"y\":{\"field\":\"y\"}},\"id\":\"1406\",\"type\":\"Line\"},{\"attributes\":{},\"id\":\"1377\",\"type\":\"LinearScale\"}],\"root_ids\":[\"1370\"]},\"title\":\"Bokeh Application\",\"version\":\"1.3.4\"}};\n",
       "  var render_items = [{\"docid\":\"162b87e8-e947-468e-9a93-093e869bdca3\",\"roots\":{\"1370\":\"1771a407-b4be-497f-a1ff-3b2eaeb02d61\"}}];\n",
       "  root.Bokeh.embed.embed_items_notebook(docs_json, render_items);\n",
       "\n",
       "  }\n",
       "  if (root.Bokeh !== undefined) {\n",
       "    embed_document(root);\n",
       "  } else {\n",
       "    var attempts = 0;\n",
       "    var timer = setInterval(function(root) {\n",
       "      if (root.Bokeh !== undefined) {\n",
       "        embed_document(root);\n",
       "        clearInterval(timer);\n",
       "      }\n",
       "      attempts++;\n",
       "      if (attempts > 100) {\n",
       "        console.log(\"Bokeh: ERROR: Unable to run BokehJS code because BokehJS library is missing\");\n",
       "        clearInterval(timer);\n",
       "      }\n",
       "    }, 10, root)\n",
       "  }\n",
       "})(window);"
      ],
      "application/vnd.bokehjs_exec.v0+json": ""
     },
     "metadata": {
      "application/vnd.bokehjs_exec.v0+json": {
       "id": "1370"
      }
     },
     "output_type": "display_data"
    }
   ],
   "source": [
    "# Urban population as a percentage of total population\n",
    "result = show_weighted_average(years, 'SP.RUR.TOTL.ZS', 'SP.POP.TOTL', \n",
    "                               ['LDCs', 'Developing excluding LDCs', 'OECD', 'UMICs'])"
   ]
  },
  {
   "cell_type": "code",
   "execution_count": 5,
   "metadata": {
    "slideshow": {
     "slide_type": "subslide"
    }
   },
   "outputs": [
    {
     "data": {
      "text/html": [
       "\n",
       "\n",
       "\n",
       "\n",
       "\n",
       "\n",
       "  <div class=\"bk-root\" id=\"234996e5-748b-4379-9777-d29203c66b42\" data-root-id=\"1681\"></div>\n"
      ]
     },
     "metadata": {},
     "output_type": "display_data"
    },
    {
     "data": {
      "application/javascript": [
       "(function(root) {\n",
       "  function embed_document(root) {\n",
       "    \n",
       "  var docs_json = {\"e3131904-eb0d-4a38-ab6a-512f1227b1ed\":{\"roots\":{\"references\":[{\"attributes\":{\"below\":[{\"id\":\"1692\",\"type\":\"LinearAxis\"}],\"center\":[{\"id\":\"1696\",\"type\":\"Grid\"},{\"id\":\"1701\",\"type\":\"Grid\"},{\"id\":\"1726\",\"type\":\"Legend\"}],\"left\":[{\"id\":\"1697\",\"type\":\"LinearAxis\"}],\"plot_height\":400,\"plot_width\":950,\"renderers\":[{\"id\":\"1718\",\"type\":\"GlyphRenderer\"},{\"id\":\"1731\",\"type\":\"GlyphRenderer\"}],\"title\":{\"id\":\"1682\",\"type\":\"Title\"},\"toolbar\":{\"id\":\"1708\",\"type\":\"Toolbar\"},\"x_range\":{\"id\":\"1684\",\"type\":\"DataRange1d\"},\"x_scale\":{\"id\":\"1688\",\"type\":\"LinearScale\"},\"y_range\":{\"id\":\"1686\",\"type\":\"DataRange1d\"},\"y_scale\":{\"id\":\"1690\",\"type\":\"LinearScale\"}},\"id\":\"1681\",\"subtype\":\"Figure\",\"type\":\"Plot\"},{\"attributes\":{\"callback\":null},\"id\":\"1684\",\"type\":\"DataRange1d\"},{\"attributes\":{\"fill_alpha\":{\"value\":0.1},\"fill_color\":{\"value\":\"#1f77b4\"},\"line_alpha\":{\"value\":0.1},\"line_color\":{\"value\":\"#1f77b4\"},\"line_width\":{\"value\":3},\"x\":{\"field\":\"x\"},\"y\":{\"field\":\"y\"}},\"id\":\"1730\",\"type\":\"Circle\"},{\"attributes\":{\"label\":{\"value\":\"LDCs\"},\"renderers\":[{\"id\":\"1718\",\"type\":\"GlyphRenderer\"}]},\"id\":\"1727\",\"type\":\"LegendItem\"},{\"attributes\":{\"callback\":null,\"data\":{\"x\":[\"1960\",\"1961\",\"1962\",\"1963\",\"1964\",\"1965\",\"1966\",\"1967\",\"1968\",\"1969\",\"1970\",\"1971\",\"1972\",\"1973\",\"1974\",\"1975\",\"1976\",\"1977\",\"1978\",\"1979\",\"1980\",\"1981\",\"1982\",\"1983\",\"1984\",\"1985\",\"1986\",\"1987\",\"1988\",\"1989\",\"1990\",\"1991\",\"1992\",\"1993\",\"1994\",\"1995\",\"1996\",\"1997\",\"1998\",\"1999\",\"2000\",\"2001\",\"2002\",\"2003\",\"2004\",\"2005\",\"2006\",\"2007\",\"2008\",\"2009\",\"2010\",\"2011\",\"2012\",\"2013\",\"2014\",\"2015\",\"2016\",\"2017\"],\"y\":[217201141.0,221648032.0,226185257.0,230852048.0,235678565.0,240689826.0,245905541.0,251232801.0,256646596.0,262035089.0,267378313.0,272530645.0,277556016.0,282587860.0,287723910.0,294963433.0,300466769.0,306095035.0,311835621.0,317790214.0,323594204.0,329769115.0,336725562.0,343761255.0,350844734.0,358052669.0,365463045.0,373065564.0,380863656.0,389023941.0,397380267.0,406151517.0,415295757.0,424676447.0,434374441.0,444118896.0,453786247.0,463345981.0,472977069.0,482765911.0,492753594.0,502654567.0,512565273.0,522500780.0,532434279.0,542199358.0,551913368.0,561924852.0,571250553.0,580616500.0,590103650.0,599729467.0,607552372.0,617585217.0,627707285.0,637891695.0,648126174.0,658398338.0]},\"selected\":{\"id\":\"1794\",\"type\":\"Selection\"},\"selection_policy\":{\"id\":\"1793\",\"type\":\"UnionRenderers\"}},\"id\":\"1728\",\"type\":\"ColumnDataSource\"},{\"attributes\":{\"text\":\"Rural population\"},\"id\":\"1682\",\"type\":\"Title\"},{\"attributes\":{\"items\":[{\"id\":\"1727\",\"type\":\"LegendItem\"}],\"location\":\"bottom_left\"},\"id\":\"1726\",\"type\":\"Legend\"},{\"attributes\":{\"fill_color\":{\"value\":\"red\"},\"line_color\":{\"value\":\"red\"},\"line_width\":{\"value\":3},\"x\":{\"field\":\"x\"},\"y\":{\"field\":\"y\"}},\"id\":\"1729\",\"type\":\"Circle\"},{\"attributes\":{\"axis_label\":\"Years\",\"formatter\":{\"id\":\"1724\",\"type\":\"BasicTickFormatter\"},\"ticker\":{\"id\":\"1693\",\"type\":\"BasicTicker\"}},\"id\":\"1692\",\"type\":\"LinearAxis\"},{\"attributes\":{\"source\":{\"id\":\"1728\",\"type\":\"ColumnDataSource\"}},\"id\":\"1732\",\"type\":\"CDSView\"},{\"attributes\":{\"bottom_units\":\"screen\",\"fill_alpha\":{\"value\":0.5},\"fill_color\":{\"value\":\"lightgrey\"},\"left_units\":\"screen\",\"level\":\"overlay\",\"line_alpha\":{\"value\":1.0},\"line_color\":{\"value\":\"black\"},\"line_dash\":[4,4],\"line_width\":{\"value\":2},\"render_mode\":\"css\",\"right_units\":\"screen\",\"top_units\":\"screen\"},\"id\":\"1725\",\"type\":\"BoxAnnotation\"},{\"attributes\":{},\"id\":\"1690\",\"type\":\"LinearScale\"},{\"attributes\":{},\"id\":\"1724\",\"type\":\"BasicTickFormatter\"},{\"attributes\":{},\"id\":\"1688\",\"type\":\"LinearScale\"},{\"attributes\":{\"data_source\":{\"id\":\"1728\",\"type\":\"ColumnDataSource\"},\"glyph\":{\"id\":\"1729\",\"type\":\"Circle\"},\"hover_glyph\":null,\"muted_glyph\":null,\"nonselection_glyph\":{\"id\":\"1730\",\"type\":\"Circle\"},\"selection_glyph\":null,\"view\":{\"id\":\"1732\",\"type\":\"CDSView\"}},\"id\":\"1731\",\"type\":\"GlyphRenderer\"},{\"attributes\":{},\"id\":\"1722\",\"type\":\"BasicTickFormatter\"},{\"attributes\":{\"source\":{\"id\":\"1715\",\"type\":\"ColumnDataSource\"}},\"id\":\"1719\",\"type\":\"CDSView\"},{\"attributes\":{},\"id\":\"1792\",\"type\":\"Selection\"},{\"attributes\":{\"ticker\":{\"id\":\"1693\",\"type\":\"BasicTicker\"}},\"id\":\"1696\",\"type\":\"Grid\"},{\"attributes\":{},\"id\":\"1693\",\"type\":\"BasicTicker\"},{\"attributes\":{\"data_source\":{\"id\":\"1715\",\"type\":\"ColumnDataSource\"},\"glyph\":{\"id\":\"1716\",\"type\":\"Line\"},\"hover_glyph\":null,\"muted_glyph\":null,\"nonselection_glyph\":{\"id\":\"1717\",\"type\":\"Line\"},\"selection_glyph\":null,\"view\":{\"id\":\"1719\",\"type\":\"CDSView\"}},\"id\":\"1718\",\"type\":\"GlyphRenderer\"},{\"attributes\":{},\"id\":\"1791\",\"type\":\"UnionRenderers\"},{\"attributes\":{\"active_drag\":\"auto\",\"active_inspect\":\"auto\",\"active_multi\":null,\"active_scroll\":\"auto\",\"active_tap\":\"auto\",\"tools\":[{\"id\":\"1702\",\"type\":\"PanTool\"},{\"id\":\"1703\",\"type\":\"WheelZoomTool\"},{\"id\":\"1704\",\"type\":\"BoxZoomTool\"},{\"id\":\"1705\",\"type\":\"SaveTool\"},{\"id\":\"1706\",\"type\":\"ResetTool\"},{\"id\":\"1707\",\"type\":\"HelpTool\"},{\"id\":\"1733\",\"type\":\"HoverTool\"}]},\"id\":\"1708\",\"type\":\"Toolbar\"},{\"attributes\":{\"dimension\":1,\"ticker\":{\"id\":\"1698\",\"type\":\"BasicTicker\"}},\"id\":\"1701\",\"type\":\"Grid\"},{\"attributes\":{},\"id\":\"1698\",\"type\":\"BasicTicker\"},{\"attributes\":{},\"id\":\"1793\",\"type\":\"UnionRenderers\"},{\"attributes\":{\"axis_label\":\"Percentage\",\"formatter\":{\"id\":\"1722\",\"type\":\"BasicTickFormatter\"},\"ticker\":{\"id\":\"1698\",\"type\":\"BasicTicker\"}},\"id\":\"1697\",\"type\":\"LinearAxis\"},{\"attributes\":{},\"id\":\"1794\",\"type\":\"Selection\"},{\"attributes\":{},\"id\":\"1702\",\"type\":\"PanTool\"},{\"attributes\":{\"callback\":null,\"tooltips\":\"\\n        <div style=padding=5px>Year:@x</div>\\n        <div style=padding=5px>Value:@y</div>\\n        \"},\"id\":\"1733\",\"type\":\"HoverTool\"},{\"attributes\":{\"callback\":null,\"data\":{\"x\":[\"1960\",\"1961\",\"1962\",\"1963\",\"1964\",\"1965\",\"1966\",\"1967\",\"1968\",\"1969\",\"1970\",\"1971\",\"1972\",\"1973\",\"1974\",\"1975\",\"1976\",\"1977\",\"1978\",\"1979\",\"1980\",\"1981\",\"1982\",\"1983\",\"1984\",\"1985\",\"1986\",\"1987\",\"1988\",\"1989\",\"1990\",\"1991\",\"1992\",\"1993\",\"1994\",\"1995\",\"1996\",\"1997\",\"1998\",\"1999\",\"2000\",\"2001\",\"2002\",\"2003\",\"2004\",\"2005\",\"2006\",\"2007\",\"2008\",\"2009\",\"2010\",\"2011\",\"2012\",\"2013\",\"2014\",\"2015\",\"2016\",\"2017\"],\"y\":[217201141.0,221648032.0,226185257.0,230852048.0,235678565.0,240689826.0,245905541.0,251232801.0,256646596.0,262035089.0,267378313.0,272530645.0,277556016.0,282587860.0,287723910.0,294963433.0,300466769.0,306095035.0,311835621.0,317790214.0,323594204.0,329769115.0,336725562.0,343761255.0,350844734.0,358052669.0,365463045.0,373065564.0,380863656.0,389023941.0,397380267.0,406151517.0,415295757.0,424676447.0,434374441.0,444118896.0,453786247.0,463345981.0,472977069.0,482765911.0,492753594.0,502654567.0,512565273.0,522500780.0,532434279.0,542199358.0,551913368.0,561924852.0,571250553.0,580616500.0,590103650.0,599729467.0,607552372.0,617585217.0,627707285.0,637891695.0,648126174.0,658398338.0]},\"selected\":{\"id\":\"1792\",\"type\":\"Selection\"},\"selection_policy\":{\"id\":\"1791\",\"type\":\"UnionRenderers\"}},\"id\":\"1715\",\"type\":\"ColumnDataSource\"},{\"attributes\":{\"line_color\":\"red\",\"line_width\":2,\"x\":{\"field\":\"x\"},\"y\":{\"field\":\"y\"}},\"id\":\"1716\",\"type\":\"Line\"},{\"attributes\":{},\"id\":\"1705\",\"type\":\"SaveTool\"},{\"attributes\":{\"overlay\":{\"id\":\"1725\",\"type\":\"BoxAnnotation\"}},\"id\":\"1704\",\"type\":\"BoxZoomTool\"},{\"attributes\":{\"line_alpha\":0.1,\"line_color\":\"#1f77b4\",\"line_width\":2,\"x\":{\"field\":\"x\"},\"y\":{\"field\":\"y\"}},\"id\":\"1717\",\"type\":\"Line\"},{\"attributes\":{},\"id\":\"1703\",\"type\":\"WheelZoomTool\"},{\"attributes\":{},\"id\":\"1707\",\"type\":\"HelpTool\"},{\"attributes\":{},\"id\":\"1706\",\"type\":\"ResetTool\"},{\"attributes\":{\"callback\":null},\"id\":\"1686\",\"type\":\"DataRange1d\"}],\"root_ids\":[\"1681\"]},\"title\":\"Bokeh Application\",\"version\":\"1.3.4\"}};\n",
       "  var render_items = [{\"docid\":\"e3131904-eb0d-4a38-ab6a-512f1227b1ed\",\"roots\":{\"1681\":\"234996e5-748b-4379-9777-d29203c66b42\"}}];\n",
       "  root.Bokeh.embed.embed_items_notebook(docs_json, render_items);\n",
       "\n",
       "  }\n",
       "  if (root.Bokeh !== undefined) {\n",
       "    embed_document(root);\n",
       "  } else {\n",
       "    var attempts = 0;\n",
       "    var timer = setInterval(function(root) {\n",
       "      if (root.Bokeh !== undefined) {\n",
       "        embed_document(root);\n",
       "        clearInterval(timer);\n",
       "      }\n",
       "      attempts++;\n",
       "      if (attempts > 100) {\n",
       "        console.log(\"Bokeh: ERROR: Unable to run BokehJS code because BokehJS library is missing\");\n",
       "        clearInterval(timer);\n",
       "      }\n",
       "    }, 10, root)\n",
       "  }\n",
       "})(window);"
      ],
      "application/vnd.bokehjs_exec.v0+json": ""
     },
     "metadata": {
      "application/vnd.bokehjs_exec.v0+json": {
       "id": "1681"
      }
     },
     "output_type": "display_data"
    }
   ],
   "source": [
    "result = show_group_total(years, 'SP.RUR.TOTL', ['LDCs'])"
   ]
  },
  {
   "cell_type": "code",
   "execution_count": 6,
   "metadata": {
    "slideshow": {
     "slide_type": "slide"
    }
   },
   "outputs": [
    {
     "data": {
      "text/html": [
       "\n",
       "\n",
       "\n",
       "\n",
       "\n",
       "\n",
       "  <div class=\"bk-root\" id=\"237dc9a1-9e8f-4a0f-a525-00916aa1e231\" data-root-id=\"1855\"></div>\n"
      ]
     },
     "metadata": {},
     "output_type": "display_data"
    },
    {
     "data": {
      "application/javascript": [
       "(function(root) {\n",
       "  function embed_document(root) {\n",
       "    \n",
       "  var docs_json = {\"76956f01-d195-45dd-a7b4-5c508066b709\":{\"roots\":{\"references\":[{\"attributes\":{\"below\":[{\"id\":\"1866\",\"type\":\"LinearAxis\"}],\"center\":[{\"id\":\"1870\",\"type\":\"Grid\"},{\"id\":\"1875\",\"type\":\"Grid\"},{\"id\":\"1900\",\"type\":\"Legend\"}],\"left\":[{\"id\":\"1871\",\"type\":\"LinearAxis\"}],\"plot_height\":400,\"plot_width\":950,\"renderers\":[{\"id\":\"1892\",\"type\":\"GlyphRenderer\"},{\"id\":\"1905\",\"type\":\"GlyphRenderer\"},{\"id\":\"1910\",\"type\":\"GlyphRenderer\"},{\"id\":\"1926\",\"type\":\"GlyphRenderer\"},{\"id\":\"1931\",\"type\":\"GlyphRenderer\"},{\"id\":\"1951\",\"type\":\"GlyphRenderer\"},{\"id\":\"1956\",\"type\":\"GlyphRenderer\"},{\"id\":\"1980\",\"type\":\"GlyphRenderer\"}],\"title\":{\"id\":\"1856\",\"type\":\"Title\"},\"toolbar\":{\"id\":\"1882\",\"type\":\"Toolbar\"},\"x_range\":{\"id\":\"1858\",\"type\":\"DataRange1d\"},\"x_scale\":{\"id\":\"1862\",\"type\":\"LinearScale\"},\"y_range\":{\"id\":\"1860\",\"type\":\"DataRange1d\"},\"y_scale\":{\"id\":\"1864\",\"type\":\"LinearScale\"}},\"id\":\"1855\",\"subtype\":\"Figure\",\"type\":\"Plot\"},{\"attributes\":{},\"id\":\"1973\",\"type\":\"Selection\"},{\"attributes\":{},\"id\":\"1974\",\"type\":\"UnionRenderers\"},{\"attributes\":{\"source\":{\"id\":\"1902\",\"type\":\"ColumnDataSource\"}},\"id\":\"1906\",\"type\":\"CDSView\"},{\"attributes\":{\"text\":\"Population ages 0-14 (% of total population) weighted against Population, total\"},\"id\":\"1856\",\"type\":\"Title\"},{\"attributes\":{\"callback\":null},\"id\":\"1858\",\"type\":\"DataRange1d\"},{\"attributes\":{\"data_source\":{\"id\":\"1902\",\"type\":\"ColumnDataSource\"},\"glyph\":{\"id\":\"1903\",\"type\":\"Circle\"},\"hover_glyph\":null,\"muted_glyph\":null,\"nonselection_glyph\":{\"id\":\"1904\",\"type\":\"Circle\"},\"selection_glyph\":null,\"view\":{\"id\":\"1906\",\"type\":\"CDSView\"}},\"id\":\"1905\",\"type\":\"GlyphRenderer\"},{\"attributes\":{\"callback\":null,\"tooltips\":\"\\n        <div style=padding=5px>Year:@x</div>\\n        <div style=padding=5px>Value:@y</div>\\n        \"},\"id\":\"1982\",\"type\":\"HoverTool\"},{\"attributes\":{\"data_source\":{\"id\":\"1907\",\"type\":\"ColumnDataSource\"},\"glyph\":{\"id\":\"1908\",\"type\":\"Line\"},\"hover_glyph\":null,\"muted_glyph\":null,\"nonselection_glyph\":{\"id\":\"1909\",\"type\":\"Line\"},\"selection_glyph\":null,\"view\":{\"id\":\"1911\",\"type\":\"CDSView\"}},\"id\":\"1910\",\"type\":\"GlyphRenderer\"},{\"attributes\":{\"fill_alpha\":{\"value\":0.1},\"fill_color\":{\"value\":\"#1f77b4\"},\"line_alpha\":{\"value\":0.1},\"line_color\":{\"value\":\"#1f77b4\"},\"line_width\":{\"value\":3},\"x\":{\"field\":\"x\"},\"y\":{\"field\":\"y\"}},\"id\":\"1904\",\"type\":\"Circle\"},{\"attributes\":{\"callback\":null,\"data\":{\"x\":[\"1960\",\"1961\",\"1962\",\"1963\",\"1964\",\"1965\",\"1966\",\"1967\",\"1968\",\"1969\",\"1970\",\"1971\",\"1972\",\"1973\",\"1974\",\"1975\",\"1976\",\"1977\",\"1978\",\"1979\",\"1980\",\"1981\",\"1982\",\"1983\",\"1984\",\"1985\",\"1986\",\"1987\",\"1988\",\"1989\",\"1990\",\"1991\",\"1992\",\"1993\",\"1994\",\"1995\",\"1996\",\"1997\",\"1998\",\"1999\",\"2000\",\"2001\",\"2002\",\"2003\",\"2004\",\"2005\",\"2006\",\"2007\",\"2008\",\"2009\",\"2010\",\"2011\",\"2012\",\"2013\",\"2014\",\"2015\",\"2016\",\"2017\"],\"y\":[40.68759292632059,40.902248184500756,41.25589173324295,41.63113763328221,41.87801412069505,41.94219453287967,42.094041714057774,42.03456904537488,41.84680969805507,41.6470138158929,41.48521788948078,41.42837556904059,41.34072859018314,41.22034102414996,41.03787663028312,40.77381338406043,40.47747993216549,40.112056066676914,39.68490639889442,39.21506061934624,38.72274549043441,38.22040703425205,37.731843452302435,37.254322793467296,36.789574703424364,36.34588577100764,36.055588220879315,35.77288499030644,35.50139724701606,35.227029417340695,34.92906688406042,34.76038495941502,34.47582595073569,34.12486208888969,33.776242109823194,33.457165094453174,32.99736074145577,32.650848787290194,32.33944960452067,31.956163591015965,31.46247449723159,31.051171911215434,30.519130398965917,29.925822930439033,29.3696380683664,28.89970990346446,28.48061580116519,28.13477676517371,27.845842847927425,27.57508608250911,27.302294757124095,27.06200424509802,26.817074946864174,26.571303888699866,26.33248478028756,26.10246731610828,25.884872437055105,25.670861481196635]},\"selected\":{\"id\":\"1944\",\"type\":\"Selection\"},\"selection_policy\":{\"id\":\"1943\",\"type\":\"UnionRenderers\"}},\"id\":\"1907\",\"type\":\"ColumnDataSource\"},{\"attributes\":{},\"id\":\"1945\",\"type\":\"UnionRenderers\"},{\"attributes\":{},\"id\":\"1943\",\"type\":\"UnionRenderers\"},{\"attributes\":{\"source\":{\"id\":\"1928\",\"type\":\"ColumnDataSource\"}},\"id\":\"1932\",\"type\":\"CDSView\"},{\"attributes\":{\"line_alpha\":0.1,\"line_color\":\"#1f77b4\",\"line_width\":2,\"x\":{\"field\":\"x\"},\"y\":{\"field\":\"y\"}},\"id\":\"1930\",\"type\":\"Line\"},{\"attributes\":{\"line_color\":\"green\",\"line_width\":2,\"x\":{\"field\":\"x\"},\"y\":{\"field\":\"y\"}},\"id\":\"1929\",\"type\":\"Line\"},{\"attributes\":{},\"id\":\"1946\",\"type\":\"Selection\"},{\"attributes\":{\"source\":{\"id\":\"1923\",\"type\":\"ColumnDataSource\"}},\"id\":\"1927\",\"type\":\"CDSView\"},{\"attributes\":{\"data_source\":{\"id\":\"1923\",\"type\":\"ColumnDataSource\"},\"glyph\":{\"id\":\"1924\",\"type\":\"Circle\"},\"hover_glyph\":null,\"muted_glyph\":null,\"nonselection_glyph\":{\"id\":\"1925\",\"type\":\"Circle\"},\"selection_glyph\":null,\"view\":{\"id\":\"1927\",\"type\":\"CDSView\"}},\"id\":\"1926\",\"type\":\"GlyphRenderer\"},{\"attributes\":{},\"id\":\"1944\",\"type\":\"Selection\"},{\"attributes\":{\"fill_color\":{\"value\":\"blue\"},\"line_color\":{\"value\":\"blue\"},\"line_width\":{\"value\":3},\"x\":{\"field\":\"x\"},\"y\":{\"field\":\"y\"}},\"id\":\"1924\",\"type\":\"Circle\"},{\"attributes\":{\"callback\":null,\"data\":{\"x\":[\"1960\",\"1961\",\"1962\",\"1963\",\"1964\",\"1965\",\"1966\",\"1967\",\"1968\",\"1969\",\"1970\",\"1971\",\"1972\",\"1973\",\"1974\",\"1975\",\"1976\",\"1977\",\"1978\",\"1979\",\"1980\",\"1981\",\"1982\",\"1983\",\"1984\",\"1985\",\"1986\",\"1987\",\"1988\",\"1989\",\"1990\",\"1991\",\"1992\",\"1993\",\"1994\",\"1995\",\"1996\",\"1997\",\"1998\",\"1999\",\"2000\",\"2001\",\"2002\",\"2003\",\"2004\",\"2005\",\"2006\",\"2007\",\"2008\",\"2009\",\"2010\",\"2011\",\"2012\",\"2013\",\"2014\",\"2015\",\"2016\",\"2017\"],\"y\":[40.68759292632059,40.902248184500756,41.25589173324295,41.63113763328221,41.87801412069505,41.94219453287967,42.094041714057774,42.03456904537488,41.84680969805507,41.6470138158929,41.48521788948078,41.42837556904059,41.34072859018314,41.22034102414996,41.03787663028312,40.77381338406043,40.47747993216549,40.112056066676914,39.68490639889442,39.21506061934624,38.72274549043441,38.22040703425205,37.731843452302435,37.254322793467296,36.789574703424364,36.34588577100764,36.055588220879315,35.77288499030644,35.50139724701606,35.227029417340695,34.92906688406042,34.76038495941502,34.47582595073569,34.12486208888969,33.776242109823194,33.457165094453174,32.99736074145577,32.650848787290194,32.33944960452067,31.956163591015965,31.46247449723159,31.051171911215434,30.519130398965917,29.925822930439033,29.3696380683664,28.89970990346446,28.48061580116519,28.13477676517371,27.845842847927425,27.57508608250911,27.302294757124095,27.06200424509802,26.817074946864174,26.571303888699866,26.33248478028756,26.10246731610828,25.884872437055105,25.670861481196635]},\"selected\":{\"id\":\"1946\",\"type\":\"Selection\"},\"selection_policy\":{\"id\":\"1945\",\"type\":\"UnionRenderers\"}},\"id\":\"1923\",\"type\":\"ColumnDataSource\"},{\"attributes\":{\"data_source\":{\"id\":\"1928\",\"type\":\"ColumnDataSource\"},\"glyph\":{\"id\":\"1929\",\"type\":\"Line\"},\"hover_glyph\":null,\"muted_glyph\":null,\"nonselection_glyph\":{\"id\":\"1930\",\"type\":\"Line\"},\"selection_glyph\":null,\"view\":{\"id\":\"1932\",\"type\":\"CDSView\"}},\"id\":\"1931\",\"type\":\"GlyphRenderer\"},{\"attributes\":{},\"id\":\"1921\",\"type\":\"Selection\"},{\"attributes\":{},\"id\":\"1920\",\"type\":\"UnionRenderers\"},{\"attributes\":{\"callback\":null,\"data\":{\"x\":[\"1960\",\"1961\",\"1962\",\"1963\",\"1964\",\"1965\",\"1966\",\"1967\",\"1968\",\"1969\",\"1970\",\"1971\",\"1972\",\"1973\",\"1974\",\"1975\",\"1976\",\"1977\",\"1978\",\"1979\",\"1980\",\"1981\",\"1982\",\"1983\",\"1984\",\"1985\",\"1986\",\"1987\",\"1988\",\"1989\",\"1990\",\"1991\",\"1992\",\"1993\",\"1994\",\"1995\",\"1996\",\"1997\",\"1998\",\"1999\",\"2000\",\"2001\",\"2002\",\"2003\",\"2004\",\"2005\",\"2006\",\"2007\",\"2008\",\"2009\",\"2010\",\"2011\",\"2012\",\"2013\",\"2014\",\"2015\",\"2016\",\"2017\"],\"y\":[29.77106331014537,29.795078765943412,29.715660963596108,29.563556483910688,29.389118800336995,29.215670794674537,29.07930385078313,28.92453325117747,28.75849705740509,28.56821784592817,28.369749850588036,28.122885014890574,27.878919698201713,27.62991099655804,27.348221107327554,27.030442718492527,26.765992328628798,26.44181798800294,26.080454042479047,25.717987521095793,25.375733155610774,25.028388215758664,24.722631521938716,24.4426864396022,24.160295391195362,23.862733177274027,23.623030227766826,23.356918465516564,23.07914342693694,22.81471511296764,22.578317982101005,22.38233511820821,22.212344635002115,22.055643128218186,21.889631105089745,21.70179980056244,21.52287844833605,21.314999783111602,21.089332157673738,20.865922563716104,20.653439230371426,20.415555136413452,20.200407075212425,19.99721546354425,19.792580083113325,19.58153049491419,19.42936673752946,19.266708712785178,19.10062316536645,18.940792466102835,18.78763312883592,18.68284269266012,18.553760570557017,18.4175092045611,18.28626606521173,18.163323640146963,18.042734326142373,17.93618839869138]},\"selected\":{\"id\":\"1973\",\"type\":\"Selection\"},\"selection_policy\":{\"id\":\"1972\",\"type\":\"UnionRenderers\"}},\"id\":\"1928\",\"type\":\"ColumnDataSource\"},{\"attributes\":{},\"id\":\"1918\",\"type\":\"UnionRenderers\"},{\"attributes\":{\"source\":{\"id\":\"1907\",\"type\":\"ColumnDataSource\"}},\"id\":\"1911\",\"type\":\"CDSView\"},{\"attributes\":{\"fill_alpha\":{\"value\":0.1},\"fill_color\":{\"value\":\"#1f77b4\"},\"line_alpha\":{\"value\":0.1},\"line_color\":{\"value\":\"#1f77b4\"},\"line_width\":{\"value\":3},\"x\":{\"field\":\"x\"},\"y\":{\"field\":\"y\"}},\"id\":\"1925\",\"type\":\"Circle\"},{\"attributes\":{\"line_alpha\":0.1,\"line_color\":\"#1f77b4\",\"line_width\":2,\"x\":{\"field\":\"x\"},\"y\":{\"field\":\"y\"}},\"id\":\"1909\",\"type\":\"Line\"},{\"attributes\":{\"line_color\":\"blue\",\"line_width\":2,\"x\":{\"field\":\"x\"},\"y\":{\"field\":\"y\"}},\"id\":\"1908\",\"type\":\"Line\"},{\"attributes\":{\"label\":{\"value\":\"Developing excluding LDCs\"},\"renderers\":[{\"id\":\"1910\",\"type\":\"GlyphRenderer\"}]},\"id\":\"1922\",\"type\":\"LegendItem\"},{\"attributes\":{},\"id\":\"1919\",\"type\":\"Selection\"},{\"attributes\":{},\"id\":\"1877\",\"type\":\"WheelZoomTool\"},{\"attributes\":{\"source\":{\"id\":\"1953\",\"type\":\"ColumnDataSource\"}},\"id\":\"1957\",\"type\":\"CDSView\"},{\"attributes\":{\"overlay\":{\"id\":\"1899\",\"type\":\"BoxAnnotation\"}},\"id\":\"1878\",\"type\":\"BoxZoomTool\"},{\"attributes\":{\"line_color\":\"red\",\"line_width\":2,\"x\":{\"field\":\"x\"},\"y\":{\"field\":\"y\"}},\"id\":\"1890\",\"type\":\"Line\"},{\"attributes\":{},\"id\":\"2063\",\"type\":\"Selection\"},{\"attributes\":{},\"id\":\"1879\",\"type\":\"SaveTool\"},{\"attributes\":{\"callback\":null,\"data\":{\"x\":[\"1960\",\"1961\",\"1962\",\"1963\",\"1964\",\"1965\",\"1966\",\"1967\",\"1968\",\"1969\",\"1970\",\"1971\",\"1972\",\"1973\",\"1974\",\"1975\",\"1976\",\"1977\",\"1978\",\"1979\",\"1980\",\"1981\",\"1982\",\"1983\",\"1984\",\"1985\",\"1986\",\"1987\",\"1988\",\"1989\",\"1990\",\"1991\",\"1992\",\"1993\",\"1994\",\"1995\",\"1996\",\"1997\",\"1998\",\"1999\",\"2000\",\"2001\",\"2002\",\"2003\",\"2004\",\"2005\",\"2006\",\"2007\",\"2008\",\"2009\",\"2010\",\"2011\",\"2012\",\"2013\",\"2014\",\"2015\",\"2016\",\"2017\"],\"y\":[42.59819142499137,42.89225875575388,43.129862065246684,43.31738154412952,43.45608262788829,43.550080947339595,43.80234938883768,43.979676666304975,44.10080029168044,44.17631629755081,44.20610888112995,44.37753247201889,44.49280808409436,44.56006946571624,44.58954872369071,44.589064341807266,44.71379908475905,44.773230781109994,44.788422265526854,44.77559460379179,44.741865851430674,44.85211199748614,44.91008171726692,44.92393384548275,44.899031348737715,44.84056977606963,44.89237790006058,44.874893102298195,44.80717206791495,44.7065744876418,44.58173260177241,44.50989062931576,44.40331762439485,44.2631076363979,44.08449967458614,43.864782315812064,43.77791497159772,43.63859321880778,43.46040712665935,43.261074903554466,43.05250753237409,42.92645426230383,42.78153339187954,42.623671123778905,42.4538109516677,42.26938810853834,42.15716163307373,42.02039711340489,41.86147936931502,41.68421796662147,41.49082505944,41.290660205111934,41.06737328423549,40.819736905133695,40.55543302226044,40.27763880852747,40.006149187520116,39.721083369953]},\"selected\":{\"id\":\"1919\",\"type\":\"Selection\"},\"selection_policy\":{\"id\":\"1918\",\"type\":\"UnionRenderers\"}},\"id\":\"1889\",\"type\":\"ColumnDataSource\"},{\"attributes\":{\"axis_label\":\"Percentage\",\"formatter\":{\"id\":\"1896\",\"type\":\"BasicTickFormatter\"},\"ticker\":{\"id\":\"1872\",\"type\":\"BasicTicker\"}},\"id\":\"1871\",\"type\":\"LinearAxis\"},{\"attributes\":{},\"id\":\"1876\",\"type\":\"PanTool\"},{\"attributes\":{},\"id\":\"1872\",\"type\":\"BasicTicker\"},{\"attributes\":{\"callback\":null,\"data\":{\"x\":[\"1960\",\"1961\",\"1962\",\"1963\",\"1964\",\"1965\",\"1966\",\"1967\",\"1968\",\"1969\",\"1970\",\"1971\",\"1972\",\"1973\",\"1974\",\"1975\",\"1976\",\"1977\",\"1978\",\"1979\",\"1980\",\"1981\",\"1982\",\"1983\",\"1984\",\"1985\",\"1986\",\"1987\",\"1988\",\"1989\",\"1990\",\"1991\",\"1992\",\"1993\",\"1994\",\"1995\",\"1996\",\"1997\",\"1998\",\"1999\",\"2000\",\"2001\",\"2002\",\"2003\",\"2004\",\"2005\",\"2006\",\"2007\",\"2008\",\"2009\",\"2010\",\"2011\",\"2012\",\"2013\",\"2014\",\"2015\",\"2016\",\"2017\"],\"y\":[42.59819142499137,42.89225875575388,43.129862065246684,43.31738154412952,43.45608262788829,43.550080947339595,43.80234938883768,43.979676666304975,44.10080029168044,44.17631629755081,44.20610888112995,44.37753247201889,44.49280808409436,44.56006946571624,44.58954872369071,44.589064341807266,44.71379908475905,44.773230781109994,44.788422265526854,44.77559460379179,44.741865851430674,44.85211199748614,44.91008171726692,44.92393384548275,44.899031348737715,44.84056977606963,44.89237790006058,44.874893102298195,44.80717206791495,44.7065744876418,44.58173260177241,44.50989062931576,44.40331762439485,44.2631076363979,44.08449967458614,43.864782315812064,43.77791497159772,43.63859321880778,43.46040712665935,43.261074903554466,43.05250753237409,42.92645426230383,42.78153339187954,42.623671123778905,42.4538109516677,42.26938810853834,42.15716163307373,42.02039711340489,41.86147936931502,41.68421796662147,41.49082505944,41.290660205111934,41.06737328423549,40.819736905133695,40.55543302226044,40.27763880852747,40.006149187520116,39.721083369953]},\"selected\":{\"id\":\"1921\",\"type\":\"Selection\"},\"selection_policy\":{\"id\":\"1920\",\"type\":\"UnionRenderers\"}},\"id\":\"1902\",\"type\":\"ColumnDataSource\"},{\"attributes\":{\"line_alpha\":0.1,\"line_color\":\"#1f77b4\",\"line_width\":2,\"x\":{\"field\":\"x\"},\"y\":{\"field\":\"y\"}},\"id\":\"1955\",\"type\":\"Line\"},{\"attributes\":{},\"id\":\"2062\",\"type\":\"UnionRenderers\"},{\"attributes\":{},\"id\":\"1867\",\"type\":\"BasicTicker\"},{\"attributes\":{\"line_color\":\"orange\",\"line_width\":2,\"x\":{\"field\":\"x\"},\"y\":{\"field\":\"y\"}},\"id\":\"1954\",\"type\":\"Line\"},{\"attributes\":{\"items\":[{\"id\":\"1901\",\"type\":\"LegendItem\"},{\"id\":\"1922\",\"type\":\"LegendItem\"},{\"id\":\"1947\",\"type\":\"LegendItem\"},{\"id\":\"1976\",\"type\":\"LegendItem\"}],\"location\":\"bottom_left\"},\"id\":\"1900\",\"type\":\"Legend\"},{\"attributes\":{},\"id\":\"2065\",\"type\":\"Selection\"},{\"attributes\":{\"ticker\":{\"id\":\"1867\",\"type\":\"BasicTicker\"}},\"id\":\"1870\",\"type\":\"Grid\"},{\"attributes\":{\"bottom_units\":\"screen\",\"fill_alpha\":{\"value\":0.5},\"fill_color\":{\"value\":\"lightgrey\"},\"left_units\":\"screen\",\"level\":\"overlay\",\"line_alpha\":{\"value\":1.0},\"line_color\":{\"value\":\"black\"},\"line_dash\":[4,4],\"line_width\":{\"value\":2},\"render_mode\":\"css\",\"right_units\":\"screen\",\"top_units\":\"screen\"},\"id\":\"1899\",\"type\":\"BoxAnnotation\"},{\"attributes\":{},\"id\":\"1862\",\"type\":\"LinearScale\"},{\"attributes\":{},\"id\":\"1972\",\"type\":\"UnionRenderers\"},{\"attributes\":{\"dimension\":1,\"ticker\":{\"id\":\"1872\",\"type\":\"BasicTicker\"}},\"id\":\"1875\",\"type\":\"Grid\"},{\"attributes\":{\"source\":{\"id\":\"1977\",\"type\":\"ColumnDataSource\"}},\"id\":\"1981\",\"type\":\"CDSView\"},{\"attributes\":{},\"id\":\"1864\",\"type\":\"LinearScale\"},{\"attributes\":{\"fill_color\":{\"value\":\"red\"},\"line_color\":{\"value\":\"red\"},\"line_width\":{\"value\":3},\"x\":{\"field\":\"x\"},\"y\":{\"field\":\"y\"}},\"id\":\"1903\",\"type\":\"Circle\"},{\"attributes\":{\"axis_label\":\"Years\",\"formatter\":{\"id\":\"1898\",\"type\":\"BasicTickFormatter\"},\"ticker\":{\"id\":\"1867\",\"type\":\"BasicTicker\"}},\"id\":\"1866\",\"type\":\"LinearAxis\"},{\"attributes\":{\"callback\":null},\"id\":\"1860\",\"type\":\"DataRange1d\"},{\"attributes\":{\"source\":{\"id\":\"1948\",\"type\":\"ColumnDataSource\"}},\"id\":\"1952\",\"type\":\"CDSView\"},{\"attributes\":{\"data_source\":{\"id\":\"1977\",\"type\":\"ColumnDataSource\"},\"glyph\":{\"id\":\"1978\",\"type\":\"Circle\"},\"hover_glyph\":null,\"muted_glyph\":null,\"nonselection_glyph\":{\"id\":\"1979\",\"type\":\"Circle\"},\"selection_glyph\":null,\"view\":{\"id\":\"1981\",\"type\":\"CDSView\"}},\"id\":\"1980\",\"type\":\"GlyphRenderer\"},{\"attributes\":{},\"id\":\"1896\",\"type\":\"BasicTickFormatter\"},{\"attributes\":{\"data_source\":{\"id\":\"1948\",\"type\":\"ColumnDataSource\"},\"glyph\":{\"id\":\"1949\",\"type\":\"Circle\"},\"hover_glyph\":null,\"muted_glyph\":null,\"nonselection_glyph\":{\"id\":\"1950\",\"type\":\"Circle\"},\"selection_glyph\":null,\"view\":{\"id\":\"1952\",\"type\":\"CDSView\"}},\"id\":\"1951\",\"type\":\"GlyphRenderer\"},{\"attributes\":{\"source\":{\"id\":\"1889\",\"type\":\"ColumnDataSource\"}},\"id\":\"1893\",\"type\":\"CDSView\"},{\"attributes\":{},\"id\":\"2064\",\"type\":\"UnionRenderers\"},{\"attributes\":{\"label\":{\"value\":\"LDCs\"},\"renderers\":[{\"id\":\"1892\",\"type\":\"GlyphRenderer\"}]},\"id\":\"1901\",\"type\":\"LegendItem\"},{\"attributes\":{\"data_source\":{\"id\":\"1953\",\"type\":\"ColumnDataSource\"},\"glyph\":{\"id\":\"1954\",\"type\":\"Line\"},\"hover_glyph\":null,\"muted_glyph\":null,\"nonselection_glyph\":{\"id\":\"1955\",\"type\":\"Line\"},\"selection_glyph\":null,\"view\":{\"id\":\"1957\",\"type\":\"CDSView\"}},\"id\":\"1956\",\"type\":\"GlyphRenderer\"},{\"attributes\":{\"data_source\":{\"id\":\"1889\",\"type\":\"ColumnDataSource\"},\"glyph\":{\"id\":\"1890\",\"type\":\"Line\"},\"hover_glyph\":null,\"muted_glyph\":null,\"nonselection_glyph\":{\"id\":\"1891\",\"type\":\"Line\"},\"selection_glyph\":null,\"view\":{\"id\":\"1893\",\"type\":\"CDSView\"}},\"id\":\"1892\",\"type\":\"GlyphRenderer\"},{\"attributes\":{\"fill_color\":{\"value\":\"orange\"},\"line_color\":{\"value\":\"orange\"},\"line_width\":{\"value\":3},\"x\":{\"field\":\"x\"},\"y\":{\"field\":\"y\"}},\"id\":\"1978\",\"type\":\"Circle\"},{\"attributes\":{\"line_alpha\":0.1,\"line_color\":\"#1f77b4\",\"line_width\":2,\"x\":{\"field\":\"x\"},\"y\":{\"field\":\"y\"}},\"id\":\"1891\",\"type\":\"Line\"},{\"attributes\":{\"fill_color\":{\"value\":\"green\"},\"line_color\":{\"value\":\"green\"},\"line_width\":{\"value\":3},\"x\":{\"field\":\"x\"},\"y\":{\"field\":\"y\"}},\"id\":\"1949\",\"type\":\"Circle\"},{\"attributes\":{\"callback\":null,\"data\":{\"x\":[\"1960\",\"1961\",\"1962\",\"1963\",\"1964\",\"1965\",\"1966\",\"1967\",\"1968\",\"1969\",\"1970\",\"1971\",\"1972\",\"1973\",\"1974\",\"1975\",\"1976\",\"1977\",\"1978\",\"1979\",\"1980\",\"1981\",\"1982\",\"1983\",\"1984\",\"1985\",\"1986\",\"1987\",\"1988\",\"1989\",\"1990\",\"1991\",\"1992\",\"1993\",\"1994\",\"1995\",\"1996\",\"1997\",\"1998\",\"1999\",\"2000\",\"2001\",\"2002\",\"2003\",\"2004\",\"2005\",\"2006\",\"2007\",\"2008\",\"2009\",\"2010\",\"2011\",\"2012\",\"2013\",\"2014\",\"2015\",\"2016\",\"2017\"],\"y\":[39.04222914939867,39.17667463585821,39.48588450793144,39.829105202166225,40.02627492805266,40.02526387525151,40.11528733647827,39.96843585220001,39.68946710430553,39.41959558698247,39.214852174767955,39.12027139434125,39.00527482590982,38.864230698300055,38.650914508503085,38.331543020363746,37.90885784343068,37.40271580943209,36.819592058140174,36.181156104767474,35.51052735561499,34.756729935845605,34.04132994750763,33.3544902339836,32.69965943698933,32.098834713727605,31.67496487666268,31.312556323471306,30.99984816794204,30.692803458039954,30.325135181458403,30.178906688320367,29.83184611227772,29.381955896500173,28.963731141403954,28.631759740223945,28.012871425945335,27.63155963956394,27.33815352475241,26.92385075236183,26.30800939099633,25.774296102468575,25.026248850289214,24.166506585119667,23.378611198688276,22.7564057756466,22.23850077501672,21.855123550494294,21.582316836822265,21.352857582015258,21.131736385781664,20.96685520801494,20.822031831895877,20.69432052610686,20.584341818712765,20.487134501741675,20.399401670984584,20.307288003226695]},\"selected\":{\"id\":\"2065\",\"type\":\"Selection\"},\"selection_policy\":{\"id\":\"2064\",\"type\":\"UnionRenderers\"}},\"id\":\"1977\",\"type\":\"ColumnDataSource\"},{\"attributes\":{\"active_drag\":\"auto\",\"active_inspect\":\"auto\",\"active_multi\":null,\"active_scroll\":\"auto\",\"active_tap\":\"auto\",\"tools\":[{\"id\":\"1876\",\"type\":\"PanTool\"},{\"id\":\"1877\",\"type\":\"WheelZoomTool\"},{\"id\":\"1878\",\"type\":\"BoxZoomTool\"},{\"id\":\"1879\",\"type\":\"SaveTool\"},{\"id\":\"1880\",\"type\":\"ResetTool\"},{\"id\":\"1881\",\"type\":\"HelpTool\"},{\"id\":\"1982\",\"type\":\"HoverTool\"}]},\"id\":\"1882\",\"type\":\"Toolbar\"},{\"attributes\":{\"callback\":null,\"data\":{\"x\":[\"1960\",\"1961\",\"1962\",\"1963\",\"1964\",\"1965\",\"1966\",\"1967\",\"1968\",\"1969\",\"1970\",\"1971\",\"1972\",\"1973\",\"1974\",\"1975\",\"1976\",\"1977\",\"1978\",\"1979\",\"1980\",\"1981\",\"1982\",\"1983\",\"1984\",\"1985\",\"1986\",\"1987\",\"1988\",\"1989\",\"1990\",\"1991\",\"1992\",\"1993\",\"1994\",\"1995\",\"1996\",\"1997\",\"1998\",\"1999\",\"2000\",\"2001\",\"2002\",\"2003\",\"2004\",\"2005\",\"2006\",\"2007\",\"2008\",\"2009\",\"2010\",\"2011\",\"2012\",\"2013\",\"2014\",\"2015\",\"2016\",\"2017\"],\"y\":[29.77106331014537,29.795078765943412,29.715660963596108,29.563556483910688,29.389118800336995,29.215670794674537,29.07930385078313,28.92453325117747,28.75849705740509,28.56821784592817,28.369749850588036,28.122885014890574,27.878919698201713,27.62991099655804,27.348221107327554,27.030442718492527,26.765992328628798,26.44181798800294,26.080454042479047,25.717987521095793,25.375733155610774,25.028388215758664,24.722631521938716,24.4426864396022,24.160295391195362,23.862733177274027,23.623030227766826,23.356918465516564,23.07914342693694,22.81471511296764,22.578317982101005,22.38233511820821,22.212344635002115,22.055643128218186,21.889631105089745,21.70179980056244,21.52287844833605,21.314999783111602,21.089332157673738,20.865922563716104,20.653439230371426,20.415555136413452,20.200407075212425,19.99721546354425,19.792580083113325,19.58153049491419,19.42936673752946,19.266708712785178,19.10062316536645,18.940792466102835,18.78763312883592,18.68284269266012,18.553760570557017,18.4175092045611,18.28626606521173,18.163323640146963,18.042734326142373,17.93618839869138]},\"selected\":{\"id\":\"1975\",\"type\":\"Selection\"},\"selection_policy\":{\"id\":\"1974\",\"type\":\"UnionRenderers\"}},\"id\":\"1948\",\"type\":\"ColumnDataSource\"},{\"attributes\":{},\"id\":\"1898\",\"type\":\"BasicTickFormatter\"},{\"attributes\":{\"label\":{\"value\":\"UMICs\"},\"renderers\":[{\"id\":\"1956\",\"type\":\"GlyphRenderer\"}]},\"id\":\"1976\",\"type\":\"LegendItem\"},{\"attributes\":{},\"id\":\"1881\",\"type\":\"HelpTool\"},{\"attributes\":{\"callback\":null,\"data\":{\"x\":[\"1960\",\"1961\",\"1962\",\"1963\",\"1964\",\"1965\",\"1966\",\"1967\",\"1968\",\"1969\",\"1970\",\"1971\",\"1972\",\"1973\",\"1974\",\"1975\",\"1976\",\"1977\",\"1978\",\"1979\",\"1980\",\"1981\",\"1982\",\"1983\",\"1984\",\"1985\",\"1986\",\"1987\",\"1988\",\"1989\",\"1990\",\"1991\",\"1992\",\"1993\",\"1994\",\"1995\",\"1996\",\"1997\",\"1998\",\"1999\",\"2000\",\"2001\",\"2002\",\"2003\",\"2004\",\"2005\",\"2006\",\"2007\",\"2008\",\"2009\",\"2010\",\"2011\",\"2012\",\"2013\",\"2014\",\"2015\",\"2016\",\"2017\"],\"y\":[39.04222914939867,39.17667463585821,39.48588450793144,39.829105202166225,40.02627492805266,40.02526387525151,40.11528733647827,39.96843585220001,39.68946710430553,39.41959558698247,39.214852174767955,39.12027139434125,39.00527482590982,38.864230698300055,38.650914508503085,38.331543020363746,37.90885784343068,37.40271580943209,36.819592058140174,36.181156104767474,35.51052735561499,34.756729935845605,34.04132994750763,33.3544902339836,32.69965943698933,32.098834713727605,31.67496487666268,31.312556323471306,30.99984816794204,30.692803458039954,30.325135181458403,30.178906688320367,29.83184611227772,29.381955896500173,28.963731141403954,28.631759740223945,28.012871425945335,27.63155963956394,27.33815352475241,26.92385075236183,26.30800939099633,25.774296102468575,25.026248850289214,24.166506585119667,23.378611198688276,22.7564057756466,22.23850077501672,21.855123550494294,21.582316836822265,21.352857582015258,21.131736385781664,20.96685520801494,20.822031831895877,20.69432052610686,20.584341818712765,20.487134501741675,20.399401670984584,20.307288003226695]},\"selected\":{\"id\":\"2063\",\"type\":\"Selection\"},\"selection_policy\":{\"id\":\"2062\",\"type\":\"UnionRenderers\"}},\"id\":\"1953\",\"type\":\"ColumnDataSource\"},{\"attributes\":{\"label\":{\"value\":\"OECD\"},\"renderers\":[{\"id\":\"1931\",\"type\":\"GlyphRenderer\"}]},\"id\":\"1947\",\"type\":\"LegendItem\"},{\"attributes\":{},\"id\":\"1975\",\"type\":\"Selection\"},{\"attributes\":{},\"id\":\"1880\",\"type\":\"ResetTool\"},{\"attributes\":{\"fill_alpha\":{\"value\":0.1},\"fill_color\":{\"value\":\"#1f77b4\"},\"line_alpha\":{\"value\":0.1},\"line_color\":{\"value\":\"#1f77b4\"},\"line_width\":{\"value\":3},\"x\":{\"field\":\"x\"},\"y\":{\"field\":\"y\"}},\"id\":\"1950\",\"type\":\"Circle\"},{\"attributes\":{\"fill_alpha\":{\"value\":0.1},\"fill_color\":{\"value\":\"#1f77b4\"},\"line_alpha\":{\"value\":0.1},\"line_color\":{\"value\":\"#1f77b4\"},\"line_width\":{\"value\":3},\"x\":{\"field\":\"x\"},\"y\":{\"field\":\"y\"}},\"id\":\"1979\",\"type\":\"Circle\"}],\"root_ids\":[\"1855\"]},\"title\":\"Bokeh Application\",\"version\":\"1.3.4\"}};\n",
       "  var render_items = [{\"docid\":\"76956f01-d195-45dd-a7b4-5c508066b709\",\"roots\":{\"1855\":\"237dc9a1-9e8f-4a0f-a525-00916aa1e231\"}}];\n",
       "  root.Bokeh.embed.embed_items_notebook(docs_json, render_items);\n",
       "\n",
       "  }\n",
       "  if (root.Bokeh !== undefined) {\n",
       "    embed_document(root);\n",
       "  } else {\n",
       "    var attempts = 0;\n",
       "    var timer = setInterval(function(root) {\n",
       "      if (root.Bokeh !== undefined) {\n",
       "        embed_document(root);\n",
       "        clearInterval(timer);\n",
       "      }\n",
       "      attempts++;\n",
       "      if (attempts > 100) {\n",
       "        console.log(\"Bokeh: ERROR: Unable to run BokehJS code because BokehJS library is missing\");\n",
       "        clearInterval(timer);\n",
       "      }\n",
       "    }, 10, root)\n",
       "  }\n",
       "})(window);"
      ],
      "application/vnd.bokehjs_exec.v0+json": ""
     },
     "metadata": {
      "application/vnd.bokehjs_exec.v0+json": {
       "id": "1855"
      }
     },
     "output_type": "display_data"
    }
   ],
   "source": [
    "# Population 0-14\n",
    "result = show_weighted_average(years, 'SP.POP.0014.TO.ZS', 'SP.POP.TOTL', \n",
    "                               ['LDCs', 'Developing excluding LDCs', 'OECD', 'UMICs'])"
   ]
  },
  {
   "cell_type": "code",
   "execution_count": 7,
   "metadata": {},
   "outputs": [
    {
     "data": {
      "text/html": [
       "\n",
       "\n",
       "\n",
       "\n",
       "\n",
       "\n",
       "  <div class=\"bk-root\" id=\"070060f4-f68d-4d5b-b487-3922190c0317\" data-root-id=\"2198\"></div>\n"
      ]
     },
     "metadata": {},
     "output_type": "display_data"
    },
    {
     "data": {
      "application/javascript": [
       "(function(root) {\n",
       "  function embed_document(root) {\n",
       "    \n",
       "  var docs_json = {\"df5f440b-2179-402b-ab72-0bfaeab972a1\":{\"roots\":{\"references\":[{\"attributes\":{\"below\":[{\"id\":\"2209\",\"type\":\"LinearAxis\"}],\"center\":[{\"id\":\"2213\",\"type\":\"Grid\"},{\"id\":\"2218\",\"type\":\"Grid\"},{\"id\":\"2243\",\"type\":\"Legend\"}],\"left\":[{\"id\":\"2214\",\"type\":\"LinearAxis\"}],\"plot_height\":400,\"plot_width\":950,\"renderers\":[{\"id\":\"2235\",\"type\":\"GlyphRenderer\"},{\"id\":\"2248\",\"type\":\"GlyphRenderer\"},{\"id\":\"2253\",\"type\":\"GlyphRenderer\"},{\"id\":\"2269\",\"type\":\"GlyphRenderer\"},{\"id\":\"2274\",\"type\":\"GlyphRenderer\"},{\"id\":\"2294\",\"type\":\"GlyphRenderer\"}],\"title\":{\"id\":\"2199\",\"type\":\"Title\"},\"toolbar\":{\"id\":\"2225\",\"type\":\"Toolbar\"},\"x_range\":{\"id\":\"2201\",\"type\":\"DataRange1d\"},\"x_scale\":{\"id\":\"2205\",\"type\":\"LinearScale\"},\"y_range\":{\"id\":\"2203\",\"type\":\"DataRange1d\"},\"y_scale\":{\"id\":\"2207\",\"type\":\"LinearScale\"}},\"id\":\"2198\",\"subtype\":\"Figure\",\"type\":\"Plot\"},{\"attributes\":{\"axis_label\":\"Percentage\",\"formatter\":{\"id\":\"2239\",\"type\":\"BasicTickFormatter\"},\"ticker\":{\"id\":\"2215\",\"type\":\"BasicTicker\"}},\"id\":\"2214\",\"type\":\"LinearAxis\"},{\"attributes\":{\"source\":{\"id\":\"2291\",\"type\":\"ColumnDataSource\"}},\"id\":\"2295\",\"type\":\"CDSView\"},{\"attributes\":{\"label\":{\"value\":\"LDCs\"},\"renderers\":[{\"id\":\"2235\",\"type\":\"GlyphRenderer\"}]},\"id\":\"2244\",\"type\":\"LegendItem\"},{\"attributes\":{\"fill_color\":{\"value\":\"blue\"},\"line_color\":{\"value\":\"blue\"},\"line_width\":{\"value\":3},\"x\":{\"field\":\"x\"},\"y\":{\"field\":\"y\"}},\"id\":\"2267\",\"type\":\"Circle\"},{\"attributes\":{},\"id\":\"2215\",\"type\":\"BasicTicker\"},{\"attributes\":{\"items\":[{\"id\":\"2244\",\"type\":\"LegendItem\"},{\"id\":\"2265\",\"type\":\"LegendItem\"},{\"id\":\"2290\",\"type\":\"LegendItem\"}],\"location\":\"bottom_left\"},\"id\":\"2243\",\"type\":\"Legend\"},{\"attributes\":{\"fill_alpha\":{\"value\":0.1},\"fill_color\":{\"value\":\"#1f77b4\"},\"line_alpha\":{\"value\":0.1},\"line_color\":{\"value\":\"#1f77b4\"},\"line_width\":{\"value\":3},\"x\":{\"field\":\"x\"},\"y\":{\"field\":\"y\"}},\"id\":\"2268\",\"type\":\"Circle\"},{\"attributes\":{\"callback\":null,\"data\":{\"x\":[\"2000\",\"2001\",\"2002\",\"2003\",\"2004\",\"2005\",\"2006\",\"2007\",\"2008\",\"2009\",\"2010\",\"2011\",\"2012\",\"2013\",\"2014\",\"2015\",\"2016\",\"2017\"],\"y\":[7.313298252489695,8.310611901533424,9.28077115926377,10.252918388064188,11.205379345323372,12.149632874228196,13.089596716542752,14.025080502459863,14.955900981807803,15.821696108471013,16.709045789768172,17.553474451435992,18.374064944696872,19.187805301854954,19.99536707307814,20.797136473512598,21.58898092737968,22.374104786870443]},\"selected\":{\"id\":\"2264\",\"type\":\"Selection\"},\"selection_policy\":{\"id\":\"2263\",\"type\":\"UnionRenderers\"}},\"id\":\"2245\",\"type\":\"ColumnDataSource\"},{\"attributes\":{},\"id\":\"2394\",\"type\":\"UnionRenderers\"},{\"attributes\":{\"data_source\":{\"id\":\"2266\",\"type\":\"ColumnDataSource\"},\"glyph\":{\"id\":\"2267\",\"type\":\"Circle\"},\"hover_glyph\":null,\"muted_glyph\":null,\"nonselection_glyph\":{\"id\":\"2268\",\"type\":\"Circle\"},\"selection_glyph\":null,\"view\":{\"id\":\"2270\",\"type\":\"CDSView\"}},\"id\":\"2269\",\"type\":\"GlyphRenderer\"},{\"attributes\":{\"bottom_units\":\"screen\",\"fill_alpha\":{\"value\":0.5},\"fill_color\":{\"value\":\"lightgrey\"},\"left_units\":\"screen\",\"level\":\"overlay\",\"line_alpha\":{\"value\":1.0},\"line_color\":{\"value\":\"black\"},\"line_dash\":[4,4],\"line_width\":{\"value\":2},\"render_mode\":\"css\",\"right_units\":\"screen\",\"top_units\":\"screen\"},\"id\":\"2242\",\"type\":\"BoxAnnotation\"},{\"attributes\":{\"dimension\":1,\"ticker\":{\"id\":\"2215\",\"type\":\"BasicTicker\"}},\"id\":\"2218\",\"type\":\"Grid\"},{\"attributes\":{\"fill_alpha\":{\"value\":0.1},\"fill_color\":{\"value\":\"#1f77b4\"},\"line_alpha\":{\"value\":0.1},\"line_color\":{\"value\":\"#1f77b4\"},\"line_width\":{\"value\":3},\"x\":{\"field\":\"x\"},\"y\":{\"field\":\"y\"}},\"id\":\"2247\",\"type\":\"Circle\"},{\"attributes\":{},\"id\":\"2395\",\"type\":\"Selection\"},{\"attributes\":{\"callback\":null,\"data\":{\"x\":[\"2000\",\"2001\",\"2002\",\"2003\",\"2004\",\"2005\",\"2006\",\"2007\",\"2008\",\"2009\",\"2010\",\"2011\",\"2012\",\"2013\",\"2014\",\"2015\",\"2016\",\"2017\"],\"y\":[7.313298252489695,8.310611901533424,9.28077115926377,10.252918388064188,11.205379345323372,12.149632874228196,13.089596716542752,14.025080502459863,14.955900981807803,15.821696108471013,16.709045789768172,17.553474451435992,18.374064944696872,19.187805301854954,19.99536707307814,20.797136473512598,21.58898092737968,22.374104786870443]},\"selected\":{\"id\":\"2262\",\"type\":\"Selection\"},\"selection_policy\":{\"id\":\"2261\",\"type\":\"UnionRenderers\"}},\"id\":\"2232\",\"type\":\"ColumnDataSource\"},{\"attributes\":{\"source\":{\"id\":\"2266\",\"type\":\"ColumnDataSource\"}},\"id\":\"2270\",\"type\":\"CDSView\"},{\"attributes\":{\"fill_color\":{\"value\":\"red\"},\"line_color\":{\"value\":\"red\"},\"line_width\":{\"value\":3},\"x\":{\"field\":\"x\"},\"y\":{\"field\":\"y\"}},\"id\":\"2246\",\"type\":\"Circle\"},{\"attributes\":{},\"id\":\"2396\",\"type\":\"UnionRenderers\"},{\"attributes\":{\"line_color\":\"red\",\"line_width\":2,\"x\":{\"field\":\"x\"},\"y\":{\"field\":\"y\"}},\"id\":\"2233\",\"type\":\"Line\"},{\"attributes\":{\"callback\":null,\"data\":{\"x\":[\"2000\",\"2001\",\"2002\",\"2003\",\"2004\",\"2005\",\"2006\",\"2007\",\"2008\",\"2009\",\"2010\",\"2011\",\"2012\",\"2013\",\"2014\",\"2015\",\"2016\",\"2017\"],\"y\":[30.22933966186619,30.716195038660153,31.25891712272052,32.67245078666559,34.21768395199436,35.787421309411855,37.530573518178336,39.50386544090829,41.58463951339114,43.76725693335098,46.03643534777481,48.381673363556054,50.80265478421511,53.33830039356791,55.95816936257523,58.633781550977126,61.37596737934051,64.18001986558572]},\"selected\":{\"id\":\"2395\",\"type\":\"Selection\"},\"selection_policy\":{\"id\":\"2394\",\"type\":\"UnionRenderers\"}},\"id\":\"2271\",\"type\":\"ColumnDataSource\"},{\"attributes\":{\"data_source\":{\"id\":\"2245\",\"type\":\"ColumnDataSource\"},\"glyph\":{\"id\":\"2246\",\"type\":\"Circle\"},\"hover_glyph\":null,\"muted_glyph\":null,\"nonselection_glyph\":{\"id\":\"2247\",\"type\":\"Circle\"},\"selection_glyph\":null,\"view\":{\"id\":\"2249\",\"type\":\"CDSView\"}},\"id\":\"2248\",\"type\":\"GlyphRenderer\"},{\"attributes\":{},\"id\":\"2397\",\"type\":\"Selection\"},{\"attributes\":{},\"id\":\"2219\",\"type\":\"PanTool\"},{\"attributes\":{\"line_color\":\"green\",\"line_width\":2,\"x\":{\"field\":\"x\"},\"y\":{\"field\":\"y\"}},\"id\":\"2272\",\"type\":\"Line\"},{\"attributes\":{\"callback\":null,\"data\":{\"x\":[\"2000\",\"2001\",\"2002\",\"2003\",\"2004\",\"2005\",\"2006\",\"2007\",\"2008\",\"2009\",\"2010\",\"2011\",\"2012\",\"2013\",\"2014\",\"2015\",\"2016\",\"2017\"],\"y\":[28.95024757925739,29.209016301994986,29.79844631497895,31.18696960164219,32.69297789614253,34.30733873540626,36.01016978662808,37.93187043091685,39.94500520648879,42.03012406148348,44.17895500170897,46.379028286829,48.62938786590606,50.964846617773375,53.35002880170789,55.76782165250671,58.22878123081063,60.72069424656215]},\"selected\":{\"id\":\"2287\",\"type\":\"Selection\"},\"selection_policy\":{\"id\":\"2286\",\"type\":\"UnionRenderers\"}},\"id\":\"2250\",\"type\":\"ColumnDataSource\"},{\"attributes\":{\"overlay\":{\"id\":\"2242\",\"type\":\"BoxAnnotation\"}},\"id\":\"2221\",\"type\":\"BoxZoomTool\"},{\"attributes\":{\"line_alpha\":0.1,\"line_color\":\"#1f77b4\",\"line_width\":2,\"x\":{\"field\":\"x\"},\"y\":{\"field\":\"y\"}},\"id\":\"2273\",\"type\":\"Line\"},{\"attributes\":{\"source\":{\"id\":\"2245\",\"type\":\"ColumnDataSource\"}},\"id\":\"2249\",\"type\":\"CDSView\"},{\"attributes\":{\"data_source\":{\"id\":\"2271\",\"type\":\"ColumnDataSource\"},\"glyph\":{\"id\":\"2272\",\"type\":\"Line\"},\"hover_glyph\":null,\"muted_glyph\":null,\"nonselection_glyph\":{\"id\":\"2273\",\"type\":\"Line\"},\"selection_glyph\":null,\"view\":{\"id\":\"2275\",\"type\":\"CDSView\"}},\"id\":\"2274\",\"type\":\"GlyphRenderer\"},{\"attributes\":{},\"id\":\"2220\",\"type\":\"WheelZoomTool\"},{\"attributes\":{\"line_color\":\"blue\",\"line_width\":2,\"x\":{\"field\":\"x\"},\"y\":{\"field\":\"y\"}},\"id\":\"2251\",\"type\":\"Line\"},{\"attributes\":{},\"id\":\"2222\",\"type\":\"SaveTool\"},{\"attributes\":{\"callback\":null,\"tooltips\":\"\\n        <div style=padding=5px>Year:@x</div>\\n        <div style=padding=5px>Value:@y</div>\\n        \"},\"id\":\"2296\",\"type\":\"HoverTool\"},{\"attributes\":{\"line_alpha\":0.1,\"line_color\":\"#1f77b4\",\"line_width\":2,\"x\":{\"field\":\"x\"},\"y\":{\"field\":\"y\"}},\"id\":\"2234\",\"type\":\"Line\"},{\"attributes\":{\"source\":{\"id\":\"2271\",\"type\":\"ColumnDataSource\"}},\"id\":\"2275\",\"type\":\"CDSView\"},{\"attributes\":{\"text\":\"People using safely managed sanitation services (% of population) weighted against Population, total\"},\"id\":\"2199\",\"type\":\"Title\"},{\"attributes\":{\"data_source\":{\"id\":\"2250\",\"type\":\"ColumnDataSource\"},\"glyph\":{\"id\":\"2251\",\"type\":\"Line\"},\"hover_glyph\":null,\"muted_glyph\":null,\"nonselection_glyph\":{\"id\":\"2252\",\"type\":\"Line\"},\"selection_glyph\":null,\"view\":{\"id\":\"2254\",\"type\":\"CDSView\"}},\"id\":\"2253\",\"type\":\"GlyphRenderer\"},{\"attributes\":{},\"id\":\"2224\",\"type\":\"HelpTool\"},{\"attributes\":{},\"id\":\"2286\",\"type\":\"UnionRenderers\"},{\"attributes\":{\"callback\":null},\"id\":\"2201\",\"type\":\"DataRange1d\"},{\"attributes\":{\"line_alpha\":0.1,\"line_color\":\"#1f77b4\",\"line_width\":2,\"x\":{\"field\":\"x\"},\"y\":{\"field\":\"y\"}},\"id\":\"2252\",\"type\":\"Line\"},{\"attributes\":{},\"id\":\"2223\",\"type\":\"ResetTool\"},{\"attributes\":{},\"id\":\"2287\",\"type\":\"Selection\"},{\"attributes\":{\"callback\":null},\"id\":\"2203\",\"type\":\"DataRange1d\"},{\"attributes\":{\"source\":{\"id\":\"2250\",\"type\":\"ColumnDataSource\"}},\"id\":\"2254\",\"type\":\"CDSView\"},{\"attributes\":{\"active_drag\":\"auto\",\"active_inspect\":\"auto\",\"active_multi\":null,\"active_scroll\":\"auto\",\"active_tap\":\"auto\",\"tools\":[{\"id\":\"2219\",\"type\":\"PanTool\"},{\"id\":\"2220\",\"type\":\"WheelZoomTool\"},{\"id\":\"2221\",\"type\":\"BoxZoomTool\"},{\"id\":\"2222\",\"type\":\"SaveTool\"},{\"id\":\"2223\",\"type\":\"ResetTool\"},{\"id\":\"2224\",\"type\":\"HelpTool\"},{\"id\":\"2296\",\"type\":\"HoverTool\"}]},\"id\":\"2225\",\"type\":\"Toolbar\"},{\"attributes\":{},\"id\":\"2288\",\"type\":\"UnionRenderers\"},{\"attributes\":{},\"id\":\"2205\",\"type\":\"LinearScale\"},{\"attributes\":{},\"id\":\"2262\",\"type\":\"Selection\"},{\"attributes\":{\"data_source\":{\"id\":\"2232\",\"type\":\"ColumnDataSource\"},\"glyph\":{\"id\":\"2233\",\"type\":\"Line\"},\"hover_glyph\":null,\"muted_glyph\":null,\"nonselection_glyph\":{\"id\":\"2234\",\"type\":\"Line\"},\"selection_glyph\":null,\"view\":{\"id\":\"2236\",\"type\":\"CDSView\"}},\"id\":\"2235\",\"type\":\"GlyphRenderer\"},{\"attributes\":{},\"id\":\"2289\",\"type\":\"Selection\"},{\"attributes\":{},\"id\":\"2207\",\"type\":\"LinearScale\"},{\"attributes\":{},\"id\":\"2261\",\"type\":\"UnionRenderers\"},{\"attributes\":{\"label\":{\"value\":\"UMICs\"},\"renderers\":[{\"id\":\"2274\",\"type\":\"GlyphRenderer\"}]},\"id\":\"2290\",\"type\":\"LegendItem\"},{\"attributes\":{},\"id\":\"2239\",\"type\":\"BasicTickFormatter\"},{\"attributes\":{\"axis_label\":\"Years\",\"formatter\":{\"id\":\"2241\",\"type\":\"BasicTickFormatter\"},\"ticker\":{\"id\":\"2210\",\"type\":\"BasicTicker\"}},\"id\":\"2209\",\"type\":\"LinearAxis\"},{\"attributes\":{},\"id\":\"2263\",\"type\":\"UnionRenderers\"},{\"attributes\":{\"source\":{\"id\":\"2232\",\"type\":\"ColumnDataSource\"}},\"id\":\"2236\",\"type\":\"CDSView\"},{\"attributes\":{\"callback\":null,\"data\":{\"x\":[\"2000\",\"2001\",\"2002\",\"2003\",\"2004\",\"2005\",\"2006\",\"2007\",\"2008\",\"2009\",\"2010\",\"2011\",\"2012\",\"2013\",\"2014\",\"2015\",\"2016\",\"2017\"],\"y\":[30.22933966186619,30.716195038660153,31.25891712272052,32.67245078666559,34.21768395199436,35.787421309411855,37.530573518178336,39.50386544090829,41.58463951339114,43.76725693335098,46.03643534777481,48.381673363556054,50.80265478421511,53.33830039356791,55.95816936257523,58.633781550977126,61.37596737934051,64.18001986558572]},\"selected\":{\"id\":\"2397\",\"type\":\"Selection\"},\"selection_policy\":{\"id\":\"2396\",\"type\":\"UnionRenderers\"}},\"id\":\"2291\",\"type\":\"ColumnDataSource\"},{\"attributes\":{},\"id\":\"2210\",\"type\":\"BasicTicker\"},{\"attributes\":{\"label\":{\"value\":\"Developing excluding LDCs\"},\"renderers\":[{\"id\":\"2253\",\"type\":\"GlyphRenderer\"}]},\"id\":\"2265\",\"type\":\"LegendItem\"},{\"attributes\":{},\"id\":\"2241\",\"type\":\"BasicTickFormatter\"},{\"attributes\":{\"fill_color\":{\"value\":\"green\"},\"line_color\":{\"value\":\"green\"},\"line_width\":{\"value\":3},\"x\":{\"field\":\"x\"},\"y\":{\"field\":\"y\"}},\"id\":\"2292\",\"type\":\"Circle\"},{\"attributes\":{\"ticker\":{\"id\":\"2210\",\"type\":\"BasicTicker\"}},\"id\":\"2213\",\"type\":\"Grid\"},{\"attributes\":{},\"id\":\"2264\",\"type\":\"Selection\"},{\"attributes\":{\"fill_alpha\":{\"value\":0.1},\"fill_color\":{\"value\":\"#1f77b4\"},\"line_alpha\":{\"value\":0.1},\"line_color\":{\"value\":\"#1f77b4\"},\"line_width\":{\"value\":3},\"x\":{\"field\":\"x\"},\"y\":{\"field\":\"y\"}},\"id\":\"2293\",\"type\":\"Circle\"},{\"attributes\":{\"callback\":null,\"data\":{\"x\":[\"2000\",\"2001\",\"2002\",\"2003\",\"2004\",\"2005\",\"2006\",\"2007\",\"2008\",\"2009\",\"2010\",\"2011\",\"2012\",\"2013\",\"2014\",\"2015\",\"2016\",\"2017\"],\"y\":[28.95024757925739,29.209016301994986,29.79844631497895,31.18696960164219,32.69297789614253,34.30733873540626,36.01016978662808,37.93187043091685,39.94500520648879,42.03012406148348,44.17895500170897,46.379028286829,48.62938786590606,50.964846617773375,53.35002880170789,55.76782165250671,58.22878123081063,60.72069424656215]},\"selected\":{\"id\":\"2289\",\"type\":\"Selection\"},\"selection_policy\":{\"id\":\"2288\",\"type\":\"UnionRenderers\"}},\"id\":\"2266\",\"type\":\"ColumnDataSource\"},{\"attributes\":{\"data_source\":{\"id\":\"2291\",\"type\":\"ColumnDataSource\"},\"glyph\":{\"id\":\"2292\",\"type\":\"Circle\"},\"hover_glyph\":null,\"muted_glyph\":null,\"nonselection_glyph\":{\"id\":\"2293\",\"type\":\"Circle\"},\"selection_glyph\":null,\"view\":{\"id\":\"2295\",\"type\":\"CDSView\"}},\"id\":\"2294\",\"type\":\"GlyphRenderer\"}],\"root_ids\":[\"2198\"]},\"title\":\"Bokeh Application\",\"version\":\"1.3.4\"}};\n",
       "  var render_items = [{\"docid\":\"df5f440b-2179-402b-ab72-0bfaeab972a1\",\"roots\":{\"2198\":\"070060f4-f68d-4d5b-b487-3922190c0317\"}}];\n",
       "  root.Bokeh.embed.embed_items_notebook(docs_json, render_items);\n",
       "\n",
       "  }\n",
       "  if (root.Bokeh !== undefined) {\n",
       "    embed_document(root);\n",
       "  } else {\n",
       "    var attempts = 0;\n",
       "    var timer = setInterval(function(root) {\n",
       "      if (root.Bokeh !== undefined) {\n",
       "        embed_document(root);\n",
       "        clearInterval(timer);\n",
       "      }\n",
       "      attempts++;\n",
       "      if (attempts > 100) {\n",
       "        console.log(\"Bokeh: ERROR: Unable to run BokehJS code because BokehJS library is missing\");\n",
       "        clearInterval(timer);\n",
       "      }\n",
       "    }, 10, root)\n",
       "  }\n",
       "})(window);"
      ],
      "application/vnd.bokehjs_exec.v0+json": ""
     },
     "metadata": {
      "application/vnd.bokehjs_exec.v0+json": {
       "id": "2198"
      }
     },
     "output_type": "display_data"
    }
   ],
   "source": [
    "# Access to safely managed sanitation services\n",
    "years = list(map(str, list(range(2000,2018))))\n",
    "result = show_weighted_average(years, 'SH.STA.SMSS.ZS', 'SP.POP.TOTL', \n",
    "                               ['LDCs', 'Developing excluding LDCs', 'UMICs'])"
   ]
  },
  {
   "cell_type": "code",
   "execution_count": 8,
   "metadata": {},
   "outputs": [
    {
     "data": {
      "text/html": [
       "\n",
       "\n",
       "\n",
       "\n",
       "\n",
       "\n",
       "  <div class=\"bk-root\" id=\"9e1d7aa9-1006-41cf-ae73-1564d5e181cd\" data-root-id=\"2506\"></div>\n"
      ]
     },
     "metadata": {},
     "output_type": "display_data"
    },
    {
     "data": {
      "application/javascript": [
       "(function(root) {\n",
       "  function embed_document(root) {\n",
       "    \n",
       "  var docs_json = {\"6e621131-3c19-4b91-a002-278e93e9b3c1\":{\"roots\":{\"references\":[{\"attributes\":{\"below\":[{\"id\":\"2517\",\"type\":\"LinearAxis\"}],\"center\":[{\"id\":\"2521\",\"type\":\"Grid\"},{\"id\":\"2526\",\"type\":\"Grid\"},{\"id\":\"2551\",\"type\":\"Legend\"}],\"left\":[{\"id\":\"2522\",\"type\":\"LinearAxis\"}],\"plot_height\":400,\"plot_width\":950,\"renderers\":[{\"id\":\"2543\",\"type\":\"GlyphRenderer\"},{\"id\":\"2556\",\"type\":\"GlyphRenderer\"},{\"id\":\"2561\",\"type\":\"GlyphRenderer\"},{\"id\":\"2577\",\"type\":\"GlyphRenderer\"},{\"id\":\"2582\",\"type\":\"GlyphRenderer\"},{\"id\":\"2602\",\"type\":\"GlyphRenderer\"}],\"title\":{\"id\":\"2507\",\"type\":\"Title\"},\"toolbar\":{\"id\":\"2533\",\"type\":\"Toolbar\"},\"x_range\":{\"id\":\"2509\",\"type\":\"DataRange1d\"},\"x_scale\":{\"id\":\"2513\",\"type\":\"LinearScale\"},\"y_range\":{\"id\":\"2511\",\"type\":\"DataRange1d\"},\"y_scale\":{\"id\":\"2515\",\"type\":\"LinearScale\"}},\"id\":\"2506\",\"subtype\":\"Figure\",\"type\":\"Plot\"},{\"attributes\":{\"callback\":null,\"data\":{\"x\":[\"2011\",\"2012\",\"2013\",\"2014\",\"2015\",\"2016\",\"2017\"],\"y\":[69.73643076577738,76.28621410347083,82.34338029433856,78.83132852098582,79.67428038697987,84.88400348022606,81.7564251787433]},\"selected\":{\"id\":\"2572\",\"type\":\"Selection\"},\"selection_policy\":{\"id\":\"2571\",\"type\":\"UnionRenderers\"}},\"id\":\"2553\",\"type\":\"ColumnDataSource\"},{\"attributes\":{\"ticker\":{\"id\":\"2518\",\"type\":\"BasicTicker\"}},\"id\":\"2521\",\"type\":\"Grid\"},{\"attributes\":{\"source\":{\"id\":\"2574\",\"type\":\"ColumnDataSource\"}},\"id\":\"2578\",\"type\":\"CDSView\"},{\"attributes\":{\"text\":\"Literacy rate, youth female (% of females ages 15-24) weighted against Population, total\"},\"id\":\"2507\",\"type\":\"Title\"},{\"attributes\":{},\"id\":\"2523\",\"type\":\"BasicTicker\"},{\"attributes\":{\"line_alpha\":0.1,\"line_color\":\"#1f77b4\",\"line_width\":2,\"x\":{\"field\":\"x\"},\"y\":{\"field\":\"y\"}},\"id\":\"2542\",\"type\":\"Line\"},{\"attributes\":{\"callback\":null},\"id\":\"2511\",\"type\":\"DataRange1d\"},{\"attributes\":{\"data_source\":{\"id\":\"2599\",\"type\":\"ColumnDataSource\"},\"glyph\":{\"id\":\"2600\",\"type\":\"Circle\"},\"hover_glyph\":null,\"muted_glyph\":null,\"nonselection_glyph\":{\"id\":\"2601\",\"type\":\"Circle\"},\"selection_glyph\":null,\"view\":{\"id\":\"2603\",\"type\":\"CDSView\"}},\"id\":\"2602\",\"type\":\"GlyphRenderer\"},{\"attributes\":{\"fill_color\":{\"value\":\"red\"},\"line_color\":{\"value\":\"red\"},\"line_width\":{\"value\":3},\"x\":{\"field\":\"x\"},\"y\":{\"field\":\"y\"}},\"id\":\"2554\",\"type\":\"Circle\"},{\"attributes\":{\"callback\":null,\"data\":{\"x\":[\"2011\",\"2012\",\"2013\",\"2014\",\"2015\",\"2016\",\"2017\"],\"y\":[98.79246433133073,98.91166421847787,98.96779030929173,99.06962254043965,99.11181905005378,99.23710774713751,99.10889426005937]},\"selected\":{\"id\":\"2721\",\"type\":\"Selection\"},\"selection_policy\":{\"id\":\"2720\",\"type\":\"UnionRenderers\"}},\"id\":\"2579\",\"type\":\"ColumnDataSource\"},{\"attributes\":{\"fill_alpha\":{\"value\":0.1},\"fill_color\":{\"value\":\"#1f77b4\"},\"line_alpha\":{\"value\":0.1},\"line_color\":{\"value\":\"#1f77b4\"},\"line_width\":{\"value\":3},\"x\":{\"field\":\"x\"},\"y\":{\"field\":\"y\"}},\"id\":\"2555\",\"type\":\"Circle\"},{\"attributes\":{\"axis_label\":\"Percentage\",\"formatter\":{\"id\":\"2547\",\"type\":\"BasicTickFormatter\"},\"ticker\":{\"id\":\"2523\",\"type\":\"BasicTicker\"}},\"id\":\"2522\",\"type\":\"LinearAxis\"},{\"attributes\":{\"callback\":null},\"id\":\"2509\",\"type\":\"DataRange1d\"},{\"attributes\":{\"label\":{\"value\":\"UMICs\"},\"renderers\":[{\"id\":\"2582\",\"type\":\"GlyphRenderer\"}]},\"id\":\"2598\",\"type\":\"LegendItem\"},{\"attributes\":{\"line_color\":\"green\",\"line_width\":2,\"x\":{\"field\":\"x\"},\"y\":{\"field\":\"y\"}},\"id\":\"2580\",\"type\":\"Line\"},{\"attributes\":{\"data_source\":{\"id\":\"2553\",\"type\":\"ColumnDataSource\"},\"glyph\":{\"id\":\"2554\",\"type\":\"Circle\"},\"hover_glyph\":null,\"muted_glyph\":null,\"nonselection_glyph\":{\"id\":\"2555\",\"type\":\"Circle\"},\"selection_glyph\":null,\"view\":{\"id\":\"2557\",\"type\":\"CDSView\"}},\"id\":\"2556\",\"type\":\"GlyphRenderer\"},{\"attributes\":{\"dimension\":1,\"ticker\":{\"id\":\"2523\",\"type\":\"BasicTicker\"}},\"id\":\"2526\",\"type\":\"Grid\"},{\"attributes\":{\"line_alpha\":0.1,\"line_color\":\"#1f77b4\",\"line_width\":2,\"x\":{\"field\":\"x\"},\"y\":{\"field\":\"y\"}},\"id\":\"2581\",\"type\":\"Line\"},{\"attributes\":{\"source\":{\"id\":\"2553\",\"type\":\"ColumnDataSource\"}},\"id\":\"2557\",\"type\":\"CDSView\"},{\"attributes\":{\"callback\":null,\"data\":{\"x\":[\"2011\",\"2012\",\"2013\",\"2014\",\"2015\",\"2016\",\"2017\"],\"y\":[69.73643076577738,76.28621410347083,82.34338029433856,78.83132852098582,79.67428038697987,84.88400348022606,81.7564251787433]},\"selected\":{\"id\":\"2570\",\"type\":\"Selection\"},\"selection_policy\":{\"id\":\"2569\",\"type\":\"UnionRenderers\"}},\"id\":\"2540\",\"type\":\"ColumnDataSource\"},{\"attributes\":{\"data_source\":{\"id\":\"2579\",\"type\":\"ColumnDataSource\"},\"glyph\":{\"id\":\"2580\",\"type\":\"Line\"},\"hover_glyph\":null,\"muted_glyph\":null,\"nonselection_glyph\":{\"id\":\"2581\",\"type\":\"Line\"},\"selection_glyph\":null,\"view\":{\"id\":\"2583\",\"type\":\"CDSView\"}},\"id\":\"2582\",\"type\":\"GlyphRenderer\"},{\"attributes\":{\"callback\":null,\"data\":{\"x\":[\"2011\",\"2012\",\"2013\",\"2014\",\"2015\",\"2016\",\"2017\"],\"y\":[86.52637049847509,90.79201280313602,89.77735203026296,93.27009066227772,99.2167206572208,99.33845058757791,90.85673268334823]},\"selected\":{\"id\":\"2595\",\"type\":\"Selection\"},\"selection_policy\":{\"id\":\"2594\",\"type\":\"UnionRenderers\"}},\"id\":\"2558\",\"type\":\"ColumnDataSource\"},{\"attributes\":{\"line_color\":\"red\",\"line_width\":2,\"x\":{\"field\":\"x\"},\"y\":{\"field\":\"y\"}},\"id\":\"2541\",\"type\":\"Line\"},{\"attributes\":{\"callback\":null,\"data\":{\"x\":[\"2011\",\"2012\",\"2013\",\"2014\",\"2015\",\"2016\",\"2017\"],\"y\":[98.79246433133073,98.91166421847787,98.96779030929173,99.06962254043965,99.11181905005378,99.23710774713751,99.10889426005937]},\"selected\":{\"id\":\"2723\",\"type\":\"Selection\"},\"selection_policy\":{\"id\":\"2722\",\"type\":\"UnionRenderers\"}},\"id\":\"2599\",\"type\":\"ColumnDataSource\"},{\"attributes\":{},\"id\":\"2527\",\"type\":\"PanTool\"},{\"attributes\":{\"source\":{\"id\":\"2579\",\"type\":\"ColumnDataSource\"}},\"id\":\"2583\",\"type\":\"CDSView\"},{\"attributes\":{\"line_color\":\"blue\",\"line_width\":2,\"x\":{\"field\":\"x\"},\"y\":{\"field\":\"y\"}},\"id\":\"2559\",\"type\":\"Line\"},{\"attributes\":{\"fill_color\":{\"value\":\"green\"},\"line_color\":{\"value\":\"green\"},\"line_width\":{\"value\":3},\"x\":{\"field\":\"x\"},\"y\":{\"field\":\"y\"}},\"id\":\"2600\",\"type\":\"Circle\"},{\"attributes\":{\"callback\":null,\"tooltips\":\"\\n        <div style=padding=5px>Year:@x</div>\\n        <div style=padding=5px>Value:@y</div>\\n        \"},\"id\":\"2604\",\"type\":\"HoverTool\"},{\"attributes\":{},\"id\":\"2594\",\"type\":\"UnionRenderers\"},{\"attributes\":{\"line_alpha\":0.1,\"line_color\":\"#1f77b4\",\"line_width\":2,\"x\":{\"field\":\"x\"},\"y\":{\"field\":\"y\"}},\"id\":\"2560\",\"type\":\"Line\"},{\"attributes\":{},\"id\":\"2528\",\"type\":\"WheelZoomTool\"},{\"attributes\":{\"data_source\":{\"id\":\"2558\",\"type\":\"ColumnDataSource\"},\"glyph\":{\"id\":\"2559\",\"type\":\"Line\"},\"hover_glyph\":null,\"muted_glyph\":null,\"nonselection_glyph\":{\"id\":\"2560\",\"type\":\"Line\"},\"selection_glyph\":null,\"view\":{\"id\":\"2562\",\"type\":\"CDSView\"}},\"id\":\"2561\",\"type\":\"GlyphRenderer\"},{\"attributes\":{},\"id\":\"2595\",\"type\":\"Selection\"},{\"attributes\":{\"fill_alpha\":{\"value\":0.1},\"fill_color\":{\"value\":\"#1f77b4\"},\"line_alpha\":{\"value\":0.1},\"line_color\":{\"value\":\"#1f77b4\"},\"line_width\":{\"value\":3},\"x\":{\"field\":\"x\"},\"y\":{\"field\":\"y\"}},\"id\":\"2601\",\"type\":\"Circle\"},{\"attributes\":{},\"id\":\"2530\",\"type\":\"SaveTool\"},{\"attributes\":{},\"id\":\"2596\",\"type\":\"UnionRenderers\"},{\"attributes\":{\"source\":{\"id\":\"2558\",\"type\":\"ColumnDataSource\"}},\"id\":\"2562\",\"type\":\"CDSView\"},{\"attributes\":{\"source\":{\"id\":\"2599\",\"type\":\"ColumnDataSource\"}},\"id\":\"2603\",\"type\":\"CDSView\"},{\"attributes\":{\"overlay\":{\"id\":\"2550\",\"type\":\"BoxAnnotation\"}},\"id\":\"2529\",\"type\":\"BoxZoomTool\"},{\"attributes\":{},\"id\":\"2597\",\"type\":\"Selection\"},{\"attributes\":{},\"id\":\"2569\",\"type\":\"UnionRenderers\"},{\"attributes\":{},\"id\":\"2531\",\"type\":\"ResetTool\"},{\"attributes\":{},\"id\":\"2570\",\"type\":\"Selection\"},{\"attributes\":{},\"id\":\"2720\",\"type\":\"UnionRenderers\"},{\"attributes\":{\"active_drag\":\"auto\",\"active_inspect\":\"auto\",\"active_multi\":null,\"active_scroll\":\"auto\",\"active_tap\":\"auto\",\"tools\":[{\"id\":\"2527\",\"type\":\"PanTool\"},{\"id\":\"2528\",\"type\":\"WheelZoomTool\"},{\"id\":\"2529\",\"type\":\"BoxZoomTool\"},{\"id\":\"2530\",\"type\":\"SaveTool\"},{\"id\":\"2531\",\"type\":\"ResetTool\"},{\"id\":\"2532\",\"type\":\"HelpTool\"},{\"id\":\"2604\",\"type\":\"HoverTool\"}]},\"id\":\"2533\",\"type\":\"Toolbar\"},{\"attributes\":{},\"id\":\"2571\",\"type\":\"UnionRenderers\"},{\"attributes\":{\"bottom_units\":\"screen\",\"fill_alpha\":{\"value\":0.5},\"fill_color\":{\"value\":\"lightgrey\"},\"left_units\":\"screen\",\"level\":\"overlay\",\"line_alpha\":{\"value\":1.0},\"line_color\":{\"value\":\"black\"},\"line_dash\":[4,4],\"line_width\":{\"value\":2},\"render_mode\":\"css\",\"right_units\":\"screen\",\"top_units\":\"screen\"},\"id\":\"2550\",\"type\":\"BoxAnnotation\"},{\"attributes\":{},\"id\":\"2721\",\"type\":\"Selection\"},{\"attributes\":{},\"id\":\"2532\",\"type\":\"HelpTool\"},{\"attributes\":{},\"id\":\"2572\",\"type\":\"Selection\"},{\"attributes\":{},\"id\":\"2722\",\"type\":\"UnionRenderers\"},{\"attributes\":{},\"id\":\"2513\",\"type\":\"LinearScale\"},{\"attributes\":{\"items\":[{\"id\":\"2552\",\"type\":\"LegendItem\"},{\"id\":\"2573\",\"type\":\"LegendItem\"},{\"id\":\"2598\",\"type\":\"LegendItem\"}],\"location\":\"bottom_left\"},\"id\":\"2551\",\"type\":\"Legend\"},{\"attributes\":{\"label\":{\"value\":\"Developing excluding LDCs\"},\"renderers\":[{\"id\":\"2561\",\"type\":\"GlyphRenderer\"}]},\"id\":\"2573\",\"type\":\"LegendItem\"},{\"attributes\":{},\"id\":\"2723\",\"type\":\"Selection\"},{\"attributes\":{\"axis_label\":\"Years\",\"formatter\":{\"id\":\"2549\",\"type\":\"BasicTickFormatter\"},\"ticker\":{\"id\":\"2518\",\"type\":\"BasicTicker\"}},\"id\":\"2517\",\"type\":\"LinearAxis\"},{\"attributes\":{\"source\":{\"id\":\"2540\",\"type\":\"ColumnDataSource\"}},\"id\":\"2544\",\"type\":\"CDSView\"},{\"attributes\":{\"callback\":null,\"data\":{\"x\":[\"2011\",\"2012\",\"2013\",\"2014\",\"2015\",\"2016\",\"2017\"],\"y\":[86.52637049847509,90.79201280313602,89.77735203026296,93.27009066227772,99.2167206572208,99.33845058757791,90.85673268334823]},\"selected\":{\"id\":\"2597\",\"type\":\"Selection\"},\"selection_policy\":{\"id\":\"2596\",\"type\":\"UnionRenderers\"}},\"id\":\"2574\",\"type\":\"ColumnDataSource\"},{\"attributes\":{\"data_source\":{\"id\":\"2540\",\"type\":\"ColumnDataSource\"},\"glyph\":{\"id\":\"2541\",\"type\":\"Line\"},\"hover_glyph\":null,\"muted_glyph\":null,\"nonselection_glyph\":{\"id\":\"2542\",\"type\":\"Line\"},\"selection_glyph\":null,\"view\":{\"id\":\"2544\",\"type\":\"CDSView\"}},\"id\":\"2543\",\"type\":\"GlyphRenderer\"},{\"attributes\":{},\"id\":\"2515\",\"type\":\"LinearScale\"},{\"attributes\":{\"fill_color\":{\"value\":\"blue\"},\"line_color\":{\"value\":\"blue\"},\"line_width\":{\"value\":3},\"x\":{\"field\":\"x\"},\"y\":{\"field\":\"y\"}},\"id\":\"2575\",\"type\":\"Circle\"},{\"attributes\":{\"label\":{\"value\":\"LDCs\"},\"renderers\":[{\"id\":\"2543\",\"type\":\"GlyphRenderer\"}]},\"id\":\"2552\",\"type\":\"LegendItem\"},{\"attributes\":{\"fill_alpha\":{\"value\":0.1},\"fill_color\":{\"value\":\"#1f77b4\"},\"line_alpha\":{\"value\":0.1},\"line_color\":{\"value\":\"#1f77b4\"},\"line_width\":{\"value\":3},\"x\":{\"field\":\"x\"},\"y\":{\"field\":\"y\"}},\"id\":\"2576\",\"type\":\"Circle\"},{\"attributes\":{},\"id\":\"2518\",\"type\":\"BasicTicker\"},{\"attributes\":{},\"id\":\"2547\",\"type\":\"BasicTickFormatter\"},{\"attributes\":{},\"id\":\"2549\",\"type\":\"BasicTickFormatter\"},{\"attributes\":{\"data_source\":{\"id\":\"2574\",\"type\":\"ColumnDataSource\"},\"glyph\":{\"id\":\"2575\",\"type\":\"Circle\"},\"hover_glyph\":null,\"muted_glyph\":null,\"nonselection_glyph\":{\"id\":\"2576\",\"type\":\"Circle\"},\"selection_glyph\":null,\"view\":{\"id\":\"2578\",\"type\":\"CDSView\"}},\"id\":\"2577\",\"type\":\"GlyphRenderer\"}],\"root_ids\":[\"2506\"]},\"title\":\"Bokeh Application\",\"version\":\"1.3.4\"}};\n",
       "  var render_items = [{\"docid\":\"6e621131-3c19-4b91-a002-278e93e9b3c1\",\"roots\":{\"2506\":\"9e1d7aa9-1006-41cf-ae73-1564d5e181cd\"}}];\n",
       "  root.Bokeh.embed.embed_items_notebook(docs_json, render_items);\n",
       "\n",
       "  }\n",
       "  if (root.Bokeh !== undefined) {\n",
       "    embed_document(root);\n",
       "  } else {\n",
       "    var attempts = 0;\n",
       "    var timer = setInterval(function(root) {\n",
       "      if (root.Bokeh !== undefined) {\n",
       "        embed_document(root);\n",
       "        clearInterval(timer);\n",
       "      }\n",
       "      attempts++;\n",
       "      if (attempts > 100) {\n",
       "        console.log(\"Bokeh: ERROR: Unable to run BokehJS code because BokehJS library is missing\");\n",
       "        clearInterval(timer);\n",
       "      }\n",
       "    }, 10, root)\n",
       "  }\n",
       "})(window);"
      ],
      "application/vnd.bokehjs_exec.v0+json": ""
     },
     "metadata": {
      "application/vnd.bokehjs_exec.v0+json": {
       "id": "2506"
      }
     },
     "output_type": "display_data"
    }
   ],
   "source": [
    "# Literacy rate, youth female (% of females ages 15-24)\n",
    "years = list(map(str, list(range(2011,2018))))\n",
    "result = show_weighted_average(years, 'SE.ADT.1524.LT.FE.ZS', 'SP.POP.TOTL', \n",
    "                               ['LDCs', 'Developing excluding LDCs', 'UMICs'])"
   ]
  },
  {
   "cell_type": "code",
   "execution_count": 9,
   "metadata": {},
   "outputs": [
    {
     "data": {
      "text/html": [
       "\n",
       "\n",
       "\n",
       "\n",
       "\n",
       "\n",
       "  <div class=\"bk-root\" id=\"81120c71-2e44-491e-89d2-ca039dd2d79a\" data-root-id=\"2832\"></div>\n"
      ]
     },
     "metadata": {},
     "output_type": "display_data"
    },
    {
     "data": {
      "application/javascript": [
       "(function(root) {\n",
       "  function embed_document(root) {\n",
       "    \n",
       "  var docs_json = {\"2274ae1b-b019-4185-bf4c-e43d35134b57\":{\"roots\":{\"references\":[{\"attributes\":{\"below\":[{\"id\":\"2843\",\"type\":\"LinearAxis\"}],\"center\":[{\"id\":\"2847\",\"type\":\"Grid\"},{\"id\":\"2852\",\"type\":\"Grid\"},{\"id\":\"2877\",\"type\":\"Legend\"}],\"left\":[{\"id\":\"2848\",\"type\":\"LinearAxis\"}],\"plot_height\":400,\"plot_width\":950,\"renderers\":[{\"id\":\"2869\",\"type\":\"GlyphRenderer\"},{\"id\":\"2882\",\"type\":\"GlyphRenderer\"},{\"id\":\"2887\",\"type\":\"GlyphRenderer\"},{\"id\":\"2903\",\"type\":\"GlyphRenderer\"},{\"id\":\"2908\",\"type\":\"GlyphRenderer\"},{\"id\":\"2928\",\"type\":\"GlyphRenderer\"}],\"title\":{\"id\":\"2833\",\"type\":\"Title\"},\"toolbar\":{\"id\":\"2859\",\"type\":\"Toolbar\"},\"x_range\":{\"id\":\"2835\",\"type\":\"DataRange1d\"},\"x_scale\":{\"id\":\"2839\",\"type\":\"LinearScale\"},\"y_range\":{\"id\":\"2837\",\"type\":\"DataRange1d\"},\"y_scale\":{\"id\":\"2841\",\"type\":\"LinearScale\"}},\"id\":\"2832\",\"subtype\":\"Figure\",\"type\":\"Plot\"},{\"attributes\":{},\"id\":\"2849\",\"type\":\"BasicTicker\"},{\"attributes\":{\"fill_color\":{\"value\":\"green\"},\"line_color\":{\"value\":\"green\"},\"line_width\":{\"value\":3},\"x\":{\"field\":\"x\"},\"y\":{\"field\":\"y\"}},\"id\":\"2926\",\"type\":\"Circle\"},{\"attributes\":{\"callback\":null,\"data\":{\"x\":[\"2011\",\"2012\",\"2013\",\"2014\",\"2015\",\"2016\",\"2017\"],\"y\":[98.40291022628374,98.63071688352323,98.59864875625786,98.74359978947028,98.80844836803473,98.93453378166491,98.58206965037202]},\"selected\":{\"id\":\"3067\",\"type\":\"Selection\"},\"selection_policy\":{\"id\":\"3066\",\"type\":\"UnionRenderers\"}},\"id\":\"2925\",\"type\":\"ColumnDataSource\"},{\"attributes\":{},\"id\":\"2897\",\"type\":\"UnionRenderers\"},{\"attributes\":{},\"id\":\"2898\",\"type\":\"Selection\"},{\"attributes\":{\"fill_alpha\":{\"value\":0.1},\"fill_color\":{\"value\":\"#1f77b4\"},\"line_alpha\":{\"value\":0.1},\"line_color\":{\"value\":\"#1f77b4\"},\"line_width\":{\"value\":3},\"x\":{\"field\":\"x\"},\"y\":{\"field\":\"y\"}},\"id\":\"2927\",\"type\":\"Circle\"},{\"attributes\":{\"line_color\":\"red\",\"line_width\":2,\"x\":{\"field\":\"x\"},\"y\":{\"field\":\"y\"}},\"id\":\"2867\",\"type\":\"Line\"},{\"attributes\":{\"label\":{\"value\":\"Developing excluding LDCs\"},\"renderers\":[{\"id\":\"2887\",\"type\":\"GlyphRenderer\"}]},\"id\":\"2899\",\"type\":\"LegendItem\"},{\"attributes\":{\"data_source\":{\"id\":\"2925\",\"type\":\"ColumnDataSource\"},\"glyph\":{\"id\":\"2926\",\"type\":\"Circle\"},\"hover_glyph\":null,\"muted_glyph\":null,\"nonselection_glyph\":{\"id\":\"2927\",\"type\":\"Circle\"},\"selection_glyph\":null,\"view\":{\"id\":\"2929\",\"type\":\"CDSView\"}},\"id\":\"2928\",\"type\":\"GlyphRenderer\"},{\"attributes\":{\"callback\":null,\"data\":{\"x\":[\"2011\",\"2012\",\"2013\",\"2014\",\"2015\",\"2016\",\"2017\"],\"y\":[92.16019298807788,94.37168223840837,92.90217775217923,95.33335755824594,98.97521989087501,99.11517515407336,94.01304618557775]},\"selected\":{\"id\":\"2923\",\"type\":\"Selection\"},\"selection_policy\":{\"id\":\"2922\",\"type\":\"UnionRenderers\"}},\"id\":\"2900\",\"type\":\"ColumnDataSource\"},{\"attributes\":{},\"id\":\"2896\",\"type\":\"Selection\"},{\"attributes\":{\"source\":{\"id\":\"2925\",\"type\":\"ColumnDataSource\"}},\"id\":\"2929\",\"type\":\"CDSView\"},{\"attributes\":{\"fill_color\":{\"value\":\"blue\"},\"line_color\":{\"value\":\"blue\"},\"line_width\":{\"value\":3},\"x\":{\"field\":\"x\"},\"y\":{\"field\":\"y\"}},\"id\":\"2901\",\"type\":\"Circle\"},{\"attributes\":{\"callback\":null,\"data\":{\"x\":[\"2011\",\"2012\",\"2013\",\"2014\",\"2015\",\"2016\",\"2017\"],\"y\":[75.02611752268099,80.00946290801379,81.31988745347162,81.49752595333796,82.45513767129684,87.36621553878946,83.10410581112856]},\"selected\":{\"id\":\"2896\",\"type\":\"Selection\"},\"selection_policy\":{\"id\":\"2895\",\"type\":\"UnionRenderers\"}},\"id\":\"2866\",\"type\":\"ColumnDataSource\"},{\"attributes\":{\"overlay\":{\"id\":\"2876\",\"type\":\"BoxAnnotation\"}},\"id\":\"2855\",\"type\":\"BoxZoomTool\"},{\"attributes\":{\"fill_alpha\":{\"value\":0.1},\"fill_color\":{\"value\":\"#1f77b4\"},\"line_alpha\":{\"value\":0.1},\"line_color\":{\"value\":\"#1f77b4\"},\"line_width\":{\"value\":3},\"x\":{\"field\":\"x\"},\"y\":{\"field\":\"y\"}},\"id\":\"2902\",\"type\":\"Circle\"},{\"attributes\":{},\"id\":\"2895\",\"type\":\"UnionRenderers\"},{\"attributes\":{},\"id\":\"2853\",\"type\":\"PanTool\"},{\"attributes\":{},\"id\":\"3064\",\"type\":\"UnionRenderers\"},{\"attributes\":{\"data_source\":{\"id\":\"2900\",\"type\":\"ColumnDataSource\"},\"glyph\":{\"id\":\"2901\",\"type\":\"Circle\"},\"hover_glyph\":null,\"muted_glyph\":null,\"nonselection_glyph\":{\"id\":\"2902\",\"type\":\"Circle\"},\"selection_glyph\":null,\"view\":{\"id\":\"2904\",\"type\":\"CDSView\"}},\"id\":\"2903\",\"type\":\"GlyphRenderer\"},{\"attributes\":{},\"id\":\"2856\",\"type\":\"SaveTool\"},{\"attributes\":{\"label\":{\"value\":\"LDCs\"},\"renderers\":[{\"id\":\"2869\",\"type\":\"GlyphRenderer\"}]},\"id\":\"2878\",\"type\":\"LegendItem\"},{\"attributes\":{\"dimension\":1,\"ticker\":{\"id\":\"2849\",\"type\":\"BasicTicker\"}},\"id\":\"2852\",\"type\":\"Grid\"},{\"attributes\":{\"ticker\":{\"id\":\"2844\",\"type\":\"BasicTicker\"}},\"id\":\"2847\",\"type\":\"Grid\"},{\"attributes\":{},\"id\":\"3065\",\"type\":\"Selection\"},{\"attributes\":{},\"id\":\"2857\",\"type\":\"ResetTool\"},{\"attributes\":{\"source\":{\"id\":\"2900\",\"type\":\"ColumnDataSource\"}},\"id\":\"2904\",\"type\":\"CDSView\"},{\"attributes\":{},\"id\":\"3066\",\"type\":\"UnionRenderers\"},{\"attributes\":{\"callback\":null,\"data\":{\"x\":[\"2011\",\"2012\",\"2013\",\"2014\",\"2015\",\"2016\",\"2017\"],\"y\":[98.40291022628374,98.63071688352323,98.59864875625786,98.74359978947028,98.80844836803473,98.93453378166491,98.58206965037202]},\"selected\":{\"id\":\"3065\",\"type\":\"Selection\"},\"selection_policy\":{\"id\":\"3064\",\"type\":\"UnionRenderers\"}},\"id\":\"2905\",\"type\":\"ColumnDataSource\"},{\"attributes\":{\"fill_color\":{\"value\":\"red\"},\"line_color\":{\"value\":\"red\"},\"line_width\":{\"value\":3},\"x\":{\"field\":\"x\"},\"y\":{\"field\":\"y\"}},\"id\":\"2880\",\"type\":\"Circle\"},{\"attributes\":{},\"id\":\"3067\",\"type\":\"Selection\"},{\"attributes\":{\"active_drag\":\"auto\",\"active_inspect\":\"auto\",\"active_multi\":null,\"active_scroll\":\"auto\",\"active_tap\":\"auto\",\"tools\":[{\"id\":\"2853\",\"type\":\"PanTool\"},{\"id\":\"2854\",\"type\":\"WheelZoomTool\"},{\"id\":\"2855\",\"type\":\"BoxZoomTool\"},{\"id\":\"2856\",\"type\":\"SaveTool\"},{\"id\":\"2857\",\"type\":\"ResetTool\"},{\"id\":\"2858\",\"type\":\"HelpTool\"},{\"id\":\"2930\",\"type\":\"HoverTool\"}]},\"id\":\"2859\",\"type\":\"Toolbar\"},{\"attributes\":{\"fill_alpha\":{\"value\":0.1},\"fill_color\":{\"value\":\"#1f77b4\"},\"line_alpha\":{\"value\":0.1},\"line_color\":{\"value\":\"#1f77b4\"},\"line_width\":{\"value\":3},\"x\":{\"field\":\"x\"},\"y\":{\"field\":\"y\"}},\"id\":\"2881\",\"type\":\"Circle\"},{\"attributes\":{\"line_color\":\"green\",\"line_width\":2,\"x\":{\"field\":\"x\"},\"y\":{\"field\":\"y\"}},\"id\":\"2906\",\"type\":\"Line\"},{\"attributes\":{\"line_alpha\":0.1,\"line_color\":\"#1f77b4\",\"line_width\":2,\"x\":{\"field\":\"x\"},\"y\":{\"field\":\"y\"}},\"id\":\"2907\",\"type\":\"Line\"},{\"attributes\":{\"text\":\"Literacy rate, youth male (% of males ages 15-24) weighted against Population, total\"},\"id\":\"2833\",\"type\":\"Title\"},{\"attributes\":{\"data_source\":{\"id\":\"2866\",\"type\":\"ColumnDataSource\"},\"glyph\":{\"id\":\"2867\",\"type\":\"Line\"},\"hover_glyph\":null,\"muted_glyph\":null,\"nonselection_glyph\":{\"id\":\"2868\",\"type\":\"Line\"},\"selection_glyph\":null,\"view\":{\"id\":\"2870\",\"type\":\"CDSView\"}},\"id\":\"2869\",\"type\":\"GlyphRenderer\"},{\"attributes\":{\"data_source\":{\"id\":\"2905\",\"type\":\"ColumnDataSource\"},\"glyph\":{\"id\":\"2906\",\"type\":\"Line\"},\"hover_glyph\":null,\"muted_glyph\":null,\"nonselection_glyph\":{\"id\":\"2907\",\"type\":\"Line\"},\"selection_glyph\":null,\"view\":{\"id\":\"2909\",\"type\":\"CDSView\"}},\"id\":\"2908\",\"type\":\"GlyphRenderer\"},{\"attributes\":{\"source\":{\"id\":\"2879\",\"type\":\"ColumnDataSource\"}},\"id\":\"2883\",\"type\":\"CDSView\"},{\"attributes\":{\"source\":{\"id\":\"2866\",\"type\":\"ColumnDataSource\"}},\"id\":\"2870\",\"type\":\"CDSView\"},{\"attributes\":{\"callback\":null},\"id\":\"2835\",\"type\":\"DataRange1d\"},{\"attributes\":{\"source\":{\"id\":\"2884\",\"type\":\"ColumnDataSource\"}},\"id\":\"2888\",\"type\":\"CDSView\"},{\"attributes\":{\"callback\":null,\"data\":{\"x\":[\"2011\",\"2012\",\"2013\",\"2014\",\"2015\",\"2016\",\"2017\"],\"y\":[92.16019298807788,94.37168223840837,92.90217775217923,95.33335755824594,98.97521989087501,99.11517515407336,94.01304618557775]},\"selected\":{\"id\":\"2921\",\"type\":\"Selection\"},\"selection_policy\":{\"id\":\"2920\",\"type\":\"UnionRenderers\"}},\"id\":\"2884\",\"type\":\"ColumnDataSource\"},{\"attributes\":{\"source\":{\"id\":\"2905\",\"type\":\"ColumnDataSource\"}},\"id\":\"2909\",\"type\":\"CDSView\"},{\"attributes\":{\"callback\":null,\"tooltips\":\"\\n        <div style=padding=5px>Year:@x</div>\\n        <div style=padding=5px>Value:@y</div>\\n        \"},\"id\":\"2930\",\"type\":\"HoverTool\"},{\"attributes\":{},\"id\":\"2873\",\"type\":\"BasicTickFormatter\"},{\"attributes\":{},\"id\":\"2839\",\"type\":\"LinearScale\"},{\"attributes\":{\"callback\":null,\"data\":{\"x\":[\"2011\",\"2012\",\"2013\",\"2014\",\"2015\",\"2016\",\"2017\"],\"y\":[75.02611752268099,80.00946290801379,81.31988745347162,81.49752595333796,82.45513767129684,87.36621553878946,83.10410581112856]},\"selected\":{\"id\":\"2898\",\"type\":\"Selection\"},\"selection_policy\":{\"id\":\"2897\",\"type\":\"UnionRenderers\"}},\"id\":\"2879\",\"type\":\"ColumnDataSource\"},{\"attributes\":{},\"id\":\"2875\",\"type\":\"BasicTickFormatter\"},{\"attributes\":{},\"id\":\"2920\",\"type\":\"UnionRenderers\"},{\"attributes\":{},\"id\":\"2858\",\"type\":\"HelpTool\"},{\"attributes\":{\"callback\":null},\"id\":\"2837\",\"type\":\"DataRange1d\"},{\"attributes\":{\"line_alpha\":0.1,\"line_color\":\"#1f77b4\",\"line_width\":2,\"x\":{\"field\":\"x\"},\"y\":{\"field\":\"y\"}},\"id\":\"2868\",\"type\":\"Line\"},{\"attributes\":{\"line_alpha\":0.1,\"line_color\":\"#1f77b4\",\"line_width\":2,\"x\":{\"field\":\"x\"},\"y\":{\"field\":\"y\"}},\"id\":\"2886\",\"type\":\"Line\"},{\"attributes\":{\"bottom_units\":\"screen\",\"fill_alpha\":{\"value\":0.5},\"fill_color\":{\"value\":\"lightgrey\"},\"left_units\":\"screen\",\"level\":\"overlay\",\"line_alpha\":{\"value\":1.0},\"line_color\":{\"value\":\"black\"},\"line_dash\":[4,4],\"line_width\":{\"value\":2},\"render_mode\":\"css\",\"right_units\":\"screen\",\"top_units\":\"screen\"},\"id\":\"2876\",\"type\":\"BoxAnnotation\"},{\"attributes\":{},\"id\":\"2921\",\"type\":\"Selection\"},{\"attributes\":{\"items\":[{\"id\":\"2878\",\"type\":\"LegendItem\"},{\"id\":\"2899\",\"type\":\"LegendItem\"},{\"id\":\"2924\",\"type\":\"LegendItem\"}],\"location\":\"bottom_left\"},\"id\":\"2877\",\"type\":\"Legend\"},{\"attributes\":{},\"id\":\"2841\",\"type\":\"LinearScale\"},{\"attributes\":{\"data_source\":{\"id\":\"2884\",\"type\":\"ColumnDataSource\"},\"glyph\":{\"id\":\"2885\",\"type\":\"Line\"},\"hover_glyph\":null,\"muted_glyph\":null,\"nonselection_glyph\":{\"id\":\"2886\",\"type\":\"Line\"},\"selection_glyph\":null,\"view\":{\"id\":\"2888\",\"type\":\"CDSView\"}},\"id\":\"2887\",\"type\":\"GlyphRenderer\"},{\"attributes\":{},\"id\":\"2922\",\"type\":\"UnionRenderers\"},{\"attributes\":{},\"id\":\"2854\",\"type\":\"WheelZoomTool\"},{\"attributes\":{},\"id\":\"2923\",\"type\":\"Selection\"},{\"attributes\":{\"data_source\":{\"id\":\"2879\",\"type\":\"ColumnDataSource\"},\"glyph\":{\"id\":\"2880\",\"type\":\"Circle\"},\"hover_glyph\":null,\"muted_glyph\":null,\"nonselection_glyph\":{\"id\":\"2881\",\"type\":\"Circle\"},\"selection_glyph\":null,\"view\":{\"id\":\"2883\",\"type\":\"CDSView\"}},\"id\":\"2882\",\"type\":\"GlyphRenderer\"},{\"attributes\":{},\"id\":\"2844\",\"type\":\"BasicTicker\"},{\"attributes\":{\"label\":{\"value\":\"UMICs\"},\"renderers\":[{\"id\":\"2908\",\"type\":\"GlyphRenderer\"}]},\"id\":\"2924\",\"type\":\"LegendItem\"},{\"attributes\":{\"axis_label\":\"Years\",\"formatter\":{\"id\":\"2875\",\"type\":\"BasicTickFormatter\"},\"ticker\":{\"id\":\"2844\",\"type\":\"BasicTicker\"}},\"id\":\"2843\",\"type\":\"LinearAxis\"},{\"attributes\":{\"line_color\":\"blue\",\"line_width\":2,\"x\":{\"field\":\"x\"},\"y\":{\"field\":\"y\"}},\"id\":\"2885\",\"type\":\"Line\"},{\"attributes\":{\"axis_label\":\"Percentage\",\"formatter\":{\"id\":\"2873\",\"type\":\"BasicTickFormatter\"},\"ticker\":{\"id\":\"2849\",\"type\":\"BasicTicker\"}},\"id\":\"2848\",\"type\":\"LinearAxis\"}],\"root_ids\":[\"2832\"]},\"title\":\"Bokeh Application\",\"version\":\"1.3.4\"}};\n",
       "  var render_items = [{\"docid\":\"2274ae1b-b019-4185-bf4c-e43d35134b57\",\"roots\":{\"2832\":\"81120c71-2e44-491e-89d2-ca039dd2d79a\"}}];\n",
       "  root.Bokeh.embed.embed_items_notebook(docs_json, render_items);\n",
       "\n",
       "  }\n",
       "  if (root.Bokeh !== undefined) {\n",
       "    embed_document(root);\n",
       "  } else {\n",
       "    var attempts = 0;\n",
       "    var timer = setInterval(function(root) {\n",
       "      if (root.Bokeh !== undefined) {\n",
       "        embed_document(root);\n",
       "        clearInterval(timer);\n",
       "      }\n",
       "      attempts++;\n",
       "      if (attempts > 100) {\n",
       "        console.log(\"Bokeh: ERROR: Unable to run BokehJS code because BokehJS library is missing\");\n",
       "        clearInterval(timer);\n",
       "      }\n",
       "    }, 10, root)\n",
       "  }\n",
       "})(window);"
      ],
      "application/vnd.bokehjs_exec.v0+json": ""
     },
     "metadata": {
      "application/vnd.bokehjs_exec.v0+json": {
       "id": "2832"
      }
     },
     "output_type": "display_data"
    }
   ],
   "source": [
    "# Literacy rate, youth male (% of male ages 15-24)\n",
    "result = show_weighted_average(years, 'SE.ADT.1524.LT.MA.ZS', 'SP.POP.TOTL', \n",
    "                               ['LDCs', 'Developing excluding LDCs', 'UMICs'])"
   ]
  },
  {
   "cell_type": "code",
   "execution_count": 10,
   "metadata": {},
   "outputs": [
    {
     "data": {
      "text/html": [
       "\n",
       "\n",
       "\n",
       "\n",
       "\n",
       "\n",
       "  <div class=\"bk-root\" id=\"1eb2b68a-d133-4910-a362-2a2cc2353f0e\" data-root-id=\"3176\"></div>\n"
      ]
     },
     "metadata": {},
     "output_type": "display_data"
    },
    {
     "data": {
      "application/javascript": [
       "(function(root) {\n",
       "  function embed_document(root) {\n",
       "    \n",
       "  var docs_json = {\"0316cadf-e757-457c-89a6-6b24afcb20a3\":{\"roots\":{\"references\":[{\"attributes\":{\"below\":[{\"id\":\"3187\",\"type\":\"LinearAxis\"}],\"center\":[{\"id\":\"3191\",\"type\":\"Grid\"},{\"id\":\"3196\",\"type\":\"Grid\"},{\"id\":\"3221\",\"type\":\"Legend\"}],\"left\":[{\"id\":\"3192\",\"type\":\"LinearAxis\"}],\"plot_height\":400,\"plot_width\":950,\"renderers\":[{\"id\":\"3213\",\"type\":\"GlyphRenderer\"},{\"id\":\"3226\",\"type\":\"GlyphRenderer\"},{\"id\":\"3231\",\"type\":\"GlyphRenderer\"},{\"id\":\"3247\",\"type\":\"GlyphRenderer\"},{\"id\":\"3252\",\"type\":\"GlyphRenderer\"},{\"id\":\"3272\",\"type\":\"GlyphRenderer\"}],\"title\":{\"id\":\"3177\",\"type\":\"Title\"},\"toolbar\":{\"id\":\"3203\",\"type\":\"Toolbar\"},\"x_range\":{\"id\":\"3179\",\"type\":\"DataRange1d\"},\"x_scale\":{\"id\":\"3183\",\"type\":\"LinearScale\"},\"y_range\":{\"id\":\"3181\",\"type\":\"DataRange1d\"},\"y_scale\":{\"id\":\"3185\",\"type\":\"LinearScale\"}},\"id\":\"3176\",\"subtype\":\"Figure\",\"type\":\"Plot\"},{\"attributes\":{},\"id\":\"3242\",\"type\":\"Selection\"},{\"attributes\":{},\"id\":\"3193\",\"type\":\"BasicTicker\"},{\"attributes\":{},\"id\":\"3241\",\"type\":\"UnionRenderers\"},{\"attributes\":{},\"id\":\"3219\",\"type\":\"BasicTickFormatter\"},{\"attributes\":{},\"id\":\"3240\",\"type\":\"Selection\"},{\"attributes\":{\"dimension\":1,\"ticker\":{\"id\":\"3193\",\"type\":\"BasicTicker\"}},\"id\":\"3196\",\"type\":\"Grid\"},{\"attributes\":{},\"id\":\"3426\",\"type\":\"UnionRenderers\"},{\"attributes\":{\"label\":{\"value\":\"Developing excluding LDCs\"},\"renderers\":[{\"id\":\"3231\",\"type\":\"GlyphRenderer\"}]},\"id\":\"3243\",\"type\":\"LegendItem\"},{\"attributes\":{},\"id\":\"3427\",\"type\":\"Selection\"},{\"attributes\":{\"line_color\":\"red\",\"line_width\":2,\"x\":{\"field\":\"x\"},\"y\":{\"field\":\"y\"}},\"id\":\"3211\",\"type\":\"Line\"},{\"attributes\":{\"bottom_units\":\"screen\",\"fill_alpha\":{\"value\":0.5},\"fill_color\":{\"value\":\"lightgrey\"},\"left_units\":\"screen\",\"level\":\"overlay\",\"line_alpha\":{\"value\":1.0},\"line_color\":{\"value\":\"black\"},\"line_dash\":[4,4],\"line_width\":{\"value\":2},\"render_mode\":\"css\",\"right_units\":\"screen\",\"top_units\":\"screen\"},\"id\":\"3220\",\"type\":\"BoxAnnotation\"},{\"attributes\":{\"fill_color\":{\"value\":\"blue\"},\"line_color\":{\"value\":\"blue\"},\"line_width\":{\"value\":3},\"x\":{\"field\":\"x\"},\"y\":{\"field\":\"y\"}},\"id\":\"3245\",\"type\":\"Circle\"},{\"attributes\":{},\"id\":\"3428\",\"type\":\"UnionRenderers\"},{\"attributes\":{\"callback\":null,\"data\":{\"x\":[\"2010\",\"2011\",\"2012\",\"2013\",\"2014\"],\"y\":[7.216305888899169,9.238597293740812,9.286933356659,8.843198313346274,10.341316695036003]},\"selected\":{\"id\":\"3240\",\"type\":\"Selection\"},\"selection_policy\":{\"id\":\"3239\",\"type\":\"UnionRenderers\"}},\"id\":\"3210\",\"type\":\"ColumnDataSource\"},{\"attributes\":{\"callback\":null,\"data\":{\"x\":[\"2010\",\"2011\",\"2012\",\"2013\",\"2014\"],\"y\":[23.513041688550018,26.0163518298774,28.653839513727956,29.991015174173807,34.20514037096847]},\"selected\":{\"id\":\"3267\",\"type\":\"Selection\"},\"selection_policy\":{\"id\":\"3266\",\"type\":\"UnionRenderers\"}},\"id\":\"3244\",\"type\":\"ColumnDataSource\"},{\"attributes\":{\"items\":[{\"id\":\"3222\",\"type\":\"LegendItem\"},{\"id\":\"3243\",\"type\":\"LegendItem\"},{\"id\":\"3268\",\"type\":\"LegendItem\"}],\"location\":\"bottom_left\"},\"id\":\"3221\",\"type\":\"Legend\"},{\"attributes\":{},\"id\":\"3429\",\"type\":\"Selection\"},{\"attributes\":{\"callback\":null,\"tooltips\":\"\\n        <div style=padding=5px>Year:@x</div>\\n        <div style=padding=5px>Value:@y</div>\\n        \"},\"id\":\"3274\",\"type\":\"HoverTool\"},{\"attributes\":{\"fill_alpha\":{\"value\":0.1},\"fill_color\":{\"value\":\"#1f77b4\"},\"line_alpha\":{\"value\":0.1},\"line_color\":{\"value\":\"#1f77b4\"},\"line_width\":{\"value\":3},\"x\":{\"field\":\"x\"},\"y\":{\"field\":\"y\"}},\"id\":\"3246\",\"type\":\"Circle\"},{\"attributes\":{\"label\":{\"value\":\"LDCs\"},\"renderers\":[{\"id\":\"3213\",\"type\":\"GlyphRenderer\"}]},\"id\":\"3222\",\"type\":\"LegendItem\"},{\"attributes\":{},\"id\":\"3197\",\"type\":\"PanTool\"},{\"attributes\":{\"source\":{\"id\":\"3244\",\"type\":\"ColumnDataSource\"}},\"id\":\"3248\",\"type\":\"CDSView\"},{\"attributes\":{\"fill_color\":{\"value\":\"red\"},\"line_color\":{\"value\":\"red\"},\"line_width\":{\"value\":3},\"x\":{\"field\":\"x\"},\"y\":{\"field\":\"y\"}},\"id\":\"3224\",\"type\":\"Circle\"},{\"attributes\":{\"data_source\":{\"id\":\"3244\",\"type\":\"ColumnDataSource\"},\"glyph\":{\"id\":\"3245\",\"type\":\"Circle\"},\"hover_glyph\":null,\"muted_glyph\":null,\"nonselection_glyph\":{\"id\":\"3246\",\"type\":\"Circle\"},\"selection_glyph\":null,\"view\":{\"id\":\"3248\",\"type\":\"CDSView\"}},\"id\":\"3247\",\"type\":\"GlyphRenderer\"},{\"attributes\":{},\"id\":\"3198\",\"type\":\"WheelZoomTool\"},{\"attributes\":{\"callback\":null,\"data\":{\"x\":[\"2010\",\"2011\",\"2012\",\"2013\",\"2014\"],\"y\":[7.216305888899169,9.238597293740812,9.286933356659,8.843198313346274,10.341316695036003]},\"selected\":{\"id\":\"3242\",\"type\":\"Selection\"},\"selection_policy\":{\"id\":\"3241\",\"type\":\"UnionRenderers\"}},\"id\":\"3223\",\"type\":\"ColumnDataSource\"},{\"attributes\":{\"line_alpha\":0.1,\"line_color\":\"#1f77b4\",\"line_width\":2,\"x\":{\"field\":\"x\"},\"y\":{\"field\":\"y\"}},\"id\":\"3212\",\"type\":\"Line\"},{\"attributes\":{\"callback\":null,\"data\":{\"x\":[\"2010\",\"2011\",\"2012\",\"2013\",\"2014\"],\"y\":[29.578342099714497,35.0387071416137,36.79347919201178,39.400822883016104,45.87742349232858]},\"selected\":{\"id\":\"3429\",\"type\":\"Selection\"},\"selection_policy\":{\"id\":\"3428\",\"type\":\"UnionRenderers\"}},\"id\":\"3269\",\"type\":\"ColumnDataSource\"},{\"attributes\":{\"overlay\":{\"id\":\"3220\",\"type\":\"BoxAnnotation\"}},\"id\":\"3199\",\"type\":\"BoxZoomTool\"},{\"attributes\":{\"callback\":null,\"data\":{\"x\":[\"2010\",\"2011\",\"2012\",\"2013\",\"2014\"],\"y\":[29.578342099714497,35.0387071416137,36.79347919201178,39.400822883016104,45.87742349232858]},\"selected\":{\"id\":\"3427\",\"type\":\"Selection\"},\"selection_policy\":{\"id\":\"3426\",\"type\":\"UnionRenderers\"}},\"id\":\"3249\",\"type\":\"ColumnDataSource\"},{\"attributes\":{\"fill_alpha\":{\"value\":0.1},\"fill_color\":{\"value\":\"#1f77b4\"},\"line_alpha\":{\"value\":0.1},\"line_color\":{\"value\":\"#1f77b4\"},\"line_width\":{\"value\":3},\"x\":{\"field\":\"x\"},\"y\":{\"field\":\"y\"}},\"id\":\"3225\",\"type\":\"Circle\"},{\"attributes\":{},\"id\":\"3200\",\"type\":\"SaveTool\"},{\"attributes\":{\"line_alpha\":0.1,\"line_color\":\"#1f77b4\",\"line_width\":2,\"x\":{\"field\":\"x\"},\"y\":{\"field\":\"y\"}},\"id\":\"3251\",\"type\":\"Line\"},{\"attributes\":{\"source\":{\"id\":\"3223\",\"type\":\"ColumnDataSource\"}},\"id\":\"3227\",\"type\":\"CDSView\"},{\"attributes\":{\"fill_color\":{\"value\":\"green\"},\"line_color\":{\"value\":\"green\"},\"line_width\":{\"value\":3},\"x\":{\"field\":\"x\"},\"y\":{\"field\":\"y\"}},\"id\":\"3270\",\"type\":\"Circle\"},{\"attributes\":{},\"id\":\"3201\",\"type\":\"ResetTool\"},{\"attributes\":{\"line_color\":\"green\",\"line_width\":2,\"x\":{\"field\":\"x\"},\"y\":{\"field\":\"y\"}},\"id\":\"3250\",\"type\":\"Line\"},{\"attributes\":{\"text\":\"School enrollment, tertiary (% gross) weighted against Population, total\"},\"id\":\"3177\",\"type\":\"Title\"},{\"attributes\":{\"data_source\":{\"id\":\"3223\",\"type\":\"ColumnDataSource\"},\"glyph\":{\"id\":\"3224\",\"type\":\"Circle\"},\"hover_glyph\":null,\"muted_glyph\":null,\"nonselection_glyph\":{\"id\":\"3225\",\"type\":\"Circle\"},\"selection_glyph\":null,\"view\":{\"id\":\"3227\",\"type\":\"CDSView\"}},\"id\":\"3226\",\"type\":\"GlyphRenderer\"},{\"attributes\":{\"active_drag\":\"auto\",\"active_inspect\":\"auto\",\"active_multi\":null,\"active_scroll\":\"auto\",\"active_tap\":\"auto\",\"tools\":[{\"id\":\"3197\",\"type\":\"PanTool\"},{\"id\":\"3198\",\"type\":\"WheelZoomTool\"},{\"id\":\"3199\",\"type\":\"BoxZoomTool\"},{\"id\":\"3200\",\"type\":\"SaveTool\"},{\"id\":\"3201\",\"type\":\"ResetTool\"},{\"id\":\"3202\",\"type\":\"HelpTool\"},{\"id\":\"3274\",\"type\":\"HoverTool\"}]},\"id\":\"3203\",\"type\":\"Toolbar\"},{\"attributes\":{\"data_source\":{\"id\":\"3249\",\"type\":\"ColumnDataSource\"},\"glyph\":{\"id\":\"3250\",\"type\":\"Line\"},\"hover_glyph\":null,\"muted_glyph\":null,\"nonselection_glyph\":{\"id\":\"3251\",\"type\":\"Line\"},\"selection_glyph\":null,\"view\":{\"id\":\"3253\",\"type\":\"CDSView\"}},\"id\":\"3252\",\"type\":\"GlyphRenderer\"},{\"attributes\":{\"callback\":null},\"id\":\"3179\",\"type\":\"DataRange1d\"},{\"attributes\":{\"callback\":null,\"data\":{\"x\":[\"2010\",\"2011\",\"2012\",\"2013\",\"2014\"],\"y\":[23.513041688550018,26.0163518298774,28.653839513727956,29.991015174173807,34.20514037096847]},\"selected\":{\"id\":\"3265\",\"type\":\"Selection\"},\"selection_policy\":{\"id\":\"3264\",\"type\":\"UnionRenderers\"}},\"id\":\"3228\",\"type\":\"ColumnDataSource\"},{\"attributes\":{},\"id\":\"3202\",\"type\":\"HelpTool\"},{\"attributes\":{\"fill_alpha\":{\"value\":0.1},\"fill_color\":{\"value\":\"#1f77b4\"},\"line_alpha\":{\"value\":0.1},\"line_color\":{\"value\":\"#1f77b4\"},\"line_width\":{\"value\":3},\"x\":{\"field\":\"x\"},\"y\":{\"field\":\"y\"}},\"id\":\"3271\",\"type\":\"Circle\"},{\"attributes\":{},\"id\":\"3264\",\"type\":\"UnionRenderers\"},{\"attributes\":{\"callback\":null},\"id\":\"3181\",\"type\":\"DataRange1d\"},{\"attributes\":{\"line_alpha\":0.1,\"line_color\":\"#1f77b4\",\"line_width\":2,\"x\":{\"field\":\"x\"},\"y\":{\"field\":\"y\"}},\"id\":\"3230\",\"type\":\"Line\"},{\"attributes\":{\"data_source\":{\"id\":\"3269\",\"type\":\"ColumnDataSource\"},\"glyph\":{\"id\":\"3270\",\"type\":\"Circle\"},\"hover_glyph\":null,\"muted_glyph\":null,\"nonselection_glyph\":{\"id\":\"3271\",\"type\":\"Circle\"},\"selection_glyph\":null,\"view\":{\"id\":\"3273\",\"type\":\"CDSView\"}},\"id\":\"3272\",\"type\":\"GlyphRenderer\"},{\"attributes\":{\"source\":{\"id\":\"3249\",\"type\":\"ColumnDataSource\"}},\"id\":\"3253\",\"type\":\"CDSView\"},{\"attributes\":{},\"id\":\"3183\",\"type\":\"LinearScale\"},{\"attributes\":{\"line_color\":\"blue\",\"line_width\":2,\"x\":{\"field\":\"x\"},\"y\":{\"field\":\"y\"}},\"id\":\"3229\",\"type\":\"Line\"},{\"attributes\":{\"source\":{\"id\":\"3210\",\"type\":\"ColumnDataSource\"}},\"id\":\"3214\",\"type\":\"CDSView\"},{\"attributes\":{},\"id\":\"3265\",\"type\":\"Selection\"},{\"attributes\":{},\"id\":\"3185\",\"type\":\"LinearScale\"},{\"attributes\":{\"data_source\":{\"id\":\"3228\",\"type\":\"ColumnDataSource\"},\"glyph\":{\"id\":\"3229\",\"type\":\"Line\"},\"hover_glyph\":null,\"muted_glyph\":null,\"nonselection_glyph\":{\"id\":\"3230\",\"type\":\"Line\"},\"selection_glyph\":null,\"view\":{\"id\":\"3232\",\"type\":\"CDSView\"}},\"id\":\"3231\",\"type\":\"GlyphRenderer\"},{\"attributes\":{\"data_source\":{\"id\":\"3210\",\"type\":\"ColumnDataSource\"},\"glyph\":{\"id\":\"3211\",\"type\":\"Line\"},\"hover_glyph\":null,\"muted_glyph\":null,\"nonselection_glyph\":{\"id\":\"3212\",\"type\":\"Line\"},\"selection_glyph\":null,\"view\":{\"id\":\"3214\",\"type\":\"CDSView\"}},\"id\":\"3213\",\"type\":\"GlyphRenderer\"},{\"attributes\":{\"source\":{\"id\":\"3269\",\"type\":\"ColumnDataSource\"}},\"id\":\"3273\",\"type\":\"CDSView\"},{\"attributes\":{},\"id\":\"3267\",\"type\":\"Selection\"},{\"attributes\":{\"axis_label\":\"Years\",\"formatter\":{\"id\":\"3219\",\"type\":\"BasicTickFormatter\"},\"ticker\":{\"id\":\"3188\",\"type\":\"BasicTicker\"}},\"id\":\"3187\",\"type\":\"LinearAxis\"},{\"attributes\":{},\"id\":\"3239\",\"type\":\"UnionRenderers\"},{\"attributes\":{},\"id\":\"3217\",\"type\":\"BasicTickFormatter\"},{\"attributes\":{},\"id\":\"3266\",\"type\":\"UnionRenderers\"},{\"attributes\":{},\"id\":\"3188\",\"type\":\"BasicTicker\"},{\"attributes\":{\"source\":{\"id\":\"3228\",\"type\":\"ColumnDataSource\"}},\"id\":\"3232\",\"type\":\"CDSView\"},{\"attributes\":{\"label\":{\"value\":\"UMICs\"},\"renderers\":[{\"id\":\"3252\",\"type\":\"GlyphRenderer\"}]},\"id\":\"3268\",\"type\":\"LegendItem\"},{\"attributes\":{\"ticker\":{\"id\":\"3188\",\"type\":\"BasicTicker\"}},\"id\":\"3191\",\"type\":\"Grid\"},{\"attributes\":{\"axis_label\":\"Percentage\",\"formatter\":{\"id\":\"3217\",\"type\":\"BasicTickFormatter\"},\"ticker\":{\"id\":\"3193\",\"type\":\"BasicTicker\"}},\"id\":\"3192\",\"type\":\"LinearAxis\"}],\"root_ids\":[\"3176\"]},\"title\":\"Bokeh Application\",\"version\":\"1.3.4\"}};\n",
       "  var render_items = [{\"docid\":\"0316cadf-e757-457c-89a6-6b24afcb20a3\",\"roots\":{\"3176\":\"1eb2b68a-d133-4910-a362-2a2cc2353f0e\"}}];\n",
       "  root.Bokeh.embed.embed_items_notebook(docs_json, render_items);\n",
       "\n",
       "  }\n",
       "  if (root.Bokeh !== undefined) {\n",
       "    embed_document(root);\n",
       "  } else {\n",
       "    var attempts = 0;\n",
       "    var timer = setInterval(function(root) {\n",
       "      if (root.Bokeh !== undefined) {\n",
       "        embed_document(root);\n",
       "        clearInterval(timer);\n",
       "      }\n",
       "      attempts++;\n",
       "      if (attempts > 100) {\n",
       "        console.log(\"Bokeh: ERROR: Unable to run BokehJS code because BokehJS library is missing\");\n",
       "        clearInterval(timer);\n",
       "      }\n",
       "    }, 10, root)\n",
       "  }\n",
       "})(window);"
      ],
      "application/vnd.bokehjs_exec.v0+json": ""
     },
     "metadata": {
      "application/vnd.bokehjs_exec.v0+json": {
       "id": "3176"
      }
     },
     "output_type": "display_data"
    }
   ],
   "source": [
    "# School enrollment, tertiary\n",
    "years = list(map(str, list(range(2010,2015))))\n",
    "result = show_weighted_average(years, 'SE.TER.ENRR', 'SP.POP.TOTL', \n",
    "                               ['LDCs', 'Developing excluding LDCs', 'UMICs'])"
   ]
  },
  {
   "cell_type": "code",
   "execution_count": 11,
   "metadata": {},
   "outputs": [
    {
     "data": {
      "text/html": [
       "\n",
       "\n",
       "\n",
       "\n",
       "\n",
       "\n",
       "  <div class=\"bk-root\" id=\"2f471f49-6d15-4718-828b-8cc8242354e4\" data-root-id=\"3538\"></div>\n"
      ]
     },
     "metadata": {},
     "output_type": "display_data"
    },
    {
     "data": {
      "application/javascript": [
       "(function(root) {\n",
       "  function embed_document(root) {\n",
       "    \n",
       "  var docs_json = {\"da0d9698-7c2d-4f79-abf0-a2697e664dce\":{\"roots\":{\"references\":[{\"attributes\":{\"below\":[{\"id\":\"3549\",\"type\":\"LinearAxis\"}],\"center\":[{\"id\":\"3553\",\"type\":\"Grid\"},{\"id\":\"3558\",\"type\":\"Grid\"},{\"id\":\"3583\",\"type\":\"Legend\"}],\"left\":[{\"id\":\"3554\",\"type\":\"LinearAxis\"}],\"plot_height\":400,\"plot_width\":950,\"renderers\":[{\"id\":\"3575\",\"type\":\"GlyphRenderer\"},{\"id\":\"3588\",\"type\":\"GlyphRenderer\"},{\"id\":\"3593\",\"type\":\"GlyphRenderer\"},{\"id\":\"3609\",\"type\":\"GlyphRenderer\"}],\"title\":{\"id\":\"3539\",\"type\":\"Title\"},\"toolbar\":{\"id\":\"3565\",\"type\":\"Toolbar\"},\"x_range\":{\"id\":\"3541\",\"type\":\"DataRange1d\"},\"x_scale\":{\"id\":\"3545\",\"type\":\"LinearScale\"},\"y_range\":{\"id\":\"3543\",\"type\":\"DataRange1d\"},\"y_scale\":{\"id\":\"3547\",\"type\":\"LinearScale\"}},\"id\":\"3538\",\"subtype\":\"Figure\",\"type\":\"Plot\"},{\"attributes\":{\"fill_alpha\":{\"value\":0.1},\"fill_color\":{\"value\":\"#1f77b4\"},\"line_alpha\":{\"value\":0.1},\"line_color\":{\"value\":\"#1f77b4\"},\"line_width\":{\"value\":3},\"x\":{\"field\":\"x\"},\"y\":{\"field\":\"y\"}},\"id\":\"3608\",\"type\":\"Circle\"},{\"attributes\":{\"data_source\":{\"id\":\"3572\",\"type\":\"ColumnDataSource\"},\"glyph\":{\"id\":\"3573\",\"type\":\"Line\"},\"hover_glyph\":null,\"muted_glyph\":null,\"nonselection_glyph\":{\"id\":\"3574\",\"type\":\"Line\"},\"selection_glyph\":null,\"view\":{\"id\":\"3576\",\"type\":\"CDSView\"}},\"id\":\"3575\",\"type\":\"GlyphRenderer\"},{\"attributes\":{\"label\":{\"value\":\"Developing excluding LDCs\"},\"renderers\":[{\"id\":\"3593\",\"type\":\"GlyphRenderer\"}]},\"id\":\"3605\",\"type\":\"LegendItem\"},{\"attributes\":{},\"id\":\"3564\",\"type\":\"HelpTool\"},{\"attributes\":{},\"id\":\"3778\",\"type\":\"Selection\"},{\"attributes\":{},\"id\":\"3559\",\"type\":\"PanTool\"},{\"attributes\":{\"source\":{\"id\":\"3606\",\"type\":\"ColumnDataSource\"}},\"id\":\"3610\",\"type\":\"CDSView\"},{\"attributes\":{},\"id\":\"3579\",\"type\":\"BasicTickFormatter\"},{\"attributes\":{\"callback\":null,\"tooltips\":\"\\n        <div style=padding=5px>Year:@x</div>\\n        <div style=padding=5px>Value:@y</div>\\n        \"},\"id\":\"3611\",\"type\":\"HoverTool\"},{\"attributes\":{},\"id\":\"3777\",\"type\":\"UnionRenderers\"},{\"attributes\":{\"line_alpha\":0.1,\"line_color\":\"#1f77b4\",\"line_width\":2,\"x\":{\"field\":\"x\"},\"y\":{\"field\":\"y\"}},\"id\":\"3574\",\"type\":\"Line\"},{\"attributes\":{\"active_drag\":\"auto\",\"active_inspect\":\"auto\",\"active_multi\":null,\"active_scroll\":\"auto\",\"active_tap\":\"auto\",\"tools\":[{\"id\":\"3559\",\"type\":\"PanTool\"},{\"id\":\"3560\",\"type\":\"WheelZoomTool\"},{\"id\":\"3561\",\"type\":\"BoxZoomTool\"},{\"id\":\"3562\",\"type\":\"SaveTool\"},{\"id\":\"3563\",\"type\":\"ResetTool\"},{\"id\":\"3564\",\"type\":\"HelpTool\"},{\"id\":\"3611\",\"type\":\"HoverTool\"}]},\"id\":\"3565\",\"type\":\"Toolbar\"},{\"attributes\":{\"data_source\":{\"id\":\"3606\",\"type\":\"ColumnDataSource\"},\"glyph\":{\"id\":\"3607\",\"type\":\"Circle\"},\"hover_glyph\":null,\"muted_glyph\":null,\"nonselection_glyph\":{\"id\":\"3608\",\"type\":\"Circle\"},\"selection_glyph\":null,\"view\":{\"id\":\"3610\",\"type\":\"CDSView\"}},\"id\":\"3609\",\"type\":\"GlyphRenderer\"},{\"attributes\":{\"text\":\"Pupil-teacher ratio, primary weighted against Population, total\"},\"id\":\"3539\",\"type\":\"Title\"},{\"attributes\":{\"items\":[{\"id\":\"3584\",\"type\":\"LegendItem\"},{\"id\":\"3605\",\"type\":\"LegendItem\"}],\"location\":\"bottom_left\"},\"id\":\"3583\",\"type\":\"Legend\"},{\"attributes\":{\"callback\":null,\"data\":{\"x\":[\"2000\",\"2001\",\"2002\",\"2003\",\"2004\",\"2005\",\"2006\",\"2007\",\"2008\",\"2009\",\"2010\",\"2011\",\"2012\",\"2013\",\"2014\",\"2015\",\"2016\",\"2017\"],\"y\":[51.520903177485685,46.52493990984674,45.72529764000698,47.0523349681254,48.04905957142995,48.073273979200536,46.88345337680238,45.37851355945308,47.5713037782683,46.94420318527923,44.98718519250169,45.977667340832,43.49825989518141,43.05048551129662,40.19878876980604,41.85413035115011,38.496722137935755,38.768702276413286]},\"selected\":{\"id\":\"3602\",\"type\":\"Selection\"},\"selection_policy\":{\"id\":\"3601\",\"type\":\"UnionRenderers\"}},\"id\":\"3572\",\"type\":\"ColumnDataSource\"},{\"attributes\":{\"callback\":null},\"id\":\"3541\",\"type\":\"DataRange1d\"},{\"attributes\":{},\"id\":\"3563\",\"type\":\"ResetTool\"},{\"attributes\":{},\"id\":\"3780\",\"type\":\"Selection\"},{\"attributes\":{\"fill_alpha\":{\"value\":0.1},\"fill_color\":{\"value\":\"#1f77b4\"},\"line_alpha\":{\"value\":0.1},\"line_color\":{\"value\":\"#1f77b4\"},\"line_width\":{\"value\":3},\"x\":{\"field\":\"x\"},\"y\":{\"field\":\"y\"}},\"id\":\"3587\",\"type\":\"Circle\"},{\"attributes\":{\"source\":{\"id\":\"3572\",\"type\":\"ColumnDataSource\"}},\"id\":\"3576\",\"type\":\"CDSView\"},{\"attributes\":{\"data_source\":{\"id\":\"3585\",\"type\":\"ColumnDataSource\"},\"glyph\":{\"id\":\"3586\",\"type\":\"Circle\"},\"hover_glyph\":null,\"muted_glyph\":null,\"nonselection_glyph\":{\"id\":\"3587\",\"type\":\"Circle\"},\"selection_glyph\":null,\"view\":{\"id\":\"3589\",\"type\":\"CDSView\"}},\"id\":\"3588\",\"type\":\"GlyphRenderer\"},{\"attributes\":{},\"id\":\"3545\",\"type\":\"LinearScale\"},{\"attributes\":{\"fill_color\":{\"value\":\"red\"},\"line_color\":{\"value\":\"red\"},\"line_width\":{\"value\":3},\"x\":{\"field\":\"x\"},\"y\":{\"field\":\"y\"}},\"id\":\"3586\",\"type\":\"Circle\"},{\"attributes\":{\"line_color\":\"red\",\"line_width\":2,\"x\":{\"field\":\"x\"},\"y\":{\"field\":\"y\"}},\"id\":\"3573\",\"type\":\"Line\"},{\"attributes\":{},\"id\":\"3601\",\"type\":\"UnionRenderers\"},{\"attributes\":{},\"id\":\"3547\",\"type\":\"LinearScale\"},{\"attributes\":{},\"id\":\"3581\",\"type\":\"BasicTickFormatter\"},{\"attributes\":{\"callback\":null,\"data\":{\"x\":[\"2000\",\"2001\",\"2002\",\"2003\",\"2004\",\"2005\",\"2006\",\"2007\",\"2008\",\"2009\",\"2010\",\"2011\",\"2012\",\"2013\",\"2014\",\"2015\",\"2016\",\"2017\"],\"y\":[33.370051835559885,29.57702548330176,33.388901341061164,33.789125730263024,27.622887569846355,27.43513871906223,23.322003949314283,23.173937290806006,22.087389072731586,21.87034331925848,21.56849553016734,25.1902973461321,21.23626220970231,24.160800450151424,24.012498654781346,24.564505025797747,25.205451210762366,24.27522883303202]},\"selected\":{\"id\":\"3778\",\"type\":\"Selection\"},\"selection_policy\":{\"id\":\"3777\",\"type\":\"UnionRenderers\"}},\"id\":\"3590\",\"type\":\"ColumnDataSource\"},{\"attributes\":{\"bottom_units\":\"screen\",\"fill_alpha\":{\"value\":0.5},\"fill_color\":{\"value\":\"lightgrey\"},\"left_units\":\"screen\",\"level\":\"overlay\",\"line_alpha\":{\"value\":1.0},\"line_color\":{\"value\":\"black\"},\"line_dash\":[4,4],\"line_width\":{\"value\":2},\"render_mode\":\"css\",\"right_units\":\"screen\",\"top_units\":\"screen\"},\"id\":\"3582\",\"type\":\"BoxAnnotation\"},{\"attributes\":{},\"id\":\"3562\",\"type\":\"SaveTool\"},{\"attributes\":{\"line_color\":\"blue\",\"line_width\":2,\"x\":{\"field\":\"x\"},\"y\":{\"field\":\"y\"}},\"id\":\"3591\",\"type\":\"Line\"},{\"attributes\":{\"source\":{\"id\":\"3585\",\"type\":\"ColumnDataSource\"}},\"id\":\"3589\",\"type\":\"CDSView\"},{\"attributes\":{\"dimension\":1,\"ticker\":{\"id\":\"3555\",\"type\":\"BasicTicker\"}},\"id\":\"3558\",\"type\":\"Grid\"},{\"attributes\":{},\"id\":\"3550\",\"type\":\"BasicTicker\"},{\"attributes\":{},\"id\":\"3604\",\"type\":\"Selection\"},{\"attributes\":{\"label\":{\"value\":\"LDCs\"},\"renderers\":[{\"id\":\"3575\",\"type\":\"GlyphRenderer\"}]},\"id\":\"3584\",\"type\":\"LegendItem\"},{\"attributes\":{\"overlay\":{\"id\":\"3582\",\"type\":\"BoxAnnotation\"}},\"id\":\"3561\",\"type\":\"BoxZoomTool\"},{\"attributes\":{\"data_source\":{\"id\":\"3590\",\"type\":\"ColumnDataSource\"},\"glyph\":{\"id\":\"3591\",\"type\":\"Line\"},\"hover_glyph\":null,\"muted_glyph\":null,\"nonselection_glyph\":{\"id\":\"3592\",\"type\":\"Line\"},\"selection_glyph\":null,\"view\":{\"id\":\"3594\",\"type\":\"CDSView\"}},\"id\":\"3593\",\"type\":\"GlyphRenderer\"},{\"attributes\":{\"callback\":null,\"data\":{\"x\":[\"2000\",\"2001\",\"2002\",\"2003\",\"2004\",\"2005\",\"2006\",\"2007\",\"2008\",\"2009\",\"2010\",\"2011\",\"2012\",\"2013\",\"2014\",\"2015\",\"2016\",\"2017\"],\"y\":[51.520903177485685,46.52493990984674,45.72529764000698,47.0523349681254,48.04905957142995,48.073273979200536,46.88345337680238,45.37851355945308,47.5713037782683,46.94420318527923,44.98718519250169,45.977667340832,43.49825989518141,43.05048551129662,40.19878876980604,41.85413035115011,38.496722137935755,38.768702276413286]},\"selected\":{\"id\":\"3604\",\"type\":\"Selection\"},\"selection_policy\":{\"id\":\"3603\",\"type\":\"UnionRenderers\"}},\"id\":\"3585\",\"type\":\"ColumnDataSource\"},{\"attributes\":{\"ticker\":{\"id\":\"3550\",\"type\":\"BasicTicker\"}},\"id\":\"3553\",\"type\":\"Grid\"},{\"attributes\":{\"source\":{\"id\":\"3590\",\"type\":\"ColumnDataSource\"}},\"id\":\"3594\",\"type\":\"CDSView\"},{\"attributes\":{\"line_alpha\":0.1,\"line_color\":\"#1f77b4\",\"line_width\":2,\"x\":{\"field\":\"x\"},\"y\":{\"field\":\"y\"}},\"id\":\"3592\",\"type\":\"Line\"},{\"attributes\":{\"callback\":null},\"id\":\"3543\",\"type\":\"DataRange1d\"},{\"attributes\":{\"fill_color\":{\"value\":\"blue\"},\"line_color\":{\"value\":\"blue\"},\"line_width\":{\"value\":3},\"x\":{\"field\":\"x\"},\"y\":{\"field\":\"y\"}},\"id\":\"3607\",\"type\":\"Circle\"},{\"attributes\":{},\"id\":\"3555\",\"type\":\"BasicTicker\"},{\"attributes\":{\"callback\":null,\"data\":{\"x\":[\"2000\",\"2001\",\"2002\",\"2003\",\"2004\",\"2005\",\"2006\",\"2007\",\"2008\",\"2009\",\"2010\",\"2011\",\"2012\",\"2013\",\"2014\",\"2015\",\"2016\",\"2017\"],\"y\":[33.370051835559885,29.57702548330176,33.388901341061164,33.789125730263024,27.622887569846355,27.43513871906223,23.322003949314283,23.173937290806006,22.087389072731586,21.87034331925848,21.56849553016734,25.1902973461321,21.23626220970231,24.160800450151424,24.012498654781346,24.564505025797747,25.205451210762366,24.27522883303202]},\"selected\":{\"id\":\"3780\",\"type\":\"Selection\"},\"selection_policy\":{\"id\":\"3779\",\"type\":\"UnionRenderers\"}},\"id\":\"3606\",\"type\":\"ColumnDataSource\"},{\"attributes\":{\"axis_label\":\"Percentage\",\"formatter\":{\"id\":\"3579\",\"type\":\"BasicTickFormatter\"},\"ticker\":{\"id\":\"3555\",\"type\":\"BasicTicker\"}},\"id\":\"3554\",\"type\":\"LinearAxis\"},{\"attributes\":{\"axis_label\":\"Years\",\"formatter\":{\"id\":\"3581\",\"type\":\"BasicTickFormatter\"},\"ticker\":{\"id\":\"3550\",\"type\":\"BasicTicker\"}},\"id\":\"3549\",\"type\":\"LinearAxis\"},{\"attributes\":{},\"id\":\"3602\",\"type\":\"Selection\"},{\"attributes\":{},\"id\":\"3560\",\"type\":\"WheelZoomTool\"},{\"attributes\":{},\"id\":\"3603\",\"type\":\"UnionRenderers\"},{\"attributes\":{},\"id\":\"3779\",\"type\":\"UnionRenderers\"}],\"root_ids\":[\"3538\"]},\"title\":\"Bokeh Application\",\"version\":\"1.3.4\"}};\n",
       "  var render_items = [{\"docid\":\"da0d9698-7c2d-4f79-abf0-a2697e664dce\",\"roots\":{\"3538\":\"2f471f49-6d15-4718-828b-8cc8242354e4\"}}];\n",
       "  root.Bokeh.embed.embed_items_notebook(docs_json, render_items);\n",
       "\n",
       "  }\n",
       "  if (root.Bokeh !== undefined) {\n",
       "    embed_document(root);\n",
       "  } else {\n",
       "    var attempts = 0;\n",
       "    var timer = setInterval(function(root) {\n",
       "      if (root.Bokeh !== undefined) {\n",
       "        embed_document(root);\n",
       "        clearInterval(timer);\n",
       "      }\n",
       "      attempts++;\n",
       "      if (attempts > 100) {\n",
       "        console.log(\"Bokeh: ERROR: Unable to run BokehJS code because BokehJS library is missing\");\n",
       "        clearInterval(timer);\n",
       "      }\n",
       "    }, 10, root)\n",
       "  }\n",
       "})(window);"
      ],
      "application/vnd.bokehjs_exec.v0+json": ""
     },
     "metadata": {
      "application/vnd.bokehjs_exec.v0+json": {
       "id": "3538"
      }
     },
     "output_type": "display_data"
    }
   ],
   "source": [
    "# Pupil teacher ration\n",
    "years = list(map(str, list(range(2000,2018))))\n",
    "result = show_weighted_average(years, 'SE.PRM.ENRL.TC.ZS', 'SP.POP.TOTL', \n",
    "                               ['LDCs', 'Developing excluding LDCs'])"
   ]
  },
  {
   "cell_type": "code",
   "execution_count": 12,
   "metadata": {},
   "outputs": [
    {
     "data": {
      "text/html": [
       "\n",
       "\n",
       "\n",
       "\n",
       "\n",
       "\n",
       "  <div class=\"bk-root\" id=\"264b32d5-f648-42f3-a364-80b41a35529f\" data-root-id=\"3865\"></div>\n"
      ]
     },
     "metadata": {},
     "output_type": "display_data"
    },
    {
     "data": {
      "application/javascript": [
       "(function(root) {\n",
       "  function embed_document(root) {\n",
       "    \n",
       "  var docs_json = {\"a2ed457e-5d82-44de-bbce-7be444f584b3\":{\"roots\":{\"references\":[{\"attributes\":{\"below\":[{\"id\":\"3876\",\"type\":\"LinearAxis\"}],\"center\":[{\"id\":\"3880\",\"type\":\"Grid\"},{\"id\":\"3885\",\"type\":\"Grid\"},{\"id\":\"3910\",\"type\":\"Legend\"}],\"left\":[{\"id\":\"3881\",\"type\":\"LinearAxis\"}],\"plot_height\":400,\"plot_width\":950,\"renderers\":[{\"id\":\"3902\",\"type\":\"GlyphRenderer\"},{\"id\":\"3915\",\"type\":\"GlyphRenderer\"},{\"id\":\"3920\",\"type\":\"GlyphRenderer\"},{\"id\":\"3936\",\"type\":\"GlyphRenderer\"},{\"id\":\"3941\",\"type\":\"GlyphRenderer\"},{\"id\":\"3961\",\"type\":\"GlyphRenderer\"}],\"title\":{\"id\":\"3866\",\"type\":\"Title\"},\"toolbar\":{\"id\":\"3892\",\"type\":\"Toolbar\"},\"x_range\":{\"id\":\"3868\",\"type\":\"DataRange1d\"},\"x_scale\":{\"id\":\"3872\",\"type\":\"LinearScale\"},\"y_range\":{\"id\":\"3870\",\"type\":\"DataRange1d\"},\"y_scale\":{\"id\":\"3874\",\"type\":\"LinearScale\"}},\"id\":\"3865\",\"subtype\":\"Figure\",\"type\":\"Plot\"},{\"attributes\":{},\"id\":\"3953\",\"type\":\"UnionRenderers\"},{\"attributes\":{},\"id\":\"3956\",\"type\":\"Selection\"},{\"attributes\":{},\"id\":\"3874\",\"type\":\"LinearScale\"},{\"attributes\":{\"source\":{\"id\":\"3912\",\"type\":\"ColumnDataSource\"}},\"id\":\"3916\",\"type\":\"CDSView\"},{\"attributes\":{\"callback\":null,\"data\":{\"x\":[\"2000\",\"2001\",\"2002\",\"2003\",\"2004\",\"2005\",\"2006\",\"2007\",\"2008\",\"2009\",\"2010\",\"2011\",\"2012\",\"2013\",\"2014\",\"2015\",\"2016\",\"2017\"],\"y\":[55.47978614999483,55.975732696938344,56.50274815798361,57.06108266122101,57.646781535993426,58.25570477828153,58.88310509569853,59.52027856066717,60.15664526899239,60.78301466742689,61.388933701289815,61.967425120830384,62.51265697725478,63.02794492847264,63.50655894613865,63.94522390318217,64.34308028696678,64.70484741974481]},\"selected\":{\"id\":\"3929\",\"type\":\"Selection\"},\"selection_policy\":{\"id\":\"3928\",\"type\":\"UnionRenderers\"}},\"id\":\"3899\",\"type\":\"ColumnDataSource\"},{\"attributes\":{\"line_alpha\":0.1,\"line_color\":\"#1f77b4\",\"line_width\":2,\"x\":{\"field\":\"x\"},\"y\":{\"field\":\"y\"}},\"id\":\"3940\",\"type\":\"Line\"},{\"attributes\":{\"axis_label\":\"Years\",\"formatter\":{\"id\":\"3908\",\"type\":\"BasicTickFormatter\"},\"ticker\":{\"id\":\"3877\",\"type\":\"BasicTicker\"}},\"id\":\"3876\",\"type\":\"LinearAxis\"},{\"attributes\":{\"line_color\":\"blue\",\"line_width\":2,\"x\":{\"field\":\"x\"},\"y\":{\"field\":\"y\"}},\"id\":\"3918\",\"type\":\"Line\"},{\"attributes\":{},\"id\":\"3889\",\"type\":\"SaveTool\"},{\"attributes\":{\"data_source\":{\"id\":\"3938\",\"type\":\"ColumnDataSource\"},\"glyph\":{\"id\":\"3939\",\"type\":\"Line\"},\"hover_glyph\":null,\"muted_glyph\":null,\"nonselection_glyph\":{\"id\":\"3940\",\"type\":\"Line\"},\"selection_glyph\":null,\"view\":{\"id\":\"3942\",\"type\":\"CDSView\"}},\"id\":\"3941\",\"type\":\"GlyphRenderer\"},{\"attributes\":{\"callback\":null,\"data\":{\"x\":[\"2000\",\"2001\",\"2002\",\"2003\",\"2004\",\"2005\",\"2006\",\"2007\",\"2008\",\"2009\",\"2010\",\"2011\",\"2012\",\"2013\",\"2014\",\"2015\",\"2016\",\"2017\"],\"y\":[66.81116952985124,67.10136064960203,67.39534765279303,67.69191534513566,67.99394689200506,68.30220457476779,68.61903869781979,68.94325513186014,69.27457578712584,69.61247702715436,69.94342523785205,70.27284035315787,70.59362275978874,70.9030130494035,71.1981897682081,71.47010803591232,71.72046744475756,71.9516686920634]},\"selected\":{\"id\":\"3954\",\"type\":\"Selection\"},\"selection_policy\":{\"id\":\"3953\",\"type\":\"UnionRenderers\"}},\"id\":\"3917\",\"type\":\"ColumnDataSource\"},{\"attributes\":{},\"id\":\"3890\",\"type\":\"ResetTool\"},{\"attributes\":{\"line_alpha\":0.1,\"line_color\":\"#1f77b4\",\"line_width\":2,\"x\":{\"field\":\"x\"},\"y\":{\"field\":\"y\"}},\"id\":\"3919\",\"type\":\"Line\"},{\"attributes\":{\"source\":{\"id\":\"3938\",\"type\":\"ColumnDataSource\"}},\"id\":\"3942\",\"type\":\"CDSView\"},{\"attributes\":{},\"id\":\"3877\",\"type\":\"BasicTicker\"},{\"attributes\":{},\"id\":\"3955\",\"type\":\"UnionRenderers\"},{\"attributes\":{\"fill_color\":{\"value\":\"red\"},\"line_color\":{\"value\":\"red\"},\"line_width\":{\"value\":3},\"x\":{\"field\":\"x\"},\"y\":{\"field\":\"y\"}},\"id\":\"3913\",\"type\":\"Circle\"},{\"attributes\":{\"callback\":null,\"tooltips\":\"\\n        <div style=padding=5px>Year:@x</div>\\n        <div style=padding=5px>Value:@y</div>\\n        \"},\"id\":\"3963\",\"type\":\"HoverTool\"},{\"attributes\":{},\"id\":\"4149\",\"type\":\"UnionRenderers\"},{\"attributes\":{\"source\":{\"id\":\"3933\",\"type\":\"ColumnDataSource\"}},\"id\":\"3937\",\"type\":\"CDSView\"},{\"attributes\":{\"callback\":null},\"id\":\"3870\",\"type\":\"DataRange1d\"},{\"attributes\":{\"data_source\":{\"id\":\"3912\",\"type\":\"ColumnDataSource\"},\"glyph\":{\"id\":\"3913\",\"type\":\"Circle\"},\"hover_glyph\":null,\"muted_glyph\":null,\"nonselection_glyph\":{\"id\":\"3914\",\"type\":\"Circle\"},\"selection_glyph\":null,\"view\":{\"id\":\"3916\",\"type\":\"CDSView\"}},\"id\":\"3915\",\"type\":\"GlyphRenderer\"},{\"attributes\":{},\"id\":\"3886\",\"type\":\"PanTool\"},{\"attributes\":{\"callback\":null,\"data\":{\"x\":[\"2000\",\"2001\",\"2002\",\"2003\",\"2004\",\"2005\",\"2006\",\"2007\",\"2008\",\"2009\",\"2010\",\"2011\",\"2012\",\"2013\",\"2014\",\"2015\",\"2016\",\"2017\"],\"y\":[77.07712560169232,77.38833297513385,77.54776037882743,77.69654179560608,78.09938587502181,78.21736324644525,78.50714525876474,78.73135260844114,78.87486015871855,79.13132827194039,79.3009215024766,79.53231619249463,79.64498856482149,79.80818222814423,80.05654259453199,79.94678663973315,80.09864354689779,80.15042257303583]},\"selected\":{\"id\":\"4148\",\"type\":\"Selection\"},\"selection_policy\":{\"id\":\"4147\",\"type\":\"UnionRenderers\"}},\"id\":\"3938\",\"type\":\"ColumnDataSource\"},{\"attributes\":{\"fill_alpha\":{\"value\":0.1},\"fill_color\":{\"value\":\"#1f77b4\"},\"line_alpha\":{\"value\":0.1},\"line_color\":{\"value\":\"#1f77b4\"},\"line_width\":{\"value\":3},\"x\":{\"field\":\"x\"},\"y\":{\"field\":\"y\"}},\"id\":\"3914\",\"type\":\"Circle\"},{\"attributes\":{},\"id\":\"3887\",\"type\":\"WheelZoomTool\"},{\"attributes\":{},\"id\":\"4150\",\"type\":\"Selection\"},{\"attributes\":{\"line_color\":\"green\",\"line_width\":2,\"x\":{\"field\":\"x\"},\"y\":{\"field\":\"y\"}},\"id\":\"3939\",\"type\":\"Line\"},{\"attributes\":{\"axis_label\":\"Percentage\",\"formatter\":{\"id\":\"3906\",\"type\":\"BasicTickFormatter\"},\"ticker\":{\"id\":\"3882\",\"type\":\"BasicTicker\"}},\"id\":\"3881\",\"type\":\"LinearAxis\"},{\"attributes\":{},\"id\":\"3872\",\"type\":\"LinearScale\"},{\"attributes\":{\"items\":[{\"id\":\"3911\",\"type\":\"LegendItem\"},{\"id\":\"3932\",\"type\":\"LegendItem\"},{\"id\":\"3957\",\"type\":\"LegendItem\"}],\"location\":\"bottom_left\"},\"id\":\"3910\",\"type\":\"Legend\"},{\"attributes\":{\"fill_color\":{\"value\":\"blue\"},\"line_color\":{\"value\":\"blue\"},\"line_width\":{\"value\":3},\"x\":{\"field\":\"x\"},\"y\":{\"field\":\"y\"}},\"id\":\"3934\",\"type\":\"Circle\"},{\"attributes\":{},\"id\":\"3954\",\"type\":\"Selection\"},{\"attributes\":{\"callback\":null,\"data\":{\"x\":[\"2000\",\"2001\",\"2002\",\"2003\",\"2004\",\"2005\",\"2006\",\"2007\",\"2008\",\"2009\",\"2010\",\"2011\",\"2012\",\"2013\",\"2014\",\"2015\",\"2016\",\"2017\"],\"y\":[55.47978614999483,55.975732696938344,56.50274815798361,57.06108266122101,57.646781535993426,58.25570477828153,58.88310509569853,59.52027856066717,60.15664526899239,60.78301466742689,61.388933701289815,61.967425120830384,62.51265697725478,63.02794492847264,63.50655894613865,63.94522390318217,64.34308028696678,64.70484741974481]},\"selected\":{\"id\":\"3931\",\"type\":\"Selection\"},\"selection_policy\":{\"id\":\"3930\",\"type\":\"UnionRenderers\"}},\"id\":\"3912\",\"type\":\"ColumnDataSource\"},{\"attributes\":{\"line_color\":\"red\",\"line_width\":2,\"x\":{\"field\":\"x\"},\"y\":{\"field\":\"y\"}},\"id\":\"3900\",\"type\":\"Line\"},{\"attributes\":{\"fill_alpha\":{\"value\":0.1},\"fill_color\":{\"value\":\"#1f77b4\"},\"line_alpha\":{\"value\":0.1},\"line_color\":{\"value\":\"#1f77b4\"},\"line_width\":{\"value\":3},\"x\":{\"field\":\"x\"},\"y\":{\"field\":\"y\"}},\"id\":\"3935\",\"type\":\"Circle\"},{\"attributes\":{},\"id\":\"4148\",\"type\":\"Selection\"},{\"attributes\":{\"label\":{\"value\":\"LDCs\"},\"renderers\":[{\"id\":\"3902\",\"type\":\"GlyphRenderer\"}]},\"id\":\"3911\",\"type\":\"LegendItem\"},{\"attributes\":{},\"id\":\"4147\",\"type\":\"UnionRenderers\"},{\"attributes\":{\"data_source\":{\"id\":\"3933\",\"type\":\"ColumnDataSource\"},\"glyph\":{\"id\":\"3934\",\"type\":\"Circle\"},\"hover_glyph\":null,\"muted_glyph\":null,\"nonselection_glyph\":{\"id\":\"3935\",\"type\":\"Circle\"},\"selection_glyph\":null,\"view\":{\"id\":\"3937\",\"type\":\"CDSView\"}},\"id\":\"3936\",\"type\":\"GlyphRenderer\"},{\"attributes\":{\"text\":\"Life expectancy at birth, total (years) weighted against Population, total\"},\"id\":\"3866\",\"type\":\"Title\"},{\"attributes\":{},\"id\":\"3931\",\"type\":\"Selection\"},{\"attributes\":{\"dimension\":1,\"ticker\":{\"id\":\"3882\",\"type\":\"BasicTicker\"}},\"id\":\"3885\",\"type\":\"Grid\"},{\"attributes\":{\"fill_alpha\":{\"value\":0.1},\"fill_color\":{\"value\":\"#1f77b4\"},\"line_alpha\":{\"value\":0.1},\"line_color\":{\"value\":\"#1f77b4\"},\"line_width\":{\"value\":3},\"x\":{\"field\":\"x\"},\"y\":{\"field\":\"y\"}},\"id\":\"3960\",\"type\":\"Circle\"},{\"attributes\":{},\"id\":\"3906\",\"type\":\"BasicTickFormatter\"},{\"attributes\":{\"callback\":null,\"data\":{\"x\":[\"2000\",\"2001\",\"2002\",\"2003\",\"2004\",\"2005\",\"2006\",\"2007\",\"2008\",\"2009\",\"2010\",\"2011\",\"2012\",\"2013\",\"2014\",\"2015\",\"2016\",\"2017\"],\"y\":[66.81116952985124,67.10136064960203,67.39534765279303,67.69191534513566,67.99394689200506,68.30220457476779,68.61903869781979,68.94325513186014,69.27457578712584,69.61247702715436,69.94342523785205,70.27284035315787,70.59362275978874,70.9030130494035,71.1981897682081,71.47010803591232,71.72046744475756,71.9516686920634]},\"selected\":{\"id\":\"3956\",\"type\":\"Selection\"},\"selection_policy\":{\"id\":\"3955\",\"type\":\"UnionRenderers\"}},\"id\":\"3933\",\"type\":\"ColumnDataSource\"},{\"attributes\":{\"bottom_units\":\"screen\",\"fill_alpha\":{\"value\":0.5},\"fill_color\":{\"value\":\"lightgrey\"},\"left_units\":\"screen\",\"level\":\"overlay\",\"line_alpha\":{\"value\":1.0},\"line_color\":{\"value\":\"black\"},\"line_dash\":[4,4],\"line_width\":{\"value\":2},\"render_mode\":\"css\",\"right_units\":\"screen\",\"top_units\":\"screen\"},\"id\":\"3909\",\"type\":\"BoxAnnotation\"},{\"attributes\":{\"ticker\":{\"id\":\"3877\",\"type\":\"BasicTicker\"}},\"id\":\"3880\",\"type\":\"Grid\"},{\"attributes\":{},\"id\":\"3908\",\"type\":\"BasicTickFormatter\"},{\"attributes\":{\"label\":{\"value\":\"Developing excluding LDCs\"},\"renderers\":[{\"id\":\"3920\",\"type\":\"GlyphRenderer\"}]},\"id\":\"3932\",\"type\":\"LegendItem\"},{\"attributes\":{\"data_source\":{\"id\":\"3958\",\"type\":\"ColumnDataSource\"},\"glyph\":{\"id\":\"3959\",\"type\":\"Circle\"},\"hover_glyph\":null,\"muted_glyph\":null,\"nonselection_glyph\":{\"id\":\"3960\",\"type\":\"Circle\"},\"selection_glyph\":null,\"view\":{\"id\":\"3962\",\"type\":\"CDSView\"}},\"id\":\"3961\",\"type\":\"GlyphRenderer\"},{\"attributes\":{},\"id\":\"3928\",\"type\":\"UnionRenderers\"},{\"attributes\":{},\"id\":\"3882\",\"type\":\"BasicTicker\"},{\"attributes\":{},\"id\":\"3891\",\"type\":\"HelpTool\"},{\"attributes\":{},\"id\":\"3930\",\"type\":\"UnionRenderers\"},{\"attributes\":{\"callback\":null,\"data\":{\"x\":[\"2000\",\"2001\",\"2002\",\"2003\",\"2004\",\"2005\",\"2006\",\"2007\",\"2008\",\"2009\",\"2010\",\"2011\",\"2012\",\"2013\",\"2014\",\"2015\",\"2016\",\"2017\"],\"y\":[77.07712560169232,77.38833297513385,77.54776037882743,77.69654179560608,78.09938587502181,78.21736324644525,78.50714525876474,78.73135260844114,78.87486015871855,79.13132827194039,79.3009215024766,79.53231619249463,79.64498856482149,79.80818222814423,80.05654259453199,79.94678663973315,80.09864354689779,80.15042257303583]},\"selected\":{\"id\":\"4150\",\"type\":\"Selection\"},\"selection_policy\":{\"id\":\"4149\",\"type\":\"UnionRenderers\"}},\"id\":\"3958\",\"type\":\"ColumnDataSource\"},{\"attributes\":{\"source\":{\"id\":\"3899\",\"type\":\"ColumnDataSource\"}},\"id\":\"3903\",\"type\":\"CDSView\"},{\"attributes\":{\"source\":{\"id\":\"3958\",\"type\":\"ColumnDataSource\"}},\"id\":\"3962\",\"type\":\"CDSView\"},{\"attributes\":{\"data_source\":{\"id\":\"3899\",\"type\":\"ColumnDataSource\"},\"glyph\":{\"id\":\"3900\",\"type\":\"Line\"},\"hover_glyph\":null,\"muted_glyph\":null,\"nonselection_glyph\":{\"id\":\"3901\",\"type\":\"Line\"},\"selection_glyph\":null,\"view\":{\"id\":\"3903\",\"type\":\"CDSView\"}},\"id\":\"3902\",\"type\":\"GlyphRenderer\"},{\"attributes\":{},\"id\":\"3929\",\"type\":\"Selection\"},{\"attributes\":{\"label\":{\"value\":\"OECD\"},\"renderers\":[{\"id\":\"3941\",\"type\":\"GlyphRenderer\"}]},\"id\":\"3957\",\"type\":\"LegendItem\"},{\"attributes\":{\"overlay\":{\"id\":\"3909\",\"type\":\"BoxAnnotation\"}},\"id\":\"3888\",\"type\":\"BoxZoomTool\"},{\"attributes\":{\"fill_color\":{\"value\":\"green\"},\"line_color\":{\"value\":\"green\"},\"line_width\":{\"value\":3},\"x\":{\"field\":\"x\"},\"y\":{\"field\":\"y\"}},\"id\":\"3959\",\"type\":\"Circle\"},{\"attributes\":{\"source\":{\"id\":\"3917\",\"type\":\"ColumnDataSource\"}},\"id\":\"3921\",\"type\":\"CDSView\"},{\"attributes\":{\"data_source\":{\"id\":\"3917\",\"type\":\"ColumnDataSource\"},\"glyph\":{\"id\":\"3918\",\"type\":\"Line\"},\"hover_glyph\":null,\"muted_glyph\":null,\"nonselection_glyph\":{\"id\":\"3919\",\"type\":\"Line\"},\"selection_glyph\":null,\"view\":{\"id\":\"3921\",\"type\":\"CDSView\"}},\"id\":\"3920\",\"type\":\"GlyphRenderer\"},{\"attributes\":{\"active_drag\":\"auto\",\"active_inspect\":\"auto\",\"active_multi\":null,\"active_scroll\":\"auto\",\"active_tap\":\"auto\",\"tools\":[{\"id\":\"3886\",\"type\":\"PanTool\"},{\"id\":\"3887\",\"type\":\"WheelZoomTool\"},{\"id\":\"3888\",\"type\":\"BoxZoomTool\"},{\"id\":\"3889\",\"type\":\"SaveTool\"},{\"id\":\"3890\",\"type\":\"ResetTool\"},{\"id\":\"3891\",\"type\":\"HelpTool\"},{\"id\":\"3963\",\"type\":\"HoverTool\"}]},\"id\":\"3892\",\"type\":\"Toolbar\"},{\"attributes\":{\"line_alpha\":0.1,\"line_color\":\"#1f77b4\",\"line_width\":2,\"x\":{\"field\":\"x\"},\"y\":{\"field\":\"y\"}},\"id\":\"3901\",\"type\":\"Line\"},{\"attributes\":{\"callback\":null},\"id\":\"3868\",\"type\":\"DataRange1d\"}],\"root_ids\":[\"3865\"]},\"title\":\"Bokeh Application\",\"version\":\"1.3.4\"}};\n",
       "  var render_items = [{\"docid\":\"a2ed457e-5d82-44de-bbce-7be444f584b3\",\"roots\":{\"3865\":\"264b32d5-f648-42f3-a364-80b41a35529f\"}}];\n",
       "  root.Bokeh.embed.embed_items_notebook(docs_json, render_items);\n",
       "\n",
       "  }\n",
       "  if (root.Bokeh !== undefined) {\n",
       "    embed_document(root);\n",
       "  } else {\n",
       "    var attempts = 0;\n",
       "    var timer = setInterval(function(root) {\n",
       "      if (root.Bokeh !== undefined) {\n",
       "        embed_document(root);\n",
       "        clearInterval(timer);\n",
       "      }\n",
       "      attempts++;\n",
       "      if (attempts > 100) {\n",
       "        console.log(\"Bokeh: ERROR: Unable to run BokehJS code because BokehJS library is missing\");\n",
       "        clearInterval(timer);\n",
       "      }\n",
       "    }, 10, root)\n",
       "  }\n",
       "})(window);"
      ],
      "application/vnd.bokehjs_exec.v0+json": ""
     },
     "metadata": {
      "application/vnd.bokehjs_exec.v0+json": {
       "id": "3865"
      }
     },
     "output_type": "display_data"
    }
   ],
   "source": [
    "# Life expectancy\n",
    "years = list(map(str, list(range(2000,2018))))\n",
    "result = show_weighted_average(years, 'SP.DYN.LE00.IN', 'SP.POP.TOTL', \n",
    "                               ['LDCs', 'Developing excluding LDCs', 'OECD'])"
   ]
  },
  {
   "cell_type": "code",
   "execution_count": 13,
   "metadata": {},
   "outputs": [
    {
     "data": {
      "text/html": [
       "\n",
       "\n",
       "\n",
       "\n",
       "\n",
       "\n",
       "  <div class=\"bk-root\" id=\"84a24654-f711-4168-a1f3-cecb04784dca\" data-root-id=\"4259\"></div>\n"
      ]
     },
     "metadata": {},
     "output_type": "display_data"
    },
    {
     "data": {
      "application/javascript": [
       "(function(root) {\n",
       "  function embed_document(root) {\n",
       "    \n",
       "  var docs_json = {\"7b8bc03d-c690-4de7-b713-c2e012f3cc6f\":{\"roots\":{\"references\":[{\"attributes\":{\"below\":[{\"id\":\"4270\",\"type\":\"LinearAxis\"}],\"center\":[{\"id\":\"4274\",\"type\":\"Grid\"},{\"id\":\"4279\",\"type\":\"Grid\"},{\"id\":\"4304\",\"type\":\"Legend\"}],\"left\":[{\"id\":\"4275\",\"type\":\"LinearAxis\"}],\"plot_height\":400,\"plot_width\":950,\"renderers\":[{\"id\":\"4296\",\"type\":\"GlyphRenderer\"},{\"id\":\"4309\",\"type\":\"GlyphRenderer\"},{\"id\":\"4314\",\"type\":\"GlyphRenderer\"},{\"id\":\"4330\",\"type\":\"GlyphRenderer\"},{\"id\":\"4335\",\"type\":\"GlyphRenderer\"},{\"id\":\"4355\",\"type\":\"GlyphRenderer\"}],\"title\":{\"id\":\"4260\",\"type\":\"Title\"},\"toolbar\":{\"id\":\"4286\",\"type\":\"Toolbar\"},\"x_range\":{\"id\":\"4262\",\"type\":\"DataRange1d\"},\"x_scale\":{\"id\":\"4266\",\"type\":\"LinearScale\"},\"y_range\":{\"id\":\"4264\",\"type\":\"DataRange1d\"},\"y_scale\":{\"id\":\"4268\",\"type\":\"LinearScale\"}},\"id\":\"4259\",\"subtype\":\"Figure\",\"type\":\"Plot\"},{\"attributes\":{\"callback\":null},\"id\":\"4264\",\"type\":\"DataRange1d\"},{\"attributes\":{},\"id\":\"4300\",\"type\":\"BasicTickFormatter\"},{\"attributes\":{\"fill_color\":{\"value\":\"blue\"},\"line_color\":{\"value\":\"blue\"},\"line_width\":{\"value\":3},\"x\":{\"field\":\"x\"},\"y\":{\"field\":\"y\"}},\"id\":\"4328\",\"type\":\"Circle\"},{\"attributes\":{\"axis_label\":\"Percentage\",\"formatter\":{\"id\":\"4300\",\"type\":\"BasicTickFormatter\"},\"ticker\":{\"id\":\"4276\",\"type\":\"BasicTicker\"}},\"id\":\"4275\",\"type\":\"LinearAxis\"},{\"attributes\":{\"dimension\":1,\"ticker\":{\"id\":\"4276\",\"type\":\"BasicTicker\"}},\"id\":\"4279\",\"type\":\"Grid\"},{\"attributes\":{\"data_source\":{\"id\":\"4311\",\"type\":\"ColumnDataSource\"},\"glyph\":{\"id\":\"4312\",\"type\":\"Line\"},\"hover_glyph\":null,\"muted_glyph\":null,\"nonselection_glyph\":{\"id\":\"4313\",\"type\":\"Line\"},\"selection_glyph\":null,\"view\":{\"id\":\"4315\",\"type\":\"CDSView\"}},\"id\":\"4314\",\"type\":\"GlyphRenderer\"},{\"attributes\":{\"data_source\":{\"id\":\"4332\",\"type\":\"ColumnDataSource\"},\"glyph\":{\"id\":\"4333\",\"type\":\"Line\"},\"hover_glyph\":null,\"muted_glyph\":null,\"nonselection_glyph\":{\"id\":\"4334\",\"type\":\"Line\"},\"selection_glyph\":null,\"view\":{\"id\":\"4336\",\"type\":\"CDSView\"}},\"id\":\"4335\",\"type\":\"GlyphRenderer\"},{\"attributes\":{\"callback\":null,\"data\":{\"x\":[\"2000\",\"2001\",\"2002\",\"2003\",\"2004\",\"2005\",\"2006\",\"2007\",\"2008\",\"2009\",\"2010\",\"2011\",\"2012\",\"2013\",\"2014\",\"2015\",\"2016\",\"2017\"],\"y\":[79.93351879418076,80.20290658761989,80.32918832949842,80.39856940465691,80.77521328865518,80.86674990168122,81.1402038786844,81.32381241465296,81.43163205746191,81.62948962454634,81.79594928587568,82.07333933782573,82.11929566013815,82.26555024337196,82.51912432141074,82.35601028400251,82.55037747513924,82.59790657999017]},\"selected\":{\"id\":\"4562\",\"type\":\"Selection\"},\"selection_policy\":{\"id\":\"4561\",\"type\":\"UnionRenderers\"}},\"id\":\"4352\",\"type\":\"ColumnDataSource\"},{\"attributes\":{\"line_color\":\"blue\",\"line_width\":2,\"x\":{\"field\":\"x\"},\"y\":{\"field\":\"y\"}},\"id\":\"4312\",\"type\":\"Line\"},{\"attributes\":{\"data_source\":{\"id\":\"4352\",\"type\":\"ColumnDataSource\"},\"glyph\":{\"id\":\"4353\",\"type\":\"Circle\"},\"hover_glyph\":null,\"muted_glyph\":null,\"nonselection_glyph\":{\"id\":\"4354\",\"type\":\"Circle\"},\"selection_glyph\":null,\"view\":{\"id\":\"4356\",\"type\":\"CDSView\"}},\"id\":\"4355\",\"type\":\"GlyphRenderer\"},{\"attributes\":{},\"id\":\"4283\",\"type\":\"SaveTool\"},{\"attributes\":{},\"id\":\"4324\",\"type\":\"UnionRenderers\"},{\"attributes\":{\"fill_alpha\":{\"value\":0.1},\"fill_color\":{\"value\":\"#1f77b4\"},\"line_alpha\":{\"value\":0.1},\"line_color\":{\"value\":\"#1f77b4\"},\"line_width\":{\"value\":3},\"x\":{\"field\":\"x\"},\"y\":{\"field\":\"y\"}},\"id\":\"4354\",\"type\":\"Circle\"},{\"attributes\":{},\"id\":\"4271\",\"type\":\"BasicTicker\"},{\"attributes\":{},\"id\":\"4323\",\"type\":\"Selection\"},{\"attributes\":{\"source\":{\"id\":\"4332\",\"type\":\"ColumnDataSource\"}},\"id\":\"4336\",\"type\":\"CDSView\"},{\"attributes\":{},\"id\":\"4280\",\"type\":\"PanTool\"},{\"attributes\":{\"bottom_units\":\"screen\",\"fill_alpha\":{\"value\":0.5},\"fill_color\":{\"value\":\"lightgrey\"},\"left_units\":\"screen\",\"level\":\"overlay\",\"line_alpha\":{\"value\":1.0},\"line_color\":{\"value\":\"black\"},\"line_dash\":[4,4],\"line_width\":{\"value\":2},\"render_mode\":\"css\",\"right_units\":\"screen\",\"top_units\":\"screen\"},\"id\":\"4303\",\"type\":\"BoxAnnotation\"},{\"attributes\":{\"source\":{\"id\":\"4311\",\"type\":\"ColumnDataSource\"}},\"id\":\"4315\",\"type\":\"CDSView\"},{\"attributes\":{\"ticker\":{\"id\":\"4271\",\"type\":\"BasicTicker\"}},\"id\":\"4274\",\"type\":\"Grid\"},{\"attributes\":{},\"id\":\"4349\",\"type\":\"UnionRenderers\"},{\"attributes\":{\"data_source\":{\"id\":\"4293\",\"type\":\"ColumnDataSource\"},\"glyph\":{\"id\":\"4294\",\"type\":\"Line\"},\"hover_glyph\":null,\"muted_glyph\":null,\"nonselection_glyph\":{\"id\":\"4295\",\"type\":\"Line\"},\"selection_glyph\":null,\"view\":{\"id\":\"4297\",\"type\":\"CDSView\"}},\"id\":\"4296\",\"type\":\"GlyphRenderer\"},{\"attributes\":{},\"id\":\"4561\",\"type\":\"UnionRenderers\"},{\"attributes\":{\"callback\":null,\"data\":{\"x\":[\"2000\",\"2001\",\"2002\",\"2003\",\"2004\",\"2005\",\"2006\",\"2007\",\"2008\",\"2009\",\"2010\",\"2011\",\"2012\",\"2013\",\"2014\",\"2015\",\"2016\",\"2017\"],\"y\":[67.73281154489842,67.97348032002085,68.22274061008504,68.4834570193612,68.75974387360039,69.05476389543969,69.3723836455032,69.71081830727181,70.06116455005113,70.42362476987262,70.78281631915947,71.13967644962615,71.48296705077259,71.80606471400148,72.10313283696358,72.37065053741364,72.60294771834627,72.81209975661481]},\"selected\":{\"id\":\"4348\",\"type\":\"Selection\"},\"selection_policy\":{\"id\":\"4347\",\"type\":\"UnionRenderers\"}},\"id\":\"4311\",\"type\":\"ColumnDataSource\"},{\"attributes\":{},\"id\":\"4284\",\"type\":\"ResetTool\"},{\"attributes\":{},\"id\":\"4560\",\"type\":\"Selection\"},{\"attributes\":{\"overlay\":{\"id\":\"4303\",\"type\":\"BoxAnnotation\"}},\"id\":\"4282\",\"type\":\"BoxZoomTool\"},{\"attributes\":{\"data_source\":{\"id\":\"4327\",\"type\":\"ColumnDataSource\"},\"glyph\":{\"id\":\"4328\",\"type\":\"Circle\"},\"hover_glyph\":null,\"muted_glyph\":null,\"nonselection_glyph\":{\"id\":\"4329\",\"type\":\"Circle\"},\"selection_glyph\":null,\"view\":{\"id\":\"4331\",\"type\":\"CDSView\"}},\"id\":\"4330\",\"type\":\"GlyphRenderer\"},{\"attributes\":{},\"id\":\"4268\",\"type\":\"LinearScale\"},{\"attributes\":{\"line_alpha\":0.1,\"line_color\":\"#1f77b4\",\"line_width\":2,\"x\":{\"field\":\"x\"},\"y\":{\"field\":\"y\"}},\"id\":\"4313\",\"type\":\"Line\"},{\"attributes\":{},\"id\":\"4559\",\"type\":\"UnionRenderers\"},{\"attributes\":{\"line_color\":\"red\",\"line_width\":2,\"x\":{\"field\":\"x\"},\"y\":{\"field\":\"y\"}},\"id\":\"4294\",\"type\":\"Line\"},{\"attributes\":{},\"id\":\"4281\",\"type\":\"WheelZoomTool\"},{\"attributes\":{\"callback\":null,\"data\":{\"x\":[\"2000\",\"2001\",\"2002\",\"2003\",\"2004\",\"2005\",\"2006\",\"2007\",\"2008\",\"2009\",\"2010\",\"2011\",\"2012\",\"2013\",\"2014\",\"2015\",\"2016\",\"2017\"],\"y\":[67.73281154489842,67.97348032002085,68.22274061008504,68.4834570193612,68.75974387360039,69.05476389543969,69.3723836455032,69.71081830727181,70.06116455005113,70.42362476987262,70.78281631915947,71.13967644962615,71.48296705077259,71.80606471400148,72.10313283696358,72.37065053741364,72.60294771834627,72.81209975661481]},\"selected\":{\"id\":\"4350\",\"type\":\"Selection\"},\"selection_policy\":{\"id\":\"4349\",\"type\":\"UnionRenderers\"}},\"id\":\"4327\",\"type\":\"ColumnDataSource\"},{\"attributes\":{\"callback\":null},\"id\":\"4262\",\"type\":\"DataRange1d\"},{\"attributes\":{\"fill_color\":{\"value\":\"green\"},\"line_color\":{\"value\":\"green\"},\"line_width\":{\"value\":3},\"x\":{\"field\":\"x\"},\"y\":{\"field\":\"y\"}},\"id\":\"4353\",\"type\":\"Circle\"},{\"attributes\":{\"line_alpha\":0.1,\"line_color\":\"#1f77b4\",\"line_width\":2,\"x\":{\"field\":\"x\"},\"y\":{\"field\":\"y\"}},\"id\":\"4295\",\"type\":\"Line\"},{\"attributes\":{\"source\":{\"id\":\"4352\",\"type\":\"ColumnDataSource\"}},\"id\":\"4356\",\"type\":\"CDSView\"},{\"attributes\":{\"label\":{\"value\":\"OECD\"},\"renderers\":[{\"id\":\"4335\",\"type\":\"GlyphRenderer\"}]},\"id\":\"4351\",\"type\":\"LegendItem\"},{\"attributes\":{},\"id\":\"4322\",\"type\":\"UnionRenderers\"},{\"attributes\":{},\"id\":\"4350\",\"type\":\"Selection\"},{\"attributes\":{},\"id\":\"4285\",\"type\":\"HelpTool\"},{\"attributes\":{\"callback\":null,\"tooltips\":\"\\n        <div style=padding=5px>Year:@x</div>\\n        <div style=padding=5px>Value:@y</div>\\n        \"},\"id\":\"4357\",\"type\":\"HoverTool\"},{\"attributes\":{},\"id\":\"4562\",\"type\":\"Selection\"},{\"attributes\":{\"callback\":null,\"data\":{\"x\":[\"2000\",\"2001\",\"2002\",\"2003\",\"2004\",\"2005\",\"2006\",\"2007\",\"2008\",\"2009\",\"2010\",\"2011\",\"2012\",\"2013\",\"2014\",\"2015\",\"2016\",\"2017\"],\"y\":[57.034527408572266,57.53748489045903,58.07142351800209,58.640581905118836,59.242660221595216,59.87429659950075,60.53079079914172,61.19774721212408,61.87418453620832,62.54301761236867,63.19237481578384,63.81307389468363,64.39532395583093,64.94434252296352,65.45150499669222,65.91438566172573,66.33128171561334,66.70959739482211]},\"selected\":{\"id\":\"4323\",\"type\":\"Selection\"},\"selection_policy\":{\"id\":\"4322\",\"type\":\"UnionRenderers\"}},\"id\":\"4293\",\"type\":\"ColumnDataSource\"},{\"attributes\":{},\"id\":\"4302\",\"type\":\"BasicTickFormatter\"},{\"attributes\":{\"label\":{\"value\":\"Developing excluding LDCs\"},\"renderers\":[{\"id\":\"4314\",\"type\":\"GlyphRenderer\"}]},\"id\":\"4326\",\"type\":\"LegendItem\"},{\"attributes\":{\"data_source\":{\"id\":\"4306\",\"type\":\"ColumnDataSource\"},\"glyph\":{\"id\":\"4307\",\"type\":\"Circle\"},\"hover_glyph\":null,\"muted_glyph\":null,\"nonselection_glyph\":{\"id\":\"4308\",\"type\":\"Circle\"},\"selection_glyph\":null,\"view\":{\"id\":\"4310\",\"type\":\"CDSView\"}},\"id\":\"4309\",\"type\":\"GlyphRenderer\"},{\"attributes\":{},\"id\":\"4347\",\"type\":\"UnionRenderers\"},{\"attributes\":{\"text\":\"Life expectancy at birth, female (years) weighted against Rural population\"},\"id\":\"4260\",\"type\":\"Title\"},{\"attributes\":{\"fill_alpha\":{\"value\":0.1},\"fill_color\":{\"value\":\"#1f77b4\"},\"line_alpha\":{\"value\":0.1},\"line_color\":{\"value\":\"#1f77b4\"},\"line_width\":{\"value\":3},\"x\":{\"field\":\"x\"},\"y\":{\"field\":\"y\"}},\"id\":\"4308\",\"type\":\"Circle\"},{\"attributes\":{\"active_drag\":\"auto\",\"active_inspect\":\"auto\",\"active_multi\":null,\"active_scroll\":\"auto\",\"active_tap\":\"auto\",\"tools\":[{\"id\":\"4280\",\"type\":\"PanTool\"},{\"id\":\"4281\",\"type\":\"WheelZoomTool\"},{\"id\":\"4282\",\"type\":\"BoxZoomTool\"},{\"id\":\"4283\",\"type\":\"SaveTool\"},{\"id\":\"4284\",\"type\":\"ResetTool\"},{\"id\":\"4285\",\"type\":\"HelpTool\"},{\"id\":\"4357\",\"type\":\"HoverTool\"}]},\"id\":\"4286\",\"type\":\"Toolbar\"},{\"attributes\":{\"source\":{\"id\":\"4327\",\"type\":\"ColumnDataSource\"}},\"id\":\"4331\",\"type\":\"CDSView\"},{\"attributes\":{\"fill_alpha\":{\"value\":0.1},\"fill_color\":{\"value\":\"#1f77b4\"},\"line_alpha\":{\"value\":0.1},\"line_color\":{\"value\":\"#1f77b4\"},\"line_width\":{\"value\":3},\"x\":{\"field\":\"x\"},\"y\":{\"field\":\"y\"}},\"id\":\"4329\",\"type\":\"Circle\"},{\"attributes\":{\"line_alpha\":0.1,\"line_color\":\"#1f77b4\",\"line_width\":2,\"x\":{\"field\":\"x\"},\"y\":{\"field\":\"y\"}},\"id\":\"4334\",\"type\":\"Line\"},{\"attributes\":{\"callback\":null,\"data\":{\"x\":[\"2000\",\"2001\",\"2002\",\"2003\",\"2004\",\"2005\",\"2006\",\"2007\",\"2008\",\"2009\",\"2010\",\"2011\",\"2012\",\"2013\",\"2014\",\"2015\",\"2016\",\"2017\"],\"y\":[57.034527408572266,57.53748489045903,58.07142351800209,58.640581905118836,59.242660221595216,59.87429659950075,60.53079079914172,61.19774721212408,61.87418453620832,62.54301761236867,63.19237481578384,63.81307389468363,64.39532395583093,64.94434252296352,65.45150499669222,65.91438566172573,66.33128171561334,66.70959739482211]},\"selected\":{\"id\":\"4325\",\"type\":\"Selection\"},\"selection_policy\":{\"id\":\"4324\",\"type\":\"UnionRenderers\"}},\"id\":\"4306\",\"type\":\"ColumnDataSource\"},{\"attributes\":{\"label\":{\"value\":\"LDCs\"},\"renderers\":[{\"id\":\"4296\",\"type\":\"GlyphRenderer\"}]},\"id\":\"4305\",\"type\":\"LegendItem\"},{\"attributes\":{},\"id\":\"4276\",\"type\":\"BasicTicker\"},{\"attributes\":{\"source\":{\"id\":\"4306\",\"type\":\"ColumnDataSource\"}},\"id\":\"4310\",\"type\":\"CDSView\"},{\"attributes\":{\"line_color\":\"green\",\"line_width\":2,\"x\":{\"field\":\"x\"},\"y\":{\"field\":\"y\"}},\"id\":\"4333\",\"type\":\"Line\"},{\"attributes\":{},\"id\":\"4266\",\"type\":\"LinearScale\"},{\"attributes\":{\"callback\":null,\"data\":{\"x\":[\"2000\",\"2001\",\"2002\",\"2003\",\"2004\",\"2005\",\"2006\",\"2007\",\"2008\",\"2009\",\"2010\",\"2011\",\"2012\",\"2013\",\"2014\",\"2015\",\"2016\",\"2017\"],\"y\":[79.93351879418076,80.20290658761989,80.32918832949842,80.39856940465691,80.77521328865518,80.86674990168122,81.1402038786844,81.32381241465296,81.43163205746191,81.62948962454634,81.79594928587568,82.07333933782573,82.11929566013815,82.26555024337196,82.51912432141074,82.35601028400251,82.55037747513924,82.59790657999017]},\"selected\":{\"id\":\"4560\",\"type\":\"Selection\"},\"selection_policy\":{\"id\":\"4559\",\"type\":\"UnionRenderers\"}},\"id\":\"4332\",\"type\":\"ColumnDataSource\"},{\"attributes\":{\"axis_label\":\"Years\",\"formatter\":{\"id\":\"4302\",\"type\":\"BasicTickFormatter\"},\"ticker\":{\"id\":\"4271\",\"type\":\"BasicTicker\"}},\"id\":\"4270\",\"type\":\"LinearAxis\"},{\"attributes\":{},\"id\":\"4348\",\"type\":\"Selection\"},{\"attributes\":{},\"id\":\"4325\",\"type\":\"Selection\"},{\"attributes\":{\"source\":{\"id\":\"4293\",\"type\":\"ColumnDataSource\"}},\"id\":\"4297\",\"type\":\"CDSView\"},{\"attributes\":{\"fill_color\":{\"value\":\"red\"},\"line_color\":{\"value\":\"red\"},\"line_width\":{\"value\":3},\"x\":{\"field\":\"x\"},\"y\":{\"field\":\"y\"}},\"id\":\"4307\",\"type\":\"Circle\"},{\"attributes\":{\"items\":[{\"id\":\"4305\",\"type\":\"LegendItem\"},{\"id\":\"4326\",\"type\":\"LegendItem\"},{\"id\":\"4351\",\"type\":\"LegendItem\"}],\"location\":\"bottom_left\"},\"id\":\"4304\",\"type\":\"Legend\"}],\"root_ids\":[\"4259\"]},\"title\":\"Bokeh Application\",\"version\":\"1.3.4\"}};\n",
       "  var render_items = [{\"docid\":\"7b8bc03d-c690-4de7-b713-c2e012f3cc6f\",\"roots\":{\"4259\":\"84a24654-f711-4168-a1f3-cecb04784dca\"}}];\n",
       "  root.Bokeh.embed.embed_items_notebook(docs_json, render_items);\n",
       "\n",
       "  }\n",
       "  if (root.Bokeh !== undefined) {\n",
       "    embed_document(root);\n",
       "  } else {\n",
       "    var attempts = 0;\n",
       "    var timer = setInterval(function(root) {\n",
       "      if (root.Bokeh !== undefined) {\n",
       "        embed_document(root);\n",
       "        clearInterval(timer);\n",
       "      }\n",
       "      attempts++;\n",
       "      if (attempts > 100) {\n",
       "        console.log(\"Bokeh: ERROR: Unable to run BokehJS code because BokehJS library is missing\");\n",
       "        clearInterval(timer);\n",
       "      }\n",
       "    }, 10, root)\n",
       "  }\n",
       "})(window);"
      ],
      "application/vnd.bokehjs_exec.v0+json": ""
     },
     "metadata": {
      "application/vnd.bokehjs_exec.v0+json": {
       "id": "4259"
      }
     },
     "output_type": "display_data"
    }
   ],
   "source": [
    "# Female life expectancy\n",
    "years = list(map(str, list(range(2000,2018))))\n",
    "result = show_weighted_average(years, 'SP.DYN.LE00.FE.IN', 'SP.RUR.TOTL', \n",
    "                               ['LDCs', 'Developing excluding LDCs', 'OECD'])"
   ]
  },
  {
   "cell_type": "code",
   "execution_count": 14,
   "metadata": {},
   "outputs": [
    {
     "data": {
      "text/html": [
       "\n",
       "\n",
       "\n",
       "\n",
       "\n",
       "\n",
       "  <div class=\"bk-root\" id=\"bcce33cb-fe19-4b06-92c3-1847217bcd57\" data-root-id=\"4671\"></div>\n"
      ]
     },
     "metadata": {},
     "output_type": "display_data"
    },
    {
     "data": {
      "application/javascript": [
       "(function(root) {\n",
       "  function embed_document(root) {\n",
       "    \n",
       "  var docs_json = {\"960ce138-9aa9-448b-94bd-e42503b5a7fc\":{\"roots\":{\"references\":[{\"attributes\":{\"below\":[{\"id\":\"4682\",\"type\":\"LinearAxis\"}],\"center\":[{\"id\":\"4686\",\"type\":\"Grid\"},{\"id\":\"4691\",\"type\":\"Grid\"},{\"id\":\"4716\",\"type\":\"Legend\"}],\"left\":[{\"id\":\"4687\",\"type\":\"LinearAxis\"}],\"plot_height\":400,\"plot_width\":950,\"renderers\":[{\"id\":\"4708\",\"type\":\"GlyphRenderer\"},{\"id\":\"4721\",\"type\":\"GlyphRenderer\"},{\"id\":\"4726\",\"type\":\"GlyphRenderer\"},{\"id\":\"4742\",\"type\":\"GlyphRenderer\"}],\"title\":{\"id\":\"4672\",\"type\":\"Title\"},\"toolbar\":{\"id\":\"4698\",\"type\":\"Toolbar\"},\"x_range\":{\"id\":\"4674\",\"type\":\"DataRange1d\"},\"x_scale\":{\"id\":\"4678\",\"type\":\"LinearScale\"},\"y_range\":{\"id\":\"4676\",\"type\":\"DataRange1d\"},\"y_scale\":{\"id\":\"4680\",\"type\":\"LinearScale\"}},\"id\":\"4671\",\"subtype\":\"Figure\",\"type\":\"Plot\"},{\"attributes\":{\"callback\":null},\"id\":\"4674\",\"type\":\"DataRange1d\"},{\"attributes\":{\"data_source\":{\"id\":\"4723\",\"type\":\"ColumnDataSource\"},\"glyph\":{\"id\":\"4724\",\"type\":\"Line\"},\"hover_glyph\":null,\"muted_glyph\":null,\"nonselection_glyph\":{\"id\":\"4725\",\"type\":\"Line\"},\"selection_glyph\":null,\"view\":{\"id\":\"4727\",\"type\":\"CDSView\"}},\"id\":\"4726\",\"type\":\"GlyphRenderer\"},{\"attributes\":{},\"id\":\"4697\",\"type\":\"HelpTool\"},{\"attributes\":{\"callback\":null},\"id\":\"4676\",\"type\":\"DataRange1d\"},{\"attributes\":{\"source\":{\"id\":\"4723\",\"type\":\"ColumnDataSource\"}},\"id\":\"4727\",\"type\":\"CDSView\"},{\"attributes\":{\"active_drag\":\"auto\",\"active_inspect\":\"auto\",\"active_multi\":null,\"active_scroll\":\"auto\",\"active_tap\":\"auto\",\"tools\":[{\"id\":\"4692\",\"type\":\"PanTool\"},{\"id\":\"4693\",\"type\":\"WheelZoomTool\"},{\"id\":\"4694\",\"type\":\"BoxZoomTool\"},{\"id\":\"4695\",\"type\":\"SaveTool\"},{\"id\":\"4696\",\"type\":\"ResetTool\"},{\"id\":\"4697\",\"type\":\"HelpTool\"},{\"id\":\"4744\",\"type\":\"HoverTool\"}]},\"id\":\"4698\",\"type\":\"Toolbar\"},{\"attributes\":{},\"id\":\"4678\",\"type\":\"LinearScale\"},{\"attributes\":{},\"id\":\"4734\",\"type\":\"UnionRenderers\"},{\"attributes\":{},\"id\":\"4680\",\"type\":\"LinearScale\"},{\"attributes\":{},\"id\":\"4735\",\"type\":\"Selection\"},{\"attributes\":{\"data_source\":{\"id\":\"4705\",\"type\":\"ColumnDataSource\"},\"glyph\":{\"id\":\"4706\",\"type\":\"Line\"},\"hover_glyph\":null,\"muted_glyph\":null,\"nonselection_glyph\":{\"id\":\"4707\",\"type\":\"Line\"},\"selection_glyph\":null,\"view\":{\"id\":\"4709\",\"type\":\"CDSView\"}},\"id\":\"4708\",\"type\":\"GlyphRenderer\"},{\"attributes\":{\"source\":{\"id\":\"4705\",\"type\":\"ColumnDataSource\"}},\"id\":\"4709\",\"type\":\"CDSView\"},{\"attributes\":{\"axis_label\":\"Years\",\"formatter\":{\"id\":\"4714\",\"type\":\"BasicTickFormatter\"},\"ticker\":{\"id\":\"4683\",\"type\":\"BasicTicker\"}},\"id\":\"4682\",\"type\":\"LinearAxis\"},{\"attributes\":{},\"id\":\"4736\",\"type\":\"UnionRenderers\"},{\"attributes\":{},\"id\":\"4712\",\"type\":\"BasicTickFormatter\"},{\"attributes\":{},\"id\":\"4683\",\"type\":\"BasicTicker\"},{\"attributes\":{},\"id\":\"4737\",\"type\":\"Selection\"},{\"attributes\":{\"ticker\":{\"id\":\"4683\",\"type\":\"BasicTicker\"}},\"id\":\"4686\",\"type\":\"Grid\"},{\"attributes\":{\"label\":{\"value\":\"Developing excluding LDCs\"},\"renderers\":[{\"id\":\"4726\",\"type\":\"GlyphRenderer\"}]},\"id\":\"4738\",\"type\":\"LegendItem\"},{\"attributes\":{},\"id\":\"4714\",\"type\":\"BasicTickFormatter\"},{\"attributes\":{\"callback\":null,\"data\":{\"x\":[\"2000\",\"2001\",\"2002\",\"2003\",\"2004\",\"2005\",\"2006\",\"2007\",\"2008\",\"2009\",\"2010\",\"2011\",\"2012\",\"2013\",\"2014\",\"2015\",\"2016\",\"2017\"],\"y\":[65.33052780357724,64.90584506088574,64.18936699106743,63.73445964952182,63.152358860863174,62.30143939928258,61.538376583341744,60.91730989564122,60.2837124463239,59.71729357938916,59.04153779959497,57.91153517857363,56.58414101141624,55.950562536773546,55.358412885604125,54.9320293233056,54.553900414655715,54.20588235767385]},\"selected\":{\"id\":\"4963\",\"type\":\"Selection\"},\"selection_policy\":{\"id\":\"4962\",\"type\":\"UnionRenderers\"}},\"id\":\"4739\",\"type\":\"ColumnDataSource\"},{\"attributes\":{\"bottom_units\":\"screen\",\"fill_alpha\":{\"value\":0.5},\"fill_color\":{\"value\":\"lightgrey\"},\"left_units\":\"screen\",\"level\":\"overlay\",\"line_alpha\":{\"value\":1.0},\"line_color\":{\"value\":\"black\"},\"line_dash\":[4,4],\"line_width\":{\"value\":2},\"render_mode\":\"css\",\"right_units\":\"screen\",\"top_units\":\"screen\"},\"id\":\"4715\",\"type\":\"BoxAnnotation\"},{\"attributes\":{\"axis_label\":\"Percentage\",\"formatter\":{\"id\":\"4712\",\"type\":\"BasicTickFormatter\"},\"ticker\":{\"id\":\"4688\",\"type\":\"BasicTicker\"}},\"id\":\"4687\",\"type\":\"LinearAxis\"},{\"attributes\":{\"fill_color\":{\"value\":\"blue\"},\"line_color\":{\"value\":\"blue\"},\"line_width\":{\"value\":3},\"x\":{\"field\":\"x\"},\"y\":{\"field\":\"y\"}},\"id\":\"4740\",\"type\":\"Circle\"},{\"attributes\":{\"items\":[{\"id\":\"4717\",\"type\":\"LegendItem\"},{\"id\":\"4738\",\"type\":\"LegendItem\"}],\"location\":\"bottom_left\"},\"id\":\"4716\",\"type\":\"Legend\"},{\"attributes\":{},\"id\":\"4688\",\"type\":\"BasicTicker\"},{\"attributes\":{\"line_alpha\":0.1,\"line_color\":\"#1f77b4\",\"line_width\":2,\"x\":{\"field\":\"x\"},\"y\":{\"field\":\"y\"}},\"id\":\"4707\",\"type\":\"Line\"},{\"attributes\":{\"fill_alpha\":{\"value\":0.1},\"fill_color\":{\"value\":\"#1f77b4\"},\"line_alpha\":{\"value\":0.1},\"line_color\":{\"value\":\"#1f77b4\"},\"line_width\":{\"value\":3},\"x\":{\"field\":\"x\"},\"y\":{\"field\":\"y\"}},\"id\":\"4741\",\"type\":\"Circle\"},{\"attributes\":{\"label\":{\"value\":\"LDCs\"},\"renderers\":[{\"id\":\"4708\",\"type\":\"GlyphRenderer\"}]},\"id\":\"4717\",\"type\":\"LegendItem\"},{\"attributes\":{\"dimension\":1,\"ticker\":{\"id\":\"4688\",\"type\":\"BasicTicker\"}},\"id\":\"4691\",\"type\":\"Grid\"},{\"attributes\":{\"data_source\":{\"id\":\"4739\",\"type\":\"ColumnDataSource\"},\"glyph\":{\"id\":\"4740\",\"type\":\"Circle\"},\"hover_glyph\":null,\"muted_glyph\":null,\"nonselection_glyph\":{\"id\":\"4741\",\"type\":\"Circle\"},\"selection_glyph\":null,\"view\":{\"id\":\"4743\",\"type\":\"CDSView\"}},\"id\":\"4742\",\"type\":\"GlyphRenderer\"},{\"attributes\":{\"callback\":null,\"data\":{\"x\":[\"2000\",\"2001\",\"2002\",\"2003\",\"2004\",\"2005\",\"2006\",\"2007\",\"2008\",\"2009\",\"2010\",\"2011\",\"2012\",\"2013\",\"2014\",\"2015\",\"2016\",\"2017\"],\"y\":[85.71439577036236,85.57464637853948,85.42987052449938,85.2595119163731,85.1157816927459,84.95917228819752,84.67367316779398,84.76333397019621,84.82905666578436,84.92486075515858,84.88687200109682,84.34903984029447,83.77222403234691,83.30820688707247,82.72786323433235,82.26461439968713,81.78532591691658,81.20720784411499]},\"selected\":{\"id\":\"4737\",\"type\":\"Selection\"},\"selection_policy\":{\"id\":\"4736\",\"type\":\"UnionRenderers\"}},\"id\":\"4718\",\"type\":\"ColumnDataSource\"},{\"attributes\":{\"line_color\":\"red\",\"line_width\":2,\"x\":{\"field\":\"x\"},\"y\":{\"field\":\"y\"}},\"id\":\"4706\",\"type\":\"Line\"},{\"attributes\":{\"source\":{\"id\":\"4739\",\"type\":\"ColumnDataSource\"}},\"id\":\"4743\",\"type\":\"CDSView\"},{\"attributes\":{\"fill_color\":{\"value\":\"red\"},\"line_color\":{\"value\":\"red\"},\"line_width\":{\"value\":3},\"x\":{\"field\":\"x\"},\"y\":{\"field\":\"y\"}},\"id\":\"4719\",\"type\":\"Circle\"},{\"attributes\":{\"callback\":null,\"data\":{\"x\":[\"2000\",\"2001\",\"2002\",\"2003\",\"2004\",\"2005\",\"2006\",\"2007\",\"2008\",\"2009\",\"2010\",\"2011\",\"2012\",\"2013\",\"2014\",\"2015\",\"2016\",\"2017\"],\"y\":[85.71439577036236,85.57464637853948,85.42987052449938,85.2595119163731,85.1157816927459,84.95917228819752,84.67367316779398,84.76333397019621,84.82905666578436,84.92486075515858,84.88687200109682,84.34903984029447,83.77222403234691,83.30820688707247,82.72786323433235,82.26461439968713,81.78532591691658,81.20720784411499]},\"selected\":{\"id\":\"4735\",\"type\":\"Selection\"},\"selection_policy\":{\"id\":\"4734\",\"type\":\"UnionRenderers\"}},\"id\":\"4705\",\"type\":\"ColumnDataSource\"},{\"attributes\":{\"callback\":null,\"tooltips\":\"\\n        <div style=padding=5px>Year:@x</div>\\n        <div style=padding=5px>Value:@y</div>\\n        \"},\"id\":\"4744\",\"type\":\"HoverTool\"},{\"attributes\":{\"fill_alpha\":{\"value\":0.1},\"fill_color\":{\"value\":\"#1f77b4\"},\"line_alpha\":{\"value\":0.1},\"line_color\":{\"value\":\"#1f77b4\"},\"line_width\":{\"value\":3},\"x\":{\"field\":\"x\"},\"y\":{\"field\":\"y\"}},\"id\":\"4720\",\"type\":\"Circle\"},{\"attributes\":{},\"id\":\"4692\",\"type\":\"PanTool\"},{\"attributes\":{},\"id\":\"4960\",\"type\":\"UnionRenderers\"},{\"attributes\":{\"data_source\":{\"id\":\"4718\",\"type\":\"ColumnDataSource\"},\"glyph\":{\"id\":\"4719\",\"type\":\"Circle\"},\"hover_glyph\":null,\"muted_glyph\":null,\"nonselection_glyph\":{\"id\":\"4720\",\"type\":\"Circle\"},\"selection_glyph\":null,\"view\":{\"id\":\"4722\",\"type\":\"CDSView\"}},\"id\":\"4721\",\"type\":\"GlyphRenderer\"},{\"attributes\":{},\"id\":\"4693\",\"type\":\"WheelZoomTool\"},{\"attributes\":{},\"id\":\"4961\",\"type\":\"Selection\"},{\"attributes\":{\"source\":{\"id\":\"4718\",\"type\":\"ColumnDataSource\"}},\"id\":\"4722\",\"type\":\"CDSView\"},{\"attributes\":{\"overlay\":{\"id\":\"4715\",\"type\":\"BoxAnnotation\"}},\"id\":\"4694\",\"type\":\"BoxZoomTool\"},{\"attributes\":{},\"id\":\"4962\",\"type\":\"UnionRenderers\"},{\"attributes\":{\"callback\":null,\"data\":{\"x\":[\"2000\",\"2001\",\"2002\",\"2003\",\"2004\",\"2005\",\"2006\",\"2007\",\"2008\",\"2009\",\"2010\",\"2011\",\"2012\",\"2013\",\"2014\",\"2015\",\"2016\",\"2017\"],\"y\":[65.33052780357724,64.90584506088574,64.18936699106743,63.73445964952182,63.152358860863174,62.30143939928258,61.538376583341744,60.91730989564122,60.2837124463239,59.71729357938916,59.04153779959497,57.91153517857363,56.58414101141624,55.950562536773546,55.358412885604125,54.9320293233056,54.553900414655715,54.20588235767385]},\"selected\":{\"id\":\"4961\",\"type\":\"Selection\"},\"selection_policy\":{\"id\":\"4960\",\"type\":\"UnionRenderers\"}},\"id\":\"4723\",\"type\":\"ColumnDataSource\"},{\"attributes\":{},\"id\":\"4695\",\"type\":\"SaveTool\"},{\"attributes\":{\"line_alpha\":0.1,\"line_color\":\"#1f77b4\",\"line_width\":2,\"x\":{\"field\":\"x\"},\"y\":{\"field\":\"y\"}},\"id\":\"4725\",\"type\":\"Line\"},{\"attributes\":{\"line_color\":\"blue\",\"line_width\":2,\"x\":{\"field\":\"x\"},\"y\":{\"field\":\"y\"}},\"id\":\"4724\",\"type\":\"Line\"},{\"attributes\":{},\"id\":\"4963\",\"type\":\"Selection\"},{\"attributes\":{},\"id\":\"4696\",\"type\":\"ResetTool\"},{\"attributes\":{\"text\":\"Vulnerable employment, female (% of female employment) (modeled ILO estimate) weighted against Labor force, total\"},\"id\":\"4672\",\"type\":\"Title\"}],\"root_ids\":[\"4671\"]},\"title\":\"Bokeh Application\",\"version\":\"1.3.4\"}};\n",
       "  var render_items = [{\"docid\":\"960ce138-9aa9-448b-94bd-e42503b5a7fc\",\"roots\":{\"4671\":\"bcce33cb-fe19-4b06-92c3-1847217bcd57\"}}];\n",
       "  root.Bokeh.embed.embed_items_notebook(docs_json, render_items);\n",
       "\n",
       "  }\n",
       "  if (root.Bokeh !== undefined) {\n",
       "    embed_document(root);\n",
       "  } else {\n",
       "    var attempts = 0;\n",
       "    var timer = setInterval(function(root) {\n",
       "      if (root.Bokeh !== undefined) {\n",
       "        embed_document(root);\n",
       "        clearInterval(timer);\n",
       "      }\n",
       "      attempts++;\n",
       "      if (attempts > 100) {\n",
       "        console.log(\"Bokeh: ERROR: Unable to run BokehJS code because BokehJS library is missing\");\n",
       "        clearInterval(timer);\n",
       "      }\n",
       "    }, 10, root)\n",
       "  }\n",
       "})(window);"
      ],
      "application/vnd.bokehjs_exec.v0+json": ""
     },
     "metadata": {
      "application/vnd.bokehjs_exec.v0+json": {
       "id": "4671"
      }
     },
     "output_type": "display_data"
    }
   ],
   "source": [
    "# Labor force\n",
    "years = list(map(str, list(range(2000,2018))))\n",
    "result = show_weighted_average(years, 'SL.EMP.VULN.FE.ZS', 'SL.TLF.TOTL.IN', ['LDCs', 'Developing excluding LDCs'])"
   ]
  },
  {
   "cell_type": "code",
   "execution_count": 15,
   "metadata": {},
   "outputs": [
    {
     "data": {
      "text/html": [
       "\n",
       "\n",
       "\n",
       "\n",
       "\n",
       "\n",
       "  <div class=\"bk-root\" id=\"4b9ef0c0-b685-455d-8d1e-306a47c4f204\" data-root-id=\"5048\"></div>\n"
      ]
     },
     "metadata": {},
     "output_type": "display_data"
    },
    {
     "data": {
      "application/javascript": [
       "(function(root) {\n",
       "  function embed_document(root) {\n",
       "    \n",
       "  var docs_json = {\"b1e37521-1542-49ee-aba8-0abd6741f2c7\":{\"roots\":{\"references\":[{\"attributes\":{\"below\":[{\"id\":\"5059\",\"type\":\"LinearAxis\"}],\"center\":[{\"id\":\"5063\",\"type\":\"Grid\"},{\"id\":\"5068\",\"type\":\"Grid\"},{\"id\":\"5093\",\"type\":\"Legend\"}],\"left\":[{\"id\":\"5064\",\"type\":\"LinearAxis\"}],\"plot_height\":400,\"plot_width\":950,\"renderers\":[{\"id\":\"5085\",\"type\":\"GlyphRenderer\"},{\"id\":\"5098\",\"type\":\"GlyphRenderer\"},{\"id\":\"5103\",\"type\":\"GlyphRenderer\"},{\"id\":\"5119\",\"type\":\"GlyphRenderer\"}],\"title\":{\"id\":\"5049\",\"type\":\"Title\"},\"toolbar\":{\"id\":\"5075\",\"type\":\"Toolbar\"},\"x_range\":{\"id\":\"5051\",\"type\":\"DataRange1d\"},\"x_scale\":{\"id\":\"5055\",\"type\":\"LinearScale\"},\"y_range\":{\"id\":\"5053\",\"type\":\"DataRange1d\"},\"y_scale\":{\"id\":\"5057\",\"type\":\"LinearScale\"}},\"id\":\"5048\",\"subtype\":\"Figure\",\"type\":\"Plot\"},{\"attributes\":{},\"id\":\"5055\",\"type\":\"LinearScale\"},{\"attributes\":{},\"id\":\"5111\",\"type\":\"UnionRenderers\"},{\"attributes\":{},\"id\":\"5057\",\"type\":\"LinearScale\"},{\"attributes\":{},\"id\":\"5112\",\"type\":\"Selection\"},{\"attributes\":{\"data_source\":{\"id\":\"5082\",\"type\":\"ColumnDataSource\"},\"glyph\":{\"id\":\"5083\",\"type\":\"Line\"},\"hover_glyph\":null,\"muted_glyph\":null,\"nonselection_glyph\":{\"id\":\"5084\",\"type\":\"Line\"},\"selection_glyph\":null,\"view\":{\"id\":\"5086\",\"type\":\"CDSView\"}},\"id\":\"5085\",\"type\":\"GlyphRenderer\"},{\"attributes\":{\"source\":{\"id\":\"5082\",\"type\":\"ColumnDataSource\"}},\"id\":\"5086\",\"type\":\"CDSView\"},{\"attributes\":{\"axis_label\":\"Years\",\"formatter\":{\"id\":\"5091\",\"type\":\"BasicTickFormatter\"},\"ticker\":{\"id\":\"5060\",\"type\":\"BasicTicker\"}},\"id\":\"5059\",\"type\":\"LinearAxis\"},{\"attributes\":{},\"id\":\"5113\",\"type\":\"UnionRenderers\"},{\"attributes\":{},\"id\":\"5089\",\"type\":\"BasicTickFormatter\"},{\"attributes\":{},\"id\":\"5060\",\"type\":\"BasicTicker\"},{\"attributes\":{},\"id\":\"5114\",\"type\":\"Selection\"},{\"attributes\":{\"ticker\":{\"id\":\"5060\",\"type\":\"BasicTicker\"}},\"id\":\"5063\",\"type\":\"Grid\"},{\"attributes\":{\"label\":{\"value\":\"Developing excluding LDCs\"},\"renderers\":[{\"id\":\"5103\",\"type\":\"GlyphRenderer\"}]},\"id\":\"5115\",\"type\":\"LegendItem\"},{\"attributes\":{},\"id\":\"5091\",\"type\":\"BasicTickFormatter\"},{\"attributes\":{\"callback\":null,\"data\":{\"x\":[\"2000\",\"2001\",\"2002\",\"2003\",\"2004\",\"2005\",\"2006\",\"2007\",\"2008\",\"2009\",\"2010\",\"2011\",\"2012\",\"2013\",\"2014\",\"2015\",\"2016\",\"2017\"],\"y\":[45.758602232258916,44.006185482373866,42.27625112523983,40.52709249788235,38.9627181695033,37.23908287256094,35.71694700311238,34.24378821297313,32.82356542916968,31.505214349340378,30.23549863774606,29.02988830437219,27.850705825641178,26.781110096608014,25.712388491284276,24.682632180401672,23.77423357312919,22.83697035928226]},\"selected\":{\"id\":\"5354\",\"type\":\"Selection\"},\"selection_policy\":{\"id\":\"5353\",\"type\":\"UnionRenderers\"}},\"id\":\"5116\",\"type\":\"ColumnDataSource\"},{\"attributes\":{\"bottom_units\":\"screen\",\"fill_alpha\":{\"value\":0.5},\"fill_color\":{\"value\":\"lightgrey\"},\"left_units\":\"screen\",\"level\":\"overlay\",\"line_alpha\":{\"value\":1.0},\"line_color\":{\"value\":\"black\"},\"line_dash\":[4,4],\"line_width\":{\"value\":2},\"render_mode\":\"css\",\"right_units\":\"screen\",\"top_units\":\"screen\"},\"id\":\"5092\",\"type\":\"BoxAnnotation\"},{\"attributes\":{\"axis_label\":\"Percentage\",\"formatter\":{\"id\":\"5089\",\"type\":\"BasicTickFormatter\"},\"ticker\":{\"id\":\"5065\",\"type\":\"BasicTicker\"}},\"id\":\"5064\",\"type\":\"LinearAxis\"},{\"attributes\":{\"fill_color\":{\"value\":\"blue\"},\"line_color\":{\"value\":\"blue\"},\"line_width\":{\"value\":3},\"x\":{\"field\":\"x\"},\"y\":{\"field\":\"y\"}},\"id\":\"5117\",\"type\":\"Circle\"},{\"attributes\":{\"items\":[{\"id\":\"5094\",\"type\":\"LegendItem\"},{\"id\":\"5115\",\"type\":\"LegendItem\"}],\"location\":\"bottom_left\"},\"id\":\"5093\",\"type\":\"Legend\"},{\"attributes\":{},\"id\":\"5065\",\"type\":\"BasicTicker\"},{\"attributes\":{\"fill_alpha\":{\"value\":0.1},\"fill_color\":{\"value\":\"#1f77b4\"},\"line_alpha\":{\"value\":0.1},\"line_color\":{\"value\":\"#1f77b4\"},\"line_width\":{\"value\":3},\"x\":{\"field\":\"x\"},\"y\":{\"field\":\"y\"}},\"id\":\"5118\",\"type\":\"Circle\"},{\"attributes\":{\"label\":{\"value\":\"LDCs\"},\"renderers\":[{\"id\":\"5085\",\"type\":\"GlyphRenderer\"}]},\"id\":\"5094\",\"type\":\"LegendItem\"},{\"attributes\":{\"dimension\":1,\"ticker\":{\"id\":\"5065\",\"type\":\"BasicTicker\"}},\"id\":\"5068\",\"type\":\"Grid\"},{\"attributes\":{\"data_source\":{\"id\":\"5116\",\"type\":\"ColumnDataSource\"},\"glyph\":{\"id\":\"5117\",\"type\":\"Circle\"},\"hover_glyph\":null,\"muted_glyph\":null,\"nonselection_glyph\":{\"id\":\"5118\",\"type\":\"Circle\"},\"selection_glyph\":null,\"view\":{\"id\":\"5120\",\"type\":\"CDSView\"}},\"id\":\"5119\",\"type\":\"GlyphRenderer\"},{\"attributes\":{\"callback\":null,\"data\":{\"x\":[\"2000\",\"2001\",\"2002\",\"2003\",\"2004\",\"2005\",\"2006\",\"2007\",\"2008\",\"2009\",\"2010\",\"2011\",\"2012\",\"2013\",\"2014\",\"2015\",\"2016\",\"2017\"],\"y\":[82.70759690380814,79.73629371086803,76.70131956567673,73.71454770622205,70.80686638940736,68.02122954765979,65.41417889354649,62.8514871260428,60.69956279939264,58.17600443643168,56.34077865781633,53.92638955415337,52.0577982516888,50.28482276049278,48.62932090980866,47.09117150486615,45.62733787270465,44.21599634272751]},\"selected\":{\"id\":\"5114\",\"type\":\"Selection\"},\"selection_policy\":{\"id\":\"5113\",\"type\":\"UnionRenderers\"}},\"id\":\"5095\",\"type\":\"ColumnDataSource\"},{\"attributes\":{\"line_color\":\"red\",\"line_width\":2,\"x\":{\"field\":\"x\"},\"y\":{\"field\":\"y\"}},\"id\":\"5083\",\"type\":\"Line\"},{\"attributes\":{\"source\":{\"id\":\"5116\",\"type\":\"ColumnDataSource\"}},\"id\":\"5120\",\"type\":\"CDSView\"},{\"attributes\":{\"fill_color\":{\"value\":\"red\"},\"line_color\":{\"value\":\"red\"},\"line_width\":{\"value\":3},\"x\":{\"field\":\"x\"},\"y\":{\"field\":\"y\"}},\"id\":\"5096\",\"type\":\"Circle\"},{\"attributes\":{\"callback\":null,\"data\":{\"x\":[\"2000\",\"2001\",\"2002\",\"2003\",\"2004\",\"2005\",\"2006\",\"2007\",\"2008\",\"2009\",\"2010\",\"2011\",\"2012\",\"2013\",\"2014\",\"2015\",\"2016\",\"2017\"],\"y\":[82.70759690380814,79.73629371086803,76.70131956567673,73.71454770622205,70.80686638940736,68.02122954765979,65.41417889354649,62.8514871260428,60.69956279939264,58.17600443643168,56.34077865781633,53.92638955415337,52.0577982516888,50.28482276049278,48.62932090980866,47.09117150486615,45.62733787270465,44.21599634272751]},\"selected\":{\"id\":\"5112\",\"type\":\"Selection\"},\"selection_policy\":{\"id\":\"5111\",\"type\":\"UnionRenderers\"}},\"id\":\"5082\",\"type\":\"ColumnDataSource\"},{\"attributes\":{\"callback\":null,\"tooltips\":\"\\n        <div style=padding=5px>Year:@x</div>\\n        <div style=padding=5px>Value:@y</div>\\n        \"},\"id\":\"5121\",\"type\":\"HoverTool\"},{\"attributes\":{\"fill_alpha\":{\"value\":0.1},\"fill_color\":{\"value\":\"#1f77b4\"},\"line_alpha\":{\"value\":0.1},\"line_color\":{\"value\":\"#1f77b4\"},\"line_width\":{\"value\":3},\"x\":{\"field\":\"x\"},\"y\":{\"field\":\"y\"}},\"id\":\"5097\",\"type\":\"Circle\"},{\"attributes\":{\"line_alpha\":0.1,\"line_color\":\"#1f77b4\",\"line_width\":2,\"x\":{\"field\":\"x\"},\"y\":{\"field\":\"y\"}},\"id\":\"5084\",\"type\":\"Line\"},{\"attributes\":{},\"id\":\"5069\",\"type\":\"PanTool\"},{\"attributes\":{},\"id\":\"5351\",\"type\":\"UnionRenderers\"},{\"attributes\":{\"data_source\":{\"id\":\"5095\",\"type\":\"ColumnDataSource\"},\"glyph\":{\"id\":\"5096\",\"type\":\"Circle\"},\"hover_glyph\":null,\"muted_glyph\":null,\"nonselection_glyph\":{\"id\":\"5097\",\"type\":\"Circle\"},\"selection_glyph\":null,\"view\":{\"id\":\"5099\",\"type\":\"CDSView\"}},\"id\":\"5098\",\"type\":\"GlyphRenderer\"},{\"attributes\":{\"source\":{\"id\":\"5100\",\"type\":\"ColumnDataSource\"}},\"id\":\"5104\",\"type\":\"CDSView\"},{\"attributes\":{},\"id\":\"5070\",\"type\":\"WheelZoomTool\"},{\"attributes\":{},\"id\":\"5352\",\"type\":\"Selection\"},{\"attributes\":{\"source\":{\"id\":\"5095\",\"type\":\"ColumnDataSource\"}},\"id\":\"5099\",\"type\":\"CDSView\"},{\"attributes\":{\"overlay\":{\"id\":\"5092\",\"type\":\"BoxAnnotation\"}},\"id\":\"5071\",\"type\":\"BoxZoomTool\"},{\"attributes\":{},\"id\":\"5353\",\"type\":\"UnionRenderers\"},{\"attributes\":{\"callback\":null,\"data\":{\"x\":[\"2000\",\"2001\",\"2002\",\"2003\",\"2004\",\"2005\",\"2006\",\"2007\",\"2008\",\"2009\",\"2010\",\"2011\",\"2012\",\"2013\",\"2014\",\"2015\",\"2016\",\"2017\"],\"y\":[45.758602232258916,44.006185482373866,42.27625112523983,40.52709249788235,38.9627181695033,37.23908287256094,35.71694700311238,34.24378821297313,32.82356542916968,31.505214349340378,30.23549863774606,29.02988830437219,27.850705825641178,26.781110096608014,25.712388491284276,24.682632180401672,23.77423357312919,22.83697035928226]},\"selected\":{\"id\":\"5352\",\"type\":\"Selection\"},\"selection_policy\":{\"id\":\"5351\",\"type\":\"UnionRenderers\"}},\"id\":\"5100\",\"type\":\"ColumnDataSource\"},{\"attributes\":{},\"id\":\"5072\",\"type\":\"SaveTool\"},{\"attributes\":{},\"id\":\"5354\",\"type\":\"Selection\"},{\"attributes\":{\"line_color\":\"blue\",\"line_width\":2,\"x\":{\"field\":\"x\"},\"y\":{\"field\":\"y\"}},\"id\":\"5101\",\"type\":\"Line\"},{\"attributes\":{},\"id\":\"5073\",\"type\":\"ResetTool\"},{\"attributes\":{\"text\":\"Mortality rate, infant (per 1,000 live births) weighted against Population, total\"},\"id\":\"5049\",\"type\":\"Title\"},{\"attributes\":{\"line_alpha\":0.1,\"line_color\":\"#1f77b4\",\"line_width\":2,\"x\":{\"field\":\"x\"},\"y\":{\"field\":\"y\"}},\"id\":\"5102\",\"type\":\"Line\"},{\"attributes\":{},\"id\":\"5074\",\"type\":\"HelpTool\"},{\"attributes\":{\"callback\":null},\"id\":\"5051\",\"type\":\"DataRange1d\"},{\"attributes\":{\"data_source\":{\"id\":\"5100\",\"type\":\"ColumnDataSource\"},\"glyph\":{\"id\":\"5101\",\"type\":\"Line\"},\"hover_glyph\":null,\"muted_glyph\":null,\"nonselection_glyph\":{\"id\":\"5102\",\"type\":\"Line\"},\"selection_glyph\":null,\"view\":{\"id\":\"5104\",\"type\":\"CDSView\"}},\"id\":\"5103\",\"type\":\"GlyphRenderer\"},{\"attributes\":{\"active_drag\":\"auto\",\"active_inspect\":\"auto\",\"active_multi\":null,\"active_scroll\":\"auto\",\"active_tap\":\"auto\",\"tools\":[{\"id\":\"5069\",\"type\":\"PanTool\"},{\"id\":\"5070\",\"type\":\"WheelZoomTool\"},{\"id\":\"5071\",\"type\":\"BoxZoomTool\"},{\"id\":\"5072\",\"type\":\"SaveTool\"},{\"id\":\"5073\",\"type\":\"ResetTool\"},{\"id\":\"5074\",\"type\":\"HelpTool\"},{\"id\":\"5121\",\"type\":\"HoverTool\"}]},\"id\":\"5075\",\"type\":\"Toolbar\"},{\"attributes\":{\"callback\":null},\"id\":\"5053\",\"type\":\"DataRange1d\"}],\"root_ids\":[\"5048\"]},\"title\":\"Bokeh Application\",\"version\":\"1.3.4\"}};\n",
       "  var render_items = [{\"docid\":\"b1e37521-1542-49ee-aba8-0abd6741f2c7\",\"roots\":{\"5048\":\"4b9ef0c0-b685-455d-8d1e-306a47c4f204\"}}];\n",
       "  root.Bokeh.embed.embed_items_notebook(docs_json, render_items);\n",
       "\n",
       "  }\n",
       "  if (root.Bokeh !== undefined) {\n",
       "    embed_document(root);\n",
       "  } else {\n",
       "    var attempts = 0;\n",
       "    var timer = setInterval(function(root) {\n",
       "      if (root.Bokeh !== undefined) {\n",
       "        embed_document(root);\n",
       "        clearInterval(timer);\n",
       "      }\n",
       "      attempts++;\n",
       "      if (attempts > 100) {\n",
       "        console.log(\"Bokeh: ERROR: Unable to run BokehJS code because BokehJS library is missing\");\n",
       "        clearInterval(timer);\n",
       "      }\n",
       "    }, 10, root)\n",
       "  }\n",
       "})(window);"
      ],
      "application/vnd.bokehjs_exec.v0+json": ""
     },
     "metadata": {
      "application/vnd.bokehjs_exec.v0+json": {
       "id": "5048"
      }
     },
     "output_type": "display_data"
    }
   ],
   "source": [
    "# Infant mortality rate\n",
    "years = list(map(str, list(range(2000,2018))))\n",
    "result = show_weighted_average(years, 'SP.DYN.IMRT.IN', 'SP.POP.TOTL', ['LDCs', 'Developing excluding LDCs'])"
   ]
  },
  {
   "cell_type": "code",
   "execution_count": 16,
   "metadata": {},
   "outputs": [
    {
     "data": {
      "text/html": [
       "\n",
       "\n",
       "\n",
       "\n",
       "\n",
       "\n",
       "  <div class=\"bk-root\" id=\"b344f0dc-794c-4ebe-bd50-c79964481769\" data-root-id=\"5439\"></div>\n"
      ]
     },
     "metadata": {},
     "output_type": "display_data"
    },
    {
     "data": {
      "application/javascript": [
       "(function(root) {\n",
       "  function embed_document(root) {\n",
       "    \n",
       "  var docs_json = {\"5a84cc45-263f-4510-ad6a-17e5e6b980b4\":{\"roots\":{\"references\":[{\"attributes\":{\"below\":[{\"id\":\"5450\",\"type\":\"LinearAxis\"}],\"center\":[{\"id\":\"5454\",\"type\":\"Grid\"},{\"id\":\"5459\",\"type\":\"Grid\"},{\"id\":\"5484\",\"type\":\"Legend\"}],\"left\":[{\"id\":\"5455\",\"type\":\"LinearAxis\"}],\"plot_height\":400,\"plot_width\":950,\"renderers\":[{\"id\":\"5476\",\"type\":\"GlyphRenderer\"},{\"id\":\"5489\",\"type\":\"GlyphRenderer\"},{\"id\":\"5494\",\"type\":\"GlyphRenderer\"},{\"id\":\"5510\",\"type\":\"GlyphRenderer\"}],\"title\":{\"id\":\"5440\",\"type\":\"Title\"},\"toolbar\":{\"id\":\"5466\",\"type\":\"Toolbar\"},\"x_range\":{\"id\":\"5442\",\"type\":\"DataRange1d\"},\"x_scale\":{\"id\":\"5446\",\"type\":\"LinearScale\"},\"y_range\":{\"id\":\"5444\",\"type\":\"DataRange1d\"},\"y_scale\":{\"id\":\"5448\",\"type\":\"LinearScale\"}},\"id\":\"5439\",\"subtype\":\"Figure\",\"type\":\"Plot\"},{\"attributes\":{},\"id\":\"5448\",\"type\":\"LinearScale\"},{\"attributes\":{\"data_source\":{\"id\":\"5473\",\"type\":\"ColumnDataSource\"},\"glyph\":{\"id\":\"5474\",\"type\":\"Line\"},\"hover_glyph\":null,\"muted_glyph\":null,\"nonselection_glyph\":{\"id\":\"5475\",\"type\":\"Line\"},\"selection_glyph\":null,\"view\":{\"id\":\"5477\",\"type\":\"CDSView\"}},\"id\":\"5476\",\"type\":\"GlyphRenderer\"},{\"attributes\":{},\"id\":\"5504\",\"type\":\"UnionRenderers\"},{\"attributes\":{\"data_source\":{\"id\":\"5486\",\"type\":\"ColumnDataSource\"},\"glyph\":{\"id\":\"5487\",\"type\":\"Circle\"},\"hover_glyph\":null,\"muted_glyph\":null,\"nonselection_glyph\":{\"id\":\"5488\",\"type\":\"Circle\"},\"selection_glyph\":null,\"view\":{\"id\":\"5490\",\"type\":\"CDSView\"}},\"id\":\"5489\",\"type\":\"GlyphRenderer\"},{\"attributes\":{},\"id\":\"5465\",\"type\":\"HelpTool\"},{\"attributes\":{\"callback\":null},\"id\":\"5442\",\"type\":\"DataRange1d\"},{\"attributes\":{\"source\":{\"id\":\"5473\",\"type\":\"ColumnDataSource\"}},\"id\":\"5477\",\"type\":\"CDSView\"},{\"attributes\":{\"active_drag\":\"auto\",\"active_inspect\":\"auto\",\"active_multi\":null,\"active_scroll\":\"auto\",\"active_tap\":\"auto\",\"tools\":[{\"id\":\"5460\",\"type\":\"PanTool\"},{\"id\":\"5461\",\"type\":\"WheelZoomTool\"},{\"id\":\"5462\",\"type\":\"BoxZoomTool\"},{\"id\":\"5463\",\"type\":\"SaveTool\"},{\"id\":\"5464\",\"type\":\"ResetTool\"},{\"id\":\"5465\",\"type\":\"HelpTool\"},{\"id\":\"5512\",\"type\":\"HoverTool\"}]},\"id\":\"5466\",\"type\":\"Toolbar\"},{\"attributes\":{\"line_color\":\"blue\",\"line_width\":2,\"x\":{\"field\":\"x\"},\"y\":{\"field\":\"y\"}},\"id\":\"5492\",\"type\":\"Line\"},{\"attributes\":{},\"id\":\"5446\",\"type\":\"LinearScale\"},{\"attributes\":{\"source\":{\"id\":\"5486\",\"type\":\"ColumnDataSource\"}},\"id\":\"5490\",\"type\":\"CDSView\"},{\"attributes\":{\"callback\":null},\"id\":\"5444\",\"type\":\"DataRange1d\"},{\"attributes\":{},\"id\":\"5503\",\"type\":\"Selection\"},{\"attributes\":{\"overlay\":{\"id\":\"5483\",\"type\":\"BoxAnnotation\"}},\"id\":\"5462\",\"type\":\"BoxZoomTool\"},{\"attributes\":{\"callback\":null,\"data\":{\"x\":[\"2000\",\"2001\",\"2002\",\"2003\",\"2004\",\"2005\",\"2006\",\"2007\",\"2008\",\"2009\",\"2010\",\"2011\",\"2012\",\"2013\",\"2014\",\"2015\",\"2016\",\"2017\"],\"y\":[50.6390755344685,51.36285836928065,52.14657844770643,52.97075929860047,53.794860079880166,54.662284525560544,55.520527356489325,56.36153645028357,57.240532507249455,58.11616913832772,58.98913296089495,59.64521383688594,60.53600239277637,61.398270388222066,62.265100775867786,63.08453248601209,63.816308183565866,64.57404357135272]},\"selected\":{\"id\":\"5505\",\"type\":\"Selection\"},\"selection_policy\":{\"id\":\"5504\",\"type\":\"UnionRenderers\"}},\"id\":\"5486\",\"type\":\"ColumnDataSource\"},{\"attributes\":{},\"id\":\"5463\",\"type\":\"SaveTool\"},{\"attributes\":{\"callback\":null,\"data\":{\"x\":[\"2000\",\"2001\",\"2002\",\"2003\",\"2004\",\"2005\",\"2006\",\"2007\",\"2008\",\"2009\",\"2010\",\"2011\",\"2012\",\"2013\",\"2014\",\"2015\",\"2016\",\"2017\"],\"y\":[80.55112682880318,81.00479371625393,81.77679009369407,82.53784452553441,83.28851027121169,84.02975397091646,84.75379189012546,85.4649501299916,86.16369312765474,86.84098274717998,87.50754213927502,88.15891127427683,88.79749865814709,89.42443209227703,90.04162285513938,90.65090738325256,91.23674955938168,91.74156692102636]},\"selected\":{\"id\":\"5757\",\"type\":\"Selection\"},\"selection_policy\":{\"id\":\"5756\",\"type\":\"UnionRenderers\"}},\"id\":\"5491\",\"type\":\"ColumnDataSource\"},{\"attributes\":{\"text\":\"People using at least basic drinking water services (% of population) weighted against Population, total\"},\"id\":\"5440\",\"type\":\"Title\"},{\"attributes\":{},\"id\":\"5464\",\"type\":\"ResetTool\"},{\"attributes\":{\"callback\":null,\"tooltips\":\"\\n        <div style=padding=5px>Year:@x</div>\\n        <div style=padding=5px>Value:@y</div>\\n        \"},\"id\":\"5512\",\"type\":\"HoverTool\"},{\"attributes\":{\"fill_color\":{\"value\":\"red\"},\"line_color\":{\"value\":\"red\"},\"line_width\":{\"value\":3},\"x\":{\"field\":\"x\"},\"y\":{\"field\":\"y\"}},\"id\":\"5487\",\"type\":\"Circle\"},{\"attributes\":{},\"id\":\"5502\",\"type\":\"UnionRenderers\"},{\"attributes\":{\"callback\":null,\"data\":{\"x\":[\"2000\",\"2001\",\"2002\",\"2003\",\"2004\",\"2005\",\"2006\",\"2007\",\"2008\",\"2009\",\"2010\",\"2011\",\"2012\",\"2013\",\"2014\",\"2015\",\"2016\",\"2017\"],\"y\":[50.6390755344685,51.36285836928065,52.14657844770643,52.97075929860047,53.794860079880166,54.662284525560544,55.520527356489325,56.36153645028357,57.240532507249455,58.11616913832772,58.98913296089495,59.64521383688594,60.53600239277637,61.398270388222066,62.265100775867786,63.08453248601209,63.816308183565866,64.57404357135272]},\"selected\":{\"id\":\"5503\",\"type\":\"Selection\"},\"selection_policy\":{\"id\":\"5502\",\"type\":\"UnionRenderers\"}},\"id\":\"5473\",\"type\":\"ColumnDataSource\"},{\"attributes\":{\"bottom_units\":\"screen\",\"fill_alpha\":{\"value\":0.5},\"fill_color\":{\"value\":\"lightgrey\"},\"left_units\":\"screen\",\"level\":\"overlay\",\"line_alpha\":{\"value\":1.0},\"line_color\":{\"value\":\"black\"},\"line_dash\":[4,4],\"line_width\":{\"value\":2},\"render_mode\":\"css\",\"right_units\":\"screen\",\"top_units\":\"screen\"},\"id\":\"5483\",\"type\":\"BoxAnnotation\"},{\"attributes\":{},\"id\":\"5757\",\"type\":\"Selection\"},{\"attributes\":{},\"id\":\"5460\",\"type\":\"PanTool\"},{\"attributes\":{\"fill_alpha\":{\"value\":0.1},\"fill_color\":{\"value\":\"#1f77b4\"},\"line_alpha\":{\"value\":0.1},\"line_color\":{\"value\":\"#1f77b4\"},\"line_width\":{\"value\":3},\"x\":{\"field\":\"x\"},\"y\":{\"field\":\"y\"}},\"id\":\"5488\",\"type\":\"Circle\"},{\"attributes\":{},\"id\":\"5759\",\"type\":\"Selection\"},{\"attributes\":{\"items\":[{\"id\":\"5485\",\"type\":\"LegendItem\"},{\"id\":\"5506\",\"type\":\"LegendItem\"}],\"location\":\"bottom_left\"},\"id\":\"5484\",\"type\":\"Legend\"},{\"attributes\":{},\"id\":\"5461\",\"type\":\"WheelZoomTool\"},{\"attributes\":{},\"id\":\"5758\",\"type\":\"UnionRenderers\"},{\"attributes\":{\"source\":{\"id\":\"5491\",\"type\":\"ColumnDataSource\"}},\"id\":\"5495\",\"type\":\"CDSView\"},{\"attributes\":{},\"id\":\"5480\",\"type\":\"BasicTickFormatter\"},{\"attributes\":{\"source\":{\"id\":\"5507\",\"type\":\"ColumnDataSource\"}},\"id\":\"5511\",\"type\":\"CDSView\"},{\"attributes\":{\"label\":{\"value\":\"LDCs\"},\"renderers\":[{\"id\":\"5476\",\"type\":\"GlyphRenderer\"}]},\"id\":\"5485\",\"type\":\"LegendItem\"},{\"attributes\":{},\"id\":\"5756\",\"type\":\"UnionRenderers\"},{\"attributes\":{\"dimension\":1,\"ticker\":{\"id\":\"5456\",\"type\":\"BasicTicker\"}},\"id\":\"5459\",\"type\":\"Grid\"},{\"attributes\":{},\"id\":\"5482\",\"type\":\"BasicTickFormatter\"},{\"attributes\":{\"line_color\":\"red\",\"line_width\":2,\"x\":{\"field\":\"x\"},\"y\":{\"field\":\"y\"}},\"id\":\"5474\",\"type\":\"Line\"},{\"attributes\":{\"ticker\":{\"id\":\"5451\",\"type\":\"BasicTicker\"}},\"id\":\"5454\",\"type\":\"Grid\"},{\"attributes\":{\"data_source\":{\"id\":\"5491\",\"type\":\"ColumnDataSource\"},\"glyph\":{\"id\":\"5492\",\"type\":\"Line\"},\"hover_glyph\":null,\"muted_glyph\":null,\"nonselection_glyph\":{\"id\":\"5493\",\"type\":\"Line\"},\"selection_glyph\":null,\"view\":{\"id\":\"5495\",\"type\":\"CDSView\"}},\"id\":\"5494\",\"type\":\"GlyphRenderer\"},{\"attributes\":{\"fill_color\":{\"value\":\"blue\"},\"line_color\":{\"value\":\"blue\"},\"line_width\":{\"value\":3},\"x\":{\"field\":\"x\"},\"y\":{\"field\":\"y\"}},\"id\":\"5508\",\"type\":\"Circle\"},{\"attributes\":{\"data_source\":{\"id\":\"5507\",\"type\":\"ColumnDataSource\"},\"glyph\":{\"id\":\"5508\",\"type\":\"Circle\"},\"hover_glyph\":null,\"muted_glyph\":null,\"nonselection_glyph\":{\"id\":\"5509\",\"type\":\"Circle\"},\"selection_glyph\":null,\"view\":{\"id\":\"5511\",\"type\":\"CDSView\"}},\"id\":\"5510\",\"type\":\"GlyphRenderer\"},{\"attributes\":{\"axis_label\":\"Percentage\",\"formatter\":{\"id\":\"5480\",\"type\":\"BasicTickFormatter\"},\"ticker\":{\"id\":\"5456\",\"type\":\"BasicTicker\"}},\"id\":\"5455\",\"type\":\"LinearAxis\"},{\"attributes\":{\"fill_alpha\":{\"value\":0.1},\"fill_color\":{\"value\":\"#1f77b4\"},\"line_alpha\":{\"value\":0.1},\"line_color\":{\"value\":\"#1f77b4\"},\"line_width\":{\"value\":3},\"x\":{\"field\":\"x\"},\"y\":{\"field\":\"y\"}},\"id\":\"5509\",\"type\":\"Circle\"},{\"attributes\":{\"axis_label\":\"Years\",\"formatter\":{\"id\":\"5482\",\"type\":\"BasicTickFormatter\"},\"ticker\":{\"id\":\"5451\",\"type\":\"BasicTicker\"}},\"id\":\"5450\",\"type\":\"LinearAxis\"},{\"attributes\":{\"line_alpha\":0.1,\"line_color\":\"#1f77b4\",\"line_width\":2,\"x\":{\"field\":\"x\"},\"y\":{\"field\":\"y\"}},\"id\":\"5493\",\"type\":\"Line\"},{\"attributes\":{},\"id\":\"5505\",\"type\":\"Selection\"},{\"attributes\":{},\"id\":\"5456\",\"type\":\"BasicTicker\"},{\"attributes\":{\"label\":{\"value\":\"Developing excluding LDCs\"},\"renderers\":[{\"id\":\"5494\",\"type\":\"GlyphRenderer\"}]},\"id\":\"5506\",\"type\":\"LegendItem\"},{\"attributes\":{},\"id\":\"5451\",\"type\":\"BasicTicker\"},{\"attributes\":{\"callback\":null,\"data\":{\"x\":[\"2000\",\"2001\",\"2002\",\"2003\",\"2004\",\"2005\",\"2006\",\"2007\",\"2008\",\"2009\",\"2010\",\"2011\",\"2012\",\"2013\",\"2014\",\"2015\",\"2016\",\"2017\"],\"y\":[80.55112682880318,81.00479371625393,81.77679009369407,82.53784452553441,83.28851027121169,84.02975397091646,84.75379189012546,85.4649501299916,86.16369312765474,86.84098274717998,87.50754213927502,88.15891127427683,88.79749865814709,89.42443209227703,90.04162285513938,90.65090738325256,91.23674955938168,91.74156692102636]},\"selected\":{\"id\":\"5759\",\"type\":\"Selection\"},\"selection_policy\":{\"id\":\"5758\",\"type\":\"UnionRenderers\"}},\"id\":\"5507\",\"type\":\"ColumnDataSource\"},{\"attributes\":{\"line_alpha\":0.1,\"line_color\":\"#1f77b4\",\"line_width\":2,\"x\":{\"field\":\"x\"},\"y\":{\"field\":\"y\"}},\"id\":\"5475\",\"type\":\"Line\"}],\"root_ids\":[\"5439\"]},\"title\":\"Bokeh Application\",\"version\":\"1.3.4\"}};\n",
       "  var render_items = [{\"docid\":\"5a84cc45-263f-4510-ad6a-17e5e6b980b4\",\"roots\":{\"5439\":\"b344f0dc-794c-4ebe-bd50-c79964481769\"}}];\n",
       "  root.Bokeh.embed.embed_items_notebook(docs_json, render_items);\n",
       "\n",
       "  }\n",
       "  if (root.Bokeh !== undefined) {\n",
       "    embed_document(root);\n",
       "  } else {\n",
       "    var attempts = 0;\n",
       "    var timer = setInterval(function(root) {\n",
       "      if (root.Bokeh !== undefined) {\n",
       "        embed_document(root);\n",
       "        clearInterval(timer);\n",
       "      }\n",
       "      attempts++;\n",
       "      if (attempts > 100) {\n",
       "        console.log(\"Bokeh: ERROR: Unable to run BokehJS code because BokehJS library is missing\");\n",
       "        clearInterval(timer);\n",
       "      }\n",
       "    }, 10, root)\n",
       "  }\n",
       "})(window);"
      ],
      "application/vnd.bokehjs_exec.v0+json": ""
     },
     "metadata": {
      "application/vnd.bokehjs_exec.v0+json": {
       "id": "5439"
      }
     },
     "output_type": "display_data"
    }
   ],
   "source": [
    "# Basic water access\n",
    "years = list(map(str, list(range(2000,2018))))\n",
    "result = show_weighted_average(years, 'SH.H2O.BASW.ZS', 'SP.POP.TOTL', ['LDCs', 'Developing excluding LDCs'])"
   ]
  },
  {
   "cell_type": "code",
   "execution_count": 17,
   "metadata": {},
   "outputs": [
    {
     "data": {
      "text/html": [
       "\n",
       "\n",
       "\n",
       "\n",
       "\n",
       "\n",
       "  <div class=\"bk-root\" id=\"217fd784-6092-4a88-8c19-afc47ded6317\" data-root-id=\"5844\"></div>\n"
      ]
     },
     "metadata": {},
     "output_type": "display_data"
    },
    {
     "data": {
      "application/javascript": [
       "(function(root) {\n",
       "  function embed_document(root) {\n",
       "    \n",
       "  var docs_json = {\"e9a5117b-9722-45a3-b8bd-f00e20cf7348\":{\"roots\":{\"references\":[{\"attributes\":{\"below\":[{\"id\":\"5855\",\"type\":\"LinearAxis\"}],\"center\":[{\"id\":\"5859\",\"type\":\"Grid\"},{\"id\":\"5864\",\"type\":\"Grid\"},{\"id\":\"5889\",\"type\":\"Legend\"}],\"left\":[{\"id\":\"5860\",\"type\":\"LinearAxis\"}],\"plot_height\":400,\"plot_width\":950,\"renderers\":[{\"id\":\"5881\",\"type\":\"GlyphRenderer\"},{\"id\":\"5894\",\"type\":\"GlyphRenderer\"},{\"id\":\"5899\",\"type\":\"GlyphRenderer\"},{\"id\":\"5915\",\"type\":\"GlyphRenderer\"}],\"title\":{\"id\":\"5845\",\"type\":\"Title\"},\"toolbar\":{\"id\":\"5871\",\"type\":\"Toolbar\"},\"x_range\":{\"id\":\"5847\",\"type\":\"DataRange1d\"},\"x_scale\":{\"id\":\"5851\",\"type\":\"LinearScale\"},\"y_range\":{\"id\":\"5849\",\"type\":\"DataRange1d\"},\"y_scale\":{\"id\":\"5853\",\"type\":\"LinearScale\"}},\"id\":\"5844\",\"subtype\":\"Figure\",\"type\":\"Plot\"},{\"attributes\":{},\"id\":\"5868\",\"type\":\"SaveTool\"},{\"attributes\":{\"ticker\":{\"id\":\"5856\",\"type\":\"BasicTicker\"}},\"id\":\"5859\",\"type\":\"Grid\"},{\"attributes\":{},\"id\":\"5910\",\"type\":\"Selection\"},{\"attributes\":{\"data_source\":{\"id\":\"5912\",\"type\":\"ColumnDataSource\"},\"glyph\":{\"id\":\"5913\",\"type\":\"Circle\"},\"hover_glyph\":null,\"muted_glyph\":null,\"nonselection_glyph\":{\"id\":\"5914\",\"type\":\"Circle\"},\"selection_glyph\":null,\"view\":{\"id\":\"5916\",\"type\":\"CDSView\"}},\"id\":\"5915\",\"type\":\"GlyphRenderer\"},{\"attributes\":{\"data_source\":{\"id\":\"5878\",\"type\":\"ColumnDataSource\"},\"glyph\":{\"id\":\"5879\",\"type\":\"Line\"},\"hover_glyph\":null,\"muted_glyph\":null,\"nonselection_glyph\":{\"id\":\"5880\",\"type\":\"Line\"},\"selection_glyph\":null,\"view\":{\"id\":\"5882\",\"type\":\"CDSView\"}},\"id\":\"5881\",\"type\":\"GlyphRenderer\"},{\"attributes\":{\"source\":{\"id\":\"5896\",\"type\":\"ColumnDataSource\"}},\"id\":\"5900\",\"type\":\"CDSView\"},{\"attributes\":{\"dimension\":1,\"ticker\":{\"id\":\"5861\",\"type\":\"BasicTicker\"}},\"id\":\"5864\",\"type\":\"Grid\"},{\"attributes\":{},\"id\":\"5887\",\"type\":\"BasicTickFormatter\"},{\"attributes\":{},\"id\":\"5909\",\"type\":\"UnionRenderers\"},{\"attributes\":{\"axis_label\":\"Years\",\"formatter\":{\"id\":\"5887\",\"type\":\"BasicTickFormatter\"},\"ticker\":{\"id\":\"5856\",\"type\":\"BasicTicker\"}},\"id\":\"5855\",\"type\":\"LinearAxis\"},{\"attributes\":{\"active_drag\":\"auto\",\"active_inspect\":\"auto\",\"active_multi\":null,\"active_scroll\":\"auto\",\"active_tap\":\"auto\",\"tools\":[{\"id\":\"5865\",\"type\":\"PanTool\"},{\"id\":\"5866\",\"type\":\"WheelZoomTool\"},{\"id\":\"5867\",\"type\":\"BoxZoomTool\"},{\"id\":\"5868\",\"type\":\"SaveTool\"},{\"id\":\"5869\",\"type\":\"ResetTool\"},{\"id\":\"5870\",\"type\":\"HelpTool\"},{\"id\":\"5917\",\"type\":\"HoverTool\"}]},\"id\":\"5871\",\"type\":\"Toolbar\"},{\"attributes\":{},\"id\":\"6177\",\"type\":\"UnionRenderers\"},{\"attributes\":{},\"id\":\"5856\",\"type\":\"BasicTicker\"},{\"attributes\":{},\"id\":\"5861\",\"type\":\"BasicTicker\"},{\"attributes\":{},\"id\":\"5885\",\"type\":\"BasicTickFormatter\"},{\"attributes\":{},\"id\":\"6176\",\"type\":\"Selection\"},{\"attributes\":{\"fill_alpha\":{\"value\":0.1},\"fill_color\":{\"value\":\"#1f77b4\"},\"line_alpha\":{\"value\":0.1},\"line_color\":{\"value\":\"#1f77b4\"},\"line_width\":{\"value\":3},\"x\":{\"field\":\"x\"},\"y\":{\"field\":\"y\"}},\"id\":\"5914\",\"type\":\"Circle\"},{\"attributes\":{},\"id\":\"6175\",\"type\":\"UnionRenderers\"},{\"attributes\":{\"axis_label\":\"Percentage\",\"formatter\":{\"id\":\"5885\",\"type\":\"BasicTickFormatter\"},\"ticker\":{\"id\":\"5861\",\"type\":\"BasicTicker\"}},\"id\":\"5860\",\"type\":\"LinearAxis\"},{\"attributes\":{\"label\":{\"value\":\"LDCs\"},\"renderers\":[{\"id\":\"5881\",\"type\":\"GlyphRenderer\"}]},\"id\":\"5890\",\"type\":\"LegendItem\"},{\"attributes\":{\"source\":{\"id\":\"5878\",\"type\":\"ColumnDataSource\"}},\"id\":\"5882\",\"type\":\"CDSView\"},{\"attributes\":{\"callback\":null,\"data\":{\"x\":[\"2000\",\"2001\",\"2002\",\"2003\",\"2004\",\"2005\",\"2006\",\"2007\",\"2008\",\"2009\",\"2010\",\"2011\",\"2012\",\"2013\",\"2014\",\"2015\",\"2016\",\"2017\"],\"y\":[42.12683300179766,42.80027017649536,43.50079749798844,44.25366307202228,45.00747896662987,45.80419361422807,46.59437519706998,47.36876142509717,48.17616099242744,48.980453708262594,49.782813757361296,50.42503187607093,51.28403194463684,52.07473967276295,52.873727809325516,53.62244943417166,54.273675248356724,54.932811181463364]},\"selected\":{\"id\":\"5908\",\"type\":\"Selection\"},\"selection_policy\":{\"id\":\"5907\",\"type\":\"UnionRenderers\"}},\"id\":\"5878\",\"type\":\"ColumnDataSource\"},{\"attributes\":{\"fill_color\":{\"value\":\"blue\"},\"line_color\":{\"value\":\"blue\"},\"line_width\":{\"value\":3},\"x\":{\"field\":\"x\"},\"y\":{\"field\":\"y\"}},\"id\":\"5913\",\"type\":\"Circle\"},{\"attributes\":{\"line_alpha\":0.1,\"line_color\":\"#1f77b4\",\"line_width\":2,\"x\":{\"field\":\"x\"},\"y\":{\"field\":\"y\"}},\"id\":\"5880\",\"type\":\"Line\"},{\"attributes\":{\"items\":[{\"id\":\"5890\",\"type\":\"LegendItem\"},{\"id\":\"5911\",\"type\":\"LegendItem\"}],\"location\":\"bottom_left\"},\"id\":\"5889\",\"type\":\"Legend\"},{\"attributes\":{},\"id\":\"6178\",\"type\":\"Selection\"},{\"attributes\":{\"fill_alpha\":{\"value\":0.1},\"fill_color\":{\"value\":\"#1f77b4\"},\"line_alpha\":{\"value\":0.1},\"line_color\":{\"value\":\"#1f77b4\"},\"line_width\":{\"value\":3},\"x\":{\"field\":\"x\"},\"y\":{\"field\":\"y\"}},\"id\":\"5893\",\"type\":\"Circle\"},{\"attributes\":{\"callback\":null,\"data\":{\"x\":[\"2000\",\"2001\",\"2002\",\"2003\",\"2004\",\"2005\",\"2006\",\"2007\",\"2008\",\"2009\",\"2010\",\"2011\",\"2012\",\"2013\",\"2014\",\"2015\",\"2016\",\"2017\"],\"y\":[70.548702877432,71.00004920789118,71.95018602183819,72.90005660990126,73.84979674562858,74.80186545073815,75.7497619375849,76.69812617708288,77.64556540872928,78.57794683969233,79.51234784363636,80.44861606275593,81.3846478800014,82.31897898954479,83.25506420388984,84.18519675512437,85.10049117126351,86.01116731571781]},\"selected\":{\"id\":\"6178\",\"type\":\"Selection\"},\"selection_policy\":{\"id\":\"6177\",\"type\":\"UnionRenderers\"}},\"id\":\"5912\",\"type\":\"ColumnDataSource\"},{\"attributes\":{\"callback\":null,\"data\":{\"x\":[\"2000\",\"2001\",\"2002\",\"2003\",\"2004\",\"2005\",\"2006\",\"2007\",\"2008\",\"2009\",\"2010\",\"2011\",\"2012\",\"2013\",\"2014\",\"2015\",\"2016\",\"2017\"],\"y\":[70.548702877432,71.00004920789118,71.95018602183819,72.90005660990126,73.84979674562858,74.80186545073815,75.7497619375849,76.69812617708288,77.64556540872928,78.57794683969233,79.51234784363636,80.44861606275593,81.3846478800014,82.31897898954479,83.25506420388984,84.18519675512437,85.10049117126351,86.01116731571781]},\"selected\":{\"id\":\"6176\",\"type\":\"Selection\"},\"selection_policy\":{\"id\":\"6175\",\"type\":\"UnionRenderers\"}},\"id\":\"5896\",\"type\":\"ColumnDataSource\"},{\"attributes\":{\"bottom_units\":\"screen\",\"fill_alpha\":{\"value\":0.5},\"fill_color\":{\"value\":\"lightgrey\"},\"left_units\":\"screen\",\"level\":\"overlay\",\"line_alpha\":{\"value\":1.0},\"line_color\":{\"value\":\"black\"},\"line_dash\":[4,4],\"line_width\":{\"value\":2},\"render_mode\":\"css\",\"right_units\":\"screen\",\"top_units\":\"screen\"},\"id\":\"5888\",\"type\":\"BoxAnnotation\"},{\"attributes\":{\"fill_color\":{\"value\":\"red\"},\"line_color\":{\"value\":\"red\"},\"line_width\":{\"value\":3},\"x\":{\"field\":\"x\"},\"y\":{\"field\":\"y\"}},\"id\":\"5892\",\"type\":\"Circle\"},{\"attributes\":{\"callback\":null},\"id\":\"5847\",\"type\":\"DataRange1d\"},{\"attributes\":{\"callback\":null,\"tooltips\":\"\\n        <div style=padding=5px>Year:@x</div>\\n        <div style=padding=5px>Value:@y</div>\\n        \"},\"id\":\"5917\",\"type\":\"HoverTool\"},{\"attributes\":{\"callback\":null,\"data\":{\"x\":[\"2000\",\"2001\",\"2002\",\"2003\",\"2004\",\"2005\",\"2006\",\"2007\",\"2008\",\"2009\",\"2010\",\"2011\",\"2012\",\"2013\",\"2014\",\"2015\",\"2016\",\"2017\"],\"y\":[42.12683300179766,42.80027017649536,43.50079749798844,44.25366307202228,45.00747896662987,45.80419361422807,46.59437519706998,47.36876142509717,48.17616099242744,48.980453708262594,49.782813757361296,50.42503187607093,51.28403194463684,52.07473967276295,52.873727809325516,53.62244943417166,54.273675248356724,54.932811181463364]},\"selected\":{\"id\":\"5910\",\"type\":\"Selection\"},\"selection_policy\":{\"id\":\"5909\",\"type\":\"UnionRenderers\"}},\"id\":\"5891\",\"type\":\"ColumnDataSource\"},{\"attributes\":{\"source\":{\"id\":\"5912\",\"type\":\"ColumnDataSource\"}},\"id\":\"5916\",\"type\":\"CDSView\"},{\"attributes\":{\"line_color\":\"red\",\"line_width\":2,\"x\":{\"field\":\"x\"},\"y\":{\"field\":\"y\"}},\"id\":\"5879\",\"type\":\"Line\"},{\"attributes\":{\"data_source\":{\"id\":\"5891\",\"type\":\"ColumnDataSource\"},\"glyph\":{\"id\":\"5892\",\"type\":\"Circle\"},\"hover_glyph\":null,\"muted_glyph\":null,\"nonselection_glyph\":{\"id\":\"5893\",\"type\":\"Circle\"},\"selection_glyph\":null,\"view\":{\"id\":\"5895\",\"type\":\"CDSView\"}},\"id\":\"5894\",\"type\":\"GlyphRenderer\"},{\"attributes\":{\"text\":\"People using at least basic drinking water services, rural (% of rural population) weighted against Rural population\"},\"id\":\"5845\",\"type\":\"Title\"},{\"attributes\":{},\"id\":\"5866\",\"type\":\"WheelZoomTool\"},{\"attributes\":{\"source\":{\"id\":\"5891\",\"type\":\"ColumnDataSource\"}},\"id\":\"5895\",\"type\":\"CDSView\"},{\"attributes\":{\"overlay\":{\"id\":\"5888\",\"type\":\"BoxAnnotation\"}},\"id\":\"5867\",\"type\":\"BoxZoomTool\"},{\"attributes\":{},\"id\":\"5853\",\"type\":\"LinearScale\"},{\"attributes\":{\"data_source\":{\"id\":\"5896\",\"type\":\"ColumnDataSource\"},\"glyph\":{\"id\":\"5897\",\"type\":\"Line\"},\"hover_glyph\":null,\"muted_glyph\":null,\"nonselection_glyph\":{\"id\":\"5898\",\"type\":\"Line\"},\"selection_glyph\":null,\"view\":{\"id\":\"5900\",\"type\":\"CDSView\"}},\"id\":\"5899\",\"type\":\"GlyphRenderer\"},{\"attributes\":{},\"id\":\"5865\",\"type\":\"PanTool\"},{\"attributes\":{},\"id\":\"5908\",\"type\":\"Selection\"},{\"attributes\":{\"line_color\":\"blue\",\"line_width\":2,\"x\":{\"field\":\"x\"},\"y\":{\"field\":\"y\"}},\"id\":\"5897\",\"type\":\"Line\"},{\"attributes\":{},\"id\":\"5869\",\"type\":\"ResetTool\"},{\"attributes\":{},\"id\":\"5851\",\"type\":\"LinearScale\"},{\"attributes\":{\"label\":{\"value\":\"Developing excluding LDCs\"},\"renderers\":[{\"id\":\"5899\",\"type\":\"GlyphRenderer\"}]},\"id\":\"5911\",\"type\":\"LegendItem\"},{\"attributes\":{\"line_alpha\":0.1,\"line_color\":\"#1f77b4\",\"line_width\":2,\"x\":{\"field\":\"x\"},\"y\":{\"field\":\"y\"}},\"id\":\"5898\",\"type\":\"Line\"},{\"attributes\":{},\"id\":\"5870\",\"type\":\"HelpTool\"},{\"attributes\":{\"callback\":null},\"id\":\"5849\",\"type\":\"DataRange1d\"},{\"attributes\":{},\"id\":\"5907\",\"type\":\"UnionRenderers\"}],\"root_ids\":[\"5844\"]},\"title\":\"Bokeh Application\",\"version\":\"1.3.4\"}};\n",
       "  var render_items = [{\"docid\":\"e9a5117b-9722-45a3-b8bd-f00e20cf7348\",\"roots\":{\"5844\":\"217fd784-6092-4a88-8c19-afc47ded6317\"}}];\n",
       "  root.Bokeh.embed.embed_items_notebook(docs_json, render_items);\n",
       "\n",
       "  }\n",
       "  if (root.Bokeh !== undefined) {\n",
       "    embed_document(root);\n",
       "  } else {\n",
       "    var attempts = 0;\n",
       "    var timer = setInterval(function(root) {\n",
       "      if (root.Bokeh !== undefined) {\n",
       "        embed_document(root);\n",
       "        clearInterval(timer);\n",
       "      }\n",
       "      attempts++;\n",
       "      if (attempts > 100) {\n",
       "        console.log(\"Bokeh: ERROR: Unable to run BokehJS code because BokehJS library is missing\");\n",
       "        clearInterval(timer);\n",
       "      }\n",
       "    }, 10, root)\n",
       "  }\n",
       "})(window);"
      ],
      "application/vnd.bokehjs_exec.v0+json": ""
     },
     "metadata": {
      "application/vnd.bokehjs_exec.v0+json": {
       "id": "5844"
      }
     },
     "output_type": "display_data"
    }
   ],
   "source": [
    "# Basic water access rural\n",
    "years = list(map(str, list(range(2000,2018))))\n",
    "result = show_weighted_average(years, 'SH.H2O.BASW.RU.ZS', 'SP.RUR.TOTL', ['LDCs', 'Developing excluding LDCs'])"
   ]
  },
  {
   "cell_type": "code",
   "execution_count": 18,
   "metadata": {},
   "outputs": [
    {
     "data": {
      "text/html": [
       "\n",
       "\n",
       "\n",
       "\n",
       "\n",
       "\n",
       "  <div class=\"bk-root\" id=\"603b718d-91e1-401e-8b15-d1674a083384\" data-root-id=\"6263\"></div>\n"
      ]
     },
     "metadata": {},
     "output_type": "display_data"
    },
    {
     "data": {
      "application/javascript": [
       "(function(root) {\n",
       "  function embed_document(root) {\n",
       "    \n",
       "  var docs_json = {\"210f4372-f00b-4322-aa9e-57ba532f280e\":{\"roots\":{\"references\":[{\"attributes\":{\"below\":[{\"id\":\"6274\",\"type\":\"LinearAxis\"}],\"center\":[{\"id\":\"6278\",\"type\":\"Grid\"},{\"id\":\"6283\",\"type\":\"Grid\"},{\"id\":\"6308\",\"type\":\"Legend\"}],\"left\":[{\"id\":\"6279\",\"type\":\"LinearAxis\"}],\"plot_height\":400,\"plot_width\":950,\"renderers\":[{\"id\":\"6300\",\"type\":\"GlyphRenderer\"},{\"id\":\"6313\",\"type\":\"GlyphRenderer\"},{\"id\":\"6318\",\"type\":\"GlyphRenderer\"},{\"id\":\"6334\",\"type\":\"GlyphRenderer\"}],\"title\":{\"id\":\"6264\",\"type\":\"Title\"},\"toolbar\":{\"id\":\"6290\",\"type\":\"Toolbar\"},\"x_range\":{\"id\":\"6266\",\"type\":\"DataRange1d\"},\"x_scale\":{\"id\":\"6270\",\"type\":\"LinearScale\"},\"y_range\":{\"id\":\"6268\",\"type\":\"DataRange1d\"},\"y_scale\":{\"id\":\"6272\",\"type\":\"LinearScale\"}},\"id\":\"6263\",\"subtype\":\"Figure\",\"type\":\"Plot\"},{\"attributes\":{\"axis_label\":\"Years\",\"formatter\":{\"id\":\"6306\",\"type\":\"BasicTickFormatter\"},\"ticker\":{\"id\":\"6275\",\"type\":\"BasicTicker\"}},\"id\":\"6274\",\"type\":\"LinearAxis\"},{\"attributes\":{\"fill_color\":{\"value\":\"blue\"},\"line_color\":{\"value\":\"blue\"},\"line_width\":{\"value\":3},\"x\":{\"field\":\"x\"},\"y\":{\"field\":\"y\"}},\"id\":\"6332\",\"type\":\"Circle\"},{\"attributes\":{},\"id\":\"6304\",\"type\":\"BasicTickFormatter\"},{\"attributes\":{\"line_alpha\":0.1,\"line_color\":\"#1f77b4\",\"line_width\":2,\"x\":{\"field\":\"x\"},\"y\":{\"field\":\"y\"}},\"id\":\"6317\",\"type\":\"Line\"},{\"attributes\":{\"ticker\":{\"id\":\"6275\",\"type\":\"BasicTicker\"}},\"id\":\"6278\",\"type\":\"Grid\"},{\"attributes\":{\"line_alpha\":0.1,\"line_color\":\"#1f77b4\",\"line_width\":2,\"x\":{\"field\":\"x\"},\"y\":{\"field\":\"y\"}},\"id\":\"6299\",\"type\":\"Line\"},{\"attributes\":{},\"id\":\"6284\",\"type\":\"PanTool\"},{\"attributes\":{},\"id\":\"6328\",\"type\":\"UnionRenderers\"},{\"attributes\":{\"items\":[{\"id\":\"6309\",\"type\":\"LegendItem\"},{\"id\":\"6330\",\"type\":\"LegendItem\"}],\"location\":\"bottom_left\"},\"id\":\"6308\",\"type\":\"Legend\"},{\"attributes\":{\"line_color\":\"red\",\"line_width\":2,\"x\":{\"field\":\"x\"},\"y\":{\"field\":\"y\"}},\"id\":\"6298\",\"type\":\"Line\"},{\"attributes\":{},\"id\":\"6329\",\"type\":\"Selection\"},{\"attributes\":{\"fill_alpha\":{\"value\":0.1},\"fill_color\":{\"value\":\"#1f77b4\"},\"line_alpha\":{\"value\":0.1},\"line_color\":{\"value\":\"#1f77b4\"},\"line_width\":{\"value\":3},\"x\":{\"field\":\"x\"},\"y\":{\"field\":\"y\"}},\"id\":\"6312\",\"type\":\"Circle\"},{\"attributes\":{\"data_source\":{\"id\":\"6297\",\"type\":\"ColumnDataSource\"},\"glyph\":{\"id\":\"6298\",\"type\":\"Line\"},\"hover_glyph\":null,\"muted_glyph\":null,\"nonselection_glyph\":{\"id\":\"6299\",\"type\":\"Line\"},\"selection_glyph\":null,\"view\":{\"id\":\"6301\",\"type\":\"CDSView\"}},\"id\":\"6300\",\"type\":\"GlyphRenderer\"},{\"attributes\":{\"callback\":null,\"data\":{\"x\":[\"2000\",\"2001\",\"2002\",\"2003\",\"2004\",\"2005\",\"2006\",\"2007\",\"2008\",\"2009\",\"2010\",\"2011\",\"2012\",\"2013\",\"2014\",\"2015\",\"2016\",\"2017\"],\"y\":[715.2447987144993,691.6849041419641,673.4892479999546,651.0563817071164,625.5069049458828,592.7740014378311,564.7764525894733,540.1215038192421,519.2159647732941,500.21556542920393,481.30634910908856,463.88510804587,448.827847164424,434.57010999810467,422.4587882882479,406.7932602988281,392.5254468961425,380.5719673986561]},\"selected\":{\"id\":\"6329\",\"type\":\"Selection\"},\"selection_policy\":{\"id\":\"6328\",\"type\":\"UnionRenderers\"}},\"id\":\"6310\",\"type\":\"ColumnDataSource\"},{\"attributes\":{},\"id\":\"6327\",\"type\":\"Selection\"},{\"attributes\":{\"callback\":null,\"tooltips\":\"\\n        <div style=padding=5px>Year:@x</div>\\n        <div style=padding=5px>Value:@y</div>\\n        \"},\"id\":\"6336\",\"type\":\"HoverTool\"},{\"attributes\":{\"line_color\":\"blue\",\"line_width\":2,\"x\":{\"field\":\"x\"},\"y\":{\"field\":\"y\"}},\"id\":\"6316\",\"type\":\"Line\"},{\"attributes\":{},\"id\":\"6272\",\"type\":\"LinearScale\"},{\"attributes\":{\"callback\":null},\"id\":\"6266\",\"type\":\"DataRange1d\"},{\"attributes\":{\"source\":{\"id\":\"6297\",\"type\":\"ColumnDataSource\"}},\"id\":\"6301\",\"type\":\"CDSView\"},{\"attributes\":{},\"id\":\"6611\",\"type\":\"Selection\"},{\"attributes\":{\"data_source\":{\"id\":\"6310\",\"type\":\"ColumnDataSource\"},\"glyph\":{\"id\":\"6311\",\"type\":\"Circle\"},\"hover_glyph\":null,\"muted_glyph\":null,\"nonselection_glyph\":{\"id\":\"6312\",\"type\":\"Circle\"},\"selection_glyph\":null,\"view\":{\"id\":\"6314\",\"type\":\"CDSView\"}},\"id\":\"6313\",\"type\":\"GlyphRenderer\"},{\"attributes\":{\"source\":{\"id\":\"6331\",\"type\":\"ColumnDataSource\"}},\"id\":\"6335\",\"type\":\"CDSView\"},{\"attributes\":{},\"id\":\"6275\",\"type\":\"BasicTicker\"},{\"attributes\":{},\"id\":\"6326\",\"type\":\"UnionRenderers\"},{\"attributes\":{\"source\":{\"id\":\"6310\",\"type\":\"ColumnDataSource\"}},\"id\":\"6314\",\"type\":\"CDSView\"},{\"attributes\":{\"fill_color\":{\"value\":\"red\"},\"line_color\":{\"value\":\"red\"},\"line_width\":{\"value\":3},\"x\":{\"field\":\"x\"},\"y\":{\"field\":\"y\"}},\"id\":\"6311\",\"type\":\"Circle\"},{\"attributes\":{},\"id\":\"6289\",\"type\":\"HelpTool\"},{\"attributes\":{},\"id\":\"6288\",\"type\":\"ResetTool\"},{\"attributes\":{\"label\":{\"value\":\"LDCs\"},\"renderers\":[{\"id\":\"6300\",\"type\":\"GlyphRenderer\"}]},\"id\":\"6309\",\"type\":\"LegendItem\"},{\"attributes\":{\"bottom_units\":\"screen\",\"fill_alpha\":{\"value\":0.5},\"fill_color\":{\"value\":\"lightgrey\"},\"left_units\":\"screen\",\"level\":\"overlay\",\"line_alpha\":{\"value\":1.0},\"line_color\":{\"value\":\"black\"},\"line_dash\":[4,4],\"line_width\":{\"value\":2},\"render_mode\":\"css\",\"right_units\":\"screen\",\"top_units\":\"screen\"},\"id\":\"6307\",\"type\":\"BoxAnnotation\"},{\"attributes\":{\"overlay\":{\"id\":\"6307\",\"type\":\"BoxAnnotation\"}},\"id\":\"6286\",\"type\":\"BoxZoomTool\"},{\"attributes\":{},\"id\":\"6610\",\"type\":\"UnionRenderers\"},{\"attributes\":{},\"id\":\"6608\",\"type\":\"UnionRenderers\"},{\"attributes\":{\"active_drag\":\"auto\",\"active_inspect\":\"auto\",\"active_multi\":null,\"active_scroll\":\"auto\",\"active_tap\":\"auto\",\"tools\":[{\"id\":\"6284\",\"type\":\"PanTool\"},{\"id\":\"6285\",\"type\":\"WheelZoomTool\"},{\"id\":\"6286\",\"type\":\"BoxZoomTool\"},{\"id\":\"6287\",\"type\":\"SaveTool\"},{\"id\":\"6288\",\"type\":\"ResetTool\"},{\"id\":\"6289\",\"type\":\"HelpTool\"},{\"id\":\"6336\",\"type\":\"HoverTool\"}]},\"id\":\"6290\",\"type\":\"Toolbar\"},{\"attributes\":{\"callback\":null,\"data\":{\"x\":[\"2000\",\"2001\",\"2002\",\"2003\",\"2004\",\"2005\",\"2006\",\"2007\",\"2008\",\"2009\",\"2010\",\"2011\",\"2012\",\"2013\",\"2014\",\"2015\",\"2016\",\"2017\"],\"y\":[219.28408588120277,213.48414800134037,206.41811006155564,200.67120038874455,194.22090384430567,186.45995905793217,179.47945880804642,172.69824687103215,167.14239880717736,161.17966398798256,155.12810024875614,149.4076724816034,144.52542353326865,140.4374830912562,137.01364916667524,133.5566778030908,129.90816344064564,127.82152219368795]},\"selected\":{\"id\":\"6611\",\"type\":\"Selection\"},\"selection_policy\":{\"id\":\"6610\",\"type\":\"UnionRenderers\"}},\"id\":\"6331\",\"type\":\"ColumnDataSource\"},{\"attributes\":{\"label\":{\"value\":\"Developing excluding LDCs\"},\"renderers\":[{\"id\":\"6318\",\"type\":\"GlyphRenderer\"}]},\"id\":\"6330\",\"type\":\"LegendItem\"},{\"attributes\":{},\"id\":\"6270\",\"type\":\"LinearScale\"},{\"attributes\":{\"callback\":null,\"data\":{\"x\":[\"2000\",\"2001\",\"2002\",\"2003\",\"2004\",\"2005\",\"2006\",\"2007\",\"2008\",\"2009\",\"2010\",\"2011\",\"2012\",\"2013\",\"2014\",\"2015\",\"2016\",\"2017\"],\"y\":[715.2447987144993,691.6849041419641,673.4892479999546,651.0563817071164,625.5069049458828,592.7740014378311,564.7764525894733,540.1215038192421,519.2159647732941,500.21556542920393,481.30634910908856,463.88510804587,448.827847164424,434.57010999810467,422.4587882882479,406.7932602988281,392.5254468961425,380.5719673986561]},\"selected\":{\"id\":\"6327\",\"type\":\"Selection\"},\"selection_policy\":{\"id\":\"6326\",\"type\":\"UnionRenderers\"}},\"id\":\"6297\",\"type\":\"ColumnDataSource\"},{\"attributes\":{\"callback\":null,\"data\":{\"x\":[\"2000\",\"2001\",\"2002\",\"2003\",\"2004\",\"2005\",\"2006\",\"2007\",\"2008\",\"2009\",\"2010\",\"2011\",\"2012\",\"2013\",\"2014\",\"2015\",\"2016\",\"2017\"],\"y\":[219.28408588120277,213.48414800134037,206.41811006155564,200.67120038874455,194.22090384430567,186.45995905793217,179.47945880804642,172.69824687103215,167.14239880717736,161.17966398798256,155.12810024875614,149.4076724816034,144.52542353326865,140.4374830912562,137.01364916667524,133.5566778030908,129.90816344064564,127.82152219368795]},\"selected\":{\"id\":\"6609\",\"type\":\"Selection\"},\"selection_policy\":{\"id\":\"6608\",\"type\":\"UnionRenderers\"}},\"id\":\"6315\",\"type\":\"ColumnDataSource\"},{\"attributes\":{},\"id\":\"6287\",\"type\":\"SaveTool\"},{\"attributes\":{\"callback\":null},\"id\":\"6268\",\"type\":\"DataRange1d\"},{\"attributes\":{\"fill_alpha\":{\"value\":0.1},\"fill_color\":{\"value\":\"#1f77b4\"},\"line_alpha\":{\"value\":0.1},\"line_color\":{\"value\":\"#1f77b4\"},\"line_width\":{\"value\":3},\"x\":{\"field\":\"x\"},\"y\":{\"field\":\"y\"}},\"id\":\"6333\",\"type\":\"Circle\"},{\"attributes\":{\"axis_label\":\"Percentage\",\"formatter\":{\"id\":\"6304\",\"type\":\"BasicTickFormatter\"},\"ticker\":{\"id\":\"6280\",\"type\":\"BasicTicker\"}},\"id\":\"6279\",\"type\":\"LinearAxis\"},{\"attributes\":{},\"id\":\"6306\",\"type\":\"BasicTickFormatter\"},{\"attributes\":{},\"id\":\"6280\",\"type\":\"BasicTicker\"},{\"attributes\":{\"source\":{\"id\":\"6315\",\"type\":\"ColumnDataSource\"}},\"id\":\"6319\",\"type\":\"CDSView\"},{\"attributes\":{\"dimension\":1,\"ticker\":{\"id\":\"6280\",\"type\":\"BasicTicker\"}},\"id\":\"6283\",\"type\":\"Grid\"},{\"attributes\":{},\"id\":\"6609\",\"type\":\"Selection\"},{\"attributes\":{\"data_source\":{\"id\":\"6315\",\"type\":\"ColumnDataSource\"},\"glyph\":{\"id\":\"6316\",\"type\":\"Line\"},\"hover_glyph\":null,\"muted_glyph\":null,\"nonselection_glyph\":{\"id\":\"6317\",\"type\":\"Line\"},\"selection_glyph\":null,\"view\":{\"id\":\"6319\",\"type\":\"CDSView\"}},\"id\":\"6318\",\"type\":\"GlyphRenderer\"},{\"attributes\":{\"text\":\"Maternal mortality ratio (modeled estimate, per 100,000 live births) weighted against Population, female\"},\"id\":\"6264\",\"type\":\"Title\"},{\"attributes\":{},\"id\":\"6285\",\"type\":\"WheelZoomTool\"},{\"attributes\":{\"data_source\":{\"id\":\"6331\",\"type\":\"ColumnDataSource\"},\"glyph\":{\"id\":\"6332\",\"type\":\"Circle\"},\"hover_glyph\":null,\"muted_glyph\":null,\"nonselection_glyph\":{\"id\":\"6333\",\"type\":\"Circle\"},\"selection_glyph\":null,\"view\":{\"id\":\"6335\",\"type\":\"CDSView\"}},\"id\":\"6334\",\"type\":\"GlyphRenderer\"}],\"root_ids\":[\"6263\"]},\"title\":\"Bokeh Application\",\"version\":\"1.3.4\"}};\n",
       "  var render_items = [{\"docid\":\"210f4372-f00b-4322-aa9e-57ba532f280e\",\"roots\":{\"6263\":\"603b718d-91e1-401e-8b15-d1674a083384\"}}];\n",
       "  root.Bokeh.embed.embed_items_notebook(docs_json, render_items);\n",
       "\n",
       "  }\n",
       "  if (root.Bokeh !== undefined) {\n",
       "    embed_document(root);\n",
       "  } else {\n",
       "    var attempts = 0;\n",
       "    var timer = setInterval(function(root) {\n",
       "      if (root.Bokeh !== undefined) {\n",
       "        embed_document(root);\n",
       "        clearInterval(timer);\n",
       "      }\n",
       "      attempts++;\n",
       "      if (attempts > 100) {\n",
       "        console.log(\"Bokeh: ERROR: Unable to run BokehJS code because BokehJS library is missing\");\n",
       "        clearInterval(timer);\n",
       "      }\n",
       "    }, 10, root)\n",
       "  }\n",
       "})(window);"
      ],
      "application/vnd.bokehjs_exec.v0+json": ""
     },
     "metadata": {
      "application/vnd.bokehjs_exec.v0+json": {
       "id": "6263"
      }
     },
     "output_type": "display_data"
    }
   ],
   "source": [
    "# Labor force\n",
    "years = list(map(str, list(range(2000,2018))))\n",
    "result = show_weighted_average(years, 'SH.STA.MMRT', 'SP.POP.TOTL.FE.IN', ['LDCs', 'Developing excluding LDCs'])"
   ]
  },
  {
   "cell_type": "code",
   "execution_count": null,
   "metadata": {},
   "outputs": [],
   "source": []
  }
 ],
 "metadata": {
  "celltoolbar": "Slideshow",
  "kernelspec": {
   "display_name": "Python 3",
   "language": "python",
   "name": "python3"
  },
  "language_info": {
   "codemirror_mode": {
    "name": "ipython",
    "version": 3
   },
   "file_extension": ".py",
   "mimetype": "text/x-python",
   "name": "python",
   "nbconvert_exporter": "python",
   "pygments_lexer": "ipython3",
   "version": "3.7.1"
  }
 },
 "nbformat": 4,
 "nbformat_minor": 2
}
