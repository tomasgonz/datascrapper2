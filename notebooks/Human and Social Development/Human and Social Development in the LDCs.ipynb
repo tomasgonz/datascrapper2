{
 "cells": [
  {
   "cell_type": "code",
   "execution_count": 1,
   "metadata": {
    "ExecuteTime": {
     "end_time": "2019-10-25T14:23:46.481587Z",
     "start_time": "2019-10-25T14:23:45.039173Z"
    },
    "slideshow": {
     "slide_type": "skip"
    }
   },
   "outputs": [
    {
     "data": {
      "text/html": [
       "\n",
       "    <div class=\"bk-root\">\n",
       "        <a href=\"https://bokeh.pydata.org\" target=\"_blank\" class=\"bk-logo bk-logo-small bk-logo-notebook\"></a>\n",
       "        <span id=\"1001\">Loading BokehJS ...</span>\n",
       "    </div>"
      ]
     },
     "metadata": {},
     "output_type": "display_data"
    },
    {
     "data": {
      "application/javascript": [
       "\n",
       "(function(root) {\n",
       "  function now() {\n",
       "    return new Date();\n",
       "  }\n",
       "\n",
       "  var force = true;\n",
       "\n",
       "  if (typeof root._bokeh_onload_callbacks === \"undefined\" || force === true) {\n",
       "    root._bokeh_onload_callbacks = [];\n",
       "    root._bokeh_is_loading = undefined;\n",
       "  }\n",
       "\n",
       "  var JS_MIME_TYPE = 'application/javascript';\n",
       "  var HTML_MIME_TYPE = 'text/html';\n",
       "  var EXEC_MIME_TYPE = 'application/vnd.bokehjs_exec.v0+json';\n",
       "  var CLASS_NAME = 'output_bokeh rendered_html';\n",
       "\n",
       "  /**\n",
       "   * Render data to the DOM node\n",
       "   */\n",
       "  function render(props, node) {\n",
       "    var script = document.createElement(\"script\");\n",
       "    node.appendChild(script);\n",
       "  }\n",
       "\n",
       "  /**\n",
       "   * Handle when an output is cleared or removed\n",
       "   */\n",
       "  function handleClearOutput(event, handle) {\n",
       "    var cell = handle.cell;\n",
       "\n",
       "    var id = cell.output_area._bokeh_element_id;\n",
       "    var server_id = cell.output_area._bokeh_server_id;\n",
       "    // Clean up Bokeh references\n",
       "    if (id != null && id in Bokeh.index) {\n",
       "      Bokeh.index[id].model.document.clear();\n",
       "      delete Bokeh.index[id];\n",
       "    }\n",
       "\n",
       "    if (server_id !== undefined) {\n",
       "      // Clean up Bokeh references\n",
       "      var cmd = \"from bokeh.io.state import curstate; print(curstate().uuid_to_server['\" + server_id + \"'].get_sessions()[0].document.roots[0]._id)\";\n",
       "      cell.notebook.kernel.execute(cmd, {\n",
       "        iopub: {\n",
       "          output: function(msg) {\n",
       "            var id = msg.content.text.trim();\n",
       "            if (id in Bokeh.index) {\n",
       "              Bokeh.index[id].model.document.clear();\n",
       "              delete Bokeh.index[id];\n",
       "            }\n",
       "          }\n",
       "        }\n",
       "      });\n",
       "      // Destroy server and session\n",
       "      var cmd = \"import bokeh.io.notebook as ion; ion.destroy_server('\" + server_id + \"')\";\n",
       "      cell.notebook.kernel.execute(cmd);\n",
       "    }\n",
       "  }\n",
       "\n",
       "  /**\n",
       "   * Handle when a new output is added\n",
       "   */\n",
       "  function handleAddOutput(event, handle) {\n",
       "    var output_area = handle.output_area;\n",
       "    var output = handle.output;\n",
       "\n",
       "    // limit handleAddOutput to display_data with EXEC_MIME_TYPE content only\n",
       "    if ((output.output_type != \"display_data\") || (!output.data.hasOwnProperty(EXEC_MIME_TYPE))) {\n",
       "      return\n",
       "    }\n",
       "\n",
       "    var toinsert = output_area.element.find(\".\" + CLASS_NAME.split(' ')[0]);\n",
       "\n",
       "    if (output.metadata[EXEC_MIME_TYPE][\"id\"] !== undefined) {\n",
       "      toinsert[toinsert.length - 1].firstChild.textContent = output.data[JS_MIME_TYPE];\n",
       "      // store reference to embed id on output_area\n",
       "      output_area._bokeh_element_id = output.metadata[EXEC_MIME_TYPE][\"id\"];\n",
       "    }\n",
       "    if (output.metadata[EXEC_MIME_TYPE][\"server_id\"] !== undefined) {\n",
       "      var bk_div = document.createElement(\"div\");\n",
       "      bk_div.innerHTML = output.data[HTML_MIME_TYPE];\n",
       "      var script_attrs = bk_div.children[0].attributes;\n",
       "      for (var i = 0; i < script_attrs.length; i++) {\n",
       "        toinsert[toinsert.length - 1].firstChild.setAttribute(script_attrs[i].name, script_attrs[i].value);\n",
       "      }\n",
       "      // store reference to server id on output_area\n",
       "      output_area._bokeh_server_id = output.metadata[EXEC_MIME_TYPE][\"server_id\"];\n",
       "    }\n",
       "  }\n",
       "\n",
       "  function register_renderer(events, OutputArea) {\n",
       "\n",
       "    function append_mime(data, metadata, element) {\n",
       "      // create a DOM node to render to\n",
       "      var toinsert = this.create_output_subarea(\n",
       "        metadata,\n",
       "        CLASS_NAME,\n",
       "        EXEC_MIME_TYPE\n",
       "      );\n",
       "      this.keyboard_manager.register_events(toinsert);\n",
       "      // Render to node\n",
       "      var props = {data: data, metadata: metadata[EXEC_MIME_TYPE]};\n",
       "      render(props, toinsert[toinsert.length - 1]);\n",
       "      element.append(toinsert);\n",
       "      return toinsert\n",
       "    }\n",
       "\n",
       "    /* Handle when an output is cleared or removed */\n",
       "    events.on('clear_output.CodeCell', handleClearOutput);\n",
       "    events.on('delete.Cell', handleClearOutput);\n",
       "\n",
       "    /* Handle when a new output is added */\n",
       "    events.on('output_added.OutputArea', handleAddOutput);\n",
       "\n",
       "    /**\n",
       "     * Register the mime type and append_mime function with output_area\n",
       "     */\n",
       "    OutputArea.prototype.register_mime_type(EXEC_MIME_TYPE, append_mime, {\n",
       "      /* Is output safe? */\n",
       "      safe: true,\n",
       "      /* Index of renderer in `output_area.display_order` */\n",
       "      index: 0\n",
       "    });\n",
       "  }\n",
       "\n",
       "  // register the mime type if in Jupyter Notebook environment and previously unregistered\n",
       "  if (root.Jupyter !== undefined) {\n",
       "    var events = require('base/js/events');\n",
       "    var OutputArea = require('notebook/js/outputarea').OutputArea;\n",
       "\n",
       "    if (OutputArea.prototype.mime_types().indexOf(EXEC_MIME_TYPE) == -1) {\n",
       "      register_renderer(events, OutputArea);\n",
       "    }\n",
       "  }\n",
       "\n",
       "  \n",
       "  if (typeof (root._bokeh_timeout) === \"undefined\" || force === true) {\n",
       "    root._bokeh_timeout = Date.now() + 5000;\n",
       "    root._bokeh_failed_load = false;\n",
       "  }\n",
       "\n",
       "  var NB_LOAD_WARNING = {'data': {'text/html':\n",
       "     \"<div style='background-color: #fdd'>\\n\"+\n",
       "     \"<p>\\n\"+\n",
       "     \"BokehJS does not appear to have successfully loaded. If loading BokehJS from CDN, this \\n\"+\n",
       "     \"may be due to a slow or bad network connection. Possible fixes:\\n\"+\n",
       "     \"</p>\\n\"+\n",
       "     \"<ul>\\n\"+\n",
       "     \"<li>re-rerun `output_notebook()` to attempt to load from CDN again, or</li>\\n\"+\n",
       "     \"<li>use INLINE resources instead, as so:</li>\\n\"+\n",
       "     \"</ul>\\n\"+\n",
       "     \"<code>\\n\"+\n",
       "     \"from bokeh.resources import INLINE\\n\"+\n",
       "     \"output_notebook(resources=INLINE)\\n\"+\n",
       "     \"</code>\\n\"+\n",
       "     \"</div>\"}};\n",
       "\n",
       "  function display_loaded() {\n",
       "    var el = document.getElementById(\"1001\");\n",
       "    if (el != null) {\n",
       "      el.textContent = \"BokehJS is loading...\";\n",
       "    }\n",
       "    if (root.Bokeh !== undefined) {\n",
       "      if (el != null) {\n",
       "        el.textContent = \"BokehJS \" + root.Bokeh.version + \" successfully loaded.\";\n",
       "      }\n",
       "    } else if (Date.now() < root._bokeh_timeout) {\n",
       "      setTimeout(display_loaded, 100)\n",
       "    }\n",
       "  }\n",
       "\n",
       "\n",
       "  function run_callbacks() {\n",
       "    try {\n",
       "      root._bokeh_onload_callbacks.forEach(function(callback) {\n",
       "        if (callback != null)\n",
       "          callback();\n",
       "      });\n",
       "    } finally {\n",
       "      delete root._bokeh_onload_callbacks\n",
       "    }\n",
       "    console.debug(\"Bokeh: all callbacks have finished\");\n",
       "  }\n",
       "\n",
       "  function load_libs(css_urls, js_urls, callback) {\n",
       "    if (css_urls == null) css_urls = [];\n",
       "    if (js_urls == null) js_urls = [];\n",
       "\n",
       "    root._bokeh_onload_callbacks.push(callback);\n",
       "    if (root._bokeh_is_loading > 0) {\n",
       "      console.debug(\"Bokeh: BokehJS is being loaded, scheduling callback at\", now());\n",
       "      return null;\n",
       "    }\n",
       "    if (js_urls == null || js_urls.length === 0) {\n",
       "      run_callbacks();\n",
       "      return null;\n",
       "    }\n",
       "    console.debug(\"Bokeh: BokehJS not loaded, scheduling load and callback at\", now());\n",
       "    root._bokeh_is_loading = css_urls.length + js_urls.length;\n",
       "\n",
       "    function on_load() {\n",
       "      root._bokeh_is_loading--;\n",
       "      if (root._bokeh_is_loading === 0) {\n",
       "        console.debug(\"Bokeh: all BokehJS libraries/stylesheets loaded\");\n",
       "        run_callbacks()\n",
       "      }\n",
       "    }\n",
       "\n",
       "    function on_error() {\n",
       "      console.error(\"failed to load \" + url);\n",
       "    }\n",
       "\n",
       "    for (var i = 0; i < css_urls.length; i++) {\n",
       "      var url = css_urls[i];\n",
       "      const element = document.createElement(\"link\");\n",
       "      element.onload = on_load;\n",
       "      element.onerror = on_error;\n",
       "      element.rel = \"stylesheet\";\n",
       "      element.type = \"text/css\";\n",
       "      element.href = url;\n",
       "      console.debug(\"Bokeh: injecting link tag for BokehJS stylesheet: \", url);\n",
       "      document.body.appendChild(element);\n",
       "    }\n",
       "\n",
       "    for (var i = 0; i < js_urls.length; i++) {\n",
       "      var url = js_urls[i];\n",
       "      var element = document.createElement('script');\n",
       "      element.onload = on_load;\n",
       "      element.onerror = on_error;\n",
       "      element.async = false;\n",
       "      element.src = url;\n",
       "      console.debug(\"Bokeh: injecting script tag for BokehJS library: \", url);\n",
       "      document.head.appendChild(element);\n",
       "    }\n",
       "  };var element = document.getElementById(\"1001\");\n",
       "  if (element == null) {\n",
       "    console.error(\"Bokeh: ERROR: autoload.js configured with elementid '1001' but no matching script tag was found. \")\n",
       "    return false;\n",
       "  }\n",
       "\n",
       "  function inject_raw_css(css) {\n",
       "    const element = document.createElement(\"style\");\n",
       "    element.appendChild(document.createTextNode(css));\n",
       "    document.body.appendChild(element);\n",
       "  }\n",
       "\n",
       "  var js_urls = [\"https://cdn.pydata.org/bokeh/release/bokeh-1.3.4.min.js\", \"https://cdn.pydata.org/bokeh/release/bokeh-widgets-1.3.4.min.js\", \"https://cdn.pydata.org/bokeh/release/bokeh-tables-1.3.4.min.js\", \"https://cdn.pydata.org/bokeh/release/bokeh-gl-1.3.4.min.js\"];\n",
       "  var css_urls = [];\n",
       "\n",
       "  var inline_js = [\n",
       "    function(Bokeh) {\n",
       "      Bokeh.set_log_level(\"info\");\n",
       "    },\n",
       "    \n",
       "    function(Bokeh) {\n",
       "      \n",
       "    },\n",
       "    function(Bokeh) {} // ensure no trailing comma for IE\n",
       "  ];\n",
       "\n",
       "  function run_inline_js() {\n",
       "    \n",
       "    if ((root.Bokeh !== undefined) || (force === true)) {\n",
       "      for (var i = 0; i < inline_js.length; i++) {\n",
       "        inline_js[i].call(root, root.Bokeh);\n",
       "      }if (force === true) {\n",
       "        display_loaded();\n",
       "      }} else if (Date.now() < root._bokeh_timeout) {\n",
       "      setTimeout(run_inline_js, 100);\n",
       "    } else if (!root._bokeh_failed_load) {\n",
       "      console.log(\"Bokeh: BokehJS failed to load within specified timeout.\");\n",
       "      root._bokeh_failed_load = true;\n",
       "    } else if (force !== true) {\n",
       "      var cell = $(document.getElementById(\"1001\")).parents('.cell').data().cell;\n",
       "      cell.output_area.append_execute_result(NB_LOAD_WARNING)\n",
       "    }\n",
       "\n",
       "  }\n",
       "\n",
       "  if (root._bokeh_is_loading === 0) {\n",
       "    console.debug(\"Bokeh: BokehJS loaded, going straight to plotting\");\n",
       "    run_inline_js();\n",
       "  } else {\n",
       "    load_libs(css_urls, js_urls, function() {\n",
       "      console.debug(\"Bokeh: BokehJS plotting callback run at\", now());\n",
       "      run_inline_js();\n",
       "    });\n",
       "  }\n",
       "}(window));"
      ],
      "application/vnd.bokehjs_load.v0+json": "\n(function(root) {\n  function now() {\n    return new Date();\n  }\n\n  var force = true;\n\n  if (typeof root._bokeh_onload_callbacks === \"undefined\" || force === true) {\n    root._bokeh_onload_callbacks = [];\n    root._bokeh_is_loading = undefined;\n  }\n\n  \n\n  \n  if (typeof (root._bokeh_timeout) === \"undefined\" || force === true) {\n    root._bokeh_timeout = Date.now() + 5000;\n    root._bokeh_failed_load = false;\n  }\n\n  var NB_LOAD_WARNING = {'data': {'text/html':\n     \"<div style='background-color: #fdd'>\\n\"+\n     \"<p>\\n\"+\n     \"BokehJS does not appear to have successfully loaded. If loading BokehJS from CDN, this \\n\"+\n     \"may be due to a slow or bad network connection. Possible fixes:\\n\"+\n     \"</p>\\n\"+\n     \"<ul>\\n\"+\n     \"<li>re-rerun `output_notebook()` to attempt to load from CDN again, or</li>\\n\"+\n     \"<li>use INLINE resources instead, as so:</li>\\n\"+\n     \"</ul>\\n\"+\n     \"<code>\\n\"+\n     \"from bokeh.resources import INLINE\\n\"+\n     \"output_notebook(resources=INLINE)\\n\"+\n     \"</code>\\n\"+\n     \"</div>\"}};\n\n  function display_loaded() {\n    var el = document.getElementById(\"1001\");\n    if (el != null) {\n      el.textContent = \"BokehJS is loading...\";\n    }\n    if (root.Bokeh !== undefined) {\n      if (el != null) {\n        el.textContent = \"BokehJS \" + root.Bokeh.version + \" successfully loaded.\";\n      }\n    } else if (Date.now() < root._bokeh_timeout) {\n      setTimeout(display_loaded, 100)\n    }\n  }\n\n\n  function run_callbacks() {\n    try {\n      root._bokeh_onload_callbacks.forEach(function(callback) {\n        if (callback != null)\n          callback();\n      });\n    } finally {\n      delete root._bokeh_onload_callbacks\n    }\n    console.debug(\"Bokeh: all callbacks have finished\");\n  }\n\n  function load_libs(css_urls, js_urls, callback) {\n    if (css_urls == null) css_urls = [];\n    if (js_urls == null) js_urls = [];\n\n    root._bokeh_onload_callbacks.push(callback);\n    if (root._bokeh_is_loading > 0) {\n      console.debug(\"Bokeh: BokehJS is being loaded, scheduling callback at\", now());\n      return null;\n    }\n    if (js_urls == null || js_urls.length === 0) {\n      run_callbacks();\n      return null;\n    }\n    console.debug(\"Bokeh: BokehJS not loaded, scheduling load and callback at\", now());\n    root._bokeh_is_loading = css_urls.length + js_urls.length;\n\n    function on_load() {\n      root._bokeh_is_loading--;\n      if (root._bokeh_is_loading === 0) {\n        console.debug(\"Bokeh: all BokehJS libraries/stylesheets loaded\");\n        run_callbacks()\n      }\n    }\n\n    function on_error() {\n      console.error(\"failed to load \" + url);\n    }\n\n    for (var i = 0; i < css_urls.length; i++) {\n      var url = css_urls[i];\n      const element = document.createElement(\"link\");\n      element.onload = on_load;\n      element.onerror = on_error;\n      element.rel = \"stylesheet\";\n      element.type = \"text/css\";\n      element.href = url;\n      console.debug(\"Bokeh: injecting link tag for BokehJS stylesheet: \", url);\n      document.body.appendChild(element);\n    }\n\n    for (var i = 0; i < js_urls.length; i++) {\n      var url = js_urls[i];\n      var element = document.createElement('script');\n      element.onload = on_load;\n      element.onerror = on_error;\n      element.async = false;\n      element.src = url;\n      console.debug(\"Bokeh: injecting script tag for BokehJS library: \", url);\n      document.head.appendChild(element);\n    }\n  };var element = document.getElementById(\"1001\");\n  if (element == null) {\n    console.error(\"Bokeh: ERROR: autoload.js configured with elementid '1001' but no matching script tag was found. \")\n    return false;\n  }\n\n  function inject_raw_css(css) {\n    const element = document.createElement(\"style\");\n    element.appendChild(document.createTextNode(css));\n    document.body.appendChild(element);\n  }\n\n  var js_urls = [\"https://cdn.pydata.org/bokeh/release/bokeh-1.3.4.min.js\", \"https://cdn.pydata.org/bokeh/release/bokeh-widgets-1.3.4.min.js\", \"https://cdn.pydata.org/bokeh/release/bokeh-tables-1.3.4.min.js\", \"https://cdn.pydata.org/bokeh/release/bokeh-gl-1.3.4.min.js\"];\n  var css_urls = [];\n\n  var inline_js = [\n    function(Bokeh) {\n      Bokeh.set_log_level(\"info\");\n    },\n    \n    function(Bokeh) {\n      \n    },\n    function(Bokeh) {} // ensure no trailing comma for IE\n  ];\n\n  function run_inline_js() {\n    \n    if ((root.Bokeh !== undefined) || (force === true)) {\n      for (var i = 0; i < inline_js.length; i++) {\n        inline_js[i].call(root, root.Bokeh);\n      }if (force === true) {\n        display_loaded();\n      }} else if (Date.now() < root._bokeh_timeout) {\n      setTimeout(run_inline_js, 100);\n    } else if (!root._bokeh_failed_load) {\n      console.log(\"Bokeh: BokehJS failed to load within specified timeout.\");\n      root._bokeh_failed_load = true;\n    } else if (force !== true) {\n      var cell = $(document.getElementById(\"1001\")).parents('.cell').data().cell;\n      cell.output_area.append_execute_result(NB_LOAD_WARNING)\n    }\n\n  }\n\n  if (root._bokeh_is_loading === 0) {\n    console.debug(\"Bokeh: BokehJS loaded, going straight to plotting\");\n    run_inline_js();\n  } else {\n    load_libs(css_urls, js_urls, function() {\n      console.debug(\"Bokeh: BokehJS plotting callback run at\", now());\n      run_inline_js();\n    });\n  }\n}(window));"
     },
     "metadata": {},
     "output_type": "display_data"
    }
   ],
   "source": [
    "import sys\n",
    "sys.path.append(\"../../\")\n",
    "from data.Frame import Frame\n",
    "from bk import show_weighted_average, show_group_total, get_pandas_dataframe, line_chart, scatter_plot\n",
    "from bokeh.io import output_notebook\n",
    "from bokeh.plotting import figure, output_file, show, reset_output\n",
    "from sources.unpd.indicators import get_projection_by_groups as gpp\n",
    "from sources.cdp.indicators import get_indicators as get_indicators_cdp_2018\n",
    "from sources.worldbank.datatable import get_data_table as get_wb_tb\n",
    "reset_output()\n",
    "output_notebook()"
   ]
  },
  {
   "cell_type": "markdown",
   "metadata": {
    "slideshow": {
     "slide_type": "slide"
    }
   },
   "source": [
    "# Human and Social development in the LDCs"
   ]
  },
  {
   "cell_type": "markdown",
   "metadata": {
    "slideshow": {
     "slide_type": "slide"
    }
   },
   "source": [
    "# The Least Developed Countries\n",
    "\n",
    "+ The category of the least developed countries was created in 1971\n",
    "\n",
    "+ Least developed countries (LDCs) are low-income countries confronting severe structural impediments to sustainable development. They are highly vulnerable to economic and environmental shocks and have low levels of human assets.\n"
   ]
  },
  {
   "cell_type": "markdown",
   "metadata": {
    "slideshow": {
     "slide_type": "slide"
    }
   },
   "source": [
    "Least developed countries (LDCs) are **low-income countries** confronting severe **structural** impediments to sustainable development. They are highly **vulnerable to economic and environmental shocks** and have **low levels of human assets**."
   ]
  },
  {
   "cell_type": "markdown",
   "metadata": {
    "slideshow": {
     "slide_type": "slide"
    }
   },
   "source": [
    "## The criteria to dentify LDCs\n",
    "The Committee for Development Policy has established three criteria for including and graduating countries from the category:\n",
    "    \n",
    "### The Economic Vulnerability Index (EVI)\n",
    "    \n",
    "### The Human Assets Index (HAI)\n",
    "\n",
    "### GNI per capita"
   ]
  },
  {
   "cell_type": "code",
   "execution_count": 2,
   "metadata": {
    "ExecuteTime": {
     "end_time": "2019-10-25T14:23:46.674809Z",
     "start_time": "2019-10-25T14:23:46.484107Z"
    },
    "slideshow": {
     "slide_type": "skip"
    }
   },
   "outputs": [],
   "source": [
    "cdp_data_2018 = get_indicators_cdp_2018(['LDCs'])\n",
    "entities = cdp_data_2018.get_column('entity').get_as_array()\n",
    "evi = cdp_data_2018.get_column('evi').get_as_array()\n",
    "hai = cdp_data_2018.get_column('hai').get_as_array()\n",
    "gni = cdp_data_2018.get_column('gni_per_capita_dollars').get_as_array()\n",
    "gni_normalized = [(x / sum(gni))*30 for x in gni]"
   ]
  },
  {
   "cell_type": "code",
   "execution_count": 3,
   "metadata": {
    "ExecuteTime": {
     "end_time": "2019-10-25T14:23:46.713931Z",
     "start_time": "2019-10-25T14:23:46.677516Z"
    },
    "slideshow": {
     "slide_type": "slide"
    }
   },
   "outputs": [
    {
     "data": {
      "text/html": [
       "\n",
       "\n",
       "\n",
       "\n",
       "\n",
       "\n",
       "  <div class=\"bk-root\" id=\"0b7c2057-16ca-41dc-bb3a-b08dc1d1fd4a\" data-root-id=\"1004\"></div>\n"
      ]
     },
     "metadata": {},
     "output_type": "display_data"
    },
    {
     "data": {
      "application/javascript": [
       "(function(root) {\n",
       "  function embed_document(root) {\n",
       "    \n",
       "  var docs_json = {\"13973b86-41b2-49bd-a50b-a12b9e266b04\":{\"roots\":{\"references\":[{\"attributes\":{\"below\":[{\"id\":\"1015\",\"type\":\"LinearAxis\"}],\"center\":[{\"id\":\"1019\",\"type\":\"Grid\"},{\"id\":\"1024\",\"type\":\"Grid\"},{\"id\":\"1033\",\"type\":\"LabelSet\"}],\"left\":[{\"id\":\"1020\",\"type\":\"LinearAxis\"}],\"plot_width\":950,\"renderers\":[{\"id\":\"1031\",\"type\":\"GlyphRenderer\"}],\"title\":{\"id\":\"1005\",\"type\":\"Title\"},\"toolbar\":{\"id\":\"1026\",\"type\":\"Toolbar\"},\"x_range\":{\"id\":\"1007\",\"type\":\"DataRange1d\"},\"x_scale\":{\"id\":\"1011\",\"type\":\"LinearScale\"},\"y_range\":{\"id\":\"1009\",\"type\":\"DataRange1d\"},\"y_scale\":{\"id\":\"1013\",\"type\":\"LinearScale\"}},\"id\":\"1004\",\"subtype\":\"Figure\",\"type\":\"Plot\"},{\"attributes\":{\"fill_alpha\":{\"value\":0.6},\"fill_color\":{\"value\":\"#1f77b4\"},\"line_color\":{\"value\":null},\"radius\":{\"field\":\"radii\",\"units\":\"data\"},\"x\":{\"field\":\"evi\"},\"y\":{\"field\":\"hai\"}},\"id\":\"1029\",\"type\":\"Circle\"},{\"attributes\":{},\"id\":\"1013\",\"type\":\"LinearScale\"},{\"attributes\":{\"callback\":null},\"id\":\"1007\",\"type\":\"DataRange1d\"},{\"attributes\":{\"axis_label\":\"EVI\",\"formatter\":{\"id\":\"1037\",\"type\":\"BasicTickFormatter\"},\"ticker\":{\"id\":\"1016\",\"type\":\"BasicTicker\"}},\"id\":\"1015\",\"type\":\"LinearAxis\"},{\"attributes\":{},\"id\":\"1040\",\"type\":\"Selection\"},{\"attributes\":{},\"id\":\"1011\",\"type\":\"LinearScale\"},{\"attributes\":{},\"id\":\"1016\",\"type\":\"BasicTicker\"},{\"attributes\":{\"axis_label\":\"HAI\",\"formatter\":{\"id\":\"1039\",\"type\":\"BasicTickFormatter\"},\"ticker\":{\"id\":\"1021\",\"type\":\"BasicTicker\"}},\"id\":\"1020\",\"type\":\"LinearAxis\"},{\"attributes\":{\"level\":\"glyph\",\"source\":{\"id\":\"1003\",\"type\":\"ColumnDataSource\"},\"text\":{\"field\":\"names\"},\"text_font_size\":{\"value\":\"8pt\"},\"x\":{\"field\":\"evi\"},\"x_offset\":{\"value\":5},\"y\":{\"field\":\"hai\"},\"y_offset\":{\"value\":5}},\"id\":\"1033\",\"type\":\"LabelSet\"},{\"attributes\":{\"ticker\":{\"id\":\"1016\",\"type\":\"BasicTicker\"}},\"id\":\"1019\",\"type\":\"Grid\"},{\"attributes\":{\"data_source\":{\"id\":\"1003\",\"type\":\"ColumnDataSource\"},\"glyph\":{\"id\":\"1029\",\"type\":\"Circle\"},\"hover_glyph\":null,\"muted_glyph\":null,\"nonselection_glyph\":{\"id\":\"1030\",\"type\":\"Circle\"},\"selection_glyph\":null,\"view\":{\"id\":\"1032\",\"type\":\"CDSView\"}},\"id\":\"1031\",\"type\":\"GlyphRenderer\"},{\"attributes\":{},\"id\":\"1021\",\"type\":\"BasicTicker\"},{\"attributes\":{\"fill_alpha\":{\"value\":0.1},\"fill_color\":{\"value\":\"#1f77b4\"},\"line_alpha\":{\"value\":0.1},\"line_color\":{\"value\":\"#1f77b4\"},\"radius\":{\"field\":\"radii\",\"units\":\"data\"},\"x\":{\"field\":\"evi\"},\"y\":{\"field\":\"hai\"}},\"id\":\"1030\",\"type\":\"Circle\"},{\"attributes\":{\"active_drag\":\"auto\",\"active_inspect\":\"auto\",\"active_multi\":null,\"active_scroll\":\"auto\",\"active_tap\":\"auto\",\"tools\":[{\"id\":\"1025\",\"type\":\"HoverTool\"}]},\"id\":\"1026\",\"type\":\"Toolbar\"},{\"attributes\":{\"callback\":null},\"id\":\"1025\",\"type\":\"HoverTool\"},{\"attributes\":{},\"id\":\"1041\",\"type\":\"UnionRenderers\"},{\"attributes\":{},\"id\":\"1037\",\"type\":\"BasicTickFormatter\"},{\"attributes\":{\"callback\":null,\"data\":{\"evi\":[39.31847499761291,36.757499031522215,25.21977531407407,34.32843983867595,36.26105903025079,38.24968188294886,44.53840537420615,34.75933730781097,33.55527518528004,52.43229442971872,52.38395723067039,27.237133266314615,36.329678101824925,54.70608523319488,32.09573717926084,72.15168677316157,30.163203421036275,52.38566801102522,30.553838443774744,73.69258065327526,42.02234466093909,53.203575960114186,37.845308176229935,47.1236284854542,36.7941622313397,39.91252075695854,36.7237686236129,31.7432961328469,28.422642129717293,35.255239686720145,36.377946784929456,41.23100272969866,33.44246330286905,51.563062215984765,51.90755365345187,34.725685139794926,49.214096687726894,56.79572845959256,28.338132621668773,56.01606076954609,31.718809204036635,27.90609781167721,46.9962786557694,38.63576320999087,40.46026103469391],\"hai\":[48.3698405313323,52.52043657551618,73.15064266822495,49.75421277291333,72.86608884522367,42.91698654581399,38.4582473052599,68.92528304696823,17.37091156051442,22.085484315685715,49.385256569573,41.87232303636952,58.02908229893985,42.893055780999646,45.30853361262692,51.82920387983884,39.48893995074097,41.716252662688056,47.97415181855695,83.96679690389746,61.572583924694506,37.23070426579468,54.53329453168444,52.522138892622166,43.106314630459046,46.940261858442696,45.8152514338928,68.47497037955749,71.21981923337259,35.374052152796644,54.97246497703989,86.00679852404463,57.12957161797068,27.395916767676766,74.78849047963382,16.65507946932967,53.03509118236097,66.63143020458574,61.82618003109269,90.13457842056366,50.23906690599287,56.02779180814835,78.51943490439294,59.22749709179137,58.594410552318735],\"names\":[\"Afghanistan\",\"Angola\",\"Bangladesh\",\"Benin\",\"Bhutan\",\"Burkina Faso\",\"Burundi\",\"Cambodia\",\"Central African Republic\",\"Chad\",\"Comoros\",\"Democratic Republic of the Congo\",\"Djibouti\",\"Eritrea\",\"Ethiopia\",\"Gambia\",\"Guinea\",\"Guinea-Bissau\",\"Haiti\",\"Kiribati\",\"Lesotho\",\"Liberia\",\"Madagascar\",\"Malawi\",\"Mali\",\"Mauritania\",\"Mozambique\",\"Myanmar\",\"Nepal\",\"Niger\",\"Rwanda\",\"Sao Tome and Principe\",\"Senegal\",\"Sierra Leone\",\"Solomon Islands\",\"Somalia\",\"Sudan\",\"Timor-Leste\",\"Togo\",\"Tuvalu\",\"Uganda\",\"United Republic of Tanzania\",\"Vanuatu\",\"Yemen\",\"Zambia\"],\"radii\":[0.3486056940032576,2.4668524266042016,0.7020447947937721,0.48602223509185105,1.3228778144086932,0.3545063770828273,0.1439906217703531,0.5921658071844065,0.2039025303122942,0.5072539150463391,0.8788819521470623,0.26478852194206287,1.0434896028654765,0.4748310823991456,0.3550084704511006,0.247446969190501,0.37373691067035597,0.32794088514739334,0.44869169499991846,1.6454751810450026,0.7143690867404829,0.23730867258431165,0.2677231781905875,0.18263121659249557,0.441142763699007,0.6775521275707559,0.3108420352212877,0.6914928152526487,0.41032077914907744,0.2166245207324081,0.3895316490963874,0.9279304402907724,0.5532615213153896,0.32073284585082373,0.9714956147211605,0.052410075653960046,0.8001174040745556,1.4634728916821294,0.3057813583848219,2.9686806171600546,0.3643815661228828,0.49688045527581914,1.6609010705734226,0.5258532451564529,0.8600485617522887]},\"selected\":{\"id\":\"1040\",\"type\":\"Selection\"},\"selection_policy\":{\"id\":\"1041\",\"type\":\"UnionRenderers\"}},\"id\":\"1003\",\"type\":\"ColumnDataSource\"},{\"attributes\":{},\"id\":\"1039\",\"type\":\"BasicTickFormatter\"},{\"attributes\":{\"dimension\":1,\"ticker\":{\"id\":\"1021\",\"type\":\"BasicTicker\"}},\"id\":\"1024\",\"type\":\"Grid\"},{\"attributes\":{\"text\":\"HAI vs EVI\"},\"id\":\"1005\",\"type\":\"Title\"},{\"attributes\":{\"source\":{\"id\":\"1003\",\"type\":\"ColumnDataSource\"}},\"id\":\"1032\",\"type\":\"CDSView\"},{\"attributes\":{\"callback\":null},\"id\":\"1009\",\"type\":\"DataRange1d\"}],\"root_ids\":[\"1004\"]},\"title\":\"Bokeh Application\",\"version\":\"1.3.4\"}};\n",
       "  var render_items = [{\"docid\":\"13973b86-41b2-49bd-a50b-a12b9e266b04\",\"roots\":{\"1004\":\"0b7c2057-16ca-41dc-bb3a-b08dc1d1fd4a\"}}];\n",
       "  root.Bokeh.embed.embed_items_notebook(docs_json, render_items);\n",
       "\n",
       "  }\n",
       "  if (root.Bokeh !== undefined) {\n",
       "    embed_document(root);\n",
       "  } else {\n",
       "    var attempts = 0;\n",
       "    var timer = setInterval(function(root) {\n",
       "      if (root.Bokeh !== undefined) {\n",
       "        embed_document(root);\n",
       "        clearInterval(timer);\n",
       "      }\n",
       "      attempts++;\n",
       "      if (attempts > 100) {\n",
       "        console.log(\"Bokeh: ERROR: Unable to run BokehJS code because BokehJS library is missing\");\n",
       "        clearInterval(timer);\n",
       "      }\n",
       "    }, 10, root)\n",
       "  }\n",
       "})(window);"
      ],
      "application/vnd.bokehjs_exec.v0+json": ""
     },
     "metadata": {
      "application/vnd.bokehjs_exec.v0+json": {
       "id": "1004"
      }
     },
     "output_type": "display_data"
    }
   ],
   "source": [
    "p = scatter_plot(evi, hai, gni_normalized, entities)\n",
    "show(p)"
   ]
  },
  {
   "cell_type": "markdown",
   "metadata": {
    "slideshow": {
     "slide_type": "slide"
    }
   },
   "source": [
    "# The Istanbul Programme of Action"
   ]
  },
  {
   "cell_type": "markdown",
   "metadata": {
    "ExecuteTime": {
     "end_time": "2019-10-23T16:34:47.577716Z",
     "start_time": "2019-10-23T16:34:47.551207Z"
    },
    "slideshow": {
     "slide_type": "slide"
    }
   },
   "source": [
    "# Objectives"
   ]
  },
  {
   "cell_type": "markdown",
   "metadata": {
    "slideshow": {
     "slide_type": "slide"
    }
   },
   "source": [
    "27. The overarching goal of the Programme of Action for the decade 2011-2020 is to overcome the structural challenges faced by the least developed countries in order to eradicate poverty, achieve internationally agreed development goals and enable graduation from the least developed country category.\n",
    "\n"
   ]
  },
  {
   "cell_type": "markdown",
   "metadata": {
    "slideshow": {
     "slide_type": "slide"
    }
   },
   "source": [
    "28. Guided by the overarching goal, national policies of least developed countries and international support measures during the decade will focus on the following specific objectives with the aim of enabling half the number of least developed countries to meet the criteria for graduation by 2020:"
   ]
  },
  {
   "cell_type": "markdown",
   "metadata": {
    "slideshow": {
     "slide_type": "slide"
    }
   },
   "source": [
    "**(a)** Achieve sustained, equitable and inclusive economic growth in least developed countries, to at least the level of 7 per cent per annum, by strengthening their productive capacity in all sectors through structural transformation and overcoming their marginalization through their effective integration into the global economy, including through regional integration;"
   ]
  },
  {
   "cell_type": "markdown",
   "metadata": {
    "slideshow": {
     "slide_type": "slide"
    }
   },
   "source": [
    "**(b) Build human capacities by fostering sustained, equitable and inclusive human and social development, gender equality and the empowerment of women;**"
   ]
  },
  {
   "cell_type": "markdown",
   "metadata": {
    "slideshow": {
     "slide_type": "slide"
    }
   },
   "source": [
    "**(c)** Reduce the **vulnerability** of least developed countries to economic, natural and environmental shocks and disasters, as well as climate change, and enhance their ability to meet these and other challenges through strengthening their resilience;"
   ]
  },
  {
   "cell_type": "markdown",
   "metadata": {
    "slideshow": {
     "slide_type": "slide"
    }
   },
   "source": [
    "**(d)** Ensure enhanced financial resources and their effective use for least developed countries’ development, including through domestic resource mobilization, ODA, external debt relief, foreign direct investment and remittances;"
   ]
  },
  {
   "cell_type": "markdown",
   "metadata": {
    "slideshow": {
     "slide_type": "slide"
    }
   },
   "source": [
    "**(e)** Enhance good governance at all levels, by strengthening democratic processes, institutions and the rule of law; increasing efficiency, coherence, transparency and participation; protecting and promoting human rights; and reducing corruption, and strengthen least developed country Governments’ capacity to play an effective role in their economic and social development."
   ]
  },
  {
   "cell_type": "markdown",
   "metadata": {
    "slideshow": {
     "slide_type": "slide"
    }
   },
   "source": [
    "# IV. Priority areas for action\n",
    "\n",
    "43. The actions will be organized by priority areas as:\n",
    "\n",
    "A. Productive capacity\n",
    "\n",
    "B. Agriculture, food security and rural development\n",
    "\n",
    "C. Trade\n",
    "\n",
    "D. Commodities\n",
    "\n",
    "**E. Human and social development**\n",
    "\n",
    "F. Multiple crises and other emerging challenges ▪Economic shocks\n",
    "\n",
    "H. Good governance at all levels"
   ]
  },
  {
   "cell_type": "markdown",
   "metadata": {
    "slideshow": {
     "slide_type": "slide"
    }
   },
   "source": [
    "# E. Human and social development\n",
    "\n",
    "+ Education and training\n",
    "\n",
    "+ Population and primary health\n",
    "\n",
    "+ Youth development\n",
    "\n",
    "+ Shelter\n",
    "\n",
    "+ Water and sanitation\n",
    "\n",
    "+ Gender equality and empowerment of women \n",
    "\n",
    "+ Social protection"
   ]
  },
  {
   "cell_type": "markdown",
   "metadata": {
    "slideshow": {
     "slide_type": "slide"
    }
   },
   "source": [
    "# Population and primary health"
   ]
  },
  {
   "cell_type": "code",
   "execution_count": 4,
   "metadata": {
    "ExecuteTime": {
     "end_time": "2019-10-25T14:23:47.479465Z",
     "start_time": "2019-10-25T14:23:46.720219Z"
    },
    "slideshow": {
     "slide_type": "slide"
    }
   },
   "outputs": [
    {
     "data": {
      "text/html": [
       "\n",
       "\n",
       "\n",
       "\n",
       "\n",
       "\n",
       "  <div class=\"bk-root\" id=\"a86a99bd-7552-4fee-9e3f-5be21dc271e5\" data-root-id=\"1084\"></div>\n"
      ]
     },
     "metadata": {},
     "output_type": "display_data"
    },
    {
     "data": {
      "application/javascript": [
       "(function(root) {\n",
       "  function embed_document(root) {\n",
       "    \n",
       "  var docs_json = {\"b6dea497-2983-437c-94f1-d69d2d951020\":{\"roots\":{\"references\":[{\"attributes\":{\"below\":[{\"id\":\"1095\",\"type\":\"LinearAxis\"}],\"center\":[{\"id\":\"1099\",\"type\":\"Grid\"},{\"id\":\"1104\",\"type\":\"Grid\"},{\"id\":\"1129\",\"type\":\"Legend\"}],\"left\":[{\"id\":\"1100\",\"type\":\"LinearAxis\"}],\"plot_height\":400,\"plot_width\":900,\"renderers\":[{\"id\":\"1121\",\"type\":\"GlyphRenderer\"},{\"id\":\"1134\",\"type\":\"GlyphRenderer\"}],\"title\":{\"id\":\"1085\",\"type\":\"Title\"},\"toolbar\":{\"id\":\"1111\",\"type\":\"Toolbar\"},\"x_range\":{\"id\":\"1087\",\"type\":\"DataRange1d\"},\"x_scale\":{\"id\":\"1091\",\"type\":\"LinearScale\"},\"y_range\":{\"id\":\"1089\",\"type\":\"DataRange1d\"},\"y_scale\":{\"id\":\"1093\",\"type\":\"LinearScale\"}},\"id\":\"1084\",\"subtype\":\"Figure\",\"type\":\"Plot\"},{\"attributes\":{\"axis_label\":\"Years\",\"formatter\":{\"id\":\"1125\",\"type\":\"BasicTickFormatter\"},\"ticker\":{\"id\":\"1096\",\"type\":\"BasicTicker\"}},\"id\":\"1095\",\"type\":\"LinearAxis\"},{\"attributes\":{},\"id\":\"1125\",\"type\":\"BasicTickFormatter\"},{\"attributes\":{},\"id\":\"1096\",\"type\":\"BasicTicker\"},{\"attributes\":{},\"id\":\"1127\",\"type\":\"BasicTickFormatter\"},{\"attributes\":{\"grid_line_color\":null,\"ticker\":{\"id\":\"1096\",\"type\":\"BasicTicker\"}},\"id\":\"1099\",\"type\":\"Grid\"},{\"attributes\":{\"bottom_units\":\"screen\",\"fill_alpha\":{\"value\":0.5},\"fill_color\":{\"value\":\"lightgrey\"},\"left_units\":\"screen\",\"level\":\"overlay\",\"line_alpha\":{\"value\":1.0},\"line_color\":{\"value\":\"black\"},\"line_dash\":[4,4],\"line_width\":{\"value\":2},\"render_mode\":\"css\",\"right_units\":\"screen\",\"top_units\":\"screen\"},\"id\":\"1128\",\"type\":\"BoxAnnotation\"},{\"attributes\":{\"axis_label\":\"SP.POP.TOTL\",\"formatter\":{\"id\":\"1127\",\"type\":\"BasicTickFormatter\"},\"ticker\":{\"id\":\"1101\",\"type\":\"BasicTicker\"}},\"id\":\"1100\",\"type\":\"LinearAxis\"},{\"attributes\":{\"items\":[{\"id\":\"1130\",\"type\":\"LegendItem\"}],\"location\":\"bottom_left\"},\"id\":\"1129\",\"type\":\"Legend\"},{\"attributes\":{},\"id\":\"1101\",\"type\":\"BasicTicker\"},{\"attributes\":{\"label\":{\"value\":\"LDCs\"},\"renderers\":[{\"id\":\"1121\",\"type\":\"GlyphRenderer\"}]},\"id\":\"1130\",\"type\":\"LegendItem\"},{\"attributes\":{\"dimension\":1,\"grid_line_alpha\":0.5,\"ticker\":{\"id\":\"1101\",\"type\":\"BasicTicker\"}},\"id\":\"1104\",\"type\":\"Grid\"},{\"attributes\":{\"callback\":null,\"data\":{\"x\":[\"1960\",\"1961\",\"1962\",\"1963\",\"1964\",\"1965\",\"1966\",\"1967\",\"1968\",\"1969\",\"1970\",\"1971\",\"1972\",\"1973\",\"1974\",\"1975\",\"1976\",\"1977\",\"1978\",\"1979\",\"1980\",\"1981\",\"1982\",\"1983\",\"1984\",\"1985\",\"1986\",\"1987\",\"1988\",\"1989\",\"1990\",\"1991\",\"1992\",\"1993\",\"1994\",\"1995\",\"1996\",\"1997\",\"1998\",\"1999\",\"2000\",\"2001\",\"2002\",\"2003\",\"2004\",\"2005\",\"2006\",\"2007\",\"2008\",\"2009\",\"2010\",\"2011\",\"2012\",\"2013\",\"2014\",\"2015\",\"2016\",\"2017\"],\"y\":[240518433.0,246113640.0,251900741.0,257908074.0,264174179.0,270720892.0,277573029.0,284708409.0,292045744.0,299473256.0,306916896.0,314344629.0,321797581.0,329357353.0,337142681.0,345242710.0,353691338.0,362475112.0,371577256.0,380963304.0,390612563.0,400528924.0,410740611.0,421279107.0,432185325.0,443491288.0,455193656.0,467290514.0,479814021.0,492803028.0,506275612.0,520262423.0,534731006.0,549559264.0,564581083.0,579681672.0,594801259.0,609983301.0,625342098.0,641046802.0,657215864.0,673903112.0,691061397.0,708587948.0,726331177.0,744190510.0,762132501.0,780219542.0,798563392.0,817322629.0,836614860.0,856472234.0,873619764.0,894516028.0,915914952.0,937788499.0,960134718.0,982952189.0]},\"selected\":{\"id\":\"1152\",\"type\":\"Selection\"},\"selection_policy\":{\"id\":\"1153\",\"type\":\"UnionRenderers\"}},\"id\":\"1131\",\"type\":\"ColumnDataSource\"},{\"attributes\":{\"line_color\":\"#FA1857\",\"x\":{\"field\":\"x\"},\"y\":{\"field\":\"y\"}},\"id\":\"1119\",\"type\":\"Line\"},{\"attributes\":{\"fill_color\":{\"value\":\"#FA1857\"},\"line_color\":{\"value\":\"#FA1857\"},\"line_width\":{\"value\":3},\"x\":{\"field\":\"x\"},\"y\":{\"field\":\"y\"}},\"id\":\"1132\",\"type\":\"Circle\"},{\"attributes\":{\"callback\":null,\"data\":{\"x\":[\"1960\",\"1961\",\"1962\",\"1963\",\"1964\",\"1965\",\"1966\",\"1967\",\"1968\",\"1969\",\"1970\",\"1971\",\"1972\",\"1973\",\"1974\",\"1975\",\"1976\",\"1977\",\"1978\",\"1979\",\"1980\",\"1981\",\"1982\",\"1983\",\"1984\",\"1985\",\"1986\",\"1987\",\"1988\",\"1989\",\"1990\",\"1991\",\"1992\",\"1993\",\"1994\",\"1995\",\"1996\",\"1997\",\"1998\",\"1999\",\"2000\",\"2001\",\"2002\",\"2003\",\"2004\",\"2005\",\"2006\",\"2007\",\"2008\",\"2009\",\"2010\",\"2011\",\"2012\",\"2013\",\"2014\",\"2015\",\"2016\",\"2017\"],\"y\":[240518433.0,246113640.0,251900741.0,257908074.0,264174179.0,270720892.0,277573029.0,284708409.0,292045744.0,299473256.0,306916896.0,314344629.0,321797581.0,329357353.0,337142681.0,345242710.0,353691338.0,362475112.0,371577256.0,380963304.0,390612563.0,400528924.0,410740611.0,421279107.0,432185325.0,443491288.0,455193656.0,467290514.0,479814021.0,492803028.0,506275612.0,520262423.0,534731006.0,549559264.0,564581083.0,579681672.0,594801259.0,609983301.0,625342098.0,641046802.0,657215864.0,673903112.0,691061397.0,708587948.0,726331177.0,744190510.0,762132501.0,780219542.0,798563392.0,817322629.0,836614860.0,856472234.0,873619764.0,894516028.0,915914952.0,937788499.0,960134718.0,982952189.0]},\"selected\":{\"id\":\"1150\",\"type\":\"Selection\"},\"selection_policy\":{\"id\":\"1151\",\"type\":\"UnionRenderers\"}},\"id\":\"1118\",\"type\":\"ColumnDataSource\"},{\"attributes\":{\"fill_alpha\":{\"value\":0.1},\"fill_color\":{\"value\":\"#1f77b4\"},\"line_alpha\":{\"value\":0.1},\"line_color\":{\"value\":\"#1f77b4\"},\"line_width\":{\"value\":3},\"x\":{\"field\":\"x\"},\"y\":{\"field\":\"y\"}},\"id\":\"1133\",\"type\":\"Circle\"},{\"attributes\":{\"callback\":null,\"tooltips\":\"                \\n        <div style=padding=5px>Year:@x</div>\\n        <div style=padding=5px>Value:@y</div>        \\n        \"},\"id\":\"1136\",\"type\":\"HoverTool\"},{\"attributes\":{\"line_alpha\":0.1,\"line_color\":\"#1f77b4\",\"x\":{\"field\":\"x\"},\"y\":{\"field\":\"y\"}},\"id\":\"1120\",\"type\":\"Line\"},{\"attributes\":{\"data_source\":{\"id\":\"1131\",\"type\":\"ColumnDataSource\"},\"glyph\":{\"id\":\"1132\",\"type\":\"Circle\"},\"hover_glyph\":null,\"muted_glyph\":null,\"nonselection_glyph\":{\"id\":\"1133\",\"type\":\"Circle\"},\"selection_glyph\":null,\"view\":{\"id\":\"1135\",\"type\":\"CDSView\"}},\"id\":\"1134\",\"type\":\"GlyphRenderer\"},{\"attributes\":{},\"id\":\"1105\",\"type\":\"PanTool\"},{\"attributes\":{\"source\":{\"id\":\"1131\",\"type\":\"ColumnDataSource\"}},\"id\":\"1135\",\"type\":\"CDSView\"},{\"attributes\":{},\"id\":\"1106\",\"type\":\"WheelZoomTool\"},{\"attributes\":{\"overlay\":{\"id\":\"1128\",\"type\":\"BoxAnnotation\"}},\"id\":\"1107\",\"type\":\"BoxZoomTool\"},{\"attributes\":{},\"id\":\"1150\",\"type\":\"Selection\"},{\"attributes\":{},\"id\":\"1108\",\"type\":\"SaveTool\"},{\"attributes\":{},\"id\":\"1109\",\"type\":\"ResetTool\"},{\"attributes\":{},\"id\":\"1151\",\"type\":\"UnionRenderers\"},{\"attributes\":{\"text\":\"Population, total\"},\"id\":\"1085\",\"type\":\"Title\"},{\"attributes\":{},\"id\":\"1110\",\"type\":\"HelpTool\"},{\"attributes\":{\"active_drag\":\"auto\",\"active_inspect\":\"auto\",\"active_multi\":null,\"active_scroll\":\"auto\",\"active_tap\":\"auto\",\"tools\":[{\"id\":\"1105\",\"type\":\"PanTool\"},{\"id\":\"1106\",\"type\":\"WheelZoomTool\"},{\"id\":\"1107\",\"type\":\"BoxZoomTool\"},{\"id\":\"1108\",\"type\":\"SaveTool\"},{\"id\":\"1109\",\"type\":\"ResetTool\"},{\"id\":\"1110\",\"type\":\"HelpTool\"},{\"id\":\"1136\",\"type\":\"HoverTool\"}]},\"id\":\"1111\",\"type\":\"Toolbar\"},{\"attributes\":{},\"id\":\"1152\",\"type\":\"Selection\"},{\"attributes\":{\"callback\":null},\"id\":\"1087\",\"type\":\"DataRange1d\"},{\"attributes\":{},\"id\":\"1153\",\"type\":\"UnionRenderers\"},{\"attributes\":{\"callback\":null},\"id\":\"1089\",\"type\":\"DataRange1d\"},{\"attributes\":{\"data_source\":{\"id\":\"1118\",\"type\":\"ColumnDataSource\"},\"glyph\":{\"id\":\"1119\",\"type\":\"Line\"},\"hover_glyph\":null,\"muted_glyph\":null,\"nonselection_glyph\":{\"id\":\"1120\",\"type\":\"Line\"},\"selection_glyph\":null,\"view\":{\"id\":\"1122\",\"type\":\"CDSView\"}},\"id\":\"1121\",\"type\":\"GlyphRenderer\"},{\"attributes\":{},\"id\":\"1091\",\"type\":\"LinearScale\"},{\"attributes\":{\"source\":{\"id\":\"1118\",\"type\":\"ColumnDataSource\"}},\"id\":\"1122\",\"type\":\"CDSView\"},{\"attributes\":{},\"id\":\"1093\",\"type\":\"LinearScale\"}],\"root_ids\":[\"1084\"]},\"title\":\"Bokeh Application\",\"version\":\"1.3.4\"}};\n",
       "  var render_items = [{\"docid\":\"b6dea497-2983-437c-94f1-d69d2d951020\",\"roots\":{\"1084\":\"a86a99bd-7552-4fee-9e3f-5be21dc271e5\"}}];\n",
       "  root.Bokeh.embed.embed_items_notebook(docs_json, render_items);\n",
       "\n",
       "  }\n",
       "  if (root.Bokeh !== undefined) {\n",
       "    embed_document(root);\n",
       "  } else {\n",
       "    var attempts = 0;\n",
       "    var timer = setInterval(function(root) {\n",
       "      if (root.Bokeh !== undefined) {\n",
       "        embed_document(root);\n",
       "        clearInterval(timer);\n",
       "      }\n",
       "      attempts++;\n",
       "      if (attempts > 100) {\n",
       "        console.log(\"Bokeh: ERROR: Unable to run BokehJS code because BokehJS library is missing\");\n",
       "        clearInterval(timer);\n",
       "      }\n",
       "    }, 10, root)\n",
       "  }\n",
       "})(window);"
      ],
      "application/vnd.bokehjs_exec.v0+json": ""
     },
     "metadata": {
      "application/vnd.bokehjs_exec.v0+json": {
       "id": "1084"
      }
     },
     "output_type": "display_data"
    }
   ],
   "source": [
    "years = list(map(str, list(range(1960,2018))))\n",
    "result = show_group_total(years, 'SP.POP.TOTL', ['LDCs'])"
   ]
  },
  {
   "cell_type": "code",
   "execution_count": 5,
   "metadata": {
    "ExecuteTime": {
     "end_time": "2019-10-25T14:23:48.553769Z",
     "start_time": "2019-10-25T14:23:47.482012Z"
    },
    "slideshow": {
     "slide_type": "slide"
    }
   },
   "outputs": [
    {
     "data": {
      "text/html": [
       "\n",
       "\n",
       "\n",
       "\n",
       "\n",
       "\n",
       "  <div class=\"bk-root\" id=\"648549a8-7fa3-4292-a62a-fda03eda6c35\" data-root-id=\"1215\"></div>\n"
      ]
     },
     "metadata": {},
     "output_type": "display_data"
    },
    {
     "data": {
      "application/javascript": [
       "(function(root) {\n",
       "  function embed_document(root) {\n",
       "    \n",
       "  var docs_json = {\"e722c40c-99c0-4434-8acc-2a97e9ef04fa\":{\"roots\":{\"references\":[{\"attributes\":{\"below\":[{\"id\":\"1226\",\"type\":\"LinearAxis\"}],\"center\":[{\"id\":\"1230\",\"type\":\"Grid\"},{\"id\":\"1235\",\"type\":\"Grid\"},{\"id\":\"1260\",\"type\":\"Legend\"}],\"left\":[{\"id\":\"1231\",\"type\":\"LinearAxis\"}],\"plot_height\":400,\"plot_width\":1000,\"renderers\":[{\"id\":\"1252\",\"type\":\"GlyphRenderer\"},{\"id\":\"1265\",\"type\":\"GlyphRenderer\"},{\"id\":\"1270\",\"type\":\"GlyphRenderer\"},{\"id\":\"1286\",\"type\":\"GlyphRenderer\"},{\"id\":\"1291\",\"type\":\"GlyphRenderer\"},{\"id\":\"1311\",\"type\":\"GlyphRenderer\"}],\"title\":{\"id\":\"1216\",\"type\":\"Title\"},\"toolbar\":{\"id\":\"1242\",\"type\":\"Toolbar\"},\"x_range\":{\"id\":\"1218\",\"type\":\"DataRange1d\"},\"x_scale\":{\"id\":\"1222\",\"type\":\"LinearScale\"},\"y_range\":{\"id\":\"1220\",\"type\":\"DataRange1d\"},\"y_scale\":{\"id\":\"1224\",\"type\":\"LinearScale\"}},\"id\":\"1215\",\"subtype\":\"Figure\",\"type\":\"Plot\"},{\"attributes\":{\"source\":{\"id\":\"1288\",\"type\":\"ColumnDataSource\"}},\"id\":\"1292\",\"type\":\"CDSView\"},{\"attributes\":{\"overlay\":{\"id\":\"1259\",\"type\":\"BoxAnnotation\"}},\"id\":\"1238\",\"type\":\"BoxZoomTool\"},{\"attributes\":{\"line_color\":\"#5430F1\",\"x\":{\"field\":\"x\"},\"y\":{\"field\":\"y\"}},\"id\":\"1268\",\"type\":\"Line\"},{\"attributes\":{},\"id\":\"1239\",\"type\":\"SaveTool\"},{\"attributes\":{},\"id\":\"1302\",\"type\":\"Selection\"},{\"attributes\":{\"line_alpha\":0.1,\"line_color\":\"#1f77b4\",\"x\":{\"field\":\"x\"},\"y\":{\"field\":\"y\"}},\"id\":\"1269\",\"type\":\"Line\"},{\"attributes\":{\"grid_line_color\":null,\"ticker\":{\"id\":\"1227\",\"type\":\"BasicTicker\"}},\"id\":\"1230\",\"type\":\"Grid\"},{\"attributes\":{},\"id\":\"1240\",\"type\":\"ResetTool\"},{\"attributes\":{},\"id\":\"1303\",\"type\":\"UnionRenderers\"},{\"attributes\":{\"data_source\":{\"id\":\"1267\",\"type\":\"ColumnDataSource\"},\"glyph\":{\"id\":\"1268\",\"type\":\"Line\"},\"hover_glyph\":null,\"muted_glyph\":null,\"nonselection_glyph\":{\"id\":\"1269\",\"type\":\"Line\"},\"selection_glyph\":null,\"view\":{\"id\":\"1271\",\"type\":\"CDSView\"}},\"id\":\"1270\",\"type\":\"GlyphRenderer\"},{\"attributes\":{\"line_alpha\":0.1,\"line_color\":\"#1f77b4\",\"x\":{\"field\":\"x\"},\"y\":{\"field\":\"y\"}},\"id\":\"1251\",\"type\":\"Line\"},{\"attributes\":{},\"id\":\"1241\",\"type\":\"HelpTool\"},{\"attributes\":{},\"id\":\"1304\",\"type\":\"Selection\"},{\"attributes\":{\"source\":{\"id\":\"1267\",\"type\":\"ColumnDataSource\"}},\"id\":\"1271\",\"type\":\"CDSView\"},{\"attributes\":{\"active_drag\":\"auto\",\"active_inspect\":\"auto\",\"active_multi\":null,\"active_scroll\":\"auto\",\"active_tap\":\"auto\",\"tools\":[{\"id\":\"1236\",\"type\":\"PanTool\"},{\"id\":\"1237\",\"type\":\"WheelZoomTool\"},{\"id\":\"1238\",\"type\":\"BoxZoomTool\"},{\"id\":\"1239\",\"type\":\"SaveTool\"},{\"id\":\"1240\",\"type\":\"ResetTool\"},{\"id\":\"1241\",\"type\":\"HelpTool\"},{\"id\":\"1313\",\"type\":\"HoverTool\"}]},\"id\":\"1242\",\"type\":\"Toolbar\"},{\"attributes\":{},\"id\":\"1305\",\"type\":\"UnionRenderers\"},{\"attributes\":{},\"id\":\"1277\",\"type\":\"Selection\"},{\"attributes\":{\"label\":{\"value\":\"OECD\"},\"renderers\":[{\"id\":\"1291\",\"type\":\"GlyphRenderer\"}]},\"id\":\"1307\",\"type\":\"LegendItem\"},{\"attributes\":{},\"id\":\"1278\",\"type\":\"UnionRenderers\"},{\"attributes\":{\"source\":{\"id\":\"1249\",\"type\":\"ColumnDataSource\"}},\"id\":\"1253\",\"type\":\"CDSView\"},{\"attributes\":{},\"id\":\"1236\",\"type\":\"PanTool\"},{\"attributes\":{\"axis_label\":\"Projected population, thousands\",\"formatter\":{\"id\":\"1258\",\"type\":\"BasicTickFormatter\"},\"ticker\":{\"id\":\"1232\",\"type\":\"BasicTicker\"}},\"id\":\"1231\",\"type\":\"LinearAxis\"},{\"attributes\":{},\"id\":\"1279\",\"type\":\"Selection\"},{\"attributes\":{\"callback\":null,\"data\":{\"x\":[2020,2025,2030,2035,2040,2045,2050,2055,2060,2065,2070,2075,2080,2085,2090,2095,2100],\"y\":[912306.7240000002,924199.783,933262.5580000001,940475.6150000001,944668.037,945929.6540000001,944372.924,940125.755,933542.0040000002,925493.626,916927.8789999998,908413.484,900272.8359999999,892459.4159999999,884981.163,877749.1270000001,870615.133]},\"selected\":{\"id\":\"1347\",\"type\":\"Selection\"},\"selection_policy\":{\"id\":\"1348\",\"type\":\"UnionRenderers\"}},\"id\":\"1308\",\"type\":\"ColumnDataSource\"},{\"attributes\":{},\"id\":\"1256\",\"type\":\"BasicTickFormatter\"},{\"attributes\":{\"fill_color\":{\"value\":\"#2CC775\"},\"line_color\":{\"value\":\"#2CC775\"},\"line_width\":{\"value\":3},\"x\":{\"field\":\"x\"},\"y\":{\"field\":\"y\"}},\"id\":\"1309\",\"type\":\"Circle\"},{\"attributes\":{},\"id\":\"1227\",\"type\":\"BasicTicker\"},{\"attributes\":{},\"id\":\"1280\",\"type\":\"UnionRenderers\"},{\"attributes\":{\"fill_alpha\":{\"value\":0.1},\"fill_color\":{\"value\":\"#1f77b4\"},\"line_alpha\":{\"value\":0.1},\"line_color\":{\"value\":\"#1f77b4\"},\"line_width\":{\"value\":3},\"x\":{\"field\":\"x\"},\"y\":{\"field\":\"y\"}},\"id\":\"1310\",\"type\":\"Circle\"},{\"attributes\":{},\"id\":\"1258\",\"type\":\"BasicTickFormatter\"},{\"attributes\":{\"label\":{\"value\":\"Developing excluding LDCs\"},\"renderers\":[{\"id\":\"1270\",\"type\":\"GlyphRenderer\"}]},\"id\":\"1282\",\"type\":\"LegendItem\"},{\"attributes\":{},\"id\":\"1232\",\"type\":\"BasicTicker\"},{\"attributes\":{\"data_source\":{\"id\":\"1308\",\"type\":\"ColumnDataSource\"},\"glyph\":{\"id\":\"1309\",\"type\":\"Circle\"},\"hover_glyph\":null,\"muted_glyph\":null,\"nonselection_glyph\":{\"id\":\"1310\",\"type\":\"Circle\"},\"selection_glyph\":null,\"view\":{\"id\":\"1312\",\"type\":\"CDSView\"}},\"id\":\"1311\",\"type\":\"GlyphRenderer\"},{\"attributes\":{\"bottom_units\":\"screen\",\"fill_alpha\":{\"value\":0.5},\"fill_color\":{\"value\":\"lightgrey\"},\"left_units\":\"screen\",\"level\":\"overlay\",\"line_alpha\":{\"value\":1.0},\"line_color\":{\"value\":\"black\"},\"line_dash\":[4,4],\"line_width\":{\"value\":2},\"render_mode\":\"css\",\"right_units\":\"screen\",\"top_units\":\"screen\"},\"id\":\"1259\",\"type\":\"BoxAnnotation\"},{\"attributes\":{\"callback\":null},\"id\":\"1220\",\"type\":\"DataRange1d\"},{\"attributes\":{\"callback\":null,\"data\":{\"x\":[2020,2025,2030,2035,2040,2045,2050,2055,2060,2065,2070,2075,2080,2085,2090,2095,2100],\"y\":[4993103.786000001,5218738.716999997,5421085.645999999,5600144.947999999,5752488.066,5878012.936,5976889.714000002,6050353.927999998,6099916.011999999,6128642.660999999,6138746.354000001,6132326.774999998,6111578.452999997,6078805.713000003,6037048.572999997,5987636.3539999975,5930332.014000001]},\"selected\":{\"id\":\"1304\",\"type\":\"Selection\"},\"selection_policy\":{\"id\":\"1305\",\"type\":\"UnionRenderers\"}},\"id\":\"1283\",\"type\":\"ColumnDataSource\"},{\"attributes\":{\"items\":[{\"id\":\"1261\",\"type\":\"LegendItem\"},{\"id\":\"1282\",\"type\":\"LegendItem\"},{\"id\":\"1307\",\"type\":\"LegendItem\"}],\"location\":\"bottom_left\"},\"id\":\"1260\",\"type\":\"Legend\"},{\"attributes\":{\"source\":{\"id\":\"1308\",\"type\":\"ColumnDataSource\"}},\"id\":\"1312\",\"type\":\"CDSView\"},{\"attributes\":{},\"id\":\"1222\",\"type\":\"LinearScale\"},{\"attributes\":{\"fill_color\":{\"value\":\"#5430F1\"},\"line_color\":{\"value\":\"#5430F1\"},\"line_width\":{\"value\":3},\"x\":{\"field\":\"x\"},\"y\":{\"field\":\"y\"}},\"id\":\"1284\",\"type\":\"Circle\"},{\"attributes\":{},\"id\":\"1237\",\"type\":\"WheelZoomTool\"},{\"attributes\":{\"label\":{\"value\":\"LDCs\"},\"renderers\":[{\"id\":\"1252\",\"type\":\"GlyphRenderer\"}]},\"id\":\"1261\",\"type\":\"LegendItem\"},{\"attributes\":{},\"id\":\"1224\",\"type\":\"LinearScale\"},{\"attributes\":{\"fill_alpha\":{\"value\":0.1},\"fill_color\":{\"value\":\"#1f77b4\"},\"line_alpha\":{\"value\":0.1},\"line_color\":{\"value\":\"#1f77b4\"},\"line_width\":{\"value\":3},\"x\":{\"field\":\"x\"},\"y\":{\"field\":\"y\"}},\"id\":\"1285\",\"type\":\"Circle\"},{\"attributes\":{\"callback\":null,\"tooltips\":\"                \\n        <div style=padding=5px>Year:@x</div>\\n        <div style=padding=5px>Value:@y</div>        \\n        \"},\"id\":\"1313\",\"type\":\"HoverTool\"},{\"attributes\":{\"callback\":null,\"data\":{\"x\":[2020,2025,2030,2035,2040,2045,2050,2055,2060,2065,2070,2075,2080,2085,2090,2095,2100],\"y\":[1057438.163,1182376.585,1313758.882,1450358.0589999997,1590723.5140000007,1733412.6489999997,1876797.781,2019337.702000001,2159628.188,2296253.5399999996,2427682.2370000007,2552545.8049999997,2669675.032999999,2778054.0900000003,2877186.7590000005,2966790.3559999997,3046778.7830000003]},\"selected\":{\"id\":\"1279\",\"type\":\"Selection\"},\"selection_policy\":{\"id\":\"1280\",\"type\":\"UnionRenderers\"}},\"id\":\"1262\",\"type\":\"ColumnDataSource\"},{\"attributes\":{},\"id\":\"1345\",\"type\":\"Selection\"},{\"attributes\":{\"data_source\":{\"id\":\"1283\",\"type\":\"ColumnDataSource\"},\"glyph\":{\"id\":\"1284\",\"type\":\"Circle\"},\"hover_glyph\":null,\"muted_glyph\":null,\"nonselection_glyph\":{\"id\":\"1285\",\"type\":\"Circle\"},\"selection_glyph\":null,\"view\":{\"id\":\"1287\",\"type\":\"CDSView\"}},\"id\":\"1286\",\"type\":\"GlyphRenderer\"},{\"attributes\":{\"axis_label\":\"Years\",\"formatter\":{\"id\":\"1256\",\"type\":\"BasicTickFormatter\"},\"ticker\":{\"id\":\"1227\",\"type\":\"BasicTicker\"}},\"id\":\"1226\",\"type\":\"LinearAxis\"},{\"attributes\":{\"dimension\":1,\"grid_line_alpha\":0.5,\"ticker\":{\"id\":\"1232\",\"type\":\"BasicTicker\"}},\"id\":\"1235\",\"type\":\"Grid\"},{\"attributes\":{\"fill_color\":{\"value\":\"#FA1857\"},\"line_color\":{\"value\":\"#FA1857\"},\"line_width\":{\"value\":3},\"x\":{\"field\":\"x\"},\"y\":{\"field\":\"y\"}},\"id\":\"1263\",\"type\":\"Circle\"},{\"attributes\":{},\"id\":\"1346\",\"type\":\"UnionRenderers\"},{\"attributes\":{\"callback\":null},\"id\":\"1218\",\"type\":\"DataRange1d\"},{\"attributes\":{\"source\":{\"id\":\"1283\",\"type\":\"ColumnDataSource\"}},\"id\":\"1287\",\"type\":\"CDSView\"},{\"attributes\":{\"fill_alpha\":{\"value\":0.1},\"fill_color\":{\"value\":\"#1f77b4\"},\"line_alpha\":{\"value\":0.1},\"line_color\":{\"value\":\"#1f77b4\"},\"line_width\":{\"value\":3},\"x\":{\"field\":\"x\"},\"y\":{\"field\":\"y\"}},\"id\":\"1264\",\"type\":\"Circle\"},{\"attributes\":{},\"id\":\"1347\",\"type\":\"Selection\"},{\"attributes\":{\"line_color\":\"#FA1857\",\"x\":{\"field\":\"x\"},\"y\":{\"field\":\"y\"}},\"id\":\"1250\",\"type\":\"Line\"},{\"attributes\":{\"callback\":null,\"data\":{\"x\":[2020,2025,2030,2035,2040,2045,2050,2055,2060,2065,2070,2075,2080,2085,2090,2095,2100],\"y\":[912306.7240000002,924199.783,933262.5580000001,940475.6150000001,944668.037,945929.6540000001,944372.924,940125.755,933542.0040000002,925493.626,916927.8789999998,908413.484,900272.8359999999,892459.4159999999,884981.163,877749.1270000001,870615.133]},\"selected\":{\"id\":\"1345\",\"type\":\"Selection\"},\"selection_policy\":{\"id\":\"1346\",\"type\":\"UnionRenderers\"}},\"id\":\"1288\",\"type\":\"ColumnDataSource\"},{\"attributes\":{\"data_source\":{\"id\":\"1262\",\"type\":\"ColumnDataSource\"},\"glyph\":{\"id\":\"1263\",\"type\":\"Circle\"},\"hover_glyph\":null,\"muted_glyph\":null,\"nonselection_glyph\":{\"id\":\"1264\",\"type\":\"Circle\"},\"selection_glyph\":null,\"view\":{\"id\":\"1266\",\"type\":\"CDSView\"}},\"id\":\"1265\",\"type\":\"GlyphRenderer\"},{\"attributes\":{},\"id\":\"1348\",\"type\":\"UnionRenderers\"},{\"attributes\":{\"text\":\"Projected population, thousands\"},\"id\":\"1216\",\"type\":\"Title\"},{\"attributes\":{\"callback\":null,\"data\":{\"x\":[2020,2025,2030,2035,2040,2045,2050,2055,2060,2065,2070,2075,2080,2085,2090,2095,2100],\"y\":[1057438.163,1182376.585,1313758.882,1450358.0589999997,1590723.5140000007,1733412.6489999997,1876797.781,2019337.702000001,2159628.188,2296253.5399999996,2427682.2370000007,2552545.8049999997,2669675.032999999,2778054.0900000003,2877186.7590000005,2966790.3559999997,3046778.7830000003]},\"selected\":{\"id\":\"1277\",\"type\":\"Selection\"},\"selection_policy\":{\"id\":\"1278\",\"type\":\"UnionRenderers\"}},\"id\":\"1249\",\"type\":\"ColumnDataSource\"},{\"attributes\":{\"data_source\":{\"id\":\"1249\",\"type\":\"ColumnDataSource\"},\"glyph\":{\"id\":\"1250\",\"type\":\"Line\"},\"hover_glyph\":null,\"muted_glyph\":null,\"nonselection_glyph\":{\"id\":\"1251\",\"type\":\"Line\"},\"selection_glyph\":null,\"view\":{\"id\":\"1253\",\"type\":\"CDSView\"}},\"id\":\"1252\",\"type\":\"GlyphRenderer\"},{\"attributes\":{\"line_color\":\"#2CC775\",\"x\":{\"field\":\"x\"},\"y\":{\"field\":\"y\"}},\"id\":\"1289\",\"type\":\"Line\"},{\"attributes\":{\"source\":{\"id\":\"1262\",\"type\":\"ColumnDataSource\"}},\"id\":\"1266\",\"type\":\"CDSView\"},{\"attributes\":{\"line_alpha\":0.1,\"line_color\":\"#1f77b4\",\"x\":{\"field\":\"x\"},\"y\":{\"field\":\"y\"}},\"id\":\"1290\",\"type\":\"Line\"},{\"attributes\":{\"callback\":null,\"data\":{\"x\":[2020,2025,2030,2035,2040,2045,2050,2055,2060,2065,2070,2075,2080,2085,2090,2095,2100],\"y\":[4993103.786000001,5218738.716999997,5421085.645999999,5600144.947999999,5752488.066,5878012.936,5976889.714000002,6050353.927999998,6099916.011999999,6128642.660999999,6138746.354000001,6132326.774999998,6111578.452999997,6078805.713000003,6037048.572999997,5987636.3539999975,5930332.014000001]},\"selected\":{\"id\":\"1302\",\"type\":\"Selection\"},\"selection_policy\":{\"id\":\"1303\",\"type\":\"UnionRenderers\"}},\"id\":\"1267\",\"type\":\"ColumnDataSource\"},{\"attributes\":{\"data_source\":{\"id\":\"1288\",\"type\":\"ColumnDataSource\"},\"glyph\":{\"id\":\"1289\",\"type\":\"Line\"},\"hover_glyph\":null,\"muted_glyph\":null,\"nonselection_glyph\":{\"id\":\"1290\",\"type\":\"Line\"},\"selection_glyph\":null,\"view\":{\"id\":\"1292\",\"type\":\"CDSView\"}},\"id\":\"1291\",\"type\":\"GlyphRenderer\"}],\"root_ids\":[\"1215\"]},\"title\":\"Bokeh Application\",\"version\":\"1.3.4\"}};\n",
       "  var render_items = [{\"docid\":\"e722c40c-99c0-4434-8acc-2a97e9ef04fa\",\"roots\":{\"1215\":\"648549a8-7fa3-4292-a62a-fda03eda6c35\"}}];\n",
       "  root.Bokeh.embed.embed_items_notebook(docs_json, render_items);\n",
       "\n",
       "  }\n",
       "  if (root.Bokeh !== undefined) {\n",
       "    embed_document(root);\n",
       "  } else {\n",
       "    var attempts = 0;\n",
       "    var timer = setInterval(function(root) {\n",
       "      if (root.Bokeh !== undefined) {\n",
       "        embed_document(root);\n",
       "        clearInterval(timer);\n",
       "      }\n",
       "      attempts++;\n",
       "      if (attempts > 100) {\n",
       "        console.log(\"Bokeh: ERROR: Unable to run BokehJS code because BokehJS library is missing\");\n",
       "        clearInterval(timer);\n",
       "      }\n",
       "    }, 10, root)\n",
       "  }\n",
       "})(window);"
      ],
      "application/vnd.bokehjs_exec.v0+json": ""
     },
     "metadata": {
      "application/vnd.bokehjs_exec.v0+json": {
       "id": "1215"
      }
     },
     "output_type": "display_data"
    }
   ],
   "source": [
    "show(line_chart(gpp(['LDCs', 'Developing excluding LDCs', 'OECD']), \"Projected population, thousands\", \n",
    "                x_axis_label='Years', y_axis_label='Projected population, thousands', height=400, width=1000))"
   ]
  },
  {
   "cell_type": "code",
   "execution_count": 6,
   "metadata": {
    "ExecuteTime": {
     "end_time": "2019-10-25T14:23:48.676948Z",
     "start_time": "2019-10-25T14:23:48.556170Z"
    },
    "scrolled": true
   },
   "outputs": [],
   "source": [
    "import sources\n",
    "data = sources.unpd.indicators.get_projection_by_group('LDCs')"
   ]
  },
  {
   "cell_type": "code",
   "execution_count": 7,
   "metadata": {
    "ExecuteTime": {
     "end_time": "2019-10-25T14:24:45.413121Z",
     "start_time": "2019-10-25T14:23:48.680578Z"
    },
    "slideshow": {
     "slide_type": "slide"
    }
   },
   "outputs": [
    {
     "data": {
      "text/html": [
       "\n",
       "\n",
       "\n",
       "\n",
       "\n",
       "\n",
       "  <div class=\"bk-root\" id=\"d0abd329-b4e0-4ee6-a105-2bc45b63db3b\" data-root-id=\"1458\"></div>\n"
      ]
     },
     "metadata": {},
     "output_type": "display_data"
    },
    {
     "data": {
      "application/javascript": [
       "(function(root) {\n",
       "  function embed_document(root) {\n",
       "    \n",
       "  var docs_json = {\"9db04401-22e2-4a17-9059-2ab04c7adec5\":{\"roots\":{\"references\":[{\"attributes\":{\"below\":[{\"id\":\"1469\",\"type\":\"LinearAxis\"}],\"center\":[{\"id\":\"1473\",\"type\":\"Grid\"},{\"id\":\"1478\",\"type\":\"Grid\"},{\"id\":\"1503\",\"type\":\"Legend\"}],\"left\":[{\"id\":\"1474\",\"type\":\"LinearAxis\"}],\"plot_height\":400,\"plot_width\":800,\"renderers\":[{\"id\":\"1495\",\"type\":\"GlyphRenderer\"},{\"id\":\"1508\",\"type\":\"GlyphRenderer\"},{\"id\":\"1513\",\"type\":\"GlyphRenderer\"},{\"id\":\"1529\",\"type\":\"GlyphRenderer\"},{\"id\":\"1534\",\"type\":\"GlyphRenderer\"},{\"id\":\"1554\",\"type\":\"GlyphRenderer\"}],\"title\":{\"id\":\"1459\",\"type\":\"Title\"},\"toolbar\":{\"id\":\"1485\",\"type\":\"Toolbar\"},\"x_range\":{\"id\":\"1461\",\"type\":\"DataRange1d\"},\"x_scale\":{\"id\":\"1465\",\"type\":\"LinearScale\"},\"y_range\":{\"id\":\"1463\",\"type\":\"DataRange1d\"},\"y_scale\":{\"id\":\"1467\",\"type\":\"LinearScale\"}},\"id\":\"1458\",\"subtype\":\"Figure\",\"type\":\"Plot\"},{\"attributes\":{\"active_drag\":\"auto\",\"active_inspect\":\"auto\",\"active_multi\":null,\"active_scroll\":\"auto\",\"active_tap\":\"auto\",\"tools\":[{\"id\":\"1479\",\"type\":\"PanTool\"},{\"id\":\"1480\",\"type\":\"WheelZoomTool\"},{\"id\":\"1481\",\"type\":\"BoxZoomTool\"},{\"id\":\"1482\",\"type\":\"SaveTool\"},{\"id\":\"1483\",\"type\":\"ResetTool\"},{\"id\":\"1484\",\"type\":\"HelpTool\"},{\"id\":\"1556\",\"type\":\"HoverTool\"}]},\"id\":\"1485\",\"type\":\"Toolbar\"},{\"attributes\":{},\"id\":\"1475\",\"type\":\"BasicTicker\"},{\"attributes\":{},\"id\":\"1609\",\"type\":\"UnionRenderers\"},{\"attributes\":{\"data_source\":{\"id\":\"1531\",\"type\":\"ColumnDataSource\"},\"glyph\":{\"id\":\"1532\",\"type\":\"Line\"},\"hover_glyph\":null,\"muted_glyph\":null,\"nonselection_glyph\":{\"id\":\"1533\",\"type\":\"Line\"},\"selection_glyph\":null,\"view\":{\"id\":\"1535\",\"type\":\"CDSView\"}},\"id\":\"1534\",\"type\":\"GlyphRenderer\"},{\"attributes\":{},\"id\":\"1499\",\"type\":\"BasicTickFormatter\"},{\"attributes\":{\"label\":{\"value\":\"Developing excluding LDCs\"},\"renderers\":[{\"id\":\"1513\",\"type\":\"GlyphRenderer\"}]},\"id\":\"1525\",\"type\":\"LegendItem\"},{\"attributes\":{\"line_alpha\":0.1,\"line_color\":\"#1f77b4\",\"x\":{\"field\":\"x\"},\"y\":{\"field\":\"y\"}},\"id\":\"1512\",\"type\":\"Line\"},{\"attributes\":{},\"id\":\"1608\",\"type\":\"Selection\"},{\"attributes\":{\"line_color\":\"#FA1857\",\"x\":{\"field\":\"x\"},\"y\":{\"field\":\"y\"}},\"id\":\"1493\",\"type\":\"Line\"},{\"attributes\":{\"line_alpha\":0.1,\"line_color\":\"#1f77b4\",\"x\":{\"field\":\"x\"},\"y\":{\"field\":\"y\"}},\"id\":\"1533\",\"type\":\"Line\"},{\"attributes\":{\"line_color\":\"#5430F1\",\"x\":{\"field\":\"x\"},\"y\":{\"field\":\"y\"}},\"id\":\"1511\",\"type\":\"Line\"},{\"attributes\":{\"data_source\":{\"id\":\"1492\",\"type\":\"ColumnDataSource\"},\"glyph\":{\"id\":\"1493\",\"type\":\"Line\"},\"hover_glyph\":null,\"muted_glyph\":null,\"nonselection_glyph\":{\"id\":\"1494\",\"type\":\"Line\"},\"selection_glyph\":null,\"view\":{\"id\":\"1496\",\"type\":\"CDSView\"}},\"id\":\"1495\",\"type\":\"GlyphRenderer\"},{\"attributes\":{},\"id\":\"1607\",\"type\":\"UnionRenderers\"},{\"attributes\":{\"callback\":null,\"data\":{\"x\":[\"1960\",\"1961\",\"1962\",\"1963\",\"1964\",\"1965\",\"1966\",\"1967\",\"1968\",\"1969\",\"1970\",\"1971\",\"1972\",\"1973\",\"1974\",\"1975\",\"1976\",\"1977\",\"1978\",\"1979\",\"1980\",\"1981\",\"1982\",\"1983\",\"1984\",\"1985\",\"1986\",\"1987\",\"1988\",\"1989\",\"1990\",\"1991\",\"1992\",\"1993\",\"1994\",\"1995\",\"1996\",\"1997\",\"1998\",\"1999\",\"2000\",\"2001\",\"2002\",\"2003\",\"2004\",\"2005\",\"2006\",\"2007\",\"2008\",\"2009\",\"2010\",\"2011\",\"2012\",\"2013\",\"2014\",\"2015\",\"2016\",\"2017\"],\"y\":[37.40046379762384,36.910426656412376,36.42127360665778,35.91623000953568,35.41312563450036,34.91259283883799,34.41460814240305,33.906853776784544,33.41175944934178,32.93243762343052,32.47371657833314,32.08243047483682,31.72254341724644,31.376230937591238,31.02541989859808,30.694684316251664,30.439520115174478,30.192444164715646,29.942960728335073,29.698117424398575,29.45271291536762,29.159197365938237,28.884819993799557,28.62443020571846,28.373177767459325,28.121981510199006,27.8604458404359,27.578860132814693,27.299974013372434,27.04188263980006,26.764398045351797,26.48515980107442,26.22585182821077,25.962163393862863,25.69276563048598,25.42543337883581,25.181488242051362,24.9477281910235,24.714988268795185,24.48183071086911,24.25025925627994,23.905203675760802,23.504398066886452,23.123776637102807,22.758727449036055,22.408569017585673,22.085829368063017,21.7813270701607,21.485590735868247,21.19879146971327,20.918753085714805,20.70228925587614,20.51614583488052,20.332611207313864,20.1493430924518,19.961337971168508,19.770869743541244,19.576668574669895]},\"selected\":{\"id\":\"1606\",\"type\":\"Selection\"},\"selection_policy\":{\"id\":\"1607\",\"type\":\"UnionRenderers\"}},\"id\":\"1531\",\"type\":\"ColumnDataSource\"},{\"attributes\":{\"data_source\":{\"id\":\"1526\",\"type\":\"ColumnDataSource\"},\"glyph\":{\"id\":\"1527\",\"type\":\"Circle\"},\"hover_glyph\":null,\"muted_glyph\":null,\"nonselection_glyph\":{\"id\":\"1528\",\"type\":\"Circle\"},\"selection_glyph\":null,\"view\":{\"id\":\"1530\",\"type\":\"CDSView\"}},\"id\":\"1529\",\"type\":\"GlyphRenderer\"},{\"attributes\":{\"source\":{\"id\":\"1492\",\"type\":\"ColumnDataSource\"}},\"id\":\"1496\",\"type\":\"CDSView\"},{\"attributes\":{},\"id\":\"1546\",\"type\":\"UnionRenderers\"},{\"attributes\":{\"dimension\":1,\"grid_line_alpha\":0.5,\"ticker\":{\"id\":\"1475\",\"type\":\"BasicTicker\"}},\"id\":\"1478\",\"type\":\"Grid\"},{\"attributes\":{\"callback\":null,\"data\":{\"x\":[\"1960\",\"1961\",\"1962\",\"1963\",\"1964\",\"1965\",\"1966\",\"1967\",\"1968\",\"1969\",\"1970\",\"1971\",\"1972\",\"1973\",\"1974\",\"1975\",\"1976\",\"1977\",\"1978\",\"1979\",\"1980\",\"1981\",\"1982\",\"1983\",\"1984\",\"1985\",\"1986\",\"1987\",\"1988\",\"1989\",\"1990\",\"1991\",\"1992\",\"1993\",\"1994\",\"1995\",\"1996\",\"1997\",\"1998\",\"1999\",\"2000\",\"2001\",\"2002\",\"2003\",\"2004\",\"2005\",\"2006\",\"2007\",\"2008\",\"2009\",\"2010\",\"2011\",\"2012\",\"2013\",\"2014\",\"2015\",\"2016\",\"2017\"],\"y\":[77.35363246498096,76.84064660563966,76.34919251805987,75.8911929273984,75.42392730969407,75.2455974700976,75.0631805029994,74.86460025693607,74.66965460183357,74.47948707660744,74.2883999829702,74.06985096112246,73.81021003144735,73.50148081814949,73.14517867392526,72.78077064593286,72.43033463814923,72.07257197472818,71.59162525042468,70.98739212549752,70.37390537107983,69.73538235357832,69.11523379006417,68.549880776788,67.97514579855805,67.40108835439656,66.83263598790077,66.2699204282547,65.70792376395148,65.14572411519175,64.58115696120876,64.00938831679981,63.47568887216426,62.90371180406295,62.32979564017021,61.731735700190455,61.15980763653538,60.58546239748637,60.00711357933131,59.428106219917154,58.83934865686248,58.1922959373342,57.492147507303955,56.791072578711145,56.08420239450577,55.373297896508575,54.67280454992341,53.977539651904614,53.28007273722423,52.58524307181396,51.89203527626144,51.22700828217377,50.57300177227712,49.92250999168939,49.27308811920352,48.62727125106838,47.983660157571435,47.34467173180428]},\"selected\":{\"id\":\"1545\",\"type\":\"Selection\"},\"selection_policy\":{\"id\":\"1546\",\"type\":\"UnionRenderers\"}},\"id\":\"1510\",\"type\":\"ColumnDataSource\"},{\"attributes\":{},\"id\":\"1545\",\"type\":\"Selection\"},{\"attributes\":{\"source\":{\"id\":\"1551\",\"type\":\"ColumnDataSource\"}},\"id\":\"1555\",\"type\":\"CDSView\"},{\"attributes\":{\"items\":[{\"id\":\"1504\",\"type\":\"LegendItem\"},{\"id\":\"1525\",\"type\":\"LegendItem\"},{\"id\":\"1550\",\"type\":\"LegendItem\"}],\"location\":\"bottom_left\"},\"id\":\"1503\",\"type\":\"Legend\"},{\"attributes\":{\"line_alpha\":0.1,\"line_color\":\"#1f77b4\",\"x\":{\"field\":\"x\"},\"y\":{\"field\":\"y\"}},\"id\":\"1494\",\"type\":\"Line\"},{\"attributes\":{},\"id\":\"1480\",\"type\":\"WheelZoomTool\"},{\"attributes\":{\"callback\":null,\"tooltips\":\"                \\n        <div style=padding=5px>Year:@x</div>\\n        <div style=padding=5px>Value:@y</div>        \\n        \"},\"id\":\"1556\",\"type\":\"HoverTool\"},{\"attributes\":{},\"id\":\"1520\",\"type\":\"Selection\"},{\"attributes\":{\"text\":\"Rural population (% of total population) weighted against Population, total\"},\"id\":\"1459\",\"type\":\"Title\"},{\"attributes\":{\"source\":{\"id\":\"1531\",\"type\":\"ColumnDataSource\"}},\"id\":\"1535\",\"type\":\"CDSView\"},{\"attributes\":{\"source\":{\"id\":\"1510\",\"type\":\"ColumnDataSource\"}},\"id\":\"1514\",\"type\":\"CDSView\"},{\"attributes\":{},\"id\":\"1501\",\"type\":\"BasicTickFormatter\"},{\"attributes\":{\"data_source\":{\"id\":\"1551\",\"type\":\"ColumnDataSource\"},\"glyph\":{\"id\":\"1552\",\"type\":\"Circle\"},\"hover_glyph\":null,\"muted_glyph\":null,\"nonselection_glyph\":{\"id\":\"1553\",\"type\":\"Circle\"},\"selection_glyph\":null,\"view\":{\"id\":\"1555\",\"type\":\"CDSView\"}},\"id\":\"1554\",\"type\":\"GlyphRenderer\"},{\"attributes\":{\"callback\":null,\"data\":{\"x\":[\"1960\",\"1961\",\"1962\",\"1963\",\"1964\",\"1965\",\"1966\",\"1967\",\"1968\",\"1969\",\"1970\",\"1971\",\"1972\",\"1973\",\"1974\",\"1975\",\"1976\",\"1977\",\"1978\",\"1979\",\"1980\",\"1981\",\"1982\",\"1983\",\"1984\",\"1985\",\"1986\",\"1987\",\"1988\",\"1989\",\"1990\",\"1991\",\"1992\",\"1993\",\"1994\",\"1995\",\"1996\",\"1997\",\"1998\",\"1999\",\"2000\",\"2001\",\"2002\",\"2003\",\"2004\",\"2005\",\"2006\",\"2007\",\"2008\",\"2009\",\"2010\",\"2011\",\"2012\",\"2013\",\"2014\",\"2015\",\"2016\",\"2017\"],\"y\":[90.30540314961225,90.05922308596143,89.79142197607507,89.50943020766772,89.21332392073033,88.90699930713514,88.59129404993091,88.2421437061032,87.87890301522422,87.498660914606,87.1174953120763,86.69804365829646,86.25174066596233,85.79977180585672,85.34188252862592,85.43654119910886,84.95168938138087,84.44580769216783,83.9221505351178,83.41754005994233,82.84275481593508,82.33340839124018,81.98009926769818,81.5994068914721,81.17923373810068,80.73499511441362,80.28737654778298,79.83589419008621,79.37735062469132,78.94106163003731,78.49089593262889,78.06666464387531,77.66442498847728,77.27582295914314,76.937477006595,76.6142721385419,76.29207931094508,75.96043698797583,75.63493186609195,75.3089958985288,74.97591336080258,74.58855084775452,74.17072837361799,73.7383105264119,73.30461571223451,72.85760200817124,72.41698364409473,72.02137630639736,71.53477802260059,71.03883841181644,70.53468445683478,70.02322338974272,69.54425681847671,69.04126913036824,68.53335948867445,68.02084860989429,67.5036702230874,66.9817255009623]},\"selected\":{\"id\":\"1520\",\"type\":\"Selection\"},\"selection_policy\":{\"id\":\"1521\",\"type\":\"UnionRenderers\"}},\"id\":\"1492\",\"type\":\"ColumnDataSource\"},{\"attributes\":{},\"id\":\"1470\",\"type\":\"BasicTicker\"},{\"attributes\":{\"label\":{\"value\":\"OECD\"},\"renderers\":[{\"id\":\"1534\",\"type\":\"GlyphRenderer\"}]},\"id\":\"1550\",\"type\":\"LegendItem\"},{\"attributes\":{\"data_source\":{\"id\":\"1510\",\"type\":\"ColumnDataSource\"},\"glyph\":{\"id\":\"1511\",\"type\":\"Line\"},\"hover_glyph\":null,\"muted_glyph\":null,\"nonselection_glyph\":{\"id\":\"1512\",\"type\":\"Line\"},\"selection_glyph\":null,\"view\":{\"id\":\"1514\",\"type\":\"CDSView\"}},\"id\":\"1513\",\"type\":\"GlyphRenderer\"},{\"attributes\":{\"fill_alpha\":{\"value\":0.1},\"fill_color\":{\"value\":\"#1f77b4\"},\"line_alpha\":{\"value\":0.1},\"line_color\":{\"value\":\"#1f77b4\"},\"line_width\":{\"value\":3},\"x\":{\"field\":\"x\"},\"y\":{\"field\":\"y\"}},\"id\":\"1507\",\"type\":\"Circle\"},{\"attributes\":{},\"id\":\"1606\",\"type\":\"Selection\"},{\"attributes\":{},\"id\":\"1479\",\"type\":\"PanTool\"},{\"attributes\":{\"bottom_units\":\"screen\",\"fill_alpha\":{\"value\":0.5},\"fill_color\":{\"value\":\"lightgrey\"},\"left_units\":\"screen\",\"level\":\"overlay\",\"line_alpha\":{\"value\":1.0},\"line_color\":{\"value\":\"black\"},\"line_dash\":[4,4],\"line_width\":{\"value\":2},\"render_mode\":\"css\",\"right_units\":\"screen\",\"top_units\":\"screen\"},\"id\":\"1502\",\"type\":\"BoxAnnotation\"},{\"attributes\":{\"callback\":null},\"id\":\"1463\",\"type\":\"DataRange1d\"},{\"attributes\":{\"fill_color\":{\"value\":\"#FA1857\"},\"line_color\":{\"value\":\"#FA1857\"},\"line_width\":{\"value\":3},\"x\":{\"field\":\"x\"},\"y\":{\"field\":\"y\"}},\"id\":\"1506\",\"type\":\"Circle\"},{\"attributes\":{},\"id\":\"1548\",\"type\":\"UnionRenderers\"},{\"attributes\":{\"fill_alpha\":{\"value\":0.1},\"fill_color\":{\"value\":\"#1f77b4\"},\"line_alpha\":{\"value\":0.1},\"line_color\":{\"value\":\"#1f77b4\"},\"line_width\":{\"value\":3},\"x\":{\"field\":\"x\"},\"y\":{\"field\":\"y\"}},\"id\":\"1528\",\"type\":\"Circle\"},{\"attributes\":{},\"id\":\"1483\",\"type\":\"ResetTool\"},{\"attributes\":{},\"id\":\"1465\",\"type\":\"LinearScale\"},{\"attributes\":{\"callback\":null,\"data\":{\"x\":[\"1960\",\"1961\",\"1962\",\"1963\",\"1964\",\"1965\",\"1966\",\"1967\",\"1968\",\"1969\",\"1970\",\"1971\",\"1972\",\"1973\",\"1974\",\"1975\",\"1976\",\"1977\",\"1978\",\"1979\",\"1980\",\"1981\",\"1982\",\"1983\",\"1984\",\"1985\",\"1986\",\"1987\",\"1988\",\"1989\",\"1990\",\"1991\",\"1992\",\"1993\",\"1994\",\"1995\",\"1996\",\"1997\",\"1998\",\"1999\",\"2000\",\"2001\",\"2002\",\"2003\",\"2004\",\"2005\",\"2006\",\"2007\",\"2008\",\"2009\",\"2010\",\"2011\",\"2012\",\"2013\",\"2014\",\"2015\",\"2016\",\"2017\"],\"y\":[90.30540314961225,90.05922308596143,89.79142197607507,89.50943020766772,89.21332392073033,88.90699930713514,88.59129404993091,88.2421437061032,87.87890301522422,87.498660914606,87.1174953120763,86.69804365829646,86.25174066596233,85.79977180585672,85.34188252862592,85.43654119910886,84.95168938138087,84.44580769216783,83.9221505351178,83.41754005994233,82.84275481593508,82.33340839124018,81.98009926769818,81.5994068914721,81.17923373810068,80.73499511441362,80.28737654778298,79.83589419008621,79.37735062469132,78.94106163003731,78.49089593262889,78.06666464387531,77.66442498847728,77.27582295914314,76.937477006595,76.6142721385419,76.29207931094508,75.96043698797583,75.63493186609195,75.3089958985288,74.97591336080258,74.58855084775452,74.17072837361799,73.7383105264119,73.30461571223451,72.85760200817124,72.41698364409473,72.02137630639736,71.53477802260059,71.03883841181644,70.53468445683478,70.02322338974272,69.54425681847671,69.04126913036824,68.53335948867445,68.02084860989429,67.5036702230874,66.9817255009623]},\"selected\":{\"id\":\"1522\",\"type\":\"Selection\"},\"selection_policy\":{\"id\":\"1523\",\"type\":\"UnionRenderers\"}},\"id\":\"1505\",\"type\":\"ColumnDataSource\"},{\"attributes\":{},\"id\":\"1523\",\"type\":\"UnionRenderers\"},{\"attributes\":{},\"id\":\"1547\",\"type\":\"Selection\"},{\"attributes\":{\"overlay\":{\"id\":\"1502\",\"type\":\"BoxAnnotation\"}},\"id\":\"1481\",\"type\":\"BoxZoomTool\"},{\"attributes\":{\"axis_label\":\"SP.RUR.TOTL.ZS\",\"formatter\":{\"id\":\"1501\",\"type\":\"BasicTickFormatter\"},\"ticker\":{\"id\":\"1475\",\"type\":\"BasicTicker\"}},\"id\":\"1474\",\"type\":\"LinearAxis\"},{\"attributes\":{\"line_color\":\"#2CC775\",\"x\":{\"field\":\"x\"},\"y\":{\"field\":\"y\"}},\"id\":\"1532\",\"type\":\"Line\"},{\"attributes\":{\"source\":{\"id\":\"1526\",\"type\":\"ColumnDataSource\"}},\"id\":\"1530\",\"type\":\"CDSView\"},{\"attributes\":{\"callback\":null},\"id\":\"1461\",\"type\":\"DataRange1d\"},{\"attributes\":{\"label\":{\"value\":\"LDCs\"},\"renderers\":[{\"id\":\"1495\",\"type\":\"GlyphRenderer\"}]},\"id\":\"1504\",\"type\":\"LegendItem\"},{\"attributes\":{\"fill_alpha\":{\"value\":0.1},\"fill_color\":{\"value\":\"#1f77b4\"},\"line_alpha\":{\"value\":0.1},\"line_color\":{\"value\":\"#1f77b4\"},\"line_width\":{\"value\":3},\"x\":{\"field\":\"x\"},\"y\":{\"field\":\"y\"}},\"id\":\"1553\",\"type\":\"Circle\"},{\"attributes\":{},\"id\":\"1522\",\"type\":\"Selection\"},{\"attributes\":{},\"id\":\"1482\",\"type\":\"SaveTool\"},{\"attributes\":{\"fill_color\":{\"value\":\"#2CC775\"},\"line_color\":{\"value\":\"#2CC775\"},\"line_width\":{\"value\":3},\"x\":{\"field\":\"x\"},\"y\":{\"field\":\"y\"}},\"id\":\"1552\",\"type\":\"Circle\"},{\"attributes\":{},\"id\":\"1521\",\"type\":\"UnionRenderers\"},{\"attributes\":{\"axis_label\":\"Years\",\"formatter\":{\"id\":\"1499\",\"type\":\"BasicTickFormatter\"},\"ticker\":{\"id\":\"1470\",\"type\":\"BasicTicker\"}},\"id\":\"1469\",\"type\":\"LinearAxis\"},{\"attributes\":{\"source\":{\"id\":\"1505\",\"type\":\"ColumnDataSource\"}},\"id\":\"1509\",\"type\":\"CDSView\"},{\"attributes\":{\"fill_color\":{\"value\":\"#5430F1\"},\"line_color\":{\"value\":\"#5430F1\"},\"line_width\":{\"value\":3},\"x\":{\"field\":\"x\"},\"y\":{\"field\":\"y\"}},\"id\":\"1527\",\"type\":\"Circle\"},{\"attributes\":{\"data_source\":{\"id\":\"1505\",\"type\":\"ColumnDataSource\"},\"glyph\":{\"id\":\"1506\",\"type\":\"Circle\"},\"hover_glyph\":null,\"muted_glyph\":null,\"nonselection_glyph\":{\"id\":\"1507\",\"type\":\"Circle\"},\"selection_glyph\":null,\"view\":{\"id\":\"1509\",\"type\":\"CDSView\"}},\"id\":\"1508\",\"type\":\"GlyphRenderer\"},{\"attributes\":{\"callback\":null,\"data\":{\"x\":[\"1960\",\"1961\",\"1962\",\"1963\",\"1964\",\"1965\",\"1966\",\"1967\",\"1968\",\"1969\",\"1970\",\"1971\",\"1972\",\"1973\",\"1974\",\"1975\",\"1976\",\"1977\",\"1978\",\"1979\",\"1980\",\"1981\",\"1982\",\"1983\",\"1984\",\"1985\",\"1986\",\"1987\",\"1988\",\"1989\",\"1990\",\"1991\",\"1992\",\"1993\",\"1994\",\"1995\",\"1996\",\"1997\",\"1998\",\"1999\",\"2000\",\"2001\",\"2002\",\"2003\",\"2004\",\"2005\",\"2006\",\"2007\",\"2008\",\"2009\",\"2010\",\"2011\",\"2012\",\"2013\",\"2014\",\"2015\",\"2016\",\"2017\"],\"y\":[37.40046379762384,36.910426656412376,36.42127360665778,35.91623000953568,35.41312563450036,34.91259283883799,34.41460814240305,33.906853776784544,33.41175944934178,32.93243762343052,32.47371657833314,32.08243047483682,31.72254341724644,31.376230937591238,31.02541989859808,30.694684316251664,30.439520115174478,30.192444164715646,29.942960728335073,29.698117424398575,29.45271291536762,29.159197365938237,28.884819993799557,28.62443020571846,28.373177767459325,28.121981510199006,27.8604458404359,27.578860132814693,27.299974013372434,27.04188263980006,26.764398045351797,26.48515980107442,26.22585182821077,25.962163393862863,25.69276563048598,25.42543337883581,25.181488242051362,24.9477281910235,24.714988268795185,24.48183071086911,24.25025925627994,23.905203675760802,23.504398066886452,23.123776637102807,22.758727449036055,22.408569017585673,22.085829368063017,21.7813270701607,21.485590735868247,21.19879146971327,20.918753085714805,20.70228925587614,20.51614583488052,20.332611207313864,20.1493430924518,19.961337971168508,19.770869743541244,19.576668574669895]},\"selected\":{\"id\":\"1608\",\"type\":\"Selection\"},\"selection_policy\":{\"id\":\"1609\",\"type\":\"UnionRenderers\"}},\"id\":\"1551\",\"type\":\"ColumnDataSource\"},{\"attributes\":{},\"id\":\"1484\",\"type\":\"HelpTool\"},{\"attributes\":{\"grid_line_color\":null,\"ticker\":{\"id\":\"1470\",\"type\":\"BasicTicker\"}},\"id\":\"1473\",\"type\":\"Grid\"},{\"attributes\":{},\"id\":\"1467\",\"type\":\"LinearScale\"},{\"attributes\":{\"callback\":null,\"data\":{\"x\":[\"1960\",\"1961\",\"1962\",\"1963\",\"1964\",\"1965\",\"1966\",\"1967\",\"1968\",\"1969\",\"1970\",\"1971\",\"1972\",\"1973\",\"1974\",\"1975\",\"1976\",\"1977\",\"1978\",\"1979\",\"1980\",\"1981\",\"1982\",\"1983\",\"1984\",\"1985\",\"1986\",\"1987\",\"1988\",\"1989\",\"1990\",\"1991\",\"1992\",\"1993\",\"1994\",\"1995\",\"1996\",\"1997\",\"1998\",\"1999\",\"2000\",\"2001\",\"2002\",\"2003\",\"2004\",\"2005\",\"2006\",\"2007\",\"2008\",\"2009\",\"2010\",\"2011\",\"2012\",\"2013\",\"2014\",\"2015\",\"2016\",\"2017\"],\"y\":[77.35363246498096,76.84064660563966,76.34919251805987,75.8911929273984,75.42392730969407,75.2455974700976,75.0631805029994,74.86460025693607,74.66965460183357,74.47948707660744,74.2883999829702,74.06985096112246,73.81021003144735,73.50148081814949,73.14517867392526,72.78077064593286,72.43033463814923,72.07257197472818,71.59162525042468,70.98739212549752,70.37390537107983,69.73538235357832,69.11523379006417,68.549880776788,67.97514579855805,67.40108835439656,66.83263598790077,66.2699204282547,65.70792376395148,65.14572411519175,64.58115696120876,64.00938831679981,63.47568887216426,62.90371180406295,62.32979564017021,61.731735700190455,61.15980763653538,60.58546239748637,60.00711357933131,59.428106219917154,58.83934865686248,58.1922959373342,57.492147507303955,56.791072578711145,56.08420239450577,55.373297896508575,54.67280454992341,53.977539651904614,53.28007273722423,52.58524307181396,51.89203527626144,51.22700828217377,50.57300177227712,49.92250999168939,49.27308811920352,48.62727125106838,47.983660157571435,47.34467173180428]},\"selected\":{\"id\":\"1547\",\"type\":\"Selection\"},\"selection_policy\":{\"id\":\"1548\",\"type\":\"UnionRenderers\"}},\"id\":\"1526\",\"type\":\"ColumnDataSource\"}],\"root_ids\":[\"1458\"]},\"title\":\"Bokeh Application\",\"version\":\"1.3.4\"}};\n",
       "  var render_items = [{\"docid\":\"9db04401-22e2-4a17-9059-2ab04c7adec5\",\"roots\":{\"1458\":\"d0abd329-b4e0-4ee6-a105-2bc45b63db3b\"}}];\n",
       "  root.Bokeh.embed.embed_items_notebook(docs_json, render_items);\n",
       "\n",
       "  }\n",
       "  if (root.Bokeh !== undefined) {\n",
       "    embed_document(root);\n",
       "  } else {\n",
       "    var attempts = 0;\n",
       "    var timer = setInterval(function(root) {\n",
       "      if (root.Bokeh !== undefined) {\n",
       "        embed_document(root);\n",
       "        clearInterval(timer);\n",
       "      }\n",
       "      attempts++;\n",
       "      if (attempts > 100) {\n",
       "        console.log(\"Bokeh: ERROR: Unable to run BokehJS code because BokehJS library is missing\");\n",
       "        clearInterval(timer);\n",
       "      }\n",
       "    }, 10, root)\n",
       "  }\n",
       "})(window);"
      ],
      "application/vnd.bokehjs_exec.v0+json": ""
     },
     "metadata": {
      "application/vnd.bokehjs_exec.v0+json": {
       "id": "1458"
      }
     },
     "output_type": "display_data"
    }
   ],
   "source": [
    "# Rural population as a percentage of total population\n",
    "result = show_weighted_average(years, 'SP.RUR.TOTL.ZS', 'SP.POP.TOTL', \n",
    "                               ['LDCs', 'Developing excluding LDCs', 'OECD'])"
   ]
  },
  {
   "cell_type": "code",
   "execution_count": 8,
   "metadata": {
    "ExecuteTime": {
     "end_time": "2019-10-25T14:24:46.376641Z",
     "start_time": "2019-10-25T14:24:45.418470Z"
    },
    "slideshow": {
     "slide_type": "slide"
    }
   },
   "outputs": [
    {
     "data": {
      "text/html": [
       "\n",
       "\n",
       "\n",
       "\n",
       "\n",
       "\n",
       "  <div class=\"bk-root\" id=\"4c5aacbd-1b14-4291-836f-a6b91779b4c6\" data-root-id=\"1719\"></div>\n"
      ]
     },
     "metadata": {},
     "output_type": "display_data"
    },
    {
     "data": {
      "application/javascript": [
       "(function(root) {\n",
       "  function embed_document(root) {\n",
       "    \n",
       "  var docs_json = {\"b97e86d7-2845-457e-82bb-d3f7d3520ff7\":{\"roots\":{\"references\":[{\"attributes\":{\"below\":[{\"id\":\"1730\",\"type\":\"LinearAxis\"}],\"center\":[{\"id\":\"1734\",\"type\":\"Grid\"},{\"id\":\"1739\",\"type\":\"Grid\"},{\"id\":\"1764\",\"type\":\"Legend\"}],\"left\":[{\"id\":\"1735\",\"type\":\"LinearAxis\"}],\"plot_height\":400,\"plot_width\":900,\"renderers\":[{\"id\":\"1756\",\"type\":\"GlyphRenderer\"},{\"id\":\"1769\",\"type\":\"GlyphRenderer\"}],\"title\":{\"id\":\"1720\",\"type\":\"Title\"},\"toolbar\":{\"id\":\"1746\",\"type\":\"Toolbar\"},\"x_range\":{\"id\":\"1722\",\"type\":\"DataRange1d\"},\"x_scale\":{\"id\":\"1726\",\"type\":\"LinearScale\"},\"y_range\":{\"id\":\"1724\",\"type\":\"DataRange1d\"},\"y_scale\":{\"id\":\"1728\",\"type\":\"LinearScale\"}},\"id\":\"1719\",\"subtype\":\"Figure\",\"type\":\"Plot\"},{\"attributes\":{},\"id\":\"1743\",\"type\":\"SaveTool\"},{\"attributes\":{},\"id\":\"1831\",\"type\":\"Selection\"},{\"attributes\":{},\"id\":\"1744\",\"type\":\"ResetTool\"},{\"attributes\":{},\"id\":\"1832\",\"type\":\"UnionRenderers\"},{\"attributes\":{},\"id\":\"1745\",\"type\":\"HelpTool\"},{\"attributes\":{},\"id\":\"1833\",\"type\":\"Selection\"},{\"attributes\":{\"callback\":null},\"id\":\"1722\",\"type\":\"DataRange1d\"},{\"attributes\":{\"active_drag\":\"auto\",\"active_inspect\":\"auto\",\"active_multi\":null,\"active_scroll\":\"auto\",\"active_tap\":\"auto\",\"tools\":[{\"id\":\"1740\",\"type\":\"PanTool\"},{\"id\":\"1741\",\"type\":\"WheelZoomTool\"},{\"id\":\"1742\",\"type\":\"BoxZoomTool\"},{\"id\":\"1743\",\"type\":\"SaveTool\"},{\"id\":\"1744\",\"type\":\"ResetTool\"},{\"id\":\"1745\",\"type\":\"HelpTool\"},{\"id\":\"1771\",\"type\":\"HoverTool\"}]},\"id\":\"1746\",\"type\":\"Toolbar\"},{\"attributes\":{},\"id\":\"1834\",\"type\":\"UnionRenderers\"},{\"attributes\":{\"line_alpha\":0.1,\"line_color\":\"#1f77b4\",\"x\":{\"field\":\"x\"},\"y\":{\"field\":\"y\"}},\"id\":\"1755\",\"type\":\"Line\"},{\"attributes\":{\"callback\":null},\"id\":\"1724\",\"type\":\"DataRange1d\"},{\"attributes\":{},\"id\":\"1726\",\"type\":\"LinearScale\"},{\"attributes\":{\"data_source\":{\"id\":\"1753\",\"type\":\"ColumnDataSource\"},\"glyph\":{\"id\":\"1754\",\"type\":\"Line\"},\"hover_glyph\":null,\"muted_glyph\":null,\"nonselection_glyph\":{\"id\":\"1755\",\"type\":\"Line\"},\"selection_glyph\":null,\"view\":{\"id\":\"1757\",\"type\":\"CDSView\"}},\"id\":\"1756\",\"type\":\"GlyphRenderer\"},{\"attributes\":{\"source\":{\"id\":\"1753\",\"type\":\"ColumnDataSource\"}},\"id\":\"1757\",\"type\":\"CDSView\"},{\"attributes\":{},\"id\":\"1728\",\"type\":\"LinearScale\"},{\"attributes\":{\"text\":\"Rural population\"},\"id\":\"1720\",\"type\":\"Title\"},{\"attributes\":{},\"id\":\"1760\",\"type\":\"BasicTickFormatter\"},{\"attributes\":{\"axis_label\":\"Years\",\"formatter\":{\"id\":\"1760\",\"type\":\"BasicTickFormatter\"},\"ticker\":{\"id\":\"1731\",\"type\":\"BasicTicker\"}},\"id\":\"1730\",\"type\":\"LinearAxis\"},{\"attributes\":{},\"id\":\"1762\",\"type\":\"BasicTickFormatter\"},{\"attributes\":{},\"id\":\"1731\",\"type\":\"BasicTicker\"},{\"attributes\":{\"bottom_units\":\"screen\",\"fill_alpha\":{\"value\":0.5},\"fill_color\":{\"value\":\"lightgrey\"},\"left_units\":\"screen\",\"level\":\"overlay\",\"line_alpha\":{\"value\":1.0},\"line_color\":{\"value\":\"black\"},\"line_dash\":[4,4],\"line_width\":{\"value\":2},\"render_mode\":\"css\",\"right_units\":\"screen\",\"top_units\":\"screen\"},\"id\":\"1763\",\"type\":\"BoxAnnotation\"},{\"attributes\":{\"grid_line_color\":null,\"ticker\":{\"id\":\"1731\",\"type\":\"BasicTicker\"}},\"id\":\"1734\",\"type\":\"Grid\"},{\"attributes\":{\"items\":[{\"id\":\"1765\",\"type\":\"LegendItem\"}],\"location\":\"bottom_left\"},\"id\":\"1764\",\"type\":\"Legend\"},{\"attributes\":{\"axis_label\":\"SP.RUR.TOTL\",\"formatter\":{\"id\":\"1762\",\"type\":\"BasicTickFormatter\"},\"ticker\":{\"id\":\"1736\",\"type\":\"BasicTicker\"}},\"id\":\"1735\",\"type\":\"LinearAxis\"},{\"attributes\":{\"label\":{\"value\":\"LDCs\"},\"renderers\":[{\"id\":\"1756\",\"type\":\"GlyphRenderer\"}]},\"id\":\"1765\",\"type\":\"LegendItem\"},{\"attributes\":{},\"id\":\"1736\",\"type\":\"BasicTicker\"},{\"attributes\":{\"callback\":null,\"data\":{\"x\":[\"1960\",\"1961\",\"1962\",\"1963\",\"1964\",\"1965\",\"1966\",\"1967\",\"1968\",\"1969\",\"1970\",\"1971\",\"1972\",\"1973\",\"1974\",\"1975\",\"1976\",\"1977\",\"1978\",\"1979\",\"1980\",\"1981\",\"1982\",\"1983\",\"1984\",\"1985\",\"1986\",\"1987\",\"1988\",\"1989\",\"1990\",\"1991\",\"1992\",\"1993\",\"1994\",\"1995\",\"1996\",\"1997\",\"1998\",\"1999\",\"2000\",\"2001\",\"2002\",\"2003\",\"2004\",\"2005\",\"2006\",\"2007\",\"2008\",\"2009\",\"2010\",\"2011\",\"2012\",\"2013\",\"2014\",\"2015\",\"2016\",\"2017\"],\"y\":[217201141.0,221648032.0,226185257.0,230852048.0,235678565.0,240689826.0,245905541.0,251232801.0,256646596.0,262035089.0,267378313.0,272530645.0,277556016.0,282587860.0,287723910.0,294963433.0,300466769.0,306095035.0,311835621.0,317790214.0,323594204.0,329769115.0,336725562.0,343761255.0,350844734.0,358052669.0,365463045.0,373065564.0,380863656.0,389023941.0,397380267.0,406151517.0,415295757.0,424676447.0,434374441.0,444118896.0,453786247.0,463345981.0,472977069.0,482765911.0,492753594.0,502654567.0,512565273.0,522500780.0,532434279.0,542199358.0,551913368.0,561924852.0,571250553.0,580616500.0,590103650.0,599729467.0,607552372.0,617585217.0,627707285.0,637891695.0,648126174.0,658398338.0]},\"selected\":{\"id\":\"1833\",\"type\":\"Selection\"},\"selection_policy\":{\"id\":\"1834\",\"type\":\"UnionRenderers\"}},\"id\":\"1766\",\"type\":\"ColumnDataSource\"},{\"attributes\":{\"dimension\":1,\"grid_line_alpha\":0.5,\"ticker\":{\"id\":\"1736\",\"type\":\"BasicTicker\"}},\"id\":\"1739\",\"type\":\"Grid\"},{\"attributes\":{\"fill_color\":{\"value\":\"#FA1857\"},\"line_color\":{\"value\":\"#FA1857\"},\"line_width\":{\"value\":3},\"x\":{\"field\":\"x\"},\"y\":{\"field\":\"y\"}},\"id\":\"1767\",\"type\":\"Circle\"},{\"attributes\":{\"line_color\":\"#FA1857\",\"x\":{\"field\":\"x\"},\"y\":{\"field\":\"y\"}},\"id\":\"1754\",\"type\":\"Line\"},{\"attributes\":{\"fill_alpha\":{\"value\":0.1},\"fill_color\":{\"value\":\"#1f77b4\"},\"line_alpha\":{\"value\":0.1},\"line_color\":{\"value\":\"#1f77b4\"},\"line_width\":{\"value\":3},\"x\":{\"field\":\"x\"},\"y\":{\"field\":\"y\"}},\"id\":\"1768\",\"type\":\"Circle\"},{\"attributes\":{\"callback\":null,\"tooltips\":\"                \\n        <div style=padding=5px>Year:@x</div>\\n        <div style=padding=5px>Value:@y</div>        \\n        \"},\"id\":\"1771\",\"type\":\"HoverTool\"},{\"attributes\":{\"callback\":null,\"data\":{\"x\":[\"1960\",\"1961\",\"1962\",\"1963\",\"1964\",\"1965\",\"1966\",\"1967\",\"1968\",\"1969\",\"1970\",\"1971\",\"1972\",\"1973\",\"1974\",\"1975\",\"1976\",\"1977\",\"1978\",\"1979\",\"1980\",\"1981\",\"1982\",\"1983\",\"1984\",\"1985\",\"1986\",\"1987\",\"1988\",\"1989\",\"1990\",\"1991\",\"1992\",\"1993\",\"1994\",\"1995\",\"1996\",\"1997\",\"1998\",\"1999\",\"2000\",\"2001\",\"2002\",\"2003\",\"2004\",\"2005\",\"2006\",\"2007\",\"2008\",\"2009\",\"2010\",\"2011\",\"2012\",\"2013\",\"2014\",\"2015\",\"2016\",\"2017\"],\"y\":[217201141.0,221648032.0,226185257.0,230852048.0,235678565.0,240689826.0,245905541.0,251232801.0,256646596.0,262035089.0,267378313.0,272530645.0,277556016.0,282587860.0,287723910.0,294963433.0,300466769.0,306095035.0,311835621.0,317790214.0,323594204.0,329769115.0,336725562.0,343761255.0,350844734.0,358052669.0,365463045.0,373065564.0,380863656.0,389023941.0,397380267.0,406151517.0,415295757.0,424676447.0,434374441.0,444118896.0,453786247.0,463345981.0,472977069.0,482765911.0,492753594.0,502654567.0,512565273.0,522500780.0,532434279.0,542199358.0,551913368.0,561924852.0,571250553.0,580616500.0,590103650.0,599729467.0,607552372.0,617585217.0,627707285.0,637891695.0,648126174.0,658398338.0]},\"selected\":{\"id\":\"1831\",\"type\":\"Selection\"},\"selection_policy\":{\"id\":\"1832\",\"type\":\"UnionRenderers\"}},\"id\":\"1753\",\"type\":\"ColumnDataSource\"},{\"attributes\":{\"data_source\":{\"id\":\"1766\",\"type\":\"ColumnDataSource\"},\"glyph\":{\"id\":\"1767\",\"type\":\"Circle\"},\"hover_glyph\":null,\"muted_glyph\":null,\"nonselection_glyph\":{\"id\":\"1768\",\"type\":\"Circle\"},\"selection_glyph\":null,\"view\":{\"id\":\"1770\",\"type\":\"CDSView\"}},\"id\":\"1769\",\"type\":\"GlyphRenderer\"},{\"attributes\":{},\"id\":\"1740\",\"type\":\"PanTool\"},{\"attributes\":{\"source\":{\"id\":\"1766\",\"type\":\"ColumnDataSource\"}},\"id\":\"1770\",\"type\":\"CDSView\"},{\"attributes\":{},\"id\":\"1741\",\"type\":\"WheelZoomTool\"},{\"attributes\":{\"overlay\":{\"id\":\"1763\",\"type\":\"BoxAnnotation\"}},\"id\":\"1742\",\"type\":\"BoxZoomTool\"}],\"root_ids\":[\"1719\"]},\"title\":\"Bokeh Application\",\"version\":\"1.3.4\"}};\n",
       "  var render_items = [{\"docid\":\"b97e86d7-2845-457e-82bb-d3f7d3520ff7\",\"roots\":{\"1719\":\"4c5aacbd-1b14-4291-836f-a6b91779b4c6\"}}];\n",
       "  root.Bokeh.embed.embed_items_notebook(docs_json, render_items);\n",
       "\n",
       "  }\n",
       "  if (root.Bokeh !== undefined) {\n",
       "    embed_document(root);\n",
       "  } else {\n",
       "    var attempts = 0;\n",
       "    var timer = setInterval(function(root) {\n",
       "      if (root.Bokeh !== undefined) {\n",
       "        embed_document(root);\n",
       "        clearInterval(timer);\n",
       "      }\n",
       "      attempts++;\n",
       "      if (attempts > 100) {\n",
       "        console.log(\"Bokeh: ERROR: Unable to run BokehJS code because BokehJS library is missing\");\n",
       "        clearInterval(timer);\n",
       "      }\n",
       "    }, 10, root)\n",
       "  }\n",
       "})(window);"
      ],
      "application/vnd.bokehjs_exec.v0+json": ""
     },
     "metadata": {
      "application/vnd.bokehjs_exec.v0+json": {
       "id": "1719"
      }
     },
     "output_type": "display_data"
    }
   ],
   "source": [
    "result = show_group_total(years, 'SP.RUR.TOTL', ['LDCs'])"
   ]
  },
  {
   "cell_type": "code",
   "execution_count": 9,
   "metadata": {
    "ExecuteTime": {
     "end_time": "2019-10-25T14:24:52.788910Z",
     "start_time": "2019-10-25T14:24:46.379697Z"
    },
    "slideshow": {
     "slide_type": "slide"
    }
   },
   "outputs": [
    {
     "data": {
      "text/html": [
       "\n",
       "\n",
       "\n",
       "\n",
       "\n",
       "\n",
       "  <div class=\"bk-root\" id=\"df4ca639-b2f5-42de-97dd-283b51af9e1f\" data-root-id=\"1896\"></div>\n"
      ]
     },
     "metadata": {},
     "output_type": "display_data"
    },
    {
     "data": {
      "application/javascript": [
       "(function(root) {\n",
       "  function embed_document(root) {\n",
       "    \n",
       "  var docs_json = {\"320b627c-7b8b-4d94-b15e-d630e305932d\":{\"roots\":{\"references\":[{\"attributes\":{\"below\":[{\"id\":\"1907\",\"type\":\"LinearAxis\"}],\"center\":[{\"id\":\"1911\",\"type\":\"Grid\"},{\"id\":\"1916\",\"type\":\"Grid\"},{\"id\":\"1941\",\"type\":\"Legend\"}],\"left\":[{\"id\":\"1912\",\"type\":\"LinearAxis\"}],\"plot_height\":400,\"plot_width\":800,\"renderers\":[{\"id\":\"1933\",\"type\":\"GlyphRenderer\"},{\"id\":\"1946\",\"type\":\"GlyphRenderer\"},{\"id\":\"1951\",\"type\":\"GlyphRenderer\"},{\"id\":\"1967\",\"type\":\"GlyphRenderer\"},{\"id\":\"1972\",\"type\":\"GlyphRenderer\"},{\"id\":\"1992\",\"type\":\"GlyphRenderer\"},{\"id\":\"1997\",\"type\":\"GlyphRenderer\"},{\"id\":\"2021\",\"type\":\"GlyphRenderer\"}],\"title\":{\"id\":\"1897\",\"type\":\"Title\"},\"toolbar\":{\"id\":\"1923\",\"type\":\"Toolbar\"},\"x_range\":{\"id\":\"1899\",\"type\":\"DataRange1d\"},\"x_scale\":{\"id\":\"1903\",\"type\":\"LinearScale\"},\"y_range\":{\"id\":\"1901\",\"type\":\"DataRange1d\"},\"y_scale\":{\"id\":\"1905\",\"type\":\"LinearScale\"}},\"id\":\"1896\",\"subtype\":\"Figure\",\"type\":\"Plot\"},{\"attributes\":{\"label\":{\"value\":\"LDCs\"},\"renderers\":[{\"id\":\"1933\",\"type\":\"GlyphRenderer\"}]},\"id\":\"1942\",\"type\":\"LegendItem\"},{\"attributes\":{\"fill_alpha\":{\"value\":0.1},\"fill_color\":{\"value\":\"#1f77b4\"},\"line_alpha\":{\"value\":0.1},\"line_color\":{\"value\":\"#1f77b4\"},\"line_width\":{\"value\":3},\"x\":{\"field\":\"x\"},\"y\":{\"field\":\"y\"}},\"id\":\"1966\",\"type\":\"Circle\"},{\"attributes\":{\"fill_alpha\":{\"value\":0.1},\"fill_color\":{\"value\":\"#1f77b4\"},\"line_alpha\":{\"value\":0.1},\"line_color\":{\"value\":\"#1f77b4\"},\"line_width\":{\"value\":3},\"x\":{\"field\":\"x\"},\"y\":{\"field\":\"y\"}},\"id\":\"1945\",\"type\":\"Circle\"},{\"attributes\":{\"callback\":null,\"data\":{\"x\":[\"2000\",\"2001\",\"2002\",\"2003\",\"2004\",\"2005\",\"2006\",\"2007\",\"2008\",\"2009\",\"2010\",\"2011\",\"2012\",\"2013\",\"2014\",\"2015\",\"2016\",\"2017\"],\"y\":[20.653439230371426,20.415555136413452,20.200407075212425,19.99721546354425,19.792580083113325,19.58153049491419,19.42936673752946,19.266708712785178,19.10062316536645,18.940792466102835,18.78763312883592,18.68284269266012,18.553760570557017,18.4175092045611,18.28626606521173,18.163323640146963,18.042734326142373,17.93618839869138]},\"selected\":{\"id\":\"2012\",\"type\":\"Selection\"},\"selection_policy\":{\"id\":\"2013\",\"type\":\"UnionRenderers\"}},\"id\":\"1969\",\"type\":\"ColumnDataSource\"},{\"attributes\":{\"data_source\":{\"id\":\"1964\",\"type\":\"ColumnDataSource\"},\"glyph\":{\"id\":\"1965\",\"type\":\"Circle\"},\"hover_glyph\":null,\"muted_glyph\":null,\"nonselection_glyph\":{\"id\":\"1966\",\"type\":\"Circle\"},\"selection_glyph\":null,\"view\":{\"id\":\"1968\",\"type\":\"CDSView\"}},\"id\":\"1967\",\"type\":\"GlyphRenderer\"},{\"attributes\":{\"callback\":null,\"data\":{\"x\":[\"2000\",\"2001\",\"2002\",\"2003\",\"2004\",\"2005\",\"2006\",\"2007\",\"2008\",\"2009\",\"2010\",\"2011\",\"2012\",\"2013\",\"2014\",\"2015\",\"2016\",\"2017\"],\"y\":[43.05250753237409,42.92645426230383,42.78153339187954,42.623671123778905,42.4538109516677,42.26938810853834,42.15716163307373,42.02039711340489,41.86147936931502,41.68421796662147,41.49082505944,41.290660205111934,41.06737328423549,40.819736905133695,40.55543302226044,40.27763880852747,40.006149187520116,39.721083369953]},\"selected\":{\"id\":\"1960\",\"type\":\"Selection\"},\"selection_policy\":{\"id\":\"1961\",\"type\":\"UnionRenderers\"}},\"id\":\"1943\",\"type\":\"ColumnDataSource\"},{\"attributes\":{\"source\":{\"id\":\"1964\",\"type\":\"ColumnDataSource\"}},\"id\":\"1968\",\"type\":\"CDSView\"},{\"attributes\":{},\"id\":\"1903\",\"type\":\"LinearScale\"},{\"attributes\":{},\"id\":\"1939\",\"type\":\"BasicTickFormatter\"},{\"attributes\":{\"text\":\"Population ages 0-14 (% of total population) weighted against Population, total\"},\"id\":\"1897\",\"type\":\"Title\"},{\"attributes\":{\"label\":{\"value\":\"Developing excluding LDCs\"},\"renderers\":[{\"id\":\"1951\",\"type\":\"GlyphRenderer\"}]},\"id\":\"1963\",\"type\":\"LegendItem\"},{\"attributes\":{},\"id\":\"1905\",\"type\":\"LinearScale\"},{\"attributes\":{\"fill_color\":{\"value\":\"#FA1857\"},\"line_color\":{\"value\":\"#FA1857\"},\"line_width\":{\"value\":3},\"x\":{\"field\":\"x\"},\"y\":{\"field\":\"y\"}},\"id\":\"1944\",\"type\":\"Circle\"},{\"attributes\":{\"callback\":null},\"id\":\"1899\",\"type\":\"DataRange1d\"},{\"attributes\":{\"callback\":null,\"data\":{\"x\":[\"2000\",\"2001\",\"2002\",\"2003\",\"2004\",\"2005\",\"2006\",\"2007\",\"2008\",\"2009\",\"2010\",\"2011\",\"2012\",\"2013\",\"2014\",\"2015\",\"2016\",\"2017\"],\"y\":[31.46247449723159,31.051171911215434,30.519130398965917,29.925822930439033,29.3696380683664,28.89970990346446,28.48061580116519,28.13477676517371,27.845842847927425,27.57508608250911,27.302294757124095,27.06200424509802,26.817074946864174,26.571303888699866,26.33248478028756,26.10246731610828,25.884872437055105,25.670861481196635]},\"selected\":{\"id\":\"1985\",\"type\":\"Selection\"},\"selection_policy\":{\"id\":\"1986\",\"type\":\"UnionRenderers\"}},\"id\":\"1964\",\"type\":\"ColumnDataSource\"},{\"attributes\":{\"bottom_units\":\"screen\",\"fill_alpha\":{\"value\":0.5},\"fill_color\":{\"value\":\"lightgrey\"},\"left_units\":\"screen\",\"level\":\"overlay\",\"line_alpha\":{\"value\":1.0},\"line_color\":{\"value\":\"black\"},\"line_dash\":[4,4],\"line_width\":{\"value\":2},\"render_mode\":\"css\",\"right_units\":\"screen\",\"top_units\":\"screen\"},\"id\":\"1940\",\"type\":\"BoxAnnotation\"},{\"attributes\":{\"callback\":null},\"id\":\"1901\",\"type\":\"DataRange1d\"},{\"attributes\":{\"fill_color\":{\"value\":\"#5430F1\"},\"line_color\":{\"value\":\"#5430F1\"},\"line_width\":{\"value\":3},\"x\":{\"field\":\"x\"},\"y\":{\"field\":\"y\"}},\"id\":\"1965\",\"type\":\"Circle\"},{\"attributes\":{},\"id\":\"1959\",\"type\":\"UnionRenderers\"},{\"attributes\":{\"items\":[{\"id\":\"1942\",\"type\":\"LegendItem\"},{\"id\":\"1963\",\"type\":\"LegendItem\"},{\"id\":\"1988\",\"type\":\"LegendItem\"},{\"id\":\"2017\",\"type\":\"LegendItem\"}],\"location\":\"bottom_left\"},\"id\":\"1941\",\"type\":\"Legend\"},{\"attributes\":{},\"id\":\"1937\",\"type\":\"BasicTickFormatter\"},{\"attributes\":{},\"id\":\"1960\",\"type\":\"Selection\"},{\"attributes\":{\"source\":{\"id\":\"1930\",\"type\":\"ColumnDataSource\"}},\"id\":\"1934\",\"type\":\"CDSView\"},{\"attributes\":{},\"id\":\"1961\",\"type\":\"UnionRenderers\"},{\"attributes\":{\"data_source\":{\"id\":\"1948\",\"type\":\"ColumnDataSource\"},\"glyph\":{\"id\":\"1949\",\"type\":\"Line\"},\"hover_glyph\":null,\"muted_glyph\":null,\"nonselection_glyph\":{\"id\":\"1950\",\"type\":\"Line\"},\"selection_glyph\":null,\"view\":{\"id\":\"1952\",\"type\":\"CDSView\"}},\"id\":\"1951\",\"type\":\"GlyphRenderer\"},{\"attributes\":{\"callback\":null,\"tooltips\":\"                \\n        <div style=padding=5px>Year:@x</div>\\n        <div style=padding=5px>Value:@y</div>        \\n        \"},\"id\":\"2023\",\"type\":\"HoverTool\"},{\"attributes\":{\"active_drag\":\"auto\",\"active_inspect\":\"auto\",\"active_multi\":null,\"active_scroll\":\"auto\",\"active_tap\":\"auto\",\"tools\":[{\"id\":\"1917\",\"type\":\"PanTool\"},{\"id\":\"1918\",\"type\":\"WheelZoomTool\"},{\"id\":\"1919\",\"type\":\"BoxZoomTool\"},{\"id\":\"1920\",\"type\":\"SaveTool\"},{\"id\":\"1921\",\"type\":\"ResetTool\"},{\"id\":\"1922\",\"type\":\"HelpTool\"},{\"id\":\"2023\",\"type\":\"HoverTool\"}]},\"id\":\"1923\",\"type\":\"Toolbar\"},{\"attributes\":{\"data_source\":{\"id\":\"1930\",\"type\":\"ColumnDataSource\"},\"glyph\":{\"id\":\"1931\",\"type\":\"Line\"},\"hover_glyph\":null,\"muted_glyph\":null,\"nonselection_glyph\":{\"id\":\"1932\",\"type\":\"Line\"},\"selection_glyph\":null,\"view\":{\"id\":\"1934\",\"type\":\"CDSView\"}},\"id\":\"1933\",\"type\":\"GlyphRenderer\"},{\"attributes\":{},\"id\":\"1921\",\"type\":\"ResetTool\"},{\"attributes\":{},\"id\":\"1920\",\"type\":\"SaveTool\"},{\"attributes\":{\"line_alpha\":0.1,\"line_color\":\"#1f77b4\",\"x\":{\"field\":\"x\"},\"y\":{\"field\":\"y\"}},\"id\":\"1932\",\"type\":\"Line\"},{\"attributes\":{},\"id\":\"1922\",\"type\":\"HelpTool\"},{\"attributes\":{},\"id\":\"1918\",\"type\":\"WheelZoomTool\"},{\"attributes\":{},\"id\":\"1917\",\"type\":\"PanTool\"},{\"attributes\":{\"line_color\":\"#FA1857\",\"x\":{\"field\":\"x\"},\"y\":{\"field\":\"y\"}},\"id\":\"1931\",\"type\":\"Line\"},{\"attributes\":{\"overlay\":{\"id\":\"1940\",\"type\":\"BoxAnnotation\"}},\"id\":\"1919\",\"type\":\"BoxZoomTool\"},{\"attributes\":{\"callback\":null,\"data\":{\"x\":[\"2000\",\"2001\",\"2002\",\"2003\",\"2004\",\"2005\",\"2006\",\"2007\",\"2008\",\"2009\",\"2010\",\"2011\",\"2012\",\"2013\",\"2014\",\"2015\",\"2016\",\"2017\"],\"y\":[43.05250753237409,42.92645426230383,42.78153339187954,42.623671123778905,42.4538109516677,42.26938810853834,42.15716163307373,42.02039711340489,41.86147936931502,41.68421796662147,41.49082505944,41.290660205111934,41.06737328423549,40.819736905133695,40.55543302226044,40.27763880852747,40.006149187520116,39.721083369953]},\"selected\":{\"id\":\"1958\",\"type\":\"Selection\"},\"selection_policy\":{\"id\":\"1959\",\"type\":\"UnionRenderers\"}},\"id\":\"1930\",\"type\":\"ColumnDataSource\"},{\"attributes\":{\"dimension\":1,\"grid_line_alpha\":0.5,\"ticker\":{\"id\":\"1913\",\"type\":\"BasicTicker\"}},\"id\":\"1916\",\"type\":\"Grid\"},{\"attributes\":{},\"id\":\"1913\",\"type\":\"BasicTicker\"},{\"attributes\":{\"axis_label\":\"SP.POP.0014.TO.ZS\",\"formatter\":{\"id\":\"1939\",\"type\":\"BasicTickFormatter\"},\"ticker\":{\"id\":\"1913\",\"type\":\"BasicTicker\"}},\"id\":\"1912\",\"type\":\"LinearAxis\"},{\"attributes\":{\"source\":{\"id\":\"1948\",\"type\":\"ColumnDataSource\"}},\"id\":\"1952\",\"type\":\"CDSView\"},{\"attributes\":{},\"id\":\"1958\",\"type\":\"Selection\"},{\"attributes\":{\"grid_line_color\":null,\"ticker\":{\"id\":\"1908\",\"type\":\"BasicTicker\"}},\"id\":\"1911\",\"type\":\"Grid\"},{\"attributes\":{\"callback\":null,\"data\":{\"x\":[\"2000\",\"2001\",\"2002\",\"2003\",\"2004\",\"2005\",\"2006\",\"2007\",\"2008\",\"2009\",\"2010\",\"2011\",\"2012\",\"2013\",\"2014\",\"2015\",\"2016\",\"2017\"],\"y\":[31.46247449723159,31.051171911215434,30.519130398965917,29.925822930439033,29.3696380683664,28.89970990346446,28.48061580116519,28.13477676517371,27.845842847927425,27.57508608250911,27.302294757124095,27.06200424509802,26.817074946864174,26.571303888699866,26.33248478028756,26.10246731610828,25.884872437055105,25.670861481196635]},\"selected\":{\"id\":\"1983\",\"type\":\"Selection\"},\"selection_policy\":{\"id\":\"1984\",\"type\":\"UnionRenderers\"}},\"id\":\"1948\",\"type\":\"ColumnDataSource\"},{\"attributes\":{\"line_color\":\"#5430F1\",\"x\":{\"field\":\"x\"},\"y\":{\"field\":\"y\"}},\"id\":\"1949\",\"type\":\"Line\"},{\"attributes\":{},\"id\":\"1908\",\"type\":\"BasicTicker\"},{\"attributes\":{\"line_alpha\":0.1,\"line_color\":\"#1f77b4\",\"x\":{\"field\":\"x\"},\"y\":{\"field\":\"y\"}},\"id\":\"1950\",\"type\":\"Line\"},{\"attributes\":{\"axis_label\":\"Years\",\"formatter\":{\"id\":\"1937\",\"type\":\"BasicTickFormatter\"},\"ticker\":{\"id\":\"1908\",\"type\":\"BasicTicker\"}},\"id\":\"1907\",\"type\":\"LinearAxis\"},{\"attributes\":{\"data_source\":{\"id\":\"1943\",\"type\":\"ColumnDataSource\"},\"glyph\":{\"id\":\"1944\",\"type\":\"Circle\"},\"hover_glyph\":null,\"muted_glyph\":null,\"nonselection_glyph\":{\"id\":\"1945\",\"type\":\"Circle\"},\"selection_glyph\":null,\"view\":{\"id\":\"1947\",\"type\":\"CDSView\"}},\"id\":\"1946\",\"type\":\"GlyphRenderer\"},{\"attributes\":{\"source\":{\"id\":\"1943\",\"type\":\"ColumnDataSource\"}},\"id\":\"1947\",\"type\":\"CDSView\"},{\"attributes\":{\"fill_alpha\":{\"value\":0.1},\"fill_color\":{\"value\":\"#1f77b4\"},\"line_alpha\":{\"value\":0.1},\"line_color\":{\"value\":\"#1f77b4\"},\"line_width\":{\"value\":3},\"x\":{\"field\":\"x\"},\"y\":{\"field\":\"y\"}},\"id\":\"2020\",\"type\":\"Circle\"},{\"attributes\":{\"label\":{\"value\":\"UMICs\"},\"renderers\":[{\"id\":\"1997\",\"type\":\"GlyphRenderer\"}]},\"id\":\"2017\",\"type\":\"LegendItem\"},{\"attributes\":{},\"id\":\"2108\",\"type\":\"UnionRenderers\"},{\"attributes\":{\"callback\":null,\"data\":{\"x\":[\"2000\",\"2001\",\"2002\",\"2003\",\"2004\",\"2005\",\"2006\",\"2007\",\"2008\",\"2009\",\"2010\",\"2011\",\"2012\",\"2013\",\"2014\",\"2015\",\"2016\",\"2017\"],\"y\":[26.30800939099633,25.774296102468575,25.026248850289214,24.166506585119667,23.378611198688276,22.7564057756466,22.23850077501672,21.855123550494294,21.582316836822265,21.352857582015258,21.131736385781664,20.96685520801494,20.822031831895877,20.69432052610686,20.584341818712765,20.487134501741675,20.399401670984584,20.307288003226695]},\"selected\":{\"id\":\"2107\",\"type\":\"Selection\"},\"selection_policy\":{\"id\":\"2108\",\"type\":\"UnionRenderers\"}},\"id\":\"2018\",\"type\":\"ColumnDataSource\"},{\"attributes\":{\"fill_color\":{\"value\":\"#F4CA04\"},\"line_color\":{\"value\":\"#F4CA04\"},\"line_width\":{\"value\":3},\"x\":{\"field\":\"x\"},\"y\":{\"field\":\"y\"}},\"id\":\"2019\",\"type\":\"Circle\"},{\"attributes\":{},\"id\":\"2107\",\"type\":\"Selection\"},{\"attributes\":{},\"id\":\"2013\",\"type\":\"UnionRenderers\"},{\"attributes\":{},\"id\":\"2014\",\"type\":\"Selection\"},{\"attributes\":{},\"id\":\"2106\",\"type\":\"UnionRenderers\"},{\"attributes\":{},\"id\":\"2015\",\"type\":\"UnionRenderers\"},{\"attributes\":{\"data_source\":{\"id\":\"1994\",\"type\":\"ColumnDataSource\"},\"glyph\":{\"id\":\"1995\",\"type\":\"Line\"},\"hover_glyph\":null,\"muted_glyph\":null,\"nonselection_glyph\":{\"id\":\"1996\",\"type\":\"Line\"},\"selection_glyph\":null,\"view\":{\"id\":\"1998\",\"type\":\"CDSView\"}},\"id\":\"1997\",\"type\":\"GlyphRenderer\"},{\"attributes\":{},\"id\":\"2105\",\"type\":\"Selection\"},{\"attributes\":{\"source\":{\"id\":\"1994\",\"type\":\"ColumnDataSource\"}},\"id\":\"1998\",\"type\":\"CDSView\"},{\"attributes\":{},\"id\":\"2012\",\"type\":\"Selection\"},{\"attributes\":{\"callback\":null,\"data\":{\"x\":[\"2000\",\"2001\",\"2002\",\"2003\",\"2004\",\"2005\",\"2006\",\"2007\",\"2008\",\"2009\",\"2010\",\"2011\",\"2012\",\"2013\",\"2014\",\"2015\",\"2016\",\"2017\"],\"y\":[26.30800939099633,25.774296102468575,25.026248850289214,24.166506585119667,23.378611198688276,22.7564057756466,22.23850077501672,21.855123550494294,21.582316836822265,21.352857582015258,21.131736385781664,20.96685520801494,20.822031831895877,20.69432052610686,20.584341818712765,20.487134501741675,20.399401670984584,20.307288003226695]},\"selected\":{\"id\":\"2105\",\"type\":\"Selection\"},\"selection_policy\":{\"id\":\"2106\",\"type\":\"UnionRenderers\"}},\"id\":\"1994\",\"type\":\"ColumnDataSource\"},{\"attributes\":{\"line_color\":\"#F4CA04\",\"x\":{\"field\":\"x\"},\"y\":{\"field\":\"y\"}},\"id\":\"1995\",\"type\":\"Line\"},{\"attributes\":{\"source\":{\"id\":\"2018\",\"type\":\"ColumnDataSource\"}},\"id\":\"2022\",\"type\":\"CDSView\"},{\"attributes\":{\"line_alpha\":0.1,\"line_color\":\"#1f77b4\",\"x\":{\"field\":\"x\"},\"y\":{\"field\":\"y\"}},\"id\":\"1996\",\"type\":\"Line\"},{\"attributes\":{\"data_source\":{\"id\":\"2018\",\"type\":\"ColumnDataSource\"},\"glyph\":{\"id\":\"2019\",\"type\":\"Circle\"},\"hover_glyph\":null,\"muted_glyph\":null,\"nonselection_glyph\":{\"id\":\"2020\",\"type\":\"Circle\"},\"selection_glyph\":null,\"view\":{\"id\":\"2022\",\"type\":\"CDSView\"}},\"id\":\"2021\",\"type\":\"GlyphRenderer\"},{\"attributes\":{\"fill_alpha\":{\"value\":0.1},\"fill_color\":{\"value\":\"#1f77b4\"},\"line_alpha\":{\"value\":0.1},\"line_color\":{\"value\":\"#1f77b4\"},\"line_width\":{\"value\":3},\"x\":{\"field\":\"x\"},\"y\":{\"field\":\"y\"}},\"id\":\"1991\",\"type\":\"Circle\"},{\"attributes\":{\"data_source\":{\"id\":\"1989\",\"type\":\"ColumnDataSource\"},\"glyph\":{\"id\":\"1990\",\"type\":\"Circle\"},\"hover_glyph\":null,\"muted_glyph\":null,\"nonselection_glyph\":{\"id\":\"1991\",\"type\":\"Circle\"},\"selection_glyph\":null,\"view\":{\"id\":\"1993\",\"type\":\"CDSView\"}},\"id\":\"1992\",\"type\":\"GlyphRenderer\"},{\"attributes\":{\"source\":{\"id\":\"1989\",\"type\":\"ColumnDataSource\"}},\"id\":\"1993\",\"type\":\"CDSView\"},{\"attributes\":{\"label\":{\"value\":\"OECD\"},\"renderers\":[{\"id\":\"1972\",\"type\":\"GlyphRenderer\"}]},\"id\":\"1988\",\"type\":\"LegendItem\"},{\"attributes\":{\"callback\":null,\"data\":{\"x\":[\"2000\",\"2001\",\"2002\",\"2003\",\"2004\",\"2005\",\"2006\",\"2007\",\"2008\",\"2009\",\"2010\",\"2011\",\"2012\",\"2013\",\"2014\",\"2015\",\"2016\",\"2017\"],\"y\":[20.653439230371426,20.415555136413452,20.200407075212425,19.99721546354425,19.792580083113325,19.58153049491419,19.42936673752946,19.266708712785178,19.10062316536645,18.940792466102835,18.78763312883592,18.68284269266012,18.553760570557017,18.4175092045611,18.28626606521173,18.163323640146963,18.042734326142373,17.93618839869138]},\"selected\":{\"id\":\"2014\",\"type\":\"Selection\"},\"selection_policy\":{\"id\":\"2015\",\"type\":\"UnionRenderers\"}},\"id\":\"1989\",\"type\":\"ColumnDataSource\"},{\"attributes\":{\"fill_color\":{\"value\":\"#2CC775\"},\"line_color\":{\"value\":\"#2CC775\"},\"line_width\":{\"value\":3},\"x\":{\"field\":\"x\"},\"y\":{\"field\":\"y\"}},\"id\":\"1990\",\"type\":\"Circle\"},{\"attributes\":{},\"id\":\"1984\",\"type\":\"UnionRenderers\"},{\"attributes\":{},\"id\":\"1985\",\"type\":\"Selection\"},{\"attributes\":{},\"id\":\"1986\",\"type\":\"UnionRenderers\"},{\"attributes\":{\"data_source\":{\"id\":\"1969\",\"type\":\"ColumnDataSource\"},\"glyph\":{\"id\":\"1970\",\"type\":\"Line\"},\"hover_glyph\":null,\"muted_glyph\":null,\"nonselection_glyph\":{\"id\":\"1971\",\"type\":\"Line\"},\"selection_glyph\":null,\"view\":{\"id\":\"1973\",\"type\":\"CDSView\"}},\"id\":\"1972\",\"type\":\"GlyphRenderer\"},{\"attributes\":{\"source\":{\"id\":\"1969\",\"type\":\"ColumnDataSource\"}},\"id\":\"1973\",\"type\":\"CDSView\"},{\"attributes\":{},\"id\":\"1983\",\"type\":\"Selection\"},{\"attributes\":{\"line_color\":\"#2CC775\",\"x\":{\"field\":\"x\"},\"y\":{\"field\":\"y\"}},\"id\":\"1970\",\"type\":\"Line\"},{\"attributes\":{\"line_alpha\":0.1,\"line_color\":\"#1f77b4\",\"x\":{\"field\":\"x\"},\"y\":{\"field\":\"y\"}},\"id\":\"1971\",\"type\":\"Line\"}],\"root_ids\":[\"1896\"]},\"title\":\"Bokeh Application\",\"version\":\"1.3.4\"}};\n",
       "  var render_items = [{\"docid\":\"320b627c-7b8b-4d94-b15e-d630e305932d\",\"roots\":{\"1896\":\"df4ca639-b2f5-42de-97dd-283b51af9e1f\"}}];\n",
       "  root.Bokeh.embed.embed_items_notebook(docs_json, render_items);\n",
       "\n",
       "  }\n",
       "  if (root.Bokeh !== undefined) {\n",
       "    embed_document(root);\n",
       "  } else {\n",
       "    var attempts = 0;\n",
       "    var timer = setInterval(function(root) {\n",
       "      if (root.Bokeh !== undefined) {\n",
       "        embed_document(root);\n",
       "        clearInterval(timer);\n",
       "      }\n",
       "      attempts++;\n",
       "      if (attempts > 100) {\n",
       "        console.log(\"Bokeh: ERROR: Unable to run BokehJS code because BokehJS library is missing\");\n",
       "        clearInterval(timer);\n",
       "      }\n",
       "    }, 10, root)\n",
       "  }\n",
       "})(window);"
      ],
      "application/vnd.bokehjs_exec.v0+json": ""
     },
     "metadata": {
      "application/vnd.bokehjs_exec.v0+json": {
       "id": "1896"
      }
     },
     "output_type": "display_data"
    }
   ],
   "source": [
    "years = list(map(str, list(range(2000,2018))))\n",
    "# Population 0-14\n",
    "result = show_weighted_average(years, 'SP.POP.0014.TO.ZS', 'SP.POP.TOTL', \n",
    "                               ['LDCs', 'Developing excluding LDCs', 'OECD', 'UMICs'])"
   ]
  },
  {
   "cell_type": "code",
   "execution_count": 10,
   "metadata": {
    "ExecuteTime": {
     "end_time": "2019-10-25T14:24:54.398684Z",
     "start_time": "2019-10-25T14:24:52.791475Z"
    },
    "slideshow": {
     "slide_type": "slide"
    }
   },
   "outputs": [
    {
     "data": {
      "text/html": [
       "\n",
       "\n",
       "\n",
       "\n",
       "\n",
       "\n",
       "  <div class=\"bk-root\" id=\"bc4806d5-a523-456d-b833-d089eafd6ef5\" data-root-id=\"2242\"></div>\n"
      ]
     },
     "metadata": {},
     "output_type": "display_data"
    },
    {
     "data": {
      "application/javascript": [
       "(function(root) {\n",
       "  function embed_document(root) {\n",
       "    \n",
       "  var docs_json = {\"73c70869-2177-43bb-aeef-71c6c66ac8bc\":{\"roots\":{\"references\":[{\"attributes\":{\"below\":[{\"id\":\"2253\",\"type\":\"LinearAxis\"}],\"center\":[{\"id\":\"2257\",\"type\":\"Grid\"},{\"id\":\"2262\",\"type\":\"Grid\"},{\"id\":\"2287\",\"type\":\"Legend\"}],\"left\":[{\"id\":\"2258\",\"type\":\"LinearAxis\"}],\"plot_height\":400,\"plot_width\":900,\"renderers\":[{\"id\":\"2279\",\"type\":\"GlyphRenderer\"},{\"id\":\"2292\",\"type\":\"GlyphRenderer\"},{\"id\":\"2297\",\"type\":\"GlyphRenderer\"},{\"id\":\"2313\",\"type\":\"GlyphRenderer\"},{\"id\":\"2318\",\"type\":\"GlyphRenderer\"},{\"id\":\"2338\",\"type\":\"GlyphRenderer\"},{\"id\":\"2343\",\"type\":\"GlyphRenderer\"},{\"id\":\"2367\",\"type\":\"GlyphRenderer\"}],\"title\":{\"id\":\"2243\",\"type\":\"Title\"},\"toolbar\":{\"id\":\"2269\",\"type\":\"Toolbar\"},\"x_range\":{\"id\":\"2245\",\"type\":\"DataRange1d\"},\"x_scale\":{\"id\":\"2249\",\"type\":\"LinearScale\"},\"y_range\":{\"id\":\"2247\",\"type\":\"DataRange1d\"},\"y_scale\":{\"id\":\"2251\",\"type\":\"LinearScale\"}},\"id\":\"2242\",\"subtype\":\"Figure\",\"type\":\"Plot\"},{\"attributes\":{},\"id\":\"2474\",\"type\":\"UnionRenderers\"},{\"attributes\":{\"fill_color\":{\"value\":\"#5430F1\"},\"line_color\":{\"value\":\"#5430F1\"},\"line_width\":{\"value\":3},\"x\":{\"field\":\"x\"},\"y\":{\"field\":\"y\"}},\"id\":\"2311\",\"type\":\"Circle\"},{\"attributes\":{\"label\":{\"value\":\"UMICs\"},\"renderers\":[{\"id\":\"2343\",\"type\":\"GlyphRenderer\"}]},\"id\":\"2363\",\"type\":\"LegendItem\"},{\"attributes\":{},\"id\":\"2476\",\"type\":\"UnionRenderers\"},{\"attributes\":{},\"id\":\"2359\",\"type\":\"UnionRenderers\"},{\"attributes\":{\"source\":{\"id\":\"2340\",\"type\":\"ColumnDataSource\"}},\"id\":\"2344\",\"type\":\"CDSView\"},{\"attributes\":{},\"id\":\"2360\",\"type\":\"Selection\"},{\"attributes\":{\"fill_alpha\":{\"value\":0.1},\"fill_color\":{\"value\":\"#1f77b4\"},\"line_alpha\":{\"value\":0.1},\"line_color\":{\"value\":\"#1f77b4\"},\"line_width\":{\"value\":3},\"x\":{\"field\":\"x\"},\"y\":{\"field\":\"y\"}},\"id\":\"2337\",\"type\":\"Circle\"},{\"attributes\":{},\"id\":\"2475\",\"type\":\"Selection\"},{\"attributes\":{\"data_source\":{\"id\":\"2310\",\"type\":\"ColumnDataSource\"},\"glyph\":{\"id\":\"2311\",\"type\":\"Circle\"},\"hover_glyph\":null,\"muted_glyph\":null,\"nonselection_glyph\":{\"id\":\"2312\",\"type\":\"Circle\"},\"selection_glyph\":null,\"view\":{\"id\":\"2314\",\"type\":\"CDSView\"}},\"id\":\"2313\",\"type\":\"GlyphRenderer\"},{\"attributes\":{\"callback\":null,\"data\":{\"x\":[2020,2025,2030,2035,2040,2045,2050,2055,2060,2065,2070,2075,2080,2085,2090,2095,2100],\"y\":[4993103.786000001,5218738.716999997,5421085.645999999,5600144.947999999,5752488.066,5878012.936,5976889.714000002,6050353.927999998,6099916.011999999,6128642.660999999,6138746.354000001,6132326.774999998,6111578.452999997,6078805.713000003,6037048.572999997,5987636.3539999975,5930332.014000001]},\"selected\":{\"id\":\"2331\",\"type\":\"Selection\"},\"selection_policy\":{\"id\":\"2332\",\"type\":\"UnionRenderers\"}},\"id\":\"2310\",\"type\":\"ColumnDataSource\"},{\"attributes\":{\"fill_color\":{\"value\":\"#2CC775\"},\"line_color\":{\"value\":\"#2CC775\"},\"line_width\":{\"value\":3},\"x\":{\"field\":\"x\"},\"y\":{\"field\":\"y\"}},\"id\":\"2336\",\"type\":\"Circle\"},{\"attributes\":{\"fill_alpha\":{\"value\":0.1},\"fill_color\":{\"value\":\"#1f77b4\"},\"line_alpha\":{\"value\":0.1},\"line_color\":{\"value\":\"#1f77b4\"},\"line_width\":{\"value\":3},\"x\":{\"field\":\"x\"},\"y\":{\"field\":\"y\"}},\"id\":\"2312\",\"type\":\"Circle\"},{\"attributes\":{},\"id\":\"2358\",\"type\":\"Selection\"},{\"attributes\":{\"line_color\":\"#2CC775\",\"x\":{\"field\":\"x\"},\"y\":{\"field\":\"y\"}},\"id\":\"2316\",\"type\":\"Line\"},{\"attributes\":{},\"id\":\"2361\",\"type\":\"UnionRenderers\"},{\"attributes\":{\"callback\":null,\"data\":{\"x\":[2020,2025,2030,2035,2040,2045,2050,2055,2060,2065,2070,2075,2080,2085,2090,2095,2100],\"y\":[912306.7240000002,924199.783,933262.5580000001,940475.6150000001,944668.037,945929.6540000001,944372.924,940125.755,933542.0040000002,925493.626,916927.8789999998,908413.484,900272.8359999999,892459.4159999999,884981.163,877749.1270000001,870615.133]},\"selected\":{\"id\":\"2358\",\"type\":\"Selection\"},\"selection_policy\":{\"id\":\"2359\",\"type\":\"UnionRenderers\"}},\"id\":\"2315\",\"type\":\"ColumnDataSource\"},{\"attributes\":{\"source\":{\"id\":\"2310\",\"type\":\"ColumnDataSource\"}},\"id\":\"2314\",\"type\":\"CDSView\"},{\"attributes\":{\"fill_alpha\":{\"value\":0.1},\"fill_color\":{\"value\":\"#1f77b4\"},\"line_alpha\":{\"value\":0.1},\"line_color\":{\"value\":\"#1f77b4\"},\"line_width\":{\"value\":3},\"x\":{\"field\":\"x\"},\"y\":{\"field\":\"y\"}},\"id\":\"2366\",\"type\":\"Circle\"},{\"attributes\":{\"line_alpha\":0.1,\"line_color\":\"#1f77b4\",\"x\":{\"field\":\"x\"},\"y\":{\"field\":\"y\"}},\"id\":\"2342\",\"type\":\"Line\"},{\"attributes\":{\"callback\":null,\"data\":{\"x\":[2020,2025,2030,2035,2040,2045,2050,2055,2060,2065,2070,2075,2080,2085,2090,2095,2100],\"y\":[2553770.2610000004,2605055.2009999994,2639029.0200000005,2659103.228999999,2665549.994,2659647.6620000005,2641734.805,2612545.58,2574153.84,2529722.836,2481956.653,2432242.5949999993,2381460.154,2330911.3399999994,2281947.836,2234791.158999999,2187803.0989999995]},\"selected\":{\"id\":\"2475\",\"type\":\"Selection\"},\"selection_policy\":{\"id\":\"2476\",\"type\":\"UnionRenderers\"}},\"id\":\"2364\",\"type\":\"ColumnDataSource\"},{\"attributes\":{\"callback\":null,\"data\":{\"x\":[2020,2025,2030,2035,2040,2045,2050,2055,2060,2065,2070,2075,2080,2085,2090,2095,2100],\"y\":[912306.7240000002,924199.783,933262.5580000001,940475.6150000001,944668.037,945929.6540000001,944372.924,940125.755,933542.0040000002,925493.626,916927.8789999998,908413.484,900272.8359999999,892459.4159999999,884981.163,877749.1270000001,870615.133]},\"selected\":{\"id\":\"2360\",\"type\":\"Selection\"},\"selection_policy\":{\"id\":\"2361\",\"type\":\"UnionRenderers\"}},\"id\":\"2335\",\"type\":\"ColumnDataSource\"},{\"attributes\":{\"line_alpha\":0.1,\"line_color\":\"#1f77b4\",\"x\":{\"field\":\"x\"},\"y\":{\"field\":\"y\"}},\"id\":\"2317\",\"type\":\"Line\"},{\"attributes\":{\"data_source\":{\"id\":\"2364\",\"type\":\"ColumnDataSource\"},\"glyph\":{\"id\":\"2365\",\"type\":\"Circle\"},\"hover_glyph\":null,\"muted_glyph\":null,\"nonselection_glyph\":{\"id\":\"2366\",\"type\":\"Circle\"},\"selection_glyph\":null,\"view\":{\"id\":\"2368\",\"type\":\"CDSView\"}},\"id\":\"2367\",\"type\":\"GlyphRenderer\"},{\"attributes\":{},\"id\":\"2332\",\"type\":\"UnionRenderers\"},{\"attributes\":{\"line_color\":\"#F4CA04\",\"x\":{\"field\":\"x\"},\"y\":{\"field\":\"y\"}},\"id\":\"2341\",\"type\":\"Line\"},{\"attributes\":{},\"id\":\"2330\",\"type\":\"UnionRenderers\"},{\"attributes\":{\"source\":{\"id\":\"2364\",\"type\":\"ColumnDataSource\"}},\"id\":\"2368\",\"type\":\"CDSView\"},{\"attributes\":{\"data_source\":{\"id\":\"2315\",\"type\":\"ColumnDataSource\"},\"glyph\":{\"id\":\"2316\",\"type\":\"Line\"},\"hover_glyph\":null,\"muted_glyph\":null,\"nonselection_glyph\":{\"id\":\"2317\",\"type\":\"Line\"},\"selection_glyph\":null,\"view\":{\"id\":\"2319\",\"type\":\"CDSView\"}},\"id\":\"2318\",\"type\":\"GlyphRenderer\"},{\"attributes\":{\"fill_color\":{\"value\":\"#F4CA04\"},\"line_color\":{\"value\":\"#F4CA04\"},\"line_width\":{\"value\":3},\"x\":{\"field\":\"x\"},\"y\":{\"field\":\"y\"}},\"id\":\"2365\",\"type\":\"Circle\"},{\"attributes\":{\"data_source\":{\"id\":\"2335\",\"type\":\"ColumnDataSource\"},\"glyph\":{\"id\":\"2336\",\"type\":\"Circle\"},\"hover_glyph\":null,\"muted_glyph\":null,\"nonselection_glyph\":{\"id\":\"2337\",\"type\":\"Circle\"},\"selection_glyph\":null,\"view\":{\"id\":\"2339\",\"type\":\"CDSView\"}},\"id\":\"2338\",\"type\":\"GlyphRenderer\"},{\"attributes\":{\"label\":{\"value\":\"OECD\"},\"renderers\":[{\"id\":\"2318\",\"type\":\"GlyphRenderer\"}]},\"id\":\"2334\",\"type\":\"LegendItem\"},{\"attributes\":{\"source\":{\"id\":\"2335\",\"type\":\"ColumnDataSource\"}},\"id\":\"2339\",\"type\":\"CDSView\"},{\"attributes\":{},\"id\":\"2331\",\"type\":\"Selection\"},{\"attributes\":{},\"id\":\"2329\",\"type\":\"Selection\"},{\"attributes\":{\"data_source\":{\"id\":\"2340\",\"type\":\"ColumnDataSource\"},\"glyph\":{\"id\":\"2341\",\"type\":\"Line\"},\"hover_glyph\":null,\"muted_glyph\":null,\"nonselection_glyph\":{\"id\":\"2342\",\"type\":\"Line\"},\"selection_glyph\":null,\"view\":{\"id\":\"2344\",\"type\":\"CDSView\"}},\"id\":\"2343\",\"type\":\"GlyphRenderer\"},{\"attributes\":{},\"id\":\"2473\",\"type\":\"Selection\"},{\"attributes\":{\"callback\":null,\"data\":{\"x\":[2020,2025,2030,2035,2040,2045,2050,2055,2060,2065,2070,2075,2080,2085,2090,2095,2100],\"y\":[2553770.2610000004,2605055.2009999994,2639029.0200000005,2659103.228999999,2665549.994,2659647.6620000005,2641734.805,2612545.58,2574153.84,2529722.836,2481956.653,2432242.5949999993,2381460.154,2330911.3399999994,2281947.836,2234791.158999999,2187803.0989999995]},\"selected\":{\"id\":\"2473\",\"type\":\"Selection\"},\"selection_policy\":{\"id\":\"2474\",\"type\":\"UnionRenderers\"}},\"id\":\"2340\",\"type\":\"ColumnDataSource\"},{\"attributes\":{\"source\":{\"id\":\"2315\",\"type\":\"ColumnDataSource\"}},\"id\":\"2319\",\"type\":\"CDSView\"},{\"attributes\":{\"fill_alpha\":{\"value\":0.1},\"fill_color\":{\"value\":\"#1f77b4\"},\"line_alpha\":{\"value\":0.1},\"line_color\":{\"value\":\"#1f77b4\"},\"line_width\":{\"value\":3},\"x\":{\"field\":\"x\"},\"y\":{\"field\":\"y\"}},\"id\":\"2291\",\"type\":\"Circle\"},{\"attributes\":{},\"id\":\"2263\",\"type\":\"PanTool\"},{\"attributes\":{\"callback\":null,\"data\":{\"x\":[2020,2025,2030,2035,2040,2045,2050,2055,2060,2065,2070,2075,2080,2085,2090,2095,2100],\"y\":[4993103.786000001,5218738.716999997,5421085.645999999,5600144.947999999,5752488.066,5878012.936,5976889.714000002,6050353.927999998,6099916.011999999,6128642.660999999,6138746.354000001,6132326.774999998,6111578.452999997,6078805.713000003,6037048.572999997,5987636.3539999975,5930332.014000001]},\"selected\":{\"id\":\"2329\",\"type\":\"Selection\"},\"selection_policy\":{\"id\":\"2330\",\"type\":\"UnionRenderers\"}},\"id\":\"2294\",\"type\":\"ColumnDataSource\"},{\"attributes\":{\"text\":\"Projected population, thousands\"},\"id\":\"2243\",\"type\":\"Title\"},{\"attributes\":{\"callback\":null,\"data\":{\"x\":[2020,2025,2030,2035,2040,2045,2050,2055,2060,2065,2070,2075,2080,2085,2090,2095,2100],\"y\":[1057438.163,1182376.585,1313758.882,1450358.0589999997,1590723.5140000007,1733412.6489999997,1876797.781,2019337.702000001,2159628.188,2296253.5399999996,2427682.2370000007,2552545.8049999997,2669675.032999999,2778054.0900000003,2877186.7590000005,2966790.3559999997,3046778.7830000003]},\"selected\":{\"id\":\"2304\",\"type\":\"Selection\"},\"selection_policy\":{\"id\":\"2305\",\"type\":\"UnionRenderers\"}},\"id\":\"2276\",\"type\":\"ColumnDataSource\"},{\"attributes\":{\"callback\":null},\"id\":\"2245\",\"type\":\"DataRange1d\"},{\"attributes\":{\"callback\":null},\"id\":\"2247\",\"type\":\"DataRange1d\"},{\"attributes\":{\"source\":{\"id\":\"2294\",\"type\":\"ColumnDataSource\"}},\"id\":\"2298\",\"type\":\"CDSView\"},{\"attributes\":{\"data_source\":{\"id\":\"2276\",\"type\":\"ColumnDataSource\"},\"glyph\":{\"id\":\"2277\",\"type\":\"Line\"},\"hover_glyph\":null,\"muted_glyph\":null,\"nonselection_glyph\":{\"id\":\"2278\",\"type\":\"Line\"},\"selection_glyph\":null,\"view\":{\"id\":\"2280\",\"type\":\"CDSView\"}},\"id\":\"2279\",\"type\":\"GlyphRenderer\"},{\"attributes\":{},\"id\":\"2249\",\"type\":\"LinearScale\"},{\"attributes\":{\"data_source\":{\"id\":\"2294\",\"type\":\"ColumnDataSource\"},\"glyph\":{\"id\":\"2295\",\"type\":\"Line\"},\"hover_glyph\":null,\"muted_glyph\":null,\"nonselection_glyph\":{\"id\":\"2296\",\"type\":\"Line\"},\"selection_glyph\":null,\"view\":{\"id\":\"2298\",\"type\":\"CDSView\"}},\"id\":\"2297\",\"type\":\"GlyphRenderer\"},{\"attributes\":{},\"id\":\"2251\",\"type\":\"LinearScale\"},{\"attributes\":{\"items\":[{\"id\":\"2288\",\"type\":\"LegendItem\"},{\"id\":\"2309\",\"type\":\"LegendItem\"},{\"id\":\"2334\",\"type\":\"LegendItem\"},{\"id\":\"2363\",\"type\":\"LegendItem\"}],\"location\":\"bottom_left\"},\"id\":\"2287\",\"type\":\"Legend\"},{\"attributes\":{\"line_alpha\":0.1,\"line_color\":\"#1f77b4\",\"x\":{\"field\":\"x\"},\"y\":{\"field\":\"y\"}},\"id\":\"2278\",\"type\":\"Line\"},{\"attributes\":{\"axis_label\":\"Projected population, thousands\",\"formatter\":{\"id\":\"2285\",\"type\":\"BasicTickFormatter\"},\"ticker\":{\"id\":\"2259\",\"type\":\"BasicTicker\"}},\"id\":\"2258\",\"type\":\"LinearAxis\"},{\"attributes\":{\"grid_line_color\":null,\"ticker\":{\"id\":\"2254\",\"type\":\"BasicTicker\"}},\"id\":\"2257\",\"type\":\"Grid\"},{\"attributes\":{\"line_alpha\":0.1,\"line_color\":\"#1f77b4\",\"x\":{\"field\":\"x\"},\"y\":{\"field\":\"y\"}},\"id\":\"2296\",\"type\":\"Line\"},{\"attributes\":{\"axis_label\":\"Years\",\"formatter\":{\"id\":\"2283\",\"type\":\"BasicTickFormatter\"},\"ticker\":{\"id\":\"2254\",\"type\":\"BasicTicker\"}},\"id\":\"2253\",\"type\":\"LinearAxis\"},{\"attributes\":{},\"id\":\"2306\",\"type\":\"Selection\"},{\"attributes\":{},\"id\":\"2305\",\"type\":\"UnionRenderers\"},{\"attributes\":{},\"id\":\"2259\",\"type\":\"BasicTicker\"},{\"attributes\":{\"overlay\":{\"id\":\"2286\",\"type\":\"BoxAnnotation\"}},\"id\":\"2265\",\"type\":\"BoxZoomTool\"},{\"attributes\":{},\"id\":\"2254\",\"type\":\"BasicTicker\"},{\"attributes\":{\"line_color\":\"#FA1857\",\"x\":{\"field\":\"x\"},\"y\":{\"field\":\"y\"}},\"id\":\"2277\",\"type\":\"Line\"},{\"attributes\":{},\"id\":\"2304\",\"type\":\"Selection\"},{\"attributes\":{\"bottom_units\":\"screen\",\"fill_alpha\":{\"value\":0.5},\"fill_color\":{\"value\":\"lightgrey\"},\"left_units\":\"screen\",\"level\":\"overlay\",\"line_alpha\":{\"value\":1.0},\"line_color\":{\"value\":\"black\"},\"line_dash\":[4,4],\"line_width\":{\"value\":2},\"render_mode\":\"css\",\"right_units\":\"screen\",\"top_units\":\"screen\"},\"id\":\"2286\",\"type\":\"BoxAnnotation\"},{\"attributes\":{},\"id\":\"2268\",\"type\":\"HelpTool\"},{\"attributes\":{\"data_source\":{\"id\":\"2289\",\"type\":\"ColumnDataSource\"},\"glyph\":{\"id\":\"2290\",\"type\":\"Circle\"},\"hover_glyph\":null,\"muted_glyph\":null,\"nonselection_glyph\":{\"id\":\"2291\",\"type\":\"Circle\"},\"selection_glyph\":null,\"view\":{\"id\":\"2293\",\"type\":\"CDSView\"}},\"id\":\"2292\",\"type\":\"GlyphRenderer\"},{\"attributes\":{},\"id\":\"2307\",\"type\":\"UnionRenderers\"},{\"attributes\":{},\"id\":\"2285\",\"type\":\"BasicTickFormatter\"},{\"attributes\":{\"dimension\":1,\"grid_line_alpha\":0.5,\"ticker\":{\"id\":\"2259\",\"type\":\"BasicTicker\"}},\"id\":\"2262\",\"type\":\"Grid\"},{\"attributes\":{\"source\":{\"id\":\"2289\",\"type\":\"ColumnDataSource\"}},\"id\":\"2293\",\"type\":\"CDSView\"},{\"attributes\":{\"label\":{\"value\":\"Developing excluding LDCs\"},\"renderers\":[{\"id\":\"2297\",\"type\":\"GlyphRenderer\"}]},\"id\":\"2309\",\"type\":\"LegendItem\"},{\"attributes\":{\"label\":{\"value\":\"LDCs\"},\"renderers\":[{\"id\":\"2279\",\"type\":\"GlyphRenderer\"}]},\"id\":\"2288\",\"type\":\"LegendItem\"},{\"attributes\":{\"callback\":null,\"tooltips\":\"                \\n        <div style=padding=5px>Year:@x</div>\\n        <div style=padding=5px>Value:@y</div>        \\n        \"},\"id\":\"2369\",\"type\":\"HoverTool\"},{\"attributes\":{},\"id\":\"2264\",\"type\":\"WheelZoomTool\"},{\"attributes\":{},\"id\":\"2267\",\"type\":\"ResetTool\"},{\"attributes\":{\"source\":{\"id\":\"2276\",\"type\":\"ColumnDataSource\"}},\"id\":\"2280\",\"type\":\"CDSView\"},{\"attributes\":{},\"id\":\"2266\",\"type\":\"SaveTool\"},{\"attributes\":{\"line_color\":\"#5430F1\",\"x\":{\"field\":\"x\"},\"y\":{\"field\":\"y\"}},\"id\":\"2295\",\"type\":\"Line\"},{\"attributes\":{\"callback\":null,\"data\":{\"x\":[2020,2025,2030,2035,2040,2045,2050,2055,2060,2065,2070,2075,2080,2085,2090,2095,2100],\"y\":[1057438.163,1182376.585,1313758.882,1450358.0589999997,1590723.5140000007,1733412.6489999997,1876797.781,2019337.702000001,2159628.188,2296253.5399999996,2427682.2370000007,2552545.8049999997,2669675.032999999,2778054.0900000003,2877186.7590000005,2966790.3559999997,3046778.7830000003]},\"selected\":{\"id\":\"2306\",\"type\":\"Selection\"},\"selection_policy\":{\"id\":\"2307\",\"type\":\"UnionRenderers\"}},\"id\":\"2289\",\"type\":\"ColumnDataSource\"},{\"attributes\":{\"active_drag\":\"auto\",\"active_inspect\":\"auto\",\"active_multi\":null,\"active_scroll\":\"auto\",\"active_tap\":\"auto\",\"tools\":[{\"id\":\"2263\",\"type\":\"PanTool\"},{\"id\":\"2264\",\"type\":\"WheelZoomTool\"},{\"id\":\"2265\",\"type\":\"BoxZoomTool\"},{\"id\":\"2266\",\"type\":\"SaveTool\"},{\"id\":\"2267\",\"type\":\"ResetTool\"},{\"id\":\"2268\",\"type\":\"HelpTool\"},{\"id\":\"2369\",\"type\":\"HoverTool\"}]},\"id\":\"2269\",\"type\":\"Toolbar\"},{\"attributes\":{\"fill_color\":{\"value\":\"#FA1857\"},\"line_color\":{\"value\":\"#FA1857\"},\"line_width\":{\"value\":3},\"x\":{\"field\":\"x\"},\"y\":{\"field\":\"y\"}},\"id\":\"2290\",\"type\":\"Circle\"},{\"attributes\":{},\"id\":\"2283\",\"type\":\"BasicTickFormatter\"}],\"root_ids\":[\"2242\"]},\"title\":\"Bokeh Application\",\"version\":\"1.3.4\"}};\n",
       "  var render_items = [{\"docid\":\"73c70869-2177-43bb-aeef-71c6c66ac8bc\",\"roots\":{\"2242\":\"bc4806d5-a523-456d-b833-d089eafd6ef5\"}}];\n",
       "  root.Bokeh.embed.embed_items_notebook(docs_json, render_items);\n",
       "\n",
       "  }\n",
       "  if (root.Bokeh !== undefined) {\n",
       "    embed_document(root);\n",
       "  } else {\n",
       "    var attempts = 0;\n",
       "    var timer = setInterval(function(root) {\n",
       "      if (root.Bokeh !== undefined) {\n",
       "        embed_document(root);\n",
       "        clearInterval(timer);\n",
       "      }\n",
       "      attempts++;\n",
       "      if (attempts > 100) {\n",
       "        console.log(\"Bokeh: ERROR: Unable to run BokehJS code because BokehJS library is missing\");\n",
       "        clearInterval(timer);\n",
       "      }\n",
       "    }, 10, root)\n",
       "  }\n",
       "})(window);"
      ],
      "application/vnd.bokehjs_exec.v0+json": ""
     },
     "metadata": {
      "application/vnd.bokehjs_exec.v0+json": {
       "id": "2242"
      }
     },
     "output_type": "display_data"
    }
   ],
   "source": [
    "show(line_chart(gpp(['LDCs', 'Developing excluding LDCs', 'OECD', 'UMICs']), \n",
    "                \"Projected population, thousands\", x_axis_label='Years', \n",
    "                y_axis_label='Projected population, thousands', height=400, width=900))"
   ]
  },
  {
   "cell_type": "code",
   "execution_count": 11,
   "metadata": {
    "ExecuteTime": {
     "end_time": "2019-10-25T14:24:58.884216Z",
     "start_time": "2019-10-25T14:24:54.401294Z"
    },
    "slideshow": {
     "slide_type": "slide"
    }
   },
   "outputs": [
    {
     "data": {
      "text/html": [
       "\n",
       "\n",
       "\n",
       "\n",
       "\n",
       "\n",
       "  <div class=\"bk-root\" id=\"bdcc977c-9f6b-42b8-ac42-800f34d8672f\" data-root-id=\"2610\"></div>\n"
      ]
     },
     "metadata": {},
     "output_type": "display_data"
    },
    {
     "data": {
      "application/javascript": [
       "(function(root) {\n",
       "  function embed_document(root) {\n",
       "    \n",
       "  var docs_json = {\"3e3d2f01-1ece-4d77-9139-e1baaa9077a5\":{\"roots\":{\"references\":[{\"attributes\":{\"below\":[{\"id\":\"2621\",\"type\":\"LinearAxis\"}],\"center\":[{\"id\":\"2625\",\"type\":\"Grid\"},{\"id\":\"2630\",\"type\":\"Grid\"},{\"id\":\"2655\",\"type\":\"Legend\"}],\"left\":[{\"id\":\"2626\",\"type\":\"LinearAxis\"}],\"plot_height\":400,\"plot_width\":800,\"renderers\":[{\"id\":\"2647\",\"type\":\"GlyphRenderer\"},{\"id\":\"2660\",\"type\":\"GlyphRenderer\"},{\"id\":\"2665\",\"type\":\"GlyphRenderer\"},{\"id\":\"2681\",\"type\":\"GlyphRenderer\"},{\"id\":\"2686\",\"type\":\"GlyphRenderer\"},{\"id\":\"2706\",\"type\":\"GlyphRenderer\"}],\"title\":{\"id\":\"2611\",\"type\":\"Title\"},\"toolbar\":{\"id\":\"2637\",\"type\":\"Toolbar\"},\"x_range\":{\"id\":\"2613\",\"type\":\"DataRange1d\"},\"x_scale\":{\"id\":\"2617\",\"type\":\"LinearScale\"},\"y_range\":{\"id\":\"2615\",\"type\":\"DataRange1d\"},\"y_scale\":{\"id\":\"2619\",\"type\":\"LinearScale\"}},\"id\":\"2610\",\"subtype\":\"Figure\",\"type\":\"Plot\"},{\"attributes\":{},\"id\":\"2635\",\"type\":\"ResetTool\"},{\"attributes\":{\"text\":\"Prevalence of undernourishment (% of population) weighted against Population, total\"},\"id\":\"2611\",\"type\":\"Title\"},{\"attributes\":{},\"id\":\"2697\",\"type\":\"Selection\"},{\"attributes\":{\"line_alpha\":0.1,\"line_color\":\"#1f77b4\",\"x\":{\"field\":\"x\"},\"y\":{\"field\":\"y\"}},\"id\":\"2664\",\"type\":\"Line\"},{\"attributes\":{},\"id\":\"2636\",\"type\":\"HelpTool\"},{\"attributes\":{\"callback\":null},\"id\":\"2613\",\"type\":\"DataRange1d\"},{\"attributes\":{},\"id\":\"2698\",\"type\":\"UnionRenderers\"},{\"attributes\":{\"data_source\":{\"id\":\"2662\",\"type\":\"ColumnDataSource\"},\"glyph\":{\"id\":\"2663\",\"type\":\"Line\"},\"hover_glyph\":null,\"muted_glyph\":null,\"nonselection_glyph\":{\"id\":\"2664\",\"type\":\"Line\"},\"selection_glyph\":null,\"view\":{\"id\":\"2666\",\"type\":\"CDSView\"}},\"id\":\"2665\",\"type\":\"GlyphRenderer\"},{\"attributes\":{\"active_drag\":\"auto\",\"active_inspect\":\"auto\",\"active_multi\":null,\"active_scroll\":\"auto\",\"active_tap\":\"auto\",\"tools\":[{\"id\":\"2631\",\"type\":\"PanTool\"},{\"id\":\"2632\",\"type\":\"WheelZoomTool\"},{\"id\":\"2633\",\"type\":\"BoxZoomTool\"},{\"id\":\"2634\",\"type\":\"SaveTool\"},{\"id\":\"2635\",\"type\":\"ResetTool\"},{\"id\":\"2636\",\"type\":\"HelpTool\"},{\"id\":\"2708\",\"type\":\"HoverTool\"}]},\"id\":\"2637\",\"type\":\"Toolbar\"},{\"attributes\":{\"callback\":null},\"id\":\"2615\",\"type\":\"DataRange1d\"},{\"attributes\":{},\"id\":\"2699\",\"type\":\"Selection\"},{\"attributes\":{\"source\":{\"id\":\"2662\",\"type\":\"ColumnDataSource\"}},\"id\":\"2666\",\"type\":\"CDSView\"},{\"attributes\":{},\"id\":\"2617\",\"type\":\"LinearScale\"},{\"attributes\":{\"data_source\":{\"id\":\"2644\",\"type\":\"ColumnDataSource\"},\"glyph\":{\"id\":\"2645\",\"type\":\"Line\"},\"hover_glyph\":null,\"muted_glyph\":null,\"nonselection_glyph\":{\"id\":\"2646\",\"type\":\"Line\"},\"selection_glyph\":null,\"view\":{\"id\":\"2648\",\"type\":\"CDSView\"}},\"id\":\"2647\",\"type\":\"GlyphRenderer\"},{\"attributes\":{},\"id\":\"2700\",\"type\":\"UnionRenderers\"},{\"attributes\":{},\"id\":\"2672\",\"type\":\"Selection\"},{\"attributes\":{},\"id\":\"2619\",\"type\":\"LinearScale\"},{\"attributes\":{\"label\":{\"value\":\"OECD\"},\"renderers\":[{\"id\":\"2686\",\"type\":\"GlyphRenderer\"}]},\"id\":\"2702\",\"type\":\"LegendItem\"},{\"attributes\":{},\"id\":\"2673\",\"type\":\"UnionRenderers\"},{\"attributes\":{\"source\":{\"id\":\"2644\",\"type\":\"ColumnDataSource\"}},\"id\":\"2648\",\"type\":\"CDSView\"},{\"attributes\":{\"axis_label\":\"Years\",\"formatter\":{\"id\":\"2651\",\"type\":\"BasicTickFormatter\"},\"ticker\":{\"id\":\"2622\",\"type\":\"BasicTicker\"}},\"id\":\"2621\",\"type\":\"LinearAxis\"},{\"attributes\":{},\"id\":\"2674\",\"type\":\"Selection\"},{\"attributes\":{},\"id\":\"2651\",\"type\":\"BasicTickFormatter\"},{\"attributes\":{\"callback\":null,\"data\":{\"x\":[\"2000\",\"2001\",\"2002\",\"2003\",\"2004\",\"2005\",\"2006\",\"2007\",\"2008\",\"2009\",\"2010\",\"2011\",\"2012\",\"2013\",\"2014\",\"2015\",\"2016\",\"2017\"],\"y\":[2.717504233905171,2.7154866043270727,2.7462604986550527,2.806001725421847,2.83058646052991,2.80349980744469,2.7583374960640157,2.7328716945985123,2.734358102618147,2.734445239277997,2.724690515681557,2.7229922593698563,2.711802941232593,2.6925433317980856,2.671440686153528,2.648991920011479,2.6258157949200918,2.613168165844644]},\"selected\":{\"id\":\"2832\",\"type\":\"Selection\"},\"selection_policy\":{\"id\":\"2833\",\"type\":\"UnionRenderers\"}},\"id\":\"2703\",\"type\":\"ColumnDataSource\"},{\"attributes\":{},\"id\":\"2622\",\"type\":\"BasicTicker\"},{\"attributes\":{\"fill_color\":{\"value\":\"#2CC775\"},\"line_color\":{\"value\":\"#2CC775\"},\"line_width\":{\"value\":3},\"x\":{\"field\":\"x\"},\"y\":{\"field\":\"y\"}},\"id\":\"2704\",\"type\":\"Circle\"},{\"attributes\":{},\"id\":\"2675\",\"type\":\"UnionRenderers\"},{\"attributes\":{\"grid_line_color\":null,\"ticker\":{\"id\":\"2622\",\"type\":\"BasicTicker\"}},\"id\":\"2625\",\"type\":\"Grid\"},{\"attributes\":{\"fill_alpha\":{\"value\":0.1},\"fill_color\":{\"value\":\"#1f77b4\"},\"line_alpha\":{\"value\":0.1},\"line_color\":{\"value\":\"#1f77b4\"},\"line_width\":{\"value\":3},\"x\":{\"field\":\"x\"},\"y\":{\"field\":\"y\"}},\"id\":\"2705\",\"type\":\"Circle\"},{\"attributes\":{},\"id\":\"2653\",\"type\":\"BasicTickFormatter\"},{\"attributes\":{\"label\":{\"value\":\"Developing excluding LDCs\"},\"renderers\":[{\"id\":\"2665\",\"type\":\"GlyphRenderer\"}]},\"id\":\"2677\",\"type\":\"LegendItem\"},{\"attributes\":{\"data_source\":{\"id\":\"2703\",\"type\":\"ColumnDataSource\"},\"glyph\":{\"id\":\"2704\",\"type\":\"Circle\"},\"hover_glyph\":null,\"muted_glyph\":null,\"nonselection_glyph\":{\"id\":\"2705\",\"type\":\"Circle\"},\"selection_glyph\":null,\"view\":{\"id\":\"2707\",\"type\":\"CDSView\"}},\"id\":\"2706\",\"type\":\"GlyphRenderer\"},{\"attributes\":{\"bottom_units\":\"screen\",\"fill_alpha\":{\"value\":0.5},\"fill_color\":{\"value\":\"lightgrey\"},\"left_units\":\"screen\",\"level\":\"overlay\",\"line_alpha\":{\"value\":1.0},\"line_color\":{\"value\":\"black\"},\"line_dash\":[4,4],\"line_width\":{\"value\":2},\"render_mode\":\"css\",\"right_units\":\"screen\",\"top_units\":\"screen\"},\"id\":\"2654\",\"type\":\"BoxAnnotation\"},{\"attributes\":{\"axis_label\":\"SN.ITK.DEFC.ZS\",\"formatter\":{\"id\":\"2653\",\"type\":\"BasicTickFormatter\"},\"ticker\":{\"id\":\"2627\",\"type\":\"BasicTicker\"}},\"id\":\"2626\",\"type\":\"LinearAxis\"},{\"attributes\":{\"callback\":null,\"data\":{\"x\":[\"2000\",\"2001\",\"2002\",\"2003\",\"2004\",\"2005\",\"2006\",\"2007\",\"2008\",\"2009\",\"2010\",\"2011\",\"2012\",\"2013\",\"2014\",\"2015\",\"2016\",\"2017\"],\"y\":[16.05239062334145,16.294418660137005,16.6306934442216,16.770645243436284,16.679133301220844,16.152224600709463,15.346241803517456,14.541847732797331,13.820530355695096,13.239432930737298,12.760868451003246,12.328293629752078,11.987055152737149,11.62798440215843,11.278159512359393,10.969758392076667,10.82969267747837,10.763728683353742]},\"selected\":{\"id\":\"2699\",\"type\":\"Selection\"},\"selection_policy\":{\"id\":\"2700\",\"type\":\"UnionRenderers\"}},\"id\":\"2678\",\"type\":\"ColumnDataSource\"},{\"attributes\":{\"items\":[{\"id\":\"2656\",\"type\":\"LegendItem\"},{\"id\":\"2677\",\"type\":\"LegendItem\"},{\"id\":\"2702\",\"type\":\"LegendItem\"}],\"location\":\"bottom_left\"},\"id\":\"2655\",\"type\":\"Legend\"},{\"attributes\":{\"source\":{\"id\":\"2703\",\"type\":\"ColumnDataSource\"}},\"id\":\"2707\",\"type\":\"CDSView\"},{\"attributes\":{},\"id\":\"2627\",\"type\":\"BasicTicker\"},{\"attributes\":{\"fill_color\":{\"value\":\"#5430F1\"},\"line_color\":{\"value\":\"#5430F1\"},\"line_width\":{\"value\":3},\"x\":{\"field\":\"x\"},\"y\":{\"field\":\"y\"}},\"id\":\"2679\",\"type\":\"Circle\"},{\"attributes\":{\"label\":{\"value\":\"LDCs\"},\"renderers\":[{\"id\":\"2647\",\"type\":\"GlyphRenderer\"}]},\"id\":\"2656\",\"type\":\"LegendItem\"},{\"attributes\":{\"dimension\":1,\"grid_line_alpha\":0.5,\"ticker\":{\"id\":\"2627\",\"type\":\"BasicTicker\"}},\"id\":\"2630\",\"type\":\"Grid\"},{\"attributes\":{\"fill_alpha\":{\"value\":0.1},\"fill_color\":{\"value\":\"#1f77b4\"},\"line_alpha\":{\"value\":0.1},\"line_color\":{\"value\":\"#1f77b4\"},\"line_width\":{\"value\":3},\"x\":{\"field\":\"x\"},\"y\":{\"field\":\"y\"}},\"id\":\"2680\",\"type\":\"Circle\"},{\"attributes\":{\"callback\":null,\"data\":{\"x\":[\"2000\",\"2001\",\"2002\",\"2003\",\"2004\",\"2005\",\"2006\",\"2007\",\"2008\",\"2009\",\"2010\",\"2011\",\"2012\",\"2013\",\"2014\",\"2015\",\"2016\",\"2017\"],\"y\":[34.793593542464336,33.37905122711434,32.25476712521983,30.99121550456933,29.786824759633184,28.553187359257198,27.511349113782753,26.564751720056844,25.692683295090003,24.8794987970399,24.247268278005087,23.695114337155676,23.284047196142527,22.9085907646186,22.644878748870756,22.6257313140025,22.722324690505264,22.81758279569403]},\"selected\":{\"id\":\"2674\",\"type\":\"Selection\"},\"selection_policy\":{\"id\":\"2675\",\"type\":\"UnionRenderers\"}},\"id\":\"2657\",\"type\":\"ColumnDataSource\"},{\"attributes\":{},\"id\":\"2830\",\"type\":\"Selection\"},{\"attributes\":{\"data_source\":{\"id\":\"2678\",\"type\":\"ColumnDataSource\"},\"glyph\":{\"id\":\"2679\",\"type\":\"Circle\"},\"hover_glyph\":null,\"muted_glyph\":null,\"nonselection_glyph\":{\"id\":\"2680\",\"type\":\"Circle\"},\"selection_glyph\":null,\"view\":{\"id\":\"2682\",\"type\":\"CDSView\"}},\"id\":\"2681\",\"type\":\"GlyphRenderer\"},{\"attributes\":{\"line_color\":\"#FA1857\",\"x\":{\"field\":\"x\"},\"y\":{\"field\":\"y\"}},\"id\":\"2645\",\"type\":\"Line\"},{\"attributes\":{\"callback\":null,\"tooltips\":\"                \\n        <div style=padding=5px>Year:@x</div>\\n        <div style=padding=5px>Value:@y</div>        \\n        \"},\"id\":\"2708\",\"type\":\"HoverTool\"},{\"attributes\":{\"fill_color\":{\"value\":\"#FA1857\"},\"line_color\":{\"value\":\"#FA1857\"},\"line_width\":{\"value\":3},\"x\":{\"field\":\"x\"},\"y\":{\"field\":\"y\"}},\"id\":\"2658\",\"type\":\"Circle\"},{\"attributes\":{},\"id\":\"2831\",\"type\":\"UnionRenderers\"},{\"attributes\":{\"source\":{\"id\":\"2678\",\"type\":\"ColumnDataSource\"}},\"id\":\"2682\",\"type\":\"CDSView\"},{\"attributes\":{\"callback\":null,\"data\":{\"x\":[\"2000\",\"2001\",\"2002\",\"2003\",\"2004\",\"2005\",\"2006\",\"2007\",\"2008\",\"2009\",\"2010\",\"2011\",\"2012\",\"2013\",\"2014\",\"2015\",\"2016\",\"2017\"],\"y\":[34.793593542464336,33.37905122711434,32.25476712521983,30.99121550456933,29.786824759633184,28.553187359257198,27.511349113782753,26.564751720056844,25.692683295090003,24.8794987970399,24.247268278005087,23.695114337155676,23.284047196142527,22.9085907646186,22.644878748870756,22.6257313140025,22.722324690505264,22.81758279569403]},\"selected\":{\"id\":\"2672\",\"type\":\"Selection\"},\"selection_policy\":{\"id\":\"2673\",\"type\":\"UnionRenderers\"}},\"id\":\"2644\",\"type\":\"ColumnDataSource\"},{\"attributes\":{\"fill_alpha\":{\"value\":0.1},\"fill_color\":{\"value\":\"#1f77b4\"},\"line_alpha\":{\"value\":0.1},\"line_color\":{\"value\":\"#1f77b4\"},\"line_width\":{\"value\":3},\"x\":{\"field\":\"x\"},\"y\":{\"field\":\"y\"}},\"id\":\"2659\",\"type\":\"Circle\"},{\"attributes\":{},\"id\":\"2832\",\"type\":\"Selection\"},{\"attributes\":{\"line_alpha\":0.1,\"line_color\":\"#1f77b4\",\"x\":{\"field\":\"x\"},\"y\":{\"field\":\"y\"}},\"id\":\"2646\",\"type\":\"Line\"},{\"attributes\":{\"callback\":null,\"data\":{\"x\":[\"2000\",\"2001\",\"2002\",\"2003\",\"2004\",\"2005\",\"2006\",\"2007\",\"2008\",\"2009\",\"2010\",\"2011\",\"2012\",\"2013\",\"2014\",\"2015\",\"2016\",\"2017\"],\"y\":[2.717504233905171,2.7154866043270727,2.7462604986550527,2.806001725421847,2.83058646052991,2.80349980744469,2.7583374960640157,2.7328716945985123,2.734358102618147,2.734445239277997,2.724690515681557,2.7229922593698563,2.711802941232593,2.6925433317980856,2.671440686153528,2.648991920011479,2.6258157949200918,2.613168165844644]},\"selected\":{\"id\":\"2830\",\"type\":\"Selection\"},\"selection_policy\":{\"id\":\"2831\",\"type\":\"UnionRenderers\"}},\"id\":\"2683\",\"type\":\"ColumnDataSource\"},{\"attributes\":{},\"id\":\"2631\",\"type\":\"PanTool\"},{\"attributes\":{\"data_source\":{\"id\":\"2657\",\"type\":\"ColumnDataSource\"},\"glyph\":{\"id\":\"2658\",\"type\":\"Circle\"},\"hover_glyph\":null,\"muted_glyph\":null,\"nonselection_glyph\":{\"id\":\"2659\",\"type\":\"Circle\"},\"selection_glyph\":null,\"view\":{\"id\":\"2661\",\"type\":\"CDSView\"}},\"id\":\"2660\",\"type\":\"GlyphRenderer\"},{\"attributes\":{},\"id\":\"2833\",\"type\":\"UnionRenderers\"},{\"attributes\":{\"line_color\":\"#2CC775\",\"x\":{\"field\":\"x\"},\"y\":{\"field\":\"y\"}},\"id\":\"2684\",\"type\":\"Line\"},{\"attributes\":{},\"id\":\"2632\",\"type\":\"WheelZoomTool\"},{\"attributes\":{\"source\":{\"id\":\"2657\",\"type\":\"ColumnDataSource\"}},\"id\":\"2661\",\"type\":\"CDSView\"},{\"attributes\":{\"line_alpha\":0.1,\"line_color\":\"#1f77b4\",\"x\":{\"field\":\"x\"},\"y\":{\"field\":\"y\"}},\"id\":\"2685\",\"type\":\"Line\"},{\"attributes\":{\"overlay\":{\"id\":\"2654\",\"type\":\"BoxAnnotation\"}},\"id\":\"2633\",\"type\":\"BoxZoomTool\"},{\"attributes\":{\"callback\":null,\"data\":{\"x\":[\"2000\",\"2001\",\"2002\",\"2003\",\"2004\",\"2005\",\"2006\",\"2007\",\"2008\",\"2009\",\"2010\",\"2011\",\"2012\",\"2013\",\"2014\",\"2015\",\"2016\",\"2017\"],\"y\":[16.05239062334145,16.294418660137005,16.6306934442216,16.770645243436284,16.679133301220844,16.152224600709463,15.346241803517456,14.541847732797331,13.820530355695096,13.239432930737298,12.760868451003246,12.328293629752078,11.987055152737149,11.62798440215843,11.278159512359393,10.969758392076667,10.82969267747837,10.763728683353742]},\"selected\":{\"id\":\"2697\",\"type\":\"Selection\"},\"selection_policy\":{\"id\":\"2698\",\"type\":\"UnionRenderers\"}},\"id\":\"2662\",\"type\":\"ColumnDataSource\"},{\"attributes\":{\"data_source\":{\"id\":\"2683\",\"type\":\"ColumnDataSource\"},\"glyph\":{\"id\":\"2684\",\"type\":\"Line\"},\"hover_glyph\":null,\"muted_glyph\":null,\"nonselection_glyph\":{\"id\":\"2685\",\"type\":\"Line\"},\"selection_glyph\":null,\"view\":{\"id\":\"2687\",\"type\":\"CDSView\"}},\"id\":\"2686\",\"type\":\"GlyphRenderer\"},{\"attributes\":{},\"id\":\"2634\",\"type\":\"SaveTool\"},{\"attributes\":{\"line_color\":\"#5430F1\",\"x\":{\"field\":\"x\"},\"y\":{\"field\":\"y\"}},\"id\":\"2663\",\"type\":\"Line\"},{\"attributes\":{\"source\":{\"id\":\"2683\",\"type\":\"ColumnDataSource\"}},\"id\":\"2687\",\"type\":\"CDSView\"}],\"root_ids\":[\"2610\"]},\"title\":\"Bokeh Application\",\"version\":\"1.3.4\"}};\n",
       "  var render_items = [{\"docid\":\"3e3d2f01-1ece-4d77-9139-e1baaa9077a5\",\"roots\":{\"2610\":\"bdcc977c-9f6b-42b8-ac42-800f34d8672f\"}}];\n",
       "  root.Bokeh.embed.embed_items_notebook(docs_json, render_items);\n",
       "\n",
       "  }\n",
       "  if (root.Bokeh !== undefined) {\n",
       "    embed_document(root);\n",
       "  } else {\n",
       "    var attempts = 0;\n",
       "    var timer = setInterval(function(root) {\n",
       "      if (root.Bokeh !== undefined) {\n",
       "        embed_document(root);\n",
       "        clearInterval(timer);\n",
       "      }\n",
       "      attempts++;\n",
       "      if (attempts > 100) {\n",
       "        console.log(\"Bokeh: ERROR: Unable to run BokehJS code because BokehJS library is missing\");\n",
       "        clearInterval(timer);\n",
       "      }\n",
       "    }, 10, root)\n",
       "  }\n",
       "})(window);"
      ],
      "application/vnd.bokehjs_exec.v0+json": ""
     },
     "metadata": {
      "application/vnd.bokehjs_exec.v0+json": {
       "id": "2610"
      }
     },
     "output_type": "display_data"
    }
   ],
   "source": [
    "# Prevalence of undernourishment (% of population)\n",
    "years = list(map(str, list(range(2000,2018))))\n",
    "result = show_weighted_average(years, 'SN.ITK.DEFC.ZS', 'SP.POP.TOTL', \n",
    "                               ['LDCs', 'Developing excluding LDCs', 'OECD'])"
   ]
  },
  {
   "cell_type": "code",
   "execution_count": 12,
   "metadata": {
    "ExecuteTime": {
     "end_time": "2019-10-25T14:25:03.855925Z",
     "start_time": "2019-10-25T14:24:58.886407Z"
    },
    "slideshow": {
     "slide_type": "slide"
    }
   },
   "outputs": [
    {
     "data": {
      "text/html": [
       "\n",
       "\n",
       "\n",
       "\n",
       "\n",
       "\n",
       "  <div class=\"bk-root\" id=\"ca556a8c-de65-44a3-ab0a-6269065e49ec\" data-root-id=\"2943\"></div>\n"
      ]
     },
     "metadata": {},
     "output_type": "display_data"
    },
    {
     "data": {
      "application/javascript": [
       "(function(root) {\n",
       "  function embed_document(root) {\n",
       "    \n",
       "  var docs_json = {\"01b93d6f-3f01-4b4c-8ffc-bcbffbb2dd2f\":{\"roots\":{\"references\":[{\"attributes\":{\"below\":[{\"id\":\"2954\",\"type\":\"LinearAxis\"}],\"center\":[{\"id\":\"2958\",\"type\":\"Grid\"},{\"id\":\"2963\",\"type\":\"Grid\"},{\"id\":\"2988\",\"type\":\"Legend\"}],\"left\":[{\"id\":\"2959\",\"type\":\"LinearAxis\"}],\"plot_height\":400,\"plot_width\":800,\"renderers\":[{\"id\":\"2980\",\"type\":\"GlyphRenderer\"},{\"id\":\"2993\",\"type\":\"GlyphRenderer\"},{\"id\":\"2998\",\"type\":\"GlyphRenderer\"},{\"id\":\"3014\",\"type\":\"GlyphRenderer\"},{\"id\":\"3019\",\"type\":\"GlyphRenderer\"},{\"id\":\"3039\",\"type\":\"GlyphRenderer\"}],\"title\":{\"id\":\"2944\",\"type\":\"Title\"},\"toolbar\":{\"id\":\"2970\",\"type\":\"Toolbar\"},\"x_range\":{\"id\":\"2946\",\"type\":\"DataRange1d\"},\"x_scale\":{\"id\":\"2950\",\"type\":\"LinearScale\"},\"y_range\":{\"id\":\"2948\",\"type\":\"DataRange1d\"},\"y_scale\":{\"id\":\"2952\",\"type\":\"LinearScale\"}},\"id\":\"2943\",\"subtype\":\"Figure\",\"type\":\"Plot\"},{\"attributes\":{},\"id\":\"2952\",\"type\":\"LinearScale\"},{\"attributes\":{\"callback\":null,\"tooltips\":\"                \\n        <div style=padding=5px>Year:@x</div>\\n        <div style=padding=5px>Value:@y</div>        \\n        \"},\"id\":\"3041\",\"type\":\"HoverTool\"},{\"attributes\":{},\"id\":\"3008\",\"type\":\"UnionRenderers\"},{\"attributes\":{\"items\":[{\"id\":\"2989\",\"type\":\"LegendItem\"},{\"id\":\"3010\",\"type\":\"LegendItem\"},{\"id\":\"3035\",\"type\":\"LegendItem\"}],\"location\":\"bottom_left\"},\"id\":\"2988\",\"type\":\"Legend\"},{\"attributes\":{\"axis_label\":\"Years\",\"formatter\":{\"id\":\"2984\",\"type\":\"BasicTickFormatter\"},\"ticker\":{\"id\":\"2955\",\"type\":\"BasicTicker\"}},\"id\":\"2954\",\"type\":\"LinearAxis\"},{\"attributes\":{\"callback\":null,\"data\":{\"x\":[\"2000\",\"2001\",\"2002\",\"2003\",\"2004\",\"2005\",\"2006\",\"2007\",\"2008\",\"2009\",\"2010\",\"2011\",\"2012\",\"2013\",\"2014\",\"2015\",\"2016\",\"2017\"],\"y\":[17.937695982171277,16.78037600311266,16.94317265283144,17.48983390427108,16.774223530017515,15.813789653901436,15.673007066416822,16.191269937341083,15.838994250962328,16.22610041134688,16.154563828357762,16.562353136179336,15.178298854466885,14.955659220400578,15.29447697970412,15.041932495198918,15.752772028130035,16.792717806787888]},\"selected\":{\"id\":\"3005\",\"type\":\"Selection\"},\"selection_policy\":{\"id\":\"3006\",\"type\":\"UnionRenderers\"}},\"id\":\"2977\",\"type\":\"ColumnDataSource\"},{\"attributes\":{},\"id\":\"2964\",\"type\":\"PanTool\"},{\"attributes\":{},\"id\":\"3183\",\"type\":\"Selection\"},{\"attributes\":{\"label\":{\"value\":\"Developing excluding LDCs\"},\"renderers\":[{\"id\":\"2998\",\"type\":\"GlyphRenderer\"}]},\"id\":\"3010\",\"type\":\"LegendItem\"},{\"attributes\":{\"line_alpha\":0.1,\"line_color\":\"#1f77b4\",\"x\":{\"field\":\"x\"},\"y\":{\"field\":\"y\"}},\"id\":\"2979\",\"type\":\"Line\"},{\"attributes\":{},\"id\":\"2955\",\"type\":\"BasicTicker\"},{\"attributes\":{},\"id\":\"2965\",\"type\":\"WheelZoomTool\"},{\"attributes\":{\"callback\":null,\"data\":{\"x\":[\"2000\",\"2001\",\"2002\",\"2003\",\"2004\",\"2005\",\"2006\",\"2007\",\"2008\",\"2009\",\"2010\",\"2011\",\"2012\",\"2013\",\"2014\",\"2015\",\"2016\",\"2017\"],\"y\":[6.680761900137902,7.103266650915765,6.9541849955897606,6.71483006886033,6.245912622425446,5.671804704646423,5.391568297068544,5.972886125793425,6.3914893367351935,6.916327387090665,6.474547310095425,6.804185950656369,6.780992206038605,6.8536773836084866,7.205658369676085,7.84683494478912,8.06735084956151,8.155877729724605]},\"selected\":{\"id\":\"3032\",\"type\":\"Selection\"},\"selection_policy\":{\"id\":\"3033\",\"type\":\"UnionRenderers\"}},\"id\":\"3011\",\"type\":\"ColumnDataSource\"},{\"attributes\":{\"label\":{\"value\":\"LDCs\"},\"renderers\":[{\"id\":\"2980\",\"type\":\"GlyphRenderer\"}]},\"id\":\"2989\",\"type\":\"LegendItem\"},{\"attributes\":{\"grid_line_color\":null,\"ticker\":{\"id\":\"2955\",\"type\":\"BasicTicker\"}},\"id\":\"2958\",\"type\":\"Grid\"},{\"attributes\":{},\"id\":\"3184\",\"type\":\"UnionRenderers\"},{\"attributes\":{\"overlay\":{\"id\":\"2987\",\"type\":\"BoxAnnotation\"}},\"id\":\"2966\",\"type\":\"BoxZoomTool\"},{\"attributes\":{\"fill_color\":{\"value\":\"#5430F1\"},\"line_color\":{\"value\":\"#5430F1\"},\"line_width\":{\"value\":3},\"x\":{\"field\":\"x\"},\"y\":{\"field\":\"y\"}},\"id\":\"3012\",\"type\":\"Circle\"},{\"attributes\":{},\"id\":\"2967\",\"type\":\"SaveTool\"},{\"attributes\":{\"fill_alpha\":{\"value\":0.1},\"fill_color\":{\"value\":\"#1f77b4\"},\"line_alpha\":{\"value\":0.1},\"line_color\":{\"value\":\"#1f77b4\"},\"line_width\":{\"value\":3},\"x\":{\"field\":\"x\"},\"y\":{\"field\":\"y\"}},\"id\":\"3013\",\"type\":\"Circle\"},{\"attributes\":{\"callback\":null,\"data\":{\"x\":[\"2000\",\"2001\",\"2002\",\"2003\",\"2004\",\"2005\",\"2006\",\"2007\",\"2008\",\"2009\",\"2010\",\"2011\",\"2012\",\"2013\",\"2014\",\"2015\",\"2016\",\"2017\"],\"y\":[17.937695982171277,16.78037600311266,16.94317265283144,17.48983390427108,16.774223530017515,15.813789653901436,15.673007066416822,16.191269937341083,15.838994250962328,16.22610041134688,16.154563828357762,16.562353136179336,15.178298854466885,14.955659220400578,15.29447697970412,15.041932495198918,15.752772028130035,16.792717806787888]},\"selected\":{\"id\":\"3007\",\"type\":\"Selection\"},\"selection_policy\":{\"id\":\"3008\",\"type\":\"UnionRenderers\"}},\"id\":\"2990\",\"type\":\"ColumnDataSource\"},{\"attributes\":{\"fill_color\":{\"value\":\"#2CC775\"},\"line_color\":{\"value\":\"#2CC775\"},\"line_width\":{\"value\":3},\"x\":{\"field\":\"x\"},\"y\":{\"field\":\"y\"}},\"id\":\"3037\",\"type\":\"Circle\"},{\"attributes\":{},\"id\":\"2968\",\"type\":\"ResetTool\"},{\"attributes\":{\"data_source\":{\"id\":\"3011\",\"type\":\"ColumnDataSource\"},\"glyph\":{\"id\":\"3012\",\"type\":\"Circle\"},\"hover_glyph\":null,\"muted_glyph\":null,\"nonselection_glyph\":{\"id\":\"3013\",\"type\":\"Circle\"},\"selection_glyph\":null,\"view\":{\"id\":\"3015\",\"type\":\"CDSView\"}},\"id\":\"3014\",\"type\":\"GlyphRenderer\"},{\"attributes\":{\"axis_label\":\"TM.VAL.FOOD.ZS.UN\",\"formatter\":{\"id\":\"2986\",\"type\":\"BasicTickFormatter\"},\"ticker\":{\"id\":\"2960\",\"type\":\"BasicTicker\"}},\"id\":\"2959\",\"type\":\"LinearAxis\"},{\"attributes\":{},\"id\":\"2969\",\"type\":\"HelpTool\"},{\"attributes\":{},\"id\":\"2960\",\"type\":\"BasicTicker\"},{\"attributes\":{\"source\":{\"id\":\"3011\",\"type\":\"ColumnDataSource\"}},\"id\":\"3015\",\"type\":\"CDSView\"},{\"attributes\":{\"fill_color\":{\"value\":\"#FA1857\"},\"line_color\":{\"value\":\"#FA1857\"},\"line_width\":{\"value\":3},\"x\":{\"field\":\"x\"},\"y\":{\"field\":\"y\"}},\"id\":\"2991\",\"type\":\"Circle\"},{\"attributes\":{\"active_drag\":\"auto\",\"active_inspect\":\"auto\",\"active_multi\":null,\"active_scroll\":\"auto\",\"active_tap\":\"auto\",\"tools\":[{\"id\":\"2964\",\"type\":\"PanTool\"},{\"id\":\"2965\",\"type\":\"WheelZoomTool\"},{\"id\":\"2966\",\"type\":\"BoxZoomTool\"},{\"id\":\"2967\",\"type\":\"SaveTool\"},{\"id\":\"2968\",\"type\":\"ResetTool\"},{\"id\":\"2969\",\"type\":\"HelpTool\"},{\"id\":\"3041\",\"type\":\"HoverTool\"}]},\"id\":\"2970\",\"type\":\"Toolbar\"},{\"attributes\":{\"fill_alpha\":{\"value\":0.1},\"fill_color\":{\"value\":\"#1f77b4\"},\"line_alpha\":{\"value\":0.1},\"line_color\":{\"value\":\"#1f77b4\"},\"line_width\":{\"value\":3},\"x\":{\"field\":\"x\"},\"y\":{\"field\":\"y\"}},\"id\":\"3038\",\"type\":\"Circle\"},{\"attributes\":{\"dimension\":1,\"grid_line_alpha\":0.5,\"ticker\":{\"id\":\"2960\",\"type\":\"BasicTicker\"}},\"id\":\"2963\",\"type\":\"Grid\"},{\"attributes\":{\"callback\":null,\"data\":{\"x\":[\"2000\",\"2001\",\"2002\",\"2003\",\"2004\",\"2005\",\"2006\",\"2007\",\"2008\",\"2009\",\"2010\",\"2011\",\"2012\",\"2013\",\"2014\",\"2015\",\"2016\",\"2017\"],\"y\":[6.664750789193946,7.14260825773659,7.454785931920459,7.5069480358449825,7.061134298970307,6.798358087904257,6.463499051640063,6.724561457383378,7.076831863705094,8.259612794934673,7.468578257026923,7.615305901349119,7.570593882649795,7.890298170268733,7.995508600894686,8.359319653572543,8.569945562785916,8.425056582808882]},\"selected\":{\"id\":\"3181\",\"type\":\"Selection\"},\"selection_policy\":{\"id\":\"3182\",\"type\":\"UnionRenderers\"}},\"id\":\"3016\",\"type\":\"ColumnDataSource\"},{\"attributes\":{\"fill_alpha\":{\"value\":0.1},\"fill_color\":{\"value\":\"#1f77b4\"},\"line_alpha\":{\"value\":0.1},\"line_color\":{\"value\":\"#1f77b4\"},\"line_width\":{\"value\":3},\"x\":{\"field\":\"x\"},\"y\":{\"field\":\"y\"}},\"id\":\"2992\",\"type\":\"Circle\"},{\"attributes\":{\"line_color\":\"#FA1857\",\"x\":{\"field\":\"x\"},\"y\":{\"field\":\"y\"}},\"id\":\"2978\",\"type\":\"Line\"},{\"attributes\":{\"line_color\":\"#2CC775\",\"x\":{\"field\":\"x\"},\"y\":{\"field\":\"y\"}},\"id\":\"3017\",\"type\":\"Line\"},{\"attributes\":{\"data_source\":{\"id\":\"2990\",\"type\":\"ColumnDataSource\"},\"glyph\":{\"id\":\"2991\",\"type\":\"Circle\"},\"hover_glyph\":null,\"muted_glyph\":null,\"nonselection_glyph\":{\"id\":\"2992\",\"type\":\"Circle\"},\"selection_glyph\":null,\"view\":{\"id\":\"2994\",\"type\":\"CDSView\"}},\"id\":\"2993\",\"type\":\"GlyphRenderer\"},{\"attributes\":{\"data_source\":{\"id\":\"3036\",\"type\":\"ColumnDataSource\"},\"glyph\":{\"id\":\"3037\",\"type\":\"Circle\"},\"hover_glyph\":null,\"muted_glyph\":null,\"nonselection_glyph\":{\"id\":\"3038\",\"type\":\"Circle\"},\"selection_glyph\":null,\"view\":{\"id\":\"3040\",\"type\":\"CDSView\"}},\"id\":\"3039\",\"type\":\"GlyphRenderer\"},{\"attributes\":{\"line_alpha\":0.1,\"line_color\":\"#1f77b4\",\"x\":{\"field\":\"x\"},\"y\":{\"field\":\"y\"}},\"id\":\"3018\",\"type\":\"Line\"},{\"attributes\":{\"data_source\":{\"id\":\"2977\",\"type\":\"ColumnDataSource\"},\"glyph\":{\"id\":\"2978\",\"type\":\"Line\"},\"hover_glyph\":null,\"muted_glyph\":null,\"nonselection_glyph\":{\"id\":\"2979\",\"type\":\"Line\"},\"selection_glyph\":null,\"view\":{\"id\":\"2981\",\"type\":\"CDSView\"}},\"id\":\"2980\",\"type\":\"GlyphRenderer\"},{\"attributes\":{\"source\":{\"id\":\"2990\",\"type\":\"ColumnDataSource\"}},\"id\":\"2994\",\"type\":\"CDSView\"},{\"attributes\":{\"source\":{\"id\":\"2977\",\"type\":\"ColumnDataSource\"}},\"id\":\"2981\",\"type\":\"CDSView\"},{\"attributes\":{\"data_source\":{\"id\":\"3016\",\"type\":\"ColumnDataSource\"},\"glyph\":{\"id\":\"3017\",\"type\":\"Line\"},\"hover_glyph\":null,\"muted_glyph\":null,\"nonselection_glyph\":{\"id\":\"3018\",\"type\":\"Line\"},\"selection_glyph\":null,\"view\":{\"id\":\"3020\",\"type\":\"CDSView\"}},\"id\":\"3019\",\"type\":\"GlyphRenderer\"},{\"attributes\":{\"callback\":null,\"data\":{\"x\":[\"2000\",\"2001\",\"2002\",\"2003\",\"2004\",\"2005\",\"2006\",\"2007\",\"2008\",\"2009\",\"2010\",\"2011\",\"2012\",\"2013\",\"2014\",\"2015\",\"2016\",\"2017\"],\"y\":[6.680761900137902,7.103266650915765,6.9541849955897606,6.71483006886033,6.245912622425446,5.671804704646423,5.391568297068544,5.972886125793425,6.3914893367351935,6.916327387090665,6.474547310095425,6.804185950656369,6.780992206038605,6.8536773836084866,7.205658369676085,7.84683494478912,8.06735084956151,8.155877729724605]},\"selected\":{\"id\":\"3030\",\"type\":\"Selection\"},\"selection_policy\":{\"id\":\"3031\",\"type\":\"UnionRenderers\"}},\"id\":\"2995\",\"type\":\"ColumnDataSource\"},{\"attributes\":{},\"id\":\"2984\",\"type\":\"BasicTickFormatter\"},{\"attributes\":{\"source\":{\"id\":\"3036\",\"type\":\"ColumnDataSource\"}},\"id\":\"3040\",\"type\":\"CDSView\"},{\"attributes\":{\"text\":\"Food imports (% of merchandise imports) weighted against Merchandise imports (current US$)\"},\"id\":\"2944\",\"type\":\"Title\"},{\"attributes\":{\"source\":{\"id\":\"3016\",\"type\":\"ColumnDataSource\"}},\"id\":\"3020\",\"type\":\"CDSView\"},{\"attributes\":{\"line_color\":\"#5430F1\",\"x\":{\"field\":\"x\"},\"y\":{\"field\":\"y\"}},\"id\":\"2996\",\"type\":\"Line\"},{\"attributes\":{},\"id\":\"3030\",\"type\":\"Selection\"},{\"attributes\":{\"line_alpha\":0.1,\"line_color\":\"#1f77b4\",\"x\":{\"field\":\"x\"},\"y\":{\"field\":\"y\"}},\"id\":\"2997\",\"type\":\"Line\"},{\"attributes\":{\"callback\":null},\"id\":\"2946\",\"type\":\"DataRange1d\"},{\"attributes\":{},\"id\":\"3031\",\"type\":\"UnionRenderers\"},{\"attributes\":{\"data_source\":{\"id\":\"2995\",\"type\":\"ColumnDataSource\"},\"glyph\":{\"id\":\"2996\",\"type\":\"Line\"},\"hover_glyph\":null,\"muted_glyph\":null,\"nonselection_glyph\":{\"id\":\"2997\",\"type\":\"Line\"},\"selection_glyph\":null,\"view\":{\"id\":\"2999\",\"type\":\"CDSView\"}},\"id\":\"2998\",\"type\":\"GlyphRenderer\"},{\"attributes\":{},\"id\":\"2986\",\"type\":\"BasicTickFormatter\"},{\"attributes\":{},\"id\":\"3032\",\"type\":\"Selection\"},{\"attributes\":{\"source\":{\"id\":\"2995\",\"type\":\"ColumnDataSource\"}},\"id\":\"2999\",\"type\":\"CDSView\"},{\"attributes\":{\"bottom_units\":\"screen\",\"fill_alpha\":{\"value\":0.5},\"fill_color\":{\"value\":\"lightgrey\"},\"left_units\":\"screen\",\"level\":\"overlay\",\"line_alpha\":{\"value\":1.0},\"line_color\":{\"value\":\"black\"},\"line_dash\":[4,4],\"line_width\":{\"value\":2},\"render_mode\":\"css\",\"right_units\":\"screen\",\"top_units\":\"screen\"},\"id\":\"2987\",\"type\":\"BoxAnnotation\"},{\"attributes\":{},\"id\":\"3181\",\"type\":\"Selection\"},{\"attributes\":{\"callback\":null},\"id\":\"2948\",\"type\":\"DataRange1d\"},{\"attributes\":{},\"id\":\"3033\",\"type\":\"UnionRenderers\"},{\"attributes\":{},\"id\":\"3005\",\"type\":\"Selection\"},{\"attributes\":{\"label\":{\"value\":\"OECD\"},\"renderers\":[{\"id\":\"3019\",\"type\":\"GlyphRenderer\"}]},\"id\":\"3035\",\"type\":\"LegendItem\"},{\"attributes\":{},\"id\":\"3006\",\"type\":\"UnionRenderers\"},{\"attributes\":{\"callback\":null,\"data\":{\"x\":[\"2000\",\"2001\",\"2002\",\"2003\",\"2004\",\"2005\",\"2006\",\"2007\",\"2008\",\"2009\",\"2010\",\"2011\",\"2012\",\"2013\",\"2014\",\"2015\",\"2016\",\"2017\"],\"y\":[6.664750789193946,7.14260825773659,7.454785931920459,7.5069480358449825,7.061134298970307,6.798358087904257,6.463499051640063,6.724561457383378,7.076831863705094,8.259612794934673,7.468578257026923,7.615305901349119,7.570593882649795,7.890298170268733,7.995508600894686,8.359319653572543,8.569945562785916,8.425056582808882]},\"selected\":{\"id\":\"3183\",\"type\":\"Selection\"},\"selection_policy\":{\"id\":\"3184\",\"type\":\"UnionRenderers\"}},\"id\":\"3036\",\"type\":\"ColumnDataSource\"},{\"attributes\":{},\"id\":\"3182\",\"type\":\"UnionRenderers\"},{\"attributes\":{},\"id\":\"2950\",\"type\":\"LinearScale\"},{\"attributes\":{},\"id\":\"3007\",\"type\":\"Selection\"}],\"root_ids\":[\"2943\"]},\"title\":\"Bokeh Application\",\"version\":\"1.3.4\"}};\n",
       "  var render_items = [{\"docid\":\"01b93d6f-3f01-4b4c-8ffc-bcbffbb2dd2f\",\"roots\":{\"2943\":\"ca556a8c-de65-44a3-ab0a-6269065e49ec\"}}];\n",
       "  root.Bokeh.embed.embed_items_notebook(docs_json, render_items);\n",
       "\n",
       "  }\n",
       "  if (root.Bokeh !== undefined) {\n",
       "    embed_document(root);\n",
       "  } else {\n",
       "    var attempts = 0;\n",
       "    var timer = setInterval(function(root) {\n",
       "      if (root.Bokeh !== undefined) {\n",
       "        embed_document(root);\n",
       "        clearInterval(timer);\n",
       "      }\n",
       "      attempts++;\n",
       "      if (attempts > 100) {\n",
       "        console.log(\"Bokeh: ERROR: Unable to run BokehJS code because BokehJS library is missing\");\n",
       "        clearInterval(timer);\n",
       "      }\n",
       "    }, 10, root)\n",
       "  }\n",
       "})(window);"
      ],
      "application/vnd.bokehjs_exec.v0+json": ""
     },
     "metadata": {
      "application/vnd.bokehjs_exec.v0+json": {
       "id": "2943"
      }
     },
     "output_type": "display_data"
    }
   ],
   "source": [
    "# Food imports as a percentage of merchandise imports\n",
    "years = list(map(str, list(range(2000,2018))))\n",
    "result = show_weighted_average(years, 'TM.VAL.FOOD.ZS.UN', 'TM.VAL.MRCH.CD.WT', \n",
    "                               ['LDCs', 'Developing excluding LDCs', 'OECD'])"
   ]
  },
  {
   "cell_type": "code",
   "execution_count": 13,
   "metadata": {
    "ExecuteTime": {
     "end_time": "2019-10-25T14:25:08.896422Z",
     "start_time": "2019-10-25T14:25:03.862619Z"
    },
    "slideshow": {
     "slide_type": "slide"
    }
   },
   "outputs": [
    {
     "data": {
      "text/html": [
       "\n",
       "\n",
       "\n",
       "\n",
       "\n",
       "\n",
       "  <div class=\"bk-root\" id=\"39e9ce31-2558-41d2-8a36-1ca5154c53ac\" data-root-id=\"3294\"></div>\n"
      ]
     },
     "metadata": {},
     "output_type": "display_data"
    },
    {
     "data": {
      "application/javascript": [
       "(function(root) {\n",
       "  function embed_document(root) {\n",
       "    \n",
       "  var docs_json = {\"ea70b1a7-827b-42ab-99af-91a6e42c208b\":{\"roots\":{\"references\":[{\"attributes\":{\"below\":[{\"id\":\"3305\",\"type\":\"LinearAxis\"}],\"center\":[{\"id\":\"3309\",\"type\":\"Grid\"},{\"id\":\"3314\",\"type\":\"Grid\"},{\"id\":\"3339\",\"type\":\"Legend\"}],\"left\":[{\"id\":\"3310\",\"type\":\"LinearAxis\"}],\"plot_height\":400,\"plot_width\":800,\"renderers\":[{\"id\":\"3331\",\"type\":\"GlyphRenderer\"},{\"id\":\"3344\",\"type\":\"GlyphRenderer\"},{\"id\":\"3349\",\"type\":\"GlyphRenderer\"},{\"id\":\"3365\",\"type\":\"GlyphRenderer\"},{\"id\":\"3370\",\"type\":\"GlyphRenderer\"},{\"id\":\"3390\",\"type\":\"GlyphRenderer\"}],\"title\":{\"id\":\"3295\",\"type\":\"Title\"},\"toolbar\":{\"id\":\"3321\",\"type\":\"Toolbar\"},\"x_range\":{\"id\":\"3297\",\"type\":\"DataRange1d\"},\"x_scale\":{\"id\":\"3301\",\"type\":\"LinearScale\"},\"y_range\":{\"id\":\"3299\",\"type\":\"DataRange1d\"},\"y_scale\":{\"id\":\"3303\",\"type\":\"LinearScale\"}},\"id\":\"3294\",\"subtype\":\"Figure\",\"type\":\"Plot\"},{\"attributes\":{\"data_source\":{\"id\":\"3367\",\"type\":\"ColumnDataSource\"},\"glyph\":{\"id\":\"3368\",\"type\":\"Line\"},\"hover_glyph\":null,\"muted_glyph\":null,\"nonselection_glyph\":{\"id\":\"3369\",\"type\":\"Line\"},\"selection_glyph\":null,\"view\":{\"id\":\"3371\",\"type\":\"CDSView\"}},\"id\":\"3370\",\"type\":\"GlyphRenderer\"},{\"attributes\":{\"source\":{\"id\":\"3328\",\"type\":\"ColumnDataSource\"}},\"id\":\"3332\",\"type\":\"CDSView\"},{\"attributes\":{\"label\":{\"value\":\"LDCs\"},\"renderers\":[{\"id\":\"3331\",\"type\":\"GlyphRenderer\"}]},\"id\":\"3340\",\"type\":\"LegendItem\"},{\"attributes\":{},\"id\":\"3551\",\"type\":\"UnionRenderers\"},{\"attributes\":{},\"id\":\"3335\",\"type\":\"BasicTickFormatter\"},{\"attributes\":{\"source\":{\"id\":\"3362\",\"type\":\"ColumnDataSource\"}},\"id\":\"3366\",\"type\":\"CDSView\"},{\"attributes\":{},\"id\":\"3303\",\"type\":\"LinearScale\"},{\"attributes\":{},\"id\":\"3550\",\"type\":\"Selection\"},{\"attributes\":{\"data_source\":{\"id\":\"3362\",\"type\":\"ColumnDataSource\"},\"glyph\":{\"id\":\"3363\",\"type\":\"Circle\"},\"hover_glyph\":null,\"muted_glyph\":null,\"nonselection_glyph\":{\"id\":\"3364\",\"type\":\"Circle\"},\"selection_glyph\":null,\"view\":{\"id\":\"3366\",\"type\":\"CDSView\"}},\"id\":\"3365\",\"type\":\"GlyphRenderer\"},{\"attributes\":{},\"id\":\"3301\",\"type\":\"LinearScale\"},{\"attributes\":{\"grid_line_color\":null,\"ticker\":{\"id\":\"3306\",\"type\":\"BasicTicker\"}},\"id\":\"3309\",\"type\":\"Grid\"},{\"attributes\":{\"fill_color\":{\"value\":\"#5430F1\"},\"line_color\":{\"value\":\"#5430F1\"},\"line_width\":{\"value\":3},\"x\":{\"field\":\"x\"},\"y\":{\"field\":\"y\"}},\"id\":\"3363\",\"type\":\"Circle\"},{\"attributes\":{\"callback\":null,\"tooltips\":\"                \\n        <div style=padding=5px>Year:@x</div>\\n        <div style=padding=5px>Value:@y</div>        \\n        \"},\"id\":\"3392\",\"type\":\"HoverTool\"},{\"attributes\":{\"active_drag\":\"auto\",\"active_inspect\":\"auto\",\"active_multi\":null,\"active_scroll\":\"auto\",\"active_tap\":\"auto\",\"tools\":[{\"id\":\"3315\",\"type\":\"PanTool\"},{\"id\":\"3316\",\"type\":\"WheelZoomTool\"},{\"id\":\"3317\",\"type\":\"BoxZoomTool\"},{\"id\":\"3318\",\"type\":\"SaveTool\"},{\"id\":\"3319\",\"type\":\"ResetTool\"},{\"id\":\"3320\",\"type\":\"HelpTool\"},{\"id\":\"3392\",\"type\":\"HoverTool\"}]},\"id\":\"3321\",\"type\":\"Toolbar\"},{\"attributes\":{\"callback\":null,\"data\":{\"x\":[\"2000\",\"2001\",\"2002\",\"2003\",\"2004\",\"2005\",\"2006\",\"2007\",\"2008\",\"2009\",\"2010\",\"2011\",\"2012\",\"2013\",\"2014\",\"2015\",\"2016\",\"2017\"],\"y\":[15.103695797826978,15.131169027337517,14.956404858686836,14.940762682053347,14.834277780762966,14.355494539286878,13.756191814089059,13.46227561311569,13.185720820345873,13.311176143007764,13.205454041812168,13.11874289832326,13.014718113971039,12.888181456404036,12.723579196926023,12.524640395839814,12.37155664238607,12.249551314128]},\"selected\":{\"id\":\"3550\",\"type\":\"Selection\"},\"selection_policy\":{\"id\":\"3551\",\"type\":\"UnionRenderers\"}},\"id\":\"3367\",\"type\":\"ColumnDataSource\"},{\"attributes\":{\"axis_label\":\"Years\",\"formatter\":{\"id\":\"3335\",\"type\":\"BasicTickFormatter\"},\"ticker\":{\"id\":\"3306\",\"type\":\"BasicTicker\"}},\"id\":\"3305\",\"type\":\"LinearAxis\"},{\"attributes\":{},\"id\":\"3552\",\"type\":\"Selection\"},{\"attributes\":{},\"id\":\"3337\",\"type\":\"BasicTickFormatter\"},{\"attributes\":{\"source\":{\"id\":\"3387\",\"type\":\"ColumnDataSource\"}},\"id\":\"3391\",\"type\":\"CDSView\"},{\"attributes\":{\"fill_alpha\":{\"value\":0.1},\"fill_color\":{\"value\":\"#1f77b4\"},\"line_alpha\":{\"value\":0.1},\"line_color\":{\"value\":\"#1f77b4\"},\"line_width\":{\"value\":3},\"x\":{\"field\":\"x\"},\"y\":{\"field\":\"y\"}},\"id\":\"3364\",\"type\":\"Circle\"},{\"attributes\":{\"callback\":null},\"id\":\"3297\",\"type\":\"DataRange1d\"},{\"attributes\":{},\"id\":\"3306\",\"type\":\"BasicTicker\"},{\"attributes\":{\"data_source\":{\"id\":\"3387\",\"type\":\"ColumnDataSource\"},\"glyph\":{\"id\":\"3388\",\"type\":\"Circle\"},\"hover_glyph\":null,\"muted_glyph\":null,\"nonselection_glyph\":{\"id\":\"3389\",\"type\":\"Circle\"},\"selection_glyph\":null,\"view\":{\"id\":\"3391\",\"type\":\"CDSView\"}},\"id\":\"3390\",\"type\":\"GlyphRenderer\"},{\"attributes\":{\"text\":\"Vulnerable employment, total (% of total employment) (modeled ILO estimate) weighted against Population, total\"},\"id\":\"3295\",\"type\":\"Title\"},{\"attributes\":{\"source\":{\"id\":\"3346\",\"type\":\"ColumnDataSource\"}},\"id\":\"3350\",\"type\":\"CDSView\"},{\"attributes\":{\"data_source\":{\"id\":\"3328\",\"type\":\"ColumnDataSource\"},\"glyph\":{\"id\":\"3329\",\"type\":\"Line\"},\"hover_glyph\":null,\"muted_glyph\":null,\"nonselection_glyph\":{\"id\":\"3330\",\"type\":\"Line\"},\"selection_glyph\":null,\"view\":{\"id\":\"3332\",\"type\":\"CDSView\"}},\"id\":\"3331\",\"type\":\"GlyphRenderer\"},{\"attributes\":{},\"id\":\"3318\",\"type\":\"SaveTool\"},{\"attributes\":{\"callback\":null},\"id\":\"3299\",\"type\":\"DataRange1d\"},{\"attributes\":{\"fill_color\":{\"value\":\"#2CC775\"},\"line_color\":{\"value\":\"#2CC775\"},\"line_width\":{\"value\":3},\"x\":{\"field\":\"x\"},\"y\":{\"field\":\"y\"}},\"id\":\"3388\",\"type\":\"Circle\"},{\"attributes\":{\"callback\":null,\"data\":{\"x\":[\"2000\",\"2001\",\"2002\",\"2003\",\"2004\",\"2005\",\"2006\",\"2007\",\"2008\",\"2009\",\"2010\",\"2011\",\"2012\",\"2013\",\"2014\",\"2015\",\"2016\",\"2017\"],\"y\":[61.0670899676933,60.64887617851456,60.0847174439562,59.8004428750146,59.24493004641758,58.64982323027214,57.9982987425477,57.53000290515276,57.170618508695945,56.87034484147922,56.39818778323896,55.53142880868701,54.515207463938346,53.981841318734105,53.516452959813726,53.08603882753668,52.796133419564455,52.481225827201754]},\"selected\":{\"id\":\"3383\",\"type\":\"Selection\"},\"selection_policy\":{\"id\":\"3384\",\"type\":\"UnionRenderers\"}},\"id\":\"3362\",\"type\":\"ColumnDataSource\"},{\"attributes\":{},\"id\":\"3319\",\"type\":\"ResetTool\"},{\"attributes\":{\"line_color\":\"#5430F1\",\"x\":{\"field\":\"x\"},\"y\":{\"field\":\"y\"}},\"id\":\"3347\",\"type\":\"Line\"},{\"attributes\":{},\"id\":\"3320\",\"type\":\"HelpTool\"},{\"attributes\":{\"callback\":null,\"data\":{\"x\":[\"2000\",\"2001\",\"2002\",\"2003\",\"2004\",\"2005\",\"2006\",\"2007\",\"2008\",\"2009\",\"2010\",\"2011\",\"2012\",\"2013\",\"2014\",\"2015\",\"2016\",\"2017\"],\"y\":[15.103695797826978,15.131169027337517,14.956404858686836,14.940762682053347,14.834277780762966,14.355494539286878,13.756191814089059,13.46227561311569,13.185720820345873,13.311176143007764,13.205454041812168,13.11874289832326,13.014718113971039,12.888181456404036,12.723579196926023,12.524640395839814,12.37155664238607,12.249551314128]},\"selected\":{\"id\":\"3552\",\"type\":\"Selection\"},\"selection_policy\":{\"id\":\"3553\",\"type\":\"UnionRenderers\"}},\"id\":\"3387\",\"type\":\"ColumnDataSource\"},{\"attributes\":{\"line_alpha\":0.1,\"line_color\":\"#1f77b4\",\"x\":{\"field\":\"x\"},\"y\":{\"field\":\"y\"}},\"id\":\"3348\",\"type\":\"Line\"},{\"attributes\":{\"label\":{\"value\":\"Developing excluding LDCs\"},\"renderers\":[{\"id\":\"3349\",\"type\":\"GlyphRenderer\"}]},\"id\":\"3361\",\"type\":\"LegendItem\"},{\"attributes\":{\"fill_alpha\":{\"value\":0.1},\"fill_color\":{\"value\":\"#1f77b4\"},\"line_alpha\":{\"value\":0.1},\"line_color\":{\"value\":\"#1f77b4\"},\"line_width\":{\"value\":3},\"x\":{\"field\":\"x\"},\"y\":{\"field\":\"y\"}},\"id\":\"3389\",\"type\":\"Circle\"},{\"attributes\":{},\"id\":\"3315\",\"type\":\"PanTool\"},{\"attributes\":{\"data_source\":{\"id\":\"3346\",\"type\":\"ColumnDataSource\"},\"glyph\":{\"id\":\"3347\",\"type\":\"Line\"},\"hover_glyph\":null,\"muted_glyph\":null,\"nonselection_glyph\":{\"id\":\"3348\",\"type\":\"Line\"},\"selection_glyph\":null,\"view\":{\"id\":\"3350\",\"type\":\"CDSView\"}},\"id\":\"3349\",\"type\":\"GlyphRenderer\"},{\"attributes\":{},\"id\":\"3316\",\"type\":\"WheelZoomTool\"},{\"attributes\":{},\"id\":\"3384\",\"type\":\"UnionRenderers\"},{\"attributes\":{\"data_source\":{\"id\":\"3341\",\"type\":\"ColumnDataSource\"},\"glyph\":{\"id\":\"3342\",\"type\":\"Circle\"},\"hover_glyph\":null,\"muted_glyph\":null,\"nonselection_glyph\":{\"id\":\"3343\",\"type\":\"Circle\"},\"selection_glyph\":null,\"view\":{\"id\":\"3345\",\"type\":\"CDSView\"}},\"id\":\"3344\",\"type\":\"GlyphRenderer\"},{\"attributes\":{\"overlay\":{\"id\":\"3338\",\"type\":\"BoxAnnotation\"}},\"id\":\"3317\",\"type\":\"BoxZoomTool\"},{\"attributes\":{},\"id\":\"3359\",\"type\":\"UnionRenderers\"},{\"attributes\":{},\"id\":\"3383\",\"type\":\"Selection\"},{\"attributes\":{\"source\":{\"id\":\"3341\",\"type\":\"ColumnDataSource\"}},\"id\":\"3345\",\"type\":\"CDSView\"},{\"attributes\":{\"label\":{\"value\":\"OECD\"},\"renderers\":[{\"id\":\"3370\",\"type\":\"GlyphRenderer\"}]},\"id\":\"3386\",\"type\":\"LegendItem\"},{\"attributes\":{\"line_color\":\"#FA1857\",\"x\":{\"field\":\"x\"},\"y\":{\"field\":\"y\"}},\"id\":\"3329\",\"type\":\"Line\"},{\"attributes\":{\"callback\":null,\"data\":{\"x\":[\"2000\",\"2001\",\"2002\",\"2003\",\"2004\",\"2005\",\"2006\",\"2007\",\"2008\",\"2009\",\"2010\",\"2011\",\"2012\",\"2013\",\"2014\",\"2015\",\"2016\",\"2017\"],\"y\":[61.0670899676933,60.64887617851456,60.0847174439562,59.8004428750146,59.24493004641758,58.64982323027214,57.9982987425477,57.53000290515276,57.170618508695945,56.87034484147922,56.39818778323896,55.53142880868701,54.515207463938346,53.981841318734105,53.516452959813726,53.08603882753668,52.796133419564455,52.481225827201754]},\"selected\":{\"id\":\"3381\",\"type\":\"Selection\"},\"selection_policy\":{\"id\":\"3382\",\"type\":\"UnionRenderers\"}},\"id\":\"3346\",\"type\":\"ColumnDataSource\"},{\"attributes\":{},\"id\":\"3358\",\"type\":\"Selection\"},{\"attributes\":{},\"id\":\"3381\",\"type\":\"Selection\"},{\"attributes\":{\"callback\":null,\"data\":{\"x\":[\"2000\",\"2001\",\"2002\",\"2003\",\"2004\",\"2005\",\"2006\",\"2007\",\"2008\",\"2009\",\"2010\",\"2011\",\"2012\",\"2013\",\"2014\",\"2015\",\"2016\",\"2017\"],\"y\":[77.66578611815008,77.48372117856151,77.3003924283104,77.1161525061927,76.90031449181213,76.68776345896921,76.39614003844204,76.07617621973222,75.75177177404335,75.48791521612867,75.12502195029214,74.66610555949481,74.2289571673177,73.9102202255493,73.62207946448815,73.45806110199783,73.28473415585526,73.01422935144863]},\"selected\":{\"id\":\"3358\",\"type\":\"Selection\"},\"selection_policy\":{\"id\":\"3359\",\"type\":\"UnionRenderers\"}},\"id\":\"3341\",\"type\":\"ColumnDataSource\"},{\"attributes\":{\"callback\":null,\"data\":{\"x\":[\"2000\",\"2001\",\"2002\",\"2003\",\"2004\",\"2005\",\"2006\",\"2007\",\"2008\",\"2009\",\"2010\",\"2011\",\"2012\",\"2013\",\"2014\",\"2015\",\"2016\",\"2017\"],\"y\":[77.66578611815008,77.48372117856151,77.3003924283104,77.1161525061927,76.90031449181213,76.68776345896921,76.39614003844204,76.07617621973222,75.75177177404335,75.48791521612867,75.12502195029214,74.66610555949481,74.2289571673177,73.9102202255493,73.62207946448815,73.45806110199783,73.28473415585526,73.01422935144863]},\"selected\":{\"id\":\"3356\",\"type\":\"Selection\"},\"selection_policy\":{\"id\":\"3357\",\"type\":\"UnionRenderers\"}},\"id\":\"3328\",\"type\":\"ColumnDataSource\"},{\"attributes\":{\"source\":{\"id\":\"3367\",\"type\":\"ColumnDataSource\"}},\"id\":\"3371\",\"type\":\"CDSView\"},{\"attributes\":{},\"id\":\"3553\",\"type\":\"UnionRenderers\"},{\"attributes\":{\"fill_color\":{\"value\":\"#FA1857\"},\"line_color\":{\"value\":\"#FA1857\"},\"line_width\":{\"value\":3},\"x\":{\"field\":\"x\"},\"y\":{\"field\":\"y\"}},\"id\":\"3342\",\"type\":\"Circle\"},{\"attributes\":{\"axis_label\":\"SL.EMP.VULN.ZS\",\"formatter\":{\"id\":\"3337\",\"type\":\"BasicTickFormatter\"},\"ticker\":{\"id\":\"3311\",\"type\":\"BasicTicker\"}},\"id\":\"3310\",\"type\":\"LinearAxis\"},{\"attributes\":{},\"id\":\"3357\",\"type\":\"UnionRenderers\"},{\"attributes\":{},\"id\":\"3382\",\"type\":\"UnionRenderers\"},{\"attributes\":{\"line_alpha\":0.1,\"line_color\":\"#1f77b4\",\"x\":{\"field\":\"x\"},\"y\":{\"field\":\"y\"}},\"id\":\"3330\",\"type\":\"Line\"},{\"attributes\":{\"fill_alpha\":{\"value\":0.1},\"fill_color\":{\"value\":\"#1f77b4\"},\"line_alpha\":{\"value\":0.1},\"line_color\":{\"value\":\"#1f77b4\"},\"line_width\":{\"value\":3},\"x\":{\"field\":\"x\"},\"y\":{\"field\":\"y\"}},\"id\":\"3343\",\"type\":\"Circle\"},{\"attributes\":{},\"id\":\"3311\",\"type\":\"BasicTicker\"},{\"attributes\":{\"line_alpha\":0.1,\"line_color\":\"#1f77b4\",\"x\":{\"field\":\"x\"},\"y\":{\"field\":\"y\"}},\"id\":\"3369\",\"type\":\"Line\"},{\"attributes\":{},\"id\":\"3356\",\"type\":\"Selection\"},{\"attributes\":{\"bottom_units\":\"screen\",\"fill_alpha\":{\"value\":0.5},\"fill_color\":{\"value\":\"lightgrey\"},\"left_units\":\"screen\",\"level\":\"overlay\",\"line_alpha\":{\"value\":1.0},\"line_color\":{\"value\":\"black\"},\"line_dash\":[4,4],\"line_width\":{\"value\":2},\"render_mode\":\"css\",\"right_units\":\"screen\",\"top_units\":\"screen\"},\"id\":\"3338\",\"type\":\"BoxAnnotation\"},{\"attributes\":{\"dimension\":1,\"grid_line_alpha\":0.5,\"ticker\":{\"id\":\"3311\",\"type\":\"BasicTicker\"}},\"id\":\"3314\",\"type\":\"Grid\"},{\"attributes\":{\"line_color\":\"#2CC775\",\"x\":{\"field\":\"x\"},\"y\":{\"field\":\"y\"}},\"id\":\"3368\",\"type\":\"Line\"},{\"attributes\":{\"items\":[{\"id\":\"3340\",\"type\":\"LegendItem\"},{\"id\":\"3361\",\"type\":\"LegendItem\"},{\"id\":\"3386\",\"type\":\"LegendItem\"}],\"location\":\"bottom_left\"},\"id\":\"3339\",\"type\":\"Legend\"}],\"root_ids\":[\"3294\"]},\"title\":\"Bokeh Application\",\"version\":\"1.3.4\"}};\n",
       "  var render_items = [{\"docid\":\"ea70b1a7-827b-42ab-99af-91a6e42c208b\",\"roots\":{\"3294\":\"39e9ce31-2558-41d2-8a36-1ca5154c53ac\"}}];\n",
       "  root.Bokeh.embed.embed_items_notebook(docs_json, render_items);\n",
       "\n",
       "  }\n",
       "  if (root.Bokeh !== undefined) {\n",
       "    embed_document(root);\n",
       "  } else {\n",
       "    var attempts = 0;\n",
       "    var timer = setInterval(function(root) {\n",
       "      if (root.Bokeh !== undefined) {\n",
       "        embed_document(root);\n",
       "        clearInterval(timer);\n",
       "      }\n",
       "      attempts++;\n",
       "      if (attempts > 100) {\n",
       "        console.log(\"Bokeh: ERROR: Unable to run BokehJS code because BokehJS library is missing\");\n",
       "        clearInterval(timer);\n",
       "      }\n",
       "    }, 10, root)\n",
       "  }\n",
       "})(window);"
      ],
      "application/vnd.bokehjs_exec.v0+json": ""
     },
     "metadata": {
      "application/vnd.bokehjs_exec.v0+json": {
       "id": "3294"
      }
     },
     "output_type": "display_data"
    }
   ],
   "source": [
    "# Vulnerable employment\n",
    "years = list(map(str, list(range(2000,2018))))\n",
    "result = show_weighted_average(years, 'SL.EMP.VULN.ZS', 'SP.POP.TOTL', \n",
    "                               ['LDCs', 'Developing excluding LDCs', 'OECD'])"
   ]
  },
  {
   "cell_type": "code",
   "execution_count": 14,
   "metadata": {
    "ExecuteTime": {
     "end_time": "2019-10-25T14:25:14.112300Z",
     "start_time": "2019-10-25T14:25:08.899437Z"
    },
    "slideshow": {
     "slide_type": "slide"
    }
   },
   "outputs": [
    {
     "data": {
      "text/html": [
       "\n",
       "\n",
       "\n",
       "\n",
       "\n",
       "\n",
       "  <div class=\"bk-root\" id=\"f011bb41-4f13-41af-9da9-ee0b0bda67cc\" data-root-id=\"3663\"></div>\n"
      ]
     },
     "metadata": {},
     "output_type": "display_data"
    },
    {
     "data": {
      "application/javascript": [
       "(function(root) {\n",
       "  function embed_document(root) {\n",
       "    \n",
       "  var docs_json = {\"cc44bd84-bf30-4488-ae99-378af446c098\":{\"roots\":{\"references\":[{\"attributes\":{\"below\":[{\"id\":\"3674\",\"type\":\"LinearAxis\"}],\"center\":[{\"id\":\"3678\",\"type\":\"Grid\"},{\"id\":\"3683\",\"type\":\"Grid\"},{\"id\":\"3708\",\"type\":\"Legend\"}],\"left\":[{\"id\":\"3679\",\"type\":\"LinearAxis\"}],\"plot_height\":400,\"plot_width\":800,\"renderers\":[{\"id\":\"3700\",\"type\":\"GlyphRenderer\"},{\"id\":\"3713\",\"type\":\"GlyphRenderer\"},{\"id\":\"3718\",\"type\":\"GlyphRenderer\"},{\"id\":\"3734\",\"type\":\"GlyphRenderer\"},{\"id\":\"3739\",\"type\":\"GlyphRenderer\"},{\"id\":\"3759\",\"type\":\"GlyphRenderer\"}],\"title\":{\"id\":\"3664\",\"type\":\"Title\"},\"toolbar\":{\"id\":\"3690\",\"type\":\"Toolbar\"},\"x_range\":{\"id\":\"3666\",\"type\":\"DataRange1d\"},\"x_scale\":{\"id\":\"3670\",\"type\":\"LinearScale\"},\"y_range\":{\"id\":\"3668\",\"type\":\"DataRange1d\"},\"y_scale\":{\"id\":\"3672\",\"type\":\"LinearScale\"}},\"id\":\"3663\",\"subtype\":\"Figure\",\"type\":\"Plot\"},{\"attributes\":{},\"id\":\"3728\",\"type\":\"UnionRenderers\"},{\"attributes\":{\"source\":{\"id\":\"3731\",\"type\":\"ColumnDataSource\"}},\"id\":\"3735\",\"type\":\"CDSView\"},{\"attributes\":{},\"id\":\"3704\",\"type\":\"BasicTickFormatter\"},{\"attributes\":{\"line_color\":\"#FA1857\",\"x\":{\"field\":\"x\"},\"y\":{\"field\":\"y\"}},\"id\":\"3698\",\"type\":\"Line\"},{\"attributes\":{\"callback\":null,\"data\":{\"x\":[\"2000\",\"2001\",\"2002\",\"2003\",\"2004\",\"2005\",\"2006\",\"2007\",\"2008\",\"2009\",\"2010\",\"2011\",\"2012\",\"2013\",\"2014\",\"2015\",\"2016\",\"2017\"],\"y\":[14.48536902485712,14.493511769829844,14.191813316333826,13.993763075972725,13.83147018503385,13.370962271652207,12.80581092501148,12.566340934456548,12.298027267203656,12.373333284001852,12.307219209624574,12.287989367669757,12.15311900334881,11.971961077598174,11.744068220445252,11.58624004783634,11.401146754618209,11.2798928194068]},\"selected\":{\"id\":\"3937\",\"type\":\"Selection\"},\"selection_policy\":{\"id\":\"3938\",\"type\":\"UnionRenderers\"}},\"id\":\"3736\",\"type\":\"ColumnDataSource\"},{\"attributes\":{\"label\":{\"value\":\"Developing excluding LDCs\"},\"renderers\":[{\"id\":\"3718\",\"type\":\"GlyphRenderer\"}]},\"id\":\"3730\",\"type\":\"LegendItem\"},{\"attributes\":{\"callback\":null,\"data\":{\"x\":[\"2000\",\"2001\",\"2002\",\"2003\",\"2004\",\"2005\",\"2006\",\"2007\",\"2008\",\"2009\",\"2010\",\"2011\",\"2012\",\"2013\",\"2014\",\"2015\",\"2016\",\"2017\"],\"y\":[85.71439577036236,85.57464637853948,85.42987052449938,85.2595119163731,85.1157816927459,84.95917228819752,84.67367316779398,84.76333397019621,84.82905666578436,84.92486075515858,84.88687200109682,84.34903984029447,83.77222403234691,83.30820688707247,82.72786323433235,82.26461439968713,81.78532591691658,81.20720784411499]},\"selected\":{\"id\":\"3725\",\"type\":\"Selection\"},\"selection_policy\":{\"id\":\"3726\",\"type\":\"UnionRenderers\"}},\"id\":\"3697\",\"type\":\"ColumnDataSource\"},{\"attributes\":{\"line_color\":\"#2CC775\",\"x\":{\"field\":\"x\"},\"y\":{\"field\":\"y\"}},\"id\":\"3737\",\"type\":\"Line\"},{\"attributes\":{\"text\":\"Vulnerable employment, female (% of female employment) (modeled ILO estimate) weighted against Labor force, total\"},\"id\":\"3664\",\"type\":\"Title\"},{\"attributes\":{\"line_alpha\":0.1,\"line_color\":\"#1f77b4\",\"x\":{\"field\":\"x\"},\"y\":{\"field\":\"y\"}},\"id\":\"3738\",\"type\":\"Line\"},{\"attributes\":{\"callback\":null,\"data\":{\"x\":[\"2000\",\"2001\",\"2002\",\"2003\",\"2004\",\"2005\",\"2006\",\"2007\",\"2008\",\"2009\",\"2010\",\"2011\",\"2012\",\"2013\",\"2014\",\"2015\",\"2016\",\"2017\"],\"y\":[65.33052780357724,64.90584506088574,64.18936699106743,63.73445964952182,63.152358860863174,62.30143939928258,61.538376583341744,60.91730989564122,60.2837124463239,59.71729357938916,59.04153779959497,57.91153517857363,56.58414101141624,55.950562536773546,55.358412885604125,54.9320293233056,54.553900414655715,54.20588235767385]},\"selected\":{\"id\":\"3752\",\"type\":\"Selection\"},\"selection_policy\":{\"id\":\"3753\",\"type\":\"UnionRenderers\"}},\"id\":\"3731\",\"type\":\"ColumnDataSource\"},{\"attributes\":{},\"id\":\"3684\",\"type\":\"PanTool\"},{\"attributes\":{\"callback\":null},\"id\":\"3666\",\"type\":\"DataRange1d\"},{\"attributes\":{},\"id\":\"3706\",\"type\":\"BasicTickFormatter\"},{\"attributes\":{\"data_source\":{\"id\":\"3736\",\"type\":\"ColumnDataSource\"},\"glyph\":{\"id\":\"3737\",\"type\":\"Line\"},\"hover_glyph\":null,\"muted_glyph\":null,\"nonselection_glyph\":{\"id\":\"3738\",\"type\":\"Line\"},\"selection_glyph\":null,\"view\":{\"id\":\"3740\",\"type\":\"CDSView\"}},\"id\":\"3739\",\"type\":\"GlyphRenderer\"},{\"attributes\":{\"line_alpha\":0.1,\"line_color\":\"#1f77b4\",\"x\":{\"field\":\"x\"},\"y\":{\"field\":\"y\"}},\"id\":\"3699\",\"type\":\"Line\"},{\"attributes\":{\"callback\":null,\"tooltips\":\"                \\n        <div style=padding=5px>Year:@x</div>\\n        <div style=padding=5px>Value:@y</div>        \\n        \"},\"id\":\"3761\",\"type\":\"HoverTool\"},{\"attributes\":{\"callback\":null},\"id\":\"3668\",\"type\":\"DataRange1d\"},{\"attributes\":{\"source\":{\"id\":\"3736\",\"type\":\"ColumnDataSource\"}},\"id\":\"3740\",\"type\":\"CDSView\"},{\"attributes\":{\"fill_color\":{\"value\":\"#5430F1\"},\"line_color\":{\"value\":\"#5430F1\"},\"line_width\":{\"value\":3},\"x\":{\"field\":\"x\"},\"y\":{\"field\":\"y\"}},\"id\":\"3732\",\"type\":\"Circle\"},{\"attributes\":{},\"id\":\"3685\",\"type\":\"WheelZoomTool\"},{\"attributes\":{\"bottom_units\":\"screen\",\"fill_alpha\":{\"value\":0.5},\"fill_color\":{\"value\":\"lightgrey\"},\"left_units\":\"screen\",\"level\":\"overlay\",\"line_alpha\":{\"value\":1.0},\"line_color\":{\"value\":\"black\"},\"line_dash\":[4,4],\"line_width\":{\"value\":2},\"render_mode\":\"css\",\"right_units\":\"screen\",\"top_units\":\"screen\"},\"id\":\"3707\",\"type\":\"BoxAnnotation\"},{\"attributes\":{},\"id\":\"3670\",\"type\":\"LinearScale\"},{\"attributes\":{\"label\":{\"value\":\"LDCs\"},\"renderers\":[{\"id\":\"3700\",\"type\":\"GlyphRenderer\"}]},\"id\":\"3709\",\"type\":\"LegendItem\"},{\"attributes\":{},\"id\":\"3750\",\"type\":\"Selection\"},{\"attributes\":{\"overlay\":{\"id\":\"3707\",\"type\":\"BoxAnnotation\"}},\"id\":\"3686\",\"type\":\"BoxZoomTool\"},{\"attributes\":{},\"id\":\"3672\",\"type\":\"LinearScale\"},{\"attributes\":{\"items\":[{\"id\":\"3709\",\"type\":\"LegendItem\"},{\"id\":\"3730\",\"type\":\"LegendItem\"},{\"id\":\"3755\",\"type\":\"LegendItem\"}],\"location\":\"bottom_left\"},\"id\":\"3708\",\"type\":\"Legend\"},{\"attributes\":{},\"id\":\"3751\",\"type\":\"UnionRenderers\"},{\"attributes\":{\"fill_alpha\":{\"value\":0.1},\"fill_color\":{\"value\":\"#1f77b4\"},\"line_alpha\":{\"value\":0.1},\"line_color\":{\"value\":\"#1f77b4\"},\"line_width\":{\"value\":3},\"x\":{\"field\":\"x\"},\"y\":{\"field\":\"y\"}},\"id\":\"3733\",\"type\":\"Circle\"},{\"attributes\":{\"axis_label\":\"Years\",\"formatter\":{\"id\":\"3704\",\"type\":\"BasicTickFormatter\"},\"ticker\":{\"id\":\"3675\",\"type\":\"BasicTicker\"}},\"id\":\"3674\",\"type\":\"LinearAxis\"},{\"attributes\":{\"callback\":null,\"data\":{\"x\":[\"2000\",\"2001\",\"2002\",\"2003\",\"2004\",\"2005\",\"2006\",\"2007\",\"2008\",\"2009\",\"2010\",\"2011\",\"2012\",\"2013\",\"2014\",\"2015\",\"2016\",\"2017\"],\"y\":[85.71439577036236,85.57464637853948,85.42987052449938,85.2595119163731,85.1157816927459,84.95917228819752,84.67367316779398,84.76333397019621,84.82905666578436,84.92486075515858,84.88687200109682,84.34903984029447,83.77222403234691,83.30820688707247,82.72786323433235,82.26461439968713,81.78532591691658,81.20720784411499]},\"selected\":{\"id\":\"3727\",\"type\":\"Selection\"},\"selection_policy\":{\"id\":\"3728\",\"type\":\"UnionRenderers\"}},\"id\":\"3710\",\"type\":\"ColumnDataSource\"},{\"attributes\":{},\"id\":\"3687\",\"type\":\"SaveTool\"},{\"attributes\":{},\"id\":\"3752\",\"type\":\"Selection\"},{\"attributes\":{},\"id\":\"3675\",\"type\":\"BasicTicker\"},{\"attributes\":{\"fill_alpha\":{\"value\":0.1},\"fill_color\":{\"value\":\"#1f77b4\"},\"line_alpha\":{\"value\":0.1},\"line_color\":{\"value\":\"#1f77b4\"},\"line_width\":{\"value\":3},\"x\":{\"field\":\"x\"},\"y\":{\"field\":\"y\"}},\"id\":\"3712\",\"type\":\"Circle\"},{\"attributes\":{\"data_source\":{\"id\":\"3731\",\"type\":\"ColumnDataSource\"},\"glyph\":{\"id\":\"3732\",\"type\":\"Circle\"},\"hover_glyph\":null,\"muted_glyph\":null,\"nonselection_glyph\":{\"id\":\"3733\",\"type\":\"Circle\"},\"selection_glyph\":null,\"view\":{\"id\":\"3735\",\"type\":\"CDSView\"}},\"id\":\"3734\",\"type\":\"GlyphRenderer\"},{\"attributes\":{},\"id\":\"3688\",\"type\":\"ResetTool\"},{\"attributes\":{},\"id\":\"3753\",\"type\":\"UnionRenderers\"},{\"attributes\":{\"grid_line_color\":null,\"ticker\":{\"id\":\"3675\",\"type\":\"BasicTicker\"}},\"id\":\"3678\",\"type\":\"Grid\"},{\"attributes\":{\"fill_color\":{\"value\":\"#FA1857\"},\"line_color\":{\"value\":\"#FA1857\"},\"line_width\":{\"value\":3},\"x\":{\"field\":\"x\"},\"y\":{\"field\":\"y\"}},\"id\":\"3711\",\"type\":\"Circle\"},{\"attributes\":{\"label\":{\"value\":\"OECD\"},\"renderers\":[{\"id\":\"3739\",\"type\":\"GlyphRenderer\"}]},\"id\":\"3755\",\"type\":\"LegendItem\"},{\"attributes\":{\"data_source\":{\"id\":\"3710\",\"type\":\"ColumnDataSource\"},\"glyph\":{\"id\":\"3711\",\"type\":\"Circle\"},\"hover_glyph\":null,\"muted_glyph\":null,\"nonselection_glyph\":{\"id\":\"3712\",\"type\":\"Circle\"},\"selection_glyph\":null,\"view\":{\"id\":\"3714\",\"type\":\"CDSView\"}},\"id\":\"3713\",\"type\":\"GlyphRenderer\"},{\"attributes\":{\"callback\":null,\"data\":{\"x\":[\"2000\",\"2001\",\"2002\",\"2003\",\"2004\",\"2005\",\"2006\",\"2007\",\"2008\",\"2009\",\"2010\",\"2011\",\"2012\",\"2013\",\"2014\",\"2015\",\"2016\",\"2017\"],\"y\":[14.48536902485712,14.493511769829844,14.191813316333826,13.993763075972725,13.83147018503385,13.370962271652207,12.80581092501148,12.566340934456548,12.298027267203656,12.373333284001852,12.307219209624574,12.287989367669757,12.15311900334881,11.971961077598174,11.744068220445252,11.58624004783634,11.401146754618209,11.2798928194068]},\"selected\":{\"id\":\"3939\",\"type\":\"Selection\"},\"selection_policy\":{\"id\":\"3940\",\"type\":\"UnionRenderers\"}},\"id\":\"3756\",\"type\":\"ColumnDataSource\"},{\"attributes\":{},\"id\":\"3689\",\"type\":\"HelpTool\"},{\"attributes\":{},\"id\":\"3725\",\"type\":\"Selection\"},{\"attributes\":{\"callback\":null,\"data\":{\"x\":[\"2000\",\"2001\",\"2002\",\"2003\",\"2004\",\"2005\",\"2006\",\"2007\",\"2008\",\"2009\",\"2010\",\"2011\",\"2012\",\"2013\",\"2014\",\"2015\",\"2016\",\"2017\"],\"y\":[65.33052780357724,64.90584506088574,64.18936699106743,63.73445964952182,63.152358860863174,62.30143939928258,61.538376583341744,60.91730989564122,60.2837124463239,59.71729357938916,59.04153779959497,57.91153517857363,56.58414101141624,55.950562536773546,55.358412885604125,54.9320293233056,54.553900414655715,54.20588235767385]},\"selected\":{\"id\":\"3750\",\"type\":\"Selection\"},\"selection_policy\":{\"id\":\"3751\",\"type\":\"UnionRenderers\"}},\"id\":\"3715\",\"type\":\"ColumnDataSource\"},{\"attributes\":{\"fill_color\":{\"value\":\"#2CC775\"},\"line_color\":{\"value\":\"#2CC775\"},\"line_width\":{\"value\":3},\"x\":{\"field\":\"x\"},\"y\":{\"field\":\"y\"}},\"id\":\"3757\",\"type\":\"Circle\"},{\"attributes\":{\"active_drag\":\"auto\",\"active_inspect\":\"auto\",\"active_multi\":null,\"active_scroll\":\"auto\",\"active_tap\":\"auto\",\"tools\":[{\"id\":\"3684\",\"type\":\"PanTool\"},{\"id\":\"3685\",\"type\":\"WheelZoomTool\"},{\"id\":\"3686\",\"type\":\"BoxZoomTool\"},{\"id\":\"3687\",\"type\":\"SaveTool\"},{\"id\":\"3688\",\"type\":\"ResetTool\"},{\"id\":\"3689\",\"type\":\"HelpTool\"},{\"id\":\"3761\",\"type\":\"HoverTool\"}]},\"id\":\"3690\",\"type\":\"Toolbar\"},{\"attributes\":{\"dimension\":1,\"grid_line_alpha\":0.5,\"ticker\":{\"id\":\"3680\",\"type\":\"BasicTicker\"}},\"id\":\"3683\",\"type\":\"Grid\"},{\"attributes\":{\"source\":{\"id\":\"3710\",\"type\":\"ColumnDataSource\"}},\"id\":\"3714\",\"type\":\"CDSView\"},{\"attributes\":{\"axis_label\":\"SL.EMP.VULN.FE.ZS\",\"formatter\":{\"id\":\"3706\",\"type\":\"BasicTickFormatter\"},\"ticker\":{\"id\":\"3680\",\"type\":\"BasicTicker\"}},\"id\":\"3679\",\"type\":\"LinearAxis\"},{\"attributes\":{\"fill_alpha\":{\"value\":0.1},\"fill_color\":{\"value\":\"#1f77b4\"},\"line_alpha\":{\"value\":0.1},\"line_color\":{\"value\":\"#1f77b4\"},\"line_width\":{\"value\":3},\"x\":{\"field\":\"x\"},\"y\":{\"field\":\"y\"}},\"id\":\"3758\",\"type\":\"Circle\"},{\"attributes\":{},\"id\":\"3726\",\"type\":\"UnionRenderers\"},{\"attributes\":{},\"id\":\"3938\",\"type\":\"UnionRenderers\"},{\"attributes\":{},\"id\":\"3680\",\"type\":\"BasicTicker\"},{\"attributes\":{\"line_color\":\"#5430F1\",\"x\":{\"field\":\"x\"},\"y\":{\"field\":\"y\"}},\"id\":\"3716\",\"type\":\"Line\"},{\"attributes\":{\"data_source\":{\"id\":\"3756\",\"type\":\"ColumnDataSource\"},\"glyph\":{\"id\":\"3757\",\"type\":\"Circle\"},\"hover_glyph\":null,\"muted_glyph\":null,\"nonselection_glyph\":{\"id\":\"3758\",\"type\":\"Circle\"},\"selection_glyph\":null,\"view\":{\"id\":\"3760\",\"type\":\"CDSView\"}},\"id\":\"3759\",\"type\":\"GlyphRenderer\"},{\"attributes\":{\"data_source\":{\"id\":\"3715\",\"type\":\"ColumnDataSource\"},\"glyph\":{\"id\":\"3716\",\"type\":\"Line\"},\"hover_glyph\":null,\"muted_glyph\":null,\"nonselection_glyph\":{\"id\":\"3717\",\"type\":\"Line\"},\"selection_glyph\":null,\"view\":{\"id\":\"3719\",\"type\":\"CDSView\"}},\"id\":\"3718\",\"type\":\"GlyphRenderer\"},{\"attributes\":{},\"id\":\"3939\",\"type\":\"Selection\"},{\"attributes\":{\"source\":{\"id\":\"3756\",\"type\":\"ColumnDataSource\"}},\"id\":\"3760\",\"type\":\"CDSView\"},{\"attributes\":{},\"id\":\"3727\",\"type\":\"Selection\"},{\"attributes\":{\"line_alpha\":0.1,\"line_color\":\"#1f77b4\",\"x\":{\"field\":\"x\"},\"y\":{\"field\":\"y\"}},\"id\":\"3717\",\"type\":\"Line\"},{\"attributes\":{\"data_source\":{\"id\":\"3697\",\"type\":\"ColumnDataSource\"},\"glyph\":{\"id\":\"3698\",\"type\":\"Line\"},\"hover_glyph\":null,\"muted_glyph\":null,\"nonselection_glyph\":{\"id\":\"3699\",\"type\":\"Line\"},\"selection_glyph\":null,\"view\":{\"id\":\"3701\",\"type\":\"CDSView\"}},\"id\":\"3700\",\"type\":\"GlyphRenderer\"},{\"attributes\":{\"source\":{\"id\":\"3715\",\"type\":\"ColumnDataSource\"}},\"id\":\"3719\",\"type\":\"CDSView\"},{\"attributes\":{},\"id\":\"3940\",\"type\":\"UnionRenderers\"},{\"attributes\":{},\"id\":\"3937\",\"type\":\"Selection\"},{\"attributes\":{\"source\":{\"id\":\"3697\",\"type\":\"ColumnDataSource\"}},\"id\":\"3701\",\"type\":\"CDSView\"}],\"root_ids\":[\"3663\"]},\"title\":\"Bokeh Application\",\"version\":\"1.3.4\"}};\n",
       "  var render_items = [{\"docid\":\"cc44bd84-bf30-4488-ae99-378af446c098\",\"roots\":{\"3663\":\"f011bb41-4f13-41af-9da9-ee0b0bda67cc\"}}];\n",
       "  root.Bokeh.embed.embed_items_notebook(docs_json, render_items);\n",
       "\n",
       "  }\n",
       "  if (root.Bokeh !== undefined) {\n",
       "    embed_document(root);\n",
       "  } else {\n",
       "    var attempts = 0;\n",
       "    var timer = setInterval(function(root) {\n",
       "      if (root.Bokeh !== undefined) {\n",
       "        embed_document(root);\n",
       "        clearInterval(timer);\n",
       "      }\n",
       "      attempts++;\n",
       "      if (attempts > 100) {\n",
       "        console.log(\"Bokeh: ERROR: Unable to run BokehJS code because BokehJS library is missing\");\n",
       "        clearInterval(timer);\n",
       "      }\n",
       "    }, 10, root)\n",
       "  }\n",
       "})(window);"
      ],
      "application/vnd.bokehjs_exec.v0+json": ""
     },
     "metadata": {
      "application/vnd.bokehjs_exec.v0+json": {
       "id": "3663"
      }
     },
     "output_type": "display_data"
    }
   ],
   "source": [
    "# Female vulnerable employment\n",
    "years = list(map(str, list(range(2000,2018))))\n",
    "result = show_weighted_average(years, 'SL.EMP.VULN.FE.ZS', 'SL.TLF.TOTL.IN', \n",
    "                               ['LDCs', 'Developing excluding LDCs', 'OECD'])"
   ]
  },
  {
   "cell_type": "code",
   "execution_count": 15,
   "metadata": {
    "ExecuteTime": {
     "end_time": "2019-10-25T14:25:19.414594Z",
     "start_time": "2019-10-25T14:25:14.115306Z"
    },
    "slideshow": {
     "slide_type": "slide"
    }
   },
   "outputs": [
    {
     "data": {
      "text/html": [
       "\n",
       "\n",
       "\n",
       "\n",
       "\n",
       "\n",
       "  <div class=\"bk-root\" id=\"6ecfc1bb-f1de-4360-b0b8-7984d6161f88\" data-root-id=\"4050\"></div>\n"
      ]
     },
     "metadata": {},
     "output_type": "display_data"
    },
    {
     "data": {
      "application/javascript": [
       "(function(root) {\n",
       "  function embed_document(root) {\n",
       "    \n",
       "  var docs_json = {\"528afe30-5ed9-4904-ab48-4e561f0ba181\":{\"roots\":{\"references\":[{\"attributes\":{\"below\":[{\"id\":\"4061\",\"type\":\"LinearAxis\"}],\"center\":[{\"id\":\"4065\",\"type\":\"Grid\"},{\"id\":\"4070\",\"type\":\"Grid\"},{\"id\":\"4095\",\"type\":\"Legend\"}],\"left\":[{\"id\":\"4066\",\"type\":\"LinearAxis\"}],\"plot_height\":400,\"plot_width\":800,\"renderers\":[{\"id\":\"4087\",\"type\":\"GlyphRenderer\"},{\"id\":\"4100\",\"type\":\"GlyphRenderer\"},{\"id\":\"4105\",\"type\":\"GlyphRenderer\"},{\"id\":\"4121\",\"type\":\"GlyphRenderer\"},{\"id\":\"4126\",\"type\":\"GlyphRenderer\"},{\"id\":\"4146\",\"type\":\"GlyphRenderer\"}],\"title\":{\"id\":\"4051\",\"type\":\"Title\"},\"toolbar\":{\"id\":\"4077\",\"type\":\"Toolbar\"},\"x_range\":{\"id\":\"4053\",\"type\":\"DataRange1d\"},\"x_scale\":{\"id\":\"4057\",\"type\":\"LinearScale\"},\"y_range\":{\"id\":\"4055\",\"type\":\"DataRange1d\"},\"y_scale\":{\"id\":\"4059\",\"type\":\"LinearScale\"}},\"id\":\"4050\",\"subtype\":\"Figure\",\"type\":\"Plot\"},{\"attributes\":{\"fill_alpha\":{\"value\":0.1},\"fill_color\":{\"value\":\"#1f77b4\"},\"line_alpha\":{\"value\":0.1},\"line_color\":{\"value\":\"#1f77b4\"},\"line_width\":{\"value\":3},\"x\":{\"field\":\"x\"},\"y\":{\"field\":\"y\"}},\"id\":\"4145\",\"type\":\"Circle\"},{\"attributes\":{},\"id\":\"4093\",\"type\":\"BasicTickFormatter\"},{\"attributes\":{\"label\":{\"value\":\"Developing excluding LDCs\"},\"renderers\":[{\"id\":\"4105\",\"type\":\"GlyphRenderer\"}]},\"id\":\"4117\",\"type\":\"LegendItem\"},{\"attributes\":{\"data_source\":{\"id\":\"4143\",\"type\":\"ColumnDataSource\"},\"glyph\":{\"id\":\"4144\",\"type\":\"Circle\"},\"hover_glyph\":null,\"muted_glyph\":null,\"nonselection_glyph\":{\"id\":\"4145\",\"type\":\"Circle\"},\"selection_glyph\":null,\"view\":{\"id\":\"4147\",\"type\":\"CDSView\"}},\"id\":\"4146\",\"type\":\"GlyphRenderer\"},{\"attributes\":{\"bottom_units\":\"screen\",\"fill_alpha\":{\"value\":0.5},\"fill_color\":{\"value\":\"lightgrey\"},\"left_units\":\"screen\",\"level\":\"overlay\",\"line_alpha\":{\"value\":1.0},\"line_color\":{\"value\":\"black\"},\"line_dash\":[4,4],\"line_width\":{\"value\":2},\"render_mode\":\"css\",\"right_units\":\"screen\",\"top_units\":\"screen\"},\"id\":\"4094\",\"type\":\"BoxAnnotation\"},{\"attributes\":{\"axis_label\":\"SL.EMP.VULN.MA.ZS\",\"formatter\":{\"id\":\"4093\",\"type\":\"BasicTickFormatter\"},\"ticker\":{\"id\":\"4067\",\"type\":\"BasicTicker\"}},\"id\":\"4066\",\"type\":\"LinearAxis\"},{\"attributes\":{\"callback\":null,\"data\":{\"x\":[\"2000\",\"2001\",\"2002\",\"2003\",\"2004\",\"2005\",\"2006\",\"2007\",\"2008\",\"2009\",\"2010\",\"2011\",\"2012\",\"2013\",\"2014\",\"2015\",\"2016\",\"2017\"],\"y\":[57.162058571674514,56.606289000325106,56.134969853149975,55.86467253906732,55.23614990236691,54.65777734929141,53.910271017457475,53.31175091252963,52.82300852185612,52.42697021813929,51.9269088341739,51.08969085177007,50.08705037089944,49.59934100300258,49.20391271355406,48.776572721276494,48.56477332449704,48.27271220976738]},\"selected\":{\"id\":\"4139\",\"type\":\"Selection\"},\"selection_policy\":{\"id\":\"4140\",\"type\":\"UnionRenderers\"}},\"id\":\"4118\",\"type\":\"ColumnDataSource\"},{\"attributes\":{\"items\":[{\"id\":\"4096\",\"type\":\"LegendItem\"},{\"id\":\"4117\",\"type\":\"LegendItem\"},{\"id\":\"4142\",\"type\":\"LegendItem\"}],\"location\":\"bottom_left\"},\"id\":\"4095\",\"type\":\"Legend\"},{\"attributes\":{\"source\":{\"id\":\"4143\",\"type\":\"ColumnDataSource\"}},\"id\":\"4147\",\"type\":\"CDSView\"},{\"attributes\":{},\"id\":\"4067\",\"type\":\"BasicTicker\"},{\"attributes\":{\"fill_color\":{\"value\":\"#5430F1\"},\"line_color\":{\"value\":\"#5430F1\"},\"line_width\":{\"value\":3},\"x\":{\"field\":\"x\"},\"y\":{\"field\":\"y\"}},\"id\":\"4119\",\"type\":\"Circle\"},{\"attributes\":{\"label\":{\"value\":\"LDCs\"},\"renderers\":[{\"id\":\"4087\",\"type\":\"GlyphRenderer\"}]},\"id\":\"4096\",\"type\":\"LegendItem\"},{\"attributes\":{\"dimension\":1,\"grid_line_alpha\":0.5,\"ticker\":{\"id\":\"4067\",\"type\":\"BasicTicker\"}},\"id\":\"4070\",\"type\":\"Grid\"},{\"attributes\":{\"fill_alpha\":{\"value\":0.1},\"fill_color\":{\"value\":\"#1f77b4\"},\"line_alpha\":{\"value\":0.1},\"line_color\":{\"value\":\"#1f77b4\"},\"line_width\":{\"value\":3},\"x\":{\"field\":\"x\"},\"y\":{\"field\":\"y\"}},\"id\":\"4120\",\"type\":\"Circle\"},{\"attributes\":{\"callback\":null,\"data\":{\"x\":[\"2000\",\"2001\",\"2002\",\"2003\",\"2004\",\"2005\",\"2006\",\"2007\",\"2008\",\"2009\",\"2010\",\"2011\",\"2012\",\"2013\",\"2014\",\"2015\",\"2016\",\"2017\"],\"y\":[74.17490342423534,73.94089415529531,73.71257016321482,73.48889734749105,73.22463658041619,72.96729205783156,72.59917813612904,72.04385997887525,71.49346657145566,71.02608808960134,70.41926557924683,69.88894703680953,69.43780550112619,69.12810473391316,68.88251845033184,68.7230759491215,68.67403711036012,68.31013941320272]},\"selected\":{\"id\":\"4114\",\"type\":\"Selection\"},\"selection_policy\":{\"id\":\"4115\",\"type\":\"UnionRenderers\"}},\"id\":\"4097\",\"type\":\"ColumnDataSource\"},{\"attributes\":{},\"id\":\"4342\",\"type\":\"Selection\"},{\"attributes\":{\"data_source\":{\"id\":\"4118\",\"type\":\"ColumnDataSource\"},\"glyph\":{\"id\":\"4119\",\"type\":\"Circle\"},\"hover_glyph\":null,\"muted_glyph\":null,\"nonselection_glyph\":{\"id\":\"4120\",\"type\":\"Circle\"},\"selection_glyph\":null,\"view\":{\"id\":\"4122\",\"type\":\"CDSView\"}},\"id\":\"4121\",\"type\":\"GlyphRenderer\"},{\"attributes\":{\"line_color\":\"#FA1857\",\"x\":{\"field\":\"x\"},\"y\":{\"field\":\"y\"}},\"id\":\"4085\",\"type\":\"Line\"},{\"attributes\":{\"fill_color\":{\"value\":\"#FA1857\"},\"line_color\":{\"value\":\"#FA1857\"},\"line_width\":{\"value\":3},\"x\":{\"field\":\"x\"},\"y\":{\"field\":\"y\"}},\"id\":\"4098\",\"type\":\"Circle\"},{\"attributes\":{},\"id\":\"4343\",\"type\":\"UnionRenderers\"},{\"attributes\":{\"source\":{\"id\":\"4118\",\"type\":\"ColumnDataSource\"}},\"id\":\"4122\",\"type\":\"CDSView\"},{\"attributes\":{\"callback\":null,\"data\":{\"x\":[\"2000\",\"2001\",\"2002\",\"2003\",\"2004\",\"2005\",\"2006\",\"2007\",\"2008\",\"2009\",\"2010\",\"2011\",\"2012\",\"2013\",\"2014\",\"2015\",\"2016\",\"2017\"],\"y\":[74.17490342423534,73.94089415529531,73.71257016321482,73.48889734749105,73.22463658041619,72.96729205783156,72.59917813612904,72.04385997887525,71.49346657145566,71.02608808960134,70.41926557924683,69.88894703680953,69.43780550112619,69.12810473391316,68.88251845033184,68.7230759491215,68.67403711036012,68.31013941320272]},\"selected\":{\"id\":\"4112\",\"type\":\"Selection\"},\"selection_policy\":{\"id\":\"4113\",\"type\":\"UnionRenderers\"}},\"id\":\"4084\",\"type\":\"ColumnDataSource\"},{\"attributes\":{\"fill_alpha\":{\"value\":0.1},\"fill_color\":{\"value\":\"#1f77b4\"},\"line_alpha\":{\"value\":0.1},\"line_color\":{\"value\":\"#1f77b4\"},\"line_width\":{\"value\":3},\"x\":{\"field\":\"x\"},\"y\":{\"field\":\"y\"}},\"id\":\"4099\",\"type\":\"Circle\"},{\"attributes\":{},\"id\":\"4344\",\"type\":\"Selection\"},{\"attributes\":{\"line_alpha\":0.1,\"line_color\":\"#1f77b4\",\"x\":{\"field\":\"x\"},\"y\":{\"field\":\"y\"}},\"id\":\"4086\",\"type\":\"Line\"},{\"attributes\":{\"callback\":null,\"data\":{\"x\":[\"2000\",\"2001\",\"2002\",\"2003\",\"2004\",\"2005\",\"2006\",\"2007\",\"2008\",\"2009\",\"2010\",\"2011\",\"2012\",\"2013\",\"2014\",\"2015\",\"2016\",\"2017\"],\"y\":[13.983595169339262,13.998859245381606,13.991020663967802,14.08072441547863,14.122426832902441,13.78425403912315,13.299377817936158,13.057250481869682,12.840791354088491,13.031251656893089,13.030931611471235,12.99280973346482,12.971599240608382,12.90982728415717,12.853117783704255,12.684740815496953,12.575432474590244,12.453772658805285]},\"selected\":{\"id\":\"4342\",\"type\":\"Selection\"},\"selection_policy\":{\"id\":\"4343\",\"type\":\"UnionRenderers\"}},\"id\":\"4123\",\"type\":\"ColumnDataSource\"},{\"attributes\":{},\"id\":\"4071\",\"type\":\"PanTool\"},{\"attributes\":{\"data_source\":{\"id\":\"4097\",\"type\":\"ColumnDataSource\"},\"glyph\":{\"id\":\"4098\",\"type\":\"Circle\"},\"hover_glyph\":null,\"muted_glyph\":null,\"nonselection_glyph\":{\"id\":\"4099\",\"type\":\"Circle\"},\"selection_glyph\":null,\"view\":{\"id\":\"4101\",\"type\":\"CDSView\"}},\"id\":\"4100\",\"type\":\"GlyphRenderer\"},{\"attributes\":{},\"id\":\"4345\",\"type\":\"UnionRenderers\"},{\"attributes\":{\"line_color\":\"#2CC775\",\"x\":{\"field\":\"x\"},\"y\":{\"field\":\"y\"}},\"id\":\"4124\",\"type\":\"Line\"},{\"attributes\":{},\"id\":\"4072\",\"type\":\"WheelZoomTool\"},{\"attributes\":{\"source\":{\"id\":\"4097\",\"type\":\"ColumnDataSource\"}},\"id\":\"4101\",\"type\":\"CDSView\"},{\"attributes\":{\"line_alpha\":0.1,\"line_color\":\"#1f77b4\",\"x\":{\"field\":\"x\"},\"y\":{\"field\":\"y\"}},\"id\":\"4125\",\"type\":\"Line\"},{\"attributes\":{\"overlay\":{\"id\":\"4094\",\"type\":\"BoxAnnotation\"}},\"id\":\"4073\",\"type\":\"BoxZoomTool\"},{\"attributes\":{\"callback\":null,\"data\":{\"x\":[\"2000\",\"2001\",\"2002\",\"2003\",\"2004\",\"2005\",\"2006\",\"2007\",\"2008\",\"2009\",\"2010\",\"2011\",\"2012\",\"2013\",\"2014\",\"2015\",\"2016\",\"2017\"],\"y\":[57.162058571674514,56.606289000325106,56.134969853149975,55.86467253906732,55.23614990236691,54.65777734929141,53.910271017457475,53.31175091252963,52.82300852185612,52.42697021813929,51.9269088341739,51.08969085177007,50.08705037089944,49.59934100300258,49.20391271355406,48.776572721276494,48.56477332449704,48.27271220976738]},\"selected\":{\"id\":\"4137\",\"type\":\"Selection\"},\"selection_policy\":{\"id\":\"4138\",\"type\":\"UnionRenderers\"}},\"id\":\"4102\",\"type\":\"ColumnDataSource\"},{\"attributes\":{\"data_source\":{\"id\":\"4123\",\"type\":\"ColumnDataSource\"},\"glyph\":{\"id\":\"4124\",\"type\":\"Line\"},\"hover_glyph\":null,\"muted_glyph\":null,\"nonselection_glyph\":{\"id\":\"4125\",\"type\":\"Line\"},\"selection_glyph\":null,\"view\":{\"id\":\"4127\",\"type\":\"CDSView\"}},\"id\":\"4126\",\"type\":\"GlyphRenderer\"},{\"attributes\":{},\"id\":\"4074\",\"type\":\"SaveTool\"},{\"attributes\":{\"line_color\":\"#5430F1\",\"x\":{\"field\":\"x\"},\"y\":{\"field\":\"y\"}},\"id\":\"4103\",\"type\":\"Line\"},{\"attributes\":{\"callback\":null,\"tooltips\":\"                \\n        <div style=padding=5px>Year:@x</div>\\n        <div style=padding=5px>Value:@y</div>        \\n        \"},\"id\":\"4148\",\"type\":\"HoverTool\"},{\"attributes\":{\"source\":{\"id\":\"4123\",\"type\":\"ColumnDataSource\"}},\"id\":\"4127\",\"type\":\"CDSView\"},{\"attributes\":{\"text\":\"Vulnerable employment, male (% of male employment) (modeled ILO estimate) weighted against Labor force, total\"},\"id\":\"4051\",\"type\":\"Title\"},{\"attributes\":{},\"id\":\"4075\",\"type\":\"ResetTool\"},{\"attributes\":{\"line_alpha\":0.1,\"line_color\":\"#1f77b4\",\"x\":{\"field\":\"x\"},\"y\":{\"field\":\"y\"}},\"id\":\"4104\",\"type\":\"Line\"},{\"attributes\":{},\"id\":\"4137\",\"type\":\"Selection\"},{\"attributes\":{\"callback\":null},\"id\":\"4053\",\"type\":\"DataRange1d\"},{\"attributes\":{},\"id\":\"4076\",\"type\":\"HelpTool\"},{\"attributes\":{\"data_source\":{\"id\":\"4102\",\"type\":\"ColumnDataSource\"},\"glyph\":{\"id\":\"4103\",\"type\":\"Line\"},\"hover_glyph\":null,\"muted_glyph\":null,\"nonselection_glyph\":{\"id\":\"4104\",\"type\":\"Line\"},\"selection_glyph\":null,\"view\":{\"id\":\"4106\",\"type\":\"CDSView\"}},\"id\":\"4105\",\"type\":\"GlyphRenderer\"},{\"attributes\":{},\"id\":\"4138\",\"type\":\"UnionRenderers\"},{\"attributes\":{\"callback\":null},\"id\":\"4055\",\"type\":\"DataRange1d\"},{\"attributes\":{\"active_drag\":\"auto\",\"active_inspect\":\"auto\",\"active_multi\":null,\"active_scroll\":\"auto\",\"active_tap\":\"auto\",\"tools\":[{\"id\":\"4071\",\"type\":\"PanTool\"},{\"id\":\"4072\",\"type\":\"WheelZoomTool\"},{\"id\":\"4073\",\"type\":\"BoxZoomTool\"},{\"id\":\"4074\",\"type\":\"SaveTool\"},{\"id\":\"4075\",\"type\":\"ResetTool\"},{\"id\":\"4076\",\"type\":\"HelpTool\"},{\"id\":\"4148\",\"type\":\"HoverTool\"}]},\"id\":\"4077\",\"type\":\"Toolbar\"},{\"attributes\":{\"source\":{\"id\":\"4102\",\"type\":\"ColumnDataSource\"}},\"id\":\"4106\",\"type\":\"CDSView\"},{\"attributes\":{},\"id\":\"4139\",\"type\":\"Selection\"},{\"attributes\":{},\"id\":\"4057\",\"type\":\"LinearScale\"},{\"attributes\":{},\"id\":\"4112\",\"type\":\"Selection\"},{\"attributes\":{\"data_source\":{\"id\":\"4084\",\"type\":\"ColumnDataSource\"},\"glyph\":{\"id\":\"4085\",\"type\":\"Line\"},\"hover_glyph\":null,\"muted_glyph\":null,\"nonselection_glyph\":{\"id\":\"4086\",\"type\":\"Line\"},\"selection_glyph\":null,\"view\":{\"id\":\"4088\",\"type\":\"CDSView\"}},\"id\":\"4087\",\"type\":\"GlyphRenderer\"},{\"attributes\":{},\"id\":\"4140\",\"type\":\"UnionRenderers\"},{\"attributes\":{},\"id\":\"4059\",\"type\":\"LinearScale\"},{\"attributes\":{},\"id\":\"4113\",\"type\":\"UnionRenderers\"},{\"attributes\":{\"label\":{\"value\":\"OECD\"},\"renderers\":[{\"id\":\"4126\",\"type\":\"GlyphRenderer\"}]},\"id\":\"4142\",\"type\":\"LegendItem\"},{\"attributes\":{\"axis_label\":\"Years\",\"formatter\":{\"id\":\"4091\",\"type\":\"BasicTickFormatter\"},\"ticker\":{\"id\":\"4062\",\"type\":\"BasicTicker\"}},\"id\":\"4061\",\"type\":\"LinearAxis\"},{\"attributes\":{\"source\":{\"id\":\"4084\",\"type\":\"ColumnDataSource\"}},\"id\":\"4088\",\"type\":\"CDSView\"},{\"attributes\":{},\"id\":\"4114\",\"type\":\"Selection\"},{\"attributes\":{\"callback\":null,\"data\":{\"x\":[\"2000\",\"2001\",\"2002\",\"2003\",\"2004\",\"2005\",\"2006\",\"2007\",\"2008\",\"2009\",\"2010\",\"2011\",\"2012\",\"2013\",\"2014\",\"2015\",\"2016\",\"2017\"],\"y\":[13.983595169339262,13.998859245381606,13.991020663967802,14.08072441547863,14.122426832902441,13.78425403912315,13.299377817936158,13.057250481869682,12.840791354088491,13.031251656893089,13.030931611471235,12.99280973346482,12.971599240608382,12.90982728415717,12.853117783704255,12.684740815496953,12.575432474590244,12.453772658805285]},\"selected\":{\"id\":\"4344\",\"type\":\"Selection\"},\"selection_policy\":{\"id\":\"4345\",\"type\":\"UnionRenderers\"}},\"id\":\"4143\",\"type\":\"ColumnDataSource\"},{\"attributes\":{},\"id\":\"4062\",\"type\":\"BasicTicker\"},{\"attributes\":{},\"id\":\"4091\",\"type\":\"BasicTickFormatter\"},{\"attributes\":{},\"id\":\"4115\",\"type\":\"UnionRenderers\"},{\"attributes\":{\"fill_color\":{\"value\":\"#2CC775\"},\"line_color\":{\"value\":\"#2CC775\"},\"line_width\":{\"value\":3},\"x\":{\"field\":\"x\"},\"y\":{\"field\":\"y\"}},\"id\":\"4144\",\"type\":\"Circle\"},{\"attributes\":{\"grid_line_color\":null,\"ticker\":{\"id\":\"4062\",\"type\":\"BasicTicker\"}},\"id\":\"4065\",\"type\":\"Grid\"}],\"root_ids\":[\"4050\"]},\"title\":\"Bokeh Application\",\"version\":\"1.3.4\"}};\n",
       "  var render_items = [{\"docid\":\"528afe30-5ed9-4904-ab48-4e561f0ba181\",\"roots\":{\"4050\":\"6ecfc1bb-f1de-4360-b0b8-7984d6161f88\"}}];\n",
       "  root.Bokeh.embed.embed_items_notebook(docs_json, render_items);\n",
       "\n",
       "  }\n",
       "  if (root.Bokeh !== undefined) {\n",
       "    embed_document(root);\n",
       "  } else {\n",
       "    var attempts = 0;\n",
       "    var timer = setInterval(function(root) {\n",
       "      if (root.Bokeh !== undefined) {\n",
       "        embed_document(root);\n",
       "        clearInterval(timer);\n",
       "      }\n",
       "      attempts++;\n",
       "      if (attempts > 100) {\n",
       "        console.log(\"Bokeh: ERROR: Unable to run BokehJS code because BokehJS library is missing\");\n",
       "        clearInterval(timer);\n",
       "      }\n",
       "    }, 10, root)\n",
       "  }\n",
       "})(window);"
      ],
      "application/vnd.bokehjs_exec.v0+json": ""
     },
     "metadata": {
      "application/vnd.bokehjs_exec.v0+json": {
       "id": "4050"
      }
     },
     "output_type": "display_data"
    }
   ],
   "source": [
    "# Male vulnerable employment\n",
    "years = list(map(str, list(range(2000,2018))))\n",
    "result = show_weighted_average(years, 'SL.EMP.VULN.MA.ZS', 'SL.TLF.TOTL.IN', \n",
    "                               ['LDCs', 'Developing excluding LDCs', 'OECD'])"
   ]
  },
  {
   "cell_type": "code",
   "execution_count": 16,
   "metadata": {
    "ExecuteTime": {
     "end_time": "2019-10-25T14:25:24.083516Z",
     "start_time": "2019-10-25T14:25:19.417499Z"
    },
    "slideshow": {
     "slide_type": "slide"
    }
   },
   "outputs": [
    {
     "data": {
      "text/html": [
       "\n",
       "\n",
       "\n",
       "\n",
       "\n",
       "\n",
       "  <div class=\"bk-root\" id=\"ad7214ad-9759-4ce0-b586-efb29f2f81e4\" data-root-id=\"4455\"></div>\n"
      ]
     },
     "metadata": {},
     "output_type": "display_data"
    },
    {
     "data": {
      "application/javascript": [
       "(function(root) {\n",
       "  function embed_document(root) {\n",
       "    \n",
       "  var docs_json = {\"32c3abba-9aea-4aec-9209-6b22af291cf8\":{\"roots\":{\"references\":[{\"attributes\":{\"below\":[{\"id\":\"4466\",\"type\":\"LinearAxis\"}],\"center\":[{\"id\":\"4470\",\"type\":\"Grid\"},{\"id\":\"4475\",\"type\":\"Grid\"},{\"id\":\"4500\",\"type\":\"Legend\"}],\"left\":[{\"id\":\"4471\",\"type\":\"LinearAxis\"}],\"plot_height\":400,\"plot_width\":800,\"renderers\":[{\"id\":\"4492\",\"type\":\"GlyphRenderer\"},{\"id\":\"4505\",\"type\":\"GlyphRenderer\"},{\"id\":\"4510\",\"type\":\"GlyphRenderer\"},{\"id\":\"4526\",\"type\":\"GlyphRenderer\"},{\"id\":\"4531\",\"type\":\"GlyphRenderer\"},{\"id\":\"4551\",\"type\":\"GlyphRenderer\"}],\"title\":{\"id\":\"4456\",\"type\":\"Title\"},\"toolbar\":{\"id\":\"4482\",\"type\":\"Toolbar\"},\"x_range\":{\"id\":\"4458\",\"type\":\"DataRange1d\"},\"x_scale\":{\"id\":\"4462\",\"type\":\"LinearScale\"},\"y_range\":{\"id\":\"4460\",\"type\":\"DataRange1d\"},\"y_scale\":{\"id\":\"4464\",\"type\":\"LinearScale\"}},\"id\":\"4455\",\"subtype\":\"Figure\",\"type\":\"Plot\"},{\"attributes\":{\"callback\":null,\"data\":{\"x\":[\"2000\",\"2001\",\"2002\",\"2003\",\"2004\",\"2005\",\"2006\",\"2007\",\"2008\",\"2009\",\"2010\",\"2011\",\"2012\",\"2013\",\"2014\",\"2015\",\"2016\",\"2017\"],\"y\":[55.47978614999483,55.975732696938344,56.50274815798361,57.06108266122101,57.646781535993426,58.25570477828153,58.88310509569853,59.52027856066717,60.15664526899239,60.78301466742689,61.388933701289815,61.967425120830384,62.51265697725478,63.02794492847264,63.50655894613865,63.94522390318217,64.34308028696678,64.70484741974481]},\"selected\":{\"id\":\"4517\",\"type\":\"Selection\"},\"selection_policy\":{\"id\":\"4518\",\"type\":\"UnionRenderers\"}},\"id\":\"4489\",\"type\":\"ColumnDataSource\"},{\"attributes\":{\"source\":{\"id\":\"4523\",\"type\":\"ColumnDataSource\"}},\"id\":\"4527\",\"type\":\"CDSView\"},{\"attributes\":{\"fill_color\":{\"value\":\"#FA1857\"},\"line_color\":{\"value\":\"#FA1857\"},\"line_width\":{\"value\":3},\"x\":{\"field\":\"x\"},\"y\":{\"field\":\"y\"}},\"id\":\"4503\",\"type\":\"Circle\"},{\"attributes\":{},\"id\":\"4765\",\"type\":\"Selection\"},{\"attributes\":{\"callback\":null,\"tooltips\":\"                \\n        <div style=padding=5px>Year:@x</div>\\n        <div style=padding=5px>Value:@y</div>        \\n        \"},\"id\":\"4553\",\"type\":\"HoverTool\"},{\"attributes\":{},\"id\":\"4767\",\"type\":\"Selection\"},{\"attributes\":{\"line_alpha\":0.1,\"line_color\":\"#1f77b4\",\"x\":{\"field\":\"x\"},\"y\":{\"field\":\"y\"}},\"id\":\"4491\",\"type\":\"Line\"},{\"attributes\":{\"callback\":null,\"data\":{\"x\":[\"2000\",\"2001\",\"2002\",\"2003\",\"2004\",\"2005\",\"2006\",\"2007\",\"2008\",\"2009\",\"2010\",\"2011\",\"2012\",\"2013\",\"2014\",\"2015\",\"2016\",\"2017\"],\"y\":[77.07712560169232,77.38833297513385,77.54776037882743,77.69654179560608,78.09938587502181,78.21736324644525,78.50714525876474,78.73135260844114,78.87486015871855,79.13132827194039,79.3009215024766,79.53231619249463,79.64498856482149,79.80818222814423,80.05654259453199,79.94678663973315,80.09864354689779,80.15042257303583]},\"selected\":{\"id\":\"4765\",\"type\":\"Selection\"},\"selection_policy\":{\"id\":\"4766\",\"type\":\"UnionRenderers\"}},\"id\":\"4528\",\"type\":\"ColumnDataSource\"},{\"attributes\":{\"fill_alpha\":{\"value\":0.1},\"fill_color\":{\"value\":\"#1f77b4\"},\"line_alpha\":{\"value\":0.1},\"line_color\":{\"value\":\"#1f77b4\"},\"line_width\":{\"value\":3},\"x\":{\"field\":\"x\"},\"y\":{\"field\":\"y\"}},\"id\":\"4504\",\"type\":\"Circle\"},{\"attributes\":{},\"id\":\"4766\",\"type\":\"UnionRenderers\"},{\"attributes\":{},\"id\":\"4476\",\"type\":\"PanTool\"},{\"attributes\":{\"line_color\":\"#2CC775\",\"x\":{\"field\":\"x\"},\"y\":{\"field\":\"y\"}},\"id\":\"4529\",\"type\":\"Line\"},{\"attributes\":{\"data_source\":{\"id\":\"4502\",\"type\":\"ColumnDataSource\"},\"glyph\":{\"id\":\"4503\",\"type\":\"Circle\"},\"hover_glyph\":null,\"muted_glyph\":null,\"nonselection_glyph\":{\"id\":\"4504\",\"type\":\"Circle\"},\"selection_glyph\":null,\"view\":{\"id\":\"4506\",\"type\":\"CDSView\"}},\"id\":\"4505\",\"type\":\"GlyphRenderer\"},{\"attributes\":{},\"id\":\"4768\",\"type\":\"UnionRenderers\"},{\"attributes\":{},\"id\":\"4477\",\"type\":\"WheelZoomTool\"},{\"attributes\":{\"line_alpha\":0.1,\"line_color\":\"#1f77b4\",\"x\":{\"field\":\"x\"},\"y\":{\"field\":\"y\"}},\"id\":\"4530\",\"type\":\"Line\"},{\"attributes\":{\"source\":{\"id\":\"4502\",\"type\":\"ColumnDataSource\"}},\"id\":\"4506\",\"type\":\"CDSView\"},{\"attributes\":{\"overlay\":{\"id\":\"4499\",\"type\":\"BoxAnnotation\"}},\"id\":\"4478\",\"type\":\"BoxZoomTool\"},{\"attributes\":{\"data_source\":{\"id\":\"4528\",\"type\":\"ColumnDataSource\"},\"glyph\":{\"id\":\"4529\",\"type\":\"Line\"},\"hover_glyph\":null,\"muted_glyph\":null,\"nonselection_glyph\":{\"id\":\"4530\",\"type\":\"Line\"},\"selection_glyph\":null,\"view\":{\"id\":\"4532\",\"type\":\"CDSView\"}},\"id\":\"4531\",\"type\":\"GlyphRenderer\"},{\"attributes\":{\"callback\":null,\"data\":{\"x\":[\"2000\",\"2001\",\"2002\",\"2003\",\"2004\",\"2005\",\"2006\",\"2007\",\"2008\",\"2009\",\"2010\",\"2011\",\"2012\",\"2013\",\"2014\",\"2015\",\"2016\",\"2017\"],\"y\":[66.81116952985124,67.10136064960203,67.39534765279303,67.69191534513566,67.99394689200506,68.30220457476779,68.61903869781979,68.94325513186014,69.27457578712584,69.61247702715436,69.94342523785205,70.27284035315787,70.59362275978874,70.9030130494035,71.1981897682081,71.47010803591232,71.72046744475756,71.9516686920634]},\"selected\":{\"id\":\"4542\",\"type\":\"Selection\"},\"selection_policy\":{\"id\":\"4543\",\"type\":\"UnionRenderers\"}},\"id\":\"4507\",\"type\":\"ColumnDataSource\"},{\"attributes\":{},\"id\":\"4479\",\"type\":\"SaveTool\"},{\"attributes\":{\"source\":{\"id\":\"4528\",\"type\":\"ColumnDataSource\"}},\"id\":\"4532\",\"type\":\"CDSView\"},{\"attributes\":{\"line_color\":\"#5430F1\",\"x\":{\"field\":\"x\"},\"y\":{\"field\":\"y\"}},\"id\":\"4508\",\"type\":\"Line\"},{\"attributes\":{},\"id\":\"4480\",\"type\":\"ResetTool\"},{\"attributes\":{\"text\":\"Life expectancy at birth, total (years) weighted against Population, total\"},\"id\":\"4456\",\"type\":\"Title\"},{\"attributes\":{},\"id\":\"4542\",\"type\":\"Selection\"},{\"attributes\":{\"line_alpha\":0.1,\"line_color\":\"#1f77b4\",\"x\":{\"field\":\"x\"},\"y\":{\"field\":\"y\"}},\"id\":\"4509\",\"type\":\"Line\"},{\"attributes\":{},\"id\":\"4481\",\"type\":\"HelpTool\"},{\"attributes\":{\"callback\":null},\"id\":\"4458\",\"type\":\"DataRange1d\"},{\"attributes\":{},\"id\":\"4543\",\"type\":\"UnionRenderers\"},{\"attributes\":{\"data_source\":{\"id\":\"4507\",\"type\":\"ColumnDataSource\"},\"glyph\":{\"id\":\"4508\",\"type\":\"Line\"},\"hover_glyph\":null,\"muted_glyph\":null,\"nonselection_glyph\":{\"id\":\"4509\",\"type\":\"Line\"},\"selection_glyph\":null,\"view\":{\"id\":\"4511\",\"type\":\"CDSView\"}},\"id\":\"4510\",\"type\":\"GlyphRenderer\"},{\"attributes\":{\"active_drag\":\"auto\",\"active_inspect\":\"auto\",\"active_multi\":null,\"active_scroll\":\"auto\",\"active_tap\":\"auto\",\"tools\":[{\"id\":\"4476\",\"type\":\"PanTool\"},{\"id\":\"4477\",\"type\":\"WheelZoomTool\"},{\"id\":\"4478\",\"type\":\"BoxZoomTool\"},{\"id\":\"4479\",\"type\":\"SaveTool\"},{\"id\":\"4480\",\"type\":\"ResetTool\"},{\"id\":\"4481\",\"type\":\"HelpTool\"},{\"id\":\"4553\",\"type\":\"HoverTool\"}]},\"id\":\"4482\",\"type\":\"Toolbar\"},{\"attributes\":{\"callback\":null},\"id\":\"4460\",\"type\":\"DataRange1d\"},{\"attributes\":{},\"id\":\"4544\",\"type\":\"Selection\"},{\"attributes\":{\"source\":{\"id\":\"4507\",\"type\":\"ColumnDataSource\"}},\"id\":\"4511\",\"type\":\"CDSView\"},{\"attributes\":{},\"id\":\"4462\",\"type\":\"LinearScale\"},{\"attributes\":{\"data_source\":{\"id\":\"4489\",\"type\":\"ColumnDataSource\"},\"glyph\":{\"id\":\"4490\",\"type\":\"Line\"},\"hover_glyph\":null,\"muted_glyph\":null,\"nonselection_glyph\":{\"id\":\"4491\",\"type\":\"Line\"},\"selection_glyph\":null,\"view\":{\"id\":\"4493\",\"type\":\"CDSView\"}},\"id\":\"4492\",\"type\":\"GlyphRenderer\"},{\"attributes\":{},\"id\":\"4545\",\"type\":\"UnionRenderers\"},{\"attributes\":{},\"id\":\"4517\",\"type\":\"Selection\"},{\"attributes\":{},\"id\":\"4464\",\"type\":\"LinearScale\"},{\"attributes\":{\"label\":{\"value\":\"OECD\"},\"renderers\":[{\"id\":\"4531\",\"type\":\"GlyphRenderer\"}]},\"id\":\"4547\",\"type\":\"LegendItem\"},{\"attributes\":{},\"id\":\"4518\",\"type\":\"UnionRenderers\"},{\"attributes\":{\"line_color\":\"#FA1857\",\"x\":{\"field\":\"x\"},\"y\":{\"field\":\"y\"}},\"id\":\"4490\",\"type\":\"Line\"},{\"attributes\":{\"source\":{\"id\":\"4489\",\"type\":\"ColumnDataSource\"}},\"id\":\"4493\",\"type\":\"CDSView\"},{\"attributes\":{\"axis_label\":\"Years\",\"formatter\":{\"id\":\"4496\",\"type\":\"BasicTickFormatter\"},\"ticker\":{\"id\":\"4467\",\"type\":\"BasicTicker\"}},\"id\":\"4466\",\"type\":\"LinearAxis\"},{\"attributes\":{},\"id\":\"4519\",\"type\":\"Selection\"},{\"attributes\":{},\"id\":\"4496\",\"type\":\"BasicTickFormatter\"},{\"attributes\":{\"callback\":null,\"data\":{\"x\":[\"2000\",\"2001\",\"2002\",\"2003\",\"2004\",\"2005\",\"2006\",\"2007\",\"2008\",\"2009\",\"2010\",\"2011\",\"2012\",\"2013\",\"2014\",\"2015\",\"2016\",\"2017\"],\"y\":[77.07712560169232,77.38833297513385,77.54776037882743,77.69654179560608,78.09938587502181,78.21736324644525,78.50714525876474,78.73135260844114,78.87486015871855,79.13132827194039,79.3009215024766,79.53231619249463,79.64498856482149,79.80818222814423,80.05654259453199,79.94678663973315,80.09864354689779,80.15042257303583]},\"selected\":{\"id\":\"4767\",\"type\":\"Selection\"},\"selection_policy\":{\"id\":\"4768\",\"type\":\"UnionRenderers\"}},\"id\":\"4548\",\"type\":\"ColumnDataSource\"},{\"attributes\":{},\"id\":\"4467\",\"type\":\"BasicTicker\"},{\"attributes\":{\"fill_color\":{\"value\":\"#2CC775\"},\"line_color\":{\"value\":\"#2CC775\"},\"line_width\":{\"value\":3},\"x\":{\"field\":\"x\"},\"y\":{\"field\":\"y\"}},\"id\":\"4549\",\"type\":\"Circle\"},{\"attributes\":{},\"id\":\"4520\",\"type\":\"UnionRenderers\"},{\"attributes\":{\"grid_line_color\":null,\"ticker\":{\"id\":\"4467\",\"type\":\"BasicTicker\"}},\"id\":\"4470\",\"type\":\"Grid\"},{\"attributes\":{\"fill_alpha\":{\"value\":0.1},\"fill_color\":{\"value\":\"#1f77b4\"},\"line_alpha\":{\"value\":0.1},\"line_color\":{\"value\":\"#1f77b4\"},\"line_width\":{\"value\":3},\"x\":{\"field\":\"x\"},\"y\":{\"field\":\"y\"}},\"id\":\"4550\",\"type\":\"Circle\"},{\"attributes\":{},\"id\":\"4498\",\"type\":\"BasicTickFormatter\"},{\"attributes\":{\"label\":{\"value\":\"Developing excluding LDCs\"},\"renderers\":[{\"id\":\"4510\",\"type\":\"GlyphRenderer\"}]},\"id\":\"4522\",\"type\":\"LegendItem\"},{\"attributes\":{\"data_source\":{\"id\":\"4548\",\"type\":\"ColumnDataSource\"},\"glyph\":{\"id\":\"4549\",\"type\":\"Circle\"},\"hover_glyph\":null,\"muted_glyph\":null,\"nonselection_glyph\":{\"id\":\"4550\",\"type\":\"Circle\"},\"selection_glyph\":null,\"view\":{\"id\":\"4552\",\"type\":\"CDSView\"}},\"id\":\"4551\",\"type\":\"GlyphRenderer\"},{\"attributes\":{\"bottom_units\":\"screen\",\"fill_alpha\":{\"value\":0.5},\"fill_color\":{\"value\":\"lightgrey\"},\"left_units\":\"screen\",\"level\":\"overlay\",\"line_alpha\":{\"value\":1.0},\"line_color\":{\"value\":\"black\"},\"line_dash\":[4,4],\"line_width\":{\"value\":2},\"render_mode\":\"css\",\"right_units\":\"screen\",\"top_units\":\"screen\"},\"id\":\"4499\",\"type\":\"BoxAnnotation\"},{\"attributes\":{\"axis_label\":\"SP.DYN.LE00.IN\",\"formatter\":{\"id\":\"4498\",\"type\":\"BasicTickFormatter\"},\"ticker\":{\"id\":\"4472\",\"type\":\"BasicTicker\"}},\"id\":\"4471\",\"type\":\"LinearAxis\"},{\"attributes\":{\"callback\":null,\"data\":{\"x\":[\"2000\",\"2001\",\"2002\",\"2003\",\"2004\",\"2005\",\"2006\",\"2007\",\"2008\",\"2009\",\"2010\",\"2011\",\"2012\",\"2013\",\"2014\",\"2015\",\"2016\",\"2017\"],\"y\":[66.81116952985124,67.10136064960203,67.39534765279303,67.69191534513566,67.99394689200506,68.30220457476779,68.61903869781979,68.94325513186014,69.27457578712584,69.61247702715436,69.94342523785205,70.27284035315787,70.59362275978874,70.9030130494035,71.1981897682081,71.47010803591232,71.72046744475756,71.9516686920634]},\"selected\":{\"id\":\"4544\",\"type\":\"Selection\"},\"selection_policy\":{\"id\":\"4545\",\"type\":\"UnionRenderers\"}},\"id\":\"4523\",\"type\":\"ColumnDataSource\"},{\"attributes\":{\"items\":[{\"id\":\"4501\",\"type\":\"LegendItem\"},{\"id\":\"4522\",\"type\":\"LegendItem\"},{\"id\":\"4547\",\"type\":\"LegendItem\"}],\"location\":\"bottom_left\"},\"id\":\"4500\",\"type\":\"Legend\"},{\"attributes\":{\"source\":{\"id\":\"4548\",\"type\":\"ColumnDataSource\"}},\"id\":\"4552\",\"type\":\"CDSView\"},{\"attributes\":{},\"id\":\"4472\",\"type\":\"BasicTicker\"},{\"attributes\":{\"fill_color\":{\"value\":\"#5430F1\"},\"line_color\":{\"value\":\"#5430F1\"},\"line_width\":{\"value\":3},\"x\":{\"field\":\"x\"},\"y\":{\"field\":\"y\"}},\"id\":\"4524\",\"type\":\"Circle\"},{\"attributes\":{\"label\":{\"value\":\"LDCs\"},\"renderers\":[{\"id\":\"4492\",\"type\":\"GlyphRenderer\"}]},\"id\":\"4501\",\"type\":\"LegendItem\"},{\"attributes\":{\"dimension\":1,\"grid_line_alpha\":0.5,\"ticker\":{\"id\":\"4472\",\"type\":\"BasicTicker\"}},\"id\":\"4475\",\"type\":\"Grid\"},{\"attributes\":{\"fill_alpha\":{\"value\":0.1},\"fill_color\":{\"value\":\"#1f77b4\"},\"line_alpha\":{\"value\":0.1},\"line_color\":{\"value\":\"#1f77b4\"},\"line_width\":{\"value\":3},\"x\":{\"field\":\"x\"},\"y\":{\"field\":\"y\"}},\"id\":\"4525\",\"type\":\"Circle\"},{\"attributes\":{\"callback\":null,\"data\":{\"x\":[\"2000\",\"2001\",\"2002\",\"2003\",\"2004\",\"2005\",\"2006\",\"2007\",\"2008\",\"2009\",\"2010\",\"2011\",\"2012\",\"2013\",\"2014\",\"2015\",\"2016\",\"2017\"],\"y\":[55.47978614999483,55.975732696938344,56.50274815798361,57.06108266122101,57.646781535993426,58.25570477828153,58.88310509569853,59.52027856066717,60.15664526899239,60.78301466742689,61.388933701289815,61.967425120830384,62.51265697725478,63.02794492847264,63.50655894613865,63.94522390318217,64.34308028696678,64.70484741974481]},\"selected\":{\"id\":\"4519\",\"type\":\"Selection\"},\"selection_policy\":{\"id\":\"4520\",\"type\":\"UnionRenderers\"}},\"id\":\"4502\",\"type\":\"ColumnDataSource\"},{\"attributes\":{\"data_source\":{\"id\":\"4523\",\"type\":\"ColumnDataSource\"},\"glyph\":{\"id\":\"4524\",\"type\":\"Circle\"},\"hover_glyph\":null,\"muted_glyph\":null,\"nonselection_glyph\":{\"id\":\"4525\",\"type\":\"Circle\"},\"selection_glyph\":null,\"view\":{\"id\":\"4527\",\"type\":\"CDSView\"}},\"id\":\"4526\",\"type\":\"GlyphRenderer\"}],\"root_ids\":[\"4455\"]},\"title\":\"Bokeh Application\",\"version\":\"1.3.4\"}};\n",
       "  var render_items = [{\"docid\":\"32c3abba-9aea-4aec-9209-6b22af291cf8\",\"roots\":{\"4455\":\"ad7214ad-9759-4ce0-b586-efb29f2f81e4\"}}];\n",
       "  root.Bokeh.embed.embed_items_notebook(docs_json, render_items);\n",
       "\n",
       "  }\n",
       "  if (root.Bokeh !== undefined) {\n",
       "    embed_document(root);\n",
       "  } else {\n",
       "    var attempts = 0;\n",
       "    var timer = setInterval(function(root) {\n",
       "      if (root.Bokeh !== undefined) {\n",
       "        embed_document(root);\n",
       "        clearInterval(timer);\n",
       "      }\n",
       "      attempts++;\n",
       "      if (attempts > 100) {\n",
       "        console.log(\"Bokeh: ERROR: Unable to run BokehJS code because BokehJS library is missing\");\n",
       "        clearInterval(timer);\n",
       "      }\n",
       "    }, 10, root)\n",
       "  }\n",
       "})(window);"
      ],
      "application/vnd.bokehjs_exec.v0+json": ""
     },
     "metadata": {
      "application/vnd.bokehjs_exec.v0+json": {
       "id": "4455"
      }
     },
     "output_type": "display_data"
    }
   ],
   "source": [
    "# Life expectancy\n",
    "years = list(map(str, list(range(2000,2018))))\n",
    "result = show_weighted_average(years, 'SP.DYN.LE00.IN', 'SP.POP.TOTL', \n",
    "                               ['LDCs', 'Developing excluding LDCs', 'OECD'])"
   ]
  },
  {
   "cell_type": "code",
   "execution_count": 17,
   "metadata": {
    "ExecuteTime": {
     "end_time": "2019-10-25T14:25:28.872290Z",
     "start_time": "2019-10-25T14:25:24.086081Z"
    },
    "slideshow": {
     "slide_type": "slide"
    }
   },
   "outputs": [
    {
     "data": {
      "text/html": [
       "\n",
       "\n",
       "\n",
       "\n",
       "\n",
       "\n",
       "  <div class=\"bk-root\" id=\"270cb3d7-39a9-4b36-a463-7e661335c3a0\" data-root-id=\"4878\"></div>\n"
      ]
     },
     "metadata": {},
     "output_type": "display_data"
    },
    {
     "data": {
      "application/javascript": [
       "(function(root) {\n",
       "  function embed_document(root) {\n",
       "    \n",
       "  var docs_json = {\"b099c24b-e358-4a90-a6bf-f6544ec1919b\":{\"roots\":{\"references\":[{\"attributes\":{\"below\":[{\"id\":\"4889\",\"type\":\"LinearAxis\"}],\"center\":[{\"id\":\"4893\",\"type\":\"Grid\"},{\"id\":\"4898\",\"type\":\"Grid\"},{\"id\":\"4923\",\"type\":\"Legend\"}],\"left\":[{\"id\":\"4894\",\"type\":\"LinearAxis\"}],\"plot_height\":400,\"plot_width\":800,\"renderers\":[{\"id\":\"4915\",\"type\":\"GlyphRenderer\"},{\"id\":\"4928\",\"type\":\"GlyphRenderer\"},{\"id\":\"4933\",\"type\":\"GlyphRenderer\"},{\"id\":\"4949\",\"type\":\"GlyphRenderer\"},{\"id\":\"4954\",\"type\":\"GlyphRenderer\"},{\"id\":\"4974\",\"type\":\"GlyphRenderer\"}],\"title\":{\"id\":\"4879\",\"type\":\"Title\"},\"toolbar\":{\"id\":\"4905\",\"type\":\"Toolbar\"},\"x_range\":{\"id\":\"4881\",\"type\":\"DataRange1d\"},\"x_scale\":{\"id\":\"4885\",\"type\":\"LinearScale\"},\"y_range\":{\"id\":\"4883\",\"type\":\"DataRange1d\"},\"y_scale\":{\"id\":\"4887\",\"type\":\"LinearScale\"}},\"id\":\"4878\",\"subtype\":\"Figure\",\"type\":\"Plot\"},{\"attributes\":{\"source\":{\"id\":\"4951\",\"type\":\"ColumnDataSource\"}},\"id\":\"4955\",\"type\":\"CDSView\"},{\"attributes\":{\"line_alpha\":0.1,\"line_color\":\"#1f77b4\",\"x\":{\"field\":\"x\"},\"y\":{\"field\":\"y\"}},\"id\":\"4932\",\"type\":\"Line\"},{\"attributes\":{\"data_source\":{\"id\":\"4912\",\"type\":\"ColumnDataSource\"},\"glyph\":{\"id\":\"4913\",\"type\":\"Line\"},\"hover_glyph\":null,\"muted_glyph\":null,\"nonselection_glyph\":{\"id\":\"4914\",\"type\":\"Line\"},\"selection_glyph\":null,\"view\":{\"id\":\"4916\",\"type\":\"CDSView\"}},\"id\":\"4915\",\"type\":\"GlyphRenderer\"},{\"attributes\":{\"data_source\":{\"id\":\"4951\",\"type\":\"ColumnDataSource\"},\"glyph\":{\"id\":\"4952\",\"type\":\"Line\"},\"hover_glyph\":null,\"muted_glyph\":null,\"nonselection_glyph\":{\"id\":\"4953\",\"type\":\"Line\"},\"selection_glyph\":null,\"view\":{\"id\":\"4955\",\"type\":\"CDSView\"}},\"id\":\"4954\",\"type\":\"GlyphRenderer\"},{\"attributes\":{},\"id\":\"4966\",\"type\":\"UnionRenderers\"},{\"attributes\":{},\"id\":\"4965\",\"type\":\"Selection\"},{\"attributes\":{\"source\":{\"id\":\"4925\",\"type\":\"ColumnDataSource\"}},\"id\":\"4929\",\"type\":\"CDSView\"},{\"attributes\":{},\"id\":\"4904\",\"type\":\"HelpTool\"},{\"attributes\":{},\"id\":\"4967\",\"type\":\"Selection\"},{\"attributes\":{\"source\":{\"id\":\"4912\",\"type\":\"ColumnDataSource\"}},\"id\":\"4916\",\"type\":\"CDSView\"},{\"attributes\":{},\"id\":\"4941\",\"type\":\"UnionRenderers\"},{\"attributes\":{\"label\":{\"value\":\"OECD\"},\"renderers\":[{\"id\":\"4954\",\"type\":\"GlyphRenderer\"}]},\"id\":\"4970\",\"type\":\"LegendItem\"},{\"attributes\":{},\"id\":\"4921\",\"type\":\"BasicTickFormatter\"},{\"attributes\":{\"fill_color\":{\"value\":\"#FA1857\"},\"line_color\":{\"value\":\"#FA1857\"},\"line_width\":{\"value\":3},\"x\":{\"field\":\"x\"},\"y\":{\"field\":\"y\"}},\"id\":\"4926\",\"type\":\"Circle\"},{\"attributes\":{},\"id\":\"4903\",\"type\":\"ResetTool\"},{\"attributes\":{},\"id\":\"4968\",\"type\":\"UnionRenderers\"},{\"attributes\":{},\"id\":\"4919\",\"type\":\"BasicTickFormatter\"},{\"attributes\":{\"callback\":null,\"data\":{\"x\":[\"2000\",\"2001\",\"2002\",\"2003\",\"2004\",\"2005\",\"2006\",\"2007\",\"2008\",\"2009\",\"2010\",\"2011\",\"2012\",\"2013\",\"2014\",\"2015\",\"2016\",\"2017\"],\"y\":[79.93351879418076,80.20290658761989,80.32918832949842,80.39856940465691,80.77521328865518,80.86674990168122,81.1402038786844,81.32381241465296,81.43163205746191,81.62948962454634,81.79594928587568,82.07333933782573,82.11929566013815,82.26555024337196,82.51912432141074,82.35601028400251,82.55037747513924,82.59790657999017]},\"selected\":{\"id\":\"5208\",\"type\":\"Selection\"},\"selection_policy\":{\"id\":\"5209\",\"type\":\"UnionRenderers\"}},\"id\":\"4971\",\"type\":\"ColumnDataSource\"},{\"attributes\":{\"overlay\":{\"id\":\"4922\",\"type\":\"BoxAnnotation\"}},\"id\":\"4901\",\"type\":\"BoxZoomTool\"},{\"attributes\":{},\"id\":\"4899\",\"type\":\"PanTool\"},{\"attributes\":{},\"id\":\"4942\",\"type\":\"Selection\"},{\"attributes\":{\"active_drag\":\"auto\",\"active_inspect\":\"auto\",\"active_multi\":null,\"active_scroll\":\"auto\",\"active_tap\":\"auto\",\"tools\":[{\"id\":\"4899\",\"type\":\"PanTool\"},{\"id\":\"4900\",\"type\":\"WheelZoomTool\"},{\"id\":\"4901\",\"type\":\"BoxZoomTool\"},{\"id\":\"4902\",\"type\":\"SaveTool\"},{\"id\":\"4903\",\"type\":\"ResetTool\"},{\"id\":\"4904\",\"type\":\"HelpTool\"},{\"id\":\"4976\",\"type\":\"HoverTool\"}]},\"id\":\"4905\",\"type\":\"Toolbar\"},{\"attributes\":{\"fill_alpha\":{\"value\":0.1},\"fill_color\":{\"value\":\"#1f77b4\"},\"line_alpha\":{\"value\":0.1},\"line_color\":{\"value\":\"#1f77b4\"},\"line_width\":{\"value\":3},\"x\":{\"field\":\"x\"},\"y\":{\"field\":\"y\"}},\"id\":\"4973\",\"type\":\"Circle\"},{\"attributes\":{\"label\":{\"value\":\"Developing excluding LDCs\"},\"renderers\":[{\"id\":\"4933\",\"type\":\"GlyphRenderer\"}]},\"id\":\"4945\",\"type\":\"LegendItem\"},{\"attributes\":{\"callback\":null,\"data\":{\"x\":[\"2000\",\"2001\",\"2002\",\"2003\",\"2004\",\"2005\",\"2006\",\"2007\",\"2008\",\"2009\",\"2010\",\"2011\",\"2012\",\"2013\",\"2014\",\"2015\",\"2016\",\"2017\"],\"y\":[57.034527408572266,57.53748489045903,58.07142351800209,58.640581905118836,59.242660221595216,59.87429659950075,60.53079079914172,61.19774721212408,61.87418453620832,62.54301761236867,63.19237481578384,63.81307389468363,64.39532395583093,64.94434252296352,65.45150499669222,65.91438566172573,66.33128171561334,66.70959739482211]},\"selected\":{\"id\":\"4942\",\"type\":\"Selection\"},\"selection_policy\":{\"id\":\"4943\",\"type\":\"UnionRenderers\"}},\"id\":\"4925\",\"type\":\"ColumnDataSource\"},{\"attributes\":{},\"id\":\"4900\",\"type\":\"WheelZoomTool\"},{\"attributes\":{\"grid_line_color\":null,\"ticker\":{\"id\":\"4890\",\"type\":\"BasicTicker\"}},\"id\":\"4893\",\"type\":\"Grid\"},{\"attributes\":{\"fill_color\":{\"value\":\"#2CC775\"},\"line_color\":{\"value\":\"#2CC775\"},\"line_width\":{\"value\":3},\"x\":{\"field\":\"x\"},\"y\":{\"field\":\"y\"}},\"id\":\"4972\",\"type\":\"Circle\"},{\"attributes\":{},\"id\":\"4943\",\"type\":\"UnionRenderers\"},{\"attributes\":{\"line_color\":\"#FA1857\",\"x\":{\"field\":\"x\"},\"y\":{\"field\":\"y\"}},\"id\":\"4913\",\"type\":\"Line\"},{\"attributes\":{\"callback\":null},\"id\":\"4883\",\"type\":\"DataRange1d\"},{\"attributes\":{\"data_source\":{\"id\":\"4971\",\"type\":\"ColumnDataSource\"},\"glyph\":{\"id\":\"4972\",\"type\":\"Circle\"},\"hover_glyph\":null,\"muted_glyph\":null,\"nonselection_glyph\":{\"id\":\"4973\",\"type\":\"Circle\"},\"selection_glyph\":null,\"view\":{\"id\":\"4975\",\"type\":\"CDSView\"}},\"id\":\"4974\",\"type\":\"GlyphRenderer\"},{\"attributes\":{\"callback\":null,\"data\":{\"x\":[\"2000\",\"2001\",\"2002\",\"2003\",\"2004\",\"2005\",\"2006\",\"2007\",\"2008\",\"2009\",\"2010\",\"2011\",\"2012\",\"2013\",\"2014\",\"2015\",\"2016\",\"2017\"],\"y\":[67.73281154489842,67.97348032002085,68.22274061008504,68.4834570193612,68.75974387360039,69.05476389543969,69.3723836455032,69.71081830727181,70.06116455005113,70.42362476987262,70.78281631915947,71.13967644962615,71.48296705077259,71.80606471400148,72.10313283696358,72.37065053741364,72.60294771834627,72.81209975661481]},\"selected\":{\"id\":\"4967\",\"type\":\"Selection\"},\"selection_policy\":{\"id\":\"4968\",\"type\":\"UnionRenderers\"}},\"id\":\"4946\",\"type\":\"ColumnDataSource\"},{\"attributes\":{},\"id\":\"4902\",\"type\":\"SaveTool\"},{\"attributes\":{},\"id\":\"4885\",\"type\":\"LinearScale\"},{\"attributes\":{\"items\":[{\"id\":\"4924\",\"type\":\"LegendItem\"},{\"id\":\"4945\",\"type\":\"LegendItem\"},{\"id\":\"4970\",\"type\":\"LegendItem\"}],\"location\":\"bottom_left\"},\"id\":\"4923\",\"type\":\"Legend\"},{\"attributes\":{\"source\":{\"id\":\"4930\",\"type\":\"ColumnDataSource\"}},\"id\":\"4934\",\"type\":\"CDSView\"},{\"attributes\":{\"fill_alpha\":{\"value\":0.1},\"fill_color\":{\"value\":\"#1f77b4\"},\"line_alpha\":{\"value\":0.1},\"line_color\":{\"value\":\"#1f77b4\"},\"line_width\":{\"value\":3},\"x\":{\"field\":\"x\"},\"y\":{\"field\":\"y\"}},\"id\":\"4948\",\"type\":\"Circle\"},{\"attributes\":{\"callback\":null,\"data\":{\"x\":[\"2000\",\"2001\",\"2002\",\"2003\",\"2004\",\"2005\",\"2006\",\"2007\",\"2008\",\"2009\",\"2010\",\"2011\",\"2012\",\"2013\",\"2014\",\"2015\",\"2016\",\"2017\"],\"y\":[57.034527408572266,57.53748489045903,58.07142351800209,58.640581905118836,59.242660221595216,59.87429659950075,60.53079079914172,61.19774721212408,61.87418453620832,62.54301761236867,63.19237481578384,63.81307389468363,64.39532395583093,64.94434252296352,65.45150499669222,65.91438566172573,66.33128171561334,66.70959739482211]},\"selected\":{\"id\":\"4940\",\"type\":\"Selection\"},\"selection_policy\":{\"id\":\"4941\",\"type\":\"UnionRenderers\"}},\"id\":\"4912\",\"type\":\"ColumnDataSource\"},{\"attributes\":{\"callback\":null,\"tooltips\":\"                \\n        <div style=padding=5px>Year:@x</div>\\n        <div style=padding=5px>Value:@y</div>        \\n        \"},\"id\":\"4976\",\"type\":\"HoverTool\"},{\"attributes\":{},\"id\":\"4887\",\"type\":\"LinearScale\"},{\"attributes\":{\"source\":{\"id\":\"4971\",\"type\":\"ColumnDataSource\"}},\"id\":\"4975\",\"type\":\"CDSView\"},{\"attributes\":{\"fill_color\":{\"value\":\"#5430F1\"},\"line_color\":{\"value\":\"#5430F1\"},\"line_width\":{\"value\":3},\"x\":{\"field\":\"x\"},\"y\":{\"field\":\"y\"}},\"id\":\"4947\",\"type\":\"Circle\"},{\"attributes\":{\"axis_label\":\"SP.DYN.LE00.FE.IN\",\"formatter\":{\"id\":\"4921\",\"type\":\"BasicTickFormatter\"},\"ticker\":{\"id\":\"4895\",\"type\":\"BasicTicker\"}},\"id\":\"4894\",\"type\":\"LinearAxis\"},{\"attributes\":{\"callback\":null,\"data\":{\"x\":[\"2000\",\"2001\",\"2002\",\"2003\",\"2004\",\"2005\",\"2006\",\"2007\",\"2008\",\"2009\",\"2010\",\"2011\",\"2012\",\"2013\",\"2014\",\"2015\",\"2016\",\"2017\"],\"y\":[67.73281154489842,67.97348032002085,68.22274061008504,68.4834570193612,68.75974387360039,69.05476389543969,69.3723836455032,69.71081830727181,70.06116455005113,70.42362476987262,70.78281631915947,71.13967644962615,71.48296705077259,71.80606471400148,72.10313283696358,72.37065053741364,72.60294771834627,72.81209975661481]},\"selected\":{\"id\":\"4965\",\"type\":\"Selection\"},\"selection_policy\":{\"id\":\"4966\",\"type\":\"UnionRenderers\"}},\"id\":\"4930\",\"type\":\"ColumnDataSource\"},{\"attributes\":{},\"id\":\"5206\",\"type\":\"Selection\"},{\"attributes\":{\"data_source\":{\"id\":\"4946\",\"type\":\"ColumnDataSource\"},\"glyph\":{\"id\":\"4947\",\"type\":\"Circle\"},\"hover_glyph\":null,\"muted_glyph\":null,\"nonselection_glyph\":{\"id\":\"4948\",\"type\":\"Circle\"},\"selection_glyph\":null,\"view\":{\"id\":\"4950\",\"type\":\"CDSView\"}},\"id\":\"4949\",\"type\":\"GlyphRenderer\"},{\"attributes\":{},\"id\":\"4940\",\"type\":\"Selection\"},{\"attributes\":{\"line_alpha\":0.1,\"line_color\":\"#1f77b4\",\"x\":{\"field\":\"x\"},\"y\":{\"field\":\"y\"}},\"id\":\"4914\",\"type\":\"Line\"},{\"attributes\":{\"text\":\"Life expectancy at birth, female (years) weighted against Rural population\"},\"id\":\"4879\",\"type\":\"Title\"},{\"attributes\":{},\"id\":\"5208\",\"type\":\"Selection\"},{\"attributes\":{\"label\":{\"value\":\"LDCs\"},\"renderers\":[{\"id\":\"4915\",\"type\":\"GlyphRenderer\"}]},\"id\":\"4924\",\"type\":\"LegendItem\"},{\"attributes\":{\"line_color\":\"#5430F1\",\"x\":{\"field\":\"x\"},\"y\":{\"field\":\"y\"}},\"id\":\"4931\",\"type\":\"Line\"},{\"attributes\":{\"callback\":null,\"data\":{\"x\":[\"2000\",\"2001\",\"2002\",\"2003\",\"2004\",\"2005\",\"2006\",\"2007\",\"2008\",\"2009\",\"2010\",\"2011\",\"2012\",\"2013\",\"2014\",\"2015\",\"2016\",\"2017\"],\"y\":[79.93351879418076,80.20290658761989,80.32918832949842,80.39856940465691,80.77521328865518,80.86674990168122,81.1402038786844,81.32381241465296,81.43163205746191,81.62948962454634,81.79594928587568,82.07333933782573,82.11929566013815,82.26555024337196,82.51912432141074,82.35601028400251,82.55037747513924,82.59790657999017]},\"selected\":{\"id\":\"5206\",\"type\":\"Selection\"},\"selection_policy\":{\"id\":\"5207\",\"type\":\"UnionRenderers\"}},\"id\":\"4951\",\"type\":\"ColumnDataSource\"},{\"attributes\":{},\"id\":\"4895\",\"type\":\"BasicTicker\"},{\"attributes\":{\"callback\":null},\"id\":\"4881\",\"type\":\"DataRange1d\"},{\"attributes\":{},\"id\":\"5207\",\"type\":\"UnionRenderers\"},{\"attributes\":{\"source\":{\"id\":\"4946\",\"type\":\"ColumnDataSource\"}},\"id\":\"4950\",\"type\":\"CDSView\"},{\"attributes\":{\"fill_alpha\":{\"value\":0.1},\"fill_color\":{\"value\":\"#1f77b4\"},\"line_alpha\":{\"value\":0.1},\"line_color\":{\"value\":\"#1f77b4\"},\"line_width\":{\"value\":3},\"x\":{\"field\":\"x\"},\"y\":{\"field\":\"y\"}},\"id\":\"4927\",\"type\":\"Circle\"},{\"attributes\":{},\"id\":\"5209\",\"type\":\"UnionRenderers\"},{\"attributes\":{\"axis_label\":\"Years\",\"formatter\":{\"id\":\"4919\",\"type\":\"BasicTickFormatter\"},\"ticker\":{\"id\":\"4890\",\"type\":\"BasicTicker\"}},\"id\":\"4889\",\"type\":\"LinearAxis\"},{\"attributes\":{\"data_source\":{\"id\":\"4930\",\"type\":\"ColumnDataSource\"},\"glyph\":{\"id\":\"4931\",\"type\":\"Line\"},\"hover_glyph\":null,\"muted_glyph\":null,\"nonselection_glyph\":{\"id\":\"4932\",\"type\":\"Line\"},\"selection_glyph\":null,\"view\":{\"id\":\"4934\",\"type\":\"CDSView\"}},\"id\":\"4933\",\"type\":\"GlyphRenderer\"},{\"attributes\":{\"dimension\":1,\"grid_line_alpha\":0.5,\"ticker\":{\"id\":\"4895\",\"type\":\"BasicTicker\"}},\"id\":\"4898\",\"type\":\"Grid\"},{\"attributes\":{\"line_color\":\"#2CC775\",\"x\":{\"field\":\"x\"},\"y\":{\"field\":\"y\"}},\"id\":\"4952\",\"type\":\"Line\"},{\"attributes\":{\"bottom_units\":\"screen\",\"fill_alpha\":{\"value\":0.5},\"fill_color\":{\"value\":\"lightgrey\"},\"left_units\":\"screen\",\"level\":\"overlay\",\"line_alpha\":{\"value\":1.0},\"line_color\":{\"value\":\"black\"},\"line_dash\":[4,4],\"line_width\":{\"value\":2},\"render_mode\":\"css\",\"right_units\":\"screen\",\"top_units\":\"screen\"},\"id\":\"4922\",\"type\":\"BoxAnnotation\"},{\"attributes\":{},\"id\":\"4890\",\"type\":\"BasicTicker\"},{\"attributes\":{\"data_source\":{\"id\":\"4925\",\"type\":\"ColumnDataSource\"},\"glyph\":{\"id\":\"4926\",\"type\":\"Circle\"},\"hover_glyph\":null,\"muted_glyph\":null,\"nonselection_glyph\":{\"id\":\"4927\",\"type\":\"Circle\"},\"selection_glyph\":null,\"view\":{\"id\":\"4929\",\"type\":\"CDSView\"}},\"id\":\"4928\",\"type\":\"GlyphRenderer\"},{\"attributes\":{\"line_alpha\":0.1,\"line_color\":\"#1f77b4\",\"x\":{\"field\":\"x\"},\"y\":{\"field\":\"y\"}},\"id\":\"4953\",\"type\":\"Line\"}],\"root_ids\":[\"4878\"]},\"title\":\"Bokeh Application\",\"version\":\"1.3.4\"}};\n",
       "  var render_items = [{\"docid\":\"b099c24b-e358-4a90-a6bf-f6544ec1919b\",\"roots\":{\"4878\":\"270cb3d7-39a9-4b36-a463-7e661335c3a0\"}}];\n",
       "  root.Bokeh.embed.embed_items_notebook(docs_json, render_items);\n",
       "\n",
       "  }\n",
       "  if (root.Bokeh !== undefined) {\n",
       "    embed_document(root);\n",
       "  } else {\n",
       "    var attempts = 0;\n",
       "    var timer = setInterval(function(root) {\n",
       "      if (root.Bokeh !== undefined) {\n",
       "        embed_document(root);\n",
       "        clearInterval(timer);\n",
       "      }\n",
       "      attempts++;\n",
       "      if (attempts > 100) {\n",
       "        console.log(\"Bokeh: ERROR: Unable to run BokehJS code because BokehJS library is missing\");\n",
       "        clearInterval(timer);\n",
       "      }\n",
       "    }, 10, root)\n",
       "  }\n",
       "})(window);"
      ],
      "application/vnd.bokehjs_exec.v0+json": ""
     },
     "metadata": {
      "application/vnd.bokehjs_exec.v0+json": {
       "id": "4878"
      }
     },
     "output_type": "display_data"
    }
   ],
   "source": [
    "# Female life expectancy\n",
    "years = list(map(str, list(range(2000,2018))))\n",
    "result = show_weighted_average(years, 'SP.DYN.LE00.FE.IN', 'SP.RUR.TOTL', \n",
    "                               ['LDCs', 'Developing excluding LDCs', 'OECD'])"
   ]
  },
  {
   "cell_type": "code",
   "execution_count": 18,
   "metadata": {
    "ExecuteTime": {
     "end_time": "2019-10-25T14:25:33.233720Z",
     "start_time": "2019-10-25T14:25:28.874728Z"
    },
    "slideshow": {
     "slide_type": "slide"
    }
   },
   "outputs": [
    {
     "data": {
      "text/html": [
       "\n",
       "\n",
       "\n",
       "\n",
       "\n",
       "\n",
       "  <div class=\"bk-root\" id=\"8bc8a9e1-53b8-4f7b-84fc-a7c25aa28f07\" data-root-id=\"5319\"></div>\n"
      ]
     },
     "metadata": {},
     "output_type": "display_data"
    },
    {
     "data": {
      "application/javascript": [
       "(function(root) {\n",
       "  function embed_document(root) {\n",
       "    \n",
       "  var docs_json = {\"c217016d-0c73-42d0-aa34-1359dff78972\":{\"roots\":{\"references\":[{\"attributes\":{\"below\":[{\"id\":\"5330\",\"type\":\"LinearAxis\"}],\"center\":[{\"id\":\"5334\",\"type\":\"Grid\"},{\"id\":\"5339\",\"type\":\"Grid\"},{\"id\":\"5364\",\"type\":\"Legend\"}],\"left\":[{\"id\":\"5335\",\"type\":\"LinearAxis\"}],\"plot_height\":400,\"plot_width\":800,\"renderers\":[{\"id\":\"5356\",\"type\":\"GlyphRenderer\"},{\"id\":\"5369\",\"type\":\"GlyphRenderer\"},{\"id\":\"5374\",\"type\":\"GlyphRenderer\"},{\"id\":\"5390\",\"type\":\"GlyphRenderer\"}],\"title\":{\"id\":\"5320\",\"type\":\"Title\"},\"toolbar\":{\"id\":\"5346\",\"type\":\"Toolbar\"},\"x_range\":{\"id\":\"5322\",\"type\":\"DataRange1d\"},\"x_scale\":{\"id\":\"5326\",\"type\":\"LinearScale\"},\"y_range\":{\"id\":\"5324\",\"type\":\"DataRange1d\"},\"y_scale\":{\"id\":\"5328\",\"type\":\"LinearScale\"}},\"id\":\"5319\",\"subtype\":\"Figure\",\"type\":\"Plot\"},{\"attributes\":{\"source\":{\"id\":\"5387\",\"type\":\"ColumnDataSource\"}},\"id\":\"5391\",\"type\":\"CDSView\"},{\"attributes\":{\"grid_line_color\":null,\"ticker\":{\"id\":\"5331\",\"type\":\"BasicTicker\"}},\"id\":\"5334\",\"type\":\"Grid\"},{\"attributes\":{},\"id\":\"5362\",\"type\":\"BasicTickFormatter\"},{\"attributes\":{\"items\":[{\"id\":\"5365\",\"type\":\"LegendItem\"},{\"id\":\"5386\",\"type\":\"LegendItem\"}],\"location\":\"bottom_left\"},\"id\":\"5364\",\"type\":\"Legend\"},{\"attributes\":{\"callback\":null,\"data\":{\"x\":[\"2000\",\"2001\",\"2002\",\"2003\",\"2004\",\"2005\",\"2006\",\"2007\",\"2008\",\"2009\",\"2010\",\"2011\",\"2012\",\"2013\",\"2014\",\"2015\",\"2016\",\"2017\"],\"y\":[219.28408588120277,213.48414800134037,206.41811006155564,200.67120038874455,194.22090384430567,186.45995905793217,179.47945880804642,172.69824687103215,167.14239880717736,161.17966398798256,155.12810024875614,149.4076724816034,144.52542353326865,140.4374830912562,137.01364916667524,133.5566778030908,129.90816344064564,127.82152219368795]},\"selected\":{\"id\":\"5638\",\"type\":\"Selection\"},\"selection_policy\":{\"id\":\"5639\",\"type\":\"UnionRenderers\"}},\"id\":\"5387\",\"type\":\"ColumnDataSource\"},{\"attributes\":{},\"id\":\"5328\",\"type\":\"LinearScale\"},{\"attributes\":{\"callback\":null,\"tooltips\":\"                \\n        <div style=padding=5px>Year:@x</div>\\n        <div style=padding=5px>Value:@y</div>        \\n        \"},\"id\":\"5392\",\"type\":\"HoverTool\"},{\"attributes\":{\"line_alpha\":0.1,\"line_color\":\"#1f77b4\",\"x\":{\"field\":\"x\"},\"y\":{\"field\":\"y\"}},\"id\":\"5355\",\"type\":\"Line\"},{\"attributes\":{\"label\":{\"value\":\"Developing excluding LDCs\"},\"renderers\":[{\"id\":\"5374\",\"type\":\"GlyphRenderer\"}]},\"id\":\"5386\",\"type\":\"LegendItem\"},{\"attributes\":{\"axis_label\":\"Years\",\"formatter\":{\"id\":\"5360\",\"type\":\"BasicTickFormatter\"},\"ticker\":{\"id\":\"5331\",\"type\":\"BasicTicker\"}},\"id\":\"5330\",\"type\":\"LinearAxis\"},{\"attributes\":{\"overlay\":{\"id\":\"5363\",\"type\":\"BoxAnnotation\"}},\"id\":\"5342\",\"type\":\"BoxZoomTool\"},{\"attributes\":{},\"id\":\"5341\",\"type\":\"WheelZoomTool\"},{\"attributes\":{\"callback\":null,\"data\":{\"x\":[\"2000\",\"2001\",\"2002\",\"2003\",\"2004\",\"2005\",\"2006\",\"2007\",\"2008\",\"2009\",\"2010\",\"2011\",\"2012\",\"2013\",\"2014\",\"2015\",\"2016\",\"2017\"],\"y\":[715.2447987144993,691.6849041419641,673.4892479999546,651.0563817071164,625.5069049458828,592.7740014378311,564.7764525894733,540.1215038192421,519.2159647732941,500.21556542920393,481.30634910908856,463.88510804587,448.827847164424,434.57010999810467,422.4587882882479,406.7932602988281,392.5254468961425,380.5719673986561]},\"selected\":{\"id\":\"5381\",\"type\":\"Selection\"},\"selection_policy\":{\"id\":\"5382\",\"type\":\"UnionRenderers\"}},\"id\":\"5353\",\"type\":\"ColumnDataSource\"},{\"attributes\":{\"fill_color\":{\"value\":\"#5430F1\"},\"line_color\":{\"value\":\"#5430F1\"},\"line_width\":{\"value\":3},\"x\":{\"field\":\"x\"},\"y\":{\"field\":\"y\"}},\"id\":\"5388\",\"type\":\"Circle\"},{\"attributes\":{},\"id\":\"5331\",\"type\":\"BasicTicker\"},{\"attributes\":{},\"id\":\"5383\",\"type\":\"Selection\"},{\"attributes\":{\"callback\":null},\"id\":\"5322\",\"type\":\"DataRange1d\"},{\"attributes\":{},\"id\":\"5382\",\"type\":\"UnionRenderers\"},{\"attributes\":{\"callback\":null},\"id\":\"5324\",\"type\":\"DataRange1d\"},{\"attributes\":{},\"id\":\"5384\",\"type\":\"UnionRenderers\"},{\"attributes\":{},\"id\":\"5326\",\"type\":\"LinearScale\"},{\"attributes\":{\"bottom_units\":\"screen\",\"fill_alpha\":{\"value\":0.5},\"fill_color\":{\"value\":\"lightgrey\"},\"left_units\":\"screen\",\"level\":\"overlay\",\"line_alpha\":{\"value\":1.0},\"line_color\":{\"value\":\"black\"},\"line_dash\":[4,4],\"line_width\":{\"value\":2},\"render_mode\":\"css\",\"right_units\":\"screen\",\"top_units\":\"screen\"},\"id\":\"5363\",\"type\":\"BoxAnnotation\"},{\"attributes\":{\"source\":{\"id\":\"5371\",\"type\":\"ColumnDataSource\"}},\"id\":\"5375\",\"type\":\"CDSView\"},{\"attributes\":{},\"id\":\"5340\",\"type\":\"PanTool\"},{\"attributes\":{\"dimension\":1,\"grid_line_alpha\":0.5,\"ticker\":{\"id\":\"5336\",\"type\":\"BasicTicker\"}},\"id\":\"5339\",\"type\":\"Grid\"},{\"attributes\":{\"line_color\":\"#FA1857\",\"x\":{\"field\":\"x\"},\"y\":{\"field\":\"y\"}},\"id\":\"5354\",\"type\":\"Line\"},{\"attributes\":{\"data_source\":{\"id\":\"5371\",\"type\":\"ColumnDataSource\"},\"glyph\":{\"id\":\"5372\",\"type\":\"Line\"},\"hover_glyph\":null,\"muted_glyph\":null,\"nonselection_glyph\":{\"id\":\"5373\",\"type\":\"Line\"},\"selection_glyph\":null,\"view\":{\"id\":\"5375\",\"type\":\"CDSView\"}},\"id\":\"5374\",\"type\":\"GlyphRenderer\"},{\"attributes\":{},\"id\":\"5345\",\"type\":\"HelpTool\"},{\"attributes\":{},\"id\":\"5344\",\"type\":\"ResetTool\"},{\"attributes\":{},\"id\":\"5381\",\"type\":\"Selection\"},{\"attributes\":{\"text\":\"Maternal mortality ratio (modeled estimate, per 100,000 live births) weighted against Population, female\"},\"id\":\"5320\",\"type\":\"Title\"},{\"attributes\":{\"active_drag\":\"auto\",\"active_inspect\":\"auto\",\"active_multi\":null,\"active_scroll\":\"auto\",\"active_tap\":\"auto\",\"tools\":[{\"id\":\"5340\",\"type\":\"PanTool\"},{\"id\":\"5341\",\"type\":\"WheelZoomTool\"},{\"id\":\"5342\",\"type\":\"BoxZoomTool\"},{\"id\":\"5343\",\"type\":\"SaveTool\"},{\"id\":\"5344\",\"type\":\"ResetTool\"},{\"id\":\"5345\",\"type\":\"HelpTool\"},{\"id\":\"5392\",\"type\":\"HoverTool\"}]},\"id\":\"5346\",\"type\":\"Toolbar\"},{\"attributes\":{\"line_color\":\"#5430F1\",\"x\":{\"field\":\"x\"},\"y\":{\"field\":\"y\"}},\"id\":\"5372\",\"type\":\"Line\"},{\"attributes\":{},\"id\":\"5639\",\"type\":\"UnionRenderers\"},{\"attributes\":{},\"id\":\"5336\",\"type\":\"BasicTicker\"},{\"attributes\":{\"callback\":null,\"data\":{\"x\":[\"2000\",\"2001\",\"2002\",\"2003\",\"2004\",\"2005\",\"2006\",\"2007\",\"2008\",\"2009\",\"2010\",\"2011\",\"2012\",\"2013\",\"2014\",\"2015\",\"2016\",\"2017\"],\"y\":[219.28408588120277,213.48414800134037,206.41811006155564,200.67120038874455,194.22090384430567,186.45995905793217,179.47945880804642,172.69824687103215,167.14239880717736,161.17966398798256,155.12810024875614,149.4076724816034,144.52542353326865,140.4374830912562,137.01364916667524,133.5566778030908,129.90816344064564,127.82152219368795]},\"selected\":{\"id\":\"5636\",\"type\":\"Selection\"},\"selection_policy\":{\"id\":\"5637\",\"type\":\"UnionRenderers\"}},\"id\":\"5371\",\"type\":\"ColumnDataSource\"},{\"attributes\":{},\"id\":\"5638\",\"type\":\"Selection\"},{\"attributes\":{\"line_alpha\":0.1,\"line_color\":\"#1f77b4\",\"x\":{\"field\":\"x\"},\"y\":{\"field\":\"y\"}},\"id\":\"5373\",\"type\":\"Line\"},{\"attributes\":{\"data_source\":{\"id\":\"5353\",\"type\":\"ColumnDataSource\"},\"glyph\":{\"id\":\"5354\",\"type\":\"Line\"},\"hover_glyph\":null,\"muted_glyph\":null,\"nonselection_glyph\":{\"id\":\"5355\",\"type\":\"Line\"},\"selection_glyph\":null,\"view\":{\"id\":\"5357\",\"type\":\"CDSView\"}},\"id\":\"5356\",\"type\":\"GlyphRenderer\"},{\"attributes\":{\"data_source\":{\"id\":\"5366\",\"type\":\"ColumnDataSource\"},\"glyph\":{\"id\":\"5367\",\"type\":\"Circle\"},\"hover_glyph\":null,\"muted_glyph\":null,\"nonselection_glyph\":{\"id\":\"5368\",\"type\":\"Circle\"},\"selection_glyph\":null,\"view\":{\"id\":\"5370\",\"type\":\"CDSView\"}},\"id\":\"5369\",\"type\":\"GlyphRenderer\"},{\"attributes\":{},\"id\":\"5343\",\"type\":\"SaveTool\"},{\"attributes\":{},\"id\":\"5636\",\"type\":\"Selection\"},{\"attributes\":{\"axis_label\":\"SH.STA.MMRT\",\"formatter\":{\"id\":\"5362\",\"type\":\"BasicTickFormatter\"},\"ticker\":{\"id\":\"5336\",\"type\":\"BasicTicker\"}},\"id\":\"5335\",\"type\":\"LinearAxis\"},{\"attributes\":{\"fill_alpha\":{\"value\":0.1},\"fill_color\":{\"value\":\"#1f77b4\"},\"line_alpha\":{\"value\":0.1},\"line_color\":{\"value\":\"#1f77b4\"},\"line_width\":{\"value\":3},\"x\":{\"field\":\"x\"},\"y\":{\"field\":\"y\"}},\"id\":\"5368\",\"type\":\"Circle\"},{\"attributes\":{\"source\":{\"id\":\"5353\",\"type\":\"ColumnDataSource\"}},\"id\":\"5357\",\"type\":\"CDSView\"},{\"attributes\":{\"label\":{\"value\":\"LDCs\"},\"renderers\":[{\"id\":\"5356\",\"type\":\"GlyphRenderer\"}]},\"id\":\"5365\",\"type\":\"LegendItem\"},{\"attributes\":{},\"id\":\"5360\",\"type\":\"BasicTickFormatter\"},{\"attributes\":{\"source\":{\"id\":\"5366\",\"type\":\"ColumnDataSource\"}},\"id\":\"5370\",\"type\":\"CDSView\"},{\"attributes\":{},\"id\":\"5637\",\"type\":\"UnionRenderers\"},{\"attributes\":{\"data_source\":{\"id\":\"5387\",\"type\":\"ColumnDataSource\"},\"glyph\":{\"id\":\"5388\",\"type\":\"Circle\"},\"hover_glyph\":null,\"muted_glyph\":null,\"nonselection_glyph\":{\"id\":\"5389\",\"type\":\"Circle\"},\"selection_glyph\":null,\"view\":{\"id\":\"5391\",\"type\":\"CDSView\"}},\"id\":\"5390\",\"type\":\"GlyphRenderer\"},{\"attributes\":{\"callback\":null,\"data\":{\"x\":[\"2000\",\"2001\",\"2002\",\"2003\",\"2004\",\"2005\",\"2006\",\"2007\",\"2008\",\"2009\",\"2010\",\"2011\",\"2012\",\"2013\",\"2014\",\"2015\",\"2016\",\"2017\"],\"y\":[715.2447987144993,691.6849041419641,673.4892479999546,651.0563817071164,625.5069049458828,592.7740014378311,564.7764525894733,540.1215038192421,519.2159647732941,500.21556542920393,481.30634910908856,463.88510804587,448.827847164424,434.57010999810467,422.4587882882479,406.7932602988281,392.5254468961425,380.5719673986561]},\"selected\":{\"id\":\"5383\",\"type\":\"Selection\"},\"selection_policy\":{\"id\":\"5384\",\"type\":\"UnionRenderers\"}},\"id\":\"5366\",\"type\":\"ColumnDataSource\"},{\"attributes\":{\"fill_alpha\":{\"value\":0.1},\"fill_color\":{\"value\":\"#1f77b4\"},\"line_alpha\":{\"value\":0.1},\"line_color\":{\"value\":\"#1f77b4\"},\"line_width\":{\"value\":3},\"x\":{\"field\":\"x\"},\"y\":{\"field\":\"y\"}},\"id\":\"5389\",\"type\":\"Circle\"},{\"attributes\":{\"fill_color\":{\"value\":\"#FA1857\"},\"line_color\":{\"value\":\"#FA1857\"},\"line_width\":{\"value\":3},\"x\":{\"field\":\"x\"},\"y\":{\"field\":\"y\"}},\"id\":\"5367\",\"type\":\"Circle\"}],\"root_ids\":[\"5319\"]},\"title\":\"Bokeh Application\",\"version\":\"1.3.4\"}};\n",
       "  var render_items = [{\"docid\":\"c217016d-0c73-42d0-aa34-1359dff78972\",\"roots\":{\"5319\":\"8bc8a9e1-53b8-4f7b-84fc-a7c25aa28f07\"}}];\n",
       "  root.Bokeh.embed.embed_items_notebook(docs_json, render_items);\n",
       "\n",
       "  }\n",
       "  if (root.Bokeh !== undefined) {\n",
       "    embed_document(root);\n",
       "  } else {\n",
       "    var attempts = 0;\n",
       "    var timer = setInterval(function(root) {\n",
       "      if (root.Bokeh !== undefined) {\n",
       "        embed_document(root);\n",
       "        clearInterval(timer);\n",
       "      }\n",
       "      attempts++;\n",
       "      if (attempts > 100) {\n",
       "        console.log(\"Bokeh: ERROR: Unable to run BokehJS code because BokehJS library is missing\");\n",
       "        clearInterval(timer);\n",
       "      }\n",
       "    }, 10, root)\n",
       "  }\n",
       "})(window);"
      ],
      "application/vnd.bokehjs_exec.v0+json": ""
     },
     "metadata": {
      "application/vnd.bokehjs_exec.v0+json": {
       "id": "5319"
      }
     },
     "output_type": "display_data"
    }
   ],
   "source": [
    "# Maternal mortality ratio\n",
    "years = list(map(str, list(range(2000,2018))))\n",
    "result = show_weighted_average(years, 'SH.STA.MMRT', 'SP.POP.TOTL.FE.IN', ['LDCs', 'Developing excluding LDCs'])"
   ]
  },
  {
   "cell_type": "code",
   "execution_count": 19,
   "metadata": {
    "ExecuteTime": {
     "end_time": "2019-10-25T14:25:37.466675Z",
     "start_time": "2019-10-25T14:25:33.236157Z"
    },
    "slideshow": {
     "slide_type": "slide"
    }
   },
   "outputs": [
    {
     "data": {
      "text/html": [
       "\n",
       "\n",
       "\n",
       "\n",
       "\n",
       "\n",
       "  <div class=\"bk-root\" id=\"4394ae79-9be8-4de6-847b-940ee01260f9\" data-root-id=\"5725\"></div>\n"
      ]
     },
     "metadata": {},
     "output_type": "display_data"
    },
    {
     "data": {
      "application/javascript": [
       "(function(root) {\n",
       "  function embed_document(root) {\n",
       "    \n",
       "  var docs_json = {\"ef73a2ca-d49d-48b8-afca-5149269f9d98\":{\"roots\":{\"references\":[{\"attributes\":{\"below\":[{\"id\":\"5736\",\"type\":\"LinearAxis\"}],\"center\":[{\"id\":\"5740\",\"type\":\"Grid\"},{\"id\":\"5745\",\"type\":\"Grid\"},{\"id\":\"5770\",\"type\":\"Legend\"}],\"left\":[{\"id\":\"5741\",\"type\":\"LinearAxis\"}],\"plot_height\":400,\"plot_width\":800,\"renderers\":[{\"id\":\"5762\",\"type\":\"GlyphRenderer\"},{\"id\":\"5775\",\"type\":\"GlyphRenderer\"},{\"id\":\"5780\",\"type\":\"GlyphRenderer\"},{\"id\":\"5796\",\"type\":\"GlyphRenderer\"}],\"title\":{\"id\":\"5726\",\"type\":\"Title\"},\"toolbar\":{\"id\":\"5752\",\"type\":\"Toolbar\"},\"x_range\":{\"id\":\"5728\",\"type\":\"DataRange1d\"},\"x_scale\":{\"id\":\"5732\",\"type\":\"LinearScale\"},\"y_range\":{\"id\":\"5730\",\"type\":\"DataRange1d\"},\"y_scale\":{\"id\":\"5734\",\"type\":\"LinearScale\"}},\"id\":\"5725\",\"subtype\":\"Figure\",\"type\":\"Plot\"},{\"attributes\":{\"line_alpha\":0.1,\"line_color\":\"#1f77b4\",\"x\":{\"field\":\"x\"},\"y\":{\"field\":\"y\"}},\"id\":\"5779\",\"type\":\"Line\"},{\"attributes\":{},\"id\":\"5751\",\"type\":\"HelpTool\"},{\"attributes\":{\"callback\":null},\"id\":\"5728\",\"type\":\"DataRange1d\"},{\"attributes\":{\"data_source\":{\"id\":\"5777\",\"type\":\"ColumnDataSource\"},\"glyph\":{\"id\":\"5778\",\"type\":\"Line\"},\"hover_glyph\":null,\"muted_glyph\":null,\"nonselection_glyph\":{\"id\":\"5779\",\"type\":\"Line\"},\"selection_glyph\":null,\"view\":{\"id\":\"5781\",\"type\":\"CDSView\"}},\"id\":\"5780\",\"type\":\"GlyphRenderer\"},{\"attributes\":{\"active_drag\":\"auto\",\"active_inspect\":\"auto\",\"active_multi\":null,\"active_scroll\":\"auto\",\"active_tap\":\"auto\",\"tools\":[{\"id\":\"5746\",\"type\":\"PanTool\"},{\"id\":\"5747\",\"type\":\"WheelZoomTool\"},{\"id\":\"5748\",\"type\":\"BoxZoomTool\"},{\"id\":\"5749\",\"type\":\"SaveTool\"},{\"id\":\"5750\",\"type\":\"ResetTool\"},{\"id\":\"5751\",\"type\":\"HelpTool\"},{\"id\":\"5798\",\"type\":\"HoverTool\"}]},\"id\":\"5752\",\"type\":\"Toolbar\"},{\"attributes\":{\"callback\":null},\"id\":\"5730\",\"type\":\"DataRange1d\"},{\"attributes\":{\"source\":{\"id\":\"5777\",\"type\":\"ColumnDataSource\"}},\"id\":\"5781\",\"type\":\"CDSView\"},{\"attributes\":{},\"id\":\"5732\",\"type\":\"LinearScale\"},{\"attributes\":{\"data_source\":{\"id\":\"5759\",\"type\":\"ColumnDataSource\"},\"glyph\":{\"id\":\"5760\",\"type\":\"Line\"},\"hover_glyph\":null,\"muted_glyph\":null,\"nonselection_glyph\":{\"id\":\"5761\",\"type\":\"Line\"},\"selection_glyph\":null,\"view\":{\"id\":\"5763\",\"type\":\"CDSView\"}},\"id\":\"5762\",\"type\":\"GlyphRenderer\"},{\"attributes\":{},\"id\":\"5787\",\"type\":\"Selection\"},{\"attributes\":{},\"id\":\"5734\",\"type\":\"LinearScale\"},{\"attributes\":{},\"id\":\"5788\",\"type\":\"UnionRenderers\"},{\"attributes\":{\"source\":{\"id\":\"5759\",\"type\":\"ColumnDataSource\"}},\"id\":\"5763\",\"type\":\"CDSView\"},{\"attributes\":{\"axis_label\":\"Years\",\"formatter\":{\"id\":\"5766\",\"type\":\"BasicTickFormatter\"},\"ticker\":{\"id\":\"5737\",\"type\":\"BasicTicker\"}},\"id\":\"5736\",\"type\":\"LinearAxis\"},{\"attributes\":{},\"id\":\"5789\",\"type\":\"Selection\"},{\"attributes\":{},\"id\":\"5766\",\"type\":\"BasicTickFormatter\"},{\"attributes\":{},\"id\":\"5737\",\"type\":\"BasicTicker\"},{\"attributes\":{},\"id\":\"5790\",\"type\":\"UnionRenderers\"},{\"attributes\":{\"grid_line_color\":null,\"ticker\":{\"id\":\"5737\",\"type\":\"BasicTicker\"}},\"id\":\"5740\",\"type\":\"Grid\"},{\"attributes\":{},\"id\":\"5768\",\"type\":\"BasicTickFormatter\"},{\"attributes\":{\"label\":{\"value\":\"Developing excluding LDCs\"},\"renderers\":[{\"id\":\"5780\",\"type\":\"GlyphRenderer\"}]},\"id\":\"5792\",\"type\":\"LegendItem\"},{\"attributes\":{\"bottom_units\":\"screen\",\"fill_alpha\":{\"value\":0.5},\"fill_color\":{\"value\":\"lightgrey\"},\"left_units\":\"screen\",\"level\":\"overlay\",\"line_alpha\":{\"value\":1.0},\"line_color\":{\"value\":\"black\"},\"line_dash\":[4,4],\"line_width\":{\"value\":2},\"render_mode\":\"css\",\"right_units\":\"screen\",\"top_units\":\"screen\"},\"id\":\"5769\",\"type\":\"BoxAnnotation\"},{\"attributes\":{\"axis_label\":\"SP.DYN.IMRT.IN\",\"formatter\":{\"id\":\"5768\",\"type\":\"BasicTickFormatter\"},\"ticker\":{\"id\":\"5742\",\"type\":\"BasicTicker\"}},\"id\":\"5741\",\"type\":\"LinearAxis\"},{\"attributes\":{\"callback\":null,\"data\":{\"x\":[\"2000\",\"2001\",\"2002\",\"2003\",\"2004\",\"2005\",\"2006\",\"2007\",\"2008\",\"2009\",\"2010\",\"2011\",\"2012\",\"2013\",\"2014\",\"2015\",\"2016\",\"2017\"],\"y\":[45.758602232258916,44.006185482373866,42.27625112523983,40.52709249788235,38.9627181695033,37.23908287256094,35.71694700311238,34.24378821297313,32.82356542916968,31.505214349340378,30.23549863774606,29.02988830437219,27.850705825641178,26.781110096608014,25.712388491284276,24.682632180401672,23.77423357312919,22.83697035928226]},\"selected\":{\"id\":\"6058\",\"type\":\"Selection\"},\"selection_policy\":{\"id\":\"6059\",\"type\":\"UnionRenderers\"}},\"id\":\"5793\",\"type\":\"ColumnDataSource\"},{\"attributes\":{\"items\":[{\"id\":\"5771\",\"type\":\"LegendItem\"},{\"id\":\"5792\",\"type\":\"LegendItem\"}],\"location\":\"bottom_left\"},\"id\":\"5770\",\"type\":\"Legend\"},{\"attributes\":{},\"id\":\"5742\",\"type\":\"BasicTicker\"},{\"attributes\":{\"fill_color\":{\"value\":\"#5430F1\"},\"line_color\":{\"value\":\"#5430F1\"},\"line_width\":{\"value\":3},\"x\":{\"field\":\"x\"},\"y\":{\"field\":\"y\"}},\"id\":\"5794\",\"type\":\"Circle\"},{\"attributes\":{\"label\":{\"value\":\"LDCs\"},\"renderers\":[{\"id\":\"5762\",\"type\":\"GlyphRenderer\"}]},\"id\":\"5771\",\"type\":\"LegendItem\"},{\"attributes\":{\"dimension\":1,\"grid_line_alpha\":0.5,\"ticker\":{\"id\":\"5742\",\"type\":\"BasicTicker\"}},\"id\":\"5745\",\"type\":\"Grid\"},{\"attributes\":{\"fill_alpha\":{\"value\":0.1},\"fill_color\":{\"value\":\"#1f77b4\"},\"line_alpha\":{\"value\":0.1},\"line_color\":{\"value\":\"#1f77b4\"},\"line_width\":{\"value\":3},\"x\":{\"field\":\"x\"},\"y\":{\"field\":\"y\"}},\"id\":\"5795\",\"type\":\"Circle\"},{\"attributes\":{\"callback\":null,\"data\":{\"x\":[\"2000\",\"2001\",\"2002\",\"2003\",\"2004\",\"2005\",\"2006\",\"2007\",\"2008\",\"2009\",\"2010\",\"2011\",\"2012\",\"2013\",\"2014\",\"2015\",\"2016\",\"2017\"],\"y\":[82.70759690380814,79.73629371086803,76.70131956567673,73.71454770622205,70.80686638940736,68.02122954765979,65.41417889354649,62.8514871260428,60.69956279939264,58.17600443643168,56.34077865781633,53.92638955415337,52.0577982516888,50.28482276049278,48.62932090980866,47.09117150486615,45.62733787270465,44.21599634272751]},\"selected\":{\"id\":\"5789\",\"type\":\"Selection\"},\"selection_policy\":{\"id\":\"5790\",\"type\":\"UnionRenderers\"}},\"id\":\"5772\",\"type\":\"ColumnDataSource\"},{\"attributes\":{\"data_source\":{\"id\":\"5793\",\"type\":\"ColumnDataSource\"},\"glyph\":{\"id\":\"5794\",\"type\":\"Circle\"},\"hover_glyph\":null,\"muted_glyph\":null,\"nonselection_glyph\":{\"id\":\"5795\",\"type\":\"Circle\"},\"selection_glyph\":null,\"view\":{\"id\":\"5797\",\"type\":\"CDSView\"}},\"id\":\"5796\",\"type\":\"GlyphRenderer\"},{\"attributes\":{\"line_color\":\"#FA1857\",\"x\":{\"field\":\"x\"},\"y\":{\"field\":\"y\"}},\"id\":\"5760\",\"type\":\"Line\"},{\"attributes\":{\"fill_color\":{\"value\":\"#FA1857\"},\"line_color\":{\"value\":\"#FA1857\"},\"line_width\":{\"value\":3},\"x\":{\"field\":\"x\"},\"y\":{\"field\":\"y\"}},\"id\":\"5773\",\"type\":\"Circle\"},{\"attributes\":{\"callback\":null,\"tooltips\":\"                \\n        <div style=padding=5px>Year:@x</div>\\n        <div style=padding=5px>Value:@y</div>        \\n        \"},\"id\":\"5798\",\"type\":\"HoverTool\"},{\"attributes\":{\"source\":{\"id\":\"5793\",\"type\":\"ColumnDataSource\"}},\"id\":\"5797\",\"type\":\"CDSView\"},{\"attributes\":{\"callback\":null,\"data\":{\"x\":[\"2000\",\"2001\",\"2002\",\"2003\",\"2004\",\"2005\",\"2006\",\"2007\",\"2008\",\"2009\",\"2010\",\"2011\",\"2012\",\"2013\",\"2014\",\"2015\",\"2016\",\"2017\"],\"y\":[82.70759690380814,79.73629371086803,76.70131956567673,73.71454770622205,70.80686638940736,68.02122954765979,65.41417889354649,62.8514871260428,60.69956279939264,58.17600443643168,56.34077865781633,53.92638955415337,52.0577982516888,50.28482276049278,48.62932090980866,47.09117150486615,45.62733787270465,44.21599634272751]},\"selected\":{\"id\":\"5787\",\"type\":\"Selection\"},\"selection_policy\":{\"id\":\"5788\",\"type\":\"UnionRenderers\"}},\"id\":\"5759\",\"type\":\"ColumnDataSource\"},{\"attributes\":{\"fill_alpha\":{\"value\":0.1},\"fill_color\":{\"value\":\"#1f77b4\"},\"line_alpha\":{\"value\":0.1},\"line_color\":{\"value\":\"#1f77b4\"},\"line_width\":{\"value\":3},\"x\":{\"field\":\"x\"},\"y\":{\"field\":\"y\"}},\"id\":\"5774\",\"type\":\"Circle\"},{\"attributes\":{\"line_alpha\":0.1,\"line_color\":\"#1f77b4\",\"x\":{\"field\":\"x\"},\"y\":{\"field\":\"y\"}},\"id\":\"5761\",\"type\":\"Line\"},{\"attributes\":{},\"id\":\"5746\",\"type\":\"PanTool\"},{\"attributes\":{\"data_source\":{\"id\":\"5772\",\"type\":\"ColumnDataSource\"},\"glyph\":{\"id\":\"5773\",\"type\":\"Circle\"},\"hover_glyph\":null,\"muted_glyph\":null,\"nonselection_glyph\":{\"id\":\"5774\",\"type\":\"Circle\"},\"selection_glyph\":null,\"view\":{\"id\":\"5776\",\"type\":\"CDSView\"}},\"id\":\"5775\",\"type\":\"GlyphRenderer\"},{\"attributes\":{},\"id\":\"6056\",\"type\":\"Selection\"},{\"attributes\":{},\"id\":\"5747\",\"type\":\"WheelZoomTool\"},{\"attributes\":{\"source\":{\"id\":\"5772\",\"type\":\"ColumnDataSource\"}},\"id\":\"5776\",\"type\":\"CDSView\"},{\"attributes\":{},\"id\":\"6057\",\"type\":\"UnionRenderers\"},{\"attributes\":{\"overlay\":{\"id\":\"5769\",\"type\":\"BoxAnnotation\"}},\"id\":\"5748\",\"type\":\"BoxZoomTool\"},{\"attributes\":{\"callback\":null,\"data\":{\"x\":[\"2000\",\"2001\",\"2002\",\"2003\",\"2004\",\"2005\",\"2006\",\"2007\",\"2008\",\"2009\",\"2010\",\"2011\",\"2012\",\"2013\",\"2014\",\"2015\",\"2016\",\"2017\"],\"y\":[45.758602232258916,44.006185482373866,42.27625112523983,40.52709249788235,38.9627181695033,37.23908287256094,35.71694700311238,34.24378821297313,32.82356542916968,31.505214349340378,30.23549863774606,29.02988830437219,27.850705825641178,26.781110096608014,25.712388491284276,24.682632180401672,23.77423357312919,22.83697035928226]},\"selected\":{\"id\":\"6056\",\"type\":\"Selection\"},\"selection_policy\":{\"id\":\"6057\",\"type\":\"UnionRenderers\"}},\"id\":\"5777\",\"type\":\"ColumnDataSource\"},{\"attributes\":{},\"id\":\"6058\",\"type\":\"Selection\"},{\"attributes\":{},\"id\":\"5749\",\"type\":\"SaveTool\"},{\"attributes\":{\"line_color\":\"#5430F1\",\"x\":{\"field\":\"x\"},\"y\":{\"field\":\"y\"}},\"id\":\"5778\",\"type\":\"Line\"},{\"attributes\":{},\"id\":\"6059\",\"type\":\"UnionRenderers\"},{\"attributes\":{\"text\":\"Mortality rate, infant (per 1,000 live births) weighted against Population, total\"},\"id\":\"5726\",\"type\":\"Title\"},{\"attributes\":{},\"id\":\"5750\",\"type\":\"ResetTool\"}],\"root_ids\":[\"5725\"]},\"title\":\"Bokeh Application\",\"version\":\"1.3.4\"}};\n",
       "  var render_items = [{\"docid\":\"ef73a2ca-d49d-48b8-afca-5149269f9d98\",\"roots\":{\"5725\":\"4394ae79-9be8-4de6-847b-940ee01260f9\"}}];\n",
       "  root.Bokeh.embed.embed_items_notebook(docs_json, render_items);\n",
       "\n",
       "  }\n",
       "  if (root.Bokeh !== undefined) {\n",
       "    embed_document(root);\n",
       "  } else {\n",
       "    var attempts = 0;\n",
       "    var timer = setInterval(function(root) {\n",
       "      if (root.Bokeh !== undefined) {\n",
       "        embed_document(root);\n",
       "        clearInterval(timer);\n",
       "      }\n",
       "      attempts++;\n",
       "      if (attempts > 100) {\n",
       "        console.log(\"Bokeh: ERROR: Unable to run BokehJS code because BokehJS library is missing\");\n",
       "        clearInterval(timer);\n",
       "      }\n",
       "    }, 10, root)\n",
       "  }\n",
       "})(window);"
      ],
      "application/vnd.bokehjs_exec.v0+json": ""
     },
     "metadata": {
      "application/vnd.bokehjs_exec.v0+json": {
       "id": "5725"
      }
     },
     "output_type": "display_data"
    }
   ],
   "source": [
    "# Infant mortality rate\n",
    "years = list(map(str, list(range(2000,2018))))\n",
    "result = show_weighted_average(years, 'SP.DYN.IMRT.IN', 'SP.POP.TOTL', ['LDCs', 'Developing excluding LDCs'])"
   ]
  },
  {
   "cell_type": "markdown",
   "metadata": {
    "slideshow": {
     "slide_type": "slide"
    }
   },
   "source": [
    "# Education and training"
   ]
  },
  {
   "cell_type": "code",
   "execution_count": 20,
   "metadata": {
    "slideshow": {
     "slide_type": "slide"
    }
   },
   "outputs": [
    {
     "data": {
      "text/html": [
       "\n",
       "\n",
       "\n",
       "\n",
       "\n",
       "\n",
       "  <div class=\"bk-root\" id=\"d7d3d0f5-42d0-41d2-a554-58b8155d3142\" data-root-id=\"6145\"></div>\n"
      ]
     },
     "metadata": {},
     "output_type": "display_data"
    },
    {
     "data": {
      "application/javascript": [
       "(function(root) {\n",
       "  function embed_document(root) {\n",
       "    \n",
       "  var docs_json = {\"4998e546-2520-4c75-a352-e0d4cc34db2f\":{\"roots\":{\"references\":[{\"attributes\":{\"below\":[{\"id\":\"6156\",\"type\":\"LinearAxis\"}],\"center\":[{\"id\":\"6160\",\"type\":\"Grid\"},{\"id\":\"6165\",\"type\":\"Grid\"},{\"id\":\"6190\",\"type\":\"Legend\"}],\"left\":[{\"id\":\"6161\",\"type\":\"LinearAxis\"}],\"plot_height\":400,\"plot_width\":800,\"renderers\":[{\"id\":\"6182\",\"type\":\"GlyphRenderer\"},{\"id\":\"6195\",\"type\":\"GlyphRenderer\"}],\"title\":{\"id\":\"6146\",\"type\":\"Title\"},\"toolbar\":{\"id\":\"6172\",\"type\":\"Toolbar\"},\"x_range\":{\"id\":\"6148\",\"type\":\"DataRange1d\"},\"x_scale\":{\"id\":\"6152\",\"type\":\"LinearScale\"},\"y_range\":{\"id\":\"6150\",\"type\":\"DataRange1d\"},\"y_scale\":{\"id\":\"6154\",\"type\":\"LinearScale\"}},\"id\":\"6145\",\"subtype\":\"Figure\",\"type\":\"Plot\"},{\"attributes\":{\"data_source\":{\"id\":\"6192\",\"type\":\"ColumnDataSource\"},\"glyph\":{\"id\":\"6193\",\"type\":\"Circle\"},\"hover_glyph\":null,\"muted_glyph\":null,\"nonselection_glyph\":{\"id\":\"6194\",\"type\":\"Circle\"},\"selection_glyph\":null,\"view\":{\"id\":\"6196\",\"type\":\"CDSView\"}},\"id\":\"6195\",\"type\":\"GlyphRenderer\"},{\"attributes\":{},\"id\":\"6166\",\"type\":\"PanTool\"},{\"attributes\":{\"source\":{\"id\":\"6192\",\"type\":\"ColumnDataSource\"}},\"id\":\"6196\",\"type\":\"CDSView\"},{\"attributes\":{},\"id\":\"6167\",\"type\":\"WheelZoomTool\"},{\"attributes\":{\"overlay\":{\"id\":\"6189\",\"type\":\"BoxAnnotation\"}},\"id\":\"6168\",\"type\":\"BoxZoomTool\"},{\"attributes\":{},\"id\":\"6465\",\"type\":\"Selection\"},{\"attributes\":{},\"id\":\"6169\",\"type\":\"SaveTool\"},{\"attributes\":{},\"id\":\"6466\",\"type\":\"UnionRenderers\"},{\"attributes\":{},\"id\":\"6170\",\"type\":\"ResetTool\"},{\"attributes\":{},\"id\":\"6467\",\"type\":\"Selection\"},{\"attributes\":{\"text\":\"School enrollment, primary (% gross) weighted against Population, total\"},\"id\":\"6146\",\"type\":\"Title\"},{\"attributes\":{},\"id\":\"6171\",\"type\":\"HelpTool\"},{\"attributes\":{\"callback\":null},\"id\":\"6148\",\"type\":\"DataRange1d\"},{\"attributes\":{},\"id\":\"6468\",\"type\":\"UnionRenderers\"},{\"attributes\":{\"active_drag\":\"auto\",\"active_inspect\":\"auto\",\"active_multi\":null,\"active_scroll\":\"auto\",\"active_tap\":\"auto\",\"tools\":[{\"id\":\"6166\",\"type\":\"PanTool\"},{\"id\":\"6167\",\"type\":\"WheelZoomTool\"},{\"id\":\"6168\",\"type\":\"BoxZoomTool\"},{\"id\":\"6169\",\"type\":\"SaveTool\"},{\"id\":\"6170\",\"type\":\"ResetTool\"},{\"id\":\"6171\",\"type\":\"HelpTool\"},{\"id\":\"6197\",\"type\":\"HoverTool\"}]},\"id\":\"6172\",\"type\":\"Toolbar\"},{\"attributes\":{\"callback\":null},\"id\":\"6150\",\"type\":\"DataRange1d\"},{\"attributes\":{\"line_alpha\":0.1,\"line_color\":\"#1f77b4\",\"x\":{\"field\":\"x\"},\"y\":{\"field\":\"y\"}},\"id\":\"6181\",\"type\":\"Line\"},{\"attributes\":{},\"id\":\"6152\",\"type\":\"LinearScale\"},{\"attributes\":{\"line_color\":\"#FA1857\",\"x\":{\"field\":\"x\"},\"y\":{\"field\":\"y\"}},\"id\":\"6180\",\"type\":\"Line\"},{\"attributes\":{\"data_source\":{\"id\":\"6179\",\"type\":\"ColumnDataSource\"},\"glyph\":{\"id\":\"6180\",\"type\":\"Line\"},\"hover_glyph\":null,\"muted_glyph\":null,\"nonselection_glyph\":{\"id\":\"6181\",\"type\":\"Line\"},\"selection_glyph\":null,\"view\":{\"id\":\"6183\",\"type\":\"CDSView\"}},\"id\":\"6182\",\"type\":\"GlyphRenderer\"},{\"attributes\":{},\"id\":\"6154\",\"type\":\"LinearScale\"},{\"attributes\":{\"source\":{\"id\":\"6179\",\"type\":\"ColumnDataSource\"}},\"id\":\"6183\",\"type\":\"CDSView\"},{\"attributes\":{\"axis_label\":\"Years\",\"formatter\":{\"id\":\"6186\",\"type\":\"BasicTickFormatter\"},\"ticker\":{\"id\":\"6157\",\"type\":\"BasicTicker\"}},\"id\":\"6156\",\"type\":\"LinearAxis\"},{\"attributes\":{},\"id\":\"6186\",\"type\":\"BasicTickFormatter\"},{\"attributes\":{},\"id\":\"6157\",\"type\":\"BasicTicker\"},{\"attributes\":{},\"id\":\"6188\",\"type\":\"BasicTickFormatter\"},{\"attributes\":{\"grid_line_color\":null,\"ticker\":{\"id\":\"6157\",\"type\":\"BasicTicker\"}},\"id\":\"6160\",\"type\":\"Grid\"},{\"attributes\":{\"bottom_units\":\"screen\",\"fill_alpha\":{\"value\":0.5},\"fill_color\":{\"value\":\"lightgrey\"},\"left_units\":\"screen\",\"level\":\"overlay\",\"line_alpha\":{\"value\":1.0},\"line_color\":{\"value\":\"black\"},\"line_dash\":[4,4],\"line_width\":{\"value\":2},\"render_mode\":\"css\",\"right_units\":\"screen\",\"top_units\":\"screen\"},\"id\":\"6189\",\"type\":\"BoxAnnotation\"},{\"attributes\":{\"axis_label\":\"SE.PRM.ENRR\",\"formatter\":{\"id\":\"6188\",\"type\":\"BasicTickFormatter\"},\"ticker\":{\"id\":\"6162\",\"type\":\"BasicTicker\"}},\"id\":\"6161\",\"type\":\"LinearAxis\"},{\"attributes\":{\"items\":[{\"id\":\"6191\",\"type\":\"LegendItem\"}],\"location\":\"bottom_left\"},\"id\":\"6190\",\"type\":\"Legend\"},{\"attributes\":{},\"id\":\"6162\",\"type\":\"BasicTicker\"},{\"attributes\":{\"label\":{\"value\":\"LDCs\"},\"renderers\":[{\"id\":\"6182\",\"type\":\"GlyphRenderer\"}]},\"id\":\"6191\",\"type\":\"LegendItem\"},{\"attributes\":{\"dimension\":1,\"grid_line_alpha\":0.5,\"ticker\":{\"id\":\"6162\",\"type\":\"BasicTicker\"}},\"id\":\"6165\",\"type\":\"Grid\"},{\"attributes\":{\"callback\":null,\"data\":{\"x\":[\"2011\",\"2016\"],\"y\":[103.84465214472975,103.8640406838448]},\"selected\":{\"id\":\"6467\",\"type\":\"Selection\"},\"selection_policy\":{\"id\":\"6468\",\"type\":\"UnionRenderers\"}},\"id\":\"6192\",\"type\":\"ColumnDataSource\"},{\"attributes\":{\"callback\":null,\"data\":{\"x\":[\"2011\",\"2016\"],\"y\":[103.84465214472975,103.8640406838448]},\"selected\":{\"id\":\"6465\",\"type\":\"Selection\"},\"selection_policy\":{\"id\":\"6466\",\"type\":\"UnionRenderers\"}},\"id\":\"6179\",\"type\":\"ColumnDataSource\"},{\"attributes\":{\"fill_color\":{\"value\":\"#FA1857\"},\"line_color\":{\"value\":\"#FA1857\"},\"line_width\":{\"value\":3},\"x\":{\"field\":\"x\"},\"y\":{\"field\":\"y\"}},\"id\":\"6193\",\"type\":\"Circle\"},{\"attributes\":{\"callback\":null,\"tooltips\":\"                \\n        <div style=padding=5px>Year:@x</div>\\n        <div style=padding=5px>Value:@y</div>        \\n        \"},\"id\":\"6197\",\"type\":\"HoverTool\"},{\"attributes\":{\"fill_alpha\":{\"value\":0.1},\"fill_color\":{\"value\":\"#1f77b4\"},\"line_alpha\":{\"value\":0.1},\"line_color\":{\"value\":\"#1f77b4\"},\"line_width\":{\"value\":3},\"x\":{\"field\":\"x\"},\"y\":{\"field\":\"y\"}},\"id\":\"6194\",\"type\":\"Circle\"}],\"root_ids\":[\"6145\"]},\"title\":\"Bokeh Application\",\"version\":\"1.3.4\"}};\n",
       "  var render_items = [{\"docid\":\"4998e546-2520-4c75-a352-e0d4cc34db2f\",\"roots\":{\"6145\":\"d7d3d0f5-42d0-41d2-a554-58b8155d3142\"}}];\n",
       "  root.Bokeh.embed.embed_items_notebook(docs_json, render_items);\n",
       "\n",
       "  }\n",
       "  if (root.Bokeh !== undefined) {\n",
       "    embed_document(root);\n",
       "  } else {\n",
       "    var attempts = 0;\n",
       "    var timer = setInterval(function(root) {\n",
       "      if (root.Bokeh !== undefined) {\n",
       "        embed_document(root);\n",
       "        clearInterval(timer);\n",
       "      }\n",
       "      attempts++;\n",
       "      if (attempts > 100) {\n",
       "        console.log(\"Bokeh: ERROR: Unable to run BokehJS code because BokehJS library is missing\");\n",
       "        clearInterval(timer);\n",
       "      }\n",
       "    }, 10, root)\n",
       "  }\n",
       "})(window);"
      ],
      "application/vnd.bokehjs_exec.v0+json": ""
     },
     "metadata": {
      "application/vnd.bokehjs_exec.v0+json": {
       "id": "6145"
      }
     },
     "output_type": "display_data"
    }
   ],
   "source": [
    "# School enrollment, primary\n",
    "years = ['2011', '2016']\n",
    "result = show_weighted_average(years, 'SE.PRM.ENRR', 'SP.POP.TOTL', \n",
    "                               ['LDCs'])"
   ]
  },
  {
   "cell_type": "code",
   "execution_count": 21,
   "metadata": {
    "slideshow": {
     "slide_type": "slide"
    }
   },
   "outputs": [
    {
     "data": {
      "text/html": [
       "\n",
       "\n",
       "\n",
       "\n",
       "\n",
       "\n",
       "  <div class=\"bk-root\" id=\"0ce45832-1b42-434c-b130-ac06a47a1a8a\" data-root-id=\"6530\"></div>\n"
      ]
     },
     "metadata": {},
     "output_type": "display_data"
    },
    {
     "data": {
      "application/javascript": [
       "(function(root) {\n",
       "  function embed_document(root) {\n",
       "    \n",
       "  var docs_json = {\"46cd4c9b-456e-4854-8660-4f42f4bda0a8\":{\"roots\":{\"references\":[{\"attributes\":{\"below\":[{\"id\":\"6541\",\"type\":\"LinearAxis\"}],\"center\":[{\"id\":\"6545\",\"type\":\"Grid\"},{\"id\":\"6550\",\"type\":\"Grid\"},{\"id\":\"6575\",\"type\":\"Legend\"}],\"left\":[{\"id\":\"6546\",\"type\":\"LinearAxis\"}],\"plot_height\":400,\"plot_width\":800,\"renderers\":[{\"id\":\"6567\",\"type\":\"GlyphRenderer\"},{\"id\":\"6580\",\"type\":\"GlyphRenderer\"},{\"id\":\"6585\",\"type\":\"GlyphRenderer\"},{\"id\":\"6601\",\"type\":\"GlyphRenderer\"},{\"id\":\"6606\",\"type\":\"GlyphRenderer\"},{\"id\":\"6626\",\"type\":\"GlyphRenderer\"}],\"title\":{\"id\":\"6531\",\"type\":\"Title\"},\"toolbar\":{\"id\":\"6557\",\"type\":\"Toolbar\"},\"x_range\":{\"id\":\"6533\",\"type\":\"DataRange1d\"},\"x_scale\":{\"id\":\"6537\",\"type\":\"LinearScale\"},\"y_range\":{\"id\":\"6535\",\"type\":\"DataRange1d\"},\"y_scale\":{\"id\":\"6539\",\"type\":\"LinearScale\"}},\"id\":\"6530\",\"subtype\":\"Figure\",\"type\":\"Plot\"},{\"attributes\":{},\"id\":\"6537\",\"type\":\"LinearScale\"},{\"attributes\":{\"fill_alpha\":{\"value\":0.1},\"fill_color\":{\"value\":\"#1f77b4\"},\"line_alpha\":{\"value\":0.1},\"line_color\":{\"value\":\"#1f77b4\"},\"line_width\":{\"value\":3},\"x\":{\"field\":\"x\"},\"y\":{\"field\":\"y\"}},\"id\":\"6625\",\"type\":\"Circle\"},{\"attributes\":{},\"id\":\"6592\",\"type\":\"Selection\"},{\"attributes\":{\"items\":[{\"id\":\"6576\",\"type\":\"LegendItem\"},{\"id\":\"6597\",\"type\":\"LegendItem\"},{\"id\":\"6622\",\"type\":\"LegendItem\"}],\"location\":\"bottom_left\"},\"id\":\"6575\",\"type\":\"Legend\"},{\"attributes\":{\"callback\":null,\"data\":{\"x\":[\"2010\",\"2011\",\"2012\",\"2013\",\"2014\",\"2015\",\"2016\",\"2017\"],\"y\":[74.90445017276772,71.75112419736351,72.57689927409001,74.90223534335082,78.63755961560692,78.89055784854993,79.39678018088793,81.36778617876334]},\"selected\":{\"id\":\"6617\",\"type\":\"Selection\"},\"selection_policy\":{\"id\":\"6618\",\"type\":\"UnionRenderers\"}},\"id\":\"6582\",\"type\":\"ColumnDataSource\"},{\"attributes\":{\"data_source\":{\"id\":\"6603\",\"type\":\"ColumnDataSource\"},\"glyph\":{\"id\":\"6604\",\"type\":\"Line\"},\"hover_glyph\":null,\"muted_glyph\":null,\"nonselection_glyph\":{\"id\":\"6605\",\"type\":\"Line\"},\"selection_glyph\":null,\"view\":{\"id\":\"6607\",\"type\":\"CDSView\"}},\"id\":\"6606\",\"type\":\"GlyphRenderer\"},{\"attributes\":{\"label\":{\"value\":\"UMICs\"},\"renderers\":[{\"id\":\"6606\",\"type\":\"GlyphRenderer\"}]},\"id\":\"6622\",\"type\":\"LegendItem\"},{\"attributes\":{\"fill_alpha\":{\"value\":0.1},\"fill_color\":{\"value\":\"#1f77b4\"},\"line_alpha\":{\"value\":0.1},\"line_color\":{\"value\":\"#1f77b4\"},\"line_width\":{\"value\":3},\"x\":{\"field\":\"x\"},\"y\":{\"field\":\"y\"}},\"id\":\"6600\",\"type\":\"Circle\"},{\"attributes\":{\"line_alpha\":0.1,\"line_color\":\"#1f77b4\",\"x\":{\"field\":\"x\"},\"y\":{\"field\":\"y\"}},\"id\":\"6605\",\"type\":\"Line\"},{\"attributes\":{\"callback\":null},\"id\":\"6535\",\"type\":\"DataRange1d\"},{\"attributes\":{\"data_source\":{\"id\":\"6582\",\"type\":\"ColumnDataSource\"},\"glyph\":{\"id\":\"6583\",\"type\":\"Line\"},\"hover_glyph\":null,\"muted_glyph\":null,\"nonselection_glyph\":{\"id\":\"6584\",\"type\":\"Line\"},\"selection_glyph\":null,\"view\":{\"id\":\"6586\",\"type\":\"CDSView\"}},\"id\":\"6585\",\"type\":\"GlyphRenderer\"},{\"attributes\":{\"source\":{\"id\":\"6623\",\"type\":\"ColumnDataSource\"}},\"id\":\"6627\",\"type\":\"CDSView\"},{\"attributes\":{\"axis_label\":\"Years\",\"formatter\":{\"id\":\"6571\",\"type\":\"BasicTickFormatter\"},\"ticker\":{\"id\":\"6542\",\"type\":\"BasicTicker\"}},\"id\":\"6541\",\"type\":\"LinearAxis\"},{\"attributes\":{},\"id\":\"6573\",\"type\":\"BasicTickFormatter\"},{\"attributes\":{\"line_color\":\"#5430F1\",\"x\":{\"field\":\"x\"},\"y\":{\"field\":\"y\"}},\"id\":\"6583\",\"type\":\"Line\"},{\"attributes\":{\"source\":{\"id\":\"6603\",\"type\":\"ColumnDataSource\"}},\"id\":\"6607\",\"type\":\"CDSView\"},{\"attributes\":{},\"id\":\"6914\",\"type\":\"Selection\"},{\"attributes\":{\"data_source\":{\"id\":\"6598\",\"type\":\"ColumnDataSource\"},\"glyph\":{\"id\":\"6599\",\"type\":\"Circle\"},\"hover_glyph\":null,\"muted_glyph\":null,\"nonselection_glyph\":{\"id\":\"6600\",\"type\":\"Circle\"},\"selection_glyph\":null,\"view\":{\"id\":\"6602\",\"type\":\"CDSView\"}},\"id\":\"6601\",\"type\":\"GlyphRenderer\"},{\"attributes\":{},\"id\":\"6571\",\"type\":\"BasicTickFormatter\"},{\"attributes\":{\"source\":{\"id\":\"6582\",\"type\":\"ColumnDataSource\"}},\"id\":\"6586\",\"type\":\"CDSView\"},{\"attributes\":{\"line_color\":\"#2CC775\",\"x\":{\"field\":\"x\"},\"y\":{\"field\":\"y\"}},\"id\":\"6604\",\"type\":\"Line\"},{\"attributes\":{\"bottom_units\":\"screen\",\"fill_alpha\":{\"value\":0.5},\"fill_color\":{\"value\":\"lightgrey\"},\"left_units\":\"screen\",\"level\":\"overlay\",\"line_alpha\":{\"value\":1.0},\"line_color\":{\"value\":\"black\"},\"line_dash\":[4,4],\"line_width\":{\"value\":2},\"render_mode\":\"css\",\"right_units\":\"screen\",\"top_units\":\"screen\"},\"id\":\"6574\",\"type\":\"BoxAnnotation\"},{\"attributes\":{\"source\":{\"id\":\"6577\",\"type\":\"ColumnDataSource\"}},\"id\":\"6581\",\"type\":\"CDSView\"},{\"attributes\":{\"data_source\":{\"id\":\"6623\",\"type\":\"ColumnDataSource\"},\"glyph\":{\"id\":\"6624\",\"type\":\"Circle\"},\"hover_glyph\":null,\"muted_glyph\":null,\"nonselection_glyph\":{\"id\":\"6625\",\"type\":\"Circle\"},\"selection_glyph\":null,\"view\":{\"id\":\"6627\",\"type\":\"CDSView\"}},\"id\":\"6626\",\"type\":\"GlyphRenderer\"},{\"attributes\":{\"fill_color\":{\"value\":\"#5430F1\"},\"line_color\":{\"value\":\"#5430F1\"},\"line_width\":{\"value\":3},\"x\":{\"field\":\"x\"},\"y\":{\"field\":\"y\"}},\"id\":\"6599\",\"type\":\"Circle\"},{\"attributes\":{\"active_drag\":\"auto\",\"active_inspect\":\"auto\",\"active_multi\":null,\"active_scroll\":\"auto\",\"active_tap\":\"auto\",\"tools\":[{\"id\":\"6551\",\"type\":\"PanTool\"},{\"id\":\"6552\",\"type\":\"WheelZoomTool\"},{\"id\":\"6553\",\"type\":\"BoxZoomTool\"},{\"id\":\"6554\",\"type\":\"SaveTool\"},{\"id\":\"6555\",\"type\":\"ResetTool\"},{\"id\":\"6556\",\"type\":\"HelpTool\"},{\"id\":\"6628\",\"type\":\"HoverTool\"}]},\"id\":\"6557\",\"type\":\"Toolbar\"},{\"attributes\":{\"line_alpha\":0.1,\"line_color\":\"#1f77b4\",\"x\":{\"field\":\"x\"},\"y\":{\"field\":\"y\"}},\"id\":\"6584\",\"type\":\"Line\"},{\"attributes\":{\"axis_label\":\"SE.SEC.ENRR\",\"formatter\":{\"id\":\"6573\",\"type\":\"BasicTickFormatter\"},\"ticker\":{\"id\":\"6547\",\"type\":\"BasicTicker\"}},\"id\":\"6546\",\"type\":\"LinearAxis\"},{\"attributes\":{\"grid_line_color\":null,\"ticker\":{\"id\":\"6542\",\"type\":\"BasicTicker\"}},\"id\":\"6545\",\"type\":\"Grid\"},{\"attributes\":{\"callback\":null},\"id\":\"6533\",\"type\":\"DataRange1d\"},{\"attributes\":{\"label\":{\"value\":\"Developing excluding LDCs\"},\"renderers\":[{\"id\":\"6585\",\"type\":\"GlyphRenderer\"}]},\"id\":\"6597\",\"type\":\"LegendItem\"},{\"attributes\":{},\"id\":\"6916\",\"type\":\"Selection\"},{\"attributes\":{\"fill_alpha\":{\"value\":0.1},\"fill_color\":{\"value\":\"#1f77b4\"},\"line_alpha\":{\"value\":0.1},\"line_color\":{\"value\":\"#1f77b4\"},\"line_width\":{\"value\":3},\"x\":{\"field\":\"x\"},\"y\":{\"field\":\"y\"}},\"id\":\"6579\",\"type\":\"Circle\"},{\"attributes\":{\"callback\":null,\"data\":{\"x\":[\"2010\",\"2011\",\"2012\",\"2013\",\"2014\",\"2015\",\"2016\",\"2017\"],\"y\":[40.71979156217991,41.08937602701584,43.54367808429187,48.02763417723285,42.97302655987665,45.77221151940908,51.781966052740714,52.216689130724404]},\"selected\":{\"id\":\"6592\",\"type\":\"Selection\"},\"selection_policy\":{\"id\":\"6593\",\"type\":\"UnionRenderers\"}},\"id\":\"6564\",\"type\":\"ColumnDataSource\"},{\"attributes\":{},\"id\":\"6554\",\"type\":\"SaveTool\"},{\"attributes\":{},\"id\":\"6620\",\"type\":\"UnionRenderers\"},{\"attributes\":{},\"id\":\"6917\",\"type\":\"UnionRenderers\"},{\"attributes\":{\"callback\":null,\"data\":{\"x\":[\"2010\",\"2011\",\"2012\",\"2013\",\"2014\",\"2015\",\"2016\",\"2017\"],\"y\":[74.90445017276772,71.75112419736351,72.57689927409001,74.90223534335082,78.63755961560692,78.89055784854993,79.39678018088793,81.36778617876334]},\"selected\":{\"id\":\"6619\",\"type\":\"Selection\"},\"selection_policy\":{\"id\":\"6620\",\"type\":\"UnionRenderers\"}},\"id\":\"6598\",\"type\":\"ColumnDataSource\"},{\"attributes\":{\"line_alpha\":0.1,\"line_color\":\"#1f77b4\",\"x\":{\"field\":\"x\"},\"y\":{\"field\":\"y\"}},\"id\":\"6566\",\"type\":\"Line\"},{\"attributes\":{\"data_source\":{\"id\":\"6577\",\"type\":\"ColumnDataSource\"},\"glyph\":{\"id\":\"6578\",\"type\":\"Circle\"},\"hover_glyph\":null,\"muted_glyph\":null,\"nonselection_glyph\":{\"id\":\"6579\",\"type\":\"Circle\"},\"selection_glyph\":null,\"view\":{\"id\":\"6581\",\"type\":\"CDSView\"}},\"id\":\"6580\",\"type\":\"GlyphRenderer\"},{\"attributes\":{\"data_source\":{\"id\":\"6564\",\"type\":\"ColumnDataSource\"},\"glyph\":{\"id\":\"6565\",\"type\":\"Line\"},\"hover_glyph\":null,\"muted_glyph\":null,\"nonselection_glyph\":{\"id\":\"6566\",\"type\":\"Line\"},\"selection_glyph\":null,\"view\":{\"id\":\"6568\",\"type\":\"CDSView\"}},\"id\":\"6567\",\"type\":\"GlyphRenderer\"},{\"attributes\":{},\"id\":\"6542\",\"type\":\"BasicTicker\"},{\"attributes\":{\"line_color\":\"#FA1857\",\"x\":{\"field\":\"x\"},\"y\":{\"field\":\"y\"}},\"id\":\"6565\",\"type\":\"Line\"},{\"attributes\":{},\"id\":\"6552\",\"type\":\"WheelZoomTool\"},{\"attributes\":{\"callback\":null,\"data\":{\"x\":[\"2010\",\"2011\",\"2012\",\"2013\",\"2014\",\"2015\",\"2016\",\"2017\"],\"y\":[88.71326377717656,92.294893020403,92.4176613275317,96.51503896248411,100.42272694876223,101.68265319416062,102.17655795238042,102.51696792001233]},\"selected\":{\"id\":\"6914\",\"type\":\"Selection\"},\"selection_policy\":{\"id\":\"6915\",\"type\":\"UnionRenderers\"}},\"id\":\"6603\",\"type\":\"ColumnDataSource\"},{\"attributes\":{},\"id\":\"6551\",\"type\":\"PanTool\"},{\"attributes\":{},\"id\":\"6595\",\"type\":\"UnionRenderers\"},{\"attributes\":{},\"id\":\"6915\",\"type\":\"UnionRenderers\"},{\"attributes\":{\"dimension\":1,\"grid_line_alpha\":0.5,\"ticker\":{\"id\":\"6547\",\"type\":\"BasicTicker\"}},\"id\":\"6550\",\"type\":\"Grid\"},{\"attributes\":{\"source\":{\"id\":\"6564\",\"type\":\"ColumnDataSource\"}},\"id\":\"6568\",\"type\":\"CDSView\"},{\"attributes\":{\"fill_color\":{\"value\":\"#FA1857\"},\"line_color\":{\"value\":\"#FA1857\"},\"line_width\":{\"value\":3},\"x\":{\"field\":\"x\"},\"y\":{\"field\":\"y\"}},\"id\":\"6578\",\"type\":\"Circle\"},{\"attributes\":{\"overlay\":{\"id\":\"6574\",\"type\":\"BoxAnnotation\"}},\"id\":\"6553\",\"type\":\"BoxZoomTool\"},{\"attributes\":{},\"id\":\"6618\",\"type\":\"UnionRenderers\"},{\"attributes\":{\"callback\":null,\"data\":{\"x\":[\"2010\",\"2011\",\"2012\",\"2013\",\"2014\",\"2015\",\"2016\",\"2017\"],\"y\":[88.71326377717656,92.294893020403,92.4176613275317,96.51503896248411,100.42272694876223,101.68265319416062,102.17655795238042,102.51696792001233]},\"selected\":{\"id\":\"6916\",\"type\":\"Selection\"},\"selection_policy\":{\"id\":\"6917\",\"type\":\"UnionRenderers\"}},\"id\":\"6623\",\"type\":\"ColumnDataSource\"},{\"attributes\":{},\"id\":\"6593\",\"type\":\"UnionRenderers\"},{\"attributes\":{},\"id\":\"6619\",\"type\":\"Selection\"},{\"attributes\":{\"label\":{\"value\":\"LDCs\"},\"renderers\":[{\"id\":\"6567\",\"type\":\"GlyphRenderer\"}]},\"id\":\"6576\",\"type\":\"LegendItem\"},{\"attributes\":{\"fill_color\":{\"value\":\"#2CC775\"},\"line_color\":{\"value\":\"#2CC775\"},\"line_width\":{\"value\":3},\"x\":{\"field\":\"x\"},\"y\":{\"field\":\"y\"}},\"id\":\"6624\",\"type\":\"Circle\"},{\"attributes\":{},\"id\":\"6539\",\"type\":\"LinearScale\"},{\"attributes\":{},\"id\":\"6555\",\"type\":\"ResetTool\"},{\"attributes\":{},\"id\":\"6547\",\"type\":\"BasicTicker\"},{\"attributes\":{\"source\":{\"id\":\"6598\",\"type\":\"ColumnDataSource\"}},\"id\":\"6602\",\"type\":\"CDSView\"},{\"attributes\":{},\"id\":\"6594\",\"type\":\"Selection\"},{\"attributes\":{},\"id\":\"6617\",\"type\":\"Selection\"},{\"attributes\":{\"callback\":null,\"data\":{\"x\":[\"2010\",\"2011\",\"2012\",\"2013\",\"2014\",\"2015\",\"2016\",\"2017\"],\"y\":[40.71979156217991,41.08937602701584,43.54367808429187,48.02763417723285,42.97302655987665,45.77221151940908,51.781966052740714,52.216689130724404]},\"selected\":{\"id\":\"6594\",\"type\":\"Selection\"},\"selection_policy\":{\"id\":\"6595\",\"type\":\"UnionRenderers\"}},\"id\":\"6577\",\"type\":\"ColumnDataSource\"},{\"attributes\":{},\"id\":\"6556\",\"type\":\"HelpTool\"},{\"attributes\":{\"text\":\"School enrollment, secondary (% gross) weighted against Population, total\"},\"id\":\"6531\",\"type\":\"Title\"},{\"attributes\":{\"callback\":null,\"tooltips\":\"                \\n        <div style=padding=5px>Year:@x</div>\\n        <div style=padding=5px>Value:@y</div>        \\n        \"},\"id\":\"6628\",\"type\":\"HoverTool\"}],\"root_ids\":[\"6530\"]},\"title\":\"Bokeh Application\",\"version\":\"1.3.4\"}};\n",
       "  var render_items = [{\"docid\":\"46cd4c9b-456e-4854-8660-4f42f4bda0a8\",\"roots\":{\"6530\":\"0ce45832-1b42-434c-b130-ac06a47a1a8a\"}}];\n",
       "  root.Bokeh.embed.embed_items_notebook(docs_json, render_items);\n",
       "\n",
       "  }\n",
       "  if (root.Bokeh !== undefined) {\n",
       "    embed_document(root);\n",
       "  } else {\n",
       "    var attempts = 0;\n",
       "    var timer = setInterval(function(root) {\n",
       "      if (root.Bokeh !== undefined) {\n",
       "        embed_document(root);\n",
       "        clearInterval(timer);\n",
       "      }\n",
       "      attempts++;\n",
       "      if (attempts > 100) {\n",
       "        console.log(\"Bokeh: ERROR: Unable to run BokehJS code because BokehJS library is missing\");\n",
       "        clearInterval(timer);\n",
       "      }\n",
       "    }, 10, root)\n",
       "  }\n",
       "})(window);"
      ],
      "application/vnd.bokehjs_exec.v0+json": ""
     },
     "metadata": {
      "application/vnd.bokehjs_exec.v0+json": {
       "id": "6530"
      }
     },
     "output_type": "display_data"
    }
   ],
   "source": [
    "# School enrollment, secondary\n",
    "years = list(map(str, list(range(2010,2018))))\n",
    "result = show_weighted_average(years, 'SE.SEC.ENRR', 'SP.POP.TOTL', \n",
    "                               ['LDCs', 'Developing excluding LDCs', 'UMICs'])"
   ]
  },
  {
   "cell_type": "code",
   "execution_count": 22,
   "metadata": {},
   "outputs": [
    {
     "data": {
      "text/html": [
       "<div>\n",
       "<style scoped>\n",
       "    .dataframe tbody tr th:only-of-type {\n",
       "        vertical-align: middle;\n",
       "    }\n",
       "\n",
       "    .dataframe tbody tr th {\n",
       "        vertical-align: top;\n",
       "    }\n",
       "\n",
       "    .dataframe thead th {\n",
       "        text-align: right;\n",
       "    }\n",
       "</style>\n",
       "<table border=\"1\" class=\"dataframe\">\n",
       "  <thead>\n",
       "    <tr style=\"text-align: right;\">\n",
       "      <th></th>\n",
       "      <th>entity</th>\n",
       "      <th>2010.0</th>\n",
       "      <th>2011.0</th>\n",
       "      <th>2012.0</th>\n",
       "      <th>2013.0</th>\n",
       "      <th>2014.0</th>\n",
       "      <th>2015.0</th>\n",
       "      <th>2016.0</th>\n",
       "      <th>2017.0</th>\n",
       "    </tr>\n",
       "  </thead>\n",
       "  <tbody>\n",
       "    <tr>\n",
       "      <th>0</th>\n",
       "      <td>Afghanistan</td>\n",
       "      <td>50.56725</td>\n",
       "      <td>51.75691</td>\n",
       "      <td>53.61805</td>\n",
       "      <td>53.57513</td>\n",
       "      <td>52.58290</td>\n",
       "      <td>52.59281</td>\n",
       "      <td>50.64540</td>\n",
       "      <td>53.79764</td>\n",
       "    </tr>\n",
       "    <tr>\n",
       "      <th>1</th>\n",
       "      <td>Angola</td>\n",
       "      <td>26.25922</td>\n",
       "      <td>26.48254</td>\n",
       "      <td>NaN</td>\n",
       "      <td>NaN</td>\n",
       "      <td>NaN</td>\n",
       "      <td>NaN</td>\n",
       "      <td>50.67148</td>\n",
       "      <td>NaN</td>\n",
       "    </tr>\n",
       "    <tr>\n",
       "      <th>2</th>\n",
       "      <td>Bangladesh</td>\n",
       "      <td>51.63770</td>\n",
       "      <td>52.43137</td>\n",
       "      <td>55.20997</td>\n",
       "      <td>60.16874</td>\n",
       "      <td>NaN</td>\n",
       "      <td>65.62919</td>\n",
       "      <td>71.41584</td>\n",
       "      <td>69.66317</td>\n",
       "    </tr>\n",
       "    <tr>\n",
       "      <th>3</th>\n",
       "      <td>Benin</td>\n",
       "      <td>NaN</td>\n",
       "      <td>49.12759</td>\n",
       "      <td>NaN</td>\n",
       "      <td>55.96562</td>\n",
       "      <td>56.23654</td>\n",
       "      <td>58.84676</td>\n",
       "      <td>59.04252</td>\n",
       "      <td>NaN</td>\n",
       "    </tr>\n",
       "    <tr>\n",
       "      <th>4</th>\n",
       "      <td>Bhutan</td>\n",
       "      <td>63.56648</td>\n",
       "      <td>67.24879</td>\n",
       "      <td>71.69738</td>\n",
       "      <td>75.61265</td>\n",
       "      <td>82.71892</td>\n",
       "      <td>84.01727</td>\n",
       "      <td>85.34537</td>\n",
       "      <td>87.86760</td>\n",
       "    </tr>\n",
       "    <tr>\n",
       "      <th>5</th>\n",
       "      <td>Burkina Faso</td>\n",
       "      <td>21.90269</td>\n",
       "      <td>23.83593</td>\n",
       "      <td>25.93309</td>\n",
       "      <td>28.36596</td>\n",
       "      <td>30.35403</td>\n",
       "      <td>33.71873</td>\n",
       "      <td>35.78715</td>\n",
       "      <td>38.11725</td>\n",
       "    </tr>\n",
       "    <tr>\n",
       "      <th>6</th>\n",
       "      <td>Burundi</td>\n",
       "      <td>23.29063</td>\n",
       "      <td>26.12250</td>\n",
       "      <td>28.71599</td>\n",
       "      <td>33.41147</td>\n",
       "      <td>39.41126</td>\n",
       "      <td>44.34693</td>\n",
       "      <td>47.47817</td>\n",
       "      <td>49.25443</td>\n",
       "    </tr>\n",
       "    <tr>\n",
       "      <th>7</th>\n",
       "      <td>Cambodia</td>\n",
       "      <td>NaN</td>\n",
       "      <td>NaN</td>\n",
       "      <td>NaN</td>\n",
       "      <td>NaN</td>\n",
       "      <td>NaN</td>\n",
       "      <td>NaN</td>\n",
       "      <td>NaN</td>\n",
       "      <td>NaN</td>\n",
       "    </tr>\n",
       "    <tr>\n",
       "      <th>8</th>\n",
       "      <td>Central African Republic</td>\n",
       "      <td>NaN</td>\n",
       "      <td>17.62453</td>\n",
       "      <td>17.39388</td>\n",
       "      <td>NaN</td>\n",
       "      <td>NaN</td>\n",
       "      <td>NaN</td>\n",
       "      <td>15.03944</td>\n",
       "      <td>17.13538</td>\n",
       "    </tr>\n",
       "    <tr>\n",
       "      <th>9</th>\n",
       "      <td>Chad</td>\n",
       "      <td>22.58857</td>\n",
       "      <td>23.06594</td>\n",
       "      <td>22.32109</td>\n",
       "      <td>24.67565</td>\n",
       "      <td>23.03966</td>\n",
       "      <td>22.41506</td>\n",
       "      <td>22.55660</td>\n",
       "      <td>NaN</td>\n",
       "    </tr>\n",
       "    <tr>\n",
       "      <th>10</th>\n",
       "      <td>Comoros</td>\n",
       "      <td>NaN</td>\n",
       "      <td>NaN</td>\n",
       "      <td>NaN</td>\n",
       "      <td>59.98247</td>\n",
       "      <td>61.09057</td>\n",
       "      <td>NaN</td>\n",
       "      <td>NaN</td>\n",
       "      <td>55.51029</td>\n",
       "    </tr>\n",
       "    <tr>\n",
       "      <th>11</th>\n",
       "      <td>Congo, Dem. Rep.</td>\n",
       "      <td>41.21021</td>\n",
       "      <td>43.32061</td>\n",
       "      <td>43.22606</td>\n",
       "      <td>42.90814</td>\n",
       "      <td>45.50179</td>\n",
       "      <td>46.16579</td>\n",
       "      <td>NaN</td>\n",
       "      <td>NaN</td>\n",
       "    </tr>\n",
       "    <tr>\n",
       "      <th>12</th>\n",
       "      <td>Djibouti</td>\n",
       "      <td>NaN</td>\n",
       "      <td>40.86059</td>\n",
       "      <td>43.86173</td>\n",
       "      <td>45.25480</td>\n",
       "      <td>46.17198</td>\n",
       "      <td>46.76042</td>\n",
       "      <td>48.11305</td>\n",
       "      <td>47.84858</td>\n",
       "    </tr>\n",
       "    <tr>\n",
       "      <th>13</th>\n",
       "      <td>Eritrea</td>\n",
       "      <td>51.99333</td>\n",
       "      <td>55.62369</td>\n",
       "      <td>59.33432</td>\n",
       "      <td>59.88955</td>\n",
       "      <td>58.95071</td>\n",
       "      <td>51.82042</td>\n",
       "      <td>NaN</td>\n",
       "      <td>47.49213</td>\n",
       "    </tr>\n",
       "    <tr>\n",
       "      <th>14</th>\n",
       "      <td>Ethiopia</td>\n",
       "      <td>34.83549</td>\n",
       "      <td>36.00415</td>\n",
       "      <td>37.57714</td>\n",
       "      <td>NaN</td>\n",
       "      <td>NaN</td>\n",
       "      <td>34.93947</td>\n",
       "      <td>NaN</td>\n",
       "      <td>NaN</td>\n",
       "    </tr>\n",
       "    <tr>\n",
       "      <th>15</th>\n",
       "      <td>Gambia, The</td>\n",
       "      <td>50.12895</td>\n",
       "      <td>NaN</td>\n",
       "      <td>NaN</td>\n",
       "      <td>NaN</td>\n",
       "      <td>NaN</td>\n",
       "      <td>NaN</td>\n",
       "      <td>NaN</td>\n",
       "      <td>NaN</td>\n",
       "    </tr>\n",
       "    <tr>\n",
       "      <th>16</th>\n",
       "      <td>Guinea</td>\n",
       "      <td>NaN</td>\n",
       "      <td>37.60303</td>\n",
       "      <td>37.80608</td>\n",
       "      <td>NaN</td>\n",
       "      <td>39.33397</td>\n",
       "      <td>NaN</td>\n",
       "      <td>NaN</td>\n",
       "      <td>NaN</td>\n",
       "    </tr>\n",
       "    <tr>\n",
       "      <th>17</th>\n",
       "      <td>Guinea-Bissau</td>\n",
       "      <td>NaN</td>\n",
       "      <td>NaN</td>\n",
       "      <td>NaN</td>\n",
       "      <td>NaN</td>\n",
       "      <td>NaN</td>\n",
       "      <td>NaN</td>\n",
       "      <td>NaN</td>\n",
       "      <td>NaN</td>\n",
       "    </tr>\n",
       "    <tr>\n",
       "      <th>18</th>\n",
       "      <td>Haiti</td>\n",
       "      <td>NaN</td>\n",
       "      <td>NaN</td>\n",
       "      <td>NaN</td>\n",
       "      <td>NaN</td>\n",
       "      <td>NaN</td>\n",
       "      <td>NaN</td>\n",
       "      <td>NaN</td>\n",
       "      <td>NaN</td>\n",
       "    </tr>\n",
       "    <tr>\n",
       "      <th>19</th>\n",
       "      <td>Kiribati</td>\n",
       "      <td>NaN</td>\n",
       "      <td>NaN</td>\n",
       "      <td>NaN</td>\n",
       "      <td>NaN</td>\n",
       "      <td>NaN</td>\n",
       "      <td>NaN</td>\n",
       "      <td>NaN</td>\n",
       "      <td>NaN</td>\n",
       "    </tr>\n",
       "    <tr>\n",
       "      <th>20</th>\n",
       "      <td>Lao PDR</td>\n",
       "      <td>46.95800</td>\n",
       "      <td>45.77709</td>\n",
       "      <td>49.03110</td>\n",
       "      <td>53.20625</td>\n",
       "      <td>58.91762</td>\n",
       "      <td>63.42557</td>\n",
       "      <td>66.30924</td>\n",
       "      <td>67.50950</td>\n",
       "    </tr>\n",
       "    <tr>\n",
       "      <th>21</th>\n",
       "      <td>Lesotho</td>\n",
       "      <td>56.26115</td>\n",
       "      <td>59.76092</td>\n",
       "      <td>62.17588</td>\n",
       "      <td>60.41059</td>\n",
       "      <td>60.21678</td>\n",
       "      <td>60.67609</td>\n",
       "      <td>58.51934</td>\n",
       "      <td>62.01393</td>\n",
       "    </tr>\n",
       "    <tr>\n",
       "      <th>22</th>\n",
       "      <td>Liberia</td>\n",
       "      <td>NaN</td>\n",
       "      <td>46.35526</td>\n",
       "      <td>NaN</td>\n",
       "      <td>NaN</td>\n",
       "      <td>38.57373</td>\n",
       "      <td>37.90350</td>\n",
       "      <td>NaN</td>\n",
       "      <td>NaN</td>\n",
       "    </tr>\n",
       "    <tr>\n",
       "      <th>23</th>\n",
       "      <td>Madagascar</td>\n",
       "      <td>NaN</td>\n",
       "      <td>36.74788</td>\n",
       "      <td>38.11174</td>\n",
       "      <td>NaN</td>\n",
       "      <td>38.35387</td>\n",
       "      <td>38.51202</td>\n",
       "      <td>38.31159</td>\n",
       "      <td>36.90052</td>\n",
       "    </tr>\n",
       "    <tr>\n",
       "      <th>24</th>\n",
       "      <td>Malawi</td>\n",
       "      <td>33.98077</td>\n",
       "      <td>35.08737</td>\n",
       "      <td>35.31964</td>\n",
       "      <td>38.43733</td>\n",
       "      <td>40.21174</td>\n",
       "      <td>40.77254</td>\n",
       "      <td>39.17525</td>\n",
       "      <td>39.89203</td>\n",
       "    </tr>\n",
       "    <tr>\n",
       "      <th>25</th>\n",
       "      <td>Mali</td>\n",
       "      <td>39.28610</td>\n",
       "      <td>41.23256</td>\n",
       "      <td>NaN</td>\n",
       "      <td>41.81767</td>\n",
       "      <td>44.01817</td>\n",
       "      <td>41.72014</td>\n",
       "      <td>42.99298</td>\n",
       "      <td>41.52314</td>\n",
       "    </tr>\n",
       "    <tr>\n",
       "      <th>26</th>\n",
       "      <td>Mauritania</td>\n",
       "      <td>20.75177</td>\n",
       "      <td>22.90338</td>\n",
       "      <td>27.26383</td>\n",
       "      <td>30.10104</td>\n",
       "      <td>30.71410</td>\n",
       "      <td>31.41935</td>\n",
       "      <td>32.67719</td>\n",
       "      <td>32.56554</td>\n",
       "    </tr>\n",
       "    <tr>\n",
       "      <th>27</th>\n",
       "      <td>Mozambique</td>\n",
       "      <td>25.22641</td>\n",
       "      <td>25.99673</td>\n",
       "      <td>25.50679</td>\n",
       "      <td>34.09090</td>\n",
       "      <td>33.37900</td>\n",
       "      <td>33.56939</td>\n",
       "      <td>NaN</td>\n",
       "      <td>35.40672</td>\n",
       "    </tr>\n",
       "    <tr>\n",
       "      <th>28</th>\n",
       "      <td>Myanmar</td>\n",
       "      <td>48.13747</td>\n",
       "      <td>NaN</td>\n",
       "      <td>NaN</td>\n",
       "      <td>NaN</td>\n",
       "      <td>51.78527</td>\n",
       "      <td>NaN</td>\n",
       "      <td>60.31562</td>\n",
       "      <td>64.28116</td>\n",
       "    </tr>\n",
       "    <tr>\n",
       "      <th>29</th>\n",
       "      <td>Nepal</td>\n",
       "      <td>57.63132</td>\n",
       "      <td>60.26435</td>\n",
       "      <td>63.74880</td>\n",
       "      <td>65.35344</td>\n",
       "      <td>66.87903</td>\n",
       "      <td>67.84369</td>\n",
       "      <td>70.77675</td>\n",
       "      <td>74.07729</td>\n",
       "    </tr>\n",
       "    <tr>\n",
       "      <th>30</th>\n",
       "      <td>Niger</td>\n",
       "      <td>13.04247</td>\n",
       "      <td>13.88327</td>\n",
       "      <td>15.05934</td>\n",
       "      <td>16.25382</td>\n",
       "      <td>18.20436</td>\n",
       "      <td>20.09322</td>\n",
       "      <td>23.12497</td>\n",
       "      <td>24.25375</td>\n",
       "    </tr>\n",
       "    <tr>\n",
       "      <th>31</th>\n",
       "      <td>Rwanda</td>\n",
       "      <td>31.61764</td>\n",
       "      <td>35.58722</td>\n",
       "      <td>38.30798</td>\n",
       "      <td>40.71788</td>\n",
       "      <td>40.09128</td>\n",
       "      <td>37.85201</td>\n",
       "      <td>37.27189</td>\n",
       "      <td>38.88265</td>\n",
       "    </tr>\n",
       "    <tr>\n",
       "      <th>32</th>\n",
       "      <td>Sao Tome and Principe</td>\n",
       "      <td>51.76887</td>\n",
       "      <td>50.46499</td>\n",
       "      <td>58.08410</td>\n",
       "      <td>64.52620</td>\n",
       "      <td>75.03774</td>\n",
       "      <td>82.49925</td>\n",
       "      <td>83.19427</td>\n",
       "      <td>89.33812</td>\n",
       "    </tr>\n",
       "    <tr>\n",
       "      <th>33</th>\n",
       "      <td>Senegal</td>\n",
       "      <td>36.22798</td>\n",
       "      <td>41.41708</td>\n",
       "      <td>45.33231</td>\n",
       "      <td>48.12828</td>\n",
       "      <td>50.25535</td>\n",
       "      <td>50.93555</td>\n",
       "      <td>48.81851</td>\n",
       "      <td>46.12492</td>\n",
       "    </tr>\n",
       "    <tr>\n",
       "      <th>34</th>\n",
       "      <td>Sierra Leone</td>\n",
       "      <td>NaN</td>\n",
       "      <td>39.49307</td>\n",
       "      <td>43.99802</td>\n",
       "      <td>38.92121</td>\n",
       "      <td>NaN</td>\n",
       "      <td>39.05758</td>\n",
       "      <td>41.42994</td>\n",
       "      <td>41.79632</td>\n",
       "    </tr>\n",
       "    <tr>\n",
       "      <th>35</th>\n",
       "      <td>Solomon Islands</td>\n",
       "      <td>48.54390</td>\n",
       "      <td>47.75302</td>\n",
       "      <td>48.31938</td>\n",
       "      <td>NaN</td>\n",
       "      <td>NaN</td>\n",
       "      <td>NaN</td>\n",
       "      <td>NaN</td>\n",
       "      <td>NaN</td>\n",
       "    </tr>\n",
       "    <tr>\n",
       "      <th>36</th>\n",
       "      <td>Somalia</td>\n",
       "      <td>NaN</td>\n",
       "      <td>NaN</td>\n",
       "      <td>NaN</td>\n",
       "      <td>NaN</td>\n",
       "      <td>NaN</td>\n",
       "      <td>NaN</td>\n",
       "      <td>NaN</td>\n",
       "      <td>NaN</td>\n",
       "    </tr>\n",
       "    <tr>\n",
       "      <th>37</th>\n",
       "      <td>South Sudan</td>\n",
       "      <td>NaN</td>\n",
       "      <td>9.68862</td>\n",
       "      <td>NaN</td>\n",
       "      <td>NaN</td>\n",
       "      <td>NaN</td>\n",
       "      <td>11.00999</td>\n",
       "      <td>NaN</td>\n",
       "      <td>NaN</td>\n",
       "    </tr>\n",
       "    <tr>\n",
       "      <th>38</th>\n",
       "      <td>Sudan</td>\n",
       "      <td>42.52224</td>\n",
       "      <td>37.55913</td>\n",
       "      <td>41.23274</td>\n",
       "      <td>43.60937</td>\n",
       "      <td>44.85091</td>\n",
       "      <td>45.62371</td>\n",
       "      <td>44.13194</td>\n",
       "      <td>46.62174</td>\n",
       "    </tr>\n",
       "    <tr>\n",
       "      <th>39</th>\n",
       "      <td>Tanzania</td>\n",
       "      <td>31.64975</td>\n",
       "      <td>NaN</td>\n",
       "      <td>NaN</td>\n",
       "      <td>NaN</td>\n",
       "      <td>30.74746</td>\n",
       "      <td>27.14004</td>\n",
       "      <td>26.71446</td>\n",
       "      <td>27.34725</td>\n",
       "    </tr>\n",
       "    <tr>\n",
       "      <th>40</th>\n",
       "      <td>Timor-Leste</td>\n",
       "      <td>62.38997</td>\n",
       "      <td>65.56778</td>\n",
       "      <td>66.79295</td>\n",
       "      <td>65.93543</td>\n",
       "      <td>68.40023</td>\n",
       "      <td>72.38723</td>\n",
       "      <td>77.01401</td>\n",
       "      <td>81.03142</td>\n",
       "    </tr>\n",
       "    <tr>\n",
       "      <th>41</th>\n",
       "      <td>Togo</td>\n",
       "      <td>NaN</td>\n",
       "      <td>55.76332</td>\n",
       "      <td>NaN</td>\n",
       "      <td>NaN</td>\n",
       "      <td>NaN</td>\n",
       "      <td>NaN</td>\n",
       "      <td>NaN</td>\n",
       "      <td>61.84573</td>\n",
       "    </tr>\n",
       "    <tr>\n",
       "      <th>42</th>\n",
       "      <td>Tuvalu</td>\n",
       "      <td>NaN</td>\n",
       "      <td>NaN</td>\n",
       "      <td>NaN</td>\n",
       "      <td>NaN</td>\n",
       "      <td>78.70249</td>\n",
       "      <td>82.84062</td>\n",
       "      <td>71.03099</td>\n",
       "      <td>NaN</td>\n",
       "    </tr>\n",
       "    <tr>\n",
       "      <th>43</th>\n",
       "      <td>Uganda</td>\n",
       "      <td>NaN</td>\n",
       "      <td>NaN</td>\n",
       "      <td>NaN</td>\n",
       "      <td>NaN</td>\n",
       "      <td>NaN</td>\n",
       "      <td>NaN</td>\n",
       "      <td>NaN</td>\n",
       "      <td>NaN</td>\n",
       "    </tr>\n",
       "    <tr>\n",
       "      <th>44</th>\n",
       "      <td>Vanuatu</td>\n",
       "      <td>59.53270</td>\n",
       "      <td>NaN</td>\n",
       "      <td>NaN</td>\n",
       "      <td>NaN</td>\n",
       "      <td>NaN</td>\n",
       "      <td>54.20477</td>\n",
       "      <td>NaN</td>\n",
       "      <td>NaN</td>\n",
       "    </tr>\n",
       "    <tr>\n",
       "      <th>45</th>\n",
       "      <td>Yemen, Rep.</td>\n",
       "      <td>44.08377</td>\n",
       "      <td>46.16090</td>\n",
       "      <td>46.91278</td>\n",
       "      <td>49.27726</td>\n",
       "      <td>NaN</td>\n",
       "      <td>NaN</td>\n",
       "      <td>51.58068</td>\n",
       "      <td>NaN</td>\n",
       "    </tr>\n",
       "    <tr>\n",
       "      <th>46</th>\n",
       "      <td>Zambia</td>\n",
       "      <td>NaN</td>\n",
       "      <td>NaN</td>\n",
       "      <td>NaN</td>\n",
       "      <td>NaN</td>\n",
       "      <td>NaN</td>\n",
       "      <td>NaN</td>\n",
       "      <td>NaN</td>\n",
       "      <td>NaN</td>\n",
       "    </tr>\n",
       "  </tbody>\n",
       "</table>\n",
       "</div>"
      ],
      "text/plain": [
       "                      entity    2010.0    2011.0    2012.0    2013.0  \\\n",
       "0                Afghanistan  50.56725  51.75691  53.61805  53.57513   \n",
       "1                     Angola  26.25922  26.48254       NaN       NaN   \n",
       "2                 Bangladesh  51.63770  52.43137  55.20997  60.16874   \n",
       "3                      Benin       NaN  49.12759       NaN  55.96562   \n",
       "4                     Bhutan  63.56648  67.24879  71.69738  75.61265   \n",
       "5               Burkina Faso  21.90269  23.83593  25.93309  28.36596   \n",
       "6                    Burundi  23.29063  26.12250  28.71599  33.41147   \n",
       "7                   Cambodia       NaN       NaN       NaN       NaN   \n",
       "8   Central African Republic       NaN  17.62453  17.39388       NaN   \n",
       "9                       Chad  22.58857  23.06594  22.32109  24.67565   \n",
       "10                   Comoros       NaN       NaN       NaN  59.98247   \n",
       "11          Congo, Dem. Rep.  41.21021  43.32061  43.22606  42.90814   \n",
       "12                  Djibouti       NaN  40.86059  43.86173  45.25480   \n",
       "13                   Eritrea  51.99333  55.62369  59.33432  59.88955   \n",
       "14                  Ethiopia  34.83549  36.00415  37.57714       NaN   \n",
       "15               Gambia, The  50.12895       NaN       NaN       NaN   \n",
       "16                    Guinea       NaN  37.60303  37.80608       NaN   \n",
       "17             Guinea-Bissau       NaN       NaN       NaN       NaN   \n",
       "18                     Haiti       NaN       NaN       NaN       NaN   \n",
       "19                  Kiribati       NaN       NaN       NaN       NaN   \n",
       "20                   Lao PDR  46.95800  45.77709  49.03110  53.20625   \n",
       "21                   Lesotho  56.26115  59.76092  62.17588  60.41059   \n",
       "22                   Liberia       NaN  46.35526       NaN       NaN   \n",
       "23                Madagascar       NaN  36.74788  38.11174       NaN   \n",
       "24                    Malawi  33.98077  35.08737  35.31964  38.43733   \n",
       "25                      Mali  39.28610  41.23256       NaN  41.81767   \n",
       "26                Mauritania  20.75177  22.90338  27.26383  30.10104   \n",
       "27                Mozambique  25.22641  25.99673  25.50679  34.09090   \n",
       "28                   Myanmar  48.13747       NaN       NaN       NaN   \n",
       "29                     Nepal  57.63132  60.26435  63.74880  65.35344   \n",
       "30                     Niger  13.04247  13.88327  15.05934  16.25382   \n",
       "31                    Rwanda  31.61764  35.58722  38.30798  40.71788   \n",
       "32     Sao Tome and Principe  51.76887  50.46499  58.08410  64.52620   \n",
       "33                   Senegal  36.22798  41.41708  45.33231  48.12828   \n",
       "34              Sierra Leone       NaN  39.49307  43.99802  38.92121   \n",
       "35           Solomon Islands  48.54390  47.75302  48.31938       NaN   \n",
       "36                   Somalia       NaN       NaN       NaN       NaN   \n",
       "37               South Sudan       NaN   9.68862       NaN       NaN   \n",
       "38                     Sudan  42.52224  37.55913  41.23274  43.60937   \n",
       "39                  Tanzania  31.64975       NaN       NaN       NaN   \n",
       "40               Timor-Leste  62.38997  65.56778  66.79295  65.93543   \n",
       "41                      Togo       NaN  55.76332       NaN       NaN   \n",
       "42                    Tuvalu       NaN       NaN       NaN       NaN   \n",
       "43                    Uganda       NaN       NaN       NaN       NaN   \n",
       "44                   Vanuatu  59.53270       NaN       NaN       NaN   \n",
       "45               Yemen, Rep.  44.08377  46.16090  46.91278  49.27726   \n",
       "46                    Zambia       NaN       NaN       NaN       NaN   \n",
       "\n",
       "      2014.0    2015.0    2016.0    2017.0  \n",
       "0   52.58290  52.59281  50.64540  53.79764  \n",
       "1        NaN       NaN  50.67148       NaN  \n",
       "2        NaN  65.62919  71.41584  69.66317  \n",
       "3   56.23654  58.84676  59.04252       NaN  \n",
       "4   82.71892  84.01727  85.34537  87.86760  \n",
       "5   30.35403  33.71873  35.78715  38.11725  \n",
       "6   39.41126  44.34693  47.47817  49.25443  \n",
       "7        NaN       NaN       NaN       NaN  \n",
       "8        NaN       NaN  15.03944  17.13538  \n",
       "9   23.03966  22.41506  22.55660       NaN  \n",
       "10  61.09057       NaN       NaN  55.51029  \n",
       "11  45.50179  46.16579       NaN       NaN  \n",
       "12  46.17198  46.76042  48.11305  47.84858  \n",
       "13  58.95071  51.82042       NaN  47.49213  \n",
       "14       NaN  34.93947       NaN       NaN  \n",
       "15       NaN       NaN       NaN       NaN  \n",
       "16  39.33397       NaN       NaN       NaN  \n",
       "17       NaN       NaN       NaN       NaN  \n",
       "18       NaN       NaN       NaN       NaN  \n",
       "19       NaN       NaN       NaN       NaN  \n",
       "20  58.91762  63.42557  66.30924  67.50950  \n",
       "21  60.21678  60.67609  58.51934  62.01393  \n",
       "22  38.57373  37.90350       NaN       NaN  \n",
       "23  38.35387  38.51202  38.31159  36.90052  \n",
       "24  40.21174  40.77254  39.17525  39.89203  \n",
       "25  44.01817  41.72014  42.99298  41.52314  \n",
       "26  30.71410  31.41935  32.67719  32.56554  \n",
       "27  33.37900  33.56939       NaN  35.40672  \n",
       "28  51.78527       NaN  60.31562  64.28116  \n",
       "29  66.87903  67.84369  70.77675  74.07729  \n",
       "30  18.20436  20.09322  23.12497  24.25375  \n",
       "31  40.09128  37.85201  37.27189  38.88265  \n",
       "32  75.03774  82.49925  83.19427  89.33812  \n",
       "33  50.25535  50.93555  48.81851  46.12492  \n",
       "34       NaN  39.05758  41.42994  41.79632  \n",
       "35       NaN       NaN       NaN       NaN  \n",
       "36       NaN       NaN       NaN       NaN  \n",
       "37       NaN  11.00999       NaN       NaN  \n",
       "38  44.85091  45.62371  44.13194  46.62174  \n",
       "39  30.74746  27.14004  26.71446  27.34725  \n",
       "40  68.40023  72.38723  77.01401  81.03142  \n",
       "41       NaN       NaN       NaN  61.84573  \n",
       "42  78.70249  82.84062  71.03099       NaN  \n",
       "43       NaN       NaN       NaN       NaN  \n",
       "44       NaN  54.20477       NaN       NaN  \n",
       "45       NaN       NaN  51.58068       NaN  \n",
       "46       NaN       NaN       NaN       NaN  "
      ]
     },
     "execution_count": 22,
     "metadata": {},
     "output_type": "execute_result"
    }
   ],
   "source": [
    "get_wb_tb(years, 'SE.SEC.ENRR', [['LDCs']]).as_pandas()"
   ]
  },
  {
   "cell_type": "code",
   "execution_count": 23,
   "metadata": {
    "ExecuteTime": {
     "end_time": "2019-10-25T14:25:38.329630Z",
     "start_time": "2019-10-25T14:25:37.469130Z"
    },
    "slideshow": {
     "slide_type": "slide"
    }
   },
   "outputs": [
    {
     "data": {
      "text/html": [
       "\n",
       "\n",
       "\n",
       "\n",
       "\n",
       "\n",
       "  <div class=\"bk-root\" id=\"0a938eed-e222-46f2-b898-af30edcf6baf\" data-root-id=\"7027\"></div>\n"
      ]
     },
     "metadata": {},
     "output_type": "display_data"
    },
    {
     "data": {
      "application/javascript": [
       "(function(root) {\n",
       "  function embed_document(root) {\n",
       "    \n",
       "  var docs_json = {\"a32ca393-407e-4c2e-95be-e7feb11bcf37\":{\"roots\":{\"references\":[{\"attributes\":{\"below\":[{\"id\":\"7038\",\"type\":\"LinearAxis\"}],\"center\":[{\"id\":\"7042\",\"type\":\"Grid\"},{\"id\":\"7047\",\"type\":\"Grid\"},{\"id\":\"7072\",\"type\":\"Legend\"}],\"left\":[{\"id\":\"7043\",\"type\":\"LinearAxis\"}],\"plot_height\":400,\"plot_width\":800,\"renderers\":[{\"id\":\"7064\",\"type\":\"GlyphRenderer\"},{\"id\":\"7077\",\"type\":\"GlyphRenderer\"},{\"id\":\"7082\",\"type\":\"GlyphRenderer\"},{\"id\":\"7098\",\"type\":\"GlyphRenderer\"},{\"id\":\"7103\",\"type\":\"GlyphRenderer\"},{\"id\":\"7123\",\"type\":\"GlyphRenderer\"}],\"title\":{\"id\":\"7028\",\"type\":\"Title\"},\"toolbar\":{\"id\":\"7054\",\"type\":\"Toolbar\"},\"x_range\":{\"id\":\"7030\",\"type\":\"DataRange1d\"},\"x_scale\":{\"id\":\"7034\",\"type\":\"LinearScale\"},\"y_range\":{\"id\":\"7032\",\"type\":\"DataRange1d\"},\"y_scale\":{\"id\":\"7036\",\"type\":\"LinearScale\"}},\"id\":\"7027\",\"subtype\":\"Figure\",\"type\":\"Plot\"},{\"attributes\":{\"line_color\":\"#FA1857\",\"x\":{\"field\":\"x\"},\"y\":{\"field\":\"y\"}},\"id\":\"7062\",\"type\":\"Line\"},{\"attributes\":{},\"id\":\"7429\",\"type\":\"Selection\"},{\"attributes\":{\"bottom_units\":\"screen\",\"fill_alpha\":{\"value\":0.5},\"fill_color\":{\"value\":\"lightgrey\"},\"left_units\":\"screen\",\"level\":\"overlay\",\"line_alpha\":{\"value\":1.0},\"line_color\":{\"value\":\"black\"},\"line_dash\":[4,4],\"line_width\":{\"value\":2},\"render_mode\":\"css\",\"right_units\":\"screen\",\"top_units\":\"screen\"},\"id\":\"7071\",\"type\":\"BoxAnnotation\"},{\"attributes\":{},\"id\":\"7091\",\"type\":\"Selection\"},{\"attributes\":{\"callback\":null,\"data\":{\"x\":[\"2010\",\"2011\",\"2012\",\"2013\",\"2014\"],\"y\":[7.216305888899169,9.238597293740812,9.286933356659,8.843198313346274,10.341316695036003]},\"selected\":{\"id\":\"7089\",\"type\":\"Selection\"},\"selection_policy\":{\"id\":\"7090\",\"type\":\"UnionRenderers\"}},\"id\":\"7061\",\"type\":\"ColumnDataSource\"},{\"attributes\":{},\"id\":\"7431\",\"type\":\"Selection\"},{\"attributes\":{\"label\":{\"value\":\"UMICs\"},\"renderers\":[{\"id\":\"7103\",\"type\":\"GlyphRenderer\"}]},\"id\":\"7119\",\"type\":\"LegendItem\"},{\"attributes\":{\"callback\":null,\"tooltips\":\"                \\n        <div style=padding=5px>Year:@x</div>\\n        <div style=padding=5px>Value:@y</div>        \\n        \"},\"id\":\"7125\",\"type\":\"HoverTool\"},{\"attributes\":{\"items\":[{\"id\":\"7073\",\"type\":\"LegendItem\"},{\"id\":\"7094\",\"type\":\"LegendItem\"},{\"id\":\"7119\",\"type\":\"LegendItem\"}],\"location\":\"bottom_left\"},\"id\":\"7072\",\"type\":\"Legend\"},{\"attributes\":{},\"id\":\"7090\",\"type\":\"UnionRenderers\"},{\"attributes\":{},\"id\":\"7430\",\"type\":\"UnionRenderers\"},{\"attributes\":{},\"id\":\"7048\",\"type\":\"PanTool\"},{\"attributes\":{},\"id\":\"7092\",\"type\":\"UnionRenderers\"},{\"attributes\":{\"callback\":null,\"data\":{\"x\":[\"2010\",\"2011\",\"2012\",\"2013\",\"2014\"],\"y\":[29.578342099714497,35.0387071416137,36.79347919201178,39.400822883016104,45.87742349232858]},\"selected\":{\"id\":\"7431\",\"type\":\"Selection\"},\"selection_policy\":{\"id\":\"7432\",\"type\":\"UnionRenderers\"}},\"id\":\"7120\",\"type\":\"ColumnDataSource\"},{\"attributes\":{\"label\":{\"value\":\"LDCs\"},\"renderers\":[{\"id\":\"7064\",\"type\":\"GlyphRenderer\"}]},\"id\":\"7073\",\"type\":\"LegendItem\"},{\"attributes\":{},\"id\":\"7432\",\"type\":\"UnionRenderers\"},{\"attributes\":{\"callback\":null,\"data\":{\"x\":[\"2010\",\"2011\",\"2012\",\"2013\",\"2014\"],\"y\":[23.513041688550018,26.0163518298774,28.653839513727956,29.991015174173807,34.20514037096847]},\"selected\":{\"id\":\"7116\",\"type\":\"Selection\"},\"selection_policy\":{\"id\":\"7117\",\"type\":\"UnionRenderers\"}},\"id\":\"7095\",\"type\":\"ColumnDataSource\"},{\"attributes\":{\"fill_color\":{\"value\":\"#2CC775\"},\"line_color\":{\"value\":\"#2CC775\"},\"line_width\":{\"value\":3},\"x\":{\"field\":\"x\"},\"y\":{\"field\":\"y\"}},\"id\":\"7121\",\"type\":\"Circle\"},{\"attributes\":{\"fill_color\":{\"value\":\"#FA1857\"},\"line_color\":{\"value\":\"#FA1857\"},\"line_width\":{\"value\":3},\"x\":{\"field\":\"x\"},\"y\":{\"field\":\"y\"}},\"id\":\"7075\",\"type\":\"Circle\"},{\"attributes\":{},\"id\":\"7049\",\"type\":\"WheelZoomTool\"},{\"attributes\":{\"data_source\":{\"id\":\"7074\",\"type\":\"ColumnDataSource\"},\"glyph\":{\"id\":\"7075\",\"type\":\"Circle\"},\"hover_glyph\":null,\"muted_glyph\":null,\"nonselection_glyph\":{\"id\":\"7076\",\"type\":\"Circle\"},\"selection_glyph\":null,\"view\":{\"id\":\"7078\",\"type\":\"CDSView\"}},\"id\":\"7077\",\"type\":\"GlyphRenderer\"},{\"attributes\":{\"label\":{\"value\":\"Developing excluding LDCs\"},\"renderers\":[{\"id\":\"7082\",\"type\":\"GlyphRenderer\"}]},\"id\":\"7094\",\"type\":\"LegendItem\"},{\"attributes\":{\"fill_alpha\":{\"value\":0.1},\"fill_color\":{\"value\":\"#1f77b4\"},\"line_alpha\":{\"value\":0.1},\"line_color\":{\"value\":\"#1f77b4\"},\"line_width\":{\"value\":3},\"x\":{\"field\":\"x\"},\"y\":{\"field\":\"y\"}},\"id\":\"7122\",\"type\":\"Circle\"},{\"attributes\":{\"callback\":null,\"data\":{\"x\":[\"2010\",\"2011\",\"2012\",\"2013\",\"2014\"],\"y\":[7.216305888899169,9.238597293740812,9.286933356659,8.843198313346274,10.341316695036003]},\"selected\":{\"id\":\"7091\",\"type\":\"Selection\"},\"selection_policy\":{\"id\":\"7092\",\"type\":\"UnionRenderers\"}},\"id\":\"7074\",\"type\":\"ColumnDataSource\"},{\"attributes\":{\"overlay\":{\"id\":\"7071\",\"type\":\"BoxAnnotation\"}},\"id\":\"7050\",\"type\":\"BoxZoomTool\"},{\"attributes\":{\"data_source\":{\"id\":\"7120\",\"type\":\"ColumnDataSource\"},\"glyph\":{\"id\":\"7121\",\"type\":\"Circle\"},\"hover_glyph\":null,\"muted_glyph\":null,\"nonselection_glyph\":{\"id\":\"7122\",\"type\":\"Circle\"},\"selection_glyph\":null,\"view\":{\"id\":\"7124\",\"type\":\"CDSView\"}},\"id\":\"7123\",\"type\":\"GlyphRenderer\"},{\"attributes\":{\"fill_color\":{\"value\":\"#5430F1\"},\"line_color\":{\"value\":\"#5430F1\"},\"line_width\":{\"value\":3},\"x\":{\"field\":\"x\"},\"y\":{\"field\":\"y\"}},\"id\":\"7096\",\"type\":\"Circle\"},{\"attributes\":{},\"id\":\"7051\",\"type\":\"SaveTool\"},{\"attributes\":{\"data_source\":{\"id\":\"7095\",\"type\":\"ColumnDataSource\"},\"glyph\":{\"id\":\"7096\",\"type\":\"Circle\"},\"hover_glyph\":null,\"muted_glyph\":null,\"nonselection_glyph\":{\"id\":\"7097\",\"type\":\"Circle\"},\"selection_glyph\":null,\"view\":{\"id\":\"7099\",\"type\":\"CDSView\"}},\"id\":\"7098\",\"type\":\"GlyphRenderer\"},{\"attributes\":{},\"id\":\"7052\",\"type\":\"ResetTool\"},{\"attributes\":{\"text\":\"School enrollment, tertiary (% gross) weighted against Population, total\"},\"id\":\"7028\",\"type\":\"Title\"},{\"attributes\":{\"fill_alpha\":{\"value\":0.1},\"fill_color\":{\"value\":\"#1f77b4\"},\"line_alpha\":{\"value\":0.1},\"line_color\":{\"value\":\"#1f77b4\"},\"line_width\":{\"value\":3},\"x\":{\"field\":\"x\"},\"y\":{\"field\":\"y\"}},\"id\":\"7097\",\"type\":\"Circle\"},{\"attributes\":{},\"id\":\"7053\",\"type\":\"HelpTool\"},{\"attributes\":{\"callback\":null},\"id\":\"7030\",\"type\":\"DataRange1d\"},{\"attributes\":{},\"id\":\"7070\",\"type\":\"BasicTickFormatter\"},{\"attributes\":{\"active_drag\":\"auto\",\"active_inspect\":\"auto\",\"active_multi\":null,\"active_scroll\":\"auto\",\"active_tap\":\"auto\",\"tools\":[{\"id\":\"7048\",\"type\":\"PanTool\"},{\"id\":\"7049\",\"type\":\"WheelZoomTool\"},{\"id\":\"7050\",\"type\":\"BoxZoomTool\"},{\"id\":\"7051\",\"type\":\"SaveTool\"},{\"id\":\"7052\",\"type\":\"ResetTool\"},{\"id\":\"7053\",\"type\":\"HelpTool\"},{\"id\":\"7125\",\"type\":\"HoverTool\"}]},\"id\":\"7054\",\"type\":\"Toolbar\"},{\"attributes\":{\"source\":{\"id\":\"7095\",\"type\":\"ColumnDataSource\"}},\"id\":\"7099\",\"type\":\"CDSView\"},{\"attributes\":{\"callback\":null},\"id\":\"7032\",\"type\":\"DataRange1d\"},{\"attributes\":{\"line_color\":\"#2CC775\",\"x\":{\"field\":\"x\"},\"y\":{\"field\":\"y\"}},\"id\":\"7101\",\"type\":\"Line\"},{\"attributes\":{},\"id\":\"7034\",\"type\":\"LinearScale\"},{\"attributes\":{\"callback\":null,\"data\":{\"x\":[\"2010\",\"2011\",\"2012\",\"2013\",\"2014\"],\"y\":[29.578342099714497,35.0387071416137,36.79347919201178,39.400822883016104,45.87742349232858]},\"selected\":{\"id\":\"7429\",\"type\":\"Selection\"},\"selection_policy\":{\"id\":\"7430\",\"type\":\"UnionRenderers\"}},\"id\":\"7100\",\"type\":\"ColumnDataSource\"},{\"attributes\":{},\"id\":\"7036\",\"type\":\"LinearScale\"},{\"attributes\":{\"fill_alpha\":{\"value\":0.1},\"fill_color\":{\"value\":\"#1f77b4\"},\"line_alpha\":{\"value\":0.1},\"line_color\":{\"value\":\"#1f77b4\"},\"line_width\":{\"value\":3},\"x\":{\"field\":\"x\"},\"y\":{\"field\":\"y\"}},\"id\":\"7076\",\"type\":\"Circle\"},{\"attributes\":{\"line_alpha\":0.1,\"line_color\":\"#1f77b4\",\"x\":{\"field\":\"x\"},\"y\":{\"field\":\"y\"}},\"id\":\"7102\",\"type\":\"Line\"},{\"attributes\":{\"axis_label\":\"Years\",\"formatter\":{\"id\":\"7068\",\"type\":\"BasicTickFormatter\"},\"ticker\":{\"id\":\"7039\",\"type\":\"BasicTicker\"}},\"id\":\"7038\",\"type\":\"LinearAxis\"},{\"attributes\":{\"source\":{\"id\":\"7074\",\"type\":\"ColumnDataSource\"}},\"id\":\"7078\",\"type\":\"CDSView\"},{\"attributes\":{\"line_color\":\"#5430F1\",\"x\":{\"field\":\"x\"},\"y\":{\"field\":\"y\"}},\"id\":\"7080\",\"type\":\"Line\"},{\"attributes\":{\"source\":{\"id\":\"7100\",\"type\":\"ColumnDataSource\"}},\"id\":\"7104\",\"type\":\"CDSView\"},{\"attributes\":{},\"id\":\"7039\",\"type\":\"BasicTicker\"},{\"attributes\":{\"data_source\":{\"id\":\"7100\",\"type\":\"ColumnDataSource\"},\"glyph\":{\"id\":\"7101\",\"type\":\"Line\"},\"hover_glyph\":null,\"muted_glyph\":null,\"nonselection_glyph\":{\"id\":\"7102\",\"type\":\"Line\"},\"selection_glyph\":null,\"view\":{\"id\":\"7104\",\"type\":\"CDSView\"}},\"id\":\"7103\",\"type\":\"GlyphRenderer\"},{\"attributes\":{\"grid_line_color\":null,\"ticker\":{\"id\":\"7039\",\"type\":\"BasicTicker\"}},\"id\":\"7042\",\"type\":\"Grid\"},{\"attributes\":{},\"id\":\"7114\",\"type\":\"Selection\"},{\"attributes\":{\"line_alpha\":0.1,\"line_color\":\"#1f77b4\",\"x\":{\"field\":\"x\"},\"y\":{\"field\":\"y\"}},\"id\":\"7063\",\"type\":\"Line\"},{\"attributes\":{\"callback\":null,\"data\":{\"x\":[\"2010\",\"2011\",\"2012\",\"2013\",\"2014\"],\"y\":[23.513041688550018,26.0163518298774,28.653839513727956,29.991015174173807,34.20514037096847]},\"selected\":{\"id\":\"7114\",\"type\":\"Selection\"},\"selection_policy\":{\"id\":\"7115\",\"type\":\"UnionRenderers\"}},\"id\":\"7079\",\"type\":\"ColumnDataSource\"},{\"attributes\":{\"data_source\":{\"id\":\"7079\",\"type\":\"ColumnDataSource\"},\"glyph\":{\"id\":\"7080\",\"type\":\"Line\"},\"hover_glyph\":null,\"muted_glyph\":null,\"nonselection_glyph\":{\"id\":\"7081\",\"type\":\"Line\"},\"selection_glyph\":null,\"view\":{\"id\":\"7083\",\"type\":\"CDSView\"}},\"id\":\"7082\",\"type\":\"GlyphRenderer\"},{\"attributes\":{\"axis_label\":\"SE.TER.ENRR\",\"formatter\":{\"id\":\"7070\",\"type\":\"BasicTickFormatter\"},\"ticker\":{\"id\":\"7044\",\"type\":\"BasicTicker\"}},\"id\":\"7043\",\"type\":\"LinearAxis\"},{\"attributes\":{},\"id\":\"7116\",\"type\":\"Selection\"},{\"attributes\":{\"line_alpha\":0.1,\"line_color\":\"#1f77b4\",\"x\":{\"field\":\"x\"},\"y\":{\"field\":\"y\"}},\"id\":\"7081\",\"type\":\"Line\"},{\"attributes\":{\"data_source\":{\"id\":\"7061\",\"type\":\"ColumnDataSource\"},\"glyph\":{\"id\":\"7062\",\"type\":\"Line\"},\"hover_glyph\":null,\"muted_glyph\":null,\"nonselection_glyph\":{\"id\":\"7063\",\"type\":\"Line\"},\"selection_glyph\":null,\"view\":{\"id\":\"7065\",\"type\":\"CDSView\"}},\"id\":\"7064\",\"type\":\"GlyphRenderer\"},{\"attributes\":{},\"id\":\"7044\",\"type\":\"BasicTicker\"},{\"attributes\":{\"source\":{\"id\":\"7079\",\"type\":\"ColumnDataSource\"}},\"id\":\"7083\",\"type\":\"CDSView\"},{\"attributes\":{\"source\":{\"id\":\"7061\",\"type\":\"ColumnDataSource\"}},\"id\":\"7065\",\"type\":\"CDSView\"},{\"attributes\":{},\"id\":\"7115\",\"type\":\"UnionRenderers\"},{\"attributes\":{\"source\":{\"id\":\"7120\",\"type\":\"ColumnDataSource\"}},\"id\":\"7124\",\"type\":\"CDSView\"},{\"attributes\":{},\"id\":\"7117\",\"type\":\"UnionRenderers\"},{\"attributes\":{\"dimension\":1,\"grid_line_alpha\":0.5,\"ticker\":{\"id\":\"7044\",\"type\":\"BasicTicker\"}},\"id\":\"7047\",\"type\":\"Grid\"},{\"attributes\":{},\"id\":\"7068\",\"type\":\"BasicTickFormatter\"},{\"attributes\":{},\"id\":\"7089\",\"type\":\"Selection\"}],\"root_ids\":[\"7027\"]},\"title\":\"Bokeh Application\",\"version\":\"1.3.4\"}};\n",
       "  var render_items = [{\"docid\":\"a32ca393-407e-4c2e-95be-e7feb11bcf37\",\"roots\":{\"7027\":\"0a938eed-e222-46f2-b898-af30edcf6baf\"}}];\n",
       "  root.Bokeh.embed.embed_items_notebook(docs_json, render_items);\n",
       "\n",
       "  }\n",
       "  if (root.Bokeh !== undefined) {\n",
       "    embed_document(root);\n",
       "  } else {\n",
       "    var attempts = 0;\n",
       "    var timer = setInterval(function(root) {\n",
       "      if (root.Bokeh !== undefined) {\n",
       "        embed_document(root);\n",
       "        clearInterval(timer);\n",
       "      }\n",
       "      attempts++;\n",
       "      if (attempts > 100) {\n",
       "        console.log(\"Bokeh: ERROR: Unable to run BokehJS code because BokehJS library is missing\");\n",
       "        clearInterval(timer);\n",
       "      }\n",
       "    }, 10, root)\n",
       "  }\n",
       "})(window);"
      ],
      "application/vnd.bokehjs_exec.v0+json": ""
     },
     "metadata": {
      "application/vnd.bokehjs_exec.v0+json": {
       "id": "7027"
      }
     },
     "output_type": "display_data"
    }
   ],
   "source": [
    "# School enrollment, tertiary\n",
    "years = list(map(str, list(range(2010,2015))))\n",
    "result = show_weighted_average(years, 'SE.TER.ENRR', 'SP.POP.TOTL', \n",
    "                               ['LDCs', 'Developing excluding LDCs', 'UMICs'])"
   ]
  },
  {
   "cell_type": "code",
   "execution_count": 24,
   "metadata": {
    "ExecuteTime": {
     "end_time": "2019-10-25T14:25:43.236189Z",
     "start_time": "2019-10-25T14:25:38.332666Z"
    },
    "slideshow": {
     "slide_type": "slide"
    }
   },
   "outputs": [
    {
     "data": {
      "text/html": [
       "\n",
       "\n",
       "\n",
       "\n",
       "\n",
       "\n",
       "  <div class=\"bk-root\" id=\"a0014a5b-c5cb-44d4-9b34-d7f3c07b8b15\" data-root-id=\"7542\"></div>\n"
      ]
     },
     "metadata": {},
     "output_type": "display_data"
    },
    {
     "data": {
      "application/javascript": [
       "(function(root) {\n",
       "  function embed_document(root) {\n",
       "    \n",
       "  var docs_json = {\"3ce509d1-78de-4f58-b646-429c2adf11d9\":{\"roots\":{\"references\":[{\"attributes\":{\"below\":[{\"id\":\"7553\",\"type\":\"LinearAxis\"}],\"center\":[{\"id\":\"7557\",\"type\":\"Grid\"},{\"id\":\"7562\",\"type\":\"Grid\"},{\"id\":\"7587\",\"type\":\"Legend\"}],\"left\":[{\"id\":\"7558\",\"type\":\"LinearAxis\"}],\"plot_height\":400,\"plot_width\":800,\"renderers\":[{\"id\":\"7579\",\"type\":\"GlyphRenderer\"},{\"id\":\"7592\",\"type\":\"GlyphRenderer\"},{\"id\":\"7597\",\"type\":\"GlyphRenderer\"},{\"id\":\"7613\",\"type\":\"GlyphRenderer\"}],\"title\":{\"id\":\"7543\",\"type\":\"Title\"},\"toolbar\":{\"id\":\"7569\",\"type\":\"Toolbar\"},\"x_range\":{\"id\":\"7545\",\"type\":\"DataRange1d\"},\"x_scale\":{\"id\":\"7549\",\"type\":\"LinearScale\"},\"y_range\":{\"id\":\"7547\",\"type\":\"DataRange1d\"},\"y_scale\":{\"id\":\"7551\",\"type\":\"LinearScale\"}},\"id\":\"7542\",\"subtype\":\"Figure\",\"type\":\"Plot\"},{\"attributes\":{},\"id\":\"7936\",\"type\":\"UnionRenderers\"},{\"attributes\":{},\"id\":\"7559\",\"type\":\"BasicTicker\"},{\"attributes\":{\"items\":[{\"id\":\"7588\",\"type\":\"LegendItem\"},{\"id\":\"7609\",\"type\":\"LegendItem\"}],\"location\":\"bottom_left\"},\"id\":\"7587\",\"type\":\"Legend\"},{\"attributes\":{\"callback\":null,\"tooltips\":\"                \\n        <div style=padding=5px>Year:@x</div>\\n        <div style=padding=5px>Value:@y</div>        \\n        \"},\"id\":\"7615\",\"type\":\"HoverTool\"},{\"attributes\":{\"source\":{\"id\":\"7576\",\"type\":\"ColumnDataSource\"}},\"id\":\"7580\",\"type\":\"CDSView\"},{\"attributes\":{\"callback\":null,\"data\":{\"x\":[\"2000\",\"2001\",\"2002\",\"2003\",\"2004\",\"2005\",\"2006\",\"2007\",\"2008\",\"2009\",\"2010\",\"2011\",\"2012\",\"2013\",\"2014\",\"2015\",\"2016\",\"2017\"],\"y\":[51.520903177485685,46.52493990984674,45.72529764000698,47.0523349681254,48.04905957142995,48.073273979200536,46.88345337680238,45.37851355945308,47.5713037782683,46.94420318527923,44.98718519250169,45.977667340832,43.49825989518141,43.05048551129662,40.19878876980604,41.85413035115011,38.496722137935755,38.768702276413286]},\"selected\":{\"id\":\"7604\",\"type\":\"Selection\"},\"selection_policy\":{\"id\":\"7605\",\"type\":\"UnionRenderers\"}},\"id\":\"7576\",\"type\":\"ColumnDataSource\"},{\"attributes\":{\"grid_line_color\":null,\"ticker\":{\"id\":\"7554\",\"type\":\"BasicTicker\"}},\"id\":\"7557\",\"type\":\"Grid\"},{\"attributes\":{\"fill_alpha\":{\"value\":0.1},\"fill_color\":{\"value\":\"#1f77b4\"},\"line_alpha\":{\"value\":0.1},\"line_color\":{\"value\":\"#1f77b4\"},\"line_width\":{\"value\":3},\"x\":{\"field\":\"x\"},\"y\":{\"field\":\"y\"}},\"id\":\"7591\",\"type\":\"Circle\"},{\"attributes\":{\"label\":{\"value\":\"Developing excluding LDCs\"},\"renderers\":[{\"id\":\"7597\",\"type\":\"GlyphRenderer\"}]},\"id\":\"7609\",\"type\":\"LegendItem\"},{\"attributes\":{\"axis_label\":\"SE.PRM.ENRL.TC.ZS\",\"formatter\":{\"id\":\"7585\",\"type\":\"BasicTickFormatter\"},\"ticker\":{\"id\":\"7559\",\"type\":\"BasicTicker\"}},\"id\":\"7558\",\"type\":\"LinearAxis\"},{\"attributes\":{\"label\":{\"value\":\"LDCs\"},\"renderers\":[{\"id\":\"7579\",\"type\":\"GlyphRenderer\"}]},\"id\":\"7588\",\"type\":\"LegendItem\"},{\"attributes\":{\"line_color\":\"#FA1857\",\"x\":{\"field\":\"x\"},\"y\":{\"field\":\"y\"}},\"id\":\"7577\",\"type\":\"Line\"},{\"attributes\":{\"fill_color\":{\"value\":\"#FA1857\"},\"line_color\":{\"value\":\"#FA1857\"},\"line_width\":{\"value\":3},\"x\":{\"field\":\"x\"},\"y\":{\"field\":\"y\"}},\"id\":\"7590\",\"type\":\"Circle\"},{\"attributes\":{},\"id\":\"7933\",\"type\":\"Selection\"},{\"attributes\":{},\"id\":\"7551\",\"type\":\"LinearScale\"},{\"attributes\":{\"line_color\":\"#5430F1\",\"x\":{\"field\":\"x\"},\"y\":{\"field\":\"y\"}},\"id\":\"7595\",\"type\":\"Line\"},{\"attributes\":{\"dimension\":1,\"grid_line_alpha\":0.5,\"ticker\":{\"id\":\"7559\",\"type\":\"BasicTicker\"}},\"id\":\"7562\",\"type\":\"Grid\"},{\"attributes\":{\"callback\":null,\"data\":{\"x\":[\"2000\",\"2001\",\"2002\",\"2003\",\"2004\",\"2005\",\"2006\",\"2007\",\"2008\",\"2009\",\"2010\",\"2011\",\"2012\",\"2013\",\"2014\",\"2015\",\"2016\",\"2017\"],\"y\":[33.370051835559885,29.57702548330176,33.388901341061164,33.789125730263024,27.622887569846355,27.43513871906223,23.322003949314283,23.173937290806006,22.087389072731586,21.87034331925848,21.56849553016734,25.1902973461321,21.23626220970231,24.160800450151424,24.012498654781346,24.564505025797747,25.205451210762366,24.27522883303202]},\"selected\":{\"id\":\"7935\",\"type\":\"Selection\"},\"selection_policy\":{\"id\":\"7936\",\"type\":\"UnionRenderers\"}},\"id\":\"7610\",\"type\":\"ColumnDataSource\"},{\"attributes\":{\"data_source\":{\"id\":\"7576\",\"type\":\"ColumnDataSource\"},\"glyph\":{\"id\":\"7577\",\"type\":\"Line\"},\"hover_glyph\":null,\"muted_glyph\":null,\"nonselection_glyph\":{\"id\":\"7578\",\"type\":\"Line\"},\"selection_glyph\":null,\"view\":{\"id\":\"7580\",\"type\":\"CDSView\"}},\"id\":\"7579\",\"type\":\"GlyphRenderer\"},{\"attributes\":{\"axis_label\":\"Years\",\"formatter\":{\"id\":\"7583\",\"type\":\"BasicTickFormatter\"},\"ticker\":{\"id\":\"7554\",\"type\":\"BasicTicker\"}},\"id\":\"7553\",\"type\":\"LinearAxis\"},{\"attributes\":{},\"id\":\"7934\",\"type\":\"UnionRenderers\"},{\"attributes\":{\"callback\":null,\"data\":{\"x\":[\"2000\",\"2001\",\"2002\",\"2003\",\"2004\",\"2005\",\"2006\",\"2007\",\"2008\",\"2009\",\"2010\",\"2011\",\"2012\",\"2013\",\"2014\",\"2015\",\"2016\",\"2017\"],\"y\":[51.520903177485685,46.52493990984674,45.72529764000698,47.0523349681254,48.04905957142995,48.073273979200536,46.88345337680238,45.37851355945308,47.5713037782683,46.94420318527923,44.98718519250169,45.977667340832,43.49825989518141,43.05048551129662,40.19878876980604,41.85413035115011,38.496722137935755,38.768702276413286]},\"selected\":{\"id\":\"7606\",\"type\":\"Selection\"},\"selection_policy\":{\"id\":\"7607\",\"type\":\"UnionRenderers\"}},\"id\":\"7589\",\"type\":\"ColumnDataSource\"},{\"attributes\":{},\"id\":\"7554\",\"type\":\"BasicTicker\"},{\"attributes\":{},\"id\":\"7563\",\"type\":\"PanTool\"},{\"attributes\":{\"source\":{\"id\":\"7594\",\"type\":\"ColumnDataSource\"}},\"id\":\"7598\",\"type\":\"CDSView\"},{\"attributes\":{\"callback\":null},\"id\":\"7545\",\"type\":\"DataRange1d\"},{\"attributes\":{\"data_source\":{\"id\":\"7589\",\"type\":\"ColumnDataSource\"},\"glyph\":{\"id\":\"7590\",\"type\":\"Circle\"},\"hover_glyph\":null,\"muted_glyph\":null,\"nonselection_glyph\":{\"id\":\"7591\",\"type\":\"Circle\"},\"selection_glyph\":null,\"view\":{\"id\":\"7593\",\"type\":\"CDSView\"}},\"id\":\"7592\",\"type\":\"GlyphRenderer\"},{\"attributes\":{\"source\":{\"id\":\"7610\",\"type\":\"ColumnDataSource\"}},\"id\":\"7614\",\"type\":\"CDSView\"},{\"attributes\":{\"line_alpha\":0.1,\"line_color\":\"#1f77b4\",\"x\":{\"field\":\"x\"},\"y\":{\"field\":\"y\"}},\"id\":\"7596\",\"type\":\"Line\"},{\"attributes\":{\"callback\":null},\"id\":\"7547\",\"type\":\"DataRange1d\"},{\"attributes\":{},\"id\":\"7567\",\"type\":\"ResetTool\"},{\"attributes\":{\"bottom_units\":\"screen\",\"fill_alpha\":{\"value\":0.5},\"fill_color\":{\"value\":\"lightgrey\"},\"left_units\":\"screen\",\"level\":\"overlay\",\"line_alpha\":{\"value\":1.0},\"line_color\":{\"value\":\"black\"},\"line_dash\":[4,4],\"line_width\":{\"value\":2},\"render_mode\":\"css\",\"right_units\":\"screen\",\"top_units\":\"screen\"},\"id\":\"7586\",\"type\":\"BoxAnnotation\"},{\"attributes\":{},\"id\":\"7549\",\"type\":\"LinearScale\"},{\"attributes\":{\"active_drag\":\"auto\",\"active_inspect\":\"auto\",\"active_multi\":null,\"active_scroll\":\"auto\",\"active_tap\":\"auto\",\"tools\":[{\"id\":\"7563\",\"type\":\"PanTool\"},{\"id\":\"7564\",\"type\":\"WheelZoomTool\"},{\"id\":\"7565\",\"type\":\"BoxZoomTool\"},{\"id\":\"7566\",\"type\":\"SaveTool\"},{\"id\":\"7567\",\"type\":\"ResetTool\"},{\"id\":\"7568\",\"type\":\"HelpTool\"},{\"id\":\"7615\",\"type\":\"HoverTool\"}]},\"id\":\"7569\",\"type\":\"Toolbar\"},{\"attributes\":{},\"id\":\"7566\",\"type\":\"SaveTool\"},{\"attributes\":{\"data_source\":{\"id\":\"7610\",\"type\":\"ColumnDataSource\"},\"glyph\":{\"id\":\"7611\",\"type\":\"Circle\"},\"hover_glyph\":null,\"muted_glyph\":null,\"nonselection_glyph\":{\"id\":\"7612\",\"type\":\"Circle\"},\"selection_glyph\":null,\"view\":{\"id\":\"7614\",\"type\":\"CDSView\"}},\"id\":\"7613\",\"type\":\"GlyphRenderer\"},{\"attributes\":{\"data_source\":{\"id\":\"7594\",\"type\":\"ColumnDataSource\"},\"glyph\":{\"id\":\"7595\",\"type\":\"Line\"},\"hover_glyph\":null,\"muted_glyph\":null,\"nonselection_glyph\":{\"id\":\"7596\",\"type\":\"Line\"},\"selection_glyph\":null,\"view\":{\"id\":\"7598\",\"type\":\"CDSView\"}},\"id\":\"7597\",\"type\":\"GlyphRenderer\"},{\"attributes\":{\"overlay\":{\"id\":\"7586\",\"type\":\"BoxAnnotation\"}},\"id\":\"7565\",\"type\":\"BoxZoomTool\"},{\"attributes\":{\"text\":\"Pupil-teacher ratio, primary weighted against Population, total\"},\"id\":\"7543\",\"type\":\"Title\"},{\"attributes\":{\"line_alpha\":0.1,\"line_color\":\"#1f77b4\",\"x\":{\"field\":\"x\"},\"y\":{\"field\":\"y\"}},\"id\":\"7578\",\"type\":\"Line\"},{\"attributes\":{},\"id\":\"7605\",\"type\":\"UnionRenderers\"},{\"attributes\":{\"callback\":null,\"data\":{\"x\":[\"2000\",\"2001\",\"2002\",\"2003\",\"2004\",\"2005\",\"2006\",\"2007\",\"2008\",\"2009\",\"2010\",\"2011\",\"2012\",\"2013\",\"2014\",\"2015\",\"2016\",\"2017\"],\"y\":[33.370051835559885,29.57702548330176,33.388901341061164,33.789125730263024,27.622887569846355,27.43513871906223,23.322003949314283,23.173937290806006,22.087389072731586,21.87034331925848,21.56849553016734,25.1902973461321,21.23626220970231,24.160800450151424,24.012498654781346,24.564505025797747,25.205451210762366,24.27522883303202]},\"selected\":{\"id\":\"7933\",\"type\":\"Selection\"},\"selection_policy\":{\"id\":\"7934\",\"type\":\"UnionRenderers\"}},\"id\":\"7594\",\"type\":\"ColumnDataSource\"},{\"attributes\":{\"fill_color\":{\"value\":\"#5430F1\"},\"line_color\":{\"value\":\"#5430F1\"},\"line_width\":{\"value\":3},\"x\":{\"field\":\"x\"},\"y\":{\"field\":\"y\"}},\"id\":\"7611\",\"type\":\"Circle\"},{\"attributes\":{},\"id\":\"7607\",\"type\":\"UnionRenderers\"},{\"attributes\":{},\"id\":\"7564\",\"type\":\"WheelZoomTool\"},{\"attributes\":{},\"id\":\"7604\",\"type\":\"Selection\"},{\"attributes\":{},\"id\":\"7935\",\"type\":\"Selection\"},{\"attributes\":{},\"id\":\"7606\",\"type\":\"Selection\"},{\"attributes\":{\"fill_alpha\":{\"value\":0.1},\"fill_color\":{\"value\":\"#1f77b4\"},\"line_alpha\":{\"value\":0.1},\"line_color\":{\"value\":\"#1f77b4\"},\"line_width\":{\"value\":3},\"x\":{\"field\":\"x\"},\"y\":{\"field\":\"y\"}},\"id\":\"7612\",\"type\":\"Circle\"},{\"attributes\":{},\"id\":\"7568\",\"type\":\"HelpTool\"},{\"attributes\":{},\"id\":\"7585\",\"type\":\"BasicTickFormatter\"},{\"attributes\":{},\"id\":\"7583\",\"type\":\"BasicTickFormatter\"},{\"attributes\":{\"source\":{\"id\":\"7589\",\"type\":\"ColumnDataSource\"}},\"id\":\"7593\",\"type\":\"CDSView\"}],\"root_ids\":[\"7542\"]},\"title\":\"Bokeh Application\",\"version\":\"1.3.4\"}};\n",
       "  var render_items = [{\"docid\":\"3ce509d1-78de-4f58-b646-429c2adf11d9\",\"roots\":{\"7542\":\"a0014a5b-c5cb-44d4-9b34-d7f3c07b8b15\"}}];\n",
       "  root.Bokeh.embed.embed_items_notebook(docs_json, render_items);\n",
       "\n",
       "  }\n",
       "  if (root.Bokeh !== undefined) {\n",
       "    embed_document(root);\n",
       "  } else {\n",
       "    var attempts = 0;\n",
       "    var timer = setInterval(function(root) {\n",
       "      if (root.Bokeh !== undefined) {\n",
       "        embed_document(root);\n",
       "        clearInterval(timer);\n",
       "      }\n",
       "      attempts++;\n",
       "      if (attempts > 100) {\n",
       "        console.log(\"Bokeh: ERROR: Unable to run BokehJS code because BokehJS library is missing\");\n",
       "        clearInterval(timer);\n",
       "      }\n",
       "    }, 10, root)\n",
       "  }\n",
       "})(window);"
      ],
      "application/vnd.bokehjs_exec.v0+json": ""
     },
     "metadata": {
      "application/vnd.bokehjs_exec.v0+json": {
       "id": "7542"
      }
     },
     "output_type": "display_data"
    }
   ],
   "source": [
    "# Pupil teacher ratio\n",
    "years = list(map(str, list(range(2000,2018))))\n",
    "result = show_weighted_average(years, 'SE.PRM.ENRL.TC.ZS', 'SP.POP.TOTL', \n",
    "                               ['LDCs', 'Developing excluding LDCs'])"
   ]
  },
  {
   "cell_type": "code",
   "execution_count": 25,
   "metadata": {
    "ExecuteTime": {
     "end_time": "2019-10-25T14:25:45.212387Z",
     "start_time": "2019-10-25T14:25:43.238485Z"
    },
    "scrolled": true
   },
   "outputs": [
    {
     "data": {
      "text/html": [
       "\n",
       "\n",
       "\n",
       "\n",
       "\n",
       "\n",
       "  <div class=\"bk-root\" id=\"6497c427-116b-441b-89bb-565f0e530272\" data-root-id=\"8022\"></div>\n"
      ]
     },
     "metadata": {},
     "output_type": "display_data"
    },
    {
     "data": {
      "application/javascript": [
       "(function(root) {\n",
       "  function embed_document(root) {\n",
       "    \n",
       "  var docs_json = {\"fc522c1b-693f-4dc3-be11-3268ece410e4\":{\"roots\":{\"references\":[{\"attributes\":{\"below\":[{\"id\":\"8033\",\"type\":\"LinearAxis\"}],\"center\":[{\"id\":\"8037\",\"type\":\"Grid\"},{\"id\":\"8042\",\"type\":\"Grid\"},{\"id\":\"8067\",\"type\":\"Legend\"}],\"left\":[{\"id\":\"8038\",\"type\":\"LinearAxis\"}],\"plot_height\":400,\"plot_width\":800,\"renderers\":[{\"id\":\"8059\",\"type\":\"GlyphRenderer\"},{\"id\":\"8072\",\"type\":\"GlyphRenderer\"},{\"id\":\"8077\",\"type\":\"GlyphRenderer\"},{\"id\":\"8093\",\"type\":\"GlyphRenderer\"},{\"id\":\"8098\",\"type\":\"GlyphRenderer\"},{\"id\":\"8118\",\"type\":\"GlyphRenderer\"}],\"title\":{\"id\":\"8023\",\"type\":\"Title\"},\"toolbar\":{\"id\":\"8049\",\"type\":\"Toolbar\"},\"x_range\":{\"id\":\"8025\",\"type\":\"DataRange1d\"},\"x_scale\":{\"id\":\"8029\",\"type\":\"LinearScale\"},\"y_range\":{\"id\":\"8027\",\"type\":\"DataRange1d\"},\"y_scale\":{\"id\":\"8031\",\"type\":\"LinearScale\"}},\"id\":\"8022\",\"subtype\":\"Figure\",\"type\":\"Plot\"},{\"attributes\":{\"callback\":null,\"data\":{\"x\":[\"2005\",\"2006\",\"2007\",\"2008\",\"2009\",\"2010\",\"2011\",\"2012\",\"2013\",\"2014\"],\"y\":[94.93443,95.15333,95.36857,95.04649,95.58816,95.58591,96.00005,95.99993,96.40006,96.78775]},\"selected\":{\"id\":\"8456\",\"type\":\"Selection\"},\"selection_policy\":{\"id\":\"8457\",\"type\":\"UnionRenderers\"}},\"id\":\"8095\",\"type\":\"ColumnDataSource\"},{\"attributes\":{\"dimension\":1,\"grid_line_alpha\":0.5,\"ticker\":{\"id\":\"8039\",\"type\":\"BasicTicker\"}},\"id\":\"8042\",\"type\":\"Grid\"},{\"attributes\":{\"bottom_units\":\"screen\",\"fill_alpha\":{\"value\":0.5},\"fill_color\":{\"value\":\"lightgrey\"},\"left_units\":\"screen\",\"level\":\"overlay\",\"line_alpha\":{\"value\":1.0},\"line_color\":{\"value\":\"black\"},\"line_dash\":[4,4],\"line_width\":{\"value\":2},\"render_mode\":\"css\",\"right_units\":\"screen\",\"top_units\":\"screen\"},\"id\":\"8066\",\"type\":\"BoxAnnotation\"},{\"attributes\":{\"data_source\":{\"id\":\"8069\",\"type\":\"ColumnDataSource\"},\"glyph\":{\"id\":\"8070\",\"type\":\"Circle\"},\"hover_glyph\":null,\"muted_glyph\":null,\"nonselection_glyph\":{\"id\":\"8071\",\"type\":\"Circle\"},\"selection_glyph\":null,\"view\":{\"id\":\"8073\",\"type\":\"CDSView\"}},\"id\":\"8072\",\"type\":\"GlyphRenderer\"},{\"attributes\":{\"callback\":null},\"id\":\"8025\",\"type\":\"DataRange1d\"},{\"attributes\":{\"callback\":null,\"data\":{\"x\":[\"2005\",\"2006\",\"2007\",\"2008\",\"2009\",\"2010\",\"2011\",\"2012\",\"2013\",\"2014\"],\"y\":[94.93443,95.15333,95.36857,95.04649,95.58816,95.58591,96.00005,95.99993,96.40006,96.78775]},\"selected\":{\"id\":\"8458\",\"type\":\"Selection\"},\"selection_policy\":{\"id\":\"8459\",\"type\":\"UnionRenderers\"}},\"id\":\"8115\",\"type\":\"ColumnDataSource\"},{\"attributes\":{},\"id\":\"8039\",\"type\":\"BasicTicker\"},{\"attributes\":{},\"id\":\"8086\",\"type\":\"Selection\"},{\"attributes\":{\"line_color\":\"#5430F1\",\"x\":{\"field\":\"x\"},\"y\":{\"field\":\"y\"}},\"id\":\"8075\",\"type\":\"Line\"},{\"attributes\":{\"line_alpha\":0.1,\"line_color\":\"#1f77b4\",\"x\":{\"field\":\"x\"},\"y\":{\"field\":\"y\"}},\"id\":\"8097\",\"type\":\"Line\"},{\"attributes\":{},\"id\":\"8063\",\"type\":\"BasicTickFormatter\"},{\"attributes\":{\"label\":{\"value\":\"OECD\"},\"renderers\":[{\"id\":\"8098\",\"type\":\"GlyphRenderer\"}]},\"id\":\"8114\",\"type\":\"LegendItem\"},{\"attributes\":{},\"id\":\"8034\",\"type\":\"BasicTicker\"},{\"attributes\":{},\"id\":\"8456\",\"type\":\"Selection\"},{\"attributes\":{\"data_source\":{\"id\":\"8095\",\"type\":\"ColumnDataSource\"},\"glyph\":{\"id\":\"8096\",\"type\":\"Line\"},\"hover_glyph\":null,\"muted_glyph\":null,\"nonselection_glyph\":{\"id\":\"8097\",\"type\":\"Line\"},\"selection_glyph\":null,\"view\":{\"id\":\"8099\",\"type\":\"CDSView\"}},\"id\":\"8098\",\"type\":\"GlyphRenderer\"},{\"attributes\":{},\"id\":\"8046\",\"type\":\"SaveTool\"},{\"attributes\":{\"label\":{\"value\":\"LDCs\"},\"renderers\":[{\"id\":\"8059\",\"type\":\"GlyphRenderer\"}]},\"id\":\"8068\",\"type\":\"LegendItem\"},{\"attributes\":{\"source\":{\"id\":\"8095\",\"type\":\"ColumnDataSource\"}},\"id\":\"8099\",\"type\":\"CDSView\"},{\"attributes\":{\"active_drag\":\"auto\",\"active_inspect\":\"auto\",\"active_multi\":null,\"active_scroll\":\"auto\",\"active_tap\":\"auto\",\"tools\":[{\"id\":\"8043\",\"type\":\"PanTool\"},{\"id\":\"8044\",\"type\":\"WheelZoomTool\"},{\"id\":\"8045\",\"type\":\"BoxZoomTool\"},{\"id\":\"8046\",\"type\":\"SaveTool\"},{\"id\":\"8047\",\"type\":\"ResetTool\"},{\"id\":\"8048\",\"type\":\"HelpTool\"},{\"id\":\"8120\",\"type\":\"HoverTool\"}]},\"id\":\"8049\",\"type\":\"Toolbar\"},{\"attributes\":{\"fill_alpha\":{\"value\":0.1},\"fill_color\":{\"value\":\"#1f77b4\"},\"line_alpha\":{\"value\":0.1},\"line_color\":{\"value\":\"#1f77b4\"},\"line_width\":{\"value\":3},\"x\":{\"field\":\"x\"},\"y\":{\"field\":\"y\"}},\"id\":\"8117\",\"type\":\"Circle\"},{\"attributes\":{\"items\":[{\"id\":\"8068\",\"type\":\"LegendItem\"},{\"id\":\"8089\",\"type\":\"LegendItem\"},{\"id\":\"8114\",\"type\":\"LegendItem\"}],\"location\":\"bottom_left\"},\"id\":\"8067\",\"type\":\"Legend\"},{\"attributes\":{\"overlay\":{\"id\":\"8066\",\"type\":\"BoxAnnotation\"}},\"id\":\"8045\",\"type\":\"BoxZoomTool\"},{\"attributes\":{},\"id\":\"8031\",\"type\":\"LinearScale\"},{\"attributes\":{},\"id\":\"8085\",\"type\":\"UnionRenderers\"},{\"attributes\":{},\"id\":\"8111\",\"type\":\"Selection\"},{\"attributes\":{\"callback\":null,\"data\":{\"x\":[\"2005\",\"2006\",\"2007\",\"2008\",\"2009\",\"2010\",\"2011\",\"2012\",\"2013\",\"2014\"],\"y\":[80.87577512569715,81.85206283992444,90.65145367997155,90.45633728331472,90.59311575791322,84.11460984017013,88.05466307521918,88.90480196152866,90.7249509060436,93.73549200452184]},\"selected\":{\"id\":\"8111\",\"type\":\"Selection\"},\"selection_policy\":{\"id\":\"8112\",\"type\":\"UnionRenderers\"}},\"id\":\"8090\",\"type\":\"ColumnDataSource\"},{\"attributes\":{},\"id\":\"8110\",\"type\":\"UnionRenderers\"},{\"attributes\":{\"data_source\":{\"id\":\"8056\",\"type\":\"ColumnDataSource\"},\"glyph\":{\"id\":\"8057\",\"type\":\"Line\"},\"hover_glyph\":null,\"muted_glyph\":null,\"nonselection_glyph\":{\"id\":\"8058\",\"type\":\"Line\"},\"selection_glyph\":null,\"view\":{\"id\":\"8060\",\"type\":\"CDSView\"}},\"id\":\"8059\",\"type\":\"GlyphRenderer\"},{\"attributes\":{\"callback\":null,\"data\":{\"x\":[\"2005\",\"2006\",\"2007\",\"2008\",\"2009\",\"2010\",\"2011\",\"2012\",\"2013\",\"2014\"],\"y\":[68.04371850481311,75.50888229954143,79.87922435274227,77.81223796007717,80.2435538339136,86.03203145521927,72.05415443808455,83.36058521662818,78.51356437342356,83.36680129582463]},\"selected\":{\"id\":\"8084\",\"type\":\"Selection\"},\"selection_policy\":{\"id\":\"8085\",\"type\":\"UnionRenderers\"}},\"id\":\"8056\",\"type\":\"ColumnDataSource\"},{\"attributes\":{},\"id\":\"8112\",\"type\":\"UnionRenderers\"},{\"attributes\":{\"line_alpha\":0.1,\"line_color\":\"#1f77b4\",\"x\":{\"field\":\"x\"},\"y\":{\"field\":\"y\"}},\"id\":\"8076\",\"type\":\"Line\"},{\"attributes\":{\"fill_color\":{\"value\":\"#2CC775\"},\"line_color\":{\"value\":\"#2CC775\"},\"line_width\":{\"value\":3},\"x\":{\"field\":\"x\"},\"y\":{\"field\":\"y\"}},\"id\":\"8116\",\"type\":\"Circle\"},{\"attributes\":{},\"id\":\"8065\",\"type\":\"BasicTickFormatter\"},{\"attributes\":{\"line_color\":\"#FA1857\",\"x\":{\"field\":\"x\"},\"y\":{\"field\":\"y\"}},\"id\":\"8057\",\"type\":\"Line\"},{\"attributes\":{\"source\":{\"id\":\"8056\",\"type\":\"ColumnDataSource\"}},\"id\":\"8060\",\"type\":\"CDSView\"},{\"attributes\":{},\"id\":\"8087\",\"type\":\"UnionRenderers\"},{\"attributes\":{\"line_color\":\"#2CC775\",\"x\":{\"field\":\"x\"},\"y\":{\"field\":\"y\"}},\"id\":\"8096\",\"type\":\"Line\"},{\"attributes\":{},\"id\":\"8109\",\"type\":\"Selection\"},{\"attributes\":{},\"id\":\"8043\",\"type\":\"PanTool\"},{\"attributes\":{\"axis_label\":\"Years\",\"formatter\":{\"id\":\"8063\",\"type\":\"BasicTickFormatter\"},\"ticker\":{\"id\":\"8034\",\"type\":\"BasicTicker\"}},\"id\":\"8033\",\"type\":\"LinearAxis\"},{\"attributes\":{\"fill_alpha\":{\"value\":0.1},\"fill_color\":{\"value\":\"#1f77b4\"},\"line_alpha\":{\"value\":0.1},\"line_color\":{\"value\":\"#1f77b4\"},\"line_width\":{\"value\":3},\"x\":{\"field\":\"x\"},\"y\":{\"field\":\"y\"}},\"id\":\"8092\",\"type\":\"Circle\"},{\"attributes\":{},\"id\":\"8459\",\"type\":\"UnionRenderers\"},{\"attributes\":{\"data_source\":{\"id\":\"8074\",\"type\":\"ColumnDataSource\"},\"glyph\":{\"id\":\"8075\",\"type\":\"Line\"},\"hover_glyph\":null,\"muted_glyph\":null,\"nonselection_glyph\":{\"id\":\"8076\",\"type\":\"Line\"},\"selection_glyph\":null,\"view\":{\"id\":\"8078\",\"type\":\"CDSView\"}},\"id\":\"8077\",\"type\":\"GlyphRenderer\"},{\"attributes\":{\"text\":\"Trained teachers in primary education (% of total teachers) weighted against Primary education, teachers\"},\"id\":\"8023\",\"type\":\"Title\"},{\"attributes\":{},\"id\":\"8048\",\"type\":\"HelpTool\"},{\"attributes\":{\"callback\":null,\"tooltips\":\"                \\n        <div style=padding=5px>Year:@x</div>\\n        <div style=padding=5px>Value:@y</div>        \\n        \"},\"id\":\"8120\",\"type\":\"HoverTool\"},{\"attributes\":{\"grid_line_color\":null,\"ticker\":{\"id\":\"8034\",\"type\":\"BasicTicker\"}},\"id\":\"8037\",\"type\":\"Grid\"},{\"attributes\":{},\"id\":\"8029\",\"type\":\"LinearScale\"},{\"attributes\":{\"source\":{\"id\":\"8074\",\"type\":\"ColumnDataSource\"}},\"id\":\"8078\",\"type\":\"CDSView\"},{\"attributes\":{\"fill_color\":{\"value\":\"#FA1857\"},\"line_color\":{\"value\":\"#FA1857\"},\"line_width\":{\"value\":3},\"x\":{\"field\":\"x\"},\"y\":{\"field\":\"y\"}},\"id\":\"8070\",\"type\":\"Circle\"},{\"attributes\":{},\"id\":\"8047\",\"type\":\"ResetTool\"},{\"attributes\":{\"source\":{\"id\":\"8115\",\"type\":\"ColumnDataSource\"}},\"id\":\"8119\",\"type\":\"CDSView\"},{\"attributes\":{\"label\":{\"value\":\"Developing excluding LDCs\"},\"renderers\":[{\"id\":\"8077\",\"type\":\"GlyphRenderer\"}]},\"id\":\"8089\",\"type\":\"LegendItem\"},{\"attributes\":{},\"id\":\"8044\",\"type\":\"WheelZoomTool\"},{\"attributes\":{\"source\":{\"id\":\"8069\",\"type\":\"ColumnDataSource\"}},\"id\":\"8073\",\"type\":\"CDSView\"},{\"attributes\":{\"axis_label\":\"SE.PRM.TCAQ.ZS\",\"formatter\":{\"id\":\"8065\",\"type\":\"BasicTickFormatter\"},\"ticker\":{\"id\":\"8039\",\"type\":\"BasicTicker\"}},\"id\":\"8038\",\"type\":\"LinearAxis\"},{\"attributes\":{\"source\":{\"id\":\"8090\",\"type\":\"ColumnDataSource\"}},\"id\":\"8094\",\"type\":\"CDSView\"},{\"attributes\":{\"data_source\":{\"id\":\"8090\",\"type\":\"ColumnDataSource\"},\"glyph\":{\"id\":\"8091\",\"type\":\"Circle\"},\"hover_glyph\":null,\"muted_glyph\":null,\"nonselection_glyph\":{\"id\":\"8092\",\"type\":\"Circle\"},\"selection_glyph\":null,\"view\":{\"id\":\"8094\",\"type\":\"CDSView\"}},\"id\":\"8093\",\"type\":\"GlyphRenderer\"},{\"attributes\":{\"data_source\":{\"id\":\"8115\",\"type\":\"ColumnDataSource\"},\"glyph\":{\"id\":\"8116\",\"type\":\"Circle\"},\"hover_glyph\":null,\"muted_glyph\":null,\"nonselection_glyph\":{\"id\":\"8117\",\"type\":\"Circle\"},\"selection_glyph\":null,\"view\":{\"id\":\"8119\",\"type\":\"CDSView\"}},\"id\":\"8118\",\"type\":\"GlyphRenderer\"},{\"attributes\":{},\"id\":\"8084\",\"type\":\"Selection\"},{\"attributes\":{\"callback\":null},\"id\":\"8027\",\"type\":\"DataRange1d\"},{\"attributes\":{\"fill_alpha\":{\"value\":0.1},\"fill_color\":{\"value\":\"#1f77b4\"},\"line_alpha\":{\"value\":0.1},\"line_color\":{\"value\":\"#1f77b4\"},\"line_width\":{\"value\":3},\"x\":{\"field\":\"x\"},\"y\":{\"field\":\"y\"}},\"id\":\"8071\",\"type\":\"Circle\"},{\"attributes\":{},\"id\":\"8457\",\"type\":\"UnionRenderers\"},{\"attributes\":{\"line_alpha\":0.1,\"line_color\":\"#1f77b4\",\"x\":{\"field\":\"x\"},\"y\":{\"field\":\"y\"}},\"id\":\"8058\",\"type\":\"Line\"},{\"attributes\":{},\"id\":\"8458\",\"type\":\"Selection\"},{\"attributes\":{\"callback\":null,\"data\":{\"x\":[\"2005\",\"2006\",\"2007\",\"2008\",\"2009\",\"2010\",\"2011\",\"2012\",\"2013\",\"2014\"],\"y\":[68.04371850481311,75.50888229954143,79.87922435274227,77.81223796007717,80.2435538339136,86.03203145521927,72.05415443808455,83.36058521662818,78.51356437342356,83.36680129582463]},\"selected\":{\"id\":\"8086\",\"type\":\"Selection\"},\"selection_policy\":{\"id\":\"8087\",\"type\":\"UnionRenderers\"}},\"id\":\"8069\",\"type\":\"ColumnDataSource\"},{\"attributes\":{\"fill_color\":{\"value\":\"#5430F1\"},\"line_color\":{\"value\":\"#5430F1\"},\"line_width\":{\"value\":3},\"x\":{\"field\":\"x\"},\"y\":{\"field\":\"y\"}},\"id\":\"8091\",\"type\":\"Circle\"},{\"attributes\":{\"callback\":null,\"data\":{\"x\":[\"2005\",\"2006\",\"2007\",\"2008\",\"2009\",\"2010\",\"2011\",\"2012\",\"2013\",\"2014\"],\"y\":[80.87577512569715,81.85206283992444,90.65145367997155,90.45633728331472,90.59311575791322,84.11460984017013,88.05466307521918,88.90480196152866,90.7249509060436,93.73549200452184]},\"selected\":{\"id\":\"8109\",\"type\":\"Selection\"},\"selection_policy\":{\"id\":\"8110\",\"type\":\"UnionRenderers\"}},\"id\":\"8074\",\"type\":\"ColumnDataSource\"}],\"root_ids\":[\"8022\"]},\"title\":\"Bokeh Application\",\"version\":\"1.3.4\"}};\n",
       "  var render_items = [{\"docid\":\"fc522c1b-693f-4dc3-be11-3268ece410e4\",\"roots\":{\"8022\":\"6497c427-116b-441b-89bb-565f0e530272\"}}];\n",
       "  root.Bokeh.embed.embed_items_notebook(docs_json, render_items);\n",
       "\n",
       "  }\n",
       "  if (root.Bokeh !== undefined) {\n",
       "    embed_document(root);\n",
       "  } else {\n",
       "    var attempts = 0;\n",
       "    var timer = setInterval(function(root) {\n",
       "      if (root.Bokeh !== undefined) {\n",
       "        embed_document(root);\n",
       "        clearInterval(timer);\n",
       "      }\n",
       "      attempts++;\n",
       "      if (attempts > 100) {\n",
       "        console.log(\"Bokeh: ERROR: Unable to run BokehJS code because BokehJS library is missing\");\n",
       "        clearInterval(timer);\n",
       "      }\n",
       "    }, 10, root)\n",
       "  }\n",
       "})(window);"
      ],
      "application/vnd.bokehjs_exec.v0+json": ""
     },
     "metadata": {
      "application/vnd.bokehjs_exec.v0+json": {
       "id": "8022"
      }
     },
     "output_type": "display_data"
    }
   ],
   "source": [
    "# Trained teachers in primary\n",
    "years = list(map(str, list(range(2005,2015))))\n",
    "result = show_weighted_average(years, 'SE.PRM.TCAQ.ZS', 'SE.PRM.TCHR', \n",
    "                               ['LDCs', 'Developing excluding LDCs', 'OECD'])"
   ]
  },
  {
   "cell_type": "code",
   "execution_count": 26,
   "metadata": {
    "ExecuteTime": {
     "end_time": "2019-10-25T14:25:47.154621Z",
     "start_time": "2019-10-25T14:25:45.217692Z"
    }
   },
   "outputs": [
    {
     "data": {
      "text/html": [
       "\n",
       "\n",
       "\n",
       "\n",
       "\n",
       "\n",
       "  <div class=\"bk-root\" id=\"d13e3f74-4a56-440a-b64b-20defe823036\" data-root-id=\"8569\"></div>\n"
      ]
     },
     "metadata": {},
     "output_type": "display_data"
    },
    {
     "data": {
      "application/javascript": [
       "(function(root) {\n",
       "  function embed_document(root) {\n",
       "    \n",
       "  var docs_json = {\"6abc20eb-898f-4b49-9b4f-10ea52e8c233\":{\"roots\":{\"references\":[{\"attributes\":{\"below\":[{\"id\":\"8580\",\"type\":\"LinearAxis\"}],\"center\":[{\"id\":\"8584\",\"type\":\"Grid\"},{\"id\":\"8589\",\"type\":\"Grid\"},{\"id\":\"8614\",\"type\":\"Legend\"}],\"left\":[{\"id\":\"8585\",\"type\":\"LinearAxis\"}],\"plot_height\":400,\"plot_width\":800,\"renderers\":[{\"id\":\"8606\",\"type\":\"GlyphRenderer\"},{\"id\":\"8619\",\"type\":\"GlyphRenderer\"},{\"id\":\"8624\",\"type\":\"GlyphRenderer\"},{\"id\":\"8640\",\"type\":\"GlyphRenderer\"},{\"id\":\"8645\",\"type\":\"GlyphRenderer\"},{\"id\":\"8665\",\"type\":\"GlyphRenderer\"}],\"title\":{\"id\":\"8570\",\"type\":\"Title\"},\"toolbar\":{\"id\":\"8596\",\"type\":\"Toolbar\"},\"x_range\":{\"id\":\"8572\",\"type\":\"DataRange1d\"},\"x_scale\":{\"id\":\"8576\",\"type\":\"LinearScale\"},\"y_range\":{\"id\":\"8574\",\"type\":\"DataRange1d\"},\"y_scale\":{\"id\":\"8578\",\"type\":\"LinearScale\"}},\"id\":\"8569\",\"subtype\":\"Figure\",\"type\":\"Plot\"},{\"attributes\":{},\"id\":\"8576\",\"type\":\"LinearScale\"},{\"attributes\":{},\"id\":\"8632\",\"type\":\"UnionRenderers\"},{\"attributes\":{},\"id\":\"8586\",\"type\":\"BasicTicker\"},{\"attributes\":{\"label\":{\"value\":\"OECD\"},\"renderers\":[{\"id\":\"8645\",\"type\":\"GlyphRenderer\"}]},\"id\":\"8661\",\"type\":\"LegendItem\"},{\"attributes\":{},\"id\":\"9024\",\"type\":\"UnionRenderers\"},{\"attributes\":{\"line_color\":\"#5430F1\",\"x\":{\"field\":\"x\"},\"y\":{\"field\":\"y\"}},\"id\":\"8622\",\"type\":\"Line\"},{\"attributes\":{\"source\":{\"id\":\"8642\",\"type\":\"ColumnDataSource\"}},\"id\":\"8646\",\"type\":\"CDSView\"},{\"attributes\":{},\"id\":\"8581\",\"type\":\"BasicTicker\"},{\"attributes\":{\"line_alpha\":0.1,\"line_color\":\"#1f77b4\",\"x\":{\"field\":\"x\"},\"y\":{\"field\":\"y\"}},\"id\":\"8623\",\"type\":\"Line\"},{\"attributes\":{},\"id\":\"8656\",\"type\":\"Selection\"},{\"attributes\":{\"axis_label\":\"Years\",\"formatter\":{\"id\":\"8610\",\"type\":\"BasicTickFormatter\"},\"ticker\":{\"id\":\"8581\",\"type\":\"BasicTicker\"}},\"id\":\"8580\",\"type\":\"LinearAxis\"},{\"attributes\":{\"data_source\":{\"id\":\"8621\",\"type\":\"ColumnDataSource\"},\"glyph\":{\"id\":\"8622\",\"type\":\"Line\"},\"hover_glyph\":null,\"muted_glyph\":null,\"nonselection_glyph\":{\"id\":\"8623\",\"type\":\"Line\"},\"selection_glyph\":null,\"view\":{\"id\":\"8625\",\"type\":\"CDSView\"}},\"id\":\"8624\",\"type\":\"GlyphRenderer\"},{\"attributes\":{},\"id\":\"8657\",\"type\":\"UnionRenderers\"},{\"attributes\":{\"data_source\":{\"id\":\"8616\",\"type\":\"ColumnDataSource\"},\"glyph\":{\"id\":\"8617\",\"type\":\"Circle\"},\"hover_glyph\":null,\"muted_glyph\":null,\"nonselection_glyph\":{\"id\":\"8618\",\"type\":\"Circle\"},\"selection_glyph\":null,\"view\":{\"id\":\"8620\",\"type\":\"CDSView\"}},\"id\":\"8619\",\"type\":\"GlyphRenderer\"},{\"attributes\":{\"overlay\":{\"id\":\"8613\",\"type\":\"BoxAnnotation\"}},\"id\":\"8592\",\"type\":\"BoxZoomTool\"},{\"attributes\":{},\"id\":\"8590\",\"type\":\"PanTool\"},{\"attributes\":{\"callback\":null},\"id\":\"8574\",\"type\":\"DataRange1d\"},{\"attributes\":{\"line_color\":\"#2CC775\",\"x\":{\"field\":\"x\"},\"y\":{\"field\":\"y\"}},\"id\":\"8643\",\"type\":\"Line\"},{\"attributes\":{\"data_source\":{\"id\":\"8603\",\"type\":\"ColumnDataSource\"},\"glyph\":{\"id\":\"8604\",\"type\":\"Line\"},\"hover_glyph\":null,\"muted_glyph\":null,\"nonselection_glyph\":{\"id\":\"8605\",\"type\":\"Line\"},\"selection_glyph\":null,\"view\":{\"id\":\"8607\",\"type\":\"CDSView\"}},\"id\":\"8606\",\"type\":\"GlyphRenderer\"},{\"attributes\":{\"line_alpha\":0.1,\"line_color\":\"#1f77b4\",\"x\":{\"field\":\"x\"},\"y\":{\"field\":\"y\"}},\"id\":\"8644\",\"type\":\"Line\"},{\"attributes\":{\"dimension\":1,\"grid_line_alpha\":0.5,\"ticker\":{\"id\":\"8586\",\"type\":\"BasicTicker\"}},\"id\":\"8589\",\"type\":\"Grid\"},{\"attributes\":{\"source\":{\"id\":\"8616\",\"type\":\"ColumnDataSource\"}},\"id\":\"8620\",\"type\":\"CDSView\"},{\"attributes\":{\"data_source\":{\"id\":\"8642\",\"type\":\"ColumnDataSource\"},\"glyph\":{\"id\":\"8643\",\"type\":\"Line\"},\"hover_glyph\":null,\"muted_glyph\":null,\"nonselection_glyph\":{\"id\":\"8644\",\"type\":\"Line\"},\"selection_glyph\":null,\"view\":{\"id\":\"8646\",\"type\":\"CDSView\"}},\"id\":\"8645\",\"type\":\"GlyphRenderer\"},{\"attributes\":{\"line_alpha\":0.1,\"line_color\":\"#1f77b4\",\"x\":{\"field\":\"x\"},\"y\":{\"field\":\"y\"}},\"id\":\"8605\",\"type\":\"Line\"},{\"attributes\":{\"items\":[{\"id\":\"8615\",\"type\":\"LegendItem\"},{\"id\":\"8636\",\"type\":\"LegendItem\"},{\"id\":\"8661\",\"type\":\"LegendItem\"}],\"location\":\"bottom_left\"},\"id\":\"8614\",\"type\":\"Legend\"},{\"attributes\":{\"callback\":null,\"data\":{\"x\":[\"2005\",\"2006\",\"2007\",\"2008\",\"2009\",\"2010\",\"2011\",\"2012\",\"2013\",\"2014\"],\"y\":[86.82574356731617,87.49911600327948,92.20883194794601,91.51287856450479,92.41662152112006,83.57414302746557,88.6627442012224,89.21585520344051,88.80962696969527,90.12928443149794]},\"selected\":{\"id\":\"8656\",\"type\":\"Selection\"},\"selection_policy\":{\"id\":\"8657\",\"type\":\"UnionRenderers\"}},\"id\":\"8621\",\"type\":\"ColumnDataSource\"},{\"attributes\":{\"data_source\":{\"id\":\"8637\",\"type\":\"ColumnDataSource\"},\"glyph\":{\"id\":\"8638\",\"type\":\"Circle\"},\"hover_glyph\":null,\"muted_glyph\":null,\"nonselection_glyph\":{\"id\":\"8639\",\"type\":\"Circle\"},\"selection_glyph\":null,\"view\":{\"id\":\"8641\",\"type\":\"CDSView\"}},\"id\":\"8640\",\"type\":\"GlyphRenderer\"},{\"attributes\":{\"active_drag\":\"auto\",\"active_inspect\":\"auto\",\"active_multi\":null,\"active_scroll\":\"auto\",\"active_tap\":\"auto\",\"tools\":[{\"id\":\"8590\",\"type\":\"PanTool\"},{\"id\":\"8591\",\"type\":\"WheelZoomTool\"},{\"id\":\"8592\",\"type\":\"BoxZoomTool\"},{\"id\":\"8593\",\"type\":\"SaveTool\"},{\"id\":\"8594\",\"type\":\"ResetTool\"},{\"id\":\"8595\",\"type\":\"HelpTool\"},{\"id\":\"8667\",\"type\":\"HoverTool\"}]},\"id\":\"8596\",\"type\":\"Toolbar\"},{\"attributes\":{},\"id\":\"8595\",\"type\":\"HelpTool\"},{\"attributes\":{\"callback\":null,\"data\":{\"x\":[\"2005\",\"2006\",\"2007\",\"2008\",\"2009\",\"2010\",\"2011\",\"2012\",\"2013\",\"2014\"],\"y\":[89.36711,85.318,90.00625,88.78647,89.85324,90.99565,85.67287,91.79758,92.06496,90.8964]},\"selected\":{\"id\":\"9023\",\"type\":\"Selection\"},\"selection_policy\":{\"id\":\"9024\",\"type\":\"UnionRenderers\"}},\"id\":\"8662\",\"type\":\"ColumnDataSource\"},{\"attributes\":{\"bottom_units\":\"screen\",\"fill_alpha\":{\"value\":0.5},\"fill_color\":{\"value\":\"lightgrey\"},\"left_units\":\"screen\",\"level\":\"overlay\",\"line_alpha\":{\"value\":1.0},\"line_color\":{\"value\":\"black\"},\"line_dash\":[4,4],\"line_width\":{\"value\":2},\"render_mode\":\"css\",\"right_units\":\"screen\",\"top_units\":\"screen\"},\"id\":\"8613\",\"type\":\"BoxAnnotation\"},{\"attributes\":{\"source\":{\"id\":\"8637\",\"type\":\"ColumnDataSource\"}},\"id\":\"8641\",\"type\":\"CDSView\"},{\"attributes\":{\"callback\":null,\"data\":{\"x\":[\"2005\",\"2006\",\"2007\",\"2008\",\"2009\",\"2010\",\"2011\",\"2012\",\"2013\",\"2014\"],\"y\":[79.32941752876195,86.15621977489293,86.02774661892278,75.6848372922106,86.58685496184725,56.63384935461981,67.78695315953377,62.34684223691954,52.49870973544407,51.4375480377963]},\"selected\":{\"id\":\"8633\",\"type\":\"Selection\"},\"selection_policy\":{\"id\":\"8634\",\"type\":\"UnionRenderers\"}},\"id\":\"8616\",\"type\":\"ColumnDataSource\"},{\"attributes\":{},\"id\":\"9022\",\"type\":\"UnionRenderers\"},{\"attributes\":{\"source\":{\"id\":\"8603\",\"type\":\"ColumnDataSource\"}},\"id\":\"8607\",\"type\":\"CDSView\"},{\"attributes\":{\"callback\":null,\"data\":{\"x\":[\"2005\",\"2006\",\"2007\",\"2008\",\"2009\",\"2010\",\"2011\",\"2012\",\"2013\",\"2014\"],\"y\":[89.36711,85.318,90.00625,88.78647,89.85324,90.99565,85.67287,91.79758,92.06496,90.8964]},\"selected\":{\"id\":\"9021\",\"type\":\"Selection\"},\"selection_policy\":{\"id\":\"9022\",\"type\":\"UnionRenderers\"}},\"id\":\"8642\",\"type\":\"ColumnDataSource\"},{\"attributes\":{\"callback\":null,\"data\":{\"x\":[\"2005\",\"2006\",\"2007\",\"2008\",\"2009\",\"2010\",\"2011\",\"2012\",\"2013\",\"2014\"],\"y\":[86.82574356731617,87.49911600327948,92.20883194794601,91.51287856450479,92.41662152112006,83.57414302746557,88.6627442012224,89.21585520344051,88.80962696969527,90.12928443149794]},\"selected\":{\"id\":\"8658\",\"type\":\"Selection\"},\"selection_policy\":{\"id\":\"8659\",\"type\":\"UnionRenderers\"}},\"id\":\"8637\",\"type\":\"ColumnDataSource\"},{\"attributes\":{\"axis_label\":\"SE.SEC.TCAQ.ZS\",\"formatter\":{\"id\":\"8612\",\"type\":\"BasicTickFormatter\"},\"ticker\":{\"id\":\"8586\",\"type\":\"BasicTicker\"}},\"id\":\"8585\",\"type\":\"LinearAxis\"},{\"attributes\":{},\"id\":\"9021\",\"type\":\"Selection\"},{\"attributes\":{\"fill_color\":{\"value\":\"#2CC775\"},\"line_color\":{\"value\":\"#2CC775\"},\"line_width\":{\"value\":3},\"x\":{\"field\":\"x\"},\"y\":{\"field\":\"y\"}},\"id\":\"8663\",\"type\":\"Circle\"},{\"attributes\":{\"fill_color\":{\"value\":\"#5430F1\"},\"line_color\":{\"value\":\"#5430F1\"},\"line_width\":{\"value\":3},\"x\":{\"field\":\"x\"},\"y\":{\"field\":\"y\"}},\"id\":\"8638\",\"type\":\"Circle\"},{\"attributes\":{\"callback\":null,\"data\":{\"x\":[\"2005\",\"2006\",\"2007\",\"2008\",\"2009\",\"2010\",\"2011\",\"2012\",\"2013\",\"2014\"],\"y\":[79.32941752876195,86.15621977489293,86.02774661892278,75.6848372922106,86.58685496184725,56.63384935461981,67.78695315953377,62.34684223691954,52.49870973544407,51.4375480377963]},\"selected\":{\"id\":\"8631\",\"type\":\"Selection\"},\"selection_policy\":{\"id\":\"8632\",\"type\":\"UnionRenderers\"}},\"id\":\"8603\",\"type\":\"ColumnDataSource\"},{\"attributes\":{\"fill_alpha\":{\"value\":0.1},\"fill_color\":{\"value\":\"#1f77b4\"},\"line_alpha\":{\"value\":0.1},\"line_color\":{\"value\":\"#1f77b4\"},\"line_width\":{\"value\":3},\"x\":{\"field\":\"x\"},\"y\":{\"field\":\"y\"}},\"id\":\"8664\",\"type\":\"Circle\"},{\"attributes\":{\"fill_alpha\":{\"value\":0.1},\"fill_color\":{\"value\":\"#1f77b4\"},\"line_alpha\":{\"value\":0.1},\"line_color\":{\"value\":\"#1f77b4\"},\"line_width\":{\"value\":3},\"x\":{\"field\":\"x\"},\"y\":{\"field\":\"y\"}},\"id\":\"8639\",\"type\":\"Circle\"},{\"attributes\":{},\"id\":\"8612\",\"type\":\"BasicTickFormatter\"},{\"attributes\":{\"label\":{\"value\":\"LDCs\"},\"renderers\":[{\"id\":\"8606\",\"type\":\"GlyphRenderer\"}]},\"id\":\"8615\",\"type\":\"LegendItem\"},{\"attributes\":{},\"id\":\"9023\",\"type\":\"Selection\"},{\"attributes\":{\"line_color\":\"#FA1857\",\"x\":{\"field\":\"x\"},\"y\":{\"field\":\"y\"}},\"id\":\"8604\",\"type\":\"Line\"},{\"attributes\":{},\"id\":\"8633\",\"type\":\"Selection\"},{\"attributes\":{\"fill_color\":{\"value\":\"#FA1857\"},\"line_color\":{\"value\":\"#FA1857\"},\"line_width\":{\"value\":3},\"x\":{\"field\":\"x\"},\"y\":{\"field\":\"y\"}},\"id\":\"8617\",\"type\":\"Circle\"},{\"attributes\":{},\"id\":\"8658\",\"type\":\"Selection\"},{\"attributes\":{},\"id\":\"8591\",\"type\":\"WheelZoomTool\"},{\"attributes\":{},\"id\":\"8634\",\"type\":\"UnionRenderers\"},{\"attributes\":{\"source\":{\"id\":\"8662\",\"type\":\"ColumnDataSource\"}},\"id\":\"8666\",\"type\":\"CDSView\"},{\"attributes\":{\"callback\":null,\"tooltips\":\"                \\n        <div style=padding=5px>Year:@x</div>\\n        <div style=padding=5px>Value:@y</div>        \\n        \"},\"id\":\"8667\",\"type\":\"HoverTool\"},{\"attributes\":{},\"id\":\"8578\",\"type\":\"LinearScale\"},{\"attributes\":{\"label\":{\"value\":\"Developing excluding LDCs\"},\"renderers\":[{\"id\":\"8624\",\"type\":\"GlyphRenderer\"}]},\"id\":\"8636\",\"type\":\"LegendItem\"},{\"attributes\":{},\"id\":\"8593\",\"type\":\"SaveTool\"},{\"attributes\":{},\"id\":\"8610\",\"type\":\"BasicTickFormatter\"},{\"attributes\":{},\"id\":\"8594\",\"type\":\"ResetTool\"},{\"attributes\":{},\"id\":\"8659\",\"type\":\"UnionRenderers\"},{\"attributes\":{\"source\":{\"id\":\"8621\",\"type\":\"ColumnDataSource\"}},\"id\":\"8625\",\"type\":\"CDSView\"},{\"attributes\":{\"data_source\":{\"id\":\"8662\",\"type\":\"ColumnDataSource\"},\"glyph\":{\"id\":\"8663\",\"type\":\"Circle\"},\"hover_glyph\":null,\"muted_glyph\":null,\"nonselection_glyph\":{\"id\":\"8664\",\"type\":\"Circle\"},\"selection_glyph\":null,\"view\":{\"id\":\"8666\",\"type\":\"CDSView\"}},\"id\":\"8665\",\"type\":\"GlyphRenderer\"},{\"attributes\":{\"grid_line_color\":null,\"ticker\":{\"id\":\"8581\",\"type\":\"BasicTicker\"}},\"id\":\"8584\",\"type\":\"Grid\"},{\"attributes\":{\"text\":\"Trained teachers in secondary education (% of total teachers) weighted against Secondary education, teachers\"},\"id\":\"8570\",\"type\":\"Title\"},{\"attributes\":{},\"id\":\"8631\",\"type\":\"Selection\"},{\"attributes\":{\"fill_alpha\":{\"value\":0.1},\"fill_color\":{\"value\":\"#1f77b4\"},\"line_alpha\":{\"value\":0.1},\"line_color\":{\"value\":\"#1f77b4\"},\"line_width\":{\"value\":3},\"x\":{\"field\":\"x\"},\"y\":{\"field\":\"y\"}},\"id\":\"8618\",\"type\":\"Circle\"},{\"attributes\":{\"callback\":null},\"id\":\"8572\",\"type\":\"DataRange1d\"}],\"root_ids\":[\"8569\"]},\"title\":\"Bokeh Application\",\"version\":\"1.3.4\"}};\n",
       "  var render_items = [{\"docid\":\"6abc20eb-898f-4b49-9b4f-10ea52e8c233\",\"roots\":{\"8569\":\"d13e3f74-4a56-440a-b64b-20defe823036\"}}];\n",
       "  root.Bokeh.embed.embed_items_notebook(docs_json, render_items);\n",
       "\n",
       "  }\n",
       "  if (root.Bokeh !== undefined) {\n",
       "    embed_document(root);\n",
       "  } else {\n",
       "    var attempts = 0;\n",
       "    var timer = setInterval(function(root) {\n",
       "      if (root.Bokeh !== undefined) {\n",
       "        embed_document(root);\n",
       "        clearInterval(timer);\n",
       "      }\n",
       "      attempts++;\n",
       "      if (attempts > 100) {\n",
       "        console.log(\"Bokeh: ERROR: Unable to run BokehJS code because BokehJS library is missing\");\n",
       "        clearInterval(timer);\n",
       "      }\n",
       "    }, 10, root)\n",
       "  }\n",
       "})(window);"
      ],
      "application/vnd.bokehjs_exec.v0+json": ""
     },
     "metadata": {
      "application/vnd.bokehjs_exec.v0+json": {
       "id": "8569"
      }
     },
     "output_type": "display_data"
    }
   ],
   "source": [
    "# Trained teachers secondary\n",
    "years = list(map(str, list(range(2005,2015))))\n",
    "result = show_weighted_average(years, 'SE.SEC.TCAQ.ZS', 'SE.SEC.TCHR', \n",
    "                               ['LDCs', 'Developing excluding LDCs', 'OECD'])"
   ]
  },
  {
   "cell_type": "markdown",
   "metadata": {},
   "source": [
    "# Youth development"
   ]
  },
  {
   "cell_type": "code",
   "execution_count": 27,
   "metadata": {
    "ExecuteTime": {
     "end_time": "2019-10-25T14:25:48.983763Z",
     "start_time": "2019-10-25T14:25:47.157404Z"
    },
    "slideshow": {
     "slide_type": "slide"
    }
   },
   "outputs": [
    {
     "data": {
      "text/html": [
       "\n",
       "\n",
       "\n",
       "\n",
       "\n",
       "\n",
       "  <div class=\"bk-root\" id=\"a2b41623-c135-4e97-8b9d-8ab2bfc00a43\" data-root-id=\"9134\"></div>\n"
      ]
     },
     "metadata": {},
     "output_type": "display_data"
    },
    {
     "data": {
      "application/javascript": [
       "(function(root) {\n",
       "  function embed_document(root) {\n",
       "    \n",
       "  var docs_json = {\"7c9c1bab-c49a-4b37-9dc8-4b0059e734f2\":{\"roots\":{\"references\":[{\"attributes\":{\"below\":[{\"id\":\"9145\",\"type\":\"LinearAxis\"}],\"center\":[{\"id\":\"9149\",\"type\":\"Grid\"},{\"id\":\"9154\",\"type\":\"Grid\"},{\"id\":\"9179\",\"type\":\"Legend\"}],\"left\":[{\"id\":\"9150\",\"type\":\"LinearAxis\"}],\"plot_height\":400,\"plot_width\":800,\"renderers\":[{\"id\":\"9171\",\"type\":\"GlyphRenderer\"},{\"id\":\"9184\",\"type\":\"GlyphRenderer\"},{\"id\":\"9189\",\"type\":\"GlyphRenderer\"},{\"id\":\"9205\",\"type\":\"GlyphRenderer\"}],\"title\":{\"id\":\"9135\",\"type\":\"Title\"},\"toolbar\":{\"id\":\"9161\",\"type\":\"Toolbar\"},\"x_range\":{\"id\":\"9137\",\"type\":\"DataRange1d\"},\"x_scale\":{\"id\":\"9141\",\"type\":\"LinearScale\"},\"y_range\":{\"id\":\"9139\",\"type\":\"DataRange1d\"},\"y_scale\":{\"id\":\"9143\",\"type\":\"LinearScale\"}},\"id\":\"9134\",\"subtype\":\"Figure\",\"type\":\"Plot\"},{\"attributes\":{\"callback\":null},\"id\":\"9137\",\"type\":\"DataRange1d\"},{\"attributes\":{\"callback\":null,\"data\":{\"x\":[\"2005\",\"2006\",\"2007\",\"2008\",\"2009\",\"2010\",\"2011\",\"2012\",\"2013\",\"2014\"],\"y\":[90.78019536879648,90.77418753814752,96.4797858665008,92.05316715849918,94.74806511431586,97.16254832371536,92.16019298807788,94.37168223840837,92.90217775217923,95.33335755824594]},\"selected\":{\"id\":\"9577\",\"type\":\"Selection\"},\"selection_policy\":{\"id\":\"9578\",\"type\":\"UnionRenderers\"}},\"id\":\"9202\",\"type\":\"ColumnDataSource\"},{\"attributes\":{\"data_source\":{\"id\":\"9186\",\"type\":\"ColumnDataSource\"},\"glyph\":{\"id\":\"9187\",\"type\":\"Line\"},\"hover_glyph\":null,\"muted_glyph\":null,\"nonselection_glyph\":{\"id\":\"9188\",\"type\":\"Line\"},\"selection_glyph\":null,\"view\":{\"id\":\"9190\",\"type\":\"CDSView\"}},\"id\":\"9189\",\"type\":\"GlyphRenderer\"},{\"attributes\":{\"grid_line_color\":null,\"ticker\":{\"id\":\"9146\",\"type\":\"BasicTicker\"}},\"id\":\"9149\",\"type\":\"Grid\"},{\"attributes\":{},\"id\":\"9159\",\"type\":\"ResetTool\"},{\"attributes\":{\"text\":\"Literacy rate, youth male (% of males ages 15-24) weighted against Population, total\"},\"id\":\"9135\",\"type\":\"Title\"},{\"attributes\":{},\"id\":\"9199\",\"type\":\"UnionRenderers\"},{\"attributes\":{\"line_alpha\":0.1,\"line_color\":\"#1f77b4\",\"x\":{\"field\":\"x\"},\"y\":{\"field\":\"y\"}},\"id\":\"9170\",\"type\":\"Line\"},{\"attributes\":{},\"id\":\"9578\",\"type\":\"UnionRenderers\"},{\"attributes\":{\"line_color\":\"#5430F1\",\"x\":{\"field\":\"x\"},\"y\":{\"field\":\"y\"}},\"id\":\"9187\",\"type\":\"Line\"},{\"attributes\":{},\"id\":\"9196\",\"type\":\"Selection\"},{\"attributes\":{\"callback\":null,\"data\":{\"x\":[\"2005\",\"2006\",\"2007\",\"2008\",\"2009\",\"2010\",\"2011\",\"2012\",\"2013\",\"2014\"],\"y\":[90.78019536879648,90.77418753814752,96.4797858665008,92.05316715849918,94.74806511431586,97.16254832371536,92.16019298807788,94.37168223840837,92.90217775217923,95.33335755824594]},\"selected\":{\"id\":\"9575\",\"type\":\"Selection\"},\"selection_policy\":{\"id\":\"9576\",\"type\":\"UnionRenderers\"}},\"id\":\"9186\",\"type\":\"ColumnDataSource\"},{\"attributes\":{\"fill_alpha\":{\"value\":0.1},\"fill_color\":{\"value\":\"#1f77b4\"},\"line_alpha\":{\"value\":0.1},\"line_color\":{\"value\":\"#1f77b4\"},\"line_width\":{\"value\":3},\"x\":{\"field\":\"x\"},\"y\":{\"field\":\"y\"}},\"id\":\"9204\",\"type\":\"Circle\"},{\"attributes\":{},\"id\":\"9577\",\"type\":\"Selection\"},{\"attributes\":{\"fill_color\":{\"value\":\"#5430F1\"},\"line_color\":{\"value\":\"#5430F1\"},\"line_width\":{\"value\":3},\"x\":{\"field\":\"x\"},\"y\":{\"field\":\"y\"}},\"id\":\"9203\",\"type\":\"Circle\"},{\"attributes\":{\"source\":{\"id\":\"9181\",\"type\":\"ColumnDataSource\"}},\"id\":\"9185\",\"type\":\"CDSView\"},{\"attributes\":{\"dimension\":1,\"grid_line_alpha\":0.5,\"ticker\":{\"id\":\"9151\",\"type\":\"BasicTicker\"}},\"id\":\"9154\",\"type\":\"Grid\"},{\"attributes\":{},\"id\":\"9155\",\"type\":\"PanTool\"},{\"attributes\":{},\"id\":\"9156\",\"type\":\"WheelZoomTool\"},{\"attributes\":{},\"id\":\"9160\",\"type\":\"HelpTool\"},{\"attributes\":{},\"id\":\"9143\",\"type\":\"LinearScale\"},{\"attributes\":{\"label\":{\"value\":\"Developing excluding LDCs\"},\"renderers\":[{\"id\":\"9189\",\"type\":\"GlyphRenderer\"}]},\"id\":\"9201\",\"type\":\"LegendItem\"},{\"attributes\":{},\"id\":\"9575\",\"type\":\"Selection\"},{\"attributes\":{},\"id\":\"9151\",\"type\":\"BasicTicker\"},{\"attributes\":{},\"id\":\"9158\",\"type\":\"SaveTool\"},{\"attributes\":{\"data_source\":{\"id\":\"9181\",\"type\":\"ColumnDataSource\"},\"glyph\":{\"id\":\"9182\",\"type\":\"Circle\"},\"hover_glyph\":null,\"muted_glyph\":null,\"nonselection_glyph\":{\"id\":\"9183\",\"type\":\"Circle\"},\"selection_glyph\":null,\"view\":{\"id\":\"9185\",\"type\":\"CDSView\"}},\"id\":\"9184\",\"type\":\"GlyphRenderer\"},{\"attributes\":{},\"id\":\"9198\",\"type\":\"Selection\"},{\"attributes\":{\"callback\":null,\"data\":{\"x\":[\"2005\",\"2006\",\"2007\",\"2008\",\"2009\",\"2010\",\"2011\",\"2012\",\"2013\",\"2014\"],\"y\":[55.45037040894994,66.06053979838372,61.59263991865721,70.57472702626119,77.29950443176172,74.97632355784125,75.02611752268099,80.00946290801379,81.31988745347162,81.49752595333796]},\"selected\":{\"id\":\"9198\",\"type\":\"Selection\"},\"selection_policy\":{\"id\":\"9199\",\"type\":\"UnionRenderers\"}},\"id\":\"9181\",\"type\":\"ColumnDataSource\"},{\"attributes\":{},\"id\":\"9146\",\"type\":\"BasicTicker\"},{\"attributes\":{},\"id\":\"9576\",\"type\":\"UnionRenderers\"},{\"attributes\":{\"fill_color\":{\"value\":\"#FA1857\"},\"line_color\":{\"value\":\"#FA1857\"},\"line_width\":{\"value\":3},\"x\":{\"field\":\"x\"},\"y\":{\"field\":\"y\"}},\"id\":\"9182\",\"type\":\"Circle\"},{\"attributes\":{\"axis_label\":\"SE.ADT.1524.LT.MA.ZS\",\"formatter\":{\"id\":\"9177\",\"type\":\"BasicTickFormatter\"},\"ticker\":{\"id\":\"9151\",\"type\":\"BasicTicker\"}},\"id\":\"9150\",\"type\":\"LinearAxis\"},{\"attributes\":{\"label\":{\"value\":\"LDCs\"},\"renderers\":[{\"id\":\"9171\",\"type\":\"GlyphRenderer\"}]},\"id\":\"9180\",\"type\":\"LegendItem\"},{\"attributes\":{\"data_source\":{\"id\":\"9202\",\"type\":\"ColumnDataSource\"},\"glyph\":{\"id\":\"9203\",\"type\":\"Circle\"},\"hover_glyph\":null,\"muted_glyph\":null,\"nonselection_glyph\":{\"id\":\"9204\",\"type\":\"Circle\"},\"selection_glyph\":null,\"view\":{\"id\":\"9206\",\"type\":\"CDSView\"}},\"id\":\"9205\",\"type\":\"GlyphRenderer\"},{\"attributes\":{\"line_color\":\"#FA1857\",\"x\":{\"field\":\"x\"},\"y\":{\"field\":\"y\"}},\"id\":\"9169\",\"type\":\"Line\"},{\"attributes\":{\"callback\":null,\"data\":{\"x\":[\"2005\",\"2006\",\"2007\",\"2008\",\"2009\",\"2010\",\"2011\",\"2012\",\"2013\",\"2014\"],\"y\":[55.45037040894994,66.06053979838372,61.59263991865721,70.57472702626119,77.29950443176172,74.97632355784125,75.02611752268099,80.00946290801379,81.31988745347162,81.49752595333796]},\"selected\":{\"id\":\"9196\",\"type\":\"Selection\"},\"selection_policy\":{\"id\":\"9197\",\"type\":\"UnionRenderers\"}},\"id\":\"9168\",\"type\":\"ColumnDataSource\"},{\"attributes\":{\"overlay\":{\"id\":\"9178\",\"type\":\"BoxAnnotation\"}},\"id\":\"9157\",\"type\":\"BoxZoomTool\"},{\"attributes\":{\"callback\":null},\"id\":\"9139\",\"type\":\"DataRange1d\"},{\"attributes\":{},\"id\":\"9197\",\"type\":\"UnionRenderers\"},{\"attributes\":{\"fill_alpha\":{\"value\":0.1},\"fill_color\":{\"value\":\"#1f77b4\"},\"line_alpha\":{\"value\":0.1},\"line_color\":{\"value\":\"#1f77b4\"},\"line_width\":{\"value\":3},\"x\":{\"field\":\"x\"},\"y\":{\"field\":\"y\"}},\"id\":\"9183\",\"type\":\"Circle\"},{\"attributes\":{\"items\":[{\"id\":\"9180\",\"type\":\"LegendItem\"},{\"id\":\"9201\",\"type\":\"LegendItem\"}],\"location\":\"bottom_left\"},\"id\":\"9179\",\"type\":\"Legend\"},{\"attributes\":{\"callback\":null,\"tooltips\":\"                \\n        <div style=padding=5px>Year:@x</div>\\n        <div style=padding=5px>Value:@y</div>        \\n        \"},\"id\":\"9207\",\"type\":\"HoverTool\"},{\"attributes\":{\"source\":{\"id\":\"9186\",\"type\":\"ColumnDataSource\"}},\"id\":\"9190\",\"type\":\"CDSView\"},{\"attributes\":{\"bottom_units\":\"screen\",\"fill_alpha\":{\"value\":0.5},\"fill_color\":{\"value\":\"lightgrey\"},\"left_units\":\"screen\",\"level\":\"overlay\",\"line_alpha\":{\"value\":1.0},\"line_color\":{\"value\":\"black\"},\"line_dash\":[4,4],\"line_width\":{\"value\":2},\"render_mode\":\"css\",\"right_units\":\"screen\",\"top_units\":\"screen\"},\"id\":\"9178\",\"type\":\"BoxAnnotation\"},{\"attributes\":{},\"id\":\"9175\",\"type\":\"BasicTickFormatter\"},{\"attributes\":{\"active_drag\":\"auto\",\"active_inspect\":\"auto\",\"active_multi\":null,\"active_scroll\":\"auto\",\"active_tap\":\"auto\",\"tools\":[{\"id\":\"9155\",\"type\":\"PanTool\"},{\"id\":\"9156\",\"type\":\"WheelZoomTool\"},{\"id\":\"9157\",\"type\":\"BoxZoomTool\"},{\"id\":\"9158\",\"type\":\"SaveTool\"},{\"id\":\"9159\",\"type\":\"ResetTool\"},{\"id\":\"9160\",\"type\":\"HelpTool\"},{\"id\":\"9207\",\"type\":\"HoverTool\"}]},\"id\":\"9161\",\"type\":\"Toolbar\"},{\"attributes\":{},\"id\":\"9177\",\"type\":\"BasicTickFormatter\"},{\"attributes\":{},\"id\":\"9141\",\"type\":\"LinearScale\"},{\"attributes\":{\"source\":{\"id\":\"9202\",\"type\":\"ColumnDataSource\"}},\"id\":\"9206\",\"type\":\"CDSView\"},{\"attributes\":{\"source\":{\"id\":\"9168\",\"type\":\"ColumnDataSource\"}},\"id\":\"9172\",\"type\":\"CDSView\"},{\"attributes\":{\"axis_label\":\"Years\",\"formatter\":{\"id\":\"9175\",\"type\":\"BasicTickFormatter\"},\"ticker\":{\"id\":\"9146\",\"type\":\"BasicTicker\"}},\"id\":\"9145\",\"type\":\"LinearAxis\"},{\"attributes\":{\"data_source\":{\"id\":\"9168\",\"type\":\"ColumnDataSource\"},\"glyph\":{\"id\":\"9169\",\"type\":\"Line\"},\"hover_glyph\":null,\"muted_glyph\":null,\"nonselection_glyph\":{\"id\":\"9170\",\"type\":\"Line\"},\"selection_glyph\":null,\"view\":{\"id\":\"9172\",\"type\":\"CDSView\"}},\"id\":\"9171\",\"type\":\"GlyphRenderer\"},{\"attributes\":{\"line_alpha\":0.1,\"line_color\":\"#1f77b4\",\"x\":{\"field\":\"x\"},\"y\":{\"field\":\"y\"}},\"id\":\"9188\",\"type\":\"Line\"}],\"root_ids\":[\"9134\"]},\"title\":\"Bokeh Application\",\"version\":\"1.3.4\"}};\n",
       "  var render_items = [{\"docid\":\"7c9c1bab-c49a-4b37-9dc8-4b0059e734f2\",\"roots\":{\"9134\":\"a2b41623-c135-4e97-8b9d-8ab2bfc00a43\"}}];\n",
       "  root.Bokeh.embed.embed_items_notebook(docs_json, render_items);\n",
       "\n",
       "  }\n",
       "  if (root.Bokeh !== undefined) {\n",
       "    embed_document(root);\n",
       "  } else {\n",
       "    var attempts = 0;\n",
       "    var timer = setInterval(function(root) {\n",
       "      if (root.Bokeh !== undefined) {\n",
       "        embed_document(root);\n",
       "        clearInterval(timer);\n",
       "      }\n",
       "      attempts++;\n",
       "      if (attempts > 100) {\n",
       "        console.log(\"Bokeh: ERROR: Unable to run BokehJS code because BokehJS library is missing\");\n",
       "        clearInterval(timer);\n",
       "      }\n",
       "    }, 10, root)\n",
       "  }\n",
       "})(window);"
      ],
      "application/vnd.bokehjs_exec.v0+json": ""
     },
     "metadata": {
      "application/vnd.bokehjs_exec.v0+json": {
       "id": "9134"
      }
     },
     "output_type": "display_data"
    }
   ],
   "source": [
    "# Literacy rate, youth male (% of male ages 15-24)\n",
    "result = show_weighted_average(years, 'SE.ADT.1524.LT.MA.ZS', 'SP.POP.TOTL', \n",
    "                               ['LDCs', 'Developing excluding LDCs'])"
   ]
  },
  {
   "cell_type": "code",
   "execution_count": 28,
   "metadata": {
    "ExecuteTime": {
     "end_time": "2019-10-25T14:30:13.251639Z",
     "start_time": "2019-10-25T14:30:11.929452Z"
    },
    "slideshow": {
     "slide_type": "slide"
    }
   },
   "outputs": [
    {
     "data": {
      "text/html": [
       "\n",
       "\n",
       "\n",
       "\n",
       "\n",
       "\n",
       "  <div class=\"bk-root\" id=\"17e91162-38be-4591-952a-18b52851f4b0\" data-root-id=\"9664\"></div>\n"
      ]
     },
     "metadata": {},
     "output_type": "display_data"
    },
    {
     "data": {
      "application/javascript": [
       "(function(root) {\n",
       "  function embed_document(root) {\n",
       "    \n",
       "  var docs_json = {\"3be422cd-1ce6-4f75-90c6-908365dae03d\":{\"roots\":{\"references\":[{\"attributes\":{\"below\":[{\"id\":\"9675\",\"type\":\"LinearAxis\"}],\"center\":[{\"id\":\"9679\",\"type\":\"Grid\"},{\"id\":\"9684\",\"type\":\"Grid\"},{\"id\":\"9709\",\"type\":\"Legend\"}],\"left\":[{\"id\":\"9680\",\"type\":\"LinearAxis\"}],\"plot_height\":400,\"plot_width\":800,\"renderers\":[{\"id\":\"9701\",\"type\":\"GlyphRenderer\"},{\"id\":\"9714\",\"type\":\"GlyphRenderer\"},{\"id\":\"9719\",\"type\":\"GlyphRenderer\"},{\"id\":\"9735\",\"type\":\"GlyphRenderer\"},{\"id\":\"9740\",\"type\":\"GlyphRenderer\"},{\"id\":\"9760\",\"type\":\"GlyphRenderer\"}],\"title\":{\"id\":\"9665\",\"type\":\"Title\"},\"toolbar\":{\"id\":\"9691\",\"type\":\"Toolbar\"},\"x_range\":{\"id\":\"9667\",\"type\":\"DataRange1d\"},\"x_scale\":{\"id\":\"9671\",\"type\":\"LinearScale\"},\"y_range\":{\"id\":\"9669\",\"type\":\"DataRange1d\"},\"y_scale\":{\"id\":\"9673\",\"type\":\"LinearScale\"}},\"id\":\"9664\",\"subtype\":\"Figure\",\"type\":\"Plot\"},{\"attributes\":{\"data_source\":{\"id\":\"9737\",\"type\":\"ColumnDataSource\"},\"glyph\":{\"id\":\"9738\",\"type\":\"Line\"},\"hover_glyph\":null,\"muted_glyph\":null,\"nonselection_glyph\":{\"id\":\"9739\",\"type\":\"Line\"},\"selection_glyph\":null,\"view\":{\"id\":\"9741\",\"type\":\"CDSView\"}},\"id\":\"9740\",\"type\":\"GlyphRenderer\"},{\"attributes\":{\"line_color\":\"#5430F1\",\"x\":{\"field\":\"x\"},\"y\":{\"field\":\"y\"}},\"id\":\"9717\",\"type\":\"Line\"},{\"attributes\":{\"callback\":null,\"tooltips\":\"                \\n        <div style=padding=5px>Year:@x</div>\\n        <div style=padding=5px>Value:@y</div>        \\n        \"},\"id\":\"9762\",\"type\":\"HoverTool\"},{\"attributes\":{\"callback\":null,\"data\":{\"x\":[\"2011\",\"2012\",\"2013\",\"2014\",\"2015\",\"2016\",\"2017\"],\"y\":[69.73643076577738,76.28621410347083,82.34338029433856,78.83132852098582,79.67428038697987,84.88400348022606,81.7564251787433]},\"selected\":{\"id\":\"9726\",\"type\":\"Selection\"},\"selection_policy\":{\"id\":\"9727\",\"type\":\"UnionRenderers\"}},\"id\":\"9698\",\"type\":\"ColumnDataSource\"},{\"attributes\":{\"source\":{\"id\":\"9737\",\"type\":\"ColumnDataSource\"}},\"id\":\"9741\",\"type\":\"CDSView\"},{\"attributes\":{},\"id\":\"9685\",\"type\":\"PanTool\"},{\"attributes\":{\"line_alpha\":0.1,\"line_color\":\"#1f77b4\",\"x\":{\"field\":\"x\"},\"y\":{\"field\":\"y\"}},\"id\":\"9718\",\"type\":\"Line\"},{\"attributes\":{},\"id\":\"9751\",\"type\":\"Selection\"},{\"attributes\":{},\"id\":\"10150\",\"type\":\"Selection\"},{\"attributes\":{\"fill_alpha\":{\"value\":0.1},\"fill_color\":{\"value\":\"#1f77b4\"},\"line_alpha\":{\"value\":0.1},\"line_color\":{\"value\":\"#1f77b4\"},\"line_width\":{\"value\":3},\"x\":{\"field\":\"x\"},\"y\":{\"field\":\"y\"}},\"id\":\"9713\",\"type\":\"Circle\"},{\"attributes\":{\"axis_label\":\"SE.ADT.1524.LT.FE.ZS\",\"formatter\":{\"id\":\"9707\",\"type\":\"BasicTickFormatter\"},\"ticker\":{\"id\":\"9681\",\"type\":\"BasicTicker\"}},\"id\":\"9680\",\"type\":\"LinearAxis\"},{\"attributes\":{},\"id\":\"10151\",\"type\":\"UnionRenderers\"},{\"attributes\":{\"callback\":null,\"data\":{\"x\":[\"2011\",\"2012\",\"2013\",\"2014\",\"2015\",\"2016\",\"2017\"],\"y\":[98.79246433133073,98.91166421847787,98.96779030929173,99.06962254043965,99.11181905005378,99.23710774713751,99.10889426005937]},\"selected\":{\"id\":\"10148\",\"type\":\"Selection\"},\"selection_policy\":{\"id\":\"10149\",\"type\":\"UnionRenderers\"}},\"id\":\"9737\",\"type\":\"ColumnDataSource\"},{\"attributes\":{\"data_source\":{\"id\":\"9711\",\"type\":\"ColumnDataSource\"},\"glyph\":{\"id\":\"9712\",\"type\":\"Circle\"},\"hover_glyph\":null,\"muted_glyph\":null,\"nonselection_glyph\":{\"id\":\"9713\",\"type\":\"Circle\"},\"selection_glyph\":null,\"view\":{\"id\":\"9715\",\"type\":\"CDSView\"}},\"id\":\"9714\",\"type\":\"GlyphRenderer\"},{\"attributes\":{},\"id\":\"9681\",\"type\":\"BasicTicker\"},{\"attributes\":{\"line_color\":\"#2CC775\",\"x\":{\"field\":\"x\"},\"y\":{\"field\":\"y\"}},\"id\":\"9738\",\"type\":\"Line\"},{\"attributes\":{\"source\":{\"id\":\"9711\",\"type\":\"ColumnDataSource\"}},\"id\":\"9715\",\"type\":\"CDSView\"},{\"attributes\":{\"dimension\":1,\"grid_line_alpha\":0.5,\"ticker\":{\"id\":\"9681\",\"type\":\"BasicTicker\"}},\"id\":\"9684\",\"type\":\"Grid\"},{\"attributes\":{\"line_alpha\":0.1,\"line_color\":\"#1f77b4\",\"x\":{\"field\":\"x\"},\"y\":{\"field\":\"y\"}},\"id\":\"9739\",\"type\":\"Line\"},{\"attributes\":{},\"id\":\"9676\",\"type\":\"BasicTicker\"},{\"attributes\":{\"label\":{\"value\":\"LDCs\"},\"renderers\":[{\"id\":\"9701\",\"type\":\"GlyphRenderer\"}]},\"id\":\"9710\",\"type\":\"LegendItem\"},{\"attributes\":{\"fill_alpha\":{\"value\":0.1},\"fill_color\":{\"value\":\"#1f77b4\"},\"line_alpha\":{\"value\":0.1},\"line_color\":{\"value\":\"#1f77b4\"},\"line_width\":{\"value\":3},\"x\":{\"field\":\"x\"},\"y\":{\"field\":\"y\"}},\"id\":\"9734\",\"type\":\"Circle\"},{\"attributes\":{},\"id\":\"10148\",\"type\":\"Selection\"},{\"attributes\":{\"grid_line_color\":null,\"ticker\":{\"id\":\"9676\",\"type\":\"BasicTicker\"}},\"id\":\"9679\",\"type\":\"Grid\"},{\"attributes\":{\"callback\":null,\"data\":{\"x\":[\"2011\",\"2012\",\"2013\",\"2014\",\"2015\",\"2016\",\"2017\"],\"y\":[69.73643076577738,76.28621410347083,82.34338029433856,78.83132852098582,79.67428038697987,84.88400348022606,81.7564251787433]},\"selected\":{\"id\":\"9728\",\"type\":\"Selection\"},\"selection_policy\":{\"id\":\"9729\",\"type\":\"UnionRenderers\"}},\"id\":\"9711\",\"type\":\"ColumnDataSource\"},{\"attributes\":{},\"id\":\"9686\",\"type\":\"WheelZoomTool\"},{\"attributes\":{\"data_source\":{\"id\":\"9732\",\"type\":\"ColumnDataSource\"},\"glyph\":{\"id\":\"9733\",\"type\":\"Circle\"},\"hover_glyph\":null,\"muted_glyph\":null,\"nonselection_glyph\":{\"id\":\"9734\",\"type\":\"Circle\"},\"selection_glyph\":null,\"view\":{\"id\":\"9736\",\"type\":\"CDSView\"}},\"id\":\"9735\",\"type\":\"GlyphRenderer\"},{\"attributes\":{},\"id\":\"9690\",\"type\":\"HelpTool\"},{\"attributes\":{},\"id\":\"10149\",\"type\":\"UnionRenderers\"},{\"attributes\":{\"fill_color\":{\"value\":\"#FA1857\"},\"line_color\":{\"value\":\"#FA1857\"},\"line_width\":{\"value\":3},\"x\":{\"field\":\"x\"},\"y\":{\"field\":\"y\"}},\"id\":\"9712\",\"type\":\"Circle\"},{\"attributes\":{\"source\":{\"id\":\"9732\",\"type\":\"ColumnDataSource\"}},\"id\":\"9736\",\"type\":\"CDSView\"},{\"attributes\":{\"fill_alpha\":{\"value\":0.1},\"fill_color\":{\"value\":\"#1f77b4\"},\"line_alpha\":{\"value\":0.1},\"line_color\":{\"value\":\"#1f77b4\"},\"line_width\":{\"value\":3},\"x\":{\"field\":\"x\"},\"y\":{\"field\":\"y\"}},\"id\":\"9759\",\"type\":\"Circle\"},{\"attributes\":{},\"id\":\"9671\",\"type\":\"LinearScale\"},{\"attributes\":{},\"id\":\"9707\",\"type\":\"BasicTickFormatter\"},{\"attributes\":{\"overlay\":{\"id\":\"9708\",\"type\":\"BoxAnnotation\"}},\"id\":\"9687\",\"type\":\"BoxZoomTool\"},{\"attributes\":{\"label\":{\"value\":\"Developing excluding LDCs\"},\"renderers\":[{\"id\":\"9719\",\"type\":\"GlyphRenderer\"}]},\"id\":\"9731\",\"type\":\"LegendItem\"},{\"attributes\":{\"data_source\":{\"id\":\"9757\",\"type\":\"ColumnDataSource\"},\"glyph\":{\"id\":\"9758\",\"type\":\"Circle\"},\"hover_glyph\":null,\"muted_glyph\":null,\"nonselection_glyph\":{\"id\":\"9759\",\"type\":\"Circle\"},\"selection_glyph\":null,\"view\":{\"id\":\"9761\",\"type\":\"CDSView\"}},\"id\":\"9760\",\"type\":\"GlyphRenderer\"},{\"attributes\":{},\"id\":\"9689\",\"type\":\"ResetTool\"},{\"attributes\":{},\"id\":\"9673\",\"type\":\"LinearScale\"},{\"attributes\":{\"bottom_units\":\"screen\",\"fill_alpha\":{\"value\":0.5},\"fill_color\":{\"value\":\"lightgrey\"},\"left_units\":\"screen\",\"level\":\"overlay\",\"line_alpha\":{\"value\":1.0},\"line_color\":{\"value\":\"black\"},\"line_dash\":[4,4],\"line_width\":{\"value\":2},\"render_mode\":\"css\",\"right_units\":\"screen\",\"top_units\":\"screen\"},\"id\":\"9708\",\"type\":\"BoxAnnotation\"},{\"attributes\":{\"callback\":null,\"data\":{\"x\":[\"2011\",\"2012\",\"2013\",\"2014\",\"2015\",\"2016\",\"2017\"],\"y\":[86.52637049847509,90.79201280313602,89.77735203026296,93.27009066227772,99.2167206572208,99.33845058757791,90.85673268334823]},\"selected\":{\"id\":\"9753\",\"type\":\"Selection\"},\"selection_policy\":{\"id\":\"9754\",\"type\":\"UnionRenderers\"}},\"id\":\"9732\",\"type\":\"ColumnDataSource\"},{\"attributes\":{\"source\":{\"id\":\"9757\",\"type\":\"ColumnDataSource\"}},\"id\":\"9761\",\"type\":\"CDSView\"},{\"attributes\":{\"axis_label\":\"Years\",\"formatter\":{\"id\":\"9705\",\"type\":\"BasicTickFormatter\"},\"ticker\":{\"id\":\"9676\",\"type\":\"BasicTicker\"}},\"id\":\"9675\",\"type\":\"LinearAxis\"},{\"attributes\":{\"items\":[{\"id\":\"9710\",\"type\":\"LegendItem\"},{\"id\":\"9731\",\"type\":\"LegendItem\"},{\"id\":\"9756\",\"type\":\"LegendItem\"}],\"location\":\"bottom_left\"},\"id\":\"9709\",\"type\":\"Legend\"},{\"attributes\":{\"line_color\":\"#FA1857\",\"x\":{\"field\":\"x\"},\"y\":{\"field\":\"y\"}},\"id\":\"9699\",\"type\":\"Line\"},{\"attributes\":{\"fill_color\":{\"value\":\"#5430F1\"},\"line_color\":{\"value\":\"#5430F1\"},\"line_width\":{\"value\":3},\"x\":{\"field\":\"x\"},\"y\":{\"field\":\"y\"}},\"id\":\"9733\",\"type\":\"Circle\"},{\"attributes\":{\"label\":{\"value\":\"UMICs\"},\"renderers\":[{\"id\":\"9740\",\"type\":\"GlyphRenderer\"}]},\"id\":\"9756\",\"type\":\"LegendItem\"},{\"attributes\":{},\"id\":\"9688\",\"type\":\"SaveTool\"},{\"attributes\":{\"text\":\"Literacy rate, youth female (% of females ages 15-24) weighted against Population, total\"},\"id\":\"9665\",\"type\":\"Title\"},{\"attributes\":{},\"id\":\"9727\",\"type\":\"UnionRenderers\"},{\"attributes\":{\"source\":{\"id\":\"9698\",\"type\":\"ColumnDataSource\"}},\"id\":\"9702\",\"type\":\"CDSView\"},{\"attributes\":{\"callback\":null},\"id\":\"9667\",\"type\":\"DataRange1d\"},{\"attributes\":{},\"id\":\"9728\",\"type\":\"Selection\"},{\"attributes\":{},\"id\":\"9705\",\"type\":\"BasicTickFormatter\"},{\"attributes\":{\"fill_color\":{\"value\":\"#2CC775\"},\"line_color\":{\"value\":\"#2CC775\"},\"line_width\":{\"value\":3},\"x\":{\"field\":\"x\"},\"y\":{\"field\":\"y\"}},\"id\":\"9758\",\"type\":\"Circle\"},{\"attributes\":{\"callback\":null},\"id\":\"9669\",\"type\":\"DataRange1d\"},{\"attributes\":{\"callback\":null,\"data\":{\"x\":[\"2011\",\"2012\",\"2013\",\"2014\",\"2015\",\"2016\",\"2017\"],\"y\":[98.79246433133073,98.91166421847787,98.96779030929173,99.06962254043965,99.11181905005378,99.23710774713751,99.10889426005937]},\"selected\":{\"id\":\"10150\",\"type\":\"Selection\"},\"selection_policy\":{\"id\":\"10151\",\"type\":\"UnionRenderers\"}},\"id\":\"9757\",\"type\":\"ColumnDataSource\"},{\"attributes\":{},\"id\":\"9729\",\"type\":\"UnionRenderers\"},{\"attributes\":{},\"id\":\"9752\",\"type\":\"UnionRenderers\"},{\"attributes\":{\"active_drag\":\"auto\",\"active_inspect\":\"auto\",\"active_multi\":null,\"active_scroll\":\"auto\",\"active_tap\":\"auto\",\"tools\":[{\"id\":\"9685\",\"type\":\"PanTool\"},{\"id\":\"9686\",\"type\":\"WheelZoomTool\"},{\"id\":\"9687\",\"type\":\"BoxZoomTool\"},{\"id\":\"9688\",\"type\":\"SaveTool\"},{\"id\":\"9689\",\"type\":\"ResetTool\"},{\"id\":\"9690\",\"type\":\"HelpTool\"},{\"id\":\"9762\",\"type\":\"HoverTool\"}]},\"id\":\"9691\",\"type\":\"Toolbar\"},{\"attributes\":{\"data_source\":{\"id\":\"9716\",\"type\":\"ColumnDataSource\"},\"glyph\":{\"id\":\"9717\",\"type\":\"Line\"},\"hover_glyph\":null,\"muted_glyph\":null,\"nonselection_glyph\":{\"id\":\"9718\",\"type\":\"Line\"},\"selection_glyph\":null,\"view\":{\"id\":\"9720\",\"type\":\"CDSView\"}},\"id\":\"9719\",\"type\":\"GlyphRenderer\"},{\"attributes\":{\"line_alpha\":0.1,\"line_color\":\"#1f77b4\",\"x\":{\"field\":\"x\"},\"y\":{\"field\":\"y\"}},\"id\":\"9700\",\"type\":\"Line\"},{\"attributes\":{},\"id\":\"9753\",\"type\":\"Selection\"},{\"attributes\":{\"source\":{\"id\":\"9716\",\"type\":\"ColumnDataSource\"}},\"id\":\"9720\",\"type\":\"CDSView\"},{\"attributes\":{},\"id\":\"9754\",\"type\":\"UnionRenderers\"},{\"attributes\":{\"data_source\":{\"id\":\"9698\",\"type\":\"ColumnDataSource\"},\"glyph\":{\"id\":\"9699\",\"type\":\"Line\"},\"hover_glyph\":null,\"muted_glyph\":null,\"nonselection_glyph\":{\"id\":\"9700\",\"type\":\"Line\"},\"selection_glyph\":null,\"view\":{\"id\":\"9702\",\"type\":\"CDSView\"}},\"id\":\"9701\",\"type\":\"GlyphRenderer\"},{\"attributes\":{},\"id\":\"9726\",\"type\":\"Selection\"},{\"attributes\":{\"callback\":null,\"data\":{\"x\":[\"2011\",\"2012\",\"2013\",\"2014\",\"2015\",\"2016\",\"2017\"],\"y\":[86.52637049847509,90.79201280313602,89.77735203026296,93.27009066227772,99.2167206572208,99.33845058757791,90.85673268334823]},\"selected\":{\"id\":\"9751\",\"type\":\"Selection\"},\"selection_policy\":{\"id\":\"9752\",\"type\":\"UnionRenderers\"}},\"id\":\"9716\",\"type\":\"ColumnDataSource\"}],\"root_ids\":[\"9664\"]},\"title\":\"Bokeh Application\",\"version\":\"1.3.4\"}};\n",
       "  var render_items = [{\"docid\":\"3be422cd-1ce6-4f75-90c6-908365dae03d\",\"roots\":{\"9664\":\"17e91162-38be-4591-952a-18b52851f4b0\"}}];\n",
       "  root.Bokeh.embed.embed_items_notebook(docs_json, render_items);\n",
       "\n",
       "  }\n",
       "  if (root.Bokeh !== undefined) {\n",
       "    embed_document(root);\n",
       "  } else {\n",
       "    var attempts = 0;\n",
       "    var timer = setInterval(function(root) {\n",
       "      if (root.Bokeh !== undefined) {\n",
       "        embed_document(root);\n",
       "        clearInterval(timer);\n",
       "      }\n",
       "      attempts++;\n",
       "      if (attempts > 100) {\n",
       "        console.log(\"Bokeh: ERROR: Unable to run BokehJS code because BokehJS library is missing\");\n",
       "        clearInterval(timer);\n",
       "      }\n",
       "    }, 10, root)\n",
       "  }\n",
       "})(window);"
      ],
      "application/vnd.bokehjs_exec.v0+json": ""
     },
     "metadata": {
      "application/vnd.bokehjs_exec.v0+json": {
       "id": "9664"
      }
     },
     "output_type": "display_data"
    }
   ],
   "source": [
    "# Literacy rate, youth female (% of females ages 15-24)\n",
    "years = list(map(str, list(range(2011,2018))))\n",
    "result = show_weighted_average(years, 'SE.ADT.1524.LT.FE.ZS', 'SP.POP.TOTL', \n",
    "                               ['LDCs', 'Developing excluding LDCs', 'UMICs'])"
   ]
  },
  {
   "cell_type": "markdown",
   "metadata": {},
   "source": [
    "# Shelter"
   ]
  },
  {
   "cell_type": "code",
   "execution_count": 29,
   "metadata": {
    "ExecuteTime": {
     "end_time": "2019-10-25T14:25:51.766648Z",
     "start_time": "2019-10-25T14:25:50.523438Z"
    }
   },
   "outputs": [
    {
     "data": {
      "text/html": [
       "\n",
       "\n",
       "\n",
       "\n",
       "\n",
       "\n",
       "  <div class=\"bk-root\" id=\"47366580-00cf-427f-98b2-c64d6537d6f0\" data-root-id=\"10261\"></div>\n"
      ]
     },
     "metadata": {},
     "output_type": "display_data"
    },
    {
     "data": {
      "application/javascript": [
       "(function(root) {\n",
       "  function embed_document(root) {\n",
       "    \n",
       "  var docs_json = {\"49721d5c-39a6-4b14-b31b-c02173033580\":{\"roots\":{\"references\":[{\"attributes\":{\"below\":[{\"id\":\"10272\",\"type\":\"LinearAxis\"}],\"center\":[{\"id\":\"10276\",\"type\":\"Grid\"},{\"id\":\"10281\",\"type\":\"Grid\"},{\"id\":\"10306\",\"type\":\"Legend\"}],\"left\":[{\"id\":\"10277\",\"type\":\"LinearAxis\"}],\"plot_height\":400,\"plot_width\":800,\"renderers\":[{\"id\":\"10298\",\"type\":\"GlyphRenderer\"},{\"id\":\"10311\",\"type\":\"GlyphRenderer\"},{\"id\":\"10316\",\"type\":\"GlyphRenderer\"},{\"id\":\"10332\",\"type\":\"GlyphRenderer\"},{\"id\":\"10337\",\"type\":\"GlyphRenderer\"},{\"id\":\"10357\",\"type\":\"GlyphRenderer\"}],\"title\":{\"id\":\"10262\",\"type\":\"Title\"},\"toolbar\":{\"id\":\"10288\",\"type\":\"Toolbar\"},\"x_range\":{\"id\":\"10264\",\"type\":\"DataRange1d\"},\"x_scale\":{\"id\":\"10268\",\"type\":\"LinearScale\"},\"y_range\":{\"id\":\"10266\",\"type\":\"DataRange1d\"},\"y_scale\":{\"id\":\"10270\",\"type\":\"LinearScale\"}},\"id\":\"10261\",\"subtype\":\"Figure\",\"type\":\"Plot\"},{\"attributes\":{},\"id\":\"10325\",\"type\":\"Selection\"},{\"attributes\":{},\"id\":\"10323\",\"type\":\"Selection\"},{\"attributes\":{\"dimension\":1,\"grid_line_alpha\":0.5,\"ticker\":{\"id\":\"10278\",\"type\":\"BasicTicker\"}},\"id\":\"10281\",\"type\":\"Grid\"},{\"attributes\":{\"label\":{\"value\":\"Developing excluding LDCs\"},\"renderers\":[{\"id\":\"10316\",\"type\":\"GlyphRenderer\"}]},\"id\":\"10328\",\"type\":\"LegendItem\"},{\"attributes\":{},\"id\":\"10283\",\"type\":\"WheelZoomTool\"},{\"attributes\":{},\"id\":\"10764\",\"type\":\"UnionRenderers\"},{\"attributes\":{\"data_source\":{\"id\":\"10313\",\"type\":\"ColumnDataSource\"},\"glyph\":{\"id\":\"10314\",\"type\":\"Line\"},\"hover_glyph\":null,\"muted_glyph\":null,\"nonselection_glyph\":{\"id\":\"10315\",\"type\":\"Line\"},\"selection_glyph\":null,\"view\":{\"id\":\"10317\",\"type\":\"CDSView\"}},\"id\":\"10316\",\"type\":\"GlyphRenderer\"},{\"attributes\":{},\"id\":\"10351\",\"type\":\"UnionRenderers\"},{\"attributes\":{\"axis_label\":\"Years\",\"formatter\":{\"id\":\"10302\",\"type\":\"BasicTickFormatter\"},\"ticker\":{\"id\":\"10273\",\"type\":\"BasicTicker\"}},\"id\":\"10272\",\"type\":\"LinearAxis\"},{\"attributes\":{\"line_color\":\"#2CC775\",\"x\":{\"field\":\"x\"},\"y\":{\"field\":\"y\"}},\"id\":\"10335\",\"type\":\"Line\"},{\"attributes\":{\"fill_color\":{\"value\":\"#FA1857\"},\"line_color\":{\"value\":\"#FA1857\"},\"line_width\":{\"value\":3},\"x\":{\"field\":\"x\"},\"y\":{\"field\":\"y\"}},\"id\":\"10309\",\"type\":\"Circle\"},{\"attributes\":{\"fill_alpha\":{\"value\":0.1},\"fill_color\":{\"value\":\"#1f77b4\"},\"line_alpha\":{\"value\":0.1},\"line_color\":{\"value\":\"#1f77b4\"},\"line_width\":{\"value\":3},\"x\":{\"field\":\"x\"},\"y\":{\"field\":\"y\"}},\"id\":\"10331\",\"type\":\"Circle\"},{\"attributes\":{\"callback\":null},\"id\":\"10264\",\"type\":\"DataRange1d\"},{\"attributes\":{},\"id\":\"10287\",\"type\":\"HelpTool\"},{\"attributes\":{},\"id\":\"10348\",\"type\":\"Selection\"},{\"attributes\":{},\"id\":\"10765\",\"type\":\"Selection\"},{\"attributes\":{},\"id\":\"10268\",\"type\":\"LinearScale\"},{\"attributes\":{\"callback\":null,\"data\":{\"x\":[\"2000\",\"2005\",\"2007\",\"2009\",\"2014\"],\"y\":[76.78621372378811,70.18532090390086,68.76988136557345,65.70655306857522,62.75026305440896]},\"selected\":{\"id\":\"10323\",\"type\":\"Selection\"},\"selection_policy\":{\"id\":\"10324\",\"type\":\"UnionRenderers\"}},\"id\":\"10295\",\"type\":\"ColumnDataSource\"},{\"attributes\":{},\"id\":\"10302\",\"type\":\"BasicTickFormatter\"},{\"attributes\":{},\"id\":\"10286\",\"type\":\"ResetTool\"},{\"attributes\":{\"fill_alpha\":{\"value\":0.1},\"fill_color\":{\"value\":\"#1f77b4\"},\"line_alpha\":{\"value\":0.1},\"line_color\":{\"value\":\"#1f77b4\"},\"line_width\":{\"value\":3},\"x\":{\"field\":\"x\"},\"y\":{\"field\":\"y\"}},\"id\":\"10356\",\"type\":\"Circle\"},{\"attributes\":{\"overlay\":{\"id\":\"10305\",\"type\":\"BoxAnnotation\"}},\"id\":\"10284\",\"type\":\"BoxZoomTool\"},{\"attributes\":{\"line_alpha\":0.1,\"line_color\":\"#1f77b4\",\"x\":{\"field\":\"x\"},\"y\":{\"field\":\"y\"}},\"id\":\"10336\",\"type\":\"Line\"},{\"attributes\":{},\"id\":\"10304\",\"type\":\"BasicTickFormatter\"},{\"attributes\":{\"callback\":null,\"tooltips\":\"                \\n        <div style=padding=5px>Year:@x</div>\\n        <div style=padding=5px>Value:@y</div>        \\n        \"},\"id\":\"10359\",\"type\":\"HoverTool\"},{\"attributes\":{\"line_color\":\"#FA1857\",\"x\":{\"field\":\"x\"},\"y\":{\"field\":\"y\"}},\"id\":\"10296\",\"type\":\"Line\"},{\"attributes\":{},\"id\":\"10273\",\"type\":\"BasicTicker\"},{\"attributes\":{\"fill_color\":{\"value\":\"#5430F1\"},\"line_color\":{\"value\":\"#5430F1\"},\"line_width\":{\"value\":3},\"x\":{\"field\":\"x\"},\"y\":{\"field\":\"y\"}},\"id\":\"10330\",\"type\":\"Circle\"},{\"attributes\":{\"source\":{\"id\":\"10329\",\"type\":\"ColumnDataSource\"}},\"id\":\"10333\",\"type\":\"CDSView\"},{\"attributes\":{\"callback\":null,\"data\":{\"x\":[\"2000\",\"2005\",\"2007\",\"2009\",\"2014\"],\"y\":[76.78621372378811,70.18532090390086,68.76988136557345,65.70655306857522,62.75026305440896]},\"selected\":{\"id\":\"10325\",\"type\":\"Selection\"},\"selection_policy\":{\"id\":\"10326\",\"type\":\"UnionRenderers\"}},\"id\":\"10308\",\"type\":\"ColumnDataSource\"},{\"attributes\":{\"text\":\"Population living in slums (% of urban population) weighted against Urban population\"},\"id\":\"10262\",\"type\":\"Title\"},{\"attributes\":{\"bottom_units\":\"screen\",\"fill_alpha\":{\"value\":0.5},\"fill_color\":{\"value\":\"lightgrey\"},\"left_units\":\"screen\",\"level\":\"overlay\",\"line_alpha\":{\"value\":1.0},\"line_color\":{\"value\":\"black\"},\"line_dash\":[4,4],\"line_width\":{\"value\":2},\"render_mode\":\"css\",\"right_units\":\"screen\",\"top_units\":\"screen\"},\"id\":\"10305\",\"type\":\"BoxAnnotation\"},{\"attributes\":{\"fill_alpha\":{\"value\":0.1},\"fill_color\":{\"value\":\"#1f77b4\"},\"line_alpha\":{\"value\":0.1},\"line_color\":{\"value\":\"#1f77b4\"},\"line_width\":{\"value\":3},\"x\":{\"field\":\"x\"},\"y\":{\"field\":\"y\"}},\"id\":\"10310\",\"type\":\"Circle\"},{\"attributes\":{},\"id\":\"10766\",\"type\":\"UnionRenderers\"},{\"attributes\":{\"label\":{\"value\":\"OECD\"},\"renderers\":[{\"id\":\"10337\",\"type\":\"GlyphRenderer\"}]},\"id\":\"10353\",\"type\":\"LegendItem\"},{\"attributes\":{\"label\":{\"value\":\"LDCs\"},\"renderers\":[{\"id\":\"10298\",\"type\":\"GlyphRenderer\"}]},\"id\":\"10307\",\"type\":\"LegendItem\"},{\"attributes\":{\"data_source\":{\"id\":\"10354\",\"type\":\"ColumnDataSource\"},\"glyph\":{\"id\":\"10355\",\"type\":\"Circle\"},\"hover_glyph\":null,\"muted_glyph\":null,\"nonselection_glyph\":{\"id\":\"10356\",\"type\":\"Circle\"},\"selection_glyph\":null,\"view\":{\"id\":\"10358\",\"type\":\"CDSView\"}},\"id\":\"10357\",\"type\":\"GlyphRenderer\"},{\"attributes\":{\"source\":{\"id\":\"10295\",\"type\":\"ColumnDataSource\"}},\"id\":\"10299\",\"type\":\"CDSView\"},{\"attributes\":{},\"id\":\"10763\",\"type\":\"Selection\"},{\"attributes\":{},\"id\":\"10349\",\"type\":\"UnionRenderers\"},{\"attributes\":{},\"id\":\"10285\",\"type\":\"SaveTool\"},{\"attributes\":{\"items\":[{\"id\":\"10307\",\"type\":\"LegendItem\"},{\"id\":\"10328\",\"type\":\"LegendItem\"},{\"id\":\"10353\",\"type\":\"LegendItem\"}],\"location\":\"bottom_left\"},\"id\":\"10306\",\"type\":\"Legend\"},{\"attributes\":{\"line_color\":\"#5430F1\",\"x\":{\"field\":\"x\"},\"y\":{\"field\":\"y\"}},\"id\":\"10314\",\"type\":\"Line\"},{\"attributes\":{\"line_alpha\":0.1,\"line_color\":\"#1f77b4\",\"x\":{\"field\":\"x\"},\"y\":{\"field\":\"y\"}},\"id\":\"10297\",\"type\":\"Line\"},{\"attributes\":{\"source\":{\"id\":\"10354\",\"type\":\"ColumnDataSource\"}},\"id\":\"10358\",\"type\":\"CDSView\"},{\"attributes\":{\"data_source\":{\"id\":\"10308\",\"type\":\"ColumnDataSource\"},\"glyph\":{\"id\":\"10309\",\"type\":\"Circle\"},\"hover_glyph\":null,\"muted_glyph\":null,\"nonselection_glyph\":{\"id\":\"10310\",\"type\":\"Circle\"},\"selection_glyph\":null,\"view\":{\"id\":\"10312\",\"type\":\"CDSView\"}},\"id\":\"10311\",\"type\":\"GlyphRenderer\"},{\"attributes\":{\"callback\":null},\"id\":\"10266\",\"type\":\"DataRange1d\"},{\"attributes\":{\"callback\":null,\"data\":{\"x\":[\"2000\",\"2005\",\"2007\",\"2009\",\"2014\"],\"y\":[37.06642748310544,32.26467852416708,30.926899986307756,30.089181030908218,25.64394447134966]},\"selected\":{\"id\":\"10350\",\"type\":\"Selection\"},\"selection_policy\":{\"id\":\"10351\",\"type\":\"UnionRenderers\"}},\"id\":\"10329\",\"type\":\"ColumnDataSource\"},{\"attributes\":{\"callback\":null,\"data\":{\"x\":[\"2000\",\"2005\",\"2007\",\"2009\",\"2014\"],\"y\":[19.186981494515138,14.221528307791516,14.290817645409502,13.0,11.398005045670415]},\"selected\":{\"id\":\"10763\",\"type\":\"Selection\"},\"selection_policy\":{\"id\":\"10764\",\"type\":\"UnionRenderers\"}},\"id\":\"10334\",\"type\":\"ColumnDataSource\"},{\"attributes\":{\"data_source\":{\"id\":\"10329\",\"type\":\"ColumnDataSource\"},\"glyph\":{\"id\":\"10330\",\"type\":\"Circle\"},\"hover_glyph\":null,\"muted_glyph\":null,\"nonselection_glyph\":{\"id\":\"10331\",\"type\":\"Circle\"},\"selection_glyph\":null,\"view\":{\"id\":\"10333\",\"type\":\"CDSView\"}},\"id\":\"10332\",\"type\":\"GlyphRenderer\"},{\"attributes\":{},\"id\":\"10282\",\"type\":\"PanTool\"},{\"attributes\":{},\"id\":\"10270\",\"type\":\"LinearScale\"},{\"attributes\":{\"callback\":null,\"data\":{\"x\":[\"2000\",\"2005\",\"2007\",\"2009\",\"2014\"],\"y\":[37.06642748310544,32.26467852416708,30.926899986307756,30.089181030908218,25.64394447134966]},\"selected\":{\"id\":\"10348\",\"type\":\"Selection\"},\"selection_policy\":{\"id\":\"10349\",\"type\":\"UnionRenderers\"}},\"id\":\"10313\",\"type\":\"ColumnDataSource\"},{\"attributes\":{\"grid_line_color\":null,\"ticker\":{\"id\":\"10273\",\"type\":\"BasicTicker\"}},\"id\":\"10276\",\"type\":\"Grid\"},{\"attributes\":{\"callback\":null,\"data\":{\"x\":[\"2000\",\"2005\",\"2007\",\"2009\",\"2014\"],\"y\":[19.186981494515138,14.221528307791516,14.290817645409502,13.0,11.398005045670415]},\"selected\":{\"id\":\"10765\",\"type\":\"Selection\"},\"selection_policy\":{\"id\":\"10766\",\"type\":\"UnionRenderers\"}},\"id\":\"10354\",\"type\":\"ColumnDataSource\"},{\"attributes\":{},\"id\":\"10278\",\"type\":\"BasicTicker\"},{\"attributes\":{\"source\":{\"id\":\"10334\",\"type\":\"ColumnDataSource\"}},\"id\":\"10338\",\"type\":\"CDSView\"},{\"attributes\":{\"source\":{\"id\":\"10308\",\"type\":\"ColumnDataSource\"}},\"id\":\"10312\",\"type\":\"CDSView\"},{\"attributes\":{\"axis_label\":\"EN.POP.SLUM.UR.ZS\",\"formatter\":{\"id\":\"10304\",\"type\":\"BasicTickFormatter\"},\"ticker\":{\"id\":\"10278\",\"type\":\"BasicTicker\"}},\"id\":\"10277\",\"type\":\"LinearAxis\"},{\"attributes\":{},\"id\":\"10350\",\"type\":\"Selection\"},{\"attributes\":{\"source\":{\"id\":\"10313\",\"type\":\"ColumnDataSource\"}},\"id\":\"10317\",\"type\":\"CDSView\"},{\"attributes\":{\"fill_color\":{\"value\":\"#2CC775\"},\"line_color\":{\"value\":\"#2CC775\"},\"line_width\":{\"value\":3},\"x\":{\"field\":\"x\"},\"y\":{\"field\":\"y\"}},\"id\":\"10355\",\"type\":\"Circle\"},{\"attributes\":{},\"id\":\"10324\",\"type\":\"UnionRenderers\"},{\"attributes\":{},\"id\":\"10326\",\"type\":\"UnionRenderers\"},{\"attributes\":{\"active_drag\":\"auto\",\"active_inspect\":\"auto\",\"active_multi\":null,\"active_scroll\":\"auto\",\"active_tap\":\"auto\",\"tools\":[{\"id\":\"10282\",\"type\":\"PanTool\"},{\"id\":\"10283\",\"type\":\"WheelZoomTool\"},{\"id\":\"10284\",\"type\":\"BoxZoomTool\"},{\"id\":\"10285\",\"type\":\"SaveTool\"},{\"id\":\"10286\",\"type\":\"ResetTool\"},{\"id\":\"10287\",\"type\":\"HelpTool\"},{\"id\":\"10359\",\"type\":\"HoverTool\"}]},\"id\":\"10288\",\"type\":\"Toolbar\"},{\"attributes\":{\"data_source\":{\"id\":\"10334\",\"type\":\"ColumnDataSource\"},\"glyph\":{\"id\":\"10335\",\"type\":\"Line\"},\"hover_glyph\":null,\"muted_glyph\":null,\"nonselection_glyph\":{\"id\":\"10336\",\"type\":\"Line\"},\"selection_glyph\":null,\"view\":{\"id\":\"10338\",\"type\":\"CDSView\"}},\"id\":\"10337\",\"type\":\"GlyphRenderer\"},{\"attributes\":{\"line_alpha\":0.1,\"line_color\":\"#1f77b4\",\"x\":{\"field\":\"x\"},\"y\":{\"field\":\"y\"}},\"id\":\"10315\",\"type\":\"Line\"},{\"attributes\":{\"data_source\":{\"id\":\"10295\",\"type\":\"ColumnDataSource\"},\"glyph\":{\"id\":\"10296\",\"type\":\"Line\"},\"hover_glyph\":null,\"muted_glyph\":null,\"nonselection_glyph\":{\"id\":\"10297\",\"type\":\"Line\"},\"selection_glyph\":null,\"view\":{\"id\":\"10299\",\"type\":\"CDSView\"}},\"id\":\"10298\",\"type\":\"GlyphRenderer\"}],\"root_ids\":[\"10261\"]},\"title\":\"Bokeh Application\",\"version\":\"1.3.4\"}};\n",
       "  var render_items = [{\"docid\":\"49721d5c-39a6-4b14-b31b-c02173033580\",\"roots\":{\"10261\":\"47366580-00cf-427f-98b2-c64d6537d6f0\"}}];\n",
       "  root.Bokeh.embed.embed_items_notebook(docs_json, render_items);\n",
       "\n",
       "  }\n",
       "  if (root.Bokeh !== undefined) {\n",
       "    embed_document(root);\n",
       "  } else {\n",
       "    var attempts = 0;\n",
       "    var timer = setInterval(function(root) {\n",
       "      if (root.Bokeh !== undefined) {\n",
       "        embed_document(root);\n",
       "        clearInterval(timer);\n",
       "      }\n",
       "      attempts++;\n",
       "      if (attempts > 100) {\n",
       "        console.log(\"Bokeh: ERROR: Unable to run BokehJS code because BokehJS library is missing\");\n",
       "        clearInterval(timer);\n",
       "      }\n",
       "    }, 10, root)\n",
       "  }\n",
       "})(window);"
      ],
      "application/vnd.bokehjs_exec.v0+json": ""
     },
     "metadata": {
      "application/vnd.bokehjs_exec.v0+json": {
       "id": "10261"
      }
     },
     "output_type": "display_data"
    }
   ],
   "source": [
    "# Percentage of urban population living in slums\n",
    "years = ['2000', '2005', '2007', '2009', '2014']\n",
    "result = show_weighted_average(years, 'EN.POP.SLUM.UR.ZS', 'SP.URB.TOTL', \n",
    "                               ['LDCs', 'Developing excluding LDCs', 'OECD'])"
   ]
  },
  {
   "cell_type": "code",
   "execution_count": 30,
   "metadata": {
    "ExecuteTime": {
     "end_time": "2019-10-25T14:32:38.578383Z",
     "start_time": "2019-10-25T14:31:44.564667Z"
    }
   },
   "outputs": [
    {
     "data": {
      "text/html": [
       "\n",
       "\n",
       "\n",
       "\n",
       "\n",
       "\n",
       "  <div class=\"bk-root\" id=\"53d731f6-0e42-4abf-988e-1d1ed7306386\" data-root-id=\"10876\"></div>\n"
      ]
     },
     "metadata": {},
     "output_type": "display_data"
    },
    {
     "data": {
      "application/javascript": [
       "(function(root) {\n",
       "  function embed_document(root) {\n",
       "    \n",
       "  var docs_json = {\"c2383337-f54c-49a8-b3c9-2cefdd1d45f3\":{\"roots\":{\"references\":[{\"attributes\":{\"below\":[{\"id\":\"10887\",\"type\":\"LinearAxis\"}],\"center\":[{\"id\":\"10891\",\"type\":\"Grid\"},{\"id\":\"10896\",\"type\":\"Grid\"},{\"id\":\"10921\",\"type\":\"Legend\"}],\"left\":[{\"id\":\"10892\",\"type\":\"LinearAxis\"}],\"plot_height\":400,\"plot_width\":800,\"renderers\":[{\"id\":\"10913\",\"type\":\"GlyphRenderer\"},{\"id\":\"10926\",\"type\":\"GlyphRenderer\"},{\"id\":\"10931\",\"type\":\"GlyphRenderer\"},{\"id\":\"10947\",\"type\":\"GlyphRenderer\"},{\"id\":\"10952\",\"type\":\"GlyphRenderer\"},{\"id\":\"10972\",\"type\":\"GlyphRenderer\"}],\"title\":{\"id\":\"10877\",\"type\":\"Title\"},\"toolbar\":{\"id\":\"10903\",\"type\":\"Toolbar\"},\"x_range\":{\"id\":\"10879\",\"type\":\"DataRange1d\"},\"x_scale\":{\"id\":\"10883\",\"type\":\"LinearScale\"},\"y_range\":{\"id\":\"10881\",\"type\":\"DataRange1d\"},\"y_scale\":{\"id\":\"10885\",\"type\":\"LinearScale\"}},\"id\":\"10876\",\"subtype\":\"Figure\",\"type\":\"Plot\"},{\"attributes\":{\"data_source\":{\"id\":\"10928\",\"type\":\"ColumnDataSource\"},\"glyph\":{\"id\":\"10929\",\"type\":\"Line\"},\"hover_glyph\":null,\"muted_glyph\":null,\"nonselection_glyph\":{\"id\":\"10930\",\"type\":\"Line\"},\"selection_glyph\":null,\"view\":{\"id\":\"10932\",\"type\":\"CDSView\"}},\"id\":\"10931\",\"type\":\"GlyphRenderer\"},{\"attributes\":{\"fill_color\":{\"value\":\"#5430F1\"},\"line_color\":{\"value\":\"#5430F1\"},\"line_width\":{\"value\":3},\"x\":{\"field\":\"x\"},\"y\":{\"field\":\"y\"}},\"id\":\"10945\",\"type\":\"Circle\"},{\"attributes\":{\"source\":{\"id\":\"10969\",\"type\":\"ColumnDataSource\"}},\"id\":\"10973\",\"type\":\"CDSView\"},{\"attributes\":{},\"id\":\"10919\",\"type\":\"BasicTickFormatter\"},{\"attributes\":{},\"id\":\"10897\",\"type\":\"PanTool\"},{\"attributes\":{\"callback\":null},\"id\":\"10879\",\"type\":\"DataRange1d\"},{\"attributes\":{\"callback\":null,\"data\":{\"x\":[\"1960\",\"1961\",\"1962\",\"1963\",\"1964\",\"1965\",\"1966\",\"1967\",\"1968\",\"1969\",\"1970\",\"1971\",\"1972\",\"1973\",\"1974\",\"1975\",\"1976\",\"1977\",\"1978\",\"1979\",\"1980\",\"1981\",\"1982\",\"1983\",\"1984\",\"1985\",\"1986\",\"1987\",\"1988\",\"1989\",\"1990\",\"1991\",\"1992\",\"1993\",\"1994\",\"1995\",\"1996\",\"1997\",\"1998\",\"1999\",\"2000\",\"2001\",\"2002\",\"2003\",\"2004\",\"2005\",\"2006\",\"2007\",\"2008\",\"2009\",\"2010\",\"2011\",\"2012\",\"2013\",\"2014\",\"2015\",\"2016\",\"2017\"],\"y\":[22.646367535019042,23.159353394360398,23.650807481940124,24.10880707260157,24.576072690305928,24.754402529902354,24.936819497000638,25.135399743063957,25.330345398166408,25.52051292339253,25.711600017029788,25.930149038877573,26.189789968552645,26.498519181850494,26.854821326074745,27.21922935406714,27.569665361850735,27.927428025271823,28.408374749575376,29.012607874502493,29.626094628920157,30.264617646421645,30.88476620993583,31.450119223212013,32.02485420144193,32.59891164560345,33.16736401209923,33.73007957174527,34.29207623604852,34.85427588480823,35.41884303879125,35.99061168320017,36.524311127835745,37.096288195937035,37.670204359829796,38.26826429980952,38.8401923634646,39.41453760251364,39.992886420668675,40.57189378008285,41.160651343137516,41.807704062665806,42.50785249269604,43.20892742128887,43.91579760549425,44.62670210349144,45.32719545007659,46.02246034809535,46.719927262775805,47.414756928186044,48.10796472373857,48.772991717826265,49.42699822772284,50.07749000831065,50.726911880796486,51.372728748931614,52.01633984242857,52.655328268195724]},\"selected\":{\"id\":\"10965\",\"type\":\"Selection\"},\"selection_policy\":{\"id\":\"10966\",\"type\":\"UnionRenderers\"}},\"id\":\"10944\",\"type\":\"ColumnDataSource\"},{\"attributes\":{\"data_source\":{\"id\":\"10969\",\"type\":\"ColumnDataSource\"},\"glyph\":{\"id\":\"10970\",\"type\":\"Circle\"},\"hover_glyph\":null,\"muted_glyph\":null,\"nonselection_glyph\":{\"id\":\"10971\",\"type\":\"Circle\"},\"selection_glyph\":null,\"view\":{\"id\":\"10973\",\"type\":\"CDSView\"}},\"id\":\"10972\",\"type\":\"GlyphRenderer\"},{\"attributes\":{\"line_alpha\":0.1,\"line_color\":\"#1f77b4\",\"x\":{\"field\":\"x\"},\"y\":{\"field\":\"y\"}},\"id\":\"10912\",\"type\":\"Line\"},{\"attributes\":{\"line_alpha\":0.1,\"line_color\":\"#1f77b4\",\"x\":{\"field\":\"x\"},\"y\":{\"field\":\"y\"}},\"id\":\"10930\",\"type\":\"Line\"},{\"attributes\":{\"callback\":null},\"id\":\"10881\",\"type\":\"DataRange1d\"},{\"attributes\":{\"callback\":null,\"data\":{\"x\":[\"1960\",\"1961\",\"1962\",\"1963\",\"1964\",\"1965\",\"1966\",\"1967\",\"1968\",\"1969\",\"1970\",\"1971\",\"1972\",\"1973\",\"1974\",\"1975\",\"1976\",\"1977\",\"1978\",\"1979\",\"1980\",\"1981\",\"1982\",\"1983\",\"1984\",\"1985\",\"1986\",\"1987\",\"1988\",\"1989\",\"1990\",\"1991\",\"1992\",\"1993\",\"1994\",\"1995\",\"1996\",\"1997\",\"1998\",\"1999\",\"2000\",\"2001\",\"2002\",\"2003\",\"2004\",\"2005\",\"2006\",\"2007\",\"2008\",\"2009\",\"2010\",\"2011\",\"2012\",\"2013\",\"2014\",\"2015\",\"2016\",\"2017\"],\"y\":[9.694596850387763,9.940776914038576,10.208578023924911,10.490569792332288,10.786676079269657,11.093000692864887,11.408705950069086,11.757856293896815,12.121096984775779,12.501339085393989,12.882504687923733,13.301956341703553,13.74825933403769,14.20022819414328,14.658117471374087,14.563458800891116,15.048310618619109,15.554192307832162,16.077849464882206,16.58245994005764,17.157245184064905,17.666591608759823,18.019900732301828,18.40059310852793,18.820766261899337,19.265004885586393,19.712623452217006,20.164105809913796,20.62264937530869,21.058938369962696,21.509104067371112,21.933335356124694,22.335575011522703,22.724177040856873,23.062522993405008,23.385727861458065,23.707920689054898,24.03956301202416,24.36506813390805,24.691004101471197,25.024086639197435,25.411449152245495,25.829271626381995,26.261689473588106,26.695384287765474,27.14239799182873,27.583016355905283,27.978623693602632,28.465221977399377,28.961161588183558,29.46531554316522,29.976776610257286,30.455743181523303,30.958730869631772,31.466640511325554,31.9791513901057,32.49632977691262,33.018274499037716]},\"selected\":{\"id\":\"10938\",\"type\":\"Selection\"},\"selection_policy\":{\"id\":\"10939\",\"type\":\"UnionRenderers\"}},\"id\":\"10910\",\"type\":\"ColumnDataSource\"},{\"attributes\":{\"text\":\"Urban population (% of total population) weighted against Population, total\"},\"id\":\"10877\",\"type\":\"Title\"},{\"attributes\":{\"fill_alpha\":{\"value\":0.1},\"fill_color\":{\"value\":\"#1f77b4\"},\"line_alpha\":{\"value\":0.1},\"line_color\":{\"value\":\"#1f77b4\"},\"line_width\":{\"value\":3},\"x\":{\"field\":\"x\"},\"y\":{\"field\":\"y\"}},\"id\":\"10971\",\"type\":\"Circle\"},{\"attributes\":{\"line_color\":\"#5430F1\",\"x\":{\"field\":\"x\"},\"y\":{\"field\":\"y\"}},\"id\":\"10929\",\"type\":\"Line\"},{\"attributes\":{\"fill_color\":{\"value\":\"#2CC775\"},\"line_color\":{\"value\":\"#2CC775\"},\"line_width\":{\"value\":3},\"x\":{\"field\":\"x\"},\"y\":{\"field\":\"y\"}},\"id\":\"10970\",\"type\":\"Circle\"},{\"attributes\":{\"line_color\":\"#FA1857\",\"x\":{\"field\":\"x\"},\"y\":{\"field\":\"y\"}},\"id\":\"10911\",\"type\":\"Line\"},{\"attributes\":{\"callback\":null,\"tooltips\":\"                \\n        <div style=padding=5px>Year:@x</div>\\n        <div style=padding=5px>Value:@y</div>        \\n        \"},\"id\":\"10974\",\"type\":\"HoverTool\"},{\"attributes\":{},\"id\":\"10917\",\"type\":\"BasicTickFormatter\"},{\"attributes\":{\"callback\":null,\"data\":{\"x\":[\"1960\",\"1961\",\"1962\",\"1963\",\"1964\",\"1965\",\"1966\",\"1967\",\"1968\",\"1969\",\"1970\",\"1971\",\"1972\",\"1973\",\"1974\",\"1975\",\"1976\",\"1977\",\"1978\",\"1979\",\"1980\",\"1981\",\"1982\",\"1983\",\"1984\",\"1985\",\"1986\",\"1987\",\"1988\",\"1989\",\"1990\",\"1991\",\"1992\",\"1993\",\"1994\",\"1995\",\"1996\",\"1997\",\"1998\",\"1999\",\"2000\",\"2001\",\"2002\",\"2003\",\"2004\",\"2005\",\"2006\",\"2007\",\"2008\",\"2009\",\"2010\",\"2011\",\"2012\",\"2013\",\"2014\",\"2015\",\"2016\",\"2017\"],\"y\":[62.59953620237616,63.08957334358763,63.57872639334224,64.08376999046433,64.58687436549964,65.087407161162,65.58539185759696,66.09314622321546,66.58824055065821,67.06756237656948,67.52628342166688,67.91756952516317,68.27745658275356,68.62376906240875,68.9745801014019,69.30531568374833,69.56047988482551,69.80755583528435,70.0570392716649,70.30188257560143,70.54728708463239,70.84080263406176,71.11518000620043,71.37556979428155,71.62682223254069,71.87801848980098,72.13955415956409,72.4211398671853,72.7000259866276,72.95811736019994,73.23560195464822,73.51484019892555,73.77414817178924,74.03783660613713,74.30723436951402,74.5745666211642,74.81851175794863,75.05227180897651,75.28501173120483,75.5181692891309,75.74974074372007,76.09479632423921,76.49560193311356,76.87622336289719,77.24127255096394,77.59143098241435,77.91417063193697,78.21867292983931,78.51440926413176,78.80120853028673,79.08124691428517,79.29771074412386,79.48385416511948,79.66738879268615,79.8506569075482,80.0386620288315,80.22913025645875,80.4233314253301]},\"selected\":{\"id\":\"11398\",\"type\":\"Selection\"},\"selection_policy\":{\"id\":\"11399\",\"type\":\"UnionRenderers\"}},\"id\":\"10969\",\"type\":\"ColumnDataSource\"},{\"attributes\":{\"callback\":null,\"data\":{\"x\":[\"1960\",\"1961\",\"1962\",\"1963\",\"1964\",\"1965\",\"1966\",\"1967\",\"1968\",\"1969\",\"1970\",\"1971\",\"1972\",\"1973\",\"1974\",\"1975\",\"1976\",\"1977\",\"1978\",\"1979\",\"1980\",\"1981\",\"1982\",\"1983\",\"1984\",\"1985\",\"1986\",\"1987\",\"1988\",\"1989\",\"1990\",\"1991\",\"1992\",\"1993\",\"1994\",\"1995\",\"1996\",\"1997\",\"1998\",\"1999\",\"2000\",\"2001\",\"2002\",\"2003\",\"2004\",\"2005\",\"2006\",\"2007\",\"2008\",\"2009\",\"2010\",\"2011\",\"2012\",\"2013\",\"2014\",\"2015\",\"2016\",\"2017\"],\"y\":[22.646367535019042,23.159353394360398,23.650807481940124,24.10880707260157,24.576072690305928,24.754402529902354,24.936819497000638,25.135399743063957,25.330345398166408,25.52051292339253,25.711600017029788,25.930149038877573,26.189789968552645,26.498519181850494,26.854821326074745,27.21922935406714,27.569665361850735,27.927428025271823,28.408374749575376,29.012607874502493,29.626094628920157,30.264617646421645,30.88476620993583,31.450119223212013,32.02485420144193,32.59891164560345,33.16736401209923,33.73007957174527,34.29207623604852,34.85427588480823,35.41884303879125,35.99061168320017,36.524311127835745,37.096288195937035,37.670204359829796,38.26826429980952,38.8401923634646,39.41453760251364,39.992886420668675,40.57189378008285,41.160651343137516,41.807704062665806,42.50785249269604,43.20892742128887,43.91579760549425,44.62670210349144,45.32719545007659,46.02246034809535,46.719927262775805,47.414756928186044,48.10796472373857,48.772991717826265,49.42699822772284,50.07749000831065,50.726911880796486,51.372728748931614,52.01633984242857,52.655328268195724]},\"selected\":{\"id\":\"10963\",\"type\":\"Selection\"},\"selection_policy\":{\"id\":\"10964\",\"type\":\"UnionRenderers\"}},\"id\":\"10928\",\"type\":\"ColumnDataSource\"},{\"attributes\":{\"label\":{\"value\":\"OECD\"},\"renderers\":[{\"id\":\"10952\",\"type\":\"GlyphRenderer\"}]},\"id\":\"10968\",\"type\":\"LegendItem\"},{\"attributes\":{\"source\":{\"id\":\"10910\",\"type\":\"ColumnDataSource\"}},\"id\":\"10914\",\"type\":\"CDSView\"},{\"attributes\":{\"dimension\":1,\"grid_line_alpha\":0.5,\"ticker\":{\"id\":\"10893\",\"type\":\"BasicTicker\"}},\"id\":\"10896\",\"type\":\"Grid\"},{\"attributes\":{\"source\":{\"id\":\"10923\",\"type\":\"ColumnDataSource\"}},\"id\":\"10927\",\"type\":\"CDSView\"},{\"attributes\":{},\"id\":\"10966\",\"type\":\"UnionRenderers\"},{\"attributes\":{},\"id\":\"10898\",\"type\":\"WheelZoomTool\"},{\"attributes\":{},\"id\":\"10965\",\"type\":\"Selection\"},{\"attributes\":{\"data_source\":{\"id\":\"10923\",\"type\":\"ColumnDataSource\"},\"glyph\":{\"id\":\"10924\",\"type\":\"Circle\"},\"hover_glyph\":null,\"muted_glyph\":null,\"nonselection_glyph\":{\"id\":\"10925\",\"type\":\"Circle\"},\"selection_glyph\":null,\"view\":{\"id\":\"10927\",\"type\":\"CDSView\"}},\"id\":\"10926\",\"type\":\"GlyphRenderer\"},{\"attributes\":{},\"id\":\"10893\",\"type\":\"BasicTicker\"},{\"attributes\":{\"data_source\":{\"id\":\"10910\",\"type\":\"ColumnDataSource\"},\"glyph\":{\"id\":\"10911\",\"type\":\"Line\"},\"hover_glyph\":null,\"muted_glyph\":null,\"nonselection_glyph\":{\"id\":\"10912\",\"type\":\"Line\"},\"selection_glyph\":null,\"view\":{\"id\":\"10914\",\"type\":\"CDSView\"}},\"id\":\"10913\",\"type\":\"GlyphRenderer\"},{\"attributes\":{},\"id\":\"10964\",\"type\":\"UnionRenderers\"},{\"attributes\":{\"axis_label\":\"SP.URB.TOTL.IN.ZS\",\"formatter\":{\"id\":\"10919\",\"type\":\"BasicTickFormatter\"},\"ticker\":{\"id\":\"10893\",\"type\":\"BasicTicker\"}},\"id\":\"10892\",\"type\":\"LinearAxis\"},{\"attributes\":{\"fill_alpha\":{\"value\":0.1},\"fill_color\":{\"value\":\"#1f77b4\"},\"line_alpha\":{\"value\":0.1},\"line_color\":{\"value\":\"#1f77b4\"},\"line_width\":{\"value\":3},\"x\":{\"field\":\"x\"},\"y\":{\"field\":\"y\"}},\"id\":\"10925\",\"type\":\"Circle\"},{\"attributes\":{\"label\":{\"value\":\"Developing excluding LDCs\"},\"renderers\":[{\"id\":\"10931\",\"type\":\"GlyphRenderer\"}]},\"id\":\"10943\",\"type\":\"LegendItem\"},{\"attributes\":{},\"id\":\"10963\",\"type\":\"Selection\"},{\"attributes\":{\"active_drag\":\"auto\",\"active_inspect\":\"auto\",\"active_multi\":null,\"active_scroll\":\"auto\",\"active_tap\":\"auto\",\"tools\":[{\"id\":\"10897\",\"type\":\"PanTool\"},{\"id\":\"10898\",\"type\":\"WheelZoomTool\"},{\"id\":\"10899\",\"type\":\"BoxZoomTool\"},{\"id\":\"10900\",\"type\":\"SaveTool\"},{\"id\":\"10901\",\"type\":\"ResetTool\"},{\"id\":\"10902\",\"type\":\"HelpTool\"},{\"id\":\"10974\",\"type\":\"HoverTool\"}]},\"id\":\"10903\",\"type\":\"Toolbar\"},{\"attributes\":{},\"id\":\"11399\",\"type\":\"UnionRenderers\"},{\"attributes\":{\"source\":{\"id\":\"10949\",\"type\":\"ColumnDataSource\"}},\"id\":\"10953\",\"type\":\"CDSView\"},{\"attributes\":{\"fill_color\":{\"value\":\"#FA1857\"},\"line_color\":{\"value\":\"#FA1857\"},\"line_width\":{\"value\":3},\"x\":{\"field\":\"x\"},\"y\":{\"field\":\"y\"}},\"id\":\"10924\",\"type\":\"Circle\"},{\"attributes\":{},\"id\":\"10941\",\"type\":\"UnionRenderers\"},{\"attributes\":{},\"id\":\"11398\",\"type\":\"Selection\"},{\"attributes\":{\"grid_line_color\":null,\"ticker\":{\"id\":\"10888\",\"type\":\"BasicTicker\"}},\"id\":\"10891\",\"type\":\"Grid\"},{\"attributes\":{\"data_source\":{\"id\":\"10949\",\"type\":\"ColumnDataSource\"},\"glyph\":{\"id\":\"10950\",\"type\":\"Line\"},\"hover_glyph\":null,\"muted_glyph\":null,\"nonselection_glyph\":{\"id\":\"10951\",\"type\":\"Line\"},\"selection_glyph\":null,\"view\":{\"id\":\"10953\",\"type\":\"CDSView\"}},\"id\":\"10952\",\"type\":\"GlyphRenderer\"},{\"attributes\":{},\"id\":\"10902\",\"type\":\"HelpTool\"},{\"attributes\":{\"callback\":null,\"data\":{\"x\":[\"1960\",\"1961\",\"1962\",\"1963\",\"1964\",\"1965\",\"1966\",\"1967\",\"1968\",\"1969\",\"1970\",\"1971\",\"1972\",\"1973\",\"1974\",\"1975\",\"1976\",\"1977\",\"1978\",\"1979\",\"1980\",\"1981\",\"1982\",\"1983\",\"1984\",\"1985\",\"1986\",\"1987\",\"1988\",\"1989\",\"1990\",\"1991\",\"1992\",\"1993\",\"1994\",\"1995\",\"1996\",\"1997\",\"1998\",\"1999\",\"2000\",\"2001\",\"2002\",\"2003\",\"2004\",\"2005\",\"2006\",\"2007\",\"2008\",\"2009\",\"2010\",\"2011\",\"2012\",\"2013\",\"2014\",\"2015\",\"2016\",\"2017\"],\"y\":[9.694596850387763,9.940776914038576,10.208578023924911,10.490569792332288,10.786676079269657,11.093000692864887,11.408705950069086,11.757856293896815,12.121096984775779,12.501339085393989,12.882504687923733,13.301956341703553,13.74825933403769,14.20022819414328,14.658117471374087,14.563458800891116,15.048310618619109,15.554192307832162,16.077849464882206,16.58245994005764,17.157245184064905,17.666591608759823,18.019900732301828,18.40059310852793,18.820766261899337,19.265004885586393,19.712623452217006,20.164105809913796,20.62264937530869,21.058938369962696,21.509104067371112,21.933335356124694,22.335575011522703,22.724177040856873,23.062522993405008,23.385727861458065,23.707920689054898,24.03956301202416,24.36506813390805,24.691004101471197,25.024086639197435,25.411449152245495,25.829271626381995,26.261689473588106,26.695384287765474,27.14239799182873,27.583016355905283,27.978623693602632,28.465221977399377,28.961161588183558,29.46531554316522,29.976776610257286,30.455743181523303,30.958730869631772,31.466640511325554,31.9791513901057,32.49632977691262,33.018274499037716]},\"selected\":{\"id\":\"10940\",\"type\":\"Selection\"},\"selection_policy\":{\"id\":\"10941\",\"type\":\"UnionRenderers\"}},\"id\":\"10923\",\"type\":\"ColumnDataSource\"},{\"attributes\":{\"line_alpha\":0.1,\"line_color\":\"#1f77b4\",\"x\":{\"field\":\"x\"},\"y\":{\"field\":\"y\"}},\"id\":\"10951\",\"type\":\"Line\"},{\"attributes\":{},\"id\":\"10888\",\"type\":\"BasicTicker\"},{\"attributes\":{},\"id\":\"10940\",\"type\":\"Selection\"},{\"attributes\":{},\"id\":\"10901\",\"type\":\"ResetTool\"},{\"attributes\":{},\"id\":\"11397\",\"type\":\"UnionRenderers\"},{\"attributes\":{\"line_color\":\"#2CC775\",\"x\":{\"field\":\"x\"},\"y\":{\"field\":\"y\"}},\"id\":\"10950\",\"type\":\"Line\"},{\"attributes\":{\"label\":{\"value\":\"LDCs\"},\"renderers\":[{\"id\":\"10913\",\"type\":\"GlyphRenderer\"}]},\"id\":\"10922\",\"type\":\"LegendItem\"},{\"attributes\":{},\"id\":\"10939\",\"type\":\"UnionRenderers\"},{\"attributes\":{\"axis_label\":\"Years\",\"formatter\":{\"id\":\"10917\",\"type\":\"BasicTickFormatter\"},\"ticker\":{\"id\":\"10888\",\"type\":\"BasicTicker\"}},\"id\":\"10887\",\"type\":\"LinearAxis\"},{\"attributes\":{\"callback\":null,\"data\":{\"x\":[\"1960\",\"1961\",\"1962\",\"1963\",\"1964\",\"1965\",\"1966\",\"1967\",\"1968\",\"1969\",\"1970\",\"1971\",\"1972\",\"1973\",\"1974\",\"1975\",\"1976\",\"1977\",\"1978\",\"1979\",\"1980\",\"1981\",\"1982\",\"1983\",\"1984\",\"1985\",\"1986\",\"1987\",\"1988\",\"1989\",\"1990\",\"1991\",\"1992\",\"1993\",\"1994\",\"1995\",\"1996\",\"1997\",\"1998\",\"1999\",\"2000\",\"2001\",\"2002\",\"2003\",\"2004\",\"2005\",\"2006\",\"2007\",\"2008\",\"2009\",\"2010\",\"2011\",\"2012\",\"2013\",\"2014\",\"2015\",\"2016\",\"2017\"],\"y\":[62.59953620237616,63.08957334358763,63.57872639334224,64.08376999046433,64.58687436549964,65.087407161162,65.58539185759696,66.09314622321546,66.58824055065821,67.06756237656948,67.52628342166688,67.91756952516317,68.27745658275356,68.62376906240875,68.9745801014019,69.30531568374833,69.56047988482551,69.80755583528435,70.0570392716649,70.30188257560143,70.54728708463239,70.84080263406176,71.11518000620043,71.37556979428155,71.62682223254069,71.87801848980098,72.13955415956409,72.4211398671853,72.7000259866276,72.95811736019994,73.23560195464822,73.51484019892555,73.77414817178924,74.03783660613713,74.30723436951402,74.5745666211642,74.81851175794863,75.05227180897651,75.28501173120483,75.5181692891309,75.74974074372007,76.09479632423921,76.49560193311356,76.87622336289719,77.24127255096394,77.59143098241435,77.91417063193697,78.21867292983931,78.51440926413176,78.80120853028673,79.08124691428517,79.29771074412386,79.48385416511948,79.66738879268615,79.8506569075482,80.0386620288315,80.22913025645875,80.4233314253301]},\"selected\":{\"id\":\"11396\",\"type\":\"Selection\"},\"selection_policy\":{\"id\":\"11397\",\"type\":\"UnionRenderers\"}},\"id\":\"10949\",\"type\":\"ColumnDataSource\"},{\"attributes\":{},\"id\":\"10900\",\"type\":\"SaveTool\"},{\"attributes\":{\"items\":[{\"id\":\"10922\",\"type\":\"LegendItem\"},{\"id\":\"10943\",\"type\":\"LegendItem\"},{\"id\":\"10968\",\"type\":\"LegendItem\"}],\"location\":\"bottom_left\"},\"id\":\"10921\",\"type\":\"Legend\"},{\"attributes\":{\"source\":{\"id\":\"10944\",\"type\":\"ColumnDataSource\"}},\"id\":\"10948\",\"type\":\"CDSView\"},{\"attributes\":{},\"id\":\"10885\",\"type\":\"LinearScale\"},{\"attributes\":{},\"id\":\"10938\",\"type\":\"Selection\"},{\"attributes\":{\"overlay\":{\"id\":\"10920\",\"type\":\"BoxAnnotation\"}},\"id\":\"10899\",\"type\":\"BoxZoomTool\"},{\"attributes\":{},\"id\":\"11396\",\"type\":\"Selection\"},{\"attributes\":{\"data_source\":{\"id\":\"10944\",\"type\":\"ColumnDataSource\"},\"glyph\":{\"id\":\"10945\",\"type\":\"Circle\"},\"hover_glyph\":null,\"muted_glyph\":null,\"nonselection_glyph\":{\"id\":\"10946\",\"type\":\"Circle\"},\"selection_glyph\":null,\"view\":{\"id\":\"10948\",\"type\":\"CDSView\"}},\"id\":\"10947\",\"type\":\"GlyphRenderer\"},{\"attributes\":{\"bottom_units\":\"screen\",\"fill_alpha\":{\"value\":0.5},\"fill_color\":{\"value\":\"lightgrey\"},\"left_units\":\"screen\",\"level\":\"overlay\",\"line_alpha\":{\"value\":1.0},\"line_color\":{\"value\":\"black\"},\"line_dash\":[4,4],\"line_width\":{\"value\":2},\"render_mode\":\"css\",\"right_units\":\"screen\",\"top_units\":\"screen\"},\"id\":\"10920\",\"type\":\"BoxAnnotation\"},{\"attributes\":{\"source\":{\"id\":\"10928\",\"type\":\"ColumnDataSource\"}},\"id\":\"10932\",\"type\":\"CDSView\"},{\"attributes\":{},\"id\":\"10883\",\"type\":\"LinearScale\"},{\"attributes\":{\"fill_alpha\":{\"value\":0.1},\"fill_color\":{\"value\":\"#1f77b4\"},\"line_alpha\":{\"value\":0.1},\"line_color\":{\"value\":\"#1f77b4\"},\"line_width\":{\"value\":3},\"x\":{\"field\":\"x\"},\"y\":{\"field\":\"y\"}},\"id\":\"10946\",\"type\":\"Circle\"}],\"root_ids\":[\"10876\"]},\"title\":\"Bokeh Application\",\"version\":\"1.3.4\"}};\n",
       "  var render_items = [{\"docid\":\"c2383337-f54c-49a8-b3c9-2cefdd1d45f3\",\"roots\":{\"10876\":\"53d731f6-0e42-4abf-988e-1d1ed7306386\"}}];\n",
       "  root.Bokeh.embed.embed_items_notebook(docs_json, render_items);\n",
       "\n",
       "  }\n",
       "  if (root.Bokeh !== undefined) {\n",
       "    embed_document(root);\n",
       "  } else {\n",
       "    var attempts = 0;\n",
       "    var timer = setInterval(function(root) {\n",
       "      if (root.Bokeh !== undefined) {\n",
       "        embed_document(root);\n",
       "        clearInterval(timer);\n",
       "      }\n",
       "      attempts++;\n",
       "      if (attempts > 100) {\n",
       "        console.log(\"Bokeh: ERROR: Unable to run BokehJS code because BokehJS library is missing\");\n",
       "        clearInterval(timer);\n",
       "      }\n",
       "    }, 10, root)\n",
       "  }\n",
       "})(window);"
      ],
      "application/vnd.bokehjs_exec.v0+json": ""
     },
     "metadata": {
      "application/vnd.bokehjs_exec.v0+json": {
       "id": "10876"
      }
     },
     "output_type": "display_data"
    }
   ],
   "source": [
    "years = list(map(str, list(range(1960,2018))))\n",
    "# Urban population as a percentage of total population\n",
    "result = show_weighted_average(years, 'SP.URB.TOTL.IN.ZS', 'SP.POP.TOTL', \n",
    "                               ['LDCs', 'Developing excluding LDCs', 'OECD'])"
   ]
  },
  {
   "cell_type": "code",
   "execution_count": 31,
   "metadata": {
    "ExecuteTime": {
     "end_time": "2019-10-25T14:29:15.192779Z",
     "start_time": "2019-10-25T14:29:14.263102Z"
    }
   },
   "outputs": [
    {
     "data": {
      "text/html": [
       "\n",
       "\n",
       "\n",
       "\n",
       "\n",
       "\n",
       "  <div class=\"bk-root\" id=\"36e84263-bba5-4aae-97a9-b8e8988cee82\" data-root-id=\"11509\"></div>\n"
      ]
     },
     "metadata": {},
     "output_type": "display_data"
    },
    {
     "data": {
      "application/javascript": [
       "(function(root) {\n",
       "  function embed_document(root) {\n",
       "    \n",
       "  var docs_json = {\"2114b207-3a12-4405-90a1-9c57db6e6a52\":{\"roots\":{\"references\":[{\"attributes\":{\"below\":[{\"id\":\"11520\",\"type\":\"LinearAxis\"}],\"center\":[{\"id\":\"11524\",\"type\":\"Grid\"},{\"id\":\"11529\",\"type\":\"Grid\"},{\"id\":\"11554\",\"type\":\"Legend\"}],\"left\":[{\"id\":\"11525\",\"type\":\"LinearAxis\"}],\"plot_height\":400,\"plot_width\":900,\"renderers\":[{\"id\":\"11546\",\"type\":\"GlyphRenderer\"},{\"id\":\"11559\",\"type\":\"GlyphRenderer\"}],\"title\":{\"id\":\"11510\",\"type\":\"Title\"},\"toolbar\":{\"id\":\"11536\",\"type\":\"Toolbar\"},\"x_range\":{\"id\":\"11512\",\"type\":\"DataRange1d\"},\"x_scale\":{\"id\":\"11516\",\"type\":\"LinearScale\"},\"y_range\":{\"id\":\"11514\",\"type\":\"DataRange1d\"},\"y_scale\":{\"id\":\"11518\",\"type\":\"LinearScale\"}},\"id\":\"11509\",\"subtype\":\"Figure\",\"type\":\"Plot\"},{\"attributes\":{},\"id\":\"11534\",\"type\":\"ResetTool\"},{\"attributes\":{\"callback\":null},\"id\":\"11514\",\"type\":\"DataRange1d\"},{\"attributes\":{\"source\":{\"id\":\"11543\",\"type\":\"ColumnDataSource\"}},\"id\":\"11547\",\"type\":\"CDSView\"},{\"attributes\":{\"callback\":null,\"tooltips\":\"                \\n        <div style=padding=5px>Year:@x</div>\\n        <div style=padding=5px>Value:@y</div>        \\n        \"},\"id\":\"11561\",\"type\":\"HoverTool\"},{\"attributes\":{},\"id\":\"11535\",\"type\":\"HelpTool\"},{\"attributes\":{\"text\":\"Urban population\"},\"id\":\"11510\",\"type\":\"Title\"},{\"attributes\":{},\"id\":\"11531\",\"type\":\"WheelZoomTool\"},{\"attributes\":{\"callback\":null},\"id\":\"11512\",\"type\":\"DataRange1d\"},{\"attributes\":{\"active_drag\":\"auto\",\"active_inspect\":\"auto\",\"active_multi\":null,\"active_scroll\":\"auto\",\"active_tap\":\"auto\",\"tools\":[{\"id\":\"11530\",\"type\":\"PanTool\"},{\"id\":\"11531\",\"type\":\"WheelZoomTool\"},{\"id\":\"11532\",\"type\":\"BoxZoomTool\"},{\"id\":\"11533\",\"type\":\"SaveTool\"},{\"id\":\"11534\",\"type\":\"ResetTool\"},{\"id\":\"11535\",\"type\":\"HelpTool\"},{\"id\":\"11561\",\"type\":\"HoverTool\"}]},\"id\":\"11536\",\"type\":\"Toolbar\"},{\"attributes\":{},\"id\":\"11994\",\"type\":\"UnionRenderers\"},{\"attributes\":{\"overlay\":{\"id\":\"11553\",\"type\":\"BoxAnnotation\"}},\"id\":\"11532\",\"type\":\"BoxZoomTool\"},{\"attributes\":{\"source\":{\"id\":\"11556\",\"type\":\"ColumnDataSource\"}},\"id\":\"11560\",\"type\":\"CDSView\"},{\"attributes\":{\"line_color\":\"#FA1857\",\"x\":{\"field\":\"x\"},\"y\":{\"field\":\"y\"}},\"id\":\"11544\",\"type\":\"Line\"},{\"attributes\":{},\"id\":\"11993\",\"type\":\"Selection\"},{\"attributes\":{},\"id\":\"11533\",\"type\":\"SaveTool\"},{\"attributes\":{\"line_alpha\":0.1,\"line_color\":\"#1f77b4\",\"x\":{\"field\":\"x\"},\"y\":{\"field\":\"y\"}},\"id\":\"11545\",\"type\":\"Line\"},{\"attributes\":{\"fill_alpha\":{\"value\":0.1},\"fill_color\":{\"value\":\"#1f77b4\"},\"line_alpha\":{\"value\":0.1},\"line_color\":{\"value\":\"#1f77b4\"},\"line_width\":{\"value\":3},\"x\":{\"field\":\"x\"},\"y\":{\"field\":\"y\"}},\"id\":\"11558\",\"type\":\"Circle\"},{\"attributes\":{\"callback\":null,\"data\":{\"x\":[\"1960\",\"1961\",\"1962\",\"1963\",\"1964\",\"1965\",\"1966\",\"1967\",\"1968\",\"1969\",\"1970\",\"1971\",\"1972\",\"1973\",\"1974\",\"1975\",\"1976\",\"1977\",\"1978\",\"1979\",\"1980\",\"1981\",\"1982\",\"1983\",\"1984\",\"1985\",\"1986\",\"1987\",\"1988\",\"1989\",\"1990\",\"1991\",\"1992\",\"1993\",\"1994\",\"1995\",\"1996\",\"1997\",\"1998\",\"1999\",\"2000\",\"2001\",\"2002\",\"2003\",\"2004\",\"2005\",\"2006\",\"2007\",\"2008\",\"2009\",\"2010\",\"2011\",\"2012\",\"2013\",\"2014\",\"2015\",\"2016\",\"2017\"],\"y\":[23317292.0,24465608.0,25715484.0,27056026.0,28495614.0,30031066.0,31667488.0,33475608.0,35399148.0,37438167.0,39538583.0,41813984.0,44241565.0,46769493.0,49418771.0,50279277.0,53224569.0,56380077.0,59741635.0,63173090.0,67018359.0,70759809.0,74015049.0,77517852.0,81340591.0,85438619.0,89730611.0,94224950.0,98950365.0,103779087.0,108895345.0,114110906.0,119435249.0,124882817.0,130206642.0,135562776.0,141015012.0,146637320.0,152365029.0,158280891.0,164462270.0,171248545.0,178496124.0,186087168.0,193896898.0,201991152.0,210219133.0,218294690.0,227312839.0,236706129.0,246511210.0,256742767.0,266067392.0,276930811.0,288207667.0,299896804.0,312008544.0,324553851.0]},\"selected\":{\"id\":\"11993\",\"type\":\"Selection\"},\"selection_policy\":{\"id\":\"11994\",\"type\":\"UnionRenderers\"}},\"id\":\"11543\",\"type\":\"ColumnDataSource\"},{\"attributes\":{},\"id\":\"11996\",\"type\":\"UnionRenderers\"},{\"attributes\":{\"fill_color\":{\"value\":\"#FA1857\"},\"line_color\":{\"value\":\"#FA1857\"},\"line_width\":{\"value\":3},\"x\":{\"field\":\"x\"},\"y\":{\"field\":\"y\"}},\"id\":\"11557\",\"type\":\"Circle\"},{\"attributes\":{\"data_source\":{\"id\":\"11556\",\"type\":\"ColumnDataSource\"},\"glyph\":{\"id\":\"11557\",\"type\":\"Circle\"},\"hover_glyph\":null,\"muted_glyph\":null,\"nonselection_glyph\":{\"id\":\"11558\",\"type\":\"Circle\"},\"selection_glyph\":null,\"view\":{\"id\":\"11560\",\"type\":\"CDSView\"}},\"id\":\"11559\",\"type\":\"GlyphRenderer\"},{\"attributes\":{},\"id\":\"11530\",\"type\":\"PanTool\"},{\"attributes\":{\"dimension\":1,\"grid_line_alpha\":0.5,\"ticker\":{\"id\":\"11526\",\"type\":\"BasicTicker\"}},\"id\":\"11529\",\"type\":\"Grid\"},{\"attributes\":{\"label\":{\"value\":\"LDCs\"},\"renderers\":[{\"id\":\"11546\",\"type\":\"GlyphRenderer\"}]},\"id\":\"11555\",\"type\":\"LegendItem\"},{\"attributes\":{},\"id\":\"11995\",\"type\":\"Selection\"},{\"attributes\":{},\"id\":\"11526\",\"type\":\"BasicTicker\"},{\"attributes\":{\"items\":[{\"id\":\"11555\",\"type\":\"LegendItem\"}],\"location\":\"bottom_left\"},\"id\":\"11554\",\"type\":\"Legend\"},{\"attributes\":{},\"id\":\"11521\",\"type\":\"BasicTicker\"},{\"attributes\":{},\"id\":\"11550\",\"type\":\"BasicTickFormatter\"},{\"attributes\":{\"callback\":null,\"data\":{\"x\":[\"1960\",\"1961\",\"1962\",\"1963\",\"1964\",\"1965\",\"1966\",\"1967\",\"1968\",\"1969\",\"1970\",\"1971\",\"1972\",\"1973\",\"1974\",\"1975\",\"1976\",\"1977\",\"1978\",\"1979\",\"1980\",\"1981\",\"1982\",\"1983\",\"1984\",\"1985\",\"1986\",\"1987\",\"1988\",\"1989\",\"1990\",\"1991\",\"1992\",\"1993\",\"1994\",\"1995\",\"1996\",\"1997\",\"1998\",\"1999\",\"2000\",\"2001\",\"2002\",\"2003\",\"2004\",\"2005\",\"2006\",\"2007\",\"2008\",\"2009\",\"2010\",\"2011\",\"2012\",\"2013\",\"2014\",\"2015\",\"2016\",\"2017\"],\"y\":[23317292.0,24465608.0,25715484.0,27056026.0,28495614.0,30031066.0,31667488.0,33475608.0,35399148.0,37438167.0,39538583.0,41813984.0,44241565.0,46769493.0,49418771.0,50279277.0,53224569.0,56380077.0,59741635.0,63173090.0,67018359.0,70759809.0,74015049.0,77517852.0,81340591.0,85438619.0,89730611.0,94224950.0,98950365.0,103779087.0,108895345.0,114110906.0,119435249.0,124882817.0,130206642.0,135562776.0,141015012.0,146637320.0,152365029.0,158280891.0,164462270.0,171248545.0,178496124.0,186087168.0,193896898.0,201991152.0,210219133.0,218294690.0,227312839.0,236706129.0,246511210.0,256742767.0,266067392.0,276930811.0,288207667.0,299896804.0,312008544.0,324553851.0]},\"selected\":{\"id\":\"11995\",\"type\":\"Selection\"},\"selection_policy\":{\"id\":\"11996\",\"type\":\"UnionRenderers\"}},\"id\":\"11556\",\"type\":\"ColumnDataSource\"},{\"attributes\":{},\"id\":\"11552\",\"type\":\"BasicTickFormatter\"},{\"attributes\":{\"grid_line_color\":null,\"ticker\":{\"id\":\"11521\",\"type\":\"BasicTicker\"}},\"id\":\"11524\",\"type\":\"Grid\"},{\"attributes\":{},\"id\":\"11518\",\"type\":\"LinearScale\"},{\"attributes\":{\"axis_label\":\"SP.URB.TOTL\",\"formatter\":{\"id\":\"11552\",\"type\":\"BasicTickFormatter\"},\"ticker\":{\"id\":\"11526\",\"type\":\"BasicTicker\"}},\"id\":\"11525\",\"type\":\"LinearAxis\"},{\"attributes\":{\"bottom_units\":\"screen\",\"fill_alpha\":{\"value\":0.5},\"fill_color\":{\"value\":\"lightgrey\"},\"left_units\":\"screen\",\"level\":\"overlay\",\"line_alpha\":{\"value\":1.0},\"line_color\":{\"value\":\"black\"},\"line_dash\":[4,4],\"line_width\":{\"value\":2},\"render_mode\":\"css\",\"right_units\":\"screen\",\"top_units\":\"screen\"},\"id\":\"11553\",\"type\":\"BoxAnnotation\"},{\"attributes\":{},\"id\":\"11516\",\"type\":\"LinearScale\"},{\"attributes\":{\"axis_label\":\"Years\",\"formatter\":{\"id\":\"11550\",\"type\":\"BasicTickFormatter\"},\"ticker\":{\"id\":\"11521\",\"type\":\"BasicTicker\"}},\"id\":\"11520\",\"type\":\"LinearAxis\"},{\"attributes\":{\"data_source\":{\"id\":\"11543\",\"type\":\"ColumnDataSource\"},\"glyph\":{\"id\":\"11544\",\"type\":\"Line\"},\"hover_glyph\":null,\"muted_glyph\":null,\"nonselection_glyph\":{\"id\":\"11545\",\"type\":\"Line\"},\"selection_glyph\":null,\"view\":{\"id\":\"11547\",\"type\":\"CDSView\"}},\"id\":\"11546\",\"type\":\"GlyphRenderer\"}],\"root_ids\":[\"11509\"]},\"title\":\"Bokeh Application\",\"version\":\"1.3.4\"}};\n",
       "  var render_items = [{\"docid\":\"2114b207-3a12-4405-90a1-9c57db6e6a52\",\"roots\":{\"11509\":\"36e84263-bba5-4aae-97a9-b8e8988cee82\"}}];\n",
       "  root.Bokeh.embed.embed_items_notebook(docs_json, render_items);\n",
       "\n",
       "  }\n",
       "  if (root.Bokeh !== undefined) {\n",
       "    embed_document(root);\n",
       "  } else {\n",
       "    var attempts = 0;\n",
       "    var timer = setInterval(function(root) {\n",
       "      if (root.Bokeh !== undefined) {\n",
       "        embed_document(root);\n",
       "        clearInterval(timer);\n",
       "      }\n",
       "      attempts++;\n",
       "      if (attempts > 100) {\n",
       "        console.log(\"Bokeh: ERROR: Unable to run BokehJS code because BokehJS library is missing\");\n",
       "        clearInterval(timer);\n",
       "      }\n",
       "    }, 10, root)\n",
       "  }\n",
       "})(window);"
      ],
      "application/vnd.bokehjs_exec.v0+json": ""
     },
     "metadata": {
      "application/vnd.bokehjs_exec.v0+json": {
       "id": "11509"
      }
     },
     "output_type": "display_data"
    }
   ],
   "source": [
    "result = show_group_total(years, 'SP.URB.TOTL', ['LDCs'])"
   ]
  },
  {
   "cell_type": "code",
   "execution_count": 32,
   "metadata": {
    "ExecuteTime": {
     "end_time": "2019-10-25T14:35:30.281624Z",
     "start_time": "2019-10-25T14:35:22.402094Z"
    }
   },
   "outputs": [
    {
     "data": {
      "text/html": [
       "\n",
       "\n",
       "\n",
       "\n",
       "\n",
       "\n",
       "  <div class=\"bk-root\" id=\"cb49ff6a-0c95-4ade-859a-4c59ede3fa30\" data-root-id=\"12058\"></div>\n"
      ]
     },
     "metadata": {},
     "output_type": "display_data"
    },
    {
     "data": {
      "application/javascript": [
       "(function(root) {\n",
       "  function embed_document(root) {\n",
       "    \n",
       "  var docs_json = {\"157258ba-f036-4da4-9ab3-6bf4095904bd\":{\"roots\":{\"references\":[{\"attributes\":{\"below\":[{\"id\":\"12069\",\"type\":\"LinearAxis\"}],\"center\":[{\"id\":\"12073\",\"type\":\"Grid\"},{\"id\":\"12078\",\"type\":\"Grid\"},{\"id\":\"12103\",\"type\":\"Legend\"}],\"left\":[{\"id\":\"12074\",\"type\":\"LinearAxis\"}],\"plot_height\":400,\"plot_width\":800,\"renderers\":[{\"id\":\"12095\",\"type\":\"GlyphRenderer\"},{\"id\":\"12108\",\"type\":\"GlyphRenderer\"},{\"id\":\"12113\",\"type\":\"GlyphRenderer\"},{\"id\":\"12129\",\"type\":\"GlyphRenderer\"},{\"id\":\"12134\",\"type\":\"GlyphRenderer\"},{\"id\":\"12154\",\"type\":\"GlyphRenderer\"}],\"title\":{\"id\":\"12059\",\"type\":\"Title\"},\"toolbar\":{\"id\":\"12085\",\"type\":\"Toolbar\"},\"x_range\":{\"id\":\"12061\",\"type\":\"DataRange1d\"},\"x_scale\":{\"id\":\"12065\",\"type\":\"LinearScale\"},\"y_range\":{\"id\":\"12063\",\"type\":\"DataRange1d\"},\"y_scale\":{\"id\":\"12067\",\"type\":\"LinearScale\"}},\"id\":\"12058\",\"subtype\":\"Figure\",\"type\":\"Plot\"},{\"attributes\":{\"label\":{\"value\":\"LDCs\"},\"renderers\":[{\"id\":\"12095\",\"type\":\"GlyphRenderer\"}]},\"id\":\"12104\",\"type\":\"LegendItem\"},{\"attributes\":{\"dimension\":1,\"grid_line_alpha\":0.5,\"ticker\":{\"id\":\"12075\",\"type\":\"BasicTicker\"}},\"id\":\"12078\",\"type\":\"Grid\"},{\"attributes\":{\"fill_alpha\":{\"value\":0.1},\"fill_color\":{\"value\":\"#1f77b4\"},\"line_alpha\":{\"value\":0.1},\"line_color\":{\"value\":\"#1f77b4\"},\"line_width\":{\"value\":3},\"x\":{\"field\":\"x\"},\"y\":{\"field\":\"y\"}},\"id\":\"12128\",\"type\":\"Circle\"},{\"attributes\":{\"callback\":null,\"data\":{\"x\":[\"2000\",\"2001\",\"2002\",\"2003\",\"2004\",\"2005\",\"2006\",\"2007\",\"2008\",\"2009\",\"2010\",\"2011\",\"2012\",\"2013\",\"2014\",\"2015\",\"2016\",\"2017\"],\"y\":[3.839632443355257,4.050750120562035,4.152129316368502,4.171955840398782,4.118157957818914,4.096610597665852,3.999003616988988,3.782220570286373,4.05564287553224,4.056319092424261,4.065590147015717,4.073261083571143,4.021938233312422,4.007280454129896,3.99665201031686,3.9807823530140833,3.9641647477589586,3.946963230420776]},\"selected\":{\"id\":\"12122\",\"type\":\"Selection\"},\"selection_policy\":{\"id\":\"12123\",\"type\":\"UnionRenderers\"}},\"id\":\"12105\",\"type\":\"ColumnDataSource\"},{\"attributes\":{},\"id\":\"12606\",\"type\":\"Selection\"},{\"attributes\":{\"data_source\":{\"id\":\"12126\",\"type\":\"ColumnDataSource\"},\"glyph\":{\"id\":\"12127\",\"type\":\"Circle\"},\"hover_glyph\":null,\"muted_glyph\":null,\"nonselection_glyph\":{\"id\":\"12128\",\"type\":\"Circle\"},\"selection_glyph\":null,\"view\":{\"id\":\"12130\",\"type\":\"CDSView\"}},\"id\":\"12129\",\"type\":\"GlyphRenderer\"},{\"attributes\":{\"line_color\":\"#FA1857\",\"x\":{\"field\":\"x\"},\"y\":{\"field\":\"y\"}},\"id\":\"12093\",\"type\":\"Line\"},{\"attributes\":{\"fill_color\":{\"value\":\"#FA1857\"},\"line_color\":{\"value\":\"#FA1857\"},\"line_width\":{\"value\":3},\"x\":{\"field\":\"x\"},\"y\":{\"field\":\"y\"}},\"id\":\"12106\",\"type\":\"Circle\"},{\"attributes\":{},\"id\":\"12607\",\"type\":\"UnionRenderers\"},{\"attributes\":{\"source\":{\"id\":\"12126\",\"type\":\"ColumnDataSource\"}},\"id\":\"12130\",\"type\":\"CDSView\"},{\"attributes\":{\"callback\":null,\"data\":{\"x\":[\"2000\",\"2001\",\"2002\",\"2003\",\"2004\",\"2005\",\"2006\",\"2007\",\"2008\",\"2009\",\"2010\",\"2011\",\"2012\",\"2013\",\"2014\",\"2015\",\"2016\",\"2017\"],\"y\":[3.839632443355257,4.050750120562035,4.152129316368502,4.171955840398782,4.118157957818914,4.096610597665852,3.999003616988988,3.782220570286373,4.05564287553224,4.056319092424261,4.065590147015717,4.073261083571143,4.021938233312422,4.007280454129896,3.99665201031686,3.9807823530140833,3.9641647477589586,3.946963230420776]},\"selected\":{\"id\":\"12120\",\"type\":\"Selection\"},\"selection_policy\":{\"id\":\"12121\",\"type\":\"UnionRenderers\"}},\"id\":\"12092\",\"type\":\"ColumnDataSource\"},{\"attributes\":{\"fill_alpha\":{\"value\":0.1},\"fill_color\":{\"value\":\"#1f77b4\"},\"line_alpha\":{\"value\":0.1},\"line_color\":{\"value\":\"#1f77b4\"},\"line_width\":{\"value\":3},\"x\":{\"field\":\"x\"},\"y\":{\"field\":\"y\"}},\"id\":\"12107\",\"type\":\"Circle\"},{\"attributes\":{},\"id\":\"12608\",\"type\":\"Selection\"},{\"attributes\":{\"line_alpha\":0.1,\"line_color\":\"#1f77b4\",\"x\":{\"field\":\"x\"},\"y\":{\"field\":\"y\"}},\"id\":\"12094\",\"type\":\"Line\"},{\"attributes\":{\"callback\":null,\"data\":{\"x\":[\"2000\",\"2001\",\"2002\",\"2003\",\"2004\",\"2005\",\"2006\",\"2007\",\"2008\",\"2009\",\"2010\",\"2011\",\"2012\",\"2013\",\"2014\",\"2015\",\"2016\",\"2017\"],\"y\":[0.9948809271821193,1.1720404938170361,1.2487792655994334,1.2098437389978234,1.1858418971351812,1.1566812882637159,1.1461235724859402,1.1299299497492925,1.1478412678703078,1.0667506897450498,1.004952660145055,0.7748422786938176,0.8497708748839219,0.8674781666983666,0.8896129313491413,0.882013187119933,0.8885753632137473,0.8267985143506588]},\"selected\":{\"id\":\"12606\",\"type\":\"Selection\"},\"selection_policy\":{\"id\":\"12607\",\"type\":\"UnionRenderers\"}},\"id\":\"12131\",\"type\":\"ColumnDataSource\"},{\"attributes\":{},\"id\":\"12079\",\"type\":\"PanTool\"},{\"attributes\":{\"data_source\":{\"id\":\"12105\",\"type\":\"ColumnDataSource\"},\"glyph\":{\"id\":\"12106\",\"type\":\"Circle\"},\"hover_glyph\":null,\"muted_glyph\":null,\"nonselection_glyph\":{\"id\":\"12107\",\"type\":\"Circle\"},\"selection_glyph\":null,\"view\":{\"id\":\"12109\",\"type\":\"CDSView\"}},\"id\":\"12108\",\"type\":\"GlyphRenderer\"},{\"attributes\":{},\"id\":\"12609\",\"type\":\"UnionRenderers\"},{\"attributes\":{\"line_color\":\"#2CC775\",\"x\":{\"field\":\"x\"},\"y\":{\"field\":\"y\"}},\"id\":\"12132\",\"type\":\"Line\"},{\"attributes\":{},\"id\":\"12080\",\"type\":\"WheelZoomTool\"},{\"attributes\":{\"source\":{\"id\":\"12105\",\"type\":\"ColumnDataSource\"}},\"id\":\"12109\",\"type\":\"CDSView\"},{\"attributes\":{\"line_alpha\":0.1,\"line_color\":\"#1f77b4\",\"x\":{\"field\":\"x\"},\"y\":{\"field\":\"y\"}},\"id\":\"12133\",\"type\":\"Line\"},{\"attributes\":{\"source\":{\"id\":\"12151\",\"type\":\"ColumnDataSource\"}},\"id\":\"12155\",\"type\":\"CDSView\"},{\"attributes\":{\"callback\":null,\"data\":{\"x\":[\"2000\",\"2001\",\"2002\",\"2003\",\"2004\",\"2005\",\"2006\",\"2007\",\"2008\",\"2009\",\"2010\",\"2011\",\"2012\",\"2013\",\"2014\",\"2015\",\"2016\",\"2017\"],\"y\":[2.871670536873578,2.9506525215988475,3.0128271447645267,2.9551890553185785,2.9261247060175326,2.902361475102694,2.840108257415668,2.7888748778370944,2.763950625262151,2.7242593532233568,2.6796435548957946,2.590427234522604,2.5298152471442634,2.4958792694478364,2.4648828979709463,2.423163368529642,2.3942249088769576,2.353214309708347]},\"selected\":{\"id\":\"12145\",\"type\":\"Selection\"},\"selection_policy\":{\"id\":\"12146\",\"type\":\"UnionRenderers\"}},\"id\":\"12110\",\"type\":\"ColumnDataSource\"},{\"attributes\":{\"overlay\":{\"id\":\"12102\",\"type\":\"BoxAnnotation\"}},\"id\":\"12081\",\"type\":\"BoxZoomTool\"},{\"attributes\":{\"data_source\":{\"id\":\"12131\",\"type\":\"ColumnDataSource\"},\"glyph\":{\"id\":\"12132\",\"type\":\"Line\"},\"hover_glyph\":null,\"muted_glyph\":null,\"nonselection_glyph\":{\"id\":\"12133\",\"type\":\"Line\"},\"selection_glyph\":null,\"view\":{\"id\":\"12135\",\"type\":\"CDSView\"}},\"id\":\"12134\",\"type\":\"GlyphRenderer\"},{\"attributes\":{},\"id\":\"12082\",\"type\":\"SaveTool\"},{\"attributes\":{\"line_color\":\"#5430F1\",\"x\":{\"field\":\"x\"},\"y\":{\"field\":\"y\"}},\"id\":\"12111\",\"type\":\"Line\"},{\"attributes\":{\"callback\":null,\"tooltips\":\"                \\n        <div style=padding=5px>Year:@x</div>\\n        <div style=padding=5px>Value:@y</div>        \\n        \"},\"id\":\"12156\",\"type\":\"HoverTool\"},{\"attributes\":{\"source\":{\"id\":\"12131\",\"type\":\"ColumnDataSource\"}},\"id\":\"12135\",\"type\":\"CDSView\"},{\"attributes\":{\"text\":\"Urban population growth (annual %) weighted against Urban population\"},\"id\":\"12059\",\"type\":\"Title\"},{\"attributes\":{},\"id\":\"12083\",\"type\":\"ResetTool\"},{\"attributes\":{\"line_alpha\":0.1,\"line_color\":\"#1f77b4\",\"x\":{\"field\":\"x\"},\"y\":{\"field\":\"y\"}},\"id\":\"12112\",\"type\":\"Line\"},{\"attributes\":{},\"id\":\"12145\",\"type\":\"Selection\"},{\"attributes\":{\"fill_color\":{\"value\":\"#5430F1\"},\"line_color\":{\"value\":\"#5430F1\"},\"line_width\":{\"value\":3},\"x\":{\"field\":\"x\"},\"y\":{\"field\":\"y\"}},\"id\":\"12127\",\"type\":\"Circle\"},{\"attributes\":{\"callback\":null},\"id\":\"12061\",\"type\":\"DataRange1d\"},{\"attributes\":{},\"id\":\"12084\",\"type\":\"HelpTool\"},{\"attributes\":{\"data_source\":{\"id\":\"12110\",\"type\":\"ColumnDataSource\"},\"glyph\":{\"id\":\"12111\",\"type\":\"Line\"},\"hover_glyph\":null,\"muted_glyph\":null,\"nonselection_glyph\":{\"id\":\"12112\",\"type\":\"Line\"},\"selection_glyph\":null,\"view\":{\"id\":\"12114\",\"type\":\"CDSView\"}},\"id\":\"12113\",\"type\":\"GlyphRenderer\"},{\"attributes\":{},\"id\":\"12146\",\"type\":\"UnionRenderers\"},{\"attributes\":{\"callback\":null},\"id\":\"12063\",\"type\":\"DataRange1d\"},{\"attributes\":{\"active_drag\":\"auto\",\"active_inspect\":\"auto\",\"active_multi\":null,\"active_scroll\":\"auto\",\"active_tap\":\"auto\",\"tools\":[{\"id\":\"12079\",\"type\":\"PanTool\"},{\"id\":\"12080\",\"type\":\"WheelZoomTool\"},{\"id\":\"12081\",\"type\":\"BoxZoomTool\"},{\"id\":\"12082\",\"type\":\"SaveTool\"},{\"id\":\"12083\",\"type\":\"ResetTool\"},{\"id\":\"12084\",\"type\":\"HelpTool\"},{\"id\":\"12156\",\"type\":\"HoverTool\"}]},\"id\":\"12085\",\"type\":\"Toolbar\"},{\"attributes\":{\"source\":{\"id\":\"12110\",\"type\":\"ColumnDataSource\"}},\"id\":\"12114\",\"type\":\"CDSView\"},{\"attributes\":{},\"id\":\"12147\",\"type\":\"Selection\"},{\"attributes\":{},\"id\":\"12065\",\"type\":\"LinearScale\"},{\"attributes\":{},\"id\":\"12120\",\"type\":\"Selection\"},{\"attributes\":{\"data_source\":{\"id\":\"12092\",\"type\":\"ColumnDataSource\"},\"glyph\":{\"id\":\"12093\",\"type\":\"Line\"},\"hover_glyph\":null,\"muted_glyph\":null,\"nonselection_glyph\":{\"id\":\"12094\",\"type\":\"Line\"},\"selection_glyph\":null,\"view\":{\"id\":\"12096\",\"type\":\"CDSView\"}},\"id\":\"12095\",\"type\":\"GlyphRenderer\"},{\"attributes\":{},\"id\":\"12148\",\"type\":\"UnionRenderers\"},{\"attributes\":{},\"id\":\"12067\",\"type\":\"LinearScale\"},{\"attributes\":{},\"id\":\"12121\",\"type\":\"UnionRenderers\"},{\"attributes\":{\"label\":{\"value\":\"OECD\"},\"renderers\":[{\"id\":\"12134\",\"type\":\"GlyphRenderer\"}]},\"id\":\"12150\",\"type\":\"LegendItem\"},{\"attributes\":{\"axis_label\":\"Years\",\"formatter\":{\"id\":\"12099\",\"type\":\"BasicTickFormatter\"},\"ticker\":{\"id\":\"12070\",\"type\":\"BasicTicker\"}},\"id\":\"12069\",\"type\":\"LinearAxis\"},{\"attributes\":{\"source\":{\"id\":\"12092\",\"type\":\"ColumnDataSource\"}},\"id\":\"12096\",\"type\":\"CDSView\"},{\"attributes\":{},\"id\":\"12122\",\"type\":\"Selection\"},{\"attributes\":{},\"id\":\"12070\",\"type\":\"BasicTicker\"},{\"attributes\":{},\"id\":\"12099\",\"type\":\"BasicTickFormatter\"},{\"attributes\":{\"callback\":null,\"data\":{\"x\":[\"2000\",\"2001\",\"2002\",\"2003\",\"2004\",\"2005\",\"2006\",\"2007\",\"2008\",\"2009\",\"2010\",\"2011\",\"2012\",\"2013\",\"2014\",\"2015\",\"2016\",\"2017\"],\"y\":[0.9948809271821193,1.1720404938170361,1.2487792655994334,1.2098437389978234,1.1858418971351812,1.1566812882637159,1.1461235724859402,1.1299299497492925,1.1478412678703078,1.0667506897450498,1.004952660145055,0.7748422786938176,0.8497708748839219,0.8674781666983666,0.8896129313491413,0.882013187119933,0.8885753632137473,0.8267985143506588]},\"selected\":{\"id\":\"12608\",\"type\":\"Selection\"},\"selection_policy\":{\"id\":\"12609\",\"type\":\"UnionRenderers\"}},\"id\":\"12151\",\"type\":\"ColumnDataSource\"},{\"attributes\":{},\"id\":\"12123\",\"type\":\"UnionRenderers\"},{\"attributes\":{\"fill_color\":{\"value\":\"#2CC775\"},\"line_color\":{\"value\":\"#2CC775\"},\"line_width\":{\"value\":3},\"x\":{\"field\":\"x\"},\"y\":{\"field\":\"y\"}},\"id\":\"12152\",\"type\":\"Circle\"},{\"attributes\":{\"grid_line_color\":null,\"ticker\":{\"id\":\"12070\",\"type\":\"BasicTicker\"}},\"id\":\"12073\",\"type\":\"Grid\"},{\"attributes\":{\"label\":{\"value\":\"Developing excluding LDCs\"},\"renderers\":[{\"id\":\"12113\",\"type\":\"GlyphRenderer\"}]},\"id\":\"12125\",\"type\":\"LegendItem\"},{\"attributes\":{\"fill_alpha\":{\"value\":0.1},\"fill_color\":{\"value\":\"#1f77b4\"},\"line_alpha\":{\"value\":0.1},\"line_color\":{\"value\":\"#1f77b4\"},\"line_width\":{\"value\":3},\"x\":{\"field\":\"x\"},\"y\":{\"field\":\"y\"}},\"id\":\"12153\",\"type\":\"Circle\"},{\"attributes\":{},\"id\":\"12101\",\"type\":\"BasicTickFormatter\"},{\"attributes\":{\"axis_label\":\"SP.URB.GROW\",\"formatter\":{\"id\":\"12101\",\"type\":\"BasicTickFormatter\"},\"ticker\":{\"id\":\"12075\",\"type\":\"BasicTicker\"}},\"id\":\"12074\",\"type\":\"LinearAxis\"},{\"attributes\":{\"callback\":null,\"data\":{\"x\":[\"2000\",\"2001\",\"2002\",\"2003\",\"2004\",\"2005\",\"2006\",\"2007\",\"2008\",\"2009\",\"2010\",\"2011\",\"2012\",\"2013\",\"2014\",\"2015\",\"2016\",\"2017\"],\"y\":[2.871670536873578,2.9506525215988475,3.0128271447645267,2.9551890553185785,2.9261247060175326,2.902361475102694,2.840108257415668,2.7888748778370944,2.763950625262151,2.7242593532233568,2.6796435548957946,2.590427234522604,2.5298152471442634,2.4958792694478364,2.4648828979709463,2.423163368529642,2.3942249088769576,2.353214309708347]},\"selected\":{\"id\":\"12147\",\"type\":\"Selection\"},\"selection_policy\":{\"id\":\"12148\",\"type\":\"UnionRenderers\"}},\"id\":\"12126\",\"type\":\"ColumnDataSource\"},{\"attributes\":{\"data_source\":{\"id\":\"12151\",\"type\":\"ColumnDataSource\"},\"glyph\":{\"id\":\"12152\",\"type\":\"Circle\"},\"hover_glyph\":null,\"muted_glyph\":null,\"nonselection_glyph\":{\"id\":\"12153\",\"type\":\"Circle\"},\"selection_glyph\":null,\"view\":{\"id\":\"12155\",\"type\":\"CDSView\"}},\"id\":\"12154\",\"type\":\"GlyphRenderer\"},{\"attributes\":{\"bottom_units\":\"screen\",\"fill_alpha\":{\"value\":0.5},\"fill_color\":{\"value\":\"lightgrey\"},\"left_units\":\"screen\",\"level\":\"overlay\",\"line_alpha\":{\"value\":1.0},\"line_color\":{\"value\":\"black\"},\"line_dash\":[4,4],\"line_width\":{\"value\":2},\"render_mode\":\"css\",\"right_units\":\"screen\",\"top_units\":\"screen\"},\"id\":\"12102\",\"type\":\"BoxAnnotation\"},{\"attributes\":{},\"id\":\"12075\",\"type\":\"BasicTicker\"},{\"attributes\":{\"items\":[{\"id\":\"12104\",\"type\":\"LegendItem\"},{\"id\":\"12125\",\"type\":\"LegendItem\"},{\"id\":\"12150\",\"type\":\"LegendItem\"}],\"location\":\"bottom_left\"},\"id\":\"12103\",\"type\":\"Legend\"}],\"root_ids\":[\"12058\"]},\"title\":\"Bokeh Application\",\"version\":\"1.3.4\"}};\n",
       "  var render_items = [{\"docid\":\"157258ba-f036-4da4-9ab3-6bf4095904bd\",\"roots\":{\"12058\":\"cb49ff6a-0c95-4ade-859a-4c59ede3fa30\"}}];\n",
       "  root.Bokeh.embed.embed_items_notebook(docs_json, render_items);\n",
       "\n",
       "  }\n",
       "  if (root.Bokeh !== undefined) {\n",
       "    embed_document(root);\n",
       "  } else {\n",
       "    var attempts = 0;\n",
       "    var timer = setInterval(function(root) {\n",
       "      if (root.Bokeh !== undefined) {\n",
       "        embed_document(root);\n",
       "        clearInterval(timer);\n",
       "      }\n",
       "      attempts++;\n",
       "      if (attempts > 100) {\n",
       "        console.log(\"Bokeh: ERROR: Unable to run BokehJS code because BokehJS library is missing\");\n",
       "        clearInterval(timer);\n",
       "      }\n",
       "    }, 10, root)\n",
       "  }\n",
       "})(window);"
      ],
      "application/vnd.bokehjs_exec.v0+json": ""
     },
     "metadata": {
      "application/vnd.bokehjs_exec.v0+json": {
       "id": "12058"
      }
     },
     "output_type": "display_data"
    }
   ],
   "source": [
    "# Growth of urban population\n",
    "years = list(map(str, list(range(2000,2018))))\n",
    "result = show_weighted_average(years, 'SP.URB.GROW', 'SP.URB.TOTL', \n",
    "                               ['LDCs', 'Developing excluding LDCs', 'OECD']) "
   ]
  },
  {
   "cell_type": "markdown",
   "metadata": {},
   "source": [
    "# Water and sanitation"
   ]
  },
  {
   "cell_type": "code",
   "execution_count": 33,
   "metadata": {
    "ExecuteTime": {
     "end_time": "2019-10-25T14:25:57.739495Z",
     "start_time": "2019-10-25T14:25:51.769121Z"
    },
    "slideshow": {
     "slide_type": "slide"
    }
   },
   "outputs": [
    {
     "data": {
      "text/html": [
       "\n",
       "\n",
       "\n",
       "\n",
       "\n",
       "\n",
       "  <div class=\"bk-root\" id=\"2d81d5cd-ef8b-4745-9e6c-d639817476d4\" data-root-id=\"12719\"></div>\n"
      ]
     },
     "metadata": {},
     "output_type": "display_data"
    },
    {
     "data": {
      "application/javascript": [
       "(function(root) {\n",
       "  function embed_document(root) {\n",
       "    \n",
       "  var docs_json = {\"37332552-d324-4163-978f-d315182d3a5e\":{\"roots\":{\"references\":[{\"attributes\":{\"below\":[{\"id\":\"12730\",\"type\":\"LinearAxis\"}],\"center\":[{\"id\":\"12734\",\"type\":\"Grid\"},{\"id\":\"12739\",\"type\":\"Grid\"},{\"id\":\"12764\",\"type\":\"Legend\"}],\"left\":[{\"id\":\"12735\",\"type\":\"LinearAxis\"}],\"plot_height\":400,\"plot_width\":800,\"renderers\":[{\"id\":\"12756\",\"type\":\"GlyphRenderer\"},{\"id\":\"12769\",\"type\":\"GlyphRenderer\"},{\"id\":\"12774\",\"type\":\"GlyphRenderer\"},{\"id\":\"12790\",\"type\":\"GlyphRenderer\"},{\"id\":\"12795\",\"type\":\"GlyphRenderer\"},{\"id\":\"12815\",\"type\":\"GlyphRenderer\"}],\"title\":{\"id\":\"12720\",\"type\":\"Title\"},\"toolbar\":{\"id\":\"12746\",\"type\":\"Toolbar\"},\"x_range\":{\"id\":\"12722\",\"type\":\"DataRange1d\"},\"x_scale\":{\"id\":\"12726\",\"type\":\"LinearScale\"},\"y_range\":{\"id\":\"12724\",\"type\":\"DataRange1d\"},\"y_scale\":{\"id\":\"12728\",\"type\":\"LinearScale\"}},\"id\":\"12719\",\"subtype\":\"Figure\",\"type\":\"Plot\"},{\"attributes\":{\"data_source\":{\"id\":\"12812\",\"type\":\"ColumnDataSource\"},\"glyph\":{\"id\":\"12813\",\"type\":\"Circle\"},\"hover_glyph\":null,\"muted_glyph\":null,\"nonselection_glyph\":{\"id\":\"12814\",\"type\":\"Circle\"},\"selection_glyph\":null,\"view\":{\"id\":\"12816\",\"type\":\"CDSView\"}},\"id\":\"12815\",\"type\":\"GlyphRenderer\"},{\"attributes\":{\"fill_alpha\":{\"value\":0.1},\"fill_color\":{\"value\":\"#1f77b4\"},\"line_alpha\":{\"value\":0.1},\"line_color\":{\"value\":\"#1f77b4\"},\"line_width\":{\"value\":3},\"x\":{\"field\":\"x\"},\"y\":{\"field\":\"y\"}},\"id\":\"12789\",\"type\":\"Circle\"},{\"attributes\":{\"data_source\":{\"id\":\"12787\",\"type\":\"ColumnDataSource\"},\"glyph\":{\"id\":\"12788\",\"type\":\"Circle\"},\"hover_glyph\":null,\"muted_glyph\":null,\"nonselection_glyph\":{\"id\":\"12789\",\"type\":\"Circle\"},\"selection_glyph\":null,\"view\":{\"id\":\"12791\",\"type\":\"CDSView\"}},\"id\":\"12790\",\"type\":\"GlyphRenderer\"},{\"attributes\":{\"line_alpha\":0.1,\"line_color\":\"#1f77b4\",\"x\":{\"field\":\"x\"},\"y\":{\"field\":\"y\"}},\"id\":\"12755\",\"type\":\"Line\"},{\"attributes\":{\"data_source\":{\"id\":\"12753\",\"type\":\"ColumnDataSource\"},\"glyph\":{\"id\":\"12754\",\"type\":\"Line\"},\"hover_glyph\":null,\"muted_glyph\":null,\"nonselection_glyph\":{\"id\":\"12755\",\"type\":\"Line\"},\"selection_glyph\":null,\"view\":{\"id\":\"12757\",\"type\":\"CDSView\"}},\"id\":\"12756\",\"type\":\"GlyphRenderer\"},{\"attributes\":{\"label\":{\"value\":\"Developing excluding LDCs\"},\"renderers\":[{\"id\":\"12774\",\"type\":\"GlyphRenderer\"}]},\"id\":\"12786\",\"type\":\"LegendItem\"},{\"attributes\":{},\"id\":\"12728\",\"type\":\"LinearScale\"},{\"attributes\":{\"axis_label\":\"SH.STA.SMSS.ZS\",\"formatter\":{\"id\":\"12762\",\"type\":\"BasicTickFormatter\"},\"ticker\":{\"id\":\"12736\",\"type\":\"BasicTicker\"}},\"id\":\"12735\",\"type\":\"LinearAxis\"},{\"attributes\":{\"callback\":null},\"id\":\"12724\",\"type\":\"DataRange1d\"},{\"attributes\":{\"callback\":null,\"data\":{\"x\":[\"2000\",\"2001\",\"2002\",\"2003\",\"2004\",\"2005\",\"2006\",\"2007\",\"2008\",\"2009\",\"2010\",\"2011\",\"2012\",\"2013\",\"2014\",\"2015\",\"2016\",\"2017\"],\"y\":[28.95024757925739,29.209016301994986,29.79844631497895,31.18696960164219,32.69297789614253,34.30733873540626,36.01016978662808,37.93187043091685,39.94500520648879,42.03012406148348,44.17895500170897,46.379028286829,48.62938786590606,50.964846617773375,53.35002880170789,55.76782165250671,58.22878123081063,60.72069424656215]},\"selected\":{\"id\":\"12808\",\"type\":\"Selection\"},\"selection_policy\":{\"id\":\"12809\",\"type\":\"UnionRenderers\"}},\"id\":\"12787\",\"type\":\"ColumnDataSource\"},{\"attributes\":{\"callback\":null,\"tooltips\":\"                \\n        <div style=padding=5px>Year:@x</div>\\n        <div style=padding=5px>Value:@y</div>        \\n        \"},\"id\":\"12817\",\"type\":\"HoverTool\"},{\"attributes\":{\"fill_color\":{\"value\":\"#5430F1\"},\"line_color\":{\"value\":\"#5430F1\"},\"line_width\":{\"value\":3},\"x\":{\"field\":\"x\"},\"y\":{\"field\":\"y\"}},\"id\":\"12788\",\"type\":\"Circle\"},{\"attributes\":{\"line_color\":\"#FA1857\",\"x\":{\"field\":\"x\"},\"y\":{\"field\":\"y\"}},\"id\":\"12754\",\"type\":\"Line\"},{\"attributes\":{\"items\":[{\"id\":\"12765\",\"type\":\"LegendItem\"},{\"id\":\"12786\",\"type\":\"LegendItem\"},{\"id\":\"12811\",\"type\":\"LegendItem\"}],\"location\":\"bottom_left\"},\"id\":\"12764\",\"type\":\"Legend\"},{\"attributes\":{\"source\":{\"id\":\"12812\",\"type\":\"ColumnDataSource\"}},\"id\":\"12816\",\"type\":\"CDSView\"},{\"attributes\":{},\"id\":\"12782\",\"type\":\"UnionRenderers\"},{\"attributes\":{},\"id\":\"12808\",\"type\":\"Selection\"},{\"attributes\":{},\"id\":\"12806\",\"type\":\"Selection\"},{\"attributes\":{},\"id\":\"12783\",\"type\":\"Selection\"},{\"attributes\":{\"active_drag\":\"auto\",\"active_inspect\":\"auto\",\"active_multi\":null,\"active_scroll\":\"auto\",\"active_tap\":\"auto\",\"tools\":[{\"id\":\"12740\",\"type\":\"PanTool\"},{\"id\":\"12741\",\"type\":\"WheelZoomTool\"},{\"id\":\"12742\",\"type\":\"BoxZoomTool\"},{\"id\":\"12743\",\"type\":\"SaveTool\"},{\"id\":\"12744\",\"type\":\"ResetTool\"},{\"id\":\"12745\",\"type\":\"HelpTool\"},{\"id\":\"12817\",\"type\":\"HoverTool\"}]},\"id\":\"12746\",\"type\":\"Toolbar\"},{\"attributes\":{\"callback\":null,\"data\":{\"x\":[\"2000\",\"2001\",\"2002\",\"2003\",\"2004\",\"2005\",\"2006\",\"2007\",\"2008\",\"2009\",\"2010\",\"2011\",\"2012\",\"2013\",\"2014\",\"2015\",\"2016\",\"2017\"],\"y\":[7.313298252489695,8.310611901533424,9.28077115926377,10.252918388064188,11.205379345323372,12.149632874228196,13.089596716542752,14.025080502459863,14.955900981807803,15.821696108471013,16.709045789768172,17.553474451435992,18.374064944696872,19.187805301854954,19.99536707307814,20.797136473512598,21.58898092737968,22.374104786870443]},\"selected\":{\"id\":\"12781\",\"type\":\"Selection\"},\"selection_policy\":{\"id\":\"12782\",\"type\":\"UnionRenderers\"}},\"id\":\"12753\",\"type\":\"ColumnDataSource\"},{\"attributes\":{},\"id\":\"12784\",\"type\":\"UnionRenderers\"},{\"attributes\":{},\"id\":\"12760\",\"type\":\"BasicTickFormatter\"},{\"attributes\":{\"data_source\":{\"id\":\"12771\",\"type\":\"ColumnDataSource\"},\"glyph\":{\"id\":\"12772\",\"type\":\"Line\"},\"hover_glyph\":null,\"muted_glyph\":null,\"nonselection_glyph\":{\"id\":\"12773\",\"type\":\"Line\"},\"selection_glyph\":null,\"view\":{\"id\":\"12775\",\"type\":\"CDSView\"}},\"id\":\"12774\",\"type\":\"GlyphRenderer\"},{\"attributes\":{\"source\":{\"id\":\"12792\",\"type\":\"ColumnDataSource\"}},\"id\":\"12796\",\"type\":\"CDSView\"},{\"attributes\":{\"grid_line_color\":null,\"ticker\":{\"id\":\"12731\",\"type\":\"BasicTicker\"}},\"id\":\"12734\",\"type\":\"Grid\"},{\"attributes\":{\"dimension\":1,\"grid_line_alpha\":0.5,\"ticker\":{\"id\":\"12736\",\"type\":\"BasicTicker\"}},\"id\":\"12739\",\"type\":\"Grid\"},{\"attributes\":{\"source\":{\"id\":\"12771\",\"type\":\"ColumnDataSource\"}},\"id\":\"12775\",\"type\":\"CDSView\"},{\"attributes\":{\"fill_color\":{\"value\":\"#2CC775\"},\"line_color\":{\"value\":\"#2CC775\"},\"line_width\":{\"value\":3},\"x\":{\"field\":\"x\"},\"y\":{\"field\":\"y\"}},\"id\":\"12813\",\"type\":\"Circle\"},{\"attributes\":{\"callback\":null,\"data\":{\"x\":[\"2000\",\"2001\",\"2002\",\"2003\",\"2004\",\"2005\",\"2006\",\"2007\",\"2008\",\"2009\",\"2010\",\"2011\",\"2012\",\"2013\",\"2014\",\"2015\",\"2016\",\"2017\"],\"y\":[80.04575550274292,80.13536831650443,80.2749830491825,80.58814768410595,80.98591935582309,81.41241391811296,82.53376279435736,82.94328127236986,83.35812838971606,83.77383345525976,84.19453320444809,84.60616451316776,85.02010336426527,85.44818985737146,85.89167410057688,86.28661161448157,86.61428373311065,86.89175663743303]},\"selected\":{\"id\":\"13287\",\"type\":\"Selection\"},\"selection_policy\":{\"id\":\"13288\",\"type\":\"UnionRenderers\"}},\"id\":\"12812\",\"type\":\"ColumnDataSource\"},{\"attributes\":{\"data_source\":{\"id\":\"12792\",\"type\":\"ColumnDataSource\"},\"glyph\":{\"id\":\"12793\",\"type\":\"Line\"},\"hover_glyph\":null,\"muted_glyph\":null,\"nonselection_glyph\":{\"id\":\"12794\",\"type\":\"Line\"},\"selection_glyph\":null,\"view\":{\"id\":\"12796\",\"type\":\"CDSView\"}},\"id\":\"12795\",\"type\":\"GlyphRenderer\"},{\"attributes\":{},\"id\":\"12781\",\"type\":\"Selection\"},{\"attributes\":{\"axis_label\":\"Years\",\"formatter\":{\"id\":\"12760\",\"type\":\"BasicTickFormatter\"},\"ticker\":{\"id\":\"12731\",\"type\":\"BasicTicker\"}},\"id\":\"12730\",\"type\":\"LinearAxis\"},{\"attributes\":{\"callback\":null,\"data\":{\"x\":[\"2000\",\"2001\",\"2002\",\"2003\",\"2004\",\"2005\",\"2006\",\"2007\",\"2008\",\"2009\",\"2010\",\"2011\",\"2012\",\"2013\",\"2014\",\"2015\",\"2016\",\"2017\"],\"y\":[28.95024757925739,29.209016301994986,29.79844631497895,31.18696960164219,32.69297789614253,34.30733873540626,36.01016978662808,37.93187043091685,39.94500520648879,42.03012406148348,44.17895500170897,46.379028286829,48.62938786590606,50.964846617773375,53.35002880170789,55.76782165250671,58.22878123081063,60.72069424656215]},\"selected\":{\"id\":\"12806\",\"type\":\"Selection\"},\"selection_policy\":{\"id\":\"12807\",\"type\":\"UnionRenderers\"}},\"id\":\"12771\",\"type\":\"ColumnDataSource\"},{\"attributes\":{},\"id\":\"12726\",\"type\":\"LinearScale\"},{\"attributes\":{\"line_alpha\":0.1,\"line_color\":\"#1f77b4\",\"x\":{\"field\":\"x\"},\"y\":{\"field\":\"y\"}},\"id\":\"12794\",\"type\":\"Line\"},{\"attributes\":{\"line_color\":\"#5430F1\",\"x\":{\"field\":\"x\"},\"y\":{\"field\":\"y\"}},\"id\":\"12772\",\"type\":\"Line\"},{\"attributes\":{},\"id\":\"12741\",\"type\":\"WheelZoomTool\"},{\"attributes\":{},\"id\":\"12731\",\"type\":\"BasicTicker\"},{\"attributes\":{},\"id\":\"13287\",\"type\":\"Selection\"},{\"attributes\":{\"bottom_units\":\"screen\",\"fill_alpha\":{\"value\":0.5},\"fill_color\":{\"value\":\"lightgrey\"},\"left_units\":\"screen\",\"level\":\"overlay\",\"line_alpha\":{\"value\":1.0},\"line_color\":{\"value\":\"black\"},\"line_dash\":[4,4],\"line_width\":{\"value\":2},\"render_mode\":\"css\",\"right_units\":\"screen\",\"top_units\":\"screen\"},\"id\":\"12763\",\"type\":\"BoxAnnotation\"},{\"attributes\":{\"source\":{\"id\":\"12753\",\"type\":\"ColumnDataSource\"}},\"id\":\"12757\",\"type\":\"CDSView\"},{\"attributes\":{\"label\":{\"value\":\"OECD\"},\"renderers\":[{\"id\":\"12795\",\"type\":\"GlyphRenderer\"}]},\"id\":\"12811\",\"type\":\"LegendItem\"},{\"attributes\":{\"line_alpha\":0.1,\"line_color\":\"#1f77b4\",\"x\":{\"field\":\"x\"},\"y\":{\"field\":\"y\"}},\"id\":\"12773\",\"type\":\"Line\"},{\"attributes\":{\"data_source\":{\"id\":\"12766\",\"type\":\"ColumnDataSource\"},\"glyph\":{\"id\":\"12767\",\"type\":\"Circle\"},\"hover_glyph\":null,\"muted_glyph\":null,\"nonselection_glyph\":{\"id\":\"12768\",\"type\":\"Circle\"},\"selection_glyph\":null,\"view\":{\"id\":\"12770\",\"type\":\"CDSView\"}},\"id\":\"12769\",\"type\":\"GlyphRenderer\"},{\"attributes\":{\"line_color\":\"#2CC775\",\"x\":{\"field\":\"x\"},\"y\":{\"field\":\"y\"}},\"id\":\"12793\",\"type\":\"Line\"},{\"attributes\":{},\"id\":\"12762\",\"type\":\"BasicTickFormatter\"},{\"attributes\":{},\"id\":\"12744\",\"type\":\"ResetTool\"},{\"attributes\":{},\"id\":\"12736\",\"type\":\"BasicTicker\"},{\"attributes\":{},\"id\":\"13288\",\"type\":\"UnionRenderers\"},{\"attributes\":{\"fill_alpha\":{\"value\":0.1},\"fill_color\":{\"value\":\"#1f77b4\"},\"line_alpha\":{\"value\":0.1},\"line_color\":{\"value\":\"#1f77b4\"},\"line_width\":{\"value\":3},\"x\":{\"field\":\"x\"},\"y\":{\"field\":\"y\"}},\"id\":\"12768\",\"type\":\"Circle\"},{\"attributes\":{\"fill_alpha\":{\"value\":0.1},\"fill_color\":{\"value\":\"#1f77b4\"},\"line_alpha\":{\"value\":0.1},\"line_color\":{\"value\":\"#1f77b4\"},\"line_width\":{\"value\":3},\"x\":{\"field\":\"x\"},\"y\":{\"field\":\"y\"}},\"id\":\"12814\",\"type\":\"Circle\"},{\"attributes\":{},\"id\":\"12740\",\"type\":\"PanTool\"},{\"attributes\":{},\"id\":\"12807\",\"type\":\"UnionRenderers\"},{\"attributes\":{\"overlay\":{\"id\":\"12763\",\"type\":\"BoxAnnotation\"}},\"id\":\"12742\",\"type\":\"BoxZoomTool\"},{\"attributes\":{},\"id\":\"13286\",\"type\":\"UnionRenderers\"},{\"attributes\":{\"callback\":null,\"data\":{\"x\":[\"2000\",\"2001\",\"2002\",\"2003\",\"2004\",\"2005\",\"2006\",\"2007\",\"2008\",\"2009\",\"2010\",\"2011\",\"2012\",\"2013\",\"2014\",\"2015\",\"2016\",\"2017\"],\"y\":[80.04575550274292,80.13536831650443,80.2749830491825,80.58814768410595,80.98591935582309,81.41241391811296,82.53376279435736,82.94328127236986,83.35812838971606,83.77383345525976,84.19453320444809,84.60616451316776,85.02010336426527,85.44818985737146,85.89167410057688,86.28661161448157,86.61428373311065,86.89175663743303]},\"selected\":{\"id\":\"13285\",\"type\":\"Selection\"},\"selection_policy\":{\"id\":\"13286\",\"type\":\"UnionRenderers\"}},\"id\":\"12792\",\"type\":\"ColumnDataSource\"},{\"attributes\":{\"callback\":null},\"id\":\"12722\",\"type\":\"DataRange1d\"},{\"attributes\":{\"source\":{\"id\":\"12766\",\"type\":\"ColumnDataSource\"}},\"id\":\"12770\",\"type\":\"CDSView\"},{\"attributes\":{},\"id\":\"13285\",\"type\":\"Selection\"},{\"attributes\":{},\"id\":\"12745\",\"type\":\"HelpTool\"},{\"attributes\":{\"text\":\"People using safely managed sanitation services (% of population) weighted against Population, total\"},\"id\":\"12720\",\"type\":\"Title\"},{\"attributes\":{\"callback\":null,\"data\":{\"x\":[\"2000\",\"2001\",\"2002\",\"2003\",\"2004\",\"2005\",\"2006\",\"2007\",\"2008\",\"2009\",\"2010\",\"2011\",\"2012\",\"2013\",\"2014\",\"2015\",\"2016\",\"2017\"],\"y\":[7.313298252489695,8.310611901533424,9.28077115926377,10.252918388064188,11.205379345323372,12.149632874228196,13.089596716542752,14.025080502459863,14.955900981807803,15.821696108471013,16.709045789768172,17.553474451435992,18.374064944696872,19.187805301854954,19.99536707307814,20.797136473512598,21.58898092737968,22.374104786870443]},\"selected\":{\"id\":\"12783\",\"type\":\"Selection\"},\"selection_policy\":{\"id\":\"12784\",\"type\":\"UnionRenderers\"}},\"id\":\"12766\",\"type\":\"ColumnDataSource\"},{\"attributes\":{},\"id\":\"12809\",\"type\":\"UnionRenderers\"},{\"attributes\":{\"source\":{\"id\":\"12787\",\"type\":\"ColumnDataSource\"}},\"id\":\"12791\",\"type\":\"CDSView\"},{\"attributes\":{\"label\":{\"value\":\"LDCs\"},\"renderers\":[{\"id\":\"12756\",\"type\":\"GlyphRenderer\"}]},\"id\":\"12765\",\"type\":\"LegendItem\"},{\"attributes\":{\"fill_color\":{\"value\":\"#FA1857\"},\"line_color\":{\"value\":\"#FA1857\"},\"line_width\":{\"value\":3},\"x\":{\"field\":\"x\"},\"y\":{\"field\":\"y\"}},\"id\":\"12767\",\"type\":\"Circle\"},{\"attributes\":{},\"id\":\"12743\",\"type\":\"SaveTool\"}],\"root_ids\":[\"12719\"]},\"title\":\"Bokeh Application\",\"version\":\"1.3.4\"}};\n",
       "  var render_items = [{\"docid\":\"37332552-d324-4163-978f-d315182d3a5e\",\"roots\":{\"12719\":\"2d81d5cd-ef8b-4745-9e6c-d639817476d4\"}}];\n",
       "  root.Bokeh.embed.embed_items_notebook(docs_json, render_items);\n",
       "\n",
       "  }\n",
       "  if (root.Bokeh !== undefined) {\n",
       "    embed_document(root);\n",
       "  } else {\n",
       "    var attempts = 0;\n",
       "    var timer = setInterval(function(root) {\n",
       "      if (root.Bokeh !== undefined) {\n",
       "        embed_document(root);\n",
       "        clearInterval(timer);\n",
       "      }\n",
       "      attempts++;\n",
       "      if (attempts > 100) {\n",
       "        console.log(\"Bokeh: ERROR: Unable to run BokehJS code because BokehJS library is missing\");\n",
       "        clearInterval(timer);\n",
       "      }\n",
       "    }, 10, root)\n",
       "  }\n",
       "})(window);"
      ],
      "application/vnd.bokehjs_exec.v0+json": ""
     },
     "metadata": {
      "application/vnd.bokehjs_exec.v0+json": {
       "id": "12719"
      }
     },
     "output_type": "display_data"
    }
   ],
   "source": [
    "# Access to safely managed sanitation services\n",
    "years = list(map(str, list(range(2000,2018))))\n",
    "result = show_weighted_average(years, 'SH.STA.SMSS.ZS', 'SP.POP.TOTL', \n",
    "                               ['LDCs', 'Developing excluding LDCs', 'OECD']) "
   ]
  },
  {
   "cell_type": "code",
   "execution_count": 34,
   "metadata": {
    "ExecuteTime": {
     "end_time": "2019-10-25T14:26:01.793967Z",
     "start_time": "2019-10-25T14:25:57.741996Z"
    },
    "slideshow": {
     "slide_type": "slide"
    }
   },
   "outputs": [
    {
     "data": {
      "text/html": [
       "\n",
       "\n",
       "\n",
       "\n",
       "\n",
       "\n",
       "  <div class=\"bk-root\" id=\"a14c1965-7101-4111-b117-b48cc11c17d8\" data-root-id=\"13398\"></div>\n"
      ]
     },
     "metadata": {},
     "output_type": "display_data"
    },
    {
     "data": {
      "application/javascript": [
       "(function(root) {\n",
       "  function embed_document(root) {\n",
       "    \n",
       "  var docs_json = {\"eab4958a-0338-49cc-9b1b-44bb00e80793\":{\"roots\":{\"references\":[{\"attributes\":{\"below\":[{\"id\":\"13409\",\"type\":\"LinearAxis\"}],\"center\":[{\"id\":\"13413\",\"type\":\"Grid\"},{\"id\":\"13418\",\"type\":\"Grid\"},{\"id\":\"13443\",\"type\":\"Legend\"}],\"left\":[{\"id\":\"13414\",\"type\":\"LinearAxis\"}],\"plot_height\":400,\"plot_width\":800,\"renderers\":[{\"id\":\"13435\",\"type\":\"GlyphRenderer\"},{\"id\":\"13448\",\"type\":\"GlyphRenderer\"},{\"id\":\"13453\",\"type\":\"GlyphRenderer\"},{\"id\":\"13469\",\"type\":\"GlyphRenderer\"}],\"title\":{\"id\":\"13399\",\"type\":\"Title\"},\"toolbar\":{\"id\":\"13425\",\"type\":\"Toolbar\"},\"x_range\":{\"id\":\"13401\",\"type\":\"DataRange1d\"},\"x_scale\":{\"id\":\"13405\",\"type\":\"LinearScale\"},\"y_range\":{\"id\":\"13403\",\"type\":\"DataRange1d\"},\"y_scale\":{\"id\":\"13407\",\"type\":\"LinearScale\"}},\"id\":\"13398\",\"subtype\":\"Figure\",\"type\":\"Plot\"},{\"attributes\":{\"fill_alpha\":{\"value\":0.1},\"fill_color\":{\"value\":\"#1f77b4\"},\"line_alpha\":{\"value\":0.1},\"line_color\":{\"value\":\"#1f77b4\"},\"line_width\":{\"value\":3},\"x\":{\"field\":\"x\"},\"y\":{\"field\":\"y\"}},\"id\":\"13447\",\"type\":\"Circle\"},{\"attributes\":{\"axis_label\":\"SH.H2O.BASW.ZS\",\"formatter\":{\"id\":\"13441\",\"type\":\"BasicTickFormatter\"},\"ticker\":{\"id\":\"13415\",\"type\":\"BasicTicker\"}},\"id\":\"13414\",\"type\":\"LinearAxis\"},{\"attributes\":{\"callback\":null,\"tooltips\":\"                \\n        <div style=padding=5px>Year:@x</div>\\n        <div style=padding=5px>Value:@y</div>        \\n        \"},\"id\":\"13471\",\"type\":\"HoverTool\"},{\"attributes\":{\"bottom_units\":\"screen\",\"fill_alpha\":{\"value\":0.5},\"fill_color\":{\"value\":\"lightgrey\"},\"left_units\":\"screen\",\"level\":\"overlay\",\"line_alpha\":{\"value\":1.0},\"line_color\":{\"value\":\"black\"},\"line_dash\":[4,4],\"line_width\":{\"value\":2},\"render_mode\":\"css\",\"right_units\":\"screen\",\"top_units\":\"screen\"},\"id\":\"13442\",\"type\":\"BoxAnnotation\"},{\"attributes\":{\"callback\":null,\"data\":{\"x\":[\"2000\",\"2001\",\"2002\",\"2003\",\"2004\",\"2005\",\"2006\",\"2007\",\"2008\",\"2009\",\"2010\",\"2011\",\"2012\",\"2013\",\"2014\",\"2015\",\"2016\",\"2017\"],\"y\":[50.6390755344685,51.36285836928065,52.14657844770643,52.97075929860047,53.794860079880166,54.662284525560544,55.520527356489325,56.36153645028357,57.240532507249455,58.11616913832772,58.98913296089495,59.64521383688594,60.53600239277637,61.398270388222066,62.265100775867786,63.08453248601209,63.816308183565866,64.57404357135272]},\"selected\":{\"id\":\"13460\",\"type\":\"Selection\"},\"selection_policy\":{\"id\":\"13461\",\"type\":\"UnionRenderers\"}},\"id\":\"13432\",\"type\":\"ColumnDataSource\"},{\"attributes\":{},\"id\":\"13956\",\"type\":\"UnionRenderers\"},{\"attributes\":{\"items\":[{\"id\":\"13444\",\"type\":\"LegendItem\"},{\"id\":\"13465\",\"type\":\"LegendItem\"}],\"location\":\"bottom_left\"},\"id\":\"13443\",\"type\":\"Legend\"},{\"attributes\":{},\"id\":\"13415\",\"type\":\"BasicTicker\"},{\"attributes\":{\"label\":{\"value\":\"LDCs\"},\"renderers\":[{\"id\":\"13435\",\"type\":\"GlyphRenderer\"}]},\"id\":\"13444\",\"type\":\"LegendItem\"},{\"attributes\":{\"callback\":null,\"data\":{\"x\":[\"2000\",\"2001\",\"2002\",\"2003\",\"2004\",\"2005\",\"2006\",\"2007\",\"2008\",\"2009\",\"2010\",\"2011\",\"2012\",\"2013\",\"2014\",\"2015\",\"2016\",\"2017\"],\"y\":[80.55112682880318,81.00479371625393,81.77679009369407,82.53784452553441,83.28851027121169,84.02975397091646,84.75379189012546,85.4649501299916,86.16369312765474,86.84098274717998,87.50754213927502,88.15891127427683,88.79749865814709,89.42443209227703,90.04162285513938,90.65090738325256,91.23674955938168,91.74156692102636]},\"selected\":{\"id\":\"13955\",\"type\":\"Selection\"},\"selection_policy\":{\"id\":\"13956\",\"type\":\"UnionRenderers\"}},\"id\":\"13466\",\"type\":\"ColumnDataSource\"},{\"attributes\":{},\"id\":\"13439\",\"type\":\"BasicTickFormatter\"},{\"attributes\":{\"dimension\":1,\"grid_line_alpha\":0.5,\"ticker\":{\"id\":\"13415\",\"type\":\"BasicTicker\"}},\"id\":\"13418\",\"type\":\"Grid\"},{\"attributes\":{},\"id\":\"13462\",\"type\":\"Selection\"},{\"attributes\":{},\"id\":\"13953\",\"type\":\"Selection\"},{\"attributes\":{\"grid_line_color\":null,\"ticker\":{\"id\":\"13410\",\"type\":\"BasicTicker\"}},\"id\":\"13413\",\"type\":\"Grid\"},{\"attributes\":{},\"id\":\"13463\",\"type\":\"UnionRenderers\"},{\"attributes\":{},\"id\":\"13410\",\"type\":\"BasicTicker\"},{\"attributes\":{\"label\":{\"value\":\"Developing excluding LDCs\"},\"renderers\":[{\"id\":\"13453\",\"type\":\"GlyphRenderer\"}]},\"id\":\"13465\",\"type\":\"LegendItem\"},{\"attributes\":{},\"id\":\"13441\",\"type\":\"BasicTickFormatter\"},{\"attributes\":{},\"id\":\"13954\",\"type\":\"UnionRenderers\"},{\"attributes\":{\"source\":{\"id\":\"13450\",\"type\":\"ColumnDataSource\"}},\"id\":\"13454\",\"type\":\"CDSView\"},{\"attributes\":{\"data_source\":{\"id\":\"13466\",\"type\":\"ColumnDataSource\"},\"glyph\":{\"id\":\"13467\",\"type\":\"Circle\"},\"hover_glyph\":null,\"muted_glyph\":null,\"nonselection_glyph\":{\"id\":\"13468\",\"type\":\"Circle\"},\"selection_glyph\":null,\"view\":{\"id\":\"13470\",\"type\":\"CDSView\"}},\"id\":\"13469\",\"type\":\"GlyphRenderer\"},{\"attributes\":{},\"id\":\"13407\",\"type\":\"LinearScale\"},{\"attributes\":{},\"id\":\"13460\",\"type\":\"Selection\"},{\"attributes\":{},\"id\":\"13955\",\"type\":\"Selection\"},{\"attributes\":{},\"id\":\"13405\",\"type\":\"LinearScale\"},{\"attributes\":{\"data_source\":{\"id\":\"13432\",\"type\":\"ColumnDataSource\"},\"glyph\":{\"id\":\"13433\",\"type\":\"Line\"},\"hover_glyph\":null,\"muted_glyph\":null,\"nonselection_glyph\":{\"id\":\"13434\",\"type\":\"Line\"},\"selection_glyph\":null,\"view\":{\"id\":\"13436\",\"type\":\"CDSView\"}},\"id\":\"13435\",\"type\":\"GlyphRenderer\"},{\"attributes\":{\"line_color\":\"#FA1857\",\"x\":{\"field\":\"x\"},\"y\":{\"field\":\"y\"}},\"id\":\"13433\",\"type\":\"Line\"},{\"attributes\":{\"source\":{\"id\":\"13466\",\"type\":\"ColumnDataSource\"}},\"id\":\"13470\",\"type\":\"CDSView\"},{\"attributes\":{},\"id\":\"13423\",\"type\":\"ResetTool\"},{\"attributes\":{\"axis_label\":\"Years\",\"formatter\":{\"id\":\"13439\",\"type\":\"BasicTickFormatter\"},\"ticker\":{\"id\":\"13410\",\"type\":\"BasicTicker\"}},\"id\":\"13409\",\"type\":\"LinearAxis\"},{\"attributes\":{},\"id\":\"13461\",\"type\":\"UnionRenderers\"},{\"attributes\":{\"fill_alpha\":{\"value\":0.1},\"fill_color\":{\"value\":\"#1f77b4\"},\"line_alpha\":{\"value\":0.1},\"line_color\":{\"value\":\"#1f77b4\"},\"line_width\":{\"value\":3},\"x\":{\"field\":\"x\"},\"y\":{\"field\":\"y\"}},\"id\":\"13468\",\"type\":\"Circle\"},{\"attributes\":{\"line_color\":\"#5430F1\",\"x\":{\"field\":\"x\"},\"y\":{\"field\":\"y\"}},\"id\":\"13451\",\"type\":\"Line\"},{\"attributes\":{\"source\":{\"id\":\"13432\",\"type\":\"ColumnDataSource\"}},\"id\":\"13436\",\"type\":\"CDSView\"},{\"attributes\":{\"callback\":null},\"id\":\"13401\",\"type\":\"DataRange1d\"},{\"attributes\":{\"fill_color\":{\"value\":\"#5430F1\"},\"line_color\":{\"value\":\"#5430F1\"},\"line_width\":{\"value\":3},\"x\":{\"field\":\"x\"},\"y\":{\"field\":\"y\"}},\"id\":\"13467\",\"type\":\"Circle\"},{\"attributes\":{\"line_alpha\":0.1,\"line_color\":\"#1f77b4\",\"x\":{\"field\":\"x\"},\"y\":{\"field\":\"y\"}},\"id\":\"13452\",\"type\":\"Line\"},{\"attributes\":{},\"id\":\"13424\",\"type\":\"HelpTool\"},{\"attributes\":{\"text\":\"People using at least basic drinking water services (% of population) weighted against Population, total\"},\"id\":\"13399\",\"type\":\"Title\"},{\"attributes\":{\"data_source\":{\"id\":\"13450\",\"type\":\"ColumnDataSource\"},\"glyph\":{\"id\":\"13451\",\"type\":\"Line\"},\"hover_glyph\":null,\"muted_glyph\":null,\"nonselection_glyph\":{\"id\":\"13452\",\"type\":\"Line\"},\"selection_glyph\":null,\"view\":{\"id\":\"13454\",\"type\":\"CDSView\"}},\"id\":\"13453\",\"type\":\"GlyphRenderer\"},{\"attributes\":{},\"id\":\"13420\",\"type\":\"WheelZoomTool\"},{\"attributes\":{\"callback\":null},\"id\":\"13403\",\"type\":\"DataRange1d\"},{\"attributes\":{\"data_source\":{\"id\":\"13445\",\"type\":\"ColumnDataSource\"},\"glyph\":{\"id\":\"13446\",\"type\":\"Circle\"},\"hover_glyph\":null,\"muted_glyph\":null,\"nonselection_glyph\":{\"id\":\"13447\",\"type\":\"Circle\"},\"selection_glyph\":null,\"view\":{\"id\":\"13449\",\"type\":\"CDSView\"}},\"id\":\"13448\",\"type\":\"GlyphRenderer\"},{\"attributes\":{\"active_drag\":\"auto\",\"active_inspect\":\"auto\",\"active_multi\":null,\"active_scroll\":\"auto\",\"active_tap\":\"auto\",\"tools\":[{\"id\":\"13419\",\"type\":\"PanTool\"},{\"id\":\"13420\",\"type\":\"WheelZoomTool\"},{\"id\":\"13421\",\"type\":\"BoxZoomTool\"},{\"id\":\"13422\",\"type\":\"SaveTool\"},{\"id\":\"13423\",\"type\":\"ResetTool\"},{\"id\":\"13424\",\"type\":\"HelpTool\"},{\"id\":\"13471\",\"type\":\"HoverTool\"}]},\"id\":\"13425\",\"type\":\"Toolbar\"},{\"attributes\":{\"source\":{\"id\":\"13445\",\"type\":\"ColumnDataSource\"}},\"id\":\"13449\",\"type\":\"CDSView\"},{\"attributes\":{\"overlay\":{\"id\":\"13442\",\"type\":\"BoxAnnotation\"}},\"id\":\"13421\",\"type\":\"BoxZoomTool\"},{\"attributes\":{\"callback\":null,\"data\":{\"x\":[\"2000\",\"2001\",\"2002\",\"2003\",\"2004\",\"2005\",\"2006\",\"2007\",\"2008\",\"2009\",\"2010\",\"2011\",\"2012\",\"2013\",\"2014\",\"2015\",\"2016\",\"2017\"],\"y\":[80.55112682880318,81.00479371625393,81.77679009369407,82.53784452553441,83.28851027121169,84.02975397091646,84.75379189012546,85.4649501299916,86.16369312765474,86.84098274717998,87.50754213927502,88.15891127427683,88.79749865814709,89.42443209227703,90.04162285513938,90.65090738325256,91.23674955938168,91.74156692102636]},\"selected\":{\"id\":\"13953\",\"type\":\"Selection\"},\"selection_policy\":{\"id\":\"13954\",\"type\":\"UnionRenderers\"}},\"id\":\"13450\",\"type\":\"ColumnDataSource\"},{\"attributes\":{\"line_alpha\":0.1,\"line_color\":\"#1f77b4\",\"x\":{\"field\":\"x\"},\"y\":{\"field\":\"y\"}},\"id\":\"13434\",\"type\":\"Line\"},{\"attributes\":{\"callback\":null,\"data\":{\"x\":[\"2000\",\"2001\",\"2002\",\"2003\",\"2004\",\"2005\",\"2006\",\"2007\",\"2008\",\"2009\",\"2010\",\"2011\",\"2012\",\"2013\",\"2014\",\"2015\",\"2016\",\"2017\"],\"y\":[50.6390755344685,51.36285836928065,52.14657844770643,52.97075929860047,53.794860079880166,54.662284525560544,55.520527356489325,56.36153645028357,57.240532507249455,58.11616913832772,58.98913296089495,59.64521383688594,60.53600239277637,61.398270388222066,62.265100775867786,63.08453248601209,63.816308183565866,64.57404357135272]},\"selected\":{\"id\":\"13462\",\"type\":\"Selection\"},\"selection_policy\":{\"id\":\"13463\",\"type\":\"UnionRenderers\"}},\"id\":\"13445\",\"type\":\"ColumnDataSource\"},{\"attributes\":{},\"id\":\"13422\",\"type\":\"SaveTool\"},{\"attributes\":{},\"id\":\"13419\",\"type\":\"PanTool\"},{\"attributes\":{\"fill_color\":{\"value\":\"#FA1857\"},\"line_color\":{\"value\":\"#FA1857\"},\"line_width\":{\"value\":3},\"x\":{\"field\":\"x\"},\"y\":{\"field\":\"y\"}},\"id\":\"13446\",\"type\":\"Circle\"}],\"root_ids\":[\"13398\"]},\"title\":\"Bokeh Application\",\"version\":\"1.3.4\"}};\n",
       "  var render_items = [{\"docid\":\"eab4958a-0338-49cc-9b1b-44bb00e80793\",\"roots\":{\"13398\":\"a14c1965-7101-4111-b117-b48cc11c17d8\"}}];\n",
       "  root.Bokeh.embed.embed_items_notebook(docs_json, render_items);\n",
       "\n",
       "  }\n",
       "  if (root.Bokeh !== undefined) {\n",
       "    embed_document(root);\n",
       "  } else {\n",
       "    var attempts = 0;\n",
       "    var timer = setInterval(function(root) {\n",
       "      if (root.Bokeh !== undefined) {\n",
       "        embed_document(root);\n",
       "        clearInterval(timer);\n",
       "      }\n",
       "      attempts++;\n",
       "      if (attempts > 100) {\n",
       "        console.log(\"Bokeh: ERROR: Unable to run BokehJS code because BokehJS library is missing\");\n",
       "        clearInterval(timer);\n",
       "      }\n",
       "    }, 10, root)\n",
       "  }\n",
       "})(window);"
      ],
      "application/vnd.bokehjs_exec.v0+json": ""
     },
     "metadata": {
      "application/vnd.bokehjs_exec.v0+json": {
       "id": "13398"
      }
     },
     "output_type": "display_data"
    }
   ],
   "source": [
    "# Basic water access\n",
    "years = list(map(str, list(range(2000,2018))))\n",
    "result = show_weighted_average(years, 'SH.H2O.BASW.ZS', 'SP.POP.TOTL', ['LDCs', 'Developing excluding LDCs'])"
   ]
  },
  {
   "cell_type": "code",
   "execution_count": 35,
   "metadata": {
    "ExecuteTime": {
     "end_time": "2019-10-25T14:26:06.027715Z",
     "start_time": "2019-10-25T14:26:01.795810Z"
    },
    "slideshow": {
     "slide_type": "slide"
    }
   },
   "outputs": [
    {
     "data": {
      "text/html": [
       "\n",
       "\n",
       "\n",
       "\n",
       "\n",
       "\n",
       "  <div class=\"bk-root\" id=\"a6fa8051-3df6-428b-9d4e-fe86469aa589\" data-root-id=\"14042\"></div>\n"
      ]
     },
     "metadata": {},
     "output_type": "display_data"
    },
    {
     "data": {
      "application/javascript": [
       "(function(root) {\n",
       "  function embed_document(root) {\n",
       "    \n",
       "  var docs_json = {\"8db9fc91-4882-45f9-8cd3-e73a9f304ed2\":{\"roots\":{\"references\":[{\"attributes\":{\"below\":[{\"id\":\"14053\",\"type\":\"LinearAxis\"}],\"center\":[{\"id\":\"14057\",\"type\":\"Grid\"},{\"id\":\"14062\",\"type\":\"Grid\"},{\"id\":\"14087\",\"type\":\"Legend\"}],\"left\":[{\"id\":\"14058\",\"type\":\"LinearAxis\"}],\"plot_height\":400,\"plot_width\":800,\"renderers\":[{\"id\":\"14079\",\"type\":\"GlyphRenderer\"},{\"id\":\"14092\",\"type\":\"GlyphRenderer\"},{\"id\":\"14097\",\"type\":\"GlyphRenderer\"},{\"id\":\"14113\",\"type\":\"GlyphRenderer\"}],\"title\":{\"id\":\"14043\",\"type\":\"Title\"},\"toolbar\":{\"id\":\"14069\",\"type\":\"Toolbar\"},\"x_range\":{\"id\":\"14045\",\"type\":\"DataRange1d\"},\"x_scale\":{\"id\":\"14049\",\"type\":\"LinearScale\"},\"y_range\":{\"id\":\"14047\",\"type\":\"DataRange1d\"},\"y_scale\":{\"id\":\"14051\",\"type\":\"LinearScale\"}},\"id\":\"14042\",\"subtype\":\"Figure\",\"type\":\"Plot\"},{\"attributes\":{},\"id\":\"14067\",\"type\":\"ResetTool\"},{\"attributes\":{},\"id\":\"14051\",\"type\":\"LinearScale\"},{\"attributes\":{},\"id\":\"14107\",\"type\":\"UnionRenderers\"},{\"attributes\":{\"axis_label\":\"Years\",\"formatter\":{\"id\":\"14083\",\"type\":\"BasicTickFormatter\"},\"ticker\":{\"id\":\"14054\",\"type\":\"BasicTicker\"}},\"id\":\"14053\",\"type\":\"LinearAxis\"},{\"attributes\":{},\"id\":\"14612\",\"type\":\"UnionRenderers\"},{\"attributes\":{\"overlay\":{\"id\":\"14086\",\"type\":\"BoxAnnotation\"}},\"id\":\"14065\",\"type\":\"BoxZoomTool\"},{\"attributes\":{},\"id\":\"14106\",\"type\":\"Selection\"},{\"attributes\":{},\"id\":\"14054\",\"type\":\"BasicTicker\"},{\"attributes\":{\"source\":{\"id\":\"14110\",\"type\":\"ColumnDataSource\"}},\"id\":\"14114\",\"type\":\"CDSView\"},{\"attributes\":{\"line_alpha\":0.1,\"line_color\":\"#1f77b4\",\"x\":{\"field\":\"x\"},\"y\":{\"field\":\"y\"}},\"id\":\"14078\",\"type\":\"Line\"},{\"attributes\":{\"source\":{\"id\":\"14094\",\"type\":\"ColumnDataSource\"}},\"id\":\"14098\",\"type\":\"CDSView\"},{\"attributes\":{},\"id\":\"14613\",\"type\":\"Selection\"},{\"attributes\":{\"callback\":null},\"id\":\"14045\",\"type\":\"DataRange1d\"},{\"attributes\":{},\"id\":\"14614\",\"type\":\"UnionRenderers\"},{\"attributes\":{},\"id\":\"14105\",\"type\":\"UnionRenderers\"},{\"attributes\":{},\"id\":\"14066\",\"type\":\"SaveTool\"},{\"attributes\":{\"callback\":null},\"id\":\"14047\",\"type\":\"DataRange1d\"},{\"attributes\":{},\"id\":\"14085\",\"type\":\"BasicTickFormatter\"},{\"attributes\":{},\"id\":\"14104\",\"type\":\"Selection\"},{\"attributes\":{\"dimension\":1,\"grid_line_alpha\":0.5,\"ticker\":{\"id\":\"14059\",\"type\":\"BasicTicker\"}},\"id\":\"14062\",\"type\":\"Grid\"},{\"attributes\":{},\"id\":\"14049\",\"type\":\"LinearScale\"},{\"attributes\":{\"data_source\":{\"id\":\"14110\",\"type\":\"ColumnDataSource\"},\"glyph\":{\"id\":\"14111\",\"type\":\"Circle\"},\"hover_glyph\":null,\"muted_glyph\":null,\"nonselection_glyph\":{\"id\":\"14112\",\"type\":\"Circle\"},\"selection_glyph\":null,\"view\":{\"id\":\"14114\",\"type\":\"CDSView\"}},\"id\":\"14113\",\"type\":\"GlyphRenderer\"},{\"attributes\":{\"line_color\":\"#5430F1\",\"x\":{\"field\":\"x\"},\"y\":{\"field\":\"y\"}},\"id\":\"14095\",\"type\":\"Line\"},{\"attributes\":{},\"id\":\"14611\",\"type\":\"Selection\"},{\"attributes\":{\"data_source\":{\"id\":\"14094\",\"type\":\"ColumnDataSource\"},\"glyph\":{\"id\":\"14095\",\"type\":\"Line\"},\"hover_glyph\":null,\"muted_glyph\":null,\"nonselection_glyph\":{\"id\":\"14096\",\"type\":\"Line\"},\"selection_glyph\":null,\"view\":{\"id\":\"14098\",\"type\":\"CDSView\"}},\"id\":\"14097\",\"type\":\"GlyphRenderer\"},{\"attributes\":{\"callback\":null,\"tooltips\":\"                \\n        <div style=padding=5px>Year:@x</div>\\n        <div style=padding=5px>Value:@y</div>        \\n        \"},\"id\":\"14115\",\"type\":\"HoverTool\"},{\"attributes\":{\"source\":{\"id\":\"14076\",\"type\":\"ColumnDataSource\"}},\"id\":\"14080\",\"type\":\"CDSView\"},{\"attributes\":{\"line_alpha\":0.1,\"line_color\":\"#1f77b4\",\"x\":{\"field\":\"x\"},\"y\":{\"field\":\"y\"}},\"id\":\"14096\",\"type\":\"Line\"},{\"attributes\":{\"text\":\"People using at least basic drinking water services, rural (% of rural population) weighted against Rural population\"},\"id\":\"14043\",\"type\":\"Title\"},{\"attributes\":{\"fill_alpha\":{\"value\":0.1},\"fill_color\":{\"value\":\"#1f77b4\"},\"line_alpha\":{\"value\":0.1},\"line_color\":{\"value\":\"#1f77b4\"},\"line_width\":{\"value\":3},\"x\":{\"field\":\"x\"},\"y\":{\"field\":\"y\"}},\"id\":\"14112\",\"type\":\"Circle\"},{\"attributes\":{\"data_source\":{\"id\":\"14089\",\"type\":\"ColumnDataSource\"},\"glyph\":{\"id\":\"14090\",\"type\":\"Circle\"},\"hover_glyph\":null,\"muted_glyph\":null,\"nonselection_glyph\":{\"id\":\"14091\",\"type\":\"Circle\"},\"selection_glyph\":null,\"view\":{\"id\":\"14093\",\"type\":\"CDSView\"}},\"id\":\"14092\",\"type\":\"GlyphRenderer\"},{\"attributes\":{\"axis_label\":\"SH.H2O.BASW.RU.ZS\",\"formatter\":{\"id\":\"14085\",\"type\":\"BasicTickFormatter\"},\"ticker\":{\"id\":\"14059\",\"type\":\"BasicTicker\"}},\"id\":\"14058\",\"type\":\"LinearAxis\"},{\"attributes\":{\"data_source\":{\"id\":\"14076\",\"type\":\"ColumnDataSource\"},\"glyph\":{\"id\":\"14077\",\"type\":\"Line\"},\"hover_glyph\":null,\"muted_glyph\":null,\"nonselection_glyph\":{\"id\":\"14078\",\"type\":\"Line\"},\"selection_glyph\":null,\"view\":{\"id\":\"14080\",\"type\":\"CDSView\"}},\"id\":\"14079\",\"type\":\"GlyphRenderer\"},{\"attributes\":{\"callback\":null,\"data\":{\"x\":[\"2000\",\"2001\",\"2002\",\"2003\",\"2004\",\"2005\",\"2006\",\"2007\",\"2008\",\"2009\",\"2010\",\"2011\",\"2012\",\"2013\",\"2014\",\"2015\",\"2016\",\"2017\"],\"y\":[70.548702877432,71.00004920789118,71.95018602183819,72.90005660990126,73.84979674562858,74.80186545073815,75.7497619375849,76.69812617708288,77.64556540872928,78.57794683969233,79.51234784363636,80.44861606275593,81.3846478800014,82.31897898954479,83.25506420388984,84.18519675512437,85.10049117126351,86.01116731571781]},\"selected\":{\"id\":\"14611\",\"type\":\"Selection\"},\"selection_policy\":{\"id\":\"14612\",\"type\":\"UnionRenderers\"}},\"id\":\"14094\",\"type\":\"ColumnDataSource\"},{\"attributes\":{\"source\":{\"id\":\"14089\",\"type\":\"ColumnDataSource\"}},\"id\":\"14093\",\"type\":\"CDSView\"},{\"attributes\":{\"fill_color\":{\"value\":\"#5430F1\"},\"line_color\":{\"value\":\"#5430F1\"},\"line_width\":{\"value\":3},\"x\":{\"field\":\"x\"},\"y\":{\"field\":\"y\"}},\"id\":\"14111\",\"type\":\"Circle\"},{\"attributes\":{\"callback\":null,\"data\":{\"x\":[\"2000\",\"2001\",\"2002\",\"2003\",\"2004\",\"2005\",\"2006\",\"2007\",\"2008\",\"2009\",\"2010\",\"2011\",\"2012\",\"2013\",\"2014\",\"2015\",\"2016\",\"2017\"],\"y\":[42.12683300179766,42.80027017649536,43.50079749798844,44.25366307202228,45.00747896662987,45.80419361422807,46.59437519706998,47.36876142509717,48.17616099242744,48.980453708262594,49.782813757361296,50.42503187607093,51.28403194463684,52.07473967276295,52.873727809325516,53.62244943417166,54.273675248356724,54.932811181463364]},\"selected\":{\"id\":\"14106\",\"type\":\"Selection\"},\"selection_policy\":{\"id\":\"14107\",\"type\":\"UnionRenderers\"}},\"id\":\"14089\",\"type\":\"ColumnDataSource\"},{\"attributes\":{},\"id\":\"14063\",\"type\":\"PanTool\"},{\"attributes\":{\"callback\":null,\"data\":{\"x\":[\"2000\",\"2001\",\"2002\",\"2003\",\"2004\",\"2005\",\"2006\",\"2007\",\"2008\",\"2009\",\"2010\",\"2011\",\"2012\",\"2013\",\"2014\",\"2015\",\"2016\",\"2017\"],\"y\":[42.12683300179766,42.80027017649536,43.50079749798844,44.25366307202228,45.00747896662987,45.80419361422807,46.59437519706998,47.36876142509717,48.17616099242744,48.980453708262594,49.782813757361296,50.42503187607093,51.28403194463684,52.07473967276295,52.873727809325516,53.62244943417166,54.273675248356724,54.932811181463364]},\"selected\":{\"id\":\"14104\",\"type\":\"Selection\"},\"selection_policy\":{\"id\":\"14105\",\"type\":\"UnionRenderers\"}},\"id\":\"14076\",\"type\":\"ColumnDataSource\"},{\"attributes\":{\"fill_alpha\":{\"value\":0.1},\"fill_color\":{\"value\":\"#1f77b4\"},\"line_alpha\":{\"value\":0.1},\"line_color\":{\"value\":\"#1f77b4\"},\"line_width\":{\"value\":3},\"x\":{\"field\":\"x\"},\"y\":{\"field\":\"y\"}},\"id\":\"14091\",\"type\":\"Circle\"},{\"attributes\":{},\"id\":\"14064\",\"type\":\"WheelZoomTool\"},{\"attributes\":{\"line_color\":\"#FA1857\",\"x\":{\"field\":\"x\"},\"y\":{\"field\":\"y\"}},\"id\":\"14077\",\"type\":\"Line\"},{\"attributes\":{\"fill_color\":{\"value\":\"#FA1857\"},\"line_color\":{\"value\":\"#FA1857\"},\"line_width\":{\"value\":3},\"x\":{\"field\":\"x\"},\"y\":{\"field\":\"y\"}},\"id\":\"14090\",\"type\":\"Circle\"},{\"attributes\":{\"callback\":null,\"data\":{\"x\":[\"2000\",\"2001\",\"2002\",\"2003\",\"2004\",\"2005\",\"2006\",\"2007\",\"2008\",\"2009\",\"2010\",\"2011\",\"2012\",\"2013\",\"2014\",\"2015\",\"2016\",\"2017\"],\"y\":[70.548702877432,71.00004920789118,71.95018602183819,72.90005660990126,73.84979674562858,74.80186545073815,75.7497619375849,76.69812617708288,77.64556540872928,78.57794683969233,79.51234784363636,80.44861606275593,81.3846478800014,82.31897898954479,83.25506420388984,84.18519675512437,85.10049117126351,86.01116731571781]},\"selected\":{\"id\":\"14613\",\"type\":\"Selection\"},\"selection_policy\":{\"id\":\"14614\",\"type\":\"UnionRenderers\"}},\"id\":\"14110\",\"type\":\"ColumnDataSource\"},{\"attributes\":{\"bottom_units\":\"screen\",\"fill_alpha\":{\"value\":0.5},\"fill_color\":{\"value\":\"lightgrey\"},\"left_units\":\"screen\",\"level\":\"overlay\",\"line_alpha\":{\"value\":1.0},\"line_color\":{\"value\":\"black\"},\"line_dash\":[4,4],\"line_width\":{\"value\":2},\"render_mode\":\"css\",\"right_units\":\"screen\",\"top_units\":\"screen\"},\"id\":\"14086\",\"type\":\"BoxAnnotation\"},{\"attributes\":{},\"id\":\"14068\",\"type\":\"HelpTool\"},{\"attributes\":{\"label\":{\"value\":\"LDCs\"},\"renderers\":[{\"id\":\"14079\",\"type\":\"GlyphRenderer\"}]},\"id\":\"14088\",\"type\":\"LegendItem\"},{\"attributes\":{},\"id\":\"14083\",\"type\":\"BasicTickFormatter\"},{\"attributes\":{\"grid_line_color\":null,\"ticker\":{\"id\":\"14054\",\"type\":\"BasicTicker\"}},\"id\":\"14057\",\"type\":\"Grid\"},{\"attributes\":{\"items\":[{\"id\":\"14088\",\"type\":\"LegendItem\"},{\"id\":\"14109\",\"type\":\"LegendItem\"}],\"location\":\"bottom_left\"},\"id\":\"14087\",\"type\":\"Legend\"},{\"attributes\":{\"label\":{\"value\":\"Developing excluding LDCs\"},\"renderers\":[{\"id\":\"14097\",\"type\":\"GlyphRenderer\"}]},\"id\":\"14109\",\"type\":\"LegendItem\"},{\"attributes\":{\"active_drag\":\"auto\",\"active_inspect\":\"auto\",\"active_multi\":null,\"active_scroll\":\"auto\",\"active_tap\":\"auto\",\"tools\":[{\"id\":\"14063\",\"type\":\"PanTool\"},{\"id\":\"14064\",\"type\":\"WheelZoomTool\"},{\"id\":\"14065\",\"type\":\"BoxZoomTool\"},{\"id\":\"14066\",\"type\":\"SaveTool\"},{\"id\":\"14067\",\"type\":\"ResetTool\"},{\"id\":\"14068\",\"type\":\"HelpTool\"},{\"id\":\"14115\",\"type\":\"HoverTool\"}]},\"id\":\"14069\",\"type\":\"Toolbar\"},{\"attributes\":{},\"id\":\"14059\",\"type\":\"BasicTicker\"}],\"root_ids\":[\"14042\"]},\"title\":\"Bokeh Application\",\"version\":\"1.3.4\"}};\n",
       "  var render_items = [{\"docid\":\"8db9fc91-4882-45f9-8cd3-e73a9f304ed2\",\"roots\":{\"14042\":\"a6fa8051-3df6-428b-9d4e-fe86469aa589\"}}];\n",
       "  root.Bokeh.embed.embed_items_notebook(docs_json, render_items);\n",
       "\n",
       "  }\n",
       "  if (root.Bokeh !== undefined) {\n",
       "    embed_document(root);\n",
       "  } else {\n",
       "    var attempts = 0;\n",
       "    var timer = setInterval(function(root) {\n",
       "      if (root.Bokeh !== undefined) {\n",
       "        embed_document(root);\n",
       "        clearInterval(timer);\n",
       "      }\n",
       "      attempts++;\n",
       "      if (attempts > 100) {\n",
       "        console.log(\"Bokeh: ERROR: Unable to run BokehJS code because BokehJS library is missing\");\n",
       "        clearInterval(timer);\n",
       "      }\n",
       "    }, 10, root)\n",
       "  }\n",
       "})(window);"
      ],
      "application/vnd.bokehjs_exec.v0+json": ""
     },
     "metadata": {
      "application/vnd.bokehjs_exec.v0+json": {
       "id": "14042"
      }
     },
     "output_type": "display_data"
    }
   ],
   "source": [
    "# Basic water access rural\n",
    "years = list(map(str, list(range(2000,2018))))\n",
    "result = show_weighted_average(years, 'SH.H2O.BASW.RU.ZS', 'SP.RUR.TOTL', ['LDCs', 'Developing excluding LDCs'])"
   ]
  },
  {
   "cell_type": "markdown",
   "metadata": {
    "slideshow": {
     "slide_type": "slide"
    }
   },
   "source": [
    "# Gender equality and the empowerment of women"
   ]
  },
  {
   "cell_type": "code",
   "execution_count": 36,
   "metadata": {
    "ExecuteTime": {
     "end_time": "2019-10-25T14:26:06.754335Z",
     "start_time": "2019-10-25T14:26:06.030180Z"
    }
   },
   "outputs": [
    {
     "data": {
      "text/html": [
       "\n",
       "\n",
       "\n",
       "\n",
       "\n",
       "\n",
       "  <div class=\"bk-root\" id=\"c4318b8c-0bee-4b5e-922d-b96ab0d800ef\" data-root-id=\"14700\"></div>\n"
      ]
     },
     "metadata": {},
     "output_type": "display_data"
    },
    {
     "data": {
      "application/javascript": [
       "(function(root) {\n",
       "  function embed_document(root) {\n",
       "    \n",
       "  var docs_json = {\"71c43146-fb4d-43c9-9756-321a37a69bbe\":{\"roots\":{\"references\":[{\"attributes\":{\"below\":[{\"id\":\"14711\",\"type\":\"LinearAxis\"}],\"center\":[{\"id\":\"14715\",\"type\":\"Grid\"},{\"id\":\"14720\",\"type\":\"Grid\"},{\"id\":\"14745\",\"type\":\"Legend\"}],\"left\":[{\"id\":\"14716\",\"type\":\"LinearAxis\"}],\"plot_height\":400,\"plot_width\":800,\"renderers\":[{\"id\":\"14737\",\"type\":\"GlyphRenderer\"},{\"id\":\"14750\",\"type\":\"GlyphRenderer\"},{\"id\":\"14755\",\"type\":\"GlyphRenderer\"},{\"id\":\"14771\",\"type\":\"GlyphRenderer\"}],\"title\":{\"id\":\"14701\",\"type\":\"Title\"},\"toolbar\":{\"id\":\"14727\",\"type\":\"Toolbar\"},\"x_range\":{\"id\":\"14703\",\"type\":\"DataRange1d\"},\"x_scale\":{\"id\":\"14707\",\"type\":\"LinearScale\"},\"y_range\":{\"id\":\"14705\",\"type\":\"DataRange1d\"},\"y_scale\":{\"id\":\"14709\",\"type\":\"LinearScale\"}},\"id\":\"14700\",\"subtype\":\"Figure\",\"type\":\"Plot\"},{\"attributes\":{\"items\":[{\"id\":\"14746\",\"type\":\"LegendItem\"},{\"id\":\"14767\",\"type\":\"LegendItem\"}],\"location\":\"bottom_left\"},\"id\":\"14745\",\"type\":\"Legend\"},{\"attributes\":{\"source\":{\"id\":\"14768\",\"type\":\"ColumnDataSource\"}},\"id\":\"14772\",\"type\":\"CDSView\"},{\"attributes\":{\"label\":{\"value\":\"LDCs\"},\"renderers\":[{\"id\":\"14737\",\"type\":\"GlyphRenderer\"}]},\"id\":\"14746\",\"type\":\"LegendItem\"},{\"attributes\":{\"fill_color\":{\"value\":\"#5430F1\"},\"line_color\":{\"value\":\"#5430F1\"},\"line_width\":{\"value\":3},\"x\":{\"field\":\"x\"},\"y\":{\"field\":\"y\"}},\"id\":\"14769\",\"type\":\"Circle\"},{\"attributes\":{},\"id\":\"14722\",\"type\":\"WheelZoomTool\"},{\"attributes\":{\"callback\":null,\"data\":{\"x\":[\"2004\",\"2007\",\"2009\",\"2014\",\"2016\"],\"y\":[55.95647488898381,49.148601616188614,50.86221893261661,50.89351363882598,53.98820201623006]},\"selected\":{\"id\":\"14764\",\"type\":\"Selection\"},\"selection_policy\":{\"id\":\"14765\",\"type\":\"UnionRenderers\"}},\"id\":\"14747\",\"type\":\"ColumnDataSource\"},{\"attributes\":{\"callback\":null,\"data\":{\"x\":[\"2004\",\"2007\",\"2009\",\"2014\",\"2016\"],\"y\":[55.95647488898381,49.148601616188614,50.86221893261661,50.89351363882598,53.98820201623006]},\"selected\":{\"id\":\"14762\",\"type\":\"Selection\"},\"selection_policy\":{\"id\":\"14763\",\"type\":\"UnionRenderers\"}},\"id\":\"14734\",\"type\":\"ColumnDataSource\"},{\"attributes\":{},\"id\":\"15283\",\"type\":\"Selection\"},{\"attributes\":{\"text\":\"Demand for family planning satisfied by modern methods (% of married women with demand for family planning) weighted against Population, female\"},\"id\":\"14701\",\"type\":\"Title\"},{\"attributes\":{\"fill_color\":{\"value\":\"#FA1857\"},\"line_color\":{\"value\":\"#FA1857\"},\"line_width\":{\"value\":3},\"x\":{\"field\":\"x\"},\"y\":{\"field\":\"y\"}},\"id\":\"14748\",\"type\":\"Circle\"},{\"attributes\":{\"overlay\":{\"id\":\"14744\",\"type\":\"BoxAnnotation\"}},\"id\":\"14723\",\"type\":\"BoxZoomTool\"},{\"attributes\":{\"callback\":null},\"id\":\"14703\",\"type\":\"DataRange1d\"},{\"attributes\":{\"fill_alpha\":{\"value\":0.1},\"fill_color\":{\"value\":\"#1f77b4\"},\"line_alpha\":{\"value\":0.1},\"line_color\":{\"value\":\"#1f77b4\"},\"line_width\":{\"value\":3},\"x\":{\"field\":\"x\"},\"y\":{\"field\":\"y\"}},\"id\":\"14749\",\"type\":\"Circle\"},{\"attributes\":{},\"id\":\"15284\",\"type\":\"UnionRenderers\"},{\"attributes\":{},\"id\":\"14724\",\"type\":\"SaveTool\"},{\"attributes\":{\"callback\":null},\"id\":\"14705\",\"type\":\"DataRange1d\"},{\"attributes\":{\"data_source\":{\"id\":\"14747\",\"type\":\"ColumnDataSource\"},\"glyph\":{\"id\":\"14748\",\"type\":\"Circle\"},\"hover_glyph\":null,\"muted_glyph\":null,\"nonselection_glyph\":{\"id\":\"14749\",\"type\":\"Circle\"},\"selection_glyph\":null,\"view\":{\"id\":\"14751\",\"type\":\"CDSView\"}},\"id\":\"14750\",\"type\":\"GlyphRenderer\"},{\"attributes\":{},\"id\":\"14726\",\"type\":\"HelpTool\"},{\"attributes\":{},\"id\":\"15285\",\"type\":\"Selection\"},{\"attributes\":{\"source\":{\"id\":\"14747\",\"type\":\"ColumnDataSource\"}},\"id\":\"14751\",\"type\":\"CDSView\"},{\"attributes\":{},\"id\":\"14725\",\"type\":\"ResetTool\"},{\"attributes\":{\"active_drag\":\"auto\",\"active_inspect\":\"auto\",\"active_multi\":null,\"active_scroll\":\"auto\",\"active_tap\":\"auto\",\"tools\":[{\"id\":\"14721\",\"type\":\"PanTool\"},{\"id\":\"14722\",\"type\":\"WheelZoomTool\"},{\"id\":\"14723\",\"type\":\"BoxZoomTool\"},{\"id\":\"14724\",\"type\":\"SaveTool\"},{\"id\":\"14725\",\"type\":\"ResetTool\"},{\"id\":\"14726\",\"type\":\"HelpTool\"},{\"id\":\"14773\",\"type\":\"HoverTool\"}]},\"id\":\"14727\",\"type\":\"Toolbar\"},{\"attributes\":{\"callback\":null,\"data\":{\"x\":[\"2004\",\"2007\",\"2009\",\"2014\",\"2016\"],\"y\":[61.86680129076366,70.16503057113218,71.47856926329575,62.01315999152563,69.21737011372109]},\"selected\":{\"id\":\"15283\",\"type\":\"Selection\"},\"selection_policy\":{\"id\":\"15284\",\"type\":\"UnionRenderers\"}},\"id\":\"14752\",\"type\":\"ColumnDataSource\"},{\"attributes\":{\"fill_alpha\":{\"value\":0.1},\"fill_color\":{\"value\":\"#1f77b4\"},\"line_alpha\":{\"value\":0.1},\"line_color\":{\"value\":\"#1f77b4\"},\"line_width\":{\"value\":3},\"x\":{\"field\":\"x\"},\"y\":{\"field\":\"y\"}},\"id\":\"14770\",\"type\":\"Circle\"},{\"attributes\":{\"callback\":null,\"tooltips\":\"                \\n        <div style=padding=5px>Year:@x</div>\\n        <div style=padding=5px>Value:@y</div>        \\n        \"},\"id\":\"14773\",\"type\":\"HoverTool\"},{\"attributes\":{},\"id\":\"14707\",\"type\":\"LinearScale\"},{\"attributes\":{},\"id\":\"15286\",\"type\":\"UnionRenderers\"},{\"attributes\":{\"line_color\":\"#5430F1\",\"x\":{\"field\":\"x\"},\"y\":{\"field\":\"y\"}},\"id\":\"14753\",\"type\":\"Line\"},{\"attributes\":{\"line_color\":\"#FA1857\",\"x\":{\"field\":\"x\"},\"y\":{\"field\":\"y\"}},\"id\":\"14735\",\"type\":\"Line\"},{\"attributes\":{\"line_alpha\":0.1,\"line_color\":\"#1f77b4\",\"x\":{\"field\":\"x\"},\"y\":{\"field\":\"y\"}},\"id\":\"14754\",\"type\":\"Line\"},{\"attributes\":{\"axis_label\":\"Years\",\"formatter\":{\"id\":\"14741\",\"type\":\"BasicTickFormatter\"},\"ticker\":{\"id\":\"14712\",\"type\":\"BasicTicker\"}},\"id\":\"14711\",\"type\":\"LinearAxis\"},{\"attributes\":{\"data_source\":{\"id\":\"14752\",\"type\":\"ColumnDataSource\"},\"glyph\":{\"id\":\"14753\",\"type\":\"Line\"},\"hover_glyph\":null,\"muted_glyph\":null,\"nonselection_glyph\":{\"id\":\"14754\",\"type\":\"Line\"},\"selection_glyph\":null,\"view\":{\"id\":\"14756\",\"type\":\"CDSView\"}},\"id\":\"14755\",\"type\":\"GlyphRenderer\"},{\"attributes\":{},\"id\":\"14721\",\"type\":\"PanTool\"},{\"attributes\":{},\"id\":\"14709\",\"type\":\"LinearScale\"},{\"attributes\":{\"data_source\":{\"id\":\"14734\",\"type\":\"ColumnDataSource\"},\"glyph\":{\"id\":\"14735\",\"type\":\"Line\"},\"hover_glyph\":null,\"muted_glyph\":null,\"nonselection_glyph\":{\"id\":\"14736\",\"type\":\"Line\"},\"selection_glyph\":null,\"view\":{\"id\":\"14738\",\"type\":\"CDSView\"}},\"id\":\"14737\",\"type\":\"GlyphRenderer\"},{\"attributes\":{},\"id\":\"14712\",\"type\":\"BasicTicker\"},{\"attributes\":{\"source\":{\"id\":\"14752\",\"type\":\"ColumnDataSource\"}},\"id\":\"14756\",\"type\":\"CDSView\"},{\"attributes\":{\"line_alpha\":0.1,\"line_color\":\"#1f77b4\",\"x\":{\"field\":\"x\"},\"y\":{\"field\":\"y\"}},\"id\":\"14736\",\"type\":\"Line\"},{\"attributes\":{},\"id\":\"14762\",\"type\":\"Selection\"},{\"attributes\":{},\"id\":\"14763\",\"type\":\"UnionRenderers\"},{\"attributes\":{\"data_source\":{\"id\":\"14768\",\"type\":\"ColumnDataSource\"},\"glyph\":{\"id\":\"14769\",\"type\":\"Circle\"},\"hover_glyph\":null,\"muted_glyph\":null,\"nonselection_glyph\":{\"id\":\"14770\",\"type\":\"Circle\"},\"selection_glyph\":null,\"view\":{\"id\":\"14772\",\"type\":\"CDSView\"}},\"id\":\"14771\",\"type\":\"GlyphRenderer\"},{\"attributes\":{\"grid_line_color\":null,\"ticker\":{\"id\":\"14712\",\"type\":\"BasicTicker\"}},\"id\":\"14715\",\"type\":\"Grid\"},{\"attributes\":{},\"id\":\"14764\",\"type\":\"Selection\"},{\"attributes\":{\"source\":{\"id\":\"14734\",\"type\":\"ColumnDataSource\"}},\"id\":\"14738\",\"type\":\"CDSView\"},{\"attributes\":{},\"id\":\"14765\",\"type\":\"UnionRenderers\"},{\"attributes\":{},\"id\":\"14741\",\"type\":\"BasicTickFormatter\"},{\"attributes\":{\"axis_label\":\"SH.FPL.SATM.ZS\",\"formatter\":{\"id\":\"14743\",\"type\":\"BasicTickFormatter\"},\"ticker\":{\"id\":\"14717\",\"type\":\"BasicTicker\"}},\"id\":\"14716\",\"type\":\"LinearAxis\"},{\"attributes\":{\"label\":{\"value\":\"Developing excluding LDCs\"},\"renderers\":[{\"id\":\"14755\",\"type\":\"GlyphRenderer\"}]},\"id\":\"14767\",\"type\":\"LegendItem\"},{\"attributes\":{},\"id\":\"14743\",\"type\":\"BasicTickFormatter\"},{\"attributes\":{},\"id\":\"14717\",\"type\":\"BasicTicker\"},{\"attributes\":{\"callback\":null,\"data\":{\"x\":[\"2004\",\"2007\",\"2009\",\"2014\",\"2016\"],\"y\":[61.86680129076366,70.16503057113218,71.47856926329575,62.01315999152563,69.21737011372109]},\"selected\":{\"id\":\"15285\",\"type\":\"Selection\"},\"selection_policy\":{\"id\":\"15286\",\"type\":\"UnionRenderers\"}},\"id\":\"14768\",\"type\":\"ColumnDataSource\"},{\"attributes\":{\"bottom_units\":\"screen\",\"fill_alpha\":{\"value\":0.5},\"fill_color\":{\"value\":\"lightgrey\"},\"left_units\":\"screen\",\"level\":\"overlay\",\"line_alpha\":{\"value\":1.0},\"line_color\":{\"value\":\"black\"},\"line_dash\":[4,4],\"line_width\":{\"value\":2},\"render_mode\":\"css\",\"right_units\":\"screen\",\"top_units\":\"screen\"},\"id\":\"14744\",\"type\":\"BoxAnnotation\"},{\"attributes\":{\"dimension\":1,\"grid_line_alpha\":0.5,\"ticker\":{\"id\":\"14717\",\"type\":\"BasicTicker\"}},\"id\":\"14720\",\"type\":\"Grid\"}],\"root_ids\":[\"14700\"]},\"title\":\"Bokeh Application\",\"version\":\"1.3.4\"}};\n",
       "  var render_items = [{\"docid\":\"71c43146-fb4d-43c9-9756-321a37a69bbe\",\"roots\":{\"14700\":\"c4318b8c-0bee-4b5e-922d-b96ab0d800ef\"}}];\n",
       "  root.Bokeh.embed.embed_items_notebook(docs_json, render_items);\n",
       "\n",
       "  }\n",
       "  if (root.Bokeh !== undefined) {\n",
       "    embed_document(root);\n",
       "  } else {\n",
       "    var attempts = 0;\n",
       "    var timer = setInterval(function(root) {\n",
       "      if (root.Bokeh !== undefined) {\n",
       "        embed_document(root);\n",
       "        clearInterval(timer);\n",
       "      }\n",
       "      attempts++;\n",
       "      if (attempts > 100) {\n",
       "        console.log(\"Bokeh: ERROR: Unable to run BokehJS code because BokehJS library is missing\");\n",
       "        clearInterval(timer);\n",
       "      }\n",
       "    }, 10, root)\n",
       "  }\n",
       "})(window);"
      ],
      "application/vnd.bokehjs_exec.v0+json": ""
     },
     "metadata": {
      "application/vnd.bokehjs_exec.v0+json": {
       "id": "14700"
      }
     },
     "output_type": "display_data"
    }
   ],
   "source": [
    "# Basic water access rural\n",
    "years = ['2004', '2007', '2009', '2014', '2016']\n",
    "result = show_weighted_average(years, 'SH.FPL.SATM.ZS', 'SP.POP.TOTL.FE.IN', \n",
    "                               ['LDCs', 'Developing excluding LDCs'])"
   ]
  },
  {
   "cell_type": "code",
   "execution_count": 37,
   "metadata": {
    "ExecuteTime": {
     "end_time": "2019-10-25T14:26:07.694750Z",
     "start_time": "2019-10-25T14:26:06.760738Z"
    }
   },
   "outputs": [
    {
     "data": {
      "text/html": [
       "\n",
       "\n",
       "\n",
       "\n",
       "\n",
       "\n",
       "  <div class=\"bk-root\" id=\"02c2bc84-434a-4c4f-8f23-df62fafde995\" data-root-id=\"15372\"></div>\n"
      ]
     },
     "metadata": {},
     "output_type": "display_data"
    },
    {
     "data": {
      "application/javascript": [
       "(function(root) {\n",
       "  function embed_document(root) {\n",
       "    \n",
       "  var docs_json = {\"0b26f559-a3f0-4737-b5dd-58558c4e73bf\":{\"roots\":{\"references\":[{\"attributes\":{\"below\":[{\"id\":\"15383\",\"type\":\"LinearAxis\"}],\"center\":[{\"id\":\"15387\",\"type\":\"Grid\"},{\"id\":\"15392\",\"type\":\"Grid\"},{\"id\":\"15417\",\"type\":\"Legend\"}],\"left\":[{\"id\":\"15388\",\"type\":\"LinearAxis\"}],\"plot_height\":400,\"plot_width\":800,\"renderers\":[{\"id\":\"15409\",\"type\":\"GlyphRenderer\"},{\"id\":\"15422\",\"type\":\"GlyphRenderer\"},{\"id\":\"15427\",\"type\":\"GlyphRenderer\"},{\"id\":\"15443\",\"type\":\"GlyphRenderer\"}],\"title\":{\"id\":\"15373\",\"type\":\"Title\"},\"toolbar\":{\"id\":\"15399\",\"type\":\"Toolbar\"},\"x_range\":{\"id\":\"15375\",\"type\":\"DataRange1d\"},\"x_scale\":{\"id\":\"15379\",\"type\":\"LinearScale\"},\"y_range\":{\"id\":\"15377\",\"type\":\"DataRange1d\"},\"y_scale\":{\"id\":\"15381\",\"type\":\"LinearScale\"}},\"id\":\"15372\",\"subtype\":\"Figure\",\"type\":\"Plot\"},{\"attributes\":{\"line_alpha\":0.1,\"line_color\":\"#1f77b4\",\"x\":{\"field\":\"x\"},\"y\":{\"field\":\"y\"}},\"id\":\"15408\",\"type\":\"Line\"},{\"attributes\":{},\"id\":\"15970\",\"type\":\"UnionRenderers\"},{\"attributes\":{\"data_source\":{\"id\":\"15419\",\"type\":\"ColumnDataSource\"},\"glyph\":{\"id\":\"15420\",\"type\":\"Circle\"},\"hover_glyph\":null,\"muted_glyph\":null,\"nonselection_glyph\":{\"id\":\"15421\",\"type\":\"Circle\"},\"selection_glyph\":null,\"view\":{\"id\":\"15423\",\"type\":\"CDSView\"}},\"id\":\"15422\",\"type\":\"GlyphRenderer\"},{\"attributes\":{\"callback\":null,\"data\":{\"x\":[\"2000\",\"2003\",\"2006\",\"2009\",\"2014\",\"2017\"],\"y\":[121.393612707868,116.97120416672126,112.24066897604072,107.13649273310496,98.58747877321025,93.55880064175741]},\"selected\":{\"id\":\"15434\",\"type\":\"Selection\"},\"selection_policy\":{\"id\":\"15435\",\"type\":\"UnionRenderers\"}},\"id\":\"15406\",\"type\":\"ColumnDataSource\"},{\"attributes\":{\"source\":{\"id\":\"15419\",\"type\":\"ColumnDataSource\"}},\"id\":\"15423\",\"type\":\"CDSView\"},{\"attributes\":{},\"id\":\"15393\",\"type\":\"PanTool\"},{\"attributes\":{\"callback\":null,\"data\":{\"x\":[\"2000\",\"2003\",\"2006\",\"2009\",\"2014\",\"2017\"],\"y\":[48.74071159336641,44.929266859794446,41.487416464846476,38.37474339114627,33.22605410426525,29.89275075881614]},\"selected\":{\"id\":\"15969\",\"type\":\"Selection\"},\"selection_policy\":{\"id\":\"15970\",\"type\":\"UnionRenderers\"}},\"id\":\"15424\",\"type\":\"ColumnDataSource\"},{\"attributes\":{},\"id\":\"15394\",\"type\":\"WheelZoomTool\"},{\"attributes\":{\"line_color\":\"#5430F1\",\"x\":{\"field\":\"x\"},\"y\":{\"field\":\"y\"}},\"id\":\"15425\",\"type\":\"Line\"},{\"attributes\":{\"overlay\":{\"id\":\"15416\",\"type\":\"BoxAnnotation\"}},\"id\":\"15395\",\"type\":\"BoxZoomTool\"},{\"attributes\":{\"line_alpha\":0.1,\"line_color\":\"#1f77b4\",\"x\":{\"field\":\"x\"},\"y\":{\"field\":\"y\"}},\"id\":\"15426\",\"type\":\"Line\"},{\"attributes\":{\"callback\":null,\"tooltips\":\"                \\n        <div style=padding=5px>Year:@x</div>\\n        <div style=padding=5px>Value:@y</div>        \\n        \"},\"id\":\"15445\",\"type\":\"HoverTool\"},{\"attributes\":{},\"id\":\"15396\",\"type\":\"SaveTool\"},{\"attributes\":{\"data_source\":{\"id\":\"15424\",\"type\":\"ColumnDataSource\"},\"glyph\":{\"id\":\"15425\",\"type\":\"Line\"},\"hover_glyph\":null,\"muted_glyph\":null,\"nonselection_glyph\":{\"id\":\"15426\",\"type\":\"Line\"},\"selection_glyph\":null,\"view\":{\"id\":\"15428\",\"type\":\"CDSView\"}},\"id\":\"15427\",\"type\":\"GlyphRenderer\"},{\"attributes\":{\"source\":{\"id\":\"15440\",\"type\":\"ColumnDataSource\"}},\"id\":\"15444\",\"type\":\"CDSView\"},{\"attributes\":{\"fill_alpha\":{\"value\":0.1},\"fill_color\":{\"value\":\"#1f77b4\"},\"line_alpha\":{\"value\":0.1},\"line_color\":{\"value\":\"#1f77b4\"},\"line_width\":{\"value\":3},\"x\":{\"field\":\"x\"},\"y\":{\"field\":\"y\"}},\"id\":\"15442\",\"type\":\"Circle\"},{\"attributes\":{},\"id\":\"15397\",\"type\":\"ResetTool\"},{\"attributes\":{\"source\":{\"id\":\"15424\",\"type\":\"ColumnDataSource\"}},\"id\":\"15428\",\"type\":\"CDSView\"},{\"attributes\":{},\"id\":\"15398\",\"type\":\"HelpTool\"},{\"attributes\":{\"text\":\"Adolescent fertility rate (births per 1,000 women ages 15-19) weighted against Population, female\"},\"id\":\"15373\",\"type\":\"Title\"},{\"attributes\":{},\"id\":\"15434\",\"type\":\"Selection\"},{\"attributes\":{\"data_source\":{\"id\":\"15406\",\"type\":\"ColumnDataSource\"},\"glyph\":{\"id\":\"15407\",\"type\":\"Line\"},\"hover_glyph\":null,\"muted_glyph\":null,\"nonselection_glyph\":{\"id\":\"15408\",\"type\":\"Line\"},\"selection_glyph\":null,\"view\":{\"id\":\"15410\",\"type\":\"CDSView\"}},\"id\":\"15409\",\"type\":\"GlyphRenderer\"},{\"attributes\":{},\"id\":\"15971\",\"type\":\"Selection\"},{\"attributes\":{\"active_drag\":\"auto\",\"active_inspect\":\"auto\",\"active_multi\":null,\"active_scroll\":\"auto\",\"active_tap\":\"auto\",\"tools\":[{\"id\":\"15393\",\"type\":\"PanTool\"},{\"id\":\"15394\",\"type\":\"WheelZoomTool\"},{\"id\":\"15395\",\"type\":\"BoxZoomTool\"},{\"id\":\"15396\",\"type\":\"SaveTool\"},{\"id\":\"15397\",\"type\":\"ResetTool\"},{\"id\":\"15398\",\"type\":\"HelpTool\"},{\"id\":\"15445\",\"type\":\"HoverTool\"}]},\"id\":\"15399\",\"type\":\"Toolbar\"},{\"attributes\":{\"callback\":null},\"id\":\"15375\",\"type\":\"DataRange1d\"},{\"attributes\":{},\"id\":\"15435\",\"type\":\"UnionRenderers\"},{\"attributes\":{},\"id\":\"15379\",\"type\":\"LinearScale\"},{\"attributes\":{\"line_color\":\"#FA1857\",\"x\":{\"field\":\"x\"},\"y\":{\"field\":\"y\"}},\"id\":\"15407\",\"type\":\"Line\"},{\"attributes\":{},\"id\":\"15436\",\"type\":\"Selection\"},{\"attributes\":{\"callback\":null},\"id\":\"15377\",\"type\":\"DataRange1d\"},{\"attributes\":{},\"id\":\"15437\",\"type\":\"UnionRenderers\"},{\"attributes\":{},\"id\":\"15381\",\"type\":\"LinearScale\"},{\"attributes\":{\"source\":{\"id\":\"15406\",\"type\":\"ColumnDataSource\"}},\"id\":\"15410\",\"type\":\"CDSView\"},{\"attributes\":{\"label\":{\"value\":\"Developing excluding LDCs\"},\"renderers\":[{\"id\":\"15427\",\"type\":\"GlyphRenderer\"}]},\"id\":\"15439\",\"type\":\"LegendItem\"},{\"attributes\":{},\"id\":\"15415\",\"type\":\"BasicTickFormatter\"},{\"attributes\":{},\"id\":\"15384\",\"type\":\"BasicTicker\"},{\"attributes\":{},\"id\":\"15413\",\"type\":\"BasicTickFormatter\"},{\"attributes\":{},\"id\":\"15972\",\"type\":\"UnionRenderers\"},{\"attributes\":{\"bottom_units\":\"screen\",\"fill_alpha\":{\"value\":0.5},\"fill_color\":{\"value\":\"lightgrey\"},\"left_units\":\"screen\",\"level\":\"overlay\",\"line_alpha\":{\"value\":1.0},\"line_color\":{\"value\":\"black\"},\"line_dash\":[4,4],\"line_width\":{\"value\":2},\"render_mode\":\"css\",\"right_units\":\"screen\",\"top_units\":\"screen\"},\"id\":\"15416\",\"type\":\"BoxAnnotation\"},{\"attributes\":{\"axis_label\":\"Years\",\"formatter\":{\"id\":\"15413\",\"type\":\"BasicTickFormatter\"},\"ticker\":{\"id\":\"15384\",\"type\":\"BasicTicker\"}},\"id\":\"15383\",\"type\":\"LinearAxis\"},{\"attributes\":{\"axis_label\":\"SP.ADO.TFRT\",\"formatter\":{\"id\":\"15415\",\"type\":\"BasicTickFormatter\"},\"ticker\":{\"id\":\"15389\",\"type\":\"BasicTicker\"}},\"id\":\"15388\",\"type\":\"LinearAxis\"},{\"attributes\":{\"items\":[{\"id\":\"15418\",\"type\":\"LegendItem\"},{\"id\":\"15439\",\"type\":\"LegendItem\"}],\"location\":\"bottom_left\"},\"id\":\"15417\",\"type\":\"Legend\"},{\"attributes\":{\"grid_line_color\":null,\"ticker\":{\"id\":\"15384\",\"type\":\"BasicTicker\"}},\"id\":\"15387\",\"type\":\"Grid\"},{\"attributes\":{\"data_source\":{\"id\":\"15440\",\"type\":\"ColumnDataSource\"},\"glyph\":{\"id\":\"15441\",\"type\":\"Circle\"},\"hover_glyph\":null,\"muted_glyph\":null,\"nonselection_glyph\":{\"id\":\"15442\",\"type\":\"Circle\"},\"selection_glyph\":null,\"view\":{\"id\":\"15444\",\"type\":\"CDSView\"}},\"id\":\"15443\",\"type\":\"GlyphRenderer\"},{\"attributes\":{\"callback\":null,\"data\":{\"x\":[\"2000\",\"2003\",\"2006\",\"2009\",\"2014\",\"2017\"],\"y\":[48.74071159336641,44.929266859794446,41.487416464846476,38.37474339114627,33.22605410426525,29.89275075881614]},\"selected\":{\"id\":\"15971\",\"type\":\"Selection\"},\"selection_policy\":{\"id\":\"15972\",\"type\":\"UnionRenderers\"}},\"id\":\"15440\",\"type\":\"ColumnDataSource\"},{\"attributes\":{\"label\":{\"value\":\"LDCs\"},\"renderers\":[{\"id\":\"15409\",\"type\":\"GlyphRenderer\"}]},\"id\":\"15418\",\"type\":\"LegendItem\"},{\"attributes\":{},\"id\":\"15969\",\"type\":\"Selection\"},{\"attributes\":{},\"id\":\"15389\",\"type\":\"BasicTicker\"},{\"attributes\":{\"callback\":null,\"data\":{\"x\":[\"2000\",\"2003\",\"2006\",\"2009\",\"2014\",\"2017\"],\"y\":[121.393612707868,116.97120416672126,112.24066897604072,107.13649273310496,98.58747877321025,93.55880064175741]},\"selected\":{\"id\":\"15436\",\"type\":\"Selection\"},\"selection_policy\":{\"id\":\"15437\",\"type\":\"UnionRenderers\"}},\"id\":\"15419\",\"type\":\"ColumnDataSource\"},{\"attributes\":{\"fill_color\":{\"value\":\"#5430F1\"},\"line_color\":{\"value\":\"#5430F1\"},\"line_width\":{\"value\":3},\"x\":{\"field\":\"x\"},\"y\":{\"field\":\"y\"}},\"id\":\"15441\",\"type\":\"Circle\"},{\"attributes\":{\"fill_color\":{\"value\":\"#FA1857\"},\"line_color\":{\"value\":\"#FA1857\"},\"line_width\":{\"value\":3},\"x\":{\"field\":\"x\"},\"y\":{\"field\":\"y\"}},\"id\":\"15420\",\"type\":\"Circle\"},{\"attributes\":{\"dimension\":1,\"grid_line_alpha\":0.5,\"ticker\":{\"id\":\"15389\",\"type\":\"BasicTicker\"}},\"id\":\"15392\",\"type\":\"Grid\"},{\"attributes\":{\"fill_alpha\":{\"value\":0.1},\"fill_color\":{\"value\":\"#1f77b4\"},\"line_alpha\":{\"value\":0.1},\"line_color\":{\"value\":\"#1f77b4\"},\"line_width\":{\"value\":3},\"x\":{\"field\":\"x\"},\"y\":{\"field\":\"y\"}},\"id\":\"15421\",\"type\":\"Circle\"}],\"root_ids\":[\"15372\"]},\"title\":\"Bokeh Application\",\"version\":\"1.3.4\"}};\n",
       "  var render_items = [{\"docid\":\"0b26f559-a3f0-4737-b5dd-58558c4e73bf\",\"roots\":{\"15372\":\"02c2bc84-434a-4c4f-8f23-df62fafde995\"}}];\n",
       "  root.Bokeh.embed.embed_items_notebook(docs_json, render_items);\n",
       "\n",
       "  }\n",
       "  if (root.Bokeh !== undefined) {\n",
       "    embed_document(root);\n",
       "  } else {\n",
       "    var attempts = 0;\n",
       "    var timer = setInterval(function(root) {\n",
       "      if (root.Bokeh !== undefined) {\n",
       "        embed_document(root);\n",
       "        clearInterval(timer);\n",
       "      }\n",
       "      attempts++;\n",
       "      if (attempts > 100) {\n",
       "        console.log(\"Bokeh: ERROR: Unable to run BokehJS code because BokehJS library is missing\");\n",
       "        clearInterval(timer);\n",
       "      }\n",
       "    }, 10, root)\n",
       "  }\n",
       "})(window);"
      ],
      "application/vnd.bokehjs_exec.v0+json": ""
     },
     "metadata": {
      "application/vnd.bokehjs_exec.v0+json": {
       "id": "15372"
      }
     },
     "output_type": "display_data"
    }
   ],
   "source": [
    "# Basic water access rural\n",
    "years = ['2000', '2003', '2006', '2009', '2014', '2017']\n",
    "result = show_weighted_average(years, 'SP.ADO.TFRT', 'SP.POP.TOTL.FE.IN', \n",
    "                               ['LDCs', 'Developing excluding LDCs'])"
   ]
  },
  {
   "cell_type": "markdown",
   "metadata": {
    "slideshow": {
     "slide_type": "slide"
    }
   },
   "source": [
    "# Social protection"
   ]
  },
  {
   "cell_type": "code",
   "execution_count": 38,
   "metadata": {
    "ExecuteTime": {
     "end_time": "2019-10-25T14:26:12.858520Z",
     "start_time": "2019-10-25T14:26:07.697975Z"
    },
    "slideshow": {
     "slide_type": "slide"
    }
   },
   "outputs": [
    {
     "data": {
      "text/html": [
       "\n",
       "\n",
       "\n",
       "\n",
       "\n",
       "\n",
       "  <div class=\"bk-root\" id=\"c2fcaf72-ec65-442a-b749-2d303e06050b\" data-root-id=\"16058\"></div>\n"
      ]
     },
     "metadata": {},
     "output_type": "display_data"
    },
    {
     "data": {
      "application/javascript": [
       "(function(root) {\n",
       "  function embed_document(root) {\n",
       "    \n",
       "  var docs_json = {\"8b068737-ed8d-40dc-a6b7-e2d80c14d70b\":{\"roots\":{\"references\":[{\"attributes\":{\"below\":[{\"id\":\"16069\",\"type\":\"LinearAxis\"}],\"center\":[{\"id\":\"16073\",\"type\":\"Grid\"},{\"id\":\"16078\",\"type\":\"Grid\"},{\"id\":\"16103\",\"type\":\"Legend\"}],\"left\":[{\"id\":\"16074\",\"type\":\"LinearAxis\"}],\"plot_height\":400,\"plot_width\":800,\"renderers\":[{\"id\":\"16095\",\"type\":\"GlyphRenderer\"},{\"id\":\"16108\",\"type\":\"GlyphRenderer\"},{\"id\":\"16113\",\"type\":\"GlyphRenderer\"},{\"id\":\"16129\",\"type\":\"GlyphRenderer\"},{\"id\":\"16134\",\"type\":\"GlyphRenderer\"},{\"id\":\"16154\",\"type\":\"GlyphRenderer\"}],\"title\":{\"id\":\"16059\",\"type\":\"Title\"},\"toolbar\":{\"id\":\"16085\",\"type\":\"Toolbar\"},\"x_range\":{\"id\":\"16061\",\"type\":\"DataRange1d\"},\"x_scale\":{\"id\":\"16065\",\"type\":\"LinearScale\"},\"y_range\":{\"id\":\"16063\",\"type\":\"DataRange1d\"},\"y_scale\":{\"id\":\"16067\",\"type\":\"LinearScale\"}},\"id\":\"16058\",\"subtype\":\"Figure\",\"type\":\"Plot\"},{\"attributes\":{\"line_alpha\":0.1,\"line_color\":\"#1f77b4\",\"x\":{\"field\":\"x\"},\"y\":{\"field\":\"y\"}},\"id\":\"16094\",\"type\":\"Line\"},{\"attributes\":{\"data_source\":{\"id\":\"16151\",\"type\":\"ColumnDataSource\"},\"glyph\":{\"id\":\"16152\",\"type\":\"Circle\"},\"hover_glyph\":null,\"muted_glyph\":null,\"nonselection_glyph\":{\"id\":\"16153\",\"type\":\"Circle\"},\"selection_glyph\":null,\"view\":{\"id\":\"16155\",\"type\":\"CDSView\"}},\"id\":\"16154\",\"type\":\"GlyphRenderer\"},{\"attributes\":{\"callback\":null,\"tooltips\":\"                \\n        <div style=padding=5px>Year:@x</div>\\n        <div style=padding=5px>Value:@y</div>        \\n        \"},\"id\":\"16156\",\"type\":\"HoverTool\"},{\"attributes\":{\"callback\":null,\"data\":{\"x\":[\"2000\",\"2001\",\"2002\",\"2003\",\"2004\",\"2005\",\"2006\",\"2007\",\"2008\",\"2009\",\"2010\",\"2011\",\"2012\",\"2013\",\"2014\",\"2015\",\"2016\",\"2017\"],\"y\":[86.25509166868437,85.88074159498726,85.41835214899203,84.89732048671314,84.3305896273254,83.71589426111542,83.42424741118637,83.03958290671235,82.57031399160857,82.02815998839458,81.4222126287297,80.8467087893619,80.17480091529504,79.425006534633,78.6185865928844,77.77069036922822,76.9940444906128,76.17208529652623]},\"selected\":{\"id\":\"16120\",\"type\":\"Selection\"},\"selection_policy\":{\"id\":\"16121\",\"type\":\"UnionRenderers\"}},\"id\":\"16092\",\"type\":\"ColumnDataSource\"},{\"attributes\":{},\"id\":\"16122\",\"type\":\"Selection\"},{\"attributes\":{\"callback\":null,\"data\":{\"x\":[\"2000\",\"2001\",\"2002\",\"2003\",\"2004\",\"2005\",\"2006\",\"2007\",\"2008\",\"2009\",\"2010\",\"2011\",\"2012\",\"2013\",\"2014\",\"2015\",\"2016\",\"2017\"],\"y\":[86.25509166868437,85.88074159498726,85.41835214899203,84.89732048671314,84.3305896273254,83.71589426111542,83.42424741118637,83.03958290671235,82.57031399160857,82.02815998839458,81.4222126287297,80.8467087893619,80.17480091529504,79.425006534633,78.6185865928844,77.77069036922822,76.9940444906128,76.17208529652623]},\"selected\":{\"id\":\"16122\",\"type\":\"Selection\"},\"selection_policy\":{\"id\":\"16123\",\"type\":\"UnionRenderers\"}},\"id\":\"16105\",\"type\":\"ColumnDataSource\"},{\"attributes\":{},\"id\":\"16080\",\"type\":\"WheelZoomTool\"},{\"attributes\":{},\"id\":\"16123\",\"type\":\"UnionRenderers\"},{\"attributes\":{\"fill_color\":{\"value\":\"#FA1857\"},\"line_color\":{\"value\":\"#FA1857\"},\"line_width\":{\"value\":3},\"x\":{\"field\":\"x\"},\"y\":{\"field\":\"y\"}},\"id\":\"16106\",\"type\":\"Circle\"},{\"attributes\":{\"source\":{\"id\":\"16151\",\"type\":\"ColumnDataSource\"}},\"id\":\"16155\",\"type\":\"CDSView\"},{\"attributes\":{},\"id\":\"16079\",\"type\":\"PanTool\"},{\"attributes\":{\"overlay\":{\"id\":\"16102\",\"type\":\"BoxAnnotation\"}},\"id\":\"16081\",\"type\":\"BoxZoomTool\"},{\"attributes\":{\"label\":{\"value\":\"Developing excluding LDCs\"},\"renderers\":[{\"id\":\"16113\",\"type\":\"GlyphRenderer\"}]},\"id\":\"16125\",\"type\":\"LegendItem\"},{\"attributes\":{\"fill_alpha\":{\"value\":0.1},\"fill_color\":{\"value\":\"#1f77b4\"},\"line_alpha\":{\"value\":0.1},\"line_color\":{\"value\":\"#1f77b4\"},\"line_width\":{\"value\":3},\"x\":{\"field\":\"x\"},\"y\":{\"field\":\"y\"}},\"id\":\"16107\",\"type\":\"Circle\"},{\"attributes\":{\"callback\":null,\"data\":{\"x\":[\"2000\",\"2001\",\"2002\",\"2003\",\"2004\",\"2005\",\"2006\",\"2007\",\"2008\",\"2009\",\"2010\",\"2011\",\"2012\",\"2013\",\"2014\",\"2015\",\"2016\",\"2017\"],\"y\":[58.210062853510706,57.406866641649444,56.32044999967519,55.095759224596485,53.954404045070156,53.00353695374894,52.217555205370566,51.5833194243256,51.07258094488592,50.612442570694185,50.16887988631728,49.867951481624914,49.56359901248621,49.28770345340982,49.08817208719477,48.985515185534666,49.0251654363354,49.135531817718444]},\"selected\":{\"id\":\"16147\",\"type\":\"Selection\"},\"selection_policy\":{\"id\":\"16148\",\"type\":\"UnionRenderers\"}},\"id\":\"16126\",\"type\":\"ColumnDataSource\"},{\"attributes\":{},\"id\":\"16083\",\"type\":\"ResetTool\"},{\"attributes\":{\"text\":\"Age dependency ratio (% of working-age population) weighted against Population ages 15-64, total\"},\"id\":\"16059\",\"type\":\"Title\"},{\"attributes\":{\"data_source\":{\"id\":\"16105\",\"type\":\"ColumnDataSource\"},\"glyph\":{\"id\":\"16106\",\"type\":\"Circle\"},\"hover_glyph\":null,\"muted_glyph\":null,\"nonselection_glyph\":{\"id\":\"16107\",\"type\":\"Circle\"},\"selection_glyph\":null,\"view\":{\"id\":\"16109\",\"type\":\"CDSView\"}},\"id\":\"16108\",\"type\":\"GlyphRenderer\"},{\"attributes\":{},\"id\":\"16698\",\"type\":\"Selection\"},{\"attributes\":{},\"id\":\"16082\",\"type\":\"SaveTool\"},{\"attributes\":{\"fill_alpha\":{\"value\":0.1},\"fill_color\":{\"value\":\"#1f77b4\"},\"line_alpha\":{\"value\":0.1},\"line_color\":{\"value\":\"#1f77b4\"},\"line_width\":{\"value\":3},\"x\":{\"field\":\"x\"},\"y\":{\"field\":\"y\"}},\"id\":\"16153\",\"type\":\"Circle\"},{\"attributes\":{},\"id\":\"16084\",\"type\":\"HelpTool\"},{\"attributes\":{},\"id\":\"16699\",\"type\":\"UnionRenderers\"},{\"attributes\":{\"callback\":null},\"id\":\"16061\",\"type\":\"DataRange1d\"},{\"attributes\":{\"fill_color\":{\"value\":\"#5430F1\"},\"line_color\":{\"value\":\"#5430F1\"},\"line_width\":{\"value\":3},\"x\":{\"field\":\"x\"},\"y\":{\"field\":\"y\"}},\"id\":\"16127\",\"type\":\"Circle\"},{\"attributes\":{\"source\":{\"id\":\"16105\",\"type\":\"ColumnDataSource\"}},\"id\":\"16109\",\"type\":\"CDSView\"},{\"attributes\":{\"fill_alpha\":{\"value\":0.1},\"fill_color\":{\"value\":\"#1f77b4\"},\"line_alpha\":{\"value\":0.1},\"line_color\":{\"value\":\"#1f77b4\"},\"line_width\":{\"value\":3},\"x\":{\"field\":\"x\"},\"y\":{\"field\":\"y\"}},\"id\":\"16128\",\"type\":\"Circle\"},{\"attributes\":{},\"id\":\"16065\",\"type\":\"LinearScale\"},{\"attributes\":{\"callback\":null,\"data\":{\"x\":[\"2000\",\"2001\",\"2002\",\"2003\",\"2004\",\"2005\",\"2006\",\"2007\",\"2008\",\"2009\",\"2010\",\"2011\",\"2012\",\"2013\",\"2014\",\"2015\",\"2016\",\"2017\"],\"y\":[58.210062853510706,57.406866641649444,56.32044999967519,55.095759224596485,53.954404045070156,53.00353695374894,52.217555205370566,51.5833194243256,51.07258094488592,50.612442570694185,50.16887988631728,49.867951481624914,49.56359901248621,49.28770345340982,49.08817208719477,48.985515185534666,49.0251654363354,49.135531817718444]},\"selected\":{\"id\":\"16145\",\"type\":\"Selection\"},\"selection_policy\":{\"id\":\"16146\",\"type\":\"UnionRenderers\"}},\"id\":\"16110\",\"type\":\"ColumnDataSource\"},{\"attributes\":{},\"id\":\"16700\",\"type\":\"Selection\"},{\"attributes\":{\"active_drag\":\"auto\",\"active_inspect\":\"auto\",\"active_multi\":null,\"active_scroll\":\"auto\",\"active_tap\":\"auto\",\"tools\":[{\"id\":\"16079\",\"type\":\"PanTool\"},{\"id\":\"16080\",\"type\":\"WheelZoomTool\"},{\"id\":\"16081\",\"type\":\"BoxZoomTool\"},{\"id\":\"16082\",\"type\":\"SaveTool\"},{\"id\":\"16083\",\"type\":\"ResetTool\"},{\"id\":\"16084\",\"type\":\"HelpTool\"},{\"id\":\"16156\",\"type\":\"HoverTool\"}]},\"id\":\"16085\",\"type\":\"Toolbar\"},{\"attributes\":{\"source\":{\"id\":\"16126\",\"type\":\"ColumnDataSource\"}},\"id\":\"16130\",\"type\":\"CDSView\"},{\"attributes\":{\"callback\":null},\"id\":\"16063\",\"type\":\"DataRange1d\"},{\"attributes\":{\"data_source\":{\"id\":\"16126\",\"type\":\"ColumnDataSource\"},\"glyph\":{\"id\":\"16127\",\"type\":\"Circle\"},\"hover_glyph\":null,\"muted_glyph\":null,\"nonselection_glyph\":{\"id\":\"16128\",\"type\":\"Circle\"},\"selection_glyph\":null,\"view\":{\"id\":\"16130\",\"type\":\"CDSView\"}},\"id\":\"16129\",\"type\":\"GlyphRenderer\"},{\"attributes\":{},\"id\":\"16701\",\"type\":\"UnionRenderers\"},{\"attributes\":{},\"id\":\"16067\",\"type\":\"LinearScale\"},{\"attributes\":{\"data_source\":{\"id\":\"16092\",\"type\":\"ColumnDataSource\"},\"glyph\":{\"id\":\"16093\",\"type\":\"Line\"},\"hover_glyph\":null,\"muted_glyph\":null,\"nonselection_glyph\":{\"id\":\"16094\",\"type\":\"Line\"},\"selection_glyph\":null,\"view\":{\"id\":\"16096\",\"type\":\"CDSView\"}},\"id\":\"16095\",\"type\":\"GlyphRenderer\"},{\"attributes\":{},\"id\":\"16147\",\"type\":\"Selection\"},{\"attributes\":{\"line_color\":\"#5430F1\",\"x\":{\"field\":\"x\"},\"y\":{\"field\":\"y\"}},\"id\":\"16111\",\"type\":\"Line\"},{\"attributes\":{},\"id\":\"16099\",\"type\":\"BasicTickFormatter\"},{\"attributes\":{\"callback\":null,\"data\":{\"x\":[\"2000\",\"2001\",\"2002\",\"2003\",\"2004\",\"2005\",\"2006\",\"2007\",\"2008\",\"2009\",\"2010\",\"2011\",\"2012\",\"2013\",\"2014\",\"2015\",\"2016\",\"2017\"],\"y\":[50.723128378093605,50.5231850468679,50.37496397566116,50.256690141387246,50.13330348053058,49.99664317017944,50.01583887693405,50.00026173733251,49.99506396621195,50.06955879546578,50.259015743666154,50.596556044189086,50.982156909542724,51.41864250914094,51.884735692147885,52.364033705503694,52.810673816186224,53.26354779686192]},\"selected\":{\"id\":\"16698\",\"type\":\"Selection\"},\"selection_policy\":{\"id\":\"16699\",\"type\":\"UnionRenderers\"}},\"id\":\"16131\",\"type\":\"ColumnDataSource\"},{\"attributes\":{},\"id\":\"16070\",\"type\":\"BasicTicker\"},{\"attributes\":{\"line_alpha\":0.1,\"line_color\":\"#1f77b4\",\"x\":{\"field\":\"x\"},\"y\":{\"field\":\"y\"}},\"id\":\"16112\",\"type\":\"Line\"},{\"attributes\":{},\"id\":\"16148\",\"type\":\"UnionRenderers\"},{\"attributes\":{\"source\":{\"id\":\"16092\",\"type\":\"ColumnDataSource\"}},\"id\":\"16096\",\"type\":\"CDSView\"},{\"attributes\":{\"axis_label\":\"Years\",\"formatter\":{\"id\":\"16099\",\"type\":\"BasicTickFormatter\"},\"ticker\":{\"id\":\"16070\",\"type\":\"BasicTicker\"}},\"id\":\"16069\",\"type\":\"LinearAxis\"},{\"attributes\":{\"line_alpha\":0.1,\"line_color\":\"#1f77b4\",\"x\":{\"field\":\"x\"},\"y\":{\"field\":\"y\"}},\"id\":\"16133\",\"type\":\"Line\"},{\"attributes\":{},\"id\":\"16101\",\"type\":\"BasicTickFormatter\"},{\"attributes\":{\"line_color\":\"#2CC775\",\"x\":{\"field\":\"x\"},\"y\":{\"field\":\"y\"}},\"id\":\"16132\",\"type\":\"Line\"},{\"attributes\":{\"grid_line_color\":null,\"ticker\":{\"id\":\"16070\",\"type\":\"BasicTicker\"}},\"id\":\"16073\",\"type\":\"Grid\"},{\"attributes\":{\"label\":{\"value\":\"OECD\"},\"renderers\":[{\"id\":\"16134\",\"type\":\"GlyphRenderer\"}]},\"id\":\"16150\",\"type\":\"LegendItem\"},{\"attributes\":{\"data_source\":{\"id\":\"16110\",\"type\":\"ColumnDataSource\"},\"glyph\":{\"id\":\"16111\",\"type\":\"Line\"},\"hover_glyph\":null,\"muted_glyph\":null,\"nonselection_glyph\":{\"id\":\"16112\",\"type\":\"Line\"},\"selection_glyph\":null,\"view\":{\"id\":\"16114\",\"type\":\"CDSView\"}},\"id\":\"16113\",\"type\":\"GlyphRenderer\"},{\"attributes\":{\"data_source\":{\"id\":\"16131\",\"type\":\"ColumnDataSource\"},\"glyph\":{\"id\":\"16132\",\"type\":\"Line\"},\"hover_glyph\":null,\"muted_glyph\":null,\"nonselection_glyph\":{\"id\":\"16133\",\"type\":\"Line\"},\"selection_glyph\":null,\"view\":{\"id\":\"16135\",\"type\":\"CDSView\"}},\"id\":\"16134\",\"type\":\"GlyphRenderer\"},{\"attributes\":{\"source\":{\"id\":\"16110\",\"type\":\"ColumnDataSource\"}},\"id\":\"16114\",\"type\":\"CDSView\"},{\"attributes\":{\"callback\":null,\"data\":{\"x\":[\"2000\",\"2001\",\"2002\",\"2003\",\"2004\",\"2005\",\"2006\",\"2007\",\"2008\",\"2009\",\"2010\",\"2011\",\"2012\",\"2013\",\"2014\",\"2015\",\"2016\",\"2017\"],\"y\":[50.723128378093605,50.5231850468679,50.37496397566116,50.256690141387246,50.13330348053058,49.99664317017944,50.01583887693405,50.00026173733251,49.99506396621195,50.06955879546578,50.259015743666154,50.596556044189086,50.982156909542724,51.41864250914094,51.884735692147885,52.364033705503694,52.810673816186224,53.26354779686192]},\"selected\":{\"id\":\"16700\",\"type\":\"Selection\"},\"selection_policy\":{\"id\":\"16701\",\"type\":\"UnionRenderers\"}},\"id\":\"16151\",\"type\":\"ColumnDataSource\"},{\"attributes\":{\"bottom_units\":\"screen\",\"fill_alpha\":{\"value\":0.5},\"fill_color\":{\"value\":\"lightgrey\"},\"left_units\":\"screen\",\"level\":\"overlay\",\"line_alpha\":{\"value\":1.0},\"line_color\":{\"value\":\"black\"},\"line_dash\":[4,4],\"line_width\":{\"value\":2},\"render_mode\":\"css\",\"right_units\":\"screen\",\"top_units\":\"screen\"},\"id\":\"16102\",\"type\":\"BoxAnnotation\"},{\"attributes\":{\"axis_label\":\"SP.POP.DPND\",\"formatter\":{\"id\":\"16101\",\"type\":\"BasicTickFormatter\"},\"ticker\":{\"id\":\"16075\",\"type\":\"BasicTicker\"}},\"id\":\"16074\",\"type\":\"LinearAxis\"},{\"attributes\":{},\"id\":\"16145\",\"type\":\"Selection\"},{\"attributes\":{\"label\":{\"value\":\"LDCs\"},\"renderers\":[{\"id\":\"16095\",\"type\":\"GlyphRenderer\"}]},\"id\":\"16104\",\"type\":\"LegendItem\"},{\"attributes\":{\"dimension\":1,\"grid_line_alpha\":0.5,\"ticker\":{\"id\":\"16075\",\"type\":\"BasicTicker\"}},\"id\":\"16078\",\"type\":\"Grid\"},{\"attributes\":{\"source\":{\"id\":\"16131\",\"type\":\"ColumnDataSource\"}},\"id\":\"16135\",\"type\":\"CDSView\"},{\"attributes\":{\"fill_color\":{\"value\":\"#2CC775\"},\"line_color\":{\"value\":\"#2CC775\"},\"line_width\":{\"value\":3},\"x\":{\"field\":\"x\"},\"y\":{\"field\":\"y\"}},\"id\":\"16152\",\"type\":\"Circle\"},{\"attributes\":{\"items\":[{\"id\":\"16104\",\"type\":\"LegendItem\"},{\"id\":\"16125\",\"type\":\"LegendItem\"},{\"id\":\"16150\",\"type\":\"LegendItem\"}],\"location\":\"bottom_left\"},\"id\":\"16103\",\"type\":\"Legend\"},{\"attributes\":{},\"id\":\"16075\",\"type\":\"BasicTicker\"},{\"attributes\":{},\"id\":\"16120\",\"type\":\"Selection\"},{\"attributes\":{},\"id\":\"16146\",\"type\":\"UnionRenderers\"},{\"attributes\":{},\"id\":\"16121\",\"type\":\"UnionRenderers\"},{\"attributes\":{\"line_color\":\"#FA1857\",\"x\":{\"field\":\"x\"},\"y\":{\"field\":\"y\"}},\"id\":\"16093\",\"type\":\"Line\"}],\"root_ids\":[\"16058\"]},\"title\":\"Bokeh Application\",\"version\":\"1.3.4\"}};\n",
       "  var render_items = [{\"docid\":\"8b068737-ed8d-40dc-a6b7-e2d80c14d70b\",\"roots\":{\"16058\":\"c2fcaf72-ec65-442a-b749-2d303e06050b\"}}];\n",
       "  root.Bokeh.embed.embed_items_notebook(docs_json, render_items);\n",
       "\n",
       "  }\n",
       "  if (root.Bokeh !== undefined) {\n",
       "    embed_document(root);\n",
       "  } else {\n",
       "    var attempts = 0;\n",
       "    var timer = setInterval(function(root) {\n",
       "      if (root.Bokeh !== undefined) {\n",
       "        embed_document(root);\n",
       "        clearInterval(timer);\n",
       "      }\n",
       "      attempts++;\n",
       "      if (attempts > 100) {\n",
       "        console.log(\"Bokeh: ERROR: Unable to run BokehJS code because BokehJS library is missing\");\n",
       "        clearInterval(timer);\n",
       "      }\n",
       "    }, 10, root)\n",
       "  }\n",
       "})(window);"
      ],
      "application/vnd.bokehjs_exec.v0+json": ""
     },
     "metadata": {
      "application/vnd.bokehjs_exec.v0+json": {
       "id": "16058"
      }
     },
     "output_type": "display_data"
    }
   ],
   "source": [
    "# Age dependency ratio (% of working-age population)\n",
    "years = list(map(str, list(range(2000,2018))))\n",
    "result = show_weighted_average(years, 'SP.POP.DPND', 'SP.POP.1564.TO', ['LDCs', 'Developing excluding LDCs', 'OECD'])"
   ]
  },
  {
   "cell_type": "code",
   "execution_count": 39,
   "metadata": {
    "ExecuteTime": {
     "end_time": "2019-10-25T14:26:17.747160Z",
     "start_time": "2019-10-25T14:26:12.861357Z"
    },
    "slideshow": {
     "slide_type": "slide"
    }
   },
   "outputs": [
    {
     "data": {
      "text/html": [
       "\n",
       "\n",
       "\n",
       "\n",
       "\n",
       "\n",
       "  <div class=\"bk-root\" id=\"cddf5fd3-4541-4c24-b8cb-39bb0809f15e\" data-root-id=\"16811\"></div>\n"
      ]
     },
     "metadata": {},
     "output_type": "display_data"
    },
    {
     "data": {
      "application/javascript": [
       "(function(root) {\n",
       "  function embed_document(root) {\n",
       "    \n",
       "  var docs_json = {\"de7f2974-4134-415b-a969-8a29b0954680\":{\"roots\":{\"references\":[{\"attributes\":{\"below\":[{\"id\":\"16822\",\"type\":\"LinearAxis\"}],\"center\":[{\"id\":\"16826\",\"type\":\"Grid\"},{\"id\":\"16831\",\"type\":\"Grid\"},{\"id\":\"16856\",\"type\":\"Legend\"}],\"left\":[{\"id\":\"16827\",\"type\":\"LinearAxis\"}],\"plot_height\":400,\"plot_width\":800,\"renderers\":[{\"id\":\"16848\",\"type\":\"GlyphRenderer\"},{\"id\":\"16861\",\"type\":\"GlyphRenderer\"},{\"id\":\"16866\",\"type\":\"GlyphRenderer\"},{\"id\":\"16882\",\"type\":\"GlyphRenderer\"},{\"id\":\"16887\",\"type\":\"GlyphRenderer\"},{\"id\":\"16907\",\"type\":\"GlyphRenderer\"}],\"title\":{\"id\":\"16812\",\"type\":\"Title\"},\"toolbar\":{\"id\":\"16838\",\"type\":\"Toolbar\"},\"x_range\":{\"id\":\"16814\",\"type\":\"DataRange1d\"},\"x_scale\":{\"id\":\"16818\",\"type\":\"LinearScale\"},\"y_range\":{\"id\":\"16816\",\"type\":\"DataRange1d\"},\"y_scale\":{\"id\":\"16820\",\"type\":\"LinearScale\"}},\"id\":\"16811\",\"subtype\":\"Figure\",\"type\":\"Plot\"},{\"attributes\":{},\"id\":\"16899\",\"type\":\"UnionRenderers\"},{\"attributes\":{\"source\":{\"id\":\"16863\",\"type\":\"ColumnDataSource\"}},\"id\":\"16867\",\"type\":\"CDSView\"},{\"attributes\":{},\"id\":\"16818\",\"type\":\"LinearScale\"},{\"attributes\":{\"data_source\":{\"id\":\"16845\",\"type\":\"ColumnDataSource\"},\"glyph\":{\"id\":\"16846\",\"type\":\"Line\"},\"hover_glyph\":null,\"muted_glyph\":null,\"nonselection_glyph\":{\"id\":\"16847\",\"type\":\"Line\"},\"selection_glyph\":null,\"view\":{\"id\":\"16849\",\"type\":\"CDSView\"}},\"id\":\"16848\",\"type\":\"GlyphRenderer\"},{\"attributes\":{},\"id\":\"16901\",\"type\":\"UnionRenderers\"},{\"attributes\":{},\"id\":\"16873\",\"type\":\"Selection\"},{\"attributes\":{},\"id\":\"16820\",\"type\":\"LinearScale\"},{\"attributes\":{},\"id\":\"16875\",\"type\":\"Selection\"},{\"attributes\":{\"source\":{\"id\":\"16845\",\"type\":\"ColumnDataSource\"}},\"id\":\"16849\",\"type\":\"CDSView\"},{\"attributes\":{\"axis_label\":\"Years\",\"formatter\":{\"id\":\"16852\",\"type\":\"BasicTickFormatter\"},\"ticker\":{\"id\":\"16823\",\"type\":\"BasicTicker\"}},\"id\":\"16822\",\"type\":\"LinearAxis\"},{\"attributes\":{\"label\":{\"value\":\"OECD\"},\"renderers\":[{\"id\":\"16887\",\"type\":\"GlyphRenderer\"}]},\"id\":\"16903\",\"type\":\"LegendItem\"},{\"attributes\":{},\"id\":\"16874\",\"type\":\"UnionRenderers\"},{\"attributes\":{},\"id\":\"16852\",\"type\":\"BasicTickFormatter\"},{\"attributes\":{},\"id\":\"16823\",\"type\":\"BasicTicker\"},{\"attributes\":{\"fill_color\":{\"value\":\"#2CC775\"},\"line_color\":{\"value\":\"#2CC775\"},\"line_width\":{\"value\":3},\"x\":{\"field\":\"x\"},\"y\":{\"field\":\"y\"}},\"id\":\"16905\",\"type\":\"Circle\"},{\"attributes\":{},\"id\":\"16876\",\"type\":\"UnionRenderers\"},{\"attributes\":{\"callback\":null,\"data\":{\"x\":[\"2000\",\"2001\",\"2002\",\"2003\",\"2004\",\"2005\",\"2006\",\"2007\",\"2008\",\"2009\",\"2010\",\"2011\",\"2012\",\"2013\",\"2014\",\"2015\",\"2016\",\"2017\"],\"y\":[56.40865141951019,56.15551087542925,55.78176951023597,55.5296417520831,55.589161503213,55.967412284918765,56.41051699770243,56.73108736593439,56.62697234239764,55.124996476006956,54.84009591169655,54.959388942012374,55.0534575823381,55.05901270441525,55.304467418720705,55.67918767759019,56.10556899868917,56.579633263980924]},\"selected\":{\"id\":\"17471\",\"type\":\"Selection\"},\"selection_policy\":{\"id\":\"17472\",\"type\":\"UnionRenderers\"}},\"id\":\"16904\",\"type\":\"ColumnDataSource\"},{\"attributes\":{\"grid_line_color\":null,\"ticker\":{\"id\":\"16823\",\"type\":\"BasicTicker\"}},\"id\":\"16826\",\"type\":\"Grid\"},{\"attributes\":{\"data_source\":{\"id\":\"16904\",\"type\":\"ColumnDataSource\"},\"glyph\":{\"id\":\"16905\",\"type\":\"Circle\"},\"hover_glyph\":null,\"muted_glyph\":null,\"nonselection_glyph\":{\"id\":\"16906\",\"type\":\"Circle\"},\"selection_glyph\":null,\"view\":{\"id\":\"16908\",\"type\":\"CDSView\"}},\"id\":\"16907\",\"type\":\"GlyphRenderer\"},{\"attributes\":{},\"id\":\"16854\",\"type\":\"BasicTickFormatter\"},{\"attributes\":{\"callback\":null,\"data\":{\"x\":[\"2000\",\"2001\",\"2002\",\"2003\",\"2004\",\"2005\",\"2006\",\"2007\",\"2008\",\"2009\",\"2010\",\"2011\",\"2012\",\"2013\",\"2014\",\"2015\",\"2016\",\"2017\"],\"y\":[62.00285200148233,61.620469744868885,61.14403191068359,60.76907335763383,60.71960242654923,60.520143238269135,60.25805585338507,60.06453899155872,59.741276396807486,59.24483539970416,58.9521320250133,58.70718271820256,58.47106962166943,58.31248809672999,58.196266068850925,58.00293977670905,57.74894867391089,57.66588638023179]},\"selected\":{\"id\":\"16900\",\"type\":\"Selection\"},\"selection_policy\":{\"id\":\"16901\",\"type\":\"UnionRenderers\"}},\"id\":\"16879\",\"type\":\"ColumnDataSource\"},{\"attributes\":{\"fill_alpha\":{\"value\":0.1},\"fill_color\":{\"value\":\"#1f77b4\"},\"line_alpha\":{\"value\":0.1},\"line_color\":{\"value\":\"#1f77b4\"},\"line_width\":{\"value\":3},\"x\":{\"field\":\"x\"},\"y\":{\"field\":\"y\"}},\"id\":\"16906\",\"type\":\"Circle\"},{\"attributes\":{\"bottom_units\":\"screen\",\"fill_alpha\":{\"value\":0.5},\"fill_color\":{\"value\":\"lightgrey\"},\"left_units\":\"screen\",\"level\":\"overlay\",\"line_alpha\":{\"value\":1.0},\"line_color\":{\"value\":\"black\"},\"line_dash\":[4,4],\"line_width\":{\"value\":2},\"render_mode\":\"css\",\"right_units\":\"screen\",\"top_units\":\"screen\"},\"id\":\"16855\",\"type\":\"BoxAnnotation\"},{\"attributes\":{\"axis_label\":\"SL.EMP.TOTL.SP.ZS\",\"formatter\":{\"id\":\"16854\",\"type\":\"BasicTickFormatter\"},\"ticker\":{\"id\":\"16828\",\"type\":\"BasicTicker\"}},\"id\":\"16827\",\"type\":\"LinearAxis\"},{\"attributes\":{\"label\":{\"value\":\"Developing excluding LDCs\"},\"renderers\":[{\"id\":\"16866\",\"type\":\"GlyphRenderer\"}]},\"id\":\"16878\",\"type\":\"LegendItem\"},{\"attributes\":{\"items\":[{\"id\":\"16857\",\"type\":\"LegendItem\"},{\"id\":\"16878\",\"type\":\"LegendItem\"},{\"id\":\"16903\",\"type\":\"LegendItem\"}],\"location\":\"bottom_left\"},\"id\":\"16856\",\"type\":\"Legend\"},{\"attributes\":{\"source\":{\"id\":\"16904\",\"type\":\"ColumnDataSource\"}},\"id\":\"16908\",\"type\":\"CDSView\"},{\"attributes\":{},\"id\":\"16828\",\"type\":\"BasicTicker\"},{\"attributes\":{\"fill_color\":{\"value\":\"#5430F1\"},\"line_color\":{\"value\":\"#5430F1\"},\"line_width\":{\"value\":3},\"x\":{\"field\":\"x\"},\"y\":{\"field\":\"y\"}},\"id\":\"16880\",\"type\":\"Circle\"},{\"attributes\":{\"label\":{\"value\":\"LDCs\"},\"renderers\":[{\"id\":\"16848\",\"type\":\"GlyphRenderer\"}]},\"id\":\"16857\",\"type\":\"LegendItem\"},{\"attributes\":{},\"id\":\"17469\",\"type\":\"Selection\"},{\"attributes\":{\"data_source\":{\"id\":\"16879\",\"type\":\"ColumnDataSource\"},\"glyph\":{\"id\":\"16880\",\"type\":\"Circle\"},\"hover_glyph\":null,\"muted_glyph\":null,\"nonselection_glyph\":{\"id\":\"16881\",\"type\":\"Circle\"},\"selection_glyph\":null,\"view\":{\"id\":\"16883\",\"type\":\"CDSView\"}},\"id\":\"16882\",\"type\":\"GlyphRenderer\"},{\"attributes\":{\"dimension\":1,\"grid_line_alpha\":0.5,\"ticker\":{\"id\":\"16828\",\"type\":\"BasicTicker\"}},\"id\":\"16831\",\"type\":\"Grid\"},{\"attributes\":{\"callback\":null,\"data\":{\"x\":[\"2000\",\"2001\",\"2002\",\"2003\",\"2004\",\"2005\",\"2006\",\"2007\",\"2008\",\"2009\",\"2010\",\"2011\",\"2012\",\"2013\",\"2014\",\"2015\",\"2016\",\"2017\"],\"y\":[66.58465574817114,66.61631193331569,66.47630847526436,66.38715284214597,66.40047807232631,66.47905689285292,66.558012816664,66.52579208729857,66.40335916126566,65.95321895673382,65.86080177166036,65.71916064561672,65.51845255568324,65.37964837175828,65.31832020866648,65.25237128057972,65.18901328154712,65.5543751123046]},\"selected\":{\"id\":\"16875\",\"type\":\"Selection\"},\"selection_policy\":{\"id\":\"16876\",\"type\":\"UnionRenderers\"}},\"id\":\"16858\",\"type\":\"ColumnDataSource\"},{\"attributes\":{\"fill_alpha\":{\"value\":0.1},\"fill_color\":{\"value\":\"#1f77b4\"},\"line_alpha\":{\"value\":0.1},\"line_color\":{\"value\":\"#1f77b4\"},\"line_width\":{\"value\":3},\"x\":{\"field\":\"x\"},\"y\":{\"field\":\"y\"}},\"id\":\"16881\",\"type\":\"Circle\"},{\"attributes\":{\"line_color\":\"#FA1857\",\"x\":{\"field\":\"x\"},\"y\":{\"field\":\"y\"}},\"id\":\"16846\",\"type\":\"Line\"},{\"attributes\":{\"fill_color\":{\"value\":\"#FA1857\"},\"line_color\":{\"value\":\"#FA1857\"},\"line_width\":{\"value\":3},\"x\":{\"field\":\"x\"},\"y\":{\"field\":\"y\"}},\"id\":\"16859\",\"type\":\"Circle\"},{\"attributes\":{},\"id\":\"17470\",\"type\":\"UnionRenderers\"},{\"attributes\":{\"source\":{\"id\":\"16879\",\"type\":\"ColumnDataSource\"}},\"id\":\"16883\",\"type\":\"CDSView\"},{\"attributes\":{\"callback\":null,\"data\":{\"x\":[\"2000\",\"2001\",\"2002\",\"2003\",\"2004\",\"2005\",\"2006\",\"2007\",\"2008\",\"2009\",\"2010\",\"2011\",\"2012\",\"2013\",\"2014\",\"2015\",\"2016\",\"2017\"],\"y\":[66.58465574817114,66.61631193331569,66.47630847526436,66.38715284214597,66.40047807232631,66.47905689285292,66.558012816664,66.52579208729857,66.40335916126566,65.95321895673382,65.86080177166036,65.71916064561672,65.51845255568324,65.37964837175828,65.31832020866648,65.25237128057972,65.18901328154712,65.5543751123046]},\"selected\":{\"id\":\"16873\",\"type\":\"Selection\"},\"selection_policy\":{\"id\":\"16874\",\"type\":\"UnionRenderers\"}},\"id\":\"16845\",\"type\":\"ColumnDataSource\"},{\"attributes\":{\"fill_alpha\":{\"value\":0.1},\"fill_color\":{\"value\":\"#1f77b4\"},\"line_alpha\":{\"value\":0.1},\"line_color\":{\"value\":\"#1f77b4\"},\"line_width\":{\"value\":3},\"x\":{\"field\":\"x\"},\"y\":{\"field\":\"y\"}},\"id\":\"16860\",\"type\":\"Circle\"},{\"attributes\":{},\"id\":\"17472\",\"type\":\"UnionRenderers\"},{\"attributes\":{\"line_alpha\":0.1,\"line_color\":\"#1f77b4\",\"x\":{\"field\":\"x\"},\"y\":{\"field\":\"y\"}},\"id\":\"16847\",\"type\":\"Line\"},{\"attributes\":{\"line_color\":\"#2CC775\",\"x\":{\"field\":\"x\"},\"y\":{\"field\":\"y\"}},\"id\":\"16885\",\"type\":\"Line\"},{\"attributes\":{},\"id\":\"16832\",\"type\":\"PanTool\"},{\"attributes\":{\"data_source\":{\"id\":\"16858\",\"type\":\"ColumnDataSource\"},\"glyph\":{\"id\":\"16859\",\"type\":\"Circle\"},\"hover_glyph\":null,\"muted_glyph\":null,\"nonselection_glyph\":{\"id\":\"16860\",\"type\":\"Circle\"},\"selection_glyph\":null,\"view\":{\"id\":\"16862\",\"type\":\"CDSView\"}},\"id\":\"16861\",\"type\":\"GlyphRenderer\"},{\"attributes\":{},\"id\":\"17471\",\"type\":\"Selection\"},{\"attributes\":{\"callback\":null,\"data\":{\"x\":[\"2000\",\"2001\",\"2002\",\"2003\",\"2004\",\"2005\",\"2006\",\"2007\",\"2008\",\"2009\",\"2010\",\"2011\",\"2012\",\"2013\",\"2014\",\"2015\",\"2016\",\"2017\"],\"y\":[56.40865141951019,56.15551087542925,55.78176951023597,55.5296417520831,55.589161503213,55.967412284918765,56.41051699770243,56.73108736593439,56.62697234239764,55.124996476006956,54.84009591169655,54.959388942012374,55.0534575823381,55.05901270441525,55.304467418720705,55.67918767759019,56.10556899868917,56.579633263980924]},\"selected\":{\"id\":\"17469\",\"type\":\"Selection\"},\"selection_policy\":{\"id\":\"17470\",\"type\":\"UnionRenderers\"}},\"id\":\"16884\",\"type\":\"ColumnDataSource\"},{\"attributes\":{},\"id\":\"16833\",\"type\":\"WheelZoomTool\"},{\"attributes\":{\"source\":{\"id\":\"16858\",\"type\":\"ColumnDataSource\"}},\"id\":\"16862\",\"type\":\"CDSView\"},{\"attributes\":{\"line_alpha\":0.1,\"line_color\":\"#1f77b4\",\"x\":{\"field\":\"x\"},\"y\":{\"field\":\"y\"}},\"id\":\"16886\",\"type\":\"Line\"},{\"attributes\":{\"overlay\":{\"id\":\"16855\",\"type\":\"BoxAnnotation\"}},\"id\":\"16834\",\"type\":\"BoxZoomTool\"},{\"attributes\":{\"callback\":null,\"data\":{\"x\":[\"2000\",\"2001\",\"2002\",\"2003\",\"2004\",\"2005\",\"2006\",\"2007\",\"2008\",\"2009\",\"2010\",\"2011\",\"2012\",\"2013\",\"2014\",\"2015\",\"2016\",\"2017\"],\"y\":[62.00285200148233,61.620469744868885,61.14403191068359,60.76907335763383,60.71960242654923,60.520143238269135,60.25805585338507,60.06453899155872,59.741276396807486,59.24483539970416,58.9521320250133,58.70718271820256,58.47106962166943,58.31248809672999,58.196266068850925,58.00293977670905,57.74894867391089,57.66588638023179]},\"selected\":{\"id\":\"16898\",\"type\":\"Selection\"},\"selection_policy\":{\"id\":\"16899\",\"type\":\"UnionRenderers\"}},\"id\":\"16863\",\"type\":\"ColumnDataSource\"},{\"attributes\":{\"source\":{\"id\":\"16884\",\"type\":\"ColumnDataSource\"}},\"id\":\"16888\",\"type\":\"CDSView\"},{\"attributes\":{},\"id\":\"16835\",\"type\":\"SaveTool\"},{\"attributes\":{\"line_color\":\"#5430F1\",\"x\":{\"field\":\"x\"},\"y\":{\"field\":\"y\"}},\"id\":\"16864\",\"type\":\"Line\"},{\"attributes\":{\"callback\":null,\"tooltips\":\"                \\n        <div style=padding=5px>Year:@x</div>\\n        <div style=padding=5px>Value:@y</div>        \\n        \"},\"id\":\"16909\",\"type\":\"HoverTool\"},{\"attributes\":{\"data_source\":{\"id\":\"16884\",\"type\":\"ColumnDataSource\"},\"glyph\":{\"id\":\"16885\",\"type\":\"Line\"},\"hover_glyph\":null,\"muted_glyph\":null,\"nonselection_glyph\":{\"id\":\"16886\",\"type\":\"Line\"},\"selection_glyph\":null,\"view\":{\"id\":\"16888\",\"type\":\"CDSView\"}},\"id\":\"16887\",\"type\":\"GlyphRenderer\"},{\"attributes\":{\"text\":\"Employment to population ratio, 15+, total (%) (modeled ILO estimate) weighted against Population, total\"},\"id\":\"16812\",\"type\":\"Title\"},{\"attributes\":{},\"id\":\"16836\",\"type\":\"ResetTool\"},{\"attributes\":{\"line_alpha\":0.1,\"line_color\":\"#1f77b4\",\"x\":{\"field\":\"x\"},\"y\":{\"field\":\"y\"}},\"id\":\"16865\",\"type\":\"Line\"},{\"attributes\":{},\"id\":\"16898\",\"type\":\"Selection\"},{\"attributes\":{\"callback\":null},\"id\":\"16814\",\"type\":\"DataRange1d\"},{\"attributes\":{},\"id\":\"16837\",\"type\":\"HelpTool\"},{\"attributes\":{\"data_source\":{\"id\":\"16863\",\"type\":\"ColumnDataSource\"},\"glyph\":{\"id\":\"16864\",\"type\":\"Line\"},\"hover_glyph\":null,\"muted_glyph\":null,\"nonselection_glyph\":{\"id\":\"16865\",\"type\":\"Line\"},\"selection_glyph\":null,\"view\":{\"id\":\"16867\",\"type\":\"CDSView\"}},\"id\":\"16866\",\"type\":\"GlyphRenderer\"},{\"attributes\":{},\"id\":\"16900\",\"type\":\"Selection\"},{\"attributes\":{\"callback\":null},\"id\":\"16816\",\"type\":\"DataRange1d\"},{\"attributes\":{\"active_drag\":\"auto\",\"active_inspect\":\"auto\",\"active_multi\":null,\"active_scroll\":\"auto\",\"active_tap\":\"auto\",\"tools\":[{\"id\":\"16832\",\"type\":\"PanTool\"},{\"id\":\"16833\",\"type\":\"WheelZoomTool\"},{\"id\":\"16834\",\"type\":\"BoxZoomTool\"},{\"id\":\"16835\",\"type\":\"SaveTool\"},{\"id\":\"16836\",\"type\":\"ResetTool\"},{\"id\":\"16837\",\"type\":\"HelpTool\"},{\"id\":\"16909\",\"type\":\"HoverTool\"}]},\"id\":\"16838\",\"type\":\"Toolbar\"}],\"root_ids\":[\"16811\"]},\"title\":\"Bokeh Application\",\"version\":\"1.3.4\"}};\n",
       "  var render_items = [{\"docid\":\"de7f2974-4134-415b-a969-8a29b0954680\",\"roots\":{\"16811\":\"cddf5fd3-4541-4c24-b8cb-39bb0809f15e\"}}];\n",
       "  root.Bokeh.embed.embed_items_notebook(docs_json, render_items);\n",
       "\n",
       "  }\n",
       "  if (root.Bokeh !== undefined) {\n",
       "    embed_document(root);\n",
       "  } else {\n",
       "    var attempts = 0;\n",
       "    var timer = setInterval(function(root) {\n",
       "      if (root.Bokeh !== undefined) {\n",
       "        embed_document(root);\n",
       "        clearInterval(timer);\n",
       "      }\n",
       "      attempts++;\n",
       "      if (attempts > 100) {\n",
       "        console.log(\"Bokeh: ERROR: Unable to run BokehJS code because BokehJS library is missing\");\n",
       "        clearInterval(timer);\n",
       "      }\n",
       "    }, 10, root)\n",
       "  }\n",
       "})(window);"
      ],
      "application/vnd.bokehjs_exec.v0+json": ""
     },
     "metadata": {
      "application/vnd.bokehjs_exec.v0+json": {
       "id": "16811"
      }
     },
     "output_type": "display_data"
    }
   ],
   "source": [
    "#Employment to population ratio, 15+, total (%) (modeled ILO estimate)\n",
    "# Age dependency ratio (% of working-age population)\n",
    "years = list(map(str, list(range(2000,2018))))\n",
    "result = show_weighted_average(years, 'SL.EMP.TOTL.SP.ZS', 'SP.POP.TOTL', ['LDCs', 'Developing excluding LDCs', 'OECD'])"
   ]
  },
  {
   "cell_type": "markdown",
   "metadata": {
    "slideshow": {
     "slide_type": "slide"
    }
   },
   "source": [
    "# Some very general ideas"
   ]
  },
  {
   "cell_type": "markdown",
   "metadata": {
    "slideshow": {
     "slide_type": "slide"
    }
   },
   "source": [
    "# The world is becoming increasingly unequal"
   ]
  },
  {
   "cell_type": "markdown",
   "metadata": {
    "slideshow": {
     "slide_type": "slide"
    }
   },
   "source": [
    "# Great progress in certain areas, still an awful lot to do"
   ]
  },
  {
   "cell_type": "markdown",
   "metadata": {
    "slideshow": {
     "slide_type": "slide"
    }
   },
   "source": [
    "# Sustainable development in the LDCs won't happen without addressing gender inequalities"
   ]
  },
  {
   "cell_type": "markdown",
   "metadata": {
    "slideshow": {
     "slide_type": "slide"
    }
   },
   "source": [
    "# The SDGs and other internationally agreed development goals won't happen without accelerated progress in the LDCs."
   ]
  },
  {
   "cell_type": "markdown",
   "metadata": {
    "slideshow": {
     "slide_type": "slide"
    }
   },
   "source": [
    "# Many thanks\n",
    "\n",
    "Let's stay in touch\n",
    "\n",
    "Tomás González\n",
    "gonzalezt@un.org\n"
   ]
  },
  {
   "cell_type": "code",
   "execution_count": null,
   "metadata": {
    "scrolled": true
   },
   "outputs": [],
   "source": []
  }
 ],
 "metadata": {
  "celltoolbar": "Slideshow",
  "kernelspec": {
   "display_name": "Python 3",
   "language": "python",
   "name": "python3"
  },
  "language_info": {
   "codemirror_mode": {
    "name": "ipython",
    "version": 3
   },
   "file_extension": ".py",
   "mimetype": "text/x-python",
   "name": "python",
   "nbconvert_exporter": "python",
   "pygments_lexer": "ipython3",
   "version": "3.7.0"
  },
  "toc": {
   "base_numbering": 1,
   "nav_menu": {},
   "number_sections": true,
   "sideBar": true,
   "skip_h1_title": false,
   "title_cell": "Table of Contents",
   "title_sidebar": "Contents",
   "toc_cell": false,
   "toc_position": {},
   "toc_section_display": true,
   "toc_window_display": false
  }
 },
 "nbformat": 4,
 "nbformat_minor": 2
}
