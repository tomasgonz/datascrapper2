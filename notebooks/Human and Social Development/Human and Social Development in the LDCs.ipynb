{
 "cells": [
  {
   "cell_type": "code",
   "execution_count": 1,
   "metadata": {
    "ExecuteTime": {
     "end_time": "2019-10-25T14:23:46.481587Z",
     "start_time": "2019-10-25T14:23:45.039173Z"
    },
    "slideshow": {
     "slide_type": "skip"
    }
   },
   "outputs": [
    {
     "data": {
      "text/html": [
       "\n",
       "    <div class=\"bk-root\">\n",
       "        <a href=\"https://bokeh.pydata.org\" target=\"_blank\" class=\"bk-logo bk-logo-small bk-logo-notebook\"></a>\n",
       "        <span id=\"1001\">Loading BokehJS ...</span>\n",
       "    </div>"
      ]
     },
     "metadata": {},
     "output_type": "display_data"
    },
    {
     "data": {
      "application/javascript": [
       "\n",
       "(function(root) {\n",
       "  function now() {\n",
       "    return new Date();\n",
       "  }\n",
       "\n",
       "  var force = true;\n",
       "\n",
       "  if (typeof root._bokeh_onload_callbacks === \"undefined\" || force === true) {\n",
       "    root._bokeh_onload_callbacks = [];\n",
       "    root._bokeh_is_loading = undefined;\n",
       "  }\n",
       "\n",
       "  var JS_MIME_TYPE = 'application/javascript';\n",
       "  var HTML_MIME_TYPE = 'text/html';\n",
       "  var EXEC_MIME_TYPE = 'application/vnd.bokehjs_exec.v0+json';\n",
       "  var CLASS_NAME = 'output_bokeh rendered_html';\n",
       "\n",
       "  /**\n",
       "   * Render data to the DOM node\n",
       "   */\n",
       "  function render(props, node) {\n",
       "    var script = document.createElement(\"script\");\n",
       "    node.appendChild(script);\n",
       "  }\n",
       "\n",
       "  /**\n",
       "   * Handle when an output is cleared or removed\n",
       "   */\n",
       "  function handleClearOutput(event, handle) {\n",
       "    var cell = handle.cell;\n",
       "\n",
       "    var id = cell.output_area._bokeh_element_id;\n",
       "    var server_id = cell.output_area._bokeh_server_id;\n",
       "    // Clean up Bokeh references\n",
       "    if (id != null && id in Bokeh.index) {\n",
       "      Bokeh.index[id].model.document.clear();\n",
       "      delete Bokeh.index[id];\n",
       "    }\n",
       "\n",
       "    if (server_id !== undefined) {\n",
       "      // Clean up Bokeh references\n",
       "      var cmd = \"from bokeh.io.state import curstate; print(curstate().uuid_to_server['\" + server_id + \"'].get_sessions()[0].document.roots[0]._id)\";\n",
       "      cell.notebook.kernel.execute(cmd, {\n",
       "        iopub: {\n",
       "          output: function(msg) {\n",
       "            var id = msg.content.text.trim();\n",
       "            if (id in Bokeh.index) {\n",
       "              Bokeh.index[id].model.document.clear();\n",
       "              delete Bokeh.index[id];\n",
       "            }\n",
       "          }\n",
       "        }\n",
       "      });\n",
       "      // Destroy server and session\n",
       "      var cmd = \"import bokeh.io.notebook as ion; ion.destroy_server('\" + server_id + \"')\";\n",
       "      cell.notebook.kernel.execute(cmd);\n",
       "    }\n",
       "  }\n",
       "\n",
       "  /**\n",
       "   * Handle when a new output is added\n",
       "   */\n",
       "  function handleAddOutput(event, handle) {\n",
       "    var output_area = handle.output_area;\n",
       "    var output = handle.output;\n",
       "\n",
       "    // limit handleAddOutput to display_data with EXEC_MIME_TYPE content only\n",
       "    if ((output.output_type != \"display_data\") || (!output.data.hasOwnProperty(EXEC_MIME_TYPE))) {\n",
       "      return\n",
       "    }\n",
       "\n",
       "    var toinsert = output_area.element.find(\".\" + CLASS_NAME.split(' ')[0]);\n",
       "\n",
       "    if (output.metadata[EXEC_MIME_TYPE][\"id\"] !== undefined) {\n",
       "      toinsert[toinsert.length - 1].firstChild.textContent = output.data[JS_MIME_TYPE];\n",
       "      // store reference to embed id on output_area\n",
       "      output_area._bokeh_element_id = output.metadata[EXEC_MIME_TYPE][\"id\"];\n",
       "    }\n",
       "    if (output.metadata[EXEC_MIME_TYPE][\"server_id\"] !== undefined) {\n",
       "      var bk_div = document.createElement(\"div\");\n",
       "      bk_div.innerHTML = output.data[HTML_MIME_TYPE];\n",
       "      var script_attrs = bk_div.children[0].attributes;\n",
       "      for (var i = 0; i < script_attrs.length; i++) {\n",
       "        toinsert[toinsert.length - 1].firstChild.setAttribute(script_attrs[i].name, script_attrs[i].value);\n",
       "      }\n",
       "      // store reference to server id on output_area\n",
       "      output_area._bokeh_server_id = output.metadata[EXEC_MIME_TYPE][\"server_id\"];\n",
       "    }\n",
       "  }\n",
       "\n",
       "  function register_renderer(events, OutputArea) {\n",
       "\n",
       "    function append_mime(data, metadata, element) {\n",
       "      // create a DOM node to render to\n",
       "      var toinsert = this.create_output_subarea(\n",
       "        metadata,\n",
       "        CLASS_NAME,\n",
       "        EXEC_MIME_TYPE\n",
       "      );\n",
       "      this.keyboard_manager.register_events(toinsert);\n",
       "      // Render to node\n",
       "      var props = {data: data, metadata: metadata[EXEC_MIME_TYPE]};\n",
       "      render(props, toinsert[toinsert.length - 1]);\n",
       "      element.append(toinsert);\n",
       "      return toinsert\n",
       "    }\n",
       "\n",
       "    /* Handle when an output is cleared or removed */\n",
       "    events.on('clear_output.CodeCell', handleClearOutput);\n",
       "    events.on('delete.Cell', handleClearOutput);\n",
       "\n",
       "    /* Handle when a new output is added */\n",
       "    events.on('output_added.OutputArea', handleAddOutput);\n",
       "\n",
       "    /**\n",
       "     * Register the mime type and append_mime function with output_area\n",
       "     */\n",
       "    OutputArea.prototype.register_mime_type(EXEC_MIME_TYPE, append_mime, {\n",
       "      /* Is output safe? */\n",
       "      safe: true,\n",
       "      /* Index of renderer in `output_area.display_order` */\n",
       "      index: 0\n",
       "    });\n",
       "  }\n",
       "\n",
       "  // register the mime type if in Jupyter Notebook environment and previously unregistered\n",
       "  if (root.Jupyter !== undefined) {\n",
       "    var events = require('base/js/events');\n",
       "    var OutputArea = require('notebook/js/outputarea').OutputArea;\n",
       "\n",
       "    if (OutputArea.prototype.mime_types().indexOf(EXEC_MIME_TYPE) == -1) {\n",
       "      register_renderer(events, OutputArea);\n",
       "    }\n",
       "  }\n",
       "\n",
       "  \n",
       "  if (typeof (root._bokeh_timeout) === \"undefined\" || force === true) {\n",
       "    root._bokeh_timeout = Date.now() + 5000;\n",
       "    root._bokeh_failed_load = false;\n",
       "  }\n",
       "\n",
       "  var NB_LOAD_WARNING = {'data': {'text/html':\n",
       "     \"<div style='background-color: #fdd'>\\n\"+\n",
       "     \"<p>\\n\"+\n",
       "     \"BokehJS does not appear to have successfully loaded. If loading BokehJS from CDN, this \\n\"+\n",
       "     \"may be due to a slow or bad network connection. Possible fixes:\\n\"+\n",
       "     \"</p>\\n\"+\n",
       "     \"<ul>\\n\"+\n",
       "     \"<li>re-rerun `output_notebook()` to attempt to load from CDN again, or</li>\\n\"+\n",
       "     \"<li>use INLINE resources instead, as so:</li>\\n\"+\n",
       "     \"</ul>\\n\"+\n",
       "     \"<code>\\n\"+\n",
       "     \"from bokeh.resources import INLINE\\n\"+\n",
       "     \"output_notebook(resources=INLINE)\\n\"+\n",
       "     \"</code>\\n\"+\n",
       "     \"</div>\"}};\n",
       "\n",
       "  function display_loaded() {\n",
       "    var el = document.getElementById(\"1001\");\n",
       "    if (el != null) {\n",
       "      el.textContent = \"BokehJS is loading...\";\n",
       "    }\n",
       "    if (root.Bokeh !== undefined) {\n",
       "      if (el != null) {\n",
       "        el.textContent = \"BokehJS \" + root.Bokeh.version + \" successfully loaded.\";\n",
       "      }\n",
       "    } else if (Date.now() < root._bokeh_timeout) {\n",
       "      setTimeout(display_loaded, 100)\n",
       "    }\n",
       "  }\n",
       "\n",
       "\n",
       "  function run_callbacks() {\n",
       "    try {\n",
       "      root._bokeh_onload_callbacks.forEach(function(callback) {\n",
       "        if (callback != null)\n",
       "          callback();\n",
       "      });\n",
       "    } finally {\n",
       "      delete root._bokeh_onload_callbacks\n",
       "    }\n",
       "    console.debug(\"Bokeh: all callbacks have finished\");\n",
       "  }\n",
       "\n",
       "  function load_libs(css_urls, js_urls, callback) {\n",
       "    if (css_urls == null) css_urls = [];\n",
       "    if (js_urls == null) js_urls = [];\n",
       "\n",
       "    root._bokeh_onload_callbacks.push(callback);\n",
       "    if (root._bokeh_is_loading > 0) {\n",
       "      console.debug(\"Bokeh: BokehJS is being loaded, scheduling callback at\", now());\n",
       "      return null;\n",
       "    }\n",
       "    if (js_urls == null || js_urls.length === 0) {\n",
       "      run_callbacks();\n",
       "      return null;\n",
       "    }\n",
       "    console.debug(\"Bokeh: BokehJS not loaded, scheduling load and callback at\", now());\n",
       "    root._bokeh_is_loading = css_urls.length + js_urls.length;\n",
       "\n",
       "    function on_load() {\n",
       "      root._bokeh_is_loading--;\n",
       "      if (root._bokeh_is_loading === 0) {\n",
       "        console.debug(\"Bokeh: all BokehJS libraries/stylesheets loaded\");\n",
       "        run_callbacks()\n",
       "      }\n",
       "    }\n",
       "\n",
       "    function on_error() {\n",
       "      console.error(\"failed to load \" + url);\n",
       "    }\n",
       "\n",
       "    for (var i = 0; i < css_urls.length; i++) {\n",
       "      var url = css_urls[i];\n",
       "      const element = document.createElement(\"link\");\n",
       "      element.onload = on_load;\n",
       "      element.onerror = on_error;\n",
       "      element.rel = \"stylesheet\";\n",
       "      element.type = \"text/css\";\n",
       "      element.href = url;\n",
       "      console.debug(\"Bokeh: injecting link tag for BokehJS stylesheet: \", url);\n",
       "      document.body.appendChild(element);\n",
       "    }\n",
       "\n",
       "    for (var i = 0; i < js_urls.length; i++) {\n",
       "      var url = js_urls[i];\n",
       "      var element = document.createElement('script');\n",
       "      element.onload = on_load;\n",
       "      element.onerror = on_error;\n",
       "      element.async = false;\n",
       "      element.src = url;\n",
       "      console.debug(\"Bokeh: injecting script tag for BokehJS library: \", url);\n",
       "      document.head.appendChild(element);\n",
       "    }\n",
       "  };var element = document.getElementById(\"1001\");\n",
       "  if (element == null) {\n",
       "    console.error(\"Bokeh: ERROR: autoload.js configured with elementid '1001' but no matching script tag was found. \")\n",
       "    return false;\n",
       "  }\n",
       "\n",
       "  function inject_raw_css(css) {\n",
       "    const element = document.createElement(\"style\");\n",
       "    element.appendChild(document.createTextNode(css));\n",
       "    document.body.appendChild(element);\n",
       "  }\n",
       "\n",
       "  var js_urls = [\"https://cdn.pydata.org/bokeh/release/bokeh-1.3.4.min.js\", \"https://cdn.pydata.org/bokeh/release/bokeh-widgets-1.3.4.min.js\", \"https://cdn.pydata.org/bokeh/release/bokeh-tables-1.3.4.min.js\", \"https://cdn.pydata.org/bokeh/release/bokeh-gl-1.3.4.min.js\"];\n",
       "  var css_urls = [];\n",
       "\n",
       "  var inline_js = [\n",
       "    function(Bokeh) {\n",
       "      Bokeh.set_log_level(\"info\");\n",
       "    },\n",
       "    \n",
       "    function(Bokeh) {\n",
       "      \n",
       "    },\n",
       "    function(Bokeh) {} // ensure no trailing comma for IE\n",
       "  ];\n",
       "\n",
       "  function run_inline_js() {\n",
       "    \n",
       "    if ((root.Bokeh !== undefined) || (force === true)) {\n",
       "      for (var i = 0; i < inline_js.length; i++) {\n",
       "        inline_js[i].call(root, root.Bokeh);\n",
       "      }if (force === true) {\n",
       "        display_loaded();\n",
       "      }} else if (Date.now() < root._bokeh_timeout) {\n",
       "      setTimeout(run_inline_js, 100);\n",
       "    } else if (!root._bokeh_failed_load) {\n",
       "      console.log(\"Bokeh: BokehJS failed to load within specified timeout.\");\n",
       "      root._bokeh_failed_load = true;\n",
       "    } else if (force !== true) {\n",
       "      var cell = $(document.getElementById(\"1001\")).parents('.cell').data().cell;\n",
       "      cell.output_area.append_execute_result(NB_LOAD_WARNING)\n",
       "    }\n",
       "\n",
       "  }\n",
       "\n",
       "  if (root._bokeh_is_loading === 0) {\n",
       "    console.debug(\"Bokeh: BokehJS loaded, going straight to plotting\");\n",
       "    run_inline_js();\n",
       "  } else {\n",
       "    load_libs(css_urls, js_urls, function() {\n",
       "      console.debug(\"Bokeh: BokehJS plotting callback run at\", now());\n",
       "      run_inline_js();\n",
       "    });\n",
       "  }\n",
       "}(window));"
      ],
      "application/vnd.bokehjs_load.v0+json": "\n(function(root) {\n  function now() {\n    return new Date();\n  }\n\n  var force = true;\n\n  if (typeof root._bokeh_onload_callbacks === \"undefined\" || force === true) {\n    root._bokeh_onload_callbacks = [];\n    root._bokeh_is_loading = undefined;\n  }\n\n  \n\n  \n  if (typeof (root._bokeh_timeout) === \"undefined\" || force === true) {\n    root._bokeh_timeout = Date.now() + 5000;\n    root._bokeh_failed_load = false;\n  }\n\n  var NB_LOAD_WARNING = {'data': {'text/html':\n     \"<div style='background-color: #fdd'>\\n\"+\n     \"<p>\\n\"+\n     \"BokehJS does not appear to have successfully loaded. If loading BokehJS from CDN, this \\n\"+\n     \"may be due to a slow or bad network connection. Possible fixes:\\n\"+\n     \"</p>\\n\"+\n     \"<ul>\\n\"+\n     \"<li>re-rerun `output_notebook()` to attempt to load from CDN again, or</li>\\n\"+\n     \"<li>use INLINE resources instead, as so:</li>\\n\"+\n     \"</ul>\\n\"+\n     \"<code>\\n\"+\n     \"from bokeh.resources import INLINE\\n\"+\n     \"output_notebook(resources=INLINE)\\n\"+\n     \"</code>\\n\"+\n     \"</div>\"}};\n\n  function display_loaded() {\n    var el = document.getElementById(\"1001\");\n    if (el != null) {\n      el.textContent = \"BokehJS is loading...\";\n    }\n    if (root.Bokeh !== undefined) {\n      if (el != null) {\n        el.textContent = \"BokehJS \" + root.Bokeh.version + \" successfully loaded.\";\n      }\n    } else if (Date.now() < root._bokeh_timeout) {\n      setTimeout(display_loaded, 100)\n    }\n  }\n\n\n  function run_callbacks() {\n    try {\n      root._bokeh_onload_callbacks.forEach(function(callback) {\n        if (callback != null)\n          callback();\n      });\n    } finally {\n      delete root._bokeh_onload_callbacks\n    }\n    console.debug(\"Bokeh: all callbacks have finished\");\n  }\n\n  function load_libs(css_urls, js_urls, callback) {\n    if (css_urls == null) css_urls = [];\n    if (js_urls == null) js_urls = [];\n\n    root._bokeh_onload_callbacks.push(callback);\n    if (root._bokeh_is_loading > 0) {\n      console.debug(\"Bokeh: BokehJS is being loaded, scheduling callback at\", now());\n      return null;\n    }\n    if (js_urls == null || js_urls.length === 0) {\n      run_callbacks();\n      return null;\n    }\n    console.debug(\"Bokeh: BokehJS not loaded, scheduling load and callback at\", now());\n    root._bokeh_is_loading = css_urls.length + js_urls.length;\n\n    function on_load() {\n      root._bokeh_is_loading--;\n      if (root._bokeh_is_loading === 0) {\n        console.debug(\"Bokeh: all BokehJS libraries/stylesheets loaded\");\n        run_callbacks()\n      }\n    }\n\n    function on_error() {\n      console.error(\"failed to load \" + url);\n    }\n\n    for (var i = 0; i < css_urls.length; i++) {\n      var url = css_urls[i];\n      const element = document.createElement(\"link\");\n      element.onload = on_load;\n      element.onerror = on_error;\n      element.rel = \"stylesheet\";\n      element.type = \"text/css\";\n      element.href = url;\n      console.debug(\"Bokeh: injecting link tag for BokehJS stylesheet: \", url);\n      document.body.appendChild(element);\n    }\n\n    for (var i = 0; i < js_urls.length; i++) {\n      var url = js_urls[i];\n      var element = document.createElement('script');\n      element.onload = on_load;\n      element.onerror = on_error;\n      element.async = false;\n      element.src = url;\n      console.debug(\"Bokeh: injecting script tag for BokehJS library: \", url);\n      document.head.appendChild(element);\n    }\n  };var element = document.getElementById(\"1001\");\n  if (element == null) {\n    console.error(\"Bokeh: ERROR: autoload.js configured with elementid '1001' but no matching script tag was found. \")\n    return false;\n  }\n\n  function inject_raw_css(css) {\n    const element = document.createElement(\"style\");\n    element.appendChild(document.createTextNode(css));\n    document.body.appendChild(element);\n  }\n\n  var js_urls = [\"https://cdn.pydata.org/bokeh/release/bokeh-1.3.4.min.js\", \"https://cdn.pydata.org/bokeh/release/bokeh-widgets-1.3.4.min.js\", \"https://cdn.pydata.org/bokeh/release/bokeh-tables-1.3.4.min.js\", \"https://cdn.pydata.org/bokeh/release/bokeh-gl-1.3.4.min.js\"];\n  var css_urls = [];\n\n  var inline_js = [\n    function(Bokeh) {\n      Bokeh.set_log_level(\"info\");\n    },\n    \n    function(Bokeh) {\n      \n    },\n    function(Bokeh) {} // ensure no trailing comma for IE\n  ];\n\n  function run_inline_js() {\n    \n    if ((root.Bokeh !== undefined) || (force === true)) {\n      for (var i = 0; i < inline_js.length; i++) {\n        inline_js[i].call(root, root.Bokeh);\n      }if (force === true) {\n        display_loaded();\n      }} else if (Date.now() < root._bokeh_timeout) {\n      setTimeout(run_inline_js, 100);\n    } else if (!root._bokeh_failed_load) {\n      console.log(\"Bokeh: BokehJS failed to load within specified timeout.\");\n      root._bokeh_failed_load = true;\n    } else if (force !== true) {\n      var cell = $(document.getElementById(\"1001\")).parents('.cell').data().cell;\n      cell.output_area.append_execute_result(NB_LOAD_WARNING)\n    }\n\n  }\n\n  if (root._bokeh_is_loading === 0) {\n    console.debug(\"Bokeh: BokehJS loaded, going straight to plotting\");\n    run_inline_js();\n  } else {\n    load_libs(css_urls, js_urls, function() {\n      console.debug(\"Bokeh: BokehJS plotting callback run at\", now());\n      run_inline_js();\n    });\n  }\n}(window));"
     },
     "metadata": {},
     "output_type": "display_data"
    }
   ],
   "source": [
    "import sys\n",
    "sys.path.append(\"../../\")\n",
    "from data.Frame import Frame\n",
    "from bk import show_weighted_average, show_group_total, get_pandas_dataframe, line_chart, scatter_plot\n",
    "from bokeh.io import output_notebook\n",
    "from bokeh.plotting import figure, output_file, show, reset_output\n",
    "import sources\n",
    "from sources.unpd.indicators import get_projection_by_groups as gpp\n",
    "from sources.cdp.indicators import get_indicators as get_indicators_cdp_2018\n",
    "from sources.worldbank.datatable import get_data_table as get_wb_tb\n",
    "reset_output()\n",
    "output_notebook()"
   ]
  },
  {
   "cell_type": "markdown",
   "metadata": {
    "slideshow": {
     "slide_type": "slide"
    }
   },
   "source": [
    "# Human and Social development in the LDCs"
   ]
  },
  {
   "cell_type": "markdown",
   "metadata": {
    "slideshow": {
     "slide_type": "slide"
    }
   },
   "source": [
    "# The Least Developed Countries\n",
    "\n",
    "+ The category of the least developed countries was created in 1971\n",
    "\n",
    "+ Least developed countries (LDCs) are low-income countries confronting severe structural impediments to sustainable development. They are highly vulnerable to economic and environmental shocks and have low levels of human assets.\n"
   ]
  },
  {
   "cell_type": "markdown",
   "metadata": {
    "slideshow": {
     "slide_type": "slide"
    }
   },
   "source": [
    "Least developed countries (LDCs) are **low-income countries** confronting severe **structural** impediments to sustainable development. They are highly **vulnerable to economic and environmental shocks** and have **low levels of human assets**."
   ]
  },
  {
   "cell_type": "markdown",
   "metadata": {
    "slideshow": {
     "slide_type": "slide"
    }
   },
   "source": [
    "## The criteria to identify LDCs\n",
    "The Committee for Development Policy has established three criteria for including and graduating countries from the category:\n",
    "    \n",
    "### The Economic Vulnerability Index (EVI)\n",
    "    \n",
    "### The Human Assets Index (HAI)\n",
    "\n",
    "### GNI per capita"
   ]
  },
  {
   "cell_type": "code",
   "execution_count": 2,
   "metadata": {
    "ExecuteTime": {
     "end_time": "2019-10-25T14:23:46.674809Z",
     "start_time": "2019-10-25T14:23:46.484107Z"
    },
    "slideshow": {
     "slide_type": "skip"
    }
   },
   "outputs": [],
   "source": [
    "cdp_data_2018 = get_indicators_cdp_2018(['LDCs'])\n",
    "entities = cdp_data_2018.get_column('entity').as_array()\n",
    "evi = cdp_data_2018.get_column('evi').as_array()\n",
    "hai = cdp_data_2018.get_column('hai').as_array()\n",
    "gni = cdp_data_2018.get_column('gni_per_capita_dollars').as_array()\n",
    "gni_normalized = [(x / sum(gni))*30 for x in gni]"
   ]
  },
  {
   "cell_type": "code",
   "execution_count": 3,
   "metadata": {
    "ExecuteTime": {
     "end_time": "2019-10-25T14:23:46.713931Z",
     "start_time": "2019-10-25T14:23:46.677516Z"
    },
    "slideshow": {
     "slide_type": "slide"
    }
   },
   "outputs": [
    {
     "data": {
      "text/html": [
       "\n",
       "\n",
       "\n",
       "\n",
       "\n",
       "\n",
       "  <div class=\"bk-root\" id=\"fc9d7ea5-ef6e-4e33-ad61-afc5ed1b859b\" data-root-id=\"1004\"></div>\n"
      ]
     },
     "metadata": {},
     "output_type": "display_data"
    },
    {
     "data": {
      "application/javascript": [
       "(function(root) {\n",
       "  function embed_document(root) {\n",
       "    \n",
       "  var docs_json = {\"33c57d2f-2c11-4b5d-8d3b-f8e98326aec1\":{\"roots\":{\"references\":[{\"attributes\":{\"below\":[{\"id\":\"1015\",\"type\":\"LinearAxis\"}],\"center\":[{\"id\":\"1019\",\"type\":\"Grid\"},{\"id\":\"1024\",\"type\":\"Grid\"},{\"id\":\"1033\",\"type\":\"LabelSet\"}],\"left\":[{\"id\":\"1020\",\"type\":\"LinearAxis\"}],\"plot_width\":950,\"renderers\":[{\"id\":\"1031\",\"type\":\"GlyphRenderer\"}],\"title\":{\"id\":\"1005\",\"type\":\"Title\"},\"toolbar\":{\"id\":\"1026\",\"type\":\"Toolbar\"},\"x_range\":{\"id\":\"1007\",\"type\":\"DataRange1d\"},\"x_scale\":{\"id\":\"1011\",\"type\":\"LinearScale\"},\"y_range\":{\"id\":\"1009\",\"type\":\"DataRange1d\"},\"y_scale\":{\"id\":\"1013\",\"type\":\"LinearScale\"}},\"id\":\"1004\",\"subtype\":\"Figure\",\"type\":\"Plot\"},{\"attributes\":{\"axis_label\":\"EVI\",\"formatter\":{\"id\":\"1038\",\"type\":\"BasicTickFormatter\"},\"ticker\":{\"id\":\"1016\",\"type\":\"BasicTicker\"}},\"id\":\"1015\",\"type\":\"LinearAxis\"},{\"attributes\":{\"callback\":null},\"id\":\"1009\",\"type\":\"DataRange1d\"},{\"attributes\":{},\"id\":\"1011\",\"type\":\"LinearScale\"},{\"attributes\":{},\"id\":\"1038\",\"type\":\"BasicTickFormatter\"},{\"attributes\":{},\"id\":\"1013\",\"type\":\"LinearScale\"},{\"attributes\":{},\"id\":\"1036\",\"type\":\"BasicTickFormatter\"},{\"attributes\":{},\"id\":\"1040\",\"type\":\"UnionRenderers\"},{\"attributes\":{\"axis_label\":\"HAI\",\"formatter\":{\"id\":\"1036\",\"type\":\"BasicTickFormatter\"},\"ticker\":{\"id\":\"1021\",\"type\":\"BasicTicker\"}},\"id\":\"1020\",\"type\":\"LinearAxis\"},{\"attributes\":{\"level\":\"glyph\",\"source\":{\"id\":\"1003\",\"type\":\"ColumnDataSource\"},\"text\":{\"field\":\"names\"},\"text_font_size\":{\"value\":\"8pt\"},\"x\":{\"field\":\"evi\"},\"x_offset\":{\"value\":5},\"y\":{\"field\":\"hai\"},\"y_offset\":{\"value\":5}},\"id\":\"1033\",\"type\":\"LabelSet\"},{\"attributes\":{},\"id\":\"1041\",\"type\":\"Selection\"},{\"attributes\":{\"callback\":null,\"data\":{\"evi\":[39.31847499761291,36.757499031522215,25.21977531407407,34.32843983867595,36.26105903025079,38.24968188294886,44.53840537420615,34.75933730781097,33.55527518528004,52.43229442971872,52.38395723067039,27.237133266314615,36.329678101824925,54.70608523319488,32.09573717926084,72.15168677316157,30.163203421036275,52.38566801102522,30.553838443774744,73.69258065327526,42.02234466093909,53.203575960114186,37.845308176229935,47.1236284854542,36.7941622313397,39.91252075695854,36.7237686236129,31.7432961328469,28.422642129717293,35.255239686720145,36.377946784929456,41.23100272969866,33.44246330286905,51.563062215984765,51.90755365345187,34.725685139794926,49.214096687726894,56.79572845959256,28.338132621668773,56.01606076954609,31.718809204036635,27.90609781167721,46.9962786557694,38.63576320999087,40.46026103469391],\"hai\":[48.3698405313323,52.52043657551618,73.15064266822495,49.75421277291333,72.86608884522367,42.91698654581399,38.4582473052599,68.92528304696823,17.37091156051442,22.085484315685715,49.385256569573,41.87232303636952,58.02908229893985,42.893055780999646,45.30853361262692,51.82920387983884,39.48893995074097,41.716252662688056,47.97415181855695,83.96679690389746,61.572583924694506,37.23070426579468,54.53329453168444,52.522138892622166,43.106314630459046,46.940261858442696,45.8152514338928,68.47497037955749,71.21981923337259,35.374052152796644,54.97246497703989,86.00679852404463,57.12957161797068,27.395916767676766,74.78849047963382,16.65507946932967,53.03509118236097,66.63143020458574,61.82618003109269,90.13457842056366,50.23906690599287,56.02779180814835,78.51943490439294,59.22749709179137,58.594410552318735],\"names\":[\"Afghanistan\",\"Angola\",\"Bangladesh\",\"Benin\",\"Bhutan\",\"Burkina Faso\",\"Burundi\",\"Cambodia\",\"Central African Republic\",\"Chad\",\"Comoros\",\"Democratic Republic of the Congo\",\"Djibouti\",\"Eritrea\",\"Ethiopia\",\"Gambia\",\"Guinea\",\"Guinea-Bissau\",\"Haiti\",\"Kiribati\",\"Lesotho\",\"Liberia\",\"Madagascar\",\"Malawi\",\"Mali\",\"Mauritania\",\"Mozambique\",\"Myanmar\",\"Nepal\",\"Niger\",\"Rwanda\",\"Sao Tome and Principe\",\"Senegal\",\"Sierra Leone\",\"Solomon Islands\",\"Somalia\",\"Sudan\",\"Timor-Leste\",\"Togo\",\"Tuvalu\",\"Uganda\",\"United Republic of Tanzania\",\"Vanuatu\",\"Yemen\",\"Zambia\"],\"radii\":[0.3486056940032576,2.4668524266042016,0.7020447947937721,0.48602223509185105,1.3228778144086932,0.3545063770828273,0.1439906217703531,0.5921658071844065,0.2039025303122942,0.5072539150463391,0.8788819521470623,0.26478852194206287,1.0434896028654765,0.4748310823991456,0.3550084704511006,0.247446969190501,0.37373691067035597,0.32794088514739334,0.44869169499991846,1.6454751810450026,0.7143690867404829,0.23730867258431165,0.2677231781905875,0.18263121659249557,0.441142763699007,0.6775521275707559,0.3108420352212877,0.6914928152526487,0.41032077914907744,0.2166245207324081,0.3895316490963874,0.9279304402907724,0.5532615213153896,0.32073284585082373,0.9714956147211605,0.052410075653960046,0.8001174040745556,1.4634728916821294,0.3057813583848219,2.9686806171600546,0.3643815661228828,0.49688045527581914,1.6609010705734226,0.5258532451564529,0.8600485617522887]},\"selected\":{\"id\":\"1041\",\"type\":\"Selection\"},\"selection_policy\":{\"id\":\"1040\",\"type\":\"UnionRenderers\"}},\"id\":\"1003\",\"type\":\"ColumnDataSource\"},{\"attributes\":{},\"id\":\"1021\",\"type\":\"BasicTicker\"},{\"attributes\":{\"callback\":null},\"id\":\"1007\",\"type\":\"DataRange1d\"},{\"attributes\":{\"ticker\":{\"id\":\"1016\",\"type\":\"BasicTicker\"}},\"id\":\"1019\",\"type\":\"Grid\"},{\"attributes\":{\"data_source\":{\"id\":\"1003\",\"type\":\"ColumnDataSource\"},\"glyph\":{\"id\":\"1029\",\"type\":\"Circle\"},\"hover_glyph\":null,\"muted_glyph\":null,\"nonselection_glyph\":{\"id\":\"1030\",\"type\":\"Circle\"},\"selection_glyph\":null,\"view\":{\"id\":\"1032\",\"type\":\"CDSView\"}},\"id\":\"1031\",\"type\":\"GlyphRenderer\"},{\"attributes\":{\"callback\":null},\"id\":\"1025\",\"type\":\"HoverTool\"},{\"attributes\":{\"fill_alpha\":{\"value\":0.1},\"fill_color\":{\"value\":\"#1f77b4\"},\"line_alpha\":{\"value\":0.1},\"line_color\":{\"value\":\"#1f77b4\"},\"radius\":{\"field\":\"radii\",\"units\":\"data\"},\"x\":{\"field\":\"evi\"},\"y\":{\"field\":\"hai\"}},\"id\":\"1030\",\"type\":\"Circle\"},{\"attributes\":{},\"id\":\"1016\",\"type\":\"BasicTicker\"},{\"attributes\":{\"active_drag\":\"auto\",\"active_inspect\":\"auto\",\"active_multi\":null,\"active_scroll\":\"auto\",\"active_tap\":\"auto\",\"tools\":[{\"id\":\"1025\",\"type\":\"HoverTool\"}]},\"id\":\"1026\",\"type\":\"Toolbar\"},{\"attributes\":{\"dimension\":1,\"ticker\":{\"id\":\"1021\",\"type\":\"BasicTicker\"}},\"id\":\"1024\",\"type\":\"Grid\"},{\"attributes\":{\"fill_alpha\":{\"value\":0.6},\"fill_color\":{\"value\":\"#1f77b4\"},\"line_color\":{\"value\":null},\"radius\":{\"field\":\"radii\",\"units\":\"data\"},\"x\":{\"field\":\"evi\"},\"y\":{\"field\":\"hai\"}},\"id\":\"1029\",\"type\":\"Circle\"},{\"attributes\":{\"source\":{\"id\":\"1003\",\"type\":\"ColumnDataSource\"}},\"id\":\"1032\",\"type\":\"CDSView\"},{\"attributes\":{\"text\":\"HAI vs EVI\"},\"id\":\"1005\",\"type\":\"Title\"}],\"root_ids\":[\"1004\"]},\"title\":\"Bokeh Application\",\"version\":\"1.3.4\"}};\n",
       "  var render_items = [{\"docid\":\"33c57d2f-2c11-4b5d-8d3b-f8e98326aec1\",\"roots\":{\"1004\":\"fc9d7ea5-ef6e-4e33-ad61-afc5ed1b859b\"}}];\n",
       "  root.Bokeh.embed.embed_items_notebook(docs_json, render_items);\n",
       "\n",
       "  }\n",
       "  if (root.Bokeh !== undefined) {\n",
       "    embed_document(root);\n",
       "  } else {\n",
       "    var attempts = 0;\n",
       "    var timer = setInterval(function(root) {\n",
       "      if (root.Bokeh !== undefined) {\n",
       "        embed_document(root);\n",
       "        clearInterval(timer);\n",
       "      }\n",
       "      attempts++;\n",
       "      if (attempts > 100) {\n",
       "        console.log(\"Bokeh: ERROR: Unable to run BokehJS code because BokehJS library is missing\");\n",
       "        clearInterval(timer);\n",
       "      }\n",
       "    }, 10, root)\n",
       "  }\n",
       "})(window);"
      ],
      "application/vnd.bokehjs_exec.v0+json": ""
     },
     "metadata": {
      "application/vnd.bokehjs_exec.v0+json": {
       "id": "1004"
      }
     },
     "output_type": "display_data"
    }
   ],
   "source": [
    "p = scatter_plot(evi, hai, gni_normalized, entities)\n",
    "show(p)"
   ]
  },
  {
   "cell_type": "markdown",
   "metadata": {
    "slideshow": {
     "slide_type": "slide"
    }
   },
   "source": [
    "# The Istanbul Programme of Action"
   ]
  },
  {
   "cell_type": "markdown",
   "metadata": {
    "ExecuteTime": {
     "end_time": "2019-10-23T16:34:47.577716Z",
     "start_time": "2019-10-23T16:34:47.551207Z"
    },
    "slideshow": {
     "slide_type": "slide"
    }
   },
   "source": [
    "# Objectives"
   ]
  },
  {
   "cell_type": "markdown",
   "metadata": {
    "slideshow": {
     "slide_type": "slide"
    }
   },
   "source": [
    "27. The overarching goal of the Programme of Action for the decade 2011-2020 is to overcome the structural challenges faced by the least developed countries in order to eradicate poverty, achieve internationally agreed development goals and enable graduation from the least developed country category.\n",
    "\n"
   ]
  },
  {
   "cell_type": "markdown",
   "metadata": {
    "slideshow": {
     "slide_type": "slide"
    }
   },
   "source": [
    "28. Guided by the overarching goal, national policies of least developed countries and international support measures during the decade will focus on the following specific objectives with the aim of enabling half the number of least developed countries to meet the criteria for graduation by 2020:"
   ]
  },
  {
   "cell_type": "markdown",
   "metadata": {
    "slideshow": {
     "slide_type": "slide"
    }
   },
   "source": [
    "**(a)** Achieve sustained, equitable and inclusive economic growth in least developed countries, to at least the level of 7 per cent per annum, by strengthening their productive capacity in all sectors through structural transformation and overcoming their marginalization through their effective integration into the global economy, including through regional integration;"
   ]
  },
  {
   "cell_type": "markdown",
   "metadata": {
    "slideshow": {
     "slide_type": "slide"
    }
   },
   "source": [
    "**(b) Build human capacities by fostering sustained, equitable and inclusive human and social development, gender equality and the empowerment of women;**"
   ]
  },
  {
   "cell_type": "markdown",
   "metadata": {
    "slideshow": {
     "slide_type": "slide"
    }
   },
   "source": [
    "**(c)** Reduce the **vulnerability** of least developed countries to economic, natural and environmental shocks and disasters, as well as climate change, and enhance their ability to meet these and other challenges through strengthening their resilience;"
   ]
  },
  {
   "cell_type": "markdown",
   "metadata": {
    "slideshow": {
     "slide_type": "slide"
    }
   },
   "source": [
    "**(d)** Ensure enhanced financial resources and their effective use for least developed countries’ development, including through domestic resource mobilization, ODA, external debt relief, foreign direct investment and remittances;"
   ]
  },
  {
   "cell_type": "markdown",
   "metadata": {
    "slideshow": {
     "slide_type": "slide"
    }
   },
   "source": [
    "**(e)** Enhance good governance at all levels, by strengthening democratic processes, institutions and the rule of law; increasing efficiency, coherence, transparency and participation; protecting and promoting human rights; and reducing corruption, and strengthen least developed country Governments’ capacity to play an effective role in their economic and social development."
   ]
  },
  {
   "cell_type": "markdown",
   "metadata": {
    "slideshow": {
     "slide_type": "slide"
    }
   },
   "source": [
    "# IV. Priority areas for action\n",
    "\n",
    "43. The actions will be organized by priority areas as:\n",
    "\n",
    "A. Productive capacity\n",
    "\n",
    "B. Agriculture, food security and rural development\n",
    "\n",
    "C. Trade\n",
    "\n",
    "D. Commodities\n",
    "\n",
    "**E. Human and social development**\n",
    "\n",
    "F. Multiple crises and other emerging challenges ▪Economic shocks\n",
    "\n",
    "H. Good governance at all levels"
   ]
  },
  {
   "cell_type": "markdown",
   "metadata": {
    "slideshow": {
     "slide_type": "slide"
    }
   },
   "source": [
    "# E. Human and social development\n",
    "\n",
    "+ Education and training\n",
    "\n",
    "+ Population and primary health\n",
    "\n",
    "+ Youth development\n",
    "\n",
    "+ Shelter\n",
    "\n",
    "+ Water and sanitation\n",
    "\n",
    "+ Gender equality and empowerment of women \n",
    "\n",
    "+ Social protection"
   ]
  },
  {
   "cell_type": "markdown",
   "metadata": {
    "slideshow": {
     "slide_type": "slide"
    }
   },
   "source": [
    "# Population and primary health"
   ]
  },
  {
   "cell_type": "code",
   "execution_count": 4,
   "metadata": {
    "ExecuteTime": {
     "end_time": "2019-10-25T14:23:47.479465Z",
     "start_time": "2019-10-25T14:23:46.720219Z"
    },
    "scrolled": true,
    "slideshow": {
     "slide_type": "slide"
    }
   },
   "outputs": [
    {
     "data": {
      "text/html": [
       "\n",
       "\n",
       "\n",
       "\n",
       "\n",
       "\n",
       "  <div class=\"bk-root\" id=\"77af85d9-3fd8-42d9-b7eb-ee99a5a1a3a8\" data-root-id=\"1084\"></div>\n"
      ]
     },
     "metadata": {},
     "output_type": "display_data"
    },
    {
     "data": {
      "application/javascript": [
       "(function(root) {\n",
       "  function embed_document(root) {\n",
       "    \n",
       "  var docs_json = {\"a4f509bb-4606-4022-a0af-071d900d872b\":{\"roots\":{\"references\":[{\"attributes\":{\"below\":[{\"id\":\"1095\",\"type\":\"LinearAxis\"}],\"center\":[{\"id\":\"1099\",\"type\":\"Grid\"},{\"id\":\"1104\",\"type\":\"Grid\"},{\"id\":\"1129\",\"type\":\"Legend\"}],\"left\":[{\"id\":\"1100\",\"type\":\"LinearAxis\"}],\"plot_height\":400,\"plot_width\":1000,\"renderers\":[{\"id\":\"1121\",\"type\":\"GlyphRenderer\"},{\"id\":\"1134\",\"type\":\"GlyphRenderer\"}],\"title\":{\"id\":\"1085\",\"type\":\"Title\"},\"toolbar\":{\"id\":\"1111\",\"type\":\"Toolbar\"},\"x_range\":{\"id\":\"1087\",\"type\":\"DataRange1d\"},\"x_scale\":{\"id\":\"1091\",\"type\":\"LinearScale\"},\"y_range\":{\"id\":\"1089\",\"type\":\"DataRange1d\"},\"y_scale\":{\"id\":\"1093\",\"type\":\"LinearScale\"}},\"id\":\"1084\",\"subtype\":\"Figure\",\"type\":\"Plot\"},{\"attributes\":{\"callback\":null,\"data\":{\"x\":[\"1962\",\"1963\",\"1964\",\"1965\",\"1966\",\"1967\",\"1968\",\"1969\",\"1970\",\"1971\",\"1972\",\"1973\",\"1974\",\"1975\",\"1976\",\"1977\",\"1978\",\"1979\",\"1980\",\"1981\",\"1982\",\"1983\",\"1984\",\"1985\",\"1986\",\"1987\",\"1988\",\"1989\",\"1990\",\"1991\",\"1992\",\"1993\",\"1994\",\"1995\",\"1996\",\"1997\",\"1998\",\"1999\",\"2000\",\"2001\",\"2002\",\"2003\",\"2004\",\"2005\",\"2006\",\"2007\",\"2008\",\"2009\",\"2010\",\"2011\",\"2012\",\"2013\",\"2014\",\"2015\",\"2016\",\"2017\"],\"y\":[251900741.0,257908074.0,264174179.0,270720892.0,277573029.0,284708409.0,292045744.0,299473256.0,306916896.0,314344629.0,321797581.0,329357353.0,337142681.0,345242710.0,353691338.0,362475112.0,371577256.0,380963304.0,390612563.0,400528924.0,410740611.0,421279107.0,432185325.0,443491288.0,455193656.0,467290514.0,479814021.0,492803028.0,506275612.0,520262423.0,534731006.0,549559264.0,564581083.0,579681672.0,594801259.0,609983301.0,625342098.0,641046802.0,657215864.0,673903112.0,691061397.0,708587948.0,726331177.0,744190510.0,762132501.0,780219542.0,798563392.0,817322629.0,836614860.0,856472234.0,873619764.0,894516028.0,915914952.0,937788499.0,960134718.0,982952189.0]},\"selected\":{\"id\":\"1153\",\"type\":\"Selection\"},\"selection_policy\":{\"id\":\"1152\",\"type\":\"UnionRenderers\"}},\"id\":\"1131\",\"type\":\"ColumnDataSource\"},{\"attributes\":{\"line_color\":\"#FA1857\",\"line_width\":3,\"x\":{\"field\":\"x\"},\"y\":{\"field\":\"y\"}},\"id\":\"1119\",\"type\":\"Line\"},{\"attributes\":{\"fill_color\":{\"value\":\"#FA1857\"},\"line_color\":{\"value\":\"#FA1857\"},\"size\":{\"units\":\"screen\",\"value\":0},\"x\":{\"field\":\"x\"},\"y\":{\"field\":\"y\"}},\"id\":\"1132\",\"type\":\"Circle\"},{\"attributes\":{\"callback\":null,\"data\":{\"x\":[\"1962\",\"1963\",\"1964\",\"1965\",\"1966\",\"1967\",\"1968\",\"1969\",\"1970\",\"1971\",\"1972\",\"1973\",\"1974\",\"1975\",\"1976\",\"1977\",\"1978\",\"1979\",\"1980\",\"1981\",\"1982\",\"1983\",\"1984\",\"1985\",\"1986\",\"1987\",\"1988\",\"1989\",\"1990\",\"1991\",\"1992\",\"1993\",\"1994\",\"1995\",\"1996\",\"1997\",\"1998\",\"1999\",\"2000\",\"2001\",\"2002\",\"2003\",\"2004\",\"2005\",\"2006\",\"2007\",\"2008\",\"2009\",\"2010\",\"2011\",\"2012\",\"2013\",\"2014\",\"2015\",\"2016\",\"2017\"],\"y\":[251900741.0,257908074.0,264174179.0,270720892.0,277573029.0,284708409.0,292045744.0,299473256.0,306916896.0,314344629.0,321797581.0,329357353.0,337142681.0,345242710.0,353691338.0,362475112.0,371577256.0,380963304.0,390612563.0,400528924.0,410740611.0,421279107.0,432185325.0,443491288.0,455193656.0,467290514.0,479814021.0,492803028.0,506275612.0,520262423.0,534731006.0,549559264.0,564581083.0,579681672.0,594801259.0,609983301.0,625342098.0,641046802.0,657215864.0,673903112.0,691061397.0,708587948.0,726331177.0,744190510.0,762132501.0,780219542.0,798563392.0,817322629.0,836614860.0,856472234.0,873619764.0,894516028.0,915914952.0,937788499.0,960134718.0,982952189.0]},\"selected\":{\"id\":\"1151\",\"type\":\"Selection\"},\"selection_policy\":{\"id\":\"1150\",\"type\":\"UnionRenderers\"}},\"id\":\"1118\",\"type\":\"ColumnDataSource\"},{\"attributes\":{\"fill_alpha\":{\"value\":0.1},\"fill_color\":{\"value\":\"#1f77b4\"},\"line_alpha\":{\"value\":0.1},\"line_color\":{\"value\":\"#1f77b4\"},\"size\":{\"units\":\"screen\",\"value\":0},\"x\":{\"field\":\"x\"},\"y\":{\"field\":\"y\"}},\"id\":\"1133\",\"type\":\"Circle\"},{\"attributes\":{\"line_alpha\":0.1,\"line_color\":\"#1f77b4\",\"line_width\":3,\"x\":{\"field\":\"x\"},\"y\":{\"field\":\"y\"}},\"id\":\"1120\",\"type\":\"Line\"},{\"attributes\":{},\"id\":\"1105\",\"type\":\"PanTool\"},{\"attributes\":{\"data_source\":{\"id\":\"1131\",\"type\":\"ColumnDataSource\"},\"glyph\":{\"id\":\"1132\",\"type\":\"Circle\"},\"hover_glyph\":null,\"muted_glyph\":null,\"nonselection_glyph\":{\"id\":\"1133\",\"type\":\"Circle\"},\"selection_glyph\":null,\"view\":{\"id\":\"1135\",\"type\":\"CDSView\"}},\"id\":\"1134\",\"type\":\"GlyphRenderer\"},{\"attributes\":{},\"id\":\"1106\",\"type\":\"WheelZoomTool\"},{\"attributes\":{\"source\":{\"id\":\"1131\",\"type\":\"ColumnDataSource\"}},\"id\":\"1135\",\"type\":\"CDSView\"},{\"attributes\":{\"overlay\":{\"id\":\"1128\",\"type\":\"BoxAnnotation\"}},\"id\":\"1107\",\"type\":\"BoxZoomTool\"},{\"attributes\":{},\"id\":\"1108\",\"type\":\"SaveTool\"},{\"attributes\":{\"callback\":null,\"tooltips\":\"                \\n        <div style=padding=5px>Year:@x</div>\\n        <div style=padding=5px>Value:@y</div>        \\n        \"},\"id\":\"1136\",\"type\":\"HoverTool\"},{\"attributes\":{},\"id\":\"1150\",\"type\":\"UnionRenderers\"},{\"attributes\":{\"text\":\"Population, total\"},\"id\":\"1085\",\"type\":\"Title\"},{\"attributes\":{},\"id\":\"1109\",\"type\":\"ResetTool\"},{\"attributes\":{},\"id\":\"1151\",\"type\":\"Selection\"},{\"attributes\":{\"callback\":null},\"id\":\"1087\",\"type\":\"DataRange1d\"},{\"attributes\":{},\"id\":\"1110\",\"type\":\"HelpTool\"},{\"attributes\":{},\"id\":\"1152\",\"type\":\"UnionRenderers\"},{\"attributes\":{\"callback\":null},\"id\":\"1089\",\"type\":\"DataRange1d\"},{\"attributes\":{\"active_drag\":\"auto\",\"active_inspect\":\"auto\",\"active_multi\":null,\"active_scroll\":\"auto\",\"active_tap\":\"auto\",\"tools\":[{\"id\":\"1105\",\"type\":\"PanTool\"},{\"id\":\"1106\",\"type\":\"WheelZoomTool\"},{\"id\":\"1107\",\"type\":\"BoxZoomTool\"},{\"id\":\"1108\",\"type\":\"SaveTool\"},{\"id\":\"1109\",\"type\":\"ResetTool\"},{\"id\":\"1110\",\"type\":\"HelpTool\"},{\"id\":\"1136\",\"type\":\"HoverTool\"}]},\"id\":\"1111\",\"type\":\"Toolbar\"},{\"attributes\":{},\"id\":\"1153\",\"type\":\"Selection\"},{\"attributes\":{},\"id\":\"1091\",\"type\":\"LinearScale\"},{\"attributes\":{\"data_source\":{\"id\":\"1118\",\"type\":\"ColumnDataSource\"},\"glyph\":{\"id\":\"1119\",\"type\":\"Line\"},\"hover_glyph\":null,\"muted_glyph\":null,\"nonselection_glyph\":{\"id\":\"1120\",\"type\":\"Line\"},\"selection_glyph\":null,\"view\":{\"id\":\"1122\",\"type\":\"CDSView\"}},\"id\":\"1121\",\"type\":\"GlyphRenderer\"},{\"attributes\":{},\"id\":\"1093\",\"type\":\"LinearScale\"},{\"attributes\":{\"axis_label\":\"Years\",\"formatter\":{\"id\":\"1126\",\"type\":\"BasicTickFormatter\"},\"ticker\":{\"id\":\"1096\",\"type\":\"BasicTicker\"}},\"id\":\"1095\",\"type\":\"LinearAxis\"},{\"attributes\":{\"source\":{\"id\":\"1118\",\"type\":\"ColumnDataSource\"}},\"id\":\"1122\",\"type\":\"CDSView\"},{\"attributes\":{},\"id\":\"1096\",\"type\":\"BasicTicker\"},{\"attributes\":{},\"id\":\"1124\",\"type\":\"BasicTickFormatter\"},{\"attributes\":{\"grid_line_color\":null,\"ticker\":{\"id\":\"1096\",\"type\":\"BasicTicker\"}},\"id\":\"1099\",\"type\":\"Grid\"},{\"attributes\":{},\"id\":\"1126\",\"type\":\"BasicTickFormatter\"},{\"attributes\":{\"axis_label\":\"SP.POP.TOTL\",\"formatter\":{\"id\":\"1124\",\"type\":\"BasicTickFormatter\"},\"ticker\":{\"id\":\"1101\",\"type\":\"BasicTicker\"}},\"id\":\"1100\",\"type\":\"LinearAxis\"},{\"attributes\":{\"bottom_units\":\"screen\",\"fill_alpha\":{\"value\":0.5},\"fill_color\":{\"value\":\"lightgrey\"},\"left_units\":\"screen\",\"level\":\"overlay\",\"line_alpha\":{\"value\":1.0},\"line_color\":{\"value\":\"black\"},\"line_dash\":[4,4],\"line_width\":{\"value\":2},\"render_mode\":\"css\",\"right_units\":\"screen\",\"top_units\":\"screen\"},\"id\":\"1128\",\"type\":\"BoxAnnotation\"},{\"attributes\":{},\"id\":\"1101\",\"type\":\"BasicTicker\"},{\"attributes\":{\"items\":[{\"id\":\"1130\",\"type\":\"LegendItem\"}],\"location\":\"bottom_left\"},\"id\":\"1129\",\"type\":\"Legend\"},{\"attributes\":{\"dimension\":1,\"grid_line_alpha\":0.5,\"ticker\":{\"id\":\"1101\",\"type\":\"BasicTicker\"}},\"id\":\"1104\",\"type\":\"Grid\"},{\"attributes\":{\"label\":{\"value\":\"LDCs\"},\"renderers\":[{\"id\":\"1121\",\"type\":\"GlyphRenderer\"}]},\"id\":\"1130\",\"type\":\"LegendItem\"}],\"root_ids\":[\"1084\"]},\"title\":\"Bokeh Application\",\"version\":\"1.3.4\"}};\n",
       "  var render_items = [{\"docid\":\"a4f509bb-4606-4022-a0af-071d900d872b\",\"roots\":{\"1084\":\"77af85d9-3fd8-42d9-b7eb-ee99a5a1a3a8\"}}];\n",
       "  root.Bokeh.embed.embed_items_notebook(docs_json, render_items);\n",
       "\n",
       "  }\n",
       "  if (root.Bokeh !== undefined) {\n",
       "    embed_document(root);\n",
       "  } else {\n",
       "    var attempts = 0;\n",
       "    var timer = setInterval(function(root) {\n",
       "      if (root.Bokeh !== undefined) {\n",
       "        embed_document(root);\n",
       "        clearInterval(timer);\n",
       "      }\n",
       "      attempts++;\n",
       "      if (attempts > 100) {\n",
       "        console.log(\"Bokeh: ERROR: Unable to run BokehJS code because BokehJS library is missing\");\n",
       "        clearInterval(timer);\n",
       "      }\n",
       "    }, 10, root)\n",
       "  }\n",
       "})(window);"
      ],
      "application/vnd.bokehjs_exec.v0+json": ""
     },
     "metadata": {
      "application/vnd.bokehjs_exec.v0+json": {
       "id": "1084"
      }
     },
     "output_type": "display_data"
    }
   ],
   "source": [
    "years = list(map(str, list(range(1962,2018))))\n",
    "result = show_group_total(years, 'SP.POP.TOTL', ['LDCs'], line_width=3, height=400, width= 1000, marker_width=0)"
   ]
  },
  {
   "cell_type": "code",
   "execution_count": 5,
   "metadata": {
    "slideshow": {
     "slide_type": "skip"
    }
   },
   "outputs": [],
   "source": [
    "gr = []\n",
    "for i in range (0, len(result[0][1])):\n",
    "    gr.append((result[0][1][i]/result[0][1][i-1])-1)  "
   ]
  },
  {
   "cell_type": "code",
   "execution_count": 6,
   "metadata": {
    "slideshow": {
     "slide_type": "skip"
    }
   },
   "outputs": [
    {
     "name": "stdout",
     "output_type": "stream",
     "text": [
      "1963-2017 -> 0.7376189026422728\n",
      "1963-1982 -> 0.37209015351053276\n",
      "1982-2002 -> 0.40563803334539317\n",
      "2002-1967 -> 0.29695319392589503\n"
     ]
    }
   ],
   "source": [
    "print (result[0][0][1] + \"-\" + result[0][0][55] + \" -> \" + str(1-(result[0][1][1]/result[0][1][55])))\n",
    "print (result[0][0][1] + \"-\" + result[0][0][20] + \" -> \" + str(1-(result[0][1][1]/result[0][1][20])))\n",
    "print (result[0][0][20] + \"-\" + result[0][0][40] + \" -> \" + str(1-(result[0][1][20]/result[0][1][40])))\n",
    "print (result[0][0][40] + \"-\" + result[0][0][5] + \" -> \" + str(1-(result[0][1][40]/result[0][1][55])))"
   ]
  },
  {
   "cell_type": "markdown",
   "metadata": {
    "slideshow": {
     "slide_type": "slide"
    }
   },
   "source": [
    "# Growth rates\n",
    "\n",
    "1963-2017 -> 73%\n",
    "\n",
    "1963-1982 -> 37%\n",
    "\n",
    "1982-2002 -> 40%\n",
    "\n",
    "2002-2017 -> 29%"
   ]
  },
  {
   "cell_type": "code",
   "execution_count": 7,
   "metadata": {
    "scrolled": true,
    "slideshow": {
     "slide_type": "slide"
    }
   },
   "outputs": [
    {
     "data": {
      "text/html": [
       "\n",
       "\n",
       "\n",
       "\n",
       "\n",
       "\n",
       "  <div class=\"bk-root\" id=\"a09d9e45-dc03-44dc-af31-53552df4728e\" data-root-id=\"1215\"></div>\n"
      ]
     },
     "metadata": {},
     "output_type": "display_data"
    },
    {
     "data": {
      "application/javascript": [
       "(function(root) {\n",
       "  function embed_document(root) {\n",
       "    \n",
       "  var docs_json = {\"c034afd1-d006-4745-be92-6d6855c24cf0\":{\"roots\":{\"references\":[{\"attributes\":{\"below\":[{\"id\":\"1226\",\"type\":\"LinearAxis\"}],\"center\":[{\"id\":\"1230\",\"type\":\"Grid\"},{\"id\":\"1235\",\"type\":\"Grid\"},{\"id\":\"1260\",\"type\":\"Legend\"}],\"left\":[{\"id\":\"1231\",\"type\":\"LinearAxis\"}],\"plot_height\":400,\"plot_width\":1000,\"renderers\":[{\"id\":\"1252\",\"type\":\"GlyphRenderer\"},{\"id\":\"1265\",\"type\":\"GlyphRenderer\"},{\"id\":\"1270\",\"type\":\"GlyphRenderer\"},{\"id\":\"1286\",\"type\":\"GlyphRenderer\"},{\"id\":\"1291\",\"type\":\"GlyphRenderer\"},{\"id\":\"1311\",\"type\":\"GlyphRenderer\"}],\"title\":{\"id\":\"1216\",\"type\":\"Title\"},\"toolbar\":{\"id\":\"1242\",\"type\":\"Toolbar\"},\"x_range\":{\"id\":\"1218\",\"type\":\"DataRange1d\"},\"x_scale\":{\"id\":\"1222\",\"type\":\"LinearScale\"},\"y_range\":{\"id\":\"1220\",\"type\":\"DataRange1d\"},\"y_scale\":{\"id\":\"1224\",\"type\":\"LinearScale\"}},\"id\":\"1215\",\"subtype\":\"Figure\",\"type\":\"Plot\"},{\"attributes\":{},\"id\":\"1345\",\"type\":\"UnionRenderers\"},{\"attributes\":{\"source\":{\"id\":\"1283\",\"type\":\"ColumnDataSource\"}},\"id\":\"1287\",\"type\":\"CDSView\"},{\"attributes\":{\"fill_alpha\":{\"value\":0.1},\"fill_color\":{\"value\":\"#1f77b4\"},\"line_alpha\":{\"value\":0.1},\"line_color\":{\"value\":\"#1f77b4\"},\"size\":{\"units\":\"screen\",\"value\":1},\"x\":{\"field\":\"x\"},\"y\":{\"field\":\"y\"}},\"id\":\"1285\",\"type\":\"Circle\"},{\"attributes\":{\"line_alpha\":0.1,\"line_color\":\"#1f77b4\",\"line_width\":3,\"x\":{\"field\":\"x\"},\"y\":{\"field\":\"y\"}},\"id\":\"1269\",\"type\":\"Line\"},{\"attributes\":{\"overlay\":{\"id\":\"1259\",\"type\":\"BoxAnnotation\"}},\"id\":\"1238\",\"type\":\"BoxZoomTool\"},{\"attributes\":{\"fill_color\":{\"value\":\"#5430F1\"},\"line_color\":{\"value\":\"#5430F1\"},\"size\":{\"units\":\"screen\",\"value\":1},\"x\":{\"field\":\"x\"},\"y\":{\"field\":\"y\"}},\"id\":\"1284\",\"type\":\"Circle\"},{\"attributes\":{\"callback\":null,\"tooltips\":\"                \\n        <div style=padding=5px>Year:@x</div>\\n        <div style=padding=5px>Value:@y</div>        \\n        \"},\"id\":\"1313\",\"type\":\"HoverTool\"},{\"attributes\":{},\"id\":\"1257\",\"type\":\"BasicTickFormatter\"},{\"attributes\":{\"line_alpha\":0.1,\"line_color\":\"#1f77b4\",\"line_width\":3,\"x\":{\"field\":\"x\"},\"y\":{\"field\":\"y\"}},\"id\":\"1290\",\"type\":\"Line\"},{\"attributes\":{},\"id\":\"1348\",\"type\":\"Selection\"},{\"attributes\":{\"line_color\":\"#2CC775\",\"line_width\":3,\"x\":{\"field\":\"x\"},\"y\":{\"field\":\"y\"}},\"id\":\"1289\",\"type\":\"Line\"},{\"attributes\":{},\"id\":\"1239\",\"type\":\"SaveTool\"},{\"attributes\":{\"data_source\":{\"id\":\"1267\",\"type\":\"ColumnDataSource\"},\"glyph\":{\"id\":\"1268\",\"type\":\"Line\"},\"hover_glyph\":null,\"muted_glyph\":null,\"nonselection_glyph\":{\"id\":\"1269\",\"type\":\"Line\"},\"selection_glyph\":null,\"view\":{\"id\":\"1271\",\"type\":\"CDSView\"}},\"id\":\"1270\",\"type\":\"GlyphRenderer\"},{\"attributes\":{\"callback\":null,\"data\":{\"x\":[\"1962\",\"1963\",\"1964\",\"1965\",\"1966\",\"1967\",\"1968\",\"1969\",\"1970\",\"1971\",\"1972\",\"1973\",\"1974\",\"1975\",\"1976\",\"1977\",\"1978\",\"1979\",\"1980\",\"1981\",\"1982\",\"1983\",\"1984\",\"1985\",\"1986\",\"1987\",\"1988\",\"1989\",\"1990\",\"1991\",\"1992\",\"1993\",\"1994\",\"1995\",\"1996\",\"1997\",\"1998\",\"1999\",\"2000\",\"2001\",\"2002\",\"2003\",\"2004\",\"2005\",\"2006\",\"2007\",\"2008\",\"2009\",\"2010\",\"2011\",\"2012\",\"2013\",\"2014\",\"2015\",\"2016\",\"2017\"],\"y\":[2.286374546241369,2.318527218381726,2.362737528493902,2.4115069732019094,2.4645545711484367,2.504453543509315,2.512191780122156,2.4806660003501158,2.4262142064220487,2.3653362866203844,2.3200760153087203,2.298853347529284,2.3098964514187443,2.3441251527920213,2.3854697730184036,2.420100612152978,2.446033784992654,2.459453345789067,2.4669505638308333,2.476316224445003,2.491412095402728,2.5097648388859155,2.530904297879832,2.5534219377201035,2.5719055345705413,2.5877747784514167,2.6071009472530045,2.6319741231849165,2.659830745845953,2.693959889736783,2.719102311962264,2.714157199522733,2.67103094971321,2.607019852209139,2.538595950505795,2.48468153615558,2.452969015529532,2.4481606504950073,2.4605362239442816,2.4797931495868255,2.489792153868337,2.4824763086176094,2.4518808845037743,2.4076196290078777,2.360542239941488,2.323723087115377,2.3024094453683133,2.3010455242497385,2.3128659126824465,2.3266992480463013,2.3397184240072226,2.3448171148647408,2.343459596932034,2.33706688897366,2.329409894860727,2.3211985526426835]},\"selected\":{\"id\":\"1278\",\"type\":\"Selection\"},\"selection_policy\":{\"id\":\"1277\",\"type\":\"UnionRenderers\"}},\"id\":\"1249\",\"type\":\"ColumnDataSource\"},{\"attributes\":{},\"id\":\"1347\",\"type\":\"UnionRenderers\"},{\"attributes\":{\"callback\":null,\"data\":{\"x\":[\"1962\",\"1963\",\"1964\",\"1965\",\"1966\",\"1967\",\"1968\",\"1969\",\"1970\",\"1971\",\"1972\",\"1973\",\"1974\",\"1975\",\"1976\",\"1977\",\"1978\",\"1979\",\"1980\",\"1981\",\"1982\",\"1983\",\"1984\",\"1985\",\"1986\",\"1987\",\"1988\",\"1989\",\"1990\",\"1991\",\"1992\",\"1993\",\"1994\",\"1995\",\"1996\",\"1997\",\"1998\",\"1999\",\"2000\",\"2001\",\"2002\",\"2003\",\"2004\",\"2005\",\"2006\",\"2007\",\"2008\",\"2009\",\"2010\",\"2011\",\"2012\",\"2013\",\"2014\",\"2015\",\"2016\",\"2017\"],\"y\":[1.3554366100415884,1.3340911742524595,1.314236288868774,1.2587996724774217,1.1851707755905116,1.1272456790517988,1.0106016151218853,1.199883035139464,1.0722602047075347,1.1660709064968795,1.1249538038844438,1.0140275392883515,1.1195082254980173,1.05508284524113,0.9004225307954331,0.915098335675841,0.90972598282484,0.9170899183067438,0.897844075907325,0.8796869757260616,0.8312416022955058,0.7887388063325471,0.7479050324677085,0.7469665600503232,0.7687692025491105,0.756794105029075,0.7614220314861823,0.7999211657719725,0.8428821358925818,0.9015976008885606,0.8921392568876548,0.8429305959152359,0.7953669348724737,0.7766177723392309,0.7462178659541623,0.7369460098730288,0.7055281558576856,0.7046912817432563,0.687766613834093,0.7165781748152029,0.7222991988914922,0.7125445414465215,0.7116853100646184,0.7041290534872531,0.7308774051234026,0.7396983966784099,0.7704431012170118,0.7020391166581761,0.6499896423337479,0.5010345900600076,0.6145947197826909,0.6361048346767268,0.6591659962316119,0.6463311041635733,0.6504088384393314,0.5845348434731328]},\"selected\":{\"id\":\"1346\",\"type\":\"Selection\"},\"selection_policy\":{\"id\":\"1345\",\"type\":\"UnionRenderers\"}},\"id\":\"1288\",\"type\":\"ColumnDataSource\"},{\"attributes\":{\"line_color\":\"#5430F1\",\"line_width\":3,\"x\":{\"field\":\"x\"},\"y\":{\"field\":\"y\"}},\"id\":\"1268\",\"type\":\"Line\"},{\"attributes\":{},\"id\":\"1237\",\"type\":\"WheelZoomTool\"},{\"attributes\":{\"line_alpha\":0.1,\"line_color\":\"#1f77b4\",\"line_width\":3,\"x\":{\"field\":\"x\"},\"y\":{\"field\":\"y\"}},\"id\":\"1251\",\"type\":\"Line\"},{\"attributes\":{},\"id\":\"1240\",\"type\":\"ResetTool\"},{\"attributes\":{},\"id\":\"1302\",\"type\":\"UnionRenderers\"},{\"attributes\":{},\"id\":\"1236\",\"type\":\"PanTool\"},{\"attributes\":{},\"id\":\"1222\",\"type\":\"LinearScale\"},{\"attributes\":{\"callback\":null,\"data\":{\"x\":[\"1962\",\"1963\",\"1964\",\"1965\",\"1966\",\"1967\",\"1968\",\"1969\",\"1970\",\"1971\",\"1972\",\"1973\",\"1974\",\"1975\",\"1976\",\"1977\",\"1978\",\"1979\",\"1980\",\"1981\",\"1982\",\"1983\",\"1984\",\"1985\",\"1986\",\"1987\",\"1988\",\"1989\",\"1990\",\"1991\",\"1992\",\"1993\",\"1994\",\"1995\",\"1996\",\"1997\",\"1998\",\"1999\",\"2000\",\"2001\",\"2002\",\"2003\",\"2004\",\"2005\",\"2006\",\"2007\",\"2008\",\"2009\",\"2010\",\"2011\",\"2012\",\"2013\",\"2014\",\"2015\",\"2016\",\"2017\"],\"y\":[1.8248862061185476,2.4441465160187983,2.3947286038763287,2.4130348079694484,2.557553474528799,2.473716601818967,2.48464810999106,2.539055746281985,2.5571107315167168,2.5605017991232413,2.4560887927318604,2.3943070288403256,2.3081378915974224,2.1890707151565723,2.099957539383487,2.0257153200554185,2.014375852147049,2.017657211816398,1.9950362903826127,2.013183140722292,2.08155125497386,2.0609376830513244,1.9969841969992175,1.9896808853553218,2.007259461494107,2.0230969318327703,1.9979775156763622,1.9381931387468734,1.891526555039627,1.8289411829391427,1.7521496431648458,1.6971236395211298,1.6602690033069152,1.6200627199914381,1.5915545602739363,1.56559534517192,1.5240476772687839,1.4703522520189056,1.4284709251799304,1.3871444510344466,1.347820520925966,1.3235142067953654,1.291539227751766,1.2927592700683024,1.2789920177056144,1.2631318864042496,1.2566050545301795,1.2455220063229346,1.226235921966863,1.2163273086331117,1.1965996983573604,1.1873045989925284,1.1754398599289038,1.1573683976427818,1.1485195896511564,1.1315610485739276]},\"selected\":{\"id\":\"1305\",\"type\":\"Selection\"},\"selection_policy\":{\"id\":\"1304\",\"type\":\"UnionRenderers\"}},\"id\":\"1283\",\"type\":\"ColumnDataSource\"},{\"attributes\":{\"source\":{\"id\":\"1288\",\"type\":\"ColumnDataSource\"}},\"id\":\"1292\",\"type\":\"CDSView\"},{\"attributes\":{\"data_source\":{\"id\":\"1283\",\"type\":\"ColumnDataSource\"},\"glyph\":{\"id\":\"1284\",\"type\":\"Circle\"},\"hover_glyph\":null,\"muted_glyph\":null,\"nonselection_glyph\":{\"id\":\"1285\",\"type\":\"Circle\"},\"selection_glyph\":null,\"view\":{\"id\":\"1287\",\"type\":\"CDSView\"}},\"id\":\"1286\",\"type\":\"GlyphRenderer\"},{\"attributes\":{\"items\":[{\"id\":\"1261\",\"type\":\"LegendItem\"},{\"id\":\"1282\",\"type\":\"LegendItem\"},{\"id\":\"1307\",\"type\":\"LegendItem\"}],\"location\":\"bottom_left\"},\"id\":\"1260\",\"type\":\"Legend\"},{\"attributes\":{},\"id\":\"1224\",\"type\":\"LinearScale\"},{\"attributes\":{\"data_source\":{\"id\":\"1288\",\"type\":\"ColumnDataSource\"},\"glyph\":{\"id\":\"1289\",\"type\":\"Line\"},\"hover_glyph\":null,\"muted_glyph\":null,\"nonselection_glyph\":{\"id\":\"1290\",\"type\":\"Line\"},\"selection_glyph\":null,\"view\":{\"id\":\"1292\",\"type\":\"CDSView\"}},\"id\":\"1291\",\"type\":\"GlyphRenderer\"},{\"attributes\":{},\"id\":\"1241\",\"type\":\"HelpTool\"},{\"attributes\":{},\"id\":\"1280\",\"type\":\"Selection\"},{\"attributes\":{\"bottom_units\":\"screen\",\"fill_alpha\":{\"value\":0.5},\"fill_color\":{\"value\":\"lightgrey\"},\"left_units\":\"screen\",\"level\":\"overlay\",\"line_alpha\":{\"value\":1.0},\"line_color\":{\"value\":\"black\"},\"line_dash\":[4,4],\"line_width\":{\"value\":2},\"render_mode\":\"css\",\"right_units\":\"screen\",\"top_units\":\"screen\"},\"id\":\"1259\",\"type\":\"BoxAnnotation\"},{\"attributes\":{},\"id\":\"1305\",\"type\":\"Selection\"},{\"attributes\":{\"active_drag\":\"auto\",\"active_inspect\":\"auto\",\"active_multi\":null,\"active_scroll\":\"auto\",\"active_tap\":\"auto\",\"tools\":[{\"id\":\"1236\",\"type\":\"PanTool\"},{\"id\":\"1237\",\"type\":\"WheelZoomTool\"},{\"id\":\"1238\",\"type\":\"BoxZoomTool\"},{\"id\":\"1239\",\"type\":\"SaveTool\"},{\"id\":\"1240\",\"type\":\"ResetTool\"},{\"id\":\"1241\",\"type\":\"HelpTool\"},{\"id\":\"1313\",\"type\":\"HoverTool\"}]},\"id\":\"1242\",\"type\":\"Toolbar\"},{\"attributes\":{},\"id\":\"1304\",\"type\":\"UnionRenderers\"},{\"attributes\":{\"callback\":null,\"data\":{\"x\":[\"1962\",\"1963\",\"1964\",\"1965\",\"1966\",\"1967\",\"1968\",\"1969\",\"1970\",\"1971\",\"1972\",\"1973\",\"1974\",\"1975\",\"1976\",\"1977\",\"1978\",\"1979\",\"1980\",\"1981\",\"1982\",\"1983\",\"1984\",\"1985\",\"1986\",\"1987\",\"1988\",\"1989\",\"1990\",\"1991\",\"1992\",\"1993\",\"1994\",\"1995\",\"1996\",\"1997\",\"1998\",\"1999\",\"2000\",\"2001\",\"2002\",\"2003\",\"2004\",\"2005\",\"2006\",\"2007\",\"2008\",\"2009\",\"2010\",\"2011\",\"2012\",\"2013\",\"2014\",\"2015\",\"2016\",\"2017\"],\"y\":[1.8248862061185476,2.4441465160187983,2.3947286038763287,2.4130348079694484,2.557553474528799,2.473716601818967,2.48464810999106,2.539055746281985,2.5571107315167168,2.5605017991232413,2.4560887927318604,2.3943070288403256,2.3081378915974224,2.1890707151565723,2.099957539383487,2.0257153200554185,2.014375852147049,2.017657211816398,1.9950362903826127,2.013183140722292,2.08155125497386,2.0609376830513244,1.9969841969992175,1.9896808853553218,2.007259461494107,2.0230969318327703,1.9979775156763622,1.9381931387468734,1.891526555039627,1.8289411829391427,1.7521496431648458,1.6971236395211298,1.6602690033069152,1.6200627199914381,1.5915545602739363,1.56559534517192,1.5240476772687839,1.4703522520189056,1.4284709251799304,1.3871444510344466,1.347820520925966,1.3235142067953654,1.291539227751766,1.2927592700683024,1.2789920177056144,1.2631318864042496,1.2566050545301795,1.2455220063229346,1.226235921966863,1.2163273086331117,1.1965996983573604,1.1873045989925284,1.1754398599289038,1.1573683976427818,1.1485195896511564,1.1315610485739276]},\"selected\":{\"id\":\"1303\",\"type\":\"Selection\"},\"selection_policy\":{\"id\":\"1302\",\"type\":\"UnionRenderers\"}},\"id\":\"1267\",\"type\":\"ColumnDataSource\"},{\"attributes\":{\"callback\":null},\"id\":\"1220\",\"type\":\"DataRange1d\"},{\"attributes\":{\"callback\":null,\"data\":{\"x\":[\"1962\",\"1963\",\"1964\",\"1965\",\"1966\",\"1967\",\"1968\",\"1969\",\"1970\",\"1971\",\"1972\",\"1973\",\"1974\",\"1975\",\"1976\",\"1977\",\"1978\",\"1979\",\"1980\",\"1981\",\"1982\",\"1983\",\"1984\",\"1985\",\"1986\",\"1987\",\"1988\",\"1989\",\"1990\",\"1991\",\"1992\",\"1993\",\"1994\",\"1995\",\"1996\",\"1997\",\"1998\",\"1999\",\"2000\",\"2001\",\"2002\",\"2003\",\"2004\",\"2005\",\"2006\",\"2007\",\"2008\",\"2009\",\"2010\",\"2011\",\"2012\",\"2013\",\"2014\",\"2015\",\"2016\",\"2017\"],\"y\":[2.286374546241369,2.318527218381726,2.362737528493902,2.4115069732019094,2.4645545711484367,2.504453543509315,2.512191780122156,2.4806660003501158,2.4262142064220487,2.3653362866203844,2.3200760153087203,2.298853347529284,2.3098964514187443,2.3441251527920213,2.3854697730184036,2.420100612152978,2.446033784992654,2.459453345789067,2.4669505638308333,2.476316224445003,2.491412095402728,2.5097648388859155,2.530904297879832,2.5534219377201035,2.5719055345705413,2.5877747784514167,2.6071009472530045,2.6319741231849165,2.659830745845953,2.693959889736783,2.719102311962264,2.714157199522733,2.67103094971321,2.607019852209139,2.538595950505795,2.48468153615558,2.452969015529532,2.4481606504950073,2.4605362239442816,2.4797931495868255,2.489792153868337,2.4824763086176094,2.4518808845037743,2.4076196290078777,2.360542239941488,2.323723087115377,2.3024094453683133,2.3010455242497385,2.3128659126824465,2.3266992480463013,2.3397184240072226,2.3448171148647408,2.343459596932034,2.33706688897366,2.329409894860727,2.3211985526426835]},\"selected\":{\"id\":\"1280\",\"type\":\"Selection\"},\"selection_policy\":{\"id\":\"1279\",\"type\":\"UnionRenderers\"}},\"id\":\"1262\",\"type\":\"ColumnDataSource\"},{\"attributes\":{\"callback\":null,\"data\":{\"x\":[\"1962\",\"1963\",\"1964\",\"1965\",\"1966\",\"1967\",\"1968\",\"1969\",\"1970\",\"1971\",\"1972\",\"1973\",\"1974\",\"1975\",\"1976\",\"1977\",\"1978\",\"1979\",\"1980\",\"1981\",\"1982\",\"1983\",\"1984\",\"1985\",\"1986\",\"1987\",\"1988\",\"1989\",\"1990\",\"1991\",\"1992\",\"1993\",\"1994\",\"1995\",\"1996\",\"1997\",\"1998\",\"1999\",\"2000\",\"2001\",\"2002\",\"2003\",\"2004\",\"2005\",\"2006\",\"2007\",\"2008\",\"2009\",\"2010\",\"2011\",\"2012\",\"2013\",\"2014\",\"2015\",\"2016\",\"2017\"],\"y\":[1.3554366100415884,1.3340911742524595,1.314236288868774,1.2587996724774217,1.1851707755905116,1.1272456790517988,1.0106016151218853,1.199883035139464,1.0722602047075347,1.1660709064968795,1.1249538038844438,1.0140275392883515,1.1195082254980173,1.05508284524113,0.9004225307954331,0.915098335675841,0.90972598282484,0.9170899183067438,0.897844075907325,0.8796869757260616,0.8312416022955058,0.7887388063325471,0.7479050324677085,0.7469665600503232,0.7687692025491105,0.756794105029075,0.7614220314861823,0.7999211657719725,0.8428821358925818,0.9015976008885606,0.8921392568876548,0.8429305959152359,0.7953669348724737,0.7766177723392309,0.7462178659541623,0.7369460098730288,0.7055281558576856,0.7046912817432563,0.687766613834093,0.7165781748152029,0.7222991988914922,0.7125445414465215,0.7116853100646184,0.7041290534872531,0.7308774051234026,0.7396983966784099,0.7704431012170118,0.7020391166581761,0.6499896423337479,0.5010345900600076,0.6145947197826909,0.6361048346767268,0.6591659962316119,0.6463311041635733,0.6504088384393314,0.5845348434731328]},\"selected\":{\"id\":\"1348\",\"type\":\"Selection\"},\"selection_policy\":{\"id\":\"1347\",\"type\":\"UnionRenderers\"}},\"id\":\"1308\",\"type\":\"ColumnDataSource\"},{\"attributes\":{\"label\":{\"value\":\"Developing excluding LDCs\"},\"renderers\":[{\"id\":\"1270\",\"type\":\"GlyphRenderer\"}]},\"id\":\"1282\",\"type\":\"LegendItem\"},{\"attributes\":{},\"id\":\"1303\",\"type\":\"Selection\"},{\"attributes\":{},\"id\":\"1232\",\"type\":\"BasicTicker\"},{\"attributes\":{\"fill_alpha\":{\"value\":0.1},\"fill_color\":{\"value\":\"#1f77b4\"},\"line_alpha\":{\"value\":0.1},\"line_color\":{\"value\":\"#1f77b4\"},\"size\":{\"units\":\"screen\",\"value\":1},\"x\":{\"field\":\"x\"},\"y\":{\"field\":\"y\"}},\"id\":\"1264\",\"type\":\"Circle\"},{\"attributes\":{\"fill_color\":{\"value\":\"#FA1857\"},\"line_color\":{\"value\":\"#FA1857\"},\"size\":{\"units\":\"screen\",\"value\":1},\"x\":{\"field\":\"x\"},\"y\":{\"field\":\"y\"}},\"id\":\"1263\",\"type\":\"Circle\"},{\"attributes\":{\"fill_color\":{\"value\":\"#2CC775\"},\"line_color\":{\"value\":\"#2CC775\"},\"size\":{\"units\":\"screen\",\"value\":1},\"x\":{\"field\":\"x\"},\"y\":{\"field\":\"y\"}},\"id\":\"1309\",\"type\":\"Circle\"},{\"attributes\":{\"line_color\":\"#FA1857\",\"line_width\":3,\"x\":{\"field\":\"x\"},\"y\":{\"field\":\"y\"}},\"id\":\"1250\",\"type\":\"Line\"},{\"attributes\":{},\"id\":\"1346\",\"type\":\"Selection\"},{\"attributes\":{},\"id\":\"1279\",\"type\":\"UnionRenderers\"},{\"attributes\":{\"label\":{\"value\":\"LDCs\"},\"renderers\":[{\"id\":\"1252\",\"type\":\"GlyphRenderer\"}]},\"id\":\"1261\",\"type\":\"LegendItem\"},{\"attributes\":{\"data_source\":{\"id\":\"1249\",\"type\":\"ColumnDataSource\"},\"glyph\":{\"id\":\"1250\",\"type\":\"Line\"},\"hover_glyph\":null,\"muted_glyph\":null,\"nonselection_glyph\":{\"id\":\"1251\",\"type\":\"Line\"},\"selection_glyph\":null,\"view\":{\"id\":\"1253\",\"type\":\"CDSView\"}},\"id\":\"1252\",\"type\":\"GlyphRenderer\"},{\"attributes\":{\"dimension\":1,\"grid_line_alpha\":0.5,\"ticker\":{\"id\":\"1232\",\"type\":\"BasicTicker\"}},\"id\":\"1235\",\"type\":\"Grid\"},{\"attributes\":{\"label\":{\"value\":\"OECD\"},\"renderers\":[{\"id\":\"1291\",\"type\":\"GlyphRenderer\"}]},\"id\":\"1307\",\"type\":\"LegendItem\"},{\"attributes\":{\"grid_line_color\":null,\"ticker\":{\"id\":\"1227\",\"type\":\"BasicTicker\"}},\"id\":\"1230\",\"type\":\"Grid\"},{\"attributes\":{\"source\":{\"id\":\"1262\",\"type\":\"ColumnDataSource\"}},\"id\":\"1266\",\"type\":\"CDSView\"},{\"attributes\":{\"callback\":null},\"id\":\"1218\",\"type\":\"DataRange1d\"},{\"attributes\":{},\"id\":\"1227\",\"type\":\"BasicTicker\"},{\"attributes\":{},\"id\":\"1277\",\"type\":\"UnionRenderers\"},{\"attributes\":{\"source\":{\"id\":\"1308\",\"type\":\"ColumnDataSource\"}},\"id\":\"1312\",\"type\":\"CDSView\"},{\"attributes\":{\"source\":{\"id\":\"1267\",\"type\":\"ColumnDataSource\"}},\"id\":\"1271\",\"type\":\"CDSView\"},{\"attributes\":{\"axis_label\":\"SP.POP.GROW\",\"formatter\":{\"id\":\"1255\",\"type\":\"BasicTickFormatter\"},\"ticker\":{\"id\":\"1232\",\"type\":\"BasicTicker\"}},\"id\":\"1231\",\"type\":\"LinearAxis\"},{\"attributes\":{\"data_source\":{\"id\":\"1308\",\"type\":\"ColumnDataSource\"},\"glyph\":{\"id\":\"1309\",\"type\":\"Circle\"},\"hover_glyph\":null,\"muted_glyph\":null,\"nonselection_glyph\":{\"id\":\"1310\",\"type\":\"Circle\"},\"selection_glyph\":null,\"view\":{\"id\":\"1312\",\"type\":\"CDSView\"}},\"id\":\"1311\",\"type\":\"GlyphRenderer\"},{\"attributes\":{\"source\":{\"id\":\"1249\",\"type\":\"ColumnDataSource\"}},\"id\":\"1253\",\"type\":\"CDSView\"},{\"attributes\":{},\"id\":\"1278\",\"type\":\"Selection\"},{\"attributes\":{\"fill_alpha\":{\"value\":0.1},\"fill_color\":{\"value\":\"#1f77b4\"},\"line_alpha\":{\"value\":0.1},\"line_color\":{\"value\":\"#1f77b4\"},\"size\":{\"units\":\"screen\",\"value\":1},\"x\":{\"field\":\"x\"},\"y\":{\"field\":\"y\"}},\"id\":\"1310\",\"type\":\"Circle\"},{\"attributes\":{\"axis_label\":\"Years\",\"formatter\":{\"id\":\"1257\",\"type\":\"BasicTickFormatter\"},\"ticker\":{\"id\":\"1227\",\"type\":\"BasicTicker\"}},\"id\":\"1226\",\"type\":\"LinearAxis\"},{\"attributes\":{},\"id\":\"1255\",\"type\":\"BasicTickFormatter\"},{\"attributes\":{\"data_source\":{\"id\":\"1262\",\"type\":\"ColumnDataSource\"},\"glyph\":{\"id\":\"1263\",\"type\":\"Circle\"},\"hover_glyph\":null,\"muted_glyph\":null,\"nonselection_glyph\":{\"id\":\"1264\",\"type\":\"Circle\"},\"selection_glyph\":null,\"view\":{\"id\":\"1266\",\"type\":\"CDSView\"}},\"id\":\"1265\",\"type\":\"GlyphRenderer\"},{\"attributes\":{\"text\":\"Population growth (annual %) weighted against Population, total\"},\"id\":\"1216\",\"type\":\"Title\"}],\"root_ids\":[\"1215\"]},\"title\":\"Bokeh Application\",\"version\":\"1.3.4\"}};\n",
       "  var render_items = [{\"docid\":\"c034afd1-d006-4745-be92-6d6855c24cf0\",\"roots\":{\"1215\":\"a09d9e45-dc03-44dc-af31-53552df4728e\"}}];\n",
       "  root.Bokeh.embed.embed_items_notebook(docs_json, render_items);\n",
       "\n",
       "  }\n",
       "  if (root.Bokeh !== undefined) {\n",
       "    embed_document(root);\n",
       "  } else {\n",
       "    var attempts = 0;\n",
       "    var timer = setInterval(function(root) {\n",
       "      if (root.Bokeh !== undefined) {\n",
       "        embed_document(root);\n",
       "        clearInterval(timer);\n",
       "      }\n",
       "      attempts++;\n",
       "      if (attempts > 100) {\n",
       "        console.log(\"Bokeh: ERROR: Unable to run BokehJS code because BokehJS library is missing\");\n",
       "        clearInterval(timer);\n",
       "      }\n",
       "    }, 10, root)\n",
       "  }\n",
       "})(window);"
      ],
      "application/vnd.bokehjs_exec.v0+json": ""
     },
     "metadata": {
      "application/vnd.bokehjs_exec.v0+json": {
       "id": "1215"
      }
     },
     "output_type": "display_data"
    }
   ],
   "source": [
    "# Population growth\n",
    "result = show_weighted_average(years, 'SP.POP.GROW', 'SP.POP.TOTL', \n",
    "                               ['LDCs', 'Developing excluding LDCs', 'OECD'], \n",
    "                                height=400, width=1000, line_width=3)"
   ]
  },
  {
   "cell_type": "markdown",
   "metadata": {
    "slideshow": {
     "slide_type": "slide"
    }
   },
   "source": [
    "# Average population growth in the LDCs is almost double than for other developing countries"
   ]
  },
  {
   "cell_type": "code",
   "execution_count": 8,
   "metadata": {
    "slideshow": {
     "slide_type": "slide"
    }
   },
   "outputs": [
    {
     "data": {
      "text/html": [
       "\n",
       "\n",
       "\n",
       "\n",
       "\n",
       "\n",
       "  <div class=\"bk-root\" id=\"a9341750-ea0b-40d0-8cd7-23fb5ca77a31\" data-root-id=\"1458\"></div>\n"
      ]
     },
     "metadata": {},
     "output_type": "display_data"
    },
    {
     "data": {
      "application/javascript": [
       "(function(root) {\n",
       "  function embed_document(root) {\n",
       "    \n",
       "  var docs_json = {\"58be9e45-e568-4d33-a6db-a9d41a19dc94\":{\"roots\":{\"references\":[{\"attributes\":{\"below\":[{\"id\":\"1469\",\"type\":\"LinearAxis\"}],\"center\":[{\"id\":\"1473\",\"type\":\"Grid\"},{\"id\":\"1478\",\"type\":\"Grid\"},{\"id\":\"1503\",\"type\":\"Legend\"}],\"left\":[{\"id\":\"1474\",\"type\":\"LinearAxis\"}],\"plot_height\":400,\"plot_width\":1000,\"renderers\":[{\"id\":\"1495\",\"type\":\"GlyphRenderer\"},{\"id\":\"1508\",\"type\":\"GlyphRenderer\"},{\"id\":\"1513\",\"type\":\"GlyphRenderer\"},{\"id\":\"1529\",\"type\":\"GlyphRenderer\"},{\"id\":\"1534\",\"type\":\"GlyphRenderer\"},{\"id\":\"1554\",\"type\":\"GlyphRenderer\"}],\"title\":{\"id\":\"1459\",\"type\":\"Title\"},\"toolbar\":{\"id\":\"1485\",\"type\":\"Toolbar\"},\"x_range\":{\"id\":\"1461\",\"type\":\"DataRange1d\"},\"x_scale\":{\"id\":\"1465\",\"type\":\"LinearScale\"},\"y_range\":{\"id\":\"1463\",\"type\":\"DataRange1d\"},\"y_scale\":{\"id\":\"1467\",\"type\":\"LinearScale\"}},\"id\":\"1458\",\"subtype\":\"Figure\",\"type\":\"Plot\"},{\"attributes\":{\"data_source\":{\"id\":\"1510\",\"type\":\"ColumnDataSource\"},\"glyph\":{\"id\":\"1511\",\"type\":\"Line\"},\"hover_glyph\":null,\"muted_glyph\":null,\"nonselection_glyph\":{\"id\":\"1512\",\"type\":\"Line\"},\"selection_glyph\":null,\"view\":{\"id\":\"1514\",\"type\":\"CDSView\"}},\"id\":\"1513\",\"type\":\"GlyphRenderer\"},{\"attributes\":{\"items\":[{\"id\":\"1504\",\"type\":\"LegendItem\"},{\"id\":\"1525\",\"type\":\"LegendItem\"},{\"id\":\"1550\",\"type\":\"LegendItem\"}],\"location\":\"bottom_left\"},\"id\":\"1503\",\"type\":\"Legend\"},{\"attributes\":{\"data_source\":{\"id\":\"1551\",\"type\":\"ColumnDataSource\"},\"glyph\":{\"id\":\"1552\",\"type\":\"Circle\"},\"hover_glyph\":null,\"muted_glyph\":null,\"nonselection_glyph\":{\"id\":\"1553\",\"type\":\"Circle\"},\"selection_glyph\":null,\"view\":{\"id\":\"1555\",\"type\":\"CDSView\"}},\"id\":\"1554\",\"type\":\"GlyphRenderer\"},{\"attributes\":{\"callback\":null},\"id\":\"1461\",\"type\":\"DataRange1d\"},{\"attributes\":{\"bottom_units\":\"screen\",\"fill_alpha\":{\"value\":0.5},\"fill_color\":{\"value\":\"lightgrey\"},\"left_units\":\"screen\",\"level\":\"overlay\",\"line_alpha\":{\"value\":1.0},\"line_color\":{\"value\":\"black\"},\"line_dash\":[4,4],\"line_width\":{\"value\":2},\"render_mode\":\"css\",\"right_units\":\"screen\",\"top_units\":\"screen\"},\"id\":\"1502\",\"type\":\"BoxAnnotation\"},{\"attributes\":{\"fill_alpha\":{\"value\":0.1},\"fill_color\":{\"value\":\"#1f77b4\"},\"line_alpha\":{\"value\":0.1},\"line_color\":{\"value\":\"#1f77b4\"},\"size\":{\"units\":\"screen\",\"value\":1},\"x\":{\"field\":\"x\"},\"y\":{\"field\":\"y\"}},\"id\":\"1553\",\"type\":\"Circle\"},{\"attributes\":{\"line_color\":\"#5430F1\",\"line_width\":2,\"x\":{\"field\":\"x\"},\"y\":{\"field\":\"y\"}},\"id\":\"1511\",\"type\":\"Line\"},{\"attributes\":{},\"id\":\"1480\",\"type\":\"WheelZoomTool\"},{\"attributes\":{\"callback\":null,\"data\":{\"x\":[\"1970\",\"1971\",\"1972\",\"1973\",\"1974\",\"1975\",\"1976\",\"1977\",\"1978\",\"1979\",\"1980\",\"1981\",\"1982\",\"1983\",\"1984\",\"1985\",\"1986\",\"1987\",\"1988\",\"1989\",\"1990\",\"1991\",\"1992\",\"1993\",\"1994\",\"1995\",\"1996\",\"1997\",\"1998\",\"1999\",\"2000\",\"2001\",\"2002\",\"2003\",\"2004\",\"2005\",\"2006\",\"2007\",\"2008\",\"2009\",\"2010\",\"2011\",\"2012\",\"2013\",\"2014\",\"2015\",\"2016\"],\"y\":[1.9708658593606905,3.684984894094831,5.393537488740294,6.047565306102646,1.037079430634777,0.30511231926720417,4.90047121773208,3.803624497401075,4.457622339125099,3.9225516705022514,1.3073205982921066,2.231194883624438,0.11807402117538779,3.179800913000088,5.13557675252695,3.8834678570238896,3.1321446863588394,3.565913370159357,4.784468573857565,3.885551357314172,3.0858902716314973,1.5023307102368753,2.006477569857466,1.1186648061307904,3.023970889412698,2.738880201235089,3.019735197420786,3.407154369871777,2.8517755426639058,3.250401169768282,3.96578339531242,1.3389017882543195,1.530805075821244,2.003809153023252,3.1523786284378,2.7759068425936033,3.038993692550884,2.6003543420958644,0.2926102829452506,-3.475942066951403,2.9134969699961335,1.8126881437242326,1.347580599795485,1.4935732368653372,2.117249469316046,2.512564495187938,1.7438260767094502]},\"selected\":{\"id\":\"1609\",\"type\":\"Selection\"},\"selection_policy\":{\"id\":\"1608\",\"type\":\"UnionRenderers\"}},\"id\":\"1551\",\"type\":\"ColumnDataSource\"},{\"attributes\":{\"text\":\"GDP growth (annual %) weighted against GDP (current US$)\"},\"id\":\"1459\",\"type\":\"Title\"},{\"attributes\":{\"line_alpha\":0.1,\"line_color\":\"#1f77b4\",\"line_width\":2,\"x\":{\"field\":\"x\"},\"y\":{\"field\":\"y\"}},\"id\":\"1533\",\"type\":\"Line\"},{\"attributes\":{\"fill_color\":{\"value\":\"#2CC775\"},\"line_color\":{\"value\":\"#2CC775\"},\"size\":{\"units\":\"screen\",\"value\":1},\"x\":{\"field\":\"x\"},\"y\":{\"field\":\"y\"}},\"id\":\"1552\",\"type\":\"Circle\"},{\"attributes\":{},\"id\":\"1498\",\"type\":\"BasicTickFormatter\"},{\"attributes\":{\"callback\":null,\"data\":{\"x\":[\"1970\",\"1971\",\"1972\",\"1973\",\"1974\",\"1975\",\"1976\",\"1977\",\"1978\",\"1979\",\"1980\",\"1981\",\"1982\",\"1983\",\"1984\",\"1985\",\"1986\",\"1987\",\"1988\",\"1989\",\"1990\",\"1991\",\"1992\",\"1993\",\"1994\",\"1995\",\"1996\",\"1997\",\"1998\",\"1999\",\"2000\",\"2001\",\"2002\",\"2003\",\"2004\",\"2005\",\"2006\",\"2007\",\"2008\",\"2009\",\"2010\",\"2011\",\"2012\",\"2013\",\"2014\",\"2015\",\"2016\"],\"y\":[9.980984625932717,6.142086562249392,5.49524318968822,6.755019019705574,5.69739334641279,4.575246926898226,5.940246930695465,5.837392925117238,4.747010068078586,6.3794100759948815,6.679926868992973,2.2153366606622282,-0.1349784980871657,0.6775799522852956,4.863837478236739,3.964285597304646,5.151324181673996,4.642479767349732,4.996126976265806,3.8147392867079386,7.0404011674791755,4.2701600631461485,4.998896366999276,5.390288327882468,6.064226958452284,4.815344701036855,5.9316396430033285,5.367820154741937,3.151150083032216,3.1264569986451565,5.409329553821824,2.859379117494541,4.278655355939796,6.142560985170195,7.7364695106917445,6.968743861285385,7.790698287674111,8.031223551791909,5.636961202717234,3.579163526769731,8.00594539640993,6.7868136251031554,5.987251482073588,5.63288698354127,5.010709786506495,4.900996199546361,4.58986503216058]},\"selected\":{\"id\":\"1546\",\"type\":\"Selection\"},\"selection_policy\":{\"id\":\"1545\",\"type\":\"UnionRenderers\"}},\"id\":\"1510\",\"type\":\"ColumnDataSource\"},{\"attributes\":{},\"id\":\"1500\",\"type\":\"BasicTickFormatter\"},{\"attributes\":{\"source\":{\"id\":\"1492\",\"type\":\"ColumnDataSource\"}},\"id\":\"1496\",\"type\":\"CDSView\"},{\"attributes\":{},\"id\":\"1479\",\"type\":\"PanTool\"},{\"attributes\":{},\"id\":\"1521\",\"type\":\"Selection\"},{\"attributes\":{\"line_color\":\"#2CC775\",\"line_width\":2,\"x\":{\"field\":\"x\"},\"y\":{\"field\":\"y\"}},\"id\":\"1532\",\"type\":\"Line\"},{\"attributes\":{\"label\":{\"value\":\"OECD\"},\"renderers\":[{\"id\":\"1534\",\"type\":\"GlyphRenderer\"}]},\"id\":\"1550\",\"type\":\"LegendItem\"},{\"attributes\":{\"source\":{\"id\":\"1505\",\"type\":\"ColumnDataSource\"}},\"id\":\"1509\",\"type\":\"CDSView\"},{\"attributes\":{},\"id\":\"1609\",\"type\":\"Selection\"},{\"attributes\":{},\"id\":\"1548\",\"type\":\"Selection\"},{\"attributes\":{\"callback\":null,\"tooltips\":\"                \\n        <div style=padding=5px>Year:@x</div>\\n        <div style=padding=5px>Value:@y</div>        \\n        \"},\"id\":\"1556\",\"type\":\"HoverTool\"},{\"attributes\":{\"data_source\":{\"id\":\"1492\",\"type\":\"ColumnDataSource\"},\"glyph\":{\"id\":\"1493\",\"type\":\"Line\"},\"hover_glyph\":null,\"muted_glyph\":null,\"nonselection_glyph\":{\"id\":\"1494\",\"type\":\"Line\"},\"selection_glyph\":null,\"view\":{\"id\":\"1496\",\"type\":\"CDSView\"}},\"id\":\"1495\",\"type\":\"GlyphRenderer\"},{\"attributes\":{\"callback\":null,\"data\":{\"x\":[\"1970\",\"1971\",\"1972\",\"1973\",\"1974\",\"1975\",\"1976\",\"1977\",\"1978\",\"1979\",\"1980\",\"1981\",\"1982\",\"1983\",\"1984\",\"1985\",\"1986\",\"1987\",\"1988\",\"1989\",\"1990\",\"1991\",\"1992\",\"1993\",\"1994\",\"1995\",\"1996\",\"1997\",\"1998\",\"1999\",\"2000\",\"2001\",\"2002\",\"2003\",\"2004\",\"2005\",\"2006\",\"2007\",\"2008\",\"2009\",\"2010\",\"2011\",\"2012\",\"2013\",\"2014\",\"2015\",\"2016\"],\"y\":[1.9708658593606905,3.684984894094831,5.393537488740294,6.047565306102646,1.037079430634777,0.30511231926720417,4.90047121773208,3.803624497401075,4.457622339125099,3.9225516705022514,1.3073205982921066,2.231194883624438,0.11807402117538779,3.179800913000088,5.13557675252695,3.8834678570238896,3.1321446863588394,3.565913370159357,4.784468573857565,3.885551357314172,3.0858902716314973,1.5023307102368753,2.006477569857466,1.1186648061307904,3.023970889412698,2.738880201235089,3.019735197420786,3.407154369871777,2.8517755426639058,3.250401169768282,3.96578339531242,1.3389017882543195,1.530805075821244,2.003809153023252,3.1523786284378,2.7759068425936033,3.038993692550884,2.6003543420958644,0.2926102829452506,-3.475942066951403,2.9134969699961335,1.8126881437242326,1.347580599795485,1.4935732368653372,2.117249469316046,2.512564495187938,1.7438260767094502]},\"selected\":{\"id\":\"1607\",\"type\":\"Selection\"},\"selection_policy\":{\"id\":\"1606\",\"type\":\"UnionRenderers\"}},\"id\":\"1531\",\"type\":\"ColumnDataSource\"},{\"attributes\":{\"label\":{\"value\":\"LDCs\"},\"renderers\":[{\"id\":\"1495\",\"type\":\"GlyphRenderer\"}]},\"id\":\"1504\",\"type\":\"LegendItem\"},{\"attributes\":{\"active_drag\":\"auto\",\"active_inspect\":\"auto\",\"active_multi\":null,\"active_scroll\":\"auto\",\"active_tap\":\"auto\",\"tools\":[{\"id\":\"1479\",\"type\":\"PanTool\"},{\"id\":\"1480\",\"type\":\"WheelZoomTool\"},{\"id\":\"1481\",\"type\":\"BoxZoomTool\"},{\"id\":\"1482\",\"type\":\"SaveTool\"},{\"id\":\"1483\",\"type\":\"ResetTool\"},{\"id\":\"1484\",\"type\":\"HelpTool\"},{\"id\":\"1556\",\"type\":\"HoverTool\"}]},\"id\":\"1485\",\"type\":\"Toolbar\"},{\"attributes\":{},\"id\":\"1547\",\"type\":\"UnionRenderers\"},{\"attributes\":{\"data_source\":{\"id\":\"1505\",\"type\":\"ColumnDataSource\"},\"glyph\":{\"id\":\"1506\",\"type\":\"Circle\"},\"hover_glyph\":null,\"muted_glyph\":null,\"nonselection_glyph\":{\"id\":\"1507\",\"type\":\"Circle\"},\"selection_glyph\":null,\"view\":{\"id\":\"1509\",\"type\":\"CDSView\"}},\"id\":\"1508\",\"type\":\"GlyphRenderer\"},{\"attributes\":{\"line_alpha\":0.1,\"line_color\":\"#1f77b4\",\"line_width\":2,\"x\":{\"field\":\"x\"},\"y\":{\"field\":\"y\"}},\"id\":\"1494\",\"type\":\"Line\"},{\"attributes\":{},\"id\":\"1608\",\"type\":\"UnionRenderers\"},{\"attributes\":{},\"id\":\"1484\",\"type\":\"HelpTool\"},{\"attributes\":{},\"id\":\"1546\",\"type\":\"Selection\"},{\"attributes\":{\"source\":{\"id\":\"1526\",\"type\":\"ColumnDataSource\"}},\"id\":\"1530\",\"type\":\"CDSView\"},{\"attributes\":{},\"id\":\"1483\",\"type\":\"ResetTool\"},{\"attributes\":{},\"id\":\"1545\",\"type\":\"UnionRenderers\"},{\"attributes\":{\"callback\":null,\"data\":{\"x\":[\"1970\",\"1971\",\"1972\",\"1973\",\"1974\",\"1975\",\"1976\",\"1977\",\"1978\",\"1979\",\"1980\",\"1981\",\"1982\",\"1983\",\"1984\",\"1985\",\"1986\",\"1987\",\"1988\",\"1989\",\"1990\",\"1991\",\"1992\",\"1993\",\"1994\",\"1995\",\"1996\",\"1997\",\"1998\",\"1999\",\"2000\",\"2001\",\"2002\",\"2003\",\"2004\",\"2005\",\"2006\",\"2007\",\"2008\",\"2009\",\"2010\",\"2011\",\"2012\",\"2013\",\"2014\",\"2015\",\"2016\"],\"y\":[4.324289937914565,0.42360608796348387,-2.202032190166116,2.013673659496385,6.487946238259491,0.3132201242250357,4.787477594442745,2.7319815155627922,0.4520050614180213,2.111979073093675,1.163064248947674,3.7648080745291694,1.3834692663131323,1.6479123774393298,1.4149009460301931,0.8671757550385526,3.9296884018418528,5.862101462559562,2.929609121727588,2.7944943158361846,1.170192545954521,1.9282855452641556,0.40941781118541093,1.3156461346437436,1.1183077703131774,5.666972473781772,6.064918341025735,4.68929386808431,3.5009371502909974,4.318839922601917,3.7973936234836003,5.277223721229322,4.788670883078557,5.402403301512716,6.807366330677271,8.200702571122935,7.751551316335285,8.328847031953092,7.1924278498861645,4.766671300007055,6.252702054296805,3.860184274779867,5.402966544277843,5.816223272082946,5.409726719932504,3.9901864204329245,4.060111232618751]},\"selected\":{\"id\":\"1521\",\"type\":\"Selection\"},\"selection_policy\":{\"id\":\"1520\",\"type\":\"UnionRenderers\"}},\"id\":\"1492\",\"type\":\"ColumnDataSource\"},{\"attributes\":{\"fill_alpha\":{\"value\":0.1},\"fill_color\":{\"value\":\"#1f77b4\"},\"line_alpha\":{\"value\":0.1},\"line_color\":{\"value\":\"#1f77b4\"},\"size\":{\"units\":\"screen\",\"value\":1},\"x\":{\"field\":\"x\"},\"y\":{\"field\":\"y\"}},\"id\":\"1507\",\"type\":\"Circle\"},{\"attributes\":{},\"id\":\"1607\",\"type\":\"Selection\"},{\"attributes\":{\"source\":{\"id\":\"1551\",\"type\":\"ColumnDataSource\"}},\"id\":\"1555\",\"type\":\"CDSView\"},{\"attributes\":{\"source\":{\"id\":\"1531\",\"type\":\"ColumnDataSource\"}},\"id\":\"1535\",\"type\":\"CDSView\"},{\"attributes\":{},\"id\":\"1482\",\"type\":\"SaveTool\"},{\"attributes\":{\"data_source\":{\"id\":\"1526\",\"type\":\"ColumnDataSource\"},\"glyph\":{\"id\":\"1527\",\"type\":\"Circle\"},\"hover_glyph\":null,\"muted_glyph\":null,\"nonselection_glyph\":{\"id\":\"1528\",\"type\":\"Circle\"},\"selection_glyph\":null,\"view\":{\"id\":\"1530\",\"type\":\"CDSView\"}},\"id\":\"1529\",\"type\":\"GlyphRenderer\"},{\"attributes\":{\"data_source\":{\"id\":\"1531\",\"type\":\"ColumnDataSource\"},\"glyph\":{\"id\":\"1532\",\"type\":\"Line\"},\"hover_glyph\":null,\"muted_glyph\":null,\"nonselection_glyph\":{\"id\":\"1533\",\"type\":\"Line\"},\"selection_glyph\":null,\"view\":{\"id\":\"1535\",\"type\":\"CDSView\"}},\"id\":\"1534\",\"type\":\"GlyphRenderer\"},{\"attributes\":{\"overlay\":{\"id\":\"1502\",\"type\":\"BoxAnnotation\"}},\"id\":\"1481\",\"type\":\"BoxZoomTool\"},{\"attributes\":{\"line_color\":\"#FA1857\",\"line_width\":2,\"x\":{\"field\":\"x\"},\"y\":{\"field\":\"y\"}},\"id\":\"1493\",\"type\":\"Line\"},{\"attributes\":{\"fill_color\":{\"value\":\"#FA1857\"},\"line_color\":{\"value\":\"#FA1857\"},\"size\":{\"units\":\"screen\",\"value\":1},\"x\":{\"field\":\"x\"},\"y\":{\"field\":\"y\"}},\"id\":\"1506\",\"type\":\"Circle\"},{\"attributes\":{},\"id\":\"1522\",\"type\":\"UnionRenderers\"},{\"attributes\":{},\"id\":\"1606\",\"type\":\"UnionRenderers\"},{\"attributes\":{\"grid_line_color\":null,\"ticker\":{\"id\":\"1470\",\"type\":\"BasicTicker\"}},\"id\":\"1473\",\"type\":\"Grid\"},{\"attributes\":{},\"id\":\"1523\",\"type\":\"Selection\"},{\"attributes\":{\"axis_label\":\"Years\",\"formatter\":{\"id\":\"1500\",\"type\":\"BasicTickFormatter\"},\"ticker\":{\"id\":\"1470\",\"type\":\"BasicTicker\"}},\"id\":\"1469\",\"type\":\"LinearAxis\"},{\"attributes\":{\"fill_alpha\":{\"value\":0.1},\"fill_color\":{\"value\":\"#1f77b4\"},\"line_alpha\":{\"value\":0.1},\"line_color\":{\"value\":\"#1f77b4\"},\"size\":{\"units\":\"screen\",\"value\":1},\"x\":{\"field\":\"x\"},\"y\":{\"field\":\"y\"}},\"id\":\"1528\",\"type\":\"Circle\"},{\"attributes\":{\"label\":{\"value\":\"Developing excluding LDCs\"},\"renderers\":[{\"id\":\"1513\",\"type\":\"GlyphRenderer\"}]},\"id\":\"1525\",\"type\":\"LegendItem\"},{\"attributes\":{\"dimension\":1,\"grid_line_alpha\":0.5,\"ticker\":{\"id\":\"1475\",\"type\":\"BasicTicker\"}},\"id\":\"1478\",\"type\":\"Grid\"},{\"attributes\":{\"callback\":null,\"data\":{\"x\":[\"1970\",\"1971\",\"1972\",\"1973\",\"1974\",\"1975\",\"1976\",\"1977\",\"1978\",\"1979\",\"1980\",\"1981\",\"1982\",\"1983\",\"1984\",\"1985\",\"1986\",\"1987\",\"1988\",\"1989\",\"1990\",\"1991\",\"1992\",\"1993\",\"1994\",\"1995\",\"1996\",\"1997\",\"1998\",\"1999\",\"2000\",\"2001\",\"2002\",\"2003\",\"2004\",\"2005\",\"2006\",\"2007\",\"2008\",\"2009\",\"2010\",\"2011\",\"2012\",\"2013\",\"2014\",\"2015\",\"2016\"],\"y\":[4.324289937914565,0.42360608796348387,-2.202032190166116,2.013673659496385,6.487946238259491,0.3132201242250357,4.787477594442745,2.7319815155627922,0.4520050614180213,2.111979073093675,1.163064248947674,3.7648080745291694,1.3834692663131323,1.6479123774393298,1.4149009460301931,0.8671757550385526,3.9296884018418528,5.862101462559562,2.929609121727588,2.7944943158361846,1.170192545954521,1.9282855452641556,0.40941781118541093,1.3156461346437436,1.1183077703131774,5.666972473781772,6.064918341025735,4.68929386808431,3.5009371502909974,4.318839922601917,3.7973936234836003,5.277223721229322,4.788670883078557,5.402403301512716,6.807366330677271,8.200702571122935,7.751551316335285,8.328847031953092,7.1924278498861645,4.766671300007055,6.252702054296805,3.860184274779867,5.402966544277843,5.816223272082946,5.409726719932504,3.9901864204329245,4.060111232618751]},\"selected\":{\"id\":\"1523\",\"type\":\"Selection\"},\"selection_policy\":{\"id\":\"1522\",\"type\":\"UnionRenderers\"}},\"id\":\"1505\",\"type\":\"ColumnDataSource\"},{\"attributes\":{},\"id\":\"1470\",\"type\":\"BasicTicker\"},{\"attributes\":{\"source\":{\"id\":\"1510\",\"type\":\"ColumnDataSource\"}},\"id\":\"1514\",\"type\":\"CDSView\"},{\"attributes\":{\"fill_color\":{\"value\":\"#5430F1\"},\"line_color\":{\"value\":\"#5430F1\"},\"size\":{\"units\":\"screen\",\"value\":1},\"x\":{\"field\":\"x\"},\"y\":{\"field\":\"y\"}},\"id\":\"1527\",\"type\":\"Circle\"},{\"attributes\":{},\"id\":\"1475\",\"type\":\"BasicTicker\"},{\"attributes\":{\"callback\":null},\"id\":\"1463\",\"type\":\"DataRange1d\"},{\"attributes\":{},\"id\":\"1520\",\"type\":\"UnionRenderers\"},{\"attributes\":{},\"id\":\"1465\",\"type\":\"LinearScale\"},{\"attributes\":{\"callback\":null,\"data\":{\"x\":[\"1970\",\"1971\",\"1972\",\"1973\",\"1974\",\"1975\",\"1976\",\"1977\",\"1978\",\"1979\",\"1980\",\"1981\",\"1982\",\"1983\",\"1984\",\"1985\",\"1986\",\"1987\",\"1988\",\"1989\",\"1990\",\"1991\",\"1992\",\"1993\",\"1994\",\"1995\",\"1996\",\"1997\",\"1998\",\"1999\",\"2000\",\"2001\",\"2002\",\"2003\",\"2004\",\"2005\",\"2006\",\"2007\",\"2008\",\"2009\",\"2010\",\"2011\",\"2012\",\"2013\",\"2014\",\"2015\",\"2016\"],\"y\":[9.980984625932717,6.142086562249392,5.49524318968822,6.755019019705574,5.69739334641279,4.575246926898226,5.940246930695465,5.837392925117238,4.747010068078586,6.3794100759948815,6.679926868992973,2.2153366606622282,-0.1349784980871657,0.6775799522852956,4.863837478236739,3.964285597304646,5.151324181673996,4.642479767349732,4.996126976265806,3.8147392867079386,7.0404011674791755,4.2701600631461485,4.998896366999276,5.390288327882468,6.064226958452284,4.815344701036855,5.9316396430033285,5.367820154741937,3.151150083032216,3.1264569986451565,5.409329553821824,2.859379117494541,4.278655355939796,6.142560985170195,7.7364695106917445,6.968743861285385,7.790698287674111,8.031223551791909,5.636961202717234,3.579163526769731,8.00594539640993,6.7868136251031554,5.987251482073588,5.63288698354127,5.010709786506495,4.900996199546361,4.58986503216058]},\"selected\":{\"id\":\"1548\",\"type\":\"Selection\"},\"selection_policy\":{\"id\":\"1547\",\"type\":\"UnionRenderers\"}},\"id\":\"1526\",\"type\":\"ColumnDataSource\"},{\"attributes\":{},\"id\":\"1467\",\"type\":\"LinearScale\"},{\"attributes\":{\"axis_label\":\"NY.GDP.MKTP.KD.ZG\",\"formatter\":{\"id\":\"1498\",\"type\":\"BasicTickFormatter\"},\"ticker\":{\"id\":\"1475\",\"type\":\"BasicTicker\"}},\"id\":\"1474\",\"type\":\"LinearAxis\"},{\"attributes\":{\"line_alpha\":0.1,\"line_color\":\"#1f77b4\",\"line_width\":2,\"x\":{\"field\":\"x\"},\"y\":{\"field\":\"y\"}},\"id\":\"1512\",\"type\":\"Line\"}],\"root_ids\":[\"1458\"]},\"title\":\"Bokeh Application\",\"version\":\"1.3.4\"}};\n",
       "  var render_items = [{\"docid\":\"58be9e45-e568-4d33-a6db-a9d41a19dc94\",\"roots\":{\"1458\":\"a9341750-ea0b-40d0-8cd7-23fb5ca77a31\"}}];\n",
       "  root.Bokeh.embed.embed_items_notebook(docs_json, render_items);\n",
       "\n",
       "  }\n",
       "  if (root.Bokeh !== undefined) {\n",
       "    embed_document(root);\n",
       "  } else {\n",
       "    var attempts = 0;\n",
       "    var timer = setInterval(function(root) {\n",
       "      if (root.Bokeh !== undefined) {\n",
       "        embed_document(root);\n",
       "        clearInterval(timer);\n",
       "      }\n",
       "      attempts++;\n",
       "      if (attempts > 100) {\n",
       "        console.log(\"Bokeh: ERROR: Unable to run BokehJS code because BokehJS library is missing\");\n",
       "        clearInterval(timer);\n",
       "      }\n",
       "    }, 10, root)\n",
       "  }\n",
       "})(window);"
      ],
      "application/vnd.bokehjs_exec.v0+json": ""
     },
     "metadata": {
      "application/vnd.bokehjs_exec.v0+json": {
       "id": "1458"
      }
     },
     "output_type": "display_data"
    }
   ],
   "source": [
    "# GDP growth\n",
    "years = list(map(str, list(range(1970,2017))))\n",
    "result = show_weighted_average(years, 'NY.GDP.MKTP.KD.ZG', 'NY.GDP.MKTP.CD', \n",
    "                               ['LDCs', 'Developing excluding LDCs', 'OECD'], \n",
    "                                height=400, width=1000, line_width=2, marker_width = 4)"
   ]
  },
  {
   "cell_type": "markdown",
   "metadata": {
    "slideshow": {
     "slide_type": "slide"
    }
   },
   "source": [
    "# Economic and demographic growth are closely intertwined\n",
    "\n",
    "# Accelerating poverty erradication requires higher growth rates (The IPoA set a target of 7%)\n",
    "\n",
    "# Economic growth should facilitate the process of economic transformation and support poverty erradication"
   ]
  },
  {
   "cell_type": "code",
   "execution_count": 9,
   "metadata": {
    "ExecuteTime": {
     "end_time": "2019-10-25T14:23:48.553769Z",
     "start_time": "2019-10-25T14:23:47.482012Z"
    },
    "slideshow": {
     "slide_type": "slide"
    }
   },
   "outputs": [
    {
     "data": {
      "text/html": [
       "\n",
       "\n",
       "\n",
       "\n",
       "\n",
       "\n",
       "  <div class=\"bk-root\" id=\"2a75b371-3659-4cf9-a74b-9151ff76f601\" data-root-id=\"1719\"></div>\n"
      ]
     },
     "metadata": {},
     "output_type": "display_data"
    },
    {
     "data": {
      "application/javascript": [
       "(function(root) {\n",
       "  function embed_document(root) {\n",
       "    \n",
       "  var docs_json = {\"3a6ddfdb-ec6b-42ee-8aa8-feed087cbb1b\":{\"roots\":{\"references\":[{\"attributes\":{\"below\":[{\"id\":\"1730\",\"type\":\"LinearAxis\"}],\"center\":[{\"id\":\"1734\",\"type\":\"Grid\"},{\"id\":\"1739\",\"type\":\"Grid\"},{\"id\":\"1764\",\"type\":\"Legend\"}],\"left\":[{\"id\":\"1735\",\"type\":\"LinearAxis\"}],\"plot_height\":400,\"plot_width\":1000,\"renderers\":[{\"id\":\"1756\",\"type\":\"GlyphRenderer\"},{\"id\":\"1769\",\"type\":\"GlyphRenderer\"}],\"title\":{\"id\":\"1720\",\"type\":\"Title\"},\"toolbar\":{\"id\":\"1746\",\"type\":\"Toolbar\"},\"x_range\":{\"id\":\"1722\",\"type\":\"DataRange1d\"},\"x_scale\":{\"id\":\"1726\",\"type\":\"LinearScale\"},\"y_range\":{\"id\":\"1724\",\"type\":\"DataRange1d\"},\"y_scale\":{\"id\":\"1728\",\"type\":\"LinearScale\"}},\"id\":\"1719\",\"subtype\":\"Figure\",\"type\":\"Plot\"},{\"attributes\":{},\"id\":\"1740\",\"type\":\"PanTool\"},{\"attributes\":{},\"id\":\"1831\",\"type\":\"UnionRenderers\"},{\"attributes\":{},\"id\":\"1741\",\"type\":\"WheelZoomTool\"},{\"attributes\":{},\"id\":\"1743\",\"type\":\"SaveTool\"},{\"attributes\":{},\"id\":\"1744\",\"type\":\"ResetTool\"},{\"attributes\":{},\"id\":\"1736\",\"type\":\"BasicTicker\"},{\"attributes\":{\"line_color\":\"#FA1857\",\"line_width\":3,\"x\":{\"field\":\"x\"},\"y\":{\"field\":\"y\"}},\"id\":\"1754\",\"type\":\"Line\"},{\"attributes\":{},\"id\":\"1833\",\"type\":\"UnionRenderers\"},{\"attributes\":{\"source\":{\"id\":\"1766\",\"type\":\"ColumnDataSource\"}},\"id\":\"1770\",\"type\":\"CDSView\"},{\"attributes\":{\"active_drag\":\"auto\",\"active_inspect\":\"auto\",\"active_multi\":null,\"active_scroll\":\"auto\",\"active_tap\":\"auto\",\"tools\":[{\"id\":\"1740\",\"type\":\"PanTool\"},{\"id\":\"1741\",\"type\":\"WheelZoomTool\"},{\"id\":\"1742\",\"type\":\"BoxZoomTool\"},{\"id\":\"1743\",\"type\":\"SaveTool\"},{\"id\":\"1744\",\"type\":\"ResetTool\"},{\"id\":\"1745\",\"type\":\"HelpTool\"},{\"id\":\"1771\",\"type\":\"HoverTool\"}]},\"id\":\"1746\",\"type\":\"Toolbar\"},{\"attributes\":{\"dimension\":1,\"grid_line_alpha\":0.5,\"ticker\":{\"id\":\"1736\",\"type\":\"BasicTicker\"}},\"id\":\"1739\",\"type\":\"Grid\"},{\"attributes\":{\"fill_color\":{\"value\":\"#FA1857\"},\"line_color\":{\"value\":\"#FA1857\"},\"size\":{\"units\":\"screen\",\"value\":3},\"x\":{\"field\":\"x\"},\"y\":{\"field\":\"y\"}},\"id\":\"1767\",\"type\":\"Circle\"},{\"attributes\":{\"label\":{\"value\":\"LDCs\"},\"renderers\":[{\"id\":\"1756\",\"type\":\"GlyphRenderer\"}]},\"id\":\"1765\",\"type\":\"LegendItem\"},{\"attributes\":{},\"id\":\"1834\",\"type\":\"Selection\"},{\"attributes\":{},\"id\":\"1832\",\"type\":\"Selection\"},{\"attributes\":{\"items\":[{\"id\":\"1765\",\"type\":\"LegendItem\"}],\"location\":\"bottom_left\"},\"id\":\"1764\",\"type\":\"Legend\"},{\"attributes\":{\"axis_label\":\"Projected population, thousands\",\"formatter\":{\"id\":\"1759\",\"type\":\"BasicTickFormatter\"},\"ticker\":{\"id\":\"1736\",\"type\":\"BasicTicker\"}},\"id\":\"1735\",\"type\":\"LinearAxis\"},{\"attributes\":{\"callback\":null},\"id\":\"1722\",\"type\":\"DataRange1d\"},{\"attributes\":{\"fill_alpha\":{\"value\":0.1},\"fill_color\":{\"value\":\"#1f77b4\"},\"line_alpha\":{\"value\":0.1},\"line_color\":{\"value\":\"#1f77b4\"},\"size\":{\"units\":\"screen\",\"value\":3},\"x\":{\"field\":\"x\"},\"y\":{\"field\":\"y\"}},\"id\":\"1768\",\"type\":\"Circle\"},{\"attributes\":{\"line_alpha\":0.1,\"line_color\":\"#1f77b4\",\"line_width\":3,\"x\":{\"field\":\"x\"},\"y\":{\"field\":\"y\"}},\"id\":\"1755\",\"type\":\"Line\"},{\"attributes\":{\"callback\":null,\"data\":{\"x\":[2020,2025,2030,2035,2040,2045,2050,2055,2060,2065,2070,2075,2080,2085,2090,2095,2100],\"y\":[1057438.163,1182376.585,1313758.882,1450358.0589999997,1590723.5140000007,1733412.6489999997,1876797.781,2019337.702000001,2159628.188,2296253.5399999996,2427682.2370000007,2552545.8049999997,2669675.032999999,2778054.0900000003,2877186.7590000005,2966790.3559999997,3046778.7830000003]},\"selected\":{\"id\":\"1832\",\"type\":\"Selection\"},\"selection_policy\":{\"id\":\"1831\",\"type\":\"UnionRenderers\"}},\"id\":\"1753\",\"type\":\"ColumnDataSource\"},{\"attributes\":{\"callback\":null},\"id\":\"1724\",\"type\":\"DataRange1d\"},{\"attributes\":{\"source\":{\"id\":\"1753\",\"type\":\"ColumnDataSource\"}},\"id\":\"1757\",\"type\":\"CDSView\"},{\"attributes\":{\"bottom_units\":\"screen\",\"fill_alpha\":{\"value\":0.5},\"fill_color\":{\"value\":\"lightgrey\"},\"left_units\":\"screen\",\"level\":\"overlay\",\"line_alpha\":{\"value\":1.0},\"line_color\":{\"value\":\"black\"},\"line_dash\":[4,4],\"line_width\":{\"value\":2},\"render_mode\":\"css\",\"right_units\":\"screen\",\"top_units\":\"screen\"},\"id\":\"1763\",\"type\":\"BoxAnnotation\"},{\"attributes\":{},\"id\":\"1726\",\"type\":\"LinearScale\"},{\"attributes\":{},\"id\":\"1761\",\"type\":\"BasicTickFormatter\"},{\"attributes\":{\"overlay\":{\"id\":\"1763\",\"type\":\"BoxAnnotation\"}},\"id\":\"1742\",\"type\":\"BoxZoomTool\"},{\"attributes\":{},\"id\":\"1759\",\"type\":\"BasicTickFormatter\"},{\"attributes\":{\"data_source\":{\"id\":\"1766\",\"type\":\"ColumnDataSource\"},\"glyph\":{\"id\":\"1767\",\"type\":\"Circle\"},\"hover_glyph\":null,\"muted_glyph\":null,\"nonselection_glyph\":{\"id\":\"1768\",\"type\":\"Circle\"},\"selection_glyph\":null,\"view\":{\"id\":\"1770\",\"type\":\"CDSView\"}},\"id\":\"1769\",\"type\":\"GlyphRenderer\"},{\"attributes\":{\"axis_label\":\"Years\",\"formatter\":{\"id\":\"1761\",\"type\":\"BasicTickFormatter\"},\"ticker\":{\"id\":\"1731\",\"type\":\"BasicTicker\"}},\"id\":\"1730\",\"type\":\"LinearAxis\"},{\"attributes\":{},\"id\":\"1731\",\"type\":\"BasicTicker\"},{\"attributes\":{},\"id\":\"1745\",\"type\":\"HelpTool\"},{\"attributes\":{\"callback\":null,\"data\":{\"x\":[2020,2025,2030,2035,2040,2045,2050,2055,2060,2065,2070,2075,2080,2085,2090,2095,2100],\"y\":[1057438.163,1182376.585,1313758.882,1450358.0589999997,1590723.5140000007,1733412.6489999997,1876797.781,2019337.702000001,2159628.188,2296253.5399999996,2427682.2370000007,2552545.8049999997,2669675.032999999,2778054.0900000003,2877186.7590000005,2966790.3559999997,3046778.7830000003]},\"selected\":{\"id\":\"1834\",\"type\":\"Selection\"},\"selection_policy\":{\"id\":\"1833\",\"type\":\"UnionRenderers\"}},\"id\":\"1766\",\"type\":\"ColumnDataSource\"},{\"attributes\":{},\"id\":\"1728\",\"type\":\"LinearScale\"},{\"attributes\":{\"callback\":null,\"tooltips\":\"                \\n        <div style=padding=5px>Year:@x</div>\\n        <div style=padding=5px>Value:@y</div>        \\n        \"},\"id\":\"1771\",\"type\":\"HoverTool\"},{\"attributes\":{\"text\":\"Projected population, thousands\"},\"id\":\"1720\",\"type\":\"Title\"},{\"attributes\":{\"grid_line_color\":null,\"ticker\":{\"id\":\"1731\",\"type\":\"BasicTicker\"}},\"id\":\"1734\",\"type\":\"Grid\"},{\"attributes\":{\"data_source\":{\"id\":\"1753\",\"type\":\"ColumnDataSource\"},\"glyph\":{\"id\":\"1754\",\"type\":\"Line\"},\"hover_glyph\":null,\"muted_glyph\":null,\"nonselection_glyph\":{\"id\":\"1755\",\"type\":\"Line\"},\"selection_glyph\":null,\"view\":{\"id\":\"1757\",\"type\":\"CDSView\"}},\"id\":\"1756\",\"type\":\"GlyphRenderer\"}],\"root_ids\":[\"1719\"]},\"title\":\"Bokeh Application\",\"version\":\"1.3.4\"}};\n",
       "  var render_items = [{\"docid\":\"3a6ddfdb-ec6b-42ee-8aa8-feed087cbb1b\",\"roots\":{\"1719\":\"2a75b371-3659-4cf9-a74b-9151ff76f601\"}}];\n",
       "  root.Bokeh.embed.embed_items_notebook(docs_json, render_items);\n",
       "\n",
       "  }\n",
       "  if (root.Bokeh !== undefined) {\n",
       "    embed_document(root);\n",
       "  } else {\n",
       "    var attempts = 0;\n",
       "    var timer = setInterval(function(root) {\n",
       "      if (root.Bokeh !== undefined) {\n",
       "        embed_document(root);\n",
       "        clearInterval(timer);\n",
       "      }\n",
       "      attempts++;\n",
       "      if (attempts > 100) {\n",
       "        console.log(\"Bokeh: ERROR: Unable to run BokehJS code because BokehJS library is missing\");\n",
       "        clearInterval(timer);\n",
       "      }\n",
       "    }, 10, root)\n",
       "  }\n",
       "})(window);"
      ],
      "application/vnd.bokehjs_exec.v0+json": ""
     },
     "metadata": {
      "application/vnd.bokehjs_exec.v0+json": {
       "id": "1719"
      }
     },
     "output_type": "display_data"
    }
   ],
   "source": [
    "show(line_chart(gpp(['LDCs']), \"Projected population, thousands\", dataset='all',\n",
    "                x_axis_label='Years', y_axis_label='Projected population, thousands', \n",
    "                height=400, width=1000, line_width=3))"
   ]
  },
  {
   "cell_type": "code",
   "execution_count": 10,
   "metadata": {
    "slideshow": {
     "slide_type": "slide"
    }
   },
   "outputs": [
    {
     "data": {
      "text/html": [
       "\n",
       "\n",
       "\n",
       "\n",
       "\n",
       "\n",
       "  <div class=\"bk-root\" id=\"a0cebc9d-1690-4076-9010-202dc1c9a2cb\" data-root-id=\"1896\"></div>\n"
      ]
     },
     "metadata": {},
     "output_type": "display_data"
    },
    {
     "data": {
      "application/javascript": [
       "(function(root) {\n",
       "  function embed_document(root) {\n",
       "    \n",
       "  var docs_json = {\"810423de-5dde-401e-b8d1-3a8876ad57ca\":{\"roots\":{\"references\":[{\"attributes\":{\"below\":[{\"id\":\"1907\",\"type\":\"LinearAxis\"}],\"center\":[{\"id\":\"1911\",\"type\":\"Grid\"},{\"id\":\"1916\",\"type\":\"Grid\"},{\"id\":\"1941\",\"type\":\"Legend\"}],\"left\":[{\"id\":\"1912\",\"type\":\"LinearAxis\"}],\"plot_height\":400,\"plot_width\":1000,\"renderers\":[{\"id\":\"1933\",\"type\":\"GlyphRenderer\"},{\"id\":\"1946\",\"type\":\"GlyphRenderer\"},{\"id\":\"1951\",\"type\":\"GlyphRenderer\"},{\"id\":\"1967\",\"type\":\"GlyphRenderer\"}],\"title\":{\"id\":\"1897\",\"type\":\"Title\"},\"toolbar\":{\"id\":\"1923\",\"type\":\"Toolbar\"},\"x_range\":{\"id\":\"1899\",\"type\":\"DataRange1d\"},\"x_scale\":{\"id\":\"1903\",\"type\":\"LinearScale\"},\"y_range\":{\"id\":\"1901\",\"type\":\"DataRange1d\"},\"y_scale\":{\"id\":\"1905\",\"type\":\"LinearScale\"}},\"id\":\"1896\",\"subtype\":\"Figure\",\"type\":\"Plot\"},{\"attributes\":{},\"id\":\"1959\",\"type\":\"Selection\"},{\"attributes\":{\"data_source\":{\"id\":\"1930\",\"type\":\"ColumnDataSource\"},\"glyph\":{\"id\":\"1931\",\"type\":\"Line\"},\"hover_glyph\":null,\"muted_glyph\":null,\"nonselection_glyph\":{\"id\":\"1932\",\"type\":\"Line\"},\"selection_glyph\":null,\"view\":{\"id\":\"1934\",\"type\":\"CDSView\"}},\"id\":\"1933\",\"type\":\"GlyphRenderer\"},{\"attributes\":{\"line_alpha\":0.1,\"line_color\":\"#1f77b4\",\"line_width\":4,\"x\":{\"field\":\"x\"},\"y\":{\"field\":\"y\"}},\"id\":\"1932\",\"type\":\"Line\"},{\"attributes\":{\"active_drag\":\"auto\",\"active_inspect\":\"auto\",\"active_multi\":null,\"active_scroll\":\"auto\",\"active_tap\":\"auto\",\"tools\":[{\"id\":\"1917\",\"type\":\"PanTool\"},{\"id\":\"1918\",\"type\":\"WheelZoomTool\"},{\"id\":\"1919\",\"type\":\"BoxZoomTool\"},{\"id\":\"1920\",\"type\":\"SaveTool\"},{\"id\":\"1921\",\"type\":\"ResetTool\"},{\"id\":\"1922\",\"type\":\"HelpTool\"},{\"id\":\"1969\",\"type\":\"HoverTool\"}]},\"id\":\"1923\",\"type\":\"Toolbar\"},{\"attributes\":{},\"id\":\"1960\",\"type\":\"UnionRenderers\"},{\"attributes\":{\"source\":{\"id\":\"1930\",\"type\":\"ColumnDataSource\"}},\"id\":\"1934\",\"type\":\"CDSView\"},{\"attributes\":{\"callback\":null,\"tooltips\":\"                \\n        <div style=padding=5px>Year:@x</div>\\n        <div style=padding=5px>Value:@y</div>        \\n        \"},\"id\":\"1969\",\"type\":\"HoverTool\"},{\"attributes\":{},\"id\":\"1961\",\"type\":\"Selection\"},{\"attributes\":{},\"id\":\"1936\",\"type\":\"BasicTickFormatter\"},{\"attributes\":{\"label\":{\"value\":\"Developing excluding LDCs\"},\"renderers\":[{\"id\":\"1951\",\"type\":\"GlyphRenderer\"}]},\"id\":\"1963\",\"type\":\"LegendItem\"},{\"attributes\":{},\"id\":\"1938\",\"type\":\"BasicTickFormatter\"},{\"attributes\":{\"callback\":null,\"data\":{\"x\":[2025,2030,2035,2040,2045,2050,2055,2060,2065,2070,2075,2080,2085,2090,2095,2100],\"y\":[2042563.6190000004,2042987.3229999996,2030948.397,2009087.2360000003,1983909.0610000002,1960819.4249999986,1937764.0890000002,1911041.9990000005,1881222.3620000002,1848204.0030000003,1813687.5220000003,1778408.793999999,1742707.0599999994,1706259.0559999992,1669257.7220000003,1631586.4350000005]},\"selected\":{\"id\":\"2046\",\"type\":\"Selection\"},\"selection_policy\":{\"id\":\"2045\",\"type\":\"UnionRenderers\"}},\"id\":\"1964\",\"type\":\"ColumnDataSource\"},{\"attributes\":{\"bottom_units\":\"screen\",\"fill_alpha\":{\"value\":0.5},\"fill_color\":{\"value\":\"lightgrey\"},\"left_units\":\"screen\",\"level\":\"overlay\",\"line_alpha\":{\"value\":1.0},\"line_color\":{\"value\":\"black\"},\"line_dash\":[4,4],\"line_width\":{\"value\":2},\"render_mode\":\"css\",\"right_units\":\"screen\",\"top_units\":\"screen\"},\"id\":\"1940\",\"type\":\"BoxAnnotation\"},{\"attributes\":{\"fill_color\":{\"value\":\"#5430F1\"},\"line_color\":{\"value\":\"#5430F1\"},\"size\":{\"units\":\"screen\",\"value\":3},\"x\":{\"field\":\"x\"},\"y\":{\"field\":\"y\"}},\"id\":\"1965\",\"type\":\"Circle\"},{\"attributes\":{\"items\":[{\"id\":\"1942\",\"type\":\"LegendItem\"},{\"id\":\"1963\",\"type\":\"LegendItem\"}],\"location\":\"bottom_left\"},\"id\":\"1941\",\"type\":\"Legend\"},{\"attributes\":{\"fill_alpha\":{\"value\":0.1},\"fill_color\":{\"value\":\"#1f77b4\"},\"line_alpha\":{\"value\":0.1},\"line_color\":{\"value\":\"#1f77b4\"},\"size\":{\"units\":\"screen\",\"value\":3},\"x\":{\"field\":\"x\"},\"y\":{\"field\":\"y\"}},\"id\":\"1966\",\"type\":\"Circle\"},{\"attributes\":{\"label\":{\"value\":\"LDCs\"},\"renderers\":[{\"id\":\"1933\",\"type\":\"GlyphRenderer\"}]},\"id\":\"1942\",\"type\":\"LegendItem\"},{\"attributes\":{\"callback\":null},\"id\":\"1899\",\"type\":\"DataRange1d\"},{\"attributes\":{\"data_source\":{\"id\":\"1964\",\"type\":\"ColumnDataSource\"},\"glyph\":{\"id\":\"1965\",\"type\":\"Circle\"},\"hover_glyph\":null,\"muted_glyph\":null,\"nonselection_glyph\":{\"id\":\"1966\",\"type\":\"Circle\"},\"selection_glyph\":null,\"view\":{\"id\":\"1968\",\"type\":\"CDSView\"}},\"id\":\"1967\",\"type\":\"GlyphRenderer\"},{\"attributes\":{\"callback\":null,\"data\":{\"x\":[2025,2030,2035,2040,2045,2050,2055,2060,2065,2070,2075,2080,2085,2090,2095,2100],\"y\":[675001.29,726540.356,775991.2950000003,822982.5320000001,866849.0980000001,906694.7520000001,942231.1660000001,973538.734,1000876.354,1023972.5529999998,1042835.4999999999,1057450.079,1067694.3459999997,1073671.2289999998,1075700.2040000001,1074115.0160000003]},\"selected\":{\"id\":\"1961\",\"type\":\"Selection\"},\"selection_policy\":{\"id\":\"1960\",\"type\":\"UnionRenderers\"}},\"id\":\"1943\",\"type\":\"ColumnDataSource\"},{\"attributes\":{\"callback\":null},\"id\":\"1901\",\"type\":\"DataRange1d\"},{\"attributes\":{\"source\":{\"id\":\"1964\",\"type\":\"ColumnDataSource\"}},\"id\":\"1968\",\"type\":\"CDSView\"},{\"attributes\":{\"fill_color\":{\"value\":\"#FA1857\"},\"line_color\":{\"value\":\"#FA1857\"},\"size\":{\"units\":\"screen\",\"value\":3},\"x\":{\"field\":\"x\"},\"y\":{\"field\":\"y\"}},\"id\":\"1944\",\"type\":\"Circle\"},{\"attributes\":{\"dimension\":1,\"grid_line_alpha\":0.5,\"ticker\":{\"id\":\"1913\",\"type\":\"BasicTicker\"}},\"id\":\"1916\",\"type\":\"Grid\"},{\"attributes\":{\"fill_alpha\":{\"value\":0.1},\"fill_color\":{\"value\":\"#1f77b4\"},\"line_alpha\":{\"value\":0.1},\"line_color\":{\"value\":\"#1f77b4\"},\"size\":{\"units\":\"screen\",\"value\":3},\"x\":{\"field\":\"x\"},\"y\":{\"field\":\"y\"}},\"id\":\"1945\",\"type\":\"Circle\"},{\"attributes\":{\"text\":\"Projected population, thousands\"},\"id\":\"1897\",\"type\":\"Title\"},{\"attributes\":{},\"id\":\"1903\",\"type\":\"LinearScale\"},{\"attributes\":{},\"id\":\"2043\",\"type\":\"UnionRenderers\"},{\"attributes\":{\"data_source\":{\"id\":\"1943\",\"type\":\"ColumnDataSource\"},\"glyph\":{\"id\":\"1944\",\"type\":\"Circle\"},\"hover_glyph\":null,\"muted_glyph\":null,\"nonselection_glyph\":{\"id\":\"1945\",\"type\":\"Circle\"},\"selection_glyph\":null,\"view\":{\"id\":\"1947\",\"type\":\"CDSView\"}},\"id\":\"1946\",\"type\":\"GlyphRenderer\"},{\"attributes\":{},\"id\":\"1905\",\"type\":\"LinearScale\"},{\"attributes\":{\"line_color\":\"#FA1857\",\"line_width\":4,\"x\":{\"field\":\"x\"},\"y\":{\"field\":\"y\"}},\"id\":\"1931\",\"type\":\"Line\"},{\"attributes\":{\"axis_label\":\"Years\",\"formatter\":{\"id\":\"1938\",\"type\":\"BasicTickFormatter\"},\"ticker\":{\"id\":\"1908\",\"type\":\"BasicTicker\"}},\"id\":\"1907\",\"type\":\"LinearAxis\"},{\"attributes\":{},\"id\":\"2044\",\"type\":\"Selection\"},{\"attributes\":{\"source\":{\"id\":\"1943\",\"type\":\"ColumnDataSource\"}},\"id\":\"1947\",\"type\":\"CDSView\"},{\"attributes\":{\"callback\":null,\"data\":{\"x\":[2025,2030,2035,2040,2045,2050,2055,2060,2065,2070,2075,2080,2085,2090,2095,2100],\"y\":[675001.29,726540.356,775991.2950000003,822982.5320000001,866849.0980000001,906694.7520000001,942231.1660000001,973538.734,1000876.354,1023972.5529999998,1042835.4999999999,1057450.079,1067694.3459999997,1073671.2289999998,1075700.2040000001,1074115.0160000003]},\"selected\":{\"id\":\"1959\",\"type\":\"Selection\"},\"selection_policy\":{\"id\":\"1958\",\"type\":\"UnionRenderers\"}},\"id\":\"1930\",\"type\":\"ColumnDataSource\"},{\"attributes\":{},\"id\":\"2045\",\"type\":\"UnionRenderers\"},{\"attributes\":{\"callback\":null,\"data\":{\"x\":[2025,2030,2035,2040,2045,2050,2055,2060,2065,2070,2075,2080,2085,2090,2095,2100],\"y\":[2042563.6190000004,2042987.3229999996,2030948.397,2009087.2360000003,1983909.0610000002,1960819.4249999986,1937764.0890000002,1911041.9990000005,1881222.3620000002,1848204.0030000003,1813687.5220000003,1778408.793999999,1742707.0599999994,1706259.0559999992,1669257.7220000003,1631586.4350000005]},\"selected\":{\"id\":\"2044\",\"type\":\"Selection\"},\"selection_policy\":{\"id\":\"2043\",\"type\":\"UnionRenderers\"}},\"id\":\"1948\",\"type\":\"ColumnDataSource\"},{\"attributes\":{},\"id\":\"1908\",\"type\":\"BasicTicker\"},{\"attributes\":{},\"id\":\"1917\",\"type\":\"PanTool\"},{\"attributes\":{},\"id\":\"2046\",\"type\":\"Selection\"},{\"attributes\":{\"line_color\":\"#5430F1\",\"line_width\":4,\"x\":{\"field\":\"x\"},\"y\":{\"field\":\"y\"}},\"id\":\"1949\",\"type\":\"Line\"},{\"attributes\":{},\"id\":\"1918\",\"type\":\"WheelZoomTool\"},{\"attributes\":{\"line_alpha\":0.1,\"line_color\":\"#1f77b4\",\"line_width\":4,\"x\":{\"field\":\"x\"},\"y\":{\"field\":\"y\"}},\"id\":\"1950\",\"type\":\"Line\"},{\"attributes\":{},\"id\":\"1913\",\"type\":\"BasicTicker\"},{\"attributes\":{\"overlay\":{\"id\":\"1940\",\"type\":\"BoxAnnotation\"}},\"id\":\"1919\",\"type\":\"BoxZoomTool\"},{\"attributes\":{\"data_source\":{\"id\":\"1948\",\"type\":\"ColumnDataSource\"},\"glyph\":{\"id\":\"1949\",\"type\":\"Line\"},\"hover_glyph\":null,\"muted_glyph\":null,\"nonselection_glyph\":{\"id\":\"1950\",\"type\":\"Line\"},\"selection_glyph\":null,\"view\":{\"id\":\"1952\",\"type\":\"CDSView\"}},\"id\":\"1951\",\"type\":\"GlyphRenderer\"},{\"attributes\":{},\"id\":\"1920\",\"type\":\"SaveTool\"},{\"attributes\":{\"source\":{\"id\":\"1948\",\"type\":\"ColumnDataSource\"}},\"id\":\"1952\",\"type\":\"CDSView\"},{\"attributes\":{\"axis_label\":\"Projected population, 0-24, thousands\",\"formatter\":{\"id\":\"1936\",\"type\":\"BasicTickFormatter\"},\"ticker\":{\"id\":\"1913\",\"type\":\"BasicTicker\"}},\"id\":\"1912\",\"type\":\"LinearAxis\"},{\"attributes\":{},\"id\":\"1921\",\"type\":\"ResetTool\"},{\"attributes\":{\"grid_line_color\":null,\"ticker\":{\"id\":\"1908\",\"type\":\"BasicTicker\"}},\"id\":\"1911\",\"type\":\"Grid\"},{\"attributes\":{},\"id\":\"1958\",\"type\":\"UnionRenderers\"},{\"attributes\":{},\"id\":\"1922\",\"type\":\"HelpTool\"}],\"root_ids\":[\"1896\"]},\"title\":\"Bokeh Application\",\"version\":\"1.3.4\"}};\n",
       "  var render_items = [{\"docid\":\"810423de-5dde-401e-b8d1-3a8876ad57ca\",\"roots\":{\"1896\":\"a0cebc9d-1690-4076-9010-202dc1c9a2cb\"}}];\n",
       "  root.Bokeh.embed.embed_items_notebook(docs_json, render_items);\n",
       "\n",
       "  }\n",
       "  if (root.Bokeh !== undefined) {\n",
       "    embed_document(root);\n",
       "  } else {\n",
       "    var attempts = 0;\n",
       "    var timer = setInterval(function(root) {\n",
       "      if (root.Bokeh !== undefined) {\n",
       "        embed_document(root);\n",
       "        clearInterval(timer);\n",
       "      }\n",
       "      attempts++;\n",
       "      if (attempts > 100) {\n",
       "        console.log(\"Bokeh: ERROR: Unable to run BokehJS code because BokehJS library is missing\");\n",
       "        clearInterval(timer);\n",
       "      }\n",
       "    }, 10, root)\n",
       "  }\n",
       "})(window);"
      ],
      "application/vnd.bokehjs_exec.v0+json": ""
     },
     "metadata": {
      "application/vnd.bokehjs_exec.v0+json": {
       "id": "1896"
      }
     },
     "output_type": "display_data"
    }
   ],
   "source": [
    "show(line_chart(sources.unpd.indicators.get_projection_by_groups(['LDCs', 'Developing excluding LDCs'], \n",
    "                                                                 dataset='0-24'), \"Projected population, thousands\", x_axis_label='Years', y_axis_label='Projected population, 0-24, thousands', height=400, width=1000, line_width=4))"
   ]
  },
  {
   "cell_type": "code",
   "execution_count": 11,
   "metadata": {
    "ExecuteTime": {
     "end_time": "2019-10-25T14:24:54.398684Z",
     "start_time": "2019-10-25T14:24:52.791475Z"
    },
    "slideshow": {
     "slide_type": "slide"
    }
   },
   "outputs": [
    {
     "data": {
      "text/html": [
       "\n",
       "\n",
       "\n",
       "\n",
       "\n",
       "\n",
       "  <div class=\"bk-root\" id=\"dea7f0b4-1b47-4a53-b8ee-64e4847fc672\" data-root-id=\"2132\"></div>\n"
      ]
     },
     "metadata": {},
     "output_type": "display_data"
    },
    {
     "data": {
      "application/javascript": [
       "(function(root) {\n",
       "  function embed_document(root) {\n",
       "    \n",
       "  var docs_json = {\"48bd2db1-8941-4ff4-82f2-809cba8e0d14\":{\"roots\":{\"references\":[{\"attributes\":{\"below\":[{\"id\":\"2143\",\"type\":\"LinearAxis\"}],\"center\":[{\"id\":\"2147\",\"type\":\"Grid\"},{\"id\":\"2152\",\"type\":\"Grid\"},{\"id\":\"2177\",\"type\":\"Legend\"}],\"left\":[{\"id\":\"2148\",\"type\":\"LinearAxis\"}],\"plot_height\":400,\"plot_width\":900,\"renderers\":[{\"id\":\"2169\",\"type\":\"GlyphRenderer\"},{\"id\":\"2182\",\"type\":\"GlyphRenderer\"},{\"id\":\"2187\",\"type\":\"GlyphRenderer\"},{\"id\":\"2203\",\"type\":\"GlyphRenderer\"},{\"id\":\"2208\",\"type\":\"GlyphRenderer\"},{\"id\":\"2228\",\"type\":\"GlyphRenderer\"}],\"title\":{\"id\":\"2133\",\"type\":\"Title\"},\"toolbar\":{\"id\":\"2159\",\"type\":\"Toolbar\"},\"x_range\":{\"id\":\"2135\",\"type\":\"DataRange1d\"},\"x_scale\":{\"id\":\"2139\",\"type\":\"LinearScale\"},\"y_range\":{\"id\":\"2137\",\"type\":\"DataRange1d\"},\"y_scale\":{\"id\":\"2141\",\"type\":\"LinearScale\"}},\"id\":\"2132\",\"subtype\":\"Figure\",\"type\":\"Plot\"},{\"attributes\":{\"callback\":null,\"data\":{\"x\":[2020,2025,2030,2035,2040,2045,2050,2055,2060,2065,2070,2075,2080,2085,2090,2095,2100],\"y\":[912306.7240000002,924199.783,933262.5580000001,940475.6150000001,944668.037,945929.6540000001,944372.924,940125.755,933542.0040000002,925493.626,916927.8789999998,908413.484,900272.8359999999,892459.4159999999,884981.163,877749.1270000001,870615.133]},\"selected\":{\"id\":\"2323\",\"type\":\"Selection\"},\"selection_policy\":{\"id\":\"2322\",\"type\":\"UnionRenderers\"}},\"id\":\"2205\",\"type\":\"ColumnDataSource\"},{\"attributes\":{\"fill_alpha\":{\"value\":0.1},\"fill_color\":{\"value\":\"#1f77b4\"},\"line_alpha\":{\"value\":0.1},\"line_color\":{\"value\":\"#1f77b4\"},\"size\":{\"units\":\"screen\",\"value\":3},\"x\":{\"field\":\"x\"},\"y\":{\"field\":\"y\"}},\"id\":\"2181\",\"type\":\"Circle\"},{\"attributes\":{},\"id\":\"2324\",\"type\":\"UnionRenderers\"},{\"attributes\":{},\"id\":\"2139\",\"type\":\"LinearScale\"},{\"attributes\":{\"line_color\":\"#2CC775\",\"line_width\":3,\"x\":{\"field\":\"x\"},\"y\":{\"field\":\"y\"}},\"id\":\"2206\",\"type\":\"Line\"},{\"attributes\":{\"data_source\":{\"id\":\"2179\",\"type\":\"ColumnDataSource\"},\"glyph\":{\"id\":\"2180\",\"type\":\"Circle\"},\"hover_glyph\":null,\"muted_glyph\":null,\"nonselection_glyph\":{\"id\":\"2181\",\"type\":\"Circle\"},\"selection_glyph\":null,\"view\":{\"id\":\"2183\",\"type\":\"CDSView\"}},\"id\":\"2182\",\"type\":\"GlyphRenderer\"},{\"attributes\":{},\"id\":\"2325\",\"type\":\"Selection\"},{\"attributes\":{\"line_alpha\":0.1,\"line_color\":\"#1f77b4\",\"line_width\":3,\"x\":{\"field\":\"x\"},\"y\":{\"field\":\"y\"}},\"id\":\"2207\",\"type\":\"Line\"},{\"attributes\":{\"source\":{\"id\":\"2179\",\"type\":\"ColumnDataSource\"}},\"id\":\"2183\",\"type\":\"CDSView\"},{\"attributes\":{\"axis_label\":\"Projected population, thousands\",\"formatter\":{\"id\":\"2172\",\"type\":\"BasicTickFormatter\"},\"ticker\":{\"id\":\"2149\",\"type\":\"BasicTicker\"}},\"id\":\"2148\",\"type\":\"LinearAxis\"},{\"attributes\":{\"data_source\":{\"id\":\"2205\",\"type\":\"ColumnDataSource\"},\"glyph\":{\"id\":\"2206\",\"type\":\"Line\"},\"hover_glyph\":null,\"muted_glyph\":null,\"nonselection_glyph\":{\"id\":\"2207\",\"type\":\"Line\"},\"selection_glyph\":null,\"view\":{\"id\":\"2209\",\"type\":\"CDSView\"}},\"id\":\"2208\",\"type\":\"GlyphRenderer\"},{\"attributes\":{\"callback\":null,\"data\":{\"x\":[2020,2025,2030,2035,2040,2045,2050,2055,2060,2065,2070,2075,2080,2085,2090,2095,2100],\"y\":[4993103.786000001,5218738.716999997,5421085.645999999,5600144.947999999,5752488.066,5878012.936,5976889.714000002,6050353.927999998,6099916.011999999,6128642.660999999,6138746.354000001,6132326.774999998,6111578.452999997,6078805.713000003,6037048.572999997,5987636.3539999975,5930332.014000001]},\"selected\":{\"id\":\"2220\",\"type\":\"Selection\"},\"selection_policy\":{\"id\":\"2219\",\"type\":\"UnionRenderers\"}},\"id\":\"2184\",\"type\":\"ColumnDataSource\"},{\"attributes\":{\"axis_label\":\"Years\",\"formatter\":{\"id\":\"2174\",\"type\":\"BasicTickFormatter\"},\"ticker\":{\"id\":\"2144\",\"type\":\"BasicTicker\"}},\"id\":\"2143\",\"type\":\"LinearAxis\"},{\"attributes\":{\"source\":{\"id\":\"2205\",\"type\":\"ColumnDataSource\"}},\"id\":\"2209\",\"type\":\"CDSView\"},{\"attributes\":{\"line_color\":\"#5430F1\",\"line_width\":3,\"x\":{\"field\":\"x\"},\"y\":{\"field\":\"y\"}},\"id\":\"2185\",\"type\":\"Line\"},{\"attributes\":{\"grid_line_color\":null,\"ticker\":{\"id\":\"2144\",\"type\":\"BasicTicker\"}},\"id\":\"2147\",\"type\":\"Grid\"},{\"attributes\":{\"callback\":null},\"id\":\"2137\",\"type\":\"DataRange1d\"},{\"attributes\":{},\"id\":\"2219\",\"type\":\"UnionRenderers\"},{\"attributes\":{\"line_alpha\":0.1,\"line_color\":\"#1f77b4\",\"line_width\":3,\"x\":{\"field\":\"x\"},\"y\":{\"field\":\"y\"}},\"id\":\"2186\",\"type\":\"Line\"},{\"attributes\":{},\"id\":\"2220\",\"type\":\"Selection\"},{\"attributes\":{\"data_source\":{\"id\":\"2184\",\"type\":\"ColumnDataSource\"},\"glyph\":{\"id\":\"2185\",\"type\":\"Line\"},\"hover_glyph\":null,\"muted_glyph\":null,\"nonselection_glyph\":{\"id\":\"2186\",\"type\":\"Line\"},\"selection_glyph\":null,\"view\":{\"id\":\"2188\",\"type\":\"CDSView\"}},\"id\":\"2187\",\"type\":\"GlyphRenderer\"},{\"attributes\":{},\"id\":\"2158\",\"type\":\"HelpTool\"},{\"attributes\":{},\"id\":\"2144\",\"type\":\"BasicTicker\"},{\"attributes\":{},\"id\":\"2221\",\"type\":\"UnionRenderers\"},{\"attributes\":{\"source\":{\"id\":\"2184\",\"type\":\"ColumnDataSource\"}},\"id\":\"2188\",\"type\":\"CDSView\"},{\"attributes\":{},\"id\":\"2157\",\"type\":\"ResetTool\"},{\"attributes\":{\"fill_color\":{\"value\":\"#FA1857\"},\"line_color\":{\"value\":\"#FA1857\"},\"size\":{\"units\":\"screen\",\"value\":3},\"x\":{\"field\":\"x\"},\"y\":{\"field\":\"y\"}},\"id\":\"2180\",\"type\":\"Circle\"},{\"attributes\":{\"callback\":null},\"id\":\"2135\",\"type\":\"DataRange1d\"},{\"attributes\":{},\"id\":\"2222\",\"type\":\"Selection\"},{\"attributes\":{},\"id\":\"2156\",\"type\":\"SaveTool\"},{\"attributes\":{},\"id\":\"2194\",\"type\":\"UnionRenderers\"},{\"attributes\":{\"callback\":null,\"data\":{\"x\":[2020,2025,2030,2035,2040,2045,2050,2055,2060,2065,2070,2075,2080,2085,2090,2095,2100],\"y\":[1057438.163,1182376.585,1313758.882,1450358.0589999997,1590723.5140000007,1733412.6489999997,1876797.781,2019337.702000001,2159628.188,2296253.5399999996,2427682.2370000007,2552545.8049999997,2669675.032999999,2778054.0900000003,2877186.7590000005,2966790.3559999997,3046778.7830000003]},\"selected\":{\"id\":\"2197\",\"type\":\"Selection\"},\"selection_policy\":{\"id\":\"2196\",\"type\":\"UnionRenderers\"}},\"id\":\"2179\",\"type\":\"ColumnDataSource\"},{\"attributes\":{},\"id\":\"2323\",\"type\":\"Selection\"},{\"attributes\":{\"label\":{\"value\":\"OECD\"},\"renderers\":[{\"id\":\"2208\",\"type\":\"GlyphRenderer\"}]},\"id\":\"2224\",\"type\":\"LegendItem\"},{\"attributes\":{\"overlay\":{\"id\":\"2176\",\"type\":\"BoxAnnotation\"}},\"id\":\"2155\",\"type\":\"BoxZoomTool\"},{\"attributes\":{},\"id\":\"2195\",\"type\":\"Selection\"},{\"attributes\":{},\"id\":\"2141\",\"type\":\"LinearScale\"},{\"attributes\":{\"label\":{\"value\":\"LDCs\"},\"renderers\":[{\"id\":\"2169\",\"type\":\"GlyphRenderer\"}]},\"id\":\"2178\",\"type\":\"LegendItem\"},{\"attributes\":{\"callback\":null,\"tooltips\":\"                \\n        <div style=padding=5px>Year:@x</div>\\n        <div style=padding=5px>Value:@y</div>        \\n        \"},\"id\":\"2230\",\"type\":\"HoverTool\"},{\"attributes\":{},\"id\":\"2154\",\"type\":\"WheelZoomTool\"},{\"attributes\":{},\"id\":\"2196\",\"type\":\"UnionRenderers\"},{\"attributes\":{\"items\":[{\"id\":\"2178\",\"type\":\"LegendItem\"},{\"id\":\"2199\",\"type\":\"LegendItem\"},{\"id\":\"2224\",\"type\":\"LegendItem\"}],\"location\":\"bottom_left\"},\"id\":\"2177\",\"type\":\"Legend\"},{\"attributes\":{\"callback\":null,\"data\":{\"x\":[2020,2025,2030,2035,2040,2045,2050,2055,2060,2065,2070,2075,2080,2085,2090,2095,2100],\"y\":[912306.7240000002,924199.783,933262.5580000001,940475.6150000001,944668.037,945929.6540000001,944372.924,940125.755,933542.0040000002,925493.626,916927.8789999998,908413.484,900272.8359999999,892459.4159999999,884981.163,877749.1270000001,870615.133]},\"selected\":{\"id\":\"2325\",\"type\":\"Selection\"},\"selection_policy\":{\"id\":\"2324\",\"type\":\"UnionRenderers\"}},\"id\":\"2225\",\"type\":\"ColumnDataSource\"},{\"attributes\":{\"fill_color\":{\"value\":\"#2CC775\"},\"line_color\":{\"value\":\"#2CC775\"},\"size\":{\"units\":\"screen\",\"value\":3},\"x\":{\"field\":\"x\"},\"y\":{\"field\":\"y\"}},\"id\":\"2226\",\"type\":\"Circle\"},{\"attributes\":{},\"id\":\"2153\",\"type\":\"PanTool\"},{\"attributes\":{},\"id\":\"2197\",\"type\":\"Selection\"},{\"attributes\":{\"bottom_units\":\"screen\",\"fill_alpha\":{\"value\":0.5},\"fill_color\":{\"value\":\"lightgrey\"},\"left_units\":\"screen\",\"level\":\"overlay\",\"line_alpha\":{\"value\":1.0},\"line_color\":{\"value\":\"black\"},\"line_dash\":[4,4],\"line_width\":{\"value\":2},\"render_mode\":\"css\",\"right_units\":\"screen\",\"top_units\":\"screen\"},\"id\":\"2176\",\"type\":\"BoxAnnotation\"},{\"attributes\":{\"fill_alpha\":{\"value\":0.1},\"fill_color\":{\"value\":\"#1f77b4\"},\"line_alpha\":{\"value\":0.1},\"line_color\":{\"value\":\"#1f77b4\"},\"size\":{\"units\":\"screen\",\"value\":3},\"x\":{\"field\":\"x\"},\"y\":{\"field\":\"y\"}},\"id\":\"2227\",\"type\":\"Circle\"},{\"attributes\":{\"callback\":null,\"data\":{\"x\":[2020,2025,2030,2035,2040,2045,2050,2055,2060,2065,2070,2075,2080,2085,2090,2095,2100],\"y\":[1057438.163,1182376.585,1313758.882,1450358.0589999997,1590723.5140000007,1733412.6489999997,1876797.781,2019337.702000001,2159628.188,2296253.5399999996,2427682.2370000007,2552545.8049999997,2669675.032999999,2778054.0900000003,2877186.7590000005,2966790.3559999997,3046778.7830000003]},\"selected\":{\"id\":\"2195\",\"type\":\"Selection\"},\"selection_policy\":{\"id\":\"2194\",\"type\":\"UnionRenderers\"}},\"id\":\"2166\",\"type\":\"ColumnDataSource\"},{\"attributes\":{\"label\":{\"value\":\"Developing excluding LDCs\"},\"renderers\":[{\"id\":\"2187\",\"type\":\"GlyphRenderer\"}]},\"id\":\"2199\",\"type\":\"LegendItem\"},{\"attributes\":{},\"id\":\"2174\",\"type\":\"BasicTickFormatter\"},{\"attributes\":{\"data_source\":{\"id\":\"2225\",\"type\":\"ColumnDataSource\"},\"glyph\":{\"id\":\"2226\",\"type\":\"Circle\"},\"hover_glyph\":null,\"muted_glyph\":null,\"nonselection_glyph\":{\"id\":\"2227\",\"type\":\"Circle\"},\"selection_glyph\":null,\"view\":{\"id\":\"2229\",\"type\":\"CDSView\"}},\"id\":\"2228\",\"type\":\"GlyphRenderer\"},{\"attributes\":{\"line_color\":\"#FA1857\",\"line_width\":3,\"x\":{\"field\":\"x\"},\"y\":{\"field\":\"y\"}},\"id\":\"2167\",\"type\":\"Line\"},{\"attributes\":{\"callback\":null,\"data\":{\"x\":[2020,2025,2030,2035,2040,2045,2050,2055,2060,2065,2070,2075,2080,2085,2090,2095,2100],\"y\":[4993103.786000001,5218738.716999997,5421085.645999999,5600144.947999999,5752488.066,5878012.936,5976889.714000002,6050353.927999998,6099916.011999999,6128642.660999999,6138746.354000001,6132326.774999998,6111578.452999997,6078805.713000003,6037048.572999997,5987636.3539999975,5930332.014000001]},\"selected\":{\"id\":\"2222\",\"type\":\"Selection\"},\"selection_policy\":{\"id\":\"2221\",\"type\":\"UnionRenderers\"}},\"id\":\"2200\",\"type\":\"ColumnDataSource\"},{\"attributes\":{},\"id\":\"2172\",\"type\":\"BasicTickFormatter\"},{\"attributes\":{},\"id\":\"2149\",\"type\":\"BasicTicker\"},{\"attributes\":{\"source\":{\"id\":\"2225\",\"type\":\"ColumnDataSource\"}},\"id\":\"2229\",\"type\":\"CDSView\"},{\"attributes\":{\"fill_color\":{\"value\":\"#5430F1\"},\"line_color\":{\"value\":\"#5430F1\"},\"size\":{\"units\":\"screen\",\"value\":3},\"x\":{\"field\":\"x\"},\"y\":{\"field\":\"y\"}},\"id\":\"2201\",\"type\":\"Circle\"},{\"attributes\":{\"source\":{\"id\":\"2166\",\"type\":\"ColumnDataSource\"}},\"id\":\"2170\",\"type\":\"CDSView\"},{\"attributes\":{\"dimension\":1,\"grid_line_alpha\":0.5,\"ticker\":{\"id\":\"2149\",\"type\":\"BasicTicker\"}},\"id\":\"2152\",\"type\":\"Grid\"},{\"attributes\":{\"data_source\":{\"id\":\"2166\",\"type\":\"ColumnDataSource\"},\"glyph\":{\"id\":\"2167\",\"type\":\"Line\"},\"hover_glyph\":null,\"muted_glyph\":null,\"nonselection_glyph\":{\"id\":\"2168\",\"type\":\"Line\"},\"selection_glyph\":null,\"view\":{\"id\":\"2170\",\"type\":\"CDSView\"}},\"id\":\"2169\",\"type\":\"GlyphRenderer\"},{\"attributes\":{\"fill_alpha\":{\"value\":0.1},\"fill_color\":{\"value\":\"#1f77b4\"},\"line_alpha\":{\"value\":0.1},\"line_color\":{\"value\":\"#1f77b4\"},\"size\":{\"units\":\"screen\",\"value\":3},\"x\":{\"field\":\"x\"},\"y\":{\"field\":\"y\"}},\"id\":\"2202\",\"type\":\"Circle\"},{\"attributes\":{},\"id\":\"2322\",\"type\":\"UnionRenderers\"},{\"attributes\":{\"data_source\":{\"id\":\"2200\",\"type\":\"ColumnDataSource\"},\"glyph\":{\"id\":\"2201\",\"type\":\"Circle\"},\"hover_glyph\":null,\"muted_glyph\":null,\"nonselection_glyph\":{\"id\":\"2202\",\"type\":\"Circle\"},\"selection_glyph\":null,\"view\":{\"id\":\"2204\",\"type\":\"CDSView\"}},\"id\":\"2203\",\"type\":\"GlyphRenderer\"},{\"attributes\":{\"line_alpha\":0.1,\"line_color\":\"#1f77b4\",\"line_width\":3,\"x\":{\"field\":\"x\"},\"y\":{\"field\":\"y\"}},\"id\":\"2168\",\"type\":\"Line\"},{\"attributes\":{\"text\":\"Projected population, thousands\"},\"id\":\"2133\",\"type\":\"Title\"},{\"attributes\":{\"active_drag\":\"auto\",\"active_inspect\":\"auto\",\"active_multi\":null,\"active_scroll\":\"auto\",\"active_tap\":\"auto\",\"tools\":[{\"id\":\"2153\",\"type\":\"PanTool\"},{\"id\":\"2154\",\"type\":\"WheelZoomTool\"},{\"id\":\"2155\",\"type\":\"BoxZoomTool\"},{\"id\":\"2156\",\"type\":\"SaveTool\"},{\"id\":\"2157\",\"type\":\"ResetTool\"},{\"id\":\"2158\",\"type\":\"HelpTool\"},{\"id\":\"2230\",\"type\":\"HoverTool\"}]},\"id\":\"2159\",\"type\":\"Toolbar\"},{\"attributes\":{\"source\":{\"id\":\"2200\",\"type\":\"ColumnDataSource\"}},\"id\":\"2204\",\"type\":\"CDSView\"}],\"root_ids\":[\"2132\"]},\"title\":\"Bokeh Application\",\"version\":\"1.3.4\"}};\n",
       "  var render_items = [{\"docid\":\"48bd2db1-8941-4ff4-82f2-809cba8e0d14\",\"roots\":{\"2132\":\"dea7f0b4-1b47-4a53-b8ee-64e4847fc672\"}}];\n",
       "  root.Bokeh.embed.embed_items_notebook(docs_json, render_items);\n",
       "\n",
       "  }\n",
       "  if (root.Bokeh !== undefined) {\n",
       "    embed_document(root);\n",
       "  } else {\n",
       "    var attempts = 0;\n",
       "    var timer = setInterval(function(root) {\n",
       "      if (root.Bokeh !== undefined) {\n",
       "        embed_document(root);\n",
       "        clearInterval(timer);\n",
       "      }\n",
       "      attempts++;\n",
       "      if (attempts > 100) {\n",
       "        console.log(\"Bokeh: ERROR: Unable to run BokehJS code because BokehJS library is missing\");\n",
       "        clearInterval(timer);\n",
       "      }\n",
       "    }, 10, root)\n",
       "  }\n",
       "})(window);"
      ],
      "application/vnd.bokehjs_exec.v0+json": ""
     },
     "metadata": {
      "application/vnd.bokehjs_exec.v0+json": {
       "id": "2132"
      }
     },
     "output_type": "display_data"
    }
   ],
   "source": [
    "show(line_chart(gpp(['LDCs', 'Developing excluding LDCs', 'OECD']), \n",
    "                \"Projected population, thousands\", x_axis_label='Years', \n",
    "                y_axis_label='Projected population, thousands', height=400, line_width=3,width=900))"
   ]
  },
  {
   "cell_type": "code",
   "execution_count": 12,
   "metadata": {
    "ExecuteTime": {
     "end_time": "2019-10-25T14:24:45.413121Z",
     "start_time": "2019-10-25T14:23:48.680578Z"
    },
    "slideshow": {
     "slide_type": "slide"
    }
   },
   "outputs": [
    {
     "data": {
      "text/html": [
       "\n",
       "\n",
       "\n",
       "\n",
       "\n",
       "\n",
       "  <div class=\"bk-root\" id=\"a2322479-cd82-456b-b944-98e59199b96e\" data-root-id=\"2435\"></div>\n"
      ]
     },
     "metadata": {},
     "output_type": "display_data"
    },
    {
     "data": {
      "application/javascript": [
       "(function(root) {\n",
       "  function embed_document(root) {\n",
       "    \n",
       "  var docs_json = {\"dbe2ae7b-f3d8-4a6d-a9a2-7efa01665a02\":{\"roots\":{\"references\":[{\"attributes\":{\"below\":[{\"id\":\"2446\",\"type\":\"LinearAxis\"}],\"center\":[{\"id\":\"2450\",\"type\":\"Grid\"},{\"id\":\"2455\",\"type\":\"Grid\"},{\"id\":\"2480\",\"type\":\"Legend\"}],\"left\":[{\"id\":\"2451\",\"type\":\"LinearAxis\"}],\"plot_height\":400,\"plot_width\":1000,\"renderers\":[{\"id\":\"2472\",\"type\":\"GlyphRenderer\"},{\"id\":\"2485\",\"type\":\"GlyphRenderer\"},{\"id\":\"2490\",\"type\":\"GlyphRenderer\"},{\"id\":\"2506\",\"type\":\"GlyphRenderer\"},{\"id\":\"2511\",\"type\":\"GlyphRenderer\"},{\"id\":\"2531\",\"type\":\"GlyphRenderer\"}],\"title\":{\"id\":\"2436\",\"type\":\"Title\"},\"toolbar\":{\"id\":\"2462\",\"type\":\"Toolbar\"},\"x_range\":{\"id\":\"2438\",\"type\":\"DataRange1d\"},\"x_scale\":{\"id\":\"2442\",\"type\":\"LinearScale\"},\"y_range\":{\"id\":\"2440\",\"type\":\"DataRange1d\"},\"y_scale\":{\"id\":\"2444\",\"type\":\"LinearScale\"}},\"id\":\"2435\",\"subtype\":\"Figure\",\"type\":\"Plot\"},{\"attributes\":{},\"id\":\"2497\",\"type\":\"UnionRenderers\"},{\"attributes\":{},\"id\":\"2525\",\"type\":\"Selection\"},{\"attributes\":{\"axis_label\":\"Years\",\"formatter\":{\"id\":\"2477\",\"type\":\"BasicTickFormatter\"},\"ticker\":{\"id\":\"2447\",\"type\":\"BasicTicker\"}},\"id\":\"2446\",\"type\":\"LinearAxis\"},{\"attributes\":{\"data_source\":{\"id\":\"2469\",\"type\":\"ColumnDataSource\"},\"glyph\":{\"id\":\"2470\",\"type\":\"Line\"},\"hover_glyph\":null,\"muted_glyph\":null,\"nonselection_glyph\":{\"id\":\"2471\",\"type\":\"Line\"},\"selection_glyph\":null,\"view\":{\"id\":\"2473\",\"type\":\"CDSView\"}},\"id\":\"2472\",\"type\":\"GlyphRenderer\"},{\"attributes\":{},\"id\":\"2498\",\"type\":\"Selection\"},{\"attributes\":{\"label\":{\"value\":\"OECD\"},\"renderers\":[{\"id\":\"2511\",\"type\":\"GlyphRenderer\"}]},\"id\":\"2527\",\"type\":\"LegendItem\"},{\"attributes\":{},\"id\":\"2444\",\"type\":\"LinearScale\"},{\"attributes\":{\"source\":{\"id\":\"2469\",\"type\":\"ColumnDataSource\"}},\"id\":\"2473\",\"type\":\"CDSView\"},{\"attributes\":{},\"id\":\"2499\",\"type\":\"UnionRenderers\"},{\"attributes\":{},\"id\":\"2447\",\"type\":\"BasicTicker\"},{\"attributes\":{\"callback\":null,\"data\":{\"x\":[\"1962\",\"1963\",\"1964\",\"1965\",\"1966\",\"1967\",\"1968\",\"1969\",\"1970\",\"1971\",\"1972\",\"1973\",\"1974\",\"1975\",\"1976\",\"1977\",\"1978\",\"1979\",\"1980\",\"1981\",\"1982\",\"1983\",\"1984\",\"1985\",\"1986\",\"1987\",\"1988\",\"1989\",\"1990\",\"1991\",\"1992\",\"1993\",\"1994\",\"1995\",\"1996\",\"1997\",\"1998\",\"1999\",\"2000\",\"2001\",\"2002\",\"2003\",\"2004\",\"2005\",\"2006\",\"2007\",\"2008\",\"2009\",\"2010\",\"2011\",\"2012\",\"2013\",\"2014\",\"2015\",\"2016\",\"2017\"],\"y\":[36.42127360665778,35.91623000953568,35.41312563450036,34.91259283883799,34.41460814240305,33.906853776784544,33.41175944934178,32.93243762343052,32.47371657833314,32.08243047483682,31.72254341724644,31.376230937591238,31.02541989859808,30.694684316251664,30.439520115174478,30.192444164715646,29.942960728335073,29.698117424398575,29.45271291536762,29.159197365938237,28.884819993799557,28.62443020571846,28.373177767459325,28.121981510199006,27.8604458404359,27.578860132814693,27.299974013372434,27.04188263980006,26.764398045351797,26.48515980107442,26.22585182821077,25.962163393862863,25.69276563048598,25.42543337883581,25.181488242051362,24.9477281910235,24.714988268795185,24.48183071086911,24.25025925627994,23.905203675760802,23.504398066886452,23.123776637102807,22.758727449036055,22.408569017585673,22.085829368063017,21.7813270701607,21.485590735868247,21.19879146971327,20.918753085714805,20.70228925587614,20.51614583488052,20.332611207313864,20.1493430924518,19.961337971168508,19.770869743541244,19.576668574669895]},\"selected\":{\"id\":\"2646\",\"type\":\"Selection\"},\"selection_policy\":{\"id\":\"2645\",\"type\":\"UnionRenderers\"}},\"id\":\"2528\",\"type\":\"ColumnDataSource\"},{\"attributes\":{},\"id\":\"2475\",\"type\":\"BasicTickFormatter\"},{\"attributes\":{},\"id\":\"2500\",\"type\":\"Selection\"},{\"attributes\":{\"fill_color\":{\"value\":\"#2CC775\"},\"line_color\":{\"value\":\"#2CC775\"},\"size\":{\"units\":\"screen\",\"value\":1},\"x\":{\"field\":\"x\"},\"y\":{\"field\":\"y\"}},\"id\":\"2529\",\"type\":\"Circle\"},{\"attributes\":{\"label\":{\"value\":\"Developing excluding LDCs\"},\"renderers\":[{\"id\":\"2490\",\"type\":\"GlyphRenderer\"}]},\"id\":\"2502\",\"type\":\"LegendItem\"},{\"attributes\":{\"fill_alpha\":{\"value\":0.1},\"fill_color\":{\"value\":\"#1f77b4\"},\"line_alpha\":{\"value\":0.1},\"line_color\":{\"value\":\"#1f77b4\"},\"size\":{\"units\":\"screen\",\"value\":1},\"x\":{\"field\":\"x\"},\"y\":{\"field\":\"y\"}},\"id\":\"2530\",\"type\":\"Circle\"},{\"attributes\":{},\"id\":\"2477\",\"type\":\"BasicTickFormatter\"},{\"attributes\":{\"grid_line_color\":null,\"ticker\":{\"id\":\"2447\",\"type\":\"BasicTicker\"}},\"id\":\"2450\",\"type\":\"Grid\"},{\"attributes\":{\"callback\":null,\"data\":{\"x\":[\"1962\",\"1963\",\"1964\",\"1965\",\"1966\",\"1967\",\"1968\",\"1969\",\"1970\",\"1971\",\"1972\",\"1973\",\"1974\",\"1975\",\"1976\",\"1977\",\"1978\",\"1979\",\"1980\",\"1981\",\"1982\",\"1983\",\"1984\",\"1985\",\"1986\",\"1987\",\"1988\",\"1989\",\"1990\",\"1991\",\"1992\",\"1993\",\"1994\",\"1995\",\"1996\",\"1997\",\"1998\",\"1999\",\"2000\",\"2001\",\"2002\",\"2003\",\"2004\",\"2005\",\"2006\",\"2007\",\"2008\",\"2009\",\"2010\",\"2011\",\"2012\",\"2013\",\"2014\",\"2015\",\"2016\",\"2017\"],\"y\":[76.36339285706455,75.90657569857643,75.44052033579077,75.26400028680143,75.08339297208057,74.88663372543422,74.69354781183536,74.50525820996135,74.31608190924274,74.0994295857478,73.84165122691049,73.53470588085722,73.18012411831,72.8174531601147,72.46881304831041,72.11284869316286,71.63344265720838,71.03048255353748,70.41825210024072,69.78091162633353,69.1609761614545,68.5951423309108,68.01991309071222,67.44534086814598,66.87635574289399,66.31309198875933,65.7505405937328,65.1877917641661,64.62267427579381,64.05034616689697,63.51617996958811,62.94363443737534,62.370097261167366,61.7726251818695,61.20134552410558,60.62761861786045,60.04987015034463,59.47145651552464,58.8832603140381,58.236628025371395,57.53677645413849,56.83692426838377,56.13161431088994,55.42218461512898,54.7231232706239,54.02923081587353,53.3330568384248,52.63943737031043,51.94737597716072,51.283253521656704,50.62996024858259,49.98012308165774,49.331297704584024,48.68603002244665,48.042910549351525,47.4043586144919]},\"selected\":{\"id\":\"2525\",\"type\":\"Selection\"},\"selection_policy\":{\"id\":\"2524\",\"type\":\"UnionRenderers\"}},\"id\":\"2503\",\"type\":\"ColumnDataSource\"},{\"attributes\":{},\"id\":\"2452\",\"type\":\"BasicTicker\"},{\"attributes\":{\"data_source\":{\"id\":\"2528\",\"type\":\"ColumnDataSource\"},\"glyph\":{\"id\":\"2529\",\"type\":\"Circle\"},\"hover_glyph\":null,\"muted_glyph\":null,\"nonselection_glyph\":{\"id\":\"2530\",\"type\":\"Circle\"},\"selection_glyph\":null,\"view\":{\"id\":\"2532\",\"type\":\"CDSView\"}},\"id\":\"2531\",\"type\":\"GlyphRenderer\"},{\"attributes\":{\"bottom_units\":\"screen\",\"fill_alpha\":{\"value\":0.5},\"fill_color\":{\"value\":\"lightgrey\"},\"left_units\":\"screen\",\"level\":\"overlay\",\"line_alpha\":{\"value\":1.0},\"line_color\":{\"value\":\"black\"},\"line_dash\":[4,4],\"line_width\":{\"value\":2},\"render_mode\":\"css\",\"right_units\":\"screen\",\"top_units\":\"screen\"},\"id\":\"2479\",\"type\":\"BoxAnnotation\"},{\"attributes\":{\"axis_label\":\"SP.RUR.TOTL.ZS\",\"formatter\":{\"id\":\"2475\",\"type\":\"BasicTickFormatter\"},\"ticker\":{\"id\":\"2452\",\"type\":\"BasicTicker\"}},\"id\":\"2451\",\"type\":\"LinearAxis\"},{\"attributes\":{\"fill_color\":{\"value\":\"#5430F1\"},\"line_color\":{\"value\":\"#5430F1\"},\"size\":{\"units\":\"screen\",\"value\":1},\"x\":{\"field\":\"x\"},\"y\":{\"field\":\"y\"}},\"id\":\"2504\",\"type\":\"Circle\"},{\"attributes\":{\"items\":[{\"id\":\"2481\",\"type\":\"LegendItem\"},{\"id\":\"2502\",\"type\":\"LegendItem\"},{\"id\":\"2527\",\"type\":\"LegendItem\"}],\"location\":\"bottom_left\"},\"id\":\"2480\",\"type\":\"Legend\"},{\"attributes\":{\"source\":{\"id\":\"2528\",\"type\":\"ColumnDataSource\"}},\"id\":\"2532\",\"type\":\"CDSView\"},{\"attributes\":{\"dimension\":1,\"grid_line_alpha\":0.5,\"ticker\":{\"id\":\"2452\",\"type\":\"BasicTicker\"}},\"id\":\"2455\",\"type\":\"Grid\"},{\"attributes\":{\"fill_alpha\":{\"value\":0.1},\"fill_color\":{\"value\":\"#1f77b4\"},\"line_alpha\":{\"value\":0.1},\"line_color\":{\"value\":\"#1f77b4\"},\"size\":{\"units\":\"screen\",\"value\":1},\"x\":{\"field\":\"x\"},\"y\":{\"field\":\"y\"}},\"id\":\"2505\",\"type\":\"Circle\"},{\"attributes\":{\"label\":{\"value\":\"LDCs\"},\"renderers\":[{\"id\":\"2472\",\"type\":\"GlyphRenderer\"}]},\"id\":\"2481\",\"type\":\"LegendItem\"},{\"attributes\":{\"data_source\":{\"id\":\"2503\",\"type\":\"ColumnDataSource\"},\"glyph\":{\"id\":\"2504\",\"type\":\"Circle\"},\"hover_glyph\":null,\"muted_glyph\":null,\"nonselection_glyph\":{\"id\":\"2505\",\"type\":\"Circle\"},\"selection_glyph\":null,\"view\":{\"id\":\"2507\",\"type\":\"CDSView\"}},\"id\":\"2506\",\"type\":\"GlyphRenderer\"},{\"attributes\":{\"line_color\":\"#FA1857\",\"line_width\":3,\"x\":{\"field\":\"x\"},\"y\":{\"field\":\"y\"}},\"id\":\"2470\",\"type\":\"Line\"},{\"attributes\":{\"callback\":null,\"data\":{\"x\":[\"1962\",\"1963\",\"1964\",\"1965\",\"1966\",\"1967\",\"1968\",\"1969\",\"1970\",\"1971\",\"1972\",\"1973\",\"1974\",\"1975\",\"1976\",\"1977\",\"1978\",\"1979\",\"1980\",\"1981\",\"1982\",\"1983\",\"1984\",\"1985\",\"1986\",\"1987\",\"1988\",\"1989\",\"1990\",\"1991\",\"1992\",\"1993\",\"1994\",\"1995\",\"1996\",\"1997\",\"1998\",\"1999\",\"2000\",\"2001\",\"2002\",\"2003\",\"2004\",\"2005\",\"2006\",\"2007\",\"2008\",\"2009\",\"2010\",\"2011\",\"2012\",\"2013\",\"2014\",\"2015\",\"2016\",\"2017\"],\"y\":[88.49317080122637,88.22840028265047,87.94990263493402,87.66155033648887,87.3641390310271,87.03385889268613,86.68982762918448,86.32916622899764,85.96775037463605,85.56855469902285,85.1428495686006,84.7117431310034,84.2752466550058,84.38589084454625,83.92375685724423,83.44096820409904,82.94024522267715,82.45591103908215,81.89333073011242,81.39378812254,81.04714420871082,80.66838842845898,80.24385790029407,79.79355991817908,79.3378233597624,78.87648632012264,78.40713078056805,77.9598005058758,77.49936799859805,77.06556198170198,76.66187797875509,76.27777894361772,75.94330765183989,75.62327542673187,75.30351373978903,74.97382646969444,74.65033879869868,74.3275699289948,73.99938422128915,73.61927055073161,73.2102923285181,72.78732929275272,72.36248070735364,71.92319139086008,71.4887276102885,71.09761887631305,70.61576005817462,70.12466145048869,69.62580805480984,69.12023174484858,68.6437134604995,68.14647270790401,67.64336558698045,67.13448240573528,66.61970742292803,66.09925314007546]},\"selected\":{\"id\":\"2500\",\"type\":\"Selection\"},\"selection_policy\":{\"id\":\"2499\",\"type\":\"UnionRenderers\"}},\"id\":\"2482\",\"type\":\"ColumnDataSource\"},{\"attributes\":{},\"id\":\"2643\",\"type\":\"UnionRenderers\"},{\"attributes\":{\"line_alpha\":0.1,\"line_color\":\"#1f77b4\",\"line_width\":3,\"x\":{\"field\":\"x\"},\"y\":{\"field\":\"y\"}},\"id\":\"2471\",\"type\":\"Line\"},{\"attributes\":{\"source\":{\"id\":\"2503\",\"type\":\"ColumnDataSource\"}},\"id\":\"2507\",\"type\":\"CDSView\"},{\"attributes\":{\"fill_color\":{\"value\":\"#FA1857\"},\"line_color\":{\"value\":\"#FA1857\"},\"size\":{\"units\":\"screen\",\"value\":1},\"x\":{\"field\":\"x\"},\"y\":{\"field\":\"y\"}},\"id\":\"2483\",\"type\":\"Circle\"},{\"attributes\":{},\"id\":\"2644\",\"type\":\"Selection\"},{\"attributes\":{\"callback\":null,\"tooltips\":\"                \\n        <div style=padding=5px>Year:@x</div>\\n        <div style=padding=5px>Value:@y</div>        \\n        \"},\"id\":\"2533\",\"type\":\"HoverTool\"},{\"attributes\":{\"callback\":null,\"data\":{\"x\":[\"1962\",\"1963\",\"1964\",\"1965\",\"1966\",\"1967\",\"1968\",\"1969\",\"1970\",\"1971\",\"1972\",\"1973\",\"1974\",\"1975\",\"1976\",\"1977\",\"1978\",\"1979\",\"1980\",\"1981\",\"1982\",\"1983\",\"1984\",\"1985\",\"1986\",\"1987\",\"1988\",\"1989\",\"1990\",\"1991\",\"1992\",\"1993\",\"1994\",\"1995\",\"1996\",\"1997\",\"1998\",\"1999\",\"2000\",\"2001\",\"2002\",\"2003\",\"2004\",\"2005\",\"2006\",\"2007\",\"2008\",\"2009\",\"2010\",\"2011\",\"2012\",\"2013\",\"2014\",\"2015\",\"2016\",\"2017\"],\"y\":[88.49317080122637,88.22840028265047,87.94990263493402,87.66155033648887,87.3641390310271,87.03385889268613,86.68982762918448,86.32916622899764,85.96775037463605,85.56855469902285,85.1428495686006,84.7117431310034,84.2752466550058,84.38589084454625,83.92375685724423,83.44096820409904,82.94024522267715,82.45591103908215,81.89333073011242,81.39378812254,81.04714420871082,80.66838842845898,80.24385790029407,79.79355991817908,79.3378233597624,78.87648632012264,78.40713078056805,77.9598005058758,77.49936799859805,77.06556198170198,76.66187797875509,76.27777894361772,75.94330765183989,75.62327542673187,75.30351373978903,74.97382646969444,74.65033879869868,74.3275699289948,73.99938422128915,73.61927055073161,73.2102923285181,72.78732929275272,72.36248070735364,71.92319139086008,71.4887276102885,71.09761887631305,70.61576005817462,70.12466145048869,69.62580805480984,69.12023174484858,68.6437134604995,68.14647270790401,67.64336558698045,67.13448240573528,66.61970742292803,66.09925314007546]},\"selected\":{\"id\":\"2498\",\"type\":\"Selection\"},\"selection_policy\":{\"id\":\"2497\",\"type\":\"UnionRenderers\"}},\"id\":\"2469\",\"type\":\"ColumnDataSource\"},{\"attributes\":{\"callback\":null,\"data\":{\"x\":[\"1962\",\"1963\",\"1964\",\"1965\",\"1966\",\"1967\",\"1968\",\"1969\",\"1970\",\"1971\",\"1972\",\"1973\",\"1974\",\"1975\",\"1976\",\"1977\",\"1978\",\"1979\",\"1980\",\"1981\",\"1982\",\"1983\",\"1984\",\"1985\",\"1986\",\"1987\",\"1988\",\"1989\",\"1990\",\"1991\",\"1992\",\"1993\",\"1994\",\"1995\",\"1996\",\"1997\",\"1998\",\"1999\",\"2000\",\"2001\",\"2002\",\"2003\",\"2004\",\"2005\",\"2006\",\"2007\",\"2008\",\"2009\",\"2010\",\"2011\",\"2012\",\"2013\",\"2014\",\"2015\",\"2016\",\"2017\"],\"y\":[36.42127360665778,35.91623000953568,35.41312563450036,34.91259283883799,34.41460814240305,33.906853776784544,33.41175944934178,32.93243762343052,32.47371657833314,32.08243047483682,31.72254341724644,31.376230937591238,31.02541989859808,30.694684316251664,30.439520115174478,30.192444164715646,29.942960728335073,29.698117424398575,29.45271291536762,29.159197365938237,28.884819993799557,28.62443020571846,28.373177767459325,28.121981510199006,27.8604458404359,27.578860132814693,27.299974013372434,27.04188263980006,26.764398045351797,26.48515980107442,26.22585182821077,25.962163393862863,25.69276563048598,25.42543337883581,25.181488242051362,24.9477281910235,24.714988268795185,24.48183071086911,24.25025925627994,23.905203675760802,23.504398066886452,23.123776637102807,22.758727449036055,22.408569017585673,22.085829368063017,21.7813270701607,21.485590735868247,21.19879146971327,20.918753085714805,20.70228925587614,20.51614583488052,20.332611207313864,20.1493430924518,19.961337971168508,19.770869743541244,19.576668574669895]},\"selected\":{\"id\":\"2644\",\"type\":\"Selection\"},\"selection_policy\":{\"id\":\"2643\",\"type\":\"UnionRenderers\"}},\"id\":\"2508\",\"type\":\"ColumnDataSource\"},{\"attributes\":{\"fill_alpha\":{\"value\":0.1},\"fill_color\":{\"value\":\"#1f77b4\"},\"line_alpha\":{\"value\":0.1},\"line_color\":{\"value\":\"#1f77b4\"},\"size\":{\"units\":\"screen\",\"value\":1},\"x\":{\"field\":\"x\"},\"y\":{\"field\":\"y\"}},\"id\":\"2484\",\"type\":\"Circle\"},{\"attributes\":{},\"id\":\"2645\",\"type\":\"UnionRenderers\"},{\"attributes\":{},\"id\":\"2457\",\"type\":\"WheelZoomTool\"},{\"attributes\":{\"line_color\":\"#2CC775\",\"line_width\":3,\"x\":{\"field\":\"x\"},\"y\":{\"field\":\"y\"}},\"id\":\"2509\",\"type\":\"Line\"},{\"attributes\":{\"data_source\":{\"id\":\"2482\",\"type\":\"ColumnDataSource\"},\"glyph\":{\"id\":\"2483\",\"type\":\"Circle\"},\"hover_glyph\":null,\"muted_glyph\":null,\"nonselection_glyph\":{\"id\":\"2484\",\"type\":\"Circle\"},\"selection_glyph\":null,\"view\":{\"id\":\"2486\",\"type\":\"CDSView\"}},\"id\":\"2485\",\"type\":\"GlyphRenderer\"},{\"attributes\":{},\"id\":\"2646\",\"type\":\"Selection\"},{\"attributes\":{},\"id\":\"2456\",\"type\":\"PanTool\"},{\"attributes\":{\"line_alpha\":0.1,\"line_color\":\"#1f77b4\",\"line_width\":3,\"x\":{\"field\":\"x\"},\"y\":{\"field\":\"y\"}},\"id\":\"2510\",\"type\":\"Line\"},{\"attributes\":{\"source\":{\"id\":\"2482\",\"type\":\"ColumnDataSource\"}},\"id\":\"2486\",\"type\":\"CDSView\"},{\"attributes\":{\"overlay\":{\"id\":\"2479\",\"type\":\"BoxAnnotation\"}},\"id\":\"2458\",\"type\":\"BoxZoomTool\"},{\"attributes\":{\"data_source\":{\"id\":\"2508\",\"type\":\"ColumnDataSource\"},\"glyph\":{\"id\":\"2509\",\"type\":\"Line\"},\"hover_glyph\":null,\"muted_glyph\":null,\"nonselection_glyph\":{\"id\":\"2510\",\"type\":\"Line\"},\"selection_glyph\":null,\"view\":{\"id\":\"2512\",\"type\":\"CDSView\"}},\"id\":\"2511\",\"type\":\"GlyphRenderer\"},{\"attributes\":{\"callback\":null,\"data\":{\"x\":[\"1962\",\"1963\",\"1964\",\"1965\",\"1966\",\"1967\",\"1968\",\"1969\",\"1970\",\"1971\",\"1972\",\"1973\",\"1974\",\"1975\",\"1976\",\"1977\",\"1978\",\"1979\",\"1980\",\"1981\",\"1982\",\"1983\",\"1984\",\"1985\",\"1986\",\"1987\",\"1988\",\"1989\",\"1990\",\"1991\",\"1992\",\"1993\",\"1994\",\"1995\",\"1996\",\"1997\",\"1998\",\"1999\",\"2000\",\"2001\",\"2002\",\"2003\",\"2004\",\"2005\",\"2006\",\"2007\",\"2008\",\"2009\",\"2010\",\"2011\",\"2012\",\"2013\",\"2014\",\"2015\",\"2016\",\"2017\"],\"y\":[76.36339285706455,75.90657569857643,75.44052033579077,75.26400028680143,75.08339297208057,74.88663372543422,74.69354781183536,74.50525820996135,74.31608190924274,74.0994295857478,73.84165122691049,73.53470588085722,73.18012411831,72.8174531601147,72.46881304831041,72.11284869316286,71.63344265720838,71.03048255353748,70.41825210024072,69.78091162633353,69.1609761614545,68.5951423309108,68.01991309071222,67.44534086814598,66.87635574289399,66.31309198875933,65.7505405937328,65.1877917641661,64.62267427579381,64.05034616689697,63.51617996958811,62.94363443737534,62.370097261167366,61.7726251818695,61.20134552410558,60.62761861786045,60.04987015034463,59.47145651552464,58.8832603140381,58.236628025371395,57.53677645413849,56.83692426838377,56.13161431088994,55.42218461512898,54.7231232706239,54.02923081587353,53.3330568384248,52.63943737031043,51.94737597716072,51.283253521656704,50.62996024858259,49.98012308165774,49.331297704584024,48.68603002244665,48.042910549351525,47.4043586144919]},\"selected\":{\"id\":\"2523\",\"type\":\"Selection\"},\"selection_policy\":{\"id\":\"2522\",\"type\":\"UnionRenderers\"}},\"id\":\"2487\",\"type\":\"ColumnDataSource\"},{\"attributes\":{},\"id\":\"2460\",\"type\":\"ResetTool\"},{\"attributes\":{\"source\":{\"id\":\"2508\",\"type\":\"ColumnDataSource\"}},\"id\":\"2512\",\"type\":\"CDSView\"},{\"attributes\":{\"line_color\":\"#5430F1\",\"line_width\":3,\"x\":{\"field\":\"x\"},\"y\":{\"field\":\"y\"}},\"id\":\"2488\",\"type\":\"Line\"},{\"attributes\":{},\"id\":\"2459\",\"type\":\"SaveTool\"},{\"attributes\":{\"text\":\"Rural population (% of total population) weighted against Population, total\"},\"id\":\"2436\",\"type\":\"Title\"},{\"attributes\":{},\"id\":\"2522\",\"type\":\"UnionRenderers\"},{\"attributes\":{\"line_alpha\":0.1,\"line_color\":\"#1f77b4\",\"line_width\":3,\"x\":{\"field\":\"x\"},\"y\":{\"field\":\"y\"}},\"id\":\"2489\",\"type\":\"Line\"},{\"attributes\":{},\"id\":\"2461\",\"type\":\"HelpTool\"},{\"attributes\":{\"callback\":null},\"id\":\"2440\",\"type\":\"DataRange1d\"},{\"attributes\":{},\"id\":\"2523\",\"type\":\"Selection\"},{\"attributes\":{\"data_source\":{\"id\":\"2487\",\"type\":\"ColumnDataSource\"},\"glyph\":{\"id\":\"2488\",\"type\":\"Line\"},\"hover_glyph\":null,\"muted_glyph\":null,\"nonselection_glyph\":{\"id\":\"2489\",\"type\":\"Line\"},\"selection_glyph\":null,\"view\":{\"id\":\"2491\",\"type\":\"CDSView\"}},\"id\":\"2490\",\"type\":\"GlyphRenderer\"},{\"attributes\":{\"callback\":null},\"id\":\"2438\",\"type\":\"DataRange1d\"},{\"attributes\":{},\"id\":\"2524\",\"type\":\"UnionRenderers\"},{\"attributes\":{\"source\":{\"id\":\"2487\",\"type\":\"ColumnDataSource\"}},\"id\":\"2491\",\"type\":\"CDSView\"},{\"attributes\":{\"active_drag\":\"auto\",\"active_inspect\":\"auto\",\"active_multi\":null,\"active_scroll\":\"auto\",\"active_tap\":\"auto\",\"tools\":[{\"id\":\"2456\",\"type\":\"PanTool\"},{\"id\":\"2457\",\"type\":\"WheelZoomTool\"},{\"id\":\"2458\",\"type\":\"BoxZoomTool\"},{\"id\":\"2459\",\"type\":\"SaveTool\"},{\"id\":\"2460\",\"type\":\"ResetTool\"},{\"id\":\"2461\",\"type\":\"HelpTool\"},{\"id\":\"2533\",\"type\":\"HoverTool\"}]},\"id\":\"2462\",\"type\":\"Toolbar\"},{\"attributes\":{},\"id\":\"2442\",\"type\":\"LinearScale\"}],\"root_ids\":[\"2435\"]},\"title\":\"Bokeh Application\",\"version\":\"1.3.4\"}};\n",
       "  var render_items = [{\"docid\":\"dbe2ae7b-f3d8-4a6d-a9a2-7efa01665a02\",\"roots\":{\"2435\":\"a2322479-cd82-456b-b944-98e59199b96e\"}}];\n",
       "  root.Bokeh.embed.embed_items_notebook(docs_json, render_items);\n",
       "\n",
       "  }\n",
       "  if (root.Bokeh !== undefined) {\n",
       "    embed_document(root);\n",
       "  } else {\n",
       "    var attempts = 0;\n",
       "    var timer = setInterval(function(root) {\n",
       "      if (root.Bokeh !== undefined) {\n",
       "        embed_document(root);\n",
       "        clearInterval(timer);\n",
       "      }\n",
       "      attempts++;\n",
       "      if (attempts > 100) {\n",
       "        console.log(\"Bokeh: ERROR: Unable to run BokehJS code because BokehJS library is missing\");\n",
       "        clearInterval(timer);\n",
       "      }\n",
       "    }, 10, root)\n",
       "  }\n",
       "})(window);"
      ],
      "application/vnd.bokehjs_exec.v0+json": ""
     },
     "metadata": {
      "application/vnd.bokehjs_exec.v0+json": {
       "id": "2435"
      }
     },
     "output_type": "display_data"
    }
   ],
   "source": [
    "years = list(map(str, list(range(1962,2018))))\n",
    "# Rural population as a percentage of total population\n",
    "result = show_weighted_average(years, 'SP.RUR.TOTL.ZS', 'SP.POP.TOTL', \n",
    "                               ['LDCs', 'Developing excluding LDCs', 'OECD'], \n",
    "                                height=400, width=1000, line_width=3)"
   ]
  },
  {
   "cell_type": "code",
   "execution_count": 13,
   "metadata": {
    "slideshow": {
     "slide_type": "slide"
    }
   },
   "outputs": [
    {
     "data": {
      "text/html": [
       "\n",
       "\n",
       "\n",
       "\n",
       "\n",
       "\n",
       "  <div class=\"bk-root\" id=\"9abaaa7e-6f63-4ab5-afd1-dd047647a75e\" data-root-id=\"2756\"></div>\n"
      ]
     },
     "metadata": {},
     "output_type": "display_data"
    },
    {
     "data": {
      "application/javascript": [
       "(function(root) {\n",
       "  function embed_document(root) {\n",
       "    \n",
       "  var docs_json = {\"610924c7-47ad-489e-a95f-b1bae8f505c3\":{\"roots\":{\"references\":[{\"attributes\":{\"below\":[{\"id\":\"2767\",\"type\":\"LinearAxis\"}],\"center\":[{\"id\":\"2771\",\"type\":\"Grid\"},{\"id\":\"2776\",\"type\":\"Grid\"},{\"id\":\"2801\",\"type\":\"Legend\"}],\"left\":[{\"id\":\"2772\",\"type\":\"LinearAxis\"}],\"plot_height\":400,\"plot_width\":1000,\"renderers\":[{\"id\":\"2793\",\"type\":\"GlyphRenderer\"},{\"id\":\"2806\",\"type\":\"GlyphRenderer\"},{\"id\":\"2811\",\"type\":\"GlyphRenderer\"},{\"id\":\"2827\",\"type\":\"GlyphRenderer\"},{\"id\":\"2832\",\"type\":\"GlyphRenderer\"},{\"id\":\"2852\",\"type\":\"GlyphRenderer\"}],\"title\":{\"id\":\"2757\",\"type\":\"Title\"},\"toolbar\":{\"id\":\"2783\",\"type\":\"Toolbar\"},\"x_range\":{\"id\":\"2759\",\"type\":\"DataRange1d\"},\"x_scale\":{\"id\":\"2763\",\"type\":\"LinearScale\"},\"y_range\":{\"id\":\"2761\",\"type\":\"DataRange1d\"},\"y_scale\":{\"id\":\"2765\",\"type\":\"LinearScale\"}},\"id\":\"2756\",\"subtype\":\"Figure\",\"type\":\"Plot\"},{\"attributes\":{\"grid_line_color\":null,\"ticker\":{\"id\":\"2768\",\"type\":\"BasicTicker\"}},\"id\":\"2771\",\"type\":\"Grid\"},{\"attributes\":{\"line_alpha\":0.1,\"line_color\":\"#1f77b4\",\"line_width\":4,\"x\":{\"field\":\"x\"},\"y\":{\"field\":\"y\"}},\"id\":\"2831\",\"type\":\"Line\"},{\"attributes\":{\"axis_label\":\"NV.AGR.TOTL.ZS\",\"formatter\":{\"id\":\"2796\",\"type\":\"BasicTickFormatter\"},\"ticker\":{\"id\":\"2773\",\"type\":\"BasicTicker\"}},\"id\":\"2772\",\"type\":\"LinearAxis\"},{\"attributes\":{},\"id\":\"2843\",\"type\":\"UnionRenderers\"},{\"attributes\":{\"data_source\":{\"id\":\"2829\",\"type\":\"ColumnDataSource\"},\"glyph\":{\"id\":\"2830\",\"type\":\"Line\"},\"hover_glyph\":null,\"muted_glyph\":null,\"nonselection_glyph\":{\"id\":\"2831\",\"type\":\"Line\"},\"selection_glyph\":null,\"view\":{\"id\":\"2833\",\"type\":\"CDSView\"}},\"id\":\"2832\",\"type\":\"GlyphRenderer\"},{\"attributes\":{},\"id\":\"2798\",\"type\":\"BasicTickFormatter\"},{\"attributes\":{},\"id\":\"2773\",\"type\":\"BasicTicker\"},{\"attributes\":{\"source\":{\"id\":\"2829\",\"type\":\"ColumnDataSource\"}},\"id\":\"2833\",\"type\":\"CDSView\"},{\"attributes\":{\"bottom_units\":\"screen\",\"fill_alpha\":{\"value\":0.5},\"fill_color\":{\"value\":\"lightgrey\"},\"left_units\":\"screen\",\"level\":\"overlay\",\"line_alpha\":{\"value\":1.0},\"line_color\":{\"value\":\"black\"},\"line_dash\":[4,4],\"line_width\":{\"value\":2},\"render_mode\":\"css\",\"right_units\":\"screen\",\"top_units\":\"screen\"},\"id\":\"2800\",\"type\":\"BoxAnnotation\"},{\"attributes\":{},\"id\":\"2765\",\"type\":\"LinearScale\"},{\"attributes\":{\"source\":{\"id\":\"2824\",\"type\":\"ColumnDataSource\"}},\"id\":\"2828\",\"type\":\"CDSView\"},{\"attributes\":{\"fill_color\":{\"value\":\"#2CC775\"},\"line_color\":{\"value\":\"#2CC775\"},\"size\":{\"units\":\"screen\",\"value\":1},\"x\":{\"field\":\"x\"},\"y\":{\"field\":\"y\"}},\"id\":\"2850\",\"type\":\"Circle\"},{\"attributes\":{},\"id\":\"2846\",\"type\":\"Selection\"},{\"attributes\":{\"axis_label\":\"Years\",\"formatter\":{\"id\":\"2798\",\"type\":\"BasicTickFormatter\"},\"ticker\":{\"id\":\"2768\",\"type\":\"BasicTicker\"}},\"id\":\"2767\",\"type\":\"LinearAxis\"},{\"attributes\":{\"source\":{\"id\":\"2790\",\"type\":\"ColumnDataSource\"}},\"id\":\"2794\",\"type\":\"CDSView\"},{\"attributes\":{\"callback\":null,\"data\":{\"x\":[\"2010\",\"2011\",\"2012\",\"2013\",\"2014\",\"2015\",\"2016\",\"2017\"],\"y\":[2.289573574641918,2.315743844718029,2.264232824674261,2.2602240779390366,2.1847885588963964,2.1491694265941352,2.088136748731761,2.0685491468463306]},\"selected\":{\"id\":\"2983\",\"type\":\"Selection\"},\"selection_policy\":{\"id\":\"2982\",\"type\":\"UnionRenderers\"}},\"id\":\"2829\",\"type\":\"ColumnDataSource\"},{\"attributes\":{},\"id\":\"2768\",\"type\":\"BasicTicker\"},{\"attributes\":{\"line_color\":\"#2CC775\",\"line_width\":4,\"x\":{\"field\":\"x\"},\"y\":{\"field\":\"y\"}},\"id\":\"2830\",\"type\":\"Line\"},{\"attributes\":{},\"id\":\"2796\",\"type\":\"BasicTickFormatter\"},{\"attributes\":{},\"id\":\"2763\",\"type\":\"LinearScale\"},{\"attributes\":{\"fill_color\":{\"value\":\"#5430F1\"},\"line_color\":{\"value\":\"#5430F1\"},\"size\":{\"units\":\"screen\",\"value\":1},\"x\":{\"field\":\"x\"},\"y\":{\"field\":\"y\"}},\"id\":\"2825\",\"type\":\"Circle\"},{\"attributes\":{},\"id\":\"2782\",\"type\":\"HelpTool\"},{\"attributes\":{},\"id\":\"2845\",\"type\":\"UnionRenderers\"},{\"attributes\":{\"active_drag\":\"auto\",\"active_inspect\":\"auto\",\"active_multi\":null,\"active_scroll\":\"auto\",\"active_tap\":\"auto\",\"tools\":[{\"id\":\"2777\",\"type\":\"PanTool\"},{\"id\":\"2778\",\"type\":\"WheelZoomTool\"},{\"id\":\"2779\",\"type\":\"BoxZoomTool\"},{\"id\":\"2780\",\"type\":\"SaveTool\"},{\"id\":\"2781\",\"type\":\"ResetTool\"},{\"id\":\"2782\",\"type\":\"HelpTool\"},{\"id\":\"2854\",\"type\":\"HoverTool\"}]},\"id\":\"2783\",\"type\":\"Toolbar\"},{\"attributes\":{\"fill_alpha\":{\"value\":0.1},\"fill_color\":{\"value\":\"#1f77b4\"},\"line_alpha\":{\"value\":0.1},\"line_color\":{\"value\":\"#1f77b4\"},\"size\":{\"units\":\"screen\",\"value\":1},\"x\":{\"field\":\"x\"},\"y\":{\"field\":\"y\"}},\"id\":\"2826\",\"type\":\"Circle\"},{\"attributes\":{\"callback\":null},\"id\":\"2761\",\"type\":\"DataRange1d\"},{\"attributes\":{\"data_source\":{\"id\":\"2790\",\"type\":\"ColumnDataSource\"},\"glyph\":{\"id\":\"2791\",\"type\":\"Line\"},\"hover_glyph\":null,\"muted_glyph\":null,\"nonselection_glyph\":{\"id\":\"2792\",\"type\":\"Line\"},\"selection_glyph\":null,\"view\":{\"id\":\"2794\",\"type\":\"CDSView\"}},\"id\":\"2793\",\"type\":\"GlyphRenderer\"},{\"attributes\":{\"data_source\":{\"id\":\"2824\",\"type\":\"ColumnDataSource\"},\"glyph\":{\"id\":\"2825\",\"type\":\"Circle\"},\"hover_glyph\":null,\"muted_glyph\":null,\"nonselection_glyph\":{\"id\":\"2826\",\"type\":\"Circle\"},\"selection_glyph\":null,\"view\":{\"id\":\"2828\",\"type\":\"CDSView\"}},\"id\":\"2827\",\"type\":\"GlyphRenderer\"},{\"attributes\":{\"fill_color\":{\"value\":\"#FA1857\"},\"line_color\":{\"value\":\"#FA1857\"},\"size\":{\"units\":\"screen\",\"value\":1},\"x\":{\"field\":\"x\"},\"y\":{\"field\":\"y\"}},\"id\":\"2804\",\"type\":\"Circle\"},{\"attributes\":{\"overlay\":{\"id\":\"2800\",\"type\":\"BoxAnnotation\"}},\"id\":\"2779\",\"type\":\"BoxZoomTool\"},{\"attributes\":{},\"id\":\"2821\",\"type\":\"Selection\"},{\"attributes\":{},\"id\":\"2844\",\"type\":\"Selection\"},{\"attributes\":{},\"id\":\"2780\",\"type\":\"SaveTool\"},{\"attributes\":{\"label\":{\"value\":\"Developing excluding LDCs\"},\"renderers\":[{\"id\":\"2811\",\"type\":\"GlyphRenderer\"}]},\"id\":\"2823\",\"type\":\"LegendItem\"},{\"attributes\":{\"callback\":null},\"id\":\"2759\",\"type\":\"DataRange1d\"},{\"attributes\":{\"callback\":null,\"data\":{\"x\":[\"2010\",\"2011\",\"2012\",\"2013\",\"2014\",\"2015\",\"2016\",\"2017\"],\"y\":[13.978854328501042,14.079101439324456,13.813447842599281,13.871578614770941,13.758696729529278,13.566439505653028,13.544352270945682,13.21254599532053]},\"selected\":{\"id\":\"2846\",\"type\":\"Selection\"},\"selection_policy\":{\"id\":\"2845\",\"type\":\"UnionRenderers\"}},\"id\":\"2824\",\"type\":\"ColumnDataSource\"},{\"attributes\":{},\"id\":\"2781\",\"type\":\"ResetTool\"},{\"attributes\":{\"callback\":null,\"data\":{\"x\":[\"2010\",\"2011\",\"2012\",\"2013\",\"2014\",\"2015\",\"2016\",\"2017\"],\"y\":[26.970813517721258,26.338322578572715,27.107809058801486,26.09339957108172,25.32319516695439,24.70843354448144,24.255117716459917,24.012036750774875]},\"selected\":{\"id\":\"2821\",\"type\":\"Selection\"},\"selection_policy\":{\"id\":\"2820\",\"type\":\"UnionRenderers\"}},\"id\":\"2803\",\"type\":\"ColumnDataSource\"},{\"attributes\":{\"line_alpha\":0.1,\"line_color\":\"#1f77b4\",\"line_width\":4,\"x\":{\"field\":\"x\"},\"y\":{\"field\":\"y\"}},\"id\":\"2792\",\"type\":\"Line\"},{\"attributes\":{},\"id\":\"2983\",\"type\":\"Selection\"},{\"attributes\":{\"callback\":null,\"data\":{\"x\":[\"2010\",\"2011\",\"2012\",\"2013\",\"2014\",\"2015\",\"2016\",\"2017\"],\"y\":[26.970813517721258,26.338322578572715,27.107809058801486,26.09339957108172,25.32319516695439,24.70843354448144,24.255117716459917,24.012036750774875]},\"selected\":{\"id\":\"2819\",\"type\":\"Selection\"},\"selection_policy\":{\"id\":\"2818\",\"type\":\"UnionRenderers\"}},\"id\":\"2790\",\"type\":\"ColumnDataSource\"},{\"attributes\":{},\"id\":\"2818\",\"type\":\"UnionRenderers\"},{\"attributes\":{\"callback\":null,\"data\":{\"x\":[\"2010\",\"2011\",\"2012\",\"2013\",\"2014\",\"2015\",\"2016\",\"2017\"],\"y\":[13.978854328501042,14.079101439324456,13.813447842599281,13.871578614770941,13.758696729529278,13.566439505653028,13.544352270945682,13.21254599532053]},\"selected\":{\"id\":\"2844\",\"type\":\"Selection\"},\"selection_policy\":{\"id\":\"2843\",\"type\":\"UnionRenderers\"}},\"id\":\"2808\",\"type\":\"ColumnDataSource\"},{\"attributes\":{\"data_source\":{\"id\":\"2849\",\"type\":\"ColumnDataSource\"},\"glyph\":{\"id\":\"2850\",\"type\":\"Circle\"},\"hover_glyph\":null,\"muted_glyph\":null,\"nonselection_glyph\":{\"id\":\"2851\",\"type\":\"Circle\"},\"selection_glyph\":null,\"view\":{\"id\":\"2853\",\"type\":\"CDSView\"}},\"id\":\"2852\",\"type\":\"GlyphRenderer\"},{\"attributes\":{},\"id\":\"2777\",\"type\":\"PanTool\"},{\"attributes\":{},\"id\":\"2819\",\"type\":\"Selection\"},{\"attributes\":{\"data_source\":{\"id\":\"2803\",\"type\":\"ColumnDataSource\"},\"glyph\":{\"id\":\"2804\",\"type\":\"Circle\"},\"hover_glyph\":null,\"muted_glyph\":null,\"nonselection_glyph\":{\"id\":\"2805\",\"type\":\"Circle\"},\"selection_glyph\":null,\"view\":{\"id\":\"2807\",\"type\":\"CDSView\"}},\"id\":\"2806\",\"type\":\"GlyphRenderer\"},{\"attributes\":{\"source\":{\"id\":\"2803\",\"type\":\"ColumnDataSource\"}},\"id\":\"2807\",\"type\":\"CDSView\"},{\"attributes\":{\"text\":\"Agriculture, forestry, and fishing, value added (% of GDP) weighted against Rural population\"},\"id\":\"2757\",\"type\":\"Title\"},{\"attributes\":{\"fill_alpha\":{\"value\":0.1},\"fill_color\":{\"value\":\"#1f77b4\"},\"line_alpha\":{\"value\":0.1},\"line_color\":{\"value\":\"#1f77b4\"},\"size\":{\"units\":\"screen\",\"value\":1},\"x\":{\"field\":\"x\"},\"y\":{\"field\":\"y\"}},\"id\":\"2851\",\"type\":\"Circle\"},{\"attributes\":{},\"id\":\"2984\",\"type\":\"UnionRenderers\"},{\"attributes\":{},\"id\":\"2778\",\"type\":\"WheelZoomTool\"},{\"attributes\":{\"callback\":null,\"tooltips\":\"                \\n        <div style=padding=5px>Year:@x</div>\\n        <div style=padding=5px>Value:@y</div>        \\n        \"},\"id\":\"2854\",\"type\":\"HoverTool\"},{\"attributes\":{\"line_color\":\"#5430F1\",\"line_width\":4,\"x\":{\"field\":\"x\"},\"y\":{\"field\":\"y\"}},\"id\":\"2809\",\"type\":\"Line\"},{\"attributes\":{\"label\":{\"value\":\"LDCs\"},\"renderers\":[{\"id\":\"2793\",\"type\":\"GlyphRenderer\"}]},\"id\":\"2802\",\"type\":\"LegendItem\"},{\"attributes\":{\"dimension\":1,\"grid_line_alpha\":0.5,\"ticker\":{\"id\":\"2773\",\"type\":\"BasicTicker\"}},\"id\":\"2776\",\"type\":\"Grid\"},{\"attributes\":{\"source\":{\"id\":\"2849\",\"type\":\"ColumnDataSource\"}},\"id\":\"2853\",\"type\":\"CDSView\"},{\"attributes\":{\"label\":{\"value\":\"OECD\"},\"renderers\":[{\"id\":\"2832\",\"type\":\"GlyphRenderer\"}]},\"id\":\"2848\",\"type\":\"LegendItem\"},{\"attributes\":{\"line_alpha\":0.1,\"line_color\":\"#1f77b4\",\"line_width\":4,\"x\":{\"field\":\"x\"},\"y\":{\"field\":\"y\"}},\"id\":\"2810\",\"type\":\"Line\"},{\"attributes\":{},\"id\":\"2820\",\"type\":\"UnionRenderers\"},{\"attributes\":{},\"id\":\"2985\",\"type\":\"Selection\"},{\"attributes\":{\"fill_alpha\":{\"value\":0.1},\"fill_color\":{\"value\":\"#1f77b4\"},\"line_alpha\":{\"value\":0.1},\"line_color\":{\"value\":\"#1f77b4\"},\"size\":{\"units\":\"screen\",\"value\":1},\"x\":{\"field\":\"x\"},\"y\":{\"field\":\"y\"}},\"id\":\"2805\",\"type\":\"Circle\"},{\"attributes\":{\"callback\":null,\"data\":{\"x\":[\"2010\",\"2011\",\"2012\",\"2013\",\"2014\",\"2015\",\"2016\",\"2017\"],\"y\":[2.289573574641918,2.315743844718029,2.264232824674261,2.2602240779390366,2.1847885588963964,2.1491694265941352,2.088136748731761,2.0685491468463306]},\"selected\":{\"id\":\"2985\",\"type\":\"Selection\"},\"selection_policy\":{\"id\":\"2984\",\"type\":\"UnionRenderers\"}},\"id\":\"2849\",\"type\":\"ColumnDataSource\"},{\"attributes\":{\"data_source\":{\"id\":\"2808\",\"type\":\"ColumnDataSource\"},\"glyph\":{\"id\":\"2809\",\"type\":\"Line\"},\"hover_glyph\":null,\"muted_glyph\":null,\"nonselection_glyph\":{\"id\":\"2810\",\"type\":\"Line\"},\"selection_glyph\":null,\"view\":{\"id\":\"2812\",\"type\":\"CDSView\"}},\"id\":\"2811\",\"type\":\"GlyphRenderer\"},{\"attributes\":{},\"id\":\"2982\",\"type\":\"UnionRenderers\"},{\"attributes\":{\"line_color\":\"#FA1857\",\"line_width\":4,\"x\":{\"field\":\"x\"},\"y\":{\"field\":\"y\"}},\"id\":\"2791\",\"type\":\"Line\"},{\"attributes\":{\"items\":[{\"id\":\"2802\",\"type\":\"LegendItem\"},{\"id\":\"2823\",\"type\":\"LegendItem\"},{\"id\":\"2848\",\"type\":\"LegendItem\"}],\"location\":\"bottom_left\"},\"id\":\"2801\",\"type\":\"Legend\"},{\"attributes\":{\"source\":{\"id\":\"2808\",\"type\":\"ColumnDataSource\"}},\"id\":\"2812\",\"type\":\"CDSView\"}],\"root_ids\":[\"2756\"]},\"title\":\"Bokeh Application\",\"version\":\"1.3.4\"}};\n",
       "  var render_items = [{\"docid\":\"610924c7-47ad-489e-a95f-b1bae8f505c3\",\"roots\":{\"2756\":\"9abaaa7e-6f63-4ab5-afd1-dd047647a75e\"}}];\n",
       "  root.Bokeh.embed.embed_items_notebook(docs_json, render_items);\n",
       "\n",
       "  }\n",
       "  if (root.Bokeh !== undefined) {\n",
       "    embed_document(root);\n",
       "  } else {\n",
       "    var attempts = 0;\n",
       "    var timer = setInterval(function(root) {\n",
       "      if (root.Bokeh !== undefined) {\n",
       "        embed_document(root);\n",
       "        clearInterval(timer);\n",
       "      }\n",
       "      attempts++;\n",
       "      if (attempts > 100) {\n",
       "        console.log(\"Bokeh: ERROR: Unable to run BokehJS code because BokehJS library is missing\");\n",
       "        clearInterval(timer);\n",
       "      }\n",
       "    }, 10, root)\n",
       "  }\n",
       "})(window);"
      ],
      "application/vnd.bokehjs_exec.v0+json": ""
     },
     "metadata": {
      "application/vnd.bokehjs_exec.v0+json": {
       "id": "2756"
      }
     },
     "output_type": "display_data"
    }
   ],
   "source": [
    "years = list(map(str, list(range(2010,2018))))\n",
    "result = show_weighted_average(years, 'NV.AGR.TOTL.ZS', 'SP.RUR.TOTL', \n",
    "                               ['LDCs', 'Developing excluding LDCs', 'OECD'], \n",
    "                                height=400, width=1000, line_width=4)"
   ]
  },
  {
   "cell_type": "code",
   "execution_count": 14,
   "metadata": {
    "ExecuteTime": {
     "end_time": "2019-10-25T14:24:46.376641Z",
     "start_time": "2019-10-25T14:24:45.418470Z"
    },
    "slideshow": {
     "slide_type": "slide"
    }
   },
   "outputs": [
    {
     "data": {
      "text/html": [
       "\n",
       "\n",
       "\n",
       "\n",
       "\n",
       "\n",
       "  <div class=\"bk-root\" id=\"aef8201d-b66d-4dfe-898c-9bcb08fc61f3\" data-root-id=\"3095\"></div>\n"
      ]
     },
     "metadata": {},
     "output_type": "display_data"
    },
    {
     "data": {
      "application/javascript": [
       "(function(root) {\n",
       "  function embed_document(root) {\n",
       "    \n",
       "  var docs_json = {\"31bd4b1b-6751-45b3-99c2-f6fe4ddf02f8\":{\"roots\":{\"references\":[{\"attributes\":{\"below\":[{\"id\":\"3106\",\"type\":\"LinearAxis\"}],\"center\":[{\"id\":\"3110\",\"type\":\"Grid\"},{\"id\":\"3115\",\"type\":\"Grid\"},{\"id\":\"3140\",\"type\":\"Legend\"}],\"left\":[{\"id\":\"3111\",\"type\":\"LinearAxis\"}],\"plot_height\":400,\"plot_width\":1000,\"renderers\":[{\"id\":\"3132\",\"type\":\"GlyphRenderer\"},{\"id\":\"3145\",\"type\":\"GlyphRenderer\"}],\"title\":{\"id\":\"3096\",\"type\":\"Title\"},\"toolbar\":{\"id\":\"3122\",\"type\":\"Toolbar\"},\"x_range\":{\"id\":\"3098\",\"type\":\"DataRange1d\"},\"x_scale\":{\"id\":\"3102\",\"type\":\"LinearScale\"},\"y_range\":{\"id\":\"3100\",\"type\":\"DataRange1d\"},\"y_scale\":{\"id\":\"3104\",\"type\":\"LinearScale\"}},\"id\":\"3095\",\"subtype\":\"Figure\",\"type\":\"Plot\"},{\"attributes\":{},\"id\":\"3121\",\"type\":\"HelpTool\"},{\"attributes\":{\"items\":[{\"id\":\"3141\",\"type\":\"LegendItem\"}],\"location\":\"bottom_left\"},\"id\":\"3140\",\"type\":\"Legend\"},{\"attributes\":{\"dimension\":1,\"grid_line_alpha\":0.5,\"ticker\":{\"id\":\"3112\",\"type\":\"BasicTicker\"}},\"id\":\"3115\",\"type\":\"Grid\"},{\"attributes\":{\"callback\":null},\"id\":\"3100\",\"type\":\"DataRange1d\"},{\"attributes\":{},\"id\":\"3104\",\"type\":\"LinearScale\"},{\"attributes\":{},\"id\":\"3288\",\"type\":\"Selection\"},{\"attributes\":{\"data_source\":{\"id\":\"3129\",\"type\":\"ColumnDataSource\"},\"glyph\":{\"id\":\"3130\",\"type\":\"Line\"},\"hover_glyph\":null,\"muted_glyph\":null,\"nonselection_glyph\":{\"id\":\"3131\",\"type\":\"Line\"},\"selection_glyph\":null,\"view\":{\"id\":\"3133\",\"type\":\"CDSView\"}},\"id\":\"3132\",\"type\":\"GlyphRenderer\"},{\"attributes\":{\"callback\":null,\"tooltips\":\"                \\n        <div style=padding=5px>Year:@x</div>\\n        <div style=padding=5px>Value:@y</div>        \\n        \"},\"id\":\"3147\",\"type\":\"HoverTool\"},{\"attributes\":{\"data_source\":{\"id\":\"3142\",\"type\":\"ColumnDataSource\"},\"glyph\":{\"id\":\"3143\",\"type\":\"Circle\"},\"hover_glyph\":null,\"muted_glyph\":null,\"nonselection_glyph\":{\"id\":\"3144\",\"type\":\"Circle\"},\"selection_glyph\":null,\"view\":{\"id\":\"3146\",\"type\":\"CDSView\"}},\"id\":\"3145\",\"type\":\"GlyphRenderer\"},{\"attributes\":{\"active_drag\":\"auto\",\"active_inspect\":\"auto\",\"active_multi\":null,\"active_scroll\":\"auto\",\"active_tap\":\"auto\",\"tools\":[{\"id\":\"3116\",\"type\":\"PanTool\"},{\"id\":\"3117\",\"type\":\"WheelZoomTool\"},{\"id\":\"3118\",\"type\":\"BoxZoomTool\"},{\"id\":\"3119\",\"type\":\"SaveTool\"},{\"id\":\"3120\",\"type\":\"ResetTool\"},{\"id\":\"3121\",\"type\":\"HelpTool\"},{\"id\":\"3147\",\"type\":\"HoverTool\"}]},\"id\":\"3122\",\"type\":\"Toolbar\"},{\"attributes\":{},\"id\":\"3102\",\"type\":\"LinearScale\"},{\"attributes\":{\"source\":{\"id\":\"3129\",\"type\":\"ColumnDataSource\"}},\"id\":\"3133\",\"type\":\"CDSView\"},{\"attributes\":{\"axis_label\":\"SP.RUR.TOTL\",\"formatter\":{\"id\":\"3135\",\"type\":\"BasicTickFormatter\"},\"ticker\":{\"id\":\"3112\",\"type\":\"BasicTicker\"}},\"id\":\"3111\",\"type\":\"LinearAxis\"},{\"attributes\":{\"callback\":null,\"data\":{\"x\":[\"2010\",\"2011\",\"2012\",\"2013\",\"2014\",\"2015\",\"2016\",\"2017\"],\"y\":[590103650.0,599729467.0,607552372.0,617585217.0,627707285.0,637891695.0,648126174.0,658398338.0]},\"selected\":{\"id\":\"3288\",\"type\":\"Selection\"},\"selection_policy\":{\"id\":\"3287\",\"type\":\"UnionRenderers\"}},\"id\":\"3142\",\"type\":\"ColumnDataSource\"},{\"attributes\":{},\"id\":\"3116\",\"type\":\"PanTool\"},{\"attributes\":{},\"id\":\"3286\",\"type\":\"Selection\"},{\"attributes\":{\"label\":{\"value\":\"LDCs\"},\"renderers\":[{\"id\":\"3132\",\"type\":\"GlyphRenderer\"}]},\"id\":\"3141\",\"type\":\"LegendItem\"},{\"attributes\":{},\"id\":\"3120\",\"type\":\"ResetTool\"},{\"attributes\":{\"callback\":null},\"id\":\"3098\",\"type\":\"DataRange1d\"},{\"attributes\":{\"line_alpha\":0.1,\"line_color\":\"#1f77b4\",\"line_width\":4,\"x\":{\"field\":\"x\"},\"y\":{\"field\":\"y\"}},\"id\":\"3131\",\"type\":\"Line\"},{\"attributes\":{},\"id\":\"3112\",\"type\":\"BasicTicker\"},{\"attributes\":{\"line_color\":\"#FA1857\",\"line_width\":4,\"x\":{\"field\":\"x\"},\"y\":{\"field\":\"y\"}},\"id\":\"3130\",\"type\":\"Line\"},{\"attributes\":{\"overlay\":{\"id\":\"3139\",\"type\":\"BoxAnnotation\"}},\"id\":\"3118\",\"type\":\"BoxZoomTool\"},{\"attributes\":{\"bottom_units\":\"screen\",\"fill_alpha\":{\"value\":0.5},\"fill_color\":{\"value\":\"lightgrey\"},\"left_units\":\"screen\",\"level\":\"overlay\",\"line_alpha\":{\"value\":1.0},\"line_color\":{\"value\":\"black\"},\"line_dash\":[4,4],\"line_width\":{\"value\":2},\"render_mode\":\"css\",\"right_units\":\"screen\",\"top_units\":\"screen\"},\"id\":\"3139\",\"type\":\"BoxAnnotation\"},{\"attributes\":{\"grid_line_color\":null,\"ticker\":{\"id\":\"3107\",\"type\":\"BasicTicker\"}},\"id\":\"3110\",\"type\":\"Grid\"},{\"attributes\":{},\"id\":\"3119\",\"type\":\"SaveTool\"},{\"attributes\":{\"fill_color\":{\"value\":\"#FA1857\"},\"line_color\":{\"value\":\"#FA1857\"},\"size\":{\"units\":\"screen\",\"value\":3},\"x\":{\"field\":\"x\"},\"y\":{\"field\":\"y\"}},\"id\":\"3143\",\"type\":\"Circle\"},{\"attributes\":{\"axis_label\":\"Years\",\"formatter\":{\"id\":\"3137\",\"type\":\"BasicTickFormatter\"},\"ticker\":{\"id\":\"3107\",\"type\":\"BasicTicker\"}},\"id\":\"3106\",\"type\":\"LinearAxis\"},{\"attributes\":{},\"id\":\"3287\",\"type\":\"UnionRenderers\"},{\"attributes\":{},\"id\":\"3117\",\"type\":\"WheelZoomTool\"},{\"attributes\":{\"fill_alpha\":{\"value\":0.1},\"fill_color\":{\"value\":\"#1f77b4\"},\"line_alpha\":{\"value\":0.1},\"line_color\":{\"value\":\"#1f77b4\"},\"size\":{\"units\":\"screen\",\"value\":3},\"x\":{\"field\":\"x\"},\"y\":{\"field\":\"y\"}},\"id\":\"3144\",\"type\":\"Circle\"},{\"attributes\":{},\"id\":\"3107\",\"type\":\"BasicTicker\"},{\"attributes\":{\"source\":{\"id\":\"3142\",\"type\":\"ColumnDataSource\"}},\"id\":\"3146\",\"type\":\"CDSView\"},{\"attributes\":{},\"id\":\"3285\",\"type\":\"UnionRenderers\"},{\"attributes\":{},\"id\":\"3135\",\"type\":\"BasicTickFormatter\"},{\"attributes\":{\"callback\":null,\"data\":{\"x\":[\"2010\",\"2011\",\"2012\",\"2013\",\"2014\",\"2015\",\"2016\",\"2017\"],\"y\":[590103650.0,599729467.0,607552372.0,617585217.0,627707285.0,637891695.0,648126174.0,658398338.0]},\"selected\":{\"id\":\"3286\",\"type\":\"Selection\"},\"selection_policy\":{\"id\":\"3285\",\"type\":\"UnionRenderers\"}},\"id\":\"3129\",\"type\":\"ColumnDataSource\"},{\"attributes\":{\"text\":\"Rural population\"},\"id\":\"3096\",\"type\":\"Title\"},{\"attributes\":{},\"id\":\"3137\",\"type\":\"BasicTickFormatter\"}],\"root_ids\":[\"3095\"]},\"title\":\"Bokeh Application\",\"version\":\"1.3.4\"}};\n",
       "  var render_items = [{\"docid\":\"31bd4b1b-6751-45b3-99c2-f6fe4ddf02f8\",\"roots\":{\"3095\":\"aef8201d-b66d-4dfe-898c-9bcb08fc61f3\"}}];\n",
       "  root.Bokeh.embed.embed_items_notebook(docs_json, render_items);\n",
       "\n",
       "  }\n",
       "  if (root.Bokeh !== undefined) {\n",
       "    embed_document(root);\n",
       "  } else {\n",
       "    var attempts = 0;\n",
       "    var timer = setInterval(function(root) {\n",
       "      if (root.Bokeh !== undefined) {\n",
       "        embed_document(root);\n",
       "        clearInterval(timer);\n",
       "      }\n",
       "      attempts++;\n",
       "      if (attempts > 100) {\n",
       "        console.log(\"Bokeh: ERROR: Unable to run BokehJS code because BokehJS library is missing\");\n",
       "        clearInterval(timer);\n",
       "      }\n",
       "    }, 10, root)\n",
       "  }\n",
       "})(window);"
      ],
      "application/vnd.bokehjs_exec.v0+json": ""
     },
     "metadata": {
      "application/vnd.bokehjs_exec.v0+json": {
       "id": "3095"
      }
     },
     "output_type": "display_data"
    }
   ],
   "source": [
    "result = show_group_total(years, 'SP.RUR.TOTL', ['LDCs'], \n",
    "                                height=400, width=1000, line_width=4)"
   ]
  },
  {
   "cell_type": "markdown",
   "metadata": {
    "slideshow": {
     "slide_type": "slide"
    }
   },
   "source": [
    "# Rural job creation is crucial for poverty eradication\n",
    "\n",
    " + Smallholder population have an important role in achieving food security\n",
    "\n",
    " + Importance of synergies between urban and rural development\n",
    "\n",
    " + The majority of the population lives in rural areas in LDCs, yet agriculture generates less than 30% of GDP"
   ]
  },
  {
   "cell_type": "code",
   "execution_count": 15,
   "metadata": {
    "ExecuteTime": {
     "end_time": "2019-10-25T14:24:52.788910Z",
     "start_time": "2019-10-25T14:24:46.379697Z"
    },
    "slideshow": {
     "slide_type": "slide"
    }
   },
   "outputs": [
    {
     "data": {
      "text/html": [
       "\n",
       "\n",
       "\n",
       "\n",
       "\n",
       "\n",
       "  <div class=\"bk-root\" id=\"0af14790-8551-4fe7-a12b-79048fd5d74d\" data-root-id=\"3350\"></div>\n"
      ]
     },
     "metadata": {},
     "output_type": "display_data"
    },
    {
     "data": {
      "application/javascript": [
       "(function(root) {\n",
       "  function embed_document(root) {\n",
       "    \n",
       "  var docs_json = {\"df18c4cc-4b36-4635-8dbd-8b5c9c0f63be\":{\"roots\":{\"references\":[{\"attributes\":{\"below\":[{\"id\":\"3361\",\"type\":\"LinearAxis\"}],\"center\":[{\"id\":\"3365\",\"type\":\"Grid\"},{\"id\":\"3370\",\"type\":\"Grid\"},{\"id\":\"3395\",\"type\":\"Legend\"}],\"left\":[{\"id\":\"3366\",\"type\":\"LinearAxis\"}],\"plot_height\":400,\"plot_width\":1000,\"renderers\":[{\"id\":\"3387\",\"type\":\"GlyphRenderer\"},{\"id\":\"3400\",\"type\":\"GlyphRenderer\"},{\"id\":\"3405\",\"type\":\"GlyphRenderer\"},{\"id\":\"3421\",\"type\":\"GlyphRenderer\"},{\"id\":\"3426\",\"type\":\"GlyphRenderer\"},{\"id\":\"3446\",\"type\":\"GlyphRenderer\"}],\"title\":{\"id\":\"3351\",\"type\":\"Title\"},\"toolbar\":{\"id\":\"3377\",\"type\":\"Toolbar\"},\"x_range\":{\"id\":\"3353\",\"type\":\"DataRange1d\"},\"x_scale\":{\"id\":\"3357\",\"type\":\"LinearScale\"},\"y_range\":{\"id\":\"3355\",\"type\":\"DataRange1d\"},\"y_scale\":{\"id\":\"3359\",\"type\":\"LinearScale\"}},\"id\":\"3350\",\"subtype\":\"Figure\",\"type\":\"Plot\"},{\"attributes\":{\"data_source\":{\"id\":\"3423\",\"type\":\"ColumnDataSource\"},\"glyph\":{\"id\":\"3424\",\"type\":\"Line\"},\"hover_glyph\":null,\"muted_glyph\":null,\"nonselection_glyph\":{\"id\":\"3425\",\"type\":\"Line\"},\"selection_glyph\":null,\"view\":{\"id\":\"3427\",\"type\":\"CDSView\"}},\"id\":\"3426\",\"type\":\"GlyphRenderer\"},{\"attributes\":{\"callback\":null,\"data\":{\"x\":[\"2000\",\"2001\",\"2002\",\"2003\",\"2004\",\"2005\",\"2006\",\"2007\",\"2008\",\"2009\",\"2010\",\"2011\",\"2012\",\"2013\",\"2014\",\"2015\",\"2016\",\"2017\"],\"y\":[31.45501317728547,31.043683748305877,30.511296017830627,29.917494644233273,29.36093695575281,28.890888585119253,28.471845013916965,28.126271073986057,27.83776671071426,27.567471401995352,27.29508958383986,27.05516942192989,26.810529887579573,26.56498460112185,26.326362059346703,26.096530369916763,25.87910474904753,25.665245061731724]},\"selected\":{\"id\":\"3438\",\"type\":\"Selection\"},\"selection_policy\":{\"id\":\"3437\",\"type\":\"UnionRenderers\"}},\"id\":\"3402\",\"type\":\"ColumnDataSource\"},{\"attributes\":{},\"id\":\"3374\",\"type\":\"SaveTool\"},{\"attributes\":{\"source\":{\"id\":\"3423\",\"type\":\"ColumnDataSource\"}},\"id\":\"3427\",\"type\":\"CDSView\"},{\"attributes\":{\"line_color\":\"#5430F1\",\"line_width\":4,\"x\":{\"field\":\"x\"},\"y\":{\"field\":\"y\"}},\"id\":\"3403\",\"type\":\"Line\"},{\"attributes\":{},\"id\":\"3375\",\"type\":\"ResetTool\"},{\"attributes\":{\"text\":\"Population ages 0-14 (% of total population) weighted against Population, total\"},\"id\":\"3351\",\"type\":\"Title\"},{\"attributes\":{},\"id\":\"3437\",\"type\":\"UnionRenderers\"},{\"attributes\":{\"line_alpha\":0.1,\"line_color\":\"#1f77b4\",\"line_width\":4,\"x\":{\"field\":\"x\"},\"y\":{\"field\":\"y\"}},\"id\":\"3404\",\"type\":\"Line\"},{\"attributes\":{},\"id\":\"3376\",\"type\":\"HelpTool\"},{\"attributes\":{\"callback\":null},\"id\":\"3353\",\"type\":\"DataRange1d\"},{\"attributes\":{},\"id\":\"3438\",\"type\":\"Selection\"},{\"attributes\":{\"data_source\":{\"id\":\"3402\",\"type\":\"ColumnDataSource\"},\"glyph\":{\"id\":\"3403\",\"type\":\"Line\"},\"hover_glyph\":null,\"muted_glyph\":null,\"nonselection_glyph\":{\"id\":\"3404\",\"type\":\"Line\"},\"selection_glyph\":null,\"view\":{\"id\":\"3406\",\"type\":\"CDSView\"}},\"id\":\"3405\",\"type\":\"GlyphRenderer\"},{\"attributes\":{\"active_drag\":\"auto\",\"active_inspect\":\"auto\",\"active_multi\":null,\"active_scroll\":\"auto\",\"active_tap\":\"auto\",\"tools\":[{\"id\":\"3371\",\"type\":\"PanTool\"},{\"id\":\"3372\",\"type\":\"WheelZoomTool\"},{\"id\":\"3373\",\"type\":\"BoxZoomTool\"},{\"id\":\"3374\",\"type\":\"SaveTool\"},{\"id\":\"3375\",\"type\":\"ResetTool\"},{\"id\":\"3376\",\"type\":\"HelpTool\"},{\"id\":\"3448\",\"type\":\"HoverTool\"}]},\"id\":\"3377\",\"type\":\"Toolbar\"},{\"attributes\":{\"callback\":null},\"id\":\"3355\",\"type\":\"DataRange1d\"},{\"attributes\":{},\"id\":\"3439\",\"type\":\"UnionRenderers\"},{\"attributes\":{\"source\":{\"id\":\"3402\",\"type\":\"ColumnDataSource\"}},\"id\":\"3406\",\"type\":\"CDSView\"},{\"attributes\":{},\"id\":\"3357\",\"type\":\"LinearScale\"},{\"attributes\":{\"data_source\":{\"id\":\"3384\",\"type\":\"ColumnDataSource\"},\"glyph\":{\"id\":\"3385\",\"type\":\"Line\"},\"hover_glyph\":null,\"muted_glyph\":null,\"nonselection_glyph\":{\"id\":\"3386\",\"type\":\"Line\"},\"selection_glyph\":null,\"view\":{\"id\":\"3388\",\"type\":\"CDSView\"}},\"id\":\"3387\",\"type\":\"GlyphRenderer\"},{\"attributes\":{},\"id\":\"3440\",\"type\":\"Selection\"},{\"attributes\":{},\"id\":\"3412\",\"type\":\"UnionRenderers\"},{\"attributes\":{},\"id\":\"3359\",\"type\":\"LinearScale\"},{\"attributes\":{\"label\":{\"value\":\"OECD\"},\"renderers\":[{\"id\":\"3426\",\"type\":\"GlyphRenderer\"}]},\"id\":\"3442\",\"type\":\"LegendItem\"},{\"attributes\":{},\"id\":\"3413\",\"type\":\"Selection\"},{\"attributes\":{\"source\":{\"id\":\"3384\",\"type\":\"ColumnDataSource\"}},\"id\":\"3388\",\"type\":\"CDSView\"},{\"attributes\":{\"axis_label\":\"Years\",\"formatter\":{\"id\":\"3392\",\"type\":\"BasicTickFormatter\"},\"ticker\":{\"id\":\"3362\",\"type\":\"BasicTicker\"}},\"id\":\"3361\",\"type\":\"LinearAxis\"},{\"attributes\":{},\"id\":\"3414\",\"type\":\"UnionRenderers\"},{\"attributes\":{\"callback\":null,\"data\":{\"x\":[\"2000\",\"2001\",\"2002\",\"2003\",\"2004\",\"2005\",\"2006\",\"2007\",\"2008\",\"2009\",\"2010\",\"2011\",\"2012\",\"2013\",\"2014\",\"2015\",\"2016\",\"2017\"],\"y\":[20.653439230371426,20.415555136413452,20.200407075212425,19.99721546354425,19.792580083113325,19.58153049491419,19.42936673752946,19.266708712785178,19.10062316536645,18.940792466102835,18.78763312883592,18.68284269266012,18.553760570557017,18.4175092045611,18.28626606521173,18.163323640146963,18.042734326142373,17.93618839869138]},\"selected\":{\"id\":\"3607\",\"type\":\"Selection\"},\"selection_policy\":{\"id\":\"3606\",\"type\":\"UnionRenderers\"}},\"id\":\"3443\",\"type\":\"ColumnDataSource\"},{\"attributes\":{},\"id\":\"3390\",\"type\":\"BasicTickFormatter\"},{\"attributes\":{},\"id\":\"3362\",\"type\":\"BasicTicker\"},{\"attributes\":{\"fill_color\":{\"value\":\"#2CC775\"},\"line_color\":{\"value\":\"#2CC775\"},\"size\":{\"units\":\"screen\",\"value\":1},\"x\":{\"field\":\"x\"},\"y\":{\"field\":\"y\"}},\"id\":\"3444\",\"type\":\"Circle\"},{\"attributes\":{},\"id\":\"3415\",\"type\":\"Selection\"},{\"attributes\":{\"grid_line_color\":null,\"ticker\":{\"id\":\"3362\",\"type\":\"BasicTicker\"}},\"id\":\"3365\",\"type\":\"Grid\"},{\"attributes\":{\"fill_alpha\":{\"value\":0.1},\"fill_color\":{\"value\":\"#1f77b4\"},\"line_alpha\":{\"value\":0.1},\"line_color\":{\"value\":\"#1f77b4\"},\"size\":{\"units\":\"screen\",\"value\":1},\"x\":{\"field\":\"x\"},\"y\":{\"field\":\"y\"}},\"id\":\"3445\",\"type\":\"Circle\"},{\"attributes\":{},\"id\":\"3392\",\"type\":\"BasicTickFormatter\"},{\"attributes\":{\"label\":{\"value\":\"Developing excluding LDCs\"},\"renderers\":[{\"id\":\"3405\",\"type\":\"GlyphRenderer\"}]},\"id\":\"3417\",\"type\":\"LegendItem\"},{\"attributes\":{\"data_source\":{\"id\":\"3443\",\"type\":\"ColumnDataSource\"},\"glyph\":{\"id\":\"3444\",\"type\":\"Circle\"},\"hover_glyph\":null,\"muted_glyph\":null,\"nonselection_glyph\":{\"id\":\"3445\",\"type\":\"Circle\"},\"selection_glyph\":null,\"view\":{\"id\":\"3447\",\"type\":\"CDSView\"}},\"id\":\"3446\",\"type\":\"GlyphRenderer\"},{\"attributes\":{\"bottom_units\":\"screen\",\"fill_alpha\":{\"value\":0.5},\"fill_color\":{\"value\":\"lightgrey\"},\"left_units\":\"screen\",\"level\":\"overlay\",\"line_alpha\":{\"value\":1.0},\"line_color\":{\"value\":\"black\"},\"line_dash\":[4,4],\"line_width\":{\"value\":2},\"render_mode\":\"css\",\"right_units\":\"screen\",\"top_units\":\"screen\"},\"id\":\"3394\",\"type\":\"BoxAnnotation\"},{\"attributes\":{\"axis_label\":\"SP.POP.0014.TO.ZS\",\"formatter\":{\"id\":\"3390\",\"type\":\"BasicTickFormatter\"},\"ticker\":{\"id\":\"3367\",\"type\":\"BasicTicker\"}},\"id\":\"3366\",\"type\":\"LinearAxis\"},{\"attributes\":{\"callback\":null,\"data\":{\"x\":[\"2000\",\"2001\",\"2002\",\"2003\",\"2004\",\"2005\",\"2006\",\"2007\",\"2008\",\"2009\",\"2010\",\"2011\",\"2012\",\"2013\",\"2014\",\"2015\",\"2016\",\"2017\"],\"y\":[31.45501317728547,31.043683748305877,30.511296017830627,29.917494644233273,29.36093695575281,28.890888585119253,28.471845013916965,28.126271073986057,27.83776671071426,27.567471401995352,27.29508958383986,27.05516942192989,26.810529887579573,26.56498460112185,26.326362059346703,26.096530369916763,25.87910474904753,25.665245061731724]},\"selected\":{\"id\":\"3440\",\"type\":\"Selection\"},\"selection_policy\":{\"id\":\"3439\",\"type\":\"UnionRenderers\"}},\"id\":\"3418\",\"type\":\"ColumnDataSource\"},{\"attributes\":{\"items\":[{\"id\":\"3396\",\"type\":\"LegendItem\"},{\"id\":\"3417\",\"type\":\"LegendItem\"},{\"id\":\"3442\",\"type\":\"LegendItem\"}],\"location\":\"bottom_left\"},\"id\":\"3395\",\"type\":\"Legend\"},{\"attributes\":{\"source\":{\"id\":\"3443\",\"type\":\"ColumnDataSource\"}},\"id\":\"3447\",\"type\":\"CDSView\"},{\"attributes\":{\"fill_color\":{\"value\":\"#5430F1\"},\"line_color\":{\"value\":\"#5430F1\"},\"size\":{\"units\":\"screen\",\"value\":1},\"x\":{\"field\":\"x\"},\"y\":{\"field\":\"y\"}},\"id\":\"3419\",\"type\":\"Circle\"},{\"attributes\":{},\"id\":\"3367\",\"type\":\"BasicTicker\"},{\"attributes\":{\"label\":{\"value\":\"LDCs\"},\"renderers\":[{\"id\":\"3387\",\"type\":\"GlyphRenderer\"}]},\"id\":\"3396\",\"type\":\"LegendItem\"},{\"attributes\":{\"dimension\":1,\"grid_line_alpha\":0.5,\"ticker\":{\"id\":\"3367\",\"type\":\"BasicTicker\"}},\"id\":\"3370\",\"type\":\"Grid\"},{\"attributes\":{\"fill_alpha\":{\"value\":0.1},\"fill_color\":{\"value\":\"#1f77b4\"},\"line_alpha\":{\"value\":0.1},\"line_color\":{\"value\":\"#1f77b4\"},\"size\":{\"units\":\"screen\",\"value\":1},\"x\":{\"field\":\"x\"},\"y\":{\"field\":\"y\"}},\"id\":\"3420\",\"type\":\"Circle\"},{\"attributes\":{\"callback\":null,\"data\":{\"x\":[\"2000\",\"2001\",\"2002\",\"2003\",\"2004\",\"2005\",\"2006\",\"2007\",\"2008\",\"2009\",\"2010\",\"2011\",\"2012\",\"2013\",\"2014\",\"2015\",\"2016\",\"2017\"],\"y\":[42.501489666698774,42.37374392265807,42.22887581740992,42.07219844488613,41.90384954996243,41.72083610508943,41.610008469641,41.47442096320036,41.316846318100616,41.141558470261536,40.95102839868382,40.755189506552824,40.53475295078126,40.29220143540501,40.03263457305002,39.758822964891884,39.49253508027312,39.211954136230496]},\"selected\":{\"id\":\"3415\",\"type\":\"Selection\"},\"selection_policy\":{\"id\":\"3414\",\"type\":\"UnionRenderers\"}},\"id\":\"3397\",\"type\":\"ColumnDataSource\"},{\"attributes\":{},\"id\":\"3604\",\"type\":\"UnionRenderers\"},{\"attributes\":{\"data_source\":{\"id\":\"3418\",\"type\":\"ColumnDataSource\"},\"glyph\":{\"id\":\"3419\",\"type\":\"Circle\"},\"hover_glyph\":null,\"muted_glyph\":null,\"nonselection_glyph\":{\"id\":\"3420\",\"type\":\"Circle\"},\"selection_glyph\":null,\"view\":{\"id\":\"3422\",\"type\":\"CDSView\"}},\"id\":\"3421\",\"type\":\"GlyphRenderer\"},{\"attributes\":{\"line_color\":\"#FA1857\",\"line_width\":4,\"x\":{\"field\":\"x\"},\"y\":{\"field\":\"y\"}},\"id\":\"3385\",\"type\":\"Line\"},{\"attributes\":{\"fill_color\":{\"value\":\"#FA1857\"},\"line_color\":{\"value\":\"#FA1857\"},\"size\":{\"units\":\"screen\",\"value\":1},\"x\":{\"field\":\"x\"},\"y\":{\"field\":\"y\"}},\"id\":\"3398\",\"type\":\"Circle\"},{\"attributes\":{},\"id\":\"3605\",\"type\":\"Selection\"},{\"attributes\":{\"callback\":null,\"data\":{\"x\":[\"2000\",\"2001\",\"2002\",\"2003\",\"2004\",\"2005\",\"2006\",\"2007\",\"2008\",\"2009\",\"2010\",\"2011\",\"2012\",\"2013\",\"2014\",\"2015\",\"2016\",\"2017\"],\"y\":[42.501489666698774,42.37374392265807,42.22887581740992,42.07219844488613,41.90384954996243,41.72083610508943,41.610008469641,41.47442096320036,41.316846318100616,41.141558470261536,40.95102839868382,40.755189506552824,40.53475295078126,40.29220143540501,40.03263457305002,39.758822964891884,39.49253508027312,39.211954136230496]},\"selected\":{\"id\":\"3413\",\"type\":\"Selection\"},\"selection_policy\":{\"id\":\"3412\",\"type\":\"UnionRenderers\"}},\"id\":\"3384\",\"type\":\"ColumnDataSource\"},{\"attributes\":{\"source\":{\"id\":\"3418\",\"type\":\"ColumnDataSource\"}},\"id\":\"3422\",\"type\":\"CDSView\"},{\"attributes\":{\"callback\":null,\"tooltips\":\"                \\n        <div style=padding=5px>Year:@x</div>\\n        <div style=padding=5px>Value:@y</div>        \\n        \"},\"id\":\"3448\",\"type\":\"HoverTool\"},{\"attributes\":{\"fill_alpha\":{\"value\":0.1},\"fill_color\":{\"value\":\"#1f77b4\"},\"line_alpha\":{\"value\":0.1},\"line_color\":{\"value\":\"#1f77b4\"},\"size\":{\"units\":\"screen\",\"value\":1},\"x\":{\"field\":\"x\"},\"y\":{\"field\":\"y\"}},\"id\":\"3399\",\"type\":\"Circle\"},{\"attributes\":{},\"id\":\"3606\",\"type\":\"UnionRenderers\"},{\"attributes\":{\"line_alpha\":0.1,\"line_color\":\"#1f77b4\",\"line_width\":4,\"x\":{\"field\":\"x\"},\"y\":{\"field\":\"y\"}},\"id\":\"3386\",\"type\":\"Line\"},{\"attributes\":{\"callback\":null,\"data\":{\"x\":[\"2000\",\"2001\",\"2002\",\"2003\",\"2004\",\"2005\",\"2006\",\"2007\",\"2008\",\"2009\",\"2010\",\"2011\",\"2012\",\"2013\",\"2014\",\"2015\",\"2016\",\"2017\"],\"y\":[20.653439230371426,20.415555136413452,20.200407075212425,19.99721546354425,19.792580083113325,19.58153049491419,19.42936673752946,19.266708712785178,19.10062316536645,18.940792466102835,18.78763312883592,18.68284269266012,18.553760570557017,18.4175092045611,18.28626606521173,18.163323640146963,18.042734326142373,17.93618839869138]},\"selected\":{\"id\":\"3605\",\"type\":\"Selection\"},\"selection_policy\":{\"id\":\"3604\",\"type\":\"UnionRenderers\"}},\"id\":\"3423\",\"type\":\"ColumnDataSource\"},{\"attributes\":{},\"id\":\"3371\",\"type\":\"PanTool\"},{\"attributes\":{\"data_source\":{\"id\":\"3397\",\"type\":\"ColumnDataSource\"},\"glyph\":{\"id\":\"3398\",\"type\":\"Circle\"},\"hover_glyph\":null,\"muted_glyph\":null,\"nonselection_glyph\":{\"id\":\"3399\",\"type\":\"Circle\"},\"selection_glyph\":null,\"view\":{\"id\":\"3401\",\"type\":\"CDSView\"}},\"id\":\"3400\",\"type\":\"GlyphRenderer\"},{\"attributes\":{},\"id\":\"3607\",\"type\":\"Selection\"},{\"attributes\":{\"line_color\":\"#2CC775\",\"line_width\":4,\"x\":{\"field\":\"x\"},\"y\":{\"field\":\"y\"}},\"id\":\"3424\",\"type\":\"Line\"},{\"attributes\":{\"overlay\":{\"id\":\"3394\",\"type\":\"BoxAnnotation\"}},\"id\":\"3373\",\"type\":\"BoxZoomTool\"},{\"attributes\":{},\"id\":\"3372\",\"type\":\"WheelZoomTool\"},{\"attributes\":{\"source\":{\"id\":\"3397\",\"type\":\"ColumnDataSource\"}},\"id\":\"3401\",\"type\":\"CDSView\"},{\"attributes\":{\"line_alpha\":0.1,\"line_color\":\"#1f77b4\",\"line_width\":4,\"x\":{\"field\":\"x\"},\"y\":{\"field\":\"y\"}},\"id\":\"3425\",\"type\":\"Line\"}],\"root_ids\":[\"3350\"]},\"title\":\"Bokeh Application\",\"version\":\"1.3.4\"}};\n",
       "  var render_items = [{\"docid\":\"df18c4cc-4b36-4635-8dbd-8b5c9c0f63be\",\"roots\":{\"3350\":\"0af14790-8551-4fe7-a12b-79048fd5d74d\"}}];\n",
       "  root.Bokeh.embed.embed_items_notebook(docs_json, render_items);\n",
       "\n",
       "  }\n",
       "  if (root.Bokeh !== undefined) {\n",
       "    embed_document(root);\n",
       "  } else {\n",
       "    var attempts = 0;\n",
       "    var timer = setInterval(function(root) {\n",
       "      if (root.Bokeh !== undefined) {\n",
       "        embed_document(root);\n",
       "        clearInterval(timer);\n",
       "      }\n",
       "      attempts++;\n",
       "      if (attempts > 100) {\n",
       "        console.log(\"Bokeh: ERROR: Unable to run BokehJS code because BokehJS library is missing\");\n",
       "        clearInterval(timer);\n",
       "      }\n",
       "    }, 10, root)\n",
       "  }\n",
       "})(window);"
      ],
      "application/vnd.bokehjs_exec.v0+json": ""
     },
     "metadata": {
      "application/vnd.bokehjs_exec.v0+json": {
       "id": "3350"
      }
     },
     "output_type": "display_data"
    }
   ],
   "source": [
    "years = list(map(str, list(range(2000,2018))))\n",
    "# Population 0-14\n",
    "result = show_weighted_average(years, 'SP.POP.0014.TO.ZS', 'SP.POP.TOTL', \n",
    "                               ['LDCs', 'Developing excluding LDCs', 'OECD'], \n",
    "                                height=400, width=1000, line_width=4)"
   ]
  },
  {
   "cell_type": "code",
   "execution_count": 16,
   "metadata": {
    "slideshow": {
     "slide_type": "slide"
    }
   },
   "outputs": [
    {
     "data": {
      "text/html": [
       "\n",
       "\n",
       "\n",
       "\n",
       "\n",
       "\n",
       "  <div class=\"bk-root\" id=\"e029c92c-af45-4c26-84ab-1cd96d515044\" data-root-id=\"3717\"></div>\n"
      ]
     },
     "metadata": {},
     "output_type": "display_data"
    },
    {
     "data": {
      "application/javascript": [
       "(function(root) {\n",
       "  function embed_document(root) {\n",
       "    \n",
       "  var docs_json = {\"0d9a2ca6-d2d0-449e-849a-9b1f6ad097af\":{\"roots\":{\"references\":[{\"attributes\":{\"below\":[{\"id\":\"3728\",\"type\":\"LinearAxis\"}],\"center\":[{\"id\":\"3732\",\"type\":\"Grid\"},{\"id\":\"3737\",\"type\":\"Grid\"},{\"id\":\"3762\",\"type\":\"Legend\"}],\"left\":[{\"id\":\"3733\",\"type\":\"LinearAxis\"}],\"plot_height\":400,\"plot_width\":900,\"renderers\":[{\"id\":\"3754\",\"type\":\"GlyphRenderer\"},{\"id\":\"3767\",\"type\":\"GlyphRenderer\"}],\"title\":{\"id\":\"3718\",\"type\":\"Title\"},\"toolbar\":{\"id\":\"3744\",\"type\":\"Toolbar\"},\"x_range\":{\"id\":\"3720\",\"type\":\"DataRange1d\"},\"x_scale\":{\"id\":\"3724\",\"type\":\"LinearScale\"},\"y_range\":{\"id\":\"3722\",\"type\":\"DataRange1d\"},\"y_scale\":{\"id\":\"3726\",\"type\":\"LinearScale\"}},\"id\":\"3717\",\"subtype\":\"Figure\",\"type\":\"Plot\"},{\"attributes\":{\"axis_label\":\"Years\",\"formatter\":{\"id\":\"3759\",\"type\":\"BasicTickFormatter\"},\"ticker\":{\"id\":\"3729\",\"type\":\"BasicTicker\"}},\"id\":\"3728\",\"type\":\"LinearAxis\"},{\"attributes\":{},\"id\":\"3757\",\"type\":\"BasicTickFormatter\"},{\"attributes\":{},\"id\":\"3729\",\"type\":\"BasicTicker\"},{\"attributes\":{},\"id\":\"3759\",\"type\":\"BasicTickFormatter\"},{\"attributes\":{\"grid_line_color\":null,\"ticker\":{\"id\":\"3729\",\"type\":\"BasicTicker\"}},\"id\":\"3732\",\"type\":\"Grid\"},{\"attributes\":{\"bottom_units\":\"screen\",\"fill_alpha\":{\"value\":0.5},\"fill_color\":{\"value\":\"lightgrey\"},\"left_units\":\"screen\",\"level\":\"overlay\",\"line_alpha\":{\"value\":1.0},\"line_color\":{\"value\":\"black\"},\"line_dash\":[4,4],\"line_width\":{\"value\":2},\"render_mode\":\"css\",\"right_units\":\"screen\",\"top_units\":\"screen\"},\"id\":\"3761\",\"type\":\"BoxAnnotation\"},{\"attributes\":{\"axis_label\":\"Population below 30\",\"formatter\":{\"id\":\"3757\",\"type\":\"BasicTickFormatter\"},\"ticker\":{\"id\":\"3734\",\"type\":\"BasicTicker\"}},\"id\":\"3733\",\"type\":\"LinearAxis\"},{\"attributes\":{\"items\":[{\"id\":\"3763\",\"type\":\"LegendItem\"}],\"location\":\"bottom_left\"},\"id\":\"3762\",\"type\":\"Legend\"},{\"attributes\":{},\"id\":\"3734\",\"type\":\"BasicTicker\"},{\"attributes\":{\"label\":{\"value\":\"LDCs\"},\"renderers\":[{\"id\":\"3754\",\"type\":\"GlyphRenderer\"}]},\"id\":\"3763\",\"type\":\"LegendItem\"},{\"attributes\":{\"dimension\":1,\"grid_line_alpha\":0.5,\"ticker\":{\"id\":\"3734\",\"type\":\"BasicTicker\"}},\"id\":\"3737\",\"type\":\"Grid\"},{\"attributes\":{\"callback\":null,\"data\":{\"x\":[1950.0,1951.0,1952.0,1953.0,1954.0,1955.0,1956.0,1957.0,1958.0,1959.0,1960.0,1961.0,1962.0,1963.0,1964.0,1965.0,1966.0,1967.0,1968.0,1969.0,1970.0,1971.0,1972.0,1973.0,1974.0,1975.0,1976.0,1977.0,1978.0,1979.0,1980.0,1981.0,1982.0,1983.0,1984.0,1985.0,1986.0,1987.0,1988.0,1989.0,1990.0,1991.0,1992.0,1993.0,1994.0,1995.0,1996.0,1997.0,1998.0,1999.0,2000.0,2001.0,2002.0,2003.0,2004.0,2005.0,2006.0,2007.0,2008.0,2009.0,2010.0,2011.0,2012.0,2013.0,2014.0,2015.0,2016.0,2017.0,2018.0,2019.0,2020.0],\"y\":[132855.88099999996,135623.16100000002,138407.477,141227.311,144119.51400000002,147127.231,150509.91700000002,153963.42400000003,157518.09399999998,161189.969,164981.977,169109.49200000006,173326.13599999997,177665.10000000006,182166.30499999996,186863.58400000003,192073.58499999996,197434.59099999996,202899.996,208393.333,213859.267,219331.986,224731.436,230128.11800000002,235632.36299999998,241339.312,247786.55999999997,254424.46299999993,261269.672,268312.89499999996,275543.42300000007,283376.7379999999,291350.78199999995,299481.427,307779.018,316260.33599999995,325094.9699999999,334018.047,343080.72,352344.05400000006,361846.22199999995,371586.42400000006,381491.8949999999,391487.6139999999,401463.72899999993,411352.94100000005,421795.947,432141.857,442496.88000000006,453010.24,463788.02800000005,475026.4589999999,486453.019,498005.87899999996,509581.276,521108.3789999999,532682.003,544207.1329999999,555758.8630000001,567425.0279999999,579272.7570000001,591382.7909999999,603599.0029999999,615969.5159999998,628560.117,641410.265,654453.5269999998,667655.3029999998,680941.229,694201.3130000002,707362.3299999997]},\"selected\":{\"id\":\"3938\",\"type\":\"Selection\"},\"selection_policy\":{\"id\":\"3937\",\"type\":\"UnionRenderers\"}},\"id\":\"3764\",\"type\":\"ColumnDataSource\"},{\"attributes\":{\"fill_color\":{\"value\":\"#FA1857\"},\"line_color\":{\"value\":\"#FA1857\"},\"size\":{\"units\":\"screen\",\"value\":3},\"x\":{\"field\":\"x\"},\"y\":{\"field\":\"y\"}},\"id\":\"3765\",\"type\":\"Circle\"},{\"attributes\":{\"line_color\":\"#FA1857\",\"line_width\":4,\"x\":{\"field\":\"x\"},\"y\":{\"field\":\"y\"}},\"id\":\"3752\",\"type\":\"Line\"},{\"attributes\":{\"fill_alpha\":{\"value\":0.1},\"fill_color\":{\"value\":\"#1f77b4\"},\"line_alpha\":{\"value\":0.1},\"line_color\":{\"value\":\"#1f77b4\"},\"size\":{\"units\":\"screen\",\"value\":3},\"x\":{\"field\":\"x\"},\"y\":{\"field\":\"y\"}},\"id\":\"3766\",\"type\":\"Circle\"},{\"attributes\":{\"callback\":null,\"data\":{\"x\":[1950.0,1951.0,1952.0,1953.0,1954.0,1955.0,1956.0,1957.0,1958.0,1959.0,1960.0,1961.0,1962.0,1963.0,1964.0,1965.0,1966.0,1967.0,1968.0,1969.0,1970.0,1971.0,1972.0,1973.0,1974.0,1975.0,1976.0,1977.0,1978.0,1979.0,1980.0,1981.0,1982.0,1983.0,1984.0,1985.0,1986.0,1987.0,1988.0,1989.0,1990.0,1991.0,1992.0,1993.0,1994.0,1995.0,1996.0,1997.0,1998.0,1999.0,2000.0,2001.0,2002.0,2003.0,2004.0,2005.0,2006.0,2007.0,2008.0,2009.0,2010.0,2011.0,2012.0,2013.0,2014.0,2015.0,2016.0,2017.0,2018.0,2019.0,2020.0],\"y\":[132855.88099999996,135623.16100000002,138407.477,141227.311,144119.51400000002,147127.231,150509.91700000002,153963.42400000003,157518.09399999998,161189.969,164981.977,169109.49200000006,173326.13599999997,177665.10000000006,182166.30499999996,186863.58400000003,192073.58499999996,197434.59099999996,202899.996,208393.333,213859.267,219331.986,224731.436,230128.11800000002,235632.36299999998,241339.312,247786.55999999997,254424.46299999993,261269.672,268312.89499999996,275543.42300000007,283376.7379999999,291350.78199999995,299481.427,307779.018,316260.33599999995,325094.9699999999,334018.047,343080.72,352344.05400000006,361846.22199999995,371586.42400000006,381491.8949999999,391487.6139999999,401463.72899999993,411352.94100000005,421795.947,432141.857,442496.88000000006,453010.24,463788.02800000005,475026.4589999999,486453.019,498005.87899999996,509581.276,521108.3789999999,532682.003,544207.1329999999,555758.8630000001,567425.0279999999,579272.7570000001,591382.7909999999,603599.0029999999,615969.5159999998,628560.117,641410.265,654453.5269999998,667655.3029999998,680941.229,694201.3130000002,707362.3299999997]},\"selected\":{\"id\":\"3936\",\"type\":\"Selection\"},\"selection_policy\":{\"id\":\"3935\",\"type\":\"UnionRenderers\"}},\"id\":\"3751\",\"type\":\"ColumnDataSource\"},{\"attributes\":{\"data_source\":{\"id\":\"3764\",\"type\":\"ColumnDataSource\"},\"glyph\":{\"id\":\"3765\",\"type\":\"Circle\"},\"hover_glyph\":null,\"muted_glyph\":null,\"nonselection_glyph\":{\"id\":\"3766\",\"type\":\"Circle\"},\"selection_glyph\":null,\"view\":{\"id\":\"3768\",\"type\":\"CDSView\"}},\"id\":\"3767\",\"type\":\"GlyphRenderer\"},{\"attributes\":{},\"id\":\"3738\",\"type\":\"PanTool\"},{\"attributes\":{\"source\":{\"id\":\"3764\",\"type\":\"ColumnDataSource\"}},\"id\":\"3768\",\"type\":\"CDSView\"},{\"attributes\":{},\"id\":\"3739\",\"type\":\"WheelZoomTool\"},{\"attributes\":{\"overlay\":{\"id\":\"3761\",\"type\":\"BoxAnnotation\"}},\"id\":\"3740\",\"type\":\"BoxZoomTool\"},{\"attributes\":{\"callback\":null,\"tooltips\":\"                \\n        <div style=padding=5px>Year:@x</div>\\n        <div style=padding=5px>Value:@y</div>        \\n        \"},\"id\":\"3769\",\"type\":\"HoverTool\"},{\"attributes\":{},\"id\":\"3935\",\"type\":\"UnionRenderers\"},{\"attributes\":{},\"id\":\"3741\",\"type\":\"SaveTool\"},{\"attributes\":{},\"id\":\"3936\",\"type\":\"Selection\"},{\"attributes\":{},\"id\":\"3742\",\"type\":\"ResetTool\"},{\"attributes\":{},\"id\":\"3743\",\"type\":\"HelpTool\"},{\"attributes\":{},\"id\":\"3937\",\"type\":\"UnionRenderers\"},{\"attributes\":{\"callback\":null},\"id\":\"3720\",\"type\":\"DataRange1d\"},{\"attributes\":{\"text\":\"\"},\"id\":\"3718\",\"type\":\"Title\"},{\"attributes\":{\"active_drag\":\"auto\",\"active_inspect\":\"auto\",\"active_multi\":null,\"active_scroll\":\"auto\",\"active_tap\":\"auto\",\"tools\":[{\"id\":\"3738\",\"type\":\"PanTool\"},{\"id\":\"3739\",\"type\":\"WheelZoomTool\"},{\"id\":\"3740\",\"type\":\"BoxZoomTool\"},{\"id\":\"3741\",\"type\":\"SaveTool\"},{\"id\":\"3742\",\"type\":\"ResetTool\"},{\"id\":\"3743\",\"type\":\"HelpTool\"},{\"id\":\"3769\",\"type\":\"HoverTool\"}]},\"id\":\"3744\",\"type\":\"Toolbar\"},{\"attributes\":{},\"id\":\"3938\",\"type\":\"Selection\"},{\"attributes\":{\"line_alpha\":0.1,\"line_color\":\"#1f77b4\",\"line_width\":4,\"x\":{\"field\":\"x\"},\"y\":{\"field\":\"y\"}},\"id\":\"3753\",\"type\":\"Line\"},{\"attributes\":{\"callback\":null},\"id\":\"3722\",\"type\":\"DataRange1d\"},{\"attributes\":{},\"id\":\"3724\",\"type\":\"LinearScale\"},{\"attributes\":{\"data_source\":{\"id\":\"3751\",\"type\":\"ColumnDataSource\"},\"glyph\":{\"id\":\"3752\",\"type\":\"Line\"},\"hover_glyph\":null,\"muted_glyph\":null,\"nonselection_glyph\":{\"id\":\"3753\",\"type\":\"Line\"},\"selection_glyph\":null,\"view\":{\"id\":\"3755\",\"type\":\"CDSView\"}},\"id\":\"3754\",\"type\":\"GlyphRenderer\"},{\"attributes\":{\"source\":{\"id\":\"3751\",\"type\":\"ColumnDataSource\"}},\"id\":\"3755\",\"type\":\"CDSView\"},{\"attributes\":{},\"id\":\"3726\",\"type\":\"LinearScale\"}],\"root_ids\":[\"3717\"]},\"title\":\"Bokeh Application\",\"version\":\"1.3.4\"}};\n",
       "  var render_items = [{\"docid\":\"0d9a2ca6-d2d0-449e-849a-9b1f6ad097af\",\"roots\":{\"3717\":\"e029c92c-af45-4c26-84ab-1cd96d515044\"}}];\n",
       "  root.Bokeh.embed.embed_items_notebook(docs_json, render_items);\n",
       "\n",
       "  }\n",
       "  if (root.Bokeh !== undefined) {\n",
       "    embed_document(root);\n",
       "  } else {\n",
       "    var attempts = 0;\n",
       "    var timer = setInterval(function(root) {\n",
       "      if (root.Bokeh !== undefined) {\n",
       "        embed_document(root);\n",
       "        clearInterval(timer);\n",
       "      }\n",
       "      attempts++;\n",
       "      if (attempts > 100) {\n",
       "        console.log(\"Bokeh: ERROR: Unable to run BokehJS code because BokehJS library is missing\");\n",
       "        clearInterval(timer);\n",
       "      }\n",
       "    }, 10, root)\n",
       "  }\n",
       "})(window);"
      ],
      "application/vnd.bokehjs_exec.v0+json": ""
     },
     "metadata": {
      "application/vnd.bokehjs_exec.v0+json": {
       "id": "3717"
      }
     },
     "output_type": "display_data"
    }
   ],
   "source": [
    "d = sources.unpd.indicators.get_age_group_by_country_groups(\"0-29\", ['LDCs'])\n",
    "show(line_chart(d, d[0][3], x_axis_label=\"Years\", y_axis_label='Population below 30', height=400, \n",
    "                width=900, line_width=4))"
   ]
  },
  {
   "cell_type": "code",
   "execution_count": 17,
   "metadata": {
    "ExecuteTime": {
     "end_time": "2019-10-25T14:24:58.884216Z",
     "start_time": "2019-10-25T14:24:54.401294Z"
    },
    "slideshow": {
     "slide_type": "slide"
    }
   },
   "outputs": [
    {
     "data": {
      "text/html": [
       "\n",
       "\n",
       "\n",
       "\n",
       "\n",
       "\n",
       "  <div class=\"bk-root\" id=\"e0109113-6ad1-4333-856e-dafe7952e234\" data-root-id=\"4000\"></div>\n"
      ]
     },
     "metadata": {},
     "output_type": "display_data"
    },
    {
     "data": {
      "application/javascript": [
       "(function(root) {\n",
       "  function embed_document(root) {\n",
       "    \n",
       "  var docs_json = {\"2480aa3c-f86e-4eaa-a5d2-da4c610b627f\":{\"roots\":{\"references\":[{\"attributes\":{\"below\":[{\"id\":\"4011\",\"type\":\"LinearAxis\"}],\"center\":[{\"id\":\"4015\",\"type\":\"Grid\"},{\"id\":\"4020\",\"type\":\"Grid\"},{\"id\":\"4045\",\"type\":\"Legend\"}],\"left\":[{\"id\":\"4016\",\"type\":\"LinearAxis\"}],\"plot_height\":400,\"plot_width\":1000,\"renderers\":[{\"id\":\"4037\",\"type\":\"GlyphRenderer\"},{\"id\":\"4050\",\"type\":\"GlyphRenderer\"},{\"id\":\"4055\",\"type\":\"GlyphRenderer\"},{\"id\":\"4071\",\"type\":\"GlyphRenderer\"},{\"id\":\"4076\",\"type\":\"GlyphRenderer\"},{\"id\":\"4096\",\"type\":\"GlyphRenderer\"}],\"title\":{\"id\":\"4001\",\"type\":\"Title\"},\"toolbar\":{\"id\":\"4027\",\"type\":\"Toolbar\"},\"x_range\":{\"id\":\"4003\",\"type\":\"DataRange1d\"},\"x_scale\":{\"id\":\"4007\",\"type\":\"LinearScale\"},\"y_range\":{\"id\":\"4005\",\"type\":\"DataRange1d\"},\"y_scale\":{\"id\":\"4009\",\"type\":\"LinearScale\"}},\"id\":\"4000\",\"subtype\":\"Figure\",\"type\":\"Plot\"},{\"attributes\":{\"callback\":null},\"id\":\"4003\",\"type\":\"DataRange1d\"},{\"attributes\":{\"source\":{\"id\":\"4052\",\"type\":\"ColumnDataSource\"}},\"id\":\"4056\",\"type\":\"CDSView\"},{\"attributes\":{},\"id\":\"4089\",\"type\":\"UnionRenderers\"},{\"attributes\":{\"active_drag\":\"auto\",\"active_inspect\":\"auto\",\"active_multi\":null,\"active_scroll\":\"auto\",\"active_tap\":\"auto\",\"tools\":[{\"id\":\"4021\",\"type\":\"PanTool\"},{\"id\":\"4022\",\"type\":\"WheelZoomTool\"},{\"id\":\"4023\",\"type\":\"BoxZoomTool\"},{\"id\":\"4024\",\"type\":\"SaveTool\"},{\"id\":\"4025\",\"type\":\"ResetTool\"},{\"id\":\"4026\",\"type\":\"HelpTool\"},{\"id\":\"4098\",\"type\":\"HoverTool\"}]},\"id\":\"4027\",\"type\":\"Toolbar\"},{\"attributes\":{\"callback\":null},\"id\":\"4005\",\"type\":\"DataRange1d\"},{\"attributes\":{},\"id\":\"4062\",\"type\":\"UnionRenderers\"},{\"attributes\":{},\"id\":\"4090\",\"type\":\"Selection\"},{\"attributes\":{},\"id\":\"4007\",\"type\":\"LinearScale\"},{\"attributes\":{},\"id\":\"4063\",\"type\":\"Selection\"},{\"attributes\":{\"label\":{\"value\":\"OECD\"},\"renderers\":[{\"id\":\"4076\",\"type\":\"GlyphRenderer\"}]},\"id\":\"4092\",\"type\":\"LegendItem\"},{\"attributes\":{\"data_source\":{\"id\":\"4034\",\"type\":\"ColumnDataSource\"},\"glyph\":{\"id\":\"4035\",\"type\":\"Line\"},\"hover_glyph\":null,\"muted_glyph\":null,\"nonselection_glyph\":{\"id\":\"4036\",\"type\":\"Line\"},\"selection_glyph\":null,\"view\":{\"id\":\"4038\",\"type\":\"CDSView\"}},\"id\":\"4037\",\"type\":\"GlyphRenderer\"},{\"attributes\":{},\"id\":\"4009\",\"type\":\"LinearScale\"},{\"attributes\":{},\"id\":\"4064\",\"type\":\"UnionRenderers\"},{\"attributes\":{\"source\":{\"id\":\"4034\",\"type\":\"ColumnDataSource\"}},\"id\":\"4038\",\"type\":\"CDSView\"},{\"attributes\":{\"axis_label\":\"Years\",\"formatter\":{\"id\":\"4042\",\"type\":\"BasicTickFormatter\"},\"ticker\":{\"id\":\"4012\",\"type\":\"BasicTicker\"}},\"id\":\"4011\",\"type\":\"LinearAxis\"},{\"attributes\":{\"callback\":null,\"data\":{\"x\":[\"2000\",\"2001\",\"2002\",\"2003\",\"2004\",\"2005\",\"2006\",\"2007\",\"2008\",\"2009\",\"2010\",\"2011\",\"2012\",\"2013\",\"2014\",\"2015\",\"2016\",\"2017\"],\"y\":[2.717504233905171,2.7154866043270727,2.7462604986550527,2.806001725421847,2.83058646052991,2.80349980744469,2.7583374960640157,2.7328716945985123,2.734358102618147,2.734445239277997,2.724690515681557,2.7229922593698563,2.711802941232593,2.6925433317980856,2.671440686153528,2.648991920011479,2.6258157949200918,2.613168165844644]},\"selected\":{\"id\":\"4285\",\"type\":\"Selection\"},\"selection_policy\":{\"id\":\"4284\",\"type\":\"UnionRenderers\"}},\"id\":\"4093\",\"type\":\"ColumnDataSource\"},{\"attributes\":{\"fill_color\":{\"value\":\"#2CC775\"},\"line_color\":{\"value\":\"#2CC775\"},\"size\":{\"units\":\"screen\",\"value\":1},\"x\":{\"field\":\"x\"},\"y\":{\"field\":\"y\"}},\"id\":\"4094\",\"type\":\"Circle\"},{\"attributes\":{},\"id\":\"4040\",\"type\":\"BasicTickFormatter\"},{\"attributes\":{},\"id\":\"4065\",\"type\":\"Selection\"},{\"attributes\":{},\"id\":\"4012\",\"type\":\"BasicTicker\"},{\"attributes\":{\"label\":{\"value\":\"Developing excluding LDCs\"},\"renderers\":[{\"id\":\"4055\",\"type\":\"GlyphRenderer\"}]},\"id\":\"4067\",\"type\":\"LegendItem\"},{\"attributes\":{\"fill_alpha\":{\"value\":0.1},\"fill_color\":{\"value\":\"#1f77b4\"},\"line_alpha\":{\"value\":0.1},\"line_color\":{\"value\":\"#1f77b4\"},\"size\":{\"units\":\"screen\",\"value\":1},\"x\":{\"field\":\"x\"},\"y\":{\"field\":\"y\"}},\"id\":\"4095\",\"type\":\"Circle\"},{\"attributes\":{},\"id\":\"4042\",\"type\":\"BasicTickFormatter\"},{\"attributes\":{\"grid_line_color\":null,\"ticker\":{\"id\":\"4012\",\"type\":\"BasicTicker\"}},\"id\":\"4015\",\"type\":\"Grid\"},{\"attributes\":{\"callback\":null,\"data\":{\"x\":[\"2000\",\"2001\",\"2002\",\"2003\",\"2004\",\"2005\",\"2006\",\"2007\",\"2008\",\"2009\",\"2010\",\"2011\",\"2012\",\"2013\",\"2014\",\"2015\",\"2016\",\"2017\"],\"y\":[16.02606192520864,16.270773333279084,16.606876788025307,16.74535026220969,16.656448375078725,16.13405944602225,15.331780508336847,14.527816819573228,13.806451647166279,13.227587976590945,12.752576312725115,12.323216723695218,11.983420331424563,11.624874868210318,11.27625760481156,10.9695925016704,10.831636605682938,10.76640933924249]},\"selected\":{\"id\":\"4090\",\"type\":\"Selection\"},\"selection_policy\":{\"id\":\"4089\",\"type\":\"UnionRenderers\"}},\"id\":\"4068\",\"type\":\"ColumnDataSource\"},{\"attributes\":{\"data_source\":{\"id\":\"4093\",\"type\":\"ColumnDataSource\"},\"glyph\":{\"id\":\"4094\",\"type\":\"Circle\"},\"hover_glyph\":null,\"muted_glyph\":null,\"nonselection_glyph\":{\"id\":\"4095\",\"type\":\"Circle\"},\"selection_glyph\":null,\"view\":{\"id\":\"4097\",\"type\":\"CDSView\"}},\"id\":\"4096\",\"type\":\"GlyphRenderer\"},{\"attributes\":{\"bottom_units\":\"screen\",\"fill_alpha\":{\"value\":0.5},\"fill_color\":{\"value\":\"lightgrey\"},\"left_units\":\"screen\",\"level\":\"overlay\",\"line_alpha\":{\"value\":1.0},\"line_color\":{\"value\":\"black\"},\"line_dash\":[4,4],\"line_width\":{\"value\":2},\"render_mode\":\"css\",\"right_units\":\"screen\",\"top_units\":\"screen\"},\"id\":\"4044\",\"type\":\"BoxAnnotation\"},{\"attributes\":{\"axis_label\":\"SN.ITK.DEFC.ZS\",\"formatter\":{\"id\":\"4040\",\"type\":\"BasicTickFormatter\"},\"ticker\":{\"id\":\"4017\",\"type\":\"BasicTicker\"}},\"id\":\"4016\",\"type\":\"LinearAxis\"},{\"attributes\":{\"text\":\"Prevalence of undernourishment (% of population) weighted against Population, total\"},\"id\":\"4001\",\"type\":\"Title\"},{\"attributes\":{\"items\":[{\"id\":\"4046\",\"type\":\"LegendItem\"},{\"id\":\"4067\",\"type\":\"LegendItem\"},{\"id\":\"4092\",\"type\":\"LegendItem\"}],\"location\":\"bottom_left\"},\"id\":\"4045\",\"type\":\"Legend\"},{\"attributes\":{\"fill_color\":{\"value\":\"#5430F1\"},\"line_color\":{\"value\":\"#5430F1\"},\"size\":{\"units\":\"screen\",\"value\":1},\"x\":{\"field\":\"x\"},\"y\":{\"field\":\"y\"}},\"id\":\"4069\",\"type\":\"Circle\"},{\"attributes\":{\"source\":{\"id\":\"4093\",\"type\":\"ColumnDataSource\"}},\"id\":\"4097\",\"type\":\"CDSView\"},{\"attributes\":{\"fill_alpha\":{\"value\":0.1},\"fill_color\":{\"value\":\"#1f77b4\"},\"line_alpha\":{\"value\":0.1},\"line_color\":{\"value\":\"#1f77b4\"},\"size\":{\"units\":\"screen\",\"value\":1},\"x\":{\"field\":\"x\"},\"y\":{\"field\":\"y\"}},\"id\":\"4070\",\"type\":\"Circle\"},{\"attributes\":{},\"id\":\"4017\",\"type\":\"BasicTicker\"},{\"attributes\":{\"label\":{\"value\":\"LDCs\"},\"renderers\":[{\"id\":\"4037\",\"type\":\"GlyphRenderer\"}]},\"id\":\"4046\",\"type\":\"LegendItem\"},{\"attributes\":{\"data_source\":{\"id\":\"4068\",\"type\":\"ColumnDataSource\"},\"glyph\":{\"id\":\"4069\",\"type\":\"Circle\"},\"hover_glyph\":null,\"muted_glyph\":null,\"nonselection_glyph\":{\"id\":\"4070\",\"type\":\"Circle\"},\"selection_glyph\":null,\"view\":{\"id\":\"4072\",\"type\":\"CDSView\"}},\"id\":\"4071\",\"type\":\"GlyphRenderer\"},{\"attributes\":{\"dimension\":1,\"grid_line_alpha\":0.5,\"ticker\":{\"id\":\"4017\",\"type\":\"BasicTicker\"}},\"id\":\"4020\",\"type\":\"Grid\"},{\"attributes\":{\"callback\":null,\"data\":{\"x\":[\"2000\",\"2001\",\"2002\",\"2003\",\"2004\",\"2005\",\"2006\",\"2007\",\"2008\",\"2009\",\"2010\",\"2011\",\"2012\",\"2013\",\"2014\",\"2015\",\"2016\",\"2017\"],\"y\":[34.296690006630136,32.8968410303035,31.79773886292999,30.5686122583698,29.40060625275987,28.197830907824812,27.181161548902693,26.25402759144791,25.398866265707913,24.5963903225063,23.970161747111305,23.43052018307879,23.050821983980665,22.705763685275056,22.47210274575761,22.469255784991716,22.563852846171923,22.65045794352939]},\"selected\":{\"id\":\"4065\",\"type\":\"Selection\"},\"selection_policy\":{\"id\":\"4064\",\"type\":\"UnionRenderers\"}},\"id\":\"4047\",\"type\":\"ColumnDataSource\"},{\"attributes\":{},\"id\":\"4282\",\"type\":\"UnionRenderers\"},{\"attributes\":{\"line_color\":\"#FA1857\",\"line_width\":3,\"x\":{\"field\":\"x\"},\"y\":{\"field\":\"y\"}},\"id\":\"4035\",\"type\":\"Line\"},{\"attributes\":{\"source\":{\"id\":\"4068\",\"type\":\"ColumnDataSource\"}},\"id\":\"4072\",\"type\":\"CDSView\"},{\"attributes\":{\"fill_color\":{\"value\":\"#FA1857\"},\"line_color\":{\"value\":\"#FA1857\"},\"size\":{\"units\":\"screen\",\"value\":1},\"x\":{\"field\":\"x\"},\"y\":{\"field\":\"y\"}},\"id\":\"4048\",\"type\":\"Circle\"},{\"attributes\":{},\"id\":\"4283\",\"type\":\"Selection\"},{\"attributes\":{\"callback\":null,\"data\":{\"x\":[\"2000\",\"2001\",\"2002\",\"2003\",\"2004\",\"2005\",\"2006\",\"2007\",\"2008\",\"2009\",\"2010\",\"2011\",\"2012\",\"2013\",\"2014\",\"2015\",\"2016\",\"2017\"],\"y\":[34.296690006630136,32.8968410303035,31.79773886292999,30.5686122583698,29.40060625275987,28.197830907824812,27.181161548902693,26.25402759144791,25.398866265707913,24.5963903225063,23.970161747111305,23.43052018307879,23.050821983980665,22.705763685275056,22.47210274575761,22.469255784991716,22.563852846171923,22.65045794352939]},\"selected\":{\"id\":\"4063\",\"type\":\"Selection\"},\"selection_policy\":{\"id\":\"4062\",\"type\":\"UnionRenderers\"}},\"id\":\"4034\",\"type\":\"ColumnDataSource\"},{\"attributes\":{\"callback\":null,\"data\":{\"x\":[\"2000\",\"2001\",\"2002\",\"2003\",\"2004\",\"2005\",\"2006\",\"2007\",\"2008\",\"2009\",\"2010\",\"2011\",\"2012\",\"2013\",\"2014\",\"2015\",\"2016\",\"2017\"],\"y\":[2.717504233905171,2.7154866043270727,2.7462604986550527,2.806001725421847,2.83058646052991,2.80349980744469,2.7583374960640157,2.7328716945985123,2.734358102618147,2.734445239277997,2.724690515681557,2.7229922593698563,2.711802941232593,2.6925433317980856,2.671440686153528,2.648991920011479,2.6258157949200918,2.613168165844644]},\"selected\":{\"id\":\"4283\",\"type\":\"Selection\"},\"selection_policy\":{\"id\":\"4282\",\"type\":\"UnionRenderers\"}},\"id\":\"4073\",\"type\":\"ColumnDataSource\"},{\"attributes\":{\"fill_alpha\":{\"value\":0.1},\"fill_color\":{\"value\":\"#1f77b4\"},\"line_alpha\":{\"value\":0.1},\"line_color\":{\"value\":\"#1f77b4\"},\"size\":{\"units\":\"screen\",\"value\":1},\"x\":{\"field\":\"x\"},\"y\":{\"field\":\"y\"}},\"id\":\"4049\",\"type\":\"Circle\"},{\"attributes\":{},\"id\":\"4284\",\"type\":\"UnionRenderers\"},{\"attributes\":{\"callback\":null,\"tooltips\":\"                \\n        <div style=padding=5px>Year:@x</div>\\n        <div style=padding=5px>Value:@y</div>        \\n        \"},\"id\":\"4098\",\"type\":\"HoverTool\"},{\"attributes\":{\"line_alpha\":0.1,\"line_color\":\"#1f77b4\",\"line_width\":3,\"x\":{\"field\":\"x\"},\"y\":{\"field\":\"y\"}},\"id\":\"4036\",\"type\":\"Line\"},{\"attributes\":{\"line_color\":\"#2CC775\",\"line_width\":3,\"x\":{\"field\":\"x\"},\"y\":{\"field\":\"y\"}},\"id\":\"4074\",\"type\":\"Line\"},{\"attributes\":{\"data_source\":{\"id\":\"4047\",\"type\":\"ColumnDataSource\"},\"glyph\":{\"id\":\"4048\",\"type\":\"Circle\"},\"hover_glyph\":null,\"muted_glyph\":null,\"nonselection_glyph\":{\"id\":\"4049\",\"type\":\"Circle\"},\"selection_glyph\":null,\"view\":{\"id\":\"4051\",\"type\":\"CDSView\"}},\"id\":\"4050\",\"type\":\"GlyphRenderer\"},{\"attributes\":{},\"id\":\"4285\",\"type\":\"Selection\"},{\"attributes\":{},\"id\":\"4021\",\"type\":\"PanTool\"},{\"attributes\":{\"line_alpha\":0.1,\"line_color\":\"#1f77b4\",\"line_width\":3,\"x\":{\"field\":\"x\"},\"y\":{\"field\":\"y\"}},\"id\":\"4075\",\"type\":\"Line\"},{\"attributes\":{\"source\":{\"id\":\"4047\",\"type\":\"ColumnDataSource\"}},\"id\":\"4051\",\"type\":\"CDSView\"},{\"attributes\":{},\"id\":\"4022\",\"type\":\"WheelZoomTool\"},{\"attributes\":{\"data_source\":{\"id\":\"4073\",\"type\":\"ColumnDataSource\"},\"glyph\":{\"id\":\"4074\",\"type\":\"Line\"},\"hover_glyph\":null,\"muted_glyph\":null,\"nonselection_glyph\":{\"id\":\"4075\",\"type\":\"Line\"},\"selection_glyph\":null,\"view\":{\"id\":\"4077\",\"type\":\"CDSView\"}},\"id\":\"4076\",\"type\":\"GlyphRenderer\"},{\"attributes\":{\"callback\":null,\"data\":{\"x\":[\"2000\",\"2001\",\"2002\",\"2003\",\"2004\",\"2005\",\"2006\",\"2007\",\"2008\",\"2009\",\"2010\",\"2011\",\"2012\",\"2013\",\"2014\",\"2015\",\"2016\",\"2017\"],\"y\":[16.02606192520864,16.270773333279084,16.606876788025307,16.74535026220969,16.656448375078725,16.13405944602225,15.331780508336847,14.527816819573228,13.806451647166279,13.227587976590945,12.752576312725115,12.323216723695218,11.983420331424563,11.624874868210318,11.27625760481156,10.9695925016704,10.831636605682938,10.76640933924249]},\"selected\":{\"id\":\"4088\",\"type\":\"Selection\"},\"selection_policy\":{\"id\":\"4087\",\"type\":\"UnionRenderers\"}},\"id\":\"4052\",\"type\":\"ColumnDataSource\"},{\"attributes\":{\"overlay\":{\"id\":\"4044\",\"type\":\"BoxAnnotation\"}},\"id\":\"4023\",\"type\":\"BoxZoomTool\"},{\"attributes\":{\"source\":{\"id\":\"4073\",\"type\":\"ColumnDataSource\"}},\"id\":\"4077\",\"type\":\"CDSView\"},{\"attributes\":{\"line_color\":\"#5430F1\",\"line_width\":3,\"x\":{\"field\":\"x\"},\"y\":{\"field\":\"y\"}},\"id\":\"4053\",\"type\":\"Line\"},{\"attributes\":{},\"id\":\"4024\",\"type\":\"SaveTool\"},{\"attributes\":{},\"id\":\"4087\",\"type\":\"UnionRenderers\"},{\"attributes\":{\"line_alpha\":0.1,\"line_color\":\"#1f77b4\",\"line_width\":3,\"x\":{\"field\":\"x\"},\"y\":{\"field\":\"y\"}},\"id\":\"4054\",\"type\":\"Line\"},{\"attributes\":{},\"id\":\"4025\",\"type\":\"ResetTool\"},{\"attributes\":{},\"id\":\"4088\",\"type\":\"Selection\"},{\"attributes\":{\"data_source\":{\"id\":\"4052\",\"type\":\"ColumnDataSource\"},\"glyph\":{\"id\":\"4053\",\"type\":\"Line\"},\"hover_glyph\":null,\"muted_glyph\":null,\"nonselection_glyph\":{\"id\":\"4054\",\"type\":\"Line\"},\"selection_glyph\":null,\"view\":{\"id\":\"4056\",\"type\":\"CDSView\"}},\"id\":\"4055\",\"type\":\"GlyphRenderer\"},{\"attributes\":{},\"id\":\"4026\",\"type\":\"HelpTool\"}],\"root_ids\":[\"4000\"]},\"title\":\"Bokeh Application\",\"version\":\"1.3.4\"}};\n",
       "  var render_items = [{\"docid\":\"2480aa3c-f86e-4eaa-a5d2-da4c610b627f\",\"roots\":{\"4000\":\"e0109113-6ad1-4333-856e-dafe7952e234\"}}];\n",
       "  root.Bokeh.embed.embed_items_notebook(docs_json, render_items);\n",
       "\n",
       "  }\n",
       "  if (root.Bokeh !== undefined) {\n",
       "    embed_document(root);\n",
       "  } else {\n",
       "    var attempts = 0;\n",
       "    var timer = setInterval(function(root) {\n",
       "      if (root.Bokeh !== undefined) {\n",
       "        embed_document(root);\n",
       "        clearInterval(timer);\n",
       "      }\n",
       "      attempts++;\n",
       "      if (attempts > 100) {\n",
       "        console.log(\"Bokeh: ERROR: Unable to run BokehJS code because BokehJS library is missing\");\n",
       "        clearInterval(timer);\n",
       "      }\n",
       "    }, 10, root)\n",
       "  }\n",
       "})(window);"
      ],
      "application/vnd.bokehjs_exec.v0+json": ""
     },
     "metadata": {
      "application/vnd.bokehjs_exec.v0+json": {
       "id": "4000"
      }
     },
     "output_type": "display_data"
    }
   ],
   "source": [
    "# Prevalence of undernourishment (% of population)\n",
    "years = list(map(str, list(range(2000,2018))))\n",
    "result = show_weighted_average(years, 'SN.ITK.DEFC.ZS', 'SP.POP.TOTL', \n",
    "                               ['LDCs', 'Developing excluding LDCs', 'OECD'], \n",
    "                                height=400, width=1000, line_width=3)"
   ]
  },
  {
   "cell_type": "code",
   "execution_count": 18,
   "metadata": {
    "ExecuteTime": {
     "end_time": "2019-10-25T14:25:03.855925Z",
     "start_time": "2019-10-25T14:24:58.886407Z"
    },
    "slideshow": {
     "slide_type": "slide"
    }
   },
   "outputs": [
    {
     "data": {
      "text/html": [
       "\n",
       "\n",
       "\n",
       "\n",
       "\n",
       "\n",
       "  <div class=\"bk-root\" id=\"029315f7-3f83-496b-89ee-1d17e257405b\" data-root-id=\"4395\"></div>\n"
      ]
     },
     "metadata": {},
     "output_type": "display_data"
    },
    {
     "data": {
      "application/javascript": [
       "(function(root) {\n",
       "  function embed_document(root) {\n",
       "    \n",
       "  var docs_json = {\"d8ec85ac-c22a-4952-a368-1ceab3c343b9\":{\"roots\":{\"references\":[{\"attributes\":{\"below\":[{\"id\":\"4406\",\"type\":\"LinearAxis\"}],\"center\":[{\"id\":\"4410\",\"type\":\"Grid\"},{\"id\":\"4415\",\"type\":\"Grid\"},{\"id\":\"4440\",\"type\":\"Legend\"}],\"left\":[{\"id\":\"4411\",\"type\":\"LinearAxis\"}],\"plot_height\":400,\"plot_width\":1000,\"renderers\":[{\"id\":\"4432\",\"type\":\"GlyphRenderer\"},{\"id\":\"4445\",\"type\":\"GlyphRenderer\"},{\"id\":\"4450\",\"type\":\"GlyphRenderer\"},{\"id\":\"4466\",\"type\":\"GlyphRenderer\"},{\"id\":\"4471\",\"type\":\"GlyphRenderer\"},{\"id\":\"4491\",\"type\":\"GlyphRenderer\"}],\"title\":{\"id\":\"4396\",\"type\":\"Title\"},\"toolbar\":{\"id\":\"4422\",\"type\":\"Toolbar\"},\"x_range\":{\"id\":\"4398\",\"type\":\"DataRange1d\"},\"x_scale\":{\"id\":\"4402\",\"type\":\"LinearScale\"},\"y_range\":{\"id\":\"4400\",\"type\":\"DataRange1d\"},\"y_scale\":{\"id\":\"4404\",\"type\":\"LinearScale\"}},\"id\":\"4395\",\"subtype\":\"Figure\",\"type\":\"Plot\"},{\"attributes\":{\"callback\":null,\"data\":{\"x\":[\"2000\",\"2001\",\"2002\",\"2003\",\"2004\",\"2005\",\"2006\",\"2007\",\"2008\",\"2009\",\"2010\",\"2011\",\"2012\",\"2013\",\"2014\",\"2015\",\"2016\",\"2017\"],\"y\":[6.67838532122474,7.066966145061542,6.889353323332191,6.655588423229744,6.203546783341963,5.6363019320072345,5.349287409558019,5.9381576157577065,6.354971423643562,6.88697962812065,6.44811794037661,6.779580388013174,6.758180775464634,6.834941707698121,7.185358680561078,7.821629436531289,8.043040894368179,8.132975934296237]},\"selected\":{\"id\":\"4485\",\"type\":\"Selection\"},\"selection_policy\":{\"id\":\"4484\",\"type\":\"UnionRenderers\"}},\"id\":\"4463\",\"type\":\"ColumnDataSource\"},{\"attributes\":{},\"id\":\"4404\",\"type\":\"LinearScale\"},{\"attributes\":{\"callback\":null,\"data\":{\"x\":[\"2000\",\"2001\",\"2002\",\"2003\",\"2004\",\"2005\",\"2006\",\"2007\",\"2008\",\"2009\",\"2010\",\"2011\",\"2012\",\"2013\",\"2014\",\"2015\",\"2016\",\"2017\"],\"y\":[17.473674203541137,16.380118773051816,16.47513346649186,18.08613953149967,16.78490129479693,16.007482051291397,15.313322308226102,15.983622760588208,15.681066764755263,16.22610041134688,16.154563828357762,16.562353136179336,15.178298854466885,14.75804992134933,14.9560562510018,14.784916706699187,15.752772028130035,16.792717806787888]},\"selected\":{\"id\":\"4460\",\"type\":\"Selection\"},\"selection_policy\":{\"id\":\"4459\",\"type\":\"UnionRenderers\"}},\"id\":\"4442\",\"type\":\"ColumnDataSource\"},{\"attributes\":{\"source\":{\"id\":\"4429\",\"type\":\"ColumnDataSource\"}},\"id\":\"4433\",\"type\":\"CDSView\"},{\"attributes\":{\"fill_color\":{\"value\":\"#5430F1\"},\"line_color\":{\"value\":\"#5430F1\"},\"size\":{\"units\":\"screen\",\"value\":1},\"x\":{\"field\":\"x\"},\"y\":{\"field\":\"y\"}},\"id\":\"4464\",\"type\":\"Circle\"},{\"attributes\":{\"axis_label\":\"Years\",\"formatter\":{\"id\":\"4437\",\"type\":\"BasicTickFormatter\"},\"ticker\":{\"id\":\"4407\",\"type\":\"BasicTicker\"}},\"id\":\"4406\",\"type\":\"LinearAxis\"},{\"attributes\":{},\"id\":\"4698\",\"type\":\"Selection\"},{\"attributes\":{\"fill_alpha\":{\"value\":0.1},\"fill_color\":{\"value\":\"#1f77b4\"},\"line_alpha\":{\"value\":0.1},\"line_color\":{\"value\":\"#1f77b4\"},\"size\":{\"units\":\"screen\",\"value\":1},\"x\":{\"field\":\"x\"},\"y\":{\"field\":\"y\"}},\"id\":\"4465\",\"type\":\"Circle\"},{\"attributes\":{},\"id\":\"4435\",\"type\":\"BasicTickFormatter\"},{\"attributes\":{},\"id\":\"4407\",\"type\":\"BasicTicker\"},{\"attributes\":{\"fill_color\":{\"value\":\"#FA1857\"},\"line_color\":{\"value\":\"#FA1857\"},\"size\":{\"units\":\"screen\",\"value\":1},\"x\":{\"field\":\"x\"},\"y\":{\"field\":\"y\"}},\"id\":\"4443\",\"type\":\"Circle\"},{\"attributes\":{\"data_source\":{\"id\":\"4463\",\"type\":\"ColumnDataSource\"},\"glyph\":{\"id\":\"4464\",\"type\":\"Circle\"},\"hover_glyph\":null,\"muted_glyph\":null,\"nonselection_glyph\":{\"id\":\"4465\",\"type\":\"Circle\"},\"selection_glyph\":null,\"view\":{\"id\":\"4467\",\"type\":\"CDSView\"}},\"id\":\"4466\",\"type\":\"GlyphRenderer\"},{\"attributes\":{\"grid_line_color\":null,\"ticker\":{\"id\":\"4407\",\"type\":\"BasicTicker\"}},\"id\":\"4410\",\"type\":\"Grid\"},{\"attributes\":{},\"id\":\"4437\",\"type\":\"BasicTickFormatter\"},{\"attributes\":{\"source\":{\"id\":\"4463\",\"type\":\"ColumnDataSource\"}},\"id\":\"4467\",\"type\":\"CDSView\"},{\"attributes\":{\"bottom_units\":\"screen\",\"fill_alpha\":{\"value\":0.5},\"fill_color\":{\"value\":\"lightgrey\"},\"left_units\":\"screen\",\"level\":\"overlay\",\"line_alpha\":{\"value\":1.0},\"line_color\":{\"value\":\"black\"},\"line_dash\":[4,4],\"line_width\":{\"value\":2},\"render_mode\":\"css\",\"right_units\":\"screen\",\"top_units\":\"screen\"},\"id\":\"4439\",\"type\":\"BoxAnnotation\"},{\"attributes\":{\"axis_label\":\"TM.VAL.FOOD.ZS.UN\",\"formatter\":{\"id\":\"4435\",\"type\":\"BasicTickFormatter\"},\"ticker\":{\"id\":\"4412\",\"type\":\"BasicTicker\"}},\"id\":\"4411\",\"type\":\"LinearAxis\"},{\"attributes\":{\"items\":[{\"id\":\"4441\",\"type\":\"LegendItem\"},{\"id\":\"4462\",\"type\":\"LegendItem\"},{\"id\":\"4487\",\"type\":\"LegendItem\"}],\"location\":\"bottom_left\"},\"id\":\"4440\",\"type\":\"Legend\"},{\"attributes\":{\"fill_alpha\":{\"value\":0.1},\"fill_color\":{\"value\":\"#1f77b4\"},\"line_alpha\":{\"value\":0.1},\"line_color\":{\"value\":\"#1f77b4\"},\"size\":{\"units\":\"screen\",\"value\":1},\"x\":{\"field\":\"x\"},\"y\":{\"field\":\"y\"}},\"id\":\"4444\",\"type\":\"Circle\"},{\"attributes\":{\"callback\":null,\"data\":{\"x\":[\"2000\",\"2001\",\"2002\",\"2003\",\"2004\",\"2005\",\"2006\",\"2007\",\"2008\",\"2009\",\"2010\",\"2011\",\"2012\",\"2013\",\"2014\",\"2015\",\"2016\",\"2017\"],\"y\":[6.664750789193946,7.14260825773659,7.454785931920459,7.5069480358449825,7.061134298970307,6.798358087904257,6.463499051640063,6.724561457383378,7.076831863705094,8.259612794934673,7.468578257026923,7.615305901349119,7.570593882649795,7.890298170268733,7.995508600894686,8.359319653572543,8.569945562785916,8.425056582808882]},\"selected\":{\"id\":\"4696\",\"type\":\"Selection\"},\"selection_policy\":{\"id\":\"4695\",\"type\":\"UnionRenderers\"}},\"id\":\"4468\",\"type\":\"ColumnDataSource\"},{\"attributes\":{},\"id\":\"4697\",\"type\":\"UnionRenderers\"},{\"attributes\":{},\"id\":\"4412\",\"type\":\"BasicTicker\"},{\"attributes\":{\"line_color\":\"#2CC775\",\"line_width\":3,\"x\":{\"field\":\"x\"},\"y\":{\"field\":\"y\"}},\"id\":\"4469\",\"type\":\"Line\"},{\"attributes\":{\"label\":{\"value\":\"LDCs\"},\"renderers\":[{\"id\":\"4432\",\"type\":\"GlyphRenderer\"}]},\"id\":\"4441\",\"type\":\"LegendItem\"},{\"attributes\":{\"fill_alpha\":{\"value\":0.1},\"fill_color\":{\"value\":\"#1f77b4\"},\"line_alpha\":{\"value\":0.1},\"line_color\":{\"value\":\"#1f77b4\"},\"size\":{\"units\":\"screen\",\"value\":1},\"x\":{\"field\":\"x\"},\"y\":{\"field\":\"y\"}},\"id\":\"4490\",\"type\":\"Circle\"},{\"attributes\":{\"data_source\":{\"id\":\"4442\",\"type\":\"ColumnDataSource\"},\"glyph\":{\"id\":\"4443\",\"type\":\"Circle\"},\"hover_glyph\":null,\"muted_glyph\":null,\"nonselection_glyph\":{\"id\":\"4444\",\"type\":\"Circle\"},\"selection_glyph\":null,\"view\":{\"id\":\"4446\",\"type\":\"CDSView\"}},\"id\":\"4445\",\"type\":\"GlyphRenderer\"},{\"attributes\":{\"dimension\":1,\"grid_line_alpha\":0.5,\"ticker\":{\"id\":\"4412\",\"type\":\"BasicTicker\"}},\"id\":\"4415\",\"type\":\"Grid\"},{\"attributes\":{\"line_alpha\":0.1,\"line_color\":\"#1f77b4\",\"line_width\":3,\"x\":{\"field\":\"x\"},\"y\":{\"field\":\"y\"}},\"id\":\"4470\",\"type\":\"Line\"},{\"attributes\":{\"source\":{\"id\":\"4442\",\"type\":\"ColumnDataSource\"}},\"id\":\"4446\",\"type\":\"CDSView\"},{\"attributes\":{},\"id\":\"4695\",\"type\":\"UnionRenderers\"},{\"attributes\":{\"line_color\":\"#FA1857\",\"line_width\":3,\"x\":{\"field\":\"x\"},\"y\":{\"field\":\"y\"}},\"id\":\"4430\",\"type\":\"Line\"},{\"attributes\":{\"data_source\":{\"id\":\"4468\",\"type\":\"ColumnDataSource\"},\"glyph\":{\"id\":\"4469\",\"type\":\"Line\"},\"hover_glyph\":null,\"muted_glyph\":null,\"nonselection_glyph\":{\"id\":\"4470\",\"type\":\"Line\"},\"selection_glyph\":null,\"view\":{\"id\":\"4472\",\"type\":\"CDSView\"}},\"id\":\"4471\",\"type\":\"GlyphRenderer\"},{\"attributes\":{\"callback\":null,\"data\":{\"x\":[\"2000\",\"2001\",\"2002\",\"2003\",\"2004\",\"2005\",\"2006\",\"2007\",\"2008\",\"2009\",\"2010\",\"2011\",\"2012\",\"2013\",\"2014\",\"2015\",\"2016\",\"2017\"],\"y\":[6.67838532122474,7.066966145061542,6.889353323332191,6.655588423229744,6.203546783341963,5.6363019320072345,5.349287409558019,5.9381576157577065,6.354971423643562,6.88697962812065,6.44811794037661,6.779580388013174,6.758180775464634,6.834941707698121,7.185358680561078,7.821629436531289,8.043040894368179,8.132975934296237]},\"selected\":{\"id\":\"4483\",\"type\":\"Selection\"},\"selection_policy\":{\"id\":\"4482\",\"type\":\"UnionRenderers\"}},\"id\":\"4447\",\"type\":\"ColumnDataSource\"},{\"attributes\":{\"callback\":null,\"data\":{\"x\":[\"2000\",\"2001\",\"2002\",\"2003\",\"2004\",\"2005\",\"2006\",\"2007\",\"2008\",\"2009\",\"2010\",\"2011\",\"2012\",\"2013\",\"2014\",\"2015\",\"2016\",\"2017\"],\"y\":[17.473674203541137,16.380118773051816,16.47513346649186,18.08613953149967,16.78490129479693,16.007482051291397,15.313322308226102,15.983622760588208,15.681066764755263,16.22610041134688,16.154563828357762,16.562353136179336,15.178298854466885,14.75804992134933,14.9560562510018,14.784916706699187,15.752772028130035,16.792717806787888]},\"selected\":{\"id\":\"4458\",\"type\":\"Selection\"},\"selection_policy\":{\"id\":\"4457\",\"type\":\"UnionRenderers\"}},\"id\":\"4429\",\"type\":\"ColumnDataSource\"},{\"attributes\":{\"source\":{\"id\":\"4468\",\"type\":\"ColumnDataSource\"}},\"id\":\"4472\",\"type\":\"CDSView\"},{\"attributes\":{},\"id\":\"4696\",\"type\":\"Selection\"},{\"attributes\":{\"line_color\":\"#5430F1\",\"line_width\":3,\"x\":{\"field\":\"x\"},\"y\":{\"field\":\"y\"}},\"id\":\"4448\",\"type\":\"Line\"},{\"attributes\":{\"callback\":null,\"tooltips\":\"                \\n        <div style=padding=5px>Year:@x</div>\\n        <div style=padding=5px>Value:@y</div>        \\n        \"},\"id\":\"4493\",\"type\":\"HoverTool\"},{\"attributes\":{\"line_alpha\":0.1,\"line_color\":\"#1f77b4\",\"line_width\":3,\"x\":{\"field\":\"x\"},\"y\":{\"field\":\"y\"}},\"id\":\"4431\",\"type\":\"Line\"},{\"attributes\":{},\"id\":\"4482\",\"type\":\"UnionRenderers\"},{\"attributes\":{\"line_alpha\":0.1,\"line_color\":\"#1f77b4\",\"line_width\":3,\"x\":{\"field\":\"x\"},\"y\":{\"field\":\"y\"}},\"id\":\"4449\",\"type\":\"Line\"},{\"attributes\":{},\"id\":\"4416\",\"type\":\"PanTool\"},{\"attributes\":{\"text\":\"Food imports (% of merchandise imports) weighted against Merchandise imports (current US$)\"},\"id\":\"4396\",\"type\":\"Title\"},{\"attributes\":{},\"id\":\"4483\",\"type\":\"Selection\"},{\"attributes\":{\"data_source\":{\"id\":\"4447\",\"type\":\"ColumnDataSource\"},\"glyph\":{\"id\":\"4448\",\"type\":\"Line\"},\"hover_glyph\":null,\"muted_glyph\":null,\"nonselection_glyph\":{\"id\":\"4449\",\"type\":\"Line\"},\"selection_glyph\":null,\"view\":{\"id\":\"4451\",\"type\":\"CDSView\"}},\"id\":\"4450\",\"type\":\"GlyphRenderer\"},{\"attributes\":{},\"id\":\"4417\",\"type\":\"WheelZoomTool\"},{\"attributes\":{},\"id\":\"4484\",\"type\":\"UnionRenderers\"},{\"attributes\":{\"source\":{\"id\":\"4447\",\"type\":\"ColumnDataSource\"}},\"id\":\"4451\",\"type\":\"CDSView\"},{\"attributes\":{\"overlay\":{\"id\":\"4439\",\"type\":\"BoxAnnotation\"}},\"id\":\"4418\",\"type\":\"BoxZoomTool\"},{\"attributes\":{\"callback\":null},\"id\":\"4398\",\"type\":\"DataRange1d\"},{\"attributes\":{\"data_source\":{\"id\":\"4488\",\"type\":\"ColumnDataSource\"},\"glyph\":{\"id\":\"4489\",\"type\":\"Circle\"},\"hover_glyph\":null,\"muted_glyph\":null,\"nonselection_glyph\":{\"id\":\"4490\",\"type\":\"Circle\"},\"selection_glyph\":null,\"view\":{\"id\":\"4492\",\"type\":\"CDSView\"}},\"id\":\"4491\",\"type\":\"GlyphRenderer\"},{\"attributes\":{},\"id\":\"4485\",\"type\":\"Selection\"},{\"attributes\":{},\"id\":\"4419\",\"type\":\"SaveTool\"},{\"attributes\":{},\"id\":\"4457\",\"type\":\"UnionRenderers\"},{\"attributes\":{\"label\":{\"value\":\"OECD\"},\"renderers\":[{\"id\":\"4471\",\"type\":\"GlyphRenderer\"}]},\"id\":\"4487\",\"type\":\"LegendItem\"},{\"attributes\":{},\"id\":\"4420\",\"type\":\"ResetTool\"},{\"attributes\":{},\"id\":\"4458\",\"type\":\"Selection\"},{\"attributes\":{\"callback\":null},\"id\":\"4400\",\"type\":\"DataRange1d\"},{\"attributes\":{\"source\":{\"id\":\"4488\",\"type\":\"ColumnDataSource\"}},\"id\":\"4492\",\"type\":\"CDSView\"},{\"attributes\":{},\"id\":\"4421\",\"type\":\"HelpTool\"},{\"attributes\":{},\"id\":\"4459\",\"type\":\"UnionRenderers\"},{\"attributes\":{\"fill_color\":{\"value\":\"#2CC775\"},\"line_color\":{\"value\":\"#2CC775\"},\"size\":{\"units\":\"screen\",\"value\":1},\"x\":{\"field\":\"x\"},\"y\":{\"field\":\"y\"}},\"id\":\"4489\",\"type\":\"Circle\"},{\"attributes\":{\"active_drag\":\"auto\",\"active_inspect\":\"auto\",\"active_multi\":null,\"active_scroll\":\"auto\",\"active_tap\":\"auto\",\"tools\":[{\"id\":\"4416\",\"type\":\"PanTool\"},{\"id\":\"4417\",\"type\":\"WheelZoomTool\"},{\"id\":\"4418\",\"type\":\"BoxZoomTool\"},{\"id\":\"4419\",\"type\":\"SaveTool\"},{\"id\":\"4420\",\"type\":\"ResetTool\"},{\"id\":\"4421\",\"type\":\"HelpTool\"},{\"id\":\"4493\",\"type\":\"HoverTool\"}]},\"id\":\"4422\",\"type\":\"Toolbar\"},{\"attributes\":{},\"id\":\"4460\",\"type\":\"Selection\"},{\"attributes\":{},\"id\":\"4402\",\"type\":\"LinearScale\"},{\"attributes\":{\"label\":{\"value\":\"Developing excluding LDCs\"},\"renderers\":[{\"id\":\"4450\",\"type\":\"GlyphRenderer\"}]},\"id\":\"4462\",\"type\":\"LegendItem\"},{\"attributes\":{\"callback\":null,\"data\":{\"x\":[\"2000\",\"2001\",\"2002\",\"2003\",\"2004\",\"2005\",\"2006\",\"2007\",\"2008\",\"2009\",\"2010\",\"2011\",\"2012\",\"2013\",\"2014\",\"2015\",\"2016\",\"2017\"],\"y\":[6.664750789193946,7.14260825773659,7.454785931920459,7.5069480358449825,7.061134298970307,6.798358087904257,6.463499051640063,6.724561457383378,7.076831863705094,8.259612794934673,7.468578257026923,7.615305901349119,7.570593882649795,7.890298170268733,7.995508600894686,8.359319653572543,8.569945562785916,8.425056582808882]},\"selected\":{\"id\":\"4698\",\"type\":\"Selection\"},\"selection_policy\":{\"id\":\"4697\",\"type\":\"UnionRenderers\"}},\"id\":\"4488\",\"type\":\"ColumnDataSource\"},{\"attributes\":{\"data_source\":{\"id\":\"4429\",\"type\":\"ColumnDataSource\"},\"glyph\":{\"id\":\"4430\",\"type\":\"Line\"},\"hover_glyph\":null,\"muted_glyph\":null,\"nonselection_glyph\":{\"id\":\"4431\",\"type\":\"Line\"},\"selection_glyph\":null,\"view\":{\"id\":\"4433\",\"type\":\"CDSView\"}},\"id\":\"4432\",\"type\":\"GlyphRenderer\"}],\"root_ids\":[\"4395\"]},\"title\":\"Bokeh Application\",\"version\":\"1.3.4\"}};\n",
       "  var render_items = [{\"docid\":\"d8ec85ac-c22a-4952-a368-1ceab3c343b9\",\"roots\":{\"4395\":\"029315f7-3f83-496b-89ee-1d17e257405b\"}}];\n",
       "  root.Bokeh.embed.embed_items_notebook(docs_json, render_items);\n",
       "\n",
       "  }\n",
       "  if (root.Bokeh !== undefined) {\n",
       "    embed_document(root);\n",
       "  } else {\n",
       "    var attempts = 0;\n",
       "    var timer = setInterval(function(root) {\n",
       "      if (root.Bokeh !== undefined) {\n",
       "        embed_document(root);\n",
       "        clearInterval(timer);\n",
       "      }\n",
       "      attempts++;\n",
       "      if (attempts > 100) {\n",
       "        console.log(\"Bokeh: ERROR: Unable to run BokehJS code because BokehJS library is missing\");\n",
       "        clearInterval(timer);\n",
       "      }\n",
       "    }, 10, root)\n",
       "  }\n",
       "})(window);"
      ],
      "application/vnd.bokehjs_exec.v0+json": ""
     },
     "metadata": {
      "application/vnd.bokehjs_exec.v0+json": {
       "id": "4395"
      }
     },
     "output_type": "display_data"
    }
   ],
   "source": [
    "# Food imports as a percentage of merchandise imports\n",
    "years = list(map(str, list(range(2000,2018))))\n",
    "result = show_weighted_average(years, 'TM.VAL.FOOD.ZS.UN', 'TM.VAL.MRCH.CD.WT', \n",
    "                               ['LDCs', 'Developing excluding LDCs', 'OECD'], \n",
    "                                height=400, width=1000, line_width=3)"
   ]
  },
  {
   "cell_type": "code",
   "execution_count": 19,
   "metadata": {
    "ExecuteTime": {
     "end_time": "2019-10-25T14:25:08.896422Z",
     "start_time": "2019-10-25T14:25:03.862619Z"
    },
    "slideshow": {
     "slide_type": "slide"
    }
   },
   "outputs": [
    {
     "data": {
      "text/html": [
       "\n",
       "\n",
       "\n",
       "\n",
       "\n",
       "\n",
       "  <div class=\"bk-root\" id=\"abccc258-7aab-4885-af62-30524723b3e5\" data-root-id=\"4808\"></div>\n"
      ]
     },
     "metadata": {},
     "output_type": "display_data"
    },
    {
     "data": {
      "application/javascript": [
       "(function(root) {\n",
       "  function embed_document(root) {\n",
       "    \n",
       "  var docs_json = {\"24d4430e-7c87-4af4-9b8c-3cd8a2881e30\":{\"roots\":{\"references\":[{\"attributes\":{\"below\":[{\"id\":\"4819\",\"type\":\"LinearAxis\"}],\"center\":[{\"id\":\"4823\",\"type\":\"Grid\"},{\"id\":\"4828\",\"type\":\"Grid\"},{\"id\":\"4853\",\"type\":\"Legend\"}],\"left\":[{\"id\":\"4824\",\"type\":\"LinearAxis\"}],\"plot_height\":400,\"plot_width\":1000,\"renderers\":[{\"id\":\"4845\",\"type\":\"GlyphRenderer\"},{\"id\":\"4858\",\"type\":\"GlyphRenderer\"},{\"id\":\"4863\",\"type\":\"GlyphRenderer\"},{\"id\":\"4879\",\"type\":\"GlyphRenderer\"},{\"id\":\"4884\",\"type\":\"GlyphRenderer\"},{\"id\":\"4904\",\"type\":\"GlyphRenderer\"}],\"title\":{\"id\":\"4809\",\"type\":\"Title\"},\"toolbar\":{\"id\":\"4835\",\"type\":\"Toolbar\"},\"x_range\":{\"id\":\"4811\",\"type\":\"DataRange1d\"},\"x_scale\":{\"id\":\"4815\",\"type\":\"LinearScale\"},\"y_range\":{\"id\":\"4813\",\"type\":\"DataRange1d\"},\"y_scale\":{\"id\":\"4817\",\"type\":\"LinearScale\"}},\"id\":\"4808\",\"subtype\":\"Figure\",\"type\":\"Plot\"},{\"attributes\":{\"data_source\":{\"id\":\"4901\",\"type\":\"ColumnDataSource\"},\"glyph\":{\"id\":\"4902\",\"type\":\"Circle\"},\"hover_glyph\":null,\"muted_glyph\":null,\"nonselection_glyph\":{\"id\":\"4903\",\"type\":\"Circle\"},\"selection_glyph\":null,\"view\":{\"id\":\"4905\",\"type\":\"CDSView\"}},\"id\":\"4904\",\"type\":\"GlyphRenderer\"},{\"attributes\":{\"active_drag\":\"auto\",\"active_inspect\":\"auto\",\"active_multi\":null,\"active_scroll\":\"auto\",\"active_tap\":\"auto\",\"tools\":[{\"id\":\"4829\",\"type\":\"PanTool\"},{\"id\":\"4830\",\"type\":\"WheelZoomTool\"},{\"id\":\"4831\",\"type\":\"BoxZoomTool\"},{\"id\":\"4832\",\"type\":\"SaveTool\"},{\"id\":\"4833\",\"type\":\"ResetTool\"},{\"id\":\"4834\",\"type\":\"HelpTool\"},{\"id\":\"4906\",\"type\":\"HoverTool\"}]},\"id\":\"4835\",\"type\":\"Toolbar\"},{\"attributes\":{\"callback\":null,\"data\":{\"x\":[\"2000\",\"2001\",\"2002\",\"2003\",\"2004\",\"2005\",\"2006\",\"2007\",\"2008\",\"2009\",\"2010\",\"2011\",\"2012\",\"2013\",\"2014\",\"2015\",\"2016\",\"2017\"],\"y\":[61.112907428435086,60.691447078218324,60.12378233908463,59.83958298619775,59.2886948540458,58.68715381695083,58.034486084007646,57.56646933138067,57.20233508484887,56.901675348262174,56.42641838827256,55.55841766390446,54.541716177965164,54.01071229168338,53.54334284165231,53.11197804583197,52.82467723653058,52.50722323269526]},\"selected\":{\"id\":\"4898\",\"type\":\"Selection\"},\"selection_policy\":{\"id\":\"4897\",\"type\":\"UnionRenderers\"}},\"id\":\"4876\",\"type\":\"ColumnDataSource\"},{\"attributes\":{},\"id\":\"4820\",\"type\":\"BasicTicker\"},{\"attributes\":{\"data_source\":{\"id\":\"4842\",\"type\":\"ColumnDataSource\"},\"glyph\":{\"id\":\"4843\",\"type\":\"Line\"},\"hover_glyph\":null,\"muted_glyph\":null,\"nonselection_glyph\":{\"id\":\"4844\",\"type\":\"Line\"},\"selection_glyph\":null,\"view\":{\"id\":\"4846\",\"type\":\"CDSView\"}},\"id\":\"4845\",\"type\":\"GlyphRenderer\"},{\"attributes\":{},\"id\":\"4870\",\"type\":\"UnionRenderers\"},{\"attributes\":{\"source\":{\"id\":\"4901\",\"type\":\"ColumnDataSource\"}},\"id\":\"4905\",\"type\":\"CDSView\"},{\"attributes\":{\"fill_color\":{\"value\":\"#5430F1\"},\"line_color\":{\"value\":\"#5430F1\"},\"size\":{\"units\":\"screen\",\"value\":1},\"x\":{\"field\":\"x\"},\"y\":{\"field\":\"y\"}},\"id\":\"4877\",\"type\":\"Circle\"},{\"attributes\":{\"text\":\"Vulnerable employment, total (% of total employment) (modeled ILO estimate) weighted against Population, total\"},\"id\":\"4809\",\"type\":\"Title\"},{\"attributes\":{\"callback\":null,\"tooltips\":\"                \\n        <div style=padding=5px>Year:@x</div>\\n        <div style=padding=5px>Value:@y</div>        \\n        \"},\"id\":\"4906\",\"type\":\"HoverTool\"},{\"attributes\":{\"grid_line_color\":null,\"ticker\":{\"id\":\"4820\",\"type\":\"BasicTicker\"}},\"id\":\"4823\",\"type\":\"Grid\"},{\"attributes\":{\"fill_alpha\":{\"value\":0.1},\"fill_color\":{\"value\":\"#1f77b4\"},\"line_alpha\":{\"value\":0.1},\"line_color\":{\"value\":\"#1f77b4\"},\"size\":{\"units\":\"screen\",\"value\":1},\"x\":{\"field\":\"x\"},\"y\":{\"field\":\"y\"}},\"id\":\"4878\",\"type\":\"Circle\"},{\"attributes\":{\"callback\":null},\"id\":\"4813\",\"type\":\"DataRange1d\"},{\"attributes\":{\"source\":{\"id\":\"4842\",\"type\":\"ColumnDataSource\"}},\"id\":\"4846\",\"type\":\"CDSView\"},{\"attributes\":{},\"id\":\"5126\",\"type\":\"UnionRenderers\"},{\"attributes\":{\"data_source\":{\"id\":\"4876\",\"type\":\"ColumnDataSource\"},\"glyph\":{\"id\":\"4877\",\"type\":\"Circle\"},\"hover_glyph\":null,\"muted_glyph\":null,\"nonselection_glyph\":{\"id\":\"4878\",\"type\":\"Circle\"},\"selection_glyph\":null,\"view\":{\"id\":\"4880\",\"type\":\"CDSView\"}},\"id\":\"4879\",\"type\":\"GlyphRenderer\"},{\"attributes\":{\"callback\":null},\"id\":\"4811\",\"type\":\"DataRange1d\"},{\"attributes\":{},\"id\":\"4848\",\"type\":\"BasicTickFormatter\"},{\"attributes\":{\"source\":{\"id\":\"4876\",\"type\":\"ColumnDataSource\"}},\"id\":\"4880\",\"type\":\"CDSView\"},{\"attributes\":{},\"id\":\"5127\",\"type\":\"Selection\"},{\"attributes\":{},\"id\":\"4815\",\"type\":\"LinearScale\"},{\"attributes\":{},\"id\":\"4850\",\"type\":\"BasicTickFormatter\"},{\"attributes\":{},\"id\":\"5128\",\"type\":\"UnionRenderers\"},{\"attributes\":{\"axis_label\":\"SL.EMP.VULN.ZS\",\"formatter\":{\"id\":\"4848\",\"type\":\"BasicTickFormatter\"},\"ticker\":{\"id\":\"4825\",\"type\":\"BasicTicker\"}},\"id\":\"4824\",\"type\":\"LinearAxis\"},{\"attributes\":{\"callback\":null,\"data\":{\"x\":[\"2000\",\"2001\",\"2002\",\"2003\",\"2004\",\"2005\",\"2006\",\"2007\",\"2008\",\"2009\",\"2010\",\"2011\",\"2012\",\"2013\",\"2014\",\"2015\",\"2016\",\"2017\"],\"y\":[15.103695797826978,15.131169027337517,14.956404858686836,14.940762682053347,14.834277780762966,14.355494539286878,13.756191814089059,13.46227561311569,13.185720820345873,13.311176143007764,13.205454041812168,13.11874289832326,13.014718113971039,12.888181456404036,12.723579196926023,12.524640395839814,12.37155664238607,12.249551314128]},\"selected\":{\"id\":\"5127\",\"type\":\"Selection\"},\"selection_policy\":{\"id\":\"5126\",\"type\":\"UnionRenderers\"}},\"id\":\"4881\",\"type\":\"ColumnDataSource\"},{\"attributes\":{\"bottom_units\":\"screen\",\"fill_alpha\":{\"value\":0.5},\"fill_color\":{\"value\":\"lightgrey\"},\"left_units\":\"screen\",\"level\":\"overlay\",\"line_alpha\":{\"value\":1.0},\"line_color\":{\"value\":\"black\"},\"line_dash\":[4,4],\"line_width\":{\"value\":2},\"render_mode\":\"css\",\"right_units\":\"screen\",\"top_units\":\"screen\"},\"id\":\"4852\",\"type\":\"BoxAnnotation\"},{\"attributes\":{},\"id\":\"4817\",\"type\":\"LinearScale\"},{\"attributes\":{},\"id\":\"5129\",\"type\":\"Selection\"},{\"attributes\":{\"line_color\":\"#2CC775\",\"line_width\":3,\"x\":{\"field\":\"x\"},\"y\":{\"field\":\"y\"}},\"id\":\"4882\",\"type\":\"Line\"},{\"attributes\":{\"items\":[{\"id\":\"4854\",\"type\":\"LegendItem\"},{\"id\":\"4875\",\"type\":\"LegendItem\"},{\"id\":\"4900\",\"type\":\"LegendItem\"}],\"location\":\"bottom_left\"},\"id\":\"4853\",\"type\":\"Legend\"},{\"attributes\":{\"axis_label\":\"Years\",\"formatter\":{\"id\":\"4850\",\"type\":\"BasicTickFormatter\"},\"ticker\":{\"id\":\"4820\",\"type\":\"BasicTicker\"}},\"id\":\"4819\",\"type\":\"LinearAxis\"},{\"attributes\":{},\"id\":\"4834\",\"type\":\"HelpTool\"},{\"attributes\":{\"line_alpha\":0.1,\"line_color\":\"#1f77b4\",\"line_width\":3,\"x\":{\"field\":\"x\"},\"y\":{\"field\":\"y\"}},\"id\":\"4883\",\"type\":\"Line\"},{\"attributes\":{},\"id\":\"4825\",\"type\":\"BasicTicker\"},{\"attributes\":{\"label\":{\"value\":\"LDCs\"},\"renderers\":[{\"id\":\"4845\",\"type\":\"GlyphRenderer\"}]},\"id\":\"4854\",\"type\":\"LegendItem\"},{\"attributes\":{\"dimension\":1,\"grid_line_alpha\":0.5,\"ticker\":{\"id\":\"4825\",\"type\":\"BasicTicker\"}},\"id\":\"4828\",\"type\":\"Grid\"},{\"attributes\":{\"data_source\":{\"id\":\"4881\",\"type\":\"ColumnDataSource\"},\"glyph\":{\"id\":\"4882\",\"type\":\"Line\"},\"hover_glyph\":null,\"muted_glyph\":null,\"nonselection_glyph\":{\"id\":\"4883\",\"type\":\"Line\"},\"selection_glyph\":null,\"view\":{\"id\":\"4885\",\"type\":\"CDSView\"}},\"id\":\"4884\",\"type\":\"GlyphRenderer\"},{\"attributes\":{\"callback\":null,\"data\":{\"x\":[\"2000\",\"2001\",\"2002\",\"2003\",\"2004\",\"2005\",\"2006\",\"2007\",\"2008\",\"2009\",\"2010\",\"2011\",\"2012\",\"2013\",\"2014\",\"2015\",\"2016\",\"2017\"],\"y\":[76.55562066104517,76.37986864337054,76.20491185151087,76.0285482679487,75.82094785929357,75.61511952397093,75.32895405434937,75.01381997539303,74.69307298605345,74.43136697400037,74.07291940189262,73.61967067900957,73.18548775794076,72.8705406679276,72.58557928075658,72.42095588745232,72.24762664827033,71.97617982154789]},\"selected\":{\"id\":\"4873\",\"type\":\"Selection\"},\"selection_policy\":{\"id\":\"4872\",\"type\":\"UnionRenderers\"}},\"id\":\"4855\",\"type\":\"ColumnDataSource\"},{\"attributes\":{\"source\":{\"id\":\"4881\",\"type\":\"ColumnDataSource\"}},\"id\":\"4885\",\"type\":\"CDSView\"},{\"attributes\":{\"fill_color\":{\"value\":\"#FA1857\"},\"line_color\":{\"value\":\"#FA1857\"},\"size\":{\"units\":\"screen\",\"value\":1},\"x\":{\"field\":\"x\"},\"y\":{\"field\":\"y\"}},\"id\":\"4856\",\"type\":\"Circle\"},{\"attributes\":{\"line_color\":\"#FA1857\",\"line_width\":3,\"x\":{\"field\":\"x\"},\"y\":{\"field\":\"y\"}},\"id\":\"4843\",\"type\":\"Line\"},{\"attributes\":{},\"id\":\"4895\",\"type\":\"UnionRenderers\"},{\"attributes\":{\"fill_alpha\":{\"value\":0.1},\"fill_color\":{\"value\":\"#1f77b4\"},\"line_alpha\":{\"value\":0.1},\"line_color\":{\"value\":\"#1f77b4\"},\"size\":{\"units\":\"screen\",\"value\":1},\"x\":{\"field\":\"x\"},\"y\":{\"field\":\"y\"}},\"id\":\"4857\",\"type\":\"Circle\"},{\"attributes\":{\"line_alpha\":0.1,\"line_color\":\"#1f77b4\",\"line_width\":3,\"x\":{\"field\":\"x\"},\"y\":{\"field\":\"y\"}},\"id\":\"4844\",\"type\":\"Line\"},{\"attributes\":{\"source\":{\"id\":\"4860\",\"type\":\"ColumnDataSource\"}},\"id\":\"4864\",\"type\":\"CDSView\"},{\"attributes\":{\"label\":{\"value\":\"Developing excluding LDCs\"},\"renderers\":[{\"id\":\"4863\",\"type\":\"GlyphRenderer\"}]},\"id\":\"4875\",\"type\":\"LegendItem\"},{\"attributes\":{\"callback\":null,\"data\":{\"x\":[\"2000\",\"2001\",\"2002\",\"2003\",\"2004\",\"2005\",\"2006\",\"2007\",\"2008\",\"2009\",\"2010\",\"2011\",\"2012\",\"2013\",\"2014\",\"2015\",\"2016\",\"2017\"],\"y\":[76.55562066104517,76.37986864337054,76.20491185151087,76.0285482679487,75.82094785929357,75.61511952397093,75.32895405434937,75.01381997539303,74.69307298605345,74.43136697400037,74.07291940189262,73.61967067900957,73.18548775794076,72.8705406679276,72.58557928075658,72.42095588745232,72.24762664827033,71.97617982154789]},\"selected\":{\"id\":\"4871\",\"type\":\"Selection\"},\"selection_policy\":{\"id\":\"4870\",\"type\":\"UnionRenderers\"}},\"id\":\"4842\",\"type\":\"ColumnDataSource\"},{\"attributes\":{},\"id\":\"4896\",\"type\":\"Selection\"},{\"attributes\":{\"data_source\":{\"id\":\"4855\",\"type\":\"ColumnDataSource\"},\"glyph\":{\"id\":\"4856\",\"type\":\"Circle\"},\"hover_glyph\":null,\"muted_glyph\":null,\"nonselection_glyph\":{\"id\":\"4857\",\"type\":\"Circle\"},\"selection_glyph\":null,\"view\":{\"id\":\"4859\",\"type\":\"CDSView\"}},\"id\":\"4858\",\"type\":\"GlyphRenderer\"},{\"attributes\":{},\"id\":\"4873\",\"type\":\"Selection\"},{\"attributes\":{},\"id\":\"4829\",\"type\":\"PanTool\"},{\"attributes\":{},\"id\":\"4897\",\"type\":\"UnionRenderers\"},{\"attributes\":{\"source\":{\"id\":\"4855\",\"type\":\"ColumnDataSource\"}},\"id\":\"4859\",\"type\":\"CDSView\"},{\"attributes\":{},\"id\":\"4830\",\"type\":\"WheelZoomTool\"},{\"attributes\":{},\"id\":\"4898\",\"type\":\"Selection\"},{\"attributes\":{\"callback\":null,\"data\":{\"x\":[\"2000\",\"2001\",\"2002\",\"2003\",\"2004\",\"2005\",\"2006\",\"2007\",\"2008\",\"2009\",\"2010\",\"2011\",\"2012\",\"2013\",\"2014\",\"2015\",\"2016\",\"2017\"],\"y\":[61.112907428435086,60.691447078218324,60.12378233908463,59.83958298619775,59.2886948540458,58.68715381695083,58.034486084007646,57.56646933138067,57.20233508484887,56.901675348262174,56.42641838827256,55.55841766390446,54.541716177965164,54.01071229168338,53.54334284165231,53.11197804583197,52.82467723653058,52.50722323269526]},\"selected\":{\"id\":\"4896\",\"type\":\"Selection\"},\"selection_policy\":{\"id\":\"4895\",\"type\":\"UnionRenderers\"}},\"id\":\"4860\",\"type\":\"ColumnDataSource\"},{\"attributes\":{},\"id\":\"4872\",\"type\":\"UnionRenderers\"},{\"attributes\":{\"overlay\":{\"id\":\"4852\",\"type\":\"BoxAnnotation\"}},\"id\":\"4831\",\"type\":\"BoxZoomTool\"},{\"attributes\":{\"label\":{\"value\":\"OECD\"},\"renderers\":[{\"id\":\"4884\",\"type\":\"GlyphRenderer\"}]},\"id\":\"4900\",\"type\":\"LegendItem\"},{\"attributes\":{\"line_color\":\"#5430F1\",\"line_width\":3,\"x\":{\"field\":\"x\"},\"y\":{\"field\":\"y\"}},\"id\":\"4861\",\"type\":\"Line\"},{\"attributes\":{},\"id\":\"4832\",\"type\":\"SaveTool\"},{\"attributes\":{\"line_alpha\":0.1,\"line_color\":\"#1f77b4\",\"line_width\":3,\"x\":{\"field\":\"x\"},\"y\":{\"field\":\"y\"}},\"id\":\"4862\",\"type\":\"Line\"},{\"attributes\":{\"callback\":null,\"data\":{\"x\":[\"2000\",\"2001\",\"2002\",\"2003\",\"2004\",\"2005\",\"2006\",\"2007\",\"2008\",\"2009\",\"2010\",\"2011\",\"2012\",\"2013\",\"2014\",\"2015\",\"2016\",\"2017\"],\"y\":[15.103695797826978,15.131169027337517,14.956404858686836,14.940762682053347,14.834277780762966,14.355494539286878,13.756191814089059,13.46227561311569,13.185720820345873,13.311176143007764,13.205454041812168,13.11874289832326,13.014718113971039,12.888181456404036,12.723579196926023,12.524640395839814,12.37155664238607,12.249551314128]},\"selected\":{\"id\":\"5129\",\"type\":\"Selection\"},\"selection_policy\":{\"id\":\"5128\",\"type\":\"UnionRenderers\"}},\"id\":\"4901\",\"type\":\"ColumnDataSource\"},{\"attributes\":{\"fill_color\":{\"value\":\"#2CC775\"},\"line_color\":{\"value\":\"#2CC775\"},\"size\":{\"units\":\"screen\",\"value\":1},\"x\":{\"field\":\"x\"},\"y\":{\"field\":\"y\"}},\"id\":\"4902\",\"type\":\"Circle\"},{\"attributes\":{},\"id\":\"4833\",\"type\":\"ResetTool\"},{\"attributes\":{\"data_source\":{\"id\":\"4860\",\"type\":\"ColumnDataSource\"},\"glyph\":{\"id\":\"4861\",\"type\":\"Line\"},\"hover_glyph\":null,\"muted_glyph\":null,\"nonselection_glyph\":{\"id\":\"4862\",\"type\":\"Line\"},\"selection_glyph\":null,\"view\":{\"id\":\"4864\",\"type\":\"CDSView\"}},\"id\":\"4863\",\"type\":\"GlyphRenderer\"},{\"attributes\":{},\"id\":\"4871\",\"type\":\"Selection\"},{\"attributes\":{\"fill_alpha\":{\"value\":0.1},\"fill_color\":{\"value\":\"#1f77b4\"},\"line_alpha\":{\"value\":0.1},\"line_color\":{\"value\":\"#1f77b4\"},\"size\":{\"units\":\"screen\",\"value\":1},\"x\":{\"field\":\"x\"},\"y\":{\"field\":\"y\"}},\"id\":\"4903\",\"type\":\"Circle\"}],\"root_ids\":[\"4808\"]},\"title\":\"Bokeh Application\",\"version\":\"1.3.4\"}};\n",
       "  var render_items = [{\"docid\":\"24d4430e-7c87-4af4-9b8c-3cd8a2881e30\",\"roots\":{\"4808\":\"abccc258-7aab-4885-af62-30524723b3e5\"}}];\n",
       "  root.Bokeh.embed.embed_items_notebook(docs_json, render_items);\n",
       "\n",
       "  }\n",
       "  if (root.Bokeh !== undefined) {\n",
       "    embed_document(root);\n",
       "  } else {\n",
       "    var attempts = 0;\n",
       "    var timer = setInterval(function(root) {\n",
       "      if (root.Bokeh !== undefined) {\n",
       "        embed_document(root);\n",
       "        clearInterval(timer);\n",
       "      }\n",
       "      attempts++;\n",
       "      if (attempts > 100) {\n",
       "        console.log(\"Bokeh: ERROR: Unable to run BokehJS code because BokehJS library is missing\");\n",
       "        clearInterval(timer);\n",
       "      }\n",
       "    }, 10, root)\n",
       "  }\n",
       "})(window);"
      ],
      "application/vnd.bokehjs_exec.v0+json": ""
     },
     "metadata": {
      "application/vnd.bokehjs_exec.v0+json": {
       "id": "4808"
      }
     },
     "output_type": "display_data"
    }
   ],
   "source": [
    "# Vulnerable employment\n",
    "years = list(map(str, list(range(2000,2018))))\n",
    "result = show_weighted_average(years, 'SL.EMP.VULN.ZS', 'SP.POP.TOTL', \n",
    "                               ['LDCs', 'Developing excluding LDCs', 'OECD'], \n",
    "                                height=400, width=1000, line_width=3)"
   ]
  },
  {
   "cell_type": "code",
   "execution_count": 20,
   "metadata": {
    "ExecuteTime": {
     "end_time": "2019-10-25T14:25:14.112300Z",
     "start_time": "2019-10-25T14:25:08.899437Z"
    },
    "slideshow": {
     "slide_type": "slide"
    }
   },
   "outputs": [
    {
     "data": {
      "text/html": [
       "\n",
       "\n",
       "\n",
       "\n",
       "\n",
       "\n",
       "  <div class=\"bk-root\" id=\"8c42c497-f64b-494a-b4da-75c10a3af026\" data-root-id=\"5239\"></div>\n"
      ]
     },
     "metadata": {},
     "output_type": "display_data"
    },
    {
     "data": {
      "application/javascript": [
       "(function(root) {\n",
       "  function embed_document(root) {\n",
       "    \n",
       "  var docs_json = {\"77f71fc9-b662-46e5-8162-07b582de5f9f\":{\"roots\":{\"references\":[{\"attributes\":{\"below\":[{\"id\":\"5250\",\"type\":\"LinearAxis\"}],\"center\":[{\"id\":\"5254\",\"type\":\"Grid\"},{\"id\":\"5259\",\"type\":\"Grid\"},{\"id\":\"5284\",\"type\":\"Legend\"}],\"left\":[{\"id\":\"5255\",\"type\":\"LinearAxis\"}],\"plot_height\":400,\"plot_width\":1000,\"renderers\":[{\"id\":\"5276\",\"type\":\"GlyphRenderer\"},{\"id\":\"5289\",\"type\":\"GlyphRenderer\"},{\"id\":\"5294\",\"type\":\"GlyphRenderer\"},{\"id\":\"5310\",\"type\":\"GlyphRenderer\"},{\"id\":\"5315\",\"type\":\"GlyphRenderer\"},{\"id\":\"5335\",\"type\":\"GlyphRenderer\"}],\"title\":{\"id\":\"5240\",\"type\":\"Title\"},\"toolbar\":{\"id\":\"5266\",\"type\":\"Toolbar\"},\"x_range\":{\"id\":\"5242\",\"type\":\"DataRange1d\"},\"x_scale\":{\"id\":\"5246\",\"type\":\"LinearScale\"},\"y_range\":{\"id\":\"5244\",\"type\":\"DataRange1d\"},\"y_scale\":{\"id\":\"5248\",\"type\":\"LinearScale\"}},\"id\":\"5239\",\"subtype\":\"Figure\",\"type\":\"Plot\"},{\"attributes\":{\"line_alpha\":0.1,\"line_color\":\"#1f77b4\",\"line_width\":3,\"x\":{\"field\":\"x\"},\"y\":{\"field\":\"y\"}},\"id\":\"5314\",\"type\":\"Line\"},{\"attributes\":{},\"id\":\"5263\",\"type\":\"SaveTool\"},{\"attributes\":{},\"id\":\"5327\",\"type\":\"Selection\"},{\"attributes\":{\"data_source\":{\"id\":\"5312\",\"type\":\"ColumnDataSource\"},\"glyph\":{\"id\":\"5313\",\"type\":\"Line\"},\"hover_glyph\":null,\"muted_glyph\":null,\"nonselection_glyph\":{\"id\":\"5314\",\"type\":\"Line\"},\"selection_glyph\":null,\"view\":{\"id\":\"5316\",\"type\":\"CDSView\"}},\"id\":\"5315\",\"type\":\"GlyphRenderer\"},{\"attributes\":{},\"id\":\"5281\",\"type\":\"BasicTickFormatter\"},{\"attributes\":{},\"id\":\"5264\",\"type\":\"ResetTool\"},{\"attributes\":{\"callback\":null,\"data\":{\"x\":[\"2000\",\"2001\",\"2002\",\"2003\",\"2004\",\"2005\",\"2006\",\"2007\",\"2008\",\"2009\",\"2010\",\"2011\",\"2012\",\"2013\",\"2014\",\"2015\",\"2016\",\"2017\"],\"y\":[84.67570947351659,84.54845719460349,84.41534021529151,84.25521506724928,84.12032093981615,83.97106596987518,83.68867661570852,83.77709620056729,83.84020087096158,83.93173050952733,83.8920683978044,83.35726364980452,82.7838732457836,82.3227983282936,81.7453445606311,81.28405232986904,80.80378155261585,80.23067519381057]},\"selected\":{\"id\":\"5302\",\"type\":\"Selection\"},\"selection_policy\":{\"id\":\"5301\",\"type\":\"UnionRenderers\"}},\"id\":\"5273\",\"type\":\"ColumnDataSource\"},{\"attributes\":{\"data_source\":{\"id\":\"5273\",\"type\":\"ColumnDataSource\"},\"glyph\":{\"id\":\"5274\",\"type\":\"Line\"},\"hover_glyph\":null,\"muted_glyph\":null,\"nonselection_glyph\":{\"id\":\"5275\",\"type\":\"Line\"},\"selection_glyph\":null,\"view\":{\"id\":\"5277\",\"type\":\"CDSView\"}},\"id\":\"5276\",\"type\":\"GlyphRenderer\"},{\"attributes\":{\"source\":{\"id\":\"5307\",\"type\":\"ColumnDataSource\"}},\"id\":\"5311\",\"type\":\"CDSView\"},{\"attributes\":{\"callback\":null,\"tooltips\":\"                \\n        <div style=padding=5px>Year:@x</div>\\n        <div style=padding=5px>Value:@y</div>        \\n        \"},\"id\":\"5337\",\"type\":\"HoverTool\"},{\"attributes\":{\"line_alpha\":0.1,\"line_color\":\"#1f77b4\",\"line_width\":3,\"x\":{\"field\":\"x\"},\"y\":{\"field\":\"y\"}},\"id\":\"5275\",\"type\":\"Line\"},{\"attributes\":{},\"id\":\"5326\",\"type\":\"UnionRenderers\"},{\"attributes\":{\"callback\":null,\"data\":{\"x\":[\"2000\",\"2001\",\"2002\",\"2003\",\"2004\",\"2005\",\"2006\",\"2007\",\"2008\",\"2009\",\"2010\",\"2011\",\"2012\",\"2013\",\"2014\",\"2015\",\"2016\",\"2017\"],\"y\":[14.48536902485712,14.493511769829844,14.191813316333826,13.993763075972725,13.83147018503385,13.370962271652207,12.80581092501148,12.566340934456548,12.298027267203656,12.373333284001852,12.307219209624574,12.287989367669757,12.15311900334881,11.971961077598174,11.744068220445252,11.58624004783634,11.401146754618209,11.2798928194068]},\"selected\":{\"id\":\"5576\",\"type\":\"Selection\"},\"selection_policy\":{\"id\":\"5575\",\"type\":\"UnionRenderers\"}},\"id\":\"5312\",\"type\":\"ColumnDataSource\"},{\"attributes\":{},\"id\":\"5260\",\"type\":\"PanTool\"},{\"attributes\":{\"source\":{\"id\":\"5273\",\"type\":\"ColumnDataSource\"}},\"id\":\"5277\",\"type\":\"CDSView\"},{\"attributes\":{},\"id\":\"5303\",\"type\":\"UnionRenderers\"},{\"attributes\":{\"line_color\":\"#2CC775\",\"line_width\":3,\"x\":{\"field\":\"x\"},\"y\":{\"field\":\"y\"}},\"id\":\"5313\",\"type\":\"Line\"},{\"attributes\":{},\"id\":\"5261\",\"type\":\"WheelZoomTool\"},{\"attributes\":{},\"id\":\"5279\",\"type\":\"BasicTickFormatter\"},{\"attributes\":{\"line_alpha\":0.1,\"line_color\":\"#1f77b4\",\"line_width\":3,\"x\":{\"field\":\"x\"},\"y\":{\"field\":\"y\"}},\"id\":\"5293\",\"type\":\"Line\"},{\"attributes\":{\"source\":{\"id\":\"5312\",\"type\":\"ColumnDataSource\"}},\"id\":\"5316\",\"type\":\"CDSView\"},{\"attributes\":{\"fill_color\":{\"value\":\"#5430F1\"},\"line_color\":{\"value\":\"#5430F1\"},\"size\":{\"units\":\"screen\",\"value\":1},\"x\":{\"field\":\"x\"},\"y\":{\"field\":\"y\"}},\"id\":\"5308\",\"type\":\"Circle\"},{\"attributes\":{},\"id\":\"5256\",\"type\":\"BasicTicker\"},{\"attributes\":{},\"id\":\"5265\",\"type\":\"HelpTool\"},{\"attributes\":{\"data_source\":{\"id\":\"5291\",\"type\":\"ColumnDataSource\"},\"glyph\":{\"id\":\"5292\",\"type\":\"Line\"},\"hover_glyph\":null,\"muted_glyph\":null,\"nonselection_glyph\":{\"id\":\"5293\",\"type\":\"Line\"},\"selection_glyph\":null,\"view\":{\"id\":\"5295\",\"type\":\"CDSView\"}},\"id\":\"5294\",\"type\":\"GlyphRenderer\"},{\"attributes\":{\"dimension\":1,\"grid_line_alpha\":0.5,\"ticker\":{\"id\":\"5256\",\"type\":\"BasicTicker\"}},\"id\":\"5259\",\"type\":\"Grid\"},{\"attributes\":{\"fill_alpha\":{\"value\":0.1},\"fill_color\":{\"value\":\"#1f77b4\"},\"line_alpha\":{\"value\":0.1},\"line_color\":{\"value\":\"#1f77b4\"},\"size\":{\"units\":\"screen\",\"value\":1},\"x\":{\"field\":\"x\"},\"y\":{\"field\":\"y\"}},\"id\":\"5309\",\"type\":\"Circle\"},{\"attributes\":{\"active_drag\":\"auto\",\"active_inspect\":\"auto\",\"active_multi\":null,\"active_scroll\":\"auto\",\"active_tap\":\"auto\",\"tools\":[{\"id\":\"5260\",\"type\":\"PanTool\"},{\"id\":\"5261\",\"type\":\"WheelZoomTool\"},{\"id\":\"5262\",\"type\":\"BoxZoomTool\"},{\"id\":\"5263\",\"type\":\"SaveTool\"},{\"id\":\"5264\",\"type\":\"ResetTool\"},{\"id\":\"5265\",\"type\":\"HelpTool\"},{\"id\":\"5337\",\"type\":\"HoverTool\"}]},\"id\":\"5266\",\"type\":\"Toolbar\"},{\"attributes\":{\"line_color\":\"#FA1857\",\"line_width\":3,\"x\":{\"field\":\"x\"},\"y\":{\"field\":\"y\"}},\"id\":\"5274\",\"type\":\"Line\"},{\"attributes\":{\"source\":{\"id\":\"5291\",\"type\":\"ColumnDataSource\"}},\"id\":\"5295\",\"type\":\"CDSView\"},{\"attributes\":{\"data_source\":{\"id\":\"5307\",\"type\":\"ColumnDataSource\"},\"glyph\":{\"id\":\"5308\",\"type\":\"Circle\"},\"hover_glyph\":null,\"muted_glyph\":null,\"nonselection_glyph\":{\"id\":\"5309\",\"type\":\"Circle\"},\"selection_glyph\":null,\"view\":{\"id\":\"5311\",\"type\":\"CDSView\"}},\"id\":\"5310\",\"type\":\"GlyphRenderer\"},{\"attributes\":{\"fill_alpha\":{\"value\":0.1},\"fill_color\":{\"value\":\"#1f77b4\"},\"line_alpha\":{\"value\":0.1},\"line_color\":{\"value\":\"#1f77b4\"},\"size\":{\"units\":\"screen\",\"value\":1},\"x\":{\"field\":\"x\"},\"y\":{\"field\":\"y\"}},\"id\":\"5334\",\"type\":\"Circle\"},{\"attributes\":{\"source\":{\"id\":\"5286\",\"type\":\"ColumnDataSource\"}},\"id\":\"5290\",\"type\":\"CDSView\"},{\"attributes\":{},\"id\":\"5304\",\"type\":\"Selection\"},{\"attributes\":{\"grid_line_color\":null,\"ticker\":{\"id\":\"5251\",\"type\":\"BasicTicker\"}},\"id\":\"5254\",\"type\":\"Grid\"},{\"attributes\":{\"callback\":null,\"data\":{\"x\":[\"2000\",\"2001\",\"2002\",\"2003\",\"2004\",\"2005\",\"2006\",\"2007\",\"2008\",\"2009\",\"2010\",\"2011\",\"2012\",\"2013\",\"2014\",\"2015\",\"2016\",\"2017\"],\"y\":[65.39692668505631,64.96919616793897,64.2505725082179,63.79870336954884,63.21897556155796,62.36083024839076,61.600784397619954,60.977719388475336,60.33881045385905,59.7742461753223,59.09696605173391,57.96713437952283,56.63962670853221,56.007047740270906,55.416368528487254,54.98638981382023,54.60991636925909,54.26255432591824]},\"selected\":{\"id\":\"5327\",\"type\":\"Selection\"},\"selection_policy\":{\"id\":\"5326\",\"type\":\"UnionRenderers\"}},\"id\":\"5291\",\"type\":\"ColumnDataSource\"},{\"attributes\":{\"fill_color\":{\"value\":\"#2CC775\"},\"line_color\":{\"value\":\"#2CC775\"},\"size\":{\"units\":\"screen\",\"value\":1},\"x\":{\"field\":\"x\"},\"y\":{\"field\":\"y\"}},\"id\":\"5333\",\"type\":\"Circle\"},{\"attributes\":{\"label\":{\"value\":\"Developing excluding LDCs\"},\"renderers\":[{\"id\":\"5294\",\"type\":\"GlyphRenderer\"}]},\"id\":\"5306\",\"type\":\"LegendItem\"},{\"attributes\":{\"axis_label\":\"SL.EMP.VULN.FE.ZS\",\"formatter\":{\"id\":\"5279\",\"type\":\"BasicTickFormatter\"},\"ticker\":{\"id\":\"5256\",\"type\":\"BasicTicker\"}},\"id\":\"5255\",\"type\":\"LinearAxis\"},{\"attributes\":{\"line_color\":\"#5430F1\",\"line_width\":3,\"x\":{\"field\":\"x\"},\"y\":{\"field\":\"y\"}},\"id\":\"5292\",\"type\":\"Line\"},{\"attributes\":{\"callback\":null,\"data\":{\"x\":[\"2000\",\"2001\",\"2002\",\"2003\",\"2004\",\"2005\",\"2006\",\"2007\",\"2008\",\"2009\",\"2010\",\"2011\",\"2012\",\"2013\",\"2014\",\"2015\",\"2016\",\"2017\"],\"y\":[65.39692668505631,64.96919616793897,64.2505725082179,63.79870336954884,63.21897556155796,62.36083024839076,61.600784397619954,60.977719388475336,60.33881045385905,59.7742461753223,59.09696605173391,57.96713437952283,56.63962670853221,56.007047740270906,55.416368528487254,54.98638981382023,54.60991636925909,54.26255432591824]},\"selected\":{\"id\":\"5329\",\"type\":\"Selection\"},\"selection_policy\":{\"id\":\"5328\",\"type\":\"UnionRenderers\"}},\"id\":\"5307\",\"type\":\"ColumnDataSource\"},{\"attributes\":{\"callback\":null,\"data\":{\"x\":[\"2000\",\"2001\",\"2002\",\"2003\",\"2004\",\"2005\",\"2006\",\"2007\",\"2008\",\"2009\",\"2010\",\"2011\",\"2012\",\"2013\",\"2014\",\"2015\",\"2016\",\"2017\"],\"y\":[14.48536902485712,14.493511769829844,14.191813316333826,13.993763075972725,13.83147018503385,13.370962271652207,12.80581092501148,12.566340934456548,12.298027267203656,12.373333284001852,12.307219209624574,12.287989367669757,12.15311900334881,11.971961077598174,11.744068220445252,11.58624004783634,11.401146754618209,11.2798928194068]},\"selected\":{\"id\":\"5578\",\"type\":\"Selection\"},\"selection_policy\":{\"id\":\"5577\",\"type\":\"UnionRenderers\"}},\"id\":\"5332\",\"type\":\"ColumnDataSource\"},{\"attributes\":{\"fill_color\":{\"value\":\"#FA1857\"},\"line_color\":{\"value\":\"#FA1857\"},\"size\":{\"units\":\"screen\",\"value\":1},\"x\":{\"field\":\"x\"},\"y\":{\"field\":\"y\"}},\"id\":\"5287\",\"type\":\"Circle\"},{\"attributes\":{},\"id\":\"5576\",\"type\":\"Selection\"},{\"attributes\":{},\"id\":\"5301\",\"type\":\"UnionRenderers\"},{\"attributes\":{},\"id\":\"5248\",\"type\":\"LinearScale\"},{\"attributes\":{\"fill_alpha\":{\"value\":0.1},\"fill_color\":{\"value\":\"#1f77b4\"},\"line_alpha\":{\"value\":0.1},\"line_color\":{\"value\":\"#1f77b4\"},\"size\":{\"units\":\"screen\",\"value\":1},\"x\":{\"field\":\"x\"},\"y\":{\"field\":\"y\"}},\"id\":\"5288\",\"type\":\"Circle\"},{\"attributes\":{},\"id\":\"5577\",\"type\":\"UnionRenderers\"},{\"attributes\":{},\"id\":\"5302\",\"type\":\"Selection\"},{\"attributes\":{\"axis_label\":\"Years\",\"formatter\":{\"id\":\"5281\",\"type\":\"BasicTickFormatter\"},\"ticker\":{\"id\":\"5251\",\"type\":\"BasicTicker\"}},\"id\":\"5250\",\"type\":\"LinearAxis\"},{\"attributes\":{\"data_source\":{\"id\":\"5286\",\"type\":\"ColumnDataSource\"},\"glyph\":{\"id\":\"5287\",\"type\":\"Circle\"},\"hover_glyph\":null,\"muted_glyph\":null,\"nonselection_glyph\":{\"id\":\"5288\",\"type\":\"Circle\"},\"selection_glyph\":null,\"view\":{\"id\":\"5290\",\"type\":\"CDSView\"}},\"id\":\"5289\",\"type\":\"GlyphRenderer\"},{\"attributes\":{},\"id\":\"5578\",\"type\":\"Selection\"},{\"attributes\":{\"label\":{\"value\":\"OECD\"},\"renderers\":[{\"id\":\"5315\",\"type\":\"GlyphRenderer\"}]},\"id\":\"5331\",\"type\":\"LegendItem\"},{\"attributes\":{\"bottom_units\":\"screen\",\"fill_alpha\":{\"value\":0.5},\"fill_color\":{\"value\":\"lightgrey\"},\"left_units\":\"screen\",\"level\":\"overlay\",\"line_alpha\":{\"value\":1.0},\"line_color\":{\"value\":\"black\"},\"line_dash\":[4,4],\"line_width\":{\"value\":2},\"render_mode\":\"css\",\"right_units\":\"screen\",\"top_units\":\"screen\"},\"id\":\"5283\",\"type\":\"BoxAnnotation\"},{\"attributes\":{},\"id\":\"5251\",\"type\":\"BasicTicker\"},{\"attributes\":{\"items\":[{\"id\":\"5285\",\"type\":\"LegendItem\"},{\"id\":\"5306\",\"type\":\"LegendItem\"},{\"id\":\"5331\",\"type\":\"LegendItem\"}],\"location\":\"bottom_left\"},\"id\":\"5284\",\"type\":\"Legend\"},{\"attributes\":{\"source\":{\"id\":\"5332\",\"type\":\"ColumnDataSource\"}},\"id\":\"5336\",\"type\":\"CDSView\"},{\"attributes\":{\"callback\":null},\"id\":\"5242\",\"type\":\"DataRange1d\"},{\"attributes\":{\"label\":{\"value\":\"LDCs\"},\"renderers\":[{\"id\":\"5276\",\"type\":\"GlyphRenderer\"}]},\"id\":\"5285\",\"type\":\"LegendItem\"},{\"attributes\":{},\"id\":\"5329\",\"type\":\"Selection\"},{\"attributes\":{\"callback\":null},\"id\":\"5244\",\"type\":\"DataRange1d\"},{\"attributes\":{\"callback\":null,\"data\":{\"x\":[\"2000\",\"2001\",\"2002\",\"2003\",\"2004\",\"2005\",\"2006\",\"2007\",\"2008\",\"2009\",\"2010\",\"2011\",\"2012\",\"2013\",\"2014\",\"2015\",\"2016\",\"2017\"],\"y\":[84.67570947351659,84.54845719460349,84.41534021529151,84.25521506724928,84.12032093981615,83.97106596987518,83.68867661570852,83.77709620056729,83.84020087096158,83.93173050952733,83.8920683978044,83.35726364980452,82.7838732457836,82.3227983282936,81.7453445606311,81.28405232986904,80.80378155261585,80.23067519381057]},\"selected\":{\"id\":\"5304\",\"type\":\"Selection\"},\"selection_policy\":{\"id\":\"5303\",\"type\":\"UnionRenderers\"}},\"id\":\"5286\",\"type\":\"ColumnDataSource\"},{\"attributes\":{},\"id\":\"5575\",\"type\":\"UnionRenderers\"},{\"attributes\":{},\"id\":\"5246\",\"type\":\"LinearScale\"},{\"attributes\":{\"data_source\":{\"id\":\"5332\",\"type\":\"ColumnDataSource\"},\"glyph\":{\"id\":\"5333\",\"type\":\"Circle\"},\"hover_glyph\":null,\"muted_glyph\":null,\"nonselection_glyph\":{\"id\":\"5334\",\"type\":\"Circle\"},\"selection_glyph\":null,\"view\":{\"id\":\"5336\",\"type\":\"CDSView\"}},\"id\":\"5335\",\"type\":\"GlyphRenderer\"},{\"attributes\":{},\"id\":\"5328\",\"type\":\"UnionRenderers\"},{\"attributes\":{\"text\":\"Vulnerable employment, female (% of female employment) (modeled ILO estimate) weighted against Labor force, total\"},\"id\":\"5240\",\"type\":\"Title\"},{\"attributes\":{\"overlay\":{\"id\":\"5283\",\"type\":\"BoxAnnotation\"}},\"id\":\"5262\",\"type\":\"BoxZoomTool\"}],\"root_ids\":[\"5239\"]},\"title\":\"Bokeh Application\",\"version\":\"1.3.4\"}};\n",
       "  var render_items = [{\"docid\":\"77f71fc9-b662-46e5-8162-07b582de5f9f\",\"roots\":{\"5239\":\"8c42c497-f64b-494a-b4da-75c10a3af026\"}}];\n",
       "  root.Bokeh.embed.embed_items_notebook(docs_json, render_items);\n",
       "\n",
       "  }\n",
       "  if (root.Bokeh !== undefined) {\n",
       "    embed_document(root);\n",
       "  } else {\n",
       "    var attempts = 0;\n",
       "    var timer = setInterval(function(root) {\n",
       "      if (root.Bokeh !== undefined) {\n",
       "        embed_document(root);\n",
       "        clearInterval(timer);\n",
       "      }\n",
       "      attempts++;\n",
       "      if (attempts > 100) {\n",
       "        console.log(\"Bokeh: ERROR: Unable to run BokehJS code because BokehJS library is missing\");\n",
       "        clearInterval(timer);\n",
       "      }\n",
       "    }, 10, root)\n",
       "  }\n",
       "})(window);"
      ],
      "application/vnd.bokehjs_exec.v0+json": ""
     },
     "metadata": {
      "application/vnd.bokehjs_exec.v0+json": {
       "id": "5239"
      }
     },
     "output_type": "display_data"
    }
   ],
   "source": [
    "# Female vulnerable employment\n",
    "years = list(map(str, list(range(2000,2018))))\n",
    "result = show_weighted_average(years, 'SL.EMP.VULN.FE.ZS', 'SL.TLF.TOTL.IN', \n",
    "                               ['LDCs', 'Developing excluding LDCs', 'OECD'], \n",
    "                                height=400, width=1000, line_width=3)"
   ]
  },
  {
   "cell_type": "code",
   "execution_count": 21,
   "metadata": {
    "ExecuteTime": {
     "end_time": "2019-10-25T14:25:19.414594Z",
     "start_time": "2019-10-25T14:25:14.115306Z"
    },
    "slideshow": {
     "slide_type": "slide"
    }
   },
   "outputs": [
    {
     "data": {
      "text/html": [
       "\n",
       "\n",
       "\n",
       "\n",
       "\n",
       "\n",
       "  <div class=\"bk-root\" id=\"4655895d-baf2-4c3e-ad33-b9eedfd9a1f1\" data-root-id=\"5688\"></div>\n"
      ]
     },
     "metadata": {},
     "output_type": "display_data"
    },
    {
     "data": {
      "application/javascript": [
       "(function(root) {\n",
       "  function embed_document(root) {\n",
       "    \n",
       "  var docs_json = {\"978fe636-e38e-43cd-8616-0e2a003508ec\":{\"roots\":{\"references\":[{\"attributes\":{\"below\":[{\"id\":\"5699\",\"type\":\"LinearAxis\"}],\"center\":[{\"id\":\"5703\",\"type\":\"Grid\"},{\"id\":\"5708\",\"type\":\"Grid\"},{\"id\":\"5733\",\"type\":\"Legend\"}],\"left\":[{\"id\":\"5704\",\"type\":\"LinearAxis\"}],\"plot_height\":400,\"plot_width\":1000,\"renderers\":[{\"id\":\"5725\",\"type\":\"GlyphRenderer\"},{\"id\":\"5738\",\"type\":\"GlyphRenderer\"},{\"id\":\"5743\",\"type\":\"GlyphRenderer\"},{\"id\":\"5759\",\"type\":\"GlyphRenderer\"},{\"id\":\"5764\",\"type\":\"GlyphRenderer\"},{\"id\":\"5784\",\"type\":\"GlyphRenderer\"}],\"title\":{\"id\":\"5689\",\"type\":\"Title\"},\"toolbar\":{\"id\":\"5715\",\"type\":\"Toolbar\"},\"x_range\":{\"id\":\"5691\",\"type\":\"DataRange1d\"},\"x_scale\":{\"id\":\"5695\",\"type\":\"LinearScale\"},\"y_range\":{\"id\":\"5693\",\"type\":\"DataRange1d\"},\"y_scale\":{\"id\":\"5697\",\"type\":\"LinearScale\"}},\"id\":\"5688\",\"subtype\":\"Figure\",\"type\":\"Plot\"},{\"attributes\":{\"fill_alpha\":{\"value\":0.1},\"fill_color\":{\"value\":\"#1f77b4\"},\"line_alpha\":{\"value\":0.1},\"line_color\":{\"value\":\"#1f77b4\"},\"size\":{\"units\":\"screen\",\"value\":1},\"x\":{\"field\":\"x\"},\"y\":{\"field\":\"y\"}},\"id\":\"5737\",\"type\":\"Circle\"},{\"attributes\":{\"callback\":null},\"id\":\"5691\",\"type\":\"DataRange1d\"},{\"attributes\":{\"bottom_units\":\"screen\",\"fill_alpha\":{\"value\":0.5},\"fill_color\":{\"value\":\"lightgrey\"},\"left_units\":\"screen\",\"level\":\"overlay\",\"line_alpha\":{\"value\":1.0},\"line_color\":{\"value\":\"black\"},\"line_dash\":[4,4],\"line_width\":{\"value\":2},\"render_mode\":\"css\",\"right_units\":\"screen\",\"top_units\":\"screen\"},\"id\":\"5732\",\"type\":\"BoxAnnotation\"},{\"attributes\":{\"dimension\":1,\"grid_line_alpha\":0.5,\"ticker\":{\"id\":\"5705\",\"type\":\"BasicTicker\"}},\"id\":\"5708\",\"type\":\"Grid\"},{\"attributes\":{\"fill_color\":{\"value\":\"#2CC775\"},\"line_color\":{\"value\":\"#2CC775\"},\"size\":{\"units\":\"screen\",\"value\":1},\"x\":{\"field\":\"x\"},\"y\":{\"field\":\"y\"}},\"id\":\"5782\",\"type\":\"Circle\"},{\"attributes\":{\"label\":{\"value\":\"Developing excluding LDCs\"},\"renderers\":[{\"id\":\"5743\",\"type\":\"GlyphRenderer\"}]},\"id\":\"5755\",\"type\":\"LegendItem\"},{\"attributes\":{\"source\":{\"id\":\"5740\",\"type\":\"ColumnDataSource\"}},\"id\":\"5744\",\"type\":\"CDSView\"},{\"attributes\":{\"label\":{\"value\":\"LDCs\"},\"renderers\":[{\"id\":\"5725\",\"type\":\"GlyphRenderer\"}]},\"id\":\"5734\",\"type\":\"LegendItem\"},{\"attributes\":{},\"id\":\"5776\",\"type\":\"Selection\"},{\"attributes\":{},\"id\":\"6043\",\"type\":\"Selection\"},{\"attributes\":{},\"id\":\"5697\",\"type\":\"LinearScale\"},{\"attributes\":{\"active_drag\":\"auto\",\"active_inspect\":\"auto\",\"active_multi\":null,\"active_scroll\":\"auto\",\"active_tap\":\"auto\",\"tools\":[{\"id\":\"5709\",\"type\":\"PanTool\"},{\"id\":\"5710\",\"type\":\"WheelZoomTool\"},{\"id\":\"5711\",\"type\":\"BoxZoomTool\"},{\"id\":\"5712\",\"type\":\"SaveTool\"},{\"id\":\"5713\",\"type\":\"ResetTool\"},{\"id\":\"5714\",\"type\":\"HelpTool\"},{\"id\":\"5786\",\"type\":\"HoverTool\"}]},\"id\":\"5715\",\"type\":\"Toolbar\"},{\"attributes\":{\"text\":\"Vulnerable employment, male (% of male employment) (modeled ILO estimate) weighted against Labor force, total\"},\"id\":\"5689\",\"type\":\"Title\"},{\"attributes\":{\"fill_color\":{\"value\":\"#FA1857\"},\"line_color\":{\"value\":\"#FA1857\"},\"size\":{\"units\":\"screen\",\"value\":1},\"x\":{\"field\":\"x\"},\"y\":{\"field\":\"y\"}},\"id\":\"5736\",\"type\":\"Circle\"},{\"attributes\":{\"source\":{\"id\":\"5735\",\"type\":\"ColumnDataSource\"}},\"id\":\"5739\",\"type\":\"CDSView\"},{\"attributes\":{\"source\":{\"id\":\"5756\",\"type\":\"ColumnDataSource\"}},\"id\":\"5760\",\"type\":\"CDSView\"},{\"attributes\":{\"line_alpha\":0.1,\"line_color\":\"#1f77b4\",\"line_width\":4,\"x\":{\"field\":\"x\"},\"y\":{\"field\":\"y\"}},\"id\":\"5742\",\"type\":\"Line\"},{\"attributes\":{},\"id\":\"5705\",\"type\":\"BasicTicker\"},{\"attributes\":{},\"id\":\"5728\",\"type\":\"BasicTickFormatter\"},{\"attributes\":{\"fill_alpha\":{\"value\":0.1},\"fill_color\":{\"value\":\"#1f77b4\"},\"line_alpha\":{\"value\":0.1},\"line_color\":{\"value\":\"#1f77b4\"},\"size\":{\"units\":\"screen\",\"value\":1},\"x\":{\"field\":\"x\"},\"y\":{\"field\":\"y\"}},\"id\":\"5783\",\"type\":\"Circle\"},{\"attributes\":{},\"id\":\"5713\",\"type\":\"ResetTool\"},{\"attributes\":{\"line_color\":\"#2CC775\",\"line_width\":4,\"x\":{\"field\":\"x\"},\"y\":{\"field\":\"y\"}},\"id\":\"5762\",\"type\":\"Line\"},{\"attributes\":{},\"id\":\"6044\",\"type\":\"UnionRenderers\"},{\"attributes\":{},\"id\":\"5753\",\"type\":\"Selection\"},{\"attributes\":{\"source\":{\"id\":\"5722\",\"type\":\"ColumnDataSource\"}},\"id\":\"5726\",\"type\":\"CDSView\"},{\"attributes\":{},\"id\":\"6042\",\"type\":\"UnionRenderers\"},{\"attributes\":{\"callback\":null,\"data\":{\"x\":[\"2000\",\"2001\",\"2002\",\"2003\",\"2004\",\"2005\",\"2006\",\"2007\",\"2008\",\"2009\",\"2010\",\"2011\",\"2012\",\"2013\",\"2014\",\"2015\",\"2016\",\"2017\"],\"y\":[13.983595169339262,13.998859245381606,13.991020663967802,14.08072441547863,14.122426832902441,13.78425403912315,13.299377817936158,13.057250481869682,12.840791354088491,13.031251656893089,13.030931611471235,12.99280973346482,12.971599240608382,12.90982728415717,12.853117783704255,12.684740815496953,12.575432474590244,12.453772658805285]},\"selected\":{\"id\":\"6045\",\"type\":\"Selection\"},\"selection_policy\":{\"id\":\"6044\",\"type\":\"UnionRenderers\"}},\"id\":\"5781\",\"type\":\"ColumnDataSource\"},{\"attributes\":{},\"id\":\"5730\",\"type\":\"BasicTickFormatter\"},{\"attributes\":{\"source\":{\"id\":\"5761\",\"type\":\"ColumnDataSource\"}},\"id\":\"5765\",\"type\":\"CDSView\"},{\"attributes\":{},\"id\":\"6045\",\"type\":\"Selection\"},{\"attributes\":{\"data_source\":{\"id\":\"5722\",\"type\":\"ColumnDataSource\"},\"glyph\":{\"id\":\"5723\",\"type\":\"Line\"},\"hover_glyph\":null,\"muted_glyph\":null,\"nonselection_glyph\":{\"id\":\"5724\",\"type\":\"Line\"},\"selection_glyph\":null,\"view\":{\"id\":\"5726\",\"type\":\"CDSView\"}},\"id\":\"5725\",\"type\":\"GlyphRenderer\"},{\"attributes\":{\"axis_label\":\"SL.EMP.VULN.MA.ZS\",\"formatter\":{\"id\":\"5728\",\"type\":\"BasicTickFormatter\"},\"ticker\":{\"id\":\"5705\",\"type\":\"BasicTicker\"}},\"id\":\"5704\",\"type\":\"LinearAxis\"},{\"attributes\":{},\"id\":\"5778\",\"type\":\"Selection\"},{\"attributes\":{},\"id\":\"5712\",\"type\":\"SaveTool\"},{\"attributes\":{\"items\":[{\"id\":\"5734\",\"type\":\"LegendItem\"},{\"id\":\"5755\",\"type\":\"LegendItem\"},{\"id\":\"5780\",\"type\":\"LegendItem\"}],\"location\":\"bottom_left\"},\"id\":\"5733\",\"type\":\"Legend\"},{\"attributes\":{\"label\":{\"value\":\"OECD\"},\"renderers\":[{\"id\":\"5764\",\"type\":\"GlyphRenderer\"}]},\"id\":\"5780\",\"type\":\"LegendItem\"},{\"attributes\":{\"callback\":null,\"data\":{\"x\":[\"2000\",\"2001\",\"2002\",\"2003\",\"2004\",\"2005\",\"2006\",\"2007\",\"2008\",\"2009\",\"2010\",\"2011\",\"2012\",\"2013\",\"2014\",\"2015\",\"2016\",\"2017\"],\"y\":[57.182668493701804,56.624347402457296,56.14973579960289,55.87796189195199,55.25401813080033,54.67087712681627,53.921143113103525,53.323776327013384,52.83097870875332,52.43257032658141,51.929260596232744,51.09073039239959,50.08754694939069,49.60308553742829,49.20403712953163,48.77821761472152,48.56988546874208,48.2728268059283]},\"selected\":{\"id\":\"5776\",\"type\":\"Selection\"},\"selection_policy\":{\"id\":\"5775\",\"type\":\"UnionRenderers\"}},\"id\":\"5740\",\"type\":\"ColumnDataSource\"},{\"attributes\":{\"data_source\":{\"id\":\"5735\",\"type\":\"ColumnDataSource\"},\"glyph\":{\"id\":\"5736\",\"type\":\"Circle\"},\"hover_glyph\":null,\"muted_glyph\":null,\"nonselection_glyph\":{\"id\":\"5737\",\"type\":\"Circle\"},\"selection_glyph\":null,\"view\":{\"id\":\"5739\",\"type\":\"CDSView\"}},\"id\":\"5738\",\"type\":\"GlyphRenderer\"},{\"attributes\":{\"overlay\":{\"id\":\"5732\",\"type\":\"BoxAnnotation\"}},\"id\":\"5711\",\"type\":\"BoxZoomTool\"},{\"attributes\":{},\"id\":\"5714\",\"type\":\"HelpTool\"},{\"attributes\":{\"axis_label\":\"Years\",\"formatter\":{\"id\":\"5730\",\"type\":\"BasicTickFormatter\"},\"ticker\":{\"id\":\"5700\",\"type\":\"BasicTicker\"}},\"id\":\"5699\",\"type\":\"LinearAxis\"},{\"attributes\":{\"line_alpha\":0.1,\"line_color\":\"#1f77b4\",\"line_width\":4,\"x\":{\"field\":\"x\"},\"y\":{\"field\":\"y\"}},\"id\":\"5724\",\"type\":\"Line\"},{\"attributes\":{},\"id\":\"5710\",\"type\":\"WheelZoomTool\"},{\"attributes\":{\"fill_alpha\":{\"value\":0.1},\"fill_color\":{\"value\":\"#1f77b4\"},\"line_alpha\":{\"value\":0.1},\"line_color\":{\"value\":\"#1f77b4\"},\"size\":{\"units\":\"screen\",\"value\":1},\"x\":{\"field\":\"x\"},\"y\":{\"field\":\"y\"}},\"id\":\"5758\",\"type\":\"Circle\"},{\"attributes\":{},\"id\":\"5775\",\"type\":\"UnionRenderers\"},{\"attributes\":{},\"id\":\"5700\",\"type\":\"BasicTicker\"},{\"attributes\":{\"data_source\":{\"id\":\"5756\",\"type\":\"ColumnDataSource\"},\"glyph\":{\"id\":\"5757\",\"type\":\"Circle\"},\"hover_glyph\":null,\"muted_glyph\":null,\"nonselection_glyph\":{\"id\":\"5758\",\"type\":\"Circle\"},\"selection_glyph\":null,\"view\":{\"id\":\"5760\",\"type\":\"CDSView\"}},\"id\":\"5759\",\"type\":\"GlyphRenderer\"},{\"attributes\":{\"grid_line_color\":null,\"ticker\":{\"id\":\"5700\",\"type\":\"BasicTicker\"}},\"id\":\"5703\",\"type\":\"Grid\"},{\"attributes\":{\"callback\":null,\"data\":{\"x\":[\"2000\",\"2001\",\"2002\",\"2003\",\"2004\",\"2005\",\"2006\",\"2007\",\"2008\",\"2009\",\"2010\",\"2011\",\"2012\",\"2013\",\"2014\",\"2015\",\"2016\",\"2017\"],\"y\":[73.21763465176444,72.99635651982048,72.78114922045958,72.56740210564952,72.31280809134215,72.06374288534862,71.69979704264206,71.14977890148174,70.60291365237993,70.13601099904103,69.53324532417238,69.00621511120234,68.55967633532312,68.25151294620667,68.00716472004207,67.84672660682828,67.79561725854789,67.4365616886222]},\"selected\":{\"id\":\"5753\",\"type\":\"Selection\"},\"selection_policy\":{\"id\":\"5752\",\"type\":\"UnionRenderers\"}},\"id\":\"5735\",\"type\":\"ColumnDataSource\"},{\"attributes\":{\"data_source\":{\"id\":\"5781\",\"type\":\"ColumnDataSource\"},\"glyph\":{\"id\":\"5782\",\"type\":\"Circle\"},\"hover_glyph\":null,\"muted_glyph\":null,\"nonselection_glyph\":{\"id\":\"5783\",\"type\":\"Circle\"},\"selection_glyph\":null,\"view\":{\"id\":\"5785\",\"type\":\"CDSView\"}},\"id\":\"5784\",\"type\":\"GlyphRenderer\"},{\"attributes\":{},\"id\":\"5750\",\"type\":\"UnionRenderers\"},{\"attributes\":{},\"id\":\"5777\",\"type\":\"UnionRenderers\"},{\"attributes\":{\"source\":{\"id\":\"5781\",\"type\":\"ColumnDataSource\"}},\"id\":\"5785\",\"type\":\"CDSView\"},{\"attributes\":{},\"id\":\"5751\",\"type\":\"Selection\"},{\"attributes\":{\"callback\":null,\"data\":{\"x\":[\"2000\",\"2001\",\"2002\",\"2003\",\"2004\",\"2005\",\"2006\",\"2007\",\"2008\",\"2009\",\"2010\",\"2011\",\"2012\",\"2013\",\"2014\",\"2015\",\"2016\",\"2017\"],\"y\":[57.182668493701804,56.624347402457296,56.14973579960289,55.87796189195199,55.25401813080033,54.67087712681627,53.921143113103525,53.323776327013384,52.83097870875332,52.43257032658141,51.929260596232744,51.09073039239959,50.08754694939069,49.60308553742829,49.20403712953163,48.77821761472152,48.56988546874208,48.2728268059283]},\"selected\":{\"id\":\"5778\",\"type\":\"Selection\"},\"selection_policy\":{\"id\":\"5777\",\"type\":\"UnionRenderers\"}},\"id\":\"5756\",\"type\":\"ColumnDataSource\"},{\"attributes\":{\"line_color\":\"#5430F1\",\"line_width\":4,\"x\":{\"field\":\"x\"},\"y\":{\"field\":\"y\"}},\"id\":\"5741\",\"type\":\"Line\"},{\"attributes\":{},\"id\":\"5709\",\"type\":\"PanTool\"},{\"attributes\":{\"data_source\":{\"id\":\"5761\",\"type\":\"ColumnDataSource\"},\"glyph\":{\"id\":\"5762\",\"type\":\"Line\"},\"hover_glyph\":null,\"muted_glyph\":null,\"nonselection_glyph\":{\"id\":\"5763\",\"type\":\"Line\"},\"selection_glyph\":null,\"view\":{\"id\":\"5765\",\"type\":\"CDSView\"}},\"id\":\"5764\",\"type\":\"GlyphRenderer\"},{\"attributes\":{\"callback\":null,\"tooltips\":\"                \\n        <div style=padding=5px>Year:@x</div>\\n        <div style=padding=5px>Value:@y</div>        \\n        \"},\"id\":\"5786\",\"type\":\"HoverTool\"},{\"attributes\":{\"callback\":null},\"id\":\"5693\",\"type\":\"DataRange1d\"},{\"attributes\":{\"line_alpha\":0.1,\"line_color\":\"#1f77b4\",\"line_width\":4,\"x\":{\"field\":\"x\"},\"y\":{\"field\":\"y\"}},\"id\":\"5763\",\"type\":\"Line\"},{\"attributes\":{\"callback\":null,\"data\":{\"x\":[\"2000\",\"2001\",\"2002\",\"2003\",\"2004\",\"2005\",\"2006\",\"2007\",\"2008\",\"2009\",\"2010\",\"2011\",\"2012\",\"2013\",\"2014\",\"2015\",\"2016\",\"2017\"],\"y\":[13.983595169339262,13.998859245381606,13.991020663967802,14.08072441547863,14.122426832902441,13.78425403912315,13.299377817936158,13.057250481869682,12.840791354088491,13.031251656893089,13.030931611471235,12.99280973346482,12.971599240608382,12.90982728415717,12.853117783704255,12.684740815496953,12.575432474590244,12.453772658805285]},\"selected\":{\"id\":\"6043\",\"type\":\"Selection\"},\"selection_policy\":{\"id\":\"6042\",\"type\":\"UnionRenderers\"}},\"id\":\"5761\",\"type\":\"ColumnDataSource\"},{\"attributes\":{},\"id\":\"5695\",\"type\":\"LinearScale\"},{\"attributes\":{},\"id\":\"5752\",\"type\":\"UnionRenderers\"},{\"attributes\":{\"callback\":null,\"data\":{\"x\":[\"2000\",\"2001\",\"2002\",\"2003\",\"2004\",\"2005\",\"2006\",\"2007\",\"2008\",\"2009\",\"2010\",\"2011\",\"2012\",\"2013\",\"2014\",\"2015\",\"2016\",\"2017\"],\"y\":[73.21763465176444,72.99635651982048,72.78114922045958,72.56740210564952,72.31280809134215,72.06374288534862,71.69979704264206,71.14977890148174,70.60291365237993,70.13601099904103,69.53324532417238,69.00621511120234,68.55967633532312,68.25151294620667,68.00716472004207,67.84672660682828,67.79561725854789,67.4365616886222]},\"selected\":{\"id\":\"5751\",\"type\":\"Selection\"},\"selection_policy\":{\"id\":\"5750\",\"type\":\"UnionRenderers\"}},\"id\":\"5722\",\"type\":\"ColumnDataSource\"},{\"attributes\":{\"fill_color\":{\"value\":\"#5430F1\"},\"line_color\":{\"value\":\"#5430F1\"},\"size\":{\"units\":\"screen\",\"value\":1},\"x\":{\"field\":\"x\"},\"y\":{\"field\":\"y\"}},\"id\":\"5757\",\"type\":\"Circle\"},{\"attributes\":{\"data_source\":{\"id\":\"5740\",\"type\":\"ColumnDataSource\"},\"glyph\":{\"id\":\"5741\",\"type\":\"Line\"},\"hover_glyph\":null,\"muted_glyph\":null,\"nonselection_glyph\":{\"id\":\"5742\",\"type\":\"Line\"},\"selection_glyph\":null,\"view\":{\"id\":\"5744\",\"type\":\"CDSView\"}},\"id\":\"5743\",\"type\":\"GlyphRenderer\"},{\"attributes\":{\"line_color\":\"#FA1857\",\"line_width\":4,\"x\":{\"field\":\"x\"},\"y\":{\"field\":\"y\"}},\"id\":\"5723\",\"type\":\"Line\"}],\"root_ids\":[\"5688\"]},\"title\":\"Bokeh Application\",\"version\":\"1.3.4\"}};\n",
       "  var render_items = [{\"docid\":\"978fe636-e38e-43cd-8616-0e2a003508ec\",\"roots\":{\"5688\":\"4655895d-baf2-4c3e-ad33-b9eedfd9a1f1\"}}];\n",
       "  root.Bokeh.embed.embed_items_notebook(docs_json, render_items);\n",
       "\n",
       "  }\n",
       "  if (root.Bokeh !== undefined) {\n",
       "    embed_document(root);\n",
       "  } else {\n",
       "    var attempts = 0;\n",
       "    var timer = setInterval(function(root) {\n",
       "      if (root.Bokeh !== undefined) {\n",
       "        embed_document(root);\n",
       "        clearInterval(timer);\n",
       "      }\n",
       "      attempts++;\n",
       "      if (attempts > 100) {\n",
       "        console.log(\"Bokeh: ERROR: Unable to run BokehJS code because BokehJS library is missing\");\n",
       "        clearInterval(timer);\n",
       "      }\n",
       "    }, 10, root)\n",
       "  }\n",
       "})(window);"
      ],
      "application/vnd.bokehjs_exec.v0+json": ""
     },
     "metadata": {
      "application/vnd.bokehjs_exec.v0+json": {
       "id": "5688"
      }
     },
     "output_type": "display_data"
    }
   ],
   "source": [
    "# Male vulnerable employment\n",
    "years = list(map(str, list(range(2000,2018))))\n",
    "result = show_weighted_average(years, 'SL.EMP.VULN.MA.ZS', 'SL.TLF.TOTL.IN', \n",
    "                               ['LDCs', 'Developing excluding LDCs', 'OECD'], \n",
    "                                height=400, width=1000, line_width=4)"
   ]
  },
  {
   "cell_type": "code",
   "execution_count": 22,
   "metadata": {
    "ExecuteTime": {
     "end_time": "2019-10-25T14:25:24.083516Z",
     "start_time": "2019-10-25T14:25:19.417499Z"
    },
    "slideshow": {
     "slide_type": "slide"
    }
   },
   "outputs": [
    {
     "data": {
      "text/html": [
       "\n",
       "\n",
       "\n",
       "\n",
       "\n",
       "\n",
       "  <div class=\"bk-root\" id=\"3567b41a-21c8-4964-a5e0-c8a3fed708c5\" data-root-id=\"6155\"></div>\n"
      ]
     },
     "metadata": {},
     "output_type": "display_data"
    },
    {
     "data": {
      "application/javascript": [
       "(function(root) {\n",
       "  function embed_document(root) {\n",
       "    \n",
       "  var docs_json = {\"964a4dea-78c1-4580-bfeb-468169b0b171\":{\"roots\":{\"references\":[{\"attributes\":{\"below\":[{\"id\":\"6166\",\"type\":\"LinearAxis\"}],\"center\":[{\"id\":\"6170\",\"type\":\"Grid\"},{\"id\":\"6175\",\"type\":\"Grid\"},{\"id\":\"6200\",\"type\":\"Legend\"}],\"left\":[{\"id\":\"6171\",\"type\":\"LinearAxis\"}],\"plot_height\":400,\"plot_width\":1000,\"renderers\":[{\"id\":\"6192\",\"type\":\"GlyphRenderer\"},{\"id\":\"6205\",\"type\":\"GlyphRenderer\"},{\"id\":\"6210\",\"type\":\"GlyphRenderer\"},{\"id\":\"6226\",\"type\":\"GlyphRenderer\"},{\"id\":\"6231\",\"type\":\"GlyphRenderer\"},{\"id\":\"6251\",\"type\":\"GlyphRenderer\"}],\"title\":{\"id\":\"6156\",\"type\":\"Title\"},\"toolbar\":{\"id\":\"6182\",\"type\":\"Toolbar\"},\"x_range\":{\"id\":\"6158\",\"type\":\"DataRange1d\"},\"x_scale\":{\"id\":\"6162\",\"type\":\"LinearScale\"},\"y_range\":{\"id\":\"6160\",\"type\":\"DataRange1d\"},\"y_scale\":{\"id\":\"6164\",\"type\":\"LinearScale\"}},\"id\":\"6155\",\"subtype\":\"Figure\",\"type\":\"Plot\"},{\"attributes\":{\"text\":\"Life expectancy at birth, total (years) weighted against Population, total\"},\"id\":\"6156\",\"type\":\"Title\"},{\"attributes\":{\"source\":{\"id\":\"6202\",\"type\":\"ColumnDataSource\"}},\"id\":\"6206\",\"type\":\"CDSView\"},{\"attributes\":{\"source\":{\"id\":\"6228\",\"type\":\"ColumnDataSource\"}},\"id\":\"6232\",\"type\":\"CDSView\"},{\"attributes\":{\"fill_color\":{\"value\":\"#FA1857\"},\"line_color\":{\"value\":\"#FA1857\"},\"size\":{\"units\":\"screen\",\"value\":1},\"x\":{\"field\":\"x\"},\"y\":{\"field\":\"y\"}},\"id\":\"6203\",\"type\":\"Circle\"},{\"attributes\":{\"active_drag\":\"auto\",\"active_inspect\":\"auto\",\"active_multi\":null,\"active_scroll\":\"auto\",\"active_tap\":\"auto\",\"tools\":[{\"id\":\"6176\",\"type\":\"PanTool\"},{\"id\":\"6177\",\"type\":\"WheelZoomTool\"},{\"id\":\"6178\",\"type\":\"BoxZoomTool\"},{\"id\":\"6179\",\"type\":\"SaveTool\"},{\"id\":\"6180\",\"type\":\"ResetTool\"},{\"id\":\"6181\",\"type\":\"HelpTool\"},{\"id\":\"6253\",\"type\":\"HoverTool\"}]},\"id\":\"6182\",\"type\":\"Toolbar\"},{\"attributes\":{\"source\":{\"id\":\"6223\",\"type\":\"ColumnDataSource\"}},\"id\":\"6227\",\"type\":\"CDSView\"},{\"attributes\":{\"fill_alpha\":{\"value\":0.1},\"fill_color\":{\"value\":\"#1f77b4\"},\"line_alpha\":{\"value\":0.1},\"line_color\":{\"value\":\"#1f77b4\"},\"size\":{\"units\":\"screen\",\"value\":1},\"x\":{\"field\":\"x\"},\"y\":{\"field\":\"y\"}},\"id\":\"6204\",\"type\":\"Circle\"},{\"attributes\":{},\"id\":\"6528\",\"type\":\"Selection\"},{\"attributes\":{\"callback\":null,\"data\":{\"x\":[\"2000\",\"2001\",\"2002\",\"2003\",\"2004\",\"2005\",\"2006\",\"2007\",\"2008\",\"2009\",\"2010\",\"2011\",\"2012\",\"2013\",\"2014\",\"2015\",\"2016\",\"2017\"],\"y\":[77.07712560169232,77.38833297513385,77.54776037882743,77.69654179560608,78.09938587502181,78.21736324644525,78.50714525876474,78.73135260844114,78.87486015871855,79.13132827194039,79.3009215024766,79.53231619249463,79.64498856482149,79.80818222814423,80.05654259453199,79.94678663973315,80.09864354689779,80.15042257303583]},\"selected\":{\"id\":\"6528\",\"type\":\"Selection\"},\"selection_policy\":{\"id\":\"6527\",\"type\":\"UnionRenderers\"}},\"id\":\"6228\",\"type\":\"ColumnDataSource\"},{\"attributes\":{\"data_source\":{\"id\":\"6202\",\"type\":\"ColumnDataSource\"},\"glyph\":{\"id\":\"6203\",\"type\":\"Circle\"},\"hover_glyph\":null,\"muted_glyph\":null,\"nonselection_glyph\":{\"id\":\"6204\",\"type\":\"Circle\"},\"selection_glyph\":null,\"view\":{\"id\":\"6206\",\"type\":\"CDSView\"}},\"id\":\"6205\",\"type\":\"GlyphRenderer\"},{\"attributes\":{},\"id\":\"6176\",\"type\":\"PanTool\"},{\"attributes\":{},\"id\":\"6529\",\"type\":\"UnionRenderers\"},{\"attributes\":{\"line_color\":\"#2CC775\",\"line_width\":3,\"x\":{\"field\":\"x\"},\"y\":{\"field\":\"y\"}},\"id\":\"6229\",\"type\":\"Line\"},{\"attributes\":{\"items\":[{\"id\":\"6201\",\"type\":\"LegendItem\"},{\"id\":\"6222\",\"type\":\"LegendItem\"},{\"id\":\"6247\",\"type\":\"LegendItem\"}],\"location\":\"bottom_left\"},\"id\":\"6200\",\"type\":\"Legend\"},{\"attributes\":{},\"id\":\"6181\",\"type\":\"HelpTool\"},{\"attributes\":{\"callback\":null,\"tooltips\":\"                \\n        <div style=padding=5px>Year:@x</div>\\n        <div style=padding=5px>Value:@y</div>        \\n        \"},\"id\":\"6253\",\"type\":\"HoverTool\"},{\"attributes\":{},\"id\":\"6530\",\"type\":\"Selection\"},{\"attributes\":{\"fill_color\":{\"value\":\"#5430F1\"},\"line_color\":{\"value\":\"#5430F1\"},\"size\":{\"units\":\"screen\",\"value\":1},\"x\":{\"field\":\"x\"},\"y\":{\"field\":\"y\"}},\"id\":\"6224\",\"type\":\"Circle\"},{\"attributes\":{\"dimension\":1,\"grid_line_alpha\":0.5,\"ticker\":{\"id\":\"6172\",\"type\":\"BasicTicker\"}},\"id\":\"6175\",\"type\":\"Grid\"},{\"attributes\":{\"source\":{\"id\":\"6248\",\"type\":\"ColumnDataSource\"}},\"id\":\"6252\",\"type\":\"CDSView\"},{\"attributes\":{\"label\":{\"value\":\"LDCs\"},\"renderers\":[{\"id\":\"6192\",\"type\":\"GlyphRenderer\"}]},\"id\":\"6201\",\"type\":\"LegendItem\"},{\"attributes\":{\"fill_alpha\":{\"value\":0.1},\"fill_color\":{\"value\":\"#1f77b4\"},\"line_alpha\":{\"value\":0.1},\"line_color\":{\"value\":\"#1f77b4\"},\"size\":{\"units\":\"screen\",\"value\":1},\"x\":{\"field\":\"x\"},\"y\":{\"field\":\"y\"}},\"id\":\"6225\",\"type\":\"Circle\"},{\"attributes\":{\"callback\":null,\"data\":{\"x\":[\"2000\",\"2001\",\"2002\",\"2003\",\"2004\",\"2005\",\"2006\",\"2007\",\"2008\",\"2009\",\"2010\",\"2011\",\"2012\",\"2013\",\"2014\",\"2015\",\"2016\",\"2017\"],\"y\":[54.79038158679697,55.287074928807264,55.813316402849836,56.368633395794234,56.948533135666324,57.54898574320102,58.16602728511171,58.79219566302946,59.41811372554519,60.03542306147486,60.63396924590268,61.20650588606631,61.743458424691624,62.25279596395541,62.72434854700804,63.154635897597124,63.54299723731197,63.89474884744179]},\"selected\":{\"id\":\"6218\",\"type\":\"Selection\"},\"selection_policy\":{\"id\":\"6217\",\"type\":\"UnionRenderers\"}},\"id\":\"6189\",\"type\":\"ColumnDataSource\"},{\"attributes\":{\"callback\":null,\"data\":{\"x\":[\"2000\",\"2001\",\"2002\",\"2003\",\"2004\",\"2005\",\"2006\",\"2007\",\"2008\",\"2009\",\"2010\",\"2011\",\"2012\",\"2013\",\"2014\",\"2015\",\"2016\",\"2017\"],\"y\":[54.79038158679697,55.287074928807264,55.813316402849836,56.368633395794234,56.948533135666324,57.54898574320102,58.16602728511171,58.79219566302946,59.41811372554519,60.03542306147486,60.63396924590268,61.20650588606631,61.743458424691624,62.25279596395541,62.72434854700804,63.154635897597124,63.54299723731197,63.89474884744179]},\"selected\":{\"id\":\"6220\",\"type\":\"Selection\"},\"selection_policy\":{\"id\":\"6219\",\"type\":\"UnionRenderers\"}},\"id\":\"6202\",\"type\":\"ColumnDataSource\"},{\"attributes\":{\"data_source\":{\"id\":\"6223\",\"type\":\"ColumnDataSource\"},\"glyph\":{\"id\":\"6224\",\"type\":\"Circle\"},\"hover_glyph\":null,\"muted_glyph\":null,\"nonselection_glyph\":{\"id\":\"6225\",\"type\":\"Circle\"},\"selection_glyph\":null,\"view\":{\"id\":\"6227\",\"type\":\"CDSView\"}},\"id\":\"6226\",\"type\":\"GlyphRenderer\"},{\"attributes\":{\"callback\":null,\"data\":{\"x\":[\"2000\",\"2001\",\"2002\",\"2003\",\"2004\",\"2005\",\"2006\",\"2007\",\"2008\",\"2009\",\"2010\",\"2011\",\"2012\",\"2013\",\"2014\",\"2015\",\"2016\",\"2017\"],\"y\":[77.07712560169232,77.38833297513385,77.54776037882743,77.69654179560608,78.09938587502181,78.21736324644525,78.50714525876474,78.73135260844114,78.87486015871855,79.13132827194039,79.3009215024766,79.53231619249463,79.64498856482149,79.80818222814423,80.05654259453199,79.94678663973315,80.09864354689779,80.15042257303583]},\"selected\":{\"id\":\"6530\",\"type\":\"Selection\"},\"selection_policy\":{\"id\":\"6529\",\"type\":\"UnionRenderers\"}},\"id\":\"6248\",\"type\":\"ColumnDataSource\"},{\"attributes\":{\"line_color\":\"#FA1857\",\"line_width\":3,\"x\":{\"field\":\"x\"},\"y\":{\"field\":\"y\"}},\"id\":\"6190\",\"type\":\"Line\"},{\"attributes\":{},\"id\":\"6180\",\"type\":\"ResetTool\"},{\"attributes\":{},\"id\":\"6527\",\"type\":\"UnionRenderers\"},{\"attributes\":{},\"id\":\"6220\",\"type\":\"Selection\"},{\"attributes\":{},\"id\":\"6197\",\"type\":\"BasicTickFormatter\"},{\"attributes\":{\"fill_color\":{\"value\":\"#2CC775\"},\"line_color\":{\"value\":\"#2CC775\"},\"size\":{\"units\":\"screen\",\"value\":1},\"x\":{\"field\":\"x\"},\"y\":{\"field\":\"y\"}},\"id\":\"6249\",\"type\":\"Circle\"},{\"attributes\":{\"grid_line_color\":null,\"ticker\":{\"id\":\"6167\",\"type\":\"BasicTicker\"}},\"id\":\"6170\",\"type\":\"Grid\"},{\"attributes\":{},\"id\":\"6195\",\"type\":\"BasicTickFormatter\"},{\"attributes\":{\"label\":{\"value\":\"Developing excluding LDCs\"},\"renderers\":[{\"id\":\"6210\",\"type\":\"GlyphRenderer\"}]},\"id\":\"6222\",\"type\":\"LegendItem\"},{\"attributes\":{},\"id\":\"6172\",\"type\":\"BasicTicker\"},{\"attributes\":{\"fill_alpha\":{\"value\":0.1},\"fill_color\":{\"value\":\"#1f77b4\"},\"line_alpha\":{\"value\":0.1},\"line_color\":{\"value\":\"#1f77b4\"},\"size\":{\"units\":\"screen\",\"value\":1},\"x\":{\"field\":\"x\"},\"y\":{\"field\":\"y\"}},\"id\":\"6250\",\"type\":\"Circle\"},{\"attributes\":{\"bottom_units\":\"screen\",\"fill_alpha\":{\"value\":0.5},\"fill_color\":{\"value\":\"lightgrey\"},\"left_units\":\"screen\",\"level\":\"overlay\",\"line_alpha\":{\"value\":1.0},\"line_color\":{\"value\":\"black\"},\"line_dash\":[4,4],\"line_width\":{\"value\":2},\"render_mode\":\"css\",\"right_units\":\"screen\",\"top_units\":\"screen\"},\"id\":\"6199\",\"type\":\"BoxAnnotation\"},{\"attributes\":{\"callback\":null,\"data\":{\"x\":[\"2000\",\"2001\",\"2002\",\"2003\",\"2004\",\"2005\",\"2006\",\"2007\",\"2008\",\"2009\",\"2010\",\"2011\",\"2012\",\"2013\",\"2014\",\"2015\",\"2016\",\"2017\"],\"y\":[66.80550762746502,67.09575522261287,67.38845397138815,67.68641242492377,67.98850353535039,68.29683586546594,68.61376868812876,68.93811600827559,69.26960155877734,69.60770006976703,69.93884575077878,70.26845966598577,70.58941992930774,70.89896146370299,71.1942586920573,71.46625116456777,71.71665557950269,71.94788632890526]},\"selected\":{\"id\":\"6245\",\"type\":\"Selection\"},\"selection_policy\":{\"id\":\"6244\",\"type\":\"UnionRenderers\"}},\"id\":\"6223\",\"type\":\"ColumnDataSource\"},{\"attributes\":{\"axis_label\":\"SP.DYN.LE00.IN\",\"formatter\":{\"id\":\"6195\",\"type\":\"BasicTickFormatter\"},\"ticker\":{\"id\":\"6172\",\"type\":\"BasicTicker\"}},\"id\":\"6171\",\"type\":\"LinearAxis\"},{\"attributes\":{\"data_source\":{\"id\":\"6248\",\"type\":\"ColumnDataSource\"},\"glyph\":{\"id\":\"6249\",\"type\":\"Circle\"},\"hover_glyph\":null,\"muted_glyph\":null,\"nonselection_glyph\":{\"id\":\"6250\",\"type\":\"Circle\"},\"selection_glyph\":null,\"view\":{\"id\":\"6252\",\"type\":\"CDSView\"}},\"id\":\"6251\",\"type\":\"GlyphRenderer\"},{\"attributes\":{},\"id\":\"6179\",\"type\":\"SaveTool\"},{\"attributes\":{\"axis_label\":\"Years\",\"formatter\":{\"id\":\"6197\",\"type\":\"BasicTickFormatter\"},\"ticker\":{\"id\":\"6167\",\"type\":\"BasicTicker\"}},\"id\":\"6166\",\"type\":\"LinearAxis\"},{\"attributes\":{},\"id\":\"6217\",\"type\":\"UnionRenderers\"},{\"attributes\":{\"label\":{\"value\":\"OECD\"},\"renderers\":[{\"id\":\"6231\",\"type\":\"GlyphRenderer\"}]},\"id\":\"6247\",\"type\":\"LegendItem\"},{\"attributes\":{\"line_alpha\":0.1,\"line_color\":\"#1f77b4\",\"line_width\":3,\"x\":{\"field\":\"x\"},\"y\":{\"field\":\"y\"}},\"id\":\"6191\",\"type\":\"Line\"},{\"attributes\":{},\"id\":\"6164\",\"type\":\"LinearScale\"},{\"attributes\":{\"source\":{\"id\":\"6189\",\"type\":\"ColumnDataSource\"}},\"id\":\"6193\",\"type\":\"CDSView\"},{\"attributes\":{},\"id\":\"6218\",\"type\":\"Selection\"},{\"attributes\":{},\"id\":\"6167\",\"type\":\"BasicTicker\"},{\"attributes\":{},\"id\":\"6219\",\"type\":\"UnionRenderers\"},{\"attributes\":{},\"id\":\"6245\",\"type\":\"Selection\"},{\"attributes\":{\"overlay\":{\"id\":\"6199\",\"type\":\"BoxAnnotation\"}},\"id\":\"6178\",\"type\":\"BoxZoomTool\"},{\"attributes\":{\"callback\":null},\"id\":\"6160\",\"type\":\"DataRange1d\"},{\"attributes\":{\"line_alpha\":0.1,\"line_color\":\"#1f77b4\",\"line_width\":3,\"x\":{\"field\":\"x\"},\"y\":{\"field\":\"y\"}},\"id\":\"6209\",\"type\":\"Line\"},{\"attributes\":{},\"id\":\"6242\",\"type\":\"UnionRenderers\"},{\"attributes\":{\"callback\":null},\"id\":\"6158\",\"type\":\"DataRange1d\"},{\"attributes\":{\"data_source\":{\"id\":\"6207\",\"type\":\"ColumnDataSource\"},\"glyph\":{\"id\":\"6208\",\"type\":\"Line\"},\"hover_glyph\":null,\"muted_glyph\":null,\"nonselection_glyph\":{\"id\":\"6209\",\"type\":\"Line\"},\"selection_glyph\":null,\"view\":{\"id\":\"6211\",\"type\":\"CDSView\"}},\"id\":\"6210\",\"type\":\"GlyphRenderer\"},{\"attributes\":{\"data_source\":{\"id\":\"6189\",\"type\":\"ColumnDataSource\"},\"glyph\":{\"id\":\"6190\",\"type\":\"Line\"},\"hover_glyph\":null,\"muted_glyph\":null,\"nonselection_glyph\":{\"id\":\"6191\",\"type\":\"Line\"},\"selection_glyph\":null,\"view\":{\"id\":\"6193\",\"type\":\"CDSView\"}},\"id\":\"6192\",\"type\":\"GlyphRenderer\"},{\"attributes\":{},\"id\":\"6243\",\"type\":\"Selection\"},{\"attributes\":{},\"id\":\"6162\",\"type\":\"LinearScale\"},{\"attributes\":{\"source\":{\"id\":\"6207\",\"type\":\"ColumnDataSource\"}},\"id\":\"6211\",\"type\":\"CDSView\"},{\"attributes\":{},\"id\":\"6244\",\"type\":\"UnionRenderers\"},{\"attributes\":{},\"id\":\"6177\",\"type\":\"WheelZoomTool\"},{\"attributes\":{\"callback\":null,\"data\":{\"x\":[\"2000\",\"2001\",\"2002\",\"2003\",\"2004\",\"2005\",\"2006\",\"2007\",\"2008\",\"2009\",\"2010\",\"2011\",\"2012\",\"2013\",\"2014\",\"2015\",\"2016\",\"2017\"],\"y\":[66.80550762746502,67.09575522261287,67.38845397138815,67.68641242492377,67.98850353535039,68.29683586546594,68.61376868812876,68.93811600827559,69.26960155877734,69.60770006976703,69.93884575077878,70.26845966598577,70.58941992930774,70.89896146370299,71.1942586920573,71.46625116456777,71.71665557950269,71.94788632890526]},\"selected\":{\"id\":\"6243\",\"type\":\"Selection\"},\"selection_policy\":{\"id\":\"6242\",\"type\":\"UnionRenderers\"}},\"id\":\"6207\",\"type\":\"ColumnDataSource\"},{\"attributes\":{\"line_alpha\":0.1,\"line_color\":\"#1f77b4\",\"line_width\":3,\"x\":{\"field\":\"x\"},\"y\":{\"field\":\"y\"}},\"id\":\"6230\",\"type\":\"Line\"},{\"attributes\":{\"line_color\":\"#5430F1\",\"line_width\":3,\"x\":{\"field\":\"x\"},\"y\":{\"field\":\"y\"}},\"id\":\"6208\",\"type\":\"Line\"},{\"attributes\":{\"data_source\":{\"id\":\"6228\",\"type\":\"ColumnDataSource\"},\"glyph\":{\"id\":\"6229\",\"type\":\"Line\"},\"hover_glyph\":null,\"muted_glyph\":null,\"nonselection_glyph\":{\"id\":\"6230\",\"type\":\"Line\"},\"selection_glyph\":null,\"view\":{\"id\":\"6232\",\"type\":\"CDSView\"}},\"id\":\"6231\",\"type\":\"GlyphRenderer\"}],\"root_ids\":[\"6155\"]},\"title\":\"Bokeh Application\",\"version\":\"1.3.4\"}};\n",
       "  var render_items = [{\"docid\":\"964a4dea-78c1-4580-bfeb-468169b0b171\",\"roots\":{\"6155\":\"3567b41a-21c8-4964-a5e0-c8a3fed708c5\"}}];\n",
       "  root.Bokeh.embed.embed_items_notebook(docs_json, render_items);\n",
       "\n",
       "  }\n",
       "  if (root.Bokeh !== undefined) {\n",
       "    embed_document(root);\n",
       "  } else {\n",
       "    var attempts = 0;\n",
       "    var timer = setInterval(function(root) {\n",
       "      if (root.Bokeh !== undefined) {\n",
       "        embed_document(root);\n",
       "        clearInterval(timer);\n",
       "      }\n",
       "      attempts++;\n",
       "      if (attempts > 100) {\n",
       "        console.log(\"Bokeh: ERROR: Unable to run BokehJS code because BokehJS library is missing\");\n",
       "        clearInterval(timer);\n",
       "      }\n",
       "    }, 10, root)\n",
       "  }\n",
       "})(window);"
      ],
      "application/vnd.bokehjs_exec.v0+json": ""
     },
     "metadata": {
      "application/vnd.bokehjs_exec.v0+json": {
       "id": "6155"
      }
     },
     "output_type": "display_data"
    }
   ],
   "source": [
    "# Life expectancy\n",
    "years = list(map(str, list(range(2000,2018))))\n",
    "result = show_weighted_average(years, 'SP.DYN.LE00.IN', 'SP.POP.TOTL', \n",
    "                               ['LDCs', 'Developing excluding LDCs', 'OECD'], \n",
    "                                height=400, width=1000, line_width=3)"
   ]
  },
  {
   "cell_type": "code",
   "execution_count": 23,
   "metadata": {
    "ExecuteTime": {
     "end_time": "2019-10-25T14:25:28.872290Z",
     "start_time": "2019-10-25T14:25:24.086081Z"
    },
    "slideshow": {
     "slide_type": "slide"
    }
   },
   "outputs": [
    {
     "data": {
      "text/html": [
       "\n",
       "\n",
       "\n",
       "\n",
       "\n",
       "\n",
       "  <div class=\"bk-root\" id=\"dd652a7f-9d18-4a6b-9458-85cbf1635534\" data-root-id=\"6640\"></div>\n"
      ]
     },
     "metadata": {},
     "output_type": "display_data"
    },
    {
     "data": {
      "application/javascript": [
       "(function(root) {\n",
       "  function embed_document(root) {\n",
       "    \n",
       "  var docs_json = {\"9fe4ed2a-b178-4629-87e5-44b8c8ce490c\":{\"roots\":{\"references\":[{\"attributes\":{\"below\":[{\"id\":\"6651\",\"type\":\"LinearAxis\"}],\"center\":[{\"id\":\"6655\",\"type\":\"Grid\"},{\"id\":\"6660\",\"type\":\"Grid\"},{\"id\":\"6685\",\"type\":\"Legend\"}],\"left\":[{\"id\":\"6656\",\"type\":\"LinearAxis\"}],\"plot_height\":400,\"plot_width\":1000,\"renderers\":[{\"id\":\"6677\",\"type\":\"GlyphRenderer\"},{\"id\":\"6690\",\"type\":\"GlyphRenderer\"},{\"id\":\"6695\",\"type\":\"GlyphRenderer\"},{\"id\":\"6711\",\"type\":\"GlyphRenderer\"},{\"id\":\"6716\",\"type\":\"GlyphRenderer\"},{\"id\":\"6736\",\"type\":\"GlyphRenderer\"}],\"title\":{\"id\":\"6641\",\"type\":\"Title\"},\"toolbar\":{\"id\":\"6667\",\"type\":\"Toolbar\"},\"x_range\":{\"id\":\"6643\",\"type\":\"DataRange1d\"},\"x_scale\":{\"id\":\"6647\",\"type\":\"LinearScale\"},\"y_range\":{\"id\":\"6645\",\"type\":\"DataRange1d\"},\"y_scale\":{\"id\":\"6649\",\"type\":\"LinearScale\"}},\"id\":\"6640\",\"subtype\":\"Figure\",\"type\":\"Plot\"},{\"attributes\":{\"axis_label\":\"SP.DYN.LE00.FE.IN\",\"formatter\":{\"id\":\"6680\",\"type\":\"BasicTickFormatter\"},\"ticker\":{\"id\":\"6657\",\"type\":\"BasicTicker\"}},\"id\":\"6656\",\"type\":\"LinearAxis\"},{\"attributes\":{},\"id\":\"7031\",\"type\":\"Selection\"},{\"attributes\":{\"source\":{\"id\":\"6687\",\"type\":\"ColumnDataSource\"}},\"id\":\"6691\",\"type\":\"CDSView\"},{\"attributes\":{},\"id\":\"6682\",\"type\":\"BasicTickFormatter\"},{\"attributes\":{\"source\":{\"id\":\"6708\",\"type\":\"ColumnDataSource\"}},\"id\":\"6712\",\"type\":\"CDSView\"},{\"attributes\":{\"fill_alpha\":{\"value\":0.1},\"fill_color\":{\"value\":\"#1f77b4\"},\"line_alpha\":{\"value\":0.1},\"line_color\":{\"value\":\"#1f77b4\"},\"size\":{\"units\":\"screen\",\"value\":1},\"x\":{\"field\":\"x\"},\"y\":{\"field\":\"y\"}},\"id\":\"6735\",\"type\":\"Circle\"},{\"attributes\":{\"axis_label\":\"Years\",\"formatter\":{\"id\":\"6682\",\"type\":\"BasicTickFormatter\"},\"ticker\":{\"id\":\"6652\",\"type\":\"BasicTicker\"}},\"id\":\"6651\",\"type\":\"LinearAxis\"},{\"attributes\":{\"source\":{\"id\":\"6674\",\"type\":\"ColumnDataSource\"}},\"id\":\"6678\",\"type\":\"CDSView\"},{\"attributes\":{},\"id\":\"6661\",\"type\":\"PanTool\"},{\"attributes\":{\"data_source\":{\"id\":\"6708\",\"type\":\"ColumnDataSource\"},\"glyph\":{\"id\":\"6709\",\"type\":\"Circle\"},\"hover_glyph\":null,\"muted_glyph\":null,\"nonselection_glyph\":{\"id\":\"6710\",\"type\":\"Circle\"},\"selection_glyph\":null,\"view\":{\"id\":\"6712\",\"type\":\"CDSView\"}},\"id\":\"6711\",\"type\":\"GlyphRenderer\"},{\"attributes\":{\"data_source\":{\"id\":\"6733\",\"type\":\"ColumnDataSource\"},\"glyph\":{\"id\":\"6734\",\"type\":\"Circle\"},\"hover_glyph\":null,\"muted_glyph\":null,\"nonselection_glyph\":{\"id\":\"6735\",\"type\":\"Circle\"},\"selection_glyph\":null,\"view\":{\"id\":\"6737\",\"type\":\"CDSView\"}},\"id\":\"6736\",\"type\":\"GlyphRenderer\"},{\"attributes\":{\"grid_line_color\":null,\"ticker\":{\"id\":\"6652\",\"type\":\"BasicTicker\"}},\"id\":\"6655\",\"type\":\"Grid\"},{\"attributes\":{\"line_alpha\":0.1,\"line_color\":\"#1f77b4\",\"line_width\":4,\"x\":{\"field\":\"x\"},\"y\":{\"field\":\"y\"}},\"id\":\"6676\",\"type\":\"Line\"},{\"attributes\":{\"bottom_units\":\"screen\",\"fill_alpha\":{\"value\":0.5},\"fill_color\":{\"value\":\"lightgrey\"},\"left_units\":\"screen\",\"level\":\"overlay\",\"line_alpha\":{\"value\":1.0},\"line_color\":{\"value\":\"black\"},\"line_dash\":[4,4],\"line_width\":{\"value\":2},\"render_mode\":\"css\",\"right_units\":\"screen\",\"top_units\":\"screen\"},\"id\":\"6684\",\"type\":\"BoxAnnotation\"},{\"attributes\":{\"callback\":null,\"data\":{\"x\":[\"2000\",\"2001\",\"2002\",\"2003\",\"2004\",\"2005\",\"2006\",\"2007\",\"2008\",\"2009\",\"2010\",\"2011\",\"2012\",\"2013\",\"2014\",\"2015\",\"2016\",\"2017\"],\"y\":[79.93351879418076,80.20290658761989,80.32918832949842,80.39856940465691,80.77521328865518,80.86674990168122,81.1402038786844,81.32381241465296,81.43163205746191,81.62948962454634,81.79594928587568,82.07333933782573,82.11929566013815,82.26555024337196,82.51912432141074,82.35601028400251,82.55037747513924,82.59790657999017]},\"selected\":{\"id\":\"7031\",\"type\":\"Selection\"},\"selection_policy\":{\"id\":\"7030\",\"type\":\"UnionRenderers\"}},\"id\":\"6713\",\"type\":\"ColumnDataSource\"},{\"attributes\":{\"source\":{\"id\":\"6733\",\"type\":\"ColumnDataSource\"}},\"id\":\"6737\",\"type\":\"CDSView\"},{\"attributes\":{\"data_source\":{\"id\":\"6687\",\"type\":\"ColumnDataSource\"},\"glyph\":{\"id\":\"6688\",\"type\":\"Circle\"},\"hover_glyph\":null,\"muted_glyph\":null,\"nonselection_glyph\":{\"id\":\"6689\",\"type\":\"Circle\"},\"selection_glyph\":null,\"view\":{\"id\":\"6691\",\"type\":\"CDSView\"}},\"id\":\"6690\",\"type\":\"GlyphRenderer\"},{\"attributes\":{},\"id\":\"6680\",\"type\":\"BasicTickFormatter\"},{\"attributes\":{},\"id\":\"6662\",\"type\":\"WheelZoomTool\"},{\"attributes\":{},\"id\":\"6652\",\"type\":\"BasicTicker\"},{\"attributes\":{\"callback\":null,\"data\":{\"x\":[\"2000\",\"2001\",\"2002\",\"2003\",\"2004\",\"2005\",\"2006\",\"2007\",\"2008\",\"2009\",\"2010\",\"2011\",\"2012\",\"2013\",\"2014\",\"2015\",\"2016\",\"2017\"],\"y\":[56.4096480624582,56.91140883682168,57.44192353385225,58.00503362723879,58.598142772139326,59.21818984292778,59.86162958279785,60.51585399850994,61.17972155336314,61.83778106023187,62.478304438318595,63.09159526396696,63.664439641264124,64.20565620034435,64.70347781963777,65.15542624720327,65.56010632225701,65.92570996932908]},\"selected\":{\"id\":\"6703\",\"type\":\"Selection\"},\"selection_policy\":{\"id\":\"6702\",\"type\":\"UnionRenderers\"}},\"id\":\"6674\",\"type\":\"ColumnDataSource\"},{\"attributes\":{\"fill_color\":{\"value\":\"#5430F1\"},\"line_color\":{\"value\":\"#5430F1\"},\"size\":{\"units\":\"screen\",\"value\":1},\"x\":{\"field\":\"x\"},\"y\":{\"field\":\"y\"}},\"id\":\"6709\",\"type\":\"Circle\"},{\"attributes\":{\"active_drag\":\"auto\",\"active_inspect\":\"auto\",\"active_multi\":null,\"active_scroll\":\"auto\",\"active_tap\":\"auto\",\"tools\":[{\"id\":\"6661\",\"type\":\"PanTool\"},{\"id\":\"6662\",\"type\":\"WheelZoomTool\"},{\"id\":\"6663\",\"type\":\"BoxZoomTool\"},{\"id\":\"6664\",\"type\":\"SaveTool\"},{\"id\":\"6665\",\"type\":\"ResetTool\"},{\"id\":\"6666\",\"type\":\"HelpTool\"},{\"id\":\"6738\",\"type\":\"HoverTool\"}]},\"id\":\"6667\",\"type\":\"Toolbar\"},{\"attributes\":{\"callback\":null},\"id\":\"6645\",\"type\":\"DataRange1d\"},{\"attributes\":{\"callback\":null,\"data\":{\"x\":[\"2000\",\"2001\",\"2002\",\"2003\",\"2004\",\"2005\",\"2006\",\"2007\",\"2008\",\"2009\",\"2010\",\"2011\",\"2012\",\"2013\",\"2014\",\"2015\",\"2016\",\"2017\"],\"y\":[79.93351879418076,80.20290658761989,80.32918832949842,80.39856940465691,80.77521328865518,80.86674990168122,81.1402038786844,81.32381241465296,81.43163205746191,81.62948962454634,81.79594928587568,82.07333933782573,82.11929566013815,82.26555024337196,82.51912432141074,82.35601028400251,82.55037747513924,82.59790657999017]},\"selected\":{\"id\":\"7033\",\"type\":\"Selection\"},\"selection_policy\":{\"id\":\"7032\",\"type\":\"UnionRenderers\"}},\"id\":\"6733\",\"type\":\"ColumnDataSource\"},{\"attributes\":{\"label\":{\"value\":\"OECD\"},\"renderers\":[{\"id\":\"6716\",\"type\":\"GlyphRenderer\"}]},\"id\":\"6732\",\"type\":\"LegendItem\"},{\"attributes\":{\"callback\":null,\"data\":{\"x\":[\"2000\",\"2001\",\"2002\",\"2003\",\"2004\",\"2005\",\"2006\",\"2007\",\"2008\",\"2009\",\"2010\",\"2011\",\"2012\",\"2013\",\"2014\",\"2015\",\"2016\",\"2017\"],\"y\":[67.72613360952067,67.96678765132117,68.21521706263611,68.47684702683729,68.75328942223987,69.0484966771406,69.36634426933745,69.70503900878862,70.05566335667386,70.41841613739292,70.77789293848497,71.13500951943153,71.47851972701005,71.80180695377123,72.09903276477121,72.36667910378955,72.59908110172458,72.80832887210636]},\"selected\":{\"id\":\"6730\",\"type\":\"Selection\"},\"selection_policy\":{\"id\":\"6729\",\"type\":\"UnionRenderers\"}},\"id\":\"6708\",\"type\":\"ColumnDataSource\"},{\"attributes\":{},\"id\":\"6649\",\"type\":\"LinearScale\"},{\"attributes\":{\"fill_alpha\":{\"value\":0.1},\"fill_color\":{\"value\":\"#1f77b4\"},\"line_alpha\":{\"value\":0.1},\"line_color\":{\"value\":\"#1f77b4\"},\"size\":{\"units\":\"screen\",\"value\":1},\"x\":{\"field\":\"x\"},\"y\":{\"field\":\"y\"}},\"id\":\"6689\",\"type\":\"Circle\"},{\"attributes\":{\"fill_alpha\":{\"value\":0.1},\"fill_color\":{\"value\":\"#1f77b4\"},\"line_alpha\":{\"value\":0.1},\"line_color\":{\"value\":\"#1f77b4\"},\"size\":{\"units\":\"screen\",\"value\":1},\"x\":{\"field\":\"x\"},\"y\":{\"field\":\"y\"}},\"id\":\"6710\",\"type\":\"Circle\"},{\"attributes\":{\"fill_color\":{\"value\":\"#2CC775\"},\"line_color\":{\"value\":\"#2CC775\"},\"size\":{\"units\":\"screen\",\"value\":1},\"x\":{\"field\":\"x\"},\"y\":{\"field\":\"y\"}},\"id\":\"6734\",\"type\":\"Circle\"},{\"attributes\":{},\"id\":\"6647\",\"type\":\"LinearScale\"},{\"attributes\":{\"data_source\":{\"id\":\"6674\",\"type\":\"ColumnDataSource\"},\"glyph\":{\"id\":\"6675\",\"type\":\"Line\"},\"hover_glyph\":null,\"muted_glyph\":null,\"nonselection_glyph\":{\"id\":\"6676\",\"type\":\"Line\"},\"selection_glyph\":null,\"view\":{\"id\":\"6678\",\"type\":\"CDSView\"}},\"id\":\"6677\",\"type\":\"GlyphRenderer\"},{\"attributes\":{\"callback\":null,\"tooltips\":\"                \\n        <div style=padding=5px>Year:@x</div>\\n        <div style=padding=5px>Value:@y</div>        \\n        \"},\"id\":\"6738\",\"type\":\"HoverTool\"},{\"attributes\":{\"line_color\":\"#FA1857\",\"line_width\":4,\"x\":{\"field\":\"x\"},\"y\":{\"field\":\"y\"}},\"id\":\"6675\",\"type\":\"Line\"},{\"attributes\":{},\"id\":\"6705\",\"type\":\"Selection\"},{\"attributes\":{},\"id\":\"6728\",\"type\":\"Selection\"},{\"attributes\":{\"fill_color\":{\"value\":\"#FA1857\"},\"line_color\":{\"value\":\"#FA1857\"},\"size\":{\"units\":\"screen\",\"value\":1},\"x\":{\"field\":\"x\"},\"y\":{\"field\":\"y\"}},\"id\":\"6688\",\"type\":\"Circle\"},{\"attributes\":{},\"id\":\"6704\",\"type\":\"UnionRenderers\"},{\"attributes\":{},\"id\":\"6729\",\"type\":\"UnionRenderers\"},{\"attributes\":{\"callback\":null},\"id\":\"6643\",\"type\":\"DataRange1d\"},{\"attributes\":{},\"id\":\"6665\",\"type\":\"ResetTool\"},{\"attributes\":{\"label\":{\"value\":\"Developing excluding LDCs\"},\"renderers\":[{\"id\":\"6695\",\"type\":\"GlyphRenderer\"}]},\"id\":\"6707\",\"type\":\"LegendItem\"},{\"attributes\":{},\"id\":\"6730\",\"type\":\"Selection\"},{\"attributes\":{\"text\":\"Life expectancy at birth, female (years) weighted against Rural population\"},\"id\":\"6641\",\"type\":\"Title\"},{\"attributes\":{\"data_source\":{\"id\":\"6713\",\"type\":\"ColumnDataSource\"},\"glyph\":{\"id\":\"6714\",\"type\":\"Line\"},\"hover_glyph\":null,\"muted_glyph\":null,\"nonselection_glyph\":{\"id\":\"6715\",\"type\":\"Line\"},\"selection_glyph\":null,\"view\":{\"id\":\"6717\",\"type\":\"CDSView\"}},\"id\":\"6716\",\"type\":\"GlyphRenderer\"},{\"attributes\":{},\"id\":\"6702\",\"type\":\"UnionRenderers\"},{\"attributes\":{\"callback\":null,\"data\":{\"x\":[\"2000\",\"2001\",\"2002\",\"2003\",\"2004\",\"2005\",\"2006\",\"2007\",\"2008\",\"2009\",\"2010\",\"2011\",\"2012\",\"2013\",\"2014\",\"2015\",\"2016\",\"2017\"],\"y\":[56.4096480624582,56.91140883682168,57.44192353385225,58.00503362723879,58.598142772139326,59.21818984292778,59.86162958279785,60.51585399850994,61.17972155336314,61.83778106023187,62.478304438318595,63.09159526396696,63.664439641264124,64.20565620034435,64.70347781963777,65.15542624720327,65.56010632225701,65.92570996932908]},\"selected\":{\"id\":\"6705\",\"type\":\"Selection\"},\"selection_policy\":{\"id\":\"6704\",\"type\":\"UnionRenderers\"}},\"id\":\"6687\",\"type\":\"ColumnDataSource\"},{\"attributes\":{},\"id\":\"6664\",\"type\":\"SaveTool\"},{\"attributes\":{},\"id\":\"6727\",\"type\":\"UnionRenderers\"},{\"attributes\":{\"source\":{\"id\":\"6692\",\"type\":\"ColumnDataSource\"}},\"id\":\"6696\",\"type\":\"CDSView\"},{\"attributes\":{\"dimension\":1,\"grid_line_alpha\":0.5,\"ticker\":{\"id\":\"6657\",\"type\":\"BasicTicker\"}},\"id\":\"6660\",\"type\":\"Grid\"},{\"attributes\":{\"source\":{\"id\":\"6713\",\"type\":\"ColumnDataSource\"}},\"id\":\"6717\",\"type\":\"CDSView\"},{\"attributes\":{},\"id\":\"6703\",\"type\":\"Selection\"},{\"attributes\":{\"line_alpha\":0.1,\"line_color\":\"#1f77b4\",\"line_width\":4,\"x\":{\"field\":\"x\"},\"y\":{\"field\":\"y\"}},\"id\":\"6694\",\"type\":\"Line\"},{\"attributes\":{\"overlay\":{\"id\":\"6684\",\"type\":\"BoxAnnotation\"}},\"id\":\"6663\",\"type\":\"BoxZoomTool\"},{\"attributes\":{\"line_alpha\":0.1,\"line_color\":\"#1f77b4\",\"line_width\":4,\"x\":{\"field\":\"x\"},\"y\":{\"field\":\"y\"}},\"id\":\"6715\",\"type\":\"Line\"},{\"attributes\":{\"label\":{\"value\":\"LDCs\"},\"renderers\":[{\"id\":\"6677\",\"type\":\"GlyphRenderer\"}]},\"id\":\"6686\",\"type\":\"LegendItem\"},{\"attributes\":{},\"id\":\"7032\",\"type\":\"UnionRenderers\"},{\"attributes\":{\"line_color\":\"#5430F1\",\"line_width\":4,\"x\":{\"field\":\"x\"},\"y\":{\"field\":\"y\"}},\"id\":\"6693\",\"type\":\"Line\"},{\"attributes\":{},\"id\":\"7033\",\"type\":\"Selection\"},{\"attributes\":{},\"id\":\"6657\",\"type\":\"BasicTicker\"},{\"attributes\":{\"data_source\":{\"id\":\"6692\",\"type\":\"ColumnDataSource\"},\"glyph\":{\"id\":\"6693\",\"type\":\"Line\"},\"hover_glyph\":null,\"muted_glyph\":null,\"nonselection_glyph\":{\"id\":\"6694\",\"type\":\"Line\"},\"selection_glyph\":null,\"view\":{\"id\":\"6696\",\"type\":\"CDSView\"}},\"id\":\"6695\",\"type\":\"GlyphRenderer\"},{\"attributes\":{},\"id\":\"6666\",\"type\":\"HelpTool\"},{\"attributes\":{\"items\":[{\"id\":\"6686\",\"type\":\"LegendItem\"},{\"id\":\"6707\",\"type\":\"LegendItem\"},{\"id\":\"6732\",\"type\":\"LegendItem\"}],\"location\":\"bottom_left\"},\"id\":\"6685\",\"type\":\"Legend\"},{\"attributes\":{\"callback\":null,\"data\":{\"x\":[\"2000\",\"2001\",\"2002\",\"2003\",\"2004\",\"2005\",\"2006\",\"2007\",\"2008\",\"2009\",\"2010\",\"2011\",\"2012\",\"2013\",\"2014\",\"2015\",\"2016\",\"2017\"],\"y\":[67.72613360952067,67.96678765132117,68.21521706263611,68.47684702683729,68.75328942223987,69.0484966771406,69.36634426933745,69.70503900878862,70.05566335667386,70.41841613739292,70.77789293848497,71.13500951943153,71.47851972701005,71.80180695377123,72.09903276477121,72.36667910378955,72.59908110172458,72.80832887210636]},\"selected\":{\"id\":\"6728\",\"type\":\"Selection\"},\"selection_policy\":{\"id\":\"6727\",\"type\":\"UnionRenderers\"}},\"id\":\"6692\",\"type\":\"ColumnDataSource\"},{\"attributes\":{\"line_color\":\"#2CC775\",\"line_width\":4,\"x\":{\"field\":\"x\"},\"y\":{\"field\":\"y\"}},\"id\":\"6714\",\"type\":\"Line\"},{\"attributes\":{},\"id\":\"7030\",\"type\":\"UnionRenderers\"}],\"root_ids\":[\"6640\"]},\"title\":\"Bokeh Application\",\"version\":\"1.3.4\"}};\n",
       "  var render_items = [{\"docid\":\"9fe4ed2a-b178-4629-87e5-44b8c8ce490c\",\"roots\":{\"6640\":\"dd652a7f-9d18-4a6b-9458-85cbf1635534\"}}];\n",
       "  root.Bokeh.embed.embed_items_notebook(docs_json, render_items);\n",
       "\n",
       "  }\n",
       "  if (root.Bokeh !== undefined) {\n",
       "    embed_document(root);\n",
       "  } else {\n",
       "    var attempts = 0;\n",
       "    var timer = setInterval(function(root) {\n",
       "      if (root.Bokeh !== undefined) {\n",
       "        embed_document(root);\n",
       "        clearInterval(timer);\n",
       "      }\n",
       "      attempts++;\n",
       "      if (attempts > 100) {\n",
       "        console.log(\"Bokeh: ERROR: Unable to run BokehJS code because BokehJS library is missing\");\n",
       "        clearInterval(timer);\n",
       "      }\n",
       "    }, 10, root)\n",
       "  }\n",
       "})(window);"
      ],
      "application/vnd.bokehjs_exec.v0+json": ""
     },
     "metadata": {
      "application/vnd.bokehjs_exec.v0+json": {
       "id": "6640"
      }
     },
     "output_type": "display_data"
    }
   ],
   "source": [
    "# Female life expectancy\n",
    "years = list(map(str, list(range(2000,2018))))\n",
    "result = show_weighted_average(years, 'SP.DYN.LE00.FE.IN', 'SP.RUR.TOTL', \n",
    "                               ['LDCs', 'Developing excluding LDCs', 'OECD'], \n",
    "                                height=400, width=1000, line_width=4)"
   ]
  },
  {
   "cell_type": "code",
   "execution_count": 24,
   "metadata": {
    "ExecuteTime": {
     "end_time": "2019-10-25T14:25:33.233720Z",
     "start_time": "2019-10-25T14:25:28.874728Z"
    },
    "slideshow": {
     "slide_type": "slide"
    }
   },
   "outputs": [
    {
     "data": {
      "text/html": [
       "\n",
       "\n",
       "\n",
       "\n",
       "\n",
       "\n",
       "  <div class=\"bk-root\" id=\"17f0edd9-e9e0-4e28-96e5-496ed23f3a3c\" data-root-id=\"7143\"></div>\n"
      ]
     },
     "metadata": {},
     "output_type": "display_data"
    },
    {
     "data": {
      "application/javascript": [
       "(function(root) {\n",
       "  function embed_document(root) {\n",
       "    \n",
       "  var docs_json = {\"8e3eaab9-75da-4b71-917b-43aa29553ae3\":{\"roots\":{\"references\":[{\"attributes\":{\"below\":[{\"id\":\"7154\",\"type\":\"LinearAxis\"}],\"center\":[{\"id\":\"7158\",\"type\":\"Grid\"},{\"id\":\"7163\",\"type\":\"Grid\"},{\"id\":\"7188\",\"type\":\"Legend\"}],\"left\":[{\"id\":\"7159\",\"type\":\"LinearAxis\"}],\"plot_height\":400,\"plot_width\":1000,\"renderers\":[{\"id\":\"7180\",\"type\":\"GlyphRenderer\"},{\"id\":\"7193\",\"type\":\"GlyphRenderer\"},{\"id\":\"7198\",\"type\":\"GlyphRenderer\"},{\"id\":\"7214\",\"type\":\"GlyphRenderer\"}],\"title\":{\"id\":\"7144\",\"type\":\"Title\"},\"toolbar\":{\"id\":\"7170\",\"type\":\"Toolbar\"},\"x_range\":{\"id\":\"7146\",\"type\":\"DataRange1d\"},\"x_scale\":{\"id\":\"7150\",\"type\":\"LinearScale\"},\"y_range\":{\"id\":\"7148\",\"type\":\"DataRange1d\"},\"y_scale\":{\"id\":\"7152\",\"type\":\"LinearScale\"}},\"id\":\"7143\",\"subtype\":\"Figure\",\"type\":\"Plot\"},{\"attributes\":{\"line_color\":\"#5430F1\",\"line_width\":3,\"x\":{\"field\":\"x\"},\"y\":{\"field\":\"y\"}},\"id\":\"7196\",\"type\":\"Line\"},{\"attributes\":{},\"id\":\"7525\",\"type\":\"Selection\"},{\"attributes\":{\"text\":\"Maternal mortality ratio (modeled estimate, per 100,000 live births) weighted against Population, female\"},\"id\":\"7144\",\"type\":\"Title\"},{\"attributes\":{},\"id\":\"7168\",\"type\":\"ResetTool\"},{\"attributes\":{\"line_alpha\":0.1,\"line_color\":\"#1f77b4\",\"line_width\":3,\"x\":{\"field\":\"x\"},\"y\":{\"field\":\"y\"}},\"id\":\"7197\",\"type\":\"Line\"},{\"attributes\":{\"callback\":null},\"id\":\"7146\",\"type\":\"DataRange1d\"},{\"attributes\":{},\"id\":\"7169\",\"type\":\"HelpTool\"},{\"attributes\":{\"data_source\":{\"id\":\"7195\",\"type\":\"ColumnDataSource\"},\"glyph\":{\"id\":\"7196\",\"type\":\"Line\"},\"hover_glyph\":null,\"muted_glyph\":null,\"nonselection_glyph\":{\"id\":\"7197\",\"type\":\"Line\"},\"selection_glyph\":null,\"view\":{\"id\":\"7199\",\"type\":\"CDSView\"}},\"id\":\"7198\",\"type\":\"GlyphRenderer\"},{\"attributes\":{\"callback\":null},\"id\":\"7148\",\"type\":\"DataRange1d\"},{\"attributes\":{\"active_drag\":\"auto\",\"active_inspect\":\"auto\",\"active_multi\":null,\"active_scroll\":\"auto\",\"active_tap\":\"auto\",\"tools\":[{\"id\":\"7164\",\"type\":\"PanTool\"},{\"id\":\"7165\",\"type\":\"WheelZoomTool\"},{\"id\":\"7166\",\"type\":\"BoxZoomTool\"},{\"id\":\"7167\",\"type\":\"SaveTool\"},{\"id\":\"7168\",\"type\":\"ResetTool\"},{\"id\":\"7169\",\"type\":\"HelpTool\"},{\"id\":\"7216\",\"type\":\"HoverTool\"}]},\"id\":\"7170\",\"type\":\"Toolbar\"},{\"attributes\":{\"source\":{\"id\":\"7195\",\"type\":\"ColumnDataSource\"}},\"id\":\"7199\",\"type\":\"CDSView\"},{\"attributes\":{\"line_alpha\":0.1,\"line_color\":\"#1f77b4\",\"line_width\":3,\"x\":{\"field\":\"x\"},\"y\":{\"field\":\"y\"}},\"id\":\"7179\",\"type\":\"Line\"},{\"attributes\":{},\"id\":\"7150\",\"type\":\"LinearScale\"},{\"attributes\":{},\"id\":\"7205\",\"type\":\"UnionRenderers\"},{\"attributes\":{\"data_source\":{\"id\":\"7177\",\"type\":\"ColumnDataSource\"},\"glyph\":{\"id\":\"7178\",\"type\":\"Line\"},\"hover_glyph\":null,\"muted_glyph\":null,\"nonselection_glyph\":{\"id\":\"7179\",\"type\":\"Line\"},\"selection_glyph\":null,\"view\":{\"id\":\"7181\",\"type\":\"CDSView\"}},\"id\":\"7180\",\"type\":\"GlyphRenderer\"},{\"attributes\":{},\"id\":\"7152\",\"type\":\"LinearScale\"},{\"attributes\":{},\"id\":\"7206\",\"type\":\"Selection\"},{\"attributes\":{\"axis_label\":\"Years\",\"formatter\":{\"id\":\"7185\",\"type\":\"BasicTickFormatter\"},\"ticker\":{\"id\":\"7155\",\"type\":\"BasicTicker\"}},\"id\":\"7154\",\"type\":\"LinearAxis\"},{\"attributes\":{\"source\":{\"id\":\"7177\",\"type\":\"ColumnDataSource\"}},\"id\":\"7181\",\"type\":\"CDSView\"},{\"attributes\":{},\"id\":\"7207\",\"type\":\"UnionRenderers\"},{\"attributes\":{},\"id\":\"7155\",\"type\":\"BasicTicker\"},{\"attributes\":{},\"id\":\"7183\",\"type\":\"BasicTickFormatter\"},{\"attributes\":{},\"id\":\"7208\",\"type\":\"Selection\"},{\"attributes\":{\"grid_line_color\":null,\"ticker\":{\"id\":\"7155\",\"type\":\"BasicTicker\"}},\"id\":\"7158\",\"type\":\"Grid\"},{\"attributes\":{\"label\":{\"value\":\"Developing excluding LDCs\"},\"renderers\":[{\"id\":\"7198\",\"type\":\"GlyphRenderer\"}]},\"id\":\"7210\",\"type\":\"LegendItem\"},{\"attributes\":{},\"id\":\"7185\",\"type\":\"BasicTickFormatter\"},{\"attributes\":{\"axis_label\":\"SH.STA.MMRT\",\"formatter\":{\"id\":\"7183\",\"type\":\"BasicTickFormatter\"},\"ticker\":{\"id\":\"7160\",\"type\":\"BasicTicker\"}},\"id\":\"7159\",\"type\":\"LinearAxis\"},{\"attributes\":{\"callback\":null,\"data\":{\"x\":[\"2000\",\"2001\",\"2002\",\"2003\",\"2004\",\"2005\",\"2006\",\"2007\",\"2008\",\"2009\",\"2010\",\"2011\",\"2012\",\"2013\",\"2014\",\"2015\",\"2016\",\"2017\"],\"y\":[219.59332239180722,213.79178224882705,206.7101391641294,200.94829957227932,194.47262113081396,186.6900748169621,179.6875283788996,172.88250023278727,167.30998830487772,161.32739957997765,155.26019847197256,149.52928908927956,144.63840989429647,140.54135376423983,137.10987842496655,133.64519145588477,129.98852533210263,127.89498651545217]},\"selected\":{\"id\":\"7525\",\"type\":\"Selection\"},\"selection_policy\":{\"id\":\"7524\",\"type\":\"UnionRenderers\"}},\"id\":\"7211\",\"type\":\"ColumnDataSource\"},{\"attributes\":{\"bottom_units\":\"screen\",\"fill_alpha\":{\"value\":0.5},\"fill_color\":{\"value\":\"lightgrey\"},\"left_units\":\"screen\",\"level\":\"overlay\",\"line_alpha\":{\"value\":1.0},\"line_color\":{\"value\":\"black\"},\"line_dash\":[4,4],\"line_width\":{\"value\":2},\"render_mode\":\"css\",\"right_units\":\"screen\",\"top_units\":\"screen\"},\"id\":\"7187\",\"type\":\"BoxAnnotation\"},{\"attributes\":{\"fill_color\":{\"value\":\"#5430F1\"},\"line_color\":{\"value\":\"#5430F1\"},\"size\":{\"units\":\"screen\",\"value\":1},\"x\":{\"field\":\"x\"},\"y\":{\"field\":\"y\"}},\"id\":\"7212\",\"type\":\"Circle\"},{\"attributes\":{},\"id\":\"7160\",\"type\":\"BasicTicker\"},{\"attributes\":{\"items\":[{\"id\":\"7189\",\"type\":\"LegendItem\"},{\"id\":\"7210\",\"type\":\"LegendItem\"}],\"location\":\"bottom_left\"},\"id\":\"7188\",\"type\":\"Legend\"},{\"attributes\":{\"dimension\":1,\"grid_line_alpha\":0.5,\"ticker\":{\"id\":\"7160\",\"type\":\"BasicTicker\"}},\"id\":\"7163\",\"type\":\"Grid\"},{\"attributes\":{\"fill_alpha\":{\"value\":0.1},\"fill_color\":{\"value\":\"#1f77b4\"},\"line_alpha\":{\"value\":0.1},\"line_color\":{\"value\":\"#1f77b4\"},\"size\":{\"units\":\"screen\",\"value\":1},\"x\":{\"field\":\"x\"},\"y\":{\"field\":\"y\"}},\"id\":\"7213\",\"type\":\"Circle\"},{\"attributes\":{\"label\":{\"value\":\"LDCs\"},\"renderers\":[{\"id\":\"7180\",\"type\":\"GlyphRenderer\"}]},\"id\":\"7189\",\"type\":\"LegendItem\"},{\"attributes\":{\"data_source\":{\"id\":\"7211\",\"type\":\"ColumnDataSource\"},\"glyph\":{\"id\":\"7212\",\"type\":\"Circle\"},\"hover_glyph\":null,\"muted_glyph\":null,\"nonselection_glyph\":{\"id\":\"7213\",\"type\":\"Circle\"},\"selection_glyph\":null,\"view\":{\"id\":\"7215\",\"type\":\"CDSView\"}},\"id\":\"7214\",\"type\":\"GlyphRenderer\"},{\"attributes\":{\"line_color\":\"#FA1857\",\"line_width\":3,\"x\":{\"field\":\"x\"},\"y\":{\"field\":\"y\"}},\"id\":\"7178\",\"type\":\"Line\"},{\"attributes\":{\"callback\":null,\"data\":{\"x\":[\"2000\",\"2001\",\"2002\",\"2003\",\"2004\",\"2005\",\"2006\",\"2007\",\"2008\",\"2009\",\"2010\",\"2011\",\"2012\",\"2013\",\"2014\",\"2015\",\"2016\",\"2017\"],\"y\":[707.531739364374,683.283841045393,664.7414975773867,642.2893584675744,617.168252539152,585.3156477244164,558.0368400964686,533.8385872165519,513.0331627922752,494.0011262280731,475.11407864456663,457.69536641876675,442.6467497166802,428.52376993081737,415.93865365234706,401.1090399695652,387.80267341348326,376.40298034245205]},\"selected\":{\"id\":\"7208\",\"type\":\"Selection\"},\"selection_policy\":{\"id\":\"7207\",\"type\":\"UnionRenderers\"}},\"id\":\"7190\",\"type\":\"ColumnDataSource\"},{\"attributes\":{\"callback\":null,\"data\":{\"x\":[\"2000\",\"2001\",\"2002\",\"2003\",\"2004\",\"2005\",\"2006\",\"2007\",\"2008\",\"2009\",\"2010\",\"2011\",\"2012\",\"2013\",\"2014\",\"2015\",\"2016\",\"2017\"],\"y\":[707.531739364374,683.283841045393,664.7414975773867,642.2893584675744,617.168252539152,585.3156477244164,558.0368400964686,533.8385872165519,513.0331627922752,494.0011262280731,475.11407864456663,457.69536641876675,442.6467497166802,428.52376993081737,415.93865365234706,401.1090399695652,387.80267341348326,376.40298034245205]},\"selected\":{\"id\":\"7206\",\"type\":\"Selection\"},\"selection_policy\":{\"id\":\"7205\",\"type\":\"UnionRenderers\"}},\"id\":\"7177\",\"type\":\"ColumnDataSource\"},{\"attributes\":{\"source\":{\"id\":\"7211\",\"type\":\"ColumnDataSource\"}},\"id\":\"7215\",\"type\":\"CDSView\"},{\"attributes\":{\"fill_color\":{\"value\":\"#FA1857\"},\"line_color\":{\"value\":\"#FA1857\"},\"size\":{\"units\":\"screen\",\"value\":1},\"x\":{\"field\":\"x\"},\"y\":{\"field\":\"y\"}},\"id\":\"7191\",\"type\":\"Circle\"},{\"attributes\":{\"callback\":null,\"tooltips\":\"                \\n        <div style=padding=5px>Year:@x</div>\\n        <div style=padding=5px>Value:@y</div>        \\n        \"},\"id\":\"7216\",\"type\":\"HoverTool\"},{\"attributes\":{\"fill_alpha\":{\"value\":0.1},\"fill_color\":{\"value\":\"#1f77b4\"},\"line_alpha\":{\"value\":0.1},\"line_color\":{\"value\":\"#1f77b4\"},\"size\":{\"units\":\"screen\",\"value\":1},\"x\":{\"field\":\"x\"},\"y\":{\"field\":\"y\"}},\"id\":\"7192\",\"type\":\"Circle\"},{\"attributes\":{},\"id\":\"7164\",\"type\":\"PanTool\"},{\"attributes\":{},\"id\":\"7522\",\"type\":\"UnionRenderers\"},{\"attributes\":{\"data_source\":{\"id\":\"7190\",\"type\":\"ColumnDataSource\"},\"glyph\":{\"id\":\"7191\",\"type\":\"Circle\"},\"hover_glyph\":null,\"muted_glyph\":null,\"nonselection_glyph\":{\"id\":\"7192\",\"type\":\"Circle\"},\"selection_glyph\":null,\"view\":{\"id\":\"7194\",\"type\":\"CDSView\"}},\"id\":\"7193\",\"type\":\"GlyphRenderer\"},{\"attributes\":{},\"id\":\"7165\",\"type\":\"WheelZoomTool\"},{\"attributes\":{},\"id\":\"7523\",\"type\":\"Selection\"},{\"attributes\":{\"source\":{\"id\":\"7190\",\"type\":\"ColumnDataSource\"}},\"id\":\"7194\",\"type\":\"CDSView\"},{\"attributes\":{\"overlay\":{\"id\":\"7187\",\"type\":\"BoxAnnotation\"}},\"id\":\"7166\",\"type\":\"BoxZoomTool\"},{\"attributes\":{},\"id\":\"7524\",\"type\":\"UnionRenderers\"},{\"attributes\":{\"callback\":null,\"data\":{\"x\":[\"2000\",\"2001\",\"2002\",\"2003\",\"2004\",\"2005\",\"2006\",\"2007\",\"2008\",\"2009\",\"2010\",\"2011\",\"2012\",\"2013\",\"2014\",\"2015\",\"2016\",\"2017\"],\"y\":[219.59332239180722,213.79178224882705,206.7101391641294,200.94829957227932,194.47262113081396,186.6900748169621,179.6875283788996,172.88250023278727,167.30998830487772,161.32739957997765,155.26019847197256,149.52928908927956,144.63840989429647,140.54135376423983,137.10987842496655,133.64519145588477,129.98852533210263,127.89498651545217]},\"selected\":{\"id\":\"7523\",\"type\":\"Selection\"},\"selection_policy\":{\"id\":\"7522\",\"type\":\"UnionRenderers\"}},\"id\":\"7195\",\"type\":\"ColumnDataSource\"},{\"attributes\":{},\"id\":\"7167\",\"type\":\"SaveTool\"}],\"root_ids\":[\"7143\"]},\"title\":\"Bokeh Application\",\"version\":\"1.3.4\"}};\n",
       "  var render_items = [{\"docid\":\"8e3eaab9-75da-4b71-917b-43aa29553ae3\",\"roots\":{\"7143\":\"17f0edd9-e9e0-4e28-96e5-496ed23f3a3c\"}}];\n",
       "  root.Bokeh.embed.embed_items_notebook(docs_json, render_items);\n",
       "\n",
       "  }\n",
       "  if (root.Bokeh !== undefined) {\n",
       "    embed_document(root);\n",
       "  } else {\n",
       "    var attempts = 0;\n",
       "    var timer = setInterval(function(root) {\n",
       "      if (root.Bokeh !== undefined) {\n",
       "        embed_document(root);\n",
       "        clearInterval(timer);\n",
       "      }\n",
       "      attempts++;\n",
       "      if (attempts > 100) {\n",
       "        console.log(\"Bokeh: ERROR: Unable to run BokehJS code because BokehJS library is missing\");\n",
       "        clearInterval(timer);\n",
       "      }\n",
       "    }, 10, root)\n",
       "  }\n",
       "})(window);"
      ],
      "application/vnd.bokehjs_exec.v0+json": ""
     },
     "metadata": {
      "application/vnd.bokehjs_exec.v0+json": {
       "id": "7143"
      }
     },
     "output_type": "display_data"
    }
   ],
   "source": [
    "# Maternal mortality ratio\n",
    "years = list(map(str, list(range(2000,2018))))\n",
    "result = show_weighted_average(years, 'SH.STA.MMRT', 'SP.POP.TOTL.FE.IN', ['LDCs', 'Developing excluding LDCs'], \n",
    "                                height=400, width=1000, line_width=3)"
   ]
  },
  {
   "cell_type": "code",
   "execution_count": 25,
   "metadata": {
    "ExecuteTime": {
     "end_time": "2019-10-25T14:25:37.466675Z",
     "start_time": "2019-10-25T14:25:33.236157Z"
    },
    "slideshow": {
     "slide_type": "slide"
    }
   },
   "outputs": [
    {
     "data": {
      "text/html": [
       "\n",
       "\n",
       "\n",
       "\n",
       "\n",
       "\n",
       "  <div class=\"bk-root\" id=\"7ae5c974-d45d-4642-94f5-75decff3ee1e\" data-root-id=\"7611\"></div>\n"
      ]
     },
     "metadata": {},
     "output_type": "display_data"
    },
    {
     "data": {
      "application/javascript": [
       "(function(root) {\n",
       "  function embed_document(root) {\n",
       "    \n",
       "  var docs_json = {\"5d84a662-b510-43fd-a344-3d34b50c7a3f\":{\"roots\":{\"references\":[{\"attributes\":{\"below\":[{\"id\":\"7622\",\"type\":\"LinearAxis\"}],\"center\":[{\"id\":\"7626\",\"type\":\"Grid\"},{\"id\":\"7631\",\"type\":\"Grid\"},{\"id\":\"7656\",\"type\":\"Legend\"}],\"left\":[{\"id\":\"7627\",\"type\":\"LinearAxis\"}],\"plot_height\":400,\"plot_width\":1000,\"renderers\":[{\"id\":\"7648\",\"type\":\"GlyphRenderer\"},{\"id\":\"7661\",\"type\":\"GlyphRenderer\"},{\"id\":\"7666\",\"type\":\"GlyphRenderer\"},{\"id\":\"7682\",\"type\":\"GlyphRenderer\"}],\"title\":{\"id\":\"7612\",\"type\":\"Title\"},\"toolbar\":{\"id\":\"7638\",\"type\":\"Toolbar\"},\"x_range\":{\"id\":\"7614\",\"type\":\"DataRange1d\"},\"x_scale\":{\"id\":\"7618\",\"type\":\"LinearScale\"},\"y_range\":{\"id\":\"7616\",\"type\":\"DataRange1d\"},\"y_scale\":{\"id\":\"7620\",\"type\":\"LinearScale\"}},\"id\":\"7611\",\"subtype\":\"Figure\",\"type\":\"Plot\"},{\"attributes\":{\"callback\":null},\"id\":\"7616\",\"type\":\"DataRange1d\"},{\"attributes\":{\"active_drag\":\"auto\",\"active_inspect\":\"auto\",\"active_multi\":null,\"active_scroll\":\"auto\",\"active_tap\":\"auto\",\"tools\":[{\"id\":\"7632\",\"type\":\"PanTool\"},{\"id\":\"7633\",\"type\":\"WheelZoomTool\"},{\"id\":\"7634\",\"type\":\"BoxZoomTool\"},{\"id\":\"7635\",\"type\":\"SaveTool\"},{\"id\":\"7636\",\"type\":\"ResetTool\"},{\"id\":\"7637\",\"type\":\"HelpTool\"},{\"id\":\"7684\",\"type\":\"HoverTool\"}]},\"id\":\"7638\",\"type\":\"Toolbar\"},{\"attributes\":{\"source\":{\"id\":\"7663\",\"type\":\"ColumnDataSource\"}},\"id\":\"7667\",\"type\":\"CDSView\"},{\"attributes\":{\"line_alpha\":0.1,\"line_color\":\"#1f77b4\",\"line_width\":4,\"x\":{\"field\":\"x\"},\"y\":{\"field\":\"y\"}},\"id\":\"7647\",\"type\":\"Line\"},{\"attributes\":{},\"id\":\"7618\",\"type\":\"LinearScale\"},{\"attributes\":{},\"id\":\"7673\",\"type\":\"UnionRenderers\"},{\"attributes\":{\"data_source\":{\"id\":\"7645\",\"type\":\"ColumnDataSource\"},\"glyph\":{\"id\":\"7646\",\"type\":\"Line\"},\"hover_glyph\":null,\"muted_glyph\":null,\"nonselection_glyph\":{\"id\":\"7647\",\"type\":\"Line\"},\"selection_glyph\":null,\"view\":{\"id\":\"7649\",\"type\":\"CDSView\"}},\"id\":\"7648\",\"type\":\"GlyphRenderer\"},{\"attributes\":{},\"id\":\"7620\",\"type\":\"LinearScale\"},{\"attributes\":{},\"id\":\"7674\",\"type\":\"Selection\"},{\"attributes\":{\"axis_label\":\"Years\",\"formatter\":{\"id\":\"7653\",\"type\":\"BasicTickFormatter\"},\"ticker\":{\"id\":\"7623\",\"type\":\"BasicTicker\"}},\"id\":\"7622\",\"type\":\"LinearAxis\"},{\"attributes\":{\"source\":{\"id\":\"7645\",\"type\":\"ColumnDataSource\"}},\"id\":\"7649\",\"type\":\"CDSView\"},{\"attributes\":{},\"id\":\"7675\",\"type\":\"UnionRenderers\"},{\"attributes\":{},\"id\":\"7623\",\"type\":\"BasicTicker\"},{\"attributes\":{},\"id\":\"7651\",\"type\":\"BasicTickFormatter\"},{\"attributes\":{},\"id\":\"7676\",\"type\":\"Selection\"},{\"attributes\":{\"grid_line_color\":null,\"ticker\":{\"id\":\"7623\",\"type\":\"BasicTicker\"}},\"id\":\"7626\",\"type\":\"Grid\"},{\"attributes\":{\"label\":{\"value\":\"Developing excluding LDCs\"},\"renderers\":[{\"id\":\"7666\",\"type\":\"GlyphRenderer\"}]},\"id\":\"7678\",\"type\":\"LegendItem\"},{\"attributes\":{},\"id\":\"7653\",\"type\":\"BasicTickFormatter\"},{\"attributes\":{\"axis_label\":\"SP.DYN.IMRT.IN\",\"formatter\":{\"id\":\"7651\",\"type\":\"BasicTickFormatter\"},\"ticker\":{\"id\":\"7628\",\"type\":\"BasicTicker\"}},\"id\":\"7627\",\"type\":\"LinearAxis\"},{\"attributes\":{\"callback\":null,\"data\":{\"x\":[\"2000\",\"2001\",\"2002\",\"2003\",\"2004\",\"2005\",\"2006\",\"2007\",\"2008\",\"2009\",\"2010\",\"2011\",\"2012\",\"2013\",\"2014\",\"2015\",\"2016\",\"2017\"],\"y\":[45.78578383486713,44.031337681921,42.299199545339675,40.54757027872643,38.98089862139654,37.254607293482884,35.73002700694259,34.25452486812492,32.831847885572984,31.511479629869857,30.239629828962936,29.032021703430917,27.851114277234785,26.780028383299534,25.710035808823015,24.679313694191894,23.770222266419392,22.83221285696215]},\"selected\":{\"id\":\"8007\",\"type\":\"Selection\"},\"selection_policy\":{\"id\":\"8006\",\"type\":\"UnionRenderers\"}},\"id\":\"7679\",\"type\":\"ColumnDataSource\"},{\"attributes\":{\"bottom_units\":\"screen\",\"fill_alpha\":{\"value\":0.5},\"fill_color\":{\"value\":\"lightgrey\"},\"left_units\":\"screen\",\"level\":\"overlay\",\"line_alpha\":{\"value\":1.0},\"line_color\":{\"value\":\"black\"},\"line_dash\":[4,4],\"line_width\":{\"value\":2},\"render_mode\":\"css\",\"right_units\":\"screen\",\"top_units\":\"screen\"},\"id\":\"7655\",\"type\":\"BoxAnnotation\"},{\"attributes\":{\"fill_color\":{\"value\":\"#5430F1\"},\"line_color\":{\"value\":\"#5430F1\"},\"size\":{\"units\":\"screen\",\"value\":1},\"x\":{\"field\":\"x\"},\"y\":{\"field\":\"y\"}},\"id\":\"7680\",\"type\":\"Circle\"},{\"attributes\":{},\"id\":\"7628\",\"type\":\"BasicTicker\"},{\"attributes\":{\"items\":[{\"id\":\"7657\",\"type\":\"LegendItem\"},{\"id\":\"7678\",\"type\":\"LegendItem\"}],\"location\":\"bottom_left\"},\"id\":\"7656\",\"type\":\"Legend\"},{\"attributes\":{\"dimension\":1,\"grid_line_alpha\":0.5,\"ticker\":{\"id\":\"7628\",\"type\":\"BasicTicker\"}},\"id\":\"7631\",\"type\":\"Grid\"},{\"attributes\":{\"fill_alpha\":{\"value\":0.1},\"fill_color\":{\"value\":\"#1f77b4\"},\"line_alpha\":{\"value\":0.1},\"line_color\":{\"value\":\"#1f77b4\"},\"size\":{\"units\":\"screen\",\"value\":1},\"x\":{\"field\":\"x\"},\"y\":{\"field\":\"y\"}},\"id\":\"7681\",\"type\":\"Circle\"},{\"attributes\":{\"label\":{\"value\":\"LDCs\"},\"renderers\":[{\"id\":\"7648\",\"type\":\"GlyphRenderer\"}]},\"id\":\"7657\",\"type\":\"LegendItem\"},{\"attributes\":{\"data_source\":{\"id\":\"7679\",\"type\":\"ColumnDataSource\"},\"glyph\":{\"id\":\"7680\",\"type\":\"Circle\"},\"hover_glyph\":null,\"muted_glyph\":null,\"nonselection_glyph\":{\"id\":\"7681\",\"type\":\"Circle\"},\"selection_glyph\":null,\"view\":{\"id\":\"7683\",\"type\":\"CDSView\"}},\"id\":\"7682\",\"type\":\"GlyphRenderer\"},{\"attributes\":{\"line_color\":\"#FA1857\",\"line_width\":4,\"x\":{\"field\":\"x\"},\"y\":{\"field\":\"y\"}},\"id\":\"7646\",\"type\":\"Line\"},{\"attributes\":{\"callback\":null,\"data\":{\"x\":[\"2000\",\"2001\",\"2002\",\"2003\",\"2004\",\"2005\",\"2006\",\"2007\",\"2008\",\"2009\",\"2010\",\"2011\",\"2012\",\"2013\",\"2014\",\"2015\",\"2016\",\"2017\"],\"y\":[81.69737664551816,78.7776742491001,75.79362231840066,72.85366195554936,69.98405325689488,67.2302438001353,64.64697239792967,62.09970211682473,59.955823257655744,57.44271974761365,55.609782399199666,53.204853479803546,51.33747517746826,49.57214439495452,47.923201331929235,46.39163855174094,44.93241266562697,43.528829212630185]},\"selected\":{\"id\":\"7676\",\"type\":\"Selection\"},\"selection_policy\":{\"id\":\"7675\",\"type\":\"UnionRenderers\"}},\"id\":\"7658\",\"type\":\"ColumnDataSource\"},{\"attributes\":{\"callback\":null,\"data\":{\"x\":[\"2000\",\"2001\",\"2002\",\"2003\",\"2004\",\"2005\",\"2006\",\"2007\",\"2008\",\"2009\",\"2010\",\"2011\",\"2012\",\"2013\",\"2014\",\"2015\",\"2016\",\"2017\"],\"y\":[81.69737664551816,78.7776742491001,75.79362231840066,72.85366195554936,69.98405325689488,67.2302438001353,64.64697239792967,62.09970211682473,59.955823257655744,57.44271974761365,55.609782399199666,53.204853479803546,51.33747517746826,49.57214439495452,47.923201331929235,46.39163855174094,44.93241266562697,43.528829212630185]},\"selected\":{\"id\":\"7674\",\"type\":\"Selection\"},\"selection_policy\":{\"id\":\"7673\",\"type\":\"UnionRenderers\"}},\"id\":\"7645\",\"type\":\"ColumnDataSource\"},{\"attributes\":{\"source\":{\"id\":\"7679\",\"type\":\"ColumnDataSource\"}},\"id\":\"7683\",\"type\":\"CDSView\"},{\"attributes\":{\"fill_color\":{\"value\":\"#FA1857\"},\"line_color\":{\"value\":\"#FA1857\"},\"size\":{\"units\":\"screen\",\"value\":1},\"x\":{\"field\":\"x\"},\"y\":{\"field\":\"y\"}},\"id\":\"7659\",\"type\":\"Circle\"},{\"attributes\":{\"callback\":null,\"tooltips\":\"                \\n        <div style=padding=5px>Year:@x</div>\\n        <div style=padding=5px>Value:@y</div>        \\n        \"},\"id\":\"7684\",\"type\":\"HoverTool\"},{\"attributes\":{\"fill_alpha\":{\"value\":0.1},\"fill_color\":{\"value\":\"#1f77b4\"},\"line_alpha\":{\"value\":0.1},\"line_color\":{\"value\":\"#1f77b4\"},\"size\":{\"units\":\"screen\",\"value\":1},\"x\":{\"field\":\"x\"},\"y\":{\"field\":\"y\"}},\"id\":\"7660\",\"type\":\"Circle\"},{\"attributes\":{},\"id\":\"7632\",\"type\":\"PanTool\"},{\"attributes\":{},\"id\":\"8004\",\"type\":\"UnionRenderers\"},{\"attributes\":{\"data_source\":{\"id\":\"7658\",\"type\":\"ColumnDataSource\"},\"glyph\":{\"id\":\"7659\",\"type\":\"Circle\"},\"hover_glyph\":null,\"muted_glyph\":null,\"nonselection_glyph\":{\"id\":\"7660\",\"type\":\"Circle\"},\"selection_glyph\":null,\"view\":{\"id\":\"7662\",\"type\":\"CDSView\"}},\"id\":\"7661\",\"type\":\"GlyphRenderer\"},{\"attributes\":{},\"id\":\"7633\",\"type\":\"WheelZoomTool\"},{\"attributes\":{},\"id\":\"8005\",\"type\":\"Selection\"},{\"attributes\":{\"source\":{\"id\":\"7658\",\"type\":\"ColumnDataSource\"}},\"id\":\"7662\",\"type\":\"CDSView\"},{\"attributes\":{\"overlay\":{\"id\":\"7655\",\"type\":\"BoxAnnotation\"}},\"id\":\"7634\",\"type\":\"BoxZoomTool\"},{\"attributes\":{},\"id\":\"8006\",\"type\":\"UnionRenderers\"},{\"attributes\":{\"callback\":null,\"data\":{\"x\":[\"2000\",\"2001\",\"2002\",\"2003\",\"2004\",\"2005\",\"2006\",\"2007\",\"2008\",\"2009\",\"2010\",\"2011\",\"2012\",\"2013\",\"2014\",\"2015\",\"2016\",\"2017\"],\"y\":[45.78578383486713,44.031337681921,42.299199545339675,40.54757027872643,38.98089862139654,37.254607293482884,35.73002700694259,34.25452486812492,32.831847885572984,31.511479629869857,30.239629828962936,29.032021703430917,27.851114277234785,26.780028383299534,25.710035808823015,24.679313694191894,23.770222266419392,22.83221285696215]},\"selected\":{\"id\":\"8005\",\"type\":\"Selection\"},\"selection_policy\":{\"id\":\"8004\",\"type\":\"UnionRenderers\"}},\"id\":\"7663\",\"type\":\"ColumnDataSource\"},{\"attributes\":{},\"id\":\"7635\",\"type\":\"SaveTool\"},{\"attributes\":{},\"id\":\"8007\",\"type\":\"Selection\"},{\"attributes\":{\"line_color\":\"#5430F1\",\"line_width\":4,\"x\":{\"field\":\"x\"},\"y\":{\"field\":\"y\"}},\"id\":\"7664\",\"type\":\"Line\"},{\"attributes\":{},\"id\":\"7636\",\"type\":\"ResetTool\"},{\"attributes\":{\"text\":\"Mortality rate, infant (per 1,000 live births) weighted against Population, total\"},\"id\":\"7612\",\"type\":\"Title\"},{\"attributes\":{\"line_alpha\":0.1,\"line_color\":\"#1f77b4\",\"line_width\":4,\"x\":{\"field\":\"x\"},\"y\":{\"field\":\"y\"}},\"id\":\"7665\",\"type\":\"Line\"},{\"attributes\":{},\"id\":\"7637\",\"type\":\"HelpTool\"},{\"attributes\":{\"callback\":null},\"id\":\"7614\",\"type\":\"DataRange1d\"},{\"attributes\":{\"data_source\":{\"id\":\"7663\",\"type\":\"ColumnDataSource\"},\"glyph\":{\"id\":\"7664\",\"type\":\"Line\"},\"hover_glyph\":null,\"muted_glyph\":null,\"nonselection_glyph\":{\"id\":\"7665\",\"type\":\"Line\"},\"selection_glyph\":null,\"view\":{\"id\":\"7667\",\"type\":\"CDSView\"}},\"id\":\"7666\",\"type\":\"GlyphRenderer\"}],\"root_ids\":[\"7611\"]},\"title\":\"Bokeh Application\",\"version\":\"1.3.4\"}};\n",
       "  var render_items = [{\"docid\":\"5d84a662-b510-43fd-a344-3d34b50c7a3f\",\"roots\":{\"7611\":\"7ae5c974-d45d-4642-94f5-75decff3ee1e\"}}];\n",
       "  root.Bokeh.embed.embed_items_notebook(docs_json, render_items);\n",
       "\n",
       "  }\n",
       "  if (root.Bokeh !== undefined) {\n",
       "    embed_document(root);\n",
       "  } else {\n",
       "    var attempts = 0;\n",
       "    var timer = setInterval(function(root) {\n",
       "      if (root.Bokeh !== undefined) {\n",
       "        embed_document(root);\n",
       "        clearInterval(timer);\n",
       "      }\n",
       "      attempts++;\n",
       "      if (attempts > 100) {\n",
       "        console.log(\"Bokeh: ERROR: Unable to run BokehJS code because BokehJS library is missing\");\n",
       "        clearInterval(timer);\n",
       "      }\n",
       "    }, 10, root)\n",
       "  }\n",
       "})(window);"
      ],
      "application/vnd.bokehjs_exec.v0+json": ""
     },
     "metadata": {
      "application/vnd.bokehjs_exec.v0+json": {
       "id": "7611"
      }
     },
     "output_type": "display_data"
    }
   ],
   "source": [
    "# Infant mortality rate\n",
    "years = list(map(str, list(range(2000,2018))))\n",
    "result = show_weighted_average(years, 'SP.DYN.IMRT.IN', 'SP.POP.TOTL', ['LDCs', 'Developing excluding LDCs'], \n",
    "                                height=400, width=1000, line_width=4)"
   ]
  },
  {
   "cell_type": "markdown",
   "metadata": {
    "slideshow": {
     "slide_type": "slide"
    }
   },
   "source": [
    "# Lack of dissagregated gender data is a problem\n",
    "\n",
    "\n",
    "# Gender responsive development planning\n",
    "\n",
    "\n",
    "# Great progress of political representation of women in parliament\n",
    "\n",
    "\n",
    "# Important to promote the representation of women in other domains and across social groups"
   ]
  },
  {
   "cell_type": "markdown",
   "metadata": {
    "slideshow": {
     "slide_type": "slide"
    }
   },
   "source": [
    "# Education and training"
   ]
  },
  {
   "cell_type": "code",
   "execution_count": 26,
   "metadata": {
    "slideshow": {
     "slide_type": "slide"
    }
   },
   "outputs": [
    {
     "data": {
      "text/html": [
       "\n",
       "\n",
       "\n",
       "\n",
       "\n",
       "\n",
       "  <div class=\"bk-root\" id=\"aa4636f5-3e72-4f8e-8209-f5065f767ef6\" data-root-id=\"8093\"></div>\n"
      ]
     },
     "metadata": {},
     "output_type": "display_data"
    },
    {
     "data": {
      "application/javascript": [
       "(function(root) {\n",
       "  function embed_document(root) {\n",
       "    \n",
       "  var docs_json = {\"dca404ab-c28c-44e4-91e0-e666da236eec\":{\"roots\":{\"references\":[{\"attributes\":{\"below\":[{\"id\":\"8104\",\"type\":\"LinearAxis\"}],\"center\":[{\"id\":\"8108\",\"type\":\"Grid\"},{\"id\":\"8113\",\"type\":\"Grid\"},{\"id\":\"8138\",\"type\":\"Legend\"}],\"left\":[{\"id\":\"8109\",\"type\":\"LinearAxis\"}],\"plot_height\":400,\"plot_width\":1000,\"renderers\":[{\"id\":\"8130\",\"type\":\"GlyphRenderer\"},{\"id\":\"8143\",\"type\":\"GlyphRenderer\"},{\"id\":\"8148\",\"type\":\"GlyphRenderer\"},{\"id\":\"8164\",\"type\":\"GlyphRenderer\"}],\"title\":{\"id\":\"8094\",\"type\":\"Title\"},\"toolbar\":{\"id\":\"8120\",\"type\":\"Toolbar\"},\"x_range\":{\"id\":\"8096\",\"type\":\"DataRange1d\"},\"x_scale\":{\"id\":\"8100\",\"type\":\"LinearScale\"},\"y_range\":{\"id\":\"8098\",\"type\":\"DataRange1d\"},\"y_scale\":{\"id\":\"8102\",\"type\":\"LinearScale\"}},\"id\":\"8093\",\"subtype\":\"Figure\",\"type\":\"Plot\"},{\"attributes\":{\"source\":{\"id\":\"8140\",\"type\":\"ColumnDataSource\"}},\"id\":\"8144\",\"type\":\"CDSView\"},{\"attributes\":{\"callback\":null,\"tooltips\":\"                \\n        <div style=padding=5px>Year:@x</div>\\n        <div style=padding=5px>Value:@y</div>        \\n        \"},\"id\":\"8166\",\"type\":\"HoverTool\"},{\"attributes\":{},\"id\":\"8110\",\"type\":\"BasicTicker\"},{\"attributes\":{\"items\":[{\"id\":\"8139\",\"type\":\"LegendItem\"},{\"id\":\"8160\",\"type\":\"LegendItem\"}],\"location\":\"bottom_left\"},\"id\":\"8138\",\"type\":\"Legend\"},{\"attributes\":{},\"id\":\"8501\",\"type\":\"Selection\"},{\"attributes\":{\"axis_label\":\"SE.PRM.ENRR\",\"formatter\":{\"id\":\"8133\",\"type\":\"BasicTickFormatter\"},\"ticker\":{\"id\":\"8110\",\"type\":\"BasicTicker\"}},\"id\":\"8109\",\"type\":\"LinearAxis\"},{\"attributes\":{\"source\":{\"id\":\"8127\",\"type\":\"ColumnDataSource\"}},\"id\":\"8131\",\"type\":\"CDSView\"},{\"attributes\":{\"axis_label\":\"Years\",\"formatter\":{\"id\":\"8135\",\"type\":\"BasicTickFormatter\"},\"ticker\":{\"id\":\"8105\",\"type\":\"BasicTicker\"}},\"id\":\"8104\",\"type\":\"LinearAxis\"},{\"attributes\":{\"callback\":null,\"data\":{\"x\":[\"2010\",\"2011\",\"2012\",\"2013\",\"2014\",\"2015\",\"2016\",\"2017\"],\"y\":[103.0427231291659,104.17449382804634,104.95172912979407,104.1439293927902,102.46095391981049,103.21816040999303,104.79795341840126,105.29627652385149]},\"selected\":{\"id\":\"8501\",\"type\":\"Selection\"},\"selection_policy\":{\"id\":\"8500\",\"type\":\"UnionRenderers\"}},\"id\":\"8145\",\"type\":\"ColumnDataSource\"},{\"attributes\":{\"fill_alpha\":{\"value\":0.1},\"fill_color\":{\"value\":\"#1f77b4\"},\"line_alpha\":{\"value\":0.1},\"line_color\":{\"value\":\"#1f77b4\"},\"size\":{\"units\":\"screen\",\"value\":1},\"x\":{\"field\":\"x\"},\"y\":{\"field\":\"y\"}},\"id\":\"8163\",\"type\":\"Circle\"},{\"attributes\":{},\"id\":\"8133\",\"type\":\"BasicTickFormatter\"},{\"attributes\":{\"bottom_units\":\"screen\",\"fill_alpha\":{\"value\":0.5},\"fill_color\":{\"value\":\"lightgrey\"},\"left_units\":\"screen\",\"level\":\"overlay\",\"line_alpha\":{\"value\":1.0},\"line_color\":{\"value\":\"black\"},\"line_dash\":[4,4],\"line_width\":{\"value\":2},\"render_mode\":\"css\",\"right_units\":\"screen\",\"top_units\":\"screen\"},\"id\":\"8137\",\"type\":\"BoxAnnotation\"},{\"attributes\":{},\"id\":\"8105\",\"type\":\"BasicTicker\"},{\"attributes\":{\"callback\":null},\"id\":\"8098\",\"type\":\"DataRange1d\"},{\"attributes\":{},\"id\":\"8156\",\"type\":\"Selection\"},{\"attributes\":{\"data_source\":{\"id\":\"8161\",\"type\":\"ColumnDataSource\"},\"glyph\":{\"id\":\"8162\",\"type\":\"Circle\"},\"hover_glyph\":null,\"muted_glyph\":null,\"nonselection_glyph\":{\"id\":\"8163\",\"type\":\"Circle\"},\"selection_glyph\":null,\"view\":{\"id\":\"8165\",\"type\":\"CDSView\"}},\"id\":\"8164\",\"type\":\"GlyphRenderer\"},{\"attributes\":{\"grid_line_color\":null,\"ticker\":{\"id\":\"8105\",\"type\":\"BasicTicker\"}},\"id\":\"8108\",\"type\":\"Grid\"},{\"attributes\":{\"active_drag\":\"auto\",\"active_inspect\":\"auto\",\"active_multi\":null,\"active_scroll\":\"auto\",\"active_tap\":\"auto\",\"tools\":[{\"id\":\"8114\",\"type\":\"PanTool\"},{\"id\":\"8115\",\"type\":\"WheelZoomTool\"},{\"id\":\"8116\",\"type\":\"BoxZoomTool\"},{\"id\":\"8117\",\"type\":\"SaveTool\"},{\"id\":\"8118\",\"type\":\"ResetTool\"},{\"id\":\"8119\",\"type\":\"HelpTool\"},{\"id\":\"8166\",\"type\":\"HoverTool\"}]},\"id\":\"8120\",\"type\":\"Toolbar\"},{\"attributes\":{\"line_alpha\":0.1,\"line_color\":\"#1f77b4\",\"line_width\":3,\"x\":{\"field\":\"x\"},\"y\":{\"field\":\"y\"}},\"id\":\"8147\",\"type\":\"Line\"},{\"attributes\":{},\"id\":\"8135\",\"type\":\"BasicTickFormatter\"},{\"attributes\":{\"label\":{\"value\":\"LDCs\"},\"renderers\":[{\"id\":\"8130\",\"type\":\"GlyphRenderer\"}]},\"id\":\"8139\",\"type\":\"LegendItem\"},{\"attributes\":{},\"id\":\"8100\",\"type\":\"LinearScale\"},{\"attributes\":{\"data_source\":{\"id\":\"8127\",\"type\":\"ColumnDataSource\"},\"glyph\":{\"id\":\"8128\",\"type\":\"Line\"},\"hover_glyph\":null,\"muted_glyph\":null,\"nonselection_glyph\":{\"id\":\"8129\",\"type\":\"Line\"},\"selection_glyph\":null,\"view\":{\"id\":\"8131\",\"type\":\"CDSView\"}},\"id\":\"8130\",\"type\":\"GlyphRenderer\"},{\"attributes\":{},\"id\":\"8158\",\"type\":\"Selection\"},{\"attributes\":{\"fill_color\":{\"value\":\"#FA1857\"},\"line_color\":{\"value\":\"#FA1857\"},\"size\":{\"units\":\"screen\",\"value\":1},\"x\":{\"field\":\"x\"},\"y\":{\"field\":\"y\"}},\"id\":\"8141\",\"type\":\"Circle\"},{\"attributes\":{},\"id\":\"8117\",\"type\":\"SaveTool\"},{\"attributes\":{\"data_source\":{\"id\":\"8145\",\"type\":\"ColumnDataSource\"},\"glyph\":{\"id\":\"8146\",\"type\":\"Line\"},\"hover_glyph\":null,\"muted_glyph\":null,\"nonselection_glyph\":{\"id\":\"8147\",\"type\":\"Line\"},\"selection_glyph\":null,\"view\":{\"id\":\"8149\",\"type\":\"CDSView\"}},\"id\":\"8148\",\"type\":\"GlyphRenderer\"},{\"attributes\":{},\"id\":\"8503\",\"type\":\"Selection\"},{\"attributes\":{},\"id\":\"8102\",\"type\":\"LinearScale\"},{\"attributes\":{\"line_color\":\"#5430F1\",\"line_width\":3,\"x\":{\"field\":\"x\"},\"y\":{\"field\":\"y\"}},\"id\":\"8146\",\"type\":\"Line\"},{\"attributes\":{\"text\":\"School enrollment, primary (% gross) weighted against Population, total\"},\"id\":\"8094\",\"type\":\"Title\"},{\"attributes\":{},\"id\":\"8502\",\"type\":\"UnionRenderers\"},{\"attributes\":{\"source\":{\"id\":\"8145\",\"type\":\"ColumnDataSource\"}},\"id\":\"8149\",\"type\":\"CDSView\"},{\"attributes\":{},\"id\":\"8118\",\"type\":\"ResetTool\"},{\"attributes\":{},\"id\":\"8500\",\"type\":\"UnionRenderers\"},{\"attributes\":{\"fill_color\":{\"value\":\"#5430F1\"},\"line_color\":{\"value\":\"#5430F1\"},\"size\":{\"units\":\"screen\",\"value\":1},\"x\":{\"field\":\"x\"},\"y\":{\"field\":\"y\"}},\"id\":\"8162\",\"type\":\"Circle\"},{\"attributes\":{},\"id\":\"8114\",\"type\":\"PanTool\"},{\"attributes\":{\"line_alpha\":0.1,\"line_color\":\"#1f77b4\",\"line_width\":3,\"x\":{\"field\":\"x\"},\"y\":{\"field\":\"y\"}},\"id\":\"8129\",\"type\":\"Line\"},{\"attributes\":{\"callback\":null},\"id\":\"8096\",\"type\":\"DataRange1d\"},{\"attributes\":{},\"id\":\"8119\",\"type\":\"HelpTool\"},{\"attributes\":{\"label\":{\"value\":\"Developing excluding LDCs\"},\"renderers\":[{\"id\":\"8148\",\"type\":\"GlyphRenderer\"}]},\"id\":\"8160\",\"type\":\"LegendItem\"},{\"attributes\":{},\"id\":\"8155\",\"type\":\"UnionRenderers\"},{\"attributes\":{\"data_source\":{\"id\":\"8140\",\"type\":\"ColumnDataSource\"},\"glyph\":{\"id\":\"8141\",\"type\":\"Circle\"},\"hover_glyph\":null,\"muted_glyph\":null,\"nonselection_glyph\":{\"id\":\"8142\",\"type\":\"Circle\"},\"selection_glyph\":null,\"view\":{\"id\":\"8144\",\"type\":\"CDSView\"}},\"id\":\"8143\",\"type\":\"GlyphRenderer\"},{\"attributes\":{\"source\":{\"id\":\"8161\",\"type\":\"ColumnDataSource\"}},\"id\":\"8165\",\"type\":\"CDSView\"},{\"attributes\":{},\"id\":\"8115\",\"type\":\"WheelZoomTool\"},{\"attributes\":{},\"id\":\"8157\",\"type\":\"UnionRenderers\"},{\"attributes\":{\"dimension\":1,\"grid_line_alpha\":0.5,\"ticker\":{\"id\":\"8110\",\"type\":\"BasicTicker\"}},\"id\":\"8113\",\"type\":\"Grid\"},{\"attributes\":{\"fill_alpha\":{\"value\":0.1},\"fill_color\":{\"value\":\"#1f77b4\"},\"line_alpha\":{\"value\":0.1},\"line_color\":{\"value\":\"#1f77b4\"},\"size\":{\"units\":\"screen\",\"value\":1},\"x\":{\"field\":\"x\"},\"y\":{\"field\":\"y\"}},\"id\":\"8142\",\"type\":\"Circle\"},{\"attributes\":{\"overlay\":{\"id\":\"8137\",\"type\":\"BoxAnnotation\"}},\"id\":\"8116\",\"type\":\"BoxZoomTool\"},{\"attributes\":{\"callback\":null,\"data\":{\"x\":[\"2010\",\"2011\",\"2012\",\"2013\",\"2014\",\"2015\",\"2016\",\"2017\"],\"y\":[102.6119637211271,102.40504842979927,102.61492060065704,104.04955168783302,102.71277937258405,104.33578807060616,101.785654111482,103.68177991550498]},\"selected\":{\"id\":\"8156\",\"type\":\"Selection\"},\"selection_policy\":{\"id\":\"8155\",\"type\":\"UnionRenderers\"}},\"id\":\"8127\",\"type\":\"ColumnDataSource\"},{\"attributes\":{\"callback\":null,\"data\":{\"x\":[\"2010\",\"2011\",\"2012\",\"2013\",\"2014\",\"2015\",\"2016\",\"2017\"],\"y\":[103.0427231291659,104.17449382804634,104.95172912979407,104.1439293927902,102.46095391981049,103.21816040999303,104.79795341840126,105.29627652385149]},\"selected\":{\"id\":\"8503\",\"type\":\"Selection\"},\"selection_policy\":{\"id\":\"8502\",\"type\":\"UnionRenderers\"}},\"id\":\"8161\",\"type\":\"ColumnDataSource\"},{\"attributes\":{\"callback\":null,\"data\":{\"x\":[\"2010\",\"2011\",\"2012\",\"2013\",\"2014\",\"2015\",\"2016\",\"2017\"],\"y\":[102.6119637211271,102.40504842979927,102.61492060065704,104.04955168783302,102.71277937258405,104.33578807060616,101.785654111482,103.68177991550498]},\"selected\":{\"id\":\"8158\",\"type\":\"Selection\"},\"selection_policy\":{\"id\":\"8157\",\"type\":\"UnionRenderers\"}},\"id\":\"8140\",\"type\":\"ColumnDataSource\"},{\"attributes\":{\"line_color\":\"#FA1857\",\"line_width\":3,\"x\":{\"field\":\"x\"},\"y\":{\"field\":\"y\"}},\"id\":\"8128\",\"type\":\"Line\"}],\"root_ids\":[\"8093\"]},\"title\":\"Bokeh Application\",\"version\":\"1.3.4\"}};\n",
       "  var render_items = [{\"docid\":\"dca404ab-c28c-44e4-91e0-e666da236eec\",\"roots\":{\"8093\":\"aa4636f5-3e72-4f8e-8209-f5065f767ef6\"}}];\n",
       "  root.Bokeh.embed.embed_items_notebook(docs_json, render_items);\n",
       "\n",
       "  }\n",
       "  if (root.Bokeh !== undefined) {\n",
       "    embed_document(root);\n",
       "  } else {\n",
       "    var attempts = 0;\n",
       "    var timer = setInterval(function(root) {\n",
       "      if (root.Bokeh !== undefined) {\n",
       "        embed_document(root);\n",
       "        clearInterval(timer);\n",
       "      }\n",
       "      attempts++;\n",
       "      if (attempts > 100) {\n",
       "        console.log(\"Bokeh: ERROR: Unable to run BokehJS code because BokehJS library is missing\");\n",
       "        clearInterval(timer);\n",
       "      }\n",
       "    }, 10, root)\n",
       "  }\n",
       "})(window);"
      ],
      "application/vnd.bokehjs_exec.v0+json": ""
     },
     "metadata": {
      "application/vnd.bokehjs_exec.v0+json": {
       "id": "8093"
      }
     },
     "output_type": "display_data"
    }
   ],
   "source": [
    "# School enrollment, primary\n",
    "years = list(map(str, list(range(2010,2018))))\n",
    "result = show_weighted_average(years, 'SE.PRM.ENRR', 'SP.POP.TOTL', \n",
    "                                ['LDCs', 'Developing excluding LDCs'], \n",
    "                                height=400, width=1000, line_width=3)"
   ]
  },
  {
   "cell_type": "code",
   "execution_count": 27,
   "metadata": {
    "slideshow": {
     "slide_type": "slide"
    }
   },
   "outputs": [
    {
     "data": {
      "text/html": [
       "\n",
       "\n",
       "\n",
       "\n",
       "\n",
       "\n",
       "  <div class=\"bk-root\" id=\"95353170-1e3e-4af8-a663-9fa960735846\" data-root-id=\"8589\"></div>\n"
      ]
     },
     "metadata": {},
     "output_type": "display_data"
    },
    {
     "data": {
      "application/javascript": [
       "(function(root) {\n",
       "  function embed_document(root) {\n",
       "    \n",
       "  var docs_json = {\"3aa5ded7-ccaf-4627-8979-13579528491c\":{\"roots\":{\"references\":[{\"attributes\":{\"below\":[{\"id\":\"8600\",\"type\":\"LinearAxis\"}],\"center\":[{\"id\":\"8604\",\"type\":\"Grid\"},{\"id\":\"8609\",\"type\":\"Grid\"},{\"id\":\"8634\",\"type\":\"Legend\"}],\"left\":[{\"id\":\"8605\",\"type\":\"LinearAxis\"}],\"plot_height\":400,\"plot_width\":1000,\"renderers\":[{\"id\":\"8626\",\"type\":\"GlyphRenderer\"},{\"id\":\"8639\",\"type\":\"GlyphRenderer\"},{\"id\":\"8644\",\"type\":\"GlyphRenderer\"},{\"id\":\"8660\",\"type\":\"GlyphRenderer\"}],\"title\":{\"id\":\"8590\",\"type\":\"Title\"},\"toolbar\":{\"id\":\"8616\",\"type\":\"Toolbar\"},\"x_range\":{\"id\":\"8592\",\"type\":\"DataRange1d\"},\"x_scale\":{\"id\":\"8596\",\"type\":\"LinearScale\"},\"y_range\":{\"id\":\"8594\",\"type\":\"DataRange1d\"},\"y_scale\":{\"id\":\"8598\",\"type\":\"LinearScale\"}},\"id\":\"8589\",\"subtype\":\"Figure\",\"type\":\"Plot\"},{\"attributes\":{\"data_source\":{\"id\":\"8636\",\"type\":\"ColumnDataSource\"},\"glyph\":{\"id\":\"8637\",\"type\":\"Circle\"},\"hover_glyph\":null,\"muted_glyph\":null,\"nonselection_glyph\":{\"id\":\"8638\",\"type\":\"Circle\"},\"selection_glyph\":null,\"view\":{\"id\":\"8640\",\"type\":\"CDSView\"}},\"id\":\"8639\",\"type\":\"GlyphRenderer\"},{\"attributes\":{},\"id\":\"8654\",\"type\":\"Selection\"},{\"attributes\":{\"callback\":null},\"id\":\"8594\",\"type\":\"DataRange1d\"},{\"attributes\":{\"line_color\":\"#FA1857\",\"line_width\":3,\"x\":{\"field\":\"x\"},\"y\":{\"field\":\"y\"}},\"id\":\"8624\",\"type\":\"Line\"},{\"attributes\":{\"callback\":null,\"data\":{\"x\":[\"2010\",\"2011\",\"2012\",\"2013\",\"2014\",\"2015\",\"2016\",\"2017\"],\"y\":[40.71979156217991,40.50524831492961,42.88559060690365,48.02763417723285,42.06890499122678,45.77221151940908,51.781966052740714,52.216689130724404]},\"selected\":{\"id\":\"8654\",\"type\":\"Selection\"},\"selection_policy\":{\"id\":\"8653\",\"type\":\"UnionRenderers\"}},\"id\":\"8636\",\"type\":\"ColumnDataSource\"},{\"attributes\":{\"label\":{\"value\":\"LDCs\"},\"renderers\":[{\"id\":\"8626\",\"type\":\"GlyphRenderer\"}]},\"id\":\"8635\",\"type\":\"LegendItem\"},{\"attributes\":{},\"id\":\"8629\",\"type\":\"BasicTickFormatter\"},{\"attributes\":{\"fill_alpha\":{\"value\":0.1},\"fill_color\":{\"value\":\"#1f77b4\"},\"line_alpha\":{\"value\":0.1},\"line_color\":{\"value\":\"#1f77b4\"},\"size\":{\"units\":\"screen\",\"value\":1},\"x\":{\"field\":\"x\"},\"y\":{\"field\":\"y\"}},\"id\":\"8659\",\"type\":\"Circle\"},{\"attributes\":{},\"id\":\"8615\",\"type\":\"HelpTool\"},{\"attributes\":{\"overlay\":{\"id\":\"8633\",\"type\":\"BoxAnnotation\"}},\"id\":\"8612\",\"type\":\"BoxZoomTool\"},{\"attributes\":{\"label\":{\"value\":\"Developing excluding LDCs\"},\"renderers\":[{\"id\":\"8644\",\"type\":\"GlyphRenderer\"}]},\"id\":\"8656\",\"type\":\"LegendItem\"},{\"attributes\":{},\"id\":\"8610\",\"type\":\"PanTool\"},{\"attributes\":{},\"id\":\"9013\",\"type\":\"Selection\"},{\"attributes\":{\"items\":[{\"id\":\"8635\",\"type\":\"LegendItem\"},{\"id\":\"8656\",\"type\":\"LegendItem\"}],\"location\":\"bottom_left\"},\"id\":\"8634\",\"type\":\"Legend\"},{\"attributes\":{\"text\":\"School enrollment, secondary (% gross) weighted against Population, total\"},\"id\":\"8590\",\"type\":\"Title\"},{\"attributes\":{},\"id\":\"8653\",\"type\":\"UnionRenderers\"},{\"attributes\":{},\"id\":\"8611\",\"type\":\"WheelZoomTool\"},{\"attributes\":{},\"id\":\"8631\",\"type\":\"BasicTickFormatter\"},{\"attributes\":{},\"id\":\"8614\",\"type\":\"ResetTool\"},{\"attributes\":{},\"id\":\"8651\",\"type\":\"UnionRenderers\"},{\"attributes\":{\"source\":{\"id\":\"8636\",\"type\":\"ColumnDataSource\"}},\"id\":\"8640\",\"type\":\"CDSView\"},{\"attributes\":{\"data_source\":{\"id\":\"8641\",\"type\":\"ColumnDataSource\"},\"glyph\":{\"id\":\"8642\",\"type\":\"Line\"},\"hover_glyph\":null,\"muted_glyph\":null,\"nonselection_glyph\":{\"id\":\"8643\",\"type\":\"Line\"},\"selection_glyph\":null,\"view\":{\"id\":\"8645\",\"type\":\"CDSView\"}},\"id\":\"8644\",\"type\":\"GlyphRenderer\"},{\"attributes\":{},\"id\":\"9010\",\"type\":\"UnionRenderers\"},{\"attributes\":{\"line_alpha\":0.1,\"line_color\":\"#1f77b4\",\"line_width\":3,\"x\":{\"field\":\"x\"},\"y\":{\"field\":\"y\"}},\"id\":\"8625\",\"type\":\"Line\"},{\"attributes\":{\"bottom_units\":\"screen\",\"fill_alpha\":{\"value\":0.5},\"fill_color\":{\"value\":\"lightgrey\"},\"left_units\":\"screen\",\"level\":\"overlay\",\"line_alpha\":{\"value\":1.0},\"line_color\":{\"value\":\"black\"},\"line_dash\":[4,4],\"line_width\":{\"value\":2},\"render_mode\":\"css\",\"right_units\":\"screen\",\"top_units\":\"screen\"},\"id\":\"8633\",\"type\":\"BoxAnnotation\"},{\"attributes\":{\"grid_line_color\":null,\"ticker\":{\"id\":\"8601\",\"type\":\"BasicTicker\"}},\"id\":\"8604\",\"type\":\"Grid\"},{\"attributes\":{},\"id\":\"8613\",\"type\":\"SaveTool\"},{\"attributes\":{},\"id\":\"9012\",\"type\":\"UnionRenderers\"},{\"attributes\":{\"data_source\":{\"id\":\"8623\",\"type\":\"ColumnDataSource\"},\"glyph\":{\"id\":\"8624\",\"type\":\"Line\"},\"hover_glyph\":null,\"muted_glyph\":null,\"nonselection_glyph\":{\"id\":\"8625\",\"type\":\"Line\"},\"selection_glyph\":null,\"view\":{\"id\":\"8627\",\"type\":\"CDSView\"}},\"id\":\"8626\",\"type\":\"GlyphRenderer\"},{\"attributes\":{},\"id\":\"8652\",\"type\":\"Selection\"},{\"attributes\":{\"callback\":null,\"data\":{\"x\":[\"2010\",\"2011\",\"2012\",\"2013\",\"2014\",\"2015\",\"2016\",\"2017\"],\"y\":[74.89483649419115,71.7293111922578,72.55803200547106,74.88712644187571,78.63032657672926,78.88460416945199,79.3951445589684,81.37361590400792]},\"selected\":{\"id\":\"9011\",\"type\":\"Selection\"},\"selection_policy\":{\"id\":\"9010\",\"type\":\"UnionRenderers\"}},\"id\":\"8641\",\"type\":\"ColumnDataSource\"},{\"attributes\":{},\"id\":\"9011\",\"type\":\"Selection\"},{\"attributes\":{\"dimension\":1,\"grid_line_alpha\":0.5,\"ticker\":{\"id\":\"8606\",\"type\":\"BasicTicker\"}},\"id\":\"8609\",\"type\":\"Grid\"},{\"attributes\":{\"callback\":null,\"tooltips\":\"                \\n        <div style=padding=5px>Year:@x</div>\\n        <div style=padding=5px>Value:@y</div>        \\n        \"},\"id\":\"8662\",\"type\":\"HoverTool\"},{\"attributes\":{},\"id\":\"8601\",\"type\":\"BasicTicker\"},{\"attributes\":{\"callback\":null,\"data\":{\"x\":[\"2010\",\"2011\",\"2012\",\"2013\",\"2014\",\"2015\",\"2016\",\"2017\"],\"y\":[74.89483649419115,71.7293111922578,72.55803200547106,74.88712644187571,78.63032657672926,78.88460416945199,79.3951445589684,81.37361590400792]},\"selected\":{\"id\":\"9013\",\"type\":\"Selection\"},\"selection_policy\":{\"id\":\"9012\",\"type\":\"UnionRenderers\"}},\"id\":\"8657\",\"type\":\"ColumnDataSource\"},{\"attributes\":{},\"id\":\"8596\",\"type\":\"LinearScale\"},{\"attributes\":{\"fill_color\":{\"value\":\"#5430F1\"},\"line_color\":{\"value\":\"#5430F1\"},\"size\":{\"units\":\"screen\",\"value\":1},\"x\":{\"field\":\"x\"},\"y\":{\"field\":\"y\"}},\"id\":\"8658\",\"type\":\"Circle\"},{\"attributes\":{\"line_alpha\":0.1,\"line_color\":\"#1f77b4\",\"line_width\":3,\"x\":{\"field\":\"x\"},\"y\":{\"field\":\"y\"}},\"id\":\"8643\",\"type\":\"Line\"},{\"attributes\":{\"source\":{\"id\":\"8623\",\"type\":\"ColumnDataSource\"}},\"id\":\"8627\",\"type\":\"CDSView\"},{\"attributes\":{\"axis_label\":\"SE.SEC.ENRR\",\"formatter\":{\"id\":\"8629\",\"type\":\"BasicTickFormatter\"},\"ticker\":{\"id\":\"8606\",\"type\":\"BasicTicker\"}},\"id\":\"8605\",\"type\":\"LinearAxis\"},{\"attributes\":{\"fill_alpha\":{\"value\":0.1},\"fill_color\":{\"value\":\"#1f77b4\"},\"line_alpha\":{\"value\":0.1},\"line_color\":{\"value\":\"#1f77b4\"},\"size\":{\"units\":\"screen\",\"value\":1},\"x\":{\"field\":\"x\"},\"y\":{\"field\":\"y\"}},\"id\":\"8638\",\"type\":\"Circle\"},{\"attributes\":{},\"id\":\"8598\",\"type\":\"LinearScale\"},{\"attributes\":{\"callback\":null},\"id\":\"8592\",\"type\":\"DataRange1d\"},{\"attributes\":{\"source\":{\"id\":\"8657\",\"type\":\"ColumnDataSource\"}},\"id\":\"8661\",\"type\":\"CDSView\"},{\"attributes\":{\"active_drag\":\"auto\",\"active_inspect\":\"auto\",\"active_multi\":null,\"active_scroll\":\"auto\",\"active_tap\":\"auto\",\"tools\":[{\"id\":\"8610\",\"type\":\"PanTool\"},{\"id\":\"8611\",\"type\":\"WheelZoomTool\"},{\"id\":\"8612\",\"type\":\"BoxZoomTool\"},{\"id\":\"8613\",\"type\":\"SaveTool\"},{\"id\":\"8614\",\"type\":\"ResetTool\"},{\"id\":\"8615\",\"type\":\"HelpTool\"},{\"id\":\"8662\",\"type\":\"HoverTool\"}]},\"id\":\"8616\",\"type\":\"Toolbar\"},{\"attributes\":{\"axis_label\":\"Years\",\"formatter\":{\"id\":\"8631\",\"type\":\"BasicTickFormatter\"},\"ticker\":{\"id\":\"8601\",\"type\":\"BasicTicker\"}},\"id\":\"8600\",\"type\":\"LinearAxis\"},{\"attributes\":{\"line_color\":\"#5430F1\",\"line_width\":3,\"x\":{\"field\":\"x\"},\"y\":{\"field\":\"y\"}},\"id\":\"8642\",\"type\":\"Line\"},{\"attributes\":{\"fill_color\":{\"value\":\"#FA1857\"},\"line_color\":{\"value\":\"#FA1857\"},\"size\":{\"units\":\"screen\",\"value\":1},\"x\":{\"field\":\"x\"},\"y\":{\"field\":\"y\"}},\"id\":\"8637\",\"type\":\"Circle\"},{\"attributes\":{},\"id\":\"8606\",\"type\":\"BasicTicker\"},{\"attributes\":{\"source\":{\"id\":\"8641\",\"type\":\"ColumnDataSource\"}},\"id\":\"8645\",\"type\":\"CDSView\"},{\"attributes\":{\"data_source\":{\"id\":\"8657\",\"type\":\"ColumnDataSource\"},\"glyph\":{\"id\":\"8658\",\"type\":\"Circle\"},\"hover_glyph\":null,\"muted_glyph\":null,\"nonselection_glyph\":{\"id\":\"8659\",\"type\":\"Circle\"},\"selection_glyph\":null,\"view\":{\"id\":\"8661\",\"type\":\"CDSView\"}},\"id\":\"8660\",\"type\":\"GlyphRenderer\"},{\"attributes\":{\"callback\":null,\"data\":{\"x\":[\"2010\",\"2011\",\"2012\",\"2013\",\"2014\",\"2015\",\"2016\",\"2017\"],\"y\":[40.71979156217991,40.50524831492961,42.88559060690365,48.02763417723285,42.06890499122678,45.77221151940908,51.781966052740714,52.216689130724404]},\"selected\":{\"id\":\"8652\",\"type\":\"Selection\"},\"selection_policy\":{\"id\":\"8651\",\"type\":\"UnionRenderers\"}},\"id\":\"8623\",\"type\":\"ColumnDataSource\"}],\"root_ids\":[\"8589\"]},\"title\":\"Bokeh Application\",\"version\":\"1.3.4\"}};\n",
       "  var render_items = [{\"docid\":\"3aa5ded7-ccaf-4627-8979-13579528491c\",\"roots\":{\"8589\":\"95353170-1e3e-4af8-a663-9fa960735846\"}}];\n",
       "  root.Bokeh.embed.embed_items_notebook(docs_json, render_items);\n",
       "\n",
       "  }\n",
       "  if (root.Bokeh !== undefined) {\n",
       "    embed_document(root);\n",
       "  } else {\n",
       "    var attempts = 0;\n",
       "    var timer = setInterval(function(root) {\n",
       "      if (root.Bokeh !== undefined) {\n",
       "        embed_document(root);\n",
       "        clearInterval(timer);\n",
       "      }\n",
       "      attempts++;\n",
       "      if (attempts > 100) {\n",
       "        console.log(\"Bokeh: ERROR: Unable to run BokehJS code because BokehJS library is missing\");\n",
       "        clearInterval(timer);\n",
       "      }\n",
       "    }, 10, root)\n",
       "  }\n",
       "})(window);"
      ],
      "application/vnd.bokehjs_exec.v0+json": ""
     },
     "metadata": {
      "application/vnd.bokehjs_exec.v0+json": {
       "id": "8589"
      }
     },
     "output_type": "display_data"
    }
   ],
   "source": [
    "# School enrollment, secondary\n",
    "years = list(map(str, list(range(2010,2018))))\n",
    "result = show_weighted_average(years, 'SE.SEC.ENRR', 'SP.POP.TOTL', \n",
    "                               ['LDCs', 'Developing excluding LDCs'], \n",
    "                                height=400, width=1000, line_width=3)"
   ]
  },
  {
   "cell_type": "code",
   "execution_count": 28,
   "metadata": {
    "ExecuteTime": {
     "end_time": "2019-10-25T14:25:38.329630Z",
     "start_time": "2019-10-25T14:25:37.469130Z"
    },
    "slideshow": {
     "slide_type": "slide"
    }
   },
   "outputs": [
    {
     "data": {
      "text/html": [
       "\n",
       "\n",
       "\n",
       "\n",
       "\n",
       "\n",
       "  <div class=\"bk-root\" id=\"e6b87f74-d336-4f47-9b19-f1a971b092cb\" data-root-id=\"9099\"></div>\n"
      ]
     },
     "metadata": {},
     "output_type": "display_data"
    },
    {
     "data": {
      "application/javascript": [
       "(function(root) {\n",
       "  function embed_document(root) {\n",
       "    \n",
       "  var docs_json = {\"9c473923-72f4-4084-9942-54041128c57c\":{\"roots\":{\"references\":[{\"attributes\":{\"below\":[{\"id\":\"9110\",\"type\":\"LinearAxis\"}],\"center\":[{\"id\":\"9114\",\"type\":\"Grid\"},{\"id\":\"9119\",\"type\":\"Grid\"},{\"id\":\"9144\",\"type\":\"Legend\"}],\"left\":[{\"id\":\"9115\",\"type\":\"LinearAxis\"}],\"plot_height\":400,\"plot_width\":1000,\"renderers\":[{\"id\":\"9136\",\"type\":\"GlyphRenderer\"},{\"id\":\"9149\",\"type\":\"GlyphRenderer\"},{\"id\":\"9154\",\"type\":\"GlyphRenderer\"},{\"id\":\"9170\",\"type\":\"GlyphRenderer\"},{\"id\":\"9175\",\"type\":\"GlyphRenderer\"},{\"id\":\"9195\",\"type\":\"GlyphRenderer\"}],\"title\":{\"id\":\"9100\",\"type\":\"Title\"},\"toolbar\":{\"id\":\"9126\",\"type\":\"Toolbar\"},\"x_range\":{\"id\":\"9102\",\"type\":\"DataRange1d\"},\"x_scale\":{\"id\":\"9106\",\"type\":\"LinearScale\"},\"y_range\":{\"id\":\"9104\",\"type\":\"DataRange1d\"},\"y_scale\":{\"id\":\"9108\",\"type\":\"LinearScale\"}},\"id\":\"9099\",\"subtype\":\"Figure\",\"type\":\"Plot\"},{\"attributes\":{\"dimension\":1,\"grid_line_alpha\":0.5,\"ticker\":{\"id\":\"9116\",\"type\":\"BasicTicker\"}},\"id\":\"9119\",\"type\":\"Grid\"},{\"attributes\":{\"callback\":null,\"data\":{\"x\":[\"2010\",\"2011\",\"2012\",\"2013\",\"2014\"],\"y\":[23.513041688550018,26.0163518298774,28.605589935710757,29.991015174173807,34.168460693584066]},\"selected\":{\"id\":\"9189\",\"type\":\"Selection\"},\"selection_policy\":{\"id\":\"9188\",\"type\":\"UnionRenderers\"}},\"id\":\"9167\",\"type\":\"ColumnDataSource\"},{\"attributes\":{\"items\":[{\"id\":\"9145\",\"type\":\"LegendItem\"},{\"id\":\"9166\",\"type\":\"LegendItem\"},{\"id\":\"9191\",\"type\":\"LegendItem\"}],\"location\":\"bottom_left\"},\"id\":\"9144\",\"type\":\"Legend\"},{\"attributes\":{\"callback\":null,\"data\":{\"x\":[\"2010\",\"2011\",\"2012\",\"2013\",\"2014\"],\"y\":[6.97759961786947,9.086658069190648,9.121775166295603,8.515917852830238,10.11079604308265]},\"selected\":{\"id\":\"9162\",\"type\":\"Selection\"},\"selection_policy\":{\"id\":\"9161\",\"type\":\"UnionRenderers\"}},\"id\":\"9133\",\"type\":\"ColumnDataSource\"},{\"attributes\":{\"fill_alpha\":{\"value\":0.1},\"fill_color\":{\"value\":\"#1f77b4\"},\"line_alpha\":{\"value\":0.1},\"line_color\":{\"value\":\"#1f77b4\"},\"size\":{\"units\":\"screen\",\"value\":1},\"x\":{\"field\":\"x\"},\"y\":{\"field\":\"y\"}},\"id\":\"9169\",\"type\":\"Circle\"},{\"attributes\":{},\"id\":\"9564\",\"type\":\"Selection\"},{\"attributes\":{\"callback\":null,\"tooltips\":\"                \\n        <div style=padding=5px>Year:@x</div>\\n        <div style=padding=5px>Value:@y</div>        \\n        \"},\"id\":\"9197\",\"type\":\"HoverTool\"},{\"attributes\":{\"fill_color\":{\"value\":\"#5430F1\"},\"line_color\":{\"value\":\"#5430F1\"},\"size\":{\"units\":\"screen\",\"value\":1},\"x\":{\"field\":\"x\"},\"y\":{\"field\":\"y\"}},\"id\":\"9168\",\"type\":\"Circle\"},{\"attributes\":{},\"id\":\"9563\",\"type\":\"UnionRenderers\"},{\"attributes\":{\"data_source\":{\"id\":\"9167\",\"type\":\"ColumnDataSource\"},\"glyph\":{\"id\":\"9168\",\"type\":\"Circle\"},\"hover_glyph\":null,\"muted_glyph\":null,\"nonselection_glyph\":{\"id\":\"9169\",\"type\":\"Circle\"},\"selection_glyph\":null,\"view\":{\"id\":\"9171\",\"type\":\"CDSView\"}},\"id\":\"9170\",\"type\":\"GlyphRenderer\"},{\"attributes\":{\"line_alpha\":0.1,\"line_color\":\"#1f77b4\",\"line_width\":3,\"x\":{\"field\":\"x\"},\"y\":{\"field\":\"y\"}},\"id\":\"9135\",\"type\":\"Line\"},{\"attributes\":{\"callback\":null,\"data\":{\"x\":[\"2010\",\"2011\",\"2012\",\"2013\",\"2014\"],\"y\":[6.97759961786947,9.086658069190648,9.121775166295603,8.515917852830238,10.11079604308265]},\"selected\":{\"id\":\"9164\",\"type\":\"Selection\"},\"selection_policy\":{\"id\":\"9163\",\"type\":\"UnionRenderers\"}},\"id\":\"9146\",\"type\":\"ColumnDataSource\"},{\"attributes\":{},\"id\":\"9120\",\"type\":\"PanTool\"},{\"attributes\":{\"label\":{\"value\":\"LDCs\"},\"renderers\":[{\"id\":\"9136\",\"type\":\"GlyphRenderer\"}]},\"id\":\"9145\",\"type\":\"LegendItem\"},{\"attributes\":{\"callback\":null,\"data\":{\"x\":[\"2010\",\"2011\",\"2012\",\"2013\",\"2014\"],\"y\":[29.578342099714497,35.0387071416137,36.74134581365902,39.400822883016104,45.86198074086463]},\"selected\":{\"id\":\"9564\",\"type\":\"Selection\"},\"selection_policy\":{\"id\":\"9563\",\"type\":\"UnionRenderers\"}},\"id\":\"9172\",\"type\":\"ColumnDataSource\"},{\"attributes\":{\"fill_alpha\":{\"value\":0.1},\"fill_color\":{\"value\":\"#1f77b4\"},\"line_alpha\":{\"value\":0.1},\"line_color\":{\"value\":\"#1f77b4\"},\"size\":{\"units\":\"screen\",\"value\":1},\"x\":{\"field\":\"x\"},\"y\":{\"field\":\"y\"}},\"id\":\"9148\",\"type\":\"Circle\"},{\"attributes\":{\"overlay\":{\"id\":\"9143\",\"type\":\"BoxAnnotation\"}},\"id\":\"9122\",\"type\":\"BoxZoomTool\"},{\"attributes\":{},\"id\":\"9164\",\"type\":\"Selection\"},{\"attributes\":{\"fill_alpha\":{\"value\":0.1},\"fill_color\":{\"value\":\"#1f77b4\"},\"line_alpha\":{\"value\":0.1},\"line_color\":{\"value\":\"#1f77b4\"},\"size\":{\"units\":\"screen\",\"value\":1},\"x\":{\"field\":\"x\"},\"y\":{\"field\":\"y\"}},\"id\":\"9194\",\"type\":\"Circle\"},{\"attributes\":{\"source\":{\"id\":\"9167\",\"type\":\"ColumnDataSource\"}},\"id\":\"9171\",\"type\":\"CDSView\"},{\"attributes\":{\"fill_color\":{\"value\":\"#FA1857\"},\"line_color\":{\"value\":\"#FA1857\"},\"size\":{\"units\":\"screen\",\"value\":1},\"x\":{\"field\":\"x\"},\"y\":{\"field\":\"y\"}},\"id\":\"9147\",\"type\":\"Circle\"},{\"attributes\":{},\"id\":\"9121\",\"type\":\"WheelZoomTool\"},{\"attributes\":{\"source\":{\"id\":\"9192\",\"type\":\"ColumnDataSource\"}},\"id\":\"9196\",\"type\":\"CDSView\"},{\"attributes\":{\"line_color\":\"#2CC775\",\"line_width\":3,\"x\":{\"field\":\"x\"},\"y\":{\"field\":\"y\"}},\"id\":\"9173\",\"type\":\"Line\"},{\"attributes\":{\"data_source\":{\"id\":\"9146\",\"type\":\"ColumnDataSource\"},\"glyph\":{\"id\":\"9147\",\"type\":\"Circle\"},\"hover_glyph\":null,\"muted_glyph\":null,\"nonselection_glyph\":{\"id\":\"9148\",\"type\":\"Circle\"},\"selection_glyph\":null,\"view\":{\"id\":\"9150\",\"type\":\"CDSView\"}},\"id\":\"9149\",\"type\":\"GlyphRenderer\"},{\"attributes\":{},\"id\":\"9123\",\"type\":\"SaveTool\"},{\"attributes\":{\"data_source\":{\"id\":\"9172\",\"type\":\"ColumnDataSource\"},\"glyph\":{\"id\":\"9173\",\"type\":\"Line\"},\"hover_glyph\":null,\"muted_glyph\":null,\"nonselection_glyph\":{\"id\":\"9174\",\"type\":\"Line\"},\"selection_glyph\":null,\"view\":{\"id\":\"9176\",\"type\":\"CDSView\"}},\"id\":\"9175\",\"type\":\"GlyphRenderer\"},{\"attributes\":{\"callback\":null,\"data\":{\"x\":[\"2010\",\"2011\",\"2012\",\"2013\",\"2014\"],\"y\":[23.513041688550018,26.0163518298774,28.605589935710757,29.991015174173807,34.168460693584066]},\"selected\":{\"id\":\"9187\",\"type\":\"Selection\"},\"selection_policy\":{\"id\":\"9186\",\"type\":\"UnionRenderers\"}},\"id\":\"9151\",\"type\":\"ColumnDataSource\"},{\"attributes\":{},\"id\":\"9125\",\"type\":\"HelpTool\"},{\"attributes\":{\"data_source\":{\"id\":\"9192\",\"type\":\"ColumnDataSource\"},\"glyph\":{\"id\":\"9193\",\"type\":\"Circle\"},\"hover_glyph\":null,\"muted_glyph\":null,\"nonselection_glyph\":{\"id\":\"9194\",\"type\":\"Circle\"},\"selection_glyph\":null,\"view\":{\"id\":\"9196\",\"type\":\"CDSView\"}},\"id\":\"9195\",\"type\":\"GlyphRenderer\"},{\"attributes\":{\"callback\":null},\"id\":\"9102\",\"type\":\"DataRange1d\"},{\"attributes\":{\"line_alpha\":0.1,\"line_color\":\"#1f77b4\",\"line_width\":3,\"x\":{\"field\":\"x\"},\"y\":{\"field\":\"y\"}},\"id\":\"9174\",\"type\":\"Line\"},{\"attributes\":{\"source\":{\"id\":\"9146\",\"type\":\"ColumnDataSource\"}},\"id\":\"9150\",\"type\":\"CDSView\"},{\"attributes\":{},\"id\":\"9565\",\"type\":\"UnionRenderers\"},{\"attributes\":{},\"id\":\"9124\",\"type\":\"ResetTool\"},{\"attributes\":{\"text\":\"School enrollment, tertiary (% gross) weighted against Population, total\"},\"id\":\"9100\",\"type\":\"Title\"},{\"attributes\":{\"source\":{\"id\":\"9172\",\"type\":\"ColumnDataSource\"}},\"id\":\"9176\",\"type\":\"CDSView\"},{\"attributes\":{\"line_color\":\"#5430F1\",\"line_width\":3,\"x\":{\"field\":\"x\"},\"y\":{\"field\":\"y\"}},\"id\":\"9152\",\"type\":\"Line\"},{\"attributes\":{\"active_drag\":\"auto\",\"active_inspect\":\"auto\",\"active_multi\":null,\"active_scroll\":\"auto\",\"active_tap\":\"auto\",\"tools\":[{\"id\":\"9120\",\"type\":\"PanTool\"},{\"id\":\"9121\",\"type\":\"WheelZoomTool\"},{\"id\":\"9122\",\"type\":\"BoxZoomTool\"},{\"id\":\"9123\",\"type\":\"SaveTool\"},{\"id\":\"9124\",\"type\":\"ResetTool\"},{\"id\":\"9125\",\"type\":\"HelpTool\"},{\"id\":\"9197\",\"type\":\"HoverTool\"}]},\"id\":\"9126\",\"type\":\"Toolbar\"},{\"attributes\":{\"callback\":null},\"id\":\"9104\",\"type\":\"DataRange1d\"},{\"attributes\":{\"data_source\":{\"id\":\"9151\",\"type\":\"ColumnDataSource\"},\"glyph\":{\"id\":\"9152\",\"type\":\"Line\"},\"hover_glyph\":null,\"muted_glyph\":null,\"nonselection_glyph\":{\"id\":\"9153\",\"type\":\"Line\"},\"selection_glyph\":null,\"view\":{\"id\":\"9155\",\"type\":\"CDSView\"}},\"id\":\"9154\",\"type\":\"GlyphRenderer\"},{\"attributes\":{},\"id\":\"9566\",\"type\":\"Selection\"},{\"attributes\":{\"data_source\":{\"id\":\"9133\",\"type\":\"ColumnDataSource\"},\"glyph\":{\"id\":\"9134\",\"type\":\"Line\"},\"hover_glyph\":null,\"muted_glyph\":null,\"nonselection_glyph\":{\"id\":\"9135\",\"type\":\"Line\"},\"selection_glyph\":null,\"view\":{\"id\":\"9137\",\"type\":\"CDSView\"}},\"id\":\"9136\",\"type\":\"GlyphRenderer\"},{\"attributes\":{},\"id\":\"9108\",\"type\":\"LinearScale\"},{\"attributes\":{},\"id\":\"9186\",\"type\":\"UnionRenderers\"},{\"attributes\":{\"line_alpha\":0.1,\"line_color\":\"#1f77b4\",\"line_width\":3,\"x\":{\"field\":\"x\"},\"y\":{\"field\":\"y\"}},\"id\":\"9153\",\"type\":\"Line\"},{\"attributes\":{},\"id\":\"9187\",\"type\":\"Selection\"},{\"attributes\":{},\"id\":\"9106\",\"type\":\"LinearScale\"},{\"attributes\":{\"source\":{\"id\":\"9133\",\"type\":\"ColumnDataSource\"}},\"id\":\"9137\",\"type\":\"CDSView\"},{\"attributes\":{\"source\":{\"id\":\"9151\",\"type\":\"ColumnDataSource\"}},\"id\":\"9155\",\"type\":\"CDSView\"},{\"attributes\":{\"axis_label\":\"Years\",\"formatter\":{\"id\":\"9141\",\"type\":\"BasicTickFormatter\"},\"ticker\":{\"id\":\"9111\",\"type\":\"BasicTicker\"}},\"id\":\"9110\",\"type\":\"LinearAxis\"},{\"attributes\":{},\"id\":\"9139\",\"type\":\"BasicTickFormatter\"},{\"attributes\":{},\"id\":\"9162\",\"type\":\"Selection\"},{\"attributes\":{},\"id\":\"9189\",\"type\":\"Selection\"},{\"attributes\":{\"grid_line_color\":null,\"ticker\":{\"id\":\"9111\",\"type\":\"BasicTicker\"}},\"id\":\"9114\",\"type\":\"Grid\"},{\"attributes\":{\"axis_label\":\"SE.TER.ENRR\",\"formatter\":{\"id\":\"9139\",\"type\":\"BasicTickFormatter\"},\"ticker\":{\"id\":\"9116\",\"type\":\"BasicTicker\"}},\"id\":\"9115\",\"type\":\"LinearAxis\"},{\"attributes\":{},\"id\":\"9161\",\"type\":\"UnionRenderers\"},{\"attributes\":{},\"id\":\"9141\",\"type\":\"BasicTickFormatter\"},{\"attributes\":{\"label\":{\"value\":\"UMICs\"},\"renderers\":[{\"id\":\"9175\",\"type\":\"GlyphRenderer\"}]},\"id\":\"9191\",\"type\":\"LegendItem\"},{\"attributes\":{},\"id\":\"9111\",\"type\":\"BasicTicker\"},{\"attributes\":{},\"id\":\"9163\",\"type\":\"UnionRenderers\"},{\"attributes\":{},\"id\":\"9188\",\"type\":\"UnionRenderers\"},{\"attributes\":{\"bottom_units\":\"screen\",\"fill_alpha\":{\"value\":0.5},\"fill_color\":{\"value\":\"lightgrey\"},\"left_units\":\"screen\",\"level\":\"overlay\",\"line_alpha\":{\"value\":1.0},\"line_color\":{\"value\":\"black\"},\"line_dash\":[4,4],\"line_width\":{\"value\":2},\"render_mode\":\"css\",\"right_units\":\"screen\",\"top_units\":\"screen\"},\"id\":\"9143\",\"type\":\"BoxAnnotation\"},{\"attributes\":{},\"id\":\"9116\",\"type\":\"BasicTicker\"},{\"attributes\":{\"label\":{\"value\":\"Developing excluding LDCs\"},\"renderers\":[{\"id\":\"9154\",\"type\":\"GlyphRenderer\"}]},\"id\":\"9166\",\"type\":\"LegendItem\"},{\"attributes\":{\"fill_color\":{\"value\":\"#2CC775\"},\"line_color\":{\"value\":\"#2CC775\"},\"size\":{\"units\":\"screen\",\"value\":1},\"x\":{\"field\":\"x\"},\"y\":{\"field\":\"y\"}},\"id\":\"9193\",\"type\":\"Circle\"},{\"attributes\":{\"callback\":null,\"data\":{\"x\":[\"2010\",\"2011\",\"2012\",\"2013\",\"2014\"],\"y\":[29.578342099714497,35.0387071416137,36.74134581365902,39.400822883016104,45.86198074086463]},\"selected\":{\"id\":\"9566\",\"type\":\"Selection\"},\"selection_policy\":{\"id\":\"9565\",\"type\":\"UnionRenderers\"}},\"id\":\"9192\",\"type\":\"ColumnDataSource\"},{\"attributes\":{\"line_color\":\"#FA1857\",\"line_width\":3,\"x\":{\"field\":\"x\"},\"y\":{\"field\":\"y\"}},\"id\":\"9134\",\"type\":\"Line\"}],\"root_ids\":[\"9099\"]},\"title\":\"Bokeh Application\",\"version\":\"1.3.4\"}};\n",
       "  var render_items = [{\"docid\":\"9c473923-72f4-4084-9942-54041128c57c\",\"roots\":{\"9099\":\"e6b87f74-d336-4f47-9b19-f1a971b092cb\"}}];\n",
       "  root.Bokeh.embed.embed_items_notebook(docs_json, render_items);\n",
       "\n",
       "  }\n",
       "  if (root.Bokeh !== undefined) {\n",
       "    embed_document(root);\n",
       "  } else {\n",
       "    var attempts = 0;\n",
       "    var timer = setInterval(function(root) {\n",
       "      if (root.Bokeh !== undefined) {\n",
       "        embed_document(root);\n",
       "        clearInterval(timer);\n",
       "      }\n",
       "      attempts++;\n",
       "      if (attempts > 100) {\n",
       "        console.log(\"Bokeh: ERROR: Unable to run BokehJS code because BokehJS library is missing\");\n",
       "        clearInterval(timer);\n",
       "      }\n",
       "    }, 10, root)\n",
       "  }\n",
       "})(window);"
      ],
      "application/vnd.bokehjs_exec.v0+json": ""
     },
     "metadata": {
      "application/vnd.bokehjs_exec.v0+json": {
       "id": "9099"
      }
     },
     "output_type": "display_data"
    }
   ],
   "source": [
    "# School enrollment, tertiary\n",
    "years = list(map(str, list(range(2010,2015))))\n",
    "result = show_weighted_average(years, 'SE.TER.ENRR', 'SP.POP.TOTL', \n",
    "                               ['LDCs', 'Developing excluding LDCs', 'UMICs'], \n",
    "                                height=400, width=1000, line_width=3)"
   ]
  },
  {
   "cell_type": "code",
   "execution_count": 29,
   "metadata": {
    "ExecuteTime": {
     "end_time": "2019-10-25T14:25:43.236189Z",
     "start_time": "2019-10-25T14:25:38.332666Z"
    },
    "slideshow": {
     "slide_type": "slide"
    }
   },
   "outputs": [
    {
     "data": {
      "text/html": [
       "\n",
       "\n",
       "\n",
       "\n",
       "\n",
       "\n",
       "  <div class=\"bk-root\" id=\"653138ed-c9f7-4729-909a-9873eb29b64a\" data-root-id=\"9676\"></div>\n"
      ]
     },
     "metadata": {},
     "output_type": "display_data"
    },
    {
     "data": {
      "application/javascript": [
       "(function(root) {\n",
       "  function embed_document(root) {\n",
       "    \n",
       "  var docs_json = {\"008dd84a-20e5-498d-904a-da978035f75b\":{\"roots\":{\"references\":[{\"attributes\":{\"below\":[{\"id\":\"9687\",\"type\":\"LinearAxis\"}],\"center\":[{\"id\":\"9691\",\"type\":\"Grid\"},{\"id\":\"9696\",\"type\":\"Grid\"},{\"id\":\"9721\",\"type\":\"Legend\"}],\"left\":[{\"id\":\"9692\",\"type\":\"LinearAxis\"}],\"plot_height\":400,\"plot_width\":1000,\"renderers\":[{\"id\":\"9713\",\"type\":\"GlyphRenderer\"},{\"id\":\"9726\",\"type\":\"GlyphRenderer\"},{\"id\":\"9731\",\"type\":\"GlyphRenderer\"},{\"id\":\"9747\",\"type\":\"GlyphRenderer\"}],\"title\":{\"id\":\"9677\",\"type\":\"Title\"},\"toolbar\":{\"id\":\"9703\",\"type\":\"Toolbar\"},\"x_range\":{\"id\":\"9679\",\"type\":\"DataRange1d\"},\"x_scale\":{\"id\":\"9683\",\"type\":\"LinearScale\"},\"y_range\":{\"id\":\"9681\",\"type\":\"DataRange1d\"},\"y_scale\":{\"id\":\"9685\",\"type\":\"LinearScale\"}},\"id\":\"9676\",\"subtype\":\"Figure\",\"type\":\"Plot\"},{\"attributes\":{},\"id\":\"9702\",\"type\":\"HelpTool\"},{\"attributes\":{},\"id\":\"10130\",\"type\":\"Selection\"},{\"attributes\":{\"line_alpha\":0.1,\"line_color\":\"#1f77b4\",\"line_width\":4,\"x\":{\"field\":\"x\"},\"y\":{\"field\":\"y\"}},\"id\":\"9730\",\"type\":\"Line\"},{\"attributes\":{},\"id\":\"9688\",\"type\":\"BasicTicker\"},{\"attributes\":{\"text\":\"Pupil-teacher ratio, primary weighted against Population, total\"},\"id\":\"9677\",\"type\":\"Title\"},{\"attributes\":{\"axis_label\":\"SE.PRM.ENRL.TC.ZS\",\"formatter\":{\"id\":\"9716\",\"type\":\"BasicTickFormatter\"},\"ticker\":{\"id\":\"9693\",\"type\":\"BasicTicker\"}},\"id\":\"9692\",\"type\":\"LinearAxis\"},{\"attributes\":{\"data_source\":{\"id\":\"9710\",\"type\":\"ColumnDataSource\"},\"glyph\":{\"id\":\"9711\",\"type\":\"Line\"},\"hover_glyph\":null,\"muted_glyph\":null,\"nonselection_glyph\":{\"id\":\"9712\",\"type\":\"Line\"},\"selection_glyph\":null,\"view\":{\"id\":\"9714\",\"type\":\"CDSView\"}},\"id\":\"9713\",\"type\":\"GlyphRenderer\"},{\"attributes\":{\"callback\":null,\"tooltips\":\"                \\n        <div style=padding=5px>Year:@x</div>\\n        <div style=padding=5px>Value:@y</div>        \\n        \"},\"id\":\"9749\",\"type\":\"HoverTool\"},{\"attributes\":{\"source\":{\"id\":\"9710\",\"type\":\"ColumnDataSource\"}},\"id\":\"9714\",\"type\":\"CDSView\"},{\"attributes\":{\"label\":{\"value\":\"Developing excluding LDCs\"},\"renderers\":[{\"id\":\"9731\",\"type\":\"GlyphRenderer\"}]},\"id\":\"9743\",\"type\":\"LegendItem\"},{\"attributes\":{\"axis_label\":\"Years\",\"formatter\":{\"id\":\"9718\",\"type\":\"BasicTickFormatter\"},\"ticker\":{\"id\":\"9688\",\"type\":\"BasicTicker\"}},\"id\":\"9687\",\"type\":\"LinearAxis\"},{\"attributes\":{},\"id\":\"10129\",\"type\":\"UnionRenderers\"},{\"attributes\":{\"bottom_units\":\"screen\",\"fill_alpha\":{\"value\":0.5},\"fill_color\":{\"value\":\"lightgrey\"},\"left_units\":\"screen\",\"level\":\"overlay\",\"line_alpha\":{\"value\":1.0},\"line_color\":{\"value\":\"black\"},\"line_dash\":[4,4],\"line_width\":{\"value\":2},\"render_mode\":\"css\",\"right_units\":\"screen\",\"top_units\":\"screen\"},\"id\":\"9720\",\"type\":\"BoxAnnotation\"},{\"attributes\":{\"fill_alpha\":{\"value\":0.1},\"fill_color\":{\"value\":\"#1f77b4\"},\"line_alpha\":{\"value\":0.1},\"line_color\":{\"value\":\"#1f77b4\"},\"size\":{\"units\":\"screen\",\"value\":1},\"x\":{\"field\":\"x\"},\"y\":{\"field\":\"y\"}},\"id\":\"9746\",\"type\":\"Circle\"},{\"attributes\":{},\"id\":\"9685\",\"type\":\"LinearScale\"},{\"attributes\":{\"data_source\":{\"id\":\"9744\",\"type\":\"ColumnDataSource\"},\"glyph\":{\"id\":\"9745\",\"type\":\"Circle\"},\"hover_glyph\":null,\"muted_glyph\":null,\"nonselection_glyph\":{\"id\":\"9746\",\"type\":\"Circle\"},\"selection_glyph\":null,\"view\":{\"id\":\"9748\",\"type\":\"CDSView\"}},\"id\":\"9747\",\"type\":\"GlyphRenderer\"},{\"attributes\":{\"line_color\":\"#FA1857\",\"line_width\":4,\"x\":{\"field\":\"x\"},\"y\":{\"field\":\"y\"}},\"id\":\"9711\",\"type\":\"Line\"},{\"attributes\":{},\"id\":\"9741\",\"type\":\"Selection\"},{\"attributes\":{\"callback\":null,\"data\":{\"x\":[\"2000\",\"2001\",\"2002\",\"2003\",\"2004\",\"2005\",\"2006\",\"2007\",\"2008\",\"2009\",\"2010\",\"2011\",\"2012\",\"2013\",\"2014\",\"2015\",\"2016\",\"2017\"],\"y\":[50.219754446492956,45.26929484916652,44.56567701152669,45.6269370204446,46.76775854418482,47.1921065769571,46.27871208171681,44.66074157882838,46.9343675391617,46.3074080366361,44.50508898614148,45.14368089916075,42.48998185792987,42.00549530078297,39.07495315457117,41.85413035115011,37.28410352715137,38.768702276413286]},\"selected\":{\"id\":\"9741\",\"type\":\"Selection\"},\"selection_policy\":{\"id\":\"9740\",\"type\":\"UnionRenderers\"}},\"id\":\"9723\",\"type\":\"ColumnDataSource\"},{\"attributes\":{},\"id\":\"10132\",\"type\":\"Selection\"},{\"attributes\":{\"grid_line_color\":null,\"ticker\":{\"id\":\"9688\",\"type\":\"BasicTicker\"}},\"id\":\"9691\",\"type\":\"Grid\"},{\"attributes\":{},\"id\":\"9718\",\"type\":\"BasicTickFormatter\"},{\"attributes\":{},\"id\":\"9698\",\"type\":\"WheelZoomTool\"},{\"attributes\":{\"items\":[{\"id\":\"9722\",\"type\":\"LegendItem\"},{\"id\":\"9743\",\"type\":\"LegendItem\"}],\"location\":\"bottom_left\"},\"id\":\"9721\",\"type\":\"Legend\"},{\"attributes\":{},\"id\":\"9693\",\"type\":\"BasicTicker\"},{\"attributes\":{},\"id\":\"9738\",\"type\":\"UnionRenderers\"},{\"attributes\":{\"data_source\":{\"id\":\"9723\",\"type\":\"ColumnDataSource\"},\"glyph\":{\"id\":\"9724\",\"type\":\"Circle\"},\"hover_glyph\":null,\"muted_glyph\":null,\"nonselection_glyph\":{\"id\":\"9725\",\"type\":\"Circle\"},\"selection_glyph\":null,\"view\":{\"id\":\"9727\",\"type\":\"CDSView\"}},\"id\":\"9726\",\"type\":\"GlyphRenderer\"},{\"attributes\":{\"label\":{\"value\":\"LDCs\"},\"renderers\":[{\"id\":\"9713\",\"type\":\"GlyphRenderer\"}]},\"id\":\"9722\",\"type\":\"LegendItem\"},{\"attributes\":{\"dimension\":1,\"grid_line_alpha\":0.5,\"ticker\":{\"id\":\"9693\",\"type\":\"BasicTicker\"}},\"id\":\"9696\",\"type\":\"Grid\"},{\"attributes\":{},\"id\":\"9740\",\"type\":\"UnionRenderers\"},{\"attributes\":{},\"id\":\"10131\",\"type\":\"UnionRenderers\"},{\"attributes\":{},\"id\":\"9701\",\"type\":\"ResetTool\"},{\"attributes\":{\"fill_color\":{\"value\":\"#FA1857\"},\"line_color\":{\"value\":\"#FA1857\"},\"size\":{\"units\":\"screen\",\"value\":1},\"x\":{\"field\":\"x\"},\"y\":{\"field\":\"y\"}},\"id\":\"9724\",\"type\":\"Circle\"},{\"attributes\":{},\"id\":\"9683\",\"type\":\"LinearScale\"},{\"attributes\":{\"line_color\":\"#5430F1\",\"line_width\":4,\"x\":{\"field\":\"x\"},\"y\":{\"field\":\"y\"}},\"id\":\"9729\",\"type\":\"Line\"},{\"attributes\":{},\"id\":\"9697\",\"type\":\"PanTool\"},{\"attributes\":{\"fill_alpha\":{\"value\":0.1},\"fill_color\":{\"value\":\"#1f77b4\"},\"line_alpha\":{\"value\":0.1},\"line_color\":{\"value\":\"#1f77b4\"},\"size\":{\"units\":\"screen\",\"value\":1},\"x\":{\"field\":\"x\"},\"y\":{\"field\":\"y\"}},\"id\":\"9725\",\"type\":\"Circle\"},{\"attributes\":{\"fill_color\":{\"value\":\"#5430F1\"},\"line_color\":{\"value\":\"#5430F1\"},\"size\":{\"units\":\"screen\",\"value\":1},\"x\":{\"field\":\"x\"},\"y\":{\"field\":\"y\"}},\"id\":\"9745\",\"type\":\"Circle\"},{\"attributes\":{\"callback\":null,\"data\":{\"x\":[\"2000\",\"2001\",\"2002\",\"2003\",\"2004\",\"2005\",\"2006\",\"2007\",\"2008\",\"2009\",\"2010\",\"2011\",\"2012\",\"2013\",\"2014\",\"2015\",\"2016\",\"2017\"],\"y\":[50.219754446492956,45.26929484916652,44.56567701152669,45.6269370204446,46.76775854418482,47.1921065769571,46.27871208171681,44.66074157882838,46.9343675391617,46.3074080366361,44.50508898614148,45.14368089916075,42.48998185792987,42.00549530078297,39.07495315457117,41.85413035115011,37.28410352715137,38.768702276413286]},\"selected\":{\"id\":\"9739\",\"type\":\"Selection\"},\"selection_policy\":{\"id\":\"9738\",\"type\":\"UnionRenderers\"}},\"id\":\"9710\",\"type\":\"ColumnDataSource\"},{\"attributes\":{\"source\":{\"id\":\"9723\",\"type\":\"ColumnDataSource\"}},\"id\":\"9727\",\"type\":\"CDSView\"},{\"attributes\":{\"line_alpha\":0.1,\"line_color\":\"#1f77b4\",\"line_width\":4,\"x\":{\"field\":\"x\"},\"y\":{\"field\":\"y\"}},\"id\":\"9712\",\"type\":\"Line\"},{\"attributes\":{},\"id\":\"9739\",\"type\":\"Selection\"},{\"attributes\":{\"callback\":null},\"id\":\"9681\",\"type\":\"DataRange1d\"},{\"attributes\":{\"source\":{\"id\":\"9728\",\"type\":\"ColumnDataSource\"}},\"id\":\"9732\",\"type\":\"CDSView\"},{\"attributes\":{},\"id\":\"9700\",\"type\":\"SaveTool\"},{\"attributes\":{\"callback\":null,\"data\":{\"x\":[\"2000\",\"2001\",\"2002\",\"2003\",\"2004\",\"2005\",\"2006\",\"2007\",\"2008\",\"2009\",\"2010\",\"2011\",\"2012\",\"2013\",\"2014\",\"2015\",\"2016\",\"2017\"],\"y\":[33.37755563924882,29.576682084815303,33.39105245017255,33.78858371701915,27.636590845295633,27.45339800030305,23.324341793120627,23.17127908568781,22.095315459859545,21.858282304050356,21.554388636153632,25.18934762572364,21.227554530089638,24.16219498381551,24.02036266685082,24.579997184779092,25.221609621925957,24.28833783517891]},\"selected\":{\"id\":\"10130\",\"type\":\"Selection\"},\"selection_policy\":{\"id\":\"10129\",\"type\":\"UnionRenderers\"}},\"id\":\"9728\",\"type\":\"ColumnDataSource\"},{\"attributes\":{\"callback\":null,\"data\":{\"x\":[\"2000\",\"2001\",\"2002\",\"2003\",\"2004\",\"2005\",\"2006\",\"2007\",\"2008\",\"2009\",\"2010\",\"2011\",\"2012\",\"2013\",\"2014\",\"2015\",\"2016\",\"2017\"],\"y\":[33.37755563924882,29.576682084815303,33.39105245017255,33.78858371701915,27.636590845295633,27.45339800030305,23.324341793120627,23.17127908568781,22.095315459859545,21.858282304050356,21.554388636153632,25.18934762572364,21.227554530089638,24.16219498381551,24.02036266685082,24.579997184779092,25.221609621925957,24.28833783517891]},\"selected\":{\"id\":\"10132\",\"type\":\"Selection\"},\"selection_policy\":{\"id\":\"10131\",\"type\":\"UnionRenderers\"}},\"id\":\"9744\",\"type\":\"ColumnDataSource\"},{\"attributes\":{\"data_source\":{\"id\":\"9728\",\"type\":\"ColumnDataSource\"},\"glyph\":{\"id\":\"9729\",\"type\":\"Line\"},\"hover_glyph\":null,\"muted_glyph\":null,\"nonselection_glyph\":{\"id\":\"9730\",\"type\":\"Line\"},\"selection_glyph\":null,\"view\":{\"id\":\"9732\",\"type\":\"CDSView\"}},\"id\":\"9731\",\"type\":\"GlyphRenderer\"},{\"attributes\":{\"overlay\":{\"id\":\"9720\",\"type\":\"BoxAnnotation\"}},\"id\":\"9699\",\"type\":\"BoxZoomTool\"},{\"attributes\":{},\"id\":\"9716\",\"type\":\"BasicTickFormatter\"},{\"attributes\":{\"callback\":null},\"id\":\"9679\",\"type\":\"DataRange1d\"},{\"attributes\":{\"active_drag\":\"auto\",\"active_inspect\":\"auto\",\"active_multi\":null,\"active_scroll\":\"auto\",\"active_tap\":\"auto\",\"tools\":[{\"id\":\"9697\",\"type\":\"PanTool\"},{\"id\":\"9698\",\"type\":\"WheelZoomTool\"},{\"id\":\"9699\",\"type\":\"BoxZoomTool\"},{\"id\":\"9700\",\"type\":\"SaveTool\"},{\"id\":\"9701\",\"type\":\"ResetTool\"},{\"id\":\"9702\",\"type\":\"HelpTool\"},{\"id\":\"9749\",\"type\":\"HoverTool\"}]},\"id\":\"9703\",\"type\":\"Toolbar\"},{\"attributes\":{\"source\":{\"id\":\"9744\",\"type\":\"ColumnDataSource\"}},\"id\":\"9748\",\"type\":\"CDSView\"}],\"root_ids\":[\"9676\"]},\"title\":\"Bokeh Application\",\"version\":\"1.3.4\"}};\n",
       "  var render_items = [{\"docid\":\"008dd84a-20e5-498d-904a-da978035f75b\",\"roots\":{\"9676\":\"653138ed-c9f7-4729-909a-9873eb29b64a\"}}];\n",
       "  root.Bokeh.embed.embed_items_notebook(docs_json, render_items);\n",
       "\n",
       "  }\n",
       "  if (root.Bokeh !== undefined) {\n",
       "    embed_document(root);\n",
       "  } else {\n",
       "    var attempts = 0;\n",
       "    var timer = setInterval(function(root) {\n",
       "      if (root.Bokeh !== undefined) {\n",
       "        embed_document(root);\n",
       "        clearInterval(timer);\n",
       "      }\n",
       "      attempts++;\n",
       "      if (attempts > 100) {\n",
       "        console.log(\"Bokeh: ERROR: Unable to run BokehJS code because BokehJS library is missing\");\n",
       "        clearInterval(timer);\n",
       "      }\n",
       "    }, 10, root)\n",
       "  }\n",
       "})(window);"
      ],
      "application/vnd.bokehjs_exec.v0+json": ""
     },
     "metadata": {
      "application/vnd.bokehjs_exec.v0+json": {
       "id": "9676"
      }
     },
     "output_type": "display_data"
    }
   ],
   "source": [
    "# Pupil teacher ratio\n",
    "years = list(map(str, list(range(2000,2018))))\n",
    "result = show_weighted_average(years, 'SE.PRM.ENRL.TC.ZS', 'SP.POP.TOTL', \n",
    "                               ['LDCs', 'Developing excluding LDCs'], \n",
    "                                height=400, width=1000, line_width=4)"
   ]
  },
  {
   "cell_type": "code",
   "execution_count": 30,
   "metadata": {
    "ExecuteTime": {
     "end_time": "2019-10-25T14:25:45.212387Z",
     "start_time": "2019-10-25T14:25:43.238485Z"
    },
    "scrolled": true,
    "slideshow": {
     "slide_type": "slide"
    }
   },
   "outputs": [
    {
     "data": {
      "text/html": [
       "\n",
       "\n",
       "\n",
       "\n",
       "\n",
       "\n",
       "  <div class=\"bk-root\" id=\"afb51f89-c2d1-438e-97a4-313e973c3189\" data-root-id=\"10218\"></div>\n"
      ]
     },
     "metadata": {},
     "output_type": "display_data"
    },
    {
     "data": {
      "application/javascript": [
       "(function(root) {\n",
       "  function embed_document(root) {\n",
       "    \n",
       "  var docs_json = {\"8cf264ac-48c3-4024-bc57-0cfa4871a405\":{\"roots\":{\"references\":[{\"attributes\":{\"below\":[{\"id\":\"10229\",\"type\":\"LinearAxis\"}],\"center\":[{\"id\":\"10233\",\"type\":\"Grid\"},{\"id\":\"10238\",\"type\":\"Grid\"},{\"id\":\"10263\",\"type\":\"Legend\"}],\"left\":[{\"id\":\"10234\",\"type\":\"LinearAxis\"}],\"plot_height\":400,\"plot_width\":1000,\"renderers\":[{\"id\":\"10255\",\"type\":\"GlyphRenderer\"},{\"id\":\"10268\",\"type\":\"GlyphRenderer\"},{\"id\":\"10273\",\"type\":\"GlyphRenderer\"},{\"id\":\"10289\",\"type\":\"GlyphRenderer\"},{\"id\":\"10294\",\"type\":\"GlyphRenderer\"},{\"id\":\"10314\",\"type\":\"GlyphRenderer\"}],\"title\":{\"id\":\"10219\",\"type\":\"Title\"},\"toolbar\":{\"id\":\"10245\",\"type\":\"Toolbar\"},\"x_range\":{\"id\":\"10221\",\"type\":\"DataRange1d\"},\"x_scale\":{\"id\":\"10225\",\"type\":\"LinearScale\"},\"y_range\":{\"id\":\"10223\",\"type\":\"DataRange1d\"},\"y_scale\":{\"id\":\"10227\",\"type\":\"LinearScale\"}},\"id\":\"10218\",\"subtype\":\"Figure\",\"type\":\"Plot\"},{\"attributes\":{},\"id\":\"10258\",\"type\":\"BasicTickFormatter\"},{\"attributes\":{},\"id\":\"10280\",\"type\":\"UnionRenderers\"},{\"attributes\":{\"label\":{\"value\":\"LDCs\"},\"renderers\":[{\"id\":\"10255\",\"type\":\"GlyphRenderer\"}]},\"id\":\"10264\",\"type\":\"LegendItem\"},{\"attributes\":{},\"id\":\"10714\",\"type\":\"UnionRenderers\"},{\"attributes\":{\"axis_label\":\"Years\",\"formatter\":{\"id\":\"10260\",\"type\":\"BasicTickFormatter\"},\"ticker\":{\"id\":\"10230\",\"type\":\"BasicTicker\"}},\"id\":\"10229\",\"type\":\"LinearAxis\"},{\"attributes\":{\"source\":{\"id\":\"10252\",\"type\":\"ColumnDataSource\"}},\"id\":\"10256\",\"type\":\"CDSView\"},{\"attributes\":{},\"id\":\"10281\",\"type\":\"Selection\"},{\"attributes\":{\"fill_alpha\":{\"value\":0.1},\"fill_color\":{\"value\":\"#1f77b4\"},\"line_alpha\":{\"value\":0.1},\"line_color\":{\"value\":\"#1f77b4\"},\"size\":{\"units\":\"screen\",\"value\":1},\"x\":{\"field\":\"x\"},\"y\":{\"field\":\"y\"}},\"id\":\"10313\",\"type\":\"Circle\"},{\"attributes\":{},\"id\":\"10260\",\"type\":\"BasicTickFormatter\"},{\"attributes\":{\"callback\":null},\"id\":\"10221\",\"type\":\"DataRange1d\"},{\"attributes\":{\"line_color\":\"#5430F1\",\"line_width\":4,\"x\":{\"field\":\"x\"},\"y\":{\"field\":\"y\"}},\"id\":\"10271\",\"type\":\"Line\"},{\"attributes\":{},\"id\":\"10715\",\"type\":\"Selection\"},{\"attributes\":{\"callback\":null,\"data\":{\"x\":[\"2005\",\"2006\",\"2007\",\"2008\",\"2009\",\"2010\",\"2011\",\"2012\",\"2013\",\"2014\"],\"y\":[80.72632882678737,81.71278915097777,90.68777914211722,90.47838782500084,90.73361691395684,84.09064780984899,88.1094587699186,88.97810074188251,90.90131756789039,93.93159751056649]},\"selected\":{\"id\":\"10308\",\"type\":\"Selection\"},\"selection_policy\":{\"id\":\"10307\",\"type\":\"UnionRenderers\"}},\"id\":\"10286\",\"type\":\"ColumnDataSource\"},{\"attributes\":{},\"id\":\"10230\",\"type\":\"BasicTicker\"},{\"attributes\":{},\"id\":\"10244\",\"type\":\"HelpTool\"},{\"attributes\":{\"data_source\":{\"id\":\"10311\",\"type\":\"ColumnDataSource\"},\"glyph\":{\"id\":\"10312\",\"type\":\"Circle\"},\"hover_glyph\":null,\"muted_glyph\":null,\"nonselection_glyph\":{\"id\":\"10313\",\"type\":\"Circle\"},\"selection_glyph\":null,\"view\":{\"id\":\"10315\",\"type\":\"CDSView\"}},\"id\":\"10314\",\"type\":\"GlyphRenderer\"},{\"attributes\":{\"callback\":null},\"id\":\"10223\",\"type\":\"DataRange1d\"},{\"attributes\":{},\"id\":\"10282\",\"type\":\"UnionRenderers\"},{\"attributes\":{\"label\":{\"value\":\"OECD\"},\"renderers\":[{\"id\":\"10294\",\"type\":\"GlyphRenderer\"}]},\"id\":\"10310\",\"type\":\"LegendItem\"},{\"attributes\":{\"active_drag\":\"auto\",\"active_inspect\":\"auto\",\"active_multi\":null,\"active_scroll\":\"auto\",\"active_tap\":\"auto\",\"tools\":[{\"id\":\"10239\",\"type\":\"PanTool\"},{\"id\":\"10240\",\"type\":\"WheelZoomTool\"},{\"id\":\"10241\",\"type\":\"BoxZoomTool\"},{\"id\":\"10242\",\"type\":\"SaveTool\"},{\"id\":\"10243\",\"type\":\"ResetTool\"},{\"id\":\"10244\",\"type\":\"HelpTool\"},{\"id\":\"10316\",\"type\":\"HoverTool\"}]},\"id\":\"10245\",\"type\":\"Toolbar\"},{\"attributes\":{\"label\":{\"value\":\"Developing excluding LDCs\"},\"renderers\":[{\"id\":\"10273\",\"type\":\"GlyphRenderer\"}]},\"id\":\"10285\",\"type\":\"LegendItem\"},{\"attributes\":{\"source\":{\"id\":\"10311\",\"type\":\"ColumnDataSource\"}},\"id\":\"10315\",\"type\":\"CDSView\"},{\"attributes\":{},\"id\":\"10225\",\"type\":\"LinearScale\"},{\"attributes\":{\"source\":{\"id\":\"10286\",\"type\":\"ColumnDataSource\"}},\"id\":\"10290\",\"type\":\"CDSView\"},{\"attributes\":{\"overlay\":{\"id\":\"10262\",\"type\":\"BoxAnnotation\"}},\"id\":\"10241\",\"type\":\"BoxZoomTool\"},{\"attributes\":{},\"id\":\"10283\",\"type\":\"Selection\"},{\"attributes\":{\"data_source\":{\"id\":\"10252\",\"type\":\"ColumnDataSource\"},\"glyph\":{\"id\":\"10253\",\"type\":\"Line\"},\"hover_glyph\":null,\"muted_glyph\":null,\"nonselection_glyph\":{\"id\":\"10254\",\"type\":\"Line\"},\"selection_glyph\":null,\"view\":{\"id\":\"10256\",\"type\":\"CDSView\"}},\"id\":\"10255\",\"type\":\"GlyphRenderer\"},{\"attributes\":{\"source\":{\"id\":\"10270\",\"type\":\"ColumnDataSource\"}},\"id\":\"10274\",\"type\":\"CDSView\"},{\"attributes\":{\"callback\":null,\"data\":{\"x\":[\"2005\",\"2006\",\"2007\",\"2008\",\"2009\",\"2010\",\"2011\",\"2012\",\"2013\",\"2014\"],\"y\":[94.93443,95.15333,95.36857,95.04649,95.58816,95.58591,96.00005,95.99993,96.40006,96.78775]},\"selected\":{\"id\":\"10717\",\"type\":\"Selection\"},\"selection_policy\":{\"id\":\"10716\",\"type\":\"UnionRenderers\"}},\"id\":\"10311\",\"type\":\"ColumnDataSource\"},{\"attributes\":{},\"id\":\"10243\",\"type\":\"ResetTool\"},{\"attributes\":{},\"id\":\"10306\",\"type\":\"Selection\"},{\"attributes\":{\"text\":\"Trained teachers in primary education (% of total teachers) weighted against Primary education, teachers\"},\"id\":\"10219\",\"type\":\"Title\"},{\"attributes\":{\"line_alpha\":0.1,\"line_color\":\"#1f77b4\",\"line_width\":4,\"x\":{\"field\":\"x\"},\"y\":{\"field\":\"y\"}},\"id\":\"10272\",\"type\":\"Line\"},{\"attributes\":{},\"id\":\"10242\",\"type\":\"SaveTool\"},{\"attributes\":{\"fill_color\":{\"value\":\"#2CC775\"},\"line_color\":{\"value\":\"#2CC775\"},\"size\":{\"units\":\"screen\",\"value\":1},\"x\":{\"field\":\"x\"},\"y\":{\"field\":\"y\"}},\"id\":\"10312\",\"type\":\"Circle\"},{\"attributes\":{\"line_alpha\":0.1,\"line_color\":\"#1f77b4\",\"line_width\":4,\"x\":{\"field\":\"x\"},\"y\":{\"field\":\"y\"}},\"id\":\"10254\",\"type\":\"Line\"},{\"attributes\":{\"data_source\":{\"id\":\"10286\",\"type\":\"ColumnDataSource\"},\"glyph\":{\"id\":\"10287\",\"type\":\"Circle\"},\"hover_glyph\":null,\"muted_glyph\":null,\"nonselection_glyph\":{\"id\":\"10288\",\"type\":\"Circle\"},\"selection_glyph\":null,\"view\":{\"id\":\"10290\",\"type\":\"CDSView\"}},\"id\":\"10289\",\"type\":\"GlyphRenderer\"},{\"attributes\":{\"data_source\":{\"id\":\"10270\",\"type\":\"ColumnDataSource\"},\"glyph\":{\"id\":\"10271\",\"type\":\"Line\"},\"hover_glyph\":null,\"muted_glyph\":null,\"nonselection_glyph\":{\"id\":\"10272\",\"type\":\"Line\"},\"selection_glyph\":null,\"view\":{\"id\":\"10274\",\"type\":\"CDSView\"}},\"id\":\"10273\",\"type\":\"GlyphRenderer\"},{\"attributes\":{\"callback\":null,\"tooltips\":\"                \\n        <div style=padding=5px>Year:@x</div>\\n        <div style=padding=5px>Value:@y</div>        \\n        \"},\"id\":\"10316\",\"type\":\"HoverTool\"},{\"attributes\":{},\"id\":\"10307\",\"type\":\"UnionRenderers\"},{\"attributes\":{\"data_source\":{\"id\":\"10265\",\"type\":\"ColumnDataSource\"},\"glyph\":{\"id\":\"10266\",\"type\":\"Circle\"},\"hover_glyph\":null,\"muted_glyph\":null,\"nonselection_glyph\":{\"id\":\"10267\",\"type\":\"Circle\"},\"selection_glyph\":null,\"view\":{\"id\":\"10269\",\"type\":\"CDSView\"}},\"id\":\"10268\",\"type\":\"GlyphRenderer\"},{\"attributes\":{},\"id\":\"10240\",\"type\":\"WheelZoomTool\"},{\"attributes\":{\"data_source\":{\"id\":\"10291\",\"type\":\"ColumnDataSource\"},\"glyph\":{\"id\":\"10292\",\"type\":\"Line\"},\"hover_glyph\":null,\"muted_glyph\":null,\"nonselection_glyph\":{\"id\":\"10293\",\"type\":\"Line\"},\"selection_glyph\":null,\"view\":{\"id\":\"10295\",\"type\":\"CDSView\"}},\"id\":\"10294\",\"type\":\"GlyphRenderer\"},{\"attributes\":{\"source\":{\"id\":\"10265\",\"type\":\"ColumnDataSource\"}},\"id\":\"10269\",\"type\":\"CDSView\"},{\"attributes\":{},\"id\":\"10239\",\"type\":\"PanTool\"},{\"attributes\":{},\"id\":\"10308\",\"type\":\"Selection\"},{\"attributes\":{\"fill_alpha\":{\"value\":0.1},\"fill_color\":{\"value\":\"#1f77b4\"},\"line_alpha\":{\"value\":0.1},\"line_color\":{\"value\":\"#1f77b4\"},\"size\":{\"units\":\"screen\",\"value\":1},\"x\":{\"field\":\"x\"},\"y\":{\"field\":\"y\"}},\"id\":\"10288\",\"type\":\"Circle\"},{\"attributes\":{\"callback\":null,\"data\":{\"x\":[\"2005\",\"2006\",\"2007\",\"2008\",\"2009\",\"2010\",\"2011\",\"2012\",\"2013\",\"2014\"],\"y\":[80.72632882678737,81.71278915097777,90.68777914211722,90.47838782500084,90.73361691395684,84.09064780984899,88.1094587699186,88.97810074188251,90.90131756789039,93.93159751056649]},\"selected\":{\"id\":\"10306\",\"type\":\"Selection\"},\"selection_policy\":{\"id\":\"10305\",\"type\":\"UnionRenderers\"}},\"id\":\"10270\",\"type\":\"ColumnDataSource\"},{\"attributes\":{\"source\":{\"id\":\"10291\",\"type\":\"ColumnDataSource\"}},\"id\":\"10295\",\"type\":\"CDSView\"},{\"attributes\":{\"line_color\":\"#FA1857\",\"line_width\":4,\"x\":{\"field\":\"x\"},\"y\":{\"field\":\"y\"}},\"id\":\"10253\",\"type\":\"Line\"},{\"attributes\":{\"callback\":null,\"data\":{\"x\":[\"2005\",\"2006\",\"2007\",\"2008\",\"2009\",\"2010\",\"2011\",\"2012\",\"2013\",\"2014\"],\"y\":[66.33843499380261,73.6181546297905,79.87922435274227,76.22568962608408,80.2435538339136,84.97842027154721,70.47245477285507,81.31887968744829,76.00179129461559,81.44549818899193]},\"selected\":{\"id\":\"10283\",\"type\":\"Selection\"},\"selection_policy\":{\"id\":\"10282\",\"type\":\"UnionRenderers\"}},\"id\":\"10265\",\"type\":\"ColumnDataSource\"},{\"attributes\":{\"callback\":null,\"data\":{\"x\":[\"2005\",\"2006\",\"2007\",\"2008\",\"2009\",\"2010\",\"2011\",\"2012\",\"2013\",\"2014\"],\"y\":[94.93443,95.15333,95.36857,95.04649,95.58816,95.58591,96.00005,95.99993,96.40006,96.78775]},\"selected\":{\"id\":\"10715\",\"type\":\"Selection\"},\"selection_policy\":{\"id\":\"10714\",\"type\":\"UnionRenderers\"}},\"id\":\"10291\",\"type\":\"ColumnDataSource\"},{\"attributes\":{\"dimension\":1,\"grid_line_alpha\":0.5,\"ticker\":{\"id\":\"10235\",\"type\":\"BasicTicker\"}},\"id\":\"10238\",\"type\":\"Grid\"},{\"attributes\":{},\"id\":\"10716\",\"type\":\"UnionRenderers\"},{\"attributes\":{\"grid_line_color\":null,\"ticker\":{\"id\":\"10230\",\"type\":\"BasicTicker\"}},\"id\":\"10233\",\"type\":\"Grid\"},{\"attributes\":{\"fill_color\":{\"value\":\"#FA1857\"},\"line_color\":{\"value\":\"#FA1857\"},\"size\":{\"units\":\"screen\",\"value\":1},\"x\":{\"field\":\"x\"},\"y\":{\"field\":\"y\"}},\"id\":\"10266\",\"type\":\"Circle\"},{\"attributes\":{},\"id\":\"10305\",\"type\":\"UnionRenderers\"},{\"attributes\":{\"callback\":null,\"data\":{\"x\":[\"2005\",\"2006\",\"2007\",\"2008\",\"2009\",\"2010\",\"2011\",\"2012\",\"2013\",\"2014\"],\"y\":[66.33843499380261,73.6181546297905,79.87922435274227,76.22568962608408,80.2435538339136,84.97842027154721,70.47245477285507,81.31887968744829,76.00179129461559,81.44549818899193]},\"selected\":{\"id\":\"10281\",\"type\":\"Selection\"},\"selection_policy\":{\"id\":\"10280\",\"type\":\"UnionRenderers\"}},\"id\":\"10252\",\"type\":\"ColumnDataSource\"},{\"attributes\":{\"fill_color\":{\"value\":\"#5430F1\"},\"line_color\":{\"value\":\"#5430F1\"},\"size\":{\"units\":\"screen\",\"value\":1},\"x\":{\"field\":\"x\"},\"y\":{\"field\":\"y\"}},\"id\":\"10287\",\"type\":\"Circle\"},{\"attributes\":{},\"id\":\"10227\",\"type\":\"LinearScale\"},{\"attributes\":{\"fill_alpha\":{\"value\":0.1},\"fill_color\":{\"value\":\"#1f77b4\"},\"line_alpha\":{\"value\":0.1},\"line_color\":{\"value\":\"#1f77b4\"},\"size\":{\"units\":\"screen\",\"value\":1},\"x\":{\"field\":\"x\"},\"y\":{\"field\":\"y\"}},\"id\":\"10267\",\"type\":\"Circle\"},{\"attributes\":{\"line_color\":\"#2CC775\",\"line_width\":4,\"x\":{\"field\":\"x\"},\"y\":{\"field\":\"y\"}},\"id\":\"10292\",\"type\":\"Line\"},{\"attributes\":{\"axis_label\":\"SE.PRM.TCAQ.ZS\",\"formatter\":{\"id\":\"10258\",\"type\":\"BasicTickFormatter\"},\"ticker\":{\"id\":\"10235\",\"type\":\"BasicTicker\"}},\"id\":\"10234\",\"type\":\"LinearAxis\"},{\"attributes\":{},\"id\":\"10717\",\"type\":\"Selection\"},{\"attributes\":{\"bottom_units\":\"screen\",\"fill_alpha\":{\"value\":0.5},\"fill_color\":{\"value\":\"lightgrey\"},\"left_units\":\"screen\",\"level\":\"overlay\",\"line_alpha\":{\"value\":1.0},\"line_color\":{\"value\":\"black\"},\"line_dash\":[4,4],\"line_width\":{\"value\":2},\"render_mode\":\"css\",\"right_units\":\"screen\",\"top_units\":\"screen\"},\"id\":\"10262\",\"type\":\"BoxAnnotation\"},{\"attributes\":{\"items\":[{\"id\":\"10264\",\"type\":\"LegendItem\"},{\"id\":\"10285\",\"type\":\"LegendItem\"},{\"id\":\"10310\",\"type\":\"LegendItem\"}],\"location\":\"bottom_left\"},\"id\":\"10263\",\"type\":\"Legend\"},{\"attributes\":{\"line_alpha\":0.1,\"line_color\":\"#1f77b4\",\"line_width\":4,\"x\":{\"field\":\"x\"},\"y\":{\"field\":\"y\"}},\"id\":\"10293\",\"type\":\"Line\"},{\"attributes\":{},\"id\":\"10235\",\"type\":\"BasicTicker\"}],\"root_ids\":[\"10218\"]},\"title\":\"Bokeh Application\",\"version\":\"1.3.4\"}};\n",
       "  var render_items = [{\"docid\":\"8cf264ac-48c3-4024-bc57-0cfa4871a405\",\"roots\":{\"10218\":\"afb51f89-c2d1-438e-97a4-313e973c3189\"}}];\n",
       "  root.Bokeh.embed.embed_items_notebook(docs_json, render_items);\n",
       "\n",
       "  }\n",
       "  if (root.Bokeh !== undefined) {\n",
       "    embed_document(root);\n",
       "  } else {\n",
       "    var attempts = 0;\n",
       "    var timer = setInterval(function(root) {\n",
       "      if (root.Bokeh !== undefined) {\n",
       "        embed_document(root);\n",
       "        clearInterval(timer);\n",
       "      }\n",
       "      attempts++;\n",
       "      if (attempts > 100) {\n",
       "        console.log(\"Bokeh: ERROR: Unable to run BokehJS code because BokehJS library is missing\");\n",
       "        clearInterval(timer);\n",
       "      }\n",
       "    }, 10, root)\n",
       "  }\n",
       "})(window);"
      ],
      "application/vnd.bokehjs_exec.v0+json": ""
     },
     "metadata": {
      "application/vnd.bokehjs_exec.v0+json": {
       "id": "10218"
      }
     },
     "output_type": "display_data"
    }
   ],
   "source": [
    "# Trained teachers in primary\n",
    "years = list(map(str, list(range(2005,2015))))\n",
    "result = show_weighted_average(years, 'SE.PRM.TCAQ.ZS', 'SE.PRM.TCHR', \n",
    "                               ['LDCs', 'Developing excluding LDCs', 'OECD'], \n",
    "                                height=400, width=1000, line_width=4)"
   ]
  },
  {
   "cell_type": "code",
   "execution_count": 31,
   "metadata": {
    "ExecuteTime": {
     "end_time": "2019-10-25T14:25:47.154621Z",
     "start_time": "2019-10-25T14:25:45.217692Z"
    },
    "slideshow": {
     "slide_type": "slide"
    }
   },
   "outputs": [
    {
     "data": {
      "text/html": [
       "\n",
       "\n",
       "\n",
       "\n",
       "\n",
       "\n",
       "  <div class=\"bk-root\" id=\"0c569067-aaa2-46bd-a7f6-60a8e0fdcf51\" data-root-id=\"10827\"></div>\n"
      ]
     },
     "metadata": {},
     "output_type": "display_data"
    },
    {
     "data": {
      "application/javascript": [
       "(function(root) {\n",
       "  function embed_document(root) {\n",
       "    \n",
       "  var docs_json = {\"ea5ba1ce-71d8-4e36-a163-1940452789c1\":{\"roots\":{\"references\":[{\"attributes\":{\"below\":[{\"id\":\"10838\",\"type\":\"LinearAxis\"}],\"center\":[{\"id\":\"10842\",\"type\":\"Grid\"},{\"id\":\"10847\",\"type\":\"Grid\"},{\"id\":\"10872\",\"type\":\"Legend\"}],\"left\":[{\"id\":\"10843\",\"type\":\"LinearAxis\"}],\"plot_height\":400,\"plot_width\":1000,\"renderers\":[{\"id\":\"10864\",\"type\":\"GlyphRenderer\"},{\"id\":\"10877\",\"type\":\"GlyphRenderer\"},{\"id\":\"10882\",\"type\":\"GlyphRenderer\"},{\"id\":\"10898\",\"type\":\"GlyphRenderer\"},{\"id\":\"10903\",\"type\":\"GlyphRenderer\"},{\"id\":\"10923\",\"type\":\"GlyphRenderer\"}],\"title\":{\"id\":\"10828\",\"type\":\"Title\"},\"toolbar\":{\"id\":\"10854\",\"type\":\"Toolbar\"},\"x_range\":{\"id\":\"10830\",\"type\":\"DataRange1d\"},\"x_scale\":{\"id\":\"10834\",\"type\":\"LinearScale\"},\"y_range\":{\"id\":\"10832\",\"type\":\"DataRange1d\"},\"y_scale\":{\"id\":\"10836\",\"type\":\"LinearScale\"}},\"id\":\"10827\",\"subtype\":\"Figure\",\"type\":\"Plot\"},{\"attributes\":{\"label\":{\"value\":\"Developing excluding LDCs\"},\"renderers\":[{\"id\":\"10882\",\"type\":\"GlyphRenderer\"}]},\"id\":\"10894\",\"type\":\"LegendItem\"},{\"attributes\":{},\"id\":\"10914\",\"type\":\"UnionRenderers\"},{\"attributes\":{\"callback\":null,\"data\":{\"x\":[\"2005\",\"2006\",\"2007\",\"2008\",\"2009\",\"2010\",\"2011\",\"2012\",\"2013\",\"2014\"],\"y\":[86.87512995423359,87.63056023970321,92.32432134685388,91.63770297087862,92.55462125523024,83.46199102331038,88.7996933360356,89.20267700659186,89.01092336236253,90.12016981876029]},\"selected\":{\"id\":\"10917\",\"type\":\"Selection\"},\"selection_policy\":{\"id\":\"10916\",\"type\":\"UnionRenderers\"}},\"id\":\"10895\",\"type\":\"ColumnDataSource\"},{\"attributes\":{\"callback\":null,\"tooltips\":\"                \\n        <div style=padding=5px>Year:@x</div>\\n        <div style=padding=5px>Value:@y</div>        \\n        \"},\"id\":\"10925\",\"type\":\"HoverTool\"},{\"attributes\":{\"callback\":null,\"data\":{\"x\":[\"2005\",\"2006\",\"2007\",\"2008\",\"2009\",\"2010\",\"2011\",\"2012\",\"2013\",\"2014\"],\"y\":[89.36711,85.318,90.00625,88.78647,89.85324,90.99565,85.67287,91.79758,92.06496,90.8964]},\"selected\":{\"id\":\"11342\",\"type\":\"Selection\"},\"selection_policy\":{\"id\":\"11341\",\"type\":\"UnionRenderers\"}},\"id\":\"10900\",\"type\":\"ColumnDataSource\"},{\"attributes\":{\"callback\":null,\"data\":{\"x\":[\"2005\",\"2006\",\"2007\",\"2008\",\"2009\",\"2010\",\"2011\",\"2012\",\"2013\",\"2014\"],\"y\":[79.32941752876195,86.15621977489293,86.02774661892278,71.04739762838975,86.58685496184725,56.63384935461981,67.78695315953377,62.34684223691954,52.49870973544407,51.4375480377963]},\"selected\":{\"id\":\"10890\",\"type\":\"Selection\"},\"selection_policy\":{\"id\":\"10889\",\"type\":\"UnionRenderers\"}},\"id\":\"10861\",\"type\":\"ColumnDataSource\"},{\"attributes\":{},\"id\":\"10890\",\"type\":\"Selection\"},{\"attributes\":{},\"id\":\"11343\",\"type\":\"UnionRenderers\"},{\"attributes\":{\"line_color\":\"#2CC775\",\"line_width\":4,\"x\":{\"field\":\"x\"},\"y\":{\"field\":\"y\"}},\"id\":\"10901\",\"type\":\"Line\"},{\"attributes\":{},\"id\":\"10844\",\"type\":\"BasicTicker\"},{\"attributes\":{},\"id\":\"10891\",\"type\":\"UnionRenderers\"},{\"attributes\":{},\"id\":\"11344\",\"type\":\"Selection\"},{\"attributes\":{\"data_source\":{\"id\":\"10874\",\"type\":\"ColumnDataSource\"},\"glyph\":{\"id\":\"10875\",\"type\":\"Circle\"},\"hover_glyph\":null,\"muted_glyph\":null,\"nonselection_glyph\":{\"id\":\"10876\",\"type\":\"Circle\"},\"selection_glyph\":null,\"view\":{\"id\":\"10878\",\"type\":\"CDSView\"}},\"id\":\"10877\",\"type\":\"GlyphRenderer\"},{\"attributes\":{\"line_alpha\":0.1,\"line_color\":\"#1f77b4\",\"line_width\":4,\"x\":{\"field\":\"x\"},\"y\":{\"field\":\"y\"}},\"id\":\"10902\",\"type\":\"Line\"},{\"attributes\":{\"line_color\":\"#FA1857\",\"line_width\":4,\"x\":{\"field\":\"x\"},\"y\":{\"field\":\"y\"}},\"id\":\"10862\",\"type\":\"Line\"},{\"attributes\":{\"fill_alpha\":{\"value\":0.1},\"fill_color\":{\"value\":\"#1f77b4\"},\"line_alpha\":{\"value\":0.1},\"line_color\":{\"value\":\"#1f77b4\"},\"size\":{\"units\":\"screen\",\"value\":1},\"x\":{\"field\":\"x\"},\"y\":{\"field\":\"y\"}},\"id\":\"10897\",\"type\":\"Circle\"},{\"attributes\":{},\"id\":\"10892\",\"type\":\"Selection\"},{\"attributes\":{},\"id\":\"10852\",\"type\":\"ResetTool\"},{\"attributes\":{\"source\":{\"id\":\"10874\",\"type\":\"ColumnDataSource\"}},\"id\":\"10878\",\"type\":\"CDSView\"},{\"attributes\":{\"data_source\":{\"id\":\"10879\",\"type\":\"ColumnDataSource\"},\"glyph\":{\"id\":\"10880\",\"type\":\"Line\"},\"hover_glyph\":null,\"muted_glyph\":null,\"nonselection_glyph\":{\"id\":\"10881\",\"type\":\"Line\"},\"selection_glyph\":null,\"view\":{\"id\":\"10883\",\"type\":\"CDSView\"}},\"id\":\"10882\",\"type\":\"GlyphRenderer\"},{\"attributes\":{\"data_source\":{\"id\":\"10895\",\"type\":\"ColumnDataSource\"},\"glyph\":{\"id\":\"10896\",\"type\":\"Circle\"},\"hover_glyph\":null,\"muted_glyph\":null,\"nonselection_glyph\":{\"id\":\"10897\",\"type\":\"Circle\"},\"selection_glyph\":null,\"view\":{\"id\":\"10899\",\"type\":\"CDSView\"}},\"id\":\"10898\",\"type\":\"GlyphRenderer\"},{\"attributes\":{\"dimension\":1,\"grid_line_alpha\":0.5,\"ticker\":{\"id\":\"10844\",\"type\":\"BasicTicker\"}},\"id\":\"10847\",\"type\":\"Grid\"},{\"attributes\":{\"grid_line_color\":null,\"ticker\":{\"id\":\"10839\",\"type\":\"BasicTicker\"}},\"id\":\"10842\",\"type\":\"Grid\"},{\"attributes\":{\"label\":{\"value\":\"LDCs\"},\"renderers\":[{\"id\":\"10864\",\"type\":\"GlyphRenderer\"}]},\"id\":\"10873\",\"type\":\"LegendItem\"},{\"attributes\":{\"source\":{\"id\":\"10879\",\"type\":\"ColumnDataSource\"}},\"id\":\"10883\",\"type\":\"CDSView\"},{\"attributes\":{\"source\":{\"id\":\"10895\",\"type\":\"ColumnDataSource\"}},\"id\":\"10899\",\"type\":\"CDSView\"},{\"attributes\":{},\"id\":\"11341\",\"type\":\"UnionRenderers\"},{\"attributes\":{},\"id\":\"10839\",\"type\":\"BasicTicker\"},{\"attributes\":{\"callback\":null,\"data\":{\"x\":[\"2005\",\"2006\",\"2007\",\"2008\",\"2009\",\"2010\",\"2011\",\"2012\",\"2013\",\"2014\"],\"y\":[79.32941752876195,86.15621977489293,86.02774661892278,71.04739762838975,86.58685496184725,56.63384935461981,67.78695315953377,62.34684223691954,52.49870973544407,51.4375480377963]},\"selected\":{\"id\":\"10892\",\"type\":\"Selection\"},\"selection_policy\":{\"id\":\"10891\",\"type\":\"UnionRenderers\"}},\"id\":\"10874\",\"type\":\"ColumnDataSource\"},{\"attributes\":{\"axis_label\":\"SE.SEC.TCAQ.ZS\",\"formatter\":{\"id\":\"10867\",\"type\":\"BasicTickFormatter\"},\"ticker\":{\"id\":\"10844\",\"type\":\"BasicTicker\"}},\"id\":\"10843\",\"type\":\"LinearAxis\"},{\"attributes\":{},\"id\":\"10889\",\"type\":\"UnionRenderers\"},{\"attributes\":{},\"id\":\"11342\",\"type\":\"Selection\"},{\"attributes\":{},\"id\":\"10851\",\"type\":\"SaveTool\"},{\"attributes\":{},\"id\":\"10853\",\"type\":\"HelpTool\"},{\"attributes\":{\"fill_color\":{\"value\":\"#FA1857\"},\"line_color\":{\"value\":\"#FA1857\"},\"size\":{\"units\":\"screen\",\"value\":1},\"x\":{\"field\":\"x\"},\"y\":{\"field\":\"y\"}},\"id\":\"10875\",\"type\":\"Circle\"},{\"attributes\":{\"callback\":null,\"data\":{\"x\":[\"2005\",\"2006\",\"2007\",\"2008\",\"2009\",\"2010\",\"2011\",\"2012\",\"2013\",\"2014\"],\"y\":[86.87512995423359,87.63056023970321,92.32432134685388,91.63770297087862,92.55462125523024,83.46199102331038,88.7996933360356,89.20267700659186,89.01092336236253,90.12016981876029]},\"selected\":{\"id\":\"10915\",\"type\":\"Selection\"},\"selection_policy\":{\"id\":\"10914\",\"type\":\"UnionRenderers\"}},\"id\":\"10879\",\"type\":\"ColumnDataSource\"},{\"attributes\":{\"fill_alpha\":{\"value\":0.1},\"fill_color\":{\"value\":\"#1f77b4\"},\"line_alpha\":{\"value\":0.1},\"line_color\":{\"value\":\"#1f77b4\"},\"size\":{\"units\":\"screen\",\"value\":1},\"x\":{\"field\":\"x\"},\"y\":{\"field\":\"y\"}},\"id\":\"10922\",\"type\":\"Circle\"},{\"attributes\":{},\"id\":\"10836\",\"type\":\"LinearScale\"},{\"attributes\":{},\"id\":\"10869\",\"type\":\"BasicTickFormatter\"},{\"attributes\":{\"data_source\":{\"id\":\"10920\",\"type\":\"ColumnDataSource\"},\"glyph\":{\"id\":\"10921\",\"type\":\"Circle\"},\"hover_glyph\":null,\"muted_glyph\":null,\"nonselection_glyph\":{\"id\":\"10922\",\"type\":\"Circle\"},\"selection_glyph\":null,\"view\":{\"id\":\"10924\",\"type\":\"CDSView\"}},\"id\":\"10923\",\"type\":\"GlyphRenderer\"},{\"attributes\":{\"line_color\":\"#5430F1\",\"line_width\":4,\"x\":{\"field\":\"x\"},\"y\":{\"field\":\"y\"}},\"id\":\"10880\",\"type\":\"Line\"},{\"attributes\":{\"bottom_units\":\"screen\",\"fill_alpha\":{\"value\":0.5},\"fill_color\":{\"value\":\"lightgrey\"},\"left_units\":\"screen\",\"level\":\"overlay\",\"line_alpha\":{\"value\":1.0},\"line_color\":{\"value\":\"black\"},\"line_dash\":[4,4],\"line_width\":{\"value\":2},\"render_mode\":\"css\",\"right_units\":\"screen\",\"top_units\":\"screen\"},\"id\":\"10871\",\"type\":\"BoxAnnotation\"},{\"attributes\":{},\"id\":\"10834\",\"type\":\"LinearScale\"},{\"attributes\":{\"overlay\":{\"id\":\"10871\",\"type\":\"BoxAnnotation\"}},\"id\":\"10850\",\"type\":\"BoxZoomTool\"},{\"attributes\":{\"items\":[{\"id\":\"10873\",\"type\":\"LegendItem\"},{\"id\":\"10894\",\"type\":\"LegendItem\"},{\"id\":\"10919\",\"type\":\"LegendItem\"}],\"location\":\"bottom_left\"},\"id\":\"10872\",\"type\":\"Legend\"},{\"attributes\":{\"source\":{\"id\":\"10920\",\"type\":\"ColumnDataSource\"}},\"id\":\"10924\",\"type\":\"CDSView\"},{\"attributes\":{\"axis_label\":\"Years\",\"formatter\":{\"id\":\"10869\",\"type\":\"BasicTickFormatter\"},\"ticker\":{\"id\":\"10839\",\"type\":\"BasicTicker\"}},\"id\":\"10838\",\"type\":\"LinearAxis\"},{\"attributes\":{\"line_alpha\":0.1,\"line_color\":\"#1f77b4\",\"line_width\":4,\"x\":{\"field\":\"x\"},\"y\":{\"field\":\"y\"}},\"id\":\"10881\",\"type\":\"Line\"},{\"attributes\":{\"label\":{\"value\":\"OECD\"},\"renderers\":[{\"id\":\"10903\",\"type\":\"GlyphRenderer\"}]},\"id\":\"10919\",\"type\":\"LegendItem\"},{\"attributes\":{\"callback\":null},\"id\":\"10830\",\"type\":\"DataRange1d\"},{\"attributes\":{\"fill_alpha\":{\"value\":0.1},\"fill_color\":{\"value\":\"#1f77b4\"},\"line_alpha\":{\"value\":0.1},\"line_color\":{\"value\":\"#1f77b4\"},\"size\":{\"units\":\"screen\",\"value\":1},\"x\":{\"field\":\"x\"},\"y\":{\"field\":\"y\"}},\"id\":\"10876\",\"type\":\"Circle\"},{\"attributes\":{\"source\":{\"id\":\"10861\",\"type\":\"ColumnDataSource\"}},\"id\":\"10865\",\"type\":\"CDSView\"},{\"attributes\":{},\"id\":\"10849\",\"type\":\"WheelZoomTool\"},{\"attributes\":{\"text\":\"Trained teachers in secondary education (% of total teachers) weighted against Secondary education, teachers\"},\"id\":\"10828\",\"type\":\"Title\"},{\"attributes\":{\"callback\":null,\"data\":{\"x\":[\"2005\",\"2006\",\"2007\",\"2008\",\"2009\",\"2010\",\"2011\",\"2012\",\"2013\",\"2014\"],\"y\":[89.36711,85.318,90.00625,88.78647,89.85324,90.99565,85.67287,91.79758,92.06496,90.8964]},\"selected\":{\"id\":\"11344\",\"type\":\"Selection\"},\"selection_policy\":{\"id\":\"11343\",\"type\":\"UnionRenderers\"}},\"id\":\"10920\",\"type\":\"ColumnDataSource\"},{\"attributes\":{},\"id\":\"10867\",\"type\":\"BasicTickFormatter\"},{\"attributes\":{\"fill_color\":{\"value\":\"#2CC775\"},\"line_color\":{\"value\":\"#2CC775\"},\"size\":{\"units\":\"screen\",\"value\":1},\"x\":{\"field\":\"x\"},\"y\":{\"field\":\"y\"}},\"id\":\"10921\",\"type\":\"Circle\"},{\"attributes\":{\"callback\":null},\"id\":\"10832\",\"type\":\"DataRange1d\"},{\"attributes\":{},\"id\":\"10848\",\"type\":\"PanTool\"},{\"attributes\":{},\"id\":\"10915\",\"type\":\"Selection\"},{\"attributes\":{\"active_drag\":\"auto\",\"active_inspect\":\"auto\",\"active_multi\":null,\"active_scroll\":\"auto\",\"active_tap\":\"auto\",\"tools\":[{\"id\":\"10848\",\"type\":\"PanTool\"},{\"id\":\"10849\",\"type\":\"WheelZoomTool\"},{\"id\":\"10850\",\"type\":\"BoxZoomTool\"},{\"id\":\"10851\",\"type\":\"SaveTool\"},{\"id\":\"10852\",\"type\":\"ResetTool\"},{\"id\":\"10853\",\"type\":\"HelpTool\"},{\"id\":\"10925\",\"type\":\"HoverTool\"}]},\"id\":\"10854\",\"type\":\"Toolbar\"},{\"attributes\":{},\"id\":\"10916\",\"type\":\"UnionRenderers\"},{\"attributes\":{\"line_alpha\":0.1,\"line_color\":\"#1f77b4\",\"line_width\":4,\"x\":{\"field\":\"x\"},\"y\":{\"field\":\"y\"}},\"id\":\"10863\",\"type\":\"Line\"},{\"attributes\":{},\"id\":\"10917\",\"type\":\"Selection\"},{\"attributes\":{\"data_source\":{\"id\":\"10861\",\"type\":\"ColumnDataSource\"},\"glyph\":{\"id\":\"10862\",\"type\":\"Line\"},\"hover_glyph\":null,\"muted_glyph\":null,\"nonselection_glyph\":{\"id\":\"10863\",\"type\":\"Line\"},\"selection_glyph\":null,\"view\":{\"id\":\"10865\",\"type\":\"CDSView\"}},\"id\":\"10864\",\"type\":\"GlyphRenderer\"},{\"attributes\":{\"data_source\":{\"id\":\"10900\",\"type\":\"ColumnDataSource\"},\"glyph\":{\"id\":\"10901\",\"type\":\"Line\"},\"hover_glyph\":null,\"muted_glyph\":null,\"nonselection_glyph\":{\"id\":\"10902\",\"type\":\"Line\"},\"selection_glyph\":null,\"view\":{\"id\":\"10904\",\"type\":\"CDSView\"}},\"id\":\"10903\",\"type\":\"GlyphRenderer\"},{\"attributes\":{\"fill_color\":{\"value\":\"#5430F1\"},\"line_color\":{\"value\":\"#5430F1\"},\"size\":{\"units\":\"screen\",\"value\":1},\"x\":{\"field\":\"x\"},\"y\":{\"field\":\"y\"}},\"id\":\"10896\",\"type\":\"Circle\"},{\"attributes\":{\"source\":{\"id\":\"10900\",\"type\":\"ColumnDataSource\"}},\"id\":\"10904\",\"type\":\"CDSView\"}],\"root_ids\":[\"10827\"]},\"title\":\"Bokeh Application\",\"version\":\"1.3.4\"}};\n",
       "  var render_items = [{\"docid\":\"ea5ba1ce-71d8-4e36-a163-1940452789c1\",\"roots\":{\"10827\":\"0c569067-aaa2-46bd-a7f6-60a8e0fdcf51\"}}];\n",
       "  root.Bokeh.embed.embed_items_notebook(docs_json, render_items);\n",
       "\n",
       "  }\n",
       "  if (root.Bokeh !== undefined) {\n",
       "    embed_document(root);\n",
       "  } else {\n",
       "    var attempts = 0;\n",
       "    var timer = setInterval(function(root) {\n",
       "      if (root.Bokeh !== undefined) {\n",
       "        embed_document(root);\n",
       "        clearInterval(timer);\n",
       "      }\n",
       "      attempts++;\n",
       "      if (attempts > 100) {\n",
       "        console.log(\"Bokeh: ERROR: Unable to run BokehJS code because BokehJS library is missing\");\n",
       "        clearInterval(timer);\n",
       "      }\n",
       "    }, 10, root)\n",
       "  }\n",
       "})(window);"
      ],
      "application/vnd.bokehjs_exec.v0+json": ""
     },
     "metadata": {
      "application/vnd.bokehjs_exec.v0+json": {
       "id": "10827"
      }
     },
     "output_type": "display_data"
    }
   ],
   "source": [
    "# Trained teachers secondary\n",
    "years = list(map(str, list(range(2005,2015))))\n",
    "result = show_weighted_average(years, 'SE.SEC.TCAQ.ZS', 'SE.SEC.TCHR', \n",
    "                               ['LDCs', 'Developing excluding LDCs', 'OECD'], \n",
    "                                height=400, width=1000, line_width=4)"
   ]
  },
  {
   "cell_type": "markdown",
   "metadata": {
    "slideshow": {
     "slide_type": "slide"
    }
   },
   "source": [
    "# LDCs have made enormous progress in enrollment at the primary level\n",
    "\n",
    "# Challenges remain in relation to factors affecting the quality of education\n",
    "\n",
    "# Gender inequality, specially at secondary and tertiary levels"
   ]
  },
  {
   "cell_type": "markdown",
   "metadata": {
    "slideshow": {
     "slide_type": "slide"
    }
   },
   "source": [
    "# Youth development"
   ]
  },
  {
   "cell_type": "code",
   "execution_count": 32,
   "metadata": {
    "ExecuteTime": {
     "end_time": "2019-10-25T14:25:48.983763Z",
     "start_time": "2019-10-25T14:25:47.157404Z"
    },
    "slideshow": {
     "slide_type": "slide"
    }
   },
   "outputs": [
    {
     "data": {
      "text/html": [
       "\n",
       "\n",
       "\n",
       "\n",
       "\n",
       "\n",
       "  <div class=\"bk-root\" id=\"b2d2e1c7-f703-411c-ad82-48450d22c874\" data-root-id=\"11454\"></div>\n"
      ]
     },
     "metadata": {},
     "output_type": "display_data"
    },
    {
     "data": {
      "application/javascript": [
       "(function(root) {\n",
       "  function embed_document(root) {\n",
       "    \n",
       "  var docs_json = {\"a030bfbd-2b8b-4e9e-ac6b-cf0b8a50b970\":{\"roots\":{\"references\":[{\"attributes\":{\"below\":[{\"id\":\"11465\",\"type\":\"LinearAxis\"}],\"center\":[{\"id\":\"11469\",\"type\":\"Grid\"},{\"id\":\"11474\",\"type\":\"Grid\"},{\"id\":\"11499\",\"type\":\"Legend\"}],\"left\":[{\"id\":\"11470\",\"type\":\"LinearAxis\"}],\"plot_height\":400,\"plot_width\":1000,\"renderers\":[{\"id\":\"11491\",\"type\":\"GlyphRenderer\"},{\"id\":\"11504\",\"type\":\"GlyphRenderer\"},{\"id\":\"11509\",\"type\":\"GlyphRenderer\"},{\"id\":\"11525\",\"type\":\"GlyphRenderer\"},{\"id\":\"11530\",\"type\":\"GlyphRenderer\"},{\"id\":\"11550\",\"type\":\"GlyphRenderer\"}],\"title\":{\"id\":\"11455\",\"type\":\"Title\"},\"toolbar\":{\"id\":\"11481\",\"type\":\"Toolbar\"},\"x_range\":{\"id\":\"11457\",\"type\":\"DataRange1d\"},\"x_scale\":{\"id\":\"11461\",\"type\":\"LinearScale\"},\"y_range\":{\"id\":\"11459\",\"type\":\"DataRange1d\"},\"y_scale\":{\"id\":\"11463\",\"type\":\"LinearScale\"}},\"id\":\"11454\",\"subtype\":\"Figure\",\"type\":\"Plot\"},{\"attributes\":{\"callback\":null,\"data\":{\"x\":[\"2010\",\"2011\",\"2012\",\"2013\",\"2014\",\"2015\",\"2016\",\"2017\"],\"y\":[98.60126354061576,99.03754266433798,99.07563421003766,98.99061001274666,99.23813510360118,99.26019316389551,99.37193589589631,99.34150004009295]},\"selected\":{\"id\":\"11987\",\"type\":\"Selection\"},\"selection_policy\":{\"id\":\"11986\",\"type\":\"UnionRenderers\"}},\"id\":\"11527\",\"type\":\"ColumnDataSource\"},{\"attributes\":{\"callback\":null},\"id\":\"11459\",\"type\":\"DataRange1d\"},{\"attributes\":{\"line_color\":\"#FA1857\",\"line_width\":4,\"x\":{\"field\":\"x\"},\"y\":{\"field\":\"y\"}},\"id\":\"11489\",\"type\":\"Line\"},{\"attributes\":{},\"id\":\"11475\",\"type\":\"PanTool\"},{\"attributes\":{},\"id\":\"11986\",\"type\":\"UnionRenderers\"},{\"attributes\":{\"line_color\":\"#2CC775\",\"line_width\":4,\"x\":{\"field\":\"x\"},\"y\":{\"field\":\"y\"}},\"id\":\"11528\",\"type\":\"Line\"},{\"attributes\":{\"line_alpha\":0.1,\"line_color\":\"#1f77b4\",\"line_width\":4,\"x\":{\"field\":\"x\"},\"y\":{\"field\":\"y\"}},\"id\":\"11490\",\"type\":\"Line\"},{\"attributes\":{},\"id\":\"11987\",\"type\":\"Selection\"},{\"attributes\":{\"line_alpha\":0.1,\"line_color\":\"#1f77b4\",\"line_width\":4,\"x\":{\"field\":\"x\"},\"y\":{\"field\":\"y\"}},\"id\":\"11529\",\"type\":\"Line\"},{\"attributes\":{\"callback\":null,\"data\":{\"x\":[\"2010\",\"2011\",\"2012\",\"2013\",\"2014\",\"2015\",\"2016\",\"2017\"],\"y\":[69.2373146461557,72.29845761573951,78.07440625148908,81.8057026121577,77.51259455033403,81.0061268219742,86.01201643997595,82.38507029320442]},\"selected\":{\"id\":\"11517\",\"type\":\"Selection\"},\"selection_policy\":{\"id\":\"11516\",\"type\":\"UnionRenderers\"}},\"id\":\"11488\",\"type\":\"ColumnDataSource\"},{\"attributes\":{\"data_source\":{\"id\":\"11527\",\"type\":\"ColumnDataSource\"},\"glyph\":{\"id\":\"11528\",\"type\":\"Line\"},\"hover_glyph\":null,\"muted_glyph\":null,\"nonselection_glyph\":{\"id\":\"11529\",\"type\":\"Line\"},\"selection_glyph\":null,\"view\":{\"id\":\"11531\",\"type\":\"CDSView\"}},\"id\":\"11530\",\"type\":\"GlyphRenderer\"},{\"attributes\":{\"data_source\":{\"id\":\"11501\",\"type\":\"ColumnDataSource\"},\"glyph\":{\"id\":\"11502\",\"type\":\"Circle\"},\"hover_glyph\":null,\"muted_glyph\":null,\"nonselection_glyph\":{\"id\":\"11503\",\"type\":\"Circle\"},\"selection_glyph\":null,\"view\":{\"id\":\"11505\",\"type\":\"CDSView\"}},\"id\":\"11504\",\"type\":\"GlyphRenderer\"},{\"attributes\":{\"axis_label\":\"Years\",\"formatter\":{\"id\":\"11496\",\"type\":\"BasicTickFormatter\"},\"ticker\":{\"id\":\"11466\",\"type\":\"BasicTicker\"}},\"id\":\"11465\",\"type\":\"LinearAxis\"},{\"attributes\":{\"source\":{\"id\":\"11501\",\"type\":\"ColumnDataSource\"}},\"id\":\"11505\",\"type\":\"CDSView\"},{\"attributes\":{},\"id\":\"11476\",\"type\":\"WheelZoomTool\"},{\"attributes\":{},\"id\":\"11463\",\"type\":\"LinearScale\"},{\"attributes\":{\"source\":{\"id\":\"11527\",\"type\":\"ColumnDataSource\"}},\"id\":\"11531\",\"type\":\"CDSView\"},{\"attributes\":{\"data_source\":{\"id\":\"11506\",\"type\":\"ColumnDataSource\"},\"glyph\":{\"id\":\"11507\",\"type\":\"Line\"},\"hover_glyph\":null,\"muted_glyph\":null,\"nonselection_glyph\":{\"id\":\"11508\",\"type\":\"Line\"},\"selection_glyph\":null,\"view\":{\"id\":\"11510\",\"type\":\"CDSView\"}},\"id\":\"11509\",\"type\":\"GlyphRenderer\"},{\"attributes\":{\"overlay\":{\"id\":\"11498\",\"type\":\"BoxAnnotation\"}},\"id\":\"11477\",\"type\":\"BoxZoomTool\"},{\"attributes\":{\"bottom_units\":\"screen\",\"fill_alpha\":{\"value\":0.5},\"fill_color\":{\"value\":\"lightgrey\"},\"left_units\":\"screen\",\"level\":\"overlay\",\"line_alpha\":{\"value\":1.0},\"line_color\":{\"value\":\"black\"},\"line_dash\":[4,4],\"line_width\":{\"value\":2},\"render_mode\":\"css\",\"right_units\":\"screen\",\"top_units\":\"screen\"},\"id\":\"11498\",\"type\":\"BoxAnnotation\"},{\"attributes\":{},\"id\":\"11478\",\"type\":\"SaveTool\"},{\"attributes\":{},\"id\":\"11541\",\"type\":\"UnionRenderers\"},{\"attributes\":{\"line_color\":\"#5430F1\",\"line_width\":4,\"x\":{\"field\":\"x\"},\"y\":{\"field\":\"y\"}},\"id\":\"11507\",\"type\":\"Line\"},{\"attributes\":{},\"id\":\"11542\",\"type\":\"Selection\"},{\"attributes\":{\"line_alpha\":0.1,\"line_color\":\"#1f77b4\",\"line_width\":4,\"x\":{\"field\":\"x\"},\"y\":{\"field\":\"y\"}},\"id\":\"11508\",\"type\":\"Line\"},{\"attributes\":{},\"id\":\"11479\",\"type\":\"ResetTool\"},{\"attributes\":{\"data_source\":{\"id\":\"11488\",\"type\":\"ColumnDataSource\"},\"glyph\":{\"id\":\"11489\",\"type\":\"Line\"},\"hover_glyph\":null,\"muted_glyph\":null,\"nonselection_glyph\":{\"id\":\"11490\",\"type\":\"Line\"},\"selection_glyph\":null,\"view\":{\"id\":\"11492\",\"type\":\"CDSView\"}},\"id\":\"11491\",\"type\":\"GlyphRenderer\"},{\"attributes\":{\"grid_line_color\":null,\"ticker\":{\"id\":\"11466\",\"type\":\"BasicTicker\"}},\"id\":\"11469\",\"type\":\"Grid\"},{\"attributes\":{},\"id\":\"11543\",\"type\":\"UnionRenderers\"},{\"attributes\":{\"active_drag\":\"auto\",\"active_inspect\":\"auto\",\"active_multi\":null,\"active_scroll\":\"auto\",\"active_tap\":\"auto\",\"tools\":[{\"id\":\"11475\",\"type\":\"PanTool\"},{\"id\":\"11476\",\"type\":\"WheelZoomTool\"},{\"id\":\"11477\",\"type\":\"BoxZoomTool\"},{\"id\":\"11478\",\"type\":\"SaveTool\"},{\"id\":\"11479\",\"type\":\"ResetTool\"},{\"id\":\"11480\",\"type\":\"HelpTool\"},{\"id\":\"11552\",\"type\":\"HoverTool\"}]},\"id\":\"11481\",\"type\":\"Toolbar\"},{\"attributes\":{},\"id\":\"11466\",\"type\":\"BasicTicker\"},{\"attributes\":{},\"id\":\"11517\",\"type\":\"Selection\"},{\"attributes\":{},\"id\":\"11544\",\"type\":\"Selection\"},{\"attributes\":{\"source\":{\"id\":\"11506\",\"type\":\"ColumnDataSource\"}},\"id\":\"11510\",\"type\":\"CDSView\"},{\"attributes\":{},\"id\":\"11471\",\"type\":\"BasicTicker\"},{\"attributes\":{\"label\":{\"value\":\"OECD\"},\"renderers\":[{\"id\":\"11530\",\"type\":\"GlyphRenderer\"}]},\"id\":\"11546\",\"type\":\"LegendItem\"},{\"attributes\":{\"text\":\"Literacy rate, youth total (% of people ages 15-24) weighted against Population, total\"},\"id\":\"11455\",\"type\":\"Title\"},{\"attributes\":{\"callback\":null,\"data\":{\"x\":[\"2010\",\"2011\",\"2012\",\"2013\",\"2014\",\"2015\",\"2016\",\"2017\"],\"y\":[98.60126354061576,99.03754266433798,99.07563421003766,98.99061001274666,99.23813510360118,99.26019316389551,99.37193589589631,99.34150004009295]},\"selected\":{\"id\":\"11989\",\"type\":\"Selection\"},\"selection_policy\":{\"id\":\"11988\",\"type\":\"UnionRenderers\"}},\"id\":\"11547\",\"type\":\"ColumnDataSource\"},{\"attributes\":{},\"id\":\"11480\",\"type\":\"HelpTool\"},{\"attributes\":{},\"id\":\"11516\",\"type\":\"UnionRenderers\"},{\"attributes\":{\"axis_label\":\"SE.ADT.1524.LT.ZS\",\"formatter\":{\"id\":\"11494\",\"type\":\"BasicTickFormatter\"},\"ticker\":{\"id\":\"11471\",\"type\":\"BasicTicker\"}},\"id\":\"11470\",\"type\":\"LinearAxis\"},{\"attributes\":{},\"id\":\"11494\",\"type\":\"BasicTickFormatter\"},{\"attributes\":{\"source\":{\"id\":\"11488\",\"type\":\"ColumnDataSource\"}},\"id\":\"11492\",\"type\":\"CDSView\"},{\"attributes\":{\"callback\":null,\"tooltips\":\"                \\n        <div style=padding=5px>Year:@x</div>\\n        <div style=padding=5px>Value:@y</div>        \\n        \"},\"id\":\"11552\",\"type\":\"HoverTool\"},{\"attributes\":{\"fill_color\":{\"value\":\"#2CC775\"},\"line_color\":{\"value\":\"#2CC775\"},\"size\":{\"units\":\"screen\",\"value\":1},\"x\":{\"field\":\"x\"},\"y\":{\"field\":\"y\"}},\"id\":\"11548\",\"type\":\"Circle\"},{\"attributes\":{},\"id\":\"11518\",\"type\":\"UnionRenderers\"},{\"attributes\":{},\"id\":\"11519\",\"type\":\"Selection\"},{\"attributes\":{\"dimension\":1,\"grid_line_alpha\":0.5,\"ticker\":{\"id\":\"11471\",\"type\":\"BasicTicker\"}},\"id\":\"11474\",\"type\":\"Grid\"},{\"attributes\":{\"fill_alpha\":{\"value\":0.1},\"fill_color\":{\"value\":\"#1f77b4\"},\"line_alpha\":{\"value\":0.1},\"line_color\":{\"value\":\"#1f77b4\"},\"size\":{\"units\":\"screen\",\"value\":1},\"x\":{\"field\":\"x\"},\"y\":{\"field\":\"y\"}},\"id\":\"11549\",\"type\":\"Circle\"},{\"attributes\":{\"label\":{\"value\":\"Developing excluding LDCs\"},\"renderers\":[{\"id\":\"11509\",\"type\":\"GlyphRenderer\"}]},\"id\":\"11521\",\"type\":\"LegendItem\"},{\"attributes\":{},\"id\":\"11988\",\"type\":\"UnionRenderers\"},{\"attributes\":{\"data_source\":{\"id\":\"11547\",\"type\":\"ColumnDataSource\"},\"glyph\":{\"id\":\"11548\",\"type\":\"Circle\"},\"hover_glyph\":null,\"muted_glyph\":null,\"nonselection_glyph\":{\"id\":\"11549\",\"type\":\"Circle\"},\"selection_glyph\":null,\"view\":{\"id\":\"11551\",\"type\":\"CDSView\"}},\"id\":\"11550\",\"type\":\"GlyphRenderer\"},{\"attributes\":{\"callback\":null,\"data\":{\"x\":[\"2010\",\"2011\",\"2012\",\"2013\",\"2014\",\"2015\",\"2016\",\"2017\"],\"y\":[96.50415085262814,89.42889728758811,92.57459369827922,91.294425846238,94.29379999548429,99.107942466396,99.22860159362506,92.46225099778181]},\"selected\":{\"id\":\"11544\",\"type\":\"Selection\"},\"selection_policy\":{\"id\":\"11543\",\"type\":\"UnionRenderers\"}},\"id\":\"11522\",\"type\":\"ColumnDataSource\"},{\"attributes\":{},\"id\":\"11496\",\"type\":\"BasicTickFormatter\"},{\"attributes\":{\"fill_color\":{\"value\":\"#FA1857\"},\"line_color\":{\"value\":\"#FA1857\"},\"size\":{\"units\":\"screen\",\"value\":1},\"x\":{\"field\":\"x\"},\"y\":{\"field\":\"y\"}},\"id\":\"11502\",\"type\":\"Circle\"},{\"attributes\":{\"source\":{\"id\":\"11547\",\"type\":\"ColumnDataSource\"}},\"id\":\"11551\",\"type\":\"CDSView\"},{\"attributes\":{\"items\":[{\"id\":\"11500\",\"type\":\"LegendItem\"},{\"id\":\"11521\",\"type\":\"LegendItem\"},{\"id\":\"11546\",\"type\":\"LegendItem\"}],\"location\":\"bottom_left\"},\"id\":\"11499\",\"type\":\"Legend\"},{\"attributes\":{\"fill_color\":{\"value\":\"#5430F1\"},\"line_color\":{\"value\":\"#5430F1\"},\"size\":{\"units\":\"screen\",\"value\":1},\"x\":{\"field\":\"x\"},\"y\":{\"field\":\"y\"}},\"id\":\"11523\",\"type\":\"Circle\"},{\"attributes\":{},\"id\":\"11989\",\"type\":\"Selection\"},{\"attributes\":{\"callback\":null},\"id\":\"11457\",\"type\":\"DataRange1d\"},{\"attributes\":{\"source\":{\"id\":\"11522\",\"type\":\"ColumnDataSource\"}},\"id\":\"11526\",\"type\":\"CDSView\"},{\"attributes\":{\"fill_alpha\":{\"value\":0.1},\"fill_color\":{\"value\":\"#1f77b4\"},\"line_alpha\":{\"value\":0.1},\"line_color\":{\"value\":\"#1f77b4\"},\"size\":{\"units\":\"screen\",\"value\":1},\"x\":{\"field\":\"x\"},\"y\":{\"field\":\"y\"}},\"id\":\"11524\",\"type\":\"Circle\"},{\"attributes\":{\"callback\":null,\"data\":{\"x\":[\"2010\",\"2011\",\"2012\",\"2013\",\"2014\",\"2015\",\"2016\",\"2017\"],\"y\":[96.50415085262814,89.42889728758811,92.57459369827922,91.294425846238,94.29379999548429,99.107942466396,99.22860159362506,92.46225099778181]},\"selected\":{\"id\":\"11542\",\"type\":\"Selection\"},\"selection_policy\":{\"id\":\"11541\",\"type\":\"UnionRenderers\"}},\"id\":\"11506\",\"type\":\"ColumnDataSource\"},{\"attributes\":{\"label\":{\"value\":\"LDCs\"},\"renderers\":[{\"id\":\"11491\",\"type\":\"GlyphRenderer\"}]},\"id\":\"11500\",\"type\":\"LegendItem\"},{\"attributes\":{\"fill_alpha\":{\"value\":0.1},\"fill_color\":{\"value\":\"#1f77b4\"},\"line_alpha\":{\"value\":0.1},\"line_color\":{\"value\":\"#1f77b4\"},\"size\":{\"units\":\"screen\",\"value\":1},\"x\":{\"field\":\"x\"},\"y\":{\"field\":\"y\"}},\"id\":\"11503\",\"type\":\"Circle\"},{\"attributes\":{\"data_source\":{\"id\":\"11522\",\"type\":\"ColumnDataSource\"},\"glyph\":{\"id\":\"11523\",\"type\":\"Circle\"},\"hover_glyph\":null,\"muted_glyph\":null,\"nonselection_glyph\":{\"id\":\"11524\",\"type\":\"Circle\"},\"selection_glyph\":null,\"view\":{\"id\":\"11526\",\"type\":\"CDSView\"}},\"id\":\"11525\",\"type\":\"GlyphRenderer\"},{\"attributes\":{\"callback\":null,\"data\":{\"x\":[\"2010\",\"2011\",\"2012\",\"2013\",\"2014\",\"2015\",\"2016\",\"2017\"],\"y\":[69.2373146461557,72.29845761573951,78.07440625148908,81.8057026121577,77.51259455033403,81.0061268219742,86.01201643997595,82.38507029320442]},\"selected\":{\"id\":\"11519\",\"type\":\"Selection\"},\"selection_policy\":{\"id\":\"11518\",\"type\":\"UnionRenderers\"}},\"id\":\"11501\",\"type\":\"ColumnDataSource\"},{\"attributes\":{},\"id\":\"11461\",\"type\":\"LinearScale\"}],\"root_ids\":[\"11454\"]},\"title\":\"Bokeh Application\",\"version\":\"1.3.4\"}};\n",
       "  var render_items = [{\"docid\":\"a030bfbd-2b8b-4e9e-ac6b-cf0b8a50b970\",\"roots\":{\"11454\":\"b2d2e1c7-f703-411c-ad82-48450d22c874\"}}];\n",
       "  root.Bokeh.embed.embed_items_notebook(docs_json, render_items);\n",
       "\n",
       "  }\n",
       "  if (root.Bokeh !== undefined) {\n",
       "    embed_document(root);\n",
       "  } else {\n",
       "    var attempts = 0;\n",
       "    var timer = setInterval(function(root) {\n",
       "      if (root.Bokeh !== undefined) {\n",
       "        embed_document(root);\n",
       "        clearInterval(timer);\n",
       "      }\n",
       "      attempts++;\n",
       "      if (attempts > 100) {\n",
       "        console.log(\"Bokeh: ERROR: Unable to run BokehJS code because BokehJS library is missing\");\n",
       "        clearInterval(timer);\n",
       "      }\n",
       "    }, 10, root)\n",
       "  }\n",
       "})(window);"
      ],
      "application/vnd.bokehjs_exec.v0+json": ""
     },
     "metadata": {
      "application/vnd.bokehjs_exec.v0+json": {
       "id": "11454"
      }
     },
     "output_type": "display_data"
    }
   ],
   "source": [
    "#Literacy rate, youth, total (% of youth 15-24)\n",
    "years = list(map(str, list(range(2010,2018))))\n",
    "result = show_weighted_average(years, 'SE.ADT.1524.LT.ZS', 'SP.POP.TOTL', \n",
    "                               ['LDCs', 'Developing excluding LDCs', 'OECD'], \n",
    "                                height=400, width=1000, line_width=4)"
   ]
  },
  {
   "cell_type": "code",
   "execution_count": 33,
   "metadata": {
    "slideshow": {
     "slide_type": "slide"
    }
   },
   "outputs": [
    {
     "data": {
      "text/html": [
       "\n",
       "\n",
       "\n",
       "\n",
       "\n",
       "\n",
       "  <div class=\"bk-root\" id=\"4e1c5577-fd60-4039-a933-0dd497ef09a8\" data-root-id=\"12099\"></div>\n"
      ]
     },
     "metadata": {},
     "output_type": "display_data"
    },
    {
     "data": {
      "application/javascript": [
       "(function(root) {\n",
       "  function embed_document(root) {\n",
       "    \n",
       "  var docs_json = {\"9927ada4-81fd-45bf-a0fc-07db2d0b63d0\":{\"roots\":{\"references\":[{\"attributes\":{\"below\":[{\"id\":\"12110\",\"type\":\"LinearAxis\"}],\"center\":[{\"id\":\"12114\",\"type\":\"Grid\"},{\"id\":\"12119\",\"type\":\"Grid\"},{\"id\":\"12144\",\"type\":\"Legend\"}],\"left\":[{\"id\":\"12115\",\"type\":\"LinearAxis\"}],\"plot_height\":400,\"plot_width\":1000,\"renderers\":[{\"id\":\"12136\",\"type\":\"GlyphRenderer\"},{\"id\":\"12149\",\"type\":\"GlyphRenderer\"}],\"title\":{\"id\":\"12100\",\"type\":\"Title\"},\"toolbar\":{\"id\":\"12126\",\"type\":\"Toolbar\"},\"x_range\":{\"id\":\"12102\",\"type\":\"DataRange1d\"},\"x_scale\":{\"id\":\"12106\",\"type\":\"LinearScale\"},\"y_range\":{\"id\":\"12104\",\"type\":\"DataRange1d\"},\"y_scale\":{\"id\":\"12108\",\"type\":\"LinearScale\"}},\"id\":\"12099\",\"subtype\":\"Figure\",\"type\":\"Plot\"},{\"attributes\":{\"source\":{\"id\":\"12146\",\"type\":\"ColumnDataSource\"}},\"id\":\"12150\",\"type\":\"CDSView\"},{\"attributes\":{},\"id\":\"12121\",\"type\":\"WheelZoomTool\"},{\"attributes\":{},\"id\":\"12595\",\"type\":\"UnionRenderers\"},{\"attributes\":{},\"id\":\"12123\",\"type\":\"SaveTool\"},{\"attributes\":{},\"id\":\"12597\",\"type\":\"UnionRenderers\"},{\"attributes\":{\"overlay\":{\"id\":\"12143\",\"type\":\"BoxAnnotation\"}},\"id\":\"12122\",\"type\":\"BoxZoomTool\"},{\"attributes\":{},\"id\":\"12596\",\"type\":\"Selection\"},{\"attributes\":{\"callback\":null,\"tooltips\":\"                \\n        <div style=padding=5px>Year:@x</div>\\n        <div style=padding=5px>Value:@y</div>        \\n        \"},\"id\":\"12151\",\"type\":\"HoverTool\"},{\"attributes\":{},\"id\":\"12124\",\"type\":\"ResetTool\"},{\"attributes\":{\"text\":\"Share of youth not in education, employment or training, total (% of youth population) weighted against Population, total\"},\"id\":\"12100\",\"type\":\"Title\"},{\"attributes\":{},\"id\":\"12598\",\"type\":\"Selection\"},{\"attributes\":{\"active_drag\":\"auto\",\"active_inspect\":\"auto\",\"active_multi\":null,\"active_scroll\":\"auto\",\"active_tap\":\"auto\",\"tools\":[{\"id\":\"12120\",\"type\":\"PanTool\"},{\"id\":\"12121\",\"type\":\"WheelZoomTool\"},{\"id\":\"12122\",\"type\":\"BoxZoomTool\"},{\"id\":\"12123\",\"type\":\"SaveTool\"},{\"id\":\"12124\",\"type\":\"ResetTool\"},{\"id\":\"12125\",\"type\":\"HelpTool\"},{\"id\":\"12151\",\"type\":\"HoverTool\"}]},\"id\":\"12126\",\"type\":\"Toolbar\"},{\"attributes\":{},\"id\":\"12125\",\"type\":\"HelpTool\"},{\"attributes\":{\"callback\":null},\"id\":\"12102\",\"type\":\"DataRange1d\"},{\"attributes\":{\"line_alpha\":0.1,\"line_color\":\"#1f77b4\",\"line_width\":4,\"x\":{\"field\":\"x\"},\"y\":{\"field\":\"y\"}},\"id\":\"12135\",\"type\":\"Line\"},{\"attributes\":{},\"id\":\"12106\",\"type\":\"LinearScale\"},{\"attributes\":{\"source\":{\"id\":\"12133\",\"type\":\"ColumnDataSource\"}},\"id\":\"12137\",\"type\":\"CDSView\"},{\"attributes\":{\"callback\":null},\"id\":\"12104\",\"type\":\"DataRange1d\"},{\"attributes\":{},\"id\":\"12141\",\"type\":\"BasicTickFormatter\"},{\"attributes\":{\"data_source\":{\"id\":\"12133\",\"type\":\"ColumnDataSource\"},\"glyph\":{\"id\":\"12134\",\"type\":\"Line\"},\"hover_glyph\":null,\"muted_glyph\":null,\"nonselection_glyph\":{\"id\":\"12135\",\"type\":\"Line\"},\"selection_glyph\":null,\"view\":{\"id\":\"12137\",\"type\":\"CDSView\"}},\"id\":\"12136\",\"type\":\"GlyphRenderer\"},{\"attributes\":{},\"id\":\"12108\",\"type\":\"LinearScale\"},{\"attributes\":{},\"id\":\"12139\",\"type\":\"BasicTickFormatter\"},{\"attributes\":{},\"id\":\"12111\",\"type\":\"BasicTicker\"},{\"attributes\":{\"bottom_units\":\"screen\",\"fill_alpha\":{\"value\":0.5},\"fill_color\":{\"value\":\"lightgrey\"},\"left_units\":\"screen\",\"level\":\"overlay\",\"line_alpha\":{\"value\":1.0},\"line_color\":{\"value\":\"black\"},\"line_dash\":[4,4],\"line_width\":{\"value\":2},\"render_mode\":\"css\",\"right_units\":\"screen\",\"top_units\":\"screen\"},\"id\":\"12143\",\"type\":\"BoxAnnotation\"},{\"attributes\":{\"axis_label\":\"Years\",\"formatter\":{\"id\":\"12141\",\"type\":\"BasicTickFormatter\"},\"ticker\":{\"id\":\"12111\",\"type\":\"BasicTicker\"}},\"id\":\"12110\",\"type\":\"LinearAxis\"},{\"attributes\":{\"label\":{\"value\":\"LDCs\"},\"renderers\":[{\"id\":\"12136\",\"type\":\"GlyphRenderer\"}]},\"id\":\"12145\",\"type\":\"LegendItem\"},{\"attributes\":{\"grid_line_color\":null,\"ticker\":{\"id\":\"12111\",\"type\":\"BasicTicker\"}},\"id\":\"12114\",\"type\":\"Grid\"},{\"attributes\":{\"items\":[{\"id\":\"12145\",\"type\":\"LegendItem\"}],\"location\":\"bottom_left\"},\"id\":\"12144\",\"type\":\"Legend\"},{\"attributes\":{\"line_color\":\"#FA1857\",\"line_width\":4,\"x\":{\"field\":\"x\"},\"y\":{\"field\":\"y\"}},\"id\":\"12134\",\"type\":\"Line\"},{\"attributes\":{},\"id\":\"12116\",\"type\":\"BasicTicker\"},{\"attributes\":{\"callback\":null,\"data\":{\"x\":[\"2011\",\"2012\",\"2013\",\"2014\",\"2015\",\"2016\",\"2017\"],\"y\":[22.196484798594305,16.63124145427354,14.405234475255297,16.370937711552916,18.649822551545157,28.93374675550048,29.34753578925073]},\"selected\":{\"id\":\"12598\",\"type\":\"Selection\"},\"selection_policy\":{\"id\":\"12597\",\"type\":\"UnionRenderers\"}},\"id\":\"12146\",\"type\":\"ColumnDataSource\"},{\"attributes\":{\"axis_label\":\"SL.UEM.NEET.ZS\",\"formatter\":{\"id\":\"12139\",\"type\":\"BasicTickFormatter\"},\"ticker\":{\"id\":\"12116\",\"type\":\"BasicTicker\"}},\"id\":\"12115\",\"type\":\"LinearAxis\"},{\"attributes\":{\"fill_alpha\":{\"value\":0.1},\"fill_color\":{\"value\":\"#1f77b4\"},\"line_alpha\":{\"value\":0.1},\"line_color\":{\"value\":\"#1f77b4\"},\"size\":{\"units\":\"screen\",\"value\":1},\"x\":{\"field\":\"x\"},\"y\":{\"field\":\"y\"}},\"id\":\"12148\",\"type\":\"Circle\"},{\"attributes\":{},\"id\":\"12120\",\"type\":\"PanTool\"},{\"attributes\":{\"dimension\":1,\"grid_line_alpha\":0.5,\"ticker\":{\"id\":\"12116\",\"type\":\"BasicTicker\"}},\"id\":\"12119\",\"type\":\"Grid\"},{\"attributes\":{\"fill_color\":{\"value\":\"#FA1857\"},\"line_color\":{\"value\":\"#FA1857\"},\"size\":{\"units\":\"screen\",\"value\":1},\"x\":{\"field\":\"x\"},\"y\":{\"field\":\"y\"}},\"id\":\"12147\",\"type\":\"Circle\"},{\"attributes\":{\"data_source\":{\"id\":\"12146\",\"type\":\"ColumnDataSource\"},\"glyph\":{\"id\":\"12147\",\"type\":\"Circle\"},\"hover_glyph\":null,\"muted_glyph\":null,\"nonselection_glyph\":{\"id\":\"12148\",\"type\":\"Circle\"},\"selection_glyph\":null,\"view\":{\"id\":\"12150\",\"type\":\"CDSView\"}},\"id\":\"12149\",\"type\":\"GlyphRenderer\"},{\"attributes\":{\"callback\":null,\"data\":{\"x\":[\"2011\",\"2012\",\"2013\",\"2014\",\"2015\",\"2016\",\"2017\"],\"y\":[22.196484798594305,16.63124145427354,14.405234475255297,16.370937711552916,18.649822551545157,28.93374675550048,29.34753578925073]},\"selected\":{\"id\":\"12596\",\"type\":\"Selection\"},\"selection_policy\":{\"id\":\"12595\",\"type\":\"UnionRenderers\"}},\"id\":\"12133\",\"type\":\"ColumnDataSource\"}],\"root_ids\":[\"12099\"]},\"title\":\"Bokeh Application\",\"version\":\"1.3.4\"}};\n",
       "  var render_items = [{\"docid\":\"9927ada4-81fd-45bf-a0fc-07db2d0b63d0\",\"roots\":{\"12099\":\"4e1c5577-fd60-4039-a933-0dd497ef09a8\"}}];\n",
       "  root.Bokeh.embed.embed_items_notebook(docs_json, render_items);\n",
       "\n",
       "  }\n",
       "  if (root.Bokeh !== undefined) {\n",
       "    embed_document(root);\n",
       "  } else {\n",
       "    var attempts = 0;\n",
       "    var timer = setInterval(function(root) {\n",
       "      if (root.Bokeh !== undefined) {\n",
       "        embed_document(root);\n",
       "        clearInterval(timer);\n",
       "      }\n",
       "      attempts++;\n",
       "      if (attempts > 100) {\n",
       "        console.log(\"Bokeh: ERROR: Unable to run BokehJS code because BokehJS library is missing\");\n",
       "        clearInterval(timer);\n",
       "      }\n",
       "    }, 10, root)\n",
       "  }\n",
       "})(window);"
      ],
      "application/vnd.bokehjs_exec.v0+json": ""
     },
     "metadata": {
      "application/vnd.bokehjs_exec.v0+json": {
       "id": "12099"
      }
     },
     "output_type": "display_data"
    }
   ],
   "source": [
    "# Literacy rate, youth, total (% of youth 15-24)\n",
    "years = list(map(str, list(range(2011,2018))))\n",
    "result = show_weighted_average(years, 'SL.UEM.NEET.ZS', 'SP.POP.TOTL', \n",
    "                               ['LDCs'], \n",
    "                                height=400, width=1000, line_width=4)"
   ]
  },
  {
   "cell_type": "markdown",
   "metadata": {
    "slideshow": {
     "slide_type": "slide"
    }
   },
   "source": [
    "# Support training to provide quality education\n",
    "\n",
    "\n",
    "# Unemployment rate is substantially higher for youth population\n",
    "\n",
    "\n",
    "# Underemployment and vulnerable employment particularly affect the youth and in many countries has a gender dimension\n",
    "\n",
    "\n",
    "# Promote employment opportunities for the youth"
   ]
  },
  {
   "cell_type": "markdown",
   "metadata": {
    "slideshow": {
     "slide_type": "slide"
    }
   },
   "source": [
    "# Shelter"
   ]
  },
  {
   "cell_type": "code",
   "execution_count": 34,
   "metadata": {
    "ExecuteTime": {
     "end_time": "2019-10-25T14:25:51.766648Z",
     "start_time": "2019-10-25T14:25:50.523438Z"
    },
    "slideshow": {
     "slide_type": "slide"
    }
   },
   "outputs": [
    {
     "data": {
      "text/html": [
       "\n",
       "\n",
       "\n",
       "\n",
       "\n",
       "\n",
       "  <div class=\"bk-root\" id=\"6dc4c322-712c-4a1d-a42e-6667f574b800\" data-root-id=\"12660\"></div>\n"
      ]
     },
     "metadata": {},
     "output_type": "display_data"
    },
    {
     "data": {
      "application/javascript": [
       "(function(root) {\n",
       "  function embed_document(root) {\n",
       "    \n",
       "  var docs_json = {\"858b995a-a3b1-4753-9545-25bcb50fa90b\":{\"roots\":{\"references\":[{\"attributes\":{\"below\":[{\"id\":\"12671\",\"type\":\"LinearAxis\"}],\"center\":[{\"id\":\"12675\",\"type\":\"Grid\"},{\"id\":\"12680\",\"type\":\"Grid\"},{\"id\":\"12705\",\"type\":\"Legend\"}],\"left\":[{\"id\":\"12676\",\"type\":\"LinearAxis\"}],\"plot_height\":400,\"plot_width\":1000,\"renderers\":[{\"id\":\"12697\",\"type\":\"GlyphRenderer\"},{\"id\":\"12710\",\"type\":\"GlyphRenderer\"},{\"id\":\"12715\",\"type\":\"GlyphRenderer\"},{\"id\":\"12731\",\"type\":\"GlyphRenderer\"},{\"id\":\"12736\",\"type\":\"GlyphRenderer\"},{\"id\":\"12756\",\"type\":\"GlyphRenderer\"}],\"title\":{\"id\":\"12661\",\"type\":\"Title\"},\"toolbar\":{\"id\":\"12687\",\"type\":\"Toolbar\"},\"x_range\":{\"id\":\"12663\",\"type\":\"DataRange1d\"},\"x_scale\":{\"id\":\"12667\",\"type\":\"LinearScale\"},\"y_range\":{\"id\":\"12665\",\"type\":\"DataRange1d\"},\"y_scale\":{\"id\":\"12669\",\"type\":\"LinearScale\"}},\"id\":\"12660\",\"subtype\":\"Figure\",\"type\":\"Plot\"},{\"attributes\":{\"axis_label\":\"Years\",\"formatter\":{\"id\":\"12702\",\"type\":\"BasicTickFormatter\"},\"ticker\":{\"id\":\"12672\",\"type\":\"BasicTicker\"}},\"id\":\"12671\",\"type\":\"LinearAxis\"},{\"attributes\":{\"axis_label\":\"EN.POP.SLUM.UR.ZS\",\"formatter\":{\"id\":\"12700\",\"type\":\"BasicTickFormatter\"},\"ticker\":{\"id\":\"12677\",\"type\":\"BasicTicker\"}},\"id\":\"12676\",\"type\":\"LinearAxis\"},{\"attributes\":{\"source\":{\"id\":\"12712\",\"type\":\"ColumnDataSource\"}},\"id\":\"12716\",\"type\":\"CDSView\"},{\"attributes\":{},\"id\":\"12748\",\"type\":\"Selection\"},{\"attributes\":{},\"id\":\"12677\",\"type\":\"BasicTicker\"},{\"attributes\":{},\"id\":\"12750\",\"type\":\"Selection\"},{\"attributes\":{},\"id\":\"12722\",\"type\":\"UnionRenderers\"},{\"attributes\":{\"dimension\":1,\"grid_line_alpha\":0.5,\"ticker\":{\"id\":\"12677\",\"type\":\"BasicTicker\"}},\"id\":\"12680\",\"type\":\"Grid\"},{\"attributes\":{\"callback\":null,\"data\":{\"x\":[\"2000\",\"2005\",\"2007\",\"2009\",\"2014\"],\"y\":[19.186981494515138,14.221528307791516,14.290817645409502,13.0,11.398005045670415]},\"selected\":{\"id\":\"13223\",\"type\":\"Selection\"},\"selection_policy\":{\"id\":\"13222\",\"type\":\"UnionRenderers\"}},\"id\":\"12753\",\"type\":\"ColumnDataSource\"},{\"attributes\":{},\"id\":\"12724\",\"type\":\"UnionRenderers\"},{\"attributes\":{},\"id\":\"12672\",\"type\":\"BasicTicker\"},{\"attributes\":{\"label\":{\"value\":\"OECD\"},\"renderers\":[{\"id\":\"12736\",\"type\":\"GlyphRenderer\"}]},\"id\":\"12752\",\"type\":\"LegendItem\"},{\"attributes\":{\"fill_color\":{\"value\":\"#2CC775\"},\"line_color\":{\"value\":\"#2CC775\"},\"size\":{\"units\":\"screen\",\"value\":1},\"x\":{\"field\":\"x\"},\"y\":{\"field\":\"y\"}},\"id\":\"12754\",\"type\":\"Circle\"},{\"attributes\":{},\"id\":\"12747\",\"type\":\"UnionRenderers\"},{\"attributes\":{\"line_color\":\"#FA1857\",\"line_width\":4,\"x\":{\"field\":\"x\"},\"y\":{\"field\":\"y\"}},\"id\":\"12695\",\"type\":\"Line\"},{\"attributes\":{},\"id\":\"12723\",\"type\":\"Selection\"},{\"attributes\":{\"bottom_units\":\"screen\",\"fill_alpha\":{\"value\":0.5},\"fill_color\":{\"value\":\"lightgrey\"},\"left_units\":\"screen\",\"level\":\"overlay\",\"line_alpha\":{\"value\":1.0},\"line_color\":{\"value\":\"black\"},\"line_dash\":[4,4],\"line_width\":{\"value\":2},\"render_mode\":\"css\",\"right_units\":\"screen\",\"top_units\":\"screen\"},\"id\":\"12704\",\"type\":\"BoxAnnotation\"},{\"attributes\":{},\"id\":\"12681\",\"type\":\"PanTool\"},{\"attributes\":{},\"id\":\"12725\",\"type\":\"Selection\"},{\"attributes\":{},\"id\":\"12702\",\"type\":\"BasicTickFormatter\"},{\"attributes\":{\"callback\":null,\"data\":{\"x\":[\"2000\",\"2005\",\"2007\",\"2009\",\"2014\"],\"y\":[75.33747542942652,69.6201732119946,67.93590338091548,65.70655306857522,62.3851831063759]},\"selected\":{\"id\":\"12723\",\"type\":\"Selection\"},\"selection_policy\":{\"id\":\"12722\",\"type\":\"UnionRenderers\"}},\"id\":\"12694\",\"type\":\"ColumnDataSource\"},{\"attributes\":{},\"id\":\"12667\",\"type\":\"LinearScale\"},{\"attributes\":{\"fill_alpha\":{\"value\":0.1},\"fill_color\":{\"value\":\"#1f77b4\"},\"line_alpha\":{\"value\":0.1},\"line_color\":{\"value\":\"#1f77b4\"},\"size\":{\"units\":\"screen\",\"value\":1},\"x\":{\"field\":\"x\"},\"y\":{\"field\":\"y\"}},\"id\":\"12755\",\"type\":\"Circle\"},{\"attributes\":{\"callback\":null,\"data\":{\"x\":[\"2000\",\"2005\",\"2007\",\"2009\",\"2014\"],\"y\":[37.12593509389958,32.316430637513314,30.981376218825975,30.14981039905175,25.693627611759997]},\"selected\":{\"id\":\"12750\",\"type\":\"Selection\"},\"selection_policy\":{\"id\":\"12749\",\"type\":\"UnionRenderers\"}},\"id\":\"12728\",\"type\":\"ColumnDataSource\"},{\"attributes\":{\"grid_line_color\":null,\"ticker\":{\"id\":\"12672\",\"type\":\"BasicTicker\"}},\"id\":\"12675\",\"type\":\"Grid\"},{\"attributes\":{},\"id\":\"12682\",\"type\":\"WheelZoomTool\"},{\"attributes\":{\"source\":{\"id\":\"12753\",\"type\":\"ColumnDataSource\"}},\"id\":\"12757\",\"type\":\"CDSView\"},{\"attributes\":{\"line_alpha\":0.1,\"line_color\":\"#1f77b4\",\"line_width\":4,\"x\":{\"field\":\"x\"},\"y\":{\"field\":\"y\"}},\"id\":\"12696\",\"type\":\"Line\"},{\"attributes\":{\"label\":{\"value\":\"Developing excluding LDCs\"},\"renderers\":[{\"id\":\"12715\",\"type\":\"GlyphRenderer\"}]},\"id\":\"12727\",\"type\":\"LegendItem\"},{\"attributes\":{},\"id\":\"12684\",\"type\":\"SaveTool\"},{\"attributes\":{\"items\":[{\"id\":\"12706\",\"type\":\"LegendItem\"},{\"id\":\"12727\",\"type\":\"LegendItem\"},{\"id\":\"12752\",\"type\":\"LegendItem\"}],\"location\":\"bottom_left\"},\"id\":\"12705\",\"type\":\"Legend\"},{\"attributes\":{\"data_source\":{\"id\":\"12753\",\"type\":\"ColumnDataSource\"},\"glyph\":{\"id\":\"12754\",\"type\":\"Circle\"},\"hover_glyph\":null,\"muted_glyph\":null,\"nonselection_glyph\":{\"id\":\"12755\",\"type\":\"Circle\"},\"selection_glyph\":null,\"view\":{\"id\":\"12757\",\"type\":\"CDSView\"}},\"id\":\"12756\",\"type\":\"GlyphRenderer\"},{\"attributes\":{\"fill_color\":{\"value\":\"#5430F1\"},\"line_color\":{\"value\":\"#5430F1\"},\"size\":{\"units\":\"screen\",\"value\":1},\"x\":{\"field\":\"x\"},\"y\":{\"field\":\"y\"}},\"id\":\"12729\",\"type\":\"Circle\"},{\"attributes\":{\"overlay\":{\"id\":\"12704\",\"type\":\"BoxAnnotation\"}},\"id\":\"12683\",\"type\":\"BoxZoomTool\"},{\"attributes\":{\"callback\":null,\"data\":{\"x\":[\"2000\",\"2005\",\"2007\",\"2009\",\"2014\"],\"y\":[75.33747542942652,69.6201732119946,67.93590338091548,65.70655306857522,62.3851831063759]},\"selected\":{\"id\":\"12725\",\"type\":\"Selection\"},\"selection_policy\":{\"id\":\"12724\",\"type\":\"UnionRenderers\"}},\"id\":\"12707\",\"type\":\"ColumnDataSource\"},{\"attributes\":{\"data_source\":{\"id\":\"12728\",\"type\":\"ColumnDataSource\"},\"glyph\":{\"id\":\"12729\",\"type\":\"Circle\"},\"hover_glyph\":null,\"muted_glyph\":null,\"nonselection_glyph\":{\"id\":\"12730\",\"type\":\"Circle\"},\"selection_glyph\":null,\"view\":{\"id\":\"12732\",\"type\":\"CDSView\"}},\"id\":\"12731\",\"type\":\"GlyphRenderer\"},{\"attributes\":{\"line_alpha\":0.1,\"line_color\":\"#1f77b4\",\"line_width\":4,\"x\":{\"field\":\"x\"},\"y\":{\"field\":\"y\"}},\"id\":\"12714\",\"type\":\"Line\"},{\"attributes\":{},\"id\":\"12685\",\"type\":\"ResetTool\"},{\"attributes\":{\"label\":{\"value\":\"LDCs\"},\"renderers\":[{\"id\":\"12697\",\"type\":\"GlyphRenderer\"}]},\"id\":\"12706\",\"type\":\"LegendItem\"},{\"attributes\":{\"fill_alpha\":{\"value\":0.1},\"fill_color\":{\"value\":\"#1f77b4\"},\"line_alpha\":{\"value\":0.1},\"line_color\":{\"value\":\"#1f77b4\"},\"size\":{\"units\":\"screen\",\"value\":1},\"x\":{\"field\":\"x\"},\"y\":{\"field\":\"y\"}},\"id\":\"12730\",\"type\":\"Circle\"},{\"attributes\":{\"fill_color\":{\"value\":\"#FA1857\"},\"line_color\":{\"value\":\"#FA1857\"},\"size\":{\"units\":\"screen\",\"value\":1},\"x\":{\"field\":\"x\"},\"y\":{\"field\":\"y\"}},\"id\":\"12708\",\"type\":\"Circle\"},{\"attributes\":{},\"id\":\"12669\",\"type\":\"LinearScale\"},{\"attributes\":{\"source\":{\"id\":\"12728\",\"type\":\"ColumnDataSource\"}},\"id\":\"12732\",\"type\":\"CDSView\"},{\"attributes\":{},\"id\":\"13221\",\"type\":\"Selection\"},{\"attributes\":{\"data_source\":{\"id\":\"12707\",\"type\":\"ColumnDataSource\"},\"glyph\":{\"id\":\"12708\",\"type\":\"Circle\"},\"hover_glyph\":null,\"muted_glyph\":null,\"nonselection_glyph\":{\"id\":\"12709\",\"type\":\"Circle\"},\"selection_glyph\":null,\"view\":{\"id\":\"12711\",\"type\":\"CDSView\"}},\"id\":\"12710\",\"type\":\"GlyphRenderer\"},{\"attributes\":{\"active_drag\":\"auto\",\"active_inspect\":\"auto\",\"active_multi\":null,\"active_scroll\":\"auto\",\"active_tap\":\"auto\",\"tools\":[{\"id\":\"12681\",\"type\":\"PanTool\"},{\"id\":\"12682\",\"type\":\"WheelZoomTool\"},{\"id\":\"12683\",\"type\":\"BoxZoomTool\"},{\"id\":\"12684\",\"type\":\"SaveTool\"},{\"id\":\"12685\",\"type\":\"ResetTool\"},{\"id\":\"12686\",\"type\":\"HelpTool\"},{\"id\":\"12758\",\"type\":\"HoverTool\"}]},\"id\":\"12687\",\"type\":\"Toolbar\"},{\"attributes\":{\"line_color\":\"#2CC775\",\"line_width\":4,\"x\":{\"field\":\"x\"},\"y\":{\"field\":\"y\"}},\"id\":\"12734\",\"type\":\"Line\"},{\"attributes\":{},\"id\":\"13220\",\"type\":\"UnionRenderers\"},{\"attributes\":{\"fill_alpha\":{\"value\":0.1},\"fill_color\":{\"value\":\"#1f77b4\"},\"line_alpha\":{\"value\":0.1},\"line_color\":{\"value\":\"#1f77b4\"},\"size\":{\"units\":\"screen\",\"value\":1},\"x\":{\"field\":\"x\"},\"y\":{\"field\":\"y\"}},\"id\":\"12709\",\"type\":\"Circle\"},{\"attributes\":{\"callback\":null,\"data\":{\"x\":[\"2000\",\"2005\",\"2007\",\"2009\",\"2014\"],\"y\":[19.186981494515138,14.221528307791516,14.290817645409502,13.0,11.398005045670415]},\"selected\":{\"id\":\"13221\",\"type\":\"Selection\"},\"selection_policy\":{\"id\":\"13220\",\"type\":\"UnionRenderers\"}},\"id\":\"12733\",\"type\":\"ColumnDataSource\"},{\"attributes\":{},\"id\":\"12686\",\"type\":\"HelpTool\"},{\"attributes\":{\"callback\":null,\"tooltips\":\"                \\n        <div style=padding=5px>Year:@x</div>\\n        <div style=padding=5px>Value:@y</div>        \\n        \"},\"id\":\"12758\",\"type\":\"HoverTool\"},{\"attributes\":{},\"id\":\"13222\",\"type\":\"UnionRenderers\"},{\"attributes\":{\"line_alpha\":0.1,\"line_color\":\"#1f77b4\",\"line_width\":4,\"x\":{\"field\":\"x\"},\"y\":{\"field\":\"y\"}},\"id\":\"12735\",\"type\":\"Line\"},{\"attributes\":{\"callback\":null},\"id\":\"12663\",\"type\":\"DataRange1d\"},{\"attributes\":{\"source\":{\"id\":\"12694\",\"type\":\"ColumnDataSource\"}},\"id\":\"12698\",\"type\":\"CDSView\"},{\"attributes\":{\"source\":{\"id\":\"12707\",\"type\":\"ColumnDataSource\"}},\"id\":\"12711\",\"type\":\"CDSView\"},{\"attributes\":{\"source\":{\"id\":\"12733\",\"type\":\"ColumnDataSource\"}},\"id\":\"12737\",\"type\":\"CDSView\"},{\"attributes\":{\"data_source\":{\"id\":\"12694\",\"type\":\"ColumnDataSource\"},\"glyph\":{\"id\":\"12695\",\"type\":\"Line\"},\"hover_glyph\":null,\"muted_glyph\":null,\"nonselection_glyph\":{\"id\":\"12696\",\"type\":\"Line\"},\"selection_glyph\":null,\"view\":{\"id\":\"12698\",\"type\":\"CDSView\"}},\"id\":\"12697\",\"type\":\"GlyphRenderer\"},{\"attributes\":{},\"id\":\"13223\",\"type\":\"Selection\"},{\"attributes\":{\"text\":\"Population living in slums (% of urban population) weighted against Urban population\"},\"id\":\"12661\",\"type\":\"Title\"},{\"attributes\":{\"data_source\":{\"id\":\"12733\",\"type\":\"ColumnDataSource\"},\"glyph\":{\"id\":\"12734\",\"type\":\"Line\"},\"hover_glyph\":null,\"muted_glyph\":null,\"nonselection_glyph\":{\"id\":\"12735\",\"type\":\"Line\"},\"selection_glyph\":null,\"view\":{\"id\":\"12737\",\"type\":\"CDSView\"}},\"id\":\"12736\",\"type\":\"GlyphRenderer\"},{\"attributes\":{\"line_color\":\"#5430F1\",\"line_width\":4,\"x\":{\"field\":\"x\"},\"y\":{\"field\":\"y\"}},\"id\":\"12713\",\"type\":\"Line\"},{\"attributes\":{\"callback\":null},\"id\":\"12665\",\"type\":\"DataRange1d\"},{\"attributes\":{},\"id\":\"12700\",\"type\":\"BasicTickFormatter\"},{\"attributes\":{\"callback\":null,\"data\":{\"x\":[\"2000\",\"2005\",\"2007\",\"2009\",\"2014\"],\"y\":[37.12593509389958,32.316430637513314,30.981376218825975,30.14981039905175,25.693627611759997]},\"selected\":{\"id\":\"12748\",\"type\":\"Selection\"},\"selection_policy\":{\"id\":\"12747\",\"type\":\"UnionRenderers\"}},\"id\":\"12712\",\"type\":\"ColumnDataSource\"},{\"attributes\":{\"data_source\":{\"id\":\"12712\",\"type\":\"ColumnDataSource\"},\"glyph\":{\"id\":\"12713\",\"type\":\"Line\"},\"hover_glyph\":null,\"muted_glyph\":null,\"nonselection_glyph\":{\"id\":\"12714\",\"type\":\"Line\"},\"selection_glyph\":null,\"view\":{\"id\":\"12716\",\"type\":\"CDSView\"}},\"id\":\"12715\",\"type\":\"GlyphRenderer\"},{\"attributes\":{},\"id\":\"12749\",\"type\":\"UnionRenderers\"}],\"root_ids\":[\"12660\"]},\"title\":\"Bokeh Application\",\"version\":\"1.3.4\"}};\n",
       "  var render_items = [{\"docid\":\"858b995a-a3b1-4753-9545-25bcb50fa90b\",\"roots\":{\"12660\":\"6dc4c322-712c-4a1d-a42e-6667f574b800\"}}];\n",
       "  root.Bokeh.embed.embed_items_notebook(docs_json, render_items);\n",
       "\n",
       "  }\n",
       "  if (root.Bokeh !== undefined) {\n",
       "    embed_document(root);\n",
       "  } else {\n",
       "    var attempts = 0;\n",
       "    var timer = setInterval(function(root) {\n",
       "      if (root.Bokeh !== undefined) {\n",
       "        embed_document(root);\n",
       "        clearInterval(timer);\n",
       "      }\n",
       "      attempts++;\n",
       "      if (attempts > 100) {\n",
       "        console.log(\"Bokeh: ERROR: Unable to run BokehJS code because BokehJS library is missing\");\n",
       "        clearInterval(timer);\n",
       "      }\n",
       "    }, 10, root)\n",
       "  }\n",
       "})(window);"
      ],
      "application/vnd.bokehjs_exec.v0+json": ""
     },
     "metadata": {
      "application/vnd.bokehjs_exec.v0+json": {
       "id": "12660"
      }
     },
     "output_type": "display_data"
    }
   ],
   "source": [
    "# Percentage of urban population living in slums\n",
    "years = ['2000', '2005', '2007', '2009', '2014']\n",
    "result = show_weighted_average(years, 'EN.POP.SLUM.UR.ZS', 'SP.URB.TOTL', \n",
    "                               ['LDCs', 'Developing excluding LDCs', 'OECD'], \n",
    "                                height=400, width=1000, line_width=4)"
   ]
  },
  {
   "cell_type": "code",
   "execution_count": 35,
   "metadata": {
    "ExecuteTime": {
     "end_time": "2019-10-25T14:32:38.578383Z",
     "start_time": "2019-10-25T14:31:44.564667Z"
    },
    "slideshow": {
     "slide_type": "slide"
    }
   },
   "outputs": [
    {
     "data": {
      "text/html": [
       "\n",
       "\n",
       "\n",
       "\n",
       "\n",
       "\n",
       "  <div class=\"bk-root\" id=\"47d2f4ac-d587-409a-a884-f52d06812e0c\" data-root-id=\"13333\"></div>\n"
      ]
     },
     "metadata": {},
     "output_type": "display_data"
    },
    {
     "data": {
      "application/javascript": [
       "(function(root) {\n",
       "  function embed_document(root) {\n",
       "    \n",
       "  var docs_json = {\"51936174-3ab9-4a57-8bdb-60ee26635998\":{\"roots\":{\"references\":[{\"attributes\":{\"below\":[{\"id\":\"13344\",\"type\":\"LinearAxis\"}],\"center\":[{\"id\":\"13348\",\"type\":\"Grid\"},{\"id\":\"13353\",\"type\":\"Grid\"},{\"id\":\"13378\",\"type\":\"Legend\"}],\"left\":[{\"id\":\"13349\",\"type\":\"LinearAxis\"}],\"plot_height\":400,\"plot_width\":1000,\"renderers\":[{\"id\":\"13370\",\"type\":\"GlyphRenderer\"},{\"id\":\"13383\",\"type\":\"GlyphRenderer\"},{\"id\":\"13388\",\"type\":\"GlyphRenderer\"},{\"id\":\"13404\",\"type\":\"GlyphRenderer\"},{\"id\":\"13409\",\"type\":\"GlyphRenderer\"},{\"id\":\"13429\",\"type\":\"GlyphRenderer\"}],\"title\":{\"id\":\"13334\",\"type\":\"Title\"},\"toolbar\":{\"id\":\"13360\",\"type\":\"Toolbar\"},\"x_range\":{\"id\":\"13336\",\"type\":\"DataRange1d\"},\"x_scale\":{\"id\":\"13340\",\"type\":\"LinearScale\"},\"y_range\":{\"id\":\"13338\",\"type\":\"DataRange1d\"},\"y_scale\":{\"id\":\"13342\",\"type\":\"LinearScale\"}},\"id\":\"13333\",\"subtype\":\"Figure\",\"type\":\"Plot\"},{\"attributes\":{\"active_drag\":\"auto\",\"active_inspect\":\"auto\",\"active_multi\":null,\"active_scroll\":\"auto\",\"active_tap\":\"auto\",\"tools\":[{\"id\":\"13354\",\"type\":\"PanTool\"},{\"id\":\"13355\",\"type\":\"WheelZoomTool\"},{\"id\":\"13356\",\"type\":\"BoxZoomTool\"},{\"id\":\"13357\",\"type\":\"SaveTool\"},{\"id\":\"13358\",\"type\":\"ResetTool\"},{\"id\":\"13359\",\"type\":\"HelpTool\"},{\"id\":\"13431\",\"type\":\"HoverTool\"}]},\"id\":\"13360\",\"type\":\"Toolbar\"},{\"attributes\":{\"fill_color\":{\"value\":\"#FA1857\"},\"line_color\":{\"value\":\"#FA1857\"},\"size\":{\"units\":\"screen\",\"value\":1},\"x\":{\"field\":\"x\"},\"y\":{\"field\":\"y\"}},\"id\":\"13381\",\"type\":\"Circle\"},{\"attributes\":{},\"id\":\"13354\",\"type\":\"PanTool\"},{\"attributes\":{\"source\":{\"id\":\"13367\",\"type\":\"ColumnDataSource\"}},\"id\":\"13371\",\"type\":\"CDSView\"},{\"attributes\":{},\"id\":\"13423\",\"type\":\"Selection\"},{\"attributes\":{\"axis_label\":\"Years\",\"formatter\":{\"id\":\"13375\",\"type\":\"BasicTickFormatter\"},\"ticker\":{\"id\":\"13345\",\"type\":\"BasicTicker\"}},\"id\":\"13344\",\"type\":\"LinearAxis\"},{\"attributes\":{\"overlay\":{\"id\":\"13377\",\"type\":\"BoxAnnotation\"}},\"id\":\"13356\",\"type\":\"BoxZoomTool\"},{\"attributes\":{},\"id\":\"13358\",\"type\":\"ResetTool\"},{\"attributes\":{\"callback\":null},\"id\":\"13336\",\"type\":\"DataRange1d\"},{\"attributes\":{},\"id\":\"13375\",\"type\":\"BasicTickFormatter\"},{\"attributes\":{\"axis_label\":\"SP.URB.TOTL.IN.ZS\",\"formatter\":{\"id\":\"13373\",\"type\":\"BasicTickFormatter\"},\"ticker\":{\"id\":\"13350\",\"type\":\"BasicTicker\"}},\"id\":\"13349\",\"type\":\"LinearAxis\"},{\"attributes\":{\"line_alpha\":0.1,\"line_color\":\"#1f77b4\",\"line_width\":4,\"x\":{\"field\":\"x\"},\"y\":{\"field\":\"y\"}},\"id\":\"13369\",\"type\":\"Line\"},{\"attributes\":{\"callback\":null,\"tooltips\":\"                \\n        <div style=padding=5px>Year:@x</div>\\n        <div style=padding=5px>Value:@y</div>        \\n        \"},\"id\":\"13431\",\"type\":\"HoverTool\"},{\"attributes\":{},\"id\":\"13911\",\"type\":\"UnionRenderers\"},{\"attributes\":{},\"id\":\"13913\",\"type\":\"UnionRenderers\"},{\"attributes\":{\"callback\":null,\"data\":{\"x\":[\"1960\",\"1961\",\"1962\",\"1963\",\"1964\",\"1965\",\"1966\",\"1967\",\"1968\",\"1969\",\"1970\",\"1971\",\"1972\",\"1973\",\"1974\",\"1975\",\"1976\",\"1977\",\"1978\",\"1979\",\"1980\",\"1981\",\"1982\",\"1983\",\"1984\",\"1985\",\"1986\",\"1987\",\"1988\",\"1989\",\"1990\",\"1991\",\"1992\",\"1993\",\"1994\",\"1995\",\"1996\",\"1997\",\"1998\",\"1999\",\"2000\",\"2001\",\"2002\",\"2003\",\"2004\",\"2005\",\"2006\",\"2007\",\"2008\",\"2009\",\"2010\",\"2011\",\"2012\",\"2013\",\"2014\",\"2015\",\"2016\",\"2017\"],\"y\":[9.590441626589154,9.82956798804145,10.089934021962767,10.364196897530594,10.652282421195487,10.950321706725706,11.25750617684957,11.597625960136675,11.951557303382339,12.322182079802046,12.693637316992934,13.102812270349515,13.538428975399318,13.979617608585043,14.426656898097457,14.327100490197138,14.800859912325933,15.295458366390301,15.807482552340032,16.301789127132675,16.872464467732378,17.378256808688977,17.729484022454084,18.11100449405242,18.536347067726282,18.98554603996622,19.438205330760468,19.894885353886682,20.35901959600948,20.801792260188662,21.259109417937637,21.691581230817796,22.09539325255832,22.480412543964785,22.815688586431065,23.135882958165656,23.454910987065734,23.783364917127294,24.10596219711036,24.429269167363092,24.760018964979476,25.144909976033862,25.560303342013075,25.99027025544907,26.42138428012602,26.865355922534857,27.302613758312003,27.694992295194165,28.177233849451273,28.66869884679192,29.16842314668098,29.675548544753788,30.14948587235772,30.64825122352178,31.151609942305576,31.658943613022824,32.17025719236082,32.68572055294565]},\"selected\":{\"id\":\"13396\",\"type\":\"Selection\"},\"selection_policy\":{\"id\":\"13395\",\"type\":\"UnionRenderers\"}},\"id\":\"13367\",\"type\":\"ColumnDataSource\"},{\"attributes\":{\"source\":{\"id\":\"13426\",\"type\":\"ColumnDataSource\"}},\"id\":\"13430\",\"type\":\"CDSView\"},{\"attributes\":{},\"id\":\"13350\",\"type\":\"BasicTicker\"},{\"attributes\":{\"items\":[{\"id\":\"13379\",\"type\":\"LegendItem\"},{\"id\":\"13400\",\"type\":\"LegendItem\"},{\"id\":\"13425\",\"type\":\"LegendItem\"}],\"location\":\"bottom_left\"},\"id\":\"13378\",\"type\":\"Legend\"},{\"attributes\":{},\"id\":\"13422\",\"type\":\"UnionRenderers\"},{\"attributes\":{\"bottom_units\":\"screen\",\"fill_alpha\":{\"value\":0.5},\"fill_color\":{\"value\":\"lightgrey\"},\"left_units\":\"screen\",\"level\":\"overlay\",\"line_alpha\":{\"value\":1.0},\"line_color\":{\"value\":\"black\"},\"line_dash\":[4,4],\"line_width\":{\"value\":2},\"render_mode\":\"css\",\"right_units\":\"screen\",\"top_units\":\"screen\"},\"id\":\"13377\",\"type\":\"BoxAnnotation\"},{\"attributes\":{\"text\":\"Urban population (% of total population) weighted against Population, total\"},\"id\":\"13334\",\"type\":\"Title\"},{\"attributes\":{\"line_alpha\":0.1,\"line_color\":\"#1f77b4\",\"line_width\":4,\"x\":{\"field\":\"x\"},\"y\":{\"field\":\"y\"}},\"id\":\"13387\",\"type\":\"Line\"},{\"attributes\":{},\"id\":\"13355\",\"type\":\"WheelZoomTool\"},{\"attributes\":{},\"id\":\"13357\",\"type\":\"SaveTool\"},{\"attributes\":{},\"id\":\"13914\",\"type\":\"Selection\"},{\"attributes\":{},\"id\":\"13421\",\"type\":\"Selection\"},{\"attributes\":{},\"id\":\"13396\",\"type\":\"Selection\"},{\"attributes\":{\"fill_alpha\":{\"value\":0.1},\"fill_color\":{\"value\":\"#1f77b4\"},\"line_alpha\":{\"value\":0.1},\"line_color\":{\"value\":\"#1f77b4\"},\"size\":{\"units\":\"screen\",\"value\":1},\"x\":{\"field\":\"x\"},\"y\":{\"field\":\"y\"}},\"id\":\"13403\",\"type\":\"Circle\"},{\"attributes\":{\"callback\":null,\"data\":{\"x\":[\"1960\",\"1961\",\"1962\",\"1963\",\"1964\",\"1965\",\"1966\",\"1967\",\"1968\",\"1969\",\"1970\",\"1971\",\"1972\",\"1973\",\"1974\",\"1975\",\"1976\",\"1977\",\"1978\",\"1979\",\"1980\",\"1981\",\"1982\",\"1983\",\"1984\",\"1985\",\"1986\",\"1987\",\"1988\",\"1989\",\"1990\",\"1991\",\"1992\",\"1993\",\"1994\",\"1995\",\"1996\",\"1997\",\"1998\",\"1999\",\"2000\",\"2001\",\"2002\",\"2003\",\"2004\",\"2005\",\"2006\",\"2007\",\"2008\",\"2009\",\"2010\",\"2011\",\"2012\",\"2013\",\"2014\",\"2015\",\"2016\",\"2017\"],\"y\":[62.59953620237616,63.08957334358763,63.57872639334224,64.08376999046433,64.58687436549964,65.087407161162,65.58539185759696,66.09314622321546,66.58824055065821,67.06756237656948,67.52628342166688,67.91756952516317,68.27745658275356,68.62376906240875,68.9745801014019,69.30531568374833,69.56047988482551,69.80755583528435,70.0570392716649,70.30188257560143,70.54728708463239,70.84080263406176,71.11518000620043,71.37556979428155,71.62682223254069,71.87801848980098,72.13955415956409,72.4211398671853,72.7000259866276,72.95811736019994,73.23560195464822,73.51484019892555,73.77414817178924,74.03783660613713,74.30723436951402,74.5745666211642,74.81851175794863,75.05227180897651,75.28501173120483,75.5181692891309,75.74974074372007,76.09479632423921,76.49560193311356,76.87622336289719,77.24127255096394,77.59143098241435,77.91417063193697,78.21867292983931,78.51440926413176,78.80120853028673,79.08124691428517,79.29771074412386,79.48385416511948,79.66738879268615,79.8506569075482,80.0386620288315,80.22913025645875,80.4233314253301]},\"selected\":{\"id\":\"13914\",\"type\":\"Selection\"},\"selection_policy\":{\"id\":\"13913\",\"type\":\"UnionRenderers\"}},\"id\":\"13426\",\"type\":\"ColumnDataSource\"},{\"attributes\":{},\"id\":\"13912\",\"type\":\"Selection\"},{\"attributes\":{},\"id\":\"13342\",\"type\":\"LinearScale\"},{\"attributes\":{\"callback\":null,\"data\":{\"x\":[\"1960\",\"1961\",\"1962\",\"1963\",\"1964\",\"1965\",\"1966\",\"1967\",\"1968\",\"1969\",\"1970\",\"1971\",\"1972\",\"1973\",\"1974\",\"1975\",\"1976\",\"1977\",\"1978\",\"1979\",\"1980\",\"1981\",\"1982\",\"1983\",\"1984\",\"1985\",\"1986\",\"1987\",\"1988\",\"1989\",\"1990\",\"1991\",\"1992\",\"1993\",\"1994\",\"1995\",\"1996\",\"1997\",\"1998\",\"1999\",\"2000\",\"2001\",\"2002\",\"2003\",\"2004\",\"2005\",\"2006\",\"2007\",\"2008\",\"2009\",\"2010\",\"2011\",\"2012\",\"2013\",\"2014\",\"2015\",\"2016\",\"2017\"],\"y\":[22.630949288694833,23.14281914867262,23.63312711968041,24.089976990736393,24.556059976253326,24.732603461884004,24.91323170795608,25.110005118236234,25.303107900443436,25.49142592220588,25.680646321274192,25.897359116719393,26.15520822571961,26.462227546535093,26.816876575043107,27.179600502462144,27.528279378386834,27.884271151811344,28.363702119408167,28.966693913320626,29.57896681146142,30.216362823981534,30.836365224138223,31.40227128490981,31.977573113645832,32.552216495483755,33.12127196800427,33.684605348038794,34.247222182829134,34.81002887259299,35.37519635893041,35.94756436038916,36.481760611613694,37.05433252421815,37.627897151830695,38.22540077342875,38.79671598864855,39.37048203585944,39.948270161766125,40.52672004161325,41.11494683071915,41.761603501479144,42.46147430353454,43.16134280503671,43.86666821577943,44.576114937235026,45.27519476585794,45.96910645799235,46.665300390624786,47.35893958565393,48.05102009881094,48.71516104918681,49.368472052422604,50.01832656497409,50.667168529751926,51.31245173550162,51.95558590128294,52.59415157798671]},\"selected\":{\"id\":\"13423\",\"type\":\"Selection\"},\"selection_policy\":{\"id\":\"13422\",\"type\":\"UnionRenderers\"}},\"id\":\"13401\",\"type\":\"ColumnDataSource\"},{\"attributes\":{\"source\":{\"id\":\"13385\",\"type\":\"ColumnDataSource\"}},\"id\":\"13389\",\"type\":\"CDSView\"},{\"attributes\":{\"source\":{\"id\":\"13380\",\"type\":\"ColumnDataSource\"}},\"id\":\"13384\",\"type\":\"CDSView\"},{\"attributes\":{\"label\":{\"value\":\"LDCs\"},\"renderers\":[{\"id\":\"13370\",\"type\":\"GlyphRenderer\"}]},\"id\":\"13379\",\"type\":\"LegendItem\"},{\"attributes\":{\"fill_alpha\":{\"value\":0.1},\"fill_color\":{\"value\":\"#1f77b4\"},\"line_alpha\":{\"value\":0.1},\"line_color\":{\"value\":\"#1f77b4\"},\"size\":{\"units\":\"screen\",\"value\":1},\"x\":{\"field\":\"x\"},\"y\":{\"field\":\"y\"}},\"id\":\"13428\",\"type\":\"Circle\"},{\"attributes\":{},\"id\":\"13340\",\"type\":\"LinearScale\"},{\"attributes\":{\"fill_alpha\":{\"value\":0.1},\"fill_color\":{\"value\":\"#1f77b4\"},\"line_alpha\":{\"value\":0.1},\"line_color\":{\"value\":\"#1f77b4\"},\"size\":{\"units\":\"screen\",\"value\":1},\"x\":{\"field\":\"x\"},\"y\":{\"field\":\"y\"}},\"id\":\"13382\",\"type\":\"Circle\"},{\"attributes\":{\"callback\":null},\"id\":\"13338\",\"type\":\"DataRange1d\"},{\"attributes\":{\"fill_color\":{\"value\":\"#5430F1\"},\"line_color\":{\"value\":\"#5430F1\"},\"size\":{\"units\":\"screen\",\"value\":1},\"x\":{\"field\":\"x\"},\"y\":{\"field\":\"y\"}},\"id\":\"13402\",\"type\":\"Circle\"},{\"attributes\":{\"data_source\":{\"id\":\"13401\",\"type\":\"ColumnDataSource\"},\"glyph\":{\"id\":\"13402\",\"type\":\"Circle\"},\"hover_glyph\":null,\"muted_glyph\":null,\"nonselection_glyph\":{\"id\":\"13403\",\"type\":\"Circle\"},\"selection_glyph\":null,\"view\":{\"id\":\"13405\",\"type\":\"CDSView\"}},\"id\":\"13404\",\"type\":\"GlyphRenderer\"},{\"attributes\":{},\"id\":\"13397\",\"type\":\"UnionRenderers\"},{\"attributes\":{\"source\":{\"id\":\"13406\",\"type\":\"ColumnDataSource\"}},\"id\":\"13410\",\"type\":\"CDSView\"},{\"attributes\":{},\"id\":\"13345\",\"type\":\"BasicTicker\"},{\"attributes\":{\"dimension\":1,\"grid_line_alpha\":0.5,\"ticker\":{\"id\":\"13350\",\"type\":\"BasicTicker\"}},\"id\":\"13353\",\"type\":\"Grid\"},{\"attributes\":{\"callback\":null,\"data\":{\"x\":[\"1960\",\"1961\",\"1962\",\"1963\",\"1964\",\"1965\",\"1966\",\"1967\",\"1968\",\"1969\",\"1970\",\"1971\",\"1972\",\"1973\",\"1974\",\"1975\",\"1976\",\"1977\",\"1978\",\"1979\",\"1980\",\"1981\",\"1982\",\"1983\",\"1984\",\"1985\",\"1986\",\"1987\",\"1988\",\"1989\",\"1990\",\"1991\",\"1992\",\"1993\",\"1994\",\"1995\",\"1996\",\"1997\",\"1998\",\"1999\",\"2000\",\"2001\",\"2002\",\"2003\",\"2004\",\"2005\",\"2006\",\"2007\",\"2008\",\"2009\",\"2010\",\"2011\",\"2012\",\"2013\",\"2014\",\"2015\",\"2016\",\"2017\"],\"y\":[9.590441626589154,9.82956798804145,10.089934021962767,10.364196897530594,10.652282421195487,10.950321706725706,11.25750617684957,11.597625960136675,11.951557303382339,12.322182079802046,12.693637316992934,13.102812270349515,13.538428975399318,13.979617608585043,14.426656898097457,14.327100490197138,14.800859912325933,15.295458366390301,15.807482552340032,16.301789127132675,16.872464467732378,17.378256808688977,17.729484022454084,18.11100449405242,18.536347067726282,18.98554603996622,19.438205330760468,19.894885353886682,20.35901959600948,20.801792260188662,21.259109417937637,21.691581230817796,22.09539325255832,22.480412543964785,22.815688586431065,23.135882958165656,23.454910987065734,23.783364917127294,24.10596219711036,24.429269167363092,24.760018964979476,25.144909976033862,25.560303342013075,25.99027025544907,26.42138428012602,26.865355922534857,27.302613758312003,27.694992295194165,28.177233849451273,28.66869884679192,29.16842314668098,29.675548544753788,30.14948587235772,30.64825122352178,31.151609942305576,31.658943613022824,32.17025719236082,32.68572055294565]},\"selected\":{\"id\":\"13398\",\"type\":\"Selection\"},\"selection_policy\":{\"id\":\"13397\",\"type\":\"UnionRenderers\"}},\"id\":\"13380\",\"type\":\"ColumnDataSource\"},{\"attributes\":{},\"id\":\"13420\",\"type\":\"UnionRenderers\"},{\"attributes\":{\"data_source\":{\"id\":\"13367\",\"type\":\"ColumnDataSource\"},\"glyph\":{\"id\":\"13368\",\"type\":\"Line\"},\"hover_glyph\":null,\"muted_glyph\":null,\"nonselection_glyph\":{\"id\":\"13369\",\"type\":\"Line\"},\"selection_glyph\":null,\"view\":{\"id\":\"13371\",\"type\":\"CDSView\"}},\"id\":\"13370\",\"type\":\"GlyphRenderer\"},{\"attributes\":{\"grid_line_color\":null,\"ticker\":{\"id\":\"13345\",\"type\":\"BasicTicker\"}},\"id\":\"13348\",\"type\":\"Grid\"},{\"attributes\":{\"line_color\":\"#5430F1\",\"line_width\":4,\"x\":{\"field\":\"x\"},\"y\":{\"field\":\"y\"}},\"id\":\"13386\",\"type\":\"Line\"},{\"attributes\":{\"data_source\":{\"id\":\"13380\",\"type\":\"ColumnDataSource\"},\"glyph\":{\"id\":\"13381\",\"type\":\"Circle\"},\"hover_glyph\":null,\"muted_glyph\":null,\"nonselection_glyph\":{\"id\":\"13382\",\"type\":\"Circle\"},\"selection_glyph\":null,\"view\":{\"id\":\"13384\",\"type\":\"CDSView\"}},\"id\":\"13383\",\"type\":\"GlyphRenderer\"},{\"attributes\":{\"source\":{\"id\":\"13401\",\"type\":\"ColumnDataSource\"}},\"id\":\"13405\",\"type\":\"CDSView\"},{\"attributes\":{\"fill_color\":{\"value\":\"#2CC775\"},\"line_color\":{\"value\":\"#2CC775\"},\"size\":{\"units\":\"screen\",\"value\":1},\"x\":{\"field\":\"x\"},\"y\":{\"field\":\"y\"}},\"id\":\"13427\",\"type\":\"Circle\"},{\"attributes\":{\"label\":{\"value\":\"OECD\"},\"renderers\":[{\"id\":\"13409\",\"type\":\"GlyphRenderer\"}]},\"id\":\"13425\",\"type\":\"LegendItem\"},{\"attributes\":{},\"id\":\"13398\",\"type\":\"Selection\"},{\"attributes\":{\"callback\":null,\"data\":{\"x\":[\"1960\",\"1961\",\"1962\",\"1963\",\"1964\",\"1965\",\"1966\",\"1967\",\"1968\",\"1969\",\"1970\",\"1971\",\"1972\",\"1973\",\"1974\",\"1975\",\"1976\",\"1977\",\"1978\",\"1979\",\"1980\",\"1981\",\"1982\",\"1983\",\"1984\",\"1985\",\"1986\",\"1987\",\"1988\",\"1989\",\"1990\",\"1991\",\"1992\",\"1993\",\"1994\",\"1995\",\"1996\",\"1997\",\"1998\",\"1999\",\"2000\",\"2001\",\"2002\",\"2003\",\"2004\",\"2005\",\"2006\",\"2007\",\"2008\",\"2009\",\"2010\",\"2011\",\"2012\",\"2013\",\"2014\",\"2015\",\"2016\",\"2017\"],\"y\":[22.630949288694833,23.14281914867262,23.63312711968041,24.089976990736393,24.556059976253326,24.732603461884004,24.91323170795608,25.110005118236234,25.303107900443436,25.49142592220588,25.680646321274192,25.897359116719393,26.15520822571961,26.462227546535093,26.816876575043107,27.179600502462144,27.528279378386834,27.884271151811344,28.363702119408167,28.966693913320626,29.57896681146142,30.216362823981534,30.836365224138223,31.40227128490981,31.977573113645832,32.552216495483755,33.12127196800427,33.684605348038794,34.247222182829134,34.81002887259299,35.37519635893041,35.94756436038916,36.481760611613694,37.05433252421815,37.627897151830695,38.22540077342875,38.79671598864855,39.37048203585944,39.948270161766125,40.52672004161325,41.11494683071915,41.761603501479144,42.46147430353454,43.16134280503671,43.86666821577943,44.576114937235026,45.27519476585794,45.96910645799235,46.665300390624786,47.35893958565393,48.05102009881094,48.71516104918681,49.368472052422604,50.01832656497409,50.667168529751926,51.31245173550162,51.95558590128294,52.59415157798671]},\"selected\":{\"id\":\"13421\",\"type\":\"Selection\"},\"selection_policy\":{\"id\":\"13420\",\"type\":\"UnionRenderers\"}},\"id\":\"13385\",\"type\":\"ColumnDataSource\"},{\"attributes\":{\"line_color\":\"#2CC775\",\"line_width\":4,\"x\":{\"field\":\"x\"},\"y\":{\"field\":\"y\"}},\"id\":\"13407\",\"type\":\"Line\"},{\"attributes\":{\"line_alpha\":0.1,\"line_color\":\"#1f77b4\",\"line_width\":4,\"x\":{\"field\":\"x\"},\"y\":{\"field\":\"y\"}},\"id\":\"13408\",\"type\":\"Line\"},{\"attributes\":{\"data_source\":{\"id\":\"13385\",\"type\":\"ColumnDataSource\"},\"glyph\":{\"id\":\"13386\",\"type\":\"Line\"},\"hover_glyph\":null,\"muted_glyph\":null,\"nonselection_glyph\":{\"id\":\"13387\",\"type\":\"Line\"},\"selection_glyph\":null,\"view\":{\"id\":\"13389\",\"type\":\"CDSView\"}},\"id\":\"13388\",\"type\":\"GlyphRenderer\"},{\"attributes\":{},\"id\":\"13359\",\"type\":\"HelpTool\"},{\"attributes\":{},\"id\":\"13373\",\"type\":\"BasicTickFormatter\"},{\"attributes\":{\"data_source\":{\"id\":\"13406\",\"type\":\"ColumnDataSource\"},\"glyph\":{\"id\":\"13407\",\"type\":\"Line\"},\"hover_glyph\":null,\"muted_glyph\":null,\"nonselection_glyph\":{\"id\":\"13408\",\"type\":\"Line\"},\"selection_glyph\":null,\"view\":{\"id\":\"13410\",\"type\":\"CDSView\"}},\"id\":\"13409\",\"type\":\"GlyphRenderer\"},{\"attributes\":{\"line_color\":\"#FA1857\",\"line_width\":4,\"x\":{\"field\":\"x\"},\"y\":{\"field\":\"y\"}},\"id\":\"13368\",\"type\":\"Line\"},{\"attributes\":{},\"id\":\"13395\",\"type\":\"UnionRenderers\"},{\"attributes\":{\"label\":{\"value\":\"Developing excluding LDCs\"},\"renderers\":[{\"id\":\"13388\",\"type\":\"GlyphRenderer\"}]},\"id\":\"13400\",\"type\":\"LegendItem\"},{\"attributes\":{\"callback\":null,\"data\":{\"x\":[\"1960\",\"1961\",\"1962\",\"1963\",\"1964\",\"1965\",\"1966\",\"1967\",\"1968\",\"1969\",\"1970\",\"1971\",\"1972\",\"1973\",\"1974\",\"1975\",\"1976\",\"1977\",\"1978\",\"1979\",\"1980\",\"1981\",\"1982\",\"1983\",\"1984\",\"1985\",\"1986\",\"1987\",\"1988\",\"1989\",\"1990\",\"1991\",\"1992\",\"1993\",\"1994\",\"1995\",\"1996\",\"1997\",\"1998\",\"1999\",\"2000\",\"2001\",\"2002\",\"2003\",\"2004\",\"2005\",\"2006\",\"2007\",\"2008\",\"2009\",\"2010\",\"2011\",\"2012\",\"2013\",\"2014\",\"2015\",\"2016\",\"2017\"],\"y\":[62.59953620237616,63.08957334358763,63.57872639334224,64.08376999046433,64.58687436549964,65.087407161162,65.58539185759696,66.09314622321546,66.58824055065821,67.06756237656948,67.52628342166688,67.91756952516317,68.27745658275356,68.62376906240875,68.9745801014019,69.30531568374833,69.56047988482551,69.80755583528435,70.0570392716649,70.30188257560143,70.54728708463239,70.84080263406176,71.11518000620043,71.37556979428155,71.62682223254069,71.87801848980098,72.13955415956409,72.4211398671853,72.7000259866276,72.95811736019994,73.23560195464822,73.51484019892555,73.77414817178924,74.03783660613713,74.30723436951402,74.5745666211642,74.81851175794863,75.05227180897651,75.28501173120483,75.5181692891309,75.74974074372007,76.09479632423921,76.49560193311356,76.87622336289719,77.24127255096394,77.59143098241435,77.91417063193697,78.21867292983931,78.51440926413176,78.80120853028673,79.08124691428517,79.29771074412386,79.48385416511948,79.66738879268615,79.8506569075482,80.0386620288315,80.22913025645875,80.4233314253301]},\"selected\":{\"id\":\"13912\",\"type\":\"Selection\"},\"selection_policy\":{\"id\":\"13911\",\"type\":\"UnionRenderers\"}},\"id\":\"13406\",\"type\":\"ColumnDataSource\"},{\"attributes\":{\"data_source\":{\"id\":\"13426\",\"type\":\"ColumnDataSource\"},\"glyph\":{\"id\":\"13427\",\"type\":\"Circle\"},\"hover_glyph\":null,\"muted_glyph\":null,\"nonselection_glyph\":{\"id\":\"13428\",\"type\":\"Circle\"},\"selection_glyph\":null,\"view\":{\"id\":\"13430\",\"type\":\"CDSView\"}},\"id\":\"13429\",\"type\":\"GlyphRenderer\"}],\"root_ids\":[\"13333\"]},\"title\":\"Bokeh Application\",\"version\":\"1.3.4\"}};\n",
       "  var render_items = [{\"docid\":\"51936174-3ab9-4a57-8bdb-60ee26635998\",\"roots\":{\"13333\":\"47d2f4ac-d587-409a-a884-f52d06812e0c\"}}];\n",
       "  root.Bokeh.embed.embed_items_notebook(docs_json, render_items);\n",
       "\n",
       "  }\n",
       "  if (root.Bokeh !== undefined) {\n",
       "    embed_document(root);\n",
       "  } else {\n",
       "    var attempts = 0;\n",
       "    var timer = setInterval(function(root) {\n",
       "      if (root.Bokeh !== undefined) {\n",
       "        embed_document(root);\n",
       "        clearInterval(timer);\n",
       "      }\n",
       "      attempts++;\n",
       "      if (attempts > 100) {\n",
       "        console.log(\"Bokeh: ERROR: Unable to run BokehJS code because BokehJS library is missing\");\n",
       "        clearInterval(timer);\n",
       "      }\n",
       "    }, 10, root)\n",
       "  }\n",
       "})(window);"
      ],
      "application/vnd.bokehjs_exec.v0+json": ""
     },
     "metadata": {
      "application/vnd.bokehjs_exec.v0+json": {
       "id": "13333"
      }
     },
     "output_type": "display_data"
    }
   ],
   "source": [
    "years = list(map(str, list(range(1960,2018))))\n",
    "# Urban population as a percentage of total population\n",
    "result = show_weighted_average(years, 'SP.URB.TOTL.IN.ZS', 'SP.POP.TOTL', \n",
    "                               ['LDCs', 'Developing excluding LDCs', 'OECD'], \n",
    "                                height=400, width=1000, line_width=4)"
   ]
  },
  {
   "cell_type": "code",
   "execution_count": 36,
   "metadata": {
    "ExecuteTime": {
     "end_time": "2019-10-25T14:29:15.192779Z",
     "start_time": "2019-10-25T14:29:14.263102Z"
    },
    "slideshow": {
     "slide_type": "slide"
    }
   },
   "outputs": [
    {
     "data": {
      "text/html": [
       "\n",
       "\n",
       "\n",
       "\n",
       "\n",
       "\n",
       "  <div class=\"bk-root\" id=\"b0f93214-265a-4bea-8bd5-6d2468739767\" data-root-id=\"14024\"></div>\n"
      ]
     },
     "metadata": {},
     "output_type": "display_data"
    },
    {
     "data": {
      "application/javascript": [
       "(function(root) {\n",
       "  function embed_document(root) {\n",
       "    \n",
       "  var docs_json = {\"27f40e17-e0ce-4386-8a97-57f2f6650b87\":{\"roots\":{\"references\":[{\"attributes\":{\"below\":[{\"id\":\"14035\",\"type\":\"LinearAxis\"}],\"center\":[{\"id\":\"14039\",\"type\":\"Grid\"},{\"id\":\"14044\",\"type\":\"Grid\"},{\"id\":\"14069\",\"type\":\"Legend\"}],\"left\":[{\"id\":\"14040\",\"type\":\"LinearAxis\"}],\"plot_height\":400,\"plot_width\":1000,\"renderers\":[{\"id\":\"14061\",\"type\":\"GlyphRenderer\"},{\"id\":\"14074\",\"type\":\"GlyphRenderer\"}],\"title\":{\"id\":\"14025\",\"type\":\"Title\"},\"toolbar\":{\"id\":\"14051\",\"type\":\"Toolbar\"},\"x_range\":{\"id\":\"14027\",\"type\":\"DataRange1d\"},\"x_scale\":{\"id\":\"14031\",\"type\":\"LinearScale\"},\"y_range\":{\"id\":\"14029\",\"type\":\"DataRange1d\"},\"y_scale\":{\"id\":\"14033\",\"type\":\"LinearScale\"}},\"id\":\"14024\",\"subtype\":\"Figure\",\"type\":\"Plot\"},{\"attributes\":{\"line_alpha\":0.1,\"line_color\":\"#1f77b4\",\"line_width\":4,\"x\":{\"field\":\"x\"},\"y\":{\"field\":\"y\"}},\"id\":\"14060\",\"type\":\"Line\"},{\"attributes\":{\"active_drag\":\"auto\",\"active_inspect\":\"auto\",\"active_multi\":null,\"active_scroll\":\"auto\",\"active_tap\":\"auto\",\"tools\":[{\"id\":\"14045\",\"type\":\"PanTool\"},{\"id\":\"14046\",\"type\":\"WheelZoomTool\"},{\"id\":\"14047\",\"type\":\"BoxZoomTool\"},{\"id\":\"14048\",\"type\":\"SaveTool\"},{\"id\":\"14049\",\"type\":\"ResetTool\"},{\"id\":\"14050\",\"type\":\"HelpTool\"},{\"id\":\"14076\",\"type\":\"HoverTool\"}]},\"id\":\"14051\",\"type\":\"Toolbar\"},{\"attributes\":{},\"id\":\"14066\",\"type\":\"BasicTickFormatter\"},{\"attributes\":{\"callback\":null,\"tooltips\":\"                \\n        <div style=padding=5px>Year:@x</div>\\n        <div style=padding=5px>Value:@y</div>        \\n        \"},\"id\":\"14076\",\"type\":\"HoverTool\"},{\"attributes\":{\"text\":\"Urban population\"},\"id\":\"14025\",\"type\":\"Title\"},{\"attributes\":{},\"id\":\"14041\",\"type\":\"BasicTicker\"},{\"attributes\":{\"bottom_units\":\"screen\",\"fill_alpha\":{\"value\":0.5},\"fill_color\":{\"value\":\"lightgrey\"},\"left_units\":\"screen\",\"level\":\"overlay\",\"line_alpha\":{\"value\":1.0},\"line_color\":{\"value\":\"black\"},\"line_dash\":[4,4],\"line_width\":{\"value\":2},\"render_mode\":\"css\",\"right_units\":\"screen\",\"top_units\":\"screen\"},\"id\":\"14068\",\"type\":\"BoxAnnotation\"},{\"attributes\":{\"callback\":null,\"data\":{\"x\":[\"1960\",\"1961\",\"1962\",\"1963\",\"1964\",\"1965\",\"1966\",\"1967\",\"1968\",\"1969\",\"1970\",\"1971\",\"1972\",\"1973\",\"1974\",\"1975\",\"1976\",\"1977\",\"1978\",\"1979\",\"1980\",\"1981\",\"1982\",\"1983\",\"1984\",\"1985\",\"1986\",\"1987\",\"1988\",\"1989\",\"1990\",\"1991\",\"1992\",\"1993\",\"1994\",\"1995\",\"1996\",\"1997\",\"1998\",\"1999\",\"2000\",\"2001\",\"2002\",\"2003\",\"2004\",\"2005\",\"2006\",\"2007\",\"2008\",\"2009\",\"2010\",\"2011\",\"2012\",\"2013\",\"2014\",\"2015\",\"2016\",\"2017\"],\"y\":[23317292.0,24465608.0,25715484.0,27056026.0,28495614.0,30031066.0,31667488.0,33475608.0,35399148.0,37438167.0,39538583.0,41813984.0,44241565.0,46769493.0,49418771.0,50279277.0,53224569.0,56380077.0,59741635.0,63173090.0,67018359.0,70759809.0,74015049.0,77517852.0,81340591.0,85438619.0,89730611.0,94224950.0,98950365.0,103779087.0,108895345.0,114110906.0,119435249.0,124882817.0,130206642.0,135562776.0,141015012.0,146637320.0,152365029.0,158280891.0,164462270.0,171248545.0,178496124.0,186087168.0,193896898.0,201991152.0,210219133.0,218294690.0,227312839.0,236706129.0,246511210.0,256742767.0,266067392.0,276930811.0,288207667.0,299896804.0,312008544.0,324553851.0]},\"selected\":{\"id\":\"14567\",\"type\":\"Selection\"},\"selection_policy\":{\"id\":\"14566\",\"type\":\"UnionRenderers\"}},\"id\":\"14058\",\"type\":\"ColumnDataSource\"},{\"attributes\":{},\"id\":\"14048\",\"type\":\"SaveTool\"},{\"attributes\":{},\"id\":\"14033\",\"type\":\"LinearScale\"},{\"attributes\":{\"dimension\":1,\"grid_line_alpha\":0.5,\"ticker\":{\"id\":\"14041\",\"type\":\"BasicTicker\"}},\"id\":\"14044\",\"type\":\"Grid\"},{\"attributes\":{\"label\":{\"value\":\"LDCs\"},\"renderers\":[{\"id\":\"14061\",\"type\":\"GlyphRenderer\"}]},\"id\":\"14070\",\"type\":\"LegendItem\"},{\"attributes\":{\"fill_color\":{\"value\":\"#FA1857\"},\"line_color\":{\"value\":\"#FA1857\"},\"size\":{\"units\":\"screen\",\"value\":3},\"x\":{\"field\":\"x\"},\"y\":{\"field\":\"y\"}},\"id\":\"14072\",\"type\":\"Circle\"},{\"attributes\":{},\"id\":\"14050\",\"type\":\"HelpTool\"},{\"attributes\":{\"callback\":null},\"id\":\"14029\",\"type\":\"DataRange1d\"},{\"attributes\":{\"source\":{\"id\":\"14058\",\"type\":\"ColumnDataSource\"}},\"id\":\"14062\",\"type\":\"CDSView\"},{\"attributes\":{\"data_source\":{\"id\":\"14071\",\"type\":\"ColumnDataSource\"},\"glyph\":{\"id\":\"14072\",\"type\":\"Circle\"},\"hover_glyph\":null,\"muted_glyph\":null,\"nonselection_glyph\":{\"id\":\"14073\",\"type\":\"Circle\"},\"selection_glyph\":null,\"view\":{\"id\":\"14075\",\"type\":\"CDSView\"}},\"id\":\"14074\",\"type\":\"GlyphRenderer\"},{\"attributes\":{\"grid_line_color\":null,\"ticker\":{\"id\":\"14036\",\"type\":\"BasicTicker\"}},\"id\":\"14039\",\"type\":\"Grid\"},{\"attributes\":{\"source\":{\"id\":\"14071\",\"type\":\"ColumnDataSource\"}},\"id\":\"14075\",\"type\":\"CDSView\"},{\"attributes\":{},\"id\":\"14569\",\"type\":\"Selection\"},{\"attributes\":{\"callback\":null,\"data\":{\"x\":[\"1960\",\"1961\",\"1962\",\"1963\",\"1964\",\"1965\",\"1966\",\"1967\",\"1968\",\"1969\",\"1970\",\"1971\",\"1972\",\"1973\",\"1974\",\"1975\",\"1976\",\"1977\",\"1978\",\"1979\",\"1980\",\"1981\",\"1982\",\"1983\",\"1984\",\"1985\",\"1986\",\"1987\",\"1988\",\"1989\",\"1990\",\"1991\",\"1992\",\"1993\",\"1994\",\"1995\",\"1996\",\"1997\",\"1998\",\"1999\",\"2000\",\"2001\",\"2002\",\"2003\",\"2004\",\"2005\",\"2006\",\"2007\",\"2008\",\"2009\",\"2010\",\"2011\",\"2012\",\"2013\",\"2014\",\"2015\",\"2016\",\"2017\"],\"y\":[23317292.0,24465608.0,25715484.0,27056026.0,28495614.0,30031066.0,31667488.0,33475608.0,35399148.0,37438167.0,39538583.0,41813984.0,44241565.0,46769493.0,49418771.0,50279277.0,53224569.0,56380077.0,59741635.0,63173090.0,67018359.0,70759809.0,74015049.0,77517852.0,81340591.0,85438619.0,89730611.0,94224950.0,98950365.0,103779087.0,108895345.0,114110906.0,119435249.0,124882817.0,130206642.0,135562776.0,141015012.0,146637320.0,152365029.0,158280891.0,164462270.0,171248545.0,178496124.0,186087168.0,193896898.0,201991152.0,210219133.0,218294690.0,227312839.0,236706129.0,246511210.0,256742767.0,266067392.0,276930811.0,288207667.0,299896804.0,312008544.0,324553851.0]},\"selected\":{\"id\":\"14569\",\"type\":\"Selection\"},\"selection_policy\":{\"id\":\"14568\",\"type\":\"UnionRenderers\"}},\"id\":\"14071\",\"type\":\"ColumnDataSource\"},{\"attributes\":{},\"id\":\"14046\",\"type\":\"WheelZoomTool\"},{\"attributes\":{\"callback\":null},\"id\":\"14027\",\"type\":\"DataRange1d\"},{\"attributes\":{},\"id\":\"14566\",\"type\":\"UnionRenderers\"},{\"attributes\":{\"items\":[{\"id\":\"14070\",\"type\":\"LegendItem\"}],\"location\":\"bottom_left\"},\"id\":\"14069\",\"type\":\"Legend\"},{\"attributes\":{},\"id\":\"14031\",\"type\":\"LinearScale\"},{\"attributes\":{\"data_source\":{\"id\":\"14058\",\"type\":\"ColumnDataSource\"},\"glyph\":{\"id\":\"14059\",\"type\":\"Line\"},\"hover_glyph\":null,\"muted_glyph\":null,\"nonselection_glyph\":{\"id\":\"14060\",\"type\":\"Line\"},\"selection_glyph\":null,\"view\":{\"id\":\"14062\",\"type\":\"CDSView\"}},\"id\":\"14061\",\"type\":\"GlyphRenderer\"},{\"attributes\":{\"axis_label\":\"SP.URB.TOTL\",\"formatter\":{\"id\":\"14064\",\"type\":\"BasicTickFormatter\"},\"ticker\":{\"id\":\"14041\",\"type\":\"BasicTicker\"}},\"id\":\"14040\",\"type\":\"LinearAxis\"},{\"attributes\":{},\"id\":\"14568\",\"type\":\"UnionRenderers\"},{\"attributes\":{},\"id\":\"14049\",\"type\":\"ResetTool\"},{\"attributes\":{},\"id\":\"14036\",\"type\":\"BasicTicker\"},{\"attributes\":{\"line_color\":\"#FA1857\",\"line_width\":4,\"x\":{\"field\":\"x\"},\"y\":{\"field\":\"y\"}},\"id\":\"14059\",\"type\":\"Line\"},{\"attributes\":{},\"id\":\"14064\",\"type\":\"BasicTickFormatter\"},{\"attributes\":{},\"id\":\"14045\",\"type\":\"PanTool\"},{\"attributes\":{\"overlay\":{\"id\":\"14068\",\"type\":\"BoxAnnotation\"}},\"id\":\"14047\",\"type\":\"BoxZoomTool\"},{\"attributes\":{\"fill_alpha\":{\"value\":0.1},\"fill_color\":{\"value\":\"#1f77b4\"},\"line_alpha\":{\"value\":0.1},\"line_color\":{\"value\":\"#1f77b4\"},\"size\":{\"units\":\"screen\",\"value\":3},\"x\":{\"field\":\"x\"},\"y\":{\"field\":\"y\"}},\"id\":\"14073\",\"type\":\"Circle\"},{\"attributes\":{\"axis_label\":\"Years\",\"formatter\":{\"id\":\"14066\",\"type\":\"BasicTickFormatter\"},\"ticker\":{\"id\":\"14036\",\"type\":\"BasicTicker\"}},\"id\":\"14035\",\"type\":\"LinearAxis\"},{\"attributes\":{},\"id\":\"14567\",\"type\":\"Selection\"}],\"root_ids\":[\"14024\"]},\"title\":\"Bokeh Application\",\"version\":\"1.3.4\"}};\n",
       "  var render_items = [{\"docid\":\"27f40e17-e0ce-4386-8a97-57f2f6650b87\",\"roots\":{\"14024\":\"b0f93214-265a-4bea-8bd5-6d2468739767\"}}];\n",
       "  root.Bokeh.embed.embed_items_notebook(docs_json, render_items);\n",
       "\n",
       "  }\n",
       "  if (root.Bokeh !== undefined) {\n",
       "    embed_document(root);\n",
       "  } else {\n",
       "    var attempts = 0;\n",
       "    var timer = setInterval(function(root) {\n",
       "      if (root.Bokeh !== undefined) {\n",
       "        embed_document(root);\n",
       "        clearInterval(timer);\n",
       "      }\n",
       "      attempts++;\n",
       "      if (attempts > 100) {\n",
       "        console.log(\"Bokeh: ERROR: Unable to run BokehJS code because BokehJS library is missing\");\n",
       "        clearInterval(timer);\n",
       "      }\n",
       "    }, 10, root)\n",
       "  }\n",
       "})(window);"
      ],
      "application/vnd.bokehjs_exec.v0+json": ""
     },
     "metadata": {
      "application/vnd.bokehjs_exec.v0+json": {
       "id": "14024"
      }
     },
     "output_type": "display_data"
    }
   ],
   "source": [
    "result = show_group_total(years, 'SP.URB.TOTL', ['LDCs'], \n",
    "                                height=400, width=1000, line_width=4)"
   ]
  },
  {
   "cell_type": "code",
   "execution_count": 37,
   "metadata": {
    "ExecuteTime": {
     "end_time": "2019-10-25T14:35:30.281624Z",
     "start_time": "2019-10-25T14:35:22.402094Z"
    },
    "slideshow": {
     "slide_type": "slide"
    }
   },
   "outputs": [
    {
     "data": {
      "text/html": [
       "\n",
       "\n",
       "\n",
       "\n",
       "\n",
       "\n",
       "  <div class=\"bk-root\" id=\"b248f1b6-731c-44e2-9cd8-0da0306c3ee5\" data-root-id=\"14631\"></div>\n"
      ]
     },
     "metadata": {},
     "output_type": "display_data"
    },
    {
     "data": {
      "application/javascript": [
       "(function(root) {\n",
       "  function embed_document(root) {\n",
       "    \n",
       "  var docs_json = {\"14023135-ed19-4a21-b419-c368333ff13b\":{\"roots\":{\"references\":[{\"attributes\":{\"below\":[{\"id\":\"14642\",\"type\":\"LinearAxis\"}],\"center\":[{\"id\":\"14646\",\"type\":\"Grid\"},{\"id\":\"14651\",\"type\":\"Grid\"},{\"id\":\"14676\",\"type\":\"Legend\"}],\"left\":[{\"id\":\"14647\",\"type\":\"LinearAxis\"}],\"plot_height\":400,\"plot_width\":1000,\"renderers\":[{\"id\":\"14668\",\"type\":\"GlyphRenderer\"},{\"id\":\"14681\",\"type\":\"GlyphRenderer\"},{\"id\":\"14686\",\"type\":\"GlyphRenderer\"},{\"id\":\"14702\",\"type\":\"GlyphRenderer\"},{\"id\":\"14707\",\"type\":\"GlyphRenderer\"},{\"id\":\"14727\",\"type\":\"GlyphRenderer\"}],\"title\":{\"id\":\"14632\",\"type\":\"Title\"},\"toolbar\":{\"id\":\"14658\",\"type\":\"Toolbar\"},\"x_range\":{\"id\":\"14634\",\"type\":\"DataRange1d\"},\"x_scale\":{\"id\":\"14638\",\"type\":\"LinearScale\"},\"y_range\":{\"id\":\"14636\",\"type\":\"DataRange1d\"},\"y_scale\":{\"id\":\"14640\",\"type\":\"LinearScale\"}},\"id\":\"14631\",\"subtype\":\"Figure\",\"type\":\"Plot\"},{\"attributes\":{\"fill_alpha\":{\"value\":0.1},\"fill_color\":{\"value\":\"#1f77b4\"},\"line_alpha\":{\"value\":0.1},\"line_color\":{\"value\":\"#1f77b4\"},\"size\":{\"units\":\"screen\",\"value\":1},\"x\":{\"field\":\"x\"},\"y\":{\"field\":\"y\"}},\"id\":\"14726\",\"type\":\"Circle\"},{\"attributes\":{},\"id\":\"14673\",\"type\":\"BasicTickFormatter\"},{\"attributes\":{\"label\":{\"value\":\"Developing excluding LDCs\"},\"renderers\":[{\"id\":\"14686\",\"type\":\"GlyphRenderer\"}]},\"id\":\"14698\",\"type\":\"LegendItem\"},{\"attributes\":{\"data_source\":{\"id\":\"14724\",\"type\":\"ColumnDataSource\"},\"glyph\":{\"id\":\"14725\",\"type\":\"Circle\"},\"hover_glyph\":null,\"muted_glyph\":null,\"nonselection_glyph\":{\"id\":\"14726\",\"type\":\"Circle\"},\"selection_glyph\":null,\"view\":{\"id\":\"14728\",\"type\":\"CDSView\"}},\"id\":\"14727\",\"type\":\"GlyphRenderer\"},{\"attributes\":{\"bottom_units\":\"screen\",\"fill_alpha\":{\"value\":0.5},\"fill_color\":{\"value\":\"lightgrey\"},\"left_units\":\"screen\",\"level\":\"overlay\",\"line_alpha\":{\"value\":1.0},\"line_color\":{\"value\":\"black\"},\"line_dash\":[4,4],\"line_width\":{\"value\":2},\"render_mode\":\"css\",\"right_units\":\"screen\",\"top_units\":\"screen\"},\"id\":\"14675\",\"type\":\"BoxAnnotation\"},{\"attributes\":{\"axis_label\":\"SP.URB.GROW\",\"formatter\":{\"id\":\"14671\",\"type\":\"BasicTickFormatter\"},\"ticker\":{\"id\":\"14648\",\"type\":\"BasicTicker\"}},\"id\":\"14647\",\"type\":\"LinearAxis\"},{\"attributes\":{\"callback\":null,\"data\":{\"x\":[\"2000\",\"2001\",\"2002\",\"2003\",\"2004\",\"2005\",\"2006\",\"2007\",\"2008\",\"2009\",\"2010\",\"2011\",\"2012\",\"2013\",\"2014\",\"2015\",\"2016\",\"2017\"],\"y\":[2.871713123812663,2.9511432100791484,3.0136932118765114,2.953868405139294,2.924116416288403,2.9006768448998628,2.8385887182475527,2.787551595330817,2.7628871731196654,2.72341580335172,2.6789486862183955,2.590195657094341,2.529948100519968,2.4961358861963343,2.465255348584935,2.4236075249092615,2.394780581402036,2.3538548161434734]},\"selected\":{\"id\":\"14721\",\"type\":\"Selection\"},\"selection_policy\":{\"id\":\"14720\",\"type\":\"UnionRenderers\"}},\"id\":\"14699\",\"type\":\"ColumnDataSource\"},{\"attributes\":{},\"id\":\"14671\",\"type\":\"BasicTickFormatter\"},{\"attributes\":{\"items\":[{\"id\":\"14677\",\"type\":\"LegendItem\"},{\"id\":\"14698\",\"type\":\"LegendItem\"},{\"id\":\"14723\",\"type\":\"LegendItem\"}],\"location\":\"bottom_left\"},\"id\":\"14676\",\"type\":\"Legend\"},{\"attributes\":{\"source\":{\"id\":\"14724\",\"type\":\"ColumnDataSource\"}},\"id\":\"14728\",\"type\":\"CDSView\"},{\"attributes\":{\"fill_color\":{\"value\":\"#5430F1\"},\"line_color\":{\"value\":\"#5430F1\"},\"size\":{\"units\":\"screen\",\"value\":1},\"x\":{\"field\":\"x\"},\"y\":{\"field\":\"y\"}},\"id\":\"14700\",\"type\":\"Circle\"},{\"attributes\":{},\"id\":\"14648\",\"type\":\"BasicTicker\"},{\"attributes\":{\"label\":{\"value\":\"LDCs\"},\"renderers\":[{\"id\":\"14668\",\"type\":\"GlyphRenderer\"}]},\"id\":\"14677\",\"type\":\"LegendItem\"},{\"attributes\":{\"dimension\":1,\"grid_line_alpha\":0.5,\"ticker\":{\"id\":\"14648\",\"type\":\"BasicTicker\"}},\"id\":\"14651\",\"type\":\"Grid\"},{\"attributes\":{\"fill_alpha\":{\"value\":0.1},\"fill_color\":{\"value\":\"#1f77b4\"},\"line_alpha\":{\"value\":0.1},\"line_color\":{\"value\":\"#1f77b4\"},\"size\":{\"units\":\"screen\",\"value\":1},\"x\":{\"field\":\"x\"},\"y\":{\"field\":\"y\"}},\"id\":\"14701\",\"type\":\"Circle\"},{\"attributes\":{\"callback\":null,\"data\":{\"x\":[\"2000\",\"2001\",\"2002\",\"2003\",\"2004\",\"2005\",\"2006\",\"2007\",\"2008\",\"2009\",\"2010\",\"2011\",\"2012\",\"2013\",\"2014\",\"2015\",\"2016\",\"2017\"],\"y\":[3.781552399759757,3.9942501736128904,4.0980366224839635,4.1200279616396,4.067771523272396,4.0462628038554005,3.9491110534001477,3.7343089278830024,4.00474292401507,4.006365015359042,4.017012003822316,4.026193802500771,3.976323997042947,3.9618560270813443,3.9501422897690834,3.931939995499514,3.9127531302754495,3.8933983484972026]},\"selected\":{\"id\":\"14696\",\"type\":\"Selection\"},\"selection_policy\":{\"id\":\"14695\",\"type\":\"UnionRenderers\"}},\"id\":\"14678\",\"type\":\"ColumnDataSource\"},{\"attributes\":{},\"id\":\"15237\",\"type\":\"UnionRenderers\"},{\"attributes\":{\"data_source\":{\"id\":\"14699\",\"type\":\"ColumnDataSource\"},\"glyph\":{\"id\":\"14700\",\"type\":\"Circle\"},\"hover_glyph\":null,\"muted_glyph\":null,\"nonselection_glyph\":{\"id\":\"14701\",\"type\":\"Circle\"},\"selection_glyph\":null,\"view\":{\"id\":\"14703\",\"type\":\"CDSView\"}},\"id\":\"14702\",\"type\":\"GlyphRenderer\"},{\"attributes\":{\"line_color\":\"#FA1857\",\"line_width\":4,\"x\":{\"field\":\"x\"},\"y\":{\"field\":\"y\"}},\"id\":\"14666\",\"type\":\"Line\"},{\"attributes\":{\"fill_color\":{\"value\":\"#FA1857\"},\"line_color\":{\"value\":\"#FA1857\"},\"size\":{\"units\":\"screen\",\"value\":1},\"x\":{\"field\":\"x\"},\"y\":{\"field\":\"y\"}},\"id\":\"14679\",\"type\":\"Circle\"},{\"attributes\":{},\"id\":\"15238\",\"type\":\"Selection\"},{\"attributes\":{\"source\":{\"id\":\"14699\",\"type\":\"ColumnDataSource\"}},\"id\":\"14703\",\"type\":\"CDSView\"},{\"attributes\":{\"callback\":null,\"data\":{\"x\":[\"2000\",\"2001\",\"2002\",\"2003\",\"2004\",\"2005\",\"2006\",\"2007\",\"2008\",\"2009\",\"2010\",\"2011\",\"2012\",\"2013\",\"2014\",\"2015\",\"2016\",\"2017\"],\"y\":[3.781552399759757,3.9942501736128904,4.0980366224839635,4.1200279616396,4.067771523272396,4.0462628038554005,3.9491110534001477,3.7343089278830024,4.00474292401507,4.006365015359042,4.017012003822316,4.026193802500771,3.976323997042947,3.9618560270813443,3.9501422897690834,3.931939995499514,3.9127531302754495,3.8933983484972026]},\"selected\":{\"id\":\"14694\",\"type\":\"Selection\"},\"selection_policy\":{\"id\":\"14693\",\"type\":\"UnionRenderers\"}},\"id\":\"14665\",\"type\":\"ColumnDataSource\"},{\"attributes\":{\"fill_alpha\":{\"value\":0.1},\"fill_color\":{\"value\":\"#1f77b4\"},\"line_alpha\":{\"value\":0.1},\"line_color\":{\"value\":\"#1f77b4\"},\"size\":{\"units\":\"screen\",\"value\":1},\"x\":{\"field\":\"x\"},\"y\":{\"field\":\"y\"}},\"id\":\"14680\",\"type\":\"Circle\"},{\"attributes\":{},\"id\":\"15239\",\"type\":\"UnionRenderers\"},{\"attributes\":{\"line_alpha\":0.1,\"line_color\":\"#1f77b4\",\"line_width\":4,\"x\":{\"field\":\"x\"},\"y\":{\"field\":\"y\"}},\"id\":\"14667\",\"type\":\"Line\"},{\"attributes\":{\"callback\":null,\"data\":{\"x\":[\"2000\",\"2001\",\"2002\",\"2003\",\"2004\",\"2005\",\"2006\",\"2007\",\"2008\",\"2009\",\"2010\",\"2011\",\"2012\",\"2013\",\"2014\",\"2015\",\"2016\",\"2017\"],\"y\":[0.9948809271821193,1.1720404938170361,1.2487792655994334,1.2098437389978234,1.1858418971351812,1.1566812882637159,1.1461235724859402,1.1299299497492925,1.1478412678703078,1.0667506897450498,1.004952660145055,0.7748422786938176,0.8497708748839219,0.8674781666983666,0.8896129313491413,0.882013187119933,0.8885753632137473,0.8267985143506588]},\"selected\":{\"id\":\"15238\",\"type\":\"Selection\"},\"selection_policy\":{\"id\":\"15237\",\"type\":\"UnionRenderers\"}},\"id\":\"14704\",\"type\":\"ColumnDataSource\"},{\"attributes\":{},\"id\":\"14652\",\"type\":\"PanTool\"},{\"attributes\":{\"data_source\":{\"id\":\"14678\",\"type\":\"ColumnDataSource\"},\"glyph\":{\"id\":\"14679\",\"type\":\"Circle\"},\"hover_glyph\":null,\"muted_glyph\":null,\"nonselection_glyph\":{\"id\":\"14680\",\"type\":\"Circle\"},\"selection_glyph\":null,\"view\":{\"id\":\"14682\",\"type\":\"CDSView\"}},\"id\":\"14681\",\"type\":\"GlyphRenderer\"},{\"attributes\":{},\"id\":\"15240\",\"type\":\"Selection\"},{\"attributes\":{\"line_color\":\"#2CC775\",\"line_width\":4,\"x\":{\"field\":\"x\"},\"y\":{\"field\":\"y\"}},\"id\":\"14705\",\"type\":\"Line\"},{\"attributes\":{},\"id\":\"14653\",\"type\":\"WheelZoomTool\"},{\"attributes\":{\"source\":{\"id\":\"14678\",\"type\":\"ColumnDataSource\"}},\"id\":\"14682\",\"type\":\"CDSView\"},{\"attributes\":{\"line_alpha\":0.1,\"line_color\":\"#1f77b4\",\"line_width\":4,\"x\":{\"field\":\"x\"},\"y\":{\"field\":\"y\"}},\"id\":\"14706\",\"type\":\"Line\"},{\"attributes\":{\"overlay\":{\"id\":\"14675\",\"type\":\"BoxAnnotation\"}},\"id\":\"14654\",\"type\":\"BoxZoomTool\"},{\"attributes\":{\"callback\":null,\"data\":{\"x\":[\"2000\",\"2001\",\"2002\",\"2003\",\"2004\",\"2005\",\"2006\",\"2007\",\"2008\",\"2009\",\"2010\",\"2011\",\"2012\",\"2013\",\"2014\",\"2015\",\"2016\",\"2017\"],\"y\":[2.871713123812663,2.9511432100791484,3.0136932118765114,2.953868405139294,2.924116416288403,2.9006768448998628,2.8385887182475527,2.787551595330817,2.7628871731196654,2.72341580335172,2.6789486862183955,2.590195657094341,2.529948100519968,2.4961358861963343,2.465255348584935,2.4236075249092615,2.394780581402036,2.3538548161434734]},\"selected\":{\"id\":\"14719\",\"type\":\"Selection\"},\"selection_policy\":{\"id\":\"14718\",\"type\":\"UnionRenderers\"}},\"id\":\"14683\",\"type\":\"ColumnDataSource\"},{\"attributes\":{\"data_source\":{\"id\":\"14704\",\"type\":\"ColumnDataSource\"},\"glyph\":{\"id\":\"14705\",\"type\":\"Line\"},\"hover_glyph\":null,\"muted_glyph\":null,\"nonselection_glyph\":{\"id\":\"14706\",\"type\":\"Line\"},\"selection_glyph\":null,\"view\":{\"id\":\"14708\",\"type\":\"CDSView\"}},\"id\":\"14707\",\"type\":\"GlyphRenderer\"},{\"attributes\":{},\"id\":\"14655\",\"type\":\"SaveTool\"},{\"attributes\":{\"line_color\":\"#5430F1\",\"line_width\":4,\"x\":{\"field\":\"x\"},\"y\":{\"field\":\"y\"}},\"id\":\"14684\",\"type\":\"Line\"},{\"attributes\":{\"callback\":null,\"tooltips\":\"                \\n        <div style=padding=5px>Year:@x</div>\\n        <div style=padding=5px>Value:@y</div>        \\n        \"},\"id\":\"14729\",\"type\":\"HoverTool\"},{\"attributes\":{\"source\":{\"id\":\"14704\",\"type\":\"ColumnDataSource\"}},\"id\":\"14708\",\"type\":\"CDSView\"},{\"attributes\":{\"text\":\"Urban population growth (annual %) weighted against Urban population\"},\"id\":\"14632\",\"type\":\"Title\"},{\"attributes\":{},\"id\":\"14656\",\"type\":\"ResetTool\"},{\"attributes\":{\"line_alpha\":0.1,\"line_color\":\"#1f77b4\",\"line_width\":4,\"x\":{\"field\":\"x\"},\"y\":{\"field\":\"y\"}},\"id\":\"14685\",\"type\":\"Line\"},{\"attributes\":{},\"id\":\"14718\",\"type\":\"UnionRenderers\"},{\"attributes\":{\"callback\":null},\"id\":\"14634\",\"type\":\"DataRange1d\"},{\"attributes\":{},\"id\":\"14657\",\"type\":\"HelpTool\"},{\"attributes\":{\"data_source\":{\"id\":\"14683\",\"type\":\"ColumnDataSource\"},\"glyph\":{\"id\":\"14684\",\"type\":\"Line\"},\"hover_glyph\":null,\"muted_glyph\":null,\"nonselection_glyph\":{\"id\":\"14685\",\"type\":\"Line\"},\"selection_glyph\":null,\"view\":{\"id\":\"14687\",\"type\":\"CDSView\"}},\"id\":\"14686\",\"type\":\"GlyphRenderer\"},{\"attributes\":{},\"id\":\"14719\",\"type\":\"Selection\"},{\"attributes\":{\"callback\":null},\"id\":\"14636\",\"type\":\"DataRange1d\"},{\"attributes\":{\"active_drag\":\"auto\",\"active_inspect\":\"auto\",\"active_multi\":null,\"active_scroll\":\"auto\",\"active_tap\":\"auto\",\"tools\":[{\"id\":\"14652\",\"type\":\"PanTool\"},{\"id\":\"14653\",\"type\":\"WheelZoomTool\"},{\"id\":\"14654\",\"type\":\"BoxZoomTool\"},{\"id\":\"14655\",\"type\":\"SaveTool\"},{\"id\":\"14656\",\"type\":\"ResetTool\"},{\"id\":\"14657\",\"type\":\"HelpTool\"},{\"id\":\"14729\",\"type\":\"HoverTool\"}]},\"id\":\"14658\",\"type\":\"Toolbar\"},{\"attributes\":{\"source\":{\"id\":\"14683\",\"type\":\"ColumnDataSource\"}},\"id\":\"14687\",\"type\":\"CDSView\"},{\"attributes\":{},\"id\":\"14720\",\"type\":\"UnionRenderers\"},{\"attributes\":{},\"id\":\"14638\",\"type\":\"LinearScale\"},{\"attributes\":{},\"id\":\"14693\",\"type\":\"UnionRenderers\"},{\"attributes\":{\"data_source\":{\"id\":\"14665\",\"type\":\"ColumnDataSource\"},\"glyph\":{\"id\":\"14666\",\"type\":\"Line\"},\"hover_glyph\":null,\"muted_glyph\":null,\"nonselection_glyph\":{\"id\":\"14667\",\"type\":\"Line\"},\"selection_glyph\":null,\"view\":{\"id\":\"14669\",\"type\":\"CDSView\"}},\"id\":\"14668\",\"type\":\"GlyphRenderer\"},{\"attributes\":{},\"id\":\"14721\",\"type\":\"Selection\"},{\"attributes\":{},\"id\":\"14640\",\"type\":\"LinearScale\"},{\"attributes\":{},\"id\":\"14694\",\"type\":\"Selection\"},{\"attributes\":{\"label\":{\"value\":\"OECD\"},\"renderers\":[{\"id\":\"14707\",\"type\":\"GlyphRenderer\"}]},\"id\":\"14723\",\"type\":\"LegendItem\"},{\"attributes\":{\"axis_label\":\"Years\",\"formatter\":{\"id\":\"14673\",\"type\":\"BasicTickFormatter\"},\"ticker\":{\"id\":\"14643\",\"type\":\"BasicTicker\"}},\"id\":\"14642\",\"type\":\"LinearAxis\"},{\"attributes\":{\"source\":{\"id\":\"14665\",\"type\":\"ColumnDataSource\"}},\"id\":\"14669\",\"type\":\"CDSView\"},{\"attributes\":{},\"id\":\"14695\",\"type\":\"UnionRenderers\"},{\"attributes\":{},\"id\":\"14643\",\"type\":\"BasicTicker\"},{\"attributes\":{\"callback\":null,\"data\":{\"x\":[\"2000\",\"2001\",\"2002\",\"2003\",\"2004\",\"2005\",\"2006\",\"2007\",\"2008\",\"2009\",\"2010\",\"2011\",\"2012\",\"2013\",\"2014\",\"2015\",\"2016\",\"2017\"],\"y\":[0.9948809271821193,1.1720404938170361,1.2487792655994334,1.2098437389978234,1.1858418971351812,1.1566812882637159,1.1461235724859402,1.1299299497492925,1.1478412678703078,1.0667506897450498,1.004952660145055,0.7748422786938176,0.8497708748839219,0.8674781666983666,0.8896129313491413,0.882013187119933,0.8885753632137473,0.8267985143506588]},\"selected\":{\"id\":\"15240\",\"type\":\"Selection\"},\"selection_policy\":{\"id\":\"15239\",\"type\":\"UnionRenderers\"}},\"id\":\"14724\",\"type\":\"ColumnDataSource\"},{\"attributes\":{},\"id\":\"14696\",\"type\":\"Selection\"},{\"attributes\":{\"fill_color\":{\"value\":\"#2CC775\"},\"line_color\":{\"value\":\"#2CC775\"},\"size\":{\"units\":\"screen\",\"value\":1},\"x\":{\"field\":\"x\"},\"y\":{\"field\":\"y\"}},\"id\":\"14725\",\"type\":\"Circle\"},{\"attributes\":{\"grid_line_color\":null,\"ticker\":{\"id\":\"14643\",\"type\":\"BasicTicker\"}},\"id\":\"14646\",\"type\":\"Grid\"}],\"root_ids\":[\"14631\"]},\"title\":\"Bokeh Application\",\"version\":\"1.3.4\"}};\n",
       "  var render_items = [{\"docid\":\"14023135-ed19-4a21-b419-c368333ff13b\",\"roots\":{\"14631\":\"b248f1b6-731c-44e2-9cd8-0da0306c3ee5\"}}];\n",
       "  root.Bokeh.embed.embed_items_notebook(docs_json, render_items);\n",
       "\n",
       "  }\n",
       "  if (root.Bokeh !== undefined) {\n",
       "    embed_document(root);\n",
       "  } else {\n",
       "    var attempts = 0;\n",
       "    var timer = setInterval(function(root) {\n",
       "      if (root.Bokeh !== undefined) {\n",
       "        embed_document(root);\n",
       "        clearInterval(timer);\n",
       "      }\n",
       "      attempts++;\n",
       "      if (attempts > 100) {\n",
       "        console.log(\"Bokeh: ERROR: Unable to run BokehJS code because BokehJS library is missing\");\n",
       "        clearInterval(timer);\n",
       "      }\n",
       "    }, 10, root)\n",
       "  }\n",
       "})(window);"
      ],
      "application/vnd.bokehjs_exec.v0+json": ""
     },
     "metadata": {
      "application/vnd.bokehjs_exec.v0+json": {
       "id": "14631"
      }
     },
     "output_type": "display_data"
    }
   ],
   "source": [
    "# Growth of urban population\n",
    "years = list(map(str, list(range(2000,2018))))\n",
    "result = show_weighted_average(years, 'SP.URB.GROW', 'SP.URB.TOTL', \n",
    "                               ['LDCs', 'Developing excluding LDCs', 'OECD'], \n",
    "                                height=400, width=1000, line_width=4)"
   ]
  },
  {
   "cell_type": "markdown",
   "metadata": {
    "slideshow": {
     "slide_type": "slide"
    }
   },
   "source": [
    "# Urban areas are rapidly increasing in LDCs\n",
    "\n",
    "# Two thirds of the urban space in the LDCs will have to be built in the next 35 years\n",
    "\n",
    "# The rate of urbanization in LDCs is very high. Cities will have to absorb more people in less time\n",
    "\n",
    "# Adressing the provision of services in a context of low resources and lack of technical capacities constitute a huge challenge"
   ]
  },
  {
   "cell_type": "markdown",
   "metadata": {
    "slideshow": {
     "slide_type": "slide"
    }
   },
   "source": [
    "# Water and sanitation"
   ]
  },
  {
   "cell_type": "code",
   "execution_count": 38,
   "metadata": {
    "ExecuteTime": {
     "end_time": "2019-10-25T14:25:57.739495Z",
     "start_time": "2019-10-25T14:25:51.769121Z"
    },
    "slideshow": {
     "slide_type": "slide"
    }
   },
   "outputs": [
    {
     "data": {
      "text/html": [
       "\n",
       "\n",
       "\n",
       "\n",
       "\n",
       "\n",
       "  <div class=\"bk-root\" id=\"90203d5f-fa40-4fed-9ff8-a2829edc6e06\" data-root-id=\"15350\"></div>\n"
      ]
     },
     "metadata": {},
     "output_type": "display_data"
    },
    {
     "data": {
      "application/javascript": [
       "(function(root) {\n",
       "  function embed_document(root) {\n",
       "    \n",
       "  var docs_json = {\"6e3cf88b-90aa-451e-b942-699d5a7ac7d4\":{\"roots\":{\"references\":[{\"attributes\":{\"below\":[{\"id\":\"15361\",\"type\":\"LinearAxis\"}],\"center\":[{\"id\":\"15365\",\"type\":\"Grid\"},{\"id\":\"15370\",\"type\":\"Grid\"},{\"id\":\"15395\",\"type\":\"Legend\"}],\"left\":[{\"id\":\"15366\",\"type\":\"LinearAxis\"}],\"plot_height\":400,\"plot_width\":1000,\"renderers\":[{\"id\":\"15387\",\"type\":\"GlyphRenderer\"},{\"id\":\"15400\",\"type\":\"GlyphRenderer\"},{\"id\":\"15405\",\"type\":\"GlyphRenderer\"},{\"id\":\"15421\",\"type\":\"GlyphRenderer\"},{\"id\":\"15426\",\"type\":\"GlyphRenderer\"},{\"id\":\"15446\",\"type\":\"GlyphRenderer\"}],\"title\":{\"id\":\"15351\",\"type\":\"Title\"},\"toolbar\":{\"id\":\"15377\",\"type\":\"Toolbar\"},\"x_range\":{\"id\":\"15353\",\"type\":\"DataRange1d\"},\"x_scale\":{\"id\":\"15357\",\"type\":\"LinearScale\"},\"y_range\":{\"id\":\"15355\",\"type\":\"DataRange1d\"},\"y_scale\":{\"id\":\"15359\",\"type\":\"LinearScale\"}},\"id\":\"15350\",\"subtype\":\"Figure\",\"type\":\"Plot\"},{\"attributes\":{\"callback\":null,\"tooltips\":\"                \\n        <div style=padding=5px>Year:@x</div>\\n        <div style=padding=5px>Value:@y</div>        \\n        \"},\"id\":\"15448\",\"type\":\"HoverTool\"},{\"attributes\":{\"bottom_units\":\"screen\",\"fill_alpha\":{\"value\":0.5},\"fill_color\":{\"value\":\"lightgrey\"},\"left_units\":\"screen\",\"level\":\"overlay\",\"line_alpha\":{\"value\":1.0},\"line_color\":{\"value\":\"black\"},\"line_dash\":[4,4],\"line_width\":{\"value\":2},\"render_mode\":\"css\",\"right_units\":\"screen\",\"top_units\":\"screen\"},\"id\":\"15394\",\"type\":\"BoxAnnotation\"},{\"attributes\":{\"source\":{\"id\":\"15418\",\"type\":\"ColumnDataSource\"}},\"id\":\"15422\",\"type\":\"CDSView\"},{\"attributes\":{\"fill_color\":{\"value\":\"#5430F1\"},\"line_color\":{\"value\":\"#5430F1\"},\"size\":{\"units\":\"screen\",\"value\":1},\"x\":{\"field\":\"x\"},\"y\":{\"field\":\"y\"}},\"id\":\"15419\",\"type\":\"Circle\"},{\"attributes\":{},\"id\":\"15437\",\"type\":\"UnionRenderers\"},{\"attributes\":{},\"id\":\"15357\",\"type\":\"LinearScale\"},{\"attributes\":{\"text\":\"People using safely managed sanitation services (% of population) weighted against Population, total\"},\"id\":\"15351\",\"type\":\"Title\"},{\"attributes\":{\"items\":[{\"id\":\"15396\",\"type\":\"LegendItem\"},{\"id\":\"15417\",\"type\":\"LegendItem\"},{\"id\":\"15442\",\"type\":\"LegendItem\"}],\"location\":\"bottom_left\"},\"id\":\"15395\",\"type\":\"Legend\"},{\"attributes\":{\"callback\":null,\"data\":{\"x\":[\"2000\",\"2001\",\"2002\",\"2003\",\"2004\",\"2005\",\"2006\",\"2007\",\"2008\",\"2009\",\"2010\",\"2011\",\"2012\",\"2013\",\"2014\",\"2015\",\"2016\",\"2017\"],\"y\":[28.95024757925739,29.209016301994986,29.79844631497895,31.18696960164219,32.69297789614253,34.30733873540626,36.01016978662808,37.93187043091685,39.94500520648879,42.03012406148348,44.17895500170897,46.379028286829,48.62938786590606,50.964846617773375,53.35002880170789,55.76782165250671,58.22878123081063,60.72069424656215]},\"selected\":{\"id\":\"15440\",\"type\":\"Selection\"},\"selection_policy\":{\"id\":\"15439\",\"type\":\"UnionRenderers\"}},\"id\":\"15418\",\"type\":\"ColumnDataSource\"},{\"attributes\":{\"label\":{\"value\":\"LDCs\"},\"renderers\":[{\"id\":\"15387\",\"type\":\"GlyphRenderer\"}]},\"id\":\"15396\",\"type\":\"LegendItem\"},{\"attributes\":{\"callback\":null},\"id\":\"15353\",\"type\":\"DataRange1d\"},{\"attributes\":{\"fill_alpha\":{\"value\":0.1},\"fill_color\":{\"value\":\"#1f77b4\"},\"line_alpha\":{\"value\":0.1},\"line_color\":{\"value\":\"#1f77b4\"},\"size\":{\"units\":\"screen\",\"value\":1},\"x\":{\"field\":\"x\"},\"y\":{\"field\":\"y\"}},\"id\":\"15420\",\"type\":\"Circle\"},{\"attributes\":{},\"id\":\"15976\",\"type\":\"UnionRenderers\"},{\"attributes\":{\"callback\":null},\"id\":\"15355\",\"type\":\"DataRange1d\"},{\"attributes\":{\"data_source\":{\"id\":\"15418\",\"type\":\"ColumnDataSource\"},\"glyph\":{\"id\":\"15419\",\"type\":\"Circle\"},\"hover_glyph\":null,\"muted_glyph\":null,\"nonselection_glyph\":{\"id\":\"15420\",\"type\":\"Circle\"},\"selection_glyph\":null,\"view\":{\"id\":\"15422\",\"type\":\"CDSView\"}},\"id\":\"15421\",\"type\":\"GlyphRenderer\"},{\"attributes\":{\"source\":{\"id\":\"15384\",\"type\":\"ColumnDataSource\"}},\"id\":\"15388\",\"type\":\"CDSView\"},{\"attributes\":{\"source\":{\"id\":\"15423\",\"type\":\"ColumnDataSource\"}},\"id\":\"15427\",\"type\":\"CDSView\"},{\"attributes\":{},\"id\":\"15415\",\"type\":\"Selection\"},{\"attributes\":{\"dimension\":1,\"grid_line_alpha\":0.5,\"ticker\":{\"id\":\"15367\",\"type\":\"BasicTicker\"}},\"id\":\"15370\",\"type\":\"Grid\"},{\"attributes\":{},\"id\":\"15390\",\"type\":\"BasicTickFormatter\"},{\"attributes\":{},\"id\":\"15414\",\"type\":\"UnionRenderers\"},{\"attributes\":{\"source\":{\"id\":\"15443\",\"type\":\"ColumnDataSource\"}},\"id\":\"15447\",\"type\":\"CDSView\"},{\"attributes\":{},\"id\":\"15392\",\"type\":\"BasicTickFormatter\"},{\"attributes\":{\"label\":{\"value\":\"Developing excluding LDCs\"},\"renderers\":[{\"id\":\"15405\",\"type\":\"GlyphRenderer\"}]},\"id\":\"15417\",\"type\":\"LegendItem\"},{\"attributes\":{},\"id\":\"15975\",\"type\":\"Selection\"},{\"attributes\":{},\"id\":\"15367\",\"type\":\"BasicTicker\"},{\"attributes\":{\"active_drag\":\"auto\",\"active_inspect\":\"auto\",\"active_multi\":null,\"active_scroll\":\"auto\",\"active_tap\":\"auto\",\"tools\":[{\"id\":\"15371\",\"type\":\"PanTool\"},{\"id\":\"15372\",\"type\":\"WheelZoomTool\"},{\"id\":\"15373\",\"type\":\"BoxZoomTool\"},{\"id\":\"15374\",\"type\":\"SaveTool\"},{\"id\":\"15375\",\"type\":\"ResetTool\"},{\"id\":\"15376\",\"type\":\"HelpTool\"},{\"id\":\"15448\",\"type\":\"HoverTool\"}]},\"id\":\"15377\",\"type\":\"Toolbar\"},{\"attributes\":{\"data_source\":{\"id\":\"15423\",\"type\":\"ColumnDataSource\"},\"glyph\":{\"id\":\"15424\",\"type\":\"Line\"},\"hover_glyph\":null,\"muted_glyph\":null,\"nonselection_glyph\":{\"id\":\"15425\",\"type\":\"Line\"},\"selection_glyph\":null,\"view\":{\"id\":\"15427\",\"type\":\"CDSView\"}},\"id\":\"15426\",\"type\":\"GlyphRenderer\"},{\"attributes\":{},\"id\":\"15412\",\"type\":\"UnionRenderers\"},{\"attributes\":{\"data_source\":{\"id\":\"15384\",\"type\":\"ColumnDataSource\"},\"glyph\":{\"id\":\"15385\",\"type\":\"Line\"},\"hover_glyph\":null,\"muted_glyph\":null,\"nonselection_glyph\":{\"id\":\"15386\",\"type\":\"Line\"},\"selection_glyph\":null,\"view\":{\"id\":\"15388\",\"type\":\"CDSView\"}},\"id\":\"15387\",\"type\":\"GlyphRenderer\"},{\"attributes\":{\"source\":{\"id\":\"15402\",\"type\":\"ColumnDataSource\"}},\"id\":\"15406\",\"type\":\"CDSView\"},{\"attributes\":{\"fill_color\":{\"value\":\"#2CC775\"},\"line_color\":{\"value\":\"#2CC775\"},\"size\":{\"units\":\"screen\",\"value\":1},\"x\":{\"field\":\"x\"},\"y\":{\"field\":\"y\"}},\"id\":\"15444\",\"type\":\"Circle\"},{\"attributes\":{\"axis_label\":\"SH.STA.SMSS.ZS\",\"formatter\":{\"id\":\"15390\",\"type\":\"BasicTickFormatter\"},\"ticker\":{\"id\":\"15367\",\"type\":\"BasicTicker\"}},\"id\":\"15366\",\"type\":\"LinearAxis\"},{\"attributes\":{},\"id\":\"15413\",\"type\":\"Selection\"},{\"attributes\":{},\"id\":\"15974\",\"type\":\"UnionRenderers\"},{\"attributes\":{},\"id\":\"15374\",\"type\":\"SaveTool\"},{\"attributes\":{\"line_alpha\":0.1,\"line_color\":\"#1f77b4\",\"line_width\":4,\"x\":{\"field\":\"x\"},\"y\":{\"field\":\"y\"}},\"id\":\"15404\",\"type\":\"Line\"},{\"attributes\":{\"line_alpha\":0.1,\"line_color\":\"#1f77b4\",\"line_width\":4,\"x\":{\"field\":\"x\"},\"y\":{\"field\":\"y\"}},\"id\":\"15425\",\"type\":\"Line\"},{\"attributes\":{\"fill_alpha\":{\"value\":0.1},\"fill_color\":{\"value\":\"#1f77b4\"},\"line_alpha\":{\"value\":0.1},\"line_color\":{\"value\":\"#1f77b4\"},\"size\":{\"units\":\"screen\",\"value\":1},\"x\":{\"field\":\"x\"},\"y\":{\"field\":\"y\"}},\"id\":\"15445\",\"type\":\"Circle\"},{\"attributes\":{},\"id\":\"15438\",\"type\":\"Selection\"},{\"attributes\":{},\"id\":\"15375\",\"type\":\"ResetTool\"},{\"attributes\":{\"line_color\":\"#5430F1\",\"line_width\":4,\"x\":{\"field\":\"x\"},\"y\":{\"field\":\"y\"}},\"id\":\"15403\",\"type\":\"Line\"},{\"attributes\":{},\"id\":\"15440\",\"type\":\"Selection\"},{\"attributes\":{\"grid_line_color\":null,\"ticker\":{\"id\":\"15362\",\"type\":\"BasicTicker\"}},\"id\":\"15365\",\"type\":\"Grid\"},{\"attributes\":{},\"id\":\"15376\",\"type\":\"HelpTool\"},{\"attributes\":{\"data_source\":{\"id\":\"15443\",\"type\":\"ColumnDataSource\"},\"glyph\":{\"id\":\"15444\",\"type\":\"Circle\"},\"hover_glyph\":null,\"muted_glyph\":null,\"nonselection_glyph\":{\"id\":\"15445\",\"type\":\"Circle\"},\"selection_glyph\":null,\"view\":{\"id\":\"15447\",\"type\":\"CDSView\"}},\"id\":\"15446\",\"type\":\"GlyphRenderer\"},{\"attributes\":{\"data_source\":{\"id\":\"15402\",\"type\":\"ColumnDataSource\"},\"glyph\":{\"id\":\"15403\",\"type\":\"Line\"},\"hover_glyph\":null,\"muted_glyph\":null,\"nonselection_glyph\":{\"id\":\"15404\",\"type\":\"Line\"},\"selection_glyph\":null,\"view\":{\"id\":\"15406\",\"type\":\"CDSView\"}},\"id\":\"15405\",\"type\":\"GlyphRenderer\"},{\"attributes\":{},\"id\":\"15371\",\"type\":\"PanTool\"},{\"attributes\":{\"line_color\":\"#2CC775\",\"line_width\":4,\"x\":{\"field\":\"x\"},\"y\":{\"field\":\"y\"}},\"id\":\"15424\",\"type\":\"Line\"},{\"attributes\":{\"data_source\":{\"id\":\"15397\",\"type\":\"ColumnDataSource\"},\"glyph\":{\"id\":\"15398\",\"type\":\"Circle\"},\"hover_glyph\":null,\"muted_glyph\":null,\"nonselection_glyph\":{\"id\":\"15399\",\"type\":\"Circle\"},\"selection_glyph\":null,\"view\":{\"id\":\"15401\",\"type\":\"CDSView\"}},\"id\":\"15400\",\"type\":\"GlyphRenderer\"},{\"attributes\":{\"label\":{\"value\":\"OECD\"},\"renderers\":[{\"id\":\"15426\",\"type\":\"GlyphRenderer\"}]},\"id\":\"15442\",\"type\":\"LegendItem\"},{\"attributes\":{},\"id\":\"15362\",\"type\":\"BasicTicker\"},{\"attributes\":{},\"id\":\"15372\",\"type\":\"WheelZoomTool\"},{\"attributes\":{},\"id\":\"15977\",\"type\":\"Selection\"},{\"attributes\":{\"source\":{\"id\":\"15397\",\"type\":\"ColumnDataSource\"}},\"id\":\"15401\",\"type\":\"CDSView\"},{\"attributes\":{\"callback\":null,\"data\":{\"x\":[\"2000\",\"2001\",\"2002\",\"2003\",\"2004\",\"2005\",\"2006\",\"2007\",\"2008\",\"2009\",\"2010\",\"2011\",\"2012\",\"2013\",\"2014\",\"2015\",\"2016\",\"2017\"],\"y\":[7.313298252489695,8.310611901533424,9.28077115926377,10.252918388064188,11.205379345323372,12.149632874228196,13.089596716542752,14.025080502459863,14.955900981807803,15.821696108471013,16.709045789768172,17.553474451435992,18.374064944696872,19.187805301854954,19.99536707307814,20.797136473512598,21.58898092737968,22.374104786870443]},\"selected\":{\"id\":\"15415\",\"type\":\"Selection\"},\"selection_policy\":{\"id\":\"15414\",\"type\":\"UnionRenderers\"}},\"id\":\"15397\",\"type\":\"ColumnDataSource\"},{\"attributes\":{\"callback\":null,\"data\":{\"x\":[\"2000\",\"2001\",\"2002\",\"2003\",\"2004\",\"2005\",\"2006\",\"2007\",\"2008\",\"2009\",\"2010\",\"2011\",\"2012\",\"2013\",\"2014\",\"2015\",\"2016\",\"2017\"],\"y\":[80.04575550274292,80.13536831650443,80.2749830491825,80.58814768410595,80.98591935582309,81.41241391811296,82.53376279435736,82.94328127236986,83.35812838971606,83.77383345525976,84.19453320444809,84.60616451316776,85.02010336426527,85.44818985737146,85.89167410057688,86.28661161448157,86.61428373311065,86.89175663743303]},\"selected\":{\"id\":\"15977\",\"type\":\"Selection\"},\"selection_policy\":{\"id\":\"15976\",\"type\":\"UnionRenderers\"}},\"id\":\"15443\",\"type\":\"ColumnDataSource\"},{\"attributes\":{\"overlay\":{\"id\":\"15394\",\"type\":\"BoxAnnotation\"}},\"id\":\"15373\",\"type\":\"BoxZoomTool\"},{\"attributes\":{\"line_color\":\"#FA1857\",\"line_width\":4,\"x\":{\"field\":\"x\"},\"y\":{\"field\":\"y\"}},\"id\":\"15385\",\"type\":\"Line\"},{\"attributes\":{\"callback\":null,\"data\":{\"x\":[\"2000\",\"2001\",\"2002\",\"2003\",\"2004\",\"2005\",\"2006\",\"2007\",\"2008\",\"2009\",\"2010\",\"2011\",\"2012\",\"2013\",\"2014\",\"2015\",\"2016\",\"2017\"],\"y\":[28.95024757925739,29.209016301994986,29.79844631497895,31.18696960164219,32.69297789614253,34.30733873540626,36.01016978662808,37.93187043091685,39.94500520648879,42.03012406148348,44.17895500170897,46.379028286829,48.62938786590606,50.964846617773375,53.35002880170789,55.76782165250671,58.22878123081063,60.72069424656215]},\"selected\":{\"id\":\"15438\",\"type\":\"Selection\"},\"selection_policy\":{\"id\":\"15437\",\"type\":\"UnionRenderers\"}},\"id\":\"15402\",\"type\":\"ColumnDataSource\"},{\"attributes\":{\"axis_label\":\"Years\",\"formatter\":{\"id\":\"15392\",\"type\":\"BasicTickFormatter\"},\"ticker\":{\"id\":\"15362\",\"type\":\"BasicTicker\"}},\"id\":\"15361\",\"type\":\"LinearAxis\"},{\"attributes\":{\"fill_color\":{\"value\":\"#FA1857\"},\"line_color\":{\"value\":\"#FA1857\"},\"size\":{\"units\":\"screen\",\"value\":1},\"x\":{\"field\":\"x\"},\"y\":{\"field\":\"y\"}},\"id\":\"15398\",\"type\":\"Circle\"},{\"attributes\":{},\"id\":\"15439\",\"type\":\"UnionRenderers\"},{\"attributes\":{\"callback\":null,\"data\":{\"x\":[\"2000\",\"2001\",\"2002\",\"2003\",\"2004\",\"2005\",\"2006\",\"2007\",\"2008\",\"2009\",\"2010\",\"2011\",\"2012\",\"2013\",\"2014\",\"2015\",\"2016\",\"2017\"],\"y\":[80.04575550274292,80.13536831650443,80.2749830491825,80.58814768410595,80.98591935582309,81.41241391811296,82.53376279435736,82.94328127236986,83.35812838971606,83.77383345525976,84.19453320444809,84.60616451316776,85.02010336426527,85.44818985737146,85.89167410057688,86.28661161448157,86.61428373311065,86.89175663743303]},\"selected\":{\"id\":\"15975\",\"type\":\"Selection\"},\"selection_policy\":{\"id\":\"15974\",\"type\":\"UnionRenderers\"}},\"id\":\"15423\",\"type\":\"ColumnDataSource\"},{\"attributes\":{\"callback\":null,\"data\":{\"x\":[\"2000\",\"2001\",\"2002\",\"2003\",\"2004\",\"2005\",\"2006\",\"2007\",\"2008\",\"2009\",\"2010\",\"2011\",\"2012\",\"2013\",\"2014\",\"2015\",\"2016\",\"2017\"],\"y\":[7.313298252489695,8.310611901533424,9.28077115926377,10.252918388064188,11.205379345323372,12.149632874228196,13.089596716542752,14.025080502459863,14.955900981807803,15.821696108471013,16.709045789768172,17.553474451435992,18.374064944696872,19.187805301854954,19.99536707307814,20.797136473512598,21.58898092737968,22.374104786870443]},\"selected\":{\"id\":\"15413\",\"type\":\"Selection\"},\"selection_policy\":{\"id\":\"15412\",\"type\":\"UnionRenderers\"}},\"id\":\"15384\",\"type\":\"ColumnDataSource\"},{\"attributes\":{\"fill_alpha\":{\"value\":0.1},\"fill_color\":{\"value\":\"#1f77b4\"},\"line_alpha\":{\"value\":0.1},\"line_color\":{\"value\":\"#1f77b4\"},\"size\":{\"units\":\"screen\",\"value\":1},\"x\":{\"field\":\"x\"},\"y\":{\"field\":\"y\"}},\"id\":\"15399\",\"type\":\"Circle\"},{\"attributes\":{\"line_alpha\":0.1,\"line_color\":\"#1f77b4\",\"line_width\":4,\"x\":{\"field\":\"x\"},\"y\":{\"field\":\"y\"}},\"id\":\"15386\",\"type\":\"Line\"},{\"attributes\":{},\"id\":\"15359\",\"type\":\"LinearScale\"}],\"root_ids\":[\"15350\"]},\"title\":\"Bokeh Application\",\"version\":\"1.3.4\"}};\n",
       "  var render_items = [{\"docid\":\"6e3cf88b-90aa-451e-b942-699d5a7ac7d4\",\"roots\":{\"15350\":\"90203d5f-fa40-4fed-9ff8-a2829edc6e06\"}}];\n",
       "  root.Bokeh.embed.embed_items_notebook(docs_json, render_items);\n",
       "\n",
       "  }\n",
       "  if (root.Bokeh !== undefined) {\n",
       "    embed_document(root);\n",
       "  } else {\n",
       "    var attempts = 0;\n",
       "    var timer = setInterval(function(root) {\n",
       "      if (root.Bokeh !== undefined) {\n",
       "        embed_document(root);\n",
       "        clearInterval(timer);\n",
       "      }\n",
       "      attempts++;\n",
       "      if (attempts > 100) {\n",
       "        console.log(\"Bokeh: ERROR: Unable to run BokehJS code because BokehJS library is missing\");\n",
       "        clearInterval(timer);\n",
       "      }\n",
       "    }, 10, root)\n",
       "  }\n",
       "})(window);"
      ],
      "application/vnd.bokehjs_exec.v0+json": ""
     },
     "metadata": {
      "application/vnd.bokehjs_exec.v0+json": {
       "id": "15350"
      }
     },
     "output_type": "display_data"
    }
   ],
   "source": [
    "# Access to safely managed sanitation services\n",
    "years = list(map(str, list(range(2000,2018))))\n",
    "result = show_weighted_average(years, 'SH.STA.SMSS.ZS', 'SP.POP.TOTL', \n",
    "                               ['LDCs', 'Developing excluding LDCs', 'OECD'], \n",
    "                                height=400, width=1000, line_width=4)"
   ]
  },
  {
   "cell_type": "code",
   "execution_count": 39,
   "metadata": {
    "ExecuteTime": {
     "end_time": "2019-10-25T14:26:01.793967Z",
     "start_time": "2019-10-25T14:25:57.741996Z"
    },
    "slideshow": {
     "slide_type": "slide"
    }
   },
   "outputs": [
    {
     "data": {
      "text/html": [
       "\n",
       "\n",
       "\n",
       "\n",
       "\n",
       "\n",
       "  <div class=\"bk-root\" id=\"827d7126-24cc-4379-9ce7-7bc2f5bec4ac\" data-root-id=\"16087\"></div>\n"
      ]
     },
     "metadata": {},
     "output_type": "display_data"
    },
    {
     "data": {
      "application/javascript": [
       "(function(root) {\n",
       "  function embed_document(root) {\n",
       "    \n",
       "  var docs_json = {\"40ada272-fb5f-4a54-b40c-c3a7dd2fdeb1\":{\"roots\":{\"references\":[{\"attributes\":{\"below\":[{\"id\":\"16098\",\"type\":\"LinearAxis\"}],\"center\":[{\"id\":\"16102\",\"type\":\"Grid\"},{\"id\":\"16107\",\"type\":\"Grid\"},{\"id\":\"16132\",\"type\":\"Legend\"}],\"left\":[{\"id\":\"16103\",\"type\":\"LinearAxis\"}],\"plot_height\":400,\"plot_width\":1000,\"renderers\":[{\"id\":\"16124\",\"type\":\"GlyphRenderer\"},{\"id\":\"16137\",\"type\":\"GlyphRenderer\"},{\"id\":\"16142\",\"type\":\"GlyphRenderer\"},{\"id\":\"16158\",\"type\":\"GlyphRenderer\"}],\"title\":{\"id\":\"16088\",\"type\":\"Title\"},\"toolbar\":{\"id\":\"16114\",\"type\":\"Toolbar\"},\"x_range\":{\"id\":\"16090\",\"type\":\"DataRange1d\"},\"x_scale\":{\"id\":\"16094\",\"type\":\"LinearScale\"},\"y_range\":{\"id\":\"16092\",\"type\":\"DataRange1d\"},\"y_scale\":{\"id\":\"16096\",\"type\":\"LinearScale\"}},\"id\":\"16087\",\"subtype\":\"Figure\",\"type\":\"Plot\"},{\"attributes\":{\"source\":{\"id\":\"16155\",\"type\":\"ColumnDataSource\"}},\"id\":\"16159\",\"type\":\"CDSView\"},{\"attributes\":{\"data_source\":{\"id\":\"16121\",\"type\":\"ColumnDataSource\"},\"glyph\":{\"id\":\"16122\",\"type\":\"Line\"},\"hover_glyph\":null,\"muted_glyph\":null,\"nonselection_glyph\":{\"id\":\"16123\",\"type\":\"Line\"},\"selection_glyph\":null,\"view\":{\"id\":\"16125\",\"type\":\"CDSView\"}},\"id\":\"16124\",\"type\":\"GlyphRenderer\"},{\"attributes\":{},\"id\":\"16127\",\"type\":\"BasicTickFormatter\"},{\"attributes\":{},\"id\":\"16096\",\"type\":\"LinearScale\"},{\"attributes\":{\"callback\":null,\"data\":{\"x\":[\"2000\",\"2001\",\"2002\",\"2003\",\"2004\",\"2005\",\"2006\",\"2007\",\"2008\",\"2009\",\"2010\",\"2011\",\"2012\",\"2013\",\"2014\",\"2015\",\"2016\",\"2017\"],\"y\":[80.52938553993671,80.98306916658386,81.75577271857544,82.51738528343346,83.26856527716375,84.01035061665243,84.73493683343618,85.44665790841732,86.14597909243486,86.82384120053665,87.49098552195242,88.14296769426193,88.78219085406499,89.40976403386004,90.02760049458978,90.63753858167426,91.22512295896829,91.73069352453612]},\"selected\":{\"id\":\"16703\",\"type\":\"Selection\"},\"selection_policy\":{\"id\":\"16702\",\"type\":\"UnionRenderers\"}},\"id\":\"16155\",\"type\":\"ColumnDataSource\"},{\"attributes\":{},\"id\":\"16112\",\"type\":\"ResetTool\"},{\"attributes\":{\"source\":{\"id\":\"16121\",\"type\":\"ColumnDataSource\"}},\"id\":\"16125\",\"type\":\"CDSView\"},{\"attributes\":{\"items\":[{\"id\":\"16133\",\"type\":\"LegendItem\"},{\"id\":\"16154\",\"type\":\"LegendItem\"}],\"location\":\"bottom_left\"},\"id\":\"16132\",\"type\":\"Legend\"},{\"attributes\":{\"fill_color\":{\"value\":\"#5430F1\"},\"line_color\":{\"value\":\"#5430F1\"},\"size\":{\"units\":\"screen\",\"value\":1},\"x\":{\"field\":\"x\"},\"y\":{\"field\":\"y\"}},\"id\":\"16156\",\"type\":\"Circle\"},{\"attributes\":{\"callback\":null,\"data\":{\"x\":[\"2000\",\"2001\",\"2002\",\"2003\",\"2004\",\"2005\",\"2006\",\"2007\",\"2008\",\"2009\",\"2010\",\"2011\",\"2012\",\"2013\",\"2014\",\"2015\",\"2016\",\"2017\"],\"y\":[49.88174088230704,50.608086227470224,51.395986738735594,52.22351498455358,53.05074087389461,53.92007437124153,54.779372631776084,55.62089417800866,56.4996966988253,57.37541469551412,58.24907194342576,58.917144030541415,59.80691635243508,60.671159882373644,61.5393733519655,62.35975740919952,63.092404238757574,63.83980163897949]},\"selected\":{\"id\":\"16150\",\"type\":\"Selection\"},\"selection_policy\":{\"id\":\"16149\",\"type\":\"UnionRenderers\"}},\"id\":\"16121\",\"type\":\"ColumnDataSource\"},{\"attributes\":{\"fill_alpha\":{\"value\":0.1},\"fill_color\":{\"value\":\"#1f77b4\"},\"line_alpha\":{\"value\":0.1},\"line_color\":{\"value\":\"#1f77b4\"},\"size\":{\"units\":\"screen\",\"value\":1},\"x\":{\"field\":\"x\"},\"y\":{\"field\":\"y\"}},\"id\":\"16157\",\"type\":\"Circle\"},{\"attributes\":{\"callback\":null,\"data\":{\"x\":[\"2000\",\"2001\",\"2002\",\"2003\",\"2004\",\"2005\",\"2006\",\"2007\",\"2008\",\"2009\",\"2010\",\"2011\",\"2012\",\"2013\",\"2014\",\"2015\",\"2016\",\"2017\"],\"y\":[49.88174088230704,50.608086227470224,51.395986738735594,52.22351498455358,53.05074087389461,53.92007437124153,54.779372631776084,55.62089417800866,56.4996966988253,57.37541469551412,58.24907194342576,58.917144030541415,59.80691635243508,60.671159882373644,61.5393733519655,62.35975740919952,63.092404238757574,63.83980163897949]},\"selected\":{\"id\":\"16152\",\"type\":\"Selection\"},\"selection_policy\":{\"id\":\"16151\",\"type\":\"UnionRenderers\"}},\"id\":\"16134\",\"type\":\"ColumnDataSource\"},{\"attributes\":{},\"id\":\"16094\",\"type\":\"LinearScale\"},{\"attributes\":{},\"id\":\"16151\",\"type\":\"UnionRenderers\"},{\"attributes\":{\"bottom_units\":\"screen\",\"fill_alpha\":{\"value\":0.5},\"fill_color\":{\"value\":\"lightgrey\"},\"left_units\":\"screen\",\"level\":\"overlay\",\"line_alpha\":{\"value\":1.0},\"line_color\":{\"value\":\"black\"},\"line_dash\":[4,4],\"line_width\":{\"value\":2},\"render_mode\":\"css\",\"right_units\":\"screen\",\"top_units\":\"screen\"},\"id\":\"16131\",\"type\":\"BoxAnnotation\"},{\"attributes\":{},\"id\":\"16104\",\"type\":\"BasicTicker\"},{\"attributes\":{},\"id\":\"16152\",\"type\":\"Selection\"},{\"attributes\":{\"fill_alpha\":{\"value\":0.1},\"fill_color\":{\"value\":\"#1f77b4\"},\"line_alpha\":{\"value\":0.1},\"line_color\":{\"value\":\"#1f77b4\"},\"size\":{\"units\":\"screen\",\"value\":1},\"x\":{\"field\":\"x\"},\"y\":{\"field\":\"y\"}},\"id\":\"16136\",\"type\":\"Circle\"},{\"attributes\":{\"label\":{\"value\":\"Developing excluding LDCs\"},\"renderers\":[{\"id\":\"16142\",\"type\":\"GlyphRenderer\"}]},\"id\":\"16154\",\"type\":\"LegendItem\"},{\"attributes\":{\"fill_color\":{\"value\":\"#FA1857\"},\"line_color\":{\"value\":\"#FA1857\"},\"size\":{\"units\":\"screen\",\"value\":1},\"x\":{\"field\":\"x\"},\"y\":{\"field\":\"y\"}},\"id\":\"16135\",\"type\":\"Circle\"},{\"attributes\":{\"callback\":null},\"id\":\"16092\",\"type\":\"DataRange1d\"},{\"attributes\":{\"source\":{\"id\":\"16139\",\"type\":\"ColumnDataSource\"}},\"id\":\"16143\",\"type\":\"CDSView\"},{\"attributes\":{},\"id\":\"16099\",\"type\":\"BasicTicker\"},{\"attributes\":{},\"id\":\"16109\",\"type\":\"WheelZoomTool\"},{\"attributes\":{\"dimension\":1,\"grid_line_alpha\":0.5,\"ticker\":{\"id\":\"16104\",\"type\":\"BasicTicker\"}},\"id\":\"16107\",\"type\":\"Grid\"},{\"attributes\":{},\"id\":\"16149\",\"type\":\"UnionRenderers\"},{\"attributes\":{},\"id\":\"16129\",\"type\":\"BasicTickFormatter\"},{\"attributes\":{},\"id\":\"16150\",\"type\":\"Selection\"},{\"attributes\":{\"callback\":null},\"id\":\"16090\",\"type\":\"DataRange1d\"},{\"attributes\":{\"line_color\":\"#5430F1\",\"line_width\":4,\"x\":{\"field\":\"x\"},\"y\":{\"field\":\"y\"}},\"id\":\"16140\",\"type\":\"Line\"},{\"attributes\":{},\"id\":\"16113\",\"type\":\"HelpTool\"},{\"attributes\":{},\"id\":\"16703\",\"type\":\"Selection\"},{\"attributes\":{\"line_alpha\":0.1,\"line_color\":\"#1f77b4\",\"line_width\":4,\"x\":{\"field\":\"x\"},\"y\":{\"field\":\"y\"}},\"id\":\"16141\",\"type\":\"Line\"},{\"attributes\":{\"data_source\":{\"id\":\"16139\",\"type\":\"ColumnDataSource\"},\"glyph\":{\"id\":\"16140\",\"type\":\"Line\"},\"hover_glyph\":null,\"muted_glyph\":null,\"nonselection_glyph\":{\"id\":\"16141\",\"type\":\"Line\"},\"selection_glyph\":null,\"view\":{\"id\":\"16143\",\"type\":\"CDSView\"}},\"id\":\"16142\",\"type\":\"GlyphRenderer\"},{\"attributes\":{\"callback\":null,\"data\":{\"x\":[\"2000\",\"2001\",\"2002\",\"2003\",\"2004\",\"2005\",\"2006\",\"2007\",\"2008\",\"2009\",\"2010\",\"2011\",\"2012\",\"2013\",\"2014\",\"2015\",\"2016\",\"2017\"],\"y\":[80.52938553993671,80.98306916658386,81.75577271857544,82.51738528343346,83.26856527716375,84.01035061665243,84.73493683343618,85.44665790841732,86.14597909243486,86.82384120053665,87.49098552195242,88.14296769426193,88.78219085406499,89.40976403386004,90.02760049458978,90.63753858167426,91.22512295896829,91.73069352453612]},\"selected\":{\"id\":\"16701\",\"type\":\"Selection\"},\"selection_policy\":{\"id\":\"16700\",\"type\":\"UnionRenderers\"}},\"id\":\"16139\",\"type\":\"ColumnDataSource\"},{\"attributes\":{\"overlay\":{\"id\":\"16131\",\"type\":\"BoxAnnotation\"}},\"id\":\"16110\",\"type\":\"BoxZoomTool\"},{\"attributes\":{\"text\":\"People using at least basic drinking water services (% of population) weighted against Population, total\"},\"id\":\"16088\",\"type\":\"Title\"},{\"attributes\":{\"line_alpha\":0.1,\"line_color\":\"#1f77b4\",\"line_width\":4,\"x\":{\"field\":\"x\"},\"y\":{\"field\":\"y\"}},\"id\":\"16123\",\"type\":\"Line\"},{\"attributes\":{},\"id\":\"16700\",\"type\":\"UnionRenderers\"},{\"attributes\":{\"source\":{\"id\":\"16134\",\"type\":\"ColumnDataSource\"}},\"id\":\"16138\",\"type\":\"CDSView\"},{\"attributes\":{\"label\":{\"value\":\"LDCs\"},\"renderers\":[{\"id\":\"16124\",\"type\":\"GlyphRenderer\"}]},\"id\":\"16133\",\"type\":\"LegendItem\"},{\"attributes\":{\"axis_label\":\"SH.H2O.BASW.ZS\",\"formatter\":{\"id\":\"16127\",\"type\":\"BasicTickFormatter\"},\"ticker\":{\"id\":\"16104\",\"type\":\"BasicTicker\"}},\"id\":\"16103\",\"type\":\"LinearAxis\"},{\"attributes\":{},\"id\":\"16111\",\"type\":\"SaveTool\"},{\"attributes\":{},\"id\":\"16108\",\"type\":\"PanTool\"},{\"attributes\":{\"callback\":null,\"tooltips\":\"                \\n        <div style=padding=5px>Year:@x</div>\\n        <div style=padding=5px>Value:@y</div>        \\n        \"},\"id\":\"16160\",\"type\":\"HoverTool\"},{\"attributes\":{},\"id\":\"16701\",\"type\":\"Selection\"},{\"attributes\":{},\"id\":\"16702\",\"type\":\"UnionRenderers\"},{\"attributes\":{\"data_source\":{\"id\":\"16134\",\"type\":\"ColumnDataSource\"},\"glyph\":{\"id\":\"16135\",\"type\":\"Circle\"},\"hover_glyph\":null,\"muted_glyph\":null,\"nonselection_glyph\":{\"id\":\"16136\",\"type\":\"Circle\"},\"selection_glyph\":null,\"view\":{\"id\":\"16138\",\"type\":\"CDSView\"}},\"id\":\"16137\",\"type\":\"GlyphRenderer\"},{\"attributes\":{\"axis_label\":\"Years\",\"formatter\":{\"id\":\"16129\",\"type\":\"BasicTickFormatter\"},\"ticker\":{\"id\":\"16099\",\"type\":\"BasicTicker\"}},\"id\":\"16098\",\"type\":\"LinearAxis\"},{\"attributes\":{\"line_color\":\"#FA1857\",\"line_width\":4,\"x\":{\"field\":\"x\"},\"y\":{\"field\":\"y\"}},\"id\":\"16122\",\"type\":\"Line\"},{\"attributes\":{\"data_source\":{\"id\":\"16155\",\"type\":\"ColumnDataSource\"},\"glyph\":{\"id\":\"16156\",\"type\":\"Circle\"},\"hover_glyph\":null,\"muted_glyph\":null,\"nonselection_glyph\":{\"id\":\"16157\",\"type\":\"Circle\"},\"selection_glyph\":null,\"view\":{\"id\":\"16159\",\"type\":\"CDSView\"}},\"id\":\"16158\",\"type\":\"GlyphRenderer\"},{\"attributes\":{\"grid_line_color\":null,\"ticker\":{\"id\":\"16099\",\"type\":\"BasicTicker\"}},\"id\":\"16102\",\"type\":\"Grid\"},{\"attributes\":{\"active_drag\":\"auto\",\"active_inspect\":\"auto\",\"active_multi\":null,\"active_scroll\":\"auto\",\"active_tap\":\"auto\",\"tools\":[{\"id\":\"16108\",\"type\":\"PanTool\"},{\"id\":\"16109\",\"type\":\"WheelZoomTool\"},{\"id\":\"16110\",\"type\":\"BoxZoomTool\"},{\"id\":\"16111\",\"type\":\"SaveTool\"},{\"id\":\"16112\",\"type\":\"ResetTool\"},{\"id\":\"16113\",\"type\":\"HelpTool\"},{\"id\":\"16160\",\"type\":\"HoverTool\"}]},\"id\":\"16114\",\"type\":\"Toolbar\"}],\"root_ids\":[\"16087\"]},\"title\":\"Bokeh Application\",\"version\":\"1.3.4\"}};\n",
       "  var render_items = [{\"docid\":\"40ada272-fb5f-4a54-b40c-c3a7dd2fdeb1\",\"roots\":{\"16087\":\"827d7126-24cc-4379-9ce7-7bc2f5bec4ac\"}}];\n",
       "  root.Bokeh.embed.embed_items_notebook(docs_json, render_items);\n",
       "\n",
       "  }\n",
       "  if (root.Bokeh !== undefined) {\n",
       "    embed_document(root);\n",
       "  } else {\n",
       "    var attempts = 0;\n",
       "    var timer = setInterval(function(root) {\n",
       "      if (root.Bokeh !== undefined) {\n",
       "        embed_document(root);\n",
       "        clearInterval(timer);\n",
       "      }\n",
       "      attempts++;\n",
       "      if (attempts > 100) {\n",
       "        console.log(\"Bokeh: ERROR: Unable to run BokehJS code because BokehJS library is missing\");\n",
       "        clearInterval(timer);\n",
       "      }\n",
       "    }, 10, root)\n",
       "  }\n",
       "})(window);"
      ],
      "application/vnd.bokehjs_exec.v0+json": ""
     },
     "metadata": {
      "application/vnd.bokehjs_exec.v0+json": {
       "id": "16087"
      }
     },
     "output_type": "display_data"
    }
   ],
   "source": [
    "# Basic water access\n",
    "years = list(map(str, list(range(2000,2018))))\n",
    "result = show_weighted_average(years, 'SH.H2O.BASW.ZS', 'SP.POP.TOTL', ['LDCs', 'Developing excluding LDCs'], \n",
    "                                height=400, width=1000, line_width=4)"
   ]
  },
  {
   "cell_type": "code",
   "execution_count": 40,
   "metadata": {
    "ExecuteTime": {
     "end_time": "2019-10-25T14:26:06.027715Z",
     "start_time": "2019-10-25T14:26:01.795810Z"
    },
    "slideshow": {
     "slide_type": "slide"
    }
   },
   "outputs": [
    {
     "data": {
      "text/html": [
       "\n",
       "\n",
       "\n",
       "\n",
       "\n",
       "\n",
       "  <div class=\"bk-root\" id=\"fce9e262-4ea7-4765-ac85-dfdd5f466efd\" data-root-id=\"16789\"></div>\n"
      ]
     },
     "metadata": {},
     "output_type": "display_data"
    },
    {
     "data": {
      "application/javascript": [
       "(function(root) {\n",
       "  function embed_document(root) {\n",
       "    \n",
       "  var docs_json = {\"eb87764a-b1a2-4211-a4fe-e6b0e25c5282\":{\"roots\":{\"references\":[{\"attributes\":{\"below\":[{\"id\":\"16800\",\"type\":\"LinearAxis\"}],\"center\":[{\"id\":\"16804\",\"type\":\"Grid\"},{\"id\":\"16809\",\"type\":\"Grid\"},{\"id\":\"16834\",\"type\":\"Legend\"}],\"left\":[{\"id\":\"16805\",\"type\":\"LinearAxis\"}],\"plot_height\":400,\"plot_width\":1000,\"renderers\":[{\"id\":\"16826\",\"type\":\"GlyphRenderer\"},{\"id\":\"16839\",\"type\":\"GlyphRenderer\"},{\"id\":\"16844\",\"type\":\"GlyphRenderer\"},{\"id\":\"16860\",\"type\":\"GlyphRenderer\"}],\"title\":{\"id\":\"16790\",\"type\":\"Title\"},\"toolbar\":{\"id\":\"16816\",\"type\":\"Toolbar\"},\"x_range\":{\"id\":\"16792\",\"type\":\"DataRange1d\"},\"x_scale\":{\"id\":\"16796\",\"type\":\"LinearScale\"},\"y_range\":{\"id\":\"16794\",\"type\":\"DataRange1d\"},\"y_scale\":{\"id\":\"16798\",\"type\":\"LinearScale\"}},\"id\":\"16789\",\"subtype\":\"Figure\",\"type\":\"Plot\"},{\"attributes\":{},\"id\":\"16854\",\"type\":\"Selection\"},{\"attributes\":{\"grid_line_color\":null,\"ticker\":{\"id\":\"16801\",\"type\":\"BasicTicker\"}},\"id\":\"16804\",\"type\":\"Grid\"},{\"attributes\":{},\"id\":\"16831\",\"type\":\"BasicTickFormatter\"},{\"attributes\":{\"label\":{\"value\":\"Developing excluding LDCs\"},\"renderers\":[{\"id\":\"16844\",\"type\":\"GlyphRenderer\"}]},\"id\":\"16856\",\"type\":\"LegendItem\"},{\"attributes\":{\"bottom_units\":\"screen\",\"fill_alpha\":{\"value\":0.5},\"fill_color\":{\"value\":\"lightgrey\"},\"left_units\":\"screen\",\"level\":\"overlay\",\"line_alpha\":{\"value\":1.0},\"line_color\":{\"value\":\"black\"},\"line_dash\":[4,4],\"line_width\":{\"value\":2},\"render_mode\":\"css\",\"right_units\":\"screen\",\"top_units\":\"screen\"},\"id\":\"16833\",\"type\":\"BoxAnnotation\"},{\"attributes\":{\"axis_label\":\"SH.H2O.BASW.RU.ZS\",\"formatter\":{\"id\":\"16829\",\"type\":\"BasicTickFormatter\"},\"ticker\":{\"id\":\"16806\",\"type\":\"BasicTicker\"}},\"id\":\"16805\",\"type\":\"LinearAxis\"},{\"attributes\":{\"callback\":null,\"data\":{\"x\":[\"2000\",\"2001\",\"2002\",\"2003\",\"2004\",\"2005\",\"2006\",\"2007\",\"2008\",\"2009\",\"2010\",\"2011\",\"2012\",\"2013\",\"2014\",\"2015\",\"2016\",\"2017\"],\"y\":[70.53617342079441,70.98736853175153,71.93803161887901,72.88856091575647,73.83899935125105,74.79174508474752,75.7402919385478,76.68928352401974,77.63732473716367,78.57026473333019,79.50520264937938,80.44196190784398,81.37844584739321,82.31320813991483,83.24970749545021,84.18023015230632,85.0958832055751,86.00729014906636]},\"selected\":{\"id\":\"17419\",\"type\":\"Selection\"},\"selection_policy\":{\"id\":\"17418\",\"type\":\"UnionRenderers\"}},\"id\":\"16857\",\"type\":\"ColumnDataSource\"},{\"attributes\":{\"items\":[{\"id\":\"16835\",\"type\":\"LegendItem\"},{\"id\":\"16856\",\"type\":\"LegendItem\"}],\"location\":\"bottom_left\"},\"id\":\"16834\",\"type\":\"Legend\"},{\"attributes\":{\"fill_color\":{\"value\":\"#5430F1\"},\"line_color\":{\"value\":\"#5430F1\"},\"size\":{\"units\":\"screen\",\"value\":1},\"x\":{\"field\":\"x\"},\"y\":{\"field\":\"y\"}},\"id\":\"16858\",\"type\":\"Circle\"},{\"attributes\":{},\"id\":\"16806\",\"type\":\"BasicTicker\"},{\"attributes\":{\"label\":{\"value\":\"LDCs\"},\"renderers\":[{\"id\":\"16826\",\"type\":\"GlyphRenderer\"}]},\"id\":\"16835\",\"type\":\"LegendItem\"},{\"attributes\":{\"dimension\":1,\"grid_line_alpha\":0.5,\"ticker\":{\"id\":\"16806\",\"type\":\"BasicTicker\"}},\"id\":\"16809\",\"type\":\"Grid\"},{\"attributes\":{\"fill_alpha\":{\"value\":0.1},\"fill_color\":{\"value\":\"#1f77b4\"},\"line_alpha\":{\"value\":0.1},\"line_color\":{\"value\":\"#1f77b4\"},\"size\":{\"units\":\"screen\",\"value\":1},\"x\":{\"field\":\"x\"},\"y\":{\"field\":\"y\"}},\"id\":\"16859\",\"type\":\"Circle\"},{\"attributes\":{\"callback\":null,\"data\":{\"x\":[\"2000\",\"2001\",\"2002\",\"2003\",\"2004\",\"2005\",\"2006\",\"2007\",\"2008\",\"2009\",\"2010\",\"2011\",\"2012\",\"2013\",\"2014\",\"2015\",\"2016\",\"2017\"],\"y\":[41.5045691703602,42.1806214875968,42.885242622983625,43.64136482547633,44.39836037458768,45.19722362416373,45.98902922387146,46.7651200755641,47.57302323497532,48.37812393351483,49.181884079296815,49.83570430661606,50.69488925039761,51.48859977029182,52.29018616324078,53.04155575034853,53.69592350981019,54.34820662340301]},\"selected\":{\"id\":\"16854\",\"type\":\"Selection\"},\"selection_policy\":{\"id\":\"16853\",\"type\":\"UnionRenderers\"}},\"id\":\"16836\",\"type\":\"ColumnDataSource\"},{\"attributes\":{\"data_source\":{\"id\":\"16857\",\"type\":\"ColumnDataSource\"},\"glyph\":{\"id\":\"16858\",\"type\":\"Circle\"},\"hover_glyph\":null,\"muted_glyph\":null,\"nonselection_glyph\":{\"id\":\"16859\",\"type\":\"Circle\"},\"selection_glyph\":null,\"view\":{\"id\":\"16861\",\"type\":\"CDSView\"}},\"id\":\"16860\",\"type\":\"GlyphRenderer\"},{\"attributes\":{\"line_color\":\"#FA1857\",\"line_width\":4,\"x\":{\"field\":\"x\"},\"y\":{\"field\":\"y\"}},\"id\":\"16824\",\"type\":\"Line\"},{\"attributes\":{\"fill_color\":{\"value\":\"#FA1857\"},\"line_color\":{\"value\":\"#FA1857\"},\"size\":{\"units\":\"screen\",\"value\":1},\"x\":{\"field\":\"x\"},\"y\":{\"field\":\"y\"}},\"id\":\"16837\",\"type\":\"Circle\"},{\"attributes\":{\"source\":{\"id\":\"16857\",\"type\":\"ColumnDataSource\"}},\"id\":\"16861\",\"type\":\"CDSView\"},{\"attributes\":{\"callback\":null,\"data\":{\"x\":[\"2000\",\"2001\",\"2002\",\"2003\",\"2004\",\"2005\",\"2006\",\"2007\",\"2008\",\"2009\",\"2010\",\"2011\",\"2012\",\"2013\",\"2014\",\"2015\",\"2016\",\"2017\"],\"y\":[41.5045691703602,42.1806214875968,42.885242622983625,43.64136482547633,44.39836037458768,45.19722362416373,45.98902922387146,46.7651200755641,47.57302323497532,48.37812393351483,49.181884079296815,49.83570430661606,50.69488925039761,51.48859977029182,52.29018616324078,53.04155575034853,53.69592350981019,54.34820662340301]},\"selected\":{\"id\":\"16852\",\"type\":\"Selection\"},\"selection_policy\":{\"id\":\"16851\",\"type\":\"UnionRenderers\"}},\"id\":\"16823\",\"type\":\"ColumnDataSource\"},{\"attributes\":{\"fill_alpha\":{\"value\":0.1},\"fill_color\":{\"value\":\"#1f77b4\"},\"line_alpha\":{\"value\":0.1},\"line_color\":{\"value\":\"#1f77b4\"},\"size\":{\"units\":\"screen\",\"value\":1},\"x\":{\"field\":\"x\"},\"y\":{\"field\":\"y\"}},\"id\":\"16838\",\"type\":\"Circle\"},{\"attributes\":{\"line_alpha\":0.1,\"line_color\":\"#1f77b4\",\"line_width\":4,\"x\":{\"field\":\"x\"},\"y\":{\"field\":\"y\"}},\"id\":\"16825\",\"type\":\"Line\"},{\"attributes\":{},\"id\":\"16810\",\"type\":\"PanTool\"},{\"attributes\":{\"data_source\":{\"id\":\"16836\",\"type\":\"ColumnDataSource\"},\"glyph\":{\"id\":\"16837\",\"type\":\"Circle\"},\"hover_glyph\":null,\"muted_glyph\":null,\"nonselection_glyph\":{\"id\":\"16838\",\"type\":\"Circle\"},\"selection_glyph\":null,\"view\":{\"id\":\"16840\",\"type\":\"CDSView\"}},\"id\":\"16839\",\"type\":\"GlyphRenderer\"},{\"attributes\":{},\"id\":\"17416\",\"type\":\"UnionRenderers\"},{\"attributes\":{},\"id\":\"16811\",\"type\":\"WheelZoomTool\"},{\"attributes\":{\"source\":{\"id\":\"16836\",\"type\":\"ColumnDataSource\"}},\"id\":\"16840\",\"type\":\"CDSView\"},{\"attributes\":{},\"id\":\"17417\",\"type\":\"Selection\"},{\"attributes\":{\"overlay\":{\"id\":\"16833\",\"type\":\"BoxAnnotation\"}},\"id\":\"16812\",\"type\":\"BoxZoomTool\"},{\"attributes\":{\"callback\":null,\"data\":{\"x\":[\"2000\",\"2001\",\"2002\",\"2003\",\"2004\",\"2005\",\"2006\",\"2007\",\"2008\",\"2009\",\"2010\",\"2011\",\"2012\",\"2013\",\"2014\",\"2015\",\"2016\",\"2017\"],\"y\":[70.53617342079441,70.98736853175153,71.93803161887901,72.88856091575647,73.83899935125105,74.79174508474752,75.7402919385478,76.68928352401974,77.63732473716367,78.57026473333019,79.50520264937938,80.44196190784398,81.37844584739321,82.31320813991483,83.24970749545021,84.18023015230632,85.0958832055751,86.00729014906636]},\"selected\":{\"id\":\"17417\",\"type\":\"Selection\"},\"selection_policy\":{\"id\":\"17416\",\"type\":\"UnionRenderers\"}},\"id\":\"16841\",\"type\":\"ColumnDataSource\"},{\"attributes\":{},\"id\":\"17418\",\"type\":\"UnionRenderers\"},{\"attributes\":{},\"id\":\"16813\",\"type\":\"SaveTool\"},{\"attributes\":{\"line_color\":\"#5430F1\",\"line_width\":4,\"x\":{\"field\":\"x\"},\"y\":{\"field\":\"y\"}},\"id\":\"16842\",\"type\":\"Line\"},{\"attributes\":{\"callback\":null,\"tooltips\":\"                \\n        <div style=padding=5px>Year:@x</div>\\n        <div style=padding=5px>Value:@y</div>        \\n        \"},\"id\":\"16862\",\"type\":\"HoverTool\"},{\"attributes\":{},\"id\":\"17419\",\"type\":\"Selection\"},{\"attributes\":{\"text\":\"People using at least basic drinking water services, rural (% of rural population) weighted against Rural population\"},\"id\":\"16790\",\"type\":\"Title\"},{\"attributes\":{},\"id\":\"16814\",\"type\":\"ResetTool\"},{\"attributes\":{\"line_alpha\":0.1,\"line_color\":\"#1f77b4\",\"line_width\":4,\"x\":{\"field\":\"x\"},\"y\":{\"field\":\"y\"}},\"id\":\"16843\",\"type\":\"Line\"},{\"attributes\":{\"callback\":null},\"id\":\"16792\",\"type\":\"DataRange1d\"},{\"attributes\":{},\"id\":\"16815\",\"type\":\"HelpTool\"},{\"attributes\":{\"data_source\":{\"id\":\"16841\",\"type\":\"ColumnDataSource\"},\"glyph\":{\"id\":\"16842\",\"type\":\"Line\"},\"hover_glyph\":null,\"muted_glyph\":null,\"nonselection_glyph\":{\"id\":\"16843\",\"type\":\"Line\"},\"selection_glyph\":null,\"view\":{\"id\":\"16845\",\"type\":\"CDSView\"}},\"id\":\"16844\",\"type\":\"GlyphRenderer\"},{\"attributes\":{\"callback\":null},\"id\":\"16794\",\"type\":\"DataRange1d\"},{\"attributes\":{\"active_drag\":\"auto\",\"active_inspect\":\"auto\",\"active_multi\":null,\"active_scroll\":\"auto\",\"active_tap\":\"auto\",\"tools\":[{\"id\":\"16810\",\"type\":\"PanTool\"},{\"id\":\"16811\",\"type\":\"WheelZoomTool\"},{\"id\":\"16812\",\"type\":\"BoxZoomTool\"},{\"id\":\"16813\",\"type\":\"SaveTool\"},{\"id\":\"16814\",\"type\":\"ResetTool\"},{\"id\":\"16815\",\"type\":\"HelpTool\"},{\"id\":\"16862\",\"type\":\"HoverTool\"}]},\"id\":\"16816\",\"type\":\"Toolbar\"},{\"attributes\":{\"source\":{\"id\":\"16841\",\"type\":\"ColumnDataSource\"}},\"id\":\"16845\",\"type\":\"CDSView\"},{\"attributes\":{},\"id\":\"16796\",\"type\":\"LinearScale\"},{\"attributes\":{},\"id\":\"16851\",\"type\":\"UnionRenderers\"},{\"attributes\":{\"data_source\":{\"id\":\"16823\",\"type\":\"ColumnDataSource\"},\"glyph\":{\"id\":\"16824\",\"type\":\"Line\"},\"hover_glyph\":null,\"muted_glyph\":null,\"nonselection_glyph\":{\"id\":\"16825\",\"type\":\"Line\"},\"selection_glyph\":null,\"view\":{\"id\":\"16827\",\"type\":\"CDSView\"}},\"id\":\"16826\",\"type\":\"GlyphRenderer\"},{\"attributes\":{},\"id\":\"16798\",\"type\":\"LinearScale\"},{\"attributes\":{},\"id\":\"16852\",\"type\":\"Selection\"},{\"attributes\":{\"axis_label\":\"Years\",\"formatter\":{\"id\":\"16831\",\"type\":\"BasicTickFormatter\"},\"ticker\":{\"id\":\"16801\",\"type\":\"BasicTicker\"}},\"id\":\"16800\",\"type\":\"LinearAxis\"},{\"attributes\":{\"source\":{\"id\":\"16823\",\"type\":\"ColumnDataSource\"}},\"id\":\"16827\",\"type\":\"CDSView\"},{\"attributes\":{},\"id\":\"16853\",\"type\":\"UnionRenderers\"},{\"attributes\":{},\"id\":\"16801\",\"type\":\"BasicTicker\"},{\"attributes\":{},\"id\":\"16829\",\"type\":\"BasicTickFormatter\"}],\"root_ids\":[\"16789\"]},\"title\":\"Bokeh Application\",\"version\":\"1.3.4\"}};\n",
       "  var render_items = [{\"docid\":\"eb87764a-b1a2-4211-a4fe-e6b0e25c5282\",\"roots\":{\"16789\":\"fce9e262-4ea7-4765-ac85-dfdd5f466efd\"}}];\n",
       "  root.Bokeh.embed.embed_items_notebook(docs_json, render_items);\n",
       "\n",
       "  }\n",
       "  if (root.Bokeh !== undefined) {\n",
       "    embed_document(root);\n",
       "  } else {\n",
       "    var attempts = 0;\n",
       "    var timer = setInterval(function(root) {\n",
       "      if (root.Bokeh !== undefined) {\n",
       "        embed_document(root);\n",
       "        clearInterval(timer);\n",
       "      }\n",
       "      attempts++;\n",
       "      if (attempts > 100) {\n",
       "        console.log(\"Bokeh: ERROR: Unable to run BokehJS code because BokehJS library is missing\");\n",
       "        clearInterval(timer);\n",
       "      }\n",
       "    }, 10, root)\n",
       "  }\n",
       "})(window);"
      ],
      "application/vnd.bokehjs_exec.v0+json": ""
     },
     "metadata": {
      "application/vnd.bokehjs_exec.v0+json": {
       "id": "16789"
      }
     },
     "output_type": "display_data"
    }
   ],
   "source": [
    "# Basic water access rural\n",
    "years = list(map(str, list(range(2000,2018))))\n",
    "result = show_weighted_average(years, 'SH.H2O.BASW.RU.ZS', 'SP.RUR.TOTL', ['LDCs', 'Developing excluding LDCs'], \n",
    "                                height=400, width=1000, line_width=4)"
   ]
  },
  {
   "cell_type": "markdown",
   "metadata": {
    "slideshow": {
     "slide_type": "slide"
    }
   },
   "source": [
    "# Gender equality and the empowerment of women"
   ]
  },
  {
   "cell_type": "code",
   "execution_count": 41,
   "metadata": {
    "ExecuteTime": {
     "end_time": "2019-10-25T14:26:06.754335Z",
     "start_time": "2019-10-25T14:26:06.030180Z"
    },
    "slideshow": {
     "slide_type": "slide"
    }
   },
   "outputs": [
    {
     "data": {
      "text/html": [
       "\n",
       "\n",
       "\n",
       "\n",
       "\n",
       "\n",
       "  <div class=\"bk-root\" id=\"cf244231-1378-488f-b4bf-b1612f9c9d95\" data-root-id=\"17505\"></div>\n"
      ]
     },
     "metadata": {},
     "output_type": "display_data"
    },
    {
     "data": {
      "application/javascript": [
       "(function(root) {\n",
       "  function embed_document(root) {\n",
       "    \n",
       "  var docs_json = {\"98ba225f-e427-4ffe-8647-ed832f9160c4\":{\"roots\":{\"references\":[{\"attributes\":{\"below\":[{\"id\":\"17516\",\"type\":\"LinearAxis\"}],\"center\":[{\"id\":\"17520\",\"type\":\"Grid\"},{\"id\":\"17525\",\"type\":\"Grid\"},{\"id\":\"17550\",\"type\":\"Legend\"}],\"left\":[{\"id\":\"17521\",\"type\":\"LinearAxis\"}],\"plot_height\":400,\"plot_width\":1000,\"renderers\":[{\"id\":\"17542\",\"type\":\"GlyphRenderer\"},{\"id\":\"17555\",\"type\":\"GlyphRenderer\"},{\"id\":\"17560\",\"type\":\"GlyphRenderer\"},{\"id\":\"17576\",\"type\":\"GlyphRenderer\"}],\"title\":{\"id\":\"17506\",\"type\":\"Title\"},\"toolbar\":{\"id\":\"17532\",\"type\":\"Toolbar\"},\"x_range\":{\"id\":\"17508\",\"type\":\"DataRange1d\"},\"x_scale\":{\"id\":\"17512\",\"type\":\"LinearScale\"},\"y_range\":{\"id\":\"17510\",\"type\":\"DataRange1d\"},\"y_scale\":{\"id\":\"17514\",\"type\":\"LinearScale\"}},\"id\":\"17505\",\"subtype\":\"Figure\",\"type\":\"Plot\"},{\"attributes\":{\"line_alpha\":0.1,\"line_color\":\"#1f77b4\",\"line_width\":4,\"x\":{\"field\":\"x\"},\"y\":{\"field\":\"y\"}},\"id\":\"17541\",\"type\":\"Line\"},{\"attributes\":{\"fill_alpha\":{\"value\":0.1},\"fill_color\":{\"value\":\"#1f77b4\"},\"line_alpha\":{\"value\":0.1},\"line_color\":{\"value\":\"#1f77b4\"},\"size\":{\"units\":\"screen\",\"value\":1},\"x\":{\"field\":\"x\"},\"y\":{\"field\":\"y\"}},\"id\":\"17575\",\"type\":\"Circle\"},{\"attributes\":{\"callback\":null,\"data\":{\"x\":[\"2004\",\"2007\",\"2009\",\"2014\",\"2016\"],\"y\":[55.95647488898381,49.148601616188614,50.86221893261661,50.63622946017881,53.343214850211766]},\"selected\":{\"id\":\"17570\",\"type\":\"Selection\"},\"selection_policy\":{\"id\":\"17569\",\"type\":\"UnionRenderers\"}},\"id\":\"17552\",\"type\":\"ColumnDataSource\"},{\"attributes\":{\"text\":\"Demand for family planning satisfied by modern methods (% of married women with demand for family planning) weighted against Population, female\"},\"id\":\"17506\",\"type\":\"Title\"},{\"attributes\":{},\"id\":\"17526\",\"type\":\"PanTool\"},{\"attributes\":{\"fill_color\":{\"value\":\"#FA1857\"},\"line_color\":{\"value\":\"#FA1857\"},\"size\":{\"units\":\"screen\",\"value\":1},\"x\":{\"field\":\"x\"},\"y\":{\"field\":\"y\"}},\"id\":\"17553\",\"type\":\"Circle\"},{\"attributes\":{\"data_source\":{\"id\":\"17573\",\"type\":\"ColumnDataSource\"},\"glyph\":{\"id\":\"17574\",\"type\":\"Circle\"},\"hover_glyph\":null,\"muted_glyph\":null,\"nonselection_glyph\":{\"id\":\"17575\",\"type\":\"Circle\"},\"selection_glyph\":null,\"view\":{\"id\":\"17577\",\"type\":\"CDSView\"}},\"id\":\"17576\",\"type\":\"GlyphRenderer\"},{\"attributes\":{\"callback\":null},\"id\":\"17508\",\"type\":\"DataRange1d\"},{\"attributes\":{\"fill_alpha\":{\"value\":0.1},\"fill_color\":{\"value\":\"#1f77b4\"},\"line_alpha\":{\"value\":0.1},\"line_color\":{\"value\":\"#1f77b4\"},\"size\":{\"units\":\"screen\",\"value\":1},\"x\":{\"field\":\"x\"},\"y\":{\"field\":\"y\"}},\"id\":\"17554\",\"type\":\"Circle\"},{\"attributes\":{\"callback\":null},\"id\":\"17510\",\"type\":\"DataRange1d\"},{\"attributes\":{},\"id\":\"17527\",\"type\":\"WheelZoomTool\"},{\"attributes\":{\"data_source\":{\"id\":\"17552\",\"type\":\"ColumnDataSource\"},\"glyph\":{\"id\":\"17553\",\"type\":\"Circle\"},\"hover_glyph\":null,\"muted_glyph\":null,\"nonselection_glyph\":{\"id\":\"17554\",\"type\":\"Circle\"},\"selection_glyph\":null,\"view\":{\"id\":\"17556\",\"type\":\"CDSView\"}},\"id\":\"17555\",\"type\":\"GlyphRenderer\"},{\"attributes\":{\"source\":{\"id\":\"17573\",\"type\":\"ColumnDataSource\"}},\"id\":\"17577\",\"type\":\"CDSView\"},{\"attributes\":{\"overlay\":{\"id\":\"17549\",\"type\":\"BoxAnnotation\"}},\"id\":\"17528\",\"type\":\"BoxZoomTool\"},{\"attributes\":{\"source\":{\"id\":\"17552\",\"type\":\"ColumnDataSource\"}},\"id\":\"17556\",\"type\":\"CDSView\"},{\"attributes\":{},\"id\":\"17529\",\"type\":\"SaveTool\"},{\"attributes\":{},\"id\":\"17514\",\"type\":\"LinearScale\"},{\"attributes\":{\"callback\":null,\"data\":{\"x\":[\"2004\",\"2007\",\"2009\",\"2014\",\"2016\"],\"y\":[61.86680129076366,69.97282422378196,71.47856926329575,60.75834802241367,69.21737011372109]},\"selected\":{\"id\":\"18147\",\"type\":\"Selection\"},\"selection_policy\":{\"id\":\"18146\",\"type\":\"UnionRenderers\"}},\"id\":\"17557\",\"type\":\"ColumnDataSource\"},{\"attributes\":{},\"id\":\"18146\",\"type\":\"UnionRenderers\"},{\"attributes\":{},\"id\":\"17530\",\"type\":\"ResetTool\"},{\"attributes\":{},\"id\":\"17512\",\"type\":\"LinearScale\"},{\"attributes\":{\"line_color\":\"#5430F1\",\"line_width\":4,\"x\":{\"field\":\"x\"},\"y\":{\"field\":\"y\"}},\"id\":\"17558\",\"type\":\"Line\"},{\"attributes\":{},\"id\":\"18147\",\"type\":\"Selection\"},{\"attributes\":{\"axis_label\":\"Years\",\"formatter\":{\"id\":\"17547\",\"type\":\"BasicTickFormatter\"},\"ticker\":{\"id\":\"17517\",\"type\":\"BasicTicker\"}},\"id\":\"17516\",\"type\":\"LinearAxis\"},{\"attributes\":{\"line_alpha\":0.1,\"line_color\":\"#1f77b4\",\"line_width\":4,\"x\":{\"field\":\"x\"},\"y\":{\"field\":\"y\"}},\"id\":\"17559\",\"type\":\"Line\"},{\"attributes\":{\"items\":[{\"id\":\"17551\",\"type\":\"LegendItem\"},{\"id\":\"17572\",\"type\":\"LegendItem\"}],\"location\":\"bottom_left\"},\"id\":\"17550\",\"type\":\"Legend\"},{\"attributes\":{},\"id\":\"17517\",\"type\":\"BasicTicker\"},{\"attributes\":{},\"id\":\"17531\",\"type\":\"HelpTool\"},{\"attributes\":{\"data_source\":{\"id\":\"17557\",\"type\":\"ColumnDataSource\"},\"glyph\":{\"id\":\"17558\",\"type\":\"Line\"},\"hover_glyph\":null,\"muted_glyph\":null,\"nonselection_glyph\":{\"id\":\"17559\",\"type\":\"Line\"},\"selection_glyph\":null,\"view\":{\"id\":\"17561\",\"type\":\"CDSView\"}},\"id\":\"17560\",\"type\":\"GlyphRenderer\"},{\"attributes\":{},\"id\":\"18148\",\"type\":\"UnionRenderers\"},{\"attributes\":{\"source\":{\"id\":\"17557\",\"type\":\"ColumnDataSource\"}},\"id\":\"17561\",\"type\":\"CDSView\"},{\"attributes\":{\"grid_line_color\":null,\"ticker\":{\"id\":\"17517\",\"type\":\"BasicTicker\"}},\"id\":\"17520\",\"type\":\"Grid\"},{\"attributes\":{\"active_drag\":\"auto\",\"active_inspect\":\"auto\",\"active_multi\":null,\"active_scroll\":\"auto\",\"active_tap\":\"auto\",\"tools\":[{\"id\":\"17526\",\"type\":\"PanTool\"},{\"id\":\"17527\",\"type\":\"WheelZoomTool\"},{\"id\":\"17528\",\"type\":\"BoxZoomTool\"},{\"id\":\"17529\",\"type\":\"SaveTool\"},{\"id\":\"17530\",\"type\":\"ResetTool\"},{\"id\":\"17531\",\"type\":\"HelpTool\"},{\"id\":\"17578\",\"type\":\"HoverTool\"}]},\"id\":\"17532\",\"type\":\"Toolbar\"},{\"attributes\":{},\"id\":\"17567\",\"type\":\"UnionRenderers\"},{\"attributes\":{},\"id\":\"18149\",\"type\":\"Selection\"},{\"attributes\":{},\"id\":\"17568\",\"type\":\"Selection\"},{\"attributes\":{\"data_source\":{\"id\":\"17539\",\"type\":\"ColumnDataSource\"},\"glyph\":{\"id\":\"17540\",\"type\":\"Line\"},\"hover_glyph\":null,\"muted_glyph\":null,\"nonselection_glyph\":{\"id\":\"17541\",\"type\":\"Line\"},\"selection_glyph\":null,\"view\":{\"id\":\"17543\",\"type\":\"CDSView\"}},\"id\":\"17542\",\"type\":\"GlyphRenderer\"},{\"attributes\":{},\"id\":\"17569\",\"type\":\"UnionRenderers\"},{\"attributes\":{\"label\":{\"value\":\"LDCs\"},\"renderers\":[{\"id\":\"17542\",\"type\":\"GlyphRenderer\"}]},\"id\":\"17551\",\"type\":\"LegendItem\"},{\"attributes\":{\"axis_label\":\"SH.FPL.SATM.ZS\",\"formatter\":{\"id\":\"17545\",\"type\":\"BasicTickFormatter\"},\"ticker\":{\"id\":\"17522\",\"type\":\"BasicTicker\"}},\"id\":\"17521\",\"type\":\"LinearAxis\"},{\"attributes\":{},\"id\":\"17570\",\"type\":\"Selection\"},{\"attributes\":{\"source\":{\"id\":\"17539\",\"type\":\"ColumnDataSource\"}},\"id\":\"17543\",\"type\":\"CDSView\"},{\"attributes\":{},\"id\":\"17522\",\"type\":\"BasicTicker\"},{\"attributes\":{\"label\":{\"value\":\"Developing excluding LDCs\"},\"renderers\":[{\"id\":\"17560\",\"type\":\"GlyphRenderer\"}]},\"id\":\"17572\",\"type\":\"LegendItem\"},{\"attributes\":{\"line_color\":\"#FA1857\",\"line_width\":4,\"x\":{\"field\":\"x\"},\"y\":{\"field\":\"y\"}},\"id\":\"17540\",\"type\":\"Line\"},{\"attributes\":{},\"id\":\"17545\",\"type\":\"BasicTickFormatter\"},{\"attributes\":{\"dimension\":1,\"grid_line_alpha\":0.5,\"ticker\":{\"id\":\"17522\",\"type\":\"BasicTicker\"}},\"id\":\"17525\",\"type\":\"Grid\"},{\"attributes\":{},\"id\":\"17547\",\"type\":\"BasicTickFormatter\"},{\"attributes\":{\"callback\":null,\"data\":{\"x\":[\"2004\",\"2007\",\"2009\",\"2014\",\"2016\"],\"y\":[55.95647488898381,49.148601616188614,50.86221893261661,50.63622946017881,53.343214850211766]},\"selected\":{\"id\":\"17568\",\"type\":\"Selection\"},\"selection_policy\":{\"id\":\"17567\",\"type\":\"UnionRenderers\"}},\"id\":\"17539\",\"type\":\"ColumnDataSource\"},{\"attributes\":{\"callback\":null,\"data\":{\"x\":[\"2004\",\"2007\",\"2009\",\"2014\",\"2016\"],\"y\":[61.86680129076366,69.97282422378196,71.47856926329575,60.75834802241367,69.21737011372109]},\"selected\":{\"id\":\"18149\",\"type\":\"Selection\"},\"selection_policy\":{\"id\":\"18148\",\"type\":\"UnionRenderers\"}},\"id\":\"17573\",\"type\":\"ColumnDataSource\"},{\"attributes\":{\"bottom_units\":\"screen\",\"fill_alpha\":{\"value\":0.5},\"fill_color\":{\"value\":\"lightgrey\"},\"left_units\":\"screen\",\"level\":\"overlay\",\"line_alpha\":{\"value\":1.0},\"line_color\":{\"value\":\"black\"},\"line_dash\":[4,4],\"line_width\":{\"value\":2},\"render_mode\":\"css\",\"right_units\":\"screen\",\"top_units\":\"screen\"},\"id\":\"17549\",\"type\":\"BoxAnnotation\"},{\"attributes\":{\"fill_color\":{\"value\":\"#5430F1\"},\"line_color\":{\"value\":\"#5430F1\"},\"size\":{\"units\":\"screen\",\"value\":1},\"x\":{\"field\":\"x\"},\"y\":{\"field\":\"y\"}},\"id\":\"17574\",\"type\":\"Circle\"},{\"attributes\":{\"callback\":null,\"tooltips\":\"                \\n        <div style=padding=5px>Year:@x</div>\\n        <div style=padding=5px>Value:@y</div>        \\n        \"},\"id\":\"17578\",\"type\":\"HoverTool\"}],\"root_ids\":[\"17505\"]},\"title\":\"Bokeh Application\",\"version\":\"1.3.4\"}};\n",
       "  var render_items = [{\"docid\":\"98ba225f-e427-4ffe-8647-ed832f9160c4\",\"roots\":{\"17505\":\"cf244231-1378-488f-b4bf-b1612f9c9d95\"}}];\n",
       "  root.Bokeh.embed.embed_items_notebook(docs_json, render_items);\n",
       "\n",
       "  }\n",
       "  if (root.Bokeh !== undefined) {\n",
       "    embed_document(root);\n",
       "  } else {\n",
       "    var attempts = 0;\n",
       "    var timer = setInterval(function(root) {\n",
       "      if (root.Bokeh !== undefined) {\n",
       "        embed_document(root);\n",
       "        clearInterval(timer);\n",
       "      }\n",
       "      attempts++;\n",
       "      if (attempts > 100) {\n",
       "        console.log(\"Bokeh: ERROR: Unable to run BokehJS code because BokehJS library is missing\");\n",
       "        clearInterval(timer);\n",
       "      }\n",
       "    }, 10, root)\n",
       "  }\n",
       "})(window);"
      ],
      "application/vnd.bokehjs_exec.v0+json": ""
     },
     "metadata": {
      "application/vnd.bokehjs_exec.v0+json": {
       "id": "17505"
      }
     },
     "output_type": "display_data"
    }
   ],
   "source": [
    "# Family planning\n",
    "years = ['2004', '2007', '2009', '2014', '2016']\n",
    "result = show_weighted_average(years, 'SH.FPL.SATM.ZS', 'SP.POP.TOTL.FE.IN', \n",
    "                               ['LDCs', 'Developing excluding LDCs'], \n",
    "                                height=400, width=1000, line_width=4)"
   ]
  },
  {
   "cell_type": "code",
   "execution_count": 42,
   "metadata": {
    "ExecuteTime": {
     "end_time": "2019-10-25T14:26:07.694750Z",
     "start_time": "2019-10-25T14:26:06.760738Z"
    },
    "slideshow": {
     "slide_type": "slide"
    }
   },
   "outputs": [
    {
     "data": {
      "text/html": [
       "\n",
       "\n",
       "\n",
       "\n",
       "\n",
       "\n",
       "  <div class=\"bk-root\" id=\"092ef197-efdd-4555-b000-db3901068227\" data-root-id=\"18235\"></div>\n"
      ]
     },
     "metadata": {},
     "output_type": "display_data"
    },
    {
     "data": {
      "application/javascript": [
       "(function(root) {\n",
       "  function embed_document(root) {\n",
       "    \n",
       "  var docs_json = {\"7fb500d9-3413-4216-af23-a04ad2a59a43\":{\"roots\":{\"references\":[{\"attributes\":{\"below\":[{\"id\":\"18246\",\"type\":\"LinearAxis\"}],\"center\":[{\"id\":\"18250\",\"type\":\"Grid\"},{\"id\":\"18255\",\"type\":\"Grid\"},{\"id\":\"18280\",\"type\":\"Legend\"}],\"left\":[{\"id\":\"18251\",\"type\":\"LinearAxis\"}],\"plot_height\":400,\"plot_width\":1000,\"renderers\":[{\"id\":\"18272\",\"type\":\"GlyphRenderer\"},{\"id\":\"18285\",\"type\":\"GlyphRenderer\"},{\"id\":\"18290\",\"type\":\"GlyphRenderer\"},{\"id\":\"18306\",\"type\":\"GlyphRenderer\"}],\"title\":{\"id\":\"18236\",\"type\":\"Title\"},\"toolbar\":{\"id\":\"18262\",\"type\":\"Toolbar\"},\"x_range\":{\"id\":\"18238\",\"type\":\"DataRange1d\"},\"x_scale\":{\"id\":\"18242\",\"type\":\"LinearScale\"},\"y_range\":{\"id\":\"18240\",\"type\":\"DataRange1d\"},\"y_scale\":{\"id\":\"18244\",\"type\":\"LinearScale\"}},\"id\":\"18235\",\"subtype\":\"Figure\",\"type\":\"Plot\"},{\"attributes\":{},\"id\":\"18890\",\"type\":\"UnionRenderers\"},{\"attributes\":{},\"id\":\"18260\",\"type\":\"ResetTool\"},{\"attributes\":{},\"id\":\"18261\",\"type\":\"HelpTool\"},{\"attributes\":{\"line_alpha\":0.1,\"line_color\":\"#1f77b4\",\"line_width\":4,\"x\":{\"field\":\"x\"},\"y\":{\"field\":\"y\"}},\"id\":\"18271\",\"type\":\"Line\"},{\"attributes\":{},\"id\":\"18259\",\"type\":\"SaveTool\"},{\"attributes\":{},\"id\":\"18891\",\"type\":\"Selection\"},{\"attributes\":{\"line_color\":\"#5430F1\",\"line_width\":4,\"x\":{\"field\":\"x\"},\"y\":{\"field\":\"y\"}},\"id\":\"18288\",\"type\":\"Line\"},{\"attributes\":{\"line_color\":\"#FA1857\",\"line_width\":4,\"x\":{\"field\":\"x\"},\"y\":{\"field\":\"y\"}},\"id\":\"18270\",\"type\":\"Line\"},{\"attributes\":{\"line_alpha\":0.1,\"line_color\":\"#1f77b4\",\"line_width\":4,\"x\":{\"field\":\"x\"},\"y\":{\"field\":\"y\"}},\"id\":\"18289\",\"type\":\"Line\"},{\"attributes\":{\"text\":\"Adolescent fertility rate (births per 1,000 women ages 15-19) weighted against Population, female\"},\"id\":\"18236\",\"type\":\"Title\"},{\"attributes\":{\"data_source\":{\"id\":\"18303\",\"type\":\"ColumnDataSource\"},\"glyph\":{\"id\":\"18304\",\"type\":\"Circle\"},\"hover_glyph\":null,\"muted_glyph\":null,\"nonselection_glyph\":{\"id\":\"18305\",\"type\":\"Circle\"},\"selection_glyph\":null,\"view\":{\"id\":\"18307\",\"type\":\"CDSView\"}},\"id\":\"18306\",\"type\":\"GlyphRenderer\"},{\"attributes\":{\"data_source\":{\"id\":\"18287\",\"type\":\"ColumnDataSource\"},\"glyph\":{\"id\":\"18288\",\"type\":\"Line\"},\"hover_glyph\":null,\"muted_glyph\":null,\"nonselection_glyph\":{\"id\":\"18289\",\"type\":\"Line\"},\"selection_glyph\":null,\"view\":{\"id\":\"18291\",\"type\":\"CDSView\"}},\"id\":\"18290\",\"type\":\"GlyphRenderer\"},{\"attributes\":{},\"id\":\"18893\",\"type\":\"Selection\"},{\"attributes\":{\"callback\":null},\"id\":\"18238\",\"type\":\"DataRange1d\"},{\"attributes\":{},\"id\":\"18257\",\"type\":\"WheelZoomTool\"},{\"attributes\":{\"active_drag\":\"auto\",\"active_inspect\":\"auto\",\"active_multi\":null,\"active_scroll\":\"auto\",\"active_tap\":\"auto\",\"tools\":[{\"id\":\"18256\",\"type\":\"PanTool\"},{\"id\":\"18257\",\"type\":\"WheelZoomTool\"},{\"id\":\"18258\",\"type\":\"BoxZoomTool\"},{\"id\":\"18259\",\"type\":\"SaveTool\"},{\"id\":\"18260\",\"type\":\"ResetTool\"},{\"id\":\"18261\",\"type\":\"HelpTool\"},{\"id\":\"18308\",\"type\":\"HoverTool\"}]},\"id\":\"18262\",\"type\":\"Toolbar\"},{\"attributes\":{},\"id\":\"18892\",\"type\":\"UnionRenderers\"},{\"attributes\":{\"source\":{\"id\":\"18287\",\"type\":\"ColumnDataSource\"}},\"id\":\"18291\",\"type\":\"CDSView\"},{\"attributes\":{\"callback\":null,\"tooltips\":\"                \\n        <div style=padding=5px>Year:@x</div>\\n        <div style=padding=5px>Value:@y</div>        \\n        \"},\"id\":\"18308\",\"type\":\"HoverTool\"},{\"attributes\":{},\"id\":\"18275\",\"type\":\"BasicTickFormatter\"},{\"attributes\":{\"data_source\":{\"id\":\"18269\",\"type\":\"ColumnDataSource\"},\"glyph\":{\"id\":\"18270\",\"type\":\"Line\"},\"hover_glyph\":null,\"muted_glyph\":null,\"nonselection_glyph\":{\"id\":\"18271\",\"type\":\"Line\"},\"selection_glyph\":null,\"view\":{\"id\":\"18273\",\"type\":\"CDSView\"}},\"id\":\"18272\",\"type\":\"GlyphRenderer\"},{\"attributes\":{},\"id\":\"18242\",\"type\":\"LinearScale\"},{\"attributes\":{},\"id\":\"18297\",\"type\":\"UnionRenderers\"},{\"attributes\":{},\"id\":\"18277\",\"type\":\"BasicTickFormatter\"},{\"attributes\":{},\"id\":\"18244\",\"type\":\"LinearScale\"},{\"attributes\":{},\"id\":\"18298\",\"type\":\"Selection\"},{\"attributes\":{\"bottom_units\":\"screen\",\"fill_alpha\":{\"value\":0.5},\"fill_color\":{\"value\":\"lightgrey\"},\"left_units\":\"screen\",\"level\":\"overlay\",\"line_alpha\":{\"value\":1.0},\"line_color\":{\"value\":\"black\"},\"line_dash\":[4,4],\"line_width\":{\"value\":2},\"render_mode\":\"css\",\"right_units\":\"screen\",\"top_units\":\"screen\"},\"id\":\"18279\",\"type\":\"BoxAnnotation\"},{\"attributes\":{\"source\":{\"id\":\"18269\",\"type\":\"ColumnDataSource\"}},\"id\":\"18273\",\"type\":\"CDSView\"},{\"attributes\":{\"callback\":null},\"id\":\"18240\",\"type\":\"DataRange1d\"},{\"attributes\":{\"source\":{\"id\":\"18303\",\"type\":\"ColumnDataSource\"}},\"id\":\"18307\",\"type\":\"CDSView\"},{\"attributes\":{},\"id\":\"18299\",\"type\":\"UnionRenderers\"},{\"attributes\":{},\"id\":\"18247\",\"type\":\"BasicTicker\"},{\"attributes\":{\"label\":{\"value\":\"LDCs\"},\"renderers\":[{\"id\":\"18272\",\"type\":\"GlyphRenderer\"}]},\"id\":\"18281\",\"type\":\"LegendItem\"},{\"attributes\":{\"grid_line_color\":null,\"ticker\":{\"id\":\"18247\",\"type\":\"BasicTicker\"}},\"id\":\"18250\",\"type\":\"Grid\"},{\"attributes\":{},\"id\":\"18300\",\"type\":\"Selection\"},{\"attributes\":{\"callback\":null,\"data\":{\"x\":[\"2000\",\"2003\",\"2006\",\"2009\",\"2014\",\"2017\"],\"y\":[119.30680955251184,114.98644401832998,110.35720256269572,105.31697784440021,96.90208117559042,91.981959778557]},\"selected\":{\"id\":\"18300\",\"type\":\"Selection\"},\"selection_policy\":{\"id\":\"18299\",\"type\":\"UnionRenderers\"}},\"id\":\"18282\",\"type\":\"ColumnDataSource\"},{\"attributes\":{\"label\":{\"value\":\"Developing excluding LDCs\"},\"renderers\":[{\"id\":\"18290\",\"type\":\"GlyphRenderer\"}]},\"id\":\"18302\",\"type\":\"LegendItem\"},{\"attributes\":{\"axis_label\":\"Years\",\"formatter\":{\"id\":\"18277\",\"type\":\"BasicTickFormatter\"},\"ticker\":{\"id\":\"18247\",\"type\":\"BasicTicker\"}},\"id\":\"18246\",\"type\":\"LinearAxis\"},{\"attributes\":{\"items\":[{\"id\":\"18281\",\"type\":\"LegendItem\"},{\"id\":\"18302\",\"type\":\"LegendItem\"}],\"location\":\"bottom_left\"},\"id\":\"18280\",\"type\":\"Legend\"},{\"attributes\":{\"axis_label\":\"SP.ADO.TFRT\",\"formatter\":{\"id\":\"18275\",\"type\":\"BasicTickFormatter\"},\"ticker\":{\"id\":\"18252\",\"type\":\"BasicTicker\"}},\"id\":\"18251\",\"type\":\"LinearAxis\"},{\"attributes\":{\"fill_color\":{\"value\":\"#5430F1\"},\"line_color\":{\"value\":\"#5430F1\"},\"size\":{\"units\":\"screen\",\"value\":1},\"x\":{\"field\":\"x\"},\"y\":{\"field\":\"y\"}},\"id\":\"18304\",\"type\":\"Circle\"},{\"attributes\":{\"fill_alpha\":{\"value\":0.1},\"fill_color\":{\"value\":\"#1f77b4\"},\"line_alpha\":{\"value\":0.1},\"line_color\":{\"value\":\"#1f77b4\"},\"size\":{\"units\":\"screen\",\"value\":1},\"x\":{\"field\":\"x\"},\"y\":{\"field\":\"y\"}},\"id\":\"18284\",\"type\":\"Circle\"},{\"attributes\":{},\"id\":\"18256\",\"type\":\"PanTool\"},{\"attributes\":{\"callback\":null,\"data\":{\"x\":[\"2000\",\"2003\",\"2006\",\"2009\",\"2014\",\"2017\"],\"y\":[48.60949425276021,44.793271674532996,41.346064517381414,38.23315248769004,33.08506789122465,29.748702993171424]},\"selected\":{\"id\":\"18893\",\"type\":\"Selection\"},\"selection_policy\":{\"id\":\"18892\",\"type\":\"UnionRenderers\"}},\"id\":\"18303\",\"type\":\"ColumnDataSource\"},{\"attributes\":{\"data_source\":{\"id\":\"18282\",\"type\":\"ColumnDataSource\"},\"glyph\":{\"id\":\"18283\",\"type\":\"Circle\"},\"hover_glyph\":null,\"muted_glyph\":null,\"nonselection_glyph\":{\"id\":\"18284\",\"type\":\"Circle\"},\"selection_glyph\":null,\"view\":{\"id\":\"18286\",\"type\":\"CDSView\"}},\"id\":\"18285\",\"type\":\"GlyphRenderer\"},{\"attributes\":{\"dimension\":1,\"grid_line_alpha\":0.5,\"ticker\":{\"id\":\"18252\",\"type\":\"BasicTicker\"}},\"id\":\"18255\",\"type\":\"Grid\"},{\"attributes\":{\"fill_alpha\":{\"value\":0.1},\"fill_color\":{\"value\":\"#1f77b4\"},\"line_alpha\":{\"value\":0.1},\"line_color\":{\"value\":\"#1f77b4\"},\"size\":{\"units\":\"screen\",\"value\":1},\"x\":{\"field\":\"x\"},\"y\":{\"field\":\"y\"}},\"id\":\"18305\",\"type\":\"Circle\"},{\"attributes\":{\"fill_color\":{\"value\":\"#FA1857\"},\"line_color\":{\"value\":\"#FA1857\"},\"size\":{\"units\":\"screen\",\"value\":1},\"x\":{\"field\":\"x\"},\"y\":{\"field\":\"y\"}},\"id\":\"18283\",\"type\":\"Circle\"},{\"attributes\":{\"callback\":null,\"data\":{\"x\":[\"2000\",\"2003\",\"2006\",\"2009\",\"2014\",\"2017\"],\"y\":[119.30680955251184,114.98644401832998,110.35720256269572,105.31697784440021,96.90208117559042,91.981959778557]},\"selected\":{\"id\":\"18298\",\"type\":\"Selection\"},\"selection_policy\":{\"id\":\"18297\",\"type\":\"UnionRenderers\"}},\"id\":\"18269\",\"type\":\"ColumnDataSource\"},{\"attributes\":{},\"id\":\"18252\",\"type\":\"BasicTicker\"},{\"attributes\":{\"callback\":null,\"data\":{\"x\":[\"2000\",\"2003\",\"2006\",\"2009\",\"2014\",\"2017\"],\"y\":[48.60949425276021,44.793271674532996,41.346064517381414,38.23315248769004,33.08506789122465,29.748702993171424]},\"selected\":{\"id\":\"18891\",\"type\":\"Selection\"},\"selection_policy\":{\"id\":\"18890\",\"type\":\"UnionRenderers\"}},\"id\":\"18287\",\"type\":\"ColumnDataSource\"},{\"attributes\":{\"overlay\":{\"id\":\"18279\",\"type\":\"BoxAnnotation\"}},\"id\":\"18258\",\"type\":\"BoxZoomTool\"},{\"attributes\":{\"source\":{\"id\":\"18282\",\"type\":\"ColumnDataSource\"}},\"id\":\"18286\",\"type\":\"CDSView\"}],\"root_ids\":[\"18235\"]},\"title\":\"Bokeh Application\",\"version\":\"1.3.4\"}};\n",
       "  var render_items = [{\"docid\":\"7fb500d9-3413-4216-af23-a04ad2a59a43\",\"roots\":{\"18235\":\"092ef197-efdd-4555-b000-db3901068227\"}}];\n",
       "  root.Bokeh.embed.embed_items_notebook(docs_json, render_items);\n",
       "\n",
       "  }\n",
       "  if (root.Bokeh !== undefined) {\n",
       "    embed_document(root);\n",
       "  } else {\n",
       "    var attempts = 0;\n",
       "    var timer = setInterval(function(root) {\n",
       "      if (root.Bokeh !== undefined) {\n",
       "        embed_document(root);\n",
       "        clearInterval(timer);\n",
       "      }\n",
       "      attempts++;\n",
       "      if (attempts > 100) {\n",
       "        console.log(\"Bokeh: ERROR: Unable to run BokehJS code because BokehJS library is missing\");\n",
       "        clearInterval(timer);\n",
       "      }\n",
       "    }, 10, root)\n",
       "  }\n",
       "})(window);"
      ],
      "application/vnd.bokehjs_exec.v0+json": ""
     },
     "metadata": {
      "application/vnd.bokehjs_exec.v0+json": {
       "id": "18235"
      }
     },
     "output_type": "display_data"
    }
   ],
   "source": [
    "# Basic water access rural\n",
    "years = ['2000', '2003', '2006', '2009', '2014', '2017']\n",
    "result = show_weighted_average(years, 'SP.ADO.TFRT', 'SP.POP.TOTL.FE.IN', \n",
    "                               ['LDCs', 'Developing excluding LDCs'], \n",
    "                                height=400, width=1000, line_width=4)"
   ]
  },
  {
   "cell_type": "markdown",
   "metadata": {
    "slideshow": {
     "slide_type": "slide"
    }
   },
   "source": [
    "# Social protection"
   ]
  },
  {
   "cell_type": "code",
   "execution_count": 43,
   "metadata": {
    "ExecuteTime": {
     "end_time": "2019-10-25T14:26:12.858520Z",
     "start_time": "2019-10-25T14:26:07.697975Z"
    },
    "slideshow": {
     "slide_type": "slide"
    }
   },
   "outputs": [
    {
     "data": {
      "text/html": [
       "\n",
       "\n",
       "\n",
       "\n",
       "\n",
       "\n",
       "  <div class=\"bk-root\" id=\"e6bda75c-299a-46cd-b496-62da5dedc563\" data-root-id=\"18979\"></div>\n"
      ]
     },
     "metadata": {},
     "output_type": "display_data"
    },
    {
     "data": {
      "application/javascript": [
       "(function(root) {\n",
       "  function embed_document(root) {\n",
       "    \n",
       "  var docs_json = {\"d9846c1e-0d1e-4699-9aeb-2db3cac6a325\":{\"roots\":{\"references\":[{\"attributes\":{\"below\":[{\"id\":\"18990\",\"type\":\"LinearAxis\"}],\"center\":[{\"id\":\"18994\",\"type\":\"Grid\"},{\"id\":\"18999\",\"type\":\"Grid\"},{\"id\":\"19024\",\"type\":\"Legend\"}],\"left\":[{\"id\":\"18995\",\"type\":\"LinearAxis\"}],\"plot_height\":400,\"plot_width\":1000,\"renderers\":[{\"id\":\"19016\",\"type\":\"GlyphRenderer\"},{\"id\":\"19029\",\"type\":\"GlyphRenderer\"},{\"id\":\"19034\",\"type\":\"GlyphRenderer\"},{\"id\":\"19050\",\"type\":\"GlyphRenderer\"},{\"id\":\"19055\",\"type\":\"GlyphRenderer\"},{\"id\":\"19075\",\"type\":\"GlyphRenderer\"}],\"title\":{\"id\":\"18980\",\"type\":\"Title\"},\"toolbar\":{\"id\":\"19006\",\"type\":\"Toolbar\"},\"x_range\":{\"id\":\"18982\",\"type\":\"DataRange1d\"},\"x_scale\":{\"id\":\"18986\",\"type\":\"LinearScale\"},\"y_range\":{\"id\":\"18984\",\"type\":\"DataRange1d\"},\"y_scale\":{\"id\":\"18988\",\"type\":\"LinearScale\"}},\"id\":\"18979\",\"subtype\":\"Figure\",\"type\":\"Plot\"},{\"attributes\":{\"data_source\":{\"id\":\"19047\",\"type\":\"ColumnDataSource\"},\"glyph\":{\"id\":\"19048\",\"type\":\"Circle\"},\"hover_glyph\":null,\"muted_glyph\":null,\"nonselection_glyph\":{\"id\":\"19049\",\"type\":\"Circle\"},\"selection_glyph\":null,\"view\":{\"id\":\"19051\",\"type\":\"CDSView\"}},\"id\":\"19050\",\"type\":\"GlyphRenderer\"},{\"attributes\":{\"line_color\":\"#2CC775\",\"line_width\":4,\"x\":{\"field\":\"x\"},\"y\":{\"field\":\"y\"}},\"id\":\"19053\",\"type\":\"Line\"},{\"attributes\":{},\"id\":\"19003\",\"type\":\"SaveTool\"},{\"attributes\":{\"source\":{\"id\":\"19013\",\"type\":\"ColumnDataSource\"}},\"id\":\"19017\",\"type\":\"CDSView\"},{\"attributes\":{\"callback\":null,\"data\":{\"x\":[\"2000\",\"2001\",\"2002\",\"2003\",\"2004\",\"2005\",\"2006\",\"2007\",\"2008\",\"2009\",\"2010\",\"2011\",\"2012\",\"2013\",\"2014\",\"2015\",\"2016\",\"2017\"],\"y\":[50.723128378093605,50.5231850468679,50.37496397566116,50.256690141387246,50.13330348053058,49.99664317017944,50.01583887693405,50.00026173733251,49.99506396621195,50.06955879546578,50.259015743666154,50.596556044189086,50.982156909542724,51.41864250914094,51.884735692147885,52.364033705503694,52.810673816186224,53.26354779686192]},\"selected\":{\"id\":\"19678\",\"type\":\"Selection\"},\"selection_policy\":{\"id\":\"19677\",\"type\":\"UnionRenderers\"}},\"id\":\"19052\",\"type\":\"ColumnDataSource\"},{\"attributes\":{},\"id\":\"19679\",\"type\":\"UnionRenderers\"},{\"attributes\":{\"line_alpha\":0.1,\"line_color\":\"#1f77b4\",\"line_width\":4,\"x\":{\"field\":\"x\"},\"y\":{\"field\":\"y\"}},\"id\":\"19054\",\"type\":\"Line\"},{\"attributes\":{\"fill_alpha\":{\"value\":0.1},\"fill_color\":{\"value\":\"#1f77b4\"},\"line_alpha\":{\"value\":0.1},\"line_color\":{\"value\":\"#1f77b4\"},\"size\":{\"units\":\"screen\",\"value\":1},\"x\":{\"field\":\"x\"},\"y\":{\"field\":\"y\"}},\"id\":\"19049\",\"type\":\"Circle\"},{\"attributes\":{},\"id\":\"19005\",\"type\":\"HelpTool\"},{\"attributes\":{},\"id\":\"19019\",\"type\":\"BasicTickFormatter\"},{\"attributes\":{\"bottom_units\":\"screen\",\"fill_alpha\":{\"value\":0.5},\"fill_color\":{\"value\":\"lightgrey\"},\"left_units\":\"screen\",\"level\":\"overlay\",\"line_alpha\":{\"value\":1.0},\"line_color\":{\"value\":\"black\"},\"line_dash\":[4,4],\"line_width\":{\"value\":2},\"render_mode\":\"css\",\"right_units\":\"screen\",\"top_units\":\"screen\"},\"id\":\"19023\",\"type\":\"BoxAnnotation\"},{\"attributes\":{\"callback\":null},\"id\":\"18982\",\"type\":\"DataRange1d\"},{\"attributes\":{\"source\":{\"id\":\"19047\",\"type\":\"ColumnDataSource\"}},\"id\":\"19051\",\"type\":\"CDSView\"},{\"attributes\":{\"source\":{\"id\":\"19052\",\"type\":\"ColumnDataSource\"}},\"id\":\"19056\",\"type\":\"CDSView\"},{\"attributes\":{},\"id\":\"19021\",\"type\":\"BasicTickFormatter\"},{\"attributes\":{},\"id\":\"19004\",\"type\":\"ResetTool\"},{\"attributes\":{\"text\":\"Age dependency ratio (% of working-age population) weighted against Population ages 15-64, total\"},\"id\":\"18980\",\"type\":\"Title\"},{\"attributes\":{},\"id\":\"19066\",\"type\":\"UnionRenderers\"},{\"attributes\":{\"data_source\":{\"id\":\"19052\",\"type\":\"ColumnDataSource\"},\"glyph\":{\"id\":\"19053\",\"type\":\"Line\"},\"hover_glyph\":null,\"muted_glyph\":null,\"nonselection_glyph\":{\"id\":\"19054\",\"type\":\"Line\"},\"selection_glyph\":null,\"view\":{\"id\":\"19056\",\"type\":\"CDSView\"}},\"id\":\"19055\",\"type\":\"GlyphRenderer\"},{\"attributes\":{\"items\":[{\"id\":\"19025\",\"type\":\"LegendItem\"},{\"id\":\"19046\",\"type\":\"LegendItem\"},{\"id\":\"19071\",\"type\":\"LegendItem\"}],\"location\":\"bottom_left\"},\"id\":\"19024\",\"type\":\"Legend\"},{\"attributes\":{\"callback\":null},\"id\":\"18984\",\"type\":\"DataRange1d\"},{\"attributes\":{},\"id\":\"19068\",\"type\":\"UnionRenderers\"},{\"attributes\":{\"callback\":null,\"data\":{\"x\":[\"2000\",\"2001\",\"2002\",\"2003\",\"2004\",\"2005\",\"2006\",\"2007\",\"2008\",\"2009\",\"2010\",\"2011\",\"2012\",\"2013\",\"2014\",\"2015\",\"2016\",\"2017\"],\"y\":[85.17405524987429,84.79540428030643,84.3330650787975,83.81501444931978,83.25253104425855,82.64268122833322,82.3537804564918,81.97232450086702,81.50749277844447,80.9718701788124,80.37500826423279,79.81216621177352,79.1507140134569,78.41620239885593,77.62490340829318,76.79105196030804,76.0307949316323,75.22397002256074]},\"selected\":{\"id\":\"19044\",\"type\":\"Selection\"},\"selection_policy\":{\"id\":\"19043\",\"type\":\"UnionRenderers\"}},\"id\":\"19026\",\"type\":\"ColumnDataSource\"},{\"attributes\":{},\"id\":\"19043\",\"type\":\"UnionRenderers\"},{\"attributes\":{\"active_drag\":\"auto\",\"active_inspect\":\"auto\",\"active_multi\":null,\"active_scroll\":\"auto\",\"active_tap\":\"auto\",\"tools\":[{\"id\":\"19000\",\"type\":\"PanTool\"},{\"id\":\"19001\",\"type\":\"WheelZoomTool\"},{\"id\":\"19002\",\"type\":\"BoxZoomTool\"},{\"id\":\"19003\",\"type\":\"SaveTool\"},{\"id\":\"19004\",\"type\":\"ResetTool\"},{\"id\":\"19005\",\"type\":\"HelpTool\"},{\"id\":\"19077\",\"type\":\"HoverTool\"}]},\"id\":\"19006\",\"type\":\"Toolbar\"},{\"attributes\":{},\"id\":\"18988\",\"type\":\"LinearScale\"},{\"attributes\":{},\"id\":\"19067\",\"type\":\"Selection\"},{\"attributes\":{\"label\":{\"value\":\"LDCs\"},\"renderers\":[{\"id\":\"19016\",\"type\":\"GlyphRenderer\"}]},\"id\":\"19025\",\"type\":\"LegendItem\"},{\"attributes\":{},\"id\":\"18986\",\"type\":\"LinearScale\"},{\"attributes\":{},\"id\":\"19069\",\"type\":\"Selection\"},{\"attributes\":{\"fill_color\":{\"value\":\"#FA1857\"},\"line_color\":{\"value\":\"#FA1857\"},\"size\":{\"units\":\"screen\",\"value\":1},\"x\":{\"field\":\"x\"},\"y\":{\"field\":\"y\"}},\"id\":\"19027\",\"type\":\"Circle\"},{\"attributes\":{},\"id\":\"19042\",\"type\":\"Selection\"},{\"attributes\":{\"axis_label\":\"Years\",\"formatter\":{\"id\":\"19021\",\"type\":\"BasicTickFormatter\"},\"ticker\":{\"id\":\"18991\",\"type\":\"BasicTicker\"}},\"id\":\"18990\",\"type\":\"LinearAxis\"},{\"attributes\":{\"data_source\":{\"id\":\"19013\",\"type\":\"ColumnDataSource\"},\"glyph\":{\"id\":\"19014\",\"type\":\"Line\"},\"hover_glyph\":null,\"muted_glyph\":null,\"nonselection_glyph\":{\"id\":\"19015\",\"type\":\"Line\"},\"selection_glyph\":null,\"view\":{\"id\":\"19017\",\"type\":\"CDSView\"}},\"id\":\"19016\",\"type\":\"GlyphRenderer\"},{\"attributes\":{\"data_source\":{\"id\":\"19026\",\"type\":\"ColumnDataSource\"},\"glyph\":{\"id\":\"19027\",\"type\":\"Circle\"},\"hover_glyph\":null,\"muted_glyph\":null,\"nonselection_glyph\":{\"id\":\"19028\",\"type\":\"Circle\"},\"selection_glyph\":null,\"view\":{\"id\":\"19030\",\"type\":\"CDSView\"}},\"id\":\"19029\",\"type\":\"GlyphRenderer\"},{\"attributes\":{\"grid_line_color\":null,\"ticker\":{\"id\":\"18991\",\"type\":\"BasicTicker\"}},\"id\":\"18994\",\"type\":\"Grid\"},{\"attributes\":{\"label\":{\"value\":\"OECD\"},\"renderers\":[{\"id\":\"19055\",\"type\":\"GlyphRenderer\"}]},\"id\":\"19071\",\"type\":\"LegendItem\"},{\"attributes\":{},\"id\":\"19044\",\"type\":\"Selection\"},{\"attributes\":{\"fill_alpha\":{\"value\":0.1},\"fill_color\":{\"value\":\"#1f77b4\"},\"line_alpha\":{\"value\":0.1},\"line_color\":{\"value\":\"#1f77b4\"},\"size\":{\"units\":\"screen\",\"value\":1},\"x\":{\"field\":\"x\"},\"y\":{\"field\":\"y\"}},\"id\":\"19028\",\"type\":\"Circle\"},{\"attributes\":{\"fill_color\":{\"value\":\"#2CC775\"},\"line_color\":{\"value\":\"#2CC775\"},\"size\":{\"units\":\"screen\",\"value\":1},\"x\":{\"field\":\"x\"},\"y\":{\"field\":\"y\"}},\"id\":\"19073\",\"type\":\"Circle\"},{\"attributes\":{},\"id\":\"18991\",\"type\":\"BasicTicker\"},{\"attributes\":{\"source\":{\"id\":\"19026\",\"type\":\"ColumnDataSource\"}},\"id\":\"19030\",\"type\":\"CDSView\"},{\"attributes\":{\"callback\":null,\"data\":{\"x\":[\"2000\",\"2001\",\"2002\",\"2003\",\"2004\",\"2005\",\"2006\",\"2007\",\"2008\",\"2009\",\"2010\",\"2011\",\"2012\",\"2013\",\"2014\",\"2015\",\"2016\",\"2017\"],\"y\":[50.723128378093605,50.5231850468679,50.37496397566116,50.256690141387246,50.13330348053058,49.99664317017944,50.01583887693405,50.00026173733251,49.99506396621195,50.06955879546578,50.259015743666154,50.596556044189086,50.982156909542724,51.41864250914094,51.884735692147885,52.364033705503694,52.810673816186224,53.26354779686192]},\"selected\":{\"id\":\"19680\",\"type\":\"Selection\"},\"selection_policy\":{\"id\":\"19679\",\"type\":\"UnionRenderers\"}},\"id\":\"19072\",\"type\":\"ColumnDataSource\"},{\"attributes\":{\"data_source\":{\"id\":\"19072\",\"type\":\"ColumnDataSource\"},\"glyph\":{\"id\":\"19073\",\"type\":\"Circle\"},\"hover_glyph\":null,\"muted_glyph\":null,\"nonselection_glyph\":{\"id\":\"19074\",\"type\":\"Circle\"},\"selection_glyph\":null,\"view\":{\"id\":\"19076\",\"type\":\"CDSView\"}},\"id\":\"19075\",\"type\":\"GlyphRenderer\"},{\"attributes\":{\"callback\":null,\"data\":{\"x\":[\"2000\",\"2001\",\"2002\",\"2003\",\"2004\",\"2005\",\"2006\",\"2007\",\"2008\",\"2009\",\"2010\",\"2011\",\"2012\",\"2013\",\"2014\",\"2015\",\"2016\",\"2017\"],\"y\":[58.19409281505839,57.390788669127076,56.303566941143856,55.0777888204011,53.9356506864574,52.98456714221311,52.19880666201814,51.56524492183216,51.0555121914691,50.59642272787209,50.15377130229243,49.85370067049981,49.550004873173656,49.27463686577526,49.07562632818277,48.97354671460469,49.01384219923888,49.124886101246084]},\"selected\":{\"id\":\"19069\",\"type\":\"Selection\"},\"selection_policy\":{\"id\":\"19068\",\"type\":\"UnionRenderers\"}},\"id\":\"19047\",\"type\":\"ColumnDataSource\"},{\"attributes\":{},\"id\":\"19041\",\"type\":\"UnionRenderers\"},{\"attributes\":{\"axis_label\":\"SP.POP.DPND\",\"formatter\":{\"id\":\"19019\",\"type\":\"BasicTickFormatter\"},\"ticker\":{\"id\":\"18996\",\"type\":\"BasicTicker\"}},\"id\":\"18995\",\"type\":\"LinearAxis\"},{\"attributes\":{\"line_color\":\"#5430F1\",\"line_width\":4,\"x\":{\"field\":\"x\"},\"y\":{\"field\":\"y\"}},\"id\":\"19032\",\"type\":\"Line\"},{\"attributes\":{},\"id\":\"19000\",\"type\":\"PanTool\"},{\"attributes\":{\"fill_alpha\":{\"value\":0.1},\"fill_color\":{\"value\":\"#1f77b4\"},\"line_alpha\":{\"value\":0.1},\"line_color\":{\"value\":\"#1f77b4\"},\"size\":{\"units\":\"screen\",\"value\":1},\"x\":{\"field\":\"x\"},\"y\":{\"field\":\"y\"}},\"id\":\"19074\",\"type\":\"Circle\"},{\"attributes\":{\"callback\":null,\"data\":{\"x\":[\"2000\",\"2001\",\"2002\",\"2003\",\"2004\",\"2005\",\"2006\",\"2007\",\"2008\",\"2009\",\"2010\",\"2011\",\"2012\",\"2013\",\"2014\",\"2015\",\"2016\",\"2017\"],\"y\":[58.19409281505839,57.390788669127076,56.303566941143856,55.0777888204011,53.9356506864574,52.98456714221311,52.19880666201814,51.56524492183216,51.0555121914691,50.59642272787209,50.15377130229243,49.85370067049981,49.550004873173656,49.27463686577526,49.07562632818277,48.97354671460469,49.01384219923888,49.124886101246084]},\"selected\":{\"id\":\"19067\",\"type\":\"Selection\"},\"selection_policy\":{\"id\":\"19066\",\"type\":\"UnionRenderers\"}},\"id\":\"19031\",\"type\":\"ColumnDataSource\"},{\"attributes\":{\"line_alpha\":0.1,\"line_color\":\"#1f77b4\",\"line_width\":4,\"x\":{\"field\":\"x\"},\"y\":{\"field\":\"y\"}},\"id\":\"19015\",\"type\":\"Line\"},{\"attributes\":{\"source\":{\"id\":\"19072\",\"type\":\"ColumnDataSource\"}},\"id\":\"19076\",\"type\":\"CDSView\"},{\"attributes\":{\"label\":{\"value\":\"Developing excluding LDCs\"},\"renderers\":[{\"id\":\"19034\",\"type\":\"GlyphRenderer\"}]},\"id\":\"19046\",\"type\":\"LegendItem\"},{\"attributes\":{\"line_alpha\":0.1,\"line_color\":\"#1f77b4\",\"line_width\":4,\"x\":{\"field\":\"x\"},\"y\":{\"field\":\"y\"}},\"id\":\"19033\",\"type\":\"Line\"},{\"attributes\":{},\"id\":\"18996\",\"type\":\"BasicTicker\"},{\"attributes\":{\"overlay\":{\"id\":\"19023\",\"type\":\"BoxAnnotation\"}},\"id\":\"19002\",\"type\":\"BoxZoomTool\"},{\"attributes\":{},\"id\":\"19677\",\"type\":\"UnionRenderers\"},{\"attributes\":{\"line_color\":\"#FA1857\",\"line_width\":4,\"x\":{\"field\":\"x\"},\"y\":{\"field\":\"y\"}},\"id\":\"19014\",\"type\":\"Line\"},{\"attributes\":{\"source\":{\"id\":\"19031\",\"type\":\"ColumnDataSource\"}},\"id\":\"19035\",\"type\":\"CDSView\"},{\"attributes\":{\"callback\":null,\"tooltips\":\"                \\n        <div style=padding=5px>Year:@x</div>\\n        <div style=padding=5px>Value:@y</div>        \\n        \"},\"id\":\"19077\",\"type\":\"HoverTool\"},{\"attributes\":{\"fill_color\":{\"value\":\"#5430F1\"},\"line_color\":{\"value\":\"#5430F1\"},\"size\":{\"units\":\"screen\",\"value\":1},\"x\":{\"field\":\"x\"},\"y\":{\"field\":\"y\"}},\"id\":\"19048\",\"type\":\"Circle\"},{\"attributes\":{\"data_source\":{\"id\":\"19031\",\"type\":\"ColumnDataSource\"},\"glyph\":{\"id\":\"19032\",\"type\":\"Line\"},\"hover_glyph\":null,\"muted_glyph\":null,\"nonselection_glyph\":{\"id\":\"19033\",\"type\":\"Line\"},\"selection_glyph\":null,\"view\":{\"id\":\"19035\",\"type\":\"CDSView\"}},\"id\":\"19034\",\"type\":\"GlyphRenderer\"},{\"attributes\":{\"dimension\":1,\"grid_line_alpha\":0.5,\"ticker\":{\"id\":\"18996\",\"type\":\"BasicTicker\"}},\"id\":\"18999\",\"type\":\"Grid\"},{\"attributes\":{},\"id\":\"19001\",\"type\":\"WheelZoomTool\"},{\"attributes\":{},\"id\":\"19678\",\"type\":\"Selection\"},{\"attributes\":{\"callback\":null,\"data\":{\"x\":[\"2000\",\"2001\",\"2002\",\"2003\",\"2004\",\"2005\",\"2006\",\"2007\",\"2008\",\"2009\",\"2010\",\"2011\",\"2012\",\"2013\",\"2014\",\"2015\",\"2016\",\"2017\"],\"y\":[85.17405524987429,84.79540428030643,84.3330650787975,83.81501444931978,83.25253104425855,82.64268122833322,82.3537804564918,81.97232450086702,81.50749277844447,80.9718701788124,80.37500826423279,79.81216621177352,79.1507140134569,78.41620239885593,77.62490340829318,76.79105196030804,76.0307949316323,75.22397002256074]},\"selected\":{\"id\":\"19042\",\"type\":\"Selection\"},\"selection_policy\":{\"id\":\"19041\",\"type\":\"UnionRenderers\"}},\"id\":\"19013\",\"type\":\"ColumnDataSource\"},{\"attributes\":{},\"id\":\"19680\",\"type\":\"Selection\"}],\"root_ids\":[\"18979\"]},\"title\":\"Bokeh Application\",\"version\":\"1.3.4\"}};\n",
       "  var render_items = [{\"docid\":\"d9846c1e-0d1e-4699-9aeb-2db3cac6a325\",\"roots\":{\"18979\":\"e6bda75c-299a-46cd-b496-62da5dedc563\"}}];\n",
       "  root.Bokeh.embed.embed_items_notebook(docs_json, render_items);\n",
       "\n",
       "  }\n",
       "  if (root.Bokeh !== undefined) {\n",
       "    embed_document(root);\n",
       "  } else {\n",
       "    var attempts = 0;\n",
       "    var timer = setInterval(function(root) {\n",
       "      if (root.Bokeh !== undefined) {\n",
       "        embed_document(root);\n",
       "        clearInterval(timer);\n",
       "      }\n",
       "      attempts++;\n",
       "      if (attempts > 100) {\n",
       "        console.log(\"Bokeh: ERROR: Unable to run BokehJS code because BokehJS library is missing\");\n",
       "        clearInterval(timer);\n",
       "      }\n",
       "    }, 10, root)\n",
       "  }\n",
       "})(window);"
      ],
      "application/vnd.bokehjs_exec.v0+json": ""
     },
     "metadata": {
      "application/vnd.bokehjs_exec.v0+json": {
       "id": "18979"
      }
     },
     "output_type": "display_data"
    }
   ],
   "source": [
    "# Age dependency ratio (% of working-age population)\n",
    "years = list(map(str, list(range(2000,2018))))\n",
    "result = show_weighted_average(years, 'SP.POP.DPND', 'SP.POP.1564.TO', \n",
    "                               ['LDCs', 'Developing excluding LDCs', 'OECD'], \n",
    "                                height=400, width=1000, line_width=4)"
   ]
  },
  {
   "cell_type": "code",
   "execution_count": 44,
   "metadata": {
    "ExecuteTime": {
     "end_time": "2019-10-25T14:26:17.747160Z",
     "start_time": "2019-10-25T14:26:12.861357Z"
    },
    "slideshow": {
     "slide_type": "slide"
    }
   },
   "outputs": [
    {
     "data": {
      "text/html": [
       "\n",
       "\n",
       "\n",
       "\n",
       "\n",
       "\n",
       "  <div class=\"bk-root\" id=\"0c815778-e8cf-4975-89bd-22c5597ccf56\" data-root-id=\"19790\"></div>\n"
      ]
     },
     "metadata": {},
     "output_type": "display_data"
    },
    {
     "data": {
      "application/javascript": [
       "(function(root) {\n",
       "  function embed_document(root) {\n",
       "    \n",
       "  var docs_json = {\"71ede9c8-077e-422c-9e1e-2f28b71249ab\":{\"roots\":{\"references\":[{\"attributes\":{\"below\":[{\"id\":\"19801\",\"type\":\"LinearAxis\"}],\"center\":[{\"id\":\"19805\",\"type\":\"Grid\"},{\"id\":\"19810\",\"type\":\"Grid\"},{\"id\":\"19835\",\"type\":\"Legend\"}],\"left\":[{\"id\":\"19806\",\"type\":\"LinearAxis\"}],\"plot_height\":400,\"plot_width\":1000,\"renderers\":[{\"id\":\"19827\",\"type\":\"GlyphRenderer\"},{\"id\":\"19840\",\"type\":\"GlyphRenderer\"},{\"id\":\"19845\",\"type\":\"GlyphRenderer\"},{\"id\":\"19861\",\"type\":\"GlyphRenderer\"},{\"id\":\"19866\",\"type\":\"GlyphRenderer\"},{\"id\":\"19886\",\"type\":\"GlyphRenderer\"}],\"title\":{\"id\":\"19791\",\"type\":\"Title\"},\"toolbar\":{\"id\":\"19817\",\"type\":\"Toolbar\"},\"x_range\":{\"id\":\"19793\",\"type\":\"DataRange1d\"},\"x_scale\":{\"id\":\"19797\",\"type\":\"LinearScale\"},\"y_range\":{\"id\":\"19795\",\"type\":\"DataRange1d\"},\"y_scale\":{\"id\":\"19799\",\"type\":\"LinearScale\"}},\"id\":\"19790\",\"subtype\":\"Figure\",\"type\":\"Plot\"},{\"attributes\":{},\"id\":\"19855\",\"type\":\"Selection\"},{\"attributes\":{},\"id\":\"19879\",\"type\":\"UnionRenderers\"},{\"attributes\":{\"source\":{\"id\":\"19837\",\"type\":\"ColumnDataSource\"}},\"id\":\"19841\",\"type\":\"CDSView\"},{\"attributes\":{},\"id\":\"19802\",\"type\":\"BasicTicker\"},{\"attributes\":{\"label\":{\"value\":\"Developing excluding LDCs\"},\"renderers\":[{\"id\":\"19845\",\"type\":\"GlyphRenderer\"}]},\"id\":\"19857\",\"type\":\"LegendItem\"},{\"attributes\":{},\"id\":\"19880\",\"type\":\"Selection\"},{\"attributes\":{\"grid_line_color\":null,\"ticker\":{\"id\":\"19802\",\"type\":\"BasicTicker\"}},\"id\":\"19805\",\"type\":\"Grid\"},{\"attributes\":{\"axis_label\":\"SL.EMP.TOTL.SP.ZS\",\"formatter\":{\"id\":\"19830\",\"type\":\"BasicTickFormatter\"},\"ticker\":{\"id\":\"19807\",\"type\":\"BasicTicker\"}},\"id\":\"19806\",\"type\":\"LinearAxis\"},{\"attributes\":{\"callback\":null,\"data\":{\"x\":[\"2000\",\"2001\",\"2002\",\"2003\",\"2004\",\"2005\",\"2006\",\"2007\",\"2008\",\"2009\",\"2010\",\"2011\",\"2012\",\"2013\",\"2014\",\"2015\",\"2016\",\"2017\"],\"y\":[62.02243357574345,61.64016680037185,61.1618940952195,60.78637558710965,60.735995768634645,60.53607853298226,60.269713445332776,60.075721745799676,59.750477553036504,59.25835137121876,58.96155327114154,58.71265955540014,58.47689078553427,58.318144479363795,58.199985004749834,58.00138011342064,57.745664542750994,57.66029265801793]},\"selected\":{\"id\":\"19878\",\"type\":\"Selection\"},\"selection_policy\":{\"id\":\"19877\",\"type\":\"UnionRenderers\"}},\"id\":\"19842\",\"type\":\"ColumnDataSource\"},{\"attributes\":{\"callback\":null,\"data\":{\"x\":[\"2000\",\"2001\",\"2002\",\"2003\",\"2004\",\"2005\",\"2006\",\"2007\",\"2008\",\"2009\",\"2010\",\"2011\",\"2012\",\"2013\",\"2014\",\"2015\",\"2016\",\"2017\"],\"y\":[62.02243357574345,61.64016680037185,61.1618940952195,60.78637558710965,60.735995768634645,60.53607853298226,60.269713445332776,60.075721745799676,59.750477553036504,59.25835137121876,58.96155327114154,58.71265955540014,58.47689078553427,58.318144479363795,58.199985004749834,58.00138011342064,57.745664542750994,57.66029265801793]},\"selected\":{\"id\":\"19880\",\"type\":\"Selection\"},\"selection_policy\":{\"id\":\"19879\",\"type\":\"UnionRenderers\"}},\"id\":\"19858\",\"type\":\"ColumnDataSource\"},{\"attributes\":{\"label\":{\"value\":\"OECD\"},\"renderers\":[{\"id\":\"19866\",\"type\":\"GlyphRenderer\"}]},\"id\":\"19882\",\"type\":\"LegendItem\"},{\"attributes\":{},\"id\":\"19807\",\"type\":\"BasicTicker\"},{\"attributes\":{\"line_color\":\"#5430F1\",\"line_width\":3,\"x\":{\"field\":\"x\"},\"y\":{\"field\":\"y\"}},\"id\":\"19843\",\"type\":\"Line\"},{\"attributes\":{\"fill_color\":{\"value\":\"#5430F1\"},\"line_color\":{\"value\":\"#5430F1\"},\"size\":{\"units\":\"screen\",\"value\":1},\"x\":{\"field\":\"x\"},\"y\":{\"field\":\"y\"}},\"id\":\"19859\",\"type\":\"Circle\"},{\"attributes\":{\"dimension\":1,\"grid_line_alpha\":0.5,\"ticker\":{\"id\":\"19807\",\"type\":\"BasicTicker\"}},\"id\":\"19810\",\"type\":\"Grid\"},{\"attributes\":{\"callback\":null,\"data\":{\"x\":[\"2000\",\"2001\",\"2002\",\"2003\",\"2004\",\"2005\",\"2006\",\"2007\",\"2008\",\"2009\",\"2010\",\"2011\",\"2012\",\"2013\",\"2014\",\"2015\",\"2016\",\"2017\"],\"y\":[56.40865141951019,56.15551087542925,55.78176951023597,55.5296417520831,55.589161503213,55.967412284918765,56.41051699770243,56.73108736593439,56.62697234239764,55.124996476006956,54.84009591169655,54.959388942012374,55.0534575823381,55.05901270441525,55.304467418720705,55.67918767759019,56.10556899868917,56.579633263980924]},\"selected\":{\"id\":\"20509\",\"type\":\"Selection\"},\"selection_policy\":{\"id\":\"20508\",\"type\":\"UnionRenderers\"}},\"id\":\"19883\",\"type\":\"ColumnDataSource\"},{\"attributes\":{\"fill_color\":{\"value\":\"#2CC775\"},\"line_color\":{\"value\":\"#2CC775\"},\"size\":{\"units\":\"screen\",\"value\":1},\"x\":{\"field\":\"x\"},\"y\":{\"field\":\"y\"}},\"id\":\"19884\",\"type\":\"Circle\"},{\"attributes\":{\"callback\":null,\"data\":{\"x\":[\"2000\",\"2001\",\"2002\",\"2003\",\"2004\",\"2005\",\"2006\",\"2007\",\"2008\",\"2009\",\"2010\",\"2011\",\"2012\",\"2013\",\"2014\",\"2015\",\"2016\",\"2017\"],\"y\":[56.40865141951019,56.15551087542925,55.78176951023597,55.5296417520831,55.589161503213,55.967412284918765,56.41051699770243,56.73108736593439,56.62697234239764,55.124996476006956,54.84009591169655,54.959388942012374,55.0534575823381,55.05901270441525,55.304467418720705,55.67918767759019,56.10556899868917,56.579633263980924]},\"selected\":{\"id\":\"20507\",\"type\":\"Selection\"},\"selection_policy\":{\"id\":\"20506\",\"type\":\"UnionRenderers\"}},\"id\":\"19863\",\"type\":\"ColumnDataSource\"},{\"attributes\":{\"line_color\":\"#FA1857\",\"line_width\":3,\"x\":{\"field\":\"x\"},\"y\":{\"field\":\"y\"}},\"id\":\"19825\",\"type\":\"Line\"},{\"attributes\":{\"line_alpha\":0.1,\"line_color\":\"#1f77b4\",\"line_width\":3,\"x\":{\"field\":\"x\"},\"y\":{\"field\":\"y\"}},\"id\":\"19844\",\"type\":\"Line\"},{\"attributes\":{\"fill_alpha\":{\"value\":0.1},\"fill_color\":{\"value\":\"#1f77b4\"},\"line_alpha\":{\"value\":0.1},\"line_color\":{\"value\":\"#1f77b4\"},\"size\":{\"units\":\"screen\",\"value\":1},\"x\":{\"field\":\"x\"},\"y\":{\"field\":\"y\"}},\"id\":\"19885\",\"type\":\"Circle\"},{\"attributes\":{},\"id\":\"19830\",\"type\":\"BasicTickFormatter\"},{\"attributes\":{\"callback\":null,\"data\":{\"x\":[\"2000\",\"2001\",\"2002\",\"2003\",\"2004\",\"2005\",\"2006\",\"2007\",\"2008\",\"2009\",\"2010\",\"2011\",\"2012\",\"2013\",\"2014\",\"2015\",\"2016\",\"2017\"],\"y\":[65.83301652521625,65.8684425528842,65.73427571808543,65.64919764713692,65.66603925352581,65.747247617559,65.82733188121632,65.79867099451198,65.67749694606924,65.23243344174506,65.14313911051282,65.0042687463501,64.80493437351076,64.6705264038209,64.61325967142318,64.54779771445858,64.48134681180402,64.84243717269096]},\"selected\":{\"id\":\"19853\",\"type\":\"Selection\"},\"selection_policy\":{\"id\":\"19852\",\"type\":\"UnionRenderers\"}},\"id\":\"19824\",\"type\":\"ColumnDataSource\"},{\"attributes\":{\"data_source\":{\"id\":\"19883\",\"type\":\"ColumnDataSource\"},\"glyph\":{\"id\":\"19884\",\"type\":\"Circle\"},\"hover_glyph\":null,\"muted_glyph\":null,\"nonselection_glyph\":{\"id\":\"19885\",\"type\":\"Circle\"},\"selection_glyph\":null,\"view\":{\"id\":\"19887\",\"type\":\"CDSView\"}},\"id\":\"19886\",\"type\":\"GlyphRenderer\"},{\"attributes\":{\"data_source\":{\"id\":\"19842\",\"type\":\"ColumnDataSource\"},\"glyph\":{\"id\":\"19843\",\"type\":\"Line\"},\"hover_glyph\":null,\"muted_glyph\":null,\"nonselection_glyph\":{\"id\":\"19844\",\"type\":\"Line\"},\"selection_glyph\":null,\"view\":{\"id\":\"19846\",\"type\":\"CDSView\"}},\"id\":\"19845\",\"type\":\"GlyphRenderer\"},{\"attributes\":{},\"id\":\"19832\",\"type\":\"BasicTickFormatter\"},{\"attributes\":{\"line_alpha\":0.1,\"line_color\":\"#1f77b4\",\"line_width\":3,\"x\":{\"field\":\"x\"},\"y\":{\"field\":\"y\"}},\"id\":\"19826\",\"type\":\"Line\"},{\"attributes\":{\"source\":{\"id\":\"19883\",\"type\":\"ColumnDataSource\"}},\"id\":\"19887\",\"type\":\"CDSView\"},{\"attributes\":{\"callback\":null,\"tooltips\":\"                \\n        <div style=padding=5px>Year:@x</div>\\n        <div style=padding=5px>Value:@y</div>        \\n        \"},\"id\":\"19888\",\"type\":\"HoverTool\"},{\"attributes\":{\"source\":{\"id\":\"19842\",\"type\":\"ColumnDataSource\"}},\"id\":\"19846\",\"type\":\"CDSView\"},{\"attributes\":{\"bottom_units\":\"screen\",\"fill_alpha\":{\"value\":0.5},\"fill_color\":{\"value\":\"lightgrey\"},\"left_units\":\"screen\",\"level\":\"overlay\",\"line_alpha\":{\"value\":1.0},\"line_color\":{\"value\":\"black\"},\"line_dash\":[4,4],\"line_width\":{\"value\":2},\"render_mode\":\"css\",\"right_units\":\"screen\",\"top_units\":\"screen\"},\"id\":\"19834\",\"type\":\"BoxAnnotation\"},{\"attributes\":{\"line_alpha\":0.1,\"line_color\":\"#1f77b4\",\"line_width\":3,\"x\":{\"field\":\"x\"},\"y\":{\"field\":\"y\"}},\"id\":\"19865\",\"type\":\"Line\"},{\"attributes\":{},\"id\":\"19811\",\"type\":\"PanTool\"},{\"attributes\":{},\"id\":\"20506\",\"type\":\"UnionRenderers\"},{\"attributes\":{},\"id\":\"19812\",\"type\":\"WheelZoomTool\"},{\"attributes\":{},\"id\":\"19852\",\"type\":\"UnionRenderers\"},{\"attributes\":{\"items\":[{\"id\":\"19836\",\"type\":\"LegendItem\"},{\"id\":\"19857\",\"type\":\"LegendItem\"},{\"id\":\"19882\",\"type\":\"LegendItem\"}],\"location\":\"bottom_left\"},\"id\":\"19835\",\"type\":\"Legend\"},{\"attributes\":{},\"id\":\"20507\",\"type\":\"Selection\"},{\"attributes\":{\"data_source\":{\"id\":\"19863\",\"type\":\"ColumnDataSource\"},\"glyph\":{\"id\":\"19864\",\"type\":\"Line\"},\"hover_glyph\":null,\"muted_glyph\":null,\"nonselection_glyph\":{\"id\":\"19865\",\"type\":\"Line\"},\"selection_glyph\":null,\"view\":{\"id\":\"19867\",\"type\":\"CDSView\"}},\"id\":\"19866\",\"type\":\"GlyphRenderer\"},{\"attributes\":{\"overlay\":{\"id\":\"19834\",\"type\":\"BoxAnnotation\"}},\"id\":\"19813\",\"type\":\"BoxZoomTool\"},{\"attributes\":{},\"id\":\"19853\",\"type\":\"Selection\"},{\"attributes\":{\"label\":{\"value\":\"LDCs\"},\"renderers\":[{\"id\":\"19827\",\"type\":\"GlyphRenderer\"}]},\"id\":\"19836\",\"type\":\"LegendItem\"},{\"attributes\":{},\"id\":\"20508\",\"type\":\"UnionRenderers\"},{\"attributes\":{},\"id\":\"19814\",\"type\":\"SaveTool\"},{\"attributes\":{},\"id\":\"20509\",\"type\":\"Selection\"},{\"attributes\":{\"source\":{\"id\":\"19863\",\"type\":\"ColumnDataSource\"}},\"id\":\"19867\",\"type\":\"CDSView\"},{\"attributes\":{},\"id\":\"19815\",\"type\":\"ResetTool\"},{\"attributes\":{\"text\":\"Employment to population ratio, 15+, total (%) (modeled ILO estimate) weighted against Population, total\"},\"id\":\"19791\",\"type\":\"Title\"},{\"attributes\":{\"callback\":null,\"data\":{\"x\":[\"2000\",\"2001\",\"2002\",\"2003\",\"2004\",\"2005\",\"2006\",\"2007\",\"2008\",\"2009\",\"2010\",\"2011\",\"2012\",\"2013\",\"2014\",\"2015\",\"2016\",\"2017\"],\"y\":[65.83301652521625,65.8684425528842,65.73427571808543,65.64919764713692,65.66603925352581,65.747247617559,65.82733188121632,65.79867099451198,65.67749694606924,65.23243344174506,65.14313911051282,65.0042687463501,64.80493437351076,64.6705264038209,64.61325967142318,64.54779771445858,64.48134681180402,64.84243717269096]},\"selected\":{\"id\":\"19855\",\"type\":\"Selection\"},\"selection_policy\":{\"id\":\"19854\",\"type\":\"UnionRenderers\"}},\"id\":\"19837\",\"type\":\"ColumnDataSource\"},{\"attributes\":{},\"id\":\"19854\",\"type\":\"UnionRenderers\"},{\"attributes\":{\"data_source\":{\"id\":\"19858\",\"type\":\"ColumnDataSource\"},\"glyph\":{\"id\":\"19859\",\"type\":\"Circle\"},\"hover_glyph\":null,\"muted_glyph\":null,\"nonselection_glyph\":{\"id\":\"19860\",\"type\":\"Circle\"},\"selection_glyph\":null,\"view\":{\"id\":\"19862\",\"type\":\"CDSView\"}},\"id\":\"19861\",\"type\":\"GlyphRenderer\"},{\"attributes\":{},\"id\":\"19816\",\"type\":\"HelpTool\"},{\"attributes\":{\"callback\":null},\"id\":\"19793\",\"type\":\"DataRange1d\"},{\"attributes\":{\"fill_color\":{\"value\":\"#FA1857\"},\"line_color\":{\"value\":\"#FA1857\"},\"size\":{\"units\":\"screen\",\"value\":1},\"x\":{\"field\":\"x\"},\"y\":{\"field\":\"y\"}},\"id\":\"19838\",\"type\":\"Circle\"},{\"attributes\":{\"active_drag\":\"auto\",\"active_inspect\":\"auto\",\"active_multi\":null,\"active_scroll\":\"auto\",\"active_tap\":\"auto\",\"tools\":[{\"id\":\"19811\",\"type\":\"PanTool\"},{\"id\":\"19812\",\"type\":\"WheelZoomTool\"},{\"id\":\"19813\",\"type\":\"BoxZoomTool\"},{\"id\":\"19814\",\"type\":\"SaveTool\"},{\"id\":\"19815\",\"type\":\"ResetTool\"},{\"id\":\"19816\",\"type\":\"HelpTool\"},{\"id\":\"19888\",\"type\":\"HoverTool\"}]},\"id\":\"19817\",\"type\":\"Toolbar\"},{\"attributes\":{\"fill_alpha\":{\"value\":0.1},\"fill_color\":{\"value\":\"#1f77b4\"},\"line_alpha\":{\"value\":0.1},\"line_color\":{\"value\":\"#1f77b4\"},\"size\":{\"units\":\"screen\",\"value\":1},\"x\":{\"field\":\"x\"},\"y\":{\"field\":\"y\"}},\"id\":\"19860\",\"type\":\"Circle\"},{\"attributes\":{\"callback\":null},\"id\":\"19795\",\"type\":\"DataRange1d\"},{\"attributes\":{\"data_source\":{\"id\":\"19824\",\"type\":\"ColumnDataSource\"},\"glyph\":{\"id\":\"19825\",\"type\":\"Line\"},\"hover_glyph\":null,\"muted_glyph\":null,\"nonselection_glyph\":{\"id\":\"19826\",\"type\":\"Line\"},\"selection_glyph\":null,\"view\":{\"id\":\"19828\",\"type\":\"CDSView\"}},\"id\":\"19827\",\"type\":\"GlyphRenderer\"},{\"attributes\":{},\"id\":\"19877\",\"type\":\"UnionRenderers\"},{\"attributes\":{\"source\":{\"id\":\"19858\",\"type\":\"ColumnDataSource\"}},\"id\":\"19862\",\"type\":\"CDSView\"},{\"attributes\":{},\"id\":\"19797\",\"type\":\"LinearScale\"},{\"attributes\":{\"fill_alpha\":{\"value\":0.1},\"fill_color\":{\"value\":\"#1f77b4\"},\"line_alpha\":{\"value\":0.1},\"line_color\":{\"value\":\"#1f77b4\"},\"size\":{\"units\":\"screen\",\"value\":1},\"x\":{\"field\":\"x\"},\"y\":{\"field\":\"y\"}},\"id\":\"19839\",\"type\":\"Circle\"},{\"attributes\":{\"line_color\":\"#2CC775\",\"line_width\":3,\"x\":{\"field\":\"x\"},\"y\":{\"field\":\"y\"}},\"id\":\"19864\",\"type\":\"Line\"},{\"attributes\":{},\"id\":\"19799\",\"type\":\"LinearScale\"},{\"attributes\":{},\"id\":\"19878\",\"type\":\"Selection\"},{\"attributes\":{\"data_source\":{\"id\":\"19837\",\"type\":\"ColumnDataSource\"},\"glyph\":{\"id\":\"19838\",\"type\":\"Circle\"},\"hover_glyph\":null,\"muted_glyph\":null,\"nonselection_glyph\":{\"id\":\"19839\",\"type\":\"Circle\"},\"selection_glyph\":null,\"view\":{\"id\":\"19841\",\"type\":\"CDSView\"}},\"id\":\"19840\",\"type\":\"GlyphRenderer\"},{\"attributes\":{\"source\":{\"id\":\"19824\",\"type\":\"ColumnDataSource\"}},\"id\":\"19828\",\"type\":\"CDSView\"},{\"attributes\":{\"axis_label\":\"Years\",\"formatter\":{\"id\":\"19832\",\"type\":\"BasicTickFormatter\"},\"ticker\":{\"id\":\"19802\",\"type\":\"BasicTicker\"}},\"id\":\"19801\",\"type\":\"LinearAxis\"}],\"root_ids\":[\"19790\"]},\"title\":\"Bokeh Application\",\"version\":\"1.3.4\"}};\n",
       "  var render_items = [{\"docid\":\"71ede9c8-077e-422c-9e1e-2f28b71249ab\",\"roots\":{\"19790\":\"0c815778-e8cf-4975-89bd-22c5597ccf56\"}}];\n",
       "  root.Bokeh.embed.embed_items_notebook(docs_json, render_items);\n",
       "\n",
       "  }\n",
       "  if (root.Bokeh !== undefined) {\n",
       "    embed_document(root);\n",
       "  } else {\n",
       "    var attempts = 0;\n",
       "    var timer = setInterval(function(root) {\n",
       "      if (root.Bokeh !== undefined) {\n",
       "        embed_document(root);\n",
       "        clearInterval(timer);\n",
       "      }\n",
       "      attempts++;\n",
       "      if (attempts > 100) {\n",
       "        console.log(\"Bokeh: ERROR: Unable to run BokehJS code because BokehJS library is missing\");\n",
       "        clearInterval(timer);\n",
       "      }\n",
       "    }, 10, root)\n",
       "  }\n",
       "})(window);"
      ],
      "application/vnd.bokehjs_exec.v0+json": ""
     },
     "metadata": {
      "application/vnd.bokehjs_exec.v0+json": {
       "id": "19790"
      }
     },
     "output_type": "display_data"
    }
   ],
   "source": [
    "#Employment to population ratio, 15+, total (%) (modeled ILO estimate)\n",
    "# Age dependency ratio (% of working-age population)\n",
    "years = list(map(str, list(range(2000,2018))))\n",
    "result = show_weighted_average(years, 'SL.EMP.TOTL.SP.ZS', 'SP.POP.TOTL', \n",
    "                               ['LDCs', 'Developing excluding LDCs', 'OECD'], \n",
    "                                height=400, width=1000, line_width=3)"
   ]
  },
  {
   "cell_type": "markdown",
   "metadata": {
    "slideshow": {
     "slide_type": "slide"
    }
   },
   "source": [
    "# Some very general ideas"
   ]
  },
  {
   "cell_type": "markdown",
   "metadata": {
    "slideshow": {
     "slide_type": "slide"
    }
   },
   "source": [
    "# The world is becoming increasingly unequal"
   ]
  },
  {
   "cell_type": "markdown",
   "metadata": {
    "slideshow": {
     "slide_type": "slide"
    }
   },
   "source": [
    "# Great progress in certain areas, still an awful lot to do"
   ]
  },
  {
   "cell_type": "markdown",
   "metadata": {
    "slideshow": {
     "slide_type": "slide"
    }
   },
   "source": [
    "# Sustainable development in the LDCs won't happen without addressing gender inequalities"
   ]
  },
  {
   "cell_type": "markdown",
   "metadata": {
    "slideshow": {
     "slide_type": "slide"
    }
   },
   "source": [
    "# The SDGs and other internationally agreed development goals won't happen without accelerated progress in the LDCs."
   ]
  },
  {
   "cell_type": "markdown",
   "metadata": {
    "slideshow": {
     "slide_type": "slide"
    }
   },
   "source": [
    "# Many thanks\n",
    "\n",
    "Let's stay in touch\n",
    "\n",
    "Tomás González\n",
    "gonzalezt@un.org\n"
   ]
  }
 ],
 "metadata": {
  "celltoolbar": "Slideshow",
  "kernelspec": {
   "display_name": "Python 3",
   "language": "python",
   "name": "python3"
  },
  "language_info": {
   "codemirror_mode": {
    "name": "ipython",
    "version": 3
   },
   "file_extension": ".py",
   "mimetype": "text/x-python",
   "name": "python",
   "nbconvert_exporter": "python",
   "pygments_lexer": "ipython3",
   "version": "3.7.0"
  },
  "toc": {
   "base_numbering": 1,
   "nav_menu": {},
   "number_sections": true,
   "sideBar": true,
   "skip_h1_title": false,
   "title_cell": "Table of Contents",
   "title_sidebar": "Contents",
   "toc_cell": false,
   "toc_position": {},
   "toc_section_display": true,
   "toc_window_display": false
  }
 },
 "nbformat": 4,
 "nbformat_minor": 2
}
