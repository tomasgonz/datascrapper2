{
 "cells": [
  {
   "cell_type": "code",
   "execution_count": 2,
   "metadata": {
    "ExecuteTime": {
     "end_time": "2019-10-25T14:23:46.481587Z",
     "start_time": "2019-10-25T14:23:45.039173Z"
    },
    "slideshow": {
     "slide_type": "skip"
    }
   },
   "outputs": [
    {
     "data": {
      "text/html": [
       "\n",
       "    <div class=\"bk-root\">\n",
       "        <a href=\"https://bokeh.org\" target=\"_blank\" class=\"bk-logo bk-logo-small bk-logo-notebook\"></a>\n",
       "        <span id=\"1002\">Loading BokehJS ...</span>\n",
       "    </div>"
      ]
     },
     "metadata": {},
     "output_type": "display_data"
    },
    {
     "data": {
      "application/javascript": [
       "\n",
       "(function(root) {\n",
       "  function now() {\n",
       "    return new Date();\n",
       "  }\n",
       "\n",
       "  var force = true;\n",
       "\n",
       "  if (typeof root._bokeh_onload_callbacks === \"undefined\" || force === true) {\n",
       "    root._bokeh_onload_callbacks = [];\n",
       "    root._bokeh_is_loading = undefined;\n",
       "  }\n",
       "\n",
       "  var JS_MIME_TYPE = 'application/javascript';\n",
       "  var HTML_MIME_TYPE = 'text/html';\n",
       "  var EXEC_MIME_TYPE = 'application/vnd.bokehjs_exec.v0+json';\n",
       "  var CLASS_NAME = 'output_bokeh rendered_html';\n",
       "\n",
       "  /**\n",
       "   * Render data to the DOM node\n",
       "   */\n",
       "  function render(props, node) {\n",
       "    var script = document.createElement(\"script\");\n",
       "    node.appendChild(script);\n",
       "  }\n",
       "\n",
       "  /**\n",
       "   * Handle when an output is cleared or removed\n",
       "   */\n",
       "  function handleClearOutput(event, handle) {\n",
       "    var cell = handle.cell;\n",
       "\n",
       "    var id = cell.output_area._bokeh_element_id;\n",
       "    var server_id = cell.output_area._bokeh_server_id;\n",
       "    // Clean up Bokeh references\n",
       "    if (id != null && id in Bokeh.index) {\n",
       "      Bokeh.index[id].model.document.clear();\n",
       "      delete Bokeh.index[id];\n",
       "    }\n",
       "\n",
       "    if (server_id !== undefined) {\n",
       "      // Clean up Bokeh references\n",
       "      var cmd = \"from bokeh.io.state import curstate; print(curstate().uuid_to_server['\" + server_id + \"'].get_sessions()[0].document.roots[0]._id)\";\n",
       "      cell.notebook.kernel.execute(cmd, {\n",
       "        iopub: {\n",
       "          output: function(msg) {\n",
       "            var id = msg.content.text.trim();\n",
       "            if (id in Bokeh.index) {\n",
       "              Bokeh.index[id].model.document.clear();\n",
       "              delete Bokeh.index[id];\n",
       "            }\n",
       "          }\n",
       "        }\n",
       "      });\n",
       "      // Destroy server and session\n",
       "      var cmd = \"import bokeh.io.notebook as ion; ion.destroy_server('\" + server_id + \"')\";\n",
       "      cell.notebook.kernel.execute(cmd);\n",
       "    }\n",
       "  }\n",
       "\n",
       "  /**\n",
       "   * Handle when a new output is added\n",
       "   */\n",
       "  function handleAddOutput(event, handle) {\n",
       "    var output_area = handle.output_area;\n",
       "    var output = handle.output;\n",
       "\n",
       "    // limit handleAddOutput to display_data with EXEC_MIME_TYPE content only\n",
       "    if ((output.output_type != \"display_data\") || (!output.data.hasOwnProperty(EXEC_MIME_TYPE))) {\n",
       "      return\n",
       "    }\n",
       "\n",
       "    var toinsert = output_area.element.find(\".\" + CLASS_NAME.split(' ')[0]);\n",
       "\n",
       "    if (output.metadata[EXEC_MIME_TYPE][\"id\"] !== undefined) {\n",
       "      toinsert[toinsert.length - 1].firstChild.textContent = output.data[JS_MIME_TYPE];\n",
       "      // store reference to embed id on output_area\n",
       "      output_area._bokeh_element_id = output.metadata[EXEC_MIME_TYPE][\"id\"];\n",
       "    }\n",
       "    if (output.metadata[EXEC_MIME_TYPE][\"server_id\"] !== undefined) {\n",
       "      var bk_div = document.createElement(\"div\");\n",
       "      bk_div.innerHTML = output.data[HTML_MIME_TYPE];\n",
       "      var script_attrs = bk_div.children[0].attributes;\n",
       "      for (var i = 0; i < script_attrs.length; i++) {\n",
       "        toinsert[toinsert.length - 1].firstChild.setAttribute(script_attrs[i].name, script_attrs[i].value);\n",
       "      }\n",
       "      // store reference to server id on output_area\n",
       "      output_area._bokeh_server_id = output.metadata[EXEC_MIME_TYPE][\"server_id\"];\n",
       "    }\n",
       "  }\n",
       "\n",
       "  function register_renderer(events, OutputArea) {\n",
       "\n",
       "    function append_mime(data, metadata, element) {\n",
       "      // create a DOM node to render to\n",
       "      var toinsert = this.create_output_subarea(\n",
       "        metadata,\n",
       "        CLASS_NAME,\n",
       "        EXEC_MIME_TYPE\n",
       "      );\n",
       "      this.keyboard_manager.register_events(toinsert);\n",
       "      // Render to node\n",
       "      var props = {data: data, metadata: metadata[EXEC_MIME_TYPE]};\n",
       "      render(props, toinsert[toinsert.length - 1]);\n",
       "      element.append(toinsert);\n",
       "      return toinsert\n",
       "    }\n",
       "\n",
       "    /* Handle when an output is cleared or removed */\n",
       "    events.on('clear_output.CodeCell', handleClearOutput);\n",
       "    events.on('delete.Cell', handleClearOutput);\n",
       "\n",
       "    /* Handle when a new output is added */\n",
       "    events.on('output_added.OutputArea', handleAddOutput);\n",
       "\n",
       "    /**\n",
       "     * Register the mime type and append_mime function with output_area\n",
       "     */\n",
       "    OutputArea.prototype.register_mime_type(EXEC_MIME_TYPE, append_mime, {\n",
       "      /* Is output safe? */\n",
       "      safe: true,\n",
       "      /* Index of renderer in `output_area.display_order` */\n",
       "      index: 0\n",
       "    });\n",
       "  }\n",
       "\n",
       "  // register the mime type if in Jupyter Notebook environment and previously unregistered\n",
       "  if (root.Jupyter !== undefined) {\n",
       "    var events = require('base/js/events');\n",
       "    var OutputArea = require('notebook/js/outputarea').OutputArea;\n",
       "\n",
       "    if (OutputArea.prototype.mime_types().indexOf(EXEC_MIME_TYPE) == -1) {\n",
       "      register_renderer(events, OutputArea);\n",
       "    }\n",
       "  }\n",
       "\n",
       "  \n",
       "  if (typeof (root._bokeh_timeout) === \"undefined\" || force === true) {\n",
       "    root._bokeh_timeout = Date.now() + 5000;\n",
       "    root._bokeh_failed_load = false;\n",
       "  }\n",
       "\n",
       "  var NB_LOAD_WARNING = {'data': {'text/html':\n",
       "     \"<div style='background-color: #fdd'>\\n\"+\n",
       "     \"<p>\\n\"+\n",
       "     \"BokehJS does not appear to have successfully loaded. If loading BokehJS from CDN, this \\n\"+\n",
       "     \"may be due to a slow or bad network connection. Possible fixes:\\n\"+\n",
       "     \"</p>\\n\"+\n",
       "     \"<ul>\\n\"+\n",
       "     \"<li>re-rerun `output_notebook()` to attempt to load from CDN again, or</li>\\n\"+\n",
       "     \"<li>use INLINE resources instead, as so:</li>\\n\"+\n",
       "     \"</ul>\\n\"+\n",
       "     \"<code>\\n\"+\n",
       "     \"from bokeh.resources import INLINE\\n\"+\n",
       "     \"output_notebook(resources=INLINE)\\n\"+\n",
       "     \"</code>\\n\"+\n",
       "     \"</div>\"}};\n",
       "\n",
       "  function display_loaded() {\n",
       "    var el = document.getElementById(\"1002\");\n",
       "    if (el != null) {\n",
       "      el.textContent = \"BokehJS is loading...\";\n",
       "    }\n",
       "    if (root.Bokeh !== undefined) {\n",
       "      if (el != null) {\n",
       "        el.textContent = \"BokehJS \" + root.Bokeh.version + \" successfully loaded.\";\n",
       "      }\n",
       "    } else if (Date.now() < root._bokeh_timeout) {\n",
       "      setTimeout(display_loaded, 100)\n",
       "    }\n",
       "  }\n",
       "\n",
       "\n",
       "  function run_callbacks() {\n",
       "    try {\n",
       "      root._bokeh_onload_callbacks.forEach(function(callback) {\n",
       "        if (callback != null)\n",
       "          callback();\n",
       "      });\n",
       "    } finally {\n",
       "      delete root._bokeh_onload_callbacks\n",
       "    }\n",
       "    console.debug(\"Bokeh: all callbacks have finished\");\n",
       "  }\n",
       "\n",
       "  function load_libs(css_urls, js_urls, callback) {\n",
       "    if (css_urls == null) css_urls = [];\n",
       "    if (js_urls == null) js_urls = [];\n",
       "\n",
       "    root._bokeh_onload_callbacks.push(callback);\n",
       "    if (root._bokeh_is_loading > 0) {\n",
       "      console.debug(\"Bokeh: BokehJS is being loaded, scheduling callback at\", now());\n",
       "      return null;\n",
       "    }\n",
       "    if (js_urls == null || js_urls.length === 0) {\n",
       "      run_callbacks();\n",
       "      return null;\n",
       "    }\n",
       "    console.debug(\"Bokeh: BokehJS not loaded, scheduling load and callback at\", now());\n",
       "    root._bokeh_is_loading = css_urls.length + js_urls.length;\n",
       "\n",
       "    function on_load() {\n",
       "      root._bokeh_is_loading--;\n",
       "      if (root._bokeh_is_loading === 0) {\n",
       "        console.debug(\"Bokeh: all BokehJS libraries/stylesheets loaded\");\n",
       "        run_callbacks()\n",
       "      }\n",
       "    }\n",
       "\n",
       "    function on_error() {\n",
       "      console.error(\"failed to load \" + url);\n",
       "    }\n",
       "\n",
       "    for (var i = 0; i < css_urls.length; i++) {\n",
       "      var url = css_urls[i];\n",
       "      const element = document.createElement(\"link\");\n",
       "      element.onload = on_load;\n",
       "      element.onerror = on_error;\n",
       "      element.rel = \"stylesheet\";\n",
       "      element.type = \"text/css\";\n",
       "      element.href = url;\n",
       "      console.debug(\"Bokeh: injecting link tag for BokehJS stylesheet: \", url);\n",
       "      document.body.appendChild(element);\n",
       "    }\n",
       "\n",
       "    for (var i = 0; i < js_urls.length; i++) {\n",
       "      var url = js_urls[i];\n",
       "      var element = document.createElement('script');\n",
       "      element.onload = on_load;\n",
       "      element.onerror = on_error;\n",
       "      element.async = false;\n",
       "      element.src = url;\n",
       "      console.debug(\"Bokeh: injecting script tag for BokehJS library: \", url);\n",
       "      document.head.appendChild(element);\n",
       "    }\n",
       "  };var element = document.getElementById(\"1002\");\n",
       "  if (element == null) {\n",
       "    console.error(\"Bokeh: ERROR: autoload.js configured with elementid '1002' but no matching script tag was found. \")\n",
       "    return false;\n",
       "  }\n",
       "\n",
       "  function inject_raw_css(css) {\n",
       "    const element = document.createElement(\"style\");\n",
       "    element.appendChild(document.createTextNode(css));\n",
       "    document.body.appendChild(element);\n",
       "  }\n",
       "\n",
       "  \n",
       "  var js_urls = [\"https://cdn.pydata.org/bokeh/release/bokeh-1.4.0.min.js\", \"https://cdn.pydata.org/bokeh/release/bokeh-widgets-1.4.0.min.js\", \"https://cdn.pydata.org/bokeh/release/bokeh-tables-1.4.0.min.js\", \"https://cdn.pydata.org/bokeh/release/bokeh-gl-1.4.0.min.js\"];\n",
       "  var css_urls = [];\n",
       "  \n",
       "\n",
       "  var inline_js = [\n",
       "    function(Bokeh) {\n",
       "      Bokeh.set_log_level(\"info\");\n",
       "    },\n",
       "    function(Bokeh) {\n",
       "    \n",
       "    \n",
       "    }\n",
       "  ];\n",
       "\n",
       "  function run_inline_js() {\n",
       "    \n",
       "    if (root.Bokeh !== undefined || force === true) {\n",
       "      \n",
       "    for (var i = 0; i < inline_js.length; i++) {\n",
       "      inline_js[i].call(root, root.Bokeh);\n",
       "    }\n",
       "    if (force === true) {\n",
       "        display_loaded();\n",
       "      }} else if (Date.now() < root._bokeh_timeout) {\n",
       "      setTimeout(run_inline_js, 100);\n",
       "    } else if (!root._bokeh_failed_load) {\n",
       "      console.log(\"Bokeh: BokehJS failed to load within specified timeout.\");\n",
       "      root._bokeh_failed_load = true;\n",
       "    } else if (force !== true) {\n",
       "      var cell = $(document.getElementById(\"1002\")).parents('.cell').data().cell;\n",
       "      cell.output_area.append_execute_result(NB_LOAD_WARNING)\n",
       "    }\n",
       "\n",
       "  }\n",
       "\n",
       "  if (root._bokeh_is_loading === 0) {\n",
       "    console.debug(\"Bokeh: BokehJS loaded, going straight to plotting\");\n",
       "    run_inline_js();\n",
       "  } else {\n",
       "    load_libs(css_urls, js_urls, function() {\n",
       "      console.debug(\"Bokeh: BokehJS plotting callback run at\", now());\n",
       "      run_inline_js();\n",
       "    });\n",
       "  }\n",
       "}(window));"
      ],
      "application/vnd.bokehjs_load.v0+json": "\n(function(root) {\n  function now() {\n    return new Date();\n  }\n\n  var force = true;\n\n  if (typeof root._bokeh_onload_callbacks === \"undefined\" || force === true) {\n    root._bokeh_onload_callbacks = [];\n    root._bokeh_is_loading = undefined;\n  }\n\n  \n\n  \n  if (typeof (root._bokeh_timeout) === \"undefined\" || force === true) {\n    root._bokeh_timeout = Date.now() + 5000;\n    root._bokeh_failed_load = false;\n  }\n\n  var NB_LOAD_WARNING = {'data': {'text/html':\n     \"<div style='background-color: #fdd'>\\n\"+\n     \"<p>\\n\"+\n     \"BokehJS does not appear to have successfully loaded. If loading BokehJS from CDN, this \\n\"+\n     \"may be due to a slow or bad network connection. Possible fixes:\\n\"+\n     \"</p>\\n\"+\n     \"<ul>\\n\"+\n     \"<li>re-rerun `output_notebook()` to attempt to load from CDN again, or</li>\\n\"+\n     \"<li>use INLINE resources instead, as so:</li>\\n\"+\n     \"</ul>\\n\"+\n     \"<code>\\n\"+\n     \"from bokeh.resources import INLINE\\n\"+\n     \"output_notebook(resources=INLINE)\\n\"+\n     \"</code>\\n\"+\n     \"</div>\"}};\n\n  function display_loaded() {\n    var el = document.getElementById(\"1002\");\n    if (el != null) {\n      el.textContent = \"BokehJS is loading...\";\n    }\n    if (root.Bokeh !== undefined) {\n      if (el != null) {\n        el.textContent = \"BokehJS \" + root.Bokeh.version + \" successfully loaded.\";\n      }\n    } else if (Date.now() < root._bokeh_timeout) {\n      setTimeout(display_loaded, 100)\n    }\n  }\n\n\n  function run_callbacks() {\n    try {\n      root._bokeh_onload_callbacks.forEach(function(callback) {\n        if (callback != null)\n          callback();\n      });\n    } finally {\n      delete root._bokeh_onload_callbacks\n    }\n    console.debug(\"Bokeh: all callbacks have finished\");\n  }\n\n  function load_libs(css_urls, js_urls, callback) {\n    if (css_urls == null) css_urls = [];\n    if (js_urls == null) js_urls = [];\n\n    root._bokeh_onload_callbacks.push(callback);\n    if (root._bokeh_is_loading > 0) {\n      console.debug(\"Bokeh: BokehJS is being loaded, scheduling callback at\", now());\n      return null;\n    }\n    if (js_urls == null || js_urls.length === 0) {\n      run_callbacks();\n      return null;\n    }\n    console.debug(\"Bokeh: BokehJS not loaded, scheduling load and callback at\", now());\n    root._bokeh_is_loading = css_urls.length + js_urls.length;\n\n    function on_load() {\n      root._bokeh_is_loading--;\n      if (root._bokeh_is_loading === 0) {\n        console.debug(\"Bokeh: all BokehJS libraries/stylesheets loaded\");\n        run_callbacks()\n      }\n    }\n\n    function on_error() {\n      console.error(\"failed to load \" + url);\n    }\n\n    for (var i = 0; i < css_urls.length; i++) {\n      var url = css_urls[i];\n      const element = document.createElement(\"link\");\n      element.onload = on_load;\n      element.onerror = on_error;\n      element.rel = \"stylesheet\";\n      element.type = \"text/css\";\n      element.href = url;\n      console.debug(\"Bokeh: injecting link tag for BokehJS stylesheet: \", url);\n      document.body.appendChild(element);\n    }\n\n    for (var i = 0; i < js_urls.length; i++) {\n      var url = js_urls[i];\n      var element = document.createElement('script');\n      element.onload = on_load;\n      element.onerror = on_error;\n      element.async = false;\n      element.src = url;\n      console.debug(\"Bokeh: injecting script tag for BokehJS library: \", url);\n      document.head.appendChild(element);\n    }\n  };var element = document.getElementById(\"1002\");\n  if (element == null) {\n    console.error(\"Bokeh: ERROR: autoload.js configured with elementid '1002' but no matching script tag was found. \")\n    return false;\n  }\n\n  function inject_raw_css(css) {\n    const element = document.createElement(\"style\");\n    element.appendChild(document.createTextNode(css));\n    document.body.appendChild(element);\n  }\n\n  \n  var js_urls = [\"https://cdn.pydata.org/bokeh/release/bokeh-1.4.0.min.js\", \"https://cdn.pydata.org/bokeh/release/bokeh-widgets-1.4.0.min.js\", \"https://cdn.pydata.org/bokeh/release/bokeh-tables-1.4.0.min.js\", \"https://cdn.pydata.org/bokeh/release/bokeh-gl-1.4.0.min.js\"];\n  var css_urls = [];\n  \n\n  var inline_js = [\n    function(Bokeh) {\n      Bokeh.set_log_level(\"info\");\n    },\n    function(Bokeh) {\n    \n    \n    }\n  ];\n\n  function run_inline_js() {\n    \n    if (root.Bokeh !== undefined || force === true) {\n      \n    for (var i = 0; i < inline_js.length; i++) {\n      inline_js[i].call(root, root.Bokeh);\n    }\n    if (force === true) {\n        display_loaded();\n      }} else if (Date.now() < root._bokeh_timeout) {\n      setTimeout(run_inline_js, 100);\n    } else if (!root._bokeh_failed_load) {\n      console.log(\"Bokeh: BokehJS failed to load within specified timeout.\");\n      root._bokeh_failed_load = true;\n    } else if (force !== true) {\n      var cell = $(document.getElementById(\"1002\")).parents('.cell').data().cell;\n      cell.output_area.append_execute_result(NB_LOAD_WARNING)\n    }\n\n  }\n\n  if (root._bokeh_is_loading === 0) {\n    console.debug(\"Bokeh: BokehJS loaded, going straight to plotting\");\n    run_inline_js();\n  } else {\n    load_libs(css_urls, js_urls, function() {\n      console.debug(\"Bokeh: BokehJS plotting callback run at\", now());\n      run_inline_js();\n    });\n  }\n}(window));"
     },
     "metadata": {},
     "output_type": "display_data"
    }
   ],
   "source": [
    "import sys\n",
    "sys.path.append(\"../../\")\n",
    "from data.Frame import Frame\n",
    "from bk import show_weighted_average, show_group_total, get_pandas_dataframe, line_chart, scatter_plot\n",
    "from bokeh.io import output_notebook\n",
    "from bokeh.plotting import figure, output_file, show, reset_output\n",
    "import sources\n",
    "from sources.unpd.indicators import get_projection_by_groups as gpp\n",
    "from sources.cdp.indicators import get_indicators as get_indicators_cdp_2018\n",
    "from sources.worldbank.datatable import get_data_table as get_wb_tb\n",
    "reset_output()\n",
    "output_notebook()"
   ]
  },
  {
   "cell_type": "markdown",
   "metadata": {
    "slideshow": {
     "slide_type": "slide"
    }
   },
   "source": [
    "# Human and Social development in the LDCs"
   ]
  },
  {
   "cell_type": "markdown",
   "metadata": {
    "slideshow": {
     "slide_type": "slide"
    }
   },
   "source": [
    "# The Least Developed Countries\n",
    "\n",
    "+ The category of the least developed countries was created in 1971\n",
    "\n",
    "+ Least developed countries (LDCs) are low-income countries confronting severe structural impediments to sustainable development. They are highly vulnerable to economic and environmental shocks and have low levels of human assets.\n"
   ]
  },
  {
   "cell_type": "markdown",
   "metadata": {
    "slideshow": {
     "slide_type": "slide"
    }
   },
   "source": [
    "Least developed countries (LDCs) are **low-income countries** confronting severe **structural** impediments to sustainable development. They are highly **vulnerable to economic and environmental shocks** and have **low levels of human assets**."
   ]
  },
  {
   "cell_type": "markdown",
   "metadata": {
    "slideshow": {
     "slide_type": "slide"
    }
   },
   "source": [
    "## The criteria to identify LDCs\n",
    "The Committee for Development Policy has established three criteria for including and graduating countries from the category:\n",
    "    \n",
    "### The Economic Vulnerability Index (EVI)\n",
    "    \n",
    "### The Human Assets Index (HAI)\n",
    "\n",
    "### GNI per capita"
   ]
  },
  {
   "cell_type": "code",
   "execution_count": 3,
   "metadata": {
    "ExecuteTime": {
     "end_time": "2019-10-25T14:23:46.674809Z",
     "start_time": "2019-10-25T14:23:46.484107Z"
    },
    "slideshow": {
     "slide_type": "skip"
    }
   },
   "outputs": [],
   "source": [
    "cdp_data_2018 = get_indicators_cdp_2018(['LDCs'])\n",
    "entities = cdp_data_2018.get_column('entity').as_array()\n",
    "evi = cdp_data_2018.get_column('evi').as_array()\n",
    "hai = cdp_data_2018.get_column('hai').as_array()\n",
    "gni = cdp_data_2018.get_column('gni_per_capita_dollars').as_array()\n",
    "gni_normalized = [(x / sum(gni))*30 for x in gni]"
   ]
  },
  {
   "cell_type": "code",
   "execution_count": 4,
   "metadata": {
    "ExecuteTime": {
     "end_time": "2019-10-25T14:23:46.713931Z",
     "start_time": "2019-10-25T14:23:46.677516Z"
    },
    "slideshow": {
     "slide_type": "slide"
    }
   },
   "outputs": [
    {
     "data": {
      "text/html": [
       "\n",
       "\n",
       "\n",
       "\n",
       "\n",
       "\n",
       "  <div class=\"bk-root\" id=\"805064ff-5f04-48c0-b0fb-22763cebf24f\" data-root-id=\"1005\"></div>\n"
      ]
     },
     "metadata": {},
     "output_type": "display_data"
    },
    {
     "data": {
      "application/javascript": [
       "(function(root) {\n",
       "  function embed_document(root) {\n",
       "    \n",
       "  var docs_json = {\"c6526236-f198-40dd-b9f2-0e5c2d108bf7\":{\"roots\":{\"references\":[{\"attributes\":{\"below\":[{\"id\":\"1016\",\"type\":\"LinearAxis\"}],\"center\":[{\"id\":\"1020\",\"type\":\"Grid\"},{\"id\":\"1025\",\"type\":\"Grid\"},{\"id\":\"1034\",\"type\":\"LabelSet\"}],\"left\":[{\"id\":\"1021\",\"type\":\"LinearAxis\"}],\"plot_width\":950,\"renderers\":[{\"id\":\"1032\",\"type\":\"GlyphRenderer\"}],\"title\":{\"id\":\"1006\",\"type\":\"Title\"},\"toolbar\":{\"id\":\"1027\",\"type\":\"Toolbar\"},\"x_range\":{\"id\":\"1008\",\"type\":\"DataRange1d\"},\"x_scale\":{\"id\":\"1012\",\"type\":\"LinearScale\"},\"y_range\":{\"id\":\"1010\",\"type\":\"DataRange1d\"},\"y_scale\":{\"id\":\"1014\",\"type\":\"LinearScale\"}},\"id\":\"1005\",\"subtype\":\"Figure\",\"type\":\"Plot\"},{\"attributes\":{},\"id\":\"1012\",\"type\":\"LinearScale\"},{\"attributes\":{\"fill_alpha\":{\"value\":0.6},\"fill_color\":{\"value\":\"#1f77b4\"},\"line_color\":{\"value\":null},\"radius\":{\"field\":\"radii\",\"units\":\"data\"},\"x\":{\"field\":\"evi\"},\"y\":{\"field\":\"hai\"}},\"id\":\"1030\",\"type\":\"Circle\"},{\"attributes\":{\"data_source\":{\"id\":\"1004\",\"type\":\"ColumnDataSource\"},\"glyph\":{\"id\":\"1030\",\"type\":\"Circle\"},\"hover_glyph\":null,\"muted_glyph\":null,\"nonselection_glyph\":{\"id\":\"1031\",\"type\":\"Circle\"},\"selection_glyph\":null,\"view\":{\"id\":\"1033\",\"type\":\"CDSView\"}},\"id\":\"1032\",\"type\":\"GlyphRenderer\"},{\"attributes\":{\"source\":{\"id\":\"1004\",\"type\":\"ColumnDataSource\"}},\"id\":\"1033\",\"type\":\"CDSView\"},{\"attributes\":{\"callback\":null},\"id\":\"1010\",\"type\":\"DataRange1d\"},{\"attributes\":{},\"id\":\"1014\",\"type\":\"LinearScale\"},{\"attributes\":{\"level\":\"glyph\",\"source\":{\"id\":\"1004\",\"type\":\"ColumnDataSource\"},\"text\":{\"field\":\"names\"},\"text_font_size\":{\"value\":\"8pt\"},\"x\":{\"field\":\"evi\"},\"x_offset\":{\"value\":5},\"y\":{\"field\":\"hai\"},\"y_offset\":{\"value\":5}},\"id\":\"1034\",\"type\":\"LabelSet\"},{\"attributes\":{},\"id\":\"1022\",\"type\":\"BasicTicker\"},{\"attributes\":{\"axis_label\":\"EVI\",\"formatter\":{\"id\":\"1037\",\"type\":\"BasicTickFormatter\"},\"ticker\":{\"id\":\"1017\",\"type\":\"BasicTicker\"}},\"id\":\"1016\",\"type\":\"LinearAxis\"},{\"attributes\":{\"fill_alpha\":{\"value\":0.1},\"fill_color\":{\"value\":\"#1f77b4\"},\"line_alpha\":{\"value\":0.1},\"line_color\":{\"value\":\"#1f77b4\"},\"radius\":{\"field\":\"radii\",\"units\":\"data\"},\"x\":{\"field\":\"evi\"},\"y\":{\"field\":\"hai\"}},\"id\":\"1031\",\"type\":\"Circle\"},{\"attributes\":{},\"id\":\"1042\",\"type\":\"UnionRenderers\"},{\"attributes\":{},\"id\":\"1041\",\"type\":\"Selection\"},{\"attributes\":{},\"id\":\"1037\",\"type\":\"BasicTickFormatter\"},{\"attributes\":{},\"id\":\"1039\",\"type\":\"BasicTickFormatter\"},{\"attributes\":{\"callback\":null},\"id\":\"1026\",\"type\":\"HoverTool\"},{\"attributes\":{\"dimension\":1,\"ticker\":{\"id\":\"1022\",\"type\":\"BasicTicker\"}},\"id\":\"1025\",\"type\":\"Grid\"},{\"attributes\":{\"callback\":null,\"data\":{\"evi\":[39.31847499761291,36.757499031522215,25.21977531407407,34.32843983867595,36.26105903025079,38.24968188294886,44.53840537420615,34.75933730781097,33.55527518528004,52.43229442971872,52.38395723067039,27.237133266314615,36.329678101824925,54.70608523319488,32.09573717926084,72.15168677316157,30.163203421036275,52.38566801102522,30.553838443774744,73.69258065327526,42.02234466093909,53.203575960114186,37.845308176229935,47.1236284854542,36.7941622313397,39.91252075695854,36.7237686236129,31.7432961328469,28.422642129717293,35.255239686720145,36.377946784929456,41.23100272969866,33.44246330286905,51.563062215984765,51.90755365345187,34.725685139794926,49.214096687726894,56.79572845959256,28.338132621668773,56.01606076954609,31.718809204036635,27.90609781167721,46.9962786557694,38.63576320999087,40.46026103469391],\"hai\":[48.3698405313323,52.52043657551618,73.15064266822495,49.75421277291333,72.86608884522367,42.91698654581399,38.4582473052599,68.92528304696823,17.37091156051442,22.085484315685715,49.385256569573,41.87232303636952,58.02908229893985,42.893055780999646,45.30853361262692,51.82920387983884,39.48893995074097,41.716252662688056,47.97415181855695,83.96679690389746,61.572583924694506,37.23070426579468,54.53329453168444,52.522138892622166,43.106314630459046,46.940261858442696,45.8152514338928,68.47497037955749,71.21981923337259,35.374052152796644,54.97246497703989,86.00679852404463,57.12957161797068,27.395916767676766,74.78849047963382,16.65507946932967,53.03509118236097,66.63143020458574,61.82618003109269,90.13457842056366,50.23906690599287,56.02779180814835,78.51943490439294,59.22749709179137,58.594410552318735],\"names\":[\"Afghanistan\",\"Angola\",\"Bangladesh\",\"Benin\",\"Bhutan\",\"Burkina Faso\",\"Burundi\",\"Cambodia\",\"Central African Republic\",\"Chad\",\"Comoros\",\"Democratic Republic of the Congo\",\"Djibouti\",\"Eritrea\",\"Ethiopia\",\"Gambia\",\"Guinea\",\"Guinea-Bissau\",\"Haiti\",\"Kiribati\",\"Lesotho\",\"Liberia\",\"Madagascar\",\"Malawi\",\"Mali\",\"Mauritania\",\"Mozambique\",\"Myanmar\",\"Nepal\",\"Niger\",\"Rwanda\",\"Sao Tome and Principe\",\"Senegal\",\"Sierra Leone\",\"Solomon Islands\",\"Somalia\",\"Sudan\",\"Timor-Leste\",\"Togo\",\"Tuvalu\",\"Uganda\",\"United Republic of Tanzania\",\"Vanuatu\",\"Yemen\",\"Zambia\"],\"radii\":[0.3486056940032576,2.4668524266042016,0.7020447947937721,0.48602223509185105,1.3228778144086932,0.3545063770828273,0.1439906217703531,0.5921658071844065,0.2039025303122942,0.5072539150463391,0.8788819521470623,0.26478852194206287,1.0434896028654765,0.4748310823991456,0.3550084704511006,0.247446969190501,0.37373691067035597,0.32794088514739334,0.44869169499991846,1.6454751810450026,0.7143690867404829,0.23730867258431165,0.2677231781905875,0.18263121659249557,0.441142763699007,0.6775521275707559,0.3108420352212877,0.6914928152526487,0.41032077914907744,0.2166245207324081,0.3895316490963874,0.9279304402907724,0.5532615213153896,0.32073284585082373,0.9714956147211605,0.052410075653960046,0.8001174040745556,1.4634728916821294,0.3057813583848219,2.9686806171600546,0.3643815661228828,0.49688045527581914,1.6609010705734226,0.5258532451564529,0.8600485617522887]},\"selected\":{\"id\":\"1041\",\"type\":\"Selection\"},\"selection_policy\":{\"id\":\"1042\",\"type\":\"UnionRenderers\"}},\"id\":\"1004\",\"type\":\"ColumnDataSource\"},{\"attributes\":{\"active_drag\":\"auto\",\"active_inspect\":\"auto\",\"active_multi\":null,\"active_scroll\":\"auto\",\"active_tap\":\"auto\",\"tools\":[{\"id\":\"1026\",\"type\":\"HoverTool\"}]},\"id\":\"1027\",\"type\":\"Toolbar\"},{\"attributes\":{},\"id\":\"1017\",\"type\":\"BasicTicker\"},{\"attributes\":{\"ticker\":{\"id\":\"1017\",\"type\":\"BasicTicker\"}},\"id\":\"1020\",\"type\":\"Grid\"},{\"attributes\":{\"axis_label\":\"HAI\",\"formatter\":{\"id\":\"1039\",\"type\":\"BasicTickFormatter\"},\"ticker\":{\"id\":\"1022\",\"type\":\"BasicTicker\"}},\"id\":\"1021\",\"type\":\"LinearAxis\"},{\"attributes\":{\"callback\":null},\"id\":\"1008\",\"type\":\"DataRange1d\"},{\"attributes\":{\"text\":\"HAI vs EVI\"},\"id\":\"1006\",\"type\":\"Title\"}],\"root_ids\":[\"1005\"]},\"title\":\"Bokeh Application\",\"version\":\"1.4.0\"}};\n",
       "  var render_items = [{\"docid\":\"c6526236-f198-40dd-b9f2-0e5c2d108bf7\",\"roots\":{\"1005\":\"805064ff-5f04-48c0-b0fb-22763cebf24f\"}}];\n",
       "  root.Bokeh.embed.embed_items_notebook(docs_json, render_items);\n",
       "\n",
       "  }\n",
       "  if (root.Bokeh !== undefined) {\n",
       "    embed_document(root);\n",
       "  } else {\n",
       "    var attempts = 0;\n",
       "    var timer = setInterval(function(root) {\n",
       "      if (root.Bokeh !== undefined) {\n",
       "        clearInterval(timer);\n",
       "        embed_document(root);\n",
       "      } else {\n",
       "        attempts++;\n",
       "        if (attempts > 100) {\n",
       "          clearInterval(timer);\n",
       "          console.log(\"Bokeh: ERROR: Unable to run BokehJS code because BokehJS library is missing\");\n",
       "        }\n",
       "      }\n",
       "    }, 10, root)\n",
       "  }\n",
       "})(window);"
      ],
      "application/vnd.bokehjs_exec.v0+json": ""
     },
     "metadata": {
      "application/vnd.bokehjs_exec.v0+json": {
       "id": "1005"
      }
     },
     "output_type": "display_data"
    }
   ],
   "source": [
    "p = scatter_plot(evi, hai, gni_normalized, entities)\n",
    "show(p)"
   ]
  },
  {
   "cell_type": "markdown",
   "metadata": {
    "slideshow": {
     "slide_type": "slide"
    }
   },
   "source": [
    "# The Istanbul Programme of Action"
   ]
  },
  {
   "cell_type": "markdown",
   "metadata": {
    "ExecuteTime": {
     "end_time": "2019-10-23T16:34:47.577716Z",
     "start_time": "2019-10-23T16:34:47.551207Z"
    },
    "slideshow": {
     "slide_type": "slide"
    }
   },
   "source": [
    "# Objectives"
   ]
  },
  {
   "cell_type": "markdown",
   "metadata": {
    "slideshow": {
     "slide_type": "slide"
    }
   },
   "source": [
    "27. The overarching goal of the Programme of Action for the decade 2011-2020 is to overcome the structural challenges faced by the least developed countries in order to eradicate poverty, achieve internationally agreed development goals and enable graduation from the least developed country category.\n",
    "\n"
   ]
  },
  {
   "cell_type": "markdown",
   "metadata": {
    "slideshow": {
     "slide_type": "slide"
    }
   },
   "source": [
    "28. Guided by the overarching goal, national policies of least developed countries and international support measures during the decade will focus on the following specific objectives with the aim of enabling half the number of least developed countries to meet the criteria for graduation by 2020:"
   ]
  },
  {
   "cell_type": "markdown",
   "metadata": {
    "slideshow": {
     "slide_type": "slide"
    }
   },
   "source": [
    "**(a)** Achieve sustained, equitable and inclusive economic growth in least developed countries, to at least the level of 7 per cent per annum, by strengthening their productive capacity in all sectors through structural transformation and overcoming their marginalization through their effective integration into the global economy, including through regional integration;"
   ]
  },
  {
   "cell_type": "markdown",
   "metadata": {
    "slideshow": {
     "slide_type": "slide"
    }
   },
   "source": [
    "**(b) Build human capacities by fostering sustained, equitable and inclusive human and social development, gender equality and the empowerment of women;**"
   ]
  },
  {
   "cell_type": "markdown",
   "metadata": {
    "slideshow": {
     "slide_type": "slide"
    }
   },
   "source": [
    "**(c)** Reduce the **vulnerability** of least developed countries to economic, natural and environmental shocks and disasters, as well as climate change, and enhance their ability to meet these and other challenges through strengthening their resilience;"
   ]
  },
  {
   "cell_type": "markdown",
   "metadata": {
    "slideshow": {
     "slide_type": "slide"
    }
   },
   "source": [
    "**(d)** Ensure enhanced financial resources and their effective use for least developed countries’ development, including through domestic resource mobilization, ODA, external debt relief, foreign direct investment and remittances;"
   ]
  },
  {
   "cell_type": "markdown",
   "metadata": {
    "slideshow": {
     "slide_type": "slide"
    }
   },
   "source": [
    "**(e)** Enhance good governance at all levels, by strengthening democratic processes, institutions and the rule of law; increasing efficiency, coherence, transparency and participation; protecting and promoting human rights; and reducing corruption, and strengthen least developed country Governments’ capacity to play an effective role in their economic and social development."
   ]
  },
  {
   "cell_type": "markdown",
   "metadata": {
    "slideshow": {
     "slide_type": "slide"
    }
   },
   "source": [
    "# IV. Priority areas for action\n",
    "\n",
    "43. The actions will be organized by priority areas as:\n",
    "\n",
    "A. Productive capacity\n",
    "\n",
    "B. Agriculture, food security and rural development\n",
    "\n",
    "C. Trade\n",
    "\n",
    "D. Commodities\n",
    "\n",
    "**E. Human and social development**\n",
    "\n",
    "F. Multiple crises and other emerging challenges ▪Economic shocks\n",
    "\n",
    "H. Good governance at all levels"
   ]
  },
  {
   "cell_type": "markdown",
   "metadata": {
    "slideshow": {
     "slide_type": "slide"
    }
   },
   "source": [
    "# E. Human and social development\n",
    "\n",
    "+ Education and training\n",
    "\n",
    "+ Population and primary health\n",
    "\n",
    "+ Youth development\n",
    "\n",
    "+ Shelter\n",
    "\n",
    "+ Water and sanitation\n",
    "\n",
    "+ Gender equality and empowerment of women \n",
    "\n",
    "+ Social protection"
   ]
  },
  {
   "cell_type": "markdown",
   "metadata": {
    "slideshow": {
     "slide_type": "slide"
    }
   },
   "source": [
    "# Population and primary health"
   ]
  },
  {
   "cell_type": "code",
   "execution_count": 4,
   "metadata": {
    "ExecuteTime": {
     "end_time": "2019-10-25T14:23:47.479465Z",
     "start_time": "2019-10-25T14:23:46.720219Z"
    },
    "scrolled": true,
    "slideshow": {
     "slide_type": "slide"
    }
   },
   "outputs": [
    {
     "data": {
      "text/html": [
       "\n",
       "\n",
       "\n",
       "\n",
       "\n",
       "\n",
       "  <div class=\"bk-root\" id=\"ec015e0f-eb93-4dbb-af47-49712f083359\" data-root-id=\"1084\"></div>\n"
      ]
     },
     "metadata": {},
     "output_type": "display_data"
    },
    {
     "data": {
      "application/javascript": [
       "(function(root) {\n",
       "  function embed_document(root) {\n",
       "    \n",
       "  var docs_json = {\"740604d5-f805-4ae6-ae9e-15fbf3886d1d\":{\"roots\":{\"references\":[{\"attributes\":{\"below\":[{\"id\":\"1095\",\"type\":\"LinearAxis\"}],\"center\":[{\"id\":\"1099\",\"type\":\"Grid\"},{\"id\":\"1104\",\"type\":\"Grid\"},{\"id\":\"1129\",\"type\":\"Legend\"}],\"left\":[{\"id\":\"1100\",\"type\":\"LinearAxis\"}],\"plot_height\":400,\"plot_width\":1000,\"renderers\":[{\"id\":\"1121\",\"type\":\"GlyphRenderer\"},{\"id\":\"1134\",\"type\":\"GlyphRenderer\"}],\"title\":{\"id\":\"1085\",\"type\":\"Title\"},\"toolbar\":{\"id\":\"1111\",\"type\":\"Toolbar\"},\"x_range\":{\"id\":\"1087\",\"type\":\"DataRange1d\"},\"x_scale\":{\"id\":\"1091\",\"type\":\"LinearScale\"},\"y_range\":{\"id\":\"1089\",\"type\":\"DataRange1d\"},\"y_scale\":{\"id\":\"1093\",\"type\":\"LinearScale\"}},\"id\":\"1084\",\"subtype\":\"Figure\",\"type\":\"Plot\"},{\"attributes\":{\"bottom_units\":\"screen\",\"fill_alpha\":{\"value\":0.5},\"fill_color\":{\"value\":\"lightgrey\"},\"left_units\":\"screen\",\"level\":\"overlay\",\"line_alpha\":{\"value\":1.0},\"line_color\":{\"value\":\"black\"},\"line_dash\":[4,4],\"line_width\":{\"value\":2},\"render_mode\":\"css\",\"right_units\":\"screen\",\"top_units\":\"screen\"},\"id\":\"1128\",\"type\":\"BoxAnnotation\"},{\"attributes\":{},\"id\":\"1101\",\"type\":\"BasicTicker\"},{\"attributes\":{\"grid_line_color\":null,\"ticker\":{\"id\":\"1096\",\"type\":\"BasicTicker\"}},\"id\":\"1099\",\"type\":\"Grid\"},{\"attributes\":{\"fill_color\":{\"value\":\"#FA1857\"},\"line_color\":{\"value\":\"#FA1857\"},\"size\":{\"units\":\"screen\",\"value\":0},\"x\":{\"field\":\"x\"},\"y\":{\"field\":\"y\"}},\"id\":\"1132\",\"type\":\"Circle\"},{\"attributes\":{},\"id\":\"1096\",\"type\":\"BasicTicker\"},{\"attributes\":{\"axis_label\":\"SP.POP.TOTL\",\"formatter\":{\"id\":\"1127\",\"type\":\"BasicTickFormatter\"},\"ticker\":{\"id\":\"1101\",\"type\":\"BasicTicker\"}},\"id\":\"1100\",\"type\":\"LinearAxis\"},{\"attributes\":{\"axis_label\":\"Years\",\"formatter\":{\"id\":\"1125\",\"type\":\"BasicTickFormatter\"},\"ticker\":{\"id\":\"1096\",\"type\":\"BasicTicker\"}},\"id\":\"1095\",\"type\":\"LinearAxis\"},{\"attributes\":{\"dimension\":1,\"grid_line_alpha\":0.5,\"ticker\":{\"id\":\"1101\",\"type\":\"BasicTicker\"}},\"id\":\"1104\",\"type\":\"Grid\"},{\"attributes\":{\"line_alpha\":0.1,\"line_color\":\"#1f77b4\",\"line_width\":3,\"x\":{\"field\":\"x\"},\"y\":{\"field\":\"y\"}},\"id\":\"1120\",\"type\":\"Line\"},{\"attributes\":{\"callback\":null,\"data\":{\"x\":[\"1962\",\"1963\",\"1964\",\"1965\",\"1966\",\"1967\",\"1968\",\"1969\",\"1970\",\"1971\",\"1972\",\"1973\",\"1974\",\"1975\",\"1976\",\"1977\",\"1978\",\"1979\",\"1980\",\"1981\",\"1982\",\"1983\",\"1984\",\"1985\",\"1986\",\"1987\",\"1988\",\"1989\",\"1990\",\"1991\",\"1992\",\"1993\",\"1994\",\"1995\",\"1996\",\"1997\",\"1998\",\"1999\",\"2000\",\"2001\",\"2002\",\"2003\",\"2004\",\"2005\",\"2006\",\"2007\",\"2008\",\"2009\",\"2010\",\"2011\",\"2012\",\"2013\",\"2014\",\"2015\",\"2016\",\"2017\"],\"y\":[251900741.0,257908074.0,264174179.0,270720892.0,277573029.0,284708409.0,292045744.0,299473256.0,306916896.0,314344629.0,321797581.0,329357353.0,337142681.0,345242710.0,353691338.0,362475112.0,371577256.0,380963304.0,390612563.0,400528924.0,410740611.0,421279107.0,432185325.0,443491288.0,455193656.0,467290514.0,479814021.0,492803028.0,506275612.0,520262423.0,534731006.0,549559264.0,564581083.0,579681672.0,594801259.0,609983301.0,625342098.0,641046802.0,657215864.0,673903112.0,691061397.0,708587948.0,726331177.0,744190510.0,762132501.0,780219542.0,798563392.0,817322629.0,836614860.0,856472234.0,873619764.0,894516028.0,915914952.0,937788499.0,960134718.0,982952189.0]},\"selected\":{\"id\":\"1153\",\"type\":\"Selection\"},\"selection_policy\":{\"id\":\"1154\",\"type\":\"UnionRenderers\"}},\"id\":\"1131\",\"type\":\"ColumnDataSource\"},{\"attributes\":{},\"id\":\"1093\",\"type\":\"LinearScale\"},{\"attributes\":{},\"id\":\"1091\",\"type\":\"LinearScale\"},{\"attributes\":{},\"id\":\"1110\",\"type\":\"HelpTool\"},{\"attributes\":{\"fill_alpha\":{\"value\":0.1},\"fill_color\":{\"value\":\"#1f77b4\"},\"line_alpha\":{\"value\":0.1},\"line_color\":{\"value\":\"#1f77b4\"},\"size\":{\"units\":\"screen\",\"value\":0},\"x\":{\"field\":\"x\"},\"y\":{\"field\":\"y\"}},\"id\":\"1133\",\"type\":\"Circle\"},{\"attributes\":{\"callback\":null},\"id\":\"1089\",\"type\":\"DataRange1d\"},{\"attributes\":{\"data_source\":{\"id\":\"1131\",\"type\":\"ColumnDataSource\"},\"glyph\":{\"id\":\"1132\",\"type\":\"Circle\"},\"hover_glyph\":null,\"muted_glyph\":null,\"nonselection_glyph\":{\"id\":\"1133\",\"type\":\"Circle\"},\"selection_glyph\":null,\"view\":{\"id\":\"1135\",\"type\":\"CDSView\"}},\"id\":\"1134\",\"type\":\"GlyphRenderer\"},{\"attributes\":{},\"id\":\"1109\",\"type\":\"ResetTool\"},{\"attributes\":{},\"id\":\"1108\",\"type\":\"SaveTool\"},{\"attributes\":{\"source\":{\"id\":\"1131\",\"type\":\"ColumnDataSource\"}},\"id\":\"1135\",\"type\":\"CDSView\"},{\"attributes\":{},\"id\":\"1152\",\"type\":\"UnionRenderers\"},{\"attributes\":{\"overlay\":{\"id\":\"1128\",\"type\":\"BoxAnnotation\"}},\"id\":\"1107\",\"type\":\"BoxZoomTool\"},{\"attributes\":{\"callback\":null},\"id\":\"1087\",\"type\":\"DataRange1d\"},{\"attributes\":{},\"id\":\"1151\",\"type\":\"Selection\"},{\"attributes\":{},\"id\":\"1106\",\"type\":\"WheelZoomTool\"},{\"attributes\":{\"text\":\"Population, total\"},\"id\":\"1085\",\"type\":\"Title\"},{\"attributes\":{},\"id\":\"1105\",\"type\":\"PanTool\"},{\"attributes\":{},\"id\":\"1127\",\"type\":\"BasicTickFormatter\"},{\"attributes\":{\"line_color\":\"#FA1857\",\"line_width\":3,\"x\":{\"field\":\"x\"},\"y\":{\"field\":\"y\"}},\"id\":\"1119\",\"type\":\"Line\"},{\"attributes\":{},\"id\":\"1153\",\"type\":\"Selection\"},{\"attributes\":{\"active_drag\":\"auto\",\"active_inspect\":\"auto\",\"active_multi\":null,\"active_scroll\":\"auto\",\"active_tap\":\"auto\",\"tools\":[{\"id\":\"1105\",\"type\":\"PanTool\"},{\"id\":\"1106\",\"type\":\"WheelZoomTool\"},{\"id\":\"1107\",\"type\":\"BoxZoomTool\"},{\"id\":\"1108\",\"type\":\"SaveTool\"},{\"id\":\"1109\",\"type\":\"ResetTool\"},{\"id\":\"1110\",\"type\":\"HelpTool\"},{\"id\":\"1136\",\"type\":\"HoverTool\"}]},\"id\":\"1111\",\"type\":\"Toolbar\"},{\"attributes\":{\"source\":{\"id\":\"1118\",\"type\":\"ColumnDataSource\"}},\"id\":\"1122\",\"type\":\"CDSView\"},{\"attributes\":{\"data_source\":{\"id\":\"1118\",\"type\":\"ColumnDataSource\"},\"glyph\":{\"id\":\"1119\",\"type\":\"Line\"},\"hover_glyph\":null,\"muted_glyph\":null,\"nonselection_glyph\":{\"id\":\"1120\",\"type\":\"Line\"},\"selection_glyph\":null,\"view\":{\"id\":\"1122\",\"type\":\"CDSView\"}},\"id\":\"1121\",\"type\":\"GlyphRenderer\"},{\"attributes\":{},\"id\":\"1154\",\"type\":\"UnionRenderers\"},{\"attributes\":{\"label\":{\"value\":\"LDCs\"},\"renderers\":[{\"id\":\"1121\",\"type\":\"GlyphRenderer\"}]},\"id\":\"1130\",\"type\":\"LegendItem\"},{\"attributes\":{},\"id\":\"1125\",\"type\":\"BasicTickFormatter\"},{\"attributes\":{\"items\":[{\"id\":\"1130\",\"type\":\"LegendItem\"}],\"location\":\"bottom_left\"},\"id\":\"1129\",\"type\":\"Legend\"},{\"attributes\":{\"callback\":null,\"data\":{\"x\":[\"1962\",\"1963\",\"1964\",\"1965\",\"1966\",\"1967\",\"1968\",\"1969\",\"1970\",\"1971\",\"1972\",\"1973\",\"1974\",\"1975\",\"1976\",\"1977\",\"1978\",\"1979\",\"1980\",\"1981\",\"1982\",\"1983\",\"1984\",\"1985\",\"1986\",\"1987\",\"1988\",\"1989\",\"1990\",\"1991\",\"1992\",\"1993\",\"1994\",\"1995\",\"1996\",\"1997\",\"1998\",\"1999\",\"2000\",\"2001\",\"2002\",\"2003\",\"2004\",\"2005\",\"2006\",\"2007\",\"2008\",\"2009\",\"2010\",\"2011\",\"2012\",\"2013\",\"2014\",\"2015\",\"2016\",\"2017\"],\"y\":[251900741.0,257908074.0,264174179.0,270720892.0,277573029.0,284708409.0,292045744.0,299473256.0,306916896.0,314344629.0,321797581.0,329357353.0,337142681.0,345242710.0,353691338.0,362475112.0,371577256.0,380963304.0,390612563.0,400528924.0,410740611.0,421279107.0,432185325.0,443491288.0,455193656.0,467290514.0,479814021.0,492803028.0,506275612.0,520262423.0,534731006.0,549559264.0,564581083.0,579681672.0,594801259.0,609983301.0,625342098.0,641046802.0,657215864.0,673903112.0,691061397.0,708587948.0,726331177.0,744190510.0,762132501.0,780219542.0,798563392.0,817322629.0,836614860.0,856472234.0,873619764.0,894516028.0,915914952.0,937788499.0,960134718.0,982952189.0]},\"selected\":{\"id\":\"1151\",\"type\":\"Selection\"},\"selection_policy\":{\"id\":\"1152\",\"type\":\"UnionRenderers\"}},\"id\":\"1118\",\"type\":\"ColumnDataSource\"},{\"attributes\":{\"callback\":null,\"tooltips\":\"                \\n        <div style=padding=5px>Year:@x</div>\\n        <div style=padding=5px>Value:@y</div>        \\n        \"},\"id\":\"1136\",\"type\":\"HoverTool\"}],\"root_ids\":[\"1084\"]},\"title\":\"Bokeh Application\",\"version\":\"1.4.0\"}};\n",
       "  var render_items = [{\"docid\":\"740604d5-f805-4ae6-ae9e-15fbf3886d1d\",\"roots\":{\"1084\":\"ec015e0f-eb93-4dbb-af47-49712f083359\"}}];\n",
       "  root.Bokeh.embed.embed_items_notebook(docs_json, render_items);\n",
       "\n",
       "  }\n",
       "  if (root.Bokeh !== undefined) {\n",
       "    embed_document(root);\n",
       "  } else {\n",
       "    var attempts = 0;\n",
       "    var timer = setInterval(function(root) {\n",
       "      if (root.Bokeh !== undefined) {\n",
       "        clearInterval(timer);\n",
       "        embed_document(root);\n",
       "      } else {\n",
       "        attempts++;\n",
       "        if (attempts > 100) {\n",
       "          clearInterval(timer);\n",
       "          console.log(\"Bokeh: ERROR: Unable to run BokehJS code because BokehJS library is missing\");\n",
       "        }\n",
       "      }\n",
       "    }, 10, root)\n",
       "  }\n",
       "})(window);"
      ],
      "application/vnd.bokehjs_exec.v0+json": ""
     },
     "metadata": {
      "application/vnd.bokehjs_exec.v0+json": {
       "id": "1084"
      }
     },
     "output_type": "display_data"
    }
   ],
   "source": [
    "years = list(map(str, list(range(1962,2018))))\n",
    "result = show_group_total(years, 'SP.POP.TOTL', ['LDCs'], line_width=3, height=400, width= 1000, marker_width=0)"
   ]
  },
  {
   "cell_type": "code",
   "execution_count": 5,
   "metadata": {
    "slideshow": {
     "slide_type": "skip"
    }
   },
   "outputs": [],
   "source": [
    "gr = []\n",
    "for i in range (0, len(result[0][1])):\n",
    "    gr.append((result[0][1][i]/result[0][1][i-1])-1)  "
   ]
  },
  {
   "cell_type": "code",
   "execution_count": 6,
   "metadata": {
    "slideshow": {
     "slide_type": "skip"
    }
   },
   "outputs": [
    {
     "name": "stdout",
     "output_type": "stream",
     "text": [
      "1963-2017 -> 0.7376189026422728\n",
      "1963-1982 -> 0.37209015351053276\n",
      "1982-2002 -> 0.40563803334539317\n",
      "2002-1967 -> 0.29695319392589503\n"
     ]
    }
   ],
   "source": [
    "print (result[0][0][1] + \"-\" + result[0][0][55] + \" -> \" + str(1-(result[0][1][1]/result[0][1][55])))\n",
    "print (result[0][0][1] + \"-\" + result[0][0][20] + \" -> \" + str(1-(result[0][1][1]/result[0][1][20])))\n",
    "print (result[0][0][20] + \"-\" + result[0][0][40] + \" -> \" + str(1-(result[0][1][20]/result[0][1][40])))\n",
    "print (result[0][0][40] + \"-\" + result[0][0][5] + \" -> \" + str(1-(result[0][1][40]/result[0][1][55])))"
   ]
  },
  {
   "cell_type": "markdown",
   "metadata": {
    "slideshow": {
     "slide_type": "slide"
    }
   },
   "source": [
    "# Growth rates\n",
    "\n",
    "1963-2017 -> 73%\n",
    "\n",
    "1963-1982 -> 37%\n",
    "\n",
    "1982-2002 -> 40%\n",
    "\n",
    "2002-2017 -> 29%"
   ]
  },
  {
   "cell_type": "code",
   "execution_count": 7,
   "metadata": {
    "scrolled": true,
    "slideshow": {
     "slide_type": "slide"
    }
   },
   "outputs": [
    {
     "data": {
      "text/html": [
       "\n",
       "\n",
       "\n",
       "\n",
       "\n",
       "\n",
       "  <div class=\"bk-root\" id=\"e27f6c08-5536-4f61-af13-a641f81fa191\" data-root-id=\"1215\"></div>\n"
      ]
     },
     "metadata": {},
     "output_type": "display_data"
    },
    {
     "data": {
      "application/javascript": [
       "(function(root) {\n",
       "  function embed_document(root) {\n",
       "    \n",
       "  var docs_json = {\"d0ade33c-93ff-4049-8d73-a23cbb712a6d\":{\"roots\":{\"references\":[{\"attributes\":{\"below\":[{\"id\":\"1226\",\"type\":\"LinearAxis\"}],\"center\":[{\"id\":\"1230\",\"type\":\"Grid\"},{\"id\":\"1235\",\"type\":\"Grid\"},{\"id\":\"1260\",\"type\":\"Legend\"}],\"left\":[{\"id\":\"1231\",\"type\":\"LinearAxis\"}],\"plot_height\":400,\"plot_width\":1000,\"renderers\":[{\"id\":\"1252\",\"type\":\"GlyphRenderer\"},{\"id\":\"1265\",\"type\":\"GlyphRenderer\"},{\"id\":\"1270\",\"type\":\"GlyphRenderer\"},{\"id\":\"1286\",\"type\":\"GlyphRenderer\"},{\"id\":\"1291\",\"type\":\"GlyphRenderer\"},{\"id\":\"1311\",\"type\":\"GlyphRenderer\"}],\"title\":{\"id\":\"1216\",\"type\":\"Title\"},\"toolbar\":{\"id\":\"1242\",\"type\":\"Toolbar\"},\"x_range\":{\"id\":\"1218\",\"type\":\"DataRange1d\"},\"x_scale\":{\"id\":\"1222\",\"type\":\"LinearScale\"},\"y_range\":{\"id\":\"1220\",\"type\":\"DataRange1d\"},\"y_scale\":{\"id\":\"1224\",\"type\":\"LinearScale\"}},\"id\":\"1215\",\"subtype\":\"Figure\",\"type\":\"Plot\"},{\"attributes\":{\"axis_label\":\"SP.POP.GROW\",\"formatter\":{\"id\":\"1258\",\"type\":\"BasicTickFormatter\"},\"ticker\":{\"id\":\"1232\",\"type\":\"BasicTicker\"}},\"id\":\"1231\",\"type\":\"LinearAxis\"},{\"attributes\":{},\"id\":\"1241\",\"type\":\"HelpTool\"},{\"attributes\":{},\"id\":\"1305\",\"type\":\"Selection\"},{\"attributes\":{\"source\":{\"id\":\"1249\",\"type\":\"ColumnDataSource\"}},\"id\":\"1253\",\"type\":\"CDSView\"},{\"attributes\":{\"line_alpha\":0.1,\"line_color\":\"#1f77b4\",\"line_width\":3,\"x\":{\"field\":\"x\"},\"y\":{\"field\":\"y\"}},\"id\":\"1290\",\"type\":\"Line\"},{\"attributes\":{\"line_color\":\"#FA1857\",\"line_width\":3,\"x\":{\"field\":\"x\"},\"y\":{\"field\":\"y\"}},\"id\":\"1250\",\"type\":\"Line\"},{\"attributes\":{\"source\":{\"id\":\"1308\",\"type\":\"ColumnDataSource\"}},\"id\":\"1312\",\"type\":\"CDSView\"},{\"attributes\":{\"items\":[{\"id\":\"1261\",\"type\":\"LegendItem\"},{\"id\":\"1282\",\"type\":\"LegendItem\"},{\"id\":\"1307\",\"type\":\"LegendItem\"}],\"location\":\"bottom_left\"},\"id\":\"1260\",\"type\":\"Legend\"},{\"attributes\":{},\"id\":\"1236\",\"type\":\"PanTool\"},{\"attributes\":{},\"id\":\"1303\",\"type\":\"Selection\"},{\"attributes\":{},\"id\":\"1306\",\"type\":\"UnionRenderers\"},{\"attributes\":{\"dimension\":1,\"grid_line_alpha\":0.5,\"ticker\":{\"id\":\"1232\",\"type\":\"BasicTicker\"}},\"id\":\"1235\",\"type\":\"Grid\"},{\"attributes\":{\"line_alpha\":0.1,\"line_color\":\"#1f77b4\",\"line_width\":3,\"x\":{\"field\":\"x\"},\"y\":{\"field\":\"y\"}},\"id\":\"1269\",\"type\":\"Line\"},{\"attributes\":{\"fill_alpha\":{\"value\":0.1},\"fill_color\":{\"value\":\"#1f77b4\"},\"line_alpha\":{\"value\":0.1},\"line_color\":{\"value\":\"#1f77b4\"},\"size\":{\"units\":\"screen\",\"value\":1},\"x\":{\"field\":\"x\"},\"y\":{\"field\":\"y\"}},\"id\":\"1285\",\"type\":\"Circle\"},{\"attributes\":{\"axis_label\":\"Years\",\"formatter\":{\"id\":\"1256\",\"type\":\"BasicTickFormatter\"},\"ticker\":{\"id\":\"1227\",\"type\":\"BasicTicker\"}},\"id\":\"1226\",\"type\":\"LinearAxis\"},{\"attributes\":{\"overlay\":{\"id\":\"1259\",\"type\":\"BoxAnnotation\"}},\"id\":\"1238\",\"type\":\"BoxZoomTool\"},{\"attributes\":{},\"id\":\"1304\",\"type\":\"UnionRenderers\"},{\"attributes\":{\"callback\":null,\"data\":{\"x\":[\"1962\",\"1963\",\"1964\",\"1965\",\"1966\",\"1967\",\"1968\",\"1969\",\"1970\",\"1971\",\"1972\",\"1973\",\"1974\",\"1975\",\"1976\",\"1977\",\"1978\",\"1979\",\"1980\",\"1981\",\"1982\",\"1983\",\"1984\",\"1985\",\"1986\",\"1987\",\"1988\",\"1989\",\"1990\",\"1991\",\"1992\",\"1993\",\"1994\",\"1995\",\"1996\",\"1997\",\"1998\",\"1999\",\"2000\",\"2001\",\"2002\",\"2003\",\"2004\",\"2005\",\"2006\",\"2007\",\"2008\",\"2009\",\"2010\",\"2011\",\"2012\",\"2013\",\"2014\",\"2015\",\"2016\",\"2017\"],\"y\":[1.8248862061185476,2.4441465160187983,2.3947286038763287,2.4130348079694484,2.557553474528799,2.473716601818967,2.48464810999106,2.539055746281985,2.5571107315167168,2.5605017991232413,2.4560887927318604,2.3943070288403256,2.3081378915974224,2.1890707151565723,2.099957539383487,2.0257153200554185,2.014375852147049,2.017657211816398,1.9950362903826127,2.013183140722292,2.08155125497386,2.0609376830513244,1.9969841969992175,1.9896808853553218,2.007259461494107,2.0230969318327703,1.9979775156763622,1.9381931387468734,1.891526555039627,1.8289411829391427,1.7521496431648458,1.6971236395211298,1.6602690033069152,1.6200627199914381,1.5915545602739363,1.56559534517192,1.5240476772687839,1.4703522520189056,1.4284709251799304,1.3871444510344466,1.347820520925966,1.3235142067953654,1.291539227751766,1.2927592700683024,1.2789920177056144,1.2631318864042496,1.2566050545301795,1.2455220063229346,1.226235921966863,1.2163273086331117,1.1965996983573604,1.1873045989925284,1.1754398599289038,1.1573683976427818,1.1485195896511564,1.1315610485739276]},\"selected\":{\"id\":\"1305\",\"type\":\"Selection\"},\"selection_policy\":{\"id\":\"1306\",\"type\":\"UnionRenderers\"}},\"id\":\"1283\",\"type\":\"ColumnDataSource\"},{\"attributes\":{\"source\":{\"id\":\"1288\",\"type\":\"ColumnDataSource\"}},\"id\":\"1292\",\"type\":\"CDSView\"},{\"attributes\":{\"bottom_units\":\"screen\",\"fill_alpha\":{\"value\":0.5},\"fill_color\":{\"value\":\"lightgrey\"},\"left_units\":\"screen\",\"level\":\"overlay\",\"line_alpha\":{\"value\":1.0},\"line_color\":{\"value\":\"black\"},\"line_dash\":[4,4],\"line_width\":{\"value\":2},\"render_mode\":\"css\",\"right_units\":\"screen\",\"top_units\":\"screen\"},\"id\":\"1259\",\"type\":\"BoxAnnotation\"},{\"attributes\":{\"data_source\":{\"id\":\"1283\",\"type\":\"ColumnDataSource\"},\"glyph\":{\"id\":\"1284\",\"type\":\"Circle\"},\"hover_glyph\":null,\"muted_glyph\":null,\"nonselection_glyph\":{\"id\":\"1285\",\"type\":\"Circle\"},\"selection_glyph\":null,\"view\":{\"id\":\"1287\",\"type\":\"CDSView\"}},\"id\":\"1286\",\"type\":\"GlyphRenderer\"},{\"attributes\":{\"fill_color\":{\"value\":\"#FA1857\"},\"line_color\":{\"value\":\"#FA1857\"},\"size\":{\"units\":\"screen\",\"value\":1},\"x\":{\"field\":\"x\"},\"y\":{\"field\":\"y\"}},\"id\":\"1263\",\"type\":\"Circle\"},{\"attributes\":{\"callback\":null,\"data\":{\"x\":[\"1962\",\"1963\",\"1964\",\"1965\",\"1966\",\"1967\",\"1968\",\"1969\",\"1970\",\"1971\",\"1972\",\"1973\",\"1974\",\"1975\",\"1976\",\"1977\",\"1978\",\"1979\",\"1980\",\"1981\",\"1982\",\"1983\",\"1984\",\"1985\",\"1986\",\"1987\",\"1988\",\"1989\",\"1990\",\"1991\",\"1992\",\"1993\",\"1994\",\"1995\",\"1996\",\"1997\",\"1998\",\"1999\",\"2000\",\"2001\",\"2002\",\"2003\",\"2004\",\"2005\",\"2006\",\"2007\",\"2008\",\"2009\",\"2010\",\"2011\",\"2012\",\"2013\",\"2014\",\"2015\",\"2016\",\"2017\"],\"y\":[1.8248862061185476,2.4441465160187983,2.3947286038763287,2.4130348079694484,2.557553474528799,2.473716601818967,2.48464810999106,2.539055746281985,2.5571107315167168,2.5605017991232413,2.4560887927318604,2.3943070288403256,2.3081378915974224,2.1890707151565723,2.099957539383487,2.0257153200554185,2.014375852147049,2.017657211816398,1.9950362903826127,2.013183140722292,2.08155125497386,2.0609376830513244,1.9969841969992175,1.9896808853553218,2.007259461494107,2.0230969318327703,1.9979775156763622,1.9381931387468734,1.891526555039627,1.8289411829391427,1.7521496431648458,1.6971236395211298,1.6602690033069152,1.6200627199914381,1.5915545602739363,1.56559534517192,1.5240476772687839,1.4703522520189056,1.4284709251799304,1.3871444510344466,1.347820520925966,1.3235142067953654,1.291539227751766,1.2927592700683024,1.2789920177056144,1.2631318864042496,1.2566050545301795,1.2455220063229346,1.226235921966863,1.2163273086331117,1.1965996983573604,1.1873045989925284,1.1754398599289038,1.1573683976427818,1.1485195896511564,1.1315610485739276]},\"selected\":{\"id\":\"1303\",\"type\":\"Selection\"},\"selection_policy\":{\"id\":\"1304\",\"type\":\"UnionRenderers\"}},\"id\":\"1267\",\"type\":\"ColumnDataSource\"},{\"attributes\":{\"callback\":null,\"data\":{\"x\":[\"1962\",\"1963\",\"1964\",\"1965\",\"1966\",\"1967\",\"1968\",\"1969\",\"1970\",\"1971\",\"1972\",\"1973\",\"1974\",\"1975\",\"1976\",\"1977\",\"1978\",\"1979\",\"1980\",\"1981\",\"1982\",\"1983\",\"1984\",\"1985\",\"1986\",\"1987\",\"1988\",\"1989\",\"1990\",\"1991\",\"1992\",\"1993\",\"1994\",\"1995\",\"1996\",\"1997\",\"1998\",\"1999\",\"2000\",\"2001\",\"2002\",\"2003\",\"2004\",\"2005\",\"2006\",\"2007\",\"2008\",\"2009\",\"2010\",\"2011\",\"2012\",\"2013\",\"2014\",\"2015\",\"2016\",\"2017\"],\"y\":[1.3554366100415884,1.3340911742524595,1.314236288868774,1.2587996724774217,1.1851707755905116,1.1272456790517988,1.0106016151218853,1.199883035139464,1.0722602047075347,1.1660709064968795,1.1249538038844438,1.0140275392883515,1.1195082254980173,1.05508284524113,0.9004225307954331,0.915098335675841,0.90972598282484,0.9170899183067438,0.897844075907325,0.8796869757260616,0.8312416022955058,0.7887388063325471,0.7479050324677085,0.7469665600503232,0.7687692025491105,0.756794105029075,0.7614220314861823,0.7999211657719725,0.8428821358925818,0.9015976008885606,0.8921392568876548,0.8429305959152359,0.7953669348724737,0.7766177723392309,0.7462178659541623,0.7369460098730288,0.7055281558576856,0.7046912817432563,0.687766613834093,0.7165781748152029,0.7222991988914922,0.7125445414465215,0.7116853100646184,0.7041290534872531,0.7308774051234026,0.7396983966784099,0.7704431012170118,0.7020391166581761,0.6499896423337479,0.5010345900600076,0.6145947197826909,0.6361048346767268,0.6591659962316119,0.6463311041635733,0.6504088384393314,0.5845348434731328]},\"selected\":{\"id\":\"1346\",\"type\":\"Selection\"},\"selection_policy\":{\"id\":\"1347\",\"type\":\"UnionRenderers\"}},\"id\":\"1288\",\"type\":\"ColumnDataSource\"},{\"attributes\":{\"callback\":null},\"id\":\"1218\",\"type\":\"DataRange1d\"},{\"attributes\":{\"data_source\":{\"id\":\"1249\",\"type\":\"ColumnDataSource\"},\"glyph\":{\"id\":\"1250\",\"type\":\"Line\"},\"hover_glyph\":null,\"muted_glyph\":null,\"nonselection_glyph\":{\"id\":\"1251\",\"type\":\"Line\"},\"selection_glyph\":null,\"view\":{\"id\":\"1253\",\"type\":\"CDSView\"}},\"id\":\"1252\",\"type\":\"GlyphRenderer\"},{\"attributes\":{\"fill_color\":{\"value\":\"#2CC775\"},\"line_color\":{\"value\":\"#2CC775\"},\"size\":{\"units\":\"screen\",\"value\":1},\"x\":{\"field\":\"x\"},\"y\":{\"field\":\"y\"}},\"id\":\"1309\",\"type\":\"Circle\"},{\"attributes\":{},\"id\":\"1280\",\"type\":\"Selection\"},{\"attributes\":{},\"id\":\"1239\",\"type\":\"SaveTool\"},{\"attributes\":{\"fill_color\":{\"value\":\"#5430F1\"},\"line_color\":{\"value\":\"#5430F1\"},\"size\":{\"units\":\"screen\",\"value\":1},\"x\":{\"field\":\"x\"},\"y\":{\"field\":\"y\"}},\"id\":\"1284\",\"type\":\"Circle\"},{\"attributes\":{\"source\":{\"id\":\"1283\",\"type\":\"ColumnDataSource\"}},\"id\":\"1287\",\"type\":\"CDSView\"},{\"attributes\":{\"source\":{\"id\":\"1262\",\"type\":\"ColumnDataSource\"}},\"id\":\"1266\",\"type\":\"CDSView\"},{\"attributes\":{\"data_source\":{\"id\":\"1267\",\"type\":\"ColumnDataSource\"},\"glyph\":{\"id\":\"1268\",\"type\":\"Line\"},\"hover_glyph\":null,\"muted_glyph\":null,\"nonselection_glyph\":{\"id\":\"1269\",\"type\":\"Line\"},\"selection_glyph\":null,\"view\":{\"id\":\"1271\",\"type\":\"CDSView\"}},\"id\":\"1270\",\"type\":\"GlyphRenderer\"},{\"attributes\":{},\"id\":\"1232\",\"type\":\"BasicTicker\"},{\"attributes\":{\"label\":{\"value\":\"OECD\"},\"renderers\":[{\"id\":\"1291\",\"type\":\"GlyphRenderer\"}]},\"id\":\"1307\",\"type\":\"LegendItem\"},{\"attributes\":{},\"id\":\"1227\",\"type\":\"BasicTicker\"},{\"attributes\":{\"callback\":null,\"data\":{\"x\":[\"1962\",\"1963\",\"1964\",\"1965\",\"1966\",\"1967\",\"1968\",\"1969\",\"1970\",\"1971\",\"1972\",\"1973\",\"1974\",\"1975\",\"1976\",\"1977\",\"1978\",\"1979\",\"1980\",\"1981\",\"1982\",\"1983\",\"1984\",\"1985\",\"1986\",\"1987\",\"1988\",\"1989\",\"1990\",\"1991\",\"1992\",\"1993\",\"1994\",\"1995\",\"1996\",\"1997\",\"1998\",\"1999\",\"2000\",\"2001\",\"2002\",\"2003\",\"2004\",\"2005\",\"2006\",\"2007\",\"2008\",\"2009\",\"2010\",\"2011\",\"2012\",\"2013\",\"2014\",\"2015\",\"2016\",\"2017\"],\"y\":[2.286374546241369,2.318527218381726,2.362737528493902,2.4115069732019094,2.4645545711484367,2.504453543509315,2.512191780122156,2.4806660003501158,2.4262142064220487,2.3653362866203844,2.3200760153087203,2.298853347529284,2.3098964514187443,2.3441251527920213,2.3854697730184036,2.420100612152978,2.446033784992654,2.459453345789067,2.4669505638308333,2.476316224445003,2.491412095402728,2.5097648388859155,2.530904297879832,2.5534219377201035,2.5719055345705413,2.5877747784514167,2.6071009472530045,2.6319741231849165,2.659830745845953,2.693959889736783,2.719102311962264,2.714157199522733,2.67103094971321,2.607019852209139,2.538595950505795,2.48468153615558,2.452969015529532,2.4481606504950073,2.4605362239442816,2.4797931495868255,2.489792153868337,2.4824763086176094,2.4518808845037743,2.4076196290078777,2.360542239941488,2.323723087115377,2.3024094453683133,2.3010455242497385,2.3128659126824465,2.3266992480463013,2.3397184240072226,2.3448171148647408,2.343459596932034,2.33706688897366,2.329409894860727,2.3211985526426835]},\"selected\":{\"id\":\"1280\",\"type\":\"Selection\"},\"selection_policy\":{\"id\":\"1281\",\"type\":\"UnionRenderers\"}},\"id\":\"1262\",\"type\":\"ColumnDataSource\"},{\"attributes\":{\"callback\":null,\"data\":{\"x\":[\"1962\",\"1963\",\"1964\",\"1965\",\"1966\",\"1967\",\"1968\",\"1969\",\"1970\",\"1971\",\"1972\",\"1973\",\"1974\",\"1975\",\"1976\",\"1977\",\"1978\",\"1979\",\"1980\",\"1981\",\"1982\",\"1983\",\"1984\",\"1985\",\"1986\",\"1987\",\"1988\",\"1989\",\"1990\",\"1991\",\"1992\",\"1993\",\"1994\",\"1995\",\"1996\",\"1997\",\"1998\",\"1999\",\"2000\",\"2001\",\"2002\",\"2003\",\"2004\",\"2005\",\"2006\",\"2007\",\"2008\",\"2009\",\"2010\",\"2011\",\"2012\",\"2013\",\"2014\",\"2015\",\"2016\",\"2017\"],\"y\":[1.3554366100415884,1.3340911742524595,1.314236288868774,1.2587996724774217,1.1851707755905116,1.1272456790517988,1.0106016151218853,1.199883035139464,1.0722602047075347,1.1660709064968795,1.1249538038844438,1.0140275392883515,1.1195082254980173,1.05508284524113,0.9004225307954331,0.915098335675841,0.90972598282484,0.9170899183067438,0.897844075907325,0.8796869757260616,0.8312416022955058,0.7887388063325471,0.7479050324677085,0.7469665600503232,0.7687692025491105,0.756794105029075,0.7614220314861823,0.7999211657719725,0.8428821358925818,0.9015976008885606,0.8921392568876548,0.8429305959152359,0.7953669348724737,0.7766177723392309,0.7462178659541623,0.7369460098730288,0.7055281558576856,0.7046912817432563,0.687766613834093,0.7165781748152029,0.7222991988914922,0.7125445414465215,0.7116853100646184,0.7041290534872531,0.7308774051234026,0.7396983966784099,0.7704431012170118,0.7020391166581761,0.6499896423337479,0.5010345900600076,0.6145947197826909,0.6361048346767268,0.6591659962316119,0.6463311041635733,0.6504088384393314,0.5845348434731328]},\"selected\":{\"id\":\"1348\",\"type\":\"Selection\"},\"selection_policy\":{\"id\":\"1349\",\"type\":\"UnionRenderers\"}},\"id\":\"1308\",\"type\":\"ColumnDataSource\"},{\"attributes\":{},\"id\":\"1347\",\"type\":\"UnionRenderers\"},{\"attributes\":{\"label\":{\"value\":\"Developing excluding LDCs\"},\"renderers\":[{\"id\":\"1270\",\"type\":\"GlyphRenderer\"}]},\"id\":\"1282\",\"type\":\"LegendItem\"},{\"attributes\":{\"source\":{\"id\":\"1267\",\"type\":\"ColumnDataSource\"}},\"id\":\"1271\",\"type\":\"CDSView\"},{\"attributes\":{\"text\":\"Population growth (annual %) weighted against Population, total\"},\"id\":\"1216\",\"type\":\"Title\"},{\"attributes\":{},\"id\":\"1237\",\"type\":\"WheelZoomTool\"},{\"attributes\":{\"active_drag\":\"auto\",\"active_inspect\":\"auto\",\"active_multi\":null,\"active_scroll\":\"auto\",\"active_tap\":\"auto\",\"tools\":[{\"id\":\"1236\",\"type\":\"PanTool\"},{\"id\":\"1237\",\"type\":\"WheelZoomTool\"},{\"id\":\"1238\",\"type\":\"BoxZoomTool\"},{\"id\":\"1239\",\"type\":\"SaveTool\"},{\"id\":\"1240\",\"type\":\"ResetTool\"},{\"id\":\"1241\",\"type\":\"HelpTool\"},{\"id\":\"1313\",\"type\":\"HoverTool\"}]},\"id\":\"1242\",\"type\":\"Toolbar\"},{\"attributes\":{},\"id\":\"1278\",\"type\":\"Selection\"},{\"attributes\":{\"callback\":null,\"tooltips\":\"                \\n        <div style=padding=5px>Year:@x</div>\\n        <div style=padding=5px>Value:@y</div>        \\n        \"},\"id\":\"1313\",\"type\":\"HoverTool\"},{\"attributes\":{},\"id\":\"1346\",\"type\":\"Selection\"},{\"attributes\":{\"line_alpha\":0.1,\"line_color\":\"#1f77b4\",\"line_width\":3,\"x\":{\"field\":\"x\"},\"y\":{\"field\":\"y\"}},\"id\":\"1251\",\"type\":\"Line\"},{\"attributes\":{\"fill_alpha\":{\"value\":0.1},\"fill_color\":{\"value\":\"#1f77b4\"},\"line_alpha\":{\"value\":0.1},\"line_color\":{\"value\":\"#1f77b4\"},\"size\":{\"units\":\"screen\",\"value\":1},\"x\":{\"field\":\"x\"},\"y\":{\"field\":\"y\"}},\"id\":\"1264\",\"type\":\"Circle\"},{\"attributes\":{\"line_color\":\"#2CC775\",\"line_width\":3,\"x\":{\"field\":\"x\"},\"y\":{\"field\":\"y\"}},\"id\":\"1289\",\"type\":\"Line\"},{\"attributes\":{},\"id\":\"1279\",\"type\":\"UnionRenderers\"},{\"attributes\":{\"data_source\":{\"id\":\"1262\",\"type\":\"ColumnDataSource\"},\"glyph\":{\"id\":\"1263\",\"type\":\"Circle\"},\"hover_glyph\":null,\"muted_glyph\":null,\"nonselection_glyph\":{\"id\":\"1264\",\"type\":\"Circle\"},\"selection_glyph\":null,\"view\":{\"id\":\"1266\",\"type\":\"CDSView\"}},\"id\":\"1265\",\"type\":\"GlyphRenderer\"},{\"attributes\":{\"label\":{\"value\":\"LDCs\"},\"renderers\":[{\"id\":\"1252\",\"type\":\"GlyphRenderer\"}]},\"id\":\"1261\",\"type\":\"LegendItem\"},{\"attributes\":{\"callback\":null,\"data\":{\"x\":[\"1962\",\"1963\",\"1964\",\"1965\",\"1966\",\"1967\",\"1968\",\"1969\",\"1970\",\"1971\",\"1972\",\"1973\",\"1974\",\"1975\",\"1976\",\"1977\",\"1978\",\"1979\",\"1980\",\"1981\",\"1982\",\"1983\",\"1984\",\"1985\",\"1986\",\"1987\",\"1988\",\"1989\",\"1990\",\"1991\",\"1992\",\"1993\",\"1994\",\"1995\",\"1996\",\"1997\",\"1998\",\"1999\",\"2000\",\"2001\",\"2002\",\"2003\",\"2004\",\"2005\",\"2006\",\"2007\",\"2008\",\"2009\",\"2010\",\"2011\",\"2012\",\"2013\",\"2014\",\"2015\",\"2016\",\"2017\"],\"y\":[2.286374546241369,2.318527218381726,2.362737528493902,2.4115069732019094,2.4645545711484367,2.504453543509315,2.512191780122156,2.4806660003501158,2.4262142064220487,2.3653362866203844,2.3200760153087203,2.298853347529284,2.3098964514187443,2.3441251527920213,2.3854697730184036,2.420100612152978,2.446033784992654,2.459453345789067,2.4669505638308333,2.476316224445003,2.491412095402728,2.5097648388859155,2.530904297879832,2.5534219377201035,2.5719055345705413,2.5877747784514167,2.6071009472530045,2.6319741231849165,2.659830745845953,2.693959889736783,2.719102311962264,2.714157199522733,2.67103094971321,2.607019852209139,2.538595950505795,2.48468153615558,2.452969015529532,2.4481606504950073,2.4605362239442816,2.4797931495868255,2.489792153868337,2.4824763086176094,2.4518808845037743,2.4076196290078777,2.360542239941488,2.323723087115377,2.3024094453683133,2.3010455242497385,2.3128659126824465,2.3266992480463013,2.3397184240072226,2.3448171148647408,2.343459596932034,2.33706688897366,2.329409894860727,2.3211985526426835]},\"selected\":{\"id\":\"1278\",\"type\":\"Selection\"},\"selection_policy\":{\"id\":\"1279\",\"type\":\"UnionRenderers\"}},\"id\":\"1249\",\"type\":\"ColumnDataSource\"},{\"attributes\":{},\"id\":\"1348\",\"type\":\"Selection\"},{\"attributes\":{\"grid_line_color\":null,\"ticker\":{\"id\":\"1227\",\"type\":\"BasicTicker\"}},\"id\":\"1230\",\"type\":\"Grid\"},{\"attributes\":{\"fill_alpha\":{\"value\":0.1},\"fill_color\":{\"value\":\"#1f77b4\"},\"line_alpha\":{\"value\":0.1},\"line_color\":{\"value\":\"#1f77b4\"},\"size\":{\"units\":\"screen\",\"value\":1},\"x\":{\"field\":\"x\"},\"y\":{\"field\":\"y\"}},\"id\":\"1310\",\"type\":\"Circle\"},{\"attributes\":{},\"id\":\"1281\",\"type\":\"UnionRenderers\"},{\"attributes\":{},\"id\":\"1222\",\"type\":\"LinearScale\"},{\"attributes\":{\"line_color\":\"#5430F1\",\"line_width\":3,\"x\":{\"field\":\"x\"},\"y\":{\"field\":\"y\"}},\"id\":\"1268\",\"type\":\"Line\"},{\"attributes\":{\"data_source\":{\"id\":\"1308\",\"type\":\"ColumnDataSource\"},\"glyph\":{\"id\":\"1309\",\"type\":\"Circle\"},\"hover_glyph\":null,\"muted_glyph\":null,\"nonselection_glyph\":{\"id\":\"1310\",\"type\":\"Circle\"},\"selection_glyph\":null,\"view\":{\"id\":\"1312\",\"type\":\"CDSView\"}},\"id\":\"1311\",\"type\":\"GlyphRenderer\"},{\"attributes\":{},\"id\":\"1224\",\"type\":\"LinearScale\"},{\"attributes\":{},\"id\":\"1258\",\"type\":\"BasicTickFormatter\"},{\"attributes\":{},\"id\":\"1256\",\"type\":\"BasicTickFormatter\"},{\"attributes\":{},\"id\":\"1349\",\"type\":\"UnionRenderers\"},{\"attributes\":{\"callback\":null},\"id\":\"1220\",\"type\":\"DataRange1d\"},{\"attributes\":{\"data_source\":{\"id\":\"1288\",\"type\":\"ColumnDataSource\"},\"glyph\":{\"id\":\"1289\",\"type\":\"Line\"},\"hover_glyph\":null,\"muted_glyph\":null,\"nonselection_glyph\":{\"id\":\"1290\",\"type\":\"Line\"},\"selection_glyph\":null,\"view\":{\"id\":\"1292\",\"type\":\"CDSView\"}},\"id\":\"1291\",\"type\":\"GlyphRenderer\"},{\"attributes\":{},\"id\":\"1240\",\"type\":\"ResetTool\"}],\"root_ids\":[\"1215\"]},\"title\":\"Bokeh Application\",\"version\":\"1.4.0\"}};\n",
       "  var render_items = [{\"docid\":\"d0ade33c-93ff-4049-8d73-a23cbb712a6d\",\"roots\":{\"1215\":\"e27f6c08-5536-4f61-af13-a641f81fa191\"}}];\n",
       "  root.Bokeh.embed.embed_items_notebook(docs_json, render_items);\n",
       "\n",
       "  }\n",
       "  if (root.Bokeh !== undefined) {\n",
       "    embed_document(root);\n",
       "  } else {\n",
       "    var attempts = 0;\n",
       "    var timer = setInterval(function(root) {\n",
       "      if (root.Bokeh !== undefined) {\n",
       "        clearInterval(timer);\n",
       "        embed_document(root);\n",
       "      } else {\n",
       "        attempts++;\n",
       "        if (attempts > 100) {\n",
       "          clearInterval(timer);\n",
       "          console.log(\"Bokeh: ERROR: Unable to run BokehJS code because BokehJS library is missing\");\n",
       "        }\n",
       "      }\n",
       "    }, 10, root)\n",
       "  }\n",
       "})(window);"
      ],
      "application/vnd.bokehjs_exec.v0+json": ""
     },
     "metadata": {
      "application/vnd.bokehjs_exec.v0+json": {
       "id": "1215"
      }
     },
     "output_type": "display_data"
    }
   ],
   "source": [
    "# Population growth\n",
    "result = show_weighted_average(years, 'SP.POP.GROW', 'SP.POP.TOTL', \n",
    "                               ['LDCs', 'Developing excluding LDCs', 'OECD'], \n",
    "                                height=400, width=1000, line_width=3)"
   ]
  },
  {
   "cell_type": "markdown",
   "metadata": {
    "slideshow": {
     "slide_type": "slide"
    }
   },
   "source": [
    "# Average population growth in the LDCs is almost double than for other developing countries"
   ]
  },
  {
   "cell_type": "code",
   "execution_count": 8,
   "metadata": {
    "slideshow": {
     "slide_type": "slide"
    }
   },
   "outputs": [
    {
     "data": {
      "text/html": [
       "\n",
       "\n",
       "\n",
       "\n",
       "\n",
       "\n",
       "  <div class=\"bk-root\" id=\"8fea6560-5549-445c-8a61-5a1e517520c6\" data-root-id=\"1458\"></div>\n"
      ]
     },
     "metadata": {},
     "output_type": "display_data"
    },
    {
     "data": {
      "application/javascript": [
       "(function(root) {\n",
       "  function embed_document(root) {\n",
       "    \n",
       "  var docs_json = {\"02a52359-2b7c-4fd2-9275-8fc025e2f03b\":{\"roots\":{\"references\":[{\"attributes\":{\"below\":[{\"id\":\"1469\",\"type\":\"LinearAxis\"}],\"center\":[{\"id\":\"1473\",\"type\":\"Grid\"},{\"id\":\"1478\",\"type\":\"Grid\"},{\"id\":\"1503\",\"type\":\"Legend\"}],\"left\":[{\"id\":\"1474\",\"type\":\"LinearAxis\"}],\"plot_height\":400,\"plot_width\":1000,\"renderers\":[{\"id\":\"1495\",\"type\":\"GlyphRenderer\"},{\"id\":\"1508\",\"type\":\"GlyphRenderer\"},{\"id\":\"1513\",\"type\":\"GlyphRenderer\"},{\"id\":\"1529\",\"type\":\"GlyphRenderer\"},{\"id\":\"1534\",\"type\":\"GlyphRenderer\"},{\"id\":\"1554\",\"type\":\"GlyphRenderer\"}],\"title\":{\"id\":\"1459\",\"type\":\"Title\"},\"toolbar\":{\"id\":\"1485\",\"type\":\"Toolbar\"},\"x_range\":{\"id\":\"1461\",\"type\":\"DataRange1d\"},\"x_scale\":{\"id\":\"1465\",\"type\":\"LinearScale\"},\"y_range\":{\"id\":\"1463\",\"type\":\"DataRange1d\"},\"y_scale\":{\"id\":\"1467\",\"type\":\"LinearScale\"}},\"id\":\"1458\",\"subtype\":\"Figure\",\"type\":\"Plot\"},{\"attributes\":{\"data_source\":{\"id\":\"1510\",\"type\":\"ColumnDataSource\"},\"glyph\":{\"id\":\"1511\",\"type\":\"Line\"},\"hover_glyph\":null,\"muted_glyph\":null,\"nonselection_glyph\":{\"id\":\"1512\",\"type\":\"Line\"},\"selection_glyph\":null,\"view\":{\"id\":\"1514\",\"type\":\"CDSView\"}},\"id\":\"1513\",\"type\":\"GlyphRenderer\"},{\"attributes\":{\"callback\":null,\"tooltips\":\"                \\n        <div style=padding=5px>Year:@x</div>\\n        <div style=padding=5px>Value:@y</div>        \\n        \"},\"id\":\"1556\",\"type\":\"HoverTool\"},{\"attributes\":{\"dimension\":1,\"grid_line_alpha\":0.5,\"ticker\":{\"id\":\"1475\",\"type\":\"BasicTicker\"}},\"id\":\"1478\",\"type\":\"Grid\"},{\"attributes\":{},\"id\":\"1479\",\"type\":\"PanTool\"},{\"attributes\":{\"source\":{\"id\":\"1526\",\"type\":\"ColumnDataSource\"}},\"id\":\"1530\",\"type\":\"CDSView\"},{\"attributes\":{\"source\":{\"id\":\"1551\",\"type\":\"ColumnDataSource\"}},\"id\":\"1555\",\"type\":\"CDSView\"},{\"attributes\":{\"bottom_units\":\"screen\",\"fill_alpha\":{\"value\":0.5},\"fill_color\":{\"value\":\"lightgrey\"},\"left_units\":\"screen\",\"level\":\"overlay\",\"line_alpha\":{\"value\":1.0},\"line_color\":{\"value\":\"black\"},\"line_dash\":[4,4],\"line_width\":{\"value\":2},\"render_mode\":\"css\",\"right_units\":\"screen\",\"top_units\":\"screen\"},\"id\":\"1502\",\"type\":\"BoxAnnotation\"},{\"attributes\":{\"fill_color\":{\"value\":\"#5430F1\"},\"line_color\":{\"value\":\"#5430F1\"},\"size\":{\"units\":\"screen\",\"value\":1},\"x\":{\"field\":\"x\"},\"y\":{\"field\":\"y\"}},\"id\":\"1527\",\"type\":\"Circle\"},{\"attributes\":{},\"id\":\"1522\",\"type\":\"UnionRenderers\"},{\"attributes\":{\"data_source\":{\"id\":\"1551\",\"type\":\"ColumnDataSource\"},\"glyph\":{\"id\":\"1552\",\"type\":\"Circle\"},\"hover_glyph\":null,\"muted_glyph\":null,\"nonselection_glyph\":{\"id\":\"1553\",\"type\":\"Circle\"},\"selection_glyph\":null,\"view\":{\"id\":\"1555\",\"type\":\"CDSView\"}},\"id\":\"1554\",\"type\":\"GlyphRenderer\"},{\"attributes\":{},\"id\":\"1484\",\"type\":\"HelpTool\"},{\"attributes\":{},\"id\":\"1483\",\"type\":\"ResetTool\"},{\"attributes\":{},\"id\":\"1475\",\"type\":\"BasicTicker\"},{\"attributes\":{},\"id\":\"1523\",\"type\":\"Selection\"},{\"attributes\":{\"label\":{\"value\":\"Developing excluding LDCs\"},\"renderers\":[{\"id\":\"1513\",\"type\":\"GlyphRenderer\"}]},\"id\":\"1525\",\"type\":\"LegendItem\"},{\"attributes\":{\"line_color\":\"#FA1857\",\"line_width\":2,\"x\":{\"field\":\"x\"},\"y\":{\"field\":\"y\"}},\"id\":\"1493\",\"type\":\"Line\"},{\"attributes\":{\"callback\":null,\"data\":{\"x\":[\"1970\",\"1971\",\"1972\",\"1973\",\"1974\",\"1975\",\"1976\",\"1977\",\"1978\",\"1979\",\"1980\",\"1981\",\"1982\",\"1983\",\"1984\",\"1985\",\"1986\",\"1987\",\"1988\",\"1989\",\"1990\",\"1991\",\"1992\",\"1993\",\"1994\",\"1995\",\"1996\",\"1997\",\"1998\",\"1999\",\"2000\",\"2001\",\"2002\",\"2003\",\"2004\",\"2005\",\"2006\",\"2007\",\"2008\",\"2009\",\"2010\",\"2011\",\"2012\",\"2013\",\"2014\",\"2015\",\"2016\"],\"y\":[9.980984625932717,6.142086562249392,5.49524318968822,6.755019019705574,5.69739334641279,4.575246926898226,5.940246930695465,5.837392925117238,4.747010068078586,6.3794100759948815,6.679926868992973,2.2153366606622282,-0.1349784980871657,0.6775799522852956,4.863837478236739,3.964285597304646,5.151324181673996,4.642479767349732,4.996126976265806,3.8147392867079386,7.0404011674791755,4.2701600631461485,4.998896366999276,5.390288327882468,6.064226958452284,4.815344701036855,5.9316396430033285,5.367820154741937,3.151150083032216,3.1264569986451565,5.409329553821824,2.859379117494541,4.278655355939796,6.142560985170195,7.7364695106917445,6.968743861285385,7.790698287674111,8.031223551791909,5.636961202717234,3.579163526769731,8.00594539640993,6.7868136251031554,5.987251482073588,5.63288698354127,5.010709786506495,4.900996199546361,4.58986503216058]},\"selected\":{\"id\":\"1548\",\"type\":\"Selection\"},\"selection_policy\":{\"id\":\"1549\",\"type\":\"UnionRenderers\"}},\"id\":\"1526\",\"type\":\"ColumnDataSource\"},{\"attributes\":{\"text\":\"GDP growth (annual %) weighted against GDP (current US$)\"},\"id\":\"1459\",\"type\":\"Title\"},{\"attributes\":{\"line_alpha\":0.1,\"line_color\":\"#1f77b4\",\"line_width\":2,\"x\":{\"field\":\"x\"},\"y\":{\"field\":\"y\"}},\"id\":\"1494\",\"type\":\"Line\"},{\"attributes\":{\"active_drag\":\"auto\",\"active_inspect\":\"auto\",\"active_multi\":null,\"active_scroll\":\"auto\",\"active_tap\":\"auto\",\"tools\":[{\"id\":\"1479\",\"type\":\"PanTool\"},{\"id\":\"1480\",\"type\":\"WheelZoomTool\"},{\"id\":\"1481\",\"type\":\"BoxZoomTool\"},{\"id\":\"1482\",\"type\":\"SaveTool\"},{\"id\":\"1483\",\"type\":\"ResetTool\"},{\"id\":\"1484\",\"type\":\"HelpTool\"},{\"id\":\"1556\",\"type\":\"HoverTool\"}]},\"id\":\"1485\",\"type\":\"Toolbar\"},{\"attributes\":{},\"id\":\"1482\",\"type\":\"SaveTool\"},{\"attributes\":{\"fill_alpha\":{\"value\":0.1},\"fill_color\":{\"value\":\"#1f77b4\"},\"line_alpha\":{\"value\":0.1},\"line_color\":{\"value\":\"#1f77b4\"},\"size\":{\"units\":\"screen\",\"value\":1},\"x\":{\"field\":\"x\"},\"y\":{\"field\":\"y\"}},\"id\":\"1553\",\"type\":\"Circle\"},{\"attributes\":{},\"id\":\"1521\",\"type\":\"Selection\"},{\"attributes\":{\"source\":{\"id\":\"1510\",\"type\":\"ColumnDataSource\"}},\"id\":\"1514\",\"type\":\"CDSView\"},{\"attributes\":{\"callback\":null,\"data\":{\"x\":[\"1970\",\"1971\",\"1972\",\"1973\",\"1974\",\"1975\",\"1976\",\"1977\",\"1978\",\"1979\",\"1980\",\"1981\",\"1982\",\"1983\",\"1984\",\"1985\",\"1986\",\"1987\",\"1988\",\"1989\",\"1990\",\"1991\",\"1992\",\"1993\",\"1994\",\"1995\",\"1996\",\"1997\",\"1998\",\"1999\",\"2000\",\"2001\",\"2002\",\"2003\",\"2004\",\"2005\",\"2006\",\"2007\",\"2008\",\"2009\",\"2010\",\"2011\",\"2012\",\"2013\",\"2014\",\"2015\",\"2016\"],\"y\":[1.9708658593606905,3.684984894094831,5.393537488740294,6.047565306102646,1.037079430634777,0.30511231926720417,4.90047121773208,3.803624497401075,4.457622339125099,3.9225516705022514,1.3073205982921066,2.231194883624438,0.11807402117538779,3.179800913000088,5.13557675252695,3.8834678570238896,3.1321446863588394,3.565913370159357,4.784468573857565,3.885551357314172,3.0858902716314973,1.5023307102368753,2.006477569857466,1.1186648061307904,3.023970889412698,2.738880201235089,3.019735197420786,3.407154369871777,2.8517755426639058,3.250401169768282,3.96578339531242,1.3389017882543195,1.530805075821244,2.003809153023252,3.1523786284378,2.7759068425936033,3.038993692550884,2.6003543420958644,0.2926102829452506,-3.475942066951403,2.9134969699961335,1.8126881437242326,1.347580599795485,1.4935732368653372,2.117249469316046,2.512564495187938,1.7438260767094502]},\"selected\":{\"id\":\"1609\",\"type\":\"Selection\"},\"selection_policy\":{\"id\":\"1610\",\"type\":\"UnionRenderers\"}},\"id\":\"1551\",\"type\":\"ColumnDataSource\"},{\"attributes\":{\"grid_line_color\":null,\"ticker\":{\"id\":\"1470\",\"type\":\"BasicTicker\"}},\"id\":\"1473\",\"type\":\"Grid\"},{\"attributes\":{\"label\":{\"value\":\"OECD\"},\"renderers\":[{\"id\":\"1534\",\"type\":\"GlyphRenderer\"}]},\"id\":\"1550\",\"type\":\"LegendItem\"},{\"attributes\":{\"source\":{\"id\":\"1505\",\"type\":\"ColumnDataSource\"}},\"id\":\"1509\",\"type\":\"CDSView\"},{\"attributes\":{\"axis_label\":\"NY.GDP.MKTP.KD.ZG\",\"formatter\":{\"id\":\"1501\",\"type\":\"BasicTickFormatter\"},\"ticker\":{\"id\":\"1475\",\"type\":\"BasicTicker\"}},\"id\":\"1474\",\"type\":\"LinearAxis\"},{\"attributes\":{\"source\":{\"id\":\"1492\",\"type\":\"ColumnDataSource\"}},\"id\":\"1496\",\"type\":\"CDSView\"},{\"attributes\":{\"line_color\":\"#5430F1\",\"line_width\":2,\"x\":{\"field\":\"x\"},\"y\":{\"field\":\"y\"}},\"id\":\"1511\",\"type\":\"Line\"},{\"attributes\":{},\"id\":\"1546\",\"type\":\"Selection\"},{\"attributes\":{},\"id\":\"1610\",\"type\":\"UnionRenderers\"},{\"attributes\":{},\"id\":\"1470\",\"type\":\"BasicTicker\"},{\"attributes\":{\"label\":{\"value\":\"LDCs\"},\"renderers\":[{\"id\":\"1495\",\"type\":\"GlyphRenderer\"}]},\"id\":\"1504\",\"type\":\"LegendItem\"},{\"attributes\":{\"line_alpha\":0.1,\"line_color\":\"#1f77b4\",\"line_width\":2,\"x\":{\"field\":\"x\"},\"y\":{\"field\":\"y\"}},\"id\":\"1533\",\"type\":\"Line\"},{\"attributes\":{},\"id\":\"1524\",\"type\":\"UnionRenderers\"},{\"attributes\":{\"callback\":null,\"data\":{\"x\":[\"1970\",\"1971\",\"1972\",\"1973\",\"1974\",\"1975\",\"1976\",\"1977\",\"1978\",\"1979\",\"1980\",\"1981\",\"1982\",\"1983\",\"1984\",\"1985\",\"1986\",\"1987\",\"1988\",\"1989\",\"1990\",\"1991\",\"1992\",\"1993\",\"1994\",\"1995\",\"1996\",\"1997\",\"1998\",\"1999\",\"2000\",\"2001\",\"2002\",\"2003\",\"2004\",\"2005\",\"2006\",\"2007\",\"2008\",\"2009\",\"2010\",\"2011\",\"2012\",\"2013\",\"2014\",\"2015\",\"2016\"],\"y\":[4.324289937914565,0.42360608796348387,-2.202032190166116,2.013673659496385,6.487946238259491,0.3132201242250357,4.787477594442745,2.7319815155627922,0.4520050614180213,2.111979073093675,1.163064248947674,3.7648080745291694,1.3834692663131323,1.6479123774393298,1.4149009460301931,0.8671757550385526,3.9296884018418528,5.862101462559562,2.929609121727588,2.7944943158361846,1.170192545954521,1.9282855452641556,0.40941781118541093,1.3156461346437436,1.1183077703131774,5.666972473781772,6.064918341025735,4.68929386808431,3.5009371502909974,4.318839922601917,3.7973936234836003,5.277223721229322,4.788670883078557,5.402403301512716,6.807366330677271,8.200702571122935,7.751551316335285,8.328847031953092,7.1924278498861645,4.766671300007055,6.252702054296805,3.860184274779867,5.402966544277843,5.816223272082946,5.409726719932504,3.9901864204329245,4.060111232618751]},\"selected\":{\"id\":\"1521\",\"type\":\"Selection\"},\"selection_policy\":{\"id\":\"1522\",\"type\":\"UnionRenderers\"}},\"id\":\"1492\",\"type\":\"ColumnDataSource\"},{\"attributes\":{\"source\":{\"id\":\"1531\",\"type\":\"ColumnDataSource\"}},\"id\":\"1535\",\"type\":\"CDSView\"},{\"attributes\":{\"fill_color\":{\"value\":\"#2CC775\"},\"line_color\":{\"value\":\"#2CC775\"},\"size\":{\"units\":\"screen\",\"value\":1},\"x\":{\"field\":\"x\"},\"y\":{\"field\":\"y\"}},\"id\":\"1552\",\"type\":\"Circle\"},{\"attributes\":{\"axis_label\":\"Years\",\"formatter\":{\"id\":\"1499\",\"type\":\"BasicTickFormatter\"},\"ticker\":{\"id\":\"1470\",\"type\":\"BasicTicker\"}},\"id\":\"1469\",\"type\":\"LinearAxis\"},{\"attributes\":{\"data_source\":{\"id\":\"1531\",\"type\":\"ColumnDataSource\"},\"glyph\":{\"id\":\"1532\",\"type\":\"Line\"},\"hover_glyph\":null,\"muted_glyph\":null,\"nonselection_glyph\":{\"id\":\"1533\",\"type\":\"Line\"},\"selection_glyph\":null,\"view\":{\"id\":\"1535\",\"type\":\"CDSView\"}},\"id\":\"1534\",\"type\":\"GlyphRenderer\"},{\"attributes\":{},\"id\":\"1501\",\"type\":\"BasicTickFormatter\"},{\"attributes\":{},\"id\":\"1609\",\"type\":\"Selection\"},{\"attributes\":{\"line_color\":\"#2CC775\",\"line_width\":2,\"x\":{\"field\":\"x\"},\"y\":{\"field\":\"y\"}},\"id\":\"1532\",\"type\":\"Line\"},{\"attributes\":{\"data_source\":{\"id\":\"1492\",\"type\":\"ColumnDataSource\"},\"glyph\":{\"id\":\"1493\",\"type\":\"Line\"},\"hover_glyph\":null,\"muted_glyph\":null,\"nonselection_glyph\":{\"id\":\"1494\",\"type\":\"Line\"},\"selection_glyph\":null,\"view\":{\"id\":\"1496\",\"type\":\"CDSView\"}},\"id\":\"1495\",\"type\":\"GlyphRenderer\"},{\"attributes\":{},\"id\":\"1467\",\"type\":\"LinearScale\"},{\"attributes\":{\"callback\":null,\"data\":{\"x\":[\"1970\",\"1971\",\"1972\",\"1973\",\"1974\",\"1975\",\"1976\",\"1977\",\"1978\",\"1979\",\"1980\",\"1981\",\"1982\",\"1983\",\"1984\",\"1985\",\"1986\",\"1987\",\"1988\",\"1989\",\"1990\",\"1991\",\"1992\",\"1993\",\"1994\",\"1995\",\"1996\",\"1997\",\"1998\",\"1999\",\"2000\",\"2001\",\"2002\",\"2003\",\"2004\",\"2005\",\"2006\",\"2007\",\"2008\",\"2009\",\"2010\",\"2011\",\"2012\",\"2013\",\"2014\",\"2015\",\"2016\"],\"y\":[4.324289937914565,0.42360608796348387,-2.202032190166116,2.013673659496385,6.487946238259491,0.3132201242250357,4.787477594442745,2.7319815155627922,0.4520050614180213,2.111979073093675,1.163064248947674,3.7648080745291694,1.3834692663131323,1.6479123774393298,1.4149009460301931,0.8671757550385526,3.9296884018418528,5.862101462559562,2.929609121727588,2.7944943158361846,1.170192545954521,1.9282855452641556,0.40941781118541093,1.3156461346437436,1.1183077703131774,5.666972473781772,6.064918341025735,4.68929386808431,3.5009371502909974,4.318839922601917,3.7973936234836003,5.277223721229322,4.788670883078557,5.402403301512716,6.807366330677271,8.200702571122935,7.751551316335285,8.328847031953092,7.1924278498861645,4.766671300007055,6.252702054296805,3.860184274779867,5.402966544277843,5.816223272082946,5.409726719932504,3.9901864204329245,4.060111232618751]},\"selected\":{\"id\":\"1523\",\"type\":\"Selection\"},\"selection_policy\":{\"id\":\"1524\",\"type\":\"UnionRenderers\"}},\"id\":\"1505\",\"type\":\"ColumnDataSource\"},{\"attributes\":{},\"id\":\"1547\",\"type\":\"UnionRenderers\"},{\"attributes\":{},\"id\":\"1465\",\"type\":\"LinearScale\"},{\"attributes\":{},\"id\":\"1608\",\"type\":\"UnionRenderers\"},{\"attributes\":{\"fill_color\":{\"value\":\"#FA1857\"},\"line_color\":{\"value\":\"#FA1857\"},\"size\":{\"units\":\"screen\",\"value\":1},\"x\":{\"field\":\"x\"},\"y\":{\"field\":\"y\"}},\"id\":\"1506\",\"type\":\"Circle\"},{\"attributes\":{\"line_alpha\":0.1,\"line_color\":\"#1f77b4\",\"line_width\":2,\"x\":{\"field\":\"x\"},\"y\":{\"field\":\"y\"}},\"id\":\"1512\",\"type\":\"Line\"},{\"attributes\":{\"callback\":null,\"data\":{\"x\":[\"1970\",\"1971\",\"1972\",\"1973\",\"1974\",\"1975\",\"1976\",\"1977\",\"1978\",\"1979\",\"1980\",\"1981\",\"1982\",\"1983\",\"1984\",\"1985\",\"1986\",\"1987\",\"1988\",\"1989\",\"1990\",\"1991\",\"1992\",\"1993\",\"1994\",\"1995\",\"1996\",\"1997\",\"1998\",\"1999\",\"2000\",\"2001\",\"2002\",\"2003\",\"2004\",\"2005\",\"2006\",\"2007\",\"2008\",\"2009\",\"2010\",\"2011\",\"2012\",\"2013\",\"2014\",\"2015\",\"2016\"],\"y\":[1.9708658593606905,3.684984894094831,5.393537488740294,6.047565306102646,1.037079430634777,0.30511231926720417,4.90047121773208,3.803624497401075,4.457622339125099,3.9225516705022514,1.3073205982921066,2.231194883624438,0.11807402117538779,3.179800913000088,5.13557675252695,3.8834678570238896,3.1321446863588394,3.565913370159357,4.784468573857565,3.885551357314172,3.0858902716314973,1.5023307102368753,2.006477569857466,1.1186648061307904,3.023970889412698,2.738880201235089,3.019735197420786,3.407154369871777,2.8517755426639058,3.250401169768282,3.96578339531242,1.3389017882543195,1.530805075821244,2.003809153023252,3.1523786284378,2.7759068425936033,3.038993692550884,2.6003543420958644,0.2926102829452506,-3.475942066951403,2.9134969699961335,1.8126881437242326,1.347580599795485,1.4935732368653372,2.117249469316046,2.512564495187938,1.7438260767094502]},\"selected\":{\"id\":\"1607\",\"type\":\"Selection\"},\"selection_policy\":{\"id\":\"1608\",\"type\":\"UnionRenderers\"}},\"id\":\"1531\",\"type\":\"ColumnDataSource\"},{\"attributes\":{\"callback\":null,\"data\":{\"x\":[\"1970\",\"1971\",\"1972\",\"1973\",\"1974\",\"1975\",\"1976\",\"1977\",\"1978\",\"1979\",\"1980\",\"1981\",\"1982\",\"1983\",\"1984\",\"1985\",\"1986\",\"1987\",\"1988\",\"1989\",\"1990\",\"1991\",\"1992\",\"1993\",\"1994\",\"1995\",\"1996\",\"1997\",\"1998\",\"1999\",\"2000\",\"2001\",\"2002\",\"2003\",\"2004\",\"2005\",\"2006\",\"2007\",\"2008\",\"2009\",\"2010\",\"2011\",\"2012\",\"2013\",\"2014\",\"2015\",\"2016\"],\"y\":[9.980984625932717,6.142086562249392,5.49524318968822,6.755019019705574,5.69739334641279,4.575246926898226,5.940246930695465,5.837392925117238,4.747010068078586,6.3794100759948815,6.679926868992973,2.2153366606622282,-0.1349784980871657,0.6775799522852956,4.863837478236739,3.964285597304646,5.151324181673996,4.642479767349732,4.996126976265806,3.8147392867079386,7.0404011674791755,4.2701600631461485,4.998896366999276,5.390288327882468,6.064226958452284,4.815344701036855,5.9316396430033285,5.367820154741937,3.151150083032216,3.1264569986451565,5.409329553821824,2.859379117494541,4.278655355939796,6.142560985170195,7.7364695106917445,6.968743861285385,7.790698287674111,8.031223551791909,5.636961202717234,3.579163526769731,8.00594539640993,6.7868136251031554,5.987251482073588,5.63288698354127,5.010709786506495,4.900996199546361,4.58986503216058]},\"selected\":{\"id\":\"1546\",\"type\":\"Selection\"},\"selection_policy\":{\"id\":\"1547\",\"type\":\"UnionRenderers\"}},\"id\":\"1510\",\"type\":\"ColumnDataSource\"},{\"attributes\":{\"callback\":null},\"id\":\"1461\",\"type\":\"DataRange1d\"},{\"attributes\":{\"overlay\":{\"id\":\"1502\",\"type\":\"BoxAnnotation\"}},\"id\":\"1481\",\"type\":\"BoxZoomTool\"},{\"attributes\":{},\"id\":\"1549\",\"type\":\"UnionRenderers\"},{\"attributes\":{},\"id\":\"1607\",\"type\":\"Selection\"},{\"attributes\":{\"data_source\":{\"id\":\"1505\",\"type\":\"ColumnDataSource\"},\"glyph\":{\"id\":\"1506\",\"type\":\"Circle\"},\"hover_glyph\":null,\"muted_glyph\":null,\"nonselection_glyph\":{\"id\":\"1507\",\"type\":\"Circle\"},\"selection_glyph\":null,\"view\":{\"id\":\"1509\",\"type\":\"CDSView\"}},\"id\":\"1508\",\"type\":\"GlyphRenderer\"},{\"attributes\":{},\"id\":\"1499\",\"type\":\"BasicTickFormatter\"},{\"attributes\":{\"fill_alpha\":{\"value\":0.1},\"fill_color\":{\"value\":\"#1f77b4\"},\"line_alpha\":{\"value\":0.1},\"line_color\":{\"value\":\"#1f77b4\"},\"size\":{\"units\":\"screen\",\"value\":1},\"x\":{\"field\":\"x\"},\"y\":{\"field\":\"y\"}},\"id\":\"1507\",\"type\":\"Circle\"},{\"attributes\":{\"fill_alpha\":{\"value\":0.1},\"fill_color\":{\"value\":\"#1f77b4\"},\"line_alpha\":{\"value\":0.1},\"line_color\":{\"value\":\"#1f77b4\"},\"size\":{\"units\":\"screen\",\"value\":1},\"x\":{\"field\":\"x\"},\"y\":{\"field\":\"y\"}},\"id\":\"1528\",\"type\":\"Circle\"},{\"attributes\":{\"callback\":null},\"id\":\"1463\",\"type\":\"DataRange1d\"},{\"attributes\":{},\"id\":\"1480\",\"type\":\"WheelZoomTool\"},{\"attributes\":{},\"id\":\"1548\",\"type\":\"Selection\"},{\"attributes\":{\"items\":[{\"id\":\"1504\",\"type\":\"LegendItem\"},{\"id\":\"1525\",\"type\":\"LegendItem\"},{\"id\":\"1550\",\"type\":\"LegendItem\"}],\"location\":\"bottom_left\"},\"id\":\"1503\",\"type\":\"Legend\"},{\"attributes\":{\"data_source\":{\"id\":\"1526\",\"type\":\"ColumnDataSource\"},\"glyph\":{\"id\":\"1527\",\"type\":\"Circle\"},\"hover_glyph\":null,\"muted_glyph\":null,\"nonselection_glyph\":{\"id\":\"1528\",\"type\":\"Circle\"},\"selection_glyph\":null,\"view\":{\"id\":\"1530\",\"type\":\"CDSView\"}},\"id\":\"1529\",\"type\":\"GlyphRenderer\"}],\"root_ids\":[\"1458\"]},\"title\":\"Bokeh Application\",\"version\":\"1.4.0\"}};\n",
       "  var render_items = [{\"docid\":\"02a52359-2b7c-4fd2-9275-8fc025e2f03b\",\"roots\":{\"1458\":\"8fea6560-5549-445c-8a61-5a1e517520c6\"}}];\n",
       "  root.Bokeh.embed.embed_items_notebook(docs_json, render_items);\n",
       "\n",
       "  }\n",
       "  if (root.Bokeh !== undefined) {\n",
       "    embed_document(root);\n",
       "  } else {\n",
       "    var attempts = 0;\n",
       "    var timer = setInterval(function(root) {\n",
       "      if (root.Bokeh !== undefined) {\n",
       "        clearInterval(timer);\n",
       "        embed_document(root);\n",
       "      } else {\n",
       "        attempts++;\n",
       "        if (attempts > 100) {\n",
       "          clearInterval(timer);\n",
       "          console.log(\"Bokeh: ERROR: Unable to run BokehJS code because BokehJS library is missing\");\n",
       "        }\n",
       "      }\n",
       "    }, 10, root)\n",
       "  }\n",
       "})(window);"
      ],
      "application/vnd.bokehjs_exec.v0+json": ""
     },
     "metadata": {
      "application/vnd.bokehjs_exec.v0+json": {
       "id": "1458"
      }
     },
     "output_type": "display_data"
    }
   ],
   "source": [
    "# GDP growth\n",
    "years = list(map(str, list(range(1970,2017))))\n",
    "result = show_weighted_average(years, 'NY.GDP.MKTP.KD.ZG', 'NY.GDP.MKTP.CD', \n",
    "                               ['LDCs', 'Developing excluding LDCs', 'OECD'], \n",
    "                                height=400, width=1000, line_width=2, marker_width = 4)"
   ]
  },
  {
   "cell_type": "markdown",
   "metadata": {
    "slideshow": {
     "slide_type": "slide"
    }
   },
   "source": [
    "# Economic and demographic growth are closely intertwined\n",
    "\n",
    "# Accelerating poverty erradication requires higher growth rates (The IPoA set a target of 7%)\n",
    "\n",
    "# Economic growth should facilitate the process of economic transformation and support poverty erradication"
   ]
  },
  {
   "cell_type": "code",
   "execution_count": 5,
   "metadata": {
    "ExecuteTime": {
     "end_time": "2019-10-25T14:23:48.553769Z",
     "start_time": "2019-10-25T14:23:47.482012Z"
    },
    "slideshow": {
     "slide_type": "slide"
    }
   },
   "outputs": [
    {
     "data": {
      "text/html": [
       "\n",
       "\n",
       "\n",
       "\n",
       "\n",
       "\n",
       "  <div class=\"bk-root\" id=\"855b5dfc-a48b-4273-a7ac-10b55b4eca74\" data-root-id=\"1085\"></div>\n"
      ]
     },
     "metadata": {},
     "output_type": "display_data"
    },
    {
     "data": {
      "application/javascript": [
       "(function(root) {\n",
       "  function embed_document(root) {\n",
       "    \n",
       "  var docs_json = {\"ef442b15-0c6d-45bf-a66f-ffd74aec331a\":{\"roots\":{\"references\":[{\"attributes\":{\"below\":[{\"id\":\"1096\",\"type\":\"LinearAxis\"}],\"center\":[{\"id\":\"1100\",\"type\":\"Grid\"},{\"id\":\"1105\",\"type\":\"Grid\"},{\"id\":\"1130\",\"type\":\"Legend\"}],\"left\":[{\"id\":\"1101\",\"type\":\"LinearAxis\"}],\"plot_height\":400,\"plot_width\":1000,\"renderers\":[{\"id\":\"1122\",\"type\":\"GlyphRenderer\"},{\"id\":\"1135\",\"type\":\"GlyphRenderer\"}],\"title\":{\"id\":\"1086\",\"type\":\"Title\"},\"toolbar\":{\"id\":\"1112\",\"type\":\"Toolbar\"},\"x_range\":{\"id\":\"1088\",\"type\":\"DataRange1d\"},\"x_scale\":{\"id\":\"1092\",\"type\":\"LinearScale\"},\"y_range\":{\"id\":\"1090\",\"type\":\"DataRange1d\"},\"y_scale\":{\"id\":\"1094\",\"type\":\"LinearScale\"}},\"id\":\"1085\",\"subtype\":\"Figure\",\"type\":\"Plot\"},{\"attributes\":{\"fill_color\":{\"value\":\"#FA1857\"},\"line_color\":{\"value\":\"#FA1857\"},\"size\":{\"units\":\"screen\",\"value\":3},\"x\":{\"field\":\"x\"},\"y\":{\"field\":\"y\"}},\"id\":\"1133\",\"type\":\"Circle\"},{\"attributes\":{},\"id\":\"1097\",\"type\":\"BasicTicker\"},{\"attributes\":{\"items\":[{\"id\":\"1131\",\"type\":\"LegendItem\"}],\"location\":\"bottom_left\"},\"id\":\"1130\",\"type\":\"Legend\"},{\"attributes\":{\"text\":\"Projected population, thousands\"},\"id\":\"1086\",\"type\":\"Title\"},{\"attributes\":{\"source\":{\"id\":\"1119\",\"type\":\"ColumnDataSource\"}},\"id\":\"1123\",\"type\":\"CDSView\"},{\"attributes\":{},\"id\":\"1127\",\"type\":\"BasicTickFormatter\"},{\"attributes\":{\"bottom_units\":\"screen\",\"fill_alpha\":{\"value\":0.5},\"fill_color\":{\"value\":\"lightgrey\"},\"left_units\":\"screen\",\"level\":\"overlay\",\"line_alpha\":{\"value\":1.0},\"line_color\":{\"value\":\"black\"},\"line_dash\":[4,4],\"line_width\":{\"value\":2},\"render_mode\":\"css\",\"right_units\":\"screen\",\"top_units\":\"screen\"},\"id\":\"1129\",\"type\":\"BoxAnnotation\"},{\"attributes\":{\"callback\":null,\"data\":{\"x\":[2020,2025,2030,2035,2040,2045,2050,2055,2060,2065,2070,2075,2080,2085,2090,2095,2100],\"y\":[1057438.163,1182376.585,1313758.882,1450358.0589999997,1590723.5140000007,1733412.6489999997,1876797.781,2019337.702000001,2159628.188,2296253.5399999996,2427682.2370000007,2552545.8049999997,2669675.032999999,2778054.0900000003,2877186.7590000005,2966790.3559999997,3046778.7830000003]},\"selected\":{\"id\":\"1152\",\"type\":\"Selection\"},\"selection_policy\":{\"id\":\"1153\",\"type\":\"UnionRenderers\"}},\"id\":\"1119\",\"type\":\"ColumnDataSource\"},{\"attributes\":{\"axis_label\":\"Years\",\"formatter\":{\"id\":\"1125\",\"type\":\"BasicTickFormatter\"},\"ticker\":{\"id\":\"1097\",\"type\":\"BasicTicker\"}},\"id\":\"1096\",\"type\":\"LinearAxis\"},{\"attributes\":{\"label\":{\"value\":\"LDCs\"},\"renderers\":[{\"id\":\"1122\",\"type\":\"GlyphRenderer\"}]},\"id\":\"1131\",\"type\":\"LegendItem\"},{\"attributes\":{\"grid_line_color\":null,\"ticker\":{\"id\":\"1097\",\"type\":\"BasicTicker\"}},\"id\":\"1100\",\"type\":\"Grid\"},{\"attributes\":{\"data_source\":{\"id\":\"1119\",\"type\":\"ColumnDataSource\"},\"glyph\":{\"id\":\"1120\",\"type\":\"Line\"},\"hover_glyph\":null,\"muted_glyph\":null,\"nonselection_glyph\":{\"id\":\"1121\",\"type\":\"Line\"},\"selection_glyph\":null,\"view\":{\"id\":\"1123\",\"type\":\"CDSView\"}},\"id\":\"1122\",\"type\":\"GlyphRenderer\"},{\"attributes\":{},\"id\":\"1092\",\"type\":\"LinearScale\"},{\"attributes\":{\"active_drag\":\"auto\",\"active_inspect\":\"auto\",\"active_multi\":null,\"active_scroll\":\"auto\",\"active_tap\":\"auto\",\"tools\":[{\"id\":\"1106\",\"type\":\"PanTool\"},{\"id\":\"1107\",\"type\":\"WheelZoomTool\"},{\"id\":\"1108\",\"type\":\"BoxZoomTool\"},{\"id\":\"1109\",\"type\":\"SaveTool\"},{\"id\":\"1110\",\"type\":\"ResetTool\"},{\"id\":\"1111\",\"type\":\"HelpTool\"},{\"id\":\"1137\",\"type\":\"HoverTool\"}]},\"id\":\"1112\",\"type\":\"Toolbar\"},{\"attributes\":{\"callback\":null,\"tooltips\":\"                \\n        <div style=padding=5px>Year:@x</div>\\n        <div style=padding=5px>Value:@y</div>        \\n        \"},\"id\":\"1137\",\"type\":\"HoverTool\"},{\"attributes\":{},\"id\":\"1155\",\"type\":\"UnionRenderers\"},{\"attributes\":{\"callback\":null},\"id\":\"1088\",\"type\":\"DataRange1d\"},{\"attributes\":{\"line_color\":\"#FA1857\",\"line_width\":3,\"x\":{\"field\":\"x\"},\"y\":{\"field\":\"y\"}},\"id\":\"1120\",\"type\":\"Line\"},{\"attributes\":{\"callback\":null,\"data\":{\"x\":[2020,2025,2030,2035,2040,2045,2050,2055,2060,2065,2070,2075,2080,2085,2090,2095,2100],\"y\":[1057438.163,1182376.585,1313758.882,1450358.0589999997,1590723.5140000007,1733412.6489999997,1876797.781,2019337.702000001,2159628.188,2296253.5399999996,2427682.2370000007,2552545.8049999997,2669675.032999999,2778054.0900000003,2877186.7590000005,2966790.3559999997,3046778.7830000003]},\"selected\":{\"id\":\"1154\",\"type\":\"Selection\"},\"selection_policy\":{\"id\":\"1155\",\"type\":\"UnionRenderers\"}},\"id\":\"1132\",\"type\":\"ColumnDataSource\"},{\"attributes\":{\"fill_alpha\":{\"value\":0.1},\"fill_color\":{\"value\":\"#1f77b4\"},\"line_alpha\":{\"value\":0.1},\"line_color\":{\"value\":\"#1f77b4\"},\"size\":{\"units\":\"screen\",\"value\":3},\"x\":{\"field\":\"x\"},\"y\":{\"field\":\"y\"}},\"id\":\"1134\",\"type\":\"Circle\"},{\"attributes\":{},\"id\":\"1106\",\"type\":\"PanTool\"},{\"attributes\":{\"data_source\":{\"id\":\"1132\",\"type\":\"ColumnDataSource\"},\"glyph\":{\"id\":\"1133\",\"type\":\"Circle\"},\"hover_glyph\":null,\"muted_glyph\":null,\"nonselection_glyph\":{\"id\":\"1134\",\"type\":\"Circle\"},\"selection_glyph\":null,\"view\":{\"id\":\"1136\",\"type\":\"CDSView\"}},\"id\":\"1135\",\"type\":\"GlyphRenderer\"},{\"attributes\":{},\"id\":\"1107\",\"type\":\"WheelZoomTool\"},{\"attributes\":{\"overlay\":{\"id\":\"1129\",\"type\":\"BoxAnnotation\"}},\"id\":\"1108\",\"type\":\"BoxZoomTool\"},{\"attributes\":{\"source\":{\"id\":\"1132\",\"type\":\"ColumnDataSource\"}},\"id\":\"1136\",\"type\":\"CDSView\"},{\"attributes\":{},\"id\":\"1153\",\"type\":\"UnionRenderers\"},{\"attributes\":{},\"id\":\"1109\",\"type\":\"SaveTool\"},{\"attributes\":{\"line_alpha\":0.1,\"line_color\":\"#1f77b4\",\"line_width\":3,\"x\":{\"field\":\"x\"},\"y\":{\"field\":\"y\"}},\"id\":\"1121\",\"type\":\"Line\"},{\"attributes\":{},\"id\":\"1094\",\"type\":\"LinearScale\"},{\"attributes\":{},\"id\":\"1152\",\"type\":\"Selection\"},{\"attributes\":{\"callback\":null},\"id\":\"1090\",\"type\":\"DataRange1d\"},{\"attributes\":{},\"id\":\"1110\",\"type\":\"ResetTool\"},{\"attributes\":{},\"id\":\"1102\",\"type\":\"BasicTicker\"},{\"attributes\":{},\"id\":\"1111\",\"type\":\"HelpTool\"},{\"attributes\":{},\"id\":\"1154\",\"type\":\"Selection\"},{\"attributes\":{\"axis_label\":\"Projected population, thousands\",\"formatter\":{\"id\":\"1127\",\"type\":\"BasicTickFormatter\"},\"ticker\":{\"id\":\"1102\",\"type\":\"BasicTicker\"}},\"id\":\"1101\",\"type\":\"LinearAxis\"},{\"attributes\":{\"dimension\":1,\"grid_line_alpha\":0.5,\"ticker\":{\"id\":\"1102\",\"type\":\"BasicTicker\"}},\"id\":\"1105\",\"type\":\"Grid\"},{\"attributes\":{},\"id\":\"1125\",\"type\":\"BasicTickFormatter\"}],\"root_ids\":[\"1085\"]},\"title\":\"Bokeh Application\",\"version\":\"1.4.0\"}};\n",
       "  var render_items = [{\"docid\":\"ef442b15-0c6d-45bf-a66f-ffd74aec331a\",\"roots\":{\"1085\":\"855b5dfc-a48b-4273-a7ac-10b55b4eca74\"}}];\n",
       "  root.Bokeh.embed.embed_items_notebook(docs_json, render_items);\n",
       "\n",
       "  }\n",
       "  if (root.Bokeh !== undefined) {\n",
       "    embed_document(root);\n",
       "  } else {\n",
       "    var attempts = 0;\n",
       "    var timer = setInterval(function(root) {\n",
       "      if (root.Bokeh !== undefined) {\n",
       "        clearInterval(timer);\n",
       "        embed_document(root);\n",
       "      } else {\n",
       "        attempts++;\n",
       "        if (attempts > 100) {\n",
       "          clearInterval(timer);\n",
       "          console.log(\"Bokeh: ERROR: Unable to run BokehJS code because BokehJS library is missing\");\n",
       "        }\n",
       "      }\n",
       "    }, 10, root)\n",
       "  }\n",
       "})(window);"
      ],
      "application/vnd.bokehjs_exec.v0+json": ""
     },
     "metadata": {
      "application/vnd.bokehjs_exec.v0+json": {
       "id": "1085"
      }
     },
     "output_type": "display_data"
    }
   ],
   "source": [
    "show(line_chart(gpp(['LDCs']), \"Projected population, thousands\", dataset='all',\n",
    "                x_axis_label='Years', y_axis_label='Projected population, thousands', \n",
    "                height=400, width=1000, line_width=3))"
   ]
  },
  {
   "cell_type": "code",
   "execution_count": 10,
   "metadata": {
    "slideshow": {
     "slide_type": "slide"
    }
   },
   "outputs": [
    {
     "data": {
      "text/html": [
       "\n",
       "\n",
       "\n",
       "\n",
       "\n",
       "\n",
       "  <div class=\"bk-root\" id=\"14b6dbfc-9d9e-426c-a4e5-0a241afcae81\" data-root-id=\"1896\"></div>\n"
      ]
     },
     "metadata": {},
     "output_type": "display_data"
    },
    {
     "data": {
      "application/javascript": [
       "(function(root) {\n",
       "  function embed_document(root) {\n",
       "    \n",
       "  var docs_json = {\"65305297-bf1c-4748-bce8-77cdd72fe867\":{\"roots\":{\"references\":[{\"attributes\":{\"below\":[{\"id\":\"1907\",\"type\":\"LinearAxis\"}],\"center\":[{\"id\":\"1911\",\"type\":\"Grid\"},{\"id\":\"1916\",\"type\":\"Grid\"},{\"id\":\"1941\",\"type\":\"Legend\"}],\"left\":[{\"id\":\"1912\",\"type\":\"LinearAxis\"}],\"plot_height\":400,\"plot_width\":1000,\"renderers\":[{\"id\":\"1933\",\"type\":\"GlyphRenderer\"},{\"id\":\"1946\",\"type\":\"GlyphRenderer\"},{\"id\":\"1951\",\"type\":\"GlyphRenderer\"},{\"id\":\"1967\",\"type\":\"GlyphRenderer\"}],\"title\":{\"id\":\"1897\",\"type\":\"Title\"},\"toolbar\":{\"id\":\"1923\",\"type\":\"Toolbar\"},\"x_range\":{\"id\":\"1899\",\"type\":\"DataRange1d\"},\"x_scale\":{\"id\":\"1903\",\"type\":\"LinearScale\"},\"y_range\":{\"id\":\"1901\",\"type\":\"DataRange1d\"},\"y_scale\":{\"id\":\"1905\",\"type\":\"LinearScale\"}},\"id\":\"1896\",\"subtype\":\"Figure\",\"type\":\"Plot\"},{\"attributes\":{\"label\":{\"value\":\"Developing excluding LDCs\"},\"renderers\":[{\"id\":\"1951\",\"type\":\"GlyphRenderer\"}]},\"id\":\"1963\",\"type\":\"LegendItem\"},{\"attributes\":{},\"id\":\"1939\",\"type\":\"BasicTickFormatter\"},{\"attributes\":{\"fill_color\":{\"value\":\"#FA1857\"},\"line_color\":{\"value\":\"#FA1857\"},\"size\":{\"units\":\"screen\",\"value\":3},\"x\":{\"field\":\"x\"},\"y\":{\"field\":\"y\"}},\"id\":\"1944\",\"type\":\"Circle\"},{\"attributes\":{},\"id\":\"1960\",\"type\":\"UnionRenderers\"},{\"attributes\":{},\"id\":\"1937\",\"type\":\"BasicTickFormatter\"},{\"attributes\":{},\"id\":\"1961\",\"type\":\"Selection\"},{\"attributes\":{\"callback\":null},\"id\":\"1901\",\"type\":\"DataRange1d\"},{\"attributes\":{\"callback\":null,\"data\":{\"x\":[2025,2030,2035,2040,2045,2050,2055,2060,2065,2070,2075,2080,2085,2090,2095,2100],\"y\":[675001.29,726540.356,775991.2950000003,822982.5320000001,866849.0980000001,906694.7520000001,942231.1660000001,973538.734,1000876.354,1023972.5529999998,1042835.4999999999,1057450.079,1067694.3459999997,1073671.2289999998,1075700.2040000001,1074115.0160000003]},\"selected\":{\"id\":\"1959\",\"type\":\"Selection\"},\"selection_policy\":{\"id\":\"1960\",\"type\":\"UnionRenderers\"}},\"id\":\"1930\",\"type\":\"ColumnDataSource\"},{\"attributes\":{},\"id\":\"1905\",\"type\":\"LinearScale\"},{\"attributes\":{\"bottom_units\":\"screen\",\"fill_alpha\":{\"value\":0.5},\"fill_color\":{\"value\":\"lightgrey\"},\"left_units\":\"screen\",\"level\":\"overlay\",\"line_alpha\":{\"value\":1.0},\"line_color\":{\"value\":\"black\"},\"line_dash\":[4,4],\"line_width\":{\"value\":2},\"render_mode\":\"css\",\"right_units\":\"screen\",\"top_units\":\"screen\"},\"id\":\"1940\",\"type\":\"BoxAnnotation\"},{\"attributes\":{},\"id\":\"1962\",\"type\":\"UnionRenderers\"},{\"attributes\":{\"fill_color\":{\"value\":\"#5430F1\"},\"line_color\":{\"value\":\"#5430F1\"},\"size\":{\"units\":\"screen\",\"value\":3},\"x\":{\"field\":\"x\"},\"y\":{\"field\":\"y\"}},\"id\":\"1965\",\"type\":\"Circle\"},{\"attributes\":{\"items\":[{\"id\":\"1942\",\"type\":\"LegendItem\"},{\"id\":\"1963\",\"type\":\"LegendItem\"}],\"location\":\"bottom_left\"},\"id\":\"1941\",\"type\":\"Legend\"},{\"attributes\":{\"label\":{\"value\":\"LDCs\"},\"renderers\":[{\"id\":\"1933\",\"type\":\"GlyphRenderer\"}]},\"id\":\"1942\",\"type\":\"LegendItem\"},{\"attributes\":{\"grid_line_color\":null,\"ticker\":{\"id\":\"1908\",\"type\":\"BasicTicker\"}},\"id\":\"1911\",\"type\":\"Grid\"},{\"attributes\":{\"active_drag\":\"auto\",\"active_inspect\":\"auto\",\"active_multi\":null,\"active_scroll\":\"auto\",\"active_tap\":\"auto\",\"tools\":[{\"id\":\"1917\",\"type\":\"PanTool\"},{\"id\":\"1918\",\"type\":\"WheelZoomTool\"},{\"id\":\"1919\",\"type\":\"BoxZoomTool\"},{\"id\":\"1920\",\"type\":\"SaveTool\"},{\"id\":\"1921\",\"type\":\"ResetTool\"},{\"id\":\"1922\",\"type\":\"HelpTool\"},{\"id\":\"1969\",\"type\":\"HoverTool\"}]},\"id\":\"1923\",\"type\":\"Toolbar\"},{\"attributes\":{},\"id\":\"1903\",\"type\":\"LinearScale\"},{\"attributes\":{\"line_color\":\"#FA1857\",\"line_width\":4,\"x\":{\"field\":\"x\"},\"y\":{\"field\":\"y\"}},\"id\":\"1931\",\"type\":\"Line\"},{\"attributes\":{\"callback\":null,\"data\":{\"x\":[2025,2030,2035,2040,2045,2050,2055,2060,2065,2070,2075,2080,2085,2090,2095,2100],\"y\":[2042563.6190000004,2042987.3229999996,2030948.397,2009087.2360000003,1983909.0610000002,1960819.4249999986,1937764.0890000002,1911041.9990000005,1881222.3620000002,1848204.0030000003,1813687.5220000003,1778408.793999999,1742707.0599999994,1706259.0559999992,1669257.7220000003,1631586.4350000005]},\"selected\":{\"id\":\"2046\",\"type\":\"Selection\"},\"selection_policy\":{\"id\":\"2047\",\"type\":\"UnionRenderers\"}},\"id\":\"1964\",\"type\":\"ColumnDataSource\"},{\"attributes\":{\"data_source\":{\"id\":\"1930\",\"type\":\"ColumnDataSource\"},\"glyph\":{\"id\":\"1931\",\"type\":\"Line\"},\"hover_glyph\":null,\"muted_glyph\":null,\"nonselection_glyph\":{\"id\":\"1932\",\"type\":\"Line\"},\"selection_glyph\":null,\"view\":{\"id\":\"1934\",\"type\":\"CDSView\"}},\"id\":\"1933\",\"type\":\"GlyphRenderer\"},{\"attributes\":{\"axis_label\":\"Years\",\"formatter\":{\"id\":\"1937\",\"type\":\"BasicTickFormatter\"},\"ticker\":{\"id\":\"1908\",\"type\":\"BasicTicker\"}},\"id\":\"1907\",\"type\":\"LinearAxis\"},{\"attributes\":{},\"id\":\"1917\",\"type\":\"PanTool\"},{\"attributes\":{\"callback\":null,\"data\":{\"x\":[2025,2030,2035,2040,2045,2050,2055,2060,2065,2070,2075,2080,2085,2090,2095,2100],\"y\":[675001.29,726540.356,775991.2950000003,822982.5320000001,866849.0980000001,906694.7520000001,942231.1660000001,973538.734,1000876.354,1023972.5529999998,1042835.4999999999,1057450.079,1067694.3459999997,1073671.2289999998,1075700.2040000001,1074115.0160000003]},\"selected\":{\"id\":\"1961\",\"type\":\"Selection\"},\"selection_policy\":{\"id\":\"1962\",\"type\":\"UnionRenderers\"}},\"id\":\"1943\",\"type\":\"ColumnDataSource\"},{\"attributes\":{\"fill_alpha\":{\"value\":0.1},\"fill_color\":{\"value\":\"#1f77b4\"},\"line_alpha\":{\"value\":0.1},\"line_color\":{\"value\":\"#1f77b4\"},\"size\":{\"units\":\"screen\",\"value\":3},\"x\":{\"field\":\"x\"},\"y\":{\"field\":\"y\"}},\"id\":\"1966\",\"type\":\"Circle\"},{\"attributes\":{},\"id\":\"1908\",\"type\":\"BasicTicker\"},{\"attributes\":{},\"id\":\"1913\",\"type\":\"BasicTicker\"},{\"attributes\":{\"callback\":null},\"id\":\"1899\",\"type\":\"DataRange1d\"},{\"attributes\":{},\"id\":\"1918\",\"type\":\"WheelZoomTool\"},{\"attributes\":{\"fill_alpha\":{\"value\":0.1},\"fill_color\":{\"value\":\"#1f77b4\"},\"line_alpha\":{\"value\":0.1},\"line_color\":{\"value\":\"#1f77b4\"},\"size\":{\"units\":\"screen\",\"value\":3},\"x\":{\"field\":\"x\"},\"y\":{\"field\":\"y\"}},\"id\":\"1945\",\"type\":\"Circle\"},{\"attributes\":{\"data_source\":{\"id\":\"1964\",\"type\":\"ColumnDataSource\"},\"glyph\":{\"id\":\"1965\",\"type\":\"Circle\"},\"hover_glyph\":null,\"muted_glyph\":null,\"nonselection_glyph\":{\"id\":\"1966\",\"type\":\"Circle\"},\"selection_glyph\":null,\"view\":{\"id\":\"1968\",\"type\":\"CDSView\"}},\"id\":\"1967\",\"type\":\"GlyphRenderer\"},{\"attributes\":{\"overlay\":{\"id\":\"1940\",\"type\":\"BoxAnnotation\"}},\"id\":\"1919\",\"type\":\"BoxZoomTool\"},{\"attributes\":{\"data_source\":{\"id\":\"1943\",\"type\":\"ColumnDataSource\"},\"glyph\":{\"id\":\"1944\",\"type\":\"Circle\"},\"hover_glyph\":null,\"muted_glyph\":null,\"nonselection_glyph\":{\"id\":\"1945\",\"type\":\"Circle\"},\"selection_glyph\":null,\"view\":{\"id\":\"1947\",\"type\":\"CDSView\"}},\"id\":\"1946\",\"type\":\"GlyphRenderer\"},{\"attributes\":{\"source\":{\"id\":\"1964\",\"type\":\"ColumnDataSource\"}},\"id\":\"1968\",\"type\":\"CDSView\"},{\"attributes\":{\"dimension\":1,\"grid_line_alpha\":0.5,\"ticker\":{\"id\":\"1913\",\"type\":\"BasicTicker\"}},\"id\":\"1916\",\"type\":\"Grid\"},{\"attributes\":{},\"id\":\"1920\",\"type\":\"SaveTool\"},{\"attributes\":{\"line_color\":\"#5430F1\",\"line_width\":4,\"x\":{\"field\":\"x\"},\"y\":{\"field\":\"y\"}},\"id\":\"1949\",\"type\":\"Line\"},{\"attributes\":{},\"id\":\"2045\",\"type\":\"UnionRenderers\"},{\"attributes\":{\"axis_label\":\"Projected population, 0-24, thousands\",\"formatter\":{\"id\":\"1939\",\"type\":\"BasicTickFormatter\"},\"ticker\":{\"id\":\"1913\",\"type\":\"BasicTicker\"}},\"id\":\"1912\",\"type\":\"LinearAxis\"},{\"attributes\":{\"source\":{\"id\":\"1943\",\"type\":\"ColumnDataSource\"}},\"id\":\"1947\",\"type\":\"CDSView\"},{\"attributes\":{},\"id\":\"1921\",\"type\":\"ResetTool\"},{\"attributes\":{},\"id\":\"2044\",\"type\":\"Selection\"},{\"attributes\":{\"callback\":null,\"data\":{\"x\":[2025,2030,2035,2040,2045,2050,2055,2060,2065,2070,2075,2080,2085,2090,2095,2100],\"y\":[2042563.6190000004,2042987.3229999996,2030948.397,2009087.2360000003,1983909.0610000002,1960819.4249999986,1937764.0890000002,1911041.9990000005,1881222.3620000002,1848204.0030000003,1813687.5220000003,1778408.793999999,1742707.0599999994,1706259.0559999992,1669257.7220000003,1631586.4350000005]},\"selected\":{\"id\":\"2044\",\"type\":\"Selection\"},\"selection_policy\":{\"id\":\"2045\",\"type\":\"UnionRenderers\"}},\"id\":\"1948\",\"type\":\"ColumnDataSource\"},{\"attributes\":{\"line_alpha\":0.1,\"line_color\":\"#1f77b4\",\"line_width\":4,\"x\":{\"field\":\"x\"},\"y\":{\"field\":\"y\"}},\"id\":\"1932\",\"type\":\"Line\"},{\"attributes\":{},\"id\":\"1922\",\"type\":\"HelpTool\"},{\"attributes\":{\"text\":\"Projected population, thousands\"},\"id\":\"1897\",\"type\":\"Title\"},{\"attributes\":{\"line_alpha\":0.1,\"line_color\":\"#1f77b4\",\"line_width\":4,\"x\":{\"field\":\"x\"},\"y\":{\"field\":\"y\"}},\"id\":\"1950\",\"type\":\"Line\"},{\"attributes\":{},\"id\":\"2046\",\"type\":\"Selection\"},{\"attributes\":{\"data_source\":{\"id\":\"1948\",\"type\":\"ColumnDataSource\"},\"glyph\":{\"id\":\"1949\",\"type\":\"Line\"},\"hover_glyph\":null,\"muted_glyph\":null,\"nonselection_glyph\":{\"id\":\"1950\",\"type\":\"Line\"},\"selection_glyph\":null,\"view\":{\"id\":\"1952\",\"type\":\"CDSView\"}},\"id\":\"1951\",\"type\":\"GlyphRenderer\"},{\"attributes\":{},\"id\":\"2047\",\"type\":\"UnionRenderers\"},{\"attributes\":{\"callback\":null,\"tooltips\":\"                \\n        <div style=padding=5px>Year:@x</div>\\n        <div style=padding=5px>Value:@y</div>        \\n        \"},\"id\":\"1969\",\"type\":\"HoverTool\"},{\"attributes\":{\"source\":{\"id\":\"1930\",\"type\":\"ColumnDataSource\"}},\"id\":\"1934\",\"type\":\"CDSView\"},{\"attributes\":{\"source\":{\"id\":\"1948\",\"type\":\"ColumnDataSource\"}},\"id\":\"1952\",\"type\":\"CDSView\"},{\"attributes\":{},\"id\":\"1959\",\"type\":\"Selection\"}],\"root_ids\":[\"1896\"]},\"title\":\"Bokeh Application\",\"version\":\"1.4.0\"}};\n",
       "  var render_items = [{\"docid\":\"65305297-bf1c-4748-bce8-77cdd72fe867\",\"roots\":{\"1896\":\"14b6dbfc-9d9e-426c-a4e5-0a241afcae81\"}}];\n",
       "  root.Bokeh.embed.embed_items_notebook(docs_json, render_items);\n",
       "\n",
       "  }\n",
       "  if (root.Bokeh !== undefined) {\n",
       "    embed_document(root);\n",
       "  } else {\n",
       "    var attempts = 0;\n",
       "    var timer = setInterval(function(root) {\n",
       "      if (root.Bokeh !== undefined) {\n",
       "        clearInterval(timer);\n",
       "        embed_document(root);\n",
       "      } else {\n",
       "        attempts++;\n",
       "        if (attempts > 100) {\n",
       "          clearInterval(timer);\n",
       "          console.log(\"Bokeh: ERROR: Unable to run BokehJS code because BokehJS library is missing\");\n",
       "        }\n",
       "      }\n",
       "    }, 10, root)\n",
       "  }\n",
       "})(window);"
      ],
      "application/vnd.bokehjs_exec.v0+json": ""
     },
     "metadata": {
      "application/vnd.bokehjs_exec.v0+json": {
       "id": "1896"
      }
     },
     "output_type": "display_data"
    }
   ],
   "source": [
    "show(line_chart(sources.unpd.indicators.get_projection_by_groups(['LDCs', 'Developing excluding LDCs'], \n",
    "                                                                 dataset='0-24'), \"Projected population, thousands\", x_axis_label='Years', y_axis_label='Projected population, 0-24, thousands', height=400, width=1000, line_width=4))"
   ]
  },
  {
   "cell_type": "code",
   "execution_count": 6,
   "metadata": {
    "ExecuteTime": {
     "end_time": "2019-10-25T14:24:54.398684Z",
     "start_time": "2019-10-25T14:24:52.791475Z"
    },
    "slideshow": {
     "slide_type": "slide"
    }
   },
   "outputs": [
    {
     "data": {
      "text/html": [
       "\n",
       "\n",
       "\n",
       "\n",
       "\n",
       "\n",
       "  <div class=\"bk-root\" id=\"d3e33c54-4b07-42bb-ae1e-43caea501413\" data-root-id=\"1216\"></div>\n"
      ]
     },
     "metadata": {},
     "output_type": "display_data"
    },
    {
     "data": {
      "application/javascript": [
       "(function(root) {\n",
       "  function embed_document(root) {\n",
       "    \n",
       "  var docs_json = {\"2571f16a-3350-4f4e-bec4-1f7ccd803dff\":{\"roots\":{\"references\":[{\"attributes\":{\"below\":[{\"id\":\"1227\",\"type\":\"LinearAxis\"}],\"center\":[{\"id\":\"1231\",\"type\":\"Grid\"},{\"id\":\"1236\",\"type\":\"Grid\"},{\"id\":\"1261\",\"type\":\"Legend\"}],\"left\":[{\"id\":\"1232\",\"type\":\"LinearAxis\"}],\"plot_height\":400,\"plot_width\":900,\"renderers\":[{\"id\":\"1253\",\"type\":\"GlyphRenderer\"},{\"id\":\"1266\",\"type\":\"GlyphRenderer\"},{\"id\":\"1271\",\"type\":\"GlyphRenderer\"},{\"id\":\"1287\",\"type\":\"GlyphRenderer\"},{\"id\":\"1292\",\"type\":\"GlyphRenderer\"},{\"id\":\"1312\",\"type\":\"GlyphRenderer\"}],\"title\":{\"id\":\"1217\",\"type\":\"Title\"},\"toolbar\":{\"id\":\"1243\",\"type\":\"Toolbar\"},\"x_range\":{\"id\":\"1219\",\"type\":\"DataRange1d\"},\"x_scale\":{\"id\":\"1223\",\"type\":\"LinearScale\"},\"y_range\":{\"id\":\"1221\",\"type\":\"DataRange1d\"},\"y_scale\":{\"id\":\"1225\",\"type\":\"LinearScale\"}},\"id\":\"1216\",\"subtype\":\"Figure\",\"type\":\"Plot\"},{\"attributes\":{\"data_source\":{\"id\":\"1263\",\"type\":\"ColumnDataSource\"},\"glyph\":{\"id\":\"1264\",\"type\":\"Circle\"},\"hover_glyph\":null,\"muted_glyph\":null,\"nonselection_glyph\":{\"id\":\"1265\",\"type\":\"Circle\"},\"selection_glyph\":null,\"view\":{\"id\":\"1267\",\"type\":\"CDSView\"}},\"id\":\"1266\",\"type\":\"GlyphRenderer\"},{\"attributes\":{\"source\":{\"id\":\"1309\",\"type\":\"ColumnDataSource\"}},\"id\":\"1313\",\"type\":\"CDSView\"},{\"attributes\":{},\"id\":\"1225\",\"type\":\"LinearScale\"},{\"attributes\":{\"data_source\":{\"id\":\"1284\",\"type\":\"ColumnDataSource\"},\"glyph\":{\"id\":\"1285\",\"type\":\"Circle\"},\"hover_glyph\":null,\"muted_glyph\":null,\"nonselection_glyph\":{\"id\":\"1286\",\"type\":\"Circle\"},\"selection_glyph\":null,\"view\":{\"id\":\"1288\",\"type\":\"CDSView\"}},\"id\":\"1287\",\"type\":\"GlyphRenderer\"},{\"attributes\":{\"overlay\":{\"id\":\"1260\",\"type\":\"BoxAnnotation\"}},\"id\":\"1239\",\"type\":\"BoxZoomTool\"},{\"attributes\":{\"line_color\":\"#2CC775\",\"line_width\":3,\"x\":{\"field\":\"x\"},\"y\":{\"field\":\"y\"}},\"id\":\"1290\",\"type\":\"Line\"},{\"attributes\":{},\"id\":\"1347\",\"type\":\"Selection\"},{\"attributes\":{\"source\":{\"id\":\"1284\",\"type\":\"ColumnDataSource\"}},\"id\":\"1288\",\"type\":\"CDSView\"},{\"attributes\":{},\"id\":\"1240\",\"type\":\"SaveTool\"},{\"attributes\":{\"line_color\":\"#5430F1\",\"line_width\":3,\"x\":{\"field\":\"x\"},\"y\":{\"field\":\"y\"}},\"id\":\"1269\",\"type\":\"Line\"},{\"attributes\":{},\"id\":\"1228\",\"type\":\"BasicTicker\"},{\"attributes\":{\"source\":{\"id\":\"1263\",\"type\":\"ColumnDataSource\"}},\"id\":\"1267\",\"type\":\"CDSView\"},{\"attributes\":{\"callback\":null,\"data\":{\"x\":[2020,2025,2030,2035,2040,2045,2050,2055,2060,2065,2070,2075,2080,2085,2090,2095,2100],\"y\":[912306.7240000002,924199.783,933262.5580000001,940475.6150000001,944668.037,945929.6540000001,944372.924,940125.755,933542.0040000002,925493.626,916927.8789999998,908413.484,900272.8359999999,892459.4159999999,884981.163,877749.1270000001,870615.133]},\"selected\":{\"id\":\"1347\",\"type\":\"Selection\"},\"selection_policy\":{\"id\":\"1348\",\"type\":\"UnionRenderers\"}},\"id\":\"1289\",\"type\":\"ColumnDataSource\"},{\"attributes\":{\"axis_label\":\"Years\",\"formatter\":{\"id\":\"1256\",\"type\":\"BasicTickFormatter\"},\"ticker\":{\"id\":\"1228\",\"type\":\"BasicTicker\"}},\"id\":\"1227\",\"type\":\"LinearAxis\"},{\"attributes\":{},\"id\":\"1241\",\"type\":\"ResetTool\"},{\"attributes\":{\"callback\":null,\"data\":{\"x\":[2020,2025,2030,2035,2040,2045,2050,2055,2060,2065,2070,2075,2080,2085,2090,2095,2100],\"y\":[4993103.786000001,5218738.716999997,5421085.645999999,5600144.947999999,5752488.066,5878012.936,5976889.714000002,6050353.927999998,6099916.011999999,6128642.660999999,6138746.354000001,6132326.774999998,6111578.452999997,6078805.713000003,6037048.572999997,5987636.3539999975,5930332.014000001]},\"selected\":{\"id\":\"1304\",\"type\":\"Selection\"},\"selection_policy\":{\"id\":\"1305\",\"type\":\"UnionRenderers\"}},\"id\":\"1268\",\"type\":\"ColumnDataSource\"},{\"attributes\":{},\"id\":\"1348\",\"type\":\"UnionRenderers\"},{\"attributes\":{\"callback\":null,\"tooltips\":\"                \\n        <div style=padding=5px>Year:@x</div>\\n        <div style=padding=5px>Value:@y</div>        \\n        \"},\"id\":\"1314\",\"type\":\"HoverTool\"},{\"attributes\":{\"line_alpha\":0.1,\"line_color\":\"#1f77b4\",\"line_width\":3,\"x\":{\"field\":\"x\"},\"y\":{\"field\":\"y\"}},\"id\":\"1252\",\"type\":\"Line\"},{\"attributes\":{\"line_alpha\":0.1,\"line_color\":\"#1f77b4\",\"line_width\":3,\"x\":{\"field\":\"x\"},\"y\":{\"field\":\"y\"}},\"id\":\"1291\",\"type\":\"Line\"},{\"attributes\":{},\"id\":\"1242\",\"type\":\"HelpTool\"},{\"attributes\":{\"data_source\":{\"id\":\"1289\",\"type\":\"ColumnDataSource\"},\"glyph\":{\"id\":\"1290\",\"type\":\"Line\"},\"hover_glyph\":null,\"muted_glyph\":null,\"nonselection_glyph\":{\"id\":\"1291\",\"type\":\"Line\"},\"selection_glyph\":null,\"view\":{\"id\":\"1293\",\"type\":\"CDSView\"}},\"id\":\"1292\",\"type\":\"GlyphRenderer\"},{\"attributes\":{\"line_alpha\":0.1,\"line_color\":\"#1f77b4\",\"line_width\":3,\"x\":{\"field\":\"x\"},\"y\":{\"field\":\"y\"}},\"id\":\"1270\",\"type\":\"Line\"},{\"attributes\":{\"data_source\":{\"id\":\"1309\",\"type\":\"ColumnDataSource\"},\"glyph\":{\"id\":\"1310\",\"type\":\"Circle\"},\"hover_glyph\":null,\"muted_glyph\":null,\"nonselection_glyph\":{\"id\":\"1311\",\"type\":\"Circle\"},\"selection_glyph\":null,\"view\":{\"id\":\"1313\",\"type\":\"CDSView\"}},\"id\":\"1312\",\"type\":\"GlyphRenderer\"},{\"attributes\":{},\"id\":\"1349\",\"type\":\"Selection\"},{\"attributes\":{\"text\":\"Projected population, thousands\"},\"id\":\"1217\",\"type\":\"Title\"},{\"attributes\":{\"data_source\":{\"id\":\"1268\",\"type\":\"ColumnDataSource\"},\"glyph\":{\"id\":\"1269\",\"type\":\"Line\"},\"hover_glyph\":null,\"muted_glyph\":null,\"nonselection_glyph\":{\"id\":\"1270\",\"type\":\"Line\"},\"selection_glyph\":null,\"view\":{\"id\":\"1272\",\"type\":\"CDSView\"}},\"id\":\"1271\",\"type\":\"GlyphRenderer\"},{\"attributes\":{\"source\":{\"id\":\"1250\",\"type\":\"ColumnDataSource\"}},\"id\":\"1254\",\"type\":\"CDSView\"},{\"attributes\":{},\"id\":\"1233\",\"type\":\"BasicTicker\"},{\"attributes\":{\"source\":{\"id\":\"1289\",\"type\":\"ColumnDataSource\"}},\"id\":\"1293\",\"type\":\"CDSView\"},{\"attributes\":{},\"id\":\"1350\",\"type\":\"UnionRenderers\"},{\"attributes\":{},\"id\":\"1304\",\"type\":\"Selection\"},{\"attributes\":{},\"id\":\"1256\",\"type\":\"BasicTickFormatter\"},{\"attributes\":{\"source\":{\"id\":\"1268\",\"type\":\"ColumnDataSource\"}},\"id\":\"1272\",\"type\":\"CDSView\"},{\"attributes\":{\"label\":{\"value\":\"OECD\"},\"renderers\":[{\"id\":\"1292\",\"type\":\"GlyphRenderer\"}]},\"id\":\"1308\",\"type\":\"LegendItem\"},{\"attributes\":{\"fill_color\":{\"value\":\"#FA1857\"},\"line_color\":{\"value\":\"#FA1857\"},\"size\":{\"units\":\"screen\",\"value\":3},\"x\":{\"field\":\"x\"},\"y\":{\"field\":\"y\"}},\"id\":\"1264\",\"type\":\"Circle\"},{\"attributes\":{},\"id\":\"1279\",\"type\":\"Selection\"},{\"attributes\":{},\"id\":\"1305\",\"type\":\"UnionRenderers\"},{\"attributes\":{\"items\":[{\"id\":\"1262\",\"type\":\"LegendItem\"},{\"id\":\"1283\",\"type\":\"LegendItem\"},{\"id\":\"1308\",\"type\":\"LegendItem\"}],\"location\":\"bottom_left\"},\"id\":\"1261\",\"type\":\"Legend\"},{\"attributes\":{\"axis_label\":\"Projected population, thousands\",\"formatter\":{\"id\":\"1258\",\"type\":\"BasicTickFormatter\"},\"ticker\":{\"id\":\"1233\",\"type\":\"BasicTicker\"}},\"id\":\"1232\",\"type\":\"LinearAxis\"},{\"attributes\":{\"label\":{\"value\":\"Developing excluding LDCs\"},\"renderers\":[{\"id\":\"1271\",\"type\":\"GlyphRenderer\"}]},\"id\":\"1283\",\"type\":\"LegendItem\"},{\"attributes\":{\"fill_alpha\":{\"value\":0.1},\"fill_color\":{\"value\":\"#1f77b4\"},\"line_alpha\":{\"value\":0.1},\"line_color\":{\"value\":\"#1f77b4\"},\"size\":{\"units\":\"screen\",\"value\":3},\"x\":{\"field\":\"x\"},\"y\":{\"field\":\"y\"}},\"id\":\"1311\",\"type\":\"Circle\"},{\"attributes\":{\"callback\":null},\"id\":\"1221\",\"type\":\"DataRange1d\"},{\"attributes\":{},\"id\":\"1258\",\"type\":\"BasicTickFormatter\"},{\"attributes\":{},\"id\":\"1280\",\"type\":\"UnionRenderers\"},{\"attributes\":{},\"id\":\"1306\",\"type\":\"Selection\"},{\"attributes\":{\"callback\":null,\"data\":{\"x\":[2020,2025,2030,2035,2040,2045,2050,2055,2060,2065,2070,2075,2080,2085,2090,2095,2100],\"y\":[1057438.163,1182376.585,1313758.882,1450358.0589999997,1590723.5140000007,1733412.6489999997,1876797.781,2019337.702000001,2159628.188,2296253.5399999996,2427682.2370000007,2552545.8049999997,2669675.032999999,2778054.0900000003,2877186.7590000005,2966790.3559999997,3046778.7830000003]},\"selected\":{\"id\":\"1279\",\"type\":\"Selection\"},\"selection_policy\":{\"id\":\"1280\",\"type\":\"UnionRenderers\"}},\"id\":\"1250\",\"type\":\"ColumnDataSource\"},{\"attributes\":{\"bottom_units\":\"screen\",\"fill_alpha\":{\"value\":0.5},\"fill_color\":{\"value\":\"lightgrey\"},\"left_units\":\"screen\",\"level\":\"overlay\",\"line_alpha\":{\"value\":1.0},\"line_color\":{\"value\":\"black\"},\"line_dash\":[4,4],\"line_width\":{\"value\":2},\"render_mode\":\"css\",\"right_units\":\"screen\",\"top_units\":\"screen\"},\"id\":\"1260\",\"type\":\"BoxAnnotation\"},{\"attributes\":{},\"id\":\"1281\",\"type\":\"Selection\"},{\"attributes\":{},\"id\":\"1307\",\"type\":\"UnionRenderers\"},{\"attributes\":{\"fill_alpha\":{\"value\":0.1},\"fill_color\":{\"value\":\"#1f77b4\"},\"line_alpha\":{\"value\":0.1},\"line_color\":{\"value\":\"#1f77b4\"},\"size\":{\"units\":\"screen\",\"value\":3},\"x\":{\"field\":\"x\"},\"y\":{\"field\":\"y\"}},\"id\":\"1286\",\"type\":\"Circle\"},{\"attributes\":{\"grid_line_color\":null,\"ticker\":{\"id\":\"1228\",\"type\":\"BasicTicker\"}},\"id\":\"1231\",\"type\":\"Grid\"},{\"attributes\":{},\"id\":\"1282\",\"type\":\"UnionRenderers\"},{\"attributes\":{\"label\":{\"value\":\"LDCs\"},\"renderers\":[{\"id\":\"1253\",\"type\":\"GlyphRenderer\"}]},\"id\":\"1262\",\"type\":\"LegendItem\"},{\"attributes\":{\"active_drag\":\"auto\",\"active_inspect\":\"auto\",\"active_multi\":null,\"active_scroll\":\"auto\",\"active_tap\":\"auto\",\"tools\":[{\"id\":\"1237\",\"type\":\"PanTool\"},{\"id\":\"1238\",\"type\":\"WheelZoomTool\"},{\"id\":\"1239\",\"type\":\"BoxZoomTool\"},{\"id\":\"1240\",\"type\":\"SaveTool\"},{\"id\":\"1241\",\"type\":\"ResetTool\"},{\"id\":\"1242\",\"type\":\"HelpTool\"},{\"id\":\"1314\",\"type\":\"HoverTool\"}]},\"id\":\"1243\",\"type\":\"Toolbar\"},{\"attributes\":{\"dimension\":1,\"grid_line_alpha\":0.5,\"ticker\":{\"id\":\"1233\",\"type\":\"BasicTicker\"}},\"id\":\"1236\",\"type\":\"Grid\"},{\"attributes\":{\"fill_color\":{\"value\":\"#5430F1\"},\"line_color\":{\"value\":\"#5430F1\"},\"size\":{\"units\":\"screen\",\"value\":3},\"x\":{\"field\":\"x\"},\"y\":{\"field\":\"y\"}},\"id\":\"1285\",\"type\":\"Circle\"},{\"attributes\":{\"fill_color\":{\"value\":\"#2CC775\"},\"line_color\":{\"value\":\"#2CC775\"},\"size\":{\"units\":\"screen\",\"value\":3},\"x\":{\"field\":\"x\"},\"y\":{\"field\":\"y\"}},\"id\":\"1310\",\"type\":\"Circle\"},{\"attributes\":{},\"id\":\"1223\",\"type\":\"LinearScale\"},{\"attributes\":{\"line_color\":\"#FA1857\",\"line_width\":3,\"x\":{\"field\":\"x\"},\"y\":{\"field\":\"y\"}},\"id\":\"1251\",\"type\":\"Line\"},{\"attributes\":{\"callback\":null,\"data\":{\"x\":[2020,2025,2030,2035,2040,2045,2050,2055,2060,2065,2070,2075,2080,2085,2090,2095,2100],\"y\":[912306.7240000002,924199.783,933262.5580000001,940475.6150000001,944668.037,945929.6540000001,944372.924,940125.755,933542.0040000002,925493.626,916927.8789999998,908413.484,900272.8359999999,892459.4159999999,884981.163,877749.1270000001,870615.133]},\"selected\":{\"id\":\"1349\",\"type\":\"Selection\"},\"selection_policy\":{\"id\":\"1350\",\"type\":\"UnionRenderers\"}},\"id\":\"1309\",\"type\":\"ColumnDataSource\"},{\"attributes\":{\"data_source\":{\"id\":\"1250\",\"type\":\"ColumnDataSource\"},\"glyph\":{\"id\":\"1251\",\"type\":\"Line\"},\"hover_glyph\":null,\"muted_glyph\":null,\"nonselection_glyph\":{\"id\":\"1252\",\"type\":\"Line\"},\"selection_glyph\":null,\"view\":{\"id\":\"1254\",\"type\":\"CDSView\"}},\"id\":\"1253\",\"type\":\"GlyphRenderer\"},{\"attributes\":{\"fill_alpha\":{\"value\":0.1},\"fill_color\":{\"value\":\"#1f77b4\"},\"line_alpha\":{\"value\":0.1},\"line_color\":{\"value\":\"#1f77b4\"},\"size\":{\"units\":\"screen\",\"value\":3},\"x\":{\"field\":\"x\"},\"y\":{\"field\":\"y\"}},\"id\":\"1265\",\"type\":\"Circle\"},{\"attributes\":{},\"id\":\"1237\",\"type\":\"PanTool\"},{\"attributes\":{\"callback\":null,\"data\":{\"x\":[2020,2025,2030,2035,2040,2045,2050,2055,2060,2065,2070,2075,2080,2085,2090,2095,2100],\"y\":[1057438.163,1182376.585,1313758.882,1450358.0589999997,1590723.5140000007,1733412.6489999997,1876797.781,2019337.702000001,2159628.188,2296253.5399999996,2427682.2370000007,2552545.8049999997,2669675.032999999,2778054.0900000003,2877186.7590000005,2966790.3559999997,3046778.7830000003]},\"selected\":{\"id\":\"1281\",\"type\":\"Selection\"},\"selection_policy\":{\"id\":\"1282\",\"type\":\"UnionRenderers\"}},\"id\":\"1263\",\"type\":\"ColumnDataSource\"},{\"attributes\":{\"callback\":null,\"data\":{\"x\":[2020,2025,2030,2035,2040,2045,2050,2055,2060,2065,2070,2075,2080,2085,2090,2095,2100],\"y\":[4993103.786000001,5218738.716999997,5421085.645999999,5600144.947999999,5752488.066,5878012.936,5976889.714000002,6050353.927999998,6099916.011999999,6128642.660999999,6138746.354000001,6132326.774999998,6111578.452999997,6078805.713000003,6037048.572999997,5987636.3539999975,5930332.014000001]},\"selected\":{\"id\":\"1306\",\"type\":\"Selection\"},\"selection_policy\":{\"id\":\"1307\",\"type\":\"UnionRenderers\"}},\"id\":\"1284\",\"type\":\"ColumnDataSource\"},{\"attributes\":{\"callback\":null},\"id\":\"1219\",\"type\":\"DataRange1d\"},{\"attributes\":{},\"id\":\"1238\",\"type\":\"WheelZoomTool\"}],\"root_ids\":[\"1216\"]},\"title\":\"Bokeh Application\",\"version\":\"1.4.0\"}};\n",
       "  var render_items = [{\"docid\":\"2571f16a-3350-4f4e-bec4-1f7ccd803dff\",\"roots\":{\"1216\":\"d3e33c54-4b07-42bb-ae1e-43caea501413\"}}];\n",
       "  root.Bokeh.embed.embed_items_notebook(docs_json, render_items);\n",
       "\n",
       "  }\n",
       "  if (root.Bokeh !== undefined) {\n",
       "    embed_document(root);\n",
       "  } else {\n",
       "    var attempts = 0;\n",
       "    var timer = setInterval(function(root) {\n",
       "      if (root.Bokeh !== undefined) {\n",
       "        clearInterval(timer);\n",
       "        embed_document(root);\n",
       "      } else {\n",
       "        attempts++;\n",
       "        if (attempts > 100) {\n",
       "          clearInterval(timer);\n",
       "          console.log(\"Bokeh: ERROR: Unable to run BokehJS code because BokehJS library is missing\");\n",
       "        }\n",
       "      }\n",
       "    }, 10, root)\n",
       "  }\n",
       "})(window);"
      ],
      "application/vnd.bokehjs_exec.v0+json": ""
     },
     "metadata": {
      "application/vnd.bokehjs_exec.v0+json": {
       "id": "1216"
      }
     },
     "output_type": "display_data"
    }
   ],
   "source": [
    "show(line_chart(gpp(['LDCs', 'Developing excluding LDCs', 'OECD']), \n",
    "                \"Projected population, thousands\", x_axis_label='Years', \n",
    "                y_axis_label='Projected population, thousands', height=400, line_width=3,width=900))"
   ]
  },
  {
   "cell_type": "code",
   "execution_count": 12,
   "metadata": {
    "ExecuteTime": {
     "end_time": "2019-10-25T14:24:45.413121Z",
     "start_time": "2019-10-25T14:23:48.680578Z"
    },
    "slideshow": {
     "slide_type": "slide"
    }
   },
   "outputs": [
    {
     "data": {
      "text/html": [
       "\n",
       "\n",
       "\n",
       "\n",
       "\n",
       "\n",
       "  <div class=\"bk-root\" id=\"f1784a1b-f4f3-4294-8e25-9162048a77b7\" data-root-id=\"2435\"></div>\n"
      ]
     },
     "metadata": {},
     "output_type": "display_data"
    },
    {
     "data": {
      "application/javascript": [
       "(function(root) {\n",
       "  function embed_document(root) {\n",
       "    \n",
       "  var docs_json = {\"f51891c4-5b79-411f-93fe-ee91e81134b9\":{\"roots\":{\"references\":[{\"attributes\":{\"below\":[{\"id\":\"2446\",\"type\":\"LinearAxis\"}],\"center\":[{\"id\":\"2450\",\"type\":\"Grid\"},{\"id\":\"2455\",\"type\":\"Grid\"},{\"id\":\"2480\",\"type\":\"Legend\"}],\"left\":[{\"id\":\"2451\",\"type\":\"LinearAxis\"}],\"plot_height\":400,\"plot_width\":1000,\"renderers\":[{\"id\":\"2472\",\"type\":\"GlyphRenderer\"},{\"id\":\"2485\",\"type\":\"GlyphRenderer\"},{\"id\":\"2490\",\"type\":\"GlyphRenderer\"},{\"id\":\"2506\",\"type\":\"GlyphRenderer\"},{\"id\":\"2511\",\"type\":\"GlyphRenderer\"},{\"id\":\"2531\",\"type\":\"GlyphRenderer\"}],\"title\":{\"id\":\"2436\",\"type\":\"Title\"},\"toolbar\":{\"id\":\"2462\",\"type\":\"Toolbar\"},\"x_range\":{\"id\":\"2438\",\"type\":\"DataRange1d\"},\"x_scale\":{\"id\":\"2442\",\"type\":\"LinearScale\"},\"y_range\":{\"id\":\"2440\",\"type\":\"DataRange1d\"},\"y_scale\":{\"id\":\"2444\",\"type\":\"LinearScale\"}},\"id\":\"2435\",\"subtype\":\"Figure\",\"type\":\"Plot\"},{\"attributes\":{\"callback\":null},\"id\":\"2440\",\"type\":\"DataRange1d\"},{\"attributes\":{\"data_source\":{\"id\":\"2503\",\"type\":\"ColumnDataSource\"},\"glyph\":{\"id\":\"2504\",\"type\":\"Circle\"},\"hover_glyph\":null,\"muted_glyph\":null,\"nonselection_glyph\":{\"id\":\"2505\",\"type\":\"Circle\"},\"selection_glyph\":null,\"view\":{\"id\":\"2507\",\"type\":\"CDSView\"}},\"id\":\"2506\",\"type\":\"GlyphRenderer\"},{\"attributes\":{\"source\":{\"id\":\"2503\",\"type\":\"ColumnDataSource\"}},\"id\":\"2507\",\"type\":\"CDSView\"},{\"attributes\":{},\"id\":\"2442\",\"type\":\"LinearScale\"},{\"attributes\":{},\"id\":\"2498\",\"type\":\"Selection\"},{\"attributes\":{},\"id\":\"2645\",\"type\":\"UnionRenderers\"},{\"attributes\":{},\"id\":\"2444\",\"type\":\"LinearScale\"},{\"attributes\":{\"fill_color\":{\"value\":\"#FA1857\"},\"line_color\":{\"value\":\"#FA1857\"},\"size\":{\"units\":\"screen\",\"value\":1},\"x\":{\"field\":\"x\"},\"y\":{\"field\":\"y\"}},\"id\":\"2483\",\"type\":\"Circle\"},{\"attributes\":{\"dimension\":1,\"grid_line_alpha\":0.5,\"ticker\":{\"id\":\"2452\",\"type\":\"BasicTicker\"}},\"id\":\"2455\",\"type\":\"Grid\"},{\"attributes\":{\"line_alpha\":0.1,\"line_color\":\"#1f77b4\",\"line_width\":3,\"x\":{\"field\":\"x\"},\"y\":{\"field\":\"y\"}},\"id\":\"2510\",\"type\":\"Line\"},{\"attributes\":{\"data_source\":{\"id\":\"2487\",\"type\":\"ColumnDataSource\"},\"glyph\":{\"id\":\"2488\",\"type\":\"Line\"},\"hover_glyph\":null,\"muted_glyph\":null,\"nonselection_glyph\":{\"id\":\"2489\",\"type\":\"Line\"},\"selection_glyph\":null,\"view\":{\"id\":\"2491\",\"type\":\"CDSView\"}},\"id\":\"2490\",\"type\":\"GlyphRenderer\"},{\"attributes\":{\"axis_label\":\"Years\",\"formatter\":{\"id\":\"2476\",\"type\":\"BasicTickFormatter\"},\"ticker\":{\"id\":\"2447\",\"type\":\"BasicTicker\"}},\"id\":\"2446\",\"type\":\"LinearAxis\"},{\"attributes\":{\"axis_label\":\"SP.RUR.TOTL.ZS\",\"formatter\":{\"id\":\"2478\",\"type\":\"BasicTickFormatter\"},\"ticker\":{\"id\":\"2452\",\"type\":\"BasicTicker\"}},\"id\":\"2451\",\"type\":\"LinearAxis\"},{\"attributes\":{\"data_source\":{\"id\":\"2508\",\"type\":\"ColumnDataSource\"},\"glyph\":{\"id\":\"2509\",\"type\":\"Line\"},\"hover_glyph\":null,\"muted_glyph\":null,\"nonselection_glyph\":{\"id\":\"2510\",\"type\":\"Line\"},\"selection_glyph\":null,\"view\":{\"id\":\"2512\",\"type\":\"CDSView\"}},\"id\":\"2511\",\"type\":\"GlyphRenderer\"},{\"attributes\":{},\"id\":\"2476\",\"type\":\"BasicTickFormatter\"},{\"attributes\":{},\"id\":\"2646\",\"type\":\"Selection\"},{\"attributes\":{},\"id\":\"2447\",\"type\":\"BasicTicker\"},{\"attributes\":{\"source\":{\"id\":\"2482\",\"type\":\"ColumnDataSource\"}},\"id\":\"2486\",\"type\":\"CDSView\"},{\"attributes\":{\"callback\":null,\"data\":{\"x\":[\"1962\",\"1963\",\"1964\",\"1965\",\"1966\",\"1967\",\"1968\",\"1969\",\"1970\",\"1971\",\"1972\",\"1973\",\"1974\",\"1975\",\"1976\",\"1977\",\"1978\",\"1979\",\"1980\",\"1981\",\"1982\",\"1983\",\"1984\",\"1985\",\"1986\",\"1987\",\"1988\",\"1989\",\"1990\",\"1991\",\"1992\",\"1993\",\"1994\",\"1995\",\"1996\",\"1997\",\"1998\",\"1999\",\"2000\",\"2001\",\"2002\",\"2003\",\"2004\",\"2005\",\"2006\",\"2007\",\"2008\",\"2009\",\"2010\",\"2011\",\"2012\",\"2013\",\"2014\",\"2015\",\"2016\",\"2017\"],\"y\":[36.42127360665778,35.91623000953568,35.41312563450036,34.91259283883799,34.41460814240305,33.906853776784544,33.41175944934178,32.93243762343052,32.47371657833314,32.08243047483682,31.72254341724644,31.376230937591238,31.02541989859808,30.694684316251664,30.439520115174478,30.192444164715646,29.942960728335073,29.698117424398575,29.45271291536762,29.159197365938237,28.884819993799557,28.62443020571846,28.373177767459325,28.121981510199006,27.8604458404359,27.578860132814693,27.299974013372434,27.04188263980006,26.764398045351797,26.48515980107442,26.22585182821077,25.962163393862863,25.69276563048598,25.42543337883581,25.181488242051362,24.9477281910235,24.714988268795185,24.48183071086911,24.25025925627994,23.905203675760802,23.504398066886452,23.123776637102807,22.758727449036055,22.408569017585673,22.085829368063017,21.7813270701607,21.485590735868247,21.19879146971327,20.918753085714805,20.70228925587614,20.51614583488052,20.332611207313864,20.1493430924518,19.961337971168508,19.770869743541244,19.576668574669895]},\"selected\":{\"id\":\"2644\",\"type\":\"Selection\"},\"selection_policy\":{\"id\":\"2645\",\"type\":\"UnionRenderers\"}},\"id\":\"2508\",\"type\":\"ColumnDataSource\"},{\"attributes\":{},\"id\":\"2460\",\"type\":\"ResetTool\"},{\"attributes\":{},\"id\":\"2647\",\"type\":\"UnionRenderers\"},{\"attributes\":{\"grid_line_color\":null,\"ticker\":{\"id\":\"2447\",\"type\":\"BasicTicker\"}},\"id\":\"2450\",\"type\":\"Grid\"},{\"attributes\":{},\"id\":\"2478\",\"type\":\"BasicTickFormatter\"},{\"attributes\":{\"source\":{\"id\":\"2508\",\"type\":\"ColumnDataSource\"}},\"id\":\"2512\",\"type\":\"CDSView\"},{\"attributes\":{},\"id\":\"2452\",\"type\":\"BasicTicker\"},{\"attributes\":{\"callback\":null,\"data\":{\"x\":[\"1962\",\"1963\",\"1964\",\"1965\",\"1966\",\"1967\",\"1968\",\"1969\",\"1970\",\"1971\",\"1972\",\"1973\",\"1974\",\"1975\",\"1976\",\"1977\",\"1978\",\"1979\",\"1980\",\"1981\",\"1982\",\"1983\",\"1984\",\"1985\",\"1986\",\"1987\",\"1988\",\"1989\",\"1990\",\"1991\",\"1992\",\"1993\",\"1994\",\"1995\",\"1996\",\"1997\",\"1998\",\"1999\",\"2000\",\"2001\",\"2002\",\"2003\",\"2004\",\"2005\",\"2006\",\"2007\",\"2008\",\"2009\",\"2010\",\"2011\",\"2012\",\"2013\",\"2014\",\"2015\",\"2016\",\"2017\"],\"y\":[76.36339285706455,75.90657569857643,75.44052033579077,75.26400028680143,75.08339297208057,74.88663372543422,74.69354781183536,74.50525820996135,74.31608190924274,74.0994295857478,73.84165122691049,73.53470588085722,73.18012411831,72.8174531601147,72.46881304831041,72.11284869316286,71.63344265720838,71.03048255353748,70.41825210024072,69.78091162633353,69.1609761614545,68.5951423309108,68.01991309071222,67.44534086814598,66.87635574289399,66.31309198875933,65.7505405937328,65.1877917641661,64.62267427579381,64.05034616689697,63.51617996958811,62.94363443737534,62.370097261167366,61.7726251818695,61.20134552410558,60.62761861786045,60.04987015034463,59.47145651552464,58.8832603140381,58.236628025371395,57.53677645413849,56.83692426838377,56.13161431088994,55.42218461512898,54.7231232706239,54.02923081587353,53.3330568384248,52.63943737031043,51.94737597716072,51.283253521656704,50.62996024858259,49.98012308165774,49.331297704584024,48.68603002244665,48.042910549351525,47.4043586144919]},\"selected\":{\"id\":\"2523\",\"type\":\"Selection\"},\"selection_policy\":{\"id\":\"2524\",\"type\":\"UnionRenderers\"}},\"id\":\"2487\",\"type\":\"ColumnDataSource\"},{\"attributes\":{\"fill_alpha\":{\"value\":0.1},\"fill_color\":{\"value\":\"#1f77b4\"},\"line_alpha\":{\"value\":0.1},\"line_color\":{\"value\":\"#1f77b4\"},\"size\":{\"units\":\"screen\",\"value\":1},\"x\":{\"field\":\"x\"},\"y\":{\"field\":\"y\"}},\"id\":\"2505\",\"type\":\"Circle\"},{\"attributes\":{},\"id\":\"2523\",\"type\":\"Selection\"},{\"attributes\":{\"source\":{\"id\":\"2469\",\"type\":\"ColumnDataSource\"}},\"id\":\"2473\",\"type\":\"CDSView\"},{\"attributes\":{\"line_alpha\":0.1,\"line_color\":\"#1f77b4\",\"line_width\":3,\"x\":{\"field\":\"x\"},\"y\":{\"field\":\"y\"}},\"id\":\"2489\",\"type\":\"Line\"},{\"attributes\":{\"label\":{\"value\":\"OECD\"},\"renderers\":[{\"id\":\"2511\",\"type\":\"GlyphRenderer\"}]},\"id\":\"2527\",\"type\":\"LegendItem\"},{\"attributes\":{},\"id\":\"2501\",\"type\":\"UnionRenderers\"},{\"attributes\":{\"data_source\":{\"id\":\"2482\",\"type\":\"ColumnDataSource\"},\"glyph\":{\"id\":\"2483\",\"type\":\"Circle\"},\"hover_glyph\":null,\"muted_glyph\":null,\"nonselection_glyph\":{\"id\":\"2484\",\"type\":\"Circle\"},\"selection_glyph\":null,\"view\":{\"id\":\"2486\",\"type\":\"CDSView\"}},\"id\":\"2485\",\"type\":\"GlyphRenderer\"},{\"attributes\":{\"line_color\":\"#2CC775\",\"line_width\":3,\"x\":{\"field\":\"x\"},\"y\":{\"field\":\"y\"}},\"id\":\"2509\",\"type\":\"Line\"},{\"attributes\":{},\"id\":\"2524\",\"type\":\"UnionRenderers\"},{\"attributes\":{\"active_drag\":\"auto\",\"active_inspect\":\"auto\",\"active_multi\":null,\"active_scroll\":\"auto\",\"active_tap\":\"auto\",\"tools\":[{\"id\":\"2456\",\"type\":\"PanTool\"},{\"id\":\"2457\",\"type\":\"WheelZoomTool\"},{\"id\":\"2458\",\"type\":\"BoxZoomTool\"},{\"id\":\"2459\",\"type\":\"SaveTool\"},{\"id\":\"2460\",\"type\":\"ResetTool\"},{\"id\":\"2461\",\"type\":\"HelpTool\"},{\"id\":\"2533\",\"type\":\"HoverTool\"}]},\"id\":\"2462\",\"type\":\"Toolbar\"},{\"attributes\":{\"line_color\":\"#FA1857\",\"line_width\":3,\"x\":{\"field\":\"x\"},\"y\":{\"field\":\"y\"}},\"id\":\"2470\",\"type\":\"Line\"},{\"attributes\":{\"fill_color\":{\"value\":\"#5430F1\"},\"line_color\":{\"value\":\"#5430F1\"},\"size\":{\"units\":\"screen\",\"value\":1},\"x\":{\"field\":\"x\"},\"y\":{\"field\":\"y\"}},\"id\":\"2504\",\"type\":\"Circle\"},{\"attributes\":{},\"id\":\"2525\",\"type\":\"Selection\"},{\"attributes\":{\"callback\":null},\"id\":\"2438\",\"type\":\"DataRange1d\"},{\"attributes\":{\"callback\":null,\"data\":{\"x\":[\"1962\",\"1963\",\"1964\",\"1965\",\"1966\",\"1967\",\"1968\",\"1969\",\"1970\",\"1971\",\"1972\",\"1973\",\"1974\",\"1975\",\"1976\",\"1977\",\"1978\",\"1979\",\"1980\",\"1981\",\"1982\",\"1983\",\"1984\",\"1985\",\"1986\",\"1987\",\"1988\",\"1989\",\"1990\",\"1991\",\"1992\",\"1993\",\"1994\",\"1995\",\"1996\",\"1997\",\"1998\",\"1999\",\"2000\",\"2001\",\"2002\",\"2003\",\"2004\",\"2005\",\"2006\",\"2007\",\"2008\",\"2009\",\"2010\",\"2011\",\"2012\",\"2013\",\"2014\",\"2015\",\"2016\",\"2017\"],\"y\":[88.49317080122637,88.22840028265047,87.94990263493402,87.66155033648887,87.3641390310271,87.03385889268613,86.68982762918448,86.32916622899764,85.96775037463605,85.56855469902285,85.1428495686006,84.7117431310034,84.2752466550058,84.38589084454625,83.92375685724423,83.44096820409904,82.94024522267715,82.45591103908215,81.89333073011242,81.39378812254,81.04714420871082,80.66838842845898,80.24385790029407,79.79355991817908,79.3378233597624,78.87648632012264,78.40713078056805,77.9598005058758,77.49936799859805,77.06556198170198,76.66187797875509,76.27777894361772,75.94330765183989,75.62327542673187,75.30351373978903,74.97382646969444,74.65033879869868,74.3275699289948,73.99938422128915,73.61927055073161,73.2102923285181,72.78732929275272,72.36248070735364,71.92319139086008,71.4887276102885,71.09761887631305,70.61576005817462,70.12466145048869,69.62580805480984,69.12023174484858,68.6437134604995,68.14647270790401,67.64336558698045,67.13448240573528,66.61970742292803,66.09925314007546]},\"selected\":{\"id\":\"2498\",\"type\":\"Selection\"},\"selection_policy\":{\"id\":\"2499\",\"type\":\"UnionRenderers\"}},\"id\":\"2469\",\"type\":\"ColumnDataSource\"},{\"attributes\":{\"callback\":null,\"data\":{\"x\":[\"1962\",\"1963\",\"1964\",\"1965\",\"1966\",\"1967\",\"1968\",\"1969\",\"1970\",\"1971\",\"1972\",\"1973\",\"1974\",\"1975\",\"1976\",\"1977\",\"1978\",\"1979\",\"1980\",\"1981\",\"1982\",\"1983\",\"1984\",\"1985\",\"1986\",\"1987\",\"1988\",\"1989\",\"1990\",\"1991\",\"1992\",\"1993\",\"1994\",\"1995\",\"1996\",\"1997\",\"1998\",\"1999\",\"2000\",\"2001\",\"2002\",\"2003\",\"2004\",\"2005\",\"2006\",\"2007\",\"2008\",\"2009\",\"2010\",\"2011\",\"2012\",\"2013\",\"2014\",\"2015\",\"2016\",\"2017\"],\"y\":[76.36339285706455,75.90657569857643,75.44052033579077,75.26400028680143,75.08339297208057,74.88663372543422,74.69354781183536,74.50525820996135,74.31608190924274,74.0994295857478,73.84165122691049,73.53470588085722,73.18012411831,72.8174531601147,72.46881304831041,72.11284869316286,71.63344265720838,71.03048255353748,70.41825210024072,69.78091162633353,69.1609761614545,68.5951423309108,68.01991309071222,67.44534086814598,66.87635574289399,66.31309198875933,65.7505405937328,65.1877917641661,64.62267427579381,64.05034616689697,63.51617996958811,62.94363443737534,62.370097261167366,61.7726251818695,61.20134552410558,60.62761861786045,60.04987015034463,59.47145651552464,58.8832603140381,58.236628025371395,57.53677645413849,56.83692426838377,56.13161431088994,55.42218461512898,54.7231232706239,54.02923081587353,53.3330568384248,52.63943737031043,51.94737597716072,51.283253521656704,50.62996024858259,49.98012308165774,49.331297704584024,48.68603002244665,48.042910549351525,47.4043586144919]},\"selected\":{\"id\":\"2525\",\"type\":\"Selection\"},\"selection_policy\":{\"id\":\"2526\",\"type\":\"UnionRenderers\"}},\"id\":\"2503\",\"type\":\"ColumnDataSource\"},{\"attributes\":{},\"id\":\"2526\",\"type\":\"UnionRenderers\"},{\"attributes\":{\"callback\":null,\"data\":{\"x\":[\"1962\",\"1963\",\"1964\",\"1965\",\"1966\",\"1967\",\"1968\",\"1969\",\"1970\",\"1971\",\"1972\",\"1973\",\"1974\",\"1975\",\"1976\",\"1977\",\"1978\",\"1979\",\"1980\",\"1981\",\"1982\",\"1983\",\"1984\",\"1985\",\"1986\",\"1987\",\"1988\",\"1989\",\"1990\",\"1991\",\"1992\",\"1993\",\"1994\",\"1995\",\"1996\",\"1997\",\"1998\",\"1999\",\"2000\",\"2001\",\"2002\",\"2003\",\"2004\",\"2005\",\"2006\",\"2007\",\"2008\",\"2009\",\"2010\",\"2011\",\"2012\",\"2013\",\"2014\",\"2015\",\"2016\",\"2017\"],\"y\":[88.49317080122637,88.22840028265047,87.94990263493402,87.66155033648887,87.3641390310271,87.03385889268613,86.68982762918448,86.32916622899764,85.96775037463605,85.56855469902285,85.1428495686006,84.7117431310034,84.2752466550058,84.38589084454625,83.92375685724423,83.44096820409904,82.94024522267715,82.45591103908215,81.89333073011242,81.39378812254,81.04714420871082,80.66838842845898,80.24385790029407,79.79355991817908,79.3378233597624,78.87648632012264,78.40713078056805,77.9598005058758,77.49936799859805,77.06556198170198,76.66187797875509,76.27777894361772,75.94330765183989,75.62327542673187,75.30351373978903,74.97382646969444,74.65033879869868,74.3275699289948,73.99938422128915,73.61927055073161,73.2102923285181,72.78732929275272,72.36248070735364,71.92319139086008,71.4887276102885,71.09761887631305,70.61576005817462,70.12466145048869,69.62580805480984,69.12023174484858,68.6437134604995,68.14647270790401,67.64336558698045,67.13448240573528,66.61970742292803,66.09925314007546]},\"selected\":{\"id\":\"2500\",\"type\":\"Selection\"},\"selection_policy\":{\"id\":\"2501\",\"type\":\"UnionRenderers\"}},\"id\":\"2482\",\"type\":\"ColumnDataSource\"},{\"attributes\":{},\"id\":\"2500\",\"type\":\"Selection\"},{\"attributes\":{\"line_alpha\":0.1,\"line_color\":\"#1f77b4\",\"line_width\":3,\"x\":{\"field\":\"x\"},\"y\":{\"field\":\"y\"}},\"id\":\"2471\",\"type\":\"Line\"},{\"attributes\":{\"line_color\":\"#5430F1\",\"line_width\":3,\"x\":{\"field\":\"x\"},\"y\":{\"field\":\"y\"}},\"id\":\"2488\",\"type\":\"Line\"},{\"attributes\":{\"callback\":null,\"tooltips\":\"                \\n        <div style=padding=5px>Year:@x</div>\\n        <div style=padding=5px>Value:@y</div>        \\n        \"},\"id\":\"2533\",\"type\":\"HoverTool\"},{\"attributes\":{\"fill_color\":{\"value\":\"#2CC775\"},\"line_color\":{\"value\":\"#2CC775\"},\"size\":{\"units\":\"screen\",\"value\":1},\"x\":{\"field\":\"x\"},\"y\":{\"field\":\"y\"}},\"id\":\"2529\",\"type\":\"Circle\"},{\"attributes\":{\"bottom_units\":\"screen\",\"fill_alpha\":{\"value\":0.5},\"fill_color\":{\"value\":\"lightgrey\"},\"left_units\":\"screen\",\"level\":\"overlay\",\"line_alpha\":{\"value\":1.0},\"line_color\":{\"value\":\"black\"},\"line_dash\":[4,4],\"line_width\":{\"value\":2},\"render_mode\":\"css\",\"right_units\":\"screen\",\"top_units\":\"screen\"},\"id\":\"2479\",\"type\":\"BoxAnnotation\"},{\"attributes\":{\"callback\":null,\"data\":{\"x\":[\"1962\",\"1963\",\"1964\",\"1965\",\"1966\",\"1967\",\"1968\",\"1969\",\"1970\",\"1971\",\"1972\",\"1973\",\"1974\",\"1975\",\"1976\",\"1977\",\"1978\",\"1979\",\"1980\",\"1981\",\"1982\",\"1983\",\"1984\",\"1985\",\"1986\",\"1987\",\"1988\",\"1989\",\"1990\",\"1991\",\"1992\",\"1993\",\"1994\",\"1995\",\"1996\",\"1997\",\"1998\",\"1999\",\"2000\",\"2001\",\"2002\",\"2003\",\"2004\",\"2005\",\"2006\",\"2007\",\"2008\",\"2009\",\"2010\",\"2011\",\"2012\",\"2013\",\"2014\",\"2015\",\"2016\",\"2017\"],\"y\":[36.42127360665778,35.91623000953568,35.41312563450036,34.91259283883799,34.41460814240305,33.906853776784544,33.41175944934178,32.93243762343052,32.47371657833314,32.08243047483682,31.72254341724644,31.376230937591238,31.02541989859808,30.694684316251664,30.439520115174478,30.192444164715646,29.942960728335073,29.698117424398575,29.45271291536762,29.159197365938237,28.884819993799557,28.62443020571846,28.373177767459325,28.121981510199006,27.8604458404359,27.578860132814693,27.299974013372434,27.04188263980006,26.764398045351797,26.48515980107442,26.22585182821077,25.962163393862863,25.69276563048598,25.42543337883581,25.181488242051362,24.9477281910235,24.714988268795185,24.48183071086911,24.25025925627994,23.905203675760802,23.504398066886452,23.123776637102807,22.758727449036055,22.408569017585673,22.085829368063017,21.7813270701607,21.485590735868247,21.19879146971327,20.918753085714805,20.70228925587614,20.51614583488052,20.332611207313864,20.1493430924518,19.961337971168508,19.770869743541244,19.576668574669895]},\"selected\":{\"id\":\"2646\",\"type\":\"Selection\"},\"selection_policy\":{\"id\":\"2647\",\"type\":\"UnionRenderers\"}},\"id\":\"2528\",\"type\":\"ColumnDataSource\"},{\"attributes\":{\"data_source\":{\"id\":\"2469\",\"type\":\"ColumnDataSource\"},\"glyph\":{\"id\":\"2470\",\"type\":\"Line\"},\"hover_glyph\":null,\"muted_glyph\":null,\"nonselection_glyph\":{\"id\":\"2471\",\"type\":\"Line\"},\"selection_glyph\":null,\"view\":{\"id\":\"2473\",\"type\":\"CDSView\"}},\"id\":\"2472\",\"type\":\"GlyphRenderer\"},{\"attributes\":{},\"id\":\"2456\",\"type\":\"PanTool\"},{\"attributes\":{\"fill_alpha\":{\"value\":0.1},\"fill_color\":{\"value\":\"#1f77b4\"},\"line_alpha\":{\"value\":0.1},\"line_color\":{\"value\":\"#1f77b4\"},\"size\":{\"units\":\"screen\",\"value\":1},\"x\":{\"field\":\"x\"},\"y\":{\"field\":\"y\"}},\"id\":\"2484\",\"type\":\"Circle\"},{\"attributes\":{},\"id\":\"2644\",\"type\":\"Selection\"},{\"attributes\":{\"text\":\"Rural population (% of total population) weighted against Population, total\"},\"id\":\"2436\",\"type\":\"Title\"},{\"attributes\":{},\"id\":\"2499\",\"type\":\"UnionRenderers\"},{\"attributes\":{},\"id\":\"2457\",\"type\":\"WheelZoomTool\"},{\"attributes\":{\"fill_alpha\":{\"value\":0.1},\"fill_color\":{\"value\":\"#1f77b4\"},\"line_alpha\":{\"value\":0.1},\"line_color\":{\"value\":\"#1f77b4\"},\"size\":{\"units\":\"screen\",\"value\":1},\"x\":{\"field\":\"x\"},\"y\":{\"field\":\"y\"}},\"id\":\"2530\",\"type\":\"Circle\"},{\"attributes\":{},\"id\":\"2461\",\"type\":\"HelpTool\"},{\"attributes\":{\"items\":[{\"id\":\"2481\",\"type\":\"LegendItem\"},{\"id\":\"2502\",\"type\":\"LegendItem\"},{\"id\":\"2527\",\"type\":\"LegendItem\"}],\"location\":\"bottom_left\"},\"id\":\"2480\",\"type\":\"Legend\"},{\"attributes\":{\"overlay\":{\"id\":\"2479\",\"type\":\"BoxAnnotation\"}},\"id\":\"2458\",\"type\":\"BoxZoomTool\"},{\"attributes\":{\"source\":{\"id\":\"2487\",\"type\":\"ColumnDataSource\"}},\"id\":\"2491\",\"type\":\"CDSView\"},{\"attributes\":{\"data_source\":{\"id\":\"2528\",\"type\":\"ColumnDataSource\"},\"glyph\":{\"id\":\"2529\",\"type\":\"Circle\"},\"hover_glyph\":null,\"muted_glyph\":null,\"nonselection_glyph\":{\"id\":\"2530\",\"type\":\"Circle\"},\"selection_glyph\":null,\"view\":{\"id\":\"2532\",\"type\":\"CDSView\"}},\"id\":\"2531\",\"type\":\"GlyphRenderer\"},{\"attributes\":{\"label\":{\"value\":\"LDCs\"},\"renderers\":[{\"id\":\"2472\",\"type\":\"GlyphRenderer\"}]},\"id\":\"2481\",\"type\":\"LegendItem\"},{\"attributes\":{\"label\":{\"value\":\"Developing excluding LDCs\"},\"renderers\":[{\"id\":\"2490\",\"type\":\"GlyphRenderer\"}]},\"id\":\"2502\",\"type\":\"LegendItem\"},{\"attributes\":{},\"id\":\"2459\",\"type\":\"SaveTool\"},{\"attributes\":{\"source\":{\"id\":\"2528\",\"type\":\"ColumnDataSource\"}},\"id\":\"2532\",\"type\":\"CDSView\"}],\"root_ids\":[\"2435\"]},\"title\":\"Bokeh Application\",\"version\":\"1.4.0\"}};\n",
       "  var render_items = [{\"docid\":\"f51891c4-5b79-411f-93fe-ee91e81134b9\",\"roots\":{\"2435\":\"f1784a1b-f4f3-4294-8e25-9162048a77b7\"}}];\n",
       "  root.Bokeh.embed.embed_items_notebook(docs_json, render_items);\n",
       "\n",
       "  }\n",
       "  if (root.Bokeh !== undefined) {\n",
       "    embed_document(root);\n",
       "  } else {\n",
       "    var attempts = 0;\n",
       "    var timer = setInterval(function(root) {\n",
       "      if (root.Bokeh !== undefined) {\n",
       "        clearInterval(timer);\n",
       "        embed_document(root);\n",
       "      } else {\n",
       "        attempts++;\n",
       "        if (attempts > 100) {\n",
       "          clearInterval(timer);\n",
       "          console.log(\"Bokeh: ERROR: Unable to run BokehJS code because BokehJS library is missing\");\n",
       "        }\n",
       "      }\n",
       "    }, 10, root)\n",
       "  }\n",
       "})(window);"
      ],
      "application/vnd.bokehjs_exec.v0+json": ""
     },
     "metadata": {
      "application/vnd.bokehjs_exec.v0+json": {
       "id": "2435"
      }
     },
     "output_type": "display_data"
    }
   ],
   "source": [
    "years = list(map(str, list(range(1962,2018))))\n",
    "# Rural population as a percentage of total population\n",
    "result = show_weighted_average(years, 'SP.RUR.TOTL.ZS', 'SP.POP.TOTL', \n",
    "                               ['LDCs', 'Developing excluding LDCs', 'OECD'], \n",
    "                                height=400, width=1000, line_width=3)"
   ]
  },
  {
   "cell_type": "code",
   "execution_count": 13,
   "metadata": {
    "slideshow": {
     "slide_type": "slide"
    }
   },
   "outputs": [
    {
     "data": {
      "text/html": [
       "\n",
       "\n",
       "\n",
       "\n",
       "\n",
       "\n",
       "  <div class=\"bk-root\" id=\"54c51f38-2c62-40e2-897a-f3a769b56eae\" data-root-id=\"2756\"></div>\n"
      ]
     },
     "metadata": {},
     "output_type": "display_data"
    },
    {
     "data": {
      "application/javascript": [
       "(function(root) {\n",
       "  function embed_document(root) {\n",
       "    \n",
       "  var docs_json = {\"52e6110e-a2aa-42c6-807d-50d62ebf8df0\":{\"roots\":{\"references\":[{\"attributes\":{\"below\":[{\"id\":\"2767\",\"type\":\"LinearAxis\"}],\"center\":[{\"id\":\"2771\",\"type\":\"Grid\"},{\"id\":\"2776\",\"type\":\"Grid\"},{\"id\":\"2801\",\"type\":\"Legend\"}],\"left\":[{\"id\":\"2772\",\"type\":\"LinearAxis\"}],\"plot_height\":400,\"plot_width\":1000,\"renderers\":[{\"id\":\"2793\",\"type\":\"GlyphRenderer\"},{\"id\":\"2806\",\"type\":\"GlyphRenderer\"},{\"id\":\"2811\",\"type\":\"GlyphRenderer\"},{\"id\":\"2827\",\"type\":\"GlyphRenderer\"},{\"id\":\"2832\",\"type\":\"GlyphRenderer\"},{\"id\":\"2852\",\"type\":\"GlyphRenderer\"}],\"title\":{\"id\":\"2757\",\"type\":\"Title\"},\"toolbar\":{\"id\":\"2783\",\"type\":\"Toolbar\"},\"x_range\":{\"id\":\"2759\",\"type\":\"DataRange1d\"},\"x_scale\":{\"id\":\"2763\",\"type\":\"LinearScale\"},\"y_range\":{\"id\":\"2761\",\"type\":\"DataRange1d\"},\"y_scale\":{\"id\":\"2765\",\"type\":\"LinearScale\"}},\"id\":\"2756\",\"subtype\":\"Figure\",\"type\":\"Plot\"},{\"attributes\":{\"line_color\":\"#FA1857\",\"line_width\":4,\"x\":{\"field\":\"x\"},\"y\":{\"field\":\"y\"}},\"id\":\"2791\",\"type\":\"Line\"},{\"attributes\":{\"line_color\":\"#2CC775\",\"line_width\":4,\"x\":{\"field\":\"x\"},\"y\":{\"field\":\"y\"}},\"id\":\"2830\",\"type\":\"Line\"},{\"attributes\":{\"fill_alpha\":{\"value\":0.1},\"fill_color\":{\"value\":\"#1f77b4\"},\"line_alpha\":{\"value\":0.1},\"line_color\":{\"value\":\"#1f77b4\"},\"size\":{\"units\":\"screen\",\"value\":1},\"x\":{\"field\":\"x\"},\"y\":{\"field\":\"y\"}},\"id\":\"2805\",\"type\":\"Circle\"},{\"attributes\":{},\"id\":\"2777\",\"type\":\"PanTool\"},{\"attributes\":{\"source\":{\"id\":\"2849\",\"type\":\"ColumnDataSource\"}},\"id\":\"2853\",\"type\":\"CDSView\"},{\"attributes\":{\"bottom_units\":\"screen\",\"fill_alpha\":{\"value\":0.5},\"fill_color\":{\"value\":\"lightgrey\"},\"left_units\":\"screen\",\"level\":\"overlay\",\"line_alpha\":{\"value\":1.0},\"line_color\":{\"value\":\"black\"},\"line_dash\":[4,4],\"line_width\":{\"value\":2},\"render_mode\":\"css\",\"right_units\":\"screen\",\"top_units\":\"screen\"},\"id\":\"2800\",\"type\":\"BoxAnnotation\"},{\"attributes\":{\"label\":{\"value\":\"LDCs\"},\"renderers\":[{\"id\":\"2793\",\"type\":\"GlyphRenderer\"}]},\"id\":\"2802\",\"type\":\"LegendItem\"},{\"attributes\":{\"data_source\":{\"id\":\"2849\",\"type\":\"ColumnDataSource\"},\"glyph\":{\"id\":\"2850\",\"type\":\"Circle\"},\"hover_glyph\":null,\"muted_glyph\":null,\"nonselection_glyph\":{\"id\":\"2851\",\"type\":\"Circle\"},\"selection_glyph\":null,\"view\":{\"id\":\"2853\",\"type\":\"CDSView\"}},\"id\":\"2852\",\"type\":\"GlyphRenderer\"},{\"attributes\":{},\"id\":\"2797\",\"type\":\"BasicTickFormatter\"},{\"attributes\":{\"callback\":null,\"data\":{\"x\":[\"2010\",\"2011\",\"2012\",\"2013\",\"2014\",\"2015\",\"2016\",\"2017\"],\"y\":[2.289573574641918,2.315743844718029,2.264232824674261,2.2602240779390366,2.1847885588963964,2.1491694265941352,2.088136748731761,2.0685491468463306]},\"selected\":{\"id\":\"2985\",\"type\":\"Selection\"},\"selection_policy\":{\"id\":\"2986\",\"type\":\"UnionRenderers\"}},\"id\":\"2849\",\"type\":\"ColumnDataSource\"},{\"attributes\":{\"callback\":null,\"data\":{\"x\":[\"2010\",\"2011\",\"2012\",\"2013\",\"2014\",\"2015\",\"2016\",\"2017\"],\"y\":[26.970813517721258,26.338322578572715,27.107809058801486,26.09339957108172,25.32319516695439,24.70843354448144,24.255117716459917,24.012036750774875]},\"selected\":{\"id\":\"2819\",\"type\":\"Selection\"},\"selection_policy\":{\"id\":\"2820\",\"type\":\"UnionRenderers\"}},\"id\":\"2790\",\"type\":\"ColumnDataSource\"},{\"attributes\":{\"source\":{\"id\":\"2803\",\"type\":\"ColumnDataSource\"}},\"id\":\"2807\",\"type\":\"CDSView\"},{\"attributes\":{\"callback\":null,\"data\":{\"x\":[\"2010\",\"2011\",\"2012\",\"2013\",\"2014\",\"2015\",\"2016\",\"2017\"],\"y\":[13.978854328501042,14.079101439324456,13.813447842599281,13.871578614770941,13.758696729529278,13.566439505653028,13.544352270945682,13.21254599532053]},\"selected\":{\"id\":\"2846\",\"type\":\"Selection\"},\"selection_policy\":{\"id\":\"2847\",\"type\":\"UnionRenderers\"}},\"id\":\"2824\",\"type\":\"ColumnDataSource\"},{\"attributes\":{},\"id\":\"2821\",\"type\":\"Selection\"},{\"attributes\":{\"items\":[{\"id\":\"2802\",\"type\":\"LegendItem\"},{\"id\":\"2823\",\"type\":\"LegendItem\"},{\"id\":\"2848\",\"type\":\"LegendItem\"}],\"location\":\"bottom_left\"},\"id\":\"2801\",\"type\":\"Legend\"},{\"attributes\":{\"fill_alpha\":{\"value\":0.1},\"fill_color\":{\"value\":\"#1f77b4\"},\"line_alpha\":{\"value\":0.1},\"line_color\":{\"value\":\"#1f77b4\"},\"size\":{\"units\":\"screen\",\"value\":1},\"x\":{\"field\":\"x\"},\"y\":{\"field\":\"y\"}},\"id\":\"2826\",\"type\":\"Circle\"},{\"attributes\":{\"fill_color\":{\"value\":\"#2CC775\"},\"line_color\":{\"value\":\"#2CC775\"},\"size\":{\"units\":\"screen\",\"value\":1},\"x\":{\"field\":\"x\"},\"y\":{\"field\":\"y\"}},\"id\":\"2850\",\"type\":\"Circle\"},{\"attributes\":{\"callback\":null,\"data\":{\"x\":[\"2010\",\"2011\",\"2012\",\"2013\",\"2014\",\"2015\",\"2016\",\"2017\"],\"y\":[2.289573574641918,2.315743844718029,2.264232824674261,2.2602240779390366,2.1847885588963964,2.1491694265941352,2.088136748731761,2.0685491468463306]},\"selected\":{\"id\":\"2983\",\"type\":\"Selection\"},\"selection_policy\":{\"id\":\"2984\",\"type\":\"UnionRenderers\"}},\"id\":\"2829\",\"type\":\"ColumnDataSource\"},{\"attributes\":{},\"id\":\"2822\",\"type\":\"UnionRenderers\"},{\"attributes\":{},\"id\":\"2846\",\"type\":\"Selection\"},{\"attributes\":{\"fill_alpha\":{\"value\":0.1},\"fill_color\":{\"value\":\"#1f77b4\"},\"line_alpha\":{\"value\":0.1},\"line_color\":{\"value\":\"#1f77b4\"},\"size\":{\"units\":\"screen\",\"value\":1},\"x\":{\"field\":\"x\"},\"y\":{\"field\":\"y\"}},\"id\":\"2851\",\"type\":\"Circle\"},{\"attributes\":{},\"id\":\"2986\",\"type\":\"UnionRenderers\"},{\"attributes\":{\"fill_color\":{\"value\":\"#5430F1\"},\"line_color\":{\"value\":\"#5430F1\"},\"size\":{\"units\":\"screen\",\"value\":1},\"x\":{\"field\":\"x\"},\"y\":{\"field\":\"y\"}},\"id\":\"2825\",\"type\":\"Circle\"},{\"attributes\":{},\"id\":\"2847\",\"type\":\"UnionRenderers\"},{\"attributes\":{\"fill_color\":{\"value\":\"#FA1857\"},\"line_color\":{\"value\":\"#FA1857\"},\"size\":{\"units\":\"screen\",\"value\":1},\"x\":{\"field\":\"x\"},\"y\":{\"field\":\"y\"}},\"id\":\"2804\",\"type\":\"Circle\"},{\"attributes\":{\"source\":{\"id\":\"2808\",\"type\":\"ColumnDataSource\"}},\"id\":\"2812\",\"type\":\"CDSView\"},{\"attributes\":{},\"id\":\"2799\",\"type\":\"BasicTickFormatter\"},{\"attributes\":{\"data_source\":{\"id\":\"2790\",\"type\":\"ColumnDataSource\"},\"glyph\":{\"id\":\"2791\",\"type\":\"Line\"},\"hover_glyph\":null,\"muted_glyph\":null,\"nonselection_glyph\":{\"id\":\"2792\",\"type\":\"Line\"},\"selection_glyph\":null,\"view\":{\"id\":\"2794\",\"type\":\"CDSView\"}},\"id\":\"2793\",\"type\":\"GlyphRenderer\"},{\"attributes\":{\"callback\":null,\"data\":{\"x\":[\"2010\",\"2011\",\"2012\",\"2013\",\"2014\",\"2015\",\"2016\",\"2017\"],\"y\":[26.970813517721258,26.338322578572715,27.107809058801486,26.09339957108172,25.32319516695439,24.70843354448144,24.255117716459917,24.012036750774875]},\"selected\":{\"id\":\"2821\",\"type\":\"Selection\"},\"selection_policy\":{\"id\":\"2822\",\"type\":\"UnionRenderers\"}},\"id\":\"2803\",\"type\":\"ColumnDataSource\"},{\"attributes\":{\"source\":{\"id\":\"2829\",\"type\":\"ColumnDataSource\"}},\"id\":\"2833\",\"type\":\"CDSView\"},{\"attributes\":{\"source\":{\"id\":\"2790\",\"type\":\"ColumnDataSource\"}},\"id\":\"2794\",\"type\":\"CDSView\"},{\"attributes\":{},\"id\":\"2985\",\"type\":\"Selection\"},{\"attributes\":{\"data_source\":{\"id\":\"2803\",\"type\":\"ColumnDataSource\"},\"glyph\":{\"id\":\"2804\",\"type\":\"Circle\"},\"hover_glyph\":null,\"muted_glyph\":null,\"nonselection_glyph\":{\"id\":\"2805\",\"type\":\"Circle\"},\"selection_glyph\":null,\"view\":{\"id\":\"2807\",\"type\":\"CDSView\"}},\"id\":\"2806\",\"type\":\"GlyphRenderer\"},{\"attributes\":{},\"id\":\"2820\",\"type\":\"UnionRenderers\"},{\"attributes\":{},\"id\":\"2984\",\"type\":\"UnionRenderers\"},{\"attributes\":{\"text\":\"Agriculture, forestry, and fishing, value added (% of GDP) weighted against Rural population\"},\"id\":\"2757\",\"type\":\"Title\"},{\"attributes\":{},\"id\":\"2781\",\"type\":\"ResetTool\"},{\"attributes\":{},\"id\":\"2819\",\"type\":\"Selection\"},{\"attributes\":{},\"id\":\"2983\",\"type\":\"Selection\"},{\"attributes\":{},\"id\":\"2782\",\"type\":\"HelpTool\"},{\"attributes\":{},\"id\":\"2845\",\"type\":\"UnionRenderers\"},{\"attributes\":{},\"id\":\"2765\",\"type\":\"LinearScale\"},{\"attributes\":{\"label\":{\"value\":\"Developing excluding LDCs\"},\"renderers\":[{\"id\":\"2811\",\"type\":\"GlyphRenderer\"}]},\"id\":\"2823\",\"type\":\"LegendItem\"},{\"attributes\":{},\"id\":\"2844\",\"type\":\"Selection\"},{\"attributes\":{\"line_alpha\":0.1,\"line_color\":\"#1f77b4\",\"line_width\":4,\"x\":{\"field\":\"x\"},\"y\":{\"field\":\"y\"}},\"id\":\"2792\",\"type\":\"Line\"},{\"attributes\":{\"callback\":null},\"id\":\"2761\",\"type\":\"DataRange1d\"},{\"attributes\":{\"label\":{\"value\":\"OECD\"},\"renderers\":[{\"id\":\"2832\",\"type\":\"GlyphRenderer\"}]},\"id\":\"2848\",\"type\":\"LegendItem\"},{\"attributes\":{},\"id\":\"2768\",\"type\":\"BasicTicker\"},{\"attributes\":{},\"id\":\"2778\",\"type\":\"WheelZoomTool\"},{\"attributes\":{\"line_alpha\":0.1,\"line_color\":\"#1f77b4\",\"line_width\":4,\"x\":{\"field\":\"x\"},\"y\":{\"field\":\"y\"}},\"id\":\"2810\",\"type\":\"Line\"},{\"attributes\":{\"callback\":null},\"id\":\"2759\",\"type\":\"DataRange1d\"},{\"attributes\":{\"axis_label\":\"NV.AGR.TOTL.ZS\",\"formatter\":{\"id\":\"2799\",\"type\":\"BasicTickFormatter\"},\"ticker\":{\"id\":\"2773\",\"type\":\"BasicTicker\"}},\"id\":\"2772\",\"type\":\"LinearAxis\"},{\"attributes\":{\"data_source\":{\"id\":\"2808\",\"type\":\"ColumnDataSource\"},\"glyph\":{\"id\":\"2809\",\"type\":\"Line\"},\"hover_glyph\":null,\"muted_glyph\":null,\"nonselection_glyph\":{\"id\":\"2810\",\"type\":\"Line\"},\"selection_glyph\":null,\"view\":{\"id\":\"2812\",\"type\":\"CDSView\"}},\"id\":\"2811\",\"type\":\"GlyphRenderer\"},{\"attributes\":{\"overlay\":{\"id\":\"2800\",\"type\":\"BoxAnnotation\"}},\"id\":\"2779\",\"type\":\"BoxZoomTool\"},{\"attributes\":{\"line_alpha\":0.1,\"line_color\":\"#1f77b4\",\"line_width\":4,\"x\":{\"field\":\"x\"},\"y\":{\"field\":\"y\"}},\"id\":\"2831\",\"type\":\"Line\"},{\"attributes\":{\"data_source\":{\"id\":\"2824\",\"type\":\"ColumnDataSource\"},\"glyph\":{\"id\":\"2825\",\"type\":\"Circle\"},\"hover_glyph\":null,\"muted_glyph\":null,\"nonselection_glyph\":{\"id\":\"2826\",\"type\":\"Circle\"},\"selection_glyph\":null,\"view\":{\"id\":\"2828\",\"type\":\"CDSView\"}},\"id\":\"2827\",\"type\":\"GlyphRenderer\"},{\"attributes\":{},\"id\":\"2773\",\"type\":\"BasicTicker\"},{\"attributes\":{\"line_color\":\"#5430F1\",\"line_width\":4,\"x\":{\"field\":\"x\"},\"y\":{\"field\":\"y\"}},\"id\":\"2809\",\"type\":\"Line\"},{\"attributes\":{\"grid_line_color\":null,\"ticker\":{\"id\":\"2768\",\"type\":\"BasicTicker\"}},\"id\":\"2771\",\"type\":\"Grid\"},{\"attributes\":{\"axis_label\":\"Years\",\"formatter\":{\"id\":\"2797\",\"type\":\"BasicTickFormatter\"},\"ticker\":{\"id\":\"2768\",\"type\":\"BasicTicker\"}},\"id\":\"2767\",\"type\":\"LinearAxis\"},{\"attributes\":{\"data_source\":{\"id\":\"2829\",\"type\":\"ColumnDataSource\"},\"glyph\":{\"id\":\"2830\",\"type\":\"Line\"},\"hover_glyph\":null,\"muted_glyph\":null,\"nonselection_glyph\":{\"id\":\"2831\",\"type\":\"Line\"},\"selection_glyph\":null,\"view\":{\"id\":\"2833\",\"type\":\"CDSView\"}},\"id\":\"2832\",\"type\":\"GlyphRenderer\"},{\"attributes\":{\"active_drag\":\"auto\",\"active_inspect\":\"auto\",\"active_multi\":null,\"active_scroll\":\"auto\",\"active_tap\":\"auto\",\"tools\":[{\"id\":\"2777\",\"type\":\"PanTool\"},{\"id\":\"2778\",\"type\":\"WheelZoomTool\"},{\"id\":\"2779\",\"type\":\"BoxZoomTool\"},{\"id\":\"2780\",\"type\":\"SaveTool\"},{\"id\":\"2781\",\"type\":\"ResetTool\"},{\"id\":\"2782\",\"type\":\"HelpTool\"},{\"id\":\"2854\",\"type\":\"HoverTool\"}]},\"id\":\"2783\",\"type\":\"Toolbar\"},{\"attributes\":{},\"id\":\"2780\",\"type\":\"SaveTool\"},{\"attributes\":{\"callback\":null,\"tooltips\":\"                \\n        <div style=padding=5px>Year:@x</div>\\n        <div style=padding=5px>Value:@y</div>        \\n        \"},\"id\":\"2854\",\"type\":\"HoverTool\"},{\"attributes\":{\"callback\":null,\"data\":{\"x\":[\"2010\",\"2011\",\"2012\",\"2013\",\"2014\",\"2015\",\"2016\",\"2017\"],\"y\":[13.978854328501042,14.079101439324456,13.813447842599281,13.871578614770941,13.758696729529278,13.566439505653028,13.544352270945682,13.21254599532053]},\"selected\":{\"id\":\"2844\",\"type\":\"Selection\"},\"selection_policy\":{\"id\":\"2845\",\"type\":\"UnionRenderers\"}},\"id\":\"2808\",\"type\":\"ColumnDataSource\"},{\"attributes\":{},\"id\":\"2763\",\"type\":\"LinearScale\"},{\"attributes\":{\"source\":{\"id\":\"2824\",\"type\":\"ColumnDataSource\"}},\"id\":\"2828\",\"type\":\"CDSView\"},{\"attributes\":{\"dimension\":1,\"grid_line_alpha\":0.5,\"ticker\":{\"id\":\"2773\",\"type\":\"BasicTicker\"}},\"id\":\"2776\",\"type\":\"Grid\"}],\"root_ids\":[\"2756\"]},\"title\":\"Bokeh Application\",\"version\":\"1.4.0\"}};\n",
       "  var render_items = [{\"docid\":\"52e6110e-a2aa-42c6-807d-50d62ebf8df0\",\"roots\":{\"2756\":\"54c51f38-2c62-40e2-897a-f3a769b56eae\"}}];\n",
       "  root.Bokeh.embed.embed_items_notebook(docs_json, render_items);\n",
       "\n",
       "  }\n",
       "  if (root.Bokeh !== undefined) {\n",
       "    embed_document(root);\n",
       "  } else {\n",
       "    var attempts = 0;\n",
       "    var timer = setInterval(function(root) {\n",
       "      if (root.Bokeh !== undefined) {\n",
       "        clearInterval(timer);\n",
       "        embed_document(root);\n",
       "      } else {\n",
       "        attempts++;\n",
       "        if (attempts > 100) {\n",
       "          clearInterval(timer);\n",
       "          console.log(\"Bokeh: ERROR: Unable to run BokehJS code because BokehJS library is missing\");\n",
       "        }\n",
       "      }\n",
       "    }, 10, root)\n",
       "  }\n",
       "})(window);"
      ],
      "application/vnd.bokehjs_exec.v0+json": ""
     },
     "metadata": {
      "application/vnd.bokehjs_exec.v0+json": {
       "id": "2756"
      }
     },
     "output_type": "display_data"
    }
   ],
   "source": [
    "years = list(map(str, list(range(2010,2018))))\n",
    "result = show_weighted_average(years, 'NV.AGR.TOTL.ZS', 'SP.RUR.TOTL', \n",
    "                               ['LDCs', 'Developing excluding LDCs', 'OECD'], \n",
    "                                height=400, width=1000, line_width=4)"
   ]
  },
  {
   "cell_type": "code",
   "execution_count": 14,
   "metadata": {
    "ExecuteTime": {
     "end_time": "2019-10-25T14:24:46.376641Z",
     "start_time": "2019-10-25T14:24:45.418470Z"
    },
    "slideshow": {
     "slide_type": "slide"
    }
   },
   "outputs": [
    {
     "data": {
      "text/html": [
       "\n",
       "\n",
       "\n",
       "\n",
       "\n",
       "\n",
       "  <div class=\"bk-root\" id=\"de0616e0-f35a-4059-8122-8dcb5f246a2d\" data-root-id=\"3095\"></div>\n"
      ]
     },
     "metadata": {},
     "output_type": "display_data"
    },
    {
     "data": {
      "application/javascript": [
       "(function(root) {\n",
       "  function embed_document(root) {\n",
       "    \n",
       "  var docs_json = {\"94ee3cc1-9446-4108-9828-79312a0bf2c9\":{\"roots\":{\"references\":[{\"attributes\":{\"below\":[{\"id\":\"3106\",\"type\":\"LinearAxis\"}],\"center\":[{\"id\":\"3110\",\"type\":\"Grid\"},{\"id\":\"3115\",\"type\":\"Grid\"},{\"id\":\"3140\",\"type\":\"Legend\"}],\"left\":[{\"id\":\"3111\",\"type\":\"LinearAxis\"}],\"plot_height\":400,\"plot_width\":1000,\"renderers\":[{\"id\":\"3132\",\"type\":\"GlyphRenderer\"},{\"id\":\"3145\",\"type\":\"GlyphRenderer\"}],\"title\":{\"id\":\"3096\",\"type\":\"Title\"},\"toolbar\":{\"id\":\"3122\",\"type\":\"Toolbar\"},\"x_range\":{\"id\":\"3098\",\"type\":\"DataRange1d\"},\"x_scale\":{\"id\":\"3102\",\"type\":\"LinearScale\"},\"y_range\":{\"id\":\"3100\",\"type\":\"DataRange1d\"},\"y_scale\":{\"id\":\"3104\",\"type\":\"LinearScale\"}},\"id\":\"3095\",\"subtype\":\"Figure\",\"type\":\"Plot\"},{\"attributes\":{\"grid_line_color\":null,\"ticker\":{\"id\":\"3107\",\"type\":\"BasicTicker\"}},\"id\":\"3110\",\"type\":\"Grid\"},{\"attributes\":{},\"id\":\"3119\",\"type\":\"SaveTool\"},{\"attributes\":{\"callback\":null},\"id\":\"3098\",\"type\":\"DataRange1d\"},{\"attributes\":{\"line_color\":\"#FA1857\",\"line_width\":4,\"x\":{\"field\":\"x\"},\"y\":{\"field\":\"y\"}},\"id\":\"3130\",\"type\":\"Line\"},{\"attributes\":{\"fill_color\":{\"value\":\"#FA1857\"},\"line_color\":{\"value\":\"#FA1857\"},\"size\":{\"units\":\"screen\",\"value\":3},\"x\":{\"field\":\"x\"},\"y\":{\"field\":\"y\"}},\"id\":\"3143\",\"type\":\"Circle\"},{\"attributes\":{\"fill_alpha\":{\"value\":0.1},\"fill_color\":{\"value\":\"#1f77b4\"},\"line_alpha\":{\"value\":0.1},\"line_color\":{\"value\":\"#1f77b4\"},\"size\":{\"units\":\"screen\",\"value\":3},\"x\":{\"field\":\"x\"},\"y\":{\"field\":\"y\"}},\"id\":\"3144\",\"type\":\"Circle\"},{\"attributes\":{\"callback\":null,\"data\":{\"x\":[\"2010\",\"2011\",\"2012\",\"2013\",\"2014\",\"2015\",\"2016\",\"2017\"],\"y\":[590103650.0,599729467.0,607552372.0,617585217.0,627707285.0,637891695.0,648126174.0,658398338.0]},\"selected\":{\"id\":\"3286\",\"type\":\"Selection\"},\"selection_policy\":{\"id\":\"3287\",\"type\":\"UnionRenderers\"}},\"id\":\"3129\",\"type\":\"ColumnDataSource\"},{\"attributes\":{},\"id\":\"3289\",\"type\":\"UnionRenderers\"},{\"attributes\":{\"items\":[{\"id\":\"3141\",\"type\":\"LegendItem\"}],\"location\":\"bottom_left\"},\"id\":\"3140\",\"type\":\"Legend\"},{\"attributes\":{\"line_alpha\":0.1,\"line_color\":\"#1f77b4\",\"line_width\":4,\"x\":{\"field\":\"x\"},\"y\":{\"field\":\"y\"}},\"id\":\"3131\",\"type\":\"Line\"},{\"attributes\":{\"bottom_units\":\"screen\",\"fill_alpha\":{\"value\":0.5},\"fill_color\":{\"value\":\"lightgrey\"},\"left_units\":\"screen\",\"level\":\"overlay\",\"line_alpha\":{\"value\":1.0},\"line_color\":{\"value\":\"black\"},\"line_dash\":[4,4],\"line_width\":{\"value\":2},\"render_mode\":\"css\",\"right_units\":\"screen\",\"top_units\":\"screen\"},\"id\":\"3139\",\"type\":\"BoxAnnotation\"},{\"attributes\":{},\"id\":\"3287\",\"type\":\"UnionRenderers\"},{\"attributes\":{},\"id\":\"3120\",\"type\":\"ResetTool\"},{\"attributes\":{},\"id\":\"3107\",\"type\":\"BasicTicker\"},{\"attributes\":{\"source\":{\"id\":\"3129\",\"type\":\"ColumnDataSource\"}},\"id\":\"3133\",\"type\":\"CDSView\"},{\"attributes\":{\"active_drag\":\"auto\",\"active_inspect\":\"auto\",\"active_multi\":null,\"active_scroll\":\"auto\",\"active_tap\":\"auto\",\"tools\":[{\"id\":\"3116\",\"type\":\"PanTool\"},{\"id\":\"3117\",\"type\":\"WheelZoomTool\"},{\"id\":\"3118\",\"type\":\"BoxZoomTool\"},{\"id\":\"3119\",\"type\":\"SaveTool\"},{\"id\":\"3120\",\"type\":\"ResetTool\"},{\"id\":\"3121\",\"type\":\"HelpTool\"},{\"id\":\"3147\",\"type\":\"HoverTool\"}]},\"id\":\"3122\",\"type\":\"Toolbar\"},{\"attributes\":{},\"id\":\"3136\",\"type\":\"BasicTickFormatter\"},{\"attributes\":{},\"id\":\"3117\",\"type\":\"WheelZoomTool\"},{\"attributes\":{\"text\":\"Rural population\"},\"id\":\"3096\",\"type\":\"Title\"},{\"attributes\":{\"axis_label\":\"SP.RUR.TOTL\",\"formatter\":{\"id\":\"3138\",\"type\":\"BasicTickFormatter\"},\"ticker\":{\"id\":\"3112\",\"type\":\"BasicTicker\"}},\"id\":\"3111\",\"type\":\"LinearAxis\"},{\"attributes\":{},\"id\":\"3116\",\"type\":\"PanTool\"},{\"attributes\":{},\"id\":\"3286\",\"type\":\"Selection\"},{\"attributes\":{},\"id\":\"3138\",\"type\":\"BasicTickFormatter\"},{\"attributes\":{\"data_source\":{\"id\":\"3142\",\"type\":\"ColumnDataSource\"},\"glyph\":{\"id\":\"3143\",\"type\":\"Circle\"},\"hover_glyph\":null,\"muted_glyph\":null,\"nonselection_glyph\":{\"id\":\"3144\",\"type\":\"Circle\"},\"selection_glyph\":null,\"view\":{\"id\":\"3146\",\"type\":\"CDSView\"}},\"id\":\"3145\",\"type\":\"GlyphRenderer\"},{\"attributes\":{},\"id\":\"3104\",\"type\":\"LinearScale\"},{\"attributes\":{\"axis_label\":\"Years\",\"formatter\":{\"id\":\"3136\",\"type\":\"BasicTickFormatter\"},\"ticker\":{\"id\":\"3107\",\"type\":\"BasicTicker\"}},\"id\":\"3106\",\"type\":\"LinearAxis\"},{\"attributes\":{\"overlay\":{\"id\":\"3139\",\"type\":\"BoxAnnotation\"}},\"id\":\"3118\",\"type\":\"BoxZoomTool\"},{\"attributes\":{},\"id\":\"3102\",\"type\":\"LinearScale\"},{\"attributes\":{\"data_source\":{\"id\":\"3129\",\"type\":\"ColumnDataSource\"},\"glyph\":{\"id\":\"3130\",\"type\":\"Line\"},\"hover_glyph\":null,\"muted_glyph\":null,\"nonselection_glyph\":{\"id\":\"3131\",\"type\":\"Line\"},\"selection_glyph\":null,\"view\":{\"id\":\"3133\",\"type\":\"CDSView\"}},\"id\":\"3132\",\"type\":\"GlyphRenderer\"},{\"attributes\":{\"callback\":null,\"tooltips\":\"                \\n        <div style=padding=5px>Year:@x</div>\\n        <div style=padding=5px>Value:@y</div>        \\n        \"},\"id\":\"3147\",\"type\":\"HoverTool\"},{\"attributes\":{\"callback\":null},\"id\":\"3100\",\"type\":\"DataRange1d\"},{\"attributes\":{\"callback\":null,\"data\":{\"x\":[\"2010\",\"2011\",\"2012\",\"2013\",\"2014\",\"2015\",\"2016\",\"2017\"],\"y\":[590103650.0,599729467.0,607552372.0,617585217.0,627707285.0,637891695.0,648126174.0,658398338.0]},\"selected\":{\"id\":\"3288\",\"type\":\"Selection\"},\"selection_policy\":{\"id\":\"3289\",\"type\":\"UnionRenderers\"}},\"id\":\"3142\",\"type\":\"ColumnDataSource\"},{\"attributes\":{},\"id\":\"3288\",\"type\":\"Selection\"},{\"attributes\":{},\"id\":\"3112\",\"type\":\"BasicTicker\"},{\"attributes\":{\"source\":{\"id\":\"3142\",\"type\":\"ColumnDataSource\"}},\"id\":\"3146\",\"type\":\"CDSView\"},{\"attributes\":{\"label\":{\"value\":\"LDCs\"},\"renderers\":[{\"id\":\"3132\",\"type\":\"GlyphRenderer\"}]},\"id\":\"3141\",\"type\":\"LegendItem\"},{\"attributes\":{},\"id\":\"3121\",\"type\":\"HelpTool\"},{\"attributes\":{\"dimension\":1,\"grid_line_alpha\":0.5,\"ticker\":{\"id\":\"3112\",\"type\":\"BasicTicker\"}},\"id\":\"3115\",\"type\":\"Grid\"}],\"root_ids\":[\"3095\"]},\"title\":\"Bokeh Application\",\"version\":\"1.4.0\"}};\n",
       "  var render_items = [{\"docid\":\"94ee3cc1-9446-4108-9828-79312a0bf2c9\",\"roots\":{\"3095\":\"de0616e0-f35a-4059-8122-8dcb5f246a2d\"}}];\n",
       "  root.Bokeh.embed.embed_items_notebook(docs_json, render_items);\n",
       "\n",
       "  }\n",
       "  if (root.Bokeh !== undefined) {\n",
       "    embed_document(root);\n",
       "  } else {\n",
       "    var attempts = 0;\n",
       "    var timer = setInterval(function(root) {\n",
       "      if (root.Bokeh !== undefined) {\n",
       "        clearInterval(timer);\n",
       "        embed_document(root);\n",
       "      } else {\n",
       "        attempts++;\n",
       "        if (attempts > 100) {\n",
       "          clearInterval(timer);\n",
       "          console.log(\"Bokeh: ERROR: Unable to run BokehJS code because BokehJS library is missing\");\n",
       "        }\n",
       "      }\n",
       "    }, 10, root)\n",
       "  }\n",
       "})(window);"
      ],
      "application/vnd.bokehjs_exec.v0+json": ""
     },
     "metadata": {
      "application/vnd.bokehjs_exec.v0+json": {
       "id": "3095"
      }
     },
     "output_type": "display_data"
    }
   ],
   "source": [
    "result = show_group_total(years, 'SP.RUR.TOTL', ['LDCs'], \n",
    "                                height=400, width=1000, line_width=4)"
   ]
  },
  {
   "cell_type": "markdown",
   "metadata": {
    "slideshow": {
     "slide_type": "slide"
    }
   },
   "source": [
    "# Rural job creation is crucial for poverty eradication\n",
    "\n",
    " + Smallholder population have an important role in achieving food security\n",
    "\n",
    " + Importance of synergies between urban and rural development\n",
    "\n",
    " + The majority of the population lives in rural areas in LDCs, yet agriculture generates less than 30% of GDP"
   ]
  },
  {
   "cell_type": "code",
   "execution_count": 7,
   "metadata": {
    "ExecuteTime": {
     "end_time": "2019-10-25T14:24:52.788910Z",
     "start_time": "2019-10-25T14:24:46.379697Z"
    },
    "slideshow": {
     "slide_type": "slide"
    }
   },
   "outputs": [
    {
     "ename": "NameError",
     "evalue": "name 'c' is not defined",
     "output_type": "error",
     "traceback": [
      "\u001b[0;31m---------------------------------------------------------------------------\u001b[0m",
      "\u001b[0;31mNameError\u001b[0m                                 Traceback (most recent call last)",
      "\u001b[0;32m<ipython-input-7-017238d11d7c>\u001b[0m in \u001b[0;36m<module>\u001b[0;34m\u001b[0m\n\u001b[1;32m      3\u001b[0m result = show_weighted_average(years, 'SP.POP.0014.TO.ZS', 'SP.POP.TOTL', \n\u001b[1;32m      4\u001b[0m                                \u001b[0;34m[\u001b[0m\u001b[0;34m'LDCs'\u001b[0m\u001b[0;34m,\u001b[0m \u001b[0;34m'Developing excluding LDCs'\u001b[0m\u001b[0;34m,\u001b[0m \u001b[0;34m'OECD'\u001b[0m\u001b[0;34m]\u001b[0m\u001b[0;34m,\u001b[0m\u001b[0;34m\u001b[0m\u001b[0;34m\u001b[0m\u001b[0m\n\u001b[0;32m----> 5\u001b[0;31m                                 height=400, width=1000, line_width=4)\n\u001b[0m",
      "\u001b[0;32m~/Dropbox/Coding/datascrapper2/bk.py\u001b[0m in \u001b[0;36mshow_weighted_average\u001b[0;34m(years, indicator, weight, groups, **kwargs)\u001b[0m\n\u001b[1;32m    136\u001b[0m     \u001b[0mdatasets\u001b[0m \u001b[0;34m=\u001b[0m \u001b[0;34m[\u001b[0m\u001b[0;34m]\u001b[0m\u001b[0;34m\u001b[0m\u001b[0;34m\u001b[0m\u001b[0m\n\u001b[1;32m    137\u001b[0m     \u001b[0;32mfor\u001b[0m \u001b[0mgroup\u001b[0m \u001b[0;32min\u001b[0m \u001b[0mgroups\u001b[0m\u001b[0;34m:\u001b[0m\u001b[0;34m\u001b[0m\u001b[0;34m\u001b[0m\u001b[0m\n\u001b[0;32m--> 138\u001b[0;31m         \u001b[0mdata_group\u001b[0m \u001b[0;34m=\u001b[0m \u001b[0mestimate\u001b[0m\u001b[0;34m(\u001b[0m\u001b[0myears\u001b[0m\u001b[0;34m,\u001b[0m \u001b[0mindicator\u001b[0m\u001b[0;34m,\u001b[0m \u001b[0;34m[\u001b[0m\u001b[0;34m[\u001b[0m\u001b[0mgroup\u001b[0m\u001b[0;34m]\u001b[0m\u001b[0;34m]\u001b[0m\u001b[0;34m,\u001b[0m \u001b[0mweight\u001b[0m\u001b[0;34m)\u001b[0m\u001b[0;34m\u001b[0m\u001b[0;34m\u001b[0m\u001b[0m\n\u001b[0m\u001b[1;32m    139\u001b[0m         \u001b[0mx\u001b[0m \u001b[0;34m=\u001b[0m \u001b[0myears\u001b[0m\u001b[0;34m\u001b[0m\u001b[0;34m\u001b[0m\u001b[0m\n\u001b[1;32m    140\u001b[0m         \u001b[0my\u001b[0m \u001b[0;34m=\u001b[0m \u001b[0;34m[\u001b[0m\u001b[0;34m]\u001b[0m\u001b[0;34m\u001b[0m\u001b[0;34m\u001b[0m\u001b[0m\n",
      "\u001b[0;32m~/Dropbox/Coding/datascrapper2/bk.py\u001b[0m in \u001b[0;36mestimate\u001b[0;34m(years, indicator, groups, weight)\u001b[0m\n\u001b[1;32m     19\u001b[0m \u001b[0;34m\u001b[0m\u001b[0m\n\u001b[1;32m     20\u001b[0m \u001b[0;32mdef\u001b[0m \u001b[0mestimate\u001b[0m\u001b[0;34m(\u001b[0m\u001b[0myears\u001b[0m\u001b[0;34m,\u001b[0m\u001b[0mindicator\u001b[0m\u001b[0;34m,\u001b[0m \u001b[0mgroups\u001b[0m\u001b[0;34m,\u001b[0m \u001b[0mweight\u001b[0m \u001b[0;34m=\u001b[0m \u001b[0;32mNone\u001b[0m\u001b[0;34m)\u001b[0m\u001b[0;34m:\u001b[0m\u001b[0;34m\u001b[0m\u001b[0;34m\u001b[0m\u001b[0m\n\u001b[0;32m---> 21\u001b[0;31m     \u001b[0mdata_df\u001b[0m \u001b[0;34m=\u001b[0m \u001b[0mget_data_table\u001b[0m\u001b[0;34m(\u001b[0m\u001b[0myears\u001b[0m\u001b[0;34m,\u001b[0m \u001b[0mindicator\u001b[0m\u001b[0;34m,\u001b[0m \u001b[0mgroups\u001b[0m\u001b[0;34m,\u001b[0m \u001b[0mexport_to_excel\u001b[0m\u001b[0;34m=\u001b[0m\u001b[0;32mFalse\u001b[0m\u001b[0;34m)\u001b[0m\u001b[0;34m\u001b[0m\u001b[0;34m\u001b[0m\u001b[0m\n\u001b[0m\u001b[1;32m     22\u001b[0m \u001b[0;34m\u001b[0m\u001b[0m\n\u001b[1;32m     23\u001b[0m     \u001b[0;32mif\u001b[0m \u001b[0mweight\u001b[0m \u001b[0;32mis\u001b[0m \u001b[0;32mNone\u001b[0m\u001b[0;34m:\u001b[0m\u001b[0;34m\u001b[0m\u001b[0;34m\u001b[0m\u001b[0m\n",
      "\u001b[0;32m~/Dropbox/Coding/datascrapper2/sources/worldbank/datatable.py\u001b[0m in \u001b[0;36mget_data_table\u001b[0;34m(years, indicator, groups, export_to_excel)\u001b[0m\n\u001b[1;32m     13\u001b[0m         df_d = get_df(name=indicator,\n\u001b[1;32m     14\u001b[0m             \u001b[0myears\u001b[0m \u001b[0;34m=\u001b[0m \u001b[0myears\u001b[0m\u001b[0;34m,\u001b[0m\u001b[0;34m\u001b[0m\u001b[0;34m\u001b[0m\u001b[0m\n\u001b[0;32m---> 15\u001b[0;31m             \u001b[0mcountries\u001b[0m\u001b[0;34m=\u001b[0m\u001b[0mc\u001b[0m\u001b[0;34m.\u001b[0m\u001b[0mget_country_names_in_group\u001b[0m\u001b[0;34m(\u001b[0m\u001b[0mg\u001b[0m\u001b[0;34m)\u001b[0m\u001b[0;34m\u001b[0m\u001b[0;34m\u001b[0m\u001b[0m\n\u001b[0m\u001b[1;32m     16\u001b[0m             )\n\u001b[1;32m     17\u001b[0m         df_data = df_d.wide(label_field='entity',\n",
      "\u001b[0;31mNameError\u001b[0m: name 'c' is not defined"
     ]
    }
   ],
   "source": [
    "years = list(map(str, list(range(2000,2018))))\n",
    "# Population 0-14\n",
    "result = show_weighted_average(years, 'SP.POP.0014.TO.ZS', 'SP.POP.TOTL', \n",
    "                               ['LDCs', 'Developing excluding LDCs', 'OECD'], \n",
    "                                height=400, width=1000, line_width=4)"
   ]
  },
  {
   "cell_type": "code",
   "execution_count": 16,
   "metadata": {
    "slideshow": {
     "slide_type": "slide"
    }
   },
   "outputs": [
    {
     "data": {
      "text/html": [
       "\n",
       "\n",
       "\n",
       "\n",
       "\n",
       "\n",
       "  <div class=\"bk-root\" id=\"fe65e0ca-6658-4d64-b828-f722445f9cd8\" data-root-id=\"3717\"></div>\n"
      ]
     },
     "metadata": {},
     "output_type": "display_data"
    },
    {
     "data": {
      "application/javascript": [
       "(function(root) {\n",
       "  function embed_document(root) {\n",
       "    \n",
       "  var docs_json = {\"76e2c413-74f3-4caf-a437-2a7870a8f203\":{\"roots\":{\"references\":[{\"attributes\":{\"below\":[{\"id\":\"3728\",\"type\":\"LinearAxis\"}],\"center\":[{\"id\":\"3732\",\"type\":\"Grid\"},{\"id\":\"3737\",\"type\":\"Grid\"},{\"id\":\"3762\",\"type\":\"Legend\"}],\"left\":[{\"id\":\"3733\",\"type\":\"LinearAxis\"}],\"plot_height\":400,\"plot_width\":900,\"renderers\":[{\"id\":\"3754\",\"type\":\"GlyphRenderer\"},{\"id\":\"3767\",\"type\":\"GlyphRenderer\"}],\"title\":{\"id\":\"3718\",\"type\":\"Title\"},\"toolbar\":{\"id\":\"3744\",\"type\":\"Toolbar\"},\"x_range\":{\"id\":\"3720\",\"type\":\"DataRange1d\"},\"x_scale\":{\"id\":\"3724\",\"type\":\"LinearScale\"},\"y_range\":{\"id\":\"3722\",\"type\":\"DataRange1d\"},\"y_scale\":{\"id\":\"3726\",\"type\":\"LinearScale\"}},\"id\":\"3717\",\"subtype\":\"Figure\",\"type\":\"Plot\"},{\"attributes\":{\"active_drag\":\"auto\",\"active_inspect\":\"auto\",\"active_multi\":null,\"active_scroll\":\"auto\",\"active_tap\":\"auto\",\"tools\":[{\"id\":\"3738\",\"type\":\"PanTool\"},{\"id\":\"3739\",\"type\":\"WheelZoomTool\"},{\"id\":\"3740\",\"type\":\"BoxZoomTool\"},{\"id\":\"3741\",\"type\":\"SaveTool\"},{\"id\":\"3742\",\"type\":\"ResetTool\"},{\"id\":\"3743\",\"type\":\"HelpTool\"},{\"id\":\"3769\",\"type\":\"HoverTool\"}]},\"id\":\"3744\",\"type\":\"Toolbar\"},{\"attributes\":{\"callback\":null,\"data\":{\"x\":[1950.0,1951.0,1952.0,1953.0,1954.0,1955.0,1956.0,1957.0,1958.0,1959.0,1960.0,1961.0,1962.0,1963.0,1964.0,1965.0,1966.0,1967.0,1968.0,1969.0,1970.0,1971.0,1972.0,1973.0,1974.0,1975.0,1976.0,1977.0,1978.0,1979.0,1980.0,1981.0,1982.0,1983.0,1984.0,1985.0,1986.0,1987.0,1988.0,1989.0,1990.0,1991.0,1992.0,1993.0,1994.0,1995.0,1996.0,1997.0,1998.0,1999.0,2000.0,2001.0,2002.0,2003.0,2004.0,2005.0,2006.0,2007.0,2008.0,2009.0,2010.0,2011.0,2012.0,2013.0,2014.0,2015.0,2016.0,2017.0,2018.0,2019.0,2020.0],\"y\":[132855.88099999996,135623.16100000002,138407.477,141227.311,144119.51400000002,147127.231,150509.91700000002,153963.42400000003,157518.09399999998,161189.969,164981.977,169109.49200000006,173326.13599999997,177665.10000000006,182166.30499999996,186863.58400000003,192073.58499999996,197434.59099999996,202899.996,208393.333,213859.267,219331.986,224731.436,230128.11800000002,235632.36299999998,241339.312,247786.55999999997,254424.46299999993,261269.672,268312.89499999996,275543.42300000007,283376.7379999999,291350.78199999995,299481.427,307779.018,316260.33599999995,325094.9699999999,334018.047,343080.72,352344.05400000006,361846.22199999995,371586.42400000006,381491.8949999999,391487.6139999999,401463.72899999993,411352.94100000005,421795.947,432141.857,442496.88000000006,453010.24,463788.02800000005,475026.4589999999,486453.019,498005.87899999996,509581.276,521108.3789999999,532682.003,544207.1329999999,555758.8630000001,567425.0279999999,579272.7570000001,591382.7909999999,603599.0029999999,615969.5159999998,628560.117,641410.265,654453.5269999998,667655.3029999998,680941.229,694201.3130000002,707362.3299999997]},\"selected\":{\"id\":\"3938\",\"type\":\"Selection\"},\"selection_policy\":{\"id\":\"3939\",\"type\":\"UnionRenderers\"}},\"id\":\"3764\",\"type\":\"ColumnDataSource\"},{\"attributes\":{},\"id\":\"3738\",\"type\":\"PanTool\"},{\"attributes\":{\"fill_alpha\":{\"value\":0.1},\"fill_color\":{\"value\":\"#1f77b4\"},\"line_alpha\":{\"value\":0.1},\"line_color\":{\"value\":\"#1f77b4\"},\"size\":{\"units\":\"screen\",\"value\":3},\"x\":{\"field\":\"x\"},\"y\":{\"field\":\"y\"}},\"id\":\"3766\",\"type\":\"Circle\"},{\"attributes\":{},\"id\":\"3739\",\"type\":\"WheelZoomTool\"},{\"attributes\":{\"data_source\":{\"id\":\"3764\",\"type\":\"ColumnDataSource\"},\"glyph\":{\"id\":\"3765\",\"type\":\"Circle\"},\"hover_glyph\":null,\"muted_glyph\":null,\"nonselection_glyph\":{\"id\":\"3766\",\"type\":\"Circle\"},\"selection_glyph\":null,\"view\":{\"id\":\"3768\",\"type\":\"CDSView\"}},\"id\":\"3767\",\"type\":\"GlyphRenderer\"},{\"attributes\":{\"overlay\":{\"id\":\"3761\",\"type\":\"BoxAnnotation\"}},\"id\":\"3740\",\"type\":\"BoxZoomTool\"},{\"attributes\":{},\"id\":\"3726\",\"type\":\"LinearScale\"},{\"attributes\":{},\"id\":\"3741\",\"type\":\"SaveTool\"},{\"attributes\":{\"source\":{\"id\":\"3764\",\"type\":\"ColumnDataSource\"}},\"id\":\"3768\",\"type\":\"CDSView\"},{\"attributes\":{\"callback\":null},\"id\":\"3722\",\"type\":\"DataRange1d\"},{\"attributes\":{},\"id\":\"3937\",\"type\":\"UnionRenderers\"},{\"attributes\":{},\"id\":\"3742\",\"type\":\"ResetTool\"},{\"attributes\":{},\"id\":\"3724\",\"type\":\"LinearScale\"},{\"attributes\":{},\"id\":\"3936\",\"type\":\"Selection\"},{\"attributes\":{},\"id\":\"3743\",\"type\":\"HelpTool\"},{\"attributes\":{\"callback\":null},\"id\":\"3720\",\"type\":\"DataRange1d\"},{\"attributes\":{\"axis_label\":\"Years\",\"formatter\":{\"id\":\"3758\",\"type\":\"BasicTickFormatter\"},\"ticker\":{\"id\":\"3729\",\"type\":\"BasicTicker\"}},\"id\":\"3728\",\"type\":\"LinearAxis\"},{\"attributes\":{},\"id\":\"3938\",\"type\":\"Selection\"},{\"attributes\":{\"dimension\":1,\"grid_line_alpha\":0.5,\"ticker\":{\"id\":\"3734\",\"type\":\"BasicTicker\"}},\"id\":\"3737\",\"type\":\"Grid\"},{\"attributes\":{\"callback\":null,\"tooltips\":\"                \\n        <div style=padding=5px>Year:@x</div>\\n        <div style=padding=5px>Value:@y</div>        \\n        \"},\"id\":\"3769\",\"type\":\"HoverTool\"},{\"attributes\":{\"source\":{\"id\":\"3751\",\"type\":\"ColumnDataSource\"}},\"id\":\"3755\",\"type\":\"CDSView\"},{\"attributes\":{},\"id\":\"3729\",\"type\":\"BasicTicker\"},{\"attributes\":{},\"id\":\"3758\",\"type\":\"BasicTickFormatter\"},{\"attributes\":{},\"id\":\"3939\",\"type\":\"UnionRenderers\"},{\"attributes\":{\"grid_line_color\":null,\"ticker\":{\"id\":\"3729\",\"type\":\"BasicTicker\"}},\"id\":\"3732\",\"type\":\"Grid\"},{\"attributes\":{\"text\":\"\"},\"id\":\"3718\",\"type\":\"Title\"},{\"attributes\":{},\"id\":\"3760\",\"type\":\"BasicTickFormatter\"},{\"attributes\":{\"fill_color\":{\"value\":\"#FA1857\"},\"line_color\":{\"value\":\"#FA1857\"},\"size\":{\"units\":\"screen\",\"value\":3},\"x\":{\"field\":\"x\"},\"y\":{\"field\":\"y\"}},\"id\":\"3765\",\"type\":\"Circle\"},{\"attributes\":{},\"id\":\"3734\",\"type\":\"BasicTicker\"},{\"attributes\":{\"axis_label\":\"Population below 30\",\"formatter\":{\"id\":\"3760\",\"type\":\"BasicTickFormatter\"},\"ticker\":{\"id\":\"3734\",\"type\":\"BasicTicker\"}},\"id\":\"3733\",\"type\":\"LinearAxis\"},{\"attributes\":{\"items\":[{\"id\":\"3763\",\"type\":\"LegendItem\"}],\"location\":\"bottom_left\"},\"id\":\"3762\",\"type\":\"Legend\"},{\"attributes\":{\"callback\":null,\"data\":{\"x\":[1950.0,1951.0,1952.0,1953.0,1954.0,1955.0,1956.0,1957.0,1958.0,1959.0,1960.0,1961.0,1962.0,1963.0,1964.0,1965.0,1966.0,1967.0,1968.0,1969.0,1970.0,1971.0,1972.0,1973.0,1974.0,1975.0,1976.0,1977.0,1978.0,1979.0,1980.0,1981.0,1982.0,1983.0,1984.0,1985.0,1986.0,1987.0,1988.0,1989.0,1990.0,1991.0,1992.0,1993.0,1994.0,1995.0,1996.0,1997.0,1998.0,1999.0,2000.0,2001.0,2002.0,2003.0,2004.0,2005.0,2006.0,2007.0,2008.0,2009.0,2010.0,2011.0,2012.0,2013.0,2014.0,2015.0,2016.0,2017.0,2018.0,2019.0,2020.0],\"y\":[132855.88099999996,135623.16100000002,138407.477,141227.311,144119.51400000002,147127.231,150509.91700000002,153963.42400000003,157518.09399999998,161189.969,164981.977,169109.49200000006,173326.13599999997,177665.10000000006,182166.30499999996,186863.58400000003,192073.58499999996,197434.59099999996,202899.996,208393.333,213859.267,219331.986,224731.436,230128.11800000002,235632.36299999998,241339.312,247786.55999999997,254424.46299999993,261269.672,268312.89499999996,275543.42300000007,283376.7379999999,291350.78199999995,299481.427,307779.018,316260.33599999995,325094.9699999999,334018.047,343080.72,352344.05400000006,361846.22199999995,371586.42400000006,381491.8949999999,391487.6139999999,401463.72899999993,411352.94100000005,421795.947,432141.857,442496.88000000006,453010.24,463788.02800000005,475026.4589999999,486453.019,498005.87899999996,509581.276,521108.3789999999,532682.003,544207.1329999999,555758.8630000001,567425.0279999999,579272.7570000001,591382.7909999999,603599.0029999999,615969.5159999998,628560.117,641410.265,654453.5269999998,667655.3029999998,680941.229,694201.3130000002,707362.3299999997]},\"selected\":{\"id\":\"3936\",\"type\":\"Selection\"},\"selection_policy\":{\"id\":\"3937\",\"type\":\"UnionRenderers\"}},\"id\":\"3751\",\"type\":\"ColumnDataSource\"},{\"attributes\":{\"bottom_units\":\"screen\",\"fill_alpha\":{\"value\":0.5},\"fill_color\":{\"value\":\"lightgrey\"},\"left_units\":\"screen\",\"level\":\"overlay\",\"line_alpha\":{\"value\":1.0},\"line_color\":{\"value\":\"black\"},\"line_dash\":[4,4],\"line_width\":{\"value\":2},\"render_mode\":\"css\",\"right_units\":\"screen\",\"top_units\":\"screen\"},\"id\":\"3761\",\"type\":\"BoxAnnotation\"},{\"attributes\":{\"data_source\":{\"id\":\"3751\",\"type\":\"ColumnDataSource\"},\"glyph\":{\"id\":\"3752\",\"type\":\"Line\"},\"hover_glyph\":null,\"muted_glyph\":null,\"nonselection_glyph\":{\"id\":\"3753\",\"type\":\"Line\"},\"selection_glyph\":null,\"view\":{\"id\":\"3755\",\"type\":\"CDSView\"}},\"id\":\"3754\",\"type\":\"GlyphRenderer\"},{\"attributes\":{\"label\":{\"value\":\"LDCs\"},\"renderers\":[{\"id\":\"3754\",\"type\":\"GlyphRenderer\"}]},\"id\":\"3763\",\"type\":\"LegendItem\"},{\"attributes\":{\"line_alpha\":0.1,\"line_color\":\"#1f77b4\",\"line_width\":4,\"x\":{\"field\":\"x\"},\"y\":{\"field\":\"y\"}},\"id\":\"3753\",\"type\":\"Line\"},{\"attributes\":{\"line_color\":\"#FA1857\",\"line_width\":4,\"x\":{\"field\":\"x\"},\"y\":{\"field\":\"y\"}},\"id\":\"3752\",\"type\":\"Line\"}],\"root_ids\":[\"3717\"]},\"title\":\"Bokeh Application\",\"version\":\"1.4.0\"}};\n",
       "  var render_items = [{\"docid\":\"76e2c413-74f3-4caf-a437-2a7870a8f203\",\"roots\":{\"3717\":\"fe65e0ca-6658-4d64-b828-f722445f9cd8\"}}];\n",
       "  root.Bokeh.embed.embed_items_notebook(docs_json, render_items);\n",
       "\n",
       "  }\n",
       "  if (root.Bokeh !== undefined) {\n",
       "    embed_document(root);\n",
       "  } else {\n",
       "    var attempts = 0;\n",
       "    var timer = setInterval(function(root) {\n",
       "      if (root.Bokeh !== undefined) {\n",
       "        clearInterval(timer);\n",
       "        embed_document(root);\n",
       "      } else {\n",
       "        attempts++;\n",
       "        if (attempts > 100) {\n",
       "          clearInterval(timer);\n",
       "          console.log(\"Bokeh: ERROR: Unable to run BokehJS code because BokehJS library is missing\");\n",
       "        }\n",
       "      }\n",
       "    }, 10, root)\n",
       "  }\n",
       "})(window);"
      ],
      "application/vnd.bokehjs_exec.v0+json": ""
     },
     "metadata": {
      "application/vnd.bokehjs_exec.v0+json": {
       "id": "3717"
      }
     },
     "output_type": "display_data"
    }
   ],
   "source": [
    "d = sources.unpd.indicators.get_age_group_by_country_groups(\"0-29\", ['LDCs'])\n",
    "show(line_chart(d, d[0][3], x_axis_label=\"Years\", y_axis_label='Population below 30', height=400, \n",
    "                width=900, line_width=4))"
   ]
  },
  {
   "cell_type": "code",
   "execution_count": 17,
   "metadata": {
    "ExecuteTime": {
     "end_time": "2019-10-25T14:24:58.884216Z",
     "start_time": "2019-10-25T14:24:54.401294Z"
    },
    "slideshow": {
     "slide_type": "slide"
    }
   },
   "outputs": [
    {
     "data": {
      "text/html": [
       "\n",
       "\n",
       "\n",
       "\n",
       "\n",
       "\n",
       "  <div class=\"bk-root\" id=\"9e669f34-c7d7-486a-8aee-34792aed7930\" data-root-id=\"4000\"></div>\n"
      ]
     },
     "metadata": {},
     "output_type": "display_data"
    },
    {
     "data": {
      "application/javascript": [
       "(function(root) {\n",
       "  function embed_document(root) {\n",
       "    \n",
       "  var docs_json = {\"33bc4c73-eca5-40b3-a216-415e9aad3f34\":{\"roots\":{\"references\":[{\"attributes\":{\"below\":[{\"id\":\"4011\",\"type\":\"LinearAxis\"}],\"center\":[{\"id\":\"4015\",\"type\":\"Grid\"},{\"id\":\"4020\",\"type\":\"Grid\"},{\"id\":\"4045\",\"type\":\"Legend\"}],\"left\":[{\"id\":\"4016\",\"type\":\"LinearAxis\"}],\"plot_height\":400,\"plot_width\":1000,\"renderers\":[{\"id\":\"4037\",\"type\":\"GlyphRenderer\"},{\"id\":\"4050\",\"type\":\"GlyphRenderer\"},{\"id\":\"4055\",\"type\":\"GlyphRenderer\"},{\"id\":\"4071\",\"type\":\"GlyphRenderer\"},{\"id\":\"4076\",\"type\":\"GlyphRenderer\"},{\"id\":\"4096\",\"type\":\"GlyphRenderer\"}],\"title\":{\"id\":\"4001\",\"type\":\"Title\"},\"toolbar\":{\"id\":\"4027\",\"type\":\"Toolbar\"},\"x_range\":{\"id\":\"4003\",\"type\":\"DataRange1d\"},\"x_scale\":{\"id\":\"4007\",\"type\":\"LinearScale\"},\"y_range\":{\"id\":\"4005\",\"type\":\"DataRange1d\"},\"y_scale\":{\"id\":\"4009\",\"type\":\"LinearScale\"}},\"id\":\"4000\",\"subtype\":\"Figure\",\"type\":\"Plot\"},{\"attributes\":{\"fill_alpha\":{\"value\":0.1},\"fill_color\":{\"value\":\"#1f77b4\"},\"line_alpha\":{\"value\":0.1},\"line_color\":{\"value\":\"#1f77b4\"},\"size\":{\"units\":\"screen\",\"value\":1},\"x\":{\"field\":\"x\"},\"y\":{\"field\":\"y\"}},\"id\":\"4070\",\"type\":\"Circle\"},{\"attributes\":{\"active_drag\":\"auto\",\"active_inspect\":\"auto\",\"active_multi\":null,\"active_scroll\":\"auto\",\"active_tap\":\"auto\",\"tools\":[{\"id\":\"4021\",\"type\":\"PanTool\"},{\"id\":\"4022\",\"type\":\"WheelZoomTool\"},{\"id\":\"4023\",\"type\":\"BoxZoomTool\"},{\"id\":\"4024\",\"type\":\"SaveTool\"},{\"id\":\"4025\",\"type\":\"ResetTool\"},{\"id\":\"4026\",\"type\":\"HelpTool\"},{\"id\":\"4098\",\"type\":\"HoverTool\"}]},\"id\":\"4027\",\"type\":\"Toolbar\"},{\"attributes\":{\"callback\":null,\"data\":{\"x\":[\"2000\",\"2001\",\"2002\",\"2003\",\"2004\",\"2005\",\"2006\",\"2007\",\"2008\",\"2009\",\"2010\",\"2011\",\"2012\",\"2013\",\"2014\",\"2015\",\"2016\",\"2017\"],\"y\":[34.296690006630136,32.8968410303035,31.79773886292999,30.5686122583698,29.40060625275987,28.197830907824812,27.181161548902693,26.25402759144791,25.398866265707913,24.5963903225063,23.970161747111305,23.43052018307879,23.050821983980665,22.705763685275056,22.47210274575761,22.469255784991716,22.563852846171923,22.65045794352939]},\"selected\":{\"id\":\"4065\",\"type\":\"Selection\"},\"selection_policy\":{\"id\":\"4066\",\"type\":\"UnionRenderers\"}},\"id\":\"4047\",\"type\":\"ColumnDataSource\"},{\"attributes\":{\"fill_alpha\":{\"value\":0.1},\"fill_color\":{\"value\":\"#1f77b4\"},\"line_alpha\":{\"value\":0.1},\"line_color\":{\"value\":\"#1f77b4\"},\"size\":{\"units\":\"screen\",\"value\":1},\"x\":{\"field\":\"x\"},\"y\":{\"field\":\"y\"}},\"id\":\"4095\",\"type\":\"Circle\"},{\"attributes\":{},\"id\":\"4021\",\"type\":\"PanTool\"},{\"attributes\":{\"fill_alpha\":{\"value\":0.1},\"fill_color\":{\"value\":\"#1f77b4\"},\"line_alpha\":{\"value\":0.1},\"line_color\":{\"value\":\"#1f77b4\"},\"size\":{\"units\":\"screen\",\"value\":1},\"x\":{\"field\":\"x\"},\"y\":{\"field\":\"y\"}},\"id\":\"4049\",\"type\":\"Circle\"},{\"attributes\":{\"text\":\"Prevalence of undernourishment (% of population) weighted against Population, total\"},\"id\":\"4001\",\"type\":\"Title\"},{\"attributes\":{\"data_source\":{\"id\":\"4093\",\"type\":\"ColumnDataSource\"},\"glyph\":{\"id\":\"4094\",\"type\":\"Circle\"},\"hover_glyph\":null,\"muted_glyph\":null,\"nonselection_glyph\":{\"id\":\"4095\",\"type\":\"Circle\"},\"selection_glyph\":null,\"view\":{\"id\":\"4097\",\"type\":\"CDSView\"}},\"id\":\"4096\",\"type\":\"GlyphRenderer\"},{\"attributes\":{},\"id\":\"4022\",\"type\":\"WheelZoomTool\"},{\"attributes\":{\"data_source\":{\"id\":\"4068\",\"type\":\"ColumnDataSource\"},\"glyph\":{\"id\":\"4069\",\"type\":\"Circle\"},\"hover_glyph\":null,\"muted_glyph\":null,\"nonselection_glyph\":{\"id\":\"4070\",\"type\":\"Circle\"},\"selection_glyph\":null,\"view\":{\"id\":\"4072\",\"type\":\"CDSView\"}},\"id\":\"4071\",\"type\":\"GlyphRenderer\"},{\"attributes\":{},\"id\":\"4009\",\"type\":\"LinearScale\"},{\"attributes\":{\"data_source\":{\"id\":\"4047\",\"type\":\"ColumnDataSource\"},\"glyph\":{\"id\":\"4048\",\"type\":\"Circle\"},\"hover_glyph\":null,\"muted_glyph\":null,\"nonselection_glyph\":{\"id\":\"4049\",\"type\":\"Circle\"},\"selection_glyph\":null,\"view\":{\"id\":\"4051\",\"type\":\"CDSView\"}},\"id\":\"4050\",\"type\":\"GlyphRenderer\"},{\"attributes\":{\"overlay\":{\"id\":\"4044\",\"type\":\"BoxAnnotation\"}},\"id\":\"4023\",\"type\":\"BoxZoomTool\"},{\"attributes\":{\"line_color\":\"#2CC775\",\"line_width\":3,\"x\":{\"field\":\"x\"},\"y\":{\"field\":\"y\"}},\"id\":\"4074\",\"type\":\"Line\"},{\"attributes\":{\"line_color\":\"#5430F1\",\"line_width\":3,\"x\":{\"field\":\"x\"},\"y\":{\"field\":\"y\"}},\"id\":\"4053\",\"type\":\"Line\"},{\"attributes\":{\"source\":{\"id\":\"4068\",\"type\":\"ColumnDataSource\"}},\"id\":\"4072\",\"type\":\"CDSView\"},{\"attributes\":{\"source\":{\"id\":\"4093\",\"type\":\"ColumnDataSource\"}},\"id\":\"4097\",\"type\":\"CDSView\"},{\"attributes\":{},\"id\":\"4024\",\"type\":\"SaveTool\"},{\"attributes\":{\"source\":{\"id\":\"4047\",\"type\":\"ColumnDataSource\"}},\"id\":\"4051\",\"type\":\"CDSView\"},{\"attributes\":{\"callback\":null,\"data\":{\"x\":[\"2000\",\"2001\",\"2002\",\"2003\",\"2004\",\"2005\",\"2006\",\"2007\",\"2008\",\"2009\",\"2010\",\"2011\",\"2012\",\"2013\",\"2014\",\"2015\",\"2016\",\"2017\"],\"y\":[2.717504233905171,2.7154866043270727,2.7462604986550527,2.806001725421847,2.83058646052991,2.80349980744469,2.7583374960640157,2.7328716945985123,2.734358102618147,2.734445239277997,2.724690515681557,2.7229922593698563,2.711802941232593,2.6925433317980856,2.671440686153528,2.648991920011479,2.6258157949200918,2.613168165844644]},\"selected\":{\"id\":\"4285\",\"type\":\"Selection\"},\"selection_policy\":{\"id\":\"4286\",\"type\":\"UnionRenderers\"}},\"id\":\"4093\",\"type\":\"ColumnDataSource\"},{\"attributes\":{},\"id\":\"4007\",\"type\":\"LinearScale\"},{\"attributes\":{\"callback\":null,\"data\":{\"x\":[\"2000\",\"2001\",\"2002\",\"2003\",\"2004\",\"2005\",\"2006\",\"2007\",\"2008\",\"2009\",\"2010\",\"2011\",\"2012\",\"2013\",\"2014\",\"2015\",\"2016\",\"2017\"],\"y\":[2.717504233905171,2.7154866043270727,2.7462604986550527,2.806001725421847,2.83058646052991,2.80349980744469,2.7583374960640157,2.7328716945985123,2.734358102618147,2.734445239277997,2.724690515681557,2.7229922593698563,2.711802941232593,2.6925433317980856,2.671440686153528,2.648991920011479,2.6258157949200918,2.613168165844644]},\"selected\":{\"id\":\"4283\",\"type\":\"Selection\"},\"selection_policy\":{\"id\":\"4284\",\"type\":\"UnionRenderers\"}},\"id\":\"4073\",\"type\":\"ColumnDataSource\"},{\"attributes\":{},\"id\":\"4025\",\"type\":\"ResetTool\"},{\"attributes\":{\"callback\":null,\"data\":{\"x\":[\"2000\",\"2001\",\"2002\",\"2003\",\"2004\",\"2005\",\"2006\",\"2007\",\"2008\",\"2009\",\"2010\",\"2011\",\"2012\",\"2013\",\"2014\",\"2015\",\"2016\",\"2017\"],\"y\":[16.02606192520864,16.270773333279084,16.606876788025307,16.74535026220969,16.656448375078725,16.13405944602225,15.331780508336847,14.527816819573228,13.806451647166279,13.227587976590945,12.752576312725115,12.323216723695218,11.983420331424563,11.624874868210318,11.27625760481156,10.9695925016704,10.831636605682938,10.76640933924249]},\"selected\":{\"id\":\"4088\",\"type\":\"Selection\"},\"selection_policy\":{\"id\":\"4089\",\"type\":\"UnionRenderers\"}},\"id\":\"4052\",\"type\":\"ColumnDataSource\"},{\"attributes\":{},\"id\":\"4284\",\"type\":\"UnionRenderers\"},{\"attributes\":{\"callback\":null},\"id\":\"4005\",\"type\":\"DataRange1d\"},{\"attributes\":{\"line_alpha\":0.1,\"line_color\":\"#1f77b4\",\"line_width\":3,\"x\":{\"field\":\"x\"},\"y\":{\"field\":\"y\"}},\"id\":\"4075\",\"type\":\"Line\"},{\"attributes\":{},\"id\":\"4026\",\"type\":\"HelpTool\"},{\"attributes\":{\"line_alpha\":0.1,\"line_color\":\"#1f77b4\",\"line_width\":3,\"x\":{\"field\":\"x\"},\"y\":{\"field\":\"y\"}},\"id\":\"4054\",\"type\":\"Line\"},{\"attributes\":{},\"id\":\"4283\",\"type\":\"Selection\"},{\"attributes\":{\"data_source\":{\"id\":\"4073\",\"type\":\"ColumnDataSource\"},\"glyph\":{\"id\":\"4074\",\"type\":\"Line\"},\"hover_glyph\":null,\"muted_glyph\":null,\"nonselection_glyph\":{\"id\":\"4075\",\"type\":\"Line\"},\"selection_glyph\":null,\"view\":{\"id\":\"4077\",\"type\":\"CDSView\"}},\"id\":\"4076\",\"type\":\"GlyphRenderer\"},{\"attributes\":{},\"id\":\"4285\",\"type\":\"Selection\"},{\"attributes\":{\"dimension\":1,\"grid_line_alpha\":0.5,\"ticker\":{\"id\":\"4017\",\"type\":\"BasicTicker\"}},\"id\":\"4020\",\"type\":\"Grid\"},{\"attributes\":{\"data_source\":{\"id\":\"4052\",\"type\":\"ColumnDataSource\"},\"glyph\":{\"id\":\"4053\",\"type\":\"Line\"},\"hover_glyph\":null,\"muted_glyph\":null,\"nonselection_glyph\":{\"id\":\"4054\",\"type\":\"Line\"},\"selection_glyph\":null,\"view\":{\"id\":\"4056\",\"type\":\"CDSView\"}},\"id\":\"4055\",\"type\":\"GlyphRenderer\"},{\"attributes\":{\"axis_label\":\"Years\",\"formatter\":{\"id\":\"4041\",\"type\":\"BasicTickFormatter\"},\"ticker\":{\"id\":\"4012\",\"type\":\"BasicTicker\"}},\"id\":\"4011\",\"type\":\"LinearAxis\"},{\"attributes\":{},\"id\":\"4286\",\"type\":\"UnionRenderers\"},{\"attributes\":{\"source\":{\"id\":\"4034\",\"type\":\"ColumnDataSource\"}},\"id\":\"4038\",\"type\":\"CDSView\"},{\"attributes\":{\"source\":{\"id\":\"4073\",\"type\":\"ColumnDataSource\"}},\"id\":\"4077\",\"type\":\"CDSView\"},{\"attributes\":{\"grid_line_color\":null,\"ticker\":{\"id\":\"4012\",\"type\":\"BasicTicker\"}},\"id\":\"4015\",\"type\":\"Grid\"},{\"attributes\":{},\"id\":\"4041\",\"type\":\"BasicTickFormatter\"},{\"attributes\":{\"source\":{\"id\":\"4052\",\"type\":\"ColumnDataSource\"}},\"id\":\"4056\",\"type\":\"CDSView\"},{\"attributes\":{},\"id\":\"4088\",\"type\":\"Selection\"},{\"attributes\":{},\"id\":\"4063\",\"type\":\"Selection\"},{\"attributes\":{},\"id\":\"4012\",\"type\":\"BasicTicker\"},{\"attributes\":{\"label\":{\"value\":\"OECD\"},\"renderers\":[{\"id\":\"4076\",\"type\":\"GlyphRenderer\"}]},\"id\":\"4092\",\"type\":\"LegendItem\"},{\"attributes\":{},\"id\":\"4043\",\"type\":\"BasicTickFormatter\"},{\"attributes\":{\"callback\":null},\"id\":\"4003\",\"type\":\"DataRange1d\"},{\"attributes\":{\"axis_label\":\"SN.ITK.DEFC.ZS\",\"formatter\":{\"id\":\"4043\",\"type\":\"BasicTickFormatter\"},\"ticker\":{\"id\":\"4017\",\"type\":\"BasicTicker\"}},\"id\":\"4016\",\"type\":\"LinearAxis\"},{\"attributes\":{\"label\":{\"value\":\"Developing excluding LDCs\"},\"renderers\":[{\"id\":\"4055\",\"type\":\"GlyphRenderer\"}]},\"id\":\"4067\",\"type\":\"LegendItem\"},{\"attributes\":{\"fill_color\":{\"value\":\"#FA1857\"},\"line_color\":{\"value\":\"#FA1857\"},\"size\":{\"units\":\"screen\",\"value\":1},\"x\":{\"field\":\"x\"},\"y\":{\"field\":\"y\"}},\"id\":\"4048\",\"type\":\"Circle\"},{\"attributes\":{},\"id\":\"4017\",\"type\":\"BasicTicker\"},{\"attributes\":{},\"id\":\"4064\",\"type\":\"UnionRenderers\"},{\"attributes\":{},\"id\":\"4089\",\"type\":\"UnionRenderers\"},{\"attributes\":{\"items\":[{\"id\":\"4046\",\"type\":\"LegendItem\"},{\"id\":\"4067\",\"type\":\"LegendItem\"},{\"id\":\"4092\",\"type\":\"LegendItem\"}],\"location\":\"bottom_left\"},\"id\":\"4045\",\"type\":\"Legend\"},{\"attributes\":{},\"id\":\"4090\",\"type\":\"Selection\"},{\"attributes\":{\"callback\":null,\"data\":{\"x\":[\"2000\",\"2001\",\"2002\",\"2003\",\"2004\",\"2005\",\"2006\",\"2007\",\"2008\",\"2009\",\"2010\",\"2011\",\"2012\",\"2013\",\"2014\",\"2015\",\"2016\",\"2017\"],\"y\":[34.296690006630136,32.8968410303035,31.79773886292999,30.5686122583698,29.40060625275987,28.197830907824812,27.181161548902693,26.25402759144791,25.398866265707913,24.5963903225063,23.970161747111305,23.43052018307879,23.050821983980665,22.705763685275056,22.47210274575761,22.469255784991716,22.563852846171923,22.65045794352939]},\"selected\":{\"id\":\"4063\",\"type\":\"Selection\"},\"selection_policy\":{\"id\":\"4064\",\"type\":\"UnionRenderers\"}},\"id\":\"4034\",\"type\":\"ColumnDataSource\"},{\"attributes\":{},\"id\":\"4065\",\"type\":\"Selection\"},{\"attributes\":{\"line_color\":\"#FA1857\",\"line_width\":3,\"x\":{\"field\":\"x\"},\"y\":{\"field\":\"y\"}},\"id\":\"4035\",\"type\":\"Line\"},{\"attributes\":{},\"id\":\"4091\",\"type\":\"UnionRenderers\"},{\"attributes\":{\"bottom_units\":\"screen\",\"fill_alpha\":{\"value\":0.5},\"fill_color\":{\"value\":\"lightgrey\"},\"left_units\":\"screen\",\"level\":\"overlay\",\"line_alpha\":{\"value\":1.0},\"line_color\":{\"value\":\"black\"},\"line_dash\":[4,4],\"line_width\":{\"value\":2},\"render_mode\":\"css\",\"right_units\":\"screen\",\"top_units\":\"screen\"},\"id\":\"4044\",\"type\":\"BoxAnnotation\"},{\"attributes\":{},\"id\":\"4066\",\"type\":\"UnionRenderers\"},{\"attributes\":{\"fill_color\":{\"value\":\"#5430F1\"},\"line_color\":{\"value\":\"#5430F1\"},\"size\":{\"units\":\"screen\",\"value\":1},\"x\":{\"field\":\"x\"},\"y\":{\"field\":\"y\"}},\"id\":\"4069\",\"type\":\"Circle\"},{\"attributes\":{\"callback\":null,\"data\":{\"x\":[\"2000\",\"2001\",\"2002\",\"2003\",\"2004\",\"2005\",\"2006\",\"2007\",\"2008\",\"2009\",\"2010\",\"2011\",\"2012\",\"2013\",\"2014\",\"2015\",\"2016\",\"2017\"],\"y\":[16.02606192520864,16.270773333279084,16.606876788025307,16.74535026220969,16.656448375078725,16.13405944602225,15.331780508336847,14.527816819573228,13.806451647166279,13.227587976590945,12.752576312725115,12.323216723695218,11.983420331424563,11.624874868210318,11.27625760481156,10.9695925016704,10.831636605682938,10.76640933924249]},\"selected\":{\"id\":\"4090\",\"type\":\"Selection\"},\"selection_policy\":{\"id\":\"4091\",\"type\":\"UnionRenderers\"}},\"id\":\"4068\",\"type\":\"ColumnDataSource\"},{\"attributes\":{\"data_source\":{\"id\":\"4034\",\"type\":\"ColumnDataSource\"},\"glyph\":{\"id\":\"4035\",\"type\":\"Line\"},\"hover_glyph\":null,\"muted_glyph\":null,\"nonselection_glyph\":{\"id\":\"4036\",\"type\":\"Line\"},\"selection_glyph\":null,\"view\":{\"id\":\"4038\",\"type\":\"CDSView\"}},\"id\":\"4037\",\"type\":\"GlyphRenderer\"},{\"attributes\":{\"label\":{\"value\":\"LDCs\"},\"renderers\":[{\"id\":\"4037\",\"type\":\"GlyphRenderer\"}]},\"id\":\"4046\",\"type\":\"LegendItem\"},{\"attributes\":{\"fill_color\":{\"value\":\"#2CC775\"},\"line_color\":{\"value\":\"#2CC775\"},\"size\":{\"units\":\"screen\",\"value\":1},\"x\":{\"field\":\"x\"},\"y\":{\"field\":\"y\"}},\"id\":\"4094\",\"type\":\"Circle\"},{\"attributes\":{\"callback\":null,\"tooltips\":\"                \\n        <div style=padding=5px>Year:@x</div>\\n        <div style=padding=5px>Value:@y</div>        \\n        \"},\"id\":\"4098\",\"type\":\"HoverTool\"},{\"attributes\":{\"line_alpha\":0.1,\"line_color\":\"#1f77b4\",\"line_width\":3,\"x\":{\"field\":\"x\"},\"y\":{\"field\":\"y\"}},\"id\":\"4036\",\"type\":\"Line\"}],\"root_ids\":[\"4000\"]},\"title\":\"Bokeh Application\",\"version\":\"1.4.0\"}};\n",
       "  var render_items = [{\"docid\":\"33bc4c73-eca5-40b3-a216-415e9aad3f34\",\"roots\":{\"4000\":\"9e669f34-c7d7-486a-8aee-34792aed7930\"}}];\n",
       "  root.Bokeh.embed.embed_items_notebook(docs_json, render_items);\n",
       "\n",
       "  }\n",
       "  if (root.Bokeh !== undefined) {\n",
       "    embed_document(root);\n",
       "  } else {\n",
       "    var attempts = 0;\n",
       "    var timer = setInterval(function(root) {\n",
       "      if (root.Bokeh !== undefined) {\n",
       "        clearInterval(timer);\n",
       "        embed_document(root);\n",
       "      } else {\n",
       "        attempts++;\n",
       "        if (attempts > 100) {\n",
       "          clearInterval(timer);\n",
       "          console.log(\"Bokeh: ERROR: Unable to run BokehJS code because BokehJS library is missing\");\n",
       "        }\n",
       "      }\n",
       "    }, 10, root)\n",
       "  }\n",
       "})(window);"
      ],
      "application/vnd.bokehjs_exec.v0+json": ""
     },
     "metadata": {
      "application/vnd.bokehjs_exec.v0+json": {
       "id": "4000"
      }
     },
     "output_type": "display_data"
    }
   ],
   "source": [
    "# Prevalence of undernourishment (% of population)\n",
    "years = list(map(str, list(range(2000,2018))))\n",
    "result = show_weighted_average(years, 'SN.ITK.DEFC.ZS', 'SP.POP.TOTL', \n",
    "                               ['LDCs', 'Developing excluding LDCs', 'OECD'], \n",
    "                                height=400, width=1000, line_width=3)"
   ]
  },
  {
   "cell_type": "code",
   "execution_count": 18,
   "metadata": {
    "ExecuteTime": {
     "end_time": "2019-10-25T14:25:03.855925Z",
     "start_time": "2019-10-25T14:24:58.886407Z"
    },
    "slideshow": {
     "slide_type": "slide"
    }
   },
   "outputs": [
    {
     "data": {
      "text/html": [
       "\n",
       "\n",
       "\n",
       "\n",
       "\n",
       "\n",
       "  <div class=\"bk-root\" id=\"5e677ae9-4ec5-43b9-b516-bdad74e758bc\" data-root-id=\"4395\"></div>\n"
      ]
     },
     "metadata": {},
     "output_type": "display_data"
    },
    {
     "data": {
      "application/javascript": [
       "(function(root) {\n",
       "  function embed_document(root) {\n",
       "    \n",
       "  var docs_json = {\"6a7f652d-fcef-4c72-a6cc-744ee410a5cb\":{\"roots\":{\"references\":[{\"attributes\":{\"below\":[{\"id\":\"4406\",\"type\":\"LinearAxis\"}],\"center\":[{\"id\":\"4410\",\"type\":\"Grid\"},{\"id\":\"4415\",\"type\":\"Grid\"},{\"id\":\"4440\",\"type\":\"Legend\"}],\"left\":[{\"id\":\"4411\",\"type\":\"LinearAxis\"}],\"plot_height\":400,\"plot_width\":1000,\"renderers\":[{\"id\":\"4432\",\"type\":\"GlyphRenderer\"},{\"id\":\"4445\",\"type\":\"GlyphRenderer\"},{\"id\":\"4450\",\"type\":\"GlyphRenderer\"},{\"id\":\"4466\",\"type\":\"GlyphRenderer\"},{\"id\":\"4471\",\"type\":\"GlyphRenderer\"},{\"id\":\"4491\",\"type\":\"GlyphRenderer\"}],\"title\":{\"id\":\"4396\",\"type\":\"Title\"},\"toolbar\":{\"id\":\"4422\",\"type\":\"Toolbar\"},\"x_range\":{\"id\":\"4398\",\"type\":\"DataRange1d\"},\"x_scale\":{\"id\":\"4402\",\"type\":\"LinearScale\"},\"y_range\":{\"id\":\"4400\",\"type\":\"DataRange1d\"},\"y_scale\":{\"id\":\"4404\",\"type\":\"LinearScale\"}},\"id\":\"4395\",\"subtype\":\"Figure\",\"type\":\"Plot\"},{\"attributes\":{\"callback\":null,\"data\":{\"x\":[\"2000\",\"2001\",\"2002\",\"2003\",\"2004\",\"2005\",\"2006\",\"2007\",\"2008\",\"2009\",\"2010\",\"2011\",\"2012\",\"2013\",\"2014\",\"2015\",\"2016\",\"2017\"],\"y\":[6.67838532122474,7.066966145061542,6.889353323332191,6.655588423229744,6.203546783341963,5.6363019320072345,5.349287409558019,5.9381576157577065,6.354971423643562,6.88697962812065,6.44811794037661,6.779580388013174,6.758180775464634,6.834941707698121,7.185358680561078,7.821629436531289,8.043040894368179,8.132975934296237]},\"selected\":{\"id\":\"4483\",\"type\":\"Selection\"},\"selection_policy\":{\"id\":\"4484\",\"type\":\"UnionRenderers\"}},\"id\":\"4447\",\"type\":\"ColumnDataSource\"},{\"attributes\":{},\"id\":\"4420\",\"type\":\"ResetTool\"},{\"attributes\":{},\"id\":\"4438\",\"type\":\"BasicTickFormatter\"},{\"attributes\":{\"line_alpha\":0.1,\"line_color\":\"#1f77b4\",\"line_width\":3,\"x\":{\"field\":\"x\"},\"y\":{\"field\":\"y\"}},\"id\":\"4449\",\"type\":\"Line\"},{\"attributes\":{\"callback\":null,\"data\":{\"x\":[\"2000\",\"2001\",\"2002\",\"2003\",\"2004\",\"2005\",\"2006\",\"2007\",\"2008\",\"2009\",\"2010\",\"2011\",\"2012\",\"2013\",\"2014\",\"2015\",\"2016\",\"2017\"],\"y\":[6.664750789193946,7.14260825773659,7.454785931920459,7.5069480358449825,7.061134298970307,6.798358087904257,6.463499051640063,6.724561457383378,7.076831863705094,8.259612794934673,7.468578257026923,7.615305901349119,7.570593882649795,7.890298170268733,7.995508600894686,8.359319653572543,8.569945562785916,8.425056582808882]},\"selected\":{\"id\":\"4698\",\"type\":\"Selection\"},\"selection_policy\":{\"id\":\"4699\",\"type\":\"UnionRenderers\"}},\"id\":\"4488\",\"type\":\"ColumnDataSource\"},{\"attributes\":{\"source\":{\"id\":\"4442\",\"type\":\"ColumnDataSource\"}},\"id\":\"4446\",\"type\":\"CDSView\"},{\"attributes\":{\"line_alpha\":0.1,\"line_color\":\"#1f77b4\",\"line_width\":3,\"x\":{\"field\":\"x\"},\"y\":{\"field\":\"y\"}},\"id\":\"4470\",\"type\":\"Line\"},{\"attributes\":{},\"id\":\"4486\",\"type\":\"UnionRenderers\"},{\"attributes\":{},\"id\":\"4402\",\"type\":\"LinearScale\"},{\"attributes\":{},\"id\":\"4421\",\"type\":\"HelpTool\"},{\"attributes\":{},\"id\":\"4404\",\"type\":\"LinearScale\"},{\"attributes\":{\"source\":{\"id\":\"4429\",\"type\":\"ColumnDataSource\"}},\"id\":\"4433\",\"type\":\"CDSView\"},{\"attributes\":{\"fill_color\":{\"value\":\"#2CC775\"},\"line_color\":{\"value\":\"#2CC775\"},\"size\":{\"units\":\"screen\",\"value\":1},\"x\":{\"field\":\"x\"},\"y\":{\"field\":\"y\"}},\"id\":\"4489\",\"type\":\"Circle\"},{\"attributes\":{\"data_source\":{\"id\":\"4447\",\"type\":\"ColumnDataSource\"},\"glyph\":{\"id\":\"4448\",\"type\":\"Line\"},\"hover_glyph\":null,\"muted_glyph\":null,\"nonselection_glyph\":{\"id\":\"4449\",\"type\":\"Line\"},\"selection_glyph\":null,\"view\":{\"id\":\"4451\",\"type\":\"CDSView\"}},\"id\":\"4450\",\"type\":\"GlyphRenderer\"},{\"attributes\":{\"dimension\":1,\"grid_line_alpha\":0.5,\"ticker\":{\"id\":\"4412\",\"type\":\"BasicTicker\"}},\"id\":\"4415\",\"type\":\"Grid\"},{\"attributes\":{\"line_alpha\":0.1,\"line_color\":\"#1f77b4\",\"line_width\":3,\"x\":{\"field\":\"x\"},\"y\":{\"field\":\"y\"}},\"id\":\"4431\",\"type\":\"Line\"},{\"attributes\":{\"axis_label\":\"Years\",\"formatter\":{\"id\":\"4436\",\"type\":\"BasicTickFormatter\"},\"ticker\":{\"id\":\"4407\",\"type\":\"BasicTicker\"}},\"id\":\"4406\",\"type\":\"LinearAxis\"},{\"attributes\":{\"fill_alpha\":{\"value\":0.1},\"fill_color\":{\"value\":\"#1f77b4\"},\"line_alpha\":{\"value\":0.1},\"line_color\":{\"value\":\"#1f77b4\"},\"size\":{\"units\":\"screen\",\"value\":1},\"x\":{\"field\":\"x\"},\"y\":{\"field\":\"y\"}},\"id\":\"4490\",\"type\":\"Circle\"},{\"attributes\":{\"axis_label\":\"TM.VAL.FOOD.ZS.UN\",\"formatter\":{\"id\":\"4438\",\"type\":\"BasicTickFormatter\"},\"ticker\":{\"id\":\"4412\",\"type\":\"BasicTicker\"}},\"id\":\"4411\",\"type\":\"LinearAxis\"},{\"attributes\":{\"data_source\":{\"id\":\"4488\",\"type\":\"ColumnDataSource\"},\"glyph\":{\"id\":\"4489\",\"type\":\"Circle\"},\"hover_glyph\":null,\"muted_glyph\":null,\"nonselection_glyph\":{\"id\":\"4490\",\"type\":\"Circle\"},\"selection_glyph\":null,\"view\":{\"id\":\"4492\",\"type\":\"CDSView\"}},\"id\":\"4491\",\"type\":\"GlyphRenderer\"},{\"attributes\":{\"line_color\":\"#5430F1\",\"line_width\":3,\"x\":{\"field\":\"x\"},\"y\":{\"field\":\"y\"}},\"id\":\"4448\",\"type\":\"Line\"},{\"attributes\":{},\"id\":\"4458\",\"type\":\"Selection\"},{\"attributes\":{\"callback\":null},\"id\":\"4398\",\"type\":\"DataRange1d\"},{\"attributes\":{},\"id\":\"4407\",\"type\":\"BasicTicker\"},{\"attributes\":{\"source\":{\"id\":\"4463\",\"type\":\"ColumnDataSource\"}},\"id\":\"4467\",\"type\":\"CDSView\"},{\"attributes\":{},\"id\":\"4696\",\"type\":\"Selection\"},{\"attributes\":{\"grid_line_color\":null,\"ticker\":{\"id\":\"4407\",\"type\":\"BasicTicker\"}},\"id\":\"4410\",\"type\":\"Grid\"},{\"attributes\":{\"data_source\":{\"id\":\"4468\",\"type\":\"ColumnDataSource\"},\"glyph\":{\"id\":\"4469\",\"type\":\"Line\"},\"hover_glyph\":null,\"muted_glyph\":null,\"nonselection_glyph\":{\"id\":\"4470\",\"type\":\"Line\"},\"selection_glyph\":null,\"view\":{\"id\":\"4472\",\"type\":\"CDSView\"}},\"id\":\"4471\",\"type\":\"GlyphRenderer\"},{\"attributes\":{\"fill_color\":{\"value\":\"#FA1857\"},\"line_color\":{\"value\":\"#FA1857\"},\"size\":{\"units\":\"screen\",\"value\":1},\"x\":{\"field\":\"x\"},\"y\":{\"field\":\"y\"}},\"id\":\"4443\",\"type\":\"Circle\"},{\"attributes\":{\"source\":{\"id\":\"4447\",\"type\":\"ColumnDataSource\"}},\"id\":\"4451\",\"type\":\"CDSView\"},{\"attributes\":{},\"id\":\"4412\",\"type\":\"BasicTicker\"},{\"attributes\":{\"label\":{\"value\":\"Developing excluding LDCs\"},\"renderers\":[{\"id\":\"4450\",\"type\":\"GlyphRenderer\"}]},\"id\":\"4462\",\"type\":\"LegendItem\"},{\"attributes\":{\"source\":{\"id\":\"4488\",\"type\":\"ColumnDataSource\"}},\"id\":\"4492\",\"type\":\"CDSView\"},{\"attributes\":{},\"id\":\"4436\",\"type\":\"BasicTickFormatter\"},{\"attributes\":{},\"id\":\"4459\",\"type\":\"UnionRenderers\"},{\"attributes\":{\"items\":[{\"id\":\"4441\",\"type\":\"LegendItem\"},{\"id\":\"4462\",\"type\":\"LegendItem\"},{\"id\":\"4487\",\"type\":\"LegendItem\"}],\"location\":\"bottom_left\"},\"id\":\"4440\",\"type\":\"Legend\"},{\"attributes\":{\"line_color\":\"#2CC775\",\"line_width\":3,\"x\":{\"field\":\"x\"},\"y\":{\"field\":\"y\"}},\"id\":\"4469\",\"type\":\"Line\"},{\"attributes\":{},\"id\":\"4697\",\"type\":\"UnionRenderers\"},{\"attributes\":{},\"id\":\"4483\",\"type\":\"Selection\"},{\"attributes\":{\"line_color\":\"#FA1857\",\"line_width\":3,\"x\":{\"field\":\"x\"},\"y\":{\"field\":\"y\"}},\"id\":\"4430\",\"type\":\"Line\"},{\"attributes\":{},\"id\":\"4460\",\"type\":\"Selection\"},{\"attributes\":{\"callback\":null,\"data\":{\"x\":[\"2000\",\"2001\",\"2002\",\"2003\",\"2004\",\"2005\",\"2006\",\"2007\",\"2008\",\"2009\",\"2010\",\"2011\",\"2012\",\"2013\",\"2014\",\"2015\",\"2016\",\"2017\"],\"y\":[17.473674203541137,16.380118773051816,16.47513346649186,18.08613953149967,16.78490129479693,16.007482051291397,15.313322308226102,15.983622760588208,15.681066764755263,16.22610041134688,16.154563828357762,16.562353136179336,15.178298854466885,14.75804992134933,14.9560562510018,14.784916706699187,15.752772028130035,16.792717806787888]},\"selected\":{\"id\":\"4458\",\"type\":\"Selection\"},\"selection_policy\":{\"id\":\"4459\",\"type\":\"UnionRenderers\"}},\"id\":\"4429\",\"type\":\"ColumnDataSource\"},{\"attributes\":{\"source\":{\"id\":\"4468\",\"type\":\"ColumnDataSource\"}},\"id\":\"4472\",\"type\":\"CDSView\"},{\"attributes\":{\"fill_color\":{\"value\":\"#5430F1\"},\"line_color\":{\"value\":\"#5430F1\"},\"size\":{\"units\":\"screen\",\"value\":1},\"x\":{\"field\":\"x\"},\"y\":{\"field\":\"y\"}},\"id\":\"4464\",\"type\":\"Circle\"},{\"attributes\":{\"bottom_units\":\"screen\",\"fill_alpha\":{\"value\":0.5},\"fill_color\":{\"value\":\"lightgrey\"},\"left_units\":\"screen\",\"level\":\"overlay\",\"line_alpha\":{\"value\":1.0},\"line_color\":{\"value\":\"black\"},\"line_dash\":[4,4],\"line_width\":{\"value\":2},\"render_mode\":\"css\",\"right_units\":\"screen\",\"top_units\":\"screen\"},\"id\":\"4439\",\"type\":\"BoxAnnotation\"},{\"attributes\":{\"text\":\"Food imports (% of merchandise imports) weighted against Merchandise imports (current US$)\"},\"id\":\"4396\",\"type\":\"Title\"},{\"attributes\":{\"callback\":null,\"data\":{\"x\":[\"2000\",\"2001\",\"2002\",\"2003\",\"2004\",\"2005\",\"2006\",\"2007\",\"2008\",\"2009\",\"2010\",\"2011\",\"2012\",\"2013\",\"2014\",\"2015\",\"2016\",\"2017\"],\"y\":[6.67838532122474,7.066966145061542,6.889353323332191,6.655588423229744,6.203546783341963,5.6363019320072345,5.349287409558019,5.9381576157577065,6.354971423643562,6.88697962812065,6.44811794037661,6.779580388013174,6.758180775464634,6.834941707698121,7.185358680561078,7.821629436531289,8.043040894368179,8.132975934296237]},\"selected\":{\"id\":\"4485\",\"type\":\"Selection\"},\"selection_policy\":{\"id\":\"4486\",\"type\":\"UnionRenderers\"}},\"id\":\"4463\",\"type\":\"ColumnDataSource\"},{\"attributes\":{},\"id\":\"4484\",\"type\":\"UnionRenderers\"},{\"attributes\":{},\"id\":\"4699\",\"type\":\"UnionRenderers\"},{\"attributes\":{\"data_source\":{\"id\":\"4429\",\"type\":\"ColumnDataSource\"},\"glyph\":{\"id\":\"4430\",\"type\":\"Line\"},\"hover_glyph\":null,\"muted_glyph\":null,\"nonselection_glyph\":{\"id\":\"4431\",\"type\":\"Line\"},\"selection_glyph\":null,\"view\":{\"id\":\"4433\",\"type\":\"CDSView\"}},\"id\":\"4432\",\"type\":\"GlyphRenderer\"},{\"attributes\":{},\"id\":\"4461\",\"type\":\"UnionRenderers\"},{\"attributes\":{\"active_drag\":\"auto\",\"active_inspect\":\"auto\",\"active_multi\":null,\"active_scroll\":\"auto\",\"active_tap\":\"auto\",\"tools\":[{\"id\":\"4416\",\"type\":\"PanTool\"},{\"id\":\"4417\",\"type\":\"WheelZoomTool\"},{\"id\":\"4418\",\"type\":\"BoxZoomTool\"},{\"id\":\"4419\",\"type\":\"SaveTool\"},{\"id\":\"4420\",\"type\":\"ResetTool\"},{\"id\":\"4421\",\"type\":\"HelpTool\"},{\"id\":\"4493\",\"type\":\"HoverTool\"}]},\"id\":\"4422\",\"type\":\"Toolbar\"},{\"attributes\":{\"label\":{\"value\":\"OECD\"},\"renderers\":[{\"id\":\"4471\",\"type\":\"GlyphRenderer\"}]},\"id\":\"4487\",\"type\":\"LegendItem\"},{\"attributes\":{\"callback\":null,\"data\":{\"x\":[\"2000\",\"2001\",\"2002\",\"2003\",\"2004\",\"2005\",\"2006\",\"2007\",\"2008\",\"2009\",\"2010\",\"2011\",\"2012\",\"2013\",\"2014\",\"2015\",\"2016\",\"2017\"],\"y\":[6.664750789193946,7.14260825773659,7.454785931920459,7.5069480358449825,7.061134298970307,6.798358087904257,6.463499051640063,6.724561457383378,7.076831863705094,8.259612794934673,7.468578257026923,7.615305901349119,7.570593882649795,7.890298170268733,7.995508600894686,8.359319653572543,8.569945562785916,8.425056582808882]},\"selected\":{\"id\":\"4696\",\"type\":\"Selection\"},\"selection_policy\":{\"id\":\"4697\",\"type\":\"UnionRenderers\"}},\"id\":\"4468\",\"type\":\"ColumnDataSource\"},{\"attributes\":{},\"id\":\"4698\",\"type\":\"Selection\"},{\"attributes\":{\"label\":{\"value\":\"LDCs\"},\"renderers\":[{\"id\":\"4432\",\"type\":\"GlyphRenderer\"}]},\"id\":\"4441\",\"type\":\"LegendItem\"},{\"attributes\":{\"callback\":null,\"tooltips\":\"                \\n        <div style=padding=5px>Year:@x</div>\\n        <div style=padding=5px>Value:@y</div>        \\n        \"},\"id\":\"4493\",\"type\":\"HoverTool\"},{\"attributes\":{\"fill_alpha\":{\"value\":0.1},\"fill_color\":{\"value\":\"#1f77b4\"},\"line_alpha\":{\"value\":0.1},\"line_color\":{\"value\":\"#1f77b4\"},\"size\":{\"units\":\"screen\",\"value\":1},\"x\":{\"field\":\"x\"},\"y\":{\"field\":\"y\"}},\"id\":\"4465\",\"type\":\"Circle\"},{\"attributes\":{},\"id\":\"4416\",\"type\":\"PanTool\"},{\"attributes\":{\"fill_alpha\":{\"value\":0.1},\"fill_color\":{\"value\":\"#1f77b4\"},\"line_alpha\":{\"value\":0.1},\"line_color\":{\"value\":\"#1f77b4\"},\"size\":{\"units\":\"screen\",\"value\":1},\"x\":{\"field\":\"x\"},\"y\":{\"field\":\"y\"}},\"id\":\"4444\",\"type\":\"Circle\"},{\"attributes\":{},\"id\":\"4417\",\"type\":\"WheelZoomTool\"},{\"attributes\":{\"callback\":null,\"data\":{\"x\":[\"2000\",\"2001\",\"2002\",\"2003\",\"2004\",\"2005\",\"2006\",\"2007\",\"2008\",\"2009\",\"2010\",\"2011\",\"2012\",\"2013\",\"2014\",\"2015\",\"2016\",\"2017\"],\"y\":[17.473674203541137,16.380118773051816,16.47513346649186,18.08613953149967,16.78490129479693,16.007482051291397,15.313322308226102,15.983622760588208,15.681066764755263,16.22610041134688,16.154563828357762,16.562353136179336,15.178298854466885,14.75804992134933,14.9560562510018,14.784916706699187,15.752772028130035,16.792717806787888]},\"selected\":{\"id\":\"4460\",\"type\":\"Selection\"},\"selection_policy\":{\"id\":\"4461\",\"type\":\"UnionRenderers\"}},\"id\":\"4442\",\"type\":\"ColumnDataSource\"},{\"attributes\":{\"data_source\":{\"id\":\"4442\",\"type\":\"ColumnDataSource\"},\"glyph\":{\"id\":\"4443\",\"type\":\"Circle\"},\"hover_glyph\":null,\"muted_glyph\":null,\"nonselection_glyph\":{\"id\":\"4444\",\"type\":\"Circle\"},\"selection_glyph\":null,\"view\":{\"id\":\"4446\",\"type\":\"CDSView\"}},\"id\":\"4445\",\"type\":\"GlyphRenderer\"},{\"attributes\":{\"data_source\":{\"id\":\"4463\",\"type\":\"ColumnDataSource\"},\"glyph\":{\"id\":\"4464\",\"type\":\"Circle\"},\"hover_glyph\":null,\"muted_glyph\":null,\"nonselection_glyph\":{\"id\":\"4465\",\"type\":\"Circle\"},\"selection_glyph\":null,\"view\":{\"id\":\"4467\",\"type\":\"CDSView\"}},\"id\":\"4466\",\"type\":\"GlyphRenderer\"},{\"attributes\":{\"overlay\":{\"id\":\"4439\",\"type\":\"BoxAnnotation\"}},\"id\":\"4418\",\"type\":\"BoxZoomTool\"},{\"attributes\":{},\"id\":\"4485\",\"type\":\"Selection\"},{\"attributes\":{\"callback\":null},\"id\":\"4400\",\"type\":\"DataRange1d\"},{\"attributes\":{},\"id\":\"4419\",\"type\":\"SaveTool\"}],\"root_ids\":[\"4395\"]},\"title\":\"Bokeh Application\",\"version\":\"1.4.0\"}};\n",
       "  var render_items = [{\"docid\":\"6a7f652d-fcef-4c72-a6cc-744ee410a5cb\",\"roots\":{\"4395\":\"5e677ae9-4ec5-43b9-b516-bdad74e758bc\"}}];\n",
       "  root.Bokeh.embed.embed_items_notebook(docs_json, render_items);\n",
       "\n",
       "  }\n",
       "  if (root.Bokeh !== undefined) {\n",
       "    embed_document(root);\n",
       "  } else {\n",
       "    var attempts = 0;\n",
       "    var timer = setInterval(function(root) {\n",
       "      if (root.Bokeh !== undefined) {\n",
       "        clearInterval(timer);\n",
       "        embed_document(root);\n",
       "      } else {\n",
       "        attempts++;\n",
       "        if (attempts > 100) {\n",
       "          clearInterval(timer);\n",
       "          console.log(\"Bokeh: ERROR: Unable to run BokehJS code because BokehJS library is missing\");\n",
       "        }\n",
       "      }\n",
       "    }, 10, root)\n",
       "  }\n",
       "})(window);"
      ],
      "application/vnd.bokehjs_exec.v0+json": ""
     },
     "metadata": {
      "application/vnd.bokehjs_exec.v0+json": {
       "id": "4395"
      }
     },
     "output_type": "display_data"
    }
   ],
   "source": [
    "# Food imports as a percentage of merchandise imports\n",
    "years = list(map(str, list(range(2000,2018))))\n",
    "result = show_weighted_average(years, 'TM.VAL.FOOD.ZS.UN', 'TM.VAL.MRCH.CD.WT', \n",
    "                               ['LDCs', 'Developing excluding LDCs', 'OECD'], \n",
    "                                height=400, width=1000, line_width=3)"
   ]
  },
  {
   "cell_type": "code",
   "execution_count": 8,
   "metadata": {
    "ExecuteTime": {
     "end_time": "2019-10-25T14:25:08.896422Z",
     "start_time": "2019-10-25T14:25:03.862619Z"
    },
    "slideshow": {
     "slide_type": "slide"
    }
   },
   "outputs": [
    {
     "ename": "NameError",
     "evalue": "name 'c' is not defined",
     "output_type": "error",
     "traceback": [
      "\u001b[0;31m---------------------------------------------------------------------------\u001b[0m",
      "\u001b[0;31mNameError\u001b[0m                                 Traceback (most recent call last)",
      "\u001b[0;32m<ipython-input-8-d58f81cc17d6>\u001b[0m in \u001b[0;36m<module>\u001b[0;34m\u001b[0m\n\u001b[1;32m      3\u001b[0m result = show_weighted_average(years, 'SL.EMP.VULN.ZS', 'SP.POP.TOTL', \n\u001b[1;32m      4\u001b[0m                                \u001b[0;34m[\u001b[0m\u001b[0;34m'LDCs'\u001b[0m\u001b[0;34m,\u001b[0m \u001b[0;34m'Developing excluding LDCs'\u001b[0m\u001b[0;34m,\u001b[0m \u001b[0;34m'OECD'\u001b[0m\u001b[0;34m]\u001b[0m\u001b[0;34m,\u001b[0m\u001b[0;34m\u001b[0m\u001b[0;34m\u001b[0m\u001b[0m\n\u001b[0;32m----> 5\u001b[0;31m                                 height=400, width=1000, line_width=3)\n\u001b[0m",
      "\u001b[0;32m~/Dropbox/Coding/datascrapper2/bk.py\u001b[0m in \u001b[0;36mshow_weighted_average\u001b[0;34m(years, indicator, weight, groups, **kwargs)\u001b[0m\n\u001b[1;32m    136\u001b[0m     \u001b[0mdatasets\u001b[0m \u001b[0;34m=\u001b[0m \u001b[0;34m[\u001b[0m\u001b[0;34m]\u001b[0m\u001b[0;34m\u001b[0m\u001b[0;34m\u001b[0m\u001b[0m\n\u001b[1;32m    137\u001b[0m     \u001b[0;32mfor\u001b[0m \u001b[0mgroup\u001b[0m \u001b[0;32min\u001b[0m \u001b[0mgroups\u001b[0m\u001b[0;34m:\u001b[0m\u001b[0;34m\u001b[0m\u001b[0;34m\u001b[0m\u001b[0m\n\u001b[0;32m--> 138\u001b[0;31m         \u001b[0mdata_group\u001b[0m \u001b[0;34m=\u001b[0m \u001b[0mestimate\u001b[0m\u001b[0;34m(\u001b[0m\u001b[0myears\u001b[0m\u001b[0;34m,\u001b[0m \u001b[0mindicator\u001b[0m\u001b[0;34m,\u001b[0m \u001b[0;34m[\u001b[0m\u001b[0;34m[\u001b[0m\u001b[0mgroup\u001b[0m\u001b[0;34m]\u001b[0m\u001b[0;34m]\u001b[0m\u001b[0;34m,\u001b[0m \u001b[0mweight\u001b[0m\u001b[0;34m)\u001b[0m\u001b[0;34m\u001b[0m\u001b[0;34m\u001b[0m\u001b[0m\n\u001b[0m\u001b[1;32m    139\u001b[0m         \u001b[0mx\u001b[0m \u001b[0;34m=\u001b[0m \u001b[0myears\u001b[0m\u001b[0;34m\u001b[0m\u001b[0;34m\u001b[0m\u001b[0m\n\u001b[1;32m    140\u001b[0m         \u001b[0my\u001b[0m \u001b[0;34m=\u001b[0m \u001b[0;34m[\u001b[0m\u001b[0;34m]\u001b[0m\u001b[0;34m\u001b[0m\u001b[0;34m\u001b[0m\u001b[0m\n",
      "\u001b[0;32m~/Dropbox/Coding/datascrapper2/bk.py\u001b[0m in \u001b[0;36mestimate\u001b[0;34m(years, indicator, groups, weight)\u001b[0m\n\u001b[1;32m     19\u001b[0m \u001b[0;34m\u001b[0m\u001b[0m\n\u001b[1;32m     20\u001b[0m \u001b[0;32mdef\u001b[0m \u001b[0mestimate\u001b[0m\u001b[0;34m(\u001b[0m\u001b[0myears\u001b[0m\u001b[0;34m,\u001b[0m\u001b[0mindicator\u001b[0m\u001b[0;34m,\u001b[0m \u001b[0mgroups\u001b[0m\u001b[0;34m,\u001b[0m \u001b[0mweight\u001b[0m \u001b[0;34m=\u001b[0m \u001b[0;32mNone\u001b[0m\u001b[0;34m)\u001b[0m\u001b[0;34m:\u001b[0m\u001b[0;34m\u001b[0m\u001b[0;34m\u001b[0m\u001b[0m\n\u001b[0;32m---> 21\u001b[0;31m     \u001b[0mdata_df\u001b[0m \u001b[0;34m=\u001b[0m \u001b[0mget_data_table\u001b[0m\u001b[0;34m(\u001b[0m\u001b[0myears\u001b[0m\u001b[0;34m,\u001b[0m \u001b[0mindicator\u001b[0m\u001b[0;34m,\u001b[0m \u001b[0mgroups\u001b[0m\u001b[0;34m,\u001b[0m \u001b[0mexport_to_excel\u001b[0m\u001b[0;34m=\u001b[0m\u001b[0;32mFalse\u001b[0m\u001b[0;34m)\u001b[0m\u001b[0;34m\u001b[0m\u001b[0;34m\u001b[0m\u001b[0m\n\u001b[0m\u001b[1;32m     22\u001b[0m \u001b[0;34m\u001b[0m\u001b[0m\n\u001b[1;32m     23\u001b[0m     \u001b[0;32mif\u001b[0m \u001b[0mweight\u001b[0m \u001b[0;32mis\u001b[0m \u001b[0;32mNone\u001b[0m\u001b[0;34m:\u001b[0m\u001b[0;34m\u001b[0m\u001b[0;34m\u001b[0m\u001b[0m\n",
      "\u001b[0;32m~/Dropbox/Coding/datascrapper2/sources/worldbank/datatable.py\u001b[0m in \u001b[0;36mget_data_table\u001b[0;34m(years, indicator, groups, export_to_excel)\u001b[0m\n\u001b[1;32m     13\u001b[0m         df_d = get_df(name=indicator,\n\u001b[1;32m     14\u001b[0m             \u001b[0myears\u001b[0m \u001b[0;34m=\u001b[0m \u001b[0myears\u001b[0m\u001b[0;34m,\u001b[0m\u001b[0;34m\u001b[0m\u001b[0;34m\u001b[0m\u001b[0m\n\u001b[0;32m---> 15\u001b[0;31m             \u001b[0mcountries\u001b[0m\u001b[0;34m=\u001b[0m\u001b[0mc\u001b[0m\u001b[0;34m.\u001b[0m\u001b[0mget_country_names_in_group\u001b[0m\u001b[0;34m(\u001b[0m\u001b[0mg\u001b[0m\u001b[0;34m)\u001b[0m\u001b[0;34m\u001b[0m\u001b[0;34m\u001b[0m\u001b[0m\n\u001b[0m\u001b[1;32m     16\u001b[0m             )\n\u001b[1;32m     17\u001b[0m         df_data = df_d.wide(label_field='entity',\n",
      "\u001b[0;31mNameError\u001b[0m: name 'c' is not defined"
     ]
    }
   ],
   "source": [
    "# Vulnerable employment\n",
    "years = list(map(str, list(range(2000,2018))))\n",
    "result = show_weighted_average(years, 'SL.EMP.VULN.ZS', 'SP.POP.TOTL', \n",
    "                               ['LDCs', 'Developing excluding LDCs', 'OECD'], \n",
    "                                height=400, width=1000, line_width=3)"
   ]
  },
  {
   "cell_type": "code",
   "execution_count": 20,
   "metadata": {
    "ExecuteTime": {
     "end_time": "2019-10-25T14:25:14.112300Z",
     "start_time": "2019-10-25T14:25:08.899437Z"
    },
    "slideshow": {
     "slide_type": "slide"
    }
   },
   "outputs": [
    {
     "data": {
      "text/html": [
       "\n",
       "\n",
       "\n",
       "\n",
       "\n",
       "\n",
       "  <div class=\"bk-root\" id=\"8d2203ed-a0e7-414f-918c-fd5906b37f6c\" data-root-id=\"5239\"></div>\n"
      ]
     },
     "metadata": {},
     "output_type": "display_data"
    },
    {
     "data": {
      "application/javascript": [
       "(function(root) {\n",
       "  function embed_document(root) {\n",
       "    \n",
       "  var docs_json = {\"876df090-1eeb-498c-8919-cd18be7a7b41\":{\"roots\":{\"references\":[{\"attributes\":{\"below\":[{\"id\":\"5250\",\"type\":\"LinearAxis\"}],\"center\":[{\"id\":\"5254\",\"type\":\"Grid\"},{\"id\":\"5259\",\"type\":\"Grid\"},{\"id\":\"5284\",\"type\":\"Legend\"}],\"left\":[{\"id\":\"5255\",\"type\":\"LinearAxis\"}],\"plot_height\":400,\"plot_width\":1000,\"renderers\":[{\"id\":\"5276\",\"type\":\"GlyphRenderer\"},{\"id\":\"5289\",\"type\":\"GlyphRenderer\"},{\"id\":\"5294\",\"type\":\"GlyphRenderer\"},{\"id\":\"5310\",\"type\":\"GlyphRenderer\"},{\"id\":\"5315\",\"type\":\"GlyphRenderer\"},{\"id\":\"5335\",\"type\":\"GlyphRenderer\"}],\"title\":{\"id\":\"5240\",\"type\":\"Title\"},\"toolbar\":{\"id\":\"5266\",\"type\":\"Toolbar\"},\"x_range\":{\"id\":\"5242\",\"type\":\"DataRange1d\"},\"x_scale\":{\"id\":\"5246\",\"type\":\"LinearScale\"},\"y_range\":{\"id\":\"5244\",\"type\":\"DataRange1d\"},\"y_scale\":{\"id\":\"5248\",\"type\":\"LinearScale\"}},\"id\":\"5239\",\"subtype\":\"Figure\",\"type\":\"Plot\"},{\"attributes\":{\"callback\":null},\"id\":\"5242\",\"type\":\"DataRange1d\"},{\"attributes\":{},\"id\":\"5282\",\"type\":\"BasicTickFormatter\"},{\"attributes\":{},\"id\":\"5329\",\"type\":\"Selection\"},{\"attributes\":{},\"id\":\"5248\",\"type\":\"LinearScale\"},{\"attributes\":{\"label\":{\"value\":\"LDCs\"},\"renderers\":[{\"id\":\"5276\",\"type\":\"GlyphRenderer\"}]},\"id\":\"5285\",\"type\":\"LegendItem\"},{\"attributes\":{\"fill_alpha\":{\"value\":0.1},\"fill_color\":{\"value\":\"#1f77b4\"},\"line_alpha\":{\"value\":0.1},\"line_color\":{\"value\":\"#1f77b4\"},\"size\":{\"units\":\"screen\",\"value\":1},\"x\":{\"field\":\"x\"},\"y\":{\"field\":\"y\"}},\"id\":\"5288\",\"type\":\"Circle\"},{\"attributes\":{\"line_alpha\":0.1,\"line_color\":\"#1f77b4\",\"line_width\":3,\"x\":{\"field\":\"x\"},\"y\":{\"field\":\"y\"}},\"id\":\"5314\",\"type\":\"Line\"},{\"attributes\":{\"callback\":null,\"data\":{\"x\":[\"2000\",\"2001\",\"2002\",\"2003\",\"2004\",\"2005\",\"2006\",\"2007\",\"2008\",\"2009\",\"2010\",\"2011\",\"2012\",\"2013\",\"2014\",\"2015\",\"2016\",\"2017\"],\"y\":[84.67570947351659,84.54845719460349,84.41534021529151,84.25521506724928,84.12032093981615,83.97106596987518,83.68867661570852,83.77709620056729,83.84020087096158,83.93173050952733,83.8920683978044,83.35726364980452,82.7838732457836,82.3227983282936,81.7453445606311,81.28405232986904,80.80378155261585,80.23067519381057]},\"selected\":{\"id\":\"5304\",\"type\":\"Selection\"},\"selection_policy\":{\"id\":\"5305\",\"type\":\"UnionRenderers\"}},\"id\":\"5286\",\"type\":\"ColumnDataSource\"},{\"attributes\":{\"source\":{\"id\":\"5291\",\"type\":\"ColumnDataSource\"}},\"id\":\"5295\",\"type\":\"CDSView\"},{\"attributes\":{\"fill_alpha\":{\"value\":0.1},\"fill_color\":{\"value\":\"#1f77b4\"},\"line_alpha\":{\"value\":0.1},\"line_color\":{\"value\":\"#1f77b4\"},\"size\":{\"units\":\"screen\",\"value\":1},\"x\":{\"field\":\"x\"},\"y\":{\"field\":\"y\"}},\"id\":\"5309\",\"type\":\"Circle\"},{\"attributes\":{\"fill_color\":{\"value\":\"#5430F1\"},\"line_color\":{\"value\":\"#5430F1\"},\"size\":{\"units\":\"screen\",\"value\":1},\"x\":{\"field\":\"x\"},\"y\":{\"field\":\"y\"}},\"id\":\"5308\",\"type\":\"Circle\"},{\"attributes\":{\"axis_label\":\"Years\",\"formatter\":{\"id\":\"5280\",\"type\":\"BasicTickFormatter\"},\"ticker\":{\"id\":\"5251\",\"type\":\"BasicTicker\"}},\"id\":\"5250\",\"type\":\"LinearAxis\"},{\"attributes\":{\"callback\":null,\"tooltips\":\"                \\n        <div style=padding=5px>Year:@x</div>\\n        <div style=padding=5px>Value:@y</div>        \\n        \"},\"id\":\"5337\",\"type\":\"HoverTool\"},{\"attributes\":{\"line_color\":\"#FA1857\",\"line_width\":3,\"x\":{\"field\":\"x\"},\"y\":{\"field\":\"y\"}},\"id\":\"5274\",\"type\":\"Line\"},{\"attributes\":{\"fill_color\":{\"value\":\"#FA1857\"},\"line_color\":{\"value\":\"#FA1857\"},\"size\":{\"units\":\"screen\",\"value\":1},\"x\":{\"field\":\"x\"},\"y\":{\"field\":\"y\"}},\"id\":\"5287\",\"type\":\"Circle\"},{\"attributes\":{\"data_source\":{\"id\":\"5291\",\"type\":\"ColumnDataSource\"},\"glyph\":{\"id\":\"5292\",\"type\":\"Line\"},\"hover_glyph\":null,\"muted_glyph\":null,\"nonselection_glyph\":{\"id\":\"5293\",\"type\":\"Line\"},\"selection_glyph\":null,\"view\":{\"id\":\"5295\",\"type\":\"CDSView\"}},\"id\":\"5294\",\"type\":\"GlyphRenderer\"},{\"attributes\":{\"text\":\"Vulnerable employment, female (% of female employment) (modeled ILO estimate) weighted against Labor force, total\"},\"id\":\"5240\",\"type\":\"Title\"},{\"attributes\":{},\"id\":\"5256\",\"type\":\"BasicTicker\"},{\"attributes\":{\"fill_alpha\":{\"value\":0.1},\"fill_color\":{\"value\":\"#1f77b4\"},\"line_alpha\":{\"value\":0.1},\"line_color\":{\"value\":\"#1f77b4\"},\"size\":{\"units\":\"screen\",\"value\":1},\"x\":{\"field\":\"x\"},\"y\":{\"field\":\"y\"}},\"id\":\"5334\",\"type\":\"Circle\"},{\"attributes\":{},\"id\":\"5303\",\"type\":\"UnionRenderers\"},{\"attributes\":{},\"id\":\"5328\",\"type\":\"UnionRenderers\"},{\"attributes\":{\"callback\":null},\"id\":\"5244\",\"type\":\"DataRange1d\"},{\"attributes\":{},\"id\":\"5263\",\"type\":\"SaveTool\"},{\"attributes\":{\"line_alpha\":0.1,\"line_color\":\"#1f77b4\",\"line_width\":3,\"x\":{\"field\":\"x\"},\"y\":{\"field\":\"y\"}},\"id\":\"5275\",\"type\":\"Line\"},{\"attributes\":{\"axis_label\":\"SL.EMP.VULN.FE.ZS\",\"formatter\":{\"id\":\"5282\",\"type\":\"BasicTickFormatter\"},\"ticker\":{\"id\":\"5256\",\"type\":\"BasicTicker\"}},\"id\":\"5255\",\"type\":\"LinearAxis\"},{\"attributes\":{\"label\":{\"value\":\"OECD\"},\"renderers\":[{\"id\":\"5315\",\"type\":\"GlyphRenderer\"}]},\"id\":\"5331\",\"type\":\"LegendItem\"},{\"attributes\":{},\"id\":\"5304\",\"type\":\"Selection\"},{\"attributes\":{\"source\":{\"id\":\"5273\",\"type\":\"ColumnDataSource\"}},\"id\":\"5277\",\"type\":\"CDSView\"},{\"attributes\":{\"callback\":null,\"data\":{\"x\":[\"2000\",\"2001\",\"2002\",\"2003\",\"2004\",\"2005\",\"2006\",\"2007\",\"2008\",\"2009\",\"2010\",\"2011\",\"2012\",\"2013\",\"2014\",\"2015\",\"2016\",\"2017\"],\"y\":[14.48536902485712,14.493511769829844,14.191813316333826,13.993763075972725,13.83147018503385,13.370962271652207,12.80581092501148,12.566340934456548,12.298027267203656,12.373333284001852,12.307219209624574,12.287989367669757,12.15311900334881,11.971961077598174,11.744068220445252,11.58624004783634,11.401146754618209,11.2798928194068]},\"selected\":{\"id\":\"5576\",\"type\":\"Selection\"},\"selection_policy\":{\"id\":\"5577\",\"type\":\"UnionRenderers\"}},\"id\":\"5312\",\"type\":\"ColumnDataSource\"},{\"attributes\":{\"bottom_units\":\"screen\",\"fill_alpha\":{\"value\":0.5},\"fill_color\":{\"value\":\"lightgrey\"},\"left_units\":\"screen\",\"level\":\"overlay\",\"line_alpha\":{\"value\":1.0},\"line_color\":{\"value\":\"black\"},\"line_dash\":[4,4],\"line_width\":{\"value\":2},\"render_mode\":\"css\",\"right_units\":\"screen\",\"top_units\":\"screen\"},\"id\":\"5283\",\"type\":\"BoxAnnotation\"},{\"attributes\":{},\"id\":\"5576\",\"type\":\"Selection\"},{\"attributes\":{\"dimension\":1,\"grid_line_alpha\":0.5,\"ticker\":{\"id\":\"5256\",\"type\":\"BasicTicker\"}},\"id\":\"5259\",\"type\":\"Grid\"},{\"attributes\":{\"data_source\":{\"id\":\"5286\",\"type\":\"ColumnDataSource\"},\"glyph\":{\"id\":\"5287\",\"type\":\"Circle\"},\"hover_glyph\":null,\"muted_glyph\":null,\"nonselection_glyph\":{\"id\":\"5288\",\"type\":\"Circle\"},\"selection_glyph\":null,\"view\":{\"id\":\"5290\",\"type\":\"CDSView\"}},\"id\":\"5289\",\"type\":\"GlyphRenderer\"},{\"attributes\":{\"line_alpha\":0.1,\"line_color\":\"#1f77b4\",\"line_width\":3,\"x\":{\"field\":\"x\"},\"y\":{\"field\":\"y\"}},\"id\":\"5293\",\"type\":\"Line\"},{\"attributes\":{\"data_source\":{\"id\":\"5312\",\"type\":\"ColumnDataSource\"},\"glyph\":{\"id\":\"5313\",\"type\":\"Line\"},\"hover_glyph\":null,\"muted_glyph\":null,\"nonselection_glyph\":{\"id\":\"5314\",\"type\":\"Line\"},\"selection_glyph\":null,\"view\":{\"id\":\"5316\",\"type\":\"CDSView\"}},\"id\":\"5315\",\"type\":\"GlyphRenderer\"},{\"attributes\":{\"data_source\":{\"id\":\"5332\",\"type\":\"ColumnDataSource\"},\"glyph\":{\"id\":\"5333\",\"type\":\"Circle\"},\"hover_glyph\":null,\"muted_glyph\":null,\"nonselection_glyph\":{\"id\":\"5334\",\"type\":\"Circle\"},\"selection_glyph\":null,\"view\":{\"id\":\"5336\",\"type\":\"CDSView\"}},\"id\":\"5335\",\"type\":\"GlyphRenderer\"},{\"attributes\":{\"overlay\":{\"id\":\"5283\",\"type\":\"BoxAnnotation\"}},\"id\":\"5262\",\"type\":\"BoxZoomTool\"},{\"attributes\":{},\"id\":\"5578\",\"type\":\"Selection\"},{\"attributes\":{\"callback\":null,\"data\":{\"x\":[\"2000\",\"2001\",\"2002\",\"2003\",\"2004\",\"2005\",\"2006\",\"2007\",\"2008\",\"2009\",\"2010\",\"2011\",\"2012\",\"2013\",\"2014\",\"2015\",\"2016\",\"2017\"],\"y\":[65.39692668505631,64.96919616793897,64.2505725082179,63.79870336954884,63.21897556155796,62.36083024839076,61.600784397619954,60.977719388475336,60.33881045385905,59.7742461753223,59.09696605173391,57.96713437952283,56.63962670853221,56.007047740270906,55.416368528487254,54.98638981382023,54.60991636925909,54.26255432591824]},\"selected\":{\"id\":\"5329\",\"type\":\"Selection\"},\"selection_policy\":{\"id\":\"5330\",\"type\":\"UnionRenderers\"}},\"id\":\"5307\",\"type\":\"ColumnDataSource\"},{\"attributes\":{},\"id\":\"5327\",\"type\":\"Selection\"},{\"attributes\":{\"data_source\":{\"id\":\"5273\",\"type\":\"ColumnDataSource\"},\"glyph\":{\"id\":\"5274\",\"type\":\"Line\"},\"hover_glyph\":null,\"muted_glyph\":null,\"nonselection_glyph\":{\"id\":\"5275\",\"type\":\"Line\"},\"selection_glyph\":null,\"view\":{\"id\":\"5277\",\"type\":\"CDSView\"}},\"id\":\"5276\",\"type\":\"GlyphRenderer\"},{\"attributes\":{},\"id\":\"5260\",\"type\":\"PanTool\"},{\"attributes\":{},\"id\":\"5264\",\"type\":\"ResetTool\"},{\"attributes\":{\"fill_color\":{\"value\":\"#2CC775\"},\"line_color\":{\"value\":\"#2CC775\"},\"size\":{\"units\":\"screen\",\"value\":1},\"x\":{\"field\":\"x\"},\"y\":{\"field\":\"y\"}},\"id\":\"5333\",\"type\":\"Circle\"},{\"attributes\":{\"label\":{\"value\":\"Developing excluding LDCs\"},\"renderers\":[{\"id\":\"5294\",\"type\":\"GlyphRenderer\"}]},\"id\":\"5306\",\"type\":\"LegendItem\"},{\"attributes\":{\"source\":{\"id\":\"5286\",\"type\":\"ColumnDataSource\"}},\"id\":\"5290\",\"type\":\"CDSView\"},{\"attributes\":{\"line_color\":\"#2CC775\",\"line_width\":3,\"x\":{\"field\":\"x\"},\"y\":{\"field\":\"y\"}},\"id\":\"5313\",\"type\":\"Line\"},{\"attributes\":{\"source\":{\"id\":\"5312\",\"type\":\"ColumnDataSource\"}},\"id\":\"5316\",\"type\":\"CDSView\"},{\"attributes\":{},\"id\":\"5577\",\"type\":\"UnionRenderers\"},{\"attributes\":{\"active_drag\":\"auto\",\"active_inspect\":\"auto\",\"active_multi\":null,\"active_scroll\":\"auto\",\"active_tap\":\"auto\",\"tools\":[{\"id\":\"5260\",\"type\":\"PanTool\"},{\"id\":\"5261\",\"type\":\"WheelZoomTool\"},{\"id\":\"5262\",\"type\":\"BoxZoomTool\"},{\"id\":\"5263\",\"type\":\"SaveTool\"},{\"id\":\"5264\",\"type\":\"ResetTool\"},{\"id\":\"5265\",\"type\":\"HelpTool\"},{\"id\":\"5337\",\"type\":\"HoverTool\"}]},\"id\":\"5266\",\"type\":\"Toolbar\"},{\"attributes\":{},\"id\":\"5261\",\"type\":\"WheelZoomTool\"},{\"attributes\":{\"callback\":null,\"data\":{\"x\":[\"2000\",\"2001\",\"2002\",\"2003\",\"2004\",\"2005\",\"2006\",\"2007\",\"2008\",\"2009\",\"2010\",\"2011\",\"2012\",\"2013\",\"2014\",\"2015\",\"2016\",\"2017\"],\"y\":[14.48536902485712,14.493511769829844,14.191813316333826,13.993763075972725,13.83147018503385,13.370962271652207,12.80581092501148,12.566340934456548,12.298027267203656,12.373333284001852,12.307219209624574,12.287989367669757,12.15311900334881,11.971961077598174,11.744068220445252,11.58624004783634,11.401146754618209,11.2798928194068]},\"selected\":{\"id\":\"5578\",\"type\":\"Selection\"},\"selection_policy\":{\"id\":\"5579\",\"type\":\"UnionRenderers\"}},\"id\":\"5332\",\"type\":\"ColumnDataSource\"},{\"attributes\":{},\"id\":\"5251\",\"type\":\"BasicTicker\"},{\"attributes\":{\"callback\":null,\"data\":{\"x\":[\"2000\",\"2001\",\"2002\",\"2003\",\"2004\",\"2005\",\"2006\",\"2007\",\"2008\",\"2009\",\"2010\",\"2011\",\"2012\",\"2013\",\"2014\",\"2015\",\"2016\",\"2017\"],\"y\":[65.39692668505631,64.96919616793897,64.2505725082179,63.79870336954884,63.21897556155796,62.36083024839076,61.600784397619954,60.977719388475336,60.33881045385905,59.7742461753223,59.09696605173391,57.96713437952283,56.63962670853221,56.007047740270906,55.416368528487254,54.98638981382023,54.60991636925909,54.26255432591824]},\"selected\":{\"id\":\"5327\",\"type\":\"Selection\"},\"selection_policy\":{\"id\":\"5328\",\"type\":\"UnionRenderers\"}},\"id\":\"5291\",\"type\":\"ColumnDataSource\"},{\"attributes\":{},\"id\":\"5579\",\"type\":\"UnionRenderers\"},{\"attributes\":{\"callback\":null,\"data\":{\"x\":[\"2000\",\"2001\",\"2002\",\"2003\",\"2004\",\"2005\",\"2006\",\"2007\",\"2008\",\"2009\",\"2010\",\"2011\",\"2012\",\"2013\",\"2014\",\"2015\",\"2016\",\"2017\"],\"y\":[84.67570947351659,84.54845719460349,84.41534021529151,84.25521506724928,84.12032093981615,83.97106596987518,83.68867661570852,83.77709620056729,83.84020087096158,83.93173050952733,83.8920683978044,83.35726364980452,82.7838732457836,82.3227983282936,81.7453445606311,81.28405232986904,80.80378155261585,80.23067519381057]},\"selected\":{\"id\":\"5302\",\"type\":\"Selection\"},\"selection_policy\":{\"id\":\"5303\",\"type\":\"UnionRenderers\"}},\"id\":\"5273\",\"type\":\"ColumnDataSource\"},{\"attributes\":{\"source\":{\"id\":\"5307\",\"type\":\"ColumnDataSource\"}},\"id\":\"5311\",\"type\":\"CDSView\"},{\"attributes\":{\"grid_line_color\":null,\"ticker\":{\"id\":\"5251\",\"type\":\"BasicTicker\"}},\"id\":\"5254\",\"type\":\"Grid\"},{\"attributes\":{\"line_color\":\"#5430F1\",\"line_width\":3,\"x\":{\"field\":\"x\"},\"y\":{\"field\":\"y\"}},\"id\":\"5292\",\"type\":\"Line\"},{\"attributes\":{\"source\":{\"id\":\"5332\",\"type\":\"ColumnDataSource\"}},\"id\":\"5336\",\"type\":\"CDSView\"},{\"attributes\":{},\"id\":\"5305\",\"type\":\"UnionRenderers\"},{\"attributes\":{\"data_source\":{\"id\":\"5307\",\"type\":\"ColumnDataSource\"},\"glyph\":{\"id\":\"5308\",\"type\":\"Circle\"},\"hover_glyph\":null,\"muted_glyph\":null,\"nonselection_glyph\":{\"id\":\"5309\",\"type\":\"Circle\"},\"selection_glyph\":null,\"view\":{\"id\":\"5311\",\"type\":\"CDSView\"}},\"id\":\"5310\",\"type\":\"GlyphRenderer\"},{\"attributes\":{},\"id\":\"5280\",\"type\":\"BasicTickFormatter\"},{\"attributes\":{},\"id\":\"5302\",\"type\":\"Selection\"},{\"attributes\":{},\"id\":\"5330\",\"type\":\"UnionRenderers\"},{\"attributes\":{},\"id\":\"5265\",\"type\":\"HelpTool\"},{\"attributes\":{},\"id\":\"5246\",\"type\":\"LinearScale\"},{\"attributes\":{\"items\":[{\"id\":\"5285\",\"type\":\"LegendItem\"},{\"id\":\"5306\",\"type\":\"LegendItem\"},{\"id\":\"5331\",\"type\":\"LegendItem\"}],\"location\":\"bottom_left\"},\"id\":\"5284\",\"type\":\"Legend\"}],\"root_ids\":[\"5239\"]},\"title\":\"Bokeh Application\",\"version\":\"1.4.0\"}};\n",
       "  var render_items = [{\"docid\":\"876df090-1eeb-498c-8919-cd18be7a7b41\",\"roots\":{\"5239\":\"8d2203ed-a0e7-414f-918c-fd5906b37f6c\"}}];\n",
       "  root.Bokeh.embed.embed_items_notebook(docs_json, render_items);\n",
       "\n",
       "  }\n",
       "  if (root.Bokeh !== undefined) {\n",
       "    embed_document(root);\n",
       "  } else {\n",
       "    var attempts = 0;\n",
       "    var timer = setInterval(function(root) {\n",
       "      if (root.Bokeh !== undefined) {\n",
       "        clearInterval(timer);\n",
       "        embed_document(root);\n",
       "      } else {\n",
       "        attempts++;\n",
       "        if (attempts > 100) {\n",
       "          clearInterval(timer);\n",
       "          console.log(\"Bokeh: ERROR: Unable to run BokehJS code because BokehJS library is missing\");\n",
       "        }\n",
       "      }\n",
       "    }, 10, root)\n",
       "  }\n",
       "})(window);"
      ],
      "application/vnd.bokehjs_exec.v0+json": ""
     },
     "metadata": {
      "application/vnd.bokehjs_exec.v0+json": {
       "id": "5239"
      }
     },
     "output_type": "display_data"
    }
   ],
   "source": [
    "# Female vulnerable employment\n",
    "years = list(map(str, list(range(2000,2018))))\n",
    "result = show_weighted_average(years, 'SL.EMP.VULN.FE.ZS', 'SL.TLF.TOTL.IN', \n",
    "                               ['LDCs', 'Developing excluding LDCs', 'OECD'], \n",
    "                                height=400, width=1000, line_width=3)"
   ]
  },
  {
   "cell_type": "code",
   "execution_count": 21,
   "metadata": {
    "ExecuteTime": {
     "end_time": "2019-10-25T14:25:19.414594Z",
     "start_time": "2019-10-25T14:25:14.115306Z"
    },
    "slideshow": {
     "slide_type": "slide"
    }
   },
   "outputs": [
    {
     "data": {
      "text/html": [
       "\n",
       "\n",
       "\n",
       "\n",
       "\n",
       "\n",
       "  <div class=\"bk-root\" id=\"2dfcc6e1-2ad1-4f04-9710-4de1058aa5ba\" data-root-id=\"5688\"></div>\n"
      ]
     },
     "metadata": {},
     "output_type": "display_data"
    },
    {
     "data": {
      "application/javascript": [
       "(function(root) {\n",
       "  function embed_document(root) {\n",
       "    \n",
       "  var docs_json = {\"393cd569-74dc-4cef-9fe2-92d42ddca990\":{\"roots\":{\"references\":[{\"attributes\":{\"below\":[{\"id\":\"5699\",\"type\":\"LinearAxis\"}],\"center\":[{\"id\":\"5703\",\"type\":\"Grid\"},{\"id\":\"5708\",\"type\":\"Grid\"},{\"id\":\"5733\",\"type\":\"Legend\"}],\"left\":[{\"id\":\"5704\",\"type\":\"LinearAxis\"}],\"plot_height\":400,\"plot_width\":1000,\"renderers\":[{\"id\":\"5725\",\"type\":\"GlyphRenderer\"},{\"id\":\"5738\",\"type\":\"GlyphRenderer\"},{\"id\":\"5743\",\"type\":\"GlyphRenderer\"},{\"id\":\"5759\",\"type\":\"GlyphRenderer\"},{\"id\":\"5764\",\"type\":\"GlyphRenderer\"},{\"id\":\"5784\",\"type\":\"GlyphRenderer\"}],\"title\":{\"id\":\"5689\",\"type\":\"Title\"},\"toolbar\":{\"id\":\"5715\",\"type\":\"Toolbar\"},\"x_range\":{\"id\":\"5691\",\"type\":\"DataRange1d\"},\"x_scale\":{\"id\":\"5695\",\"type\":\"LinearScale\"},\"y_range\":{\"id\":\"5693\",\"type\":\"DataRange1d\"},\"y_scale\":{\"id\":\"5697\",\"type\":\"LinearScale\"}},\"id\":\"5688\",\"subtype\":\"Figure\",\"type\":\"Plot\"},{\"attributes\":{\"bottom_units\":\"screen\",\"fill_alpha\":{\"value\":0.5},\"fill_color\":{\"value\":\"lightgrey\"},\"left_units\":\"screen\",\"level\":\"overlay\",\"line_alpha\":{\"value\":1.0},\"line_color\":{\"value\":\"black\"},\"line_dash\":[4,4],\"line_width\":{\"value\":2},\"render_mode\":\"css\",\"right_units\":\"screen\",\"top_units\":\"screen\"},\"id\":\"5732\",\"type\":\"BoxAnnotation\"},{\"attributes\":{},\"id\":\"5709\",\"type\":\"PanTool\"},{\"attributes\":{\"callback\":null},\"id\":\"5693\",\"type\":\"DataRange1d\"},{\"attributes\":{\"axis_label\":\"Years\",\"formatter\":{\"id\":\"5729\",\"type\":\"BasicTickFormatter\"},\"ticker\":{\"id\":\"5700\",\"type\":\"BasicTicker\"}},\"id\":\"5699\",\"type\":\"LinearAxis\"},{\"attributes\":{},\"id\":\"5714\",\"type\":\"HelpTool\"},{\"attributes\":{\"line_alpha\":0.1,\"line_color\":\"#1f77b4\",\"line_width\":4,\"x\":{\"field\":\"x\"},\"y\":{\"field\":\"y\"}},\"id\":\"5763\",\"type\":\"Line\"},{\"attributes\":{},\"id\":\"5697\",\"type\":\"LinearScale\"},{\"attributes\":{},\"id\":\"5712\",\"type\":\"SaveTool\"},{\"attributes\":{\"source\":{\"id\":\"5740\",\"type\":\"ColumnDataSource\"}},\"id\":\"5744\",\"type\":\"CDSView\"},{\"attributes\":{\"line_color\":\"#2CC775\",\"line_width\":4,\"x\":{\"field\":\"x\"},\"y\":{\"field\":\"y\"}},\"id\":\"5762\",\"type\":\"Line\"},{\"attributes\":{},\"id\":\"5729\",\"type\":\"BasicTickFormatter\"},{\"attributes\":{},\"id\":\"5751\",\"type\":\"Selection\"},{\"attributes\":{},\"id\":\"6046\",\"type\":\"UnionRenderers\"},{\"attributes\":{},\"id\":\"5710\",\"type\":\"WheelZoomTool\"},{\"attributes\":{},\"id\":\"5778\",\"type\":\"Selection\"},{\"attributes\":{},\"id\":\"6044\",\"type\":\"UnionRenderers\"},{\"attributes\":{\"callback\":null,\"tooltips\":\"                \\n        <div style=padding=5px>Year:@x</div>\\n        <div style=padding=5px>Value:@y</div>        \\n        \"},\"id\":\"5786\",\"type\":\"HoverTool\"},{\"attributes\":{\"callback\":null},\"id\":\"5691\",\"type\":\"DataRange1d\"},{\"attributes\":{\"data_source\":{\"id\":\"5740\",\"type\":\"ColumnDataSource\"},\"glyph\":{\"id\":\"5741\",\"type\":\"Line\"},\"hover_glyph\":null,\"muted_glyph\":null,\"nonselection_glyph\":{\"id\":\"5742\",\"type\":\"Line\"},\"selection_glyph\":null,\"view\":{\"id\":\"5744\",\"type\":\"CDSView\"}},\"id\":\"5743\",\"type\":\"GlyphRenderer\"},{\"attributes\":{\"line_color\":\"#5430F1\",\"line_width\":4,\"x\":{\"field\":\"x\"},\"y\":{\"field\":\"y\"}},\"id\":\"5741\",\"type\":\"Line\"},{\"attributes\":{},\"id\":\"6045\",\"type\":\"Selection\"},{\"attributes\":{\"axis_label\":\"SL.EMP.VULN.MA.ZS\",\"formatter\":{\"id\":\"5731\",\"type\":\"BasicTickFormatter\"},\"ticker\":{\"id\":\"5705\",\"type\":\"BasicTicker\"}},\"id\":\"5704\",\"type\":\"LinearAxis\"},{\"attributes\":{\"callback\":null,\"data\":{\"x\":[\"2000\",\"2001\",\"2002\",\"2003\",\"2004\",\"2005\",\"2006\",\"2007\",\"2008\",\"2009\",\"2010\",\"2011\",\"2012\",\"2013\",\"2014\",\"2015\",\"2016\",\"2017\"],\"y\":[57.182668493701804,56.624347402457296,56.14973579960289,55.87796189195199,55.25401813080033,54.67087712681627,53.921143113103525,53.323776327013384,52.83097870875332,52.43257032658141,51.929260596232744,51.09073039239959,50.08754694939069,49.60308553742829,49.20403712953163,48.77821761472152,48.56988546874208,48.2728268059283]},\"selected\":{\"id\":\"5778\",\"type\":\"Selection\"},\"selection_policy\":{\"id\":\"5779\",\"type\":\"UnionRenderers\"}},\"id\":\"5756\",\"type\":\"ColumnDataSource\"},{\"attributes\":{\"label\":{\"value\":\"LDCs\"},\"renderers\":[{\"id\":\"5725\",\"type\":\"GlyphRenderer\"}]},\"id\":\"5734\",\"type\":\"LegendItem\"},{\"attributes\":{\"fill_color\":{\"value\":\"#5430F1\"},\"line_color\":{\"value\":\"#5430F1\"},\"size\":{\"units\":\"screen\",\"value\":1},\"x\":{\"field\":\"x\"},\"y\":{\"field\":\"y\"}},\"id\":\"5757\",\"type\":\"Circle\"},{\"attributes\":{},\"id\":\"5776\",\"type\":\"Selection\"},{\"attributes\":{\"line_alpha\":0.1,\"line_color\":\"#1f77b4\",\"line_width\":4,\"x\":{\"field\":\"x\"},\"y\":{\"field\":\"y\"}},\"id\":\"5724\",\"type\":\"Line\"},{\"attributes\":{\"source\":{\"id\":\"5761\",\"type\":\"ColumnDataSource\"}},\"id\":\"5765\",\"type\":\"CDSView\"},{\"attributes\":{\"fill_alpha\":{\"value\":0.1},\"fill_color\":{\"value\":\"#1f77b4\"},\"line_alpha\":{\"value\":0.1},\"line_color\":{\"value\":\"#1f77b4\"},\"size\":{\"units\":\"screen\",\"value\":1},\"x\":{\"field\":\"x\"},\"y\":{\"field\":\"y\"}},\"id\":\"5783\",\"type\":\"Circle\"},{\"attributes\":{\"line_color\":\"#FA1857\",\"line_width\":4,\"x\":{\"field\":\"x\"},\"y\":{\"field\":\"y\"}},\"id\":\"5723\",\"type\":\"Line\"},{\"attributes\":{\"active_drag\":\"auto\",\"active_inspect\":\"auto\",\"active_multi\":null,\"active_scroll\":\"auto\",\"active_tap\":\"auto\",\"tools\":[{\"id\":\"5709\",\"type\":\"PanTool\"},{\"id\":\"5710\",\"type\":\"WheelZoomTool\"},{\"id\":\"5711\",\"type\":\"BoxZoomTool\"},{\"id\":\"5712\",\"type\":\"SaveTool\"},{\"id\":\"5713\",\"type\":\"ResetTool\"},{\"id\":\"5714\",\"type\":\"HelpTool\"},{\"id\":\"5786\",\"type\":\"HoverTool\"}]},\"id\":\"5715\",\"type\":\"Toolbar\"},{\"attributes\":{\"fill_alpha\":{\"value\":0.1},\"fill_color\":{\"value\":\"#1f77b4\"},\"line_alpha\":{\"value\":0.1},\"line_color\":{\"value\":\"#1f77b4\"},\"size\":{\"units\":\"screen\",\"value\":1},\"x\":{\"field\":\"x\"},\"y\":{\"field\":\"y\"}},\"id\":\"5758\",\"type\":\"Circle\"},{\"attributes\":{\"callback\":null,\"data\":{\"x\":[\"2000\",\"2001\",\"2002\",\"2003\",\"2004\",\"2005\",\"2006\",\"2007\",\"2008\",\"2009\",\"2010\",\"2011\",\"2012\",\"2013\",\"2014\",\"2015\",\"2016\",\"2017\"],\"y\":[13.983595169339262,13.998859245381606,13.991020663967802,14.08072441547863,14.122426832902441,13.78425403912315,13.299377817936158,13.057250481869682,12.840791354088491,13.031251656893089,13.030931611471235,12.99280973346482,12.971599240608382,12.90982728415717,12.853117783704255,12.684740815496953,12.575432474590244,12.453772658805285]},\"selected\":{\"id\":\"6043\",\"type\":\"Selection\"},\"selection_policy\":{\"id\":\"6044\",\"type\":\"UnionRenderers\"}},\"id\":\"5761\",\"type\":\"ColumnDataSource\"},{\"attributes\":{\"dimension\":1,\"grid_line_alpha\":0.5,\"ticker\":{\"id\":\"5705\",\"type\":\"BasicTicker\"}},\"id\":\"5708\",\"type\":\"Grid\"},{\"attributes\":{\"data_source\":{\"id\":\"5781\",\"type\":\"ColumnDataSource\"},\"glyph\":{\"id\":\"5782\",\"type\":\"Circle\"},\"hover_glyph\":null,\"muted_glyph\":null,\"nonselection_glyph\":{\"id\":\"5783\",\"type\":\"Circle\"},\"selection_glyph\":null,\"view\":{\"id\":\"5785\",\"type\":\"CDSView\"}},\"id\":\"5784\",\"type\":\"GlyphRenderer\"},{\"attributes\":{\"fill_color\":{\"value\":\"#FA1857\"},\"line_color\":{\"value\":\"#FA1857\"},\"size\":{\"units\":\"screen\",\"value\":1},\"x\":{\"field\":\"x\"},\"y\":{\"field\":\"y\"}},\"id\":\"5736\",\"type\":\"Circle\"},{\"attributes\":{\"data_source\":{\"id\":\"5761\",\"type\":\"ColumnDataSource\"},\"glyph\":{\"id\":\"5762\",\"type\":\"Line\"},\"hover_glyph\":null,\"muted_glyph\":null,\"nonselection_glyph\":{\"id\":\"5763\",\"type\":\"Line\"},\"selection_glyph\":null,\"view\":{\"id\":\"5765\",\"type\":\"CDSView\"}},\"id\":\"5764\",\"type\":\"GlyphRenderer\"},{\"attributes\":{\"line_alpha\":0.1,\"line_color\":\"#1f77b4\",\"line_width\":4,\"x\":{\"field\":\"x\"},\"y\":{\"field\":\"y\"}},\"id\":\"5742\",\"type\":\"Line\"},{\"attributes\":{\"callback\":null,\"data\":{\"x\":[\"2000\",\"2001\",\"2002\",\"2003\",\"2004\",\"2005\",\"2006\",\"2007\",\"2008\",\"2009\",\"2010\",\"2011\",\"2012\",\"2013\",\"2014\",\"2015\",\"2016\",\"2017\"],\"y\":[13.983595169339262,13.998859245381606,13.991020663967802,14.08072441547863,14.122426832902441,13.78425403912315,13.299377817936158,13.057250481869682,12.840791354088491,13.031251656893089,13.030931611471235,12.99280973346482,12.971599240608382,12.90982728415717,12.853117783704255,12.684740815496953,12.575432474590244,12.453772658805285]},\"selected\":{\"id\":\"6045\",\"type\":\"Selection\"},\"selection_policy\":{\"id\":\"6046\",\"type\":\"UnionRenderers\"}},\"id\":\"5781\",\"type\":\"ColumnDataSource\"},{\"attributes\":{},\"id\":\"5695\",\"type\":\"LinearScale\"},{\"attributes\":{\"data_source\":{\"id\":\"5722\",\"type\":\"ColumnDataSource\"},\"glyph\":{\"id\":\"5723\",\"type\":\"Line\"},\"hover_glyph\":null,\"muted_glyph\":null,\"nonselection_glyph\":{\"id\":\"5724\",\"type\":\"Line\"},\"selection_glyph\":null,\"view\":{\"id\":\"5726\",\"type\":\"CDSView\"}},\"id\":\"5725\",\"type\":\"GlyphRenderer\"},{\"attributes\":{\"label\":{\"value\":\"Developing excluding LDCs\"},\"renderers\":[{\"id\":\"5743\",\"type\":\"GlyphRenderer\"}]},\"id\":\"5755\",\"type\":\"LegendItem\"},{\"attributes\":{\"source\":{\"id\":\"5722\",\"type\":\"ColumnDataSource\"}},\"id\":\"5726\",\"type\":\"CDSView\"},{\"attributes\":{\"data_source\":{\"id\":\"5756\",\"type\":\"ColumnDataSource\"},\"glyph\":{\"id\":\"5757\",\"type\":\"Circle\"},\"hover_glyph\":null,\"muted_glyph\":null,\"nonselection_glyph\":{\"id\":\"5758\",\"type\":\"Circle\"},\"selection_glyph\":null,\"view\":{\"id\":\"5760\",\"type\":\"CDSView\"}},\"id\":\"5759\",\"type\":\"GlyphRenderer\"},{\"attributes\":{\"overlay\":{\"id\":\"5732\",\"type\":\"BoxAnnotation\"}},\"id\":\"5711\",\"type\":\"BoxZoomTool\"},{\"attributes\":{\"source\":{\"id\":\"5781\",\"type\":\"ColumnDataSource\"}},\"id\":\"5785\",\"type\":\"CDSView\"},{\"attributes\":{},\"id\":\"5752\",\"type\":\"UnionRenderers\"},{\"attributes\":{\"fill_alpha\":{\"value\":0.1},\"fill_color\":{\"value\":\"#1f77b4\"},\"line_alpha\":{\"value\":0.1},\"line_color\":{\"value\":\"#1f77b4\"},\"size\":{\"units\":\"screen\",\"value\":1},\"x\":{\"field\":\"x\"},\"y\":{\"field\":\"y\"}},\"id\":\"5737\",\"type\":\"Circle\"},{\"attributes\":{},\"id\":\"5754\",\"type\":\"UnionRenderers\"},{\"attributes\":{\"grid_line_color\":null,\"ticker\":{\"id\":\"5700\",\"type\":\"BasicTicker\"}},\"id\":\"5703\",\"type\":\"Grid\"},{\"attributes\":{\"label\":{\"value\":\"OECD\"},\"renderers\":[{\"id\":\"5764\",\"type\":\"GlyphRenderer\"}]},\"id\":\"5780\",\"type\":\"LegendItem\"},{\"attributes\":{},\"id\":\"5731\",\"type\":\"BasicTickFormatter\"},{\"attributes\":{\"fill_color\":{\"value\":\"#2CC775\"},\"line_color\":{\"value\":\"#2CC775\"},\"size\":{\"units\":\"screen\",\"value\":1},\"x\":{\"field\":\"x\"},\"y\":{\"field\":\"y\"}},\"id\":\"5782\",\"type\":\"Circle\"},{\"attributes\":{\"callback\":null,\"data\":{\"x\":[\"2000\",\"2001\",\"2002\",\"2003\",\"2004\",\"2005\",\"2006\",\"2007\",\"2008\",\"2009\",\"2010\",\"2011\",\"2012\",\"2013\",\"2014\",\"2015\",\"2016\",\"2017\"],\"y\":[57.182668493701804,56.624347402457296,56.14973579960289,55.87796189195199,55.25401813080033,54.67087712681627,53.921143113103525,53.323776327013384,52.83097870875332,52.43257032658141,51.929260596232744,51.09073039239959,50.08754694939069,49.60308553742829,49.20403712953163,48.77821761472152,48.56988546874208,48.2728268059283]},\"selected\":{\"id\":\"5776\",\"type\":\"Selection\"},\"selection_policy\":{\"id\":\"5777\",\"type\":\"UnionRenderers\"}},\"id\":\"5740\",\"type\":\"ColumnDataSource\"},{\"attributes\":{\"source\":{\"id\":\"5735\",\"type\":\"ColumnDataSource\"}},\"id\":\"5739\",\"type\":\"CDSView\"},{\"attributes\":{},\"id\":\"5779\",\"type\":\"UnionRenderers\"},{\"attributes\":{},\"id\":\"5700\",\"type\":\"BasicTicker\"},{\"attributes\":{\"callback\":null,\"data\":{\"x\":[\"2000\",\"2001\",\"2002\",\"2003\",\"2004\",\"2005\",\"2006\",\"2007\",\"2008\",\"2009\",\"2010\",\"2011\",\"2012\",\"2013\",\"2014\",\"2015\",\"2016\",\"2017\"],\"y\":[73.21763465176444,72.99635651982048,72.78114922045958,72.56740210564952,72.31280809134215,72.06374288534862,71.69979704264206,71.14977890148174,70.60291365237993,70.13601099904103,69.53324532417238,69.00621511120234,68.55967633532312,68.25151294620667,68.00716472004207,67.84672660682828,67.79561725854789,67.4365616886222]},\"selected\":{\"id\":\"5753\",\"type\":\"Selection\"},\"selection_policy\":{\"id\":\"5754\",\"type\":\"UnionRenderers\"}},\"id\":\"5735\",\"type\":\"ColumnDataSource\"},{\"attributes\":{},\"id\":\"5753\",\"type\":\"Selection\"},{\"attributes\":{},\"id\":\"6043\",\"type\":\"Selection\"},{\"attributes\":{\"callback\":null,\"data\":{\"x\":[\"2000\",\"2001\",\"2002\",\"2003\",\"2004\",\"2005\",\"2006\",\"2007\",\"2008\",\"2009\",\"2010\",\"2011\",\"2012\",\"2013\",\"2014\",\"2015\",\"2016\",\"2017\"],\"y\":[73.21763465176444,72.99635651982048,72.78114922045958,72.56740210564952,72.31280809134215,72.06374288534862,71.69979704264206,71.14977890148174,70.60291365237993,70.13601099904103,69.53324532417238,69.00621511120234,68.55967633532312,68.25151294620667,68.00716472004207,67.84672660682828,67.79561725854789,67.4365616886222]},\"selected\":{\"id\":\"5751\",\"type\":\"Selection\"},\"selection_policy\":{\"id\":\"5752\",\"type\":\"UnionRenderers\"}},\"id\":\"5722\",\"type\":\"ColumnDataSource\"},{\"attributes\":{},\"id\":\"5777\",\"type\":\"UnionRenderers\"},{\"attributes\":{\"items\":[{\"id\":\"5734\",\"type\":\"LegendItem\"},{\"id\":\"5755\",\"type\":\"LegendItem\"},{\"id\":\"5780\",\"type\":\"LegendItem\"}],\"location\":\"bottom_left\"},\"id\":\"5733\",\"type\":\"Legend\"},{\"attributes\":{\"text\":\"Vulnerable employment, male (% of male employment) (modeled ILO estimate) weighted against Labor force, total\"},\"id\":\"5689\",\"type\":\"Title\"},{\"attributes\":{},\"id\":\"5705\",\"type\":\"BasicTicker\"},{\"attributes\":{\"source\":{\"id\":\"5756\",\"type\":\"ColumnDataSource\"}},\"id\":\"5760\",\"type\":\"CDSView\"},{\"attributes\":{},\"id\":\"5713\",\"type\":\"ResetTool\"},{\"attributes\":{\"data_source\":{\"id\":\"5735\",\"type\":\"ColumnDataSource\"},\"glyph\":{\"id\":\"5736\",\"type\":\"Circle\"},\"hover_glyph\":null,\"muted_glyph\":null,\"nonselection_glyph\":{\"id\":\"5737\",\"type\":\"Circle\"},\"selection_glyph\":null,\"view\":{\"id\":\"5739\",\"type\":\"CDSView\"}},\"id\":\"5738\",\"type\":\"GlyphRenderer\"}],\"root_ids\":[\"5688\"]},\"title\":\"Bokeh Application\",\"version\":\"1.4.0\"}};\n",
       "  var render_items = [{\"docid\":\"393cd569-74dc-4cef-9fe2-92d42ddca990\",\"roots\":{\"5688\":\"2dfcc6e1-2ad1-4f04-9710-4de1058aa5ba\"}}];\n",
       "  root.Bokeh.embed.embed_items_notebook(docs_json, render_items);\n",
       "\n",
       "  }\n",
       "  if (root.Bokeh !== undefined) {\n",
       "    embed_document(root);\n",
       "  } else {\n",
       "    var attempts = 0;\n",
       "    var timer = setInterval(function(root) {\n",
       "      if (root.Bokeh !== undefined) {\n",
       "        clearInterval(timer);\n",
       "        embed_document(root);\n",
       "      } else {\n",
       "        attempts++;\n",
       "        if (attempts > 100) {\n",
       "          clearInterval(timer);\n",
       "          console.log(\"Bokeh: ERROR: Unable to run BokehJS code because BokehJS library is missing\");\n",
       "        }\n",
       "      }\n",
       "    }, 10, root)\n",
       "  }\n",
       "})(window);"
      ],
      "application/vnd.bokehjs_exec.v0+json": ""
     },
     "metadata": {
      "application/vnd.bokehjs_exec.v0+json": {
       "id": "5688"
      }
     },
     "output_type": "display_data"
    }
   ],
   "source": [
    "# Male vulnerable employment\n",
    "years = list(map(str, list(range(2000,2018))))\n",
    "result = show_weighted_average(years, 'SL.EMP.VULN.MA.ZS', 'SL.TLF.TOTL.IN', \n",
    "                               ['LDCs', 'Developing excluding LDCs', 'OECD'], \n",
    "                                height=400, width=1000, line_width=4)"
   ]
  },
  {
   "cell_type": "code",
   "execution_count": 22,
   "metadata": {
    "ExecuteTime": {
     "end_time": "2019-10-25T14:25:24.083516Z",
     "start_time": "2019-10-25T14:25:19.417499Z"
    },
    "slideshow": {
     "slide_type": "slide"
    }
   },
   "outputs": [
    {
     "data": {
      "text/html": [
       "\n",
       "\n",
       "\n",
       "\n",
       "\n",
       "\n",
       "  <div class=\"bk-root\" id=\"9329dc50-af7b-4b48-8a64-b8b550de50e4\" data-root-id=\"6155\"></div>\n"
      ]
     },
     "metadata": {},
     "output_type": "display_data"
    },
    {
     "data": {
      "application/javascript": [
       "(function(root) {\n",
       "  function embed_document(root) {\n",
       "    \n",
       "  var docs_json = {\"b42ed54a-8251-43e6-85d7-45a97fbb34de\":{\"roots\":{\"references\":[{\"attributes\":{\"below\":[{\"id\":\"6166\",\"type\":\"LinearAxis\"}],\"center\":[{\"id\":\"6170\",\"type\":\"Grid\"},{\"id\":\"6175\",\"type\":\"Grid\"},{\"id\":\"6200\",\"type\":\"Legend\"}],\"left\":[{\"id\":\"6171\",\"type\":\"LinearAxis\"}],\"plot_height\":400,\"plot_width\":1000,\"renderers\":[{\"id\":\"6192\",\"type\":\"GlyphRenderer\"},{\"id\":\"6205\",\"type\":\"GlyphRenderer\"},{\"id\":\"6210\",\"type\":\"GlyphRenderer\"},{\"id\":\"6226\",\"type\":\"GlyphRenderer\"},{\"id\":\"6231\",\"type\":\"GlyphRenderer\"},{\"id\":\"6251\",\"type\":\"GlyphRenderer\"}],\"title\":{\"id\":\"6156\",\"type\":\"Title\"},\"toolbar\":{\"id\":\"6182\",\"type\":\"Toolbar\"},\"x_range\":{\"id\":\"6158\",\"type\":\"DataRange1d\"},\"x_scale\":{\"id\":\"6162\",\"type\":\"LinearScale\"},\"y_range\":{\"id\":\"6160\",\"type\":\"DataRange1d\"},\"y_scale\":{\"id\":\"6164\",\"type\":\"LinearScale\"}},\"id\":\"6155\",\"subtype\":\"Figure\",\"type\":\"Plot\"},{\"attributes\":{\"line_alpha\":0.1,\"line_color\":\"#1f77b4\",\"line_width\":3,\"x\":{\"field\":\"x\"},\"y\":{\"field\":\"y\"}},\"id\":\"6209\",\"type\":\"Line\"},{\"attributes\":{\"line_alpha\":0.1,\"line_color\":\"#1f77b4\",\"line_width\":3,\"x\":{\"field\":\"x\"},\"y\":{\"field\":\"y\"}},\"id\":\"6230\",\"type\":\"Line\"},{\"attributes\":{\"bottom_units\":\"screen\",\"fill_alpha\":{\"value\":0.5},\"fill_color\":{\"value\":\"lightgrey\"},\"left_units\":\"screen\",\"level\":\"overlay\",\"line_alpha\":{\"value\":1.0},\"line_color\":{\"value\":\"black\"},\"line_dash\":[4,4],\"line_width\":{\"value\":2},\"render_mode\":\"css\",\"right_units\":\"screen\",\"top_units\":\"screen\"},\"id\":\"6199\",\"type\":\"BoxAnnotation\"},{\"attributes\":{},\"id\":\"6531\",\"type\":\"UnionRenderers\"},{\"attributes\":{\"callback\":null},\"id\":\"6160\",\"type\":\"DataRange1d\"},{\"attributes\":{\"data_source\":{\"id\":\"6202\",\"type\":\"ColumnDataSource\"},\"glyph\":{\"id\":\"6203\",\"type\":\"Circle\"},\"hover_glyph\":null,\"muted_glyph\":null,\"nonselection_glyph\":{\"id\":\"6204\",\"type\":\"Circle\"},\"selection_glyph\":null,\"view\":{\"id\":\"6206\",\"type\":\"CDSView\"}},\"id\":\"6205\",\"type\":\"GlyphRenderer\"},{\"attributes\":{\"label\":{\"value\":\"OECD\"},\"renderers\":[{\"id\":\"6231\",\"type\":\"GlyphRenderer\"}]},\"id\":\"6247\",\"type\":\"LegendItem\"},{\"attributes\":{\"active_drag\":\"auto\",\"active_inspect\":\"auto\",\"active_multi\":null,\"active_scroll\":\"auto\",\"active_tap\":\"auto\",\"tools\":[{\"id\":\"6176\",\"type\":\"PanTool\"},{\"id\":\"6177\",\"type\":\"WheelZoomTool\"},{\"id\":\"6178\",\"type\":\"BoxZoomTool\"},{\"id\":\"6179\",\"type\":\"SaveTool\"},{\"id\":\"6180\",\"type\":\"ResetTool\"},{\"id\":\"6181\",\"type\":\"HelpTool\"},{\"id\":\"6253\",\"type\":\"HoverTool\"}]},\"id\":\"6182\",\"type\":\"Toolbar\"},{\"attributes\":{},\"id\":\"6167\",\"type\":\"BasicTicker\"},{\"attributes\":{\"grid_line_color\":null,\"ticker\":{\"id\":\"6167\",\"type\":\"BasicTicker\"}},\"id\":\"6170\",\"type\":\"Grid\"},{\"attributes\":{\"data_source\":{\"id\":\"6223\",\"type\":\"ColumnDataSource\"},\"glyph\":{\"id\":\"6224\",\"type\":\"Circle\"},\"hover_glyph\":null,\"muted_glyph\":null,\"nonselection_glyph\":{\"id\":\"6225\",\"type\":\"Circle\"},\"selection_glyph\":null,\"view\":{\"id\":\"6227\",\"type\":\"CDSView\"}},\"id\":\"6226\",\"type\":\"GlyphRenderer\"},{\"attributes\":{\"source\":{\"id\":\"6189\",\"type\":\"ColumnDataSource\"}},\"id\":\"6193\",\"type\":\"CDSView\"},{\"attributes\":{\"label\":{\"value\":\"LDCs\"},\"renderers\":[{\"id\":\"6192\",\"type\":\"GlyphRenderer\"}]},\"id\":\"6201\",\"type\":\"LegendItem\"},{\"attributes\":{\"source\":{\"id\":\"6202\",\"type\":\"ColumnDataSource\"}},\"id\":\"6206\",\"type\":\"CDSView\"},{\"attributes\":{\"line_color\":\"#5430F1\",\"line_width\":3,\"x\":{\"field\":\"x\"},\"y\":{\"field\":\"y\"}},\"id\":\"6208\",\"type\":\"Line\"},{\"attributes\":{},\"id\":\"6196\",\"type\":\"BasicTickFormatter\"},{\"attributes\":{},\"id\":\"6529\",\"type\":\"UnionRenderers\"},{\"attributes\":{\"callback\":null,\"data\":{\"x\":[\"2000\",\"2001\",\"2002\",\"2003\",\"2004\",\"2005\",\"2006\",\"2007\",\"2008\",\"2009\",\"2010\",\"2011\",\"2012\",\"2013\",\"2014\",\"2015\",\"2016\",\"2017\"],\"y\":[66.80550762746502,67.09575522261287,67.38845397138815,67.68641242492377,67.98850353535039,68.29683586546594,68.61376868812876,68.93811600827559,69.26960155877734,69.60770006976703,69.93884575077878,70.26845966598577,70.58941992930774,70.89896146370299,71.1942586920573,71.46625116456777,71.71665557950269,71.94788632890526]},\"selected\":{\"id\":\"6243\",\"type\":\"Selection\"},\"selection_policy\":{\"id\":\"6244\",\"type\":\"UnionRenderers\"}},\"id\":\"6207\",\"type\":\"ColumnDataSource\"},{\"attributes\":{\"source\":{\"id\":\"6223\",\"type\":\"ColumnDataSource\"}},\"id\":\"6227\",\"type\":\"CDSView\"},{\"attributes\":{},\"id\":\"6243\",\"type\":\"Selection\"},{\"attributes\":{\"axis_label\":\"SP.DYN.LE00.IN\",\"formatter\":{\"id\":\"6198\",\"type\":\"BasicTickFormatter\"},\"ticker\":{\"id\":\"6172\",\"type\":\"BasicTicker\"}},\"id\":\"6171\",\"type\":\"LinearAxis\"},{\"attributes\":{\"data_source\":{\"id\":\"6189\",\"type\":\"ColumnDataSource\"},\"glyph\":{\"id\":\"6190\",\"type\":\"Line\"},\"hover_glyph\":null,\"muted_glyph\":null,\"nonselection_glyph\":{\"id\":\"6191\",\"type\":\"Line\"},\"selection_glyph\":null,\"view\":{\"id\":\"6193\",\"type\":\"CDSView\"}},\"id\":\"6192\",\"type\":\"GlyphRenderer\"},{\"attributes\":{\"line_color\":\"#2CC775\",\"line_width\":3,\"x\":{\"field\":\"x\"},\"y\":{\"field\":\"y\"}},\"id\":\"6229\",\"type\":\"Line\"},{\"attributes\":{},\"id\":\"6530\",\"type\":\"Selection\"},{\"attributes\":{\"axis_label\":\"Years\",\"formatter\":{\"id\":\"6196\",\"type\":\"BasicTickFormatter\"},\"ticker\":{\"id\":\"6167\",\"type\":\"BasicTicker\"}},\"id\":\"6166\",\"type\":\"LinearAxis\"},{\"attributes\":{\"data_source\":{\"id\":\"6228\",\"type\":\"ColumnDataSource\"},\"glyph\":{\"id\":\"6229\",\"type\":\"Line\"},\"hover_glyph\":null,\"muted_glyph\":null,\"nonselection_glyph\":{\"id\":\"6230\",\"type\":\"Line\"},\"selection_glyph\":null,\"view\":{\"id\":\"6232\",\"type\":\"CDSView\"}},\"id\":\"6231\",\"type\":\"GlyphRenderer\"},{\"attributes\":{\"source\":{\"id\":\"6228\",\"type\":\"ColumnDataSource\"}},\"id\":\"6232\",\"type\":\"CDSView\"},{\"attributes\":{\"items\":[{\"id\":\"6201\",\"type\":\"LegendItem\"},{\"id\":\"6222\",\"type\":\"LegendItem\"},{\"id\":\"6247\",\"type\":\"LegendItem\"}],\"location\":\"bottom_left\"},\"id\":\"6200\",\"type\":\"Legend\"},{\"attributes\":{},\"id\":\"6164\",\"type\":\"LinearScale\"},{\"attributes\":{\"callback\":null,\"data\":{\"x\":[\"2000\",\"2001\",\"2002\",\"2003\",\"2004\",\"2005\",\"2006\",\"2007\",\"2008\",\"2009\",\"2010\",\"2011\",\"2012\",\"2013\",\"2014\",\"2015\",\"2016\",\"2017\"],\"y\":[77.07712560169232,77.38833297513385,77.54776037882743,77.69654179560608,78.09938587502181,78.21736324644525,78.50714525876474,78.73135260844114,78.87486015871855,79.13132827194039,79.3009215024766,79.53231619249463,79.64498856482149,79.80818222814423,80.05654259453199,79.94678663973315,80.09864354689779,80.15042257303583]},\"selected\":{\"id\":\"6528\",\"type\":\"Selection\"},\"selection_policy\":{\"id\":\"6529\",\"type\":\"UnionRenderers\"}},\"id\":\"6228\",\"type\":\"ColumnDataSource\"},{\"attributes\":{},\"id\":\"6219\",\"type\":\"UnionRenderers\"},{\"attributes\":{\"data_source\":{\"id\":\"6248\",\"type\":\"ColumnDataSource\"},\"glyph\":{\"id\":\"6249\",\"type\":\"Circle\"},\"hover_glyph\":null,\"muted_glyph\":null,\"nonselection_glyph\":{\"id\":\"6250\",\"type\":\"Circle\"},\"selection_glyph\":null,\"view\":{\"id\":\"6252\",\"type\":\"CDSView\"}},\"id\":\"6251\",\"type\":\"GlyphRenderer\"},{\"attributes\":{\"fill_alpha\":{\"value\":0.1},\"fill_color\":{\"value\":\"#1f77b4\"},\"line_alpha\":{\"value\":0.1},\"line_color\":{\"value\":\"#1f77b4\"},\"size\":{\"units\":\"screen\",\"value\":1},\"x\":{\"field\":\"x\"},\"y\":{\"field\":\"y\"}},\"id\":\"6204\",\"type\":\"Circle\"},{\"attributes\":{\"fill_alpha\":{\"value\":0.1},\"fill_color\":{\"value\":\"#1f77b4\"},\"line_alpha\":{\"value\":0.1},\"line_color\":{\"value\":\"#1f77b4\"},\"size\":{\"units\":\"screen\",\"value\":1},\"x\":{\"field\":\"x\"},\"y\":{\"field\":\"y\"}},\"id\":\"6225\",\"type\":\"Circle\"},{\"attributes\":{\"line_alpha\":0.1,\"line_color\":\"#1f77b4\",\"line_width\":3,\"x\":{\"field\":\"x\"},\"y\":{\"field\":\"y\"}},\"id\":\"6191\",\"type\":\"Line\"},{\"attributes\":{\"callback\":null,\"data\":{\"x\":[\"2000\",\"2001\",\"2002\",\"2003\",\"2004\",\"2005\",\"2006\",\"2007\",\"2008\",\"2009\",\"2010\",\"2011\",\"2012\",\"2013\",\"2014\",\"2015\",\"2016\",\"2017\"],\"y\":[66.80550762746502,67.09575522261287,67.38845397138815,67.68641242492377,67.98850353535039,68.29683586546594,68.61376868812876,68.93811600827559,69.26960155877734,69.60770006976703,69.93884575077878,70.26845966598577,70.58941992930774,70.89896146370299,71.1942586920573,71.46625116456777,71.71665557950269,71.94788632890526]},\"selected\":{\"id\":\"6245\",\"type\":\"Selection\"},\"selection_policy\":{\"id\":\"6246\",\"type\":\"UnionRenderers\"}},\"id\":\"6223\",\"type\":\"ColumnDataSource\"},{\"attributes\":{},\"id\":\"6179\",\"type\":\"SaveTool\"},{\"attributes\":{},\"id\":\"6220\",\"type\":\"Selection\"},{\"attributes\":{\"callback\":null,\"tooltips\":\"                \\n        <div style=padding=5px>Year:@x</div>\\n        <div style=padding=5px>Value:@y</div>        \\n        \"},\"id\":\"6253\",\"type\":\"HoverTool\"},{\"attributes\":{\"source\":{\"id\":\"6248\",\"type\":\"ColumnDataSource\"}},\"id\":\"6252\",\"type\":\"CDSView\"},{\"attributes\":{},\"id\":\"6198\",\"type\":\"BasicTickFormatter\"},{\"attributes\":{\"callback\":null,\"data\":{\"x\":[\"2000\",\"2001\",\"2002\",\"2003\",\"2004\",\"2005\",\"2006\",\"2007\",\"2008\",\"2009\",\"2010\",\"2011\",\"2012\",\"2013\",\"2014\",\"2015\",\"2016\",\"2017\"],\"y\":[54.79038158679697,55.287074928807264,55.813316402849836,56.368633395794234,56.948533135666324,57.54898574320102,58.16602728511171,58.79219566302946,59.41811372554519,60.03542306147486,60.63396924590268,61.20650588606631,61.743458424691624,62.25279596395541,62.72434854700804,63.154635897597124,63.54299723731197,63.89474884744179]},\"selected\":{\"id\":\"6218\",\"type\":\"Selection\"},\"selection_policy\":{\"id\":\"6219\",\"type\":\"UnionRenderers\"}},\"id\":\"6189\",\"type\":\"ColumnDataSource\"},{\"attributes\":{},\"id\":\"6528\",\"type\":\"Selection\"},{\"attributes\":{},\"id\":\"6162\",\"type\":\"LinearScale\"},{\"attributes\":{\"callback\":null,\"data\":{\"x\":[\"2000\",\"2001\",\"2002\",\"2003\",\"2004\",\"2005\",\"2006\",\"2007\",\"2008\",\"2009\",\"2010\",\"2011\",\"2012\",\"2013\",\"2014\",\"2015\",\"2016\",\"2017\"],\"y\":[54.79038158679697,55.287074928807264,55.813316402849836,56.368633395794234,56.948533135666324,57.54898574320102,58.16602728511171,58.79219566302946,59.41811372554519,60.03542306147486,60.63396924590268,61.20650588606631,61.743458424691624,62.25279596395541,62.72434854700804,63.154635897597124,63.54299723731197,63.89474884744179]},\"selected\":{\"id\":\"6220\",\"type\":\"Selection\"},\"selection_policy\":{\"id\":\"6221\",\"type\":\"UnionRenderers\"}},\"id\":\"6202\",\"type\":\"ColumnDataSource\"},{\"attributes\":{\"callback\":null,\"data\":{\"x\":[\"2000\",\"2001\",\"2002\",\"2003\",\"2004\",\"2005\",\"2006\",\"2007\",\"2008\",\"2009\",\"2010\",\"2011\",\"2012\",\"2013\",\"2014\",\"2015\",\"2016\",\"2017\"],\"y\":[77.07712560169232,77.38833297513385,77.54776037882743,77.69654179560608,78.09938587502181,78.21736324644525,78.50714525876474,78.73135260844114,78.87486015871855,79.13132827194039,79.3009215024766,79.53231619249463,79.64498856482149,79.80818222814423,80.05654259453199,79.94678663973315,80.09864354689779,80.15042257303583]},\"selected\":{\"id\":\"6530\",\"type\":\"Selection\"},\"selection_policy\":{\"id\":\"6531\",\"type\":\"UnionRenderers\"}},\"id\":\"6248\",\"type\":\"ColumnDataSource\"},{\"attributes\":{},\"id\":\"6180\",\"type\":\"ResetTool\"},{\"attributes\":{\"fill_color\":{\"value\":\"#2CC775\"},\"line_color\":{\"value\":\"#2CC775\"},\"size\":{\"units\":\"screen\",\"value\":1},\"x\":{\"field\":\"x\"},\"y\":{\"field\":\"y\"}},\"id\":\"6249\",\"type\":\"Circle\"},{\"attributes\":{},\"id\":\"6221\",\"type\":\"UnionRenderers\"},{\"attributes\":{\"callback\":null},\"id\":\"6158\",\"type\":\"DataRange1d\"},{\"attributes\":{},\"id\":\"6176\",\"type\":\"PanTool\"},{\"attributes\":{\"source\":{\"id\":\"6207\",\"type\":\"ColumnDataSource\"}},\"id\":\"6211\",\"type\":\"CDSView\"},{\"attributes\":{\"fill_alpha\":{\"value\":0.1},\"fill_color\":{\"value\":\"#1f77b4\"},\"line_alpha\":{\"value\":0.1},\"line_color\":{\"value\":\"#1f77b4\"},\"size\":{\"units\":\"screen\",\"value\":1},\"x\":{\"field\":\"x\"},\"y\":{\"field\":\"y\"}},\"id\":\"6250\",\"type\":\"Circle\"},{\"attributes\":{},\"id\":\"6244\",\"type\":\"UnionRenderers\"},{\"attributes\":{\"text\":\"Life expectancy at birth, total (years) weighted against Population, total\"},\"id\":\"6156\",\"type\":\"Title\"},{\"attributes\":{\"overlay\":{\"id\":\"6199\",\"type\":\"BoxAnnotation\"}},\"id\":\"6178\",\"type\":\"BoxZoomTool\"},{\"attributes\":{},\"id\":\"6181\",\"type\":\"HelpTool\"},{\"attributes\":{},\"id\":\"6172\",\"type\":\"BasicTicker\"},{\"attributes\":{\"fill_color\":{\"value\":\"#5430F1\"},\"line_color\":{\"value\":\"#5430F1\"},\"size\":{\"units\":\"screen\",\"value\":1},\"x\":{\"field\":\"x\"},\"y\":{\"field\":\"y\"}},\"id\":\"6224\",\"type\":\"Circle\"},{\"attributes\":{},\"id\":\"6246\",\"type\":\"UnionRenderers\"},{\"attributes\":{\"label\":{\"value\":\"Developing excluding LDCs\"},\"renderers\":[{\"id\":\"6210\",\"type\":\"GlyphRenderer\"}]},\"id\":\"6222\",\"type\":\"LegendItem\"},{\"attributes\":{},\"id\":\"6177\",\"type\":\"WheelZoomTool\"},{\"attributes\":{},\"id\":\"6245\",\"type\":\"Selection\"},{\"attributes\":{},\"id\":\"6218\",\"type\":\"Selection\"},{\"attributes\":{\"line_color\":\"#FA1857\",\"line_width\":3,\"x\":{\"field\":\"x\"},\"y\":{\"field\":\"y\"}},\"id\":\"6190\",\"type\":\"Line\"},{\"attributes\":{\"fill_color\":{\"value\":\"#FA1857\"},\"line_color\":{\"value\":\"#FA1857\"},\"size\":{\"units\":\"screen\",\"value\":1},\"x\":{\"field\":\"x\"},\"y\":{\"field\":\"y\"}},\"id\":\"6203\",\"type\":\"Circle\"},{\"attributes\":{\"dimension\":1,\"grid_line_alpha\":0.5,\"ticker\":{\"id\":\"6172\",\"type\":\"BasicTicker\"}},\"id\":\"6175\",\"type\":\"Grid\"},{\"attributes\":{\"data_source\":{\"id\":\"6207\",\"type\":\"ColumnDataSource\"},\"glyph\":{\"id\":\"6208\",\"type\":\"Line\"},\"hover_glyph\":null,\"muted_glyph\":null,\"nonselection_glyph\":{\"id\":\"6209\",\"type\":\"Line\"},\"selection_glyph\":null,\"view\":{\"id\":\"6211\",\"type\":\"CDSView\"}},\"id\":\"6210\",\"type\":\"GlyphRenderer\"}],\"root_ids\":[\"6155\"]},\"title\":\"Bokeh Application\",\"version\":\"1.4.0\"}};\n",
       "  var render_items = [{\"docid\":\"b42ed54a-8251-43e6-85d7-45a97fbb34de\",\"roots\":{\"6155\":\"9329dc50-af7b-4b48-8a64-b8b550de50e4\"}}];\n",
       "  root.Bokeh.embed.embed_items_notebook(docs_json, render_items);\n",
       "\n",
       "  }\n",
       "  if (root.Bokeh !== undefined) {\n",
       "    embed_document(root);\n",
       "  } else {\n",
       "    var attempts = 0;\n",
       "    var timer = setInterval(function(root) {\n",
       "      if (root.Bokeh !== undefined) {\n",
       "        clearInterval(timer);\n",
       "        embed_document(root);\n",
       "      } else {\n",
       "        attempts++;\n",
       "        if (attempts > 100) {\n",
       "          clearInterval(timer);\n",
       "          console.log(\"Bokeh: ERROR: Unable to run BokehJS code because BokehJS library is missing\");\n",
       "        }\n",
       "      }\n",
       "    }, 10, root)\n",
       "  }\n",
       "})(window);"
      ],
      "application/vnd.bokehjs_exec.v0+json": ""
     },
     "metadata": {
      "application/vnd.bokehjs_exec.v0+json": {
       "id": "6155"
      }
     },
     "output_type": "display_data"
    }
   ],
   "source": [
    "# Life expectancy\n",
    "years = list(map(str, list(range(2000,2018))))\n",
    "result = show_weighted_average(years, 'SP.DYN.LE00.IN', 'SP.POP.TOTL', \n",
    "                               ['LDCs', 'Developing excluding LDCs', 'OECD'], \n",
    "                                height=400, width=1000, line_width=3)"
   ]
  },
  {
   "cell_type": "code",
   "execution_count": 23,
   "metadata": {
    "ExecuteTime": {
     "end_time": "2019-10-25T14:25:28.872290Z",
     "start_time": "2019-10-25T14:25:24.086081Z"
    },
    "slideshow": {
     "slide_type": "slide"
    }
   },
   "outputs": [
    {
     "data": {
      "text/html": [
       "\n",
       "\n",
       "\n",
       "\n",
       "\n",
       "\n",
       "  <div class=\"bk-root\" id=\"f8042192-5bfc-4b47-b9c8-8e796b634eb2\" data-root-id=\"6640\"></div>\n"
      ]
     },
     "metadata": {},
     "output_type": "display_data"
    },
    {
     "data": {
      "application/javascript": [
       "(function(root) {\n",
       "  function embed_document(root) {\n",
       "    \n",
       "  var docs_json = {\"b7c3d593-5b87-40ed-809f-90ab89390bb3\":{\"roots\":{\"references\":[{\"attributes\":{\"below\":[{\"id\":\"6651\",\"type\":\"LinearAxis\"}],\"center\":[{\"id\":\"6655\",\"type\":\"Grid\"},{\"id\":\"6660\",\"type\":\"Grid\"},{\"id\":\"6685\",\"type\":\"Legend\"}],\"left\":[{\"id\":\"6656\",\"type\":\"LinearAxis\"}],\"plot_height\":400,\"plot_width\":1000,\"renderers\":[{\"id\":\"6677\",\"type\":\"GlyphRenderer\"},{\"id\":\"6690\",\"type\":\"GlyphRenderer\"},{\"id\":\"6695\",\"type\":\"GlyphRenderer\"},{\"id\":\"6711\",\"type\":\"GlyphRenderer\"},{\"id\":\"6716\",\"type\":\"GlyphRenderer\"},{\"id\":\"6736\",\"type\":\"GlyphRenderer\"}],\"title\":{\"id\":\"6641\",\"type\":\"Title\"},\"toolbar\":{\"id\":\"6667\",\"type\":\"Toolbar\"},\"x_range\":{\"id\":\"6643\",\"type\":\"DataRange1d\"},\"x_scale\":{\"id\":\"6647\",\"type\":\"LinearScale\"},\"y_range\":{\"id\":\"6645\",\"type\":\"DataRange1d\"},\"y_scale\":{\"id\":\"6649\",\"type\":\"LinearScale\"}},\"id\":\"6640\",\"subtype\":\"Figure\",\"type\":\"Plot\"},{\"attributes\":{\"line_color\":\"#FA1857\",\"line_width\":4,\"x\":{\"field\":\"x\"},\"y\":{\"field\":\"y\"}},\"id\":\"6675\",\"type\":\"Line\"},{\"attributes\":{\"data_source\":{\"id\":\"6674\",\"type\":\"ColumnDataSource\"},\"glyph\":{\"id\":\"6675\",\"type\":\"Line\"},\"hover_glyph\":null,\"muted_glyph\":null,\"nonselection_glyph\":{\"id\":\"6676\",\"type\":\"Line\"},\"selection_glyph\":null,\"view\":{\"id\":\"6678\",\"type\":\"CDSView\"}},\"id\":\"6677\",\"type\":\"GlyphRenderer\"},{\"attributes\":{\"data_source\":{\"id\":\"6713\",\"type\":\"ColumnDataSource\"},\"glyph\":{\"id\":\"6714\",\"type\":\"Line\"},\"hover_glyph\":null,\"muted_glyph\":null,\"nonselection_glyph\":{\"id\":\"6715\",\"type\":\"Line\"},\"selection_glyph\":null,\"view\":{\"id\":\"6717\",\"type\":\"CDSView\"}},\"id\":\"6716\",\"type\":\"GlyphRenderer\"},{\"attributes\":{\"callback\":null,\"data\":{\"x\":[\"2000\",\"2001\",\"2002\",\"2003\",\"2004\",\"2005\",\"2006\",\"2007\",\"2008\",\"2009\",\"2010\",\"2011\",\"2012\",\"2013\",\"2014\",\"2015\",\"2016\",\"2017\"],\"y\":[67.72613360952067,67.96678765132117,68.21521706263611,68.47684702683729,68.75328942223987,69.0484966771406,69.36634426933745,69.70503900878862,70.05566335667386,70.41841613739292,70.77789293848497,71.13500951943153,71.47851972701005,71.80180695377123,72.09903276477121,72.36667910378955,72.59908110172458,72.80832887210636]},\"selected\":{\"id\":\"6728\",\"type\":\"Selection\"},\"selection_policy\":{\"id\":\"6729\",\"type\":\"UnionRenderers\"}},\"id\":\"6692\",\"type\":\"ColumnDataSource\"},{\"attributes\":{},\"id\":\"6730\",\"type\":\"Selection\"},{\"attributes\":{\"line_alpha\":0.1,\"line_color\":\"#1f77b4\",\"line_width\":4,\"x\":{\"field\":\"x\"},\"y\":{\"field\":\"y\"}},\"id\":\"6694\",\"type\":\"Line\"},{\"attributes\":{},\"id\":\"6703\",\"type\":\"Selection\"},{\"attributes\":{},\"id\":\"7033\",\"type\":\"Selection\"},{\"attributes\":{\"data_source\":{\"id\":\"6692\",\"type\":\"ColumnDataSource\"},\"glyph\":{\"id\":\"6693\",\"type\":\"Line\"},\"hover_glyph\":null,\"muted_glyph\":null,\"nonselection_glyph\":{\"id\":\"6694\",\"type\":\"Line\"},\"selection_glyph\":null,\"view\":{\"id\":\"6696\",\"type\":\"CDSView\"}},\"id\":\"6695\",\"type\":\"GlyphRenderer\"},{\"attributes\":{},\"id\":\"6657\",\"type\":\"BasicTicker\"},{\"attributes\":{},\"id\":\"6705\",\"type\":\"Selection\"},{\"attributes\":{\"grid_line_color\":null,\"ticker\":{\"id\":\"6652\",\"type\":\"BasicTicker\"}},\"id\":\"6655\",\"type\":\"Grid\"},{\"attributes\":{\"fill_alpha\":{\"value\":0.1},\"fill_color\":{\"value\":\"#1f77b4\"},\"line_alpha\":{\"value\":0.1},\"line_color\":{\"value\":\"#1f77b4\"},\"size\":{\"units\":\"screen\",\"value\":1},\"x\":{\"field\":\"x\"},\"y\":{\"field\":\"y\"}},\"id\":\"6689\",\"type\":\"Circle\"},{\"attributes\":{\"items\":[{\"id\":\"6686\",\"type\":\"LegendItem\"},{\"id\":\"6707\",\"type\":\"LegendItem\"},{\"id\":\"6732\",\"type\":\"LegendItem\"}],\"location\":\"bottom_left\"},\"id\":\"6685\",\"type\":\"Legend\"},{\"attributes\":{\"data_source\":{\"id\":\"6687\",\"type\":\"ColumnDataSource\"},\"glyph\":{\"id\":\"6688\",\"type\":\"Circle\"},\"hover_glyph\":null,\"muted_glyph\":null,\"nonselection_glyph\":{\"id\":\"6689\",\"type\":\"Circle\"},\"selection_glyph\":null,\"view\":{\"id\":\"6691\",\"type\":\"CDSView\"}},\"id\":\"6690\",\"type\":\"GlyphRenderer\"},{\"attributes\":{},\"id\":\"6681\",\"type\":\"BasicTickFormatter\"},{\"attributes\":{\"source\":{\"id\":\"6713\",\"type\":\"ColumnDataSource\"}},\"id\":\"6717\",\"type\":\"CDSView\"},{\"attributes\":{},\"id\":\"6729\",\"type\":\"UnionRenderers\"},{\"attributes\":{\"axis_label\":\"Years\",\"formatter\":{\"id\":\"6681\",\"type\":\"BasicTickFormatter\"},\"ticker\":{\"id\":\"6652\",\"type\":\"BasicTicker\"}},\"id\":\"6651\",\"type\":\"LinearAxis\"},{\"attributes\":{\"line_color\":\"#5430F1\",\"line_width\":4,\"x\":{\"field\":\"x\"},\"y\":{\"field\":\"y\"}},\"id\":\"6693\",\"type\":\"Line\"},{\"attributes\":{\"fill_color\":{\"value\":\"#5430F1\"},\"line_color\":{\"value\":\"#5430F1\"},\"size\":{\"units\":\"screen\",\"value\":1},\"x\":{\"field\":\"x\"},\"y\":{\"field\":\"y\"}},\"id\":\"6709\",\"type\":\"Circle\"},{\"attributes\":{},\"id\":\"6728\",\"type\":\"Selection\"},{\"attributes\":{\"dimension\":1,\"grid_line_alpha\":0.5,\"ticker\":{\"id\":\"6657\",\"type\":\"BasicTicker\"}},\"id\":\"6660\",\"type\":\"Grid\"},{\"attributes\":{\"callback\":null,\"data\":{\"x\":[\"2000\",\"2001\",\"2002\",\"2003\",\"2004\",\"2005\",\"2006\",\"2007\",\"2008\",\"2009\",\"2010\",\"2011\",\"2012\",\"2013\",\"2014\",\"2015\",\"2016\",\"2017\"],\"y\":[79.93351879418076,80.20290658761989,80.32918832949842,80.39856940465691,80.77521328865518,80.86674990168122,81.1402038786844,81.32381241465296,81.43163205746191,81.62948962454634,81.79594928587568,82.07333933782573,82.11929566013815,82.26555024337196,82.51912432141074,82.35601028400251,82.55037747513924,82.59790657999017]},\"selected\":{\"id\":\"7031\",\"type\":\"Selection\"},\"selection_policy\":{\"id\":\"7032\",\"type\":\"UnionRenderers\"}},\"id\":\"6713\",\"type\":\"ColumnDataSource\"},{\"attributes\":{},\"id\":\"6649\",\"type\":\"LinearScale\"},{\"attributes\":{\"label\":{\"value\":\"LDCs\"},\"renderers\":[{\"id\":\"6677\",\"type\":\"GlyphRenderer\"}]},\"id\":\"6686\",\"type\":\"LegendItem\"},{\"attributes\":{},\"id\":\"6666\",\"type\":\"HelpTool\"},{\"attributes\":{\"source\":{\"id\":\"6708\",\"type\":\"ColumnDataSource\"}},\"id\":\"6712\",\"type\":\"CDSView\"},{\"attributes\":{},\"id\":\"6652\",\"type\":\"BasicTicker\"},{\"attributes\":{\"fill_alpha\":{\"value\":0.1},\"fill_color\":{\"value\":\"#1f77b4\"},\"line_alpha\":{\"value\":0.1},\"line_color\":{\"value\":\"#1f77b4\"},\"size\":{\"units\":\"screen\",\"value\":1},\"x\":{\"field\":\"x\"},\"y\":{\"field\":\"y\"}},\"id\":\"6710\",\"type\":\"Circle\"},{\"attributes\":{\"axis_label\":\"SP.DYN.LE00.FE.IN\",\"formatter\":{\"id\":\"6683\",\"type\":\"BasicTickFormatter\"},\"ticker\":{\"id\":\"6657\",\"type\":\"BasicTicker\"}},\"id\":\"6656\",\"type\":\"LinearAxis\"},{\"attributes\":{\"fill_color\":{\"value\":\"#FA1857\"},\"line_color\":{\"value\":\"#FA1857\"},\"size\":{\"units\":\"screen\",\"value\":1},\"x\":{\"field\":\"x\"},\"y\":{\"field\":\"y\"}},\"id\":\"6688\",\"type\":\"Circle\"},{\"attributes\":{\"line_alpha\":0.1,\"line_color\":\"#1f77b4\",\"line_width\":4,\"x\":{\"field\":\"x\"},\"y\":{\"field\":\"y\"}},\"id\":\"6676\",\"type\":\"Line\"},{\"attributes\":{},\"id\":\"7032\",\"type\":\"UnionRenderers\"},{\"attributes\":{\"data_source\":{\"id\":\"6708\",\"type\":\"ColumnDataSource\"},\"glyph\":{\"id\":\"6709\",\"type\":\"Circle\"},\"hover_glyph\":null,\"muted_glyph\":null,\"nonselection_glyph\":{\"id\":\"6710\",\"type\":\"Circle\"},\"selection_glyph\":null,\"view\":{\"id\":\"6712\",\"type\":\"CDSView\"}},\"id\":\"6711\",\"type\":\"GlyphRenderer\"},{\"attributes\":{\"source\":{\"id\":\"6687\",\"type\":\"ColumnDataSource\"}},\"id\":\"6691\",\"type\":\"CDSView\"},{\"attributes\":{},\"id\":\"6664\",\"type\":\"SaveTool\"},{\"attributes\":{\"callback\":null,\"data\":{\"x\":[\"2000\",\"2001\",\"2002\",\"2003\",\"2004\",\"2005\",\"2006\",\"2007\",\"2008\",\"2009\",\"2010\",\"2011\",\"2012\",\"2013\",\"2014\",\"2015\",\"2016\",\"2017\"],\"y\":[56.4096480624582,56.91140883682168,57.44192353385225,58.00503362723879,58.598142772139326,59.21818984292778,59.86162958279785,60.51585399850994,61.17972155336314,61.83778106023187,62.478304438318595,63.09159526396696,63.664439641264124,64.20565620034435,64.70347781963777,65.15542624720327,65.56010632225701,65.92570996932908]},\"selected\":{\"id\":\"6705\",\"type\":\"Selection\"},\"selection_policy\":{\"id\":\"6706\",\"type\":\"UnionRenderers\"}},\"id\":\"6687\",\"type\":\"ColumnDataSource\"},{\"attributes\":{\"line_color\":\"#2CC775\",\"line_width\":4,\"x\":{\"field\":\"x\"},\"y\":{\"field\":\"y\"}},\"id\":\"6714\",\"type\":\"Line\"},{\"attributes\":{\"source\":{\"id\":\"6733\",\"type\":\"ColumnDataSource\"}},\"id\":\"6737\",\"type\":\"CDSView\"},{\"attributes\":{\"line_alpha\":0.1,\"line_color\":\"#1f77b4\",\"line_width\":4,\"x\":{\"field\":\"x\"},\"y\":{\"field\":\"y\"}},\"id\":\"6715\",\"type\":\"Line\"},{\"attributes\":{\"fill_alpha\":{\"value\":0.1},\"fill_color\":{\"value\":\"#1f77b4\"},\"line_alpha\":{\"value\":0.1},\"line_color\":{\"value\":\"#1f77b4\"},\"size\":{\"units\":\"screen\",\"value\":1},\"x\":{\"field\":\"x\"},\"y\":{\"field\":\"y\"}},\"id\":\"6735\",\"type\":\"Circle\"},{\"attributes\":{\"callback\":null},\"id\":\"6645\",\"type\":\"DataRange1d\"},{\"attributes\":{\"overlay\":{\"id\":\"6684\",\"type\":\"BoxAnnotation\"}},\"id\":\"6663\",\"type\":\"BoxZoomTool\"},{\"attributes\":{\"source\":{\"id\":\"6674\",\"type\":\"ColumnDataSource\"}},\"id\":\"6678\",\"type\":\"CDSView\"},{\"attributes\":{\"source\":{\"id\":\"6692\",\"type\":\"ColumnDataSource\"}},\"id\":\"6696\",\"type\":\"CDSView\"},{\"attributes\":{\"active_drag\":\"auto\",\"active_inspect\":\"auto\",\"active_multi\":null,\"active_scroll\":\"auto\",\"active_tap\":\"auto\",\"tools\":[{\"id\":\"6661\",\"type\":\"PanTool\"},{\"id\":\"6662\",\"type\":\"WheelZoomTool\"},{\"id\":\"6663\",\"type\":\"BoxZoomTool\"},{\"id\":\"6664\",\"type\":\"SaveTool\"},{\"id\":\"6665\",\"type\":\"ResetTool\"},{\"id\":\"6666\",\"type\":\"HelpTool\"},{\"id\":\"6738\",\"type\":\"HoverTool\"}]},\"id\":\"6667\",\"type\":\"Toolbar\"},{\"attributes\":{},\"id\":\"6706\",\"type\":\"UnionRenderers\"},{\"attributes\":{\"callback\":null},\"id\":\"6643\",\"type\":\"DataRange1d\"},{\"attributes\":{},\"id\":\"6665\",\"type\":\"ResetTool\"},{\"attributes\":{},\"id\":\"6704\",\"type\":\"UnionRenderers\"},{\"attributes\":{\"text\":\"Life expectancy at birth, female (years) weighted against Rural population\"},\"id\":\"6641\",\"type\":\"Title\"},{\"attributes\":{\"data_source\":{\"id\":\"6733\",\"type\":\"ColumnDataSource\"},\"glyph\":{\"id\":\"6734\",\"type\":\"Circle\"},\"hover_glyph\":null,\"muted_glyph\":null,\"nonselection_glyph\":{\"id\":\"6735\",\"type\":\"Circle\"},\"selection_glyph\":null,\"view\":{\"id\":\"6737\",\"type\":\"CDSView\"}},\"id\":\"6736\",\"type\":\"GlyphRenderer\"},{\"attributes\":{},\"id\":\"6661\",\"type\":\"PanTool\"},{\"attributes\":{\"callback\":null,\"data\":{\"x\":[\"2000\",\"2001\",\"2002\",\"2003\",\"2004\",\"2005\",\"2006\",\"2007\",\"2008\",\"2009\",\"2010\",\"2011\",\"2012\",\"2013\",\"2014\",\"2015\",\"2016\",\"2017\"],\"y\":[67.72613360952067,67.96678765132117,68.21521706263611,68.47684702683729,68.75328942223987,69.0484966771406,69.36634426933745,69.70503900878862,70.05566335667386,70.41841613739292,70.77789293848497,71.13500951943153,71.47851972701005,71.80180695377123,72.09903276477121,72.36667910378955,72.59908110172458,72.80832887210636]},\"selected\":{\"id\":\"6730\",\"type\":\"Selection\"},\"selection_policy\":{\"id\":\"6731\",\"type\":\"UnionRenderers\"}},\"id\":\"6708\",\"type\":\"ColumnDataSource\"},{\"attributes\":{},\"id\":\"7034\",\"type\":\"UnionRenderers\"},{\"attributes\":{\"callback\":null,\"tooltips\":\"                \\n        <div style=padding=5px>Year:@x</div>\\n        <div style=padding=5px>Value:@y</div>        \\n        \"},\"id\":\"6738\",\"type\":\"HoverTool\"},{\"attributes\":{},\"id\":\"6683\",\"type\":\"BasicTickFormatter\"},{\"attributes\":{},\"id\":\"6647\",\"type\":\"LinearScale\"},{\"attributes\":{\"label\":{\"value\":\"Developing excluding LDCs\"},\"renderers\":[{\"id\":\"6695\",\"type\":\"GlyphRenderer\"}]},\"id\":\"6707\",\"type\":\"LegendItem\"},{\"attributes\":{},\"id\":\"6731\",\"type\":\"UnionRenderers\"},{\"attributes\":{},\"id\":\"7031\",\"type\":\"Selection\"},{\"attributes\":{\"label\":{\"value\":\"OECD\"},\"renderers\":[{\"id\":\"6716\",\"type\":\"GlyphRenderer\"}]},\"id\":\"6732\",\"type\":\"LegendItem\"},{\"attributes\":{},\"id\":\"6662\",\"type\":\"WheelZoomTool\"},{\"attributes\":{\"bottom_units\":\"screen\",\"fill_alpha\":{\"value\":0.5},\"fill_color\":{\"value\":\"lightgrey\"},\"left_units\":\"screen\",\"level\":\"overlay\",\"line_alpha\":{\"value\":1.0},\"line_color\":{\"value\":\"black\"},\"line_dash\":[4,4],\"line_width\":{\"value\":2},\"render_mode\":\"css\",\"right_units\":\"screen\",\"top_units\":\"screen\"},\"id\":\"6684\",\"type\":\"BoxAnnotation\"},{\"attributes\":{\"fill_color\":{\"value\":\"#2CC775\"},\"line_color\":{\"value\":\"#2CC775\"},\"size\":{\"units\":\"screen\",\"value\":1},\"x\":{\"field\":\"x\"},\"y\":{\"field\":\"y\"}},\"id\":\"6734\",\"type\":\"Circle\"},{\"attributes\":{\"callback\":null,\"data\":{\"x\":[\"2000\",\"2001\",\"2002\",\"2003\",\"2004\",\"2005\",\"2006\",\"2007\",\"2008\",\"2009\",\"2010\",\"2011\",\"2012\",\"2013\",\"2014\",\"2015\",\"2016\",\"2017\"],\"y\":[79.93351879418076,80.20290658761989,80.32918832949842,80.39856940465691,80.77521328865518,80.86674990168122,81.1402038786844,81.32381241465296,81.43163205746191,81.62948962454634,81.79594928587568,82.07333933782573,82.11929566013815,82.26555024337196,82.51912432141074,82.35601028400251,82.55037747513924,82.59790657999017]},\"selected\":{\"id\":\"7033\",\"type\":\"Selection\"},\"selection_policy\":{\"id\":\"7034\",\"type\":\"UnionRenderers\"}},\"id\":\"6733\",\"type\":\"ColumnDataSource\"},{\"attributes\":{\"callback\":null,\"data\":{\"x\":[\"2000\",\"2001\",\"2002\",\"2003\",\"2004\",\"2005\",\"2006\",\"2007\",\"2008\",\"2009\",\"2010\",\"2011\",\"2012\",\"2013\",\"2014\",\"2015\",\"2016\",\"2017\"],\"y\":[56.4096480624582,56.91140883682168,57.44192353385225,58.00503362723879,58.598142772139326,59.21818984292778,59.86162958279785,60.51585399850994,61.17972155336314,61.83778106023187,62.478304438318595,63.09159526396696,63.664439641264124,64.20565620034435,64.70347781963777,65.15542624720327,65.56010632225701,65.92570996932908]},\"selected\":{\"id\":\"6703\",\"type\":\"Selection\"},\"selection_policy\":{\"id\":\"6704\",\"type\":\"UnionRenderers\"}},\"id\":\"6674\",\"type\":\"ColumnDataSource\"}],\"root_ids\":[\"6640\"]},\"title\":\"Bokeh Application\",\"version\":\"1.4.0\"}};\n",
       "  var render_items = [{\"docid\":\"b7c3d593-5b87-40ed-809f-90ab89390bb3\",\"roots\":{\"6640\":\"f8042192-5bfc-4b47-b9c8-8e796b634eb2\"}}];\n",
       "  root.Bokeh.embed.embed_items_notebook(docs_json, render_items);\n",
       "\n",
       "  }\n",
       "  if (root.Bokeh !== undefined) {\n",
       "    embed_document(root);\n",
       "  } else {\n",
       "    var attempts = 0;\n",
       "    var timer = setInterval(function(root) {\n",
       "      if (root.Bokeh !== undefined) {\n",
       "        clearInterval(timer);\n",
       "        embed_document(root);\n",
       "      } else {\n",
       "        attempts++;\n",
       "        if (attempts > 100) {\n",
       "          clearInterval(timer);\n",
       "          console.log(\"Bokeh: ERROR: Unable to run BokehJS code because BokehJS library is missing\");\n",
       "        }\n",
       "      }\n",
       "    }, 10, root)\n",
       "  }\n",
       "})(window);"
      ],
      "application/vnd.bokehjs_exec.v0+json": ""
     },
     "metadata": {
      "application/vnd.bokehjs_exec.v0+json": {
       "id": "6640"
      }
     },
     "output_type": "display_data"
    }
   ],
   "source": [
    "# Female life expectancy\n",
    "years = list(map(str, list(range(2000,2018))))\n",
    "result = show_weighted_average(years, 'SP.DYN.LE00.FE.IN', 'SP.RUR.TOTL', \n",
    "                               ['LDCs', 'Developing excluding LDCs', 'OECD'], \n",
    "                                height=400, width=1000, line_width=4)"
   ]
  },
  {
   "cell_type": "code",
   "execution_count": 24,
   "metadata": {
    "ExecuteTime": {
     "end_time": "2019-10-25T14:25:33.233720Z",
     "start_time": "2019-10-25T14:25:28.874728Z"
    },
    "slideshow": {
     "slide_type": "slide"
    }
   },
   "outputs": [
    {
     "data": {
      "text/html": [
       "\n",
       "\n",
       "\n",
       "\n",
       "\n",
       "\n",
       "  <div class=\"bk-root\" id=\"4588488f-ffe3-4179-a548-f204fda29806\" data-root-id=\"7143\"></div>\n"
      ]
     },
     "metadata": {},
     "output_type": "display_data"
    },
    {
     "data": {
      "application/javascript": [
       "(function(root) {\n",
       "  function embed_document(root) {\n",
       "    \n",
       "  var docs_json = {\"1cfca3e0-5442-43d0-ab8e-2092c35bb32f\":{\"roots\":{\"references\":[{\"attributes\":{\"below\":[{\"id\":\"7154\",\"type\":\"LinearAxis\"}],\"center\":[{\"id\":\"7158\",\"type\":\"Grid\"},{\"id\":\"7163\",\"type\":\"Grid\"},{\"id\":\"7188\",\"type\":\"Legend\"}],\"left\":[{\"id\":\"7159\",\"type\":\"LinearAxis\"}],\"plot_height\":400,\"plot_width\":1000,\"renderers\":[{\"id\":\"7180\",\"type\":\"GlyphRenderer\"},{\"id\":\"7193\",\"type\":\"GlyphRenderer\"},{\"id\":\"7198\",\"type\":\"GlyphRenderer\"},{\"id\":\"7214\",\"type\":\"GlyphRenderer\"}],\"title\":{\"id\":\"7144\",\"type\":\"Title\"},\"toolbar\":{\"id\":\"7170\",\"type\":\"Toolbar\"},\"x_range\":{\"id\":\"7146\",\"type\":\"DataRange1d\"},\"x_scale\":{\"id\":\"7150\",\"type\":\"LinearScale\"},\"y_range\":{\"id\":\"7148\",\"type\":\"DataRange1d\"},\"y_scale\":{\"id\":\"7152\",\"type\":\"LinearScale\"}},\"id\":\"7143\",\"subtype\":\"Figure\",\"type\":\"Plot\"},{\"attributes\":{\"text\":\"Maternal mortality ratio (modeled estimate, per 100,000 live births) weighted against Population, female\"},\"id\":\"7144\",\"type\":\"Title\"},{\"attributes\":{\"callback\":null,\"data\":{\"x\":[\"2000\",\"2001\",\"2002\",\"2003\",\"2004\",\"2005\",\"2006\",\"2007\",\"2008\",\"2009\",\"2010\",\"2011\",\"2012\",\"2013\",\"2014\",\"2015\",\"2016\",\"2017\"],\"y\":[707.531739364374,683.283841045393,664.7414975773867,642.2893584675744,617.168252539152,585.3156477244164,558.0368400964686,533.8385872165519,513.0331627922752,494.0011262280731,475.11407864456663,457.69536641876675,442.6467497166802,428.52376993081737,415.93865365234706,401.1090399695652,387.80267341348326,376.40298034245205]},\"selected\":{\"id\":\"7208\",\"type\":\"Selection\"},\"selection_policy\":{\"id\":\"7209\",\"type\":\"UnionRenderers\"}},\"id\":\"7190\",\"type\":\"ColumnDataSource\"},{\"attributes\":{},\"id\":\"7165\",\"type\":\"WheelZoomTool\"},{\"attributes\":{\"fill_alpha\":{\"value\":0.1},\"fill_color\":{\"value\":\"#1f77b4\"},\"line_alpha\":{\"value\":0.1},\"line_color\":{\"value\":\"#1f77b4\"},\"size\":{\"units\":\"screen\",\"value\":1},\"x\":{\"field\":\"x\"},\"y\":{\"field\":\"y\"}},\"id\":\"7192\",\"type\":\"Circle\"},{\"attributes\":{\"overlay\":{\"id\":\"7187\",\"type\":\"BoxAnnotation\"}},\"id\":\"7166\",\"type\":\"BoxZoomTool\"},{\"attributes\":{\"data_source\":{\"id\":\"7211\",\"type\":\"ColumnDataSource\"},\"glyph\":{\"id\":\"7212\",\"type\":\"Circle\"},\"hover_glyph\":null,\"muted_glyph\":null,\"nonselection_glyph\":{\"id\":\"7213\",\"type\":\"Circle\"},\"selection_glyph\":null,\"view\":{\"id\":\"7215\",\"type\":\"CDSView\"}},\"id\":\"7214\",\"type\":\"GlyphRenderer\"},{\"attributes\":{\"data_source\":{\"id\":\"7190\",\"type\":\"ColumnDataSource\"},\"glyph\":{\"id\":\"7191\",\"type\":\"Circle\"},\"hover_glyph\":null,\"muted_glyph\":null,\"nonselection_glyph\":{\"id\":\"7192\",\"type\":\"Circle\"},\"selection_glyph\":null,\"view\":{\"id\":\"7194\",\"type\":\"CDSView\"}},\"id\":\"7193\",\"type\":\"GlyphRenderer\"},{\"attributes\":{},\"id\":\"7167\",\"type\":\"SaveTool\"},{\"attributes\":{\"callback\":null},\"id\":\"7148\",\"type\":\"DataRange1d\"},{\"attributes\":{\"line_color\":\"#5430F1\",\"line_width\":3,\"x\":{\"field\":\"x\"},\"y\":{\"field\":\"y\"}},\"id\":\"7196\",\"type\":\"Line\"},{\"attributes\":{\"source\":{\"id\":\"7211\",\"type\":\"ColumnDataSource\"}},\"id\":\"7215\",\"type\":\"CDSView\"},{\"attributes\":{},\"id\":\"7168\",\"type\":\"ResetTool\"},{\"attributes\":{\"source\":{\"id\":\"7190\",\"type\":\"ColumnDataSource\"}},\"id\":\"7194\",\"type\":\"CDSView\"},{\"attributes\":{},\"id\":\"7524\",\"type\":\"UnionRenderers\"},{\"attributes\":{},\"id\":\"7150\",\"type\":\"LinearScale\"},{\"attributes\":{},\"id\":\"7164\",\"type\":\"PanTool\"},{\"attributes\":{\"callback\":null,\"data\":{\"x\":[\"2000\",\"2001\",\"2002\",\"2003\",\"2004\",\"2005\",\"2006\",\"2007\",\"2008\",\"2009\",\"2010\",\"2011\",\"2012\",\"2013\",\"2014\",\"2015\",\"2016\",\"2017\"],\"y\":[219.59332239180722,213.79178224882705,206.7101391641294,200.94829957227932,194.47262113081396,186.6900748169621,179.6875283788996,172.88250023278727,167.30998830487772,161.32739957997765,155.26019847197256,149.52928908927956,144.63840989429647,140.54135376423983,137.10987842496655,133.64519145588477,129.98852533210263,127.89498651545217]},\"selected\":{\"id\":\"7523\",\"type\":\"Selection\"},\"selection_policy\":{\"id\":\"7524\",\"type\":\"UnionRenderers\"}},\"id\":\"7195\",\"type\":\"ColumnDataSource\"},{\"attributes\":{},\"id\":\"7152\",\"type\":\"LinearScale\"},{\"attributes\":{},\"id\":\"7169\",\"type\":\"HelpTool\"},{\"attributes\":{},\"id\":\"7523\",\"type\":\"Selection\"},{\"attributes\":{\"dimension\":1,\"grid_line_alpha\":0.5,\"ticker\":{\"id\":\"7160\",\"type\":\"BasicTicker\"}},\"id\":\"7163\",\"type\":\"Grid\"},{\"attributes\":{\"active_drag\":\"auto\",\"active_inspect\":\"auto\",\"active_multi\":null,\"active_scroll\":\"auto\",\"active_tap\":\"auto\",\"tools\":[{\"id\":\"7164\",\"type\":\"PanTool\"},{\"id\":\"7165\",\"type\":\"WheelZoomTool\"},{\"id\":\"7166\",\"type\":\"BoxZoomTool\"},{\"id\":\"7167\",\"type\":\"SaveTool\"},{\"id\":\"7168\",\"type\":\"ResetTool\"},{\"id\":\"7169\",\"type\":\"HelpTool\"},{\"id\":\"7216\",\"type\":\"HoverTool\"}]},\"id\":\"7170\",\"type\":\"Toolbar\"},{\"attributes\":{\"axis_label\":\"Years\",\"formatter\":{\"id\":\"7184\",\"type\":\"BasicTickFormatter\"},\"ticker\":{\"id\":\"7155\",\"type\":\"BasicTicker\"}},\"id\":\"7154\",\"type\":\"LinearAxis\"},{\"attributes\":{\"line_alpha\":0.1,\"line_color\":\"#1f77b4\",\"line_width\":3,\"x\":{\"field\":\"x\"},\"y\":{\"field\":\"y\"}},\"id\":\"7197\",\"type\":\"Line\"},{\"attributes\":{\"axis_label\":\"SH.STA.MMRT\",\"formatter\":{\"id\":\"7186\",\"type\":\"BasicTickFormatter\"},\"ticker\":{\"id\":\"7160\",\"type\":\"BasicTicker\"}},\"id\":\"7159\",\"type\":\"LinearAxis\"},{\"attributes\":{\"data_source\":{\"id\":\"7195\",\"type\":\"ColumnDataSource\"},\"glyph\":{\"id\":\"7196\",\"type\":\"Line\"},\"hover_glyph\":null,\"muted_glyph\":null,\"nonselection_glyph\":{\"id\":\"7197\",\"type\":\"Line\"},\"selection_glyph\":null,\"view\":{\"id\":\"7199\",\"type\":\"CDSView\"}},\"id\":\"7198\",\"type\":\"GlyphRenderer\"},{\"attributes\":{},\"id\":\"7155\",\"type\":\"BasicTicker\"},{\"attributes\":{},\"id\":\"7525\",\"type\":\"Selection\"},{\"attributes\":{},\"id\":\"7186\",\"type\":\"BasicTickFormatter\"},{\"attributes\":{\"grid_line_color\":null,\"ticker\":{\"id\":\"7155\",\"type\":\"BasicTicker\"}},\"id\":\"7158\",\"type\":\"Grid\"},{\"attributes\":{\"callback\":null},\"id\":\"7146\",\"type\":\"DataRange1d\"},{\"attributes\":{},\"id\":\"7526\",\"type\":\"UnionRenderers\"},{\"attributes\":{},\"id\":\"7160\",\"type\":\"BasicTicker\"},{\"attributes\":{\"source\":{\"id\":\"7177\",\"type\":\"ColumnDataSource\"}},\"id\":\"7181\",\"type\":\"CDSView\"},{\"attributes\":{\"source\":{\"id\":\"7195\",\"type\":\"ColumnDataSource\"}},\"id\":\"7199\",\"type\":\"CDSView\"},{\"attributes\":{\"fill_alpha\":{\"value\":0.1},\"fill_color\":{\"value\":\"#1f77b4\"},\"line_alpha\":{\"value\":0.1},\"line_color\":{\"value\":\"#1f77b4\"},\"size\":{\"units\":\"screen\",\"value\":1},\"x\":{\"field\":\"x\"},\"y\":{\"field\":\"y\"}},\"id\":\"7213\",\"type\":\"Circle\"},{\"attributes\":{},\"id\":\"7206\",\"type\":\"Selection\"},{\"attributes\":{\"fill_color\":{\"value\":\"#FA1857\"},\"line_color\":{\"value\":\"#FA1857\"},\"size\":{\"units\":\"screen\",\"value\":1},\"x\":{\"field\":\"x\"},\"y\":{\"field\":\"y\"}},\"id\":\"7191\",\"type\":\"Circle\"},{\"attributes\":{\"label\":{\"value\":\"Developing excluding LDCs\"},\"renderers\":[{\"id\":\"7198\",\"type\":\"GlyphRenderer\"}]},\"id\":\"7210\",\"type\":\"LegendItem\"},{\"attributes\":{},\"id\":\"7184\",\"type\":\"BasicTickFormatter\"},{\"attributes\":{\"items\":[{\"id\":\"7189\",\"type\":\"LegendItem\"},{\"id\":\"7210\",\"type\":\"LegendItem\"}],\"location\":\"bottom_left\"},\"id\":\"7188\",\"type\":\"Legend\"},{\"attributes\":{},\"id\":\"7207\",\"type\":\"UnionRenderers\"},{\"attributes\":{\"line_color\":\"#FA1857\",\"line_width\":3,\"x\":{\"field\":\"x\"},\"y\":{\"field\":\"y\"}},\"id\":\"7178\",\"type\":\"Line\"},{\"attributes\":{\"callback\":null,\"data\":{\"x\":[\"2000\",\"2001\",\"2002\",\"2003\",\"2004\",\"2005\",\"2006\",\"2007\",\"2008\",\"2009\",\"2010\",\"2011\",\"2012\",\"2013\",\"2014\",\"2015\",\"2016\",\"2017\"],\"y\":[707.531739364374,683.283841045393,664.7414975773867,642.2893584675744,617.168252539152,585.3156477244164,558.0368400964686,533.8385872165519,513.0331627922752,494.0011262280731,475.11407864456663,457.69536641876675,442.6467497166802,428.52376993081737,415.93865365234706,401.1090399695652,387.80267341348326,376.40298034245205]},\"selected\":{\"id\":\"7206\",\"type\":\"Selection\"},\"selection_policy\":{\"id\":\"7207\",\"type\":\"UnionRenderers\"}},\"id\":\"7177\",\"type\":\"ColumnDataSource\"},{\"attributes\":{},\"id\":\"7208\",\"type\":\"Selection\"},{\"attributes\":{\"bottom_units\":\"screen\",\"fill_alpha\":{\"value\":0.5},\"fill_color\":{\"value\":\"lightgrey\"},\"left_units\":\"screen\",\"level\":\"overlay\",\"line_alpha\":{\"value\":1.0},\"line_color\":{\"value\":\"black\"},\"line_dash\":[4,4],\"line_width\":{\"value\":2},\"render_mode\":\"css\",\"right_units\":\"screen\",\"top_units\":\"screen\"},\"id\":\"7187\",\"type\":\"BoxAnnotation\"},{\"attributes\":{},\"id\":\"7209\",\"type\":\"UnionRenderers\"},{\"attributes\":{\"line_alpha\":0.1,\"line_color\":\"#1f77b4\",\"line_width\":3,\"x\":{\"field\":\"x\"},\"y\":{\"field\":\"y\"}},\"id\":\"7179\",\"type\":\"Line\"},{\"attributes\":{\"callback\":null,\"data\":{\"x\":[\"2000\",\"2001\",\"2002\",\"2003\",\"2004\",\"2005\",\"2006\",\"2007\",\"2008\",\"2009\",\"2010\",\"2011\",\"2012\",\"2013\",\"2014\",\"2015\",\"2016\",\"2017\"],\"y\":[219.59332239180722,213.79178224882705,206.7101391641294,200.94829957227932,194.47262113081396,186.6900748169621,179.6875283788996,172.88250023278727,167.30998830487772,161.32739957997765,155.26019847197256,149.52928908927956,144.63840989429647,140.54135376423983,137.10987842496655,133.64519145588477,129.98852533210263,127.89498651545217]},\"selected\":{\"id\":\"7525\",\"type\":\"Selection\"},\"selection_policy\":{\"id\":\"7526\",\"type\":\"UnionRenderers\"}},\"id\":\"7211\",\"type\":\"ColumnDataSource\"},{\"attributes\":{\"label\":{\"value\":\"LDCs\"},\"renderers\":[{\"id\":\"7180\",\"type\":\"GlyphRenderer\"}]},\"id\":\"7189\",\"type\":\"LegendItem\"},{\"attributes\":{\"callback\":null,\"tooltips\":\"                \\n        <div style=padding=5px>Year:@x</div>\\n        <div style=padding=5px>Value:@y</div>        \\n        \"},\"id\":\"7216\",\"type\":\"HoverTool\"},{\"attributes\":{\"fill_color\":{\"value\":\"#5430F1\"},\"line_color\":{\"value\":\"#5430F1\"},\"size\":{\"units\":\"screen\",\"value\":1},\"x\":{\"field\":\"x\"},\"y\":{\"field\":\"y\"}},\"id\":\"7212\",\"type\":\"Circle\"},{\"attributes\":{\"data_source\":{\"id\":\"7177\",\"type\":\"ColumnDataSource\"},\"glyph\":{\"id\":\"7178\",\"type\":\"Line\"},\"hover_glyph\":null,\"muted_glyph\":null,\"nonselection_glyph\":{\"id\":\"7179\",\"type\":\"Line\"},\"selection_glyph\":null,\"view\":{\"id\":\"7181\",\"type\":\"CDSView\"}},\"id\":\"7180\",\"type\":\"GlyphRenderer\"}],\"root_ids\":[\"7143\"]},\"title\":\"Bokeh Application\",\"version\":\"1.4.0\"}};\n",
       "  var render_items = [{\"docid\":\"1cfca3e0-5442-43d0-ab8e-2092c35bb32f\",\"roots\":{\"7143\":\"4588488f-ffe3-4179-a548-f204fda29806\"}}];\n",
       "  root.Bokeh.embed.embed_items_notebook(docs_json, render_items);\n",
       "\n",
       "  }\n",
       "  if (root.Bokeh !== undefined) {\n",
       "    embed_document(root);\n",
       "  } else {\n",
       "    var attempts = 0;\n",
       "    var timer = setInterval(function(root) {\n",
       "      if (root.Bokeh !== undefined) {\n",
       "        clearInterval(timer);\n",
       "        embed_document(root);\n",
       "      } else {\n",
       "        attempts++;\n",
       "        if (attempts > 100) {\n",
       "          clearInterval(timer);\n",
       "          console.log(\"Bokeh: ERROR: Unable to run BokehJS code because BokehJS library is missing\");\n",
       "        }\n",
       "      }\n",
       "    }, 10, root)\n",
       "  }\n",
       "})(window);"
      ],
      "application/vnd.bokehjs_exec.v0+json": ""
     },
     "metadata": {
      "application/vnd.bokehjs_exec.v0+json": {
       "id": "7143"
      }
     },
     "output_type": "display_data"
    }
   ],
   "source": [
    "# Maternal mortality ratio\n",
    "years = list(map(str, list(range(2000,2018))))\n",
    "result = show_weighted_average(years, 'SH.STA.MMRT', 'SP.POP.TOTL.FE.IN', ['LDCs', 'Developing excluding LDCs'], \n",
    "                                height=400, width=1000, line_width=3)"
   ]
  },
  {
   "cell_type": "code",
   "execution_count": 25,
   "metadata": {
    "ExecuteTime": {
     "end_time": "2019-10-25T14:25:37.466675Z",
     "start_time": "2019-10-25T14:25:33.236157Z"
    },
    "slideshow": {
     "slide_type": "slide"
    }
   },
   "outputs": [
    {
     "data": {
      "text/html": [
       "\n",
       "\n",
       "\n",
       "\n",
       "\n",
       "\n",
       "  <div class=\"bk-root\" id=\"9d9ed584-c8b3-4e8f-83d0-114f2400019d\" data-root-id=\"7611\"></div>\n"
      ]
     },
     "metadata": {},
     "output_type": "display_data"
    },
    {
     "data": {
      "application/javascript": [
       "(function(root) {\n",
       "  function embed_document(root) {\n",
       "    \n",
       "  var docs_json = {\"acc06809-9c31-4036-8236-9fa19f352484\":{\"roots\":{\"references\":[{\"attributes\":{\"below\":[{\"id\":\"7622\",\"type\":\"LinearAxis\"}],\"center\":[{\"id\":\"7626\",\"type\":\"Grid\"},{\"id\":\"7631\",\"type\":\"Grid\"},{\"id\":\"7656\",\"type\":\"Legend\"}],\"left\":[{\"id\":\"7627\",\"type\":\"LinearAxis\"}],\"plot_height\":400,\"plot_width\":1000,\"renderers\":[{\"id\":\"7648\",\"type\":\"GlyphRenderer\"},{\"id\":\"7661\",\"type\":\"GlyphRenderer\"},{\"id\":\"7666\",\"type\":\"GlyphRenderer\"},{\"id\":\"7682\",\"type\":\"GlyphRenderer\"}],\"title\":{\"id\":\"7612\",\"type\":\"Title\"},\"toolbar\":{\"id\":\"7638\",\"type\":\"Toolbar\"},\"x_range\":{\"id\":\"7614\",\"type\":\"DataRange1d\"},\"x_scale\":{\"id\":\"7618\",\"type\":\"LinearScale\"},\"y_range\":{\"id\":\"7616\",\"type\":\"DataRange1d\"},\"y_scale\":{\"id\":\"7620\",\"type\":\"LinearScale\"}},\"id\":\"7611\",\"subtype\":\"Figure\",\"type\":\"Plot\"},{\"attributes\":{\"line_alpha\":0.1,\"line_color\":\"#1f77b4\",\"line_width\":4,\"x\":{\"field\":\"x\"},\"y\":{\"field\":\"y\"}},\"id\":\"7647\",\"type\":\"Line\"},{\"attributes\":{\"dimension\":1,\"grid_line_alpha\":0.5,\"ticker\":{\"id\":\"7628\",\"type\":\"BasicTicker\"}},\"id\":\"7631\",\"type\":\"Grid\"},{\"attributes\":{\"data_source\":{\"id\":\"7663\",\"type\":\"ColumnDataSource\"},\"glyph\":{\"id\":\"7664\",\"type\":\"Line\"},\"hover_glyph\":null,\"muted_glyph\":null,\"nonselection_glyph\":{\"id\":\"7665\",\"type\":\"Line\"},\"selection_glyph\":null,\"view\":{\"id\":\"7667\",\"type\":\"CDSView\"}},\"id\":\"7666\",\"type\":\"GlyphRenderer\"},{\"attributes\":{\"axis_label\":\"SP.DYN.IMRT.IN\",\"formatter\":{\"id\":\"7654\",\"type\":\"BasicTickFormatter\"},\"ticker\":{\"id\":\"7628\",\"type\":\"BasicTicker\"}},\"id\":\"7627\",\"type\":\"LinearAxis\"},{\"attributes\":{},\"id\":\"8007\",\"type\":\"Selection\"},{\"attributes\":{},\"id\":\"7623\",\"type\":\"BasicTicker\"},{\"attributes\":{},\"id\":\"7654\",\"type\":\"BasicTickFormatter\"},{\"attributes\":{\"callback\":null,\"data\":{\"x\":[\"2000\",\"2001\",\"2002\",\"2003\",\"2004\",\"2005\",\"2006\",\"2007\",\"2008\",\"2009\",\"2010\",\"2011\",\"2012\",\"2013\",\"2014\",\"2015\",\"2016\",\"2017\"],\"y\":[45.78578383486713,44.031337681921,42.299199545339675,40.54757027872643,38.98089862139654,37.254607293482884,35.73002700694259,34.25452486812492,32.831847885572984,31.511479629869857,30.239629828962936,29.032021703430917,27.851114277234785,26.780028383299534,25.710035808823015,24.679313694191894,23.770222266419392,22.83221285696215]},\"selected\":{\"id\":\"8005\",\"type\":\"Selection\"},\"selection_policy\":{\"id\":\"8006\",\"type\":\"UnionRenderers\"}},\"id\":\"7663\",\"type\":\"ColumnDataSource\"},{\"attributes\":{},\"id\":\"8008\",\"type\":\"UnionRenderers\"},{\"attributes\":{\"grid_line_color\":null,\"ticker\":{\"id\":\"7623\",\"type\":\"BasicTicker\"}},\"id\":\"7626\",\"type\":\"Grid\"},{\"attributes\":{\"source\":{\"id\":\"7645\",\"type\":\"ColumnDataSource\"}},\"id\":\"7649\",\"type\":\"CDSView\"},{\"attributes\":{},\"id\":\"7628\",\"type\":\"BasicTicker\"},{\"attributes\":{\"data_source\":{\"id\":\"7645\",\"type\":\"ColumnDataSource\"},\"glyph\":{\"id\":\"7646\",\"type\":\"Line\"},\"hover_glyph\":null,\"muted_glyph\":null,\"nonselection_glyph\":{\"id\":\"7647\",\"type\":\"Line\"},\"selection_glyph\":null,\"view\":{\"id\":\"7649\",\"type\":\"CDSView\"}},\"id\":\"7648\",\"type\":\"GlyphRenderer\"},{\"attributes\":{\"source\":{\"id\":\"7663\",\"type\":\"ColumnDataSource\"}},\"id\":\"7667\",\"type\":\"CDSView\"},{\"attributes\":{\"fill_color\":{\"value\":\"#FA1857\"},\"line_color\":{\"value\":\"#FA1857\"},\"size\":{\"units\":\"screen\",\"value\":1},\"x\":{\"field\":\"x\"},\"y\":{\"field\":\"y\"}},\"id\":\"7659\",\"type\":\"Circle\"},{\"attributes\":{},\"id\":\"7674\",\"type\":\"Selection\"},{\"attributes\":{},\"id\":\"7652\",\"type\":\"BasicTickFormatter\"},{\"attributes\":{\"items\":[{\"id\":\"7657\",\"type\":\"LegendItem\"},{\"id\":\"7678\",\"type\":\"LegendItem\"}],\"location\":\"bottom_left\"},\"id\":\"7656\",\"type\":\"Legend\"},{\"attributes\":{\"label\":{\"value\":\"Developing excluding LDCs\"},\"renderers\":[{\"id\":\"7666\",\"type\":\"GlyphRenderer\"}]},\"id\":\"7678\",\"type\":\"LegendItem\"},{\"attributes\":{},\"id\":\"7675\",\"type\":\"UnionRenderers\"},{\"attributes\":{\"callback\":null,\"data\":{\"x\":[\"2000\",\"2001\",\"2002\",\"2003\",\"2004\",\"2005\",\"2006\",\"2007\",\"2008\",\"2009\",\"2010\",\"2011\",\"2012\",\"2013\",\"2014\",\"2015\",\"2016\",\"2017\"],\"y\":[81.69737664551816,78.7776742491001,75.79362231840066,72.85366195554936,69.98405325689488,67.2302438001353,64.64697239792967,62.09970211682473,59.955823257655744,57.44271974761365,55.609782399199666,53.204853479803546,51.33747517746826,49.57214439495452,47.923201331929235,46.39163855174094,44.93241266562697,43.528829212630185]},\"selected\":{\"id\":\"7674\",\"type\":\"Selection\"},\"selection_policy\":{\"id\":\"7675\",\"type\":\"UnionRenderers\"}},\"id\":\"7645\",\"type\":\"ColumnDataSource\"},{\"attributes\":{},\"id\":\"7676\",\"type\":\"Selection\"},{\"attributes\":{\"bottom_units\":\"screen\",\"fill_alpha\":{\"value\":0.5},\"fill_color\":{\"value\":\"lightgrey\"},\"left_units\":\"screen\",\"level\":\"overlay\",\"line_alpha\":{\"value\":1.0},\"line_color\":{\"value\":\"black\"},\"line_dash\":[4,4],\"line_width\":{\"value\":2},\"render_mode\":\"css\",\"right_units\":\"screen\",\"top_units\":\"screen\"},\"id\":\"7655\",\"type\":\"BoxAnnotation\"},{\"attributes\":{},\"id\":\"8005\",\"type\":\"Selection\"},{\"attributes\":{},\"id\":\"7677\",\"type\":\"UnionRenderers\"},{\"attributes\":{\"active_drag\":\"auto\",\"active_inspect\":\"auto\",\"active_multi\":null,\"active_scroll\":\"auto\",\"active_tap\":\"auto\",\"tools\":[{\"id\":\"7632\",\"type\":\"PanTool\"},{\"id\":\"7633\",\"type\":\"WheelZoomTool\"},{\"id\":\"7634\",\"type\":\"BoxZoomTool\"},{\"id\":\"7635\",\"type\":\"SaveTool\"},{\"id\":\"7636\",\"type\":\"ResetTool\"},{\"id\":\"7637\",\"type\":\"HelpTool\"},{\"id\":\"7684\",\"type\":\"HoverTool\"}]},\"id\":\"7638\",\"type\":\"Toolbar\"},{\"attributes\":{\"label\":{\"value\":\"LDCs\"},\"renderers\":[{\"id\":\"7648\",\"type\":\"GlyphRenderer\"}]},\"id\":\"7657\",\"type\":\"LegendItem\"},{\"attributes\":{\"callback\":null,\"tooltips\":\"                \\n        <div style=padding=5px>Year:@x</div>\\n        <div style=padding=5px>Value:@y</div>        \\n        \"},\"id\":\"7684\",\"type\":\"HoverTool\"},{\"attributes\":{\"fill_color\":{\"value\":\"#5430F1\"},\"line_color\":{\"value\":\"#5430F1\"},\"size\":{\"units\":\"screen\",\"value\":1},\"x\":{\"field\":\"x\"},\"y\":{\"field\":\"y\"}},\"id\":\"7680\",\"type\":\"Circle\"},{\"attributes\":{\"line_color\":\"#FA1857\",\"line_width\":4,\"x\":{\"field\":\"x\"},\"y\":{\"field\":\"y\"}},\"id\":\"7646\",\"type\":\"Line\"},{\"attributes\":{},\"id\":\"7632\",\"type\":\"PanTool\"},{\"attributes\":{\"callback\":null,\"data\":{\"x\":[\"2000\",\"2001\",\"2002\",\"2003\",\"2004\",\"2005\",\"2006\",\"2007\",\"2008\",\"2009\",\"2010\",\"2011\",\"2012\",\"2013\",\"2014\",\"2015\",\"2016\",\"2017\"],\"y\":[45.78578383486713,44.031337681921,42.299199545339675,40.54757027872643,38.98089862139654,37.254607293482884,35.73002700694259,34.25452486812492,32.831847885572984,31.511479629869857,30.239629828962936,29.032021703430917,27.851114277234785,26.780028383299534,25.710035808823015,24.679313694191894,23.770222266419392,22.83221285696215]},\"selected\":{\"id\":\"8007\",\"type\":\"Selection\"},\"selection_policy\":{\"id\":\"8008\",\"type\":\"UnionRenderers\"}},\"id\":\"7679\",\"type\":\"ColumnDataSource\"},{\"attributes\":{\"callback\":null,\"data\":{\"x\":[\"2000\",\"2001\",\"2002\",\"2003\",\"2004\",\"2005\",\"2006\",\"2007\",\"2008\",\"2009\",\"2010\",\"2011\",\"2012\",\"2013\",\"2014\",\"2015\",\"2016\",\"2017\"],\"y\":[81.69737664551816,78.7776742491001,75.79362231840066,72.85366195554936,69.98405325689488,67.2302438001353,64.64697239792967,62.09970211682473,59.955823257655744,57.44271974761365,55.609782399199666,53.204853479803546,51.33747517746826,49.57214439495452,47.923201331929235,46.39163855174094,44.93241266562697,43.528829212630185]},\"selected\":{\"id\":\"7676\",\"type\":\"Selection\"},\"selection_policy\":{\"id\":\"7677\",\"type\":\"UnionRenderers\"}},\"id\":\"7658\",\"type\":\"ColumnDataSource\"},{\"attributes\":{\"text\":\"Mortality rate, infant (per 1,000 live births) weighted against Population, total\"},\"id\":\"7612\",\"type\":\"Title\"},{\"attributes\":{},\"id\":\"7633\",\"type\":\"WheelZoomTool\"},{\"attributes\":{\"fill_alpha\":{\"value\":0.1},\"fill_color\":{\"value\":\"#1f77b4\"},\"line_alpha\":{\"value\":0.1},\"line_color\":{\"value\":\"#1f77b4\"},\"size\":{\"units\":\"screen\",\"value\":1},\"x\":{\"field\":\"x\"},\"y\":{\"field\":\"y\"}},\"id\":\"7681\",\"type\":\"Circle\"},{\"attributes\":{\"fill_alpha\":{\"value\":0.1},\"fill_color\":{\"value\":\"#1f77b4\"},\"line_alpha\":{\"value\":0.1},\"line_color\":{\"value\":\"#1f77b4\"},\"size\":{\"units\":\"screen\",\"value\":1},\"x\":{\"field\":\"x\"},\"y\":{\"field\":\"y\"}},\"id\":\"7660\",\"type\":\"Circle\"},{\"attributes\":{\"axis_label\":\"Years\",\"formatter\":{\"id\":\"7652\",\"type\":\"BasicTickFormatter\"},\"ticker\":{\"id\":\"7623\",\"type\":\"BasicTicker\"}},\"id\":\"7622\",\"type\":\"LinearAxis\"},{\"attributes\":{\"overlay\":{\"id\":\"7655\",\"type\":\"BoxAnnotation\"}},\"id\":\"7634\",\"type\":\"BoxZoomTool\"},{\"attributes\":{\"callback\":null},\"id\":\"7614\",\"type\":\"DataRange1d\"},{\"attributes\":{\"data_source\":{\"id\":\"7679\",\"type\":\"ColumnDataSource\"},\"glyph\":{\"id\":\"7680\",\"type\":\"Circle\"},\"hover_glyph\":null,\"muted_glyph\":null,\"nonselection_glyph\":{\"id\":\"7681\",\"type\":\"Circle\"},\"selection_glyph\":null,\"view\":{\"id\":\"7683\",\"type\":\"CDSView\"}},\"id\":\"7682\",\"type\":\"GlyphRenderer\"},{\"attributes\":{\"data_source\":{\"id\":\"7658\",\"type\":\"ColumnDataSource\"},\"glyph\":{\"id\":\"7659\",\"type\":\"Circle\"},\"hover_glyph\":null,\"muted_glyph\":null,\"nonselection_glyph\":{\"id\":\"7660\",\"type\":\"Circle\"},\"selection_glyph\":null,\"view\":{\"id\":\"7662\",\"type\":\"CDSView\"}},\"id\":\"7661\",\"type\":\"GlyphRenderer\"},{\"attributes\":{},\"id\":\"7635\",\"type\":\"SaveTool\"},{\"attributes\":{\"callback\":null},\"id\":\"7616\",\"type\":\"DataRange1d\"},{\"attributes\":{\"line_color\":\"#5430F1\",\"line_width\":4,\"x\":{\"field\":\"x\"},\"y\":{\"field\":\"y\"}},\"id\":\"7664\",\"type\":\"Line\"},{\"attributes\":{\"source\":{\"id\":\"7679\",\"type\":\"ColumnDataSource\"}},\"id\":\"7683\",\"type\":\"CDSView\"},{\"attributes\":{},\"id\":\"7636\",\"type\":\"ResetTool\"},{\"attributes\":{\"source\":{\"id\":\"7658\",\"type\":\"ColumnDataSource\"}},\"id\":\"7662\",\"type\":\"CDSView\"},{\"attributes\":{},\"id\":\"8006\",\"type\":\"UnionRenderers\"},{\"attributes\":{},\"id\":\"7620\",\"type\":\"LinearScale\"},{\"attributes\":{\"line_alpha\":0.1,\"line_color\":\"#1f77b4\",\"line_width\":4,\"x\":{\"field\":\"x\"},\"y\":{\"field\":\"y\"}},\"id\":\"7665\",\"type\":\"Line\"},{\"attributes\":{},\"id\":\"7618\",\"type\":\"LinearScale\"},{\"attributes\":{},\"id\":\"7637\",\"type\":\"HelpTool\"}],\"root_ids\":[\"7611\"]},\"title\":\"Bokeh Application\",\"version\":\"1.4.0\"}};\n",
       "  var render_items = [{\"docid\":\"acc06809-9c31-4036-8236-9fa19f352484\",\"roots\":{\"7611\":\"9d9ed584-c8b3-4e8f-83d0-114f2400019d\"}}];\n",
       "  root.Bokeh.embed.embed_items_notebook(docs_json, render_items);\n",
       "\n",
       "  }\n",
       "  if (root.Bokeh !== undefined) {\n",
       "    embed_document(root);\n",
       "  } else {\n",
       "    var attempts = 0;\n",
       "    var timer = setInterval(function(root) {\n",
       "      if (root.Bokeh !== undefined) {\n",
       "        clearInterval(timer);\n",
       "        embed_document(root);\n",
       "      } else {\n",
       "        attempts++;\n",
       "        if (attempts > 100) {\n",
       "          clearInterval(timer);\n",
       "          console.log(\"Bokeh: ERROR: Unable to run BokehJS code because BokehJS library is missing\");\n",
       "        }\n",
       "      }\n",
       "    }, 10, root)\n",
       "  }\n",
       "})(window);"
      ],
      "application/vnd.bokehjs_exec.v0+json": ""
     },
     "metadata": {
      "application/vnd.bokehjs_exec.v0+json": {
       "id": "7611"
      }
     },
     "output_type": "display_data"
    }
   ],
   "source": [
    "# Infant mortality rate\n",
    "years = list(map(str, list(range(2000,2018))))\n",
    "result = show_weighted_average(years, 'SP.DYN.IMRT.IN', 'SP.POP.TOTL', ['LDCs', 'Developing excluding LDCs'], \n",
    "                                height=400, width=1000, line_width=4)"
   ]
  },
  {
   "cell_type": "markdown",
   "metadata": {
    "slideshow": {
     "slide_type": "slide"
    }
   },
   "source": [
    "# Lack of dissagregated gender data is a problem\n",
    "\n",
    "\n",
    "# Gender responsive development planning\n",
    "\n",
    "\n",
    "# Great progress of political representation of women in parliament\n",
    "\n",
    "\n",
    "# Important to promote the representation of women in other domains and across social groups"
   ]
  },
  {
   "cell_type": "markdown",
   "metadata": {
    "slideshow": {
     "slide_type": "slide"
    }
   },
   "source": [
    "# Education and training"
   ]
  },
  {
   "cell_type": "code",
   "execution_count": 26,
   "metadata": {
    "slideshow": {
     "slide_type": "slide"
    }
   },
   "outputs": [
    {
     "data": {
      "text/html": [
       "\n",
       "\n",
       "\n",
       "\n",
       "\n",
       "\n",
       "  <div class=\"bk-root\" id=\"afc4f389-b857-434d-b758-016c8c6c7b2f\" data-root-id=\"8093\"></div>\n"
      ]
     },
     "metadata": {},
     "output_type": "display_data"
    },
    {
     "data": {
      "application/javascript": [
       "(function(root) {\n",
       "  function embed_document(root) {\n",
       "    \n",
       "  var docs_json = {\"26a26b80-c75c-4796-a931-f446bc73ce48\":{\"roots\":{\"references\":[{\"attributes\":{\"below\":[{\"id\":\"8104\",\"type\":\"LinearAxis\"}],\"center\":[{\"id\":\"8108\",\"type\":\"Grid\"},{\"id\":\"8113\",\"type\":\"Grid\"},{\"id\":\"8138\",\"type\":\"Legend\"}],\"left\":[{\"id\":\"8109\",\"type\":\"LinearAxis\"}],\"plot_height\":400,\"plot_width\":1000,\"renderers\":[{\"id\":\"8130\",\"type\":\"GlyphRenderer\"},{\"id\":\"8143\",\"type\":\"GlyphRenderer\"},{\"id\":\"8148\",\"type\":\"GlyphRenderer\"},{\"id\":\"8164\",\"type\":\"GlyphRenderer\"}],\"title\":{\"id\":\"8094\",\"type\":\"Title\"},\"toolbar\":{\"id\":\"8120\",\"type\":\"Toolbar\"},\"x_range\":{\"id\":\"8096\",\"type\":\"DataRange1d\"},\"x_scale\":{\"id\":\"8100\",\"type\":\"LinearScale\"},\"y_range\":{\"id\":\"8098\",\"type\":\"DataRange1d\"},\"y_scale\":{\"id\":\"8102\",\"type\":\"LinearScale\"}},\"id\":\"8093\",\"subtype\":\"Figure\",\"type\":\"Plot\"},{\"attributes\":{},\"id\":\"8159\",\"type\":\"UnionRenderers\"},{\"attributes\":{},\"id\":\"8110\",\"type\":\"BasicTicker\"},{\"attributes\":{\"line_alpha\":0.1,\"line_color\":\"#1f77b4\",\"line_width\":3,\"x\":{\"field\":\"x\"},\"y\":{\"field\":\"y\"}},\"id\":\"8129\",\"type\":\"Line\"},{\"attributes\":{},\"id\":\"8105\",\"type\":\"BasicTicker\"},{\"attributes\":{\"callback\":null,\"data\":{\"x\":[\"2010\",\"2011\",\"2012\",\"2013\",\"2014\",\"2015\",\"2016\",\"2017\"],\"y\":[103.0427231291659,104.17449382804634,104.95172912979407,104.1439293927902,102.46095391981049,103.21816040999303,104.79795341840126,105.29627652385149]},\"selected\":{\"id\":\"8503\",\"type\":\"Selection\"},\"selection_policy\":{\"id\":\"8504\",\"type\":\"UnionRenderers\"}},\"id\":\"8161\",\"type\":\"ColumnDataSource\"},{\"attributes\":{\"callback\":null,\"data\":{\"x\":[\"2010\",\"2011\",\"2012\",\"2013\",\"2014\",\"2015\",\"2016\",\"2017\"],\"y\":[103.0427231291659,104.17449382804634,104.95172912979407,104.1439293927902,102.46095391981049,103.21816040999303,104.79795341840126,105.29627652385149]},\"selected\":{\"id\":\"8501\",\"type\":\"Selection\"},\"selection_policy\":{\"id\":\"8502\",\"type\":\"UnionRenderers\"}},\"id\":\"8145\",\"type\":\"ColumnDataSource\"},{\"attributes\":{\"line_color\":\"#5430F1\",\"line_width\":3,\"x\":{\"field\":\"x\"},\"y\":{\"field\":\"y\"}},\"id\":\"8146\",\"type\":\"Line\"},{\"attributes\":{\"label\":{\"value\":\"Developing excluding LDCs\"},\"renderers\":[{\"id\":\"8148\",\"type\":\"GlyphRenderer\"}]},\"id\":\"8160\",\"type\":\"LegendItem\"},{\"attributes\":{\"data_source\":{\"id\":\"8161\",\"type\":\"ColumnDataSource\"},\"glyph\":{\"id\":\"8162\",\"type\":\"Circle\"},\"hover_glyph\":null,\"muted_glyph\":null,\"nonselection_glyph\":{\"id\":\"8163\",\"type\":\"Circle\"},\"selection_glyph\":null,\"view\":{\"id\":\"8165\",\"type\":\"CDSView\"}},\"id\":\"8164\",\"type\":\"GlyphRenderer\"},{\"attributes\":{},\"id\":\"8115\",\"type\":\"WheelZoomTool\"},{\"attributes\":{\"fill_alpha\":{\"value\":0.1},\"fill_color\":{\"value\":\"#1f77b4\"},\"line_alpha\":{\"value\":0.1},\"line_color\":{\"value\":\"#1f77b4\"},\"size\":{\"units\":\"screen\",\"value\":1},\"x\":{\"field\":\"x\"},\"y\":{\"field\":\"y\"}},\"id\":\"8142\",\"type\":\"Circle\"},{\"attributes\":{},\"id\":\"8504\",\"type\":\"UnionRenderers\"},{\"attributes\":{\"data_source\":{\"id\":\"8127\",\"type\":\"ColumnDataSource\"},\"glyph\":{\"id\":\"8128\",\"type\":\"Line\"},\"hover_glyph\":null,\"muted_glyph\":null,\"nonselection_glyph\":{\"id\":\"8129\",\"type\":\"Line\"},\"selection_glyph\":null,\"view\":{\"id\":\"8131\",\"type\":\"CDSView\"}},\"id\":\"8130\",\"type\":\"GlyphRenderer\"},{\"attributes\":{},\"id\":\"8157\",\"type\":\"UnionRenderers\"},{\"attributes\":{},\"id\":\"8158\",\"type\":\"Selection\"},{\"attributes\":{\"callback\":null},\"id\":\"8098\",\"type\":\"DataRange1d\"},{\"attributes\":{\"callback\":null,\"data\":{\"x\":[\"2010\",\"2011\",\"2012\",\"2013\",\"2014\",\"2015\",\"2016\",\"2017\"],\"y\":[102.6119637211271,102.40504842979927,102.61492060065704,104.04955168783302,102.71277937258405,104.33578807060616,101.785654111482,103.68177991550498]},\"selected\":{\"id\":\"8158\",\"type\":\"Selection\"},\"selection_policy\":{\"id\":\"8159\",\"type\":\"UnionRenderers\"}},\"id\":\"8140\",\"type\":\"ColumnDataSource\"},{\"attributes\":{\"source\":{\"id\":\"8145\",\"type\":\"ColumnDataSource\"}},\"id\":\"8149\",\"type\":\"CDSView\"},{\"attributes\":{\"grid_line_color\":null,\"ticker\":{\"id\":\"8105\",\"type\":\"BasicTicker\"}},\"id\":\"8108\",\"type\":\"Grid\"},{\"attributes\":{},\"id\":\"8501\",\"type\":\"Selection\"},{\"attributes\":{\"label\":{\"value\":\"LDCs\"},\"renderers\":[{\"id\":\"8130\",\"type\":\"GlyphRenderer\"}]},\"id\":\"8139\",\"type\":\"LegendItem\"},{\"attributes\":{},\"id\":\"8156\",\"type\":\"Selection\"},{\"attributes\":{},\"id\":\"8118\",\"type\":\"ResetTool\"},{\"attributes\":{\"source\":{\"id\":\"8127\",\"type\":\"ColumnDataSource\"}},\"id\":\"8131\",\"type\":\"CDSView\"},{\"attributes\":{\"text\":\"School enrollment, primary (% gross) weighted against Population, total\"},\"id\":\"8094\",\"type\":\"Title\"},{\"attributes\":{},\"id\":\"8502\",\"type\":\"UnionRenderers\"},{\"attributes\":{},\"id\":\"8100\",\"type\":\"LinearScale\"},{\"attributes\":{\"callback\":null,\"tooltips\":\"                \\n        <div style=padding=5px>Year:@x</div>\\n        <div style=padding=5px>Value:@y</div>        \\n        \"},\"id\":\"8166\",\"type\":\"HoverTool\"},{\"attributes\":{\"fill_alpha\":{\"value\":0.1},\"fill_color\":{\"value\":\"#1f77b4\"},\"line_alpha\":{\"value\":0.1},\"line_color\":{\"value\":\"#1f77b4\"},\"size\":{\"units\":\"screen\",\"value\":1},\"x\":{\"field\":\"x\"},\"y\":{\"field\":\"y\"}},\"id\":\"8163\",\"type\":\"Circle\"},{\"attributes\":{\"bottom_units\":\"screen\",\"fill_alpha\":{\"value\":0.5},\"fill_color\":{\"value\":\"lightgrey\"},\"left_units\":\"screen\",\"level\":\"overlay\",\"line_alpha\":{\"value\":1.0},\"line_color\":{\"value\":\"black\"},\"line_dash\":[4,4],\"line_width\":{\"value\":2},\"render_mode\":\"css\",\"right_units\":\"screen\",\"top_units\":\"screen\"},\"id\":\"8137\",\"type\":\"BoxAnnotation\"},{\"attributes\":{\"dimension\":1,\"grid_line_alpha\":0.5,\"ticker\":{\"id\":\"8110\",\"type\":\"BasicTicker\"}},\"id\":\"8113\",\"type\":\"Grid\"},{\"attributes\":{\"items\":[{\"id\":\"8139\",\"type\":\"LegendItem\"},{\"id\":\"8160\",\"type\":\"LegendItem\"}],\"location\":\"bottom_left\"},\"id\":\"8138\",\"type\":\"Legend\"},{\"attributes\":{\"data_source\":{\"id\":\"8140\",\"type\":\"ColumnDataSource\"},\"glyph\":{\"id\":\"8141\",\"type\":\"Circle\"},\"hover_glyph\":null,\"muted_glyph\":null,\"nonselection_glyph\":{\"id\":\"8142\",\"type\":\"Circle\"},\"selection_glyph\":null,\"view\":{\"id\":\"8144\",\"type\":\"CDSView\"}},\"id\":\"8143\",\"type\":\"GlyphRenderer\"},{\"attributes\":{},\"id\":\"8134\",\"type\":\"BasicTickFormatter\"},{\"attributes\":{},\"id\":\"8102\",\"type\":\"LinearScale\"},{\"attributes\":{},\"id\":\"8136\",\"type\":\"BasicTickFormatter\"},{\"attributes\":{},\"id\":\"8503\",\"type\":\"Selection\"},{\"attributes\":{\"source\":{\"id\":\"8140\",\"type\":\"ColumnDataSource\"}},\"id\":\"8144\",\"type\":\"CDSView\"},{\"attributes\":{\"source\":{\"id\":\"8161\",\"type\":\"ColumnDataSource\"}},\"id\":\"8165\",\"type\":\"CDSView\"},{\"attributes\":{},\"id\":\"8117\",\"type\":\"SaveTool\"},{\"attributes\":{\"active_drag\":\"auto\",\"active_inspect\":\"auto\",\"active_multi\":null,\"active_scroll\":\"auto\",\"active_tap\":\"auto\",\"tools\":[{\"id\":\"8114\",\"type\":\"PanTool\"},{\"id\":\"8115\",\"type\":\"WheelZoomTool\"},{\"id\":\"8116\",\"type\":\"BoxZoomTool\"},{\"id\":\"8117\",\"type\":\"SaveTool\"},{\"id\":\"8118\",\"type\":\"ResetTool\"},{\"id\":\"8119\",\"type\":\"HelpTool\"},{\"id\":\"8166\",\"type\":\"HoverTool\"}]},\"id\":\"8120\",\"type\":\"Toolbar\"},{\"attributes\":{},\"id\":\"8114\",\"type\":\"PanTool\"},{\"attributes\":{\"fill_color\":{\"value\":\"#5430F1\"},\"line_color\":{\"value\":\"#5430F1\"},\"size\":{\"units\":\"screen\",\"value\":1},\"x\":{\"field\":\"x\"},\"y\":{\"field\":\"y\"}},\"id\":\"8162\",\"type\":\"Circle\"},{\"attributes\":{\"callback\":null,\"data\":{\"x\":[\"2010\",\"2011\",\"2012\",\"2013\",\"2014\",\"2015\",\"2016\",\"2017\"],\"y\":[102.6119637211271,102.40504842979927,102.61492060065704,104.04955168783302,102.71277937258405,104.33578807060616,101.785654111482,103.68177991550498]},\"selected\":{\"id\":\"8156\",\"type\":\"Selection\"},\"selection_policy\":{\"id\":\"8157\",\"type\":\"UnionRenderers\"}},\"id\":\"8127\",\"type\":\"ColumnDataSource\"},{\"attributes\":{\"axis_label\":\"Years\",\"formatter\":{\"id\":\"8134\",\"type\":\"BasicTickFormatter\"},\"ticker\":{\"id\":\"8105\",\"type\":\"BasicTicker\"}},\"id\":\"8104\",\"type\":\"LinearAxis\"},{\"attributes\":{\"axis_label\":\"SE.PRM.ENRR\",\"formatter\":{\"id\":\"8136\",\"type\":\"BasicTickFormatter\"},\"ticker\":{\"id\":\"8110\",\"type\":\"BasicTicker\"}},\"id\":\"8109\",\"type\":\"LinearAxis\"},{\"attributes\":{\"callback\":null},\"id\":\"8096\",\"type\":\"DataRange1d\"},{\"attributes\":{\"data_source\":{\"id\":\"8145\",\"type\":\"ColumnDataSource\"},\"glyph\":{\"id\":\"8146\",\"type\":\"Line\"},\"hover_glyph\":null,\"muted_glyph\":null,\"nonselection_glyph\":{\"id\":\"8147\",\"type\":\"Line\"},\"selection_glyph\":null,\"view\":{\"id\":\"8149\",\"type\":\"CDSView\"}},\"id\":\"8148\",\"type\":\"GlyphRenderer\"},{\"attributes\":{\"overlay\":{\"id\":\"8137\",\"type\":\"BoxAnnotation\"}},\"id\":\"8116\",\"type\":\"BoxZoomTool\"},{\"attributes\":{},\"id\":\"8119\",\"type\":\"HelpTool\"},{\"attributes\":{\"fill_color\":{\"value\":\"#FA1857\"},\"line_color\":{\"value\":\"#FA1857\"},\"size\":{\"units\":\"screen\",\"value\":1},\"x\":{\"field\":\"x\"},\"y\":{\"field\":\"y\"}},\"id\":\"8141\",\"type\":\"Circle\"},{\"attributes\":{\"line_alpha\":0.1,\"line_color\":\"#1f77b4\",\"line_width\":3,\"x\":{\"field\":\"x\"},\"y\":{\"field\":\"y\"}},\"id\":\"8147\",\"type\":\"Line\"},{\"attributes\":{\"line_color\":\"#FA1857\",\"line_width\":3,\"x\":{\"field\":\"x\"},\"y\":{\"field\":\"y\"}},\"id\":\"8128\",\"type\":\"Line\"}],\"root_ids\":[\"8093\"]},\"title\":\"Bokeh Application\",\"version\":\"1.4.0\"}};\n",
       "  var render_items = [{\"docid\":\"26a26b80-c75c-4796-a931-f446bc73ce48\",\"roots\":{\"8093\":\"afc4f389-b857-434d-b758-016c8c6c7b2f\"}}];\n",
       "  root.Bokeh.embed.embed_items_notebook(docs_json, render_items);\n",
       "\n",
       "  }\n",
       "  if (root.Bokeh !== undefined) {\n",
       "    embed_document(root);\n",
       "  } else {\n",
       "    var attempts = 0;\n",
       "    var timer = setInterval(function(root) {\n",
       "      if (root.Bokeh !== undefined) {\n",
       "        clearInterval(timer);\n",
       "        embed_document(root);\n",
       "      } else {\n",
       "        attempts++;\n",
       "        if (attempts > 100) {\n",
       "          clearInterval(timer);\n",
       "          console.log(\"Bokeh: ERROR: Unable to run BokehJS code because BokehJS library is missing\");\n",
       "        }\n",
       "      }\n",
       "    }, 10, root)\n",
       "  }\n",
       "})(window);"
      ],
      "application/vnd.bokehjs_exec.v0+json": ""
     },
     "metadata": {
      "application/vnd.bokehjs_exec.v0+json": {
       "id": "8093"
      }
     },
     "output_type": "display_data"
    }
   ],
   "source": [
    "# School enrollment, primary\n",
    "years = list(map(str, list(range(2010,2018))))\n",
    "result = show_weighted_average(years, 'SE.PRM.ENRR', 'SP.POP.TOTL', \n",
    "                                ['LDCs', 'Developing excluding LDCs'], \n",
    "                                height=400, width=1000, line_width=3)"
   ]
  },
  {
   "cell_type": "code",
   "execution_count": 27,
   "metadata": {
    "slideshow": {
     "slide_type": "slide"
    }
   },
   "outputs": [
    {
     "data": {
      "text/html": [
       "\n",
       "\n",
       "\n",
       "\n",
       "\n",
       "\n",
       "  <div class=\"bk-root\" id=\"e2bd3e72-32bb-432f-9fd7-3d8faadd8126\" data-root-id=\"8589\"></div>\n"
      ]
     },
     "metadata": {},
     "output_type": "display_data"
    },
    {
     "data": {
      "application/javascript": [
       "(function(root) {\n",
       "  function embed_document(root) {\n",
       "    \n",
       "  var docs_json = {\"51db2add-9583-4dc8-a3cd-c9bbf755326d\":{\"roots\":{\"references\":[{\"attributes\":{\"below\":[{\"id\":\"8600\",\"type\":\"LinearAxis\"}],\"center\":[{\"id\":\"8604\",\"type\":\"Grid\"},{\"id\":\"8609\",\"type\":\"Grid\"},{\"id\":\"8634\",\"type\":\"Legend\"}],\"left\":[{\"id\":\"8605\",\"type\":\"LinearAxis\"}],\"plot_height\":400,\"plot_width\":1000,\"renderers\":[{\"id\":\"8626\",\"type\":\"GlyphRenderer\"},{\"id\":\"8639\",\"type\":\"GlyphRenderer\"},{\"id\":\"8644\",\"type\":\"GlyphRenderer\"},{\"id\":\"8660\",\"type\":\"GlyphRenderer\"}],\"title\":{\"id\":\"8590\",\"type\":\"Title\"},\"toolbar\":{\"id\":\"8616\",\"type\":\"Toolbar\"},\"x_range\":{\"id\":\"8592\",\"type\":\"DataRange1d\"},\"x_scale\":{\"id\":\"8596\",\"type\":\"LinearScale\"},\"y_range\":{\"id\":\"8594\",\"type\":\"DataRange1d\"},\"y_scale\":{\"id\":\"8598\",\"type\":\"LinearScale\"}},\"id\":\"8589\",\"subtype\":\"Figure\",\"type\":\"Plot\"},{\"attributes\":{\"callback\":null,\"data\":{\"x\":[\"2010\",\"2011\",\"2012\",\"2013\",\"2014\",\"2015\",\"2016\",\"2017\"],\"y\":[40.71979156217991,40.50524831492961,42.88559060690365,48.02763417723285,42.06890499122678,45.77221151940908,51.781966052740714,52.216689130724404]},\"selected\":{\"id\":\"8654\",\"type\":\"Selection\"},\"selection_policy\":{\"id\":\"8655\",\"type\":\"UnionRenderers\"}},\"id\":\"8636\",\"type\":\"ColumnDataSource\"},{\"attributes\":{},\"id\":\"8611\",\"type\":\"WheelZoomTool\"},{\"attributes\":{\"fill_alpha\":{\"value\":0.1},\"fill_color\":{\"value\":\"#1f77b4\"},\"line_alpha\":{\"value\":0.1},\"line_color\":{\"value\":\"#1f77b4\"},\"size\":{\"units\":\"screen\",\"value\":1},\"x\":{\"field\":\"x\"},\"y\":{\"field\":\"y\"}},\"id\":\"8638\",\"type\":\"Circle\"},{\"attributes\":{\"active_drag\":\"auto\",\"active_inspect\":\"auto\",\"active_multi\":null,\"active_scroll\":\"auto\",\"active_tap\":\"auto\",\"tools\":[{\"id\":\"8610\",\"type\":\"PanTool\"},{\"id\":\"8611\",\"type\":\"WheelZoomTool\"},{\"id\":\"8612\",\"type\":\"BoxZoomTool\"},{\"id\":\"8613\",\"type\":\"SaveTool\"},{\"id\":\"8614\",\"type\":\"ResetTool\"},{\"id\":\"8615\",\"type\":\"HelpTool\"},{\"id\":\"8662\",\"type\":\"HoverTool\"}]},\"id\":\"8616\",\"type\":\"Toolbar\"},{\"attributes\":{\"text\":\"School enrollment, secondary (% gross) weighted against Population, total\"},\"id\":\"8590\",\"type\":\"Title\"},{\"attributes\":{},\"id\":\"9012\",\"type\":\"UnionRenderers\"},{\"attributes\":{\"label\":{\"value\":\"LDCs\"},\"renderers\":[{\"id\":\"8626\",\"type\":\"GlyphRenderer\"}]},\"id\":\"8635\",\"type\":\"LegendItem\"},{\"attributes\":{},\"id\":\"8610\",\"type\":\"PanTool\"},{\"attributes\":{\"line_color\":\"#5430F1\",\"line_width\":3,\"x\":{\"field\":\"x\"},\"y\":{\"field\":\"y\"}},\"id\":\"8642\",\"type\":\"Line\"},{\"attributes\":{},\"id\":\"9011\",\"type\":\"Selection\"},{\"attributes\":{\"overlay\":{\"id\":\"8633\",\"type\":\"BoxAnnotation\"}},\"id\":\"8612\",\"type\":\"BoxZoomTool\"},{\"attributes\":{\"data_source\":{\"id\":\"8636\",\"type\":\"ColumnDataSource\"},\"glyph\":{\"id\":\"8637\",\"type\":\"Circle\"},\"hover_glyph\":null,\"muted_glyph\":null,\"nonselection_glyph\":{\"id\":\"8638\",\"type\":\"Circle\"},\"selection_glyph\":null,\"view\":{\"id\":\"8640\",\"type\":\"CDSView\"}},\"id\":\"8639\",\"type\":\"GlyphRenderer\"},{\"attributes\":{},\"id\":\"8614\",\"type\":\"ResetTool\"},{\"attributes\":{\"callback\":null,\"data\":{\"x\":[\"2010\",\"2011\",\"2012\",\"2013\",\"2014\",\"2015\",\"2016\",\"2017\"],\"y\":[74.89483649419115,71.7293111922578,72.55803200547106,74.88712644187571,78.63032657672926,78.88460416945199,79.3951445589684,81.37361590400792]},\"selected\":{\"id\":\"9011\",\"type\":\"Selection\"},\"selection_policy\":{\"id\":\"9012\",\"type\":\"UnionRenderers\"}},\"id\":\"8641\",\"type\":\"ColumnDataSource\"},{\"attributes\":{\"source\":{\"id\":\"8636\",\"type\":\"ColumnDataSource\"}},\"id\":\"8640\",\"type\":\"CDSView\"},{\"attributes\":{\"source\":{\"id\":\"8641\",\"type\":\"ColumnDataSource\"}},\"id\":\"8645\",\"type\":\"CDSView\"},{\"attributes\":{},\"id\":\"9014\",\"type\":\"UnionRenderers\"},{\"attributes\":{\"callback\":null},\"id\":\"8592\",\"type\":\"DataRange1d\"},{\"attributes\":{},\"id\":\"8613\",\"type\":\"SaveTool\"},{\"attributes\":{\"label\":{\"value\":\"Developing excluding LDCs\"},\"renderers\":[{\"id\":\"8644\",\"type\":\"GlyphRenderer\"}]},\"id\":\"8656\",\"type\":\"LegendItem\"},{\"attributes\":{},\"id\":\"9013\",\"type\":\"Selection\"},{\"attributes\":{\"callback\":null},\"id\":\"8594\",\"type\":\"DataRange1d\"},{\"attributes\":{},\"id\":\"8615\",\"type\":\"HelpTool\"},{\"attributes\":{},\"id\":\"8652\",\"type\":\"Selection\"},{\"attributes\":{\"data_source\":{\"id\":\"8641\",\"type\":\"ColumnDataSource\"},\"glyph\":{\"id\":\"8642\",\"type\":\"Line\"},\"hover_glyph\":null,\"muted_glyph\":null,\"nonselection_glyph\":{\"id\":\"8643\",\"type\":\"Line\"},\"selection_glyph\":null,\"view\":{\"id\":\"8645\",\"type\":\"CDSView\"}},\"id\":\"8644\",\"type\":\"GlyphRenderer\"},{\"attributes\":{},\"id\":\"8598\",\"type\":\"LinearScale\"},{\"attributes\":{},\"id\":\"8654\",\"type\":\"Selection\"},{\"attributes\":{\"dimension\":1,\"grid_line_alpha\":0.5,\"ticker\":{\"id\":\"8606\",\"type\":\"BasicTicker\"}},\"id\":\"8609\",\"type\":\"Grid\"},{\"attributes\":{\"line_alpha\":0.1,\"line_color\":\"#1f77b4\",\"line_width\":3,\"x\":{\"field\":\"x\"},\"y\":{\"field\":\"y\"}},\"id\":\"8643\",\"type\":\"Line\"},{\"attributes\":{},\"id\":\"8601\",\"type\":\"BasicTicker\"},{\"attributes\":{},\"id\":\"8653\",\"type\":\"UnionRenderers\"},{\"attributes\":{},\"id\":\"8596\",\"type\":\"LinearScale\"},{\"attributes\":{\"line_alpha\":0.1,\"line_color\":\"#1f77b4\",\"line_width\":3,\"x\":{\"field\":\"x\"},\"y\":{\"field\":\"y\"}},\"id\":\"8625\",\"type\":\"Line\"},{\"attributes\":{\"fill_color\":{\"value\":\"#FA1857\"},\"line_color\":{\"value\":\"#FA1857\"},\"size\":{\"units\":\"screen\",\"value\":1},\"x\":{\"field\":\"x\"},\"y\":{\"field\":\"y\"}},\"id\":\"8637\",\"type\":\"Circle\"},{\"attributes\":{\"axis_label\":\"Years\",\"formatter\":{\"id\":\"8630\",\"type\":\"BasicTickFormatter\"},\"ticker\":{\"id\":\"8601\",\"type\":\"BasicTicker\"}},\"id\":\"8600\",\"type\":\"LinearAxis\"},{\"attributes\":{\"callback\":null,\"tooltips\":\"                \\n        <div style=padding=5px>Year:@x</div>\\n        <div style=padding=5px>Value:@y</div>        \\n        \"},\"id\":\"8662\",\"type\":\"HoverTool\"},{\"attributes\":{},\"id\":\"8655\",\"type\":\"UnionRenderers\"},{\"attributes\":{\"axis_label\":\"SE.SEC.ENRR\",\"formatter\":{\"id\":\"8632\",\"type\":\"BasicTickFormatter\"},\"ticker\":{\"id\":\"8606\",\"type\":\"BasicTicker\"}},\"id\":\"8605\",\"type\":\"LinearAxis\"},{\"attributes\":{\"data_source\":{\"id\":\"8623\",\"type\":\"ColumnDataSource\"},\"glyph\":{\"id\":\"8624\",\"type\":\"Line\"},\"hover_glyph\":null,\"muted_glyph\":null,\"nonselection_glyph\":{\"id\":\"8625\",\"type\":\"Line\"},\"selection_glyph\":null,\"view\":{\"id\":\"8627\",\"type\":\"CDSView\"}},\"id\":\"8626\",\"type\":\"GlyphRenderer\"},{\"attributes\":{\"grid_line_color\":null,\"ticker\":{\"id\":\"8601\",\"type\":\"BasicTicker\"}},\"id\":\"8604\",\"type\":\"Grid\"},{\"attributes\":{},\"id\":\"8630\",\"type\":\"BasicTickFormatter\"},{\"attributes\":{},\"id\":\"8606\",\"type\":\"BasicTicker\"},{\"attributes\":{\"fill_color\":{\"value\":\"#5430F1\"},\"line_color\":{\"value\":\"#5430F1\"},\"size\":{\"units\":\"screen\",\"value\":1},\"x\":{\"field\":\"x\"},\"y\":{\"field\":\"y\"}},\"id\":\"8658\",\"type\":\"Circle\"},{\"attributes\":{\"items\":[{\"id\":\"8635\",\"type\":\"LegendItem\"},{\"id\":\"8656\",\"type\":\"LegendItem\"}],\"location\":\"bottom_left\"},\"id\":\"8634\",\"type\":\"Legend\"},{\"attributes\":{\"fill_alpha\":{\"value\":0.1},\"fill_color\":{\"value\":\"#1f77b4\"},\"line_alpha\":{\"value\":0.1},\"line_color\":{\"value\":\"#1f77b4\"},\"size\":{\"units\":\"screen\",\"value\":1},\"x\":{\"field\":\"x\"},\"y\":{\"field\":\"y\"}},\"id\":\"8659\",\"type\":\"Circle\"},{\"attributes\":{},\"id\":\"8632\",\"type\":\"BasicTickFormatter\"},{\"attributes\":{\"callback\":null,\"data\":{\"x\":[\"2010\",\"2011\",\"2012\",\"2013\",\"2014\",\"2015\",\"2016\",\"2017\"],\"y\":[74.89483649419115,71.7293111922578,72.55803200547106,74.88712644187571,78.63032657672926,78.88460416945199,79.3951445589684,81.37361590400792]},\"selected\":{\"id\":\"9013\",\"type\":\"Selection\"},\"selection_policy\":{\"id\":\"9014\",\"type\":\"UnionRenderers\"}},\"id\":\"8657\",\"type\":\"ColumnDataSource\"},{\"attributes\":{\"data_source\":{\"id\":\"8657\",\"type\":\"ColumnDataSource\"},\"glyph\":{\"id\":\"8658\",\"type\":\"Circle\"},\"hover_glyph\":null,\"muted_glyph\":null,\"nonselection_glyph\":{\"id\":\"8659\",\"type\":\"Circle\"},\"selection_glyph\":null,\"view\":{\"id\":\"8661\",\"type\":\"CDSView\"}},\"id\":\"8660\",\"type\":\"GlyphRenderer\"},{\"attributes\":{\"line_color\":\"#FA1857\",\"line_width\":3,\"x\":{\"field\":\"x\"},\"y\":{\"field\":\"y\"}},\"id\":\"8624\",\"type\":\"Line\"},{\"attributes\":{\"callback\":null,\"data\":{\"x\":[\"2010\",\"2011\",\"2012\",\"2013\",\"2014\",\"2015\",\"2016\",\"2017\"],\"y\":[40.71979156217991,40.50524831492961,42.88559060690365,48.02763417723285,42.06890499122678,45.77221151940908,51.781966052740714,52.216689130724404]},\"selected\":{\"id\":\"8652\",\"type\":\"Selection\"},\"selection_policy\":{\"id\":\"8653\",\"type\":\"UnionRenderers\"}},\"id\":\"8623\",\"type\":\"ColumnDataSource\"},{\"attributes\":{\"source\":{\"id\":\"8623\",\"type\":\"ColumnDataSource\"}},\"id\":\"8627\",\"type\":\"CDSView\"},{\"attributes\":{\"bottom_units\":\"screen\",\"fill_alpha\":{\"value\":0.5},\"fill_color\":{\"value\":\"lightgrey\"},\"left_units\":\"screen\",\"level\":\"overlay\",\"line_alpha\":{\"value\":1.0},\"line_color\":{\"value\":\"black\"},\"line_dash\":[4,4],\"line_width\":{\"value\":2},\"render_mode\":\"css\",\"right_units\":\"screen\",\"top_units\":\"screen\"},\"id\":\"8633\",\"type\":\"BoxAnnotation\"},{\"attributes\":{\"source\":{\"id\":\"8657\",\"type\":\"ColumnDataSource\"}},\"id\":\"8661\",\"type\":\"CDSView\"}],\"root_ids\":[\"8589\"]},\"title\":\"Bokeh Application\",\"version\":\"1.4.0\"}};\n",
       "  var render_items = [{\"docid\":\"51db2add-9583-4dc8-a3cd-c9bbf755326d\",\"roots\":{\"8589\":\"e2bd3e72-32bb-432f-9fd7-3d8faadd8126\"}}];\n",
       "  root.Bokeh.embed.embed_items_notebook(docs_json, render_items);\n",
       "\n",
       "  }\n",
       "  if (root.Bokeh !== undefined) {\n",
       "    embed_document(root);\n",
       "  } else {\n",
       "    var attempts = 0;\n",
       "    var timer = setInterval(function(root) {\n",
       "      if (root.Bokeh !== undefined) {\n",
       "        clearInterval(timer);\n",
       "        embed_document(root);\n",
       "      } else {\n",
       "        attempts++;\n",
       "        if (attempts > 100) {\n",
       "          clearInterval(timer);\n",
       "          console.log(\"Bokeh: ERROR: Unable to run BokehJS code because BokehJS library is missing\");\n",
       "        }\n",
       "      }\n",
       "    }, 10, root)\n",
       "  }\n",
       "})(window);"
      ],
      "application/vnd.bokehjs_exec.v0+json": ""
     },
     "metadata": {
      "application/vnd.bokehjs_exec.v0+json": {
       "id": "8589"
      }
     },
     "output_type": "display_data"
    }
   ],
   "source": [
    "# School enrollment, secondary\n",
    "years = list(map(str, list(range(2010,2018))))\n",
    "result = show_weighted_average(years, 'SE.SEC.ENRR', 'SP.POP.TOTL', \n",
    "                               ['LDCs', 'Developing excluding LDCs'], \n",
    "                                height=400, width=1000, line_width=3)"
   ]
  },
  {
   "cell_type": "code",
   "execution_count": 28,
   "metadata": {
    "ExecuteTime": {
     "end_time": "2019-10-25T14:25:38.329630Z",
     "start_time": "2019-10-25T14:25:37.469130Z"
    },
    "slideshow": {
     "slide_type": "slide"
    }
   },
   "outputs": [
    {
     "data": {
      "text/html": [
       "\n",
       "\n",
       "\n",
       "\n",
       "\n",
       "\n",
       "  <div class=\"bk-root\" id=\"65bc8093-87d6-4f24-bb8c-3e0815c012a3\" data-root-id=\"9099\"></div>\n"
      ]
     },
     "metadata": {},
     "output_type": "display_data"
    },
    {
     "data": {
      "application/javascript": [
       "(function(root) {\n",
       "  function embed_document(root) {\n",
       "    \n",
       "  var docs_json = {\"4bf77ccd-bbaa-4910-ba46-a7a9ea61617d\":{\"roots\":{\"references\":[{\"attributes\":{\"below\":[{\"id\":\"9110\",\"type\":\"LinearAxis\"}],\"center\":[{\"id\":\"9114\",\"type\":\"Grid\"},{\"id\":\"9119\",\"type\":\"Grid\"},{\"id\":\"9144\",\"type\":\"Legend\"}],\"left\":[{\"id\":\"9115\",\"type\":\"LinearAxis\"}],\"plot_height\":400,\"plot_width\":1000,\"renderers\":[{\"id\":\"9136\",\"type\":\"GlyphRenderer\"},{\"id\":\"9149\",\"type\":\"GlyphRenderer\"},{\"id\":\"9154\",\"type\":\"GlyphRenderer\"},{\"id\":\"9170\",\"type\":\"GlyphRenderer\"},{\"id\":\"9175\",\"type\":\"GlyphRenderer\"},{\"id\":\"9195\",\"type\":\"GlyphRenderer\"},{\"id\":\"9200\",\"type\":\"GlyphRenderer\"},{\"id\":\"9224\",\"type\":\"GlyphRenderer\"}],\"title\":{\"id\":\"9100\",\"type\":\"Title\"},\"toolbar\":{\"id\":\"9126\",\"type\":\"Toolbar\"},\"x_range\":{\"id\":\"9102\",\"type\":\"DataRange1d\"},\"x_scale\":{\"id\":\"9106\",\"type\":\"LinearScale\"},\"y_range\":{\"id\":\"9104\",\"type\":\"DataRange1d\"},\"y_scale\":{\"id\":\"9108\",\"type\":\"LinearScale\"}},\"id\":\"9099\",\"subtype\":\"Figure\",\"type\":\"Plot\"},{\"attributes\":{},\"id\":\"9125\",\"type\":\"HelpTool\"},{\"attributes\":{},\"id\":\"9124\",\"type\":\"ResetTool\"},{\"attributes\":{},\"id\":\"9597\",\"type\":\"Selection\"},{\"attributes\":{\"data_source\":{\"id\":\"9221\",\"type\":\"ColumnDataSource\"},\"glyph\":{\"id\":\"9222\",\"type\":\"Circle\"},\"hover_glyph\":null,\"muted_glyph\":null,\"nonselection_glyph\":{\"id\":\"9223\",\"type\":\"Circle\"},\"selection_glyph\":null,\"view\":{\"id\":\"9225\",\"type\":\"CDSView\"}},\"id\":\"9224\",\"type\":\"GlyphRenderer\"},{\"attributes\":{\"data_source\":{\"id\":\"9167\",\"type\":\"ColumnDataSource\"},\"glyph\":{\"id\":\"9168\",\"type\":\"Circle\"},\"hover_glyph\":null,\"muted_glyph\":null,\"nonselection_glyph\":{\"id\":\"9169\",\"type\":\"Circle\"},\"selection_glyph\":null,\"view\":{\"id\":\"9171\",\"type\":\"CDSView\"}},\"id\":\"9170\",\"type\":\"GlyphRenderer\"},{\"attributes\":{},\"id\":\"9142\",\"type\":\"BasicTickFormatter\"},{\"attributes\":{\"active_drag\":\"auto\",\"active_inspect\":\"auto\",\"active_multi\":null,\"active_scroll\":\"auto\",\"active_tap\":\"auto\",\"tools\":[{\"id\":\"9120\",\"type\":\"PanTool\"},{\"id\":\"9121\",\"type\":\"WheelZoomTool\"},{\"id\":\"9122\",\"type\":\"BoxZoomTool\"},{\"id\":\"9123\",\"type\":\"SaveTool\"},{\"id\":\"9124\",\"type\":\"ResetTool\"},{\"id\":\"9125\",\"type\":\"HelpTool\"},{\"id\":\"9226\",\"type\":\"HoverTool\"}]},\"id\":\"9126\",\"type\":\"Toolbar\"},{\"attributes\":{\"source\":{\"id\":\"9167\",\"type\":\"ColumnDataSource\"}},\"id\":\"9171\",\"type\":\"CDSView\"},{\"attributes\":{},\"id\":\"9598\",\"type\":\"UnionRenderers\"},{\"attributes\":{\"fill_color\":{\"value\":\"#FA1857\"},\"line_color\":{\"value\":\"#FA1857\"},\"size\":{\"units\":\"screen\",\"value\":1},\"x\":{\"field\":\"x\"},\"y\":{\"field\":\"y\"}},\"id\":\"9147\",\"type\":\"Circle\"},{\"attributes\":{\"source\":{\"id\":\"9133\",\"type\":\"ColumnDataSource\"}},\"id\":\"9137\",\"type\":\"CDSView\"},{\"attributes\":{\"line_color\":\"#2CC775\",\"line_width\":3,\"x\":{\"field\":\"x\"},\"y\":{\"field\":\"y\"}},\"id\":\"9173\",\"type\":\"Line\"},{\"attributes\":{\"callback\":null,\"data\":{\"x\":[\"2010\",\"2011\",\"2012\",\"2013\",\"2014\"],\"y\":[72.20608972851376,73.43609361523778,73.4084211892555,70.93460320347884,71.3157202760686]},\"selected\":{\"id\":\"9216\",\"type\":\"Selection\"},\"selection_policy\":{\"id\":\"9217\",\"type\":\"UnionRenderers\"}},\"id\":\"9172\",\"type\":\"ColumnDataSource\"},{\"attributes\":{\"bottom_units\":\"screen\",\"fill_alpha\":{\"value\":0.5},\"fill_color\":{\"value\":\"lightgrey\"},\"left_units\":\"screen\",\"level\":\"overlay\",\"line_alpha\":{\"value\":1.0},\"line_color\":{\"value\":\"black\"},\"line_dash\":[4,4],\"line_width\":{\"value\":2},\"render_mode\":\"css\",\"right_units\":\"screen\",\"top_units\":\"screen\"},\"id\":\"9143\",\"type\":\"BoxAnnotation\"},{\"attributes\":{\"items\":[{\"id\":\"9145\",\"type\":\"LegendItem\"},{\"id\":\"9166\",\"type\":\"LegendItem\"},{\"id\":\"9191\",\"type\":\"LegendItem\"},{\"id\":\"9220\",\"type\":\"LegendItem\"}],\"location\":\"bottom_left\"},\"id\":\"9144\",\"type\":\"Legend\"},{\"attributes\":{},\"id\":\"9599\",\"type\":\"Selection\"},{\"attributes\":{\"data_source\":{\"id\":\"9172\",\"type\":\"ColumnDataSource\"},\"glyph\":{\"id\":\"9173\",\"type\":\"Line\"},\"hover_glyph\":null,\"muted_glyph\":null,\"nonselection_glyph\":{\"id\":\"9174\",\"type\":\"Line\"},\"selection_glyph\":null,\"view\":{\"id\":\"9176\",\"type\":\"CDSView\"}},\"id\":\"9175\",\"type\":\"GlyphRenderer\"},{\"attributes\":{},\"id\":\"9140\",\"type\":\"BasicTickFormatter\"},{\"attributes\":{\"source\":{\"id\":\"9172\",\"type\":\"ColumnDataSource\"}},\"id\":\"9176\",\"type\":\"CDSView\"},{\"attributes\":{\"line_alpha\":0.1,\"line_color\":\"#1f77b4\",\"line_width\":3,\"x\":{\"field\":\"x\"},\"y\":{\"field\":\"y\"}},\"id\":\"9174\",\"type\":\"Line\"},{\"attributes\":{},\"id\":\"9600\",\"type\":\"UnionRenderers\"},{\"attributes\":{\"label\":{\"value\":\"LDCs\"},\"renderers\":[{\"id\":\"9136\",\"type\":\"GlyphRenderer\"}]},\"id\":\"9145\",\"type\":\"LegendItem\"},{\"attributes\":{\"label\":{\"value\":\"OECD\"},\"renderers\":[{\"id\":\"9175\",\"type\":\"GlyphRenderer\"}]},\"id\":\"9191\",\"type\":\"LegendItem\"},{\"attributes\":{\"fill_alpha\":{\"value\":0.1},\"fill_color\":{\"value\":\"#1f77b4\"},\"line_alpha\":{\"value\":0.1},\"line_color\":{\"value\":\"#1f77b4\"},\"size\":{\"units\":\"screen\",\"value\":1},\"x\":{\"field\":\"x\"},\"y\":{\"field\":\"y\"}},\"id\":\"9148\",\"type\":\"Circle\"},{\"attributes\":{},\"id\":\"9189\",\"type\":\"Selection\"},{\"attributes\":{},\"id\":\"9187\",\"type\":\"Selection\"},{\"attributes\":{},\"id\":\"9188\",\"type\":\"UnionRenderers\"},{\"attributes\":{\"callback\":null,\"data\":{\"x\":[\"2010\",\"2011\",\"2012\",\"2013\",\"2014\"],\"y\":[6.97759961786947,9.086658069190648,9.121775166295603,8.515917852830238,10.11079604308265]},\"selected\":{\"id\":\"9164\",\"type\":\"Selection\"},\"selection_policy\":{\"id\":\"9165\",\"type\":\"UnionRenderers\"}},\"id\":\"9146\",\"type\":\"ColumnDataSource\"},{\"attributes\":{},\"id\":\"9190\",\"type\":\"UnionRenderers\"},{\"attributes\":{\"data_source\":{\"id\":\"9146\",\"type\":\"ColumnDataSource\"},\"glyph\":{\"id\":\"9147\",\"type\":\"Circle\"},\"hover_glyph\":null,\"muted_glyph\":null,\"nonselection_glyph\":{\"id\":\"9148\",\"type\":\"Circle\"},\"selection_glyph\":null,\"view\":{\"id\":\"9150\",\"type\":\"CDSView\"}},\"id\":\"9149\",\"type\":\"GlyphRenderer\"},{\"attributes\":{\"text\":\"School enrollment, tertiary (% gross) weighted against Population, total\"},\"id\":\"9100\",\"type\":\"Title\"},{\"attributes\":{\"fill_color\":{\"value\":\"#2CC775\"},\"line_color\":{\"value\":\"#2CC775\"},\"size\":{\"units\":\"screen\",\"value\":1},\"x\":{\"field\":\"x\"},\"y\":{\"field\":\"y\"}},\"id\":\"9193\",\"type\":\"Circle\"},{\"attributes\":{\"data_source\":{\"id\":\"9133\",\"type\":\"ColumnDataSource\"},\"glyph\":{\"id\":\"9134\",\"type\":\"Line\"},\"hover_glyph\":null,\"muted_glyph\":null,\"nonselection_glyph\":{\"id\":\"9135\",\"type\":\"Line\"},\"selection_glyph\":null,\"view\":{\"id\":\"9137\",\"type\":\"CDSView\"}},\"id\":\"9136\",\"type\":\"GlyphRenderer\"},{\"attributes\":{\"source\":{\"id\":\"9146\",\"type\":\"ColumnDataSource\"}},\"id\":\"9150\",\"type\":\"CDSView\"},{\"attributes\":{\"line_color\":\"#5430F1\",\"line_width\":3,\"x\":{\"field\":\"x\"},\"y\":{\"field\":\"y\"}},\"id\":\"9152\",\"type\":\"Line\"},{\"attributes\":{\"callback\":null,\"data\":{\"x\":[\"2010\",\"2011\",\"2012\",\"2013\",\"2014\"],\"y\":[23.513041688550018,26.0163518298774,28.605589935710757,29.991015174173807,34.168460693584066]},\"selected\":{\"id\":\"9187\",\"type\":\"Selection\"},\"selection_policy\":{\"id\":\"9188\",\"type\":\"UnionRenderers\"}},\"id\":\"9151\",\"type\":\"ColumnDataSource\"},{\"attributes\":{\"callback\":null,\"data\":{\"x\":[\"2010\",\"2011\",\"2012\",\"2013\",\"2014\"],\"y\":[72.20608972851376,73.43609361523778,73.4084211892555,70.93460320347884,71.3157202760686]},\"selected\":{\"id\":\"9218\",\"type\":\"Selection\"},\"selection_policy\":{\"id\":\"9219\",\"type\":\"UnionRenderers\"}},\"id\":\"9192\",\"type\":\"ColumnDataSource\"},{\"attributes\":{\"data_source\":{\"id\":\"9151\",\"type\":\"ColumnDataSource\"},\"glyph\":{\"id\":\"9152\",\"type\":\"Line\"},\"hover_glyph\":null,\"muted_glyph\":null,\"nonselection_glyph\":{\"id\":\"9153\",\"type\":\"Line\"},\"selection_glyph\":null,\"view\":{\"id\":\"9155\",\"type\":\"CDSView\"}},\"id\":\"9154\",\"type\":\"GlyphRenderer\"},{\"attributes\":{\"fill_alpha\":{\"value\":0.1},\"fill_color\":{\"value\":\"#1f77b4\"},\"line_alpha\":{\"value\":0.1},\"line_color\":{\"value\":\"#1f77b4\"},\"size\":{\"units\":\"screen\",\"value\":1},\"x\":{\"field\":\"x\"},\"y\":{\"field\":\"y\"}},\"id\":\"9194\",\"type\":\"Circle\"},{\"attributes\":{\"callback\":null},\"id\":\"9104\",\"type\":\"DataRange1d\"},{\"attributes\":{},\"id\":\"9106\",\"type\":\"LinearScale\"},{\"attributes\":{\"source\":{\"id\":\"9192\",\"type\":\"ColumnDataSource\"}},\"id\":\"9196\",\"type\":\"CDSView\"},{\"attributes\":{\"source\":{\"id\":\"9221\",\"type\":\"ColumnDataSource\"}},\"id\":\"9225\",\"type\":\"CDSView\"},{\"attributes\":{\"line_alpha\":0.1,\"line_color\":\"#1f77b4\",\"line_width\":3,\"x\":{\"field\":\"x\"},\"y\":{\"field\":\"y\"}},\"id\":\"9153\",\"type\":\"Line\"},{\"attributes\":{\"callback\":null,\"data\":{\"x\":[\"2010\",\"2011\",\"2012\",\"2013\",\"2014\"],\"y\":[29.578342099714497,35.0387071416137,36.74134581365902,39.400822883016104,45.86198074086463]},\"selected\":{\"id\":\"9597\",\"type\":\"Selection\"},\"selection_policy\":{\"id\":\"9598\",\"type\":\"UnionRenderers\"}},\"id\":\"9197\",\"type\":\"ColumnDataSource\"},{\"attributes\":{\"dimension\":1,\"grid_line_alpha\":0.5,\"ticker\":{\"id\":\"9116\",\"type\":\"BasicTicker\"}},\"id\":\"9119\",\"type\":\"Grid\"},{\"attributes\":{\"source\":{\"id\":\"9151\",\"type\":\"ColumnDataSource\"}},\"id\":\"9155\",\"type\":\"CDSView\"},{\"attributes\":{},\"id\":\"9108\",\"type\":\"LinearScale\"},{\"attributes\":{\"label\":{\"value\":\"Developing excluding LDCs\"},\"renderers\":[{\"id\":\"9154\",\"type\":\"GlyphRenderer\"}]},\"id\":\"9166\",\"type\":\"LegendItem\"},{\"attributes\":{\"line_color\":\"#F4CA04\",\"line_width\":3,\"x\":{\"field\":\"x\"},\"y\":{\"field\":\"y\"}},\"id\":\"9198\",\"type\":\"Line\"},{\"attributes\":{\"axis_label\":\"SE.TER.ENRR\",\"formatter\":{\"id\":\"9142\",\"type\":\"BasicTickFormatter\"},\"ticker\":{\"id\":\"9116\",\"type\":\"BasicTicker\"}},\"id\":\"9115\",\"type\":\"LinearAxis\"},{\"attributes\":{\"data_source\":{\"id\":\"9192\",\"type\":\"ColumnDataSource\"},\"glyph\":{\"id\":\"9193\",\"type\":\"Circle\"},\"hover_glyph\":null,\"muted_glyph\":null,\"nonselection_glyph\":{\"id\":\"9194\",\"type\":\"Circle\"},\"selection_glyph\":null,\"view\":{\"id\":\"9196\",\"type\":\"CDSView\"}},\"id\":\"9195\",\"type\":\"GlyphRenderer\"},{\"attributes\":{\"axis_label\":\"Years\",\"formatter\":{\"id\":\"9140\",\"type\":\"BasicTickFormatter\"},\"ticker\":{\"id\":\"9111\",\"type\":\"BasicTicker\"}},\"id\":\"9110\",\"type\":\"LinearAxis\"},{\"attributes\":{\"line_alpha\":0.1,\"line_color\":\"#1f77b4\",\"line_width\":3,\"x\":{\"field\":\"x\"},\"y\":{\"field\":\"y\"}},\"id\":\"9199\",\"type\":\"Line\"},{\"attributes\":{},\"id\":\"9163\",\"type\":\"UnionRenderers\"},{\"attributes\":{},\"id\":\"9111\",\"type\":\"BasicTicker\"},{\"attributes\":{},\"id\":\"9162\",\"type\":\"Selection\"},{\"attributes\":{},\"id\":\"9116\",\"type\":\"BasicTicker\"},{\"attributes\":{\"grid_line_color\":null,\"ticker\":{\"id\":\"9111\",\"type\":\"BasicTicker\"}},\"id\":\"9114\",\"type\":\"Grid\"},{\"attributes\":{},\"id\":\"9165\",\"type\":\"UnionRenderers\"},{\"attributes\":{\"data_source\":{\"id\":\"9197\",\"type\":\"ColumnDataSource\"},\"glyph\":{\"id\":\"9198\",\"type\":\"Line\"},\"hover_glyph\":null,\"muted_glyph\":null,\"nonselection_glyph\":{\"id\":\"9199\",\"type\":\"Line\"},\"selection_glyph\":null,\"view\":{\"id\":\"9201\",\"type\":\"CDSView\"}},\"id\":\"9200\",\"type\":\"GlyphRenderer\"},{\"attributes\":{},\"id\":\"9164\",\"type\":\"Selection\"},{\"attributes\":{},\"id\":\"9216\",\"type\":\"Selection\"},{\"attributes\":{\"callback\":null,\"data\":{\"x\":[\"2010\",\"2011\",\"2012\",\"2013\",\"2014\"],\"y\":[23.513041688550018,26.0163518298774,28.605589935710757,29.991015174173807,34.168460693584066]},\"selected\":{\"id\":\"9189\",\"type\":\"Selection\"},\"selection_policy\":{\"id\":\"9190\",\"type\":\"UnionRenderers\"}},\"id\":\"9167\",\"type\":\"ColumnDataSource\"},{\"attributes\":{\"source\":{\"id\":\"9197\",\"type\":\"ColumnDataSource\"}},\"id\":\"9201\",\"type\":\"CDSView\"},{\"attributes\":{\"callback\":null,\"data\":{\"x\":[\"2010\",\"2011\",\"2012\",\"2013\",\"2014\"],\"y\":[6.97759961786947,9.086658069190648,9.121775166295603,8.515917852830238,10.11079604308265]},\"selected\":{\"id\":\"9162\",\"type\":\"Selection\"},\"selection_policy\":{\"id\":\"9163\",\"type\":\"UnionRenderers\"}},\"id\":\"9133\",\"type\":\"ColumnDataSource\"},{\"attributes\":{\"fill_alpha\":{\"value\":0.1},\"fill_color\":{\"value\":\"#1f77b4\"},\"line_alpha\":{\"value\":0.1},\"line_color\":{\"value\":\"#1f77b4\"},\"size\":{\"units\":\"screen\",\"value\":1},\"x\":{\"field\":\"x\"},\"y\":{\"field\":\"y\"}},\"id\":\"9169\",\"type\":\"Circle\"},{\"attributes\":{\"line_color\":\"#FA1857\",\"line_width\":3,\"x\":{\"field\":\"x\"},\"y\":{\"field\":\"y\"}},\"id\":\"9134\",\"type\":\"Line\"},{\"attributes\":{},\"id\":\"9217\",\"type\":\"UnionRenderers\"},{\"attributes\":{\"fill_color\":{\"value\":\"#5430F1\"},\"line_color\":{\"value\":\"#5430F1\"},\"size\":{\"units\":\"screen\",\"value\":1},\"x\":{\"field\":\"x\"},\"y\":{\"field\":\"y\"}},\"id\":\"9168\",\"type\":\"Circle\"},{\"attributes\":{},\"id\":\"9219\",\"type\":\"UnionRenderers\"},{\"attributes\":{\"label\":{\"value\":\"UMICs\"},\"renderers\":[{\"id\":\"9200\",\"type\":\"GlyphRenderer\"}]},\"id\":\"9220\",\"type\":\"LegendItem\"},{\"attributes\":{\"overlay\":{\"id\":\"9143\",\"type\":\"BoxAnnotation\"}},\"id\":\"9122\",\"type\":\"BoxZoomTool\"},{\"attributes\":{\"line_alpha\":0.1,\"line_color\":\"#1f77b4\",\"line_width\":3,\"x\":{\"field\":\"x\"},\"y\":{\"field\":\"y\"}},\"id\":\"9135\",\"type\":\"Line\"},{\"attributes\":{},\"id\":\"9218\",\"type\":\"Selection\"},{\"attributes\":{},\"id\":\"9123\",\"type\":\"SaveTool\"},{\"attributes\":{\"callback\":null,\"data\":{\"x\":[\"2010\",\"2011\",\"2012\",\"2013\",\"2014\"],\"y\":[29.578342099714497,35.0387071416137,36.74134581365902,39.400822883016104,45.86198074086463]},\"selected\":{\"id\":\"9599\",\"type\":\"Selection\"},\"selection_policy\":{\"id\":\"9600\",\"type\":\"UnionRenderers\"}},\"id\":\"9221\",\"type\":\"ColumnDataSource\"},{\"attributes\":{},\"id\":\"9120\",\"type\":\"PanTool\"},{\"attributes\":{},\"id\":\"9121\",\"type\":\"WheelZoomTool\"},{\"attributes\":{\"fill_alpha\":{\"value\":0.1},\"fill_color\":{\"value\":\"#1f77b4\"},\"line_alpha\":{\"value\":0.1},\"line_color\":{\"value\":\"#1f77b4\"},\"size\":{\"units\":\"screen\",\"value\":1},\"x\":{\"field\":\"x\"},\"y\":{\"field\":\"y\"}},\"id\":\"9223\",\"type\":\"Circle\"},{\"attributes\":{\"callback\":null,\"tooltips\":\"                \\n        <div style=padding=5px>Year:@x</div>\\n        <div style=padding=5px>Value:@y</div>        \\n        \"},\"id\":\"9226\",\"type\":\"HoverTool\"},{\"attributes\":{\"fill_color\":{\"value\":\"#F4CA04\"},\"line_color\":{\"value\":\"#F4CA04\"},\"size\":{\"units\":\"screen\",\"value\":1},\"x\":{\"field\":\"x\"},\"y\":{\"field\":\"y\"}},\"id\":\"9222\",\"type\":\"Circle\"},{\"attributes\":{\"callback\":null},\"id\":\"9102\",\"type\":\"DataRange1d\"}],\"root_ids\":[\"9099\"]},\"title\":\"Bokeh Application\",\"version\":\"1.4.0\"}};\n",
       "  var render_items = [{\"docid\":\"4bf77ccd-bbaa-4910-ba46-a7a9ea61617d\",\"roots\":{\"9099\":\"65bc8093-87d6-4f24-bb8c-3e0815c012a3\"}}];\n",
       "  root.Bokeh.embed.embed_items_notebook(docs_json, render_items);\n",
       "\n",
       "  }\n",
       "  if (root.Bokeh !== undefined) {\n",
       "    embed_document(root);\n",
       "  } else {\n",
       "    var attempts = 0;\n",
       "    var timer = setInterval(function(root) {\n",
       "      if (root.Bokeh !== undefined) {\n",
       "        clearInterval(timer);\n",
       "        embed_document(root);\n",
       "      } else {\n",
       "        attempts++;\n",
       "        if (attempts > 100) {\n",
       "          clearInterval(timer);\n",
       "          console.log(\"Bokeh: ERROR: Unable to run BokehJS code because BokehJS library is missing\");\n",
       "        }\n",
       "      }\n",
       "    }, 10, root)\n",
       "  }\n",
       "})(window);"
      ],
      "application/vnd.bokehjs_exec.v0+json": ""
     },
     "metadata": {
      "application/vnd.bokehjs_exec.v0+json": {
       "id": "9099"
      }
     },
     "output_type": "display_data"
    }
   ],
   "source": [
    "# School enrollment, tertiary\n",
    "years = list(map(str, list(range(2010,2015))))\n",
    "result = show_weighted_average(years, 'SE.TER.ENRR', 'SP.POP.TOTL', \n",
    "                               ['LDCs', 'Developing excluding LDCs', 'OECD', 'UMICs'], \n",
    "                                height=400, width=1000, line_width=3)"
   ]
  },
  {
   "cell_type": "code",
   "execution_count": 29,
   "metadata": {
    "ExecuteTime": {
     "end_time": "2019-10-25T14:25:43.236189Z",
     "start_time": "2019-10-25T14:25:38.332666Z"
    },
    "slideshow": {
     "slide_type": "slide"
    }
   },
   "outputs": [
    {
     "data": {
      "text/html": [
       "\n",
       "\n",
       "\n",
       "\n",
       "\n",
       "\n",
       "  <div class=\"bk-root\" id=\"6d39317c-b2d7-4bef-a074-7faba5cc4728\" data-root-id=\"9733\"></div>\n"
      ]
     },
     "metadata": {},
     "output_type": "display_data"
    },
    {
     "data": {
      "application/javascript": [
       "(function(root) {\n",
       "  function embed_document(root) {\n",
       "    \n",
       "  var docs_json = {\"ee726381-f600-4aec-aea0-786be7a8a09e\":{\"roots\":{\"references\":[{\"attributes\":{\"below\":[{\"id\":\"9744\",\"type\":\"LinearAxis\"}],\"center\":[{\"id\":\"9748\",\"type\":\"Grid\"},{\"id\":\"9753\",\"type\":\"Grid\"},{\"id\":\"9778\",\"type\":\"Legend\"}],\"left\":[{\"id\":\"9749\",\"type\":\"LinearAxis\"}],\"plot_height\":400,\"plot_width\":1000,\"renderers\":[{\"id\":\"9770\",\"type\":\"GlyphRenderer\"},{\"id\":\"9783\",\"type\":\"GlyphRenderer\"},{\"id\":\"9788\",\"type\":\"GlyphRenderer\"},{\"id\":\"9804\",\"type\":\"GlyphRenderer\"}],\"title\":{\"id\":\"9734\",\"type\":\"Title\"},\"toolbar\":{\"id\":\"9760\",\"type\":\"Toolbar\"},\"x_range\":{\"id\":\"9736\",\"type\":\"DataRange1d\"},\"x_scale\":{\"id\":\"9740\",\"type\":\"LinearScale\"},\"y_range\":{\"id\":\"9738\",\"type\":\"DataRange1d\"},\"y_scale\":{\"id\":\"9742\",\"type\":\"LinearScale\"}},\"id\":\"9733\",\"subtype\":\"Figure\",\"type\":\"Plot\"},{\"attributes\":{\"callback\":null,\"data\":{\"x\":[\"2000\",\"2001\",\"2002\",\"2003\",\"2004\",\"2005\",\"2006\",\"2007\",\"2008\",\"2009\",\"2010\",\"2011\",\"2012\",\"2013\",\"2014\",\"2015\",\"2016\",\"2017\"],\"y\":[50.219754446492956,45.26929484916652,44.56567701152669,45.6269370204446,46.76775854418482,47.1921065769571,46.27871208171681,44.66074157882838,46.9343675391617,46.3074080366361,44.50508898614148,45.14368089916075,42.48998185792987,42.00549530078297,39.07495315457117,41.85413035115011,37.28410352715137,38.768702276413286]},\"selected\":{\"id\":\"9798\",\"type\":\"Selection\"},\"selection_policy\":{\"id\":\"9799\",\"type\":\"UnionRenderers\"}},\"id\":\"9780\",\"type\":\"ColumnDataSource\"},{\"attributes\":{},\"id\":\"9757\",\"type\":\"SaveTool\"},{\"attributes\":{},\"id\":\"9796\",\"type\":\"Selection\"},{\"attributes\":{\"overlay\":{\"id\":\"9777\",\"type\":\"BoxAnnotation\"}},\"id\":\"9756\",\"type\":\"BoxZoomTool\"},{\"attributes\":{\"line_alpha\":0.1,\"line_color\":\"#1f77b4\",\"line_width\":4,\"x\":{\"field\":\"x\"},\"y\":{\"field\":\"y\"}},\"id\":\"9787\",\"type\":\"Line\"},{\"attributes\":{},\"id\":\"9740\",\"type\":\"LinearScale\"},{\"attributes\":{\"axis_label\":\"SE.PRM.ENRL.TC.ZS\",\"formatter\":{\"id\":\"9776\",\"type\":\"BasicTickFormatter\"},\"ticker\":{\"id\":\"9750\",\"type\":\"BasicTicker\"}},\"id\":\"9749\",\"type\":\"LinearAxis\"},{\"attributes\":{\"dimension\":1,\"grid_line_alpha\":0.5,\"ticker\":{\"id\":\"9750\",\"type\":\"BasicTicker\"}},\"id\":\"9753\",\"type\":\"Grid\"},{\"attributes\":{\"bottom_units\":\"screen\",\"fill_alpha\":{\"value\":0.5},\"fill_color\":{\"value\":\"lightgrey\"},\"left_units\":\"screen\",\"level\":\"overlay\",\"line_alpha\":{\"value\":1.0},\"line_color\":{\"value\":\"black\"},\"line_dash\":[4,4],\"line_width\":{\"value\":2},\"render_mode\":\"css\",\"right_units\":\"screen\",\"top_units\":\"screen\"},\"id\":\"9777\",\"type\":\"BoxAnnotation\"},{\"attributes\":{},\"id\":\"10191\",\"type\":\"Selection\"},{\"attributes\":{},\"id\":\"10192\",\"type\":\"UnionRenderers\"},{\"attributes\":{\"source\":{\"id\":\"9801\",\"type\":\"ColumnDataSource\"}},\"id\":\"9805\",\"type\":\"CDSView\"},{\"attributes\":{\"text\":\"Pupil-teacher ratio, primary weighted against Population, total\"},\"id\":\"9734\",\"type\":\"Title\"},{\"attributes\":{\"axis_label\":\"Years\",\"formatter\":{\"id\":\"9774\",\"type\":\"BasicTickFormatter\"},\"ticker\":{\"id\":\"9745\",\"type\":\"BasicTicker\"}},\"id\":\"9744\",\"type\":\"LinearAxis\"},{\"attributes\":{},\"id\":\"9745\",\"type\":\"BasicTicker\"},{\"attributes\":{\"callback\":null,\"tooltips\":\"                \\n        <div style=padding=5px>Year:@x</div>\\n        <div style=padding=5px>Value:@y</div>        \\n        \"},\"id\":\"9806\",\"type\":\"HoverTool\"},{\"attributes\":{\"source\":{\"id\":\"9785\",\"type\":\"ColumnDataSource\"}},\"id\":\"9789\",\"type\":\"CDSView\"},{\"attributes\":{\"callback\":null,\"data\":{\"x\":[\"2000\",\"2001\",\"2002\",\"2003\",\"2004\",\"2005\",\"2006\",\"2007\",\"2008\",\"2009\",\"2010\",\"2011\",\"2012\",\"2013\",\"2014\",\"2015\",\"2016\",\"2017\"],\"y\":[50.219754446492956,45.26929484916652,44.56567701152669,45.6269370204446,46.76775854418482,47.1921065769571,46.27871208171681,44.66074157882838,46.9343675391617,46.3074080366361,44.50508898614148,45.14368089916075,42.48998185792987,42.00549530078297,39.07495315457117,41.85413035115011,37.28410352715137,38.768702276413286]},\"selected\":{\"id\":\"9796\",\"type\":\"Selection\"},\"selection_policy\":{\"id\":\"9797\",\"type\":\"UnionRenderers\"}},\"id\":\"9767\",\"type\":\"ColumnDataSource\"},{\"attributes\":{},\"id\":\"9799\",\"type\":\"UnionRenderers\"},{\"attributes\":{},\"id\":\"10193\",\"type\":\"Selection\"},{\"attributes\":{\"label\":{\"value\":\"Developing excluding LDCs\"},\"renderers\":[{\"id\":\"9788\",\"type\":\"GlyphRenderer\"}]},\"id\":\"9800\",\"type\":\"LegendItem\"},{\"attributes\":{\"line_color\":\"#FA1857\",\"line_width\":4,\"x\":{\"field\":\"x\"},\"y\":{\"field\":\"y\"}},\"id\":\"9768\",\"type\":\"Line\"},{\"attributes\":{},\"id\":\"9755\",\"type\":\"WheelZoomTool\"},{\"attributes\":{\"source\":{\"id\":\"9767\",\"type\":\"ColumnDataSource\"}},\"id\":\"9771\",\"type\":\"CDSView\"},{\"attributes\":{\"line_alpha\":0.1,\"line_color\":\"#1f77b4\",\"line_width\":4,\"x\":{\"field\":\"x\"},\"y\":{\"field\":\"y\"}},\"id\":\"9769\",\"type\":\"Line\"},{\"attributes\":{\"data_source\":{\"id\":\"9801\",\"type\":\"ColumnDataSource\"},\"glyph\":{\"id\":\"9802\",\"type\":\"Circle\"},\"hover_glyph\":null,\"muted_glyph\":null,\"nonselection_glyph\":{\"id\":\"9803\",\"type\":\"Circle\"},\"selection_glyph\":null,\"view\":{\"id\":\"9805\",\"type\":\"CDSView\"}},\"id\":\"9804\",\"type\":\"GlyphRenderer\"},{\"attributes\":{\"fill_alpha\":{\"value\":0.1},\"fill_color\":{\"value\":\"#1f77b4\"},\"line_alpha\":{\"value\":0.1},\"line_color\":{\"value\":\"#1f77b4\"},\"size\":{\"units\":\"screen\",\"value\":1},\"x\":{\"field\":\"x\"},\"y\":{\"field\":\"y\"}},\"id\":\"9782\",\"type\":\"Circle\"},{\"attributes\":{\"callback\":null},\"id\":\"9738\",\"type\":\"DataRange1d\"},{\"attributes\":{\"callback\":null},\"id\":\"9736\",\"type\":\"DataRange1d\"},{\"attributes\":{\"source\":{\"id\":\"9780\",\"type\":\"ColumnDataSource\"}},\"id\":\"9784\",\"type\":\"CDSView\"},{\"attributes\":{},\"id\":\"10194\",\"type\":\"UnionRenderers\"},{\"attributes\":{},\"id\":\"9759\",\"type\":\"HelpTool\"},{\"attributes\":{\"items\":[{\"id\":\"9779\",\"type\":\"LegendItem\"},{\"id\":\"9800\",\"type\":\"LegendItem\"}],\"location\":\"bottom_left\"},\"id\":\"9778\",\"type\":\"Legend\"},{\"attributes\":{},\"id\":\"9774\",\"type\":\"BasicTickFormatter\"},{\"attributes\":{\"callback\":null,\"data\":{\"x\":[\"2000\",\"2001\",\"2002\",\"2003\",\"2004\",\"2005\",\"2006\",\"2007\",\"2008\",\"2009\",\"2010\",\"2011\",\"2012\",\"2013\",\"2014\",\"2015\",\"2016\",\"2017\"],\"y\":[33.37755563924882,29.576682084815303,33.39105245017255,33.78858371701915,27.636590845295633,27.45339800030305,23.324341793120627,23.17127908568781,22.095315459859545,21.858282304050356,21.554388636153632,25.18934762572364,21.227554530089638,24.16219498381551,24.02036266685082,24.579997184779092,25.221609621925957,24.28833783517891]},\"selected\":{\"id\":\"10191\",\"type\":\"Selection\"},\"selection_policy\":{\"id\":\"10192\",\"type\":\"UnionRenderers\"}},\"id\":\"9785\",\"type\":\"ColumnDataSource\"},{\"attributes\":{},\"id\":\"9798\",\"type\":\"Selection\"},{\"attributes\":{},\"id\":\"9742\",\"type\":\"LinearScale\"},{\"attributes\":{\"data_source\":{\"id\":\"9767\",\"type\":\"ColumnDataSource\"},\"glyph\":{\"id\":\"9768\",\"type\":\"Line\"},\"hover_glyph\":null,\"muted_glyph\":null,\"nonselection_glyph\":{\"id\":\"9769\",\"type\":\"Line\"},\"selection_glyph\":null,\"view\":{\"id\":\"9771\",\"type\":\"CDSView\"}},\"id\":\"9770\",\"type\":\"GlyphRenderer\"},{\"attributes\":{},\"id\":\"9776\",\"type\":\"BasicTickFormatter\"},{\"attributes\":{\"data_source\":{\"id\":\"9785\",\"type\":\"ColumnDataSource\"},\"glyph\":{\"id\":\"9786\",\"type\":\"Line\"},\"hover_glyph\":null,\"muted_glyph\":null,\"nonselection_glyph\":{\"id\":\"9787\",\"type\":\"Line\"},\"selection_glyph\":null,\"view\":{\"id\":\"9789\",\"type\":\"CDSView\"}},\"id\":\"9788\",\"type\":\"GlyphRenderer\"},{\"attributes\":{},\"id\":\"9750\",\"type\":\"BasicTicker\"},{\"attributes\":{\"callback\":null,\"data\":{\"x\":[\"2000\",\"2001\",\"2002\",\"2003\",\"2004\",\"2005\",\"2006\",\"2007\",\"2008\",\"2009\",\"2010\",\"2011\",\"2012\",\"2013\",\"2014\",\"2015\",\"2016\",\"2017\"],\"y\":[33.37755563924882,29.576682084815303,33.39105245017255,33.78858371701915,27.636590845295633,27.45339800030305,23.324341793120627,23.17127908568781,22.095315459859545,21.858282304050356,21.554388636153632,25.18934762572364,21.227554530089638,24.16219498381551,24.02036266685082,24.579997184779092,25.221609621925957,24.28833783517891]},\"selected\":{\"id\":\"10193\",\"type\":\"Selection\"},\"selection_policy\":{\"id\":\"10194\",\"type\":\"UnionRenderers\"}},\"id\":\"9801\",\"type\":\"ColumnDataSource\"},{\"attributes\":{\"active_drag\":\"auto\",\"active_inspect\":\"auto\",\"active_multi\":null,\"active_scroll\":\"auto\",\"active_tap\":\"auto\",\"tools\":[{\"id\":\"9754\",\"type\":\"PanTool\"},{\"id\":\"9755\",\"type\":\"WheelZoomTool\"},{\"id\":\"9756\",\"type\":\"BoxZoomTool\"},{\"id\":\"9757\",\"type\":\"SaveTool\"},{\"id\":\"9758\",\"type\":\"ResetTool\"},{\"id\":\"9759\",\"type\":\"HelpTool\"},{\"id\":\"9806\",\"type\":\"HoverTool\"}]},\"id\":\"9760\",\"type\":\"Toolbar\"},{\"attributes\":{\"line_color\":\"#5430F1\",\"line_width\":4,\"x\":{\"field\":\"x\"},\"y\":{\"field\":\"y\"}},\"id\":\"9786\",\"type\":\"Line\"},{\"attributes\":{\"grid_line_color\":null,\"ticker\":{\"id\":\"9745\",\"type\":\"BasicTicker\"}},\"id\":\"9748\",\"type\":\"Grid\"},{\"attributes\":{\"fill_color\":{\"value\":\"#FA1857\"},\"line_color\":{\"value\":\"#FA1857\"},\"size\":{\"units\":\"screen\",\"value\":1},\"x\":{\"field\":\"x\"},\"y\":{\"field\":\"y\"}},\"id\":\"9781\",\"type\":\"Circle\"},{\"attributes\":{\"fill_color\":{\"value\":\"#5430F1\"},\"line_color\":{\"value\":\"#5430F1\"},\"size\":{\"units\":\"screen\",\"value\":1},\"x\":{\"field\":\"x\"},\"y\":{\"field\":\"y\"}},\"id\":\"9802\",\"type\":\"Circle\"},{\"attributes\":{\"label\":{\"value\":\"LDCs\"},\"renderers\":[{\"id\":\"9770\",\"type\":\"GlyphRenderer\"}]},\"id\":\"9779\",\"type\":\"LegendItem\"},{\"attributes\":{},\"id\":\"9754\",\"type\":\"PanTool\"},{\"attributes\":{\"fill_alpha\":{\"value\":0.1},\"fill_color\":{\"value\":\"#1f77b4\"},\"line_alpha\":{\"value\":0.1},\"line_color\":{\"value\":\"#1f77b4\"},\"size\":{\"units\":\"screen\",\"value\":1},\"x\":{\"field\":\"x\"},\"y\":{\"field\":\"y\"}},\"id\":\"9803\",\"type\":\"Circle\"},{\"attributes\":{},\"id\":\"9797\",\"type\":\"UnionRenderers\"},{\"attributes\":{\"data_source\":{\"id\":\"9780\",\"type\":\"ColumnDataSource\"},\"glyph\":{\"id\":\"9781\",\"type\":\"Circle\"},\"hover_glyph\":null,\"muted_glyph\":null,\"nonselection_glyph\":{\"id\":\"9782\",\"type\":\"Circle\"},\"selection_glyph\":null,\"view\":{\"id\":\"9784\",\"type\":\"CDSView\"}},\"id\":\"9783\",\"type\":\"GlyphRenderer\"},{\"attributes\":{},\"id\":\"9758\",\"type\":\"ResetTool\"}],\"root_ids\":[\"9733\"]},\"title\":\"Bokeh Application\",\"version\":\"1.4.0\"}};\n",
       "  var render_items = [{\"docid\":\"ee726381-f600-4aec-aea0-786be7a8a09e\",\"roots\":{\"9733\":\"6d39317c-b2d7-4bef-a074-7faba5cc4728\"}}];\n",
       "  root.Bokeh.embed.embed_items_notebook(docs_json, render_items);\n",
       "\n",
       "  }\n",
       "  if (root.Bokeh !== undefined) {\n",
       "    embed_document(root);\n",
       "  } else {\n",
       "    var attempts = 0;\n",
       "    var timer = setInterval(function(root) {\n",
       "      if (root.Bokeh !== undefined) {\n",
       "        clearInterval(timer);\n",
       "        embed_document(root);\n",
       "      } else {\n",
       "        attempts++;\n",
       "        if (attempts > 100) {\n",
       "          clearInterval(timer);\n",
       "          console.log(\"Bokeh: ERROR: Unable to run BokehJS code because BokehJS library is missing\");\n",
       "        }\n",
       "      }\n",
       "    }, 10, root)\n",
       "  }\n",
       "})(window);"
      ],
      "application/vnd.bokehjs_exec.v0+json": ""
     },
     "metadata": {
      "application/vnd.bokehjs_exec.v0+json": {
       "id": "9733"
      }
     },
     "output_type": "display_data"
    }
   ],
   "source": [
    "# Pupil teacher ratio\n",
    "years = list(map(str, list(range(2000,2018))))\n",
    "result = show_weighted_average(years, 'SE.PRM.ENRL.TC.ZS', 'SP.POP.TOTL', \n",
    "                               ['LDCs', 'Developing excluding LDCs'], \n",
    "                                height=400, width=1000, line_width=4)"
   ]
  },
  {
   "cell_type": "code",
   "execution_count": 30,
   "metadata": {
    "ExecuteTime": {
     "end_time": "2019-10-25T14:25:45.212387Z",
     "start_time": "2019-10-25T14:25:43.238485Z"
    },
    "scrolled": true,
    "slideshow": {
     "slide_type": "slide"
    }
   },
   "outputs": [
    {
     "data": {
      "text/html": [
       "\n",
       "\n",
       "\n",
       "\n",
       "\n",
       "\n",
       "  <div class=\"bk-root\" id=\"fe61d532-ccc7-470f-a248-dce413f744d0\" data-root-id=\"10279\"></div>\n"
      ]
     },
     "metadata": {},
     "output_type": "display_data"
    },
    {
     "data": {
      "application/javascript": [
       "(function(root) {\n",
       "  function embed_document(root) {\n",
       "    \n",
       "  var docs_json = {\"a8ae0a7d-7abd-4707-8593-4690c110282d\":{\"roots\":{\"references\":[{\"attributes\":{\"below\":[{\"id\":\"10290\",\"type\":\"LinearAxis\"}],\"center\":[{\"id\":\"10294\",\"type\":\"Grid\"},{\"id\":\"10299\",\"type\":\"Grid\"},{\"id\":\"10324\",\"type\":\"Legend\"}],\"left\":[{\"id\":\"10295\",\"type\":\"LinearAxis\"}],\"plot_height\":400,\"plot_width\":1000,\"renderers\":[{\"id\":\"10316\",\"type\":\"GlyphRenderer\"},{\"id\":\"10329\",\"type\":\"GlyphRenderer\"},{\"id\":\"10334\",\"type\":\"GlyphRenderer\"},{\"id\":\"10350\",\"type\":\"GlyphRenderer\"},{\"id\":\"10355\",\"type\":\"GlyphRenderer\"},{\"id\":\"10375\",\"type\":\"GlyphRenderer\"}],\"title\":{\"id\":\"10280\",\"type\":\"Title\"},\"toolbar\":{\"id\":\"10306\",\"type\":\"Toolbar\"},\"x_range\":{\"id\":\"10282\",\"type\":\"DataRange1d\"},\"x_scale\":{\"id\":\"10286\",\"type\":\"LinearScale\"},\"y_range\":{\"id\":\"10284\",\"type\":\"DataRange1d\"},\"y_scale\":{\"id\":\"10288\",\"type\":\"LinearScale\"}},\"id\":\"10279\",\"subtype\":\"Figure\",\"type\":\"Plot\"},{\"attributes\":{\"callback\":null,\"data\":{\"x\":[\"2005\",\"2006\",\"2007\",\"2008\",\"2009\",\"2010\",\"2011\",\"2012\",\"2013\",\"2014\"],\"y\":[80.72632882678737,81.71278915097777,90.68777914211722,90.47838782500084,90.73361691395684,84.09064780984899,88.1094587699186,88.97810074188251,90.90131756789039,93.93159751056649]},\"selected\":{\"id\":\"10367\",\"type\":\"Selection\"},\"selection_policy\":{\"id\":\"10368\",\"type\":\"UnionRenderers\"}},\"id\":\"10331\",\"type\":\"ColumnDataSource\"},{\"attributes\":{},\"id\":\"10367\",\"type\":\"Selection\"},{\"attributes\":{\"axis_label\":\"Years\",\"formatter\":{\"id\":\"10320\",\"type\":\"BasicTickFormatter\"},\"ticker\":{\"id\":\"10291\",\"type\":\"BasicTicker\"}},\"id\":\"10290\",\"type\":\"LinearAxis\"},{\"attributes\":{\"label\":{\"value\":\"Developing excluding LDCs\"},\"renderers\":[{\"id\":\"10334\",\"type\":\"GlyphRenderer\"}]},\"id\":\"10346\",\"type\":\"LegendItem\"},{\"attributes\":{},\"id\":\"10370\",\"type\":\"UnionRenderers\"},{\"attributes\":{\"data_source\":{\"id\":\"10352\",\"type\":\"ColumnDataSource\"},\"glyph\":{\"id\":\"10353\",\"type\":\"Line\"},\"hover_glyph\":null,\"muted_glyph\":null,\"nonselection_glyph\":{\"id\":\"10354\",\"type\":\"Line\"},\"selection_glyph\":null,\"view\":{\"id\":\"10356\",\"type\":\"CDSView\"}},\"id\":\"10355\",\"type\":\"GlyphRenderer\"},{\"attributes\":{\"axis_label\":\"SE.PRM.TCAQ.ZS\",\"formatter\":{\"id\":\"10322\",\"type\":\"BasicTickFormatter\"},\"ticker\":{\"id\":\"10296\",\"type\":\"BasicTicker\"}},\"id\":\"10295\",\"type\":\"LinearAxis\"},{\"attributes\":{\"overlay\":{\"id\":\"10323\",\"type\":\"BoxAnnotation\"}},\"id\":\"10302\",\"type\":\"BoxZoomTool\"},{\"attributes\":{\"line_color\":\"#2CC775\",\"line_width\":4,\"x\":{\"field\":\"x\"},\"y\":{\"field\":\"y\"}},\"id\":\"10353\",\"type\":\"Line\"},{\"attributes\":{\"callback\":null,\"tooltips\":\"                \\n        <div style=padding=5px>Year:@x</div>\\n        <div style=padding=5px>Value:@y</div>        \\n        \"},\"id\":\"10377\",\"type\":\"HoverTool\"},{\"attributes\":{\"fill_alpha\":{\"value\":0.1},\"fill_color\":{\"value\":\"#1f77b4\"},\"line_alpha\":{\"value\":0.1},\"line_color\":{\"value\":\"#1f77b4\"},\"size\":{\"units\":\"screen\",\"value\":1},\"x\":{\"field\":\"x\"},\"y\":{\"field\":\"y\"}},\"id\":\"10349\",\"type\":\"Circle\"},{\"attributes\":{\"bottom_units\":\"screen\",\"fill_alpha\":{\"value\":0.5},\"fill_color\":{\"value\":\"lightgrey\"},\"left_units\":\"screen\",\"level\":\"overlay\",\"line_alpha\":{\"value\":1.0},\"line_color\":{\"value\":\"black\"},\"line_dash\":[4,4],\"line_width\":{\"value\":2},\"render_mode\":\"css\",\"right_units\":\"screen\",\"top_units\":\"screen\"},\"id\":\"10323\",\"type\":\"BoxAnnotation\"},{\"attributes\":{\"dimension\":1,\"grid_line_alpha\":0.5,\"ticker\":{\"id\":\"10296\",\"type\":\"BasicTicker\"}},\"id\":\"10299\",\"type\":\"Grid\"},{\"attributes\":{\"label\":{\"value\":\"LDCs\"},\"renderers\":[{\"id\":\"10316\",\"type\":\"GlyphRenderer\"}]},\"id\":\"10325\",\"type\":\"LegendItem\"},{\"attributes\":{},\"id\":\"10781\",\"type\":\"UnionRenderers\"},{\"attributes\":{\"label\":{\"value\":\"OECD\"},\"renderers\":[{\"id\":\"10355\",\"type\":\"GlyphRenderer\"}]},\"id\":\"10371\",\"type\":\"LegendItem\"},{\"attributes\":{},\"id\":\"10782\",\"type\":\"Selection\"},{\"attributes\":{},\"id\":\"10301\",\"type\":\"WheelZoomTool\"},{\"attributes\":{\"line_color\":\"#5430F1\",\"line_width\":4,\"x\":{\"field\":\"x\"},\"y\":{\"field\":\"y\"}},\"id\":\"10332\",\"type\":\"Line\"},{\"attributes\":{\"items\":[{\"id\":\"10325\",\"type\":\"LegendItem\"},{\"id\":\"10346\",\"type\":\"LegendItem\"},{\"id\":\"10371\",\"type\":\"LegendItem\"}],\"location\":\"bottom_left\"},\"id\":\"10324\",\"type\":\"Legend\"},{\"attributes\":{\"fill_alpha\":{\"value\":0.1},\"fill_color\":{\"value\":\"#1f77b4\"},\"line_alpha\":{\"value\":0.1},\"line_color\":{\"value\":\"#1f77b4\"},\"size\":{\"units\":\"screen\",\"value\":1},\"x\":{\"field\":\"x\"},\"y\":{\"field\":\"y\"}},\"id\":\"10374\",\"type\":\"Circle\"},{\"attributes\":{},\"id\":\"10345\",\"type\":\"UnionRenderers\"},{\"attributes\":{},\"id\":\"10296\",\"type\":\"BasicTicker\"},{\"attributes\":{\"callback\":null,\"data\":{\"x\":[\"2005\",\"2006\",\"2007\",\"2008\",\"2009\",\"2010\",\"2011\",\"2012\",\"2013\",\"2014\"],\"y\":[66.33843499380261,73.6181546297905,79.87922435274227,76.22568962608408,80.2435538339136,84.97842027154721,70.47245477285507,81.31887968744829,76.00179129461559,81.44549818899193]},\"selected\":{\"id\":\"10344\",\"type\":\"Selection\"},\"selection_policy\":{\"id\":\"10345\",\"type\":\"UnionRenderers\"}},\"id\":\"10326\",\"type\":\"ColumnDataSource\"},{\"attributes\":{\"line_alpha\":0.1,\"line_color\":\"#1f77b4\",\"line_width\":4,\"x\":{\"field\":\"x\"},\"y\":{\"field\":\"y\"}},\"id\":\"10354\",\"type\":\"Line\"},{\"attributes\":{},\"id\":\"10780\",\"type\":\"Selection\"},{\"attributes\":{},\"id\":\"10342\",\"type\":\"Selection\"},{\"attributes\":{\"fill_alpha\":{\"value\":0.1},\"fill_color\":{\"value\":\"#1f77b4\"},\"line_alpha\":{\"value\":0.1},\"line_color\":{\"value\":\"#1f77b4\"},\"size\":{\"units\":\"screen\",\"value\":1},\"x\":{\"field\":\"x\"},\"y\":{\"field\":\"y\"}},\"id\":\"10328\",\"type\":\"Circle\"},{\"attributes\":{},\"id\":\"10783\",\"type\":\"UnionRenderers\"},{\"attributes\":{},\"id\":\"10320\",\"type\":\"BasicTickFormatter\"},{\"attributes\":{\"line_alpha\":0.1,\"line_color\":\"#1f77b4\",\"line_width\":4,\"x\":{\"field\":\"x\"},\"y\":{\"field\":\"y\"}},\"id\":\"10315\",\"type\":\"Line\"},{\"attributes\":{},\"id\":\"10304\",\"type\":\"ResetTool\"},{\"attributes\":{\"source\":{\"id\":\"10331\",\"type\":\"ColumnDataSource\"}},\"id\":\"10335\",\"type\":\"CDSView\"},{\"attributes\":{\"callback\":null,\"data\":{\"x\":[\"2005\",\"2006\",\"2007\",\"2008\",\"2009\",\"2010\",\"2011\",\"2012\",\"2013\",\"2014\"],\"y\":[66.33843499380261,73.6181546297905,79.87922435274227,76.22568962608408,80.2435538339136,84.97842027154721,70.47245477285507,81.31887968744829,76.00179129461559,81.44549818899193]},\"selected\":{\"id\":\"10342\",\"type\":\"Selection\"},\"selection_policy\":{\"id\":\"10343\",\"type\":\"UnionRenderers\"}},\"id\":\"10313\",\"type\":\"ColumnDataSource\"},{\"attributes\":{\"fill_color\":{\"value\":\"#2CC775\"},\"line_color\":{\"value\":\"#2CC775\"},\"size\":{\"units\":\"screen\",\"value\":1},\"x\":{\"field\":\"x\"},\"y\":{\"field\":\"y\"}},\"id\":\"10373\",\"type\":\"Circle\"},{\"attributes\":{},\"id\":\"10369\",\"type\":\"Selection\"},{\"attributes\":{\"active_drag\":\"auto\",\"active_inspect\":\"auto\",\"active_multi\":null,\"active_scroll\":\"auto\",\"active_tap\":\"auto\",\"tools\":[{\"id\":\"10300\",\"type\":\"PanTool\"},{\"id\":\"10301\",\"type\":\"WheelZoomTool\"},{\"id\":\"10302\",\"type\":\"BoxZoomTool\"},{\"id\":\"10303\",\"type\":\"SaveTool\"},{\"id\":\"10304\",\"type\":\"ResetTool\"},{\"id\":\"10305\",\"type\":\"HelpTool\"},{\"id\":\"10377\",\"type\":\"HoverTool\"}]},\"id\":\"10306\",\"type\":\"Toolbar\"},{\"attributes\":{\"data_source\":{\"id\":\"10326\",\"type\":\"ColumnDataSource\"},\"glyph\":{\"id\":\"10327\",\"type\":\"Circle\"},\"hover_glyph\":null,\"muted_glyph\":null,\"nonselection_glyph\":{\"id\":\"10328\",\"type\":\"Circle\"},\"selection_glyph\":null,\"view\":{\"id\":\"10330\",\"type\":\"CDSView\"}},\"id\":\"10329\",\"type\":\"GlyphRenderer\"},{\"attributes\":{},\"id\":\"10322\",\"type\":\"BasicTickFormatter\"},{\"attributes\":{\"source\":{\"id\":\"10347\",\"type\":\"ColumnDataSource\"}},\"id\":\"10351\",\"type\":\"CDSView\"},{\"attributes\":{\"data_source\":{\"id\":\"10331\",\"type\":\"ColumnDataSource\"},\"glyph\":{\"id\":\"10332\",\"type\":\"Line\"},\"hover_glyph\":null,\"muted_glyph\":null,\"nonselection_glyph\":{\"id\":\"10333\",\"type\":\"Line\"},\"selection_glyph\":null,\"view\":{\"id\":\"10335\",\"type\":\"CDSView\"}},\"id\":\"10334\",\"type\":\"GlyphRenderer\"},{\"attributes\":{\"text\":\"Trained teachers in primary education (% of total teachers) weighted against Primary education, teachers\"},\"id\":\"10280\",\"type\":\"Title\"},{\"attributes\":{},\"id\":\"10300\",\"type\":\"PanTool\"},{\"attributes\":{\"line_color\":\"#FA1857\",\"line_width\":4,\"x\":{\"field\":\"x\"},\"y\":{\"field\":\"y\"}},\"id\":\"10314\",\"type\":\"Line\"},{\"attributes\":{\"grid_line_color\":null,\"ticker\":{\"id\":\"10291\",\"type\":\"BasicTicker\"}},\"id\":\"10294\",\"type\":\"Grid\"},{\"attributes\":{\"data_source\":{\"id\":\"10372\",\"type\":\"ColumnDataSource\"},\"glyph\":{\"id\":\"10373\",\"type\":\"Circle\"},\"hover_glyph\":null,\"muted_glyph\":null,\"nonselection_glyph\":{\"id\":\"10374\",\"type\":\"Circle\"},\"selection_glyph\":null,\"view\":{\"id\":\"10376\",\"type\":\"CDSView\"}},\"id\":\"10375\",\"type\":\"GlyphRenderer\"},{\"attributes\":{\"fill_color\":{\"value\":\"#5430F1\"},\"line_color\":{\"value\":\"#5430F1\"},\"size\":{\"units\":\"screen\",\"value\":1},\"x\":{\"field\":\"x\"},\"y\":{\"field\":\"y\"}},\"id\":\"10348\",\"type\":\"Circle\"},{\"attributes\":{\"data_source\":{\"id\":\"10347\",\"type\":\"ColumnDataSource\"},\"glyph\":{\"id\":\"10348\",\"type\":\"Circle\"},\"hover_glyph\":null,\"muted_glyph\":null,\"nonselection_glyph\":{\"id\":\"10349\",\"type\":\"Circle\"},\"selection_glyph\":null,\"view\":{\"id\":\"10351\",\"type\":\"CDSView\"}},\"id\":\"10350\",\"type\":\"GlyphRenderer\"},{\"attributes\":{},\"id\":\"10344\",\"type\":\"Selection\"},{\"attributes\":{\"source\":{\"id\":\"10326\",\"type\":\"ColumnDataSource\"}},\"id\":\"10330\",\"type\":\"CDSView\"},{\"attributes\":{\"callback\":null,\"data\":{\"x\":[\"2005\",\"2006\",\"2007\",\"2008\",\"2009\",\"2010\",\"2011\",\"2012\",\"2013\",\"2014\"],\"y\":[94.93443,95.15333,95.36857,95.04649,95.58816,95.58591,96.00005,95.99993,96.40006,96.78775]},\"selected\":{\"id\":\"10782\",\"type\":\"Selection\"},\"selection_policy\":{\"id\":\"10783\",\"type\":\"UnionRenderers\"}},\"id\":\"10372\",\"type\":\"ColumnDataSource\"},{\"attributes\":{\"callback\":null},\"id\":\"10284\",\"type\":\"DataRange1d\"},{\"attributes\":{},\"id\":\"10305\",\"type\":\"HelpTool\"},{\"attributes\":{\"callback\":null,\"data\":{\"x\":[\"2005\",\"2006\",\"2007\",\"2008\",\"2009\",\"2010\",\"2011\",\"2012\",\"2013\",\"2014\"],\"y\":[80.72632882678737,81.71278915097777,90.68777914211722,90.47838782500084,90.73361691395684,84.09064780984899,88.1094587699186,88.97810074188251,90.90131756789039,93.93159751056649]},\"selected\":{\"id\":\"10369\",\"type\":\"Selection\"},\"selection_policy\":{\"id\":\"10370\",\"type\":\"UnionRenderers\"}},\"id\":\"10347\",\"type\":\"ColumnDataSource\"},{\"attributes\":{\"source\":{\"id\":\"10372\",\"type\":\"ColumnDataSource\"}},\"id\":\"10376\",\"type\":\"CDSView\"},{\"attributes\":{\"source\":{\"id\":\"10313\",\"type\":\"ColumnDataSource\"}},\"id\":\"10317\",\"type\":\"CDSView\"},{\"attributes\":{\"fill_color\":{\"value\":\"#FA1857\"},\"line_color\":{\"value\":\"#FA1857\"},\"size\":{\"units\":\"screen\",\"value\":1},\"x\":{\"field\":\"x\"},\"y\":{\"field\":\"y\"}},\"id\":\"10327\",\"type\":\"Circle\"},{\"attributes\":{\"callback\":null,\"data\":{\"x\":[\"2005\",\"2006\",\"2007\",\"2008\",\"2009\",\"2010\",\"2011\",\"2012\",\"2013\",\"2014\"],\"y\":[94.93443,95.15333,95.36857,95.04649,95.58816,95.58591,96.00005,95.99993,96.40006,96.78775]},\"selected\":{\"id\":\"10780\",\"type\":\"Selection\"},\"selection_policy\":{\"id\":\"10781\",\"type\":\"UnionRenderers\"}},\"id\":\"10352\",\"type\":\"ColumnDataSource\"},{\"attributes\":{},\"id\":\"10343\",\"type\":\"UnionRenderers\"},{\"attributes\":{},\"id\":\"10286\",\"type\":\"LinearScale\"},{\"attributes\":{\"source\":{\"id\":\"10352\",\"type\":\"ColumnDataSource\"}},\"id\":\"10356\",\"type\":\"CDSView\"},{\"attributes\":{\"callback\":null},\"id\":\"10282\",\"type\":\"DataRange1d\"},{\"attributes\":{},\"id\":\"10291\",\"type\":\"BasicTicker\"},{\"attributes\":{},\"id\":\"10368\",\"type\":\"UnionRenderers\"},{\"attributes\":{},\"id\":\"10303\",\"type\":\"SaveTool\"},{\"attributes\":{\"line_alpha\":0.1,\"line_color\":\"#1f77b4\",\"line_width\":4,\"x\":{\"field\":\"x\"},\"y\":{\"field\":\"y\"}},\"id\":\"10333\",\"type\":\"Line\"},{\"attributes\":{\"data_source\":{\"id\":\"10313\",\"type\":\"ColumnDataSource\"},\"glyph\":{\"id\":\"10314\",\"type\":\"Line\"},\"hover_glyph\":null,\"muted_glyph\":null,\"nonselection_glyph\":{\"id\":\"10315\",\"type\":\"Line\"},\"selection_glyph\":null,\"view\":{\"id\":\"10317\",\"type\":\"CDSView\"}},\"id\":\"10316\",\"type\":\"GlyphRenderer\"},{\"attributes\":{},\"id\":\"10288\",\"type\":\"LinearScale\"}],\"root_ids\":[\"10279\"]},\"title\":\"Bokeh Application\",\"version\":\"1.4.0\"}};\n",
       "  var render_items = [{\"docid\":\"a8ae0a7d-7abd-4707-8593-4690c110282d\",\"roots\":{\"10279\":\"fe61d532-ccc7-470f-a248-dce413f744d0\"}}];\n",
       "  root.Bokeh.embed.embed_items_notebook(docs_json, render_items);\n",
       "\n",
       "  }\n",
       "  if (root.Bokeh !== undefined) {\n",
       "    embed_document(root);\n",
       "  } else {\n",
       "    var attempts = 0;\n",
       "    var timer = setInterval(function(root) {\n",
       "      if (root.Bokeh !== undefined) {\n",
       "        clearInterval(timer);\n",
       "        embed_document(root);\n",
       "      } else {\n",
       "        attempts++;\n",
       "        if (attempts > 100) {\n",
       "          clearInterval(timer);\n",
       "          console.log(\"Bokeh: ERROR: Unable to run BokehJS code because BokehJS library is missing\");\n",
       "        }\n",
       "      }\n",
       "    }, 10, root)\n",
       "  }\n",
       "})(window);"
      ],
      "application/vnd.bokehjs_exec.v0+json": ""
     },
     "metadata": {
      "application/vnd.bokehjs_exec.v0+json": {
       "id": "10279"
      }
     },
     "output_type": "display_data"
    }
   ],
   "source": [
    "# Trained teachers in primary\n",
    "years = list(map(str, list(range(2005,2015))))\n",
    "result = show_weighted_average(years, 'SE.PRM.TCAQ.ZS', 'SE.PRM.TCHR', \n",
    "                               ['LDCs', 'Developing excluding LDCs', 'OECD'], \n",
    "                                height=400, width=1000, line_width=4)"
   ]
  },
  {
   "cell_type": "code",
   "execution_count": 31,
   "metadata": {
    "ExecuteTime": {
     "end_time": "2019-10-25T14:25:47.154621Z",
     "start_time": "2019-10-25T14:25:45.217692Z"
    },
    "slideshow": {
     "slide_type": "slide"
    }
   },
   "outputs": [
    {
     "data": {
      "text/html": [
       "\n",
       "\n",
       "\n",
       "\n",
       "\n",
       "\n",
       "  <div class=\"bk-root\" id=\"408fca13-7301-4f0d-89ce-72186f7dd648\" data-root-id=\"10892\"></div>\n"
      ]
     },
     "metadata": {},
     "output_type": "display_data"
    },
    {
     "data": {
      "application/javascript": [
       "(function(root) {\n",
       "  function embed_document(root) {\n",
       "    \n",
       "  var docs_json = {\"b6948628-1053-4ea7-b24f-40cd9e026eb9\":{\"roots\":{\"references\":[{\"attributes\":{\"below\":[{\"id\":\"10903\",\"type\":\"LinearAxis\"}],\"center\":[{\"id\":\"10907\",\"type\":\"Grid\"},{\"id\":\"10912\",\"type\":\"Grid\"},{\"id\":\"10937\",\"type\":\"Legend\"}],\"left\":[{\"id\":\"10908\",\"type\":\"LinearAxis\"}],\"plot_height\":400,\"plot_width\":1000,\"renderers\":[{\"id\":\"10929\",\"type\":\"GlyphRenderer\"},{\"id\":\"10942\",\"type\":\"GlyphRenderer\"},{\"id\":\"10947\",\"type\":\"GlyphRenderer\"},{\"id\":\"10963\",\"type\":\"GlyphRenderer\"},{\"id\":\"10968\",\"type\":\"GlyphRenderer\"},{\"id\":\"10988\",\"type\":\"GlyphRenderer\"}],\"title\":{\"id\":\"10893\",\"type\":\"Title\"},\"toolbar\":{\"id\":\"10919\",\"type\":\"Toolbar\"},\"x_range\":{\"id\":\"10895\",\"type\":\"DataRange1d\"},\"x_scale\":{\"id\":\"10899\",\"type\":\"LinearScale\"},\"y_range\":{\"id\":\"10897\",\"type\":\"DataRange1d\"},\"y_scale\":{\"id\":\"10901\",\"type\":\"LinearScale\"}},\"id\":\"10892\",\"subtype\":\"Figure\",\"type\":\"Plot\"},{\"attributes\":{\"fill_alpha\":{\"value\":0.1},\"fill_color\":{\"value\":\"#1f77b4\"},\"line_alpha\":{\"value\":0.1},\"line_color\":{\"value\":\"#1f77b4\"},\"size\":{\"units\":\"screen\",\"value\":1},\"x\":{\"field\":\"x\"},\"y\":{\"field\":\"y\"}},\"id\":\"10941\",\"type\":\"Circle\"},{\"attributes\":{},\"id\":\"11412\",\"type\":\"UnionRenderers\"},{\"attributes\":{\"data_source\":{\"id\":\"10985\",\"type\":\"ColumnDataSource\"},\"glyph\":{\"id\":\"10986\",\"type\":\"Circle\"},\"hover_glyph\":null,\"muted_glyph\":null,\"nonselection_glyph\":{\"id\":\"10987\",\"type\":\"Circle\"},\"selection_glyph\":null,\"view\":{\"id\":\"10989\",\"type\":\"CDSView\"}},\"id\":\"10988\",\"type\":\"GlyphRenderer\"},{\"attributes\":{\"grid_line_color\":null,\"ticker\":{\"id\":\"10904\",\"type\":\"BasicTicker\"}},\"id\":\"10907\",\"type\":\"Grid\"},{\"attributes\":{\"bottom_units\":\"screen\",\"fill_alpha\":{\"value\":0.5},\"fill_color\":{\"value\":\"lightgrey\"},\"left_units\":\"screen\",\"level\":\"overlay\",\"line_alpha\":{\"value\":1.0},\"line_color\":{\"value\":\"black\"},\"line_dash\":[4,4],\"line_width\":{\"value\":2},\"render_mode\":\"css\",\"right_units\":\"screen\",\"top_units\":\"screen\"},\"id\":\"10936\",\"type\":\"BoxAnnotation\"},{\"attributes\":{},\"id\":\"10909\",\"type\":\"BasicTicker\"},{\"attributes\":{\"source\":{\"id\":\"10985\",\"type\":\"ColumnDataSource\"}},\"id\":\"10989\",\"type\":\"CDSView\"},{\"attributes\":{\"label\":{\"value\":\"LDCs\"},\"renderers\":[{\"id\":\"10929\",\"type\":\"GlyphRenderer\"}]},\"id\":\"10938\",\"type\":\"LegendItem\"},{\"attributes\":{\"callback\":null,\"data\":{\"x\":[\"2005\",\"2006\",\"2007\",\"2008\",\"2009\",\"2010\",\"2011\",\"2012\",\"2013\",\"2014\"],\"y\":[86.87512995423359,87.63056023970321,92.32432134685388,91.63770297087862,92.55462125523024,83.46199102331038,88.7996933360356,89.20267700659186,89.01092336236253,90.12016981876029]},\"selected\":{\"id\":\"10982\",\"type\":\"Selection\"},\"selection_policy\":{\"id\":\"10983\",\"type\":\"UnionRenderers\"}},\"id\":\"10960\",\"type\":\"ColumnDataSource\"},{\"attributes\":{},\"id\":\"11411\",\"type\":\"Selection\"},{\"attributes\":{\"fill_color\":{\"value\":\"#5430F1\"},\"line_color\":{\"value\":\"#5430F1\"},\"size\":{\"units\":\"screen\",\"value\":1},\"x\":{\"field\":\"x\"},\"y\":{\"field\":\"y\"}},\"id\":\"10961\",\"type\":\"Circle\"},{\"attributes\":{\"callback\":null},\"id\":\"10897\",\"type\":\"DataRange1d\"},{\"attributes\":{\"fill_alpha\":{\"value\":0.1},\"fill_color\":{\"value\":\"#1f77b4\"},\"line_alpha\":{\"value\":0.1},\"line_color\":{\"value\":\"#1f77b4\"},\"size\":{\"units\":\"screen\",\"value\":1},\"x\":{\"field\":\"x\"},\"y\":{\"field\":\"y\"}},\"id\":\"10987\",\"type\":\"Circle\"},{\"attributes\":{\"source\":{\"id\":\"10926\",\"type\":\"ColumnDataSource\"}},\"id\":\"10930\",\"type\":\"CDSView\"},{\"attributes\":{\"callback\":null,\"data\":{\"x\":[\"2005\",\"2006\",\"2007\",\"2008\",\"2009\",\"2010\",\"2011\",\"2012\",\"2013\",\"2014\"],\"y\":[89.36711,85.318,90.00625,88.78647,89.85324,90.99565,85.67287,91.79758,92.06496,90.8964]},\"selected\":{\"id\":\"11413\",\"type\":\"Selection\"},\"selection_policy\":{\"id\":\"11414\",\"type\":\"UnionRenderers\"}},\"id\":\"10985\",\"type\":\"ColumnDataSource\"},{\"attributes\":{},\"id\":\"10955\",\"type\":\"Selection\"},{\"attributes\":{},\"id\":\"11413\",\"type\":\"Selection\"},{\"attributes\":{},\"id\":\"10901\",\"type\":\"LinearScale\"},{\"attributes\":{},\"id\":\"10933\",\"type\":\"BasicTickFormatter\"},{\"attributes\":{},\"id\":\"10958\",\"type\":\"UnionRenderers\"},{\"attributes\":{\"dimension\":1,\"grid_line_alpha\":0.5,\"ticker\":{\"id\":\"10909\",\"type\":\"BasicTicker\"}},\"id\":\"10912\",\"type\":\"Grid\"},{\"attributes\":{\"fill_color\":{\"value\":\"#FA1857\"},\"line_color\":{\"value\":\"#FA1857\"},\"size\":{\"units\":\"screen\",\"value\":1},\"x\":{\"field\":\"x\"},\"y\":{\"field\":\"y\"}},\"id\":\"10940\",\"type\":\"Circle\"},{\"attributes\":{\"source\":{\"id\":\"10944\",\"type\":\"ColumnDataSource\"}},\"id\":\"10948\",\"type\":\"CDSView\"},{\"attributes\":{\"axis_label\":\"Years\",\"formatter\":{\"id\":\"10933\",\"type\":\"BasicTickFormatter\"},\"ticker\":{\"id\":\"10904\",\"type\":\"BasicTicker\"}},\"id\":\"10903\",\"type\":\"LinearAxis\"},{\"attributes\":{},\"id\":\"10983\",\"type\":\"UnionRenderers\"},{\"attributes\":{\"items\":[{\"id\":\"10938\",\"type\":\"LegendItem\"},{\"id\":\"10959\",\"type\":\"LegendItem\"},{\"id\":\"10984\",\"type\":\"LegendItem\"}],\"location\":\"bottom_left\"},\"id\":\"10937\",\"type\":\"Legend\"},{\"attributes\":{\"axis_label\":\"SE.SEC.TCAQ.ZS\",\"formatter\":{\"id\":\"10935\",\"type\":\"BasicTickFormatter\"},\"ticker\":{\"id\":\"10909\",\"type\":\"BasicTicker\"}},\"id\":\"10908\",\"type\":\"LinearAxis\"},{\"attributes\":{\"data_source\":{\"id\":\"10926\",\"type\":\"ColumnDataSource\"},\"glyph\":{\"id\":\"10927\",\"type\":\"Line\"},\"hover_glyph\":null,\"muted_glyph\":null,\"nonselection_glyph\":{\"id\":\"10928\",\"type\":\"Line\"},\"selection_glyph\":null,\"view\":{\"id\":\"10930\",\"type\":\"CDSView\"}},\"id\":\"10929\",\"type\":\"GlyphRenderer\"},{\"attributes\":{},\"id\":\"10957\",\"type\":\"Selection\"},{\"attributes\":{\"callback\":null,\"data\":{\"x\":[\"2005\",\"2006\",\"2007\",\"2008\",\"2009\",\"2010\",\"2011\",\"2012\",\"2013\",\"2014\"],\"y\":[86.87512995423359,87.63056023970321,92.32432134685388,91.63770297087862,92.55462125523024,83.46199102331038,88.7996933360356,89.20267700659186,89.01092336236253,90.12016981876029]},\"selected\":{\"id\":\"10980\",\"type\":\"Selection\"},\"selection_policy\":{\"id\":\"10981\",\"type\":\"UnionRenderers\"}},\"id\":\"10944\",\"type\":\"ColumnDataSource\"},{\"attributes\":{\"line_alpha\":0.1,\"line_color\":\"#1f77b4\",\"line_width\":4,\"x\":{\"field\":\"x\"},\"y\":{\"field\":\"y\"}},\"id\":\"10967\",\"type\":\"Line\"},{\"attributes\":{\"source\":{\"id\":\"10965\",\"type\":\"ColumnDataSource\"}},\"id\":\"10969\",\"type\":\"CDSView\"},{\"attributes\":{\"fill_color\":{\"value\":\"#2CC775\"},\"line_color\":{\"value\":\"#2CC775\"},\"size\":{\"units\":\"screen\",\"value\":1},\"x\":{\"field\":\"x\"},\"y\":{\"field\":\"y\"}},\"id\":\"10986\",\"type\":\"Circle\"},{\"attributes\":{\"data_source\":{\"id\":\"10965\",\"type\":\"ColumnDataSource\"},\"glyph\":{\"id\":\"10966\",\"type\":\"Line\"},\"hover_glyph\":null,\"muted_glyph\":null,\"nonselection_glyph\":{\"id\":\"10967\",\"type\":\"Line\"},\"selection_glyph\":null,\"view\":{\"id\":\"10969\",\"type\":\"CDSView\"}},\"id\":\"10968\",\"type\":\"GlyphRenderer\"},{\"attributes\":{\"line_alpha\":0.1,\"line_color\":\"#1f77b4\",\"line_width\":4,\"x\":{\"field\":\"x\"},\"y\":{\"field\":\"y\"}},\"id\":\"10946\",\"type\":\"Line\"},{\"attributes\":{\"source\":{\"id\":\"10960\",\"type\":\"ColumnDataSource\"}},\"id\":\"10964\",\"type\":\"CDSView\"},{\"attributes\":{},\"id\":\"10956\",\"type\":\"UnionRenderers\"},{\"attributes\":{},\"id\":\"10935\",\"type\":\"BasicTickFormatter\"},{\"attributes\":{\"label\":{\"value\":\"Developing excluding LDCs\"},\"renderers\":[{\"id\":\"10947\",\"type\":\"GlyphRenderer\"}]},\"id\":\"10959\",\"type\":\"LegendItem\"},{\"attributes\":{\"callback\":null,\"data\":{\"x\":[\"2005\",\"2006\",\"2007\",\"2008\",\"2009\",\"2010\",\"2011\",\"2012\",\"2013\",\"2014\"],\"y\":[89.36711,85.318,90.00625,88.78647,89.85324,90.99565,85.67287,91.79758,92.06496,90.8964]},\"selected\":{\"id\":\"11411\",\"type\":\"Selection\"},\"selection_policy\":{\"id\":\"11412\",\"type\":\"UnionRenderers\"}},\"id\":\"10965\",\"type\":\"ColumnDataSource\"},{\"attributes\":{},\"id\":\"10981\",\"type\":\"UnionRenderers\"},{\"attributes\":{\"data_source\":{\"id\":\"10944\",\"type\":\"ColumnDataSource\"},\"glyph\":{\"id\":\"10945\",\"type\":\"Line\"},\"hover_glyph\":null,\"muted_glyph\":null,\"nonselection_glyph\":{\"id\":\"10946\",\"type\":\"Line\"},\"selection_glyph\":null,\"view\":{\"id\":\"10948\",\"type\":\"CDSView\"}},\"id\":\"10947\",\"type\":\"GlyphRenderer\"},{\"attributes\":{},\"id\":\"10916\",\"type\":\"SaveTool\"},{\"attributes\":{\"line_alpha\":0.1,\"line_color\":\"#1f77b4\",\"line_width\":4,\"x\":{\"field\":\"x\"},\"y\":{\"field\":\"y\"}},\"id\":\"10928\",\"type\":\"Line\"},{\"attributes\":{\"line_color\":\"#2CC775\",\"line_width\":4,\"x\":{\"field\":\"x\"},\"y\":{\"field\":\"y\"}},\"id\":\"10966\",\"type\":\"Line\"},{\"attributes\":{\"text\":\"Trained teachers in secondary education (% of total teachers) weighted against Secondary education, teachers\"},\"id\":\"10893\",\"type\":\"Title\"},{\"attributes\":{},\"id\":\"10980\",\"type\":\"Selection\"},{\"attributes\":{},\"id\":\"10982\",\"type\":\"Selection\"},{\"attributes\":{\"label\":{\"value\":\"OECD\"},\"renderers\":[{\"id\":\"10968\",\"type\":\"GlyphRenderer\"}]},\"id\":\"10984\",\"type\":\"LegendItem\"},{\"attributes\":{},\"id\":\"10917\",\"type\":\"ResetTool\"},{\"attributes\":{\"callback\":null},\"id\":\"10895\",\"type\":\"DataRange1d\"},{\"attributes\":{\"data_source\":{\"id\":\"10939\",\"type\":\"ColumnDataSource\"},\"glyph\":{\"id\":\"10940\",\"type\":\"Circle\"},\"hover_glyph\":null,\"muted_glyph\":null,\"nonselection_glyph\":{\"id\":\"10941\",\"type\":\"Circle\"},\"selection_glyph\":null,\"view\":{\"id\":\"10943\",\"type\":\"CDSView\"}},\"id\":\"10942\",\"type\":\"GlyphRenderer\"},{\"attributes\":{},\"id\":\"10918\",\"type\":\"HelpTool\"},{\"attributes\":{},\"id\":\"10899\",\"type\":\"LinearScale\"},{\"attributes\":{\"callback\":null,\"tooltips\":\"                \\n        <div style=padding=5px>Year:@x</div>\\n        <div style=padding=5px>Value:@y</div>        \\n        \"},\"id\":\"10990\",\"type\":\"HoverTool\"},{\"attributes\":{\"line_color\":\"#5430F1\",\"line_width\":4,\"x\":{\"field\":\"x\"},\"y\":{\"field\":\"y\"}},\"id\":\"10945\",\"type\":\"Line\"},{\"attributes\":{},\"id\":\"11414\",\"type\":\"UnionRenderers\"},{\"attributes\":{},\"id\":\"10914\",\"type\":\"WheelZoomTool\"},{\"attributes\":{\"source\":{\"id\":\"10939\",\"type\":\"ColumnDataSource\"}},\"id\":\"10943\",\"type\":\"CDSView\"},{\"attributes\":{},\"id\":\"10913\",\"type\":\"PanTool\"},{\"attributes\":{\"data_source\":{\"id\":\"10960\",\"type\":\"ColumnDataSource\"},\"glyph\":{\"id\":\"10961\",\"type\":\"Circle\"},\"hover_glyph\":null,\"muted_glyph\":null,\"nonselection_glyph\":{\"id\":\"10962\",\"type\":\"Circle\"},\"selection_glyph\":null,\"view\":{\"id\":\"10964\",\"type\":\"CDSView\"}},\"id\":\"10963\",\"type\":\"GlyphRenderer\"},{\"attributes\":{\"overlay\":{\"id\":\"10936\",\"type\":\"BoxAnnotation\"}},\"id\":\"10915\",\"type\":\"BoxZoomTool\"},{\"attributes\":{\"callback\":null,\"data\":{\"x\":[\"2005\",\"2006\",\"2007\",\"2008\",\"2009\",\"2010\",\"2011\",\"2012\",\"2013\",\"2014\"],\"y\":[79.32941752876195,86.15621977489293,86.02774661892278,71.04739762838975,86.58685496184725,56.63384935461981,67.78695315953377,62.34684223691954,52.49870973544407,51.4375480377963]},\"selected\":{\"id\":\"10955\",\"type\":\"Selection\"},\"selection_policy\":{\"id\":\"10956\",\"type\":\"UnionRenderers\"}},\"id\":\"10926\",\"type\":\"ColumnDataSource\"},{\"attributes\":{\"fill_alpha\":{\"value\":0.1},\"fill_color\":{\"value\":\"#1f77b4\"},\"line_alpha\":{\"value\":0.1},\"line_color\":{\"value\":\"#1f77b4\"},\"size\":{\"units\":\"screen\",\"value\":1},\"x\":{\"field\":\"x\"},\"y\":{\"field\":\"y\"}},\"id\":\"10962\",\"type\":\"Circle\"},{\"attributes\":{\"active_drag\":\"auto\",\"active_inspect\":\"auto\",\"active_multi\":null,\"active_scroll\":\"auto\",\"active_tap\":\"auto\",\"tools\":[{\"id\":\"10913\",\"type\":\"PanTool\"},{\"id\":\"10914\",\"type\":\"WheelZoomTool\"},{\"id\":\"10915\",\"type\":\"BoxZoomTool\"},{\"id\":\"10916\",\"type\":\"SaveTool\"},{\"id\":\"10917\",\"type\":\"ResetTool\"},{\"id\":\"10918\",\"type\":\"HelpTool\"},{\"id\":\"10990\",\"type\":\"HoverTool\"}]},\"id\":\"10919\",\"type\":\"Toolbar\"},{\"attributes\":{\"line_color\":\"#FA1857\",\"line_width\":4,\"x\":{\"field\":\"x\"},\"y\":{\"field\":\"y\"}},\"id\":\"10927\",\"type\":\"Line\"},{\"attributes\":{\"callback\":null,\"data\":{\"x\":[\"2005\",\"2006\",\"2007\",\"2008\",\"2009\",\"2010\",\"2011\",\"2012\",\"2013\",\"2014\"],\"y\":[79.32941752876195,86.15621977489293,86.02774661892278,71.04739762838975,86.58685496184725,56.63384935461981,67.78695315953377,62.34684223691954,52.49870973544407,51.4375480377963]},\"selected\":{\"id\":\"10957\",\"type\":\"Selection\"},\"selection_policy\":{\"id\":\"10958\",\"type\":\"UnionRenderers\"}},\"id\":\"10939\",\"type\":\"ColumnDataSource\"},{\"attributes\":{},\"id\":\"10904\",\"type\":\"BasicTicker\"}],\"root_ids\":[\"10892\"]},\"title\":\"Bokeh Application\",\"version\":\"1.4.0\"}};\n",
       "  var render_items = [{\"docid\":\"b6948628-1053-4ea7-b24f-40cd9e026eb9\",\"roots\":{\"10892\":\"408fca13-7301-4f0d-89ce-72186f7dd648\"}}];\n",
       "  root.Bokeh.embed.embed_items_notebook(docs_json, render_items);\n",
       "\n",
       "  }\n",
       "  if (root.Bokeh !== undefined) {\n",
       "    embed_document(root);\n",
       "  } else {\n",
       "    var attempts = 0;\n",
       "    var timer = setInterval(function(root) {\n",
       "      if (root.Bokeh !== undefined) {\n",
       "        clearInterval(timer);\n",
       "        embed_document(root);\n",
       "      } else {\n",
       "        attempts++;\n",
       "        if (attempts > 100) {\n",
       "          clearInterval(timer);\n",
       "          console.log(\"Bokeh: ERROR: Unable to run BokehJS code because BokehJS library is missing\");\n",
       "        }\n",
       "      }\n",
       "    }, 10, root)\n",
       "  }\n",
       "})(window);"
      ],
      "application/vnd.bokehjs_exec.v0+json": ""
     },
     "metadata": {
      "application/vnd.bokehjs_exec.v0+json": {
       "id": "10892"
      }
     },
     "output_type": "display_data"
    }
   ],
   "source": [
    "# Trained teachers secondary\n",
    "years = list(map(str, list(range(2005,2015))))\n",
    "result = show_weighted_average(years, 'SE.SEC.TCAQ.ZS', 'SE.SEC.TCHR', \n",
    "                               ['LDCs', 'Developing excluding LDCs', 'OECD'], \n",
    "                                height=400, width=1000, line_width=4)"
   ]
  },
  {
   "cell_type": "markdown",
   "metadata": {
    "slideshow": {
     "slide_type": "slide"
    }
   },
   "source": [
    "# LDCs have made enormous progress in enrollment at the primary level\n",
    "\n",
    "# Challenges remain in relation to factors affecting the quality of education\n",
    "\n",
    "# Gender inequality, specially at secondary and tertiary levels"
   ]
  },
  {
   "cell_type": "markdown",
   "metadata": {
    "slideshow": {
     "slide_type": "slide"
    }
   },
   "source": [
    "# Youth development"
   ]
  },
  {
   "cell_type": "code",
   "execution_count": 32,
   "metadata": {
    "ExecuteTime": {
     "end_time": "2019-10-25T14:25:48.983763Z",
     "start_time": "2019-10-25T14:25:47.157404Z"
    },
    "slideshow": {
     "slide_type": "slide"
    }
   },
   "outputs": [
    {
     "data": {
      "text/html": [
       "\n",
       "\n",
       "\n",
       "\n",
       "\n",
       "\n",
       "  <div class=\"bk-root\" id=\"d21cdb1f-1371-4657-9710-899205cc14f8\" data-root-id=\"11523\"></div>\n"
      ]
     },
     "metadata": {},
     "output_type": "display_data"
    },
    {
     "data": {
      "application/javascript": [
       "(function(root) {\n",
       "  function embed_document(root) {\n",
       "    \n",
       "  var docs_json = {\"5fa10611-1dff-4f72-b244-6a3bec3e1960\":{\"roots\":{\"references\":[{\"attributes\":{\"below\":[{\"id\":\"11534\",\"type\":\"LinearAxis\"}],\"center\":[{\"id\":\"11538\",\"type\":\"Grid\"},{\"id\":\"11543\",\"type\":\"Grid\"},{\"id\":\"11568\",\"type\":\"Legend\"}],\"left\":[{\"id\":\"11539\",\"type\":\"LinearAxis\"}],\"plot_height\":400,\"plot_width\":1000,\"renderers\":[{\"id\":\"11560\",\"type\":\"GlyphRenderer\"},{\"id\":\"11573\",\"type\":\"GlyphRenderer\"},{\"id\":\"11578\",\"type\":\"GlyphRenderer\"},{\"id\":\"11594\",\"type\":\"GlyphRenderer\"},{\"id\":\"11599\",\"type\":\"GlyphRenderer\"},{\"id\":\"11619\",\"type\":\"GlyphRenderer\"}],\"title\":{\"id\":\"11524\",\"type\":\"Title\"},\"toolbar\":{\"id\":\"11550\",\"type\":\"Toolbar\"},\"x_range\":{\"id\":\"11526\",\"type\":\"DataRange1d\"},\"x_scale\":{\"id\":\"11530\",\"type\":\"LinearScale\"},\"y_range\":{\"id\":\"11528\",\"type\":\"DataRange1d\"},\"y_scale\":{\"id\":\"11532\",\"type\":\"LinearScale\"}},\"id\":\"11523\",\"subtype\":\"Figure\",\"type\":\"Plot\"},{\"attributes\":{},\"id\":\"12062\",\"type\":\"Selection\"},{\"attributes\":{\"line_color\":\"#FA1857\",\"line_width\":4,\"x\":{\"field\":\"x\"},\"y\":{\"field\":\"y\"}},\"id\":\"11558\",\"type\":\"Line\"},{\"attributes\":{\"line_alpha\":0.1,\"line_color\":\"#1f77b4\",\"line_width\":4,\"x\":{\"field\":\"x\"},\"y\":{\"field\":\"y\"}},\"id\":\"11598\",\"type\":\"Line\"},{\"attributes\":{},\"id\":\"11545\",\"type\":\"WheelZoomTool\"},{\"attributes\":{\"callback\":null,\"data\":{\"x\":[\"2010\",\"2011\",\"2012\",\"2013\",\"2014\",\"2015\",\"2016\",\"2017\"],\"y\":[69.2373146461557,72.29845761573951,78.07440625148908,81.8057026121577,77.51259455033403,81.0061268219742,86.01201643997595,82.38507029320442]},\"selected\":{\"id\":\"11588\",\"type\":\"Selection\"},\"selection_policy\":{\"id\":\"11589\",\"type\":\"UnionRenderers\"}},\"id\":\"11570\",\"type\":\"ColumnDataSource\"},{\"attributes\":{\"data_source\":{\"id\":\"11596\",\"type\":\"ColumnDataSource\"},\"glyph\":{\"id\":\"11597\",\"type\":\"Line\"},\"hover_glyph\":null,\"muted_glyph\":null,\"nonselection_glyph\":{\"id\":\"11598\",\"type\":\"Line\"},\"selection_glyph\":null,\"view\":{\"id\":\"11600\",\"type\":\"CDSView\"}},\"id\":\"11599\",\"type\":\"GlyphRenderer\"},{\"attributes\":{\"overlay\":{\"id\":\"11567\",\"type\":\"BoxAnnotation\"}},\"id\":\"11546\",\"type\":\"BoxZoomTool\"},{\"attributes\":{\"fill_alpha\":{\"value\":0.1},\"fill_color\":{\"value\":\"#1f77b4\"},\"line_alpha\":{\"value\":0.1},\"line_color\":{\"value\":\"#1f77b4\"},\"size\":{\"units\":\"screen\",\"value\":1},\"x\":{\"field\":\"x\"},\"y\":{\"field\":\"y\"}},\"id\":\"11572\",\"type\":\"Circle\"},{\"attributes\":{},\"id\":\"12061\",\"type\":\"UnionRenderers\"},{\"attributes\":{\"data_source\":{\"id\":\"11575\",\"type\":\"ColumnDataSource\"},\"glyph\":{\"id\":\"11576\",\"type\":\"Line\"},\"hover_glyph\":null,\"muted_glyph\":null,\"nonselection_glyph\":{\"id\":\"11577\",\"type\":\"Line\"},\"selection_glyph\":null,\"view\":{\"id\":\"11579\",\"type\":\"CDSView\"}},\"id\":\"11578\",\"type\":\"GlyphRenderer\"},{\"attributes\":{},\"id\":\"11544\",\"type\":\"PanTool\"},{\"attributes\":{\"source\":{\"id\":\"11596\",\"type\":\"ColumnDataSource\"}},\"id\":\"11600\",\"type\":\"CDSView\"},{\"attributes\":{\"data_source\":{\"id\":\"11570\",\"type\":\"ColumnDataSource\"},\"glyph\":{\"id\":\"11571\",\"type\":\"Circle\"},\"hover_glyph\":null,\"muted_glyph\":null,\"nonselection_glyph\":{\"id\":\"11572\",\"type\":\"Circle\"},\"selection_glyph\":null,\"view\":{\"id\":\"11574\",\"type\":\"CDSView\"}},\"id\":\"11573\",\"type\":\"GlyphRenderer\"},{\"attributes\":{},\"id\":\"11549\",\"type\":\"HelpTool\"},{\"attributes\":{},\"id\":\"11613\",\"type\":\"Selection\"},{\"attributes\":{\"active_drag\":\"auto\",\"active_inspect\":\"auto\",\"active_multi\":null,\"active_scroll\":\"auto\",\"active_tap\":\"auto\",\"tools\":[{\"id\":\"11544\",\"type\":\"PanTool\"},{\"id\":\"11545\",\"type\":\"WheelZoomTool\"},{\"id\":\"11546\",\"type\":\"BoxZoomTool\"},{\"id\":\"11547\",\"type\":\"SaveTool\"},{\"id\":\"11548\",\"type\":\"ResetTool\"},{\"id\":\"11549\",\"type\":\"HelpTool\"},{\"id\":\"11621\",\"type\":\"HoverTool\"}]},\"id\":\"11550\",\"type\":\"Toolbar\"},{\"attributes\":{\"label\":{\"value\":\"OECD\"},\"renderers\":[{\"id\":\"11599\",\"type\":\"GlyphRenderer\"}]},\"id\":\"11615\",\"type\":\"LegendItem\"},{\"attributes\":{},\"id\":\"11548\",\"type\":\"ResetTool\"},{\"attributes\":{\"source\":{\"id\":\"11570\",\"type\":\"ColumnDataSource\"}},\"id\":\"11574\",\"type\":\"CDSView\"},{\"attributes\":{\"line_alpha\":0.1,\"line_color\":\"#1f77b4\",\"line_width\":4,\"x\":{\"field\":\"x\"},\"y\":{\"field\":\"y\"}},\"id\":\"11577\",\"type\":\"Line\"},{\"attributes\":{\"source\":{\"id\":\"11575\",\"type\":\"ColumnDataSource\"}},\"id\":\"11579\",\"type\":\"CDSView\"},{\"attributes\":{},\"id\":\"11586\",\"type\":\"Selection\"},{\"attributes\":{},\"id\":\"12063\",\"type\":\"UnionRenderers\"},{\"attributes\":{\"text\":\"Literacy rate, youth total (% of people ages 15-24) weighted against Population, total\"},\"id\":\"11524\",\"type\":\"Title\"},{\"attributes\":{\"label\":{\"value\":\"Developing excluding LDCs\"},\"renderers\":[{\"id\":\"11578\",\"type\":\"GlyphRenderer\"}]},\"id\":\"11590\",\"type\":\"LegendItem\"},{\"attributes\":{\"callback\":null,\"data\":{\"x\":[\"2010\",\"2011\",\"2012\",\"2013\",\"2014\",\"2015\",\"2016\",\"2017\"],\"y\":[96.50415085262814,89.42889728758811,92.57459369827922,91.294425846238,94.29379999548429,99.107942466396,99.22860159362506,92.46225099778181]},\"selected\":{\"id\":\"11611\",\"type\":\"Selection\"},\"selection_policy\":{\"id\":\"11612\",\"type\":\"UnionRenderers\"}},\"id\":\"11575\",\"type\":\"ColumnDataSource\"},{\"attributes\":{},\"id\":\"11612\",\"type\":\"UnionRenderers\"},{\"attributes\":{\"label\":{\"value\":\"LDCs\"},\"renderers\":[{\"id\":\"11560\",\"type\":\"GlyphRenderer\"}]},\"id\":\"11569\",\"type\":\"LegendItem\"},{\"attributes\":{},\"id\":\"11547\",\"type\":\"SaveTool\"},{\"attributes\":{\"line_color\":\"#5430F1\",\"line_width\":4,\"x\":{\"field\":\"x\"},\"y\":{\"field\":\"y\"}},\"id\":\"11576\",\"type\":\"Line\"},{\"attributes\":{},\"id\":\"11587\",\"type\":\"UnionRenderers\"},{\"attributes\":{\"callback\":null,\"tooltips\":\"                \\n        <div style=padding=5px>Year:@x</div>\\n        <div style=padding=5px>Value:@y</div>        \\n        \"},\"id\":\"11621\",\"type\":\"HoverTool\"},{\"attributes\":{},\"id\":\"11611\",\"type\":\"Selection\"},{\"attributes\":{\"callback\":null},\"id\":\"11526\",\"type\":\"DataRange1d\"},{\"attributes\":{},\"id\":\"11588\",\"type\":\"Selection\"},{\"attributes\":{\"dimension\":1,\"grid_line_alpha\":0.5,\"ticker\":{\"id\":\"11540\",\"type\":\"BasicTicker\"}},\"id\":\"11543\",\"type\":\"Grid\"},{\"attributes\":{},\"id\":\"11530\",\"type\":\"LinearScale\"},{\"attributes\":{\"line_alpha\":0.1,\"line_color\":\"#1f77b4\",\"line_width\":4,\"x\":{\"field\":\"x\"},\"y\":{\"field\":\"y\"}},\"id\":\"11559\",\"type\":\"Line\"},{\"attributes\":{},\"id\":\"11614\",\"type\":\"UnionRenderers\"},{\"attributes\":{},\"id\":\"11589\",\"type\":\"UnionRenderers\"},{\"attributes\":{},\"id\":\"11566\",\"type\":\"BasicTickFormatter\"},{\"attributes\":{\"callback\":null},\"id\":\"11528\",\"type\":\"DataRange1d\"},{\"attributes\":{},\"id\":\"11540\",\"type\":\"BasicTicker\"},{\"attributes\":{\"fill_color\":{\"value\":\"#5430F1\"},\"line_color\":{\"value\":\"#5430F1\"},\"size\":{\"units\":\"screen\",\"value\":1},\"x\":{\"field\":\"x\"},\"y\":{\"field\":\"y\"}},\"id\":\"11592\",\"type\":\"Circle\"},{\"attributes\":{\"callback\":null,\"data\":{\"x\":[\"2010\",\"2011\",\"2012\",\"2013\",\"2014\",\"2015\",\"2016\",\"2017\"],\"y\":[98.60126354061576,99.03754266433798,99.07563421003766,98.99061001274666,99.23813510360118,99.26019316389551,99.37193589589631,99.34150004009295]},\"selected\":{\"id\":\"12060\",\"type\":\"Selection\"},\"selection_policy\":{\"id\":\"12061\",\"type\":\"UnionRenderers\"}},\"id\":\"11596\",\"type\":\"ColumnDataSource\"},{\"attributes\":{\"source\":{\"id\":\"11557\",\"type\":\"ColumnDataSource\"}},\"id\":\"11561\",\"type\":\"CDSView\"},{\"attributes\":{\"fill_color\":{\"value\":\"#2CC775\"},\"line_color\":{\"value\":\"#2CC775\"},\"size\":{\"units\":\"screen\",\"value\":1},\"x\":{\"field\":\"x\"},\"y\":{\"field\":\"y\"}},\"id\":\"11617\",\"type\":\"Circle\"},{\"attributes\":{\"data_source\":{\"id\":\"11557\",\"type\":\"ColumnDataSource\"},\"glyph\":{\"id\":\"11558\",\"type\":\"Line\"},\"hover_glyph\":null,\"muted_glyph\":null,\"nonselection_glyph\":{\"id\":\"11559\",\"type\":\"Line\"},\"selection_glyph\":null,\"view\":{\"id\":\"11561\",\"type\":\"CDSView\"}},\"id\":\"11560\",\"type\":\"GlyphRenderer\"},{\"attributes\":{\"fill_color\":{\"value\":\"#FA1857\"},\"line_color\":{\"value\":\"#FA1857\"},\"size\":{\"units\":\"screen\",\"value\":1},\"x\":{\"field\":\"x\"},\"y\":{\"field\":\"y\"}},\"id\":\"11571\",\"type\":\"Circle\"},{\"attributes\":{\"callback\":null,\"data\":{\"x\":[\"2010\",\"2011\",\"2012\",\"2013\",\"2014\",\"2015\",\"2016\",\"2017\"],\"y\":[96.50415085262814,89.42889728758811,92.57459369827922,91.294425846238,94.29379999548429,99.107942466396,99.22860159362506,92.46225099778181]},\"selected\":{\"id\":\"11613\",\"type\":\"Selection\"},\"selection_policy\":{\"id\":\"11614\",\"type\":\"UnionRenderers\"}},\"id\":\"11591\",\"type\":\"ColumnDataSource\"},{\"attributes\":{\"items\":[{\"id\":\"11569\",\"type\":\"LegendItem\"},{\"id\":\"11590\",\"type\":\"LegendItem\"},{\"id\":\"11615\",\"type\":\"LegendItem\"}],\"location\":\"bottom_left\"},\"id\":\"11568\",\"type\":\"Legend\"},{\"attributes\":{},\"id\":\"11564\",\"type\":\"BasicTickFormatter\"},{\"attributes\":{\"fill_alpha\":{\"value\":0.1},\"fill_color\":{\"value\":\"#1f77b4\"},\"line_alpha\":{\"value\":0.1},\"line_color\":{\"value\":\"#1f77b4\"},\"size\":{\"units\":\"screen\",\"value\":1},\"x\":{\"field\":\"x\"},\"y\":{\"field\":\"y\"}},\"id\":\"11593\",\"type\":\"Circle\"},{\"attributes\":{\"fill_alpha\":{\"value\":0.1},\"fill_color\":{\"value\":\"#1f77b4\"},\"line_alpha\":{\"value\":0.1},\"line_color\":{\"value\":\"#1f77b4\"},\"size\":{\"units\":\"screen\",\"value\":1},\"x\":{\"field\":\"x\"},\"y\":{\"field\":\"y\"}},\"id\":\"11618\",\"type\":\"Circle\"},{\"attributes\":{\"axis_label\":\"SE.ADT.1524.LT.ZS\",\"formatter\":{\"id\":\"11566\",\"type\":\"BasicTickFormatter\"},\"ticker\":{\"id\":\"11540\",\"type\":\"BasicTicker\"}},\"id\":\"11539\",\"type\":\"LinearAxis\"},{\"attributes\":{\"callback\":null,\"data\":{\"x\":[\"2010\",\"2011\",\"2012\",\"2013\",\"2014\",\"2015\",\"2016\",\"2017\"],\"y\":[69.2373146461557,72.29845761573951,78.07440625148908,81.8057026121577,77.51259455033403,81.0061268219742,86.01201643997595,82.38507029320442]},\"selected\":{\"id\":\"11586\",\"type\":\"Selection\"},\"selection_policy\":{\"id\":\"11587\",\"type\":\"UnionRenderers\"}},\"id\":\"11557\",\"type\":\"ColumnDataSource\"},{\"attributes\":{\"callback\":null,\"data\":{\"x\":[\"2010\",\"2011\",\"2012\",\"2013\",\"2014\",\"2015\",\"2016\",\"2017\"],\"y\":[98.60126354061576,99.03754266433798,99.07563421003766,98.99061001274666,99.23813510360118,99.26019316389551,99.37193589589631,99.34150004009295]},\"selected\":{\"id\":\"12062\",\"type\":\"Selection\"},\"selection_policy\":{\"id\":\"12063\",\"type\":\"UnionRenderers\"}},\"id\":\"11616\",\"type\":\"ColumnDataSource\"},{\"attributes\":{},\"id\":\"11532\",\"type\":\"LinearScale\"},{\"attributes\":{},\"id\":\"12060\",\"type\":\"Selection\"},{\"attributes\":{\"data_source\":{\"id\":\"11591\",\"type\":\"ColumnDataSource\"},\"glyph\":{\"id\":\"11592\",\"type\":\"Circle\"},\"hover_glyph\":null,\"muted_glyph\":null,\"nonselection_glyph\":{\"id\":\"11593\",\"type\":\"Circle\"},\"selection_glyph\":null,\"view\":{\"id\":\"11595\",\"type\":\"CDSView\"}},\"id\":\"11594\",\"type\":\"GlyphRenderer\"},{\"attributes\":{\"source\":{\"id\":\"11616\",\"type\":\"ColumnDataSource\"}},\"id\":\"11620\",\"type\":\"CDSView\"},{\"attributes\":{\"axis_label\":\"Years\",\"formatter\":{\"id\":\"11564\",\"type\":\"BasicTickFormatter\"},\"ticker\":{\"id\":\"11535\",\"type\":\"BasicTicker\"}},\"id\":\"11534\",\"type\":\"LinearAxis\"},{\"attributes\":{\"line_color\":\"#2CC775\",\"line_width\":4,\"x\":{\"field\":\"x\"},\"y\":{\"field\":\"y\"}},\"id\":\"11597\",\"type\":\"Line\"},{\"attributes\":{\"bottom_units\":\"screen\",\"fill_alpha\":{\"value\":0.5},\"fill_color\":{\"value\":\"lightgrey\"},\"left_units\":\"screen\",\"level\":\"overlay\",\"line_alpha\":{\"value\":1.0},\"line_color\":{\"value\":\"black\"},\"line_dash\":[4,4],\"line_width\":{\"value\":2},\"render_mode\":\"css\",\"right_units\":\"screen\",\"top_units\":\"screen\"},\"id\":\"11567\",\"type\":\"BoxAnnotation\"},{\"attributes\":{\"grid_line_color\":null,\"ticker\":{\"id\":\"11535\",\"type\":\"BasicTicker\"}},\"id\":\"11538\",\"type\":\"Grid\"},{\"attributes\":{\"source\":{\"id\":\"11591\",\"type\":\"ColumnDataSource\"}},\"id\":\"11595\",\"type\":\"CDSView\"},{\"attributes\":{},\"id\":\"11535\",\"type\":\"BasicTicker\"},{\"attributes\":{\"data_source\":{\"id\":\"11616\",\"type\":\"ColumnDataSource\"},\"glyph\":{\"id\":\"11617\",\"type\":\"Circle\"},\"hover_glyph\":null,\"muted_glyph\":null,\"nonselection_glyph\":{\"id\":\"11618\",\"type\":\"Circle\"},\"selection_glyph\":null,\"view\":{\"id\":\"11620\",\"type\":\"CDSView\"}},\"id\":\"11619\",\"type\":\"GlyphRenderer\"}],\"root_ids\":[\"11523\"]},\"title\":\"Bokeh Application\",\"version\":\"1.4.0\"}};\n",
       "  var render_items = [{\"docid\":\"5fa10611-1dff-4f72-b244-6a3bec3e1960\",\"roots\":{\"11523\":\"d21cdb1f-1371-4657-9710-899205cc14f8\"}}];\n",
       "  root.Bokeh.embed.embed_items_notebook(docs_json, render_items);\n",
       "\n",
       "  }\n",
       "  if (root.Bokeh !== undefined) {\n",
       "    embed_document(root);\n",
       "  } else {\n",
       "    var attempts = 0;\n",
       "    var timer = setInterval(function(root) {\n",
       "      if (root.Bokeh !== undefined) {\n",
       "        clearInterval(timer);\n",
       "        embed_document(root);\n",
       "      } else {\n",
       "        attempts++;\n",
       "        if (attempts > 100) {\n",
       "          clearInterval(timer);\n",
       "          console.log(\"Bokeh: ERROR: Unable to run BokehJS code because BokehJS library is missing\");\n",
       "        }\n",
       "      }\n",
       "    }, 10, root)\n",
       "  }\n",
       "})(window);"
      ],
      "application/vnd.bokehjs_exec.v0+json": ""
     },
     "metadata": {
      "application/vnd.bokehjs_exec.v0+json": {
       "id": "11523"
      }
     },
     "output_type": "display_data"
    }
   ],
   "source": [
    "#Literacy rate, youth, total (% of youth 15-24)\n",
    "years = list(map(str, list(range(2010,2018))))\n",
    "result = show_weighted_average(years, 'SE.ADT.1524.LT.ZS', 'SP.POP.TOTL', \n",
    "                               ['LDCs', 'Developing excluding LDCs', 'OECD'], \n",
    "                                height=400, width=1000, line_width=4)"
   ]
  },
  {
   "cell_type": "code",
   "execution_count": 33,
   "metadata": {
    "slideshow": {
     "slide_type": "slide"
    }
   },
   "outputs": [
    {
     "data": {
      "text/html": [
       "\n",
       "\n",
       "\n",
       "\n",
       "\n",
       "\n",
       "  <div class=\"bk-root\" id=\"5e1a481b-8dbb-4cf8-98d7-fb72c2a45a79\" data-root-id=\"12172\"></div>\n"
      ]
     },
     "metadata": {},
     "output_type": "display_data"
    },
    {
     "data": {
      "application/javascript": [
       "(function(root) {\n",
       "  function embed_document(root) {\n",
       "    \n",
       "  var docs_json = {\"79d0b612-3cb7-47aa-bc39-e45f73245718\":{\"roots\":{\"references\":[{\"attributes\":{\"below\":[{\"id\":\"12183\",\"type\":\"LinearAxis\"}],\"center\":[{\"id\":\"12187\",\"type\":\"Grid\"},{\"id\":\"12192\",\"type\":\"Grid\"},{\"id\":\"12217\",\"type\":\"Legend\"}],\"left\":[{\"id\":\"12188\",\"type\":\"LinearAxis\"}],\"plot_height\":400,\"plot_width\":1000,\"renderers\":[{\"id\":\"12209\",\"type\":\"GlyphRenderer\"},{\"id\":\"12222\",\"type\":\"GlyphRenderer\"}],\"title\":{\"id\":\"12173\",\"type\":\"Title\"},\"toolbar\":{\"id\":\"12199\",\"type\":\"Toolbar\"},\"x_range\":{\"id\":\"12175\",\"type\":\"DataRange1d\"},\"x_scale\":{\"id\":\"12179\",\"type\":\"LinearScale\"},\"y_range\":{\"id\":\"12177\",\"type\":\"DataRange1d\"},\"y_scale\":{\"id\":\"12181\",\"type\":\"LinearScale\"}},\"id\":\"12172\",\"subtype\":\"Figure\",\"type\":\"Plot\"},{\"attributes\":{},\"id\":\"12196\",\"type\":\"SaveTool\"},{\"attributes\":{},\"id\":\"12179\",\"type\":\"LinearScale\"},{\"attributes\":{\"callback\":null},\"id\":\"12177\",\"type\":\"DataRange1d\"},{\"attributes\":{},\"id\":\"12197\",\"type\":\"ResetTool\"},{\"attributes\":{\"source\":{\"id\":\"12206\",\"type\":\"ColumnDataSource\"}},\"id\":\"12210\",\"type\":\"CDSView\"},{\"attributes\":{\"axis_label\":\"Years\",\"formatter\":{\"id\":\"12213\",\"type\":\"BasicTickFormatter\"},\"ticker\":{\"id\":\"12184\",\"type\":\"BasicTicker\"}},\"id\":\"12183\",\"type\":\"LinearAxis\"},{\"attributes\":{\"fill_color\":{\"value\":\"#FA1857\"},\"line_color\":{\"value\":\"#FA1857\"},\"size\":{\"units\":\"screen\",\"value\":1},\"x\":{\"field\":\"x\"},\"y\":{\"field\":\"y\"}},\"id\":\"12220\",\"type\":\"Circle\"},{\"attributes\":{},\"id\":\"12198\",\"type\":\"HelpTool\"},{\"attributes\":{},\"id\":\"12184\",\"type\":\"BasicTicker\"},{\"attributes\":{},\"id\":\"12213\",\"type\":\"BasicTickFormatter\"},{\"attributes\":{},\"id\":\"12674\",\"type\":\"UnionRenderers\"},{\"attributes\":{\"dimension\":1,\"grid_line_alpha\":0.5,\"ticker\":{\"id\":\"12189\",\"type\":\"BasicTicker\"}},\"id\":\"12192\",\"type\":\"Grid\"},{\"attributes\":{},\"id\":\"12215\",\"type\":\"BasicTickFormatter\"},{\"attributes\":{\"source\":{\"id\":\"12219\",\"type\":\"ColumnDataSource\"}},\"id\":\"12223\",\"type\":\"CDSView\"},{\"attributes\":{},\"id\":\"12181\",\"type\":\"LinearScale\"},{\"attributes\":{\"callback\":null,\"data\":{\"x\":[\"2011\",\"2012\",\"2013\",\"2014\",\"2015\",\"2016\",\"2017\"],\"y\":[22.196484798594305,16.63124145427354,14.405234475255297,16.370937711552916,18.649822551545157,28.93374675550048,29.34753578925073]},\"selected\":{\"id\":\"12673\",\"type\":\"Selection\"},\"selection_policy\":{\"id\":\"12674\",\"type\":\"UnionRenderers\"}},\"id\":\"12206\",\"type\":\"ColumnDataSource\"},{\"attributes\":{},\"id\":\"12189\",\"type\":\"BasicTicker\"},{\"attributes\":{\"items\":[{\"id\":\"12218\",\"type\":\"LegendItem\"}],\"location\":\"bottom_left\"},\"id\":\"12217\",\"type\":\"Legend\"},{\"attributes\":{},\"id\":\"12673\",\"type\":\"Selection\"},{\"attributes\":{\"axis_label\":\"SL.UEM.NEET.ZS\",\"formatter\":{\"id\":\"12215\",\"type\":\"BasicTickFormatter\"},\"ticker\":{\"id\":\"12189\",\"type\":\"BasicTicker\"}},\"id\":\"12188\",\"type\":\"LinearAxis\"},{\"attributes\":{},\"id\":\"12675\",\"type\":\"Selection\"},{\"attributes\":{\"grid_line_color\":null,\"ticker\":{\"id\":\"12184\",\"type\":\"BasicTicker\"}},\"id\":\"12187\",\"type\":\"Grid\"},{\"attributes\":{\"line_color\":\"#FA1857\",\"line_width\":4,\"x\":{\"field\":\"x\"},\"y\":{\"field\":\"y\"}},\"id\":\"12207\",\"type\":\"Line\"},{\"attributes\":{\"label\":{\"value\":\"LDCs\"},\"renderers\":[{\"id\":\"12209\",\"type\":\"GlyphRenderer\"}]},\"id\":\"12218\",\"type\":\"LegendItem\"},{\"attributes\":{\"active_drag\":\"auto\",\"active_inspect\":\"auto\",\"active_multi\":null,\"active_scroll\":\"auto\",\"active_tap\":\"auto\",\"tools\":[{\"id\":\"12193\",\"type\":\"PanTool\"},{\"id\":\"12194\",\"type\":\"WheelZoomTool\"},{\"id\":\"12195\",\"type\":\"BoxZoomTool\"},{\"id\":\"12196\",\"type\":\"SaveTool\"},{\"id\":\"12197\",\"type\":\"ResetTool\"},{\"id\":\"12198\",\"type\":\"HelpTool\"},{\"id\":\"12224\",\"type\":\"HoverTool\"}]},\"id\":\"12199\",\"type\":\"Toolbar\"},{\"attributes\":{\"bottom_units\":\"screen\",\"fill_alpha\":{\"value\":0.5},\"fill_color\":{\"value\":\"lightgrey\"},\"left_units\":\"screen\",\"level\":\"overlay\",\"line_alpha\":{\"value\":1.0},\"line_color\":{\"value\":\"black\"},\"line_dash\":[4,4],\"line_width\":{\"value\":2},\"render_mode\":\"css\",\"right_units\":\"screen\",\"top_units\":\"screen\"},\"id\":\"12216\",\"type\":\"BoxAnnotation\"},{\"attributes\":{\"line_alpha\":0.1,\"line_color\":\"#1f77b4\",\"line_width\":4,\"x\":{\"field\":\"x\"},\"y\":{\"field\":\"y\"}},\"id\":\"12208\",\"type\":\"Line\"},{\"attributes\":{\"callback\":null,\"data\":{\"x\":[\"2011\",\"2012\",\"2013\",\"2014\",\"2015\",\"2016\",\"2017\"],\"y\":[22.196484798594305,16.63124145427354,14.405234475255297,16.370937711552916,18.649822551545157,28.93374675550048,29.34753578925073]},\"selected\":{\"id\":\"12675\",\"type\":\"Selection\"},\"selection_policy\":{\"id\":\"12676\",\"type\":\"UnionRenderers\"}},\"id\":\"12219\",\"type\":\"ColumnDataSource\"},{\"attributes\":{},\"id\":\"12676\",\"type\":\"UnionRenderers\"},{\"attributes\":{\"data_source\":{\"id\":\"12219\",\"type\":\"ColumnDataSource\"},\"glyph\":{\"id\":\"12220\",\"type\":\"Circle\"},\"hover_glyph\":null,\"muted_glyph\":null,\"nonselection_glyph\":{\"id\":\"12221\",\"type\":\"Circle\"},\"selection_glyph\":null,\"view\":{\"id\":\"12223\",\"type\":\"CDSView\"}},\"id\":\"12222\",\"type\":\"GlyphRenderer\"},{\"attributes\":{\"overlay\":{\"id\":\"12216\",\"type\":\"BoxAnnotation\"}},\"id\":\"12195\",\"type\":\"BoxZoomTool\"},{\"attributes\":{},\"id\":\"12193\",\"type\":\"PanTool\"},{\"attributes\":{\"fill_alpha\":{\"value\":0.1},\"fill_color\":{\"value\":\"#1f77b4\"},\"line_alpha\":{\"value\":0.1},\"line_color\":{\"value\":\"#1f77b4\"},\"size\":{\"units\":\"screen\",\"value\":1},\"x\":{\"field\":\"x\"},\"y\":{\"field\":\"y\"}},\"id\":\"12221\",\"type\":\"Circle\"},{\"attributes\":{\"text\":\"Share of youth not in education, employment or training, total (% of youth population) weighted against Population, total\"},\"id\":\"12173\",\"type\":\"Title\"},{\"attributes\":{},\"id\":\"12194\",\"type\":\"WheelZoomTool\"},{\"attributes\":{\"data_source\":{\"id\":\"12206\",\"type\":\"ColumnDataSource\"},\"glyph\":{\"id\":\"12207\",\"type\":\"Line\"},\"hover_glyph\":null,\"muted_glyph\":null,\"nonselection_glyph\":{\"id\":\"12208\",\"type\":\"Line\"},\"selection_glyph\":null,\"view\":{\"id\":\"12210\",\"type\":\"CDSView\"}},\"id\":\"12209\",\"type\":\"GlyphRenderer\"},{\"attributes\":{\"callback\":null,\"tooltips\":\"                \\n        <div style=padding=5px>Year:@x</div>\\n        <div style=padding=5px>Value:@y</div>        \\n        \"},\"id\":\"12224\",\"type\":\"HoverTool\"},{\"attributes\":{\"callback\":null},\"id\":\"12175\",\"type\":\"DataRange1d\"}],\"root_ids\":[\"12172\"]},\"title\":\"Bokeh Application\",\"version\":\"1.4.0\"}};\n",
       "  var render_items = [{\"docid\":\"79d0b612-3cb7-47aa-bc39-e45f73245718\",\"roots\":{\"12172\":\"5e1a481b-8dbb-4cf8-98d7-fb72c2a45a79\"}}];\n",
       "  root.Bokeh.embed.embed_items_notebook(docs_json, render_items);\n",
       "\n",
       "  }\n",
       "  if (root.Bokeh !== undefined) {\n",
       "    embed_document(root);\n",
       "  } else {\n",
       "    var attempts = 0;\n",
       "    var timer = setInterval(function(root) {\n",
       "      if (root.Bokeh !== undefined) {\n",
       "        clearInterval(timer);\n",
       "        embed_document(root);\n",
       "      } else {\n",
       "        attempts++;\n",
       "        if (attempts > 100) {\n",
       "          clearInterval(timer);\n",
       "          console.log(\"Bokeh: ERROR: Unable to run BokehJS code because BokehJS library is missing\");\n",
       "        }\n",
       "      }\n",
       "    }, 10, root)\n",
       "  }\n",
       "})(window);"
      ],
      "application/vnd.bokehjs_exec.v0+json": ""
     },
     "metadata": {
      "application/vnd.bokehjs_exec.v0+json": {
       "id": "12172"
      }
     },
     "output_type": "display_data"
    }
   ],
   "source": [
    "# Literacy rate, youth, total (% of youth 15-24)\n",
    "years = list(map(str, list(range(2011,2018))))\n",
    "result = show_weighted_average(years, 'SL.UEM.NEET.ZS', 'SP.POP.TOTL', \n",
    "                               ['LDCs'], \n",
    "                                height=400, width=1000, line_width=4)"
   ]
  },
  {
   "cell_type": "markdown",
   "metadata": {
    "slideshow": {
     "slide_type": "slide"
    }
   },
   "source": [
    "# Support training to provide quality education\n",
    "\n",
    "\n",
    "# Unemployment rate is substantially higher for youth population\n",
    "\n",
    "\n",
    "# Underemployment and vulnerable employment particularly affect the youth and in many countries has a gender dimension\n",
    "\n",
    "\n",
    "# Promote employment opportunities for the youth"
   ]
  },
  {
   "cell_type": "markdown",
   "metadata": {
    "slideshow": {
     "slide_type": "slide"
    }
   },
   "source": [
    "# Shelter"
   ]
  },
  {
   "cell_type": "code",
   "execution_count": 34,
   "metadata": {
    "ExecuteTime": {
     "end_time": "2019-10-25T14:25:51.766648Z",
     "start_time": "2019-10-25T14:25:50.523438Z"
    },
    "slideshow": {
     "slide_type": "slide"
    }
   },
   "outputs": [
    {
     "data": {
      "text/html": [
       "\n",
       "\n",
       "\n",
       "\n",
       "\n",
       "\n",
       "  <div class=\"bk-root\" id=\"227e4fe3-593f-4603-a127-71d187c84377\" data-root-id=\"12737\"></div>\n"
      ]
     },
     "metadata": {},
     "output_type": "display_data"
    },
    {
     "data": {
      "application/javascript": [
       "(function(root) {\n",
       "  function embed_document(root) {\n",
       "    \n",
       "  var docs_json = {\"19234885-1720-4d8c-83cb-748f5407dd05\":{\"roots\":{\"references\":[{\"attributes\":{\"below\":[{\"id\":\"12748\",\"type\":\"LinearAxis\"}],\"center\":[{\"id\":\"12752\",\"type\":\"Grid\"},{\"id\":\"12757\",\"type\":\"Grid\"},{\"id\":\"12782\",\"type\":\"Legend\"}],\"left\":[{\"id\":\"12753\",\"type\":\"LinearAxis\"}],\"plot_height\":400,\"plot_width\":1000,\"renderers\":[{\"id\":\"12774\",\"type\":\"GlyphRenderer\"},{\"id\":\"12787\",\"type\":\"GlyphRenderer\"},{\"id\":\"12792\",\"type\":\"GlyphRenderer\"},{\"id\":\"12808\",\"type\":\"GlyphRenderer\"},{\"id\":\"12813\",\"type\":\"GlyphRenderer\"},{\"id\":\"12833\",\"type\":\"GlyphRenderer\"}],\"title\":{\"id\":\"12738\",\"type\":\"Title\"},\"toolbar\":{\"id\":\"12764\",\"type\":\"Toolbar\"},\"x_range\":{\"id\":\"12740\",\"type\":\"DataRange1d\"},\"x_scale\":{\"id\":\"12744\",\"type\":\"LinearScale\"},\"y_range\":{\"id\":\"12742\",\"type\":\"DataRange1d\"},\"y_scale\":{\"id\":\"12746\",\"type\":\"LinearScale\"}},\"id\":\"12737\",\"subtype\":\"Figure\",\"type\":\"Plot\"},{\"attributes\":{\"active_drag\":\"auto\",\"active_inspect\":\"auto\",\"active_multi\":null,\"active_scroll\":\"auto\",\"active_tap\":\"auto\",\"tools\":[{\"id\":\"12758\",\"type\":\"PanTool\"},{\"id\":\"12759\",\"type\":\"WheelZoomTool\"},{\"id\":\"12760\",\"type\":\"BoxZoomTool\"},{\"id\":\"12761\",\"type\":\"SaveTool\"},{\"id\":\"12762\",\"type\":\"ResetTool\"},{\"id\":\"12763\",\"type\":\"HelpTool\"},{\"id\":\"12835\",\"type\":\"HoverTool\"}]},\"id\":\"12764\",\"type\":\"Toolbar\"},{\"attributes\":{},\"id\":\"12758\",\"type\":\"PanTool\"},{\"attributes\":{\"fill_alpha\":{\"value\":0.1},\"fill_color\":{\"value\":\"#1f77b4\"},\"line_alpha\":{\"value\":0.1},\"line_color\":{\"value\":\"#1f77b4\"},\"size\":{\"units\":\"screen\",\"value\":1},\"x\":{\"field\":\"x\"},\"y\":{\"field\":\"y\"}},\"id\":\"12807\",\"type\":\"Circle\"},{\"attributes\":{\"callback\":null,\"data\":{\"x\":[\"2000\",\"2005\",\"2007\",\"2009\",\"2014\"],\"y\":[19.186981494515138,14.221528307791516,14.290817645409502,13.0,11.398005045670415]},\"selected\":{\"id\":\"13304\",\"type\":\"Selection\"},\"selection_policy\":{\"id\":\"13305\",\"type\":\"UnionRenderers\"}},\"id\":\"12830\",\"type\":\"ColumnDataSource\"},{\"attributes\":{\"data_source\":{\"id\":\"12805\",\"type\":\"ColumnDataSource\"},\"glyph\":{\"id\":\"12806\",\"type\":\"Circle\"},\"hover_glyph\":null,\"muted_glyph\":null,\"nonselection_glyph\":{\"id\":\"12807\",\"type\":\"Circle\"},\"selection_glyph\":null,\"view\":{\"id\":\"12809\",\"type\":\"CDSView\"}},\"id\":\"12808\",\"type\":\"GlyphRenderer\"},{\"attributes\":{\"line_alpha\":0.1,\"line_color\":\"#1f77b4\",\"line_width\":4,\"x\":{\"field\":\"x\"},\"y\":{\"field\":\"y\"}},\"id\":\"12773\",\"type\":\"Line\"},{\"attributes\":{\"fill_color\":{\"value\":\"#FA1857\"},\"line_color\":{\"value\":\"#FA1857\"},\"size\":{\"units\":\"screen\",\"value\":1},\"x\":{\"field\":\"x\"},\"y\":{\"field\":\"y\"}},\"id\":\"12785\",\"type\":\"Circle\"},{\"attributes\":{\"source\":{\"id\":\"12830\",\"type\":\"ColumnDataSource\"}},\"id\":\"12834\",\"type\":\"CDSView\"},{\"attributes\":{},\"id\":\"12828\",\"type\":\"UnionRenderers\"},{\"attributes\":{\"data_source\":{\"id\":\"12771\",\"type\":\"ColumnDataSource\"},\"glyph\":{\"id\":\"12772\",\"type\":\"Line\"},\"hover_glyph\":null,\"muted_glyph\":null,\"nonselection_glyph\":{\"id\":\"12773\",\"type\":\"Line\"},\"selection_glyph\":null,\"view\":{\"id\":\"12775\",\"type\":\"CDSView\"}},\"id\":\"12774\",\"type\":\"GlyphRenderer\"},{\"attributes\":{\"data_source\":{\"id\":\"12830\",\"type\":\"ColumnDataSource\"},\"glyph\":{\"id\":\"12831\",\"type\":\"Circle\"},\"hover_glyph\":null,\"muted_glyph\":null,\"nonselection_glyph\":{\"id\":\"12832\",\"type\":\"Circle\"},\"selection_glyph\":null,\"view\":{\"id\":\"12834\",\"type\":\"CDSView\"}},\"id\":\"12833\",\"type\":\"GlyphRenderer\"},{\"attributes\":{\"callback\":null,\"tooltips\":\"                \\n        <div style=padding=5px>Year:@x</div>\\n        <div style=padding=5px>Value:@y</div>        \\n        \"},\"id\":\"12835\",\"type\":\"HoverTool\"},{\"attributes\":{\"fill_color\":{\"value\":\"#2CC775\"},\"line_color\":{\"value\":\"#2CC775\"},\"size\":{\"units\":\"screen\",\"value\":1},\"x\":{\"field\":\"x\"},\"y\":{\"field\":\"y\"}},\"id\":\"12831\",\"type\":\"Circle\"},{\"attributes\":{},\"id\":\"12800\",\"type\":\"Selection\"},{\"attributes\":{},\"id\":\"12778\",\"type\":\"BasicTickFormatter\"},{\"attributes\":{\"fill_color\":{\"value\":\"#5430F1\"},\"line_color\":{\"value\":\"#5430F1\"},\"size\":{\"units\":\"screen\",\"value\":1},\"x\":{\"field\":\"x\"},\"y\":{\"field\":\"y\"}},\"id\":\"12806\",\"type\":\"Circle\"},{\"attributes\":{},\"id\":\"12826\",\"type\":\"UnionRenderers\"},{\"attributes\":{},\"id\":\"13302\",\"type\":\"Selection\"},{\"attributes\":{\"label\":{\"value\":\"OECD\"},\"renderers\":[{\"id\":\"12813\",\"type\":\"GlyphRenderer\"}]},\"id\":\"12829\",\"type\":\"LegendItem\"},{\"attributes\":{\"callback\":null,\"data\":{\"x\":[\"2000\",\"2005\",\"2007\",\"2009\",\"2014\"],\"y\":[75.33747542942652,69.6201732119946,67.93590338091548,65.70655306857522,62.3851831063759]},\"selected\":{\"id\":\"12800\",\"type\":\"Selection\"},\"selection_policy\":{\"id\":\"12801\",\"type\":\"UnionRenderers\"}},\"id\":\"12771\",\"type\":\"ColumnDataSource\"},{\"attributes\":{},\"id\":\"12749\",\"type\":\"BasicTicker\"},{\"attributes\":{},\"id\":\"12803\",\"type\":\"UnionRenderers\"},{\"attributes\":{},\"id\":\"12825\",\"type\":\"Selection\"},{\"attributes\":{\"text\":\"Population living in slums (% of urban population) weighted against Urban population\"},\"id\":\"12738\",\"type\":\"Title\"},{\"attributes\":{\"line_color\":\"#FA1857\",\"line_width\":4,\"x\":{\"field\":\"x\"},\"y\":{\"field\":\"y\"}},\"id\":\"12772\",\"type\":\"Line\"},{\"attributes\":{\"line_alpha\":0.1,\"line_color\":\"#1f77b4\",\"line_width\":4,\"x\":{\"field\":\"x\"},\"y\":{\"field\":\"y\"}},\"id\":\"12791\",\"type\":\"Line\"},{\"attributes\":{\"line_alpha\":0.1,\"line_color\":\"#1f77b4\",\"line_width\":4,\"x\":{\"field\":\"x\"},\"y\":{\"field\":\"y\"}},\"id\":\"12812\",\"type\":\"Line\"},{\"attributes\":{\"grid_line_color\":null,\"ticker\":{\"id\":\"12749\",\"type\":\"BasicTicker\"}},\"id\":\"12752\",\"type\":\"Grid\"},{\"attributes\":{\"source\":{\"id\":\"12771\",\"type\":\"ColumnDataSource\"}},\"id\":\"12775\",\"type\":\"CDSView\"},{\"attributes\":{},\"id\":\"12801\",\"type\":\"UnionRenderers\"},{\"attributes\":{},\"id\":\"12827\",\"type\":\"Selection\"},{\"attributes\":{\"data_source\":{\"id\":\"12810\",\"type\":\"ColumnDataSource\"},\"glyph\":{\"id\":\"12811\",\"type\":\"Line\"},\"hover_glyph\":null,\"muted_glyph\":null,\"nonselection_glyph\":{\"id\":\"12812\",\"type\":\"Line\"},\"selection_glyph\":null,\"view\":{\"id\":\"12814\",\"type\":\"CDSView\"}},\"id\":\"12813\",\"type\":\"GlyphRenderer\"},{\"attributes\":{\"label\":{\"value\":\"Developing excluding LDCs\"},\"renderers\":[{\"id\":\"12792\",\"type\":\"GlyphRenderer\"}]},\"id\":\"12804\",\"type\":\"LegendItem\"},{\"attributes\":{},\"id\":\"12780\",\"type\":\"BasicTickFormatter\"},{\"attributes\":{},\"id\":\"12754\",\"type\":\"BasicTicker\"},{\"attributes\":{},\"id\":\"12802\",\"type\":\"Selection\"},{\"attributes\":{\"callback\":null,\"data\":{\"x\":[\"2000\",\"2005\",\"2007\",\"2009\",\"2014\"],\"y\":[75.33747542942652,69.6201732119946,67.93590338091548,65.70655306857522,62.3851831063759]},\"selected\":{\"id\":\"12802\",\"type\":\"Selection\"},\"selection_policy\":{\"id\":\"12803\",\"type\":\"UnionRenderers\"}},\"id\":\"12784\",\"type\":\"ColumnDataSource\"},{\"attributes\":{},\"id\":\"12762\",\"type\":\"ResetTool\"},{\"attributes\":{\"fill_alpha\":{\"value\":0.1},\"fill_color\":{\"value\":\"#1f77b4\"},\"line_alpha\":{\"value\":0.1},\"line_color\":{\"value\":\"#1f77b4\"},\"size\":{\"units\":\"screen\",\"value\":1},\"x\":{\"field\":\"x\"},\"y\":{\"field\":\"y\"}},\"id\":\"12832\",\"type\":\"Circle\"},{\"attributes\":{\"dimension\":1,\"grid_line_alpha\":0.5,\"ticker\":{\"id\":\"12754\",\"type\":\"BasicTicker\"}},\"id\":\"12757\",\"type\":\"Grid\"},{\"attributes\":{\"callback\":null},\"id\":\"12740\",\"type\":\"DataRange1d\"},{\"attributes\":{\"source\":{\"id\":\"12789\",\"type\":\"ColumnDataSource\"}},\"id\":\"12793\",\"type\":\"CDSView\"},{\"attributes\":{\"line_color\":\"#2CC775\",\"line_width\":4,\"x\":{\"field\":\"x\"},\"y\":{\"field\":\"y\"}},\"id\":\"12811\",\"type\":\"Line\"},{\"attributes\":{},\"id\":\"12746\",\"type\":\"LinearScale\"},{\"attributes\":{\"source\":{\"id\":\"12810\",\"type\":\"ColumnDataSource\"}},\"id\":\"12814\",\"type\":\"CDSView\"},{\"attributes\":{\"axis_label\":\"Years\",\"formatter\":{\"id\":\"12778\",\"type\":\"BasicTickFormatter\"},\"ticker\":{\"id\":\"12749\",\"type\":\"BasicTicker\"}},\"id\":\"12748\",\"type\":\"LinearAxis\"},{\"attributes\":{\"data_source\":{\"id\":\"12789\",\"type\":\"ColumnDataSource\"},\"glyph\":{\"id\":\"12790\",\"type\":\"Line\"},\"hover_glyph\":null,\"muted_glyph\":null,\"nonselection_glyph\":{\"id\":\"12791\",\"type\":\"Line\"},\"selection_glyph\":null,\"view\":{\"id\":\"12793\",\"type\":\"CDSView\"}},\"id\":\"12792\",\"type\":\"GlyphRenderer\"},{\"attributes\":{\"label\":{\"value\":\"LDCs\"},\"renderers\":[{\"id\":\"12774\",\"type\":\"GlyphRenderer\"}]},\"id\":\"12783\",\"type\":\"LegendItem\"},{\"attributes\":{\"callback\":null,\"data\":{\"x\":[\"2000\",\"2005\",\"2007\",\"2009\",\"2014\"],\"y\":[37.12593509389958,32.316430637513314,30.981376218825975,30.14981039905175,25.693627611759997]},\"selected\":{\"id\":\"12825\",\"type\":\"Selection\"},\"selection_policy\":{\"id\":\"12826\",\"type\":\"UnionRenderers\"}},\"id\":\"12789\",\"type\":\"ColumnDataSource\"},{\"attributes\":{},\"id\":\"13303\",\"type\":\"UnionRenderers\"},{\"attributes\":{},\"id\":\"12744\",\"type\":\"LinearScale\"},{\"attributes\":{},\"id\":\"12759\",\"type\":\"WheelZoomTool\"},{\"attributes\":{\"line_color\":\"#5430F1\",\"line_width\":4,\"x\":{\"field\":\"x\"},\"y\":{\"field\":\"y\"}},\"id\":\"12790\",\"type\":\"Line\"},{\"attributes\":{},\"id\":\"13304\",\"type\":\"Selection\"},{\"attributes\":{\"axis_label\":\"EN.POP.SLUM.UR.ZS\",\"formatter\":{\"id\":\"12780\",\"type\":\"BasicTickFormatter\"},\"ticker\":{\"id\":\"12754\",\"type\":\"BasicTicker\"}},\"id\":\"12753\",\"type\":\"LinearAxis\"},{\"attributes\":{\"overlay\":{\"id\":\"12781\",\"type\":\"BoxAnnotation\"}},\"id\":\"12760\",\"type\":\"BoxZoomTool\"},{\"attributes\":{\"source\":{\"id\":\"12784\",\"type\":\"ColumnDataSource\"}},\"id\":\"12788\",\"type\":\"CDSView\"},{\"attributes\":{\"callback\":null,\"data\":{\"x\":[\"2000\",\"2005\",\"2007\",\"2009\",\"2014\"],\"y\":[37.12593509389958,32.316430637513314,30.981376218825975,30.14981039905175,25.693627611759997]},\"selected\":{\"id\":\"12827\",\"type\":\"Selection\"},\"selection_policy\":{\"id\":\"12828\",\"type\":\"UnionRenderers\"}},\"id\":\"12805\",\"type\":\"ColumnDataSource\"},{\"attributes\":{\"callback\":null},\"id\":\"12742\",\"type\":\"DataRange1d\"},{\"attributes\":{\"data_source\":{\"id\":\"12784\",\"type\":\"ColumnDataSource\"},\"glyph\":{\"id\":\"12785\",\"type\":\"Circle\"},\"hover_glyph\":null,\"muted_glyph\":null,\"nonselection_glyph\":{\"id\":\"12786\",\"type\":\"Circle\"},\"selection_glyph\":null,\"view\":{\"id\":\"12788\",\"type\":\"CDSView\"}},\"id\":\"12787\",\"type\":\"GlyphRenderer\"},{\"attributes\":{},\"id\":\"12761\",\"type\":\"SaveTool\"},{\"attributes\":{},\"id\":\"12763\",\"type\":\"HelpTool\"},{\"attributes\":{\"callback\":null,\"data\":{\"x\":[\"2000\",\"2005\",\"2007\",\"2009\",\"2014\"],\"y\":[19.186981494515138,14.221528307791516,14.290817645409502,13.0,11.398005045670415]},\"selected\":{\"id\":\"13302\",\"type\":\"Selection\"},\"selection_policy\":{\"id\":\"13303\",\"type\":\"UnionRenderers\"}},\"id\":\"12810\",\"type\":\"ColumnDataSource\"},{\"attributes\":{},\"id\":\"13305\",\"type\":\"UnionRenderers\"},{\"attributes\":{\"items\":[{\"id\":\"12783\",\"type\":\"LegendItem\"},{\"id\":\"12804\",\"type\":\"LegendItem\"},{\"id\":\"12829\",\"type\":\"LegendItem\"}],\"location\":\"bottom_left\"},\"id\":\"12782\",\"type\":\"Legend\"},{\"attributes\":{\"fill_alpha\":{\"value\":0.1},\"fill_color\":{\"value\":\"#1f77b4\"},\"line_alpha\":{\"value\":0.1},\"line_color\":{\"value\":\"#1f77b4\"},\"size\":{\"units\":\"screen\",\"value\":1},\"x\":{\"field\":\"x\"},\"y\":{\"field\":\"y\"}},\"id\":\"12786\",\"type\":\"Circle\"},{\"attributes\":{\"bottom_units\":\"screen\",\"fill_alpha\":{\"value\":0.5},\"fill_color\":{\"value\":\"lightgrey\"},\"left_units\":\"screen\",\"level\":\"overlay\",\"line_alpha\":{\"value\":1.0},\"line_color\":{\"value\":\"black\"},\"line_dash\":[4,4],\"line_width\":{\"value\":2},\"render_mode\":\"css\",\"right_units\":\"screen\",\"top_units\":\"screen\"},\"id\":\"12781\",\"type\":\"BoxAnnotation\"},{\"attributes\":{\"source\":{\"id\":\"12805\",\"type\":\"ColumnDataSource\"}},\"id\":\"12809\",\"type\":\"CDSView\"}],\"root_ids\":[\"12737\"]},\"title\":\"Bokeh Application\",\"version\":\"1.4.0\"}};\n",
       "  var render_items = [{\"docid\":\"19234885-1720-4d8c-83cb-748f5407dd05\",\"roots\":{\"12737\":\"227e4fe3-593f-4603-a127-71d187c84377\"}}];\n",
       "  root.Bokeh.embed.embed_items_notebook(docs_json, render_items);\n",
       "\n",
       "  }\n",
       "  if (root.Bokeh !== undefined) {\n",
       "    embed_document(root);\n",
       "  } else {\n",
       "    var attempts = 0;\n",
       "    var timer = setInterval(function(root) {\n",
       "      if (root.Bokeh !== undefined) {\n",
       "        clearInterval(timer);\n",
       "        embed_document(root);\n",
       "      } else {\n",
       "        attempts++;\n",
       "        if (attempts > 100) {\n",
       "          clearInterval(timer);\n",
       "          console.log(\"Bokeh: ERROR: Unable to run BokehJS code because BokehJS library is missing\");\n",
       "        }\n",
       "      }\n",
       "    }, 10, root)\n",
       "  }\n",
       "})(window);"
      ],
      "application/vnd.bokehjs_exec.v0+json": ""
     },
     "metadata": {
      "application/vnd.bokehjs_exec.v0+json": {
       "id": "12737"
      }
     },
     "output_type": "display_data"
    }
   ],
   "source": [
    "# Percentage of urban population living in slums\n",
    "years = ['2000', '2005', '2007', '2009', '2014']\n",
    "result = show_weighted_average(years, 'EN.POP.SLUM.UR.ZS', 'SP.URB.TOTL', \n",
    "                               ['LDCs', 'Developing excluding LDCs', 'OECD'], \n",
    "                                height=400, width=1000, line_width=4)"
   ]
  },
  {
   "cell_type": "code",
   "execution_count": 35,
   "metadata": {
    "ExecuteTime": {
     "end_time": "2019-10-25T14:32:38.578383Z",
     "start_time": "2019-10-25T14:31:44.564667Z"
    },
    "slideshow": {
     "slide_type": "slide"
    }
   },
   "outputs": [
    {
     "data": {
      "text/html": [
       "\n",
       "\n",
       "\n",
       "\n",
       "\n",
       "\n",
       "  <div class=\"bk-root\" id=\"c21eb777-2d77-405b-80cf-ef69ad8b5792\" data-root-id=\"13414\"></div>\n"
      ]
     },
     "metadata": {},
     "output_type": "display_data"
    },
    {
     "data": {
      "application/javascript": [
       "(function(root) {\n",
       "  function embed_document(root) {\n",
       "    \n",
       "  var docs_json = {\"3b0fd990-e01f-472f-88a0-38b06a38f0e7\":{\"roots\":{\"references\":[{\"attributes\":{\"below\":[{\"id\":\"13425\",\"type\":\"LinearAxis\"}],\"center\":[{\"id\":\"13429\",\"type\":\"Grid\"},{\"id\":\"13434\",\"type\":\"Grid\"},{\"id\":\"13459\",\"type\":\"Legend\"}],\"left\":[{\"id\":\"13430\",\"type\":\"LinearAxis\"}],\"plot_height\":400,\"plot_width\":1000,\"renderers\":[{\"id\":\"13451\",\"type\":\"GlyphRenderer\"},{\"id\":\"13464\",\"type\":\"GlyphRenderer\"},{\"id\":\"13469\",\"type\":\"GlyphRenderer\"},{\"id\":\"13485\",\"type\":\"GlyphRenderer\"},{\"id\":\"13490\",\"type\":\"GlyphRenderer\"},{\"id\":\"13510\",\"type\":\"GlyphRenderer\"}],\"title\":{\"id\":\"13415\",\"type\":\"Title\"},\"toolbar\":{\"id\":\"13441\",\"type\":\"Toolbar\"},\"x_range\":{\"id\":\"13417\",\"type\":\"DataRange1d\"},\"x_scale\":{\"id\":\"13421\",\"type\":\"LinearScale\"},\"y_range\":{\"id\":\"13419\",\"type\":\"DataRange1d\"},\"y_scale\":{\"id\":\"13423\",\"type\":\"LinearScale\"}},\"id\":\"13414\",\"subtype\":\"Figure\",\"type\":\"Plot\"},{\"attributes\":{\"bottom_units\":\"screen\",\"fill_alpha\":{\"value\":0.5},\"fill_color\":{\"value\":\"lightgrey\"},\"left_units\":\"screen\",\"level\":\"overlay\",\"line_alpha\":{\"value\":1.0},\"line_color\":{\"value\":\"black\"},\"line_dash\":[4,4],\"line_width\":{\"value\":2},\"render_mode\":\"css\",\"right_units\":\"screen\",\"top_units\":\"screen\"},\"id\":\"13458\",\"type\":\"BoxAnnotation\"},{\"attributes\":{\"data_source\":{\"id\":\"13466\",\"type\":\"ColumnDataSource\"},\"glyph\":{\"id\":\"13467\",\"type\":\"Line\"},\"hover_glyph\":null,\"muted_glyph\":null,\"nonselection_glyph\":{\"id\":\"13468\",\"type\":\"Line\"},\"selection_glyph\":null,\"view\":{\"id\":\"13470\",\"type\":\"CDSView\"}},\"id\":\"13469\",\"type\":\"GlyphRenderer\"},{\"attributes\":{},\"id\":\"13423\",\"type\":\"LinearScale\"},{\"attributes\":{\"data_source\":{\"id\":\"13482\",\"type\":\"ColumnDataSource\"},\"glyph\":{\"id\":\"13483\",\"type\":\"Circle\"},\"hover_glyph\":null,\"muted_glyph\":null,\"nonselection_glyph\":{\"id\":\"13484\",\"type\":\"Circle\"},\"selection_glyph\":null,\"view\":{\"id\":\"13486\",\"type\":\"CDSView\"}},\"id\":\"13485\",\"type\":\"GlyphRenderer\"},{\"attributes\":{\"overlay\":{\"id\":\"13458\",\"type\":\"BoxAnnotation\"}},\"id\":\"13437\",\"type\":\"BoxZoomTool\"},{\"attributes\":{},\"id\":\"13505\",\"type\":\"UnionRenderers\"},{\"attributes\":{\"callback\":null},\"id\":\"13419\",\"type\":\"DataRange1d\"},{\"attributes\":{\"line_alpha\":0.1,\"line_color\":\"#1f77b4\",\"line_width\":4,\"x\":{\"field\":\"x\"},\"y\":{\"field\":\"y\"}},\"id\":\"13468\",\"type\":\"Line\"},{\"attributes\":{\"callback\":null,\"data\":{\"x\":[\"1960\",\"1961\",\"1962\",\"1963\",\"1964\",\"1965\",\"1966\",\"1967\",\"1968\",\"1969\",\"1970\",\"1971\",\"1972\",\"1973\",\"1974\",\"1975\",\"1976\",\"1977\",\"1978\",\"1979\",\"1980\",\"1981\",\"1982\",\"1983\",\"1984\",\"1985\",\"1986\",\"1987\",\"1988\",\"1989\",\"1990\",\"1991\",\"1992\",\"1993\",\"1994\",\"1995\",\"1996\",\"1997\",\"1998\",\"1999\",\"2000\",\"2001\",\"2002\",\"2003\",\"2004\",\"2005\",\"2006\",\"2007\",\"2008\",\"2009\",\"2010\",\"2011\",\"2012\",\"2013\",\"2014\",\"2015\",\"2016\",\"2017\"],\"y\":[62.59953620237616,63.08957334358763,63.57872639334224,64.08376999046433,64.58687436549964,65.087407161162,65.58539185759696,66.09314622321546,66.58824055065821,67.06756237656948,67.52628342166688,67.91756952516317,68.27745658275356,68.62376906240875,68.9745801014019,69.30531568374833,69.56047988482551,69.80755583528435,70.0570392716649,70.30188257560143,70.54728708463239,70.84080263406176,71.11518000620043,71.37556979428155,71.62682223254069,71.87801848980098,72.13955415956409,72.4211398671853,72.7000259866276,72.95811736019994,73.23560195464822,73.51484019892555,73.77414817178924,74.03783660613713,74.30723436951402,74.5745666211642,74.81851175794863,75.05227180897651,75.28501173120483,75.5181692891309,75.74974074372007,76.09479632423921,76.49560193311356,76.87622336289719,77.24127255096394,77.59143098241435,77.91417063193697,78.21867292983931,78.51440926413176,78.80120853028673,79.08124691428517,79.29771074412386,79.48385416511948,79.66738879268615,79.8506569075482,80.0386620288315,80.22913025645875,80.4233314253301]},\"selected\":{\"id\":\"13999\",\"type\":\"Selection\"},\"selection_policy\":{\"id\":\"14000\",\"type\":\"UnionRenderers\"}},\"id\":\"13507\",\"type\":\"ColumnDataSource\"},{\"attributes\":{},\"id\":\"14000\",\"type\":\"UnionRenderers\"},{\"attributes\":{},\"id\":\"13436\",\"type\":\"WheelZoomTool\"},{\"attributes\":{},\"id\":\"13504\",\"type\":\"Selection\"},{\"attributes\":{\"items\":[{\"id\":\"13460\",\"type\":\"LegendItem\"},{\"id\":\"13481\",\"type\":\"LegendItem\"},{\"id\":\"13506\",\"type\":\"LegendItem\"}],\"location\":\"bottom_left\"},\"id\":\"13459\",\"type\":\"Legend\"},{\"attributes\":{\"line_color\":\"#2CC775\",\"line_width\":4,\"x\":{\"field\":\"x\"},\"y\":{\"field\":\"y\"}},\"id\":\"13488\",\"type\":\"Line\"},{\"attributes\":{},\"id\":\"13999\",\"type\":\"Selection\"},{\"attributes\":{},\"id\":\"13435\",\"type\":\"PanTool\"},{\"attributes\":{},\"id\":\"13455\",\"type\":\"BasicTickFormatter\"},{\"attributes\":{\"callback\":null,\"data\":{\"x\":[\"1960\",\"1961\",\"1962\",\"1963\",\"1964\",\"1965\",\"1966\",\"1967\",\"1968\",\"1969\",\"1970\",\"1971\",\"1972\",\"1973\",\"1974\",\"1975\",\"1976\",\"1977\",\"1978\",\"1979\",\"1980\",\"1981\",\"1982\",\"1983\",\"1984\",\"1985\",\"1986\",\"1987\",\"1988\",\"1989\",\"1990\",\"1991\",\"1992\",\"1993\",\"1994\",\"1995\",\"1996\",\"1997\",\"1998\",\"1999\",\"2000\",\"2001\",\"2002\",\"2003\",\"2004\",\"2005\",\"2006\",\"2007\",\"2008\",\"2009\",\"2010\",\"2011\",\"2012\",\"2013\",\"2014\",\"2015\",\"2016\",\"2017\"],\"y\":[22.630949288694833,23.14281914867262,23.63312711968041,24.089976990736393,24.556059976253326,24.732603461884004,24.91323170795608,25.110005118236234,25.303107900443436,25.49142592220588,25.680646321274192,25.897359116719393,26.15520822571961,26.462227546535093,26.816876575043107,27.179600502462144,27.528279378386834,27.884271151811344,28.363702119408167,28.966693913320626,29.57896681146142,30.216362823981534,30.836365224138223,31.40227128490981,31.977573113645832,32.552216495483755,33.12127196800427,33.684605348038794,34.247222182829134,34.81002887259299,35.37519635893041,35.94756436038916,36.481760611613694,37.05433252421815,37.627897151830695,38.22540077342875,38.79671598864855,39.37048203585944,39.948270161766125,40.52672004161325,41.11494683071915,41.761603501479144,42.46147430353454,43.16134280503671,43.86666821577943,44.576114937235026,45.27519476585794,45.96910645799235,46.665300390624786,47.35893958565393,48.05102009881094,48.71516104918681,49.368472052422604,50.01832656497409,50.667168529751926,51.31245173550162,51.95558590128294,52.59415157798671]},\"selected\":{\"id\":\"13502\",\"type\":\"Selection\"},\"selection_policy\":{\"id\":\"13503\",\"type\":\"UnionRenderers\"}},\"id\":\"13466\",\"type\":\"ColumnDataSource\"},{\"attributes\":{},\"id\":\"13503\",\"type\":\"UnionRenderers\"},{\"attributes\":{\"fill_color\":{\"value\":\"#FA1857\"},\"line_color\":{\"value\":\"#FA1857\"},\"size\":{\"units\":\"screen\",\"value\":1},\"x\":{\"field\":\"x\"},\"y\":{\"field\":\"y\"}},\"id\":\"13462\",\"type\":\"Circle\"},{\"attributes\":{\"label\":{\"value\":\"OECD\"},\"renderers\":[{\"id\":\"13490\",\"type\":\"GlyphRenderer\"}]},\"id\":\"13506\",\"type\":\"LegendItem\"},{\"attributes\":{\"line_color\":\"#FA1857\",\"line_width\":4,\"x\":{\"field\":\"x\"},\"y\":{\"field\":\"y\"}},\"id\":\"13449\",\"type\":\"Line\"},{\"attributes\":{\"source\":{\"id\":\"13461\",\"type\":\"ColumnDataSource\"}},\"id\":\"13465\",\"type\":\"CDSView\"},{\"attributes\":{\"callback\":null,\"data\":{\"x\":[\"1960\",\"1961\",\"1962\",\"1963\",\"1964\",\"1965\",\"1966\",\"1967\",\"1968\",\"1969\",\"1970\",\"1971\",\"1972\",\"1973\",\"1974\",\"1975\",\"1976\",\"1977\",\"1978\",\"1979\",\"1980\",\"1981\",\"1982\",\"1983\",\"1984\",\"1985\",\"1986\",\"1987\",\"1988\",\"1989\",\"1990\",\"1991\",\"1992\",\"1993\",\"1994\",\"1995\",\"1996\",\"1997\",\"1998\",\"1999\",\"2000\",\"2001\",\"2002\",\"2003\",\"2004\",\"2005\",\"2006\",\"2007\",\"2008\",\"2009\",\"2010\",\"2011\",\"2012\",\"2013\",\"2014\",\"2015\",\"2016\",\"2017\"],\"y\":[22.630949288694833,23.14281914867262,23.63312711968041,24.089976990736393,24.556059976253326,24.732603461884004,24.91323170795608,25.110005118236234,25.303107900443436,25.49142592220588,25.680646321274192,25.897359116719393,26.15520822571961,26.462227546535093,26.816876575043107,27.179600502462144,27.528279378386834,27.884271151811344,28.363702119408167,28.966693913320626,29.57896681146142,30.216362823981534,30.836365224138223,31.40227128490981,31.977573113645832,32.552216495483755,33.12127196800427,33.684605348038794,34.247222182829134,34.81002887259299,35.37519635893041,35.94756436038916,36.481760611613694,37.05433252421815,37.627897151830695,38.22540077342875,38.79671598864855,39.37048203585944,39.948270161766125,40.52672004161325,41.11494683071915,41.761603501479144,42.46147430353454,43.16134280503671,43.86666821577943,44.576114937235026,45.27519476585794,45.96910645799235,46.665300390624786,47.35893958565393,48.05102009881094,48.71516104918681,49.368472052422604,50.01832656497409,50.667168529751926,51.31245173550162,51.95558590128294,52.59415157798671]},\"selected\":{\"id\":\"13504\",\"type\":\"Selection\"},\"selection_policy\":{\"id\":\"13505\",\"type\":\"UnionRenderers\"}},\"id\":\"13482\",\"type\":\"ColumnDataSource\"},{\"attributes\":{},\"id\":\"13998\",\"type\":\"UnionRenderers\"},{\"attributes\":{\"source\":{\"id\":\"13448\",\"type\":\"ColumnDataSource\"}},\"id\":\"13452\",\"type\":\"CDSView\"},{\"attributes\":{\"fill_alpha\":{\"value\":0.1},\"fill_color\":{\"value\":\"#1f77b4\"},\"line_alpha\":{\"value\":0.1},\"line_color\":{\"value\":\"#1f77b4\"},\"size\":{\"units\":\"screen\",\"value\":1},\"x\":{\"field\":\"x\"},\"y\":{\"field\":\"y\"}},\"id\":\"13484\",\"type\":\"Circle\"},{\"attributes\":{\"line_alpha\":0.1,\"line_color\":\"#1f77b4\",\"line_width\":4,\"x\":{\"field\":\"x\"},\"y\":{\"field\":\"y\"}},\"id\":\"13450\",\"type\":\"Line\"},{\"attributes\":{\"line_color\":\"#5430F1\",\"line_width\":4,\"x\":{\"field\":\"x\"},\"y\":{\"field\":\"y\"}},\"id\":\"13467\",\"type\":\"Line\"},{\"attributes\":{},\"id\":\"13502\",\"type\":\"Selection\"},{\"attributes\":{\"data_source\":{\"id\":\"13461\",\"type\":\"ColumnDataSource\"},\"glyph\":{\"id\":\"13462\",\"type\":\"Circle\"},\"hover_glyph\":null,\"muted_glyph\":null,\"nonselection_glyph\":{\"id\":\"13463\",\"type\":\"Circle\"},\"selection_glyph\":null,\"view\":{\"id\":\"13465\",\"type\":\"CDSView\"}},\"id\":\"13464\",\"type\":\"GlyphRenderer\"},{\"attributes\":{\"source\":{\"id\":\"13487\",\"type\":\"ColumnDataSource\"}},\"id\":\"13491\",\"type\":\"CDSView\"},{\"attributes\":{},\"id\":\"13421\",\"type\":\"LinearScale\"},{\"attributes\":{},\"id\":\"13457\",\"type\":\"BasicTickFormatter\"},{\"attributes\":{\"fill_color\":{\"value\":\"#5430F1\"},\"line_color\":{\"value\":\"#5430F1\"},\"size\":{\"units\":\"screen\",\"value\":1},\"x\":{\"field\":\"x\"},\"y\":{\"field\":\"y\"}},\"id\":\"13483\",\"type\":\"Circle\"},{\"attributes\":{},\"id\":\"13997\",\"type\":\"Selection\"},{\"attributes\":{\"callback\":null},\"id\":\"13417\",\"type\":\"DataRange1d\"},{\"attributes\":{\"source\":{\"id\":\"13507\",\"type\":\"ColumnDataSource\"}},\"id\":\"13511\",\"type\":\"CDSView\"},{\"attributes\":{\"data_source\":{\"id\":\"13448\",\"type\":\"ColumnDataSource\"},\"glyph\":{\"id\":\"13449\",\"type\":\"Line\"},\"hover_glyph\":null,\"muted_glyph\":null,\"nonselection_glyph\":{\"id\":\"13450\",\"type\":\"Line\"},\"selection_glyph\":null,\"view\":{\"id\":\"13452\",\"type\":\"CDSView\"}},\"id\":\"13451\",\"type\":\"GlyphRenderer\"},{\"attributes\":{},\"id\":\"13480\",\"type\":\"UnionRenderers\"},{\"attributes\":{\"text\":\"Urban population (% of total population) weighted against Population, total\"},\"id\":\"13415\",\"type\":\"Title\"},{\"attributes\":{\"data_source\":{\"id\":\"13507\",\"type\":\"ColumnDataSource\"},\"glyph\":{\"id\":\"13508\",\"type\":\"Circle\"},\"hover_glyph\":null,\"muted_glyph\":null,\"nonselection_glyph\":{\"id\":\"13509\",\"type\":\"Circle\"},\"selection_glyph\":null,\"view\":{\"id\":\"13511\",\"type\":\"CDSView\"}},\"id\":\"13510\",\"type\":\"GlyphRenderer\"},{\"attributes\":{\"fill_alpha\":{\"value\":0.1},\"fill_color\":{\"value\":\"#1f77b4\"},\"line_alpha\":{\"value\":0.1},\"line_color\":{\"value\":\"#1f77b4\"},\"size\":{\"units\":\"screen\",\"value\":1},\"x\":{\"field\":\"x\"},\"y\":{\"field\":\"y\"}},\"id\":\"13463\",\"type\":\"Circle\"},{\"attributes\":{\"active_drag\":\"auto\",\"active_inspect\":\"auto\",\"active_multi\":null,\"active_scroll\":\"auto\",\"active_tap\":\"auto\",\"tools\":[{\"id\":\"13435\",\"type\":\"PanTool\"},{\"id\":\"13436\",\"type\":\"WheelZoomTool\"},{\"id\":\"13437\",\"type\":\"BoxZoomTool\"},{\"id\":\"13438\",\"type\":\"SaveTool\"},{\"id\":\"13439\",\"type\":\"ResetTool\"},{\"id\":\"13440\",\"type\":\"HelpTool\"},{\"id\":\"13512\",\"type\":\"HoverTool\"}]},\"id\":\"13441\",\"type\":\"Toolbar\"},{\"attributes\":{\"callback\":null,\"data\":{\"x\":[\"1960\",\"1961\",\"1962\",\"1963\",\"1964\",\"1965\",\"1966\",\"1967\",\"1968\",\"1969\",\"1970\",\"1971\",\"1972\",\"1973\",\"1974\",\"1975\",\"1976\",\"1977\",\"1978\",\"1979\",\"1980\",\"1981\",\"1982\",\"1983\",\"1984\",\"1985\",\"1986\",\"1987\",\"1988\",\"1989\",\"1990\",\"1991\",\"1992\",\"1993\",\"1994\",\"1995\",\"1996\",\"1997\",\"1998\",\"1999\",\"2000\",\"2001\",\"2002\",\"2003\",\"2004\",\"2005\",\"2006\",\"2007\",\"2008\",\"2009\",\"2010\",\"2011\",\"2012\",\"2013\",\"2014\",\"2015\",\"2016\",\"2017\"],\"y\":[9.590441626589154,9.82956798804145,10.089934021962767,10.364196897530594,10.652282421195487,10.950321706725706,11.25750617684957,11.597625960136675,11.951557303382339,12.322182079802046,12.693637316992934,13.102812270349515,13.538428975399318,13.979617608585043,14.426656898097457,14.327100490197138,14.800859912325933,15.295458366390301,15.807482552340032,16.301789127132675,16.872464467732378,17.378256808688977,17.729484022454084,18.11100449405242,18.536347067726282,18.98554603996622,19.438205330760468,19.894885353886682,20.35901959600948,20.801792260188662,21.259109417937637,21.691581230817796,22.09539325255832,22.480412543964785,22.815688586431065,23.135882958165656,23.454910987065734,23.783364917127294,24.10596219711036,24.429269167363092,24.760018964979476,25.144909976033862,25.560303342013075,25.99027025544907,26.42138428012602,26.865355922534857,27.302613758312003,27.694992295194165,28.177233849451273,28.66869884679192,29.16842314668098,29.675548544753788,30.14948587235772,30.64825122352178,31.151609942305576,31.658943613022824,32.17025719236082,32.68572055294565]},\"selected\":{\"id\":\"13477\",\"type\":\"Selection\"},\"selection_policy\":{\"id\":\"13478\",\"type\":\"UnionRenderers\"}},\"id\":\"13448\",\"type\":\"ColumnDataSource\"},{\"attributes\":{\"callback\":null,\"tooltips\":\"                \\n        <div style=padding=5px>Year:@x</div>\\n        <div style=padding=5px>Value:@y</div>        \\n        \"},\"id\":\"13512\",\"type\":\"HoverTool\"},{\"attributes\":{\"fill_alpha\":{\"value\":0.1},\"fill_color\":{\"value\":\"#1f77b4\"},\"line_alpha\":{\"value\":0.1},\"line_color\":{\"value\":\"#1f77b4\"},\"size\":{\"units\":\"screen\",\"value\":1},\"x\":{\"field\":\"x\"},\"y\":{\"field\":\"y\"}},\"id\":\"13509\",\"type\":\"Circle\"},{\"attributes\":{},\"id\":\"13479\",\"type\":\"Selection\"},{\"attributes\":{\"data_source\":{\"id\":\"13487\",\"type\":\"ColumnDataSource\"},\"glyph\":{\"id\":\"13488\",\"type\":\"Line\"},\"hover_glyph\":null,\"muted_glyph\":null,\"nonselection_glyph\":{\"id\":\"13489\",\"type\":\"Line\"},\"selection_glyph\":null,\"view\":{\"id\":\"13491\",\"type\":\"CDSView\"}},\"id\":\"13490\",\"type\":\"GlyphRenderer\"},{\"attributes\":{\"callback\":null,\"data\":{\"x\":[\"1960\",\"1961\",\"1962\",\"1963\",\"1964\",\"1965\",\"1966\",\"1967\",\"1968\",\"1969\",\"1970\",\"1971\",\"1972\",\"1973\",\"1974\",\"1975\",\"1976\",\"1977\",\"1978\",\"1979\",\"1980\",\"1981\",\"1982\",\"1983\",\"1984\",\"1985\",\"1986\",\"1987\",\"1988\",\"1989\",\"1990\",\"1991\",\"1992\",\"1993\",\"1994\",\"1995\",\"1996\",\"1997\",\"1998\",\"1999\",\"2000\",\"2001\",\"2002\",\"2003\",\"2004\",\"2005\",\"2006\",\"2007\",\"2008\",\"2009\",\"2010\",\"2011\",\"2012\",\"2013\",\"2014\",\"2015\",\"2016\",\"2017\"],\"y\":[9.590441626589154,9.82956798804145,10.089934021962767,10.364196897530594,10.652282421195487,10.950321706725706,11.25750617684957,11.597625960136675,11.951557303382339,12.322182079802046,12.693637316992934,13.102812270349515,13.538428975399318,13.979617608585043,14.426656898097457,14.327100490197138,14.800859912325933,15.295458366390301,15.807482552340032,16.301789127132675,16.872464467732378,17.378256808688977,17.729484022454084,18.11100449405242,18.536347067726282,18.98554603996622,19.438205330760468,19.894885353886682,20.35901959600948,20.801792260188662,21.259109417937637,21.691581230817796,22.09539325255832,22.480412543964785,22.815688586431065,23.135882958165656,23.454910987065734,23.783364917127294,24.10596219711036,24.429269167363092,24.760018964979476,25.144909976033862,25.560303342013075,25.99027025544907,26.42138428012602,26.865355922534857,27.302613758312003,27.694992295194165,28.177233849451273,28.66869884679192,29.16842314668098,29.675548544753788,30.14948587235772,30.64825122352178,31.151609942305576,31.658943613022824,32.17025719236082,32.68572055294565]},\"selected\":{\"id\":\"13479\",\"type\":\"Selection\"},\"selection_policy\":{\"id\":\"13480\",\"type\":\"UnionRenderers\"}},\"id\":\"13461\",\"type\":\"ColumnDataSource\"},{\"attributes\":{\"axis_label\":\"SP.URB.TOTL.IN.ZS\",\"formatter\":{\"id\":\"13457\",\"type\":\"BasicTickFormatter\"},\"ticker\":{\"id\":\"13431\",\"type\":\"BasicTicker\"}},\"id\":\"13430\",\"type\":\"LinearAxis\"},{\"attributes\":{\"dimension\":1,\"grid_line_alpha\":0.5,\"ticker\":{\"id\":\"13431\",\"type\":\"BasicTicker\"}},\"id\":\"13434\",\"type\":\"Grid\"},{\"attributes\":{},\"id\":\"13440\",\"type\":\"HelpTool\"},{\"attributes\":{\"grid_line_color\":null,\"ticker\":{\"id\":\"13426\",\"type\":\"BasicTicker\"}},\"id\":\"13429\",\"type\":\"Grid\"},{\"attributes\":{},\"id\":\"13478\",\"type\":\"UnionRenderers\"},{\"attributes\":{\"line_alpha\":0.1,\"line_color\":\"#1f77b4\",\"line_width\":4,\"x\":{\"field\":\"x\"},\"y\":{\"field\":\"y\"}},\"id\":\"13489\",\"type\":\"Line\"},{\"attributes\":{\"label\":{\"value\":\"Developing excluding LDCs\"},\"renderers\":[{\"id\":\"13469\",\"type\":\"GlyphRenderer\"}]},\"id\":\"13481\",\"type\":\"LegendItem\"},{\"attributes\":{},\"id\":\"13426\",\"type\":\"BasicTicker\"},{\"attributes\":{},\"id\":\"13439\",\"type\":\"ResetTool\"},{\"attributes\":{\"fill_color\":{\"value\":\"#2CC775\"},\"line_color\":{\"value\":\"#2CC775\"},\"size\":{\"units\":\"screen\",\"value\":1},\"x\":{\"field\":\"x\"},\"y\":{\"field\":\"y\"}},\"id\":\"13508\",\"type\":\"Circle\"},{\"attributes\":{\"label\":{\"value\":\"LDCs\"},\"renderers\":[{\"id\":\"13451\",\"type\":\"GlyphRenderer\"}]},\"id\":\"13460\",\"type\":\"LegendItem\"},{\"attributes\":{},\"id\":\"13431\",\"type\":\"BasicTicker\"},{\"attributes\":{},\"id\":\"13438\",\"type\":\"SaveTool\"},{\"attributes\":{\"source\":{\"id\":\"13466\",\"type\":\"ColumnDataSource\"}},\"id\":\"13470\",\"type\":\"CDSView\"},{\"attributes\":{\"callback\":null,\"data\":{\"x\":[\"1960\",\"1961\",\"1962\",\"1963\",\"1964\",\"1965\",\"1966\",\"1967\",\"1968\",\"1969\",\"1970\",\"1971\",\"1972\",\"1973\",\"1974\",\"1975\",\"1976\",\"1977\",\"1978\",\"1979\",\"1980\",\"1981\",\"1982\",\"1983\",\"1984\",\"1985\",\"1986\",\"1987\",\"1988\",\"1989\",\"1990\",\"1991\",\"1992\",\"1993\",\"1994\",\"1995\",\"1996\",\"1997\",\"1998\",\"1999\",\"2000\",\"2001\",\"2002\",\"2003\",\"2004\",\"2005\",\"2006\",\"2007\",\"2008\",\"2009\",\"2010\",\"2011\",\"2012\",\"2013\",\"2014\",\"2015\",\"2016\",\"2017\"],\"y\":[62.59953620237616,63.08957334358763,63.57872639334224,64.08376999046433,64.58687436549964,65.087407161162,65.58539185759696,66.09314622321546,66.58824055065821,67.06756237656948,67.52628342166688,67.91756952516317,68.27745658275356,68.62376906240875,68.9745801014019,69.30531568374833,69.56047988482551,69.80755583528435,70.0570392716649,70.30188257560143,70.54728708463239,70.84080263406176,71.11518000620043,71.37556979428155,71.62682223254069,71.87801848980098,72.13955415956409,72.4211398671853,72.7000259866276,72.95811736019994,73.23560195464822,73.51484019892555,73.77414817178924,74.03783660613713,74.30723436951402,74.5745666211642,74.81851175794863,75.05227180897651,75.28501173120483,75.5181692891309,75.74974074372007,76.09479632423921,76.49560193311356,76.87622336289719,77.24127255096394,77.59143098241435,77.91417063193697,78.21867292983931,78.51440926413176,78.80120853028673,79.08124691428517,79.29771074412386,79.48385416511948,79.66738879268615,79.8506569075482,80.0386620288315,80.22913025645875,80.4233314253301]},\"selected\":{\"id\":\"13997\",\"type\":\"Selection\"},\"selection_policy\":{\"id\":\"13998\",\"type\":\"UnionRenderers\"}},\"id\":\"13487\",\"type\":\"ColumnDataSource\"},{\"attributes\":{\"axis_label\":\"Years\",\"formatter\":{\"id\":\"13455\",\"type\":\"BasicTickFormatter\"},\"ticker\":{\"id\":\"13426\",\"type\":\"BasicTicker\"}},\"id\":\"13425\",\"type\":\"LinearAxis\"},{\"attributes\":{},\"id\":\"13477\",\"type\":\"Selection\"},{\"attributes\":{\"source\":{\"id\":\"13482\",\"type\":\"ColumnDataSource\"}},\"id\":\"13486\",\"type\":\"CDSView\"}],\"root_ids\":[\"13414\"]},\"title\":\"Bokeh Application\",\"version\":\"1.4.0\"}};\n",
       "  var render_items = [{\"docid\":\"3b0fd990-e01f-472f-88a0-38b06a38f0e7\",\"roots\":{\"13414\":\"c21eb777-2d77-405b-80cf-ef69ad8b5792\"}}];\n",
       "  root.Bokeh.embed.embed_items_notebook(docs_json, render_items);\n",
       "\n",
       "  }\n",
       "  if (root.Bokeh !== undefined) {\n",
       "    embed_document(root);\n",
       "  } else {\n",
       "    var attempts = 0;\n",
       "    var timer = setInterval(function(root) {\n",
       "      if (root.Bokeh !== undefined) {\n",
       "        clearInterval(timer);\n",
       "        embed_document(root);\n",
       "      } else {\n",
       "        attempts++;\n",
       "        if (attempts > 100) {\n",
       "          clearInterval(timer);\n",
       "          console.log(\"Bokeh: ERROR: Unable to run BokehJS code because BokehJS library is missing\");\n",
       "        }\n",
       "      }\n",
       "    }, 10, root)\n",
       "  }\n",
       "})(window);"
      ],
      "application/vnd.bokehjs_exec.v0+json": ""
     },
     "metadata": {
      "application/vnd.bokehjs_exec.v0+json": {
       "id": "13414"
      }
     },
     "output_type": "display_data"
    }
   ],
   "source": [
    "years = list(map(str, list(range(1960,2018))))\n",
    "# Urban population as a percentage of total population\n",
    "result = show_weighted_average(years, 'SP.URB.TOTL.IN.ZS', 'SP.POP.TOTL', \n",
    "                               ['LDCs', 'Developing excluding LDCs', 'OECD'], \n",
    "                                height=400, width=1000, line_width=4)"
   ]
  },
  {
   "cell_type": "code",
   "execution_count": 36,
   "metadata": {
    "ExecuteTime": {
     "end_time": "2019-10-25T14:29:15.192779Z",
     "start_time": "2019-10-25T14:29:14.263102Z"
    },
    "slideshow": {
     "slide_type": "slide"
    }
   },
   "outputs": [
    {
     "data": {
      "text/html": [
       "\n",
       "\n",
       "\n",
       "\n",
       "\n",
       "\n",
       "  <div class=\"bk-root\" id=\"89f43dcb-4e4d-4abb-888e-5c8704425d80\" data-root-id=\"14109\"></div>\n"
      ]
     },
     "metadata": {},
     "output_type": "display_data"
    },
    {
     "data": {
      "application/javascript": [
       "(function(root) {\n",
       "  function embed_document(root) {\n",
       "    \n",
       "  var docs_json = {\"0f8ab6a1-a9bf-4fcc-a9cb-19d6ecca6ba5\":{\"roots\":{\"references\":[{\"attributes\":{\"below\":[{\"id\":\"14120\",\"type\":\"LinearAxis\"}],\"center\":[{\"id\":\"14124\",\"type\":\"Grid\"},{\"id\":\"14129\",\"type\":\"Grid\"},{\"id\":\"14154\",\"type\":\"Legend\"}],\"left\":[{\"id\":\"14125\",\"type\":\"LinearAxis\"}],\"plot_height\":400,\"plot_width\":1000,\"renderers\":[{\"id\":\"14146\",\"type\":\"GlyphRenderer\"},{\"id\":\"14159\",\"type\":\"GlyphRenderer\"}],\"title\":{\"id\":\"14110\",\"type\":\"Title\"},\"toolbar\":{\"id\":\"14136\",\"type\":\"Toolbar\"},\"x_range\":{\"id\":\"14112\",\"type\":\"DataRange1d\"},\"x_scale\":{\"id\":\"14116\",\"type\":\"LinearScale\"},\"y_range\":{\"id\":\"14114\",\"type\":\"DataRange1d\"},\"y_scale\":{\"id\":\"14118\",\"type\":\"LinearScale\"}},\"id\":\"14109\",\"subtype\":\"Figure\",\"type\":\"Plot\"},{\"attributes\":{\"callback\":null,\"data\":{\"x\":[\"1960\",\"1961\",\"1962\",\"1963\",\"1964\",\"1965\",\"1966\",\"1967\",\"1968\",\"1969\",\"1970\",\"1971\",\"1972\",\"1973\",\"1974\",\"1975\",\"1976\",\"1977\",\"1978\",\"1979\",\"1980\",\"1981\",\"1982\",\"1983\",\"1984\",\"1985\",\"1986\",\"1987\",\"1988\",\"1989\",\"1990\",\"1991\",\"1992\",\"1993\",\"1994\",\"1995\",\"1996\",\"1997\",\"1998\",\"1999\",\"2000\",\"2001\",\"2002\",\"2003\",\"2004\",\"2005\",\"2006\",\"2007\",\"2008\",\"2009\",\"2010\",\"2011\",\"2012\",\"2013\",\"2014\",\"2015\",\"2016\",\"2017\"],\"y\":[23317292.0,24465608.0,25715484.0,27056026.0,28495614.0,30031066.0,31667488.0,33475608.0,35399148.0,37438167.0,39538583.0,41813984.0,44241565.0,46769493.0,49418771.0,50279277.0,53224569.0,56380077.0,59741635.0,63173090.0,67018359.0,70759809.0,74015049.0,77517852.0,81340591.0,85438619.0,89730611.0,94224950.0,98950365.0,103779087.0,108895345.0,114110906.0,119435249.0,124882817.0,130206642.0,135562776.0,141015012.0,146637320.0,152365029.0,158280891.0,164462270.0,171248545.0,178496124.0,186087168.0,193896898.0,201991152.0,210219133.0,218294690.0,227312839.0,236706129.0,246511210.0,256742767.0,266067392.0,276930811.0,288207667.0,299896804.0,312008544.0,324553851.0]},\"selected\":{\"id\":\"14656\",\"type\":\"Selection\"},\"selection_policy\":{\"id\":\"14657\",\"type\":\"UnionRenderers\"}},\"id\":\"14143\",\"type\":\"ColumnDataSource\"},{\"attributes\":{},\"id\":\"14134\",\"type\":\"ResetTool\"},{\"attributes\":{\"text\":\"Urban population\"},\"id\":\"14110\",\"type\":\"Title\"},{\"attributes\":{},\"id\":\"14152\",\"type\":\"BasicTickFormatter\"},{\"attributes\":{\"line_alpha\":0.1,\"line_color\":\"#1f77b4\",\"line_width\":4,\"x\":{\"field\":\"x\"},\"y\":{\"field\":\"y\"}},\"id\":\"14145\",\"type\":\"Line\"},{\"attributes\":{\"callback\":null,\"data\":{\"x\":[\"1960\",\"1961\",\"1962\",\"1963\",\"1964\",\"1965\",\"1966\",\"1967\",\"1968\",\"1969\",\"1970\",\"1971\",\"1972\",\"1973\",\"1974\",\"1975\",\"1976\",\"1977\",\"1978\",\"1979\",\"1980\",\"1981\",\"1982\",\"1983\",\"1984\",\"1985\",\"1986\",\"1987\",\"1988\",\"1989\",\"1990\",\"1991\",\"1992\",\"1993\",\"1994\",\"1995\",\"1996\",\"1997\",\"1998\",\"1999\",\"2000\",\"2001\",\"2002\",\"2003\",\"2004\",\"2005\",\"2006\",\"2007\",\"2008\",\"2009\",\"2010\",\"2011\",\"2012\",\"2013\",\"2014\",\"2015\",\"2016\",\"2017\"],\"y\":[23317292.0,24465608.0,25715484.0,27056026.0,28495614.0,30031066.0,31667488.0,33475608.0,35399148.0,37438167.0,39538583.0,41813984.0,44241565.0,46769493.0,49418771.0,50279277.0,53224569.0,56380077.0,59741635.0,63173090.0,67018359.0,70759809.0,74015049.0,77517852.0,81340591.0,85438619.0,89730611.0,94224950.0,98950365.0,103779087.0,108895345.0,114110906.0,119435249.0,124882817.0,130206642.0,135562776.0,141015012.0,146637320.0,152365029.0,158280891.0,164462270.0,171248545.0,178496124.0,186087168.0,193896898.0,201991152.0,210219133.0,218294690.0,227312839.0,236706129.0,246511210.0,256742767.0,266067392.0,276930811.0,288207667.0,299896804.0,312008544.0,324553851.0]},\"selected\":{\"id\":\"14658\",\"type\":\"Selection\"},\"selection_policy\":{\"id\":\"14659\",\"type\":\"UnionRenderers\"}},\"id\":\"14156\",\"type\":\"ColumnDataSource\"},{\"attributes\":{\"callback\":null},\"id\":\"14114\",\"type\":\"DataRange1d\"},{\"attributes\":{},\"id\":\"14135\",\"type\":\"HelpTool\"},{\"attributes\":{\"callback\":null,\"tooltips\":\"                \\n        <div style=padding=5px>Year:@x</div>\\n        <div style=padding=5px>Value:@y</div>        \\n        \"},\"id\":\"14161\",\"type\":\"HoverTool\"},{\"attributes\":{},\"id\":\"14121\",\"type\":\"BasicTicker\"},{\"attributes\":{\"fill_color\":{\"value\":\"#FA1857\"},\"line_color\":{\"value\":\"#FA1857\"},\"size\":{\"units\":\"screen\",\"value\":3},\"x\":{\"field\":\"x\"},\"y\":{\"field\":\"y\"}},\"id\":\"14157\",\"type\":\"Circle\"},{\"attributes\":{},\"id\":\"14126\",\"type\":\"BasicTicker\"},{\"attributes\":{},\"id\":\"14658\",\"type\":\"Selection\"},{\"attributes\":{\"dimension\":1,\"grid_line_alpha\":0.5,\"ticker\":{\"id\":\"14126\",\"type\":\"BasicTicker\"}},\"id\":\"14129\",\"type\":\"Grid\"},{\"attributes\":{},\"id\":\"14657\",\"type\":\"UnionRenderers\"},{\"attributes\":{},\"id\":\"14116\",\"type\":\"LinearScale\"},{\"attributes\":{\"bottom_units\":\"screen\",\"fill_alpha\":{\"value\":0.5},\"fill_color\":{\"value\":\"lightgrey\"},\"left_units\":\"screen\",\"level\":\"overlay\",\"line_alpha\":{\"value\":1.0},\"line_color\":{\"value\":\"black\"},\"line_dash\":[4,4],\"line_width\":{\"value\":2},\"render_mode\":\"css\",\"right_units\":\"screen\",\"top_units\":\"screen\"},\"id\":\"14153\",\"type\":\"BoxAnnotation\"},{\"attributes\":{\"grid_line_color\":null,\"ticker\":{\"id\":\"14121\",\"type\":\"BasicTicker\"}},\"id\":\"14124\",\"type\":\"Grid\"},{\"attributes\":{\"callback\":null},\"id\":\"14112\",\"type\":\"DataRange1d\"},{\"attributes\":{},\"id\":\"14131\",\"type\":\"WheelZoomTool\"},{\"attributes\":{},\"id\":\"14656\",\"type\":\"Selection\"},{\"attributes\":{\"overlay\":{\"id\":\"14153\",\"type\":\"BoxAnnotation\"}},\"id\":\"14132\",\"type\":\"BoxZoomTool\"},{\"attributes\":{},\"id\":\"14659\",\"type\":\"UnionRenderers\"},{\"attributes\":{\"items\":[{\"id\":\"14155\",\"type\":\"LegendItem\"}],\"location\":\"bottom_left\"},\"id\":\"14154\",\"type\":\"Legend\"},{\"attributes\":{},\"id\":\"14150\",\"type\":\"BasicTickFormatter\"},{\"attributes\":{\"axis_label\":\"SP.URB.TOTL\",\"formatter\":{\"id\":\"14152\",\"type\":\"BasicTickFormatter\"},\"ticker\":{\"id\":\"14126\",\"type\":\"BasicTicker\"}},\"id\":\"14125\",\"type\":\"LinearAxis\"},{\"attributes\":{},\"id\":\"14133\",\"type\":\"SaveTool\"},{\"attributes\":{\"axis_label\":\"Years\",\"formatter\":{\"id\":\"14150\",\"type\":\"BasicTickFormatter\"},\"ticker\":{\"id\":\"14121\",\"type\":\"BasicTicker\"}},\"id\":\"14120\",\"type\":\"LinearAxis\"},{\"attributes\":{\"fill_alpha\":{\"value\":0.1},\"fill_color\":{\"value\":\"#1f77b4\"},\"line_alpha\":{\"value\":0.1},\"line_color\":{\"value\":\"#1f77b4\"},\"size\":{\"units\":\"screen\",\"value\":3},\"x\":{\"field\":\"x\"},\"y\":{\"field\":\"y\"}},\"id\":\"14158\",\"type\":\"Circle\"},{\"attributes\":{},\"id\":\"14118\",\"type\":\"LinearScale\"},{\"attributes\":{},\"id\":\"14130\",\"type\":\"PanTool\"},{\"attributes\":{\"label\":{\"value\":\"LDCs\"},\"renderers\":[{\"id\":\"14146\",\"type\":\"GlyphRenderer\"}]},\"id\":\"14155\",\"type\":\"LegendItem\"},{\"attributes\":{\"line_color\":\"#FA1857\",\"line_width\":4,\"x\":{\"field\":\"x\"},\"y\":{\"field\":\"y\"}},\"id\":\"14144\",\"type\":\"Line\"},{\"attributes\":{\"source\":{\"id\":\"14143\",\"type\":\"ColumnDataSource\"}},\"id\":\"14147\",\"type\":\"CDSView\"},{\"attributes\":{\"data_source\":{\"id\":\"14143\",\"type\":\"ColumnDataSource\"},\"glyph\":{\"id\":\"14144\",\"type\":\"Line\"},\"hover_glyph\":null,\"muted_glyph\":null,\"nonselection_glyph\":{\"id\":\"14145\",\"type\":\"Line\"},\"selection_glyph\":null,\"view\":{\"id\":\"14147\",\"type\":\"CDSView\"}},\"id\":\"14146\",\"type\":\"GlyphRenderer\"},{\"attributes\":{\"active_drag\":\"auto\",\"active_inspect\":\"auto\",\"active_multi\":null,\"active_scroll\":\"auto\",\"active_tap\":\"auto\",\"tools\":[{\"id\":\"14130\",\"type\":\"PanTool\"},{\"id\":\"14131\",\"type\":\"WheelZoomTool\"},{\"id\":\"14132\",\"type\":\"BoxZoomTool\"},{\"id\":\"14133\",\"type\":\"SaveTool\"},{\"id\":\"14134\",\"type\":\"ResetTool\"},{\"id\":\"14135\",\"type\":\"HelpTool\"},{\"id\":\"14161\",\"type\":\"HoverTool\"}]},\"id\":\"14136\",\"type\":\"Toolbar\"},{\"attributes\":{\"source\":{\"id\":\"14156\",\"type\":\"ColumnDataSource\"}},\"id\":\"14160\",\"type\":\"CDSView\"},{\"attributes\":{\"data_source\":{\"id\":\"14156\",\"type\":\"ColumnDataSource\"},\"glyph\":{\"id\":\"14157\",\"type\":\"Circle\"},\"hover_glyph\":null,\"muted_glyph\":null,\"nonselection_glyph\":{\"id\":\"14158\",\"type\":\"Circle\"},\"selection_glyph\":null,\"view\":{\"id\":\"14160\",\"type\":\"CDSView\"}},\"id\":\"14159\",\"type\":\"GlyphRenderer\"}],\"root_ids\":[\"14109\"]},\"title\":\"Bokeh Application\",\"version\":\"1.4.0\"}};\n",
       "  var render_items = [{\"docid\":\"0f8ab6a1-a9bf-4fcc-a9cb-19d6ecca6ba5\",\"roots\":{\"14109\":\"89f43dcb-4e4d-4abb-888e-5c8704425d80\"}}];\n",
       "  root.Bokeh.embed.embed_items_notebook(docs_json, render_items);\n",
       "\n",
       "  }\n",
       "  if (root.Bokeh !== undefined) {\n",
       "    embed_document(root);\n",
       "  } else {\n",
       "    var attempts = 0;\n",
       "    var timer = setInterval(function(root) {\n",
       "      if (root.Bokeh !== undefined) {\n",
       "        clearInterval(timer);\n",
       "        embed_document(root);\n",
       "      } else {\n",
       "        attempts++;\n",
       "        if (attempts > 100) {\n",
       "          clearInterval(timer);\n",
       "          console.log(\"Bokeh: ERROR: Unable to run BokehJS code because BokehJS library is missing\");\n",
       "        }\n",
       "      }\n",
       "    }, 10, root)\n",
       "  }\n",
       "})(window);"
      ],
      "application/vnd.bokehjs_exec.v0+json": ""
     },
     "metadata": {
      "application/vnd.bokehjs_exec.v0+json": {
       "id": "14109"
      }
     },
     "output_type": "display_data"
    }
   ],
   "source": [
    "result = show_group_total(years, 'SP.URB.TOTL', ['LDCs'], \n",
    "                                height=400, width=1000, line_width=4)"
   ]
  },
  {
   "cell_type": "code",
   "execution_count": 37,
   "metadata": {
    "ExecuteTime": {
     "end_time": "2019-10-25T14:35:30.281624Z",
     "start_time": "2019-10-25T14:35:22.402094Z"
    },
    "slideshow": {
     "slide_type": "slide"
    }
   },
   "outputs": [
    {
     "data": {
      "text/html": [
       "\n",
       "\n",
       "\n",
       "\n",
       "\n",
       "\n",
       "  <div class=\"bk-root\" id=\"a3c5e223-5efc-40ef-bab3-0fb17af6ec5c\" data-root-id=\"14720\"></div>\n"
      ]
     },
     "metadata": {},
     "output_type": "display_data"
    },
    {
     "data": {
      "application/javascript": [
       "(function(root) {\n",
       "  function embed_document(root) {\n",
       "    \n",
       "  var docs_json = {\"6968c6e8-c34d-4d36-86bc-c6fe62d344fe\":{\"roots\":{\"references\":[{\"attributes\":{\"below\":[{\"id\":\"14731\",\"type\":\"LinearAxis\"}],\"center\":[{\"id\":\"14735\",\"type\":\"Grid\"},{\"id\":\"14740\",\"type\":\"Grid\"},{\"id\":\"14765\",\"type\":\"Legend\"}],\"left\":[{\"id\":\"14736\",\"type\":\"LinearAxis\"}],\"plot_height\":400,\"plot_width\":1000,\"renderers\":[{\"id\":\"14757\",\"type\":\"GlyphRenderer\"},{\"id\":\"14770\",\"type\":\"GlyphRenderer\"},{\"id\":\"14775\",\"type\":\"GlyphRenderer\"},{\"id\":\"14791\",\"type\":\"GlyphRenderer\"},{\"id\":\"14796\",\"type\":\"GlyphRenderer\"},{\"id\":\"14816\",\"type\":\"GlyphRenderer\"}],\"title\":{\"id\":\"14721\",\"type\":\"Title\"},\"toolbar\":{\"id\":\"14747\",\"type\":\"Toolbar\"},\"x_range\":{\"id\":\"14723\",\"type\":\"DataRange1d\"},\"x_scale\":{\"id\":\"14727\",\"type\":\"LinearScale\"},\"y_range\":{\"id\":\"14725\",\"type\":\"DataRange1d\"},\"y_scale\":{\"id\":\"14729\",\"type\":\"LinearScale\"}},\"id\":\"14720\",\"subtype\":\"Figure\",\"type\":\"Plot\"},{\"attributes\":{\"dimension\":1,\"grid_line_alpha\":0.5,\"ticker\":{\"id\":\"14737\",\"type\":\"BasicTicker\"}},\"id\":\"14740\",\"type\":\"Grid\"},{\"attributes\":{\"callback\":null,\"tooltips\":\"                \\n        <div style=padding=5px>Year:@x</div>\\n        <div style=padding=5px>Value:@y</div>        \\n        \"},\"id\":\"14818\",\"type\":\"HoverTool\"},{\"attributes\":{\"source\":{\"id\":\"14813\",\"type\":\"ColumnDataSource\"}},\"id\":\"14817\",\"type\":\"CDSView\"},{\"attributes\":{\"callback\":null,\"data\":{\"x\":[\"2000\",\"2001\",\"2002\",\"2003\",\"2004\",\"2005\",\"2006\",\"2007\",\"2008\",\"2009\",\"2010\",\"2011\",\"2012\",\"2013\",\"2014\",\"2015\",\"2016\",\"2017\"],\"y\":[2.871713123812663,2.9511432100791484,3.0136932118765114,2.953868405139294,2.924116416288403,2.9006768448998628,2.8385887182475527,2.787551595330817,2.7628871731196654,2.72341580335172,2.6789486862183955,2.590195657094341,2.529948100519968,2.4961358861963343,2.465255348584935,2.4236075249092615,2.394780581402036,2.3538548161434734]},\"selected\":{\"id\":\"14808\",\"type\":\"Selection\"},\"selection_policy\":{\"id\":\"14809\",\"type\":\"UnionRenderers\"}},\"id\":\"14772\",\"type\":\"ColumnDataSource\"},{\"attributes\":{},\"id\":\"14808\",\"type\":\"Selection\"},{\"attributes\":{\"fill_alpha\":{\"value\":0.1},\"fill_color\":{\"value\":\"#1f77b4\"},\"line_alpha\":{\"value\":0.1},\"line_color\":{\"value\":\"#1f77b4\"},\"size\":{\"units\":\"screen\",\"value\":1},\"x\":{\"field\":\"x\"},\"y\":{\"field\":\"y\"}},\"id\":\"14815\",\"type\":\"Circle\"},{\"attributes\":{},\"id\":\"15334\",\"type\":\"UnionRenderers\"},{\"attributes\":{\"line_alpha\":0.1,\"line_color\":\"#1f77b4\",\"line_width\":4,\"x\":{\"field\":\"x\"},\"y\":{\"field\":\"y\"}},\"id\":\"14756\",\"type\":\"Line\"},{\"attributes\":{},\"id\":\"14810\",\"type\":\"Selection\"},{\"attributes\":{},\"id\":\"14746\",\"type\":\"HelpTool\"},{\"attributes\":{\"source\":{\"id\":\"14772\",\"type\":\"ColumnDataSource\"}},\"id\":\"14776\",\"type\":\"CDSView\"},{\"attributes\":{},\"id\":\"14786\",\"type\":\"UnionRenderers\"},{\"attributes\":{\"data_source\":{\"id\":\"14813\",\"type\":\"ColumnDataSource\"},\"glyph\":{\"id\":\"14814\",\"type\":\"Circle\"},\"hover_glyph\":null,\"muted_glyph\":null,\"nonselection_glyph\":{\"id\":\"14815\",\"type\":\"Circle\"},\"selection_glyph\":null,\"view\":{\"id\":\"14817\",\"type\":\"CDSView\"}},\"id\":\"14816\",\"type\":\"GlyphRenderer\"},{\"attributes\":{},\"id\":\"14732\",\"type\":\"BasicTicker\"},{\"attributes\":{\"bottom_units\":\"screen\",\"fill_alpha\":{\"value\":0.5},\"fill_color\":{\"value\":\"lightgrey\"},\"left_units\":\"screen\",\"level\":\"overlay\",\"line_alpha\":{\"value\":1.0},\"line_color\":{\"value\":\"black\"},\"line_dash\":[4,4],\"line_width\":{\"value\":2},\"render_mode\":\"css\",\"right_units\":\"screen\",\"top_units\":\"screen\"},\"id\":\"14764\",\"type\":\"BoxAnnotation\"},{\"attributes\":{},\"id\":\"14785\",\"type\":\"Selection\"},{\"attributes\":{\"callback\":null,\"data\":{\"x\":[\"2000\",\"2001\",\"2002\",\"2003\",\"2004\",\"2005\",\"2006\",\"2007\",\"2008\",\"2009\",\"2010\",\"2011\",\"2012\",\"2013\",\"2014\",\"2015\",\"2016\",\"2017\"],\"y\":[3.781552399759757,3.9942501736128904,4.0980366224839635,4.1200279616396,4.067771523272396,4.0462628038554005,3.9491110534001477,3.7343089278830024,4.00474292401507,4.006365015359042,4.017012003822316,4.026193802500771,3.976323997042947,3.9618560270813443,3.9501422897690834,3.931939995499514,3.9127531302754495,3.8933983484972026]},\"selected\":{\"id\":\"14783\",\"type\":\"Selection\"},\"selection_policy\":{\"id\":\"14784\",\"type\":\"UnionRenderers\"}},\"id\":\"14754\",\"type\":\"ColumnDataSource\"},{\"attributes\":{},\"id\":\"14727\",\"type\":\"LinearScale\"},{\"attributes\":{\"data_source\":{\"id\":\"14754\",\"type\":\"ColumnDataSource\"},\"glyph\":{\"id\":\"14755\",\"type\":\"Line\"},\"hover_glyph\":null,\"muted_glyph\":null,\"nonselection_glyph\":{\"id\":\"14756\",\"type\":\"Line\"},\"selection_glyph\":null,\"view\":{\"id\":\"14758\",\"type\":\"CDSView\"}},\"id\":\"14757\",\"type\":\"GlyphRenderer\"},{\"attributes\":{\"axis_label\":\"SP.URB.GROW\",\"formatter\":{\"id\":\"14763\",\"type\":\"BasicTickFormatter\"},\"ticker\":{\"id\":\"14737\",\"type\":\"BasicTicker\"}},\"id\":\"14736\",\"type\":\"LinearAxis\"},{\"attributes\":{},\"id\":\"14811\",\"type\":\"UnionRenderers\"},{\"attributes\":{\"data_source\":{\"id\":\"14788\",\"type\":\"ColumnDataSource\"},\"glyph\":{\"id\":\"14789\",\"type\":\"Circle\"},\"hover_glyph\":null,\"muted_glyph\":null,\"nonselection_glyph\":{\"id\":\"14790\",\"type\":\"Circle\"},\"selection_glyph\":null,\"view\":{\"id\":\"14792\",\"type\":\"CDSView\"}},\"id\":\"14791\",\"type\":\"GlyphRenderer\"},{\"attributes\":{\"fill_alpha\":{\"value\":0.1},\"fill_color\":{\"value\":\"#1f77b4\"},\"line_alpha\":{\"value\":0.1},\"line_color\":{\"value\":\"#1f77b4\"},\"size\":{\"units\":\"screen\",\"value\":1},\"x\":{\"field\":\"x\"},\"y\":{\"field\":\"y\"}},\"id\":\"14769\",\"type\":\"Circle\"},{\"attributes\":{\"callback\":null,\"data\":{\"x\":[\"2000\",\"2001\",\"2002\",\"2003\",\"2004\",\"2005\",\"2006\",\"2007\",\"2008\",\"2009\",\"2010\",\"2011\",\"2012\",\"2013\",\"2014\",\"2015\",\"2016\",\"2017\"],\"y\":[0.9948809271821193,1.1720404938170361,1.2487792655994334,1.2098437389978234,1.1858418971351812,1.1566812882637159,1.1461235724859402,1.1299299497492925,1.1478412678703078,1.0667506897450498,1.004952660145055,0.7748422786938176,0.8497708748839219,0.8674781666983666,0.8896129313491413,0.882013187119933,0.8885753632137473,0.8267985143506588]},\"selected\":{\"id\":\"15331\",\"type\":\"Selection\"},\"selection_policy\":{\"id\":\"15332\",\"type\":\"UnionRenderers\"}},\"id\":\"14793\",\"type\":\"ColumnDataSource\"},{\"attributes\":{},\"id\":\"15331\",\"type\":\"Selection\"},{\"attributes\":{},\"id\":\"14744\",\"type\":\"SaveTool\"},{\"attributes\":{\"line_color\":\"#FA1857\",\"line_width\":4,\"x\":{\"field\":\"x\"},\"y\":{\"field\":\"y\"}},\"id\":\"14755\",\"type\":\"Line\"},{\"attributes\":{\"line_alpha\":0.1,\"line_color\":\"#1f77b4\",\"line_width\":4,\"x\":{\"field\":\"x\"},\"y\":{\"field\":\"y\"}},\"id\":\"14795\",\"type\":\"Line\"},{\"attributes\":{\"line_color\":\"#2CC775\",\"line_width\":4,\"x\":{\"field\":\"x\"},\"y\":{\"field\":\"y\"}},\"id\":\"14794\",\"type\":\"Line\"},{\"attributes\":{},\"id\":\"14741\",\"type\":\"PanTool\"},{\"attributes\":{\"line_color\":\"#5430F1\",\"line_width\":4,\"x\":{\"field\":\"x\"},\"y\":{\"field\":\"y\"}},\"id\":\"14773\",\"type\":\"Line\"},{\"attributes\":{\"grid_line_color\":null,\"ticker\":{\"id\":\"14732\",\"type\":\"BasicTicker\"}},\"id\":\"14735\",\"type\":\"Grid\"},{\"attributes\":{\"data_source\":{\"id\":\"14793\",\"type\":\"ColumnDataSource\"},\"glyph\":{\"id\":\"14794\",\"type\":\"Line\"},\"hover_glyph\":null,\"muted_glyph\":null,\"nonselection_glyph\":{\"id\":\"14795\",\"type\":\"Line\"},\"selection_glyph\":null,\"view\":{\"id\":\"14797\",\"type\":\"CDSView\"}},\"id\":\"14796\",\"type\":\"GlyphRenderer\"},{\"attributes\":{\"overlay\":{\"id\":\"14764\",\"type\":\"BoxAnnotation\"}},\"id\":\"14743\",\"type\":\"BoxZoomTool\"},{\"attributes\":{\"callback\":null},\"id\":\"14725\",\"type\":\"DataRange1d\"},{\"attributes\":{\"active_drag\":\"auto\",\"active_inspect\":\"auto\",\"active_multi\":null,\"active_scroll\":\"auto\",\"active_tap\":\"auto\",\"tools\":[{\"id\":\"14741\",\"type\":\"PanTool\"},{\"id\":\"14742\",\"type\":\"WheelZoomTool\"},{\"id\":\"14743\",\"type\":\"BoxZoomTool\"},{\"id\":\"14744\",\"type\":\"SaveTool\"},{\"id\":\"14745\",\"type\":\"ResetTool\"},{\"id\":\"14746\",\"type\":\"HelpTool\"},{\"id\":\"14818\",\"type\":\"HoverTool\"}]},\"id\":\"14747\",\"type\":\"Toolbar\"},{\"attributes\":{\"data_source\":{\"id\":\"14772\",\"type\":\"ColumnDataSource\"},\"glyph\":{\"id\":\"14773\",\"type\":\"Line\"},\"hover_glyph\":null,\"muted_glyph\":null,\"nonselection_glyph\":{\"id\":\"14774\",\"type\":\"Line\"},\"selection_glyph\":null,\"view\":{\"id\":\"14776\",\"type\":\"CDSView\"}},\"id\":\"14775\",\"type\":\"GlyphRenderer\"},{\"attributes\":{\"label\":{\"value\":\"LDCs\"},\"renderers\":[{\"id\":\"14757\",\"type\":\"GlyphRenderer\"}]},\"id\":\"14766\",\"type\":\"LegendItem\"},{\"attributes\":{},\"id\":\"14809\",\"type\":\"UnionRenderers\"},{\"attributes\":{},\"id\":\"14737\",\"type\":\"BasicTicker\"},{\"attributes\":{\"source\":{\"id\":\"14754\",\"type\":\"ColumnDataSource\"}},\"id\":\"14758\",\"type\":\"CDSView\"},{\"attributes\":{},\"id\":\"15332\",\"type\":\"UnionRenderers\"},{\"attributes\":{},\"id\":\"14745\",\"type\":\"ResetTool\"},{\"attributes\":{\"line_alpha\":0.1,\"line_color\":\"#1f77b4\",\"line_width\":4,\"x\":{\"field\":\"x\"},\"y\":{\"field\":\"y\"}},\"id\":\"14774\",\"type\":\"Line\"},{\"attributes\":{\"callback\":null,\"data\":{\"x\":[\"2000\",\"2001\",\"2002\",\"2003\",\"2004\",\"2005\",\"2006\",\"2007\",\"2008\",\"2009\",\"2010\",\"2011\",\"2012\",\"2013\",\"2014\",\"2015\",\"2016\",\"2017\"],\"y\":[2.871713123812663,2.9511432100791484,3.0136932118765114,2.953868405139294,2.924116416288403,2.9006768448998628,2.8385887182475527,2.787551595330817,2.7628871731196654,2.72341580335172,2.6789486862183955,2.590195657094341,2.529948100519968,2.4961358861963343,2.465255348584935,2.4236075249092615,2.394780581402036,2.3538548161434734]},\"selected\":{\"id\":\"14810\",\"type\":\"Selection\"},\"selection_policy\":{\"id\":\"14811\",\"type\":\"UnionRenderers\"}},\"id\":\"14788\",\"type\":\"ColumnDataSource\"},{\"attributes\":{\"items\":[{\"id\":\"14766\",\"type\":\"LegendItem\"},{\"id\":\"14787\",\"type\":\"LegendItem\"},{\"id\":\"14812\",\"type\":\"LegendItem\"}],\"location\":\"bottom_left\"},\"id\":\"14765\",\"type\":\"Legend\"},{\"attributes\":{\"label\":{\"value\":\"OECD\"},\"renderers\":[{\"id\":\"14796\",\"type\":\"GlyphRenderer\"}]},\"id\":\"14812\",\"type\":\"LegendItem\"},{\"attributes\":{},\"id\":\"14763\",\"type\":\"BasicTickFormatter\"},{\"attributes\":{},\"id\":\"14783\",\"type\":\"Selection\"},{\"attributes\":{\"label\":{\"value\":\"Developing excluding LDCs\"},\"renderers\":[{\"id\":\"14775\",\"type\":\"GlyphRenderer\"}]},\"id\":\"14787\",\"type\":\"LegendItem\"},{\"attributes\":{\"callback\":null,\"data\":{\"x\":[\"2000\",\"2001\",\"2002\",\"2003\",\"2004\",\"2005\",\"2006\",\"2007\",\"2008\",\"2009\",\"2010\",\"2011\",\"2012\",\"2013\",\"2014\",\"2015\",\"2016\",\"2017\"],\"y\":[3.781552399759757,3.9942501736128904,4.0980366224839635,4.1200279616396,4.067771523272396,4.0462628038554005,3.9491110534001477,3.7343089278830024,4.00474292401507,4.006365015359042,4.017012003822316,4.026193802500771,3.976323997042947,3.9618560270813443,3.9501422897690834,3.931939995499514,3.9127531302754495,3.8933983484972026]},\"selected\":{\"id\":\"14785\",\"type\":\"Selection\"},\"selection_policy\":{\"id\":\"14786\",\"type\":\"UnionRenderers\"}},\"id\":\"14767\",\"type\":\"ColumnDataSource\"},{\"attributes\":{},\"id\":\"14784\",\"type\":\"UnionRenderers\"},{\"attributes\":{},\"id\":\"15333\",\"type\":\"Selection\"},{\"attributes\":{},\"id\":\"14729\",\"type\":\"LinearScale\"},{\"attributes\":{},\"id\":\"14742\",\"type\":\"WheelZoomTool\"},{\"attributes\":{\"fill_alpha\":{\"value\":0.1},\"fill_color\":{\"value\":\"#1f77b4\"},\"line_alpha\":{\"value\":0.1},\"line_color\":{\"value\":\"#1f77b4\"},\"size\":{\"units\":\"screen\",\"value\":1},\"x\":{\"field\":\"x\"},\"y\":{\"field\":\"y\"}},\"id\":\"14790\",\"type\":\"Circle\"},{\"attributes\":{\"callback\":null,\"data\":{\"x\":[\"2000\",\"2001\",\"2002\",\"2003\",\"2004\",\"2005\",\"2006\",\"2007\",\"2008\",\"2009\",\"2010\",\"2011\",\"2012\",\"2013\",\"2014\",\"2015\",\"2016\",\"2017\"],\"y\":[0.9948809271821193,1.1720404938170361,1.2487792655994334,1.2098437389978234,1.1858418971351812,1.1566812882637159,1.1461235724859402,1.1299299497492925,1.1478412678703078,1.0667506897450498,1.004952660145055,0.7748422786938176,0.8497708748839219,0.8674781666983666,0.8896129313491413,0.882013187119933,0.8885753632137473,0.8267985143506588]},\"selected\":{\"id\":\"15333\",\"type\":\"Selection\"},\"selection_policy\":{\"id\":\"15334\",\"type\":\"UnionRenderers\"}},\"id\":\"14813\",\"type\":\"ColumnDataSource\"},{\"attributes\":{\"data_source\":{\"id\":\"14767\",\"type\":\"ColumnDataSource\"},\"glyph\":{\"id\":\"14768\",\"type\":\"Circle\"},\"hover_glyph\":null,\"muted_glyph\":null,\"nonselection_glyph\":{\"id\":\"14769\",\"type\":\"Circle\"},\"selection_glyph\":null,\"view\":{\"id\":\"14771\",\"type\":\"CDSView\"}},\"id\":\"14770\",\"type\":\"GlyphRenderer\"},{\"attributes\":{},\"id\":\"14761\",\"type\":\"BasicTickFormatter\"},{\"attributes\":{\"fill_color\":{\"value\":\"#FA1857\"},\"line_color\":{\"value\":\"#FA1857\"},\"size\":{\"units\":\"screen\",\"value\":1},\"x\":{\"field\":\"x\"},\"y\":{\"field\":\"y\"}},\"id\":\"14768\",\"type\":\"Circle\"},{\"attributes\":{\"source\":{\"id\":\"14788\",\"type\":\"ColumnDataSource\"}},\"id\":\"14792\",\"type\":\"CDSView\"},{\"attributes\":{\"source\":{\"id\":\"14793\",\"type\":\"ColumnDataSource\"}},\"id\":\"14797\",\"type\":\"CDSView\"},{\"attributes\":{\"text\":\"Urban population growth (annual %) weighted against Urban population\"},\"id\":\"14721\",\"type\":\"Title\"},{\"attributes\":{\"fill_color\":{\"value\":\"#2CC775\"},\"line_color\":{\"value\":\"#2CC775\"},\"size\":{\"units\":\"screen\",\"value\":1},\"x\":{\"field\":\"x\"},\"y\":{\"field\":\"y\"}},\"id\":\"14814\",\"type\":\"Circle\"},{\"attributes\":{\"callback\":null},\"id\":\"14723\",\"type\":\"DataRange1d\"},{\"attributes\":{\"source\":{\"id\":\"14767\",\"type\":\"ColumnDataSource\"}},\"id\":\"14771\",\"type\":\"CDSView\"},{\"attributes\":{\"axis_label\":\"Years\",\"formatter\":{\"id\":\"14761\",\"type\":\"BasicTickFormatter\"},\"ticker\":{\"id\":\"14732\",\"type\":\"BasicTicker\"}},\"id\":\"14731\",\"type\":\"LinearAxis\"},{\"attributes\":{\"fill_color\":{\"value\":\"#5430F1\"},\"line_color\":{\"value\":\"#5430F1\"},\"size\":{\"units\":\"screen\",\"value\":1},\"x\":{\"field\":\"x\"},\"y\":{\"field\":\"y\"}},\"id\":\"14789\",\"type\":\"Circle\"}],\"root_ids\":[\"14720\"]},\"title\":\"Bokeh Application\",\"version\":\"1.4.0\"}};\n",
       "  var render_items = [{\"docid\":\"6968c6e8-c34d-4d36-86bc-c6fe62d344fe\",\"roots\":{\"14720\":\"a3c5e223-5efc-40ef-bab3-0fb17af6ec5c\"}}];\n",
       "  root.Bokeh.embed.embed_items_notebook(docs_json, render_items);\n",
       "\n",
       "  }\n",
       "  if (root.Bokeh !== undefined) {\n",
       "    embed_document(root);\n",
       "  } else {\n",
       "    var attempts = 0;\n",
       "    var timer = setInterval(function(root) {\n",
       "      if (root.Bokeh !== undefined) {\n",
       "        clearInterval(timer);\n",
       "        embed_document(root);\n",
       "      } else {\n",
       "        attempts++;\n",
       "        if (attempts > 100) {\n",
       "          clearInterval(timer);\n",
       "          console.log(\"Bokeh: ERROR: Unable to run BokehJS code because BokehJS library is missing\");\n",
       "        }\n",
       "      }\n",
       "    }, 10, root)\n",
       "  }\n",
       "})(window);"
      ],
      "application/vnd.bokehjs_exec.v0+json": ""
     },
     "metadata": {
      "application/vnd.bokehjs_exec.v0+json": {
       "id": "14720"
      }
     },
     "output_type": "display_data"
    }
   ],
   "source": [
    "# Growth of urban population\n",
    "years = list(map(str, list(range(2000,2018))))\n",
    "result = show_weighted_average(years, 'SP.URB.GROW', 'SP.URB.TOTL', \n",
    "                               ['LDCs', 'Developing excluding LDCs', 'OECD'], \n",
    "                                height=400, width=1000, line_width=4)"
   ]
  },
  {
   "cell_type": "markdown",
   "metadata": {
    "slideshow": {
     "slide_type": "slide"
    }
   },
   "source": [
    "# Urban areas are rapidly increasing in LDCs\n",
    "\n",
    "# Two thirds of the urban space in the LDCs will have to be built in the next 35 years\n",
    "\n",
    "# The rate of urbanization in LDCs is very high. Cities will have to absorb more people in less time\n",
    "\n",
    "# Adressing the provision of services in a context of low resources and lack of technical capacities constitute a huge challenge"
   ]
  },
  {
   "cell_type": "markdown",
   "metadata": {
    "slideshow": {
     "slide_type": "slide"
    }
   },
   "source": [
    "# Water and sanitation"
   ]
  },
  {
   "cell_type": "code",
   "execution_count": 38,
   "metadata": {
    "ExecuteTime": {
     "end_time": "2019-10-25T14:25:57.739495Z",
     "start_time": "2019-10-25T14:25:51.769121Z"
    },
    "slideshow": {
     "slide_type": "slide"
    }
   },
   "outputs": [
    {
     "data": {
      "text/html": [
       "\n",
       "\n",
       "\n",
       "\n",
       "\n",
       "\n",
       "  <div class=\"bk-root\" id=\"d6f75cbe-d59c-4581-93cc-00e67ceccd52\" data-root-id=\"15443\"></div>\n"
      ]
     },
     "metadata": {},
     "output_type": "display_data"
    },
    {
     "data": {
      "application/javascript": [
       "(function(root) {\n",
       "  function embed_document(root) {\n",
       "    \n",
       "  var docs_json = {\"62b69b7f-4d75-4041-8a54-a86c8f49f15e\":{\"roots\":{\"references\":[{\"attributes\":{\"below\":[{\"id\":\"15454\",\"type\":\"LinearAxis\"}],\"center\":[{\"id\":\"15458\",\"type\":\"Grid\"},{\"id\":\"15463\",\"type\":\"Grid\"},{\"id\":\"15488\",\"type\":\"Legend\"}],\"left\":[{\"id\":\"15459\",\"type\":\"LinearAxis\"}],\"plot_height\":400,\"plot_width\":1000,\"renderers\":[{\"id\":\"15480\",\"type\":\"GlyphRenderer\"},{\"id\":\"15493\",\"type\":\"GlyphRenderer\"},{\"id\":\"15498\",\"type\":\"GlyphRenderer\"},{\"id\":\"15514\",\"type\":\"GlyphRenderer\"},{\"id\":\"15519\",\"type\":\"GlyphRenderer\"},{\"id\":\"15539\",\"type\":\"GlyphRenderer\"}],\"title\":{\"id\":\"15444\",\"type\":\"Title\"},\"toolbar\":{\"id\":\"15470\",\"type\":\"Toolbar\"},\"x_range\":{\"id\":\"15446\",\"type\":\"DataRange1d\"},\"x_scale\":{\"id\":\"15450\",\"type\":\"LinearScale\"},\"y_range\":{\"id\":\"15448\",\"type\":\"DataRange1d\"},\"y_scale\":{\"id\":\"15452\",\"type\":\"LinearScale\"}},\"id\":\"15443\",\"subtype\":\"Figure\",\"type\":\"Plot\"},{\"attributes\":{\"label\":{\"value\":\"OECD\"},\"renderers\":[{\"id\":\"15519\",\"type\":\"GlyphRenderer\"}]},\"id\":\"15535\",\"type\":\"LegendItem\"},{\"attributes\":{\"label\":{\"value\":\"LDCs\"},\"renderers\":[{\"id\":\"15480\",\"type\":\"GlyphRenderer\"}]},\"id\":\"15489\",\"type\":\"LegendItem\"},{\"attributes\":{\"callback\":null,\"data\":{\"x\":[\"2000\",\"2001\",\"2002\",\"2003\",\"2004\",\"2005\",\"2006\",\"2007\",\"2008\",\"2009\",\"2010\",\"2011\",\"2012\",\"2013\",\"2014\",\"2015\",\"2016\",\"2017\"],\"y\":[28.95024757925739,29.209016301994986,29.79844631497895,31.18696960164219,32.69297789614253,34.30733873540626,36.01016978662808,37.93187043091685,39.94500520648879,42.03012406148348,44.17895500170897,46.379028286829,48.62938786590606,50.964846617773375,53.35002880170789,55.76782165250671,58.22878123081063,60.72069424656215]},\"selected\":{\"id\":\"15533\",\"type\":\"Selection\"},\"selection_policy\":{\"id\":\"15534\",\"type\":\"UnionRenderers\"}},\"id\":\"15511\",\"type\":\"ColumnDataSource\"},{\"attributes\":{},\"id\":\"15455\",\"type\":\"BasicTicker\"},{\"attributes\":{},\"id\":\"16072\",\"type\":\"Selection\"},{\"attributes\":{\"callback\":null,\"data\":{\"x\":[\"2000\",\"2001\",\"2002\",\"2003\",\"2004\",\"2005\",\"2006\",\"2007\",\"2008\",\"2009\",\"2010\",\"2011\",\"2012\",\"2013\",\"2014\",\"2015\",\"2016\",\"2017\"],\"y\":[80.04575550274292,80.13536831650443,80.2749830491825,80.58814768410595,80.98591935582309,81.41241391811296,82.53376279435736,82.94328127236986,83.35812838971606,83.77383345525976,84.19453320444809,84.60616451316776,85.02010336426527,85.44818985737146,85.89167410057688,86.28661161448157,86.61428373311065,86.89175663743303]},\"selected\":{\"id\":\"16074\",\"type\":\"Selection\"},\"selection_policy\":{\"id\":\"16075\",\"type\":\"UnionRenderers\"}},\"id\":\"15536\",\"type\":\"ColumnDataSource\"},{\"attributes\":{},\"id\":\"15507\",\"type\":\"UnionRenderers\"},{\"attributes\":{\"source\":{\"id\":\"15490\",\"type\":\"ColumnDataSource\"}},\"id\":\"15494\",\"type\":\"CDSView\"},{\"attributes\":{\"callback\":null,\"data\":{\"x\":[\"2000\",\"2001\",\"2002\",\"2003\",\"2004\",\"2005\",\"2006\",\"2007\",\"2008\",\"2009\",\"2010\",\"2011\",\"2012\",\"2013\",\"2014\",\"2015\",\"2016\",\"2017\"],\"y\":[80.04575550274292,80.13536831650443,80.2749830491825,80.58814768410595,80.98591935582309,81.41241391811296,82.53376279435736,82.94328127236986,83.35812838971606,83.77383345525976,84.19453320444809,84.60616451316776,85.02010336426527,85.44818985737146,85.89167410057688,86.28661161448157,86.61428373311065,86.89175663743303]},\"selected\":{\"id\":\"16072\",\"type\":\"Selection\"},\"selection_policy\":{\"id\":\"16073\",\"type\":\"UnionRenderers\"}},\"id\":\"15516\",\"type\":\"ColumnDataSource\"},{\"attributes\":{\"data_source\":{\"id\":\"15516\",\"type\":\"ColumnDataSource\"},\"glyph\":{\"id\":\"15517\",\"type\":\"Line\"},\"hover_glyph\":null,\"muted_glyph\":null,\"nonselection_glyph\":{\"id\":\"15518\",\"type\":\"Line\"},\"selection_glyph\":null,\"view\":{\"id\":\"15520\",\"type\":\"CDSView\"}},\"id\":\"15519\",\"type\":\"GlyphRenderer\"},{\"attributes\":{},\"id\":\"15465\",\"type\":\"WheelZoomTool\"},{\"attributes\":{\"bottom_units\":\"screen\",\"fill_alpha\":{\"value\":0.5},\"fill_color\":{\"value\":\"lightgrey\"},\"left_units\":\"screen\",\"level\":\"overlay\",\"line_alpha\":{\"value\":1.0},\"line_color\":{\"value\":\"black\"},\"line_dash\":[4,4],\"line_width\":{\"value\":2},\"render_mode\":\"css\",\"right_units\":\"screen\",\"top_units\":\"screen\"},\"id\":\"15487\",\"type\":\"BoxAnnotation\"},{\"attributes\":{},\"id\":\"15534\",\"type\":\"UnionRenderers\"},{\"attributes\":{\"callback\":null},\"id\":\"15448\",\"type\":\"DataRange1d\"},{\"attributes\":{\"overlay\":{\"id\":\"15487\",\"type\":\"BoxAnnotation\"}},\"id\":\"15466\",\"type\":\"BoxZoomTool\"},{\"attributes\":{\"fill_alpha\":{\"value\":0.1},\"fill_color\":{\"value\":\"#1f77b4\"},\"line_alpha\":{\"value\":0.1},\"line_color\":{\"value\":\"#1f77b4\"},\"size\":{\"units\":\"screen\",\"value\":1},\"x\":{\"field\":\"x\"},\"y\":{\"field\":\"y\"}},\"id\":\"15492\",\"type\":\"Circle\"},{\"attributes\":{\"dimension\":1,\"grid_line_alpha\":0.5,\"ticker\":{\"id\":\"15460\",\"type\":\"BasicTicker\"}},\"id\":\"15463\",\"type\":\"Grid\"},{\"attributes\":{},\"id\":\"15484\",\"type\":\"BasicTickFormatter\"},{\"attributes\":{\"source\":{\"id\":\"15516\",\"type\":\"ColumnDataSource\"}},\"id\":\"15520\",\"type\":\"CDSView\"},{\"attributes\":{},\"id\":\"15509\",\"type\":\"UnionRenderers\"},{\"attributes\":{\"data_source\":{\"id\":\"15536\",\"type\":\"ColumnDataSource\"},\"glyph\":{\"id\":\"15537\",\"type\":\"Circle\"},\"hover_glyph\":null,\"muted_glyph\":null,\"nonselection_glyph\":{\"id\":\"15538\",\"type\":\"Circle\"},\"selection_glyph\":null,\"view\":{\"id\":\"15540\",\"type\":\"CDSView\"}},\"id\":\"15539\",\"type\":\"GlyphRenderer\"},{\"attributes\":{},\"id\":\"15469\",\"type\":\"HelpTool\"},{\"attributes\":{\"line_alpha\":0.1,\"line_color\":\"#1f77b4\",\"line_width\":4,\"x\":{\"field\":\"x\"},\"y\":{\"field\":\"y\"}},\"id\":\"15518\",\"type\":\"Line\"},{\"attributes\":{},\"id\":\"15468\",\"type\":\"ResetTool\"},{\"attributes\":{\"data_source\":{\"id\":\"15490\",\"type\":\"ColumnDataSource\"},\"glyph\":{\"id\":\"15491\",\"type\":\"Circle\"},\"hover_glyph\":null,\"muted_glyph\":null,\"nonselection_glyph\":{\"id\":\"15492\",\"type\":\"Circle\"},\"selection_glyph\":null,\"view\":{\"id\":\"15494\",\"type\":\"CDSView\"}},\"id\":\"15493\",\"type\":\"GlyphRenderer\"},{\"attributes\":{\"line_alpha\":0.1,\"line_color\":\"#1f77b4\",\"line_width\":4,\"x\":{\"field\":\"x\"},\"y\":{\"field\":\"y\"}},\"id\":\"15479\",\"type\":\"Line\"},{\"attributes\":{\"data_source\":{\"id\":\"15495\",\"type\":\"ColumnDataSource\"},\"glyph\":{\"id\":\"15496\",\"type\":\"Line\"},\"hover_glyph\":null,\"muted_glyph\":null,\"nonselection_glyph\":{\"id\":\"15497\",\"type\":\"Line\"},\"selection_glyph\":null,\"view\":{\"id\":\"15499\",\"type\":\"CDSView\"}},\"id\":\"15498\",\"type\":\"GlyphRenderer\"},{\"attributes\":{\"callback\":null,\"data\":{\"x\":[\"2000\",\"2001\",\"2002\",\"2003\",\"2004\",\"2005\",\"2006\",\"2007\",\"2008\",\"2009\",\"2010\",\"2011\",\"2012\",\"2013\",\"2014\",\"2015\",\"2016\",\"2017\"],\"y\":[28.95024757925739,29.209016301994986,29.79844631497895,31.18696960164219,32.69297789614253,34.30733873540626,36.01016978662808,37.93187043091685,39.94500520648879,42.03012406148348,44.17895500170897,46.379028286829,48.62938786590606,50.964846617773375,53.35002880170789,55.76782165250671,58.22878123081063,60.72069424656215]},\"selected\":{\"id\":\"15531\",\"type\":\"Selection\"},\"selection_policy\":{\"id\":\"15532\",\"type\":\"UnionRenderers\"}},\"id\":\"15495\",\"type\":\"ColumnDataSource\"},{\"attributes\":{\"line_color\":\"#5430F1\",\"line_width\":4,\"x\":{\"field\":\"x\"},\"y\":{\"field\":\"y\"}},\"id\":\"15496\",\"type\":\"Line\"},{\"attributes\":{\"fill_alpha\":{\"value\":0.1},\"fill_color\":{\"value\":\"#1f77b4\"},\"line_alpha\":{\"value\":0.1},\"line_color\":{\"value\":\"#1f77b4\"},\"size\":{\"units\":\"screen\",\"value\":1},\"x\":{\"field\":\"x\"},\"y\":{\"field\":\"y\"}},\"id\":\"15538\",\"type\":\"Circle\"},{\"attributes\":{\"callback\":null,\"tooltips\":\"                \\n        <div style=padding=5px>Year:@x</div>\\n        <div style=padding=5px>Value:@y</div>        \\n        \"},\"id\":\"15541\",\"type\":\"HoverTool\"},{\"attributes\":{\"callback\":null,\"data\":{\"x\":[\"2000\",\"2001\",\"2002\",\"2003\",\"2004\",\"2005\",\"2006\",\"2007\",\"2008\",\"2009\",\"2010\",\"2011\",\"2012\",\"2013\",\"2014\",\"2015\",\"2016\",\"2017\"],\"y\":[7.313298252489695,8.310611901533424,9.28077115926377,10.252918388064188,11.205379345323372,12.149632874228196,13.089596716542752,14.025080502459863,14.955900981807803,15.821696108471013,16.709045789768172,17.553474451435992,18.374064944696872,19.187805301854954,19.99536707307814,20.797136473512598,21.58898092737968,22.374104786870443]},\"selected\":{\"id\":\"15506\",\"type\":\"Selection\"},\"selection_policy\":{\"id\":\"15507\",\"type\":\"UnionRenderers\"}},\"id\":\"15477\",\"type\":\"ColumnDataSource\"},{\"attributes\":{},\"id\":\"15532\",\"type\":\"UnionRenderers\"},{\"attributes\":{\"data_source\":{\"id\":\"15511\",\"type\":\"ColumnDataSource\"},\"glyph\":{\"id\":\"15512\",\"type\":\"Circle\"},\"hover_glyph\":null,\"muted_glyph\":null,\"nonselection_glyph\":{\"id\":\"15513\",\"type\":\"Circle\"},\"selection_glyph\":null,\"view\":{\"id\":\"15515\",\"type\":\"CDSView\"}},\"id\":\"15514\",\"type\":\"GlyphRenderer\"},{\"attributes\":{\"grid_line_color\":null,\"ticker\":{\"id\":\"15455\",\"type\":\"BasicTicker\"}},\"id\":\"15458\",\"type\":\"Grid\"},{\"attributes\":{\"items\":[{\"id\":\"15489\",\"type\":\"LegendItem\"},{\"id\":\"15510\",\"type\":\"LegendItem\"},{\"id\":\"15535\",\"type\":\"LegendItem\"}],\"location\":\"bottom_left\"},\"id\":\"15488\",\"type\":\"Legend\"},{\"attributes\":{\"line_alpha\":0.1,\"line_color\":\"#1f77b4\",\"line_width\":4,\"x\":{\"field\":\"x\"},\"y\":{\"field\":\"y\"}},\"id\":\"15497\",\"type\":\"Line\"},{\"attributes\":{\"source\":{\"id\":\"15477\",\"type\":\"ColumnDataSource\"}},\"id\":\"15481\",\"type\":\"CDSView\"},{\"attributes\":{},\"id\":\"16073\",\"type\":\"UnionRenderers\"},{\"attributes\":{},\"id\":\"16075\",\"type\":\"UnionRenderers\"},{\"attributes\":{\"active_drag\":\"auto\",\"active_inspect\":\"auto\",\"active_multi\":null,\"active_scroll\":\"auto\",\"active_tap\":\"auto\",\"tools\":[{\"id\":\"15464\",\"type\":\"PanTool\"},{\"id\":\"15465\",\"type\":\"WheelZoomTool\"},{\"id\":\"15466\",\"type\":\"BoxZoomTool\"},{\"id\":\"15467\",\"type\":\"SaveTool\"},{\"id\":\"15468\",\"type\":\"ResetTool\"},{\"id\":\"15469\",\"type\":\"HelpTool\"},{\"id\":\"15541\",\"type\":\"HoverTool\"}]},\"id\":\"15470\",\"type\":\"Toolbar\"},{\"attributes\":{\"text\":\"People using safely managed sanitation services (% of population) weighted against Population, total\"},\"id\":\"15444\",\"type\":\"Title\"},{\"attributes\":{\"axis_label\":\"SH.STA.SMSS.ZS\",\"formatter\":{\"id\":\"15486\",\"type\":\"BasicTickFormatter\"},\"ticker\":{\"id\":\"15460\",\"type\":\"BasicTicker\"}},\"id\":\"15459\",\"type\":\"LinearAxis\"},{\"attributes\":{\"source\":{\"id\":\"15511\",\"type\":\"ColumnDataSource\"}},\"id\":\"15515\",\"type\":\"CDSView\"},{\"attributes\":{},\"id\":\"15464\",\"type\":\"PanTool\"},{\"attributes\":{\"source\":{\"id\":\"15495\",\"type\":\"ColumnDataSource\"}},\"id\":\"15499\",\"type\":\"CDSView\"},{\"attributes\":{},\"id\":\"15506\",\"type\":\"Selection\"},{\"attributes\":{\"line_color\":\"#FA1857\",\"line_width\":4,\"x\":{\"field\":\"x\"},\"y\":{\"field\":\"y\"}},\"id\":\"15478\",\"type\":\"Line\"},{\"attributes\":{},\"id\":\"15450\",\"type\":\"LinearScale\"},{\"attributes\":{\"label\":{\"value\":\"Developing excluding LDCs\"},\"renderers\":[{\"id\":\"15498\",\"type\":\"GlyphRenderer\"}]},\"id\":\"15510\",\"type\":\"LegendItem\"},{\"attributes\":{\"callback\":null,\"data\":{\"x\":[\"2000\",\"2001\",\"2002\",\"2003\",\"2004\",\"2005\",\"2006\",\"2007\",\"2008\",\"2009\",\"2010\",\"2011\",\"2012\",\"2013\",\"2014\",\"2015\",\"2016\",\"2017\"],\"y\":[7.313298252489695,8.310611901533424,9.28077115926377,10.252918388064188,11.205379345323372,12.149632874228196,13.089596716542752,14.025080502459863,14.955900981807803,15.821696108471013,16.709045789768172,17.553474451435992,18.374064944696872,19.187805301854954,19.99536707307814,20.797136473512598,21.58898092737968,22.374104786870443]},\"selected\":{\"id\":\"15508\",\"type\":\"Selection\"},\"selection_policy\":{\"id\":\"15509\",\"type\":\"UnionRenderers\"}},\"id\":\"15490\",\"type\":\"ColumnDataSource\"},{\"attributes\":{},\"id\":\"16074\",\"type\":\"Selection\"},{\"attributes\":{\"source\":{\"id\":\"15536\",\"type\":\"ColumnDataSource\"}},\"id\":\"15540\",\"type\":\"CDSView\"},{\"attributes\":{},\"id\":\"15460\",\"type\":\"BasicTicker\"},{\"attributes\":{\"fill_color\":{\"value\":\"#5430F1\"},\"line_color\":{\"value\":\"#5430F1\"},\"size\":{\"units\":\"screen\",\"value\":1},\"x\":{\"field\":\"x\"},\"y\":{\"field\":\"y\"}},\"id\":\"15512\",\"type\":\"Circle\"},{\"attributes\":{\"line_color\":\"#2CC775\",\"line_width\":4,\"x\":{\"field\":\"x\"},\"y\":{\"field\":\"y\"}},\"id\":\"15517\",\"type\":\"Line\"},{\"attributes\":{\"axis_label\":\"Years\",\"formatter\":{\"id\":\"15484\",\"type\":\"BasicTickFormatter\"},\"ticker\":{\"id\":\"15455\",\"type\":\"BasicTicker\"}},\"id\":\"15454\",\"type\":\"LinearAxis\"},{\"attributes\":{},\"id\":\"15467\",\"type\":\"SaveTool\"},{\"attributes\":{\"fill_color\":{\"value\":\"#2CC775\"},\"line_color\":{\"value\":\"#2CC775\"},\"size\":{\"units\":\"screen\",\"value\":1},\"x\":{\"field\":\"x\"},\"y\":{\"field\":\"y\"}},\"id\":\"15537\",\"type\":\"Circle\"},{\"attributes\":{},\"id\":\"15531\",\"type\":\"Selection\"},{\"attributes\":{},\"id\":\"15452\",\"type\":\"LinearScale\"},{\"attributes\":{},\"id\":\"15486\",\"type\":\"BasicTickFormatter\"},{\"attributes\":{\"fill_alpha\":{\"value\":0.1},\"fill_color\":{\"value\":\"#1f77b4\"},\"line_alpha\":{\"value\":0.1},\"line_color\":{\"value\":\"#1f77b4\"},\"size\":{\"units\":\"screen\",\"value\":1},\"x\":{\"field\":\"x\"},\"y\":{\"field\":\"y\"}},\"id\":\"15513\",\"type\":\"Circle\"},{\"attributes\":{},\"id\":\"15508\",\"type\":\"Selection\"},{\"attributes\":{\"data_source\":{\"id\":\"15477\",\"type\":\"ColumnDataSource\"},\"glyph\":{\"id\":\"15478\",\"type\":\"Line\"},\"hover_glyph\":null,\"muted_glyph\":null,\"nonselection_glyph\":{\"id\":\"15479\",\"type\":\"Line\"},\"selection_glyph\":null,\"view\":{\"id\":\"15481\",\"type\":\"CDSView\"}},\"id\":\"15480\",\"type\":\"GlyphRenderer\"},{\"attributes\":{},\"id\":\"15533\",\"type\":\"Selection\"},{\"attributes\":{\"fill_color\":{\"value\":\"#FA1857\"},\"line_color\":{\"value\":\"#FA1857\"},\"size\":{\"units\":\"screen\",\"value\":1},\"x\":{\"field\":\"x\"},\"y\":{\"field\":\"y\"}},\"id\":\"15491\",\"type\":\"Circle\"},{\"attributes\":{\"callback\":null},\"id\":\"15446\",\"type\":\"DataRange1d\"}],\"root_ids\":[\"15443\"]},\"title\":\"Bokeh Application\",\"version\":\"1.4.0\"}};\n",
       "  var render_items = [{\"docid\":\"62b69b7f-4d75-4041-8a54-a86c8f49f15e\",\"roots\":{\"15443\":\"d6f75cbe-d59c-4581-93cc-00e67ceccd52\"}}];\n",
       "  root.Bokeh.embed.embed_items_notebook(docs_json, render_items);\n",
       "\n",
       "  }\n",
       "  if (root.Bokeh !== undefined) {\n",
       "    embed_document(root);\n",
       "  } else {\n",
       "    var attempts = 0;\n",
       "    var timer = setInterval(function(root) {\n",
       "      if (root.Bokeh !== undefined) {\n",
       "        clearInterval(timer);\n",
       "        embed_document(root);\n",
       "      } else {\n",
       "        attempts++;\n",
       "        if (attempts > 100) {\n",
       "          clearInterval(timer);\n",
       "          console.log(\"Bokeh: ERROR: Unable to run BokehJS code because BokehJS library is missing\");\n",
       "        }\n",
       "      }\n",
       "    }, 10, root)\n",
       "  }\n",
       "})(window);"
      ],
      "application/vnd.bokehjs_exec.v0+json": ""
     },
     "metadata": {
      "application/vnd.bokehjs_exec.v0+json": {
       "id": "15443"
      }
     },
     "output_type": "display_data"
    }
   ],
   "source": [
    "# Access to safely managed sanitation services\n",
    "years = list(map(str, list(range(2000,2018))))\n",
    "result = show_weighted_average(years, 'SH.STA.SMSS.ZS', 'SP.POP.TOTL', \n",
    "                               ['LDCs', 'Developing excluding LDCs', 'OECD'], \n",
    "                                height=400, width=1000, line_width=4)"
   ]
  },
  {
   "cell_type": "code",
   "execution_count": 39,
   "metadata": {
    "ExecuteTime": {
     "end_time": "2019-10-25T14:26:01.793967Z",
     "start_time": "2019-10-25T14:25:57.741996Z"
    },
    "slideshow": {
     "slide_type": "slide"
    }
   },
   "outputs": [
    {
     "data": {
      "text/html": [
       "\n",
       "\n",
       "\n",
       "\n",
       "\n",
       "\n",
       "  <div class=\"bk-root\" id=\"04472b72-5844-4472-b99c-e864d4721553\" data-root-id=\"16184\"></div>\n"
      ]
     },
     "metadata": {},
     "output_type": "display_data"
    },
    {
     "data": {
      "application/javascript": [
       "(function(root) {\n",
       "  function embed_document(root) {\n",
       "    \n",
       "  var docs_json = {\"7a367ada-293b-4844-815a-4ad7246295bc\":{\"roots\":{\"references\":[{\"attributes\":{\"below\":[{\"id\":\"16195\",\"type\":\"LinearAxis\"}],\"center\":[{\"id\":\"16199\",\"type\":\"Grid\"},{\"id\":\"16204\",\"type\":\"Grid\"},{\"id\":\"16229\",\"type\":\"Legend\"}],\"left\":[{\"id\":\"16200\",\"type\":\"LinearAxis\"}],\"plot_height\":400,\"plot_width\":1000,\"renderers\":[{\"id\":\"16221\",\"type\":\"GlyphRenderer\"},{\"id\":\"16234\",\"type\":\"GlyphRenderer\"},{\"id\":\"16239\",\"type\":\"GlyphRenderer\"},{\"id\":\"16255\",\"type\":\"GlyphRenderer\"}],\"title\":{\"id\":\"16185\",\"type\":\"Title\"},\"toolbar\":{\"id\":\"16211\",\"type\":\"Toolbar\"},\"x_range\":{\"id\":\"16187\",\"type\":\"DataRange1d\"},\"x_scale\":{\"id\":\"16191\",\"type\":\"LinearScale\"},\"y_range\":{\"id\":\"16189\",\"type\":\"DataRange1d\"},\"y_scale\":{\"id\":\"16193\",\"type\":\"LinearScale\"}},\"id\":\"16184\",\"subtype\":\"Figure\",\"type\":\"Plot\"},{\"attributes\":{\"axis_label\":\"Years\",\"formatter\":{\"id\":\"16225\",\"type\":\"BasicTickFormatter\"},\"ticker\":{\"id\":\"16196\",\"type\":\"BasicTicker\"}},\"id\":\"16195\",\"type\":\"LinearAxis\"},{\"attributes\":{\"line_color\":\"#FA1857\",\"line_width\":4,\"x\":{\"field\":\"x\"},\"y\":{\"field\":\"y\"}},\"id\":\"16219\",\"type\":\"Line\"},{\"attributes\":{\"bottom_units\":\"screen\",\"fill_alpha\":{\"value\":0.5},\"fill_color\":{\"value\":\"lightgrey\"},\"left_units\":\"screen\",\"level\":\"overlay\",\"line_alpha\":{\"value\":1.0},\"line_color\":{\"value\":\"black\"},\"line_dash\":[4,4],\"line_width\":{\"value\":2},\"render_mode\":\"css\",\"right_units\":\"screen\",\"top_units\":\"screen\"},\"id\":\"16228\",\"type\":\"BoxAnnotation\"},{\"attributes\":{},\"id\":\"16196\",\"type\":\"BasicTicker\"},{\"attributes\":{\"line_color\":\"#5430F1\",\"line_width\":4,\"x\":{\"field\":\"x\"},\"y\":{\"field\":\"y\"}},\"id\":\"16237\",\"type\":\"Line\"},{\"attributes\":{\"dimension\":1,\"grid_line_alpha\":0.5,\"ticker\":{\"id\":\"16201\",\"type\":\"BasicTicker\"}},\"id\":\"16204\",\"type\":\"Grid\"},{\"attributes\":{},\"id\":\"16247\",\"type\":\"Selection\"},{\"attributes\":{},\"id\":\"16225\",\"type\":\"BasicTickFormatter\"},{\"attributes\":{\"callback\":null,\"data\":{\"x\":[\"2000\",\"2001\",\"2002\",\"2003\",\"2004\",\"2005\",\"2006\",\"2007\",\"2008\",\"2009\",\"2010\",\"2011\",\"2012\",\"2013\",\"2014\",\"2015\",\"2016\",\"2017\"],\"y\":[80.52938553993671,80.98306916658386,81.75577271857544,82.51738528343346,83.26856527716375,84.01035061665243,84.73493683343618,85.44665790841732,86.14597909243486,86.82384120053665,87.49098552195242,88.14296769426193,88.78219085406499,89.40976403386004,90.02760049458978,90.63753858167426,91.22512295896829,91.73069352453612]},\"selected\":{\"id\":\"16802\",\"type\":\"Selection\"},\"selection_policy\":{\"id\":\"16803\",\"type\":\"UnionRenderers\"}},\"id\":\"16236\",\"type\":\"ColumnDataSource\"},{\"attributes\":{},\"id\":\"16201\",\"type\":\"BasicTicker\"},{\"attributes\":{\"fill_color\":{\"value\":\"#FA1857\"},\"line_color\":{\"value\":\"#FA1857\"},\"size\":{\"units\":\"screen\",\"value\":1},\"x\":{\"field\":\"x\"},\"y\":{\"field\":\"y\"}},\"id\":\"16232\",\"type\":\"Circle\"},{\"attributes\":{\"active_drag\":\"auto\",\"active_inspect\":\"auto\",\"active_multi\":null,\"active_scroll\":\"auto\",\"active_tap\":\"auto\",\"tools\":[{\"id\":\"16205\",\"type\":\"PanTool\"},{\"id\":\"16206\",\"type\":\"WheelZoomTool\"},{\"id\":\"16207\",\"type\":\"BoxZoomTool\"},{\"id\":\"16208\",\"type\":\"SaveTool\"},{\"id\":\"16209\",\"type\":\"ResetTool\"},{\"id\":\"16210\",\"type\":\"HelpTool\"},{\"id\":\"16257\",\"type\":\"HoverTool\"}]},\"id\":\"16211\",\"type\":\"Toolbar\"},{\"attributes\":{},\"id\":\"16193\",\"type\":\"LinearScale\"},{\"attributes\":{\"fill_alpha\":{\"value\":0.1},\"fill_color\":{\"value\":\"#1f77b4\"},\"line_alpha\":{\"value\":0.1},\"line_color\":{\"value\":\"#1f77b4\"},\"size\":{\"units\":\"screen\",\"value\":1},\"x\":{\"field\":\"x\"},\"y\":{\"field\":\"y\"}},\"id\":\"16233\",\"type\":\"Circle\"},{\"attributes\":{\"axis_label\":\"SH.H2O.BASW.ZS\",\"formatter\":{\"id\":\"16227\",\"type\":\"BasicTickFormatter\"},\"ticker\":{\"id\":\"16201\",\"type\":\"BasicTicker\"}},\"id\":\"16200\",\"type\":\"LinearAxis\"},{\"attributes\":{\"callback\":null,\"data\":{\"x\":[\"2000\",\"2001\",\"2002\",\"2003\",\"2004\",\"2005\",\"2006\",\"2007\",\"2008\",\"2009\",\"2010\",\"2011\",\"2012\",\"2013\",\"2014\",\"2015\",\"2016\",\"2017\"],\"y\":[49.88174088230704,50.608086227470224,51.395986738735594,52.22351498455358,53.05074087389461,53.92007437124153,54.779372631776084,55.62089417800866,56.4996966988253,57.37541469551412,58.24907194342576,58.917144030541415,59.80691635243508,60.671159882373644,61.5393733519655,62.35975740919952,63.092404238757574,63.83980163897949]},\"selected\":{\"id\":\"16249\",\"type\":\"Selection\"},\"selection_policy\":{\"id\":\"16250\",\"type\":\"UnionRenderers\"}},\"id\":\"16231\",\"type\":\"ColumnDataSource\"},{\"attributes\":{\"fill_color\":{\"value\":\"#5430F1\"},\"line_color\":{\"value\":\"#5430F1\"},\"size\":{\"units\":\"screen\",\"value\":1},\"x\":{\"field\":\"x\"},\"y\":{\"field\":\"y\"}},\"id\":\"16253\",\"type\":\"Circle\"},{\"attributes\":{},\"id\":\"16803\",\"type\":\"UnionRenderers\"},{\"attributes\":{},\"id\":\"16248\",\"type\":\"UnionRenderers\"},{\"attributes\":{},\"id\":\"16191\",\"type\":\"LinearScale\"},{\"attributes\":{},\"id\":\"16227\",\"type\":\"BasicTickFormatter\"},{\"attributes\":{},\"id\":\"16805\",\"type\":\"UnionRenderers\"},{\"attributes\":{\"data_source\":{\"id\":\"16252\",\"type\":\"ColumnDataSource\"},\"glyph\":{\"id\":\"16253\",\"type\":\"Circle\"},\"hover_glyph\":null,\"muted_glyph\":null,\"nonselection_glyph\":{\"id\":\"16254\",\"type\":\"Circle\"},\"selection_glyph\":null,\"view\":{\"id\":\"16256\",\"type\":\"CDSView\"}},\"id\":\"16255\",\"type\":\"GlyphRenderer\"},{\"attributes\":{\"data_source\":{\"id\":\"16236\",\"type\":\"ColumnDataSource\"},\"glyph\":{\"id\":\"16237\",\"type\":\"Line\"},\"hover_glyph\":null,\"muted_glyph\":null,\"nonselection_glyph\":{\"id\":\"16238\",\"type\":\"Line\"},\"selection_glyph\":null,\"view\":{\"id\":\"16240\",\"type\":\"CDSView\"}},\"id\":\"16239\",\"type\":\"GlyphRenderer\"},{\"attributes\":{\"source\":{\"id\":\"16218\",\"type\":\"ColumnDataSource\"}},\"id\":\"16222\",\"type\":\"CDSView\"},{\"attributes\":{\"grid_line_color\":null,\"ticker\":{\"id\":\"16196\",\"type\":\"BasicTicker\"}},\"id\":\"16199\",\"type\":\"Grid\"},{\"attributes\":{},\"id\":\"16210\",\"type\":\"HelpTool\"},{\"attributes\":{\"source\":{\"id\":\"16231\",\"type\":\"ColumnDataSource\"}},\"id\":\"16235\",\"type\":\"CDSView\"},{\"attributes\":{},\"id\":\"16205\",\"type\":\"PanTool\"},{\"attributes\":{\"callback\":null,\"tooltips\":\"                \\n        <div style=padding=5px>Year:@x</div>\\n        <div style=padding=5px>Value:@y</div>        \\n        \"},\"id\":\"16257\",\"type\":\"HoverTool\"},{\"attributes\":{\"callback\":null},\"id\":\"16187\",\"type\":\"DataRange1d\"},{\"attributes\":{\"text\":\"People using at least basic drinking water services (% of population) weighted against Population, total\"},\"id\":\"16185\",\"type\":\"Title\"},{\"attributes\":{},\"id\":\"16206\",\"type\":\"WheelZoomTool\"},{\"attributes\":{\"callback\":null,\"data\":{\"x\":[\"2000\",\"2001\",\"2002\",\"2003\",\"2004\",\"2005\",\"2006\",\"2007\",\"2008\",\"2009\",\"2010\",\"2011\",\"2012\",\"2013\",\"2014\",\"2015\",\"2016\",\"2017\"],\"y\":[80.52938553993671,80.98306916658386,81.75577271857544,82.51738528343346,83.26856527716375,84.01035061665243,84.73493683343618,85.44665790841732,86.14597909243486,86.82384120053665,87.49098552195242,88.14296769426193,88.78219085406499,89.40976403386004,90.02760049458978,90.63753858167426,91.22512295896829,91.73069352453612]},\"selected\":{\"id\":\"16804\",\"type\":\"Selection\"},\"selection_policy\":{\"id\":\"16805\",\"type\":\"UnionRenderers\"}},\"id\":\"16252\",\"type\":\"ColumnDataSource\"},{\"attributes\":{\"data_source\":{\"id\":\"16218\",\"type\":\"ColumnDataSource\"},\"glyph\":{\"id\":\"16219\",\"type\":\"Line\"},\"hover_glyph\":null,\"muted_glyph\":null,\"nonselection_glyph\":{\"id\":\"16220\",\"type\":\"Line\"},\"selection_glyph\":null,\"view\":{\"id\":\"16222\",\"type\":\"CDSView\"}},\"id\":\"16221\",\"type\":\"GlyphRenderer\"},{\"attributes\":{\"source\":{\"id\":\"16252\",\"type\":\"ColumnDataSource\"}},\"id\":\"16256\",\"type\":\"CDSView\"},{\"attributes\":{\"source\":{\"id\":\"16236\",\"type\":\"ColumnDataSource\"}},\"id\":\"16240\",\"type\":\"CDSView\"},{\"attributes\":{\"fill_alpha\":{\"value\":0.1},\"fill_color\":{\"value\":\"#1f77b4\"},\"line_alpha\":{\"value\":0.1},\"line_color\":{\"value\":\"#1f77b4\"},\"size\":{\"units\":\"screen\",\"value\":1},\"x\":{\"field\":\"x\"},\"y\":{\"field\":\"y\"}},\"id\":\"16254\",\"type\":\"Circle\"},{\"attributes\":{},\"id\":\"16804\",\"type\":\"Selection\"},{\"attributes\":{\"overlay\":{\"id\":\"16228\",\"type\":\"BoxAnnotation\"}},\"id\":\"16207\",\"type\":\"BoxZoomTool\"},{\"attributes\":{\"label\":{\"value\":\"LDCs\"},\"renderers\":[{\"id\":\"16221\",\"type\":\"GlyphRenderer\"}]},\"id\":\"16230\",\"type\":\"LegendItem\"},{\"attributes\":{},\"id\":\"16209\",\"type\":\"ResetTool\"},{\"attributes\":{\"items\":[{\"id\":\"16230\",\"type\":\"LegendItem\"},{\"id\":\"16251\",\"type\":\"LegendItem\"}],\"location\":\"bottom_left\"},\"id\":\"16229\",\"type\":\"Legend\"},{\"attributes\":{},\"id\":\"16249\",\"type\":\"Selection\"},{\"attributes\":{\"callback\":null},\"id\":\"16189\",\"type\":\"DataRange1d\"},{\"attributes\":{},\"id\":\"16208\",\"type\":\"SaveTool\"},{\"attributes\":{\"callback\":null,\"data\":{\"x\":[\"2000\",\"2001\",\"2002\",\"2003\",\"2004\",\"2005\",\"2006\",\"2007\",\"2008\",\"2009\",\"2010\",\"2011\",\"2012\",\"2013\",\"2014\",\"2015\",\"2016\",\"2017\"],\"y\":[49.88174088230704,50.608086227470224,51.395986738735594,52.22351498455358,53.05074087389461,53.92007437124153,54.779372631776084,55.62089417800866,56.4996966988253,57.37541469551412,58.24907194342576,58.917144030541415,59.80691635243508,60.671159882373644,61.5393733519655,62.35975740919952,63.092404238757574,63.83980163897949]},\"selected\":{\"id\":\"16247\",\"type\":\"Selection\"},\"selection_policy\":{\"id\":\"16248\",\"type\":\"UnionRenderers\"}},\"id\":\"16218\",\"type\":\"ColumnDataSource\"},{\"attributes\":{\"line_alpha\":0.1,\"line_color\":\"#1f77b4\",\"line_width\":4,\"x\":{\"field\":\"x\"},\"y\":{\"field\":\"y\"}},\"id\":\"16238\",\"type\":\"Line\"},{\"attributes\":{\"data_source\":{\"id\":\"16231\",\"type\":\"ColumnDataSource\"},\"glyph\":{\"id\":\"16232\",\"type\":\"Circle\"},\"hover_glyph\":null,\"muted_glyph\":null,\"nonselection_glyph\":{\"id\":\"16233\",\"type\":\"Circle\"},\"selection_glyph\":null,\"view\":{\"id\":\"16235\",\"type\":\"CDSView\"}},\"id\":\"16234\",\"type\":\"GlyphRenderer\"},{\"attributes\":{},\"id\":\"16250\",\"type\":\"UnionRenderers\"},{\"attributes\":{},\"id\":\"16802\",\"type\":\"Selection\"},{\"attributes\":{\"line_alpha\":0.1,\"line_color\":\"#1f77b4\",\"line_width\":4,\"x\":{\"field\":\"x\"},\"y\":{\"field\":\"y\"}},\"id\":\"16220\",\"type\":\"Line\"},{\"attributes\":{\"label\":{\"value\":\"Developing excluding LDCs\"},\"renderers\":[{\"id\":\"16239\",\"type\":\"GlyphRenderer\"}]},\"id\":\"16251\",\"type\":\"LegendItem\"}],\"root_ids\":[\"16184\"]},\"title\":\"Bokeh Application\",\"version\":\"1.4.0\"}};\n",
       "  var render_items = [{\"docid\":\"7a367ada-293b-4844-815a-4ad7246295bc\",\"roots\":{\"16184\":\"04472b72-5844-4472-b99c-e864d4721553\"}}];\n",
       "  root.Bokeh.embed.embed_items_notebook(docs_json, render_items);\n",
       "\n",
       "  }\n",
       "  if (root.Bokeh !== undefined) {\n",
       "    embed_document(root);\n",
       "  } else {\n",
       "    var attempts = 0;\n",
       "    var timer = setInterval(function(root) {\n",
       "      if (root.Bokeh !== undefined) {\n",
       "        clearInterval(timer);\n",
       "        embed_document(root);\n",
       "      } else {\n",
       "        attempts++;\n",
       "        if (attempts > 100) {\n",
       "          clearInterval(timer);\n",
       "          console.log(\"Bokeh: ERROR: Unable to run BokehJS code because BokehJS library is missing\");\n",
       "        }\n",
       "      }\n",
       "    }, 10, root)\n",
       "  }\n",
       "})(window);"
      ],
      "application/vnd.bokehjs_exec.v0+json": ""
     },
     "metadata": {
      "application/vnd.bokehjs_exec.v0+json": {
       "id": "16184"
      }
     },
     "output_type": "display_data"
    }
   ],
   "source": [
    "# Basic water access\n",
    "years = list(map(str, list(range(2000,2018))))\n",
    "result = show_weighted_average(years, 'SH.H2O.BASW.ZS', 'SP.POP.TOTL', ['LDCs', 'Developing excluding LDCs'], \n",
    "                                height=400, width=1000, line_width=4)"
   ]
  },
  {
   "cell_type": "code",
   "execution_count": 40,
   "metadata": {
    "ExecuteTime": {
     "end_time": "2019-10-25T14:26:06.027715Z",
     "start_time": "2019-10-25T14:26:01.795810Z"
    },
    "slideshow": {
     "slide_type": "slide"
    }
   },
   "outputs": [
    {
     "data": {
      "text/html": [
       "\n",
       "\n",
       "\n",
       "\n",
       "\n",
       "\n",
       "  <div class=\"bk-root\" id=\"9ac7d811-5f01-4f4b-a278-295327008440\" data-root-id=\"16890\"></div>\n"
      ]
     },
     "metadata": {},
     "output_type": "display_data"
    },
    {
     "data": {
      "application/javascript": [
       "(function(root) {\n",
       "  function embed_document(root) {\n",
       "    \n",
       "  var docs_json = {\"32d89dd2-2100-4819-b0b0-cd85798f6d94\":{\"roots\":{\"references\":[{\"attributes\":{\"below\":[{\"id\":\"16901\",\"type\":\"LinearAxis\"}],\"center\":[{\"id\":\"16905\",\"type\":\"Grid\"},{\"id\":\"16910\",\"type\":\"Grid\"},{\"id\":\"16935\",\"type\":\"Legend\"}],\"left\":[{\"id\":\"16906\",\"type\":\"LinearAxis\"}],\"plot_height\":400,\"plot_width\":1000,\"renderers\":[{\"id\":\"16927\",\"type\":\"GlyphRenderer\"},{\"id\":\"16940\",\"type\":\"GlyphRenderer\"},{\"id\":\"16945\",\"type\":\"GlyphRenderer\"},{\"id\":\"16961\",\"type\":\"GlyphRenderer\"}],\"title\":{\"id\":\"16891\",\"type\":\"Title\"},\"toolbar\":{\"id\":\"16917\",\"type\":\"Toolbar\"},\"x_range\":{\"id\":\"16893\",\"type\":\"DataRange1d\"},\"x_scale\":{\"id\":\"16897\",\"type\":\"LinearScale\"},\"y_range\":{\"id\":\"16895\",\"type\":\"DataRange1d\"},\"y_scale\":{\"id\":\"16899\",\"type\":\"LinearScale\"}},\"id\":\"16890\",\"subtype\":\"Figure\",\"type\":\"Plot\"},{\"attributes\":{\"callback\":null,\"tooltips\":\"                \\n        <div style=padding=5px>Year:@x</div>\\n        <div style=padding=5px>Value:@y</div>        \\n        \"},\"id\":\"16963\",\"type\":\"HoverTool\"},{\"attributes\":{\"grid_line_color\":null,\"ticker\":{\"id\":\"16902\",\"type\":\"BasicTicker\"}},\"id\":\"16905\",\"type\":\"Grid\"},{\"attributes\":{\"source\":{\"id\":\"16937\",\"type\":\"ColumnDataSource\"}},\"id\":\"16941\",\"type\":\"CDSView\"},{\"attributes\":{},\"id\":\"17523\",\"type\":\"UnionRenderers\"},{\"attributes\":{},\"id\":\"16954\",\"type\":\"UnionRenderers\"},{\"attributes\":{\"items\":[{\"id\":\"16936\",\"type\":\"LegendItem\"},{\"id\":\"16957\",\"type\":\"LegendItem\"}],\"location\":\"bottom_left\"},\"id\":\"16935\",\"type\":\"Legend\"},{\"attributes\":{\"fill_alpha\":{\"value\":0.1},\"fill_color\":{\"value\":\"#1f77b4\"},\"line_alpha\":{\"value\":0.1},\"line_color\":{\"value\":\"#1f77b4\"},\"size\":{\"units\":\"screen\",\"value\":1},\"x\":{\"field\":\"x\"},\"y\":{\"field\":\"y\"}},\"id\":\"16939\",\"type\":\"Circle\"},{\"attributes\":{\"callback\":null,\"data\":{\"x\":[\"2000\",\"2001\",\"2002\",\"2003\",\"2004\",\"2005\",\"2006\",\"2007\",\"2008\",\"2009\",\"2010\",\"2011\",\"2012\",\"2013\",\"2014\",\"2015\",\"2016\",\"2017\"],\"y\":[70.53617342079441,70.98736853175153,71.93803161887901,72.88856091575647,73.83899935125105,74.79174508474752,75.7402919385478,76.68928352401974,77.63732473716367,78.57026473333019,79.50520264937938,80.44196190784398,81.37844584739321,82.31320813991483,83.24970749545021,84.18023015230632,85.0958832055751,86.00729014906636]},\"selected\":{\"id\":\"17524\",\"type\":\"Selection\"},\"selection_policy\":{\"id\":\"17525\",\"type\":\"UnionRenderers\"}},\"id\":\"16958\",\"type\":\"ColumnDataSource\"},{\"attributes\":{\"data_source\":{\"id\":\"16958\",\"type\":\"ColumnDataSource\"},\"glyph\":{\"id\":\"16959\",\"type\":\"Circle\"},\"hover_glyph\":null,\"muted_glyph\":null,\"nonselection_glyph\":{\"id\":\"16960\",\"type\":\"Circle\"},\"selection_glyph\":null,\"view\":{\"id\":\"16962\",\"type\":\"CDSView\"}},\"id\":\"16961\",\"type\":\"GlyphRenderer\"},{\"attributes\":{\"line_color\":\"#FA1857\",\"line_width\":4,\"x\":{\"field\":\"x\"},\"y\":{\"field\":\"y\"}},\"id\":\"16925\",\"type\":\"Line\"},{\"attributes\":{\"bottom_units\":\"screen\",\"fill_alpha\":{\"value\":0.5},\"fill_color\":{\"value\":\"lightgrey\"},\"left_units\":\"screen\",\"level\":\"overlay\",\"line_alpha\":{\"value\":1.0},\"line_color\":{\"value\":\"black\"},\"line_dash\":[4,4],\"line_width\":{\"value\":2},\"render_mode\":\"css\",\"right_units\":\"screen\",\"top_units\":\"screen\"},\"id\":\"16934\",\"type\":\"BoxAnnotation\"},{\"attributes\":{\"label\":{\"value\":\"Developing excluding LDCs\"},\"renderers\":[{\"id\":\"16945\",\"type\":\"GlyphRenderer\"}]},\"id\":\"16957\",\"type\":\"LegendItem\"},{\"attributes\":{},\"id\":\"16916\",\"type\":\"HelpTool\"},{\"attributes\":{},\"id\":\"17522\",\"type\":\"Selection\"},{\"attributes\":{},\"id\":\"16914\",\"type\":\"SaveTool\"},{\"attributes\":{\"data_source\":{\"id\":\"16924\",\"type\":\"ColumnDataSource\"},\"glyph\":{\"id\":\"16925\",\"type\":\"Line\"},\"hover_glyph\":null,\"muted_glyph\":null,\"nonselection_glyph\":{\"id\":\"16926\",\"type\":\"Line\"},\"selection_glyph\":null,\"view\":{\"id\":\"16928\",\"type\":\"CDSView\"}},\"id\":\"16927\",\"type\":\"GlyphRenderer\"},{\"attributes\":{\"callback\":null},\"id\":\"16893\",\"type\":\"DataRange1d\"},{\"attributes\":{},\"id\":\"16907\",\"type\":\"BasicTicker\"},{\"attributes\":{\"dimension\":1,\"grid_line_alpha\":0.5,\"ticker\":{\"id\":\"16907\",\"type\":\"BasicTicker\"}},\"id\":\"16910\",\"type\":\"Grid\"},{\"attributes\":{\"label\":{\"value\":\"LDCs\"},\"renderers\":[{\"id\":\"16927\",\"type\":\"GlyphRenderer\"}]},\"id\":\"16936\",\"type\":\"LegendItem\"},{\"attributes\":{\"data_source\":{\"id\":\"16942\",\"type\":\"ColumnDataSource\"},\"glyph\":{\"id\":\"16943\",\"type\":\"Line\"},\"hover_glyph\":null,\"muted_glyph\":null,\"nonselection_glyph\":{\"id\":\"16944\",\"type\":\"Line\"},\"selection_glyph\":null,\"view\":{\"id\":\"16946\",\"type\":\"CDSView\"}},\"id\":\"16945\",\"type\":\"GlyphRenderer\"},{\"attributes\":{\"line_alpha\":0.1,\"line_color\":\"#1f77b4\",\"line_width\":4,\"x\":{\"field\":\"x\"},\"y\":{\"field\":\"y\"}},\"id\":\"16944\",\"type\":\"Line\"},{\"attributes\":{},\"id\":\"16955\",\"type\":\"Selection\"},{\"attributes\":{},\"id\":\"16911\",\"type\":\"PanTool\"},{\"attributes\":{\"source\":{\"id\":\"16958\",\"type\":\"ColumnDataSource\"}},\"id\":\"16962\",\"type\":\"CDSView\"},{\"attributes\":{\"active_drag\":\"auto\",\"active_inspect\":\"auto\",\"active_multi\":null,\"active_scroll\":\"auto\",\"active_tap\":\"auto\",\"tools\":[{\"id\":\"16911\",\"type\":\"PanTool\"},{\"id\":\"16912\",\"type\":\"WheelZoomTool\"},{\"id\":\"16913\",\"type\":\"BoxZoomTool\"},{\"id\":\"16914\",\"type\":\"SaveTool\"},{\"id\":\"16915\",\"type\":\"ResetTool\"},{\"id\":\"16916\",\"type\":\"HelpTool\"},{\"id\":\"16963\",\"type\":\"HoverTool\"}]},\"id\":\"16917\",\"type\":\"Toolbar\"},{\"attributes\":{},\"id\":\"16931\",\"type\":\"BasicTickFormatter\"},{\"attributes\":{\"line_alpha\":0.1,\"line_color\":\"#1f77b4\",\"line_width\":4,\"x\":{\"field\":\"x\"},\"y\":{\"field\":\"y\"}},\"id\":\"16926\",\"type\":\"Line\"},{\"attributes\":{},\"id\":\"16953\",\"type\":\"Selection\"},{\"attributes\":{\"line_color\":\"#5430F1\",\"line_width\":4,\"x\":{\"field\":\"x\"},\"y\":{\"field\":\"y\"}},\"id\":\"16943\",\"type\":\"Line\"},{\"attributes\":{\"source\":{\"id\":\"16942\",\"type\":\"ColumnDataSource\"}},\"id\":\"16946\",\"type\":\"CDSView\"},{\"attributes\":{},\"id\":\"16915\",\"type\":\"ResetTool\"},{\"attributes\":{\"callback\":null,\"data\":{\"x\":[\"2000\",\"2001\",\"2002\",\"2003\",\"2004\",\"2005\",\"2006\",\"2007\",\"2008\",\"2009\",\"2010\",\"2011\",\"2012\",\"2013\",\"2014\",\"2015\",\"2016\",\"2017\"],\"y\":[41.5045691703602,42.1806214875968,42.885242622983625,43.64136482547633,44.39836037458768,45.19722362416373,45.98902922387146,46.7651200755641,47.57302323497532,48.37812393351483,49.181884079296815,49.83570430661606,50.69488925039761,51.48859977029182,52.29018616324078,53.04155575034853,53.69592350981019,54.34820662340301]},\"selected\":{\"id\":\"16955\",\"type\":\"Selection\"},\"selection_policy\":{\"id\":\"16956\",\"type\":\"UnionRenderers\"}},\"id\":\"16937\",\"type\":\"ColumnDataSource\"},{\"attributes\":{\"fill_alpha\":{\"value\":0.1},\"fill_color\":{\"value\":\"#1f77b4\"},\"line_alpha\":{\"value\":0.1},\"line_color\":{\"value\":\"#1f77b4\"},\"size\":{\"units\":\"screen\",\"value\":1},\"x\":{\"field\":\"x\"},\"y\":{\"field\":\"y\"}},\"id\":\"16960\",\"type\":\"Circle\"},{\"attributes\":{},\"id\":\"17525\",\"type\":\"UnionRenderers\"},{\"attributes\":{\"callback\":null},\"id\":\"16895\",\"type\":\"DataRange1d\"},{\"attributes\":{\"source\":{\"id\":\"16924\",\"type\":\"ColumnDataSource\"}},\"id\":\"16928\",\"type\":\"CDSView\"},{\"attributes\":{},\"id\":\"16902\",\"type\":\"BasicTicker\"},{\"attributes\":{},\"id\":\"16912\",\"type\":\"WheelZoomTool\"},{\"attributes\":{\"callback\":null,\"data\":{\"x\":[\"2000\",\"2001\",\"2002\",\"2003\",\"2004\",\"2005\",\"2006\",\"2007\",\"2008\",\"2009\",\"2010\",\"2011\",\"2012\",\"2013\",\"2014\",\"2015\",\"2016\",\"2017\"],\"y\":[70.53617342079441,70.98736853175153,71.93803161887901,72.88856091575647,73.83899935125105,74.79174508474752,75.7402919385478,76.68928352401974,77.63732473716367,78.57026473333019,79.50520264937938,80.44196190784398,81.37844584739321,82.31320813991483,83.24970749545021,84.18023015230632,85.0958832055751,86.00729014906636]},\"selected\":{\"id\":\"17522\",\"type\":\"Selection\"},\"selection_policy\":{\"id\":\"17523\",\"type\":\"UnionRenderers\"}},\"id\":\"16942\",\"type\":\"ColumnDataSource\"},{\"attributes\":{},\"id\":\"16897\",\"type\":\"LinearScale\"},{\"attributes\":{},\"id\":\"16933\",\"type\":\"BasicTickFormatter\"},{\"attributes\":{\"fill_color\":{\"value\":\"#FA1857\"},\"line_color\":{\"value\":\"#FA1857\"},\"size\":{\"units\":\"screen\",\"value\":1},\"x\":{\"field\":\"x\"},\"y\":{\"field\":\"y\"}},\"id\":\"16938\",\"type\":\"Circle\"},{\"attributes\":{\"data_source\":{\"id\":\"16937\",\"type\":\"ColumnDataSource\"},\"glyph\":{\"id\":\"16938\",\"type\":\"Circle\"},\"hover_glyph\":null,\"muted_glyph\":null,\"nonselection_glyph\":{\"id\":\"16939\",\"type\":\"Circle\"},\"selection_glyph\":null,\"view\":{\"id\":\"16941\",\"type\":\"CDSView\"}},\"id\":\"16940\",\"type\":\"GlyphRenderer\"},{\"attributes\":{},\"id\":\"16899\",\"type\":\"LinearScale\"},{\"attributes\":{\"overlay\":{\"id\":\"16934\",\"type\":\"BoxAnnotation\"}},\"id\":\"16913\",\"type\":\"BoxZoomTool\"},{\"attributes\":{\"fill_color\":{\"value\":\"#5430F1\"},\"line_color\":{\"value\":\"#5430F1\"},\"size\":{\"units\":\"screen\",\"value\":1},\"x\":{\"field\":\"x\"},\"y\":{\"field\":\"y\"}},\"id\":\"16959\",\"type\":\"Circle\"},{\"attributes\":{},\"id\":\"17524\",\"type\":\"Selection\"},{\"attributes\":{\"axis_label\":\"Years\",\"formatter\":{\"id\":\"16931\",\"type\":\"BasicTickFormatter\"},\"ticker\":{\"id\":\"16902\",\"type\":\"BasicTicker\"}},\"id\":\"16901\",\"type\":\"LinearAxis\"},{\"attributes\":{\"axis_label\":\"SH.H2O.BASW.RU.ZS\",\"formatter\":{\"id\":\"16933\",\"type\":\"BasicTickFormatter\"},\"ticker\":{\"id\":\"16907\",\"type\":\"BasicTicker\"}},\"id\":\"16906\",\"type\":\"LinearAxis\"},{\"attributes\":{\"text\":\"People using at least basic drinking water services, rural (% of rural population) weighted against Rural population\"},\"id\":\"16891\",\"type\":\"Title\"},{\"attributes\":{},\"id\":\"16956\",\"type\":\"UnionRenderers\"},{\"attributes\":{\"callback\":null,\"data\":{\"x\":[\"2000\",\"2001\",\"2002\",\"2003\",\"2004\",\"2005\",\"2006\",\"2007\",\"2008\",\"2009\",\"2010\",\"2011\",\"2012\",\"2013\",\"2014\",\"2015\",\"2016\",\"2017\"],\"y\":[41.5045691703602,42.1806214875968,42.885242622983625,43.64136482547633,44.39836037458768,45.19722362416373,45.98902922387146,46.7651200755641,47.57302323497532,48.37812393351483,49.181884079296815,49.83570430661606,50.69488925039761,51.48859977029182,52.29018616324078,53.04155575034853,53.69592350981019,54.34820662340301]},\"selected\":{\"id\":\"16953\",\"type\":\"Selection\"},\"selection_policy\":{\"id\":\"16954\",\"type\":\"UnionRenderers\"}},\"id\":\"16924\",\"type\":\"ColumnDataSource\"}],\"root_ids\":[\"16890\"]},\"title\":\"Bokeh Application\",\"version\":\"1.4.0\"}};\n",
       "  var render_items = [{\"docid\":\"32d89dd2-2100-4819-b0b0-cd85798f6d94\",\"roots\":{\"16890\":\"9ac7d811-5f01-4f4b-a278-295327008440\"}}];\n",
       "  root.Bokeh.embed.embed_items_notebook(docs_json, render_items);\n",
       "\n",
       "  }\n",
       "  if (root.Bokeh !== undefined) {\n",
       "    embed_document(root);\n",
       "  } else {\n",
       "    var attempts = 0;\n",
       "    var timer = setInterval(function(root) {\n",
       "      if (root.Bokeh !== undefined) {\n",
       "        clearInterval(timer);\n",
       "        embed_document(root);\n",
       "      } else {\n",
       "        attempts++;\n",
       "        if (attempts > 100) {\n",
       "          clearInterval(timer);\n",
       "          console.log(\"Bokeh: ERROR: Unable to run BokehJS code because BokehJS library is missing\");\n",
       "        }\n",
       "      }\n",
       "    }, 10, root)\n",
       "  }\n",
       "})(window);"
      ],
      "application/vnd.bokehjs_exec.v0+json": ""
     },
     "metadata": {
      "application/vnd.bokehjs_exec.v0+json": {
       "id": "16890"
      }
     },
     "output_type": "display_data"
    }
   ],
   "source": [
    "# Basic water access rural\n",
    "years = list(map(str, list(range(2000,2018))))\n",
    "result = show_weighted_average(years, 'SH.H2O.BASW.RU.ZS', 'SP.RUR.TOTL', ['LDCs', 'Developing excluding LDCs'], \n",
    "                                height=400, width=1000, line_width=4)"
   ]
  },
  {
   "cell_type": "markdown",
   "metadata": {
    "slideshow": {
     "slide_type": "slide"
    }
   },
   "source": [
    "# Gender equality and the empowerment of women"
   ]
  },
  {
   "cell_type": "code",
   "execution_count": 41,
   "metadata": {
    "ExecuteTime": {
     "end_time": "2019-10-25T14:26:06.754335Z",
     "start_time": "2019-10-25T14:26:06.030180Z"
    },
    "slideshow": {
     "slide_type": "slide"
    }
   },
   "outputs": [
    {
     "data": {
      "text/html": [
       "\n",
       "\n",
       "\n",
       "\n",
       "\n",
       "\n",
       "  <div class=\"bk-root\" id=\"13115301-ddce-4c15-baa2-e4524f5ef918\" data-root-id=\"17610\"></div>\n"
      ]
     },
     "metadata": {},
     "output_type": "display_data"
    },
    {
     "data": {
      "application/javascript": [
       "(function(root) {\n",
       "  function embed_document(root) {\n",
       "    \n",
       "  var docs_json = {\"2143265a-e164-416a-9e98-3ed08eaba199\":{\"roots\":{\"references\":[{\"attributes\":{\"below\":[{\"id\":\"17621\",\"type\":\"LinearAxis\"}],\"center\":[{\"id\":\"17625\",\"type\":\"Grid\"},{\"id\":\"17630\",\"type\":\"Grid\"},{\"id\":\"17655\",\"type\":\"Legend\"}],\"left\":[{\"id\":\"17626\",\"type\":\"LinearAxis\"}],\"plot_height\":400,\"plot_width\":1000,\"renderers\":[{\"id\":\"17647\",\"type\":\"GlyphRenderer\"},{\"id\":\"17660\",\"type\":\"GlyphRenderer\"},{\"id\":\"17665\",\"type\":\"GlyphRenderer\"},{\"id\":\"17681\",\"type\":\"GlyphRenderer\"}],\"title\":{\"id\":\"17611\",\"type\":\"Title\"},\"toolbar\":{\"id\":\"17637\",\"type\":\"Toolbar\"},\"x_range\":{\"id\":\"17613\",\"type\":\"DataRange1d\"},\"x_scale\":{\"id\":\"17617\",\"type\":\"LinearScale\"},\"y_range\":{\"id\":\"17615\",\"type\":\"DataRange1d\"},\"y_scale\":{\"id\":\"17619\",\"type\":\"LinearScale\"}},\"id\":\"17610\",\"subtype\":\"Figure\",\"type\":\"Plot\"},{\"attributes\":{\"line_alpha\":0.1,\"line_color\":\"#1f77b4\",\"line_width\":4,\"x\":{\"field\":\"x\"},\"y\":{\"field\":\"y\"}},\"id\":\"17646\",\"type\":\"Line\"},{\"attributes\":{},\"id\":\"17651\",\"type\":\"BasicTickFormatter\"},{\"attributes\":{\"callback\":null},\"id\":\"17615\",\"type\":\"DataRange1d\"},{\"attributes\":{\"callback\":null,\"data\":{\"x\":[\"2004\",\"2007\",\"2009\",\"2014\",\"2016\"],\"y\":[61.86680129076366,69.97282422378196,71.47856926329575,60.75834802241367,69.21737011372109]},\"selected\":{\"id\":\"18256\",\"type\":\"Selection\"},\"selection_policy\":{\"id\":\"18257\",\"type\":\"UnionRenderers\"}},\"id\":\"17662\",\"type\":\"ColumnDataSource\"},{\"attributes\":{\"source\":{\"id\":\"17678\",\"type\":\"ColumnDataSource\"}},\"id\":\"17682\",\"type\":\"CDSView\"},{\"attributes\":{\"data_source\":{\"id\":\"17657\",\"type\":\"ColumnDataSource\"},\"glyph\":{\"id\":\"17658\",\"type\":\"Circle\"},\"hover_glyph\":null,\"muted_glyph\":null,\"nonselection_glyph\":{\"id\":\"17659\",\"type\":\"Circle\"},\"selection_glyph\":null,\"view\":{\"id\":\"17661\",\"type\":\"CDSView\"}},\"id\":\"17660\",\"type\":\"GlyphRenderer\"},{\"attributes\":{},\"id\":\"17622\",\"type\":\"BasicTicker\"},{\"attributes\":{\"overlay\":{\"id\":\"17654\",\"type\":\"BoxAnnotation\"}},\"id\":\"17633\",\"type\":\"BoxZoomTool\"},{\"attributes\":{\"fill_color\":{\"value\":\"#FA1857\"},\"line_color\":{\"value\":\"#FA1857\"},\"size\":{\"units\":\"screen\",\"value\":1},\"x\":{\"field\":\"x\"},\"y\":{\"field\":\"y\"}},\"id\":\"17658\",\"type\":\"Circle\"},{\"attributes\":{},\"id\":\"17673\",\"type\":\"Selection\"},{\"attributes\":{\"text\":\"Demand for family planning satisfied by modern methods (% of married women with demand for family planning) weighted against Population, female\"},\"id\":\"17611\",\"type\":\"Title\"},{\"attributes\":{\"line_color\":\"#FA1857\",\"line_width\":4,\"x\":{\"field\":\"x\"},\"y\":{\"field\":\"y\"}},\"id\":\"17645\",\"type\":\"Line\"},{\"attributes\":{\"fill_alpha\":{\"value\":0.1},\"fill_color\":{\"value\":\"#1f77b4\"},\"line_alpha\":{\"value\":0.1},\"line_color\":{\"value\":\"#1f77b4\"},\"size\":{\"units\":\"screen\",\"value\":1},\"x\":{\"field\":\"x\"},\"y\":{\"field\":\"y\"}},\"id\":\"17659\",\"type\":\"Circle\"},{\"attributes\":{\"items\":[{\"id\":\"17656\",\"type\":\"LegendItem\"},{\"id\":\"17677\",\"type\":\"LegendItem\"}],\"location\":\"bottom_left\"},\"id\":\"17655\",\"type\":\"Legend\"},{\"attributes\":{},\"id\":\"18259\",\"type\":\"UnionRenderers\"},{\"attributes\":{},\"id\":\"17617\",\"type\":\"LinearScale\"},{\"attributes\":{\"callback\":null,\"data\":{\"x\":[\"2004\",\"2007\",\"2009\",\"2014\",\"2016\"],\"y\":[55.95647488898381,49.148601616188614,50.86221893261661,50.63622946017881,53.343214850211766]},\"selected\":{\"id\":\"17673\",\"type\":\"Selection\"},\"selection_policy\":{\"id\":\"17674\",\"type\":\"UnionRenderers\"}},\"id\":\"17644\",\"type\":\"ColumnDataSource\"},{\"attributes\":{\"data_source\":{\"id\":\"17678\",\"type\":\"ColumnDataSource\"},\"glyph\":{\"id\":\"17679\",\"type\":\"Circle\"},\"hover_glyph\":null,\"muted_glyph\":null,\"nonselection_glyph\":{\"id\":\"17680\",\"type\":\"Circle\"},\"selection_glyph\":null,\"view\":{\"id\":\"17682\",\"type\":\"CDSView\"}},\"id\":\"17681\",\"type\":\"GlyphRenderer\"},{\"attributes\":{},\"id\":\"17632\",\"type\":\"WheelZoomTool\"},{\"attributes\":{\"data_source\":{\"id\":\"17644\",\"type\":\"ColumnDataSource\"},\"glyph\":{\"id\":\"17645\",\"type\":\"Line\"},\"hover_glyph\":null,\"muted_glyph\":null,\"nonselection_glyph\":{\"id\":\"17646\",\"type\":\"Line\"},\"selection_glyph\":null,\"view\":{\"id\":\"17648\",\"type\":\"CDSView\"}},\"id\":\"17647\",\"type\":\"GlyphRenderer\"},{\"attributes\":{\"line_alpha\":0.1,\"line_color\":\"#1f77b4\",\"line_width\":4,\"x\":{\"field\":\"x\"},\"y\":{\"field\":\"y\"}},\"id\":\"17664\",\"type\":\"Line\"},{\"attributes\":{\"label\":{\"value\":\"LDCs\"},\"renderers\":[{\"id\":\"17647\",\"type\":\"GlyphRenderer\"}]},\"id\":\"17656\",\"type\":\"LegendItem\"},{\"attributes\":{\"label\":{\"value\":\"Developing excluding LDCs\"},\"renderers\":[{\"id\":\"17665\",\"type\":\"GlyphRenderer\"}]},\"id\":\"17677\",\"type\":\"LegendItem\"},{\"attributes\":{\"source\":{\"id\":\"17644\",\"type\":\"ColumnDataSource\"}},\"id\":\"17648\",\"type\":\"CDSView\"},{\"attributes\":{},\"id\":\"17653\",\"type\":\"BasicTickFormatter\"},{\"attributes\":{\"dimension\":1,\"grid_line_alpha\":0.5,\"ticker\":{\"id\":\"17627\",\"type\":\"BasicTicker\"}},\"id\":\"17630\",\"type\":\"Grid\"},{\"attributes\":{\"fill_color\":{\"value\":\"#5430F1\"},\"line_color\":{\"value\":\"#5430F1\"},\"size\":{\"units\":\"screen\",\"value\":1},\"x\":{\"field\":\"x\"},\"y\":{\"field\":\"y\"}},\"id\":\"17679\",\"type\":\"Circle\"},{\"attributes\":{},\"id\":\"18256\",\"type\":\"Selection\"},{\"attributes\":{},\"id\":\"17636\",\"type\":\"HelpTool\"},{\"attributes\":{\"callback\":null,\"tooltips\":\"                \\n        <div style=padding=5px>Year:@x</div>\\n        <div style=padding=5px>Value:@y</div>        \\n        \"},\"id\":\"17683\",\"type\":\"HoverTool\"},{\"attributes\":{\"line_color\":\"#5430F1\",\"line_width\":4,\"x\":{\"field\":\"x\"},\"y\":{\"field\":\"y\"}},\"id\":\"17663\",\"type\":\"Line\"},{\"attributes\":{\"callback\":null,\"data\":{\"x\":[\"2004\",\"2007\",\"2009\",\"2014\",\"2016\"],\"y\":[61.86680129076366,69.97282422378196,71.47856926329575,60.75834802241367,69.21737011372109]},\"selected\":{\"id\":\"18258\",\"type\":\"Selection\"},\"selection_policy\":{\"id\":\"18259\",\"type\":\"UnionRenderers\"}},\"id\":\"17678\",\"type\":\"ColumnDataSource\"},{\"attributes\":{},\"id\":\"17619\",\"type\":\"LinearScale\"},{\"attributes\":{\"source\":{\"id\":\"17657\",\"type\":\"ColumnDataSource\"}},\"id\":\"17661\",\"type\":\"CDSView\"},{\"attributes\":{},\"id\":\"17675\",\"type\":\"Selection\"},{\"attributes\":{\"callback\":null},\"id\":\"17613\",\"type\":\"DataRange1d\"},{\"attributes\":{},\"id\":\"17676\",\"type\":\"UnionRenderers\"},{\"attributes\":{},\"id\":\"18258\",\"type\":\"Selection\"},{\"attributes\":{\"data_source\":{\"id\":\"17662\",\"type\":\"ColumnDataSource\"},\"glyph\":{\"id\":\"17663\",\"type\":\"Line\"},\"hover_glyph\":null,\"muted_glyph\":null,\"nonselection_glyph\":{\"id\":\"17664\",\"type\":\"Line\"},\"selection_glyph\":null,\"view\":{\"id\":\"17666\",\"type\":\"CDSView\"}},\"id\":\"17665\",\"type\":\"GlyphRenderer\"},{\"attributes\":{\"fill_alpha\":{\"value\":0.1},\"fill_color\":{\"value\":\"#1f77b4\"},\"line_alpha\":{\"value\":0.1},\"line_color\":{\"value\":\"#1f77b4\"},\"size\":{\"units\":\"screen\",\"value\":1},\"x\":{\"field\":\"x\"},\"y\":{\"field\":\"y\"}},\"id\":\"17680\",\"type\":\"Circle\"},{\"attributes\":{},\"id\":\"17635\",\"type\":\"ResetTool\"},{\"attributes\":{\"callback\":null,\"data\":{\"x\":[\"2004\",\"2007\",\"2009\",\"2014\",\"2016\"],\"y\":[55.95647488898381,49.148601616188614,50.86221893261661,50.63622946017881,53.343214850211766]},\"selected\":{\"id\":\"17675\",\"type\":\"Selection\"},\"selection_policy\":{\"id\":\"17676\",\"type\":\"UnionRenderers\"}},\"id\":\"17657\",\"type\":\"ColumnDataSource\"},{\"attributes\":{\"active_drag\":\"auto\",\"active_inspect\":\"auto\",\"active_multi\":null,\"active_scroll\":\"auto\",\"active_tap\":\"auto\",\"tools\":[{\"id\":\"17631\",\"type\":\"PanTool\"},{\"id\":\"17632\",\"type\":\"WheelZoomTool\"},{\"id\":\"17633\",\"type\":\"BoxZoomTool\"},{\"id\":\"17634\",\"type\":\"SaveTool\"},{\"id\":\"17635\",\"type\":\"ResetTool\"},{\"id\":\"17636\",\"type\":\"HelpTool\"},{\"id\":\"17683\",\"type\":\"HoverTool\"}]},\"id\":\"17637\",\"type\":\"Toolbar\"},{\"attributes\":{},\"id\":\"17674\",\"type\":\"UnionRenderers\"},{\"attributes\":{\"source\":{\"id\":\"17662\",\"type\":\"ColumnDataSource\"}},\"id\":\"17666\",\"type\":\"CDSView\"},{\"attributes\":{},\"id\":\"17634\",\"type\":\"SaveTool\"},{\"attributes\":{},\"id\":\"17631\",\"type\":\"PanTool\"},{\"attributes\":{\"bottom_units\":\"screen\",\"fill_alpha\":{\"value\":0.5},\"fill_color\":{\"value\":\"lightgrey\"},\"left_units\":\"screen\",\"level\":\"overlay\",\"line_alpha\":{\"value\":1.0},\"line_color\":{\"value\":\"black\"},\"line_dash\":[4,4],\"line_width\":{\"value\":2},\"render_mode\":\"css\",\"right_units\":\"screen\",\"top_units\":\"screen\"},\"id\":\"17654\",\"type\":\"BoxAnnotation\"},{\"attributes\":{},\"id\":\"18257\",\"type\":\"UnionRenderers\"},{\"attributes\":{\"grid_line_color\":null,\"ticker\":{\"id\":\"17622\",\"type\":\"BasicTicker\"}},\"id\":\"17625\",\"type\":\"Grid\"},{\"attributes\":{},\"id\":\"17627\",\"type\":\"BasicTicker\"},{\"attributes\":{\"axis_label\":\"Years\",\"formatter\":{\"id\":\"17651\",\"type\":\"BasicTickFormatter\"},\"ticker\":{\"id\":\"17622\",\"type\":\"BasicTicker\"}},\"id\":\"17621\",\"type\":\"LinearAxis\"},{\"attributes\":{\"axis_label\":\"SH.FPL.SATM.ZS\",\"formatter\":{\"id\":\"17653\",\"type\":\"BasicTickFormatter\"},\"ticker\":{\"id\":\"17627\",\"type\":\"BasicTicker\"}},\"id\":\"17626\",\"type\":\"LinearAxis\"}],\"root_ids\":[\"17610\"]},\"title\":\"Bokeh Application\",\"version\":\"1.4.0\"}};\n",
       "  var render_items = [{\"docid\":\"2143265a-e164-416a-9e98-3ed08eaba199\",\"roots\":{\"17610\":\"13115301-ddce-4c15-baa2-e4524f5ef918\"}}];\n",
       "  root.Bokeh.embed.embed_items_notebook(docs_json, render_items);\n",
       "\n",
       "  }\n",
       "  if (root.Bokeh !== undefined) {\n",
       "    embed_document(root);\n",
       "  } else {\n",
       "    var attempts = 0;\n",
       "    var timer = setInterval(function(root) {\n",
       "      if (root.Bokeh !== undefined) {\n",
       "        clearInterval(timer);\n",
       "        embed_document(root);\n",
       "      } else {\n",
       "        attempts++;\n",
       "        if (attempts > 100) {\n",
       "          clearInterval(timer);\n",
       "          console.log(\"Bokeh: ERROR: Unable to run BokehJS code because BokehJS library is missing\");\n",
       "        }\n",
       "      }\n",
       "    }, 10, root)\n",
       "  }\n",
       "})(window);"
      ],
      "application/vnd.bokehjs_exec.v0+json": ""
     },
     "metadata": {
      "application/vnd.bokehjs_exec.v0+json": {
       "id": "17610"
      }
     },
     "output_type": "display_data"
    }
   ],
   "source": [
    "# Family planning\n",
    "years = ['2004', '2007', '2009', '2014', '2016']\n",
    "result = show_weighted_average(years, 'SH.FPL.SATM.ZS', 'SP.POP.TOTL.FE.IN', \n",
    "                               ['LDCs', 'Developing excluding LDCs'], \n",
    "                                height=400, width=1000, line_width=4)"
   ]
  },
  {
   "cell_type": "code",
   "execution_count": 42,
   "metadata": {
    "ExecuteTime": {
     "end_time": "2019-10-25T14:26:07.694750Z",
     "start_time": "2019-10-25T14:26:06.760738Z"
    },
    "slideshow": {
     "slide_type": "slide"
    }
   },
   "outputs": [
    {
     "data": {
      "text/html": [
       "\n",
       "\n",
       "\n",
       "\n",
       "\n",
       "\n",
       "  <div class=\"bk-root\" id=\"7c9cb019-4670-46c7-b416-2d5d922306f4\" data-root-id=\"18344\"></div>\n"
      ]
     },
     "metadata": {},
     "output_type": "display_data"
    },
    {
     "data": {
      "application/javascript": [
       "(function(root) {\n",
       "  function embed_document(root) {\n",
       "    \n",
       "  var docs_json = {\"ca67c3e6-a3c1-49eb-b7ad-04a613c29a4e\":{\"roots\":{\"references\":[{\"attributes\":{\"below\":[{\"id\":\"18355\",\"type\":\"LinearAxis\"}],\"center\":[{\"id\":\"18359\",\"type\":\"Grid\"},{\"id\":\"18364\",\"type\":\"Grid\"},{\"id\":\"18389\",\"type\":\"Legend\"}],\"left\":[{\"id\":\"18360\",\"type\":\"LinearAxis\"}],\"plot_height\":400,\"plot_width\":1000,\"renderers\":[{\"id\":\"18381\",\"type\":\"GlyphRenderer\"},{\"id\":\"18394\",\"type\":\"GlyphRenderer\"},{\"id\":\"18399\",\"type\":\"GlyphRenderer\"},{\"id\":\"18415\",\"type\":\"GlyphRenderer\"}],\"title\":{\"id\":\"18345\",\"type\":\"Title\"},\"toolbar\":{\"id\":\"18371\",\"type\":\"Toolbar\"},\"x_range\":{\"id\":\"18347\",\"type\":\"DataRange1d\"},\"x_scale\":{\"id\":\"18351\",\"type\":\"LinearScale\"},\"y_range\":{\"id\":\"18349\",\"type\":\"DataRange1d\"},\"y_scale\":{\"id\":\"18353\",\"type\":\"LinearScale\"}},\"id\":\"18344\",\"subtype\":\"Figure\",\"type\":\"Plot\"},{\"attributes\":{},\"id\":\"18410\",\"type\":\"UnionRenderers\"},{\"attributes\":{},\"id\":\"18365\",\"type\":\"PanTool\"},{\"attributes\":{\"fill_color\":{\"value\":\"#5430F1\"},\"line_color\":{\"value\":\"#5430F1\"},\"size\":{\"units\":\"screen\",\"value\":1},\"x\":{\"field\":\"x\"},\"y\":{\"field\":\"y\"}},\"id\":\"18413\",\"type\":\"Circle\"},{\"attributes\":{},\"id\":\"18366\",\"type\":\"WheelZoomTool\"},{\"attributes\":{},\"id\":\"18368\",\"type\":\"SaveTool\"},{\"attributes\":{},\"id\":\"18408\",\"type\":\"UnionRenderers\"},{\"attributes\":{\"axis_label\":\"Years\",\"formatter\":{\"id\":\"18385\",\"type\":\"BasicTickFormatter\"},\"ticker\":{\"id\":\"18356\",\"type\":\"BasicTicker\"}},\"id\":\"18355\",\"type\":\"LinearAxis\"},{\"attributes\":{},\"id\":\"19007\",\"type\":\"UnionRenderers\"},{\"attributes\":{\"label\":{\"value\":\"Developing excluding LDCs\"},\"renderers\":[{\"id\":\"18399\",\"type\":\"GlyphRenderer\"}]},\"id\":\"18411\",\"type\":\"LegendItem\"},{\"attributes\":{},\"id\":\"18370\",\"type\":\"HelpTool\"},{\"attributes\":{\"line_color\":\"#FA1857\",\"line_width\":4,\"x\":{\"field\":\"x\"},\"y\":{\"field\":\"y\"}},\"id\":\"18379\",\"type\":\"Line\"},{\"attributes\":{\"source\":{\"id\":\"18378\",\"type\":\"ColumnDataSource\"}},\"id\":\"18382\",\"type\":\"CDSView\"},{\"attributes\":{},\"id\":\"19004\",\"type\":\"Selection\"},{\"attributes\":{\"callback\":null,\"data\":{\"x\":[\"2000\",\"2003\",\"2006\",\"2009\",\"2014\",\"2017\"],\"y\":[119.30680955251184,114.98644401832998,110.35720256269572,105.31697784440021,96.90208117559042,91.981959778557]},\"selected\":{\"id\":\"18407\",\"type\":\"Selection\"},\"selection_policy\":{\"id\":\"18408\",\"type\":\"UnionRenderers\"}},\"id\":\"18378\",\"type\":\"ColumnDataSource\"},{\"attributes\":{\"line_color\":\"#5430F1\",\"line_width\":4,\"x\":{\"field\":\"x\"},\"y\":{\"field\":\"y\"}},\"id\":\"18397\",\"type\":\"Line\"},{\"attributes\":{\"callback\":null,\"data\":{\"x\":[\"2000\",\"2003\",\"2006\",\"2009\",\"2014\",\"2017\"],\"y\":[48.60949425276021,44.793271674532996,41.346064517381414,38.23315248769004,33.08506789122465,29.748702993171424]},\"selected\":{\"id\":\"19004\",\"type\":\"Selection\"},\"selection_policy\":{\"id\":\"19005\",\"type\":\"UnionRenderers\"}},\"id\":\"18396\",\"type\":\"ColumnDataSource\"},{\"attributes\":{\"fill_alpha\":{\"value\":0.1},\"fill_color\":{\"value\":\"#1f77b4\"},\"line_alpha\":{\"value\":0.1},\"line_color\":{\"value\":\"#1f77b4\"},\"size\":{\"units\":\"screen\",\"value\":1},\"x\":{\"field\":\"x\"},\"y\":{\"field\":\"y\"}},\"id\":\"18414\",\"type\":\"Circle\"},{\"attributes\":{\"callback\":null,\"data\":{\"x\":[\"2000\",\"2003\",\"2006\",\"2009\",\"2014\",\"2017\"],\"y\":[48.60949425276021,44.793271674532996,41.346064517381414,38.23315248769004,33.08506789122465,29.748702993171424]},\"selected\":{\"id\":\"19006\",\"type\":\"Selection\"},\"selection_policy\":{\"id\":\"19007\",\"type\":\"UnionRenderers\"}},\"id\":\"18412\",\"type\":\"ColumnDataSource\"},{\"attributes\":{},\"id\":\"19005\",\"type\":\"UnionRenderers\"},{\"attributes\":{\"items\":[{\"id\":\"18390\",\"type\":\"LegendItem\"},{\"id\":\"18411\",\"type\":\"LegendItem\"}],\"location\":\"bottom_left\"},\"id\":\"18389\",\"type\":\"Legend\"},{\"attributes\":{\"callback\":null},\"id\":\"18347\",\"type\":\"DataRange1d\"},{\"attributes\":{\"axis_label\":\"SP.ADO.TFRT\",\"formatter\":{\"id\":\"18387\",\"type\":\"BasicTickFormatter\"},\"ticker\":{\"id\":\"18361\",\"type\":\"BasicTicker\"}},\"id\":\"18360\",\"type\":\"LinearAxis\"},{\"attributes\":{\"source\":{\"id\":\"18391\",\"type\":\"ColumnDataSource\"}},\"id\":\"18395\",\"type\":\"CDSView\"},{\"attributes\":{\"callback\":null},\"id\":\"18349\",\"type\":\"DataRange1d\"},{\"attributes\":{},\"id\":\"18353\",\"type\":\"LinearScale\"},{\"attributes\":{\"source\":{\"id\":\"18412\",\"type\":\"ColumnDataSource\"}},\"id\":\"18416\",\"type\":\"CDSView\"},{\"attributes\":{},\"id\":\"18361\",\"type\":\"BasicTicker\"},{\"attributes\":{\"grid_line_color\":null,\"ticker\":{\"id\":\"18356\",\"type\":\"BasicTicker\"}},\"id\":\"18359\",\"type\":\"Grid\"},{\"attributes\":{},\"id\":\"18356\",\"type\":\"BasicTicker\"},{\"attributes\":{\"line_alpha\":0.1,\"line_color\":\"#1f77b4\",\"line_width\":4,\"x\":{\"field\":\"x\"},\"y\":{\"field\":\"y\"}},\"id\":\"18398\",\"type\":\"Line\"},{\"attributes\":{\"data_source\":{\"id\":\"18396\",\"type\":\"ColumnDataSource\"},\"glyph\":{\"id\":\"18397\",\"type\":\"Line\"},\"hover_glyph\":null,\"muted_glyph\":null,\"nonselection_glyph\":{\"id\":\"18398\",\"type\":\"Line\"},\"selection_glyph\":null,\"view\":{\"id\":\"18400\",\"type\":\"CDSView\"}},\"id\":\"18399\",\"type\":\"GlyphRenderer\"},{\"attributes\":{\"callback\":null,\"data\":{\"x\":[\"2000\",\"2003\",\"2006\",\"2009\",\"2014\",\"2017\"],\"y\":[119.30680955251184,114.98644401832998,110.35720256269572,105.31697784440021,96.90208117559042,91.981959778557]},\"selected\":{\"id\":\"18409\",\"type\":\"Selection\"},\"selection_policy\":{\"id\":\"18410\",\"type\":\"UnionRenderers\"}},\"id\":\"18391\",\"type\":\"ColumnDataSource\"},{\"attributes\":{\"bottom_units\":\"screen\",\"fill_alpha\":{\"value\":0.5},\"fill_color\":{\"value\":\"lightgrey\"},\"left_units\":\"screen\",\"level\":\"overlay\",\"line_alpha\":{\"value\":1.0},\"line_color\":{\"value\":\"black\"},\"line_dash\":[4,4],\"line_width\":{\"value\":2},\"render_mode\":\"css\",\"right_units\":\"screen\",\"top_units\":\"screen\"},\"id\":\"18388\",\"type\":\"BoxAnnotation\"},{\"attributes\":{},\"id\":\"19006\",\"type\":\"Selection\"},{\"attributes\":{},\"id\":\"18385\",\"type\":\"BasicTickFormatter\"},{\"attributes\":{\"data_source\":{\"id\":\"18412\",\"type\":\"ColumnDataSource\"},\"glyph\":{\"id\":\"18413\",\"type\":\"Circle\"},\"hover_glyph\":null,\"muted_glyph\":null,\"nonselection_glyph\":{\"id\":\"18414\",\"type\":\"Circle\"},\"selection_glyph\":null,\"view\":{\"id\":\"18416\",\"type\":\"CDSView\"}},\"id\":\"18415\",\"type\":\"GlyphRenderer\"},{\"attributes\":{\"fill_alpha\":{\"value\":0.1},\"fill_color\":{\"value\":\"#1f77b4\"},\"line_alpha\":{\"value\":0.1},\"line_color\":{\"value\":\"#1f77b4\"},\"size\":{\"units\":\"screen\",\"value\":1},\"x\":{\"field\":\"x\"},\"y\":{\"field\":\"y\"}},\"id\":\"18393\",\"type\":\"Circle\"},{\"attributes\":{},\"id\":\"18387\",\"type\":\"BasicTickFormatter\"},{\"attributes\":{\"fill_color\":{\"value\":\"#FA1857\"},\"line_color\":{\"value\":\"#FA1857\"},\"size\":{\"units\":\"screen\",\"value\":1},\"x\":{\"field\":\"x\"},\"y\":{\"field\":\"y\"}},\"id\":\"18392\",\"type\":\"Circle\"},{\"attributes\":{\"line_alpha\":0.1,\"line_color\":\"#1f77b4\",\"line_width\":4,\"x\":{\"field\":\"x\"},\"y\":{\"field\":\"y\"}},\"id\":\"18380\",\"type\":\"Line\"},{\"attributes\":{\"callback\":null,\"tooltips\":\"                \\n        <div style=padding=5px>Year:@x</div>\\n        <div style=padding=5px>Value:@y</div>        \\n        \"},\"id\":\"18417\",\"type\":\"HoverTool\"},{\"attributes\":{},\"id\":\"18407\",\"type\":\"Selection\"},{\"attributes\":{},\"id\":\"18409\",\"type\":\"Selection\"},{\"attributes\":{\"dimension\":1,\"grid_line_alpha\":0.5,\"ticker\":{\"id\":\"18361\",\"type\":\"BasicTicker\"}},\"id\":\"18364\",\"type\":\"Grid\"},{\"attributes\":{\"text\":\"Adolescent fertility rate (births per 1,000 women ages 15-19) weighted against Population, female\"},\"id\":\"18345\",\"type\":\"Title\"},{\"attributes\":{},\"id\":\"18351\",\"type\":\"LinearScale\"},{\"attributes\":{\"data_source\":{\"id\":\"18378\",\"type\":\"ColumnDataSource\"},\"glyph\":{\"id\":\"18379\",\"type\":\"Line\"},\"hover_glyph\":null,\"muted_glyph\":null,\"nonselection_glyph\":{\"id\":\"18380\",\"type\":\"Line\"},\"selection_glyph\":null,\"view\":{\"id\":\"18382\",\"type\":\"CDSView\"}},\"id\":\"18381\",\"type\":\"GlyphRenderer\"},{\"attributes\":{\"data_source\":{\"id\":\"18391\",\"type\":\"ColumnDataSource\"},\"glyph\":{\"id\":\"18392\",\"type\":\"Circle\"},\"hover_glyph\":null,\"muted_glyph\":null,\"nonselection_glyph\":{\"id\":\"18393\",\"type\":\"Circle\"},\"selection_glyph\":null,\"view\":{\"id\":\"18395\",\"type\":\"CDSView\"}},\"id\":\"18394\",\"type\":\"GlyphRenderer\"},{\"attributes\":{\"source\":{\"id\":\"18396\",\"type\":\"ColumnDataSource\"}},\"id\":\"18400\",\"type\":\"CDSView\"},{\"attributes\":{\"active_drag\":\"auto\",\"active_inspect\":\"auto\",\"active_multi\":null,\"active_scroll\":\"auto\",\"active_tap\":\"auto\",\"tools\":[{\"id\":\"18365\",\"type\":\"PanTool\"},{\"id\":\"18366\",\"type\":\"WheelZoomTool\"},{\"id\":\"18367\",\"type\":\"BoxZoomTool\"},{\"id\":\"18368\",\"type\":\"SaveTool\"},{\"id\":\"18369\",\"type\":\"ResetTool\"},{\"id\":\"18370\",\"type\":\"HelpTool\"},{\"id\":\"18417\",\"type\":\"HoverTool\"}]},\"id\":\"18371\",\"type\":\"Toolbar\"},{\"attributes\":{\"label\":{\"value\":\"LDCs\"},\"renderers\":[{\"id\":\"18381\",\"type\":\"GlyphRenderer\"}]},\"id\":\"18390\",\"type\":\"LegendItem\"},{\"attributes\":{},\"id\":\"18369\",\"type\":\"ResetTool\"},{\"attributes\":{\"overlay\":{\"id\":\"18388\",\"type\":\"BoxAnnotation\"}},\"id\":\"18367\",\"type\":\"BoxZoomTool\"}],\"root_ids\":[\"18344\"]},\"title\":\"Bokeh Application\",\"version\":\"1.4.0\"}};\n",
       "  var render_items = [{\"docid\":\"ca67c3e6-a3c1-49eb-b7ad-04a613c29a4e\",\"roots\":{\"18344\":\"7c9cb019-4670-46c7-b416-2d5d922306f4\"}}];\n",
       "  root.Bokeh.embed.embed_items_notebook(docs_json, render_items);\n",
       "\n",
       "  }\n",
       "  if (root.Bokeh !== undefined) {\n",
       "    embed_document(root);\n",
       "  } else {\n",
       "    var attempts = 0;\n",
       "    var timer = setInterval(function(root) {\n",
       "      if (root.Bokeh !== undefined) {\n",
       "        clearInterval(timer);\n",
       "        embed_document(root);\n",
       "      } else {\n",
       "        attempts++;\n",
       "        if (attempts > 100) {\n",
       "          clearInterval(timer);\n",
       "          console.log(\"Bokeh: ERROR: Unable to run BokehJS code because BokehJS library is missing\");\n",
       "        }\n",
       "      }\n",
       "    }, 10, root)\n",
       "  }\n",
       "})(window);"
      ],
      "application/vnd.bokehjs_exec.v0+json": ""
     },
     "metadata": {
      "application/vnd.bokehjs_exec.v0+json": {
       "id": "18344"
      }
     },
     "output_type": "display_data"
    }
   ],
   "source": [
    "# Basic water access rural\n",
    "years = ['2000', '2003', '2006', '2009', '2014', '2017']\n",
    "result = show_weighted_average(years, 'SP.ADO.TFRT', 'SP.POP.TOTL.FE.IN', \n",
    "                               ['LDCs', 'Developing excluding LDCs'], \n",
    "                                height=400, width=1000, line_width=4)"
   ]
  },
  {
   "cell_type": "markdown",
   "metadata": {
    "slideshow": {
     "slide_type": "slide"
    }
   },
   "source": [
    "# Social protection"
   ]
  },
  {
   "cell_type": "code",
   "execution_count": 43,
   "metadata": {
    "ExecuteTime": {
     "end_time": "2019-10-25T14:26:12.858520Z",
     "start_time": "2019-10-25T14:26:07.697975Z"
    },
    "slideshow": {
     "slide_type": "slide"
    }
   },
   "outputs": [
    {
     "data": {
      "text/html": [
       "\n",
       "\n",
       "\n",
       "\n",
       "\n",
       "\n",
       "  <div class=\"bk-root\" id=\"df7a105f-3c45-4b73-8ac9-2f324d7be281\" data-root-id=\"19092\"></div>\n"
      ]
     },
     "metadata": {},
     "output_type": "display_data"
    },
    {
     "data": {
      "application/javascript": [
       "(function(root) {\n",
       "  function embed_document(root) {\n",
       "    \n",
       "  var docs_json = {\"46ada269-f71b-42fe-aeae-a31bbf84a50f\":{\"roots\":{\"references\":[{\"attributes\":{\"below\":[{\"id\":\"19103\",\"type\":\"LinearAxis\"}],\"center\":[{\"id\":\"19107\",\"type\":\"Grid\"},{\"id\":\"19112\",\"type\":\"Grid\"},{\"id\":\"19137\",\"type\":\"Legend\"}],\"left\":[{\"id\":\"19108\",\"type\":\"LinearAxis\"}],\"plot_height\":400,\"plot_width\":1000,\"renderers\":[{\"id\":\"19129\",\"type\":\"GlyphRenderer\"},{\"id\":\"19142\",\"type\":\"GlyphRenderer\"},{\"id\":\"19147\",\"type\":\"GlyphRenderer\"},{\"id\":\"19163\",\"type\":\"GlyphRenderer\"},{\"id\":\"19168\",\"type\":\"GlyphRenderer\"},{\"id\":\"19188\",\"type\":\"GlyphRenderer\"}],\"title\":{\"id\":\"19093\",\"type\":\"Title\"},\"toolbar\":{\"id\":\"19119\",\"type\":\"Toolbar\"},\"x_range\":{\"id\":\"19095\",\"type\":\"DataRange1d\"},\"x_scale\":{\"id\":\"19099\",\"type\":\"LinearScale\"},\"y_range\":{\"id\":\"19097\",\"type\":\"DataRange1d\"},\"y_scale\":{\"id\":\"19101\",\"type\":\"LinearScale\"}},\"id\":\"19092\",\"subtype\":\"Figure\",\"type\":\"Plot\"},{\"attributes\":{\"source\":{\"id\":\"19144\",\"type\":\"ColumnDataSource\"}},\"id\":\"19148\",\"type\":\"CDSView\"},{\"attributes\":{\"source\":{\"id\":\"19160\",\"type\":\"ColumnDataSource\"}},\"id\":\"19164\",\"type\":\"CDSView\"},{\"attributes\":{\"source\":{\"id\":\"19165\",\"type\":\"ColumnDataSource\"}},\"id\":\"19169\",\"type\":\"CDSView\"},{\"attributes\":{\"callback\":null,\"data\":{\"x\":[\"2000\",\"2001\",\"2002\",\"2003\",\"2004\",\"2005\",\"2006\",\"2007\",\"2008\",\"2009\",\"2010\",\"2011\",\"2012\",\"2013\",\"2014\",\"2015\",\"2016\",\"2017\"],\"y\":[58.19409281505839,57.390788669127076,56.303566941143856,55.0777888204011,53.9356506864574,52.98456714221311,52.19880666201814,51.56524492183216,51.0555121914691,50.59642272787209,50.15377130229243,49.85370067049981,49.550004873173656,49.27463686577526,49.07562632818277,48.97354671460469,49.01384219923888,49.124886101246084]},\"selected\":{\"id\":\"19180\",\"type\":\"Selection\"},\"selection_policy\":{\"id\":\"19181\",\"type\":\"UnionRenderers\"}},\"id\":\"19144\",\"type\":\"ColumnDataSource\"},{\"attributes\":{\"callback\":null,\"data\":{\"x\":[\"2000\",\"2001\",\"2002\",\"2003\",\"2004\",\"2005\",\"2006\",\"2007\",\"2008\",\"2009\",\"2010\",\"2011\",\"2012\",\"2013\",\"2014\",\"2015\",\"2016\",\"2017\"],\"y\":[50.723128378093605,50.5231850468679,50.37496397566116,50.256690141387246,50.13330348053058,49.99664317017944,50.01583887693405,50.00026173733251,49.99506396621195,50.06955879546578,50.259015743666154,50.596556044189086,50.982156909542724,51.41864250914094,51.884735692147885,52.364033705503694,52.810673816186224,53.26354779686192]},\"selected\":{\"id\":\"19797\",\"type\":\"Selection\"},\"selection_policy\":{\"id\":\"19798\",\"type\":\"UnionRenderers\"}},\"id\":\"19185\",\"type\":\"ColumnDataSource\"},{\"attributes\":{},\"id\":\"19158\",\"type\":\"UnionRenderers\"},{\"attributes\":{\"line_color\":\"#5430F1\",\"line_width\":4,\"x\":{\"field\":\"x\"},\"y\":{\"field\":\"y\"}},\"id\":\"19145\",\"type\":\"Line\"},{\"attributes\":{\"text\":\"Age dependency ratio (% of working-age population) weighted against Population ages 15-64, total\"},\"id\":\"19093\",\"type\":\"Title\"},{\"attributes\":{\"label\":{\"value\":\"OECD\"},\"renderers\":[{\"id\":\"19168\",\"type\":\"GlyphRenderer\"}]},\"id\":\"19184\",\"type\":\"LegendItem\"},{\"attributes\":{\"line_alpha\":0.1,\"line_color\":\"#1f77b4\",\"line_width\":4,\"x\":{\"field\":\"x\"},\"y\":{\"field\":\"y\"}},\"id\":\"19146\",\"type\":\"Line\"},{\"attributes\":{\"line_color\":\"#2CC775\",\"line_width\":4,\"x\":{\"field\":\"x\"},\"y\":{\"field\":\"y\"}},\"id\":\"19166\",\"type\":\"Line\"},{\"attributes\":{\"data_source\":{\"id\":\"19126\",\"type\":\"ColumnDataSource\"},\"glyph\":{\"id\":\"19127\",\"type\":\"Line\"},\"hover_glyph\":null,\"muted_glyph\":null,\"nonselection_glyph\":{\"id\":\"19128\",\"type\":\"Line\"},\"selection_glyph\":null,\"view\":{\"id\":\"19130\",\"type\":\"CDSView\"}},\"id\":\"19129\",\"type\":\"GlyphRenderer\"},{\"attributes\":{\"line_alpha\":0.1,\"line_color\":\"#1f77b4\",\"line_width\":4,\"x\":{\"field\":\"x\"},\"y\":{\"field\":\"y\"}},\"id\":\"19128\",\"type\":\"Line\"},{\"attributes\":{\"active_drag\":\"auto\",\"active_inspect\":\"auto\",\"active_multi\":null,\"active_scroll\":\"auto\",\"active_tap\":\"auto\",\"tools\":[{\"id\":\"19113\",\"type\":\"PanTool\"},{\"id\":\"19114\",\"type\":\"WheelZoomTool\"},{\"id\":\"19115\",\"type\":\"BoxZoomTool\"},{\"id\":\"19116\",\"type\":\"SaveTool\"},{\"id\":\"19117\",\"type\":\"ResetTool\"},{\"id\":\"19118\",\"type\":\"HelpTool\"},{\"id\":\"19190\",\"type\":\"HoverTool\"}]},\"id\":\"19119\",\"type\":\"Toolbar\"},{\"attributes\":{\"callback\":null,\"data\":{\"x\":[\"2000\",\"2001\",\"2002\",\"2003\",\"2004\",\"2005\",\"2006\",\"2007\",\"2008\",\"2009\",\"2010\",\"2011\",\"2012\",\"2013\",\"2014\",\"2015\",\"2016\",\"2017\"],\"y\":[85.17405524987429,84.79540428030643,84.3330650787975,83.81501444931978,83.25253104425855,82.64268122833322,82.3537804564918,81.97232450086702,81.50749277844447,80.9718701788124,80.37500826423279,79.81216621177352,79.1507140134569,78.41620239885593,77.62490340829318,76.79105196030804,76.0307949316323,75.22397002256074]},\"selected\":{\"id\":\"19155\",\"type\":\"Selection\"},\"selection_policy\":{\"id\":\"19156\",\"type\":\"UnionRenderers\"}},\"id\":\"19126\",\"type\":\"ColumnDataSource\"},{\"attributes\":{\"bottom_units\":\"screen\",\"fill_alpha\":{\"value\":0.5},\"fill_color\":{\"value\":\"lightgrey\"},\"left_units\":\"screen\",\"level\":\"overlay\",\"line_alpha\":{\"value\":1.0},\"line_color\":{\"value\":\"black\"},\"line_dash\":[4,4],\"line_width\":{\"value\":2},\"render_mode\":\"css\",\"right_units\":\"screen\",\"top_units\":\"screen\"},\"id\":\"19136\",\"type\":\"BoxAnnotation\"},{\"attributes\":{\"data_source\":{\"id\":\"19160\",\"type\":\"ColumnDataSource\"},\"glyph\":{\"id\":\"19161\",\"type\":\"Circle\"},\"hover_glyph\":null,\"muted_glyph\":null,\"nonselection_glyph\":{\"id\":\"19162\",\"type\":\"Circle\"},\"selection_glyph\":null,\"view\":{\"id\":\"19164\",\"type\":\"CDSView\"}},\"id\":\"19163\",\"type\":\"GlyphRenderer\"},{\"attributes\":{},\"id\":\"19116\",\"type\":\"SaveTool\"},{\"attributes\":{},\"id\":\"19157\",\"type\":\"Selection\"},{\"attributes\":{},\"id\":\"19183\",\"type\":\"UnionRenderers\"},{\"attributes\":{\"source\":{\"id\":\"19139\",\"type\":\"ColumnDataSource\"}},\"id\":\"19143\",\"type\":\"CDSView\"},{\"attributes\":{\"source\":{\"id\":\"19185\",\"type\":\"ColumnDataSource\"}},\"id\":\"19189\",\"type\":\"CDSView\"},{\"attributes\":{\"fill_alpha\":{\"value\":0.1},\"fill_color\":{\"value\":\"#1f77b4\"},\"line_alpha\":{\"value\":0.1},\"line_color\":{\"value\":\"#1f77b4\"},\"size\":{\"units\":\"screen\",\"value\":1},\"x\":{\"field\":\"x\"},\"y\":{\"field\":\"y\"}},\"id\":\"19141\",\"type\":\"Circle\"},{\"attributes\":{},\"id\":\"19109\",\"type\":\"BasicTicker\"},{\"attributes\":{\"items\":[{\"id\":\"19138\",\"type\":\"LegendItem\"},{\"id\":\"19159\",\"type\":\"LegendItem\"},{\"id\":\"19184\",\"type\":\"LegendItem\"}],\"location\":\"bottom_left\"},\"id\":\"19137\",\"type\":\"Legend\"},{\"attributes\":{},\"id\":\"19118\",\"type\":\"HelpTool\"},{\"attributes\":{},\"id\":\"19133\",\"type\":\"BasicTickFormatter\"},{\"attributes\":{\"overlay\":{\"id\":\"19136\",\"type\":\"BoxAnnotation\"}},\"id\":\"19115\",\"type\":\"BoxZoomTool\"},{\"attributes\":{},\"id\":\"19156\",\"type\":\"UnionRenderers\"},{\"attributes\":{},\"id\":\"19182\",\"type\":\"Selection\"},{\"attributes\":{\"data_source\":{\"id\":\"19185\",\"type\":\"ColumnDataSource\"},\"glyph\":{\"id\":\"19186\",\"type\":\"Circle\"},\"hover_glyph\":null,\"muted_glyph\":null,\"nonselection_glyph\":{\"id\":\"19187\",\"type\":\"Circle\"},\"selection_glyph\":null,\"view\":{\"id\":\"19189\",\"type\":\"CDSView\"}},\"id\":\"19188\",\"type\":\"GlyphRenderer\"},{\"attributes\":{\"data_source\":{\"id\":\"19139\",\"type\":\"ColumnDataSource\"},\"glyph\":{\"id\":\"19140\",\"type\":\"Circle\"},\"hover_glyph\":null,\"muted_glyph\":null,\"nonselection_glyph\":{\"id\":\"19141\",\"type\":\"Circle\"},\"selection_glyph\":null,\"view\":{\"id\":\"19143\",\"type\":\"CDSView\"}},\"id\":\"19142\",\"type\":\"GlyphRenderer\"},{\"attributes\":{\"axis_label\":\"SP.POP.DPND\",\"formatter\":{\"id\":\"19135\",\"type\":\"BasicTickFormatter\"},\"ticker\":{\"id\":\"19109\",\"type\":\"BasicTicker\"}},\"id\":\"19108\",\"type\":\"LinearAxis\"},{\"attributes\":{\"callback\":null,\"data\":{\"x\":[\"2000\",\"2001\",\"2002\",\"2003\",\"2004\",\"2005\",\"2006\",\"2007\",\"2008\",\"2009\",\"2010\",\"2011\",\"2012\",\"2013\",\"2014\",\"2015\",\"2016\",\"2017\"],\"y\":[85.17405524987429,84.79540428030643,84.3330650787975,83.81501444931978,83.25253104425855,82.64268122833322,82.3537804564918,81.97232450086702,81.50749277844447,80.9718701788124,80.37500826423279,79.81216621177352,79.1507140134569,78.41620239885593,77.62490340829318,76.79105196030804,76.0307949316323,75.22397002256074]},\"selected\":{\"id\":\"19157\",\"type\":\"Selection\"},\"selection_policy\":{\"id\":\"19158\",\"type\":\"UnionRenderers\"}},\"id\":\"19139\",\"type\":\"ColumnDataSource\"},{\"attributes\":{\"axis_label\":\"Years\",\"formatter\":{\"id\":\"19133\",\"type\":\"BasicTickFormatter\"},\"ticker\":{\"id\":\"19104\",\"type\":\"BasicTicker\"}},\"id\":\"19103\",\"type\":\"LinearAxis\"},{\"attributes\":{\"data_source\":{\"id\":\"19144\",\"type\":\"ColumnDataSource\"},\"glyph\":{\"id\":\"19145\",\"type\":\"Line\"},\"hover_glyph\":null,\"muted_glyph\":null,\"nonselection_glyph\":{\"id\":\"19146\",\"type\":\"Line\"},\"selection_glyph\":null,\"view\":{\"id\":\"19148\",\"type\":\"CDSView\"}},\"id\":\"19147\",\"type\":\"GlyphRenderer\"},{\"attributes\":{\"fill_alpha\":{\"value\":0.1},\"fill_color\":{\"value\":\"#1f77b4\"},\"line_alpha\":{\"value\":0.1},\"line_color\":{\"value\":\"#1f77b4\"},\"size\":{\"units\":\"screen\",\"value\":1},\"x\":{\"field\":\"x\"},\"y\":{\"field\":\"y\"}},\"id\":\"19162\",\"type\":\"Circle\"},{\"attributes\":{},\"id\":\"19797\",\"type\":\"Selection\"},{\"attributes\":{\"dimension\":1,\"grid_line_alpha\":0.5,\"ticker\":{\"id\":\"19109\",\"type\":\"BasicTicker\"}},\"id\":\"19112\",\"type\":\"Grid\"},{\"attributes\":{\"label\":{\"value\":\"Developing excluding LDCs\"},\"renderers\":[{\"id\":\"19147\",\"type\":\"GlyphRenderer\"}]},\"id\":\"19159\",\"type\":\"LegendItem\"},{\"attributes\":{},\"id\":\"19117\",\"type\":\"ResetTool\"},{\"attributes\":{\"callback\":null,\"tooltips\":\"                \\n        <div style=padding=5px>Year:@x</div>\\n        <div style=padding=5px>Value:@y</div>        \\n        \"},\"id\":\"19190\",\"type\":\"HoverTool\"},{\"attributes\":{\"grid_line_color\":null,\"ticker\":{\"id\":\"19104\",\"type\":\"BasicTicker\"}},\"id\":\"19107\",\"type\":\"Grid\"},{\"attributes\":{\"line_alpha\":0.1,\"line_color\":\"#1f77b4\",\"line_width\":4,\"x\":{\"field\":\"x\"},\"y\":{\"field\":\"y\"}},\"id\":\"19167\",\"type\":\"Line\"},{\"attributes\":{\"fill_alpha\":{\"value\":0.1},\"fill_color\":{\"value\":\"#1f77b4\"},\"line_alpha\":{\"value\":0.1},\"line_color\":{\"value\":\"#1f77b4\"},\"size\":{\"units\":\"screen\",\"value\":1},\"x\":{\"field\":\"x\"},\"y\":{\"field\":\"y\"}},\"id\":\"19187\",\"type\":\"Circle\"},{\"attributes\":{\"label\":{\"value\":\"LDCs\"},\"renderers\":[{\"id\":\"19129\",\"type\":\"GlyphRenderer\"}]},\"id\":\"19138\",\"type\":\"LegendItem\"},{\"attributes\":{},\"id\":\"19104\",\"type\":\"BasicTicker\"},{\"attributes\":{},\"id\":\"19114\",\"type\":\"WheelZoomTool\"},{\"attributes\":{},\"id\":\"19798\",\"type\":\"UnionRenderers\"},{\"attributes\":{},\"id\":\"19795\",\"type\":\"Selection\"},{\"attributes\":{},\"id\":\"19181\",\"type\":\"UnionRenderers\"},{\"attributes\":{},\"id\":\"19101\",\"type\":\"LinearScale\"},{\"attributes\":{\"data_source\":{\"id\":\"19165\",\"type\":\"ColumnDataSource\"},\"glyph\":{\"id\":\"19166\",\"type\":\"Line\"},\"hover_glyph\":null,\"muted_glyph\":null,\"nonselection_glyph\":{\"id\":\"19167\",\"type\":\"Line\"},\"selection_glyph\":null,\"view\":{\"id\":\"19169\",\"type\":\"CDSView\"}},\"id\":\"19168\",\"type\":\"GlyphRenderer\"},{\"attributes\":{\"fill_color\":{\"value\":\"#2CC775\"},\"line_color\":{\"value\":\"#2CC775\"},\"size\":{\"units\":\"screen\",\"value\":1},\"x\":{\"field\":\"x\"},\"y\":{\"field\":\"y\"}},\"id\":\"19186\",\"type\":\"Circle\"},{\"attributes\":{\"callback\":null},\"id\":\"19097\",\"type\":\"DataRange1d\"},{\"attributes\":{},\"id\":\"19113\",\"type\":\"PanTool\"},{\"attributes\":{\"fill_color\":{\"value\":\"#5430F1\"},\"line_color\":{\"value\":\"#5430F1\"},\"size\":{\"units\":\"screen\",\"value\":1},\"x\":{\"field\":\"x\"},\"y\":{\"field\":\"y\"}},\"id\":\"19161\",\"type\":\"Circle\"},{\"attributes\":{},\"id\":\"19099\",\"type\":\"LinearScale\"},{\"attributes\":{\"source\":{\"id\":\"19126\",\"type\":\"ColumnDataSource\"}},\"id\":\"19130\",\"type\":\"CDSView\"},{\"attributes\":{\"callback\":null,\"data\":{\"x\":[\"2000\",\"2001\",\"2002\",\"2003\",\"2004\",\"2005\",\"2006\",\"2007\",\"2008\",\"2009\",\"2010\",\"2011\",\"2012\",\"2013\",\"2014\",\"2015\",\"2016\",\"2017\"],\"y\":[50.723128378093605,50.5231850468679,50.37496397566116,50.256690141387246,50.13330348053058,49.99664317017944,50.01583887693405,50.00026173733251,49.99506396621195,50.06955879546578,50.259015743666154,50.596556044189086,50.982156909542724,51.41864250914094,51.884735692147885,52.364033705503694,52.810673816186224,53.26354779686192]},\"selected\":{\"id\":\"19795\",\"type\":\"Selection\"},\"selection_policy\":{\"id\":\"19796\",\"type\":\"UnionRenderers\"}},\"id\":\"19165\",\"type\":\"ColumnDataSource\"},{\"attributes\":{\"callback\":null},\"id\":\"19095\",\"type\":\"DataRange1d\"},{\"attributes\":{},\"id\":\"19135\",\"type\":\"BasicTickFormatter\"},{\"attributes\":{\"callback\":null,\"data\":{\"x\":[\"2000\",\"2001\",\"2002\",\"2003\",\"2004\",\"2005\",\"2006\",\"2007\",\"2008\",\"2009\",\"2010\",\"2011\",\"2012\",\"2013\",\"2014\",\"2015\",\"2016\",\"2017\"],\"y\":[58.19409281505839,57.390788669127076,56.303566941143856,55.0777888204011,53.9356506864574,52.98456714221311,52.19880666201814,51.56524492183216,51.0555121914691,50.59642272787209,50.15377130229243,49.85370067049981,49.550004873173656,49.27463686577526,49.07562632818277,48.97354671460469,49.01384219923888,49.124886101246084]},\"selected\":{\"id\":\"19182\",\"type\":\"Selection\"},\"selection_policy\":{\"id\":\"19183\",\"type\":\"UnionRenderers\"}},\"id\":\"19160\",\"type\":\"ColumnDataSource\"},{\"attributes\":{},\"id\":\"19796\",\"type\":\"UnionRenderers\"},{\"attributes\":{\"line_color\":\"#FA1857\",\"line_width\":4,\"x\":{\"field\":\"x\"},\"y\":{\"field\":\"y\"}},\"id\":\"19127\",\"type\":\"Line\"},{\"attributes\":{},\"id\":\"19155\",\"type\":\"Selection\"},{\"attributes\":{},\"id\":\"19180\",\"type\":\"Selection\"},{\"attributes\":{\"fill_color\":{\"value\":\"#FA1857\"},\"line_color\":{\"value\":\"#FA1857\"},\"size\":{\"units\":\"screen\",\"value\":1},\"x\":{\"field\":\"x\"},\"y\":{\"field\":\"y\"}},\"id\":\"19140\",\"type\":\"Circle\"}],\"root_ids\":[\"19092\"]},\"title\":\"Bokeh Application\",\"version\":\"1.4.0\"}};\n",
       "  var render_items = [{\"docid\":\"46ada269-f71b-42fe-aeae-a31bbf84a50f\",\"roots\":{\"19092\":\"df7a105f-3c45-4b73-8ac9-2f324d7be281\"}}];\n",
       "  root.Bokeh.embed.embed_items_notebook(docs_json, render_items);\n",
       "\n",
       "  }\n",
       "  if (root.Bokeh !== undefined) {\n",
       "    embed_document(root);\n",
       "  } else {\n",
       "    var attempts = 0;\n",
       "    var timer = setInterval(function(root) {\n",
       "      if (root.Bokeh !== undefined) {\n",
       "        clearInterval(timer);\n",
       "        embed_document(root);\n",
       "      } else {\n",
       "        attempts++;\n",
       "        if (attempts > 100) {\n",
       "          clearInterval(timer);\n",
       "          console.log(\"Bokeh: ERROR: Unable to run BokehJS code because BokehJS library is missing\");\n",
       "        }\n",
       "      }\n",
       "    }, 10, root)\n",
       "  }\n",
       "})(window);"
      ],
      "application/vnd.bokehjs_exec.v0+json": ""
     },
     "metadata": {
      "application/vnd.bokehjs_exec.v0+json": {
       "id": "19092"
      }
     },
     "output_type": "display_data"
    }
   ],
   "source": [
    "# Age dependency ratio (% of working-age population)\n",
    "years = list(map(str, list(range(2000,2018))))\n",
    "result = show_weighted_average(years, 'SP.POP.DPND', 'SP.POP.1564.TO', \n",
    "                               ['LDCs', 'Developing excluding LDCs', 'OECD'], \n",
    "                                height=400, width=1000, line_width=4)"
   ]
  },
  {
   "cell_type": "code",
   "execution_count": 44,
   "metadata": {
    "ExecuteTime": {
     "end_time": "2019-10-25T14:26:17.747160Z",
     "start_time": "2019-10-25T14:26:12.861357Z"
    },
    "slideshow": {
     "slide_type": "slide"
    }
   },
   "outputs": [
    {
     "data": {
      "text/html": [
       "\n",
       "\n",
       "\n",
       "\n",
       "\n",
       "\n",
       "  <div class=\"bk-root\" id=\"326f2394-e849-4a85-9b85-22c0c9c3022a\" data-root-id=\"19907\"></div>\n"
      ]
     },
     "metadata": {},
     "output_type": "display_data"
    },
    {
     "data": {
      "application/javascript": [
       "(function(root) {\n",
       "  function embed_document(root) {\n",
       "    \n",
       "  var docs_json = {\"585b86b9-67e2-44c5-b9c9-991f4a9b8770\":{\"roots\":{\"references\":[{\"attributes\":{\"below\":[{\"id\":\"19918\",\"type\":\"LinearAxis\"}],\"center\":[{\"id\":\"19922\",\"type\":\"Grid\"},{\"id\":\"19927\",\"type\":\"Grid\"},{\"id\":\"19952\",\"type\":\"Legend\"}],\"left\":[{\"id\":\"19923\",\"type\":\"LinearAxis\"}],\"plot_height\":400,\"plot_width\":1000,\"renderers\":[{\"id\":\"19944\",\"type\":\"GlyphRenderer\"},{\"id\":\"19957\",\"type\":\"GlyphRenderer\"},{\"id\":\"19962\",\"type\":\"GlyphRenderer\"},{\"id\":\"19978\",\"type\":\"GlyphRenderer\"},{\"id\":\"19983\",\"type\":\"GlyphRenderer\"},{\"id\":\"20003\",\"type\":\"GlyphRenderer\"}],\"title\":{\"id\":\"19908\",\"type\":\"Title\"},\"toolbar\":{\"id\":\"19934\",\"type\":\"Toolbar\"},\"x_range\":{\"id\":\"19910\",\"type\":\"DataRange1d\"},\"x_scale\":{\"id\":\"19914\",\"type\":\"LinearScale\"},\"y_range\":{\"id\":\"19912\",\"type\":\"DataRange1d\"},\"y_scale\":{\"id\":\"19916\",\"type\":\"LinearScale\"}},\"id\":\"19907\",\"subtype\":\"Figure\",\"type\":\"Plot\"},{\"attributes\":{\"source\":{\"id\":\"19959\",\"type\":\"ColumnDataSource\"}},\"id\":\"19963\",\"type\":\"CDSView\"},{\"attributes\":{\"callback\":null},\"id\":\"19910\",\"type\":\"DataRange1d\"},{\"attributes\":{},\"id\":\"19924\",\"type\":\"BasicTicker\"},{\"attributes\":{\"line_alpha\":0.1,\"line_color\":\"#1f77b4\",\"line_width\":3,\"x\":{\"field\":\"x\"},\"y\":{\"field\":\"y\"}},\"id\":\"19961\",\"type\":\"Line\"},{\"attributes\":{\"fill_alpha\":{\"value\":0.1},\"fill_color\":{\"value\":\"#1f77b4\"},\"line_alpha\":{\"value\":0.1},\"line_color\":{\"value\":\"#1f77b4\"},\"size\":{\"units\":\"screen\",\"value\":1},\"x\":{\"field\":\"x\"},\"y\":{\"field\":\"y\"}},\"id\":\"20002\",\"type\":\"Circle\"},{\"attributes\":{},\"id\":\"19931\",\"type\":\"SaveTool\"},{\"attributes\":{},\"id\":\"19973\",\"type\":\"UnionRenderers\"},{\"attributes\":{\"data_source\":{\"id\":\"19980\",\"type\":\"ColumnDataSource\"},\"glyph\":{\"id\":\"19981\",\"type\":\"Line\"},\"hover_glyph\":null,\"muted_glyph\":null,\"nonselection_glyph\":{\"id\":\"19982\",\"type\":\"Line\"},\"selection_glyph\":null,\"view\":{\"id\":\"19984\",\"type\":\"CDSView\"}},\"id\":\"19983\",\"type\":\"GlyphRenderer\"},{\"attributes\":{\"fill_color\":{\"value\":\"#FA1857\"},\"line_color\":{\"value\":\"#FA1857\"},\"size\":{\"units\":\"screen\",\"value\":1},\"x\":{\"field\":\"x\"},\"y\":{\"field\":\"y\"}},\"id\":\"19955\",\"type\":\"Circle\"},{\"attributes\":{\"callback\":null,\"data\":{\"x\":[\"2000\",\"2001\",\"2002\",\"2003\",\"2004\",\"2005\",\"2006\",\"2007\",\"2008\",\"2009\",\"2010\",\"2011\",\"2012\",\"2013\",\"2014\",\"2015\",\"2016\",\"2017\"],\"y\":[65.83301652521625,65.8684425528842,65.73427571808543,65.64919764713692,65.66603925352581,65.747247617559,65.82733188121632,65.79867099451198,65.67749694606924,65.23243344174506,65.14313911051282,65.0042687463501,64.80493437351076,64.6705264038209,64.61325967142318,64.54779771445858,64.48134681180402,64.84243717269096]},\"selected\":{\"id\":\"19970\",\"type\":\"Selection\"},\"selection_policy\":{\"id\":\"19971\",\"type\":\"UnionRenderers\"}},\"id\":\"19941\",\"type\":\"ColumnDataSource\"},{\"attributes\":{},\"id\":\"19970\",\"type\":\"Selection\"},{\"attributes\":{},\"id\":\"19950\",\"type\":\"BasicTickFormatter\"},{\"attributes\":{\"items\":[{\"id\":\"19953\",\"type\":\"LegendItem\"},{\"id\":\"19974\",\"type\":\"LegendItem\"},{\"id\":\"19999\",\"type\":\"LegendItem\"}],\"location\":\"bottom_left\"},\"id\":\"19952\",\"type\":\"Legend\"},{\"attributes\":{},\"id\":\"19971\",\"type\":\"UnionRenderers\"},{\"attributes\":{\"text\":\"Employment to population ratio, 15+, total (%) (modeled ILO estimate) weighted against Population, total\"},\"id\":\"19908\",\"type\":\"Title\"},{\"attributes\":{\"label\":{\"value\":\"LDCs\"},\"renderers\":[{\"id\":\"19944\",\"type\":\"GlyphRenderer\"}]},\"id\":\"19953\",\"type\":\"LegendItem\"},{\"attributes\":{},\"id\":\"19972\",\"type\":\"Selection\"},{\"attributes\":{\"data_source\":{\"id\":\"20000\",\"type\":\"ColumnDataSource\"},\"glyph\":{\"id\":\"20001\",\"type\":\"Circle\"},\"hover_glyph\":null,\"muted_glyph\":null,\"nonselection_glyph\":{\"id\":\"20002\",\"type\":\"Circle\"},\"selection_glyph\":null,\"view\":{\"id\":\"20004\",\"type\":\"CDSView\"}},\"id\":\"20003\",\"type\":\"GlyphRenderer\"},{\"attributes\":{\"fill_color\":{\"value\":\"#5430F1\"},\"line_color\":{\"value\":\"#5430F1\"},\"size\":{\"units\":\"screen\",\"value\":1},\"x\":{\"field\":\"x\"},\"y\":{\"field\":\"y\"}},\"id\":\"19976\",\"type\":\"Circle\"},{\"attributes\":{\"bottom_units\":\"screen\",\"fill_alpha\":{\"value\":0.5},\"fill_color\":{\"value\":\"lightgrey\"},\"left_units\":\"screen\",\"level\":\"overlay\",\"line_alpha\":{\"value\":1.0},\"line_color\":{\"value\":\"black\"},\"line_dash\":[4,4],\"line_width\":{\"value\":2},\"render_mode\":\"css\",\"right_units\":\"screen\",\"top_units\":\"screen\"},\"id\":\"19951\",\"type\":\"BoxAnnotation\"},{\"attributes\":{},\"id\":\"19948\",\"type\":\"BasicTickFormatter\"},{\"attributes\":{\"line_alpha\":0.1,\"line_color\":\"#1f77b4\",\"line_width\":3,\"x\":{\"field\":\"x\"},\"y\":{\"field\":\"y\"}},\"id\":\"19943\",\"type\":\"Line\"},{\"attributes\":{\"source\":{\"id\":\"19980\",\"type\":\"ColumnDataSource\"}},\"id\":\"19984\",\"type\":\"CDSView\"},{\"attributes\":{\"fill_alpha\":{\"value\":0.1},\"fill_color\":{\"value\":\"#1f77b4\"},\"line_alpha\":{\"value\":0.1},\"line_color\":{\"value\":\"#1f77b4\"},\"size\":{\"units\":\"screen\",\"value\":1},\"x\":{\"field\":\"x\"},\"y\":{\"field\":\"y\"}},\"id\":\"19977\",\"type\":\"Circle\"},{\"attributes\":{\"source\":{\"id\":\"20000\",\"type\":\"ColumnDataSource\"}},\"id\":\"20004\",\"type\":\"CDSView\"},{\"attributes\":{\"callback\":null},\"id\":\"19912\",\"type\":\"DataRange1d\"},{\"attributes\":{},\"id\":\"20628\",\"type\":\"Selection\"},{\"attributes\":{\"data_source\":{\"id\":\"19941\",\"type\":\"ColumnDataSource\"},\"glyph\":{\"id\":\"19942\",\"type\":\"Line\"},\"hover_glyph\":null,\"muted_glyph\":null,\"nonselection_glyph\":{\"id\":\"19943\",\"type\":\"Line\"},\"selection_glyph\":null,\"view\":{\"id\":\"19945\",\"type\":\"CDSView\"}},\"id\":\"19944\",\"type\":\"GlyphRenderer\"},{\"attributes\":{\"fill_alpha\":{\"value\":0.1},\"fill_color\":{\"value\":\"#1f77b4\"},\"line_alpha\":{\"value\":0.1},\"line_color\":{\"value\":\"#1f77b4\"},\"size\":{\"units\":\"screen\",\"value\":1},\"x\":{\"field\":\"x\"},\"y\":{\"field\":\"y\"}},\"id\":\"19956\",\"type\":\"Circle\"},{\"attributes\":{},\"id\":\"19995\",\"type\":\"Selection\"},{\"attributes\":{\"active_drag\":\"auto\",\"active_inspect\":\"auto\",\"active_multi\":null,\"active_scroll\":\"auto\",\"active_tap\":\"auto\",\"tools\":[{\"id\":\"19928\",\"type\":\"PanTool\"},{\"id\":\"19929\",\"type\":\"WheelZoomTool\"},{\"id\":\"19930\",\"type\":\"BoxZoomTool\"},{\"id\":\"19931\",\"type\":\"SaveTool\"},{\"id\":\"19932\",\"type\":\"ResetTool\"},{\"id\":\"19933\",\"type\":\"HelpTool\"},{\"id\":\"20005\",\"type\":\"HoverTool\"}]},\"id\":\"19934\",\"type\":\"Toolbar\"},{\"attributes\":{\"callback\":null,\"data\":{\"x\":[\"2000\",\"2001\",\"2002\",\"2003\",\"2004\",\"2005\",\"2006\",\"2007\",\"2008\",\"2009\",\"2010\",\"2011\",\"2012\",\"2013\",\"2014\",\"2015\",\"2016\",\"2017\"],\"y\":[56.40865141951019,56.15551087542925,55.78176951023597,55.5296417520831,55.589161503213,55.967412284918765,56.41051699770243,56.73108736593439,56.62697234239764,55.124996476006956,54.84009591169655,54.959388942012374,55.0534575823381,55.05901270441525,55.304467418720705,55.67918767759019,56.10556899868917,56.579633263980924]},\"selected\":{\"id\":\"20628\",\"type\":\"Selection\"},\"selection_policy\":{\"id\":\"20629\",\"type\":\"UnionRenderers\"}},\"id\":\"19980\",\"type\":\"ColumnDataSource\"},{\"attributes\":{\"line_color\":\"#FA1857\",\"line_width\":3,\"x\":{\"field\":\"x\"},\"y\":{\"field\":\"y\"}},\"id\":\"19942\",\"type\":\"Line\"},{\"attributes\":{},\"id\":\"19996\",\"type\":\"UnionRenderers\"},{\"attributes\":{\"label\":{\"value\":\"OECD\"},\"renderers\":[{\"id\":\"19983\",\"type\":\"GlyphRenderer\"}]},\"id\":\"19999\",\"type\":\"LegendItem\"},{\"attributes\":{},\"id\":\"19928\",\"type\":\"PanTool\"},{\"attributes\":{\"data_source\":{\"id\":\"19975\",\"type\":\"ColumnDataSource\"},\"glyph\":{\"id\":\"19976\",\"type\":\"Circle\"},\"hover_glyph\":null,\"muted_glyph\":null,\"nonselection_glyph\":{\"id\":\"19977\",\"type\":\"Circle\"},\"selection_glyph\":null,\"view\":{\"id\":\"19979\",\"type\":\"CDSView\"}},\"id\":\"19978\",\"type\":\"GlyphRenderer\"},{\"attributes\":{\"callback\":null,\"data\":{\"x\":[\"2000\",\"2001\",\"2002\",\"2003\",\"2004\",\"2005\",\"2006\",\"2007\",\"2008\",\"2009\",\"2010\",\"2011\",\"2012\",\"2013\",\"2014\",\"2015\",\"2016\",\"2017\"],\"y\":[56.40865141951019,56.15551087542925,55.78176951023597,55.5296417520831,55.589161503213,55.967412284918765,56.41051699770243,56.73108736593439,56.62697234239764,55.124996476006956,54.84009591169655,54.959388942012374,55.0534575823381,55.05901270441525,55.304467418720705,55.67918767759019,56.10556899868917,56.579633263980924]},\"selected\":{\"id\":\"20630\",\"type\":\"Selection\"},\"selection_policy\":{\"id\":\"20631\",\"type\":\"UnionRenderers\"}},\"id\":\"20000\",\"type\":\"ColumnDataSource\"},{\"attributes\":{},\"id\":\"20629\",\"type\":\"UnionRenderers\"},{\"attributes\":{},\"id\":\"19916\",\"type\":\"LinearScale\"},{\"attributes\":{},\"id\":\"19997\",\"type\":\"Selection\"},{\"attributes\":{\"callback\":null,\"data\":{\"x\":[\"2000\",\"2001\",\"2002\",\"2003\",\"2004\",\"2005\",\"2006\",\"2007\",\"2008\",\"2009\",\"2010\",\"2011\",\"2012\",\"2013\",\"2014\",\"2015\",\"2016\",\"2017\"],\"y\":[62.02243357574345,61.64016680037185,61.1618940952195,60.78637558710965,60.735995768634645,60.53607853298226,60.269713445332776,60.075721745799676,59.750477553036504,59.25835137121876,58.96155327114154,58.71265955540014,58.47689078553427,58.318144479363795,58.199985004749834,58.00138011342064,57.745664542750994,57.66029265801793]},\"selected\":{\"id\":\"19997\",\"type\":\"Selection\"},\"selection_policy\":{\"id\":\"19998\",\"type\":\"UnionRenderers\"}},\"id\":\"19975\",\"type\":\"ColumnDataSource\"},{\"attributes\":{},\"id\":\"20630\",\"type\":\"Selection\"},{\"attributes\":{\"data_source\":{\"id\":\"19954\",\"type\":\"ColumnDataSource\"},\"glyph\":{\"id\":\"19955\",\"type\":\"Circle\"},\"hover_glyph\":null,\"muted_glyph\":null,\"nonselection_glyph\":{\"id\":\"19956\",\"type\":\"Circle\"},\"selection_glyph\":null,\"view\":{\"id\":\"19958\",\"type\":\"CDSView\"}},\"id\":\"19957\",\"type\":\"GlyphRenderer\"},{\"attributes\":{},\"id\":\"19914\",\"type\":\"LinearScale\"},{\"attributes\":{},\"id\":\"19929\",\"type\":\"WheelZoomTool\"},{\"attributes\":{\"callback\":null,\"data\":{\"x\":[\"2000\",\"2001\",\"2002\",\"2003\",\"2004\",\"2005\",\"2006\",\"2007\",\"2008\",\"2009\",\"2010\",\"2011\",\"2012\",\"2013\",\"2014\",\"2015\",\"2016\",\"2017\"],\"y\":[65.83301652521625,65.8684425528842,65.73427571808543,65.64919764713692,65.66603925352581,65.747247617559,65.82733188121632,65.79867099451198,65.67749694606924,65.23243344174506,65.14313911051282,65.0042687463501,64.80493437351076,64.6705264038209,64.61325967142318,64.54779771445858,64.48134681180402,64.84243717269096]},\"selected\":{\"id\":\"19972\",\"type\":\"Selection\"},\"selection_policy\":{\"id\":\"19973\",\"type\":\"UnionRenderers\"}},\"id\":\"19954\",\"type\":\"ColumnDataSource\"},{\"attributes\":{\"line_alpha\":0.1,\"line_color\":\"#1f77b4\",\"line_width\":3,\"x\":{\"field\":\"x\"},\"y\":{\"field\":\"y\"}},\"id\":\"19982\",\"type\":\"Line\"},{\"attributes\":{\"dimension\":1,\"grid_line_alpha\":0.5,\"ticker\":{\"id\":\"19924\",\"type\":\"BasicTicker\"}},\"id\":\"19927\",\"type\":\"Grid\"},{\"attributes\":{\"overlay\":{\"id\":\"19951\",\"type\":\"BoxAnnotation\"}},\"id\":\"19930\",\"type\":\"BoxZoomTool\"},{\"attributes\":{\"callback\":null,\"data\":{\"x\":[\"2000\",\"2001\",\"2002\",\"2003\",\"2004\",\"2005\",\"2006\",\"2007\",\"2008\",\"2009\",\"2010\",\"2011\",\"2012\",\"2013\",\"2014\",\"2015\",\"2016\",\"2017\"],\"y\":[62.02243357574345,61.64016680037185,61.1618940952195,60.78637558710965,60.735995768634645,60.53607853298226,60.269713445332776,60.075721745799676,59.750477553036504,59.25835137121876,58.96155327114154,58.71265955540014,58.47689078553427,58.318144479363795,58.199985004749834,58.00138011342064,57.745664542750994,57.66029265801793]},\"selected\":{\"id\":\"19995\",\"type\":\"Selection\"},\"selection_policy\":{\"id\":\"19996\",\"type\":\"UnionRenderers\"}},\"id\":\"19959\",\"type\":\"ColumnDataSource\"},{\"attributes\":{\"source\":{\"id\":\"19975\",\"type\":\"ColumnDataSource\"}},\"id\":\"19979\",\"type\":\"CDSView\"},{\"attributes\":{\"axis_label\":\"Years\",\"formatter\":{\"id\":\"19948\",\"type\":\"BasicTickFormatter\"},\"ticker\":{\"id\":\"19919\",\"type\":\"BasicTicker\"}},\"id\":\"19918\",\"type\":\"LinearAxis\"},{\"attributes\":{},\"id\":\"19998\",\"type\":\"UnionRenderers\"},{\"attributes\":{},\"id\":\"20631\",\"type\":\"UnionRenderers\"},{\"attributes\":{},\"id\":\"19919\",\"type\":\"BasicTicker\"},{\"attributes\":{\"source\":{\"id\":\"19954\",\"type\":\"ColumnDataSource\"}},\"id\":\"19958\",\"type\":\"CDSView\"},{\"attributes\":{\"data_source\":{\"id\":\"19959\",\"type\":\"ColumnDataSource\"},\"glyph\":{\"id\":\"19960\",\"type\":\"Line\"},\"hover_glyph\":null,\"muted_glyph\":null,\"nonselection_glyph\":{\"id\":\"19961\",\"type\":\"Line\"},\"selection_glyph\":null,\"view\":{\"id\":\"19963\",\"type\":\"CDSView\"}},\"id\":\"19962\",\"type\":\"GlyphRenderer\"},{\"attributes\":{\"line_color\":\"#2CC775\",\"line_width\":3,\"x\":{\"field\":\"x\"},\"y\":{\"field\":\"y\"}},\"id\":\"19981\",\"type\":\"Line\"},{\"attributes\":{\"source\":{\"id\":\"19941\",\"type\":\"ColumnDataSource\"}},\"id\":\"19945\",\"type\":\"CDSView\"},{\"attributes\":{\"axis_label\":\"SL.EMP.TOTL.SP.ZS\",\"formatter\":{\"id\":\"19950\",\"type\":\"BasicTickFormatter\"},\"ticker\":{\"id\":\"19924\",\"type\":\"BasicTicker\"}},\"id\":\"19923\",\"type\":\"LinearAxis\"},{\"attributes\":{},\"id\":\"19932\",\"type\":\"ResetTool\"},{\"attributes\":{\"line_color\":\"#5430F1\",\"line_width\":3,\"x\":{\"field\":\"x\"},\"y\":{\"field\":\"y\"}},\"id\":\"19960\",\"type\":\"Line\"},{\"attributes\":{\"fill_color\":{\"value\":\"#2CC775\"},\"line_color\":{\"value\":\"#2CC775\"},\"size\":{\"units\":\"screen\",\"value\":1},\"x\":{\"field\":\"x\"},\"y\":{\"field\":\"y\"}},\"id\":\"20001\",\"type\":\"Circle\"},{\"attributes\":{},\"id\":\"19933\",\"type\":\"HelpTool\"},{\"attributes\":{\"grid_line_color\":null,\"ticker\":{\"id\":\"19919\",\"type\":\"BasicTicker\"}},\"id\":\"19922\",\"type\":\"Grid\"},{\"attributes\":{\"callback\":null,\"tooltips\":\"                \\n        <div style=padding=5px>Year:@x</div>\\n        <div style=padding=5px>Value:@y</div>        \\n        \"},\"id\":\"20005\",\"type\":\"HoverTool\"},{\"attributes\":{\"label\":{\"value\":\"Developing excluding LDCs\"},\"renderers\":[{\"id\":\"19962\",\"type\":\"GlyphRenderer\"}]},\"id\":\"19974\",\"type\":\"LegendItem\"}],\"root_ids\":[\"19907\"]},\"title\":\"Bokeh Application\",\"version\":\"1.4.0\"}};\n",
       "  var render_items = [{\"docid\":\"585b86b9-67e2-44c5-b9c9-991f4a9b8770\",\"roots\":{\"19907\":\"326f2394-e849-4a85-9b85-22c0c9c3022a\"}}];\n",
       "  root.Bokeh.embed.embed_items_notebook(docs_json, render_items);\n",
       "\n",
       "  }\n",
       "  if (root.Bokeh !== undefined) {\n",
       "    embed_document(root);\n",
       "  } else {\n",
       "    var attempts = 0;\n",
       "    var timer = setInterval(function(root) {\n",
       "      if (root.Bokeh !== undefined) {\n",
       "        clearInterval(timer);\n",
       "        embed_document(root);\n",
       "      } else {\n",
       "        attempts++;\n",
       "        if (attempts > 100) {\n",
       "          clearInterval(timer);\n",
       "          console.log(\"Bokeh: ERROR: Unable to run BokehJS code because BokehJS library is missing\");\n",
       "        }\n",
       "      }\n",
       "    }, 10, root)\n",
       "  }\n",
       "})(window);"
      ],
      "application/vnd.bokehjs_exec.v0+json": ""
     },
     "metadata": {
      "application/vnd.bokehjs_exec.v0+json": {
       "id": "19907"
      }
     },
     "output_type": "display_data"
    }
   ],
   "source": [
    "#Employment to population ratio, 15+, total (%) (modeled ILO estimate)\n",
    "# Age dependency ratio (% of working-age population)\n",
    "years = list(map(str, list(range(2000,2018))))\n",
    "result = show_weighted_average(years, 'SL.EMP.TOTL.SP.ZS', 'SP.POP.TOTL', \n",
    "                               ['LDCs', 'Developing excluding LDCs', 'OECD'], \n",
    "                                height=400, width=1000, line_width=3)"
   ]
  },
  {
   "cell_type": "markdown",
   "metadata": {
    "slideshow": {
     "slide_type": "slide"
    }
   },
   "source": [
    "# Some very general ideas"
   ]
  },
  {
   "cell_type": "markdown",
   "metadata": {
    "slideshow": {
     "slide_type": "slide"
    }
   },
   "source": [
    "# The world is becoming increasingly unequal"
   ]
  },
  {
   "cell_type": "markdown",
   "metadata": {
    "slideshow": {
     "slide_type": "slide"
    }
   },
   "source": [
    "# Great progress in certain areas, still an awful lot to do"
   ]
  },
  {
   "cell_type": "markdown",
   "metadata": {
    "slideshow": {
     "slide_type": "slide"
    }
   },
   "source": [
    "# Sustainable development in the LDCs won't happen without addressing gender inequalities"
   ]
  },
  {
   "cell_type": "markdown",
   "metadata": {
    "slideshow": {
     "slide_type": "slide"
    }
   },
   "source": [
    "# The SDGs and other internationally agreed development goals won't happen without accelerated progress in the LDCs."
   ]
  },
  {
   "cell_type": "markdown",
   "metadata": {
    "slideshow": {
     "slide_type": "slide"
    }
   },
   "source": [
    "# Many thanks\n",
    "\n",
    "Let's stay in touch\n",
    "\n",
    "Tomás González\n",
    "gonzalezt@un.org\n"
   ]
  }
 ],
 "metadata": {
  "celltoolbar": "Slideshow",
  "kernelspec": {
   "display_name": "Python 3",
   "language": "python",
   "name": "python3"
  },
  "language_info": {
   "codemirror_mode": {
    "name": "ipython",
    "version": 3
   },
   "file_extension": ".py",
   "mimetype": "text/x-python",
   "name": "python",
   "nbconvert_exporter": "python",
   "pygments_lexer": "ipython3",
   "version": "3.7.5"
  },
  "toc": {
   "base_numbering": 1,
   "nav_menu": {},
   "number_sections": true,
   "sideBar": true,
   "skip_h1_title": false,
   "title_cell": "Table of Contents",
   "title_sidebar": "Contents",
   "toc_cell": false,
   "toc_position": {},
   "toc_section_display": true,
   "toc_window_display": false
  }
 },
 "nbformat": 4,
 "nbformat_minor": 2
}
