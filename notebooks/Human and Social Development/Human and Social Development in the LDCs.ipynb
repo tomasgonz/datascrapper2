{
 "cells": [
  {
   "cell_type": "code",
   "execution_count": 1,
   "metadata": {
    "ExecuteTime": {
     "end_time": "2019-10-23T20:52:35.006062Z",
     "start_time": "2019-10-23T20:52:31.458712Z"
    },
    "slideshow": {
     "slide_type": "skip"
    }
   },
   "outputs": [
    {
     "data": {
      "text/html": [
       "\n",
       "    <div class=\"bk-root\">\n",
       "        <a href=\"https://bokeh.pydata.org\" target=\"_blank\" class=\"bk-logo bk-logo-small bk-logo-notebook\"></a>\n",
       "        <span id=\"1001\">Loading BokehJS ...</span>\n",
       "    </div>"
      ]
     },
     "metadata": {},
     "output_type": "display_data"
    },
    {
     "data": {
      "application/javascript": [
       "\n",
       "(function(root) {\n",
       "  function now() {\n",
       "    return new Date();\n",
       "  }\n",
       "\n",
       "  var force = true;\n",
       "\n",
       "  if (typeof root._bokeh_onload_callbacks === \"undefined\" || force === true) {\n",
       "    root._bokeh_onload_callbacks = [];\n",
       "    root._bokeh_is_loading = undefined;\n",
       "  }\n",
       "\n",
       "  var JS_MIME_TYPE = 'application/javascript';\n",
       "  var HTML_MIME_TYPE = 'text/html';\n",
       "  var EXEC_MIME_TYPE = 'application/vnd.bokehjs_exec.v0+json';\n",
       "  var CLASS_NAME = 'output_bokeh rendered_html';\n",
       "\n",
       "  /**\n",
       "   * Render data to the DOM node\n",
       "   */\n",
       "  function render(props, node) {\n",
       "    var script = document.createElement(\"script\");\n",
       "    node.appendChild(script);\n",
       "  }\n",
       "\n",
       "  /**\n",
       "   * Handle when an output is cleared or removed\n",
       "   */\n",
       "  function handleClearOutput(event, handle) {\n",
       "    var cell = handle.cell;\n",
       "\n",
       "    var id = cell.output_area._bokeh_element_id;\n",
       "    var server_id = cell.output_area._bokeh_server_id;\n",
       "    // Clean up Bokeh references\n",
       "    if (id != null && id in Bokeh.index) {\n",
       "      Bokeh.index[id].model.document.clear();\n",
       "      delete Bokeh.index[id];\n",
       "    }\n",
       "\n",
       "    if (server_id !== undefined) {\n",
       "      // Clean up Bokeh references\n",
       "      var cmd = \"from bokeh.io.state import curstate; print(curstate().uuid_to_server['\" + server_id + \"'].get_sessions()[0].document.roots[0]._id)\";\n",
       "      cell.notebook.kernel.execute(cmd, {\n",
       "        iopub: {\n",
       "          output: function(msg) {\n",
       "            var id = msg.content.text.trim();\n",
       "            if (id in Bokeh.index) {\n",
       "              Bokeh.index[id].model.document.clear();\n",
       "              delete Bokeh.index[id];\n",
       "            }\n",
       "          }\n",
       "        }\n",
       "      });\n",
       "      // Destroy server and session\n",
       "      var cmd = \"import bokeh.io.notebook as ion; ion.destroy_server('\" + server_id + \"')\";\n",
       "      cell.notebook.kernel.execute(cmd);\n",
       "    }\n",
       "  }\n",
       "\n",
       "  /**\n",
       "   * Handle when a new output is added\n",
       "   */\n",
       "  function handleAddOutput(event, handle) {\n",
       "    var output_area = handle.output_area;\n",
       "    var output = handle.output;\n",
       "\n",
       "    // limit handleAddOutput to display_data with EXEC_MIME_TYPE content only\n",
       "    if ((output.output_type != \"display_data\") || (!output.data.hasOwnProperty(EXEC_MIME_TYPE))) {\n",
       "      return\n",
       "    }\n",
       "\n",
       "    var toinsert = output_area.element.find(\".\" + CLASS_NAME.split(' ')[0]);\n",
       "\n",
       "    if (output.metadata[EXEC_MIME_TYPE][\"id\"] !== undefined) {\n",
       "      toinsert[toinsert.length - 1].firstChild.textContent = output.data[JS_MIME_TYPE];\n",
       "      // store reference to embed id on output_area\n",
       "      output_area._bokeh_element_id = output.metadata[EXEC_MIME_TYPE][\"id\"];\n",
       "    }\n",
       "    if (output.metadata[EXEC_MIME_TYPE][\"server_id\"] !== undefined) {\n",
       "      var bk_div = document.createElement(\"div\");\n",
       "      bk_div.innerHTML = output.data[HTML_MIME_TYPE];\n",
       "      var script_attrs = bk_div.children[0].attributes;\n",
       "      for (var i = 0; i < script_attrs.length; i++) {\n",
       "        toinsert[toinsert.length - 1].firstChild.setAttribute(script_attrs[i].name, script_attrs[i].value);\n",
       "      }\n",
       "      // store reference to server id on output_area\n",
       "      output_area._bokeh_server_id = output.metadata[EXEC_MIME_TYPE][\"server_id\"];\n",
       "    }\n",
       "  }\n",
       "\n",
       "  function register_renderer(events, OutputArea) {\n",
       "\n",
       "    function append_mime(data, metadata, element) {\n",
       "      // create a DOM node to render to\n",
       "      var toinsert = this.create_output_subarea(\n",
       "        metadata,\n",
       "        CLASS_NAME,\n",
       "        EXEC_MIME_TYPE\n",
       "      );\n",
       "      this.keyboard_manager.register_events(toinsert);\n",
       "      // Render to node\n",
       "      var props = {data: data, metadata: metadata[EXEC_MIME_TYPE]};\n",
       "      render(props, toinsert[toinsert.length - 1]);\n",
       "      element.append(toinsert);\n",
       "      return toinsert\n",
       "    }\n",
       "\n",
       "    /* Handle when an output is cleared or removed */\n",
       "    events.on('clear_output.CodeCell', handleClearOutput);\n",
       "    events.on('delete.Cell', handleClearOutput);\n",
       "\n",
       "    /* Handle when a new output is added */\n",
       "    events.on('output_added.OutputArea', handleAddOutput);\n",
       "\n",
       "    /**\n",
       "     * Register the mime type and append_mime function with output_area\n",
       "     */\n",
       "    OutputArea.prototype.register_mime_type(EXEC_MIME_TYPE, append_mime, {\n",
       "      /* Is output safe? */\n",
       "      safe: true,\n",
       "      /* Index of renderer in `output_area.display_order` */\n",
       "      index: 0\n",
       "    });\n",
       "  }\n",
       "\n",
       "  // register the mime type if in Jupyter Notebook environment and previously unregistered\n",
       "  if (root.Jupyter !== undefined) {\n",
       "    var events = require('base/js/events');\n",
       "    var OutputArea = require('notebook/js/outputarea').OutputArea;\n",
       "\n",
       "    if (OutputArea.prototype.mime_types().indexOf(EXEC_MIME_TYPE) == -1) {\n",
       "      register_renderer(events, OutputArea);\n",
       "    }\n",
       "  }\n",
       "\n",
       "  \n",
       "  if (typeof (root._bokeh_timeout) === \"undefined\" || force === true) {\n",
       "    root._bokeh_timeout = Date.now() + 5000;\n",
       "    root._bokeh_failed_load = false;\n",
       "  }\n",
       "\n",
       "  var NB_LOAD_WARNING = {'data': {'text/html':\n",
       "     \"<div style='background-color: #fdd'>\\n\"+\n",
       "     \"<p>\\n\"+\n",
       "     \"BokehJS does not appear to have successfully loaded. If loading BokehJS from CDN, this \\n\"+\n",
       "     \"may be due to a slow or bad network connection. Possible fixes:\\n\"+\n",
       "     \"</p>\\n\"+\n",
       "     \"<ul>\\n\"+\n",
       "     \"<li>re-rerun `output_notebook()` to attempt to load from CDN again, or</li>\\n\"+\n",
       "     \"<li>use INLINE resources instead, as so:</li>\\n\"+\n",
       "     \"</ul>\\n\"+\n",
       "     \"<code>\\n\"+\n",
       "     \"from bokeh.resources import INLINE\\n\"+\n",
       "     \"output_notebook(resources=INLINE)\\n\"+\n",
       "     \"</code>\\n\"+\n",
       "     \"</div>\"}};\n",
       "\n",
       "  function display_loaded() {\n",
       "    var el = document.getElementById(\"1001\");\n",
       "    if (el != null) {\n",
       "      el.textContent = \"BokehJS is loading...\";\n",
       "    }\n",
       "    if (root.Bokeh !== undefined) {\n",
       "      if (el != null) {\n",
       "        el.textContent = \"BokehJS \" + root.Bokeh.version + \" successfully loaded.\";\n",
       "      }\n",
       "    } else if (Date.now() < root._bokeh_timeout) {\n",
       "      setTimeout(display_loaded, 100)\n",
       "    }\n",
       "  }\n",
       "\n",
       "\n",
       "  function run_callbacks() {\n",
       "    try {\n",
       "      root._bokeh_onload_callbacks.forEach(function(callback) {\n",
       "        if (callback != null)\n",
       "          callback();\n",
       "      });\n",
       "    } finally {\n",
       "      delete root._bokeh_onload_callbacks\n",
       "    }\n",
       "    console.debug(\"Bokeh: all callbacks have finished\");\n",
       "  }\n",
       "\n",
       "  function load_libs(css_urls, js_urls, callback) {\n",
       "    if (css_urls == null) css_urls = [];\n",
       "    if (js_urls == null) js_urls = [];\n",
       "\n",
       "    root._bokeh_onload_callbacks.push(callback);\n",
       "    if (root._bokeh_is_loading > 0) {\n",
       "      console.debug(\"Bokeh: BokehJS is being loaded, scheduling callback at\", now());\n",
       "      return null;\n",
       "    }\n",
       "    if (js_urls == null || js_urls.length === 0) {\n",
       "      run_callbacks();\n",
       "      return null;\n",
       "    }\n",
       "    console.debug(\"Bokeh: BokehJS not loaded, scheduling load and callback at\", now());\n",
       "    root._bokeh_is_loading = css_urls.length + js_urls.length;\n",
       "\n",
       "    function on_load() {\n",
       "      root._bokeh_is_loading--;\n",
       "      if (root._bokeh_is_loading === 0) {\n",
       "        console.debug(\"Bokeh: all BokehJS libraries/stylesheets loaded\");\n",
       "        run_callbacks()\n",
       "      }\n",
       "    }\n",
       "\n",
       "    function on_error() {\n",
       "      console.error(\"failed to load \" + url);\n",
       "    }\n",
       "\n",
       "    for (var i = 0; i < css_urls.length; i++) {\n",
       "      var url = css_urls[i];\n",
       "      const element = document.createElement(\"link\");\n",
       "      element.onload = on_load;\n",
       "      element.onerror = on_error;\n",
       "      element.rel = \"stylesheet\";\n",
       "      element.type = \"text/css\";\n",
       "      element.href = url;\n",
       "      console.debug(\"Bokeh: injecting link tag for BokehJS stylesheet: \", url);\n",
       "      document.body.appendChild(element);\n",
       "    }\n",
       "\n",
       "    for (var i = 0; i < js_urls.length; i++) {\n",
       "      var url = js_urls[i];\n",
       "      var element = document.createElement('script');\n",
       "      element.onload = on_load;\n",
       "      element.onerror = on_error;\n",
       "      element.async = false;\n",
       "      element.src = url;\n",
       "      console.debug(\"Bokeh: injecting script tag for BokehJS library: \", url);\n",
       "      document.head.appendChild(element);\n",
       "    }\n",
       "  };var element = document.getElementById(\"1001\");\n",
       "  if (element == null) {\n",
       "    console.error(\"Bokeh: ERROR: autoload.js configured with elementid '1001' but no matching script tag was found. \")\n",
       "    return false;\n",
       "  }\n",
       "\n",
       "  function inject_raw_css(css) {\n",
       "    const element = document.createElement(\"style\");\n",
       "    element.appendChild(document.createTextNode(css));\n",
       "    document.body.appendChild(element);\n",
       "  }\n",
       "\n",
       "  var js_urls = [\"https://cdn.pydata.org/bokeh/release/bokeh-1.3.4.min.js\", \"https://cdn.pydata.org/bokeh/release/bokeh-widgets-1.3.4.min.js\", \"https://cdn.pydata.org/bokeh/release/bokeh-tables-1.3.4.min.js\", \"https://cdn.pydata.org/bokeh/release/bokeh-gl-1.3.4.min.js\"];\n",
       "  var css_urls = [];\n",
       "\n",
       "  var inline_js = [\n",
       "    function(Bokeh) {\n",
       "      Bokeh.set_log_level(\"info\");\n",
       "    },\n",
       "    \n",
       "    function(Bokeh) {\n",
       "      \n",
       "    },\n",
       "    function(Bokeh) {} // ensure no trailing comma for IE\n",
       "  ];\n",
       "\n",
       "  function run_inline_js() {\n",
       "    \n",
       "    if ((root.Bokeh !== undefined) || (force === true)) {\n",
       "      for (var i = 0; i < inline_js.length; i++) {\n",
       "        inline_js[i].call(root, root.Bokeh);\n",
       "      }if (force === true) {\n",
       "        display_loaded();\n",
       "      }} else if (Date.now() < root._bokeh_timeout) {\n",
       "      setTimeout(run_inline_js, 100);\n",
       "    } else if (!root._bokeh_failed_load) {\n",
       "      console.log(\"Bokeh: BokehJS failed to load within specified timeout.\");\n",
       "      root._bokeh_failed_load = true;\n",
       "    } else if (force !== true) {\n",
       "      var cell = $(document.getElementById(\"1001\")).parents('.cell').data().cell;\n",
       "      cell.output_area.append_execute_result(NB_LOAD_WARNING)\n",
       "    }\n",
       "\n",
       "  }\n",
       "\n",
       "  if (root._bokeh_is_loading === 0) {\n",
       "    console.debug(\"Bokeh: BokehJS loaded, going straight to plotting\");\n",
       "    run_inline_js();\n",
       "  } else {\n",
       "    load_libs(css_urls, js_urls, function() {\n",
       "      console.debug(\"Bokeh: BokehJS plotting callback run at\", now());\n",
       "      run_inline_js();\n",
       "    });\n",
       "  }\n",
       "}(window));"
      ],
      "application/vnd.bokehjs_load.v0+json": "\n(function(root) {\n  function now() {\n    return new Date();\n  }\n\n  var force = true;\n\n  if (typeof root._bokeh_onload_callbacks === \"undefined\" || force === true) {\n    root._bokeh_onload_callbacks = [];\n    root._bokeh_is_loading = undefined;\n  }\n\n  \n\n  \n  if (typeof (root._bokeh_timeout) === \"undefined\" || force === true) {\n    root._bokeh_timeout = Date.now() + 5000;\n    root._bokeh_failed_load = false;\n  }\n\n  var NB_LOAD_WARNING = {'data': {'text/html':\n     \"<div style='background-color: #fdd'>\\n\"+\n     \"<p>\\n\"+\n     \"BokehJS does not appear to have successfully loaded. If loading BokehJS from CDN, this \\n\"+\n     \"may be due to a slow or bad network connection. Possible fixes:\\n\"+\n     \"</p>\\n\"+\n     \"<ul>\\n\"+\n     \"<li>re-rerun `output_notebook()` to attempt to load from CDN again, or</li>\\n\"+\n     \"<li>use INLINE resources instead, as so:</li>\\n\"+\n     \"</ul>\\n\"+\n     \"<code>\\n\"+\n     \"from bokeh.resources import INLINE\\n\"+\n     \"output_notebook(resources=INLINE)\\n\"+\n     \"</code>\\n\"+\n     \"</div>\"}};\n\n  function display_loaded() {\n    var el = document.getElementById(\"1001\");\n    if (el != null) {\n      el.textContent = \"BokehJS is loading...\";\n    }\n    if (root.Bokeh !== undefined) {\n      if (el != null) {\n        el.textContent = \"BokehJS \" + root.Bokeh.version + \" successfully loaded.\";\n      }\n    } else if (Date.now() < root._bokeh_timeout) {\n      setTimeout(display_loaded, 100)\n    }\n  }\n\n\n  function run_callbacks() {\n    try {\n      root._bokeh_onload_callbacks.forEach(function(callback) {\n        if (callback != null)\n          callback();\n      });\n    } finally {\n      delete root._bokeh_onload_callbacks\n    }\n    console.debug(\"Bokeh: all callbacks have finished\");\n  }\n\n  function load_libs(css_urls, js_urls, callback) {\n    if (css_urls == null) css_urls = [];\n    if (js_urls == null) js_urls = [];\n\n    root._bokeh_onload_callbacks.push(callback);\n    if (root._bokeh_is_loading > 0) {\n      console.debug(\"Bokeh: BokehJS is being loaded, scheduling callback at\", now());\n      return null;\n    }\n    if (js_urls == null || js_urls.length === 0) {\n      run_callbacks();\n      return null;\n    }\n    console.debug(\"Bokeh: BokehJS not loaded, scheduling load and callback at\", now());\n    root._bokeh_is_loading = css_urls.length + js_urls.length;\n\n    function on_load() {\n      root._bokeh_is_loading--;\n      if (root._bokeh_is_loading === 0) {\n        console.debug(\"Bokeh: all BokehJS libraries/stylesheets loaded\");\n        run_callbacks()\n      }\n    }\n\n    function on_error() {\n      console.error(\"failed to load \" + url);\n    }\n\n    for (var i = 0; i < css_urls.length; i++) {\n      var url = css_urls[i];\n      const element = document.createElement(\"link\");\n      element.onload = on_load;\n      element.onerror = on_error;\n      element.rel = \"stylesheet\";\n      element.type = \"text/css\";\n      element.href = url;\n      console.debug(\"Bokeh: injecting link tag for BokehJS stylesheet: \", url);\n      document.body.appendChild(element);\n    }\n\n    for (var i = 0; i < js_urls.length; i++) {\n      var url = js_urls[i];\n      var element = document.createElement('script');\n      element.onload = on_load;\n      element.onerror = on_error;\n      element.async = false;\n      element.src = url;\n      console.debug(\"Bokeh: injecting script tag for BokehJS library: \", url);\n      document.head.appendChild(element);\n    }\n  };var element = document.getElementById(\"1001\");\n  if (element == null) {\n    console.error(\"Bokeh: ERROR: autoload.js configured with elementid '1001' but no matching script tag was found. \")\n    return false;\n  }\n\n  function inject_raw_css(css) {\n    const element = document.createElement(\"style\");\n    element.appendChild(document.createTextNode(css));\n    document.body.appendChild(element);\n  }\n\n  var js_urls = [\"https://cdn.pydata.org/bokeh/release/bokeh-1.3.4.min.js\", \"https://cdn.pydata.org/bokeh/release/bokeh-widgets-1.3.4.min.js\", \"https://cdn.pydata.org/bokeh/release/bokeh-tables-1.3.4.min.js\", \"https://cdn.pydata.org/bokeh/release/bokeh-gl-1.3.4.min.js\"];\n  var css_urls = [];\n\n  var inline_js = [\n    function(Bokeh) {\n      Bokeh.set_log_level(\"info\");\n    },\n    \n    function(Bokeh) {\n      \n    },\n    function(Bokeh) {} // ensure no trailing comma for IE\n  ];\n\n  function run_inline_js() {\n    \n    if ((root.Bokeh !== undefined) || (force === true)) {\n      for (var i = 0; i < inline_js.length; i++) {\n        inline_js[i].call(root, root.Bokeh);\n      }if (force === true) {\n        display_loaded();\n      }} else if (Date.now() < root._bokeh_timeout) {\n      setTimeout(run_inline_js, 100);\n    } else if (!root._bokeh_failed_load) {\n      console.log(\"Bokeh: BokehJS failed to load within specified timeout.\");\n      root._bokeh_failed_load = true;\n    } else if (force !== true) {\n      var cell = $(document.getElementById(\"1001\")).parents('.cell').data().cell;\n      cell.output_area.append_execute_result(NB_LOAD_WARNING)\n    }\n\n  }\n\n  if (root._bokeh_is_loading === 0) {\n    console.debug(\"Bokeh: BokehJS loaded, going straight to plotting\");\n    run_inline_js();\n  } else {\n    load_libs(css_urls, js_urls, function() {\n      console.debug(\"Bokeh: BokehJS plotting callback run at\", now());\n      run_inline_js();\n    });\n  }\n}(window));"
     },
     "metadata": {},
     "output_type": "display_data"
    }
   ],
   "source": [
    "import sys\n",
    "sys.path.append(\"../../\")\n",
    "from data.Frame import Frame\n",
    "from bk import show_weighted_average, show_group_total, get_pandas_dataframe, line_chart, scatter_plot\n",
    "from bokeh.io import output_notebook\n",
    "from bokeh.plotting import figure, output_file, show, reset_output\n",
    "from sources.unpd.indicators import get_projection_by_groups as gpp\n",
    "from sources.cdp.indicators import get_indicators as get_indicators_cdp_2018\n",
    "reset_output()\n",
    "output_notebook()"
   ]
  },
  {
   "cell_type": "markdown",
   "metadata": {
    "slideshow": {
     "slide_type": "slide"
    }
   },
   "source": [
    "# Human and Social development in the LDCs"
   ]
  },
  {
   "cell_type": "markdown",
   "metadata": {
    "slideshow": {
     "slide_type": "slide"
    }
   },
   "source": [
    "# The Least Developed Countries\n",
    "\n",
    "+ The category of the least developed countries was created in 1971\n",
    "\n",
    "+ Least developed countries (LDCs) are low-income countries confronting severe structural impediments to sustainable development. They are highly vulnerable to economic and environmental shocks and have low levels of human assets.\n"
   ]
  },
  {
   "cell_type": "markdown",
   "metadata": {
    "slideshow": {
     "slide_type": "slide"
    }
   },
   "source": [
    "Least developed countries (LDCs) are **low-income countries** confronting severe **structural** impediments to sustainable development. They are highly **vulnerable to economic and environmental shocks** and have **low levels of human assets**."
   ]
  },
  {
   "cell_type": "markdown",
   "metadata": {
    "slideshow": {
     "slide_type": "slide"
    }
   },
   "source": [
    "## The criteria to dentify LDCs\n",
    "The Committee for Development Policy has established three criteria for including and graduating countries from the category:\n",
    "    \n",
    "### The Economic Vulnerability Index (EVI)\n",
    "    \n",
    "### The Human Assets Index (HAI\n",
    "\n",
    "### GNI per capita"
   ]
  },
  {
   "cell_type": "code",
   "execution_count": 2,
   "metadata": {
    "ExecuteTime": {
     "end_time": "2019-10-23T20:52:35.632870Z",
     "start_time": "2019-10-23T20:52:35.008250Z"
    },
    "slideshow": {
     "slide_type": "skip"
    }
   },
   "outputs": [],
   "source": [
    "cdp_data_2018 = get_indicators_cdp_2018(['LDCs'])\n",
    "entities = cdp_data_2018.get_column('entity').get_as_array()\n",
    "evi = cdp_data_2018.get_column('evi').get_as_array()\n",
    "hai = cdp_data_2018.get_column('hai').get_as_array()\n",
    "gni = cdp_data_2018.get_column('gni_per_capita_dollars').get_as_array()\n",
    "gni_normalized = [(x / sum(gni))*30 for x in gni]"
   ]
  },
  {
   "cell_type": "code",
   "execution_count": 3,
   "metadata": {
    "ExecuteTime": {
     "end_time": "2019-10-23T20:52:35.973720Z",
     "start_time": "2019-10-23T20:52:35.672339Z"
    },
    "slideshow": {
     "slide_type": "slide"
    }
   },
   "outputs": [
    {
     "data": {
      "text/html": [
       "\n",
       "\n",
       "\n",
       "\n",
       "\n",
       "\n",
       "  <div class=\"bk-root\" id=\"7399320f-adf7-46bc-921e-cfbddb3d9957\" data-root-id=\"1004\"></div>\n"
      ]
     },
     "metadata": {},
     "output_type": "display_data"
    },
    {
     "data": {
      "application/javascript": [
       "(function(root) {\n",
       "  function embed_document(root) {\n",
       "    \n",
       "  var docs_json = {\"ad8aa2f0-1fca-4da1-933f-b8564fd9cd39\":{\"roots\":{\"references\":[{\"attributes\":{\"below\":[{\"id\":\"1015\",\"type\":\"LinearAxis\"}],\"center\":[{\"id\":\"1019\",\"type\":\"Grid\"},{\"id\":\"1024\",\"type\":\"Grid\"},{\"id\":\"1033\",\"type\":\"LabelSet\"}],\"left\":[{\"id\":\"1020\",\"type\":\"LinearAxis\"}],\"plot_width\":750,\"renderers\":[{\"id\":\"1031\",\"type\":\"GlyphRenderer\"}],\"title\":{\"id\":\"1005\",\"type\":\"Title\"},\"toolbar\":{\"id\":\"1026\",\"type\":\"Toolbar\"},\"x_range\":{\"id\":\"1007\",\"type\":\"DataRange1d\"},\"x_scale\":{\"id\":\"1011\",\"type\":\"LinearScale\"},\"y_range\":{\"id\":\"1009\",\"type\":\"DataRange1d\"},\"y_scale\":{\"id\":\"1013\",\"type\":\"LinearScale\"}},\"id\":\"1004\",\"subtype\":\"Figure\",\"type\":\"Plot\"},{\"attributes\":{\"fill_alpha\":{\"value\":0.6},\"fill_color\":{\"value\":\"#1f77b4\"},\"line_color\":{\"value\":null},\"radius\":{\"field\":\"radii\",\"units\":\"data\"},\"x\":{\"field\":\"evi\"},\"y\":{\"field\":\"hai\"}},\"id\":\"1029\",\"type\":\"Circle\"},{\"attributes\":{\"active_drag\":\"auto\",\"active_inspect\":\"auto\",\"active_multi\":null,\"active_scroll\":\"auto\",\"active_tap\":\"auto\",\"tools\":[{\"id\":\"1025\",\"type\":\"HoverTool\"}]},\"id\":\"1026\",\"type\":\"Toolbar\"},{\"attributes\":{\"callback\":null},\"id\":\"1007\",\"type\":\"DataRange1d\"},{\"attributes\":{\"text\":\"HAI vs EVI\"},\"id\":\"1005\",\"type\":\"Title\"},{\"attributes\":{},\"id\":\"1013\",\"type\":\"LinearScale\"},{\"attributes\":{\"data_source\":{\"id\":\"1003\",\"type\":\"ColumnDataSource\"},\"glyph\":{\"id\":\"1029\",\"type\":\"Circle\"},\"hover_glyph\":null,\"muted_glyph\":null,\"nonselection_glyph\":{\"id\":\"1030\",\"type\":\"Circle\"},\"selection_glyph\":null,\"view\":{\"id\":\"1032\",\"type\":\"CDSView\"}},\"id\":\"1031\",\"type\":\"GlyphRenderer\"},{\"attributes\":{\"source\":{\"id\":\"1003\",\"type\":\"ColumnDataSource\"}},\"id\":\"1032\",\"type\":\"CDSView\"},{\"attributes\":{\"axis_label\":\"EVI\",\"formatter\":{\"id\":\"1038\",\"type\":\"BasicTickFormatter\"},\"ticker\":{\"id\":\"1016\",\"type\":\"BasicTicker\"}},\"id\":\"1015\",\"type\":\"LinearAxis\"},{\"attributes\":{\"callback\":null},\"id\":\"1025\",\"type\":\"HoverTool\"},{\"attributes\":{\"level\":\"glyph\",\"source\":{\"id\":\"1003\",\"type\":\"ColumnDataSource\"},\"text\":{\"field\":\"names\"},\"text_font_size\":{\"value\":\"8pt\"},\"x\":{\"field\":\"evi\"},\"x_offset\":{\"value\":5},\"y\":{\"field\":\"hai\"},\"y_offset\":{\"value\":5}},\"id\":\"1033\",\"type\":\"LabelSet\"},{\"attributes\":{},\"id\":\"1016\",\"type\":\"BasicTicker\"},{\"attributes\":{\"dimension\":1,\"ticker\":{\"id\":\"1021\",\"type\":\"BasicTicker\"}},\"id\":\"1024\",\"type\":\"Grid\"},{\"attributes\":{},\"id\":\"1038\",\"type\":\"BasicTickFormatter\"},{\"attributes\":{\"ticker\":{\"id\":\"1016\",\"type\":\"BasicTicker\"}},\"id\":\"1019\",\"type\":\"Grid\"},{\"attributes\":{\"fill_alpha\":{\"value\":0.1},\"fill_color\":{\"value\":\"#1f77b4\"},\"line_alpha\":{\"value\":0.1},\"line_color\":{\"value\":\"#1f77b4\"},\"radius\":{\"field\":\"radii\",\"units\":\"data\"},\"x\":{\"field\":\"evi\"},\"y\":{\"field\":\"hai\"}},\"id\":\"1030\",\"type\":\"Circle\"},{\"attributes\":{\"callback\":null,\"data\":{\"evi\":[25.22647996005049,35.22731260391133,22.84016607621563,36.720077034964305,39.04960632190836,36.03972094223823,41.07807670152857,32.223509640767226,40.15198290514422,37.844835405475706,62.324583140465705,25.057413670310346,40.23862312419012,29.521596917943512,27.2003663487126,50.987284170820296,33.83130863243787,58.53834286453448,32.62876196820714,86.8308106888402,42.96198519338734,46.193545060524016,34.610376023472256,39.094557149851504,39.743057353561895,44.96254269768851,35.649972171576195,29.461613746615523,25.091059958677903,32.340310509291605,36.59768453201154,62.31040110180348,30.611149279167726,45.03353268742387,63.01477703678091,43.789780361646024,27.259764799300818,43.21536986255457,31.916185482390357,83.00720977306935,28.051441688825598,27.495088343477157,57.87880763164048,24.52525570456255,38.22135705891188],\"hai\":[48.3698405313323,52.52043657551618,73.15064266822495,49.75421277291333,72.86608884522367,42.91698654581399,38.4582473052599,68.92528304696823,17.37091156051442,22.085484315685715,49.385256569573,41.87232303636952,58.02908229893985,42.893055780999646,45.30853361262692,51.82920387983884,39.48893995074097,41.716252662688056,47.97415181855695,83.96679690389746,61.572583924694506,37.23070426579468,54.53329453168444,52.522138892622166,43.106314630459046,46.940261858442696,45.8152514338928,68.47497037955749,71.21981923337259,35.374052152796644,54.97246497703989,86.00679852404463,57.12957161797068,27.395916767676766,74.78849047963382,16.65507946932967,53.03509118236097,66.63143020458574,61.82618003109269,90.13457842056366,50.23906690599287,56.02779180814835,78.51943490439294,59.22749709179137,58.594410552318735],\"names\":[\"Afghanistan\",\"Angola\",\"Bangladesh\",\"Benin\",\"Bhutan\",\"Burkina Faso\",\"Burundi\",\"Cambodia\",\"Central African Republic\",\"Chad\",\"Comoros\",\"Democratic Republic of the Congo\",\"Djibouti\",\"Eritrea\",\"Ethiopia\",\"Gambia\",\"Guinea\",\"Guinea-Bissau\",\"Haiti\",\"Kiribati\",\"Lesotho\",\"Liberia\",\"Madagascar\",\"Malawi\",\"Mali\",\"Mauritania\",\"Mozambique\",\"Myanmar\",\"Nepal\",\"Niger\",\"Rwanda\",\"Sao Tome and Principe\",\"Senegal\",\"Sierra Leone\",\"Solomon Islands\",\"Somalia\",\"Sudan\",\"Timor-Leste\",\"Togo\",\"Tuvalu\",\"Uganda\",\"United Republic of Tanzania\",\"Vanuatu\",\"Yemen\",\"Zambia\"],\"radii\":[0.3486056940032576,2.4668524266042016,0.7020447947937721,0.48602223509185105,1.3228778144086932,0.3545063770828273,0.1439906217703531,0.5921658071844065,0.2039025303122942,0.5072539150463391,0.8788819521470623,0.26478852194206287,1.0434896028654765,0.4748310823991456,0.3550084704511006,0.247446969190501,0.37373691067035597,0.32794088514739334,0.44869169499991846,1.6454751810450026,0.7143690867404829,0.23730867258431165,0.2677231781905875,0.18263121659249557,0.441142763699007,0.6775521275707559,0.3108420352212877,0.6914928152526487,0.41032077914907744,0.2166245207324081,0.3895316490963874,0.9279304402907724,0.5532615213153896,0.32073284585082373,0.9714956147211605,0.052410075653960046,0.8001174040745556,1.4634728916821294,0.3057813583848219,2.9686806171600546,0.3643815661228828,0.49688045527581914,1.6609010705734226,0.5258532451564529,0.8600485617522887]},\"selected\":{\"id\":\"1040\",\"type\":\"Selection\"},\"selection_policy\":{\"id\":\"1041\",\"type\":\"UnionRenderers\"}},\"id\":\"1003\",\"type\":\"ColumnDataSource\"},{\"attributes\":{},\"id\":\"1040\",\"type\":\"Selection\"},{\"attributes\":{},\"id\":\"1041\",\"type\":\"UnionRenderers\"},{\"attributes\":{},\"id\":\"1036\",\"type\":\"BasicTickFormatter\"},{\"attributes\":{\"axis_label\":\"HAI\",\"formatter\":{\"id\":\"1036\",\"type\":\"BasicTickFormatter\"},\"ticker\":{\"id\":\"1021\",\"type\":\"BasicTicker\"}},\"id\":\"1020\",\"type\":\"LinearAxis\"},{\"attributes\":{\"callback\":null},\"id\":\"1009\",\"type\":\"DataRange1d\"},{\"attributes\":{},\"id\":\"1021\",\"type\":\"BasicTicker\"},{\"attributes\":{},\"id\":\"1011\",\"type\":\"LinearScale\"}],\"root_ids\":[\"1004\"]},\"title\":\"Bokeh Application\",\"version\":\"1.3.4\"}};\n",
       "  var render_items = [{\"docid\":\"ad8aa2f0-1fca-4da1-933f-b8564fd9cd39\",\"roots\":{\"1004\":\"7399320f-adf7-46bc-921e-cfbddb3d9957\"}}];\n",
       "  root.Bokeh.embed.embed_items_notebook(docs_json, render_items);\n",
       "\n",
       "  }\n",
       "  if (root.Bokeh !== undefined) {\n",
       "    embed_document(root);\n",
       "  } else {\n",
       "    var attempts = 0;\n",
       "    var timer = setInterval(function(root) {\n",
       "      if (root.Bokeh !== undefined) {\n",
       "        embed_document(root);\n",
       "        clearInterval(timer);\n",
       "      }\n",
       "      attempts++;\n",
       "      if (attempts > 100) {\n",
       "        console.log(\"Bokeh: ERROR: Unable to run BokehJS code because BokehJS library is missing\");\n",
       "        clearInterval(timer);\n",
       "      }\n",
       "    }, 10, root)\n",
       "  }\n",
       "})(window);"
      ],
      "application/vnd.bokehjs_exec.v0+json": ""
     },
     "metadata": {
      "application/vnd.bokehjs_exec.v0+json": {
       "id": "1004"
      }
     },
     "output_type": "display_data"
    }
   ],
   "source": [
    "p = scatter_plot(evi, hai, gni_normalized, entities)\n",
    "show(p)"
   ]
  },
  {
   "cell_type": "markdown",
   "metadata": {
    "slideshow": {
     "slide_type": "slide"
    }
   },
   "source": [
    "# The Istanbul Programme of Action"
   ]
  },
  {
   "cell_type": "markdown",
   "metadata": {
    "ExecuteTime": {
     "end_time": "2019-10-23T16:34:47.577716Z",
     "start_time": "2019-10-23T16:34:47.551207Z"
    },
    "slideshow": {
     "slide_type": "slide"
    }
   },
   "source": [
    "# Objectives"
   ]
  },
  {
   "cell_type": "markdown",
   "metadata": {
    "slideshow": {
     "slide_type": "slide"
    }
   },
   "source": [
    "27. The overarching goal of the Programme of Action for the decade 2011-2020 is to overcome the structural challenges faced by the least developed countries in order to eradicate poverty, achieve internationally agreed development goals and enable graduation from the least developed country category.\n",
    "\n"
   ]
  },
  {
   "cell_type": "markdown",
   "metadata": {
    "slideshow": {
     "slide_type": "slide"
    }
   },
   "source": [
    "28. Guided by the overarching goal, national policies of least developed countries and international support measures during the decade will focus on the following specific objectives with the aim of enabling half the number of least developed countries to meet the criteria for graduation by 2020:"
   ]
  },
  {
   "cell_type": "markdown",
   "metadata": {
    "slideshow": {
     "slide_type": "slide"
    }
   },
   "source": [
    "**(a)** Achieve sustained, equitable and inclusive economic growth in least developed countries, to at least the level of 7 per cent per annum, by strengthening their productive capacity in all sectors through structural transformation and overcoming their marginalization through their effective integration into the global economy, including through regional integration;"
   ]
  },
  {
   "cell_type": "markdown",
   "metadata": {
    "slideshow": {
     "slide_type": "slide"
    }
   },
   "source": [
    "**(b) Build human capacities by fostering sustained, equitable and inclusive human and social development, gender equality and the empowerment of women;**"
   ]
  },
  {
   "cell_type": "markdown",
   "metadata": {
    "slideshow": {
     "slide_type": "slide"
    }
   },
   "source": [
    "**(c)** Reduce the **vulnerability** of least developed countries to economic, natural and environmental shocks and disasters, as well as climate change, and enhance their ability to meet these and other challenges through strengthening their resilience;"
   ]
  },
  {
   "cell_type": "markdown",
   "metadata": {
    "slideshow": {
     "slide_type": "slide"
    }
   },
   "source": [
    "**(d)** Ensure enhanced financial resources and their effective use for least developed countries’ development, including through domestic resource mobilization, ODA, external debt relief, foreign direct investment and remittances;"
   ]
  },
  {
   "cell_type": "markdown",
   "metadata": {
    "slideshow": {
     "slide_type": "slide"
    }
   },
   "source": [
    "**(e)** Enhance good governance at all levels, by strengthening democratic processes, institutions and the rule of law; increasing efficiency, coherence, transparency and participation; protecting and promoting human rights; and reducing corruption, and strengthen least developed country Governments’ capacity to play an effective role in their economic and social development."
   ]
  },
  {
   "cell_type": "markdown",
   "metadata": {
    "slideshow": {
     "slide_type": "slide"
    }
   },
   "source": [
    "# IV. Priority areas for action\n",
    "\n",
    "43. The actions will be organized by priority areas as:\n",
    "\n",
    "A. Productive capacity\n",
    "\n",
    "B. Agriculture, food security and rural development\n",
    "\n",
    "C. Trade\n",
    "\n",
    "D. Commodities\n",
    "\n",
    "**E. Human and social development**\n",
    "\n",
    "F. Multiple crises and other emerging challenges ▪Economic shocks\n",
    "\n",
    "H. Good governance at all levels"
   ]
  },
  {
   "cell_type": "markdown",
   "metadata": {
    "slideshow": {
     "slide_type": "slide"
    }
   },
   "source": [
    "# E. Human and social development\n",
    "\n",
    "+ Education and training\n",
    "\n",
    "+ Population and primary health\n",
    "\n",
    "+ Youth development\n",
    "\n",
    "+ Shelter\n",
    "\n",
    "+ Water and sanitation\n",
    "\n",
    "+ Gender equality and empowerment of women ▪Social protection"
   ]
  },
  {
   "cell_type": "markdown",
   "metadata": {
    "slideshow": {
     "slide_type": "slide"
    }
   },
   "source": [
    "# Population and primary health"
   ]
  },
  {
   "cell_type": "code",
   "execution_count": 4,
   "metadata": {
    "ExecuteTime": {
     "end_time": "2019-10-23T20:52:38.771356Z",
     "start_time": "2019-10-23T20:52:35.991255Z"
    },
    "slideshow": {
     "slide_type": "slide"
    }
   },
   "outputs": [
    {
     "data": {
      "text/html": [
       "\n",
       "\n",
       "\n",
       "\n",
       "\n",
       "\n",
       "  <div class=\"bk-root\" id=\"1fc205dc-919c-4664-b6d3-7a93b2f5cbf4\" data-root-id=\"1084\"></div>\n"
      ]
     },
     "metadata": {},
     "output_type": "display_data"
    },
    {
     "data": {
      "application/javascript": [
       "(function(root) {\n",
       "  function embed_document(root) {\n",
       "    \n",
       "  var docs_json = {\"f4d3a042-5d7d-420b-9586-d880e7884352\":{\"roots\":{\"references\":[{\"attributes\":{\"below\":[{\"id\":\"1095\",\"type\":\"LinearAxis\"}],\"center\":[{\"id\":\"1099\",\"type\":\"Grid\"},{\"id\":\"1104\",\"type\":\"Grid\"},{\"id\":\"1129\",\"type\":\"Legend\"}],\"left\":[{\"id\":\"1100\",\"type\":\"LinearAxis\"}],\"plot_height\":400,\"plot_width\":950,\"renderers\":[{\"id\":\"1121\",\"type\":\"GlyphRenderer\"},{\"id\":\"1134\",\"type\":\"GlyphRenderer\"}],\"title\":{\"id\":\"1085\",\"type\":\"Title\"},\"toolbar\":{\"id\":\"1111\",\"type\":\"Toolbar\"},\"x_range\":{\"id\":\"1087\",\"type\":\"DataRange1d\"},\"x_scale\":{\"id\":\"1091\",\"type\":\"LinearScale\"},\"y_range\":{\"id\":\"1089\",\"type\":\"DataRange1d\"},\"y_scale\":{\"id\":\"1093\",\"type\":\"LinearScale\"}},\"id\":\"1084\",\"subtype\":\"Figure\",\"type\":\"Plot\"},{\"attributes\":{},\"id\":\"1151\",\"type\":\"UnionRenderers\"},{\"attributes\":{},\"id\":\"1109\",\"type\":\"ResetTool\"},{\"attributes\":{\"callback\":null},\"id\":\"1087\",\"type\":\"DataRange1d\"},{\"attributes\":{},\"id\":\"1152\",\"type\":\"Selection\"},{\"attributes\":{},\"id\":\"1110\",\"type\":\"HelpTool\"},{\"attributes\":{},\"id\":\"1091\",\"type\":\"LinearScale\"},{\"attributes\":{},\"id\":\"1153\",\"type\":\"UnionRenderers\"},{\"attributes\":{\"active_drag\":\"auto\",\"active_inspect\":\"auto\",\"active_multi\":null,\"active_scroll\":\"auto\",\"active_tap\":\"auto\",\"tools\":[{\"id\":\"1105\",\"type\":\"PanTool\"},{\"id\":\"1106\",\"type\":\"WheelZoomTool\"},{\"id\":\"1107\",\"type\":\"BoxZoomTool\"},{\"id\":\"1108\",\"type\":\"SaveTool\"},{\"id\":\"1109\",\"type\":\"ResetTool\"},{\"id\":\"1110\",\"type\":\"HelpTool\"},{\"id\":\"1136\",\"type\":\"HoverTool\"}]},\"id\":\"1111\",\"type\":\"Toolbar\"},{\"attributes\":{\"callback\":null},\"id\":\"1089\",\"type\":\"DataRange1d\"},{\"attributes\":{},\"id\":\"1093\",\"type\":\"LinearScale\"},{\"attributes\":{\"data_source\":{\"id\":\"1118\",\"type\":\"ColumnDataSource\"},\"glyph\":{\"id\":\"1119\",\"type\":\"Line\"},\"hover_glyph\":null,\"muted_glyph\":null,\"nonselection_glyph\":{\"id\":\"1120\",\"type\":\"Line\"},\"selection_glyph\":null,\"view\":{\"id\":\"1122\",\"type\":\"CDSView\"}},\"id\":\"1121\",\"type\":\"GlyphRenderer\"},{\"attributes\":{\"source\":{\"id\":\"1118\",\"type\":\"ColumnDataSource\"}},\"id\":\"1122\",\"type\":\"CDSView\"},{\"attributes\":{},\"id\":\"1096\",\"type\":\"BasicTicker\"},{\"attributes\":{\"axis_label\":\"Years\",\"formatter\":{\"id\":\"1126\",\"type\":\"BasicTickFormatter\"},\"ticker\":{\"id\":\"1096\",\"type\":\"BasicTicker\"}},\"id\":\"1095\",\"type\":\"LinearAxis\"},{\"attributes\":{},\"id\":\"1124\",\"type\":\"BasicTickFormatter\"},{\"attributes\":{\"ticker\":{\"id\":\"1096\",\"type\":\"BasicTicker\"}},\"id\":\"1099\",\"type\":\"Grid\"},{\"attributes\":{},\"id\":\"1126\",\"type\":\"BasicTickFormatter\"},{\"attributes\":{\"bottom_units\":\"screen\",\"fill_alpha\":{\"value\":0.5},\"fill_color\":{\"value\":\"lightgrey\"},\"left_units\":\"screen\",\"level\":\"overlay\",\"line_alpha\":{\"value\":1.0},\"line_color\":{\"value\":\"black\"},\"line_dash\":[4,4],\"line_width\":{\"value\":2},\"render_mode\":\"css\",\"right_units\":\"screen\",\"top_units\":\"screen\"},\"id\":\"1128\",\"type\":\"BoxAnnotation\"},{\"attributes\":{\"axis_label\":\"Percentage\",\"formatter\":{\"id\":\"1124\",\"type\":\"BasicTickFormatter\"},\"ticker\":{\"id\":\"1101\",\"type\":\"BasicTicker\"}},\"id\":\"1100\",\"type\":\"LinearAxis\"},{\"attributes\":{\"items\":[{\"id\":\"1130\",\"type\":\"LegendItem\"}],\"location\":\"bottom_left\"},\"id\":\"1129\",\"type\":\"Legend\"},{\"attributes\":{\"dimension\":1,\"ticker\":{\"id\":\"1101\",\"type\":\"BasicTicker\"}},\"id\":\"1104\",\"type\":\"Grid\"},{\"attributes\":{\"label\":{\"value\":\"LDCs\"},\"renderers\":[{\"id\":\"1121\",\"type\":\"GlyphRenderer\"}]},\"id\":\"1130\",\"type\":\"LegendItem\"},{\"attributes\":{},\"id\":\"1101\",\"type\":\"BasicTicker\"},{\"attributes\":{\"callback\":null,\"data\":{\"x\":[\"1960\",\"1961\",\"1962\",\"1963\",\"1964\",\"1965\",\"1966\",\"1967\",\"1968\",\"1969\",\"1970\",\"1971\",\"1972\",\"1973\",\"1974\",\"1975\",\"1976\",\"1977\",\"1978\",\"1979\",\"1980\",\"1981\",\"1982\",\"1983\",\"1984\",\"1985\",\"1986\",\"1987\",\"1988\",\"1989\",\"1990\",\"1991\",\"1992\",\"1993\",\"1994\",\"1995\",\"1996\",\"1997\",\"1998\",\"1999\",\"2000\",\"2001\",\"2002\",\"2003\",\"2004\",\"2005\",\"2006\",\"2007\",\"2008\",\"2009\",\"2010\",\"2011\",\"2012\",\"2013\",\"2014\",\"2015\",\"2016\",\"2017\"],\"y\":[240518433.0,246113640.0,251900741.0,257908074.0,264174179.0,270720892.0,277573029.0,284708409.0,292045744.0,299473256.0,306916896.0,314344629.0,321797581.0,329357353.0,337142681.0,345242710.0,353691338.0,362475112.0,371577256.0,380963304.0,390612563.0,400528924.0,410740611.0,421279107.0,432185325.0,443491288.0,455193656.0,467290514.0,479814021.0,492803028.0,506275612.0,520262423.0,534731006.0,549559264.0,564581083.0,579681672.0,594801259.0,609983301.0,625342098.0,641046802.0,657215864.0,673903112.0,691061397.0,708587948.0,726331177.0,744190510.0,762132501.0,780219542.0,798563392.0,817322629.0,836614860.0,856472234.0,873619764.0,894516028.0,915914952.0,937788499.0,960134718.0,982952189.0]},\"selected\":{\"id\":\"1152\",\"type\":\"Selection\"},\"selection_policy\":{\"id\":\"1153\",\"type\":\"UnionRenderers\"}},\"id\":\"1131\",\"type\":\"ColumnDataSource\"},{\"attributes\":{\"fill_color\":{\"value\":\"#FA1857\"},\"line_color\":{\"value\":\"#FA1857\"},\"line_width\":{\"value\":3},\"x\":{\"field\":\"x\"},\"y\":{\"field\":\"y\"}},\"id\":\"1132\",\"type\":\"Circle\"},{\"attributes\":{\"line_alpha\":0.1,\"line_color\":\"#1f77b4\",\"line_width\":2,\"x\":{\"field\":\"x\"},\"y\":{\"field\":\"y\"}},\"id\":\"1120\",\"type\":\"Line\"},{\"attributes\":{\"callback\":null,\"tooltips\":\"        \\n        <div style=padding=5px>Year:@x</div>\\n        <div style=padding=5px>Value:@y</div>\\n        \"},\"id\":\"1136\",\"type\":\"HoverTool\"},{\"attributes\":{\"fill_alpha\":{\"value\":0.1},\"fill_color\":{\"value\":\"#1f77b4\"},\"line_alpha\":{\"value\":0.1},\"line_color\":{\"value\":\"#1f77b4\"},\"line_width\":{\"value\":3},\"x\":{\"field\":\"x\"},\"y\":{\"field\":\"y\"}},\"id\":\"1133\",\"type\":\"Circle\"},{\"attributes\":{\"callback\":null,\"data\":{\"x\":[\"1960\",\"1961\",\"1962\",\"1963\",\"1964\",\"1965\",\"1966\",\"1967\",\"1968\",\"1969\",\"1970\",\"1971\",\"1972\",\"1973\",\"1974\",\"1975\",\"1976\",\"1977\",\"1978\",\"1979\",\"1980\",\"1981\",\"1982\",\"1983\",\"1984\",\"1985\",\"1986\",\"1987\",\"1988\",\"1989\",\"1990\",\"1991\",\"1992\",\"1993\",\"1994\",\"1995\",\"1996\",\"1997\",\"1998\",\"1999\",\"2000\",\"2001\",\"2002\",\"2003\",\"2004\",\"2005\",\"2006\",\"2007\",\"2008\",\"2009\",\"2010\",\"2011\",\"2012\",\"2013\",\"2014\",\"2015\",\"2016\",\"2017\"],\"y\":[240518433.0,246113640.0,251900741.0,257908074.0,264174179.0,270720892.0,277573029.0,284708409.0,292045744.0,299473256.0,306916896.0,314344629.0,321797581.0,329357353.0,337142681.0,345242710.0,353691338.0,362475112.0,371577256.0,380963304.0,390612563.0,400528924.0,410740611.0,421279107.0,432185325.0,443491288.0,455193656.0,467290514.0,479814021.0,492803028.0,506275612.0,520262423.0,534731006.0,549559264.0,564581083.0,579681672.0,594801259.0,609983301.0,625342098.0,641046802.0,657215864.0,673903112.0,691061397.0,708587948.0,726331177.0,744190510.0,762132501.0,780219542.0,798563392.0,817322629.0,836614860.0,856472234.0,873619764.0,894516028.0,915914952.0,937788499.0,960134718.0,982952189.0]},\"selected\":{\"id\":\"1150\",\"type\":\"Selection\"},\"selection_policy\":{\"id\":\"1151\",\"type\":\"UnionRenderers\"}},\"id\":\"1118\",\"type\":\"ColumnDataSource\"},{\"attributes\":{},\"id\":\"1106\",\"type\":\"WheelZoomTool\"},{\"attributes\":{\"data_source\":{\"id\":\"1131\",\"type\":\"ColumnDataSource\"},\"glyph\":{\"id\":\"1132\",\"type\":\"Circle\"},\"hover_glyph\":null,\"muted_glyph\":null,\"nonselection_glyph\":{\"id\":\"1133\",\"type\":\"Circle\"},\"selection_glyph\":null,\"view\":{\"id\":\"1135\",\"type\":\"CDSView\"}},\"id\":\"1134\",\"type\":\"GlyphRenderer\"},{\"attributes\":{\"line_color\":\"#FA1857\",\"line_width\":2,\"x\":{\"field\":\"x\"},\"y\":{\"field\":\"y\"}},\"id\":\"1119\",\"type\":\"Line\"},{\"attributes\":{},\"id\":\"1105\",\"type\":\"PanTool\"},{\"attributes\":{},\"id\":\"1150\",\"type\":\"Selection\"},{\"attributes\":{\"source\":{\"id\":\"1131\",\"type\":\"ColumnDataSource\"}},\"id\":\"1135\",\"type\":\"CDSView\"},{\"attributes\":{\"overlay\":{\"id\":\"1128\",\"type\":\"BoxAnnotation\"}},\"id\":\"1107\",\"type\":\"BoxZoomTool\"},{\"attributes\":{\"text\":\"Population, total\"},\"id\":\"1085\",\"type\":\"Title\"},{\"attributes\":{},\"id\":\"1108\",\"type\":\"SaveTool\"}],\"root_ids\":[\"1084\"]},\"title\":\"Bokeh Application\",\"version\":\"1.3.4\"}};\n",
       "  var render_items = [{\"docid\":\"f4d3a042-5d7d-420b-9586-d880e7884352\",\"roots\":{\"1084\":\"1fc205dc-919c-4664-b6d3-7a93b2f5cbf4\"}}];\n",
       "  root.Bokeh.embed.embed_items_notebook(docs_json, render_items);\n",
       "\n",
       "  }\n",
       "  if (root.Bokeh !== undefined) {\n",
       "    embed_document(root);\n",
       "  } else {\n",
       "    var attempts = 0;\n",
       "    var timer = setInterval(function(root) {\n",
       "      if (root.Bokeh !== undefined) {\n",
       "        embed_document(root);\n",
       "        clearInterval(timer);\n",
       "      }\n",
       "      attempts++;\n",
       "      if (attempts > 100) {\n",
       "        console.log(\"Bokeh: ERROR: Unable to run BokehJS code because BokehJS library is missing\");\n",
       "        clearInterval(timer);\n",
       "      }\n",
       "    }, 10, root)\n",
       "  }\n",
       "})(window);"
      ],
      "application/vnd.bokehjs_exec.v0+json": ""
     },
     "metadata": {
      "application/vnd.bokehjs_exec.v0+json": {
       "id": "1084"
      }
     },
     "output_type": "display_data"
    }
   ],
   "source": [
    "years = list(map(str, list(range(1960,2018))))\n",
    "result = show_group_total(years, 'SP.POP.TOTL', ['LDCs'])"
   ]
  },
  {
   "cell_type": "code",
   "execution_count": 5,
   "metadata": {
    "ExecuteTime": {
     "end_time": "2019-10-23T20:52:41.457261Z",
     "start_time": "2019-10-23T20:52:38.773629Z"
    },
    "slideshow": {
     "slide_type": "slide"
    }
   },
   "outputs": [
    {
     "data": {
      "text/html": [
       "\n",
       "\n",
       "\n",
       "\n",
       "\n",
       "\n",
       "  <div class=\"bk-root\" id=\"f874dc6a-cd02-40c0-b7e1-9f9938f0246d\" data-root-id=\"1215\"></div>\n"
      ]
     },
     "metadata": {},
     "output_type": "display_data"
    },
    {
     "data": {
      "application/javascript": [
       "(function(root) {\n",
       "  function embed_document(root) {\n",
       "    \n",
       "  var docs_json = {\"0a324cd5-b6e5-4756-8cb5-91241f64d8db\":{\"roots\":{\"references\":[{\"attributes\":{\"below\":[{\"id\":\"1226\",\"type\":\"LinearAxis\"}],\"center\":[{\"id\":\"1230\",\"type\":\"Grid\"},{\"id\":\"1235\",\"type\":\"Grid\"},{\"id\":\"1260\",\"type\":\"Legend\"}],\"left\":[{\"id\":\"1231\",\"type\":\"LinearAxis\"}],\"plot_height\":400,\"plot_width\":950,\"renderers\":[{\"id\":\"1252\",\"type\":\"GlyphRenderer\"},{\"id\":\"1265\",\"type\":\"GlyphRenderer\"},{\"id\":\"1270\",\"type\":\"GlyphRenderer\"},{\"id\":\"1286\",\"type\":\"GlyphRenderer\"},{\"id\":\"1291\",\"type\":\"GlyphRenderer\"},{\"id\":\"1311\",\"type\":\"GlyphRenderer\"}],\"title\":{\"id\":\"1216\",\"type\":\"Title\"},\"toolbar\":{\"id\":\"1242\",\"type\":\"Toolbar\"},\"x_range\":{\"id\":\"1218\",\"type\":\"DataRange1d\"},\"x_scale\":{\"id\":\"1222\",\"type\":\"LinearScale\"},\"y_range\":{\"id\":\"1220\",\"type\":\"DataRange1d\"},\"y_scale\":{\"id\":\"1224\",\"type\":\"LinearScale\"}},\"id\":\"1215\",\"subtype\":\"Figure\",\"type\":\"Plot\"},{\"attributes\":{},\"id\":\"1227\",\"type\":\"BasicTicker\"},{\"attributes\":{},\"id\":\"1257\",\"type\":\"BasicTickFormatter\"},{\"attributes\":{\"ticker\":{\"id\":\"1227\",\"type\":\"BasicTicker\"}},\"id\":\"1230\",\"type\":\"Grid\"},{\"attributes\":{\"label\":{\"value\":\"Developing excluding LDCs\"},\"renderers\":[{\"id\":\"1270\",\"type\":\"GlyphRenderer\"}]},\"id\":\"1282\",\"type\":\"LegendItem\"},{\"attributes\":{\"fill_alpha\":{\"value\":0.1},\"fill_color\":{\"value\":\"#1f77b4\"},\"line_alpha\":{\"value\":0.1},\"line_color\":{\"value\":\"#1f77b4\"},\"line_width\":{\"value\":3},\"x\":{\"field\":\"x\"},\"y\":{\"field\":\"y\"}},\"id\":\"1310\",\"type\":\"Circle\"},{\"attributes\":{\"data_source\":{\"id\":\"1308\",\"type\":\"ColumnDataSource\"},\"glyph\":{\"id\":\"1309\",\"type\":\"Circle\"},\"hover_glyph\":null,\"muted_glyph\":null,\"nonselection_glyph\":{\"id\":\"1310\",\"type\":\"Circle\"},\"selection_glyph\":null,\"view\":{\"id\":\"1312\",\"type\":\"CDSView\"}},\"id\":\"1311\",\"type\":\"GlyphRenderer\"},{\"attributes\":{\"bottom_units\":\"screen\",\"fill_alpha\":{\"value\":0.5},\"fill_color\":{\"value\":\"lightgrey\"},\"left_units\":\"screen\",\"level\":\"overlay\",\"line_alpha\":{\"value\":1.0},\"line_color\":{\"value\":\"black\"},\"line_dash\":[4,4],\"line_width\":{\"value\":2},\"render_mode\":\"css\",\"right_units\":\"screen\",\"top_units\":\"screen\"},\"id\":\"1259\",\"type\":\"BoxAnnotation\"},{\"attributes\":{\"callback\":null,\"data\":{\"x\":[2020,2025,2030,2035,2040,2045,2050,2055,2060,2065,2070,2075,2080,2085,2090,2095,2100],\"y\":[4993103.786000001,5218738.716999997,5421085.645999999,5600144.947999999,5752488.066,5878012.936,5976889.714000002,6050353.927999998,6099916.011999999,6128642.660999999,6138746.354000001,6132326.774999998,6111578.452999997,6078805.713000003,6037048.572999997,5987636.3539999975,5930332.014000001]},\"selected\":{\"id\":\"1304\",\"type\":\"Selection\"},\"selection_policy\":{\"id\":\"1305\",\"type\":\"UnionRenderers\"}},\"id\":\"1283\",\"type\":\"ColumnDataSource\"},{\"attributes\":{\"items\":[{\"id\":\"1261\",\"type\":\"LegendItem\"},{\"id\":\"1282\",\"type\":\"LegendItem\"},{\"id\":\"1307\",\"type\":\"LegendItem\"}],\"location\":\"bottom_left\"},\"id\":\"1260\",\"type\":\"Legend\"},{\"attributes\":{\"source\":{\"id\":\"1308\",\"type\":\"ColumnDataSource\"}},\"id\":\"1312\",\"type\":\"CDSView\"},{\"attributes\":{},\"id\":\"1232\",\"type\":\"BasicTicker\"},{\"attributes\":{\"fill_color\":{\"value\":\"#5430F1\"},\"line_color\":{\"value\":\"#5430F1\"},\"line_width\":{\"value\":3},\"x\":{\"field\":\"x\"},\"y\":{\"field\":\"y\"}},\"id\":\"1284\",\"type\":\"Circle\"},{\"attributes\":{\"callback\":null},\"id\":\"1220\",\"type\":\"DataRange1d\"},{\"attributes\":{\"label\":{\"value\":\"LDCs\"},\"renderers\":[{\"id\":\"1252\",\"type\":\"GlyphRenderer\"}]},\"id\":\"1261\",\"type\":\"LegendItem\"},{\"attributes\":{\"axis_label\":\"Percentage\",\"formatter\":{\"id\":\"1255\",\"type\":\"BasicTickFormatter\"},\"ticker\":{\"id\":\"1232\",\"type\":\"BasicTicker\"}},\"id\":\"1231\",\"type\":\"LinearAxis\"},{\"attributes\":{\"text\":\"Projected population, thousands\"},\"id\":\"1216\",\"type\":\"Title\"},{\"attributes\":{\"fill_alpha\":{\"value\":0.1},\"fill_color\":{\"value\":\"#1f77b4\"},\"line_alpha\":{\"value\":0.1},\"line_color\":{\"value\":\"#1f77b4\"},\"line_width\":{\"value\":3},\"x\":{\"field\":\"x\"},\"y\":{\"field\":\"y\"}},\"id\":\"1285\",\"type\":\"Circle\"},{\"attributes\":{\"callback\":null,\"data\":{\"x\":[2020,2025,2030,2035,2040,2045,2050,2055,2060,2065,2070,2075,2080,2085,2090,2095,2100],\"y\":[1057438.163,1182376.585,1313758.882,1450358.0589999997,1590723.5140000007,1733412.6489999997,1876797.781,2019337.702000001,2159628.188,2296253.5399999996,2427682.2370000007,2552545.8049999997,2669675.032999999,2778054.0900000003,2877186.7590000005,2966790.3559999997,3046778.7830000003]},\"selected\":{\"id\":\"1279\",\"type\":\"Selection\"},\"selection_policy\":{\"id\":\"1280\",\"type\":\"UnionRenderers\"}},\"id\":\"1262\",\"type\":\"ColumnDataSource\"},{\"attributes\":{},\"id\":\"1345\",\"type\":\"Selection\"},{\"attributes\":{\"dimension\":1,\"ticker\":{\"id\":\"1232\",\"type\":\"BasicTicker\"}},\"id\":\"1235\",\"type\":\"Grid\"},{\"attributes\":{\"data_source\":{\"id\":\"1283\",\"type\":\"ColumnDataSource\"},\"glyph\":{\"id\":\"1284\",\"type\":\"Circle\"},\"hover_glyph\":null,\"muted_glyph\":null,\"nonselection_glyph\":{\"id\":\"1285\",\"type\":\"Circle\"},\"selection_glyph\":null,\"view\":{\"id\":\"1287\",\"type\":\"CDSView\"}},\"id\":\"1286\",\"type\":\"GlyphRenderer\"},{\"attributes\":{\"callback\":null},\"id\":\"1218\",\"type\":\"DataRange1d\"},{\"attributes\":{\"fill_color\":{\"value\":\"#FA1857\"},\"line_color\":{\"value\":\"#FA1857\"},\"line_width\":{\"value\":3},\"x\":{\"field\":\"x\"},\"y\":{\"field\":\"y\"}},\"id\":\"1263\",\"type\":\"Circle\"},{\"attributes\":{\"source\":{\"id\":\"1283\",\"type\":\"ColumnDataSource\"}},\"id\":\"1287\",\"type\":\"CDSView\"},{\"attributes\":{},\"id\":\"1346\",\"type\":\"UnionRenderers\"},{\"attributes\":{\"line_color\":\"#FA1857\",\"line_width\":2,\"x\":{\"field\":\"x\"},\"y\":{\"field\":\"y\"}},\"id\":\"1250\",\"type\":\"Line\"},{\"attributes\":{\"fill_alpha\":{\"value\":0.1},\"fill_color\":{\"value\":\"#1f77b4\"},\"line_alpha\":{\"value\":0.1},\"line_color\":{\"value\":\"#1f77b4\"},\"line_width\":{\"value\":3},\"x\":{\"field\":\"x\"},\"y\":{\"field\":\"y\"}},\"id\":\"1264\",\"type\":\"Circle\"},{\"attributes\":{\"callback\":null,\"tooltips\":\"        \\n        <div style=padding=5px>Year:@x</div>\\n        <div style=padding=5px>Value:@y</div>\\n        \"},\"id\":\"1313\",\"type\":\"HoverTool\"},{\"attributes\":{\"axis_label\":\"Years\",\"formatter\":{\"id\":\"1257\",\"type\":\"BasicTickFormatter\"},\"ticker\":{\"id\":\"1227\",\"type\":\"BasicTicker\"}},\"id\":\"1226\",\"type\":\"LinearAxis\"},{\"attributes\":{\"callback\":null,\"data\":{\"x\":[2020,2025,2030,2035,2040,2045,2050,2055,2060,2065,2070,2075,2080,2085,2090,2095,2100],\"y\":[912306.7240000002,924199.783,933262.5580000001,940475.6150000001,944668.037,945929.6540000001,944372.924,940125.755,933542.0040000002,925493.626,916927.8789999998,908413.484,900272.8359999999,892459.4159999999,884981.163,877749.1270000001,870615.133]},\"selected\":{\"id\":\"1345\",\"type\":\"Selection\"},\"selection_policy\":{\"id\":\"1346\",\"type\":\"UnionRenderers\"}},\"id\":\"1288\",\"type\":\"ColumnDataSource\"},{\"attributes\":{},\"id\":\"1347\",\"type\":\"Selection\"},{\"attributes\":{\"callback\":null,\"data\":{\"x\":[2020,2025,2030,2035,2040,2045,2050,2055,2060,2065,2070,2075,2080,2085,2090,2095,2100],\"y\":[1057438.163,1182376.585,1313758.882,1450358.0589999997,1590723.5140000007,1733412.6489999997,1876797.781,2019337.702000001,2159628.188,2296253.5399999996,2427682.2370000007,2552545.8049999997,2669675.032999999,2778054.0900000003,2877186.7590000005,2966790.3559999997,3046778.7830000003]},\"selected\":{\"id\":\"1277\",\"type\":\"Selection\"},\"selection_policy\":{\"id\":\"1278\",\"type\":\"UnionRenderers\"}},\"id\":\"1249\",\"type\":\"ColumnDataSource\"},{\"attributes\":{\"data_source\":{\"id\":\"1262\",\"type\":\"ColumnDataSource\"},\"glyph\":{\"id\":\"1263\",\"type\":\"Circle\"},\"hover_glyph\":null,\"muted_glyph\":null,\"nonselection_glyph\":{\"id\":\"1264\",\"type\":\"Circle\"},\"selection_glyph\":null,\"view\":{\"id\":\"1266\",\"type\":\"CDSView\"}},\"id\":\"1265\",\"type\":\"GlyphRenderer\"},{\"attributes\":{},\"id\":\"1348\",\"type\":\"UnionRenderers\"},{\"attributes\":{\"line_color\":\"#2CC775\",\"line_width\":2,\"x\":{\"field\":\"x\"},\"y\":{\"field\":\"y\"}},\"id\":\"1289\",\"type\":\"Line\"},{\"attributes\":{},\"id\":\"1236\",\"type\":\"PanTool\"},{\"attributes\":{\"source\":{\"id\":\"1262\",\"type\":\"ColumnDataSource\"}},\"id\":\"1266\",\"type\":\"CDSView\"},{\"attributes\":{\"line_alpha\":0.1,\"line_color\":\"#1f77b4\",\"line_width\":2,\"x\":{\"field\":\"x\"},\"y\":{\"field\":\"y\"}},\"id\":\"1290\",\"type\":\"Line\"},{\"attributes\":{},\"id\":\"1237\",\"type\":\"WheelZoomTool\"},{\"attributes\":{\"callback\":null,\"data\":{\"x\":[2020,2025,2030,2035,2040,2045,2050,2055,2060,2065,2070,2075,2080,2085,2090,2095,2100],\"y\":[4993103.786000001,5218738.716999997,5421085.645999999,5600144.947999999,5752488.066,5878012.936,5976889.714000002,6050353.927999998,6099916.011999999,6128642.660999999,6138746.354000001,6132326.774999998,6111578.452999997,6078805.713000003,6037048.572999997,5987636.3539999975,5930332.014000001]},\"selected\":{\"id\":\"1302\",\"type\":\"Selection\"},\"selection_policy\":{\"id\":\"1303\",\"type\":\"UnionRenderers\"}},\"id\":\"1267\",\"type\":\"ColumnDataSource\"},{\"attributes\":{\"data_source\":{\"id\":\"1288\",\"type\":\"ColumnDataSource\"},\"glyph\":{\"id\":\"1289\",\"type\":\"Line\"},\"hover_glyph\":null,\"muted_glyph\":null,\"nonselection_glyph\":{\"id\":\"1290\",\"type\":\"Line\"},\"selection_glyph\":null,\"view\":{\"id\":\"1292\",\"type\":\"CDSView\"}},\"id\":\"1291\",\"type\":\"GlyphRenderer\"},{\"attributes\":{\"fill_color\":{\"value\":\"#2CC775\"},\"line_color\":{\"value\":\"#2CC775\"},\"line_width\":{\"value\":3},\"x\":{\"field\":\"x\"},\"y\":{\"field\":\"y\"}},\"id\":\"1309\",\"type\":\"Circle\"},{\"attributes\":{\"overlay\":{\"id\":\"1259\",\"type\":\"BoxAnnotation\"}},\"id\":\"1238\",\"type\":\"BoxZoomTool\"},{\"attributes\":{\"line_color\":\"#5430F1\",\"line_width\":2,\"x\":{\"field\":\"x\"},\"y\":{\"field\":\"y\"}},\"id\":\"1268\",\"type\":\"Line\"},{\"attributes\":{\"source\":{\"id\":\"1288\",\"type\":\"ColumnDataSource\"}},\"id\":\"1292\",\"type\":\"CDSView\"},{\"attributes\":{},\"id\":\"1255\",\"type\":\"BasicTickFormatter\"},{\"attributes\":{},\"id\":\"1239\",\"type\":\"SaveTool\"},{\"attributes\":{\"line_alpha\":0.1,\"line_color\":\"#1f77b4\",\"line_width\":2,\"x\":{\"field\":\"x\"},\"y\":{\"field\":\"y\"}},\"id\":\"1269\",\"type\":\"Line\"},{\"attributes\":{},\"id\":\"1302\",\"type\":\"Selection\"},{\"attributes\":{},\"id\":\"1240\",\"type\":\"ResetTool\"},{\"attributes\":{\"data_source\":{\"id\":\"1267\",\"type\":\"ColumnDataSource\"},\"glyph\":{\"id\":\"1268\",\"type\":\"Line\"},\"hover_glyph\":null,\"muted_glyph\":null,\"nonselection_glyph\":{\"id\":\"1269\",\"type\":\"Line\"},\"selection_glyph\":null,\"view\":{\"id\":\"1271\",\"type\":\"CDSView\"}},\"id\":\"1270\",\"type\":\"GlyphRenderer\"},{\"attributes\":{},\"id\":\"1303\",\"type\":\"UnionRenderers\"},{\"attributes\":{},\"id\":\"1241\",\"type\":\"HelpTool\"},{\"attributes\":{\"source\":{\"id\":\"1267\",\"type\":\"ColumnDataSource\"}},\"id\":\"1271\",\"type\":\"CDSView\"},{\"attributes\":{},\"id\":\"1304\",\"type\":\"Selection\"},{\"attributes\":{\"active_drag\":\"auto\",\"active_inspect\":\"auto\",\"active_multi\":null,\"active_scroll\":\"auto\",\"active_tap\":\"auto\",\"tools\":[{\"id\":\"1236\",\"type\":\"PanTool\"},{\"id\":\"1237\",\"type\":\"WheelZoomTool\"},{\"id\":\"1238\",\"type\":\"BoxZoomTool\"},{\"id\":\"1239\",\"type\":\"SaveTool\"},{\"id\":\"1240\",\"type\":\"ResetTool\"},{\"id\":\"1241\",\"type\":\"HelpTool\"},{\"id\":\"1313\",\"type\":\"HoverTool\"}]},\"id\":\"1242\",\"type\":\"Toolbar\"},{\"attributes\":{},\"id\":\"1277\",\"type\":\"Selection\"},{\"attributes\":{\"line_alpha\":0.1,\"line_color\":\"#1f77b4\",\"line_width\":2,\"x\":{\"field\":\"x\"},\"y\":{\"field\":\"y\"}},\"id\":\"1251\",\"type\":\"Line\"},{\"attributes\":{},\"id\":\"1305\",\"type\":\"UnionRenderers\"},{\"attributes\":{},\"id\":\"1278\",\"type\":\"UnionRenderers\"},{\"attributes\":{\"label\":{\"value\":\"OECD\"},\"renderers\":[{\"id\":\"1291\",\"type\":\"GlyphRenderer\"}]},\"id\":\"1307\",\"type\":\"LegendItem\"},{\"attributes\":{\"data_source\":{\"id\":\"1249\",\"type\":\"ColumnDataSource\"},\"glyph\":{\"id\":\"1250\",\"type\":\"Line\"},\"hover_glyph\":null,\"muted_glyph\":null,\"nonselection_glyph\":{\"id\":\"1251\",\"type\":\"Line\"},\"selection_glyph\":null,\"view\":{\"id\":\"1253\",\"type\":\"CDSView\"}},\"id\":\"1252\",\"type\":\"GlyphRenderer\"},{\"attributes\":{},\"id\":\"1279\",\"type\":\"Selection\"},{\"attributes\":{},\"id\":\"1222\",\"type\":\"LinearScale\"},{\"attributes\":{\"source\":{\"id\":\"1249\",\"type\":\"ColumnDataSource\"}},\"id\":\"1253\",\"type\":\"CDSView\"},{\"attributes\":{\"callback\":null,\"data\":{\"x\":[2020,2025,2030,2035,2040,2045,2050,2055,2060,2065,2070,2075,2080,2085,2090,2095,2100],\"y\":[912306.7240000002,924199.783,933262.5580000001,940475.6150000001,944668.037,945929.6540000001,944372.924,940125.755,933542.0040000002,925493.626,916927.8789999998,908413.484,900272.8359999999,892459.4159999999,884981.163,877749.1270000001,870615.133]},\"selected\":{\"id\":\"1347\",\"type\":\"Selection\"},\"selection_policy\":{\"id\":\"1348\",\"type\":\"UnionRenderers\"}},\"id\":\"1308\",\"type\":\"ColumnDataSource\"},{\"attributes\":{},\"id\":\"1280\",\"type\":\"UnionRenderers\"},{\"attributes\":{},\"id\":\"1224\",\"type\":\"LinearScale\"}],\"root_ids\":[\"1215\"]},\"title\":\"Bokeh Application\",\"version\":\"1.3.4\"}};\n",
       "  var render_items = [{\"docid\":\"0a324cd5-b6e5-4756-8cb5-91241f64d8db\",\"roots\":{\"1215\":\"f874dc6a-cd02-40c0-b7e1-9f9938f0246d\"}}];\n",
       "  root.Bokeh.embed.embed_items_notebook(docs_json, render_items);\n",
       "\n",
       "  }\n",
       "  if (root.Bokeh !== undefined) {\n",
       "    embed_document(root);\n",
       "  } else {\n",
       "    var attempts = 0;\n",
       "    var timer = setInterval(function(root) {\n",
       "      if (root.Bokeh !== undefined) {\n",
       "        embed_document(root);\n",
       "        clearInterval(timer);\n",
       "      }\n",
       "      attempts++;\n",
       "      if (attempts > 100) {\n",
       "        console.log(\"Bokeh: ERROR: Unable to run BokehJS code because BokehJS library is missing\");\n",
       "        clearInterval(timer);\n",
       "      }\n",
       "    }, 10, root)\n",
       "  }\n",
       "})(window);"
      ],
      "application/vnd.bokehjs_exec.v0+json": ""
     },
     "metadata": {
      "application/vnd.bokehjs_exec.v0+json": {
       "id": "1215"
      }
     },
     "output_type": "display_data"
    }
   ],
   "source": [
    "show(line_chart(gpp(['LDCs', 'Developing excluding LDCs', 'OECD']), \"Projected population, thousands\"))"
   ]
  },
  {
   "cell_type": "code",
   "execution_count": 6,
   "metadata": {
    "ExecuteTime": {
     "end_time": "2019-10-23T21:06:14.811811Z",
     "start_time": "2019-10-23T21:06:14.432399Z"
    },
    "scrolled": true
   },
   "outputs": [],
   "source": [
    "import sources\n",
    "data = sources.unpd.indicators.get_projection_by_group('LDCs')"
   ]
  },
  {
   "cell_type": "code",
   "execution_count": 7,
   "metadata": {
    "ExecuteTime": {
     "end_time": "2019-10-23T20:54:57.608660Z",
     "start_time": "2019-10-23T20:52:44.570564Z"
    },
    "slideshow": {
     "slide_type": "slide"
    }
   },
   "outputs": [
    {
     "data": {
      "text/html": [
       "\n",
       "\n",
       "\n",
       "\n",
       "\n",
       "\n",
       "  <div class=\"bk-root\" id=\"ac7e96be-698f-42da-883b-183e1175ad5f\" data-root-id=\"1458\"></div>\n"
      ]
     },
     "metadata": {},
     "output_type": "display_data"
    },
    {
     "data": {
      "application/javascript": [
       "(function(root) {\n",
       "  function embed_document(root) {\n",
       "    \n",
       "  var docs_json = {\"45046983-9328-49c8-b91d-e4fadd8cbdc4\":{\"roots\":{\"references\":[{\"attributes\":{\"below\":[{\"id\":\"1469\",\"type\":\"LinearAxis\"}],\"center\":[{\"id\":\"1473\",\"type\":\"Grid\"},{\"id\":\"1478\",\"type\":\"Grid\"},{\"id\":\"1503\",\"type\":\"Legend\"}],\"left\":[{\"id\":\"1474\",\"type\":\"LinearAxis\"}],\"plot_height\":400,\"plot_width\":950,\"renderers\":[{\"id\":\"1495\",\"type\":\"GlyphRenderer\"},{\"id\":\"1508\",\"type\":\"GlyphRenderer\"},{\"id\":\"1513\",\"type\":\"GlyphRenderer\"},{\"id\":\"1529\",\"type\":\"GlyphRenderer\"},{\"id\":\"1534\",\"type\":\"GlyphRenderer\"},{\"id\":\"1554\",\"type\":\"GlyphRenderer\"}],\"title\":{\"id\":\"1459\",\"type\":\"Title\"},\"toolbar\":{\"id\":\"1485\",\"type\":\"Toolbar\"},\"x_range\":{\"id\":\"1461\",\"type\":\"DataRange1d\"},\"x_scale\":{\"id\":\"1465\",\"type\":\"LinearScale\"},\"y_range\":{\"id\":\"1463\",\"type\":\"DataRange1d\"},\"y_scale\":{\"id\":\"1467\",\"type\":\"LinearScale\"}},\"id\":\"1458\",\"subtype\":\"Figure\",\"type\":\"Plot\"},{\"attributes\":{\"source\":{\"id\":\"1531\",\"type\":\"ColumnDataSource\"}},\"id\":\"1535\",\"type\":\"CDSView\"},{\"attributes\":{},\"id\":\"1521\",\"type\":\"UnionRenderers\"},{\"attributes\":{\"ticker\":{\"id\":\"1470\",\"type\":\"BasicTicker\"}},\"id\":\"1473\",\"type\":\"Grid\"},{\"attributes\":{\"active_drag\":\"auto\",\"active_inspect\":\"auto\",\"active_multi\":null,\"active_scroll\":\"auto\",\"active_tap\":\"auto\",\"tools\":[{\"id\":\"1479\",\"type\":\"PanTool\"},{\"id\":\"1480\",\"type\":\"WheelZoomTool\"},{\"id\":\"1481\",\"type\":\"BoxZoomTool\"},{\"id\":\"1482\",\"type\":\"SaveTool\"},{\"id\":\"1483\",\"type\":\"ResetTool\"},{\"id\":\"1484\",\"type\":\"HelpTool\"},{\"id\":\"1556\",\"type\":\"HoverTool\"}]},\"id\":\"1485\",\"type\":\"Toolbar\"},{\"attributes\":{\"data_source\":{\"id\":\"1551\",\"type\":\"ColumnDataSource\"},\"glyph\":{\"id\":\"1552\",\"type\":\"Circle\"},\"hover_glyph\":null,\"muted_glyph\":null,\"nonselection_glyph\":{\"id\":\"1553\",\"type\":\"Circle\"},\"selection_glyph\":null,\"view\":{\"id\":\"1555\",\"type\":\"CDSView\"}},\"id\":\"1554\",\"type\":\"GlyphRenderer\"},{\"attributes\":{},\"id\":\"1520\",\"type\":\"Selection\"},{\"attributes\":{\"data_source\":{\"id\":\"1531\",\"type\":\"ColumnDataSource\"},\"glyph\":{\"id\":\"1532\",\"type\":\"Line\"},\"hover_glyph\":null,\"muted_glyph\":null,\"nonselection_glyph\":{\"id\":\"1533\",\"type\":\"Line\"},\"selection_glyph\":null,\"view\":{\"id\":\"1535\",\"type\":\"CDSView\"}},\"id\":\"1534\",\"type\":\"GlyphRenderer\"},{\"attributes\":{\"label\":{\"value\":\"LDCs\"},\"renderers\":[{\"id\":\"1495\",\"type\":\"GlyphRenderer\"}]},\"id\":\"1504\",\"type\":\"LegendItem\"},{\"attributes\":{},\"id\":\"1522\",\"type\":\"Selection\"},{\"attributes\":{},\"id\":\"1470\",\"type\":\"BasicTicker\"},{\"attributes\":{\"dimension\":1,\"ticker\":{\"id\":\"1475\",\"type\":\"BasicTicker\"}},\"id\":\"1478\",\"type\":\"Grid\"},{\"attributes\":{\"items\":[{\"id\":\"1504\",\"type\":\"LegendItem\"},{\"id\":\"1525\",\"type\":\"LegendItem\"},{\"id\":\"1550\",\"type\":\"LegendItem\"}],\"location\":\"bottom_left\"},\"id\":\"1503\",\"type\":\"Legend\"},{\"attributes\":{\"data_source\":{\"id\":\"1492\",\"type\":\"ColumnDataSource\"},\"glyph\":{\"id\":\"1493\",\"type\":\"Line\"},\"hover_glyph\":null,\"muted_glyph\":null,\"nonselection_glyph\":{\"id\":\"1494\",\"type\":\"Line\"},\"selection_glyph\":null,\"view\":{\"id\":\"1496\",\"type\":\"CDSView\"}},\"id\":\"1495\",\"type\":\"GlyphRenderer\"},{\"attributes\":{\"callback\":null,\"data\":{\"x\":[\"1960\",\"1961\",\"1962\",\"1963\",\"1964\",\"1965\",\"1966\",\"1967\",\"1968\",\"1969\",\"1970\",\"1971\",\"1972\",\"1973\",\"1974\",\"1975\",\"1976\",\"1977\",\"1978\",\"1979\",\"1980\",\"1981\",\"1982\",\"1983\",\"1984\",\"1985\",\"1986\",\"1987\",\"1988\",\"1989\",\"1990\",\"1991\",\"1992\",\"1993\",\"1994\",\"1995\",\"1996\",\"1997\",\"1998\",\"1999\",\"2000\",\"2001\",\"2002\",\"2003\",\"2004\",\"2005\",\"2006\",\"2007\",\"2008\",\"2009\",\"2010\",\"2011\",\"2012\",\"2013\",\"2014\",\"2015\",\"2016\",\"2017\"],\"y\":[77.35363246498096,76.84064660563966,76.34919251805987,75.8911929273984,75.42392730969407,75.2455974700976,75.0631805029994,74.86460025693607,74.66965460183357,74.47948707660744,74.2883999829702,74.06985096112246,73.81021003144735,73.50148081814949,73.14517867392526,72.78077064593286,72.43033463814923,72.07257197472818,71.59162525042468,70.98739212549752,70.37390537107983,69.73538235357832,69.11523379006417,68.549880776788,67.97514579855805,67.40108835439656,66.83263598790077,66.2699204282547,65.70792376395148,65.14572411519175,64.58115696120876,64.00938831679981,63.47568887216426,62.90371180406295,62.32979564017021,61.731735700190455,61.15980763653538,60.58546239748637,60.00711357933131,59.428106219917154,58.83934865686248,58.1922959373342,57.492147507303955,56.791072578711145,56.08420239450577,55.373297896508575,54.67280454992341,53.977539651904614,53.28007273722423,52.58524307181396,51.89203527626144,51.22700828217377,50.57300177227712,49.92250999168939,49.27308811920352,48.62727125106838,47.983660157571435,47.34467173180428]},\"selected\":{\"id\":\"1547\",\"type\":\"Selection\"},\"selection_policy\":{\"id\":\"1548\",\"type\":\"UnionRenderers\"}},\"id\":\"1526\",\"type\":\"ColumnDataSource\"},{\"attributes\":{\"line_alpha\":0.1,\"line_color\":\"#1f77b4\",\"line_width\":2,\"x\":{\"field\":\"x\"},\"y\":{\"field\":\"y\"}},\"id\":\"1533\",\"type\":\"Line\"},{\"attributes\":{\"source\":{\"id\":\"1551\",\"type\":\"ColumnDataSource\"}},\"id\":\"1555\",\"type\":\"CDSView\"},{\"attributes\":{\"axis_label\":\"Years\",\"formatter\":{\"id\":\"1500\",\"type\":\"BasicTickFormatter\"},\"ticker\":{\"id\":\"1470\",\"type\":\"BasicTicker\"}},\"id\":\"1469\",\"type\":\"LinearAxis\"},{\"attributes\":{\"callback\":null,\"data\":{\"x\":[\"1960\",\"1961\",\"1962\",\"1963\",\"1964\",\"1965\",\"1966\",\"1967\",\"1968\",\"1969\",\"1970\",\"1971\",\"1972\",\"1973\",\"1974\",\"1975\",\"1976\",\"1977\",\"1978\",\"1979\",\"1980\",\"1981\",\"1982\",\"1983\",\"1984\",\"1985\",\"1986\",\"1987\",\"1988\",\"1989\",\"1990\",\"1991\",\"1992\",\"1993\",\"1994\",\"1995\",\"1996\",\"1997\",\"1998\",\"1999\",\"2000\",\"2001\",\"2002\",\"2003\",\"2004\",\"2005\",\"2006\",\"2007\",\"2008\",\"2009\",\"2010\",\"2011\",\"2012\",\"2013\",\"2014\",\"2015\",\"2016\",\"2017\"],\"y\":[90.30540314961225,90.05922308596143,89.79142197607507,89.50943020766772,89.21332392073033,88.90699930713514,88.59129404993091,88.2421437061032,87.87890301522422,87.498660914606,87.1174953120763,86.69804365829646,86.25174066596233,85.79977180585672,85.34188252862592,85.43654119910886,84.95168938138087,84.44580769216783,83.9221505351178,83.41754005994233,82.84275481593508,82.33340839124018,81.98009926769818,81.5994068914721,81.17923373810068,80.73499511441362,80.28737654778298,79.83589419008621,79.37735062469132,78.94106163003731,78.49089593262889,78.06666464387531,77.66442498847728,77.27582295914314,76.937477006595,76.6142721385419,76.29207931094508,75.96043698797583,75.63493186609195,75.3089958985288,74.97591336080258,74.58855084775452,74.17072837361799,73.7383105264119,73.30461571223451,72.85760200817124,72.41698364409473,72.02137630639736,71.53477802260059,71.03883841181644,70.53468445683478,70.02322338974272,69.54425681847671,69.04126913036824,68.53335948867445,68.02084860989429,67.5036702230874,66.9817255009623]},\"selected\":{\"id\":\"1522\",\"type\":\"Selection\"},\"selection_policy\":{\"id\":\"1523\",\"type\":\"UnionRenderers\"}},\"id\":\"1505\",\"type\":\"ColumnDataSource\"},{\"attributes\":{},\"id\":\"1483\",\"type\":\"ResetTool\"},{\"attributes\":{},\"id\":\"1475\",\"type\":\"BasicTicker\"},{\"attributes\":{\"label\":{\"value\":\"Developing excluding LDCs\"},\"renderers\":[{\"id\":\"1513\",\"type\":\"GlyphRenderer\"}]},\"id\":\"1525\",\"type\":\"LegendItem\"},{\"attributes\":{},\"id\":\"1547\",\"type\":\"Selection\"},{\"attributes\":{\"data_source\":{\"id\":\"1505\",\"type\":\"ColumnDataSource\"},\"glyph\":{\"id\":\"1506\",\"type\":\"Circle\"},\"hover_glyph\":null,\"muted_glyph\":null,\"nonselection_glyph\":{\"id\":\"1507\",\"type\":\"Circle\"},\"selection_glyph\":null,\"view\":{\"id\":\"1509\",\"type\":\"CDSView\"}},\"id\":\"1508\",\"type\":\"GlyphRenderer\"},{\"attributes\":{\"axis_label\":\"Percentage\",\"formatter\":{\"id\":\"1498\",\"type\":\"BasicTickFormatter\"},\"ticker\":{\"id\":\"1475\",\"type\":\"BasicTicker\"}},\"id\":\"1474\",\"type\":\"LinearAxis\"},{\"attributes\":{},\"id\":\"1523\",\"type\":\"UnionRenderers\"},{\"attributes\":{\"fill_alpha\":{\"value\":0.1},\"fill_color\":{\"value\":\"#1f77b4\"},\"line_alpha\":{\"value\":0.1},\"line_color\":{\"value\":\"#1f77b4\"},\"line_width\":{\"value\":3},\"x\":{\"field\":\"x\"},\"y\":{\"field\":\"y\"}},\"id\":\"1507\",\"type\":\"Circle\"},{\"attributes\":{},\"id\":\"1546\",\"type\":\"UnionRenderers\"},{\"attributes\":{},\"id\":\"1482\",\"type\":\"SaveTool\"},{\"attributes\":{\"line_alpha\":0.1,\"line_color\":\"#1f77b4\",\"line_width\":2,\"x\":{\"field\":\"x\"},\"y\":{\"field\":\"y\"}},\"id\":\"1494\",\"type\":\"Line\"},{\"attributes\":{\"fill_color\":{\"value\":\"#FA1857\"},\"line_color\":{\"value\":\"#FA1857\"},\"line_width\":{\"value\":3},\"x\":{\"field\":\"x\"},\"y\":{\"field\":\"y\"}},\"id\":\"1506\",\"type\":\"Circle\"},{\"attributes\":{\"data_source\":{\"id\":\"1526\",\"type\":\"ColumnDataSource\"},\"glyph\":{\"id\":\"1527\",\"type\":\"Circle\"},\"hover_glyph\":null,\"muted_glyph\":null,\"nonselection_glyph\":{\"id\":\"1528\",\"type\":\"Circle\"},\"selection_glyph\":null,\"view\":{\"id\":\"1530\",\"type\":\"CDSView\"}},\"id\":\"1529\",\"type\":\"GlyphRenderer\"},{\"attributes\":{},\"id\":\"1608\",\"type\":\"Selection\"},{\"attributes\":{},\"id\":\"1545\",\"type\":\"Selection\"},{\"attributes\":{},\"id\":\"1484\",\"type\":\"HelpTool\"},{\"attributes\":{\"callback\":null,\"data\":{\"x\":[\"1960\",\"1961\",\"1962\",\"1963\",\"1964\",\"1965\",\"1966\",\"1967\",\"1968\",\"1969\",\"1970\",\"1971\",\"1972\",\"1973\",\"1974\",\"1975\",\"1976\",\"1977\",\"1978\",\"1979\",\"1980\",\"1981\",\"1982\",\"1983\",\"1984\",\"1985\",\"1986\",\"1987\",\"1988\",\"1989\",\"1990\",\"1991\",\"1992\",\"1993\",\"1994\",\"1995\",\"1996\",\"1997\",\"1998\",\"1999\",\"2000\",\"2001\",\"2002\",\"2003\",\"2004\",\"2005\",\"2006\",\"2007\",\"2008\",\"2009\",\"2010\",\"2011\",\"2012\",\"2013\",\"2014\",\"2015\",\"2016\",\"2017\"],\"y\":[90.30540314961225,90.05922308596143,89.79142197607507,89.50943020766772,89.21332392073033,88.90699930713514,88.59129404993091,88.2421437061032,87.87890301522422,87.498660914606,87.1174953120763,86.69804365829646,86.25174066596233,85.79977180585672,85.34188252862592,85.43654119910886,84.95168938138087,84.44580769216783,83.9221505351178,83.41754005994233,82.84275481593508,82.33340839124018,81.98009926769818,81.5994068914721,81.17923373810068,80.73499511441362,80.28737654778298,79.83589419008621,79.37735062469132,78.94106163003731,78.49089593262889,78.06666464387531,77.66442498847728,77.27582295914314,76.937477006595,76.6142721385419,76.29207931094508,75.96043698797583,75.63493186609195,75.3089958985288,74.97591336080258,74.58855084775452,74.17072837361799,73.7383105264119,73.30461571223451,72.85760200817124,72.41698364409473,72.02137630639736,71.53477802260059,71.03883841181644,70.53468445683478,70.02322338974272,69.54425681847671,69.04126913036824,68.53335948867445,68.02084860989429,67.5036702230874,66.9817255009623]},\"selected\":{\"id\":\"1520\",\"type\":\"Selection\"},\"selection_policy\":{\"id\":\"1521\",\"type\":\"UnionRenderers\"}},\"id\":\"1492\",\"type\":\"ColumnDataSource\"},{\"attributes\":{\"line_color\":\"#5430F1\",\"line_width\":2,\"x\":{\"field\":\"x\"},\"y\":{\"field\":\"y\"}},\"id\":\"1511\",\"type\":\"Line\"},{\"attributes\":{\"fill_alpha\":{\"value\":0.1},\"fill_color\":{\"value\":\"#1f77b4\"},\"line_alpha\":{\"value\":0.1},\"line_color\":{\"value\":\"#1f77b4\"},\"line_width\":{\"value\":3},\"x\":{\"field\":\"x\"},\"y\":{\"field\":\"y\"}},\"id\":\"1528\",\"type\":\"Circle\"},{\"attributes\":{},\"id\":\"1607\",\"type\":\"UnionRenderers\"},{\"attributes\":{\"line_color\":\"#FA1857\",\"line_width\":2,\"x\":{\"field\":\"x\"},\"y\":{\"field\":\"y\"}},\"id\":\"1493\",\"type\":\"Line\"},{\"attributes\":{\"callback\":null,\"tooltips\":\"        \\n        <div style=padding=5px>Year:@x</div>\\n        <div style=padding=5px>Value:@y</div>\\n        \"},\"id\":\"1556\",\"type\":\"HoverTool\"},{\"attributes\":{\"callback\":null},\"id\":\"1461\",\"type\":\"DataRange1d\"},{\"attributes\":{\"callback\":null,\"data\":{\"x\":[\"1960\",\"1961\",\"1962\",\"1963\",\"1964\",\"1965\",\"1966\",\"1967\",\"1968\",\"1969\",\"1970\",\"1971\",\"1972\",\"1973\",\"1974\",\"1975\",\"1976\",\"1977\",\"1978\",\"1979\",\"1980\",\"1981\",\"1982\",\"1983\",\"1984\",\"1985\",\"1986\",\"1987\",\"1988\",\"1989\",\"1990\",\"1991\",\"1992\",\"1993\",\"1994\",\"1995\",\"1996\",\"1997\",\"1998\",\"1999\",\"2000\",\"2001\",\"2002\",\"2003\",\"2004\",\"2005\",\"2006\",\"2007\",\"2008\",\"2009\",\"2010\",\"2011\",\"2012\",\"2013\",\"2014\",\"2015\",\"2016\",\"2017\"],\"y\":[77.35363246498096,76.84064660563966,76.34919251805987,75.8911929273984,75.42392730969407,75.2455974700976,75.0631805029994,74.86460025693607,74.66965460183357,74.47948707660744,74.2883999829702,74.06985096112246,73.81021003144735,73.50148081814949,73.14517867392526,72.78077064593286,72.43033463814923,72.07257197472818,71.59162525042468,70.98739212549752,70.37390537107983,69.73538235357832,69.11523379006417,68.549880776788,67.97514579855805,67.40108835439656,66.83263598790077,66.2699204282547,65.70792376395148,65.14572411519175,64.58115696120876,64.00938831679981,63.47568887216426,62.90371180406295,62.32979564017021,61.731735700190455,61.15980763653538,60.58546239748637,60.00711357933131,59.428106219917154,58.83934865686248,58.1922959373342,57.492147507303955,56.791072578711145,56.08420239450577,55.373297896508575,54.67280454992341,53.977539651904614,53.28007273722423,52.58524307181396,51.89203527626144,51.22700828217377,50.57300177227712,49.92250999168939,49.27308811920352,48.62727125106838,47.983660157571435,47.34467173180428]},\"selected\":{\"id\":\"1545\",\"type\":\"Selection\"},\"selection_policy\":{\"id\":\"1546\",\"type\":\"UnionRenderers\"}},\"id\":\"1510\",\"type\":\"ColumnDataSource\"},{\"attributes\":{\"fill_color\":{\"value\":\"#5430F1\"},\"line_color\":{\"value\":\"#5430F1\"},\"line_width\":{\"value\":3},\"x\":{\"field\":\"x\"},\"y\":{\"field\":\"y\"}},\"id\":\"1527\",\"type\":\"Circle\"},{\"attributes\":{},\"id\":\"1606\",\"type\":\"Selection\"},{\"attributes\":{\"label\":{\"value\":\"OECD\"},\"renderers\":[{\"id\":\"1534\",\"type\":\"GlyphRenderer\"}]},\"id\":\"1550\",\"type\":\"LegendItem\"},{\"attributes\":{\"text\":\"Rural population (% of total population) weighted against Population, total\"},\"id\":\"1459\",\"type\":\"Title\"},{\"attributes\":{\"source\":{\"id\":\"1505\",\"type\":\"ColumnDataSource\"}},\"id\":\"1509\",\"type\":\"CDSView\"},{\"attributes\":{},\"id\":\"1548\",\"type\":\"UnionRenderers\"},{\"attributes\":{\"source\":{\"id\":\"1510\",\"type\":\"ColumnDataSource\"}},\"id\":\"1514\",\"type\":\"CDSView\"},{\"attributes\":{\"line_color\":\"#2CC775\",\"line_width\":2,\"x\":{\"field\":\"x\"},\"y\":{\"field\":\"y\"}},\"id\":\"1532\",\"type\":\"Line\"},{\"attributes\":{\"bottom_units\":\"screen\",\"fill_alpha\":{\"value\":0.5},\"fill_color\":{\"value\":\"lightgrey\"},\"left_units\":\"screen\",\"level\":\"overlay\",\"line_alpha\":{\"value\":1.0},\"line_color\":{\"value\":\"black\"},\"line_dash\":[4,4],\"line_width\":{\"value\":2},\"render_mode\":\"css\",\"right_units\":\"screen\",\"top_units\":\"screen\"},\"id\":\"1502\",\"type\":\"BoxAnnotation\"},{\"attributes\":{\"callback\":null,\"data\":{\"x\":[\"1960\",\"1961\",\"1962\",\"1963\",\"1964\",\"1965\",\"1966\",\"1967\",\"1968\",\"1969\",\"1970\",\"1971\",\"1972\",\"1973\",\"1974\",\"1975\",\"1976\",\"1977\",\"1978\",\"1979\",\"1980\",\"1981\",\"1982\",\"1983\",\"1984\",\"1985\",\"1986\",\"1987\",\"1988\",\"1989\",\"1990\",\"1991\",\"1992\",\"1993\",\"1994\",\"1995\",\"1996\",\"1997\",\"1998\",\"1999\",\"2000\",\"2001\",\"2002\",\"2003\",\"2004\",\"2005\",\"2006\",\"2007\",\"2008\",\"2009\",\"2010\",\"2011\",\"2012\",\"2013\",\"2014\",\"2015\",\"2016\",\"2017\"],\"y\":[37.40046379762384,36.910426656412376,36.42127360665778,35.91623000953568,35.41312563450036,34.91259283883799,34.41460814240305,33.906853776784544,33.41175944934178,32.93243762343052,32.47371657833314,32.08243047483682,31.72254341724644,31.376230937591238,31.02541989859808,30.694684316251664,30.439520115174478,30.192444164715646,29.942960728335073,29.698117424398575,29.45271291536762,29.159197365938237,28.884819993799557,28.62443020571846,28.373177767459325,28.121981510199006,27.8604458404359,27.578860132814693,27.299974013372434,27.04188263980006,26.764398045351797,26.48515980107442,26.22585182821077,25.962163393862863,25.69276563048598,25.42543337883581,25.181488242051362,24.9477281910235,24.714988268795185,24.48183071086911,24.25025925627994,23.905203675760802,23.504398066886452,23.123776637102807,22.758727449036055,22.408569017585673,22.085829368063017,21.7813270701607,21.485590735868247,21.19879146971327,20.918753085714805,20.70228925587614,20.51614583488052,20.332611207313864,20.1493430924518,19.961337971168508,19.770869743541244,19.576668574669895]},\"selected\":{\"id\":\"1606\",\"type\":\"Selection\"},\"selection_policy\":{\"id\":\"1607\",\"type\":\"UnionRenderers\"}},\"id\":\"1531\",\"type\":\"ColumnDataSource\"},{\"attributes\":{\"overlay\":{\"id\":\"1502\",\"type\":\"BoxAnnotation\"}},\"id\":\"1481\",\"type\":\"BoxZoomTool\"},{\"attributes\":{},\"id\":\"1467\",\"type\":\"LinearScale\"},{\"attributes\":{\"source\":{\"id\":\"1492\",\"type\":\"ColumnDataSource\"}},\"id\":\"1496\",\"type\":\"CDSView\"},{\"attributes\":{\"data_source\":{\"id\":\"1510\",\"type\":\"ColumnDataSource\"},\"glyph\":{\"id\":\"1511\",\"type\":\"Line\"},\"hover_glyph\":null,\"muted_glyph\":null,\"nonselection_glyph\":{\"id\":\"1512\",\"type\":\"Line\"},\"selection_glyph\":null,\"view\":{\"id\":\"1514\",\"type\":\"CDSView\"}},\"id\":\"1513\",\"type\":\"GlyphRenderer\"},{\"attributes\":{},\"id\":\"1500\",\"type\":\"BasicTickFormatter\"},{\"attributes\":{},\"id\":\"1609\",\"type\":\"UnionRenderers\"},{\"attributes\":{},\"id\":\"1480\",\"type\":\"WheelZoomTool\"},{\"attributes\":{},\"id\":\"1465\",\"type\":\"LinearScale\"},{\"attributes\":{\"line_alpha\":0.1,\"line_color\":\"#1f77b4\",\"line_width\":2,\"x\":{\"field\":\"x\"},\"y\":{\"field\":\"y\"}},\"id\":\"1512\",\"type\":\"Line\"},{\"attributes\":{\"fill_alpha\":{\"value\":0.1},\"fill_color\":{\"value\":\"#1f77b4\"},\"line_alpha\":{\"value\":0.1},\"line_color\":{\"value\":\"#1f77b4\"},\"line_width\":{\"value\":3},\"x\":{\"field\":\"x\"},\"y\":{\"field\":\"y\"}},\"id\":\"1553\",\"type\":\"Circle\"},{\"attributes\":{},\"id\":\"1498\",\"type\":\"BasicTickFormatter\"},{\"attributes\":{\"callback\":null,\"data\":{\"x\":[\"1960\",\"1961\",\"1962\",\"1963\",\"1964\",\"1965\",\"1966\",\"1967\",\"1968\",\"1969\",\"1970\",\"1971\",\"1972\",\"1973\",\"1974\",\"1975\",\"1976\",\"1977\",\"1978\",\"1979\",\"1980\",\"1981\",\"1982\",\"1983\",\"1984\",\"1985\",\"1986\",\"1987\",\"1988\",\"1989\",\"1990\",\"1991\",\"1992\",\"1993\",\"1994\",\"1995\",\"1996\",\"1997\",\"1998\",\"1999\",\"2000\",\"2001\",\"2002\",\"2003\",\"2004\",\"2005\",\"2006\",\"2007\",\"2008\",\"2009\",\"2010\",\"2011\",\"2012\",\"2013\",\"2014\",\"2015\",\"2016\",\"2017\"],\"y\":[37.40046379762384,36.910426656412376,36.42127360665778,35.91623000953568,35.41312563450036,34.91259283883799,34.41460814240305,33.906853776784544,33.41175944934178,32.93243762343052,32.47371657833314,32.08243047483682,31.72254341724644,31.376230937591238,31.02541989859808,30.694684316251664,30.439520115174478,30.192444164715646,29.942960728335073,29.698117424398575,29.45271291536762,29.159197365938237,28.884819993799557,28.62443020571846,28.373177767459325,28.121981510199006,27.8604458404359,27.578860132814693,27.299974013372434,27.04188263980006,26.764398045351797,26.48515980107442,26.22585182821077,25.962163393862863,25.69276563048598,25.42543337883581,25.181488242051362,24.9477281910235,24.714988268795185,24.48183071086911,24.25025925627994,23.905203675760802,23.504398066886452,23.123776637102807,22.758727449036055,22.408569017585673,22.085829368063017,21.7813270701607,21.485590735868247,21.19879146971327,20.918753085714805,20.70228925587614,20.51614583488052,20.332611207313864,20.1493430924518,19.961337971168508,19.770869743541244,19.576668574669895]},\"selected\":{\"id\":\"1608\",\"type\":\"Selection\"},\"selection_policy\":{\"id\":\"1609\",\"type\":\"UnionRenderers\"}},\"id\":\"1551\",\"type\":\"ColumnDataSource\"},{\"attributes\":{\"source\":{\"id\":\"1526\",\"type\":\"ColumnDataSource\"}},\"id\":\"1530\",\"type\":\"CDSView\"},{\"attributes\":{},\"id\":\"1479\",\"type\":\"PanTool\"},{\"attributes\":{\"callback\":null},\"id\":\"1463\",\"type\":\"DataRange1d\"},{\"attributes\":{\"fill_color\":{\"value\":\"#2CC775\"},\"line_color\":{\"value\":\"#2CC775\"},\"line_width\":{\"value\":3},\"x\":{\"field\":\"x\"},\"y\":{\"field\":\"y\"}},\"id\":\"1552\",\"type\":\"Circle\"}],\"root_ids\":[\"1458\"]},\"title\":\"Bokeh Application\",\"version\":\"1.3.4\"}};\n",
       "  var render_items = [{\"docid\":\"45046983-9328-49c8-b91d-e4fadd8cbdc4\",\"roots\":{\"1458\":\"ac7e96be-698f-42da-883b-183e1175ad5f\"}}];\n",
       "  root.Bokeh.embed.embed_items_notebook(docs_json, render_items);\n",
       "\n",
       "  }\n",
       "  if (root.Bokeh !== undefined) {\n",
       "    embed_document(root);\n",
       "  } else {\n",
       "    var attempts = 0;\n",
       "    var timer = setInterval(function(root) {\n",
       "      if (root.Bokeh !== undefined) {\n",
       "        embed_document(root);\n",
       "        clearInterval(timer);\n",
       "      }\n",
       "      attempts++;\n",
       "      if (attempts > 100) {\n",
       "        console.log(\"Bokeh: ERROR: Unable to run BokehJS code because BokehJS library is missing\");\n",
       "        clearInterval(timer);\n",
       "      }\n",
       "    }, 10, root)\n",
       "  }\n",
       "})(window);"
      ],
      "application/vnd.bokehjs_exec.v0+json": ""
     },
     "metadata": {
      "application/vnd.bokehjs_exec.v0+json": {
       "id": "1458"
      }
     },
     "output_type": "display_data"
    }
   ],
   "source": [
    "# Urban population as a percentage of total population\n",
    "result = show_weighted_average(years, 'SP.RUR.TOTL.ZS', 'SP.POP.TOTL', \n",
    "                               ['LDCs', 'Developing excluding LDCs', 'OECD'])"
   ]
  },
  {
   "cell_type": "code",
   "execution_count": 8,
   "metadata": {
    "ExecuteTime": {
     "end_time": "2019-10-23T20:54:59.427207Z",
     "start_time": "2019-10-23T20:54:57.622259Z"
    },
    "slideshow": {
     "slide_type": "slide"
    }
   },
   "outputs": [
    {
     "data": {
      "text/html": [
       "\n",
       "\n",
       "\n",
       "\n",
       "\n",
       "\n",
       "  <div class=\"bk-root\" id=\"7aed08ea-4522-4f12-b2d3-909456f780ec\" data-root-id=\"1719\"></div>\n"
      ]
     },
     "metadata": {},
     "output_type": "display_data"
    },
    {
     "data": {
      "application/javascript": [
       "(function(root) {\n",
       "  function embed_document(root) {\n",
       "    \n",
       "  var docs_json = {\"bad54862-3876-40a3-a0b1-03b10a778deb\":{\"roots\":{\"references\":[{\"attributes\":{\"below\":[{\"id\":\"1730\",\"type\":\"LinearAxis\"}],\"center\":[{\"id\":\"1734\",\"type\":\"Grid\"},{\"id\":\"1739\",\"type\":\"Grid\"},{\"id\":\"1764\",\"type\":\"Legend\"}],\"left\":[{\"id\":\"1735\",\"type\":\"LinearAxis\"}],\"plot_height\":400,\"plot_width\":950,\"renderers\":[{\"id\":\"1756\",\"type\":\"GlyphRenderer\"},{\"id\":\"1769\",\"type\":\"GlyphRenderer\"}],\"title\":{\"id\":\"1720\",\"type\":\"Title\"},\"toolbar\":{\"id\":\"1746\",\"type\":\"Toolbar\"},\"x_range\":{\"id\":\"1722\",\"type\":\"DataRange1d\"},\"x_scale\":{\"id\":\"1726\",\"type\":\"LinearScale\"},\"y_range\":{\"id\":\"1724\",\"type\":\"DataRange1d\"},\"y_scale\":{\"id\":\"1728\",\"type\":\"LinearScale\"}},\"id\":\"1719\",\"subtype\":\"Figure\",\"type\":\"Plot\"},{\"attributes\":{\"source\":{\"id\":\"1753\",\"type\":\"ColumnDataSource\"}},\"id\":\"1757\",\"type\":\"CDSView\"},{\"attributes\":{\"line_color\":\"#FA1857\",\"line_width\":2,\"x\":{\"field\":\"x\"},\"y\":{\"field\":\"y\"}},\"id\":\"1754\",\"type\":\"Line\"},{\"attributes\":{\"callback\":null},\"id\":\"1724\",\"type\":\"DataRange1d\"},{\"attributes\":{},\"id\":\"1726\",\"type\":\"LinearScale\"},{\"attributes\":{},\"id\":\"1759\",\"type\":\"BasicTickFormatter\"},{\"attributes\":{},\"id\":\"1728\",\"type\":\"LinearScale\"},{\"attributes\":{},\"id\":\"1745\",\"type\":\"HelpTool\"},{\"attributes\":{},\"id\":\"1761\",\"type\":\"BasicTickFormatter\"},{\"attributes\":{\"axis_label\":\"Years\",\"formatter\":{\"id\":\"1761\",\"type\":\"BasicTickFormatter\"},\"ticker\":{\"id\":\"1731\",\"type\":\"BasicTicker\"}},\"id\":\"1730\",\"type\":\"LinearAxis\"},{\"attributes\":{\"bottom_units\":\"screen\",\"fill_alpha\":{\"value\":0.5},\"fill_color\":{\"value\":\"lightgrey\"},\"left_units\":\"screen\",\"level\":\"overlay\",\"line_alpha\":{\"value\":1.0},\"line_color\":{\"value\":\"black\"},\"line_dash\":[4,4],\"line_width\":{\"value\":2},\"render_mode\":\"css\",\"right_units\":\"screen\",\"top_units\":\"screen\"},\"id\":\"1763\",\"type\":\"BoxAnnotation\"},{\"attributes\":{},\"id\":\"1731\",\"type\":\"BasicTicker\"},{\"attributes\":{\"items\":[{\"id\":\"1765\",\"type\":\"LegendItem\"}],\"location\":\"bottom_left\"},\"id\":\"1764\",\"type\":\"Legend\"},{\"attributes\":{\"ticker\":{\"id\":\"1731\",\"type\":\"BasicTicker\"}},\"id\":\"1734\",\"type\":\"Grid\"},{\"attributes\":{\"text\":\"Rural population\"},\"id\":\"1720\",\"type\":\"Title\"},{\"attributes\":{\"label\":{\"value\":\"LDCs\"},\"renderers\":[{\"id\":\"1756\",\"type\":\"GlyphRenderer\"}]},\"id\":\"1765\",\"type\":\"LegendItem\"},{\"attributes\":{\"axis_label\":\"Percentage\",\"formatter\":{\"id\":\"1759\",\"type\":\"BasicTickFormatter\"},\"ticker\":{\"id\":\"1736\",\"type\":\"BasicTicker\"}},\"id\":\"1735\",\"type\":\"LinearAxis\"},{\"attributes\":{\"callback\":null,\"data\":{\"x\":[\"1960\",\"1961\",\"1962\",\"1963\",\"1964\",\"1965\",\"1966\",\"1967\",\"1968\",\"1969\",\"1970\",\"1971\",\"1972\",\"1973\",\"1974\",\"1975\",\"1976\",\"1977\",\"1978\",\"1979\",\"1980\",\"1981\",\"1982\",\"1983\",\"1984\",\"1985\",\"1986\",\"1987\",\"1988\",\"1989\",\"1990\",\"1991\",\"1992\",\"1993\",\"1994\",\"1995\",\"1996\",\"1997\",\"1998\",\"1999\",\"2000\",\"2001\",\"2002\",\"2003\",\"2004\",\"2005\",\"2006\",\"2007\",\"2008\",\"2009\",\"2010\",\"2011\",\"2012\",\"2013\",\"2014\",\"2015\",\"2016\",\"2017\"],\"y\":[217201141.0,221648032.0,226185257.0,230852048.0,235678565.0,240689826.0,245905541.0,251232801.0,256646596.0,262035089.0,267378313.0,272530645.0,277556016.0,282587860.0,287723910.0,294963433.0,300466769.0,306095035.0,311835621.0,317790214.0,323594204.0,329769115.0,336725562.0,343761255.0,350844734.0,358052669.0,365463045.0,373065564.0,380863656.0,389023941.0,397380267.0,406151517.0,415295757.0,424676447.0,434374441.0,444118896.0,453786247.0,463345981.0,472977069.0,482765911.0,492753594.0,502654567.0,512565273.0,522500780.0,532434279.0,542199358.0,551913368.0,561924852.0,571250553.0,580616500.0,590103650.0,599729467.0,607552372.0,617585217.0,627707285.0,637891695.0,648126174.0,658398338.0]},\"selected\":{\"id\":\"1833\",\"type\":\"Selection\"},\"selection_policy\":{\"id\":\"1834\",\"type\":\"UnionRenderers\"}},\"id\":\"1766\",\"type\":\"ColumnDataSource\"},{\"attributes\":{},\"id\":\"1736\",\"type\":\"BasicTicker\"},{\"attributes\":{\"fill_color\":{\"value\":\"#FA1857\"},\"line_color\":{\"value\":\"#FA1857\"},\"line_width\":{\"value\":3},\"x\":{\"field\":\"x\"},\"y\":{\"field\":\"y\"}},\"id\":\"1767\",\"type\":\"Circle\"},{\"attributes\":{\"dimension\":1,\"ticker\":{\"id\":\"1736\",\"type\":\"BasicTicker\"}},\"id\":\"1739\",\"type\":\"Grid\"},{\"attributes\":{\"fill_alpha\":{\"value\":0.1},\"fill_color\":{\"value\":\"#1f77b4\"},\"line_alpha\":{\"value\":0.1},\"line_color\":{\"value\":\"#1f77b4\"},\"line_width\":{\"value\":3},\"x\":{\"field\":\"x\"},\"y\":{\"field\":\"y\"}},\"id\":\"1768\",\"type\":\"Circle\"},{\"attributes\":{\"line_alpha\":0.1,\"line_color\":\"#1f77b4\",\"line_width\":2,\"x\":{\"field\":\"x\"},\"y\":{\"field\":\"y\"}},\"id\":\"1755\",\"type\":\"Line\"},{\"attributes\":{\"callback\":null,\"data\":{\"x\":[\"1960\",\"1961\",\"1962\",\"1963\",\"1964\",\"1965\",\"1966\",\"1967\",\"1968\",\"1969\",\"1970\",\"1971\",\"1972\",\"1973\",\"1974\",\"1975\",\"1976\",\"1977\",\"1978\",\"1979\",\"1980\",\"1981\",\"1982\",\"1983\",\"1984\",\"1985\",\"1986\",\"1987\",\"1988\",\"1989\",\"1990\",\"1991\",\"1992\",\"1993\",\"1994\",\"1995\",\"1996\",\"1997\",\"1998\",\"1999\",\"2000\",\"2001\",\"2002\",\"2003\",\"2004\",\"2005\",\"2006\",\"2007\",\"2008\",\"2009\",\"2010\",\"2011\",\"2012\",\"2013\",\"2014\",\"2015\",\"2016\",\"2017\"],\"y\":[217201141.0,221648032.0,226185257.0,230852048.0,235678565.0,240689826.0,245905541.0,251232801.0,256646596.0,262035089.0,267378313.0,272530645.0,277556016.0,282587860.0,287723910.0,294963433.0,300466769.0,306095035.0,311835621.0,317790214.0,323594204.0,329769115.0,336725562.0,343761255.0,350844734.0,358052669.0,365463045.0,373065564.0,380863656.0,389023941.0,397380267.0,406151517.0,415295757.0,424676447.0,434374441.0,444118896.0,453786247.0,463345981.0,472977069.0,482765911.0,492753594.0,502654567.0,512565273.0,522500780.0,532434279.0,542199358.0,551913368.0,561924852.0,571250553.0,580616500.0,590103650.0,599729467.0,607552372.0,617585217.0,627707285.0,637891695.0,648126174.0,658398338.0]},\"selected\":{\"id\":\"1831\",\"type\":\"Selection\"},\"selection_policy\":{\"id\":\"1832\",\"type\":\"UnionRenderers\"}},\"id\":\"1753\",\"type\":\"ColumnDataSource\"},{\"attributes\":{\"data_source\":{\"id\":\"1766\",\"type\":\"ColumnDataSource\"},\"glyph\":{\"id\":\"1767\",\"type\":\"Circle\"},\"hover_glyph\":null,\"muted_glyph\":null,\"nonselection_glyph\":{\"id\":\"1768\",\"type\":\"Circle\"},\"selection_glyph\":null,\"view\":{\"id\":\"1770\",\"type\":\"CDSView\"}},\"id\":\"1769\",\"type\":\"GlyphRenderer\"},{\"attributes\":{},\"id\":\"1740\",\"type\":\"PanTool\"},{\"attributes\":{\"source\":{\"id\":\"1766\",\"type\":\"ColumnDataSource\"}},\"id\":\"1770\",\"type\":\"CDSView\"},{\"attributes\":{\"data_source\":{\"id\":\"1753\",\"type\":\"ColumnDataSource\"},\"glyph\":{\"id\":\"1754\",\"type\":\"Line\"},\"hover_glyph\":null,\"muted_glyph\":null,\"nonselection_glyph\":{\"id\":\"1755\",\"type\":\"Line\"},\"selection_glyph\":null,\"view\":{\"id\":\"1757\",\"type\":\"CDSView\"}},\"id\":\"1756\",\"type\":\"GlyphRenderer\"},{\"attributes\":{},\"id\":\"1741\",\"type\":\"WheelZoomTool\"},{\"attributes\":{\"overlay\":{\"id\":\"1763\",\"type\":\"BoxAnnotation\"}},\"id\":\"1742\",\"type\":\"BoxZoomTool\"},{\"attributes\":{\"callback\":null,\"tooltips\":\"        \\n        <div style=padding=5px>Year:@x</div>\\n        <div style=padding=5px>Value:@y</div>\\n        \"},\"id\":\"1771\",\"type\":\"HoverTool\"},{\"attributes\":{},\"id\":\"1831\",\"type\":\"Selection\"},{\"attributes\":{},\"id\":\"1743\",\"type\":\"SaveTool\"},{\"attributes\":{},\"id\":\"1832\",\"type\":\"UnionRenderers\"},{\"attributes\":{},\"id\":\"1744\",\"type\":\"ResetTool\"},{\"attributes\":{},\"id\":\"1833\",\"type\":\"Selection\"},{\"attributes\":{},\"id\":\"1834\",\"type\":\"UnionRenderers\"},{\"attributes\":{\"callback\":null},\"id\":\"1722\",\"type\":\"DataRange1d\"},{\"attributes\":{\"active_drag\":\"auto\",\"active_inspect\":\"auto\",\"active_multi\":null,\"active_scroll\":\"auto\",\"active_tap\":\"auto\",\"tools\":[{\"id\":\"1740\",\"type\":\"PanTool\"},{\"id\":\"1741\",\"type\":\"WheelZoomTool\"},{\"id\":\"1742\",\"type\":\"BoxZoomTool\"},{\"id\":\"1743\",\"type\":\"SaveTool\"},{\"id\":\"1744\",\"type\":\"ResetTool\"},{\"id\":\"1745\",\"type\":\"HelpTool\"},{\"id\":\"1771\",\"type\":\"HoverTool\"}]},\"id\":\"1746\",\"type\":\"Toolbar\"}],\"root_ids\":[\"1719\"]},\"title\":\"Bokeh Application\",\"version\":\"1.3.4\"}};\n",
       "  var render_items = [{\"docid\":\"bad54862-3876-40a3-a0b1-03b10a778deb\",\"roots\":{\"1719\":\"7aed08ea-4522-4f12-b2d3-909456f780ec\"}}];\n",
       "  root.Bokeh.embed.embed_items_notebook(docs_json, render_items);\n",
       "\n",
       "  }\n",
       "  if (root.Bokeh !== undefined) {\n",
       "    embed_document(root);\n",
       "  } else {\n",
       "    var attempts = 0;\n",
       "    var timer = setInterval(function(root) {\n",
       "      if (root.Bokeh !== undefined) {\n",
       "        embed_document(root);\n",
       "        clearInterval(timer);\n",
       "      }\n",
       "      attempts++;\n",
       "      if (attempts > 100) {\n",
       "        console.log(\"Bokeh: ERROR: Unable to run BokehJS code because BokehJS library is missing\");\n",
       "        clearInterval(timer);\n",
       "      }\n",
       "    }, 10, root)\n",
       "  }\n",
       "})(window);"
      ],
      "application/vnd.bokehjs_exec.v0+json": ""
     },
     "metadata": {
      "application/vnd.bokehjs_exec.v0+json": {
       "id": "1719"
      }
     },
     "output_type": "display_data"
    }
   ],
   "source": [
    "result = show_group_total(years, 'SP.RUR.TOTL', ['LDCs'])"
   ]
  },
  {
   "cell_type": "code",
   "execution_count": 9,
   "metadata": {
    "ExecuteTime": {
     "end_time": "2019-10-23T20:55:21.406405Z",
     "start_time": "2019-10-23T20:54:59.436836Z"
    },
    "slideshow": {
     "slide_type": "slide"
    }
   },
   "outputs": [
    {
     "data": {
      "text/html": [
       "\n",
       "\n",
       "\n",
       "\n",
       "\n",
       "\n",
       "  <div class=\"bk-root\" id=\"5be79b07-c050-4511-a576-43a2a175aad0\" data-root-id=\"1896\"></div>\n"
      ]
     },
     "metadata": {},
     "output_type": "display_data"
    },
    {
     "data": {
      "application/javascript": [
       "(function(root) {\n",
       "  function embed_document(root) {\n",
       "    \n",
       "  var docs_json = {\"9b3e7284-187c-4ffd-b45f-23bf71e8b298\":{\"roots\":{\"references\":[{\"attributes\":{\"below\":[{\"id\":\"1907\",\"type\":\"LinearAxis\"}],\"center\":[{\"id\":\"1911\",\"type\":\"Grid\"},{\"id\":\"1916\",\"type\":\"Grid\"},{\"id\":\"1941\",\"type\":\"Legend\"}],\"left\":[{\"id\":\"1912\",\"type\":\"LinearAxis\"}],\"plot_height\":400,\"plot_width\":950,\"renderers\":[{\"id\":\"1933\",\"type\":\"GlyphRenderer\"},{\"id\":\"1946\",\"type\":\"GlyphRenderer\"},{\"id\":\"1951\",\"type\":\"GlyphRenderer\"},{\"id\":\"1967\",\"type\":\"GlyphRenderer\"},{\"id\":\"1972\",\"type\":\"GlyphRenderer\"},{\"id\":\"1992\",\"type\":\"GlyphRenderer\"},{\"id\":\"1997\",\"type\":\"GlyphRenderer\"},{\"id\":\"2021\",\"type\":\"GlyphRenderer\"}],\"title\":{\"id\":\"1897\",\"type\":\"Title\"},\"toolbar\":{\"id\":\"1923\",\"type\":\"Toolbar\"},\"x_range\":{\"id\":\"1899\",\"type\":\"DataRange1d\"},\"x_scale\":{\"id\":\"1903\",\"type\":\"LinearScale\"},\"y_range\":{\"id\":\"1901\",\"type\":\"DataRange1d\"},\"y_scale\":{\"id\":\"1905\",\"type\":\"LinearScale\"}},\"id\":\"1896\",\"subtype\":\"Figure\",\"type\":\"Plot\"},{\"attributes\":{\"bottom_units\":\"screen\",\"fill_alpha\":{\"value\":0.5},\"fill_color\":{\"value\":\"lightgrey\"},\"left_units\":\"screen\",\"level\":\"overlay\",\"line_alpha\":{\"value\":1.0},\"line_color\":{\"value\":\"black\"},\"line_dash\":[4,4],\"line_width\":{\"value\":2},\"render_mode\":\"css\",\"right_units\":\"screen\",\"top_units\":\"screen\"},\"id\":\"1940\",\"type\":\"BoxAnnotation\"},{\"attributes\":{\"items\":[{\"id\":\"1942\",\"type\":\"LegendItem\"},{\"id\":\"1963\",\"type\":\"LegendItem\"},{\"id\":\"1988\",\"type\":\"LegendItem\"},{\"id\":\"2017\",\"type\":\"LegendItem\"}],\"location\":\"bottom_left\"},\"id\":\"1941\",\"type\":\"Legend\"},{\"attributes\":{},\"id\":\"2105\",\"type\":\"Selection\"},{\"attributes\":{\"label\":{\"value\":\"LDCs\"},\"renderers\":[{\"id\":\"1933\",\"type\":\"GlyphRenderer\"}]},\"id\":\"1942\",\"type\":\"LegendItem\"},{\"attributes\":{\"callback\":null,\"tooltips\":\"        \\n        <div style=padding=5px>Year:@x</div>\\n        <div style=padding=5px>Value:@y</div>\\n        \"},\"id\":\"2023\",\"type\":\"HoverTool\"},{\"attributes\":{},\"id\":\"2106\",\"type\":\"UnionRenderers\"},{\"attributes\":{\"text\":\"Population ages 0-14 (% of total population) weighted against Population, total\"},\"id\":\"1897\",\"type\":\"Title\"},{\"attributes\":{\"fill_alpha\":{\"value\":0.1},\"fill_color\":{\"value\":\"#1f77b4\"},\"line_alpha\":{\"value\":0.1},\"line_color\":{\"value\":\"#1f77b4\"},\"line_width\":{\"value\":3},\"x\":{\"field\":\"x\"},\"y\":{\"field\":\"y\"}},\"id\":\"2020\",\"type\":\"Circle\"},{\"attributes\":{\"source\":{\"id\":\"1930\",\"type\":\"ColumnDataSource\"}},\"id\":\"1934\",\"type\":\"CDSView\"},{\"attributes\":{\"data_source\":{\"id\":\"2018\",\"type\":\"ColumnDataSource\"},\"glyph\":{\"id\":\"2019\",\"type\":\"Circle\"},\"hover_glyph\":null,\"muted_glyph\":null,\"nonselection_glyph\":{\"id\":\"2020\",\"type\":\"Circle\"},\"selection_glyph\":null,\"view\":{\"id\":\"2022\",\"type\":\"CDSView\"}},\"id\":\"2021\",\"type\":\"GlyphRenderer\"},{\"attributes\":{},\"id\":\"1936\",\"type\":\"BasicTickFormatter\"},{\"attributes\":{},\"id\":\"1938\",\"type\":\"BasicTickFormatter\"},{\"attributes\":{\"source\":{\"id\":\"2018\",\"type\":\"ColumnDataSource\"}},\"id\":\"2022\",\"type\":\"CDSView\"},{\"attributes\":{\"label\":{\"value\":\"UMICs\"},\"renderers\":[{\"id\":\"1997\",\"type\":\"GlyphRenderer\"}]},\"id\":\"2017\",\"type\":\"LegendItem\"},{\"attributes\":{\"active_drag\":\"auto\",\"active_inspect\":\"auto\",\"active_multi\":null,\"active_scroll\":\"auto\",\"active_tap\":\"auto\",\"tools\":[{\"id\":\"1917\",\"type\":\"PanTool\"},{\"id\":\"1918\",\"type\":\"WheelZoomTool\"},{\"id\":\"1919\",\"type\":\"BoxZoomTool\"},{\"id\":\"1920\",\"type\":\"SaveTool\"},{\"id\":\"1921\",\"type\":\"ResetTool\"},{\"id\":\"1922\",\"type\":\"HelpTool\"},{\"id\":\"2023\",\"type\":\"HoverTool\"}]},\"id\":\"1923\",\"type\":\"Toolbar\"},{\"attributes\":{\"data_source\":{\"id\":\"1930\",\"type\":\"ColumnDataSource\"},\"glyph\":{\"id\":\"1931\",\"type\":\"Line\"},\"hover_glyph\":null,\"muted_glyph\":null,\"nonselection_glyph\":{\"id\":\"1932\",\"type\":\"Line\"},\"selection_glyph\":null,\"view\":{\"id\":\"1934\",\"type\":\"CDSView\"}},\"id\":\"1933\",\"type\":\"GlyphRenderer\"},{\"attributes\":{\"callback\":null,\"data\":{\"x\":[\"2000\",\"2001\",\"2002\",\"2003\",\"2004\",\"2005\",\"2006\",\"2007\",\"2008\",\"2009\",\"2010\",\"2011\",\"2012\",\"2013\",\"2014\",\"2015\",\"2016\",\"2017\"],\"y\":[26.30800939099633,25.774296102468575,25.026248850289214,24.166506585119667,23.378611198688276,22.7564057756466,22.23850077501672,21.855123550494294,21.582316836822265,21.352857582015258,21.131736385781664,20.96685520801494,20.822031831895877,20.69432052610686,20.584341818712765,20.487134501741675,20.399401670984584,20.307288003226695]},\"selected\":{\"id\":\"2107\",\"type\":\"Selection\"},\"selection_policy\":{\"id\":\"2108\",\"type\":\"UnionRenderers\"}},\"id\":\"2018\",\"type\":\"ColumnDataSource\"},{\"attributes\":{\"fill_color\":{\"value\":\"#F4CA04\"},\"line_color\":{\"value\":\"#F4CA04\"},\"line_width\":{\"value\":3},\"x\":{\"field\":\"x\"},\"y\":{\"field\":\"y\"}},\"id\":\"2019\",\"type\":\"Circle\"},{\"attributes\":{},\"id\":\"2013\",\"type\":\"UnionRenderers\"},{\"attributes\":{},\"id\":\"1920\",\"type\":\"SaveTool\"},{\"attributes\":{},\"id\":\"2014\",\"type\":\"Selection\"},{\"attributes\":{},\"id\":\"1921\",\"type\":\"ResetTool\"},{\"attributes\":{},\"id\":\"2015\",\"type\":\"UnionRenderers\"},{\"attributes\":{},\"id\":\"1922\",\"type\":\"HelpTool\"},{\"attributes\":{\"data_source\":{\"id\":\"1994\",\"type\":\"ColumnDataSource\"},\"glyph\":{\"id\":\"1995\",\"type\":\"Line\"},\"hover_glyph\":null,\"muted_glyph\":null,\"nonselection_glyph\":{\"id\":\"1996\",\"type\":\"Line\"},\"selection_glyph\":null,\"view\":{\"id\":\"1998\",\"type\":\"CDSView\"}},\"id\":\"1997\",\"type\":\"GlyphRenderer\"},{\"attributes\":{},\"id\":\"1917\",\"type\":\"PanTool\"},{\"attributes\":{},\"id\":\"1918\",\"type\":\"WheelZoomTool\"},{\"attributes\":{\"overlay\":{\"id\":\"1940\",\"type\":\"BoxAnnotation\"}},\"id\":\"1919\",\"type\":\"BoxZoomTool\"},{\"attributes\":{\"source\":{\"id\":\"1989\",\"type\":\"ColumnDataSource\"}},\"id\":\"1993\",\"type\":\"CDSView\"},{\"attributes\":{\"line_color\":\"#FA1857\",\"line_width\":2,\"x\":{\"field\":\"x\"},\"y\":{\"field\":\"y\"}},\"id\":\"1931\",\"type\":\"Line\"},{\"attributes\":{\"line_alpha\":0.1,\"line_color\":\"#1f77b4\",\"line_width\":2,\"x\":{\"field\":\"x\"},\"y\":{\"field\":\"y\"}},\"id\":\"1932\",\"type\":\"Line\"},{\"attributes\":{\"data_source\":{\"id\":\"1989\",\"type\":\"ColumnDataSource\"},\"glyph\":{\"id\":\"1990\",\"type\":\"Circle\"},\"hover_glyph\":null,\"muted_glyph\":null,\"nonselection_glyph\":{\"id\":\"1991\",\"type\":\"Circle\"},\"selection_glyph\":null,\"view\":{\"id\":\"1993\",\"type\":\"CDSView\"}},\"id\":\"1992\",\"type\":\"GlyphRenderer\"},{\"attributes\":{\"callback\":null,\"data\":{\"x\":[\"2000\",\"2001\",\"2002\",\"2003\",\"2004\",\"2005\",\"2006\",\"2007\",\"2008\",\"2009\",\"2010\",\"2011\",\"2012\",\"2013\",\"2014\",\"2015\",\"2016\",\"2017\"],\"y\":[43.05250753237409,42.92645426230383,42.78153339187954,42.623671123778905,42.4538109516677,42.26938810853834,42.15716163307373,42.02039711340489,41.86147936931502,41.68421796662147,41.49082505944,41.290660205111934,41.06737328423549,40.819736905133695,40.55543302226044,40.27763880852747,40.006149187520116,39.721083369953]},\"selected\":{\"id\":\"1958\",\"type\":\"Selection\"},\"selection_policy\":{\"id\":\"1959\",\"type\":\"UnionRenderers\"}},\"id\":\"1930\",\"type\":\"ColumnDataSource\"},{\"attributes\":{\"axis_label\":\"Percentage\",\"formatter\":{\"id\":\"1936\",\"type\":\"BasicTickFormatter\"},\"ticker\":{\"id\":\"1913\",\"type\":\"BasicTicker\"}},\"id\":\"1912\",\"type\":\"LinearAxis\"},{\"attributes\":{},\"id\":\"1913\",\"type\":\"BasicTicker\"},{\"attributes\":{\"fill_alpha\":{\"value\":0.1},\"fill_color\":{\"value\":\"#1f77b4\"},\"line_alpha\":{\"value\":0.1},\"line_color\":{\"value\":\"#1f77b4\"},\"line_width\":{\"value\":3},\"x\":{\"field\":\"x\"},\"y\":{\"field\":\"y\"}},\"id\":\"1991\",\"type\":\"Circle\"},{\"attributes\":{\"dimension\":1,\"ticker\":{\"id\":\"1913\",\"type\":\"BasicTicker\"}},\"id\":\"1916\",\"type\":\"Grid\"},{\"attributes\":{\"fill_color\":{\"value\":\"#2CC775\"},\"line_color\":{\"value\":\"#2CC775\"},\"line_width\":{\"value\":3},\"x\":{\"field\":\"x\"},\"y\":{\"field\":\"y\"}},\"id\":\"1990\",\"type\":\"Circle\"},{\"attributes\":{\"axis_label\":\"Years\",\"formatter\":{\"id\":\"1938\",\"type\":\"BasicTickFormatter\"},\"ticker\":{\"id\":\"1908\",\"type\":\"BasicTicker\"}},\"id\":\"1907\",\"type\":\"LinearAxis\"},{\"attributes\":{\"callback\":null,\"data\":{\"x\":[\"2000\",\"2001\",\"2002\",\"2003\",\"2004\",\"2005\",\"2006\",\"2007\",\"2008\",\"2009\",\"2010\",\"2011\",\"2012\",\"2013\",\"2014\",\"2015\",\"2016\",\"2017\"],\"y\":[20.653439230371426,20.415555136413452,20.200407075212425,19.99721546354425,19.792580083113325,19.58153049491419,19.42936673752946,19.266708712785178,19.10062316536645,18.940792466102835,18.78763312883592,18.68284269266012,18.553760570557017,18.4175092045611,18.28626606521173,18.163323640146963,18.042734326142373,17.93618839869138]},\"selected\":{\"id\":\"2014\",\"type\":\"Selection\"},\"selection_policy\":{\"id\":\"2015\",\"type\":\"UnionRenderers\"}},\"id\":\"1989\",\"type\":\"ColumnDataSource\"},{\"attributes\":{},\"id\":\"1908\",\"type\":\"BasicTicker\"},{\"attributes\":{\"ticker\":{\"id\":\"1908\",\"type\":\"BasicTicker\"}},\"id\":\"1911\",\"type\":\"Grid\"},{\"attributes\":{\"callback\":null},\"id\":\"1901\",\"type\":\"DataRange1d\"},{\"attributes\":{\"label\":{\"value\":\"OECD\"},\"renderers\":[{\"id\":\"1972\",\"type\":\"GlyphRenderer\"}]},\"id\":\"1988\",\"type\":\"LegendItem\"},{\"attributes\":{},\"id\":\"1903\",\"type\":\"LinearScale\"},{\"attributes\":{},\"id\":\"1905\",\"type\":\"LinearScale\"},{\"attributes\":{\"callback\":null},\"id\":\"1899\",\"type\":\"DataRange1d\"},{\"attributes\":{},\"id\":\"1986\",\"type\":\"UnionRenderers\"},{\"attributes\":{},\"id\":\"1985\",\"type\":\"Selection\"},{\"attributes\":{\"source\":{\"id\":\"1994\",\"type\":\"ColumnDataSource\"}},\"id\":\"1998\",\"type\":\"CDSView\"},{\"attributes\":{},\"id\":\"2012\",\"type\":\"Selection\"},{\"attributes\":{},\"id\":\"2107\",\"type\":\"Selection\"},{\"attributes\":{\"callback\":null,\"data\":{\"x\":[\"2000\",\"2001\",\"2002\",\"2003\",\"2004\",\"2005\",\"2006\",\"2007\",\"2008\",\"2009\",\"2010\",\"2011\",\"2012\",\"2013\",\"2014\",\"2015\",\"2016\",\"2017\"],\"y\":[26.30800939099633,25.774296102468575,25.026248850289214,24.166506585119667,23.378611198688276,22.7564057756466,22.23850077501672,21.855123550494294,21.582316836822265,21.352857582015258,21.131736385781664,20.96685520801494,20.822031831895877,20.69432052610686,20.584341818712765,20.487134501741675,20.399401670984584,20.307288003226695]},\"selected\":{\"id\":\"2105\",\"type\":\"Selection\"},\"selection_policy\":{\"id\":\"2106\",\"type\":\"UnionRenderers\"}},\"id\":\"1994\",\"type\":\"ColumnDataSource\"},{\"attributes\":{},\"id\":\"2108\",\"type\":\"UnionRenderers\"},{\"attributes\":{\"line_color\":\"#F4CA04\",\"line_width\":2,\"x\":{\"field\":\"x\"},\"y\":{\"field\":\"y\"}},\"id\":\"1995\",\"type\":\"Line\"},{\"attributes\":{\"line_alpha\":0.1,\"line_color\":\"#1f77b4\",\"line_width\":2,\"x\":{\"field\":\"x\"},\"y\":{\"field\":\"y\"}},\"id\":\"1996\",\"type\":\"Line\"},{\"attributes\":{},\"id\":\"1984\",\"type\":\"UnionRenderers\"},{\"attributes\":{\"data_source\":{\"id\":\"1969\",\"type\":\"ColumnDataSource\"},\"glyph\":{\"id\":\"1970\",\"type\":\"Line\"},\"hover_glyph\":null,\"muted_glyph\":null,\"nonselection_glyph\":{\"id\":\"1971\",\"type\":\"Line\"},\"selection_glyph\":null,\"view\":{\"id\":\"1973\",\"type\":\"CDSView\"}},\"id\":\"1972\",\"type\":\"GlyphRenderer\"},{\"attributes\":{\"source\":{\"id\":\"1969\",\"type\":\"ColumnDataSource\"}},\"id\":\"1973\",\"type\":\"CDSView\"},{\"attributes\":{\"callback\":null,\"data\":{\"x\":[\"2000\",\"2001\",\"2002\",\"2003\",\"2004\",\"2005\",\"2006\",\"2007\",\"2008\",\"2009\",\"2010\",\"2011\",\"2012\",\"2013\",\"2014\",\"2015\",\"2016\",\"2017\"],\"y\":[20.653439230371426,20.415555136413452,20.200407075212425,19.99721546354425,19.792580083113325,19.58153049491419,19.42936673752946,19.266708712785178,19.10062316536645,18.940792466102835,18.78763312883592,18.68284269266012,18.553760570557017,18.4175092045611,18.28626606521173,18.163323640146963,18.042734326142373,17.93618839869138]},\"selected\":{\"id\":\"2012\",\"type\":\"Selection\"},\"selection_policy\":{\"id\":\"2013\",\"type\":\"UnionRenderers\"}},\"id\":\"1969\",\"type\":\"ColumnDataSource\"},{\"attributes\":{},\"id\":\"1983\",\"type\":\"Selection\"},{\"attributes\":{\"line_color\":\"#2CC775\",\"line_width\":2,\"x\":{\"field\":\"x\"},\"y\":{\"field\":\"y\"}},\"id\":\"1970\",\"type\":\"Line\"},{\"attributes\":{\"line_alpha\":0.1,\"line_color\":\"#1f77b4\",\"line_width\":2,\"x\":{\"field\":\"x\"},\"y\":{\"field\":\"y\"}},\"id\":\"1971\",\"type\":\"Line\"},{\"attributes\":{\"data_source\":{\"id\":\"1948\",\"type\":\"ColumnDataSource\"},\"glyph\":{\"id\":\"1949\",\"type\":\"Line\"},\"hover_glyph\":null,\"muted_glyph\":null,\"nonselection_glyph\":{\"id\":\"1950\",\"type\":\"Line\"},\"selection_glyph\":null,\"view\":{\"id\":\"1952\",\"type\":\"CDSView\"}},\"id\":\"1951\",\"type\":\"GlyphRenderer\"},{\"attributes\":{\"line_alpha\":0.1,\"line_color\":\"#1f77b4\",\"line_width\":2,\"x\":{\"field\":\"x\"},\"y\":{\"field\":\"y\"}},\"id\":\"1950\",\"type\":\"Line\"},{\"attributes\":{\"line_color\":\"#5430F1\",\"line_width\":2,\"x\":{\"field\":\"x\"},\"y\":{\"field\":\"y\"}},\"id\":\"1949\",\"type\":\"Line\"},{\"attributes\":{\"callback\":null,\"data\":{\"x\":[\"2000\",\"2001\",\"2002\",\"2003\",\"2004\",\"2005\",\"2006\",\"2007\",\"2008\",\"2009\",\"2010\",\"2011\",\"2012\",\"2013\",\"2014\",\"2015\",\"2016\",\"2017\"],\"y\":[31.46247449723159,31.051171911215434,30.519130398965917,29.925822930439033,29.3696380683664,28.89970990346446,28.48061580116519,28.13477676517371,27.845842847927425,27.57508608250911,27.302294757124095,27.06200424509802,26.817074946864174,26.571303888699866,26.33248478028756,26.10246731610828,25.884872437055105,25.670861481196635]},\"selected\":{\"id\":\"1983\",\"type\":\"Selection\"},\"selection_policy\":{\"id\":\"1984\",\"type\":\"UnionRenderers\"}},\"id\":\"1948\",\"type\":\"ColumnDataSource\"},{\"attributes\":{\"source\":{\"id\":\"1943\",\"type\":\"ColumnDataSource\"}},\"id\":\"1947\",\"type\":\"CDSView\"},{\"attributes\":{\"data_source\":{\"id\":\"1943\",\"type\":\"ColumnDataSource\"},\"glyph\":{\"id\":\"1944\",\"type\":\"Circle\"},\"hover_glyph\":null,\"muted_glyph\":null,\"nonselection_glyph\":{\"id\":\"1945\",\"type\":\"Circle\"},\"selection_glyph\":null,\"view\":{\"id\":\"1947\",\"type\":\"CDSView\"}},\"id\":\"1946\",\"type\":\"GlyphRenderer\"},{\"attributes\":{\"fill_alpha\":{\"value\":0.1},\"fill_color\":{\"value\":\"#1f77b4\"},\"line_alpha\":{\"value\":0.1},\"line_color\":{\"value\":\"#1f77b4\"},\"line_width\":{\"value\":3},\"x\":{\"field\":\"x\"},\"y\":{\"field\":\"y\"}},\"id\":\"1945\",\"type\":\"Circle\"},{\"attributes\":{\"fill_color\":{\"value\":\"#FA1857\"},\"line_color\":{\"value\":\"#FA1857\"},\"line_width\":{\"value\":3},\"x\":{\"field\":\"x\"},\"y\":{\"field\":\"y\"}},\"id\":\"1944\",\"type\":\"Circle\"},{\"attributes\":{\"callback\":null,\"data\":{\"x\":[\"2000\",\"2001\",\"2002\",\"2003\",\"2004\",\"2005\",\"2006\",\"2007\",\"2008\",\"2009\",\"2010\",\"2011\",\"2012\",\"2013\",\"2014\",\"2015\",\"2016\",\"2017\"],\"y\":[43.05250753237409,42.92645426230383,42.78153339187954,42.623671123778905,42.4538109516677,42.26938810853834,42.15716163307373,42.02039711340489,41.86147936931502,41.68421796662147,41.49082505944,41.290660205111934,41.06737328423549,40.819736905133695,40.55543302226044,40.27763880852747,40.006149187520116,39.721083369953]},\"selected\":{\"id\":\"1960\",\"type\":\"Selection\"},\"selection_policy\":{\"id\":\"1961\",\"type\":\"UnionRenderers\"}},\"id\":\"1943\",\"type\":\"ColumnDataSource\"},{\"attributes\":{\"fill_alpha\":{\"value\":0.1},\"fill_color\":{\"value\":\"#1f77b4\"},\"line_alpha\":{\"value\":0.1},\"line_color\":{\"value\":\"#1f77b4\"},\"line_width\":{\"value\":3},\"x\":{\"field\":\"x\"},\"y\":{\"field\":\"y\"}},\"id\":\"1966\",\"type\":\"Circle\"},{\"attributes\":{\"data_source\":{\"id\":\"1964\",\"type\":\"ColumnDataSource\"},\"glyph\":{\"id\":\"1965\",\"type\":\"Circle\"},\"hover_glyph\":null,\"muted_glyph\":null,\"nonselection_glyph\":{\"id\":\"1966\",\"type\":\"Circle\"},\"selection_glyph\":null,\"view\":{\"id\":\"1968\",\"type\":\"CDSView\"}},\"id\":\"1967\",\"type\":\"GlyphRenderer\"},{\"attributes\":{\"source\":{\"id\":\"1964\",\"type\":\"ColumnDataSource\"}},\"id\":\"1968\",\"type\":\"CDSView\"},{\"attributes\":{\"label\":{\"value\":\"Developing excluding LDCs\"},\"renderers\":[{\"id\":\"1951\",\"type\":\"GlyphRenderer\"}]},\"id\":\"1963\",\"type\":\"LegendItem\"},{\"attributes\":{\"callback\":null,\"data\":{\"x\":[\"2000\",\"2001\",\"2002\",\"2003\",\"2004\",\"2005\",\"2006\",\"2007\",\"2008\",\"2009\",\"2010\",\"2011\",\"2012\",\"2013\",\"2014\",\"2015\",\"2016\",\"2017\"],\"y\":[31.46247449723159,31.051171911215434,30.519130398965917,29.925822930439033,29.3696380683664,28.89970990346446,28.48061580116519,28.13477676517371,27.845842847927425,27.57508608250911,27.302294757124095,27.06200424509802,26.817074946864174,26.571303888699866,26.33248478028756,26.10246731610828,25.884872437055105,25.670861481196635]},\"selected\":{\"id\":\"1985\",\"type\":\"Selection\"},\"selection_policy\":{\"id\":\"1986\",\"type\":\"UnionRenderers\"}},\"id\":\"1964\",\"type\":\"ColumnDataSource\"},{\"attributes\":{\"fill_color\":{\"value\":\"#5430F1\"},\"line_color\":{\"value\":\"#5430F1\"},\"line_width\":{\"value\":3},\"x\":{\"field\":\"x\"},\"y\":{\"field\":\"y\"}},\"id\":\"1965\",\"type\":\"Circle\"},{\"attributes\":{},\"id\":\"1959\",\"type\":\"UnionRenderers\"},{\"attributes\":{},\"id\":\"1960\",\"type\":\"Selection\"},{\"attributes\":{\"source\":{\"id\":\"1948\",\"type\":\"ColumnDataSource\"}},\"id\":\"1952\",\"type\":\"CDSView\"},{\"attributes\":{},\"id\":\"1961\",\"type\":\"UnionRenderers\"},{\"attributes\":{},\"id\":\"1958\",\"type\":\"Selection\"}],\"root_ids\":[\"1896\"]},\"title\":\"Bokeh Application\",\"version\":\"1.3.4\"}};\n",
       "  var render_items = [{\"docid\":\"9b3e7284-187c-4ffd-b45f-23bf71e8b298\",\"roots\":{\"1896\":\"5be79b07-c050-4511-a576-43a2a175aad0\"}}];\n",
       "  root.Bokeh.embed.embed_items_notebook(docs_json, render_items);\n",
       "\n",
       "  }\n",
       "  if (root.Bokeh !== undefined) {\n",
       "    embed_document(root);\n",
       "  } else {\n",
       "    var attempts = 0;\n",
       "    var timer = setInterval(function(root) {\n",
       "      if (root.Bokeh !== undefined) {\n",
       "        embed_document(root);\n",
       "        clearInterval(timer);\n",
       "      }\n",
       "      attempts++;\n",
       "      if (attempts > 100) {\n",
       "        console.log(\"Bokeh: ERROR: Unable to run BokehJS code because BokehJS library is missing\");\n",
       "        clearInterval(timer);\n",
       "      }\n",
       "    }, 10, root)\n",
       "  }\n",
       "})(window);"
      ],
      "application/vnd.bokehjs_exec.v0+json": ""
     },
     "metadata": {
      "application/vnd.bokehjs_exec.v0+json": {
       "id": "1896"
      }
     },
     "output_type": "display_data"
    }
   ],
   "source": [
    "years = list(map(str, list(range(2000,2018))))\n",
    "# Population 0-14\n",
    "result = show_weighted_average(years, 'SP.POP.0014.TO.ZS', 'SP.POP.TOTL', \n",
    "                               ['LDCs', 'Developing excluding LDCs', 'OECD', 'UMICs'])"
   ]
  },
  {
   "cell_type": "code",
   "execution_count": 10,
   "metadata": {
    "ExecuteTime": {
     "end_time": "2019-10-23T20:55:23.849714Z",
     "start_time": "2019-10-23T20:55:21.408487Z"
    },
    "slideshow": {
     "slide_type": "slide"
    }
   },
   "outputs": [
    {
     "data": {
      "text/html": [
       "\n",
       "\n",
       "\n",
       "\n",
       "\n",
       "\n",
       "  <div class=\"bk-root\" id=\"3a6d4b96-f503-46c7-8cc5-12aeb8dfaa1c\" data-root-id=\"2242\"></div>\n"
      ]
     },
     "metadata": {},
     "output_type": "display_data"
    },
    {
     "data": {
      "application/javascript": [
       "(function(root) {\n",
       "  function embed_document(root) {\n",
       "    \n",
       "  var docs_json = {\"c5b8e52d-8232-4477-b5b1-4fc8874e932c\":{\"roots\":{\"references\":[{\"attributes\":{\"below\":[{\"id\":\"2253\",\"type\":\"LinearAxis\"}],\"center\":[{\"id\":\"2257\",\"type\":\"Grid\"},{\"id\":\"2262\",\"type\":\"Grid\"},{\"id\":\"2287\",\"type\":\"Legend\"}],\"left\":[{\"id\":\"2258\",\"type\":\"LinearAxis\"}],\"plot_height\":400,\"plot_width\":950,\"renderers\":[{\"id\":\"2279\",\"type\":\"GlyphRenderer\"},{\"id\":\"2292\",\"type\":\"GlyphRenderer\"},{\"id\":\"2297\",\"type\":\"GlyphRenderer\"},{\"id\":\"2313\",\"type\":\"GlyphRenderer\"},{\"id\":\"2318\",\"type\":\"GlyphRenderer\"},{\"id\":\"2338\",\"type\":\"GlyphRenderer\"},{\"id\":\"2343\",\"type\":\"GlyphRenderer\"},{\"id\":\"2367\",\"type\":\"GlyphRenderer\"}],\"title\":{\"id\":\"2243\",\"type\":\"Title\"},\"toolbar\":{\"id\":\"2269\",\"type\":\"Toolbar\"},\"x_range\":{\"id\":\"2245\",\"type\":\"DataRange1d\"},\"x_scale\":{\"id\":\"2249\",\"type\":\"LinearScale\"},\"y_range\":{\"id\":\"2247\",\"type\":\"DataRange1d\"},\"y_scale\":{\"id\":\"2251\",\"type\":\"LinearScale\"}},\"id\":\"2242\",\"subtype\":\"Figure\",\"type\":\"Plot\"},{\"attributes\":{\"fill_alpha\":{\"value\":0.1},\"fill_color\":{\"value\":\"#1f77b4\"},\"line_alpha\":{\"value\":0.1},\"line_color\":{\"value\":\"#1f77b4\"},\"line_width\":{\"value\":3},\"x\":{\"field\":\"x\"},\"y\":{\"field\":\"y\"}},\"id\":\"2291\",\"type\":\"Circle\"},{\"attributes\":{\"source\":{\"id\":\"2294\",\"type\":\"ColumnDataSource\"}},\"id\":\"2298\",\"type\":\"CDSView\"},{\"attributes\":{\"fill_color\":{\"value\":\"#FA1857\"},\"line_color\":{\"value\":\"#FA1857\"},\"line_width\":{\"value\":3},\"x\":{\"field\":\"x\"},\"y\":{\"field\":\"y\"}},\"id\":\"2290\",\"type\":\"Circle\"},{\"attributes\":{\"items\":[{\"id\":\"2288\",\"type\":\"LegendItem\"},{\"id\":\"2309\",\"type\":\"LegendItem\"},{\"id\":\"2334\",\"type\":\"LegendItem\"},{\"id\":\"2363\",\"type\":\"LegendItem\"}],\"location\":\"bottom_left\"},\"id\":\"2287\",\"type\":\"Legend\"},{\"attributes\":{},\"id\":\"2284\",\"type\":\"BasicTickFormatter\"},{\"attributes\":{\"callback\":null,\"data\":{\"x\":[2020,2025,2030,2035,2040,2045,2050,2055,2060,2065,2070,2075,2080,2085,2090,2095,2100],\"y\":[1057438.163,1182376.585,1313758.882,1450358.0589999997,1590723.5140000007,1733412.6489999997,1876797.781,2019337.702000001,2159628.188,2296253.5399999996,2427682.2370000007,2552545.8049999997,2669675.032999999,2778054.0900000003,2877186.7590000005,2966790.3559999997,3046778.7830000003]},\"selected\":{\"id\":\"2306\",\"type\":\"Selection\"},\"selection_policy\":{\"id\":\"2307\",\"type\":\"UnionRenderers\"}},\"id\":\"2289\",\"type\":\"ColumnDataSource\"},{\"attributes\":{\"bottom_units\":\"screen\",\"fill_alpha\":{\"value\":0.5},\"fill_color\":{\"value\":\"lightgrey\"},\"left_units\":\"screen\",\"level\":\"overlay\",\"line_alpha\":{\"value\":1.0},\"line_color\":{\"value\":\"black\"},\"line_dash\":[4,4],\"line_width\":{\"value\":2},\"render_mode\":\"css\",\"right_units\":\"screen\",\"top_units\":\"screen\"},\"id\":\"2286\",\"type\":\"BoxAnnotation\"},{\"attributes\":{\"data_source\":{\"id\":\"2289\",\"type\":\"ColumnDataSource\"},\"glyph\":{\"id\":\"2290\",\"type\":\"Circle\"},\"hover_glyph\":null,\"muted_glyph\":null,\"nonselection_glyph\":{\"id\":\"2291\",\"type\":\"Circle\"},\"selection_glyph\":null,\"view\":{\"id\":\"2293\",\"type\":\"CDSView\"}},\"id\":\"2292\",\"type\":\"GlyphRenderer\"},{\"attributes\":{\"label\":{\"value\":\"LDCs\"},\"renderers\":[{\"id\":\"2279\",\"type\":\"GlyphRenderer\"}]},\"id\":\"2288\",\"type\":\"LegendItem\"},{\"attributes\":{},\"id\":\"2259\",\"type\":\"BasicTicker\"},{\"attributes\":{},\"id\":\"2476\",\"type\":\"UnionRenderers\"},{\"attributes\":{\"fill_color\":{\"value\":\"#F4CA04\"},\"line_color\":{\"value\":\"#F4CA04\"},\"line_width\":{\"value\":3},\"x\":{\"field\":\"x\"},\"y\":{\"field\":\"y\"}},\"id\":\"2365\",\"type\":\"Circle\"},{\"attributes\":{\"source\":{\"id\":\"2289\",\"type\":\"ColumnDataSource\"}},\"id\":\"2293\",\"type\":\"CDSView\"},{\"attributes\":{\"dimension\":1,\"ticker\":{\"id\":\"2259\",\"type\":\"BasicTicker\"}},\"id\":\"2262\",\"type\":\"Grid\"},{\"attributes\":{\"line_alpha\":0.1,\"line_color\":\"#1f77b4\",\"line_width\":2,\"x\":{\"field\":\"x\"},\"y\":{\"field\":\"y\"}},\"id\":\"2317\",\"type\":\"Line\"},{\"attributes\":{\"data_source\":{\"id\":\"2310\",\"type\":\"ColumnDataSource\"},\"glyph\":{\"id\":\"2311\",\"type\":\"Circle\"},\"hover_glyph\":null,\"muted_glyph\":null,\"nonselection_glyph\":{\"id\":\"2312\",\"type\":\"Circle\"},\"selection_glyph\":null,\"view\":{\"id\":\"2314\",\"type\":\"CDSView\"}},\"id\":\"2313\",\"type\":\"GlyphRenderer\"},{\"attributes\":{\"data_source\":{\"id\":\"2364\",\"type\":\"ColumnDataSource\"},\"glyph\":{\"id\":\"2365\",\"type\":\"Circle\"},\"hover_glyph\":null,\"muted_glyph\":null,\"nonselection_glyph\":{\"id\":\"2366\",\"type\":\"Circle\"},\"selection_glyph\":null,\"view\":{\"id\":\"2368\",\"type\":\"CDSView\"}},\"id\":\"2367\",\"type\":\"GlyphRenderer\"},{\"attributes\":{\"line_alpha\":0.1,\"line_color\":\"#1f77b4\",\"line_width\":2,\"x\":{\"field\":\"x\"},\"y\":{\"field\":\"y\"}},\"id\":\"2278\",\"type\":\"Line\"},{\"attributes\":{\"line_color\":\"#F4CA04\",\"line_width\":2,\"x\":{\"field\":\"x\"},\"y\":{\"field\":\"y\"}},\"id\":\"2341\",\"type\":\"Line\"},{\"attributes\":{\"callback\":null,\"data\":{\"x\":[2020,2025,2030,2035,2040,2045,2050,2055,2060,2065,2070,2075,2080,2085,2090,2095,2100],\"y\":[2553770.2610000004,2605055.2009999994,2639029.0200000005,2659103.228999999,2665549.994,2659647.6620000005,2641734.805,2612545.58,2574153.84,2529722.836,2481956.653,2432242.5949999993,2381460.154,2330911.3399999994,2281947.836,2234791.158999999,2187803.0989999995]},\"selected\":{\"id\":\"2475\",\"type\":\"Selection\"},\"selection_policy\":{\"id\":\"2476\",\"type\":\"UnionRenderers\"}},\"id\":\"2364\",\"type\":\"ColumnDataSource\"},{\"attributes\":{\"line_alpha\":0.1,\"line_color\":\"#1f77b4\",\"line_width\":2,\"x\":{\"field\":\"x\"},\"y\":{\"field\":\"y\"}},\"id\":\"2296\",\"type\":\"Line\"},{\"attributes\":{},\"id\":\"2330\",\"type\":\"UnionRenderers\"},{\"attributes\":{},\"id\":\"2305\",\"type\":\"UnionRenderers\"},{\"attributes\":{\"callback\":null,\"data\":{\"x\":[2020,2025,2030,2035,2040,2045,2050,2055,2060,2065,2070,2075,2080,2085,2090,2095,2100],\"y\":[912306.7240000002,924199.783,933262.5580000001,940475.6150000001,944668.037,945929.6540000001,944372.924,940125.755,933542.0040000002,925493.626,916927.8789999998,908413.484,900272.8359999999,892459.4159999999,884981.163,877749.1270000001,870615.133]},\"selected\":{\"id\":\"2360\",\"type\":\"Selection\"},\"selection_policy\":{\"id\":\"2361\",\"type\":\"UnionRenderers\"}},\"id\":\"2335\",\"type\":\"ColumnDataSource\"},{\"attributes\":{\"source\":{\"id\":\"2364\",\"type\":\"ColumnDataSource\"}},\"id\":\"2368\",\"type\":\"CDSView\"},{\"attributes\":{},\"id\":\"2360\",\"type\":\"Selection\"},{\"attributes\":{},\"id\":\"2267\",\"type\":\"ResetTool\"},{\"attributes\":{},\"id\":\"2332\",\"type\":\"UnionRenderers\"},{\"attributes\":{\"fill_alpha\":{\"value\":0.1},\"fill_color\":{\"value\":\"#1f77b4\"},\"line_alpha\":{\"value\":0.1},\"line_color\":{\"value\":\"#1f77b4\"},\"line_width\":{\"value\":3},\"x\":{\"field\":\"x\"},\"y\":{\"field\":\"y\"}},\"id\":\"2312\",\"type\":\"Circle\"},{\"attributes\":{\"fill_alpha\":{\"value\":0.1},\"fill_color\":{\"value\":\"#1f77b4\"},\"line_alpha\":{\"value\":0.1},\"line_color\":{\"value\":\"#1f77b4\"},\"line_width\":{\"value\":3},\"x\":{\"field\":\"x\"},\"y\":{\"field\":\"y\"}},\"id\":\"2337\",\"type\":\"Circle\"},{\"attributes\":{},\"id\":\"2474\",\"type\":\"UnionRenderers\"},{\"attributes\":{\"overlay\":{\"id\":\"2286\",\"type\":\"BoxAnnotation\"}},\"id\":\"2265\",\"type\":\"BoxZoomTool\"},{\"attributes\":{},\"id\":\"2268\",\"type\":\"HelpTool\"},{\"attributes\":{\"data_source\":{\"id\":\"2276\",\"type\":\"ColumnDataSource\"},\"glyph\":{\"id\":\"2277\",\"type\":\"Line\"},\"hover_glyph\":null,\"muted_glyph\":null,\"nonselection_glyph\":{\"id\":\"2278\",\"type\":\"Line\"},\"selection_glyph\":null,\"view\":{\"id\":\"2280\",\"type\":\"CDSView\"}},\"id\":\"2279\",\"type\":\"GlyphRenderer\"},{\"attributes\":{},\"id\":\"2331\",\"type\":\"Selection\"},{\"attributes\":{\"fill_color\":{\"value\":\"#5430F1\"},\"line_color\":{\"value\":\"#5430F1\"},\"line_width\":{\"value\":3},\"x\":{\"field\":\"x\"},\"y\":{\"field\":\"y\"}},\"id\":\"2311\",\"type\":\"Circle\"},{\"attributes\":{\"data_source\":{\"id\":\"2315\",\"type\":\"ColumnDataSource\"},\"glyph\":{\"id\":\"2316\",\"type\":\"Line\"},\"hover_glyph\":null,\"muted_glyph\":null,\"nonselection_glyph\":{\"id\":\"2317\",\"type\":\"Line\"},\"selection_glyph\":null,\"view\":{\"id\":\"2319\",\"type\":\"CDSView\"}},\"id\":\"2318\",\"type\":\"GlyphRenderer\"},{\"attributes\":{},\"id\":\"2264\",\"type\":\"WheelZoomTool\"},{\"attributes\":{\"source\":{\"id\":\"2276\",\"type\":\"ColumnDataSource\"}},\"id\":\"2280\",\"type\":\"CDSView\"},{\"attributes\":{\"fill_color\":{\"value\":\"#2CC775\"},\"line_color\":{\"value\":\"#2CC775\"},\"line_width\":{\"value\":3},\"x\":{\"field\":\"x\"},\"y\":{\"field\":\"y\"}},\"id\":\"2336\",\"type\":\"Circle\"},{\"attributes\":{\"callback\":null,\"data\":{\"x\":[2020,2025,2030,2035,2040,2045,2050,2055,2060,2065,2070,2075,2080,2085,2090,2095,2100],\"y\":[912306.7240000002,924199.783,933262.5580000001,940475.6150000001,944668.037,945929.6540000001,944372.924,940125.755,933542.0040000002,925493.626,916927.8789999998,908413.484,900272.8359999999,892459.4159999999,884981.163,877749.1270000001,870615.133]},\"selected\":{\"id\":\"2358\",\"type\":\"Selection\"},\"selection_policy\":{\"id\":\"2359\",\"type\":\"UnionRenderers\"}},\"id\":\"2315\",\"type\":\"ColumnDataSource\"},{\"attributes\":{\"line_color\":\"#FA1857\",\"line_width\":2,\"x\":{\"field\":\"x\"},\"y\":{\"field\":\"y\"}},\"id\":\"2277\",\"type\":\"Line\"},{\"attributes\":{},\"id\":\"2307\",\"type\":\"UnionRenderers\"},{\"attributes\":{},\"id\":\"2249\",\"type\":\"LinearScale\"},{\"attributes\":{},\"id\":\"2473\",\"type\":\"Selection\"},{\"attributes\":{},\"id\":\"2266\",\"type\":\"SaveTool\"},{\"attributes\":{\"callback\":null},\"id\":\"2247\",\"type\":\"DataRange1d\"},{\"attributes\":{},\"id\":\"2306\",\"type\":\"Selection\"},{\"attributes\":{\"callback\":null},\"id\":\"2245\",\"type\":\"DataRange1d\"},{\"attributes\":{},\"id\":\"2282\",\"type\":\"BasicTickFormatter\"},{\"attributes\":{\"label\":{\"value\":\"OECD\"},\"renderers\":[{\"id\":\"2318\",\"type\":\"GlyphRenderer\"}]},\"id\":\"2334\",\"type\":\"LegendItem\"},{\"attributes\":{\"active_drag\":\"auto\",\"active_inspect\":\"auto\",\"active_multi\":null,\"active_scroll\":\"auto\",\"active_tap\":\"auto\",\"tools\":[{\"id\":\"2263\",\"type\":\"PanTool\"},{\"id\":\"2264\",\"type\":\"WheelZoomTool\"},{\"id\":\"2265\",\"type\":\"BoxZoomTool\"},{\"id\":\"2266\",\"type\":\"SaveTool\"},{\"id\":\"2267\",\"type\":\"ResetTool\"},{\"id\":\"2268\",\"type\":\"HelpTool\"},{\"id\":\"2369\",\"type\":\"HoverTool\"}]},\"id\":\"2269\",\"type\":\"Toolbar\"},{\"attributes\":{\"label\":{\"value\":\"UMICs\"},\"renderers\":[{\"id\":\"2343\",\"type\":\"GlyphRenderer\"}]},\"id\":\"2363\",\"type\":\"LegendItem\"},{\"attributes\":{\"callback\":null,\"tooltips\":\"        \\n        <div style=padding=5px>Year:@x</div>\\n        <div style=padding=5px>Value:@y</div>\\n        \"},\"id\":\"2369\",\"type\":\"HoverTool\"},{\"attributes\":{\"callback\":null,\"data\":{\"x\":[2020,2025,2030,2035,2040,2045,2050,2055,2060,2065,2070,2075,2080,2085,2090,2095,2100],\"y\":[1057438.163,1182376.585,1313758.882,1450358.0589999997,1590723.5140000007,1733412.6489999997,1876797.781,2019337.702000001,2159628.188,2296253.5399999996,2427682.2370000007,2552545.8049999997,2669675.032999999,2778054.0900000003,2877186.7590000005,2966790.3559999997,3046778.7830000003]},\"selected\":{\"id\":\"2304\",\"type\":\"Selection\"},\"selection_policy\":{\"id\":\"2305\",\"type\":\"UnionRenderers\"}},\"id\":\"2276\",\"type\":\"ColumnDataSource\"},{\"attributes\":{\"callback\":null,\"data\":{\"x\":[2020,2025,2030,2035,2040,2045,2050,2055,2060,2065,2070,2075,2080,2085,2090,2095,2100],\"y\":[4993103.786000001,5218738.716999997,5421085.645999999,5600144.947999999,5752488.066,5878012.936,5976889.714000002,6050353.927999998,6099916.011999999,6128642.660999999,6138746.354000001,6132326.774999998,6111578.452999997,6078805.713000003,6037048.572999997,5987636.3539999975,5930332.014000001]},\"selected\":{\"id\":\"2331\",\"type\":\"Selection\"},\"selection_policy\":{\"id\":\"2332\",\"type\":\"UnionRenderers\"}},\"id\":\"2310\",\"type\":\"ColumnDataSource\"},{\"attributes\":{\"line_color\":\"#5430F1\",\"line_width\":2,\"x\":{\"field\":\"x\"},\"y\":{\"field\":\"y\"}},\"id\":\"2295\",\"type\":\"Line\"},{\"attributes\":{},\"id\":\"2475\",\"type\":\"Selection\"},{\"attributes\":{},\"id\":\"2304\",\"type\":\"Selection\"},{\"attributes\":{\"data_source\":{\"id\":\"2335\",\"type\":\"ColumnDataSource\"},\"glyph\":{\"id\":\"2336\",\"type\":\"Circle\"},\"hover_glyph\":null,\"muted_glyph\":null,\"nonselection_glyph\":{\"id\":\"2337\",\"type\":\"Circle\"},\"selection_glyph\":null,\"view\":{\"id\":\"2339\",\"type\":\"CDSView\"}},\"id\":\"2338\",\"type\":\"GlyphRenderer\"},{\"attributes\":{\"line_color\":\"#2CC775\",\"line_width\":2,\"x\":{\"field\":\"x\"},\"y\":{\"field\":\"y\"}},\"id\":\"2316\",\"type\":\"Line\"},{\"attributes\":{\"data_source\":{\"id\":\"2294\",\"type\":\"ColumnDataSource\"},\"glyph\":{\"id\":\"2295\",\"type\":\"Line\"},\"hover_glyph\":null,\"muted_glyph\":null,\"nonselection_glyph\":{\"id\":\"2296\",\"type\":\"Line\"},\"selection_glyph\":null,\"view\":{\"id\":\"2298\",\"type\":\"CDSView\"}},\"id\":\"2297\",\"type\":\"GlyphRenderer\"},{\"attributes\":{\"axis_label\":\"Years\",\"formatter\":{\"id\":\"2284\",\"type\":\"BasicTickFormatter\"},\"ticker\":{\"id\":\"2254\",\"type\":\"BasicTicker\"}},\"id\":\"2253\",\"type\":\"LinearAxis\"},{\"attributes\":{\"callback\":null,\"data\":{\"x\":[2020,2025,2030,2035,2040,2045,2050,2055,2060,2065,2070,2075,2080,2085,2090,2095,2100],\"y\":[4993103.786000001,5218738.716999997,5421085.645999999,5600144.947999999,5752488.066,5878012.936,5976889.714000002,6050353.927999998,6099916.011999999,6128642.660999999,6138746.354000001,6132326.774999998,6111578.452999997,6078805.713000003,6037048.572999997,5987636.3539999975,5930332.014000001]},\"selected\":{\"id\":\"2329\",\"type\":\"Selection\"},\"selection_policy\":{\"id\":\"2330\",\"type\":\"UnionRenderers\"}},\"id\":\"2294\",\"type\":\"ColumnDataSource\"},{\"attributes\":{},\"id\":\"2263\",\"type\":\"PanTool\"},{\"attributes\":{},\"id\":\"2251\",\"type\":\"LinearScale\"},{\"attributes\":{},\"id\":\"2329\",\"type\":\"Selection\"},{\"attributes\":{},\"id\":\"2361\",\"type\":\"UnionRenderers\"},{\"attributes\":{},\"id\":\"2359\",\"type\":\"UnionRenderers\"},{\"attributes\":{\"text\":\"Projected population, thousands\"},\"id\":\"2243\",\"type\":\"Title\"},{\"attributes\":{\"source\":{\"id\":\"2335\",\"type\":\"ColumnDataSource\"}},\"id\":\"2339\",\"type\":\"CDSView\"},{\"attributes\":{\"source\":{\"id\":\"2340\",\"type\":\"ColumnDataSource\"}},\"id\":\"2344\",\"type\":\"CDSView\"},{\"attributes\":{\"source\":{\"id\":\"2315\",\"type\":\"ColumnDataSource\"}},\"id\":\"2319\",\"type\":\"CDSView\"},{\"attributes\":{},\"id\":\"2254\",\"type\":\"BasicTicker\"},{\"attributes\":{\"line_alpha\":0.1,\"line_color\":\"#1f77b4\",\"line_width\":2,\"x\":{\"field\":\"x\"},\"y\":{\"field\":\"y\"}},\"id\":\"2342\",\"type\":\"Line\"},{\"attributes\":{\"fill_alpha\":{\"value\":0.1},\"fill_color\":{\"value\":\"#1f77b4\"},\"line_alpha\":{\"value\":0.1},\"line_color\":{\"value\":\"#1f77b4\"},\"line_width\":{\"value\":3},\"x\":{\"field\":\"x\"},\"y\":{\"field\":\"y\"}},\"id\":\"2366\",\"type\":\"Circle\"},{\"attributes\":{\"axis_label\":\"Percentage\",\"formatter\":{\"id\":\"2282\",\"type\":\"BasicTickFormatter\"},\"ticker\":{\"id\":\"2259\",\"type\":\"BasicTicker\"}},\"id\":\"2258\",\"type\":\"LinearAxis\"},{\"attributes\":{\"callback\":null,\"data\":{\"x\":[2020,2025,2030,2035,2040,2045,2050,2055,2060,2065,2070,2075,2080,2085,2090,2095,2100],\"y\":[2553770.2610000004,2605055.2009999994,2639029.0200000005,2659103.228999999,2665549.994,2659647.6620000005,2641734.805,2612545.58,2574153.84,2529722.836,2481956.653,2432242.5949999993,2381460.154,2330911.3399999994,2281947.836,2234791.158999999,2187803.0989999995]},\"selected\":{\"id\":\"2473\",\"type\":\"Selection\"},\"selection_policy\":{\"id\":\"2474\",\"type\":\"UnionRenderers\"}},\"id\":\"2340\",\"type\":\"ColumnDataSource\"},{\"attributes\":{\"ticker\":{\"id\":\"2254\",\"type\":\"BasicTicker\"}},\"id\":\"2257\",\"type\":\"Grid\"},{\"attributes\":{\"data_source\":{\"id\":\"2340\",\"type\":\"ColumnDataSource\"},\"glyph\":{\"id\":\"2341\",\"type\":\"Line\"},\"hover_glyph\":null,\"muted_glyph\":null,\"nonselection_glyph\":{\"id\":\"2342\",\"type\":\"Line\"},\"selection_glyph\":null,\"view\":{\"id\":\"2344\",\"type\":\"CDSView\"}},\"id\":\"2343\",\"type\":\"GlyphRenderer\"},{\"attributes\":{\"source\":{\"id\":\"2310\",\"type\":\"ColumnDataSource\"}},\"id\":\"2314\",\"type\":\"CDSView\"},{\"attributes\":{},\"id\":\"2358\",\"type\":\"Selection\"},{\"attributes\":{\"label\":{\"value\":\"Developing excluding LDCs\"},\"renderers\":[{\"id\":\"2297\",\"type\":\"GlyphRenderer\"}]},\"id\":\"2309\",\"type\":\"LegendItem\"}],\"root_ids\":[\"2242\"]},\"title\":\"Bokeh Application\",\"version\":\"1.3.4\"}};\n",
       "  var render_items = [{\"docid\":\"c5b8e52d-8232-4477-b5b1-4fc8874e932c\",\"roots\":{\"2242\":\"3a6d4b96-f503-46c7-8cc5-12aeb8dfaa1c\"}}];\n",
       "  root.Bokeh.embed.embed_items_notebook(docs_json, render_items);\n",
       "\n",
       "  }\n",
       "  if (root.Bokeh !== undefined) {\n",
       "    embed_document(root);\n",
       "  } else {\n",
       "    var attempts = 0;\n",
       "    var timer = setInterval(function(root) {\n",
       "      if (root.Bokeh !== undefined) {\n",
       "        embed_document(root);\n",
       "        clearInterval(timer);\n",
       "      }\n",
       "      attempts++;\n",
       "      if (attempts > 100) {\n",
       "        console.log(\"Bokeh: ERROR: Unable to run BokehJS code because BokehJS library is missing\");\n",
       "        clearInterval(timer);\n",
       "      }\n",
       "    }, 10, root)\n",
       "  }\n",
       "})(window);"
      ],
      "application/vnd.bokehjs_exec.v0+json": ""
     },
     "metadata": {
      "application/vnd.bokehjs_exec.v0+json": {
       "id": "2242"
      }
     },
     "output_type": "display_data"
    }
   ],
   "source": [
    "show(line_chart(gpp(['LDCs', 'Developing excluding LDCs', 'OECD', 'UMICs']), \"Projected population, thousands\"))"
   ]
  },
  {
   "cell_type": "code",
   "execution_count": 11,
   "metadata": {
    "ExecuteTime": {
     "end_time": "2019-10-23T20:55:25.926036Z",
     "start_time": "2019-10-23T20:55:23.853944Z"
    },
    "slideshow": {
     "slide_type": "subslide"
    }
   },
   "outputs": [
    {
     "data": {
      "text/html": [
       "\n",
       "\n",
       "\n",
       "\n",
       "\n",
       "\n",
       "  <div class=\"bk-root\" id=\"27f86903-c651-4161-91af-90f0ef141e4c\" data-root-id=\"2610\"></div>\n"
      ]
     },
     "metadata": {},
     "output_type": "display_data"
    },
    {
     "data": {
      "application/javascript": [
       "(function(root) {\n",
       "  function embed_document(root) {\n",
       "    \n",
       "  var docs_json = {\"f7aaa0bb-bb8f-4e66-af70-579348ca549d\":{\"roots\":{\"references\":[{\"attributes\":{\"below\":[{\"id\":\"2621\",\"type\":\"LinearAxis\"}],\"center\":[{\"id\":\"2625\",\"type\":\"Grid\"},{\"id\":\"2630\",\"type\":\"Grid\"},{\"id\":\"2655\",\"type\":\"Legend\"}],\"left\":[{\"id\":\"2626\",\"type\":\"LinearAxis\"}],\"plot_height\":400,\"plot_width\":950,\"renderers\":[{\"id\":\"2647\",\"type\":\"GlyphRenderer\"},{\"id\":\"2660\",\"type\":\"GlyphRenderer\"},{\"id\":\"2665\",\"type\":\"GlyphRenderer\"},{\"id\":\"2681\",\"type\":\"GlyphRenderer\"},{\"id\":\"2686\",\"type\":\"GlyphRenderer\"},{\"id\":\"2706\",\"type\":\"GlyphRenderer\"}],\"title\":{\"id\":\"2611\",\"type\":\"Title\"},\"toolbar\":{\"id\":\"2637\",\"type\":\"Toolbar\"},\"x_range\":{\"id\":\"2613\",\"type\":\"DataRange1d\"},\"x_scale\":{\"id\":\"2617\",\"type\":\"LinearScale\"},\"y_range\":{\"id\":\"2615\",\"type\":\"DataRange1d\"},\"y_scale\":{\"id\":\"2619\",\"type\":\"LinearScale\"}},\"id\":\"2610\",\"subtype\":\"Figure\",\"type\":\"Plot\"},{\"attributes\":{\"line_alpha\":0.1,\"line_color\":\"#1f77b4\",\"line_width\":2,\"x\":{\"field\":\"x\"},\"y\":{\"field\":\"y\"}},\"id\":\"2646\",\"type\":\"Line\"},{\"attributes\":{\"data_source\":{\"id\":\"2644\",\"type\":\"ColumnDataSource\"},\"glyph\":{\"id\":\"2645\",\"type\":\"Line\"},\"hover_glyph\":null,\"muted_glyph\":null,\"nonselection_glyph\":{\"id\":\"2646\",\"type\":\"Line\"},\"selection_glyph\":null,\"view\":{\"id\":\"2648\",\"type\":\"CDSView\"}},\"id\":\"2647\",\"type\":\"GlyphRenderer\"},{\"attributes\":{\"fill_alpha\":{\"value\":0.1},\"fill_color\":{\"value\":\"#1f77b4\"},\"line_alpha\":{\"value\":0.1},\"line_color\":{\"value\":\"#1f77b4\"},\"line_width\":{\"value\":3},\"x\":{\"field\":\"x\"},\"y\":{\"field\":\"y\"}},\"id\":\"2680\",\"type\":\"Circle\"},{\"attributes\":{},\"id\":\"2617\",\"type\":\"LinearScale\"},{\"attributes\":{},\"id\":\"2833\",\"type\":\"UnionRenderers\"},{\"attributes\":{\"line_alpha\":0.1,\"line_color\":\"#1f77b4\",\"line_width\":2,\"x\":{\"field\":\"x\"},\"y\":{\"field\":\"y\"}},\"id\":\"2664\",\"type\":\"Line\"},{\"attributes\":{\"data_source\":{\"id\":\"2678\",\"type\":\"ColumnDataSource\"},\"glyph\":{\"id\":\"2679\",\"type\":\"Circle\"},\"hover_glyph\":null,\"muted_glyph\":null,\"nonselection_glyph\":{\"id\":\"2680\",\"type\":\"Circle\"},\"selection_glyph\":null,\"view\":{\"id\":\"2682\",\"type\":\"CDSView\"}},\"id\":\"2681\",\"type\":\"GlyphRenderer\"},{\"attributes\":{},\"id\":\"2619\",\"type\":\"LinearScale\"},{\"attributes\":{\"source\":{\"id\":\"2644\",\"type\":\"ColumnDataSource\"}},\"id\":\"2648\",\"type\":\"CDSView\"},{\"attributes\":{},\"id\":\"2650\",\"type\":\"BasicTickFormatter\"},{\"attributes\":{\"source\":{\"id\":\"2678\",\"type\":\"ColumnDataSource\"}},\"id\":\"2682\",\"type\":\"CDSView\"},{\"attributes\":{\"axis_label\":\"Years\",\"formatter\":{\"id\":\"2652\",\"type\":\"BasicTickFormatter\"},\"ticker\":{\"id\":\"2622\",\"type\":\"BasicTicker\"}},\"id\":\"2621\",\"type\":\"LinearAxis\"},{\"attributes\":{\"data_source\":{\"id\":\"2662\",\"type\":\"ColumnDataSource\"},\"glyph\":{\"id\":\"2663\",\"type\":\"Line\"},\"hover_glyph\":null,\"muted_glyph\":null,\"nonselection_glyph\":{\"id\":\"2664\",\"type\":\"Line\"},\"selection_glyph\":null,\"view\":{\"id\":\"2666\",\"type\":\"CDSView\"}},\"id\":\"2665\",\"type\":\"GlyphRenderer\"},{\"attributes\":{},\"id\":\"2652\",\"type\":\"BasicTickFormatter\"},{\"attributes\":{\"callback\":null,\"data\":{\"x\":[\"2011\",\"2012\",\"2013\",\"2014\",\"2015\",\"2016\",\"2017\"],\"y\":[98.79246433133073,98.91166421847787,98.96779030929173,99.06962254043965,99.11181905005378,99.23710774713751,99.10889426005937]},\"selected\":{\"id\":\"2830\",\"type\":\"Selection\"},\"selection_policy\":{\"id\":\"2831\",\"type\":\"UnionRenderers\"}},\"id\":\"2683\",\"type\":\"ColumnDataSource\"},{\"attributes\":{},\"id\":\"2622\",\"type\":\"BasicTicker\"},{\"attributes\":{\"source\":{\"id\":\"2662\",\"type\":\"ColumnDataSource\"}},\"id\":\"2666\",\"type\":\"CDSView\"},{\"attributes\":{\"bottom_units\":\"screen\",\"fill_alpha\":{\"value\":0.5},\"fill_color\":{\"value\":\"lightgrey\"},\"left_units\":\"screen\",\"level\":\"overlay\",\"line_alpha\":{\"value\":1.0},\"line_color\":{\"value\":\"black\"},\"line_dash\":[4,4],\"line_width\":{\"value\":2},\"render_mode\":\"css\",\"right_units\":\"screen\",\"top_units\":\"screen\"},\"id\":\"2654\",\"type\":\"BoxAnnotation\"},{\"attributes\":{\"line_color\":\"#2CC775\",\"line_width\":2,\"x\":{\"field\":\"x\"},\"y\":{\"field\":\"y\"}},\"id\":\"2684\",\"type\":\"Line\"},{\"attributes\":{},\"id\":\"2636\",\"type\":\"HelpTool\"},{\"attributes\":{\"ticker\":{\"id\":\"2622\",\"type\":\"BasicTicker\"}},\"id\":\"2625\",\"type\":\"Grid\"},{\"attributes\":{},\"id\":\"2672\",\"type\":\"Selection\"},{\"attributes\":{\"line_alpha\":0.1,\"line_color\":\"#1f77b4\",\"line_width\":2,\"x\":{\"field\":\"x\"},\"y\":{\"field\":\"y\"}},\"id\":\"2685\",\"type\":\"Line\"},{\"attributes\":{},\"id\":\"2673\",\"type\":\"UnionRenderers\"},{\"attributes\":{\"axis_label\":\"Percentage\",\"formatter\":{\"id\":\"2650\",\"type\":\"BasicTickFormatter\"},\"ticker\":{\"id\":\"2627\",\"type\":\"BasicTicker\"}},\"id\":\"2626\",\"type\":\"LinearAxis\"},{\"attributes\":{\"data_source\":{\"id\":\"2683\",\"type\":\"ColumnDataSource\"},\"glyph\":{\"id\":\"2684\",\"type\":\"Line\"},\"hover_glyph\":null,\"muted_glyph\":null,\"nonselection_glyph\":{\"id\":\"2685\",\"type\":\"Line\"},\"selection_glyph\":null,\"view\":{\"id\":\"2687\",\"type\":\"CDSView\"}},\"id\":\"2686\",\"type\":\"GlyphRenderer\"},{\"attributes\":{},\"id\":\"2674\",\"type\":\"Selection\"},{\"attributes\":{},\"id\":\"2627\",\"type\":\"BasicTicker\"},{\"attributes\":{\"source\":{\"id\":\"2683\",\"type\":\"ColumnDataSource\"}},\"id\":\"2687\",\"type\":\"CDSView\"},{\"attributes\":{},\"id\":\"2675\",\"type\":\"UnionRenderers\"},{\"attributes\":{\"dimension\":1,\"ticker\":{\"id\":\"2627\",\"type\":\"BasicTicker\"}},\"id\":\"2630\",\"type\":\"Grid\"},{\"attributes\":{\"text\":\"Literacy rate, youth female (% of females ages 15-24) weighted against Population, total\"},\"id\":\"2611\",\"type\":\"Title\"},{\"attributes\":{},\"id\":\"2697\",\"type\":\"Selection\"},{\"attributes\":{\"label\":{\"value\":\"Developing excluding LDCs\"},\"renderers\":[{\"id\":\"2665\",\"type\":\"GlyphRenderer\"}]},\"id\":\"2677\",\"type\":\"LegendItem\"},{\"attributes\":{\"callback\":null},\"id\":\"2613\",\"type\":\"DataRange1d\"},{\"attributes\":{},\"id\":\"2698\",\"type\":\"UnionRenderers\"},{\"attributes\":{\"callback\":null,\"data\":{\"x\":[\"2011\",\"2012\",\"2013\",\"2014\",\"2015\",\"2016\",\"2017\"],\"y\":[86.52637049847509,90.79201280313602,89.77735203026296,93.27009066227772,99.2167206572208,99.33845058757791,90.85673268334823]},\"selected\":{\"id\":\"2699\",\"type\":\"Selection\"},\"selection_policy\":{\"id\":\"2700\",\"type\":\"UnionRenderers\"}},\"id\":\"2678\",\"type\":\"ColumnDataSource\"},{\"attributes\":{\"callback\":null,\"data\":{\"x\":[\"2011\",\"2012\",\"2013\",\"2014\",\"2015\",\"2016\",\"2017\"],\"y\":[69.73643076577738,76.28621410347083,82.34338029433856,78.83132852098582,79.67428038697987,84.88400348022606,81.7564251787433]},\"selected\":{\"id\":\"2672\",\"type\":\"Selection\"},\"selection_policy\":{\"id\":\"2673\",\"type\":\"UnionRenderers\"}},\"id\":\"2644\",\"type\":\"ColumnDataSource\"},{\"attributes\":{},\"id\":\"2699\",\"type\":\"Selection\"},{\"attributes\":{\"fill_color\":{\"value\":\"#5430F1\"},\"line_color\":{\"value\":\"#5430F1\"},\"line_width\":{\"value\":3},\"x\":{\"field\":\"x\"},\"y\":{\"field\":\"y\"}},\"id\":\"2679\",\"type\":\"Circle\"},{\"attributes\":{\"callback\":null,\"tooltips\":\"        \\n        <div style=padding=5px>Year:@x</div>\\n        <div style=padding=5px>Value:@y</div>\\n        \"},\"id\":\"2708\",\"type\":\"HoverTool\"},{\"attributes\":{},\"id\":\"2700\",\"type\":\"UnionRenderers\"},{\"attributes\":{\"data_source\":{\"id\":\"2657\",\"type\":\"ColumnDataSource\"},\"glyph\":{\"id\":\"2658\",\"type\":\"Circle\"},\"hover_glyph\":null,\"muted_glyph\":null,\"nonselection_glyph\":{\"id\":\"2659\",\"type\":\"Circle\"},\"selection_glyph\":null,\"view\":{\"id\":\"2661\",\"type\":\"CDSView\"}},\"id\":\"2660\",\"type\":\"GlyphRenderer\"},{\"attributes\":{\"callback\":null},\"id\":\"2615\",\"type\":\"DataRange1d\"},{\"attributes\":{},\"id\":\"2631\",\"type\":\"PanTool\"},{\"attributes\":{\"items\":[{\"id\":\"2656\",\"type\":\"LegendItem\"},{\"id\":\"2677\",\"type\":\"LegendItem\"},{\"id\":\"2702\",\"type\":\"LegendItem\"}],\"location\":\"bottom_left\"},\"id\":\"2655\",\"type\":\"Legend\"},{\"attributes\":{\"label\":{\"value\":\"UMICs\"},\"renderers\":[{\"id\":\"2686\",\"type\":\"GlyphRenderer\"}]},\"id\":\"2702\",\"type\":\"LegendItem\"},{\"attributes\":{\"line_color\":\"#FA1857\",\"line_width\":2,\"x\":{\"field\":\"x\"},\"y\":{\"field\":\"y\"}},\"id\":\"2645\",\"type\":\"Line\"},{\"attributes\":{\"callback\":null,\"data\":{\"x\":[\"2011\",\"2012\",\"2013\",\"2014\",\"2015\",\"2016\",\"2017\"],\"y\":[98.79246433133073,98.91166421847787,98.96779030929173,99.06962254043965,99.11181905005378,99.23710774713751,99.10889426005937]},\"selected\":{\"id\":\"2832\",\"type\":\"Selection\"},\"selection_policy\":{\"id\":\"2833\",\"type\":\"UnionRenderers\"}},\"id\":\"2703\",\"type\":\"ColumnDataSource\"},{\"attributes\":{},\"id\":\"2632\",\"type\":\"WheelZoomTool\"},{\"attributes\":{\"label\":{\"value\":\"LDCs\"},\"renderers\":[{\"id\":\"2647\",\"type\":\"GlyphRenderer\"}]},\"id\":\"2656\",\"type\":\"LegendItem\"},{\"attributes\":{\"source\":{\"id\":\"2657\",\"type\":\"ColumnDataSource\"}},\"id\":\"2661\",\"type\":\"CDSView\"},{\"attributes\":{\"overlay\":{\"id\":\"2654\",\"type\":\"BoxAnnotation\"}},\"id\":\"2633\",\"type\":\"BoxZoomTool\"},{\"attributes\":{},\"id\":\"2830\",\"type\":\"Selection\"},{\"attributes\":{\"callback\":null,\"data\":{\"x\":[\"2011\",\"2012\",\"2013\",\"2014\",\"2015\",\"2016\",\"2017\"],\"y\":[69.73643076577738,76.28621410347083,82.34338029433856,78.83132852098582,79.67428038697987,84.88400348022606,81.7564251787433]},\"selected\":{\"id\":\"2674\",\"type\":\"Selection\"},\"selection_policy\":{\"id\":\"2675\",\"type\":\"UnionRenderers\"}},\"id\":\"2657\",\"type\":\"ColumnDataSource\"},{\"attributes\":{\"fill_color\":{\"value\":\"#2CC775\"},\"line_color\":{\"value\":\"#2CC775\"},\"line_width\":{\"value\":3},\"x\":{\"field\":\"x\"},\"y\":{\"field\":\"y\"}},\"id\":\"2704\",\"type\":\"Circle\"},{\"attributes\":{},\"id\":\"2634\",\"type\":\"SaveTool\"},{\"attributes\":{\"fill_color\":{\"value\":\"#FA1857\"},\"line_color\":{\"value\":\"#FA1857\"},\"line_width\":{\"value\":3},\"x\":{\"field\":\"x\"},\"y\":{\"field\":\"y\"}},\"id\":\"2658\",\"type\":\"Circle\"},{\"attributes\":{\"fill_alpha\":{\"value\":0.1},\"fill_color\":{\"value\":\"#1f77b4\"},\"line_alpha\":{\"value\":0.1},\"line_color\":{\"value\":\"#1f77b4\"},\"line_width\":{\"value\":3},\"x\":{\"field\":\"x\"},\"y\":{\"field\":\"y\"}},\"id\":\"2705\",\"type\":\"Circle\"},{\"attributes\":{\"callback\":null,\"data\":{\"x\":[\"2011\",\"2012\",\"2013\",\"2014\",\"2015\",\"2016\",\"2017\"],\"y\":[86.52637049847509,90.79201280313602,89.77735203026296,93.27009066227772,99.2167206572208,99.33845058757791,90.85673268334823]},\"selected\":{\"id\":\"2697\",\"type\":\"Selection\"},\"selection_policy\":{\"id\":\"2698\",\"type\":\"UnionRenderers\"}},\"id\":\"2662\",\"type\":\"ColumnDataSource\"},{\"attributes\":{},\"id\":\"2635\",\"type\":\"ResetTool\"},{\"attributes\":{},\"id\":\"2831\",\"type\":\"UnionRenderers\"},{\"attributes\":{\"data_source\":{\"id\":\"2703\",\"type\":\"ColumnDataSource\"},\"glyph\":{\"id\":\"2704\",\"type\":\"Circle\"},\"hover_glyph\":null,\"muted_glyph\":null,\"nonselection_glyph\":{\"id\":\"2705\",\"type\":\"Circle\"},\"selection_glyph\":null,\"view\":{\"id\":\"2707\",\"type\":\"CDSView\"}},\"id\":\"2706\",\"type\":\"GlyphRenderer\"},{\"attributes\":{\"fill_alpha\":{\"value\":0.1},\"fill_color\":{\"value\":\"#1f77b4\"},\"line_alpha\":{\"value\":0.1},\"line_color\":{\"value\":\"#1f77b4\"},\"line_width\":{\"value\":3},\"x\":{\"field\":\"x\"},\"y\":{\"field\":\"y\"}},\"id\":\"2659\",\"type\":\"Circle\"},{\"attributes\":{\"active_drag\":\"auto\",\"active_inspect\":\"auto\",\"active_multi\":null,\"active_scroll\":\"auto\",\"active_tap\":\"auto\",\"tools\":[{\"id\":\"2631\",\"type\":\"PanTool\"},{\"id\":\"2632\",\"type\":\"WheelZoomTool\"},{\"id\":\"2633\",\"type\":\"BoxZoomTool\"},{\"id\":\"2634\",\"type\":\"SaveTool\"},{\"id\":\"2635\",\"type\":\"ResetTool\"},{\"id\":\"2636\",\"type\":\"HelpTool\"},{\"id\":\"2708\",\"type\":\"HoverTool\"}]},\"id\":\"2637\",\"type\":\"Toolbar\"},{\"attributes\":{},\"id\":\"2832\",\"type\":\"Selection\"},{\"attributes\":{\"source\":{\"id\":\"2703\",\"type\":\"ColumnDataSource\"}},\"id\":\"2707\",\"type\":\"CDSView\"},{\"attributes\":{\"line_color\":\"#5430F1\",\"line_width\":2,\"x\":{\"field\":\"x\"},\"y\":{\"field\":\"y\"}},\"id\":\"2663\",\"type\":\"Line\"}],\"root_ids\":[\"2610\"]},\"title\":\"Bokeh Application\",\"version\":\"1.3.4\"}};\n",
       "  var render_items = [{\"docid\":\"f7aaa0bb-bb8f-4e66-af70-579348ca549d\",\"roots\":{\"2610\":\"27f86903-c651-4161-91af-90f0ef141e4c\"}}];\n",
       "  root.Bokeh.embed.embed_items_notebook(docs_json, render_items);\n",
       "\n",
       "  }\n",
       "  if (root.Bokeh !== undefined) {\n",
       "    embed_document(root);\n",
       "  } else {\n",
       "    var attempts = 0;\n",
       "    var timer = setInterval(function(root) {\n",
       "      if (root.Bokeh !== undefined) {\n",
       "        embed_document(root);\n",
       "        clearInterval(timer);\n",
       "      }\n",
       "      attempts++;\n",
       "      if (attempts > 100) {\n",
       "        console.log(\"Bokeh: ERROR: Unable to run BokehJS code because BokehJS library is missing\");\n",
       "        clearInterval(timer);\n",
       "      }\n",
       "    }, 10, root)\n",
       "  }\n",
       "})(window);"
      ],
      "application/vnd.bokehjs_exec.v0+json": ""
     },
     "metadata": {
      "application/vnd.bokehjs_exec.v0+json": {
       "id": "2610"
      }
     },
     "output_type": "display_data"
    }
   ],
   "source": [
    "# Literacy rate, youth female (% of females ages 15-24)\n",
    "years = list(map(str, list(range(2011,2018))))\n",
    "result = show_weighted_average(years, 'SE.ADT.1524.LT.FE.ZS', 'SP.POP.TOTL', \n",
    "                               ['LDCs', 'Developing excluding LDCs', 'UMICs'])"
   ]
  },
  {
   "cell_type": "code",
   "execution_count": 12,
   "metadata": {
    "ExecuteTime": {
     "end_time": "2019-10-23T20:55:36.441125Z",
     "start_time": "2019-10-23T20:55:25.929931Z"
    },
    "slideshow": {
     "slide_type": "slide"
    }
   },
   "outputs": [
    {
     "data": {
      "text/html": [
       "\n",
       "\n",
       "\n",
       "\n",
       "\n",
       "\n",
       "  <div class=\"bk-root\" id=\"46b39b5a-2fc1-4969-8383-76d910212624\" data-root-id=\"2943\"></div>\n"
      ]
     },
     "metadata": {},
     "output_type": "display_data"
    },
    {
     "data": {
      "application/javascript": [
       "(function(root) {\n",
       "  function embed_document(root) {\n",
       "    \n",
       "  var docs_json = {\"7a85a8e8-e9e2-4812-bd31-9c4a25278f83\":{\"roots\":{\"references\":[{\"attributes\":{\"below\":[{\"id\":\"2954\",\"type\":\"LinearAxis\"}],\"center\":[{\"id\":\"2958\",\"type\":\"Grid\"},{\"id\":\"2963\",\"type\":\"Grid\"},{\"id\":\"2988\",\"type\":\"Legend\"}],\"left\":[{\"id\":\"2959\",\"type\":\"LinearAxis\"}],\"plot_height\":400,\"plot_width\":950,\"renderers\":[{\"id\":\"2980\",\"type\":\"GlyphRenderer\"},{\"id\":\"2993\",\"type\":\"GlyphRenderer\"},{\"id\":\"2998\",\"type\":\"GlyphRenderer\"},{\"id\":\"3014\",\"type\":\"GlyphRenderer\"},{\"id\":\"3019\",\"type\":\"GlyphRenderer\"},{\"id\":\"3039\",\"type\":\"GlyphRenderer\"}],\"title\":{\"id\":\"2944\",\"type\":\"Title\"},\"toolbar\":{\"id\":\"2970\",\"type\":\"Toolbar\"},\"x_range\":{\"id\":\"2946\",\"type\":\"DataRange1d\"},\"x_scale\":{\"id\":\"2950\",\"type\":\"LinearScale\"},\"y_range\":{\"id\":\"2948\",\"type\":\"DataRange1d\"},\"y_scale\":{\"id\":\"2952\",\"type\":\"LinearScale\"}},\"id\":\"2943\",\"subtype\":\"Figure\",\"type\":\"Plot\"},{\"attributes\":{},\"id\":\"3033\",\"type\":\"UnionRenderers\"},{\"attributes\":{\"label\":{\"value\":\"Developing excluding LDCs\"},\"renderers\":[{\"id\":\"2998\",\"type\":\"GlyphRenderer\"}]},\"id\":\"3010\",\"type\":\"LegendItem\"},{\"attributes\":{},\"id\":\"2968\",\"type\":\"ResetTool\"},{\"attributes\":{\"data_source\":{\"id\":\"3016\",\"type\":\"ColumnDataSource\"},\"glyph\":{\"id\":\"3017\",\"type\":\"Line\"},\"hover_glyph\":null,\"muted_glyph\":null,\"nonselection_glyph\":{\"id\":\"3018\",\"type\":\"Line\"},\"selection_glyph\":null,\"view\":{\"id\":\"3020\",\"type\":\"CDSView\"}},\"id\":\"3019\",\"type\":\"GlyphRenderer\"},{\"attributes\":{\"callback\":null},\"id\":\"2948\",\"type\":\"DataRange1d\"},{\"attributes\":{\"data_source\":{\"id\":\"3036\",\"type\":\"ColumnDataSource\"},\"glyph\":{\"id\":\"3037\",\"type\":\"Circle\"},\"hover_glyph\":null,\"muted_glyph\":null,\"nonselection_glyph\":{\"id\":\"3038\",\"type\":\"Circle\"},\"selection_glyph\":null,\"view\":{\"id\":\"3040\",\"type\":\"CDSView\"}},\"id\":\"3039\",\"type\":\"GlyphRenderer\"},{\"attributes\":{},\"id\":\"2969\",\"type\":\"HelpTool\"},{\"attributes\":{\"active_drag\":\"auto\",\"active_inspect\":\"auto\",\"active_multi\":null,\"active_scroll\":\"auto\",\"active_tap\":\"auto\",\"tools\":[{\"id\":\"2964\",\"type\":\"PanTool\"},{\"id\":\"2965\",\"type\":\"WheelZoomTool\"},{\"id\":\"2966\",\"type\":\"BoxZoomTool\"},{\"id\":\"2967\",\"type\":\"SaveTool\"},{\"id\":\"2968\",\"type\":\"ResetTool\"},{\"id\":\"2969\",\"type\":\"HelpTool\"},{\"id\":\"3041\",\"type\":\"HoverTool\"}]},\"id\":\"2970\",\"type\":\"Toolbar\"},{\"attributes\":{\"callback\":null,\"data\":{\"x\":[\"2000\",\"2001\",\"2002\",\"2003\",\"2004\",\"2005\",\"2006\",\"2007\",\"2008\",\"2009\",\"2010\",\"2011\",\"2012\",\"2013\",\"2014\",\"2015\",\"2016\",\"2017\"],\"y\":[80.04575550274292,80.13536831650443,80.2749830491825,80.58814768410595,80.98591935582309,81.41241391811296,82.53376279435736,82.94328127236986,83.35812838971606,83.77383345525976,84.19453320444809,84.60616451316776,85.02010336426527,85.44818985737146,85.89167410057688,86.28661161448157,86.61428373311065,86.89175663743303]},\"selected\":{\"id\":\"3181\",\"type\":\"Selection\"},\"selection_policy\":{\"id\":\"3182\",\"type\":\"UnionRenderers\"}},\"id\":\"3016\",\"type\":\"ColumnDataSource\"},{\"attributes\":{\"label\":{\"value\":\"OECD\"},\"renderers\":[{\"id\":\"3019\",\"type\":\"GlyphRenderer\"}]},\"id\":\"3035\",\"type\":\"LegendItem\"},{\"attributes\":{\"bottom_units\":\"screen\",\"fill_alpha\":{\"value\":0.5},\"fill_color\":{\"value\":\"lightgrey\"},\"left_units\":\"screen\",\"level\":\"overlay\",\"line_alpha\":{\"value\":1.0},\"line_color\":{\"value\":\"black\"},\"line_dash\":[4,4],\"line_width\":{\"value\":2},\"render_mode\":\"css\",\"right_units\":\"screen\",\"top_units\":\"screen\"},\"id\":\"2987\",\"type\":\"BoxAnnotation\"},{\"attributes\":{\"line_color\":\"#2CC775\",\"line_width\":2,\"x\":{\"field\":\"x\"},\"y\":{\"field\":\"y\"}},\"id\":\"3017\",\"type\":\"Line\"},{\"attributes\":{},\"id\":\"2965\",\"type\":\"WheelZoomTool\"},{\"attributes\":{\"line_color\":\"#5430F1\",\"line_width\":2,\"x\":{\"field\":\"x\"},\"y\":{\"field\":\"y\"}},\"id\":\"2996\",\"type\":\"Line\"},{\"attributes\":{\"overlay\":{\"id\":\"2987\",\"type\":\"BoxAnnotation\"}},\"id\":\"2966\",\"type\":\"BoxZoomTool\"},{\"attributes\":{\"text\":\"People using safely managed sanitation services (% of population) weighted against Population, total\"},\"id\":\"2944\",\"type\":\"Title\"},{\"attributes\":{\"items\":[{\"id\":\"2989\",\"type\":\"LegendItem\"},{\"id\":\"3010\",\"type\":\"LegendItem\"},{\"id\":\"3035\",\"type\":\"LegendItem\"}],\"location\":\"bottom_left\"},\"id\":\"2988\",\"type\":\"Legend\"},{\"attributes\":{\"source\":{\"id\":\"3016\",\"type\":\"ColumnDataSource\"}},\"id\":\"3020\",\"type\":\"CDSView\"},{\"attributes\":{\"callback\":null,\"data\":{\"x\":[\"2000\",\"2001\",\"2002\",\"2003\",\"2004\",\"2005\",\"2006\",\"2007\",\"2008\",\"2009\",\"2010\",\"2011\",\"2012\",\"2013\",\"2014\",\"2015\",\"2016\",\"2017\"],\"y\":[28.95024757925739,29.209016301994986,29.79844631497895,31.18696960164219,32.69297789614253,34.30733873540626,36.01016978662808,37.93187043091685,39.94500520648879,42.03012406148348,44.17895500170897,46.379028286829,48.62938786590606,50.964846617773375,53.35002880170789,55.76782165250671,58.22878123081063,60.72069424656215]},\"selected\":{\"id\":\"3032\",\"type\":\"Selection\"},\"selection_policy\":{\"id\":\"3033\",\"type\":\"UnionRenderers\"}},\"id\":\"3011\",\"type\":\"ColumnDataSource\"},{\"attributes\":{},\"id\":\"2967\",\"type\":\"SaveTool\"},{\"attributes\":{\"data_source\":{\"id\":\"3011\",\"type\":\"ColumnDataSource\"},\"glyph\":{\"id\":\"3012\",\"type\":\"Circle\"},\"hover_glyph\":null,\"muted_glyph\":null,\"nonselection_glyph\":{\"id\":\"3013\",\"type\":\"Circle\"},\"selection_glyph\":null,\"view\":{\"id\":\"3015\",\"type\":\"CDSView\"}},\"id\":\"3014\",\"type\":\"GlyphRenderer\"},{\"attributes\":{\"callback\":null,\"data\":{\"x\":[\"2000\",\"2001\",\"2002\",\"2003\",\"2004\",\"2005\",\"2006\",\"2007\",\"2008\",\"2009\",\"2010\",\"2011\",\"2012\",\"2013\",\"2014\",\"2015\",\"2016\",\"2017\"],\"y\":[28.95024757925739,29.209016301994986,29.79844631497895,31.18696960164219,32.69297789614253,34.30733873540626,36.01016978662808,37.93187043091685,39.94500520648879,42.03012406148348,44.17895500170897,46.379028286829,48.62938786590606,50.964846617773375,53.35002880170789,55.76782165250671,58.22878123081063,60.72069424656215]},\"selected\":{\"id\":\"3030\",\"type\":\"Selection\"},\"selection_policy\":{\"id\":\"3031\",\"type\":\"UnionRenderers\"}},\"id\":\"2995\",\"type\":\"ColumnDataSource\"},{\"attributes\":{\"line_color\":\"#FA1857\",\"line_width\":2,\"x\":{\"field\":\"x\"},\"y\":{\"field\":\"y\"}},\"id\":\"2978\",\"type\":\"Line\"},{\"attributes\":{},\"id\":\"3182\",\"type\":\"UnionRenderers\"},{\"attributes\":{\"source\":{\"id\":\"3011\",\"type\":\"ColumnDataSource\"}},\"id\":\"3015\",\"type\":\"CDSView\"},{\"attributes\":{\"callback\":null,\"data\":{\"x\":[\"2000\",\"2001\",\"2002\",\"2003\",\"2004\",\"2005\",\"2006\",\"2007\",\"2008\",\"2009\",\"2010\",\"2011\",\"2012\",\"2013\",\"2014\",\"2015\",\"2016\",\"2017\"],\"y\":[7.313298252489695,8.310611901533424,9.28077115926377,10.252918388064188,11.205379345323372,12.149632874228196,13.089596716542752,14.025080502459863,14.955900981807803,15.821696108471013,16.709045789768172,17.553474451435992,18.374064944696872,19.187805301854954,19.99536707307814,20.797136473512598,21.58898092737968,22.374104786870443]},\"selected\":{\"id\":\"3005\",\"type\":\"Selection\"},\"selection_policy\":{\"id\":\"3006\",\"type\":\"UnionRenderers\"}},\"id\":\"2977\",\"type\":\"ColumnDataSource\"},{\"attributes\":{\"source\":{\"id\":\"2990\",\"type\":\"ColumnDataSource\"}},\"id\":\"2994\",\"type\":\"CDSView\"},{\"attributes\":{\"fill_alpha\":{\"value\":0.1},\"fill_color\":{\"value\":\"#1f77b4\"},\"line_alpha\":{\"value\":0.1},\"line_color\":{\"value\":\"#1f77b4\"},\"line_width\":{\"value\":3},\"x\":{\"field\":\"x\"},\"y\":{\"field\":\"y\"}},\"id\":\"3013\",\"type\":\"Circle\"},{\"attributes\":{\"callback\":null,\"tooltips\":\"        \\n        <div style=padding=5px>Year:@x</div>\\n        <div style=padding=5px>Value:@y</div>\\n        \"},\"id\":\"3041\",\"type\":\"HoverTool\"},{\"attributes\":{},\"id\":\"3008\",\"type\":\"UnionRenderers\"},{\"attributes\":{},\"id\":\"3030\",\"type\":\"Selection\"},{\"attributes\":{\"axis_label\":\"Percentage\",\"formatter\":{\"id\":\"2983\",\"type\":\"BasicTickFormatter\"},\"ticker\":{\"id\":\"2960\",\"type\":\"BasicTicker\"}},\"id\":\"2959\",\"type\":\"LinearAxis\"},{\"attributes\":{},\"id\":\"3181\",\"type\":\"Selection\"},{\"attributes\":{\"data_source\":{\"id\":\"2995\",\"type\":\"ColumnDataSource\"},\"glyph\":{\"id\":\"2996\",\"type\":\"Line\"},\"hover_glyph\":null,\"muted_glyph\":null,\"nonselection_glyph\":{\"id\":\"2997\",\"type\":\"Line\"},\"selection_glyph\":null,\"view\":{\"id\":\"2999\",\"type\":\"CDSView\"}},\"id\":\"2998\",\"type\":\"GlyphRenderer\"},{\"attributes\":{\"line_alpha\":0.1,\"line_color\":\"#1f77b4\",\"line_width\":2,\"x\":{\"field\":\"x\"},\"y\":{\"field\":\"y\"}},\"id\":\"2997\",\"type\":\"Line\"},{\"attributes\":{},\"id\":\"2983\",\"type\":\"BasicTickFormatter\"},{\"attributes\":{},\"id\":\"2964\",\"type\":\"PanTool\"},{\"attributes\":{\"line_alpha\":0.1,\"line_color\":\"#1f77b4\",\"line_width\":2,\"x\":{\"field\":\"x\"},\"y\":{\"field\":\"y\"}},\"id\":\"2979\",\"type\":\"Line\"},{\"attributes\":{\"line_alpha\":0.1,\"line_color\":\"#1f77b4\",\"line_width\":2,\"x\":{\"field\":\"x\"},\"y\":{\"field\":\"y\"}},\"id\":\"3018\",\"type\":\"Line\"},{\"attributes\":{\"data_source\":{\"id\":\"2990\",\"type\":\"ColumnDataSource\"},\"glyph\":{\"id\":\"2991\",\"type\":\"Circle\"},\"hover_glyph\":null,\"muted_glyph\":null,\"nonselection_glyph\":{\"id\":\"2992\",\"type\":\"Circle\"},\"selection_glyph\":null,\"view\":{\"id\":\"2994\",\"type\":\"CDSView\"}},\"id\":\"2993\",\"type\":\"GlyphRenderer\"},{\"attributes\":{\"source\":{\"id\":\"3036\",\"type\":\"ColumnDataSource\"}},\"id\":\"3040\",\"type\":\"CDSView\"},{\"attributes\":{},\"id\":\"3005\",\"type\":\"Selection\"},{\"attributes\":{},\"id\":\"2960\",\"type\":\"BasicTicker\"},{\"attributes\":{},\"id\":\"2985\",\"type\":\"BasicTickFormatter\"},{\"attributes\":{},\"id\":\"3006\",\"type\":\"UnionRenderers\"},{\"attributes\":{\"fill_alpha\":{\"value\":0.1},\"fill_color\":{\"value\":\"#1f77b4\"},\"line_alpha\":{\"value\":0.1},\"line_color\":{\"value\":\"#1f77b4\"},\"line_width\":{\"value\":3},\"x\":{\"field\":\"x\"},\"y\":{\"field\":\"y\"}},\"id\":\"2992\",\"type\":\"Circle\"},{\"attributes\":{},\"id\":\"3032\",\"type\":\"Selection\"},{\"attributes\":{\"source\":{\"id\":\"2995\",\"type\":\"ColumnDataSource\"}},\"id\":\"2999\",\"type\":\"CDSView\"},{\"attributes\":{\"dimension\":1,\"ticker\":{\"id\":\"2960\",\"type\":\"BasicTicker\"}},\"id\":\"2963\",\"type\":\"Grid\"},{\"attributes\":{},\"id\":\"3007\",\"type\":\"Selection\"},{\"attributes\":{\"ticker\":{\"id\":\"2955\",\"type\":\"BasicTicker\"}},\"id\":\"2958\",\"type\":\"Grid\"},{\"attributes\":{\"callback\":null,\"data\":{\"x\":[\"2000\",\"2001\",\"2002\",\"2003\",\"2004\",\"2005\",\"2006\",\"2007\",\"2008\",\"2009\",\"2010\",\"2011\",\"2012\",\"2013\",\"2014\",\"2015\",\"2016\",\"2017\"],\"y\":[80.04575550274292,80.13536831650443,80.2749830491825,80.58814768410595,80.98591935582309,81.41241391811296,82.53376279435736,82.94328127236986,83.35812838971606,83.77383345525976,84.19453320444809,84.60616451316776,85.02010336426527,85.44818985737146,85.89167410057688,86.28661161448157,86.61428373311065,86.89175663743303]},\"selected\":{\"id\":\"3183\",\"type\":\"Selection\"},\"selection_policy\":{\"id\":\"3184\",\"type\":\"UnionRenderers\"}},\"id\":\"3036\",\"type\":\"ColumnDataSource\"},{\"attributes\":{},\"id\":\"3031\",\"type\":\"UnionRenderers\"},{\"attributes\":{\"fill_color\":{\"value\":\"#2CC775\"},\"line_color\":{\"value\":\"#2CC775\"},\"line_width\":{\"value\":3},\"x\":{\"field\":\"x\"},\"y\":{\"field\":\"y\"}},\"id\":\"3037\",\"type\":\"Circle\"},{\"attributes\":{\"fill_color\":{\"value\":\"#FA1857\"},\"line_color\":{\"value\":\"#FA1857\"},\"line_width\":{\"value\":3},\"x\":{\"field\":\"x\"},\"y\":{\"field\":\"y\"}},\"id\":\"2991\",\"type\":\"Circle\"},{\"attributes\":{},\"id\":\"2955\",\"type\":\"BasicTicker\"},{\"attributes\":{},\"id\":\"3184\",\"type\":\"UnionRenderers\"},{\"attributes\":{\"data_source\":{\"id\":\"2977\",\"type\":\"ColumnDataSource\"},\"glyph\":{\"id\":\"2978\",\"type\":\"Line\"},\"hover_glyph\":null,\"muted_glyph\":null,\"nonselection_glyph\":{\"id\":\"2979\",\"type\":\"Line\"},\"selection_glyph\":null,\"view\":{\"id\":\"2981\",\"type\":\"CDSView\"}},\"id\":\"2980\",\"type\":\"GlyphRenderer\"},{\"attributes\":{},\"id\":\"3183\",\"type\":\"Selection\"},{\"attributes\":{\"fill_color\":{\"value\":\"#5430F1\"},\"line_color\":{\"value\":\"#5430F1\"},\"line_width\":{\"value\":3},\"x\":{\"field\":\"x\"},\"y\":{\"field\":\"y\"}},\"id\":\"3012\",\"type\":\"Circle\"},{\"attributes\":{\"callback\":null,\"data\":{\"x\":[\"2000\",\"2001\",\"2002\",\"2003\",\"2004\",\"2005\",\"2006\",\"2007\",\"2008\",\"2009\",\"2010\",\"2011\",\"2012\",\"2013\",\"2014\",\"2015\",\"2016\",\"2017\"],\"y\":[7.313298252489695,8.310611901533424,9.28077115926377,10.252918388064188,11.205379345323372,12.149632874228196,13.089596716542752,14.025080502459863,14.955900981807803,15.821696108471013,16.709045789768172,17.553474451435992,18.374064944696872,19.187805301854954,19.99536707307814,20.797136473512598,21.58898092737968,22.374104786870443]},\"selected\":{\"id\":\"3007\",\"type\":\"Selection\"},\"selection_policy\":{\"id\":\"3008\",\"type\":\"UnionRenderers\"}},\"id\":\"2990\",\"type\":\"ColumnDataSource\"},{\"attributes\":{},\"id\":\"2952\",\"type\":\"LinearScale\"},{\"attributes\":{\"source\":{\"id\":\"2977\",\"type\":\"ColumnDataSource\"}},\"id\":\"2981\",\"type\":\"CDSView\"},{\"attributes\":{\"fill_alpha\":{\"value\":0.1},\"fill_color\":{\"value\":\"#1f77b4\"},\"line_alpha\":{\"value\":0.1},\"line_color\":{\"value\":\"#1f77b4\"},\"line_width\":{\"value\":3},\"x\":{\"field\":\"x\"},\"y\":{\"field\":\"y\"}},\"id\":\"3038\",\"type\":\"Circle\"},{\"attributes\":{},\"id\":\"2950\",\"type\":\"LinearScale\"},{\"attributes\":{\"callback\":null},\"id\":\"2946\",\"type\":\"DataRange1d\"},{\"attributes\":{\"label\":{\"value\":\"LDCs\"},\"renderers\":[{\"id\":\"2980\",\"type\":\"GlyphRenderer\"}]},\"id\":\"2989\",\"type\":\"LegendItem\"},{\"attributes\":{\"axis_label\":\"Years\",\"formatter\":{\"id\":\"2985\",\"type\":\"BasicTickFormatter\"},\"ticker\":{\"id\":\"2955\",\"type\":\"BasicTicker\"}},\"id\":\"2954\",\"type\":\"LinearAxis\"}],\"root_ids\":[\"2943\"]},\"title\":\"Bokeh Application\",\"version\":\"1.3.4\"}};\n",
       "  var render_items = [{\"docid\":\"7a85a8e8-e9e2-4812-bd31-9c4a25278f83\",\"roots\":{\"2943\":\"46b39b5a-2fc1-4969-8383-76d910212624\"}}];\n",
       "  root.Bokeh.embed.embed_items_notebook(docs_json, render_items);\n",
       "\n",
       "  }\n",
       "  if (root.Bokeh !== undefined) {\n",
       "    embed_document(root);\n",
       "  } else {\n",
       "    var attempts = 0;\n",
       "    var timer = setInterval(function(root) {\n",
       "      if (root.Bokeh !== undefined) {\n",
       "        embed_document(root);\n",
       "        clearInterval(timer);\n",
       "      }\n",
       "      attempts++;\n",
       "      if (attempts > 100) {\n",
       "        console.log(\"Bokeh: ERROR: Unable to run BokehJS code because BokehJS library is missing\");\n",
       "        clearInterval(timer);\n",
       "      }\n",
       "    }, 10, root)\n",
       "  }\n",
       "})(window);"
      ],
      "application/vnd.bokehjs_exec.v0+json": ""
     },
     "metadata": {
      "application/vnd.bokehjs_exec.v0+json": {
       "id": "2943"
      }
     },
     "output_type": "display_data"
    }
   ],
   "source": [
    "# Access to safely managed sanitation services\n",
    "years = list(map(str, list(range(2000,2018))))\n",
    "result = show_weighted_average(years, 'SH.STA.SMSS.ZS', 'SP.POP.TOTL', \n",
    "                               ['LDCs', 'Developing excluding LDCs', 'OECD']) "
   ]
  },
  {
   "cell_type": "code",
   "execution_count": 13,
   "metadata": {
    "ExecuteTime": {
     "end_time": "2019-10-23T20:55:37.973089Z",
     "start_time": "2019-10-23T20:55:36.443461Z"
    },
    "slideshow": {
     "slide_type": "slide"
    }
   },
   "outputs": [
    {
     "data": {
      "text/html": [
       "\n",
       "\n",
       "\n",
       "\n",
       "\n",
       "\n",
       "  <div class=\"bk-root\" id=\"09e29987-c739-40b0-824c-ed16beb40de8\" data-root-id=\"3294\"></div>\n"
      ]
     },
     "metadata": {},
     "output_type": "display_data"
    },
    {
     "data": {
      "application/javascript": [
       "(function(root) {\n",
       "  function embed_document(root) {\n",
       "    \n",
       "  var docs_json = {\"08ab6a6d-04dc-4ebc-86fb-56812a576492\":{\"roots\":{\"references\":[{\"attributes\":{\"below\":[{\"id\":\"3305\",\"type\":\"LinearAxis\"}],\"center\":[{\"id\":\"3309\",\"type\":\"Grid\"},{\"id\":\"3314\",\"type\":\"Grid\"},{\"id\":\"3339\",\"type\":\"Legend\"}],\"left\":[{\"id\":\"3310\",\"type\":\"LinearAxis\"}],\"plot_height\":400,\"plot_width\":950,\"renderers\":[{\"id\":\"3331\",\"type\":\"GlyphRenderer\"},{\"id\":\"3344\",\"type\":\"GlyphRenderer\"},{\"id\":\"3349\",\"type\":\"GlyphRenderer\"},{\"id\":\"3365\",\"type\":\"GlyphRenderer\"},{\"id\":\"3370\",\"type\":\"GlyphRenderer\"},{\"id\":\"3390\",\"type\":\"GlyphRenderer\"}],\"title\":{\"id\":\"3295\",\"type\":\"Title\"},\"toolbar\":{\"id\":\"3321\",\"type\":\"Toolbar\"},\"x_range\":{\"id\":\"3297\",\"type\":\"DataRange1d\"},\"x_scale\":{\"id\":\"3301\",\"type\":\"LinearScale\"},\"y_range\":{\"id\":\"3299\",\"type\":\"DataRange1d\"},\"y_scale\":{\"id\":\"3303\",\"type\":\"LinearScale\"}},\"id\":\"3294\",\"subtype\":\"Figure\",\"type\":\"Plot\"},{\"attributes\":{\"dimension\":1,\"ticker\":{\"id\":\"3311\",\"type\":\"BasicTicker\"}},\"id\":\"3314\",\"type\":\"Grid\"},{\"attributes\":{\"fill_color\":{\"value\":\"#2CC775\"},\"line_color\":{\"value\":\"#2CC775\"},\"line_width\":{\"value\":3},\"x\":{\"field\":\"x\"},\"y\":{\"field\":\"y\"}},\"id\":\"3388\",\"type\":\"Circle\"},{\"attributes\":{},\"id\":\"3301\",\"type\":\"LinearScale\"},{\"attributes\":{},\"id\":\"3303\",\"type\":\"LinearScale\"},{\"attributes\":{\"fill_alpha\":{\"value\":0.1},\"fill_color\":{\"value\":\"#1f77b4\"},\"line_alpha\":{\"value\":0.1},\"line_color\":{\"value\":\"#1f77b4\"},\"line_width\":{\"value\":3},\"x\":{\"field\":\"x\"},\"y\":{\"field\":\"y\"}},\"id\":\"3343\",\"type\":\"Circle\"},{\"attributes\":{\"callback\":null},\"id\":\"3299\",\"type\":\"DataRange1d\"},{\"attributes\":{\"axis_label\":\"Years\",\"formatter\":{\"id\":\"3336\",\"type\":\"BasicTickFormatter\"},\"ticker\":{\"id\":\"3306\",\"type\":\"BasicTicker\"}},\"id\":\"3305\",\"type\":\"LinearAxis\"},{\"attributes\":{\"line_color\":\"#2CC775\",\"line_width\":2,\"x\":{\"field\":\"x\"},\"y\":{\"field\":\"y\"}},\"id\":\"3368\",\"type\":\"Line\"},{\"attributes\":{\"callback\":null},\"id\":\"3297\",\"type\":\"DataRange1d\"},{\"attributes\":{\"text\":\"School enrollment, tertiary (% gross) weighted against Population, total\"},\"id\":\"3295\",\"type\":\"Title\"},{\"attributes\":{},\"id\":\"3306\",\"type\":\"BasicTicker\"},{\"attributes\":{\"fill_color\":{\"value\":\"#FA1857\"},\"line_color\":{\"value\":\"#FA1857\"},\"line_width\":{\"value\":3},\"x\":{\"field\":\"x\"},\"y\":{\"field\":\"y\"}},\"id\":\"3342\",\"type\":\"Circle\"},{\"attributes\":{\"label\":{\"value\":\"UMICs\"},\"renderers\":[{\"id\":\"3370\",\"type\":\"GlyphRenderer\"}]},\"id\":\"3386\",\"type\":\"LegendItem\"},{\"attributes\":{\"bottom_units\":\"screen\",\"fill_alpha\":{\"value\":0.5},\"fill_color\":{\"value\":\"lightgrey\"},\"left_units\":\"screen\",\"level\":\"overlay\",\"line_alpha\":{\"value\":1.0},\"line_color\":{\"value\":\"black\"},\"line_dash\":[4,4],\"line_width\":{\"value\":2},\"render_mode\":\"css\",\"right_units\":\"screen\",\"top_units\":\"screen\"},\"id\":\"3338\",\"type\":\"BoxAnnotation\"},{\"attributes\":{\"data_source\":{\"id\":\"3367\",\"type\":\"ColumnDataSource\"},\"glyph\":{\"id\":\"3368\",\"type\":\"Line\"},\"hover_glyph\":null,\"muted_glyph\":null,\"nonselection_glyph\":{\"id\":\"3369\",\"type\":\"Line\"},\"selection_glyph\":null,\"view\":{\"id\":\"3371\",\"type\":\"CDSView\"}},\"id\":\"3370\",\"type\":\"GlyphRenderer\"},{\"attributes\":{},\"id\":\"3551\",\"type\":\"UnionRenderers\"},{\"attributes\":{\"line_color\":\"#5430F1\",\"line_width\":2,\"x\":{\"field\":\"x\"},\"y\":{\"field\":\"y\"}},\"id\":\"3347\",\"type\":\"Line\"},{\"attributes\":{\"line_color\":\"#FA1857\",\"line_width\":2,\"x\":{\"field\":\"x\"},\"y\":{\"field\":\"y\"}},\"id\":\"3329\",\"type\":\"Line\"},{\"attributes\":{},\"id\":\"3381\",\"type\":\"Selection\"},{\"attributes\":{},\"id\":\"3553\",\"type\":\"UnionRenderers\"},{\"attributes\":{\"line_alpha\":0.1,\"line_color\":\"#1f77b4\",\"line_width\":2,\"x\":{\"field\":\"x\"},\"y\":{\"field\":\"y\"}},\"id\":\"3330\",\"type\":\"Line\"},{\"attributes\":{\"source\":{\"id\":\"3341\",\"type\":\"ColumnDataSource\"}},\"id\":\"3345\",\"type\":\"CDSView\"},{\"attributes\":{\"callback\":null,\"tooltips\":\"        \\n        <div style=padding=5px>Year:@x</div>\\n        <div style=padding=5px>Value:@y</div>\\n        \"},\"id\":\"3392\",\"type\":\"HoverTool\"},{\"attributes\":{},\"id\":\"3319\",\"type\":\"ResetTool\"},{\"attributes\":{\"callback\":null,\"data\":{\"x\":[\"2010\",\"2011\",\"2012\",\"2013\",\"2014\"],\"y\":[29.578342099714497,35.0387071416137,36.79347919201178,39.400822883016104,45.87742349232858]},\"selected\":{\"id\":\"3550\",\"type\":\"Selection\"},\"selection_policy\":{\"id\":\"3551\",\"type\":\"UnionRenderers\"}},\"id\":\"3367\",\"type\":\"ColumnDataSource\"},{\"attributes\":{\"data_source\":{\"id\":\"3346\",\"type\":\"ColumnDataSource\"},\"glyph\":{\"id\":\"3347\",\"type\":\"Line\"},\"hover_glyph\":null,\"muted_glyph\":null,\"nonselection_glyph\":{\"id\":\"3348\",\"type\":\"Line\"},\"selection_glyph\":null,\"view\":{\"id\":\"3350\",\"type\":\"CDSView\"}},\"id\":\"3349\",\"type\":\"GlyphRenderer\"},{\"attributes\":{\"callback\":null,\"data\":{\"x\":[\"2010\",\"2011\",\"2012\",\"2013\",\"2014\"],\"y\":[23.513041688550018,26.0163518298774,28.653839513727956,29.991015174173807,34.20514037096847]},\"selected\":{\"id\":\"3383\",\"type\":\"Selection\"},\"selection_policy\":{\"id\":\"3384\",\"type\":\"UnionRenderers\"}},\"id\":\"3362\",\"type\":\"ColumnDataSource\"},{\"attributes\":{},\"id\":\"3315\",\"type\":\"PanTool\"},{\"attributes\":{\"fill_alpha\":{\"value\":0.1},\"fill_color\":{\"value\":\"#1f77b4\"},\"line_alpha\":{\"value\":0.1},\"line_color\":{\"value\":\"#1f77b4\"},\"line_width\":{\"value\":3},\"x\":{\"field\":\"x\"},\"y\":{\"field\":\"y\"}},\"id\":\"3389\",\"type\":\"Circle\"},{\"attributes\":{\"data_source\":{\"id\":\"3341\",\"type\":\"ColumnDataSource\"},\"glyph\":{\"id\":\"3342\",\"type\":\"Circle\"},\"hover_glyph\":null,\"muted_glyph\":null,\"nonselection_glyph\":{\"id\":\"3343\",\"type\":\"Circle\"},\"selection_glyph\":null,\"view\":{\"id\":\"3345\",\"type\":\"CDSView\"}},\"id\":\"3344\",\"type\":\"GlyphRenderer\"},{\"attributes\":{},\"id\":\"3316\",\"type\":\"WheelZoomTool\"},{\"attributes\":{\"axis_label\":\"Percentage\",\"formatter\":{\"id\":\"3334\",\"type\":\"BasicTickFormatter\"},\"ticker\":{\"id\":\"3311\",\"type\":\"BasicTicker\"}},\"id\":\"3310\",\"type\":\"LinearAxis\"},{\"attributes\":{\"data_source\":{\"id\":\"3387\",\"type\":\"ColumnDataSource\"},\"glyph\":{\"id\":\"3388\",\"type\":\"Circle\"},\"hover_glyph\":null,\"muted_glyph\":null,\"nonselection_glyph\":{\"id\":\"3389\",\"type\":\"Circle\"},\"selection_glyph\":null,\"view\":{\"id\":\"3391\",\"type\":\"CDSView\"}},\"id\":\"3390\",\"type\":\"GlyphRenderer\"},{\"attributes\":{},\"id\":\"3357\",\"type\":\"UnionRenderers\"},{\"attributes\":{\"callback\":null,\"data\":{\"x\":[\"2010\",\"2011\",\"2012\",\"2013\",\"2014\"],\"y\":[7.216305888899169,9.238597293740812,9.286933356659,8.843198313346274,10.341316695036003]},\"selected\":{\"id\":\"3356\",\"type\":\"Selection\"},\"selection_policy\":{\"id\":\"3357\",\"type\":\"UnionRenderers\"}},\"id\":\"3328\",\"type\":\"ColumnDataSource\"},{\"attributes\":{\"source\":{\"id\":\"3362\",\"type\":\"ColumnDataSource\"}},\"id\":\"3366\",\"type\":\"CDSView\"},{\"attributes\":{},\"id\":\"3358\",\"type\":\"Selection\"},{\"attributes\":{},\"id\":\"3382\",\"type\":\"UnionRenderers\"},{\"attributes\":{},\"id\":\"3318\",\"type\":\"SaveTool\"},{\"attributes\":{},\"id\":\"3552\",\"type\":\"Selection\"},{\"attributes\":{\"label\":{\"value\":\"LDCs\"},\"renderers\":[{\"id\":\"3331\",\"type\":\"GlyphRenderer\"}]},\"id\":\"3340\",\"type\":\"LegendItem\"},{\"attributes\":{\"active_drag\":\"auto\",\"active_inspect\":\"auto\",\"active_multi\":null,\"active_scroll\":\"auto\",\"active_tap\":\"auto\",\"tools\":[{\"id\":\"3315\",\"type\":\"PanTool\"},{\"id\":\"3316\",\"type\":\"WheelZoomTool\"},{\"id\":\"3317\",\"type\":\"BoxZoomTool\"},{\"id\":\"3318\",\"type\":\"SaveTool\"},{\"id\":\"3319\",\"type\":\"ResetTool\"},{\"id\":\"3320\",\"type\":\"HelpTool\"},{\"id\":\"3392\",\"type\":\"HoverTool\"}]},\"id\":\"3321\",\"type\":\"Toolbar\"},{\"attributes\":{\"items\":[{\"id\":\"3340\",\"type\":\"LegendItem\"},{\"id\":\"3361\",\"type\":\"LegendItem\"},{\"id\":\"3386\",\"type\":\"LegendItem\"}],\"location\":\"bottom_left\"},\"id\":\"3339\",\"type\":\"Legend\"},{\"attributes\":{},\"id\":\"3384\",\"type\":\"UnionRenderers\"},{\"attributes\":{\"data_source\":{\"id\":\"3328\",\"type\":\"ColumnDataSource\"},\"glyph\":{\"id\":\"3329\",\"type\":\"Line\"},\"hover_glyph\":null,\"muted_glyph\":null,\"nonselection_glyph\":{\"id\":\"3330\",\"type\":\"Line\"},\"selection_glyph\":null,\"view\":{\"id\":\"3332\",\"type\":\"CDSView\"}},\"id\":\"3331\",\"type\":\"GlyphRenderer\"},{\"attributes\":{\"fill_alpha\":{\"value\":0.1},\"fill_color\":{\"value\":\"#1f77b4\"},\"line_alpha\":{\"value\":0.1},\"line_color\":{\"value\":\"#1f77b4\"},\"line_width\":{\"value\":3},\"x\":{\"field\":\"x\"},\"y\":{\"field\":\"y\"}},\"id\":\"3364\",\"type\":\"Circle\"},{\"attributes\":{\"line_alpha\":0.1,\"line_color\":\"#1f77b4\",\"line_width\":2,\"x\":{\"field\":\"x\"},\"y\":{\"field\":\"y\"}},\"id\":\"3369\",\"type\":\"Line\"},{\"attributes\":{\"source\":{\"id\":\"3346\",\"type\":\"ColumnDataSource\"}},\"id\":\"3350\",\"type\":\"CDSView\"},{\"attributes\":{\"fill_color\":{\"value\":\"#5430F1\"},\"line_color\":{\"value\":\"#5430F1\"},\"line_width\":{\"value\":3},\"x\":{\"field\":\"x\"},\"y\":{\"field\":\"y\"}},\"id\":\"3363\",\"type\":\"Circle\"},{\"attributes\":{\"overlay\":{\"id\":\"3338\",\"type\":\"BoxAnnotation\"}},\"id\":\"3317\",\"type\":\"BoxZoomTool\"},{\"attributes\":{},\"id\":\"3334\",\"type\":\"BasicTickFormatter\"},{\"attributes\":{},\"id\":\"3550\",\"type\":\"Selection\"},{\"attributes\":{\"callback\":null,\"data\":{\"x\":[\"2010\",\"2011\",\"2012\",\"2013\",\"2014\"],\"y\":[7.216305888899169,9.238597293740812,9.286933356659,8.843198313346274,10.341316695036003]},\"selected\":{\"id\":\"3358\",\"type\":\"Selection\"},\"selection_policy\":{\"id\":\"3359\",\"type\":\"UnionRenderers\"}},\"id\":\"3341\",\"type\":\"ColumnDataSource\"},{\"attributes\":{\"callback\":null,\"data\":{\"x\":[\"2010\",\"2011\",\"2012\",\"2013\",\"2014\"],\"y\":[29.578342099714497,35.0387071416137,36.79347919201178,39.400822883016104,45.87742349232858]},\"selected\":{\"id\":\"3552\",\"type\":\"Selection\"},\"selection_policy\":{\"id\":\"3553\",\"type\":\"UnionRenderers\"}},\"id\":\"3387\",\"type\":\"ColumnDataSource\"},{\"attributes\":{\"source\":{\"id\":\"3367\",\"type\":\"ColumnDataSource\"}},\"id\":\"3371\",\"type\":\"CDSView\"},{\"attributes\":{},\"id\":\"3320\",\"type\":\"HelpTool\"},{\"attributes\":{\"label\":{\"value\":\"Developing excluding LDCs\"},\"renderers\":[{\"id\":\"3349\",\"type\":\"GlyphRenderer\"}]},\"id\":\"3361\",\"type\":\"LegendItem\"},{\"attributes\":{\"ticker\":{\"id\":\"3306\",\"type\":\"BasicTicker\"}},\"id\":\"3309\",\"type\":\"Grid\"},{\"attributes\":{},\"id\":\"3383\",\"type\":\"Selection\"},{\"attributes\":{\"data_source\":{\"id\":\"3362\",\"type\":\"ColumnDataSource\"},\"glyph\":{\"id\":\"3363\",\"type\":\"Circle\"},\"hover_glyph\":null,\"muted_glyph\":null,\"nonselection_glyph\":{\"id\":\"3364\",\"type\":\"Circle\"},\"selection_glyph\":null,\"view\":{\"id\":\"3366\",\"type\":\"CDSView\"}},\"id\":\"3365\",\"type\":\"GlyphRenderer\"},{\"attributes\":{},\"id\":\"3336\",\"type\":\"BasicTickFormatter\"},{\"attributes\":{\"line_alpha\":0.1,\"line_color\":\"#1f77b4\",\"line_width\":2,\"x\":{\"field\":\"x\"},\"y\":{\"field\":\"y\"}},\"id\":\"3348\",\"type\":\"Line\"},{\"attributes\":{\"source\":{\"id\":\"3328\",\"type\":\"ColumnDataSource\"}},\"id\":\"3332\",\"type\":\"CDSView\"},{\"attributes\":{},\"id\":\"3359\",\"type\":\"UnionRenderers\"},{\"attributes\":{\"source\":{\"id\":\"3387\",\"type\":\"ColumnDataSource\"}},\"id\":\"3391\",\"type\":\"CDSView\"},{\"attributes\":{\"callback\":null,\"data\":{\"x\":[\"2010\",\"2011\",\"2012\",\"2013\",\"2014\"],\"y\":[23.513041688550018,26.0163518298774,28.653839513727956,29.991015174173807,34.20514037096847]},\"selected\":{\"id\":\"3381\",\"type\":\"Selection\"},\"selection_policy\":{\"id\":\"3382\",\"type\":\"UnionRenderers\"}},\"id\":\"3346\",\"type\":\"ColumnDataSource\"},{\"attributes\":{},\"id\":\"3356\",\"type\":\"Selection\"},{\"attributes\":{},\"id\":\"3311\",\"type\":\"BasicTicker\"}],\"root_ids\":[\"3294\"]},\"title\":\"Bokeh Application\",\"version\":\"1.3.4\"}};\n",
       "  var render_items = [{\"docid\":\"08ab6a6d-04dc-4ebc-86fb-56812a576492\",\"roots\":{\"3294\":\"09e29987-c739-40b0-824c-ed16beb40de8\"}}];\n",
       "  root.Bokeh.embed.embed_items_notebook(docs_json, render_items);\n",
       "\n",
       "  }\n",
       "  if (root.Bokeh !== undefined) {\n",
       "    embed_document(root);\n",
       "  } else {\n",
       "    var attempts = 0;\n",
       "    var timer = setInterval(function(root) {\n",
       "      if (root.Bokeh !== undefined) {\n",
       "        embed_document(root);\n",
       "        clearInterval(timer);\n",
       "      }\n",
       "      attempts++;\n",
       "      if (attempts > 100) {\n",
       "        console.log(\"Bokeh: ERROR: Unable to run BokehJS code because BokehJS library is missing\");\n",
       "        clearInterval(timer);\n",
       "      }\n",
       "    }, 10, root)\n",
       "  }\n",
       "})(window);"
      ],
      "application/vnd.bokehjs_exec.v0+json": ""
     },
     "metadata": {
      "application/vnd.bokehjs_exec.v0+json": {
       "id": "3294"
      }
     },
     "output_type": "display_data"
    }
   ],
   "source": [
    "# School enrollment, tertiary\n",
    "years = list(map(str, list(range(2010,2015))))\n",
    "result = show_weighted_average(years, 'SE.TER.ENRR', 'SP.POP.TOTL', \n",
    "                               ['LDCs', 'Developing excluding LDCs', 'UMICs'])"
   ]
  },
  {
   "cell_type": "code",
   "execution_count": 14,
   "metadata": {
    "ExecuteTime": {
     "end_time": "2019-10-23T20:55:39.292322Z",
     "start_time": "2019-10-23T20:55:37.975022Z"
    },
    "slideshow": {
     "slide_type": "slide"
    }
   },
   "outputs": [
    {
     "data": {
      "text/html": [
       "\n",
       "\n",
       "\n",
       "\n",
       "\n",
       "\n",
       "  <div class=\"bk-root\" id=\"c5478fcb-f21f-489c-9cd4-d559da3fd218\" data-root-id=\"3663\"></div>\n"
      ]
     },
     "metadata": {},
     "output_type": "display_data"
    },
    {
     "data": {
      "application/javascript": [
       "(function(root) {\n",
       "  function embed_document(root) {\n",
       "    \n",
       "  var docs_json = {\"4bb41818-3969-4090-b674-e806ccffa3df\":{\"roots\":{\"references\":[{\"attributes\":{\"below\":[{\"id\":\"3674\",\"type\":\"LinearAxis\"}],\"center\":[{\"id\":\"3678\",\"type\":\"Grid\"},{\"id\":\"3683\",\"type\":\"Grid\"},{\"id\":\"3708\",\"type\":\"Legend\"}],\"left\":[{\"id\":\"3679\",\"type\":\"LinearAxis\"}],\"plot_height\":400,\"plot_width\":950,\"renderers\":[{\"id\":\"3700\",\"type\":\"GlyphRenderer\"},{\"id\":\"3713\",\"type\":\"GlyphRenderer\"},{\"id\":\"3718\",\"type\":\"GlyphRenderer\"},{\"id\":\"3734\",\"type\":\"GlyphRenderer\"}],\"title\":{\"id\":\"3664\",\"type\":\"Title\"},\"toolbar\":{\"id\":\"3690\",\"type\":\"Toolbar\"},\"x_range\":{\"id\":\"3666\",\"type\":\"DataRange1d\"},\"x_scale\":{\"id\":\"3670\",\"type\":\"LinearScale\"},\"y_range\":{\"id\":\"3668\",\"type\":\"DataRange1d\"},\"y_scale\":{\"id\":\"3672\",\"type\":\"LinearScale\"}},\"id\":\"3663\",\"subtype\":\"Figure\",\"type\":\"Plot\"},{\"attributes\":{},\"id\":\"3687\",\"type\":\"SaveTool\"},{\"attributes\":{},\"id\":\"3909\",\"type\":\"UnionRenderers\"},{\"attributes\":{\"callback\":null},\"id\":\"3666\",\"type\":\"DataRange1d\"},{\"attributes\":{\"callback\":null,\"data\":{\"x\":[\"2010\",\"2011\",\"2012\",\"2013\",\"2014\"],\"y\":[97.16254832371536,92.16019298807788,94.37168223840837,92.90217775217923,95.33335755824594]},\"selected\":{\"id\":\"3908\",\"type\":\"Selection\"},\"selection_policy\":{\"id\":\"3909\",\"type\":\"UnionRenderers\"}},\"id\":\"3715\",\"type\":\"ColumnDataSource\"},{\"attributes\":{},\"id\":\"3688\",\"type\":\"ResetTool\"},{\"attributes\":{},\"id\":\"3910\",\"type\":\"Selection\"},{\"attributes\":{\"callback\":null},\"id\":\"3668\",\"type\":\"DataRange1d\"},{\"attributes\":{\"line_color\":\"#5430F1\",\"line_width\":2,\"x\":{\"field\":\"x\"},\"y\":{\"field\":\"y\"}},\"id\":\"3716\",\"type\":\"Line\"},{\"attributes\":{\"callback\":null,\"tooltips\":\"        \\n        <div style=padding=5px>Year:@x</div>\\n        <div style=padding=5px>Value:@y</div>\\n        \"},\"id\":\"3736\",\"type\":\"HoverTool\"},{\"attributes\":{},\"id\":\"3911\",\"type\":\"UnionRenderers\"},{\"attributes\":{},\"id\":\"3670\",\"type\":\"LinearScale\"},{\"attributes\":{\"fill_color\":{\"value\":\"#FA1857\"},\"line_color\":{\"value\":\"#FA1857\"},\"line_width\":{\"value\":3},\"x\":{\"field\":\"x\"},\"y\":{\"field\":\"y\"}},\"id\":\"3711\",\"type\":\"Circle\"},{\"attributes\":{\"source\":{\"id\":\"3731\",\"type\":\"ColumnDataSource\"}},\"id\":\"3735\",\"type\":\"CDSView\"},{\"attributes\":{},\"id\":\"3684\",\"type\":\"PanTool\"},{\"attributes\":{\"line_alpha\":0.1,\"line_color\":\"#1f77b4\",\"line_width\":2,\"x\":{\"field\":\"x\"},\"y\":{\"field\":\"y\"}},\"id\":\"3699\",\"type\":\"Line\"},{\"attributes\":{\"fill_alpha\":{\"value\":0.1},\"fill_color\":{\"value\":\"#1f77b4\"},\"line_alpha\":{\"value\":0.1},\"line_color\":{\"value\":\"#1f77b4\"},\"line_width\":{\"value\":3},\"x\":{\"field\":\"x\"},\"y\":{\"field\":\"y\"}},\"id\":\"3712\",\"type\":\"Circle\"},{\"attributes\":{\"source\":{\"id\":\"3710\",\"type\":\"ColumnDataSource\"}},\"id\":\"3714\",\"type\":\"CDSView\"},{\"attributes\":{},\"id\":\"3689\",\"type\":\"HelpTool\"},{\"attributes\":{\"data_source\":{\"id\":\"3710\",\"type\":\"ColumnDataSource\"},\"glyph\":{\"id\":\"3711\",\"type\":\"Circle\"},\"hover_glyph\":null,\"muted_glyph\":null,\"nonselection_glyph\":{\"id\":\"3712\",\"type\":\"Circle\"},\"selection_glyph\":null,\"view\":{\"id\":\"3714\",\"type\":\"CDSView\"}},\"id\":\"3713\",\"type\":\"GlyphRenderer\"},{\"attributes\":{},\"id\":\"3908\",\"type\":\"Selection\"},{\"attributes\":{\"items\":[{\"id\":\"3709\",\"type\":\"LegendItem\"},{\"id\":\"3730\",\"type\":\"LegendItem\"}],\"location\":\"bottom_left\"},\"id\":\"3708\",\"type\":\"Legend\"},{\"attributes\":{\"text\":\"Literacy rate, youth male (% of males ages 15-24) weighted against Population, total\"},\"id\":\"3664\",\"type\":\"Title\"},{\"attributes\":{\"data_source\":{\"id\":\"3697\",\"type\":\"ColumnDataSource\"},\"glyph\":{\"id\":\"3698\",\"type\":\"Line\"},\"hover_glyph\":null,\"muted_glyph\":null,\"nonselection_glyph\":{\"id\":\"3699\",\"type\":\"Line\"},\"selection_glyph\":null,\"view\":{\"id\":\"3701\",\"type\":\"CDSView\"}},\"id\":\"3700\",\"type\":\"GlyphRenderer\"},{\"attributes\":{\"fill_color\":{\"value\":\"#5430F1\"},\"line_color\":{\"value\":\"#5430F1\"},\"line_width\":{\"value\":3},\"x\":{\"field\":\"x\"},\"y\":{\"field\":\"y\"}},\"id\":\"3732\",\"type\":\"Circle\"},{\"attributes\":{\"active_drag\":\"auto\",\"active_inspect\":\"auto\",\"active_multi\":null,\"active_scroll\":\"auto\",\"active_tap\":\"auto\",\"tools\":[{\"id\":\"3684\",\"type\":\"PanTool\"},{\"id\":\"3685\",\"type\":\"WheelZoomTool\"},{\"id\":\"3686\",\"type\":\"BoxZoomTool\"},{\"id\":\"3687\",\"type\":\"SaveTool\"},{\"id\":\"3688\",\"type\":\"ResetTool\"},{\"id\":\"3689\",\"type\":\"HelpTool\"},{\"id\":\"3736\",\"type\":\"HoverTool\"}]},\"id\":\"3690\",\"type\":\"Toolbar\"},{\"attributes\":{\"label\":{\"value\":\"LDCs\"},\"renderers\":[{\"id\":\"3700\",\"type\":\"GlyphRenderer\"}]},\"id\":\"3709\",\"type\":\"LegendItem\"},{\"attributes\":{\"fill_alpha\":{\"value\":0.1},\"fill_color\":{\"value\":\"#1f77b4\"},\"line_alpha\":{\"value\":0.1},\"line_color\":{\"value\":\"#1f77b4\"},\"line_width\":{\"value\":3},\"x\":{\"field\":\"x\"},\"y\":{\"field\":\"y\"}},\"id\":\"3733\",\"type\":\"Circle\"},{\"attributes\":{\"overlay\":{\"id\":\"3707\",\"type\":\"BoxAnnotation\"}},\"id\":\"3686\",\"type\":\"BoxZoomTool\"},{\"attributes\":{\"callback\":null,\"data\":{\"x\":[\"2010\",\"2011\",\"2012\",\"2013\",\"2014\"],\"y\":[74.97632355784125,75.02611752268099,80.00946290801379,81.31988745347162,81.49752595333796]},\"selected\":{\"id\":\"3727\",\"type\":\"Selection\"},\"selection_policy\":{\"id\":\"3728\",\"type\":\"UnionRenderers\"}},\"id\":\"3710\",\"type\":\"ColumnDataSource\"},{\"attributes\":{\"data_source\":{\"id\":\"3731\",\"type\":\"ColumnDataSource\"},\"glyph\":{\"id\":\"3732\",\"type\":\"Circle\"},\"hover_glyph\":null,\"muted_glyph\":null,\"nonselection_glyph\":{\"id\":\"3733\",\"type\":\"Circle\"},\"selection_glyph\":null,\"view\":{\"id\":\"3735\",\"type\":\"CDSView\"}},\"id\":\"3734\",\"type\":\"GlyphRenderer\"},{\"attributes\":{},\"id\":\"3703\",\"type\":\"BasicTickFormatter\"},{\"attributes\":{},\"id\":\"3685\",\"type\":\"WheelZoomTool\"},{\"attributes\":{},\"id\":\"3728\",\"type\":\"UnionRenderers\"},{\"attributes\":{},\"id\":\"3705\",\"type\":\"BasicTickFormatter\"},{\"attributes\":{\"label\":{\"value\":\"Developing excluding LDCs\"},\"renderers\":[{\"id\":\"3718\",\"type\":\"GlyphRenderer\"}]},\"id\":\"3730\",\"type\":\"LegendItem\"},{\"attributes\":{\"bottom_units\":\"screen\",\"fill_alpha\":{\"value\":0.5},\"fill_color\":{\"value\":\"lightgrey\"},\"left_units\":\"screen\",\"level\":\"overlay\",\"line_alpha\":{\"value\":1.0},\"line_color\":{\"value\":\"black\"},\"line_dash\":[4,4],\"line_width\":{\"value\":2},\"render_mode\":\"css\",\"right_units\":\"screen\",\"top_units\":\"screen\"},\"id\":\"3707\",\"type\":\"BoxAnnotation\"},{\"attributes\":{\"callback\":null,\"data\":{\"x\":[\"2010\",\"2011\",\"2012\",\"2013\",\"2014\"],\"y\":[97.16254832371536,92.16019298807788,94.37168223840837,92.90217775217923,95.33335755824594]},\"selected\":{\"id\":\"3910\",\"type\":\"Selection\"},\"selection_policy\":{\"id\":\"3911\",\"type\":\"UnionRenderers\"}},\"id\":\"3731\",\"type\":\"ColumnDataSource\"},{\"attributes\":{\"dimension\":1,\"ticker\":{\"id\":\"3680\",\"type\":\"BasicTicker\"}},\"id\":\"3683\",\"type\":\"Grid\"},{\"attributes\":{},\"id\":\"3725\",\"type\":\"Selection\"},{\"attributes\":{\"line_color\":\"#FA1857\",\"line_width\":2,\"x\":{\"field\":\"x\"},\"y\":{\"field\":\"y\"}},\"id\":\"3698\",\"type\":\"Line\"},{\"attributes\":{\"ticker\":{\"id\":\"3675\",\"type\":\"BasicTicker\"}},\"id\":\"3678\",\"type\":\"Grid\"},{\"attributes\":{},\"id\":\"3726\",\"type\":\"UnionRenderers\"},{\"attributes\":{\"callback\":null,\"data\":{\"x\":[\"2010\",\"2011\",\"2012\",\"2013\",\"2014\"],\"y\":[74.97632355784125,75.02611752268099,80.00946290801379,81.31988745347162,81.49752595333796]},\"selected\":{\"id\":\"3725\",\"type\":\"Selection\"},\"selection_policy\":{\"id\":\"3726\",\"type\":\"UnionRenderers\"}},\"id\":\"3697\",\"type\":\"ColumnDataSource\"},{\"attributes\":{},\"id\":\"3727\",\"type\":\"Selection\"},{\"attributes\":{\"line_alpha\":0.1,\"line_color\":\"#1f77b4\",\"line_width\":2,\"x\":{\"field\":\"x\"},\"y\":{\"field\":\"y\"}},\"id\":\"3717\",\"type\":\"Line\"},{\"attributes\":{\"axis_label\":\"Percentage\",\"formatter\":{\"id\":\"3703\",\"type\":\"BasicTickFormatter\"},\"ticker\":{\"id\":\"3680\",\"type\":\"BasicTicker\"}},\"id\":\"3679\",\"type\":\"LinearAxis\"},{\"attributes\":{},\"id\":\"3672\",\"type\":\"LinearScale\"},{\"attributes\":{\"data_source\":{\"id\":\"3715\",\"type\":\"ColumnDataSource\"},\"glyph\":{\"id\":\"3716\",\"type\":\"Line\"},\"hover_glyph\":null,\"muted_glyph\":null,\"nonselection_glyph\":{\"id\":\"3717\",\"type\":\"Line\"},\"selection_glyph\":null,\"view\":{\"id\":\"3719\",\"type\":\"CDSView\"}},\"id\":\"3718\",\"type\":\"GlyphRenderer\"},{\"attributes\":{},\"id\":\"3680\",\"type\":\"BasicTicker\"},{\"attributes\":{\"source\":{\"id\":\"3697\",\"type\":\"ColumnDataSource\"}},\"id\":\"3701\",\"type\":\"CDSView\"},{\"attributes\":{\"axis_label\":\"Years\",\"formatter\":{\"id\":\"3705\",\"type\":\"BasicTickFormatter\"},\"ticker\":{\"id\":\"3675\",\"type\":\"BasicTicker\"}},\"id\":\"3674\",\"type\":\"LinearAxis\"},{\"attributes\":{\"source\":{\"id\":\"3715\",\"type\":\"ColumnDataSource\"}},\"id\":\"3719\",\"type\":\"CDSView\"},{\"attributes\":{},\"id\":\"3675\",\"type\":\"BasicTicker\"}],\"root_ids\":[\"3663\"]},\"title\":\"Bokeh Application\",\"version\":\"1.3.4\"}};\n",
       "  var render_items = [{\"docid\":\"4bb41818-3969-4090-b674-e806ccffa3df\",\"roots\":{\"3663\":\"c5478fcb-f21f-489c-9cd4-d559da3fd218\"}}];\n",
       "  root.Bokeh.embed.embed_items_notebook(docs_json, render_items);\n",
       "\n",
       "  }\n",
       "  if (root.Bokeh !== undefined) {\n",
       "    embed_document(root);\n",
       "  } else {\n",
       "    var attempts = 0;\n",
       "    var timer = setInterval(function(root) {\n",
       "      if (root.Bokeh !== undefined) {\n",
       "        embed_document(root);\n",
       "        clearInterval(timer);\n",
       "      }\n",
       "      attempts++;\n",
       "      if (attempts > 100) {\n",
       "        console.log(\"Bokeh: ERROR: Unable to run BokehJS code because BokehJS library is missing\");\n",
       "        clearInterval(timer);\n",
       "      }\n",
       "    }, 10, root)\n",
       "  }\n",
       "})(window);"
      ],
      "application/vnd.bokehjs_exec.v0+json": ""
     },
     "metadata": {
      "application/vnd.bokehjs_exec.v0+json": {
       "id": "3663"
      }
     },
     "output_type": "display_data"
    }
   ],
   "source": [
    "# Literacy rate, youth male (% of male ages 15-24)\n",
    "result = show_weighted_average(years, 'SE.ADT.1524.LT.MA.ZS', 'SP.POP.TOTL', \n",
    "                               ['LDCs', 'Developing excluding LDCs'])"
   ]
  },
  {
   "cell_type": "code",
   "execution_count": 15,
   "metadata": {
    "ExecuteTime": {
     "end_time": "2019-10-23T20:55:54.510115Z",
     "start_time": "2019-10-23T20:55:39.300273Z"
    },
    "slideshow": {
     "slide_type": "slide"
    }
   },
   "outputs": [
    {
     "data": {
      "text/html": [
       "\n",
       "\n",
       "\n",
       "\n",
       "\n",
       "\n",
       "  <div class=\"bk-root\" id=\"1cfce84a-4c60-44aa-bcf9-52734107b2b1\" data-root-id=\"3997\"></div>\n"
      ]
     },
     "metadata": {},
     "output_type": "display_data"
    },
    {
     "data": {
      "application/javascript": [
       "(function(root) {\n",
       "  function embed_document(root) {\n",
       "    \n",
       "  var docs_json = {\"3820627f-97df-4e24-a6eb-a274f77341ab\":{\"roots\":{\"references\":[{\"attributes\":{\"below\":[{\"id\":\"4008\",\"type\":\"LinearAxis\"}],\"center\":[{\"id\":\"4012\",\"type\":\"Grid\"},{\"id\":\"4017\",\"type\":\"Grid\"},{\"id\":\"4042\",\"type\":\"Legend\"}],\"left\":[{\"id\":\"4013\",\"type\":\"LinearAxis\"}],\"plot_height\":400,\"plot_width\":950,\"renderers\":[{\"id\":\"4034\",\"type\":\"GlyphRenderer\"},{\"id\":\"4047\",\"type\":\"GlyphRenderer\"},{\"id\":\"4052\",\"type\":\"GlyphRenderer\"},{\"id\":\"4068\",\"type\":\"GlyphRenderer\"}],\"title\":{\"id\":\"3998\",\"type\":\"Title\"},\"toolbar\":{\"id\":\"4024\",\"type\":\"Toolbar\"},\"x_range\":{\"id\":\"4000\",\"type\":\"DataRange1d\"},\"x_scale\":{\"id\":\"4004\",\"type\":\"LinearScale\"},\"y_range\":{\"id\":\"4002\",\"type\":\"DataRange1d\"},\"y_scale\":{\"id\":\"4006\",\"type\":\"LinearScale\"}},\"id\":\"3997\",\"subtype\":\"Figure\",\"type\":\"Plot\"},{\"attributes\":{\"dimension\":1,\"ticker\":{\"id\":\"4014\",\"type\":\"BasicTicker\"}},\"id\":\"4017\",\"type\":\"Grid\"},{\"attributes\":{\"source\":{\"id\":\"4065\",\"type\":\"ColumnDataSource\"}},\"id\":\"4069\",\"type\":\"CDSView\"},{\"attributes\":{\"fill_color\":{\"value\":\"#FA1857\"},\"line_color\":{\"value\":\"#FA1857\"},\"line_width\":{\"value\":3},\"x\":{\"field\":\"x\"},\"y\":{\"field\":\"y\"}},\"id\":\"4045\",\"type\":\"Circle\"},{\"attributes\":{\"data_source\":{\"id\":\"4065\",\"type\":\"ColumnDataSource\"},\"glyph\":{\"id\":\"4066\",\"type\":\"Circle\"},\"hover_glyph\":null,\"muted_glyph\":null,\"nonselection_glyph\":{\"id\":\"4067\",\"type\":\"Circle\"},\"selection_glyph\":null,\"view\":{\"id\":\"4069\",\"type\":\"CDSView\"}},\"id\":\"4068\",\"type\":\"GlyphRenderer\"},{\"attributes\":{\"callback\":null,\"data\":{\"x\":[\"2000\",\"2001\",\"2002\",\"2003\",\"2004\",\"2005\",\"2006\",\"2007\",\"2008\",\"2009\",\"2010\",\"2011\",\"2012\",\"2013\",\"2014\",\"2015\",\"2016\",\"2017\"],\"y\":[51.520903177485685,46.52493990984674,45.72529764000698,47.0523349681254,48.04905957142995,48.073273979200536,46.88345337680238,45.37851355945308,47.5713037782683,46.94420318527923,44.98718519250169,45.977667340832,43.49825989518141,43.05048551129662,40.19878876980604,41.85413035115011,38.496722137935755,38.768702276413286]},\"selected\":{\"id\":\"4061\",\"type\":\"Selection\"},\"selection_policy\":{\"id\":\"4062\",\"type\":\"UnionRenderers\"}},\"id\":\"4044\",\"type\":\"ColumnDataSource\"},{\"attributes\":{\"callback\":null,\"data\":{\"x\":[\"2000\",\"2001\",\"2002\",\"2003\",\"2004\",\"2005\",\"2006\",\"2007\",\"2008\",\"2009\",\"2010\",\"2011\",\"2012\",\"2013\",\"2014\",\"2015\",\"2016\",\"2017\"],\"y\":[51.520903177485685,46.52493990984674,45.72529764000698,47.0523349681254,48.04905957142995,48.073273979200536,46.88345337680238,45.37851355945308,47.5713037782683,46.94420318527923,44.98718519250169,45.977667340832,43.49825989518141,43.05048551129662,40.19878876980604,41.85413035115011,38.496722137935755,38.768702276413286]},\"selected\":{\"id\":\"4059\",\"type\":\"Selection\"},\"selection_policy\":{\"id\":\"4060\",\"type\":\"UnionRenderers\"}},\"id\":\"4031\",\"type\":\"ColumnDataSource\"},{\"attributes\":{\"fill_alpha\":{\"value\":0.1},\"fill_color\":{\"value\":\"#1f77b4\"},\"line_alpha\":{\"value\":0.1},\"line_color\":{\"value\":\"#1f77b4\"},\"line_width\":{\"value\":3},\"x\":{\"field\":\"x\"},\"y\":{\"field\":\"y\"}},\"id\":\"4046\",\"type\":\"Circle\"},{\"attributes\":{\"callback\":null,\"tooltips\":\"        \\n        <div style=padding=5px>Year:@x</div>\\n        <div style=padding=5px>Value:@y</div>\\n        \"},\"id\":\"4070\",\"type\":\"HoverTool\"},{\"attributes\":{},\"id\":\"4257\",\"type\":\"UnionRenderers\"},{\"attributes\":{\"source\":{\"id\":\"4044\",\"type\":\"ColumnDataSource\"}},\"id\":\"4048\",\"type\":\"CDSView\"},{\"attributes\":{},\"id\":\"4018\",\"type\":\"PanTool\"},{\"attributes\":{},\"id\":\"4256\",\"type\":\"Selection\"},{\"attributes\":{\"data_source\":{\"id\":\"4044\",\"type\":\"ColumnDataSource\"},\"glyph\":{\"id\":\"4045\",\"type\":\"Circle\"},\"hover_glyph\":null,\"muted_glyph\":null,\"nonselection_glyph\":{\"id\":\"4046\",\"type\":\"Circle\"},\"selection_glyph\":null,\"view\":{\"id\":\"4048\",\"type\":\"CDSView\"}},\"id\":\"4047\",\"type\":\"GlyphRenderer\"},{\"attributes\":{},\"id\":\"4019\",\"type\":\"WheelZoomTool\"},{\"attributes\":{},\"id\":\"4258\",\"type\":\"Selection\"},{\"attributes\":{\"callback\":null,\"data\":{\"x\":[\"2000\",\"2001\",\"2002\",\"2003\",\"2004\",\"2005\",\"2006\",\"2007\",\"2008\",\"2009\",\"2010\",\"2011\",\"2012\",\"2013\",\"2014\",\"2015\",\"2016\",\"2017\"],\"y\":[33.370051835559885,29.57702548330176,33.388901341061164,33.789125730263024,27.622887569846355,27.43513871906223,23.322003949314283,23.173937290806006,22.087389072731586,21.87034331925848,21.56849553016734,25.1902973461321,21.23626220970231,24.160800450151424,24.012498654781346,24.564505025797747,25.205451210762366,24.27522883303202]},\"selected\":{\"id\":\"4256\",\"type\":\"Selection\"},\"selection_policy\":{\"id\":\"4257\",\"type\":\"UnionRenderers\"}},\"id\":\"4049\",\"type\":\"ColumnDataSource\"},{\"attributes\":{\"overlay\":{\"id\":\"4041\",\"type\":\"BoxAnnotation\"}},\"id\":\"4020\",\"type\":\"BoxZoomTool\"},{\"attributes\":{\"line_alpha\":0.1,\"line_color\":\"#1f77b4\",\"line_width\":2,\"x\":{\"field\":\"x\"},\"y\":{\"field\":\"y\"}},\"id\":\"4051\",\"type\":\"Line\"},{\"attributes\":{},\"id\":\"4021\",\"type\":\"SaveTool\"},{\"attributes\":{},\"id\":\"4259\",\"type\":\"UnionRenderers\"},{\"attributes\":{\"line_color\":\"#5430F1\",\"line_width\":2,\"x\":{\"field\":\"x\"},\"y\":{\"field\":\"y\"}},\"id\":\"4050\",\"type\":\"Line\"},{\"attributes\":{},\"id\":\"4022\",\"type\":\"ResetTool\"},{\"attributes\":{\"text\":\"Pupil-teacher ratio, primary weighted against Population, total\"},\"id\":\"3998\",\"type\":\"Title\"},{\"attributes\":{\"data_source\":{\"id\":\"4049\",\"type\":\"ColumnDataSource\"},\"glyph\":{\"id\":\"4050\",\"type\":\"Line\"},\"hover_glyph\":null,\"muted_glyph\":null,\"nonselection_glyph\":{\"id\":\"4051\",\"type\":\"Line\"},\"selection_glyph\":null,\"view\":{\"id\":\"4053\",\"type\":\"CDSView\"}},\"id\":\"4052\",\"type\":\"GlyphRenderer\"},{\"attributes\":{\"callback\":null},\"id\":\"4000\",\"type\":\"DataRange1d\"},{\"attributes\":{\"active_drag\":\"auto\",\"active_inspect\":\"auto\",\"active_multi\":null,\"active_scroll\":\"auto\",\"active_tap\":\"auto\",\"tools\":[{\"id\":\"4018\",\"type\":\"PanTool\"},{\"id\":\"4019\",\"type\":\"WheelZoomTool\"},{\"id\":\"4020\",\"type\":\"BoxZoomTool\"},{\"id\":\"4021\",\"type\":\"SaveTool\"},{\"id\":\"4022\",\"type\":\"ResetTool\"},{\"id\":\"4023\",\"type\":\"HelpTool\"},{\"id\":\"4070\",\"type\":\"HoverTool\"}]},\"id\":\"4024\",\"type\":\"Toolbar\"},{\"attributes\":{\"line_color\":\"#FA1857\",\"line_width\":2,\"x\":{\"field\":\"x\"},\"y\":{\"field\":\"y\"}},\"id\":\"4032\",\"type\":\"Line\"},{\"attributes\":{},\"id\":\"4059\",\"type\":\"Selection\"},{\"attributes\":{\"line_alpha\":0.1,\"line_color\":\"#1f77b4\",\"line_width\":2,\"x\":{\"field\":\"x\"},\"y\":{\"field\":\"y\"}},\"id\":\"4033\",\"type\":\"Line\"},{\"attributes\":{\"callback\":null},\"id\":\"4002\",\"type\":\"DataRange1d\"},{\"attributes\":{\"source\":{\"id\":\"4049\",\"type\":\"ColumnDataSource\"}},\"id\":\"4053\",\"type\":\"CDSView\"},{\"attributes\":{},\"id\":\"4004\",\"type\":\"LinearScale\"},{\"attributes\":{\"data_source\":{\"id\":\"4031\",\"type\":\"ColumnDataSource\"},\"glyph\":{\"id\":\"4032\",\"type\":\"Line\"},\"hover_glyph\":null,\"muted_glyph\":null,\"nonselection_glyph\":{\"id\":\"4033\",\"type\":\"Line\"},\"selection_glyph\":null,\"view\":{\"id\":\"4035\",\"type\":\"CDSView\"}},\"id\":\"4034\",\"type\":\"GlyphRenderer\"},{\"attributes\":{},\"id\":\"4060\",\"type\":\"UnionRenderers\"},{\"attributes\":{\"source\":{\"id\":\"4031\",\"type\":\"ColumnDataSource\"}},\"id\":\"4035\",\"type\":\"CDSView\"},{\"attributes\":{\"fill_alpha\":{\"value\":0.1},\"fill_color\":{\"value\":\"#1f77b4\"},\"line_alpha\":{\"value\":0.1},\"line_color\":{\"value\":\"#1f77b4\"},\"line_width\":{\"value\":3},\"x\":{\"field\":\"x\"},\"y\":{\"field\":\"y\"}},\"id\":\"4067\",\"type\":\"Circle\"},{\"attributes\":{},\"id\":\"4006\",\"type\":\"LinearScale\"},{\"attributes\":{},\"id\":\"4023\",\"type\":\"HelpTool\"},{\"attributes\":{},\"id\":\"4062\",\"type\":\"UnionRenderers\"},{\"attributes\":{\"axis_label\":\"Years\",\"formatter\":{\"id\":\"4039\",\"type\":\"BasicTickFormatter\"},\"ticker\":{\"id\":\"4009\",\"type\":\"BasicTicker\"}},\"id\":\"4008\",\"type\":\"LinearAxis\"},{\"attributes\":{},\"id\":\"4037\",\"type\":\"BasicTickFormatter\"},{\"attributes\":{},\"id\":\"4061\",\"type\":\"Selection\"},{\"attributes\":{},\"id\":\"4009\",\"type\":\"BasicTicker\"},{\"attributes\":{},\"id\":\"4039\",\"type\":\"BasicTickFormatter\"},{\"attributes\":{\"label\":{\"value\":\"Developing excluding LDCs\"},\"renderers\":[{\"id\":\"4052\",\"type\":\"GlyphRenderer\"}]},\"id\":\"4064\",\"type\":\"LegendItem\"},{\"attributes\":{\"ticker\":{\"id\":\"4009\",\"type\":\"BasicTicker\"}},\"id\":\"4012\",\"type\":\"Grid\"},{\"attributes\":{\"bottom_units\":\"screen\",\"fill_alpha\":{\"value\":0.5},\"fill_color\":{\"value\":\"lightgrey\"},\"left_units\":\"screen\",\"level\":\"overlay\",\"line_alpha\":{\"value\":1.0},\"line_color\":{\"value\":\"black\"},\"line_dash\":[4,4],\"line_width\":{\"value\":2},\"render_mode\":\"css\",\"right_units\":\"screen\",\"top_units\":\"screen\"},\"id\":\"4041\",\"type\":\"BoxAnnotation\"},{\"attributes\":{\"fill_color\":{\"value\":\"#5430F1\"},\"line_color\":{\"value\":\"#5430F1\"},\"line_width\":{\"value\":3},\"x\":{\"field\":\"x\"},\"y\":{\"field\":\"y\"}},\"id\":\"4066\",\"type\":\"Circle\"},{\"attributes\":{\"items\":[{\"id\":\"4043\",\"type\":\"LegendItem\"},{\"id\":\"4064\",\"type\":\"LegendItem\"}],\"location\":\"bottom_left\"},\"id\":\"4042\",\"type\":\"Legend\"},{\"attributes\":{\"axis_label\":\"Percentage\",\"formatter\":{\"id\":\"4037\",\"type\":\"BasicTickFormatter\"},\"ticker\":{\"id\":\"4014\",\"type\":\"BasicTicker\"}},\"id\":\"4013\",\"type\":\"LinearAxis\"},{\"attributes\":{\"callback\":null,\"data\":{\"x\":[\"2000\",\"2001\",\"2002\",\"2003\",\"2004\",\"2005\",\"2006\",\"2007\",\"2008\",\"2009\",\"2010\",\"2011\",\"2012\",\"2013\",\"2014\",\"2015\",\"2016\",\"2017\"],\"y\":[33.370051835559885,29.57702548330176,33.388901341061164,33.789125730263024,27.622887569846355,27.43513871906223,23.322003949314283,23.173937290806006,22.087389072731586,21.87034331925848,21.56849553016734,25.1902973461321,21.23626220970231,24.160800450151424,24.012498654781346,24.564505025797747,25.205451210762366,24.27522883303202]},\"selected\":{\"id\":\"4258\",\"type\":\"Selection\"},\"selection_policy\":{\"id\":\"4259\",\"type\":\"UnionRenderers\"}},\"id\":\"4065\",\"type\":\"ColumnDataSource\"},{\"attributes\":{\"label\":{\"value\":\"LDCs\"},\"renderers\":[{\"id\":\"4034\",\"type\":\"GlyphRenderer\"}]},\"id\":\"4043\",\"type\":\"LegendItem\"},{\"attributes\":{},\"id\":\"4014\",\"type\":\"BasicTicker\"}],\"root_ids\":[\"3997\"]},\"title\":\"Bokeh Application\",\"version\":\"1.3.4\"}};\n",
       "  var render_items = [{\"docid\":\"3820627f-97df-4e24-a6eb-a274f77341ab\",\"roots\":{\"3997\":\"1cfce84a-4c60-44aa-bcf9-52734107b2b1\"}}];\n",
       "  root.Bokeh.embed.embed_items_notebook(docs_json, render_items);\n",
       "\n",
       "  }\n",
       "  if (root.Bokeh !== undefined) {\n",
       "    embed_document(root);\n",
       "  } else {\n",
       "    var attempts = 0;\n",
       "    var timer = setInterval(function(root) {\n",
       "      if (root.Bokeh !== undefined) {\n",
       "        embed_document(root);\n",
       "        clearInterval(timer);\n",
       "      }\n",
       "      attempts++;\n",
       "      if (attempts > 100) {\n",
       "        console.log(\"Bokeh: ERROR: Unable to run BokehJS code because BokehJS library is missing\");\n",
       "        clearInterval(timer);\n",
       "      }\n",
       "    }, 10, root)\n",
       "  }\n",
       "})(window);"
      ],
      "application/vnd.bokehjs_exec.v0+json": ""
     },
     "metadata": {
      "application/vnd.bokehjs_exec.v0+json": {
       "id": "3997"
      }
     },
     "output_type": "display_data"
    }
   ],
   "source": [
    "# Pupil teacher ration\n",
    "years = list(map(str, list(range(2000,2018))))\n",
    "result = show_weighted_average(years, 'SE.PRM.ENRL.TC.ZS', 'SP.POP.TOTL', \n",
    "                               ['LDCs', 'Developing excluding LDCs'])"
   ]
  },
  {
   "cell_type": "code",
   "execution_count": 16,
   "metadata": {
    "ExecuteTime": {
     "end_time": "2019-10-23T20:56:11.233143Z",
     "start_time": "2019-10-23T20:55:54.526618Z"
    },
    "slideshow": {
     "slide_type": "slide"
    }
   },
   "outputs": [
    {
     "data": {
      "text/html": [
       "\n",
       "\n",
       "\n",
       "\n",
       "\n",
       "\n",
       "  <div class=\"bk-root\" id=\"e948ca80-9e88-4742-a6fe-84f8b15785ac\" data-root-id=\"4345\"></div>\n"
      ]
     },
     "metadata": {},
     "output_type": "display_data"
    },
    {
     "data": {
      "application/javascript": [
       "(function(root) {\n",
       "  function embed_document(root) {\n",
       "    \n",
       "  var docs_json = {\"ea9265a5-6d36-42c4-9ed3-dfb2c6532d3e\":{\"roots\":{\"references\":[{\"attributes\":{\"below\":[{\"id\":\"4356\",\"type\":\"LinearAxis\"}],\"center\":[{\"id\":\"4360\",\"type\":\"Grid\"},{\"id\":\"4365\",\"type\":\"Grid\"},{\"id\":\"4390\",\"type\":\"Legend\"}],\"left\":[{\"id\":\"4361\",\"type\":\"LinearAxis\"}],\"plot_height\":400,\"plot_width\":950,\"renderers\":[{\"id\":\"4382\",\"type\":\"GlyphRenderer\"},{\"id\":\"4395\",\"type\":\"GlyphRenderer\"},{\"id\":\"4400\",\"type\":\"GlyphRenderer\"},{\"id\":\"4416\",\"type\":\"GlyphRenderer\"},{\"id\":\"4421\",\"type\":\"GlyphRenderer\"},{\"id\":\"4441\",\"type\":\"GlyphRenderer\"}],\"title\":{\"id\":\"4346\",\"type\":\"Title\"},\"toolbar\":{\"id\":\"4372\",\"type\":\"Toolbar\"},\"x_range\":{\"id\":\"4348\",\"type\":\"DataRange1d\"},\"x_scale\":{\"id\":\"4352\",\"type\":\"LinearScale\"},\"y_range\":{\"id\":\"4350\",\"type\":\"DataRange1d\"},\"y_scale\":{\"id\":\"4354\",\"type\":\"LinearScale\"}},\"id\":\"4345\",\"subtype\":\"Figure\",\"type\":\"Plot\"},{\"attributes\":{\"callback\":null},\"id\":\"4350\",\"type\":\"DataRange1d\"},{\"attributes\":{},\"id\":\"4409\",\"type\":\"Selection\"},{\"attributes\":{\"source\":{\"id\":\"4379\",\"type\":\"ColumnDataSource\"}},\"id\":\"4383\",\"type\":\"CDSView\"},{\"attributes\":{},\"id\":\"4410\",\"type\":\"UnionRenderers\"},{\"attributes\":{\"callback\":null},\"id\":\"4348\",\"type\":\"DataRange1d\"},{\"attributes\":{},\"id\":\"4647\",\"type\":\"Selection\"},{\"attributes\":{},\"id\":\"4387\",\"type\":\"BasicTickFormatter\"},{\"attributes\":{\"label\":{\"value\":\"Developing excluding LDCs\"},\"renderers\":[{\"id\":\"4400\",\"type\":\"GlyphRenderer\"}]},\"id\":\"4412\",\"type\":\"LegendItem\"},{\"attributes\":{\"source\":{\"id\":\"4418\",\"type\":\"ColumnDataSource\"}},\"id\":\"4422\",\"type\":\"CDSView\"},{\"attributes\":{},\"id\":\"4352\",\"type\":\"LinearScale\"},{\"attributes\":{},\"id\":\"4648\",\"type\":\"UnionRenderers\"},{\"attributes\":{},\"id\":\"4385\",\"type\":\"BasicTickFormatter\"},{\"attributes\":{\"callback\":null,\"data\":{\"x\":[\"2000\",\"2001\",\"2002\",\"2003\",\"2004\",\"2005\",\"2006\",\"2007\",\"2008\",\"2009\",\"2010\",\"2011\",\"2012\",\"2013\",\"2014\",\"2015\",\"2016\",\"2017\"],\"y\":[66.81116952985124,67.10136064960203,67.39534765279303,67.69191534513566,67.99394689200506,68.30220457476779,68.61903869781979,68.94325513186014,69.27457578712584,69.61247702715436,69.94342523785205,70.27284035315787,70.59362275978874,70.9030130494035,71.1981897682081,71.47010803591232,71.72046744475756,71.9516686920634]},\"selected\":{\"id\":\"4434\",\"type\":\"Selection\"},\"selection_policy\":{\"id\":\"4435\",\"type\":\"UnionRenderers\"}},\"id\":\"4413\",\"type\":\"ColumnDataSource\"},{\"attributes\":{\"axis_label\":\"Years\",\"formatter\":{\"id\":\"4387\",\"type\":\"BasicTickFormatter\"},\"ticker\":{\"id\":\"4357\",\"type\":\"BasicTicker\"}},\"id\":\"4356\",\"type\":\"LinearAxis\"},{\"attributes\":{},\"id\":\"4649\",\"type\":\"Selection\"},{\"attributes\":{\"bottom_units\":\"screen\",\"fill_alpha\":{\"value\":0.5},\"fill_color\":{\"value\":\"lightgrey\"},\"left_units\":\"screen\",\"level\":\"overlay\",\"line_alpha\":{\"value\":1.0},\"line_color\":{\"value\":\"black\"},\"line_dash\":[4,4],\"line_width\":{\"value\":2},\"render_mode\":\"css\",\"right_units\":\"screen\",\"top_units\":\"screen\"},\"id\":\"4389\",\"type\":\"BoxAnnotation\"},{\"attributes\":{\"fill_color\":{\"value\":\"#5430F1\"},\"line_color\":{\"value\":\"#5430F1\"},\"line_width\":{\"value\":3},\"x\":{\"field\":\"x\"},\"y\":{\"field\":\"y\"}},\"id\":\"4414\",\"type\":\"Circle\"},{\"attributes\":{\"source\":{\"id\":\"4438\",\"type\":\"ColumnDataSource\"}},\"id\":\"4442\",\"type\":\"CDSView\"},{\"attributes\":{},\"id\":\"4432\",\"type\":\"Selection\"},{\"attributes\":{},\"id\":\"4354\",\"type\":\"LinearScale\"},{\"attributes\":{},\"id\":\"4650\",\"type\":\"UnionRenderers\"},{\"attributes\":{\"label\":{\"value\":\"LDCs\"},\"renderers\":[{\"id\":\"4382\",\"type\":\"GlyphRenderer\"}]},\"id\":\"4391\",\"type\":\"LegendItem\"},{\"attributes\":{\"fill_alpha\":{\"value\":0.1},\"fill_color\":{\"value\":\"#1f77b4\"},\"line_alpha\":{\"value\":0.1},\"line_color\":{\"value\":\"#1f77b4\"},\"line_width\":{\"value\":3},\"x\":{\"field\":\"x\"},\"y\":{\"field\":\"y\"}},\"id\":\"4415\",\"type\":\"Circle\"},{\"attributes\":{},\"id\":\"4357\",\"type\":\"BasicTicker\"},{\"attributes\":{\"items\":[{\"id\":\"4391\",\"type\":\"LegendItem\"},{\"id\":\"4412\",\"type\":\"LegendItem\"},{\"id\":\"4437\",\"type\":\"LegendItem\"}],\"location\":\"bottom_left\"},\"id\":\"4390\",\"type\":\"Legend\"},{\"attributes\":{\"data_source\":{\"id\":\"4413\",\"type\":\"ColumnDataSource\"},\"glyph\":{\"id\":\"4414\",\"type\":\"Circle\"},\"hover_glyph\":null,\"muted_glyph\":null,\"nonselection_glyph\":{\"id\":\"4415\",\"type\":\"Circle\"},\"selection_glyph\":null,\"view\":{\"id\":\"4417\",\"type\":\"CDSView\"}},\"id\":\"4416\",\"type\":\"GlyphRenderer\"},{\"attributes\":{},\"id\":\"4433\",\"type\":\"UnionRenderers\"},{\"attributes\":{\"callback\":null,\"data\":{\"x\":[\"2000\",\"2001\",\"2002\",\"2003\",\"2004\",\"2005\",\"2006\",\"2007\",\"2008\",\"2009\",\"2010\",\"2011\",\"2012\",\"2013\",\"2014\",\"2015\",\"2016\",\"2017\"],\"y\":[55.47978614999483,55.975732696938344,56.50274815798361,57.06108266122101,57.646781535993426,58.25570477828153,58.88310509569853,59.52027856066717,60.15664526899239,60.78301466742689,61.388933701289815,61.967425120830384,62.51265697725478,63.02794492847264,63.50655894613865,63.94522390318217,64.34308028696678,64.70484741974481]},\"selected\":{\"id\":\"4409\",\"type\":\"Selection\"},\"selection_policy\":{\"id\":\"4410\",\"type\":\"UnionRenderers\"}},\"id\":\"4392\",\"type\":\"ColumnDataSource\"},{\"attributes\":{},\"id\":\"4362\",\"type\":\"BasicTicker\"},{\"attributes\":{\"source\":{\"id\":\"4413\",\"type\":\"ColumnDataSource\"}},\"id\":\"4417\",\"type\":\"CDSView\"},{\"attributes\":{\"ticker\":{\"id\":\"4357\",\"type\":\"BasicTicker\"}},\"id\":\"4360\",\"type\":\"Grid\"},{\"attributes\":{\"fill_alpha\":{\"value\":0.1},\"fill_color\":{\"value\":\"#1f77b4\"},\"line_alpha\":{\"value\":0.1},\"line_color\":{\"value\":\"#1f77b4\"},\"line_width\":{\"value\":3},\"x\":{\"field\":\"x\"},\"y\":{\"field\":\"y\"}},\"id\":\"4394\",\"type\":\"Circle\"},{\"attributes\":{\"axis_label\":\"Percentage\",\"formatter\":{\"id\":\"4385\",\"type\":\"BasicTickFormatter\"},\"ticker\":{\"id\":\"4362\",\"type\":\"BasicTicker\"}},\"id\":\"4361\",\"type\":\"LinearAxis\"},{\"attributes\":{\"callback\":null,\"data\":{\"x\":[\"2000\",\"2001\",\"2002\",\"2003\",\"2004\",\"2005\",\"2006\",\"2007\",\"2008\",\"2009\",\"2010\",\"2011\",\"2012\",\"2013\",\"2014\",\"2015\",\"2016\",\"2017\"],\"y\":[77.07712560169232,77.38833297513385,77.54776037882743,77.69654179560608,78.09938587502181,78.21736324644525,78.50714525876474,78.73135260844114,78.87486015871855,79.13132827194039,79.3009215024766,79.53231619249463,79.64498856482149,79.80818222814423,80.05654259453199,79.94678663973315,80.09864354689779,80.15042257303583]},\"selected\":{\"id\":\"4647\",\"type\":\"Selection\"},\"selection_policy\":{\"id\":\"4648\",\"type\":\"UnionRenderers\"}},\"id\":\"4418\",\"type\":\"ColumnDataSource\"},{\"attributes\":{},\"id\":\"4434\",\"type\":\"Selection\"},{\"attributes\":{\"fill_color\":{\"value\":\"#FA1857\"},\"line_color\":{\"value\":\"#FA1857\"},\"line_width\":{\"value\":3},\"x\":{\"field\":\"x\"},\"y\":{\"field\":\"y\"}},\"id\":\"4393\",\"type\":\"Circle\"},{\"attributes\":{\"dimension\":1,\"ticker\":{\"id\":\"4362\",\"type\":\"BasicTicker\"}},\"id\":\"4365\",\"type\":\"Grid\"},{\"attributes\":{\"line_color\":\"#2CC775\",\"line_width\":2,\"x\":{\"field\":\"x\"},\"y\":{\"field\":\"y\"}},\"id\":\"4419\",\"type\":\"Line\"},{\"attributes\":{\"line_color\":\"#FA1857\",\"line_width\":2,\"x\":{\"field\":\"x\"},\"y\":{\"field\":\"y\"}},\"id\":\"4380\",\"type\":\"Line\"},{\"attributes\":{\"data_source\":{\"id\":\"4392\",\"type\":\"ColumnDataSource\"},\"glyph\":{\"id\":\"4393\",\"type\":\"Circle\"},\"hover_glyph\":null,\"muted_glyph\":null,\"nonselection_glyph\":{\"id\":\"4394\",\"type\":\"Circle\"},\"selection_glyph\":null,\"view\":{\"id\":\"4396\",\"type\":\"CDSView\"}},\"id\":\"4395\",\"type\":\"GlyphRenderer\"},{\"attributes\":{},\"id\":\"4407\",\"type\":\"Selection\"},{\"attributes\":{\"callback\":null,\"data\":{\"x\":[\"2000\",\"2001\",\"2002\",\"2003\",\"2004\",\"2005\",\"2006\",\"2007\",\"2008\",\"2009\",\"2010\",\"2011\",\"2012\",\"2013\",\"2014\",\"2015\",\"2016\",\"2017\"],\"y\":[55.47978614999483,55.975732696938344,56.50274815798361,57.06108266122101,57.646781535993426,58.25570477828153,58.88310509569853,59.52027856066717,60.15664526899239,60.78301466742689,61.388933701289815,61.967425120830384,62.51265697725478,63.02794492847264,63.50655894613865,63.94522390318217,64.34308028696678,64.70484741974481]},\"selected\":{\"id\":\"4407\",\"type\":\"Selection\"},\"selection_policy\":{\"id\":\"4408\",\"type\":\"UnionRenderers\"}},\"id\":\"4379\",\"type\":\"ColumnDataSource\"},{\"attributes\":{\"line_alpha\":0.1,\"line_color\":\"#1f77b4\",\"line_width\":2,\"x\":{\"field\":\"x\"},\"y\":{\"field\":\"y\"}},\"id\":\"4420\",\"type\":\"Line\"},{\"attributes\":{},\"id\":\"4435\",\"type\":\"UnionRenderers\"},{\"attributes\":{\"callback\":null,\"data\":{\"x\":[\"2000\",\"2001\",\"2002\",\"2003\",\"2004\",\"2005\",\"2006\",\"2007\",\"2008\",\"2009\",\"2010\",\"2011\",\"2012\",\"2013\",\"2014\",\"2015\",\"2016\",\"2017\"],\"y\":[66.81116952985124,67.10136064960203,67.39534765279303,67.69191534513566,67.99394689200506,68.30220457476779,68.61903869781979,68.94325513186014,69.27457578712584,69.61247702715436,69.94342523785205,70.27284035315787,70.59362275978874,70.9030130494035,71.1981897682081,71.47010803591232,71.72046744475756,71.9516686920634]},\"selected\":{\"id\":\"4432\",\"type\":\"Selection\"},\"selection_policy\":{\"id\":\"4433\",\"type\":\"UnionRenderers\"}},\"id\":\"4397\",\"type\":\"ColumnDataSource\"},{\"attributes\":{\"data_source\":{\"id\":\"4418\",\"type\":\"ColumnDataSource\"},\"glyph\":{\"id\":\"4419\",\"type\":\"Line\"},\"hover_glyph\":null,\"muted_glyph\":null,\"nonselection_glyph\":{\"id\":\"4420\",\"type\":\"Line\"},\"selection_glyph\":null,\"view\":{\"id\":\"4422\",\"type\":\"CDSView\"}},\"id\":\"4421\",\"type\":\"GlyphRenderer\"},{\"attributes\":{\"label\":{\"value\":\"OECD\"},\"renderers\":[{\"id\":\"4421\",\"type\":\"GlyphRenderer\"}]},\"id\":\"4437\",\"type\":\"LegendItem\"},{\"attributes\":{\"source\":{\"id\":\"4392\",\"type\":\"ColumnDataSource\"}},\"id\":\"4396\",\"type\":\"CDSView\"},{\"attributes\":{\"line_alpha\":0.1,\"line_color\":\"#1f77b4\",\"line_width\":2,\"x\":{\"field\":\"x\"},\"y\":{\"field\":\"y\"}},\"id\":\"4381\",\"type\":\"Line\"},{\"attributes\":{},\"id\":\"4366\",\"type\":\"PanTool\"},{\"attributes\":{\"line_color\":\"#5430F1\",\"line_width\":2,\"x\":{\"field\":\"x\"},\"y\":{\"field\":\"y\"}},\"id\":\"4398\",\"type\":\"Line\"},{\"attributes\":{\"callback\":null,\"data\":{\"x\":[\"2000\",\"2001\",\"2002\",\"2003\",\"2004\",\"2005\",\"2006\",\"2007\",\"2008\",\"2009\",\"2010\",\"2011\",\"2012\",\"2013\",\"2014\",\"2015\",\"2016\",\"2017\"],\"y\":[77.07712560169232,77.38833297513385,77.54776037882743,77.69654179560608,78.09938587502181,78.21736324644525,78.50714525876474,78.73135260844114,78.87486015871855,79.13132827194039,79.3009215024766,79.53231619249463,79.64498856482149,79.80818222814423,80.05654259453199,79.94678663973315,80.09864354689779,80.15042257303583]},\"selected\":{\"id\":\"4649\",\"type\":\"Selection\"},\"selection_policy\":{\"id\":\"4650\",\"type\":\"UnionRenderers\"}},\"id\":\"4438\",\"type\":\"ColumnDataSource\"},{\"attributes\":{\"active_drag\":\"auto\",\"active_inspect\":\"auto\",\"active_multi\":null,\"active_scroll\":\"auto\",\"active_tap\":\"auto\",\"tools\":[{\"id\":\"4366\",\"type\":\"PanTool\"},{\"id\":\"4367\",\"type\":\"WheelZoomTool\"},{\"id\":\"4368\",\"type\":\"BoxZoomTool\"},{\"id\":\"4369\",\"type\":\"SaveTool\"},{\"id\":\"4370\",\"type\":\"ResetTool\"},{\"id\":\"4371\",\"type\":\"HelpTool\"},{\"id\":\"4443\",\"type\":\"HoverTool\"}]},\"id\":\"4372\",\"type\":\"Toolbar\"},{\"attributes\":{\"callback\":null,\"tooltips\":\"        \\n        <div style=padding=5px>Year:@x</div>\\n        <div style=padding=5px>Value:@y</div>\\n        \"},\"id\":\"4443\",\"type\":\"HoverTool\"},{\"attributes\":{\"data_source\":{\"id\":\"4397\",\"type\":\"ColumnDataSource\"},\"glyph\":{\"id\":\"4398\",\"type\":\"Line\"},\"hover_glyph\":null,\"muted_glyph\":null,\"nonselection_glyph\":{\"id\":\"4399\",\"type\":\"Line\"},\"selection_glyph\":null,\"view\":{\"id\":\"4401\",\"type\":\"CDSView\"}},\"id\":\"4400\",\"type\":\"GlyphRenderer\"},{\"attributes\":{\"data_source\":{\"id\":\"4379\",\"type\":\"ColumnDataSource\"},\"glyph\":{\"id\":\"4380\",\"type\":\"Line\"},\"hover_glyph\":null,\"muted_glyph\":null,\"nonselection_glyph\":{\"id\":\"4381\",\"type\":\"Line\"},\"selection_glyph\":null,\"view\":{\"id\":\"4383\",\"type\":\"CDSView\"}},\"id\":\"4382\",\"type\":\"GlyphRenderer\"},{\"attributes\":{},\"id\":\"4367\",\"type\":\"WheelZoomTool\"},{\"attributes\":{\"line_alpha\":0.1,\"line_color\":\"#1f77b4\",\"line_width\":2,\"x\":{\"field\":\"x\"},\"y\":{\"field\":\"y\"}},\"id\":\"4399\",\"type\":\"Line\"},{\"attributes\":{\"fill_color\":{\"value\":\"#2CC775\"},\"line_color\":{\"value\":\"#2CC775\"},\"line_width\":{\"value\":3},\"x\":{\"field\":\"x\"},\"y\":{\"field\":\"y\"}},\"id\":\"4439\",\"type\":\"Circle\"},{\"attributes\":{},\"id\":\"4369\",\"type\":\"SaveTool\"},{\"attributes\":{\"source\":{\"id\":\"4397\",\"type\":\"ColumnDataSource\"}},\"id\":\"4401\",\"type\":\"CDSView\"},{\"attributes\":{\"fill_alpha\":{\"value\":0.1},\"fill_color\":{\"value\":\"#1f77b4\"},\"line_alpha\":{\"value\":0.1},\"line_color\":{\"value\":\"#1f77b4\"},\"line_width\":{\"value\":3},\"x\":{\"field\":\"x\"},\"y\":{\"field\":\"y\"}},\"id\":\"4440\",\"type\":\"Circle\"},{\"attributes\":{\"overlay\":{\"id\":\"4389\",\"type\":\"BoxAnnotation\"}},\"id\":\"4368\",\"type\":\"BoxZoomTool\"},{\"attributes\":{\"data_source\":{\"id\":\"4438\",\"type\":\"ColumnDataSource\"},\"glyph\":{\"id\":\"4439\",\"type\":\"Circle\"},\"hover_glyph\":null,\"muted_glyph\":null,\"nonselection_glyph\":{\"id\":\"4440\",\"type\":\"Circle\"},\"selection_glyph\":null,\"view\":{\"id\":\"4442\",\"type\":\"CDSView\"}},\"id\":\"4441\",\"type\":\"GlyphRenderer\"},{\"attributes\":{},\"id\":\"4408\",\"type\":\"UnionRenderers\"},{\"attributes\":{},\"id\":\"4370\",\"type\":\"ResetTool\"},{\"attributes\":{\"text\":\"Life expectancy at birth, total (years) weighted against Population, total\"},\"id\":\"4346\",\"type\":\"Title\"},{\"attributes\":{},\"id\":\"4371\",\"type\":\"HelpTool\"}],\"root_ids\":[\"4345\"]},\"title\":\"Bokeh Application\",\"version\":\"1.3.4\"}};\n",
       "  var render_items = [{\"docid\":\"ea9265a5-6d36-42c4-9ed3-dfb2c6532d3e\",\"roots\":{\"4345\":\"e948ca80-9e88-4742-a6fe-84f8b15785ac\"}}];\n",
       "  root.Bokeh.embed.embed_items_notebook(docs_json, render_items);\n",
       "\n",
       "  }\n",
       "  if (root.Bokeh !== undefined) {\n",
       "    embed_document(root);\n",
       "  } else {\n",
       "    var attempts = 0;\n",
       "    var timer = setInterval(function(root) {\n",
       "      if (root.Bokeh !== undefined) {\n",
       "        embed_document(root);\n",
       "        clearInterval(timer);\n",
       "      }\n",
       "      attempts++;\n",
       "      if (attempts > 100) {\n",
       "        console.log(\"Bokeh: ERROR: Unable to run BokehJS code because BokehJS library is missing\");\n",
       "        clearInterval(timer);\n",
       "      }\n",
       "    }, 10, root)\n",
       "  }\n",
       "})(window);"
      ],
      "application/vnd.bokehjs_exec.v0+json": ""
     },
     "metadata": {
      "application/vnd.bokehjs_exec.v0+json": {
       "id": "4345"
      }
     },
     "output_type": "display_data"
    }
   ],
   "source": [
    "# Life expectancy\n",
    "years = list(map(str, list(range(2000,2018))))\n",
    "result = show_weighted_average(years, 'SP.DYN.LE00.IN', 'SP.POP.TOTL', \n",
    "                               ['LDCs', 'Developing excluding LDCs', 'OECD'])"
   ]
  },
  {
   "cell_type": "code",
   "execution_count": 17,
   "metadata": {
    "ExecuteTime": {
     "end_time": "2019-10-23T20:56:27.422086Z",
     "start_time": "2019-10-23T20:56:11.235489Z"
    },
    "slideshow": {
     "slide_type": "slide"
    }
   },
   "outputs": [
    {
     "data": {
      "text/html": [
       "\n",
       "\n",
       "\n",
       "\n",
       "\n",
       "\n",
       "  <div class=\"bk-root\" id=\"13ddfb7c-2826-4cf7-86e5-0ea2462105f0\" data-root-id=\"4760\"></div>\n"
      ]
     },
     "metadata": {},
     "output_type": "display_data"
    },
    {
     "data": {
      "application/javascript": [
       "(function(root) {\n",
       "  function embed_document(root) {\n",
       "    \n",
       "  var docs_json = {\"9f32bd0e-27b0-469a-8184-3a9acba803bd\":{\"roots\":{\"references\":[{\"attributes\":{\"below\":[{\"id\":\"4771\",\"type\":\"LinearAxis\"}],\"center\":[{\"id\":\"4775\",\"type\":\"Grid\"},{\"id\":\"4780\",\"type\":\"Grid\"},{\"id\":\"4805\",\"type\":\"Legend\"}],\"left\":[{\"id\":\"4776\",\"type\":\"LinearAxis\"}],\"plot_height\":400,\"plot_width\":950,\"renderers\":[{\"id\":\"4797\",\"type\":\"GlyphRenderer\"},{\"id\":\"4810\",\"type\":\"GlyphRenderer\"},{\"id\":\"4815\",\"type\":\"GlyphRenderer\"},{\"id\":\"4831\",\"type\":\"GlyphRenderer\"},{\"id\":\"4836\",\"type\":\"GlyphRenderer\"},{\"id\":\"4856\",\"type\":\"GlyphRenderer\"}],\"title\":{\"id\":\"4761\",\"type\":\"Title\"},\"toolbar\":{\"id\":\"4787\",\"type\":\"Toolbar\"},\"x_range\":{\"id\":\"4763\",\"type\":\"DataRange1d\"},\"x_scale\":{\"id\":\"4767\",\"type\":\"LinearScale\"},\"y_range\":{\"id\":\"4765\",\"type\":\"DataRange1d\"},\"y_scale\":{\"id\":\"4769\",\"type\":\"LinearScale\"}},\"id\":\"4760\",\"subtype\":\"Figure\",\"type\":\"Plot\"},{\"attributes\":{\"dimension\":1,\"ticker\":{\"id\":\"4777\",\"type\":\"BasicTicker\"}},\"id\":\"4780\",\"type\":\"Grid\"},{\"attributes\":{\"label\":{\"value\":\"Developing excluding LDCs\"},\"renderers\":[{\"id\":\"4815\",\"type\":\"GlyphRenderer\"}]},\"id\":\"4827\",\"type\":\"LegendItem\"},{\"attributes\":{\"bottom_units\":\"screen\",\"fill_alpha\":{\"value\":0.5},\"fill_color\":{\"value\":\"lightgrey\"},\"left_units\":\"screen\",\"level\":\"overlay\",\"line_alpha\":{\"value\":1.0},\"line_color\":{\"value\":\"black\"},\"line_dash\":[4,4],\"line_width\":{\"value\":2},\"render_mode\":\"css\",\"right_units\":\"screen\",\"top_units\":\"screen\"},\"id\":\"4804\",\"type\":\"BoxAnnotation\"},{\"attributes\":{},\"id\":\"4848\",\"type\":\"UnionRenderers\"},{\"attributes\":{\"items\":[{\"id\":\"4806\",\"type\":\"LegendItem\"},{\"id\":\"4827\",\"type\":\"LegendItem\"},{\"id\":\"4852\",\"type\":\"LegendItem\"}],\"location\":\"bottom_left\"},\"id\":\"4805\",\"type\":\"Legend\"},{\"attributes\":{},\"id\":\"4825\",\"type\":\"UnionRenderers\"},{\"attributes\":{},\"id\":\"4777\",\"type\":\"BasicTicker\"},{\"attributes\":{},\"id\":\"4802\",\"type\":\"BasicTickFormatter\"},{\"attributes\":{},\"id\":\"4823\",\"type\":\"UnionRenderers\"},{\"attributes\":{},\"id\":\"4847\",\"type\":\"Selection\"},{\"attributes\":{},\"id\":\"4824\",\"type\":\"Selection\"},{\"attributes\":{},\"id\":\"4800\",\"type\":\"BasicTickFormatter\"},{\"attributes\":{\"axis_label\":\"Percentage\",\"formatter\":{\"id\":\"4800\",\"type\":\"BasicTickFormatter\"},\"ticker\":{\"id\":\"4777\",\"type\":\"BasicTicker\"}},\"id\":\"4776\",\"type\":\"LinearAxis\"},{\"attributes\":{\"source\":{\"id\":\"4833\",\"type\":\"ColumnDataSource\"}},\"id\":\"4837\",\"type\":\"CDSView\"},{\"attributes\":{},\"id\":\"4822\",\"type\":\"Selection\"},{\"attributes\":{\"ticker\":{\"id\":\"4772\",\"type\":\"BasicTicker\"}},\"id\":\"4775\",\"type\":\"Grid\"},{\"attributes\":{},\"id\":\"4786\",\"type\":\"HelpTool\"},{\"attributes\":{\"source\":{\"id\":\"4812\",\"type\":\"ColumnDataSource\"}},\"id\":\"4816\",\"type\":\"CDSView\"},{\"attributes\":{\"data_source\":{\"id\":\"4833\",\"type\":\"ColumnDataSource\"},\"glyph\":{\"id\":\"4834\",\"type\":\"Line\"},\"hover_glyph\":null,\"muted_glyph\":null,\"nonselection_glyph\":{\"id\":\"4835\",\"type\":\"Line\"},\"selection_glyph\":null,\"view\":{\"id\":\"4837\",\"type\":\"CDSView\"}},\"id\":\"4836\",\"type\":\"GlyphRenderer\"},{\"attributes\":{\"label\":{\"value\":\"LDCs\"},\"renderers\":[{\"id\":\"4797\",\"type\":\"GlyphRenderer\"}]},\"id\":\"4806\",\"type\":\"LegendItem\"},{\"attributes\":{},\"id\":\"4772\",\"type\":\"BasicTicker\"},{\"attributes\":{},\"id\":\"5082\",\"type\":\"Selection\"},{\"attributes\":{\"data_source\":{\"id\":\"4794\",\"type\":\"ColumnDataSource\"},\"glyph\":{\"id\":\"4795\",\"type\":\"Line\"},\"hover_glyph\":null,\"muted_glyph\":null,\"nonselection_glyph\":{\"id\":\"4796\",\"type\":\"Line\"},\"selection_glyph\":null,\"view\":{\"id\":\"4798\",\"type\":\"CDSView\"}},\"id\":\"4797\",\"type\":\"GlyphRenderer\"},{\"attributes\":{\"line_alpha\":0.1,\"line_color\":\"#1f77b4\",\"line_width\":2,\"x\":{\"field\":\"x\"},\"y\":{\"field\":\"y\"}},\"id\":\"4835\",\"type\":\"Line\"},{\"attributes\":{\"data_source\":{\"id\":\"4812\",\"type\":\"ColumnDataSource\"},\"glyph\":{\"id\":\"4813\",\"type\":\"Line\"},\"hover_glyph\":null,\"muted_glyph\":null,\"nonselection_glyph\":{\"id\":\"4814\",\"type\":\"Line\"},\"selection_glyph\":null,\"view\":{\"id\":\"4816\",\"type\":\"CDSView\"}},\"id\":\"4815\",\"type\":\"GlyphRenderer\"},{\"attributes\":{},\"id\":\"4769\",\"type\":\"LinearScale\"},{\"attributes\":{},\"id\":\"4849\",\"type\":\"Selection\"},{\"attributes\":{},\"id\":\"5083\",\"type\":\"UnionRenderers\"},{\"attributes\":{\"line_color\":\"#5430F1\",\"line_width\":2,\"x\":{\"field\":\"x\"},\"y\":{\"field\":\"y\"}},\"id\":\"4813\",\"type\":\"Line\"},{\"attributes\":{\"axis_label\":\"Years\",\"formatter\":{\"id\":\"4802\",\"type\":\"BasicTickFormatter\"},\"ticker\":{\"id\":\"4772\",\"type\":\"BasicTicker\"}},\"id\":\"4771\",\"type\":\"LinearAxis\"},{\"attributes\":{\"line_color\":\"#2CC775\",\"line_width\":2,\"x\":{\"field\":\"x\"},\"y\":{\"field\":\"y\"}},\"id\":\"4834\",\"type\":\"Line\"},{\"attributes\":{\"source\":{\"id\":\"4794\",\"type\":\"ColumnDataSource\"}},\"id\":\"4798\",\"type\":\"CDSView\"},{\"attributes\":{},\"id\":\"5081\",\"type\":\"UnionRenderers\"},{\"attributes\":{\"callback\":null},\"id\":\"4763\",\"type\":\"DataRange1d\"},{\"attributes\":{\"line_alpha\":0.1,\"line_color\":\"#1f77b4\",\"line_width\":2,\"x\":{\"field\":\"x\"},\"y\":{\"field\":\"y\"}},\"id\":\"4814\",\"type\":\"Line\"},{\"attributes\":{},\"id\":\"4767\",\"type\":\"LinearScale\"},{\"attributes\":{\"line_color\":\"#FA1857\",\"line_width\":2,\"x\":{\"field\":\"x\"},\"y\":{\"field\":\"y\"}},\"id\":\"4795\",\"type\":\"Line\"},{\"attributes\":{\"line_alpha\":0.1,\"line_color\":\"#1f77b4\",\"line_width\":2,\"x\":{\"field\":\"x\"},\"y\":{\"field\":\"y\"}},\"id\":\"4796\",\"type\":\"Line\"},{\"attributes\":{\"callback\":null,\"data\":{\"x\":[\"2000\",\"2001\",\"2002\",\"2003\",\"2004\",\"2005\",\"2006\",\"2007\",\"2008\",\"2009\",\"2010\",\"2011\",\"2012\",\"2013\",\"2014\",\"2015\",\"2016\",\"2017\"],\"y\":[79.93351879418076,80.20290658761989,80.32918832949842,80.39856940465691,80.77521328865518,80.86674990168122,81.1402038786844,81.32381241465296,81.43163205746191,81.62948962454634,81.79594928587568,82.07333933782573,82.11929566013815,82.26555024337196,82.51912432141074,82.35601028400251,82.55037747513924,82.59790657999017]},\"selected\":{\"id\":\"5080\",\"type\":\"Selection\"},\"selection_policy\":{\"id\":\"5081\",\"type\":\"UnionRenderers\"}},\"id\":\"4833\",\"type\":\"ColumnDataSource\"},{\"attributes\":{\"active_drag\":\"auto\",\"active_inspect\":\"auto\",\"active_multi\":null,\"active_scroll\":\"auto\",\"active_tap\":\"auto\",\"tools\":[{\"id\":\"4781\",\"type\":\"PanTool\"},{\"id\":\"4782\",\"type\":\"WheelZoomTool\"},{\"id\":\"4783\",\"type\":\"BoxZoomTool\"},{\"id\":\"4784\",\"type\":\"SaveTool\"},{\"id\":\"4785\",\"type\":\"ResetTool\"},{\"id\":\"4786\",\"type\":\"HelpTool\"},{\"id\":\"4858\",\"type\":\"HoverTool\"}]},\"id\":\"4787\",\"type\":\"Toolbar\"},{\"attributes\":{\"callback\":null,\"data\":{\"x\":[\"2000\",\"2001\",\"2002\",\"2003\",\"2004\",\"2005\",\"2006\",\"2007\",\"2008\",\"2009\",\"2010\",\"2011\",\"2012\",\"2013\",\"2014\",\"2015\",\"2016\",\"2017\"],\"y\":[67.73281154489842,67.97348032002085,68.22274061008504,68.4834570193612,68.75974387360039,69.05476389543969,69.3723836455032,69.71081830727181,70.06116455005113,70.42362476987262,70.78281631915947,71.13967644962615,71.48296705077259,71.80606471400148,72.10313283696358,72.37065053741364,72.60294771834627,72.81209975661481]},\"selected\":{\"id\":\"4847\",\"type\":\"Selection\"},\"selection_policy\":{\"id\":\"4848\",\"type\":\"UnionRenderers\"}},\"id\":\"4812\",\"type\":\"ColumnDataSource\"},{\"attributes\":{},\"id\":\"5080\",\"type\":\"Selection\"},{\"attributes\":{\"data_source\":{\"id\":\"4807\",\"type\":\"ColumnDataSource\"},\"glyph\":{\"id\":\"4808\",\"type\":\"Circle\"},\"hover_glyph\":null,\"muted_glyph\":null,\"nonselection_glyph\":{\"id\":\"4809\",\"type\":\"Circle\"},\"selection_glyph\":null,\"view\":{\"id\":\"4811\",\"type\":\"CDSView\"}},\"id\":\"4810\",\"type\":\"GlyphRenderer\"},{\"attributes\":{\"callback\":null},\"id\":\"4765\",\"type\":\"DataRange1d\"},{\"attributes\":{\"source\":{\"id\":\"4828\",\"type\":\"ColumnDataSource\"}},\"id\":\"4832\",\"type\":\"CDSView\"},{\"attributes\":{\"source\":{\"id\":\"4853\",\"type\":\"ColumnDataSource\"}},\"id\":\"4857\",\"type\":\"CDSView\"},{\"attributes\":{\"source\":{\"id\":\"4807\",\"type\":\"ColumnDataSource\"}},\"id\":\"4811\",\"type\":\"CDSView\"},{\"attributes\":{\"fill_alpha\":{\"value\":0.1},\"fill_color\":{\"value\":\"#1f77b4\"},\"line_alpha\":{\"value\":0.1},\"line_color\":{\"value\":\"#1f77b4\"},\"line_width\":{\"value\":3},\"x\":{\"field\":\"x\"},\"y\":{\"field\":\"y\"}},\"id\":\"4855\",\"type\":\"Circle\"},{\"attributes\":{},\"id\":\"4785\",\"type\":\"ResetTool\"},{\"attributes\":{\"text\":\"Life expectancy at birth, female (years) weighted against Rural population\"},\"id\":\"4761\",\"type\":\"Title\"},{\"attributes\":{\"data_source\":{\"id\":\"4828\",\"type\":\"ColumnDataSource\"},\"glyph\":{\"id\":\"4829\",\"type\":\"Circle\"},\"hover_glyph\":null,\"muted_glyph\":null,\"nonselection_glyph\":{\"id\":\"4830\",\"type\":\"Circle\"},\"selection_glyph\":null,\"view\":{\"id\":\"4832\",\"type\":\"CDSView\"}},\"id\":\"4831\",\"type\":\"GlyphRenderer\"},{\"attributes\":{\"fill_alpha\":{\"value\":0.1},\"fill_color\":{\"value\":\"#1f77b4\"},\"line_alpha\":{\"value\":0.1},\"line_color\":{\"value\":\"#1f77b4\"},\"line_width\":{\"value\":3},\"x\":{\"field\":\"x\"},\"y\":{\"field\":\"y\"}},\"id\":\"4809\",\"type\":\"Circle\"},{\"attributes\":{\"data_source\":{\"id\":\"4853\",\"type\":\"ColumnDataSource\"},\"glyph\":{\"id\":\"4854\",\"type\":\"Circle\"},\"hover_glyph\":null,\"muted_glyph\":null,\"nonselection_glyph\":{\"id\":\"4855\",\"type\":\"Circle\"},\"selection_glyph\":null,\"view\":{\"id\":\"4857\",\"type\":\"CDSView\"}},\"id\":\"4856\",\"type\":\"GlyphRenderer\"},{\"attributes\":{},\"id\":\"4850\",\"type\":\"UnionRenderers\"},{\"attributes\":{\"overlay\":{\"id\":\"4804\",\"type\":\"BoxAnnotation\"}},\"id\":\"4783\",\"type\":\"BoxZoomTool\"},{\"attributes\":{\"callback\":null,\"data\":{\"x\":[\"2000\",\"2001\",\"2002\",\"2003\",\"2004\",\"2005\",\"2006\",\"2007\",\"2008\",\"2009\",\"2010\",\"2011\",\"2012\",\"2013\",\"2014\",\"2015\",\"2016\",\"2017\"],\"y\":[57.034527408572266,57.53748489045903,58.07142351800209,58.640581905118836,59.242660221595216,59.87429659950075,60.53079079914172,61.19774721212408,61.87418453620832,62.54301761236867,63.19237481578384,63.81307389468363,64.39532395583093,64.94434252296352,65.45150499669222,65.91438566172573,66.33128171561334,66.70959739482211]},\"selected\":{\"id\":\"4824\",\"type\":\"Selection\"},\"selection_policy\":{\"id\":\"4825\",\"type\":\"UnionRenderers\"}},\"id\":\"4807\",\"type\":\"ColumnDataSource\"},{\"attributes\":{\"fill_alpha\":{\"value\":0.1},\"fill_color\":{\"value\":\"#1f77b4\"},\"line_alpha\":{\"value\":0.1},\"line_color\":{\"value\":\"#1f77b4\"},\"line_width\":{\"value\":3},\"x\":{\"field\":\"x\"},\"y\":{\"field\":\"y\"}},\"id\":\"4830\",\"type\":\"Circle\"},{\"attributes\":{\"fill_color\":{\"value\":\"#2CC775\"},\"line_color\":{\"value\":\"#2CC775\"},\"line_width\":{\"value\":3},\"x\":{\"field\":\"x\"},\"y\":{\"field\":\"y\"}},\"id\":\"4854\",\"type\":\"Circle\"},{\"attributes\":{},\"id\":\"4784\",\"type\":\"SaveTool\"},{\"attributes\":{\"fill_color\":{\"value\":\"#FA1857\"},\"line_color\":{\"value\":\"#FA1857\"},\"line_width\":{\"value\":3},\"x\":{\"field\":\"x\"},\"y\":{\"field\":\"y\"}},\"id\":\"4808\",\"type\":\"Circle\"},{\"attributes\":{\"label\":{\"value\":\"OECD\"},\"renderers\":[{\"id\":\"4836\",\"type\":\"GlyphRenderer\"}]},\"id\":\"4852\",\"type\":\"LegendItem\"},{\"attributes\":{},\"id\":\"4782\",\"type\":\"WheelZoomTool\"},{\"attributes\":{\"fill_color\":{\"value\":\"#5430F1\"},\"line_color\":{\"value\":\"#5430F1\"},\"line_width\":{\"value\":3},\"x\":{\"field\":\"x\"},\"y\":{\"field\":\"y\"}},\"id\":\"4829\",\"type\":\"Circle\"},{\"attributes\":{\"callback\":null,\"tooltips\":\"        \\n        <div style=padding=5px>Year:@x</div>\\n        <div style=padding=5px>Value:@y</div>\\n        \"},\"id\":\"4858\",\"type\":\"HoverTool\"},{\"attributes\":{\"callback\":null,\"data\":{\"x\":[\"2000\",\"2001\",\"2002\",\"2003\",\"2004\",\"2005\",\"2006\",\"2007\",\"2008\",\"2009\",\"2010\",\"2011\",\"2012\",\"2013\",\"2014\",\"2015\",\"2016\",\"2017\"],\"y\":[79.93351879418076,80.20290658761989,80.32918832949842,80.39856940465691,80.77521328865518,80.86674990168122,81.1402038786844,81.32381241465296,81.43163205746191,81.62948962454634,81.79594928587568,82.07333933782573,82.11929566013815,82.26555024337196,82.51912432141074,82.35601028400251,82.55037747513924,82.59790657999017]},\"selected\":{\"id\":\"5082\",\"type\":\"Selection\"},\"selection_policy\":{\"id\":\"5083\",\"type\":\"UnionRenderers\"}},\"id\":\"4853\",\"type\":\"ColumnDataSource\"},{\"attributes\":{\"callback\":null,\"data\":{\"x\":[\"2000\",\"2001\",\"2002\",\"2003\",\"2004\",\"2005\",\"2006\",\"2007\",\"2008\",\"2009\",\"2010\",\"2011\",\"2012\",\"2013\",\"2014\",\"2015\",\"2016\",\"2017\"],\"y\":[57.034527408572266,57.53748489045903,58.07142351800209,58.640581905118836,59.242660221595216,59.87429659950075,60.53079079914172,61.19774721212408,61.87418453620832,62.54301761236867,63.19237481578384,63.81307389468363,64.39532395583093,64.94434252296352,65.45150499669222,65.91438566172573,66.33128171561334,66.70959739482211]},\"selected\":{\"id\":\"4822\",\"type\":\"Selection\"},\"selection_policy\":{\"id\":\"4823\",\"type\":\"UnionRenderers\"}},\"id\":\"4794\",\"type\":\"ColumnDataSource\"},{\"attributes\":{\"callback\":null,\"data\":{\"x\":[\"2000\",\"2001\",\"2002\",\"2003\",\"2004\",\"2005\",\"2006\",\"2007\",\"2008\",\"2009\",\"2010\",\"2011\",\"2012\",\"2013\",\"2014\",\"2015\",\"2016\",\"2017\"],\"y\":[67.73281154489842,67.97348032002085,68.22274061008504,68.4834570193612,68.75974387360039,69.05476389543969,69.3723836455032,69.71081830727181,70.06116455005113,70.42362476987262,70.78281631915947,71.13967644962615,71.48296705077259,71.80606471400148,72.10313283696358,72.37065053741364,72.60294771834627,72.81209975661481]},\"selected\":{\"id\":\"4849\",\"type\":\"Selection\"},\"selection_policy\":{\"id\":\"4850\",\"type\":\"UnionRenderers\"}},\"id\":\"4828\",\"type\":\"ColumnDataSource\"},{\"attributes\":{},\"id\":\"4781\",\"type\":\"PanTool\"}],\"root_ids\":[\"4760\"]},\"title\":\"Bokeh Application\",\"version\":\"1.3.4\"}};\n",
       "  var render_items = [{\"docid\":\"9f32bd0e-27b0-469a-8184-3a9acba803bd\",\"roots\":{\"4760\":\"13ddfb7c-2826-4cf7-86e5-0ea2462105f0\"}}];\n",
       "  root.Bokeh.embed.embed_items_notebook(docs_json, render_items);\n",
       "\n",
       "  }\n",
       "  if (root.Bokeh !== undefined) {\n",
       "    embed_document(root);\n",
       "  } else {\n",
       "    var attempts = 0;\n",
       "    var timer = setInterval(function(root) {\n",
       "      if (root.Bokeh !== undefined) {\n",
       "        embed_document(root);\n",
       "        clearInterval(timer);\n",
       "      }\n",
       "      attempts++;\n",
       "      if (attempts > 100) {\n",
       "        console.log(\"Bokeh: ERROR: Unable to run BokehJS code because BokehJS library is missing\");\n",
       "        clearInterval(timer);\n",
       "      }\n",
       "    }, 10, root)\n",
       "  }\n",
       "})(window);"
      ],
      "application/vnd.bokehjs_exec.v0+json": ""
     },
     "metadata": {
      "application/vnd.bokehjs_exec.v0+json": {
       "id": "4760"
      }
     },
     "output_type": "display_data"
    }
   ],
   "source": [
    "# Female life expectancy\n",
    "years = list(map(str, list(range(2000,2018))))\n",
    "result = show_weighted_average(years, 'SP.DYN.LE00.FE.IN', 'SP.RUR.TOTL', \n",
    "                               ['LDCs', 'Developing excluding LDCs', 'OECD'])"
   ]
  },
  {
   "cell_type": "code",
   "execution_count": 18,
   "metadata": {
    "ExecuteTime": {
     "end_time": "2019-10-23T20:56:43.843247Z",
     "start_time": "2019-10-23T20:56:27.424052Z"
    },
    "slideshow": {
     "slide_type": "slide"
    }
   },
   "outputs": [
    {
     "data": {
      "text/html": [
       "\n",
       "\n",
       "\n",
       "\n",
       "\n",
       "\n",
       "  <div class=\"bk-root\" id=\"741cca40-5e6b-4195-b72c-efbea49b2127\" data-root-id=\"5193\"></div>\n"
      ]
     },
     "metadata": {},
     "output_type": "display_data"
    },
    {
     "data": {
      "application/javascript": [
       "(function(root) {\n",
       "  function embed_document(root) {\n",
       "    \n",
       "  var docs_json = {\"3430e208-aaea-453c-b309-3f742a849d94\":{\"roots\":{\"references\":[{\"attributes\":{\"below\":[{\"id\":\"5204\",\"type\":\"LinearAxis\"}],\"center\":[{\"id\":\"5208\",\"type\":\"Grid\"},{\"id\":\"5213\",\"type\":\"Grid\"},{\"id\":\"5238\",\"type\":\"Legend\"}],\"left\":[{\"id\":\"5209\",\"type\":\"LinearAxis\"}],\"plot_height\":400,\"plot_width\":950,\"renderers\":[{\"id\":\"5230\",\"type\":\"GlyphRenderer\"},{\"id\":\"5243\",\"type\":\"GlyphRenderer\"},{\"id\":\"5248\",\"type\":\"GlyphRenderer\"},{\"id\":\"5264\",\"type\":\"GlyphRenderer\"},{\"id\":\"5269\",\"type\":\"GlyphRenderer\"},{\"id\":\"5289\",\"type\":\"GlyphRenderer\"}],\"title\":{\"id\":\"5194\",\"type\":\"Title\"},\"toolbar\":{\"id\":\"5220\",\"type\":\"Toolbar\"},\"x_range\":{\"id\":\"5196\",\"type\":\"DataRange1d\"},\"x_scale\":{\"id\":\"5200\",\"type\":\"LinearScale\"},\"y_range\":{\"id\":\"5198\",\"type\":\"DataRange1d\"},\"y_scale\":{\"id\":\"5202\",\"type\":\"LinearScale\"}},\"id\":\"5193\",\"subtype\":\"Figure\",\"type\":\"Plot\"},{\"attributes\":{\"source\":{\"id\":\"5286\",\"type\":\"ColumnDataSource\"}},\"id\":\"5290\",\"type\":\"CDSView\"},{\"attributes\":{\"bottom_units\":\"screen\",\"fill_alpha\":{\"value\":0.5},\"fill_color\":{\"value\":\"lightgrey\"},\"left_units\":\"screen\",\"level\":\"overlay\",\"line_alpha\":{\"value\":1.0},\"line_color\":{\"value\":\"black\"},\"line_dash\":[4,4],\"line_width\":{\"value\":2},\"render_mode\":\"css\",\"right_units\":\"screen\",\"top_units\":\"screen\"},\"id\":\"5237\",\"type\":\"BoxAnnotation\"},{\"attributes\":{\"fill_color\":{\"value\":\"#5430F1\"},\"line_color\":{\"value\":\"#5430F1\"},\"line_width\":{\"value\":3},\"x\":{\"field\":\"x\"},\"y\":{\"field\":\"y\"}},\"id\":\"5262\",\"type\":\"Circle\"},{\"attributes\":{},\"id\":\"5217\",\"type\":\"SaveTool\"},{\"attributes\":{\"items\":[{\"id\":\"5239\",\"type\":\"LegendItem\"},{\"id\":\"5260\",\"type\":\"LegendItem\"},{\"id\":\"5285\",\"type\":\"LegendItem\"}],\"location\":\"bottom_left\"},\"id\":\"5238\",\"type\":\"Legend\"},{\"attributes\":{},\"id\":\"5532\",\"type\":\"UnionRenderers\"},{\"attributes\":{\"fill_alpha\":{\"value\":0.1},\"fill_color\":{\"value\":\"#1f77b4\"},\"line_alpha\":{\"value\":0.1},\"line_color\":{\"value\":\"#1f77b4\"},\"line_width\":{\"value\":3},\"x\":{\"field\":\"x\"},\"y\":{\"field\":\"y\"}},\"id\":\"5263\",\"type\":\"Circle\"},{\"attributes\":{},\"id\":\"5205\",\"type\":\"BasicTicker\"},{\"attributes\":{},\"id\":\"5218\",\"type\":\"ResetTool\"},{\"attributes\":{},\"id\":\"5219\",\"type\":\"HelpTool\"},{\"attributes\":{},\"id\":\"5531\",\"type\":\"Selection\"},{\"attributes\":{\"data_source\":{\"id\":\"5261\",\"type\":\"ColumnDataSource\"},\"glyph\":{\"id\":\"5262\",\"type\":\"Circle\"},\"hover_glyph\":null,\"muted_glyph\":null,\"nonselection_glyph\":{\"id\":\"5263\",\"type\":\"Circle\"},\"selection_glyph\":null,\"view\":{\"id\":\"5265\",\"type\":\"CDSView\"}},\"id\":\"5264\",\"type\":\"GlyphRenderer\"},{\"attributes\":{\"label\":{\"value\":\"LDCs\"},\"renderers\":[{\"id\":\"5230\",\"type\":\"GlyphRenderer\"}]},\"id\":\"5239\",\"type\":\"LegendItem\"},{\"attributes\":{\"callback\":null,\"data\":{\"x\":[\"2000\",\"2001\",\"2002\",\"2003\",\"2004\",\"2005\",\"2006\",\"2007\",\"2008\",\"2009\",\"2010\",\"2011\",\"2012\",\"2013\",\"2014\",\"2015\",\"2016\",\"2017\"],\"y\":[85.71439577036236,85.57464637853948,85.42987052449938,85.2595119163731,85.1157816927459,84.95917228819752,84.67367316779398,84.76333397019621,84.82905666578436,84.92486075515858,84.88687200109682,84.34903984029447,83.77222403234691,83.30820688707247,82.72786323433235,82.26461439968713,81.78532591691658,81.20720784411499]},\"selected\":{\"id\":\"5255\",\"type\":\"Selection\"},\"selection_policy\":{\"id\":\"5256\",\"type\":\"UnionRenderers\"}},\"id\":\"5227\",\"type\":\"ColumnDataSource\"},{\"attributes\":{\"fill_color\":{\"value\":\"#2CC775\"},\"line_color\":{\"value\":\"#2CC775\"},\"line_width\":{\"value\":3},\"x\":{\"field\":\"x\"},\"y\":{\"field\":\"y\"}},\"id\":\"5287\",\"type\":\"Circle\"},{\"attributes\":{},\"id\":\"5258\",\"type\":\"UnionRenderers\"},{\"attributes\":{\"ticker\":{\"id\":\"5205\",\"type\":\"BasicTicker\"}},\"id\":\"5208\",\"type\":\"Grid\"},{\"attributes\":{\"source\":{\"id\":\"5227\",\"type\":\"ColumnDataSource\"}},\"id\":\"5231\",\"type\":\"CDSView\"},{\"attributes\":{\"callback\":null,\"data\":{\"x\":[\"2000\",\"2001\",\"2002\",\"2003\",\"2004\",\"2005\",\"2006\",\"2007\",\"2008\",\"2009\",\"2010\",\"2011\",\"2012\",\"2013\",\"2014\",\"2015\",\"2016\",\"2017\"],\"y\":[14.48536902485712,14.493511769829844,14.191813316333826,13.993763075972725,13.83147018503385,13.370962271652207,12.80581092501148,12.566340934456548,12.298027267203656,12.373333284001852,12.307219209624574,12.287989367669757,12.15311900334881,11.971961077598174,11.744068220445252,11.58624004783634,11.401146754618209,11.2798928194068]},\"selected\":{\"id\":\"5533\",\"type\":\"Selection\"},\"selection_policy\":{\"id\":\"5534\",\"type\":\"UnionRenderers\"}},\"id\":\"5286\",\"type\":\"ColumnDataSource\"},{\"attributes\":{},\"id\":\"5200\",\"type\":\"LinearScale\"},{\"attributes\":{},\"id\":\"5233\",\"type\":\"BasicTickFormatter\"},{\"attributes\":{\"label\":{\"value\":\"Developing excluding LDCs\"},\"renderers\":[{\"id\":\"5248\",\"type\":\"GlyphRenderer\"}]},\"id\":\"5260\",\"type\":\"LegendItem\"},{\"attributes\":{\"fill_alpha\":{\"value\":0.1},\"fill_color\":{\"value\":\"#1f77b4\"},\"line_alpha\":{\"value\":0.1},\"line_color\":{\"value\":\"#1f77b4\"},\"line_width\":{\"value\":3},\"x\":{\"field\":\"x\"},\"y\":{\"field\":\"y\"}},\"id\":\"5288\",\"type\":\"Circle\"},{\"attributes\":{},\"id\":\"5214\",\"type\":\"PanTool\"},{\"attributes\":{},\"id\":\"5215\",\"type\":\"WheelZoomTool\"},{\"attributes\":{},\"id\":\"5202\",\"type\":\"LinearScale\"},{\"attributes\":{\"data_source\":{\"id\":\"5286\",\"type\":\"ColumnDataSource\"},\"glyph\":{\"id\":\"5287\",\"type\":\"Circle\"},\"hover_glyph\":null,\"muted_glyph\":null,\"nonselection_glyph\":{\"id\":\"5288\",\"type\":\"Circle\"},\"selection_glyph\":null,\"view\":{\"id\":\"5290\",\"type\":\"CDSView\"}},\"id\":\"5289\",\"type\":\"GlyphRenderer\"},{\"attributes\":{},\"id\":\"5235\",\"type\":\"BasicTickFormatter\"},{\"attributes\":{\"callback\":null,\"data\":{\"x\":[\"2000\",\"2001\",\"2002\",\"2003\",\"2004\",\"2005\",\"2006\",\"2007\",\"2008\",\"2009\",\"2010\",\"2011\",\"2012\",\"2013\",\"2014\",\"2015\",\"2016\",\"2017\"],\"y\":[65.33052780357724,64.90584506088574,64.18936699106743,63.73445964952182,63.152358860863174,62.30143939928258,61.538376583341744,60.91730989564122,60.2837124463239,59.71729357938916,59.04153779959497,57.91153517857363,56.58414101141624,55.950562536773546,55.358412885604125,54.9320293233056,54.553900414655715,54.20588235767385]},\"selected\":{\"id\":\"5282\",\"type\":\"Selection\"},\"selection_policy\":{\"id\":\"5283\",\"type\":\"UnionRenderers\"}},\"id\":\"5261\",\"type\":\"ColumnDataSource\"},{\"attributes\":{\"axis_label\":\"Years\",\"formatter\":{\"id\":\"5235\",\"type\":\"BasicTickFormatter\"},\"ticker\":{\"id\":\"5205\",\"type\":\"BasicTicker\"}},\"id\":\"5204\",\"type\":\"LinearAxis\"},{\"attributes\":{},\"id\":\"5256\",\"type\":\"UnionRenderers\"},{\"attributes\":{\"active_drag\":\"auto\",\"active_inspect\":\"auto\",\"active_multi\":null,\"active_scroll\":\"auto\",\"active_tap\":\"auto\",\"tools\":[{\"id\":\"5214\",\"type\":\"PanTool\"},{\"id\":\"5215\",\"type\":\"WheelZoomTool\"},{\"id\":\"5216\",\"type\":\"BoxZoomTool\"},{\"id\":\"5217\",\"type\":\"SaveTool\"},{\"id\":\"5218\",\"type\":\"ResetTool\"},{\"id\":\"5219\",\"type\":\"HelpTool\"},{\"id\":\"5291\",\"type\":\"HoverTool\"}]},\"id\":\"5220\",\"type\":\"Toolbar\"},{\"attributes\":{\"callback\":null,\"tooltips\":\"        \\n        <div style=padding=5px>Year:@x</div>\\n        <div style=padding=5px>Value:@y</div>\\n        \"},\"id\":\"5291\",\"type\":\"HoverTool\"},{\"attributes\":{\"dimension\":1,\"ticker\":{\"id\":\"5210\",\"type\":\"BasicTicker\"}},\"id\":\"5213\",\"type\":\"Grid\"},{\"attributes\":{},\"id\":\"5283\",\"type\":\"UnionRenderers\"},{\"attributes\":{\"text\":\"Vulnerable employment, female (% of female employment) (modeled ILO estimate) weighted against Labor force, total\"},\"id\":\"5194\",\"type\":\"Title\"},{\"attributes\":{\"label\":{\"value\":\"OECD\"},\"renderers\":[{\"id\":\"5269\",\"type\":\"GlyphRenderer\"}]},\"id\":\"5285\",\"type\":\"LegendItem\"},{\"attributes\":{},\"id\":\"5257\",\"type\":\"Selection\"},{\"attributes\":{\"callback\":null},\"id\":\"5196\",\"type\":\"DataRange1d\"},{\"attributes\":{\"line_alpha\":0.1,\"line_color\":\"#1f77b4\",\"line_width\":2,\"x\":{\"field\":\"x\"},\"y\":{\"field\":\"y\"}},\"id\":\"5229\",\"type\":\"Line\"},{\"attributes\":{\"data_source\":{\"id\":\"5227\",\"type\":\"ColumnDataSource\"},\"glyph\":{\"id\":\"5228\",\"type\":\"Line\"},\"hover_glyph\":null,\"muted_glyph\":null,\"nonselection_glyph\":{\"id\":\"5229\",\"type\":\"Line\"},\"selection_glyph\":null,\"view\":{\"id\":\"5231\",\"type\":\"CDSView\"}},\"id\":\"5230\",\"type\":\"GlyphRenderer\"},{\"attributes\":{\"callback\":null},\"id\":\"5198\",\"type\":\"DataRange1d\"},{\"attributes\":{\"line_color\":\"#5430F1\",\"line_width\":2,\"x\":{\"field\":\"x\"},\"y\":{\"field\":\"y\"}},\"id\":\"5246\",\"type\":\"Line\"},{\"attributes\":{\"line_color\":\"#FA1857\",\"line_width\":2,\"x\":{\"field\":\"x\"},\"y\":{\"field\":\"y\"}},\"id\":\"5228\",\"type\":\"Line\"},{\"attributes\":{\"overlay\":{\"id\":\"5237\",\"type\":\"BoxAnnotation\"}},\"id\":\"5216\",\"type\":\"BoxZoomTool\"},{\"attributes\":{},\"id\":\"5280\",\"type\":\"Selection\"},{\"attributes\":{},\"id\":\"5255\",\"type\":\"Selection\"},{\"attributes\":{},\"id\":\"5281\",\"type\":\"UnionRenderers\"},{\"attributes\":{\"axis_label\":\"Percentage\",\"formatter\":{\"id\":\"5233\",\"type\":\"BasicTickFormatter\"},\"ticker\":{\"id\":\"5210\",\"type\":\"BasicTicker\"}},\"id\":\"5209\",\"type\":\"LinearAxis\"},{\"attributes\":{},\"id\":\"5210\",\"type\":\"BasicTicker\"},{\"attributes\":{},\"id\":\"5282\",\"type\":\"Selection\"},{\"attributes\":{\"data_source\":{\"id\":\"5240\",\"type\":\"ColumnDataSource\"},\"glyph\":{\"id\":\"5241\",\"type\":\"Circle\"},\"hover_glyph\":null,\"muted_glyph\":null,\"nonselection_glyph\":{\"id\":\"5242\",\"type\":\"Circle\"},\"selection_glyph\":null,\"view\":{\"id\":\"5244\",\"type\":\"CDSView\"}},\"id\":\"5243\",\"type\":\"GlyphRenderer\"},{\"attributes\":{},\"id\":\"5533\",\"type\":\"Selection\"},{\"attributes\":{\"line_alpha\":0.1,\"line_color\":\"#1f77b4\",\"line_width\":2,\"x\":{\"field\":\"x\"},\"y\":{\"field\":\"y\"}},\"id\":\"5268\",\"type\":\"Line\"},{\"attributes\":{\"source\":{\"id\":\"5240\",\"type\":\"ColumnDataSource\"}},\"id\":\"5244\",\"type\":\"CDSView\"},{\"attributes\":{\"source\":{\"id\":\"5245\",\"type\":\"ColumnDataSource\"}},\"id\":\"5249\",\"type\":\"CDSView\"},{\"attributes\":{},\"id\":\"5534\",\"type\":\"UnionRenderers\"},{\"attributes\":{\"data_source\":{\"id\":\"5266\",\"type\":\"ColumnDataSource\"},\"glyph\":{\"id\":\"5267\",\"type\":\"Line\"},\"hover_glyph\":null,\"muted_glyph\":null,\"nonselection_glyph\":{\"id\":\"5268\",\"type\":\"Line\"},\"selection_glyph\":null,\"view\":{\"id\":\"5270\",\"type\":\"CDSView\"}},\"id\":\"5269\",\"type\":\"GlyphRenderer\"},{\"attributes\":{\"callback\":null,\"data\":{\"x\":[\"2000\",\"2001\",\"2002\",\"2003\",\"2004\",\"2005\",\"2006\",\"2007\",\"2008\",\"2009\",\"2010\",\"2011\",\"2012\",\"2013\",\"2014\",\"2015\",\"2016\",\"2017\"],\"y\":[65.33052780357724,64.90584506088574,64.18936699106743,63.73445964952182,63.152358860863174,62.30143939928258,61.538376583341744,60.91730989564122,60.2837124463239,59.71729357938916,59.04153779959497,57.91153517857363,56.58414101141624,55.950562536773546,55.358412885604125,54.9320293233056,54.553900414655715,54.20588235767385]},\"selected\":{\"id\":\"5280\",\"type\":\"Selection\"},\"selection_policy\":{\"id\":\"5281\",\"type\":\"UnionRenderers\"}},\"id\":\"5245\",\"type\":\"ColumnDataSource\"},{\"attributes\":{\"source\":{\"id\":\"5266\",\"type\":\"ColumnDataSource\"}},\"id\":\"5270\",\"type\":\"CDSView\"},{\"attributes\":{\"callback\":null,\"data\":{\"x\":[\"2000\",\"2001\",\"2002\",\"2003\",\"2004\",\"2005\",\"2006\",\"2007\",\"2008\",\"2009\",\"2010\",\"2011\",\"2012\",\"2013\",\"2014\",\"2015\",\"2016\",\"2017\"],\"y\":[85.71439577036236,85.57464637853948,85.42987052449938,85.2595119163731,85.1157816927459,84.95917228819752,84.67367316779398,84.76333397019621,84.82905666578436,84.92486075515858,84.88687200109682,84.34903984029447,83.77222403234691,83.30820688707247,82.72786323433235,82.26461439968713,81.78532591691658,81.20720784411499]},\"selected\":{\"id\":\"5257\",\"type\":\"Selection\"},\"selection_policy\":{\"id\":\"5258\",\"type\":\"UnionRenderers\"}},\"id\":\"5240\",\"type\":\"ColumnDataSource\"},{\"attributes\":{\"source\":{\"id\":\"5261\",\"type\":\"ColumnDataSource\"}},\"id\":\"5265\",\"type\":\"CDSView\"},{\"attributes\":{\"data_source\":{\"id\":\"5245\",\"type\":\"ColumnDataSource\"},\"glyph\":{\"id\":\"5246\",\"type\":\"Line\"},\"hover_glyph\":null,\"muted_glyph\":null,\"nonselection_glyph\":{\"id\":\"5247\",\"type\":\"Line\"},\"selection_glyph\":null,\"view\":{\"id\":\"5249\",\"type\":\"CDSView\"}},\"id\":\"5248\",\"type\":\"GlyphRenderer\"},{\"attributes\":{\"fill_color\":{\"value\":\"#FA1857\"},\"line_color\":{\"value\":\"#FA1857\"},\"line_width\":{\"value\":3},\"x\":{\"field\":\"x\"},\"y\":{\"field\":\"y\"}},\"id\":\"5241\",\"type\":\"Circle\"},{\"attributes\":{\"callback\":null,\"data\":{\"x\":[\"2000\",\"2001\",\"2002\",\"2003\",\"2004\",\"2005\",\"2006\",\"2007\",\"2008\",\"2009\",\"2010\",\"2011\",\"2012\",\"2013\",\"2014\",\"2015\",\"2016\",\"2017\"],\"y\":[14.48536902485712,14.493511769829844,14.191813316333826,13.993763075972725,13.83147018503385,13.370962271652207,12.80581092501148,12.566340934456548,12.298027267203656,12.373333284001852,12.307219209624574,12.287989367669757,12.15311900334881,11.971961077598174,11.744068220445252,11.58624004783634,11.401146754618209,11.2798928194068]},\"selected\":{\"id\":\"5531\",\"type\":\"Selection\"},\"selection_policy\":{\"id\":\"5532\",\"type\":\"UnionRenderers\"}},\"id\":\"5266\",\"type\":\"ColumnDataSource\"},{\"attributes\":{\"fill_alpha\":{\"value\":0.1},\"fill_color\":{\"value\":\"#1f77b4\"},\"line_alpha\":{\"value\":0.1},\"line_color\":{\"value\":\"#1f77b4\"},\"line_width\":{\"value\":3},\"x\":{\"field\":\"x\"},\"y\":{\"field\":\"y\"}},\"id\":\"5242\",\"type\":\"Circle\"},{\"attributes\":{\"line_alpha\":0.1,\"line_color\":\"#1f77b4\",\"line_width\":2,\"x\":{\"field\":\"x\"},\"y\":{\"field\":\"y\"}},\"id\":\"5247\",\"type\":\"Line\"},{\"attributes\":{\"line_color\":\"#2CC775\",\"line_width\":2,\"x\":{\"field\":\"x\"},\"y\":{\"field\":\"y\"}},\"id\":\"5267\",\"type\":\"Line\"}],\"root_ids\":[\"5193\"]},\"title\":\"Bokeh Application\",\"version\":\"1.3.4\"}};\n",
       "  var render_items = [{\"docid\":\"3430e208-aaea-453c-b309-3f742a849d94\",\"roots\":{\"5193\":\"741cca40-5e6b-4195-b72c-efbea49b2127\"}}];\n",
       "  root.Bokeh.embed.embed_items_notebook(docs_json, render_items);\n",
       "\n",
       "  }\n",
       "  if (root.Bokeh !== undefined) {\n",
       "    embed_document(root);\n",
       "  } else {\n",
       "    var attempts = 0;\n",
       "    var timer = setInterval(function(root) {\n",
       "      if (root.Bokeh !== undefined) {\n",
       "        embed_document(root);\n",
       "        clearInterval(timer);\n",
       "      }\n",
       "      attempts++;\n",
       "      if (attempts > 100) {\n",
       "        console.log(\"Bokeh: ERROR: Unable to run BokehJS code because BokehJS library is missing\");\n",
       "        clearInterval(timer);\n",
       "      }\n",
       "    }, 10, root)\n",
       "  }\n",
       "})(window);"
      ],
      "application/vnd.bokehjs_exec.v0+json": ""
     },
     "metadata": {
      "application/vnd.bokehjs_exec.v0+json": {
       "id": "5193"
      }
     },
     "output_type": "display_data"
    }
   ],
   "source": [
    "# Labor force\n",
    "years = list(map(str, list(range(2000,2018))))\n",
    "result = show_weighted_average(years, 'SL.EMP.VULN.FE.ZS', 'SL.TLF.TOTL.IN', \n",
    "                               ['LDCs', 'Developing excluding LDCs', 'OECD'])"
   ]
  },
  {
   "cell_type": "code",
   "execution_count": 19,
   "metadata": {
    "ExecuteTime": {
     "end_time": "2019-10-23T20:56:55.975955Z",
     "start_time": "2019-10-23T20:56:43.847736Z"
    },
    "slideshow": {
     "slide_type": "slide"
    }
   },
   "outputs": [
    {
     "data": {
      "text/html": [
       "\n",
       "\n",
       "\n",
       "\n",
       "\n",
       "\n",
       "  <div class=\"bk-root\" id=\"8af521c8-5046-48a8-84b2-340b2134acc3\" data-root-id=\"5644\"></div>\n"
      ]
     },
     "metadata": {},
     "output_type": "display_data"
    },
    {
     "data": {
      "application/javascript": [
       "(function(root) {\n",
       "  function embed_document(root) {\n",
       "    \n",
       "  var docs_json = {\"191f48b7-6d0b-4c33-a6dc-2fd28613b5bb\":{\"roots\":{\"references\":[{\"attributes\":{\"below\":[{\"id\":\"5655\",\"type\":\"LinearAxis\"}],\"center\":[{\"id\":\"5659\",\"type\":\"Grid\"},{\"id\":\"5664\",\"type\":\"Grid\"},{\"id\":\"5689\",\"type\":\"Legend\"}],\"left\":[{\"id\":\"5660\",\"type\":\"LinearAxis\"}],\"plot_height\":400,\"plot_width\":950,\"renderers\":[{\"id\":\"5681\",\"type\":\"GlyphRenderer\"},{\"id\":\"5694\",\"type\":\"GlyphRenderer\"},{\"id\":\"5699\",\"type\":\"GlyphRenderer\"},{\"id\":\"5715\",\"type\":\"GlyphRenderer\"}],\"title\":{\"id\":\"5645\",\"type\":\"Title\"},\"toolbar\":{\"id\":\"5671\",\"type\":\"Toolbar\"},\"x_range\":{\"id\":\"5647\",\"type\":\"DataRange1d\"},\"x_scale\":{\"id\":\"5651\",\"type\":\"LinearScale\"},\"y_range\":{\"id\":\"5649\",\"type\":\"DataRange1d\"},\"y_scale\":{\"id\":\"5653\",\"type\":\"LinearScale\"}},\"id\":\"5644\",\"subtype\":\"Figure\",\"type\":\"Plot\"},{\"attributes\":{},\"id\":\"5661\",\"type\":\"BasicTicker\"},{\"attributes\":{\"callback\":null,\"data\":{\"x\":[\"2000\",\"2001\",\"2002\",\"2003\",\"2004\",\"2005\",\"2006\",\"2007\",\"2008\",\"2009\",\"2010\",\"2011\",\"2012\",\"2013\",\"2014\",\"2015\",\"2016\",\"2017\"],\"y\":[45.758602232258916,44.006185482373866,42.27625112523983,40.52709249788235,38.9627181695033,37.23908287256094,35.71694700311238,34.24378821297313,32.82356542916968,31.505214349340378,30.23549863774606,29.02988830437219,27.850705825641178,26.781110096608014,25.712388491284276,24.682632180401672,23.77423357312919,22.83697035928226]},\"selected\":{\"id\":\"5971\",\"type\":\"Selection\"},\"selection_policy\":{\"id\":\"5972\",\"type\":\"UnionRenderers\"}},\"id\":\"5696\",\"type\":\"ColumnDataSource\"},{\"attributes\":{\"dimension\":1,\"ticker\":{\"id\":\"5661\",\"type\":\"BasicTicker\"}},\"id\":\"5664\",\"type\":\"Grid\"},{\"attributes\":{\"line_color\":\"#5430F1\",\"line_width\":2,\"x\":{\"field\":\"x\"},\"y\":{\"field\":\"y\"}},\"id\":\"5697\",\"type\":\"Line\"},{\"attributes\":{},\"id\":\"5972\",\"type\":\"UnionRenderers\"},{\"attributes\":{\"line_color\":\"#FA1857\",\"line_width\":2,\"x\":{\"field\":\"x\"},\"y\":{\"field\":\"y\"}},\"id\":\"5679\",\"type\":\"Line\"},{\"attributes\":{\"fill_color\":{\"value\":\"#FA1857\"},\"line_color\":{\"value\":\"#FA1857\"},\"line_width\":{\"value\":3},\"x\":{\"field\":\"x\"},\"y\":{\"field\":\"y\"}},\"id\":\"5692\",\"type\":\"Circle\"},{\"attributes\":{\"source\":{\"id\":\"5712\",\"type\":\"ColumnDataSource\"}},\"id\":\"5716\",\"type\":\"CDSView\"},{\"attributes\":{},\"id\":\"5974\",\"type\":\"UnionRenderers\"},{\"attributes\":{\"callback\":null,\"data\":{\"x\":[\"2000\",\"2001\",\"2002\",\"2003\",\"2004\",\"2005\",\"2006\",\"2007\",\"2008\",\"2009\",\"2010\",\"2011\",\"2012\",\"2013\",\"2014\",\"2015\",\"2016\",\"2017\"],\"y\":[82.70759690380814,79.73629371086803,76.70131956567673,73.71454770622205,70.80686638940736,68.02122954765979,65.41417889354649,62.8514871260428,60.69956279939264,58.17600443643168,56.34077865781633,53.92638955415337,52.0577982516888,50.28482276049278,48.62932090980866,47.09117150486615,45.62733787270465,44.21599634272751]},\"selected\":{\"id\":\"5706\",\"type\":\"Selection\"},\"selection_policy\":{\"id\":\"5707\",\"type\":\"UnionRenderers\"}},\"id\":\"5678\",\"type\":\"ColumnDataSource\"},{\"attributes\":{\"fill_alpha\":{\"value\":0.1},\"fill_color\":{\"value\":\"#1f77b4\"},\"line_alpha\":{\"value\":0.1},\"line_color\":{\"value\":\"#1f77b4\"},\"line_width\":{\"value\":3},\"x\":{\"field\":\"x\"},\"y\":{\"field\":\"y\"}},\"id\":\"5693\",\"type\":\"Circle\"},{\"attributes\":{\"data_source\":{\"id\":\"5691\",\"type\":\"ColumnDataSource\"},\"glyph\":{\"id\":\"5692\",\"type\":\"Circle\"},\"hover_glyph\":null,\"muted_glyph\":null,\"nonselection_glyph\":{\"id\":\"5693\",\"type\":\"Circle\"},\"selection_glyph\":null,\"view\":{\"id\":\"5695\",\"type\":\"CDSView\"}},\"id\":\"5694\",\"type\":\"GlyphRenderer\"},{\"attributes\":{\"line_alpha\":0.1,\"line_color\":\"#1f77b4\",\"line_width\":2,\"x\":{\"field\":\"x\"},\"y\":{\"field\":\"y\"}},\"id\":\"5680\",\"type\":\"Line\"},{\"attributes\":{},\"id\":\"5971\",\"type\":\"Selection\"},{\"attributes\":{\"callback\":null,\"tooltips\":\"        \\n        <div style=padding=5px>Year:@x</div>\\n        <div style=padding=5px>Value:@y</div>\\n        \"},\"id\":\"5717\",\"type\":\"HoverTool\"},{\"attributes\":{},\"id\":\"5973\",\"type\":\"Selection\"},{\"attributes\":{\"items\":[{\"id\":\"5690\",\"type\":\"LegendItem\"},{\"id\":\"5711\",\"type\":\"LegendItem\"}],\"location\":\"bottom_left\"},\"id\":\"5689\",\"type\":\"Legend\"},{\"attributes\":{\"fill_color\":{\"value\":\"#5430F1\"},\"line_color\":{\"value\":\"#5430F1\"},\"line_width\":{\"value\":3},\"x\":{\"field\":\"x\"},\"y\":{\"field\":\"y\"}},\"id\":\"5713\",\"type\":\"Circle\"},{\"attributes\":{},\"id\":\"5665\",\"type\":\"PanTool\"},{\"attributes\":{\"label\":{\"value\":\"LDCs\"},\"renderers\":[{\"id\":\"5681\",\"type\":\"GlyphRenderer\"}]},\"id\":\"5690\",\"type\":\"LegendItem\"},{\"attributes\":{\"fill_alpha\":{\"value\":0.1},\"fill_color\":{\"value\":\"#1f77b4\"},\"line_alpha\":{\"value\":0.1},\"line_color\":{\"value\":\"#1f77b4\"},\"line_width\":{\"value\":3},\"x\":{\"field\":\"x\"},\"y\":{\"field\":\"y\"}},\"id\":\"5714\",\"type\":\"Circle\"},{\"attributes\":{},\"id\":\"5666\",\"type\":\"WheelZoomTool\"},{\"attributes\":{\"source\":{\"id\":\"5691\",\"type\":\"ColumnDataSource\"}},\"id\":\"5695\",\"type\":\"CDSView\"},{\"attributes\":{\"callback\":null,\"data\":{\"x\":[\"2000\",\"2001\",\"2002\",\"2003\",\"2004\",\"2005\",\"2006\",\"2007\",\"2008\",\"2009\",\"2010\",\"2011\",\"2012\",\"2013\",\"2014\",\"2015\",\"2016\",\"2017\"],\"y\":[82.70759690380814,79.73629371086803,76.70131956567673,73.71454770622205,70.80686638940736,68.02122954765979,65.41417889354649,62.8514871260428,60.69956279939264,58.17600443643168,56.34077865781633,53.92638955415337,52.0577982516888,50.28482276049278,48.62932090980866,47.09117150486615,45.62733787270465,44.21599634272751]},\"selected\":{\"id\":\"5708\",\"type\":\"Selection\"},\"selection_policy\":{\"id\":\"5709\",\"type\":\"UnionRenderers\"}},\"id\":\"5691\",\"type\":\"ColumnDataSource\"},{\"attributes\":{\"data_source\":{\"id\":\"5712\",\"type\":\"ColumnDataSource\"},\"glyph\":{\"id\":\"5713\",\"type\":\"Circle\"},\"hover_glyph\":null,\"muted_glyph\":null,\"nonselection_glyph\":{\"id\":\"5714\",\"type\":\"Circle\"},\"selection_glyph\":null,\"view\":{\"id\":\"5716\",\"type\":\"CDSView\"}},\"id\":\"5715\",\"type\":\"GlyphRenderer\"},{\"attributes\":{\"overlay\":{\"id\":\"5688\",\"type\":\"BoxAnnotation\"}},\"id\":\"5667\",\"type\":\"BoxZoomTool\"},{\"attributes\":{},\"id\":\"5684\",\"type\":\"BasicTickFormatter\"},{\"attributes\":{},\"id\":\"5709\",\"type\":\"UnionRenderers\"},{\"attributes\":{},\"id\":\"5668\",\"type\":\"SaveTool\"},{\"attributes\":{},\"id\":\"5686\",\"type\":\"BasicTickFormatter\"},{\"attributes\":{\"label\":{\"value\":\"Developing excluding LDCs\"},\"renderers\":[{\"id\":\"5699\",\"type\":\"GlyphRenderer\"}]},\"id\":\"5711\",\"type\":\"LegendItem\"},{\"attributes\":{\"source\":{\"id\":\"5678\",\"type\":\"ColumnDataSource\"}},\"id\":\"5682\",\"type\":\"CDSView\"},{\"attributes\":{},\"id\":\"5669\",\"type\":\"ResetTool\"},{\"attributes\":{\"text\":\"Mortality rate, infant (per 1,000 live births) weighted against Population, total\"},\"id\":\"5645\",\"type\":\"Title\"},{\"attributes\":{\"bottom_units\":\"screen\",\"fill_alpha\":{\"value\":0.5},\"fill_color\":{\"value\":\"lightgrey\"},\"left_units\":\"screen\",\"level\":\"overlay\",\"line_alpha\":{\"value\":1.0},\"line_color\":{\"value\":\"black\"},\"line_dash\":[4,4],\"line_width\":{\"value\":2},\"render_mode\":\"css\",\"right_units\":\"screen\",\"top_units\":\"screen\"},\"id\":\"5688\",\"type\":\"BoxAnnotation\"},{\"attributes\":{\"callback\":null,\"data\":{\"x\":[\"2000\",\"2001\",\"2002\",\"2003\",\"2004\",\"2005\",\"2006\",\"2007\",\"2008\",\"2009\",\"2010\",\"2011\",\"2012\",\"2013\",\"2014\",\"2015\",\"2016\",\"2017\"],\"y\":[45.758602232258916,44.006185482373866,42.27625112523983,40.52709249788235,38.9627181695033,37.23908287256094,35.71694700311238,34.24378821297313,32.82356542916968,31.505214349340378,30.23549863774606,29.02988830437219,27.850705825641178,26.781110096608014,25.712388491284276,24.682632180401672,23.77423357312919,22.83697035928226]},\"selected\":{\"id\":\"5973\",\"type\":\"Selection\"},\"selection_policy\":{\"id\":\"5974\",\"type\":\"UnionRenderers\"}},\"id\":\"5712\",\"type\":\"ColumnDataSource\"},{\"attributes\":{},\"id\":\"5670\",\"type\":\"HelpTool\"},{\"attributes\":{\"callback\":null},\"id\":\"5647\",\"type\":\"DataRange1d\"},{\"attributes\":{},\"id\":\"5706\",\"type\":\"Selection\"},{\"attributes\":{\"active_drag\":\"auto\",\"active_inspect\":\"auto\",\"active_multi\":null,\"active_scroll\":\"auto\",\"active_tap\":\"auto\",\"tools\":[{\"id\":\"5665\",\"type\":\"PanTool\"},{\"id\":\"5666\",\"type\":\"WheelZoomTool\"},{\"id\":\"5667\",\"type\":\"BoxZoomTool\"},{\"id\":\"5668\",\"type\":\"SaveTool\"},{\"id\":\"5669\",\"type\":\"ResetTool\"},{\"id\":\"5670\",\"type\":\"HelpTool\"},{\"id\":\"5717\",\"type\":\"HoverTool\"}]},\"id\":\"5671\",\"type\":\"Toolbar\"},{\"attributes\":{\"callback\":null},\"id\":\"5649\",\"type\":\"DataRange1d\"},{\"attributes\":{},\"id\":\"5651\",\"type\":\"LinearScale\"},{\"attributes\":{},\"id\":\"5707\",\"type\":\"UnionRenderers\"},{\"attributes\":{\"data_source\":{\"id\":\"5678\",\"type\":\"ColumnDataSource\"},\"glyph\":{\"id\":\"5679\",\"type\":\"Line\"},\"hover_glyph\":null,\"muted_glyph\":null,\"nonselection_glyph\":{\"id\":\"5680\",\"type\":\"Line\"},\"selection_glyph\":null,\"view\":{\"id\":\"5682\",\"type\":\"CDSView\"}},\"id\":\"5681\",\"type\":\"GlyphRenderer\"},{\"attributes\":{},\"id\":\"5653\",\"type\":\"LinearScale\"},{\"attributes\":{},\"id\":\"5708\",\"type\":\"Selection\"},{\"attributes\":{\"axis_label\":\"Years\",\"formatter\":{\"id\":\"5686\",\"type\":\"BasicTickFormatter\"},\"ticker\":{\"id\":\"5656\",\"type\":\"BasicTicker\"}},\"id\":\"5655\",\"type\":\"LinearAxis\"},{\"attributes\":{\"line_alpha\":0.1,\"line_color\":\"#1f77b4\",\"line_width\":2,\"x\":{\"field\":\"x\"},\"y\":{\"field\":\"y\"}},\"id\":\"5698\",\"type\":\"Line\"},{\"attributes\":{\"data_source\":{\"id\":\"5696\",\"type\":\"ColumnDataSource\"},\"glyph\":{\"id\":\"5697\",\"type\":\"Line\"},\"hover_glyph\":null,\"muted_glyph\":null,\"nonselection_glyph\":{\"id\":\"5698\",\"type\":\"Line\"},\"selection_glyph\":null,\"view\":{\"id\":\"5700\",\"type\":\"CDSView\"}},\"id\":\"5699\",\"type\":\"GlyphRenderer\"},{\"attributes\":{},\"id\":\"5656\",\"type\":\"BasicTicker\"},{\"attributes\":{\"ticker\":{\"id\":\"5656\",\"type\":\"BasicTicker\"}},\"id\":\"5659\",\"type\":\"Grid\"},{\"attributes\":{\"source\":{\"id\":\"5696\",\"type\":\"ColumnDataSource\"}},\"id\":\"5700\",\"type\":\"CDSView\"},{\"attributes\":{\"axis_label\":\"Percentage\",\"formatter\":{\"id\":\"5684\",\"type\":\"BasicTickFormatter\"},\"ticker\":{\"id\":\"5661\",\"type\":\"BasicTicker\"}},\"id\":\"5660\",\"type\":\"LinearAxis\"}],\"root_ids\":[\"5644\"]},\"title\":\"Bokeh Application\",\"version\":\"1.3.4\"}};\n",
       "  var render_items = [{\"docid\":\"191f48b7-6d0b-4c33-a6dc-2fd28613b5bb\",\"roots\":{\"5644\":\"8af521c8-5046-48a8-84b2-340b2134acc3\"}}];\n",
       "  root.Bokeh.embed.embed_items_notebook(docs_json, render_items);\n",
       "\n",
       "  }\n",
       "  if (root.Bokeh !== undefined) {\n",
       "    embed_document(root);\n",
       "  } else {\n",
       "    var attempts = 0;\n",
       "    var timer = setInterval(function(root) {\n",
       "      if (root.Bokeh !== undefined) {\n",
       "        embed_document(root);\n",
       "        clearInterval(timer);\n",
       "      }\n",
       "      attempts++;\n",
       "      if (attempts > 100) {\n",
       "        console.log(\"Bokeh: ERROR: Unable to run BokehJS code because BokehJS library is missing\");\n",
       "        clearInterval(timer);\n",
       "      }\n",
       "    }, 10, root)\n",
       "  }\n",
       "})(window);"
      ],
      "application/vnd.bokehjs_exec.v0+json": ""
     },
     "metadata": {
      "application/vnd.bokehjs_exec.v0+json": {
       "id": "5644"
      }
     },
     "output_type": "display_data"
    }
   ],
   "source": [
    "# Infant mortality rate\n",
    "years = list(map(str, list(range(2000,2018))))\n",
    "result = show_weighted_average(years, 'SP.DYN.IMRT.IN', 'SP.POP.TOTL', ['LDCs', 'Developing excluding LDCs'])"
   ]
  },
  {
   "cell_type": "code",
   "execution_count": 20,
   "metadata": {
    "ExecuteTime": {
     "end_time": "2019-10-23T20:57:05.741799Z",
     "start_time": "2019-10-23T20:56:55.978007Z"
    },
    "slideshow": {
     "slide_type": "slide"
    }
   },
   "outputs": [
    {
     "data": {
      "text/html": [
       "\n",
       "\n",
       "\n",
       "\n",
       "\n",
       "\n",
       "  <div class=\"bk-root\" id=\"c6e67a7f-139e-4695-959f-8c6f7598dc4a\" data-root-id=\"6060\"></div>\n"
      ]
     },
     "metadata": {},
     "output_type": "display_data"
    },
    {
     "data": {
      "application/javascript": [
       "(function(root) {\n",
       "  function embed_document(root) {\n",
       "    \n",
       "  var docs_json = {\"49a918a4-173f-4097-91ad-98b9c8b395f0\":{\"roots\":{\"references\":[{\"attributes\":{\"below\":[{\"id\":\"6071\",\"type\":\"LinearAxis\"}],\"center\":[{\"id\":\"6075\",\"type\":\"Grid\"},{\"id\":\"6080\",\"type\":\"Grid\"},{\"id\":\"6105\",\"type\":\"Legend\"}],\"left\":[{\"id\":\"6076\",\"type\":\"LinearAxis\"}],\"plot_height\":400,\"plot_width\":950,\"renderers\":[{\"id\":\"6097\",\"type\":\"GlyphRenderer\"},{\"id\":\"6110\",\"type\":\"GlyphRenderer\"},{\"id\":\"6115\",\"type\":\"GlyphRenderer\"},{\"id\":\"6131\",\"type\":\"GlyphRenderer\"}],\"title\":{\"id\":\"6061\",\"type\":\"Title\"},\"toolbar\":{\"id\":\"6087\",\"type\":\"Toolbar\"},\"x_range\":{\"id\":\"6063\",\"type\":\"DataRange1d\"},\"x_scale\":{\"id\":\"6067\",\"type\":\"LinearScale\"},\"y_range\":{\"id\":\"6065\",\"type\":\"DataRange1d\"},\"y_scale\":{\"id\":\"6069\",\"type\":\"LinearScale\"}},\"id\":\"6060\",\"subtype\":\"Figure\",\"type\":\"Plot\"},{\"attributes\":{\"line_color\":\"#FA1857\",\"line_width\":2,\"x\":{\"field\":\"x\"},\"y\":{\"field\":\"y\"}},\"id\":\"6095\",\"type\":\"Line\"},{\"attributes\":{\"line_alpha\":0.1,\"line_color\":\"#1f77b4\",\"line_width\":2,\"x\":{\"field\":\"x\"},\"y\":{\"field\":\"y\"}},\"id\":\"6096\",\"type\":\"Line\"},{\"attributes\":{\"overlay\":{\"id\":\"6104\",\"type\":\"BoxAnnotation\"}},\"id\":\"6083\",\"type\":\"BoxZoomTool\"},{\"attributes\":{\"text\":\"People using at least basic drinking water services (% of population) weighted against Population, total\"},\"id\":\"6061\",\"type\":\"Title\"},{\"attributes\":{},\"id\":\"6402\",\"type\":\"UnionRenderers\"},{\"attributes\":{\"fill_alpha\":{\"value\":0.1},\"fill_color\":{\"value\":\"#1f77b4\"},\"line_alpha\":{\"value\":0.1},\"line_color\":{\"value\":\"#1f77b4\"},\"line_width\":{\"value\":3},\"x\":{\"field\":\"x\"},\"y\":{\"field\":\"y\"}},\"id\":\"6109\",\"type\":\"Circle\"},{\"attributes\":{},\"id\":\"6082\",\"type\":\"WheelZoomTool\"},{\"attributes\":{},\"id\":\"6072\",\"type\":\"BasicTicker\"},{\"attributes\":{\"source\":{\"id\":\"6094\",\"type\":\"ColumnDataSource\"}},\"id\":\"6098\",\"type\":\"CDSView\"},{\"attributes\":{},\"id\":\"6081\",\"type\":\"PanTool\"},{\"attributes\":{},\"id\":\"6122\",\"type\":\"Selection\"},{\"attributes\":{},\"id\":\"6069\",\"type\":\"LinearScale\"},{\"attributes\":{\"callback\":null,\"data\":{\"x\":[\"2000\",\"2001\",\"2002\",\"2003\",\"2004\",\"2005\",\"2006\",\"2007\",\"2008\",\"2009\",\"2010\",\"2011\",\"2012\",\"2013\",\"2014\",\"2015\",\"2016\",\"2017\"],\"y\":[50.6390755344685,51.36285836928065,52.14657844770643,52.97075929860047,53.794860079880166,54.662284525560544,55.520527356489325,56.36153645028357,57.240532507249455,58.11616913832772,58.98913296089495,59.64521383688594,60.53600239277637,61.398270388222066,62.265100775867786,63.08453248601209,63.816308183565866,64.57404357135272]},\"selected\":{\"id\":\"6122\",\"type\":\"Selection\"},\"selection_policy\":{\"id\":\"6123\",\"type\":\"UnionRenderers\"}},\"id\":\"6094\",\"type\":\"ColumnDataSource\"},{\"attributes\":{\"callback\":null},\"id\":\"6065\",\"type\":\"DataRange1d\"},{\"attributes\":{\"source\":{\"id\":\"6112\",\"type\":\"ColumnDataSource\"}},\"id\":\"6116\",\"type\":\"CDSView\"},{\"attributes\":{\"line_alpha\":0.1,\"line_color\":\"#1f77b4\",\"line_width\":2,\"x\":{\"field\":\"x\"},\"y\":{\"field\":\"y\"}},\"id\":\"6114\",\"type\":\"Line\"},{\"attributes\":{},\"id\":\"6084\",\"type\":\"SaveTool\"},{\"attributes\":{\"callback\":null,\"tooltips\":\"        \\n        <div style=padding=5px>Year:@x</div>\\n        <div style=padding=5px>Value:@y</div>\\n        \"},\"id\":\"6133\",\"type\":\"HoverTool\"},{\"attributes\":{\"fill_alpha\":{\"value\":0.1},\"fill_color\":{\"value\":\"#1f77b4\"},\"line_alpha\":{\"value\":0.1},\"line_color\":{\"value\":\"#1f77b4\"},\"line_width\":{\"value\":3},\"x\":{\"field\":\"x\"},\"y\":{\"field\":\"y\"}},\"id\":\"6130\",\"type\":\"Circle\"},{\"attributes\":{\"data_source\":{\"id\":\"6094\",\"type\":\"ColumnDataSource\"},\"glyph\":{\"id\":\"6095\",\"type\":\"Line\"},\"hover_glyph\":null,\"muted_glyph\":null,\"nonselection_glyph\":{\"id\":\"6096\",\"type\":\"Line\"},\"selection_glyph\":null,\"view\":{\"id\":\"6098\",\"type\":\"CDSView\"}},\"id\":\"6097\",\"type\":\"GlyphRenderer\"},{\"attributes\":{},\"id\":\"6404\",\"type\":\"UnionRenderers\"},{\"attributes\":{\"callback\":null,\"data\":{\"x\":[\"2000\",\"2001\",\"2002\",\"2003\",\"2004\",\"2005\",\"2006\",\"2007\",\"2008\",\"2009\",\"2010\",\"2011\",\"2012\",\"2013\",\"2014\",\"2015\",\"2016\",\"2017\"],\"y\":[50.6390755344685,51.36285836928065,52.14657844770643,52.97075929860047,53.794860079880166,54.662284525560544,55.520527356489325,56.36153645028357,57.240532507249455,58.11616913832772,58.98913296089495,59.64521383688594,60.53600239277637,61.398270388222066,62.265100775867786,63.08453248601209,63.816308183565866,64.57404357135272]},\"selected\":{\"id\":\"6124\",\"type\":\"Selection\"},\"selection_policy\":{\"id\":\"6125\",\"type\":\"UnionRenderers\"}},\"id\":\"6107\",\"type\":\"ColumnDataSource\"},{\"attributes\":{},\"id\":\"6403\",\"type\":\"Selection\"},{\"attributes\":{\"data_source\":{\"id\":\"6112\",\"type\":\"ColumnDataSource\"},\"glyph\":{\"id\":\"6113\",\"type\":\"Line\"},\"hover_glyph\":null,\"muted_glyph\":null,\"nonselection_glyph\":{\"id\":\"6114\",\"type\":\"Line\"},\"selection_glyph\":null,\"view\":{\"id\":\"6116\",\"type\":\"CDSView\"}},\"id\":\"6115\",\"type\":\"GlyphRenderer\"},{\"attributes\":{\"line_color\":\"#5430F1\",\"line_width\":2,\"x\":{\"field\":\"x\"},\"y\":{\"field\":\"y\"}},\"id\":\"6113\",\"type\":\"Line\"},{\"attributes\":{},\"id\":\"6085\",\"type\":\"ResetTool\"},{\"attributes\":{\"ticker\":{\"id\":\"6072\",\"type\":\"BasicTicker\"}},\"id\":\"6075\",\"type\":\"Grid\"},{\"attributes\":{},\"id\":\"6100\",\"type\":\"BasicTickFormatter\"},{\"attributes\":{},\"id\":\"6077\",\"type\":\"BasicTicker\"},{\"attributes\":{\"callback\":null,\"data\":{\"x\":[\"2000\",\"2001\",\"2002\",\"2003\",\"2004\",\"2005\",\"2006\",\"2007\",\"2008\",\"2009\",\"2010\",\"2011\",\"2012\",\"2013\",\"2014\",\"2015\",\"2016\",\"2017\"],\"y\":[80.55112682880318,81.00479371625393,81.77679009369407,82.53784452553441,83.28851027121169,84.02975397091646,84.75379189012546,85.4649501299916,86.16369312765474,86.84098274717998,87.50754213927502,88.15891127427683,88.79749865814709,89.42443209227703,90.04162285513938,90.65090738325256,91.23674955938168,91.74156692102636]},\"selected\":{\"id\":\"6401\",\"type\":\"Selection\"},\"selection_policy\":{\"id\":\"6402\",\"type\":\"UnionRenderers\"}},\"id\":\"6112\",\"type\":\"ColumnDataSource\"},{\"attributes\":{\"fill_color\":{\"value\":\"#5430F1\"},\"line_color\":{\"value\":\"#5430F1\"},\"line_width\":{\"value\":3},\"x\":{\"field\":\"x\"},\"y\":{\"field\":\"y\"}},\"id\":\"6129\",\"type\":\"Circle\"},{\"attributes\":{\"bottom_units\":\"screen\",\"fill_alpha\":{\"value\":0.5},\"fill_color\":{\"value\":\"lightgrey\"},\"left_units\":\"screen\",\"level\":\"overlay\",\"line_alpha\":{\"value\":1.0},\"line_color\":{\"value\":\"black\"},\"line_dash\":[4,4],\"line_width\":{\"value\":2},\"render_mode\":\"css\",\"right_units\":\"screen\",\"top_units\":\"screen\"},\"id\":\"6104\",\"type\":\"BoxAnnotation\"},{\"attributes\":{\"label\":{\"value\":\"Developing excluding LDCs\"},\"renderers\":[{\"id\":\"6115\",\"type\":\"GlyphRenderer\"}]},\"id\":\"6127\",\"type\":\"LegendItem\"},{\"attributes\":{\"fill_color\":{\"value\":\"#FA1857\"},\"line_color\":{\"value\":\"#FA1857\"},\"line_width\":{\"value\":3},\"x\":{\"field\":\"x\"},\"y\":{\"field\":\"y\"}},\"id\":\"6108\",\"type\":\"Circle\"},{\"attributes\":{\"axis_label\":\"Years\",\"formatter\":{\"id\":\"6102\",\"type\":\"BasicTickFormatter\"},\"ticker\":{\"id\":\"6072\",\"type\":\"BasicTicker\"}},\"id\":\"6071\",\"type\":\"LinearAxis\"},{\"attributes\":{\"axis_label\":\"Percentage\",\"formatter\":{\"id\":\"6100\",\"type\":\"BasicTickFormatter\"},\"ticker\":{\"id\":\"6077\",\"type\":\"BasicTicker\"}},\"id\":\"6076\",\"type\":\"LinearAxis\"},{\"attributes\":{},\"id\":\"6102\",\"type\":\"BasicTickFormatter\"},{\"attributes\":{\"dimension\":1,\"ticker\":{\"id\":\"6077\",\"type\":\"BasicTicker\"}},\"id\":\"6080\",\"type\":\"Grid\"},{\"attributes\":{\"label\":{\"value\":\"LDCs\"},\"renderers\":[{\"id\":\"6097\",\"type\":\"GlyphRenderer\"}]},\"id\":\"6106\",\"type\":\"LegendItem\"},{\"attributes\":{},\"id\":\"6124\",\"type\":\"Selection\"},{\"attributes\":{\"data_source\":{\"id\":\"6107\",\"type\":\"ColumnDataSource\"},\"glyph\":{\"id\":\"6108\",\"type\":\"Circle\"},\"hover_glyph\":null,\"muted_glyph\":null,\"nonselection_glyph\":{\"id\":\"6109\",\"type\":\"Circle\"},\"selection_glyph\":null,\"view\":{\"id\":\"6111\",\"type\":\"CDSView\"}},\"id\":\"6110\",\"type\":\"GlyphRenderer\"},{\"attributes\":{\"source\":{\"id\":\"6128\",\"type\":\"ColumnDataSource\"}},\"id\":\"6132\",\"type\":\"CDSView\"},{\"attributes\":{},\"id\":\"6086\",\"type\":\"HelpTool\"},{\"attributes\":{\"active_drag\":\"auto\",\"active_inspect\":\"auto\",\"active_multi\":null,\"active_scroll\":\"auto\",\"active_tap\":\"auto\",\"tools\":[{\"id\":\"6081\",\"type\":\"PanTool\"},{\"id\":\"6082\",\"type\":\"WheelZoomTool\"},{\"id\":\"6083\",\"type\":\"BoxZoomTool\"},{\"id\":\"6084\",\"type\":\"SaveTool\"},{\"id\":\"6085\",\"type\":\"ResetTool\"},{\"id\":\"6086\",\"type\":\"HelpTool\"},{\"id\":\"6133\",\"type\":\"HoverTool\"}]},\"id\":\"6087\",\"type\":\"Toolbar\"},{\"attributes\":{},\"id\":\"6401\",\"type\":\"Selection\"},{\"attributes\":{\"items\":[{\"id\":\"6106\",\"type\":\"LegendItem\"},{\"id\":\"6127\",\"type\":\"LegendItem\"}],\"location\":\"bottom_left\"},\"id\":\"6105\",\"type\":\"Legend\"},{\"attributes\":{},\"id\":\"6123\",\"type\":\"UnionRenderers\"},{\"attributes\":{\"source\":{\"id\":\"6107\",\"type\":\"ColumnDataSource\"}},\"id\":\"6111\",\"type\":\"CDSView\"},{\"attributes\":{\"callback\":null,\"data\":{\"x\":[\"2000\",\"2001\",\"2002\",\"2003\",\"2004\",\"2005\",\"2006\",\"2007\",\"2008\",\"2009\",\"2010\",\"2011\",\"2012\",\"2013\",\"2014\",\"2015\",\"2016\",\"2017\"],\"y\":[80.55112682880318,81.00479371625393,81.77679009369407,82.53784452553441,83.28851027121169,84.02975397091646,84.75379189012546,85.4649501299916,86.16369312765474,86.84098274717998,87.50754213927502,88.15891127427683,88.79749865814709,89.42443209227703,90.04162285513938,90.65090738325256,91.23674955938168,91.74156692102636]},\"selected\":{\"id\":\"6403\",\"type\":\"Selection\"},\"selection_policy\":{\"id\":\"6404\",\"type\":\"UnionRenderers\"}},\"id\":\"6128\",\"type\":\"ColumnDataSource\"},{\"attributes\":{\"callback\":null},\"id\":\"6063\",\"type\":\"DataRange1d\"},{\"attributes\":{},\"id\":\"6125\",\"type\":\"UnionRenderers\"},{\"attributes\":{},\"id\":\"6067\",\"type\":\"LinearScale\"},{\"attributes\":{\"data_source\":{\"id\":\"6128\",\"type\":\"ColumnDataSource\"},\"glyph\":{\"id\":\"6129\",\"type\":\"Circle\"},\"hover_glyph\":null,\"muted_glyph\":null,\"nonselection_glyph\":{\"id\":\"6130\",\"type\":\"Circle\"},\"selection_glyph\":null,\"view\":{\"id\":\"6132\",\"type\":\"CDSView\"}},\"id\":\"6131\",\"type\":\"GlyphRenderer\"}],\"root_ids\":[\"6060\"]},\"title\":\"Bokeh Application\",\"version\":\"1.3.4\"}};\n",
       "  var render_items = [{\"docid\":\"49a918a4-173f-4097-91ad-98b9c8b395f0\",\"roots\":{\"6060\":\"c6e67a7f-139e-4695-959f-8c6f7598dc4a\"}}];\n",
       "  root.Bokeh.embed.embed_items_notebook(docs_json, render_items);\n",
       "\n",
       "  }\n",
       "  if (root.Bokeh !== undefined) {\n",
       "    embed_document(root);\n",
       "  } else {\n",
       "    var attempts = 0;\n",
       "    var timer = setInterval(function(root) {\n",
       "      if (root.Bokeh !== undefined) {\n",
       "        embed_document(root);\n",
       "        clearInterval(timer);\n",
       "      }\n",
       "      attempts++;\n",
       "      if (attempts > 100) {\n",
       "        console.log(\"Bokeh: ERROR: Unable to run BokehJS code because BokehJS library is missing\");\n",
       "        clearInterval(timer);\n",
       "      }\n",
       "    }, 10, root)\n",
       "  }\n",
       "})(window);"
      ],
      "application/vnd.bokehjs_exec.v0+json": ""
     },
     "metadata": {
      "application/vnd.bokehjs_exec.v0+json": {
       "id": "6060"
      }
     },
     "output_type": "display_data"
    }
   ],
   "source": [
    "# Basic water access\n",
    "years = list(map(str, list(range(2000,2018))))\n",
    "result = show_weighted_average(years, 'SH.H2O.BASW.ZS', 'SP.POP.TOTL', ['LDCs', 'Developing excluding LDCs'])"
   ]
  },
  {
   "cell_type": "code",
   "execution_count": 21,
   "metadata": {
    "ExecuteTime": {
     "end_time": "2019-10-23T20:57:19.025429Z",
     "start_time": "2019-10-23T20:57:05.744682Z"
    },
    "slideshow": {
     "slide_type": "slide"
    }
   },
   "outputs": [
    {
     "data": {
      "text/html": [
       "\n",
       "\n",
       "\n",
       "\n",
       "\n",
       "\n",
       "  <div class=\"bk-root\" id=\"2eed4b83-a86d-49c1-8e42-a39c51b3c0b2\" data-root-id=\"6490\"></div>\n"
      ]
     },
     "metadata": {},
     "output_type": "display_data"
    },
    {
     "data": {
      "application/javascript": [
       "(function(root) {\n",
       "  function embed_document(root) {\n",
       "    \n",
       "  var docs_json = {\"476a1893-a8bf-4b50-bb7d-ef52a5217c4b\":{\"roots\":{\"references\":[{\"attributes\":{\"below\":[{\"id\":\"6501\",\"type\":\"LinearAxis\"}],\"center\":[{\"id\":\"6505\",\"type\":\"Grid\"},{\"id\":\"6510\",\"type\":\"Grid\"},{\"id\":\"6535\",\"type\":\"Legend\"}],\"left\":[{\"id\":\"6506\",\"type\":\"LinearAxis\"}],\"plot_height\":400,\"plot_width\":950,\"renderers\":[{\"id\":\"6527\",\"type\":\"GlyphRenderer\"},{\"id\":\"6540\",\"type\":\"GlyphRenderer\"},{\"id\":\"6545\",\"type\":\"GlyphRenderer\"},{\"id\":\"6561\",\"type\":\"GlyphRenderer\"}],\"title\":{\"id\":\"6491\",\"type\":\"Title\"},\"toolbar\":{\"id\":\"6517\",\"type\":\"Toolbar\"},\"x_range\":{\"id\":\"6493\",\"type\":\"DataRange1d\"},\"x_scale\":{\"id\":\"6497\",\"type\":\"LinearScale\"},\"y_range\":{\"id\":\"6495\",\"type\":\"DataRange1d\"},\"y_scale\":{\"id\":\"6499\",\"type\":\"LinearScale\"}},\"id\":\"6490\",\"subtype\":\"Figure\",\"type\":\"Plot\"},{\"attributes\":{\"text\":\"People using at least basic drinking water services, rural (% of rural population) weighted against Rural population\"},\"id\":\"6491\",\"type\":\"Title\"},{\"attributes\":{},\"id\":\"6515\",\"type\":\"ResetTool\"},{\"attributes\":{\"data_source\":{\"id\":\"6542\",\"type\":\"ColumnDataSource\"},\"glyph\":{\"id\":\"6543\",\"type\":\"Line\"},\"hover_glyph\":null,\"muted_glyph\":null,\"nonselection_glyph\":{\"id\":\"6544\",\"type\":\"Line\"},\"selection_glyph\":null,\"view\":{\"id\":\"6546\",\"type\":\"CDSView\"}},\"id\":\"6545\",\"type\":\"GlyphRenderer\"},{\"attributes\":{\"callback\":null},\"id\":\"6493\",\"type\":\"DataRange1d\"},{\"attributes\":{\"source\":{\"id\":\"6542\",\"type\":\"ColumnDataSource\"}},\"id\":\"6546\",\"type\":\"CDSView\"},{\"attributes\":{\"active_drag\":\"auto\",\"active_inspect\":\"auto\",\"active_multi\":null,\"active_scroll\":\"auto\",\"active_tap\":\"auto\",\"tools\":[{\"id\":\"6511\",\"type\":\"PanTool\"},{\"id\":\"6512\",\"type\":\"WheelZoomTool\"},{\"id\":\"6513\",\"type\":\"BoxZoomTool\"},{\"id\":\"6514\",\"type\":\"SaveTool\"},{\"id\":\"6515\",\"type\":\"ResetTool\"},{\"id\":\"6516\",\"type\":\"HelpTool\"},{\"id\":\"6563\",\"type\":\"HoverTool\"}]},\"id\":\"6517\",\"type\":\"Toolbar\"},{\"attributes\":{\"callback\":null},\"id\":\"6495\",\"type\":\"DataRange1d\"},{\"attributes\":{},\"id\":\"6552\",\"type\":\"Selection\"},{\"attributes\":{},\"id\":\"6497\",\"type\":\"LinearScale\"},{\"attributes\":{},\"id\":\"6553\",\"type\":\"UnionRenderers\"},{\"attributes\":{\"data_source\":{\"id\":\"6524\",\"type\":\"ColumnDataSource\"},\"glyph\":{\"id\":\"6525\",\"type\":\"Line\"},\"hover_glyph\":null,\"muted_glyph\":null,\"nonselection_glyph\":{\"id\":\"6526\",\"type\":\"Line\"},\"selection_glyph\":null,\"view\":{\"id\":\"6528\",\"type\":\"CDSView\"}},\"id\":\"6527\",\"type\":\"GlyphRenderer\"},{\"attributes\":{},\"id\":\"6499\",\"type\":\"LinearScale\"},{\"attributes\":{\"source\":{\"id\":\"6524\",\"type\":\"ColumnDataSource\"}},\"id\":\"6528\",\"type\":\"CDSView\"},{\"attributes\":{},\"id\":\"6554\",\"type\":\"Selection\"},{\"attributes\":{\"axis_label\":\"Years\",\"formatter\":{\"id\":\"6532\",\"type\":\"BasicTickFormatter\"},\"ticker\":{\"id\":\"6502\",\"type\":\"BasicTicker\"}},\"id\":\"6501\",\"type\":\"LinearAxis\"},{\"attributes\":{},\"id\":\"6555\",\"type\":\"UnionRenderers\"},{\"attributes\":{},\"id\":\"6530\",\"type\":\"BasicTickFormatter\"},{\"attributes\":{},\"id\":\"6502\",\"type\":\"BasicTicker\"},{\"attributes\":{\"label\":{\"value\":\"Developing excluding LDCs\"},\"renderers\":[{\"id\":\"6545\",\"type\":\"GlyphRenderer\"}]},\"id\":\"6557\",\"type\":\"LegendItem\"},{\"attributes\":{},\"id\":\"6532\",\"type\":\"BasicTickFormatter\"},{\"attributes\":{\"ticker\":{\"id\":\"6502\",\"type\":\"BasicTicker\"}},\"id\":\"6505\",\"type\":\"Grid\"},{\"attributes\":{\"callback\":null,\"data\":{\"x\":[\"2000\",\"2001\",\"2002\",\"2003\",\"2004\",\"2005\",\"2006\",\"2007\",\"2008\",\"2009\",\"2010\",\"2011\",\"2012\",\"2013\",\"2014\",\"2015\",\"2016\",\"2017\"],\"y\":[70.548702877432,71.00004920789118,71.95018602183819,72.90005660990126,73.84979674562858,74.80186545073815,75.7497619375849,76.69812617708288,77.64556540872928,78.57794683969233,79.51234784363636,80.44861606275593,81.3846478800014,82.31897898954479,83.25506420388984,84.18519675512437,85.10049117126351,86.01116731571781]},\"selected\":{\"id\":\"6847\",\"type\":\"Selection\"},\"selection_policy\":{\"id\":\"6848\",\"type\":\"UnionRenderers\"}},\"id\":\"6558\",\"type\":\"ColumnDataSource\"},{\"attributes\":{\"bottom_units\":\"screen\",\"fill_alpha\":{\"value\":0.5},\"fill_color\":{\"value\":\"lightgrey\"},\"left_units\":\"screen\",\"level\":\"overlay\",\"line_alpha\":{\"value\":1.0},\"line_color\":{\"value\":\"black\"},\"line_dash\":[4,4],\"line_width\":{\"value\":2},\"render_mode\":\"css\",\"right_units\":\"screen\",\"top_units\":\"screen\"},\"id\":\"6534\",\"type\":\"BoxAnnotation\"},{\"attributes\":{\"axis_label\":\"Percentage\",\"formatter\":{\"id\":\"6530\",\"type\":\"BasicTickFormatter\"},\"ticker\":{\"id\":\"6507\",\"type\":\"BasicTicker\"}},\"id\":\"6506\",\"type\":\"LinearAxis\"},{\"attributes\":{\"fill_color\":{\"value\":\"#5430F1\"},\"line_color\":{\"value\":\"#5430F1\"},\"line_width\":{\"value\":3},\"x\":{\"field\":\"x\"},\"y\":{\"field\":\"y\"}},\"id\":\"6559\",\"type\":\"Circle\"},{\"attributes\":{\"items\":[{\"id\":\"6536\",\"type\":\"LegendItem\"},{\"id\":\"6557\",\"type\":\"LegendItem\"}],\"location\":\"bottom_left\"},\"id\":\"6535\",\"type\":\"Legend\"},{\"attributes\":{},\"id\":\"6507\",\"type\":\"BasicTicker\"},{\"attributes\":{\"fill_alpha\":{\"value\":0.1},\"fill_color\":{\"value\":\"#1f77b4\"},\"line_alpha\":{\"value\":0.1},\"line_color\":{\"value\":\"#1f77b4\"},\"line_width\":{\"value\":3},\"x\":{\"field\":\"x\"},\"y\":{\"field\":\"y\"}},\"id\":\"6560\",\"type\":\"Circle\"},{\"attributes\":{\"label\":{\"value\":\"LDCs\"},\"renderers\":[{\"id\":\"6527\",\"type\":\"GlyphRenderer\"}]},\"id\":\"6536\",\"type\":\"LegendItem\"},{\"attributes\":{},\"id\":\"6516\",\"type\":\"HelpTool\"},{\"attributes\":{\"line_color\":\"#FA1857\",\"line_width\":2,\"x\":{\"field\":\"x\"},\"y\":{\"field\":\"y\"}},\"id\":\"6525\",\"type\":\"Line\"},{\"attributes\":{\"dimension\":1,\"ticker\":{\"id\":\"6507\",\"type\":\"BasicTicker\"}},\"id\":\"6510\",\"type\":\"Grid\"},{\"attributes\":{\"data_source\":{\"id\":\"6558\",\"type\":\"ColumnDataSource\"},\"glyph\":{\"id\":\"6559\",\"type\":\"Circle\"},\"hover_glyph\":null,\"muted_glyph\":null,\"nonselection_glyph\":{\"id\":\"6560\",\"type\":\"Circle\"},\"selection_glyph\":null,\"view\":{\"id\":\"6562\",\"type\":\"CDSView\"}},\"id\":\"6561\",\"type\":\"GlyphRenderer\"},{\"attributes\":{\"callback\":null,\"data\":{\"x\":[\"2000\",\"2001\",\"2002\",\"2003\",\"2004\",\"2005\",\"2006\",\"2007\",\"2008\",\"2009\",\"2010\",\"2011\",\"2012\",\"2013\",\"2014\",\"2015\",\"2016\",\"2017\"],\"y\":[42.12683300179766,42.80027017649536,43.50079749798844,44.25366307202228,45.00747896662987,45.80419361422807,46.59437519706998,47.36876142509717,48.17616099242744,48.980453708262594,49.782813757361296,50.42503187607093,51.28403194463684,52.07473967276295,52.873727809325516,53.62244943417166,54.273675248356724,54.932811181463364]},\"selected\":{\"id\":\"6554\",\"type\":\"Selection\"},\"selection_policy\":{\"id\":\"6555\",\"type\":\"UnionRenderers\"}},\"id\":\"6537\",\"type\":\"ColumnDataSource\"},{\"attributes\":{\"source\":{\"id\":\"6558\",\"type\":\"ColumnDataSource\"}},\"id\":\"6562\",\"type\":\"CDSView\"},{\"attributes\":{\"fill_color\":{\"value\":\"#FA1857\"},\"line_color\":{\"value\":\"#FA1857\"},\"line_width\":{\"value\":3},\"x\":{\"field\":\"x\"},\"y\":{\"field\":\"y\"}},\"id\":\"6538\",\"type\":\"Circle\"},{\"attributes\":{\"callback\":null,\"data\":{\"x\":[\"2000\",\"2001\",\"2002\",\"2003\",\"2004\",\"2005\",\"2006\",\"2007\",\"2008\",\"2009\",\"2010\",\"2011\",\"2012\",\"2013\",\"2014\",\"2015\",\"2016\",\"2017\"],\"y\":[42.12683300179766,42.80027017649536,43.50079749798844,44.25366307202228,45.00747896662987,45.80419361422807,46.59437519706998,47.36876142509717,48.17616099242744,48.980453708262594,49.782813757361296,50.42503187607093,51.28403194463684,52.07473967276295,52.873727809325516,53.62244943417166,54.273675248356724,54.932811181463364]},\"selected\":{\"id\":\"6552\",\"type\":\"Selection\"},\"selection_policy\":{\"id\":\"6553\",\"type\":\"UnionRenderers\"}},\"id\":\"6524\",\"type\":\"ColumnDataSource\"},{\"attributes\":{\"fill_alpha\":{\"value\":0.1},\"fill_color\":{\"value\":\"#1f77b4\"},\"line_alpha\":{\"value\":0.1},\"line_color\":{\"value\":\"#1f77b4\"},\"line_width\":{\"value\":3},\"x\":{\"field\":\"x\"},\"y\":{\"field\":\"y\"}},\"id\":\"6539\",\"type\":\"Circle\"},{\"attributes\":{\"callback\":null,\"tooltips\":\"        \\n        <div style=padding=5px>Year:@x</div>\\n        <div style=padding=5px>Value:@y</div>\\n        \"},\"id\":\"6563\",\"type\":\"HoverTool\"},{\"attributes\":{\"line_alpha\":0.1,\"line_color\":\"#1f77b4\",\"line_width\":2,\"x\":{\"field\":\"x\"},\"y\":{\"field\":\"y\"}},\"id\":\"6526\",\"type\":\"Line\"},{\"attributes\":{},\"id\":\"6845\",\"type\":\"Selection\"},{\"attributes\":{\"data_source\":{\"id\":\"6537\",\"type\":\"ColumnDataSource\"},\"glyph\":{\"id\":\"6538\",\"type\":\"Circle\"},\"hover_glyph\":null,\"muted_glyph\":null,\"nonselection_glyph\":{\"id\":\"6539\",\"type\":\"Circle\"},\"selection_glyph\":null,\"view\":{\"id\":\"6541\",\"type\":\"CDSView\"}},\"id\":\"6540\",\"type\":\"GlyphRenderer\"},{\"attributes\":{},\"id\":\"6511\",\"type\":\"PanTool\"},{\"attributes\":{},\"id\":\"6846\",\"type\":\"UnionRenderers\"},{\"attributes\":{\"source\":{\"id\":\"6537\",\"type\":\"ColumnDataSource\"}},\"id\":\"6541\",\"type\":\"CDSView\"},{\"attributes\":{},\"id\":\"6512\",\"type\":\"WheelZoomTool\"},{\"attributes\":{},\"id\":\"6847\",\"type\":\"Selection\"},{\"attributes\":{\"callback\":null,\"data\":{\"x\":[\"2000\",\"2001\",\"2002\",\"2003\",\"2004\",\"2005\",\"2006\",\"2007\",\"2008\",\"2009\",\"2010\",\"2011\",\"2012\",\"2013\",\"2014\",\"2015\",\"2016\",\"2017\"],\"y\":[70.548702877432,71.00004920789118,71.95018602183819,72.90005660990126,73.84979674562858,74.80186545073815,75.7497619375849,76.69812617708288,77.64556540872928,78.57794683969233,79.51234784363636,80.44861606275593,81.3846478800014,82.31897898954479,83.25506420388984,84.18519675512437,85.10049117126351,86.01116731571781]},\"selected\":{\"id\":\"6845\",\"type\":\"Selection\"},\"selection_policy\":{\"id\":\"6846\",\"type\":\"UnionRenderers\"}},\"id\":\"6542\",\"type\":\"ColumnDataSource\"},{\"attributes\":{\"overlay\":{\"id\":\"6534\",\"type\":\"BoxAnnotation\"}},\"id\":\"6513\",\"type\":\"BoxZoomTool\"},{\"attributes\":{},\"id\":\"6848\",\"type\":\"UnionRenderers\"},{\"attributes\":{\"line_color\":\"#5430F1\",\"line_width\":2,\"x\":{\"field\":\"x\"},\"y\":{\"field\":\"y\"}},\"id\":\"6543\",\"type\":\"Line\"},{\"attributes\":{},\"id\":\"6514\",\"type\":\"SaveTool\"},{\"attributes\":{\"line_alpha\":0.1,\"line_color\":\"#1f77b4\",\"line_width\":2,\"x\":{\"field\":\"x\"},\"y\":{\"field\":\"y\"}},\"id\":\"6544\",\"type\":\"Line\"}],\"root_ids\":[\"6490\"]},\"title\":\"Bokeh Application\",\"version\":\"1.3.4\"}};\n",
       "  var render_items = [{\"docid\":\"476a1893-a8bf-4b50-bb7d-ef52a5217c4b\",\"roots\":{\"6490\":\"2eed4b83-a86d-49c1-8e42-a39c51b3c0b2\"}}];\n",
       "  root.Bokeh.embed.embed_items_notebook(docs_json, render_items);\n",
       "\n",
       "  }\n",
       "  if (root.Bokeh !== undefined) {\n",
       "    embed_document(root);\n",
       "  } else {\n",
       "    var attempts = 0;\n",
       "    var timer = setInterval(function(root) {\n",
       "      if (root.Bokeh !== undefined) {\n",
       "        embed_document(root);\n",
       "        clearInterval(timer);\n",
       "      }\n",
       "      attempts++;\n",
       "      if (attempts > 100) {\n",
       "        console.log(\"Bokeh: ERROR: Unable to run BokehJS code because BokehJS library is missing\");\n",
       "        clearInterval(timer);\n",
       "      }\n",
       "    }, 10, root)\n",
       "  }\n",
       "})(window);"
      ],
      "application/vnd.bokehjs_exec.v0+json": ""
     },
     "metadata": {
      "application/vnd.bokehjs_exec.v0+json": {
       "id": "6490"
      }
     },
     "output_type": "display_data"
    }
   ],
   "source": [
    "# Basic water access rural\n",
    "years = list(map(str, list(range(2000,2018))))\n",
    "result = show_weighted_average(years, 'SH.H2O.BASW.RU.ZS', 'SP.RUR.TOTL', ['LDCs', 'Developing excluding LDCs'])"
   ]
  },
  {
   "cell_type": "code",
   "execution_count": 22,
   "metadata": {
    "ExecuteTime": {
     "end_time": "2019-10-23T20:57:29.322939Z",
     "start_time": "2019-10-23T20:57:19.027757Z"
    },
    "slideshow": {
     "slide_type": "slide"
    }
   },
   "outputs": [
    {
     "data": {
      "text/html": [
       "\n",
       "\n",
       "\n",
       "\n",
       "\n",
       "\n",
       "  <div class=\"bk-root\" id=\"69eaf488-2187-4cbd-9af4-824284ce2694\" data-root-id=\"6934\"></div>\n"
      ]
     },
     "metadata": {},
     "output_type": "display_data"
    },
    {
     "data": {
      "application/javascript": [
       "(function(root) {\n",
       "  function embed_document(root) {\n",
       "    \n",
       "  var docs_json = {\"ce01608b-9a4e-473d-9058-38fb3e2cbc31\":{\"roots\":{\"references\":[{\"attributes\":{\"below\":[{\"id\":\"6945\",\"type\":\"LinearAxis\"}],\"center\":[{\"id\":\"6949\",\"type\":\"Grid\"},{\"id\":\"6954\",\"type\":\"Grid\"},{\"id\":\"6979\",\"type\":\"Legend\"}],\"left\":[{\"id\":\"6950\",\"type\":\"LinearAxis\"}],\"plot_height\":400,\"plot_width\":950,\"renderers\":[{\"id\":\"6971\",\"type\":\"GlyphRenderer\"},{\"id\":\"6984\",\"type\":\"GlyphRenderer\"},{\"id\":\"6989\",\"type\":\"GlyphRenderer\"},{\"id\":\"7005\",\"type\":\"GlyphRenderer\"}],\"title\":{\"id\":\"6935\",\"type\":\"Title\"},\"toolbar\":{\"id\":\"6961\",\"type\":\"Toolbar\"},\"x_range\":{\"id\":\"6937\",\"type\":\"DataRange1d\"},\"x_scale\":{\"id\":\"6941\",\"type\":\"LinearScale\"},\"y_range\":{\"id\":\"6939\",\"type\":\"DataRange1d\"},\"y_scale\":{\"id\":\"6943\",\"type\":\"LinearScale\"}},\"id\":\"6934\",\"subtype\":\"Figure\",\"type\":\"Plot\"},{\"attributes\":{},\"id\":\"6941\",\"type\":\"LinearScale\"},{\"attributes\":{\"line_alpha\":0.1,\"line_color\":\"#1f77b4\",\"line_width\":2,\"x\":{\"field\":\"x\"},\"y\":{\"field\":\"y\"}},\"id\":\"6988\",\"type\":\"Line\"},{\"attributes\":{},\"id\":\"6943\",\"type\":\"LinearScale\"},{\"attributes\":{\"line_color\":\"#5430F1\",\"line_width\":2,\"x\":{\"field\":\"x\"},\"y\":{\"field\":\"y\"}},\"id\":\"6987\",\"type\":\"Line\"},{\"attributes\":{\"axis_label\":\"Years\",\"formatter\":{\"id\":\"6976\",\"type\":\"BasicTickFormatter\"},\"ticker\":{\"id\":\"6946\",\"type\":\"BasicTicker\"}},\"id\":\"6945\",\"type\":\"LinearAxis\"},{\"attributes\":{\"source\":{\"id\":\"6968\",\"type\":\"ColumnDataSource\"}},\"id\":\"6972\",\"type\":\"CDSView\"},{\"attributes\":{\"data_source\":{\"id\":\"6986\",\"type\":\"ColumnDataSource\"},\"glyph\":{\"id\":\"6987\",\"type\":\"Line\"},\"hover_glyph\":null,\"muted_glyph\":null,\"nonselection_glyph\":{\"id\":\"6988\",\"type\":\"Line\"},\"selection_glyph\":null,\"view\":{\"id\":\"6990\",\"type\":\"CDSView\"}},\"id\":\"6989\",\"type\":\"GlyphRenderer\"},{\"attributes\":{},\"id\":\"7306\",\"type\":\"UnionRenderers\"},{\"attributes\":{},\"id\":\"6946\",\"type\":\"BasicTicker\"},{\"attributes\":{\"line_color\":\"#FA1857\",\"line_width\":2,\"x\":{\"field\":\"x\"},\"y\":{\"field\":\"y\"}},\"id\":\"6969\",\"type\":\"Line\"},{\"attributes\":{\"ticker\":{\"id\":\"6946\",\"type\":\"BasicTicker\"}},\"id\":\"6949\",\"type\":\"Grid\"},{\"attributes\":{\"callback\":null,\"data\":{\"x\":[\"2000\",\"2001\",\"2002\",\"2003\",\"2004\",\"2005\",\"2006\",\"2007\",\"2008\",\"2009\",\"2010\",\"2011\",\"2012\",\"2013\",\"2014\",\"2015\",\"2016\",\"2017\"],\"y\":[219.28408588120277,213.48414800134037,206.41811006155564,200.67120038874455,194.22090384430567,186.45995905793217,179.47945880804642,172.69824687103215,167.14239880717736,161.17966398798256,155.12810024875614,149.4076724816034,144.52542353326865,140.4374830912562,137.01364916667524,133.5566778030908,129.90816344064564,127.82152219368795]},\"selected\":{\"id\":\"7305\",\"type\":\"Selection\"},\"selection_policy\":{\"id\":\"7306\",\"type\":\"UnionRenderers\"}},\"id\":\"7002\",\"type\":\"ColumnDataSource\"},{\"attributes\":{\"source\":{\"id\":\"6986\",\"type\":\"ColumnDataSource\"}},\"id\":\"6990\",\"type\":\"CDSView\"},{\"attributes\":{\"data_source\":{\"id\":\"6968\",\"type\":\"ColumnDataSource\"},\"glyph\":{\"id\":\"6969\",\"type\":\"Line\"},\"hover_glyph\":null,\"muted_glyph\":null,\"nonselection_glyph\":{\"id\":\"6970\",\"type\":\"Line\"},\"selection_glyph\":null,\"view\":{\"id\":\"6972\",\"type\":\"CDSView\"}},\"id\":\"6971\",\"type\":\"GlyphRenderer\"},{\"attributes\":{\"axis_label\":\"Percentage\",\"formatter\":{\"id\":\"6974\",\"type\":\"BasicTickFormatter\"},\"ticker\":{\"id\":\"6951\",\"type\":\"BasicTicker\"}},\"id\":\"6950\",\"type\":\"LinearAxis\"},{\"attributes\":{},\"id\":\"6997\",\"type\":\"UnionRenderers\"},{\"attributes\":{},\"id\":\"6996\",\"type\":\"Selection\"},{\"attributes\":{},\"id\":\"6951\",\"type\":\"BasicTicker\"},{\"attributes\":{},\"id\":\"6974\",\"type\":\"BasicTickFormatter\"},{\"attributes\":{\"data_source\":{\"id\":\"7002\",\"type\":\"ColumnDataSource\"},\"glyph\":{\"id\":\"7003\",\"type\":\"Circle\"},\"hover_glyph\":null,\"muted_glyph\":null,\"nonselection_glyph\":{\"id\":\"7004\",\"type\":\"Circle\"},\"selection_glyph\":null,\"view\":{\"id\":\"7006\",\"type\":\"CDSView\"}},\"id\":\"7005\",\"type\":\"GlyphRenderer\"},{\"attributes\":{\"dimension\":1,\"ticker\":{\"id\":\"6951\",\"type\":\"BasicTicker\"}},\"id\":\"6954\",\"type\":\"Grid\"},{\"attributes\":{},\"id\":\"6998\",\"type\":\"Selection\"},{\"attributes\":{},\"id\":\"6960\",\"type\":\"HelpTool\"},{\"attributes\":{\"label\":{\"value\":\"Developing excluding LDCs\"},\"renderers\":[{\"id\":\"6989\",\"type\":\"GlyphRenderer\"}]},\"id\":\"7001\",\"type\":\"LegendItem\"},{\"attributes\":{},\"id\":\"6976\",\"type\":\"BasicTickFormatter\"},{\"attributes\":{},\"id\":\"6999\",\"type\":\"UnionRenderers\"},{\"attributes\":{\"callback\":null,\"data\":{\"x\":[\"2000\",\"2001\",\"2002\",\"2003\",\"2004\",\"2005\",\"2006\",\"2007\",\"2008\",\"2009\",\"2010\",\"2011\",\"2012\",\"2013\",\"2014\",\"2015\",\"2016\",\"2017\"],\"y\":[715.2447987144993,691.6849041419641,673.4892479999546,651.0563817071164,625.5069049458828,592.7740014378311,564.7764525894733,540.1215038192421,519.2159647732941,500.21556542920393,481.30634910908856,463.88510804587,448.827847164424,434.57010999810467,422.4587882882479,406.7932602988281,392.5254468961425,380.5719673986561]},\"selected\":{\"id\":\"6996\",\"type\":\"Selection\"},\"selection_policy\":{\"id\":\"6997\",\"type\":\"UnionRenderers\"}},\"id\":\"6968\",\"type\":\"ColumnDataSource\"},{\"attributes\":{\"items\":[{\"id\":\"6980\",\"type\":\"LegendItem\"},{\"id\":\"7001\",\"type\":\"LegendItem\"}],\"location\":\"bottom_left\"},\"id\":\"6979\",\"type\":\"Legend\"},{\"attributes\":{\"callback\":null,\"tooltips\":\"        \\n        <div style=padding=5px>Year:@x</div>\\n        <div style=padding=5px>Value:@y</div>\\n        \"},\"id\":\"7007\",\"type\":\"HoverTool\"},{\"attributes\":{},\"id\":\"7303\",\"type\":\"Selection\"},{\"attributes\":{\"bottom_units\":\"screen\",\"fill_alpha\":{\"value\":0.5},\"fill_color\":{\"value\":\"lightgrey\"},\"left_units\":\"screen\",\"level\":\"overlay\",\"line_alpha\":{\"value\":1.0},\"line_color\":{\"value\":\"black\"},\"line_dash\":[4,4],\"line_width\":{\"value\":2},\"render_mode\":\"css\",\"right_units\":\"screen\",\"top_units\":\"screen\"},\"id\":\"6978\",\"type\":\"BoxAnnotation\"},{\"attributes\":{\"fill_alpha\":{\"value\":0.1},\"fill_color\":{\"value\":\"#1f77b4\"},\"line_alpha\":{\"value\":0.1},\"line_color\":{\"value\":\"#1f77b4\"},\"line_width\":{\"value\":3},\"x\":{\"field\":\"x\"},\"y\":{\"field\":\"y\"}},\"id\":\"7004\",\"type\":\"Circle\"},{\"attributes\":{},\"id\":\"6955\",\"type\":\"PanTool\"},{\"attributes\":{\"label\":{\"value\":\"LDCs\"},\"renderers\":[{\"id\":\"6971\",\"type\":\"GlyphRenderer\"}]},\"id\":\"6980\",\"type\":\"LegendItem\"},{\"attributes\":{\"fill_color\":{\"value\":\"#5430F1\"},\"line_color\":{\"value\":\"#5430F1\"},\"line_width\":{\"value\":3},\"x\":{\"field\":\"x\"},\"y\":{\"field\":\"y\"}},\"id\":\"7003\",\"type\":\"Circle\"},{\"attributes\":{},\"id\":\"6956\",\"type\":\"WheelZoomTool\"},{\"attributes\":{\"fill_color\":{\"value\":\"#FA1857\"},\"line_color\":{\"value\":\"#FA1857\"},\"line_width\":{\"value\":3},\"x\":{\"field\":\"x\"},\"y\":{\"field\":\"y\"}},\"id\":\"6982\",\"type\":\"Circle\"},{\"attributes\":{\"overlay\":{\"id\":\"6978\",\"type\":\"BoxAnnotation\"}},\"id\":\"6957\",\"type\":\"BoxZoomTool\"},{\"attributes\":{\"callback\":null,\"data\":{\"x\":[\"2000\",\"2001\",\"2002\",\"2003\",\"2004\",\"2005\",\"2006\",\"2007\",\"2008\",\"2009\",\"2010\",\"2011\",\"2012\",\"2013\",\"2014\",\"2015\",\"2016\",\"2017\"],\"y\":[715.2447987144993,691.6849041419641,673.4892479999546,651.0563817071164,625.5069049458828,592.7740014378311,564.7764525894733,540.1215038192421,519.2159647732941,500.21556542920393,481.30634910908856,463.88510804587,448.827847164424,434.57010999810467,422.4587882882479,406.7932602988281,392.5254468961425,380.5719673986561]},\"selected\":{\"id\":\"6998\",\"type\":\"Selection\"},\"selection_policy\":{\"id\":\"6999\",\"type\":\"UnionRenderers\"}},\"id\":\"6981\",\"type\":\"ColumnDataSource\"},{\"attributes\":{},\"id\":\"6958\",\"type\":\"SaveTool\"},{\"attributes\":{},\"id\":\"7305\",\"type\":\"Selection\"},{\"attributes\":{\"fill_alpha\":{\"value\":0.1},\"fill_color\":{\"value\":\"#1f77b4\"},\"line_alpha\":{\"value\":0.1},\"line_color\":{\"value\":\"#1f77b4\"},\"line_width\":{\"value\":3},\"x\":{\"field\":\"x\"},\"y\":{\"field\":\"y\"}},\"id\":\"6983\",\"type\":\"Circle\"},{\"attributes\":{\"source\":{\"id\":\"7002\",\"type\":\"ColumnDataSource\"}},\"id\":\"7006\",\"type\":\"CDSView\"},{\"attributes\":{},\"id\":\"6959\",\"type\":\"ResetTool\"},{\"attributes\":{\"text\":\"Maternal mortality ratio (modeled estimate, per 100,000 live births) weighted against Population, female\"},\"id\":\"6935\",\"type\":\"Title\"},{\"attributes\":{},\"id\":\"7304\",\"type\":\"UnionRenderers\"},{\"attributes\":{\"source\":{\"id\":\"6981\",\"type\":\"ColumnDataSource\"}},\"id\":\"6985\",\"type\":\"CDSView\"},{\"attributes\":{\"callback\":null},\"id\":\"6937\",\"type\":\"DataRange1d\"},{\"attributes\":{\"active_drag\":\"auto\",\"active_inspect\":\"auto\",\"active_multi\":null,\"active_scroll\":\"auto\",\"active_tap\":\"auto\",\"tools\":[{\"id\":\"6955\",\"type\":\"PanTool\"},{\"id\":\"6956\",\"type\":\"WheelZoomTool\"},{\"id\":\"6957\",\"type\":\"BoxZoomTool\"},{\"id\":\"6958\",\"type\":\"SaveTool\"},{\"id\":\"6959\",\"type\":\"ResetTool\"},{\"id\":\"6960\",\"type\":\"HelpTool\"},{\"id\":\"7007\",\"type\":\"HoverTool\"}]},\"id\":\"6961\",\"type\":\"Toolbar\"},{\"attributes\":{\"data_source\":{\"id\":\"6981\",\"type\":\"ColumnDataSource\"},\"glyph\":{\"id\":\"6982\",\"type\":\"Circle\"},\"hover_glyph\":null,\"muted_glyph\":null,\"nonselection_glyph\":{\"id\":\"6983\",\"type\":\"Circle\"},\"selection_glyph\":null,\"view\":{\"id\":\"6985\",\"type\":\"CDSView\"}},\"id\":\"6984\",\"type\":\"GlyphRenderer\"},{\"attributes\":{\"line_alpha\":0.1,\"line_color\":\"#1f77b4\",\"line_width\":2,\"x\":{\"field\":\"x\"},\"y\":{\"field\":\"y\"}},\"id\":\"6970\",\"type\":\"Line\"},{\"attributes\":{\"callback\":null},\"id\":\"6939\",\"type\":\"DataRange1d\"},{\"attributes\":{\"callback\":null,\"data\":{\"x\":[\"2000\",\"2001\",\"2002\",\"2003\",\"2004\",\"2005\",\"2006\",\"2007\",\"2008\",\"2009\",\"2010\",\"2011\",\"2012\",\"2013\",\"2014\",\"2015\",\"2016\",\"2017\"],\"y\":[219.28408588120277,213.48414800134037,206.41811006155564,200.67120038874455,194.22090384430567,186.45995905793217,179.47945880804642,172.69824687103215,167.14239880717736,161.17966398798256,155.12810024875614,149.4076724816034,144.52542353326865,140.4374830912562,137.01364916667524,133.5566778030908,129.90816344064564,127.82152219368795]},\"selected\":{\"id\":\"7303\",\"type\":\"Selection\"},\"selection_policy\":{\"id\":\"7304\",\"type\":\"UnionRenderers\"}},\"id\":\"6986\",\"type\":\"ColumnDataSource\"}],\"root_ids\":[\"6934\"]},\"title\":\"Bokeh Application\",\"version\":\"1.3.4\"}};\n",
       "  var render_items = [{\"docid\":\"ce01608b-9a4e-473d-9058-38fb3e2cbc31\",\"roots\":{\"6934\":\"69eaf488-2187-4cbd-9af4-824284ce2694\"}}];\n",
       "  root.Bokeh.embed.embed_items_notebook(docs_json, render_items);\n",
       "\n",
       "  }\n",
       "  if (root.Bokeh !== undefined) {\n",
       "    embed_document(root);\n",
       "  } else {\n",
       "    var attempts = 0;\n",
       "    var timer = setInterval(function(root) {\n",
       "      if (root.Bokeh !== undefined) {\n",
       "        embed_document(root);\n",
       "        clearInterval(timer);\n",
       "      }\n",
       "      attempts++;\n",
       "      if (attempts > 100) {\n",
       "        console.log(\"Bokeh: ERROR: Unable to run BokehJS code because BokehJS library is missing\");\n",
       "        clearInterval(timer);\n",
       "      }\n",
       "    }, 10, root)\n",
       "  }\n",
       "})(window);"
      ],
      "application/vnd.bokehjs_exec.v0+json": ""
     },
     "metadata": {
      "application/vnd.bokehjs_exec.v0+json": {
       "id": "6934"
      }
     },
     "output_type": "display_data"
    }
   ],
   "source": [
    "# Maternal mortality ratio\n",
    "years = list(map(str, list(range(2000,2018))))\n",
    "result = show_weighted_average(years, 'SH.STA.MMRT', 'SP.POP.TOTL.FE.IN', ['LDCs', 'Developing excluding LDCs'])"
   ]
  },
  {
   "cell_type": "markdown",
   "metadata": {},
   "source": [
    "# Some very general ideas\n",
    "\n",
    "+ The world is becoming increasingly unequal\n",
    "+ Great progress in certain areas, still an awful lot to do\n",
    "+ The SDGs and other internationally agreed development goals won't happen without accelerated progress in the LDCs."
   ]
  },
  {
   "cell_type": "markdown",
   "metadata": {
    "slideshow": {
     "slide_type": "slide"
    }
   },
   "source": [
    "# Many thanks\n",
    "\n",
    "Let's stay in touch\n",
    "\n",
    "Tomás González\n",
    "gonzalezt@un.org\n"
   ]
  },
  {
   "cell_type": "code",
   "execution_count": null,
   "metadata": {},
   "outputs": [],
   "source": []
  },
  {
   "cell_type": "code",
   "execution_count": null,
   "metadata": {},
   "outputs": [],
   "source": []
  },
  {
   "cell_type": "code",
   "execution_count": null,
   "metadata": {},
   "outputs": [],
   "source": []
  }
 ],
 "metadata": {
  "celltoolbar": "Slideshow",
  "kernelspec": {
   "display_name": "Python 3",
   "language": "python",
   "name": "python3"
  },
  "language_info": {
   "codemirror_mode": {
    "name": "ipython",
    "version": 3
   },
   "file_extension": ".py",
   "mimetype": "text/x-python",
   "name": "python",
   "nbconvert_exporter": "python",
   "pygments_lexer": "ipython3",
   "version": "3.7.0"
  },
  "toc": {
   "base_numbering": 1,
   "nav_menu": {},
   "number_sections": true,
   "sideBar": true,
   "skip_h1_title": false,
   "title_cell": "Table of Contents",
   "title_sidebar": "Contents",
   "toc_cell": false,
   "toc_position": {},
   "toc_section_display": true,
   "toc_window_display": false
  }
 },
 "nbformat": 4,
 "nbformat_minor": 2
}
