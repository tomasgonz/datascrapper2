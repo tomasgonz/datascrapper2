{
 "cells": [
  {
   "cell_type": "code",
   "execution_count": 1,
   "metadata": {
    "ExecuteTime": {
     "end_time": "2019-10-23T20:52:35.006062Z",
     "start_time": "2019-10-23T20:52:31.458712Z"
    },
    "slideshow": {
     "slide_type": "skip"
    }
   },
   "outputs": [
    {
     "ename": "SyntaxError",
     "evalue": "invalid syntax (bk.py, line 81)",
     "output_type": "error",
     "traceback": [
      "Traceback \u001b[0;36m(most recent call last)\u001b[0m:\n",
      "  File \u001b[1;32m\"/Users/tomas/.local/share/virtualenvs/datascrapper2-b_UrJEZm/lib/python3.7/site-packages/IPython/core/interactiveshell.py\"\u001b[0m, line \u001b[1;32m3326\u001b[0m, in \u001b[1;35mrun_code\u001b[0m\n    exec(code_obj, self.user_global_ns, self.user_ns)\n",
      "\u001b[0;36m  File \u001b[0;32m\"<ipython-input-1-1611e84047e5>\"\u001b[0;36m, line \u001b[0;32m4\u001b[0;36m, in \u001b[0;35m<module>\u001b[0;36m\u001b[0m\n\u001b[0;31m    from bk import show_weighted_average, show_group_total, get_pandas_dataframe, line_chart, scatter_plot\u001b[0m\n",
      "\u001b[0;36m  File \u001b[0;32m\"../../bk.py\"\u001b[0;36m, line \u001b[0;32m81\u001b[0m\n\u001b[0;31m    def show_line_by_line(data)\u001b[0m\n\u001b[0m                                   ^\u001b[0m\n\u001b[0;31mSyntaxError\u001b[0m\u001b[0;31m:\u001b[0m invalid syntax\n"
     ]
    }
   ],
   "source": [
    "import sys\n",
    "sys.path.append(\"../../\")\n",
    "from data.Frame import Frame\n",
    "from bk import show_weighted_average, show_group_total, get_pandas_dataframe, line_chart, scatter_plot\n",
    "from bokeh.io import output_notebook\n",
    "from bokeh.plotting import figure, output_file, show, reset_output\n",
    "from sources.unpd.indicators import get_projection_by_groups as gpp\n",
    "from sources.cdp.indicators import get_indicators as get_indicators_cdp_2018\n",
    "reset_output()\n",
    "output_notebook()"
   ]
  },
  {
   "cell_type": "markdown",
   "metadata": {
    "slideshow": {
     "slide_type": "slide"
    }
   },
   "source": [
    "# Human and Social development in the LDCs"
   ]
  },
  {
   "cell_type": "markdown",
   "metadata": {
    "slideshow": {
     "slide_type": "slide"
    }
   },
   "source": [
    "# The Least Developed Countries\n",
    "\n",
    "+ The category of the least developed countries was created in 1971\n",
    "\n",
    "+ Least developed countries (LDCs) are low-income countries confronting severe structural impediments to sustainable development. They are highly vulnerable to economic and environmental shocks and have low levels of human assets.\n"
   ]
  },
  {
   "cell_type": "markdown",
   "metadata": {
    "slideshow": {
     "slide_type": "slide"
    }
   },
   "source": [
    "Least developed countries (LDCs) are **low-income countries** confronting severe **structural** impediments to sustainable development. They are highly **vulnerable to economic and environmental shocks** and have **low levels of human assets**."
   ]
  },
  {
   "cell_type": "markdown",
   "metadata": {
    "slideshow": {
     "slide_type": "slide"
    }
   },
   "source": [
    "## The criteria to dentify LDCs\n",
    "The Committee for Development Policy has established three criteria for including and graduating countries from the category:\n",
    "    \n",
    "### The Economic Vulnerability Index (EVI)\n",
    "    \n",
    "### The Human Assets Index (HAI\n",
    "\n",
    "### GNI per capita"
   ]
  },
  {
   "cell_type": "code",
   "execution_count": 2,
   "metadata": {
    "ExecuteTime": {
     "end_time": "2019-10-23T20:52:35.632870Z",
     "start_time": "2019-10-23T20:52:35.008250Z"
    },
    "slideshow": {
     "slide_type": "skip"
    }
   },
   "outputs": [],
   "source": [
    "cdp_data_2018 = get_indicators_cdp_2018(['LDCs'])\n",
    "entities = cdp_data_2018.get_column('entity').get_as_array()\n",
    "evi = cdp_data_2018.get_column('evi').get_as_array()\n",
    "hai = cdp_data_2018.get_column('hai').get_as_array()\n",
    "gni = cdp_data_2018.get_column('gni_per_capita_dollars').get_as_array()\n",
    "gni_normalized = [(x / sum(gni))*30 for x in gni]"
   ]
  },
  {
   "cell_type": "code",
   "execution_count": 3,
   "metadata": {
    "ExecuteTime": {
     "end_time": "2019-10-23T20:52:35.973720Z",
     "start_time": "2019-10-23T20:52:35.672339Z"
    },
    "slideshow": {
     "slide_type": "slide"
    }
   },
   "outputs": [
    {
     "data": {
      "text/html": [
       "\n",
       "\n",
       "\n",
       "\n",
       "\n",
       "\n",
       "  <div class=\"bk-root\" id=\"96e5fec9-8be2-4714-9c59-ec7615569dd0\" data-root-id=\"1004\"></div>\n"
      ]
     },
     "metadata": {},
     "output_type": "display_data"
    },
    {
     "data": {
      "application/javascript": [
       "(function(root) {\n",
       "  function embed_document(root) {\n",
       "    \n",
       "  var docs_json = {\"c68742e0-b60f-439f-9487-a3d79c51388e\":{\"roots\":{\"references\":[{\"attributes\":{\"below\":[{\"id\":\"1015\",\"type\":\"LinearAxis\"}],\"center\":[{\"id\":\"1019\",\"type\":\"Grid\"},{\"id\":\"1024\",\"type\":\"Grid\"},{\"id\":\"1033\",\"type\":\"LabelSet\"}],\"left\":[{\"id\":\"1020\",\"type\":\"LinearAxis\"}],\"plot_width\":750,\"renderers\":[{\"id\":\"1031\",\"type\":\"GlyphRenderer\"}],\"title\":{\"id\":\"1005\",\"type\":\"Title\"},\"toolbar\":{\"id\":\"1026\",\"type\":\"Toolbar\"},\"x_range\":{\"id\":\"1007\",\"type\":\"DataRange1d\"},\"x_scale\":{\"id\":\"1011\",\"type\":\"LinearScale\"},\"y_range\":{\"id\":\"1009\",\"type\":\"DataRange1d\"},\"y_scale\":{\"id\":\"1013\",\"type\":\"LinearScale\"}},\"id\":\"1004\",\"subtype\":\"Figure\",\"type\":\"Plot\"},{\"attributes\":{},\"id\":\"1041\",\"type\":\"UnionRenderers\"},{\"attributes\":{\"axis_label\":\"EVI\",\"formatter\":{\"id\":\"1037\",\"type\":\"BasicTickFormatter\"},\"ticker\":{\"id\":\"1016\",\"type\":\"BasicTicker\"}},\"id\":\"1015\",\"type\":\"LinearAxis\"},{\"attributes\":{},\"id\":\"1016\",\"type\":\"BasicTicker\"},{\"attributes\":{\"axis_label\":\"HAI\",\"formatter\":{\"id\":\"1039\",\"type\":\"BasicTickFormatter\"},\"ticker\":{\"id\":\"1021\",\"type\":\"BasicTicker\"}},\"id\":\"1020\",\"type\":\"LinearAxis\"},{\"attributes\":{},\"id\":\"1021\",\"type\":\"BasicTicker\"},{\"attributes\":{\"fill_alpha\":{\"value\":0.6},\"fill_color\":{\"value\":\"#1f77b4\"},\"line_color\":{\"value\":null},\"radius\":{\"field\":\"radii\",\"units\":\"data\"},\"x\":{\"field\":\"evi\"},\"y\":{\"field\":\"hai\"}},\"id\":\"1029\",\"type\":\"Circle\"},{\"attributes\":{\"dimension\":1,\"ticker\":{\"id\":\"1021\",\"type\":\"BasicTicker\"}},\"id\":\"1024\",\"type\":\"Grid\"},{\"attributes\":{\"active_drag\":\"auto\",\"active_inspect\":\"auto\",\"active_multi\":null,\"active_scroll\":\"auto\",\"active_tap\":\"auto\",\"tools\":[{\"id\":\"1025\",\"type\":\"HoverTool\"}]},\"id\":\"1026\",\"type\":\"Toolbar\"},{\"attributes\":{\"callback\":null},\"id\":\"1025\",\"type\":\"HoverTool\"},{\"attributes\":{\"fill_alpha\":{\"value\":0.1},\"fill_color\":{\"value\":\"#1f77b4\"},\"line_alpha\":{\"value\":0.1},\"line_color\":{\"value\":\"#1f77b4\"},\"radius\":{\"field\":\"radii\",\"units\":\"data\"},\"x\":{\"field\":\"evi\"},\"y\":{\"field\":\"hai\"}},\"id\":\"1030\",\"type\":\"Circle\"},{\"attributes\":{\"data_source\":{\"id\":\"1003\",\"type\":\"ColumnDataSource\"},\"glyph\":{\"id\":\"1029\",\"type\":\"Circle\"},\"hover_glyph\":null,\"muted_glyph\":null,\"nonselection_glyph\":{\"id\":\"1030\",\"type\":\"Circle\"},\"selection_glyph\":null,\"view\":{\"id\":\"1032\",\"type\":\"CDSView\"}},\"id\":\"1031\",\"type\":\"GlyphRenderer\"},{\"attributes\":{\"level\":\"glyph\",\"source\":{\"id\":\"1003\",\"type\":\"ColumnDataSource\"},\"text\":{\"field\":\"names\"},\"text_font_size\":{\"value\":\"8pt\"},\"x\":{\"field\":\"evi\"},\"x_offset\":{\"value\":5},\"y\":{\"field\":\"hai\"},\"y_offset\":{\"value\":5}},\"id\":\"1033\",\"type\":\"LabelSet\"},{\"attributes\":{\"source\":{\"id\":\"1003\",\"type\":\"ColumnDataSource\"}},\"id\":\"1032\",\"type\":\"CDSView\"},{\"attributes\":{},\"id\":\"1011\",\"type\":\"LinearScale\"},{\"attributes\":{\"text\":\"HAI vs EVI\"},\"id\":\"1005\",\"type\":\"Title\"},{\"attributes\":{},\"id\":\"1040\",\"type\":\"Selection\"},{\"attributes\":{\"callback\":null},\"id\":\"1007\",\"type\":\"DataRange1d\"},{\"attributes\":{\"callback\":null},\"id\":\"1009\",\"type\":\"DataRange1d\"},{\"attributes\":{},\"id\":\"1037\",\"type\":\"BasicTickFormatter\"},{\"attributes\":{},\"id\":\"1039\",\"type\":\"BasicTickFormatter\"},{\"attributes\":{},\"id\":\"1013\",\"type\":\"LinearScale\"},{\"attributes\":{\"ticker\":{\"id\":\"1016\",\"type\":\"BasicTicker\"}},\"id\":\"1019\",\"type\":\"Grid\"},{\"attributes\":{\"callback\":null,\"data\":{\"evi\":[25.22647996005049,35.22731260391133,22.84016607621563,36.720077034964305,39.04960632190836,36.03972094223823,41.07807670152857,32.223509640767226,40.15198290514422,37.844835405475706,62.324583140465705,25.057413670310346,40.23862312419012,29.521596917943512,27.2003663487126,50.987284170820296,33.83130863243787,58.53834286453448,32.62876196820714,86.8308106888402,42.96198519338734,46.193545060524016,34.610376023472256,39.094557149851504,39.743057353561895,44.96254269768851,35.649972171576195,29.461613746615523,25.091059958677903,32.340310509291605,36.59768453201154,62.31040110180348,30.611149279167726,45.03353268742387,63.01477703678091,43.789780361646024,27.259764799300818,43.21536986255457,31.916185482390357,83.00720977306935,28.051441688825598,27.495088343477157,57.87880763164048,24.52525570456255,38.22135705891188],\"hai\":[48.3698405313323,52.52043657551618,73.15064266822495,49.75421277291333,72.86608884522367,42.91698654581399,38.4582473052599,68.92528304696823,17.37091156051442,22.085484315685715,49.385256569573,41.87232303636952,58.02908229893985,42.893055780999646,45.30853361262692,51.82920387983884,39.48893995074097,41.716252662688056,47.97415181855695,83.96679690389746,61.572583924694506,37.23070426579468,54.53329453168444,52.522138892622166,43.106314630459046,46.940261858442696,45.8152514338928,68.47497037955749,71.21981923337259,35.374052152796644,54.97246497703989,86.00679852404463,57.12957161797068,27.395916767676766,74.78849047963382,16.65507946932967,53.03509118236097,66.63143020458574,61.82618003109269,90.13457842056366,50.23906690599287,56.02779180814835,78.51943490439294,59.22749709179137,58.594410552318735],\"names\":[\"Afghanistan\",\"Angola\",\"Bangladesh\",\"Benin\",\"Bhutan\",\"Burkina Faso\",\"Burundi\",\"Cambodia\",\"Central African Republic\",\"Chad\",\"Comoros\",\"Democratic Republic of the Congo\",\"Djibouti\",\"Eritrea\",\"Ethiopia\",\"Gambia\",\"Guinea\",\"Guinea-Bissau\",\"Haiti\",\"Kiribati\",\"Lesotho\",\"Liberia\",\"Madagascar\",\"Malawi\",\"Mali\",\"Mauritania\",\"Mozambique\",\"Myanmar\",\"Nepal\",\"Niger\",\"Rwanda\",\"Sao Tome and Principe\",\"Senegal\",\"Sierra Leone\",\"Solomon Islands\",\"Somalia\",\"Sudan\",\"Timor-Leste\",\"Togo\",\"Tuvalu\",\"Uganda\",\"United Republic of Tanzania\",\"Vanuatu\",\"Yemen\",\"Zambia\"],\"radii\":[0.3486056940032576,2.4668524266042016,0.7020447947937721,0.48602223509185105,1.3228778144086932,0.3545063770828273,0.1439906217703531,0.5921658071844065,0.2039025303122942,0.5072539150463391,0.8788819521470623,0.26478852194206287,1.0434896028654765,0.4748310823991456,0.3550084704511006,0.247446969190501,0.37373691067035597,0.32794088514739334,0.44869169499991846,1.6454751810450026,0.7143690867404829,0.23730867258431165,0.2677231781905875,0.18263121659249557,0.441142763699007,0.6775521275707559,0.3108420352212877,0.6914928152526487,0.41032077914907744,0.2166245207324081,0.3895316490963874,0.9279304402907724,0.5532615213153896,0.32073284585082373,0.9714956147211605,0.052410075653960046,0.8001174040745556,1.4634728916821294,0.3057813583848219,2.9686806171600546,0.3643815661228828,0.49688045527581914,1.6609010705734226,0.5258532451564529,0.8600485617522887]},\"selected\":{\"id\":\"1040\",\"type\":\"Selection\"},\"selection_policy\":{\"id\":\"1041\",\"type\":\"UnionRenderers\"}},\"id\":\"1003\",\"type\":\"ColumnDataSource\"}],\"root_ids\":[\"1004\"]},\"title\":\"Bokeh Application\",\"version\":\"1.3.4\"}};\n",
       "  var render_items = [{\"docid\":\"c68742e0-b60f-439f-9487-a3d79c51388e\",\"roots\":{\"1004\":\"96e5fec9-8be2-4714-9c59-ec7615569dd0\"}}];\n",
       "  root.Bokeh.embed.embed_items_notebook(docs_json, render_items);\n",
       "\n",
       "  }\n",
       "  if (root.Bokeh !== undefined) {\n",
       "    embed_document(root);\n",
       "  } else {\n",
       "    var attempts = 0;\n",
       "    var timer = setInterval(function(root) {\n",
       "      if (root.Bokeh !== undefined) {\n",
       "        embed_document(root);\n",
       "        clearInterval(timer);\n",
       "      }\n",
       "      attempts++;\n",
       "      if (attempts > 100) {\n",
       "        console.log(\"Bokeh: ERROR: Unable to run BokehJS code because BokehJS library is missing\");\n",
       "        clearInterval(timer);\n",
       "      }\n",
       "    }, 10, root)\n",
       "  }\n",
       "})(window);"
      ],
      "application/vnd.bokehjs_exec.v0+json": ""
     },
     "metadata": {
      "application/vnd.bokehjs_exec.v0+json": {
       "id": "1004"
      }
     },
     "output_type": "display_data"
    }
   ],
   "source": [
    "p = scatter_plot(evi, hai, gni_normalized, entities)\n",
    "show(p)"
   ]
  },
  {
   "cell_type": "markdown",
   "metadata": {
    "slideshow": {
     "slide_type": "slide"
    }
   },
   "source": [
    "# The Istanbul Programme of Action"
   ]
  },
  {
   "cell_type": "markdown",
   "metadata": {
    "ExecuteTime": {
     "end_time": "2019-10-23T16:34:47.577716Z",
     "start_time": "2019-10-23T16:34:47.551207Z"
    },
    "slideshow": {
     "slide_type": "slide"
    }
   },
   "source": [
    "# Objectives"
   ]
  },
  {
   "cell_type": "markdown",
   "metadata": {
    "slideshow": {
     "slide_type": "slide"
    }
   },
   "source": [
    "27. The overarching goal of the Programme of Action for the decade 2011-2020 is to overcome the structural challenges faced by the least developed countries in order to eradicate poverty, achieve internationally agreed development goals and enable graduation from the least developed country category.\n",
    "\n"
   ]
  },
  {
   "cell_type": "markdown",
   "metadata": {
    "slideshow": {
     "slide_type": "slide"
    }
   },
   "source": [
    "28. Guided by the overarching goal, national policies of least developed countries and international support measures during the decade will focus on the following specific objectives with the aim of enabling half the number of least developed countries to meet the criteria for graduation by 2020:"
   ]
  },
  {
   "cell_type": "markdown",
   "metadata": {
    "slideshow": {
     "slide_type": "slide"
    }
   },
   "source": [
    "**(a)** Achieve sustained, equitable and inclusive economic growth in least developed countries, to at least the level of 7 per cent per annum, by strengthening their productive capacity in all sectors through structural transformation and overcoming their marginalization through their effective integration into the global economy, including through regional integration;"
   ]
  },
  {
   "cell_type": "markdown",
   "metadata": {
    "slideshow": {
     "slide_type": "slide"
    }
   },
   "source": [
    "**(b) Build human capacities by fostering sustained, equitable and inclusive human and social development, gender equality and the empowerment of women;**"
   ]
  },
  {
   "cell_type": "markdown",
   "metadata": {
    "slideshow": {
     "slide_type": "slide"
    }
   },
   "source": [
    "**(c)** Reduce the **vulnerability** of least developed countries to economic, natural and environmental shocks and disasters, as well as climate change, and enhance their ability to meet these and other challenges through strengthening their resilience;"
   ]
  },
  {
   "cell_type": "markdown",
   "metadata": {
    "slideshow": {
     "slide_type": "slide"
    }
   },
   "source": [
    "**(d)** Ensure enhanced financial resources and their effective use for least developed countries’ development, including through domestic resource mobilization, ODA, external debt relief, foreign direct investment and remittances;"
   ]
  },
  {
   "cell_type": "markdown",
   "metadata": {
    "slideshow": {
     "slide_type": "slide"
    }
   },
   "source": [
    "**(e)** Enhance good governance at all levels, by strengthening democratic processes, institutions and the rule of law; increasing efficiency, coherence, transparency and participation; protecting and promoting human rights; and reducing corruption, and strengthen least developed country Governments’ capacity to play an effective role in their economic and social development."
   ]
  },
  {
   "cell_type": "markdown",
   "metadata": {
    "slideshow": {
     "slide_type": "slide"
    }
   },
   "source": [
    "# IV. Priority areas for action\n",
    "\n",
    "43. The actions will be organized by priority areas as:\n",
    "\n",
    "A. Productive capacity\n",
    "\n",
    "B. Agriculture, food security and rural development\n",
    "\n",
    "C. Trade\n",
    "\n",
    "D. Commodities\n",
    "\n",
    "**E. Human and social development**\n",
    "\n",
    "F. Multiple crises and other emerging challenges ▪Economic shocks\n",
    "\n",
    "H. Good governance at all levels"
   ]
  },
  {
   "cell_type": "markdown",
   "metadata": {
    "slideshow": {
     "slide_type": "slide"
    }
   },
   "source": [
    "# E. Human and social development\n",
    "\n",
    "+ Education and training\n",
    "\n",
    "+ Population and primary health\n",
    "\n",
    "+ Youth development\n",
    "\n",
    "+ Shelter\n",
    "\n",
    "+ Water and sanitation\n",
    "\n",
    "+ Gender equality and empowerment of women ▪Social protection"
   ]
  },
  {
   "cell_type": "markdown",
   "metadata": {
    "slideshow": {
     "slide_type": "slide"
    }
   },
   "source": [
    "# Population and primary health"
   ]
  },
  {
   "cell_type": "code",
   "execution_count": 4,
   "metadata": {
    "ExecuteTime": {
     "end_time": "2019-10-23T20:52:38.771356Z",
     "start_time": "2019-10-23T20:52:35.991255Z"
    },
    "slideshow": {
     "slide_type": "slide"
    }
   },
   "outputs": [
    {
     "data": {
      "text/html": [
       "\n",
       "\n",
       "\n",
       "\n",
       "\n",
       "\n",
       "  <div class=\"bk-root\" id=\"e4bd4a83-ec5a-4944-897f-a9098b644647\" data-root-id=\"1084\"></div>\n"
      ]
     },
     "metadata": {},
     "output_type": "display_data"
    },
    {
     "data": {
      "application/javascript": [
       "(function(root) {\n",
       "  function embed_document(root) {\n",
       "    \n",
       "  var docs_json = {\"5b29b847-84b4-4e19-b416-ca939b49c679\":{\"roots\":{\"references\":[{\"attributes\":{\"below\":[{\"id\":\"1095\",\"type\":\"LinearAxis\"}],\"center\":[{\"id\":\"1099\",\"type\":\"Grid\"},{\"id\":\"1104\",\"type\":\"Grid\"},{\"id\":\"1129\",\"type\":\"Legend\"}],\"left\":[{\"id\":\"1100\",\"type\":\"LinearAxis\"}],\"plot_height\":400,\"plot_width\":950,\"renderers\":[{\"id\":\"1121\",\"type\":\"GlyphRenderer\"},{\"id\":\"1134\",\"type\":\"GlyphRenderer\"}],\"title\":{\"id\":\"1085\",\"type\":\"Title\"},\"toolbar\":{\"id\":\"1111\",\"type\":\"Toolbar\"},\"x_range\":{\"id\":\"1087\",\"type\":\"DataRange1d\"},\"x_scale\":{\"id\":\"1091\",\"type\":\"LinearScale\"},\"y_range\":{\"id\":\"1089\",\"type\":\"DataRange1d\"},\"y_scale\":{\"id\":\"1093\",\"type\":\"LinearScale\"}},\"id\":\"1084\",\"subtype\":\"Figure\",\"type\":\"Plot\"},{\"attributes\":{\"bottom_units\":\"screen\",\"fill_alpha\":{\"value\":0.5},\"fill_color\":{\"value\":\"lightgrey\"},\"left_units\":\"screen\",\"level\":\"overlay\",\"line_alpha\":{\"value\":1.0},\"line_color\":{\"value\":\"black\"},\"line_dash\":[4,4],\"line_width\":{\"value\":2},\"render_mode\":\"css\",\"right_units\":\"screen\",\"top_units\":\"screen\"},\"id\":\"1128\",\"type\":\"BoxAnnotation\"},{\"attributes\":{\"axis_label\":\"Percentage\",\"formatter\":{\"id\":\"1127\",\"type\":\"BasicTickFormatter\"},\"ticker\":{\"id\":\"1101\",\"type\":\"BasicTicker\"}},\"id\":\"1100\",\"type\":\"LinearAxis\"},{\"attributes\":{\"items\":[{\"id\":\"1130\",\"type\":\"LegendItem\"}],\"location\":\"bottom_left\"},\"id\":\"1129\",\"type\":\"Legend\"},{\"attributes\":{},\"id\":\"1101\",\"type\":\"BasicTicker\"},{\"attributes\":{\"label\":{\"value\":\"LDCs\"},\"renderers\":[{\"id\":\"1121\",\"type\":\"GlyphRenderer\"}]},\"id\":\"1130\",\"type\":\"LegendItem\"},{\"attributes\":{\"dimension\":1,\"ticker\":{\"id\":\"1101\",\"type\":\"BasicTicker\"}},\"id\":\"1104\",\"type\":\"Grid\"},{\"attributes\":{\"callback\":null,\"data\":{\"x\":[\"1960\",\"1961\",\"1962\",\"1963\",\"1964\",\"1965\",\"1966\",\"1967\",\"1968\",\"1969\",\"1970\",\"1971\",\"1972\",\"1973\",\"1974\",\"1975\",\"1976\",\"1977\",\"1978\",\"1979\",\"1980\",\"1981\",\"1982\",\"1983\",\"1984\",\"1985\",\"1986\",\"1987\",\"1988\",\"1989\",\"1990\",\"1991\",\"1992\",\"1993\",\"1994\",\"1995\",\"1996\",\"1997\",\"1998\",\"1999\",\"2000\",\"2001\",\"2002\",\"2003\",\"2004\",\"2005\",\"2006\",\"2007\",\"2008\",\"2009\",\"2010\",\"2011\",\"2012\",\"2013\",\"2014\",\"2015\",\"2016\",\"2017\"],\"y\":[240518433.0,246113640.0,251900741.0,257908074.0,264174179.0,270720892.0,277573029.0,284708409.0,292045744.0,299473256.0,306916896.0,314344629.0,321797581.0,329357353.0,337142681.0,345242710.0,353691338.0,362475112.0,371577256.0,380963304.0,390612563.0,400528924.0,410740611.0,421279107.0,432185325.0,443491288.0,455193656.0,467290514.0,479814021.0,492803028.0,506275612.0,520262423.0,534731006.0,549559264.0,564581083.0,579681672.0,594801259.0,609983301.0,625342098.0,641046802.0,657215864.0,673903112.0,691061397.0,708587948.0,726331177.0,744190510.0,762132501.0,780219542.0,798563392.0,817322629.0,836614860.0,856472234.0,873619764.0,894516028.0,915914952.0,937788499.0,960134718.0,982952189.0]},\"selected\":{\"id\":\"1152\",\"type\":\"Selection\"},\"selection_policy\":{\"id\":\"1153\",\"type\":\"UnionRenderers\"}},\"id\":\"1131\",\"type\":\"ColumnDataSource\"},{\"attributes\":{\"fill_color\":{\"value\":\"#FA1857\"},\"line_color\":{\"value\":\"#FA1857\"},\"line_width\":{\"value\":3},\"x\":{\"field\":\"x\"},\"y\":{\"field\":\"y\"}},\"id\":\"1132\",\"type\":\"Circle\"},{\"attributes\":{\"callback\":null,\"data\":{\"x\":[\"1960\",\"1961\",\"1962\",\"1963\",\"1964\",\"1965\",\"1966\",\"1967\",\"1968\",\"1969\",\"1970\",\"1971\",\"1972\",\"1973\",\"1974\",\"1975\",\"1976\",\"1977\",\"1978\",\"1979\",\"1980\",\"1981\",\"1982\",\"1983\",\"1984\",\"1985\",\"1986\",\"1987\",\"1988\",\"1989\",\"1990\",\"1991\",\"1992\",\"1993\",\"1994\",\"1995\",\"1996\",\"1997\",\"1998\",\"1999\",\"2000\",\"2001\",\"2002\",\"2003\",\"2004\",\"2005\",\"2006\",\"2007\",\"2008\",\"2009\",\"2010\",\"2011\",\"2012\",\"2013\",\"2014\",\"2015\",\"2016\",\"2017\"],\"y\":[240518433.0,246113640.0,251900741.0,257908074.0,264174179.0,270720892.0,277573029.0,284708409.0,292045744.0,299473256.0,306916896.0,314344629.0,321797581.0,329357353.0,337142681.0,345242710.0,353691338.0,362475112.0,371577256.0,380963304.0,390612563.0,400528924.0,410740611.0,421279107.0,432185325.0,443491288.0,455193656.0,467290514.0,479814021.0,492803028.0,506275612.0,520262423.0,534731006.0,549559264.0,564581083.0,579681672.0,594801259.0,609983301.0,625342098.0,641046802.0,657215864.0,673903112.0,691061397.0,708587948.0,726331177.0,744190510.0,762132501.0,780219542.0,798563392.0,817322629.0,836614860.0,856472234.0,873619764.0,894516028.0,915914952.0,937788499.0,960134718.0,982952189.0]},\"selected\":{\"id\":\"1150\",\"type\":\"Selection\"},\"selection_policy\":{\"id\":\"1151\",\"type\":\"UnionRenderers\"}},\"id\":\"1118\",\"type\":\"ColumnDataSource\"},{\"attributes\":{\"callback\":null,\"tooltips\":\"        \\n        <div style=padding=5px>Year:@x</div>\\n        <div style=padding=5px>Value:@y</div>\\n        \"},\"id\":\"1136\",\"type\":\"HoverTool\"},{\"attributes\":{\"fill_alpha\":{\"value\":0.1},\"fill_color\":{\"value\":\"#1f77b4\"},\"line_alpha\":{\"value\":0.1},\"line_color\":{\"value\":\"#1f77b4\"},\"line_width\":{\"value\":3},\"x\":{\"field\":\"x\"},\"y\":{\"field\":\"y\"}},\"id\":\"1133\",\"type\":\"Circle\"},{\"attributes\":{},\"id\":\"1105\",\"type\":\"PanTool\"},{\"attributes\":{\"data_source\":{\"id\":\"1131\",\"type\":\"ColumnDataSource\"},\"glyph\":{\"id\":\"1132\",\"type\":\"Circle\"},\"hover_glyph\":null,\"muted_glyph\":null,\"nonselection_glyph\":{\"id\":\"1133\",\"type\":\"Circle\"},\"selection_glyph\":null,\"view\":{\"id\":\"1135\",\"type\":\"CDSView\"}},\"id\":\"1134\",\"type\":\"GlyphRenderer\"},{\"attributes\":{\"line_color\":\"#FA1857\",\"line_width\":2,\"x\":{\"field\":\"x\"},\"y\":{\"field\":\"y\"}},\"id\":\"1119\",\"type\":\"Line\"},{\"attributes\":{},\"id\":\"1106\",\"type\":\"WheelZoomTool\"},{\"attributes\":{\"source\":{\"id\":\"1131\",\"type\":\"ColumnDataSource\"}},\"id\":\"1135\",\"type\":\"CDSView\"},{\"attributes\":{\"overlay\":{\"id\":\"1128\",\"type\":\"BoxAnnotation\"}},\"id\":\"1107\",\"type\":\"BoxZoomTool\"},{\"attributes\":{},\"id\":\"1108\",\"type\":\"SaveTool\"},{\"attributes\":{},\"id\":\"1150\",\"type\":\"Selection\"},{\"attributes\":{},\"id\":\"1109\",\"type\":\"ResetTool\"},{\"attributes\":{},\"id\":\"1151\",\"type\":\"UnionRenderers\"},{\"attributes\":{\"text\":\"Population, total\"},\"id\":\"1085\",\"type\":\"Title\"},{\"attributes\":{},\"id\":\"1110\",\"type\":\"HelpTool\"},{\"attributes\":{},\"id\":\"1152\",\"type\":\"Selection\"},{\"attributes\":{\"active_drag\":\"auto\",\"active_inspect\":\"auto\",\"active_multi\":null,\"active_scroll\":\"auto\",\"active_tap\":\"auto\",\"tools\":[{\"id\":\"1105\",\"type\":\"PanTool\"},{\"id\":\"1106\",\"type\":\"WheelZoomTool\"},{\"id\":\"1107\",\"type\":\"BoxZoomTool\"},{\"id\":\"1108\",\"type\":\"SaveTool\"},{\"id\":\"1109\",\"type\":\"ResetTool\"},{\"id\":\"1110\",\"type\":\"HelpTool\"},{\"id\":\"1136\",\"type\":\"HoverTool\"}]},\"id\":\"1111\",\"type\":\"Toolbar\"},{\"attributes\":{\"callback\":null},\"id\":\"1089\",\"type\":\"DataRange1d\"},{\"attributes\":{},\"id\":\"1153\",\"type\":\"UnionRenderers\"},{\"attributes\":{\"line_alpha\":0.1,\"line_color\":\"#1f77b4\",\"line_width\":2,\"x\":{\"field\":\"x\"},\"y\":{\"field\":\"y\"}},\"id\":\"1120\",\"type\":\"Line\"},{\"attributes\":{},\"id\":\"1091\",\"type\":\"LinearScale\"},{\"attributes\":{\"data_source\":{\"id\":\"1118\",\"type\":\"ColumnDataSource\"},\"glyph\":{\"id\":\"1119\",\"type\":\"Line\"},\"hover_glyph\":null,\"muted_glyph\":null,\"nonselection_glyph\":{\"id\":\"1120\",\"type\":\"Line\"},\"selection_glyph\":null,\"view\":{\"id\":\"1122\",\"type\":\"CDSView\"}},\"id\":\"1121\",\"type\":\"GlyphRenderer\"},{\"attributes\":{},\"id\":\"1093\",\"type\":\"LinearScale\"},{\"attributes\":{\"source\":{\"id\":\"1118\",\"type\":\"ColumnDataSource\"}},\"id\":\"1122\",\"type\":\"CDSView\"},{\"attributes\":{\"axis_label\":\"Years\",\"formatter\":{\"id\":\"1125\",\"type\":\"BasicTickFormatter\"},\"ticker\":{\"id\":\"1096\",\"type\":\"BasicTicker\"}},\"id\":\"1095\",\"type\":\"LinearAxis\"},{\"attributes\":{},\"id\":\"1125\",\"type\":\"BasicTickFormatter\"},{\"attributes\":{},\"id\":\"1096\",\"type\":\"BasicTicker\"},{\"attributes\":{\"callback\":null},\"id\":\"1087\",\"type\":\"DataRange1d\"},{\"attributes\":{},\"id\":\"1127\",\"type\":\"BasicTickFormatter\"},{\"attributes\":{\"ticker\":{\"id\":\"1096\",\"type\":\"BasicTicker\"}},\"id\":\"1099\",\"type\":\"Grid\"}],\"root_ids\":[\"1084\"]},\"title\":\"Bokeh Application\",\"version\":\"1.3.4\"}};\n",
       "  var render_items = [{\"docid\":\"5b29b847-84b4-4e19-b416-ca939b49c679\",\"roots\":{\"1084\":\"e4bd4a83-ec5a-4944-897f-a9098b644647\"}}];\n",
       "  root.Bokeh.embed.embed_items_notebook(docs_json, render_items);\n",
       "\n",
       "  }\n",
       "  if (root.Bokeh !== undefined) {\n",
       "    embed_document(root);\n",
       "  } else {\n",
       "    var attempts = 0;\n",
       "    var timer = setInterval(function(root) {\n",
       "      if (root.Bokeh !== undefined) {\n",
       "        embed_document(root);\n",
       "        clearInterval(timer);\n",
       "      }\n",
       "      attempts++;\n",
       "      if (attempts > 100) {\n",
       "        console.log(\"Bokeh: ERROR: Unable to run BokehJS code because BokehJS library is missing\");\n",
       "        clearInterval(timer);\n",
       "      }\n",
       "    }, 10, root)\n",
       "  }\n",
       "})(window);"
      ],
      "application/vnd.bokehjs_exec.v0+json": ""
     },
     "metadata": {
      "application/vnd.bokehjs_exec.v0+json": {
       "id": "1084"
      }
     },
     "output_type": "display_data"
    }
   ],
   "source": [
    "years = list(map(str, list(range(1960,2018))))\n",
    "result = show_group_total(years, 'SP.POP.TOTL', ['LDCs'])"
   ]
  },
  {
   "cell_type": "code",
   "execution_count": 5,
   "metadata": {
    "ExecuteTime": {
     "end_time": "2019-10-23T20:52:41.457261Z",
     "start_time": "2019-10-23T20:52:38.773629Z"
    },
    "slideshow": {
     "slide_type": "slide"
    }
   },
   "outputs": [
    {
     "data": {
      "text/html": [
       "\n",
       "\n",
       "\n",
       "\n",
       "\n",
       "\n",
       "  <div class=\"bk-root\" id=\"ee59917c-aeca-4c4d-b5a7-337483b69fe9\" data-root-id=\"1215\"></div>\n"
      ]
     },
     "metadata": {},
     "output_type": "display_data"
    },
    {
     "data": {
      "application/javascript": [
       "(function(root) {\n",
       "  function embed_document(root) {\n",
       "    \n",
       "  var docs_json = {\"d95ff995-0171-4ecc-b656-70bd0c399cc3\":{\"roots\":{\"references\":[{\"attributes\":{\"below\":[{\"id\":\"1226\",\"type\":\"LinearAxis\"}],\"center\":[{\"id\":\"1230\",\"type\":\"Grid\"},{\"id\":\"1235\",\"type\":\"Grid\"},{\"id\":\"1260\",\"type\":\"Legend\"}],\"left\":[{\"id\":\"1231\",\"type\":\"LinearAxis\"}],\"plot_height\":400,\"plot_width\":950,\"renderers\":[{\"id\":\"1252\",\"type\":\"GlyphRenderer\"},{\"id\":\"1265\",\"type\":\"GlyphRenderer\"},{\"id\":\"1270\",\"type\":\"GlyphRenderer\"},{\"id\":\"1286\",\"type\":\"GlyphRenderer\"},{\"id\":\"1291\",\"type\":\"GlyphRenderer\"},{\"id\":\"1311\",\"type\":\"GlyphRenderer\"}],\"title\":{\"id\":\"1216\",\"type\":\"Title\"},\"toolbar\":{\"id\":\"1242\",\"type\":\"Toolbar\"},\"x_range\":{\"id\":\"1218\",\"type\":\"DataRange1d\"},\"x_scale\":{\"id\":\"1222\",\"type\":\"LinearScale\"},\"y_range\":{\"id\":\"1220\",\"type\":\"DataRange1d\"},\"y_scale\":{\"id\":\"1224\",\"type\":\"LinearScale\"}},\"id\":\"1215\",\"subtype\":\"Figure\",\"type\":\"Plot\"},{\"attributes\":{},\"id\":\"1227\",\"type\":\"BasicTicker\"},{\"attributes\":{\"source\":{\"id\":\"1249\",\"type\":\"ColumnDataSource\"}},\"id\":\"1253\",\"type\":\"CDSView\"},{\"attributes\":{},\"id\":\"1279\",\"type\":\"Selection\"},{\"attributes\":{\"callback\":null,\"data\":{\"x\":[2020,2025,2030,2035,2040,2045,2050,2055,2060,2065,2070,2075,2080,2085,2090,2095,2100],\"y\":[912306.7240000002,924199.783,933262.5580000001,940475.6150000001,944668.037,945929.6540000001,944372.924,940125.755,933542.0040000002,925493.626,916927.8789999998,908413.484,900272.8359999999,892459.4159999999,884981.163,877749.1270000001,870615.133]},\"selected\":{\"id\":\"1347\",\"type\":\"Selection\"},\"selection_policy\":{\"id\":\"1348\",\"type\":\"UnionRenderers\"}},\"id\":\"1308\",\"type\":\"ColumnDataSource\"},{\"attributes\":{\"axis_label\":\"Percentage\",\"formatter\":{\"id\":\"1258\",\"type\":\"BasicTickFormatter\"},\"ticker\":{\"id\":\"1232\",\"type\":\"BasicTicker\"}},\"id\":\"1231\",\"type\":\"LinearAxis\"},{\"attributes\":{},\"id\":\"1256\",\"type\":\"BasicTickFormatter\"},{\"attributes\":{\"fill_color\":{\"value\":\"#2CC775\"},\"line_color\":{\"value\":\"#2CC775\"},\"line_width\":{\"value\":3},\"x\":{\"field\":\"x\"},\"y\":{\"field\":\"y\"}},\"id\":\"1309\",\"type\":\"Circle\"},{\"attributes\":{},\"id\":\"1280\",\"type\":\"UnionRenderers\"},{\"attributes\":{\"dimension\":1,\"ticker\":{\"id\":\"1232\",\"type\":\"BasicTicker\"}},\"id\":\"1235\",\"type\":\"Grid\"},{\"attributes\":{},\"id\":\"1258\",\"type\":\"BasicTickFormatter\"},{\"attributes\":{\"fill_alpha\":{\"value\":0.1},\"fill_color\":{\"value\":\"#1f77b4\"},\"line_alpha\":{\"value\":0.1},\"line_color\":{\"value\":\"#1f77b4\"},\"line_width\":{\"value\":3},\"x\":{\"field\":\"x\"},\"y\":{\"field\":\"y\"}},\"id\":\"1310\",\"type\":\"Circle\"},{\"attributes\":{\"label\":{\"value\":\"Developing excluding LDCs\"},\"renderers\":[{\"id\":\"1270\",\"type\":\"GlyphRenderer\"}]},\"id\":\"1282\",\"type\":\"LegendItem\"},{\"attributes\":{\"data_source\":{\"id\":\"1308\",\"type\":\"ColumnDataSource\"},\"glyph\":{\"id\":\"1309\",\"type\":\"Circle\"},\"hover_glyph\":null,\"muted_glyph\":null,\"nonselection_glyph\":{\"id\":\"1310\",\"type\":\"Circle\"},\"selection_glyph\":null,\"view\":{\"id\":\"1312\",\"type\":\"CDSView\"}},\"id\":\"1311\",\"type\":\"GlyphRenderer\"},{\"attributes\":{\"ticker\":{\"id\":\"1227\",\"type\":\"BasicTicker\"}},\"id\":\"1230\",\"type\":\"Grid\"},{\"attributes\":{\"callback\":null,\"data\":{\"x\":[2020,2025,2030,2035,2040,2045,2050,2055,2060,2065,2070,2075,2080,2085,2090,2095,2100],\"y\":[4993103.786000001,5218738.716999997,5421085.645999999,5600144.947999999,5752488.066,5878012.936,5976889.714000002,6050353.927999998,6099916.011999999,6128642.660999999,6138746.354000001,6132326.774999998,6111578.452999997,6078805.713000003,6037048.572999997,5987636.3539999975,5930332.014000001]},\"selected\":{\"id\":\"1304\",\"type\":\"Selection\"},\"selection_policy\":{\"id\":\"1305\",\"type\":\"UnionRenderers\"}},\"id\":\"1283\",\"type\":\"ColumnDataSource\"},{\"attributes\":{\"bottom_units\":\"screen\",\"fill_alpha\":{\"value\":0.5},\"fill_color\":{\"value\":\"lightgrey\"},\"left_units\":\"screen\",\"level\":\"overlay\",\"line_alpha\":{\"value\":1.0},\"line_color\":{\"value\":\"black\"},\"line_dash\":[4,4],\"line_width\":{\"value\":2},\"render_mode\":\"css\",\"right_units\":\"screen\",\"top_units\":\"screen\"},\"id\":\"1259\",\"type\":\"BoxAnnotation\"},{\"attributes\":{\"items\":[{\"id\":\"1261\",\"type\":\"LegendItem\"},{\"id\":\"1282\",\"type\":\"LegendItem\"},{\"id\":\"1307\",\"type\":\"LegendItem\"}],\"location\":\"bottom_left\"},\"id\":\"1260\",\"type\":\"Legend\"},{\"attributes\":{\"source\":{\"id\":\"1308\",\"type\":\"ColumnDataSource\"}},\"id\":\"1312\",\"type\":\"CDSView\"},{\"attributes\":{\"fill_color\":{\"value\":\"#5430F1\"},\"line_color\":{\"value\":\"#5430F1\"},\"line_width\":{\"value\":3},\"x\":{\"field\":\"x\"},\"y\":{\"field\":\"y\"}},\"id\":\"1284\",\"type\":\"Circle\"},{\"attributes\":{\"label\":{\"value\":\"LDCs\"},\"renderers\":[{\"id\":\"1252\",\"type\":\"GlyphRenderer\"}]},\"id\":\"1261\",\"type\":\"LegendItem\"},{\"attributes\":{\"fill_alpha\":{\"value\":0.1},\"fill_color\":{\"value\":\"#1f77b4\"},\"line_alpha\":{\"value\":0.1},\"line_color\":{\"value\":\"#1f77b4\"},\"line_width\":{\"value\":3},\"x\":{\"field\":\"x\"},\"y\":{\"field\":\"y\"}},\"id\":\"1285\",\"type\":\"Circle\"},{\"attributes\":{\"line_color\":\"#FA1857\",\"line_width\":2,\"x\":{\"field\":\"x\"},\"y\":{\"field\":\"y\"}},\"id\":\"1250\",\"type\":\"Line\"},{\"attributes\":{\"callback\":null,\"data\":{\"x\":[2020,2025,2030,2035,2040,2045,2050,2055,2060,2065,2070,2075,2080,2085,2090,2095,2100],\"y\":[1057438.163,1182376.585,1313758.882,1450358.0589999997,1590723.5140000007,1733412.6489999997,1876797.781,2019337.702000001,2159628.188,2296253.5399999996,2427682.2370000007,2552545.8049999997,2669675.032999999,2778054.0900000003,2877186.7590000005,2966790.3559999997,3046778.7830000003]},\"selected\":{\"id\":\"1279\",\"type\":\"Selection\"},\"selection_policy\":{\"id\":\"1280\",\"type\":\"UnionRenderers\"}},\"id\":\"1262\",\"type\":\"ColumnDataSource\"},{\"attributes\":{\"data_source\":{\"id\":\"1283\",\"type\":\"ColumnDataSource\"},\"glyph\":{\"id\":\"1284\",\"type\":\"Circle\"},\"hover_glyph\":null,\"muted_glyph\":null,\"nonselection_glyph\":{\"id\":\"1285\",\"type\":\"Circle\"},\"selection_glyph\":null,\"view\":{\"id\":\"1287\",\"type\":\"CDSView\"}},\"id\":\"1286\",\"type\":\"GlyphRenderer\"},{\"attributes\":{},\"id\":\"1345\",\"type\":\"Selection\"},{\"attributes\":{\"fill_color\":{\"value\":\"#FA1857\"},\"line_color\":{\"value\":\"#FA1857\"},\"line_width\":{\"value\":3},\"x\":{\"field\":\"x\"},\"y\":{\"field\":\"y\"}},\"id\":\"1263\",\"type\":\"Circle\"},{\"attributes\":{},\"id\":\"1346\",\"type\":\"UnionRenderers\"},{\"attributes\":{\"source\":{\"id\":\"1283\",\"type\":\"ColumnDataSource\"}},\"id\":\"1287\",\"type\":\"CDSView\"},{\"attributes\":{\"line_alpha\":0.1,\"line_color\":\"#1f77b4\",\"line_width\":2,\"x\":{\"field\":\"x\"},\"y\":{\"field\":\"y\"}},\"id\":\"1251\",\"type\":\"Line\"},{\"attributes\":{\"fill_alpha\":{\"value\":0.1},\"fill_color\":{\"value\":\"#1f77b4\"},\"line_alpha\":{\"value\":0.1},\"line_color\":{\"value\":\"#1f77b4\"},\"line_width\":{\"value\":3},\"x\":{\"field\":\"x\"},\"y\":{\"field\":\"y\"}},\"id\":\"1264\",\"type\":\"Circle\"},{\"attributes\":{},\"id\":\"1347\",\"type\":\"Selection\"},{\"attributes\":{\"callback\":null,\"data\":{\"x\":[2020,2025,2030,2035,2040,2045,2050,2055,2060,2065,2070,2075,2080,2085,2090,2095,2100],\"y\":[912306.7240000002,924199.783,933262.5580000001,940475.6150000001,944668.037,945929.6540000001,944372.924,940125.755,933542.0040000002,925493.626,916927.8789999998,908413.484,900272.8359999999,892459.4159999999,884981.163,877749.1270000001,870615.133]},\"selected\":{\"id\":\"1345\",\"type\":\"Selection\"},\"selection_policy\":{\"id\":\"1346\",\"type\":\"UnionRenderers\"}},\"id\":\"1288\",\"type\":\"ColumnDataSource\"},{\"attributes\":{\"data_source\":{\"id\":\"1262\",\"type\":\"ColumnDataSource\"},\"glyph\":{\"id\":\"1263\",\"type\":\"Circle\"},\"hover_glyph\":null,\"muted_glyph\":null,\"nonselection_glyph\":{\"id\":\"1264\",\"type\":\"Circle\"},\"selection_glyph\":null,\"view\":{\"id\":\"1266\",\"type\":\"CDSView\"}},\"id\":\"1265\",\"type\":\"GlyphRenderer\"},{\"attributes\":{},\"id\":\"1348\",\"type\":\"UnionRenderers\"},{\"attributes\":{\"callback\":null,\"data\":{\"x\":[2020,2025,2030,2035,2040,2045,2050,2055,2060,2065,2070,2075,2080,2085,2090,2095,2100],\"y\":[1057438.163,1182376.585,1313758.882,1450358.0589999997,1590723.5140000007,1733412.6489999997,1876797.781,2019337.702000001,2159628.188,2296253.5399999996,2427682.2370000007,2552545.8049999997,2669675.032999999,2778054.0900000003,2877186.7590000005,2966790.3559999997,3046778.7830000003]},\"selected\":{\"id\":\"1277\",\"type\":\"Selection\"},\"selection_policy\":{\"id\":\"1278\",\"type\":\"UnionRenderers\"}},\"id\":\"1249\",\"type\":\"ColumnDataSource\"},{\"attributes\":{\"line_color\":\"#2CC775\",\"line_width\":2,\"x\":{\"field\":\"x\"},\"y\":{\"field\":\"y\"}},\"id\":\"1289\",\"type\":\"Line\"},{\"attributes\":{\"data_source\":{\"id\":\"1249\",\"type\":\"ColumnDataSource\"},\"glyph\":{\"id\":\"1250\",\"type\":\"Line\"},\"hover_glyph\":null,\"muted_glyph\":null,\"nonselection_glyph\":{\"id\":\"1251\",\"type\":\"Line\"},\"selection_glyph\":null,\"view\":{\"id\":\"1253\",\"type\":\"CDSView\"}},\"id\":\"1252\",\"type\":\"GlyphRenderer\"},{\"attributes\":{\"source\":{\"id\":\"1262\",\"type\":\"ColumnDataSource\"}},\"id\":\"1266\",\"type\":\"CDSView\"},{\"attributes\":{\"line_alpha\":0.1,\"line_color\":\"#1f77b4\",\"line_width\":2,\"x\":{\"field\":\"x\"},\"y\":{\"field\":\"y\"}},\"id\":\"1290\",\"type\":\"Line\"},{\"attributes\":{},\"id\":\"1236\",\"type\":\"PanTool\"},{\"attributes\":{\"callback\":null,\"data\":{\"x\":[2020,2025,2030,2035,2040,2045,2050,2055,2060,2065,2070,2075,2080,2085,2090,2095,2100],\"y\":[4993103.786000001,5218738.716999997,5421085.645999999,5600144.947999999,5752488.066,5878012.936,5976889.714000002,6050353.927999998,6099916.011999999,6128642.660999999,6138746.354000001,6132326.774999998,6111578.452999997,6078805.713000003,6037048.572999997,5987636.3539999975,5930332.014000001]},\"selected\":{\"id\":\"1302\",\"type\":\"Selection\"},\"selection_policy\":{\"id\":\"1303\",\"type\":\"UnionRenderers\"}},\"id\":\"1267\",\"type\":\"ColumnDataSource\"},{\"attributes\":{\"callback\":null},\"id\":\"1220\",\"type\":\"DataRange1d\"},{\"attributes\":{\"data_source\":{\"id\":\"1288\",\"type\":\"ColumnDataSource\"},\"glyph\":{\"id\":\"1289\",\"type\":\"Line\"},\"hover_glyph\":null,\"muted_glyph\":null,\"nonselection_glyph\":{\"id\":\"1290\",\"type\":\"Line\"},\"selection_glyph\":null,\"view\":{\"id\":\"1292\",\"type\":\"CDSView\"}},\"id\":\"1291\",\"type\":\"GlyphRenderer\"},{\"attributes\":{},\"id\":\"1237\",\"type\":\"WheelZoomTool\"},{\"attributes\":{\"line_color\":\"#5430F1\",\"line_width\":2,\"x\":{\"field\":\"x\"},\"y\":{\"field\":\"y\"}},\"id\":\"1268\",\"type\":\"Line\"},{\"attributes\":{\"source\":{\"id\":\"1288\",\"type\":\"ColumnDataSource\"}},\"id\":\"1292\",\"type\":\"CDSView\"},{\"attributes\":{\"overlay\":{\"id\":\"1259\",\"type\":\"BoxAnnotation\"}},\"id\":\"1238\",\"type\":\"BoxZoomTool\"},{\"attributes\":{},\"id\":\"1305\",\"type\":\"UnionRenderers\"},{\"attributes\":{\"callback\":null,\"tooltips\":\"        \\n        <div style=padding=5px>Year:@x</div>\\n        <div style=padding=5px>Value:@y</div>\\n        \"},\"id\":\"1313\",\"type\":\"HoverTool\"},{\"attributes\":{\"line_alpha\":0.1,\"line_color\":\"#1f77b4\",\"line_width\":2,\"x\":{\"field\":\"x\"},\"y\":{\"field\":\"y\"}},\"id\":\"1269\",\"type\":\"Line\"},{\"attributes\":{\"axis_label\":\"Years\",\"formatter\":{\"id\":\"1256\",\"type\":\"BasicTickFormatter\"},\"ticker\":{\"id\":\"1227\",\"type\":\"BasicTicker\"}},\"id\":\"1226\",\"type\":\"LinearAxis\"},{\"attributes\":{},\"id\":\"1239\",\"type\":\"SaveTool\"},{\"attributes\":{},\"id\":\"1302\",\"type\":\"Selection\"},{\"attributes\":{\"data_source\":{\"id\":\"1267\",\"type\":\"ColumnDataSource\"},\"glyph\":{\"id\":\"1268\",\"type\":\"Line\"},\"hover_glyph\":null,\"muted_glyph\":null,\"nonselection_glyph\":{\"id\":\"1269\",\"type\":\"Line\"},\"selection_glyph\":null,\"view\":{\"id\":\"1271\",\"type\":\"CDSView\"}},\"id\":\"1270\",\"type\":\"GlyphRenderer\"},{\"attributes\":{},\"id\":\"1224\",\"type\":\"LinearScale\"},{\"attributes\":{},\"id\":\"1240\",\"type\":\"ResetTool\"},{\"attributes\":{},\"id\":\"1303\",\"type\":\"UnionRenderers\"},{\"attributes\":{\"callback\":null},\"id\":\"1218\",\"type\":\"DataRange1d\"},{\"attributes\":{\"source\":{\"id\":\"1267\",\"type\":\"ColumnDataSource\"}},\"id\":\"1271\",\"type\":\"CDSView\"},{\"attributes\":{},\"id\":\"1222\",\"type\":\"LinearScale\"},{\"attributes\":{},\"id\":\"1241\",\"type\":\"HelpTool\"},{\"attributes\":{},\"id\":\"1304\",\"type\":\"Selection\"},{\"attributes\":{},\"id\":\"1277\",\"type\":\"Selection\"},{\"attributes\":{\"active_drag\":\"auto\",\"active_inspect\":\"auto\",\"active_multi\":null,\"active_scroll\":\"auto\",\"active_tap\":\"auto\",\"tools\":[{\"id\":\"1236\",\"type\":\"PanTool\"},{\"id\":\"1237\",\"type\":\"WheelZoomTool\"},{\"id\":\"1238\",\"type\":\"BoxZoomTool\"},{\"id\":\"1239\",\"type\":\"SaveTool\"},{\"id\":\"1240\",\"type\":\"ResetTool\"},{\"id\":\"1241\",\"type\":\"HelpTool\"},{\"id\":\"1313\",\"type\":\"HoverTool\"}]},\"id\":\"1242\",\"type\":\"Toolbar\"},{\"attributes\":{\"text\":\"Projected population, thousands\"},\"id\":\"1216\",\"type\":\"Title\"},{\"attributes\":{},\"id\":\"1232\",\"type\":\"BasicTicker\"},{\"attributes\":{},\"id\":\"1278\",\"type\":\"UnionRenderers\"},{\"attributes\":{\"label\":{\"value\":\"OECD\"},\"renderers\":[{\"id\":\"1291\",\"type\":\"GlyphRenderer\"}]},\"id\":\"1307\",\"type\":\"LegendItem\"}],\"root_ids\":[\"1215\"]},\"title\":\"Bokeh Application\",\"version\":\"1.3.4\"}};\n",
       "  var render_items = [{\"docid\":\"d95ff995-0171-4ecc-b656-70bd0c399cc3\",\"roots\":{\"1215\":\"ee59917c-aeca-4c4d-b5a7-337483b69fe9\"}}];\n",
       "  root.Bokeh.embed.embed_items_notebook(docs_json, render_items);\n",
       "\n",
       "  }\n",
       "  if (root.Bokeh !== undefined) {\n",
       "    embed_document(root);\n",
       "  } else {\n",
       "    var attempts = 0;\n",
       "    var timer = setInterval(function(root) {\n",
       "      if (root.Bokeh !== undefined) {\n",
       "        embed_document(root);\n",
       "        clearInterval(timer);\n",
       "      }\n",
       "      attempts++;\n",
       "      if (attempts > 100) {\n",
       "        console.log(\"Bokeh: ERROR: Unable to run BokehJS code because BokehJS library is missing\");\n",
       "        clearInterval(timer);\n",
       "      }\n",
       "    }, 10, root)\n",
       "  }\n",
       "})(window);"
      ],
      "application/vnd.bokehjs_exec.v0+json": ""
     },
     "metadata": {
      "application/vnd.bokehjs_exec.v0+json": {
       "id": "1215"
      }
     },
     "output_type": "display_data"
    }
   ],
   "source": [
    "show(line_chart(gpp(['LDCs', 'Developing excluding LDCs', 'OECD']), \"Projected population, thousands\"))"
   ]
  },
  {
   "cell_type": "code",
   "execution_count": 23,
   "metadata": {
    "ExecuteTime": {
     "end_time": "2019-10-23T21:06:14.811811Z",
     "start_time": "2019-10-23T21:06:14.432399Z"
    },
    "scrolled": true
   },
   "outputs": [],
   "source": [
    "import sources\n",
    "data = sources.unpd.indicators.get_projection_by_group('LDCs')"
   ]
  },
  {
   "cell_type": "code",
   "execution_count": 7,
   "metadata": {
    "ExecuteTime": {
     "end_time": "2019-10-23T20:54:57.608660Z",
     "start_time": "2019-10-23T20:52:44.570564Z"
    },
    "slideshow": {
     "slide_type": "slide"
    }
   },
   "outputs": [
    {
     "data": {
      "text/html": [
       "\n",
       "\n",
       "\n",
       "\n",
       "\n",
       "\n",
       "  <div class=\"bk-root\" id=\"8de64a16-84a7-416b-986a-57034e32be37\" data-root-id=\"8011\"></div>\n"
      ]
     },
     "metadata": {},
     "output_type": "display_data"
    },
    {
     "data": {
      "application/javascript": [
       "(function(root) {\n",
       "  function embed_document(root) {\n",
       "    \n",
       "  var docs_json = {\"4aa4a8f2-ad48-4d85-9f6e-7cc885893a07\":{\"roots\":{\"references\":[{\"attributes\":{\"below\":[{\"id\":\"8022\",\"type\":\"LinearAxis\"}],\"center\":[{\"id\":\"8026\",\"type\":\"Grid\"},{\"id\":\"8031\",\"type\":\"Grid\"},{\"id\":\"8056\",\"type\":\"Legend\"}],\"left\":[{\"id\":\"8027\",\"type\":\"LinearAxis\"}],\"plot_height\":400,\"plot_width\":950,\"renderers\":[{\"id\":\"8048\",\"type\":\"GlyphRenderer\"},{\"id\":\"8061\",\"type\":\"GlyphRenderer\"},{\"id\":\"8066\",\"type\":\"GlyphRenderer\"},{\"id\":\"8082\",\"type\":\"GlyphRenderer\"},{\"id\":\"8087\",\"type\":\"GlyphRenderer\"},{\"id\":\"8107\",\"type\":\"GlyphRenderer\"}],\"title\":{\"id\":\"8012\",\"type\":\"Title\"},\"toolbar\":{\"id\":\"8038\",\"type\":\"Toolbar\"},\"x_range\":{\"id\":\"8014\",\"type\":\"DataRange1d\"},\"x_scale\":{\"id\":\"8018\",\"type\":\"LinearScale\"},\"y_range\":{\"id\":\"8016\",\"type\":\"DataRange1d\"},\"y_scale\":{\"id\":\"8020\",\"type\":\"LinearScale\"}},\"id\":\"8011\",\"subtype\":\"Figure\",\"type\":\"Plot\"},{\"attributes\":{\"data_source\":{\"id\":\"8079\",\"type\":\"ColumnDataSource\"},\"glyph\":{\"id\":\"8080\",\"type\":\"Circle\"},\"hover_glyph\":null,\"muted_glyph\":null,\"nonselection_glyph\":{\"id\":\"8081\",\"type\":\"Circle\"},\"selection_glyph\":null,\"view\":{\"id\":\"8083\",\"type\":\"CDSView\"}},\"id\":\"8082\",\"type\":\"GlyphRenderer\"},{\"attributes\":{\"callback\":null,\"data\":{\"x\":[\"1960\",\"1961\",\"1962\",\"1963\",\"1964\",\"1965\",\"1966\",\"1967\",\"1968\",\"1969\",\"1970\",\"1971\",\"1972\",\"1973\",\"1974\",\"1975\",\"1976\",\"1977\",\"1978\",\"1979\",\"1980\",\"1981\",\"1982\",\"1983\",\"1984\",\"1985\",\"1986\",\"1987\",\"1988\",\"1989\",\"1990\",\"1991\",\"1992\",\"1993\",\"1994\",\"1995\",\"1996\",\"1997\",\"1998\",\"1999\",\"2000\",\"2001\",\"2002\",\"2003\",\"2004\",\"2005\",\"2006\",\"2007\",\"2008\",\"2009\",\"2010\",\"2011\",\"2012\",\"2013\",\"2014\",\"2015\",\"2016\",\"2017\"],\"y\":[90.30540314961225,90.05922308596143,89.79142197607507,89.50943020766772,89.21332392073033,88.90699930713514,88.59129404993091,88.2421437061032,87.87890301522422,87.498660914606,87.1174953120763,86.69804365829646,86.25174066596233,85.79977180585672,85.34188252862592,85.43654119910886,84.95168938138087,84.44580769216783,83.9221505351178,83.41754005994233,82.84275481593508,82.33340839124018,81.98009926769818,81.5994068914721,81.17923373810068,80.73499511441362,80.28737654778298,79.83589419008621,79.37735062469132,78.94106163003731,78.49089593262889,78.06666464387531,77.66442498847728,77.27582295914314,76.937477006595,76.6142721385419,76.29207931094508,75.96043698797583,75.63493186609195,75.3089958985288,74.97591336080258,74.58855084775452,74.17072837361799,73.7383105264119,73.30461571223451,72.85760200817124,72.41698364409473,72.02137630639736,71.53477802260059,71.03883841181644,70.53468445683478,70.02322338974272,69.54425681847671,69.04126913036824,68.53335948867445,68.02084860989429,67.5036702230874,66.9817255009623]},\"selected\":{\"id\":\"8075\",\"type\":\"Selection\"},\"selection_policy\":{\"id\":\"8076\",\"type\":\"UnionRenderers\"}},\"id\":\"8058\",\"type\":\"ColumnDataSource\"},{\"attributes\":{},\"id\":\"8353\",\"type\":\"Selection\"},{\"attributes\":{\"source\":{\"id\":\"8079\",\"type\":\"ColumnDataSource\"}},\"id\":\"8083\",\"type\":\"CDSView\"},{\"attributes\":{\"fill_color\":{\"value\":\"#FA1857\"},\"line_color\":{\"value\":\"#FA1857\"},\"line_width\":{\"value\":3},\"x\":{\"field\":\"x\"},\"y\":{\"field\":\"y\"}},\"id\":\"8059\",\"type\":\"Circle\"},{\"attributes\":{},\"id\":\"8354\",\"type\":\"UnionRenderers\"},{\"attributes\":{\"callback\":null,\"data\":{\"x\":[\"1960\",\"1961\",\"1962\",\"1963\",\"1964\",\"1965\",\"1966\",\"1967\",\"1968\",\"1969\",\"1970\",\"1971\",\"1972\",\"1973\",\"1974\",\"1975\",\"1976\",\"1977\",\"1978\",\"1979\",\"1980\",\"1981\",\"1982\",\"1983\",\"1984\",\"1985\",\"1986\",\"1987\",\"1988\",\"1989\",\"1990\",\"1991\",\"1992\",\"1993\",\"1994\",\"1995\",\"1996\",\"1997\",\"1998\",\"1999\",\"2000\",\"2001\",\"2002\",\"2003\",\"2004\",\"2005\",\"2006\",\"2007\",\"2008\",\"2009\",\"2010\",\"2011\",\"2012\",\"2013\",\"2014\",\"2015\",\"2016\",\"2017\"],\"y\":[90.30540314961225,90.05922308596143,89.79142197607507,89.50943020766772,89.21332392073033,88.90699930713514,88.59129404993091,88.2421437061032,87.87890301522422,87.498660914606,87.1174953120763,86.69804365829646,86.25174066596233,85.79977180585672,85.34188252862592,85.43654119910886,84.95168938138087,84.44580769216783,83.9221505351178,83.41754005994233,82.84275481593508,82.33340839124018,81.98009926769818,81.5994068914721,81.17923373810068,80.73499511441362,80.28737654778298,79.83589419008621,79.37735062469132,78.94106163003731,78.49089593262889,78.06666464387531,77.66442498847728,77.27582295914314,76.937477006595,76.6142721385419,76.29207931094508,75.96043698797583,75.63493186609195,75.3089958985288,74.97591336080258,74.58855084775452,74.17072837361799,73.7383105264119,73.30461571223451,72.85760200817124,72.41698364409473,72.02137630639736,71.53477802260059,71.03883841181644,70.53468445683478,70.02322338974272,69.54425681847671,69.04126913036824,68.53335948867445,68.02084860989429,67.5036702230874,66.9817255009623]},\"selected\":{\"id\":\"8073\",\"type\":\"Selection\"},\"selection_policy\":{\"id\":\"8074\",\"type\":\"UnionRenderers\"}},\"id\":\"8045\",\"type\":\"ColumnDataSource\"},{\"attributes\":{\"callback\":null,\"data\":{\"x\":[\"1960\",\"1961\",\"1962\",\"1963\",\"1964\",\"1965\",\"1966\",\"1967\",\"1968\",\"1969\",\"1970\",\"1971\",\"1972\",\"1973\",\"1974\",\"1975\",\"1976\",\"1977\",\"1978\",\"1979\",\"1980\",\"1981\",\"1982\",\"1983\",\"1984\",\"1985\",\"1986\",\"1987\",\"1988\",\"1989\",\"1990\",\"1991\",\"1992\",\"1993\",\"1994\",\"1995\",\"1996\",\"1997\",\"1998\",\"1999\",\"2000\",\"2001\",\"2002\",\"2003\",\"2004\",\"2005\",\"2006\",\"2007\",\"2008\",\"2009\",\"2010\",\"2011\",\"2012\",\"2013\",\"2014\",\"2015\",\"2016\",\"2017\"],\"y\":[37.40046379762384,36.910426656412376,36.42127360665778,35.91623000953568,35.41312563450036,34.91259283883799,34.41460814240305,33.906853776784544,33.41175944934178,32.93243762343052,32.47371657833314,32.08243047483682,31.72254341724644,31.376230937591238,31.02541989859808,30.694684316251664,30.439520115174478,30.192444164715646,29.942960728335073,29.698117424398575,29.45271291536762,29.159197365938237,28.884819993799557,28.62443020571846,28.373177767459325,28.121981510199006,27.8604458404359,27.578860132814693,27.299974013372434,27.04188263980006,26.764398045351797,26.48515980107442,26.22585182821077,25.962163393862863,25.69276563048598,25.42543337883581,25.181488242051362,24.9477281910235,24.714988268795185,24.48183071086911,24.25025925627994,23.905203675760802,23.504398066886452,23.123776637102807,22.758727449036055,22.408569017585673,22.085829368063017,21.7813270701607,21.485590735868247,21.19879146971327,20.918753085714805,20.70228925587614,20.51614583488052,20.332611207313864,20.1493430924518,19.961337971168508,19.770869743541244,19.576668574669895]},\"selected\":{\"id\":\"8353\",\"type\":\"Selection\"},\"selection_policy\":{\"id\":\"8354\",\"type\":\"UnionRenderers\"}},\"id\":\"8084\",\"type\":\"ColumnDataSource\"},{\"attributes\":{\"callback\":null,\"tooltips\":\"        \\n        <div style=padding=5px>Year:@x</div>\\n        <div style=padding=5px>Value:@y</div>\\n        \"},\"id\":\"8109\",\"type\":\"HoverTool\"},{\"attributes\":{\"fill_alpha\":{\"value\":0.1},\"fill_color\":{\"value\":\"#1f77b4\"},\"line_alpha\":{\"value\":0.1},\"line_color\":{\"value\":\"#1f77b4\"},\"line_width\":{\"value\":3},\"x\":{\"field\":\"x\"},\"y\":{\"field\":\"y\"}},\"id\":\"8060\",\"type\":\"Circle\"},{\"attributes\":{},\"id\":\"8355\",\"type\":\"Selection\"},{\"attributes\":{\"line_color\":\"#2CC775\",\"line_width\":2,\"x\":{\"field\":\"x\"},\"y\":{\"field\":\"y\"}},\"id\":\"8085\",\"type\":\"Line\"},{\"attributes\":{},\"id\":\"8032\",\"type\":\"PanTool\"},{\"attributes\":{\"data_source\":{\"id\":\"8058\",\"type\":\"ColumnDataSource\"},\"glyph\":{\"id\":\"8059\",\"type\":\"Circle\"},\"hover_glyph\":null,\"muted_glyph\":null,\"nonselection_glyph\":{\"id\":\"8060\",\"type\":\"Circle\"},\"selection_glyph\":null,\"view\":{\"id\":\"8062\",\"type\":\"CDSView\"}},\"id\":\"8061\",\"type\":\"GlyphRenderer\"},{\"attributes\":{},\"id\":\"8356\",\"type\":\"UnionRenderers\"},{\"attributes\":{\"line_alpha\":0.1,\"line_color\":\"#1f77b4\",\"line_width\":2,\"x\":{\"field\":\"x\"},\"y\":{\"field\":\"y\"}},\"id\":\"8086\",\"type\":\"Line\"},{\"attributes\":{},\"id\":\"8033\",\"type\":\"WheelZoomTool\"},{\"attributes\":{\"source\":{\"id\":\"8058\",\"type\":\"ColumnDataSource\"}},\"id\":\"8062\",\"type\":\"CDSView\"},{\"attributes\":{\"data_source\":{\"id\":\"8084\",\"type\":\"ColumnDataSource\"},\"glyph\":{\"id\":\"8085\",\"type\":\"Line\"},\"hover_glyph\":null,\"muted_glyph\":null,\"nonselection_glyph\":{\"id\":\"8086\",\"type\":\"Line\"},\"selection_glyph\":null,\"view\":{\"id\":\"8088\",\"type\":\"CDSView\"}},\"id\":\"8087\",\"type\":\"GlyphRenderer\"},{\"attributes\":{\"overlay\":{\"id\":\"8055\",\"type\":\"BoxAnnotation\"}},\"id\":\"8034\",\"type\":\"BoxZoomTool\"},{\"attributes\":{\"callback\":null,\"data\":{\"x\":[\"1960\",\"1961\",\"1962\",\"1963\",\"1964\",\"1965\",\"1966\",\"1967\",\"1968\",\"1969\",\"1970\",\"1971\",\"1972\",\"1973\",\"1974\",\"1975\",\"1976\",\"1977\",\"1978\",\"1979\",\"1980\",\"1981\",\"1982\",\"1983\",\"1984\",\"1985\",\"1986\",\"1987\",\"1988\",\"1989\",\"1990\",\"1991\",\"1992\",\"1993\",\"1994\",\"1995\",\"1996\",\"1997\",\"1998\",\"1999\",\"2000\",\"2001\",\"2002\",\"2003\",\"2004\",\"2005\",\"2006\",\"2007\",\"2008\",\"2009\",\"2010\",\"2011\",\"2012\",\"2013\",\"2014\",\"2015\",\"2016\",\"2017\"],\"y\":[77.35363246498096,76.84064660563966,76.34919251805987,75.8911929273984,75.42392730969407,75.2455974700976,75.0631805029994,74.86460025693607,74.66965460183357,74.47948707660744,74.2883999829702,74.06985096112246,73.81021003144735,73.50148081814949,73.14517867392526,72.78077064593286,72.43033463814923,72.07257197472818,71.59162525042468,70.98739212549752,70.37390537107983,69.73538235357832,69.11523379006417,68.549880776788,67.97514579855805,67.40108835439656,66.83263598790077,66.2699204282547,65.70792376395148,65.14572411519175,64.58115696120876,64.00938831679981,63.47568887216426,62.90371180406295,62.32979564017021,61.731735700190455,61.15980763653538,60.58546239748637,60.00711357933131,59.428106219917154,58.83934865686248,58.1922959373342,57.492147507303955,56.791072578711145,56.08420239450577,55.373297896508575,54.67280454992341,53.977539651904614,53.28007273722423,52.58524307181396,51.89203527626144,51.22700828217377,50.57300177227712,49.92250999168939,49.27308811920352,48.62727125106838,47.983660157571435,47.34467173180428]},\"selected\":{\"id\":\"8098\",\"type\":\"Selection\"},\"selection_policy\":{\"id\":\"8099\",\"type\":\"UnionRenderers\"}},\"id\":\"8063\",\"type\":\"ColumnDataSource\"},{\"attributes\":{\"source\":{\"id\":\"8084\",\"type\":\"ColumnDataSource\"}},\"id\":\"8088\",\"type\":\"CDSView\"},{\"attributes\":{},\"id\":\"8035\",\"type\":\"SaveTool\"},{\"attributes\":{\"line_color\":\"#5430F1\",\"line_width\":2,\"x\":{\"field\":\"x\"},\"y\":{\"field\":\"y\"}},\"id\":\"8064\",\"type\":\"Line\"},{\"attributes\":{\"fill_alpha\":{\"value\":0.1},\"fill_color\":{\"value\":\"#1f77b4\"},\"line_alpha\":{\"value\":0.1},\"line_color\":{\"value\":\"#1f77b4\"},\"line_width\":{\"value\":3},\"x\":{\"field\":\"x\"},\"y\":{\"field\":\"y\"}},\"id\":\"8081\",\"type\":\"Circle\"},{\"attributes\":{},\"id\":\"8036\",\"type\":\"ResetTool\"},{\"attributes\":{\"line_alpha\":0.1,\"line_color\":\"#1f77b4\",\"line_width\":2,\"x\":{\"field\":\"x\"},\"y\":{\"field\":\"y\"}},\"id\":\"8065\",\"type\":\"Line\"},{\"attributes\":{},\"id\":\"8098\",\"type\":\"Selection\"},{\"attributes\":{\"text\":\"Rural population (% of total population) weighted against Population, total\"},\"id\":\"8012\",\"type\":\"Title\"},{\"attributes\":{\"line_color\":\"#FA1857\",\"line_width\":2,\"x\":{\"field\":\"x\"},\"y\":{\"field\":\"y\"}},\"id\":\"8046\",\"type\":\"Line\"},{\"attributes\":{},\"id\":\"8037\",\"type\":\"HelpTool\"},{\"attributes\":{\"data_source\":{\"id\":\"8063\",\"type\":\"ColumnDataSource\"},\"glyph\":{\"id\":\"8064\",\"type\":\"Line\"},\"hover_glyph\":null,\"muted_glyph\":null,\"nonselection_glyph\":{\"id\":\"8065\",\"type\":\"Line\"},\"selection_glyph\":null,\"view\":{\"id\":\"8067\",\"type\":\"CDSView\"}},\"id\":\"8066\",\"type\":\"GlyphRenderer\"},{\"attributes\":{},\"id\":\"8099\",\"type\":\"UnionRenderers\"},{\"attributes\":{\"active_drag\":\"auto\",\"active_inspect\":\"auto\",\"active_multi\":null,\"active_scroll\":\"auto\",\"active_tap\":\"auto\",\"tools\":[{\"id\":\"8032\",\"type\":\"PanTool\"},{\"id\":\"8033\",\"type\":\"WheelZoomTool\"},{\"id\":\"8034\",\"type\":\"BoxZoomTool\"},{\"id\":\"8035\",\"type\":\"SaveTool\"},{\"id\":\"8036\",\"type\":\"ResetTool\"},{\"id\":\"8037\",\"type\":\"HelpTool\"},{\"id\":\"8109\",\"type\":\"HoverTool\"}]},\"id\":\"8038\",\"type\":\"Toolbar\"},{\"attributes\":{},\"id\":\"8100\",\"type\":\"Selection\"},{\"attributes\":{\"callback\":null},\"id\":\"8016\",\"type\":\"DataRange1d\"},{\"attributes\":{\"source\":{\"id\":\"8063\",\"type\":\"ColumnDataSource\"}},\"id\":\"8067\",\"type\":\"CDSView\"},{\"attributes\":{\"line_alpha\":0.1,\"line_color\":\"#1f77b4\",\"line_width\":2,\"x\":{\"field\":\"x\"},\"y\":{\"field\":\"y\"}},\"id\":\"8047\",\"type\":\"Line\"},{\"attributes\":{},\"id\":\"8101\",\"type\":\"UnionRenderers\"},{\"attributes\":{},\"id\":\"8018\",\"type\":\"LinearScale\"},{\"attributes\":{},\"id\":\"8073\",\"type\":\"Selection\"},{\"attributes\":{\"data_source\":{\"id\":\"8045\",\"type\":\"ColumnDataSource\"},\"glyph\":{\"id\":\"8046\",\"type\":\"Line\"},\"hover_glyph\":null,\"muted_glyph\":null,\"nonselection_glyph\":{\"id\":\"8047\",\"type\":\"Line\"},\"selection_glyph\":null,\"view\":{\"id\":\"8049\",\"type\":\"CDSView\"}},\"id\":\"8048\",\"type\":\"GlyphRenderer\"},{\"attributes\":{\"label\":{\"value\":\"OECD\"},\"renderers\":[{\"id\":\"8087\",\"type\":\"GlyphRenderer\"}]},\"id\":\"8103\",\"type\":\"LegendItem\"},{\"attributes\":{},\"id\":\"8020\",\"type\":\"LinearScale\"},{\"attributes\":{},\"id\":\"8074\",\"type\":\"UnionRenderers\"},{\"attributes\":{\"source\":{\"id\":\"8045\",\"type\":\"ColumnDataSource\"}},\"id\":\"8049\",\"type\":\"CDSView\"},{\"attributes\":{\"axis_label\":\"Years\",\"formatter\":{\"id\":\"8052\",\"type\":\"BasicTickFormatter\"},\"ticker\":{\"id\":\"8023\",\"type\":\"BasicTicker\"}},\"id\":\"8022\",\"type\":\"LinearAxis\"},{\"attributes\":{},\"id\":\"8075\",\"type\":\"Selection\"},{\"attributes\":{\"callback\":null,\"data\":{\"x\":[\"1960\",\"1961\",\"1962\",\"1963\",\"1964\",\"1965\",\"1966\",\"1967\",\"1968\",\"1969\",\"1970\",\"1971\",\"1972\",\"1973\",\"1974\",\"1975\",\"1976\",\"1977\",\"1978\",\"1979\",\"1980\",\"1981\",\"1982\",\"1983\",\"1984\",\"1985\",\"1986\",\"1987\",\"1988\",\"1989\",\"1990\",\"1991\",\"1992\",\"1993\",\"1994\",\"1995\",\"1996\",\"1997\",\"1998\",\"1999\",\"2000\",\"2001\",\"2002\",\"2003\",\"2004\",\"2005\",\"2006\",\"2007\",\"2008\",\"2009\",\"2010\",\"2011\",\"2012\",\"2013\",\"2014\",\"2015\",\"2016\",\"2017\"],\"y\":[37.40046379762384,36.910426656412376,36.42127360665778,35.91623000953568,35.41312563450036,34.91259283883799,34.41460814240305,33.906853776784544,33.41175944934178,32.93243762343052,32.47371657833314,32.08243047483682,31.72254341724644,31.376230937591238,31.02541989859808,30.694684316251664,30.439520115174478,30.192444164715646,29.942960728335073,29.698117424398575,29.45271291536762,29.159197365938237,28.884819993799557,28.62443020571846,28.373177767459325,28.121981510199006,27.8604458404359,27.578860132814693,27.299974013372434,27.04188263980006,26.764398045351797,26.48515980107442,26.22585182821077,25.962163393862863,25.69276563048598,25.42543337883581,25.181488242051362,24.9477281910235,24.714988268795185,24.48183071086911,24.25025925627994,23.905203675760802,23.504398066886452,23.123776637102807,22.758727449036055,22.408569017585673,22.085829368063017,21.7813270701607,21.485590735868247,21.19879146971327,20.918753085714805,20.70228925587614,20.51614583488052,20.332611207313864,20.1493430924518,19.961337971168508,19.770869743541244,19.576668574669895]},\"selected\":{\"id\":\"8355\",\"type\":\"Selection\"},\"selection_policy\":{\"id\":\"8356\",\"type\":\"UnionRenderers\"}},\"id\":\"8104\",\"type\":\"ColumnDataSource\"},{\"attributes\":{},\"id\":\"8052\",\"type\":\"BasicTickFormatter\"},{\"attributes\":{\"fill_color\":{\"value\":\"#2CC775\"},\"line_color\":{\"value\":\"#2CC775\"},\"line_width\":{\"value\":3},\"x\":{\"field\":\"x\"},\"y\":{\"field\":\"y\"}},\"id\":\"8105\",\"type\":\"Circle\"},{\"attributes\":{},\"id\":\"8023\",\"type\":\"BasicTicker\"},{\"attributes\":{},\"id\":\"8076\",\"type\":\"UnionRenderers\"},{\"attributes\":{},\"id\":\"8054\",\"type\":\"BasicTickFormatter\"},{\"attributes\":{\"fill_alpha\":{\"value\":0.1},\"fill_color\":{\"value\":\"#1f77b4\"},\"line_alpha\":{\"value\":0.1},\"line_color\":{\"value\":\"#1f77b4\"},\"line_width\":{\"value\":3},\"x\":{\"field\":\"x\"},\"y\":{\"field\":\"y\"}},\"id\":\"8106\",\"type\":\"Circle\"},{\"attributes\":{\"ticker\":{\"id\":\"8023\",\"type\":\"BasicTicker\"}},\"id\":\"8026\",\"type\":\"Grid\"},{\"attributes\":{\"label\":{\"value\":\"Developing excluding LDCs\"},\"renderers\":[{\"id\":\"8066\",\"type\":\"GlyphRenderer\"}]},\"id\":\"8078\",\"type\":\"LegendItem\"},{\"attributes\":{\"data_source\":{\"id\":\"8104\",\"type\":\"ColumnDataSource\"},\"glyph\":{\"id\":\"8105\",\"type\":\"Circle\"},\"hover_glyph\":null,\"muted_glyph\":null,\"nonselection_glyph\":{\"id\":\"8106\",\"type\":\"Circle\"},\"selection_glyph\":null,\"view\":{\"id\":\"8108\",\"type\":\"CDSView\"}},\"id\":\"8107\",\"type\":\"GlyphRenderer\"},{\"attributes\":{\"bottom_units\":\"screen\",\"fill_alpha\":{\"value\":0.5},\"fill_color\":{\"value\":\"lightgrey\"},\"left_units\":\"screen\",\"level\":\"overlay\",\"line_alpha\":{\"value\":1.0},\"line_color\":{\"value\":\"black\"},\"line_dash\":[4,4],\"line_width\":{\"value\":2},\"render_mode\":\"css\",\"right_units\":\"screen\",\"top_units\":\"screen\"},\"id\":\"8055\",\"type\":\"BoxAnnotation\"},{\"attributes\":{\"callback\":null,\"data\":{\"x\":[\"1960\",\"1961\",\"1962\",\"1963\",\"1964\",\"1965\",\"1966\",\"1967\",\"1968\",\"1969\",\"1970\",\"1971\",\"1972\",\"1973\",\"1974\",\"1975\",\"1976\",\"1977\",\"1978\",\"1979\",\"1980\",\"1981\",\"1982\",\"1983\",\"1984\",\"1985\",\"1986\",\"1987\",\"1988\",\"1989\",\"1990\",\"1991\",\"1992\",\"1993\",\"1994\",\"1995\",\"1996\",\"1997\",\"1998\",\"1999\",\"2000\",\"2001\",\"2002\",\"2003\",\"2004\",\"2005\",\"2006\",\"2007\",\"2008\",\"2009\",\"2010\",\"2011\",\"2012\",\"2013\",\"2014\",\"2015\",\"2016\",\"2017\"],\"y\":[77.35363246498096,76.84064660563966,76.34919251805987,75.8911929273984,75.42392730969407,75.2455974700976,75.0631805029994,74.86460025693607,74.66965460183357,74.47948707660744,74.2883999829702,74.06985096112246,73.81021003144735,73.50148081814949,73.14517867392526,72.78077064593286,72.43033463814923,72.07257197472818,71.59162525042468,70.98739212549752,70.37390537107983,69.73538235357832,69.11523379006417,68.549880776788,67.97514579855805,67.40108835439656,66.83263598790077,66.2699204282547,65.70792376395148,65.14572411519175,64.58115696120876,64.00938831679981,63.47568887216426,62.90371180406295,62.32979564017021,61.731735700190455,61.15980763653538,60.58546239748637,60.00711357933131,59.428106219917154,58.83934865686248,58.1922959373342,57.492147507303955,56.791072578711145,56.08420239450577,55.373297896508575,54.67280454992341,53.977539651904614,53.28007273722423,52.58524307181396,51.89203527626144,51.22700828217377,50.57300177227712,49.92250999168939,49.27308811920352,48.62727125106838,47.983660157571435,47.34467173180428]},\"selected\":{\"id\":\"8100\",\"type\":\"Selection\"},\"selection_policy\":{\"id\":\"8101\",\"type\":\"UnionRenderers\"}},\"id\":\"8079\",\"type\":\"ColumnDataSource\"},{\"attributes\":{\"axis_label\":\"Percentage\",\"formatter\":{\"id\":\"8054\",\"type\":\"BasicTickFormatter\"},\"ticker\":{\"id\":\"8028\",\"type\":\"BasicTicker\"}},\"id\":\"8027\",\"type\":\"LinearAxis\"},{\"attributes\":{\"items\":[{\"id\":\"8057\",\"type\":\"LegendItem\"},{\"id\":\"8078\",\"type\":\"LegendItem\"},{\"id\":\"8103\",\"type\":\"LegendItem\"}],\"location\":\"bottom_left\"},\"id\":\"8056\",\"type\":\"Legend\"},{\"attributes\":{\"source\":{\"id\":\"8104\",\"type\":\"ColumnDataSource\"}},\"id\":\"8108\",\"type\":\"CDSView\"},{\"attributes\":{\"fill_color\":{\"value\":\"#5430F1\"},\"line_color\":{\"value\":\"#5430F1\"},\"line_width\":{\"value\":3},\"x\":{\"field\":\"x\"},\"y\":{\"field\":\"y\"}},\"id\":\"8080\",\"type\":\"Circle\"},{\"attributes\":{},\"id\":\"8028\",\"type\":\"BasicTicker\"},{\"attributes\":{\"label\":{\"value\":\"LDCs\"},\"renderers\":[{\"id\":\"8048\",\"type\":\"GlyphRenderer\"}]},\"id\":\"8057\",\"type\":\"LegendItem\"},{\"attributes\":{\"callback\":null},\"id\":\"8014\",\"type\":\"DataRange1d\"},{\"attributes\":{\"dimension\":1,\"ticker\":{\"id\":\"8028\",\"type\":\"BasicTicker\"}},\"id\":\"8031\",\"type\":\"Grid\"}],\"root_ids\":[\"8011\"]},\"title\":\"Bokeh Application\",\"version\":\"1.3.4\"}};\n",
       "  var render_items = [{\"docid\":\"4aa4a8f2-ad48-4d85-9f6e-7cc885893a07\",\"roots\":{\"8011\":\"8de64a16-84a7-416b-986a-57034e32be37\"}}];\n",
       "  root.Bokeh.embed.embed_items_notebook(docs_json, render_items);\n",
       "\n",
       "  }\n",
       "  if (root.Bokeh !== undefined) {\n",
       "    embed_document(root);\n",
       "  } else {\n",
       "    var attempts = 0;\n",
       "    var timer = setInterval(function(root) {\n",
       "      if (root.Bokeh !== undefined) {\n",
       "        embed_document(root);\n",
       "        clearInterval(timer);\n",
       "      }\n",
       "      attempts++;\n",
       "      if (attempts > 100) {\n",
       "        console.log(\"Bokeh: ERROR: Unable to run BokehJS code because BokehJS library is missing\");\n",
       "        clearInterval(timer);\n",
       "      }\n",
       "    }, 10, root)\n",
       "  }\n",
       "})(window);"
      ],
      "application/vnd.bokehjs_exec.v0+json": ""
     },
     "metadata": {
      "application/vnd.bokehjs_exec.v0+json": {
       "id": "8011"
      }
     },
     "output_type": "display_data"
    }
   ],
   "source": [
    "# Urban population as a percentage of total population\n",
    "result = show_weighted_average(years, 'SP.RUR.TOTL.ZS', 'SP.POP.TOTL', \n",
    "                               ['LDCs', 'Developing excluding LDCs', 'OECD'])"
   ]
  },
  {
   "cell_type": "code",
   "execution_count": 8,
   "metadata": {
    "ExecuteTime": {
     "end_time": "2019-10-23T20:54:59.427207Z",
     "start_time": "2019-10-23T20:54:57.622259Z"
    },
    "slideshow": {
     "slide_type": "slide"
    }
   },
   "outputs": [
    {
     "data": {
      "text/html": [
       "\n",
       "\n",
       "\n",
       "\n",
       "\n",
       "\n",
       "  <div class=\"bk-root\" id=\"f286dc77-f524-43f0-80f0-42f8321a2d20\" data-root-id=\"8466\"></div>\n"
      ]
     },
     "metadata": {},
     "output_type": "display_data"
    },
    {
     "data": {
      "application/javascript": [
       "(function(root) {\n",
       "  function embed_document(root) {\n",
       "    \n",
       "  var docs_json = {\"cd0c5ce9-eba0-4920-9784-15cae3a76148\":{\"roots\":{\"references\":[{\"attributes\":{\"below\":[{\"id\":\"8477\",\"type\":\"LinearAxis\"}],\"center\":[{\"id\":\"8481\",\"type\":\"Grid\"},{\"id\":\"8486\",\"type\":\"Grid\"},{\"id\":\"8511\",\"type\":\"Legend\"}],\"left\":[{\"id\":\"8482\",\"type\":\"LinearAxis\"}],\"plot_height\":400,\"plot_width\":950,\"renderers\":[{\"id\":\"8503\",\"type\":\"GlyphRenderer\"},{\"id\":\"8516\",\"type\":\"GlyphRenderer\"}],\"title\":{\"id\":\"8467\",\"type\":\"Title\"},\"toolbar\":{\"id\":\"8493\",\"type\":\"Toolbar\"},\"x_range\":{\"id\":\"8469\",\"type\":\"DataRange1d\"},\"x_scale\":{\"id\":\"8473\",\"type\":\"LinearScale\"},\"y_range\":{\"id\":\"8471\",\"type\":\"DataRange1d\"},\"y_scale\":{\"id\":\"8475\",\"type\":\"LinearScale\"}},\"id\":\"8466\",\"subtype\":\"Figure\",\"type\":\"Plot\"},{\"attributes\":{},\"id\":\"8773\",\"type\":\"UnionRenderers\"},{\"attributes\":{},\"id\":\"8490\",\"type\":\"SaveTool\"},{\"attributes\":{},\"id\":\"8774\",\"type\":\"Selection\"},{\"attributes\":{},\"id\":\"8491\",\"type\":\"ResetTool\"},{\"attributes\":{},\"id\":\"8775\",\"type\":\"UnionRenderers\"},{\"attributes\":{},\"id\":\"8492\",\"type\":\"HelpTool\"},{\"attributes\":{\"active_drag\":\"auto\",\"active_inspect\":\"auto\",\"active_multi\":null,\"active_scroll\":\"auto\",\"active_tap\":\"auto\",\"tools\":[{\"id\":\"8487\",\"type\":\"PanTool\"},{\"id\":\"8488\",\"type\":\"WheelZoomTool\"},{\"id\":\"8489\",\"type\":\"BoxZoomTool\"},{\"id\":\"8490\",\"type\":\"SaveTool\"},{\"id\":\"8491\",\"type\":\"ResetTool\"},{\"id\":\"8492\",\"type\":\"HelpTool\"},{\"id\":\"8518\",\"type\":\"HoverTool\"}]},\"id\":\"8493\",\"type\":\"Toolbar\"},{\"attributes\":{\"callback\":null},\"id\":\"8471\",\"type\":\"DataRange1d\"},{\"attributes\":{\"data_source\":{\"id\":\"8500\",\"type\":\"ColumnDataSource\"},\"glyph\":{\"id\":\"8501\",\"type\":\"Line\"},\"hover_glyph\":null,\"muted_glyph\":null,\"nonselection_glyph\":{\"id\":\"8502\",\"type\":\"Line\"},\"selection_glyph\":null,\"view\":{\"id\":\"8504\",\"type\":\"CDSView\"}},\"id\":\"8503\",\"type\":\"GlyphRenderer\"},{\"attributes\":{},\"id\":\"8473\",\"type\":\"LinearScale\"},{\"attributes\":{\"source\":{\"id\":\"8500\",\"type\":\"ColumnDataSource\"}},\"id\":\"8504\",\"type\":\"CDSView\"},{\"attributes\":{},\"id\":\"8475\",\"type\":\"LinearScale\"},{\"attributes\":{},\"id\":\"8507\",\"type\":\"BasicTickFormatter\"},{\"attributes\":{\"axis_label\":\"Years\",\"formatter\":{\"id\":\"8507\",\"type\":\"BasicTickFormatter\"},\"ticker\":{\"id\":\"8478\",\"type\":\"BasicTicker\"}},\"id\":\"8477\",\"type\":\"LinearAxis\"},{\"attributes\":{},\"id\":\"8509\",\"type\":\"BasicTickFormatter\"},{\"attributes\":{},\"id\":\"8478\",\"type\":\"BasicTicker\"},{\"attributes\":{\"line_color\":\"#FA1857\",\"line_width\":2,\"x\":{\"field\":\"x\"},\"y\":{\"field\":\"y\"}},\"id\":\"8501\",\"type\":\"Line\"},{\"attributes\":{\"text\":\"Rural population\"},\"id\":\"8467\",\"type\":\"Title\"},{\"attributes\":{\"ticker\":{\"id\":\"8478\",\"type\":\"BasicTicker\"}},\"id\":\"8481\",\"type\":\"Grid\"},{\"attributes\":{\"bottom_units\":\"screen\",\"fill_alpha\":{\"value\":0.5},\"fill_color\":{\"value\":\"lightgrey\"},\"left_units\":\"screen\",\"level\":\"overlay\",\"line_alpha\":{\"value\":1.0},\"line_color\":{\"value\":\"black\"},\"line_dash\":[4,4],\"line_width\":{\"value\":2},\"render_mode\":\"css\",\"right_units\":\"screen\",\"top_units\":\"screen\"},\"id\":\"8510\",\"type\":\"BoxAnnotation\"},{\"attributes\":{\"items\":[{\"id\":\"8512\",\"type\":\"LegendItem\"}],\"location\":\"bottom_left\"},\"id\":\"8511\",\"type\":\"Legend\"},{\"attributes\":{\"axis_label\":\"Percentage\",\"formatter\":{\"id\":\"8509\",\"type\":\"BasicTickFormatter\"},\"ticker\":{\"id\":\"8483\",\"type\":\"BasicTicker\"}},\"id\":\"8482\",\"type\":\"LinearAxis\"},{\"attributes\":{\"label\":{\"value\":\"LDCs\"},\"renderers\":[{\"id\":\"8503\",\"type\":\"GlyphRenderer\"}]},\"id\":\"8512\",\"type\":\"LegendItem\"},{\"attributes\":{},\"id\":\"8483\",\"type\":\"BasicTicker\"},{\"attributes\":{\"callback\":null,\"data\":{\"x\":[\"1960\",\"1961\",\"1962\",\"1963\",\"1964\",\"1965\",\"1966\",\"1967\",\"1968\",\"1969\",\"1970\",\"1971\",\"1972\",\"1973\",\"1974\",\"1975\",\"1976\",\"1977\",\"1978\",\"1979\",\"1980\",\"1981\",\"1982\",\"1983\",\"1984\",\"1985\",\"1986\",\"1987\",\"1988\",\"1989\",\"1990\",\"1991\",\"1992\",\"1993\",\"1994\",\"1995\",\"1996\",\"1997\",\"1998\",\"1999\",\"2000\",\"2001\",\"2002\",\"2003\",\"2004\",\"2005\",\"2006\",\"2007\",\"2008\",\"2009\",\"2010\",\"2011\",\"2012\",\"2013\",\"2014\",\"2015\",\"2016\",\"2017\"],\"y\":[217201141.0,221648032.0,226185257.0,230852048.0,235678565.0,240689826.0,245905541.0,251232801.0,256646596.0,262035089.0,267378313.0,272530645.0,277556016.0,282587860.0,287723910.0,294963433.0,300466769.0,306095035.0,311835621.0,317790214.0,323594204.0,329769115.0,336725562.0,343761255.0,350844734.0,358052669.0,365463045.0,373065564.0,380863656.0,389023941.0,397380267.0,406151517.0,415295757.0,424676447.0,434374441.0,444118896.0,453786247.0,463345981.0,472977069.0,482765911.0,492753594.0,502654567.0,512565273.0,522500780.0,532434279.0,542199358.0,551913368.0,561924852.0,571250553.0,580616500.0,590103650.0,599729467.0,607552372.0,617585217.0,627707285.0,637891695.0,648126174.0,658398338.0]},\"selected\":{\"id\":\"8774\",\"type\":\"Selection\"},\"selection_policy\":{\"id\":\"8775\",\"type\":\"UnionRenderers\"}},\"id\":\"8513\",\"type\":\"ColumnDataSource\"},{\"attributes\":{\"dimension\":1,\"ticker\":{\"id\":\"8483\",\"type\":\"BasicTicker\"}},\"id\":\"8486\",\"type\":\"Grid\"},{\"attributes\":{\"fill_color\":{\"value\":\"#FA1857\"},\"line_color\":{\"value\":\"#FA1857\"},\"line_width\":{\"value\":3},\"x\":{\"field\":\"x\"},\"y\":{\"field\":\"y\"}},\"id\":\"8514\",\"type\":\"Circle\"},{\"attributes\":{\"line_alpha\":0.1,\"line_color\":\"#1f77b4\",\"line_width\":2,\"x\":{\"field\":\"x\"},\"y\":{\"field\":\"y\"}},\"id\":\"8502\",\"type\":\"Line\"},{\"attributes\":{\"callback\":null},\"id\":\"8469\",\"type\":\"DataRange1d\"},{\"attributes\":{\"fill_alpha\":{\"value\":0.1},\"fill_color\":{\"value\":\"#1f77b4\"},\"line_alpha\":{\"value\":0.1},\"line_color\":{\"value\":\"#1f77b4\"},\"line_width\":{\"value\":3},\"x\":{\"field\":\"x\"},\"y\":{\"field\":\"y\"}},\"id\":\"8515\",\"type\":\"Circle\"},{\"attributes\":{\"callback\":null,\"data\":{\"x\":[\"1960\",\"1961\",\"1962\",\"1963\",\"1964\",\"1965\",\"1966\",\"1967\",\"1968\",\"1969\",\"1970\",\"1971\",\"1972\",\"1973\",\"1974\",\"1975\",\"1976\",\"1977\",\"1978\",\"1979\",\"1980\",\"1981\",\"1982\",\"1983\",\"1984\",\"1985\",\"1986\",\"1987\",\"1988\",\"1989\",\"1990\",\"1991\",\"1992\",\"1993\",\"1994\",\"1995\",\"1996\",\"1997\",\"1998\",\"1999\",\"2000\",\"2001\",\"2002\",\"2003\",\"2004\",\"2005\",\"2006\",\"2007\",\"2008\",\"2009\",\"2010\",\"2011\",\"2012\",\"2013\",\"2014\",\"2015\",\"2016\",\"2017\"],\"y\":[217201141.0,221648032.0,226185257.0,230852048.0,235678565.0,240689826.0,245905541.0,251232801.0,256646596.0,262035089.0,267378313.0,272530645.0,277556016.0,282587860.0,287723910.0,294963433.0,300466769.0,306095035.0,311835621.0,317790214.0,323594204.0,329769115.0,336725562.0,343761255.0,350844734.0,358052669.0,365463045.0,373065564.0,380863656.0,389023941.0,397380267.0,406151517.0,415295757.0,424676447.0,434374441.0,444118896.0,453786247.0,463345981.0,472977069.0,482765911.0,492753594.0,502654567.0,512565273.0,522500780.0,532434279.0,542199358.0,551913368.0,561924852.0,571250553.0,580616500.0,590103650.0,599729467.0,607552372.0,617585217.0,627707285.0,637891695.0,648126174.0,658398338.0]},\"selected\":{\"id\":\"8772\",\"type\":\"Selection\"},\"selection_policy\":{\"id\":\"8773\",\"type\":\"UnionRenderers\"}},\"id\":\"8500\",\"type\":\"ColumnDataSource\"},{\"attributes\":{\"data_source\":{\"id\":\"8513\",\"type\":\"ColumnDataSource\"},\"glyph\":{\"id\":\"8514\",\"type\":\"Circle\"},\"hover_glyph\":null,\"muted_glyph\":null,\"nonselection_glyph\":{\"id\":\"8515\",\"type\":\"Circle\"},\"selection_glyph\":null,\"view\":{\"id\":\"8517\",\"type\":\"CDSView\"}},\"id\":\"8516\",\"type\":\"GlyphRenderer\"},{\"attributes\":{\"callback\":null,\"tooltips\":\"        \\n        <div style=padding=5px>Year:@x</div>\\n        <div style=padding=5px>Value:@y</div>\\n        \"},\"id\":\"8518\",\"type\":\"HoverTool\"},{\"attributes\":{},\"id\":\"8487\",\"type\":\"PanTool\"},{\"attributes\":{\"source\":{\"id\":\"8513\",\"type\":\"ColumnDataSource\"}},\"id\":\"8517\",\"type\":\"CDSView\"},{\"attributes\":{},\"id\":\"8488\",\"type\":\"WheelZoomTool\"},{\"attributes\":{\"overlay\":{\"id\":\"8510\",\"type\":\"BoxAnnotation\"}},\"id\":\"8489\",\"type\":\"BoxZoomTool\"},{\"attributes\":{},\"id\":\"8772\",\"type\":\"Selection\"}],\"root_ids\":[\"8466\"]},\"title\":\"Bokeh Application\",\"version\":\"1.3.4\"}};\n",
       "  var render_items = [{\"docid\":\"cd0c5ce9-eba0-4920-9784-15cae3a76148\",\"roots\":{\"8466\":\"f286dc77-f524-43f0-80f0-42f8321a2d20\"}}];\n",
       "  root.Bokeh.embed.embed_items_notebook(docs_json, render_items);\n",
       "\n",
       "  }\n",
       "  if (root.Bokeh !== undefined) {\n",
       "    embed_document(root);\n",
       "  } else {\n",
       "    var attempts = 0;\n",
       "    var timer = setInterval(function(root) {\n",
       "      if (root.Bokeh !== undefined) {\n",
       "        embed_document(root);\n",
       "        clearInterval(timer);\n",
       "      }\n",
       "      attempts++;\n",
       "      if (attempts > 100) {\n",
       "        console.log(\"Bokeh: ERROR: Unable to run BokehJS code because BokehJS library is missing\");\n",
       "        clearInterval(timer);\n",
       "      }\n",
       "    }, 10, root)\n",
       "  }\n",
       "})(window);"
      ],
      "application/vnd.bokehjs_exec.v0+json": ""
     },
     "metadata": {
      "application/vnd.bokehjs_exec.v0+json": {
       "id": "8466"
      }
     },
     "output_type": "display_data"
    }
   ],
   "source": [
    "result = show_group_total(years, 'SP.RUR.TOTL', ['LDCs'])"
   ]
  },
  {
   "cell_type": "code",
   "execution_count": 9,
   "metadata": {
    "ExecuteTime": {
     "end_time": "2019-10-23T20:55:21.406405Z",
     "start_time": "2019-10-23T20:54:59.436836Z"
    },
    "slideshow": {
     "slide_type": "slide"
    }
   },
   "outputs": [
    {
     "data": {
      "text/html": [
       "\n",
       "\n",
       "\n",
       "\n",
       "\n",
       "\n",
       "  <div class=\"bk-root\" id=\"495413db-1651-482c-9539-26668182d4e1\" data-root-id=\"8837\"></div>\n"
      ]
     },
     "metadata": {},
     "output_type": "display_data"
    },
    {
     "data": {
      "application/javascript": [
       "(function(root) {\n",
       "  function embed_document(root) {\n",
       "    \n",
       "  var docs_json = {\"b6dc86a6-ca03-4e9e-a07c-8d42921a006f\":{\"roots\":{\"references\":[{\"attributes\":{\"below\":[{\"id\":\"8848\",\"type\":\"LinearAxis\"}],\"center\":[{\"id\":\"8852\",\"type\":\"Grid\"},{\"id\":\"8857\",\"type\":\"Grid\"},{\"id\":\"8882\",\"type\":\"Legend\"}],\"left\":[{\"id\":\"8853\",\"type\":\"LinearAxis\"}],\"plot_height\":400,\"plot_width\":950,\"renderers\":[{\"id\":\"8874\",\"type\":\"GlyphRenderer\"},{\"id\":\"8887\",\"type\":\"GlyphRenderer\"},{\"id\":\"8892\",\"type\":\"GlyphRenderer\"},{\"id\":\"8908\",\"type\":\"GlyphRenderer\"},{\"id\":\"8913\",\"type\":\"GlyphRenderer\"},{\"id\":\"8933\",\"type\":\"GlyphRenderer\"},{\"id\":\"8938\",\"type\":\"GlyphRenderer\"},{\"id\":\"8962\",\"type\":\"GlyphRenderer\"}],\"title\":{\"id\":\"8838\",\"type\":\"Title\"},\"toolbar\":{\"id\":\"8864\",\"type\":\"Toolbar\"},\"x_range\":{\"id\":\"8840\",\"type\":\"DataRange1d\"},\"x_scale\":{\"id\":\"8844\",\"type\":\"LinearScale\"},\"y_range\":{\"id\":\"8842\",\"type\":\"DataRange1d\"},\"y_scale\":{\"id\":\"8846\",\"type\":\"LinearScale\"}},\"id\":\"8837\",\"subtype\":\"Figure\",\"type\":\"Plot\"},{\"attributes\":{\"data_source\":{\"id\":\"8905\",\"type\":\"ColumnDataSource\"},\"glyph\":{\"id\":\"8906\",\"type\":\"Circle\"},\"hover_glyph\":null,\"muted_glyph\":null,\"nonselection_glyph\":{\"id\":\"8907\",\"type\":\"Circle\"},\"selection_glyph\":null,\"view\":{\"id\":\"8909\",\"type\":\"CDSView\"}},\"id\":\"8908\",\"type\":\"GlyphRenderer\"},{\"attributes\":{},\"id\":\"9243\",\"type\":\"UnionRenderers\"},{\"attributes\":{\"source\":{\"id\":\"8905\",\"type\":\"ColumnDataSource\"}},\"id\":\"8909\",\"type\":\"CDSView\"},{\"attributes\":{\"callback\":null,\"data\":{\"x\":[\"2000\",\"2001\",\"2002\",\"2003\",\"2004\",\"2005\",\"2006\",\"2007\",\"2008\",\"2009\",\"2010\",\"2011\",\"2012\",\"2013\",\"2014\",\"2015\",\"2016\",\"2017\"],\"y\":[20.653439230371426,20.415555136413452,20.200407075212425,19.99721546354425,19.792580083113325,19.58153049491419,19.42936673752946,19.266708712785178,19.10062316536645,18.940792466102835,18.78763312883592,18.68284269266012,18.553760570557017,18.4175092045611,18.28626606521173,18.163323640146963,18.042734326142373,17.93618839869138]},\"selected\":{\"id\":\"8953\",\"type\":\"Selection\"},\"selection_policy\":{\"id\":\"8954\",\"type\":\"UnionRenderers\"}},\"id\":\"8910\",\"type\":\"ColumnDataSource\"},{\"attributes\":{\"line_color\":\"#2CC775\",\"line_width\":2,\"x\":{\"field\":\"x\"},\"y\":{\"field\":\"y\"}},\"id\":\"8911\",\"type\":\"Line\"},{\"attributes\":{\"line_alpha\":0.1,\"line_color\":\"#1f77b4\",\"line_width\":2,\"x\":{\"field\":\"x\"},\"y\":{\"field\":\"y\"}},\"id\":\"8912\",\"type\":\"Line\"},{\"attributes\":{\"data_source\":{\"id\":\"8910\",\"type\":\"ColumnDataSource\"},\"glyph\":{\"id\":\"8911\",\"type\":\"Line\"},\"hover_glyph\":null,\"muted_glyph\":null,\"nonselection_glyph\":{\"id\":\"8912\",\"type\":\"Line\"},\"selection_glyph\":null,\"view\":{\"id\":\"8914\",\"type\":\"CDSView\"}},\"id\":\"8913\",\"type\":\"GlyphRenderer\"},{\"attributes\":{\"source\":{\"id\":\"8910\",\"type\":\"ColumnDataSource\"}},\"id\":\"8914\",\"type\":\"CDSView\"},{\"attributes\":{},\"id\":\"8924\",\"type\":\"Selection\"},{\"attributes\":{},\"id\":\"8925\",\"type\":\"UnionRenderers\"},{\"attributes\":{},\"id\":\"8926\",\"type\":\"Selection\"},{\"attributes\":{},\"id\":\"8927\",\"type\":\"UnionRenderers\"},{\"attributes\":{\"label\":{\"value\":\"OECD\"},\"renderers\":[{\"id\":\"8913\",\"type\":\"GlyphRenderer\"}]},\"id\":\"8929\",\"type\":\"LegendItem\"},{\"attributes\":{\"callback\":null,\"data\":{\"x\":[\"2000\",\"2001\",\"2002\",\"2003\",\"2004\",\"2005\",\"2006\",\"2007\",\"2008\",\"2009\",\"2010\",\"2011\",\"2012\",\"2013\",\"2014\",\"2015\",\"2016\",\"2017\"],\"y\":[20.653439230371426,20.415555136413452,20.200407075212425,19.99721546354425,19.792580083113325,19.58153049491419,19.42936673752946,19.266708712785178,19.10062316536645,18.940792466102835,18.78763312883592,18.68284269266012,18.553760570557017,18.4175092045611,18.28626606521173,18.163323640146963,18.042734326142373,17.93618839869138]},\"selected\":{\"id\":\"8955\",\"type\":\"Selection\"},\"selection_policy\":{\"id\":\"8956\",\"type\":\"UnionRenderers\"}},\"id\":\"8930\",\"type\":\"ColumnDataSource\"},{\"attributes\":{\"fill_color\":{\"value\":\"#2CC775\"},\"line_color\":{\"value\":\"#2CC775\"},\"line_width\":{\"value\":3},\"x\":{\"field\":\"x\"},\"y\":{\"field\":\"y\"}},\"id\":\"8931\",\"type\":\"Circle\"},{\"attributes\":{\"fill_alpha\":{\"value\":0.1},\"fill_color\":{\"value\":\"#1f77b4\"},\"line_alpha\":{\"value\":0.1},\"line_color\":{\"value\":\"#1f77b4\"},\"line_width\":{\"value\":3},\"x\":{\"field\":\"x\"},\"y\":{\"field\":\"y\"}},\"id\":\"8932\",\"type\":\"Circle\"},{\"attributes\":{\"data_source\":{\"id\":\"8930\",\"type\":\"ColumnDataSource\"},\"glyph\":{\"id\":\"8931\",\"type\":\"Circle\"},\"hover_glyph\":null,\"muted_glyph\":null,\"nonselection_glyph\":{\"id\":\"8932\",\"type\":\"Circle\"},\"selection_glyph\":null,\"view\":{\"id\":\"8934\",\"type\":\"CDSView\"}},\"id\":\"8933\",\"type\":\"GlyphRenderer\"},{\"attributes\":{\"source\":{\"id\":\"8930\",\"type\":\"ColumnDataSource\"}},\"id\":\"8934\",\"type\":\"CDSView\"},{\"attributes\":{\"callback\":null,\"data\":{\"x\":[\"2000\",\"2001\",\"2002\",\"2003\",\"2004\",\"2005\",\"2006\",\"2007\",\"2008\",\"2009\",\"2010\",\"2011\",\"2012\",\"2013\",\"2014\",\"2015\",\"2016\",\"2017\"],\"y\":[26.30800939099633,25.774296102468575,25.026248850289214,24.166506585119667,23.378611198688276,22.7564057756466,22.23850077501672,21.855123550494294,21.582316836822265,21.352857582015258,21.131736385781664,20.96685520801494,20.822031831895877,20.69432052610686,20.584341818712765,20.487134501741675,20.399401670984584,20.307288003226695]},\"selected\":{\"id\":\"9240\",\"type\":\"Selection\"},\"selection_policy\":{\"id\":\"9241\",\"type\":\"UnionRenderers\"}},\"id\":\"8935\",\"type\":\"ColumnDataSource\"},{\"attributes\":{\"line_color\":\"#ABFF3F\",\"line_width\":2,\"x\":{\"field\":\"x\"},\"y\":{\"field\":\"y\"}},\"id\":\"8936\",\"type\":\"Line\"},{\"attributes\":{\"line_alpha\":0.1,\"line_color\":\"#1f77b4\",\"line_width\":2,\"x\":{\"field\":\"x\"},\"y\":{\"field\":\"y\"}},\"id\":\"8937\",\"type\":\"Line\"},{\"attributes\":{\"data_source\":{\"id\":\"8935\",\"type\":\"ColumnDataSource\"},\"glyph\":{\"id\":\"8936\",\"type\":\"Line\"},\"hover_glyph\":null,\"muted_glyph\":null,\"nonselection_glyph\":{\"id\":\"8937\",\"type\":\"Line\"},\"selection_glyph\":null,\"view\":{\"id\":\"8939\",\"type\":\"CDSView\"}},\"id\":\"8938\",\"type\":\"GlyphRenderer\"},{\"attributes\":{\"source\":{\"id\":\"8935\",\"type\":\"ColumnDataSource\"}},\"id\":\"8939\",\"type\":\"CDSView\"},{\"attributes\":{},\"id\":\"8953\",\"type\":\"Selection\"},{\"attributes\":{},\"id\":\"8954\",\"type\":\"UnionRenderers\"},{\"attributes\":{},\"id\":\"8955\",\"type\":\"Selection\"},{\"attributes\":{\"callback\":null,\"tooltips\":\"        \\n        <div style=padding=5px>Year:@x</div>\\n        <div style=padding=5px>Value:@y</div>\\n        \"},\"id\":\"8964\",\"type\":\"HoverTool\"},{\"attributes\":{},\"id\":\"8956\",\"type\":\"UnionRenderers\"},{\"attributes\":{\"text\":\"Population ages 0-14 (% of total population) weighted against Population, total\"},\"id\":\"8838\",\"type\":\"Title\"},{\"attributes\":{\"label\":{\"value\":\"UMICs\"},\"renderers\":[{\"id\":\"8938\",\"type\":\"GlyphRenderer\"}]},\"id\":\"8958\",\"type\":\"LegendItem\"},{\"attributes\":{\"callback\":null},\"id\":\"8842\",\"type\":\"DataRange1d\"},{\"attributes\":{\"callback\":null,\"data\":{\"x\":[\"2000\",\"2001\",\"2002\",\"2003\",\"2004\",\"2005\",\"2006\",\"2007\",\"2008\",\"2009\",\"2010\",\"2011\",\"2012\",\"2013\",\"2014\",\"2015\",\"2016\",\"2017\"],\"y\":[26.30800939099633,25.774296102468575,25.026248850289214,24.166506585119667,23.378611198688276,22.7564057756466,22.23850077501672,21.855123550494294,21.582316836822265,21.352857582015258,21.131736385781664,20.96685520801494,20.822031831895877,20.69432052610686,20.584341818712765,20.487134501741675,20.399401670984584,20.307288003226695]},\"selected\":{\"id\":\"9242\",\"type\":\"Selection\"},\"selection_policy\":{\"id\":\"9243\",\"type\":\"UnionRenderers\"}},\"id\":\"8959\",\"type\":\"ColumnDataSource\"},{\"attributes\":{},\"id\":\"8844\",\"type\":\"LinearScale\"},{\"attributes\":{\"fill_color\":{\"value\":\"#ABFF3F\"},\"line_color\":{\"value\":\"#ABFF3F\"},\"line_width\":{\"value\":3},\"x\":{\"field\":\"x\"},\"y\":{\"field\":\"y\"}},\"id\":\"8960\",\"type\":\"Circle\"},{\"attributes\":{},\"id\":\"8846\",\"type\":\"LinearScale\"},{\"attributes\":{\"fill_alpha\":{\"value\":0.1},\"fill_color\":{\"value\":\"#1f77b4\"},\"line_alpha\":{\"value\":0.1},\"line_color\":{\"value\":\"#1f77b4\"},\"line_width\":{\"value\":3},\"x\":{\"field\":\"x\"},\"y\":{\"field\":\"y\"}},\"id\":\"8961\",\"type\":\"Circle\"},{\"attributes\":{\"axis_label\":\"Years\",\"formatter\":{\"id\":\"8878\",\"type\":\"BasicTickFormatter\"},\"ticker\":{\"id\":\"8849\",\"type\":\"BasicTicker\"}},\"id\":\"8848\",\"type\":\"LinearAxis\"},{\"attributes\":{\"data_source\":{\"id\":\"8959\",\"type\":\"ColumnDataSource\"},\"glyph\":{\"id\":\"8960\",\"type\":\"Circle\"},\"hover_glyph\":null,\"muted_glyph\":null,\"nonselection_glyph\":{\"id\":\"8961\",\"type\":\"Circle\"},\"selection_glyph\":null,\"view\":{\"id\":\"8963\",\"type\":\"CDSView\"}},\"id\":\"8962\",\"type\":\"GlyphRenderer\"},{\"attributes\":{},\"id\":\"8849\",\"type\":\"BasicTicker\"},{\"attributes\":{\"source\":{\"id\":\"8959\",\"type\":\"ColumnDataSource\"}},\"id\":\"8963\",\"type\":\"CDSView\"},{\"attributes\":{\"ticker\":{\"id\":\"8849\",\"type\":\"BasicTicker\"}},\"id\":\"8852\",\"type\":\"Grid\"},{\"attributes\":{},\"id\":\"9240\",\"type\":\"Selection\"},{\"attributes\":{\"axis_label\":\"Percentage\",\"formatter\":{\"id\":\"8880\",\"type\":\"BasicTickFormatter\"},\"ticker\":{\"id\":\"8854\",\"type\":\"BasicTicker\"}},\"id\":\"8853\",\"type\":\"LinearAxis\"},{\"attributes\":{},\"id\":\"9241\",\"type\":\"UnionRenderers\"},{\"attributes\":{},\"id\":\"8854\",\"type\":\"BasicTicker\"},{\"attributes\":{},\"id\":\"9242\",\"type\":\"Selection\"},{\"attributes\":{\"dimension\":1,\"ticker\":{\"id\":\"8854\",\"type\":\"BasicTicker\"}},\"id\":\"8857\",\"type\":\"Grid\"},{\"attributes\":{\"callback\":null,\"data\":{\"x\":[\"2000\",\"2001\",\"2002\",\"2003\",\"2004\",\"2005\",\"2006\",\"2007\",\"2008\",\"2009\",\"2010\",\"2011\",\"2012\",\"2013\",\"2014\",\"2015\",\"2016\",\"2017\"],\"y\":[43.05250753237409,42.92645426230383,42.78153339187954,42.623671123778905,42.4538109516677,42.26938810853834,42.15716163307373,42.02039711340489,41.86147936931502,41.68421796662147,41.49082505944,41.290660205111934,41.06737328423549,40.819736905133695,40.55543302226044,40.27763880852747,40.006149187520116,39.721083369953]},\"selected\":{\"id\":\"8899\",\"type\":\"Selection\"},\"selection_policy\":{\"id\":\"8900\",\"type\":\"UnionRenderers\"}},\"id\":\"8871\",\"type\":\"ColumnDataSource\"},{\"attributes\":{},\"id\":\"8858\",\"type\":\"PanTool\"},{\"attributes\":{},\"id\":\"8859\",\"type\":\"WheelZoomTool\"},{\"attributes\":{\"overlay\":{\"id\":\"8881\",\"type\":\"BoxAnnotation\"}},\"id\":\"8860\",\"type\":\"BoxZoomTool\"},{\"attributes\":{},\"id\":\"8861\",\"type\":\"SaveTool\"},{\"attributes\":{},\"id\":\"8862\",\"type\":\"ResetTool\"},{\"attributes\":{},\"id\":\"8863\",\"type\":\"HelpTool\"},{\"attributes\":{\"active_drag\":\"auto\",\"active_inspect\":\"auto\",\"active_multi\":null,\"active_scroll\":\"auto\",\"active_tap\":\"auto\",\"tools\":[{\"id\":\"8858\",\"type\":\"PanTool\"},{\"id\":\"8859\",\"type\":\"WheelZoomTool\"},{\"id\":\"8860\",\"type\":\"BoxZoomTool\"},{\"id\":\"8861\",\"type\":\"SaveTool\"},{\"id\":\"8862\",\"type\":\"ResetTool\"},{\"id\":\"8863\",\"type\":\"HelpTool\"},{\"id\":\"8964\",\"type\":\"HoverTool\"}]},\"id\":\"8864\",\"type\":\"Toolbar\"},{\"attributes\":{\"line_alpha\":0.1,\"line_color\":\"#1f77b4\",\"line_width\":2,\"x\":{\"field\":\"x\"},\"y\":{\"field\":\"y\"}},\"id\":\"8873\",\"type\":\"Line\"},{\"attributes\":{\"data_source\":{\"id\":\"8871\",\"type\":\"ColumnDataSource\"},\"glyph\":{\"id\":\"8872\",\"type\":\"Line\"},\"hover_glyph\":null,\"muted_glyph\":null,\"nonselection_glyph\":{\"id\":\"8873\",\"type\":\"Line\"},\"selection_glyph\":null,\"view\":{\"id\":\"8875\",\"type\":\"CDSView\"}},\"id\":\"8874\",\"type\":\"GlyphRenderer\"},{\"attributes\":{\"source\":{\"id\":\"8871\",\"type\":\"ColumnDataSource\"}},\"id\":\"8875\",\"type\":\"CDSView\"},{\"attributes\":{},\"id\":\"8878\",\"type\":\"BasicTickFormatter\"},{\"attributes\":{\"callback\":null},\"id\":\"8840\",\"type\":\"DataRange1d\"},{\"attributes\":{},\"id\":\"8880\",\"type\":\"BasicTickFormatter\"},{\"attributes\":{\"bottom_units\":\"screen\",\"fill_alpha\":{\"value\":0.5},\"fill_color\":{\"value\":\"lightgrey\"},\"left_units\":\"screen\",\"level\":\"overlay\",\"line_alpha\":{\"value\":1.0},\"line_color\":{\"value\":\"black\"},\"line_dash\":[4,4],\"line_width\":{\"value\":2},\"render_mode\":\"css\",\"right_units\":\"screen\",\"top_units\":\"screen\"},\"id\":\"8881\",\"type\":\"BoxAnnotation\"},{\"attributes\":{\"line_color\":\"#FA1857\",\"line_width\":2,\"x\":{\"field\":\"x\"},\"y\":{\"field\":\"y\"}},\"id\":\"8872\",\"type\":\"Line\"},{\"attributes\":{\"items\":[{\"id\":\"8883\",\"type\":\"LegendItem\"},{\"id\":\"8904\",\"type\":\"LegendItem\"},{\"id\":\"8929\",\"type\":\"LegendItem\"},{\"id\":\"8958\",\"type\":\"LegendItem\"}],\"location\":\"bottom_left\"},\"id\":\"8882\",\"type\":\"Legend\"},{\"attributes\":{\"label\":{\"value\":\"LDCs\"},\"renderers\":[{\"id\":\"8874\",\"type\":\"GlyphRenderer\"}]},\"id\":\"8883\",\"type\":\"LegendItem\"},{\"attributes\":{\"callback\":null,\"data\":{\"x\":[\"2000\",\"2001\",\"2002\",\"2003\",\"2004\",\"2005\",\"2006\",\"2007\",\"2008\",\"2009\",\"2010\",\"2011\",\"2012\",\"2013\",\"2014\",\"2015\",\"2016\",\"2017\"],\"y\":[43.05250753237409,42.92645426230383,42.78153339187954,42.623671123778905,42.4538109516677,42.26938810853834,42.15716163307373,42.02039711340489,41.86147936931502,41.68421796662147,41.49082505944,41.290660205111934,41.06737328423549,40.819736905133695,40.55543302226044,40.27763880852747,40.006149187520116,39.721083369953]},\"selected\":{\"id\":\"8901\",\"type\":\"Selection\"},\"selection_policy\":{\"id\":\"8902\",\"type\":\"UnionRenderers\"}},\"id\":\"8884\",\"type\":\"ColumnDataSource\"},{\"attributes\":{\"fill_color\":{\"value\":\"#FA1857\"},\"line_color\":{\"value\":\"#FA1857\"},\"line_width\":{\"value\":3},\"x\":{\"field\":\"x\"},\"y\":{\"field\":\"y\"}},\"id\":\"8885\",\"type\":\"Circle\"},{\"attributes\":{\"fill_alpha\":{\"value\":0.1},\"fill_color\":{\"value\":\"#1f77b4\"},\"line_alpha\":{\"value\":0.1},\"line_color\":{\"value\":\"#1f77b4\"},\"line_width\":{\"value\":3},\"x\":{\"field\":\"x\"},\"y\":{\"field\":\"y\"}},\"id\":\"8886\",\"type\":\"Circle\"},{\"attributes\":{\"data_source\":{\"id\":\"8884\",\"type\":\"ColumnDataSource\"},\"glyph\":{\"id\":\"8885\",\"type\":\"Circle\"},\"hover_glyph\":null,\"muted_glyph\":null,\"nonselection_glyph\":{\"id\":\"8886\",\"type\":\"Circle\"},\"selection_glyph\":null,\"view\":{\"id\":\"8888\",\"type\":\"CDSView\"}},\"id\":\"8887\",\"type\":\"GlyphRenderer\"},{\"attributes\":{\"source\":{\"id\":\"8884\",\"type\":\"ColumnDataSource\"}},\"id\":\"8888\",\"type\":\"CDSView\"},{\"attributes\":{\"callback\":null,\"data\":{\"x\":[\"2000\",\"2001\",\"2002\",\"2003\",\"2004\",\"2005\",\"2006\",\"2007\",\"2008\",\"2009\",\"2010\",\"2011\",\"2012\",\"2013\",\"2014\",\"2015\",\"2016\",\"2017\"],\"y\":[31.46247449723159,31.051171911215434,30.519130398965917,29.925822930439033,29.3696380683664,28.89970990346446,28.48061580116519,28.13477676517371,27.845842847927425,27.57508608250911,27.302294757124095,27.06200424509802,26.817074946864174,26.571303888699866,26.33248478028756,26.10246731610828,25.884872437055105,25.670861481196635]},\"selected\":{\"id\":\"8924\",\"type\":\"Selection\"},\"selection_policy\":{\"id\":\"8925\",\"type\":\"UnionRenderers\"}},\"id\":\"8889\",\"type\":\"ColumnDataSource\"},{\"attributes\":{\"line_color\":\"#5430F1\",\"line_width\":2,\"x\":{\"field\":\"x\"},\"y\":{\"field\":\"y\"}},\"id\":\"8890\",\"type\":\"Line\"},{\"attributes\":{\"line_alpha\":0.1,\"line_color\":\"#1f77b4\",\"line_width\":2,\"x\":{\"field\":\"x\"},\"y\":{\"field\":\"y\"}},\"id\":\"8891\",\"type\":\"Line\"},{\"attributes\":{\"data_source\":{\"id\":\"8889\",\"type\":\"ColumnDataSource\"},\"glyph\":{\"id\":\"8890\",\"type\":\"Line\"},\"hover_glyph\":null,\"muted_glyph\":null,\"nonselection_glyph\":{\"id\":\"8891\",\"type\":\"Line\"},\"selection_glyph\":null,\"view\":{\"id\":\"8893\",\"type\":\"CDSView\"}},\"id\":\"8892\",\"type\":\"GlyphRenderer\"},{\"attributes\":{\"source\":{\"id\":\"8889\",\"type\":\"ColumnDataSource\"}},\"id\":\"8893\",\"type\":\"CDSView\"},{\"attributes\":{},\"id\":\"8899\",\"type\":\"Selection\"},{\"attributes\":{},\"id\":\"8900\",\"type\":\"UnionRenderers\"},{\"attributes\":{},\"id\":\"8901\",\"type\":\"Selection\"},{\"attributes\":{},\"id\":\"8902\",\"type\":\"UnionRenderers\"},{\"attributes\":{\"label\":{\"value\":\"Developing excluding LDCs\"},\"renderers\":[{\"id\":\"8892\",\"type\":\"GlyphRenderer\"}]},\"id\":\"8904\",\"type\":\"LegendItem\"},{\"attributes\":{\"callback\":null,\"data\":{\"x\":[\"2000\",\"2001\",\"2002\",\"2003\",\"2004\",\"2005\",\"2006\",\"2007\",\"2008\",\"2009\",\"2010\",\"2011\",\"2012\",\"2013\",\"2014\",\"2015\",\"2016\",\"2017\"],\"y\":[31.46247449723159,31.051171911215434,30.519130398965917,29.925822930439033,29.3696380683664,28.89970990346446,28.48061580116519,28.13477676517371,27.845842847927425,27.57508608250911,27.302294757124095,27.06200424509802,26.817074946864174,26.571303888699866,26.33248478028756,26.10246731610828,25.884872437055105,25.670861481196635]},\"selected\":{\"id\":\"8926\",\"type\":\"Selection\"},\"selection_policy\":{\"id\":\"8927\",\"type\":\"UnionRenderers\"}},\"id\":\"8905\",\"type\":\"ColumnDataSource\"},{\"attributes\":{\"fill_color\":{\"value\":\"#5430F1\"},\"line_color\":{\"value\":\"#5430F1\"},\"line_width\":{\"value\":3},\"x\":{\"field\":\"x\"},\"y\":{\"field\":\"y\"}},\"id\":\"8906\",\"type\":\"Circle\"},{\"attributes\":{\"fill_alpha\":{\"value\":0.1},\"fill_color\":{\"value\":\"#1f77b4\"},\"line_alpha\":{\"value\":0.1},\"line_color\":{\"value\":\"#1f77b4\"},\"line_width\":{\"value\":3},\"x\":{\"field\":\"x\"},\"y\":{\"field\":\"y\"}},\"id\":\"8907\",\"type\":\"Circle\"}],\"root_ids\":[\"8837\"]},\"title\":\"Bokeh Application\",\"version\":\"1.3.4\"}};\n",
       "  var render_items = [{\"docid\":\"b6dc86a6-ca03-4e9e-a07c-8d42921a006f\",\"roots\":{\"8837\":\"495413db-1651-482c-9539-26668182d4e1\"}}];\n",
       "  root.Bokeh.embed.embed_items_notebook(docs_json, render_items);\n",
       "\n",
       "  }\n",
       "  if (root.Bokeh !== undefined) {\n",
       "    embed_document(root);\n",
       "  } else {\n",
       "    var attempts = 0;\n",
       "    var timer = setInterval(function(root) {\n",
       "      if (root.Bokeh !== undefined) {\n",
       "        embed_document(root);\n",
       "        clearInterval(timer);\n",
       "      }\n",
       "      attempts++;\n",
       "      if (attempts > 100) {\n",
       "        console.log(\"Bokeh: ERROR: Unable to run BokehJS code because BokehJS library is missing\");\n",
       "        clearInterval(timer);\n",
       "      }\n",
       "    }, 10, root)\n",
       "  }\n",
       "})(window);"
      ],
      "application/vnd.bokehjs_exec.v0+json": ""
     },
     "metadata": {
      "application/vnd.bokehjs_exec.v0+json": {
       "id": "8837"
      }
     },
     "output_type": "display_data"
    }
   ],
   "source": [
    "years = list(map(str, list(range(2000,2018))))\n",
    "# Population 0-14\n",
    "result = show_weighted_average(years, 'SP.POP.0014.TO.ZS', 'SP.POP.TOTL', \n",
    "                               ['LDCs', 'Developing excluding LDCs', 'OECD', 'UMICs'])"
   ]
  },
  {
   "cell_type": "code",
   "execution_count": 10,
   "metadata": {
    "ExecuteTime": {
     "end_time": "2019-10-23T20:55:23.849714Z",
     "start_time": "2019-10-23T20:55:21.408487Z"
    },
    "slideshow": {
     "slide_type": "slide"
    }
   },
   "outputs": [
    {
     "data": {
      "text/html": [
       "\n",
       "\n",
       "\n",
       "\n",
       "\n",
       "\n",
       "  <div class=\"bk-root\" id=\"983e8fd2-4fac-479f-9544-3ca7a090e59b\" data-root-id=\"9377\"></div>\n"
      ]
     },
     "metadata": {},
     "output_type": "display_data"
    },
    {
     "data": {
      "application/javascript": [
       "(function(root) {\n",
       "  function embed_document(root) {\n",
       "    \n",
       "  var docs_json = {\"fe7bd961-79dc-4ff2-9f9a-81b4bf959b50\":{\"roots\":{\"references\":[{\"attributes\":{\"below\":[{\"id\":\"9388\",\"type\":\"LinearAxis\"}],\"center\":[{\"id\":\"9392\",\"type\":\"Grid\"},{\"id\":\"9397\",\"type\":\"Grid\"},{\"id\":\"9422\",\"type\":\"Legend\"}],\"left\":[{\"id\":\"9393\",\"type\":\"LinearAxis\"}],\"plot_height\":400,\"plot_width\":950,\"renderers\":[{\"id\":\"9414\",\"type\":\"GlyphRenderer\"},{\"id\":\"9427\",\"type\":\"GlyphRenderer\"},{\"id\":\"9432\",\"type\":\"GlyphRenderer\"},{\"id\":\"9448\",\"type\":\"GlyphRenderer\"},{\"id\":\"9453\",\"type\":\"GlyphRenderer\"},{\"id\":\"9473\",\"type\":\"GlyphRenderer\"},{\"id\":\"9478\",\"type\":\"GlyphRenderer\"},{\"id\":\"9502\",\"type\":\"GlyphRenderer\"}],\"title\":{\"id\":\"9378\",\"type\":\"Title\"},\"toolbar\":{\"id\":\"9404\",\"type\":\"Toolbar\"},\"x_range\":{\"id\":\"9380\",\"type\":\"DataRange1d\"},\"x_scale\":{\"id\":\"9384\",\"type\":\"LinearScale\"},\"y_range\":{\"id\":\"9382\",\"type\":\"DataRange1d\"},\"y_scale\":{\"id\":\"9386\",\"type\":\"LinearScale\"}},\"id\":\"9377\",\"subtype\":\"Figure\",\"type\":\"Plot\"},{\"attributes\":{\"line_color\":\"#FA1857\",\"line_width\":2,\"x\":{\"field\":\"x\"},\"y\":{\"field\":\"y\"}},\"id\":\"9412\",\"type\":\"Line\"},{\"attributes\":{},\"id\":\"9394\",\"type\":\"BasicTicker\"},{\"attributes\":{\"dimension\":1,\"ticker\":{\"id\":\"9394\",\"type\":\"BasicTicker\"}},\"id\":\"9397\",\"type\":\"Grid\"},{\"attributes\":{},\"id\":\"9386\",\"type\":\"LinearScale\"},{\"attributes\":{\"axis_label\":\"Years\",\"formatter\":{\"id\":\"9418\",\"type\":\"BasicTickFormatter\"},\"ticker\":{\"id\":\"9389\",\"type\":\"BasicTicker\"}},\"id\":\"9388\",\"type\":\"LinearAxis\"},{\"attributes\":{},\"id\":\"9384\",\"type\":\"LinearScale\"},{\"attributes\":{\"axis_label\":\"Percentage\",\"formatter\":{\"id\":\"9420\",\"type\":\"BasicTickFormatter\"},\"ticker\":{\"id\":\"9394\",\"type\":\"BasicTicker\"}},\"id\":\"9393\",\"type\":\"LinearAxis\"},{\"attributes\":{\"ticker\":{\"id\":\"9389\",\"type\":\"BasicTicker\"}},\"id\":\"9392\",\"type\":\"Grid\"},{\"attributes\":{},\"id\":\"9389\",\"type\":\"BasicTicker\"},{\"attributes\":{\"callback\":null},\"id\":\"9382\",\"type\":\"DataRange1d\"},{\"attributes\":{},\"id\":\"9804\",\"type\":\"Selection\"},{\"attributes\":{\"callback\":null},\"id\":\"9380\",\"type\":\"DataRange1d\"},{\"attributes\":{\"text\":\"Projected population, thousands\"},\"id\":\"9378\",\"type\":\"Title\"},{\"attributes\":{\"callback\":null,\"tooltips\":\"        \\n        <div style=padding=5px>Year:@x</div>\\n        <div style=padding=5px>Value:@y</div>\\n        \"},\"id\":\"9504\",\"type\":\"HoverTool\"},{\"attributes\":{\"data_source\":{\"id\":\"9429\",\"type\":\"ColumnDataSource\"},\"glyph\":{\"id\":\"9430\",\"type\":\"Line\"},\"hover_glyph\":null,\"muted_glyph\":null,\"nonselection_glyph\":{\"id\":\"9431\",\"type\":\"Line\"},\"selection_glyph\":null,\"view\":{\"id\":\"9433\",\"type\":\"CDSView\"}},\"id\":\"9432\",\"type\":\"GlyphRenderer\"},{\"attributes\":{\"data_source\":{\"id\":\"9445\",\"type\":\"ColumnDataSource\"},\"glyph\":{\"id\":\"9446\",\"type\":\"Circle\"},\"hover_glyph\":null,\"muted_glyph\":null,\"nonselection_glyph\":{\"id\":\"9447\",\"type\":\"Circle\"},\"selection_glyph\":null,\"view\":{\"id\":\"9449\",\"type\":\"CDSView\"}},\"id\":\"9448\",\"type\":\"GlyphRenderer\"},{\"attributes\":{},\"id\":\"9805\",\"type\":\"UnionRenderers\"},{\"attributes\":{\"line_alpha\":0.1,\"line_color\":\"#1f77b4\",\"line_width\":2,\"x\":{\"field\":\"x\"},\"y\":{\"field\":\"y\"}},\"id\":\"9431\",\"type\":\"Line\"},{\"attributes\":{\"source\":{\"id\":\"9445\",\"type\":\"ColumnDataSource\"}},\"id\":\"9449\",\"type\":\"CDSView\"},{\"attributes\":{\"line_color\":\"#5430F1\",\"line_width\":2,\"x\":{\"field\":\"x\"},\"y\":{\"field\":\"y\"}},\"id\":\"9430\",\"type\":\"Line\"},{\"attributes\":{\"callback\":null,\"data\":{\"x\":[2020,2025,2030,2035,2040,2045,2050,2055,2060,2065,2070,2075,2080,2085,2090,2095,2100],\"y\":[912306.7240000002,924199.783,933262.5580000001,940475.6150000001,944668.037,945929.6540000001,944372.924,940125.755,933542.0040000002,925493.626,916927.8789999998,908413.484,900272.8359999999,892459.4159999999,884981.163,877749.1270000001,870615.133]},\"selected\":{\"id\":\"9493\",\"type\":\"Selection\"},\"selection_policy\":{\"id\":\"9494\",\"type\":\"UnionRenderers\"}},\"id\":\"9450\",\"type\":\"ColumnDataSource\"},{\"attributes\":{\"callback\":null,\"data\":{\"x\":[2020,2025,2030,2035,2040,2045,2050,2055,2060,2065,2070,2075,2080,2085,2090,2095,2100],\"y\":[4993103.786000001,5218738.716999997,5421085.645999999,5600144.947999999,5752488.066,5878012.936,5976889.714000002,6050353.927999998,6099916.011999999,6128642.660999999,6138746.354000001,6132326.774999998,6111578.452999997,6078805.713000003,6037048.572999997,5987636.3539999975,5930332.014000001]},\"selected\":{\"id\":\"9464\",\"type\":\"Selection\"},\"selection_policy\":{\"id\":\"9465\",\"type\":\"UnionRenderers\"}},\"id\":\"9429\",\"type\":\"ColumnDataSource\"},{\"attributes\":{\"line_color\":\"#2CC775\",\"line_width\":2,\"x\":{\"field\":\"x\"},\"y\":{\"field\":\"y\"}},\"id\":\"9451\",\"type\":\"Line\"},{\"attributes\":{\"source\":{\"id\":\"9424\",\"type\":\"ColumnDataSource\"}},\"id\":\"9428\",\"type\":\"CDSView\"},{\"attributes\":{\"line_alpha\":0.1,\"line_color\":\"#1f77b4\",\"line_width\":2,\"x\":{\"field\":\"x\"},\"y\":{\"field\":\"y\"}},\"id\":\"9452\",\"type\":\"Line\"},{\"attributes\":{\"data_source\":{\"id\":\"9424\",\"type\":\"ColumnDataSource\"},\"glyph\":{\"id\":\"9425\",\"type\":\"Circle\"},\"hover_glyph\":null,\"muted_glyph\":null,\"nonselection_glyph\":{\"id\":\"9426\",\"type\":\"Circle\"},\"selection_glyph\":null,\"view\":{\"id\":\"9428\",\"type\":\"CDSView\"}},\"id\":\"9427\",\"type\":\"GlyphRenderer\"},{\"attributes\":{\"data_source\":{\"id\":\"9450\",\"type\":\"ColumnDataSource\"},\"glyph\":{\"id\":\"9451\",\"type\":\"Line\"},\"hover_glyph\":null,\"muted_glyph\":null,\"nonselection_glyph\":{\"id\":\"9452\",\"type\":\"Line\"},\"selection_glyph\":null,\"view\":{\"id\":\"9454\",\"type\":\"CDSView\"}},\"id\":\"9453\",\"type\":\"GlyphRenderer\"},{\"attributes\":{\"fill_alpha\":{\"value\":0.1},\"fill_color\":{\"value\":\"#1f77b4\"},\"line_alpha\":{\"value\":0.1},\"line_color\":{\"value\":\"#1f77b4\"},\"line_width\":{\"value\":3},\"x\":{\"field\":\"x\"},\"y\":{\"field\":\"y\"}},\"id\":\"9426\",\"type\":\"Circle\"},{\"attributes\":{\"source\":{\"id\":\"9450\",\"type\":\"ColumnDataSource\"}},\"id\":\"9454\",\"type\":\"CDSView\"},{\"attributes\":{\"fill_color\":{\"value\":\"#FA1857\"},\"line_color\":{\"value\":\"#FA1857\"},\"line_width\":{\"value\":3},\"x\":{\"field\":\"x\"},\"y\":{\"field\":\"y\"}},\"id\":\"9425\",\"type\":\"Circle\"},{\"attributes\":{},\"id\":\"9464\",\"type\":\"Selection\"},{\"attributes\":{\"callback\":null,\"data\":{\"x\":[2020,2025,2030,2035,2040,2045,2050,2055,2060,2065,2070,2075,2080,2085,2090,2095,2100],\"y\":[1057438.163,1182376.585,1313758.882,1450358.0589999997,1590723.5140000007,1733412.6489999997,1876797.781,2019337.702000001,2159628.188,2296253.5399999996,2427682.2370000007,2552545.8049999997,2669675.032999999,2778054.0900000003,2877186.7590000005,2966790.3559999997,3046778.7830000003]},\"selected\":{\"id\":\"9441\",\"type\":\"Selection\"},\"selection_policy\":{\"id\":\"9442\",\"type\":\"UnionRenderers\"}},\"id\":\"9424\",\"type\":\"ColumnDataSource\"},{\"attributes\":{},\"id\":\"9465\",\"type\":\"UnionRenderers\"},{\"attributes\":{\"label\":{\"value\":\"LDCs\"},\"renderers\":[{\"id\":\"9414\",\"type\":\"GlyphRenderer\"}]},\"id\":\"9423\",\"type\":\"LegendItem\"},{\"attributes\":{},\"id\":\"9466\",\"type\":\"Selection\"},{\"attributes\":{\"items\":[{\"id\":\"9423\",\"type\":\"LegendItem\"},{\"id\":\"9444\",\"type\":\"LegendItem\"},{\"id\":\"9469\",\"type\":\"LegendItem\"},{\"id\":\"9498\",\"type\":\"LegendItem\"}],\"location\":\"bottom_left\"},\"id\":\"9422\",\"type\":\"Legend\"},{\"attributes\":{},\"id\":\"9467\",\"type\":\"UnionRenderers\"},{\"attributes\":{\"bottom_units\":\"screen\",\"fill_alpha\":{\"value\":0.5},\"fill_color\":{\"value\":\"lightgrey\"},\"left_units\":\"screen\",\"level\":\"overlay\",\"line_alpha\":{\"value\":1.0},\"line_color\":{\"value\":\"black\"},\"line_dash\":[4,4],\"line_width\":{\"value\":2},\"render_mode\":\"css\",\"right_units\":\"screen\",\"top_units\":\"screen\"},\"id\":\"9421\",\"type\":\"BoxAnnotation\"},{\"attributes\":{\"label\":{\"value\":\"OECD\"},\"renderers\":[{\"id\":\"9453\",\"type\":\"GlyphRenderer\"}]},\"id\":\"9469\",\"type\":\"LegendItem\"},{\"attributes\":{},\"id\":\"9420\",\"type\":\"BasicTickFormatter\"},{\"attributes\":{},\"id\":\"9418\",\"type\":\"BasicTickFormatter\"},{\"attributes\":{\"callback\":null,\"data\":{\"x\":[2020,2025,2030,2035,2040,2045,2050,2055,2060,2065,2070,2075,2080,2085,2090,2095,2100],\"y\":[912306.7240000002,924199.783,933262.5580000001,940475.6150000001,944668.037,945929.6540000001,944372.924,940125.755,933542.0040000002,925493.626,916927.8789999998,908413.484,900272.8359999999,892459.4159999999,884981.163,877749.1270000001,870615.133]},\"selected\":{\"id\":\"9495\",\"type\":\"Selection\"},\"selection_policy\":{\"id\":\"9496\",\"type\":\"UnionRenderers\"}},\"id\":\"9470\",\"type\":\"ColumnDataSource\"},{\"attributes\":{\"fill_color\":{\"value\":\"#2CC775\"},\"line_color\":{\"value\":\"#2CC775\"},\"line_width\":{\"value\":3},\"x\":{\"field\":\"x\"},\"y\":{\"field\":\"y\"}},\"id\":\"9471\",\"type\":\"Circle\"},{\"attributes\":{\"source\":{\"id\":\"9411\",\"type\":\"ColumnDataSource\"}},\"id\":\"9415\",\"type\":\"CDSView\"},{\"attributes\":{\"fill_alpha\":{\"value\":0.1},\"fill_color\":{\"value\":\"#1f77b4\"},\"line_alpha\":{\"value\":0.1},\"line_color\":{\"value\":\"#1f77b4\"},\"line_width\":{\"value\":3},\"x\":{\"field\":\"x\"},\"y\":{\"field\":\"y\"}},\"id\":\"9472\",\"type\":\"Circle\"},{\"attributes\":{\"data_source\":{\"id\":\"9470\",\"type\":\"ColumnDataSource\"},\"glyph\":{\"id\":\"9471\",\"type\":\"Circle\"},\"hover_glyph\":null,\"muted_glyph\":null,\"nonselection_glyph\":{\"id\":\"9472\",\"type\":\"Circle\"},\"selection_glyph\":null,\"view\":{\"id\":\"9474\",\"type\":\"CDSView\"}},\"id\":\"9473\",\"type\":\"GlyphRenderer\"},{\"attributes\":{\"active_drag\":\"auto\",\"active_inspect\":\"auto\",\"active_multi\":null,\"active_scroll\":\"auto\",\"active_tap\":\"auto\",\"tools\":[{\"id\":\"9398\",\"type\":\"PanTool\"},{\"id\":\"9399\",\"type\":\"WheelZoomTool\"},{\"id\":\"9400\",\"type\":\"BoxZoomTool\"},{\"id\":\"9401\",\"type\":\"SaveTool\"},{\"id\":\"9402\",\"type\":\"ResetTool\"},{\"id\":\"9403\",\"type\":\"HelpTool\"},{\"id\":\"9504\",\"type\":\"HoverTool\"}]},\"id\":\"9404\",\"type\":\"Toolbar\"},{\"attributes\":{\"source\":{\"id\":\"9470\",\"type\":\"ColumnDataSource\"}},\"id\":\"9474\",\"type\":\"CDSView\"},{\"attributes\":{},\"id\":\"9403\",\"type\":\"HelpTool\"},{\"attributes\":{\"callback\":null,\"data\":{\"x\":[2020,2025,2030,2035,2040,2045,2050,2055,2060,2065,2070,2075,2080,2085,2090,2095,2100],\"y\":[2553770.2610000004,2605055.2009999994,2639029.0200000005,2659103.228999999,2665549.994,2659647.6620000005,2641734.805,2612545.58,2574153.84,2529722.836,2481956.653,2432242.5949999993,2381460.154,2330911.3399999994,2281947.836,2234791.158999999,2187803.0989999995]},\"selected\":{\"id\":\"9802\",\"type\":\"Selection\"},\"selection_policy\":{\"id\":\"9803\",\"type\":\"UnionRenderers\"}},\"id\":\"9475\",\"type\":\"ColumnDataSource\"},{\"attributes\":{},\"id\":\"9402\",\"type\":\"ResetTool\"},{\"attributes\":{\"line_color\":\"#ABFF3F\",\"line_width\":2,\"x\":{\"field\":\"x\"},\"y\":{\"field\":\"y\"}},\"id\":\"9476\",\"type\":\"Line\"},{\"attributes\":{},\"id\":\"9401\",\"type\":\"SaveTool\"},{\"attributes\":{\"line_alpha\":0.1,\"line_color\":\"#1f77b4\",\"line_width\":2,\"x\":{\"field\":\"x\"},\"y\":{\"field\":\"y\"}},\"id\":\"9477\",\"type\":\"Line\"},{\"attributes\":{\"overlay\":{\"id\":\"9421\",\"type\":\"BoxAnnotation\"}},\"id\":\"9400\",\"type\":\"BoxZoomTool\"},{\"attributes\":{\"data_source\":{\"id\":\"9475\",\"type\":\"ColumnDataSource\"},\"glyph\":{\"id\":\"9476\",\"type\":\"Line\"},\"hover_glyph\":null,\"muted_glyph\":null,\"nonselection_glyph\":{\"id\":\"9477\",\"type\":\"Line\"},\"selection_glyph\":null,\"view\":{\"id\":\"9479\",\"type\":\"CDSView\"}},\"id\":\"9478\",\"type\":\"GlyphRenderer\"},{\"attributes\":{},\"id\":\"9399\",\"type\":\"WheelZoomTool\"},{\"attributes\":{\"source\":{\"id\":\"9475\",\"type\":\"ColumnDataSource\"}},\"id\":\"9479\",\"type\":\"CDSView\"},{\"attributes\":{},\"id\":\"9398\",\"type\":\"PanTool\"},{\"attributes\":{\"data_source\":{\"id\":\"9411\",\"type\":\"ColumnDataSource\"},\"glyph\":{\"id\":\"9412\",\"type\":\"Line\"},\"hover_glyph\":null,\"muted_glyph\":null,\"nonselection_glyph\":{\"id\":\"9413\",\"type\":\"Line\"},\"selection_glyph\":null,\"view\":{\"id\":\"9415\",\"type\":\"CDSView\"}},\"id\":\"9414\",\"type\":\"GlyphRenderer\"},{\"attributes\":{},\"id\":\"9493\",\"type\":\"Selection\"},{\"attributes\":{\"callback\":null,\"data\":{\"x\":[2020,2025,2030,2035,2040,2045,2050,2055,2060,2065,2070,2075,2080,2085,2090,2095,2100],\"y\":[1057438.163,1182376.585,1313758.882,1450358.0589999997,1590723.5140000007,1733412.6489999997,1876797.781,2019337.702000001,2159628.188,2296253.5399999996,2427682.2370000007,2552545.8049999997,2669675.032999999,2778054.0900000003,2877186.7590000005,2966790.3559999997,3046778.7830000003]},\"selected\":{\"id\":\"9439\",\"type\":\"Selection\"},\"selection_policy\":{\"id\":\"9440\",\"type\":\"UnionRenderers\"}},\"id\":\"9411\",\"type\":\"ColumnDataSource\"},{\"attributes\":{},\"id\":\"9494\",\"type\":\"UnionRenderers\"},{\"attributes\":{\"line_alpha\":0.1,\"line_color\":\"#1f77b4\",\"line_width\":2,\"x\":{\"field\":\"x\"},\"y\":{\"field\":\"y\"}},\"id\":\"9413\",\"type\":\"Line\"},{\"attributes\":{},\"id\":\"9495\",\"type\":\"Selection\"},{\"attributes\":{},\"id\":\"9496\",\"type\":\"UnionRenderers\"},{\"attributes\":{\"label\":{\"value\":\"UMICs\"},\"renderers\":[{\"id\":\"9478\",\"type\":\"GlyphRenderer\"}]},\"id\":\"9498\",\"type\":\"LegendItem\"},{\"attributes\":{\"callback\":null,\"data\":{\"x\":[2020,2025,2030,2035,2040,2045,2050,2055,2060,2065,2070,2075,2080,2085,2090,2095,2100],\"y\":[4993103.786000001,5218738.716999997,5421085.645999999,5600144.947999999,5752488.066,5878012.936,5976889.714000002,6050353.927999998,6099916.011999999,6128642.660999999,6138746.354000001,6132326.774999998,6111578.452999997,6078805.713000003,6037048.572999997,5987636.3539999975,5930332.014000001]},\"selected\":{\"id\":\"9466\",\"type\":\"Selection\"},\"selection_policy\":{\"id\":\"9467\",\"type\":\"UnionRenderers\"}},\"id\":\"9445\",\"type\":\"ColumnDataSource\"},{\"attributes\":{\"callback\":null,\"data\":{\"x\":[2020,2025,2030,2035,2040,2045,2050,2055,2060,2065,2070,2075,2080,2085,2090,2095,2100],\"y\":[2553770.2610000004,2605055.2009999994,2639029.0200000005,2659103.228999999,2665549.994,2659647.6620000005,2641734.805,2612545.58,2574153.84,2529722.836,2481956.653,2432242.5949999993,2381460.154,2330911.3399999994,2281947.836,2234791.158999999,2187803.0989999995]},\"selected\":{\"id\":\"9804\",\"type\":\"Selection\"},\"selection_policy\":{\"id\":\"9805\",\"type\":\"UnionRenderers\"}},\"id\":\"9499\",\"type\":\"ColumnDataSource\"},{\"attributes\":{\"fill_color\":{\"value\":\"#ABFF3F\"},\"line_color\":{\"value\":\"#ABFF3F\"},\"line_width\":{\"value\":3},\"x\":{\"field\":\"x\"},\"y\":{\"field\":\"y\"}},\"id\":\"9500\",\"type\":\"Circle\"},{\"attributes\":{\"label\":{\"value\":\"Developing excluding LDCs\"},\"renderers\":[{\"id\":\"9432\",\"type\":\"GlyphRenderer\"}]},\"id\":\"9444\",\"type\":\"LegendItem\"},{\"attributes\":{\"fill_alpha\":{\"value\":0.1},\"fill_color\":{\"value\":\"#1f77b4\"},\"line_alpha\":{\"value\":0.1},\"line_color\":{\"value\":\"#1f77b4\"},\"line_width\":{\"value\":3},\"x\":{\"field\":\"x\"},\"y\":{\"field\":\"y\"}},\"id\":\"9501\",\"type\":\"Circle\"},{\"attributes\":{},\"id\":\"9442\",\"type\":\"UnionRenderers\"},{\"attributes\":{\"data_source\":{\"id\":\"9499\",\"type\":\"ColumnDataSource\"},\"glyph\":{\"id\":\"9500\",\"type\":\"Circle\"},\"hover_glyph\":null,\"muted_glyph\":null,\"nonselection_glyph\":{\"id\":\"9501\",\"type\":\"Circle\"},\"selection_glyph\":null,\"view\":{\"id\":\"9503\",\"type\":\"CDSView\"}},\"id\":\"9502\",\"type\":\"GlyphRenderer\"},{\"attributes\":{},\"id\":\"9441\",\"type\":\"Selection\"},{\"attributes\":{\"source\":{\"id\":\"9499\",\"type\":\"ColumnDataSource\"}},\"id\":\"9503\",\"type\":\"CDSView\"},{\"attributes\":{},\"id\":\"9439\",\"type\":\"Selection\"},{\"attributes\":{\"source\":{\"id\":\"9429\",\"type\":\"ColumnDataSource\"}},\"id\":\"9433\",\"type\":\"CDSView\"},{\"attributes\":{},\"id\":\"9440\",\"type\":\"UnionRenderers\"},{\"attributes\":{},\"id\":\"9802\",\"type\":\"Selection\"},{\"attributes\":{},\"id\":\"9803\",\"type\":\"UnionRenderers\"},{\"attributes\":{\"fill_alpha\":{\"value\":0.1},\"fill_color\":{\"value\":\"#1f77b4\"},\"line_alpha\":{\"value\":0.1},\"line_color\":{\"value\":\"#1f77b4\"},\"line_width\":{\"value\":3},\"x\":{\"field\":\"x\"},\"y\":{\"field\":\"y\"}},\"id\":\"9447\",\"type\":\"Circle\"},{\"attributes\":{\"fill_color\":{\"value\":\"#5430F1\"},\"line_color\":{\"value\":\"#5430F1\"},\"line_width\":{\"value\":3},\"x\":{\"field\":\"x\"},\"y\":{\"field\":\"y\"}},\"id\":\"9446\",\"type\":\"Circle\"}],\"root_ids\":[\"9377\"]},\"title\":\"Bokeh Application\",\"version\":\"1.3.4\"}};\n",
       "  var render_items = [{\"docid\":\"fe7bd961-79dc-4ff2-9f9a-81b4bf959b50\",\"roots\":{\"9377\":\"983e8fd2-4fac-479f-9544-3ca7a090e59b\"}}];\n",
       "  root.Bokeh.embed.embed_items_notebook(docs_json, render_items);\n",
       "\n",
       "  }\n",
       "  if (root.Bokeh !== undefined) {\n",
       "    embed_document(root);\n",
       "  } else {\n",
       "    var attempts = 0;\n",
       "    var timer = setInterval(function(root) {\n",
       "      if (root.Bokeh !== undefined) {\n",
       "        embed_document(root);\n",
       "        clearInterval(timer);\n",
       "      }\n",
       "      attempts++;\n",
       "      if (attempts > 100) {\n",
       "        console.log(\"Bokeh: ERROR: Unable to run BokehJS code because BokehJS library is missing\");\n",
       "        clearInterval(timer);\n",
       "      }\n",
       "    }, 10, root)\n",
       "  }\n",
       "})(window);"
      ],
      "application/vnd.bokehjs_exec.v0+json": ""
     },
     "metadata": {
      "application/vnd.bokehjs_exec.v0+json": {
       "id": "9377"
      }
     },
     "output_type": "display_data"
    }
   ],
   "source": [
    "show(line_chart(gpp(['LDCs', 'Developing excluding LDCs', 'OECD', 'UMICs']), \"Projected population, thousands\"))"
   ]
  },
  {
   "cell_type": "code",
   "execution_count": 11,
   "metadata": {
    "ExecuteTime": {
     "end_time": "2019-10-23T20:55:25.926036Z",
     "start_time": "2019-10-23T20:55:23.853944Z"
    },
    "slideshow": {
     "slide_type": "subslide"
    }
   },
   "outputs": [
    {
     "data": {
      "text/html": [
       "\n",
       "\n",
       "\n",
       "\n",
       "\n",
       "\n",
       "  <div class=\"bk-root\" id=\"140527fb-0403-478f-b5c7-4315600c118e\" data-root-id=\"9939\"></div>\n"
      ]
     },
     "metadata": {},
     "output_type": "display_data"
    },
    {
     "data": {
      "application/javascript": [
       "(function(root) {\n",
       "  function embed_document(root) {\n",
       "    \n",
       "  var docs_json = {\"2ce08c82-7fdb-4480-b5ab-85ae023578d4\":{\"roots\":{\"references\":[{\"attributes\":{\"below\":[{\"id\":\"9950\",\"type\":\"LinearAxis\"}],\"center\":[{\"id\":\"9954\",\"type\":\"Grid\"},{\"id\":\"9959\",\"type\":\"Grid\"},{\"id\":\"9984\",\"type\":\"Legend\"}],\"left\":[{\"id\":\"9955\",\"type\":\"LinearAxis\"}],\"plot_height\":400,\"plot_width\":950,\"renderers\":[{\"id\":\"9976\",\"type\":\"GlyphRenderer\"},{\"id\":\"9989\",\"type\":\"GlyphRenderer\"},{\"id\":\"9994\",\"type\":\"GlyphRenderer\"},{\"id\":\"10010\",\"type\":\"GlyphRenderer\"},{\"id\":\"10015\",\"type\":\"GlyphRenderer\"},{\"id\":\"10035\",\"type\":\"GlyphRenderer\"}],\"title\":{\"id\":\"9940\",\"type\":\"Title\"},\"toolbar\":{\"id\":\"9966\",\"type\":\"Toolbar\"},\"x_range\":{\"id\":\"9942\",\"type\":\"DataRange1d\"},\"x_scale\":{\"id\":\"9946\",\"type\":\"LinearScale\"},\"y_range\":{\"id\":\"9944\",\"type\":\"DataRange1d\"},\"y_scale\":{\"id\":\"9948\",\"type\":\"LinearScale\"}},\"id\":\"9939\",\"subtype\":\"Figure\",\"type\":\"Plot\"},{\"attributes\":{\"items\":[{\"id\":\"9985\",\"type\":\"LegendItem\"},{\"id\":\"10006\",\"type\":\"LegendItem\"},{\"id\":\"10031\",\"type\":\"LegendItem\"}],\"location\":\"bottom_left\"},\"id\":\"9984\",\"type\":\"Legend\"},{\"attributes\":{\"fill_color\":{\"value\":\"#FA1857\"},\"line_color\":{\"value\":\"#FA1857\"},\"line_width\":{\"value\":3},\"x\":{\"field\":\"x\"},\"y\":{\"field\":\"y\"}},\"id\":\"9987\",\"type\":\"Circle\"},{\"attributes\":{},\"id\":\"9951\",\"type\":\"BasicTicker\"},{\"attributes\":{},\"id\":\"10001\",\"type\":\"Selection\"},{\"attributes\":{},\"id\":\"10356\",\"type\":\"UnionRenderers\"},{\"attributes\":{\"fill_alpha\":{\"value\":0.1},\"fill_color\":{\"value\":\"#1f77b4\"},\"line_alpha\":{\"value\":0.1},\"line_color\":{\"value\":\"#1f77b4\"},\"line_width\":{\"value\":3},\"x\":{\"field\":\"x\"},\"y\":{\"field\":\"y\"}},\"id\":\"9988\",\"type\":\"Circle\"},{\"attributes\":{\"label\":{\"value\":\"LDCs\"},\"renderers\":[{\"id\":\"9976\",\"type\":\"GlyphRenderer\"}]},\"id\":\"9985\",\"type\":\"LegendItem\"},{\"attributes\":{\"ticker\":{\"id\":\"9951\",\"type\":\"BasicTicker\"}},\"id\":\"9954\",\"type\":\"Grid\"},{\"attributes\":{},\"id\":\"9980\",\"type\":\"BasicTickFormatter\"},{\"attributes\":{\"source\":{\"id\":\"9986\",\"type\":\"ColumnDataSource\"}},\"id\":\"9990\",\"type\":\"CDSView\"},{\"attributes\":{\"source\":{\"id\":\"9991\",\"type\":\"ColumnDataSource\"}},\"id\":\"9995\",\"type\":\"CDSView\"},{\"attributes\":{\"fill_alpha\":{\"value\":0.1},\"fill_color\":{\"value\":\"#1f77b4\"},\"line_alpha\":{\"value\":0.1},\"line_color\":{\"value\":\"#1f77b4\"},\"line_width\":{\"value\":3},\"x\":{\"field\":\"x\"},\"y\":{\"field\":\"y\"}},\"id\":\"10034\",\"type\":\"Circle\"},{\"attributes\":{},\"id\":\"9960\",\"type\":\"PanTool\"},{\"attributes\":{\"label\":{\"value\":\"Developing excluding LDCs\"},\"renderers\":[{\"id\":\"9994\",\"type\":\"GlyphRenderer\"}]},\"id\":\"10006\",\"type\":\"LegendItem\"},{\"attributes\":{\"callback\":null,\"data\":{\"x\":[\"2011\",\"2012\",\"2013\",\"2014\",\"2015\",\"2016\",\"2017\"],\"y\":[86.52637049847509,90.79201280313602,89.77735203026296,93.27009066227772,99.2167206572208,99.33845058757791,90.85673268334823]},\"selected\":{\"id\":\"10026\",\"type\":\"Selection\"},\"selection_policy\":{\"id\":\"10027\",\"type\":\"UnionRenderers\"}},\"id\":\"9991\",\"type\":\"ColumnDataSource\"},{\"attributes\":{\"line_color\":\"#5430F1\",\"line_width\":2,\"x\":{\"field\":\"x\"},\"y\":{\"field\":\"y\"}},\"id\":\"9992\",\"type\":\"Line\"},{\"attributes\":{\"data_source\":{\"id\":\"9973\",\"type\":\"ColumnDataSource\"},\"glyph\":{\"id\":\"9974\",\"type\":\"Line\"},\"hover_glyph\":null,\"muted_glyph\":null,\"nonselection_glyph\":{\"id\":\"9975\",\"type\":\"Line\"},\"selection_glyph\":null,\"view\":{\"id\":\"9977\",\"type\":\"CDSView\"}},\"id\":\"9976\",\"type\":\"GlyphRenderer\"},{\"attributes\":{\"callback\":null,\"data\":{\"x\":[\"2011\",\"2012\",\"2013\",\"2014\",\"2015\",\"2016\",\"2017\"],\"y\":[86.52637049847509,90.79201280313602,89.77735203026296,93.27009066227772,99.2167206572208,99.33845058757791,90.85673268334823]},\"selected\":{\"id\":\"10028\",\"type\":\"Selection\"},\"selection_policy\":{\"id\":\"10029\",\"type\":\"UnionRenderers\"}},\"id\":\"10007\",\"type\":\"ColumnDataSource\"},{\"attributes\":{\"label\":{\"value\":\"UMICs\"},\"renderers\":[{\"id\":\"10015\",\"type\":\"GlyphRenderer\"}]},\"id\":\"10031\",\"type\":\"LegendItem\"},{\"attributes\":{},\"id\":\"9961\",\"type\":\"WheelZoomTool\"},{\"attributes\":{},\"id\":\"10003\",\"type\":\"Selection\"},{\"attributes\":{\"line_alpha\":0.1,\"line_color\":\"#1f77b4\",\"line_width\":2,\"x\":{\"field\":\"x\"},\"y\":{\"field\":\"y\"}},\"id\":\"9975\",\"type\":\"Line\"},{\"attributes\":{},\"id\":\"9956\",\"type\":\"BasicTicker\"},{\"attributes\":{\"data_source\":{\"id\":\"10032\",\"type\":\"ColumnDataSource\"},\"glyph\":{\"id\":\"10033\",\"type\":\"Circle\"},\"hover_glyph\":null,\"muted_glyph\":null,\"nonselection_glyph\":{\"id\":\"10034\",\"type\":\"Circle\"},\"selection_glyph\":null,\"view\":{\"id\":\"10036\",\"type\":\"CDSView\"}},\"id\":\"10035\",\"type\":\"GlyphRenderer\"},{\"attributes\":{},\"id\":\"10002\",\"type\":\"UnionRenderers\"},{\"attributes\":{\"callback\":null,\"data\":{\"x\":[\"2011\",\"2012\",\"2013\",\"2014\",\"2015\",\"2016\",\"2017\"],\"y\":[69.73643076577738,76.28621410347083,82.34338029433856,78.83132852098582,79.67428038697987,84.88400348022606,81.7564251787433]},\"selected\":{\"id\":\"10003\",\"type\":\"Selection\"},\"selection_policy\":{\"id\":\"10004\",\"type\":\"UnionRenderers\"}},\"id\":\"9986\",\"type\":\"ColumnDataSource\"},{\"attributes\":{\"fill_alpha\":{\"value\":0.1},\"fill_color\":{\"value\":\"#1f77b4\"},\"line_alpha\":{\"value\":0.1},\"line_color\":{\"value\":\"#1f77b4\"},\"line_width\":{\"value\":3},\"x\":{\"field\":\"x\"},\"y\":{\"field\":\"y\"}},\"id\":\"10009\",\"type\":\"Circle\"},{\"attributes\":{},\"id\":\"9963\",\"type\":\"SaveTool\"},{\"attributes\":{\"dimension\":1,\"ticker\":{\"id\":\"9956\",\"type\":\"BasicTicker\"}},\"id\":\"9959\",\"type\":\"Grid\"},{\"attributes\":{},\"id\":\"10026\",\"type\":\"Selection\"},{\"attributes\":{},\"id\":\"9964\",\"type\":\"ResetTool\"},{\"attributes\":{\"data_source\":{\"id\":\"10007\",\"type\":\"ColumnDataSource\"},\"glyph\":{\"id\":\"10008\",\"type\":\"Circle\"},\"hover_glyph\":null,\"muted_glyph\":null,\"nonselection_glyph\":{\"id\":\"10009\",\"type\":\"Circle\"},\"selection_glyph\":null,\"view\":{\"id\":\"10011\",\"type\":\"CDSView\"}},\"id\":\"10010\",\"type\":\"GlyphRenderer\"},{\"attributes\":{\"source\":{\"id\":\"9973\",\"type\":\"ColumnDataSource\"}},\"id\":\"9977\",\"type\":\"CDSView\"},{\"attributes\":{\"fill_color\":{\"value\":\"#2CC775\"},\"line_color\":{\"value\":\"#2CC775\"},\"line_width\":{\"value\":3},\"x\":{\"field\":\"x\"},\"y\":{\"field\":\"y\"}},\"id\":\"10033\",\"type\":\"Circle\"},{\"attributes\":{\"callback\":null,\"data\":{\"x\":[\"2011\",\"2012\",\"2013\",\"2014\",\"2015\",\"2016\",\"2017\"],\"y\":[98.79246433133073,98.91166421847787,98.96779030929173,99.06962254043965,99.11181905005378,99.23710774713751,99.10889426005937]},\"selected\":{\"id\":\"10355\",\"type\":\"Selection\"},\"selection_policy\":{\"id\":\"10356\",\"type\":\"UnionRenderers\"}},\"id\":\"10032\",\"type\":\"ColumnDataSource\"},{\"attributes\":{\"callback\":null,\"tooltips\":\"        \\n        <div style=padding=5px>Year:@x</div>\\n        <div style=padding=5px>Value:@y</div>\\n        \"},\"id\":\"10037\",\"type\":\"HoverTool\"},{\"attributes\":{},\"id\":\"10004\",\"type\":\"UnionRenderers\"},{\"attributes\":{\"callback\":null,\"data\":{\"x\":[\"2011\",\"2012\",\"2013\",\"2014\",\"2015\",\"2016\",\"2017\"],\"y\":[69.73643076577738,76.28621410347083,82.34338029433856,78.83132852098582,79.67428038697987,84.88400348022606,81.7564251787433]},\"selected\":{\"id\":\"10001\",\"type\":\"Selection\"},\"selection_policy\":{\"id\":\"10002\",\"type\":\"UnionRenderers\"}},\"id\":\"9973\",\"type\":\"ColumnDataSource\"},{\"attributes\":{\"active_drag\":\"auto\",\"active_inspect\":\"auto\",\"active_multi\":null,\"active_scroll\":\"auto\",\"active_tap\":\"auto\",\"tools\":[{\"id\":\"9960\",\"type\":\"PanTool\"},{\"id\":\"9961\",\"type\":\"WheelZoomTool\"},{\"id\":\"9962\",\"type\":\"BoxZoomTool\"},{\"id\":\"9963\",\"type\":\"SaveTool\"},{\"id\":\"9964\",\"type\":\"ResetTool\"},{\"id\":\"9965\",\"type\":\"HelpTool\"},{\"id\":\"10037\",\"type\":\"HoverTool\"}]},\"id\":\"9966\",\"type\":\"Toolbar\"},{\"attributes\":{\"callback\":null},\"id\":\"9944\",\"type\":\"DataRange1d\"},{\"attributes\":{\"callback\":null,\"data\":{\"x\":[\"2011\",\"2012\",\"2013\",\"2014\",\"2015\",\"2016\",\"2017\"],\"y\":[98.79246433133073,98.91166421847787,98.96779030929173,99.06962254043965,99.11181905005378,99.23710774713751,99.10889426005937]},\"selected\":{\"id\":\"10353\",\"type\":\"Selection\"},\"selection_policy\":{\"id\":\"10354\",\"type\":\"UnionRenderers\"}},\"id\":\"10012\",\"type\":\"ColumnDataSource\"},{\"attributes\":{\"line_color\":\"#2CC775\",\"line_width\":2,\"x\":{\"field\":\"x\"},\"y\":{\"field\":\"y\"}},\"id\":\"10013\",\"type\":\"Line\"},{\"attributes\":{},\"id\":\"10028\",\"type\":\"Selection\"},{\"attributes\":{\"data_source\":{\"id\":\"9986\",\"type\":\"ColumnDataSource\"},\"glyph\":{\"id\":\"9987\",\"type\":\"Circle\"},\"hover_glyph\":null,\"muted_glyph\":null,\"nonselection_glyph\":{\"id\":\"9988\",\"type\":\"Circle\"},\"selection_glyph\":null,\"view\":{\"id\":\"9990\",\"type\":\"CDSView\"}},\"id\":\"9989\",\"type\":\"GlyphRenderer\"},{\"attributes\":{\"callback\":null},\"id\":\"9942\",\"type\":\"DataRange1d\"},{\"attributes\":{},\"id\":\"9948\",\"type\":\"LinearScale\"},{\"attributes\":{\"fill_color\":{\"value\":\"#5430F1\"},\"line_color\":{\"value\":\"#5430F1\"},\"line_width\":{\"value\":3},\"x\":{\"field\":\"x\"},\"y\":{\"field\":\"y\"}},\"id\":\"10008\",\"type\":\"Circle\"},{\"attributes\":{\"overlay\":{\"id\":\"9983\",\"type\":\"BoxAnnotation\"}},\"id\":\"9962\",\"type\":\"BoxZoomTool\"},{\"attributes\":{},\"id\":\"10027\",\"type\":\"UnionRenderers\"},{\"attributes\":{\"line_alpha\":0.1,\"line_color\":\"#1f77b4\",\"line_width\":2,\"x\":{\"field\":\"x\"},\"y\":{\"field\":\"y\"}},\"id\":\"9993\",\"type\":\"Line\"},{\"attributes\":{\"data_source\":{\"id\":\"10012\",\"type\":\"ColumnDataSource\"},\"glyph\":{\"id\":\"10013\",\"type\":\"Line\"},\"hover_glyph\":null,\"muted_glyph\":null,\"nonselection_glyph\":{\"id\":\"10014\",\"type\":\"Line\"},\"selection_glyph\":null,\"view\":{\"id\":\"10016\",\"type\":\"CDSView\"}},\"id\":\"10015\",\"type\":\"GlyphRenderer\"},{\"attributes\":{\"axis_label\":\"Years\",\"formatter\":{\"id\":\"9980\",\"type\":\"BasicTickFormatter\"},\"ticker\":{\"id\":\"9951\",\"type\":\"BasicTicker\"}},\"id\":\"9950\",\"type\":\"LinearAxis\"},{\"attributes\":{},\"id\":\"10355\",\"type\":\"Selection\"},{\"attributes\":{\"line_color\":\"#FA1857\",\"line_width\":2,\"x\":{\"field\":\"x\"},\"y\":{\"field\":\"y\"}},\"id\":\"9974\",\"type\":\"Line\"},{\"attributes\":{\"axis_label\":\"Percentage\",\"formatter\":{\"id\":\"9982\",\"type\":\"BasicTickFormatter\"},\"ticker\":{\"id\":\"9956\",\"type\":\"BasicTicker\"}},\"id\":\"9955\",\"type\":\"LinearAxis\"},{\"attributes\":{\"source\":{\"id\":\"10012\",\"type\":\"ColumnDataSource\"}},\"id\":\"10016\",\"type\":\"CDSView\"},{\"attributes\":{},\"id\":\"9965\",\"type\":\"HelpTool\"},{\"attributes\":{},\"id\":\"10354\",\"type\":\"UnionRenderers\"},{\"attributes\":{},\"id\":\"9982\",\"type\":\"BasicTickFormatter\"},{\"attributes\":{\"source\":{\"id\":\"10007\",\"type\":\"ColumnDataSource\"}},\"id\":\"10011\",\"type\":\"CDSView\"},{\"attributes\":{\"data_source\":{\"id\":\"9991\",\"type\":\"ColumnDataSource\"},\"glyph\":{\"id\":\"9992\",\"type\":\"Line\"},\"hover_glyph\":null,\"muted_glyph\":null,\"nonselection_glyph\":{\"id\":\"9993\",\"type\":\"Line\"},\"selection_glyph\":null,\"view\":{\"id\":\"9995\",\"type\":\"CDSView\"}},\"id\":\"9994\",\"type\":\"GlyphRenderer\"},{\"attributes\":{\"source\":{\"id\":\"10032\",\"type\":\"ColumnDataSource\"}},\"id\":\"10036\",\"type\":\"CDSView\"},{\"attributes\":{},\"id\":\"10029\",\"type\":\"UnionRenderers\"},{\"attributes\":{},\"id\":\"10353\",\"type\":\"Selection\"},{\"attributes\":{},\"id\":\"9946\",\"type\":\"LinearScale\"},{\"attributes\":{\"text\":\"Literacy rate, youth female (% of females ages 15-24) weighted against Population, total\"},\"id\":\"9940\",\"type\":\"Title\"},{\"attributes\":{\"line_alpha\":0.1,\"line_color\":\"#1f77b4\",\"line_width\":2,\"x\":{\"field\":\"x\"},\"y\":{\"field\":\"y\"}},\"id\":\"10014\",\"type\":\"Line\"},{\"attributes\":{\"bottom_units\":\"screen\",\"fill_alpha\":{\"value\":0.5},\"fill_color\":{\"value\":\"lightgrey\"},\"left_units\":\"screen\",\"level\":\"overlay\",\"line_alpha\":{\"value\":1.0},\"line_color\":{\"value\":\"black\"},\"line_dash\":[4,4],\"line_width\":{\"value\":2},\"render_mode\":\"css\",\"right_units\":\"screen\",\"top_units\":\"screen\"},\"id\":\"9983\",\"type\":\"BoxAnnotation\"}],\"root_ids\":[\"9939\"]},\"title\":\"Bokeh Application\",\"version\":\"1.3.4\"}};\n",
       "  var render_items = [{\"docid\":\"2ce08c82-7fdb-4480-b5ab-85ae023578d4\",\"roots\":{\"9939\":\"140527fb-0403-478f-b5c7-4315600c118e\"}}];\n",
       "  root.Bokeh.embed.embed_items_notebook(docs_json, render_items);\n",
       "\n",
       "  }\n",
       "  if (root.Bokeh !== undefined) {\n",
       "    embed_document(root);\n",
       "  } else {\n",
       "    var attempts = 0;\n",
       "    var timer = setInterval(function(root) {\n",
       "      if (root.Bokeh !== undefined) {\n",
       "        embed_document(root);\n",
       "        clearInterval(timer);\n",
       "      }\n",
       "      attempts++;\n",
       "      if (attempts > 100) {\n",
       "        console.log(\"Bokeh: ERROR: Unable to run BokehJS code because BokehJS library is missing\");\n",
       "        clearInterval(timer);\n",
       "      }\n",
       "    }, 10, root)\n",
       "  }\n",
       "})(window);"
      ],
      "application/vnd.bokehjs_exec.v0+json": ""
     },
     "metadata": {
      "application/vnd.bokehjs_exec.v0+json": {
       "id": "9939"
      }
     },
     "output_type": "display_data"
    }
   ],
   "source": [
    "# Literacy rate, youth female (% of females ages 15-24)\n",
    "years = list(map(str, list(range(2011,2018))))\n",
    "result = show_weighted_average(years, 'SE.ADT.1524.LT.FE.ZS', 'SP.POP.TOTL', \n",
    "                               ['LDCs', 'Developing excluding LDCs', 'UMICs'])"
   ]
  },
  {
   "cell_type": "code",
   "execution_count": 12,
   "metadata": {
    "ExecuteTime": {
     "end_time": "2019-10-23T20:55:36.441125Z",
     "start_time": "2019-10-23T20:55:25.929931Z"
    },
    "slideshow": {
     "slide_type": "slide"
    }
   },
   "outputs": [
    {
     "data": {
      "text/html": [
       "\n",
       "\n",
       "\n",
       "\n",
       "\n",
       "\n",
       "  <div class=\"bk-root\" id=\"58bb7f00-0247-45f2-8da4-a040bb69ee7e\" data-root-id=\"10466\"></div>\n"
      ]
     },
     "metadata": {},
     "output_type": "display_data"
    },
    {
     "data": {
      "application/javascript": [
       "(function(root) {\n",
       "  function embed_document(root) {\n",
       "    \n",
       "  var docs_json = {\"5b0c459f-5e5c-4e0d-96f8-84b767ddd840\":{\"roots\":{\"references\":[{\"attributes\":{\"below\":[{\"id\":\"10477\",\"type\":\"LinearAxis\"}],\"center\":[{\"id\":\"10481\",\"type\":\"Grid\"},{\"id\":\"10486\",\"type\":\"Grid\"},{\"id\":\"10511\",\"type\":\"Legend\"}],\"left\":[{\"id\":\"10482\",\"type\":\"LinearAxis\"}],\"plot_height\":400,\"plot_width\":950,\"renderers\":[{\"id\":\"10503\",\"type\":\"GlyphRenderer\"},{\"id\":\"10516\",\"type\":\"GlyphRenderer\"},{\"id\":\"10521\",\"type\":\"GlyphRenderer\"},{\"id\":\"10537\",\"type\":\"GlyphRenderer\"},{\"id\":\"10542\",\"type\":\"GlyphRenderer\"},{\"id\":\"10562\",\"type\":\"GlyphRenderer\"}],\"title\":{\"id\":\"10467\",\"type\":\"Title\"},\"toolbar\":{\"id\":\"10493\",\"type\":\"Toolbar\"},\"x_range\":{\"id\":\"10469\",\"type\":\"DataRange1d\"},\"x_scale\":{\"id\":\"10473\",\"type\":\"LinearScale\"},\"y_range\":{\"id\":\"10471\",\"type\":\"DataRange1d\"},\"y_scale\":{\"id\":\"10475\",\"type\":\"LinearScale\"}},\"id\":\"10466\",\"subtype\":\"Figure\",\"type\":\"Plot\"},{\"attributes\":{\"dimension\":1,\"ticker\":{\"id\":\"10483\",\"type\":\"BasicTicker\"}},\"id\":\"10486\",\"type\":\"Grid\"},{\"attributes\":{\"fill_alpha\":{\"value\":0.1},\"fill_color\":{\"value\":\"#1f77b4\"},\"line_alpha\":{\"value\":0.1},\"line_color\":{\"value\":\"#1f77b4\"},\"line_width\":{\"value\":3},\"x\":{\"field\":\"x\"},\"y\":{\"field\":\"y\"}},\"id\":\"10536\",\"type\":\"Circle\"},{\"attributes\":{},\"id\":\"10898\",\"type\":\"Selection\"},{\"attributes\":{\"data_source\":{\"id\":\"10534\",\"type\":\"ColumnDataSource\"},\"glyph\":{\"id\":\"10535\",\"type\":\"Circle\"},\"hover_glyph\":null,\"muted_glyph\":null,\"nonselection_glyph\":{\"id\":\"10536\",\"type\":\"Circle\"},\"selection_glyph\":null,\"view\":{\"id\":\"10538\",\"type\":\"CDSView\"}},\"id\":\"10537\",\"type\":\"GlyphRenderer\"},{\"attributes\":{\"callback\":null,\"data\":{\"x\":[\"2000\",\"2001\",\"2002\",\"2003\",\"2004\",\"2005\",\"2006\",\"2007\",\"2008\",\"2009\",\"2010\",\"2011\",\"2012\",\"2013\",\"2014\",\"2015\",\"2016\",\"2017\"],\"y\":[7.313298252489695,8.310611901533424,9.28077115926377,10.252918388064188,11.205379345323372,12.149632874228196,13.089596716542752,14.025080502459863,14.955900981807803,15.821696108471013,16.709045789768172,17.553474451435992,18.374064944696872,19.187805301854954,19.99536707307814,20.797136473512598,21.58898092737968,22.374104786870443]},\"selected\":{\"id\":\"10530\",\"type\":\"Selection\"},\"selection_policy\":{\"id\":\"10531\",\"type\":\"UnionRenderers\"}},\"id\":\"10513\",\"type\":\"ColumnDataSource\"},{\"attributes\":{},\"id\":\"10899\",\"type\":\"UnionRenderers\"},{\"attributes\":{\"callback\":null,\"data\":{\"x\":[\"2000\",\"2001\",\"2002\",\"2003\",\"2004\",\"2005\",\"2006\",\"2007\",\"2008\",\"2009\",\"2010\",\"2011\",\"2012\",\"2013\",\"2014\",\"2015\",\"2016\",\"2017\"],\"y\":[7.313298252489695,8.310611901533424,9.28077115926377,10.252918388064188,11.205379345323372,12.149632874228196,13.089596716542752,14.025080502459863,14.955900981807803,15.821696108471013,16.709045789768172,17.553474451435992,18.374064944696872,19.187805301854954,19.99536707307814,20.797136473512598,21.58898092737968,22.374104786870443]},\"selected\":{\"id\":\"10528\",\"type\":\"Selection\"},\"selection_policy\":{\"id\":\"10529\",\"type\":\"UnionRenderers\"}},\"id\":\"10500\",\"type\":\"ColumnDataSource\"},{\"attributes\":{\"source\":{\"id\":\"10534\",\"type\":\"ColumnDataSource\"}},\"id\":\"10538\",\"type\":\"CDSView\"},{\"attributes\":{\"fill_color\":{\"value\":\"#FA1857\"},\"line_color\":{\"value\":\"#FA1857\"},\"line_width\":{\"value\":3},\"x\":{\"field\":\"x\"},\"y\":{\"field\":\"y\"}},\"id\":\"10514\",\"type\":\"Circle\"},{\"attributes\":{\"callback\":null,\"tooltips\":\"        \\n        <div style=padding=5px>Year:@x</div>\\n        <div style=padding=5px>Value:@y</div>\\n        \"},\"id\":\"10564\",\"type\":\"HoverTool\"},{\"attributes\":{},\"id\":\"10900\",\"type\":\"Selection\"},{\"attributes\":{\"callback\":null,\"data\":{\"x\":[\"2000\",\"2001\",\"2002\",\"2003\",\"2004\",\"2005\",\"2006\",\"2007\",\"2008\",\"2009\",\"2010\",\"2011\",\"2012\",\"2013\",\"2014\",\"2015\",\"2016\",\"2017\"],\"y\":[80.04575550274292,80.13536831650443,80.2749830491825,80.58814768410595,80.98591935582309,81.41241391811296,82.53376279435736,82.94328127236986,83.35812838971606,83.77383345525976,84.19453320444809,84.60616451316776,85.02010336426527,85.44818985737146,85.89167410057688,86.28661161448157,86.61428373311065,86.89175663743303]},\"selected\":{\"id\":\"10898\",\"type\":\"Selection\"},\"selection_policy\":{\"id\":\"10899\",\"type\":\"UnionRenderers\"}},\"id\":\"10539\",\"type\":\"ColumnDataSource\"},{\"attributes\":{\"fill_alpha\":{\"value\":0.1},\"fill_color\":{\"value\":\"#1f77b4\"},\"line_alpha\":{\"value\":0.1},\"line_color\":{\"value\":\"#1f77b4\"},\"line_width\":{\"value\":3},\"x\":{\"field\":\"x\"},\"y\":{\"field\":\"y\"}},\"id\":\"10515\",\"type\":\"Circle\"},{\"attributes\":{},\"id\":\"10487\",\"type\":\"PanTool\"},{\"attributes\":{},\"id\":\"10901\",\"type\":\"UnionRenderers\"},{\"attributes\":{\"line_color\":\"#2CC775\",\"line_width\":2,\"x\":{\"field\":\"x\"},\"y\":{\"field\":\"y\"}},\"id\":\"10540\",\"type\":\"Line\"},{\"attributes\":{\"data_source\":{\"id\":\"10513\",\"type\":\"ColumnDataSource\"},\"glyph\":{\"id\":\"10514\",\"type\":\"Circle\"},\"hover_glyph\":null,\"muted_glyph\":null,\"nonselection_glyph\":{\"id\":\"10515\",\"type\":\"Circle\"},\"selection_glyph\":null,\"view\":{\"id\":\"10517\",\"type\":\"CDSView\"}},\"id\":\"10516\",\"type\":\"GlyphRenderer\"},{\"attributes\":{},\"id\":\"10488\",\"type\":\"WheelZoomTool\"},{\"attributes\":{\"line_alpha\":0.1,\"line_color\":\"#1f77b4\",\"line_width\":2,\"x\":{\"field\":\"x\"},\"y\":{\"field\":\"y\"}},\"id\":\"10541\",\"type\":\"Line\"},{\"attributes\":{\"source\":{\"id\":\"10513\",\"type\":\"ColumnDataSource\"}},\"id\":\"10517\",\"type\":\"CDSView\"},{\"attributes\":{\"overlay\":{\"id\":\"10510\",\"type\":\"BoxAnnotation\"}},\"id\":\"10489\",\"type\":\"BoxZoomTool\"},{\"attributes\":{\"data_source\":{\"id\":\"10539\",\"type\":\"ColumnDataSource\"},\"glyph\":{\"id\":\"10540\",\"type\":\"Line\"},\"hover_glyph\":null,\"muted_glyph\":null,\"nonselection_glyph\":{\"id\":\"10541\",\"type\":\"Line\"},\"selection_glyph\":null,\"view\":{\"id\":\"10543\",\"type\":\"CDSView\"}},\"id\":\"10542\",\"type\":\"GlyphRenderer\"},{\"attributes\":{\"callback\":null,\"data\":{\"x\":[\"2000\",\"2001\",\"2002\",\"2003\",\"2004\",\"2005\",\"2006\",\"2007\",\"2008\",\"2009\",\"2010\",\"2011\",\"2012\",\"2013\",\"2014\",\"2015\",\"2016\",\"2017\"],\"y\":[28.95024757925739,29.209016301994986,29.79844631497895,31.18696960164219,32.69297789614253,34.30733873540626,36.01016978662808,37.93187043091685,39.94500520648879,42.03012406148348,44.17895500170897,46.379028286829,48.62938786590606,50.964846617773375,53.35002880170789,55.76782165250671,58.22878123081063,60.72069424656215]},\"selected\":{\"id\":\"10553\",\"type\":\"Selection\"},\"selection_policy\":{\"id\":\"10554\",\"type\":\"UnionRenderers\"}},\"id\":\"10518\",\"type\":\"ColumnDataSource\"},{\"attributes\":{},\"id\":\"10490\",\"type\":\"SaveTool\"},{\"attributes\":{\"callback\":null},\"id\":\"10469\",\"type\":\"DataRange1d\"},{\"attributes\":{\"source\":{\"id\":\"10539\",\"type\":\"ColumnDataSource\"}},\"id\":\"10543\",\"type\":\"CDSView\"},{\"attributes\":{\"line_color\":\"#5430F1\",\"line_width\":2,\"x\":{\"field\":\"x\"},\"y\":{\"field\":\"y\"}},\"id\":\"10519\",\"type\":\"Line\"},{\"attributes\":{},\"id\":\"10491\",\"type\":\"ResetTool\"},{\"attributes\":{},\"id\":\"10553\",\"type\":\"Selection\"},{\"attributes\":{\"text\":\"People using safely managed sanitation services (% of population) weighted against Population, total\"},\"id\":\"10467\",\"type\":\"Title\"},{\"attributes\":{\"line_alpha\":0.1,\"line_color\":\"#1f77b4\",\"line_width\":2,\"x\":{\"field\":\"x\"},\"y\":{\"field\":\"y\"}},\"id\":\"10520\",\"type\":\"Line\"},{\"attributes\":{},\"id\":\"10492\",\"type\":\"HelpTool\"},{\"attributes\":{\"line_color\":\"#FA1857\",\"line_width\":2,\"x\":{\"field\":\"x\"},\"y\":{\"field\":\"y\"}},\"id\":\"10501\",\"type\":\"Line\"},{\"attributes\":{},\"id\":\"10554\",\"type\":\"UnionRenderers\"},{\"attributes\":{\"data_source\":{\"id\":\"10518\",\"type\":\"ColumnDataSource\"},\"glyph\":{\"id\":\"10519\",\"type\":\"Line\"},\"hover_glyph\":null,\"muted_glyph\":null,\"nonselection_glyph\":{\"id\":\"10520\",\"type\":\"Line\"},\"selection_glyph\":null,\"view\":{\"id\":\"10522\",\"type\":\"CDSView\"}},\"id\":\"10521\",\"type\":\"GlyphRenderer\"},{\"attributes\":{\"active_drag\":\"auto\",\"active_inspect\":\"auto\",\"active_multi\":null,\"active_scroll\":\"auto\",\"active_tap\":\"auto\",\"tools\":[{\"id\":\"10487\",\"type\":\"PanTool\"},{\"id\":\"10488\",\"type\":\"WheelZoomTool\"},{\"id\":\"10489\",\"type\":\"BoxZoomTool\"},{\"id\":\"10490\",\"type\":\"SaveTool\"},{\"id\":\"10491\",\"type\":\"ResetTool\"},{\"id\":\"10492\",\"type\":\"HelpTool\"},{\"id\":\"10564\",\"type\":\"HoverTool\"}]},\"id\":\"10493\",\"type\":\"Toolbar\"},{\"attributes\":{\"callback\":null},\"id\":\"10471\",\"type\":\"DataRange1d\"},{\"attributes\":{\"line_alpha\":0.1,\"line_color\":\"#1f77b4\",\"line_width\":2,\"x\":{\"field\":\"x\"},\"y\":{\"field\":\"y\"}},\"id\":\"10502\",\"type\":\"Line\"},{\"attributes\":{},\"id\":\"10555\",\"type\":\"Selection\"},{\"attributes\":{\"source\":{\"id\":\"10518\",\"type\":\"ColumnDataSource\"}},\"id\":\"10522\",\"type\":\"CDSView\"},{\"attributes\":{},\"id\":\"10473\",\"type\":\"LinearScale\"},{\"attributes\":{},\"id\":\"10556\",\"type\":\"UnionRenderers\"},{\"attributes\":{},\"id\":\"10528\",\"type\":\"Selection\"},{\"attributes\":{\"data_source\":{\"id\":\"10500\",\"type\":\"ColumnDataSource\"},\"glyph\":{\"id\":\"10501\",\"type\":\"Line\"},\"hover_glyph\":null,\"muted_glyph\":null,\"nonselection_glyph\":{\"id\":\"10502\",\"type\":\"Line\"},\"selection_glyph\":null,\"view\":{\"id\":\"10504\",\"type\":\"CDSView\"}},\"id\":\"10503\",\"type\":\"GlyphRenderer\"},{\"attributes\":{\"fill_color\":{\"value\":\"#5430F1\"},\"line_color\":{\"value\":\"#5430F1\"},\"line_width\":{\"value\":3},\"x\":{\"field\":\"x\"},\"y\":{\"field\":\"y\"}},\"id\":\"10535\",\"type\":\"Circle\"},{\"attributes\":{},\"id\":\"10475\",\"type\":\"LinearScale\"},{\"attributes\":{\"source\":{\"id\":\"10500\",\"type\":\"ColumnDataSource\"}},\"id\":\"10504\",\"type\":\"CDSView\"},{\"attributes\":{\"label\":{\"value\":\"OECD\"},\"renderers\":[{\"id\":\"10542\",\"type\":\"GlyphRenderer\"}]},\"id\":\"10558\",\"type\":\"LegendItem\"},{\"attributes\":{},\"id\":\"10529\",\"type\":\"UnionRenderers\"},{\"attributes\":{\"callback\":null,\"data\":{\"x\":[\"2000\",\"2001\",\"2002\",\"2003\",\"2004\",\"2005\",\"2006\",\"2007\",\"2008\",\"2009\",\"2010\",\"2011\",\"2012\",\"2013\",\"2014\",\"2015\",\"2016\",\"2017\"],\"y\":[80.04575550274292,80.13536831650443,80.2749830491825,80.58814768410595,80.98591935582309,81.41241391811296,82.53376279435736,82.94328127236986,83.35812838971606,83.77383345525976,84.19453320444809,84.60616451316776,85.02010336426527,85.44818985737146,85.89167410057688,86.28661161448157,86.61428373311065,86.89175663743303]},\"selected\":{\"id\":\"10900\",\"type\":\"Selection\"},\"selection_policy\":{\"id\":\"10901\",\"type\":\"UnionRenderers\"}},\"id\":\"10559\",\"type\":\"ColumnDataSource\"},{\"attributes\":{\"axis_label\":\"Years\",\"formatter\":{\"id\":\"10507\",\"type\":\"BasicTickFormatter\"},\"ticker\":{\"id\":\"10478\",\"type\":\"BasicTicker\"}},\"id\":\"10477\",\"type\":\"LinearAxis\"},{\"attributes\":{},\"id\":\"10530\",\"type\":\"Selection\"},{\"attributes\":{},\"id\":\"10507\",\"type\":\"BasicTickFormatter\"},{\"attributes\":{},\"id\":\"10478\",\"type\":\"BasicTicker\"},{\"attributes\":{\"fill_color\":{\"value\":\"#2CC775\"},\"line_color\":{\"value\":\"#2CC775\"},\"line_width\":{\"value\":3},\"x\":{\"field\":\"x\"},\"y\":{\"field\":\"y\"}},\"id\":\"10560\",\"type\":\"Circle\"},{\"attributes\":{},\"id\":\"10531\",\"type\":\"UnionRenderers\"},{\"attributes\":{},\"id\":\"10509\",\"type\":\"BasicTickFormatter\"},{\"attributes\":{\"ticker\":{\"id\":\"10478\",\"type\":\"BasicTicker\"}},\"id\":\"10481\",\"type\":\"Grid\"},{\"attributes\":{\"fill_alpha\":{\"value\":0.1},\"fill_color\":{\"value\":\"#1f77b4\"},\"line_alpha\":{\"value\":0.1},\"line_color\":{\"value\":\"#1f77b4\"},\"line_width\":{\"value\":3},\"x\":{\"field\":\"x\"},\"y\":{\"field\":\"y\"}},\"id\":\"10561\",\"type\":\"Circle\"},{\"attributes\":{\"label\":{\"value\":\"Developing excluding LDCs\"},\"renderers\":[{\"id\":\"10521\",\"type\":\"GlyphRenderer\"}]},\"id\":\"10533\",\"type\":\"LegendItem\"},{\"attributes\":{\"bottom_units\":\"screen\",\"fill_alpha\":{\"value\":0.5},\"fill_color\":{\"value\":\"lightgrey\"},\"left_units\":\"screen\",\"level\":\"overlay\",\"line_alpha\":{\"value\":1.0},\"line_color\":{\"value\":\"black\"},\"line_dash\":[4,4],\"line_width\":{\"value\":2},\"render_mode\":\"css\",\"right_units\":\"screen\",\"top_units\":\"screen\"},\"id\":\"10510\",\"type\":\"BoxAnnotation\"},{\"attributes\":{\"data_source\":{\"id\":\"10559\",\"type\":\"ColumnDataSource\"},\"glyph\":{\"id\":\"10560\",\"type\":\"Circle\"},\"hover_glyph\":null,\"muted_glyph\":null,\"nonselection_glyph\":{\"id\":\"10561\",\"type\":\"Circle\"},\"selection_glyph\":null,\"view\":{\"id\":\"10563\",\"type\":\"CDSView\"}},\"id\":\"10562\",\"type\":\"GlyphRenderer\"},{\"attributes\":{\"axis_label\":\"Percentage\",\"formatter\":{\"id\":\"10509\",\"type\":\"BasicTickFormatter\"},\"ticker\":{\"id\":\"10483\",\"type\":\"BasicTicker\"}},\"id\":\"10482\",\"type\":\"LinearAxis\"},{\"attributes\":{\"callback\":null,\"data\":{\"x\":[\"2000\",\"2001\",\"2002\",\"2003\",\"2004\",\"2005\",\"2006\",\"2007\",\"2008\",\"2009\",\"2010\",\"2011\",\"2012\",\"2013\",\"2014\",\"2015\",\"2016\",\"2017\"],\"y\":[28.95024757925739,29.209016301994986,29.79844631497895,31.18696960164219,32.69297789614253,34.30733873540626,36.01016978662808,37.93187043091685,39.94500520648879,42.03012406148348,44.17895500170897,46.379028286829,48.62938786590606,50.964846617773375,53.35002880170789,55.76782165250671,58.22878123081063,60.72069424656215]},\"selected\":{\"id\":\"10555\",\"type\":\"Selection\"},\"selection_policy\":{\"id\":\"10556\",\"type\":\"UnionRenderers\"}},\"id\":\"10534\",\"type\":\"ColumnDataSource\"},{\"attributes\":{\"items\":[{\"id\":\"10512\",\"type\":\"LegendItem\"},{\"id\":\"10533\",\"type\":\"LegendItem\"},{\"id\":\"10558\",\"type\":\"LegendItem\"}],\"location\":\"bottom_left\"},\"id\":\"10511\",\"type\":\"Legend\"},{\"attributes\":{\"source\":{\"id\":\"10559\",\"type\":\"ColumnDataSource\"}},\"id\":\"10563\",\"type\":\"CDSView\"},{\"attributes\":{},\"id\":\"10483\",\"type\":\"BasicTicker\"},{\"attributes\":{\"label\":{\"value\":\"LDCs\"},\"renderers\":[{\"id\":\"10503\",\"type\":\"GlyphRenderer\"}]},\"id\":\"10512\",\"type\":\"LegendItem\"}],\"root_ids\":[\"10466\"]},\"title\":\"Bokeh Application\",\"version\":\"1.3.4\"}};\n",
       "  var render_items = [{\"docid\":\"5b0c459f-5e5c-4e0d-96f8-84b767ddd840\",\"roots\":{\"10466\":\"58bb7f00-0247-45f2-8da4-a040bb69ee7e\"}}];\n",
       "  root.Bokeh.embed.embed_items_notebook(docs_json, render_items);\n",
       "\n",
       "  }\n",
       "  if (root.Bokeh !== undefined) {\n",
       "    embed_document(root);\n",
       "  } else {\n",
       "    var attempts = 0;\n",
       "    var timer = setInterval(function(root) {\n",
       "      if (root.Bokeh !== undefined) {\n",
       "        embed_document(root);\n",
       "        clearInterval(timer);\n",
       "      }\n",
       "      attempts++;\n",
       "      if (attempts > 100) {\n",
       "        console.log(\"Bokeh: ERROR: Unable to run BokehJS code because BokehJS library is missing\");\n",
       "        clearInterval(timer);\n",
       "      }\n",
       "    }, 10, root)\n",
       "  }\n",
       "})(window);"
      ],
      "application/vnd.bokehjs_exec.v0+json": ""
     },
     "metadata": {
      "application/vnd.bokehjs_exec.v0+json": {
       "id": "10466"
      }
     },
     "output_type": "display_data"
    }
   ],
   "source": [
    "# Access to safely managed sanitation services\n",
    "years = list(map(str, list(range(2000,2018))))\n",
    "result = show_weighted_average(years, 'SH.STA.SMSS.ZS', 'SP.POP.TOTL', \n",
    "                               ['LDCs', 'Developing excluding LDCs', 'OECD']) "
   ]
  },
  {
   "cell_type": "code",
   "execution_count": 13,
   "metadata": {
    "ExecuteTime": {
     "end_time": "2019-10-23T20:55:37.973089Z",
     "start_time": "2019-10-23T20:55:36.443461Z"
    },
    "slideshow": {
     "slide_type": "slide"
    }
   },
   "outputs": [
    {
     "data": {
      "text/html": [
       "\n",
       "\n",
       "\n",
       "\n",
       "\n",
       "\n",
       "  <div class=\"bk-root\" id=\"4c6de43c-4807-47a4-abb7-1a1a68581237\" data-root-id=\"11011\"></div>\n"
      ]
     },
     "metadata": {},
     "output_type": "display_data"
    },
    {
     "data": {
      "application/javascript": [
       "(function(root) {\n",
       "  function embed_document(root) {\n",
       "    \n",
       "  var docs_json = {\"e0046b6e-432f-45fb-a9e9-7f9141940d59\":{\"roots\":{\"references\":[{\"attributes\":{\"below\":[{\"id\":\"11022\",\"type\":\"LinearAxis\"}],\"center\":[{\"id\":\"11026\",\"type\":\"Grid\"},{\"id\":\"11031\",\"type\":\"Grid\"},{\"id\":\"11056\",\"type\":\"Legend\"}],\"left\":[{\"id\":\"11027\",\"type\":\"LinearAxis\"}],\"plot_height\":400,\"plot_width\":950,\"renderers\":[{\"id\":\"11048\",\"type\":\"GlyphRenderer\"},{\"id\":\"11061\",\"type\":\"GlyphRenderer\"},{\"id\":\"11066\",\"type\":\"GlyphRenderer\"},{\"id\":\"11082\",\"type\":\"GlyphRenderer\"},{\"id\":\"11087\",\"type\":\"GlyphRenderer\"},{\"id\":\"11107\",\"type\":\"GlyphRenderer\"}],\"title\":{\"id\":\"11012\",\"type\":\"Title\"},\"toolbar\":{\"id\":\"11038\",\"type\":\"Toolbar\"},\"x_range\":{\"id\":\"11014\",\"type\":\"DataRange1d\"},\"x_scale\":{\"id\":\"11018\",\"type\":\"LinearScale\"},\"y_range\":{\"id\":\"11016\",\"type\":\"DataRange1d\"},\"y_scale\":{\"id\":\"11020\",\"type\":\"LinearScale\"}},\"id\":\"11011\",\"subtype\":\"Figure\",\"type\":\"Plot\"},{\"attributes\":{},\"id\":\"11023\",\"type\":\"BasicTicker\"},{\"attributes\":{\"label\":{\"value\":\"Developing excluding LDCs\"},\"renderers\":[{\"id\":\"11066\",\"type\":\"GlyphRenderer\"}]},\"id\":\"11078\",\"type\":\"LegendItem\"},{\"attributes\":{},\"id\":\"11054\",\"type\":\"BasicTickFormatter\"},{\"attributes\":{},\"id\":\"11461\",\"type\":\"Selection\"},{\"attributes\":{\"ticker\":{\"id\":\"11023\",\"type\":\"BasicTicker\"}},\"id\":\"11026\",\"type\":\"Grid\"},{\"attributes\":{\"fill_color\":{\"value\":\"#5430F1\"},\"line_color\":{\"value\":\"#5430F1\"},\"line_width\":{\"value\":3},\"x\":{\"field\":\"x\"},\"y\":{\"field\":\"y\"}},\"id\":\"11080\",\"type\":\"Circle\"},{\"attributes\":{\"items\":[{\"id\":\"11057\",\"type\":\"LegendItem\"},{\"id\":\"11078\",\"type\":\"LegendItem\"},{\"id\":\"11103\",\"type\":\"LegendItem\"}],\"location\":\"bottom_left\"},\"id\":\"11056\",\"type\":\"Legend\"},{\"attributes\":{\"data_source\":{\"id\":\"11104\",\"type\":\"ColumnDataSource\"},\"glyph\":{\"id\":\"11105\",\"type\":\"Circle\"},\"hover_glyph\":null,\"muted_glyph\":null,\"nonselection_glyph\":{\"id\":\"11106\",\"type\":\"Circle\"},\"selection_glyph\":null,\"view\":{\"id\":\"11108\",\"type\":\"CDSView\"}},\"id\":\"11107\",\"type\":\"GlyphRenderer\"},{\"attributes\":{},\"id\":\"11101\",\"type\":\"UnionRenderers\"},{\"attributes\":{\"data_source\":{\"id\":\"11079\",\"type\":\"ColumnDataSource\"},\"glyph\":{\"id\":\"11080\",\"type\":\"Circle\"},\"hover_glyph\":null,\"muted_glyph\":null,\"nonselection_glyph\":{\"id\":\"11081\",\"type\":\"Circle\"},\"selection_glyph\":null,\"view\":{\"id\":\"11083\",\"type\":\"CDSView\"}},\"id\":\"11082\",\"type\":\"GlyphRenderer\"},{\"attributes\":{\"callback\":null,\"data\":{\"x\":[\"2010\",\"2011\",\"2012\",\"2013\",\"2014\"],\"y\":[7.216305888899169,9.238597293740812,9.286933356659,8.843198313346274,10.341316695036003]},\"selected\":{\"id\":\"11075\",\"type\":\"Selection\"},\"selection_policy\":{\"id\":\"11076\",\"type\":\"UnionRenderers\"}},\"id\":\"11058\",\"type\":\"ColumnDataSource\"},{\"attributes\":{\"label\":{\"value\":\"UMICs\"},\"renderers\":[{\"id\":\"11087\",\"type\":\"GlyphRenderer\"}]},\"id\":\"11103\",\"type\":\"LegendItem\"},{\"attributes\":{\"fill_alpha\":{\"value\":0.1},\"fill_color\":{\"value\":\"#1f77b4\"},\"line_alpha\":{\"value\":0.1},\"line_color\":{\"value\":\"#1f77b4\"},\"line_width\":{\"value\":3},\"x\":{\"field\":\"x\"},\"y\":{\"field\":\"y\"}},\"id\":\"11081\",\"type\":\"Circle\"},{\"attributes\":{\"label\":{\"value\":\"LDCs\"},\"renderers\":[{\"id\":\"11048\",\"type\":\"GlyphRenderer\"}]},\"id\":\"11057\",\"type\":\"LegendItem\"},{\"attributes\":{\"source\":{\"id\":\"11104\",\"type\":\"ColumnDataSource\"}},\"id\":\"11108\",\"type\":\"CDSView\"},{\"attributes\":{\"source\":{\"id\":\"11079\",\"type\":\"ColumnDataSource\"}},\"id\":\"11083\",\"type\":\"CDSView\"},{\"attributes\":{\"fill_color\":{\"value\":\"#FA1857\"},\"line_color\":{\"value\":\"#FA1857\"},\"line_width\":{\"value\":3},\"x\":{\"field\":\"x\"},\"y\":{\"field\":\"y\"}},\"id\":\"11059\",\"type\":\"Circle\"},{\"attributes\":{\"axis_label\":\"Percentage\",\"formatter\":{\"id\":\"11054\",\"type\":\"BasicTickFormatter\"},\"ticker\":{\"id\":\"11028\",\"type\":\"BasicTicker\"}},\"id\":\"11027\",\"type\":\"LinearAxis\"},{\"attributes\":{\"fill_color\":{\"value\":\"#2CC775\"},\"line_color\":{\"value\":\"#2CC775\"},\"line_width\":{\"value\":3},\"x\":{\"field\":\"x\"},\"y\":{\"field\":\"y\"}},\"id\":\"11105\",\"type\":\"Circle\"},{\"attributes\":{\"data_source\":{\"id\":\"11058\",\"type\":\"ColumnDataSource\"},\"glyph\":{\"id\":\"11059\",\"type\":\"Circle\"},\"hover_glyph\":null,\"muted_glyph\":null,\"nonselection_glyph\":{\"id\":\"11060\",\"type\":\"Circle\"},\"selection_glyph\":null,\"view\":{\"id\":\"11062\",\"type\":\"CDSView\"}},\"id\":\"11061\",\"type\":\"GlyphRenderer\"},{\"attributes\":{\"callback\":null,\"data\":{\"x\":[\"2010\",\"2011\",\"2012\",\"2013\",\"2014\"],\"y\":[29.578342099714497,35.0387071416137,36.79347919201178,39.400822883016104,45.87742349232858]},\"selected\":{\"id\":\"11463\",\"type\":\"Selection\"},\"selection_policy\":{\"id\":\"11464\",\"type\":\"UnionRenderers\"}},\"id\":\"11104\",\"type\":\"ColumnDataSource\"},{\"attributes\":{},\"id\":\"11028\",\"type\":\"BasicTicker\"},{\"attributes\":{\"fill_alpha\":{\"value\":0.1},\"fill_color\":{\"value\":\"#1f77b4\"},\"line_alpha\":{\"value\":0.1},\"line_color\":{\"value\":\"#1f77b4\"},\"line_width\":{\"value\":3},\"x\":{\"field\":\"x\"},\"y\":{\"field\":\"y\"}},\"id\":\"11106\",\"type\":\"Circle\"},{\"attributes\":{\"fill_alpha\":{\"value\":0.1},\"fill_color\":{\"value\":\"#1f77b4\"},\"line_alpha\":{\"value\":0.1},\"line_color\":{\"value\":\"#1f77b4\"},\"line_width\":{\"value\":3},\"x\":{\"field\":\"x\"},\"y\":{\"field\":\"y\"}},\"id\":\"11060\",\"type\":\"Circle\"},{\"attributes\":{\"dimension\":1,\"ticker\":{\"id\":\"11028\",\"type\":\"BasicTicker\"}},\"id\":\"11031\",\"type\":\"Grid\"},{\"attributes\":{},\"id\":\"11462\",\"type\":\"UnionRenderers\"},{\"attributes\":{\"callback\":null,\"tooltips\":\"        \\n        <div style=padding=5px>Year:@x</div>\\n        <div style=padding=5px>Value:@y</div>\\n        \"},\"id\":\"11109\",\"type\":\"HoverTool\"},{\"attributes\":{\"source\":{\"id\":\"11058\",\"type\":\"ColumnDataSource\"}},\"id\":\"11062\",\"type\":\"CDSView\"},{\"attributes\":{},\"id\":\"11052\",\"type\":\"BasicTickFormatter\"},{\"attributes\":{},\"id\":\"11463\",\"type\":\"Selection\"},{\"attributes\":{},\"id\":\"11032\",\"type\":\"PanTool\"},{\"attributes\":{\"line_color\":\"#5430F1\",\"line_width\":2,\"x\":{\"field\":\"x\"},\"y\":{\"field\":\"y\"}},\"id\":\"11064\",\"type\":\"Line\"},{\"attributes\":{\"callback\":null,\"data\":{\"x\":[\"2010\",\"2011\",\"2012\",\"2013\",\"2014\"],\"y\":[7.216305888899169,9.238597293740812,9.286933356659,8.843198313346274,10.341316695036003]},\"selected\":{\"id\":\"11073\",\"type\":\"Selection\"},\"selection_policy\":{\"id\":\"11074\",\"type\":\"UnionRenderers\"}},\"id\":\"11045\",\"type\":\"ColumnDataSource\"},{\"attributes\":{},\"id\":\"11464\",\"type\":\"UnionRenderers\"},{\"attributes\":{},\"id\":\"11033\",\"type\":\"WheelZoomTool\"},{\"attributes\":{\"callback\":null,\"data\":{\"x\":[\"2010\",\"2011\",\"2012\",\"2013\",\"2014\"],\"y\":[23.513041688550018,26.0163518298774,28.653839513727956,29.991015174173807,34.20514037096847]},\"selected\":{\"id\":\"11098\",\"type\":\"Selection\"},\"selection_policy\":{\"id\":\"11099\",\"type\":\"UnionRenderers\"}},\"id\":\"11063\",\"type\":\"ColumnDataSource\"},{\"attributes\":{\"bottom_units\":\"screen\",\"fill_alpha\":{\"value\":0.5},\"fill_color\":{\"value\":\"lightgrey\"},\"left_units\":\"screen\",\"level\":\"overlay\",\"line_alpha\":{\"value\":1.0},\"line_color\":{\"value\":\"black\"},\"line_dash\":[4,4],\"line_width\":{\"value\":2},\"render_mode\":\"css\",\"right_units\":\"screen\",\"top_units\":\"screen\"},\"id\":\"11055\",\"type\":\"BoxAnnotation\"},{\"attributes\":{\"line_color\":\"#2CC775\",\"line_width\":2,\"x\":{\"field\":\"x\"},\"y\":{\"field\":\"y\"}},\"id\":\"11085\",\"type\":\"Line\"},{\"attributes\":{\"overlay\":{\"id\":\"11055\",\"type\":\"BoxAnnotation\"}},\"id\":\"11034\",\"type\":\"BoxZoomTool\"},{\"attributes\":{\"line_alpha\":0.1,\"line_color\":\"#1f77b4\",\"line_width\":2,\"x\":{\"field\":\"x\"},\"y\":{\"field\":\"y\"}},\"id\":\"11065\",\"type\":\"Line\"},{\"attributes\":{\"line_color\":\"#FA1857\",\"line_width\":2,\"x\":{\"field\":\"x\"},\"y\":{\"field\":\"y\"}},\"id\":\"11046\",\"type\":\"Line\"},{\"attributes\":{\"callback\":null,\"data\":{\"x\":[\"2010\",\"2011\",\"2012\",\"2013\",\"2014\"],\"y\":[29.578342099714497,35.0387071416137,36.79347919201178,39.400822883016104,45.87742349232858]},\"selected\":{\"id\":\"11461\",\"type\":\"Selection\"},\"selection_policy\":{\"id\":\"11462\",\"type\":\"UnionRenderers\"}},\"id\":\"11084\",\"type\":\"ColumnDataSource\"},{\"attributes\":{},\"id\":\"11035\",\"type\":\"SaveTool\"},{\"attributes\":{\"source\":{\"id\":\"11063\",\"type\":\"ColumnDataSource\"}},\"id\":\"11067\",\"type\":\"CDSView\"},{\"attributes\":{\"line_alpha\":0.1,\"line_color\":\"#1f77b4\",\"line_width\":2,\"x\":{\"field\":\"x\"},\"y\":{\"field\":\"y\"}},\"id\":\"11086\",\"type\":\"Line\"},{\"attributes\":{\"data_source\":{\"id\":\"11063\",\"type\":\"ColumnDataSource\"},\"glyph\":{\"id\":\"11064\",\"type\":\"Line\"},\"hover_glyph\":null,\"muted_glyph\":null,\"nonselection_glyph\":{\"id\":\"11065\",\"type\":\"Line\"},\"selection_glyph\":null,\"view\":{\"id\":\"11067\",\"type\":\"CDSView\"}},\"id\":\"11066\",\"type\":\"GlyphRenderer\"},{\"attributes\":{\"source\":{\"id\":\"11084\",\"type\":\"ColumnDataSource\"}},\"id\":\"11088\",\"type\":\"CDSView\"},{\"attributes\":{},\"id\":\"11099\",\"type\":\"UnionRenderers\"},{\"attributes\":{},\"id\":\"11073\",\"type\":\"Selection\"},{\"attributes\":{},\"id\":\"11036\",\"type\":\"ResetTool\"},{\"attributes\":{\"callback\":null,\"data\":{\"x\":[\"2010\",\"2011\",\"2012\",\"2013\",\"2014\"],\"y\":[23.513041688550018,26.0163518298774,28.653839513727956,29.991015174173807,34.20514037096847]},\"selected\":{\"id\":\"11100\",\"type\":\"Selection\"},\"selection_policy\":{\"id\":\"11101\",\"type\":\"UnionRenderers\"}},\"id\":\"11079\",\"type\":\"ColumnDataSource\"},{\"attributes\":{\"callback\":null},\"id\":\"11014\",\"type\":\"DataRange1d\"},{\"attributes\":{\"data_source\":{\"id\":\"11084\",\"type\":\"ColumnDataSource\"},\"glyph\":{\"id\":\"11085\",\"type\":\"Line\"},\"hover_glyph\":null,\"muted_glyph\":null,\"nonselection_glyph\":{\"id\":\"11086\",\"type\":\"Line\"},\"selection_glyph\":null,\"view\":{\"id\":\"11088\",\"type\":\"CDSView\"}},\"id\":\"11087\",\"type\":\"GlyphRenderer\"},{\"attributes\":{\"callback\":null},\"id\":\"11016\",\"type\":\"DataRange1d\"},{\"attributes\":{},\"id\":\"11075\",\"type\":\"Selection\"},{\"attributes\":{\"active_drag\":\"auto\",\"active_inspect\":\"auto\",\"active_multi\":null,\"active_scroll\":\"auto\",\"active_tap\":\"auto\",\"tools\":[{\"id\":\"11032\",\"type\":\"PanTool\"},{\"id\":\"11033\",\"type\":\"WheelZoomTool\"},{\"id\":\"11034\",\"type\":\"BoxZoomTool\"},{\"id\":\"11035\",\"type\":\"SaveTool\"},{\"id\":\"11036\",\"type\":\"ResetTool\"},{\"id\":\"11037\",\"type\":\"HelpTool\"},{\"id\":\"11109\",\"type\":\"HoverTool\"}]},\"id\":\"11038\",\"type\":\"Toolbar\"},{\"attributes\":{\"text\":\"School enrollment, tertiary (% gross) weighted against Population, total\"},\"id\":\"11012\",\"type\":\"Title\"},{\"attributes\":{},\"id\":\"11098\",\"type\":\"Selection\"},{\"attributes\":{},\"id\":\"11018\",\"type\":\"LinearScale\"},{\"attributes\":{},\"id\":\"11074\",\"type\":\"UnionRenderers\"},{\"attributes\":{},\"id\":\"11037\",\"type\":\"HelpTool\"},{\"attributes\":{\"line_alpha\":0.1,\"line_color\":\"#1f77b4\",\"line_width\":2,\"x\":{\"field\":\"x\"},\"y\":{\"field\":\"y\"}},\"id\":\"11047\",\"type\":\"Line\"},{\"attributes\":{},\"id\":\"11100\",\"type\":\"Selection\"},{\"attributes\":{},\"id\":\"11020\",\"type\":\"LinearScale\"},{\"attributes\":{},\"id\":\"11076\",\"type\":\"UnionRenderers\"},{\"attributes\":{\"data_source\":{\"id\":\"11045\",\"type\":\"ColumnDataSource\"},\"glyph\":{\"id\":\"11046\",\"type\":\"Line\"},\"hover_glyph\":null,\"muted_glyph\":null,\"nonselection_glyph\":{\"id\":\"11047\",\"type\":\"Line\"},\"selection_glyph\":null,\"view\":{\"id\":\"11049\",\"type\":\"CDSView\"}},\"id\":\"11048\",\"type\":\"GlyphRenderer\"},{\"attributes\":{\"axis_label\":\"Years\",\"formatter\":{\"id\":\"11052\",\"type\":\"BasicTickFormatter\"},\"ticker\":{\"id\":\"11023\",\"type\":\"BasicTicker\"}},\"id\":\"11022\",\"type\":\"LinearAxis\"},{\"attributes\":{\"source\":{\"id\":\"11045\",\"type\":\"ColumnDataSource\"}},\"id\":\"11049\",\"type\":\"CDSView\"}],\"root_ids\":[\"11011\"]},\"title\":\"Bokeh Application\",\"version\":\"1.3.4\"}};\n",
       "  var render_items = [{\"docid\":\"e0046b6e-432f-45fb-a9e9-7f9141940d59\",\"roots\":{\"11011\":\"4c6de43c-4807-47a4-abb7-1a1a68581237\"}}];\n",
       "  root.Bokeh.embed.embed_items_notebook(docs_json, render_items);\n",
       "\n",
       "  }\n",
       "  if (root.Bokeh !== undefined) {\n",
       "    embed_document(root);\n",
       "  } else {\n",
       "    var attempts = 0;\n",
       "    var timer = setInterval(function(root) {\n",
       "      if (root.Bokeh !== undefined) {\n",
       "        embed_document(root);\n",
       "        clearInterval(timer);\n",
       "      }\n",
       "      attempts++;\n",
       "      if (attempts > 100) {\n",
       "        console.log(\"Bokeh: ERROR: Unable to run BokehJS code because BokehJS library is missing\");\n",
       "        clearInterval(timer);\n",
       "      }\n",
       "    }, 10, root)\n",
       "  }\n",
       "})(window);"
      ],
      "application/vnd.bokehjs_exec.v0+json": ""
     },
     "metadata": {
      "application/vnd.bokehjs_exec.v0+json": {
       "id": "11011"
      }
     },
     "output_type": "display_data"
    }
   ],
   "source": [
    "# School enrollment, tertiary\n",
    "years = list(map(str, list(range(2010,2015))))\n",
    "result = show_weighted_average(years, 'SE.TER.ENRR', 'SP.POP.TOTL', \n",
    "                               ['LDCs', 'Developing excluding LDCs', 'UMICs'])"
   ]
  },
  {
   "cell_type": "code",
   "execution_count": 14,
   "metadata": {
    "ExecuteTime": {
     "end_time": "2019-10-23T20:55:39.292322Z",
     "start_time": "2019-10-23T20:55:37.975022Z"
    },
    "slideshow": {
     "slide_type": "slide"
    }
   },
   "outputs": [
    {
     "data": {
      "text/html": [
       "\n",
       "\n",
       "\n",
       "\n",
       "\n",
       "\n",
       "  <div class=\"bk-root\" id=\"3b0ed738-8788-4f95-a58d-ce7e92281017\" data-root-id=\"11574\"></div>\n"
      ]
     },
     "metadata": {},
     "output_type": "display_data"
    },
    {
     "data": {
      "application/javascript": [
       "(function(root) {\n",
       "  function embed_document(root) {\n",
       "    \n",
       "  var docs_json = {\"5be52c4e-cb1e-490b-acd4-a6a5c81d9113\":{\"roots\":{\"references\":[{\"attributes\":{\"below\":[{\"id\":\"11585\",\"type\":\"LinearAxis\"}],\"center\":[{\"id\":\"11589\",\"type\":\"Grid\"},{\"id\":\"11594\",\"type\":\"Grid\"},{\"id\":\"11619\",\"type\":\"Legend\"}],\"left\":[{\"id\":\"11590\",\"type\":\"LinearAxis\"}],\"plot_height\":400,\"plot_width\":950,\"renderers\":[{\"id\":\"11611\",\"type\":\"GlyphRenderer\"},{\"id\":\"11624\",\"type\":\"GlyphRenderer\"},{\"id\":\"11629\",\"type\":\"GlyphRenderer\"},{\"id\":\"11645\",\"type\":\"GlyphRenderer\"}],\"title\":{\"id\":\"11575\",\"type\":\"Title\"},\"toolbar\":{\"id\":\"11601\",\"type\":\"Toolbar\"},\"x_range\":{\"id\":\"11577\",\"type\":\"DataRange1d\"},\"x_scale\":{\"id\":\"11581\",\"type\":\"LinearScale\"},\"y_range\":{\"id\":\"11579\",\"type\":\"DataRange1d\"},\"y_scale\":{\"id\":\"11583\",\"type\":\"LinearScale\"}},\"id\":\"11574\",\"subtype\":\"Figure\",\"type\":\"Plot\"},{\"attributes\":{\"axis_label\":\"Years\",\"formatter\":{\"id\":\"11615\",\"type\":\"BasicTickFormatter\"},\"ticker\":{\"id\":\"11586\",\"type\":\"BasicTicker\"}},\"id\":\"11585\",\"type\":\"LinearAxis\"},{\"attributes\":{},\"id\":\"11617\",\"type\":\"BasicTickFormatter\"},{\"attributes\":{\"label\":{\"value\":\"LDCs\"},\"renderers\":[{\"id\":\"11611\",\"type\":\"GlyphRenderer\"}]},\"id\":\"11620\",\"type\":\"LegendItem\"},{\"attributes\":{\"ticker\":{\"id\":\"11586\",\"type\":\"BasicTicker\"}},\"id\":\"11589\",\"type\":\"Grid\"},{\"attributes\":{\"fill_color\":{\"value\":\"#FA1857\"},\"line_color\":{\"value\":\"#FA1857\"},\"line_width\":{\"value\":3},\"x\":{\"field\":\"x\"},\"y\":{\"field\":\"y\"}},\"id\":\"11622\",\"type\":\"Circle\"},{\"attributes\":{},\"id\":\"11586\",\"type\":\"BasicTicker\"},{\"attributes\":{\"line_color\":\"#FA1857\",\"line_width\":2,\"x\":{\"field\":\"x\"},\"y\":{\"field\":\"y\"}},\"id\":\"11609\",\"type\":\"Line\"},{\"attributes\":{\"callback\":null,\"data\":{\"x\":[\"2010\",\"2011\",\"2012\",\"2013\",\"2014\"],\"y\":[74.97632355784125,75.02611752268099,80.00946290801379,81.31988745347162,81.49752595333796]},\"selected\":{\"id\":\"11638\",\"type\":\"Selection\"},\"selection_policy\":{\"id\":\"11639\",\"type\":\"UnionRenderers\"}},\"id\":\"11621\",\"type\":\"ColumnDataSource\"},{\"attributes\":{\"bottom_units\":\"screen\",\"fill_alpha\":{\"value\":0.5},\"fill_color\":{\"value\":\"lightgrey\"},\"left_units\":\"screen\",\"level\":\"overlay\",\"line_alpha\":{\"value\":1.0},\"line_color\":{\"value\":\"black\"},\"line_dash\":[4,4],\"line_width\":{\"value\":2},\"render_mode\":\"css\",\"right_units\":\"screen\",\"top_units\":\"screen\"},\"id\":\"11618\",\"type\":\"BoxAnnotation\"},{\"attributes\":{\"axis_label\":\"Percentage\",\"formatter\":{\"id\":\"11617\",\"type\":\"BasicTickFormatter\"},\"ticker\":{\"id\":\"11591\",\"type\":\"BasicTicker\"}},\"id\":\"11590\",\"type\":\"LinearAxis\"},{\"attributes\":{\"fill_alpha\":{\"value\":0.1},\"fill_color\":{\"value\":\"#1f77b4\"},\"line_alpha\":{\"value\":0.1},\"line_color\":{\"value\":\"#1f77b4\"},\"line_width\":{\"value\":3},\"x\":{\"field\":\"x\"},\"y\":{\"field\":\"y\"}},\"id\":\"11623\",\"type\":\"Circle\"},{\"attributes\":{\"items\":[{\"id\":\"11620\",\"type\":\"LegendItem\"},{\"id\":\"11641\",\"type\":\"LegendItem\"}],\"location\":\"bottom_left\"},\"id\":\"11619\",\"type\":\"Legend\"},{\"attributes\":{\"source\":{\"id\":\"11621\",\"type\":\"ColumnDataSource\"}},\"id\":\"11625\",\"type\":\"CDSView\"},{\"attributes\":{},\"id\":\"11591\",\"type\":\"BasicTicker\"},{\"attributes\":{},\"id\":\"11581\",\"type\":\"LinearScale\"},{\"attributes\":{\"label\":{\"value\":\"Developing excluding LDCs\"},\"renderers\":[{\"id\":\"11629\",\"type\":\"GlyphRenderer\"}]},\"id\":\"11641\",\"type\":\"LegendItem\"},{\"attributes\":{\"data_source\":{\"id\":\"11621\",\"type\":\"ColumnDataSource\"},\"glyph\":{\"id\":\"11622\",\"type\":\"Circle\"},\"hover_glyph\":null,\"muted_glyph\":null,\"nonselection_glyph\":{\"id\":\"11623\",\"type\":\"Circle\"},\"selection_glyph\":null,\"view\":{\"id\":\"11625\",\"type\":\"CDSView\"}},\"id\":\"11624\",\"type\":\"GlyphRenderer\"},{\"attributes\":{\"fill_color\":{\"value\":\"#5430F1\"},\"line_color\":{\"value\":\"#5430F1\"},\"line_width\":{\"value\":3},\"x\":{\"field\":\"x\"},\"y\":{\"field\":\"y\"}},\"id\":\"11643\",\"type\":\"Circle\"},{\"attributes\":{\"callback\":null,\"data\":{\"x\":[\"2010\",\"2011\",\"2012\",\"2013\",\"2014\"],\"y\":[97.16254832371536,92.16019298807788,94.37168223840837,92.90217775217923,95.33335755824594]},\"selected\":{\"id\":\"12013\",\"type\":\"Selection\"},\"selection_policy\":{\"id\":\"12014\",\"type\":\"UnionRenderers\"}},\"id\":\"11626\",\"type\":\"ColumnDataSource\"},{\"attributes\":{\"dimension\":1,\"ticker\":{\"id\":\"11591\",\"type\":\"BasicTicker\"}},\"id\":\"11594\",\"type\":\"Grid\"},{\"attributes\":{\"callback\":null,\"data\":{\"x\":[\"2010\",\"2011\",\"2012\",\"2013\",\"2014\"],\"y\":[97.16254832371536,92.16019298807788,94.37168223840837,92.90217775217923,95.33335755824594]},\"selected\":{\"id\":\"12015\",\"type\":\"Selection\"},\"selection_policy\":{\"id\":\"12016\",\"type\":\"UnionRenderers\"}},\"id\":\"11642\",\"type\":\"ColumnDataSource\"},{\"attributes\":{\"callback\":null,\"tooltips\":\"        \\n        <div style=padding=5px>Year:@x</div>\\n        <div style=padding=5px>Value:@y</div>\\n        \"},\"id\":\"11647\",\"type\":\"HoverTool\"},{\"attributes\":{\"line_alpha\":0.1,\"line_color\":\"#1f77b4\",\"line_width\":2,\"x\":{\"field\":\"x\"},\"y\":{\"field\":\"y\"}},\"id\":\"11628\",\"type\":\"Line\"},{\"attributes\":{\"callback\":null,\"data\":{\"x\":[\"2010\",\"2011\",\"2012\",\"2013\",\"2014\"],\"y\":[74.97632355784125,75.02611752268099,80.00946290801379,81.31988745347162,81.49752595333796]},\"selected\":{\"id\":\"11636\",\"type\":\"Selection\"},\"selection_policy\":{\"id\":\"11637\",\"type\":\"UnionRenderers\"}},\"id\":\"11608\",\"type\":\"ColumnDataSource\"},{\"attributes\":{\"fill_alpha\":{\"value\":0.1},\"fill_color\":{\"value\":\"#1f77b4\"},\"line_alpha\":{\"value\":0.1},\"line_color\":{\"value\":\"#1f77b4\"},\"line_width\":{\"value\":3},\"x\":{\"field\":\"x\"},\"y\":{\"field\":\"y\"}},\"id\":\"11644\",\"type\":\"Circle\"},{\"attributes\":{\"line_color\":\"#5430F1\",\"line_width\":2,\"x\":{\"field\":\"x\"},\"y\":{\"field\":\"y\"}},\"id\":\"11627\",\"type\":\"Line\"},{\"attributes\":{\"source\":{\"id\":\"11642\",\"type\":\"ColumnDataSource\"}},\"id\":\"11646\",\"type\":\"CDSView\"},{\"attributes\":{},\"id\":\"11595\",\"type\":\"PanTool\"},{\"attributes\":{\"data_source\":{\"id\":\"11626\",\"type\":\"ColumnDataSource\"},\"glyph\":{\"id\":\"11627\",\"type\":\"Line\"},\"hover_glyph\":null,\"muted_glyph\":null,\"nonselection_glyph\":{\"id\":\"11628\",\"type\":\"Line\"},\"selection_glyph\":null,\"view\":{\"id\":\"11630\",\"type\":\"CDSView\"}},\"id\":\"11629\",\"type\":\"GlyphRenderer\"},{\"attributes\":{\"data_source\":{\"id\":\"11642\",\"type\":\"ColumnDataSource\"},\"glyph\":{\"id\":\"11643\",\"type\":\"Circle\"},\"hover_glyph\":null,\"muted_glyph\":null,\"nonselection_glyph\":{\"id\":\"11644\",\"type\":\"Circle\"},\"selection_glyph\":null,\"view\":{\"id\":\"11646\",\"type\":\"CDSView\"}},\"id\":\"11645\",\"type\":\"GlyphRenderer\"},{\"attributes\":{\"overlay\":{\"id\":\"11618\",\"type\":\"BoxAnnotation\"}},\"id\":\"11597\",\"type\":\"BoxZoomTool\"},{\"attributes\":{},\"id\":\"11636\",\"type\":\"Selection\"},{\"attributes\":{},\"id\":\"11596\",\"type\":\"WheelZoomTool\"},{\"attributes\":{\"source\":{\"id\":\"11626\",\"type\":\"ColumnDataSource\"}},\"id\":\"11630\",\"type\":\"CDSView\"},{\"attributes\":{},\"id\":\"12014\",\"type\":\"UnionRenderers\"},{\"attributes\":{},\"id\":\"11598\",\"type\":\"SaveTool\"},{\"attributes\":{},\"id\":\"11637\",\"type\":\"UnionRenderers\"},{\"attributes\":{},\"id\":\"12013\",\"type\":\"Selection\"},{\"attributes\":{},\"id\":\"11600\",\"type\":\"HelpTool\"},{\"attributes\":{},\"id\":\"11639\",\"type\":\"UnionRenderers\"},{\"attributes\":{},\"id\":\"12015\",\"type\":\"Selection\"},{\"attributes\":{\"text\":\"Literacy rate, youth male (% of males ages 15-24) weighted against Population, total\"},\"id\":\"11575\",\"type\":\"Title\"},{\"attributes\":{},\"id\":\"11599\",\"type\":\"ResetTool\"},{\"attributes\":{},\"id\":\"11638\",\"type\":\"Selection\"},{\"attributes\":{\"line_alpha\":0.1,\"line_color\":\"#1f77b4\",\"line_width\":2,\"x\":{\"field\":\"x\"},\"y\":{\"field\":\"y\"}},\"id\":\"11610\",\"type\":\"Line\"},{\"attributes\":{\"active_drag\":\"auto\",\"active_inspect\":\"auto\",\"active_multi\":null,\"active_scroll\":\"auto\",\"active_tap\":\"auto\",\"tools\":[{\"id\":\"11595\",\"type\":\"PanTool\"},{\"id\":\"11596\",\"type\":\"WheelZoomTool\"},{\"id\":\"11597\",\"type\":\"BoxZoomTool\"},{\"id\":\"11598\",\"type\":\"SaveTool\"},{\"id\":\"11599\",\"type\":\"ResetTool\"},{\"id\":\"11600\",\"type\":\"HelpTool\"},{\"id\":\"11647\",\"type\":\"HoverTool\"}]},\"id\":\"11601\",\"type\":\"Toolbar\"},{\"attributes\":{\"callback\":null},\"id\":\"11579\",\"type\":\"DataRange1d\"},{\"attributes\":{},\"id\":\"12016\",\"type\":\"UnionRenderers\"},{\"attributes\":{\"data_source\":{\"id\":\"11608\",\"type\":\"ColumnDataSource\"},\"glyph\":{\"id\":\"11609\",\"type\":\"Line\"},\"hover_glyph\":null,\"muted_glyph\":null,\"nonselection_glyph\":{\"id\":\"11610\",\"type\":\"Line\"},\"selection_glyph\":null,\"view\":{\"id\":\"11612\",\"type\":\"CDSView\"}},\"id\":\"11611\",\"type\":\"GlyphRenderer\"},{\"attributes\":{},\"id\":\"11583\",\"type\":\"LinearScale\"},{\"attributes\":{\"callback\":null},\"id\":\"11577\",\"type\":\"DataRange1d\"},{\"attributes\":{},\"id\":\"11615\",\"type\":\"BasicTickFormatter\"},{\"attributes\":{\"source\":{\"id\":\"11608\",\"type\":\"ColumnDataSource\"}},\"id\":\"11612\",\"type\":\"CDSView\"}],\"root_ids\":[\"11574\"]},\"title\":\"Bokeh Application\",\"version\":\"1.3.4\"}};\n",
       "  var render_items = [{\"docid\":\"5be52c4e-cb1e-490b-acd4-a6a5c81d9113\",\"roots\":{\"11574\":\"3b0ed738-8788-4f95-a58d-ce7e92281017\"}}];\n",
       "  root.Bokeh.embed.embed_items_notebook(docs_json, render_items);\n",
       "\n",
       "  }\n",
       "  if (root.Bokeh !== undefined) {\n",
       "    embed_document(root);\n",
       "  } else {\n",
       "    var attempts = 0;\n",
       "    var timer = setInterval(function(root) {\n",
       "      if (root.Bokeh !== undefined) {\n",
       "        embed_document(root);\n",
       "        clearInterval(timer);\n",
       "      }\n",
       "      attempts++;\n",
       "      if (attempts > 100) {\n",
       "        console.log(\"Bokeh: ERROR: Unable to run BokehJS code because BokehJS library is missing\");\n",
       "        clearInterval(timer);\n",
       "      }\n",
       "    }, 10, root)\n",
       "  }\n",
       "})(window);"
      ],
      "application/vnd.bokehjs_exec.v0+json": ""
     },
     "metadata": {
      "application/vnd.bokehjs_exec.v0+json": {
       "id": "11574"
      }
     },
     "output_type": "display_data"
    }
   ],
   "source": [
    "# Literacy rate, youth male (% of male ages 15-24)\n",
    "result = show_weighted_average(years, 'SE.ADT.1524.LT.MA.ZS', 'SP.POP.TOTL', \n",
    "                               ['LDCs', 'Developing excluding LDCs'])"
   ]
  },
  {
   "cell_type": "code",
   "execution_count": 15,
   "metadata": {
    "ExecuteTime": {
     "end_time": "2019-10-23T20:55:54.510115Z",
     "start_time": "2019-10-23T20:55:39.300273Z"
    },
    "slideshow": {
     "slide_type": "slide"
    }
   },
   "outputs": [
    {
     "data": {
      "text/html": [
       "\n",
       "\n",
       "\n",
       "\n",
       "\n",
       "\n",
       "  <div class=\"bk-root\" id=\"fb8313c6-8da1-4ca6-9f63-69d5983c193e\" data-root-id=\"12102\"></div>\n"
      ]
     },
     "metadata": {},
     "output_type": "display_data"
    },
    {
     "data": {
      "application/javascript": [
       "(function(root) {\n",
       "  function embed_document(root) {\n",
       "    \n",
       "  var docs_json = {\"dad8246a-fc1d-4592-9cae-a4b001c89bf4\":{\"roots\":{\"references\":[{\"attributes\":{\"below\":[{\"id\":\"12113\",\"type\":\"LinearAxis\"}],\"center\":[{\"id\":\"12117\",\"type\":\"Grid\"},{\"id\":\"12122\",\"type\":\"Grid\"},{\"id\":\"12147\",\"type\":\"Legend\"}],\"left\":[{\"id\":\"12118\",\"type\":\"LinearAxis\"}],\"plot_height\":400,\"plot_width\":950,\"renderers\":[{\"id\":\"12139\",\"type\":\"GlyphRenderer\"},{\"id\":\"12152\",\"type\":\"GlyphRenderer\"},{\"id\":\"12157\",\"type\":\"GlyphRenderer\"},{\"id\":\"12173\",\"type\":\"GlyphRenderer\"}],\"title\":{\"id\":\"12103\",\"type\":\"Title\"},\"toolbar\":{\"id\":\"12129\",\"type\":\"Toolbar\"},\"x_range\":{\"id\":\"12105\",\"type\":\"DataRange1d\"},\"x_scale\":{\"id\":\"12109\",\"type\":\"LinearScale\"},\"y_range\":{\"id\":\"12107\",\"type\":\"DataRange1d\"},\"y_scale\":{\"id\":\"12111\",\"type\":\"LinearScale\"}},\"id\":\"12102\",\"subtype\":\"Figure\",\"type\":\"Plot\"},{\"attributes\":{},\"id\":\"12165\",\"type\":\"UnionRenderers\"},{\"attributes\":{\"label\":{\"value\":\"Developing excluding LDCs\"},\"renderers\":[{\"id\":\"12157\",\"type\":\"GlyphRenderer\"}]},\"id\":\"12169\",\"type\":\"LegendItem\"},{\"attributes\":{},\"id\":\"12128\",\"type\":\"HelpTool\"},{\"attributes\":{\"data_source\":{\"id\":\"12154\",\"type\":\"ColumnDataSource\"},\"glyph\":{\"id\":\"12155\",\"type\":\"Line\"},\"hover_glyph\":null,\"muted_glyph\":null,\"nonselection_glyph\":{\"id\":\"12156\",\"type\":\"Line\"},\"selection_glyph\":null,\"view\":{\"id\":\"12158\",\"type\":\"CDSView\"}},\"id\":\"12157\",\"type\":\"GlyphRenderer\"},{\"attributes\":{},\"id\":\"12164\",\"type\":\"Selection\"},{\"attributes\":{\"line_alpha\":0.1,\"line_color\":\"#1f77b4\",\"line_width\":2,\"x\":{\"field\":\"x\"},\"y\":{\"field\":\"y\"}},\"id\":\"12138\",\"type\":\"Line\"},{\"attributes\":{\"active_drag\":\"auto\",\"active_inspect\":\"auto\",\"active_multi\":null,\"active_scroll\":\"auto\",\"active_tap\":\"auto\",\"tools\":[{\"id\":\"12123\",\"type\":\"PanTool\"},{\"id\":\"12124\",\"type\":\"WheelZoomTool\"},{\"id\":\"12125\",\"type\":\"BoxZoomTool\"},{\"id\":\"12126\",\"type\":\"SaveTool\"},{\"id\":\"12127\",\"type\":\"ResetTool\"},{\"id\":\"12128\",\"type\":\"HelpTool\"},{\"id\":\"12175\",\"type\":\"HoverTool\"}]},\"id\":\"12129\",\"type\":\"Toolbar\"},{\"attributes\":{\"source\":{\"id\":\"12154\",\"type\":\"ColumnDataSource\"}},\"id\":\"12158\",\"type\":\"CDSView\"},{\"attributes\":{\"line_color\":\"#FA1857\",\"line_width\":2,\"x\":{\"field\":\"x\"},\"y\":{\"field\":\"y\"}},\"id\":\"12137\",\"type\":\"Line\"},{\"attributes\":{},\"id\":\"12167\",\"type\":\"UnionRenderers\"},{\"attributes\":{\"overlay\":{\"id\":\"12146\",\"type\":\"BoxAnnotation\"}},\"id\":\"12125\",\"type\":\"BoxZoomTool\"},{\"attributes\":{\"callback\":null,\"data\":{\"x\":[\"2000\",\"2001\",\"2002\",\"2003\",\"2004\",\"2005\",\"2006\",\"2007\",\"2008\",\"2009\",\"2010\",\"2011\",\"2012\",\"2013\",\"2014\",\"2015\",\"2016\",\"2017\"],\"y\":[33.370051835559885,29.57702548330176,33.388901341061164,33.789125730263024,27.622887569846355,27.43513871906223,23.322003949314283,23.173937290806006,22.087389072731586,21.87034331925848,21.56849553016734,25.1902973461321,21.23626220970231,24.160800450151424,24.012498654781346,24.564505025797747,25.205451210762366,24.27522883303202]},\"selected\":{\"id\":\"12555\",\"type\":\"Selection\"},\"selection_policy\":{\"id\":\"12556\",\"type\":\"UnionRenderers\"}},\"id\":\"12154\",\"type\":\"ColumnDataSource\"},{\"attributes\":{},\"id\":\"12127\",\"type\":\"ResetTool\"},{\"attributes\":{\"line_alpha\":0.1,\"line_color\":\"#1f77b4\",\"line_width\":2,\"x\":{\"field\":\"x\"},\"y\":{\"field\":\"y\"}},\"id\":\"12156\",\"type\":\"Line\"},{\"attributes\":{\"ticker\":{\"id\":\"12114\",\"type\":\"BasicTicker\"}},\"id\":\"12117\",\"type\":\"Grid\"},{\"attributes\":{},\"id\":\"12126\",\"type\":\"SaveTool\"},{\"attributes\":{\"line_color\":\"#5430F1\",\"line_width\":2,\"x\":{\"field\":\"x\"},\"y\":{\"field\":\"y\"}},\"id\":\"12155\",\"type\":\"Line\"},{\"attributes\":{},\"id\":\"12557\",\"type\":\"Selection\"},{\"attributes\":{},\"id\":\"12166\",\"type\":\"Selection\"},{\"attributes\":{\"callback\":null},\"id\":\"12105\",\"type\":\"DataRange1d\"},{\"attributes\":{\"callback\":null,\"data\":{\"x\":[\"2000\",\"2001\",\"2002\",\"2003\",\"2004\",\"2005\",\"2006\",\"2007\",\"2008\",\"2009\",\"2010\",\"2011\",\"2012\",\"2013\",\"2014\",\"2015\",\"2016\",\"2017\"],\"y\":[51.520903177485685,46.52493990984674,45.72529764000698,47.0523349681254,48.04905957142995,48.073273979200536,46.88345337680238,45.37851355945308,47.5713037782683,46.94420318527923,44.98718519250169,45.977667340832,43.49825989518141,43.05048551129662,40.19878876980604,41.85413035115011,38.496722137935755,38.768702276413286]},\"selected\":{\"id\":\"12164\",\"type\":\"Selection\"},\"selection_policy\":{\"id\":\"12165\",\"type\":\"UnionRenderers\"}},\"id\":\"12136\",\"type\":\"ColumnDataSource\"},{\"attributes\":{},\"id\":\"12111\",\"type\":\"LinearScale\"},{\"attributes\":{\"fill_alpha\":{\"value\":0.1},\"fill_color\":{\"value\":\"#1f77b4\"},\"line_alpha\":{\"value\":0.1},\"line_color\":{\"value\":\"#1f77b4\"},\"line_width\":{\"value\":3},\"x\":{\"field\":\"x\"},\"y\":{\"field\":\"y\"}},\"id\":\"12151\",\"type\":\"Circle\"},{\"attributes\":{},\"id\":\"12124\",\"type\":\"WheelZoomTool\"},{\"attributes\":{\"axis_label\":\"Years\",\"formatter\":{\"id\":\"12143\",\"type\":\"BasicTickFormatter\"},\"ticker\":{\"id\":\"12114\",\"type\":\"BasicTicker\"}},\"id\":\"12113\",\"type\":\"LinearAxis\"},{\"attributes\":{\"source\":{\"id\":\"12149\",\"type\":\"ColumnDataSource\"}},\"id\":\"12153\",\"type\":\"CDSView\"},{\"attributes\":{},\"id\":\"12558\",\"type\":\"UnionRenderers\"},{\"attributes\":{},\"id\":\"12123\",\"type\":\"PanTool\"},{\"attributes\":{\"data_source\":{\"id\":\"12149\",\"type\":\"ColumnDataSource\"},\"glyph\":{\"id\":\"12150\",\"type\":\"Circle\"},\"hover_glyph\":null,\"muted_glyph\":null,\"nonselection_glyph\":{\"id\":\"12151\",\"type\":\"Circle\"},\"selection_glyph\":null,\"view\":{\"id\":\"12153\",\"type\":\"CDSView\"}},\"id\":\"12152\",\"type\":\"GlyphRenderer\"},{\"attributes\":{},\"id\":\"12114\",\"type\":\"BasicTicker\"},{\"attributes\":{\"dimension\":1,\"ticker\":{\"id\":\"12119\",\"type\":\"BasicTicker\"}},\"id\":\"12122\",\"type\":\"Grid\"},{\"attributes\":{\"label\":{\"value\":\"LDCs\"},\"renderers\":[{\"id\":\"12139\",\"type\":\"GlyphRenderer\"}]},\"id\":\"12148\",\"type\":\"LegendItem\"},{\"attributes\":{\"callback\":null},\"id\":\"12107\",\"type\":\"DataRange1d\"},{\"attributes\":{\"fill_color\":{\"value\":\"#FA1857\"},\"line_color\":{\"value\":\"#FA1857\"},\"line_width\":{\"value\":3},\"x\":{\"field\":\"x\"},\"y\":{\"field\":\"y\"}},\"id\":\"12150\",\"type\":\"Circle\"},{\"attributes\":{},\"id\":\"12555\",\"type\":\"Selection\"},{\"attributes\":{},\"id\":\"12109\",\"type\":\"LinearScale\"},{\"attributes\":{\"callback\":null,\"data\":{\"x\":[\"2000\",\"2001\",\"2002\",\"2003\",\"2004\",\"2005\",\"2006\",\"2007\",\"2008\",\"2009\",\"2010\",\"2011\",\"2012\",\"2013\",\"2014\",\"2015\",\"2016\",\"2017\"],\"y\":[51.520903177485685,46.52493990984674,45.72529764000698,47.0523349681254,48.04905957142995,48.073273979200536,46.88345337680238,45.37851355945308,47.5713037782683,46.94420318527923,44.98718519250169,45.977667340832,43.49825989518141,43.05048551129662,40.19878876980604,41.85413035115011,38.496722137935755,38.768702276413286]},\"selected\":{\"id\":\"12166\",\"type\":\"Selection\"},\"selection_policy\":{\"id\":\"12167\",\"type\":\"UnionRenderers\"}},\"id\":\"12149\",\"type\":\"ColumnDataSource\"},{\"attributes\":{\"fill_alpha\":{\"value\":0.1},\"fill_color\":{\"value\":\"#1f77b4\"},\"line_alpha\":{\"value\":0.1},\"line_color\":{\"value\":\"#1f77b4\"},\"line_width\":{\"value\":3},\"x\":{\"field\":\"x\"},\"y\":{\"field\":\"y\"}},\"id\":\"12172\",\"type\":\"Circle\"},{\"attributes\":{\"axis_label\":\"Percentage\",\"formatter\":{\"id\":\"12145\",\"type\":\"BasicTickFormatter\"},\"ticker\":{\"id\":\"12119\",\"type\":\"BasicTicker\"}},\"id\":\"12118\",\"type\":\"LinearAxis\"},{\"attributes\":{},\"id\":\"12145\",\"type\":\"BasicTickFormatter\"},{\"attributes\":{},\"id\":\"12556\",\"type\":\"UnionRenderers\"},{\"attributes\":{},\"id\":\"12119\",\"type\":\"BasicTicker\"},{\"attributes\":{\"items\":[{\"id\":\"12148\",\"type\":\"LegendItem\"},{\"id\":\"12169\",\"type\":\"LegendItem\"}],\"location\":\"bottom_left\"},\"id\":\"12147\",\"type\":\"Legend\"},{\"attributes\":{\"data_source\":{\"id\":\"12170\",\"type\":\"ColumnDataSource\"},\"glyph\":{\"id\":\"12171\",\"type\":\"Circle\"},\"hover_glyph\":null,\"muted_glyph\":null,\"nonselection_glyph\":{\"id\":\"12172\",\"type\":\"Circle\"},\"selection_glyph\":null,\"view\":{\"id\":\"12174\",\"type\":\"CDSView\"}},\"id\":\"12173\",\"type\":\"GlyphRenderer\"},{\"attributes\":{\"callback\":null,\"tooltips\":\"        \\n        <div style=padding=5px>Year:@x</div>\\n        <div style=padding=5px>Value:@y</div>\\n        \"},\"id\":\"12175\",\"type\":\"HoverTool\"},{\"attributes\":{\"bottom_units\":\"screen\",\"fill_alpha\":{\"value\":0.5},\"fill_color\":{\"value\":\"lightgrey\"},\"left_units\":\"screen\",\"level\":\"overlay\",\"line_alpha\":{\"value\":1.0},\"line_color\":{\"value\":\"black\"},\"line_dash\":[4,4],\"line_width\":{\"value\":2},\"render_mode\":\"css\",\"right_units\":\"screen\",\"top_units\":\"screen\"},\"id\":\"12146\",\"type\":\"BoxAnnotation\"},{\"attributes\":{\"callback\":null,\"data\":{\"x\":[\"2000\",\"2001\",\"2002\",\"2003\",\"2004\",\"2005\",\"2006\",\"2007\",\"2008\",\"2009\",\"2010\",\"2011\",\"2012\",\"2013\",\"2014\",\"2015\",\"2016\",\"2017\"],\"y\":[33.370051835559885,29.57702548330176,33.388901341061164,33.789125730263024,27.622887569846355,27.43513871906223,23.322003949314283,23.173937290806006,22.087389072731586,21.87034331925848,21.56849553016734,25.1902973461321,21.23626220970231,24.160800450151424,24.012498654781346,24.564505025797747,25.205451210762366,24.27522883303202]},\"selected\":{\"id\":\"12557\",\"type\":\"Selection\"},\"selection_policy\":{\"id\":\"12558\",\"type\":\"UnionRenderers\"}},\"id\":\"12170\",\"type\":\"ColumnDataSource\"},{\"attributes\":{\"text\":\"Pupil-teacher ratio, primary weighted against Population, total\"},\"id\":\"12103\",\"type\":\"Title\"},{\"attributes\":{\"source\":{\"id\":\"12136\",\"type\":\"ColumnDataSource\"}},\"id\":\"12140\",\"type\":\"CDSView\"},{\"attributes\":{\"data_source\":{\"id\":\"12136\",\"type\":\"ColumnDataSource\"},\"glyph\":{\"id\":\"12137\",\"type\":\"Line\"},\"hover_glyph\":null,\"muted_glyph\":null,\"nonselection_glyph\":{\"id\":\"12138\",\"type\":\"Line\"},\"selection_glyph\":null,\"view\":{\"id\":\"12140\",\"type\":\"CDSView\"}},\"id\":\"12139\",\"type\":\"GlyphRenderer\"},{\"attributes\":{\"source\":{\"id\":\"12170\",\"type\":\"ColumnDataSource\"}},\"id\":\"12174\",\"type\":\"CDSView\"},{\"attributes\":{\"fill_color\":{\"value\":\"#5430F1\"},\"line_color\":{\"value\":\"#5430F1\"},\"line_width\":{\"value\":3},\"x\":{\"field\":\"x\"},\"y\":{\"field\":\"y\"}},\"id\":\"12171\",\"type\":\"Circle\"},{\"attributes\":{},\"id\":\"12143\",\"type\":\"BasicTickFormatter\"}],\"root_ids\":[\"12102\"]},\"title\":\"Bokeh Application\",\"version\":\"1.3.4\"}};\n",
       "  var render_items = [{\"docid\":\"dad8246a-fc1d-4592-9cae-a4b001c89bf4\",\"roots\":{\"12102\":\"fb8313c6-8da1-4ca6-9f63-69d5983c193e\"}}];\n",
       "  root.Bokeh.embed.embed_items_notebook(docs_json, render_items);\n",
       "\n",
       "  }\n",
       "  if (root.Bokeh !== undefined) {\n",
       "    embed_document(root);\n",
       "  } else {\n",
       "    var attempts = 0;\n",
       "    var timer = setInterval(function(root) {\n",
       "      if (root.Bokeh !== undefined) {\n",
       "        embed_document(root);\n",
       "        clearInterval(timer);\n",
       "      }\n",
       "      attempts++;\n",
       "      if (attempts > 100) {\n",
       "        console.log(\"Bokeh: ERROR: Unable to run BokehJS code because BokehJS library is missing\");\n",
       "        clearInterval(timer);\n",
       "      }\n",
       "    }, 10, root)\n",
       "  }\n",
       "})(window);"
      ],
      "application/vnd.bokehjs_exec.v0+json": ""
     },
     "metadata": {
      "application/vnd.bokehjs_exec.v0+json": {
       "id": "12102"
      }
     },
     "output_type": "display_data"
    }
   ],
   "source": [
    "# Pupil teacher ration\n",
    "years = list(map(str, list(range(2000,2018))))\n",
    "result = show_weighted_average(years, 'SE.PRM.ENRL.TC.ZS', 'SP.POP.TOTL', \n",
    "                               ['LDCs', 'Developing excluding LDCs'])"
   ]
  },
  {
   "cell_type": "code",
   "execution_count": 16,
   "metadata": {
    "ExecuteTime": {
     "end_time": "2019-10-23T20:56:11.233143Z",
     "start_time": "2019-10-23T20:55:54.526618Z"
    },
    "slideshow": {
     "slide_type": "slide"
    }
   },
   "outputs": [
    {
     "data": {
      "text/html": [
       "\n",
       "\n",
       "\n",
       "\n",
       "\n",
       "\n",
       "  <div class=\"bk-root\" id=\"aa125728-17c0-4d84-83f0-31e0ff66e9fd\" data-root-id=\"12644\"></div>\n"
      ]
     },
     "metadata": {},
     "output_type": "display_data"
    },
    {
     "data": {
      "application/javascript": [
       "(function(root) {\n",
       "  function embed_document(root) {\n",
       "    \n",
       "  var docs_json = {\"a05457c8-7e2e-439b-9018-386279704c7c\":{\"roots\":{\"references\":[{\"attributes\":{\"below\":[{\"id\":\"12655\",\"type\":\"LinearAxis\"}],\"center\":[{\"id\":\"12659\",\"type\":\"Grid\"},{\"id\":\"12664\",\"type\":\"Grid\"},{\"id\":\"12689\",\"type\":\"Legend\"}],\"left\":[{\"id\":\"12660\",\"type\":\"LinearAxis\"}],\"plot_height\":400,\"plot_width\":950,\"renderers\":[{\"id\":\"12681\",\"type\":\"GlyphRenderer\"},{\"id\":\"12694\",\"type\":\"GlyphRenderer\"},{\"id\":\"12699\",\"type\":\"GlyphRenderer\"},{\"id\":\"12715\",\"type\":\"GlyphRenderer\"},{\"id\":\"12720\",\"type\":\"GlyphRenderer\"},{\"id\":\"12740\",\"type\":\"GlyphRenderer\"}],\"title\":{\"id\":\"12645\",\"type\":\"Title\"},\"toolbar\":{\"id\":\"12671\",\"type\":\"Toolbar\"},\"x_range\":{\"id\":\"12647\",\"type\":\"DataRange1d\"},\"x_scale\":{\"id\":\"12651\",\"type\":\"LinearScale\"},\"y_range\":{\"id\":\"12649\",\"type\":\"DataRange1d\"},\"y_scale\":{\"id\":\"12653\",\"type\":\"LinearScale\"}},\"id\":\"12644\",\"subtype\":\"Figure\",\"type\":\"Plot\"},{\"attributes\":{},\"id\":\"13142\",\"type\":\"Selection\"},{\"attributes\":{},\"id\":\"12651\",\"type\":\"LinearScale\"},{\"attributes\":{},\"id\":\"12656\",\"type\":\"BasicTicker\"},{\"attributes\":{\"line_color\":\"#2CC775\",\"line_width\":2,\"x\":{\"field\":\"x\"},\"y\":{\"field\":\"y\"}},\"id\":\"12718\",\"type\":\"Line\"},{\"attributes\":{\"text\":\"Life expectancy at birth, total (years) weighted against Population, total\"},\"id\":\"12645\",\"type\":\"Title\"},{\"attributes\":{\"source\":{\"id\":\"12737\",\"type\":\"ColumnDataSource\"}},\"id\":\"12741\",\"type\":\"CDSView\"},{\"attributes\":{\"label\":{\"value\":\"LDCs\"},\"renderers\":[{\"id\":\"12681\",\"type\":\"GlyphRenderer\"}]},\"id\":\"12690\",\"type\":\"LegendItem\"},{\"attributes\":{\"callback\":null,\"tooltips\":\"        \\n        <div style=padding=5px>Year:@x</div>\\n        <div style=padding=5px>Value:@y</div>\\n        \"},\"id\":\"12742\",\"type\":\"HoverTool\"},{\"attributes\":{\"fill_color\":{\"value\":\"#5430F1\"},\"line_color\":{\"value\":\"#5430F1\"},\"line_width\":{\"value\":3},\"x\":{\"field\":\"x\"},\"y\":{\"field\":\"y\"}},\"id\":\"12713\",\"type\":\"Circle\"},{\"attributes\":{},\"id\":\"13140\",\"type\":\"Selection\"},{\"attributes\":{},\"id\":\"12665\",\"type\":\"PanTool\"},{\"attributes\":{\"items\":[{\"id\":\"12690\",\"type\":\"LegendItem\"},{\"id\":\"12711\",\"type\":\"LegendItem\"},{\"id\":\"12736\",\"type\":\"LegendItem\"}],\"location\":\"bottom_left\"},\"id\":\"12689\",\"type\":\"Legend\"},{\"attributes\":{\"axis_label\":\"Years\",\"formatter\":{\"id\":\"12685\",\"type\":\"BasicTickFormatter\"},\"ticker\":{\"id\":\"12656\",\"type\":\"BasicTicker\"}},\"id\":\"12655\",\"type\":\"LinearAxis\"},{\"attributes\":{\"fill_alpha\":{\"value\":0.1},\"fill_color\":{\"value\":\"#1f77b4\"},\"line_alpha\":{\"value\":0.1},\"line_color\":{\"value\":\"#1f77b4\"},\"line_width\":{\"value\":3},\"x\":{\"field\":\"x\"},\"y\":{\"field\":\"y\"}},\"id\":\"12714\",\"type\":\"Circle\"},{\"attributes\":{\"callback\":null},\"id\":\"12649\",\"type\":\"DataRange1d\"},{\"attributes\":{\"callback\":null,\"data\":{\"x\":[\"2000\",\"2001\",\"2002\",\"2003\",\"2004\",\"2005\",\"2006\",\"2007\",\"2008\",\"2009\",\"2010\",\"2011\",\"2012\",\"2013\",\"2014\",\"2015\",\"2016\",\"2017\"],\"y\":[55.47978614999483,55.975732696938344,56.50274815798361,57.06108266122101,57.646781535993426,58.25570477828153,58.88310509569853,59.52027856066717,60.15664526899239,60.78301466742689,61.388933701289815,61.967425120830384,62.51265697725478,63.02794492847264,63.50655894613865,63.94522390318217,64.34308028696678,64.70484741974481]},\"selected\":{\"id\":\"12708\",\"type\":\"Selection\"},\"selection_policy\":{\"id\":\"12709\",\"type\":\"UnionRenderers\"}},\"id\":\"12691\",\"type\":\"ColumnDataSource\"},{\"attributes\":{\"data_source\":{\"id\":\"12712\",\"type\":\"ColumnDataSource\"},\"glyph\":{\"id\":\"12713\",\"type\":\"Circle\"},\"hover_glyph\":null,\"muted_glyph\":null,\"nonselection_glyph\":{\"id\":\"12714\",\"type\":\"Circle\"},\"selection_glyph\":null,\"view\":{\"id\":\"12716\",\"type\":\"CDSView\"}},\"id\":\"12715\",\"type\":\"GlyphRenderer\"},{\"attributes\":{\"source\":{\"id\":\"12712\",\"type\":\"ColumnDataSource\"}},\"id\":\"12716\",\"type\":\"CDSView\"},{\"attributes\":{\"fill_alpha\":{\"value\":0.1},\"fill_color\":{\"value\":\"#1f77b4\"},\"line_alpha\":{\"value\":0.1},\"line_color\":{\"value\":\"#1f77b4\"},\"line_width\":{\"value\":3},\"x\":{\"field\":\"x\"},\"y\":{\"field\":\"y\"}},\"id\":\"12739\",\"type\":\"Circle\"},{\"attributes\":{},\"id\":\"12687\",\"type\":\"BasicTickFormatter\"},{\"attributes\":{\"callback\":null},\"id\":\"12647\",\"type\":\"DataRange1d\"},{\"attributes\":{},\"id\":\"12653\",\"type\":\"LinearScale\"},{\"attributes\":{\"fill_color\":{\"value\":\"#2CC775\"},\"line_color\":{\"value\":\"#2CC775\"},\"line_width\":{\"value\":3},\"x\":{\"field\":\"x\"},\"y\":{\"field\":\"y\"}},\"id\":\"12738\",\"type\":\"Circle\"},{\"attributes\":{\"data_source\":{\"id\":\"12737\",\"type\":\"ColumnDataSource\"},\"glyph\":{\"id\":\"12738\",\"type\":\"Circle\"},\"hover_glyph\":null,\"muted_glyph\":null,\"nonselection_glyph\":{\"id\":\"12739\",\"type\":\"Circle\"},\"selection_glyph\":null,\"view\":{\"id\":\"12741\",\"type\":\"CDSView\"}},\"id\":\"12740\",\"type\":\"GlyphRenderer\"},{\"attributes\":{},\"id\":\"12709\",\"type\":\"UnionRenderers\"},{\"attributes\":{},\"id\":\"12685\",\"type\":\"BasicTickFormatter\"},{\"attributes\":{\"line_color\":\"#FA1857\",\"line_width\":2,\"x\":{\"field\":\"x\"},\"y\":{\"field\":\"y\"}},\"id\":\"12679\",\"type\":\"Line\"},{\"attributes\":{\"label\":{\"value\":\"Developing excluding LDCs\"},\"renderers\":[{\"id\":\"12699\",\"type\":\"GlyphRenderer\"}]},\"id\":\"12711\",\"type\":\"LegendItem\"},{\"attributes\":{\"bottom_units\":\"screen\",\"fill_alpha\":{\"value\":0.5},\"fill_color\":{\"value\":\"lightgrey\"},\"left_units\":\"screen\",\"level\":\"overlay\",\"line_alpha\":{\"value\":1.0},\"line_color\":{\"value\":\"black\"},\"line_dash\":[4,4],\"line_width\":{\"value\":2},\"render_mode\":\"css\",\"right_units\":\"screen\",\"top_units\":\"screen\"},\"id\":\"12688\",\"type\":\"BoxAnnotation\"},{\"attributes\":{\"callback\":null,\"data\":{\"x\":[\"2000\",\"2001\",\"2002\",\"2003\",\"2004\",\"2005\",\"2006\",\"2007\",\"2008\",\"2009\",\"2010\",\"2011\",\"2012\",\"2013\",\"2014\",\"2015\",\"2016\",\"2017\"],\"y\":[66.81116952985124,67.10136064960203,67.39534765279303,67.69191534513566,67.99394689200506,68.30220457476779,68.61903869781979,68.94325513186014,69.27457578712584,69.61247702715436,69.94342523785205,70.27284035315787,70.59362275978874,70.9030130494035,71.1981897682081,71.47010803591232,71.72046744475756,71.9516686920634]},\"selected\":{\"id\":\"12733\",\"type\":\"Selection\"},\"selection_policy\":{\"id\":\"12734\",\"type\":\"UnionRenderers\"}},\"id\":\"12712\",\"type\":\"ColumnDataSource\"},{\"attributes\":{\"callback\":null,\"data\":{\"x\":[\"2000\",\"2001\",\"2002\",\"2003\",\"2004\",\"2005\",\"2006\",\"2007\",\"2008\",\"2009\",\"2010\",\"2011\",\"2012\",\"2013\",\"2014\",\"2015\",\"2016\",\"2017\"],\"y\":[77.07712560169232,77.38833297513385,77.54776037882743,77.69654179560608,78.09938587502181,78.21736324644525,78.50714525876474,78.73135260844114,78.87486015871855,79.13132827194039,79.3009215024766,79.53231619249463,79.64498856482149,79.80818222814423,80.05654259453199,79.94678663973315,80.09864354689779,80.15042257303583]},\"selected\":{\"id\":\"13142\",\"type\":\"Selection\"},\"selection_policy\":{\"id\":\"13143\",\"type\":\"UnionRenderers\"}},\"id\":\"12737\",\"type\":\"ColumnDataSource\"},{\"attributes\":{\"line_alpha\":0.1,\"line_color\":\"#1f77b4\",\"line_width\":2,\"x\":{\"field\":\"x\"},\"y\":{\"field\":\"y\"}},\"id\":\"12680\",\"type\":\"Line\"},{\"attributes\":{\"data_source\":{\"id\":\"12678\",\"type\":\"ColumnDataSource\"},\"glyph\":{\"id\":\"12679\",\"type\":\"Line\"},\"hover_glyph\":null,\"muted_glyph\":null,\"nonselection_glyph\":{\"id\":\"12680\",\"type\":\"Line\"},\"selection_glyph\":null,\"view\":{\"id\":\"12682\",\"type\":\"CDSView\"}},\"id\":\"12681\",\"type\":\"GlyphRenderer\"},{\"attributes\":{},\"id\":\"12706\",\"type\":\"Selection\"},{\"attributes\":{},\"id\":\"12734\",\"type\":\"UnionRenderers\"},{\"attributes\":{},\"id\":\"12707\",\"type\":\"UnionRenderers\"},{\"attributes\":{\"label\":{\"value\":\"OECD\"},\"renderers\":[{\"id\":\"12720\",\"type\":\"GlyphRenderer\"}]},\"id\":\"12736\",\"type\":\"LegendItem\"},{\"attributes\":{\"source\":{\"id\":\"12678\",\"type\":\"ColumnDataSource\"}},\"id\":\"12682\",\"type\":\"CDSView\"},{\"attributes\":{},\"id\":\"12669\",\"type\":\"ResetTool\"},{\"attributes\":{},\"id\":\"12708\",\"type\":\"Selection\"},{\"attributes\":{\"dimension\":1,\"ticker\":{\"id\":\"12661\",\"type\":\"BasicTicker\"}},\"id\":\"12664\",\"type\":\"Grid\"},{\"attributes\":{\"line_alpha\":0.1,\"line_color\":\"#1f77b4\",\"line_width\":2,\"x\":{\"field\":\"x\"},\"y\":{\"field\":\"y\"}},\"id\":\"12698\",\"type\":\"Line\"},{\"attributes\":{},\"id\":\"12670\",\"type\":\"HelpTool\"},{\"attributes\":{},\"id\":\"12731\",\"type\":\"Selection\"},{\"attributes\":{\"data_source\":{\"id\":\"12696\",\"type\":\"ColumnDataSource\"},\"glyph\":{\"id\":\"12697\",\"type\":\"Line\"},\"hover_glyph\":null,\"muted_glyph\":null,\"nonselection_glyph\":{\"id\":\"12698\",\"type\":\"Line\"},\"selection_glyph\":null,\"view\":{\"id\":\"12700\",\"type\":\"CDSView\"}},\"id\":\"12699\",\"type\":\"GlyphRenderer\"},{\"attributes\":{\"active_drag\":\"auto\",\"active_inspect\":\"auto\",\"active_multi\":null,\"active_scroll\":\"auto\",\"active_tap\":\"auto\",\"tools\":[{\"id\":\"12665\",\"type\":\"PanTool\"},{\"id\":\"12666\",\"type\":\"WheelZoomTool\"},{\"id\":\"12667\",\"type\":\"BoxZoomTool\"},{\"id\":\"12668\",\"type\":\"SaveTool\"},{\"id\":\"12669\",\"type\":\"ResetTool\"},{\"id\":\"12670\",\"type\":\"HelpTool\"},{\"id\":\"12742\",\"type\":\"HoverTool\"}]},\"id\":\"12671\",\"type\":\"Toolbar\"},{\"attributes\":{},\"id\":\"12661\",\"type\":\"BasicTicker\"},{\"attributes\":{},\"id\":\"12732\",\"type\":\"UnionRenderers\"},{\"attributes\":{\"source\":{\"id\":\"12696\",\"type\":\"ColumnDataSource\"}},\"id\":\"12700\",\"type\":\"CDSView\"},{\"attributes\":{},\"id\":\"12666\",\"type\":\"WheelZoomTool\"},{\"attributes\":{},\"id\":\"12733\",\"type\":\"Selection\"},{\"attributes\":{\"source\":{\"id\":\"12691\",\"type\":\"ColumnDataSource\"}},\"id\":\"12695\",\"type\":\"CDSView\"},{\"attributes\":{\"overlay\":{\"id\":\"12688\",\"type\":\"BoxAnnotation\"}},\"id\":\"12667\",\"type\":\"BoxZoomTool\"},{\"attributes\":{\"axis_label\":\"Percentage\",\"formatter\":{\"id\":\"12687\",\"type\":\"BasicTickFormatter\"},\"ticker\":{\"id\":\"12661\",\"type\":\"BasicTicker\"}},\"id\":\"12660\",\"type\":\"LinearAxis\"},{\"attributes\":{\"line_alpha\":0.1,\"line_color\":\"#1f77b4\",\"line_width\":2,\"x\":{\"field\":\"x\"},\"y\":{\"field\":\"y\"}},\"id\":\"12719\",\"type\":\"Line\"},{\"attributes\":{\"callback\":null,\"data\":{\"x\":[\"2000\",\"2001\",\"2002\",\"2003\",\"2004\",\"2005\",\"2006\",\"2007\",\"2008\",\"2009\",\"2010\",\"2011\",\"2012\",\"2013\",\"2014\",\"2015\",\"2016\",\"2017\"],\"y\":[66.81116952985124,67.10136064960203,67.39534765279303,67.69191534513566,67.99394689200506,68.30220457476779,68.61903869781979,68.94325513186014,69.27457578712584,69.61247702715436,69.94342523785205,70.27284035315787,70.59362275978874,70.9030130494035,71.1981897682081,71.47010803591232,71.72046744475756,71.9516686920634]},\"selected\":{\"id\":\"12731\",\"type\":\"Selection\"},\"selection_policy\":{\"id\":\"12732\",\"type\":\"UnionRenderers\"}},\"id\":\"12696\",\"type\":\"ColumnDataSource\"},{\"attributes\":{},\"id\":\"12668\",\"type\":\"SaveTool\"},{\"attributes\":{\"data_source\":{\"id\":\"12717\",\"type\":\"ColumnDataSource\"},\"glyph\":{\"id\":\"12718\",\"type\":\"Line\"},\"hover_glyph\":null,\"muted_glyph\":null,\"nonselection_glyph\":{\"id\":\"12719\",\"type\":\"Line\"},\"selection_glyph\":null,\"view\":{\"id\":\"12721\",\"type\":\"CDSView\"}},\"id\":\"12720\",\"type\":\"GlyphRenderer\"},{\"attributes\":{\"fill_color\":{\"value\":\"#FA1857\"},\"line_color\":{\"value\":\"#FA1857\"},\"line_width\":{\"value\":3},\"x\":{\"field\":\"x\"},\"y\":{\"field\":\"y\"}},\"id\":\"12692\",\"type\":\"Circle\"},{\"attributes\":{\"line_color\":\"#5430F1\",\"line_width\":2,\"x\":{\"field\":\"x\"},\"y\":{\"field\":\"y\"}},\"id\":\"12697\",\"type\":\"Line\"},{\"attributes\":{\"fill_alpha\":{\"value\":0.1},\"fill_color\":{\"value\":\"#1f77b4\"},\"line_alpha\":{\"value\":0.1},\"line_color\":{\"value\":\"#1f77b4\"},\"line_width\":{\"value\":3},\"x\":{\"field\":\"x\"},\"y\":{\"field\":\"y\"}},\"id\":\"12693\",\"type\":\"Circle\"},{\"attributes\":{\"source\":{\"id\":\"12717\",\"type\":\"ColumnDataSource\"}},\"id\":\"12721\",\"type\":\"CDSView\"},{\"attributes\":{},\"id\":\"13141\",\"type\":\"UnionRenderers\"},{\"attributes\":{\"ticker\":{\"id\":\"12656\",\"type\":\"BasicTicker\"}},\"id\":\"12659\",\"type\":\"Grid\"},{\"attributes\":{\"data_source\":{\"id\":\"12691\",\"type\":\"ColumnDataSource\"},\"glyph\":{\"id\":\"12692\",\"type\":\"Circle\"},\"hover_glyph\":null,\"muted_glyph\":null,\"nonselection_glyph\":{\"id\":\"12693\",\"type\":\"Circle\"},\"selection_glyph\":null,\"view\":{\"id\":\"12695\",\"type\":\"CDSView\"}},\"id\":\"12694\",\"type\":\"GlyphRenderer\"},{\"attributes\":{},\"id\":\"13143\",\"type\":\"UnionRenderers\"},{\"attributes\":{\"callback\":null,\"data\":{\"x\":[\"2000\",\"2001\",\"2002\",\"2003\",\"2004\",\"2005\",\"2006\",\"2007\",\"2008\",\"2009\",\"2010\",\"2011\",\"2012\",\"2013\",\"2014\",\"2015\",\"2016\",\"2017\"],\"y\":[55.47978614999483,55.975732696938344,56.50274815798361,57.06108266122101,57.646781535993426,58.25570477828153,58.88310509569853,59.52027856066717,60.15664526899239,60.78301466742689,61.388933701289815,61.967425120830384,62.51265697725478,63.02794492847264,63.50655894613865,63.94522390318217,64.34308028696678,64.70484741974481]},\"selected\":{\"id\":\"12706\",\"type\":\"Selection\"},\"selection_policy\":{\"id\":\"12707\",\"type\":\"UnionRenderers\"}},\"id\":\"12678\",\"type\":\"ColumnDataSource\"},{\"attributes\":{\"callback\":null,\"data\":{\"x\":[\"2000\",\"2001\",\"2002\",\"2003\",\"2004\",\"2005\",\"2006\",\"2007\",\"2008\",\"2009\",\"2010\",\"2011\",\"2012\",\"2013\",\"2014\",\"2015\",\"2016\",\"2017\"],\"y\":[77.07712560169232,77.38833297513385,77.54776037882743,77.69654179560608,78.09938587502181,78.21736324644525,78.50714525876474,78.73135260844114,78.87486015871855,79.13132827194039,79.3009215024766,79.53231619249463,79.64498856482149,79.80818222814423,80.05654259453199,79.94678663973315,80.09864354689779,80.15042257303583]},\"selected\":{\"id\":\"13140\",\"type\":\"Selection\"},\"selection_policy\":{\"id\":\"13141\",\"type\":\"UnionRenderers\"}},\"id\":\"12717\",\"type\":\"ColumnDataSource\"}],\"root_ids\":[\"12644\"]},\"title\":\"Bokeh Application\",\"version\":\"1.3.4\"}};\n",
       "  var render_items = [{\"docid\":\"a05457c8-7e2e-439b-9018-386279704c7c\",\"roots\":{\"12644\":\"aa125728-17c0-4d84-83f0-31e0ff66e9fd\"}}];\n",
       "  root.Bokeh.embed.embed_items_notebook(docs_json, render_items);\n",
       "\n",
       "  }\n",
       "  if (root.Bokeh !== undefined) {\n",
       "    embed_document(root);\n",
       "  } else {\n",
       "    var attempts = 0;\n",
       "    var timer = setInterval(function(root) {\n",
       "      if (root.Bokeh !== undefined) {\n",
       "        embed_document(root);\n",
       "        clearInterval(timer);\n",
       "      }\n",
       "      attempts++;\n",
       "      if (attempts > 100) {\n",
       "        console.log(\"Bokeh: ERROR: Unable to run BokehJS code because BokehJS library is missing\");\n",
       "        clearInterval(timer);\n",
       "      }\n",
       "    }, 10, root)\n",
       "  }\n",
       "})(window);"
      ],
      "application/vnd.bokehjs_exec.v0+json": ""
     },
     "metadata": {
      "application/vnd.bokehjs_exec.v0+json": {
       "id": "12644"
      }
     },
     "output_type": "display_data"
    }
   ],
   "source": [
    "# Life expectancy\n",
    "years = list(map(str, list(range(2000,2018))))\n",
    "result = show_weighted_average(years, 'SP.DYN.LE00.IN', 'SP.POP.TOTL', \n",
    "                               ['LDCs', 'Developing excluding LDCs', 'OECD'])"
   ]
  },
  {
   "cell_type": "code",
   "execution_count": 17,
   "metadata": {
    "ExecuteTime": {
     "end_time": "2019-10-23T20:56:27.422086Z",
     "start_time": "2019-10-23T20:56:11.235489Z"
    },
    "slideshow": {
     "slide_type": "slide"
    }
   },
   "outputs": [
    {
     "data": {
      "text/html": [
       "\n",
       "\n",
       "\n",
       "\n",
       "\n",
       "\n",
       "  <div class=\"bk-root\" id=\"d44237ae-c241-4ea3-b00a-4710f8b34416\" data-root-id=\"13253\"></div>\n"
      ]
     },
     "metadata": {},
     "output_type": "display_data"
    },
    {
     "data": {
      "application/javascript": [
       "(function(root) {\n",
       "  function embed_document(root) {\n",
       "    \n",
       "  var docs_json = {\"368e84f4-0501-45d4-a2e1-a3a495549c84\":{\"roots\":{\"references\":[{\"attributes\":{\"below\":[{\"id\":\"13264\",\"type\":\"LinearAxis\"}],\"center\":[{\"id\":\"13268\",\"type\":\"Grid\"},{\"id\":\"13273\",\"type\":\"Grid\"},{\"id\":\"13298\",\"type\":\"Legend\"}],\"left\":[{\"id\":\"13269\",\"type\":\"LinearAxis\"}],\"plot_height\":400,\"plot_width\":950,\"renderers\":[{\"id\":\"13290\",\"type\":\"GlyphRenderer\"},{\"id\":\"13303\",\"type\":\"GlyphRenderer\"},{\"id\":\"13308\",\"type\":\"GlyphRenderer\"},{\"id\":\"13324\",\"type\":\"GlyphRenderer\"},{\"id\":\"13329\",\"type\":\"GlyphRenderer\"},{\"id\":\"13349\",\"type\":\"GlyphRenderer\"}],\"title\":{\"id\":\"13254\",\"type\":\"Title\"},\"toolbar\":{\"id\":\"13280\",\"type\":\"Toolbar\"},\"x_range\":{\"id\":\"13256\",\"type\":\"DataRange1d\"},\"x_scale\":{\"id\":\"13260\",\"type\":\"LinearScale\"},\"y_range\":{\"id\":\"13258\",\"type\":\"DataRange1d\"},\"y_scale\":{\"id\":\"13262\",\"type\":\"LinearScale\"}},\"id\":\"13253\",\"subtype\":\"Figure\",\"type\":\"Plot\"},{\"attributes\":{\"axis_label\":\"Percentage\",\"formatter\":{\"id\":\"13296\",\"type\":\"BasicTickFormatter\"},\"ticker\":{\"id\":\"13270\",\"type\":\"BasicTicker\"}},\"id\":\"13269\",\"type\":\"LinearAxis\"},{\"attributes\":{\"data_source\":{\"id\":\"13305\",\"type\":\"ColumnDataSource\"},\"glyph\":{\"id\":\"13306\",\"type\":\"Line\"},\"hover_glyph\":null,\"muted_glyph\":null,\"nonselection_glyph\":{\"id\":\"13307\",\"type\":\"Line\"},\"selection_glyph\":null,\"view\":{\"id\":\"13309\",\"type\":\"CDSView\"}},\"id\":\"13308\",\"type\":\"GlyphRenderer\"},{\"attributes\":{},\"id\":\"13340\",\"type\":\"Selection\"},{\"attributes\":{\"dimension\":1,\"ticker\":{\"id\":\"13270\",\"type\":\"BasicTicker\"}},\"id\":\"13273\",\"type\":\"Grid\"},{\"attributes\":{},\"id\":\"13342\",\"type\":\"Selection\"},{\"attributes\":{\"source\":{\"id\":\"13305\",\"type\":\"ColumnDataSource\"}},\"id\":\"13309\",\"type\":\"CDSView\"},{\"attributes\":{\"callback\":null,\"data\":{\"x\":[\"2000\",\"2001\",\"2002\",\"2003\",\"2004\",\"2005\",\"2006\",\"2007\",\"2008\",\"2009\",\"2010\",\"2011\",\"2012\",\"2013\",\"2014\",\"2015\",\"2016\",\"2017\"],\"y\":[57.034527408572266,57.53748489045903,58.07142351800209,58.640581905118836,59.242660221595216,59.87429659950075,60.53079079914172,61.19774721212408,61.87418453620832,62.54301761236867,63.19237481578384,63.81307389468363,64.39532395583093,64.94434252296352,65.45150499669222,65.91438566172573,66.33128171561334,66.70959739482211]},\"selected\":{\"id\":\"13315\",\"type\":\"Selection\"},\"selection_policy\":{\"id\":\"13316\",\"type\":\"UnionRenderers\"}},\"id\":\"13287\",\"type\":\"ColumnDataSource\"},{\"attributes\":{\"fill_color\":{\"value\":\"#2CC775\"},\"line_color\":{\"value\":\"#2CC775\"},\"line_width\":{\"value\":3},\"x\":{\"field\":\"x\"},\"y\":{\"field\":\"y\"}},\"id\":\"13347\",\"type\":\"Circle\"},{\"attributes\":{\"callback\":null,\"data\":{\"x\":[\"2000\",\"2001\",\"2002\",\"2003\",\"2004\",\"2005\",\"2006\",\"2007\",\"2008\",\"2009\",\"2010\",\"2011\",\"2012\",\"2013\",\"2014\",\"2015\",\"2016\",\"2017\"],\"y\":[79.93351879418076,80.20290658761989,80.32918832949842,80.39856940465691,80.77521328865518,80.86674990168122,81.1402038786844,81.32381241465296,81.43163205746191,81.62948962454634,81.79594928587568,82.07333933782573,82.11929566013815,82.26555024337196,82.51912432141074,82.35601028400251,82.55037747513924,82.59790657999017]},\"selected\":{\"id\":\"13769\",\"type\":\"Selection\"},\"selection_policy\":{\"id\":\"13770\",\"type\":\"UnionRenderers\"}},\"id\":\"13346\",\"type\":\"ColumnDataSource\"},{\"attributes\":{\"label\":{\"value\":\"OECD\"},\"renderers\":[{\"id\":\"13329\",\"type\":\"GlyphRenderer\"}]},\"id\":\"13345\",\"type\":\"LegendItem\"},{\"attributes\":{},\"id\":\"13316\",\"type\":\"UnionRenderers\"},{\"attributes\":{\"fill_alpha\":{\"value\":0.1},\"fill_color\":{\"value\":\"#1f77b4\"},\"line_alpha\":{\"value\":0.1},\"line_color\":{\"value\":\"#1f77b4\"},\"line_width\":{\"value\":3},\"x\":{\"field\":\"x\"},\"y\":{\"field\":\"y\"}},\"id\":\"13348\",\"type\":\"Circle\"},{\"attributes\":{},\"id\":\"13274\",\"type\":\"PanTool\"},{\"attributes\":{},\"id\":\"13343\",\"type\":\"UnionRenderers\"},{\"attributes\":{},\"id\":\"13315\",\"type\":\"Selection\"},{\"attributes\":{\"label\":{\"value\":\"LDCs\"},\"renderers\":[{\"id\":\"13290\",\"type\":\"GlyphRenderer\"}]},\"id\":\"13299\",\"type\":\"LegendItem\"},{\"attributes\":{\"callback\":null,\"tooltips\":\"        \\n        <div style=padding=5px>Year:@x</div>\\n        <div style=padding=5px>Value:@y</div>\\n        \"},\"id\":\"13351\",\"type\":\"HoverTool\"},{\"attributes\":{\"data_source\":{\"id\":\"13346\",\"type\":\"ColumnDataSource\"},\"glyph\":{\"id\":\"13347\",\"type\":\"Circle\"},\"hover_glyph\":null,\"muted_glyph\":null,\"nonselection_glyph\":{\"id\":\"13348\",\"type\":\"Circle\"},\"selection_glyph\":null,\"view\":{\"id\":\"13350\",\"type\":\"CDSView\"}},\"id\":\"13349\",\"type\":\"GlyphRenderer\"},{\"attributes\":{\"source\":{\"id\":\"13326\",\"type\":\"ColumnDataSource\"}},\"id\":\"13330\",\"type\":\"CDSView\"},{\"attributes\":{},\"id\":\"13317\",\"type\":\"Selection\"},{\"attributes\":{},\"id\":\"13275\",\"type\":\"WheelZoomTool\"},{\"attributes\":{\"label\":{\"value\":\"Developing excluding LDCs\"},\"renderers\":[{\"id\":\"13308\",\"type\":\"GlyphRenderer\"}]},\"id\":\"13320\",\"type\":\"LegendItem\"},{\"attributes\":{\"callback\":null,\"data\":{\"x\":[\"2000\",\"2001\",\"2002\",\"2003\",\"2004\",\"2005\",\"2006\",\"2007\",\"2008\",\"2009\",\"2010\",\"2011\",\"2012\",\"2013\",\"2014\",\"2015\",\"2016\",\"2017\"],\"y\":[57.034527408572266,57.53748489045903,58.07142351800209,58.640581905118836,59.242660221595216,59.87429659950075,60.53079079914172,61.19774721212408,61.87418453620832,62.54301761236867,63.19237481578384,63.81307389468363,64.39532395583093,64.94434252296352,65.45150499669222,65.91438566172573,66.33128171561334,66.70959739482211]},\"selected\":{\"id\":\"13317\",\"type\":\"Selection\"},\"selection_policy\":{\"id\":\"13318\",\"type\":\"UnionRenderers\"}},\"id\":\"13300\",\"type\":\"ColumnDataSource\"},{\"attributes\":{\"source\":{\"id\":\"13346\",\"type\":\"ColumnDataSource\"}},\"id\":\"13350\",\"type\":\"CDSView\"},{\"attributes\":{},\"id\":\"13277\",\"type\":\"SaveTool\"},{\"attributes\":{},\"id\":\"13318\",\"type\":\"UnionRenderers\"},{\"attributes\":{\"text\":\"Life expectancy at birth, female (years) weighted against Rural population\"},\"id\":\"13254\",\"type\":\"Title\"},{\"attributes\":{\"fill_color\":{\"value\":\"#FA1857\"},\"line_color\":{\"value\":\"#FA1857\"},\"line_width\":{\"value\":3},\"x\":{\"field\":\"x\"},\"y\":{\"field\":\"y\"}},\"id\":\"13301\",\"type\":\"Circle\"},{\"attributes\":{\"overlay\":{\"id\":\"13297\",\"type\":\"BoxAnnotation\"}},\"id\":\"13276\",\"type\":\"BoxZoomTool\"},{\"attributes\":{\"callback\":null,\"data\":{\"x\":[\"2000\",\"2001\",\"2002\",\"2003\",\"2004\",\"2005\",\"2006\",\"2007\",\"2008\",\"2009\",\"2010\",\"2011\",\"2012\",\"2013\",\"2014\",\"2015\",\"2016\",\"2017\"],\"y\":[67.73281154489842,67.97348032002085,68.22274061008504,68.4834570193612,68.75974387360039,69.05476389543969,69.3723836455032,69.71081830727181,70.06116455005113,70.42362476987262,70.78281631915947,71.13967644962615,71.48296705077259,71.80606471400148,72.10313283696358,72.37065053741364,72.60294771834627,72.81209975661481]},\"selected\":{\"id\":\"13342\",\"type\":\"Selection\"},\"selection_policy\":{\"id\":\"13343\",\"type\":\"UnionRenderers\"}},\"id\":\"13321\",\"type\":\"ColumnDataSource\"},{\"attributes\":{},\"id\":\"13278\",\"type\":\"ResetTool\"},{\"attributes\":{\"fill_alpha\":{\"value\":0.1},\"fill_color\":{\"value\":\"#1f77b4\"},\"line_alpha\":{\"value\":0.1},\"line_color\":{\"value\":\"#1f77b4\"},\"line_width\":{\"value\":3},\"x\":{\"field\":\"x\"},\"y\":{\"field\":\"y\"}},\"id\":\"13323\",\"type\":\"Circle\"},{\"attributes\":{\"callback\":null},\"id\":\"13256\",\"type\":\"DataRange1d\"},{\"attributes\":{\"fill_alpha\":{\"value\":0.1},\"fill_color\":{\"value\":\"#1f77b4\"},\"line_alpha\":{\"value\":0.1},\"line_color\":{\"value\":\"#1f77b4\"},\"line_width\":{\"value\":3},\"x\":{\"field\":\"x\"},\"y\":{\"field\":\"y\"}},\"id\":\"13302\",\"type\":\"Circle\"},{\"attributes\":{},\"id\":\"13767\",\"type\":\"Selection\"},{\"attributes\":{\"active_drag\":\"auto\",\"active_inspect\":\"auto\",\"active_multi\":null,\"active_scroll\":\"auto\",\"active_tap\":\"auto\",\"tools\":[{\"id\":\"13274\",\"type\":\"PanTool\"},{\"id\":\"13275\",\"type\":\"WheelZoomTool\"},{\"id\":\"13276\",\"type\":\"BoxZoomTool\"},{\"id\":\"13277\",\"type\":\"SaveTool\"},{\"id\":\"13278\",\"type\":\"ResetTool\"},{\"id\":\"13279\",\"type\":\"HelpTool\"},{\"id\":\"13351\",\"type\":\"HoverTool\"}]},\"id\":\"13280\",\"type\":\"Toolbar\"},{\"attributes\":{\"line_color\":\"#FA1857\",\"line_width\":2,\"x\":{\"field\":\"x\"},\"y\":{\"field\":\"y\"}},\"id\":\"13288\",\"type\":\"Line\"},{\"attributes\":{\"fill_color\":{\"value\":\"#5430F1\"},\"line_color\":{\"value\":\"#5430F1\"},\"line_width\":{\"value\":3},\"x\":{\"field\":\"x\"},\"y\":{\"field\":\"y\"}},\"id\":\"13322\",\"type\":\"Circle\"},{\"attributes\":{\"data_source\":{\"id\":\"13300\",\"type\":\"ColumnDataSource\"},\"glyph\":{\"id\":\"13301\",\"type\":\"Circle\"},\"hover_glyph\":null,\"muted_glyph\":null,\"nonselection_glyph\":{\"id\":\"13302\",\"type\":\"Circle\"},\"selection_glyph\":null,\"view\":{\"id\":\"13304\",\"type\":\"CDSView\"}},\"id\":\"13303\",\"type\":\"GlyphRenderer\"},{\"attributes\":{},\"id\":\"13279\",\"type\":\"HelpTool\"},{\"attributes\":{\"callback\":null},\"id\":\"13258\",\"type\":\"DataRange1d\"},{\"attributes\":{\"data_source\":{\"id\":\"13321\",\"type\":\"ColumnDataSource\"},\"glyph\":{\"id\":\"13322\",\"type\":\"Circle\"},\"hover_glyph\":null,\"muted_glyph\":null,\"nonselection_glyph\":{\"id\":\"13323\",\"type\":\"Circle\"},\"selection_glyph\":null,\"view\":{\"id\":\"13325\",\"type\":\"CDSView\"}},\"id\":\"13324\",\"type\":\"GlyphRenderer\"},{\"attributes\":{},\"id\":\"13768\",\"type\":\"UnionRenderers\"},{\"attributes\":{\"callback\":null,\"data\":{\"x\":[\"2000\",\"2001\",\"2002\",\"2003\",\"2004\",\"2005\",\"2006\",\"2007\",\"2008\",\"2009\",\"2010\",\"2011\",\"2012\",\"2013\",\"2014\",\"2015\",\"2016\",\"2017\"],\"y\":[79.93351879418076,80.20290658761989,80.32918832949842,80.39856940465691,80.77521328865518,80.86674990168122,81.1402038786844,81.32381241465296,81.43163205746191,81.62948962454634,81.79594928587568,82.07333933782573,82.11929566013815,82.26555024337196,82.51912432141074,82.35601028400251,82.55037747513924,82.59790657999017]},\"selected\":{\"id\":\"13767\",\"type\":\"Selection\"},\"selection_policy\":{\"id\":\"13768\",\"type\":\"UnionRenderers\"}},\"id\":\"13326\",\"type\":\"ColumnDataSource\"},{\"attributes\":{\"line_alpha\":0.1,\"line_color\":\"#1f77b4\",\"line_width\":2,\"x\":{\"field\":\"x\"},\"y\":{\"field\":\"y\"}},\"id\":\"13289\",\"type\":\"Line\"},{\"attributes\":{\"source\":{\"id\":\"13300\",\"type\":\"ColumnDataSource\"}},\"id\":\"13304\",\"type\":\"CDSView\"},{\"attributes\":{},\"id\":\"13260\",\"type\":\"LinearScale\"},{\"attributes\":{},\"id\":\"13769\",\"type\":\"Selection\"},{\"attributes\":{\"axis_label\":\"Years\",\"formatter\":{\"id\":\"13294\",\"type\":\"BasicTickFormatter\"},\"ticker\":{\"id\":\"13265\",\"type\":\"BasicTicker\"}},\"id\":\"13264\",\"type\":\"LinearAxis\"},{\"attributes\":{\"source\":{\"id\":\"13287\",\"type\":\"ColumnDataSource\"}},\"id\":\"13291\",\"type\":\"CDSView\"},{\"attributes\":{\"source\":{\"id\":\"13321\",\"type\":\"ColumnDataSource\"}},\"id\":\"13325\",\"type\":\"CDSView\"},{\"attributes\":{\"data_source\":{\"id\":\"13287\",\"type\":\"ColumnDataSource\"},\"glyph\":{\"id\":\"13288\",\"type\":\"Line\"},\"hover_glyph\":null,\"muted_glyph\":null,\"nonselection_glyph\":{\"id\":\"13289\",\"type\":\"Line\"},\"selection_glyph\":null,\"view\":{\"id\":\"13291\",\"type\":\"CDSView\"}},\"id\":\"13290\",\"type\":\"GlyphRenderer\"},{\"attributes\":{\"callback\":null,\"data\":{\"x\":[\"2000\",\"2001\",\"2002\",\"2003\",\"2004\",\"2005\",\"2006\",\"2007\",\"2008\",\"2009\",\"2010\",\"2011\",\"2012\",\"2013\",\"2014\",\"2015\",\"2016\",\"2017\"],\"y\":[67.73281154489842,67.97348032002085,68.22274061008504,68.4834570193612,68.75974387360039,69.05476389543969,69.3723836455032,69.71081830727181,70.06116455005113,70.42362476987262,70.78281631915947,71.13967644962615,71.48296705077259,71.80606471400148,72.10313283696358,72.37065053741364,72.60294771834627,72.81209975661481]},\"selected\":{\"id\":\"13340\",\"type\":\"Selection\"},\"selection_policy\":{\"id\":\"13341\",\"type\":\"UnionRenderers\"}},\"id\":\"13305\",\"type\":\"ColumnDataSource\"},{\"attributes\":{},\"id\":\"13262\",\"type\":\"LinearScale\"},{\"attributes\":{\"line_color\":\"#2CC775\",\"line_width\":2,\"x\":{\"field\":\"x\"},\"y\":{\"field\":\"y\"}},\"id\":\"13327\",\"type\":\"Line\"},{\"attributes\":{},\"id\":\"13770\",\"type\":\"UnionRenderers\"},{\"attributes\":{},\"id\":\"13294\",\"type\":\"BasicTickFormatter\"},{\"attributes\":{\"data_source\":{\"id\":\"13326\",\"type\":\"ColumnDataSource\"},\"glyph\":{\"id\":\"13327\",\"type\":\"Line\"},\"hover_glyph\":null,\"muted_glyph\":null,\"nonselection_glyph\":{\"id\":\"13328\",\"type\":\"Line\"},\"selection_glyph\":null,\"view\":{\"id\":\"13330\",\"type\":\"CDSView\"}},\"id\":\"13329\",\"type\":\"GlyphRenderer\"},{\"attributes\":{},\"id\":\"13265\",\"type\":\"BasicTicker\"},{\"attributes\":{\"line_color\":\"#5430F1\",\"line_width\":2,\"x\":{\"field\":\"x\"},\"y\":{\"field\":\"y\"}},\"id\":\"13306\",\"type\":\"Line\"},{\"attributes\":{\"bottom_units\":\"screen\",\"fill_alpha\":{\"value\":0.5},\"fill_color\":{\"value\":\"lightgrey\"},\"left_units\":\"screen\",\"level\":\"overlay\",\"line_alpha\":{\"value\":1.0},\"line_color\":{\"value\":\"black\"},\"line_dash\":[4,4],\"line_width\":{\"value\":2},\"render_mode\":\"css\",\"right_units\":\"screen\",\"top_units\":\"screen\"},\"id\":\"13297\",\"type\":\"BoxAnnotation\"},{\"attributes\":{\"line_alpha\":0.1,\"line_color\":\"#1f77b4\",\"line_width\":2,\"x\":{\"field\":\"x\"},\"y\":{\"field\":\"y\"}},\"id\":\"13328\",\"type\":\"Line\"},{\"attributes\":{},\"id\":\"13296\",\"type\":\"BasicTickFormatter\"},{\"attributes\":{\"line_alpha\":0.1,\"line_color\":\"#1f77b4\",\"line_width\":2,\"x\":{\"field\":\"x\"},\"y\":{\"field\":\"y\"}},\"id\":\"13307\",\"type\":\"Line\"},{\"attributes\":{\"ticker\":{\"id\":\"13265\",\"type\":\"BasicTicker\"}},\"id\":\"13268\",\"type\":\"Grid\"},{\"attributes\":{\"items\":[{\"id\":\"13299\",\"type\":\"LegendItem\"},{\"id\":\"13320\",\"type\":\"LegendItem\"},{\"id\":\"13345\",\"type\":\"LegendItem\"}],\"location\":\"bottom_left\"},\"id\":\"13298\",\"type\":\"Legend\"},{\"attributes\":{},\"id\":\"13270\",\"type\":\"BasicTicker\"},{\"attributes\":{},\"id\":\"13341\",\"type\":\"UnionRenderers\"}],\"root_ids\":[\"13253\"]},\"title\":\"Bokeh Application\",\"version\":\"1.3.4\"}};\n",
       "  var render_items = [{\"docid\":\"368e84f4-0501-45d4-a2e1-a3a495549c84\",\"roots\":{\"13253\":\"d44237ae-c241-4ea3-b00a-4710f8b34416\"}}];\n",
       "  root.Bokeh.embed.embed_items_notebook(docs_json, render_items);\n",
       "\n",
       "  }\n",
       "  if (root.Bokeh !== undefined) {\n",
       "    embed_document(root);\n",
       "  } else {\n",
       "    var attempts = 0;\n",
       "    var timer = setInterval(function(root) {\n",
       "      if (root.Bokeh !== undefined) {\n",
       "        embed_document(root);\n",
       "        clearInterval(timer);\n",
       "      }\n",
       "      attempts++;\n",
       "      if (attempts > 100) {\n",
       "        console.log(\"Bokeh: ERROR: Unable to run BokehJS code because BokehJS library is missing\");\n",
       "        clearInterval(timer);\n",
       "      }\n",
       "    }, 10, root)\n",
       "  }\n",
       "})(window);"
      ],
      "application/vnd.bokehjs_exec.v0+json": ""
     },
     "metadata": {
      "application/vnd.bokehjs_exec.v0+json": {
       "id": "13253"
      }
     },
     "output_type": "display_data"
    }
   ],
   "source": [
    "# Female life expectancy\n",
    "years = list(map(str, list(range(2000,2018))))\n",
    "result = show_weighted_average(years, 'SP.DYN.LE00.FE.IN', 'SP.RUR.TOTL', \n",
    "                               ['LDCs', 'Developing excluding LDCs', 'OECD'])"
   ]
  },
  {
   "cell_type": "code",
   "execution_count": 18,
   "metadata": {
    "ExecuteTime": {
     "end_time": "2019-10-23T20:56:43.843247Z",
     "start_time": "2019-10-23T20:56:27.424052Z"
    },
    "slideshow": {
     "slide_type": "slide"
    }
   },
   "outputs": [
    {
     "data": {
      "text/html": [
       "\n",
       "\n",
       "\n",
       "\n",
       "\n",
       "\n",
       "  <div class=\"bk-root\" id=\"d38d02cf-8429-4d90-bea1-bb9b524b4cf0\" data-root-id=\"13880\"></div>\n"
      ]
     },
     "metadata": {},
     "output_type": "display_data"
    },
    {
     "data": {
      "application/javascript": [
       "(function(root) {\n",
       "  function embed_document(root) {\n",
       "    \n",
       "  var docs_json = {\"d11c191e-bf12-42f2-946a-b7055bfcfb40\":{\"roots\":{\"references\":[{\"attributes\":{\"below\":[{\"id\":\"13891\",\"type\":\"LinearAxis\"}],\"center\":[{\"id\":\"13895\",\"type\":\"Grid\"},{\"id\":\"13900\",\"type\":\"Grid\"},{\"id\":\"13925\",\"type\":\"Legend\"}],\"left\":[{\"id\":\"13896\",\"type\":\"LinearAxis\"}],\"plot_height\":400,\"plot_width\":950,\"renderers\":[{\"id\":\"13917\",\"type\":\"GlyphRenderer\"},{\"id\":\"13930\",\"type\":\"GlyphRenderer\"},{\"id\":\"13935\",\"type\":\"GlyphRenderer\"},{\"id\":\"13951\",\"type\":\"GlyphRenderer\"},{\"id\":\"13956\",\"type\":\"GlyphRenderer\"},{\"id\":\"13976\",\"type\":\"GlyphRenderer\"}],\"title\":{\"id\":\"13881\",\"type\":\"Title\"},\"toolbar\":{\"id\":\"13907\",\"type\":\"Toolbar\"},\"x_range\":{\"id\":\"13883\",\"type\":\"DataRange1d\"},\"x_scale\":{\"id\":\"13887\",\"type\":\"LinearScale\"},\"y_range\":{\"id\":\"13885\",\"type\":\"DataRange1d\"},\"y_scale\":{\"id\":\"13889\",\"type\":\"LinearScale\"}},\"id\":\"13880\",\"subtype\":\"Figure\",\"type\":\"Plot\"},{\"attributes\":{\"line_alpha\":0.1,\"line_color\":\"#1f77b4\",\"line_width\":2,\"x\":{\"field\":\"x\"},\"y\":{\"field\":\"y\"}},\"id\":\"13955\",\"type\":\"Line\"},{\"attributes\":{\"axis_label\":\"Years\",\"formatter\":{\"id\":\"13921\",\"type\":\"BasicTickFormatter\"},\"ticker\":{\"id\":\"13892\",\"type\":\"BasicTicker\"}},\"id\":\"13891\",\"type\":\"LinearAxis\"},{\"attributes\":{\"data_source\":{\"id\":\"13948\",\"type\":\"ColumnDataSource\"},\"glyph\":{\"id\":\"13949\",\"type\":\"Circle\"},\"hover_glyph\":null,\"muted_glyph\":null,\"nonselection_glyph\":{\"id\":\"13950\",\"type\":\"Circle\"},\"selection_glyph\":null,\"view\":{\"id\":\"13952\",\"type\":\"CDSView\"}},\"id\":\"13951\",\"type\":\"GlyphRenderer\"},{\"attributes\":{},\"id\":\"14412\",\"type\":\"Selection\"},{\"attributes\":{\"callback\":null,\"data\":{\"x\":[\"2000\",\"2001\",\"2002\",\"2003\",\"2004\",\"2005\",\"2006\",\"2007\",\"2008\",\"2009\",\"2010\",\"2011\",\"2012\",\"2013\",\"2014\",\"2015\",\"2016\",\"2017\"],\"y\":[65.33052780357724,64.90584506088574,64.18936699106743,63.73445964952182,63.152358860863174,62.30143939928258,61.538376583341744,60.91730989564122,60.2837124463239,59.71729357938916,59.04153779959497,57.91153517857363,56.58414101141624,55.950562536773546,55.358412885604125,54.9320293233056,54.553900414655715,54.20588235767385]},\"selected\":{\"id\":\"13967\",\"type\":\"Selection\"},\"selection_policy\":{\"id\":\"13968\",\"type\":\"UnionRenderers\"}},\"id\":\"13932\",\"type\":\"ColumnDataSource\"},{\"attributes\":{\"source\":{\"id\":\"13948\",\"type\":\"ColumnDataSource\"}},\"id\":\"13952\",\"type\":\"CDSView\"},{\"attributes\":{},\"id\":\"14413\",\"type\":\"UnionRenderers\"},{\"attributes\":{},\"id\":\"13892\",\"type\":\"BasicTicker\"},{\"attributes\":{\"label\":{\"value\":\"Developing excluding LDCs\"},\"renderers\":[{\"id\":\"13935\",\"type\":\"GlyphRenderer\"}]},\"id\":\"13947\",\"type\":\"LegendItem\"},{\"attributes\":{},\"id\":\"13906\",\"type\":\"HelpTool\"},{\"attributes\":{\"data_source\":{\"id\":\"13973\",\"type\":\"ColumnDataSource\"},\"glyph\":{\"id\":\"13974\",\"type\":\"Circle\"},\"hover_glyph\":null,\"muted_glyph\":null,\"nonselection_glyph\":{\"id\":\"13975\",\"type\":\"Circle\"},\"selection_glyph\":null,\"view\":{\"id\":\"13977\",\"type\":\"CDSView\"}},\"id\":\"13976\",\"type\":\"GlyphRenderer\"},{\"attributes\":{\"callback\":null,\"data\":{\"x\":[\"2000\",\"2001\",\"2002\",\"2003\",\"2004\",\"2005\",\"2006\",\"2007\",\"2008\",\"2009\",\"2010\",\"2011\",\"2012\",\"2013\",\"2014\",\"2015\",\"2016\",\"2017\"],\"y\":[65.33052780357724,64.90584506088574,64.18936699106743,63.73445964952182,63.152358860863174,62.30143939928258,61.538376583341744,60.91730989564122,60.2837124463239,59.71729357938916,59.04153779959497,57.91153517857363,56.58414101141624,55.950562536773546,55.358412885604125,54.9320293233056,54.553900414655715,54.20588235767385]},\"selected\":{\"id\":\"13969\",\"type\":\"Selection\"},\"selection_policy\":{\"id\":\"13970\",\"type\":\"UnionRenderers\"}},\"id\":\"13948\",\"type\":\"ColumnDataSource\"},{\"attributes\":{},\"id\":\"13897\",\"type\":\"BasicTicker\"},{\"attributes\":{\"source\":{\"id\":\"13973\",\"type\":\"ColumnDataSource\"}},\"id\":\"13977\",\"type\":\"CDSView\"},{\"attributes\":{},\"id\":\"13901\",\"type\":\"PanTool\"},{\"attributes\":{\"source\":{\"id\":\"13927\",\"type\":\"ColumnDataSource\"}},\"id\":\"13931\",\"type\":\"CDSView\"},{\"attributes\":{\"fill_color\":{\"value\":\"#5430F1\"},\"line_color\":{\"value\":\"#5430F1\"},\"line_width\":{\"value\":3},\"x\":{\"field\":\"x\"},\"y\":{\"field\":\"y\"}},\"id\":\"13949\",\"type\":\"Circle\"},{\"attributes\":{\"callback\":null,\"tooltips\":\"        \\n        <div style=padding=5px>Year:@x</div>\\n        <div style=padding=5px>Value:@y</div>\\n        \"},\"id\":\"13978\",\"type\":\"HoverTool\"},{\"attributes\":{\"fill_alpha\":{\"value\":0.1},\"fill_color\":{\"value\":\"#1f77b4\"},\"line_alpha\":{\"value\":0.1},\"line_color\":{\"value\":\"#1f77b4\"},\"line_width\":{\"value\":3},\"x\":{\"field\":\"x\"},\"y\":{\"field\":\"y\"}},\"id\":\"13950\",\"type\":\"Circle\"},{\"attributes\":{\"fill_alpha\":{\"value\":0.1},\"fill_color\":{\"value\":\"#1f77b4\"},\"line_alpha\":{\"value\":0.1},\"line_color\":{\"value\":\"#1f77b4\"},\"line_width\":{\"value\":3},\"x\":{\"field\":\"x\"},\"y\":{\"field\":\"y\"}},\"id\":\"13975\",\"type\":\"Circle\"},{\"attributes\":{},\"id\":\"13943\",\"type\":\"UnionRenderers\"},{\"attributes\":{},\"id\":\"13905\",\"type\":\"ResetTool\"},{\"attributes\":{\"fill_color\":{\"value\":\"#FA1857\"},\"line_color\":{\"value\":\"#FA1857\"},\"line_width\":{\"value\":3},\"x\":{\"field\":\"x\"},\"y\":{\"field\":\"y\"}},\"id\":\"13928\",\"type\":\"Circle\"},{\"attributes\":{\"label\":{\"value\":\"OECD\"},\"renderers\":[{\"id\":\"13956\",\"type\":\"GlyphRenderer\"}]},\"id\":\"13972\",\"type\":\"LegendItem\"},{\"attributes\":{\"dimension\":1,\"ticker\":{\"id\":\"13897\",\"type\":\"BasicTicker\"}},\"id\":\"13900\",\"type\":\"Grid\"},{\"attributes\":{},\"id\":\"13944\",\"type\":\"Selection\"},{\"attributes\":{\"callback\":null,\"data\":{\"x\":[\"2000\",\"2001\",\"2002\",\"2003\",\"2004\",\"2005\",\"2006\",\"2007\",\"2008\",\"2009\",\"2010\",\"2011\",\"2012\",\"2013\",\"2014\",\"2015\",\"2016\",\"2017\"],\"y\":[14.48536902485712,14.493511769829844,14.191813316333826,13.993763075972725,13.83147018503385,13.370962271652207,12.80581092501148,12.566340934456548,12.298027267203656,12.373333284001852,12.307219209624574,12.287989367669757,12.15311900334881,11.971961077598174,11.744068220445252,11.58624004783634,11.401146754618209,11.2798928194068]},\"selected\":{\"id\":\"14414\",\"type\":\"Selection\"},\"selection_policy\":{\"id\":\"14415\",\"type\":\"UnionRenderers\"}},\"id\":\"13973\",\"type\":\"ColumnDataSource\"},{\"attributes\":{\"data_source\":{\"id\":\"13927\",\"type\":\"ColumnDataSource\"},\"glyph\":{\"id\":\"13928\",\"type\":\"Circle\"},\"hover_glyph\":null,\"muted_glyph\":null,\"nonselection_glyph\":{\"id\":\"13929\",\"type\":\"Circle\"},\"selection_glyph\":null,\"view\":{\"id\":\"13931\",\"type\":\"CDSView\"}},\"id\":\"13930\",\"type\":\"GlyphRenderer\"},{\"attributes\":{\"callback\":null,\"data\":{\"x\":[\"2000\",\"2001\",\"2002\",\"2003\",\"2004\",\"2005\",\"2006\",\"2007\",\"2008\",\"2009\",\"2010\",\"2011\",\"2012\",\"2013\",\"2014\",\"2015\",\"2016\",\"2017\"],\"y\":[85.71439577036236,85.57464637853948,85.42987052449938,85.2595119163731,85.1157816927459,84.95917228819752,84.67367316779398,84.76333397019621,84.82905666578436,84.92486075515858,84.88687200109682,84.34903984029447,83.77222403234691,83.30820688707247,82.72786323433235,82.26461439968713,81.78532591691658,81.20720784411499]},\"selected\":{\"id\":\"13942\",\"type\":\"Selection\"},\"selection_policy\":{\"id\":\"13943\",\"type\":\"UnionRenderers\"}},\"id\":\"13914\",\"type\":\"ColumnDataSource\"},{\"attributes\":{},\"id\":\"13945\",\"type\":\"UnionRenderers\"},{\"attributes\":{\"callback\":null},\"id\":\"13883\",\"type\":\"DataRange1d\"},{\"attributes\":{\"data_source\":{\"id\":\"13932\",\"type\":\"ColumnDataSource\"},\"glyph\":{\"id\":\"13933\",\"type\":\"Line\"},\"hover_glyph\":null,\"muted_glyph\":null,\"nonselection_glyph\":{\"id\":\"13934\",\"type\":\"Line\"},\"selection_glyph\":null,\"view\":{\"id\":\"13936\",\"type\":\"CDSView\"}},\"id\":\"13935\",\"type\":\"GlyphRenderer\"},{\"attributes\":{\"axis_label\":\"Percentage\",\"formatter\":{\"id\":\"13923\",\"type\":\"BasicTickFormatter\"},\"ticker\":{\"id\":\"13897\",\"type\":\"BasicTicker\"}},\"id\":\"13896\",\"type\":\"LinearAxis\"},{\"attributes\":{\"fill_alpha\":{\"value\":0.1},\"fill_color\":{\"value\":\"#1f77b4\"},\"line_alpha\":{\"value\":0.1},\"line_color\":{\"value\":\"#1f77b4\"},\"line_width\":{\"value\":3},\"x\":{\"field\":\"x\"},\"y\":{\"field\":\"y\"}},\"id\":\"13929\",\"type\":\"Circle\"},{\"attributes\":{\"fill_color\":{\"value\":\"#2CC775\"},\"line_color\":{\"value\":\"#2CC775\"},\"line_width\":{\"value\":3},\"x\":{\"field\":\"x\"},\"y\":{\"field\":\"y\"}},\"id\":\"13974\",\"type\":\"Circle\"},{\"attributes\":{},\"id\":\"13904\",\"type\":\"SaveTool\"},{\"attributes\":{\"items\":[{\"id\":\"13926\",\"type\":\"LegendItem\"},{\"id\":\"13947\",\"type\":\"LegendItem\"},{\"id\":\"13972\",\"type\":\"LegendItem\"}],\"location\":\"bottom_left\"},\"id\":\"13925\",\"type\":\"Legend\"},{\"attributes\":{\"source\":{\"id\":\"13932\",\"type\":\"ColumnDataSource\"}},\"id\":\"13936\",\"type\":\"CDSView\"},{\"attributes\":{},\"id\":\"13968\",\"type\":\"UnionRenderers\"},{\"attributes\":{\"callback\":null,\"data\":{\"x\":[\"2000\",\"2001\",\"2002\",\"2003\",\"2004\",\"2005\",\"2006\",\"2007\",\"2008\",\"2009\",\"2010\",\"2011\",\"2012\",\"2013\",\"2014\",\"2015\",\"2016\",\"2017\"],\"y\":[85.71439577036236,85.57464637853948,85.42987052449938,85.2595119163731,85.1157816927459,84.95917228819752,84.67367316779398,84.76333397019621,84.82905666578436,84.92486075515858,84.88687200109682,84.34903984029447,83.77222403234691,83.30820688707247,82.72786323433235,82.26461439968713,81.78532591691658,81.20720784411499]},\"selected\":{\"id\":\"13944\",\"type\":\"Selection\"},\"selection_policy\":{\"id\":\"13945\",\"type\":\"UnionRenderers\"}},\"id\":\"13927\",\"type\":\"ColumnDataSource\"},{\"attributes\":{},\"id\":\"13942\",\"type\":\"Selection\"},{\"attributes\":{},\"id\":\"13969\",\"type\":\"Selection\"},{\"attributes\":{\"label\":{\"value\":\"LDCs\"},\"renderers\":[{\"id\":\"13917\",\"type\":\"GlyphRenderer\"}]},\"id\":\"13926\",\"type\":\"LegendItem\"},{\"attributes\":{},\"id\":\"13970\",\"type\":\"UnionRenderers\"},{\"attributes\":{\"overlay\":{\"id\":\"13924\",\"type\":\"BoxAnnotation\"}},\"id\":\"13903\",\"type\":\"BoxZoomTool\"},{\"attributes\":{},\"id\":\"13921\",\"type\":\"BasicTickFormatter\"},{\"attributes\":{\"data_source\":{\"id\":\"13953\",\"type\":\"ColumnDataSource\"},\"glyph\":{\"id\":\"13954\",\"type\":\"Line\"},\"hover_glyph\":null,\"muted_glyph\":null,\"nonselection_glyph\":{\"id\":\"13955\",\"type\":\"Line\"},\"selection_glyph\":null,\"view\":{\"id\":\"13957\",\"type\":\"CDSView\"}},\"id\":\"13956\",\"type\":\"GlyphRenderer\"},{\"attributes\":{\"line_alpha\":0.1,\"line_color\":\"#1f77b4\",\"line_width\":2,\"x\":{\"field\":\"x\"},\"y\":{\"field\":\"y\"}},\"id\":\"13934\",\"type\":\"Line\"},{\"attributes\":{\"bottom_units\":\"screen\",\"fill_alpha\":{\"value\":0.5},\"fill_color\":{\"value\":\"lightgrey\"},\"left_units\":\"screen\",\"level\":\"overlay\",\"line_alpha\":{\"value\":1.0},\"line_color\":{\"value\":\"black\"},\"line_dash\":[4,4],\"line_width\":{\"value\":2},\"render_mode\":\"css\",\"right_units\":\"screen\",\"top_units\":\"screen\"},\"id\":\"13924\",\"type\":\"BoxAnnotation\"},{\"attributes\":{\"text\":\"Vulnerable employment, female (% of female employment) (modeled ILO estimate) weighted against Labor force, total\"},\"id\":\"13881\",\"type\":\"Title\"},{\"attributes\":{\"source\":{\"id\":\"13953\",\"type\":\"ColumnDataSource\"}},\"id\":\"13957\",\"type\":\"CDSView\"},{\"attributes\":{},\"id\":\"13889\",\"type\":\"LinearScale\"},{\"attributes\":{},\"id\":\"13923\",\"type\":\"BasicTickFormatter\"},{\"attributes\":{\"line_color\":\"#5430F1\",\"line_width\":2,\"x\":{\"field\":\"x\"},\"y\":{\"field\":\"y\"}},\"id\":\"13933\",\"type\":\"Line\"},{\"attributes\":{},\"id\":\"13967\",\"type\":\"Selection\"},{\"attributes\":{\"line_color\":\"#FA1857\",\"line_width\":2,\"x\":{\"field\":\"x\"},\"y\":{\"field\":\"y\"}},\"id\":\"13915\",\"type\":\"Line\"},{\"attributes\":{\"callback\":null,\"data\":{\"x\":[\"2000\",\"2001\",\"2002\",\"2003\",\"2004\",\"2005\",\"2006\",\"2007\",\"2008\",\"2009\",\"2010\",\"2011\",\"2012\",\"2013\",\"2014\",\"2015\",\"2016\",\"2017\"],\"y\":[14.48536902485712,14.493511769829844,14.191813316333826,13.993763075972725,13.83147018503385,13.370962271652207,12.80581092501148,12.566340934456548,12.298027267203656,12.373333284001852,12.307219209624574,12.287989367669757,12.15311900334881,11.971961077598174,11.744068220445252,11.58624004783634,11.401146754618209,11.2798928194068]},\"selected\":{\"id\":\"14412\",\"type\":\"Selection\"},\"selection_policy\":{\"id\":\"14413\",\"type\":\"UnionRenderers\"}},\"id\":\"13953\",\"type\":\"ColumnDataSource\"},{\"attributes\":{},\"id\":\"13902\",\"type\":\"WheelZoomTool\"},{\"attributes\":{},\"id\":\"14414\",\"type\":\"Selection\"},{\"attributes\":{\"line_alpha\":0.1,\"line_color\":\"#1f77b4\",\"line_width\":2,\"x\":{\"field\":\"x\"},\"y\":{\"field\":\"y\"}},\"id\":\"13916\",\"type\":\"Line\"},{\"attributes\":{\"callback\":null},\"id\":\"13885\",\"type\":\"DataRange1d\"},{\"attributes\":{\"line_color\":\"#2CC775\",\"line_width\":2,\"x\":{\"field\":\"x\"},\"y\":{\"field\":\"y\"}},\"id\":\"13954\",\"type\":\"Line\"},{\"attributes\":{},\"id\":\"14415\",\"type\":\"UnionRenderers\"},{\"attributes\":{\"source\":{\"id\":\"13914\",\"type\":\"ColumnDataSource\"}},\"id\":\"13918\",\"type\":\"CDSView\"},{\"attributes\":{\"ticker\":{\"id\":\"13892\",\"type\":\"BasicTicker\"}},\"id\":\"13895\",\"type\":\"Grid\"},{\"attributes\":{\"data_source\":{\"id\":\"13914\",\"type\":\"ColumnDataSource\"},\"glyph\":{\"id\":\"13915\",\"type\":\"Line\"},\"hover_glyph\":null,\"muted_glyph\":null,\"nonselection_glyph\":{\"id\":\"13916\",\"type\":\"Line\"},\"selection_glyph\":null,\"view\":{\"id\":\"13918\",\"type\":\"CDSView\"}},\"id\":\"13917\",\"type\":\"GlyphRenderer\"},{\"attributes\":{\"active_drag\":\"auto\",\"active_inspect\":\"auto\",\"active_multi\":null,\"active_scroll\":\"auto\",\"active_tap\":\"auto\",\"tools\":[{\"id\":\"13901\",\"type\":\"PanTool\"},{\"id\":\"13902\",\"type\":\"WheelZoomTool\"},{\"id\":\"13903\",\"type\":\"BoxZoomTool\"},{\"id\":\"13904\",\"type\":\"SaveTool\"},{\"id\":\"13905\",\"type\":\"ResetTool\"},{\"id\":\"13906\",\"type\":\"HelpTool\"},{\"id\":\"13978\",\"type\":\"HoverTool\"}]},\"id\":\"13907\",\"type\":\"Toolbar\"},{\"attributes\":{},\"id\":\"13887\",\"type\":\"LinearScale\"}],\"root_ids\":[\"13880\"]},\"title\":\"Bokeh Application\",\"version\":\"1.3.4\"}};\n",
       "  var render_items = [{\"docid\":\"d11c191e-bf12-42f2-946a-b7055bfcfb40\",\"roots\":{\"13880\":\"d38d02cf-8429-4d90-bea1-bb9b524b4cf0\"}}];\n",
       "  root.Bokeh.embed.embed_items_notebook(docs_json, render_items);\n",
       "\n",
       "  }\n",
       "  if (root.Bokeh !== undefined) {\n",
       "    embed_document(root);\n",
       "  } else {\n",
       "    var attempts = 0;\n",
       "    var timer = setInterval(function(root) {\n",
       "      if (root.Bokeh !== undefined) {\n",
       "        embed_document(root);\n",
       "        clearInterval(timer);\n",
       "      }\n",
       "      attempts++;\n",
       "      if (attempts > 100) {\n",
       "        console.log(\"Bokeh: ERROR: Unable to run BokehJS code because BokehJS library is missing\");\n",
       "        clearInterval(timer);\n",
       "      }\n",
       "    }, 10, root)\n",
       "  }\n",
       "})(window);"
      ],
      "application/vnd.bokehjs_exec.v0+json": ""
     },
     "metadata": {
      "application/vnd.bokehjs_exec.v0+json": {
       "id": "13880"
      }
     },
     "output_type": "display_data"
    }
   ],
   "source": [
    "# Labor force\n",
    "years = list(map(str, list(range(2000,2018))))\n",
    "result = show_weighted_average(years, 'SL.EMP.VULN.FE.ZS', 'SL.TLF.TOTL.IN', \n",
    "                               ['LDCs', 'Developing excluding LDCs', 'OECD'])"
   ]
  },
  {
   "cell_type": "code",
   "execution_count": 19,
   "metadata": {
    "ExecuteTime": {
     "end_time": "2019-10-23T20:56:55.975955Z",
     "start_time": "2019-10-23T20:56:43.847736Z"
    },
    "slideshow": {
     "slide_type": "slide"
    }
   },
   "outputs": [
    {
     "data": {
      "text/html": [
       "\n",
       "\n",
       "\n",
       "\n",
       "\n",
       "\n",
       "  <div class=\"bk-root\" id=\"f5f80029-ceb7-4102-bcf2-28542538b15c\" data-root-id=\"14525\"></div>\n"
      ]
     },
     "metadata": {},
     "output_type": "display_data"
    },
    {
     "data": {
      "application/javascript": [
       "(function(root) {\n",
       "  function embed_document(root) {\n",
       "    \n",
       "  var docs_json = {\"4d91d152-8f8b-48a2-87d3-05b83e1cf030\":{\"roots\":{\"references\":[{\"attributes\":{\"below\":[{\"id\":\"14536\",\"type\":\"LinearAxis\"}],\"center\":[{\"id\":\"14540\",\"type\":\"Grid\"},{\"id\":\"14545\",\"type\":\"Grid\"},{\"id\":\"14570\",\"type\":\"Legend\"}],\"left\":[{\"id\":\"14541\",\"type\":\"LinearAxis\"}],\"plot_height\":400,\"plot_width\":950,\"renderers\":[{\"id\":\"14562\",\"type\":\"GlyphRenderer\"},{\"id\":\"14575\",\"type\":\"GlyphRenderer\"},{\"id\":\"14580\",\"type\":\"GlyphRenderer\"},{\"id\":\"14596\",\"type\":\"GlyphRenderer\"}],\"title\":{\"id\":\"14526\",\"type\":\"Title\"},\"toolbar\":{\"id\":\"14552\",\"type\":\"Toolbar\"},\"x_range\":{\"id\":\"14528\",\"type\":\"DataRange1d\"},\"x_scale\":{\"id\":\"14532\",\"type\":\"LinearScale\"},\"y_range\":{\"id\":\"14530\",\"type\":\"DataRange1d\"},\"y_scale\":{\"id\":\"14534\",\"type\":\"LinearScale\"}},\"id\":\"14525\",\"subtype\":\"Figure\",\"type\":\"Plot\"},{\"attributes\":{\"callback\":null},\"id\":\"14530\",\"type\":\"DataRange1d\"},{\"attributes\":{\"source\":{\"id\":\"14577\",\"type\":\"ColumnDataSource\"}},\"id\":\"14581\",\"type\":\"CDSView\"},{\"attributes\":{\"active_drag\":\"auto\",\"active_inspect\":\"auto\",\"active_multi\":null,\"active_scroll\":\"auto\",\"active_tap\":\"auto\",\"tools\":[{\"id\":\"14546\",\"type\":\"PanTool\"},{\"id\":\"14547\",\"type\":\"WheelZoomTool\"},{\"id\":\"14548\",\"type\":\"BoxZoomTool\"},{\"id\":\"14549\",\"type\":\"SaveTool\"},{\"id\":\"14550\",\"type\":\"ResetTool\"},{\"id\":\"14551\",\"type\":\"HelpTool\"},{\"id\":\"14598\",\"type\":\"HoverTool\"}]},\"id\":\"14552\",\"type\":\"Toolbar\"},{\"attributes\":{},\"id\":\"14532\",\"type\":\"LinearScale\"},{\"attributes\":{},\"id\":\"14587\",\"type\":\"Selection\"},{\"attributes\":{},\"id\":\"14534\",\"type\":\"LinearScale\"},{\"attributes\":{},\"id\":\"14588\",\"type\":\"UnionRenderers\"},{\"attributes\":{\"data_source\":{\"id\":\"14559\",\"type\":\"ColumnDataSource\"},\"glyph\":{\"id\":\"14560\",\"type\":\"Line\"},\"hover_glyph\":null,\"muted_glyph\":null,\"nonselection_glyph\":{\"id\":\"14561\",\"type\":\"Line\"},\"selection_glyph\":null,\"view\":{\"id\":\"14563\",\"type\":\"CDSView\"}},\"id\":\"14562\",\"type\":\"GlyphRenderer\"},{\"attributes\":{\"source\":{\"id\":\"14559\",\"type\":\"ColumnDataSource\"}},\"id\":\"14563\",\"type\":\"CDSView\"},{\"attributes\":{\"axis_label\":\"Years\",\"formatter\":{\"id\":\"14566\",\"type\":\"BasicTickFormatter\"},\"ticker\":{\"id\":\"14537\",\"type\":\"BasicTicker\"}},\"id\":\"14536\",\"type\":\"LinearAxis\"},{\"attributes\":{},\"id\":\"14589\",\"type\":\"Selection\"},{\"attributes\":{},\"id\":\"14537\",\"type\":\"BasicTicker\"},{\"attributes\":{},\"id\":\"14590\",\"type\":\"UnionRenderers\"},{\"attributes\":{},\"id\":\"14566\",\"type\":\"BasicTickFormatter\"},{\"attributes\":{\"ticker\":{\"id\":\"14537\",\"type\":\"BasicTicker\"}},\"id\":\"14540\",\"type\":\"Grid\"},{\"attributes\":{\"label\":{\"value\":\"Developing excluding LDCs\"},\"renderers\":[{\"id\":\"14580\",\"type\":\"GlyphRenderer\"}]},\"id\":\"14592\",\"type\":\"LegendItem\"},{\"attributes\":{},\"id\":\"14568\",\"type\":\"BasicTickFormatter\"},{\"attributes\":{\"callback\":null,\"data\":{\"x\":[\"2000\",\"2001\",\"2002\",\"2003\",\"2004\",\"2005\",\"2006\",\"2007\",\"2008\",\"2009\",\"2010\",\"2011\",\"2012\",\"2013\",\"2014\",\"2015\",\"2016\",\"2017\"],\"y\":[45.758602232258916,44.006185482373866,42.27625112523983,40.52709249788235,38.9627181695033,37.23908287256094,35.71694700311238,34.24378821297313,32.82356542916968,31.505214349340378,30.23549863774606,29.02988830437219,27.850705825641178,26.781110096608014,25.712388491284276,24.682632180401672,23.77423357312919,22.83697035928226]},\"selected\":{\"id\":\"15048\",\"type\":\"Selection\"},\"selection_policy\":{\"id\":\"15049\",\"type\":\"UnionRenderers\"}},\"id\":\"14593\",\"type\":\"ColumnDataSource\"},{\"attributes\":{\"bottom_units\":\"screen\",\"fill_alpha\":{\"value\":0.5},\"fill_color\":{\"value\":\"lightgrey\"},\"left_units\":\"screen\",\"level\":\"overlay\",\"line_alpha\":{\"value\":1.0},\"line_color\":{\"value\":\"black\"},\"line_dash\":[4,4],\"line_width\":{\"value\":2},\"render_mode\":\"css\",\"right_units\":\"screen\",\"top_units\":\"screen\"},\"id\":\"14569\",\"type\":\"BoxAnnotation\"},{\"attributes\":{\"axis_label\":\"Percentage\",\"formatter\":{\"id\":\"14568\",\"type\":\"BasicTickFormatter\"},\"ticker\":{\"id\":\"14542\",\"type\":\"BasicTicker\"}},\"id\":\"14541\",\"type\":\"LinearAxis\"},{\"attributes\":{\"fill_color\":{\"value\":\"#5430F1\"},\"line_color\":{\"value\":\"#5430F1\"},\"line_width\":{\"value\":3},\"x\":{\"field\":\"x\"},\"y\":{\"field\":\"y\"}},\"id\":\"14594\",\"type\":\"Circle\"},{\"attributes\":{\"items\":[{\"id\":\"14571\",\"type\":\"LegendItem\"},{\"id\":\"14592\",\"type\":\"LegendItem\"}],\"location\":\"bottom_left\"},\"id\":\"14570\",\"type\":\"Legend\"},{\"attributes\":{},\"id\":\"14542\",\"type\":\"BasicTicker\"},{\"attributes\":{\"fill_alpha\":{\"value\":0.1},\"fill_color\":{\"value\":\"#1f77b4\"},\"line_alpha\":{\"value\":0.1},\"line_color\":{\"value\":\"#1f77b4\"},\"line_width\":{\"value\":3},\"x\":{\"field\":\"x\"},\"y\":{\"field\":\"y\"}},\"id\":\"14595\",\"type\":\"Circle\"},{\"attributes\":{\"label\":{\"value\":\"LDCs\"},\"renderers\":[{\"id\":\"14562\",\"type\":\"GlyphRenderer\"}]},\"id\":\"14571\",\"type\":\"LegendItem\"},{\"attributes\":{\"dimension\":1,\"ticker\":{\"id\":\"14542\",\"type\":\"BasicTicker\"}},\"id\":\"14545\",\"type\":\"Grid\"},{\"attributes\":{\"data_source\":{\"id\":\"14593\",\"type\":\"ColumnDataSource\"},\"glyph\":{\"id\":\"14594\",\"type\":\"Circle\"},\"hover_glyph\":null,\"muted_glyph\":null,\"nonselection_glyph\":{\"id\":\"14595\",\"type\":\"Circle\"},\"selection_glyph\":null,\"view\":{\"id\":\"14597\",\"type\":\"CDSView\"}},\"id\":\"14596\",\"type\":\"GlyphRenderer\"},{\"attributes\":{\"callback\":null},\"id\":\"14528\",\"type\":\"DataRange1d\"},{\"attributes\":{\"callback\":null,\"data\":{\"x\":[\"2000\",\"2001\",\"2002\",\"2003\",\"2004\",\"2005\",\"2006\",\"2007\",\"2008\",\"2009\",\"2010\",\"2011\",\"2012\",\"2013\",\"2014\",\"2015\",\"2016\",\"2017\"],\"y\":[82.70759690380814,79.73629371086803,76.70131956567673,73.71454770622205,70.80686638940736,68.02122954765979,65.41417889354649,62.8514871260428,60.69956279939264,58.17600443643168,56.34077865781633,53.92638955415337,52.0577982516888,50.28482276049278,48.62932090980866,47.09117150486615,45.62733787270465,44.21599634272751]},\"selected\":{\"id\":\"14589\",\"type\":\"Selection\"},\"selection_policy\":{\"id\":\"14590\",\"type\":\"UnionRenderers\"}},\"id\":\"14572\",\"type\":\"ColumnDataSource\"},{\"attributes\":{\"source\":{\"id\":\"14593\",\"type\":\"ColumnDataSource\"}},\"id\":\"14597\",\"type\":\"CDSView\"},{\"attributes\":{\"fill_color\":{\"value\":\"#FA1857\"},\"line_color\":{\"value\":\"#FA1857\"},\"line_width\":{\"value\":3},\"x\":{\"field\":\"x\"},\"y\":{\"field\":\"y\"}},\"id\":\"14573\",\"type\":\"Circle\"},{\"attributes\":{\"callback\":null,\"data\":{\"x\":[\"2000\",\"2001\",\"2002\",\"2003\",\"2004\",\"2005\",\"2006\",\"2007\",\"2008\",\"2009\",\"2010\",\"2011\",\"2012\",\"2013\",\"2014\",\"2015\",\"2016\",\"2017\"],\"y\":[82.70759690380814,79.73629371086803,76.70131956567673,73.71454770622205,70.80686638940736,68.02122954765979,65.41417889354649,62.8514871260428,60.69956279939264,58.17600443643168,56.34077865781633,53.92638955415337,52.0577982516888,50.28482276049278,48.62932090980866,47.09117150486615,45.62733787270465,44.21599634272751]},\"selected\":{\"id\":\"14587\",\"type\":\"Selection\"},\"selection_policy\":{\"id\":\"14588\",\"type\":\"UnionRenderers\"}},\"id\":\"14559\",\"type\":\"ColumnDataSource\"},{\"attributes\":{\"callback\":null,\"tooltips\":\"        \\n        <div style=padding=5px>Year:@x</div>\\n        <div style=padding=5px>Value:@y</div>\\n        \"},\"id\":\"14598\",\"type\":\"HoverTool\"},{\"attributes\":{\"fill_alpha\":{\"value\":0.1},\"fill_color\":{\"value\":\"#1f77b4\"},\"line_alpha\":{\"value\":0.1},\"line_color\":{\"value\":\"#1f77b4\"},\"line_width\":{\"value\":3},\"x\":{\"field\":\"x\"},\"y\":{\"field\":\"y\"}},\"id\":\"14574\",\"type\":\"Circle\"},{\"attributes\":{\"line_alpha\":0.1,\"line_color\":\"#1f77b4\",\"line_width\":2,\"x\":{\"field\":\"x\"},\"y\":{\"field\":\"y\"}},\"id\":\"14561\",\"type\":\"Line\"},{\"attributes\":{},\"id\":\"14546\",\"type\":\"PanTool\"},{\"attributes\":{},\"id\":\"15046\",\"type\":\"Selection\"},{\"attributes\":{\"data_source\":{\"id\":\"14572\",\"type\":\"ColumnDataSource\"},\"glyph\":{\"id\":\"14573\",\"type\":\"Circle\"},\"hover_glyph\":null,\"muted_glyph\":null,\"nonselection_glyph\":{\"id\":\"14574\",\"type\":\"Circle\"},\"selection_glyph\":null,\"view\":{\"id\":\"14576\",\"type\":\"CDSView\"}},\"id\":\"14575\",\"type\":\"GlyphRenderer\"},{\"attributes\":{},\"id\":\"14547\",\"type\":\"WheelZoomTool\"},{\"attributes\":{},\"id\":\"15047\",\"type\":\"UnionRenderers\"},{\"attributes\":{\"source\":{\"id\":\"14572\",\"type\":\"ColumnDataSource\"}},\"id\":\"14576\",\"type\":\"CDSView\"},{\"attributes\":{\"overlay\":{\"id\":\"14569\",\"type\":\"BoxAnnotation\"}},\"id\":\"14548\",\"type\":\"BoxZoomTool\"},{\"attributes\":{},\"id\":\"15048\",\"type\":\"Selection\"},{\"attributes\":{\"callback\":null,\"data\":{\"x\":[\"2000\",\"2001\",\"2002\",\"2003\",\"2004\",\"2005\",\"2006\",\"2007\",\"2008\",\"2009\",\"2010\",\"2011\",\"2012\",\"2013\",\"2014\",\"2015\",\"2016\",\"2017\"],\"y\":[45.758602232258916,44.006185482373866,42.27625112523983,40.52709249788235,38.9627181695033,37.23908287256094,35.71694700311238,34.24378821297313,32.82356542916968,31.505214349340378,30.23549863774606,29.02988830437219,27.850705825641178,26.781110096608014,25.712388491284276,24.682632180401672,23.77423357312919,22.83697035928226]},\"selected\":{\"id\":\"15046\",\"type\":\"Selection\"},\"selection_policy\":{\"id\":\"15047\",\"type\":\"UnionRenderers\"}},\"id\":\"14577\",\"type\":\"ColumnDataSource\"},{\"attributes\":{},\"id\":\"14549\",\"type\":\"SaveTool\"},{\"attributes\":{},\"id\":\"15049\",\"type\":\"UnionRenderers\"},{\"attributes\":{\"line_color\":\"#FA1857\",\"line_width\":2,\"x\":{\"field\":\"x\"},\"y\":{\"field\":\"y\"}},\"id\":\"14560\",\"type\":\"Line\"},{\"attributes\":{\"line_color\":\"#5430F1\",\"line_width\":2,\"x\":{\"field\":\"x\"},\"y\":{\"field\":\"y\"}},\"id\":\"14578\",\"type\":\"Line\"},{\"attributes\":{},\"id\":\"14550\",\"type\":\"ResetTool\"},{\"attributes\":{\"line_alpha\":0.1,\"line_color\":\"#1f77b4\",\"line_width\":2,\"x\":{\"field\":\"x\"},\"y\":{\"field\":\"y\"}},\"id\":\"14579\",\"type\":\"Line\"},{\"attributes\":{\"text\":\"Mortality rate, infant (per 1,000 live births) weighted against Population, total\"},\"id\":\"14526\",\"type\":\"Title\"},{\"attributes\":{},\"id\":\"14551\",\"type\":\"HelpTool\"},{\"attributes\":{\"data_source\":{\"id\":\"14577\",\"type\":\"ColumnDataSource\"},\"glyph\":{\"id\":\"14578\",\"type\":\"Line\"},\"hover_glyph\":null,\"muted_glyph\":null,\"nonselection_glyph\":{\"id\":\"14579\",\"type\":\"Line\"},\"selection_glyph\":null,\"view\":{\"id\":\"14581\",\"type\":\"CDSView\"}},\"id\":\"14580\",\"type\":\"GlyphRenderer\"}],\"root_ids\":[\"14525\"]},\"title\":\"Bokeh Application\",\"version\":\"1.3.4\"}};\n",
       "  var render_items = [{\"docid\":\"4d91d152-8f8b-48a2-87d3-05b83e1cf030\",\"roots\":{\"14525\":\"f5f80029-ceb7-4102-bcf2-28542538b15c\"}}];\n",
       "  root.Bokeh.embed.embed_items_notebook(docs_json, render_items);\n",
       "\n",
       "  }\n",
       "  if (root.Bokeh !== undefined) {\n",
       "    embed_document(root);\n",
       "  } else {\n",
       "    var attempts = 0;\n",
       "    var timer = setInterval(function(root) {\n",
       "      if (root.Bokeh !== undefined) {\n",
       "        embed_document(root);\n",
       "        clearInterval(timer);\n",
       "      }\n",
       "      attempts++;\n",
       "      if (attempts > 100) {\n",
       "        console.log(\"Bokeh: ERROR: Unable to run BokehJS code because BokehJS library is missing\");\n",
       "        clearInterval(timer);\n",
       "      }\n",
       "    }, 10, root)\n",
       "  }\n",
       "})(window);"
      ],
      "application/vnd.bokehjs_exec.v0+json": ""
     },
     "metadata": {
      "application/vnd.bokehjs_exec.v0+json": {
       "id": "14525"
      }
     },
     "output_type": "display_data"
    }
   ],
   "source": [
    "# Infant mortality rate\n",
    "years = list(map(str, list(range(2000,2018))))\n",
    "result = show_weighted_average(years, 'SP.DYN.IMRT.IN', 'SP.POP.TOTL', ['LDCs', 'Developing excluding LDCs'])"
   ]
  },
  {
   "cell_type": "code",
   "execution_count": 20,
   "metadata": {
    "ExecuteTime": {
     "end_time": "2019-10-23T20:57:05.741799Z",
     "start_time": "2019-10-23T20:56:55.978007Z"
    },
    "slideshow": {
     "slide_type": "slide"
    }
   },
   "outputs": [
    {
     "data": {
      "text/html": [
       "\n",
       "\n",
       "\n",
       "\n",
       "\n",
       "\n",
       "  <div class=\"bk-root\" id=\"98368a1a-f807-431e-a0ce-05a9f680fb5d\" data-root-id=\"15135\"></div>\n"
      ]
     },
     "metadata": {},
     "output_type": "display_data"
    },
    {
     "data": {
      "application/javascript": [
       "(function(root) {\n",
       "  function embed_document(root) {\n",
       "    \n",
       "  var docs_json = {\"cdab4859-2b45-4216-8191-5b4589053e22\":{\"roots\":{\"references\":[{\"attributes\":{\"below\":[{\"id\":\"15146\",\"type\":\"LinearAxis\"}],\"center\":[{\"id\":\"15150\",\"type\":\"Grid\"},{\"id\":\"15155\",\"type\":\"Grid\"},{\"id\":\"15180\",\"type\":\"Legend\"}],\"left\":[{\"id\":\"15151\",\"type\":\"LinearAxis\"}],\"plot_height\":400,\"plot_width\":950,\"renderers\":[{\"id\":\"15172\",\"type\":\"GlyphRenderer\"},{\"id\":\"15185\",\"type\":\"GlyphRenderer\"},{\"id\":\"15190\",\"type\":\"GlyphRenderer\"},{\"id\":\"15206\",\"type\":\"GlyphRenderer\"}],\"title\":{\"id\":\"15136\",\"type\":\"Title\"},\"toolbar\":{\"id\":\"15162\",\"type\":\"Toolbar\"},\"x_range\":{\"id\":\"15138\",\"type\":\"DataRange1d\"},\"x_scale\":{\"id\":\"15142\",\"type\":\"LinearScale\"},\"y_range\":{\"id\":\"15140\",\"type\":\"DataRange1d\"},\"y_scale\":{\"id\":\"15144\",\"type\":\"LinearScale\"}},\"id\":\"15135\",\"subtype\":\"Figure\",\"type\":\"Plot\"},{\"attributes\":{\"label\":{\"value\":\"Developing excluding LDCs\"},\"renderers\":[{\"id\":\"15190\",\"type\":\"GlyphRenderer\"}]},\"id\":\"15202\",\"type\":\"LegendItem\"},{\"attributes\":{},\"id\":\"15159\",\"type\":\"SaveTool\"},{\"attributes\":{\"callback\":null,\"data\":{\"x\":[\"2000\",\"2001\",\"2002\",\"2003\",\"2004\",\"2005\",\"2006\",\"2007\",\"2008\",\"2009\",\"2010\",\"2011\",\"2012\",\"2013\",\"2014\",\"2015\",\"2016\",\"2017\"],\"y\":[50.6390755344685,51.36285836928065,52.14657844770643,52.97075929860047,53.794860079880166,54.662284525560544,55.520527356489325,56.36153645028357,57.240532507249455,58.11616913832772,58.98913296089495,59.64521383688594,60.53600239277637,61.398270388222066,62.265100775867786,63.08453248601209,63.816308183565866,64.57404357135272]},\"selected\":{\"id\":\"15199\",\"type\":\"Selection\"},\"selection_policy\":{\"id\":\"15200\",\"type\":\"UnionRenderers\"}},\"id\":\"15182\",\"type\":\"ColumnDataSource\"},{\"attributes\":{},\"id\":\"15197\",\"type\":\"Selection\"},{\"attributes\":{},\"id\":\"15156\",\"type\":\"PanTool\"},{\"attributes\":{\"text\":\"People using at least basic drinking water services (% of population) weighted against Population, total\"},\"id\":\"15136\",\"type\":\"Title\"},{\"attributes\":{\"line_color\":\"#FA1857\",\"line_width\":2,\"x\":{\"field\":\"x\"},\"y\":{\"field\":\"y\"}},\"id\":\"15170\",\"type\":\"Line\"},{\"attributes\":{\"fill_color\":{\"value\":\"#FA1857\"},\"line_color\":{\"value\":\"#FA1857\"},\"line_width\":{\"value\":3},\"x\":{\"field\":\"x\"},\"y\":{\"field\":\"y\"}},\"id\":\"15183\",\"type\":\"Circle\"},{\"attributes\":{},\"id\":\"15199\",\"type\":\"Selection\"},{\"attributes\":{\"callback\":null},\"id\":\"15138\",\"type\":\"DataRange1d\"},{\"attributes\":{\"callback\":null,\"data\":{\"x\":[\"2000\",\"2001\",\"2002\",\"2003\",\"2004\",\"2005\",\"2006\",\"2007\",\"2008\",\"2009\",\"2010\",\"2011\",\"2012\",\"2013\",\"2014\",\"2015\",\"2016\",\"2017\"],\"y\":[50.6390755344685,51.36285836928065,52.14657844770643,52.97075929860047,53.794860079880166,54.662284525560544,55.520527356489325,56.36153645028357,57.240532507249455,58.11616913832772,58.98913296089495,59.64521383688594,60.53600239277637,61.398270388222066,62.265100775867786,63.08453248601209,63.816308183565866,64.57404357135272]},\"selected\":{\"id\":\"15197\",\"type\":\"Selection\"},\"selection_policy\":{\"id\":\"15198\",\"type\":\"UnionRenderers\"}},\"id\":\"15169\",\"type\":\"ColumnDataSource\"},{\"attributes\":{\"data_source\":{\"id\":\"15182\",\"type\":\"ColumnDataSource\"},\"glyph\":{\"id\":\"15183\",\"type\":\"Circle\"},\"hover_glyph\":null,\"muted_glyph\":null,\"nonselection_glyph\":{\"id\":\"15184\",\"type\":\"Circle\"},\"selection_glyph\":null,\"view\":{\"id\":\"15186\",\"type\":\"CDSView\"}},\"id\":\"15185\",\"type\":\"GlyphRenderer\"},{\"attributes\":{},\"id\":\"15198\",\"type\":\"UnionRenderers\"},{\"attributes\":{\"callback\":null},\"id\":\"15140\",\"type\":\"DataRange1d\"},{\"attributes\":{\"active_drag\":\"auto\",\"active_inspect\":\"auto\",\"active_multi\":null,\"active_scroll\":\"auto\",\"active_tap\":\"auto\",\"tools\":[{\"id\":\"15156\",\"type\":\"PanTool\"},{\"id\":\"15157\",\"type\":\"WheelZoomTool\"},{\"id\":\"15158\",\"type\":\"BoxZoomTool\"},{\"id\":\"15159\",\"type\":\"SaveTool\"},{\"id\":\"15160\",\"type\":\"ResetTool\"},{\"id\":\"15161\",\"type\":\"HelpTool\"},{\"id\":\"15208\",\"type\":\"HoverTool\"}]},\"id\":\"15162\",\"type\":\"Toolbar\"},{\"attributes\":{\"line_alpha\":0.1,\"line_color\":\"#1f77b4\",\"line_width\":2,\"x\":{\"field\":\"x\"},\"y\":{\"field\":\"y\"}},\"id\":\"15189\",\"type\":\"Line\"},{\"attributes\":{},\"id\":\"15144\",\"type\":\"LinearScale\"},{\"attributes\":{},\"id\":\"15157\",\"type\":\"WheelZoomTool\"},{\"attributes\":{\"axis_label\":\"Years\",\"formatter\":{\"id\":\"15176\",\"type\":\"BasicTickFormatter\"},\"ticker\":{\"id\":\"15147\",\"type\":\"BasicTicker\"}},\"id\":\"15146\",\"type\":\"LinearAxis\"},{\"attributes\":{\"source\":{\"id\":\"15187\",\"type\":\"ColumnDataSource\"}},\"id\":\"15191\",\"type\":\"CDSView\"},{\"attributes\":{\"overlay\":{\"id\":\"15179\",\"type\":\"BoxAnnotation\"}},\"id\":\"15158\",\"type\":\"BoxZoomTool\"},{\"attributes\":{},\"id\":\"15142\",\"type\":\"LinearScale\"},{\"attributes\":{\"data_source\":{\"id\":\"15187\",\"type\":\"ColumnDataSource\"},\"glyph\":{\"id\":\"15188\",\"type\":\"Line\"},\"hover_glyph\":null,\"muted_glyph\":null,\"nonselection_glyph\":{\"id\":\"15189\",\"type\":\"Line\"},\"selection_glyph\":null,\"view\":{\"id\":\"15191\",\"type\":\"CDSView\"}},\"id\":\"15190\",\"type\":\"GlyphRenderer\"},{\"attributes\":{\"source\":{\"id\":\"15182\",\"type\":\"ColumnDataSource\"}},\"id\":\"15186\",\"type\":\"CDSView\"},{\"attributes\":{\"source\":{\"id\":\"15169\",\"type\":\"ColumnDataSource\"}},\"id\":\"15173\",\"type\":\"CDSView\"},{\"attributes\":{},\"id\":\"15671\",\"type\":\"UnionRenderers\"},{\"attributes\":{},\"id\":\"15160\",\"type\":\"ResetTool\"},{\"attributes\":{},\"id\":\"15673\",\"type\":\"UnionRenderers\"},{\"attributes\":{},\"id\":\"15161\",\"type\":\"HelpTool\"},{\"attributes\":{},\"id\":\"15178\",\"type\":\"BasicTickFormatter\"},{\"attributes\":{},\"id\":\"15672\",\"type\":\"Selection\"},{\"attributes\":{\"source\":{\"id\":\"15203\",\"type\":\"ColumnDataSource\"}},\"id\":\"15207\",\"type\":\"CDSView\"},{\"attributes\":{\"callback\":null,\"data\":{\"x\":[\"2000\",\"2001\",\"2002\",\"2003\",\"2004\",\"2005\",\"2006\",\"2007\",\"2008\",\"2009\",\"2010\",\"2011\",\"2012\",\"2013\",\"2014\",\"2015\",\"2016\",\"2017\"],\"y\":[80.55112682880318,81.00479371625393,81.77679009369407,82.53784452553441,83.28851027121169,84.02975397091646,84.75379189012546,85.4649501299916,86.16369312765474,86.84098274717998,87.50754213927502,88.15891127427683,88.79749865814709,89.42443209227703,90.04162285513938,90.65090738325256,91.23674955938168,91.74156692102636]},\"selected\":{\"id\":\"15672\",\"type\":\"Selection\"},\"selection_policy\":{\"id\":\"15673\",\"type\":\"UnionRenderers\"}},\"id\":\"15203\",\"type\":\"ColumnDataSource\"},{\"attributes\":{\"data_source\":{\"id\":\"15169\",\"type\":\"ColumnDataSource\"},\"glyph\":{\"id\":\"15170\",\"type\":\"Line\"},\"hover_glyph\":null,\"muted_glyph\":null,\"nonselection_glyph\":{\"id\":\"15171\",\"type\":\"Line\"},\"selection_glyph\":null,\"view\":{\"id\":\"15173\",\"type\":\"CDSView\"}},\"id\":\"15172\",\"type\":\"GlyphRenderer\"},{\"attributes\":{},\"id\":\"15670\",\"type\":\"Selection\"},{\"attributes\":{\"label\":{\"value\":\"LDCs\"},\"renderers\":[{\"id\":\"15172\",\"type\":\"GlyphRenderer\"}]},\"id\":\"15181\",\"type\":\"LegendItem\"},{\"attributes\":{\"dimension\":1,\"ticker\":{\"id\":\"15152\",\"type\":\"BasicTicker\"}},\"id\":\"15155\",\"type\":\"Grid\"},{\"attributes\":{\"fill_color\":{\"value\":\"#5430F1\"},\"line_color\":{\"value\":\"#5430F1\"},\"line_width\":{\"value\":3},\"x\":{\"field\":\"x\"},\"y\":{\"field\":\"y\"}},\"id\":\"15204\",\"type\":\"Circle\"},{\"attributes\":{\"ticker\":{\"id\":\"15147\",\"type\":\"BasicTicker\"}},\"id\":\"15150\",\"type\":\"Grid\"},{\"attributes\":{\"callback\":null,\"tooltips\":\"        \\n        <div style=padding=5px>Year:@x</div>\\n        <div style=padding=5px>Value:@y</div>\\n        \"},\"id\":\"15208\",\"type\":\"HoverTool\"},{\"attributes\":{\"data_source\":{\"id\":\"15203\",\"type\":\"ColumnDataSource\"},\"glyph\":{\"id\":\"15204\",\"type\":\"Circle\"},\"hover_glyph\":null,\"muted_glyph\":null,\"nonselection_glyph\":{\"id\":\"15205\",\"type\":\"Circle\"},\"selection_glyph\":null,\"view\":{\"id\":\"15207\",\"type\":\"CDSView\"}},\"id\":\"15206\",\"type\":\"GlyphRenderer\"},{\"attributes\":{},\"id\":\"15176\",\"type\":\"BasicTickFormatter\"},{\"attributes\":{},\"id\":\"15147\",\"type\":\"BasicTicker\"},{\"attributes\":{\"axis_label\":\"Percentage\",\"formatter\":{\"id\":\"15178\",\"type\":\"BasicTickFormatter\"},\"ticker\":{\"id\":\"15152\",\"type\":\"BasicTicker\"}},\"id\":\"15151\",\"type\":\"LinearAxis\"},{\"attributes\":{\"fill_alpha\":{\"value\":0.1},\"fill_color\":{\"value\":\"#1f77b4\"},\"line_alpha\":{\"value\":0.1},\"line_color\":{\"value\":\"#1f77b4\"},\"line_width\":{\"value\":3},\"x\":{\"field\":\"x\"},\"y\":{\"field\":\"y\"}},\"id\":\"15184\",\"type\":\"Circle\"},{\"attributes\":{\"fill_alpha\":{\"value\":0.1},\"fill_color\":{\"value\":\"#1f77b4\"},\"line_alpha\":{\"value\":0.1},\"line_color\":{\"value\":\"#1f77b4\"},\"line_width\":{\"value\":3},\"x\":{\"field\":\"x\"},\"y\":{\"field\":\"y\"}},\"id\":\"15205\",\"type\":\"Circle\"},{\"attributes\":{\"line_alpha\":0.1,\"line_color\":\"#1f77b4\",\"line_width\":2,\"x\":{\"field\":\"x\"},\"y\":{\"field\":\"y\"}},\"id\":\"15171\",\"type\":\"Line\"},{\"attributes\":{},\"id\":\"15200\",\"type\":\"UnionRenderers\"},{\"attributes\":{\"bottom_units\":\"screen\",\"fill_alpha\":{\"value\":0.5},\"fill_color\":{\"value\":\"lightgrey\"},\"left_units\":\"screen\",\"level\":\"overlay\",\"line_alpha\":{\"value\":1.0},\"line_color\":{\"value\":\"black\"},\"line_dash\":[4,4],\"line_width\":{\"value\":2},\"render_mode\":\"css\",\"right_units\":\"screen\",\"top_units\":\"screen\"},\"id\":\"15179\",\"type\":\"BoxAnnotation\"},{\"attributes\":{},\"id\":\"15152\",\"type\":\"BasicTicker\"},{\"attributes\":{\"callback\":null,\"data\":{\"x\":[\"2000\",\"2001\",\"2002\",\"2003\",\"2004\",\"2005\",\"2006\",\"2007\",\"2008\",\"2009\",\"2010\",\"2011\",\"2012\",\"2013\",\"2014\",\"2015\",\"2016\",\"2017\"],\"y\":[80.55112682880318,81.00479371625393,81.77679009369407,82.53784452553441,83.28851027121169,84.02975397091646,84.75379189012546,85.4649501299916,86.16369312765474,86.84098274717998,87.50754213927502,88.15891127427683,88.79749865814709,89.42443209227703,90.04162285513938,90.65090738325256,91.23674955938168,91.74156692102636]},\"selected\":{\"id\":\"15670\",\"type\":\"Selection\"},\"selection_policy\":{\"id\":\"15671\",\"type\":\"UnionRenderers\"}},\"id\":\"15187\",\"type\":\"ColumnDataSource\"},{\"attributes\":{\"items\":[{\"id\":\"15181\",\"type\":\"LegendItem\"},{\"id\":\"15202\",\"type\":\"LegendItem\"}],\"location\":\"bottom_left\"},\"id\":\"15180\",\"type\":\"Legend\"},{\"attributes\":{\"line_color\":\"#5430F1\",\"line_width\":2,\"x\":{\"field\":\"x\"},\"y\":{\"field\":\"y\"}},\"id\":\"15188\",\"type\":\"Line\"}],\"root_ids\":[\"15135\"]},\"title\":\"Bokeh Application\",\"version\":\"1.3.4\"}};\n",
       "  var render_items = [{\"docid\":\"cdab4859-2b45-4216-8191-5b4589053e22\",\"roots\":{\"15135\":\"98368a1a-f807-431e-a0ce-05a9f680fb5d\"}}];\n",
       "  root.Bokeh.embed.embed_items_notebook(docs_json, render_items);\n",
       "\n",
       "  }\n",
       "  if (root.Bokeh !== undefined) {\n",
       "    embed_document(root);\n",
       "  } else {\n",
       "    var attempts = 0;\n",
       "    var timer = setInterval(function(root) {\n",
       "      if (root.Bokeh !== undefined) {\n",
       "        embed_document(root);\n",
       "        clearInterval(timer);\n",
       "      }\n",
       "      attempts++;\n",
       "      if (attempts > 100) {\n",
       "        console.log(\"Bokeh: ERROR: Unable to run BokehJS code because BokehJS library is missing\");\n",
       "        clearInterval(timer);\n",
       "      }\n",
       "    }, 10, root)\n",
       "  }\n",
       "})(window);"
      ],
      "application/vnd.bokehjs_exec.v0+json": ""
     },
     "metadata": {
      "application/vnd.bokehjs_exec.v0+json": {
       "id": "15135"
      }
     },
     "output_type": "display_data"
    }
   ],
   "source": [
    "# Basic water access\n",
    "years = list(map(str, list(range(2000,2018))))\n",
    "result = show_weighted_average(years, 'SH.H2O.BASW.ZS', 'SP.POP.TOTL', ['LDCs', 'Developing excluding LDCs'])"
   ]
  },
  {
   "cell_type": "code",
   "execution_count": 21,
   "metadata": {
    "ExecuteTime": {
     "end_time": "2019-10-23T20:57:19.025429Z",
     "start_time": "2019-10-23T20:57:05.744682Z"
    },
    "slideshow": {
     "slide_type": "slide"
    }
   },
   "outputs": [
    {
     "data": {
      "text/html": [
       "\n",
       "\n",
       "\n",
       "\n",
       "\n",
       "\n",
       "  <div class=\"bk-root\" id=\"43ecdb66-edbc-4e2c-a6b9-2b6e19552390\" data-root-id=\"15759\"></div>\n"
      ]
     },
     "metadata": {},
     "output_type": "display_data"
    },
    {
     "data": {
      "application/javascript": [
       "(function(root) {\n",
       "  function embed_document(root) {\n",
       "    \n",
       "  var docs_json = {\"71ccb11a-3d99-4127-92d2-f7f947ce194c\":{\"roots\":{\"references\":[{\"attributes\":{\"below\":[{\"id\":\"15770\",\"type\":\"LinearAxis\"}],\"center\":[{\"id\":\"15774\",\"type\":\"Grid\"},{\"id\":\"15779\",\"type\":\"Grid\"},{\"id\":\"15804\",\"type\":\"Legend\"}],\"left\":[{\"id\":\"15775\",\"type\":\"LinearAxis\"}],\"plot_height\":400,\"plot_width\":950,\"renderers\":[{\"id\":\"15796\",\"type\":\"GlyphRenderer\"},{\"id\":\"15809\",\"type\":\"GlyphRenderer\"},{\"id\":\"15814\",\"type\":\"GlyphRenderer\"},{\"id\":\"15830\",\"type\":\"GlyphRenderer\"}],\"title\":{\"id\":\"15760\",\"type\":\"Title\"},\"toolbar\":{\"id\":\"15786\",\"type\":\"Toolbar\"},\"x_range\":{\"id\":\"15762\",\"type\":\"DataRange1d\"},\"x_scale\":{\"id\":\"15766\",\"type\":\"LinearScale\"},\"y_range\":{\"id\":\"15764\",\"type\":\"DataRange1d\"},\"y_scale\":{\"id\":\"15768\",\"type\":\"LinearScale\"}},\"id\":\"15759\",\"subtype\":\"Figure\",\"type\":\"Plot\"},{\"attributes\":{\"source\":{\"id\":\"15793\",\"type\":\"ColumnDataSource\"}},\"id\":\"15797\",\"type\":\"CDSView\"},{\"attributes\":{\"axis_label\":\"Percentage\",\"formatter\":{\"id\":\"15802\",\"type\":\"BasicTickFormatter\"},\"ticker\":{\"id\":\"15776\",\"type\":\"BasicTicker\"}},\"id\":\"15775\",\"type\":\"LinearAxis\"},{\"attributes\":{\"callback\":null,\"data\":{\"x\":[\"2000\",\"2001\",\"2002\",\"2003\",\"2004\",\"2005\",\"2006\",\"2007\",\"2008\",\"2009\",\"2010\",\"2011\",\"2012\",\"2013\",\"2014\",\"2015\",\"2016\",\"2017\"],\"y\":[70.548702877432,71.00004920789118,71.95018602183819,72.90005660990126,73.84979674562858,74.80186545073815,75.7497619375849,76.69812617708288,77.64556540872928,78.57794683969233,79.51234784363636,80.44861606275593,81.3846478800014,82.31897898954479,83.25506420388984,84.18519675512437,85.10049117126351,86.01116731571781]},\"selected\":{\"id\":\"16310\",\"type\":\"Selection\"},\"selection_policy\":{\"id\":\"16311\",\"type\":\"UnionRenderers\"}},\"id\":\"15827\",\"type\":\"ColumnDataSource\"},{\"attributes\":{},\"id\":\"15766\",\"type\":\"LinearScale\"},{\"attributes\":{},\"id\":\"15821\",\"type\":\"Selection\"},{\"attributes\":{},\"id\":\"15768\",\"type\":\"LinearScale\"},{\"attributes\":{\"label\":{\"value\":\"LDCs\"},\"renderers\":[{\"id\":\"15796\",\"type\":\"GlyphRenderer\"}]},\"id\":\"15805\",\"type\":\"LegendItem\"},{\"attributes\":{},\"id\":\"15822\",\"type\":\"UnionRenderers\"},{\"attributes\":{\"axis_label\":\"Years\",\"formatter\":{\"id\":\"15800\",\"type\":\"BasicTickFormatter\"},\"ticker\":{\"id\":\"15771\",\"type\":\"BasicTicker\"}},\"id\":\"15770\",\"type\":\"LinearAxis\"},{\"attributes\":{},\"id\":\"15823\",\"type\":\"Selection\"},{\"attributes\":{\"text\":\"People using at least basic drinking water services, rural (% of rural population) weighted against Rural population\"},\"id\":\"15760\",\"type\":\"Title\"},{\"attributes\":{\"data_source\":{\"id\":\"15793\",\"type\":\"ColumnDataSource\"},\"glyph\":{\"id\":\"15794\",\"type\":\"Line\"},\"hover_glyph\":null,\"muted_glyph\":null,\"nonselection_glyph\":{\"id\":\"15795\",\"type\":\"Line\"},\"selection_glyph\":null,\"view\":{\"id\":\"15797\",\"type\":\"CDSView\"}},\"id\":\"15796\",\"type\":\"GlyphRenderer\"},{\"attributes\":{\"line_alpha\":0.1,\"line_color\":\"#1f77b4\",\"line_width\":2,\"x\":{\"field\":\"x\"},\"y\":{\"field\":\"y\"}},\"id\":\"15813\",\"type\":\"Line\"},{\"attributes\":{\"items\":[{\"id\":\"15805\",\"type\":\"LegendItem\"},{\"id\":\"15826\",\"type\":\"LegendItem\"}],\"location\":\"bottom_left\"},\"id\":\"15804\",\"type\":\"Legend\"},{\"attributes\":{\"callback\":null},\"id\":\"15762\",\"type\":\"DataRange1d\"},{\"attributes\":{\"data_source\":{\"id\":\"15811\",\"type\":\"ColumnDataSource\"},\"glyph\":{\"id\":\"15812\",\"type\":\"Line\"},\"hover_glyph\":null,\"muted_glyph\":null,\"nonselection_glyph\":{\"id\":\"15813\",\"type\":\"Line\"},\"selection_glyph\":null,\"view\":{\"id\":\"15815\",\"type\":\"CDSView\"}},\"id\":\"15814\",\"type\":\"GlyphRenderer\"},{\"attributes\":{\"callback\":null},\"id\":\"15764\",\"type\":\"DataRange1d\"},{\"attributes\":{\"active_drag\":\"auto\",\"active_inspect\":\"auto\",\"active_multi\":null,\"active_scroll\":\"auto\",\"active_tap\":\"auto\",\"tools\":[{\"id\":\"15780\",\"type\":\"PanTool\"},{\"id\":\"15781\",\"type\":\"WheelZoomTool\"},{\"id\":\"15782\",\"type\":\"BoxZoomTool\"},{\"id\":\"15783\",\"type\":\"SaveTool\"},{\"id\":\"15784\",\"type\":\"ResetTool\"},{\"id\":\"15785\",\"type\":\"HelpTool\"},{\"id\":\"15832\",\"type\":\"HoverTool\"}]},\"id\":\"15786\",\"type\":\"Toolbar\"},{\"attributes\":{\"source\":{\"id\":\"15811\",\"type\":\"ColumnDataSource\"}},\"id\":\"15815\",\"type\":\"CDSView\"},{\"attributes\":{\"source\":{\"id\":\"15806\",\"type\":\"ColumnDataSource\"}},\"id\":\"15810\",\"type\":\"CDSView\"},{\"attributes\":{},\"id\":\"15783\",\"type\":\"SaveTool\"},{\"attributes\":{},\"id\":\"16309\",\"type\":\"UnionRenderers\"},{\"attributes\":{\"bottom_units\":\"screen\",\"fill_alpha\":{\"value\":0.5},\"fill_color\":{\"value\":\"lightgrey\"},\"left_units\":\"screen\",\"level\":\"overlay\",\"line_alpha\":{\"value\":1.0},\"line_color\":{\"value\":\"black\"},\"line_dash\":[4,4],\"line_width\":{\"value\":2},\"render_mode\":\"css\",\"right_units\":\"screen\",\"top_units\":\"screen\"},\"id\":\"15803\",\"type\":\"BoxAnnotation\"},{\"attributes\":{\"callback\":null,\"data\":{\"x\":[\"2000\",\"2001\",\"2002\",\"2003\",\"2004\",\"2005\",\"2006\",\"2007\",\"2008\",\"2009\",\"2010\",\"2011\",\"2012\",\"2013\",\"2014\",\"2015\",\"2016\",\"2017\"],\"y\":[70.548702877432,71.00004920789118,71.95018602183819,72.90005660990126,73.84979674562858,74.80186545073815,75.7497619375849,76.69812617708288,77.64556540872928,78.57794683969233,79.51234784363636,80.44861606275593,81.3846478800014,82.31897898954479,83.25506420388984,84.18519675512437,85.10049117126351,86.01116731571781]},\"selected\":{\"id\":\"16308\",\"type\":\"Selection\"},\"selection_policy\":{\"id\":\"16309\",\"type\":\"UnionRenderers\"}},\"id\":\"15811\",\"type\":\"ColumnDataSource\"},{\"attributes\":{\"callback\":null,\"tooltips\":\"        \\n        <div style=padding=5px>Year:@x</div>\\n        <div style=padding=5px>Value:@y</div>\\n        \"},\"id\":\"15832\",\"type\":\"HoverTool\"},{\"attributes\":{},\"id\":\"16310\",\"type\":\"Selection\"},{\"attributes\":{\"line_color\":\"#5430F1\",\"line_width\":2,\"x\":{\"field\":\"x\"},\"y\":{\"field\":\"y\"}},\"id\":\"15812\",\"type\":\"Line\"},{\"attributes\":{},\"id\":\"15784\",\"type\":\"ResetTool\"},{\"attributes\":{},\"id\":\"16311\",\"type\":\"UnionRenderers\"},{\"attributes\":{\"fill_color\":{\"value\":\"#FA1857\"},\"line_color\":{\"value\":\"#FA1857\"},\"line_width\":{\"value\":3},\"x\":{\"field\":\"x\"},\"y\":{\"field\":\"y\"}},\"id\":\"15807\",\"type\":\"Circle\"},{\"attributes\":{},\"id\":\"15780\",\"type\":\"PanTool\"},{\"attributes\":{},\"id\":\"15802\",\"type\":\"BasicTickFormatter\"},{\"attributes\":{\"line_alpha\":0.1,\"line_color\":\"#1f77b4\",\"line_width\":2,\"x\":{\"field\":\"x\"},\"y\":{\"field\":\"y\"}},\"id\":\"15795\",\"type\":\"Line\"},{\"attributes\":{\"source\":{\"id\":\"15827\",\"type\":\"ColumnDataSource\"}},\"id\":\"15831\",\"type\":\"CDSView\"},{\"attributes\":{\"fill_alpha\":{\"value\":0.1},\"fill_color\":{\"value\":\"#1f77b4\"},\"line_alpha\":{\"value\":0.1},\"line_color\":{\"value\":\"#1f77b4\"},\"line_width\":{\"value\":3},\"x\":{\"field\":\"x\"},\"y\":{\"field\":\"y\"}},\"id\":\"15808\",\"type\":\"Circle\"},{\"attributes\":{},\"id\":\"15785\",\"type\":\"HelpTool\"},{\"attributes\":{\"data_source\":{\"id\":\"15806\",\"type\":\"ColumnDataSource\"},\"glyph\":{\"id\":\"15807\",\"type\":\"Circle\"},\"hover_glyph\":null,\"muted_glyph\":null,\"nonselection_glyph\":{\"id\":\"15808\",\"type\":\"Circle\"},\"selection_glyph\":null,\"view\":{\"id\":\"15810\",\"type\":\"CDSView\"}},\"id\":\"15809\",\"type\":\"GlyphRenderer\"},{\"attributes\":{},\"id\":\"15781\",\"type\":\"WheelZoomTool\"},{\"attributes\":{},\"id\":\"16308\",\"type\":\"Selection\"},{\"attributes\":{},\"id\":\"15800\",\"type\":\"BasicTickFormatter\"},{\"attributes\":{\"dimension\":1,\"ticker\":{\"id\":\"15776\",\"type\":\"BasicTicker\"}},\"id\":\"15779\",\"type\":\"Grid\"},{\"attributes\":{\"callback\":null,\"data\":{\"x\":[\"2000\",\"2001\",\"2002\",\"2003\",\"2004\",\"2005\",\"2006\",\"2007\",\"2008\",\"2009\",\"2010\",\"2011\",\"2012\",\"2013\",\"2014\",\"2015\",\"2016\",\"2017\"],\"y\":[42.12683300179766,42.80027017649536,43.50079749798844,44.25366307202228,45.00747896662987,45.80419361422807,46.59437519706998,47.36876142509717,48.17616099242744,48.980453708262594,49.782813757361296,50.42503187607093,51.28403194463684,52.07473967276295,52.873727809325516,53.62244943417166,54.273675248356724,54.932811181463364]},\"selected\":{\"id\":\"15823\",\"type\":\"Selection\"},\"selection_policy\":{\"id\":\"15824\",\"type\":\"UnionRenderers\"}},\"id\":\"15806\",\"type\":\"ColumnDataSource\"},{\"attributes\":{\"fill_color\":{\"value\":\"#5430F1\"},\"line_color\":{\"value\":\"#5430F1\"},\"line_width\":{\"value\":3},\"x\":{\"field\":\"x\"},\"y\":{\"field\":\"y\"}},\"id\":\"15828\",\"type\":\"Circle\"},{\"attributes\":{\"overlay\":{\"id\":\"15803\",\"type\":\"BoxAnnotation\"}},\"id\":\"15782\",\"type\":\"BoxZoomTool\"},{\"attributes\":{\"fill_alpha\":{\"value\":0.1},\"fill_color\":{\"value\":\"#1f77b4\"},\"line_alpha\":{\"value\":0.1},\"line_color\":{\"value\":\"#1f77b4\"},\"line_width\":{\"value\":3},\"x\":{\"field\":\"x\"},\"y\":{\"field\":\"y\"}},\"id\":\"15829\",\"type\":\"Circle\"},{\"attributes\":{},\"id\":\"15771\",\"type\":\"BasicTicker\"},{\"attributes\":{\"line_color\":\"#FA1857\",\"line_width\":2,\"x\":{\"field\":\"x\"},\"y\":{\"field\":\"y\"}},\"id\":\"15794\",\"type\":\"Line\"},{\"attributes\":{\"data_source\":{\"id\":\"15827\",\"type\":\"ColumnDataSource\"},\"glyph\":{\"id\":\"15828\",\"type\":\"Circle\"},\"hover_glyph\":null,\"muted_glyph\":null,\"nonselection_glyph\":{\"id\":\"15829\",\"type\":\"Circle\"},\"selection_glyph\":null,\"view\":{\"id\":\"15831\",\"type\":\"CDSView\"}},\"id\":\"15830\",\"type\":\"GlyphRenderer\"},{\"attributes\":{\"ticker\":{\"id\":\"15771\",\"type\":\"BasicTicker\"}},\"id\":\"15774\",\"type\":\"Grid\"},{\"attributes\":{},\"id\":\"15824\",\"type\":\"UnionRenderers\"},{\"attributes\":{},\"id\":\"15776\",\"type\":\"BasicTicker\"},{\"attributes\":{\"callback\":null,\"data\":{\"x\":[\"2000\",\"2001\",\"2002\",\"2003\",\"2004\",\"2005\",\"2006\",\"2007\",\"2008\",\"2009\",\"2010\",\"2011\",\"2012\",\"2013\",\"2014\",\"2015\",\"2016\",\"2017\"],\"y\":[42.12683300179766,42.80027017649536,43.50079749798844,44.25366307202228,45.00747896662987,45.80419361422807,46.59437519706998,47.36876142509717,48.17616099242744,48.980453708262594,49.782813757361296,50.42503187607093,51.28403194463684,52.07473967276295,52.873727809325516,53.62244943417166,54.273675248356724,54.932811181463364]},\"selected\":{\"id\":\"15821\",\"type\":\"Selection\"},\"selection_policy\":{\"id\":\"15822\",\"type\":\"UnionRenderers\"}},\"id\":\"15793\",\"type\":\"ColumnDataSource\"},{\"attributes\":{\"label\":{\"value\":\"Developing excluding LDCs\"},\"renderers\":[{\"id\":\"15814\",\"type\":\"GlyphRenderer\"}]},\"id\":\"15826\",\"type\":\"LegendItem\"}],\"root_ids\":[\"15759\"]},\"title\":\"Bokeh Application\",\"version\":\"1.3.4\"}};\n",
       "  var render_items = [{\"docid\":\"71ccb11a-3d99-4127-92d2-f7f947ce194c\",\"roots\":{\"15759\":\"43ecdb66-edbc-4e2c-a6b9-2b6e19552390\"}}];\n",
       "  root.Bokeh.embed.embed_items_notebook(docs_json, render_items);\n",
       "\n",
       "  }\n",
       "  if (root.Bokeh !== undefined) {\n",
       "    embed_document(root);\n",
       "  } else {\n",
       "    var attempts = 0;\n",
       "    var timer = setInterval(function(root) {\n",
       "      if (root.Bokeh !== undefined) {\n",
       "        embed_document(root);\n",
       "        clearInterval(timer);\n",
       "      }\n",
       "      attempts++;\n",
       "      if (attempts > 100) {\n",
       "        console.log(\"Bokeh: ERROR: Unable to run BokehJS code because BokehJS library is missing\");\n",
       "        clearInterval(timer);\n",
       "      }\n",
       "    }, 10, root)\n",
       "  }\n",
       "})(window);"
      ],
      "application/vnd.bokehjs_exec.v0+json": ""
     },
     "metadata": {
      "application/vnd.bokehjs_exec.v0+json": {
       "id": "15759"
      }
     },
     "output_type": "display_data"
    }
   ],
   "source": [
    "# Basic water access rural\n",
    "years = list(map(str, list(range(2000,2018))))\n",
    "result = show_weighted_average(years, 'SH.H2O.BASW.RU.ZS', 'SP.RUR.TOTL', ['LDCs', 'Developing excluding LDCs'])"
   ]
  },
  {
   "cell_type": "code",
   "execution_count": 22,
   "metadata": {
    "ExecuteTime": {
     "end_time": "2019-10-23T20:57:29.322939Z",
     "start_time": "2019-10-23T20:57:19.027757Z"
    },
    "slideshow": {
     "slide_type": "slide"
    }
   },
   "outputs": [
    {
     "data": {
      "text/html": [
       "\n",
       "\n",
       "\n",
       "\n",
       "\n",
       "\n",
       "  <div class=\"bk-root\" id=\"447f04da-fdca-401d-9c6f-eaa8ec12ead5\" data-root-id=\"16397\"></div>\n"
      ]
     },
     "metadata": {},
     "output_type": "display_data"
    },
    {
     "data": {
      "application/javascript": [
       "(function(root) {\n",
       "  function embed_document(root) {\n",
       "    \n",
       "  var docs_json = {\"6aea517c-030a-4518-bf5b-efd2c5bf26e9\":{\"roots\":{\"references\":[{\"attributes\":{\"below\":[{\"id\":\"16408\",\"type\":\"LinearAxis\"}],\"center\":[{\"id\":\"16412\",\"type\":\"Grid\"},{\"id\":\"16417\",\"type\":\"Grid\"},{\"id\":\"16442\",\"type\":\"Legend\"}],\"left\":[{\"id\":\"16413\",\"type\":\"LinearAxis\"}],\"plot_height\":400,\"plot_width\":950,\"renderers\":[{\"id\":\"16434\",\"type\":\"GlyphRenderer\"},{\"id\":\"16447\",\"type\":\"GlyphRenderer\"},{\"id\":\"16452\",\"type\":\"GlyphRenderer\"},{\"id\":\"16468\",\"type\":\"GlyphRenderer\"}],\"title\":{\"id\":\"16398\",\"type\":\"Title\"},\"toolbar\":{\"id\":\"16424\",\"type\":\"Toolbar\"},\"x_range\":{\"id\":\"16400\",\"type\":\"DataRange1d\"},\"x_scale\":{\"id\":\"16404\",\"type\":\"LinearScale\"},\"y_range\":{\"id\":\"16402\",\"type\":\"DataRange1d\"},\"y_scale\":{\"id\":\"16406\",\"type\":\"LinearScale\"}},\"id\":\"16397\",\"subtype\":\"Figure\",\"type\":\"Plot\"},{\"attributes\":{\"source\":{\"id\":\"16465\",\"type\":\"ColumnDataSource\"}},\"id\":\"16469\",\"type\":\"CDSView\"},{\"attributes\":{\"fill_color\":{\"value\":\"#FA1857\"},\"line_color\":{\"value\":\"#FA1857\"},\"line_width\":{\"value\":3},\"x\":{\"field\":\"x\"},\"y\":{\"field\":\"y\"}},\"id\":\"16445\",\"type\":\"Circle\"},{\"attributes\":{\"callback\":null,\"data\":{\"x\":[\"2000\",\"2001\",\"2002\",\"2003\",\"2004\",\"2005\",\"2006\",\"2007\",\"2008\",\"2009\",\"2010\",\"2011\",\"2012\",\"2013\",\"2014\",\"2015\",\"2016\",\"2017\"],\"y\":[715.2447987144993,691.6849041419641,673.4892479999546,651.0563817071164,625.5069049458828,592.7740014378311,564.7764525894733,540.1215038192421,519.2159647732941,500.21556542920393,481.30634910908856,463.88510804587,448.827847164424,434.57010999810467,422.4587882882479,406.7932602988281,392.5254468961425,380.5719673986561]},\"selected\":{\"id\":\"16459\",\"type\":\"Selection\"},\"selection_policy\":{\"id\":\"16460\",\"type\":\"UnionRenderers\"}},\"id\":\"16431\",\"type\":\"ColumnDataSource\"},{\"attributes\":{\"callback\":null,\"tooltips\":\"        \\n        <div style=padding=5px>Year:@x</div>\\n        <div style=padding=5px>Value:@y</div>\\n        \"},\"id\":\"16470\",\"type\":\"HoverTool\"},{\"attributes\":{\"fill_alpha\":{\"value\":0.1},\"fill_color\":{\"value\":\"#1f77b4\"},\"line_alpha\":{\"value\":0.1},\"line_color\":{\"value\":\"#1f77b4\"},\"line_width\":{\"value\":3},\"x\":{\"field\":\"x\"},\"y\":{\"field\":\"y\"}},\"id\":\"16446\",\"type\":\"Circle\"},{\"attributes\":{\"line_color\":\"#FA1857\",\"line_width\":2,\"x\":{\"field\":\"x\"},\"y\":{\"field\":\"y\"}},\"id\":\"16432\",\"type\":\"Line\"},{\"attributes\":{},\"id\":\"16418\",\"type\":\"PanTool\"},{\"attributes\":{},\"id\":\"16960\",\"type\":\"Selection\"},{\"attributes\":{\"data_source\":{\"id\":\"16444\",\"type\":\"ColumnDataSource\"},\"glyph\":{\"id\":\"16445\",\"type\":\"Circle\"},\"hover_glyph\":null,\"muted_glyph\":null,\"nonselection_glyph\":{\"id\":\"16446\",\"type\":\"Circle\"},\"selection_glyph\":null,\"view\":{\"id\":\"16448\",\"type\":\"CDSView\"}},\"id\":\"16447\",\"type\":\"GlyphRenderer\"},{\"attributes\":{\"callback\":null},\"id\":\"16400\",\"type\":\"DataRange1d\"},{\"attributes\":{},\"id\":\"16419\",\"type\":\"WheelZoomTool\"},{\"attributes\":{},\"id\":\"16961\",\"type\":\"UnionRenderers\"},{\"attributes\":{\"source\":{\"id\":\"16444\",\"type\":\"ColumnDataSource\"}},\"id\":\"16448\",\"type\":\"CDSView\"},{\"attributes\":{\"overlay\":{\"id\":\"16441\",\"type\":\"BoxAnnotation\"}},\"id\":\"16420\",\"type\":\"BoxZoomTool\"},{\"attributes\":{},\"id\":\"16962\",\"type\":\"Selection\"},{\"attributes\":{\"callback\":null,\"data\":{\"x\":[\"2000\",\"2001\",\"2002\",\"2003\",\"2004\",\"2005\",\"2006\",\"2007\",\"2008\",\"2009\",\"2010\",\"2011\",\"2012\",\"2013\",\"2014\",\"2015\",\"2016\",\"2017\"],\"y\":[219.28408588120277,213.48414800134037,206.41811006155564,200.67120038874455,194.22090384430567,186.45995905793217,179.47945880804642,172.69824687103215,167.14239880717736,161.17966398798256,155.12810024875614,149.4076724816034,144.52542353326865,140.4374830912562,137.01364916667524,133.5566778030908,129.90816344064564,127.82152219368795]},\"selected\":{\"id\":\"16960\",\"type\":\"Selection\"},\"selection_policy\":{\"id\":\"16961\",\"type\":\"UnionRenderers\"}},\"id\":\"16449\",\"type\":\"ColumnDataSource\"},{\"attributes\":{},\"id\":\"16421\",\"type\":\"SaveTool\"},{\"attributes\":{},\"id\":\"16963\",\"type\":\"UnionRenderers\"},{\"attributes\":{\"line_color\":\"#5430F1\",\"line_width\":2,\"x\":{\"field\":\"x\"},\"y\":{\"field\":\"y\"}},\"id\":\"16450\",\"type\":\"Line\"},{\"attributes\":{},\"id\":\"16422\",\"type\":\"ResetTool\"},{\"attributes\":{\"line_alpha\":0.1,\"line_color\":\"#1f77b4\",\"line_width\":2,\"x\":{\"field\":\"x\"},\"y\":{\"field\":\"y\"}},\"id\":\"16451\",\"type\":\"Line\"},{\"attributes\":{\"text\":\"Maternal mortality ratio (modeled estimate, per 100,000 live births) weighted against Population, female\"},\"id\":\"16398\",\"type\":\"Title\"},{\"attributes\":{},\"id\":\"16423\",\"type\":\"HelpTool\"},{\"attributes\":{\"data_source\":{\"id\":\"16449\",\"type\":\"ColumnDataSource\"},\"glyph\":{\"id\":\"16450\",\"type\":\"Line\"},\"hover_glyph\":null,\"muted_glyph\":null,\"nonselection_glyph\":{\"id\":\"16451\",\"type\":\"Line\"},\"selection_glyph\":null,\"view\":{\"id\":\"16453\",\"type\":\"CDSView\"}},\"id\":\"16452\",\"type\":\"GlyphRenderer\"},{\"attributes\":{\"active_drag\":\"auto\",\"active_inspect\":\"auto\",\"active_multi\":null,\"active_scroll\":\"auto\",\"active_tap\":\"auto\",\"tools\":[{\"id\":\"16418\",\"type\":\"PanTool\"},{\"id\":\"16419\",\"type\":\"WheelZoomTool\"},{\"id\":\"16420\",\"type\":\"BoxZoomTool\"},{\"id\":\"16421\",\"type\":\"SaveTool\"},{\"id\":\"16422\",\"type\":\"ResetTool\"},{\"id\":\"16423\",\"type\":\"HelpTool\"},{\"id\":\"16470\",\"type\":\"HoverTool\"}]},\"id\":\"16424\",\"type\":\"Toolbar\"},{\"attributes\":{\"callback\":null},\"id\":\"16402\",\"type\":\"DataRange1d\"},{\"attributes\":{\"line_alpha\":0.1,\"line_color\":\"#1f77b4\",\"line_width\":2,\"x\":{\"field\":\"x\"},\"y\":{\"field\":\"y\"}},\"id\":\"16433\",\"type\":\"Line\"},{\"attributes\":{\"source\":{\"id\":\"16449\",\"type\":\"ColumnDataSource\"}},\"id\":\"16453\",\"type\":\"CDSView\"},{\"attributes\":{},\"id\":\"16404\",\"type\":\"LinearScale\"},{\"attributes\":{},\"id\":\"16459\",\"type\":\"Selection\"},{\"attributes\":{\"data_source\":{\"id\":\"16431\",\"type\":\"ColumnDataSource\"},\"glyph\":{\"id\":\"16432\",\"type\":\"Line\"},\"hover_glyph\":null,\"muted_glyph\":null,\"nonselection_glyph\":{\"id\":\"16433\",\"type\":\"Line\"},\"selection_glyph\":null,\"view\":{\"id\":\"16435\",\"type\":\"CDSView\"}},\"id\":\"16434\",\"type\":\"GlyphRenderer\"},{\"attributes\":{},\"id\":\"16406\",\"type\":\"LinearScale\"},{\"attributes\":{\"source\":{\"id\":\"16431\",\"type\":\"ColumnDataSource\"}},\"id\":\"16435\",\"type\":\"CDSView\"},{\"attributes\":{},\"id\":\"16460\",\"type\":\"UnionRenderers\"},{\"attributes\":{\"axis_label\":\"Years\",\"formatter\":{\"id\":\"16438\",\"type\":\"BasicTickFormatter\"},\"ticker\":{\"id\":\"16409\",\"type\":\"BasicTicker\"}},\"id\":\"16408\",\"type\":\"LinearAxis\"},{\"attributes\":{},\"id\":\"16461\",\"type\":\"Selection\"},{\"attributes\":{},\"id\":\"16438\",\"type\":\"BasicTickFormatter\"},{\"attributes\":{},\"id\":\"16409\",\"type\":\"BasicTicker\"},{\"attributes\":{},\"id\":\"16462\",\"type\":\"UnionRenderers\"},{\"attributes\":{},\"id\":\"16440\",\"type\":\"BasicTickFormatter\"},{\"attributes\":{\"ticker\":{\"id\":\"16409\",\"type\":\"BasicTicker\"}},\"id\":\"16412\",\"type\":\"Grid\"},{\"attributes\":{\"label\":{\"value\":\"Developing excluding LDCs\"},\"renderers\":[{\"id\":\"16452\",\"type\":\"GlyphRenderer\"}]},\"id\":\"16464\",\"type\":\"LegendItem\"},{\"attributes\":{\"bottom_units\":\"screen\",\"fill_alpha\":{\"value\":0.5},\"fill_color\":{\"value\":\"lightgrey\"},\"left_units\":\"screen\",\"level\":\"overlay\",\"line_alpha\":{\"value\":1.0},\"line_color\":{\"value\":\"black\"},\"line_dash\":[4,4],\"line_width\":{\"value\":2},\"render_mode\":\"css\",\"right_units\":\"screen\",\"top_units\":\"screen\"},\"id\":\"16441\",\"type\":\"BoxAnnotation\"},{\"attributes\":{\"callback\":null,\"data\":{\"x\":[\"2000\",\"2001\",\"2002\",\"2003\",\"2004\",\"2005\",\"2006\",\"2007\",\"2008\",\"2009\",\"2010\",\"2011\",\"2012\",\"2013\",\"2014\",\"2015\",\"2016\",\"2017\"],\"y\":[219.28408588120277,213.48414800134037,206.41811006155564,200.67120038874455,194.22090384430567,186.45995905793217,179.47945880804642,172.69824687103215,167.14239880717736,161.17966398798256,155.12810024875614,149.4076724816034,144.52542353326865,140.4374830912562,137.01364916667524,133.5566778030908,129.90816344064564,127.82152219368795]},\"selected\":{\"id\":\"16962\",\"type\":\"Selection\"},\"selection_policy\":{\"id\":\"16963\",\"type\":\"UnionRenderers\"}},\"id\":\"16465\",\"type\":\"ColumnDataSource\"},{\"attributes\":{\"axis_label\":\"Percentage\",\"formatter\":{\"id\":\"16440\",\"type\":\"BasicTickFormatter\"},\"ticker\":{\"id\":\"16414\",\"type\":\"BasicTicker\"}},\"id\":\"16413\",\"type\":\"LinearAxis\"},{\"attributes\":{\"items\":[{\"id\":\"16443\",\"type\":\"LegendItem\"},{\"id\":\"16464\",\"type\":\"LegendItem\"}],\"location\":\"bottom_left\"},\"id\":\"16442\",\"type\":\"Legend\"},{\"attributes\":{\"fill_color\":{\"value\":\"#5430F1\"},\"line_color\":{\"value\":\"#5430F1\"},\"line_width\":{\"value\":3},\"x\":{\"field\":\"x\"},\"y\":{\"field\":\"y\"}},\"id\":\"16466\",\"type\":\"Circle\"},{\"attributes\":{},\"id\":\"16414\",\"type\":\"BasicTicker\"},{\"attributes\":{\"label\":{\"value\":\"LDCs\"},\"renderers\":[{\"id\":\"16434\",\"type\":\"GlyphRenderer\"}]},\"id\":\"16443\",\"type\":\"LegendItem\"},{\"attributes\":{\"fill_alpha\":{\"value\":0.1},\"fill_color\":{\"value\":\"#1f77b4\"},\"line_alpha\":{\"value\":0.1},\"line_color\":{\"value\":\"#1f77b4\"},\"line_width\":{\"value\":3},\"x\":{\"field\":\"x\"},\"y\":{\"field\":\"y\"}},\"id\":\"16467\",\"type\":\"Circle\"},{\"attributes\":{\"dimension\":1,\"ticker\":{\"id\":\"16414\",\"type\":\"BasicTicker\"}},\"id\":\"16417\",\"type\":\"Grid\"},{\"attributes\":{\"callback\":null,\"data\":{\"x\":[\"2000\",\"2001\",\"2002\",\"2003\",\"2004\",\"2005\",\"2006\",\"2007\",\"2008\",\"2009\",\"2010\",\"2011\",\"2012\",\"2013\",\"2014\",\"2015\",\"2016\",\"2017\"],\"y\":[715.2447987144993,691.6849041419641,673.4892479999546,651.0563817071164,625.5069049458828,592.7740014378311,564.7764525894733,540.1215038192421,519.2159647732941,500.21556542920393,481.30634910908856,463.88510804587,448.827847164424,434.57010999810467,422.4587882882479,406.7932602988281,392.5254468961425,380.5719673986561]},\"selected\":{\"id\":\"16461\",\"type\":\"Selection\"},\"selection_policy\":{\"id\":\"16462\",\"type\":\"UnionRenderers\"}},\"id\":\"16444\",\"type\":\"ColumnDataSource\"},{\"attributes\":{\"data_source\":{\"id\":\"16465\",\"type\":\"ColumnDataSource\"},\"glyph\":{\"id\":\"16466\",\"type\":\"Circle\"},\"hover_glyph\":null,\"muted_glyph\":null,\"nonselection_glyph\":{\"id\":\"16467\",\"type\":\"Circle\"},\"selection_glyph\":null,\"view\":{\"id\":\"16469\",\"type\":\"CDSView\"}},\"id\":\"16468\",\"type\":\"GlyphRenderer\"}],\"root_ids\":[\"16397\"]},\"title\":\"Bokeh Application\",\"version\":\"1.3.4\"}};\n",
       "  var render_items = [{\"docid\":\"6aea517c-030a-4518-bf5b-efd2c5bf26e9\",\"roots\":{\"16397\":\"447f04da-fdca-401d-9c6f-eaa8ec12ead5\"}}];\n",
       "  root.Bokeh.embed.embed_items_notebook(docs_json, render_items);\n",
       "\n",
       "  }\n",
       "  if (root.Bokeh !== undefined) {\n",
       "    embed_document(root);\n",
       "  } else {\n",
       "    var attempts = 0;\n",
       "    var timer = setInterval(function(root) {\n",
       "      if (root.Bokeh !== undefined) {\n",
       "        embed_document(root);\n",
       "        clearInterval(timer);\n",
       "      }\n",
       "      attempts++;\n",
       "      if (attempts > 100) {\n",
       "        console.log(\"Bokeh: ERROR: Unable to run BokehJS code because BokehJS library is missing\");\n",
       "        clearInterval(timer);\n",
       "      }\n",
       "    }, 10, root)\n",
       "  }\n",
       "})(window);"
      ],
      "application/vnd.bokehjs_exec.v0+json": ""
     },
     "metadata": {
      "application/vnd.bokehjs_exec.v0+json": {
       "id": "16397"
      }
     },
     "output_type": "display_data"
    }
   ],
   "source": [
    "# Maternal mortality ratio\n",
    "years = list(map(str, list(range(2000,2018))))\n",
    "result = show_weighted_average(years, 'SH.STA.MMRT', 'SP.POP.TOTL.FE.IN', ['LDCs', 'Developing excluding LDCs'])"
   ]
  },
  {
   "cell_type": "markdown",
   "metadata": {},
   "source": [
    "# Some very general ideas\n",
    "\n",
    "+ The world is becoming increasingly unequal\n",
    "+ Great progress in certain areas, still an awful lot to do\n",
    "+ The SDGs and other internationally agreed development goals won't happen without accelerated progress in the LDCs."
   ]
  },
  {
   "cell_type": "markdown",
   "metadata": {
    "slideshow": {
     "slide_type": "slide"
    }
   },
   "source": [
    "# Many thanks\n",
    "\n",
    "Let's stay in touch\n",
    "\n",
    "Tomás González\n",
    "gonzalezt@un.org\n"
   ]
  }
 ],
 "metadata": {
  "celltoolbar": "Slideshow",
  "kernelspec": {
   "display_name": "Python 3",
   "language": "python",
   "name": "python3"
  },
  "language_info": {
   "codemirror_mode": {
    "name": "ipython",
    "version": 3
   },
   "file_extension": ".py",
   "mimetype": "text/x-python",
   "name": "python",
   "nbconvert_exporter": "python",
   "pygments_lexer": "ipython3",
   "version": "3.7.0"
  },
  "toc": {
   "base_numbering": 1,
   "nav_menu": {},
   "number_sections": true,
   "sideBar": true,
   "skip_h1_title": false,
   "title_cell": "Table of Contents",
   "title_sidebar": "Contents",
   "toc_cell": false,
   "toc_position": {},
   "toc_section_display": true,
   "toc_window_display": false
  }
 },
 "nbformat": 4,
 "nbformat_minor": 2
}
