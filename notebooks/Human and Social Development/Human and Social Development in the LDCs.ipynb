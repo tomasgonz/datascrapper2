{
 "cells": [
  {
   "cell_type": "code",
   "execution_count": 1,
   "metadata": {},
   "outputs": [
    {
     "data": {
      "text/html": [
       "\n",
       "    <div class=\"bk-root\">\n",
       "        <a href=\"https://bokeh.pydata.org\" target=\"_blank\" class=\"bk-logo bk-logo-small bk-logo-notebook\"></a>\n",
       "        <span id=\"1001\">Loading BokehJS ...</span>\n",
       "    </div>"
      ]
     },
     "metadata": {},
     "output_type": "display_data"
    },
    {
     "data": {
      "application/javascript": [
       "\n",
       "(function(root) {\n",
       "  function now() {\n",
       "    return new Date();\n",
       "  }\n",
       "\n",
       "  var force = true;\n",
       "\n",
       "  if (typeof root._bokeh_onload_callbacks === \"undefined\" || force === true) {\n",
       "    root._bokeh_onload_callbacks = [];\n",
       "    root._bokeh_is_loading = undefined;\n",
       "  }\n",
       "\n",
       "  var JS_MIME_TYPE = 'application/javascript';\n",
       "  var HTML_MIME_TYPE = 'text/html';\n",
       "  var EXEC_MIME_TYPE = 'application/vnd.bokehjs_exec.v0+json';\n",
       "  var CLASS_NAME = 'output_bokeh rendered_html';\n",
       "\n",
       "  /**\n",
       "   * Render data to the DOM node\n",
       "   */\n",
       "  function render(props, node) {\n",
       "    var script = document.createElement(\"script\");\n",
       "    node.appendChild(script);\n",
       "  }\n",
       "\n",
       "  /**\n",
       "   * Handle when an output is cleared or removed\n",
       "   */\n",
       "  function handleClearOutput(event, handle) {\n",
       "    var cell = handle.cell;\n",
       "\n",
       "    var id = cell.output_area._bokeh_element_id;\n",
       "    var server_id = cell.output_area._bokeh_server_id;\n",
       "    // Clean up Bokeh references\n",
       "    if (id != null && id in Bokeh.index) {\n",
       "      Bokeh.index[id].model.document.clear();\n",
       "      delete Bokeh.index[id];\n",
       "    }\n",
       "\n",
       "    if (server_id !== undefined) {\n",
       "      // Clean up Bokeh references\n",
       "      var cmd = \"from bokeh.io.state import curstate; print(curstate().uuid_to_server['\" + server_id + \"'].get_sessions()[0].document.roots[0]._id)\";\n",
       "      cell.notebook.kernel.execute(cmd, {\n",
       "        iopub: {\n",
       "          output: function(msg) {\n",
       "            var id = msg.content.text.trim();\n",
       "            if (id in Bokeh.index) {\n",
       "              Bokeh.index[id].model.document.clear();\n",
       "              delete Bokeh.index[id];\n",
       "            }\n",
       "          }\n",
       "        }\n",
       "      });\n",
       "      // Destroy server and session\n",
       "      var cmd = \"import bokeh.io.notebook as ion; ion.destroy_server('\" + server_id + \"')\";\n",
       "      cell.notebook.kernel.execute(cmd);\n",
       "    }\n",
       "  }\n",
       "\n",
       "  /**\n",
       "   * Handle when a new output is added\n",
       "   */\n",
       "  function handleAddOutput(event, handle) {\n",
       "    var output_area = handle.output_area;\n",
       "    var output = handle.output;\n",
       "\n",
       "    // limit handleAddOutput to display_data with EXEC_MIME_TYPE content only\n",
       "    if ((output.output_type != \"display_data\") || (!output.data.hasOwnProperty(EXEC_MIME_TYPE))) {\n",
       "      return\n",
       "    }\n",
       "\n",
       "    var toinsert = output_area.element.find(\".\" + CLASS_NAME.split(' ')[0]);\n",
       "\n",
       "    if (output.metadata[EXEC_MIME_TYPE][\"id\"] !== undefined) {\n",
       "      toinsert[toinsert.length - 1].firstChild.textContent = output.data[JS_MIME_TYPE];\n",
       "      // store reference to embed id on output_area\n",
       "      output_area._bokeh_element_id = output.metadata[EXEC_MIME_TYPE][\"id\"];\n",
       "    }\n",
       "    if (output.metadata[EXEC_MIME_TYPE][\"server_id\"] !== undefined) {\n",
       "      var bk_div = document.createElement(\"div\");\n",
       "      bk_div.innerHTML = output.data[HTML_MIME_TYPE];\n",
       "      var script_attrs = bk_div.children[0].attributes;\n",
       "      for (var i = 0; i < script_attrs.length; i++) {\n",
       "        toinsert[toinsert.length - 1].firstChild.setAttribute(script_attrs[i].name, script_attrs[i].value);\n",
       "      }\n",
       "      // store reference to server id on output_area\n",
       "      output_area._bokeh_server_id = output.metadata[EXEC_MIME_TYPE][\"server_id\"];\n",
       "    }\n",
       "  }\n",
       "\n",
       "  function register_renderer(events, OutputArea) {\n",
       "\n",
       "    function append_mime(data, metadata, element) {\n",
       "      // create a DOM node to render to\n",
       "      var toinsert = this.create_output_subarea(\n",
       "        metadata,\n",
       "        CLASS_NAME,\n",
       "        EXEC_MIME_TYPE\n",
       "      );\n",
       "      this.keyboard_manager.register_events(toinsert);\n",
       "      // Render to node\n",
       "      var props = {data: data, metadata: metadata[EXEC_MIME_TYPE]};\n",
       "      render(props, toinsert[toinsert.length - 1]);\n",
       "      element.append(toinsert);\n",
       "      return toinsert\n",
       "    }\n",
       "\n",
       "    /* Handle when an output is cleared or removed */\n",
       "    events.on('clear_output.CodeCell', handleClearOutput);\n",
       "    events.on('delete.Cell', handleClearOutput);\n",
       "\n",
       "    /* Handle when a new output is added */\n",
       "    events.on('output_added.OutputArea', handleAddOutput);\n",
       "\n",
       "    /**\n",
       "     * Register the mime type and append_mime function with output_area\n",
       "     */\n",
       "    OutputArea.prototype.register_mime_type(EXEC_MIME_TYPE, append_mime, {\n",
       "      /* Is output safe? */\n",
       "      safe: true,\n",
       "      /* Index of renderer in `output_area.display_order` */\n",
       "      index: 0\n",
       "    });\n",
       "  }\n",
       "\n",
       "  // register the mime type if in Jupyter Notebook environment and previously unregistered\n",
       "  if (root.Jupyter !== undefined) {\n",
       "    var events = require('base/js/events');\n",
       "    var OutputArea = require('notebook/js/outputarea').OutputArea;\n",
       "\n",
       "    if (OutputArea.prototype.mime_types().indexOf(EXEC_MIME_TYPE) == -1) {\n",
       "      register_renderer(events, OutputArea);\n",
       "    }\n",
       "  }\n",
       "\n",
       "  \n",
       "  if (typeof (root._bokeh_timeout) === \"undefined\" || force === true) {\n",
       "    root._bokeh_timeout = Date.now() + 5000;\n",
       "    root._bokeh_failed_load = false;\n",
       "  }\n",
       "\n",
       "  var NB_LOAD_WARNING = {'data': {'text/html':\n",
       "     \"<div style='background-color: #fdd'>\\n\"+\n",
       "     \"<p>\\n\"+\n",
       "     \"BokehJS does not appear to have successfully loaded. If loading BokehJS from CDN, this \\n\"+\n",
       "     \"may be due to a slow or bad network connection. Possible fixes:\\n\"+\n",
       "     \"</p>\\n\"+\n",
       "     \"<ul>\\n\"+\n",
       "     \"<li>re-rerun `output_notebook()` to attempt to load from CDN again, or</li>\\n\"+\n",
       "     \"<li>use INLINE resources instead, as so:</li>\\n\"+\n",
       "     \"</ul>\\n\"+\n",
       "     \"<code>\\n\"+\n",
       "     \"from bokeh.resources import INLINE\\n\"+\n",
       "     \"output_notebook(resources=INLINE)\\n\"+\n",
       "     \"</code>\\n\"+\n",
       "     \"</div>\"}};\n",
       "\n",
       "  function display_loaded() {\n",
       "    var el = document.getElementById(\"1001\");\n",
       "    if (el != null) {\n",
       "      el.textContent = \"BokehJS is loading...\";\n",
       "    }\n",
       "    if (root.Bokeh !== undefined) {\n",
       "      if (el != null) {\n",
       "        el.textContent = \"BokehJS \" + root.Bokeh.version + \" successfully loaded.\";\n",
       "      }\n",
       "    } else if (Date.now() < root._bokeh_timeout) {\n",
       "      setTimeout(display_loaded, 100)\n",
       "    }\n",
       "  }\n",
       "\n",
       "\n",
       "  function run_callbacks() {\n",
       "    try {\n",
       "      root._bokeh_onload_callbacks.forEach(function(callback) {\n",
       "        if (callback != null)\n",
       "          callback();\n",
       "      });\n",
       "    } finally {\n",
       "      delete root._bokeh_onload_callbacks\n",
       "    }\n",
       "    console.debug(\"Bokeh: all callbacks have finished\");\n",
       "  }\n",
       "\n",
       "  function load_libs(css_urls, js_urls, callback) {\n",
       "    if (css_urls == null) css_urls = [];\n",
       "    if (js_urls == null) js_urls = [];\n",
       "\n",
       "    root._bokeh_onload_callbacks.push(callback);\n",
       "    if (root._bokeh_is_loading > 0) {\n",
       "      console.debug(\"Bokeh: BokehJS is being loaded, scheduling callback at\", now());\n",
       "      return null;\n",
       "    }\n",
       "    if (js_urls == null || js_urls.length === 0) {\n",
       "      run_callbacks();\n",
       "      return null;\n",
       "    }\n",
       "    console.debug(\"Bokeh: BokehJS not loaded, scheduling load and callback at\", now());\n",
       "    root._bokeh_is_loading = css_urls.length + js_urls.length;\n",
       "\n",
       "    function on_load() {\n",
       "      root._bokeh_is_loading--;\n",
       "      if (root._bokeh_is_loading === 0) {\n",
       "        console.debug(\"Bokeh: all BokehJS libraries/stylesheets loaded\");\n",
       "        run_callbacks()\n",
       "      }\n",
       "    }\n",
       "\n",
       "    function on_error() {\n",
       "      console.error(\"failed to load \" + url);\n",
       "    }\n",
       "\n",
       "    for (var i = 0; i < css_urls.length; i++) {\n",
       "      var url = css_urls[i];\n",
       "      const element = document.createElement(\"link\");\n",
       "      element.onload = on_load;\n",
       "      element.onerror = on_error;\n",
       "      element.rel = \"stylesheet\";\n",
       "      element.type = \"text/css\";\n",
       "      element.href = url;\n",
       "      console.debug(\"Bokeh: injecting link tag for BokehJS stylesheet: \", url);\n",
       "      document.body.appendChild(element);\n",
       "    }\n",
       "\n",
       "    for (var i = 0; i < js_urls.length; i++) {\n",
       "      var url = js_urls[i];\n",
       "      var element = document.createElement('script');\n",
       "      element.onload = on_load;\n",
       "      element.onerror = on_error;\n",
       "      element.async = false;\n",
       "      element.src = url;\n",
       "      console.debug(\"Bokeh: injecting script tag for BokehJS library: \", url);\n",
       "      document.head.appendChild(element);\n",
       "    }\n",
       "  };var element = document.getElementById(\"1001\");\n",
       "  if (element == null) {\n",
       "    console.error(\"Bokeh: ERROR: autoload.js configured with elementid '1001' but no matching script tag was found. \")\n",
       "    return false;\n",
       "  }\n",
       "\n",
       "  function inject_raw_css(css) {\n",
       "    const element = document.createElement(\"style\");\n",
       "    element.appendChild(document.createTextNode(css));\n",
       "    document.body.appendChild(element);\n",
       "  }\n",
       "\n",
       "  var js_urls = [\"https://cdn.pydata.org/bokeh/release/bokeh-1.3.4.min.js\", \"https://cdn.pydata.org/bokeh/release/bokeh-widgets-1.3.4.min.js\", \"https://cdn.pydata.org/bokeh/release/bokeh-tables-1.3.4.min.js\", \"https://cdn.pydata.org/bokeh/release/bokeh-gl-1.3.4.min.js\"];\n",
       "  var css_urls = [];\n",
       "\n",
       "  var inline_js = [\n",
       "    function(Bokeh) {\n",
       "      Bokeh.set_log_level(\"info\");\n",
       "    },\n",
       "    \n",
       "    function(Bokeh) {\n",
       "      \n",
       "    },\n",
       "    function(Bokeh) {} // ensure no trailing comma for IE\n",
       "  ];\n",
       "\n",
       "  function run_inline_js() {\n",
       "    \n",
       "    if ((root.Bokeh !== undefined) || (force === true)) {\n",
       "      for (var i = 0; i < inline_js.length; i++) {\n",
       "        inline_js[i].call(root, root.Bokeh);\n",
       "      }if (force === true) {\n",
       "        display_loaded();\n",
       "      }} else if (Date.now() < root._bokeh_timeout) {\n",
       "      setTimeout(run_inline_js, 100);\n",
       "    } else if (!root._bokeh_failed_load) {\n",
       "      console.log(\"Bokeh: BokehJS failed to load within specified timeout.\");\n",
       "      root._bokeh_failed_load = true;\n",
       "    } else if (force !== true) {\n",
       "      var cell = $(document.getElementById(\"1001\")).parents('.cell').data().cell;\n",
       "      cell.output_area.append_execute_result(NB_LOAD_WARNING)\n",
       "    }\n",
       "\n",
       "  }\n",
       "\n",
       "  if (root._bokeh_is_loading === 0) {\n",
       "    console.debug(\"Bokeh: BokehJS loaded, going straight to plotting\");\n",
       "    run_inline_js();\n",
       "  } else {\n",
       "    load_libs(css_urls, js_urls, function() {\n",
       "      console.debug(\"Bokeh: BokehJS plotting callback run at\", now());\n",
       "      run_inline_js();\n",
       "    });\n",
       "  }\n",
       "}(window));"
      ],
      "application/vnd.bokehjs_load.v0+json": "\n(function(root) {\n  function now() {\n    return new Date();\n  }\n\n  var force = true;\n\n  if (typeof root._bokeh_onload_callbacks === \"undefined\" || force === true) {\n    root._bokeh_onload_callbacks = [];\n    root._bokeh_is_loading = undefined;\n  }\n\n  \n\n  \n  if (typeof (root._bokeh_timeout) === \"undefined\" || force === true) {\n    root._bokeh_timeout = Date.now() + 5000;\n    root._bokeh_failed_load = false;\n  }\n\n  var NB_LOAD_WARNING = {'data': {'text/html':\n     \"<div style='background-color: #fdd'>\\n\"+\n     \"<p>\\n\"+\n     \"BokehJS does not appear to have successfully loaded. If loading BokehJS from CDN, this \\n\"+\n     \"may be due to a slow or bad network connection. Possible fixes:\\n\"+\n     \"</p>\\n\"+\n     \"<ul>\\n\"+\n     \"<li>re-rerun `output_notebook()` to attempt to load from CDN again, or</li>\\n\"+\n     \"<li>use INLINE resources instead, as so:</li>\\n\"+\n     \"</ul>\\n\"+\n     \"<code>\\n\"+\n     \"from bokeh.resources import INLINE\\n\"+\n     \"output_notebook(resources=INLINE)\\n\"+\n     \"</code>\\n\"+\n     \"</div>\"}};\n\n  function display_loaded() {\n    var el = document.getElementById(\"1001\");\n    if (el != null) {\n      el.textContent = \"BokehJS is loading...\";\n    }\n    if (root.Bokeh !== undefined) {\n      if (el != null) {\n        el.textContent = \"BokehJS \" + root.Bokeh.version + \" successfully loaded.\";\n      }\n    } else if (Date.now() < root._bokeh_timeout) {\n      setTimeout(display_loaded, 100)\n    }\n  }\n\n\n  function run_callbacks() {\n    try {\n      root._bokeh_onload_callbacks.forEach(function(callback) {\n        if (callback != null)\n          callback();\n      });\n    } finally {\n      delete root._bokeh_onload_callbacks\n    }\n    console.debug(\"Bokeh: all callbacks have finished\");\n  }\n\n  function load_libs(css_urls, js_urls, callback) {\n    if (css_urls == null) css_urls = [];\n    if (js_urls == null) js_urls = [];\n\n    root._bokeh_onload_callbacks.push(callback);\n    if (root._bokeh_is_loading > 0) {\n      console.debug(\"Bokeh: BokehJS is being loaded, scheduling callback at\", now());\n      return null;\n    }\n    if (js_urls == null || js_urls.length === 0) {\n      run_callbacks();\n      return null;\n    }\n    console.debug(\"Bokeh: BokehJS not loaded, scheduling load and callback at\", now());\n    root._bokeh_is_loading = css_urls.length + js_urls.length;\n\n    function on_load() {\n      root._bokeh_is_loading--;\n      if (root._bokeh_is_loading === 0) {\n        console.debug(\"Bokeh: all BokehJS libraries/stylesheets loaded\");\n        run_callbacks()\n      }\n    }\n\n    function on_error() {\n      console.error(\"failed to load \" + url);\n    }\n\n    for (var i = 0; i < css_urls.length; i++) {\n      var url = css_urls[i];\n      const element = document.createElement(\"link\");\n      element.onload = on_load;\n      element.onerror = on_error;\n      element.rel = \"stylesheet\";\n      element.type = \"text/css\";\n      element.href = url;\n      console.debug(\"Bokeh: injecting link tag for BokehJS stylesheet: \", url);\n      document.body.appendChild(element);\n    }\n\n    for (var i = 0; i < js_urls.length; i++) {\n      var url = js_urls[i];\n      var element = document.createElement('script');\n      element.onload = on_load;\n      element.onerror = on_error;\n      element.async = false;\n      element.src = url;\n      console.debug(\"Bokeh: injecting script tag for BokehJS library: \", url);\n      document.head.appendChild(element);\n    }\n  };var element = document.getElementById(\"1001\");\n  if (element == null) {\n    console.error(\"Bokeh: ERROR: autoload.js configured with elementid '1001' but no matching script tag was found. \")\n    return false;\n  }\n\n  function inject_raw_css(css) {\n    const element = document.createElement(\"style\");\n    element.appendChild(document.createTextNode(css));\n    document.body.appendChild(element);\n  }\n\n  var js_urls = [\"https://cdn.pydata.org/bokeh/release/bokeh-1.3.4.min.js\", \"https://cdn.pydata.org/bokeh/release/bokeh-widgets-1.3.4.min.js\", \"https://cdn.pydata.org/bokeh/release/bokeh-tables-1.3.4.min.js\", \"https://cdn.pydata.org/bokeh/release/bokeh-gl-1.3.4.min.js\"];\n  var css_urls = [];\n\n  var inline_js = [\n    function(Bokeh) {\n      Bokeh.set_log_level(\"info\");\n    },\n    \n    function(Bokeh) {\n      \n    },\n    function(Bokeh) {} // ensure no trailing comma for IE\n  ];\n\n  function run_inline_js() {\n    \n    if ((root.Bokeh !== undefined) || (force === true)) {\n      for (var i = 0; i < inline_js.length; i++) {\n        inline_js[i].call(root, root.Bokeh);\n      }if (force === true) {\n        display_loaded();\n      }} else if (Date.now() < root._bokeh_timeout) {\n      setTimeout(run_inline_js, 100);\n    } else if (!root._bokeh_failed_load) {\n      console.log(\"Bokeh: BokehJS failed to load within specified timeout.\");\n      root._bokeh_failed_load = true;\n    } else if (force !== true) {\n      var cell = $(document.getElementById(\"1001\")).parents('.cell').data().cell;\n      cell.output_area.append_execute_result(NB_LOAD_WARNING)\n    }\n\n  }\n\n  if (root._bokeh_is_loading === 0) {\n    console.debug(\"Bokeh: BokehJS loaded, going straight to plotting\");\n    run_inline_js();\n  } else {\n    load_libs(css_urls, js_urls, function() {\n      console.debug(\"Bokeh: BokehJS plotting callback run at\", now());\n      run_inline_js();\n    });\n  }\n}(window));"
     },
     "metadata": {},
     "output_type": "display_data"
    }
   ],
   "source": [
    "import sys\n",
    "sys.path.append(\"../../\")\n",
    "from data.Frame import Frame\n",
    "from bk import show_weighted_average\n",
    "from bokeh.io import output_notebook\n",
    "from bokeh.plotting import figure, output_file, show, reset_output\n",
    "reset_output()\n",
    "output_notebook()"
   ]
  },
  {
   "cell_type": "code",
   "execution_count": 2,
   "metadata": {},
   "outputs": [],
   "source": [
    "years = list(map(str, list(range(2010,2018))))"
   ]
  },
  {
   "cell_type": "code",
   "execution_count": 3,
   "metadata": {},
   "outputs": [
    {
     "data": {
      "text/html": [
       "\n",
       "\n",
       "\n",
       "\n",
       "\n",
       "\n",
       "  <div class=\"bk-root\" id=\"69f4e440-e874-433f-a84e-3e9cd5fd9a39\" data-root-id=\"1002\"></div>\n"
      ]
     },
     "metadata": {},
     "output_type": "display_data"
    },
    {
     "data": {
      "application/javascript": [
       "(function(root) {\n",
       "  function embed_document(root) {\n",
       "    \n",
       "  var docs_json = {\"94563cbb-38f4-4d11-b44a-2a70e8108440\":{\"roots\":{\"references\":[{\"attributes\":{\"below\":[{\"id\":\"1013\",\"type\":\"LinearAxis\"}],\"center\":[{\"id\":\"1017\",\"type\":\"Grid\"},{\"id\":\"1022\",\"type\":\"Grid\"},{\"id\":\"1047\",\"type\":\"Legend\"}],\"left\":[{\"id\":\"1018\",\"type\":\"LinearAxis\"}],\"plot_height\":400,\"plot_width\":950,\"renderers\":[{\"id\":\"1039\",\"type\":\"GlyphRenderer\"},{\"id\":\"1052\",\"type\":\"GlyphRenderer\"},{\"id\":\"1057\",\"type\":\"GlyphRenderer\"},{\"id\":\"1073\",\"type\":\"GlyphRenderer\"}],\"title\":{\"id\":\"1003\",\"type\":\"Title\"},\"toolbar\":{\"id\":\"1029\",\"type\":\"Toolbar\"},\"x_range\":{\"id\":\"1005\",\"type\":\"DataRange1d\"},\"x_scale\":{\"id\":\"1009\",\"type\":\"LinearScale\"},\"y_range\":{\"id\":\"1007\",\"type\":\"DataRange1d\"},\"y_scale\":{\"id\":\"1011\",\"type\":\"LinearScale\"}},\"id\":\"1002\",\"subtype\":\"Figure\",\"type\":\"Plot\"},{\"attributes\":{\"callback\":null,\"data\":{\"x\":[\"2010\",\"2011\",\"2012\",\"2013\",\"2014\",\"2015\",\"2016\",\"2017\"],\"y\":[8.578041999413031,8.442632594164884,8.280803801688915,8.268547280285576,8.244332340757538,8.338024471321303,8.332428699040603,7.9445190124968805]},\"selected\":{\"id\":\"1086\",\"type\":\"Selection\"},\"selection_policy\":{\"id\":\"1087\",\"type\":\"UnionRenderers\"}},\"id\":\"1054\",\"type\":\"ColumnDataSource\"},{\"attributes\":{\"active_drag\":\"auto\",\"active_inspect\":\"auto\",\"active_multi\":null,\"active_scroll\":\"auto\",\"active_tap\":\"auto\",\"tools\":[{\"id\":\"1023\",\"type\":\"PanTool\"},{\"id\":\"1024\",\"type\":\"WheelZoomTool\"},{\"id\":\"1025\",\"type\":\"BoxZoomTool\"},{\"id\":\"1026\",\"type\":\"SaveTool\"},{\"id\":\"1027\",\"type\":\"ResetTool\"},{\"id\":\"1028\",\"type\":\"HelpTool\"},{\"id\":\"1075\",\"type\":\"HoverTool\"}]},\"id\":\"1029\",\"type\":\"Toolbar\"},{\"attributes\":{\"line_color\":\"blue\",\"line_width\":2,\"x\":{\"field\":\"x\"},\"y\":{\"field\":\"y\"}},\"id\":\"1055\",\"type\":\"Line\"},{\"attributes\":{\"line_alpha\":0.1,\"line_color\":\"#1f77b4\",\"line_width\":2,\"x\":{\"field\":\"x\"},\"y\":{\"field\":\"y\"}},\"id\":\"1056\",\"type\":\"Line\"},{\"attributes\":{\"line_color\":\"red\",\"line_width\":2,\"x\":{\"field\":\"x\"},\"y\":{\"field\":\"y\"}},\"id\":\"1037\",\"type\":\"Line\"},{\"attributes\":{},\"id\":\"1014\",\"type\":\"BasicTicker\"},{\"attributes\":{\"data_source\":{\"id\":\"1054\",\"type\":\"ColumnDataSource\"},\"glyph\":{\"id\":\"1055\",\"type\":\"Line\"},\"hover_glyph\":null,\"muted_glyph\":null,\"nonselection_glyph\":{\"id\":\"1056\",\"type\":\"Line\"},\"selection_glyph\":null,\"view\":{\"id\":\"1058\",\"type\":\"CDSView\"}},\"id\":\"1057\",\"type\":\"GlyphRenderer\"},{\"attributes\":{\"ticker\":{\"id\":\"1014\",\"type\":\"BasicTicker\"}},\"id\":\"1017\",\"type\":\"Grid\"},{\"attributes\":{\"source\":{\"id\":\"1054\",\"type\":\"ColumnDataSource\"}},\"id\":\"1058\",\"type\":\"CDSView\"},{\"attributes\":{\"source\":{\"id\":\"1036\",\"type\":\"ColumnDataSource\"}},\"id\":\"1040\",\"type\":\"CDSView\"},{\"attributes\":{\"axis_label\":\"Percentage\",\"formatter\":{\"id\":\"1043\",\"type\":\"BasicTickFormatter\"},\"ticker\":{\"id\":\"1019\",\"type\":\"BasicTicker\"}},\"id\":\"1018\",\"type\":\"LinearAxis\"},{\"attributes\":{},\"id\":\"1064\",\"type\":\"Selection\"},{\"attributes\":{\"line_alpha\":0.1,\"line_color\":\"#1f77b4\",\"line_width\":2,\"x\":{\"field\":\"x\"},\"y\":{\"field\":\"y\"}},\"id\":\"1038\",\"type\":\"Line\"},{\"attributes\":{},\"id\":\"1019\",\"type\":\"BasicTicker\"},{\"attributes\":{},\"id\":\"1065\",\"type\":\"UnionRenderers\"},{\"attributes\":{\"dimension\":1,\"ticker\":{\"id\":\"1019\",\"type\":\"BasicTicker\"}},\"id\":\"1022\",\"type\":\"Grid\"},{\"attributes\":{},\"id\":\"1066\",\"type\":\"Selection\"},{\"attributes\":{\"text\":\"Agriculture, forestry, and fishing, value added (% of GDP) weighted against GDP (current US$)\"},\"id\":\"1003\",\"type\":\"Title\"},{\"attributes\":{\"data_source\":{\"id\":\"1036\",\"type\":\"ColumnDataSource\"},\"glyph\":{\"id\":\"1037\",\"type\":\"Line\"},\"hover_glyph\":null,\"muted_glyph\":null,\"nonselection_glyph\":{\"id\":\"1038\",\"type\":\"Line\"},\"selection_glyph\":null,\"view\":{\"id\":\"1040\",\"type\":\"CDSView\"}},\"id\":\"1039\",\"type\":\"GlyphRenderer\"},{\"attributes\":{},\"id\":\"1067\",\"type\":\"UnionRenderers\"},{\"attributes\":{},\"id\":\"1043\",\"type\":\"BasicTickFormatter\"},{\"attributes\":{\"callback\":null},\"id\":\"1005\",\"type\":\"DataRange1d\"},{\"attributes\":{\"label\":{\"value\":\"Developing excluding LDCs\"},\"renderers\":[{\"id\":\"1057\",\"type\":\"GlyphRenderer\"}]},\"id\":\"1069\",\"type\":\"LegendItem\"},{\"attributes\":{\"callback\":null,\"data\":{\"x\":[\"2010\",\"2011\",\"2012\",\"2013\",\"2014\",\"2015\",\"2016\",\"2017\"],\"y\":[21.94358614728724,21.011183599950137,22.043847175440607,21.289167254407456,20.999326828948075,21.21460865217579,21.26276969611124,20.81361463180851]},\"selected\":{\"id\":\"1064\",\"type\":\"Selection\"},\"selection_policy\":{\"id\":\"1065\",\"type\":\"UnionRenderers\"}},\"id\":\"1036\",\"type\":\"ColumnDataSource\"},{\"attributes\":{},\"id\":\"1045\",\"type\":\"BasicTickFormatter\"},{\"attributes\":{\"callback\":null},\"id\":\"1007\",\"type\":\"DataRange1d\"},{\"attributes\":{\"callback\":null,\"data\":{\"x\":[\"2010\",\"2011\",\"2012\",\"2013\",\"2014\",\"2015\",\"2016\",\"2017\"],\"y\":[8.578041999413031,8.442632594164884,8.280803801688915,8.268547280285576,8.244332340757538,8.338024471321303,8.332428699040603,7.9445190124968805]},\"selected\":{\"id\":\"1088\",\"type\":\"Selection\"},\"selection_policy\":{\"id\":\"1089\",\"type\":\"UnionRenderers\"}},\"id\":\"1070\",\"type\":\"ColumnDataSource\"},{\"attributes\":{\"callback\":null,\"tooltips\":\"\\n        <div style=padding=5px>Year:@x</div>\\n        <div style=padding=5px>Value:@y</div>\\n        \"},\"id\":\"1075\",\"type\":\"HoverTool\"},{\"attributes\":{\"bottom_units\":\"screen\",\"fill_alpha\":{\"value\":0.5},\"fill_color\":{\"value\":\"lightgrey\"},\"left_units\":\"screen\",\"level\":\"overlay\",\"line_alpha\":{\"value\":1.0},\"line_color\":{\"value\":\"black\"},\"line_dash\":[4,4],\"line_width\":{\"value\":2},\"render_mode\":\"css\",\"right_units\":\"screen\",\"top_units\":\"screen\"},\"id\":\"1046\",\"type\":\"BoxAnnotation\"},{\"attributes\":{},\"id\":\"1009\",\"type\":\"LinearScale\"},{\"attributes\":{},\"id\":\"1087\",\"type\":\"UnionRenderers\"},{\"attributes\":{\"fill_color\":{\"value\":\"blue\"},\"line_color\":{\"value\":\"blue\"},\"line_width\":{\"value\":3},\"x\":{\"field\":\"x\"},\"y\":{\"field\":\"y\"}},\"id\":\"1071\",\"type\":\"Circle\"},{\"attributes\":{\"items\":[{\"id\":\"1048\",\"type\":\"LegendItem\"},{\"id\":\"1069\",\"type\":\"LegendItem\"}],\"location\":\"bottom_left\"},\"id\":\"1047\",\"type\":\"Legend\"},{\"attributes\":{},\"id\":\"1023\",\"type\":\"PanTool\"},{\"attributes\":{},\"id\":\"1011\",\"type\":\"LinearScale\"},{\"attributes\":{\"fill_alpha\":{\"value\":0.1},\"fill_color\":{\"value\":\"#1f77b4\"},\"line_alpha\":{\"value\":0.1},\"line_color\":{\"value\":\"#1f77b4\"},\"line_width\":{\"value\":3},\"x\":{\"field\":\"x\"},\"y\":{\"field\":\"y\"}},\"id\":\"1072\",\"type\":\"Circle\"},{\"attributes\":{\"label\":{\"value\":\"LDCs\"},\"renderers\":[{\"id\":\"1039\",\"type\":\"GlyphRenderer\"}]},\"id\":\"1048\",\"type\":\"LegendItem\"},{\"attributes\":{\"axis_label\":\"Years\",\"formatter\":{\"id\":\"1045\",\"type\":\"BasicTickFormatter\"},\"ticker\":{\"id\":\"1014\",\"type\":\"BasicTicker\"}},\"id\":\"1013\",\"type\":\"LinearAxis\"},{\"attributes\":{},\"id\":\"1024\",\"type\":\"WheelZoomTool\"},{\"attributes\":{},\"id\":\"1088\",\"type\":\"Selection\"},{\"attributes\":{\"data_source\":{\"id\":\"1070\",\"type\":\"ColumnDataSource\"},\"glyph\":{\"id\":\"1071\",\"type\":\"Circle\"},\"hover_glyph\":null,\"muted_glyph\":null,\"nonselection_glyph\":{\"id\":\"1072\",\"type\":\"Circle\"},\"selection_glyph\":null,\"view\":{\"id\":\"1074\",\"type\":\"CDSView\"}},\"id\":\"1073\",\"type\":\"GlyphRenderer\"},{\"attributes\":{\"callback\":null,\"data\":{\"x\":[\"2010\",\"2011\",\"2012\",\"2013\",\"2014\",\"2015\",\"2016\",\"2017\"],\"y\":[21.94358614728724,21.011183599950137,22.043847175440607,21.289167254407456,20.999326828948075,21.21460865217579,21.26276969611124,20.81361463180851]},\"selected\":{\"id\":\"1066\",\"type\":\"Selection\"},\"selection_policy\":{\"id\":\"1067\",\"type\":\"UnionRenderers\"}},\"id\":\"1049\",\"type\":\"ColumnDataSource\"},{\"attributes\":{\"overlay\":{\"id\":\"1046\",\"type\":\"BoxAnnotation\"}},\"id\":\"1025\",\"type\":\"BoxZoomTool\"},{\"attributes\":{\"source\":{\"id\":\"1070\",\"type\":\"ColumnDataSource\"}},\"id\":\"1074\",\"type\":\"CDSView\"},{\"attributes\":{\"fill_color\":{\"value\":\"red\"},\"line_color\":{\"value\":\"red\"},\"line_width\":{\"value\":3},\"x\":{\"field\":\"x\"},\"y\":{\"field\":\"y\"}},\"id\":\"1050\",\"type\":\"Circle\"},{\"attributes\":{},\"id\":\"1026\",\"type\":\"SaveTool\"},{\"attributes\":{},\"id\":\"1089\",\"type\":\"UnionRenderers\"},{\"attributes\":{\"fill_alpha\":{\"value\":0.1},\"fill_color\":{\"value\":\"#1f77b4\"},\"line_alpha\":{\"value\":0.1},\"line_color\":{\"value\":\"#1f77b4\"},\"line_width\":{\"value\":3},\"x\":{\"field\":\"x\"},\"y\":{\"field\":\"y\"}},\"id\":\"1051\",\"type\":\"Circle\"},{\"attributes\":{},\"id\":\"1027\",\"type\":\"ResetTool\"},{\"attributes\":{},\"id\":\"1086\",\"type\":\"Selection\"},{\"attributes\":{\"data_source\":{\"id\":\"1049\",\"type\":\"ColumnDataSource\"},\"glyph\":{\"id\":\"1050\",\"type\":\"Circle\"},\"hover_glyph\":null,\"muted_glyph\":null,\"nonselection_glyph\":{\"id\":\"1051\",\"type\":\"Circle\"},\"selection_glyph\":null,\"view\":{\"id\":\"1053\",\"type\":\"CDSView\"}},\"id\":\"1052\",\"type\":\"GlyphRenderer\"},{\"attributes\":{},\"id\":\"1028\",\"type\":\"HelpTool\"},{\"attributes\":{\"source\":{\"id\":\"1049\",\"type\":\"ColumnDataSource\"}},\"id\":\"1053\",\"type\":\"CDSView\"}],\"root_ids\":[\"1002\"]},\"title\":\"Bokeh Application\",\"version\":\"1.3.4\"}};\n",
       "  var render_items = [{\"docid\":\"94563cbb-38f4-4d11-b44a-2a70e8108440\",\"roots\":{\"1002\":\"69f4e440-e874-433f-a84e-3e9cd5fd9a39\"}}];\n",
       "  root.Bokeh.embed.embed_items_notebook(docs_json, render_items);\n",
       "\n",
       "  }\n",
       "  if (root.Bokeh !== undefined) {\n",
       "    embed_document(root);\n",
       "  } else {\n",
       "    var attempts = 0;\n",
       "    var timer = setInterval(function(root) {\n",
       "      if (root.Bokeh !== undefined) {\n",
       "        embed_document(root);\n",
       "        clearInterval(timer);\n",
       "      }\n",
       "      attempts++;\n",
       "      if (attempts > 100) {\n",
       "        console.log(\"Bokeh: ERROR: Unable to run BokehJS code because BokehJS library is missing\");\n",
       "        clearInterval(timer);\n",
       "      }\n",
       "    }, 10, root)\n",
       "  }\n",
       "})(window);"
      ],
      "application/vnd.bokehjs_exec.v0+json": ""
     },
     "metadata": {
      "application/vnd.bokehjs_exec.v0+json": {
       "id": "1002"
      }
     },
     "output_type": "display_data"
    }
   ],
   "source": [
    "show_weighted_average(years, 'NV.AGR.TOTL.ZS', 'NY.GDP.MKTP.CD', ['LDCs', 'Developing excluding LDCs'])"
   ]
  },
  {
   "cell_type": "code",
   "execution_count": 4,
   "metadata": {},
   "outputs": [
    {
     "data": {
      "text/html": [
       "\n",
       "\n",
       "\n",
       "\n",
       "\n",
       "\n",
       "  <div class=\"bk-root\" id=\"95e204d6-4996-42a6-b1dd-e02520b14737\" data-root-id=\"1175\"></div>\n"
      ]
     },
     "metadata": {},
     "output_type": "display_data"
    },
    {
     "data": {
      "application/javascript": [
       "(function(root) {\n",
       "  function embed_document(root) {\n",
       "    \n",
       "  var docs_json = {\"604c8f8f-ca7a-4cdc-a346-c5ea0aae52d5\":{\"roots\":{\"references\":[{\"attributes\":{\"below\":[{\"id\":\"1186\",\"type\":\"LinearAxis\"}],\"center\":[{\"id\":\"1190\",\"type\":\"Grid\"},{\"id\":\"1195\",\"type\":\"Grid\"},{\"id\":\"1220\",\"type\":\"Legend\"}],\"left\":[{\"id\":\"1191\",\"type\":\"LinearAxis\"}],\"plot_height\":400,\"plot_width\":950,\"renderers\":[{\"id\":\"1212\",\"type\":\"GlyphRenderer\"},{\"id\":\"1225\",\"type\":\"GlyphRenderer\"},{\"id\":\"1230\",\"type\":\"GlyphRenderer\"},{\"id\":\"1246\",\"type\":\"GlyphRenderer\"}],\"title\":{\"id\":\"1176\",\"type\":\"Title\"},\"toolbar\":{\"id\":\"1202\",\"type\":\"Toolbar\"},\"x_range\":{\"id\":\"1178\",\"type\":\"DataRange1d\"},\"x_scale\":{\"id\":\"1182\",\"type\":\"LinearScale\"},\"y_range\":{\"id\":\"1180\",\"type\":\"DataRange1d\"},\"y_scale\":{\"id\":\"1184\",\"type\":\"LinearScale\"}},\"id\":\"1175\",\"subtype\":\"Figure\",\"type\":\"Plot\"},{\"attributes\":{\"overlay\":{\"id\":\"1219\",\"type\":\"BoxAnnotation\"}},\"id\":\"1198\",\"type\":\"BoxZoomTool\"},{\"attributes\":{\"callback\":null},\"id\":\"1178\",\"type\":\"DataRange1d\"},{\"attributes\":{\"callback\":null,\"data\":{\"x\":[\"2010\",\"2011\",\"2012\",\"2013\",\"2014\",\"2015\",\"2016\",\"2017\"],\"y\":[51.89203527626144,51.22700828217377,50.57300177227712,49.92250999168939,49.27308811920352,48.62727125106838,47.983660157571435,47.34467173180428]},\"selected\":{\"id\":\"1273\",\"type\":\"Selection\"},\"selection_policy\":{\"id\":\"1274\",\"type\":\"UnionRenderers\"}},\"id\":\"1227\",\"type\":\"ColumnDataSource\"},{\"attributes\":{\"fill_color\":{\"value\":\"blue\"},\"line_color\":{\"value\":\"blue\"},\"line_width\":{\"value\":3},\"x\":{\"field\":\"x\"},\"y\":{\"field\":\"y\"}},\"id\":\"1244\",\"type\":\"Circle\"},{\"attributes\":{\"callback\":null},\"id\":\"1180\",\"type\":\"DataRange1d\"},{\"attributes\":{\"data_source\":{\"id\":\"1243\",\"type\":\"ColumnDataSource\"},\"glyph\":{\"id\":\"1244\",\"type\":\"Circle\"},\"hover_glyph\":null,\"muted_glyph\":null,\"nonselection_glyph\":{\"id\":\"1245\",\"type\":\"Circle\"},\"selection_glyph\":null,\"view\":{\"id\":\"1247\",\"type\":\"CDSView\"}},\"id\":\"1246\",\"type\":\"GlyphRenderer\"},{\"attributes\":{\"line_color\":\"red\",\"line_width\":2,\"x\":{\"field\":\"x\"},\"y\":{\"field\":\"y\"}},\"id\":\"1210\",\"type\":\"Line\"},{\"attributes\":{\"callback\":null,\"data\":{\"x\":[\"2010\",\"2011\",\"2012\",\"2013\",\"2014\",\"2015\",\"2016\",\"2017\"],\"y\":[70.53468445683478,70.02322338974272,69.54425681847671,69.04126913036824,68.53335948867445,68.02084860989429,67.5036702230874,66.9817255009623]},\"selected\":{\"id\":\"1239\",\"type\":\"Selection\"},\"selection_policy\":{\"id\":\"1240\",\"type\":\"UnionRenderers\"}},\"id\":\"1222\",\"type\":\"ColumnDataSource\"},{\"attributes\":{\"fill_color\":{\"value\":\"red\"},\"line_color\":{\"value\":\"red\"},\"line_width\":{\"value\":3},\"x\":{\"field\":\"x\"},\"y\":{\"field\":\"y\"}},\"id\":\"1223\",\"type\":\"Circle\"},{\"attributes\":{\"callback\":null,\"data\":{\"x\":[\"2010\",\"2011\",\"2012\",\"2013\",\"2014\",\"2015\",\"2016\",\"2017\"],\"y\":[70.53468445683478,70.02322338974272,69.54425681847671,69.04126913036824,68.53335948867445,68.02084860989429,67.5036702230874,66.9817255009623]},\"selected\":{\"id\":\"1237\",\"type\":\"Selection\"},\"selection_policy\":{\"id\":\"1238\",\"type\":\"UnionRenderers\"}},\"id\":\"1209\",\"type\":\"ColumnDataSource\"},{\"attributes\":{\"fill_alpha\":{\"value\":0.1},\"fill_color\":{\"value\":\"#1f77b4\"},\"line_alpha\":{\"value\":0.1},\"line_color\":{\"value\":\"#1f77b4\"},\"line_width\":{\"value\":3},\"x\":{\"field\":\"x\"},\"y\":{\"field\":\"y\"}},\"id\":\"1245\",\"type\":\"Circle\"},{\"attributes\":{\"line_alpha\":0.1,\"line_color\":\"#1f77b4\",\"line_width\":2,\"x\":{\"field\":\"x\"},\"y\":{\"field\":\"y\"}},\"id\":\"1211\",\"type\":\"Line\"},{\"attributes\":{\"fill_alpha\":{\"value\":0.1},\"fill_color\":{\"value\":\"#1f77b4\"},\"line_alpha\":{\"value\":0.1},\"line_color\":{\"value\":\"#1f77b4\"},\"line_width\":{\"value\":3},\"x\":{\"field\":\"x\"},\"y\":{\"field\":\"y\"}},\"id\":\"1224\",\"type\":\"Circle\"},{\"attributes\":{\"source\":{\"id\":\"1222\",\"type\":\"ColumnDataSource\"}},\"id\":\"1226\",\"type\":\"CDSView\"},{\"attributes\":{},\"id\":\"1240\",\"type\":\"UnionRenderers\"},{\"attributes\":{\"axis_label\":\"Percentage\",\"formatter\":{\"id\":\"1216\",\"type\":\"BasicTickFormatter\"},\"ticker\":{\"id\":\"1192\",\"type\":\"BasicTicker\"}},\"id\":\"1191\",\"type\":\"LinearAxis\"},{\"attributes\":{\"bottom_units\":\"screen\",\"fill_alpha\":{\"value\":0.5},\"fill_color\":{\"value\":\"lightgrey\"},\"left_units\":\"screen\",\"level\":\"overlay\",\"line_alpha\":{\"value\":1.0},\"line_color\":{\"value\":\"black\"},\"line_dash\":[4,4],\"line_width\":{\"value\":2},\"render_mode\":\"css\",\"right_units\":\"screen\",\"top_units\":\"screen\"},\"id\":\"1219\",\"type\":\"BoxAnnotation\"},{\"attributes\":{\"callback\":null,\"data\":{\"x\":[\"2010\",\"2011\",\"2012\",\"2013\",\"2014\",\"2015\",\"2016\",\"2017\"],\"y\":[51.89203527626144,51.22700828217377,50.57300177227712,49.92250999168939,49.27308811920352,48.62727125106838,47.983660157571435,47.34467173180428]},\"selected\":{\"id\":\"1275\",\"type\":\"Selection\"},\"selection_policy\":{\"id\":\"1276\",\"type\":\"UnionRenderers\"}},\"id\":\"1243\",\"type\":\"ColumnDataSource\"},{\"attributes\":{},\"id\":\"1192\",\"type\":\"BasicTicker\"},{\"attributes\":{\"items\":[{\"id\":\"1221\",\"type\":\"LegendItem\"},{\"id\":\"1242\",\"type\":\"LegendItem\"}],\"location\":\"bottom_left\"},\"id\":\"1220\",\"type\":\"Legend\"},{\"attributes\":{\"label\":{\"value\":\"Developing excluding LDCs\"},\"renderers\":[{\"id\":\"1230\",\"type\":\"GlyphRenderer\"}]},\"id\":\"1242\",\"type\":\"LegendItem\"},{\"attributes\":{},\"id\":\"1273\",\"type\":\"Selection\"},{\"attributes\":{\"dimension\":1,\"ticker\":{\"id\":\"1192\",\"type\":\"BasicTicker\"}},\"id\":\"1195\",\"type\":\"Grid\"},{\"attributes\":{},\"id\":\"1182\",\"type\":\"LinearScale\"},{\"attributes\":{\"label\":{\"value\":\"LDCs\"},\"renderers\":[{\"id\":\"1212\",\"type\":\"GlyphRenderer\"}]},\"id\":\"1221\",\"type\":\"LegendItem\"},{\"attributes\":{\"axis_label\":\"Years\",\"formatter\":{\"id\":\"1218\",\"type\":\"BasicTickFormatter\"},\"ticker\":{\"id\":\"1187\",\"type\":\"BasicTicker\"}},\"id\":\"1186\",\"type\":\"LinearAxis\"},{\"attributes\":{},\"id\":\"1237\",\"type\":\"Selection\"},{\"attributes\":{\"source\":{\"id\":\"1209\",\"type\":\"ColumnDataSource\"}},\"id\":\"1213\",\"type\":\"CDSView\"},{\"attributes\":{},\"id\":\"1187\",\"type\":\"BasicTicker\"},{\"attributes\":{},\"id\":\"1216\",\"type\":\"BasicTickFormatter\"},{\"attributes\":{\"ticker\":{\"id\":\"1187\",\"type\":\"BasicTicker\"}},\"id\":\"1190\",\"type\":\"Grid\"},{\"attributes\":{},\"id\":\"1218\",\"type\":\"BasicTickFormatter\"},{\"attributes\":{},\"id\":\"1184\",\"type\":\"LinearScale\"},{\"attributes\":{\"active_drag\":\"auto\",\"active_inspect\":\"auto\",\"active_multi\":null,\"active_scroll\":\"auto\",\"active_tap\":\"auto\",\"tools\":[{\"id\":\"1196\",\"type\":\"PanTool\"},{\"id\":\"1197\",\"type\":\"WheelZoomTool\"},{\"id\":\"1198\",\"type\":\"BoxZoomTool\"},{\"id\":\"1199\",\"type\":\"SaveTool\"},{\"id\":\"1200\",\"type\":\"ResetTool\"},{\"id\":\"1201\",\"type\":\"HelpTool\"},{\"id\":\"1248\",\"type\":\"HoverTool\"}]},\"id\":\"1202\",\"type\":\"Toolbar\"},{\"attributes\":{\"line_color\":\"blue\",\"line_width\":2,\"x\":{\"field\":\"x\"},\"y\":{\"field\":\"y\"}},\"id\":\"1228\",\"type\":\"Line\"},{\"attributes\":{\"data_source\":{\"id\":\"1209\",\"type\":\"ColumnDataSource\"},\"glyph\":{\"id\":\"1210\",\"type\":\"Line\"},\"hover_glyph\":null,\"muted_glyph\":null,\"nonselection_glyph\":{\"id\":\"1211\",\"type\":\"Line\"},\"selection_glyph\":null,\"view\":{\"id\":\"1213\",\"type\":\"CDSView\"}},\"id\":\"1212\",\"type\":\"GlyphRenderer\"},{\"attributes\":{\"line_alpha\":0.1,\"line_color\":\"#1f77b4\",\"line_width\":2,\"x\":{\"field\":\"x\"},\"y\":{\"field\":\"y\"}},\"id\":\"1229\",\"type\":\"Line\"},{\"attributes\":{},\"id\":\"1199\",\"type\":\"SaveTool\"},{\"attributes\":{},\"id\":\"1274\",\"type\":\"UnionRenderers\"},{\"attributes\":{},\"id\":\"1200\",\"type\":\"ResetTool\"},{\"attributes\":{},\"id\":\"1276\",\"type\":\"UnionRenderers\"},{\"attributes\":{\"source\":{\"id\":\"1227\",\"type\":\"ColumnDataSource\"}},\"id\":\"1231\",\"type\":\"CDSView\"},{\"attributes\":{\"callback\":null,\"tooltips\":\"\\n        <div style=padding=5px>Year:@x</div>\\n        <div style=padding=5px>Value:@y</div>\\n        \"},\"id\":\"1248\",\"type\":\"HoverTool\"},{\"attributes\":{},\"id\":\"1201\",\"type\":\"HelpTool\"},{\"attributes\":{},\"id\":\"1275\",\"type\":\"Selection\"},{\"attributes\":{\"data_source\":{\"id\":\"1222\",\"type\":\"ColumnDataSource\"},\"glyph\":{\"id\":\"1223\",\"type\":\"Circle\"},\"hover_glyph\":null,\"muted_glyph\":null,\"nonselection_glyph\":{\"id\":\"1224\",\"type\":\"Circle\"},\"selection_glyph\":null,\"view\":{\"id\":\"1226\",\"type\":\"CDSView\"}},\"id\":\"1225\",\"type\":\"GlyphRenderer\"},{\"attributes\":{},\"id\":\"1238\",\"type\":\"UnionRenderers\"},{\"attributes\":{\"source\":{\"id\":\"1243\",\"type\":\"ColumnDataSource\"}},\"id\":\"1247\",\"type\":\"CDSView\"},{\"attributes\":{},\"id\":\"1196\",\"type\":\"PanTool\"},{\"attributes\":{},\"id\":\"1239\",\"type\":\"Selection\"},{\"attributes\":{\"text\":\"Rural population (% of total population) weighted against Population, total\"},\"id\":\"1176\",\"type\":\"Title\"},{\"attributes\":{},\"id\":\"1197\",\"type\":\"WheelZoomTool\"},{\"attributes\":{\"data_source\":{\"id\":\"1227\",\"type\":\"ColumnDataSource\"},\"glyph\":{\"id\":\"1228\",\"type\":\"Line\"},\"hover_glyph\":null,\"muted_glyph\":null,\"nonselection_glyph\":{\"id\":\"1229\",\"type\":\"Line\"},\"selection_glyph\":null,\"view\":{\"id\":\"1231\",\"type\":\"CDSView\"}},\"id\":\"1230\",\"type\":\"GlyphRenderer\"}],\"root_ids\":[\"1175\"]},\"title\":\"Bokeh Application\",\"version\":\"1.3.4\"}};\n",
       "  var render_items = [{\"docid\":\"604c8f8f-ca7a-4cdc-a346-c5ea0aae52d5\",\"roots\":{\"1175\":\"95e204d6-4996-42a6-b1dd-e02520b14737\"}}];\n",
       "  root.Bokeh.embed.embed_items_notebook(docs_json, render_items);\n",
       "\n",
       "  }\n",
       "  if (root.Bokeh !== undefined) {\n",
       "    embed_document(root);\n",
       "  } else {\n",
       "    var attempts = 0;\n",
       "    var timer = setInterval(function(root) {\n",
       "      if (root.Bokeh !== undefined) {\n",
       "        embed_document(root);\n",
       "        clearInterval(timer);\n",
       "      }\n",
       "      attempts++;\n",
       "      if (attempts > 100) {\n",
       "        console.log(\"Bokeh: ERROR: Unable to run BokehJS code because BokehJS library is missing\");\n",
       "        clearInterval(timer);\n",
       "      }\n",
       "    }, 10, root)\n",
       "  }\n",
       "})(window);"
      ],
      "application/vnd.bokehjs_exec.v0+json": ""
     },
     "metadata": {
      "application/vnd.bokehjs_exec.v0+json": {
       "id": "1175"
      }
     },
     "output_type": "display_data"
    }
   ],
   "source": [
    "# Urban population as a percentage of total population\n",
    "show_weighted_average(years, 'SP.RUR.TOTL.ZS', 'SP.POP.TOTL', ['LDCs', 'Developing excluding LDCs'])"
   ]
  },
  {
   "cell_type": "code",
   "execution_count": 5,
   "metadata": {},
   "outputs": [
    {
     "data": {
      "text/html": [
       "\n",
       "\n",
       "\n",
       "\n",
       "\n",
       "\n",
       "  <div class=\"bk-root\" id=\"f1cfd71c-a410-4dbc-a36f-021ad28bab5b\" data-root-id=\"1362\"></div>\n"
      ]
     },
     "metadata": {},
     "output_type": "display_data"
    },
    {
     "data": {
      "application/javascript": [
       "(function(root) {\n",
       "  function embed_document(root) {\n",
       "    \n",
       "  var docs_json = {\"d50ce066-b5a3-44a4-901a-0f0bd10d06af\":{\"roots\":{\"references\":[{\"attributes\":{\"below\":[{\"id\":\"1373\",\"type\":\"LinearAxis\"}],\"center\":[{\"id\":\"1377\",\"type\":\"Grid\"},{\"id\":\"1382\",\"type\":\"Grid\"},{\"id\":\"1407\",\"type\":\"Legend\"}],\"left\":[{\"id\":\"1378\",\"type\":\"LinearAxis\"}],\"plot_height\":400,\"plot_width\":950,\"renderers\":[{\"id\":\"1399\",\"type\":\"GlyphRenderer\"},{\"id\":\"1412\",\"type\":\"GlyphRenderer\"},{\"id\":\"1417\",\"type\":\"GlyphRenderer\"},{\"id\":\"1433\",\"type\":\"GlyphRenderer\"}],\"title\":{\"id\":\"1363\",\"type\":\"Title\"},\"toolbar\":{\"id\":\"1389\",\"type\":\"Toolbar\"},\"x_range\":{\"id\":\"1365\",\"type\":\"DataRange1d\"},\"x_scale\":{\"id\":\"1369\",\"type\":\"LinearScale\"},\"y_range\":{\"id\":\"1367\",\"type\":\"DataRange1d\"},\"y_scale\":{\"id\":\"1371\",\"type\":\"LinearScale\"}},\"id\":\"1362\",\"subtype\":\"Figure\",\"type\":\"Plot\"},{\"attributes\":{\"data_source\":{\"id\":\"1409\",\"type\":\"ColumnDataSource\"},\"glyph\":{\"id\":\"1410\",\"type\":\"Circle\"},\"hover_glyph\":null,\"muted_glyph\":null,\"nonselection_glyph\":{\"id\":\"1411\",\"type\":\"Circle\"},\"selection_glyph\":null,\"view\":{\"id\":\"1413\",\"type\":\"CDSView\"}},\"id\":\"1412\",\"type\":\"GlyphRenderer\"},{\"attributes\":{},\"id\":\"1383\",\"type\":\"PanTool\"},{\"attributes\":{},\"id\":\"1474\",\"type\":\"Selection\"},{\"attributes\":{\"source\":{\"id\":\"1409\",\"type\":\"ColumnDataSource\"}},\"id\":\"1413\",\"type\":\"CDSView\"},{\"attributes\":{},\"id\":\"1384\",\"type\":\"WheelZoomTool\"},{\"attributes\":{},\"id\":\"1475\",\"type\":\"UnionRenderers\"},{\"attributes\":{\"callback\":null,\"data\":{\"x\":[\"2010\",\"2011\",\"2012\",\"2013\",\"2014\",\"2015\",\"2016\",\"2017\"],\"y\":[44.17895500170897,46.379028286829,48.62938786590606,50.964846617773375,53.35002880170789,55.76782165250671,58.22878123081063,60.72069424656215]},\"selected\":{\"id\":\"1474\",\"type\":\"Selection\"},\"selection_policy\":{\"id\":\"1475\",\"type\":\"UnionRenderers\"}},\"id\":\"1414\",\"type\":\"ColumnDataSource\"},{\"attributes\":{\"overlay\":{\"id\":\"1406\",\"type\":\"BoxAnnotation\"}},\"id\":\"1385\",\"type\":\"BoxZoomTool\"},{\"attributes\":{},\"id\":\"1476\",\"type\":\"Selection\"},{\"attributes\":{\"line_color\":\"blue\",\"line_width\":2,\"x\":{\"field\":\"x\"},\"y\":{\"field\":\"y\"}},\"id\":\"1415\",\"type\":\"Line\"},{\"attributes\":{},\"id\":\"1386\",\"type\":\"SaveTool\"},{\"attributes\":{},\"id\":\"1477\",\"type\":\"UnionRenderers\"},{\"attributes\":{\"line_alpha\":0.1,\"line_color\":\"#1f77b4\",\"line_width\":2,\"x\":{\"field\":\"x\"},\"y\":{\"field\":\"y\"}},\"id\":\"1416\",\"type\":\"Line\"},{\"attributes\":{},\"id\":\"1387\",\"type\":\"ResetTool\"},{\"attributes\":{\"text\":\"People using safely managed sanitation services (% of population) weighted against Population, total\"},\"id\":\"1363\",\"type\":\"Title\"},{\"attributes\":{\"data_source\":{\"id\":\"1414\",\"type\":\"ColumnDataSource\"},\"glyph\":{\"id\":\"1415\",\"type\":\"Line\"},\"hover_glyph\":null,\"muted_glyph\":null,\"nonselection_glyph\":{\"id\":\"1416\",\"type\":\"Line\"},\"selection_glyph\":null,\"view\":{\"id\":\"1418\",\"type\":\"CDSView\"}},\"id\":\"1417\",\"type\":\"GlyphRenderer\"},{\"attributes\":{},\"id\":\"1388\",\"type\":\"HelpTool\"},{\"attributes\":{\"callback\":null},\"id\":\"1365\",\"type\":\"DataRange1d\"},{\"attributes\":{\"source\":{\"id\":\"1414\",\"type\":\"ColumnDataSource\"}},\"id\":\"1418\",\"type\":\"CDSView\"},{\"attributes\":{\"active_drag\":\"auto\",\"active_inspect\":\"auto\",\"active_multi\":null,\"active_scroll\":\"auto\",\"active_tap\":\"auto\",\"tools\":[{\"id\":\"1383\",\"type\":\"PanTool\"},{\"id\":\"1384\",\"type\":\"WheelZoomTool\"},{\"id\":\"1385\",\"type\":\"BoxZoomTool\"},{\"id\":\"1386\",\"type\":\"SaveTool\"},{\"id\":\"1387\",\"type\":\"ResetTool\"},{\"id\":\"1388\",\"type\":\"HelpTool\"},{\"id\":\"1435\",\"type\":\"HoverTool\"}]},\"id\":\"1389\",\"type\":\"Toolbar\"},{\"attributes\":{\"callback\":null},\"id\":\"1367\",\"type\":\"DataRange1d\"},{\"attributes\":{\"line_alpha\":0.1,\"line_color\":\"#1f77b4\",\"line_width\":2,\"x\":{\"field\":\"x\"},\"y\":{\"field\":\"y\"}},\"id\":\"1398\",\"type\":\"Line\"},{\"attributes\":{},\"id\":\"1424\",\"type\":\"Selection\"},{\"attributes\":{},\"id\":\"1369\",\"type\":\"LinearScale\"},{\"attributes\":{\"data_source\":{\"id\":\"1396\",\"type\":\"ColumnDataSource\"},\"glyph\":{\"id\":\"1397\",\"type\":\"Line\"},\"hover_glyph\":null,\"muted_glyph\":null,\"nonselection_glyph\":{\"id\":\"1398\",\"type\":\"Line\"},\"selection_glyph\":null,\"view\":{\"id\":\"1400\",\"type\":\"CDSView\"}},\"id\":\"1399\",\"type\":\"GlyphRenderer\"},{\"attributes\":{},\"id\":\"1425\",\"type\":\"UnionRenderers\"},{\"attributes\":{},\"id\":\"1371\",\"type\":\"LinearScale\"},{\"attributes\":{},\"id\":\"1426\",\"type\":\"Selection\"},{\"attributes\":{\"source\":{\"id\":\"1396\",\"type\":\"ColumnDataSource\"}},\"id\":\"1400\",\"type\":\"CDSView\"},{\"attributes\":{\"axis_label\":\"Years\",\"formatter\":{\"id\":\"1405\",\"type\":\"BasicTickFormatter\"},\"ticker\":{\"id\":\"1374\",\"type\":\"BasicTicker\"}},\"id\":\"1373\",\"type\":\"LinearAxis\"},{\"attributes\":{},\"id\":\"1427\",\"type\":\"UnionRenderers\"},{\"attributes\":{},\"id\":\"1403\",\"type\":\"BasicTickFormatter\"},{\"attributes\":{},\"id\":\"1374\",\"type\":\"BasicTicker\"},{\"attributes\":{\"label\":{\"value\":\"Developing excluding LDCs\"},\"renderers\":[{\"id\":\"1417\",\"type\":\"GlyphRenderer\"}]},\"id\":\"1429\",\"type\":\"LegendItem\"},{\"attributes\":{\"ticker\":{\"id\":\"1374\",\"type\":\"BasicTicker\"}},\"id\":\"1377\",\"type\":\"Grid\"},{\"attributes\":{},\"id\":\"1405\",\"type\":\"BasicTickFormatter\"},{\"attributes\":{\"callback\":null,\"data\":{\"x\":[\"2010\",\"2011\",\"2012\",\"2013\",\"2014\",\"2015\",\"2016\",\"2017\"],\"y\":[44.17895500170897,46.379028286829,48.62938786590606,50.964846617773375,53.35002880170789,55.76782165250671,58.22878123081063,60.72069424656215]},\"selected\":{\"id\":\"1476\",\"type\":\"Selection\"},\"selection_policy\":{\"id\":\"1477\",\"type\":\"UnionRenderers\"}},\"id\":\"1430\",\"type\":\"ColumnDataSource\"},{\"attributes\":{\"axis_label\":\"Percentage\",\"formatter\":{\"id\":\"1403\",\"type\":\"BasicTickFormatter\"},\"ticker\":{\"id\":\"1379\",\"type\":\"BasicTicker\"}},\"id\":\"1378\",\"type\":\"LinearAxis\"},{\"attributes\":{\"bottom_units\":\"screen\",\"fill_alpha\":{\"value\":0.5},\"fill_color\":{\"value\":\"lightgrey\"},\"left_units\":\"screen\",\"level\":\"overlay\",\"line_alpha\":{\"value\":1.0},\"line_color\":{\"value\":\"black\"},\"line_dash\":[4,4],\"line_width\":{\"value\":2},\"render_mode\":\"css\",\"right_units\":\"screen\",\"top_units\":\"screen\"},\"id\":\"1406\",\"type\":\"BoxAnnotation\"},{\"attributes\":{\"callback\":null,\"data\":{\"x\":[\"2010\",\"2011\",\"2012\",\"2013\",\"2014\",\"2015\",\"2016\",\"2017\"],\"y\":[16.709045789768172,17.553474451435992,18.374064944696872,19.187805301854954,19.99536707307814,20.797136473512598,21.58898092737968,22.374104786870443]},\"selected\":{\"id\":\"1426\",\"type\":\"Selection\"},\"selection_policy\":{\"id\":\"1427\",\"type\":\"UnionRenderers\"}},\"id\":\"1409\",\"type\":\"ColumnDataSource\"},{\"attributes\":{\"fill_color\":{\"value\":\"blue\"},\"line_color\":{\"value\":\"blue\"},\"line_width\":{\"value\":3},\"x\":{\"field\":\"x\"},\"y\":{\"field\":\"y\"}},\"id\":\"1431\",\"type\":\"Circle\"},{\"attributes\":{},\"id\":\"1379\",\"type\":\"BasicTicker\"},{\"attributes\":{\"items\":[{\"id\":\"1408\",\"type\":\"LegendItem\"},{\"id\":\"1429\",\"type\":\"LegendItem\"}],\"location\":\"bottom_left\"},\"id\":\"1407\",\"type\":\"Legend\"},{\"attributes\":{\"fill_alpha\":{\"value\":0.1},\"fill_color\":{\"value\":\"#1f77b4\"},\"line_alpha\":{\"value\":0.1},\"line_color\":{\"value\":\"#1f77b4\"},\"line_width\":{\"value\":3},\"x\":{\"field\":\"x\"},\"y\":{\"field\":\"y\"}},\"id\":\"1432\",\"type\":\"Circle\"},{\"attributes\":{\"dimension\":1,\"ticker\":{\"id\":\"1379\",\"type\":\"BasicTicker\"}},\"id\":\"1382\",\"type\":\"Grid\"},{\"attributes\":{\"label\":{\"value\":\"LDCs\"},\"renderers\":[{\"id\":\"1399\",\"type\":\"GlyphRenderer\"}]},\"id\":\"1408\",\"type\":\"LegendItem\"},{\"attributes\":{\"data_source\":{\"id\":\"1430\",\"type\":\"ColumnDataSource\"},\"glyph\":{\"id\":\"1431\",\"type\":\"Circle\"},\"hover_glyph\":null,\"muted_glyph\":null,\"nonselection_glyph\":{\"id\":\"1432\",\"type\":\"Circle\"},\"selection_glyph\":null,\"view\":{\"id\":\"1434\",\"type\":\"CDSView\"}},\"id\":\"1433\",\"type\":\"GlyphRenderer\"},{\"attributes\":{\"line_color\":\"red\",\"line_width\":2,\"x\":{\"field\":\"x\"},\"y\":{\"field\":\"y\"}},\"id\":\"1397\",\"type\":\"Line\"},{\"attributes\":{\"source\":{\"id\":\"1430\",\"type\":\"ColumnDataSource\"}},\"id\":\"1434\",\"type\":\"CDSView\"},{\"attributes\":{\"fill_color\":{\"value\":\"red\"},\"line_color\":{\"value\":\"red\"},\"line_width\":{\"value\":3},\"x\":{\"field\":\"x\"},\"y\":{\"field\":\"y\"}},\"id\":\"1410\",\"type\":\"Circle\"},{\"attributes\":{\"callback\":null,\"data\":{\"x\":[\"2010\",\"2011\",\"2012\",\"2013\",\"2014\",\"2015\",\"2016\",\"2017\"],\"y\":[16.709045789768172,17.553474451435992,18.374064944696872,19.187805301854954,19.99536707307814,20.797136473512598,21.58898092737968,22.374104786870443]},\"selected\":{\"id\":\"1424\",\"type\":\"Selection\"},\"selection_policy\":{\"id\":\"1425\",\"type\":\"UnionRenderers\"}},\"id\":\"1396\",\"type\":\"ColumnDataSource\"},{\"attributes\":{\"callback\":null,\"tooltips\":\"\\n        <div style=padding=5px>Year:@x</div>\\n        <div style=padding=5px>Value:@y</div>\\n        \"},\"id\":\"1435\",\"type\":\"HoverTool\"},{\"attributes\":{\"fill_alpha\":{\"value\":0.1},\"fill_color\":{\"value\":\"#1f77b4\"},\"line_alpha\":{\"value\":0.1},\"line_color\":{\"value\":\"#1f77b4\"},\"line_width\":{\"value\":3},\"x\":{\"field\":\"x\"},\"y\":{\"field\":\"y\"}},\"id\":\"1411\",\"type\":\"Circle\"}],\"root_ids\":[\"1362\"]},\"title\":\"Bokeh Application\",\"version\":\"1.3.4\"}};\n",
       "  var render_items = [{\"docid\":\"d50ce066-b5a3-44a4-901a-0f0bd10d06af\",\"roots\":{\"1362\":\"f1cfd71c-a410-4dbc-a36f-021ad28bab5b\"}}];\n",
       "  root.Bokeh.embed.embed_items_notebook(docs_json, render_items);\n",
       "\n",
       "  }\n",
       "  if (root.Bokeh !== undefined) {\n",
       "    embed_document(root);\n",
       "  } else {\n",
       "    var attempts = 0;\n",
       "    var timer = setInterval(function(root) {\n",
       "      if (root.Bokeh !== undefined) {\n",
       "        embed_document(root);\n",
       "        clearInterval(timer);\n",
       "      }\n",
       "      attempts++;\n",
       "      if (attempts > 100) {\n",
       "        console.log(\"Bokeh: ERROR: Unable to run BokehJS code because BokehJS library is missing\");\n",
       "        clearInterval(timer);\n",
       "      }\n",
       "    }, 10, root)\n",
       "  }\n",
       "})(window);"
      ],
      "application/vnd.bokehjs_exec.v0+json": ""
     },
     "metadata": {
      "application/vnd.bokehjs_exec.v0+json": {
       "id": "1362"
      }
     },
     "output_type": "display_data"
    }
   ],
   "source": [
    "# Access to safely managed sanitation services\n",
    "show_weighted_average(years, 'SH.STA.SMSS.ZS', 'SP.POP.TOTL', ['LDCs', 'Developing excluding LDCs'])"
   ]
  },
  {
   "cell_type": "code",
   "execution_count": 6,
   "metadata": {},
   "outputs": [
    {
     "data": {
      "text/html": [
       "\n",
       "\n",
       "\n",
       "\n",
       "\n",
       "\n",
       "  <div class=\"bk-root\" id=\"6c65f948-d2bb-4d8c-abae-b741dd612244\" data-root-id=\"1563\"></div>\n"
      ]
     },
     "metadata": {},
     "output_type": "display_data"
    },
    {
     "data": {
      "application/javascript": [
       "(function(root) {\n",
       "  function embed_document(root) {\n",
       "    \n",
       "  var docs_json = {\"cf575451-97aa-4e57-a649-4ff0c2391e8f\":{\"roots\":{\"references\":[{\"attributes\":{\"below\":[{\"id\":\"1574\",\"type\":\"LinearAxis\"}],\"center\":[{\"id\":\"1578\",\"type\":\"Grid\"},{\"id\":\"1583\",\"type\":\"Grid\"},{\"id\":\"1608\",\"type\":\"Legend\"}],\"left\":[{\"id\":\"1579\",\"type\":\"LinearAxis\"}],\"plot_height\":400,\"plot_width\":950,\"renderers\":[{\"id\":\"1600\",\"type\":\"GlyphRenderer\"},{\"id\":\"1613\",\"type\":\"GlyphRenderer\"},{\"id\":\"1618\",\"type\":\"GlyphRenderer\"},{\"id\":\"1634\",\"type\":\"GlyphRenderer\"}],\"title\":{\"id\":\"1564\",\"type\":\"Title\"},\"toolbar\":{\"id\":\"1590\",\"type\":\"Toolbar\"},\"x_range\":{\"id\":\"1566\",\"type\":\"DataRange1d\"},\"x_scale\":{\"id\":\"1570\",\"type\":\"LinearScale\"},\"y_range\":{\"id\":\"1568\",\"type\":\"DataRange1d\"},\"y_scale\":{\"id\":\"1572\",\"type\":\"LinearScale\"}},\"id\":\"1563\",\"subtype\":\"Figure\",\"type\":\"Plot\"},{\"attributes\":{\"data_source\":{\"id\":\"1631\",\"type\":\"ColumnDataSource\"},\"glyph\":{\"id\":\"1632\",\"type\":\"Circle\"},\"hover_glyph\":null,\"muted_glyph\":null,\"nonselection_glyph\":{\"id\":\"1633\",\"type\":\"Circle\"},\"selection_glyph\":null,\"view\":{\"id\":\"1635\",\"type\":\"CDSView\"}},\"id\":\"1634\",\"type\":\"GlyphRenderer\"},{\"attributes\":{\"label\":{\"value\":\"LDCs\"},\"renderers\":[{\"id\":\"1600\",\"type\":\"GlyphRenderer\"}]},\"id\":\"1609\",\"type\":\"LegendItem\"},{\"attributes\":{\"source\":{\"id\":\"1631\",\"type\":\"ColumnDataSource\"}},\"id\":\"1635\",\"type\":\"CDSView\"},{\"attributes\":{},\"id\":\"1570\",\"type\":\"LinearScale\"},{\"attributes\":{\"fill_alpha\":{\"value\":0.1},\"fill_color\":{\"value\":\"#1f77b4\"},\"line_alpha\":{\"value\":0.1},\"line_color\":{\"value\":\"#1f77b4\"},\"line_width\":{\"value\":3},\"x\":{\"field\":\"x\"},\"y\":{\"field\":\"y\"}},\"id\":\"1612\",\"type\":\"Circle\"},{\"attributes\":{\"data_source\":{\"id\":\"1597\",\"type\":\"ColumnDataSource\"},\"glyph\":{\"id\":\"1598\",\"type\":\"Line\"},\"hover_glyph\":null,\"muted_glyph\":null,\"nonselection_glyph\":{\"id\":\"1599\",\"type\":\"Line\"},\"selection_glyph\":null,\"view\":{\"id\":\"1601\",\"type\":\"CDSView\"}},\"id\":\"1600\",\"type\":\"GlyphRenderer\"},{\"attributes\":{\"data_source\":{\"id\":\"1610\",\"type\":\"ColumnDataSource\"},\"glyph\":{\"id\":\"1611\",\"type\":\"Circle\"},\"hover_glyph\":null,\"muted_glyph\":null,\"nonselection_glyph\":{\"id\":\"1612\",\"type\":\"Circle\"},\"selection_glyph\":null,\"view\":{\"id\":\"1614\",\"type\":\"CDSView\"}},\"id\":\"1613\",\"type\":\"GlyphRenderer\"},{\"attributes\":{},\"id\":\"1689\",\"type\":\"Selection\"},{\"attributes\":{\"source\":{\"id\":\"1610\",\"type\":\"ColumnDataSource\"}},\"id\":\"1614\",\"type\":\"CDSView\"},{\"attributes\":{\"callback\":null},\"id\":\"1568\",\"type\":\"DataRange1d\"},{\"attributes\":{},\"id\":\"1690\",\"type\":\"UnionRenderers\"},{\"attributes\":{\"active_drag\":\"auto\",\"active_inspect\":\"auto\",\"active_multi\":null,\"active_scroll\":\"auto\",\"active_tap\":\"auto\",\"tools\":[{\"id\":\"1584\",\"type\":\"PanTool\"},{\"id\":\"1585\",\"type\":\"WheelZoomTool\"},{\"id\":\"1586\",\"type\":\"BoxZoomTool\"},{\"id\":\"1587\",\"type\":\"SaveTool\"},{\"id\":\"1588\",\"type\":\"ResetTool\"},{\"id\":\"1589\",\"type\":\"HelpTool\"},{\"id\":\"1636\",\"type\":\"HoverTool\"}]},\"id\":\"1590\",\"type\":\"Toolbar\"},{\"attributes\":{\"callback\":null,\"data\":{\"x\":[\"2011\",\"2012\",\"2013\",\"2014\",\"2015\",\"2016\",\"2017\"],\"y\":[86.52637049847509,90.79201280313602,89.77735203026296,93.27009066227772,99.2167206572208,99.33845058757791,90.85673268334823]},\"selected\":{\"id\":\"1689\",\"type\":\"Selection\"},\"selection_policy\":{\"id\":\"1690\",\"type\":\"UnionRenderers\"}},\"id\":\"1615\",\"type\":\"ColumnDataSource\"},{\"attributes\":{},\"id\":\"1691\",\"type\":\"Selection\"},{\"attributes\":{},\"id\":\"1606\",\"type\":\"BasicTickFormatter\"},{\"attributes\":{\"line_color\":\"blue\",\"line_width\":2,\"x\":{\"field\":\"x\"},\"y\":{\"field\":\"y\"}},\"id\":\"1616\",\"type\":\"Line\"},{\"attributes\":{},\"id\":\"1589\",\"type\":\"HelpTool\"},{\"attributes\":{},\"id\":\"1692\",\"type\":\"UnionRenderers\"},{\"attributes\":{},\"id\":\"1604\",\"type\":\"BasicTickFormatter\"},{\"attributes\":{\"line_alpha\":0.1,\"line_color\":\"#1f77b4\",\"line_width\":2,\"x\":{\"field\":\"x\"},\"y\":{\"field\":\"y\"}},\"id\":\"1617\",\"type\":\"Line\"},{\"attributes\":{\"callback\":null},\"id\":\"1566\",\"type\":\"DataRange1d\"},{\"attributes\":{},\"id\":\"1588\",\"type\":\"ResetTool\"},{\"attributes\":{\"data_source\":{\"id\":\"1615\",\"type\":\"ColumnDataSource\"},\"glyph\":{\"id\":\"1616\",\"type\":\"Line\"},\"hover_glyph\":null,\"muted_glyph\":null,\"nonselection_glyph\":{\"id\":\"1617\",\"type\":\"Line\"},\"selection_glyph\":null,\"view\":{\"id\":\"1619\",\"type\":\"CDSView\"}},\"id\":\"1618\",\"type\":\"GlyphRenderer\"},{\"attributes\":{\"source\":{\"id\":\"1615\",\"type\":\"ColumnDataSource\"}},\"id\":\"1619\",\"type\":\"CDSView\"},{\"attributes\":{},\"id\":\"1587\",\"type\":\"SaveTool\"},{\"attributes\":{\"items\":[{\"id\":\"1609\",\"type\":\"LegendItem\"},{\"id\":\"1630\",\"type\":\"LegendItem\"}],\"location\":\"bottom_left\"},\"id\":\"1608\",\"type\":\"Legend\"},{\"attributes\":{},\"id\":\"1625\",\"type\":\"Selection\"},{\"attributes\":{\"text\":\"Literacy rate, youth female (% of females ages 15-24) weighted against Population, total\"},\"id\":\"1564\",\"type\":\"Title\"},{\"attributes\":{\"callback\":null,\"data\":{\"x\":[\"2011\",\"2012\",\"2013\",\"2014\",\"2015\",\"2016\",\"2017\"],\"y\":[69.73643076577738,76.28621410347083,82.34338029433856,78.83132852098582,79.67428038697987,84.88400348022606,81.7564251787433]},\"selected\":{\"id\":\"1625\",\"type\":\"Selection\"},\"selection_policy\":{\"id\":\"1626\",\"type\":\"UnionRenderers\"}},\"id\":\"1597\",\"type\":\"ColumnDataSource\"},{\"attributes\":{},\"id\":\"1626\",\"type\":\"UnionRenderers\"},{\"attributes\":{\"source\":{\"id\":\"1597\",\"type\":\"ColumnDataSource\"}},\"id\":\"1601\",\"type\":\"CDSView\"},{\"attributes\":{\"bottom_units\":\"screen\",\"fill_alpha\":{\"value\":0.5},\"fill_color\":{\"value\":\"lightgrey\"},\"left_units\":\"screen\",\"level\":\"overlay\",\"line_alpha\":{\"value\":1.0},\"line_color\":{\"value\":\"black\"},\"line_dash\":[4,4],\"line_width\":{\"value\":2},\"render_mode\":\"css\",\"right_units\":\"screen\",\"top_units\":\"screen\"},\"id\":\"1607\",\"type\":\"BoxAnnotation\"},{\"attributes\":{\"line_alpha\":0.1,\"line_color\":\"#1f77b4\",\"line_width\":2,\"x\":{\"field\":\"x\"},\"y\":{\"field\":\"y\"}},\"id\":\"1599\",\"type\":\"Line\"},{\"attributes\":{\"axis_label\":\"Percentage\",\"formatter\":{\"id\":\"1604\",\"type\":\"BasicTickFormatter\"},\"ticker\":{\"id\":\"1580\",\"type\":\"BasicTicker\"}},\"id\":\"1579\",\"type\":\"LinearAxis\"},{\"attributes\":{},\"id\":\"1584\",\"type\":\"PanTool\"},{\"attributes\":{},\"id\":\"1627\",\"type\":\"Selection\"},{\"attributes\":{\"fill_color\":{\"value\":\"red\"},\"line_color\":{\"value\":\"red\"},\"line_width\":{\"value\":3},\"x\":{\"field\":\"x\"},\"y\":{\"field\":\"y\"}},\"id\":\"1611\",\"type\":\"Circle\"},{\"attributes\":{},\"id\":\"1585\",\"type\":\"WheelZoomTool\"},{\"attributes\":{},\"id\":\"1628\",\"type\":\"UnionRenderers\"},{\"attributes\":{\"axis_label\":\"Years\",\"formatter\":{\"id\":\"1606\",\"type\":\"BasicTickFormatter\"},\"ticker\":{\"id\":\"1575\",\"type\":\"BasicTicker\"}},\"id\":\"1574\",\"type\":\"LinearAxis\"},{\"attributes\":{},\"id\":\"1580\",\"type\":\"BasicTicker\"},{\"attributes\":{\"label\":{\"value\":\"Developing excluding LDCs\"},\"renderers\":[{\"id\":\"1618\",\"type\":\"GlyphRenderer\"}]},\"id\":\"1630\",\"type\":\"LegendItem\"},{\"attributes\":{\"overlay\":{\"id\":\"1607\",\"type\":\"BoxAnnotation\"}},\"id\":\"1586\",\"type\":\"BoxZoomTool\"},{\"attributes\":{\"callback\":null,\"data\":{\"x\":[\"2011\",\"2012\",\"2013\",\"2014\",\"2015\",\"2016\",\"2017\"],\"y\":[69.73643076577738,76.28621410347083,82.34338029433856,78.83132852098582,79.67428038697987,84.88400348022606,81.7564251787433]},\"selected\":{\"id\":\"1627\",\"type\":\"Selection\"},\"selection_policy\":{\"id\":\"1628\",\"type\":\"UnionRenderers\"}},\"id\":\"1610\",\"type\":\"ColumnDataSource\"},{\"attributes\":{\"dimension\":1,\"ticker\":{\"id\":\"1580\",\"type\":\"BasicTicker\"}},\"id\":\"1583\",\"type\":\"Grid\"},{\"attributes\":{\"callback\":null,\"data\":{\"x\":[\"2011\",\"2012\",\"2013\",\"2014\",\"2015\",\"2016\",\"2017\"],\"y\":[86.52637049847509,90.79201280313602,89.77735203026296,93.27009066227772,99.2167206572208,99.33845058757791,90.85673268334823]},\"selected\":{\"id\":\"1691\",\"type\":\"Selection\"},\"selection_policy\":{\"id\":\"1692\",\"type\":\"UnionRenderers\"}},\"id\":\"1631\",\"type\":\"ColumnDataSource\"},{\"attributes\":{},\"id\":\"1575\",\"type\":\"BasicTicker\"},{\"attributes\":{\"line_color\":\"red\",\"line_width\":2,\"x\":{\"field\":\"x\"},\"y\":{\"field\":\"y\"}},\"id\":\"1598\",\"type\":\"Line\"},{\"attributes\":{\"fill_color\":{\"value\":\"blue\"},\"line_color\":{\"value\":\"blue\"},\"line_width\":{\"value\":3},\"x\":{\"field\":\"x\"},\"y\":{\"field\":\"y\"}},\"id\":\"1632\",\"type\":\"Circle\"},{\"attributes\":{},\"id\":\"1572\",\"type\":\"LinearScale\"},{\"attributes\":{\"fill_alpha\":{\"value\":0.1},\"fill_color\":{\"value\":\"#1f77b4\"},\"line_alpha\":{\"value\":0.1},\"line_color\":{\"value\":\"#1f77b4\"},\"line_width\":{\"value\":3},\"x\":{\"field\":\"x\"},\"y\":{\"field\":\"y\"}},\"id\":\"1633\",\"type\":\"Circle\"},{\"attributes\":{\"ticker\":{\"id\":\"1575\",\"type\":\"BasicTicker\"}},\"id\":\"1578\",\"type\":\"Grid\"},{\"attributes\":{\"callback\":null,\"tooltips\":\"\\n        <div style=padding=5px>Year:@x</div>\\n        <div style=padding=5px>Value:@y</div>\\n        \"},\"id\":\"1636\",\"type\":\"HoverTool\"}],\"root_ids\":[\"1563\"]},\"title\":\"Bokeh Application\",\"version\":\"1.3.4\"}};\n",
       "  var render_items = [{\"docid\":\"cf575451-97aa-4e57-a649-4ff0c2391e8f\",\"roots\":{\"1563\":\"6c65f948-d2bb-4d8c-abae-b741dd612244\"}}];\n",
       "  root.Bokeh.embed.embed_items_notebook(docs_json, render_items);\n",
       "\n",
       "  }\n",
       "  if (root.Bokeh !== undefined) {\n",
       "    embed_document(root);\n",
       "  } else {\n",
       "    var attempts = 0;\n",
       "    var timer = setInterval(function(root) {\n",
       "      if (root.Bokeh !== undefined) {\n",
       "        embed_document(root);\n",
       "        clearInterval(timer);\n",
       "      }\n",
       "      attempts++;\n",
       "      if (attempts > 100) {\n",
       "        console.log(\"Bokeh: ERROR: Unable to run BokehJS code because BokehJS library is missing\");\n",
       "        clearInterval(timer);\n",
       "      }\n",
       "    }, 10, root)\n",
       "  }\n",
       "})(window);"
      ],
      "application/vnd.bokehjs_exec.v0+json": ""
     },
     "metadata": {
      "application/vnd.bokehjs_exec.v0+json": {
       "id": "1563"
      }
     },
     "output_type": "display_data"
    }
   ],
   "source": [
    "# Literacy rate, youth female (% of females ages 15-24)\n",
    "years = list(map(str, list(range(2011,2018))))\n",
    "show_weighted_average(years, 'SE.ADT.1524.LT.FE.ZS', 'SP.POP.TOTL', ['LDCs', 'Developing excluding LDCs'])"
   ]
  },
  {
   "cell_type": "code",
   "execution_count": 7,
   "metadata": {},
   "outputs": [
    {
     "data": {
      "text/html": [
       "\n",
       "\n",
       "\n",
       "\n",
       "\n",
       "\n",
       "  <div class=\"bk-root\" id=\"6407a376-e2e0-454a-b8c5-3a0f446d10e1\" data-root-id=\"1778\"></div>\n"
      ]
     },
     "metadata": {},
     "output_type": "display_data"
    },
    {
     "data": {
      "application/javascript": [
       "(function(root) {\n",
       "  function embed_document(root) {\n",
       "    \n",
       "  var docs_json = {\"970d2667-aac4-411f-ae27-e459d65121a5\":{\"roots\":{\"references\":[{\"attributes\":{\"below\":[{\"id\":\"1789\",\"type\":\"LinearAxis\"}],\"center\":[{\"id\":\"1793\",\"type\":\"Grid\"},{\"id\":\"1798\",\"type\":\"Grid\"},{\"id\":\"1823\",\"type\":\"Legend\"}],\"left\":[{\"id\":\"1794\",\"type\":\"LinearAxis\"}],\"plot_height\":400,\"plot_width\":950,\"renderers\":[{\"id\":\"1815\",\"type\":\"GlyphRenderer\"},{\"id\":\"1828\",\"type\":\"GlyphRenderer\"},{\"id\":\"1833\",\"type\":\"GlyphRenderer\"},{\"id\":\"1849\",\"type\":\"GlyphRenderer\"}],\"title\":{\"id\":\"1779\",\"type\":\"Title\"},\"toolbar\":{\"id\":\"1805\",\"type\":\"Toolbar\"},\"x_range\":{\"id\":\"1781\",\"type\":\"DataRange1d\"},\"x_scale\":{\"id\":\"1785\",\"type\":\"LinearScale\"},\"y_range\":{\"id\":\"1783\",\"type\":\"DataRange1d\"},\"y_scale\":{\"id\":\"1787\",\"type\":\"LinearScale\"}},\"id\":\"1778\",\"subtype\":\"Figure\",\"type\":\"Plot\"},{\"attributes\":{},\"id\":\"1803\",\"type\":\"ResetTool\"},{\"attributes\":{\"data_source\":{\"id\":\"1830\",\"type\":\"ColumnDataSource\"},\"glyph\":{\"id\":\"1831\",\"type\":\"Line\"},\"hover_glyph\":null,\"muted_glyph\":null,\"nonselection_glyph\":{\"id\":\"1832\",\"type\":\"Line\"},\"selection_glyph\":null,\"view\":{\"id\":\"1834\",\"type\":\"CDSView\"}},\"id\":\"1833\",\"type\":\"GlyphRenderer\"},{\"attributes\":{\"text\":\"Literacy rate, youth male (% of males ages 15-24) weighted against Population, total\"},\"id\":\"1779\",\"type\":\"Title\"},{\"attributes\":{},\"id\":\"1804\",\"type\":\"HelpTool\"},{\"attributes\":{\"line_alpha\":0.1,\"line_color\":\"#1f77b4\",\"line_width\":2,\"x\":{\"field\":\"x\"},\"y\":{\"field\":\"y\"}},\"id\":\"1832\",\"type\":\"Line\"},{\"attributes\":{\"callback\":null},\"id\":\"1781\",\"type\":\"DataRange1d\"},{\"attributes\":{\"active_drag\":\"auto\",\"active_inspect\":\"auto\",\"active_multi\":null,\"active_scroll\":\"auto\",\"active_tap\":\"auto\",\"tools\":[{\"id\":\"1799\",\"type\":\"PanTool\"},{\"id\":\"1800\",\"type\":\"WheelZoomTool\"},{\"id\":\"1801\",\"type\":\"BoxZoomTool\"},{\"id\":\"1802\",\"type\":\"SaveTool\"},{\"id\":\"1803\",\"type\":\"ResetTool\"},{\"id\":\"1804\",\"type\":\"HelpTool\"},{\"id\":\"1851\",\"type\":\"HoverTool\"}]},\"id\":\"1805\",\"type\":\"Toolbar\"},{\"attributes\":{\"source\":{\"id\":\"1830\",\"type\":\"ColumnDataSource\"}},\"id\":\"1834\",\"type\":\"CDSView\"},{\"attributes\":{\"callback\":null},\"id\":\"1783\",\"type\":\"DataRange1d\"},{\"attributes\":{},\"id\":\"1919\",\"type\":\"UnionRenderers\"},{\"attributes\":{},\"id\":\"1841\",\"type\":\"UnionRenderers\"},{\"attributes\":{\"data_source\":{\"id\":\"1812\",\"type\":\"ColumnDataSource\"},\"glyph\":{\"id\":\"1813\",\"type\":\"Line\"},\"hover_glyph\":null,\"muted_glyph\":null,\"nonselection_glyph\":{\"id\":\"1814\",\"type\":\"Line\"},\"selection_glyph\":null,\"view\":{\"id\":\"1816\",\"type\":\"CDSView\"}},\"id\":\"1815\",\"type\":\"GlyphRenderer\"},{\"attributes\":{},\"id\":\"1785\",\"type\":\"LinearScale\"},{\"attributes\":{\"callback\":null,\"data\":{\"x\":[\"2011\",\"2012\",\"2013\",\"2014\",\"2015\",\"2016\",\"2017\"],\"y\":[75.02611752268099,80.00946290801379,81.31988745347162,81.49752595333796,82.45513767129684,87.36621553878946,83.10410581112856]},\"selected\":{\"id\":\"1842\",\"type\":\"Selection\"},\"selection_policy\":{\"id\":\"1843\",\"type\":\"UnionRenderers\"}},\"id\":\"1825\",\"type\":\"ColumnDataSource\"},{\"attributes\":{},\"id\":\"1840\",\"type\":\"Selection\"},{\"attributes\":{},\"id\":\"1787\",\"type\":\"LinearScale\"},{\"attributes\":{\"source\":{\"id\":\"1812\",\"type\":\"ColumnDataSource\"}},\"id\":\"1816\",\"type\":\"CDSView\"},{\"attributes\":{},\"id\":\"1842\",\"type\":\"Selection\"},{\"attributes\":{\"axis_label\":\"Years\",\"formatter\":{\"id\":\"1821\",\"type\":\"BasicTickFormatter\"},\"ticker\":{\"id\":\"1790\",\"type\":\"BasicTicker\"}},\"id\":\"1789\",\"type\":\"LinearAxis\"},{\"attributes\":{},\"id\":\"1819\",\"type\":\"BasicTickFormatter\"},{\"attributes\":{\"label\":{\"value\":\"Developing excluding LDCs\"},\"renderers\":[{\"id\":\"1833\",\"type\":\"GlyphRenderer\"}]},\"id\":\"1845\",\"type\":\"LegendItem\"},{\"attributes\":{},\"id\":\"1790\",\"type\":\"BasicTicker\"},{\"attributes\":{},\"id\":\"1843\",\"type\":\"UnionRenderers\"},{\"attributes\":{},\"id\":\"1821\",\"type\":\"BasicTickFormatter\"},{\"attributes\":{\"ticker\":{\"id\":\"1790\",\"type\":\"BasicTicker\"}},\"id\":\"1793\",\"type\":\"Grid\"},{\"attributes\":{},\"id\":\"1921\",\"type\":\"UnionRenderers\"},{\"attributes\":{\"callback\":null,\"data\":{\"x\":[\"2011\",\"2012\",\"2013\",\"2014\",\"2015\",\"2016\",\"2017\"],\"y\":[92.16019298807788,94.37168223840837,92.90217775217923,95.33335755824594,98.97521989087501,99.11517515407336,94.01304618557775]},\"selected\":{\"id\":\"1920\",\"type\":\"Selection\"},\"selection_policy\":{\"id\":\"1921\",\"type\":\"UnionRenderers\"}},\"id\":\"1846\",\"type\":\"ColumnDataSource\"},{\"attributes\":{\"bottom_units\":\"screen\",\"fill_alpha\":{\"value\":0.5},\"fill_color\":{\"value\":\"lightgrey\"},\"left_units\":\"screen\",\"level\":\"overlay\",\"line_alpha\":{\"value\":1.0},\"line_color\":{\"value\":\"black\"},\"line_dash\":[4,4],\"line_width\":{\"value\":2},\"render_mode\":\"css\",\"right_units\":\"screen\",\"top_units\":\"screen\"},\"id\":\"1822\",\"type\":\"BoxAnnotation\"},{\"attributes\":{\"axis_label\":\"Percentage\",\"formatter\":{\"id\":\"1819\",\"type\":\"BasicTickFormatter\"},\"ticker\":{\"id\":\"1795\",\"type\":\"BasicTicker\"}},\"id\":\"1794\",\"type\":\"LinearAxis\"},{\"attributes\":{\"fill_alpha\":{\"value\":0.1},\"fill_color\":{\"value\":\"#1f77b4\"},\"line_alpha\":{\"value\":0.1},\"line_color\":{\"value\":\"#1f77b4\"},\"line_width\":{\"value\":3},\"x\":{\"field\":\"x\"},\"y\":{\"field\":\"y\"}},\"id\":\"1848\",\"type\":\"Circle\"},{\"attributes\":{\"items\":[{\"id\":\"1824\",\"type\":\"LegendItem\"},{\"id\":\"1845\",\"type\":\"LegendItem\"}],\"location\":\"bottom_left\"},\"id\":\"1823\",\"type\":\"Legend\"},{\"attributes\":{},\"id\":\"1795\",\"type\":\"BasicTicker\"},{\"attributes\":{\"fill_color\":{\"value\":\"blue\"},\"line_color\":{\"value\":\"blue\"},\"line_width\":{\"value\":3},\"x\":{\"field\":\"x\"},\"y\":{\"field\":\"y\"}},\"id\":\"1847\",\"type\":\"Circle\"},{\"attributes\":{\"label\":{\"value\":\"LDCs\"},\"renderers\":[{\"id\":\"1815\",\"type\":\"GlyphRenderer\"}]},\"id\":\"1824\",\"type\":\"LegendItem\"},{\"attributes\":{\"dimension\":1,\"ticker\":{\"id\":\"1795\",\"type\":\"BasicTicker\"}},\"id\":\"1798\",\"type\":\"Grid\"},{\"attributes\":{\"data_source\":{\"id\":\"1846\",\"type\":\"ColumnDataSource\"},\"glyph\":{\"id\":\"1847\",\"type\":\"Circle\"},\"hover_glyph\":null,\"muted_glyph\":null,\"nonselection_glyph\":{\"id\":\"1848\",\"type\":\"Circle\"},\"selection_glyph\":null,\"view\":{\"id\":\"1850\",\"type\":\"CDSView\"}},\"id\":\"1849\",\"type\":\"GlyphRenderer\"},{\"attributes\":{\"line_color\":\"red\",\"line_width\":2,\"x\":{\"field\":\"x\"},\"y\":{\"field\":\"y\"}},\"id\":\"1813\",\"type\":\"Line\"},{\"attributes\":{\"fill_color\":{\"value\":\"red\"},\"line_color\":{\"value\":\"red\"},\"line_width\":{\"value\":3},\"x\":{\"field\":\"x\"},\"y\":{\"field\":\"y\"}},\"id\":\"1826\",\"type\":\"Circle\"},{\"attributes\":{\"callback\":null,\"data\":{\"x\":[\"2011\",\"2012\",\"2013\",\"2014\",\"2015\",\"2016\",\"2017\"],\"y\":[75.02611752268099,80.00946290801379,81.31988745347162,81.49752595333796,82.45513767129684,87.36621553878946,83.10410581112856]},\"selected\":{\"id\":\"1840\",\"type\":\"Selection\"},\"selection_policy\":{\"id\":\"1841\",\"type\":\"UnionRenderers\"}},\"id\":\"1812\",\"type\":\"ColumnDataSource\"},{\"attributes\":{\"fill_alpha\":{\"value\":0.1},\"fill_color\":{\"value\":\"#1f77b4\"},\"line_alpha\":{\"value\":0.1},\"line_color\":{\"value\":\"#1f77b4\"},\"line_width\":{\"value\":3},\"x\":{\"field\":\"x\"},\"y\":{\"field\":\"y\"}},\"id\":\"1827\",\"type\":\"Circle\"},{\"attributes\":{\"source\":{\"id\":\"1846\",\"type\":\"ColumnDataSource\"}},\"id\":\"1850\",\"type\":\"CDSView\"},{\"attributes\":{\"callback\":null,\"tooltips\":\"\\n        <div style=padding=5px>Year:@x</div>\\n        <div style=padding=5px>Value:@y</div>\\n        \"},\"id\":\"1851\",\"type\":\"HoverTool\"},{\"attributes\":{\"line_alpha\":0.1,\"line_color\":\"#1f77b4\",\"line_width\":2,\"x\":{\"field\":\"x\"},\"y\":{\"field\":\"y\"}},\"id\":\"1814\",\"type\":\"Line\"},{\"attributes\":{\"data_source\":{\"id\":\"1825\",\"type\":\"ColumnDataSource\"},\"glyph\":{\"id\":\"1826\",\"type\":\"Circle\"},\"hover_glyph\":null,\"muted_glyph\":null,\"nonselection_glyph\":{\"id\":\"1827\",\"type\":\"Circle\"},\"selection_glyph\":null,\"view\":{\"id\":\"1829\",\"type\":\"CDSView\"}},\"id\":\"1828\",\"type\":\"GlyphRenderer\"},{\"attributes\":{},\"id\":\"1799\",\"type\":\"PanTool\"},{\"attributes\":{},\"id\":\"1918\",\"type\":\"Selection\"},{\"attributes\":{\"source\":{\"id\":\"1825\",\"type\":\"ColumnDataSource\"}},\"id\":\"1829\",\"type\":\"CDSView\"},{\"attributes\":{},\"id\":\"1800\",\"type\":\"WheelZoomTool\"},{\"attributes\":{},\"id\":\"1920\",\"type\":\"Selection\"},{\"attributes\":{\"callback\":null,\"data\":{\"x\":[\"2011\",\"2012\",\"2013\",\"2014\",\"2015\",\"2016\",\"2017\"],\"y\":[92.16019298807788,94.37168223840837,92.90217775217923,95.33335755824594,98.97521989087501,99.11517515407336,94.01304618557775]},\"selected\":{\"id\":\"1918\",\"type\":\"Selection\"},\"selection_policy\":{\"id\":\"1919\",\"type\":\"UnionRenderers\"}},\"id\":\"1830\",\"type\":\"ColumnDataSource\"},{\"attributes\":{\"overlay\":{\"id\":\"1822\",\"type\":\"BoxAnnotation\"}},\"id\":\"1801\",\"type\":\"BoxZoomTool\"},{\"attributes\":{\"line_color\":\"blue\",\"line_width\":2,\"x\":{\"field\":\"x\"},\"y\":{\"field\":\"y\"}},\"id\":\"1831\",\"type\":\"Line\"},{\"attributes\":{},\"id\":\"1802\",\"type\":\"SaveTool\"}],\"root_ids\":[\"1778\"]},\"title\":\"Bokeh Application\",\"version\":\"1.3.4\"}};\n",
       "  var render_items = [{\"docid\":\"970d2667-aac4-411f-ae27-e459d65121a5\",\"roots\":{\"1778\":\"6407a376-e2e0-454a-b8c5-3a0f446d10e1\"}}];\n",
       "  root.Bokeh.embed.embed_items_notebook(docs_json, render_items);\n",
       "\n",
       "  }\n",
       "  if (root.Bokeh !== undefined) {\n",
       "    embed_document(root);\n",
       "  } else {\n",
       "    var attempts = 0;\n",
       "    var timer = setInterval(function(root) {\n",
       "      if (root.Bokeh !== undefined) {\n",
       "        embed_document(root);\n",
       "        clearInterval(timer);\n",
       "      }\n",
       "      attempts++;\n",
       "      if (attempts > 100) {\n",
       "        console.log(\"Bokeh: ERROR: Unable to run BokehJS code because BokehJS library is missing\");\n",
       "        clearInterval(timer);\n",
       "      }\n",
       "    }, 10, root)\n",
       "  }\n",
       "})(window);"
      ],
      "application/vnd.bokehjs_exec.v0+json": ""
     },
     "metadata": {
      "application/vnd.bokehjs_exec.v0+json": {
       "id": "1778"
      }
     },
     "output_type": "display_data"
    }
   ],
   "source": [
    "# Literacy rate, youth male (% of male ages 15-24)\n",
    "show_weighted_average(years, 'SE.ADT.1524.LT.MA.ZS', 'SP.POP.TOTL', ['LDCs', 'Developing excluding LDCs'])"
   ]
  },
  {
   "cell_type": "code",
   "execution_count": 11,
   "metadata": {},
   "outputs": [
    {
     "data": {
      "text/html": [
       "\n",
       "\n",
       "\n",
       "\n",
       "\n",
       "\n",
       "  <div class=\"bk-root\" id=\"372b3890-0fb4-487e-9aa1-f2290a51edde\" data-root-id=\"2007\"></div>\n"
      ]
     },
     "metadata": {},
     "output_type": "display_data"
    },
    {
     "data": {
      "application/javascript": [
       "(function(root) {\n",
       "  function embed_document(root) {\n",
       "    \n",
       "  var docs_json = {\"7a6079c8-db8f-4ae2-b411-de45b7badd84\":{\"roots\":{\"references\":[{\"attributes\":{\"below\":[{\"id\":\"2018\",\"type\":\"LinearAxis\"}],\"center\":[{\"id\":\"2022\",\"type\":\"Grid\"},{\"id\":\"2027\",\"type\":\"Grid\"},{\"id\":\"2052\",\"type\":\"Legend\"}],\"left\":[{\"id\":\"2023\",\"type\":\"LinearAxis\"}],\"plot_height\":400,\"plot_width\":950,\"renderers\":[{\"id\":\"2044\",\"type\":\"GlyphRenderer\"},{\"id\":\"2057\",\"type\":\"GlyphRenderer\"},{\"id\":\"2062\",\"type\":\"GlyphRenderer\"},{\"id\":\"2078\",\"type\":\"GlyphRenderer\"}],\"title\":{\"id\":\"2008\",\"type\":\"Title\"},\"toolbar\":{\"id\":\"2034\",\"type\":\"Toolbar\"},\"x_range\":{\"id\":\"2010\",\"type\":\"DataRange1d\"},\"x_scale\":{\"id\":\"2014\",\"type\":\"LinearScale\"},\"y_range\":{\"id\":\"2012\",\"type\":\"DataRange1d\"},\"y_scale\":{\"id\":\"2016\",\"type\":\"LinearScale\"}},\"id\":\"2007\",\"subtype\":\"Figure\",\"type\":\"Plot\"},{\"attributes\":{\"active_drag\":\"auto\",\"active_inspect\":\"auto\",\"active_multi\":null,\"active_scroll\":\"auto\",\"active_tap\":\"auto\",\"tools\":[{\"id\":\"2028\",\"type\":\"PanTool\"},{\"id\":\"2029\",\"type\":\"WheelZoomTool\"},{\"id\":\"2030\",\"type\":\"BoxZoomTool\"},{\"id\":\"2031\",\"type\":\"SaveTool\"},{\"id\":\"2032\",\"type\":\"ResetTool\"},{\"id\":\"2033\",\"type\":\"HelpTool\"},{\"id\":\"2080\",\"type\":\"HoverTool\"}]},\"id\":\"2034\",\"type\":\"Toolbar\"},{\"attributes\":{\"callback\":null},\"id\":\"2012\",\"type\":\"DataRange1d\"},{\"attributes\":{},\"id\":\"2069\",\"type\":\"Selection\"},{\"attributes\":{\"source\":{\"id\":\"2059\",\"type\":\"ColumnDataSource\"}},\"id\":\"2063\",\"type\":\"CDSView\"},{\"attributes\":{\"data_source\":{\"id\":\"2041\",\"type\":\"ColumnDataSource\"},\"glyph\":{\"id\":\"2042\",\"type\":\"Line\"},\"hover_glyph\":null,\"muted_glyph\":null,\"nonselection_glyph\":{\"id\":\"2043\",\"type\":\"Line\"},\"selection_glyph\":null,\"view\":{\"id\":\"2045\",\"type\":\"CDSView\"}},\"id\":\"2044\",\"type\":\"GlyphRenderer\"},{\"attributes\":{},\"id\":\"2162\",\"type\":\"UnionRenderers\"},{\"attributes\":{},\"id\":\"2014\",\"type\":\"LinearScale\"},{\"attributes\":{},\"id\":\"2070\",\"type\":\"UnionRenderers\"},{\"attributes\":{},\"id\":\"2161\",\"type\":\"Selection\"},{\"attributes\":{\"axis_label\":\"Years\",\"formatter\":{\"id\":\"2050\",\"type\":\"BasicTickFormatter\"},\"ticker\":{\"id\":\"2019\",\"type\":\"BasicTicker\"}},\"id\":\"2018\",\"type\":\"LinearAxis\"},{\"attributes\":{\"source\":{\"id\":\"2041\",\"type\":\"ColumnDataSource\"}},\"id\":\"2045\",\"type\":\"CDSView\"},{\"attributes\":{},\"id\":\"2072\",\"type\":\"UnionRenderers\"},{\"attributes\":{},\"id\":\"2163\",\"type\":\"Selection\"},{\"attributes\":{},\"id\":\"2016\",\"type\":\"LinearScale\"},{\"attributes\":{},\"id\":\"2071\",\"type\":\"Selection\"},{\"attributes\":{},\"id\":\"2019\",\"type\":\"BasicTicker\"},{\"attributes\":{},\"id\":\"2048\",\"type\":\"BasicTickFormatter\"},{\"attributes\":{\"label\":{\"value\":\"Developing excluding LDCs\"},\"renderers\":[{\"id\":\"2062\",\"type\":\"GlyphRenderer\"}]},\"id\":\"2074\",\"type\":\"LegendItem\"},{\"attributes\":{},\"id\":\"2164\",\"type\":\"UnionRenderers\"},{\"attributes\":{\"axis_label\":\"Percentage\",\"formatter\":{\"id\":\"2048\",\"type\":\"BasicTickFormatter\"},\"ticker\":{\"id\":\"2024\",\"type\":\"BasicTicker\"}},\"id\":\"2023\",\"type\":\"LinearAxis\"},{\"attributes\":{},\"id\":\"2050\",\"type\":\"BasicTickFormatter\"},{\"attributes\":{\"fill_color\":{\"value\":\"blue\"},\"line_color\":{\"value\":\"blue\"},\"line_width\":{\"value\":3},\"x\":{\"field\":\"x\"},\"y\":{\"field\":\"y\"}},\"id\":\"2076\",\"type\":\"Circle\"},{\"attributes\":{\"ticker\":{\"id\":\"2019\",\"type\":\"BasicTicker\"}},\"id\":\"2022\",\"type\":\"Grid\"},{\"attributes\":{\"bottom_units\":\"screen\",\"fill_alpha\":{\"value\":0.5},\"fill_color\":{\"value\":\"lightgrey\"},\"left_units\":\"screen\",\"level\":\"overlay\",\"line_alpha\":{\"value\":1.0},\"line_color\":{\"value\":\"black\"},\"line_dash\":[4,4],\"line_width\":{\"value\":2},\"render_mode\":\"css\",\"right_units\":\"screen\",\"top_units\":\"screen\"},\"id\":\"2051\",\"type\":\"BoxAnnotation\"},{\"attributes\":{\"callback\":null,\"data\":{\"x\":[\"2010\",\"2011\",\"2012\",\"2013\",\"2014\"],\"y\":[23.513041688550018,26.0163518298774,28.653839513727956,29.991015174173807,34.20514037096847]},\"selected\":{\"id\":\"2163\",\"type\":\"Selection\"},\"selection_policy\":{\"id\":\"2164\",\"type\":\"UnionRenderers\"}},\"id\":\"2075\",\"type\":\"ColumnDataSource\"},{\"attributes\":{},\"id\":\"2024\",\"type\":\"BasicTicker\"},{\"attributes\":{\"items\":[{\"id\":\"2053\",\"type\":\"LegendItem\"},{\"id\":\"2074\",\"type\":\"LegendItem\"}],\"location\":\"bottom_left\"},\"id\":\"2052\",\"type\":\"Legend\"},{\"attributes\":{\"fill_alpha\":{\"value\":0.1},\"fill_color\":{\"value\":\"#1f77b4\"},\"line_alpha\":{\"value\":0.1},\"line_color\":{\"value\":\"#1f77b4\"},\"line_width\":{\"value\":3},\"x\":{\"field\":\"x\"},\"y\":{\"field\":\"y\"}},\"id\":\"2077\",\"type\":\"Circle\"},{\"attributes\":{\"line_color\":\"red\",\"line_width\":2,\"x\":{\"field\":\"x\"},\"y\":{\"field\":\"y\"}},\"id\":\"2042\",\"type\":\"Line\"},{\"attributes\":{\"label\":{\"value\":\"LDCs\"},\"renderers\":[{\"id\":\"2044\",\"type\":\"GlyphRenderer\"}]},\"id\":\"2053\",\"type\":\"LegendItem\"},{\"attributes\":{\"dimension\":1,\"ticker\":{\"id\":\"2024\",\"type\":\"BasicTicker\"}},\"id\":\"2027\",\"type\":\"Grid\"},{\"attributes\":{\"source\":{\"id\":\"2054\",\"type\":\"ColumnDataSource\"}},\"id\":\"2058\",\"type\":\"CDSView\"},{\"attributes\":{\"callback\":null,\"tooltips\":\"\\n        <div style=padding=5px>Year:@x</div>\\n        <div style=padding=5px>Value:@y</div>\\n        \"},\"id\":\"2080\",\"type\":\"HoverTool\"},{\"attributes\":{\"callback\":null,\"data\":{\"x\":[\"2010\",\"2011\",\"2012\",\"2013\",\"2014\"],\"y\":[7.216305888899169,9.238597293740812,9.286933356659,8.843198313346274,10.341316695036003]},\"selected\":{\"id\":\"2069\",\"type\":\"Selection\"},\"selection_policy\":{\"id\":\"2070\",\"type\":\"UnionRenderers\"}},\"id\":\"2041\",\"type\":\"ColumnDataSource\"},{\"attributes\":{\"callback\":null,\"data\":{\"x\":[\"2010\",\"2011\",\"2012\",\"2013\",\"2014\"],\"y\":[23.513041688550018,26.0163518298774,28.653839513727956,29.991015174173807,34.20514037096847]},\"selected\":{\"id\":\"2161\",\"type\":\"Selection\"},\"selection_policy\":{\"id\":\"2162\",\"type\":\"UnionRenderers\"}},\"id\":\"2059\",\"type\":\"ColumnDataSource\"},{\"attributes\":{\"text\":\"School enrollment, tertiary (% gross) weighted against Population, total\"},\"id\":\"2008\",\"type\":\"Title\"},{\"attributes\":{},\"id\":\"2028\",\"type\":\"PanTool\"},{\"attributes\":{\"line_alpha\":0.1,\"line_color\":\"#1f77b4\",\"line_width\":2,\"x\":{\"field\":\"x\"},\"y\":{\"field\":\"y\"}},\"id\":\"2043\",\"type\":\"Line\"},{\"attributes\":{\"line_color\":\"blue\",\"line_width\":2,\"x\":{\"field\":\"x\"},\"y\":{\"field\":\"y\"}},\"id\":\"2060\",\"type\":\"Line\"},{\"attributes\":{\"overlay\":{\"id\":\"2051\",\"type\":\"BoxAnnotation\"}},\"id\":\"2030\",\"type\":\"BoxZoomTool\"},{\"attributes\":{\"callback\":null},\"id\":\"2010\",\"type\":\"DataRange1d\"},{\"attributes\":{},\"id\":\"2029\",\"type\":\"WheelZoomTool\"},{\"attributes\":{\"fill_color\":{\"value\":\"red\"},\"line_color\":{\"value\":\"red\"},\"line_width\":{\"value\":3},\"x\":{\"field\":\"x\"},\"y\":{\"field\":\"y\"}},\"id\":\"2055\",\"type\":\"Circle\"},{\"attributes\":{\"callback\":null,\"data\":{\"x\":[\"2010\",\"2011\",\"2012\",\"2013\",\"2014\"],\"y\":[7.216305888899169,9.238597293740812,9.286933356659,8.843198313346274,10.341316695036003]},\"selected\":{\"id\":\"2071\",\"type\":\"Selection\"},\"selection_policy\":{\"id\":\"2072\",\"type\":\"UnionRenderers\"}},\"id\":\"2054\",\"type\":\"ColumnDataSource\"},{\"attributes\":{\"line_alpha\":0.1,\"line_color\":\"#1f77b4\",\"line_width\":2,\"x\":{\"field\":\"x\"},\"y\":{\"field\":\"y\"}},\"id\":\"2061\",\"type\":\"Line\"},{\"attributes\":{},\"id\":\"2031\",\"type\":\"SaveTool\"},{\"attributes\":{\"fill_alpha\":{\"value\":0.1},\"fill_color\":{\"value\":\"#1f77b4\"},\"line_alpha\":{\"value\":0.1},\"line_color\":{\"value\":\"#1f77b4\"},\"line_width\":{\"value\":3},\"x\":{\"field\":\"x\"},\"y\":{\"field\":\"y\"}},\"id\":\"2056\",\"type\":\"Circle\"},{\"attributes\":{\"data_source\":{\"id\":\"2059\",\"type\":\"ColumnDataSource\"},\"glyph\":{\"id\":\"2060\",\"type\":\"Line\"},\"hover_glyph\":null,\"muted_glyph\":null,\"nonselection_glyph\":{\"id\":\"2061\",\"type\":\"Line\"},\"selection_glyph\":null,\"view\":{\"id\":\"2063\",\"type\":\"CDSView\"}},\"id\":\"2062\",\"type\":\"GlyphRenderer\"},{\"attributes\":{},\"id\":\"2033\",\"type\":\"HelpTool\"},{\"attributes\":{\"data_source\":{\"id\":\"2054\",\"type\":\"ColumnDataSource\"},\"glyph\":{\"id\":\"2055\",\"type\":\"Circle\"},\"hover_glyph\":null,\"muted_glyph\":null,\"nonselection_glyph\":{\"id\":\"2056\",\"type\":\"Circle\"},\"selection_glyph\":null,\"view\":{\"id\":\"2058\",\"type\":\"CDSView\"}},\"id\":\"2057\",\"type\":\"GlyphRenderer\"},{\"attributes\":{\"source\":{\"id\":\"2075\",\"type\":\"ColumnDataSource\"}},\"id\":\"2079\",\"type\":\"CDSView\"},{\"attributes\":{},\"id\":\"2032\",\"type\":\"ResetTool\"},{\"attributes\":{\"data_source\":{\"id\":\"2075\",\"type\":\"ColumnDataSource\"},\"glyph\":{\"id\":\"2076\",\"type\":\"Circle\"},\"hover_glyph\":null,\"muted_glyph\":null,\"nonselection_glyph\":{\"id\":\"2077\",\"type\":\"Circle\"},\"selection_glyph\":null,\"view\":{\"id\":\"2079\",\"type\":\"CDSView\"}},\"id\":\"2078\",\"type\":\"GlyphRenderer\"}],\"root_ids\":[\"2007\"]},\"title\":\"Bokeh Application\",\"version\":\"1.3.4\"}};\n",
       "  var render_items = [{\"docid\":\"7a6079c8-db8f-4ae2-b411-de45b7badd84\",\"roots\":{\"2007\":\"372b3890-0fb4-487e-9aa1-f2290a51edde\"}}];\n",
       "  root.Bokeh.embed.embed_items_notebook(docs_json, render_items);\n",
       "\n",
       "  }\n",
       "  if (root.Bokeh !== undefined) {\n",
       "    embed_document(root);\n",
       "  } else {\n",
       "    var attempts = 0;\n",
       "    var timer = setInterval(function(root) {\n",
       "      if (root.Bokeh !== undefined) {\n",
       "        embed_document(root);\n",
       "        clearInterval(timer);\n",
       "      }\n",
       "      attempts++;\n",
       "      if (attempts > 100) {\n",
       "        console.log(\"Bokeh: ERROR: Unable to run BokehJS code because BokehJS library is missing\");\n",
       "        clearInterval(timer);\n",
       "      }\n",
       "    }, 10, root)\n",
       "  }\n",
       "})(window);"
      ],
      "application/vnd.bokehjs_exec.v0+json": ""
     },
     "metadata": {
      "application/vnd.bokehjs_exec.v0+json": {
       "id": "2007"
      }
     },
     "output_type": "display_data"
    }
   ],
   "source": [
    "# School enrollment, tertiary\n",
    "years = list(map(str, list(range(2010,2015))))\n",
    "show_weighted_average(years, 'SE.TER.ENRR', 'SP.POP.TOTL', ['LDCs', 'Developing excluding LDCs'])"
   ]
  },
  {
   "cell_type": "code",
   "execution_count": 16,
   "metadata": {},
   "outputs": [
    {
     "data": {
      "text/html": [
       "\n",
       "\n",
       "\n",
       "\n",
       "\n",
       "\n",
       "  <div class=\"bk-root\" id=\"755e46aa-0cb2-4673-92dc-71b08c9ff4b3\" data-root-id=\"2250\"></div>\n"
      ]
     },
     "metadata": {},
     "output_type": "display_data"
    },
    {
     "data": {
      "application/javascript": [
       "(function(root) {\n",
       "  function embed_document(root) {\n",
       "    \n",
       "  var docs_json = {\"b698d624-09d4-4f8a-8b4e-ab0d4e15a9bc\":{\"roots\":{\"references\":[{\"attributes\":{\"below\":[{\"id\":\"2261\",\"type\":\"LinearAxis\"}],\"center\":[{\"id\":\"2265\",\"type\":\"Grid\"},{\"id\":\"2270\",\"type\":\"Grid\"},{\"id\":\"2295\",\"type\":\"Legend\"}],\"left\":[{\"id\":\"2266\",\"type\":\"LinearAxis\"}],\"plot_height\":400,\"plot_width\":950,\"renderers\":[{\"id\":\"2287\",\"type\":\"GlyphRenderer\"},{\"id\":\"2300\",\"type\":\"GlyphRenderer\"},{\"id\":\"2305\",\"type\":\"GlyphRenderer\"},{\"id\":\"2321\",\"type\":\"GlyphRenderer\"}],\"title\":{\"id\":\"2251\",\"type\":\"Title\"},\"toolbar\":{\"id\":\"2277\",\"type\":\"Toolbar\"},\"x_range\":{\"id\":\"2253\",\"type\":\"DataRange1d\"},\"x_scale\":{\"id\":\"2257\",\"type\":\"LinearScale\"},\"y_range\":{\"id\":\"2255\",\"type\":\"DataRange1d\"},\"y_scale\":{\"id\":\"2259\",\"type\":\"LinearScale\"}},\"id\":\"2250\",\"subtype\":\"Figure\",\"type\":\"Plot\"},{\"attributes\":{\"data_source\":{\"id\":\"2318\",\"type\":\"ColumnDataSource\"},\"glyph\":{\"id\":\"2319\",\"type\":\"Circle\"},\"hover_glyph\":null,\"muted_glyph\":null,\"nonselection_glyph\":{\"id\":\"2320\",\"type\":\"Circle\"},\"selection_glyph\":null,\"view\":{\"id\":\"2322\",\"type\":\"CDSView\"}},\"id\":\"2321\",\"type\":\"GlyphRenderer\"},{\"attributes\":{\"text\":\"Pupil-teacher ratio, primary weighted against Population, total\"},\"id\":\"2251\",\"type\":\"Title\"},{\"attributes\":{\"callback\":null,\"data\":{\"x\":[\"2000\",\"2001\",\"2002\",\"2003\",\"2004\",\"2005\",\"2006\",\"2007\",\"2008\",\"2009\",\"2010\",\"2011\",\"2012\",\"2013\",\"2014\",\"2015\",\"2016\",\"2017\"],\"y\":[33.370051835559885,29.57702548330176,33.388901341061164,33.789125730263024,27.622887569846355,27.43513871906223,23.322003949314283,23.173937290806006,22.087389072731586,21.87034331925848,21.56849553016734,25.1902973461321,21.23626220970231,24.160800450151424,24.012498654781346,24.564505025797747,25.205451210762366,24.27522883303202]},\"selected\":{\"id\":\"2420\",\"type\":\"Selection\"},\"selection_policy\":{\"id\":\"2421\",\"type\":\"UnionRenderers\"}},\"id\":\"2318\",\"type\":\"ColumnDataSource\"},{\"attributes\":{\"bottom_units\":\"screen\",\"fill_alpha\":{\"value\":0.5},\"fill_color\":{\"value\":\"lightgrey\"},\"left_units\":\"screen\",\"level\":\"overlay\",\"line_alpha\":{\"value\":1.0},\"line_color\":{\"value\":\"black\"},\"line_dash\":[4,4],\"line_width\":{\"value\":2},\"render_mode\":\"css\",\"right_units\":\"screen\",\"top_units\":\"screen\"},\"id\":\"2294\",\"type\":\"BoxAnnotation\"},{\"attributes\":{\"callback\":null,\"tooltips\":\"\\n        <div style=padding=5px>Year:@x</div>\\n        <div style=padding=5px>Value:@y</div>\\n        \"},\"id\":\"2323\",\"type\":\"HoverTool\"},{\"attributes\":{\"dimension\":1,\"ticker\":{\"id\":\"2267\",\"type\":\"BasicTicker\"}},\"id\":\"2270\",\"type\":\"Grid\"},{\"attributes\":{},\"id\":\"2275\",\"type\":\"ResetTool\"},{\"attributes\":{},\"id\":\"2312\",\"type\":\"Selection\"},{\"attributes\":{},\"id\":\"2274\",\"type\":\"SaveTool\"},{\"attributes\":{},\"id\":\"2313\",\"type\":\"UnionRenderers\"},{\"attributes\":{},\"id\":\"2314\",\"type\":\"Selection\"},{\"attributes\":{\"callback\":null},\"id\":\"2255\",\"type\":\"DataRange1d\"},{\"attributes\":{\"line_color\":\"red\",\"line_width\":2,\"x\":{\"field\":\"x\"},\"y\":{\"field\":\"y\"}},\"id\":\"2285\",\"type\":\"Line\"},{\"attributes\":{\"line_alpha\":0.1,\"line_color\":\"#1f77b4\",\"line_width\":2,\"x\":{\"field\":\"x\"},\"y\":{\"field\":\"y\"}},\"id\":\"2304\",\"type\":\"Line\"},{\"attributes\":{\"overlay\":{\"id\":\"2294\",\"type\":\"BoxAnnotation\"}},\"id\":\"2273\",\"type\":\"BoxZoomTool\"},{\"attributes\":{\"source\":{\"id\":\"2318\",\"type\":\"ColumnDataSource\"}},\"id\":\"2322\",\"type\":\"CDSView\"},{\"attributes\":{},\"id\":\"2271\",\"type\":\"PanTool\"},{\"attributes\":{\"data_source\":{\"id\":\"2302\",\"type\":\"ColumnDataSource\"},\"glyph\":{\"id\":\"2303\",\"type\":\"Line\"},\"hover_glyph\":null,\"muted_glyph\":null,\"nonselection_glyph\":{\"id\":\"2304\",\"type\":\"Line\"},\"selection_glyph\":null,\"view\":{\"id\":\"2306\",\"type\":\"CDSView\"}},\"id\":\"2305\",\"type\":\"GlyphRenderer\"},{\"attributes\":{\"line_alpha\":0.1,\"line_color\":\"#1f77b4\",\"line_width\":2,\"x\":{\"field\":\"x\"},\"y\":{\"field\":\"y\"}},\"id\":\"2286\",\"type\":\"Line\"},{\"attributes\":{\"source\":{\"id\":\"2302\",\"type\":\"ColumnDataSource\"}},\"id\":\"2306\",\"type\":\"CDSView\"},{\"attributes\":{\"fill_alpha\":{\"value\":0.1},\"fill_color\":{\"value\":\"#1f77b4\"},\"line_alpha\":{\"value\":0.1},\"line_color\":{\"value\":\"#1f77b4\"},\"line_width\":{\"value\":3},\"x\":{\"field\":\"x\"},\"y\":{\"field\":\"y\"}},\"id\":\"2320\",\"type\":\"Circle\"},{\"attributes\":{\"ticker\":{\"id\":\"2262\",\"type\":\"BasicTicker\"}},\"id\":\"2265\",\"type\":\"Grid\"},{\"attributes\":{\"source\":{\"id\":\"2297\",\"type\":\"ColumnDataSource\"}},\"id\":\"2301\",\"type\":\"CDSView\"},{\"attributes\":{\"callback\":null,\"data\":{\"x\":[\"2000\",\"2001\",\"2002\",\"2003\",\"2004\",\"2005\",\"2006\",\"2007\",\"2008\",\"2009\",\"2010\",\"2011\",\"2012\",\"2013\",\"2014\",\"2015\",\"2016\",\"2017\"],\"y\":[33.370051835559885,29.57702548330176,33.388901341061164,33.789125730263024,27.622887569846355,27.43513871906223,23.322003949314283,23.173937290806006,22.087389072731586,21.87034331925848,21.56849553016734,25.1902973461321,21.23626220970231,24.160800450151424,24.012498654781346,24.564505025797747,25.205451210762366,24.27522883303202]},\"selected\":{\"id\":\"2418\",\"type\":\"Selection\"},\"selection_policy\":{\"id\":\"2419\",\"type\":\"UnionRenderers\"}},\"id\":\"2302\",\"type\":\"ColumnDataSource\"},{\"attributes\":{\"fill_color\":{\"value\":\"blue\"},\"line_color\":{\"value\":\"blue\"},\"line_width\":{\"value\":3},\"x\":{\"field\":\"x\"},\"y\":{\"field\":\"y\"}},\"id\":\"2319\",\"type\":\"Circle\"},{\"attributes\":{\"active_drag\":\"auto\",\"active_inspect\":\"auto\",\"active_multi\":null,\"active_scroll\":\"auto\",\"active_tap\":\"auto\",\"tools\":[{\"id\":\"2271\",\"type\":\"PanTool\"},{\"id\":\"2272\",\"type\":\"WheelZoomTool\"},{\"id\":\"2273\",\"type\":\"BoxZoomTool\"},{\"id\":\"2274\",\"type\":\"SaveTool\"},{\"id\":\"2275\",\"type\":\"ResetTool\"},{\"id\":\"2276\",\"type\":\"HelpTool\"},{\"id\":\"2323\",\"type\":\"HoverTool\"}]},\"id\":\"2277\",\"type\":\"Toolbar\"},{\"attributes\":{},\"id\":\"2257\",\"type\":\"LinearScale\"},{\"attributes\":{\"line_color\":\"blue\",\"line_width\":2,\"x\":{\"field\":\"x\"},\"y\":{\"field\":\"y\"}},\"id\":\"2303\",\"type\":\"Line\"},{\"attributes\":{\"axis_label\":\"Percentage\",\"formatter\":{\"id\":\"2291\",\"type\":\"BasicTickFormatter\"},\"ticker\":{\"id\":\"2267\",\"type\":\"BasicTicker\"}},\"id\":\"2266\",\"type\":\"LinearAxis\"},{\"attributes\":{\"fill_color\":{\"value\":\"red\"},\"line_color\":{\"value\":\"red\"},\"line_width\":{\"value\":3},\"x\":{\"field\":\"x\"},\"y\":{\"field\":\"y\"}},\"id\":\"2298\",\"type\":\"Circle\"},{\"attributes\":{},\"id\":\"2418\",\"type\":\"Selection\"},{\"attributes\":{\"axis_label\":\"Years\",\"formatter\":{\"id\":\"2293\",\"type\":\"BasicTickFormatter\"},\"ticker\":{\"id\":\"2262\",\"type\":\"BasicTicker\"}},\"id\":\"2261\",\"type\":\"LinearAxis\"},{\"attributes\":{\"fill_alpha\":{\"value\":0.1},\"fill_color\":{\"value\":\"#1f77b4\"},\"line_alpha\":{\"value\":0.1},\"line_color\":{\"value\":\"#1f77b4\"},\"line_width\":{\"value\":3},\"x\":{\"field\":\"x\"},\"y\":{\"field\":\"y\"}},\"id\":\"2299\",\"type\":\"Circle\"},{\"attributes\":{},\"id\":\"2272\",\"type\":\"WheelZoomTool\"},{\"attributes\":{},\"id\":\"2276\",\"type\":\"HelpTool\"},{\"attributes\":{\"data_source\":{\"id\":\"2297\",\"type\":\"ColumnDataSource\"},\"glyph\":{\"id\":\"2298\",\"type\":\"Circle\"},\"hover_glyph\":null,\"muted_glyph\":null,\"nonselection_glyph\":{\"id\":\"2299\",\"type\":\"Circle\"},\"selection_glyph\":null,\"view\":{\"id\":\"2301\",\"type\":\"CDSView\"}},\"id\":\"2300\",\"type\":\"GlyphRenderer\"},{\"attributes\":{},\"id\":\"2420\",\"type\":\"Selection\"},{\"attributes\":{\"label\":{\"value\":\"Developing excluding LDCs\"},\"renderers\":[{\"id\":\"2305\",\"type\":\"GlyphRenderer\"}]},\"id\":\"2317\",\"type\":\"LegendItem\"},{\"attributes\":{},\"id\":\"2293\",\"type\":\"BasicTickFormatter\"},{\"attributes\":{},\"id\":\"2259\",\"type\":\"LinearScale\"},{\"attributes\":{\"items\":[{\"id\":\"2296\",\"type\":\"LegendItem\"},{\"id\":\"2317\",\"type\":\"LegendItem\"}],\"location\":\"bottom_left\"},\"id\":\"2295\",\"type\":\"Legend\"},{\"attributes\":{},\"id\":\"2267\",\"type\":\"BasicTicker\"},{\"attributes\":{},\"id\":\"2291\",\"type\":\"BasicTickFormatter\"},{\"attributes\":{},\"id\":\"2262\",\"type\":\"BasicTicker\"},{\"attributes\":{\"label\":{\"value\":\"LDCs\"},\"renderers\":[{\"id\":\"2287\",\"type\":\"GlyphRenderer\"}]},\"id\":\"2296\",\"type\":\"LegendItem\"},{\"attributes\":{\"source\":{\"id\":\"2284\",\"type\":\"ColumnDataSource\"}},\"id\":\"2288\",\"type\":\"CDSView\"},{\"attributes\":{},\"id\":\"2421\",\"type\":\"UnionRenderers\"},{\"attributes\":{},\"id\":\"2315\",\"type\":\"UnionRenderers\"},{\"attributes\":{},\"id\":\"2419\",\"type\":\"UnionRenderers\"},{\"attributes\":{\"data_source\":{\"id\":\"2284\",\"type\":\"ColumnDataSource\"},\"glyph\":{\"id\":\"2285\",\"type\":\"Line\"},\"hover_glyph\":null,\"muted_glyph\":null,\"nonselection_glyph\":{\"id\":\"2286\",\"type\":\"Line\"},\"selection_glyph\":null,\"view\":{\"id\":\"2288\",\"type\":\"CDSView\"}},\"id\":\"2287\",\"type\":\"GlyphRenderer\"},{\"attributes\":{\"callback\":null,\"data\":{\"x\":[\"2000\",\"2001\",\"2002\",\"2003\",\"2004\",\"2005\",\"2006\",\"2007\",\"2008\",\"2009\",\"2010\",\"2011\",\"2012\",\"2013\",\"2014\",\"2015\",\"2016\",\"2017\"],\"y\":[51.520903177485685,46.52493990984674,45.72529764000698,47.0523349681254,48.04905957142995,48.073273979200536,46.88345337680238,45.37851355945308,47.5713037782683,46.94420318527923,44.98718519250169,45.977667340832,43.49825989518141,43.05048551129662,40.19878876980604,41.85413035115011,38.496722137935755,38.768702276413286]},\"selected\":{\"id\":\"2312\",\"type\":\"Selection\"},\"selection_policy\":{\"id\":\"2313\",\"type\":\"UnionRenderers\"}},\"id\":\"2284\",\"type\":\"ColumnDataSource\"},{\"attributes\":{\"callback\":null,\"data\":{\"x\":[\"2000\",\"2001\",\"2002\",\"2003\",\"2004\",\"2005\",\"2006\",\"2007\",\"2008\",\"2009\",\"2010\",\"2011\",\"2012\",\"2013\",\"2014\",\"2015\",\"2016\",\"2017\"],\"y\":[51.520903177485685,46.52493990984674,45.72529764000698,47.0523349681254,48.04905957142995,48.073273979200536,46.88345337680238,45.37851355945308,47.5713037782683,46.94420318527923,44.98718519250169,45.977667340832,43.49825989518141,43.05048551129662,40.19878876980604,41.85413035115011,38.496722137935755,38.768702276413286]},\"selected\":{\"id\":\"2314\",\"type\":\"Selection\"},\"selection_policy\":{\"id\":\"2315\",\"type\":\"UnionRenderers\"}},\"id\":\"2297\",\"type\":\"ColumnDataSource\"},{\"attributes\":{\"callback\":null},\"id\":\"2253\",\"type\":\"DataRange1d\"}],\"root_ids\":[\"2250\"]},\"title\":\"Bokeh Application\",\"version\":\"1.3.4\"}};\n",
       "  var render_items = [{\"docid\":\"b698d624-09d4-4f8a-8b4e-ab0d4e15a9bc\",\"roots\":{\"2250\":\"755e46aa-0cb2-4673-92dc-71b08c9ff4b3\"}}];\n",
       "  root.Bokeh.embed.embed_items_notebook(docs_json, render_items);\n",
       "\n",
       "  }\n",
       "  if (root.Bokeh !== undefined) {\n",
       "    embed_document(root);\n",
       "  } else {\n",
       "    var attempts = 0;\n",
       "    var timer = setInterval(function(root) {\n",
       "      if (root.Bokeh !== undefined) {\n",
       "        embed_document(root);\n",
       "        clearInterval(timer);\n",
       "      }\n",
       "      attempts++;\n",
       "      if (attempts > 100) {\n",
       "        console.log(\"Bokeh: ERROR: Unable to run BokehJS code because BokehJS library is missing\");\n",
       "        clearInterval(timer);\n",
       "      }\n",
       "    }, 10, root)\n",
       "  }\n",
       "})(window);"
      ],
      "application/vnd.bokehjs_exec.v0+json": ""
     },
     "metadata": {
      "application/vnd.bokehjs_exec.v0+json": {
       "id": "2250"
      }
     },
     "output_type": "display_data"
    }
   ],
   "source": [
    "# Pupil teacher ration\n",
    "years = list(map(str, list(range(2000,2018))))\n",
    "show_weighted_average(years, 'SE.PRM.ENRL.TC.ZS', 'SP.POP.TOTL', ['LDCs', 'Developing excluding LDCs'])"
   ]
  },
  {
   "cell_type": "code",
   "execution_count": 17,
   "metadata": {},
   "outputs": [
    {
     "data": {
      "text/html": [
       "\n",
       "\n",
       "\n",
       "\n",
       "\n",
       "\n",
       "  <div class=\"bk-root\" id=\"b4c988b0-c9a5-44e6-9837-c586f8997576\" data-root-id=\"2507\"></div>\n"
      ]
     },
     "metadata": {},
     "output_type": "display_data"
    },
    {
     "data": {
      "application/javascript": [
       "(function(root) {\n",
       "  function embed_document(root) {\n",
       "    \n",
       "  var docs_json = {\"62d87060-6d28-42c7-885c-abf0c2d6cee7\":{\"roots\":{\"references\":[{\"attributes\":{\"below\":[{\"id\":\"2518\",\"type\":\"LinearAxis\"}],\"center\":[{\"id\":\"2522\",\"type\":\"Grid\"},{\"id\":\"2527\",\"type\":\"Grid\"},{\"id\":\"2552\",\"type\":\"Legend\"}],\"left\":[{\"id\":\"2523\",\"type\":\"LinearAxis\"}],\"plot_height\":400,\"plot_width\":950,\"renderers\":[{\"id\":\"2544\",\"type\":\"GlyphRenderer\"},{\"id\":\"2557\",\"type\":\"GlyphRenderer\"},{\"id\":\"2562\",\"type\":\"GlyphRenderer\"},{\"id\":\"2578\",\"type\":\"GlyphRenderer\"},{\"id\":\"2583\",\"type\":\"GlyphRenderer\"},{\"id\":\"2603\",\"type\":\"GlyphRenderer\"}],\"title\":{\"id\":\"2508\",\"type\":\"Title\"},\"toolbar\":{\"id\":\"2534\",\"type\":\"Toolbar\"},\"x_range\":{\"id\":\"2510\",\"type\":\"DataRange1d\"},\"x_scale\":{\"id\":\"2514\",\"type\":\"LinearScale\"},\"y_range\":{\"id\":\"2512\",\"type\":\"DataRange1d\"},\"y_scale\":{\"id\":\"2516\",\"type\":\"LinearScale\"}},\"id\":\"2507\",\"subtype\":\"Figure\",\"type\":\"Plot\"},{\"attributes\":{\"line_alpha\":0.1,\"line_color\":\"#1f77b4\",\"line_width\":2,\"x\":{\"field\":\"x\"},\"y\":{\"field\":\"y\"}},\"id\":\"2561\",\"type\":\"Line\"},{\"attributes\":{\"data_source\":{\"id\":\"2575\",\"type\":\"ColumnDataSource\"},\"glyph\":{\"id\":\"2576\",\"type\":\"Circle\"},\"hover_glyph\":null,\"muted_glyph\":null,\"nonselection_glyph\":{\"id\":\"2577\",\"type\":\"Circle\"},\"selection_glyph\":null,\"view\":{\"id\":\"2579\",\"type\":\"CDSView\"}},\"id\":\"2578\",\"type\":\"GlyphRenderer\"},{\"attributes\":{\"items\":[{\"id\":\"2553\",\"type\":\"LegendItem\"},{\"id\":\"2574\",\"type\":\"LegendItem\"},{\"id\":\"2599\",\"type\":\"LegendItem\"}],\"location\":\"bottom_left\"},\"id\":\"2552\",\"type\":\"Legend\"},{\"attributes\":{\"callback\":null},\"id\":\"2510\",\"type\":\"DataRange1d\"},{\"attributes\":{},\"id\":\"2516\",\"type\":\"LinearScale\"},{\"attributes\":{\"source\":{\"id\":\"2559\",\"type\":\"ColumnDataSource\"}},\"id\":\"2563\",\"type\":\"CDSView\"},{\"attributes\":{\"axis_label\":\"Percentage\",\"formatter\":{\"id\":\"2548\",\"type\":\"BasicTickFormatter\"},\"ticker\":{\"id\":\"2524\",\"type\":\"BasicTicker\"}},\"id\":\"2523\",\"type\":\"LinearAxis\"},{\"attributes\":{\"source\":{\"id\":\"2575\",\"type\":\"ColumnDataSource\"}},\"id\":\"2579\",\"type\":\"CDSView\"},{\"attributes\":{\"axis_label\":\"Years\",\"formatter\":{\"id\":\"2550\",\"type\":\"BasicTickFormatter\"},\"ticker\":{\"id\":\"2519\",\"type\":\"BasicTicker\"}},\"id\":\"2518\",\"type\":\"LinearAxis\"},{\"attributes\":{\"callback\":null,\"data\":{\"x\":[\"2000\",\"2001\",\"2002\",\"2003\",\"2004\",\"2005\",\"2006\",\"2007\",\"2008\",\"2009\",\"2010\",\"2011\",\"2012\",\"2013\",\"2014\",\"2015\",\"2016\",\"2017\"],\"y\":[31.46247449723159,31.051171911215434,30.519130398965917,29.925822930439033,29.3696380683664,28.89970990346446,28.48061580116519,28.13477676517371,27.845842847927425,27.57508608250911,27.302294757124095,27.06200424509802,26.817074946864174,26.571303888699866,26.33248478028756,26.10246731610828,25.884872437055105,25.670861481196635]},\"selected\":{\"id\":\"2596\",\"type\":\"Selection\"},\"selection_policy\":{\"id\":\"2597\",\"type\":\"UnionRenderers\"}},\"id\":\"2575\",\"type\":\"ColumnDataSource\"},{\"attributes\":{\"callback\":null,\"data\":{\"x\":[\"2000\",\"2001\",\"2002\",\"2003\",\"2004\",\"2005\",\"2006\",\"2007\",\"2008\",\"2009\",\"2010\",\"2011\",\"2012\",\"2013\",\"2014\",\"2015\",\"2016\",\"2017\"],\"y\":[20.653439230371426,20.415555136413452,20.200407075212425,19.99721546354425,19.792580083113325,19.58153049491419,19.42936673752946,19.266708712785178,19.10062316536645,18.940792466102835,18.78763312883592,18.68284269266012,18.553760570557017,18.4175092045611,18.28626606521173,18.163323640146963,18.042734326142373,17.93618839869138]},\"selected\":{\"id\":\"2718\",\"type\":\"Selection\"},\"selection_policy\":{\"id\":\"2719\",\"type\":\"UnionRenderers\"}},\"id\":\"2580\",\"type\":\"ColumnDataSource\"},{\"attributes\":{},\"id\":\"2519\",\"type\":\"BasicTicker\"},{\"attributes\":{\"line_color\":\"green\",\"line_width\":2,\"x\":{\"field\":\"x\"},\"y\":{\"field\":\"y\"}},\"id\":\"2581\",\"type\":\"Line\"},{\"attributes\":{\"data_source\":{\"id\":\"2554\",\"type\":\"ColumnDataSource\"},\"glyph\":{\"id\":\"2555\",\"type\":\"Circle\"},\"hover_glyph\":null,\"muted_glyph\":null,\"nonselection_glyph\":{\"id\":\"2556\",\"type\":\"Circle\"},\"selection_glyph\":null,\"view\":{\"id\":\"2558\",\"type\":\"CDSView\"}},\"id\":\"2557\",\"type\":\"GlyphRenderer\"},{\"attributes\":{\"ticker\":{\"id\":\"2519\",\"type\":\"BasicTicker\"}},\"id\":\"2522\",\"type\":\"Grid\"},{\"attributes\":{\"text\":\"Population ages 0-14 (% of total population) weighted against Population, total\"},\"id\":\"2508\",\"type\":\"Title\"},{\"attributes\":{\"label\":{\"value\":\"Developing excluding LDCs\"},\"renderers\":[{\"id\":\"2562\",\"type\":\"GlyphRenderer\"}]},\"id\":\"2574\",\"type\":\"LegendItem\"},{\"attributes\":{},\"id\":\"2548\",\"type\":\"BasicTickFormatter\"},{\"attributes\":{\"data_source\":{\"id\":\"2580\",\"type\":\"ColumnDataSource\"},\"glyph\":{\"id\":\"2581\",\"type\":\"Line\"},\"hover_glyph\":null,\"muted_glyph\":null,\"nonselection_glyph\":{\"id\":\"2582\",\"type\":\"Line\"},\"selection_glyph\":null,\"view\":{\"id\":\"2584\",\"type\":\"CDSView\"}},\"id\":\"2583\",\"type\":\"GlyphRenderer\"},{\"attributes\":{\"fill_color\":{\"value\":\"red\"},\"line_color\":{\"value\":\"red\"},\"line_width\":{\"value\":3},\"x\":{\"field\":\"x\"},\"y\":{\"field\":\"y\"}},\"id\":\"2555\",\"type\":\"Circle\"},{\"attributes\":{\"line_alpha\":0.1,\"line_color\":\"#1f77b4\",\"line_width\":2,\"x\":{\"field\":\"x\"},\"y\":{\"field\":\"y\"}},\"id\":\"2582\",\"type\":\"Line\"},{\"attributes\":{\"source\":{\"id\":\"2580\",\"type\":\"ColumnDataSource\"}},\"id\":\"2584\",\"type\":\"CDSView\"},{\"attributes\":{\"callback\":null,\"tooltips\":\"\\n        <div style=padding=5px>Year:@x</div>\\n        <div style=padding=5px>Value:@y</div>\\n        \"},\"id\":\"2605\",\"type\":\"HoverTool\"},{\"attributes\":{\"source\":{\"id\":\"2541\",\"type\":\"ColumnDataSource\"}},\"id\":\"2545\",\"type\":\"CDSView\"},{\"attributes\":{},\"id\":\"2572\",\"type\":\"UnionRenderers\"},{\"attributes\":{},\"id\":\"2594\",\"type\":\"Selection\"},{\"attributes\":{\"line_color\":\"blue\",\"line_width\":2,\"x\":{\"field\":\"x\"},\"y\":{\"field\":\"y\"}},\"id\":\"2560\",\"type\":\"Line\"},{\"attributes\":{\"source\":{\"id\":\"2600\",\"type\":\"ColumnDataSource\"}},\"id\":\"2604\",\"type\":\"CDSView\"},{\"attributes\":{\"data_source\":{\"id\":\"2541\",\"type\":\"ColumnDataSource\"},\"glyph\":{\"id\":\"2542\",\"type\":\"Line\"},\"hover_glyph\":null,\"muted_glyph\":null,\"nonselection_glyph\":{\"id\":\"2543\",\"type\":\"Line\"},\"selection_glyph\":null,\"view\":{\"id\":\"2545\",\"type\":\"CDSView\"}},\"id\":\"2544\",\"type\":\"GlyphRenderer\"},{\"attributes\":{},\"id\":\"2595\",\"type\":\"UnionRenderers\"},{\"attributes\":{},\"id\":\"2524\",\"type\":\"BasicTicker\"},{\"attributes\":{},\"id\":\"2571\",\"type\":\"Selection\"},{\"attributes\":{\"fill_alpha\":{\"value\":0.1},\"fill_color\":{\"value\":\"#1f77b4\"},\"line_alpha\":{\"value\":0.1},\"line_color\":{\"value\":\"#1f77b4\"},\"line_width\":{\"value\":3},\"x\":{\"field\":\"x\"},\"y\":{\"field\":\"y\"}},\"id\":\"2556\",\"type\":\"Circle\"},{\"attributes\":{},\"id\":\"2596\",\"type\":\"Selection\"},{\"attributes\":{\"line_color\":\"red\",\"line_width\":2,\"x\":{\"field\":\"x\"},\"y\":{\"field\":\"y\"}},\"id\":\"2542\",\"type\":\"Line\"},{\"attributes\":{},\"id\":\"2721\",\"type\":\"UnionRenderers\"},{\"attributes\":{\"bottom_units\":\"screen\",\"fill_alpha\":{\"value\":0.5},\"fill_color\":{\"value\":\"lightgrey\"},\"left_units\":\"screen\",\"level\":\"overlay\",\"line_alpha\":{\"value\":1.0},\"line_color\":{\"value\":\"black\"},\"line_dash\":[4,4],\"line_width\":{\"value\":2},\"render_mode\":\"css\",\"right_units\":\"screen\",\"top_units\":\"screen\"},\"id\":\"2551\",\"type\":\"BoxAnnotation\"},{\"attributes\":{\"dimension\":1,\"ticker\":{\"id\":\"2524\",\"type\":\"BasicTicker\"}},\"id\":\"2527\",\"type\":\"Grid\"},{\"attributes\":{},\"id\":\"2597\",\"type\":\"UnionRenderers\"},{\"attributes\":{\"callback\":null,\"data\":{\"x\":[\"2000\",\"2001\",\"2002\",\"2003\",\"2004\",\"2005\",\"2006\",\"2007\",\"2008\",\"2009\",\"2010\",\"2011\",\"2012\",\"2013\",\"2014\",\"2015\",\"2016\",\"2017\"],\"y\":[43.05250753237409,42.92645426230383,42.78153339187954,42.623671123778905,42.4538109516677,42.26938810853834,42.15716163307373,42.02039711340489,41.86147936931502,41.68421796662147,41.49082505944,41.290660205111934,41.06737328423549,40.819736905133695,40.55543302226044,40.27763880852747,40.006149187520116,39.721083369953]},\"selected\":{\"id\":\"2569\",\"type\":\"Selection\"},\"selection_policy\":{\"id\":\"2570\",\"type\":\"UnionRenderers\"}},\"id\":\"2541\",\"type\":\"ColumnDataSource\"},{\"attributes\":{},\"id\":\"2570\",\"type\":\"UnionRenderers\"},{\"attributes\":{\"label\":{\"value\":\"OECD\"},\"renderers\":[{\"id\":\"2583\",\"type\":\"GlyphRenderer\"}]},\"id\":\"2599\",\"type\":\"LegendItem\"},{\"attributes\":{\"source\":{\"id\":\"2554\",\"type\":\"ColumnDataSource\"}},\"id\":\"2558\",\"type\":\"CDSView\"},{\"attributes\":{},\"id\":\"2720\",\"type\":\"Selection\"},{\"attributes\":{},\"id\":\"2528\",\"type\":\"PanTool\"},{\"attributes\":{},\"id\":\"2550\",\"type\":\"BasicTickFormatter\"},{\"attributes\":{},\"id\":\"2529\",\"type\":\"WheelZoomTool\"},{\"attributes\":{},\"id\":\"2569\",\"type\":\"Selection\"},{\"attributes\":{\"line_alpha\":0.1,\"line_color\":\"#1f77b4\",\"line_width\":2,\"x\":{\"field\":\"x\"},\"y\":{\"field\":\"y\"}},\"id\":\"2543\",\"type\":\"Line\"},{\"attributes\":{\"fill_color\":{\"value\":\"green\"},\"line_color\":{\"value\":\"green\"},\"line_width\":{\"value\":3},\"x\":{\"field\":\"x\"},\"y\":{\"field\":\"y\"}},\"id\":\"2601\",\"type\":\"Circle\"},{\"attributes\":{},\"id\":\"2719\",\"type\":\"UnionRenderers\"},{\"attributes\":{},\"id\":\"2514\",\"type\":\"LinearScale\"},{\"attributes\":{\"overlay\":{\"id\":\"2551\",\"type\":\"BoxAnnotation\"}},\"id\":\"2530\",\"type\":\"BoxZoomTool\"},{\"attributes\":{\"fill_color\":{\"value\":\"blue\"},\"line_color\":{\"value\":\"blue\"},\"line_width\":{\"value\":3},\"x\":{\"field\":\"x\"},\"y\":{\"field\":\"y\"}},\"id\":\"2576\",\"type\":\"Circle\"},{\"attributes\":{\"fill_alpha\":{\"value\":0.1},\"fill_color\":{\"value\":\"#1f77b4\"},\"line_alpha\":{\"value\":0.1},\"line_color\":{\"value\":\"#1f77b4\"},\"line_width\":{\"value\":3},\"x\":{\"field\":\"x\"},\"y\":{\"field\":\"y\"}},\"id\":\"2602\",\"type\":\"Circle\"},{\"attributes\":{\"callback\":null,\"data\":{\"x\":[\"2000\",\"2001\",\"2002\",\"2003\",\"2004\",\"2005\",\"2006\",\"2007\",\"2008\",\"2009\",\"2010\",\"2011\",\"2012\",\"2013\",\"2014\",\"2015\",\"2016\",\"2017\"],\"y\":[20.653439230371426,20.415555136413452,20.200407075212425,19.99721546354425,19.792580083113325,19.58153049491419,19.42936673752946,19.266708712785178,19.10062316536645,18.940792466102835,18.78763312883592,18.68284269266012,18.553760570557017,18.4175092045611,18.28626606521173,18.163323640146963,18.042734326142373,17.93618839869138]},\"selected\":{\"id\":\"2720\",\"type\":\"Selection\"},\"selection_policy\":{\"id\":\"2721\",\"type\":\"UnionRenderers\"}},\"id\":\"2600\",\"type\":\"ColumnDataSource\"},{\"attributes\":{},\"id\":\"2531\",\"type\":\"SaveTool\"},{\"attributes\":{\"data_source\":{\"id\":\"2600\",\"type\":\"ColumnDataSource\"},\"glyph\":{\"id\":\"2601\",\"type\":\"Circle\"},\"hover_glyph\":null,\"muted_glyph\":null,\"nonselection_glyph\":{\"id\":\"2602\",\"type\":\"Circle\"},\"selection_glyph\":null,\"view\":{\"id\":\"2604\",\"type\":\"CDSView\"}},\"id\":\"2603\",\"type\":\"GlyphRenderer\"},{\"attributes\":{\"callback\":null,\"data\":{\"x\":[\"2000\",\"2001\",\"2002\",\"2003\",\"2004\",\"2005\",\"2006\",\"2007\",\"2008\",\"2009\",\"2010\",\"2011\",\"2012\",\"2013\",\"2014\",\"2015\",\"2016\",\"2017\"],\"y\":[31.46247449723159,31.051171911215434,30.519130398965917,29.925822930439033,29.3696380683664,28.89970990346446,28.48061580116519,28.13477676517371,27.845842847927425,27.57508608250911,27.302294757124095,27.06200424509802,26.817074946864174,26.571303888699866,26.33248478028756,26.10246731610828,25.884872437055105,25.670861481196635]},\"selected\":{\"id\":\"2594\",\"type\":\"Selection\"},\"selection_policy\":{\"id\":\"2595\",\"type\":\"UnionRenderers\"}},\"id\":\"2559\",\"type\":\"ColumnDataSource\"},{\"attributes\":{},\"id\":\"2532\",\"type\":\"ResetTool\"},{\"attributes\":{\"callback\":null,\"data\":{\"x\":[\"2000\",\"2001\",\"2002\",\"2003\",\"2004\",\"2005\",\"2006\",\"2007\",\"2008\",\"2009\",\"2010\",\"2011\",\"2012\",\"2013\",\"2014\",\"2015\",\"2016\",\"2017\"],\"y\":[43.05250753237409,42.92645426230383,42.78153339187954,42.623671123778905,42.4538109516677,42.26938810853834,42.15716163307373,42.02039711340489,41.86147936931502,41.68421796662147,41.49082505944,41.290660205111934,41.06737328423549,40.819736905133695,40.55543302226044,40.27763880852747,40.006149187520116,39.721083369953]},\"selected\":{\"id\":\"2571\",\"type\":\"Selection\"},\"selection_policy\":{\"id\":\"2572\",\"type\":\"UnionRenderers\"}},\"id\":\"2554\",\"type\":\"ColumnDataSource\"},{\"attributes\":{\"fill_alpha\":{\"value\":0.1},\"fill_color\":{\"value\":\"#1f77b4\"},\"line_alpha\":{\"value\":0.1},\"line_color\":{\"value\":\"#1f77b4\"},\"line_width\":{\"value\":3},\"x\":{\"field\":\"x\"},\"y\":{\"field\":\"y\"}},\"id\":\"2577\",\"type\":\"Circle\"},{\"attributes\":{\"callback\":null},\"id\":\"2512\",\"type\":\"DataRange1d\"},{\"attributes\":{},\"id\":\"2533\",\"type\":\"HelpTool\"},{\"attributes\":{\"label\":{\"value\":\"LDCs\"},\"renderers\":[{\"id\":\"2544\",\"type\":\"GlyphRenderer\"}]},\"id\":\"2553\",\"type\":\"LegendItem\"},{\"attributes\":{\"active_drag\":\"auto\",\"active_inspect\":\"auto\",\"active_multi\":null,\"active_scroll\":\"auto\",\"active_tap\":\"auto\",\"tools\":[{\"id\":\"2528\",\"type\":\"PanTool\"},{\"id\":\"2529\",\"type\":\"WheelZoomTool\"},{\"id\":\"2530\",\"type\":\"BoxZoomTool\"},{\"id\":\"2531\",\"type\":\"SaveTool\"},{\"id\":\"2532\",\"type\":\"ResetTool\"},{\"id\":\"2533\",\"type\":\"HelpTool\"},{\"id\":\"2605\",\"type\":\"HoverTool\"}]},\"id\":\"2534\",\"type\":\"Toolbar\"},{\"attributes\":{\"data_source\":{\"id\":\"2559\",\"type\":\"ColumnDataSource\"},\"glyph\":{\"id\":\"2560\",\"type\":\"Line\"},\"hover_glyph\":null,\"muted_glyph\":null,\"nonselection_glyph\":{\"id\":\"2561\",\"type\":\"Line\"},\"selection_glyph\":null,\"view\":{\"id\":\"2563\",\"type\":\"CDSView\"}},\"id\":\"2562\",\"type\":\"GlyphRenderer\"},{\"attributes\":{},\"id\":\"2718\",\"type\":\"Selection\"}],\"root_ids\":[\"2507\"]},\"title\":\"Bokeh Application\",\"version\":\"1.3.4\"}};\n",
       "  var render_items = [{\"docid\":\"62d87060-6d28-42c7-885c-abf0c2d6cee7\",\"roots\":{\"2507\":\"b4c988b0-c9a5-44e6-9837-c586f8997576\"}}];\n",
       "  root.Bokeh.embed.embed_items_notebook(docs_json, render_items);\n",
       "\n",
       "  }\n",
       "  if (root.Bokeh !== undefined) {\n",
       "    embed_document(root);\n",
       "  } else {\n",
       "    var attempts = 0;\n",
       "    var timer = setInterval(function(root) {\n",
       "      if (root.Bokeh !== undefined) {\n",
       "        embed_document(root);\n",
       "        clearInterval(timer);\n",
       "      }\n",
       "      attempts++;\n",
       "      if (attempts > 100) {\n",
       "        console.log(\"Bokeh: ERROR: Unable to run BokehJS code because BokehJS library is missing\");\n",
       "        clearInterval(timer);\n",
       "      }\n",
       "    }, 10, root)\n",
       "  }\n",
       "})(window);"
      ],
      "application/vnd.bokehjs_exec.v0+json": ""
     },
     "metadata": {
      "application/vnd.bokehjs_exec.v0+json": {
       "id": "2507"
      }
     },
     "output_type": "display_data"
    }
   ],
   "source": [
    "# Population 0-14\n",
    "show_weighted_average(years, 'SP.POP.0014.TO.ZS', 'SP.POP.TOTL', ['LDCs', 'Developing excluding LDCs', 'OECD'])"
   ]
  },
  {
   "cell_type": "code",
   "execution_count": 18,
   "metadata": {},
   "outputs": [
    {
     "ename": "NameError",
     "evalue": "name 'show_group_total' is not defined",
     "output_type": "error",
     "traceback": [
      "\u001b[0;31m---------------------------------------------------------------------------\u001b[0m",
      "\u001b[0;31mNameError\u001b[0m                                 Traceback (most recent call last)",
      "\u001b[0;32m<ipython-input-18-45cf15e92270>\u001b[0m in \u001b[0;36m<module>\u001b[0;34m\u001b[0m\n\u001b[1;32m      1\u001b[0m \u001b[0myears\u001b[0m \u001b[0;34m=\u001b[0m \u001b[0mlist\u001b[0m\u001b[0;34m(\u001b[0m\u001b[0mmap\u001b[0m\u001b[0;34m(\u001b[0m\u001b[0mstr\u001b[0m\u001b[0;34m,\u001b[0m \u001b[0mlist\u001b[0m\u001b[0;34m(\u001b[0m\u001b[0mrange\u001b[0m\u001b[0;34m(\u001b[0m\u001b[0;36m1960\u001b[0m\u001b[0;34m,\u001b[0m\u001b[0;36m2018\u001b[0m\u001b[0;34m)\u001b[0m\u001b[0;34m)\u001b[0m\u001b[0;34m)\u001b[0m\u001b[0;34m)\u001b[0m\u001b[0;34m\u001b[0m\u001b[0m\n\u001b[0;32m----> 2\u001b[0;31m \u001b[0mshow_group_total\u001b[0m\u001b[0;34m(\u001b[0m\u001b[0myears\u001b[0m\u001b[0;34m,\u001b[0m \u001b[0;34m'SP.POP.TOTL'\u001b[0m\u001b[0;34m,\u001b[0m \u001b[0;34m[\u001b[0m\u001b[0;34m'LDCs'\u001b[0m\u001b[0;34m]\u001b[0m\u001b[0;34m)\u001b[0m\u001b[0;34m\u001b[0m\u001b[0m\n\u001b[0m",
      "\u001b[0;31mNameError\u001b[0m: name 'show_group_total' is not defined"
     ]
    }
   ],
   "source": [
    "years = list(map(str, list(range(1960,2018))))\n",
    "show_group_total(years, 'SP.POP.TOTL', ['LDCs'])"
   ]
  },
  {
   "cell_type": "code",
   "execution_count": null,
   "metadata": {},
   "outputs": [],
   "source": [
    "data_group = get_data_table(years, 'SP.POP.TOTL', [['LDCs']])"
   ]
  },
  {
   "cell_type": "code",
   "execution_count": null,
   "metadata": {},
   "outputs": [],
   "source": [
    "# Labor force\n",
    "years = list(map(str, list(range(2000,2018))))\n",
    "show_weighted_average(years, 'SL.EMP.VULN.FE.ZS', 'SL.TLF.TOTL.IN', ['LDCs', 'Developing excluding LDCs'])"
   ]
  },
  {
   "cell_type": "code",
   "execution_count": null,
   "metadata": {},
   "outputs": [],
   "source": [
    "# Labor force\n",
    "years = list(map(str, list(range(2000,2018))))\n",
    "show_weighted_average(years, 'SH.STA.MMRT', 'SP.POP.TOTL.FE.IN', ['LDCs', 'Developing excluding LDCs'])"
   ]
  }
 ],
 "metadata": {
  "kernelspec": {
   "display_name": "Python 3",
   "language": "python",
   "name": "python3"
  },
  "language_info": {
   "codemirror_mode": {
    "name": "ipython",
    "version": 3
   },
   "file_extension": ".py",
   "mimetype": "text/x-python",
   "name": "python",
   "nbconvert_exporter": "python",
   "pygments_lexer": "ipython3",
   "version": "3.7.0"
  }
 },
 "nbformat": 4,
 "nbformat_minor": 2
}
