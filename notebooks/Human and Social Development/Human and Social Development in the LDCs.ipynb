{
 "cells": [
  {
   "cell_type": "code",
   "execution_count": 1,
   "metadata": {},
   "outputs": [],
   "source": [
    "import sys\n",
    "sys.path.append(\"../../\")\n",
    "import json\n",
    "import urllib.request\n",
    "from IPython.display import clear_output\n",
    "import sources\n",
    "from countries.list import CountryList\n",
    "from data.Frame import Frame\n",
    "from data.Stats import calculate_weighted_average as wa\n",
    "c = CountryList()\n",
    "c.load_wb()\n",
    "from sources.worldbank.indicators import get_data_frame_wide as getdfw\n",
    "from sources.worldbank.datatable import get_data_table"
   ]
  },
  {
   "cell_type": "code",
   "execution_count": 2,
   "metadata": {},
   "outputs": [],
   "source": [
    "from bokeh.plotting import figure, output_file, show\n",
    "def estimate(years,indicator, groups, weight = None):\n",
    "    data_df = get_data_table(years, indicator, groups, export_to_excel=False)    \n",
    "    \n",
    "    if weight is None:\n",
    "        return (data_df)    \n",
    "    \n",
    "    weight_df = get_data_table(years, weight, groups, export_to_excel=False)   \n",
    "    \n",
    "    df_ldcs_w = wa(data_df, weight_df, 'entity' )\n",
    "    \n",
    "    return (df_ldcs_w)"
   ]
  },
  {
   "cell_type": "code",
   "execution_count": 15,
   "metadata": {},
   "outputs": [],
   "source": [
    "def line_chart(series):\n",
    "    output_file(\"data.html\")\n",
    "    # create a new plot with a title and axis labels\n",
    "    p = figure(title=series[0].description, x_axis_label='Years', y_axis_label='Percentage', height = 400, width = 900)    \n",
    "    colors = ['red', 'blue', 'green', 'orange']\n",
    "    j = 0\n",
    "    for data in series:        \n",
    "        x = years\n",
    "        y = []\n",
    "        for i in range(3,len(data.get_last_row().get_array()), 3):\n",
    "            y.append(data.get_last_row()[i].get_value())\n",
    "        # prepare some data\n",
    "        # output to static HTML file\n",
    "        # add a line renderer with legend and line thickness\n",
    "        p.line(x, y, legend=data.entities_description, line_width=2, color = colors[j])\n",
    "        j = j + 1\n",
    "    # show the results\n",
    "    return p"
   ]
  },
  {
   "cell_type": "code",
   "execution_count": 16,
   "metadata": {},
   "outputs": [
    {
     "data": {
      "text/html": [
       "\n",
       "    <div class=\"bk-root\">\n",
       "        <a href=\"https://bokeh.pydata.org\" target=\"_blank\" class=\"bk-logo bk-logo-small bk-logo-notebook\"></a>\n",
       "        <span id=\"1458\">Loading BokehJS ...</span>\n",
       "    </div>"
      ]
     },
     "metadata": {},
     "output_type": "display_data"
    },
    {
     "data": {
      "application/javascript": [
       "\n",
       "(function(root) {\n",
       "  function now() {\n",
       "    return new Date();\n",
       "  }\n",
       "\n",
       "  var force = true;\n",
       "\n",
       "  if (typeof root._bokeh_onload_callbacks === \"undefined\" || force === true) {\n",
       "    root._bokeh_onload_callbacks = [];\n",
       "    root._bokeh_is_loading = undefined;\n",
       "  }\n",
       "\n",
       "  var JS_MIME_TYPE = 'application/javascript';\n",
       "  var HTML_MIME_TYPE = 'text/html';\n",
       "  var EXEC_MIME_TYPE = 'application/vnd.bokehjs_exec.v0+json';\n",
       "  var CLASS_NAME = 'output_bokeh rendered_html';\n",
       "\n",
       "  /**\n",
       "   * Render data to the DOM node\n",
       "   */\n",
       "  function render(props, node) {\n",
       "    var script = document.createElement(\"script\");\n",
       "    node.appendChild(script);\n",
       "  }\n",
       "\n",
       "  /**\n",
       "   * Handle when an output is cleared or removed\n",
       "   */\n",
       "  function handleClearOutput(event, handle) {\n",
       "    var cell = handle.cell;\n",
       "\n",
       "    var id = cell.output_area._bokeh_element_id;\n",
       "    var server_id = cell.output_area._bokeh_server_id;\n",
       "    // Clean up Bokeh references\n",
       "    if (id != null && id in Bokeh.index) {\n",
       "      Bokeh.index[id].model.document.clear();\n",
       "      delete Bokeh.index[id];\n",
       "    }\n",
       "\n",
       "    if (server_id !== undefined) {\n",
       "      // Clean up Bokeh references\n",
       "      var cmd = \"from bokeh.io.state import curstate; print(curstate().uuid_to_server['\" + server_id + \"'].get_sessions()[0].document.roots[0]._id)\";\n",
       "      cell.notebook.kernel.execute(cmd, {\n",
       "        iopub: {\n",
       "          output: function(msg) {\n",
       "            var id = msg.content.text.trim();\n",
       "            if (id in Bokeh.index) {\n",
       "              Bokeh.index[id].model.document.clear();\n",
       "              delete Bokeh.index[id];\n",
       "            }\n",
       "          }\n",
       "        }\n",
       "      });\n",
       "      // Destroy server and session\n",
       "      var cmd = \"import bokeh.io.notebook as ion; ion.destroy_server('\" + server_id + \"')\";\n",
       "      cell.notebook.kernel.execute(cmd);\n",
       "    }\n",
       "  }\n",
       "\n",
       "  /**\n",
       "   * Handle when a new output is added\n",
       "   */\n",
       "  function handleAddOutput(event, handle) {\n",
       "    var output_area = handle.output_area;\n",
       "    var output = handle.output;\n",
       "\n",
       "    // limit handleAddOutput to display_data with EXEC_MIME_TYPE content only\n",
       "    if ((output.output_type != \"display_data\") || (!output.data.hasOwnProperty(EXEC_MIME_TYPE))) {\n",
       "      return\n",
       "    }\n",
       "\n",
       "    var toinsert = output_area.element.find(\".\" + CLASS_NAME.split(' ')[0]);\n",
       "\n",
       "    if (output.metadata[EXEC_MIME_TYPE][\"id\"] !== undefined) {\n",
       "      toinsert[toinsert.length - 1].firstChild.textContent = output.data[JS_MIME_TYPE];\n",
       "      // store reference to embed id on output_area\n",
       "      output_area._bokeh_element_id = output.metadata[EXEC_MIME_TYPE][\"id\"];\n",
       "    }\n",
       "    if (output.metadata[EXEC_MIME_TYPE][\"server_id\"] !== undefined) {\n",
       "      var bk_div = document.createElement(\"div\");\n",
       "      bk_div.innerHTML = output.data[HTML_MIME_TYPE];\n",
       "      var script_attrs = bk_div.children[0].attributes;\n",
       "      for (var i = 0; i < script_attrs.length; i++) {\n",
       "        toinsert[toinsert.length - 1].firstChild.setAttribute(script_attrs[i].name, script_attrs[i].value);\n",
       "      }\n",
       "      // store reference to server id on output_area\n",
       "      output_area._bokeh_server_id = output.metadata[EXEC_MIME_TYPE][\"server_id\"];\n",
       "    }\n",
       "  }\n",
       "\n",
       "  function register_renderer(events, OutputArea) {\n",
       "\n",
       "    function append_mime(data, metadata, element) {\n",
       "      // create a DOM node to render to\n",
       "      var toinsert = this.create_output_subarea(\n",
       "        metadata,\n",
       "        CLASS_NAME,\n",
       "        EXEC_MIME_TYPE\n",
       "      );\n",
       "      this.keyboard_manager.register_events(toinsert);\n",
       "      // Render to node\n",
       "      var props = {data: data, metadata: metadata[EXEC_MIME_TYPE]};\n",
       "      render(props, toinsert[toinsert.length - 1]);\n",
       "      element.append(toinsert);\n",
       "      return toinsert\n",
       "    }\n",
       "\n",
       "    /* Handle when an output is cleared or removed */\n",
       "    events.on('clear_output.CodeCell', handleClearOutput);\n",
       "    events.on('delete.Cell', handleClearOutput);\n",
       "\n",
       "    /* Handle when a new output is added */\n",
       "    events.on('output_added.OutputArea', handleAddOutput);\n",
       "\n",
       "    /**\n",
       "     * Register the mime type and append_mime function with output_area\n",
       "     */\n",
       "    OutputArea.prototype.register_mime_type(EXEC_MIME_TYPE, append_mime, {\n",
       "      /* Is output safe? */\n",
       "      safe: true,\n",
       "      /* Index of renderer in `output_area.display_order` */\n",
       "      index: 0\n",
       "    });\n",
       "  }\n",
       "\n",
       "  // register the mime type if in Jupyter Notebook environment and previously unregistered\n",
       "  if (root.Jupyter !== undefined) {\n",
       "    var events = require('base/js/events');\n",
       "    var OutputArea = require('notebook/js/outputarea').OutputArea;\n",
       "\n",
       "    if (OutputArea.prototype.mime_types().indexOf(EXEC_MIME_TYPE) == -1) {\n",
       "      register_renderer(events, OutputArea);\n",
       "    }\n",
       "  }\n",
       "\n",
       "  \n",
       "  if (typeof (root._bokeh_timeout) === \"undefined\" || force === true) {\n",
       "    root._bokeh_timeout = Date.now() + 5000;\n",
       "    root._bokeh_failed_load = false;\n",
       "  }\n",
       "\n",
       "  var NB_LOAD_WARNING = {'data': {'text/html':\n",
       "     \"<div style='background-color: #fdd'>\\n\"+\n",
       "     \"<p>\\n\"+\n",
       "     \"BokehJS does not appear to have successfully loaded. If loading BokehJS from CDN, this \\n\"+\n",
       "     \"may be due to a slow or bad network connection. Possible fixes:\\n\"+\n",
       "     \"</p>\\n\"+\n",
       "     \"<ul>\\n\"+\n",
       "     \"<li>re-rerun `output_notebook()` to attempt to load from CDN again, or</li>\\n\"+\n",
       "     \"<li>use INLINE resources instead, as so:</li>\\n\"+\n",
       "     \"</ul>\\n\"+\n",
       "     \"<code>\\n\"+\n",
       "     \"from bokeh.resources import INLINE\\n\"+\n",
       "     \"output_notebook(resources=INLINE)\\n\"+\n",
       "     \"</code>\\n\"+\n",
       "     \"</div>\"}};\n",
       "\n",
       "  function display_loaded() {\n",
       "    var el = document.getElementById(\"1458\");\n",
       "    if (el != null) {\n",
       "      el.textContent = \"BokehJS is loading...\";\n",
       "    }\n",
       "    if (root.Bokeh !== undefined) {\n",
       "      if (el != null) {\n",
       "        el.textContent = \"BokehJS \" + root.Bokeh.version + \" successfully loaded.\";\n",
       "      }\n",
       "    } else if (Date.now() < root._bokeh_timeout) {\n",
       "      setTimeout(display_loaded, 100)\n",
       "    }\n",
       "  }\n",
       "\n",
       "\n",
       "  function run_callbacks() {\n",
       "    try {\n",
       "      root._bokeh_onload_callbacks.forEach(function(callback) {\n",
       "        if (callback != null)\n",
       "          callback();\n",
       "      });\n",
       "    } finally {\n",
       "      delete root._bokeh_onload_callbacks\n",
       "    }\n",
       "    console.debug(\"Bokeh: all callbacks have finished\");\n",
       "  }\n",
       "\n",
       "  function load_libs(css_urls, js_urls, callback) {\n",
       "    if (css_urls == null) css_urls = [];\n",
       "    if (js_urls == null) js_urls = [];\n",
       "\n",
       "    root._bokeh_onload_callbacks.push(callback);\n",
       "    if (root._bokeh_is_loading > 0) {\n",
       "      console.debug(\"Bokeh: BokehJS is being loaded, scheduling callback at\", now());\n",
       "      return null;\n",
       "    }\n",
       "    if (js_urls == null || js_urls.length === 0) {\n",
       "      run_callbacks();\n",
       "      return null;\n",
       "    }\n",
       "    console.debug(\"Bokeh: BokehJS not loaded, scheduling load and callback at\", now());\n",
       "    root._bokeh_is_loading = css_urls.length + js_urls.length;\n",
       "\n",
       "    function on_load() {\n",
       "      root._bokeh_is_loading--;\n",
       "      if (root._bokeh_is_loading === 0) {\n",
       "        console.debug(\"Bokeh: all BokehJS libraries/stylesheets loaded\");\n",
       "        run_callbacks()\n",
       "      }\n",
       "    }\n",
       "\n",
       "    function on_error() {\n",
       "      console.error(\"failed to load \" + url);\n",
       "    }\n",
       "\n",
       "    for (var i = 0; i < css_urls.length; i++) {\n",
       "      var url = css_urls[i];\n",
       "      const element = document.createElement(\"link\");\n",
       "      element.onload = on_load;\n",
       "      element.onerror = on_error;\n",
       "      element.rel = \"stylesheet\";\n",
       "      element.type = \"text/css\";\n",
       "      element.href = url;\n",
       "      console.debug(\"Bokeh: injecting link tag for BokehJS stylesheet: \", url);\n",
       "      document.body.appendChild(element);\n",
       "    }\n",
       "\n",
       "    for (var i = 0; i < js_urls.length; i++) {\n",
       "      var url = js_urls[i];\n",
       "      var element = document.createElement('script');\n",
       "      element.onload = on_load;\n",
       "      element.onerror = on_error;\n",
       "      element.async = false;\n",
       "      element.src = url;\n",
       "      console.debug(\"Bokeh: injecting script tag for BokehJS library: \", url);\n",
       "      document.head.appendChild(element);\n",
       "    }\n",
       "  };var element = document.getElementById(\"1458\");\n",
       "  if (element == null) {\n",
       "    console.error(\"Bokeh: ERROR: autoload.js configured with elementid '1458' but no matching script tag was found. \")\n",
       "    return false;\n",
       "  }\n",
       "\n",
       "  function inject_raw_css(css) {\n",
       "    const element = document.createElement(\"style\");\n",
       "    element.appendChild(document.createTextNode(css));\n",
       "    document.body.appendChild(element);\n",
       "  }\n",
       "\n",
       "  var js_urls = [\"https://cdn.pydata.org/bokeh/release/bokeh-1.3.4.min.js\", \"https://cdn.pydata.org/bokeh/release/bokeh-widgets-1.3.4.min.js\", \"https://cdn.pydata.org/bokeh/release/bokeh-tables-1.3.4.min.js\", \"https://cdn.pydata.org/bokeh/release/bokeh-gl-1.3.4.min.js\"];\n",
       "  var css_urls = [];\n",
       "\n",
       "  var inline_js = [\n",
       "    function(Bokeh) {\n",
       "      Bokeh.set_log_level(\"info\");\n",
       "    },\n",
       "    \n",
       "    function(Bokeh) {\n",
       "      \n",
       "    },\n",
       "    function(Bokeh) {} // ensure no trailing comma for IE\n",
       "  ];\n",
       "\n",
       "  function run_inline_js() {\n",
       "    \n",
       "    if ((root.Bokeh !== undefined) || (force === true)) {\n",
       "      for (var i = 0; i < inline_js.length; i++) {\n",
       "        inline_js[i].call(root, root.Bokeh);\n",
       "      }if (force === true) {\n",
       "        display_loaded();\n",
       "      }} else if (Date.now() < root._bokeh_timeout) {\n",
       "      setTimeout(run_inline_js, 100);\n",
       "    } else if (!root._bokeh_failed_load) {\n",
       "      console.log(\"Bokeh: BokehJS failed to load within specified timeout.\");\n",
       "      root._bokeh_failed_load = true;\n",
       "    } else if (force !== true) {\n",
       "      var cell = $(document.getElementById(\"1458\")).parents('.cell').data().cell;\n",
       "      cell.output_area.append_execute_result(NB_LOAD_WARNING)\n",
       "    }\n",
       "\n",
       "  }\n",
       "\n",
       "  if (root._bokeh_is_loading === 0) {\n",
       "    console.debug(\"Bokeh: BokehJS loaded, going straight to plotting\");\n",
       "    run_inline_js();\n",
       "  } else {\n",
       "    load_libs(css_urls, js_urls, function() {\n",
       "      console.debug(\"Bokeh: BokehJS plotting callback run at\", now());\n",
       "      run_inline_js();\n",
       "    });\n",
       "  }\n",
       "}(window));"
      ],
      "application/vnd.bokehjs_load.v0+json": "\n(function(root) {\n  function now() {\n    return new Date();\n  }\n\n  var force = true;\n\n  if (typeof root._bokeh_onload_callbacks === \"undefined\" || force === true) {\n    root._bokeh_onload_callbacks = [];\n    root._bokeh_is_loading = undefined;\n  }\n\n  \n\n  \n  if (typeof (root._bokeh_timeout) === \"undefined\" || force === true) {\n    root._bokeh_timeout = Date.now() + 5000;\n    root._bokeh_failed_load = false;\n  }\n\n  var NB_LOAD_WARNING = {'data': {'text/html':\n     \"<div style='background-color: #fdd'>\\n\"+\n     \"<p>\\n\"+\n     \"BokehJS does not appear to have successfully loaded. If loading BokehJS from CDN, this \\n\"+\n     \"may be due to a slow or bad network connection. Possible fixes:\\n\"+\n     \"</p>\\n\"+\n     \"<ul>\\n\"+\n     \"<li>re-rerun `output_notebook()` to attempt to load from CDN again, or</li>\\n\"+\n     \"<li>use INLINE resources instead, as so:</li>\\n\"+\n     \"</ul>\\n\"+\n     \"<code>\\n\"+\n     \"from bokeh.resources import INLINE\\n\"+\n     \"output_notebook(resources=INLINE)\\n\"+\n     \"</code>\\n\"+\n     \"</div>\"}};\n\n  function display_loaded() {\n    var el = document.getElementById(\"1458\");\n    if (el != null) {\n      el.textContent = \"BokehJS is loading...\";\n    }\n    if (root.Bokeh !== undefined) {\n      if (el != null) {\n        el.textContent = \"BokehJS \" + root.Bokeh.version + \" successfully loaded.\";\n      }\n    } else if (Date.now() < root._bokeh_timeout) {\n      setTimeout(display_loaded, 100)\n    }\n  }\n\n\n  function run_callbacks() {\n    try {\n      root._bokeh_onload_callbacks.forEach(function(callback) {\n        if (callback != null)\n          callback();\n      });\n    } finally {\n      delete root._bokeh_onload_callbacks\n    }\n    console.debug(\"Bokeh: all callbacks have finished\");\n  }\n\n  function load_libs(css_urls, js_urls, callback) {\n    if (css_urls == null) css_urls = [];\n    if (js_urls == null) js_urls = [];\n\n    root._bokeh_onload_callbacks.push(callback);\n    if (root._bokeh_is_loading > 0) {\n      console.debug(\"Bokeh: BokehJS is being loaded, scheduling callback at\", now());\n      return null;\n    }\n    if (js_urls == null || js_urls.length === 0) {\n      run_callbacks();\n      return null;\n    }\n    console.debug(\"Bokeh: BokehJS not loaded, scheduling load and callback at\", now());\n    root._bokeh_is_loading = css_urls.length + js_urls.length;\n\n    function on_load() {\n      root._bokeh_is_loading--;\n      if (root._bokeh_is_loading === 0) {\n        console.debug(\"Bokeh: all BokehJS libraries/stylesheets loaded\");\n        run_callbacks()\n      }\n    }\n\n    function on_error() {\n      console.error(\"failed to load \" + url);\n    }\n\n    for (var i = 0; i < css_urls.length; i++) {\n      var url = css_urls[i];\n      const element = document.createElement(\"link\");\n      element.onload = on_load;\n      element.onerror = on_error;\n      element.rel = \"stylesheet\";\n      element.type = \"text/css\";\n      element.href = url;\n      console.debug(\"Bokeh: injecting link tag for BokehJS stylesheet: \", url);\n      document.body.appendChild(element);\n    }\n\n    for (var i = 0; i < js_urls.length; i++) {\n      var url = js_urls[i];\n      var element = document.createElement('script');\n      element.onload = on_load;\n      element.onerror = on_error;\n      element.async = false;\n      element.src = url;\n      console.debug(\"Bokeh: injecting script tag for BokehJS library: \", url);\n      document.head.appendChild(element);\n    }\n  };var element = document.getElementById(\"1458\");\n  if (element == null) {\n    console.error(\"Bokeh: ERROR: autoload.js configured with elementid '1458' but no matching script tag was found. \")\n    return false;\n  }\n\n  function inject_raw_css(css) {\n    const element = document.createElement(\"style\");\n    element.appendChild(document.createTextNode(css));\n    document.body.appendChild(element);\n  }\n\n  var js_urls = [\"https://cdn.pydata.org/bokeh/release/bokeh-1.3.4.min.js\", \"https://cdn.pydata.org/bokeh/release/bokeh-widgets-1.3.4.min.js\", \"https://cdn.pydata.org/bokeh/release/bokeh-tables-1.3.4.min.js\", \"https://cdn.pydata.org/bokeh/release/bokeh-gl-1.3.4.min.js\"];\n  var css_urls = [];\n\n  var inline_js = [\n    function(Bokeh) {\n      Bokeh.set_log_level(\"info\");\n    },\n    \n    function(Bokeh) {\n      \n    },\n    function(Bokeh) {} // ensure no trailing comma for IE\n  ];\n\n  function run_inline_js() {\n    \n    if ((root.Bokeh !== undefined) || (force === true)) {\n      for (var i = 0; i < inline_js.length; i++) {\n        inline_js[i].call(root, root.Bokeh);\n      }if (force === true) {\n        display_loaded();\n      }} else if (Date.now() < root._bokeh_timeout) {\n      setTimeout(run_inline_js, 100);\n    } else if (!root._bokeh_failed_load) {\n      console.log(\"Bokeh: BokehJS failed to load within specified timeout.\");\n      root._bokeh_failed_load = true;\n    } else if (force !== true) {\n      var cell = $(document.getElementById(\"1458\")).parents('.cell').data().cell;\n      cell.output_area.append_execute_result(NB_LOAD_WARNING)\n    }\n\n  }\n\n  if (root._bokeh_is_loading === 0) {\n    console.debug(\"Bokeh: BokehJS loaded, going straight to plotting\");\n    run_inline_js();\n  } else {\n    load_libs(css_urls, js_urls, function() {\n      console.debug(\"Bokeh: BokehJS plotting callback run at\", now());\n      run_inline_js();\n    });\n  }\n}(window));"
     },
     "metadata": {},
     "output_type": "display_data"
    }
   ],
   "source": [
    "import bokeh\n",
    "from bokeh.io import output_notebook\n",
    "output_notebook()"
   ]
  },
  {
   "cell_type": "code",
   "execution_count": 17,
   "metadata": {},
   "outputs": [
    {
     "name": "stderr",
     "output_type": "stream",
     "text": [
      "INFO:bokeh.io.state:Session output file 'data.html' already exists, will be overwritten.\n"
     ]
    },
    {
     "data": {
      "text/html": [
       "\n",
       "\n",
       "\n",
       "\n",
       "\n",
       "\n",
       "  <div class=\"bk-root\" id=\"1d194ab0-86fb-403b-8d2c-d835ccf433b1\" data-root-id=\"1459\"></div>\n"
      ]
     },
     "metadata": {},
     "output_type": "display_data"
    },
    {
     "data": {
      "application/javascript": [
       "(function(root) {\n",
       "  function embed_document(root) {\n",
       "    \n",
       "  var docs_json = {\"c02b0d1a-2117-479b-83e5-747fe412dc63\":{\"roots\":{\"references\":[{\"attributes\":{\"below\":[{\"id\":\"1470\",\"type\":\"LinearAxis\"}],\"center\":[{\"id\":\"1474\",\"type\":\"Grid\"},{\"id\":\"1479\",\"type\":\"Grid\"},{\"id\":\"1504\",\"type\":\"Legend\"}],\"left\":[{\"id\":\"1475\",\"type\":\"LinearAxis\"}],\"plot_height\":400,\"plot_width\":900,\"renderers\":[{\"id\":\"1496\",\"type\":\"GlyphRenderer\"},{\"id\":\"1509\",\"type\":\"GlyphRenderer\"}],\"title\":{\"id\":\"1460\",\"type\":\"Title\"},\"toolbar\":{\"id\":\"1486\",\"type\":\"Toolbar\"},\"x_range\":{\"id\":\"1462\",\"type\":\"DataRange1d\"},\"x_scale\":{\"id\":\"1466\",\"type\":\"LinearScale\"},\"y_range\":{\"id\":\"1464\",\"type\":\"DataRange1d\"},\"y_scale\":{\"id\":\"1468\",\"type\":\"LinearScale\"}},\"id\":\"1459\",\"subtype\":\"Figure\",\"type\":\"Plot\"},{\"attributes\":{},\"id\":\"1516\",\"type\":\"UnionRenderers\"},{\"attributes\":{},\"id\":\"1483\",\"type\":\"SaveTool\"},{\"attributes\":{\"text\":\"Agriculture, forestry, and fishing, value added (% of GDP) weighted against GDP (current US$)\"},\"id\":\"1460\",\"type\":\"Title\"},{\"attributes\":{},\"id\":\"1484\",\"type\":\"ResetTool\"},{\"attributes\":{\"callback\":null},\"id\":\"1462\",\"type\":\"DataRange1d\"},{\"attributes\":{},\"id\":\"1517\",\"type\":\"Selection\"},{\"attributes\":{},\"id\":\"1485\",\"type\":\"HelpTool\"},{\"attributes\":{\"callback\":null},\"id\":\"1464\",\"type\":\"DataRange1d\"},{\"attributes\":{\"label\":{\"value\":\"ODCs\"},\"renderers\":[{\"id\":\"1509\",\"type\":\"GlyphRenderer\"}]},\"id\":\"1519\",\"type\":\"LegendItem\"},{\"attributes\":{\"active_drag\":\"auto\",\"active_inspect\":\"auto\",\"active_multi\":null,\"active_scroll\":\"auto\",\"active_tap\":\"auto\",\"tools\":[{\"id\":\"1480\",\"type\":\"PanTool\"},{\"id\":\"1481\",\"type\":\"WheelZoomTool\"},{\"id\":\"1482\",\"type\":\"BoxZoomTool\"},{\"id\":\"1483\",\"type\":\"SaveTool\"},{\"id\":\"1484\",\"type\":\"ResetTool\"},{\"id\":\"1485\",\"type\":\"HelpTool\"}]},\"id\":\"1486\",\"type\":\"Toolbar\"},{\"attributes\":{\"line_alpha\":0.1,\"line_color\":\"#1f77b4\",\"line_width\":2,\"x\":{\"field\":\"x\"},\"y\":{\"field\":\"y\"}},\"id\":\"1495\",\"type\":\"Line\"},{\"attributes\":{},\"id\":\"1466\",\"type\":\"LinearScale\"},{\"attributes\":{},\"id\":\"1547\",\"type\":\"UnionRenderers\"},{\"attributes\":{\"data_source\":{\"id\":\"1493\",\"type\":\"ColumnDataSource\"},\"glyph\":{\"id\":\"1494\",\"type\":\"Line\"},\"hover_glyph\":null,\"muted_glyph\":null,\"nonselection_glyph\":{\"id\":\"1495\",\"type\":\"Line\"},\"selection_glyph\":null,\"view\":{\"id\":\"1497\",\"type\":\"CDSView\"}},\"id\":\"1496\",\"type\":\"GlyphRenderer\"},{\"attributes\":{},\"id\":\"1468\",\"type\":\"LinearScale\"},{\"attributes\":{},\"id\":\"1548\",\"type\":\"Selection\"},{\"attributes\":{\"axis_label\":\"Years\",\"formatter\":{\"id\":\"1499\",\"type\":\"BasicTickFormatter\"},\"ticker\":{\"id\":\"1471\",\"type\":\"BasicTicker\"}},\"id\":\"1470\",\"type\":\"LinearAxis\"},{\"attributes\":{\"source\":{\"id\":\"1493\",\"type\":\"ColumnDataSource\"}},\"id\":\"1497\",\"type\":\"CDSView\"},{\"attributes\":{},\"id\":\"1471\",\"type\":\"BasicTicker\"},{\"attributes\":{},\"id\":\"1499\",\"type\":\"BasicTickFormatter\"},{\"attributes\":{\"ticker\":{\"id\":\"1471\",\"type\":\"BasicTicker\"}},\"id\":\"1474\",\"type\":\"Grid\"},{\"attributes\":{},\"id\":\"1501\",\"type\":\"BasicTickFormatter\"},{\"attributes\":{\"axis_label\":\"Percentage\",\"formatter\":{\"id\":\"1501\",\"type\":\"BasicTickFormatter\"},\"ticker\":{\"id\":\"1476\",\"type\":\"BasicTicker\"}},\"id\":\"1475\",\"type\":\"LinearAxis\"},{\"attributes\":{\"bottom_units\":\"screen\",\"fill_alpha\":{\"value\":0.5},\"fill_color\":{\"value\":\"lightgrey\"},\"left_units\":\"screen\",\"level\":\"overlay\",\"line_alpha\":{\"value\":1.0},\"line_color\":{\"value\":\"black\"},\"line_dash\":[4,4],\"line_width\":{\"value\":2},\"render_mode\":\"css\",\"right_units\":\"screen\",\"top_units\":\"screen\"},\"id\":\"1503\",\"type\":\"BoxAnnotation\"},{\"attributes\":{},\"id\":\"1476\",\"type\":\"BasicTicker\"},{\"attributes\":{\"items\":[{\"id\":\"1505\",\"type\":\"LegendItem\"},{\"id\":\"1519\",\"type\":\"LegendItem\"}]},\"id\":\"1504\",\"type\":\"Legend\"},{\"attributes\":{\"dimension\":1,\"ticker\":{\"id\":\"1476\",\"type\":\"BasicTicker\"}},\"id\":\"1479\",\"type\":\"Grid\"},{\"attributes\":{\"label\":{\"value\":\"LDCs\"},\"renderers\":[{\"id\":\"1496\",\"type\":\"GlyphRenderer\"}]},\"id\":\"1505\",\"type\":\"LegendItem\"},{\"attributes\":{\"line_color\":\"red\",\"line_width\":2,\"x\":{\"field\":\"x\"},\"y\":{\"field\":\"y\"}},\"id\":\"1494\",\"type\":\"Line\"},{\"attributes\":{\"callback\":null,\"data\":{\"x\":[2001,2002,2003,2004,2005,2006,2007,2008,2009,2010,2011,2012,2013,2014,2015,2016,2017],\"y\":[4.801100981010607,4.679321425143795,4.562621607329854,4.5513317745469815,4.348658151435709,4.261390087851125,4.3770504198372455,4.53206434010432,4.596940743881873,4.773092969350266,4.914648611594259,4.950376576639036,5.0476216994775776,4.998568954509812,5.004747641390999,4.939473383270714,4.866297147745497]},\"selected\":{\"id\":\"1548\",\"type\":\"Selection\"},\"selection_policy\":{\"id\":\"1547\",\"type\":\"UnionRenderers\"}},\"id\":\"1506\",\"type\":\"ColumnDataSource\"},{\"attributes\":{\"callback\":null,\"data\":{\"x\":[2001,2002,2003,2004,2005,2006,2007,2008,2009,2010,2011,2012,2013,2014,2015,2016,2017],\"y\":[27.21827502955226,25.932710988252836,25.209183734982894,23.41530177118728,23.38043266292523,22.36052404700153,21.913588386037436,21.562771797133657,22.996479470008765,21.94358614728724,21.011183599950137,22.043847175440607,21.289167254407456,20.999326828948075,21.21460865217579,21.26276969611124,20.813614631808505]},\"selected\":{\"id\":\"1517\",\"type\":\"Selection\"},\"selection_policy\":{\"id\":\"1516\",\"type\":\"UnionRenderers\"}},\"id\":\"1493\",\"type\":\"ColumnDataSource\"},{\"attributes\":{\"line_color\":\"blue\",\"line_width\":2,\"x\":{\"field\":\"x\"},\"y\":{\"field\":\"y\"}},\"id\":\"1507\",\"type\":\"Line\"},{\"attributes\":{\"line_alpha\":0.1,\"line_color\":\"#1f77b4\",\"line_width\":2,\"x\":{\"field\":\"x\"},\"y\":{\"field\":\"y\"}},\"id\":\"1508\",\"type\":\"Line\"},{\"attributes\":{},\"id\":\"1480\",\"type\":\"PanTool\"},{\"attributes\":{\"data_source\":{\"id\":\"1506\",\"type\":\"ColumnDataSource\"},\"glyph\":{\"id\":\"1507\",\"type\":\"Line\"},\"hover_glyph\":null,\"muted_glyph\":null,\"nonselection_glyph\":{\"id\":\"1508\",\"type\":\"Line\"},\"selection_glyph\":null,\"view\":{\"id\":\"1510\",\"type\":\"CDSView\"}},\"id\":\"1509\",\"type\":\"GlyphRenderer\"},{\"attributes\":{},\"id\":\"1481\",\"type\":\"WheelZoomTool\"},{\"attributes\":{\"source\":{\"id\":\"1506\",\"type\":\"ColumnDataSource\"}},\"id\":\"1510\",\"type\":\"CDSView\"},{\"attributes\":{\"overlay\":{\"id\":\"1503\",\"type\":\"BoxAnnotation\"}},\"id\":\"1482\",\"type\":\"BoxZoomTool\"}],\"root_ids\":[\"1459\"]},\"title\":\"Bokeh Application\",\"version\":\"1.3.4\"}};\n",
       "  var render_items = [{\"docid\":\"c02b0d1a-2117-479b-83e5-747fe412dc63\",\"roots\":{\"1459\":\"1d194ab0-86fb-403b-8d2c-d835ccf433b1\"}}];\n",
       "  root.Bokeh.embed.embed_items_notebook(docs_json, render_items);\n",
       "\n",
       "  }\n",
       "  if (root.Bokeh !== undefined) {\n",
       "    embed_document(root);\n",
       "  } else {\n",
       "    var attempts = 0;\n",
       "    var timer = setInterval(function(root) {\n",
       "      if (root.Bokeh !== undefined) {\n",
       "        embed_document(root);\n",
       "        clearInterval(timer);\n",
       "      }\n",
       "      attempts++;\n",
       "      if (attempts > 100) {\n",
       "        console.log(\"Bokeh: ERROR: Unable to run BokehJS code because BokehJS library is missing\");\n",
       "        clearInterval(timer);\n",
       "      }\n",
       "    }, 10, root)\n",
       "  }\n",
       "})(window);"
      ],
      "application/vnd.bokehjs_exec.v0+json": ""
     },
     "metadata": {
      "application/vnd.bokehjs_exec.v0+json": {
       "id": "1459"
      }
     },
     "output_type": "display_data"
    }
   ],
   "source": [
    "# Agriculture, fisheries and forestry added valuea s a percentae of GDP\n",
    "years = list(range(2001,2018))\n",
    "groups_ldcs=[['LDCs']]\n",
    "groups_odcs =[['developing_excluding_ldcs']]\n",
    "indicator = 'NV.AGR.TOTL.ZS'\n",
    "weight = 'NY.GDP.MKTP.CD'\n",
    "data_ldcs = estimate(years, indicator, groups_ldcs, weight)\n",
    "data_ldcs.entities_description = \"LDCs\"\n",
    "data_odcs = estimate(years, indicator, groups_odcs, weight)\n",
    "data_odcs.entities_description = \"ODCs\"\n",
    "series = [data_ldcs, data_odcs]\n",
    "show(line_chart(series))"
   ]
  },
  {
   "cell_type": "code",
   "execution_count": 19,
   "metadata": {},
   "outputs": [
    {
     "name": "stderr",
     "output_type": "stream",
     "text": [
      "INFO:bokeh.io.state:Session output file 'data.html' already exists, will be overwritten.\n"
     ]
    },
    {
     "data": {
      "text/html": [
       "\n",
       "\n",
       "\n",
       "\n",
       "\n",
       "\n",
       "  <div class=\"bk-root\" id=\"193b0eb0-d95d-45ee-91f1-74db618d8c36\" data-root-id=\"1745\"></div>\n"
      ]
     },
     "metadata": {},
     "output_type": "display_data"
    },
    {
     "data": {
      "application/javascript": [
       "(function(root) {\n",
       "  function embed_document(root) {\n",
       "    \n",
       "  var docs_json = {\"68bc4ac4-21d1-4a82-922f-c76a19d23f5f\":{\"roots\":{\"references\":[{\"attributes\":{\"below\":[{\"id\":\"1756\",\"type\":\"LinearAxis\"}],\"center\":[{\"id\":\"1760\",\"type\":\"Grid\"},{\"id\":\"1765\",\"type\":\"Grid\"},{\"id\":\"1790\",\"type\":\"Legend\"}],\"left\":[{\"id\":\"1761\",\"type\":\"LinearAxis\"}],\"plot_height\":400,\"plot_width\":900,\"renderers\":[{\"id\":\"1782\",\"type\":\"GlyphRenderer\"},{\"id\":\"1795\",\"type\":\"GlyphRenderer\"}],\"title\":{\"id\":\"1746\",\"type\":\"Title\"},\"toolbar\":{\"id\":\"1772\",\"type\":\"Toolbar\"},\"x_range\":{\"id\":\"1748\",\"type\":\"DataRange1d\"},\"x_scale\":{\"id\":\"1752\",\"type\":\"LinearScale\"},\"y_range\":{\"id\":\"1750\",\"type\":\"DataRange1d\"},\"y_scale\":{\"id\":\"1754\",\"type\":\"LinearScale\"}},\"id\":\"1745\",\"subtype\":\"Figure\",\"type\":\"Plot\"},{\"attributes\":{\"data_source\":{\"id\":\"1779\",\"type\":\"ColumnDataSource\"},\"glyph\":{\"id\":\"1780\",\"type\":\"Line\"},\"hover_glyph\":null,\"muted_glyph\":null,\"nonselection_glyph\":{\"id\":\"1781\",\"type\":\"Line\"},\"selection_glyph\":null,\"view\":{\"id\":\"1783\",\"type\":\"CDSView\"}},\"id\":\"1782\",\"type\":\"GlyphRenderer\"},{\"attributes\":{\"line_color\":\"red\",\"line_width\":2,\"x\":{\"field\":\"x\"},\"y\":{\"field\":\"y\"}},\"id\":\"1780\",\"type\":\"Line\"},{\"attributes\":{},\"id\":\"1771\",\"type\":\"HelpTool\"},{\"attributes\":{\"label\":{\"value\":\"ODCs\"},\"renderers\":[{\"id\":\"1795\",\"type\":\"GlyphRenderer\"}]},\"id\":\"1805\",\"type\":\"LegendItem\"},{\"attributes\":{\"line_alpha\":0.1,\"line_color\":\"#1f77b4\",\"line_width\":2,\"x\":{\"field\":\"x\"},\"y\":{\"field\":\"y\"}},\"id\":\"1794\",\"type\":\"Line\"},{\"attributes\":{},\"id\":\"1754\",\"type\":\"LinearScale\"},{\"attributes\":{\"items\":[{\"id\":\"1791\",\"type\":\"LegendItem\"},{\"id\":\"1805\",\"type\":\"LegendItem\"}]},\"id\":\"1790\",\"type\":\"Legend\"},{\"attributes\":{\"callback\":null,\"data\":{\"x\":[2001,2002,2003,2004,2005,2006,2007,2008,2009,2010,2011,2012,2013,2014,2015,2016,2017],\"y\":[25.411449152245495,25.829271626381995,26.261689473588106,26.695384287765474,27.14239799182873,27.58301635590528,27.978623693602632,28.46522197739938,28.961161588183558,29.46531554316522,29.976776610257286,30.4557431815233,30.958730869631783,31.466640511325554,31.9791513901057,32.49632977691262,33.018274499037716]},\"selected\":{\"id\":\"1803\",\"type\":\"Selection\"},\"selection_policy\":{\"id\":\"1802\",\"type\":\"UnionRenderers\"}},\"id\":\"1779\",\"type\":\"ColumnDataSource\"},{\"attributes\":{\"active_drag\":\"auto\",\"active_inspect\":\"auto\",\"active_multi\":null,\"active_scroll\":\"auto\",\"active_tap\":\"auto\",\"tools\":[{\"id\":\"1766\",\"type\":\"PanTool\"},{\"id\":\"1767\",\"type\":\"WheelZoomTool\"},{\"id\":\"1768\",\"type\":\"BoxZoomTool\"},{\"id\":\"1769\",\"type\":\"SaveTool\"},{\"id\":\"1770\",\"type\":\"ResetTool\"},{\"id\":\"1771\",\"type\":\"HelpTool\"}]},\"id\":\"1772\",\"type\":\"Toolbar\"},{\"attributes\":{\"line_alpha\":0.1,\"line_color\":\"#1f77b4\",\"line_width\":2,\"x\":{\"field\":\"x\"},\"y\":{\"field\":\"y\"}},\"id\":\"1781\",\"type\":\"Line\"},{\"attributes\":{},\"id\":\"1766\",\"type\":\"PanTool\"},{\"attributes\":{\"data_source\":{\"id\":\"1792\",\"type\":\"ColumnDataSource\"},\"glyph\":{\"id\":\"1793\",\"type\":\"Line\"},\"hover_glyph\":null,\"muted_glyph\":null,\"nonselection_glyph\":{\"id\":\"1794\",\"type\":\"Line\"},\"selection_glyph\":null,\"view\":{\"id\":\"1796\",\"type\":\"CDSView\"}},\"id\":\"1795\",\"type\":\"GlyphRenderer\"},{\"attributes\":{},\"id\":\"1787\",\"type\":\"BasicTickFormatter\"},{\"attributes\":{},\"id\":\"1843\",\"type\":\"UnionRenderers\"},{\"attributes\":{\"bottom_units\":\"screen\",\"fill_alpha\":{\"value\":0.5},\"fill_color\":{\"value\":\"lightgrey\"},\"left_units\":\"screen\",\"level\":\"overlay\",\"line_alpha\":{\"value\":1.0},\"line_color\":{\"value\":\"black\"},\"line_dash\":[4,4],\"line_width\":{\"value\":2},\"render_mode\":\"css\",\"right_units\":\"screen\",\"top_units\":\"screen\"},\"id\":\"1789\",\"type\":\"BoxAnnotation\"},{\"attributes\":{},\"id\":\"1767\",\"type\":\"WheelZoomTool\"},{\"attributes\":{},\"id\":\"1757\",\"type\":\"BasicTicker\"},{\"attributes\":{\"text\":\"Urban population (% of total population) weighted against Population, total\"},\"id\":\"1746\",\"type\":\"Title\"},{\"attributes\":{},\"id\":\"1844\",\"type\":\"Selection\"},{\"attributes\":{\"source\":{\"id\":\"1792\",\"type\":\"ColumnDataSource\"}},\"id\":\"1796\",\"type\":\"CDSView\"},{\"attributes\":{\"overlay\":{\"id\":\"1789\",\"type\":\"BoxAnnotation\"}},\"id\":\"1768\",\"type\":\"BoxZoomTool\"},{\"attributes\":{\"line_color\":\"blue\",\"line_width\":2,\"x\":{\"field\":\"x\"},\"y\":{\"field\":\"y\"}},\"id\":\"1793\",\"type\":\"Line\"},{\"attributes\":{},\"id\":\"1785\",\"type\":\"BasicTickFormatter\"},{\"attributes\":{\"ticker\":{\"id\":\"1757\",\"type\":\"BasicTicker\"}},\"id\":\"1760\",\"type\":\"Grid\"},{\"attributes\":{\"callback\":null},\"id\":\"1748\",\"type\":\"DataRange1d\"},{\"attributes\":{},\"id\":\"1762\",\"type\":\"BasicTicker\"},{\"attributes\":{\"source\":{\"id\":\"1779\",\"type\":\"ColumnDataSource\"}},\"id\":\"1783\",\"type\":\"CDSView\"},{\"attributes\":{},\"id\":\"1769\",\"type\":\"SaveTool\"},{\"attributes\":{},\"id\":\"1802\",\"type\":\"UnionRenderers\"},{\"attributes\":{\"callback\":null},\"id\":\"1750\",\"type\":\"DataRange1d\"},{\"attributes\":{\"callback\":null,\"data\":{\"x\":[2001,2002,2003,2004,2005,2006,2007,2008,2009,2010,2011,2012,2013,2014,2015,2016,2017],\"y\":[44.89244909242849,45.40324471467961,45.9192456859295,46.43908971177332,46.962978205651545,47.47863585151341,47.98243975398585,48.502876168928594,49.02090995141302,49.53745442325824,50.01957513553066,50.494695639811404,50.96863854837865,51.443825383612655,51.923325970541626,52.40216150365515,52.8776212822123]},\"selected\":{\"id\":\"1844\",\"type\":\"Selection\"},\"selection_policy\":{\"id\":\"1843\",\"type\":\"UnionRenderers\"}},\"id\":\"1792\",\"type\":\"ColumnDataSource\"},{\"attributes\":{\"axis_label\":\"Percentage\",\"formatter\":{\"id\":\"1787\",\"type\":\"BasicTickFormatter\"},\"ticker\":{\"id\":\"1762\",\"type\":\"BasicTicker\"}},\"id\":\"1761\",\"type\":\"LinearAxis\"},{\"attributes\":{\"label\":{\"value\":\"LDCs\"},\"renderers\":[{\"id\":\"1782\",\"type\":\"GlyphRenderer\"}]},\"id\":\"1791\",\"type\":\"LegendItem\"},{\"attributes\":{\"dimension\":1,\"ticker\":{\"id\":\"1762\",\"type\":\"BasicTicker\"}},\"id\":\"1765\",\"type\":\"Grid\"},{\"attributes\":{},\"id\":\"1770\",\"type\":\"ResetTool\"},{\"attributes\":{},\"id\":\"1803\",\"type\":\"Selection\"},{\"attributes\":{\"axis_label\":\"Years\",\"formatter\":{\"id\":\"1785\",\"type\":\"BasicTickFormatter\"},\"ticker\":{\"id\":\"1757\",\"type\":\"BasicTicker\"}},\"id\":\"1756\",\"type\":\"LinearAxis\"},{\"attributes\":{},\"id\":\"1752\",\"type\":\"LinearScale\"}],\"root_ids\":[\"1745\"]},\"title\":\"Bokeh Application\",\"version\":\"1.3.4\"}};\n",
       "  var render_items = [{\"docid\":\"68bc4ac4-21d1-4a82-922f-c76a19d23f5f\",\"roots\":{\"1745\":\"193b0eb0-d95d-45ee-91f1-74db618d8c36\"}}];\n",
       "  root.Bokeh.embed.embed_items_notebook(docs_json, render_items);\n",
       "\n",
       "  }\n",
       "  if (root.Bokeh !== undefined) {\n",
       "    embed_document(root);\n",
       "  } else {\n",
       "    var attempts = 0;\n",
       "    var timer = setInterval(function(root) {\n",
       "      if (root.Bokeh !== undefined) {\n",
       "        embed_document(root);\n",
       "        clearInterval(timer);\n",
       "      }\n",
       "      attempts++;\n",
       "      if (attempts > 100) {\n",
       "        console.log(\"Bokeh: ERROR: Unable to run BokehJS code because BokehJS library is missing\");\n",
       "        clearInterval(timer);\n",
       "      }\n",
       "    }, 10, root)\n",
       "  }\n",
       "})(window);"
      ],
      "application/vnd.bokehjs_exec.v0+json": ""
     },
     "metadata": {
      "application/vnd.bokehjs_exec.v0+json": {
       "id": "1745"
      }
     },
     "output_type": "display_data"
    }
   ],
   "source": [
    "# Urban population as a percentage of total population\n",
    "indicator = 'SP.URB.TOTL.IN.ZS'\n",
    "weight = 'SP.POP.TOTL'\n",
    "data_ldcs = estimate(years, indicator, groups_ldcs, weight)\n",
    "data_ldcs.entities_description = \"LDCs\"\n",
    "data_odcs = estimate(years, indicator, groups_odcs, weight)\n",
    "data_odcs.entities_description = \"ODCs\"\n",
    "series = [data_ldcs, data_odcs]\n",
    "show(line_chart(series))"
   ]
  },
  {
   "cell_type": "code",
   "execution_count": 20,
   "metadata": {},
   "outputs": [
    {
     "name": "stderr",
     "output_type": "stream",
     "text": [
      "INFO:bokeh.io.state:Session output file 'data.html' already exists, will be overwritten.\n"
     ]
    },
    {
     "data": {
      "text/html": [
       "\n",
       "\n",
       "\n",
       "\n",
       "\n",
       "\n",
       "  <div class=\"bk-root\" id=\"0eb4cc20-61ab-4771-9e93-5d5f8264a35c\" data-root-id=\"2007\"></div>\n"
      ]
     },
     "metadata": {},
     "output_type": "display_data"
    },
    {
     "data": {
      "application/javascript": [
       "(function(root) {\n",
       "  function embed_document(root) {\n",
       "    \n",
       "  var docs_json = {\"650f81a6-900c-4512-ba1f-0e9b8e1d8b70\":{\"roots\":{\"references\":[{\"attributes\":{\"below\":[{\"id\":\"2018\",\"type\":\"LinearAxis\"}],\"center\":[{\"id\":\"2022\",\"type\":\"Grid\"},{\"id\":\"2027\",\"type\":\"Grid\"},{\"id\":\"2052\",\"type\":\"Legend\"}],\"left\":[{\"id\":\"2023\",\"type\":\"LinearAxis\"}],\"plot_height\":400,\"plot_width\":900,\"renderers\":[{\"id\":\"2044\",\"type\":\"GlyphRenderer\"},{\"id\":\"2057\",\"type\":\"GlyphRenderer\"}],\"title\":{\"id\":\"2008\",\"type\":\"Title\"},\"toolbar\":{\"id\":\"2034\",\"type\":\"Toolbar\"},\"x_range\":{\"id\":\"2010\",\"type\":\"DataRange1d\"},\"x_scale\":{\"id\":\"2014\",\"type\":\"LinearScale\"},\"y_range\":{\"id\":\"2012\",\"type\":\"DataRange1d\"},\"y_scale\":{\"id\":\"2016\",\"type\":\"LinearScale\"}},\"id\":\"2007\",\"subtype\":\"Figure\",\"type\":\"Plot\"},{\"attributes\":{\"axis_label\":\"Years\",\"formatter\":{\"id\":\"2047\",\"type\":\"BasicTickFormatter\"},\"ticker\":{\"id\":\"2019\",\"type\":\"BasicTicker\"}},\"id\":\"2018\",\"type\":\"LinearAxis\"},{\"attributes\":{\"callback\":null,\"data\":{\"x\":[2001,2002,2003,2004,2005,2006,2007,2008,2009,2010,2011,2012,2013,2014,2015,2016,2017],\"y\":[19.777496320098955,22.21920670012374,22.370598041766065,23.984745191330205,23.228951393412,25.685370121736543,26.095414036757187,25.935844999083855,22.44326419715194,26.490801446756578,27.598107711704657,27.1817639797894,23.822628945276325,25.713148976058587,24.131314245552616,24.984670721316903,25.716226614421803]},\"selected\":{\"id\":\"2065\",\"type\":\"Selection\"},\"selection_policy\":{\"id\":\"2064\",\"type\":\"UnionRenderers\"}},\"id\":\"2041\",\"type\":\"ColumnDataSource\"},{\"attributes\":{\"callback\":null,\"data\":{\"x\":[2001,2002,2003,2004,2005,2006,2007,2008,2009,2010,2011,2012,2013,2014,2015,2016,2017],\"y\":[23.889506950599483,23.574194135264417,23.743880476423193,24.864749227474285,25.52686481584523,26.88198336631993,27.093822666606172,26.6114075949509,24.458672090257117,26.222548062361703,26.863266133241563,27.048155940061836,26.581646039386484,26.958019689895963,26.78526224249186,26.27030163870658,26.95550050103679]},\"selected\":{\"id\":\"2116\",\"type\":\"Selection\"},\"selection_policy\":{\"id\":\"2115\",\"type\":\"UnionRenderers\"}},\"id\":\"2054\",\"type\":\"ColumnDataSource\"},{\"attributes\":{},\"id\":\"2116\",\"type\":\"Selection\"},{\"attributes\":{},\"id\":\"2047\",\"type\":\"BasicTickFormatter\"},{\"attributes\":{\"source\":{\"id\":\"2054\",\"type\":\"ColumnDataSource\"}},\"id\":\"2058\",\"type\":\"CDSView\"},{\"attributes\":{},\"id\":\"2024\",\"type\":\"BasicTicker\"},{\"attributes\":{},\"id\":\"2032\",\"type\":\"ResetTool\"},{\"attributes\":{},\"id\":\"2019\",\"type\":\"BasicTicker\"},{\"attributes\":{},\"id\":\"2115\",\"type\":\"UnionRenderers\"},{\"attributes\":{\"dimension\":1,\"ticker\":{\"id\":\"2024\",\"type\":\"BasicTicker\"}},\"id\":\"2027\",\"type\":\"Grid\"},{\"attributes\":{},\"id\":\"2049\",\"type\":\"BasicTickFormatter\"},{\"attributes\":{\"line_color\":\"blue\",\"line_width\":2,\"x\":{\"field\":\"x\"},\"y\":{\"field\":\"y\"}},\"id\":\"2055\",\"type\":\"Line\"},{\"attributes\":{},\"id\":\"2031\",\"type\":\"SaveTool\"},{\"attributes\":{\"callback\":null},\"id\":\"2010\",\"type\":\"DataRange1d\"},{\"attributes\":{\"line_color\":\"red\",\"line_width\":2,\"x\":{\"field\":\"x\"},\"y\":{\"field\":\"y\"}},\"id\":\"2042\",\"type\":\"Line\"},{\"attributes\":{\"bottom_units\":\"screen\",\"fill_alpha\":{\"value\":0.5},\"fill_color\":{\"value\":\"lightgrey\"},\"left_units\":\"screen\",\"level\":\"overlay\",\"line_alpha\":{\"value\":1.0},\"line_color\":{\"value\":\"black\"},\"line_dash\":[4,4],\"line_width\":{\"value\":2},\"render_mode\":\"css\",\"right_units\":\"screen\",\"top_units\":\"screen\"},\"id\":\"2051\",\"type\":\"BoxAnnotation\"},{\"attributes\":{\"line_alpha\":0.1,\"line_color\":\"#1f77b4\",\"line_width\":2,\"x\":{\"field\":\"x\"},\"y\":{\"field\":\"y\"}},\"id\":\"2056\",\"type\":\"Line\"},{\"attributes\":{\"label\":{\"value\":\"ODCs\"},\"renderers\":[{\"id\":\"2057\",\"type\":\"GlyphRenderer\"}]},\"id\":\"2067\",\"type\":\"LegendItem\"},{\"attributes\":{\"overlay\":{\"id\":\"2051\",\"type\":\"BoxAnnotation\"}},\"id\":\"2030\",\"type\":\"BoxZoomTool\"},{\"attributes\":{\"callback\":null},\"id\":\"2012\",\"type\":\"DataRange1d\"},{\"attributes\":{\"data_source\":{\"id\":\"2041\",\"type\":\"ColumnDataSource\"},\"glyph\":{\"id\":\"2042\",\"type\":\"Line\"},\"hover_glyph\":null,\"muted_glyph\":null,\"nonselection_glyph\":{\"id\":\"2043\",\"type\":\"Line\"},\"selection_glyph\":null,\"view\":{\"id\":\"2045\",\"type\":\"CDSView\"}},\"id\":\"2044\",\"type\":\"GlyphRenderer\"},{\"attributes\":{\"ticker\":{\"id\":\"2019\",\"type\":\"BasicTicker\"}},\"id\":\"2022\",\"type\":\"Grid\"},{\"attributes\":{\"data_source\":{\"id\":\"2054\",\"type\":\"ColumnDataSource\"},\"glyph\":{\"id\":\"2055\",\"type\":\"Line\"},\"hover_glyph\":null,\"muted_glyph\":null,\"nonselection_glyph\":{\"id\":\"2056\",\"type\":\"Line\"},\"selection_glyph\":null,\"view\":{\"id\":\"2058\",\"type\":\"CDSView\"}},\"id\":\"2057\",\"type\":\"GlyphRenderer\"},{\"attributes\":{},\"id\":\"2029\",\"type\":\"WheelZoomTool\"},{\"attributes\":{},\"id\":\"2014\",\"type\":\"LinearScale\"},{\"attributes\":{\"source\":{\"id\":\"2041\",\"type\":\"ColumnDataSource\"}},\"id\":\"2045\",\"type\":\"CDSView\"},{\"attributes\":{\"axis_label\":\"Percentage\",\"formatter\":{\"id\":\"2049\",\"type\":\"BasicTickFormatter\"},\"ticker\":{\"id\":\"2024\",\"type\":\"BasicTicker\"}},\"id\":\"2023\",\"type\":\"LinearAxis\"},{\"attributes\":{},\"id\":\"2065\",\"type\":\"Selection\"},{\"attributes\":{},\"id\":\"2033\",\"type\":\"HelpTool\"},{\"attributes\":{\"items\":[{\"id\":\"2053\",\"type\":\"LegendItem\"},{\"id\":\"2067\",\"type\":\"LegendItem\"}]},\"id\":\"2052\",\"type\":\"Legend\"},{\"attributes\":{},\"id\":\"2028\",\"type\":\"PanTool\"},{\"attributes\":{},\"id\":\"2016\",\"type\":\"LinearScale\"},{\"attributes\":{\"active_drag\":\"auto\",\"active_inspect\":\"auto\",\"active_multi\":null,\"active_scroll\":\"auto\",\"active_tap\":\"auto\",\"tools\":[{\"id\":\"2028\",\"type\":\"PanTool\"},{\"id\":\"2029\",\"type\":\"WheelZoomTool\"},{\"id\":\"2030\",\"type\":\"BoxZoomTool\"},{\"id\":\"2031\",\"type\":\"SaveTool\"},{\"id\":\"2032\",\"type\":\"ResetTool\"},{\"id\":\"2033\",\"type\":\"HelpTool\"}]},\"id\":\"2034\",\"type\":\"Toolbar\"},{\"attributes\":{},\"id\":\"2064\",\"type\":\"UnionRenderers\"},{\"attributes\":{\"line_alpha\":0.1,\"line_color\":\"#1f77b4\",\"line_width\":2,\"x\":{\"field\":\"x\"},\"y\":{\"field\":\"y\"}},\"id\":\"2043\",\"type\":\"Line\"},{\"attributes\":{\"text\":\"Gross savings (% of GDP) weighted against GDP (current US$)\"},\"id\":\"2008\",\"type\":\"Title\"},{\"attributes\":{\"label\":{\"value\":\"LDCs\"},\"renderers\":[{\"id\":\"2044\",\"type\":\"GlyphRenderer\"}]},\"id\":\"2053\",\"type\":\"LegendItem\"}],\"root_ids\":[\"2007\"]},\"title\":\"Bokeh Application\",\"version\":\"1.3.4\"}};\n",
       "  var render_items = [{\"docid\":\"650f81a6-900c-4512-ba1f-0e9b8e1d8b70\",\"roots\":{\"2007\":\"0eb4cc20-61ab-4771-9e93-5d5f8264a35c\"}}];\n",
       "  root.Bokeh.embed.embed_items_notebook(docs_json, render_items);\n",
       "\n",
       "  }\n",
       "  if (root.Bokeh !== undefined) {\n",
       "    embed_document(root);\n",
       "  } else {\n",
       "    var attempts = 0;\n",
       "    var timer = setInterval(function(root) {\n",
       "      if (root.Bokeh !== undefined) {\n",
       "        embed_document(root);\n",
       "        clearInterval(timer);\n",
       "      }\n",
       "      attempts++;\n",
       "      if (attempts > 100) {\n",
       "        console.log(\"Bokeh: ERROR: Unable to run BokehJS code because BokehJS library is missing\");\n",
       "        clearInterval(timer);\n",
       "      }\n",
       "    }, 10, root)\n",
       "  }\n",
       "})(window);"
      ],
      "application/vnd.bokehjs_exec.v0+json": ""
     },
     "metadata": {
      "application/vnd.bokehjs_exec.v0+json": {
       "id": "2007"
      }
     },
     "output_type": "display_data"
    }
   ],
   "source": [
    "# Gross savings as a percentage of GDP\n",
    "indicator = 'NY.GNS.ICTR.ZS'\n",
    "weight = 'NY.GDP.MKTP.CD'\n",
    "data_ldcs = estimate(years, indicator, groups_ldcs, weight)\n",
    "data_ldcs.entities_description = \"LDCs\"\n",
    "data_odcs = estimate(years, indicator, groups_odcs, weight)\n",
    "data_odcs.entities_description = \"ODCs\"\n",
    "series = [data_ldcs, data_odcs]\n",
    "show(line_chart(series))"
   ]
  },
  {
   "cell_type": "code",
   "execution_count": 21,
   "metadata": {},
   "outputs": [
    {
     "name": "stderr",
     "output_type": "stream",
     "text": [
      "INFO:bokeh.io.state:Session output file 'data.html' already exists, will be overwritten.\n"
     ]
    },
    {
     "data": {
      "text/html": [
       "\n",
       "\n",
       "\n",
       "\n",
       "\n",
       "\n",
       "  <div class=\"bk-root\" id=\"95933228-7cc5-4601-ac73-f9489ae91463\" data-root-id=\"2279\"></div>\n"
      ]
     },
     "metadata": {},
     "output_type": "display_data"
    },
    {
     "data": {
      "application/javascript": [
       "(function(root) {\n",
       "  function embed_document(root) {\n",
       "    \n",
       "  var docs_json = {\"dc8667b8-7650-4429-b294-eba6fd7aafce\":{\"roots\":{\"references\":[{\"attributes\":{\"below\":[{\"id\":\"2290\",\"type\":\"LinearAxis\"}],\"center\":[{\"id\":\"2294\",\"type\":\"Grid\"},{\"id\":\"2299\",\"type\":\"Grid\"},{\"id\":\"2324\",\"type\":\"Legend\"}],\"left\":[{\"id\":\"2295\",\"type\":\"LinearAxis\"}],\"plot_height\":400,\"plot_width\":900,\"renderers\":[{\"id\":\"2316\",\"type\":\"GlyphRenderer\"},{\"id\":\"2329\",\"type\":\"GlyphRenderer\"}],\"title\":{\"id\":\"2280\",\"type\":\"Title\"},\"toolbar\":{\"id\":\"2306\",\"type\":\"Toolbar\"},\"x_range\":{\"id\":\"2282\",\"type\":\"DataRange1d\"},\"x_scale\":{\"id\":\"2286\",\"type\":\"LinearScale\"},\"y_range\":{\"id\":\"2284\",\"type\":\"DataRange1d\"},\"y_scale\":{\"id\":\"2288\",\"type\":\"LinearScale\"}},\"id\":\"2279\",\"subtype\":\"Figure\",\"type\":\"Plot\"},{\"attributes\":{},\"id\":\"2319\",\"type\":\"BasicTickFormatter\"},{\"attributes\":{},\"id\":\"2291\",\"type\":\"BasicTicker\"},{\"attributes\":{\"ticker\":{\"id\":\"2291\",\"type\":\"BasicTicker\"}},\"id\":\"2294\",\"type\":\"Grid\"},{\"attributes\":{},\"id\":\"2321\",\"type\":\"BasicTickFormatter\"},{\"attributes\":{\"bottom_units\":\"screen\",\"fill_alpha\":{\"value\":0.5},\"fill_color\":{\"value\":\"lightgrey\"},\"left_units\":\"screen\",\"level\":\"overlay\",\"line_alpha\":{\"value\":1.0},\"line_color\":{\"value\":\"black\"},\"line_dash\":[4,4],\"line_width\":{\"value\":2},\"render_mode\":\"css\",\"right_units\":\"screen\",\"top_units\":\"screen\"},\"id\":\"2323\",\"type\":\"BoxAnnotation\"},{\"attributes\":{\"axis_label\":\"Percentage\",\"formatter\":{\"id\":\"2321\",\"type\":\"BasicTickFormatter\"},\"ticker\":{\"id\":\"2296\",\"type\":\"BasicTicker\"}},\"id\":\"2295\",\"type\":\"LinearAxis\"},{\"attributes\":{\"items\":[{\"id\":\"2325\",\"type\":\"LegendItem\"},{\"id\":\"2339\",\"type\":\"LegendItem\"}]},\"id\":\"2324\",\"type\":\"Legend\"},{\"attributes\":{},\"id\":\"2296\",\"type\":\"BasicTicker\"},{\"attributes\":{\"label\":{\"value\":\"LDCs\"},\"renderers\":[{\"id\":\"2316\",\"type\":\"GlyphRenderer\"}]},\"id\":\"2325\",\"type\":\"LegendItem\"},{\"attributes\":{\"dimension\":1,\"ticker\":{\"id\":\"2296\",\"type\":\"BasicTicker\"}},\"id\":\"2299\",\"type\":\"Grid\"},{\"attributes\":{\"callback\":null,\"data\":{\"x\":[2001,2002,2003,2004,2005,2006,2007,2008,2009,2010,2011,2012,2013,2014,2015,2016,2017],\"y\":[41.279093869269616,41.60818887721242,42.526652117084716,43.54642784419669,44.57721734144601,45.949290185673156,47.190600164347345,48.29581335365964,49.64255225925756,51.021231150064956,52.40953933894531,53.83975972206672,55.131237989754894,56.64976065241322,58.18478915930891,59.73702050197028,61.298272387944095]},\"selected\":{\"id\":\"2398\",\"type\":\"Selection\"},\"selection_policy\":{\"id\":\"2397\",\"type\":\"UnionRenderers\"}},\"id\":\"2326\",\"type\":\"ColumnDataSource\"},{\"attributes\":{\"line_color\":\"red\",\"line_width\":2,\"x\":{\"field\":\"x\"},\"y\":{\"field\":\"y\"}},\"id\":\"2314\",\"type\":\"Line\"},{\"attributes\":{\"line_color\":\"blue\",\"line_width\":2,\"x\":{\"field\":\"x\"},\"y\":{\"field\":\"y\"}},\"id\":\"2327\",\"type\":\"Line\"},{\"attributes\":{\"callback\":null,\"data\":{\"x\":[2001,2002,2003,2004,2005,2006,2007,2008,2009,2010,2011,2012,2013,2014,2015,2016,2017],\"y\":[8.310611901533424,9.28077115926377,10.252918388064186,11.205379345323372,12.149632874228196,13.089596716542752,14.025080502459863,14.955900981807803,15.821696108471013,16.70904578976817,17.553474451435996,18.374064944696872,19.187805301854958,19.99536707307814,20.797136473512595,21.58898092737968,22.37410478687044]},\"selected\":{\"id\":\"2337\",\"type\":\"Selection\"},\"selection_policy\":{\"id\":\"2336\",\"type\":\"UnionRenderers\"}},\"id\":\"2313\",\"type\":\"ColumnDataSource\"},{\"attributes\":{\"line_alpha\":0.1,\"line_color\":\"#1f77b4\",\"line_width\":2,\"x\":{\"field\":\"x\"},\"y\":{\"field\":\"y\"}},\"id\":\"2328\",\"type\":\"Line\"},{\"attributes\":{\"line_alpha\":0.1,\"line_color\":\"#1f77b4\",\"line_width\":2,\"x\":{\"field\":\"x\"},\"y\":{\"field\":\"y\"}},\"id\":\"2315\",\"type\":\"Line\"},{\"attributes\":{},\"id\":\"2300\",\"type\":\"PanTool\"},{\"attributes\":{\"data_source\":{\"id\":\"2326\",\"type\":\"ColumnDataSource\"},\"glyph\":{\"id\":\"2327\",\"type\":\"Line\"},\"hover_glyph\":null,\"muted_glyph\":null,\"nonselection_glyph\":{\"id\":\"2328\",\"type\":\"Line\"},\"selection_glyph\":null,\"view\":{\"id\":\"2330\",\"type\":\"CDSView\"}},\"id\":\"2329\",\"type\":\"GlyphRenderer\"},{\"attributes\":{},\"id\":\"2301\",\"type\":\"WheelZoomTool\"},{\"attributes\":{\"source\":{\"id\":\"2326\",\"type\":\"ColumnDataSource\"}},\"id\":\"2330\",\"type\":\"CDSView\"},{\"attributes\":{\"overlay\":{\"id\":\"2323\",\"type\":\"BoxAnnotation\"}},\"id\":\"2302\",\"type\":\"BoxZoomTool\"},{\"attributes\":{},\"id\":\"2336\",\"type\":\"UnionRenderers\"},{\"attributes\":{},\"id\":\"2303\",\"type\":\"SaveTool\"},{\"attributes\":{},\"id\":\"2337\",\"type\":\"Selection\"},{\"attributes\":{\"text\":\"People using safely managed sanitation services (% of population) weighted against Population, total\"},\"id\":\"2280\",\"type\":\"Title\"},{\"attributes\":{},\"id\":\"2304\",\"type\":\"ResetTool\"},{\"attributes\":{\"label\":{\"value\":\"ODCs\"},\"renderers\":[{\"id\":\"2329\",\"type\":\"GlyphRenderer\"}]},\"id\":\"2339\",\"type\":\"LegendItem\"},{\"attributes\":{\"callback\":null},\"id\":\"2282\",\"type\":\"DataRange1d\"},{\"attributes\":{},\"id\":\"2305\",\"type\":\"HelpTool\"},{\"attributes\":{\"callback\":null},\"id\":\"2284\",\"type\":\"DataRange1d\"},{\"attributes\":{},\"id\":\"2397\",\"type\":\"UnionRenderers\"},{\"attributes\":{\"active_drag\":\"auto\",\"active_inspect\":\"auto\",\"active_multi\":null,\"active_scroll\":\"auto\",\"active_tap\":\"auto\",\"tools\":[{\"id\":\"2300\",\"type\":\"PanTool\"},{\"id\":\"2301\",\"type\":\"WheelZoomTool\"},{\"id\":\"2302\",\"type\":\"BoxZoomTool\"},{\"id\":\"2303\",\"type\":\"SaveTool\"},{\"id\":\"2304\",\"type\":\"ResetTool\"},{\"id\":\"2305\",\"type\":\"HelpTool\"}]},\"id\":\"2306\",\"type\":\"Toolbar\"},{\"attributes\":{},\"id\":\"2286\",\"type\":\"LinearScale\"},{\"attributes\":{},\"id\":\"2398\",\"type\":\"Selection\"},{\"attributes\":{\"data_source\":{\"id\":\"2313\",\"type\":\"ColumnDataSource\"},\"glyph\":{\"id\":\"2314\",\"type\":\"Line\"},\"hover_glyph\":null,\"muted_glyph\":null,\"nonselection_glyph\":{\"id\":\"2315\",\"type\":\"Line\"},\"selection_glyph\":null,\"view\":{\"id\":\"2317\",\"type\":\"CDSView\"}},\"id\":\"2316\",\"type\":\"GlyphRenderer\"},{\"attributes\":{},\"id\":\"2288\",\"type\":\"LinearScale\"},{\"attributes\":{\"axis_label\":\"Years\",\"formatter\":{\"id\":\"2319\",\"type\":\"BasicTickFormatter\"},\"ticker\":{\"id\":\"2291\",\"type\":\"BasicTicker\"}},\"id\":\"2290\",\"type\":\"LinearAxis\"},{\"attributes\":{\"source\":{\"id\":\"2313\",\"type\":\"ColumnDataSource\"}},\"id\":\"2317\",\"type\":\"CDSView\"}],\"root_ids\":[\"2279\"]},\"title\":\"Bokeh Application\",\"version\":\"1.3.4\"}};\n",
       "  var render_items = [{\"docid\":\"dc8667b8-7650-4429-b294-eba6fd7aafce\",\"roots\":{\"2279\":\"95933228-7cc5-4601-ac73-f9489ae91463\"}}];\n",
       "  root.Bokeh.embed.embed_items_notebook(docs_json, render_items);\n",
       "\n",
       "  }\n",
       "  if (root.Bokeh !== undefined) {\n",
       "    embed_document(root);\n",
       "  } else {\n",
       "    var attempts = 0;\n",
       "    var timer = setInterval(function(root) {\n",
       "      if (root.Bokeh !== undefined) {\n",
       "        embed_document(root);\n",
       "        clearInterval(timer);\n",
       "      }\n",
       "      attempts++;\n",
       "      if (attempts > 100) {\n",
       "        console.log(\"Bokeh: ERROR: Unable to run BokehJS code because BokehJS library is missing\");\n",
       "        clearInterval(timer);\n",
       "      }\n",
       "    }, 10, root)\n",
       "  }\n",
       "})(window);"
      ],
      "application/vnd.bokehjs_exec.v0+json": ""
     },
     "metadata": {
      "application/vnd.bokehjs_exec.v0+json": {
       "id": "2279"
      }
     },
     "output_type": "display_data"
    }
   ],
   "source": [
    "# People using safely managed sanitation services (% of population)\n",
    "indicator = 'SH.STA.SMSS.ZS'\n",
    "weight = 'SP.POP.TOTL'\n",
    "data_ldcs = estimate(years, indicator, groups_ldcs, weight)\n",
    "data_ldcs.entities_description = \"LDCs\"\n",
    "data_odcs = estimate(years, indicator, groups_odcs, weight)\n",
    "data_odcs.entities_description = \"ODCs\"\n",
    "series = [data_ldcs, data_odcs]\n",
    "show(line_chart(series))"
   ]
  }
 ],
 "metadata": {
  "kernelspec": {
   "display_name": "Python 3",
   "language": "python",
   "name": "python3"
  },
  "language_info": {
   "codemirror_mode": {
    "name": "ipython",
    "version": 3
   },
   "file_extension": ".py",
   "mimetype": "text/x-python",
   "name": "python",
   "nbconvert_exporter": "python",
   "pygments_lexer": "ipython3",
   "version": "3.7.1"
  }
 },
 "nbformat": 4,
 "nbformat_minor": 2
}
