{
 "cells": [
  {
   "cell_type": "code",
   "execution_count": 1,
   "metadata": {
    "ExecuteTime": {
     "end_time": "2019-10-25T14:23:46.481587Z",
     "start_time": "2019-10-25T14:23:45.039173Z"
    },
    "slideshow": {
     "slide_type": "skip"
    }
   },
   "outputs": [
    {
     "data": {
      "text/html": [
       "\n",
       "    <div class=\"bk-root\">\n",
       "        <a href=\"https://bokeh.org\" target=\"_blank\" class=\"bk-logo bk-logo-small bk-logo-notebook\"></a>\n",
       "        <span id=\"1001\">Loading BokehJS ...</span>\n",
       "    </div>"
      ]
     },
     "metadata": {},
     "output_type": "display_data"
    },
    {
     "data": {
      "application/javascript": [
       "\n",
       "(function(root) {\n",
       "  function now() {\n",
       "    return new Date();\n",
       "  }\n",
       "\n",
       "  var force = true;\n",
       "\n",
       "  if (typeof root._bokeh_onload_callbacks === \"undefined\" || force === true) {\n",
       "    root._bokeh_onload_callbacks = [];\n",
       "    root._bokeh_is_loading = undefined;\n",
       "  }\n",
       "\n",
       "  var JS_MIME_TYPE = 'application/javascript';\n",
       "  var HTML_MIME_TYPE = 'text/html';\n",
       "  var EXEC_MIME_TYPE = 'application/vnd.bokehjs_exec.v0+json';\n",
       "  var CLASS_NAME = 'output_bokeh rendered_html';\n",
       "\n",
       "  /**\n",
       "   * Render data to the DOM node\n",
       "   */\n",
       "  function render(props, node) {\n",
       "    var script = document.createElement(\"script\");\n",
       "    node.appendChild(script);\n",
       "  }\n",
       "\n",
       "  /**\n",
       "   * Handle when an output is cleared or removed\n",
       "   */\n",
       "  function handleClearOutput(event, handle) {\n",
       "    var cell = handle.cell;\n",
       "\n",
       "    var id = cell.output_area._bokeh_element_id;\n",
       "    var server_id = cell.output_area._bokeh_server_id;\n",
       "    // Clean up Bokeh references\n",
       "    if (id != null && id in Bokeh.index) {\n",
       "      Bokeh.index[id].model.document.clear();\n",
       "      delete Bokeh.index[id];\n",
       "    }\n",
       "\n",
       "    if (server_id !== undefined) {\n",
       "      // Clean up Bokeh references\n",
       "      var cmd = \"from bokeh.io.state import curstate; print(curstate().uuid_to_server['\" + server_id + \"'].get_sessions()[0].document.roots[0]._id)\";\n",
       "      cell.notebook.kernel.execute(cmd, {\n",
       "        iopub: {\n",
       "          output: function(msg) {\n",
       "            var id = msg.content.text.trim();\n",
       "            if (id in Bokeh.index) {\n",
       "              Bokeh.index[id].model.document.clear();\n",
       "              delete Bokeh.index[id];\n",
       "            }\n",
       "          }\n",
       "        }\n",
       "      });\n",
       "      // Destroy server and session\n",
       "      var cmd = \"import bokeh.io.notebook as ion; ion.destroy_server('\" + server_id + \"')\";\n",
       "      cell.notebook.kernel.execute(cmd);\n",
       "    }\n",
       "  }\n",
       "\n",
       "  /**\n",
       "   * Handle when a new output is added\n",
       "   */\n",
       "  function handleAddOutput(event, handle) {\n",
       "    var output_area = handle.output_area;\n",
       "    var output = handle.output;\n",
       "\n",
       "    // limit handleAddOutput to display_data with EXEC_MIME_TYPE content only\n",
       "    if ((output.output_type != \"display_data\") || (!output.data.hasOwnProperty(EXEC_MIME_TYPE))) {\n",
       "      return\n",
       "    }\n",
       "\n",
       "    var toinsert = output_area.element.find(\".\" + CLASS_NAME.split(' ')[0]);\n",
       "\n",
       "    if (output.metadata[EXEC_MIME_TYPE][\"id\"] !== undefined) {\n",
       "      toinsert[toinsert.length - 1].firstChild.textContent = output.data[JS_MIME_TYPE];\n",
       "      // store reference to embed id on output_area\n",
       "      output_area._bokeh_element_id = output.metadata[EXEC_MIME_TYPE][\"id\"];\n",
       "    }\n",
       "    if (output.metadata[EXEC_MIME_TYPE][\"server_id\"] !== undefined) {\n",
       "      var bk_div = document.createElement(\"div\");\n",
       "      bk_div.innerHTML = output.data[HTML_MIME_TYPE];\n",
       "      var script_attrs = bk_div.children[0].attributes;\n",
       "      for (var i = 0; i < script_attrs.length; i++) {\n",
       "        toinsert[toinsert.length - 1].firstChild.setAttribute(script_attrs[i].name, script_attrs[i].value);\n",
       "      }\n",
       "      // store reference to server id on output_area\n",
       "      output_area._bokeh_server_id = output.metadata[EXEC_MIME_TYPE][\"server_id\"];\n",
       "    }\n",
       "  }\n",
       "\n",
       "  function register_renderer(events, OutputArea) {\n",
       "\n",
       "    function append_mime(data, metadata, element) {\n",
       "      // create a DOM node to render to\n",
       "      var toinsert = this.create_output_subarea(\n",
       "        metadata,\n",
       "        CLASS_NAME,\n",
       "        EXEC_MIME_TYPE\n",
       "      );\n",
       "      this.keyboard_manager.register_events(toinsert);\n",
       "      // Render to node\n",
       "      var props = {data: data, metadata: metadata[EXEC_MIME_TYPE]};\n",
       "      render(props, toinsert[toinsert.length - 1]);\n",
       "      element.append(toinsert);\n",
       "      return toinsert\n",
       "    }\n",
       "\n",
       "    /* Handle when an output is cleared or removed */\n",
       "    events.on('clear_output.CodeCell', handleClearOutput);\n",
       "    events.on('delete.Cell', handleClearOutput);\n",
       "\n",
       "    /* Handle when a new output is added */\n",
       "    events.on('output_added.OutputArea', handleAddOutput);\n",
       "\n",
       "    /**\n",
       "     * Register the mime type and append_mime function with output_area\n",
       "     */\n",
       "    OutputArea.prototype.register_mime_type(EXEC_MIME_TYPE, append_mime, {\n",
       "      /* Is output safe? */\n",
       "      safe: true,\n",
       "      /* Index of renderer in `output_area.display_order` */\n",
       "      index: 0\n",
       "    });\n",
       "  }\n",
       "\n",
       "  // register the mime type if in Jupyter Notebook environment and previously unregistered\n",
       "  if (root.Jupyter !== undefined) {\n",
       "    var events = require('base/js/events');\n",
       "    var OutputArea = require('notebook/js/outputarea').OutputArea;\n",
       "\n",
       "    if (OutputArea.prototype.mime_types().indexOf(EXEC_MIME_TYPE) == -1) {\n",
       "      register_renderer(events, OutputArea);\n",
       "    }\n",
       "  }\n",
       "\n",
       "  \n",
       "  if (typeof (root._bokeh_timeout) === \"undefined\" || force === true) {\n",
       "    root._bokeh_timeout = Date.now() + 5000;\n",
       "    root._bokeh_failed_load = false;\n",
       "  }\n",
       "\n",
       "  var NB_LOAD_WARNING = {'data': {'text/html':\n",
       "     \"<div style='background-color: #fdd'>\\n\"+\n",
       "     \"<p>\\n\"+\n",
       "     \"BokehJS does not appear to have successfully loaded. If loading BokehJS from CDN, this \\n\"+\n",
       "     \"may be due to a slow or bad network connection. Possible fixes:\\n\"+\n",
       "     \"</p>\\n\"+\n",
       "     \"<ul>\\n\"+\n",
       "     \"<li>re-rerun `output_notebook()` to attempt to load from CDN again, or</li>\\n\"+\n",
       "     \"<li>use INLINE resources instead, as so:</li>\\n\"+\n",
       "     \"</ul>\\n\"+\n",
       "     \"<code>\\n\"+\n",
       "     \"from bokeh.resources import INLINE\\n\"+\n",
       "     \"output_notebook(resources=INLINE)\\n\"+\n",
       "     \"</code>\\n\"+\n",
       "     \"</div>\"}};\n",
       "\n",
       "  function display_loaded() {\n",
       "    var el = document.getElementById(\"1001\");\n",
       "    if (el != null) {\n",
       "      el.textContent = \"BokehJS is loading...\";\n",
       "    }\n",
       "    if (root.Bokeh !== undefined) {\n",
       "      if (el != null) {\n",
       "        el.textContent = \"BokehJS \" + root.Bokeh.version + \" successfully loaded.\";\n",
       "      }\n",
       "    } else if (Date.now() < root._bokeh_timeout) {\n",
       "      setTimeout(display_loaded, 100)\n",
       "    }\n",
       "  }\n",
       "\n",
       "\n",
       "  function run_callbacks() {\n",
       "    try {\n",
       "      root._bokeh_onload_callbacks.forEach(function(callback) {\n",
       "        if (callback != null)\n",
       "          callback();\n",
       "      });\n",
       "    } finally {\n",
       "      delete root._bokeh_onload_callbacks\n",
       "    }\n",
       "    console.debug(\"Bokeh: all callbacks have finished\");\n",
       "  }\n",
       "\n",
       "  function load_libs(css_urls, js_urls, callback) {\n",
       "    if (css_urls == null) css_urls = [];\n",
       "    if (js_urls == null) js_urls = [];\n",
       "\n",
       "    root._bokeh_onload_callbacks.push(callback);\n",
       "    if (root._bokeh_is_loading > 0) {\n",
       "      console.debug(\"Bokeh: BokehJS is being loaded, scheduling callback at\", now());\n",
       "      return null;\n",
       "    }\n",
       "    if (js_urls == null || js_urls.length === 0) {\n",
       "      run_callbacks();\n",
       "      return null;\n",
       "    }\n",
       "    console.debug(\"Bokeh: BokehJS not loaded, scheduling load and callback at\", now());\n",
       "    root._bokeh_is_loading = css_urls.length + js_urls.length;\n",
       "\n",
       "    function on_load() {\n",
       "      root._bokeh_is_loading--;\n",
       "      if (root._bokeh_is_loading === 0) {\n",
       "        console.debug(\"Bokeh: all BokehJS libraries/stylesheets loaded\");\n",
       "        run_callbacks()\n",
       "      }\n",
       "    }\n",
       "\n",
       "    function on_error() {\n",
       "      console.error(\"failed to load \" + url);\n",
       "    }\n",
       "\n",
       "    for (var i = 0; i < css_urls.length; i++) {\n",
       "      var url = css_urls[i];\n",
       "      const element = document.createElement(\"link\");\n",
       "      element.onload = on_load;\n",
       "      element.onerror = on_error;\n",
       "      element.rel = \"stylesheet\";\n",
       "      element.type = \"text/css\";\n",
       "      element.href = url;\n",
       "      console.debug(\"Bokeh: injecting link tag for BokehJS stylesheet: \", url);\n",
       "      document.body.appendChild(element);\n",
       "    }\n",
       "\n",
       "    for (var i = 0; i < js_urls.length; i++) {\n",
       "      var url = js_urls[i];\n",
       "      var element = document.createElement('script');\n",
       "      element.onload = on_load;\n",
       "      element.onerror = on_error;\n",
       "      element.async = false;\n",
       "      element.src = url;\n",
       "      console.debug(\"Bokeh: injecting script tag for BokehJS library: \", url);\n",
       "      document.head.appendChild(element);\n",
       "    }\n",
       "  };var element = document.getElementById(\"1001\");\n",
       "  if (element == null) {\n",
       "    console.error(\"Bokeh: ERROR: autoload.js configured with elementid '1001' but no matching script tag was found. \")\n",
       "    return false;\n",
       "  }\n",
       "\n",
       "  function inject_raw_css(css) {\n",
       "    const element = document.createElement(\"style\");\n",
       "    element.appendChild(document.createTextNode(css));\n",
       "    document.body.appendChild(element);\n",
       "  }\n",
       "\n",
       "  \n",
       "  var js_urls = [\"https://cdn.pydata.org/bokeh/release/bokeh-1.4.0.min.js\", \"https://cdn.pydata.org/bokeh/release/bokeh-widgets-1.4.0.min.js\", \"https://cdn.pydata.org/bokeh/release/bokeh-tables-1.4.0.min.js\", \"https://cdn.pydata.org/bokeh/release/bokeh-gl-1.4.0.min.js\"];\n",
       "  var css_urls = [];\n",
       "  \n",
       "\n",
       "  var inline_js = [\n",
       "    function(Bokeh) {\n",
       "      Bokeh.set_log_level(\"info\");\n",
       "    },\n",
       "    function(Bokeh) {\n",
       "    \n",
       "    \n",
       "    }\n",
       "  ];\n",
       "\n",
       "  function run_inline_js() {\n",
       "    \n",
       "    if (root.Bokeh !== undefined || force === true) {\n",
       "      \n",
       "    for (var i = 0; i < inline_js.length; i++) {\n",
       "      inline_js[i].call(root, root.Bokeh);\n",
       "    }\n",
       "    if (force === true) {\n",
       "        display_loaded();\n",
       "      }} else if (Date.now() < root._bokeh_timeout) {\n",
       "      setTimeout(run_inline_js, 100);\n",
       "    } else if (!root._bokeh_failed_load) {\n",
       "      console.log(\"Bokeh: BokehJS failed to load within specified timeout.\");\n",
       "      root._bokeh_failed_load = true;\n",
       "    } else if (force !== true) {\n",
       "      var cell = $(document.getElementById(\"1001\")).parents('.cell').data().cell;\n",
       "      cell.output_area.append_execute_result(NB_LOAD_WARNING)\n",
       "    }\n",
       "\n",
       "  }\n",
       "\n",
       "  if (root._bokeh_is_loading === 0) {\n",
       "    console.debug(\"Bokeh: BokehJS loaded, going straight to plotting\");\n",
       "    run_inline_js();\n",
       "  } else {\n",
       "    load_libs(css_urls, js_urls, function() {\n",
       "      console.debug(\"Bokeh: BokehJS plotting callback run at\", now());\n",
       "      run_inline_js();\n",
       "    });\n",
       "  }\n",
       "}(window));"
      ],
      "application/vnd.bokehjs_load.v0+json": "\n(function(root) {\n  function now() {\n    return new Date();\n  }\n\n  var force = true;\n\n  if (typeof root._bokeh_onload_callbacks === \"undefined\" || force === true) {\n    root._bokeh_onload_callbacks = [];\n    root._bokeh_is_loading = undefined;\n  }\n\n  \n\n  \n  if (typeof (root._bokeh_timeout) === \"undefined\" || force === true) {\n    root._bokeh_timeout = Date.now() + 5000;\n    root._bokeh_failed_load = false;\n  }\n\n  var NB_LOAD_WARNING = {'data': {'text/html':\n     \"<div style='background-color: #fdd'>\\n\"+\n     \"<p>\\n\"+\n     \"BokehJS does not appear to have successfully loaded. If loading BokehJS from CDN, this \\n\"+\n     \"may be due to a slow or bad network connection. Possible fixes:\\n\"+\n     \"</p>\\n\"+\n     \"<ul>\\n\"+\n     \"<li>re-rerun `output_notebook()` to attempt to load from CDN again, or</li>\\n\"+\n     \"<li>use INLINE resources instead, as so:</li>\\n\"+\n     \"</ul>\\n\"+\n     \"<code>\\n\"+\n     \"from bokeh.resources import INLINE\\n\"+\n     \"output_notebook(resources=INLINE)\\n\"+\n     \"</code>\\n\"+\n     \"</div>\"}};\n\n  function display_loaded() {\n    var el = document.getElementById(\"1001\");\n    if (el != null) {\n      el.textContent = \"BokehJS is loading...\";\n    }\n    if (root.Bokeh !== undefined) {\n      if (el != null) {\n        el.textContent = \"BokehJS \" + root.Bokeh.version + \" successfully loaded.\";\n      }\n    } else if (Date.now() < root._bokeh_timeout) {\n      setTimeout(display_loaded, 100)\n    }\n  }\n\n\n  function run_callbacks() {\n    try {\n      root._bokeh_onload_callbacks.forEach(function(callback) {\n        if (callback != null)\n          callback();\n      });\n    } finally {\n      delete root._bokeh_onload_callbacks\n    }\n    console.debug(\"Bokeh: all callbacks have finished\");\n  }\n\n  function load_libs(css_urls, js_urls, callback) {\n    if (css_urls == null) css_urls = [];\n    if (js_urls == null) js_urls = [];\n\n    root._bokeh_onload_callbacks.push(callback);\n    if (root._bokeh_is_loading > 0) {\n      console.debug(\"Bokeh: BokehJS is being loaded, scheduling callback at\", now());\n      return null;\n    }\n    if (js_urls == null || js_urls.length === 0) {\n      run_callbacks();\n      return null;\n    }\n    console.debug(\"Bokeh: BokehJS not loaded, scheduling load and callback at\", now());\n    root._bokeh_is_loading = css_urls.length + js_urls.length;\n\n    function on_load() {\n      root._bokeh_is_loading--;\n      if (root._bokeh_is_loading === 0) {\n        console.debug(\"Bokeh: all BokehJS libraries/stylesheets loaded\");\n        run_callbacks()\n      }\n    }\n\n    function on_error() {\n      console.error(\"failed to load \" + url);\n    }\n\n    for (var i = 0; i < css_urls.length; i++) {\n      var url = css_urls[i];\n      const element = document.createElement(\"link\");\n      element.onload = on_load;\n      element.onerror = on_error;\n      element.rel = \"stylesheet\";\n      element.type = \"text/css\";\n      element.href = url;\n      console.debug(\"Bokeh: injecting link tag for BokehJS stylesheet: \", url);\n      document.body.appendChild(element);\n    }\n\n    for (var i = 0; i < js_urls.length; i++) {\n      var url = js_urls[i];\n      var element = document.createElement('script');\n      element.onload = on_load;\n      element.onerror = on_error;\n      element.async = false;\n      element.src = url;\n      console.debug(\"Bokeh: injecting script tag for BokehJS library: \", url);\n      document.head.appendChild(element);\n    }\n  };var element = document.getElementById(\"1001\");\n  if (element == null) {\n    console.error(\"Bokeh: ERROR: autoload.js configured with elementid '1001' but no matching script tag was found. \")\n    return false;\n  }\n\n  function inject_raw_css(css) {\n    const element = document.createElement(\"style\");\n    element.appendChild(document.createTextNode(css));\n    document.body.appendChild(element);\n  }\n\n  \n  var js_urls = [\"https://cdn.pydata.org/bokeh/release/bokeh-1.4.0.min.js\", \"https://cdn.pydata.org/bokeh/release/bokeh-widgets-1.4.0.min.js\", \"https://cdn.pydata.org/bokeh/release/bokeh-tables-1.4.0.min.js\", \"https://cdn.pydata.org/bokeh/release/bokeh-gl-1.4.0.min.js\"];\n  var css_urls = [];\n  \n\n  var inline_js = [\n    function(Bokeh) {\n      Bokeh.set_log_level(\"info\");\n    },\n    function(Bokeh) {\n    \n    \n    }\n  ];\n\n  function run_inline_js() {\n    \n    if (root.Bokeh !== undefined || force === true) {\n      \n    for (var i = 0; i < inline_js.length; i++) {\n      inline_js[i].call(root, root.Bokeh);\n    }\n    if (force === true) {\n        display_loaded();\n      }} else if (Date.now() < root._bokeh_timeout) {\n      setTimeout(run_inline_js, 100);\n    } else if (!root._bokeh_failed_load) {\n      console.log(\"Bokeh: BokehJS failed to load within specified timeout.\");\n      root._bokeh_failed_load = true;\n    } else if (force !== true) {\n      var cell = $(document.getElementById(\"1001\")).parents('.cell').data().cell;\n      cell.output_area.append_execute_result(NB_LOAD_WARNING)\n    }\n\n  }\n\n  if (root._bokeh_is_loading === 0) {\n    console.debug(\"Bokeh: BokehJS loaded, going straight to plotting\");\n    run_inline_js();\n  } else {\n    load_libs(css_urls, js_urls, function() {\n      console.debug(\"Bokeh: BokehJS plotting callback run at\", now());\n      run_inline_js();\n    });\n  }\n}(window));"
     },
     "metadata": {},
     "output_type": "display_data"
    }
   ],
   "source": [
    "import sys\n",
    "sys.path.append(\"../../\")\n",
    "from data.Frame import Frame\n",
    "from bk import show_weighted_average, show_group_total, get_pandas_dataframe, line_chart, scatter_plot\n",
    "from bokeh.io import output_notebook\n",
    "from bokeh.plotting import figure, output_file, show, reset_output\n",
    "import sources\n",
    "from sources.unpd.indicators import get_projection_by_groups as gpp\n",
    "from sources.cdp.indicators import get_indicators as get_indicators_cdp_2018\n",
    "from sources.worldbank.datatable import get_data_table as get_wb_tb\n",
    "reset_output()\n",
    "output_notebook()"
   ]
  },
  {
   "cell_type": "markdown",
   "metadata": {
    "slideshow": {
     "slide_type": "slide"
    }
   },
   "source": [
    "# Human and Social development in the LDCs"
   ]
  },
  {
   "cell_type": "markdown",
   "metadata": {
    "slideshow": {
     "slide_type": "slide"
    }
   },
   "source": [
    "# The Least Developed Countries\n",
    "\n",
    "+ The category of the least developed countries was created in 1971\n",
    "\n",
    "+ Least developed countries (LDCs) are low-income countries confronting severe structural impediments to sustainable development. They are highly vulnerable to economic and environmental shocks and have low levels of human assets.\n"
   ]
  },
  {
   "cell_type": "markdown",
   "metadata": {
    "slideshow": {
     "slide_type": "slide"
    }
   },
   "source": [
    "Least developed countries (LDCs) are **low-income countries** confronting severe **structural** impediments to sustainable development. They are highly **vulnerable to economic and environmental shocks** and have **low levels of human assets**."
   ]
  },
  {
   "cell_type": "markdown",
   "metadata": {
    "slideshow": {
     "slide_type": "slide"
    }
   },
   "source": [
    "## The criteria to identify LDCs\n",
    "The Committee for Development Policy has established three criteria for including and graduating countries from the category:\n",
    "    \n",
    "### The Economic Vulnerability Index (EVI)\n",
    "    \n",
    "### The Human Assets Index (HAI)\n",
    "\n",
    "### GNI per capita"
   ]
  },
  {
   "cell_type": "code",
   "execution_count": 2,
   "metadata": {
    "ExecuteTime": {
     "end_time": "2019-10-25T14:23:46.674809Z",
     "start_time": "2019-10-25T14:23:46.484107Z"
    },
    "slideshow": {
     "slide_type": "skip"
    }
   },
   "outputs": [],
   "source": [
    "cdp_data_2018 = get_indicators_cdp_2018(['LDCs'])\n",
    "entities = cdp_data_2018.get_column('entity').as_array()\n",
    "evi = cdp_data_2018.get_column('evi').as_array()\n",
    "hai = cdp_data_2018.get_column('hai').as_array()\n",
    "gni = cdp_data_2018.get_column('gni_per_capita_dollars').as_array()\n",
    "gni_normalized = [(x / sum(gni))*30 for x in gni]"
   ]
  },
  {
   "cell_type": "code",
   "execution_count": 3,
   "metadata": {
    "ExecuteTime": {
     "end_time": "2019-10-25T14:23:46.713931Z",
     "start_time": "2019-10-25T14:23:46.677516Z"
    },
    "slideshow": {
     "slide_type": "slide"
    }
   },
   "outputs": [
    {
     "data": {
      "text/html": [
       "\n",
       "\n",
       "\n",
       "\n",
       "\n",
       "\n",
       "  <div class=\"bk-root\" id=\"77bde337-87c3-4389-b707-7cf80b215450\" data-root-id=\"1004\"></div>\n"
      ]
     },
     "metadata": {},
     "output_type": "display_data"
    },
    {
     "data": {
      "application/javascript": [
       "(function(root) {\n",
       "  function embed_document(root) {\n",
       "    \n",
       "  var docs_json = {\"5cbdfbcb-bbd5-4ba1-900f-2d2cc3226568\":{\"roots\":{\"references\":[{\"attributes\":{\"below\":[{\"id\":\"1015\",\"type\":\"LinearAxis\"}],\"center\":[{\"id\":\"1019\",\"type\":\"Grid\"},{\"id\":\"1024\",\"type\":\"Grid\"},{\"id\":\"1033\",\"type\":\"LabelSet\"}],\"left\":[{\"id\":\"1020\",\"type\":\"LinearAxis\"}],\"plot_width\":950,\"renderers\":[{\"id\":\"1031\",\"type\":\"GlyphRenderer\"}],\"title\":{\"id\":\"1005\",\"type\":\"Title\"},\"toolbar\":{\"id\":\"1026\",\"type\":\"Toolbar\"},\"x_range\":{\"id\":\"1007\",\"type\":\"DataRange1d\"},\"x_scale\":{\"id\":\"1011\",\"type\":\"LinearScale\"},\"y_range\":{\"id\":\"1009\",\"type\":\"DataRange1d\"},\"y_scale\":{\"id\":\"1013\",\"type\":\"LinearScale\"}},\"id\":\"1004\",\"subtype\":\"Figure\",\"type\":\"Plot\"},{\"attributes\":{},\"id\":\"1013\",\"type\":\"LinearScale\"},{\"attributes\":{\"text\":\"HAI vs EVI\"},\"id\":\"1005\",\"type\":\"Title\"},{\"attributes\":{\"fill_alpha\":{\"value\":0.1},\"fill_color\":{\"value\":\"#1f77b4\"},\"line_alpha\":{\"value\":0.1},\"line_color\":{\"value\":\"#1f77b4\"},\"radius\":{\"field\":\"radii\",\"units\":\"data\"},\"x\":{\"field\":\"evi\"},\"y\":{\"field\":\"hai\"}},\"id\":\"1030\",\"type\":\"Circle\"},{\"attributes\":{\"data_source\":{\"id\":\"1003\",\"type\":\"ColumnDataSource\"},\"glyph\":{\"id\":\"1029\",\"type\":\"Circle\"},\"hover_glyph\":null,\"muted_glyph\":null,\"nonselection_glyph\":{\"id\":\"1030\",\"type\":\"Circle\"},\"selection_glyph\":null,\"view\":{\"id\":\"1032\",\"type\":\"CDSView\"}},\"id\":\"1031\",\"type\":\"GlyphRenderer\"},{\"attributes\":{\"callback\":null},\"id\":\"1009\",\"type\":\"DataRange1d\"},{\"attributes\":{},\"id\":\"1021\",\"type\":\"BasicTicker\"},{\"attributes\":{\"ticker\":{\"id\":\"1016\",\"type\":\"BasicTicker\"}},\"id\":\"1019\",\"type\":\"Grid\"},{\"attributes\":{\"level\":\"glyph\",\"source\":{\"id\":\"1003\",\"type\":\"ColumnDataSource\"},\"text\":{\"field\":\"names\"},\"text_font_size\":{\"value\":\"8pt\"},\"x\":{\"field\":\"evi\"},\"x_offset\":{\"value\":5},\"y\":{\"field\":\"hai\"},\"y_offset\":{\"value\":5}},\"id\":\"1033\",\"type\":\"LabelSet\"},{\"attributes\":{\"fill_alpha\":{\"value\":0.6},\"fill_color\":{\"value\":\"#1f77b4\"},\"line_color\":{\"value\":null},\"radius\":{\"field\":\"radii\",\"units\":\"data\"},\"x\":{\"field\":\"evi\"},\"y\":{\"field\":\"hai\"}},\"id\":\"1029\",\"type\":\"Circle\"},{\"attributes\":{\"callback\":null},\"id\":\"1007\",\"type\":\"DataRange1d\"},{\"attributes\":{\"axis_label\":\"HAI\",\"formatter\":{\"id\":\"1036\",\"type\":\"BasicTickFormatter\"},\"ticker\":{\"id\":\"1021\",\"type\":\"BasicTicker\"}},\"id\":\"1020\",\"type\":\"LinearAxis\"},{\"attributes\":{\"dimension\":1,\"ticker\":{\"id\":\"1021\",\"type\":\"BasicTicker\"}},\"id\":\"1024\",\"type\":\"Grid\"},{\"attributes\":{},\"id\":\"1011\",\"type\":\"LinearScale\"},{\"attributes\":{\"callback\":null,\"data\":{\"evi\":[39.31847499761291,36.757499031522215,25.21977531407407,34.32843983867595,36.26105903025079,38.24968188294886,44.53840537420615,34.75933730781097,33.55527518528004,52.43229442971872,52.38395723067039,27.237133266314615,36.329678101824925,54.70608523319488,32.09573717926084,72.15168677316157,30.163203421036275,52.38566801102522,30.553838443774744,73.69258065327526,42.02234466093909,53.203575960114186,37.845308176229935,47.1236284854542,36.7941622313397,39.91252075695854,36.7237686236129,31.7432961328469,28.422642129717293,35.255239686720145,36.377946784929456,41.23100272969866,33.44246330286905,51.563062215984765,51.90755365345187,34.725685139794926,49.214096687726894,56.79572845959256,28.338132621668773,56.01606076954609,31.718809204036635,27.90609781167721,46.9962786557694,38.63576320999087,40.46026103469391],\"hai\":[48.3698405313323,52.52043657551618,73.15064266822495,49.75421277291333,72.86608884522367,42.91698654581399,38.4582473052599,68.92528304696823,17.37091156051442,22.085484315685715,49.385256569573,41.87232303636952,58.02908229893985,42.893055780999646,45.30853361262692,51.82920387983884,39.48893995074097,41.716252662688056,47.97415181855695,83.96679690389746,61.572583924694506,37.23070426579468,54.53329453168444,52.522138892622166,43.106314630459046,46.940261858442696,45.8152514338928,68.47497037955749,71.21981923337259,35.374052152796644,54.97246497703989,86.00679852404463,57.12957161797068,27.395916767676766,74.78849047963382,16.65507946932967,53.03509118236097,66.63143020458574,61.82618003109269,90.13457842056366,50.23906690599287,56.02779180814835,78.51943490439294,59.22749709179137,58.594410552318735],\"names\":[\"Afghanistan\",\"Angola\",\"Bangladesh\",\"Benin\",\"Bhutan\",\"Burkina Faso\",\"Burundi\",\"Cambodia\",\"Central African Republic\",\"Chad\",\"Comoros\",\"Democratic Republic of the Congo\",\"Djibouti\",\"Eritrea\",\"Ethiopia\",\"Gambia\",\"Guinea\",\"Guinea-Bissau\",\"Haiti\",\"Kiribati\",\"Lesotho\",\"Liberia\",\"Madagascar\",\"Malawi\",\"Mali\",\"Mauritania\",\"Mozambique\",\"Myanmar\",\"Nepal\",\"Niger\",\"Rwanda\",\"Sao Tome and Principe\",\"Senegal\",\"Sierra Leone\",\"Solomon Islands\",\"Somalia\",\"Sudan\",\"Timor-Leste\",\"Togo\",\"Tuvalu\",\"Uganda\",\"United Republic of Tanzania\",\"Vanuatu\",\"Yemen\",\"Zambia\"],\"radii\":[0.3486056940032576,2.4668524266042016,0.7020447947937721,0.48602223509185105,1.3228778144086932,0.3545063770828273,0.1439906217703531,0.5921658071844065,0.2039025303122942,0.5072539150463391,0.8788819521470623,0.26478852194206287,1.0434896028654765,0.4748310823991456,0.3550084704511006,0.247446969190501,0.37373691067035597,0.32794088514739334,0.44869169499991846,1.6454751810450026,0.7143690867404829,0.23730867258431165,0.2677231781905875,0.18263121659249557,0.441142763699007,0.6775521275707559,0.3108420352212877,0.6914928152526487,0.41032077914907744,0.2166245207324081,0.3895316490963874,0.9279304402907724,0.5532615213153896,0.32073284585082373,0.9714956147211605,0.052410075653960046,0.8001174040745556,1.4634728916821294,0.3057813583848219,2.9686806171600546,0.3643815661228828,0.49688045527581914,1.6609010705734226,0.5258532451564529,0.8600485617522887]},\"selected\":{\"id\":\"1040\",\"type\":\"Selection\"},\"selection_policy\":{\"id\":\"1041\",\"type\":\"UnionRenderers\"}},\"id\":\"1003\",\"type\":\"ColumnDataSource\"},{\"attributes\":{\"axis_label\":\"EVI\",\"formatter\":{\"id\":\"1038\",\"type\":\"BasicTickFormatter\"},\"ticker\":{\"id\":\"1016\",\"type\":\"BasicTicker\"}},\"id\":\"1015\",\"type\":\"LinearAxis\"},{\"attributes\":{\"callback\":null},\"id\":\"1025\",\"type\":\"HoverTool\"},{\"attributes\":{},\"id\":\"1038\",\"type\":\"BasicTickFormatter\"},{\"attributes\":{\"active_drag\":\"auto\",\"active_inspect\":\"auto\",\"active_multi\":null,\"active_scroll\":\"auto\",\"active_tap\":\"auto\",\"tools\":[{\"id\":\"1025\",\"type\":\"HoverTool\"}]},\"id\":\"1026\",\"type\":\"Toolbar\"},{\"attributes\":{\"source\":{\"id\":\"1003\",\"type\":\"ColumnDataSource\"}},\"id\":\"1032\",\"type\":\"CDSView\"},{\"attributes\":{},\"id\":\"1040\",\"type\":\"Selection\"},{\"attributes\":{},\"id\":\"1041\",\"type\":\"UnionRenderers\"},{\"attributes\":{},\"id\":\"1016\",\"type\":\"BasicTicker\"},{\"attributes\":{},\"id\":\"1036\",\"type\":\"BasicTickFormatter\"}],\"root_ids\":[\"1004\"]},\"title\":\"Bokeh Application\",\"version\":\"1.4.0\"}};\n",
       "  var render_items = [{\"docid\":\"5cbdfbcb-bbd5-4ba1-900f-2d2cc3226568\",\"roots\":{\"1004\":\"77bde337-87c3-4389-b707-7cf80b215450\"}}];\n",
       "  root.Bokeh.embed.embed_items_notebook(docs_json, render_items);\n",
       "\n",
       "  }\n",
       "  if (root.Bokeh !== undefined) {\n",
       "    embed_document(root);\n",
       "  } else {\n",
       "    var attempts = 0;\n",
       "    var timer = setInterval(function(root) {\n",
       "      if (root.Bokeh !== undefined) {\n",
       "        clearInterval(timer);\n",
       "        embed_document(root);\n",
       "      } else {\n",
       "        attempts++;\n",
       "        if (attempts > 100) {\n",
       "          clearInterval(timer);\n",
       "          console.log(\"Bokeh: ERROR: Unable to run BokehJS code because BokehJS library is missing\");\n",
       "        }\n",
       "      }\n",
       "    }, 10, root)\n",
       "  }\n",
       "})(window);"
      ],
      "application/vnd.bokehjs_exec.v0+json": ""
     },
     "metadata": {
      "application/vnd.bokehjs_exec.v0+json": {
       "id": "1004"
      }
     },
     "output_type": "display_data"
    }
   ],
   "source": [
    "p = scatter_plot(evi, hai, gni_normalized, entities)\n",
    "show(p)"
   ]
  },
  {
   "cell_type": "markdown",
   "metadata": {
    "slideshow": {
     "slide_type": "slide"
    }
   },
   "source": [
    "# The Istanbul Programme of Action"
   ]
  },
  {
   "cell_type": "markdown",
   "metadata": {
    "ExecuteTime": {
     "end_time": "2019-10-23T16:34:47.577716Z",
     "start_time": "2019-10-23T16:34:47.551207Z"
    },
    "slideshow": {
     "slide_type": "slide"
    }
   },
   "source": [
    "# Objectives"
   ]
  },
  {
   "cell_type": "markdown",
   "metadata": {
    "slideshow": {
     "slide_type": "slide"
    }
   },
   "source": [
    "27. The overarching goal of the Programme of Action for the decade 2011-2020 is to overcome the structural challenges faced by the least developed countries in order to eradicate poverty, achieve internationally agreed development goals and enable graduation from the least developed country category.\n",
    "\n"
   ]
  },
  {
   "cell_type": "markdown",
   "metadata": {
    "slideshow": {
     "slide_type": "slide"
    }
   },
   "source": [
    "28. Guided by the overarching goal, national policies of least developed countries and international support measures during the decade will focus on the following specific objectives with the aim of enabling half the number of least developed countries to meet the criteria for graduation by 2020:"
   ]
  },
  {
   "cell_type": "markdown",
   "metadata": {
    "slideshow": {
     "slide_type": "slide"
    }
   },
   "source": [
    "**(a)** Achieve sustained, equitable and inclusive economic growth in least developed countries, to at least the level of 7 per cent per annum, by strengthening their productive capacity in all sectors through structural transformation and overcoming their marginalization through their effective integration into the global economy, including through regional integration;"
   ]
  },
  {
   "cell_type": "markdown",
   "metadata": {
    "slideshow": {
     "slide_type": "slide"
    }
   },
   "source": [
    "**(b) Build human capacities by fostering sustained, equitable and inclusive human and social development, gender equality and the empowerment of women;**"
   ]
  },
  {
   "cell_type": "markdown",
   "metadata": {
    "slideshow": {
     "slide_type": "slide"
    }
   },
   "source": [
    "**(c)** Reduce the **vulnerability** of least developed countries to economic, natural and environmental shocks and disasters, as well as climate change, and enhance their ability to meet these and other challenges through strengthening their resilience;"
   ]
  },
  {
   "cell_type": "markdown",
   "metadata": {
    "slideshow": {
     "slide_type": "slide"
    }
   },
   "source": [
    "**(d)** Ensure enhanced financial resources and their effective use for least developed countries’ development, including through domestic resource mobilization, ODA, external debt relief, foreign direct investment and remittances;"
   ]
  },
  {
   "cell_type": "markdown",
   "metadata": {
    "slideshow": {
     "slide_type": "slide"
    }
   },
   "source": [
    "**(e)** Enhance good governance at all levels, by strengthening democratic processes, institutions and the rule of law; increasing efficiency, coherence, transparency and participation; protecting and promoting human rights; and reducing corruption, and strengthen least developed country Governments’ capacity to play an effective role in their economic and social development."
   ]
  },
  {
   "cell_type": "markdown",
   "metadata": {
    "slideshow": {
     "slide_type": "slide"
    }
   },
   "source": [
    "# IV. Priority areas for action\n",
    "\n",
    "43. The actions will be organized by priority areas as:\n",
    "\n",
    "A. Productive capacity\n",
    "\n",
    "B. Agriculture, food security and rural development\n",
    "\n",
    "C. Trade\n",
    "\n",
    "D. Commodities\n",
    "\n",
    "**E. Human and social development**\n",
    "\n",
    "F. Multiple crises and other emerging challenges ▪Economic shocks\n",
    "\n",
    "H. Good governance at all levels"
   ]
  },
  {
   "cell_type": "markdown",
   "metadata": {
    "slideshow": {
     "slide_type": "slide"
    }
   },
   "source": [
    "# E. Human and social development\n",
    "\n",
    "+ Education and training\n",
    "\n",
    "+ Population and primary health\n",
    "\n",
    "+ Youth development\n",
    "\n",
    "+ Shelter\n",
    "\n",
    "+ Water and sanitation\n",
    "\n",
    "+ Gender equality and empowerment of women \n",
    "\n",
    "+ Social protection"
   ]
  },
  {
   "cell_type": "markdown",
   "metadata": {
    "slideshow": {
     "slide_type": "slide"
    }
   },
   "source": [
    "# Population and primary health"
   ]
  },
  {
   "cell_type": "code",
   "execution_count": 4,
   "metadata": {
    "ExecuteTime": {
     "end_time": "2019-10-25T14:23:47.479465Z",
     "start_time": "2019-10-25T14:23:46.720219Z"
    },
    "scrolled": true,
    "slideshow": {
     "slide_type": "slide"
    }
   },
   "outputs": [
    {
     "name": "stdout",
     "output_type": "stream",
     "text": [
      "Updating SP.POP.TOTL from server.\n"
     ]
    },
    {
     "data": {
      "text/html": [
       "\n",
       "\n",
       "\n",
       "\n",
       "\n",
       "\n",
       "  <div class=\"bk-root\" id=\"2f6e67d7-50c7-4a7d-b9f2-3a5bf6edbc53\" data-root-id=\"1084\"></div>\n"
      ]
     },
     "metadata": {},
     "output_type": "display_data"
    },
    {
     "data": {
      "application/javascript": [
       "(function(root) {\n",
       "  function embed_document(root) {\n",
       "    \n",
       "  var docs_json = {\"fed831ce-3b1c-4dc6-9c73-fdda08238508\":{\"roots\":{\"references\":[{\"attributes\":{\"below\":[{\"id\":\"1095\",\"type\":\"LinearAxis\"}],\"center\":[{\"id\":\"1099\",\"type\":\"Grid\"},{\"id\":\"1104\",\"type\":\"Grid\"},{\"id\":\"1129\",\"type\":\"Legend\"}],\"left\":[{\"id\":\"1100\",\"type\":\"LinearAxis\"}],\"plot_height\":400,\"plot_width\":1000,\"renderers\":[{\"id\":\"1121\",\"type\":\"GlyphRenderer\"},{\"id\":\"1134\",\"type\":\"GlyphRenderer\"}],\"title\":{\"id\":\"1085\",\"type\":\"Title\"},\"toolbar\":{\"id\":\"1111\",\"type\":\"Toolbar\"},\"x_range\":{\"id\":\"1087\",\"type\":\"DataRange1d\"},\"x_scale\":{\"id\":\"1091\",\"type\":\"LinearScale\"},\"y_range\":{\"id\":\"1089\",\"type\":\"DataRange1d\"},\"y_scale\":{\"id\":\"1093\",\"type\":\"LinearScale\"}},\"id\":\"1084\",\"subtype\":\"Figure\",\"type\":\"Plot\"},{\"attributes\":{\"text\":\"Population, total\"},\"id\":\"1085\",\"type\":\"Title\"},{\"attributes\":{\"data_source\":{\"id\":\"1118\",\"type\":\"ColumnDataSource\"},\"glyph\":{\"id\":\"1119\",\"type\":\"Line\"},\"hover_glyph\":null,\"muted_glyph\":null,\"nonselection_glyph\":{\"id\":\"1120\",\"type\":\"Line\"},\"selection_glyph\":null,\"view\":{\"id\":\"1122\",\"type\":\"CDSView\"}},\"id\":\"1121\",\"type\":\"GlyphRenderer\"},{\"attributes\":{},\"id\":\"1152\",\"type\":\"Selection\"},{\"attributes\":{\"callback\":null},\"id\":\"1087\",\"type\":\"DataRange1d\"},{\"attributes\":{},\"id\":\"1153\",\"type\":\"UnionRenderers\"},{\"attributes\":{},\"id\":\"1096\",\"type\":\"BasicTicker\"},{\"attributes\":{\"axis_label\":\"Years\",\"formatter\":{\"id\":\"1126\",\"type\":\"BasicTickFormatter\"},\"ticker\":{\"id\":\"1096\",\"type\":\"BasicTicker\"}},\"id\":\"1095\",\"type\":\"LinearAxis\"},{\"attributes\":{\"dimension\":1,\"grid_line_alpha\":0.5,\"ticker\":{\"id\":\"1101\",\"type\":\"BasicTicker\"}},\"id\":\"1104\",\"type\":\"Grid\"},{\"attributes\":{},\"id\":\"1093\",\"type\":\"LinearScale\"},{\"attributes\":{\"fill_alpha\":{\"value\":0.1},\"fill_color\":{\"value\":\"#1f77b4\"},\"line_alpha\":{\"value\":0.1},\"line_color\":{\"value\":\"#1f77b4\"},\"size\":{\"units\":\"screen\",\"value\":0},\"x\":{\"field\":\"x\"},\"y\":{\"field\":\"y\"}},\"id\":\"1133\",\"type\":\"Circle\"},{\"attributes\":{\"callback\":null},\"id\":\"1089\",\"type\":\"DataRange1d\"},{\"attributes\":{},\"id\":\"1150\",\"type\":\"Selection\"},{\"attributes\":{},\"id\":\"1091\",\"type\":\"LinearScale\"},{\"attributes\":{\"grid_line_color\":null,\"ticker\":{\"id\":\"1096\",\"type\":\"BasicTicker\"}},\"id\":\"1099\",\"type\":\"Grid\"},{\"attributes\":{},\"id\":\"1101\",\"type\":\"BasicTicker\"},{\"attributes\":{\"callback\":null,\"data\":{\"x\":[\"2011\",\"2012\",\"2013\",\"2014\",\"2015\",\"2016\",\"2017\",\"2018\"],\"y\":[856472234.0,873619764.0,894516028.0,915914952.0,937788499.0,960134718.0,982952189.0,1006209792.0]},\"selected\":{\"id\":\"1152\",\"type\":\"Selection\"},\"selection_policy\":{\"id\":\"1153\",\"type\":\"UnionRenderers\"}},\"id\":\"1131\",\"type\":\"ColumnDataSource\"},{\"attributes\":{\"source\":{\"id\":\"1131\",\"type\":\"ColumnDataSource\"}},\"id\":\"1135\",\"type\":\"CDSView\"},{\"attributes\":{},\"id\":\"1151\",\"type\":\"UnionRenderers\"},{\"attributes\":{},\"id\":\"1124\",\"type\":\"BasicTickFormatter\"},{\"attributes\":{\"fill_color\":{\"value\":\"#FA1857\"},\"line_color\":{\"value\":\"#FA1857\"},\"size\":{\"units\":\"screen\",\"value\":0},\"x\":{\"field\":\"x\"},\"y\":{\"field\":\"y\"}},\"id\":\"1132\",\"type\":\"Circle\"},{\"attributes\":{\"axis_label\":\"SP.POP.TOTL\",\"formatter\":{\"id\":\"1124\",\"type\":\"BasicTickFormatter\"},\"ticker\":{\"id\":\"1101\",\"type\":\"BasicTicker\"}},\"id\":\"1100\",\"type\":\"LinearAxis\"},{\"attributes\":{},\"id\":\"1106\",\"type\":\"WheelZoomTool\"},{\"attributes\":{\"data_source\":{\"id\":\"1131\",\"type\":\"ColumnDataSource\"},\"glyph\":{\"id\":\"1132\",\"type\":\"Circle\"},\"hover_glyph\":null,\"muted_glyph\":null,\"nonselection_glyph\":{\"id\":\"1133\",\"type\":\"Circle\"},\"selection_glyph\":null,\"view\":{\"id\":\"1135\",\"type\":\"CDSView\"}},\"id\":\"1134\",\"type\":\"GlyphRenderer\"},{\"attributes\":{\"active_drag\":\"auto\",\"active_inspect\":\"auto\",\"active_multi\":null,\"active_scroll\":\"auto\",\"active_tap\":\"auto\",\"tools\":[{\"id\":\"1105\",\"type\":\"PanTool\"},{\"id\":\"1106\",\"type\":\"WheelZoomTool\"},{\"id\":\"1107\",\"type\":\"BoxZoomTool\"},{\"id\":\"1108\",\"type\":\"SaveTool\"},{\"id\":\"1109\",\"type\":\"ResetTool\"},{\"id\":\"1110\",\"type\":\"HelpTool\"},{\"id\":\"1136\",\"type\":\"HoverTool\"}]},\"id\":\"1111\",\"type\":\"Toolbar\"},{\"attributes\":{},\"id\":\"1105\",\"type\":\"PanTool\"},{\"attributes\":{},\"id\":\"1110\",\"type\":\"HelpTool\"},{\"attributes\":{\"overlay\":{\"id\":\"1128\",\"type\":\"BoxAnnotation\"}},\"id\":\"1107\",\"type\":\"BoxZoomTool\"},{\"attributes\":{},\"id\":\"1108\",\"type\":\"SaveTool\"},{\"attributes\":{},\"id\":\"1126\",\"type\":\"BasicTickFormatter\"},{\"attributes\":{},\"id\":\"1109\",\"type\":\"ResetTool\"},{\"attributes\":{\"callback\":null,\"data\":{\"x\":[\"2011\",\"2012\",\"2013\",\"2014\",\"2015\",\"2016\",\"2017\",\"2018\"],\"y\":[856472234.0,873619764.0,894516028.0,915914952.0,937788499.0,960134718.0,982952189.0,1006209792.0]},\"selected\":{\"id\":\"1150\",\"type\":\"Selection\"},\"selection_policy\":{\"id\":\"1151\",\"type\":\"UnionRenderers\"}},\"id\":\"1118\",\"type\":\"ColumnDataSource\"},{\"attributes\":{\"items\":[{\"id\":\"1130\",\"type\":\"LegendItem\"}],\"location\":\"bottom_left\"},\"id\":\"1129\",\"type\":\"Legend\"},{\"attributes\":{\"line_color\":\"#FA1857\",\"line_width\":3,\"x\":{\"field\":\"x\"},\"y\":{\"field\":\"y\"}},\"id\":\"1119\",\"type\":\"Line\"},{\"attributes\":{\"source\":{\"id\":\"1118\",\"type\":\"ColumnDataSource\"}},\"id\":\"1122\",\"type\":\"CDSView\"},{\"attributes\":{\"callback\":null,\"tooltips\":\"                \\n        <div style=padding=5px>Year:@x</div>\\n        <div style=padding=5px>Value:@y</div>        \\n        \"},\"id\":\"1136\",\"type\":\"HoverTool\"},{\"attributes\":{\"bottom_units\":\"screen\",\"fill_alpha\":{\"value\":0.5},\"fill_color\":{\"value\":\"lightgrey\"},\"left_units\":\"screen\",\"level\":\"overlay\",\"line_alpha\":{\"value\":1.0},\"line_color\":{\"value\":\"black\"},\"line_dash\":[4,4],\"line_width\":{\"value\":2},\"render_mode\":\"css\",\"right_units\":\"screen\",\"top_units\":\"screen\"},\"id\":\"1128\",\"type\":\"BoxAnnotation\"},{\"attributes\":{\"line_alpha\":0.1,\"line_color\":\"#1f77b4\",\"line_width\":3,\"x\":{\"field\":\"x\"},\"y\":{\"field\":\"y\"}},\"id\":\"1120\",\"type\":\"Line\"},{\"attributes\":{\"label\":{\"value\":\"LDCs\"},\"renderers\":[{\"id\":\"1121\",\"type\":\"GlyphRenderer\"}]},\"id\":\"1130\",\"type\":\"LegendItem\"}],\"root_ids\":[\"1084\"]},\"title\":\"Bokeh Application\",\"version\":\"1.4.0\"}};\n",
       "  var render_items = [{\"docid\":\"fed831ce-3b1c-4dc6-9c73-fdda08238508\",\"roots\":{\"1084\":\"2f6e67d7-50c7-4a7d-b9f2-3a5bf6edbc53\"}}];\n",
       "  root.Bokeh.embed.embed_items_notebook(docs_json, render_items);\n",
       "\n",
       "  }\n",
       "  if (root.Bokeh !== undefined) {\n",
       "    embed_document(root);\n",
       "  } else {\n",
       "    var attempts = 0;\n",
       "    var timer = setInterval(function(root) {\n",
       "      if (root.Bokeh !== undefined) {\n",
       "        clearInterval(timer);\n",
       "        embed_document(root);\n",
       "      } else {\n",
       "        attempts++;\n",
       "        if (attempts > 100) {\n",
       "          clearInterval(timer);\n",
       "          console.log(\"Bokeh: ERROR: Unable to run BokehJS code because BokehJS library is missing\");\n",
       "        }\n",
       "      }\n",
       "    }, 10, root)\n",
       "  }\n",
       "})(window);"
      ],
      "application/vnd.bokehjs_exec.v0+json": ""
     },
     "metadata": {
      "application/vnd.bokehjs_exec.v0+json": {
       "id": "1084"
      }
     },
     "output_type": "display_data"
    }
   ],
   "source": [
    "years = list(map(str, list(range(2011,2019))))\n",
    "result = show_group_total(years, 'SP.POP.TOTL', ['LDCs'], line_width=3, height=400, width= 1000, marker_width=0)"
   ]
  },
  {
   "cell_type": "code",
   "execution_count": 5,
   "metadata": {},
   "outputs": [
    {
     "data": {
      "text/plain": [
       "[[['2011', '2012', '2013', '2014', '2015', '2016', '2017', '2018'],\n",
       "  [856472234.0,\n",
       "   873619764.0,\n",
       "   894516028.0,\n",
       "   915914952.0,\n",
       "   937788499.0,\n",
       "   960134718.0,\n",
       "   982952189.0,\n",
       "   1006209792.0],\n",
       "  'LDCs',\n",
       "  'Population, total']]"
      ]
     },
     "execution_count": 5,
     "metadata": {},
     "output_type": "execute_result"
    }
   ],
   "source": [
    "result"
   ]
  },
  {
   "cell_type": "code",
   "execution_count": 6,
   "metadata": {
    "slideshow": {
     "slide_type": "skip"
    }
   },
   "outputs": [],
   "source": [
    "gr = []\n",
    "for i in range (0, len(result[0][1])):\n",
    "    gr.append((result[0][1][i]/result[0][1][i-1])-1)  "
   ]
  },
  {
   "cell_type": "code",
   "execution_count": 7,
   "metadata": {
    "slideshow": {
     "slide_type": "skip"
    }
   },
   "outputs": [
    {
     "ename": "IndexError",
     "evalue": "list index out of range",
     "output_type": "error",
     "traceback": [
      "\u001b[0;31m---------------------------------------------------------------------------\u001b[0m",
      "\u001b[0;31mIndexError\u001b[0m                                Traceback (most recent call last)",
      "\u001b[0;32m<ipython-input-7-ba2fe11a46e7>\u001b[0m in \u001b[0;36m<module>\u001b[0;34m\u001b[0m\n\u001b[0;32m----> 1\u001b[0;31m \u001b[0mprint\u001b[0m \u001b[0;34m(\u001b[0m\u001b[0mresult\u001b[0m\u001b[0;34m[\u001b[0m\u001b[0;36m0\u001b[0m\u001b[0;34m]\u001b[0m\u001b[0;34m[\u001b[0m\u001b[0;36m0\u001b[0m\u001b[0;34m]\u001b[0m\u001b[0;34m[\u001b[0m\u001b[0;36m1\u001b[0m\u001b[0;34m]\u001b[0m \u001b[0;34m+\u001b[0m \u001b[0;34m\"-\"\u001b[0m \u001b[0;34m+\u001b[0m \u001b[0mresult\u001b[0m\u001b[0;34m[\u001b[0m\u001b[0;36m0\u001b[0m\u001b[0;34m]\u001b[0m\u001b[0;34m[\u001b[0m\u001b[0;36m0\u001b[0m\u001b[0;34m]\u001b[0m\u001b[0;34m[\u001b[0m\u001b[0;36m55\u001b[0m\u001b[0;34m]\u001b[0m \u001b[0;34m+\u001b[0m \u001b[0;34m\" -> \"\u001b[0m \u001b[0;34m+\u001b[0m \u001b[0mstr\u001b[0m\u001b[0;34m(\u001b[0m\u001b[0;36m1\u001b[0m\u001b[0;34m-\u001b[0m\u001b[0;34m(\u001b[0m\u001b[0mresult\u001b[0m\u001b[0;34m[\u001b[0m\u001b[0;36m0\u001b[0m\u001b[0;34m]\u001b[0m\u001b[0;34m[\u001b[0m\u001b[0;36m1\u001b[0m\u001b[0;34m]\u001b[0m\u001b[0;34m[\u001b[0m\u001b[0;36m1\u001b[0m\u001b[0;34m]\u001b[0m\u001b[0;34m/\u001b[0m\u001b[0mresult\u001b[0m\u001b[0;34m[\u001b[0m\u001b[0;36m0\u001b[0m\u001b[0;34m]\u001b[0m\u001b[0;34m[\u001b[0m\u001b[0;36m1\u001b[0m\u001b[0;34m]\u001b[0m\u001b[0;34m[\u001b[0m\u001b[0;36m55\u001b[0m\u001b[0;34m]\u001b[0m\u001b[0;34m)\u001b[0m\u001b[0;34m)\u001b[0m\u001b[0;34m)\u001b[0m\u001b[0;34m\u001b[0m\u001b[0;34m\u001b[0m\u001b[0m\n\u001b[0m\u001b[1;32m      2\u001b[0m \u001b[0mprint\u001b[0m \u001b[0;34m(\u001b[0m\u001b[0mresult\u001b[0m\u001b[0;34m[\u001b[0m\u001b[0;36m0\u001b[0m\u001b[0;34m]\u001b[0m\u001b[0;34m[\u001b[0m\u001b[0;36m0\u001b[0m\u001b[0;34m]\u001b[0m\u001b[0;34m[\u001b[0m\u001b[0;36m1\u001b[0m\u001b[0;34m]\u001b[0m \u001b[0;34m+\u001b[0m \u001b[0;34m\"-\"\u001b[0m \u001b[0;34m+\u001b[0m \u001b[0mresult\u001b[0m\u001b[0;34m[\u001b[0m\u001b[0;36m0\u001b[0m\u001b[0;34m]\u001b[0m\u001b[0;34m[\u001b[0m\u001b[0;36m0\u001b[0m\u001b[0;34m]\u001b[0m\u001b[0;34m[\u001b[0m\u001b[0;36m20\u001b[0m\u001b[0;34m]\u001b[0m \u001b[0;34m+\u001b[0m \u001b[0;34m\" -> \"\u001b[0m \u001b[0;34m+\u001b[0m \u001b[0mstr\u001b[0m\u001b[0;34m(\u001b[0m\u001b[0;36m1\u001b[0m\u001b[0;34m-\u001b[0m\u001b[0;34m(\u001b[0m\u001b[0mresult\u001b[0m\u001b[0;34m[\u001b[0m\u001b[0;36m0\u001b[0m\u001b[0;34m]\u001b[0m\u001b[0;34m[\u001b[0m\u001b[0;36m1\u001b[0m\u001b[0;34m]\u001b[0m\u001b[0;34m[\u001b[0m\u001b[0;36m1\u001b[0m\u001b[0;34m]\u001b[0m\u001b[0;34m/\u001b[0m\u001b[0mresult\u001b[0m\u001b[0;34m[\u001b[0m\u001b[0;36m0\u001b[0m\u001b[0;34m]\u001b[0m\u001b[0;34m[\u001b[0m\u001b[0;36m1\u001b[0m\u001b[0;34m]\u001b[0m\u001b[0;34m[\u001b[0m\u001b[0;36m20\u001b[0m\u001b[0;34m]\u001b[0m\u001b[0;34m)\u001b[0m\u001b[0;34m)\u001b[0m\u001b[0;34m)\u001b[0m\u001b[0;34m\u001b[0m\u001b[0;34m\u001b[0m\u001b[0m\n\u001b[1;32m      3\u001b[0m \u001b[0mprint\u001b[0m \u001b[0;34m(\u001b[0m\u001b[0mresult\u001b[0m\u001b[0;34m[\u001b[0m\u001b[0;36m0\u001b[0m\u001b[0;34m]\u001b[0m\u001b[0;34m[\u001b[0m\u001b[0;36m0\u001b[0m\u001b[0;34m]\u001b[0m\u001b[0;34m[\u001b[0m\u001b[0;36m20\u001b[0m\u001b[0;34m]\u001b[0m \u001b[0;34m+\u001b[0m \u001b[0;34m\"-\"\u001b[0m \u001b[0;34m+\u001b[0m \u001b[0mresult\u001b[0m\u001b[0;34m[\u001b[0m\u001b[0;36m0\u001b[0m\u001b[0;34m]\u001b[0m\u001b[0;34m[\u001b[0m\u001b[0;36m0\u001b[0m\u001b[0;34m]\u001b[0m\u001b[0;34m[\u001b[0m\u001b[0;36m40\u001b[0m\u001b[0;34m]\u001b[0m \u001b[0;34m+\u001b[0m \u001b[0;34m\" -> \"\u001b[0m \u001b[0;34m+\u001b[0m \u001b[0mstr\u001b[0m\u001b[0;34m(\u001b[0m\u001b[0;36m1\u001b[0m\u001b[0;34m-\u001b[0m\u001b[0;34m(\u001b[0m\u001b[0mresult\u001b[0m\u001b[0;34m[\u001b[0m\u001b[0;36m0\u001b[0m\u001b[0;34m]\u001b[0m\u001b[0;34m[\u001b[0m\u001b[0;36m1\u001b[0m\u001b[0;34m]\u001b[0m\u001b[0;34m[\u001b[0m\u001b[0;36m20\u001b[0m\u001b[0;34m]\u001b[0m\u001b[0;34m/\u001b[0m\u001b[0mresult\u001b[0m\u001b[0;34m[\u001b[0m\u001b[0;36m0\u001b[0m\u001b[0;34m]\u001b[0m\u001b[0;34m[\u001b[0m\u001b[0;36m1\u001b[0m\u001b[0;34m]\u001b[0m\u001b[0;34m[\u001b[0m\u001b[0;36m40\u001b[0m\u001b[0;34m]\u001b[0m\u001b[0;34m)\u001b[0m\u001b[0;34m)\u001b[0m\u001b[0;34m)\u001b[0m\u001b[0;34m\u001b[0m\u001b[0;34m\u001b[0m\u001b[0m\n\u001b[1;32m      4\u001b[0m \u001b[0mprint\u001b[0m \u001b[0;34m(\u001b[0m\u001b[0mresult\u001b[0m\u001b[0;34m[\u001b[0m\u001b[0;36m0\u001b[0m\u001b[0;34m]\u001b[0m\u001b[0;34m[\u001b[0m\u001b[0;36m0\u001b[0m\u001b[0;34m]\u001b[0m\u001b[0;34m[\u001b[0m\u001b[0;36m40\u001b[0m\u001b[0;34m]\u001b[0m \u001b[0;34m+\u001b[0m \u001b[0;34m\"-\"\u001b[0m \u001b[0;34m+\u001b[0m \u001b[0mresult\u001b[0m\u001b[0;34m[\u001b[0m\u001b[0;36m0\u001b[0m\u001b[0;34m]\u001b[0m\u001b[0;34m[\u001b[0m\u001b[0;36m0\u001b[0m\u001b[0;34m]\u001b[0m\u001b[0;34m[\u001b[0m\u001b[0;36m5\u001b[0m\u001b[0;34m]\u001b[0m \u001b[0;34m+\u001b[0m \u001b[0;34m\" -> \"\u001b[0m \u001b[0;34m+\u001b[0m \u001b[0mstr\u001b[0m\u001b[0;34m(\u001b[0m\u001b[0;36m1\u001b[0m\u001b[0;34m-\u001b[0m\u001b[0;34m(\u001b[0m\u001b[0mresult\u001b[0m\u001b[0;34m[\u001b[0m\u001b[0;36m0\u001b[0m\u001b[0;34m]\u001b[0m\u001b[0;34m[\u001b[0m\u001b[0;36m1\u001b[0m\u001b[0;34m]\u001b[0m\u001b[0;34m[\u001b[0m\u001b[0;36m40\u001b[0m\u001b[0;34m]\u001b[0m\u001b[0;34m/\u001b[0m\u001b[0mresult\u001b[0m\u001b[0;34m[\u001b[0m\u001b[0;36m0\u001b[0m\u001b[0;34m]\u001b[0m\u001b[0;34m[\u001b[0m\u001b[0;36m1\u001b[0m\u001b[0;34m]\u001b[0m\u001b[0;34m[\u001b[0m\u001b[0;36m55\u001b[0m\u001b[0;34m]\u001b[0m\u001b[0;34m)\u001b[0m\u001b[0;34m)\u001b[0m\u001b[0;34m)\u001b[0m\u001b[0;34m\u001b[0m\u001b[0;34m\u001b[0m\u001b[0m\n",
      "\u001b[0;31mIndexError\u001b[0m: list index out of range"
     ]
    }
   ],
   "source": [
    "print (result[0][0][1] + \"-\" + result[0][0][55] + \" -> \" + str(1-(result[0][1][1]/result[0][1][55])))\n",
    "print (result[0][0][1] + \"-\" + result[0][0][20] + \" -> \" + str(1-(result[0][1][1]/result[0][1][20])))\n",
    "print (result[0][0][20] + \"-\" + result[0][0][40] + \" -> \" + str(1-(result[0][1][20]/result[0][1][40])))\n",
    "print (result[0][0][40] + \"-\" + result[0][0][5] + \" -> \" + str(1-(result[0][1][40]/result[0][1][55])))"
   ]
  },
  {
   "cell_type": "markdown",
   "metadata": {
    "slideshow": {
     "slide_type": "slide"
    }
   },
   "source": [
    "# Growth rates\n",
    "\n",
    "1963-2017 -> 73%\n",
    "\n",
    "1963-1982 -> 37%\n",
    "\n",
    "1982-2002 -> 40%\n",
    "\n",
    "2002-2017 -> 29%"
   ]
  },
  {
   "cell_type": "code",
   "execution_count": 8,
   "metadata": {
    "scrolled": true,
    "slideshow": {
     "slide_type": "slide"
    }
   },
   "outputs": [
    {
     "name": "stdout",
     "output_type": "stream",
     "text": [
      "Updating SP.POP.GROW from server.\n"
     ]
    },
    {
     "data": {
      "text/html": [
       "\n",
       "\n",
       "\n",
       "\n",
       "\n",
       "\n",
       "  <div class=\"bk-root\" id=\"373c5803-4a68-44a8-a5a8-4dfc4c0dfece\" data-root-id=\"1215\"></div>\n"
      ]
     },
     "metadata": {},
     "output_type": "display_data"
    },
    {
     "data": {
      "application/javascript": [
       "(function(root) {\n",
       "  function embed_document(root) {\n",
       "    \n",
       "  var docs_json = {\"d82dd280-5c14-4ffb-8bd7-dc3482f718f4\":{\"roots\":{\"references\":[{\"attributes\":{\"below\":[{\"id\":\"1226\",\"type\":\"LinearAxis\"}],\"center\":[{\"id\":\"1230\",\"type\":\"Grid\"},{\"id\":\"1235\",\"type\":\"Grid\"},{\"id\":\"1260\",\"type\":\"Legend\"}],\"left\":[{\"id\":\"1231\",\"type\":\"LinearAxis\"}],\"plot_height\":400,\"plot_width\":1000,\"renderers\":[{\"id\":\"1252\",\"type\":\"GlyphRenderer\"},{\"id\":\"1265\",\"type\":\"GlyphRenderer\"},{\"id\":\"1270\",\"type\":\"GlyphRenderer\"},{\"id\":\"1286\",\"type\":\"GlyphRenderer\"},{\"id\":\"1291\",\"type\":\"GlyphRenderer\"},{\"id\":\"1311\",\"type\":\"GlyphRenderer\"}],\"title\":{\"id\":\"1216\",\"type\":\"Title\"},\"toolbar\":{\"id\":\"1242\",\"type\":\"Toolbar\"},\"x_range\":{\"id\":\"1218\",\"type\":\"DataRange1d\"},\"x_scale\":{\"id\":\"1222\",\"type\":\"LinearScale\"},\"y_range\":{\"id\":\"1220\",\"type\":\"DataRange1d\"},\"y_scale\":{\"id\":\"1224\",\"type\":\"LinearScale\"}},\"id\":\"1215\",\"subtype\":\"Figure\",\"type\":\"Plot\"},{\"attributes\":{},\"id\":\"1277\",\"type\":\"Selection\"},{\"attributes\":{},\"id\":\"1278\",\"type\":\"UnionRenderers\"},{\"attributes\":{\"text\":\"Population growth (annual %) weighted against Population, total\"},\"id\":\"1216\",\"type\":\"Title\"},{\"attributes\":{\"data_source\":{\"id\":\"1249\",\"type\":\"ColumnDataSource\"},\"glyph\":{\"id\":\"1250\",\"type\":\"Line\"},\"hover_glyph\":null,\"muted_glyph\":null,\"nonselection_glyph\":{\"id\":\"1251\",\"type\":\"Line\"},\"selection_glyph\":null,\"view\":{\"id\":\"1253\",\"type\":\"CDSView\"}},\"id\":\"1252\",\"type\":\"GlyphRenderer\"},{\"attributes\":{\"callback\":null},\"id\":\"1218\",\"type\":\"DataRange1d\"},{\"attributes\":{},\"id\":\"1227\",\"type\":\"BasicTicker\"},{\"attributes\":{},\"id\":\"1302\",\"type\":\"Selection\"},{\"attributes\":{},\"id\":\"1303\",\"type\":\"UnionRenderers\"},{\"attributes\":{},\"id\":\"1345\",\"type\":\"Selection\"},{\"attributes\":{\"axis_label\":\"Years\",\"formatter\":{\"id\":\"1257\",\"type\":\"BasicTickFormatter\"},\"ticker\":{\"id\":\"1227\",\"type\":\"BasicTicker\"}},\"id\":\"1226\",\"type\":\"LinearAxis\"},{\"attributes\":{},\"id\":\"1279\",\"type\":\"Selection\"},{\"attributes\":{},\"id\":\"1346\",\"type\":\"UnionRenderers\"},{\"attributes\":{\"dimension\":1,\"grid_line_alpha\":0.5,\"ticker\":{\"id\":\"1232\",\"type\":\"BasicTicker\"}},\"id\":\"1235\",\"type\":\"Grid\"},{\"attributes\":{\"fill_alpha\":{\"value\":0.1},\"fill_color\":{\"value\":\"#1f77b4\"},\"line_alpha\":{\"value\":0.1},\"line_color\":{\"value\":\"#1f77b4\"},\"size\":{\"units\":\"screen\",\"value\":1},\"x\":{\"field\":\"x\"},\"y\":{\"field\":\"y\"}},\"id\":\"1264\",\"type\":\"Circle\"},{\"attributes\":{},\"id\":\"1280\",\"type\":\"UnionRenderers\"},{\"attributes\":{},\"id\":\"1224\",\"type\":\"LinearScale\"},{\"attributes\":{\"callback\":null},\"id\":\"1220\",\"type\":\"DataRange1d\"},{\"attributes\":{\"line_color\":\"#5430F1\",\"line_width\":3,\"x\":{\"field\":\"x\"},\"y\":{\"field\":\"y\"}},\"id\":\"1268\",\"type\":\"Line\"},{\"attributes\":{},\"id\":\"1222\",\"type\":\"LinearScale\"},{\"attributes\":{\"grid_line_color\":null,\"ticker\":{\"id\":\"1227\",\"type\":\"BasicTicker\"}},\"id\":\"1230\",\"type\":\"Grid\"},{\"attributes\":{\"callback\":null,\"data\":{\"x\":[\"2011\",\"2012\",\"2013\",\"2014\",\"2015\",\"2016\",\"2017\",\"2018\"],\"y\":[2.3266992480463013,2.3397184240072226,2.3448171148647408,2.343459596932034,2.33706688897366,2.329409894860727,2.3211985526426835,2.3096654123975893]},\"selected\":{\"id\":\"1279\",\"type\":\"Selection\"},\"selection_policy\":{\"id\":\"1280\",\"type\":\"UnionRenderers\"}},\"id\":\"1262\",\"type\":\"ColumnDataSource\"},{\"attributes\":{},\"id\":\"1232\",\"type\":\"BasicTicker\"},{\"attributes\":{\"source\":{\"id\":\"1262\",\"type\":\"ColumnDataSource\"}},\"id\":\"1266\",\"type\":\"CDSView\"},{\"attributes\":{},\"id\":\"1255\",\"type\":\"BasicTickFormatter\"},{\"attributes\":{\"fill_color\":{\"value\":\"#FA1857\"},\"line_color\":{\"value\":\"#FA1857\"},\"size\":{\"units\":\"screen\",\"value\":1},\"x\":{\"field\":\"x\"},\"y\":{\"field\":\"y\"}},\"id\":\"1263\",\"type\":\"Circle\"},{\"attributes\":{},\"id\":\"1304\",\"type\":\"Selection\"},{\"attributes\":{\"axis_label\":\"SP.POP.GROW\",\"formatter\":{\"id\":\"1255\",\"type\":\"BasicTickFormatter\"},\"ticker\":{\"id\":\"1232\",\"type\":\"BasicTicker\"}},\"id\":\"1231\",\"type\":\"LinearAxis\"},{\"attributes\":{\"callback\":null,\"data\":{\"x\":[\"2011\",\"2012\",\"2013\",\"2014\",\"2015\",\"2016\",\"2017\",\"2018\"],\"y\":[1.2163273086331117,1.1965996983573604,1.1873045989925284,1.1754398599289038,1.1573683976427818,1.1485195896511564,1.1315610485739276,1.0792063375631593]},\"selected\":{\"id\":\"1302\",\"type\":\"Selection\"},\"selection_policy\":{\"id\":\"1303\",\"type\":\"UnionRenderers\"}},\"id\":\"1267\",\"type\":\"ColumnDataSource\"},{\"attributes\":{},\"id\":\"1305\",\"type\":\"UnionRenderers\"},{\"attributes\":{\"data_source\":{\"id\":\"1262\",\"type\":\"ColumnDataSource\"},\"glyph\":{\"id\":\"1263\",\"type\":\"Circle\"},\"hover_glyph\":null,\"muted_glyph\":null,\"nonselection_glyph\":{\"id\":\"1264\",\"type\":\"Circle\"},\"selection_glyph\":null,\"view\":{\"id\":\"1266\",\"type\":\"CDSView\"}},\"id\":\"1265\",\"type\":\"GlyphRenderer\"},{\"attributes\":{},\"id\":\"1237\",\"type\":\"WheelZoomTool\"},{\"attributes\":{},\"id\":\"1347\",\"type\":\"Selection\"},{\"attributes\":{\"data_source\":{\"id\":\"1267\",\"type\":\"ColumnDataSource\"},\"glyph\":{\"id\":\"1268\",\"type\":\"Line\"},\"hover_glyph\":null,\"muted_glyph\":null,\"nonselection_glyph\":{\"id\":\"1269\",\"type\":\"Line\"},\"selection_glyph\":null,\"view\":{\"id\":\"1271\",\"type\":\"CDSView\"}},\"id\":\"1270\",\"type\":\"GlyphRenderer\"},{\"attributes\":{\"active_drag\":\"auto\",\"active_inspect\":\"auto\",\"active_multi\":null,\"active_scroll\":\"auto\",\"active_tap\":\"auto\",\"tools\":[{\"id\":\"1236\",\"type\":\"PanTool\"},{\"id\":\"1237\",\"type\":\"WheelZoomTool\"},{\"id\":\"1238\",\"type\":\"BoxZoomTool\"},{\"id\":\"1239\",\"type\":\"SaveTool\"},{\"id\":\"1240\",\"type\":\"ResetTool\"},{\"id\":\"1241\",\"type\":\"HelpTool\"},{\"id\":\"1313\",\"type\":\"HoverTool\"}]},\"id\":\"1242\",\"type\":\"Toolbar\"},{\"attributes\":{\"fill_alpha\":{\"value\":0.1},\"fill_color\":{\"value\":\"#1f77b4\"},\"line_alpha\":{\"value\":0.1},\"line_color\":{\"value\":\"#1f77b4\"},\"size\":{\"units\":\"screen\",\"value\":1},\"x\":{\"field\":\"x\"},\"y\":{\"field\":\"y\"}},\"id\":\"1285\",\"type\":\"Circle\"},{\"attributes\":{\"line_color\":\"#2CC775\",\"line_width\":3,\"x\":{\"field\":\"x\"},\"y\":{\"field\":\"y\"}},\"id\":\"1289\",\"type\":\"Line\"},{\"attributes\":{},\"id\":\"1236\",\"type\":\"PanTool\"},{\"attributes\":{},\"id\":\"1348\",\"type\":\"UnionRenderers\"},{\"attributes\":{\"fill_color\":{\"value\":\"#2CC775\"},\"line_color\":{\"value\":\"#2CC775\"},\"size\":{\"units\":\"screen\",\"value\":1},\"x\":{\"field\":\"x\"},\"y\":{\"field\":\"y\"}},\"id\":\"1309\",\"type\":\"Circle\"},{\"attributes\":{\"source\":{\"id\":\"1267\",\"type\":\"ColumnDataSource\"}},\"id\":\"1271\",\"type\":\"CDSView\"},{\"attributes\":{\"callback\":null,\"data\":{\"x\":[\"2011\",\"2012\",\"2013\",\"2014\",\"2015\",\"2016\",\"2017\",\"2018\"],\"y\":[1.2163273086331117,1.1965996983573604,1.1873045989925284,1.1754398599289038,1.1573683976427818,1.1485195896511564,1.1315610485739276,1.0792063375631593]},\"selected\":{\"id\":\"1304\",\"type\":\"Selection\"},\"selection_policy\":{\"id\":\"1305\",\"type\":\"UnionRenderers\"}},\"id\":\"1283\",\"type\":\"ColumnDataSource\"},{\"attributes\":{},\"id\":\"1241\",\"type\":\"HelpTool\"},{\"attributes\":{\"line_alpha\":0.1,\"line_color\":\"#1f77b4\",\"line_width\":3,\"x\":{\"field\":\"x\"},\"y\":{\"field\":\"y\"}},\"id\":\"1269\",\"type\":\"Line\"},{\"attributes\":{\"source\":{\"id\":\"1283\",\"type\":\"ColumnDataSource\"}},\"id\":\"1287\",\"type\":\"CDSView\"},{\"attributes\":{\"overlay\":{\"id\":\"1259\",\"type\":\"BoxAnnotation\"}},\"id\":\"1238\",\"type\":\"BoxZoomTool\"},{\"attributes\":{},\"id\":\"1239\",\"type\":\"SaveTool\"},{\"attributes\":{\"fill_color\":{\"value\":\"#5430F1\"},\"line_color\":{\"value\":\"#5430F1\"},\"size\":{\"units\":\"screen\",\"value\":1},\"x\":{\"field\":\"x\"},\"y\":{\"field\":\"y\"}},\"id\":\"1284\",\"type\":\"Circle\"},{\"attributes\":{\"label\":{\"value\":\"Developing excluding LDCs\"},\"renderers\":[{\"id\":\"1270\",\"type\":\"GlyphRenderer\"}]},\"id\":\"1282\",\"type\":\"LegendItem\"},{\"attributes\":{},\"id\":\"1240\",\"type\":\"ResetTool\"},{\"attributes\":{},\"id\":\"1257\",\"type\":\"BasicTickFormatter\"},{\"attributes\":{\"callback\":null,\"data\":{\"x\":[\"2011\",\"2012\",\"2013\",\"2014\",\"2015\",\"2016\",\"2017\",\"2018\"],\"y\":[2.3266992480463013,2.3397184240072226,2.3448171148647408,2.343459596932034,2.33706688897366,2.329409894860727,2.3211985526426835,2.3096654123975893]},\"selected\":{\"id\":\"1277\",\"type\":\"Selection\"},\"selection_policy\":{\"id\":\"1278\",\"type\":\"UnionRenderers\"}},\"id\":\"1249\",\"type\":\"ColumnDataSource\"},{\"attributes\":{\"callback\":null,\"data\":{\"x\":[\"2011\",\"2012\",\"2013\",\"2014\",\"2015\",\"2016\",\"2017\",\"2018\"],\"y\":[0.5010345900600076,0.6145947197826909,0.6361048346767268,0.6591659962316119,0.6463311041635733,0.6504088384393314,0.5845348434731328,0.5675381450205147]},\"selected\":{\"id\":\"1345\",\"type\":\"Selection\"},\"selection_policy\":{\"id\":\"1346\",\"type\":\"UnionRenderers\"}},\"id\":\"1288\",\"type\":\"ColumnDataSource\"},{\"attributes\":{\"data_source\":{\"id\":\"1283\",\"type\":\"ColumnDataSource\"},\"glyph\":{\"id\":\"1284\",\"type\":\"Circle\"},\"hover_glyph\":null,\"muted_glyph\":null,\"nonselection_glyph\":{\"id\":\"1285\",\"type\":\"Circle\"},\"selection_glyph\":null,\"view\":{\"id\":\"1287\",\"type\":\"CDSView\"}},\"id\":\"1286\",\"type\":\"GlyphRenderer\"},{\"attributes\":{\"callback\":null,\"tooltips\":\"                \\n        <div style=padding=5px>Year:@x</div>\\n        <div style=padding=5px>Value:@y</div>        \\n        \"},\"id\":\"1313\",\"type\":\"HoverTool\"},{\"attributes\":{\"data_source\":{\"id\":\"1288\",\"type\":\"ColumnDataSource\"},\"glyph\":{\"id\":\"1289\",\"type\":\"Line\"},\"hover_glyph\":null,\"muted_glyph\":null,\"nonselection_glyph\":{\"id\":\"1290\",\"type\":\"Line\"},\"selection_glyph\":null,\"view\":{\"id\":\"1292\",\"type\":\"CDSView\"}},\"id\":\"1291\",\"type\":\"GlyphRenderer\"},{\"attributes\":{\"line_color\":\"#FA1857\",\"line_width\":3,\"x\":{\"field\":\"x\"},\"y\":{\"field\":\"y\"}},\"id\":\"1250\",\"type\":\"Line\"},{\"attributes\":{\"callback\":null,\"data\":{\"x\":[\"2011\",\"2012\",\"2013\",\"2014\",\"2015\",\"2016\",\"2017\",\"2018\"],\"y\":[0.5010345900600076,0.6145947197826909,0.6361048346767268,0.6591659962316119,0.6463311041635733,0.6504088384393314,0.5845348434731328,0.5675381450205147]},\"selected\":{\"id\":\"1347\",\"type\":\"Selection\"},\"selection_policy\":{\"id\":\"1348\",\"type\":\"UnionRenderers\"}},\"id\":\"1308\",\"type\":\"ColumnDataSource\"},{\"attributes\":{\"source\":{\"id\":\"1288\",\"type\":\"ColumnDataSource\"}},\"id\":\"1292\",\"type\":\"CDSView\"},{\"attributes\":{\"bottom_units\":\"screen\",\"fill_alpha\":{\"value\":0.5},\"fill_color\":{\"value\":\"lightgrey\"},\"left_units\":\"screen\",\"level\":\"overlay\",\"line_alpha\":{\"value\":1.0},\"line_color\":{\"value\":\"black\"},\"line_dash\":[4,4],\"line_width\":{\"value\":2},\"render_mode\":\"css\",\"right_units\":\"screen\",\"top_units\":\"screen\"},\"id\":\"1259\",\"type\":\"BoxAnnotation\"},{\"attributes\":{\"fill_alpha\":{\"value\":0.1},\"fill_color\":{\"value\":\"#1f77b4\"},\"line_alpha\":{\"value\":0.1},\"line_color\":{\"value\":\"#1f77b4\"},\"size\":{\"units\":\"screen\",\"value\":1},\"x\":{\"field\":\"x\"},\"y\":{\"field\":\"y\"}},\"id\":\"1310\",\"type\":\"Circle\"},{\"attributes\":{\"line_alpha\":0.1,\"line_color\":\"#1f77b4\",\"line_width\":3,\"x\":{\"field\":\"x\"},\"y\":{\"field\":\"y\"}},\"id\":\"1290\",\"type\":\"Line\"},{\"attributes\":{\"label\":{\"value\":\"LDCs\"},\"renderers\":[{\"id\":\"1252\",\"type\":\"GlyphRenderer\"}]},\"id\":\"1261\",\"type\":\"LegendItem\"},{\"attributes\":{\"source\":{\"id\":\"1249\",\"type\":\"ColumnDataSource\"}},\"id\":\"1253\",\"type\":\"CDSView\"},{\"attributes\":{\"source\":{\"id\":\"1308\",\"type\":\"ColumnDataSource\"}},\"id\":\"1312\",\"type\":\"CDSView\"},{\"attributes\":{\"label\":{\"value\":\"OECD\"},\"renderers\":[{\"id\":\"1291\",\"type\":\"GlyphRenderer\"}]},\"id\":\"1307\",\"type\":\"LegendItem\"},{\"attributes\":{\"line_alpha\":0.1,\"line_color\":\"#1f77b4\",\"line_width\":3,\"x\":{\"field\":\"x\"},\"y\":{\"field\":\"y\"}},\"id\":\"1251\",\"type\":\"Line\"},{\"attributes\":{\"items\":[{\"id\":\"1261\",\"type\":\"LegendItem\"},{\"id\":\"1282\",\"type\":\"LegendItem\"},{\"id\":\"1307\",\"type\":\"LegendItem\"}],\"location\":\"bottom_left\"},\"id\":\"1260\",\"type\":\"Legend\"},{\"attributes\":{\"data_source\":{\"id\":\"1308\",\"type\":\"ColumnDataSource\"},\"glyph\":{\"id\":\"1309\",\"type\":\"Circle\"},\"hover_glyph\":null,\"muted_glyph\":null,\"nonselection_glyph\":{\"id\":\"1310\",\"type\":\"Circle\"},\"selection_glyph\":null,\"view\":{\"id\":\"1312\",\"type\":\"CDSView\"}},\"id\":\"1311\",\"type\":\"GlyphRenderer\"}],\"root_ids\":[\"1215\"]},\"title\":\"Bokeh Application\",\"version\":\"1.4.0\"}};\n",
       "  var render_items = [{\"docid\":\"d82dd280-5c14-4ffb-8bd7-dc3482f718f4\",\"roots\":{\"1215\":\"373c5803-4a68-44a8-a5a8-4dfc4c0dfece\"}}];\n",
       "  root.Bokeh.embed.embed_items_notebook(docs_json, render_items);\n",
       "\n",
       "  }\n",
       "  if (root.Bokeh !== undefined) {\n",
       "    embed_document(root);\n",
       "  } else {\n",
       "    var attempts = 0;\n",
       "    var timer = setInterval(function(root) {\n",
       "      if (root.Bokeh !== undefined) {\n",
       "        clearInterval(timer);\n",
       "        embed_document(root);\n",
       "      } else {\n",
       "        attempts++;\n",
       "        if (attempts > 100) {\n",
       "          clearInterval(timer);\n",
       "          console.log(\"Bokeh: ERROR: Unable to run BokehJS code because BokehJS library is missing\");\n",
       "        }\n",
       "      }\n",
       "    }, 10, root)\n",
       "  }\n",
       "})(window);"
      ],
      "application/vnd.bokehjs_exec.v0+json": ""
     },
     "metadata": {
      "application/vnd.bokehjs_exec.v0+json": {
       "id": "1215"
      }
     },
     "output_type": "display_data"
    }
   ],
   "source": [
    "# Population growth\n",
    "result = show_weighted_average(years, 'SP.POP.GROW', 'SP.POP.TOTL', \n",
    "                               ['LDCs', 'Developing excluding LDCs', 'OECD'], \n",
    "                                height=400, width=1000, line_width=3)"
   ]
  },
  {
   "cell_type": "markdown",
   "metadata": {
    "slideshow": {
     "slide_type": "slide"
    }
   },
   "source": [
    "# Average population growth in the LDCs is almost double than for other developing countries"
   ]
  },
  {
   "cell_type": "code",
   "execution_count": null,
   "metadata": {
    "slideshow": {
     "slide_type": "slide"
    }
   },
   "outputs": [],
   "source": [
    "# GDP growth\n",
    "years = list(map(str, list(range(1970,2017))))\n",
    "result = show_weighted_average(years, 'NY.GDP.MKTP.KD.ZG', 'NY.GDP.MKTP.CD', \n",
    "                               ['LDCs', 'Developing excluding LDCs', 'OECD'], \n",
    "                                height=400, width=1000, line_width=2, marker_width = 4)"
   ]
  },
  {
   "cell_type": "markdown",
   "metadata": {
    "slideshow": {
     "slide_type": "slide"
    }
   },
   "source": [
    "# Economic and demographic growth are closely intertwined\n",
    "\n",
    "# Accelerating poverty erradication requires higher growth rates (The IPoA set a target of 7%)\n",
    "\n",
    "# Economic growth should facilitate the process of economic transformation and support poverty erradication"
   ]
  },
  {
   "cell_type": "code",
   "execution_count": null,
   "metadata": {
    "ExecuteTime": {
     "end_time": "2019-10-25T14:23:48.553769Z",
     "start_time": "2019-10-25T14:23:47.482012Z"
    },
    "slideshow": {
     "slide_type": "slide"
    }
   },
   "outputs": [],
   "source": [
    "show(line_chart(gpp(['LDCs']), \"Projected population, thousands\", dataset='all',\n",
    "                x_axis_label='Years', y_axis_label='Projected population, thousands', \n",
    "                height=400, width=1000, line_width=3))"
   ]
  },
  {
   "cell_type": "code",
   "execution_count": null,
   "metadata": {
    "slideshow": {
     "slide_type": "slide"
    }
   },
   "outputs": [],
   "source": [
    "show(line_chart(sources.unpd.indicators.get_projection_by_groups(['LDCs', 'Developing excluding LDCs'], \n",
    "                                                                 dataset='0-24'), \"Projected population, thousands\", x_axis_label='Years', y_axis_label='Projected population, 0-24, thousands', height=400, width=1000, line_width=4))"
   ]
  },
  {
   "cell_type": "code",
   "execution_count": null,
   "metadata": {
    "ExecuteTime": {
     "end_time": "2019-10-25T14:24:54.398684Z",
     "start_time": "2019-10-25T14:24:52.791475Z"
    },
    "slideshow": {
     "slide_type": "slide"
    }
   },
   "outputs": [],
   "source": [
    "show(line_chart(gpp(['LDCs', 'Developing excluding LDCs', 'OECD']), \n",
    "                \"Projected population, thousands\", x_axis_label='Years', \n",
    "                y_axis_label='Projected population, thousands', height=400, line_width=3,width=900))"
   ]
  },
  {
   "cell_type": "code",
   "execution_count": null,
   "metadata": {
    "ExecuteTime": {
     "end_time": "2019-10-25T14:24:45.413121Z",
     "start_time": "2019-10-25T14:23:48.680578Z"
    },
    "slideshow": {
     "slide_type": "slide"
    }
   },
   "outputs": [],
   "source": [
    "years = list(map(str, list(range(1962,2018))))\n",
    "# Rural population as a percentage of total population\n",
    "result = show_weighted_average(years, 'SP.RUR.TOTL.ZS', 'SP.POP.TOTL', \n",
    "                               ['LDCs', 'Developing excluding LDCs', 'OECD'], \n",
    "                                height=400, width=1000, line_width=3)"
   ]
  },
  {
   "cell_type": "code",
   "execution_count": null,
   "metadata": {
    "slideshow": {
     "slide_type": "slide"
    }
   },
   "outputs": [],
   "source": [
    "years = list(map(str, list(range(2010,2018))))\n",
    "result = show_weighted_average(years, 'NV.AGR.TOTL.ZS', 'SP.RUR.TOTL', \n",
    "                               ['LDCs', 'Developing excluding LDCs', 'OECD'], \n",
    "                                height=400, width=1000, line_width=4)"
   ]
  },
  {
   "cell_type": "code",
   "execution_count": null,
   "metadata": {
    "ExecuteTime": {
     "end_time": "2019-10-25T14:24:46.376641Z",
     "start_time": "2019-10-25T14:24:45.418470Z"
    },
    "slideshow": {
     "slide_type": "slide"
    }
   },
   "outputs": [],
   "source": [
    "result = show_group_total(years, 'SP.RUR.TOTL', ['LDCs'], \n",
    "                                height=400, width=1000, line_width=4)"
   ]
  },
  {
   "cell_type": "markdown",
   "metadata": {
    "slideshow": {
     "slide_type": "slide"
    }
   },
   "source": [
    "# Rural job creation is crucial for poverty eradication\n",
    "\n",
    " + Smallholder population have an important role in achieving food security\n",
    "\n",
    " + Importance of synergies between urban and rural development\n",
    "\n",
    " + The majority of the population lives in rural areas in LDCs, yet agriculture generates less than 30% of GDP"
   ]
  },
  {
   "cell_type": "code",
   "execution_count": null,
   "metadata": {
    "ExecuteTime": {
     "end_time": "2019-10-25T14:24:52.788910Z",
     "start_time": "2019-10-25T14:24:46.379697Z"
    },
    "slideshow": {
     "slide_type": "slide"
    }
   },
   "outputs": [],
   "source": [
    "years = list(map(str, list(range(2000,2018))))\n",
    "# Population 0-14\n",
    "result = show_weighted_average(years, 'SP.POP.0014.TO.ZS', 'SP.POP.TOTL', \n",
    "                               ['LDCs', 'Developing excluding LDCs', 'OECD'], \n",
    "                                height=400, width=1000, line_width=4)"
   ]
  },
  {
   "cell_type": "code",
   "execution_count": null,
   "metadata": {
    "slideshow": {
     "slide_type": "slide"
    }
   },
   "outputs": [],
   "source": [
    "d = sources.unpd.indicators.get_age_group_by_country_groups(\"0-29\", ['LDCs'])\n",
    "show(line_chart(d, d[0][3], x_axis_label=\"Years\", y_axis_label='Population below 30', height=400, \n",
    "                width=900, line_width=4))"
   ]
  },
  {
   "cell_type": "code",
   "execution_count": null,
   "metadata": {
    "ExecuteTime": {
     "end_time": "2019-10-25T14:24:58.884216Z",
     "start_time": "2019-10-25T14:24:54.401294Z"
    },
    "slideshow": {
     "slide_type": "slide"
    }
   },
   "outputs": [],
   "source": [
    "# Prevalence of undernourishment (% of population)\n",
    "years = list(map(str, list(range(2000,2018))))\n",
    "result = show_weighted_average(years, 'SN.ITK.DEFC.ZS', 'SP.POP.TOTL', \n",
    "                               ['LDCs', 'Developing excluding LDCs', 'OECD'], \n",
    "                                height=400, width=1000, line_width=3)"
   ]
  },
  {
   "cell_type": "code",
   "execution_count": null,
   "metadata": {
    "ExecuteTime": {
     "end_time": "2019-10-25T14:25:03.855925Z",
     "start_time": "2019-10-25T14:24:58.886407Z"
    },
    "slideshow": {
     "slide_type": "slide"
    }
   },
   "outputs": [],
   "source": [
    "# Food imports as a percentage of merchandise imports\n",
    "years = list(map(str, list(range(2000,2018))))\n",
    "result = show_weighted_average(years, 'TM.VAL.FOOD.ZS.UN', 'TM.VAL.MRCH.CD.WT', \n",
    "                               ['LDCs', 'Developing excluding LDCs', 'OECD'], \n",
    "                                height=400, width=1000, line_width=3)"
   ]
  },
  {
   "cell_type": "code",
   "execution_count": null,
   "metadata": {
    "ExecuteTime": {
     "end_time": "2019-10-25T14:25:08.896422Z",
     "start_time": "2019-10-25T14:25:03.862619Z"
    },
    "slideshow": {
     "slide_type": "slide"
    }
   },
   "outputs": [],
   "source": [
    "# Vulnerable employment\n",
    "years = list(map(str, list(range(2000,2018))))\n",
    "result = show_weighted_average(years, 'SL.EMP.VULN.ZS', 'SP.POP.TOTL', \n",
    "                               ['LDCs', 'Developing excluding LDCs', 'OECD'], \n",
    "                                height=400, width=1000, line_width=3)"
   ]
  },
  {
   "cell_type": "code",
   "execution_count": null,
   "metadata": {
    "ExecuteTime": {
     "end_time": "2019-10-25T14:25:14.112300Z",
     "start_time": "2019-10-25T14:25:08.899437Z"
    },
    "slideshow": {
     "slide_type": "slide"
    }
   },
   "outputs": [],
   "source": [
    "# Female vulnerable employment\n",
    "years = list(map(str, list(range(2000,2018))))\n",
    "result = show_weighted_average(years, 'SL.EMP.VULN.FE.ZS', 'SL.TLF.TOTL.IN', \n",
    "                               ['LDCs', 'Developing excluding LDCs', 'OECD'], \n",
    "                                height=400, width=1000, line_width=3)"
   ]
  },
  {
   "cell_type": "code",
   "execution_count": null,
   "metadata": {
    "ExecuteTime": {
     "end_time": "2019-10-25T14:25:19.414594Z",
     "start_time": "2019-10-25T14:25:14.115306Z"
    },
    "slideshow": {
     "slide_type": "slide"
    }
   },
   "outputs": [],
   "source": [
    "# Male vulnerable employment\n",
    "years = list(map(str, list(range(2000,2018))))\n",
    "result = show_weighted_average(years, 'SL.EMP.VULN.MA.ZS', 'SL.TLF.TOTL.IN', \n",
    "                               ['LDCs', 'Developing excluding LDCs', 'OECD'], \n",
    "                                height=400, width=1000, line_width=4)"
   ]
  },
  {
   "cell_type": "code",
   "execution_count": null,
   "metadata": {
    "ExecuteTime": {
     "end_time": "2019-10-25T14:25:24.083516Z",
     "start_time": "2019-10-25T14:25:19.417499Z"
    },
    "slideshow": {
     "slide_type": "slide"
    }
   },
   "outputs": [],
   "source": [
    "# Life expectancy\n",
    "years = list(map(str, list(range(2000,2018))))\n",
    "result = show_weighted_average(years, 'SP.DYN.LE00.IN', 'SP.POP.TOTL', \n",
    "                               ['LDCs', 'Developing excluding LDCs', 'OECD'], \n",
    "                                height=400, width=1000, line_width=3)"
   ]
  },
  {
   "cell_type": "code",
   "execution_count": null,
   "metadata": {
    "ExecuteTime": {
     "end_time": "2019-10-25T14:25:28.872290Z",
     "start_time": "2019-10-25T14:25:24.086081Z"
    },
    "slideshow": {
     "slide_type": "slide"
    }
   },
   "outputs": [],
   "source": [
    "# Female life expectancy\n",
    "years = list(map(str, list(range(2000,2018))))\n",
    "result = show_weighted_average(years, 'SP.DYN.LE00.FE.IN', 'SP.RUR.TOTL', \n",
    "                               ['LDCs', 'Developing excluding LDCs', 'OECD'], \n",
    "                                height=400, width=1000, line_width=4)"
   ]
  },
  {
   "cell_type": "code",
   "execution_count": null,
   "metadata": {
    "ExecuteTime": {
     "end_time": "2019-10-25T14:25:33.233720Z",
     "start_time": "2019-10-25T14:25:28.874728Z"
    },
    "slideshow": {
     "slide_type": "slide"
    }
   },
   "outputs": [],
   "source": [
    "# Maternal mortality ratio\n",
    "years = list(map(str, list(range(2000,2018))))\n",
    "result = show_weighted_average(years, 'SH.STA.MMRT', 'SP.POP.TOTL.FE.IN', ['LDCs', 'Developing excluding LDCs'], \n",
    "                                height=400, width=1000, line_width=3)"
   ]
  },
  {
   "cell_type": "code",
   "execution_count": null,
   "metadata": {
    "ExecuteTime": {
     "end_time": "2019-10-25T14:25:37.466675Z",
     "start_time": "2019-10-25T14:25:33.236157Z"
    },
    "slideshow": {
     "slide_type": "slide"
    }
   },
   "outputs": [],
   "source": [
    "# Infant mortality rate\n",
    "years = list(map(str, list(range(2000,2018))))\n",
    "result = show_weighted_average(years, 'SP.DYN.IMRT.IN', 'SP.POP.TOTL', ['LDCs', 'Developing excluding LDCs'], \n",
    "                                height=400, width=1000, line_width=4)"
   ]
  },
  {
   "cell_type": "markdown",
   "metadata": {
    "slideshow": {
     "slide_type": "slide"
    }
   },
   "source": [
    "# Lack of dissagregated gender data is a problem\n",
    "\n",
    "\n",
    "# Gender responsive development planning\n",
    "\n",
    "\n",
    "# Great progress of political representation of women in parliament\n",
    "\n",
    "\n",
    "# Important to promote the representation of women in other domains and across social groups"
   ]
  },
  {
   "cell_type": "markdown",
   "metadata": {
    "slideshow": {
     "slide_type": "slide"
    }
   },
   "source": [
    "# Education and training"
   ]
  },
  {
   "cell_type": "code",
   "execution_count": null,
   "metadata": {
    "slideshow": {
     "slide_type": "slide"
    }
   },
   "outputs": [],
   "source": [
    "# School enrollment, primary\n",
    "years = list(map(str, list(range(2010,2018))))\n",
    "result = show_weighted_average(years, 'SE.PRM.ENRR', 'SP.POP.TOTL', \n",
    "                                ['LDCs', 'Developing excluding LDCs'], \n",
    "                                height=400, width=1000, line_width=3)"
   ]
  },
  {
   "cell_type": "code",
   "execution_count": null,
   "metadata": {
    "slideshow": {
     "slide_type": "slide"
    }
   },
   "outputs": [],
   "source": [
    "# School enrollment, secondary\n",
    "years = list(map(str, list(range(2010,2018))))\n",
    "result = show_weighted_average(years, 'SE.SEC.ENRR', 'SP.POP.TOTL', \n",
    "                               ['LDCs', 'Developing excluding LDCs'], \n",
    "                                height=400, width=1000, line_width=3)"
   ]
  },
  {
   "cell_type": "code",
   "execution_count": null,
   "metadata": {
    "ExecuteTime": {
     "end_time": "2019-10-25T14:25:38.329630Z",
     "start_time": "2019-10-25T14:25:37.469130Z"
    },
    "slideshow": {
     "slide_type": "slide"
    }
   },
   "outputs": [],
   "source": [
    "# School enrollment, tertiary\n",
    "years = list(map(str, list(range(2010,2015))))\n",
    "result = show_weighted_average(years, 'SE.TER.ENRR', 'SP.POP.TOTL', \n",
    "                               ['LDCs', 'Developing excluding LDCs', 'OECD', 'UMICs'], \n",
    "                                height=400, width=1000, line_width=3)"
   ]
  },
  {
   "cell_type": "code",
   "execution_count": null,
   "metadata": {
    "ExecuteTime": {
     "end_time": "2019-10-25T14:25:43.236189Z",
     "start_time": "2019-10-25T14:25:38.332666Z"
    },
    "slideshow": {
     "slide_type": "slide"
    }
   },
   "outputs": [],
   "source": [
    "# Pupil teacher ratio\n",
    "years = list(map(str, list(range(2000,2018))))\n",
    "result = show_weighted_average(years, 'SE.PRM.ENRL.TC.ZS', 'SP.POP.TOTL', \n",
    "                               ['LDCs', 'Developing excluding LDCs'], \n",
    "                                height=400, width=1000, line_width=4)"
   ]
  },
  {
   "cell_type": "code",
   "execution_count": null,
   "metadata": {
    "ExecuteTime": {
     "end_time": "2019-10-25T14:25:45.212387Z",
     "start_time": "2019-10-25T14:25:43.238485Z"
    },
    "scrolled": true,
    "slideshow": {
     "slide_type": "slide"
    }
   },
   "outputs": [],
   "source": [
    "# Trained teachers in primary\n",
    "years = list(map(str, list(range(2005,2015))))\n",
    "result = show_weighted_average(years, 'SE.PRM.TCAQ.ZS', 'SE.PRM.TCHR', \n",
    "                               ['LDCs', 'Developing excluding LDCs', 'OECD'], \n",
    "                                height=400, width=1000, line_width=4)"
   ]
  },
  {
   "cell_type": "code",
   "execution_count": null,
   "metadata": {
    "ExecuteTime": {
     "end_time": "2019-10-25T14:25:47.154621Z",
     "start_time": "2019-10-25T14:25:45.217692Z"
    },
    "slideshow": {
     "slide_type": "slide"
    }
   },
   "outputs": [],
   "source": [
    "# Trained teachers secondary\n",
    "years = list(map(str, list(range(2005,2015))))\n",
    "result = show_weighted_average(years, 'SE.SEC.TCAQ.ZS', 'SE.SEC.TCHR', \n",
    "                               ['LDCs', 'Developing excluding LDCs', 'OECD'], \n",
    "                                height=400, width=1000, line_width=4)"
   ]
  },
  {
   "cell_type": "markdown",
   "metadata": {
    "slideshow": {
     "slide_type": "slide"
    }
   },
   "source": [
    "# LDCs have made enormous progress in enrollment at the primary level\n",
    "\n",
    "# Challenges remain in relation to factors affecting the quality of education\n",
    "\n",
    "# Gender inequality, specially at secondary and tertiary levels"
   ]
  },
  {
   "cell_type": "markdown",
   "metadata": {
    "slideshow": {
     "slide_type": "slide"
    }
   },
   "source": [
    "# Youth development"
   ]
  },
  {
   "cell_type": "code",
   "execution_count": null,
   "metadata": {
    "ExecuteTime": {
     "end_time": "2019-10-25T14:25:48.983763Z",
     "start_time": "2019-10-25T14:25:47.157404Z"
    },
    "slideshow": {
     "slide_type": "slide"
    }
   },
   "outputs": [],
   "source": [
    "#Literacy rate, youth, total (% of youth 15-24)\n",
    "years = list(map(str, list(range(2010,2018))))\n",
    "result = show_weighted_average(years, 'SE.ADT.1524.LT.ZS', 'SP.POP.TOTL', \n",
    "                               ['LDCs', 'Developing excluding LDCs', 'OECD'], \n",
    "                                height=400, width=1000, line_width=4)"
   ]
  },
  {
   "cell_type": "code",
   "execution_count": null,
   "metadata": {
    "slideshow": {
     "slide_type": "slide"
    }
   },
   "outputs": [],
   "source": [
    "# Literacy rate, youth, total (% of youth 15-24)\n",
    "years = list(map(str, list(range(2011,2018))))\n",
    "result = show_weighted_average(years, 'SL.UEM.NEET.ZS', 'SP.POP.TOTL', \n",
    "                               ['LDCs'], \n",
    "                                height=400, width=1000, line_width=4)"
   ]
  },
  {
   "cell_type": "markdown",
   "metadata": {
    "slideshow": {
     "slide_type": "slide"
    }
   },
   "source": [
    "# Support training to provide quality education\n",
    "\n",
    "\n",
    "# Unemployment rate is substantially higher for youth population\n",
    "\n",
    "\n",
    "# Underemployment and vulnerable employment particularly affect the youth and in many countries has a gender dimension\n",
    "\n",
    "\n",
    "# Promote employment opportunities for the youth"
   ]
  },
  {
   "cell_type": "markdown",
   "metadata": {
    "slideshow": {
     "slide_type": "slide"
    }
   },
   "source": [
    "# Shelter"
   ]
  },
  {
   "cell_type": "code",
   "execution_count": null,
   "metadata": {
    "ExecuteTime": {
     "end_time": "2019-10-25T14:25:51.766648Z",
     "start_time": "2019-10-25T14:25:50.523438Z"
    },
    "slideshow": {
     "slide_type": "slide"
    }
   },
   "outputs": [],
   "source": [
    "# Percentage of urban population living in slums\n",
    "years = ['2000', '2005', '2007', '2009', '2014']\n",
    "result = show_weighted_average(years, 'EN.POP.SLUM.UR.ZS', 'SP.URB.TOTL', \n",
    "                               ['LDCs', 'Developing excluding LDCs', 'OECD'], \n",
    "                                height=400, width=1000, line_width=4)"
   ]
  },
  {
   "cell_type": "code",
   "execution_count": null,
   "metadata": {
    "ExecuteTime": {
     "end_time": "2019-10-25T14:32:38.578383Z",
     "start_time": "2019-10-25T14:31:44.564667Z"
    },
    "slideshow": {
     "slide_type": "slide"
    }
   },
   "outputs": [],
   "source": [
    "years = list(map(str, list(range(1960,2018))))\n",
    "# Urban population as a percentage of total population\n",
    "result = show_weighted_average(years, 'SP.URB.TOTL.IN.ZS', 'SP.POP.TOTL', \n",
    "                               ['LDCs', 'Developing excluding LDCs', 'OECD'], \n",
    "                                height=400, width=1000, line_width=4)"
   ]
  },
  {
   "cell_type": "code",
   "execution_count": null,
   "metadata": {
    "ExecuteTime": {
     "end_time": "2019-10-25T14:29:15.192779Z",
     "start_time": "2019-10-25T14:29:14.263102Z"
    },
    "slideshow": {
     "slide_type": "slide"
    }
   },
   "outputs": [],
   "source": [
    "result = show_group_total(years, 'SP.URB.TOTL', ['LDCs'], \n",
    "                                height=400, width=1000, line_width=4)"
   ]
  },
  {
   "cell_type": "code",
   "execution_count": null,
   "metadata": {
    "ExecuteTime": {
     "end_time": "2019-10-25T14:35:30.281624Z",
     "start_time": "2019-10-25T14:35:22.402094Z"
    },
    "slideshow": {
     "slide_type": "slide"
    }
   },
   "outputs": [],
   "source": [
    "# Growth of urban population\n",
    "years = list(map(str, list(range(2000,2018))))\n",
    "result = show_weighted_average(years, 'SP.URB.GROW', 'SP.URB.TOTL', \n",
    "                               ['LDCs', 'Developing excluding LDCs', 'OECD'], \n",
    "                                height=400, width=1000, line_width=4)"
   ]
  },
  {
   "cell_type": "markdown",
   "metadata": {
    "slideshow": {
     "slide_type": "slide"
    }
   },
   "source": [
    "# Urban areas are rapidly increasing in LDCs\n",
    "\n",
    "# Two thirds of the urban space in the LDCs will have to be built in the next 35 years\n",
    "\n",
    "# The rate of urbanization in LDCs is very high. Cities will have to absorb more people in less time\n",
    "\n",
    "# Adressing the provision of services in a context of low resources and lack of technical capacities constitute a huge challenge"
   ]
  },
  {
   "cell_type": "markdown",
   "metadata": {
    "slideshow": {
     "slide_type": "slide"
    }
   },
   "source": [
    "# Water and sanitation"
   ]
  },
  {
   "cell_type": "code",
   "execution_count": null,
   "metadata": {
    "ExecuteTime": {
     "end_time": "2019-10-25T14:25:57.739495Z",
     "start_time": "2019-10-25T14:25:51.769121Z"
    },
    "slideshow": {
     "slide_type": "slide"
    }
   },
   "outputs": [],
   "source": [
    "# Access to safely managed sanitation services\n",
    "years = list(map(str, list(range(2000,2018))))\n",
    "result = show_weighted_average(years, 'SH.STA.SMSS.ZS', 'SP.POP.TOTL', \n",
    "                               ['LDCs', 'Developing excluding LDCs', 'OECD'], \n",
    "                                height=400, width=1000, line_width=4)"
   ]
  },
  {
   "cell_type": "code",
   "execution_count": null,
   "metadata": {
    "ExecuteTime": {
     "end_time": "2019-10-25T14:26:01.793967Z",
     "start_time": "2019-10-25T14:25:57.741996Z"
    },
    "slideshow": {
     "slide_type": "slide"
    }
   },
   "outputs": [],
   "source": [
    "# Basic water access\n",
    "years = list(map(str, list(range(2000,2018))))\n",
    "result = show_weighted_average(years, 'SH.H2O.BASW.ZS', 'SP.POP.TOTL', ['LDCs', 'Developing excluding LDCs'], \n",
    "                                height=400, width=1000, line_width=4)"
   ]
  },
  {
   "cell_type": "code",
   "execution_count": null,
   "metadata": {
    "ExecuteTime": {
     "end_time": "2019-10-25T14:26:06.027715Z",
     "start_time": "2019-10-25T14:26:01.795810Z"
    },
    "slideshow": {
     "slide_type": "slide"
    }
   },
   "outputs": [],
   "source": [
    "# Basic water access rural\n",
    "years = list(map(str, list(range(2000,2018))))\n",
    "result = show_weighted_average(years, 'SH.H2O.BASW.RU.ZS', 'SP.RUR.TOTL', ['LDCs', 'Developing excluding LDCs'], \n",
    "                                height=400, width=1000, line_width=4)"
   ]
  },
  {
   "cell_type": "markdown",
   "metadata": {
    "slideshow": {
     "slide_type": "slide"
    }
   },
   "source": [
    "# Gender equality and the empowerment of women"
   ]
  },
  {
   "cell_type": "code",
   "execution_count": null,
   "metadata": {
    "ExecuteTime": {
     "end_time": "2019-10-25T14:26:06.754335Z",
     "start_time": "2019-10-25T14:26:06.030180Z"
    },
    "slideshow": {
     "slide_type": "slide"
    }
   },
   "outputs": [],
   "source": [
    "# Family planning\n",
    "years = ['2004', '2007', '2009', '2014', '2016']\n",
    "result = show_weighted_average(years, 'SH.FPL.SATM.ZS', 'SP.POP.TOTL.FE.IN', \n",
    "                               ['LDCs', 'Developing excluding LDCs'], \n",
    "                                height=400, width=1000, line_width=4)"
   ]
  },
  {
   "cell_type": "code",
   "execution_count": null,
   "metadata": {
    "ExecuteTime": {
     "end_time": "2019-10-25T14:26:07.694750Z",
     "start_time": "2019-10-25T14:26:06.760738Z"
    },
    "slideshow": {
     "slide_type": "slide"
    }
   },
   "outputs": [],
   "source": [
    "# Basic water access rural\n",
    "years = ['2000', '2003', '2006', '2009', '2014', '2017']\n",
    "result = show_weighted_average(years, 'SP.ADO.TFRT', 'SP.POP.TOTL.FE.IN', \n",
    "                               ['LDCs', 'Developing excluding LDCs'], \n",
    "                                height=400, width=1000, line_width=4)"
   ]
  },
  {
   "cell_type": "markdown",
   "metadata": {
    "slideshow": {
     "slide_type": "slide"
    }
   },
   "source": [
    "# Social protection"
   ]
  },
  {
   "cell_type": "code",
   "execution_count": null,
   "metadata": {
    "ExecuteTime": {
     "end_time": "2019-10-25T14:26:12.858520Z",
     "start_time": "2019-10-25T14:26:07.697975Z"
    },
    "slideshow": {
     "slide_type": "slide"
    }
   },
   "outputs": [],
   "source": [
    "# Age dependency ratio (% of working-age population)\n",
    "years = list(map(str, list(range(2000,2018))))\n",
    "result = show_weighted_average(years, 'SP.POP.DPND', 'SP.POP.1564.TO', \n",
    "                               ['LDCs', 'Developing excluding LDCs', 'OECD'], \n",
    "                                height=400, width=1000, line_width=4)"
   ]
  },
  {
   "cell_type": "code",
   "execution_count": null,
   "metadata": {
    "ExecuteTime": {
     "end_time": "2019-10-25T14:26:17.747160Z",
     "start_time": "2019-10-25T14:26:12.861357Z"
    },
    "slideshow": {
     "slide_type": "slide"
    }
   },
   "outputs": [],
   "source": [
    "#Employment to population ratio, 15+, total (%) (modeled ILO estimate)\n",
    "# Age dependency ratio (% of working-age population)\n",
    "years = list(map(str, list(range(2000,2018))))\n",
    "result = show_weighted_average(years, 'SL.EMP.TOTL.SP.ZS', 'SP.POP.TOTL', \n",
    "                               ['LDCs', 'Developing excluding LDCs', 'OECD'], \n",
    "                                height=400, width=1000, line_width=3)"
   ]
  },
  {
   "cell_type": "markdown",
   "metadata": {
    "slideshow": {
     "slide_type": "slide"
    }
   },
   "source": [
    "# Some very general ideas"
   ]
  },
  {
   "cell_type": "markdown",
   "metadata": {
    "slideshow": {
     "slide_type": "slide"
    }
   },
   "source": [
    "# The world is becoming increasingly unequal"
   ]
  },
  {
   "cell_type": "markdown",
   "metadata": {
    "slideshow": {
     "slide_type": "slide"
    }
   },
   "source": [
    "# Great progress in certain areas, still an awful lot to do"
   ]
  },
  {
   "cell_type": "markdown",
   "metadata": {
    "slideshow": {
     "slide_type": "slide"
    }
   },
   "source": [
    "# Sustainable development in the LDCs won't happen without addressing gender inequalities"
   ]
  },
  {
   "cell_type": "markdown",
   "metadata": {
    "slideshow": {
     "slide_type": "slide"
    }
   },
   "source": [
    "# The SDGs and other internationally agreed development goals won't happen without accelerated progress in the LDCs."
   ]
  },
  {
   "cell_type": "markdown",
   "metadata": {
    "slideshow": {
     "slide_type": "slide"
    }
   },
   "source": [
    "# Many thanks\n",
    "\n",
    "Let's stay in touch\n",
    "\n",
    "Tomás González\n",
    "gonzalezt@un.org\n"
   ]
  }
 ],
 "metadata": {
  "celltoolbar": "Slideshow",
  "kernelspec": {
   "display_name": "Python 3",
   "language": "python",
   "name": "python3"
  },
  "language_info": {
   "codemirror_mode": {
    "name": "ipython",
    "version": 3
   },
   "file_extension": ".py",
   "mimetype": "text/x-python",
   "name": "python",
   "nbconvert_exporter": "python",
   "pygments_lexer": "ipython3",
   "version": "3.8.0"
  },
  "toc": {
   "base_numbering": 1,
   "nav_menu": {},
   "number_sections": true,
   "sideBar": true,
   "skip_h1_title": false,
   "title_cell": "Table of Contents",
   "title_sidebar": "Contents",
   "toc_cell": false,
   "toc_position": {},
   "toc_section_display": true,
   "toc_window_display": false
  }
 },
 "nbformat": 4,
 "nbformat_minor": 2
}
