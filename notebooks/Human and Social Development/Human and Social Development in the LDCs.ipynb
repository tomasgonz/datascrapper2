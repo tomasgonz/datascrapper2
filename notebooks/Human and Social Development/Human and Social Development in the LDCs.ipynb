{
 "cells": [
  {
   "cell_type": "code",
   "execution_count": 1,
   "metadata": {},
   "outputs": [],
   "source": [
    "import sys\n",
    "sys.path.append(\"../../\")\n",
    "import json\n",
    "import urllib.request\n",
    "from IPython.display import clear_output\n",
    "import sources\n",
    "from countries.list import CountryList\n",
    "from data.Frame import Frame\n",
    "from data.Stats import calculate_weighted_average as wa\n",
    "c = CountryList()\n",
    "c.load_wb()\n",
    "from sources.worldbank.indicators import get_data_frame_wide as getdfw\n",
    "from sources.worldbank.datatable import get_data_table"
   ]
  },
  {
   "cell_type": "code",
   "execution_count": 2,
   "metadata": {},
   "outputs": [
    {
     "data": {
      "text/html": [
       "\n",
       "    <div class=\"bk-root\">\n",
       "        <a href=\"https://bokeh.pydata.org\" target=\"_blank\" class=\"bk-logo bk-logo-small bk-logo-notebook\"></a>\n",
       "        <span id=\"1001\">Loading BokehJS ...</span>\n",
       "    </div>"
      ]
     },
     "metadata": {},
     "output_type": "display_data"
    },
    {
     "data": {
      "application/javascript": [
       "\n",
       "(function(root) {\n",
       "  function now() {\n",
       "    return new Date();\n",
       "  }\n",
       "\n",
       "  var force = true;\n",
       "\n",
       "  if (typeof root._bokeh_onload_callbacks === \"undefined\" || force === true) {\n",
       "    root._bokeh_onload_callbacks = [];\n",
       "    root._bokeh_is_loading = undefined;\n",
       "  }\n",
       "\n",
       "  var JS_MIME_TYPE = 'application/javascript';\n",
       "  var HTML_MIME_TYPE = 'text/html';\n",
       "  var EXEC_MIME_TYPE = 'application/vnd.bokehjs_exec.v0+json';\n",
       "  var CLASS_NAME = 'output_bokeh rendered_html';\n",
       "\n",
       "  /**\n",
       "   * Render data to the DOM node\n",
       "   */\n",
       "  function render(props, node) {\n",
       "    var script = document.createElement(\"script\");\n",
       "    node.appendChild(script);\n",
       "  }\n",
       "\n",
       "  /**\n",
       "   * Handle when an output is cleared or removed\n",
       "   */\n",
       "  function handleClearOutput(event, handle) {\n",
       "    var cell = handle.cell;\n",
       "\n",
       "    var id = cell.output_area._bokeh_element_id;\n",
       "    var server_id = cell.output_area._bokeh_server_id;\n",
       "    // Clean up Bokeh references\n",
       "    if (id != null && id in Bokeh.index) {\n",
       "      Bokeh.index[id].model.document.clear();\n",
       "      delete Bokeh.index[id];\n",
       "    }\n",
       "\n",
       "    if (server_id !== undefined) {\n",
       "      // Clean up Bokeh references\n",
       "      var cmd = \"from bokeh.io.state import curstate; print(curstate().uuid_to_server['\" + server_id + \"'].get_sessions()[0].document.roots[0]._id)\";\n",
       "      cell.notebook.kernel.execute(cmd, {\n",
       "        iopub: {\n",
       "          output: function(msg) {\n",
       "            var id = msg.content.text.trim();\n",
       "            if (id in Bokeh.index) {\n",
       "              Bokeh.index[id].model.document.clear();\n",
       "              delete Bokeh.index[id];\n",
       "            }\n",
       "          }\n",
       "        }\n",
       "      });\n",
       "      // Destroy server and session\n",
       "      var cmd = \"import bokeh.io.notebook as ion; ion.destroy_server('\" + server_id + \"')\";\n",
       "      cell.notebook.kernel.execute(cmd);\n",
       "    }\n",
       "  }\n",
       "\n",
       "  /**\n",
       "   * Handle when a new output is added\n",
       "   */\n",
       "  function handleAddOutput(event, handle) {\n",
       "    var output_area = handle.output_area;\n",
       "    var output = handle.output;\n",
       "\n",
       "    // limit handleAddOutput to display_data with EXEC_MIME_TYPE content only\n",
       "    if ((output.output_type != \"display_data\") || (!output.data.hasOwnProperty(EXEC_MIME_TYPE))) {\n",
       "      return\n",
       "    }\n",
       "\n",
       "    var toinsert = output_area.element.find(\".\" + CLASS_NAME.split(' ')[0]);\n",
       "\n",
       "    if (output.metadata[EXEC_MIME_TYPE][\"id\"] !== undefined) {\n",
       "      toinsert[toinsert.length - 1].firstChild.textContent = output.data[JS_MIME_TYPE];\n",
       "      // store reference to embed id on output_area\n",
       "      output_area._bokeh_element_id = output.metadata[EXEC_MIME_TYPE][\"id\"];\n",
       "    }\n",
       "    if (output.metadata[EXEC_MIME_TYPE][\"server_id\"] !== undefined) {\n",
       "      var bk_div = document.createElement(\"div\");\n",
       "      bk_div.innerHTML = output.data[HTML_MIME_TYPE];\n",
       "      var script_attrs = bk_div.children[0].attributes;\n",
       "      for (var i = 0; i < script_attrs.length; i++) {\n",
       "        toinsert[toinsert.length - 1].firstChild.setAttribute(script_attrs[i].name, script_attrs[i].value);\n",
       "      }\n",
       "      // store reference to server id on output_area\n",
       "      output_area._bokeh_server_id = output.metadata[EXEC_MIME_TYPE][\"server_id\"];\n",
       "    }\n",
       "  }\n",
       "\n",
       "  function register_renderer(events, OutputArea) {\n",
       "\n",
       "    function append_mime(data, metadata, element) {\n",
       "      // create a DOM node to render to\n",
       "      var toinsert = this.create_output_subarea(\n",
       "        metadata,\n",
       "        CLASS_NAME,\n",
       "        EXEC_MIME_TYPE\n",
       "      );\n",
       "      this.keyboard_manager.register_events(toinsert);\n",
       "      // Render to node\n",
       "      var props = {data: data, metadata: metadata[EXEC_MIME_TYPE]};\n",
       "      render(props, toinsert[toinsert.length - 1]);\n",
       "      element.append(toinsert);\n",
       "      return toinsert\n",
       "    }\n",
       "\n",
       "    /* Handle when an output is cleared or removed */\n",
       "    events.on('clear_output.CodeCell', handleClearOutput);\n",
       "    events.on('delete.Cell', handleClearOutput);\n",
       "\n",
       "    /* Handle when a new output is added */\n",
       "    events.on('output_added.OutputArea', handleAddOutput);\n",
       "\n",
       "    /**\n",
       "     * Register the mime type and append_mime function with output_area\n",
       "     */\n",
       "    OutputArea.prototype.register_mime_type(EXEC_MIME_TYPE, append_mime, {\n",
       "      /* Is output safe? */\n",
       "      safe: true,\n",
       "      /* Index of renderer in `output_area.display_order` */\n",
       "      index: 0\n",
       "    });\n",
       "  }\n",
       "\n",
       "  // register the mime type if in Jupyter Notebook environment and previously unregistered\n",
       "  if (root.Jupyter !== undefined) {\n",
       "    var events = require('base/js/events');\n",
       "    var OutputArea = require('notebook/js/outputarea').OutputArea;\n",
       "\n",
       "    if (OutputArea.prototype.mime_types().indexOf(EXEC_MIME_TYPE) == -1) {\n",
       "      register_renderer(events, OutputArea);\n",
       "    }\n",
       "  }\n",
       "\n",
       "  \n",
       "  if (typeof (root._bokeh_timeout) === \"undefined\" || force === true) {\n",
       "    root._bokeh_timeout = Date.now() + 5000;\n",
       "    root._bokeh_failed_load = false;\n",
       "  }\n",
       "\n",
       "  var NB_LOAD_WARNING = {'data': {'text/html':\n",
       "     \"<div style='background-color: #fdd'>\\n\"+\n",
       "     \"<p>\\n\"+\n",
       "     \"BokehJS does not appear to have successfully loaded. If loading BokehJS from CDN, this \\n\"+\n",
       "     \"may be due to a slow or bad network connection. Possible fixes:\\n\"+\n",
       "     \"</p>\\n\"+\n",
       "     \"<ul>\\n\"+\n",
       "     \"<li>re-rerun `output_notebook()` to attempt to load from CDN again, or</li>\\n\"+\n",
       "     \"<li>use INLINE resources instead, as so:</li>\\n\"+\n",
       "     \"</ul>\\n\"+\n",
       "     \"<code>\\n\"+\n",
       "     \"from bokeh.resources import INLINE\\n\"+\n",
       "     \"output_notebook(resources=INLINE)\\n\"+\n",
       "     \"</code>\\n\"+\n",
       "     \"</div>\"}};\n",
       "\n",
       "  function display_loaded() {\n",
       "    var el = document.getElementById(\"1001\");\n",
       "    if (el != null) {\n",
       "      el.textContent = \"BokehJS is loading...\";\n",
       "    }\n",
       "    if (root.Bokeh !== undefined) {\n",
       "      if (el != null) {\n",
       "        el.textContent = \"BokehJS \" + root.Bokeh.version + \" successfully loaded.\";\n",
       "      }\n",
       "    } else if (Date.now() < root._bokeh_timeout) {\n",
       "      setTimeout(display_loaded, 100)\n",
       "    }\n",
       "  }\n",
       "\n",
       "\n",
       "  function run_callbacks() {\n",
       "    try {\n",
       "      root._bokeh_onload_callbacks.forEach(function(callback) {\n",
       "        if (callback != null)\n",
       "          callback();\n",
       "      });\n",
       "    } finally {\n",
       "      delete root._bokeh_onload_callbacks\n",
       "    }\n",
       "    console.debug(\"Bokeh: all callbacks have finished\");\n",
       "  }\n",
       "\n",
       "  function load_libs(css_urls, js_urls, callback) {\n",
       "    if (css_urls == null) css_urls = [];\n",
       "    if (js_urls == null) js_urls = [];\n",
       "\n",
       "    root._bokeh_onload_callbacks.push(callback);\n",
       "    if (root._bokeh_is_loading > 0) {\n",
       "      console.debug(\"Bokeh: BokehJS is being loaded, scheduling callback at\", now());\n",
       "      return null;\n",
       "    }\n",
       "    if (js_urls == null || js_urls.length === 0) {\n",
       "      run_callbacks();\n",
       "      return null;\n",
       "    }\n",
       "    console.debug(\"Bokeh: BokehJS not loaded, scheduling load and callback at\", now());\n",
       "    root._bokeh_is_loading = css_urls.length + js_urls.length;\n",
       "\n",
       "    function on_load() {\n",
       "      root._bokeh_is_loading--;\n",
       "      if (root._bokeh_is_loading === 0) {\n",
       "        console.debug(\"Bokeh: all BokehJS libraries/stylesheets loaded\");\n",
       "        run_callbacks()\n",
       "      }\n",
       "    }\n",
       "\n",
       "    function on_error() {\n",
       "      console.error(\"failed to load \" + url);\n",
       "    }\n",
       "\n",
       "    for (var i = 0; i < css_urls.length; i++) {\n",
       "      var url = css_urls[i];\n",
       "      const element = document.createElement(\"link\");\n",
       "      element.onload = on_load;\n",
       "      element.onerror = on_error;\n",
       "      element.rel = \"stylesheet\";\n",
       "      element.type = \"text/css\";\n",
       "      element.href = url;\n",
       "      console.debug(\"Bokeh: injecting link tag for BokehJS stylesheet: \", url);\n",
       "      document.body.appendChild(element);\n",
       "    }\n",
       "\n",
       "    for (var i = 0; i < js_urls.length; i++) {\n",
       "      var url = js_urls[i];\n",
       "      var element = document.createElement('script');\n",
       "      element.onload = on_load;\n",
       "      element.onerror = on_error;\n",
       "      element.async = false;\n",
       "      element.src = url;\n",
       "      console.debug(\"Bokeh: injecting script tag for BokehJS library: \", url);\n",
       "      document.head.appendChild(element);\n",
       "    }\n",
       "  };var element = document.getElementById(\"1001\");\n",
       "  if (element == null) {\n",
       "    console.error(\"Bokeh: ERROR: autoload.js configured with elementid '1001' but no matching script tag was found. \")\n",
       "    return false;\n",
       "  }\n",
       "\n",
       "  function inject_raw_css(css) {\n",
       "    const element = document.createElement(\"style\");\n",
       "    element.appendChild(document.createTextNode(css));\n",
       "    document.body.appendChild(element);\n",
       "  }\n",
       "\n",
       "  var js_urls = [\"https://cdn.pydata.org/bokeh/release/bokeh-1.3.4.min.js\", \"https://cdn.pydata.org/bokeh/release/bokeh-widgets-1.3.4.min.js\", \"https://cdn.pydata.org/bokeh/release/bokeh-tables-1.3.4.min.js\", \"https://cdn.pydata.org/bokeh/release/bokeh-gl-1.3.4.min.js\"];\n",
       "  var css_urls = [];\n",
       "\n",
       "  var inline_js = [\n",
       "    function(Bokeh) {\n",
       "      Bokeh.set_log_level(\"info\");\n",
       "    },\n",
       "    \n",
       "    function(Bokeh) {\n",
       "      \n",
       "    },\n",
       "    function(Bokeh) {} // ensure no trailing comma for IE\n",
       "  ];\n",
       "\n",
       "  function run_inline_js() {\n",
       "    \n",
       "    if ((root.Bokeh !== undefined) || (force === true)) {\n",
       "      for (var i = 0; i < inline_js.length; i++) {\n",
       "        inline_js[i].call(root, root.Bokeh);\n",
       "      }if (force === true) {\n",
       "        display_loaded();\n",
       "      }} else if (Date.now() < root._bokeh_timeout) {\n",
       "      setTimeout(run_inline_js, 100);\n",
       "    } else if (!root._bokeh_failed_load) {\n",
       "      console.log(\"Bokeh: BokehJS failed to load within specified timeout.\");\n",
       "      root._bokeh_failed_load = true;\n",
       "    } else if (force !== true) {\n",
       "      var cell = $(document.getElementById(\"1001\")).parents('.cell').data().cell;\n",
       "      cell.output_area.append_execute_result(NB_LOAD_WARNING)\n",
       "    }\n",
       "\n",
       "  }\n",
       "\n",
       "  if (root._bokeh_is_loading === 0) {\n",
       "    console.debug(\"Bokeh: BokehJS loaded, going straight to plotting\");\n",
       "    run_inline_js();\n",
       "  } else {\n",
       "    load_libs(css_urls, js_urls, function() {\n",
       "      console.debug(\"Bokeh: BokehJS plotting callback run at\", now());\n",
       "      run_inline_js();\n",
       "    });\n",
       "  }\n",
       "}(window));"
      ],
      "application/vnd.bokehjs_load.v0+json": "\n(function(root) {\n  function now() {\n    return new Date();\n  }\n\n  var force = true;\n\n  if (typeof root._bokeh_onload_callbacks === \"undefined\" || force === true) {\n    root._bokeh_onload_callbacks = [];\n    root._bokeh_is_loading = undefined;\n  }\n\n  \n\n  \n  if (typeof (root._bokeh_timeout) === \"undefined\" || force === true) {\n    root._bokeh_timeout = Date.now() + 5000;\n    root._bokeh_failed_load = false;\n  }\n\n  var NB_LOAD_WARNING = {'data': {'text/html':\n     \"<div style='background-color: #fdd'>\\n\"+\n     \"<p>\\n\"+\n     \"BokehJS does not appear to have successfully loaded. If loading BokehJS from CDN, this \\n\"+\n     \"may be due to a slow or bad network connection. Possible fixes:\\n\"+\n     \"</p>\\n\"+\n     \"<ul>\\n\"+\n     \"<li>re-rerun `output_notebook()` to attempt to load from CDN again, or</li>\\n\"+\n     \"<li>use INLINE resources instead, as so:</li>\\n\"+\n     \"</ul>\\n\"+\n     \"<code>\\n\"+\n     \"from bokeh.resources import INLINE\\n\"+\n     \"output_notebook(resources=INLINE)\\n\"+\n     \"</code>\\n\"+\n     \"</div>\"}};\n\n  function display_loaded() {\n    var el = document.getElementById(\"1001\");\n    if (el != null) {\n      el.textContent = \"BokehJS is loading...\";\n    }\n    if (root.Bokeh !== undefined) {\n      if (el != null) {\n        el.textContent = \"BokehJS \" + root.Bokeh.version + \" successfully loaded.\";\n      }\n    } else if (Date.now() < root._bokeh_timeout) {\n      setTimeout(display_loaded, 100)\n    }\n  }\n\n\n  function run_callbacks() {\n    try {\n      root._bokeh_onload_callbacks.forEach(function(callback) {\n        if (callback != null)\n          callback();\n      });\n    } finally {\n      delete root._bokeh_onload_callbacks\n    }\n    console.debug(\"Bokeh: all callbacks have finished\");\n  }\n\n  function load_libs(css_urls, js_urls, callback) {\n    if (css_urls == null) css_urls = [];\n    if (js_urls == null) js_urls = [];\n\n    root._bokeh_onload_callbacks.push(callback);\n    if (root._bokeh_is_loading > 0) {\n      console.debug(\"Bokeh: BokehJS is being loaded, scheduling callback at\", now());\n      return null;\n    }\n    if (js_urls == null || js_urls.length === 0) {\n      run_callbacks();\n      return null;\n    }\n    console.debug(\"Bokeh: BokehJS not loaded, scheduling load and callback at\", now());\n    root._bokeh_is_loading = css_urls.length + js_urls.length;\n\n    function on_load() {\n      root._bokeh_is_loading--;\n      if (root._bokeh_is_loading === 0) {\n        console.debug(\"Bokeh: all BokehJS libraries/stylesheets loaded\");\n        run_callbacks()\n      }\n    }\n\n    function on_error() {\n      console.error(\"failed to load \" + url);\n    }\n\n    for (var i = 0; i < css_urls.length; i++) {\n      var url = css_urls[i];\n      const element = document.createElement(\"link\");\n      element.onload = on_load;\n      element.onerror = on_error;\n      element.rel = \"stylesheet\";\n      element.type = \"text/css\";\n      element.href = url;\n      console.debug(\"Bokeh: injecting link tag for BokehJS stylesheet: \", url);\n      document.body.appendChild(element);\n    }\n\n    for (var i = 0; i < js_urls.length; i++) {\n      var url = js_urls[i];\n      var element = document.createElement('script');\n      element.onload = on_load;\n      element.onerror = on_error;\n      element.async = false;\n      element.src = url;\n      console.debug(\"Bokeh: injecting script tag for BokehJS library: \", url);\n      document.head.appendChild(element);\n    }\n  };var element = document.getElementById(\"1001\");\n  if (element == null) {\n    console.error(\"Bokeh: ERROR: autoload.js configured with elementid '1001' but no matching script tag was found. \")\n    return false;\n  }\n\n  function inject_raw_css(css) {\n    const element = document.createElement(\"style\");\n    element.appendChild(document.createTextNode(css));\n    document.body.appendChild(element);\n  }\n\n  var js_urls = [\"https://cdn.pydata.org/bokeh/release/bokeh-1.3.4.min.js\", \"https://cdn.pydata.org/bokeh/release/bokeh-widgets-1.3.4.min.js\", \"https://cdn.pydata.org/bokeh/release/bokeh-tables-1.3.4.min.js\", \"https://cdn.pydata.org/bokeh/release/bokeh-gl-1.3.4.min.js\"];\n  var css_urls = [];\n\n  var inline_js = [\n    function(Bokeh) {\n      Bokeh.set_log_level(\"info\");\n    },\n    \n    function(Bokeh) {\n      \n    },\n    function(Bokeh) {} // ensure no trailing comma for IE\n  ];\n\n  function run_inline_js() {\n    \n    if ((root.Bokeh !== undefined) || (force === true)) {\n      for (var i = 0; i < inline_js.length; i++) {\n        inline_js[i].call(root, root.Bokeh);\n      }if (force === true) {\n        display_loaded();\n      }} else if (Date.now() < root._bokeh_timeout) {\n      setTimeout(run_inline_js, 100);\n    } else if (!root._bokeh_failed_load) {\n      console.log(\"Bokeh: BokehJS failed to load within specified timeout.\");\n      root._bokeh_failed_load = true;\n    } else if (force !== true) {\n      var cell = $(document.getElementById(\"1001\")).parents('.cell').data().cell;\n      cell.output_area.append_execute_result(NB_LOAD_WARNING)\n    }\n\n  }\n\n  if (root._bokeh_is_loading === 0) {\n    console.debug(\"Bokeh: BokehJS loaded, going straight to plotting\");\n    run_inline_js();\n  } else {\n    load_libs(css_urls, js_urls, function() {\n      console.debug(\"Bokeh: BokehJS plotting callback run at\", now());\n      run_inline_js();\n    });\n  }\n}(window));"
     },
     "metadata": {},
     "output_type": "display_data"
    }
   ],
   "source": [
    "import bokeh\n",
    "from bokeh.io import output_notebook\n",
    "from bokeh.models import HoverTool\n",
    "from bokeh.plotting import figure, output_file, show, reset_output\n",
    "reset_output()\n",
    "output_notebook()"
   ]
  },
  {
   "cell_type": "code",
   "execution_count": 3,
   "metadata": {},
   "outputs": [],
   "source": [
    "def estimate(years,indicator, groups, weight = None):\n",
    "    data_df = get_data_table(years, indicator, groups, export_to_excel=False)    \n",
    "    \n",
    "    if weight is None:\n",
    "        return (data_df)    \n",
    "    \n",
    "    weight_df = get_data_table(years, weight, groups, export_to_excel=False)\n",
    "    df_ldcs_w = wa(data_df, weight_df, 'entity' )\n",
    "    \n",
    "    return (df_ldcs_w)"
   ]
  },
  {
   "cell_type": "code",
   "execution_count": 42,
   "metadata": {},
   "outputs": [],
   "source": [
    "def line_chart(series, title):\n",
    "    # output_file(\"data.html\")\n",
    "    # create a new plot with a title and axis labels\n",
    "    p = figure(title=title, x_axis_label='Years', y_axis_label='Percentage', height = 400, width = 950)    \n",
    "    colors = ['red', 'blue', 'green', 'orange']\n",
    "    j = 0\n",
    "    for data in series:                \n",
    "        # output to static HTML file\n",
    "        # add a line renderer with legend and line thickness\n",
    "        x = data[0]\n",
    "        y = data[1]\n",
    "        group = data[2]\n",
    "        p.line(x, y, legend=group, line_width=2, color = colors[j])\n",
    "        p.circle(x, y, color=colors[j], fill_color=colors[j], line_width=3)\n",
    "        j = j + 1\n",
    "    \n",
    "    hover = HoverTool()\n",
    "    hover.tooltips = \"\"\"\n",
    "        <div style=padding=5px>Year:@x</div>\n",
    "        <div style=padding=5px>Value:@y</div>\n",
    "        \"\"\"\n",
    "    p.add_tools(hover)\n",
    "    p.legend.location = \"bottom_left\"\n",
    "    \n",
    "    return p"
   ]
  },
  {
   "cell_type": "code",
   "execution_count": 43,
   "metadata": {},
   "outputs": [],
   "source": [
    "def show_weighted_average(indicator, weight, groups):\n",
    "    datasets = []\n",
    "    for group in groups:\n",
    "        data_group = estimate(years, indicator, [[group]], weight)\n",
    "        x = years\n",
    "        y = []\n",
    "        for i in range(3,len(data_group.get_last_row().get_array()), 3):\n",
    "            y.append(data_group.get_last_row()[i].get_value())\n",
    "        data_group.entities_description = group\n",
    "        datasets.append([x,y, group, data_group.description])\n",
    "    series = datasets\n",
    "    show(line_chart(series, series[0][3]))"
   ]
  },
  {
   "cell_type": "code",
   "execution_count": 44,
   "metadata": {},
   "outputs": [],
   "source": [
    "def show_group_total(indicator, groups):\n",
    "    datasets = []\n",
    "    for group in groups:\n",
    "        data_group = get_data_table(years, indicator, [[group]])\n",
    "        x = years\n",
    "        y = []\n",
    "        for i in range(1,len(data_group.get_total_by_column())):\n",
    "            y.append(data_group.get_total_by_column()[i])\n",
    "        data_group.entities_description = group\n",
    "        datasets.append([x,y, group, data_group.description])\n",
    "    series = datasets\n",
    "    show(line_chart(series, series[0][3]))        "
   ]
  },
  {
   "cell_type": "code",
   "execution_count": 45,
   "metadata": {},
   "outputs": [],
   "source": [
    "years = list(range(2001,2018))\n",
    "groups_ldcs=[['LDCs']]\n",
    "groups_odcs =[['Developing excluding LDCs']]\n",
    "groups_sids = [['SIDS']]\n",
    "groups_lldcs = [['LLDCs']]\n",
    "groups_oecd = [['OECD']]\n",
    "groups_mics = [['MICs']]"
   ]
  },
  {
   "cell_type": "code",
   "execution_count": 41,
   "metadata": {},
   "outputs": [
    {
     "data": {
      "text/html": [
       "\n",
       "\n",
       "\n",
       "\n",
       "\n",
       "\n",
       "  <div class=\"bk-root\" id=\"67989498-cd96-4795-83b3-84a40edb73f1\" data-root-id=\"9768\"></div>\n"
      ]
     },
     "metadata": {},
     "output_type": "display_data"
    },
    {
     "data": {
      "application/javascript": [
       "(function(root) {\n",
       "  function embed_document(root) {\n",
       "    \n",
       "  var docs_json = {\"8e8d8ff4-9485-441b-95fe-7384104fc4a5\":{\"roots\":{\"references\":[{\"attributes\":{\"below\":[{\"id\":\"9779\",\"type\":\"LinearAxis\"}],\"center\":[{\"id\":\"9783\",\"type\":\"Grid\"},{\"id\":\"9788\",\"type\":\"Grid\"},{\"id\":\"9813\",\"type\":\"Legend\"}],\"left\":[{\"id\":\"9784\",\"type\":\"LinearAxis\"}],\"plot_height\":500,\"plot_width\":1000,\"renderers\":[{\"id\":\"9805\",\"type\":\"GlyphRenderer\"},{\"id\":\"9818\",\"type\":\"GlyphRenderer\"},{\"id\":\"9823\",\"type\":\"GlyphRenderer\"},{\"id\":\"9839\",\"type\":\"GlyphRenderer\"}],\"title\":{\"id\":\"9769\",\"type\":\"Title\"},\"toolbar\":{\"id\":\"9795\",\"type\":\"Toolbar\"},\"x_range\":{\"id\":\"9771\",\"type\":\"DataRange1d\"},\"x_scale\":{\"id\":\"9775\",\"type\":\"LinearScale\"},\"y_range\":{\"id\":\"9773\",\"type\":\"DataRange1d\"},\"y_scale\":{\"id\":\"9777\",\"type\":\"LinearScale\"}},\"id\":\"9768\",\"subtype\":\"Figure\",\"type\":\"Plot\"},{\"attributes\":{\"callback\":null,\"tooltips\":\"\\n        <div style=padding=5px>Year:@x</div>\\n        <div style=padding=5px>Value:@y</div>\\n        \"},\"id\":\"9841\",\"type\":\"HoverTool\"},{\"attributes\":{},\"id\":\"9808\",\"type\":\"BasicTickFormatter\"},{\"attributes\":{\"text\":\"Agriculture, forestry, and fishing, value added (% of GDP) weighted against GDP (current US$)\"},\"id\":\"9769\",\"type\":\"Title\"},{\"attributes\":{\"label\":{\"value\":\"Developing excluding LDCs\"},\"renderers\":[{\"id\":\"9823\",\"type\":\"GlyphRenderer\"}]},\"id\":\"9835\",\"type\":\"LegendItem\"},{\"attributes\":{},\"id\":\"9792\",\"type\":\"SaveTool\"},{\"attributes\":{\"callback\":null,\"data\":{\"x\":[2011,2012,2013,2014,2015,2016,2017],\"y\":[21.011183599950137,22.043847175440607,21.289167254407456,20.999326828948075,21.21460865217579,21.26276969611124,20.813614631808505]},\"selected\":{\"id\":\"9833\",\"type\":\"Selection\"},\"selection_policy\":{\"id\":\"9834\",\"type\":\"UnionRenderers\"}},\"id\":\"9815\",\"type\":\"ColumnDataSource\"},{\"attributes\":{\"callback\":null},\"id\":\"9771\",\"type\":\"DataRange1d\"},{\"attributes\":{\"source\":{\"id\":\"9820\",\"type\":\"ColumnDataSource\"}},\"id\":\"9824\",\"type\":\"CDSView\"},{\"attributes\":{\"overlay\":{\"id\":\"9812\",\"type\":\"BoxAnnotation\"}},\"id\":\"9791\",\"type\":\"BoxZoomTool\"},{\"attributes\":{\"callback\":null},\"id\":\"9773\",\"type\":\"DataRange1d\"},{\"attributes\":{\"line_color\":\"red\",\"line_width\":2,\"x\":{\"field\":\"x\"},\"y\":{\"field\":\"y\"}},\"id\":\"9803\",\"type\":\"Line\"},{\"attributes\":{\"callback\":null,\"data\":{\"x\":[2011,2012,2013,2014,2015,2016,2017],\"y\":[8.442632594164886,8.280803801688915,8.268547280285574,8.244332340757541,8.338024471321303,8.332428699040605,7.94451901249688]},\"selected\":{\"id\":\"10219\",\"type\":\"Selection\"},\"selection_policy\":{\"id\":\"10220\",\"type\":\"UnionRenderers\"}},\"id\":\"9836\",\"type\":\"ColumnDataSource\"},{\"attributes\":{},\"id\":\"10219\",\"type\":\"Selection\"},{\"attributes\":{\"label\":{\"value\":\"LDCs\"},\"renderers\":[{\"id\":\"9805\",\"type\":\"GlyphRenderer\"}]},\"id\":\"9814\",\"type\":\"LegendItem\"},{\"attributes\":{\"data_source\":{\"id\":\"9802\",\"type\":\"ColumnDataSource\"},\"glyph\":{\"id\":\"9803\",\"type\":\"Line\"},\"hover_glyph\":null,\"muted_glyph\":null,\"nonselection_glyph\":{\"id\":\"9804\",\"type\":\"Line\"},\"selection_glyph\":null,\"view\":{\"id\":\"9806\",\"type\":\"CDSView\"}},\"id\":\"9805\",\"type\":\"GlyphRenderer\"},{\"attributes\":{\"callback\":null,\"data\":{\"x\":[2011,2012,2013,2014,2015,2016,2017],\"y\":[21.011183599950137,22.043847175440607,21.289167254407456,20.999326828948075,21.21460865217579,21.26276969611124,20.813614631808505]},\"selected\":{\"id\":\"9831\",\"type\":\"Selection\"},\"selection_policy\":{\"id\":\"9832\",\"type\":\"UnionRenderers\"}},\"id\":\"9802\",\"type\":\"ColumnDataSource\"},{\"attributes\":{},\"id\":\"9831\",\"type\":\"Selection\"},{\"attributes\":{\"fill_color\":{\"value\":\"blue\"},\"line_color\":{\"value\":\"blue\"},\"line_width\":{\"value\":3},\"x\":{\"field\":\"x\"},\"y\":{\"field\":\"y\"}},\"id\":\"9837\",\"type\":\"Circle\"},{\"attributes\":{},\"id\":\"10220\",\"type\":\"UnionRenderers\"},{\"attributes\":{\"source\":{\"id\":\"9815\",\"type\":\"ColumnDataSource\"}},\"id\":\"9819\",\"type\":\"CDSView\"},{\"attributes\":{\"line_alpha\":0.1,\"line_color\":\"#1f77b4\",\"line_width\":2,\"x\":{\"field\":\"x\"},\"y\":{\"field\":\"y\"}},\"id\":\"9804\",\"type\":\"Line\"},{\"attributes\":{},\"id\":\"9789\",\"type\":\"PanTool\"},{\"attributes\":{\"source\":{\"id\":\"9802\",\"type\":\"ColumnDataSource\"}},\"id\":\"9806\",\"type\":\"CDSView\"},{\"attributes\":{\"source\":{\"id\":\"9836\",\"type\":\"ColumnDataSource\"}},\"id\":\"9840\",\"type\":\"CDSView\"},{\"attributes\":{\"callback\":null,\"data\":{\"x\":[2011,2012,2013,2014,2015,2016,2017],\"y\":[8.442632594164886,8.280803801688915,8.268547280285574,8.244332340757541,8.338024471321303,8.332428699040605,7.94451901249688]},\"selected\":{\"id\":\"10217\",\"type\":\"Selection\"},\"selection_policy\":{\"id\":\"10218\",\"type\":\"UnionRenderers\"}},\"id\":\"9820\",\"type\":\"ColumnDataSource\"},{\"attributes\":{},\"id\":\"9832\",\"type\":\"UnionRenderers\"},{\"attributes\":{\"items\":[{\"id\":\"9814\",\"type\":\"LegendItem\"},{\"id\":\"9835\",\"type\":\"LegendItem\"}],\"location\":\"bottom_left\"},\"id\":\"9813\",\"type\":\"Legend\"},{\"attributes\":{\"data_source\":{\"id\":\"9815\",\"type\":\"ColumnDataSource\"},\"glyph\":{\"id\":\"9816\",\"type\":\"Circle\"},\"hover_glyph\":null,\"muted_glyph\":null,\"nonselection_glyph\":{\"id\":\"9817\",\"type\":\"Circle\"},\"selection_glyph\":null,\"view\":{\"id\":\"9819\",\"type\":\"CDSView\"}},\"id\":\"9818\",\"type\":\"GlyphRenderer\"},{\"attributes\":{\"axis_label\":\"Percentage\",\"formatter\":{\"id\":\"9808\",\"type\":\"BasicTickFormatter\"},\"ticker\":{\"id\":\"9785\",\"type\":\"BasicTicker\"}},\"id\":\"9784\",\"type\":\"LinearAxis\"},{\"attributes\":{},\"id\":\"9793\",\"type\":\"ResetTool\"},{\"attributes\":{},\"id\":\"9785\",\"type\":\"BasicTicker\"},{\"attributes\":{\"data_source\":{\"id\":\"9836\",\"type\":\"ColumnDataSource\"},\"glyph\":{\"id\":\"9837\",\"type\":\"Circle\"},\"hover_glyph\":null,\"muted_glyph\":null,\"nonselection_glyph\":{\"id\":\"9838\",\"type\":\"Circle\"},\"selection_glyph\":null,\"view\":{\"id\":\"9840\",\"type\":\"CDSView\"}},\"id\":\"9839\",\"type\":\"GlyphRenderer\"},{\"attributes\":{\"dimension\":1,\"ticker\":{\"id\":\"9785\",\"type\":\"BasicTicker\"}},\"id\":\"9788\",\"type\":\"Grid\"},{\"attributes\":{\"line_color\":\"blue\",\"line_width\":2,\"x\":{\"field\":\"x\"},\"y\":{\"field\":\"y\"}},\"id\":\"9821\",\"type\":\"Line\"},{\"attributes\":{},\"id\":\"9794\",\"type\":\"HelpTool\"},{\"attributes\":{},\"id\":\"9833\",\"type\":\"Selection\"},{\"attributes\":{\"bottom_units\":\"screen\",\"fill_alpha\":{\"value\":0.5},\"fill_color\":{\"value\":\"lightgrey\"},\"left_units\":\"screen\",\"level\":\"overlay\",\"line_alpha\":{\"value\":1.0},\"line_color\":{\"value\":\"black\"},\"line_dash\":[4,4],\"line_width\":{\"value\":2},\"render_mode\":\"css\",\"right_units\":\"screen\",\"top_units\":\"screen\"},\"id\":\"9812\",\"type\":\"BoxAnnotation\"},{\"attributes\":{\"fill_alpha\":{\"value\":0.1},\"fill_color\":{\"value\":\"#1f77b4\"},\"line_alpha\":{\"value\":0.1},\"line_color\":{\"value\":\"#1f77b4\"},\"line_width\":{\"value\":3},\"x\":{\"field\":\"x\"},\"y\":{\"field\":\"y\"}},\"id\":\"9817\",\"type\":\"Circle\"},{\"attributes\":{},\"id\":\"9780\",\"type\":\"BasicTicker\"},{\"attributes\":{\"active_drag\":\"auto\",\"active_inspect\":\"auto\",\"active_multi\":null,\"active_scroll\":\"auto\",\"active_tap\":\"auto\",\"tools\":[{\"id\":\"9789\",\"type\":\"PanTool\"},{\"id\":\"9790\",\"type\":\"WheelZoomTool\"},{\"id\":\"9791\",\"type\":\"BoxZoomTool\"},{\"id\":\"9792\",\"type\":\"SaveTool\"},{\"id\":\"9793\",\"type\":\"ResetTool\"},{\"id\":\"9794\",\"type\":\"HelpTool\"},{\"id\":\"9841\",\"type\":\"HoverTool\"}]},\"id\":\"9795\",\"type\":\"Toolbar\"},{\"attributes\":{\"ticker\":{\"id\":\"9780\",\"type\":\"BasicTicker\"}},\"id\":\"9783\",\"type\":\"Grid\"},{\"attributes\":{\"fill_alpha\":{\"value\":0.1},\"fill_color\":{\"value\":\"#1f77b4\"},\"line_alpha\":{\"value\":0.1},\"line_color\":{\"value\":\"#1f77b4\"},\"line_width\":{\"value\":3},\"x\":{\"field\":\"x\"},\"y\":{\"field\":\"y\"}},\"id\":\"9838\",\"type\":\"Circle\"},{\"attributes\":{\"line_alpha\":0.1,\"line_color\":\"#1f77b4\",\"line_width\":2,\"x\":{\"field\":\"x\"},\"y\":{\"field\":\"y\"}},\"id\":\"9822\",\"type\":\"Line\"},{\"attributes\":{},\"id\":\"9834\",\"type\":\"UnionRenderers\"},{\"attributes\":{},\"id\":\"9810\",\"type\":\"BasicTickFormatter\"},{\"attributes\":{},\"id\":\"10217\",\"type\":\"Selection\"},{\"attributes\":{},\"id\":\"9790\",\"type\":\"WheelZoomTool\"},{\"attributes\":{},\"id\":\"9775\",\"type\":\"LinearScale\"},{\"attributes\":{\"fill_color\":{\"value\":\"red\"},\"line_color\":{\"value\":\"red\"},\"line_width\":{\"value\":3},\"x\":{\"field\":\"x\"},\"y\":{\"field\":\"y\"}},\"id\":\"9816\",\"type\":\"Circle\"},{\"attributes\":{},\"id\":\"9777\",\"type\":\"LinearScale\"},{\"attributes\":{},\"id\":\"10218\",\"type\":\"UnionRenderers\"},{\"attributes\":{\"data_source\":{\"id\":\"9820\",\"type\":\"ColumnDataSource\"},\"glyph\":{\"id\":\"9821\",\"type\":\"Line\"},\"hover_glyph\":null,\"muted_glyph\":null,\"nonselection_glyph\":{\"id\":\"9822\",\"type\":\"Line\"},\"selection_glyph\":null,\"view\":{\"id\":\"9824\",\"type\":\"CDSView\"}},\"id\":\"9823\",\"type\":\"GlyphRenderer\"},{\"attributes\":{\"axis_label\":\"Years\",\"formatter\":{\"id\":\"9810\",\"type\":\"BasicTickFormatter\"},\"ticker\":{\"id\":\"9780\",\"type\":\"BasicTicker\"}},\"id\":\"9779\",\"type\":\"LinearAxis\"}],\"root_ids\":[\"9768\"]},\"title\":\"Bokeh Application\",\"version\":\"1.3.4\"}};\n",
       "  var render_items = [{\"docid\":\"8e8d8ff4-9485-441b-95fe-7384104fc4a5\",\"roots\":{\"9768\":\"67989498-cd96-4795-83b3-84a40edb73f1\"}}];\n",
       "  root.Bokeh.embed.embed_items_notebook(docs_json, render_items);\n",
       "\n",
       "  }\n",
       "  if (root.Bokeh !== undefined) {\n",
       "    embed_document(root);\n",
       "  } else {\n",
       "    var attempts = 0;\n",
       "    var timer = setInterval(function(root) {\n",
       "      if (root.Bokeh !== undefined) {\n",
       "        embed_document(root);\n",
       "        clearInterval(timer);\n",
       "      }\n",
       "      attempts++;\n",
       "      if (attempts > 100) {\n",
       "        console.log(\"Bokeh: ERROR: Unable to run BokehJS code because BokehJS library is missing\");\n",
       "        clearInterval(timer);\n",
       "      }\n",
       "    }, 10, root)\n",
       "  }\n",
       "})(window);"
      ],
      "application/vnd.bokehjs_exec.v0+json": ""
     },
     "metadata": {
      "application/vnd.bokehjs_exec.v0+json": {
       "id": "9768"
      }
     },
     "output_type": "display_data"
    }
   ],
   "source": [
    "show_weighted_average('NV.AGR.TOTL.ZS', 'NY.GDP.MKTP.CD', ['LDCs', 'Developing excluding LDCs'])"
   ]
  },
  {
   "cell_type": "code",
   "execution_count": 46,
   "metadata": {},
   "outputs": [
    {
     "data": {
      "text/html": [
       "\n",
       "\n",
       "\n",
       "\n",
       "\n",
       "\n",
       "  <div class=\"bk-root\" id=\"38db9ff1-2f83-424b-8496-70b747624ef1\" data-root-id=\"10305\"></div>\n"
      ]
     },
     "metadata": {},
     "output_type": "display_data"
    },
    {
     "data": {
      "application/javascript": [
       "(function(root) {\n",
       "  function embed_document(root) {\n",
       "    \n",
       "  var docs_json = {\"9e6cae59-fc3b-4394-8d33-3233f0eba6e6\":{\"roots\":{\"references\":[{\"attributes\":{\"below\":[{\"id\":\"10316\",\"type\":\"LinearAxis\"}],\"center\":[{\"id\":\"10320\",\"type\":\"Grid\"},{\"id\":\"10325\",\"type\":\"Grid\"},{\"id\":\"10350\",\"type\":\"Legend\"}],\"left\":[{\"id\":\"10321\",\"type\":\"LinearAxis\"}],\"plot_height\":400,\"plot_width\":950,\"renderers\":[{\"id\":\"10342\",\"type\":\"GlyphRenderer\"},{\"id\":\"10355\",\"type\":\"GlyphRenderer\"},{\"id\":\"10360\",\"type\":\"GlyphRenderer\"},{\"id\":\"10376\",\"type\":\"GlyphRenderer\"}],\"title\":{\"id\":\"10306\",\"type\":\"Title\"},\"toolbar\":{\"id\":\"10332\",\"type\":\"Toolbar\"},\"x_range\":{\"id\":\"10308\",\"type\":\"DataRange1d\"},\"x_scale\":{\"id\":\"10312\",\"type\":\"LinearScale\"},\"y_range\":{\"id\":\"10310\",\"type\":\"DataRange1d\"},\"y_scale\":{\"id\":\"10314\",\"type\":\"LinearScale\"}},\"id\":\"10305\",\"subtype\":\"Figure\",\"type\":\"Plot\"},{\"attributes\":{\"source\":{\"id\":\"10339\",\"type\":\"ColumnDataSource\"}},\"id\":\"10343\",\"type\":\"CDSView\"},{\"attributes\":{\"ticker\":{\"id\":\"10317\",\"type\":\"BasicTicker\"}},\"id\":\"10320\",\"type\":\"Grid\"},{\"attributes\":{},\"id\":\"10312\",\"type\":\"LinearScale\"},{\"attributes\":{},\"id\":\"10769\",\"type\":\"UnionRenderers\"},{\"attributes\":{\"data_source\":{\"id\":\"10357\",\"type\":\"ColumnDataSource\"},\"glyph\":{\"id\":\"10358\",\"type\":\"Line\"},\"hover_glyph\":null,\"muted_glyph\":null,\"nonselection_glyph\":{\"id\":\"10359\",\"type\":\"Line\"},\"selection_glyph\":null,\"view\":{\"id\":\"10361\",\"type\":\"CDSView\"}},\"id\":\"10360\",\"type\":\"GlyphRenderer\"},{\"attributes\":{},\"id\":\"10314\",\"type\":\"LinearScale\"},{\"attributes\":{},\"id\":\"10330\",\"type\":\"ResetTool\"},{\"attributes\":{\"source\":{\"id\":\"10352\",\"type\":\"ColumnDataSource\"}},\"id\":\"10356\",\"type\":\"CDSView\"},{\"attributes\":{\"overlay\":{\"id\":\"10349\",\"type\":\"BoxAnnotation\"}},\"id\":\"10328\",\"type\":\"BoxZoomTool\"},{\"attributes\":{},\"id\":\"10371\",\"type\":\"UnionRenderers\"},{\"attributes\":{},\"id\":\"10771\",\"type\":\"UnionRenderers\"},{\"attributes\":{\"fill_alpha\":{\"value\":0.1},\"fill_color\":{\"value\":\"#1f77b4\"},\"line_alpha\":{\"value\":0.1},\"line_color\":{\"value\":\"#1f77b4\"},\"line_width\":{\"value\":3},\"x\":{\"field\":\"x\"},\"y\":{\"field\":\"y\"}},\"id\":\"10375\",\"type\":\"Circle\"},{\"attributes\":{\"label\":{\"value\":\"LDCs\"},\"renderers\":[{\"id\":\"10342\",\"type\":\"GlyphRenderer\"}]},\"id\":\"10351\",\"type\":\"LegendItem\"},{\"attributes\":{\"line_alpha\":0.1,\"line_color\":\"#1f77b4\",\"line_width\":2,\"x\":{\"field\":\"x\"},\"y\":{\"field\":\"y\"}},\"id\":\"10359\",\"type\":\"Line\"},{\"attributes\":{\"data_source\":{\"id\":\"10352\",\"type\":\"ColumnDataSource\"},\"glyph\":{\"id\":\"10353\",\"type\":\"Circle\"},\"hover_glyph\":null,\"muted_glyph\":null,\"nonselection_glyph\":{\"id\":\"10354\",\"type\":\"Circle\"},\"selection_glyph\":null,\"view\":{\"id\":\"10356\",\"type\":\"CDSView\"}},\"id\":\"10355\",\"type\":\"GlyphRenderer\"},{\"attributes\":{\"axis_label\":\"Years\",\"formatter\":{\"id\":\"10347\",\"type\":\"BasicTickFormatter\"},\"ticker\":{\"id\":\"10317\",\"type\":\"BasicTicker\"}},\"id\":\"10316\",\"type\":\"LinearAxis\"},{\"attributes\":{},\"id\":\"10331\",\"type\":\"HelpTool\"},{\"attributes\":{\"line_color\":\"red\",\"line_width\":2,\"x\":{\"field\":\"x\"},\"y\":{\"field\":\"y\"}},\"id\":\"10340\",\"type\":\"Line\"},{\"attributes\":{},\"id\":\"10327\",\"type\":\"WheelZoomTool\"},{\"attributes\":{\"source\":{\"id\":\"10373\",\"type\":\"ColumnDataSource\"}},\"id\":\"10377\",\"type\":\"CDSView\"},{\"attributes\":{\"dimension\":1,\"ticker\":{\"id\":\"10322\",\"type\":\"BasicTicker\"}},\"id\":\"10325\",\"type\":\"Grid\"},{\"attributes\":{\"line_color\":\"blue\",\"line_width\":2,\"x\":{\"field\":\"x\"},\"y\":{\"field\":\"y\"}},\"id\":\"10358\",\"type\":\"Line\"},{\"attributes\":{\"axis_label\":\"Percentage\",\"formatter\":{\"id\":\"10345\",\"type\":\"BasicTickFormatter\"},\"ticker\":{\"id\":\"10322\",\"type\":\"BasicTicker\"}},\"id\":\"10321\",\"type\":\"LinearAxis\"},{\"attributes\":{},\"id\":\"10370\",\"type\":\"Selection\"},{\"attributes\":{},\"id\":\"10770\",\"type\":\"Selection\"},{\"attributes\":{},\"id\":\"10317\",\"type\":\"BasicTicker\"},{\"attributes\":{\"active_drag\":\"auto\",\"active_inspect\":\"auto\",\"active_multi\":null,\"active_scroll\":\"auto\",\"active_tap\":\"auto\",\"tools\":[{\"id\":\"10326\",\"type\":\"PanTool\"},{\"id\":\"10327\",\"type\":\"WheelZoomTool\"},{\"id\":\"10328\",\"type\":\"BoxZoomTool\"},{\"id\":\"10329\",\"type\":\"SaveTool\"},{\"id\":\"10330\",\"type\":\"ResetTool\"},{\"id\":\"10331\",\"type\":\"HelpTool\"},{\"id\":\"10378\",\"type\":\"HoverTool\"}]},\"id\":\"10332\",\"type\":\"Toolbar\"},{\"attributes\":{\"bottom_units\":\"screen\",\"fill_alpha\":{\"value\":0.5},\"fill_color\":{\"value\":\"lightgrey\"},\"left_units\":\"screen\",\"level\":\"overlay\",\"line_alpha\":{\"value\":1.0},\"line_color\":{\"value\":\"black\"},\"line_dash\":[4,4],\"line_width\":{\"value\":2},\"render_mode\":\"css\",\"right_units\":\"screen\",\"top_units\":\"screen\"},\"id\":\"10349\",\"type\":\"BoxAnnotation\"},{\"attributes\":{},\"id\":\"10326\",\"type\":\"PanTool\"},{\"attributes\":{\"data_source\":{\"id\":\"10339\",\"type\":\"ColumnDataSource\"},\"glyph\":{\"id\":\"10340\",\"type\":\"Line\"},\"hover_glyph\":null,\"muted_glyph\":null,\"nonselection_glyph\":{\"id\":\"10341\",\"type\":\"Line\"},\"selection_glyph\":null,\"view\":{\"id\":\"10343\",\"type\":\"CDSView\"}},\"id\":\"10342\",\"type\":\"GlyphRenderer\"},{\"attributes\":{},\"id\":\"10345\",\"type\":\"BasicTickFormatter\"},{\"attributes\":{},\"id\":\"10322\",\"type\":\"BasicTicker\"},{\"attributes\":{},\"id\":\"10369\",\"type\":\"UnionRenderers\"},{\"attributes\":{},\"id\":\"10768\",\"type\":\"Selection\"},{\"attributes\":{\"callback\":null},\"id\":\"10308\",\"type\":\"DataRange1d\"},{\"attributes\":{},\"id\":\"10347\",\"type\":\"BasicTickFormatter\"},{\"attributes\":{\"label\":{\"value\":\"Developing excluding LDCs\"},\"renderers\":[{\"id\":\"10360\",\"type\":\"GlyphRenderer\"}]},\"id\":\"10372\",\"type\":\"LegendItem\"},{\"attributes\":{\"text\":\"Rural population (% of total population) weighted against Population, total\"},\"id\":\"10306\",\"type\":\"Title\"},{\"attributes\":{\"callback\":null,\"data\":{\"x\":[2001,2002,2003,2004,2005,2006,2007,2008,2009,2010,2011,2012,2013,2014,2015,2016,2017],\"y\":[58.19229593733421,57.49214750730395,56.79107257871115,56.08420239450577,55.37329789650857,54.672804549923406,53.97753965190463,53.28007273722422,52.58524307181396,51.892035276261424,51.22700828217376,50.57300177227711,49.922509991689395,49.273088119203514,48.627271251068386,47.98366015757143,47.34467173180429]},\"selected\":{\"id\":\"10768\",\"type\":\"Selection\"},\"selection_policy\":{\"id\":\"10769\",\"type\":\"UnionRenderers\"}},\"id\":\"10357\",\"type\":\"ColumnDataSource\"},{\"attributes\":{\"line_alpha\":0.1,\"line_color\":\"#1f77b4\",\"line_width\":2,\"x\":{\"field\":\"x\"},\"y\":{\"field\":\"y\"}},\"id\":\"10341\",\"type\":\"Line\"},{\"attributes\":{\"callback\":null,\"data\":{\"x\":[2001,2002,2003,2004,2005,2006,2007,2008,2009,2010,2011,2012,2013,2014,2015,2016,2017],\"y\":[58.19229593733421,57.49214750730395,56.79107257871115,56.08420239450577,55.37329789650857,54.672804549923406,53.97753965190463,53.28007273722422,52.58524307181396,51.892035276261424,51.22700828217376,50.57300177227711,49.922509991689395,49.273088119203514,48.627271251068386,47.98366015757143,47.34467173180429]},\"selected\":{\"id\":\"10770\",\"type\":\"Selection\"},\"selection_policy\":{\"id\":\"10771\",\"type\":\"UnionRenderers\"}},\"id\":\"10373\",\"type\":\"ColumnDataSource\"},{\"attributes\":{\"fill_alpha\":{\"value\":0.1},\"fill_color\":{\"value\":\"#1f77b4\"},\"line_alpha\":{\"value\":0.1},\"line_color\":{\"value\":\"#1f77b4\"},\"line_width\":{\"value\":3},\"x\":{\"field\":\"x\"},\"y\":{\"field\":\"y\"}},\"id\":\"10354\",\"type\":\"Circle\"},{\"attributes\":{\"callback\":null,\"tooltips\":\"\\n        <div style=padding=5px>Year:@x</div>\\n        <div style=padding=5px>Value:@y</div>\\n        \"},\"id\":\"10378\",\"type\":\"HoverTool\"},{\"attributes\":{\"data_source\":{\"id\":\"10373\",\"type\":\"ColumnDataSource\"},\"glyph\":{\"id\":\"10374\",\"type\":\"Circle\"},\"hover_glyph\":null,\"muted_glyph\":null,\"nonselection_glyph\":{\"id\":\"10375\",\"type\":\"Circle\"},\"selection_glyph\":null,\"view\":{\"id\":\"10377\",\"type\":\"CDSView\"}},\"id\":\"10376\",\"type\":\"GlyphRenderer\"},{\"attributes\":{},\"id\":\"10368\",\"type\":\"Selection\"},{\"attributes\":{\"callback\":null,\"data\":{\"x\":[2001,2002,2003,2004,2005,2006,2007,2008,2009,2010,2011,2012,2013,2014,2015,2016,2017],\"y\":[74.5885508477545,74.170728373618,73.7383105264119,73.30461571223451,72.85760200817124,72.41698364409473,72.02137630639736,71.53477802260059,71.03883841181646,70.53468445683475,70.02322338974272,69.54425681847671,69.04126913036824,68.53335948867445,68.02084860989429,67.5036702230874,66.98172550096228]},\"selected\":{\"id\":\"10370\",\"type\":\"Selection\"},\"selection_policy\":{\"id\":\"10371\",\"type\":\"UnionRenderers\"}},\"id\":\"10352\",\"type\":\"ColumnDataSource\"},{\"attributes\":{\"source\":{\"id\":\"10357\",\"type\":\"ColumnDataSource\"}},\"id\":\"10361\",\"type\":\"CDSView\"},{\"attributes\":{\"items\":[{\"id\":\"10351\",\"type\":\"LegendItem\"},{\"id\":\"10372\",\"type\":\"LegendItem\"}],\"location\":\"bottom_left\"},\"id\":\"10350\",\"type\":\"Legend\"},{\"attributes\":{\"callback\":null},\"id\":\"10310\",\"type\":\"DataRange1d\"},{\"attributes\":{\"callback\":null,\"data\":{\"x\":[2001,2002,2003,2004,2005,2006,2007,2008,2009,2010,2011,2012,2013,2014,2015,2016,2017],\"y\":[74.5885508477545,74.170728373618,73.7383105264119,73.30461571223451,72.85760200817124,72.41698364409473,72.02137630639736,71.53477802260059,71.03883841181646,70.53468445683475,70.02322338974272,69.54425681847671,69.04126913036824,68.53335948867445,68.02084860989429,67.5036702230874,66.98172550096228]},\"selected\":{\"id\":\"10368\",\"type\":\"Selection\"},\"selection_policy\":{\"id\":\"10369\",\"type\":\"UnionRenderers\"}},\"id\":\"10339\",\"type\":\"ColumnDataSource\"},{\"attributes\":{},\"id\":\"10329\",\"type\":\"SaveTool\"},{\"attributes\":{\"fill_color\":{\"value\":\"blue\"},\"line_color\":{\"value\":\"blue\"},\"line_width\":{\"value\":3},\"x\":{\"field\":\"x\"},\"y\":{\"field\":\"y\"}},\"id\":\"10374\",\"type\":\"Circle\"},{\"attributes\":{\"fill_color\":{\"value\":\"red\"},\"line_color\":{\"value\":\"red\"},\"line_width\":{\"value\":3},\"x\":{\"field\":\"x\"},\"y\":{\"field\":\"y\"}},\"id\":\"10353\",\"type\":\"Circle\"}],\"root_ids\":[\"10305\"]},\"title\":\"Bokeh Application\",\"version\":\"1.3.4\"}};\n",
       "  var render_items = [{\"docid\":\"9e6cae59-fc3b-4394-8d33-3233f0eba6e6\",\"roots\":{\"10305\":\"38db9ff1-2f83-424b-8496-70b747624ef1\"}}];\n",
       "  root.Bokeh.embed.embed_items_notebook(docs_json, render_items);\n",
       "\n",
       "  }\n",
       "  if (root.Bokeh !== undefined) {\n",
       "    embed_document(root);\n",
       "  } else {\n",
       "    var attempts = 0;\n",
       "    var timer = setInterval(function(root) {\n",
       "      if (root.Bokeh !== undefined) {\n",
       "        embed_document(root);\n",
       "        clearInterval(timer);\n",
       "      }\n",
       "      attempts++;\n",
       "      if (attempts > 100) {\n",
       "        console.log(\"Bokeh: ERROR: Unable to run BokehJS code because BokehJS library is missing\");\n",
       "        clearInterval(timer);\n",
       "      }\n",
       "    }, 10, root)\n",
       "  }\n",
       "})(window);"
      ],
      "application/vnd.bokehjs_exec.v0+json": ""
     },
     "metadata": {
      "application/vnd.bokehjs_exec.v0+json": {
       "id": "10305"
      }
     },
     "output_type": "display_data"
    }
   ],
   "source": [
    "# Urban population as a percentage of total population\n",
    "show_weighted_average('SP.RUR.TOTL.ZS', 'SP.POP.TOTL', ['LDCs', 'Developing excluding LDCs'])"
   ]
  },
  {
   "cell_type": "code",
   "execution_count": 10,
   "metadata": {},
   "outputs": [
    {
     "data": {
      "text/html": [
       "\n",
       "\n",
       "\n",
       "\n",
       "\n",
       "\n",
       "  <div class=\"bk-root\" id=\"58167992-9c1d-4bdf-b32b-d92bcfefa25e\" data-root-id=\"1362\"></div>\n"
      ]
     },
     "metadata": {},
     "output_type": "display_data"
    },
    {
     "data": {
      "application/javascript": [
       "(function(root) {\n",
       "  function embed_document(root) {\n",
       "    \n",
       "  var docs_json = {\"b8f6f056-2b7c-410c-aa83-fb20d2b50b9a\":{\"roots\":{\"references\":[{\"attributes\":{\"below\":[{\"id\":\"1373\",\"type\":\"LinearAxis\"}],\"center\":[{\"id\":\"1377\",\"type\":\"Grid\"},{\"id\":\"1382\",\"type\":\"Grid\"},{\"id\":\"1407\",\"type\":\"Legend\"}],\"left\":[{\"id\":\"1378\",\"type\":\"LinearAxis\"}],\"plot_height\":400,\"plot_width\":900,\"renderers\":[{\"id\":\"1399\",\"type\":\"GlyphRenderer\"},{\"id\":\"1412\",\"type\":\"GlyphRenderer\"},{\"id\":\"1417\",\"type\":\"GlyphRenderer\"},{\"id\":\"1433\",\"type\":\"GlyphRenderer\"}],\"title\":{\"id\":\"1363\",\"type\":\"Title\"},\"toolbar\":{\"id\":\"1389\",\"type\":\"Toolbar\"},\"x_range\":{\"id\":\"1365\",\"type\":\"DataRange1d\"},\"x_scale\":{\"id\":\"1369\",\"type\":\"LinearScale\"},\"y_range\":{\"id\":\"1367\",\"type\":\"DataRange1d\"},\"y_scale\":{\"id\":\"1371\",\"type\":\"LinearScale\"}},\"id\":\"1362\",\"subtype\":\"Figure\",\"type\":\"Plot\"},{\"attributes\":{\"callback\":null,\"tooltips\":\"\\n        <div style=padding=5px>Year:@x</div>\\n        <div style=padding=5px>Value:@y</div>\\n        \"},\"id\":\"1435\",\"type\":\"HoverTool\"},{\"attributes\":{\"source\":{\"id\":\"1414\",\"type\":\"ColumnDataSource\"}},\"id\":\"1418\",\"type\":\"CDSView\"},{\"attributes\":{\"items\":[{\"id\":\"1408\",\"type\":\"LegendItem\"},{\"id\":\"1429\",\"type\":\"LegendItem\"}]},\"id\":\"1407\",\"type\":\"Legend\"},{\"attributes\":{\"text\":\"People using safely managed sanitation services (% of population) weighted against Population, total\"},\"id\":\"1363\",\"type\":\"Title\"},{\"attributes\":{\"fill_color\":{\"value\":\"blue\"},\"line_color\":{\"value\":\"blue\"},\"line_width\":{\"value\":3},\"x\":{\"field\":\"x\"},\"y\":{\"field\":\"y\"}},\"id\":\"1431\",\"type\":\"Circle\"},{\"attributes\":{\"axis_label\":\"Years\",\"formatter\":{\"id\":\"1404\",\"type\":\"BasicTickFormatter\"},\"ticker\":{\"id\":\"1374\",\"type\":\"BasicTicker\"}},\"id\":\"1373\",\"type\":\"LinearAxis\"},{\"attributes\":{\"source\":{\"id\":\"1409\",\"type\":\"ColumnDataSource\"}},\"id\":\"1413\",\"type\":\"CDSView\"},{\"attributes\":{},\"id\":\"1476\",\"type\":\"UnionRenderers\"},{\"attributes\":{},\"id\":\"1428\",\"type\":\"UnionRenderers\"},{\"attributes\":{\"callback\":null},\"id\":\"1365\",\"type\":\"DataRange1d\"},{\"attributes\":{\"overlay\":{\"id\":\"1406\",\"type\":\"BoxAnnotation\"}},\"id\":\"1385\",\"type\":\"BoxZoomTool\"},{\"attributes\":{\"callback\":null,\"data\":{\"x\":[2001,2002,2003,2004,2005,2006,2007,2008,2009,2010,2011,2012,2013,2014,2015,2016,2017],\"y\":[29.209016301994986,29.79844631497895,31.18696960164219,32.69297789614253,34.30733873540627,36.01016978662808,37.93187043091685,39.94500520648879,42.030124061483484,44.17895500170897,46.379028286829,48.629387865906054,50.964846617773375,53.3500288017079,55.76782165250671,58.22878123081063,60.72069424656215]},\"selected\":{\"id\":\"1475\",\"type\":\"Selection\"},\"selection_policy\":{\"id\":\"1476\",\"type\":\"UnionRenderers\"}},\"id\":\"1414\",\"type\":\"ColumnDataSource\"},{\"attributes\":{},\"id\":\"1477\",\"type\":\"Selection\"},{\"attributes\":{\"label\":{\"value\":\"Developing excluding LDCs\"},\"renderers\":[{\"id\":\"1417\",\"type\":\"GlyphRenderer\"}]},\"id\":\"1429\",\"type\":\"LegendItem\"},{\"attributes\":{},\"id\":\"1404\",\"type\":\"BasicTickFormatter\"},{\"attributes\":{},\"id\":\"1374\",\"type\":\"BasicTicker\"},{\"attributes\":{},\"id\":\"1386\",\"type\":\"SaveTool\"},{\"attributes\":{\"line_color\":\"blue\",\"line_width\":2,\"x\":{\"field\":\"x\"},\"y\":{\"field\":\"y\"}},\"id\":\"1415\",\"type\":\"Line\"},{\"attributes\":{\"line_color\":\"red\",\"line_width\":2,\"x\":{\"field\":\"x\"},\"y\":{\"field\":\"y\"}},\"id\":\"1397\",\"type\":\"Line\"},{\"attributes\":{\"callback\":null,\"data\":{\"x\":[2001,2002,2003,2004,2005,2006,2007,2008,2009,2010,2011,2012,2013,2014,2015,2016,2017],\"y\":[29.209016301994986,29.79844631497895,31.18696960164219,32.69297789614253,34.30733873540627,36.01016978662808,37.93187043091685,39.94500520648879,42.030124061483484,44.17895500170897,46.379028286829,48.629387865906054,50.964846617773375,53.3500288017079,55.76782165250671,58.22878123081063,60.72069424656215]},\"selected\":{\"id\":\"1477\",\"type\":\"Selection\"},\"selection_policy\":{\"id\":\"1478\",\"type\":\"UnionRenderers\"}},\"id\":\"1430\",\"type\":\"ColumnDataSource\"},{\"attributes\":{\"bottom_units\":\"screen\",\"fill_alpha\":{\"value\":0.5},\"fill_color\":{\"value\":\"lightgrey\"},\"left_units\":\"screen\",\"level\":\"overlay\",\"line_alpha\":{\"value\":1.0},\"line_color\":{\"value\":\"black\"},\"line_dash\":[4,4],\"line_width\":{\"value\":2},\"render_mode\":\"css\",\"right_units\":\"screen\",\"top_units\":\"screen\"},\"id\":\"1406\",\"type\":\"BoxAnnotation\"},{\"attributes\":{},\"id\":\"1478\",\"type\":\"UnionRenderers\"},{\"attributes\":{\"ticker\":{\"id\":\"1374\",\"type\":\"BasicTicker\"}},\"id\":\"1377\",\"type\":\"Grid\"},{\"attributes\":{\"fill_color\":{\"value\":\"red\"},\"line_color\":{\"value\":\"red\"},\"line_width\":{\"value\":3},\"x\":{\"field\":\"x\"},\"y\":{\"field\":\"y\"}},\"id\":\"1410\",\"type\":\"Circle\"},{\"attributes\":{\"source\":{\"id\":\"1430\",\"type\":\"ColumnDataSource\"}},\"id\":\"1434\",\"type\":\"CDSView\"},{\"attributes\":{\"data_source\":{\"id\":\"1396\",\"type\":\"ColumnDataSource\"},\"glyph\":{\"id\":\"1397\",\"type\":\"Line\"},\"hover_glyph\":null,\"muted_glyph\":null,\"nonselection_glyph\":{\"id\":\"1398\",\"type\":\"Line\"},\"selection_glyph\":null,\"view\":{\"id\":\"1400\",\"type\":\"CDSView\"}},\"id\":\"1399\",\"type\":\"GlyphRenderer\"},{\"attributes\":{},\"id\":\"1425\",\"type\":\"Selection\"},{\"attributes\":{},\"id\":\"1387\",\"type\":\"ResetTool\"},{\"attributes\":{\"fill_alpha\":{\"value\":0.1},\"fill_color\":{\"value\":\"#1f77b4\"},\"line_alpha\":{\"value\":0.1},\"line_color\":{\"value\":\"#1f77b4\"},\"line_width\":{\"value\":3},\"x\":{\"field\":\"x\"},\"y\":{\"field\":\"y\"}},\"id\":\"1411\",\"type\":\"Circle\"},{\"attributes\":{},\"id\":\"1426\",\"type\":\"UnionRenderers\"},{\"attributes\":{\"callback\":null,\"data\":{\"x\":[2001,2002,2003,2004,2005,2006,2007,2008,2009,2010,2011,2012,2013,2014,2015,2016,2017],\"y\":[8.310611901533424,9.28077115926377,10.252918388064186,11.205379345323372,12.149632874228196,13.089596716542752,14.025080502459863,14.955900981807803,15.821696108471013,16.70904578976817,17.553474451435996,18.374064944696872,19.187805301854958,19.99536707307814,20.797136473512595,21.58898092737968,22.37410478687044]},\"selected\":{\"id\":\"1425\",\"type\":\"Selection\"},\"selection_policy\":{\"id\":\"1426\",\"type\":\"UnionRenderers\"}},\"id\":\"1396\",\"type\":\"ColumnDataSource\"},{\"attributes\":{\"callback\":null},\"id\":\"1367\",\"type\":\"DataRange1d\"},{\"attributes\":{\"dimension\":1,\"ticker\":{\"id\":\"1379\",\"type\":\"BasicTicker\"}},\"id\":\"1382\",\"type\":\"Grid\"},{\"attributes\":{\"source\":{\"id\":\"1396\",\"type\":\"ColumnDataSource\"}},\"id\":\"1400\",\"type\":\"CDSView\"},{\"attributes\":{\"data_source\":{\"id\":\"1409\",\"type\":\"ColumnDataSource\"},\"glyph\":{\"id\":\"1410\",\"type\":\"Circle\"},\"hover_glyph\":null,\"muted_glyph\":null,\"nonselection_glyph\":{\"id\":\"1411\",\"type\":\"Circle\"},\"selection_glyph\":null,\"view\":{\"id\":\"1413\",\"type\":\"CDSView\"}},\"id\":\"1412\",\"type\":\"GlyphRenderer\"},{\"attributes\":{\"line_alpha\":0.1,\"line_color\":\"#1f77b4\",\"line_width\":2,\"x\":{\"field\":\"x\"},\"y\":{\"field\":\"y\"}},\"id\":\"1398\",\"type\":\"Line\"},{\"attributes\":{},\"id\":\"1427\",\"type\":\"Selection\"},{\"attributes\":{},\"id\":\"1475\",\"type\":\"Selection\"},{\"attributes\":{},\"id\":\"1369\",\"type\":\"LinearScale\"},{\"attributes\":{},\"id\":\"1402\",\"type\":\"BasicTickFormatter\"},{\"attributes\":{},\"id\":\"1383\",\"type\":\"PanTool\"},{\"attributes\":{},\"id\":\"1379\",\"type\":\"BasicTicker\"},{\"attributes\":{\"label\":{\"value\":\"LDCs\"},\"renderers\":[{\"id\":\"1399\",\"type\":\"GlyphRenderer\"}]},\"id\":\"1408\",\"type\":\"LegendItem\"},{\"attributes\":{\"line_alpha\":0.1,\"line_color\":\"#1f77b4\",\"line_width\":2,\"x\":{\"field\":\"x\"},\"y\":{\"field\":\"y\"}},\"id\":\"1416\",\"type\":\"Line\"},{\"attributes\":{\"fill_alpha\":{\"value\":0.1},\"fill_color\":{\"value\":\"#1f77b4\"},\"line_alpha\":{\"value\":0.1},\"line_color\":{\"value\":\"#1f77b4\"},\"line_width\":{\"value\":3},\"x\":{\"field\":\"x\"},\"y\":{\"field\":\"y\"}},\"id\":\"1432\",\"type\":\"Circle\"},{\"attributes\":{},\"id\":\"1371\",\"type\":\"LinearScale\"},{\"attributes\":{},\"id\":\"1388\",\"type\":\"HelpTool\"},{\"attributes\":{\"data_source\":{\"id\":\"1430\",\"type\":\"ColumnDataSource\"},\"glyph\":{\"id\":\"1431\",\"type\":\"Circle\"},\"hover_glyph\":null,\"muted_glyph\":null,\"nonselection_glyph\":{\"id\":\"1432\",\"type\":\"Circle\"},\"selection_glyph\":null,\"view\":{\"id\":\"1434\",\"type\":\"CDSView\"}},\"id\":\"1433\",\"type\":\"GlyphRenderer\"},{\"attributes\":{\"callback\":null,\"data\":{\"x\":[2001,2002,2003,2004,2005,2006,2007,2008,2009,2010,2011,2012,2013,2014,2015,2016,2017],\"y\":[8.310611901533424,9.28077115926377,10.252918388064186,11.205379345323372,12.149632874228196,13.089596716542752,14.025080502459863,14.955900981807803,15.821696108471013,16.70904578976817,17.553474451435996,18.374064944696872,19.187805301854958,19.99536707307814,20.797136473512595,21.58898092737968,22.37410478687044]},\"selected\":{\"id\":\"1427\",\"type\":\"Selection\"},\"selection_policy\":{\"id\":\"1428\",\"type\":\"UnionRenderers\"}},\"id\":\"1409\",\"type\":\"ColumnDataSource\"},{\"attributes\":{\"data_source\":{\"id\":\"1414\",\"type\":\"ColumnDataSource\"},\"glyph\":{\"id\":\"1415\",\"type\":\"Line\"},\"hover_glyph\":null,\"muted_glyph\":null,\"nonselection_glyph\":{\"id\":\"1416\",\"type\":\"Line\"},\"selection_glyph\":null,\"view\":{\"id\":\"1418\",\"type\":\"CDSView\"}},\"id\":\"1417\",\"type\":\"GlyphRenderer\"},{\"attributes\":{},\"id\":\"1384\",\"type\":\"WheelZoomTool\"},{\"attributes\":{\"axis_label\":\"Percentage\",\"formatter\":{\"id\":\"1402\",\"type\":\"BasicTickFormatter\"},\"ticker\":{\"id\":\"1379\",\"type\":\"BasicTicker\"}},\"id\":\"1378\",\"type\":\"LinearAxis\"},{\"attributes\":{\"active_drag\":\"auto\",\"active_inspect\":\"auto\",\"active_multi\":null,\"active_scroll\":\"auto\",\"active_tap\":\"auto\",\"tools\":[{\"id\":\"1383\",\"type\":\"PanTool\"},{\"id\":\"1384\",\"type\":\"WheelZoomTool\"},{\"id\":\"1385\",\"type\":\"BoxZoomTool\"},{\"id\":\"1386\",\"type\":\"SaveTool\"},{\"id\":\"1387\",\"type\":\"ResetTool\"},{\"id\":\"1388\",\"type\":\"HelpTool\"},{\"id\":\"1435\",\"type\":\"HoverTool\"}]},\"id\":\"1389\",\"type\":\"Toolbar\"}],\"root_ids\":[\"1362\"]},\"title\":\"Bokeh Application\",\"version\":\"1.3.4\"}};\n",
       "  var render_items = [{\"docid\":\"b8f6f056-2b7c-410c-aa83-fb20d2b50b9a\",\"roots\":{\"1362\":\"58167992-9c1d-4bdf-b32b-d92bcfefa25e\"}}];\n",
       "  root.Bokeh.embed.embed_items_notebook(docs_json, render_items);\n",
       "\n",
       "  }\n",
       "  if (root.Bokeh !== undefined) {\n",
       "    embed_document(root);\n",
       "  } else {\n",
       "    var attempts = 0;\n",
       "    var timer = setInterval(function(root) {\n",
       "      if (root.Bokeh !== undefined) {\n",
       "        embed_document(root);\n",
       "        clearInterval(timer);\n",
       "      }\n",
       "      attempts++;\n",
       "      if (attempts > 100) {\n",
       "        console.log(\"Bokeh: ERROR: Unable to run BokehJS code because BokehJS library is missing\");\n",
       "        clearInterval(timer);\n",
       "      }\n",
       "    }, 10, root)\n",
       "  }\n",
       "})(window);"
      ],
      "application/vnd.bokehjs_exec.v0+json": ""
     },
     "metadata": {
      "application/vnd.bokehjs_exec.v0+json": {
       "id": "1362"
      }
     },
     "output_type": "display_data"
    }
   ],
   "source": [
    "# Access to safely managed sanitation services\n",
    "show_weighted_average('SH.STA.SMSS.ZS', 'SP.POP.TOTL', ['LDCs', 'Developing excluding LDCs'])"
   ]
  },
  {
   "cell_type": "code",
   "execution_count": 18,
   "metadata": {},
   "outputs": [
    {
     "data": {
      "text/html": [
       "\n",
       "\n",
       "\n",
       "\n",
       "\n",
       "\n",
       "  <div class=\"bk-root\" id=\"c7868561-6758-4647-b7ac-5bc4c461103e\" data-root-id=\"3071\"></div>\n"
      ]
     },
     "metadata": {},
     "output_type": "display_data"
    },
    {
     "data": {
      "application/javascript": [
       "(function(root) {\n",
       "  function embed_document(root) {\n",
       "    \n",
       "  var docs_json = {\"3818739d-7daf-4f5e-9742-789644fa9cf2\":{\"roots\":{\"references\":[{\"attributes\":{\"below\":[{\"id\":\"3082\",\"type\":\"LinearAxis\"}],\"center\":[{\"id\":\"3086\",\"type\":\"Grid\"},{\"id\":\"3091\",\"type\":\"Grid\"},{\"id\":\"3116\",\"type\":\"Legend\"}],\"left\":[{\"id\":\"3087\",\"type\":\"LinearAxis\"}],\"plot_height\":400,\"plot_width\":900,\"renderers\":[{\"id\":\"3108\",\"type\":\"GlyphRenderer\"},{\"id\":\"3121\",\"type\":\"GlyphRenderer\"},{\"id\":\"3126\",\"type\":\"GlyphRenderer\"},{\"id\":\"3142\",\"type\":\"GlyphRenderer\"}],\"title\":{\"id\":\"3072\",\"type\":\"Title\"},\"toolbar\":{\"id\":\"3098\",\"type\":\"Toolbar\"},\"x_range\":{\"id\":\"3074\",\"type\":\"DataRange1d\"},\"x_scale\":{\"id\":\"3078\",\"type\":\"LinearScale\"},\"y_range\":{\"id\":\"3076\",\"type\":\"DataRange1d\"},\"y_scale\":{\"id\":\"3080\",\"type\":\"LinearScale\"}},\"id\":\"3071\",\"subtype\":\"Figure\",\"type\":\"Plot\"},{\"attributes\":{\"axis_label\":\"Years\",\"formatter\":{\"id\":\"3113\",\"type\":\"BasicTickFormatter\"},\"ticker\":{\"id\":\"3083\",\"type\":\"BasicTicker\"}},\"id\":\"3082\",\"type\":\"LinearAxis\"},{\"attributes\":{\"data_source\":{\"id\":\"3123\",\"type\":\"ColumnDataSource\"},\"glyph\":{\"id\":\"3124\",\"type\":\"Line\"},\"hover_glyph\":null,\"muted_glyph\":null,\"nonselection_glyph\":{\"id\":\"3125\",\"type\":\"Line\"},\"selection_glyph\":null,\"view\":{\"id\":\"3127\",\"type\":\"CDSView\"}},\"id\":\"3126\",\"type\":\"GlyphRenderer\"},{\"attributes\":{\"callback\":null,\"data\":{\"x\":[2011,2012,2013,2014,2015,2016,2017],\"y\":[86.52637049847507,90.79201280313602,89.77735203026297,93.27009066227772,99.21672065722079,99.33845058757792,90.85673268334824]},\"selected\":{\"id\":\"3284\",\"type\":\"Selection\"},\"selection_policy\":{\"id\":\"3285\",\"type\":\"UnionRenderers\"}},\"id\":\"3139\",\"type\":\"ColumnDataSource\"},{\"attributes\":{},\"id\":\"3111\",\"type\":\"BasicTickFormatter\"},{\"attributes\":{},\"id\":\"3083\",\"type\":\"BasicTicker\"},{\"attributes\":{},\"id\":\"3284\",\"type\":\"Selection\"},{\"attributes\":{\"line_color\":\"blue\",\"line_width\":2,\"x\":{\"field\":\"x\"},\"y\":{\"field\":\"y\"}},\"id\":\"3124\",\"type\":\"Line\"},{\"attributes\":{\"data_source\":{\"id\":\"3118\",\"type\":\"ColumnDataSource\"},\"glyph\":{\"id\":\"3119\",\"type\":\"Circle\"},\"hover_glyph\":null,\"muted_glyph\":null,\"nonselection_glyph\":{\"id\":\"3120\",\"type\":\"Circle\"},\"selection_glyph\":null,\"view\":{\"id\":\"3122\",\"type\":\"CDSView\"}},\"id\":\"3121\",\"type\":\"GlyphRenderer\"},{\"attributes\":{\"ticker\":{\"id\":\"3083\",\"type\":\"BasicTicker\"}},\"id\":\"3086\",\"type\":\"Grid\"},{\"attributes\":{},\"id\":\"3113\",\"type\":\"BasicTickFormatter\"},{\"attributes\":{\"label\":{\"value\":\"Developing excluding LDCs\"},\"renderers\":[{\"id\":\"3126\",\"type\":\"GlyphRenderer\"}]},\"id\":\"3138\",\"type\":\"LegendItem\"},{\"attributes\":{\"axis_label\":\"Percentage\",\"formatter\":{\"id\":\"3111\",\"type\":\"BasicTickFormatter\"},\"ticker\":{\"id\":\"3088\",\"type\":\"BasicTicker\"}},\"id\":\"3087\",\"type\":\"LinearAxis\"},{\"attributes\":{\"callback\":null,\"data\":{\"x\":[2011,2012,2013,2014,2015,2016,2017],\"y\":[86.52637049847507,90.79201280313602,89.77735203026297,93.27009066227772,99.21672065722079,99.33845058757792,90.85673268334824]},\"selected\":{\"id\":\"3282\",\"type\":\"Selection\"},\"selection_policy\":{\"id\":\"3283\",\"type\":\"UnionRenderers\"}},\"id\":\"3123\",\"type\":\"ColumnDataSource\"},{\"attributes\":{\"bottom_units\":\"screen\",\"fill_alpha\":{\"value\":0.5},\"fill_color\":{\"value\":\"lightgrey\"},\"left_units\":\"screen\",\"level\":\"overlay\",\"line_alpha\":{\"value\":1.0},\"line_color\":{\"value\":\"black\"},\"line_dash\":[4,4],\"line_width\":{\"value\":2},\"render_mode\":\"css\",\"right_units\":\"screen\",\"top_units\":\"screen\"},\"id\":\"3115\",\"type\":\"BoxAnnotation\"},{\"attributes\":{},\"id\":\"3283\",\"type\":\"UnionRenderers\"},{\"attributes\":{},\"id\":\"3088\",\"type\":\"BasicTicker\"},{\"attributes\":{\"items\":[{\"id\":\"3117\",\"type\":\"LegendItem\"},{\"id\":\"3138\",\"type\":\"LegendItem\"}]},\"id\":\"3116\",\"type\":\"Legend\"},{\"attributes\":{},\"id\":\"3137\",\"type\":\"UnionRenderers\"},{\"attributes\":{\"dimension\":1,\"ticker\":{\"id\":\"3088\",\"type\":\"BasicTicker\"}},\"id\":\"3091\",\"type\":\"Grid\"},{\"attributes\":{\"label\":{\"value\":\"LDCs\"},\"renderers\":[{\"id\":\"3108\",\"type\":\"GlyphRenderer\"}]},\"id\":\"3117\",\"type\":\"LegendItem\"},{\"attributes\":{\"source\":{\"id\":\"3118\",\"type\":\"ColumnDataSource\"}},\"id\":\"3122\",\"type\":\"CDSView\"},{\"attributes\":{},\"id\":\"3282\",\"type\":\"Selection\"},{\"attributes\":{\"line_color\":\"red\",\"line_width\":2,\"x\":{\"field\":\"x\"},\"y\":{\"field\":\"y\"}},\"id\":\"3106\",\"type\":\"Line\"},{\"attributes\":{\"callback\":null,\"data\":{\"x\":[2011,2012,2013,2014,2015,2016,2017],\"y\":[69.73643076577738,76.28621410347083,82.34338029433856,78.83132852098583,79.67428038697989,84.88400348022604,81.7564251787433]},\"selected\":{\"id\":\"3136\",\"type\":\"Selection\"},\"selection_policy\":{\"id\":\"3137\",\"type\":\"UnionRenderers\"}},\"id\":\"3118\",\"type\":\"ColumnDataSource\"},{\"attributes\":{},\"id\":\"3136\",\"type\":\"Selection\"},{\"attributes\":{\"callback\":null,\"data\":{\"x\":[2011,2012,2013,2014,2015,2016,2017],\"y\":[69.73643076577738,76.28621410347083,82.34338029433856,78.83132852098583,79.67428038697989,84.88400348022604,81.7564251787433]},\"selected\":{\"id\":\"3134\",\"type\":\"Selection\"},\"selection_policy\":{\"id\":\"3135\",\"type\":\"UnionRenderers\"}},\"id\":\"3105\",\"type\":\"ColumnDataSource\"},{\"attributes\":{\"fill_color\":{\"value\":\"red\"},\"line_color\":{\"value\":\"red\"},\"line_width\":{\"value\":3},\"x\":{\"field\":\"x\"},\"y\":{\"field\":\"y\"}},\"id\":\"3119\",\"type\":\"Circle\"},{\"attributes\":{\"callback\":null,\"tooltips\":\"\\n        <div style=padding=5px>Year:@x</div>\\n        <div style=padding=5px>Value:@y</div>\\n        \"},\"id\":\"3144\",\"type\":\"HoverTool\"},{\"attributes\":{\"line_alpha\":0.1,\"line_color\":\"#1f77b4\",\"line_width\":2,\"x\":{\"field\":\"x\"},\"y\":{\"field\":\"y\"}},\"id\":\"3107\",\"type\":\"Line\"},{\"attributes\":{},\"id\":\"3092\",\"type\":\"PanTool\"},{\"attributes\":{},\"id\":\"3135\",\"type\":\"UnionRenderers\"},{\"attributes\":{},\"id\":\"3093\",\"type\":\"WheelZoomTool\"},{\"attributes\":{\"overlay\":{\"id\":\"3115\",\"type\":\"BoxAnnotation\"}},\"id\":\"3094\",\"type\":\"BoxZoomTool\"},{\"attributes\":{\"source\":{\"id\":\"3139\",\"type\":\"ColumnDataSource\"}},\"id\":\"3143\",\"type\":\"CDSView\"},{\"attributes\":{},\"id\":\"3095\",\"type\":\"SaveTool\"},{\"attributes\":{},\"id\":\"3134\",\"type\":\"Selection\"},{\"attributes\":{},\"id\":\"3096\",\"type\":\"ResetTool\"},{\"attributes\":{\"data_source\":{\"id\":\"3139\",\"type\":\"ColumnDataSource\"},\"glyph\":{\"id\":\"3140\",\"type\":\"Circle\"},\"hover_glyph\":null,\"muted_glyph\":null,\"nonselection_glyph\":{\"id\":\"3141\",\"type\":\"Circle\"},\"selection_glyph\":null,\"view\":{\"id\":\"3143\",\"type\":\"CDSView\"}},\"id\":\"3142\",\"type\":\"GlyphRenderer\"},{\"attributes\":{\"fill_alpha\":{\"value\":0.1},\"fill_color\":{\"value\":\"#1f77b4\"},\"line_alpha\":{\"value\":0.1},\"line_color\":{\"value\":\"#1f77b4\"},\"line_width\":{\"value\":3},\"x\":{\"field\":\"x\"},\"y\":{\"field\":\"y\"}},\"id\":\"3120\",\"type\":\"Circle\"},{\"attributes\":{\"text\":\"Literacy rate, youth female (% of females ages 15-24) weighted against Population, total\"},\"id\":\"3072\",\"type\":\"Title\"},{\"attributes\":{},\"id\":\"3097\",\"type\":\"HelpTool\"},{\"attributes\":{\"line_alpha\":0.1,\"line_color\":\"#1f77b4\",\"line_width\":2,\"x\":{\"field\":\"x\"},\"y\":{\"field\":\"y\"}},\"id\":\"3125\",\"type\":\"Line\"},{\"attributes\":{\"source\":{\"id\":\"3123\",\"type\":\"ColumnDataSource\"}},\"id\":\"3127\",\"type\":\"CDSView\"},{\"attributes\":{\"callback\":null},\"id\":\"3074\",\"type\":\"DataRange1d\"},{\"attributes\":{\"active_drag\":\"auto\",\"active_inspect\":\"auto\",\"active_multi\":null,\"active_scroll\":\"auto\",\"active_tap\":\"auto\",\"tools\":[{\"id\":\"3092\",\"type\":\"PanTool\"},{\"id\":\"3093\",\"type\":\"WheelZoomTool\"},{\"id\":\"3094\",\"type\":\"BoxZoomTool\"},{\"id\":\"3095\",\"type\":\"SaveTool\"},{\"id\":\"3096\",\"type\":\"ResetTool\"},{\"id\":\"3097\",\"type\":\"HelpTool\"},{\"id\":\"3144\",\"type\":\"HoverTool\"}]},\"id\":\"3098\",\"type\":\"Toolbar\"},{\"attributes\":{\"fill_alpha\":{\"value\":0.1},\"fill_color\":{\"value\":\"#1f77b4\"},\"line_alpha\":{\"value\":0.1},\"line_color\":{\"value\":\"#1f77b4\"},\"line_width\":{\"value\":3},\"x\":{\"field\":\"x\"},\"y\":{\"field\":\"y\"}},\"id\":\"3141\",\"type\":\"Circle\"},{\"attributes\":{\"callback\":null},\"id\":\"3076\",\"type\":\"DataRange1d\"},{\"attributes\":{},\"id\":\"3285\",\"type\":\"UnionRenderers\"},{\"attributes\":{\"data_source\":{\"id\":\"3105\",\"type\":\"ColumnDataSource\"},\"glyph\":{\"id\":\"3106\",\"type\":\"Line\"},\"hover_glyph\":null,\"muted_glyph\":null,\"nonselection_glyph\":{\"id\":\"3107\",\"type\":\"Line\"},\"selection_glyph\":null,\"view\":{\"id\":\"3109\",\"type\":\"CDSView\"}},\"id\":\"3108\",\"type\":\"GlyphRenderer\"},{\"attributes\":{},\"id\":\"3078\",\"type\":\"LinearScale\"},{\"attributes\":{\"fill_color\":{\"value\":\"blue\"},\"line_color\":{\"value\":\"blue\"},\"line_width\":{\"value\":3},\"x\":{\"field\":\"x\"},\"y\":{\"field\":\"y\"}},\"id\":\"3140\",\"type\":\"Circle\"},{\"attributes\":{},\"id\":\"3080\",\"type\":\"LinearScale\"},{\"attributes\":{\"source\":{\"id\":\"3105\",\"type\":\"ColumnDataSource\"}},\"id\":\"3109\",\"type\":\"CDSView\"}],\"root_ids\":[\"3071\"]},\"title\":\"Bokeh Application\",\"version\":\"1.3.4\"}};\n",
       "  var render_items = [{\"docid\":\"3818739d-7daf-4f5e-9742-789644fa9cf2\",\"roots\":{\"3071\":\"c7868561-6758-4647-b7ac-5bc4c461103e\"}}];\n",
       "  root.Bokeh.embed.embed_items_notebook(docs_json, render_items);\n",
       "\n",
       "  }\n",
       "  if (root.Bokeh !== undefined) {\n",
       "    embed_document(root);\n",
       "  } else {\n",
       "    var attempts = 0;\n",
       "    var timer = setInterval(function(root) {\n",
       "      if (root.Bokeh !== undefined) {\n",
       "        embed_document(root);\n",
       "        clearInterval(timer);\n",
       "      }\n",
       "      attempts++;\n",
       "      if (attempts > 100) {\n",
       "        console.log(\"Bokeh: ERROR: Unable to run BokehJS code because BokehJS library is missing\");\n",
       "        clearInterval(timer);\n",
       "      }\n",
       "    }, 10, root)\n",
       "  }\n",
       "})(window);"
      ],
      "application/vnd.bokehjs_exec.v0+json": ""
     },
     "metadata": {
      "application/vnd.bokehjs_exec.v0+json": {
       "id": "3071"
      }
     },
     "output_type": "display_data"
    }
   ],
   "source": [
    "# Literacy rate, youth female (% of females ages 15-24)\n",
    "years = list(range(2011,2018))\n",
    "show_weighted_average('SE.ADT.1524.LT.FE.ZS', 'SP.POP.TOTL', ['LDCs', 'Developing excluding LDCs'])"
   ]
  },
  {
   "cell_type": "code",
   "execution_count": 19,
   "metadata": {},
   "outputs": [
    {
     "data": {
      "text/html": [
       "\n",
       "\n",
       "\n",
       "\n",
       "\n",
       "\n",
       "  <div class=\"bk-root\" id=\"793264c6-2c52-4721-898d-fdbf0178c789\" data-root-id=\"3370\"></div>\n"
      ]
     },
     "metadata": {},
     "output_type": "display_data"
    },
    {
     "data": {
      "application/javascript": [
       "(function(root) {\n",
       "  function embed_document(root) {\n",
       "    \n",
       "  var docs_json = {\"d04b3e1d-83ed-43f7-b6e5-b0c1f8702e0e\":{\"roots\":{\"references\":[{\"attributes\":{\"below\":[{\"id\":\"3381\",\"type\":\"LinearAxis\"}],\"center\":[{\"id\":\"3385\",\"type\":\"Grid\"},{\"id\":\"3390\",\"type\":\"Grid\"},{\"id\":\"3415\",\"type\":\"Legend\"}],\"left\":[{\"id\":\"3386\",\"type\":\"LinearAxis\"}],\"plot_height\":400,\"plot_width\":900,\"renderers\":[{\"id\":\"3407\",\"type\":\"GlyphRenderer\"},{\"id\":\"3420\",\"type\":\"GlyphRenderer\"},{\"id\":\"3425\",\"type\":\"GlyphRenderer\"},{\"id\":\"3441\",\"type\":\"GlyphRenderer\"}],\"title\":{\"id\":\"3371\",\"type\":\"Title\"},\"toolbar\":{\"id\":\"3397\",\"type\":\"Toolbar\"},\"x_range\":{\"id\":\"3373\",\"type\":\"DataRange1d\"},\"x_scale\":{\"id\":\"3377\",\"type\":\"LinearScale\"},\"y_range\":{\"id\":\"3375\",\"type\":\"DataRange1d\"},\"y_scale\":{\"id\":\"3379\",\"type\":\"LinearScale\"}},\"id\":\"3370\",\"subtype\":\"Figure\",\"type\":\"Plot\"},{\"attributes\":{\"callback\":null},\"id\":\"3375\",\"type\":\"DataRange1d\"},{\"attributes\":{\"data_source\":{\"id\":\"3417\",\"type\":\"ColumnDataSource\"},\"glyph\":{\"id\":\"3418\",\"type\":\"Circle\"},\"hover_glyph\":null,\"muted_glyph\":null,\"nonselection_glyph\":{\"id\":\"3419\",\"type\":\"Circle\"},\"selection_glyph\":null,\"view\":{\"id\":\"3421\",\"type\":\"CDSView\"}},\"id\":\"3420\",\"type\":\"GlyphRenderer\"},{\"attributes\":{\"items\":[{\"id\":\"3416\",\"type\":\"LegendItem\"},{\"id\":\"3437\",\"type\":\"LegendItem\"}]},\"id\":\"3415\",\"type\":\"Legend\"},{\"attributes\":{},\"id\":\"3391\",\"type\":\"PanTool\"},{\"attributes\":{},\"id\":\"3597\",\"type\":\"Selection\"},{\"attributes\":{\"fill_color\":{\"value\":\"blue\"},\"line_color\":{\"value\":\"blue\"},\"line_width\":{\"value\":3},\"x\":{\"field\":\"x\"},\"y\":{\"field\":\"y\"}},\"id\":\"3439\",\"type\":\"Circle\"},{\"attributes\":{},\"id\":\"3377\",\"type\":\"LinearScale\"},{\"attributes\":{},\"id\":\"3410\",\"type\":\"BasicTickFormatter\"},{\"attributes\":{\"line_alpha\":0.1,\"line_color\":\"#1f77b4\",\"line_width\":2,\"x\":{\"field\":\"x\"},\"y\":{\"field\":\"y\"}},\"id\":\"3424\",\"type\":\"Line\"},{\"attributes\":{\"callback\":null,\"tooltips\":\"\\n        <div style=padding=5px>Year:@x</div>\\n        <div style=padding=5px>Value:@y</div>\\n        \"},\"id\":\"3443\",\"type\":\"HoverTool\"},{\"attributes\":{},\"id\":\"3392\",\"type\":\"WheelZoomTool\"},{\"attributes\":{\"line_color\":\"blue\",\"line_width\":2,\"x\":{\"field\":\"x\"},\"y\":{\"field\":\"y\"}},\"id\":\"3423\",\"type\":\"Line\"},{\"attributes\":{\"text\":\"Literacy rate, youth male (% of males ages 15-24) weighted against Population, total\"},\"id\":\"3371\",\"type\":\"Title\"},{\"attributes\":{},\"id\":\"3436\",\"type\":\"UnionRenderers\"},{\"attributes\":{\"fill_alpha\":{\"value\":0.1},\"fill_color\":{\"value\":\"#1f77b4\"},\"line_alpha\":{\"value\":0.1},\"line_color\":{\"value\":\"#1f77b4\"},\"line_width\":{\"value\":3},\"x\":{\"field\":\"x\"},\"y\":{\"field\":\"y\"}},\"id\":\"3419\",\"type\":\"Circle\"},{\"attributes\":{\"callback\":null},\"id\":\"3373\",\"type\":\"DataRange1d\"},{\"attributes\":{},\"id\":\"3598\",\"type\":\"UnionRenderers\"},{\"attributes\":{\"active_drag\":\"auto\",\"active_inspect\":\"auto\",\"active_multi\":null,\"active_scroll\":\"auto\",\"active_tap\":\"auto\",\"tools\":[{\"id\":\"3391\",\"type\":\"PanTool\"},{\"id\":\"3392\",\"type\":\"WheelZoomTool\"},{\"id\":\"3393\",\"type\":\"BoxZoomTool\"},{\"id\":\"3394\",\"type\":\"SaveTool\"},{\"id\":\"3395\",\"type\":\"ResetTool\"},{\"id\":\"3396\",\"type\":\"HelpTool\"},{\"id\":\"3443\",\"type\":\"HoverTool\"}]},\"id\":\"3397\",\"type\":\"Toolbar\"},{\"attributes\":{\"overlay\":{\"id\":\"3414\",\"type\":\"BoxAnnotation\"}},\"id\":\"3393\",\"type\":\"BoxZoomTool\"},{\"attributes\":{\"bottom_units\":\"screen\",\"fill_alpha\":{\"value\":0.5},\"fill_color\":{\"value\":\"lightgrey\"},\"left_units\":\"screen\",\"level\":\"overlay\",\"line_alpha\":{\"value\":1.0},\"line_color\":{\"value\":\"black\"},\"line_dash\":[4,4],\"line_width\":{\"value\":2},\"render_mode\":\"css\",\"right_units\":\"screen\",\"top_units\":\"screen\"},\"id\":\"3414\",\"type\":\"BoxAnnotation\"},{\"attributes\":{\"label\":{\"value\":\"Developing excluding LDCs\"},\"renderers\":[{\"id\":\"3425\",\"type\":\"GlyphRenderer\"}]},\"id\":\"3437\",\"type\":\"LegendItem\"},{\"attributes\":{\"data_source\":{\"id\":\"3422\",\"type\":\"ColumnDataSource\"},\"glyph\":{\"id\":\"3423\",\"type\":\"Line\"},\"hover_glyph\":null,\"muted_glyph\":null,\"nonselection_glyph\":{\"id\":\"3424\",\"type\":\"Line\"},\"selection_glyph\":null,\"view\":{\"id\":\"3426\",\"type\":\"CDSView\"}},\"id\":\"3425\",\"type\":\"GlyphRenderer\"},{\"attributes\":{\"source\":{\"id\":\"3404\",\"type\":\"ColumnDataSource\"}},\"id\":\"3408\",\"type\":\"CDSView\"},{\"attributes\":{\"fill_color\":{\"value\":\"red\"},\"line_color\":{\"value\":\"red\"},\"line_width\":{\"value\":3},\"x\":{\"field\":\"x\"},\"y\":{\"field\":\"y\"}},\"id\":\"3418\",\"type\":\"Circle\"},{\"attributes\":{},\"id\":\"3412\",\"type\":\"BasicTickFormatter\"},{\"attributes\":{\"line_color\":\"red\",\"line_width\":2,\"x\":{\"field\":\"x\"},\"y\":{\"field\":\"y\"}},\"id\":\"3405\",\"type\":\"Line\"},{\"attributes\":{\"data_source\":{\"id\":\"3404\",\"type\":\"ColumnDataSource\"},\"glyph\":{\"id\":\"3405\",\"type\":\"Line\"},\"hover_glyph\":null,\"muted_glyph\":null,\"nonselection_glyph\":{\"id\":\"3406\",\"type\":\"Line\"},\"selection_glyph\":null,\"view\":{\"id\":\"3408\",\"type\":\"CDSView\"}},\"id\":\"3407\",\"type\":\"GlyphRenderer\"},{\"attributes\":{\"callback\":null,\"data\":{\"x\":[2011,2012,2013,2014,2015,2016,2017],\"y\":[75.02611752268099,80.00946290801379,81.31988745347162,81.49752595333794,82.45513767129684,87.36621553878945,83.10410581112856]},\"selected\":{\"id\":\"3433\",\"type\":\"Selection\"},\"selection_policy\":{\"id\":\"3434\",\"type\":\"UnionRenderers\"}},\"id\":\"3404\",\"type\":\"ColumnDataSource\"},{\"attributes\":{\"line_alpha\":0.1,\"line_color\":\"#1f77b4\",\"line_width\":2,\"x\":{\"field\":\"x\"},\"y\":{\"field\":\"y\"}},\"id\":\"3406\",\"type\":\"Line\"},{\"attributes\":{\"source\":{\"id\":\"3422\",\"type\":\"ColumnDataSource\"}},\"id\":\"3426\",\"type\":\"CDSView\"},{\"attributes\":{},\"id\":\"3433\",\"type\":\"Selection\"},{\"attributes\":{\"callback\":null,\"data\":{\"x\":[2011,2012,2013,2014,2015,2016,2017],\"y\":[75.02611752268099,80.00946290801379,81.31988745347162,81.49752595333794,82.45513767129684,87.36621553878945,83.10410581112856]},\"selected\":{\"id\":\"3435\",\"type\":\"Selection\"},\"selection_policy\":{\"id\":\"3436\",\"type\":\"UnionRenderers\"}},\"id\":\"3417\",\"type\":\"ColumnDataSource\"},{\"attributes\":{\"axis_label\":\"Percentage\",\"formatter\":{\"id\":\"3410\",\"type\":\"BasicTickFormatter\"},\"ticker\":{\"id\":\"3387\",\"type\":\"BasicTicker\"}},\"id\":\"3386\",\"type\":\"LinearAxis\"},{\"attributes\":{\"data_source\":{\"id\":\"3438\",\"type\":\"ColumnDataSource\"},\"glyph\":{\"id\":\"3439\",\"type\":\"Circle\"},\"hover_glyph\":null,\"muted_glyph\":null,\"nonselection_glyph\":{\"id\":\"3440\",\"type\":\"Circle\"},\"selection_glyph\":null,\"view\":{\"id\":\"3442\",\"type\":\"CDSView\"}},\"id\":\"3441\",\"type\":\"GlyphRenderer\"},{\"attributes\":{},\"id\":\"3387\",\"type\":\"BasicTicker\"},{\"attributes\":{},\"id\":\"3394\",\"type\":\"SaveTool\"},{\"attributes\":{\"dimension\":1,\"ticker\":{\"id\":\"3387\",\"type\":\"BasicTicker\"}},\"id\":\"3390\",\"type\":\"Grid\"},{\"attributes\":{\"source\":{\"id\":\"3417\",\"type\":\"ColumnDataSource\"}},\"id\":\"3421\",\"type\":\"CDSView\"},{\"attributes\":{},\"id\":\"3434\",\"type\":\"UnionRenderers\"},{\"attributes\":{},\"id\":\"3595\",\"type\":\"Selection\"},{\"attributes\":{\"axis_label\":\"Years\",\"formatter\":{\"id\":\"3412\",\"type\":\"BasicTickFormatter\"},\"ticker\":{\"id\":\"3382\",\"type\":\"BasicTicker\"}},\"id\":\"3381\",\"type\":\"LinearAxis\"},{\"attributes\":{\"label\":{\"value\":\"LDCs\"},\"renderers\":[{\"id\":\"3407\",\"type\":\"GlyphRenderer\"}]},\"id\":\"3416\",\"type\":\"LegendItem\"},{\"attributes\":{},\"id\":\"3382\",\"type\":\"BasicTicker\"},{\"attributes\":{\"source\":{\"id\":\"3438\",\"type\":\"ColumnDataSource\"}},\"id\":\"3442\",\"type\":\"CDSView\"},{\"attributes\":{},\"id\":\"3395\",\"type\":\"ResetTool\"},{\"attributes\":{\"callback\":null,\"data\":{\"x\":[2011,2012,2013,2014,2015,2016,2017],\"y\":[92.16019298807787,94.37168223840837,92.90217775217923,95.33335755824594,98.975219890875,99.11517515407336,94.01304618557775]},\"selected\":{\"id\":\"3595\",\"type\":\"Selection\"},\"selection_policy\":{\"id\":\"3596\",\"type\":\"UnionRenderers\"}},\"id\":\"3422\",\"type\":\"ColumnDataSource\"},{\"attributes\":{\"fill_alpha\":{\"value\":0.1},\"fill_color\":{\"value\":\"#1f77b4\"},\"line_alpha\":{\"value\":0.1},\"line_color\":{\"value\":\"#1f77b4\"},\"line_width\":{\"value\":3},\"x\":{\"field\":\"x\"},\"y\":{\"field\":\"y\"}},\"id\":\"3440\",\"type\":\"Circle\"},{\"attributes\":{\"ticker\":{\"id\":\"3382\",\"type\":\"BasicTicker\"}},\"id\":\"3385\",\"type\":\"Grid\"},{\"attributes\":{},\"id\":\"3596\",\"type\":\"UnionRenderers\"},{\"attributes\":{},\"id\":\"3435\",\"type\":\"Selection\"},{\"attributes\":{\"callback\":null,\"data\":{\"x\":[2011,2012,2013,2014,2015,2016,2017],\"y\":[92.16019298807787,94.37168223840837,92.90217775217923,95.33335755824594,98.975219890875,99.11517515407336,94.01304618557775]},\"selected\":{\"id\":\"3597\",\"type\":\"Selection\"},\"selection_policy\":{\"id\":\"3598\",\"type\":\"UnionRenderers\"}},\"id\":\"3438\",\"type\":\"ColumnDataSource\"},{\"attributes\":{},\"id\":\"3396\",\"type\":\"HelpTool\"},{\"attributes\":{},\"id\":\"3379\",\"type\":\"LinearScale\"}],\"root_ids\":[\"3370\"]},\"title\":\"Bokeh Application\",\"version\":\"1.3.4\"}};\n",
       "  var render_items = [{\"docid\":\"d04b3e1d-83ed-43f7-b6e5-b0c1f8702e0e\",\"roots\":{\"3370\":\"793264c6-2c52-4721-898d-fdbf0178c789\"}}];\n",
       "  root.Bokeh.embed.embed_items_notebook(docs_json, render_items);\n",
       "\n",
       "  }\n",
       "  if (root.Bokeh !== undefined) {\n",
       "    embed_document(root);\n",
       "  } else {\n",
       "    var attempts = 0;\n",
       "    var timer = setInterval(function(root) {\n",
       "      if (root.Bokeh !== undefined) {\n",
       "        embed_document(root);\n",
       "        clearInterval(timer);\n",
       "      }\n",
       "      attempts++;\n",
       "      if (attempts > 100) {\n",
       "        console.log(\"Bokeh: ERROR: Unable to run BokehJS code because BokehJS library is missing\");\n",
       "        clearInterval(timer);\n",
       "      }\n",
       "    }, 10, root)\n",
       "  }\n",
       "})(window);"
      ],
      "application/vnd.bokehjs_exec.v0+json": ""
     },
     "metadata": {
      "application/vnd.bokehjs_exec.v0+json": {
       "id": "3370"
      }
     },
     "output_type": "display_data"
    }
   ],
   "source": [
    "# Literacy rate, youth male (% of male ages 15-24)\n",
    "show_weighted_average('SE.ADT.1524.LT.MA.ZS', 'SP.POP.TOTL', ['LDCs', 'Developing excluding LDCs'])"
   ]
  },
  {
   "cell_type": "code",
   "execution_count": 26,
   "metadata": {},
   "outputs": [
    {
     "data": {
      "text/html": [
       "\n",
       "\n",
       "\n",
       "\n",
       "\n",
       "\n",
       "  <div class=\"bk-root\" id=\"38f14fed-2631-4f8b-ad24-065ba6c924fd\" data-root-id=\"5898\"></div>\n"
      ]
     },
     "metadata": {},
     "output_type": "display_data"
    },
    {
     "data": {
      "application/javascript": [
       "(function(root) {\n",
       "  function embed_document(root) {\n",
       "    \n",
       "  var docs_json = {\"a0a783b8-aeaf-493e-a065-f7aa9e1852ca\":{\"roots\":{\"references\":[{\"attributes\":{\"below\":[{\"id\":\"5909\",\"type\":\"LinearAxis\"}],\"center\":[{\"id\":\"5913\",\"type\":\"Grid\"},{\"id\":\"5918\",\"type\":\"Grid\"},{\"id\":\"5943\",\"type\":\"Legend\"}],\"left\":[{\"id\":\"5914\",\"type\":\"LinearAxis\"}],\"plot_height\":400,\"plot_width\":900,\"renderers\":[{\"id\":\"5935\",\"type\":\"GlyphRenderer\"},{\"id\":\"5948\",\"type\":\"GlyphRenderer\"},{\"id\":\"5953\",\"type\":\"GlyphRenderer\"},{\"id\":\"5969\",\"type\":\"GlyphRenderer\"},{\"id\":\"5974\",\"type\":\"GlyphRenderer\"},{\"id\":\"5994\",\"type\":\"GlyphRenderer\"}],\"title\":{\"id\":\"5899\",\"type\":\"Title\"},\"toolbar\":{\"id\":\"5925\",\"type\":\"Toolbar\"},\"x_range\":{\"id\":\"5901\",\"type\":\"DataRange1d\"},\"x_scale\":{\"id\":\"5905\",\"type\":\"LinearScale\"},\"y_range\":{\"id\":\"5903\",\"type\":\"DataRange1d\"},\"y_scale\":{\"id\":\"5907\",\"type\":\"LinearScale\"}},\"id\":\"5898\",\"subtype\":\"Figure\",\"type\":\"Plot\"},{\"attributes\":{\"items\":[{\"id\":\"5944\",\"type\":\"LegendItem\"},{\"id\":\"5965\",\"type\":\"LegendItem\"},{\"id\":\"5990\",\"type\":\"LegendItem\"}]},\"id\":\"5943\",\"type\":\"Legend\"},{\"attributes\":{\"source\":{\"id\":\"5991\",\"type\":\"ColumnDataSource\"}},\"id\":\"5995\",\"type\":\"CDSView\"},{\"attributes\":{},\"id\":\"5915\",\"type\":\"BasicTicker\"},{\"attributes\":{\"fill_color\":{\"value\":\"blue\"},\"line_color\":{\"value\":\"blue\"},\"line_width\":{\"value\":3},\"x\":{\"field\":\"x\"},\"y\":{\"field\":\"y\"}},\"id\":\"5967\",\"type\":\"Circle\"},{\"attributes\":{\"ticker\":{\"id\":\"5910\",\"type\":\"BasicTicker\"}},\"id\":\"5913\",\"type\":\"Grid\"},{\"attributes\":{\"label\":{\"value\":\"LDCs\"},\"renderers\":[{\"id\":\"5935\",\"type\":\"GlyphRenderer\"}]},\"id\":\"5944\",\"type\":\"LegendItem\"},{\"attributes\":{\"dimension\":1,\"ticker\":{\"id\":\"5915\",\"type\":\"BasicTicker\"}},\"id\":\"5918\",\"type\":\"Grid\"},{\"attributes\":{\"fill_alpha\":{\"value\":0.1},\"fill_color\":{\"value\":\"#1f77b4\"},\"line_alpha\":{\"value\":0.1},\"line_color\":{\"value\":\"#1f77b4\"},\"line_width\":{\"value\":3},\"x\":{\"field\":\"x\"},\"y\":{\"field\":\"y\"}},\"id\":\"5968\",\"type\":\"Circle\"},{\"attributes\":{\"callback\":null,\"data\":{\"x\":[2011,2012,2013,2014,2015,2016,2017],\"y\":[9.238597293740812,9.286933356658999,8.843198313346274,10.341316695036001,8.678703456059317,11.333253819952928,13.08158227473905]},\"selected\":{\"id\":\"5963\",\"type\":\"Selection\"},\"selection_policy\":{\"id\":\"5964\",\"type\":\"UnionRenderers\"}},\"id\":\"5945\",\"type\":\"ColumnDataSource\"},{\"attributes\":{},\"id\":\"6256\",\"type\":\"Selection\"},{\"attributes\":{\"axis_label\":\"Percentage\",\"formatter\":{\"id\":\"5938\",\"type\":\"BasicTickFormatter\"},\"ticker\":{\"id\":\"5915\",\"type\":\"BasicTicker\"}},\"id\":\"5914\",\"type\":\"LinearAxis\"},{\"attributes\":{\"data_source\":{\"id\":\"5966\",\"type\":\"ColumnDataSource\"},\"glyph\":{\"id\":\"5967\",\"type\":\"Circle\"},\"hover_glyph\":null,\"muted_glyph\":null,\"nonselection_glyph\":{\"id\":\"5968\",\"type\":\"Circle\"},\"selection_glyph\":null,\"view\":{\"id\":\"5970\",\"type\":\"CDSView\"}},\"id\":\"5969\",\"type\":\"GlyphRenderer\"},{\"attributes\":{\"line_color\":\"red\",\"line_width\":2,\"x\":{\"field\":\"x\"},\"y\":{\"field\":\"y\"}},\"id\":\"5933\",\"type\":\"Line\"},{\"attributes\":{\"fill_color\":{\"value\":\"red\"},\"line_color\":{\"value\":\"red\"},\"line_width\":{\"value\":3},\"x\":{\"field\":\"x\"},\"y\":{\"field\":\"y\"}},\"id\":\"5946\",\"type\":\"Circle\"},{\"attributes\":{},\"id\":\"6257\",\"type\":\"UnionRenderers\"},{\"attributes\":{\"source\":{\"id\":\"5966\",\"type\":\"ColumnDataSource\"}},\"id\":\"5970\",\"type\":\"CDSView\"},{\"attributes\":{\"bottom_units\":\"screen\",\"fill_alpha\":{\"value\":0.5},\"fill_color\":{\"value\":\"lightgrey\"},\"left_units\":\"screen\",\"level\":\"overlay\",\"line_alpha\":{\"value\":1.0},\"line_color\":{\"value\":\"black\"},\"line_dash\":[4,4],\"line_width\":{\"value\":2},\"render_mode\":\"css\",\"right_units\":\"screen\",\"top_units\":\"screen\"},\"id\":\"5942\",\"type\":\"BoxAnnotation\"},{\"attributes\":{},\"id\":\"5907\",\"type\":\"LinearScale\"},{\"attributes\":{\"callback\":null,\"data\":{\"x\":[2011,2012,2013,2014,2015,2016,2017],\"y\":[9.238597293740812,9.286933356658999,8.843198313346274,10.341316695036001,8.678703456059317,11.333253819952928,13.08158227473905]},\"selected\":{\"id\":\"5961\",\"type\":\"Selection\"},\"selection_policy\":{\"id\":\"5962\",\"type\":\"UnionRenderers\"}},\"id\":\"5932\",\"type\":\"ColumnDataSource\"},{\"attributes\":{\"fill_alpha\":{\"value\":0.1},\"fill_color\":{\"value\":\"#1f77b4\"},\"line_alpha\":{\"value\":0.1},\"line_color\":{\"value\":\"#1f77b4\"},\"line_width\":{\"value\":3},\"x\":{\"field\":\"x\"},\"y\":{\"field\":\"y\"}},\"id\":\"5947\",\"type\":\"Circle\"},{\"attributes\":{\"line_alpha\":0.1,\"line_color\":\"#1f77b4\",\"line_width\":2,\"x\":{\"field\":\"x\"},\"y\":{\"field\":\"y\"}},\"id\":\"5934\",\"type\":\"Line\"},{\"attributes\":{\"callback\":null,\"data\":{\"x\":[2011,2012,2013,2014,2015,2016,2017],\"y\":[29.949226328879654,31.34774891658036,32.31935878797377,34.81941773090562,35.96878687436596,36.729751093957724,37.23087236798524]},\"selected\":{\"id\":\"6256\",\"type\":\"Selection\"},\"selection_policy\":{\"id\":\"6257\",\"type\":\"UnionRenderers\"}},\"id\":\"5971\",\"type\":\"ColumnDataSource\"},{\"attributes\":{},\"id\":\"6258\",\"type\":\"Selection\"},{\"attributes\":{\"axis_label\":\"Years\",\"formatter\":{\"id\":\"5940\",\"type\":\"BasicTickFormatter\"},\"ticker\":{\"id\":\"5910\",\"type\":\"BasicTicker\"}},\"id\":\"5909\",\"type\":\"LinearAxis\"},{\"attributes\":{\"data_source\":{\"id\":\"5945\",\"type\":\"ColumnDataSource\"},\"glyph\":{\"id\":\"5946\",\"type\":\"Circle\"},\"hover_glyph\":null,\"muted_glyph\":null,\"nonselection_glyph\":{\"id\":\"5947\",\"type\":\"Circle\"},\"selection_glyph\":null,\"view\":{\"id\":\"5949\",\"type\":\"CDSView\"}},\"id\":\"5948\",\"type\":\"GlyphRenderer\"},{\"attributes\":{},\"id\":\"5919\",\"type\":\"PanTool\"},{\"attributes\":{\"line_color\":\"green\",\"line_width\":2,\"x\":{\"field\":\"x\"},\"y\":{\"field\":\"y\"}},\"id\":\"5972\",\"type\":\"Line\"},{\"attributes\":{},\"id\":\"6259\",\"type\":\"UnionRenderers\"},{\"attributes\":{},\"id\":\"5910\",\"type\":\"BasicTicker\"},{\"attributes\":{},\"id\":\"5920\",\"type\":\"WheelZoomTool\"},{\"attributes\":{\"source\":{\"id\":\"5945\",\"type\":\"ColumnDataSource\"}},\"id\":\"5949\",\"type\":\"CDSView\"},{\"attributes\":{\"line_alpha\":0.1,\"line_color\":\"#1f77b4\",\"line_width\":2,\"x\":{\"field\":\"x\"},\"y\":{\"field\":\"y\"}},\"id\":\"5973\",\"type\":\"Line\"},{\"attributes\":{\"callback\":null},\"id\":\"5901\",\"type\":\"DataRange1d\"},{\"attributes\":{\"overlay\":{\"id\":\"5942\",\"type\":\"BoxAnnotation\"}},\"id\":\"5921\",\"type\":\"BoxZoomTool\"},{\"attributes\":{\"callback\":null,\"data\":{\"x\":[2011,2012,2013,2014,2015,2016,2017],\"y\":[26.016351829877397,28.653839513727952,29.991015174173803,34.20514037096848,35.83562302700321,37.45685277936589,37.9950630040171]},\"selected\":{\"id\":\"5986\",\"type\":\"Selection\"},\"selection_policy\":{\"id\":\"5987\",\"type\":\"UnionRenderers\"}},\"id\":\"5950\",\"type\":\"ColumnDataSource\"},{\"attributes\":{\"data_source\":{\"id\":\"5971\",\"type\":\"ColumnDataSource\"},\"glyph\":{\"id\":\"5972\",\"type\":\"Line\"},\"hover_glyph\":null,\"muted_glyph\":null,\"nonselection_glyph\":{\"id\":\"5973\",\"type\":\"Line\"},\"selection_glyph\":null,\"view\":{\"id\":\"5975\",\"type\":\"CDSView\"}},\"id\":\"5974\",\"type\":\"GlyphRenderer\"},{\"attributes\":{\"callback\":null},\"id\":\"5903\",\"type\":\"DataRange1d\"},{\"attributes\":{},\"id\":\"5922\",\"type\":\"SaveTool\"},{\"attributes\":{\"line_color\":\"blue\",\"line_width\":2,\"x\":{\"field\":\"x\"},\"y\":{\"field\":\"y\"}},\"id\":\"5951\",\"type\":\"Line\"},{\"attributes\":{\"source\":{\"id\":\"5971\",\"type\":\"ColumnDataSource\"}},\"id\":\"5975\",\"type\":\"CDSView\"},{\"attributes\":{},\"id\":\"5905\",\"type\":\"LinearScale\"},{\"attributes\":{},\"id\":\"5923\",\"type\":\"ResetTool\"},{\"attributes\":{\"line_alpha\":0.1,\"line_color\":\"#1f77b4\",\"line_width\":2,\"x\":{\"field\":\"x\"},\"y\":{\"field\":\"y\"}},\"id\":\"5952\",\"type\":\"Line\"},{\"attributes\":{},\"id\":\"5986\",\"type\":\"Selection\"},{\"attributes\":{},\"id\":\"5924\",\"type\":\"HelpTool\"},{\"attributes\":{\"data_source\":{\"id\":\"5950\",\"type\":\"ColumnDataSource\"},\"glyph\":{\"id\":\"5951\",\"type\":\"Line\"},\"hover_glyph\":null,\"muted_glyph\":null,\"nonselection_glyph\":{\"id\":\"5952\",\"type\":\"Line\"},\"selection_glyph\":null,\"view\":{\"id\":\"5954\",\"type\":\"CDSView\"}},\"id\":\"5953\",\"type\":\"GlyphRenderer\"},{\"attributes\":{},\"id\":\"5987\",\"type\":\"UnionRenderers\"},{\"attributes\":{\"active_drag\":\"auto\",\"active_inspect\":\"auto\",\"active_multi\":null,\"active_scroll\":\"auto\",\"active_tap\":\"auto\",\"tools\":[{\"id\":\"5919\",\"type\":\"PanTool\"},{\"id\":\"5920\",\"type\":\"WheelZoomTool\"},{\"id\":\"5921\",\"type\":\"BoxZoomTool\"},{\"id\":\"5922\",\"type\":\"SaveTool\"},{\"id\":\"5923\",\"type\":\"ResetTool\"},{\"id\":\"5924\",\"type\":\"HelpTool\"},{\"id\":\"5996\",\"type\":\"HoverTool\"}]},\"id\":\"5925\",\"type\":\"Toolbar\"},{\"attributes\":{\"source\":{\"id\":\"5950\",\"type\":\"ColumnDataSource\"}},\"id\":\"5954\",\"type\":\"CDSView\"},{\"attributes\":{\"callback\":null,\"tooltips\":\"\\n        <div style=padding=5px>Year:@x</div>\\n        <div style=padding=5px>Value:@y</div>\\n        \"},\"id\":\"5996\",\"type\":\"HoverTool\"},{\"attributes\":{},\"id\":\"5988\",\"type\":\"Selection\"},{\"attributes\":{\"text\":\"School enrollment, tertiary (% gross) weighted against Population, total\"},\"id\":\"5899\",\"type\":\"Title\"},{\"attributes\":{},\"id\":\"5961\",\"type\":\"Selection\"},{\"attributes\":{\"data_source\":{\"id\":\"5932\",\"type\":\"ColumnDataSource\"},\"glyph\":{\"id\":\"5933\",\"type\":\"Line\"},\"hover_glyph\":null,\"muted_glyph\":null,\"nonselection_glyph\":{\"id\":\"5934\",\"type\":\"Line\"},\"selection_glyph\":null,\"view\":{\"id\":\"5936\",\"type\":\"CDSView\"}},\"id\":\"5935\",\"type\":\"GlyphRenderer\"},{\"attributes\":{},\"id\":\"5989\",\"type\":\"UnionRenderers\"},{\"attributes\":{},\"id\":\"5962\",\"type\":\"UnionRenderers\"},{\"attributes\":{\"label\":{\"value\":\"UMICs\"},\"renderers\":[{\"id\":\"5974\",\"type\":\"GlyphRenderer\"}]},\"id\":\"5990\",\"type\":\"LegendItem\"},{\"attributes\":{\"source\":{\"id\":\"5932\",\"type\":\"ColumnDataSource\"}},\"id\":\"5936\",\"type\":\"CDSView\"},{\"attributes\":{},\"id\":\"5963\",\"type\":\"Selection\"},{\"attributes\":{},\"id\":\"5938\",\"type\":\"BasicTickFormatter\"},{\"attributes\":{\"callback\":null,\"data\":{\"x\":[2011,2012,2013,2014,2015,2016,2017],\"y\":[29.949226328879654,31.34774891658036,32.31935878797377,34.81941773090562,35.96878687436596,36.729751093957724,37.23087236798524]},\"selected\":{\"id\":\"6258\",\"type\":\"Selection\"},\"selection_policy\":{\"id\":\"6259\",\"type\":\"UnionRenderers\"}},\"id\":\"5991\",\"type\":\"ColumnDataSource\"},{\"attributes\":{},\"id\":\"5964\",\"type\":\"UnionRenderers\"},{\"attributes\":{\"fill_color\":{\"value\":\"green\"},\"line_color\":{\"value\":\"green\"},\"line_width\":{\"value\":3},\"x\":{\"field\":\"x\"},\"y\":{\"field\":\"y\"}},\"id\":\"5992\",\"type\":\"Circle\"},{\"attributes\":{\"label\":{\"value\":\"Developing excluding LDCs\"},\"renderers\":[{\"id\":\"5953\",\"type\":\"GlyphRenderer\"}]},\"id\":\"5965\",\"type\":\"LegendItem\"},{\"attributes\":{},\"id\":\"5940\",\"type\":\"BasicTickFormatter\"},{\"attributes\":{\"fill_alpha\":{\"value\":0.1},\"fill_color\":{\"value\":\"#1f77b4\"},\"line_alpha\":{\"value\":0.1},\"line_color\":{\"value\":\"#1f77b4\"},\"line_width\":{\"value\":3},\"x\":{\"field\":\"x\"},\"y\":{\"field\":\"y\"}},\"id\":\"5993\",\"type\":\"Circle\"},{\"attributes\":{\"callback\":null,\"data\":{\"x\":[2011,2012,2013,2014,2015,2016,2017],\"y\":[26.016351829877397,28.653839513727952,29.991015174173803,34.20514037096848,35.83562302700321,37.45685277936589,37.9950630040171]},\"selected\":{\"id\":\"5988\",\"type\":\"Selection\"},\"selection_policy\":{\"id\":\"5989\",\"type\":\"UnionRenderers\"}},\"id\":\"5966\",\"type\":\"ColumnDataSource\"},{\"attributes\":{\"data_source\":{\"id\":\"5991\",\"type\":\"ColumnDataSource\"},\"glyph\":{\"id\":\"5992\",\"type\":\"Circle\"},\"hover_glyph\":null,\"muted_glyph\":null,\"nonselection_glyph\":{\"id\":\"5993\",\"type\":\"Circle\"},\"selection_glyph\":null,\"view\":{\"id\":\"5995\",\"type\":\"CDSView\"}},\"id\":\"5994\",\"type\":\"GlyphRenderer\"}],\"root_ids\":[\"5898\"]},\"title\":\"Bokeh Application\",\"version\":\"1.3.4\"}};\n",
       "  var render_items = [{\"docid\":\"a0a783b8-aeaf-493e-a065-f7aa9e1852ca\",\"roots\":{\"5898\":\"38f14fed-2631-4f8b-ad24-065ba6c924fd\"}}];\n",
       "  root.Bokeh.embed.embed_items_notebook(docs_json, render_items);\n",
       "\n",
       "  }\n",
       "  if (root.Bokeh !== undefined) {\n",
       "    embed_document(root);\n",
       "  } else {\n",
       "    var attempts = 0;\n",
       "    var timer = setInterval(function(root) {\n",
       "      if (root.Bokeh !== undefined) {\n",
       "        embed_document(root);\n",
       "        clearInterval(timer);\n",
       "      }\n",
       "      attempts++;\n",
       "      if (attempts > 100) {\n",
       "        console.log(\"Bokeh: ERROR: Unable to run BokehJS code because BokehJS library is missing\");\n",
       "        clearInterval(timer);\n",
       "      }\n",
       "    }, 10, root)\n",
       "  }\n",
       "})(window);"
      ],
      "application/vnd.bokehjs_exec.v0+json": ""
     },
     "metadata": {
      "application/vnd.bokehjs_exec.v0+json": {
       "id": "5898"
      }
     },
     "output_type": "display_data"
    }
   ],
   "source": [
    "# School enrollment, tertiary\n",
    "show_weighted_average('SE.TER.ENRR', 'SP.POP.TOTL', ['LDCs', 'Developing excluding LDCs', 'UMICs'])"
   ]
  },
  {
   "cell_type": "code",
   "execution_count": 35,
   "metadata": {},
   "outputs": [
    {
     "data": {
      "text/html": [
       "\n",
       "\n",
       "\n",
       "\n",
       "\n",
       "\n",
       "  <div class=\"bk-root\" id=\"bee5be17-ec12-4bed-ab4e-9a03ea41ac3d\" data-root-id=\"8192\"></div>\n"
      ]
     },
     "metadata": {},
     "output_type": "display_data"
    },
    {
     "data": {
      "application/javascript": [
       "(function(root) {\n",
       "  function embed_document(root) {\n",
       "    \n",
       "  var docs_json = {\"772d0e8a-5e01-455a-b2b8-c6e1bf2d6846\":{\"roots\":{\"references\":[{\"attributes\":{\"below\":[{\"id\":\"8203\",\"type\":\"LinearAxis\"}],\"center\":[{\"id\":\"8207\",\"type\":\"Grid\"},{\"id\":\"8212\",\"type\":\"Grid\"},{\"id\":\"8237\",\"type\":\"Legend\"}],\"left\":[{\"id\":\"8208\",\"type\":\"LinearAxis\"}],\"plot_width\":900,\"renderers\":[{\"id\":\"8229\",\"type\":\"GlyphRenderer\"},{\"id\":\"8242\",\"type\":\"GlyphRenderer\"},{\"id\":\"8247\",\"type\":\"GlyphRenderer\"},{\"id\":\"8263\",\"type\":\"GlyphRenderer\"},{\"id\":\"8268\",\"type\":\"GlyphRenderer\"},{\"id\":\"8288\",\"type\":\"GlyphRenderer\"}],\"title\":{\"id\":\"8193\",\"type\":\"Title\"},\"toolbar\":{\"id\":\"8219\",\"type\":\"Toolbar\"},\"x_range\":{\"id\":\"8195\",\"type\":\"DataRange1d\"},\"x_scale\":{\"id\":\"8199\",\"type\":\"LinearScale\"},\"y_range\":{\"id\":\"8197\",\"type\":\"DataRange1d\"},\"y_scale\":{\"id\":\"8201\",\"type\":\"LinearScale\"}},\"id\":\"8192\",\"subtype\":\"Figure\",\"type\":\"Plot\"},{\"attributes\":{\"callback\":null,\"data\":{\"x\":[2000,2001,2002,2003,2004,2005,2006,2007,2008,2009,2010,2011,2012,2013,2014,2015,2016,2017],\"y\":[33.37005183555988,29.577025483301764,33.388901341061164,33.78912573026302,27.622887569846363,27.435138719062238,23.322003949314283,23.173937290806002,22.087389072731586,21.87034331925848,21.56849553016734,25.190297346132102,21.23626220970231,24.160800450151424,24.012498654781343,24.564505025797747,25.205451210762366,24.275228833032017]},\"selected\":{\"id\":\"8280\",\"type\":\"Selection\"},\"selection_policy\":{\"id\":\"8281\",\"type\":\"UnionRenderers\"}},\"id\":\"8244\",\"type\":\"ColumnDataSource\"},{\"attributes\":{\"data_source\":{\"id\":\"8265\",\"type\":\"ColumnDataSource\"},\"glyph\":{\"id\":\"8266\",\"type\":\"Line\"},\"hover_glyph\":null,\"muted_glyph\":null,\"nonselection_glyph\":{\"id\":\"8267\",\"type\":\"Line\"},\"selection_glyph\":null,\"view\":{\"id\":\"8269\",\"type\":\"CDSView\"}},\"id\":\"8268\",\"type\":\"GlyphRenderer\"},{\"attributes\":{},\"id\":\"8216\",\"type\":\"SaveTool\"},{\"attributes\":{\"line_color\":\"blue\",\"line_width\":2,\"x\":{\"field\":\"x\"},\"y\":{\"field\":\"y\"}},\"id\":\"8245\",\"type\":\"Line\"},{\"attributes\":{\"source\":{\"id\":\"8265\",\"type\":\"ColumnDataSource\"}},\"id\":\"8269\",\"type\":\"CDSView\"},{\"attributes\":{},\"id\":\"8217\",\"type\":\"ResetTool\"},{\"attributes\":{\"text\":\"Pupil-teacher ratio, primary weighted against Population, total\"},\"id\":\"8193\",\"type\":\"Title\"},{\"attributes\":{\"line_alpha\":0.1,\"line_color\":\"#1f77b4\",\"line_width\":2,\"x\":{\"field\":\"x\"},\"y\":{\"field\":\"y\"}},\"id\":\"8246\",\"type\":\"Line\"},{\"attributes\":{},\"id\":\"8280\",\"type\":\"Selection\"},{\"attributes\":{},\"id\":\"8218\",\"type\":\"HelpTool\"},{\"attributes\":{\"data_source\":{\"id\":\"8244\",\"type\":\"ColumnDataSource\"},\"glyph\":{\"id\":\"8245\",\"type\":\"Line\"},\"hover_glyph\":null,\"muted_glyph\":null,\"nonselection_glyph\":{\"id\":\"8246\",\"type\":\"Line\"},\"selection_glyph\":null,\"view\":{\"id\":\"8248\",\"type\":\"CDSView\"}},\"id\":\"8247\",\"type\":\"GlyphRenderer\"},{\"attributes\":{\"callback\":null},\"id\":\"8195\",\"type\":\"DataRange1d\"},{\"attributes\":{},\"id\":\"8281\",\"type\":\"UnionRenderers\"},{\"attributes\":{\"active_drag\":\"auto\",\"active_inspect\":\"auto\",\"active_multi\":null,\"active_scroll\":\"auto\",\"active_tap\":\"auto\",\"tools\":[{\"id\":\"8213\",\"type\":\"PanTool\"},{\"id\":\"8214\",\"type\":\"WheelZoomTool\"},{\"id\":\"8215\",\"type\":\"BoxZoomTool\"},{\"id\":\"8216\",\"type\":\"SaveTool\"},{\"id\":\"8217\",\"type\":\"ResetTool\"},{\"id\":\"8218\",\"type\":\"HelpTool\"},{\"id\":\"8290\",\"type\":\"HoverTool\"}]},\"id\":\"8219\",\"type\":\"Toolbar\"},{\"attributes\":{\"callback\":null},\"id\":\"8197\",\"type\":\"DataRange1d\"},{\"attributes\":{\"source\":{\"id\":\"8244\",\"type\":\"ColumnDataSource\"}},\"id\":\"8248\",\"type\":\"CDSView\"},{\"attributes\":{\"line_alpha\":0.1,\"line_color\":\"#1f77b4\",\"line_width\":2,\"x\":{\"field\":\"x\"},\"y\":{\"field\":\"y\"}},\"id\":\"8228\",\"type\":\"Line\"},{\"attributes\":{},\"id\":\"8282\",\"type\":\"Selection\"},{\"attributes\":{},\"id\":\"8199\",\"type\":\"LinearScale\"},{\"attributes\":{},\"id\":\"8255\",\"type\":\"Selection\"},{\"attributes\":{\"data_source\":{\"id\":\"8226\",\"type\":\"ColumnDataSource\"},\"glyph\":{\"id\":\"8227\",\"type\":\"Line\"},\"hover_glyph\":null,\"muted_glyph\":null,\"nonselection_glyph\":{\"id\":\"8228\",\"type\":\"Line\"},\"selection_glyph\":null,\"view\":{\"id\":\"8230\",\"type\":\"CDSView\"}},\"id\":\"8229\",\"type\":\"GlyphRenderer\"},{\"attributes\":{},\"id\":\"8283\",\"type\":\"UnionRenderers\"},{\"attributes\":{},\"id\":\"8201\",\"type\":\"LinearScale\"},{\"attributes\":{},\"id\":\"8256\",\"type\":\"UnionRenderers\"},{\"attributes\":{\"label\":{\"value\":\"OECD\"},\"renderers\":[{\"id\":\"8268\",\"type\":\"GlyphRenderer\"}]},\"id\":\"8284\",\"type\":\"LegendItem\"},{\"attributes\":{\"source\":{\"id\":\"8226\",\"type\":\"ColumnDataSource\"}},\"id\":\"8230\",\"type\":\"CDSView\"},{\"attributes\":{\"axis_label\":\"Years\",\"formatter\":{\"id\":\"8234\",\"type\":\"BasicTickFormatter\"},\"ticker\":{\"id\":\"8204\",\"type\":\"BasicTicker\"}},\"id\":\"8203\",\"type\":\"LinearAxis\"},{\"attributes\":{},\"id\":\"8257\",\"type\":\"Selection\"},{\"attributes\":{},\"id\":\"8232\",\"type\":\"BasicTickFormatter\"},{\"attributes\":{},\"id\":\"8204\",\"type\":\"BasicTicker\"},{\"attributes\":{\"callback\":null,\"data\":{\"x\":[2000,2001,2002,2003,2004,2005,2006,2007,2008,2009,2010,2011,2012,2013,2014,2015,2016,2017],\"y\":[19.578856821851673,18.64956251280318,19.105458456282552,18.55218038257568,18.919504726088377,18.159822985689274,18.07847518399188,17.828488482696603,18.360972295960227,18.053587409107042,17.729659933152764,17.28504636753854,17.391710855550837,16.955555065599185,15.968323544359967,15.984937404982741,15.957834352600367,15.448655892382128]},\"selected\":{\"id\":\"8626\",\"type\":\"Selection\"},\"selection_policy\":{\"id\":\"8627\",\"type\":\"UnionRenderers\"}},\"id\":\"8285\",\"type\":\"ColumnDataSource\"},{\"attributes\":{\"fill_color\":{\"value\":\"green\"},\"line_color\":{\"value\":\"green\"},\"line_width\":{\"value\":3},\"x\":{\"field\":\"x\"},\"y\":{\"field\":\"y\"}},\"id\":\"8286\",\"type\":\"Circle\"},{\"attributes\":{},\"id\":\"8258\",\"type\":\"UnionRenderers\"},{\"attributes\":{\"ticker\":{\"id\":\"8204\",\"type\":\"BasicTicker\"}},\"id\":\"8207\",\"type\":\"Grid\"},{\"attributes\":{\"label\":{\"value\":\"Developing excluding LDCs\"},\"renderers\":[{\"id\":\"8247\",\"type\":\"GlyphRenderer\"}]},\"id\":\"8259\",\"type\":\"LegendItem\"},{\"attributes\":{},\"id\":\"8234\",\"type\":\"BasicTickFormatter\"},{\"attributes\":{\"fill_alpha\":{\"value\":0.1},\"fill_color\":{\"value\":\"#1f77b4\"},\"line_alpha\":{\"value\":0.1},\"line_color\":{\"value\":\"#1f77b4\"},\"line_width\":{\"value\":3},\"x\":{\"field\":\"x\"},\"y\":{\"field\":\"y\"}},\"id\":\"8287\",\"type\":\"Circle\"},{\"attributes\":{\"axis_label\":\"Percentage\",\"formatter\":{\"id\":\"8232\",\"type\":\"BasicTickFormatter\"},\"ticker\":{\"id\":\"8209\",\"type\":\"BasicTicker\"}},\"id\":\"8208\",\"type\":\"LinearAxis\"},{\"attributes\":{\"callback\":null,\"data\":{\"x\":[2000,2001,2002,2003,2004,2005,2006,2007,2008,2009,2010,2011,2012,2013,2014,2015,2016,2017],\"y\":[33.37005183555988,29.577025483301764,33.388901341061164,33.78912573026302,27.622887569846363,27.435138719062238,23.322003949314283,23.173937290806002,22.087389072731586,21.87034331925848,21.56849553016734,25.190297346132102,21.23626220970231,24.160800450151424,24.012498654781343,24.564505025797747,25.205451210762366,24.275228833032017]},\"selected\":{\"id\":\"8282\",\"type\":\"Selection\"},\"selection_policy\":{\"id\":\"8283\",\"type\":\"UnionRenderers\"}},\"id\":\"8260\",\"type\":\"ColumnDataSource\"},{\"attributes\":{\"data_source\":{\"id\":\"8285\",\"type\":\"ColumnDataSource\"},\"glyph\":{\"id\":\"8286\",\"type\":\"Circle\"},\"hover_glyph\":null,\"muted_glyph\":null,\"nonselection_glyph\":{\"id\":\"8287\",\"type\":\"Circle\"},\"selection_glyph\":null,\"view\":{\"id\":\"8289\",\"type\":\"CDSView\"}},\"id\":\"8288\",\"type\":\"GlyphRenderer\"},{\"attributes\":{\"bottom_units\":\"screen\",\"fill_alpha\":{\"value\":0.5},\"fill_color\":{\"value\":\"lightgrey\"},\"left_units\":\"screen\",\"level\":\"overlay\",\"line_alpha\":{\"value\":1.0},\"line_color\":{\"value\":\"black\"},\"line_dash\":[4,4],\"line_width\":{\"value\":2},\"render_mode\":\"css\",\"right_units\":\"screen\",\"top_units\":\"screen\"},\"id\":\"8236\",\"type\":\"BoxAnnotation\"},{\"attributes\":{},\"id\":\"8209\",\"type\":\"BasicTicker\"},{\"attributes\":{\"fill_color\":{\"value\":\"blue\"},\"line_color\":{\"value\":\"blue\"},\"line_width\":{\"value\":3},\"x\":{\"field\":\"x\"},\"y\":{\"field\":\"y\"}},\"id\":\"8261\",\"type\":\"Circle\"},{\"attributes\":{\"items\":[{\"id\":\"8238\",\"type\":\"LegendItem\"},{\"id\":\"8259\",\"type\":\"LegendItem\"},{\"id\":\"8284\",\"type\":\"LegendItem\"}]},\"id\":\"8237\",\"type\":\"Legend\"},{\"attributes\":{\"source\":{\"id\":\"8285\",\"type\":\"ColumnDataSource\"}},\"id\":\"8289\",\"type\":\"CDSView\"},{\"attributes\":{\"dimension\":1,\"ticker\":{\"id\":\"8209\",\"type\":\"BasicTicker\"}},\"id\":\"8212\",\"type\":\"Grid\"},{\"attributes\":{\"fill_alpha\":{\"value\":0.1},\"fill_color\":{\"value\":\"#1f77b4\"},\"line_alpha\":{\"value\":0.1},\"line_color\":{\"value\":\"#1f77b4\"},\"line_width\":{\"value\":3},\"x\":{\"field\":\"x\"},\"y\":{\"field\":\"y\"}},\"id\":\"8262\",\"type\":\"Circle\"},{\"attributes\":{\"label\":{\"value\":\"LDCs\"},\"renderers\":[{\"id\":\"8229\",\"type\":\"GlyphRenderer\"}]},\"id\":\"8238\",\"type\":\"LegendItem\"},{\"attributes\":{\"data_source\":{\"id\":\"8260\",\"type\":\"ColumnDataSource\"},\"glyph\":{\"id\":\"8261\",\"type\":\"Circle\"},\"hover_glyph\":null,\"muted_glyph\":null,\"nonselection_glyph\":{\"id\":\"8262\",\"type\":\"Circle\"},\"selection_glyph\":null,\"view\":{\"id\":\"8264\",\"type\":\"CDSView\"}},\"id\":\"8263\",\"type\":\"GlyphRenderer\"},{\"attributes\":{\"line_color\":\"red\",\"line_width\":2,\"x\":{\"field\":\"x\"},\"y\":{\"field\":\"y\"}},\"id\":\"8227\",\"type\":\"Line\"},{\"attributes\":{\"callback\":null,\"data\":{\"x\":[2000,2001,2002,2003,2004,2005,2006,2007,2008,2009,2010,2011,2012,2013,2014,2015,2016,2017],\"y\":[51.52090317748568,46.52493990984674,45.72529764000698,47.05233496812539,48.04905957142994,48.07327397920054,46.883453376802386,45.37851355945308,47.571303778268295,46.94420318527922,44.98718519250168,45.977667340832,43.49825989518141,43.05048551129663,40.19878876980605,41.85413035115011,38.49672213793575,38.768702276413286]},\"selected\":{\"id\":\"8257\",\"type\":\"Selection\"},\"selection_policy\":{\"id\":\"8258\",\"type\":\"UnionRenderers\"}},\"id\":\"8239\",\"type\":\"ColumnDataSource\"},{\"attributes\":{},\"id\":\"8624\",\"type\":\"Selection\"},{\"attributes\":{\"callback\":null,\"data\":{\"x\":[2000,2001,2002,2003,2004,2005,2006,2007,2008,2009,2010,2011,2012,2013,2014,2015,2016,2017],\"y\":[51.52090317748568,46.52493990984674,45.72529764000698,47.05233496812539,48.04905957142994,48.07327397920054,46.883453376802386,45.37851355945308,47.571303778268295,46.94420318527922,44.98718519250168,45.977667340832,43.49825989518141,43.05048551129663,40.19878876980605,41.85413035115011,38.49672213793575,38.768702276413286]},\"selected\":{\"id\":\"8255\",\"type\":\"Selection\"},\"selection_policy\":{\"id\":\"8256\",\"type\":\"UnionRenderers\"}},\"id\":\"8226\",\"type\":\"ColumnDataSource\"},{\"attributes\":{\"source\":{\"id\":\"8260\",\"type\":\"ColumnDataSource\"}},\"id\":\"8264\",\"type\":\"CDSView\"},{\"attributes\":{\"fill_color\":{\"value\":\"red\"},\"line_color\":{\"value\":\"red\"},\"line_width\":{\"value\":3},\"x\":{\"field\":\"x\"},\"y\":{\"field\":\"y\"}},\"id\":\"8240\",\"type\":\"Circle\"},{\"attributes\":{},\"id\":\"8625\",\"type\":\"UnionRenderers\"},{\"attributes\":{\"callback\":null,\"tooltips\":\"\\n        <div style=padding=5px>Year:@x</div>\\n        <div style=padding=5px>Value:@y</div>\\n        \"},\"id\":\"8290\",\"type\":\"HoverTool\"},{\"attributes\":{\"callback\":null,\"data\":{\"x\":[2000,2001,2002,2003,2004,2005,2006,2007,2008,2009,2010,2011,2012,2013,2014,2015,2016,2017],\"y\":[19.578856821851673,18.64956251280318,19.105458456282552,18.55218038257568,18.919504726088377,18.159822985689274,18.07847518399188,17.828488482696603,18.360972295960227,18.053587409107042,17.729659933152764,17.28504636753854,17.391710855550837,16.955555065599185,15.968323544359967,15.984937404982741,15.957834352600367,15.448655892382128]},\"selected\":{\"id\":\"8624\",\"type\":\"Selection\"},\"selection_policy\":{\"id\":\"8625\",\"type\":\"UnionRenderers\"}},\"id\":\"8265\",\"type\":\"ColumnDataSource\"},{\"attributes\":{\"fill_alpha\":{\"value\":0.1},\"fill_color\":{\"value\":\"#1f77b4\"},\"line_alpha\":{\"value\":0.1},\"line_color\":{\"value\":\"#1f77b4\"},\"line_width\":{\"value\":3},\"x\":{\"field\":\"x\"},\"y\":{\"field\":\"y\"}},\"id\":\"8241\",\"type\":\"Circle\"},{\"attributes\":{},\"id\":\"8626\",\"type\":\"Selection\"},{\"attributes\":{},\"id\":\"8213\",\"type\":\"PanTool\"},{\"attributes\":{\"line_color\":\"green\",\"line_width\":2,\"x\":{\"field\":\"x\"},\"y\":{\"field\":\"y\"}},\"id\":\"8266\",\"type\":\"Line\"},{\"attributes\":{\"data_source\":{\"id\":\"8239\",\"type\":\"ColumnDataSource\"},\"glyph\":{\"id\":\"8240\",\"type\":\"Circle\"},\"hover_glyph\":null,\"muted_glyph\":null,\"nonselection_glyph\":{\"id\":\"8241\",\"type\":\"Circle\"},\"selection_glyph\":null,\"view\":{\"id\":\"8243\",\"type\":\"CDSView\"}},\"id\":\"8242\",\"type\":\"GlyphRenderer\"},{\"attributes\":{},\"id\":\"8627\",\"type\":\"UnionRenderers\"},{\"attributes\":{},\"id\":\"8214\",\"type\":\"WheelZoomTool\"},{\"attributes\":{\"line_alpha\":0.1,\"line_color\":\"#1f77b4\",\"line_width\":2,\"x\":{\"field\":\"x\"},\"y\":{\"field\":\"y\"}},\"id\":\"8267\",\"type\":\"Line\"},{\"attributes\":{\"source\":{\"id\":\"8239\",\"type\":\"ColumnDataSource\"}},\"id\":\"8243\",\"type\":\"CDSView\"},{\"attributes\":{\"overlay\":{\"id\":\"8236\",\"type\":\"BoxAnnotation\"}},\"id\":\"8215\",\"type\":\"BoxZoomTool\"}],\"root_ids\":[\"8192\"]},\"title\":\"Bokeh Application\",\"version\":\"1.3.4\"}};\n",
       "  var render_items = [{\"docid\":\"772d0e8a-5e01-455a-b2b8-c6e1bf2d6846\",\"roots\":{\"8192\":\"bee5be17-ec12-4bed-ab4e-9a03ea41ac3d\"}}];\n",
       "  root.Bokeh.embed.embed_items_notebook(docs_json, render_items);\n",
       "\n",
       "  }\n",
       "  if (root.Bokeh !== undefined) {\n",
       "    embed_document(root);\n",
       "  } else {\n",
       "    var attempts = 0;\n",
       "    var timer = setInterval(function(root) {\n",
       "      if (root.Bokeh !== undefined) {\n",
       "        embed_document(root);\n",
       "        clearInterval(timer);\n",
       "      }\n",
       "      attempts++;\n",
       "      if (attempts > 100) {\n",
       "        console.log(\"Bokeh: ERROR: Unable to run BokehJS code because BokehJS library is missing\");\n",
       "        clearInterval(timer);\n",
       "      }\n",
       "    }, 10, root)\n",
       "  }\n",
       "})(window);"
      ],
      "application/vnd.bokehjs_exec.v0+json": ""
     },
     "metadata": {
      "application/vnd.bokehjs_exec.v0+json": {
       "id": "8192"
      }
     },
     "output_type": "display_data"
    }
   ],
   "source": [
    "# Pupil teacher ration\n",
    "years = list(range(2000,2018))\n",
    "show_weighted_average('SE.PRM.ENRL.TC.ZS', 'SP.POP.TOTL', ['LDCs', 'Developing excluding LDCs', 'OECD'])"
   ]
  },
  {
   "cell_type": "code",
   "execution_count": 20,
   "metadata": {},
   "outputs": [
    {
     "data": {
      "text/html": [
       "\n",
       "\n",
       "\n",
       "\n",
       "\n",
       "\n",
       "  <div class=\"bk-root\" id=\"54934162-33c6-4937-be3f-edede1646fe5\" data-root-id=\"3683\"></div>\n"
      ]
     },
     "metadata": {},
     "output_type": "display_data"
    },
    {
     "data": {
      "application/javascript": [
       "(function(root) {\n",
       "  function embed_document(root) {\n",
       "    \n",
       "  var docs_json = {\"e6a93602-cc1c-47b9-a173-f53233dc1f87\":{\"roots\":{\"references\":[{\"attributes\":{\"below\":[{\"id\":\"3694\",\"type\":\"LinearAxis\"}],\"center\":[{\"id\":\"3698\",\"type\":\"Grid\"},{\"id\":\"3703\",\"type\":\"Grid\"},{\"id\":\"3728\",\"type\":\"Legend\"}],\"left\":[{\"id\":\"3699\",\"type\":\"LinearAxis\"}],\"plot_height\":400,\"plot_width\":900,\"renderers\":[{\"id\":\"3720\",\"type\":\"GlyphRenderer\"},{\"id\":\"3733\",\"type\":\"GlyphRenderer\"},{\"id\":\"3738\",\"type\":\"GlyphRenderer\"},{\"id\":\"3754\",\"type\":\"GlyphRenderer\"},{\"id\":\"3759\",\"type\":\"GlyphRenderer\"},{\"id\":\"3779\",\"type\":\"GlyphRenderer\"}],\"title\":{\"id\":\"3684\",\"type\":\"Title\"},\"toolbar\":{\"id\":\"3710\",\"type\":\"Toolbar\"},\"x_range\":{\"id\":\"3686\",\"type\":\"DataRange1d\"},\"x_scale\":{\"id\":\"3690\",\"type\":\"LinearScale\"},\"y_range\":{\"id\":\"3688\",\"type\":\"DataRange1d\"},\"y_scale\":{\"id\":\"3692\",\"type\":\"LinearScale\"}},\"id\":\"3683\",\"subtype\":\"Figure\",\"type\":\"Plot\"},{\"attributes\":{},\"id\":\"3709\",\"type\":\"HelpTool\"},{\"attributes\":{\"callback\":null,\"data\":{\"x\":[2011,2012,2013,2014,2015,2016,2017],\"y\":[18.68284269266012,18.55376057055702,18.4175092045611,18.28626606521173,18.163323640146963,18.042734326142376,17.93618839869138]},\"selected\":{\"id\":\"3953\",\"type\":\"Selection\"},\"selection_policy\":{\"id\":\"3954\",\"type\":\"UnionRenderers\"}},\"id\":\"3776\",\"type\":\"ColumnDataSource\"},{\"attributes\":{\"label\":{\"value\":\"Developing excluding LDCs\"},\"renderers\":[{\"id\":\"3738\",\"type\":\"GlyphRenderer\"}]},\"id\":\"3750\",\"type\":\"LegendItem\"},{\"attributes\":{\"source\":{\"id\":\"3756\",\"type\":\"ColumnDataSource\"}},\"id\":\"3760\",\"type\":\"CDSView\"},{\"attributes\":{},\"id\":\"3705\",\"type\":\"WheelZoomTool\"},{\"attributes\":{\"line_color\":\"green\",\"line_width\":2,\"x\":{\"field\":\"x\"},\"y\":{\"field\":\"y\"}},\"id\":\"3757\",\"type\":\"Line\"},{\"attributes\":{\"ticker\":{\"id\":\"3695\",\"type\":\"BasicTicker\"}},\"id\":\"3698\",\"type\":\"Grid\"},{\"attributes\":{\"items\":[{\"id\":\"3729\",\"type\":\"LegendItem\"},{\"id\":\"3750\",\"type\":\"LegendItem\"},{\"id\":\"3775\",\"type\":\"LegendItem\"}]},\"id\":\"3728\",\"type\":\"Legend\"},{\"attributes\":{\"line_alpha\":0.1,\"line_color\":\"#1f77b4\",\"line_width\":2,\"x\":{\"field\":\"x\"},\"y\":{\"field\":\"y\"}},\"id\":\"3758\",\"type\":\"Line\"},{\"attributes\":{},\"id\":\"3749\",\"type\":\"UnionRenderers\"},{\"attributes\":{},\"id\":\"3748\",\"type\":\"Selection\"},{\"attributes\":{\"callback\":null,\"data\":{\"x\":[2011,2012,2013,2014,2015,2016,2017],\"y\":[27.062004245098024,26.81707494686417,26.571303888699866,26.33248478028756,26.10246731610828,25.8848724370551,25.670861481196635]},\"selected\":{\"id\":\"3771\",\"type\":\"Selection\"},\"selection_policy\":{\"id\":\"3772\",\"type\":\"UnionRenderers\"}},\"id\":\"3735\",\"type\":\"ColumnDataSource\"},{\"attributes\":{\"data_source\":{\"id\":\"3717\",\"type\":\"ColumnDataSource\"},\"glyph\":{\"id\":\"3718\",\"type\":\"Line\"},\"hover_glyph\":null,\"muted_glyph\":null,\"nonselection_glyph\":{\"id\":\"3719\",\"type\":\"Line\"},\"selection_glyph\":null,\"view\":{\"id\":\"3721\",\"type\":\"CDSView\"}},\"id\":\"3720\",\"type\":\"GlyphRenderer\"},{\"attributes\":{},\"id\":\"3774\",\"type\":\"UnionRenderers\"},{\"attributes\":{},\"id\":\"3695\",\"type\":\"BasicTicker\"},{\"attributes\":{},\"id\":\"3704\",\"type\":\"PanTool\"},{\"attributes\":{},\"id\":\"3747\",\"type\":\"UnionRenderers\"},{\"attributes\":{\"active_drag\":\"auto\",\"active_inspect\":\"auto\",\"active_multi\":null,\"active_scroll\":\"auto\",\"active_tap\":\"auto\",\"tools\":[{\"id\":\"3704\",\"type\":\"PanTool\"},{\"id\":\"3705\",\"type\":\"WheelZoomTool\"},{\"id\":\"3706\",\"type\":\"BoxZoomTool\"},{\"id\":\"3707\",\"type\":\"SaveTool\"},{\"id\":\"3708\",\"type\":\"ResetTool\"},{\"id\":\"3709\",\"type\":\"HelpTool\"},{\"id\":\"3781\",\"type\":\"HoverTool\"}]},\"id\":\"3710\",\"type\":\"Toolbar\"},{\"attributes\":{\"callback\":null,\"data\":{\"x\":[2011,2012,2013,2014,2015,2016,2017],\"y\":[41.29066020511194,41.06737328423549,40.819736905133695,40.55543302226043,40.27763880852747,40.006149187520116,39.721083369953]},\"selected\":{\"id\":\"3746\",\"type\":\"Selection\"},\"selection_policy\":{\"id\":\"3747\",\"type\":\"UnionRenderers\"}},\"id\":\"3717\",\"type\":\"ColumnDataSource\"},{\"attributes\":{\"axis_label\":\"Years\",\"formatter\":{\"id\":\"3725\",\"type\":\"BasicTickFormatter\"},\"ticker\":{\"id\":\"3695\",\"type\":\"BasicTicker\"}},\"id\":\"3694\",\"type\":\"LinearAxis\"},{\"attributes\":{},\"id\":\"3746\",\"type\":\"Selection\"},{\"attributes\":{\"callback\":null,\"data\":{\"x\":[2011,2012,2013,2014,2015,2016,2017],\"y\":[18.68284269266012,18.55376057055702,18.4175092045611,18.28626606521173,18.163323640146963,18.042734326142376,17.93618839869138]},\"selected\":{\"id\":\"3951\",\"type\":\"Selection\"},\"selection_policy\":{\"id\":\"3952\",\"type\":\"UnionRenderers\"}},\"id\":\"3756\",\"type\":\"ColumnDataSource\"},{\"attributes\":{\"data_source\":{\"id\":\"3756\",\"type\":\"ColumnDataSource\"},\"glyph\":{\"id\":\"3757\",\"type\":\"Line\"},\"hover_glyph\":null,\"muted_glyph\":null,\"nonselection_glyph\":{\"id\":\"3758\",\"type\":\"Line\"},\"selection_glyph\":null,\"view\":{\"id\":\"3760\",\"type\":\"CDSView\"}},\"id\":\"3759\",\"type\":\"GlyphRenderer\"},{\"attributes\":{\"fill_alpha\":{\"value\":0.1},\"fill_color\":{\"value\":\"#1f77b4\"},\"line_alpha\":{\"value\":0.1},\"line_color\":{\"value\":\"#1f77b4\"},\"line_width\":{\"value\":3},\"x\":{\"field\":\"x\"},\"y\":{\"field\":\"y\"}},\"id\":\"3732\",\"type\":\"Circle\"},{\"attributes\":{},\"id\":\"3773\",\"type\":\"Selection\"},{\"attributes\":{\"callback\":null,\"tooltips\":\"\\n        <div style=padding=5px>Year:@x</div>\\n        <div style=padding=5px>Value:@y</div>\\n        \"},\"id\":\"3781\",\"type\":\"HoverTool\"},{\"attributes\":{},\"id\":\"3771\",\"type\":\"Selection\"},{\"attributes\":{},\"id\":\"3692\",\"type\":\"LinearScale\"},{\"attributes\":{\"source\":{\"id\":\"3735\",\"type\":\"ColumnDataSource\"}},\"id\":\"3739\",\"type\":\"CDSView\"},{\"attributes\":{},\"id\":\"3723\",\"type\":\"BasicTickFormatter\"},{\"attributes\":{\"callback\":null,\"data\":{\"x\":[2011,2012,2013,2014,2015,2016,2017],\"y\":[27.062004245098024,26.81707494686417,26.571303888699866,26.33248478028756,26.10246731610828,25.8848724370551,25.670861481196635]},\"selected\":{\"id\":\"3773\",\"type\":\"Selection\"},\"selection_policy\":{\"id\":\"3774\",\"type\":\"UnionRenderers\"}},\"id\":\"3751\",\"type\":\"ColumnDataSource\"},{\"attributes\":{\"line_color\":\"red\",\"line_width\":2,\"x\":{\"field\":\"x\"},\"y\":{\"field\":\"y\"}},\"id\":\"3718\",\"type\":\"Line\"},{\"attributes\":{},\"id\":\"3953\",\"type\":\"Selection\"},{\"attributes\":{\"data_source\":{\"id\":\"3776\",\"type\":\"ColumnDataSource\"},\"glyph\":{\"id\":\"3777\",\"type\":\"Circle\"},\"hover_glyph\":null,\"muted_glyph\":null,\"nonselection_glyph\":{\"id\":\"3778\",\"type\":\"Circle\"},\"selection_glyph\":null,\"view\":{\"id\":\"3780\",\"type\":\"CDSView\"}},\"id\":\"3779\",\"type\":\"GlyphRenderer\"},{\"attributes\":{\"source\":{\"id\":\"3751\",\"type\":\"ColumnDataSource\"}},\"id\":\"3755\",\"type\":\"CDSView\"},{\"attributes\":{},\"id\":\"3725\",\"type\":\"BasicTickFormatter\"},{\"attributes\":{},\"id\":\"3690\",\"type\":\"LinearScale\"},{\"attributes\":{\"data_source\":{\"id\":\"3735\",\"type\":\"ColumnDataSource\"},\"glyph\":{\"id\":\"3736\",\"type\":\"Line\"},\"hover_glyph\":null,\"muted_glyph\":null,\"nonselection_glyph\":{\"id\":\"3737\",\"type\":\"Line\"},\"selection_glyph\":null,\"view\":{\"id\":\"3739\",\"type\":\"CDSView\"}},\"id\":\"3738\",\"type\":\"GlyphRenderer\"},{\"attributes\":{},\"id\":\"3708\",\"type\":\"ResetTool\"},{\"attributes\":{},\"id\":\"3952\",\"type\":\"UnionRenderers\"},{\"attributes\":{\"label\":{\"value\":\"LDCs\"},\"renderers\":[{\"id\":\"3720\",\"type\":\"GlyphRenderer\"}]},\"id\":\"3729\",\"type\":\"LegendItem\"},{\"attributes\":{\"source\":{\"id\":\"3776\",\"type\":\"ColumnDataSource\"}},\"id\":\"3780\",\"type\":\"CDSView\"},{\"attributes\":{\"dimension\":1,\"ticker\":{\"id\":\"3700\",\"type\":\"BasicTicker\"}},\"id\":\"3703\",\"type\":\"Grid\"},{\"attributes\":{\"line_alpha\":0.1,\"line_color\":\"#1f77b4\",\"line_width\":2,\"x\":{\"field\":\"x\"},\"y\":{\"field\":\"y\"}},\"id\":\"3737\",\"type\":\"Line\"},{\"attributes\":{\"data_source\":{\"id\":\"3751\",\"type\":\"ColumnDataSource\"},\"glyph\":{\"id\":\"3752\",\"type\":\"Circle\"},\"hover_glyph\":null,\"muted_glyph\":null,\"nonselection_glyph\":{\"id\":\"3753\",\"type\":\"Circle\"},\"selection_glyph\":null,\"view\":{\"id\":\"3755\",\"type\":\"CDSView\"}},\"id\":\"3754\",\"type\":\"GlyphRenderer\"},{\"attributes\":{\"fill_color\":{\"value\":\"green\"},\"line_color\":{\"value\":\"green\"},\"line_width\":{\"value\":3},\"x\":{\"field\":\"x\"},\"y\":{\"field\":\"y\"}},\"id\":\"3777\",\"type\":\"Circle\"},{\"attributes\":{\"bottom_units\":\"screen\",\"fill_alpha\":{\"value\":0.5},\"fill_color\":{\"value\":\"lightgrey\"},\"left_units\":\"screen\",\"level\":\"overlay\",\"line_alpha\":{\"value\":1.0},\"line_color\":{\"value\":\"black\"},\"line_dash\":[4,4],\"line_width\":{\"value\":2},\"render_mode\":\"css\",\"right_units\":\"screen\",\"top_units\":\"screen\"},\"id\":\"3727\",\"type\":\"BoxAnnotation\"},{\"attributes\":{\"line_alpha\":0.1,\"line_color\":\"#1f77b4\",\"line_width\":2,\"x\":{\"field\":\"x\"},\"y\":{\"field\":\"y\"}},\"id\":\"3719\",\"type\":\"Line\"},{\"attributes\":{\"fill_color\":{\"value\":\"red\"},\"line_color\":{\"value\":\"red\"},\"line_width\":{\"value\":3},\"x\":{\"field\":\"x\"},\"y\":{\"field\":\"y\"}},\"id\":\"3731\",\"type\":\"Circle\"},{\"attributes\":{\"line_color\":\"blue\",\"line_width\":2,\"x\":{\"field\":\"x\"},\"y\":{\"field\":\"y\"}},\"id\":\"3736\",\"type\":\"Line\"},{\"attributes\":{\"callback\":null},\"id\":\"3688\",\"type\":\"DataRange1d\"},{\"attributes\":{\"fill_alpha\":{\"value\":0.1},\"fill_color\":{\"value\":\"#1f77b4\"},\"line_alpha\":{\"value\":0.1},\"line_color\":{\"value\":\"#1f77b4\"},\"line_width\":{\"value\":3},\"x\":{\"field\":\"x\"},\"y\":{\"field\":\"y\"}},\"id\":\"3753\",\"type\":\"Circle\"},{\"attributes\":{\"source\":{\"id\":\"3717\",\"type\":\"ColumnDataSource\"}},\"id\":\"3721\",\"type\":\"CDSView\"},{\"attributes\":{},\"id\":\"3772\",\"type\":\"UnionRenderers\"},{\"attributes\":{\"text\":\"Population ages 0-14 (% of total population) weighted against Population, total\"},\"id\":\"3684\",\"type\":\"Title\"},{\"attributes\":{},\"id\":\"3700\",\"type\":\"BasicTicker\"},{\"attributes\":{\"callback\":null},\"id\":\"3686\",\"type\":\"DataRange1d\"},{\"attributes\":{\"overlay\":{\"id\":\"3727\",\"type\":\"BoxAnnotation\"}},\"id\":\"3706\",\"type\":\"BoxZoomTool\"},{\"attributes\":{\"source\":{\"id\":\"3730\",\"type\":\"ColumnDataSource\"}},\"id\":\"3734\",\"type\":\"CDSView\"},{\"attributes\":{},\"id\":\"3707\",\"type\":\"SaveTool\"},{\"attributes\":{\"fill_color\":{\"value\":\"blue\"},\"line_color\":{\"value\":\"blue\"},\"line_width\":{\"value\":3},\"x\":{\"field\":\"x\"},\"y\":{\"field\":\"y\"}},\"id\":\"3752\",\"type\":\"Circle\"},{\"attributes\":{},\"id\":\"3951\",\"type\":\"Selection\"},{\"attributes\":{},\"id\":\"3954\",\"type\":\"UnionRenderers\"},{\"attributes\":{\"callback\":null,\"data\":{\"x\":[2011,2012,2013,2014,2015,2016,2017],\"y\":[41.29066020511194,41.06737328423549,40.819736905133695,40.55543302226043,40.27763880852747,40.006149187520116,39.721083369953]},\"selected\":{\"id\":\"3748\",\"type\":\"Selection\"},\"selection_policy\":{\"id\":\"3749\",\"type\":\"UnionRenderers\"}},\"id\":\"3730\",\"type\":\"ColumnDataSource\"},{\"attributes\":{\"fill_alpha\":{\"value\":0.1},\"fill_color\":{\"value\":\"#1f77b4\"},\"line_alpha\":{\"value\":0.1},\"line_color\":{\"value\":\"#1f77b4\"},\"line_width\":{\"value\":3},\"x\":{\"field\":\"x\"},\"y\":{\"field\":\"y\"}},\"id\":\"3778\",\"type\":\"Circle\"},{\"attributes\":{\"label\":{\"value\":\"OECD\"},\"renderers\":[{\"id\":\"3759\",\"type\":\"GlyphRenderer\"}]},\"id\":\"3775\",\"type\":\"LegendItem\"},{\"attributes\":{\"data_source\":{\"id\":\"3730\",\"type\":\"ColumnDataSource\"},\"glyph\":{\"id\":\"3731\",\"type\":\"Circle\"},\"hover_glyph\":null,\"muted_glyph\":null,\"nonselection_glyph\":{\"id\":\"3732\",\"type\":\"Circle\"},\"selection_glyph\":null,\"view\":{\"id\":\"3734\",\"type\":\"CDSView\"}},\"id\":\"3733\",\"type\":\"GlyphRenderer\"},{\"attributes\":{\"axis_label\":\"Percentage\",\"formatter\":{\"id\":\"3723\",\"type\":\"BasicTickFormatter\"},\"ticker\":{\"id\":\"3700\",\"type\":\"BasicTicker\"}},\"id\":\"3699\",\"type\":\"LinearAxis\"}],\"root_ids\":[\"3683\"]},\"title\":\"Bokeh Application\",\"version\":\"1.3.4\"}};\n",
       "  var render_items = [{\"docid\":\"e6a93602-cc1c-47b9-a173-f53233dc1f87\",\"roots\":{\"3683\":\"54934162-33c6-4937-be3f-edede1646fe5\"}}];\n",
       "  root.Bokeh.embed.embed_items_notebook(docs_json, render_items);\n",
       "\n",
       "  }\n",
       "  if (root.Bokeh !== undefined) {\n",
       "    embed_document(root);\n",
       "  } else {\n",
       "    var attempts = 0;\n",
       "    var timer = setInterval(function(root) {\n",
       "      if (root.Bokeh !== undefined) {\n",
       "        embed_document(root);\n",
       "        clearInterval(timer);\n",
       "      }\n",
       "      attempts++;\n",
       "      if (attempts > 100) {\n",
       "        console.log(\"Bokeh: ERROR: Unable to run BokehJS code because BokehJS library is missing\");\n",
       "        clearInterval(timer);\n",
       "      }\n",
       "    }, 10, root)\n",
       "  }\n",
       "})(window);"
      ],
      "application/vnd.bokehjs_exec.v0+json": ""
     },
     "metadata": {
      "application/vnd.bokehjs_exec.v0+json": {
       "id": "3683"
      }
     },
     "output_type": "display_data"
    }
   ],
   "source": [
    "# Population 0-14\n",
    "show_weighted_average('SP.POP.0014.TO.ZS', 'SP.POP.TOTL', ['LDCs', 'Developing excluding LDCs', 'OECD'])"
   ]
  },
  {
   "cell_type": "code",
   "execution_count": 13,
   "metadata": {},
   "outputs": [
    {
     "data": {
      "text/html": [
       "\n",
       "\n",
       "\n",
       "\n",
       "\n",
       "\n",
       "  <div class=\"bk-root\" id=\"c8685ba3-d99b-4f94-899f-0264351f7168\" data-root-id=\"2060\"></div>\n"
      ]
     },
     "metadata": {},
     "output_type": "display_data"
    },
    {
     "data": {
      "application/javascript": [
       "(function(root) {\n",
       "  function embed_document(root) {\n",
       "    \n",
       "  var docs_json = {\"7c6ea6a0-9328-46e8-b792-ef39f844ea41\":{\"roots\":{\"references\":[{\"attributes\":{\"below\":[{\"id\":\"2071\",\"type\":\"LinearAxis\"}],\"center\":[{\"id\":\"2075\",\"type\":\"Grid\"},{\"id\":\"2080\",\"type\":\"Grid\"},{\"id\":\"2105\",\"type\":\"Legend\"}],\"left\":[{\"id\":\"2076\",\"type\":\"LinearAxis\"}],\"plot_height\":400,\"plot_width\":900,\"renderers\":[{\"id\":\"2097\",\"type\":\"GlyphRenderer\"},{\"id\":\"2110\",\"type\":\"GlyphRenderer\"}],\"title\":{\"id\":\"2061\",\"type\":\"Title\"},\"toolbar\":{\"id\":\"2087\",\"type\":\"Toolbar\"},\"x_range\":{\"id\":\"2063\",\"type\":\"DataRange1d\"},\"x_scale\":{\"id\":\"2067\",\"type\":\"LinearScale\"},\"y_range\":{\"id\":\"2065\",\"type\":\"DataRange1d\"},\"y_scale\":{\"id\":\"2069\",\"type\":\"LinearScale\"}},\"id\":\"2060\",\"subtype\":\"Figure\",\"type\":\"Plot\"},{\"attributes\":{\"label\":{\"value\":\"LDCs\"},\"renderers\":[{\"id\":\"2097\",\"type\":\"GlyphRenderer\"}]},\"id\":\"2106\",\"type\":\"LegendItem\"},{\"attributes\":{\"dimension\":1,\"ticker\":{\"id\":\"2077\",\"type\":\"BasicTicker\"}},\"id\":\"2080\",\"type\":\"Grid\"},{\"attributes\":{\"callback\":null,\"data\":{\"x\":[1960,1961,1962,1963,1964,1965,1966,1967,1968,1969,1970,1971,1972,1973,1974,1975,1976,1977,1978,1979,1980,1981,1982,1983,1984,1985,1986,1987,1988,1989,1990,1991,1992,1993,1994,1995,1996,1997,1998,1999,2000,2001,2002,2003,2004,2005,2006,2007,2008,2009,2010,2011,2012,2013,2014,2015,2016,2017],\"y\":[240518433.0,246113640.0,251900741.0,257908074.0,264174179.0,270720892.0,277573029.0,284708409.0,292045744.0,299473256.0,306916896.0,314344629.0,321797581.0,329357353.0,337142681.0,345242710.0,353691338.0,362475112.0,371577256.0,380963304.0,390612563.0,400528924.0,410740611.0,421279107.0,432185325.0,443491288.0,455193656.0,467290514.0,479814021.0,492803028.0,506275612.0,520262423.0,534731006.0,549559264.0,564581083.0,579681672.0,594801259.0,609983301.0,625342098.0,641046802.0,657215864.0,673903112.0,691061397.0,708587948.0,726331177.0,744190510.0,762132501.0,780219542.0,798563392.0,817322629.0,836614860.0,856472234.0,873619764.0,894516028.0,915914952.0,937788499.0,960134718.0,982952189.0]},\"selected\":{\"id\":\"2196\",\"type\":\"Selection\"},\"selection_policy\":{\"id\":\"2197\",\"type\":\"UnionRenderers\"}},\"id\":\"2107\",\"type\":\"ColumnDataSource\"},{\"attributes\":{\"line_color\":\"red\",\"line_width\":2,\"x\":{\"field\":\"x\"},\"y\":{\"field\":\"y\"}},\"id\":\"2095\",\"type\":\"Line\"},{\"attributes\":{\"fill_color\":{\"value\":\"red\"},\"line_color\":{\"value\":\"red\"},\"line_width\":{\"value\":3},\"x\":{\"field\":\"x\"},\"y\":{\"field\":\"y\"}},\"id\":\"2108\",\"type\":\"Circle\"},{\"attributes\":{\"callback\":null,\"data\":{\"x\":[1960,1961,1962,1963,1964,1965,1966,1967,1968,1969,1970,1971,1972,1973,1974,1975,1976,1977,1978,1979,1980,1981,1982,1983,1984,1985,1986,1987,1988,1989,1990,1991,1992,1993,1994,1995,1996,1997,1998,1999,2000,2001,2002,2003,2004,2005,2006,2007,2008,2009,2010,2011,2012,2013,2014,2015,2016,2017],\"y\":[240518433.0,246113640.0,251900741.0,257908074.0,264174179.0,270720892.0,277573029.0,284708409.0,292045744.0,299473256.0,306916896.0,314344629.0,321797581.0,329357353.0,337142681.0,345242710.0,353691338.0,362475112.0,371577256.0,380963304.0,390612563.0,400528924.0,410740611.0,421279107.0,432185325.0,443491288.0,455193656.0,467290514.0,479814021.0,492803028.0,506275612.0,520262423.0,534731006.0,549559264.0,564581083.0,579681672.0,594801259.0,609983301.0,625342098.0,641046802.0,657215864.0,673903112.0,691061397.0,708587948.0,726331177.0,744190510.0,762132501.0,780219542.0,798563392.0,817322629.0,836614860.0,856472234.0,873619764.0,894516028.0,915914952.0,937788499.0,960134718.0,982952189.0]},\"selected\":{\"id\":\"2194\",\"type\":\"Selection\"},\"selection_policy\":{\"id\":\"2195\",\"type\":\"UnionRenderers\"}},\"id\":\"2094\",\"type\":\"ColumnDataSource\"},{\"attributes\":{\"fill_alpha\":{\"value\":0.1},\"fill_color\":{\"value\":\"#1f77b4\"},\"line_alpha\":{\"value\":0.1},\"line_color\":{\"value\":\"#1f77b4\"},\"line_width\":{\"value\":3},\"x\":{\"field\":\"x\"},\"y\":{\"field\":\"y\"}},\"id\":\"2109\",\"type\":\"Circle\"},{\"attributes\":{\"line_alpha\":0.1,\"line_color\":\"#1f77b4\",\"line_width\":2,\"x\":{\"field\":\"x\"},\"y\":{\"field\":\"y\"}},\"id\":\"2096\",\"type\":\"Line\"},{\"attributes\":{},\"id\":\"2081\",\"type\":\"PanTool\"},{\"attributes\":{\"data_source\":{\"id\":\"2107\",\"type\":\"ColumnDataSource\"},\"glyph\":{\"id\":\"2108\",\"type\":\"Circle\"},\"hover_glyph\":null,\"muted_glyph\":null,\"nonselection_glyph\":{\"id\":\"2109\",\"type\":\"Circle\"},\"selection_glyph\":null,\"view\":{\"id\":\"2111\",\"type\":\"CDSView\"}},\"id\":\"2110\",\"type\":\"GlyphRenderer\"},{\"attributes\":{},\"id\":\"2082\",\"type\":\"WheelZoomTool\"},{\"attributes\":{\"source\":{\"id\":\"2107\",\"type\":\"ColumnDataSource\"}},\"id\":\"2111\",\"type\":\"CDSView\"},{\"attributes\":{\"overlay\":{\"id\":\"2104\",\"type\":\"BoxAnnotation\"}},\"id\":\"2083\",\"type\":\"BoxZoomTool\"},{\"attributes\":{},\"id\":\"2084\",\"type\":\"SaveTool\"},{\"attributes\":{},\"id\":\"2194\",\"type\":\"Selection\"},{\"attributes\":{},\"id\":\"2085\",\"type\":\"ResetTool\"},{\"attributes\":{},\"id\":\"2195\",\"type\":\"UnionRenderers\"},{\"attributes\":{},\"id\":\"2086\",\"type\":\"HelpTool\"},{\"attributes\":{\"callback\":null},\"id\":\"2063\",\"type\":\"DataRange1d\"},{\"attributes\":{},\"id\":\"2196\",\"type\":\"Selection\"},{\"attributes\":{\"active_drag\":\"auto\",\"active_inspect\":\"auto\",\"active_multi\":null,\"active_scroll\":\"auto\",\"active_tap\":\"auto\",\"tools\":[{\"id\":\"2081\",\"type\":\"PanTool\"},{\"id\":\"2082\",\"type\":\"WheelZoomTool\"},{\"id\":\"2083\",\"type\":\"BoxZoomTool\"},{\"id\":\"2084\",\"type\":\"SaveTool\"},{\"id\":\"2085\",\"type\":\"ResetTool\"},{\"id\":\"2086\",\"type\":\"HelpTool\"},{\"id\":\"2112\",\"type\":\"HoverTool\"}]},\"id\":\"2087\",\"type\":\"Toolbar\"},{\"attributes\":{\"callback\":null},\"id\":\"2065\",\"type\":\"DataRange1d\"},{\"attributes\":{},\"id\":\"2197\",\"type\":\"UnionRenderers\"},{\"attributes\":{},\"id\":\"2067\",\"type\":\"LinearScale\"},{\"attributes\":{\"data_source\":{\"id\":\"2094\",\"type\":\"ColumnDataSource\"},\"glyph\":{\"id\":\"2095\",\"type\":\"Line\"},\"hover_glyph\":null,\"muted_glyph\":null,\"nonselection_glyph\":{\"id\":\"2096\",\"type\":\"Line\"},\"selection_glyph\":null,\"view\":{\"id\":\"2098\",\"type\":\"CDSView\"}},\"id\":\"2097\",\"type\":\"GlyphRenderer\"},{\"attributes\":{},\"id\":\"2069\",\"type\":\"LinearScale\"},{\"attributes\":{\"source\":{\"id\":\"2094\",\"type\":\"ColumnDataSource\"}},\"id\":\"2098\",\"type\":\"CDSView\"},{\"attributes\":{\"axis_label\":\"Years\",\"formatter\":{\"id\":\"2102\",\"type\":\"BasicTickFormatter\"},\"ticker\":{\"id\":\"2072\",\"type\":\"BasicTicker\"}},\"id\":\"2071\",\"type\":\"LinearAxis\"},{\"attributes\":{},\"id\":\"2100\",\"type\":\"BasicTickFormatter\"},{\"attributes\":{},\"id\":\"2072\",\"type\":\"BasicTicker\"},{\"attributes\":{\"ticker\":{\"id\":\"2072\",\"type\":\"BasicTicker\"}},\"id\":\"2075\",\"type\":\"Grid\"},{\"attributes\":{},\"id\":\"2102\",\"type\":\"BasicTickFormatter\"},{\"attributes\":{\"callback\":null,\"tooltips\":\"\\n        <div style=padding=5px>Year:@x</div>\\n        <div style=padding=5px>Value:@y</div>\\n        \"},\"id\":\"2112\",\"type\":\"HoverTool\"},{\"attributes\":{\"axis_label\":\"Percentage\",\"formatter\":{\"id\":\"2100\",\"type\":\"BasicTickFormatter\"},\"ticker\":{\"id\":\"2077\",\"type\":\"BasicTicker\"}},\"id\":\"2076\",\"type\":\"LinearAxis\"},{\"attributes\":{\"bottom_units\":\"screen\",\"fill_alpha\":{\"value\":0.5},\"fill_color\":{\"value\":\"lightgrey\"},\"left_units\":\"screen\",\"level\":\"overlay\",\"line_alpha\":{\"value\":1.0},\"line_color\":{\"value\":\"black\"},\"line_dash\":[4,4],\"line_width\":{\"value\":2},\"render_mode\":\"css\",\"right_units\":\"screen\",\"top_units\":\"screen\"},\"id\":\"2104\",\"type\":\"BoxAnnotation\"},{\"attributes\":{},\"id\":\"2077\",\"type\":\"BasicTicker\"},{\"attributes\":{\"items\":[{\"id\":\"2106\",\"type\":\"LegendItem\"}]},\"id\":\"2105\",\"type\":\"Legend\"},{\"attributes\":{\"text\":\"Population, total\"},\"id\":\"2061\",\"type\":\"Title\"}],\"root_ids\":[\"2060\"]},\"title\":\"Bokeh Application\",\"version\":\"1.3.4\"}};\n",
       "  var render_items = [{\"docid\":\"7c6ea6a0-9328-46e8-b792-ef39f844ea41\",\"roots\":{\"2060\":\"c8685ba3-d99b-4f94-899f-0264351f7168\"}}];\n",
       "  root.Bokeh.embed.embed_items_notebook(docs_json, render_items);\n",
       "\n",
       "  }\n",
       "  if (root.Bokeh !== undefined) {\n",
       "    embed_document(root);\n",
       "  } else {\n",
       "    var attempts = 0;\n",
       "    var timer = setInterval(function(root) {\n",
       "      if (root.Bokeh !== undefined) {\n",
       "        embed_document(root);\n",
       "        clearInterval(timer);\n",
       "      }\n",
       "      attempts++;\n",
       "      if (attempts > 100) {\n",
       "        console.log(\"Bokeh: ERROR: Unable to run BokehJS code because BokehJS library is missing\");\n",
       "        clearInterval(timer);\n",
       "      }\n",
       "    }, 10, root)\n",
       "  }\n",
       "})(window);"
      ],
      "application/vnd.bokehjs_exec.v0+json": ""
     },
     "metadata": {
      "application/vnd.bokehjs_exec.v0+json": {
       "id": "2060"
      }
     },
     "output_type": "display_data"
    }
   ],
   "source": [
    "years = list(range(1960,2018))\n",
    "show_group_total('SP.POP.TOTL', ['LDCs'])"
   ]
  },
  {
   "cell_type": "code",
   "execution_count": 14,
   "metadata": {},
   "outputs": [],
   "source": [
    "data_group = get_data_table(years, 'SP.POP.TOTL', [['LDCs']])"
   ]
  },
  {
   "cell_type": "code",
   "execution_count": 33,
   "metadata": {},
   "outputs": [
    {
     "data": {
      "text/html": [
       "\n",
       "\n",
       "\n",
       "\n",
       "\n",
       "\n",
       "  <div class=\"bk-root\" id=\"30de8c8c-51c4-4635-898e-5435bea605be\" data-root-id=\"7252\"></div>\n"
      ]
     },
     "metadata": {},
     "output_type": "display_data"
    },
    {
     "data": {
      "application/javascript": [
       "(function(root) {\n",
       "  function embed_document(root) {\n",
       "    \n",
       "  var docs_json = {\"eb604273-0558-4e4b-a4d5-3d6aaec76fa4\":{\"roots\":{\"references\":[{\"attributes\":{\"below\":[{\"id\":\"7263\",\"type\":\"LinearAxis\"}],\"center\":[{\"id\":\"7267\",\"type\":\"Grid\"},{\"id\":\"7272\",\"type\":\"Grid\"},{\"id\":\"7297\",\"type\":\"Legend\"}],\"left\":[{\"id\":\"7268\",\"type\":\"LinearAxis\"}],\"plot_width\":900,\"renderers\":[{\"id\":\"7289\",\"type\":\"GlyphRenderer\"},{\"id\":\"7302\",\"type\":\"GlyphRenderer\"},{\"id\":\"7307\",\"type\":\"GlyphRenderer\"},{\"id\":\"7323\",\"type\":\"GlyphRenderer\"}],\"title\":{\"id\":\"7253\",\"type\":\"Title\"},\"toolbar\":{\"id\":\"7279\",\"type\":\"Toolbar\"},\"x_range\":{\"id\":\"7255\",\"type\":\"DataRange1d\"},\"x_scale\":{\"id\":\"7259\",\"type\":\"LinearScale\"},\"y_range\":{\"id\":\"7257\",\"type\":\"DataRange1d\"},\"y_scale\":{\"id\":\"7261\",\"type\":\"LinearScale\"}},\"id\":\"7252\",\"subtype\":\"Figure\",\"type\":\"Plot\"},{\"attributes\":{},\"id\":\"7316\",\"type\":\"UnionRenderers\"},{\"attributes\":{},\"id\":\"7627\",\"type\":\"Selection\"},{\"attributes\":{},\"id\":\"7278\",\"type\":\"HelpTool\"},{\"attributes\":{\"fill_color\":{\"value\":\"blue\"},\"line_color\":{\"value\":\"blue\"},\"line_width\":{\"value\":3},\"x\":{\"field\":\"x\"},\"y\":{\"field\":\"y\"}},\"id\":\"7321\",\"type\":\"Circle\"},{\"attributes\":{\"overlay\":{\"id\":\"7296\",\"type\":\"BoxAnnotation\"}},\"id\":\"7275\",\"type\":\"BoxZoomTool\"},{\"attributes\":{\"source\":{\"id\":\"7286\",\"type\":\"ColumnDataSource\"}},\"id\":\"7290\",\"type\":\"CDSView\"},{\"attributes\":{\"source\":{\"id\":\"7299\",\"type\":\"ColumnDataSource\"}},\"id\":\"7303\",\"type\":\"CDSView\"},{\"attributes\":{\"ticker\":{\"id\":\"7264\",\"type\":\"BasicTicker\"}},\"id\":\"7267\",\"type\":\"Grid\"},{\"attributes\":{\"source\":{\"id\":\"7304\",\"type\":\"ColumnDataSource\"}},\"id\":\"7308\",\"type\":\"CDSView\"},{\"attributes\":{\"data_source\":{\"id\":\"7320\",\"type\":\"ColumnDataSource\"},\"glyph\":{\"id\":\"7321\",\"type\":\"Circle\"},\"hover_glyph\":null,\"muted_glyph\":null,\"nonselection_glyph\":{\"id\":\"7322\",\"type\":\"Circle\"},\"selection_glyph\":null,\"view\":{\"id\":\"7324\",\"type\":\"CDSView\"}},\"id\":\"7323\",\"type\":\"GlyphRenderer\"},{\"attributes\":{\"data_source\":{\"id\":\"7286\",\"type\":\"ColumnDataSource\"},\"glyph\":{\"id\":\"7287\",\"type\":\"Line\"},\"hover_glyph\":null,\"muted_glyph\":null,\"nonselection_glyph\":{\"id\":\"7288\",\"type\":\"Line\"},\"selection_glyph\":null,\"view\":{\"id\":\"7290\",\"type\":\"CDSView\"}},\"id\":\"7289\",\"type\":\"GlyphRenderer\"},{\"attributes\":{},\"id\":\"7277\",\"type\":\"ResetTool\"},{\"attributes\":{\"callback\":null,\"data\":{\"x\":[2000,2001,2002,2003,2004,2005,2006,2007,2008,2009,2010,2011,2012,2013,2014,2015,2016,2017],\"y\":[85.71439577036234,85.5746463785395,85.42987052449938,85.25951191637309,85.11578169274588,84.95917228819752,84.67367316779399,84.76333397019623,84.82905666578436,84.92486075515859,84.88687200109683,84.34903984029447,83.77222403234693,83.30820688707246,82.72786323433235,82.26461439968713,81.78532591691658,81.207207844115]},\"selected\":{\"id\":\"7317\",\"type\":\"Selection\"},\"selection_policy\":{\"id\":\"7318\",\"type\":\"UnionRenderers\"}},\"id\":\"7299\",\"type\":\"ColumnDataSource\"},{\"attributes\":{\"data_source\":{\"id\":\"7304\",\"type\":\"ColumnDataSource\"},\"glyph\":{\"id\":\"7305\",\"type\":\"Line\"},\"hover_glyph\":null,\"muted_glyph\":null,\"nonselection_glyph\":{\"id\":\"7306\",\"type\":\"Line\"},\"selection_glyph\":null,\"view\":{\"id\":\"7308\",\"type\":\"CDSView\"}},\"id\":\"7307\",\"type\":\"GlyphRenderer\"},{\"attributes\":{},\"id\":\"7264\",\"type\":\"BasicTicker\"},{\"attributes\":{},\"id\":\"7274\",\"type\":\"WheelZoomTool\"},{\"attributes\":{\"fill_alpha\":{\"value\":0.1},\"fill_color\":{\"value\":\"#1f77b4\"},\"line_alpha\":{\"value\":0.1},\"line_color\":{\"value\":\"#1f77b4\"},\"line_width\":{\"value\":3},\"x\":{\"field\":\"x\"},\"y\":{\"field\":\"y\"}},\"id\":\"7322\",\"type\":\"Circle\"},{\"attributes\":{},\"id\":\"7292\",\"type\":\"BasicTickFormatter\"},{\"attributes\":{},\"id\":\"7294\",\"type\":\"BasicTickFormatter\"},{\"attributes\":{\"axis_label\":\"Years\",\"formatter\":{\"id\":\"7294\",\"type\":\"BasicTickFormatter\"},\"ticker\":{\"id\":\"7264\",\"type\":\"BasicTicker\"}},\"id\":\"7263\",\"type\":\"LinearAxis\"},{\"attributes\":{},\"id\":\"7318\",\"type\":\"UnionRenderers\"},{\"attributes\":{},\"id\":\"7273\",\"type\":\"PanTool\"},{\"attributes\":{},\"id\":\"7628\",\"type\":\"UnionRenderers\"},{\"attributes\":{\"fill_color\":{\"value\":\"red\"},\"line_color\":{\"value\":\"red\"},\"line_width\":{\"value\":3},\"x\":{\"field\":\"x\"},\"y\":{\"field\":\"y\"}},\"id\":\"7300\",\"type\":\"Circle\"},{\"attributes\":{\"callback\":null,\"data\":{\"x\":[2000,2001,2002,2003,2004,2005,2006,2007,2008,2009,2010,2011,2012,2013,2014,2015,2016,2017],\"y\":[85.71439577036234,85.5746463785395,85.42987052449938,85.25951191637309,85.11578169274588,84.95917228819752,84.67367316779399,84.76333397019623,84.82905666578436,84.92486075515859,84.88687200109683,84.34903984029447,83.77222403234693,83.30820688707246,82.72786323433235,82.26461439968713,81.78532591691658,81.207207844115]},\"selected\":{\"id\":\"7315\",\"type\":\"Selection\"},\"selection_policy\":{\"id\":\"7316\",\"type\":\"UnionRenderers\"}},\"id\":\"7286\",\"type\":\"ColumnDataSource\"},{\"attributes\":{\"line_alpha\":0.1,\"line_color\":\"#1f77b4\",\"line_width\":2,\"x\":{\"field\":\"x\"},\"y\":{\"field\":\"y\"}},\"id\":\"7306\",\"type\":\"Line\"},{\"attributes\":{},\"id\":\"7261\",\"type\":\"LinearScale\"},{\"attributes\":{\"line_color\":\"blue\",\"line_width\":2,\"x\":{\"field\":\"x\"},\"y\":{\"field\":\"y\"}},\"id\":\"7305\",\"type\":\"Line\"},{\"attributes\":{\"callback\":null,\"tooltips\":\"\\n        <div style=padding=5px>Year:@x</div>\\n        <div style=padding=5px>Value:@y</div>\\n        \"},\"id\":\"7325\",\"type\":\"HoverTool\"},{\"attributes\":{\"line_alpha\":0.1,\"line_color\":\"#1f77b4\",\"line_width\":2,\"x\":{\"field\":\"x\"},\"y\":{\"field\":\"y\"}},\"id\":\"7288\",\"type\":\"Line\"},{\"attributes\":{\"callback\":null,\"data\":{\"x\":[2000,2001,2002,2003,2004,2005,2006,2007,2008,2009,2010,2011,2012,2013,2014,2015,2016,2017],\"y\":[65.33052780357724,64.90584506088574,64.18936699106743,63.73445964952183,63.152358860863174,62.30143939928257,61.53837658334175,60.917309895641225,60.28371244632391,59.71729357938916,59.04153779959496,57.911535178573644,56.58414101141623,55.95056253677353,55.358412885604125,54.93202932330558,54.55390041465572,54.20588235767386]},\"selected\":{\"id\":\"7629\",\"type\":\"Selection\"},\"selection_policy\":{\"id\":\"7630\",\"type\":\"UnionRenderers\"}},\"id\":\"7320\",\"type\":\"ColumnDataSource\"},{\"attributes\":{\"line_color\":\"red\",\"line_width\":2,\"x\":{\"field\":\"x\"},\"y\":{\"field\":\"y\"}},\"id\":\"7287\",\"type\":\"Line\"},{\"attributes\":{\"label\":{\"value\":\"LDCs\"},\"renderers\":[{\"id\":\"7289\",\"type\":\"GlyphRenderer\"}]},\"id\":\"7298\",\"type\":\"LegendItem\"},{\"attributes\":{\"items\":[{\"id\":\"7298\",\"type\":\"LegendItem\"},{\"id\":\"7319\",\"type\":\"LegendItem\"}]},\"id\":\"7297\",\"type\":\"Legend\"},{\"attributes\":{\"text\":\"Vulnerable employment, female (% of female employment) (modeled ILO estimate) weighted against Labor force, total\"},\"id\":\"7253\",\"type\":\"Title\"},{\"attributes\":{\"callback\":null},\"id\":\"7255\",\"type\":\"DataRange1d\"},{\"attributes\":{\"label\":{\"value\":\"Developing excluding LDCs\"},\"renderers\":[{\"id\":\"7307\",\"type\":\"GlyphRenderer\"}]},\"id\":\"7319\",\"type\":\"LegendItem\"},{\"attributes\":{\"callback\":null,\"data\":{\"x\":[2000,2001,2002,2003,2004,2005,2006,2007,2008,2009,2010,2011,2012,2013,2014,2015,2016,2017],\"y\":[65.33052780357724,64.90584506088574,64.18936699106743,63.73445964952183,63.152358860863174,62.30143939928257,61.53837658334175,60.917309895641225,60.28371244632391,59.71729357938916,59.04153779959496,57.911535178573644,56.58414101141623,55.95056253677353,55.358412885604125,54.93202932330558,54.55390041465572,54.20588235767386]},\"selected\":{\"id\":\"7627\",\"type\":\"Selection\"},\"selection_policy\":{\"id\":\"7628\",\"type\":\"UnionRenderers\"}},\"id\":\"7304\",\"type\":\"ColumnDataSource\"},{\"attributes\":{},\"id\":\"7630\",\"type\":\"UnionRenderers\"},{\"attributes\":{\"dimension\":1,\"ticker\":{\"id\":\"7269\",\"type\":\"BasicTicker\"}},\"id\":\"7272\",\"type\":\"Grid\"},{\"attributes\":{},\"id\":\"7259\",\"type\":\"LinearScale\"},{\"attributes\":{\"fill_alpha\":{\"value\":0.1},\"fill_color\":{\"value\":\"#1f77b4\"},\"line_alpha\":{\"value\":0.1},\"line_color\":{\"value\":\"#1f77b4\"},\"line_width\":{\"value\":3},\"x\":{\"field\":\"x\"},\"y\":{\"field\":\"y\"}},\"id\":\"7301\",\"type\":\"Circle\"},{\"attributes\":{\"source\":{\"id\":\"7320\",\"type\":\"ColumnDataSource\"}},\"id\":\"7324\",\"type\":\"CDSView\"},{\"attributes\":{\"bottom_units\":\"screen\",\"fill_alpha\":{\"value\":0.5},\"fill_color\":{\"value\":\"lightgrey\"},\"left_units\":\"screen\",\"level\":\"overlay\",\"line_alpha\":{\"value\":1.0},\"line_color\":{\"value\":\"black\"},\"line_dash\":[4,4],\"line_width\":{\"value\":2},\"render_mode\":\"css\",\"right_units\":\"screen\",\"top_units\":\"screen\"},\"id\":\"7296\",\"type\":\"BoxAnnotation\"},{\"attributes\":{},\"id\":\"7269\",\"type\":\"BasicTicker\"},{\"attributes\":{},\"id\":\"7629\",\"type\":\"Selection\"},{\"attributes\":{},\"id\":\"7276\",\"type\":\"SaveTool\"},{\"attributes\":{\"callback\":null},\"id\":\"7257\",\"type\":\"DataRange1d\"},{\"attributes\":{},\"id\":\"7315\",\"type\":\"Selection\"},{\"attributes\":{},\"id\":\"7317\",\"type\":\"Selection\"},{\"attributes\":{\"active_drag\":\"auto\",\"active_inspect\":\"auto\",\"active_multi\":null,\"active_scroll\":\"auto\",\"active_tap\":\"auto\",\"tools\":[{\"id\":\"7273\",\"type\":\"PanTool\"},{\"id\":\"7274\",\"type\":\"WheelZoomTool\"},{\"id\":\"7275\",\"type\":\"BoxZoomTool\"},{\"id\":\"7276\",\"type\":\"SaveTool\"},{\"id\":\"7277\",\"type\":\"ResetTool\"},{\"id\":\"7278\",\"type\":\"HelpTool\"},{\"id\":\"7325\",\"type\":\"HoverTool\"}]},\"id\":\"7279\",\"type\":\"Toolbar\"},{\"attributes\":{\"data_source\":{\"id\":\"7299\",\"type\":\"ColumnDataSource\"},\"glyph\":{\"id\":\"7300\",\"type\":\"Circle\"},\"hover_glyph\":null,\"muted_glyph\":null,\"nonselection_glyph\":{\"id\":\"7301\",\"type\":\"Circle\"},\"selection_glyph\":null,\"view\":{\"id\":\"7303\",\"type\":\"CDSView\"}},\"id\":\"7302\",\"type\":\"GlyphRenderer\"},{\"attributes\":{\"axis_label\":\"Percentage\",\"formatter\":{\"id\":\"7292\",\"type\":\"BasicTickFormatter\"},\"ticker\":{\"id\":\"7269\",\"type\":\"BasicTicker\"}},\"id\":\"7268\",\"type\":\"LinearAxis\"}],\"root_ids\":[\"7252\"]},\"title\":\"Bokeh Application\",\"version\":\"1.3.4\"}};\n",
       "  var render_items = [{\"docid\":\"eb604273-0558-4e4b-a4d5-3d6aaec76fa4\",\"roots\":{\"7252\":\"30de8c8c-51c4-4635-898e-5435bea605be\"}}];\n",
       "  root.Bokeh.embed.embed_items_notebook(docs_json, render_items);\n",
       "\n",
       "  }\n",
       "  if (root.Bokeh !== undefined) {\n",
       "    embed_document(root);\n",
       "  } else {\n",
       "    var attempts = 0;\n",
       "    var timer = setInterval(function(root) {\n",
       "      if (root.Bokeh !== undefined) {\n",
       "        embed_document(root);\n",
       "        clearInterval(timer);\n",
       "      }\n",
       "      attempts++;\n",
       "      if (attempts > 100) {\n",
       "        console.log(\"Bokeh: ERROR: Unable to run BokehJS code because BokehJS library is missing\");\n",
       "        clearInterval(timer);\n",
       "      }\n",
       "    }, 10, root)\n",
       "  }\n",
       "})(window);"
      ],
      "application/vnd.bokehjs_exec.v0+json": ""
     },
     "metadata": {
      "application/vnd.bokehjs_exec.v0+json": {
       "id": "7252"
      }
     },
     "output_type": "display_data"
    }
   ],
   "source": [
    "# Labor force\n",
    "years = list(range(2000,2018))\n",
    "show_weighted_average('SL.EMP.VULN.FE.ZS', 'SL.TLF.TOTL.IN', ['LDCs', 'Developing excluding LDCs'])"
   ]
  },
  {
   "cell_type": "code",
   "execution_count": 39,
   "metadata": {},
   "outputs": [
    {
     "data": {
      "text/html": [
       "\n",
       "\n",
       "\n",
       "\n",
       "\n",
       "\n",
       "  <div class=\"bk-root\" id=\"6ed50593-4078-411e-b439-5b627ec7acb4\" data-root-id=\"9245\"></div>\n"
      ]
     },
     "metadata": {},
     "output_type": "display_data"
    },
    {
     "data": {
      "application/javascript": [
       "(function(root) {\n",
       "  function embed_document(root) {\n",
       "    \n",
       "  var docs_json = {\"ab1b6d79-3f28-433d-a7a7-412837609cb8\":{\"roots\":{\"references\":[{\"attributes\":{\"below\":[{\"id\":\"9256\",\"type\":\"LinearAxis\"}],\"center\":[{\"id\":\"9260\",\"type\":\"Grid\"},{\"id\":\"9265\",\"type\":\"Grid\"},{\"id\":\"9290\",\"type\":\"Legend\"}],\"left\":[{\"id\":\"9261\",\"type\":\"LinearAxis\"}],\"plot_width\":900,\"renderers\":[{\"id\":\"9282\",\"type\":\"GlyphRenderer\"},{\"id\":\"9295\",\"type\":\"GlyphRenderer\"},{\"id\":\"9300\",\"type\":\"GlyphRenderer\"},{\"id\":\"9316\",\"type\":\"GlyphRenderer\"}],\"title\":{\"id\":\"9246\",\"type\":\"Title\"},\"toolbar\":{\"id\":\"9272\",\"type\":\"Toolbar\"},\"x_range\":{\"id\":\"9248\",\"type\":\"DataRange1d\"},\"x_scale\":{\"id\":\"9252\",\"type\":\"LinearScale\"},\"y_range\":{\"id\":\"9250\",\"type\":\"DataRange1d\"},\"y_scale\":{\"id\":\"9254\",\"type\":\"LinearScale\"}},\"id\":\"9245\",\"subtype\":\"Figure\",\"type\":\"Plot\"},{\"attributes\":{\"callback\":null},\"id\":\"9248\",\"type\":\"DataRange1d\"},{\"attributes\":{},\"id\":\"9271\",\"type\":\"HelpTool\"},{\"attributes\":{\"line_color\":\"blue\",\"line_width\":2,\"x\":{\"field\":\"x\"},\"y\":{\"field\":\"y\"}},\"id\":\"9298\",\"type\":\"Line\"},{\"attributes\":{},\"id\":\"9262\",\"type\":\"BasicTicker\"},{\"attributes\":{\"line_alpha\":0.1,\"line_color\":\"#1f77b4\",\"line_width\":2,\"x\":{\"field\":\"x\"},\"y\":{\"field\":\"y\"}},\"id\":\"9281\",\"type\":\"Line\"},{\"attributes\":{},\"id\":\"9257\",\"type\":\"BasicTicker\"},{\"attributes\":{},\"id\":\"9310\",\"type\":\"Selection\"},{\"attributes\":{\"label\":{\"value\":\"LDCs\"},\"renderers\":[{\"id\":\"9282\",\"type\":\"GlyphRenderer\"}]},\"id\":\"9291\",\"type\":\"LegendItem\"},{\"attributes\":{\"callback\":null,\"data\":{\"x\":[2011,2012,2013,2014,2015,2016,2017],\"y\":[463.8851080458699,448.827847164424,434.57010999810467,422.4587882882479,406.7932602988281,392.5254468961425,380.5719673986561]},\"selected\":{\"id\":\"9308\",\"type\":\"Selection\"},\"selection_policy\":{\"id\":\"9309\",\"type\":\"UnionRenderers\"}},\"id\":\"9279\",\"type\":\"ColumnDataSource\"},{\"attributes\":{\"callback\":null},\"id\":\"9250\",\"type\":\"DataRange1d\"},{\"attributes\":{\"active_drag\":\"auto\",\"active_inspect\":\"auto\",\"active_multi\":null,\"active_scroll\":\"auto\",\"active_tap\":\"auto\",\"tools\":[{\"id\":\"9266\",\"type\":\"PanTool\"},{\"id\":\"9267\",\"type\":\"WheelZoomTool\"},{\"id\":\"9268\",\"type\":\"BoxZoomTool\"},{\"id\":\"9269\",\"type\":\"SaveTool\"},{\"id\":\"9270\",\"type\":\"ResetTool\"},{\"id\":\"9271\",\"type\":\"HelpTool\"},{\"id\":\"9318\",\"type\":\"HoverTool\"}]},\"id\":\"9272\",\"type\":\"Toolbar\"},{\"attributes\":{\"callback\":null,\"data\":{\"x\":[2011,2012,2013,2014,2015,2016,2017],\"y\":[149.40767248160338,144.52542353326865,140.43748309125624,137.01364916667524,133.55667780309082,129.90816344064564,127.82152219368794]},\"selected\":{\"id\":\"9682\",\"type\":\"Selection\"},\"selection_policy\":{\"id\":\"9683\",\"type\":\"UnionRenderers\"}},\"id\":\"9313\",\"type\":\"ColumnDataSource\"},{\"attributes\":{\"source\":{\"id\":\"9313\",\"type\":\"ColumnDataSource\"}},\"id\":\"9317\",\"type\":\"CDSView\"},{\"attributes\":{\"line_alpha\":0.1,\"line_color\":\"#1f77b4\",\"line_width\":2,\"x\":{\"field\":\"x\"},\"y\":{\"field\":\"y\"}},\"id\":\"9299\",\"type\":\"Line\"},{\"attributes\":{\"data_source\":{\"id\":\"9279\",\"type\":\"ColumnDataSource\"},\"glyph\":{\"id\":\"9280\",\"type\":\"Line\"},\"hover_glyph\":null,\"muted_glyph\":null,\"nonselection_glyph\":{\"id\":\"9281\",\"type\":\"Line\"},\"selection_glyph\":null,\"view\":{\"id\":\"9283\",\"type\":\"CDSView\"}},\"id\":\"9282\",\"type\":\"GlyphRenderer\"},{\"attributes\":{},\"id\":\"9311\",\"type\":\"UnionRenderers\"},{\"attributes\":{\"data_source\":{\"id\":\"9292\",\"type\":\"ColumnDataSource\"},\"glyph\":{\"id\":\"9293\",\"type\":\"Circle\"},\"hover_glyph\":null,\"muted_glyph\":null,\"nonselection_glyph\":{\"id\":\"9294\",\"type\":\"Circle\"},\"selection_glyph\":null,\"view\":{\"id\":\"9296\",\"type\":\"CDSView\"}},\"id\":\"9295\",\"type\":\"GlyphRenderer\"},{\"attributes\":{},\"id\":\"9252\",\"type\":\"LinearScale\"},{\"attributes\":{\"items\":[{\"id\":\"9291\",\"type\":\"LegendItem\"},{\"id\":\"9312\",\"type\":\"LegendItem\"}],\"location\":\"bottom_left\"},\"id\":\"9290\",\"type\":\"Legend\"},{\"attributes\":{\"overlay\":{\"id\":\"9289\",\"type\":\"BoxAnnotation\"}},\"id\":\"9268\",\"type\":\"BoxZoomTool\"},{\"attributes\":{},\"id\":\"9680\",\"type\":\"Selection\"},{\"attributes\":{\"label\":{\"value\":\"Developing excluding LDCs\"},\"renderers\":[{\"id\":\"9300\",\"type\":\"GlyphRenderer\"}]},\"id\":\"9312\",\"type\":\"LegendItem\"},{\"attributes\":{\"data_source\":{\"id\":\"9313\",\"type\":\"ColumnDataSource\"},\"glyph\":{\"id\":\"9314\",\"type\":\"Circle\"},\"hover_glyph\":null,\"muted_glyph\":null,\"nonselection_glyph\":{\"id\":\"9315\",\"type\":\"Circle\"},\"selection_glyph\":null,\"view\":{\"id\":\"9317\",\"type\":\"CDSView\"}},\"id\":\"9316\",\"type\":\"GlyphRenderer\"},{\"attributes\":{\"data_source\":{\"id\":\"9297\",\"type\":\"ColumnDataSource\"},\"glyph\":{\"id\":\"9298\",\"type\":\"Line\"},\"hover_glyph\":null,\"muted_glyph\":null,\"nonselection_glyph\":{\"id\":\"9299\",\"type\":\"Line\"},\"selection_glyph\":null,\"view\":{\"id\":\"9301\",\"type\":\"CDSView\"}},\"id\":\"9300\",\"type\":\"GlyphRenderer\"},{\"attributes\":{\"source\":{\"id\":\"9297\",\"type\":\"ColumnDataSource\"}},\"id\":\"9301\",\"type\":\"CDSView\"},{\"attributes\":{\"line_color\":\"red\",\"line_width\":2,\"x\":{\"field\":\"x\"},\"y\":{\"field\":\"y\"}},\"id\":\"9280\",\"type\":\"Line\"},{\"attributes\":{},\"id\":\"9269\",\"type\":\"SaveTool\"},{\"attributes\":{\"fill_alpha\":{\"value\":0.1},\"fill_color\":{\"value\":\"#1f77b4\"},\"line_alpha\":{\"value\":0.1},\"line_color\":{\"value\":\"#1f77b4\"},\"line_width\":{\"value\":3},\"x\":{\"field\":\"x\"},\"y\":{\"field\":\"y\"}},\"id\":\"9294\",\"type\":\"Circle\"},{\"attributes\":{},\"id\":\"9254\",\"type\":\"LinearScale\"},{\"attributes\":{\"source\":{\"id\":\"9279\",\"type\":\"ColumnDataSource\"}},\"id\":\"9283\",\"type\":\"CDSView\"},{\"attributes\":{},\"id\":\"9681\",\"type\":\"UnionRenderers\"},{\"attributes\":{},\"id\":\"9308\",\"type\":\"Selection\"},{\"attributes\":{\"fill_color\":{\"value\":\"red\"},\"line_color\":{\"value\":\"red\"},\"line_width\":{\"value\":3},\"x\":{\"field\":\"x\"},\"y\":{\"field\":\"y\"}},\"id\":\"9293\",\"type\":\"Circle\"},{\"attributes\":{},\"id\":\"9270\",\"type\":\"ResetTool\"},{\"attributes\":{\"axis_label\":\"Years\",\"formatter\":{\"id\":\"9287\",\"type\":\"BasicTickFormatter\"},\"ticker\":{\"id\":\"9257\",\"type\":\"BasicTicker\"}},\"id\":\"9256\",\"type\":\"LinearAxis\"},{\"attributes\":{\"source\":{\"id\":\"9292\",\"type\":\"ColumnDataSource\"}},\"id\":\"9296\",\"type\":\"CDSView\"},{\"attributes\":{\"axis_label\":\"Percentage\",\"formatter\":{\"id\":\"9285\",\"type\":\"BasicTickFormatter\"},\"ticker\":{\"id\":\"9262\",\"type\":\"BasicTicker\"}},\"id\":\"9261\",\"type\":\"LinearAxis\"},{\"attributes\":{\"fill_alpha\":{\"value\":0.1},\"fill_color\":{\"value\":\"#1f77b4\"},\"line_alpha\":{\"value\":0.1},\"line_color\":{\"value\":\"#1f77b4\"},\"line_width\":{\"value\":3},\"x\":{\"field\":\"x\"},\"y\":{\"field\":\"y\"}},\"id\":\"9315\",\"type\":\"Circle\"},{\"attributes\":{\"bottom_units\":\"screen\",\"fill_alpha\":{\"value\":0.5},\"fill_color\":{\"value\":\"lightgrey\"},\"left_units\":\"screen\",\"level\":\"overlay\",\"line_alpha\":{\"value\":1.0},\"line_color\":{\"value\":\"black\"},\"line_dash\":[4,4],\"line_width\":{\"value\":2},\"render_mode\":\"css\",\"right_units\":\"screen\",\"top_units\":\"screen\"},\"id\":\"9289\",\"type\":\"BoxAnnotation\"},{\"attributes\":{},\"id\":\"9683\",\"type\":\"UnionRenderers\"},{\"attributes\":{},\"id\":\"9266\",\"type\":\"PanTool\"},{\"attributes\":{\"callback\":null,\"tooltips\":\"\\n        <div style=padding=5px>Year:@x</div>\\n        <div style=padding=5px>Value:@y</div>\\n        \"},\"id\":\"9318\",\"type\":\"HoverTool\"},{\"attributes\":{},\"id\":\"9682\",\"type\":\"Selection\"},{\"attributes\":{},\"id\":\"9285\",\"type\":\"BasicTickFormatter\"},{\"attributes\":{},\"id\":\"9309\",\"type\":\"UnionRenderers\"},{\"attributes\":{\"dimension\":1,\"ticker\":{\"id\":\"9262\",\"type\":\"BasicTicker\"}},\"id\":\"9265\",\"type\":\"Grid\"},{\"attributes\":{\"text\":\"Maternal mortality ratio (modeled estimate, per 100,000 live births) weighted against Population, female\"},\"id\":\"9246\",\"type\":\"Title\"},{\"attributes\":{\"callback\":null,\"data\":{\"x\":[2011,2012,2013,2014,2015,2016,2017],\"y\":[149.40767248160338,144.52542353326865,140.43748309125624,137.01364916667524,133.55667780309082,129.90816344064564,127.82152219368794]},\"selected\":{\"id\":\"9680\",\"type\":\"Selection\"},\"selection_policy\":{\"id\":\"9681\",\"type\":\"UnionRenderers\"}},\"id\":\"9297\",\"type\":\"ColumnDataSource\"},{\"attributes\":{},\"id\":\"9267\",\"type\":\"WheelZoomTool\"},{\"attributes\":{},\"id\":\"9287\",\"type\":\"BasicTickFormatter\"},{\"attributes\":{\"callback\":null,\"data\":{\"x\":[2011,2012,2013,2014,2015,2016,2017],\"y\":[463.8851080458699,448.827847164424,434.57010999810467,422.4587882882479,406.7932602988281,392.5254468961425,380.5719673986561]},\"selected\":{\"id\":\"9310\",\"type\":\"Selection\"},\"selection_policy\":{\"id\":\"9311\",\"type\":\"UnionRenderers\"}},\"id\":\"9292\",\"type\":\"ColumnDataSource\"},{\"attributes\":{\"ticker\":{\"id\":\"9257\",\"type\":\"BasicTicker\"}},\"id\":\"9260\",\"type\":\"Grid\"},{\"attributes\":{\"fill_color\":{\"value\":\"blue\"},\"line_color\":{\"value\":\"blue\"},\"line_width\":{\"value\":3},\"x\":{\"field\":\"x\"},\"y\":{\"field\":\"y\"}},\"id\":\"9314\",\"type\":\"Circle\"}],\"root_ids\":[\"9245\"]},\"title\":\"Bokeh Application\",\"version\":\"1.3.4\"}};\n",
       "  var render_items = [{\"docid\":\"ab1b6d79-3f28-433d-a7a7-412837609cb8\",\"roots\":{\"9245\":\"6ed50593-4078-411e-b439-5b627ec7acb4\"}}];\n",
       "  root.Bokeh.embed.embed_items_notebook(docs_json, render_items);\n",
       "\n",
       "  }\n",
       "  if (root.Bokeh !== undefined) {\n",
       "    embed_document(root);\n",
       "  } else {\n",
       "    var attempts = 0;\n",
       "    var timer = setInterval(function(root) {\n",
       "      if (root.Bokeh !== undefined) {\n",
       "        embed_document(root);\n",
       "        clearInterval(timer);\n",
       "      }\n",
       "      attempts++;\n",
       "      if (attempts > 100) {\n",
       "        console.log(\"Bokeh: ERROR: Unable to run BokehJS code because BokehJS library is missing\");\n",
       "        clearInterval(timer);\n",
       "      }\n",
       "    }, 10, root)\n",
       "  }\n",
       "})(window);"
      ],
      "application/vnd.bokehjs_exec.v0+json": ""
     },
     "metadata": {
      "application/vnd.bokehjs_exec.v0+json": {
       "id": "9245"
      }
     },
     "output_type": "display_data"
    }
   ],
   "source": [
    "# Labor force\n",
    "years = list(range(2011,2018))\n",
    "show_weighted_average('SH.STA.MMRT', 'SP.POP.TOTL.FE.IN', ['LDCs', 'Developing excluding LDCs'])"
   ]
  },
  {
   "cell_type": "code",
   "execution_count": null,
   "metadata": {},
   "outputs": [],
   "source": []
  }
 ],
 "metadata": {
  "kernelspec": {
   "display_name": "Python 3",
   "language": "python",
   "name": "python3"
  },
  "language_info": {
   "codemirror_mode": {
    "name": "ipython",
    "version": 3
   },
   "file_extension": ".py",
   "mimetype": "text/x-python",
   "name": "python",
   "nbconvert_exporter": "python",
   "pygments_lexer": "ipython3",
   "version": "3.7.0"
  }
 },
 "nbformat": 4,
 "nbformat_minor": 2
}
