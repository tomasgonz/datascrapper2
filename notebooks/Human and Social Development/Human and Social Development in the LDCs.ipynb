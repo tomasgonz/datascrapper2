{
 "cells": [
  {
   "cell_type": "code",
   "execution_count": 1,
   "metadata": {},
   "outputs": [],
   "source": [
    "import sys\n",
    "sys.path.append(\"../../\")\n",
    "import json\n",
    "import urllib.request\n",
    "from IPython.display import clear_output\n",
    "import sources\n",
    "from countries.list import CountryList\n",
    "from data.Frame import Frame\n",
    "from data.Stats import calculate_weighted_average as wa\n",
    "c = CountryList()\n",
    "c.load_wb()\n",
    "from sources.worldbank.indicators import get_data_frame_wide as getdfw\n",
    "from sources.worldbank.datatable import get_data_table"
   ]
  },
  {
   "cell_type": "code",
   "execution_count": 2,
   "metadata": {},
   "outputs": [
    {
     "data": {
      "text/html": [
       "\n",
       "    <div class=\"bk-root\">\n",
       "        <a href=\"https://bokeh.pydata.org\" target=\"_blank\" class=\"bk-logo bk-logo-small bk-logo-notebook\"></a>\n",
       "        <span id=\"1001\">Loading BokehJS ...</span>\n",
       "    </div>"
      ]
     },
     "metadata": {},
     "output_type": "display_data"
    },
    {
     "data": {
      "application/javascript": [
       "\n",
       "(function(root) {\n",
       "  function now() {\n",
       "    return new Date();\n",
       "  }\n",
       "\n",
       "  var force = true;\n",
       "\n",
       "  if (typeof root._bokeh_onload_callbacks === \"undefined\" || force === true) {\n",
       "    root._bokeh_onload_callbacks = [];\n",
       "    root._bokeh_is_loading = undefined;\n",
       "  }\n",
       "\n",
       "  var JS_MIME_TYPE = 'application/javascript';\n",
       "  var HTML_MIME_TYPE = 'text/html';\n",
       "  var EXEC_MIME_TYPE = 'application/vnd.bokehjs_exec.v0+json';\n",
       "  var CLASS_NAME = 'output_bokeh rendered_html';\n",
       "\n",
       "  /**\n",
       "   * Render data to the DOM node\n",
       "   */\n",
       "  function render(props, node) {\n",
       "    var script = document.createElement(\"script\");\n",
       "    node.appendChild(script);\n",
       "  }\n",
       "\n",
       "  /**\n",
       "   * Handle when an output is cleared or removed\n",
       "   */\n",
       "  function handleClearOutput(event, handle) {\n",
       "    var cell = handle.cell;\n",
       "\n",
       "    var id = cell.output_area._bokeh_element_id;\n",
       "    var server_id = cell.output_area._bokeh_server_id;\n",
       "    // Clean up Bokeh references\n",
       "    if (id != null && id in Bokeh.index) {\n",
       "      Bokeh.index[id].model.document.clear();\n",
       "      delete Bokeh.index[id];\n",
       "    }\n",
       "\n",
       "    if (server_id !== undefined) {\n",
       "      // Clean up Bokeh references\n",
       "      var cmd = \"from bokeh.io.state import curstate; print(curstate().uuid_to_server['\" + server_id + \"'].get_sessions()[0].document.roots[0]._id)\";\n",
       "      cell.notebook.kernel.execute(cmd, {\n",
       "        iopub: {\n",
       "          output: function(msg) {\n",
       "            var id = msg.content.text.trim();\n",
       "            if (id in Bokeh.index) {\n",
       "              Bokeh.index[id].model.document.clear();\n",
       "              delete Bokeh.index[id];\n",
       "            }\n",
       "          }\n",
       "        }\n",
       "      });\n",
       "      // Destroy server and session\n",
       "      var cmd = \"import bokeh.io.notebook as ion; ion.destroy_server('\" + server_id + \"')\";\n",
       "      cell.notebook.kernel.execute(cmd);\n",
       "    }\n",
       "  }\n",
       "\n",
       "  /**\n",
       "   * Handle when a new output is added\n",
       "   */\n",
       "  function handleAddOutput(event, handle) {\n",
       "    var output_area = handle.output_area;\n",
       "    var output = handle.output;\n",
       "\n",
       "    // limit handleAddOutput to display_data with EXEC_MIME_TYPE content only\n",
       "    if ((output.output_type != \"display_data\") || (!output.data.hasOwnProperty(EXEC_MIME_TYPE))) {\n",
       "      return\n",
       "    }\n",
       "\n",
       "    var toinsert = output_area.element.find(\".\" + CLASS_NAME.split(' ')[0]);\n",
       "\n",
       "    if (output.metadata[EXEC_MIME_TYPE][\"id\"] !== undefined) {\n",
       "      toinsert[toinsert.length - 1].firstChild.textContent = output.data[JS_MIME_TYPE];\n",
       "      // store reference to embed id on output_area\n",
       "      output_area._bokeh_element_id = output.metadata[EXEC_MIME_TYPE][\"id\"];\n",
       "    }\n",
       "    if (output.metadata[EXEC_MIME_TYPE][\"server_id\"] !== undefined) {\n",
       "      var bk_div = document.createElement(\"div\");\n",
       "      bk_div.innerHTML = output.data[HTML_MIME_TYPE];\n",
       "      var script_attrs = bk_div.children[0].attributes;\n",
       "      for (var i = 0; i < script_attrs.length; i++) {\n",
       "        toinsert[toinsert.length - 1].firstChild.setAttribute(script_attrs[i].name, script_attrs[i].value);\n",
       "      }\n",
       "      // store reference to server id on output_area\n",
       "      output_area._bokeh_server_id = output.metadata[EXEC_MIME_TYPE][\"server_id\"];\n",
       "    }\n",
       "  }\n",
       "\n",
       "  function register_renderer(events, OutputArea) {\n",
       "\n",
       "    function append_mime(data, metadata, element) {\n",
       "      // create a DOM node to render to\n",
       "      var toinsert = this.create_output_subarea(\n",
       "        metadata,\n",
       "        CLASS_NAME,\n",
       "        EXEC_MIME_TYPE\n",
       "      );\n",
       "      this.keyboard_manager.register_events(toinsert);\n",
       "      // Render to node\n",
       "      var props = {data: data, metadata: metadata[EXEC_MIME_TYPE]};\n",
       "      render(props, toinsert[toinsert.length - 1]);\n",
       "      element.append(toinsert);\n",
       "      return toinsert\n",
       "    }\n",
       "\n",
       "    /* Handle when an output is cleared or removed */\n",
       "    events.on('clear_output.CodeCell', handleClearOutput);\n",
       "    events.on('delete.Cell', handleClearOutput);\n",
       "\n",
       "    /* Handle when a new output is added */\n",
       "    events.on('output_added.OutputArea', handleAddOutput);\n",
       "\n",
       "    /**\n",
       "     * Register the mime type and append_mime function with output_area\n",
       "     */\n",
       "    OutputArea.prototype.register_mime_type(EXEC_MIME_TYPE, append_mime, {\n",
       "      /* Is output safe? */\n",
       "      safe: true,\n",
       "      /* Index of renderer in `output_area.display_order` */\n",
       "      index: 0\n",
       "    });\n",
       "  }\n",
       "\n",
       "  // register the mime type if in Jupyter Notebook environment and previously unregistered\n",
       "  if (root.Jupyter !== undefined) {\n",
       "    var events = require('base/js/events');\n",
       "    var OutputArea = require('notebook/js/outputarea').OutputArea;\n",
       "\n",
       "    if (OutputArea.prototype.mime_types().indexOf(EXEC_MIME_TYPE) == -1) {\n",
       "      register_renderer(events, OutputArea);\n",
       "    }\n",
       "  }\n",
       "\n",
       "  \n",
       "  if (typeof (root._bokeh_timeout) === \"undefined\" || force === true) {\n",
       "    root._bokeh_timeout = Date.now() + 5000;\n",
       "    root._bokeh_failed_load = false;\n",
       "  }\n",
       "\n",
       "  var NB_LOAD_WARNING = {'data': {'text/html':\n",
       "     \"<div style='background-color: #fdd'>\\n\"+\n",
       "     \"<p>\\n\"+\n",
       "     \"BokehJS does not appear to have successfully loaded. If loading BokehJS from CDN, this \\n\"+\n",
       "     \"may be due to a slow or bad network connection. Possible fixes:\\n\"+\n",
       "     \"</p>\\n\"+\n",
       "     \"<ul>\\n\"+\n",
       "     \"<li>re-rerun `output_notebook()` to attempt to load from CDN again, or</li>\\n\"+\n",
       "     \"<li>use INLINE resources instead, as so:</li>\\n\"+\n",
       "     \"</ul>\\n\"+\n",
       "     \"<code>\\n\"+\n",
       "     \"from bokeh.resources import INLINE\\n\"+\n",
       "     \"output_notebook(resources=INLINE)\\n\"+\n",
       "     \"</code>\\n\"+\n",
       "     \"</div>\"}};\n",
       "\n",
       "  function display_loaded() {\n",
       "    var el = document.getElementById(\"1001\");\n",
       "    if (el != null) {\n",
       "      el.textContent = \"BokehJS is loading...\";\n",
       "    }\n",
       "    if (root.Bokeh !== undefined) {\n",
       "      if (el != null) {\n",
       "        el.textContent = \"BokehJS \" + root.Bokeh.version + \" successfully loaded.\";\n",
       "      }\n",
       "    } else if (Date.now() < root._bokeh_timeout) {\n",
       "      setTimeout(display_loaded, 100)\n",
       "    }\n",
       "  }\n",
       "\n",
       "\n",
       "  function run_callbacks() {\n",
       "    try {\n",
       "      root._bokeh_onload_callbacks.forEach(function(callback) {\n",
       "        if (callback != null)\n",
       "          callback();\n",
       "      });\n",
       "    } finally {\n",
       "      delete root._bokeh_onload_callbacks\n",
       "    }\n",
       "    console.debug(\"Bokeh: all callbacks have finished\");\n",
       "  }\n",
       "\n",
       "  function load_libs(css_urls, js_urls, callback) {\n",
       "    if (css_urls == null) css_urls = [];\n",
       "    if (js_urls == null) js_urls = [];\n",
       "\n",
       "    root._bokeh_onload_callbacks.push(callback);\n",
       "    if (root._bokeh_is_loading > 0) {\n",
       "      console.debug(\"Bokeh: BokehJS is being loaded, scheduling callback at\", now());\n",
       "      return null;\n",
       "    }\n",
       "    if (js_urls == null || js_urls.length === 0) {\n",
       "      run_callbacks();\n",
       "      return null;\n",
       "    }\n",
       "    console.debug(\"Bokeh: BokehJS not loaded, scheduling load and callback at\", now());\n",
       "    root._bokeh_is_loading = css_urls.length + js_urls.length;\n",
       "\n",
       "    function on_load() {\n",
       "      root._bokeh_is_loading--;\n",
       "      if (root._bokeh_is_loading === 0) {\n",
       "        console.debug(\"Bokeh: all BokehJS libraries/stylesheets loaded\");\n",
       "        run_callbacks()\n",
       "      }\n",
       "    }\n",
       "\n",
       "    function on_error() {\n",
       "      console.error(\"failed to load \" + url);\n",
       "    }\n",
       "\n",
       "    for (var i = 0; i < css_urls.length; i++) {\n",
       "      var url = css_urls[i];\n",
       "      const element = document.createElement(\"link\");\n",
       "      element.onload = on_load;\n",
       "      element.onerror = on_error;\n",
       "      element.rel = \"stylesheet\";\n",
       "      element.type = \"text/css\";\n",
       "      element.href = url;\n",
       "      console.debug(\"Bokeh: injecting link tag for BokehJS stylesheet: \", url);\n",
       "      document.body.appendChild(element);\n",
       "    }\n",
       "\n",
       "    for (var i = 0; i < js_urls.length; i++) {\n",
       "      var url = js_urls[i];\n",
       "      var element = document.createElement('script');\n",
       "      element.onload = on_load;\n",
       "      element.onerror = on_error;\n",
       "      element.async = false;\n",
       "      element.src = url;\n",
       "      console.debug(\"Bokeh: injecting script tag for BokehJS library: \", url);\n",
       "      document.head.appendChild(element);\n",
       "    }\n",
       "  };var element = document.getElementById(\"1001\");\n",
       "  if (element == null) {\n",
       "    console.error(\"Bokeh: ERROR: autoload.js configured with elementid '1001' but no matching script tag was found. \")\n",
       "    return false;\n",
       "  }\n",
       "\n",
       "  function inject_raw_css(css) {\n",
       "    const element = document.createElement(\"style\");\n",
       "    element.appendChild(document.createTextNode(css));\n",
       "    document.body.appendChild(element);\n",
       "  }\n",
       "\n",
       "  var js_urls = [\"https://cdn.pydata.org/bokeh/release/bokeh-1.3.4.min.js\", \"https://cdn.pydata.org/bokeh/release/bokeh-widgets-1.3.4.min.js\", \"https://cdn.pydata.org/bokeh/release/bokeh-tables-1.3.4.min.js\", \"https://cdn.pydata.org/bokeh/release/bokeh-gl-1.3.4.min.js\"];\n",
       "  var css_urls = [];\n",
       "\n",
       "  var inline_js = [\n",
       "    function(Bokeh) {\n",
       "      Bokeh.set_log_level(\"info\");\n",
       "    },\n",
       "    \n",
       "    function(Bokeh) {\n",
       "      \n",
       "    },\n",
       "    function(Bokeh) {} // ensure no trailing comma for IE\n",
       "  ];\n",
       "\n",
       "  function run_inline_js() {\n",
       "    \n",
       "    if ((root.Bokeh !== undefined) || (force === true)) {\n",
       "      for (var i = 0; i < inline_js.length; i++) {\n",
       "        inline_js[i].call(root, root.Bokeh);\n",
       "      }if (force === true) {\n",
       "        display_loaded();\n",
       "      }} else if (Date.now() < root._bokeh_timeout) {\n",
       "      setTimeout(run_inline_js, 100);\n",
       "    } else if (!root._bokeh_failed_load) {\n",
       "      console.log(\"Bokeh: BokehJS failed to load within specified timeout.\");\n",
       "      root._bokeh_failed_load = true;\n",
       "    } else if (force !== true) {\n",
       "      var cell = $(document.getElementById(\"1001\")).parents('.cell').data().cell;\n",
       "      cell.output_area.append_execute_result(NB_LOAD_WARNING)\n",
       "    }\n",
       "\n",
       "  }\n",
       "\n",
       "  if (root._bokeh_is_loading === 0) {\n",
       "    console.debug(\"Bokeh: BokehJS loaded, going straight to plotting\");\n",
       "    run_inline_js();\n",
       "  } else {\n",
       "    load_libs(css_urls, js_urls, function() {\n",
       "      console.debug(\"Bokeh: BokehJS plotting callback run at\", now());\n",
       "      run_inline_js();\n",
       "    });\n",
       "  }\n",
       "}(window));"
      ],
      "application/vnd.bokehjs_load.v0+json": "\n(function(root) {\n  function now() {\n    return new Date();\n  }\n\n  var force = true;\n\n  if (typeof root._bokeh_onload_callbacks === \"undefined\" || force === true) {\n    root._bokeh_onload_callbacks = [];\n    root._bokeh_is_loading = undefined;\n  }\n\n  \n\n  \n  if (typeof (root._bokeh_timeout) === \"undefined\" || force === true) {\n    root._bokeh_timeout = Date.now() + 5000;\n    root._bokeh_failed_load = false;\n  }\n\n  var NB_LOAD_WARNING = {'data': {'text/html':\n     \"<div style='background-color: #fdd'>\\n\"+\n     \"<p>\\n\"+\n     \"BokehJS does not appear to have successfully loaded. If loading BokehJS from CDN, this \\n\"+\n     \"may be due to a slow or bad network connection. Possible fixes:\\n\"+\n     \"</p>\\n\"+\n     \"<ul>\\n\"+\n     \"<li>re-rerun `output_notebook()` to attempt to load from CDN again, or</li>\\n\"+\n     \"<li>use INLINE resources instead, as so:</li>\\n\"+\n     \"</ul>\\n\"+\n     \"<code>\\n\"+\n     \"from bokeh.resources import INLINE\\n\"+\n     \"output_notebook(resources=INLINE)\\n\"+\n     \"</code>\\n\"+\n     \"</div>\"}};\n\n  function display_loaded() {\n    var el = document.getElementById(\"1001\");\n    if (el != null) {\n      el.textContent = \"BokehJS is loading...\";\n    }\n    if (root.Bokeh !== undefined) {\n      if (el != null) {\n        el.textContent = \"BokehJS \" + root.Bokeh.version + \" successfully loaded.\";\n      }\n    } else if (Date.now() < root._bokeh_timeout) {\n      setTimeout(display_loaded, 100)\n    }\n  }\n\n\n  function run_callbacks() {\n    try {\n      root._bokeh_onload_callbacks.forEach(function(callback) {\n        if (callback != null)\n          callback();\n      });\n    } finally {\n      delete root._bokeh_onload_callbacks\n    }\n    console.debug(\"Bokeh: all callbacks have finished\");\n  }\n\n  function load_libs(css_urls, js_urls, callback) {\n    if (css_urls == null) css_urls = [];\n    if (js_urls == null) js_urls = [];\n\n    root._bokeh_onload_callbacks.push(callback);\n    if (root._bokeh_is_loading > 0) {\n      console.debug(\"Bokeh: BokehJS is being loaded, scheduling callback at\", now());\n      return null;\n    }\n    if (js_urls == null || js_urls.length === 0) {\n      run_callbacks();\n      return null;\n    }\n    console.debug(\"Bokeh: BokehJS not loaded, scheduling load and callback at\", now());\n    root._bokeh_is_loading = css_urls.length + js_urls.length;\n\n    function on_load() {\n      root._bokeh_is_loading--;\n      if (root._bokeh_is_loading === 0) {\n        console.debug(\"Bokeh: all BokehJS libraries/stylesheets loaded\");\n        run_callbacks()\n      }\n    }\n\n    function on_error() {\n      console.error(\"failed to load \" + url);\n    }\n\n    for (var i = 0; i < css_urls.length; i++) {\n      var url = css_urls[i];\n      const element = document.createElement(\"link\");\n      element.onload = on_load;\n      element.onerror = on_error;\n      element.rel = \"stylesheet\";\n      element.type = \"text/css\";\n      element.href = url;\n      console.debug(\"Bokeh: injecting link tag for BokehJS stylesheet: \", url);\n      document.body.appendChild(element);\n    }\n\n    for (var i = 0; i < js_urls.length; i++) {\n      var url = js_urls[i];\n      var element = document.createElement('script');\n      element.onload = on_load;\n      element.onerror = on_error;\n      element.async = false;\n      element.src = url;\n      console.debug(\"Bokeh: injecting script tag for BokehJS library: \", url);\n      document.head.appendChild(element);\n    }\n  };var element = document.getElementById(\"1001\");\n  if (element == null) {\n    console.error(\"Bokeh: ERROR: autoload.js configured with elementid '1001' but no matching script tag was found. \")\n    return false;\n  }\n\n  function inject_raw_css(css) {\n    const element = document.createElement(\"style\");\n    element.appendChild(document.createTextNode(css));\n    document.body.appendChild(element);\n  }\n\n  var js_urls = [\"https://cdn.pydata.org/bokeh/release/bokeh-1.3.4.min.js\", \"https://cdn.pydata.org/bokeh/release/bokeh-widgets-1.3.4.min.js\", \"https://cdn.pydata.org/bokeh/release/bokeh-tables-1.3.4.min.js\", \"https://cdn.pydata.org/bokeh/release/bokeh-gl-1.3.4.min.js\"];\n  var css_urls = [];\n\n  var inline_js = [\n    function(Bokeh) {\n      Bokeh.set_log_level(\"info\");\n    },\n    \n    function(Bokeh) {\n      \n    },\n    function(Bokeh) {} // ensure no trailing comma for IE\n  ];\n\n  function run_inline_js() {\n    \n    if ((root.Bokeh !== undefined) || (force === true)) {\n      for (var i = 0; i < inline_js.length; i++) {\n        inline_js[i].call(root, root.Bokeh);\n      }if (force === true) {\n        display_loaded();\n      }} else if (Date.now() < root._bokeh_timeout) {\n      setTimeout(run_inline_js, 100);\n    } else if (!root._bokeh_failed_load) {\n      console.log(\"Bokeh: BokehJS failed to load within specified timeout.\");\n      root._bokeh_failed_load = true;\n    } else if (force !== true) {\n      var cell = $(document.getElementById(\"1001\")).parents('.cell').data().cell;\n      cell.output_area.append_execute_result(NB_LOAD_WARNING)\n    }\n\n  }\n\n  if (root._bokeh_is_loading === 0) {\n    console.debug(\"Bokeh: BokehJS loaded, going straight to plotting\");\n    run_inline_js();\n  } else {\n    load_libs(css_urls, js_urls, function() {\n      console.debug(\"Bokeh: BokehJS plotting callback run at\", now());\n      run_inline_js();\n    });\n  }\n}(window));"
     },
     "metadata": {},
     "output_type": "display_data"
    }
   ],
   "source": [
    "import bokeh\n",
    "from bokeh.io import output_notebook\n",
    "from bokeh.models import HoverTool\n",
    "from bokeh.plotting import figure, output_file, show\n",
    "output_notebook()"
   ]
  },
  {
   "cell_type": "code",
   "execution_count": 3,
   "metadata": {},
   "outputs": [],
   "source": [
    "def estimate(years,indicator, groups, weight = None):\n",
    "    data_df = get_data_table(years, indicator, groups, export_to_excel=False)    \n",
    "    \n",
    "    if weight is None:\n",
    "        return (data_df)    \n",
    "    \n",
    "    weight_df = get_data_table(years, weight, groups, export_to_excel=False)\n",
    "    df_ldcs_w = wa(data_df, weight_df, 'entity' )\n",
    "    \n",
    "    return (df_ldcs_w)"
   ]
  },
  {
   "cell_type": "code",
   "execution_count": 4,
   "metadata": {},
   "outputs": [],
   "source": [
    "def line_chart(series, title):\n",
    "    output_file(\"data.html\")\n",
    "    # create a new plot with a title and axis labels\n",
    "    p = figure(title=title, x_axis_label='Years', y_axis_label='Percentage', height = 400, width = 900)    \n",
    "    colors = ['red', 'blue', 'green', 'orange']\n",
    "    j = 0\n",
    "    for data in series:                \n",
    "        # output to static HTML file\n",
    "        # add a line renderer with legend and line thickness\n",
    "        x = data[0]\n",
    "        y = data[1]\n",
    "        group = data[2]\n",
    "        p.line(x, y, legend=group, line_width=2, color = colors[j])\n",
    "        p.circle(x, y, color=colors[j], fill_color=colors[j], line_width=3)\n",
    "        j = j + 1\n",
    "    \n",
    "    hover = HoverTool()\n",
    "    hover.tooltips = \"\"\"\n",
    "        <div style=padding=5px>Year:@x</div>\n",
    "        <div style=padding=5px>Value:@y</div>\n",
    "        \"\"\"\n",
    "    p.add_tools(hover)\n",
    "    \n",
    "    return p"
   ]
  },
  {
   "cell_type": "code",
   "execution_count": 5,
   "metadata": {},
   "outputs": [],
   "source": [
    "def show_weighted_average(indicator, weight, groups):\n",
    "    datasets = []\n",
    "    for group in groups:\n",
    "        data_group = estimate(years, indicator, [[group]], weight)\n",
    "        x = years\n",
    "        y = []\n",
    "        for i in range(3,len(data_group.get_last_row().get_array()), 3):\n",
    "            y.append(data_group.get_last_row()[i].get_value())\n",
    "        data_group.entities_description = group\n",
    "        datasets.append([x,y, group, data_group.description])\n",
    "    series = datasets\n",
    "    show(line_chart(series, series[0][3]))"
   ]
  },
  {
   "cell_type": "code",
   "execution_count": 30,
   "metadata": {},
   "outputs": [],
   "source": [
    "def show_group_total(indicator, groups):\n",
    "    datasets = []\n",
    "    for group in groups:\n",
    "        data_group = get_data_table(years, indicator, [[group]])\n",
    "        x = years\n",
    "        y = []\n",
    "        for i in range(1,len(data_group.get_total_by_column())):\n",
    "            y.append(data_group.get_total_by_column()[i])\n",
    "        data_group.entities_description = group\n",
    "        datasets.append([x,y, group, data_group.description])\n",
    "    series = datasets\n",
    "    show(line_chart(series, series[0][3]))        "
   ]
  },
  {
   "cell_type": "code",
   "execution_count": 17,
   "metadata": {},
   "outputs": [],
   "source": [
    "years = list(range(2001,2018))\n",
    "groups_ldcs=[['LDCs']]\n",
    "groups_odcs =[['Developing excluding LDCs']]\n",
    "groups_sids = [['SIDS']]\n",
    "groups_lldcs = [['LLDCs']]\n",
    "groups_oecd = [['OECD']]\n",
    "groups_mics = [['MICs']]"
   ]
  },
  {
   "cell_type": "code",
   "execution_count": 18,
   "metadata": {},
   "outputs": [
    {
     "name": "stderr",
     "output_type": "stream",
     "text": [
      "INFO:bokeh.io.state:Session output file 'data.html' already exists, will be overwritten.\n"
     ]
    },
    {
     "data": {
      "text/html": [
       "\n",
       "\n",
       "\n",
       "\n",
       "\n",
       "\n",
       "  <div class=\"bk-root\" id=\"724a963b-702a-40b5-8324-609522bb2e42\" data-root-id=\"3076\"></div>\n"
      ]
     },
     "metadata": {},
     "output_type": "display_data"
    },
    {
     "data": {
      "application/javascript": [
       "(function(root) {\n",
       "  function embed_document(root) {\n",
       "    \n",
       "  var docs_json = {\"8ffcbcf6-216f-45a0-a2d4-1a0ceee38164\":{\"roots\":{\"references\":[{\"attributes\":{\"below\":[{\"id\":\"3087\",\"type\":\"LinearAxis\"}],\"center\":[{\"id\":\"3091\",\"type\":\"Grid\"},{\"id\":\"3096\",\"type\":\"Grid\"},{\"id\":\"3121\",\"type\":\"Legend\"}],\"left\":[{\"id\":\"3092\",\"type\":\"LinearAxis\"}],\"plot_height\":400,\"plot_width\":900,\"renderers\":[{\"id\":\"3113\",\"type\":\"GlyphRenderer\"},{\"id\":\"3126\",\"type\":\"GlyphRenderer\"},{\"id\":\"3131\",\"type\":\"GlyphRenderer\"},{\"id\":\"3147\",\"type\":\"GlyphRenderer\"}],\"title\":{\"id\":\"3077\",\"type\":\"Title\"},\"toolbar\":{\"id\":\"3103\",\"type\":\"Toolbar\"},\"x_range\":{\"id\":\"3079\",\"type\":\"DataRange1d\"},\"x_scale\":{\"id\":\"3083\",\"type\":\"LinearScale\"},\"y_range\":{\"id\":\"3081\",\"type\":\"DataRange1d\"},\"y_scale\":{\"id\":\"3085\",\"type\":\"LinearScale\"}},\"id\":\"3076\",\"subtype\":\"Figure\",\"type\":\"Plot\"},{\"attributes\":{\"data_source\":{\"id\":\"3123\",\"type\":\"ColumnDataSource\"},\"glyph\":{\"id\":\"3124\",\"type\":\"Circle\"},\"hover_glyph\":null,\"muted_glyph\":null,\"nonselection_glyph\":{\"id\":\"3125\",\"type\":\"Circle\"},\"selection_glyph\":null,\"view\":{\"id\":\"3127\",\"type\":\"CDSView\"}},\"id\":\"3126\",\"type\":\"GlyphRenderer\"},{\"attributes\":{},\"id\":\"3098\",\"type\":\"WheelZoomTool\"},{\"attributes\":{\"source\":{\"id\":\"3123\",\"type\":\"ColumnDataSource\"}},\"id\":\"3127\",\"type\":\"CDSView\"},{\"attributes\":{},\"id\":\"3245\",\"type\":\"UnionRenderers\"},{\"attributes\":{\"overlay\":{\"id\":\"3120\",\"type\":\"BoxAnnotation\"}},\"id\":\"3099\",\"type\":\"BoxZoomTool\"},{\"attributes\":{\"callback\":null,\"data\":{\"x\":[2001,2002,2003,2004,2005,2006,2007,2008,2009,2010,2011,2012,2013,2014,2015,2016,2017],\"y\":[9.69659672765819,10.102857922462947,10.00359454543284,9.669310315199926,8.93589621374002,8.500540362290534,8.539393929590878,8.508898336531667,8.76822430849191,8.578041999413033,8.442632594164886,8.280803801688915,8.268547280285574,8.244332340757541,8.338024471321303,8.332428699040605,7.94451901249688]},\"selected\":{\"id\":\"3246\",\"type\":\"Selection\"},\"selection_policy\":{\"id\":\"3245\",\"type\":\"UnionRenderers\"}},\"id\":\"3128\",\"type\":\"ColumnDataSource\"},{\"attributes\":{},\"id\":\"3246\",\"type\":\"Selection\"},{\"attributes\":{},\"id\":\"3100\",\"type\":\"SaveTool\"},{\"attributes\":{\"line_color\":\"blue\",\"line_width\":2,\"x\":{\"field\":\"x\"},\"y\":{\"field\":\"y\"}},\"id\":\"3129\",\"type\":\"Line\"},{\"attributes\":{},\"id\":\"3247\",\"type\":\"UnionRenderers\"},{\"attributes\":{\"text\":\"Agriculture, forestry, and fishing, value added (% of GDP) weighted against GDP (current US$)\"},\"id\":\"3077\",\"type\":\"Title\"},{\"attributes\":{},\"id\":\"3101\",\"type\":\"ResetTool\"},{\"attributes\":{\"line_alpha\":0.1,\"line_color\":\"#1f77b4\",\"line_width\":2,\"x\":{\"field\":\"x\"},\"y\":{\"field\":\"y\"}},\"id\":\"3130\",\"type\":\"Line\"},{\"attributes\":{},\"id\":\"3248\",\"type\":\"Selection\"},{\"attributes\":{},\"id\":\"3102\",\"type\":\"HelpTool\"},{\"attributes\":{\"data_source\":{\"id\":\"3128\",\"type\":\"ColumnDataSource\"},\"glyph\":{\"id\":\"3129\",\"type\":\"Line\"},\"hover_glyph\":null,\"muted_glyph\":null,\"nonselection_glyph\":{\"id\":\"3130\",\"type\":\"Line\"},\"selection_glyph\":null,\"view\":{\"id\":\"3132\",\"type\":\"CDSView\"}},\"id\":\"3131\",\"type\":\"GlyphRenderer\"},{\"attributes\":{\"callback\":null},\"id\":\"3079\",\"type\":\"DataRange1d\"},{\"attributes\":{\"active_drag\":\"auto\",\"active_inspect\":\"auto\",\"active_multi\":null,\"active_scroll\":\"auto\",\"active_tap\":\"auto\",\"tools\":[{\"id\":\"3097\",\"type\":\"PanTool\"},{\"id\":\"3098\",\"type\":\"WheelZoomTool\"},{\"id\":\"3099\",\"type\":\"BoxZoomTool\"},{\"id\":\"3100\",\"type\":\"SaveTool\"},{\"id\":\"3101\",\"type\":\"ResetTool\"},{\"id\":\"3102\",\"type\":\"HelpTool\"},{\"id\":\"3149\",\"type\":\"HoverTool\"}]},\"id\":\"3103\",\"type\":\"Toolbar\"},{\"attributes\":{\"callback\":null},\"id\":\"3081\",\"type\":\"DataRange1d\"},{\"attributes\":{\"source\":{\"id\":\"3128\",\"type\":\"ColumnDataSource\"}},\"id\":\"3132\",\"type\":\"CDSView\"},{\"attributes\":{\"line_alpha\":0.1,\"line_color\":\"#1f77b4\",\"line_width\":2,\"x\":{\"field\":\"x\"},\"y\":{\"field\":\"y\"}},\"id\":\"3112\",\"type\":\"Line\"},{\"attributes\":{},\"id\":\"3083\",\"type\":\"LinearScale\"},{\"attributes\":{},\"id\":\"3139\",\"type\":\"UnionRenderers\"},{\"attributes\":{\"data_source\":{\"id\":\"3110\",\"type\":\"ColumnDataSource\"},\"glyph\":{\"id\":\"3111\",\"type\":\"Line\"},\"hover_glyph\":null,\"muted_glyph\":null,\"nonselection_glyph\":{\"id\":\"3112\",\"type\":\"Line\"},\"selection_glyph\":null,\"view\":{\"id\":\"3114\",\"type\":\"CDSView\"}},\"id\":\"3113\",\"type\":\"GlyphRenderer\"},{\"attributes\":{},\"id\":\"3085\",\"type\":\"LinearScale\"},{\"attributes\":{},\"id\":\"3140\",\"type\":\"Selection\"},{\"attributes\":{\"source\":{\"id\":\"3110\",\"type\":\"ColumnDataSource\"}},\"id\":\"3114\",\"type\":\"CDSView\"},{\"attributes\":{\"axis_label\":\"Years\",\"formatter\":{\"id\":\"3119\",\"type\":\"BasicTickFormatter\"},\"ticker\":{\"id\":\"3088\",\"type\":\"BasicTicker\"}},\"id\":\"3087\",\"type\":\"LinearAxis\"},{\"attributes\":{},\"id\":\"3141\",\"type\":\"UnionRenderers\"},{\"attributes\":{},\"id\":\"3088\",\"type\":\"BasicTicker\"},{\"attributes\":{},\"id\":\"3142\",\"type\":\"Selection\"},{\"attributes\":{},\"id\":\"3117\",\"type\":\"BasicTickFormatter\"},{\"attributes\":{\"ticker\":{\"id\":\"3088\",\"type\":\"BasicTicker\"}},\"id\":\"3091\",\"type\":\"Grid\"},{\"attributes\":{\"label\":{\"value\":\"Developing excluding LDCs\"},\"renderers\":[{\"id\":\"3131\",\"type\":\"GlyphRenderer\"}]},\"id\":\"3143\",\"type\":\"LegendItem\"},{\"attributes\":{},\"id\":\"3119\",\"type\":\"BasicTickFormatter\"},{\"attributes\":{\"axis_label\":\"Percentage\",\"formatter\":{\"id\":\"3117\",\"type\":\"BasicTickFormatter\"},\"ticker\":{\"id\":\"3093\",\"type\":\"BasicTicker\"}},\"id\":\"3092\",\"type\":\"LinearAxis\"},{\"attributes\":{\"callback\":null,\"data\":{\"x\":[2001,2002,2003,2004,2005,2006,2007,2008,2009,2010,2011,2012,2013,2014,2015,2016,2017],\"y\":[9.69659672765819,10.102857922462947,10.00359454543284,9.669310315199926,8.93589621374002,8.500540362290534,8.539393929590878,8.508898336531667,8.76822430849191,8.578041999413033,8.442632594164886,8.280803801688915,8.268547280285574,8.244332340757541,8.338024471321303,8.332428699040605,7.94451901249688]},\"selected\":{\"id\":\"3248\",\"type\":\"Selection\"},\"selection_policy\":{\"id\":\"3247\",\"type\":\"UnionRenderers\"}},\"id\":\"3144\",\"type\":\"ColumnDataSource\"},{\"attributes\":{\"bottom_units\":\"screen\",\"fill_alpha\":{\"value\":0.5},\"fill_color\":{\"value\":\"lightgrey\"},\"left_units\":\"screen\",\"level\":\"overlay\",\"line_alpha\":{\"value\":1.0},\"line_color\":{\"value\":\"black\"},\"line_dash\":[4,4],\"line_width\":{\"value\":2},\"render_mode\":\"css\",\"right_units\":\"screen\",\"top_units\":\"screen\"},\"id\":\"3120\",\"type\":\"BoxAnnotation\"},{\"attributes\":{},\"id\":\"3093\",\"type\":\"BasicTicker\"},{\"attributes\":{\"fill_color\":{\"value\":\"blue\"},\"line_color\":{\"value\":\"blue\"},\"line_width\":{\"value\":3},\"x\":{\"field\":\"x\"},\"y\":{\"field\":\"y\"}},\"id\":\"3145\",\"type\":\"Circle\"},{\"attributes\":{\"items\":[{\"id\":\"3122\",\"type\":\"LegendItem\"},{\"id\":\"3143\",\"type\":\"LegendItem\"}]},\"id\":\"3121\",\"type\":\"Legend\"},{\"attributes\":{\"dimension\":1,\"ticker\":{\"id\":\"3093\",\"type\":\"BasicTicker\"}},\"id\":\"3096\",\"type\":\"Grid\"},{\"attributes\":{\"fill_alpha\":{\"value\":0.1},\"fill_color\":{\"value\":\"#1f77b4\"},\"line_alpha\":{\"value\":0.1},\"line_color\":{\"value\":\"#1f77b4\"},\"line_width\":{\"value\":3},\"x\":{\"field\":\"x\"},\"y\":{\"field\":\"y\"}},\"id\":\"3146\",\"type\":\"Circle\"},{\"attributes\":{\"label\":{\"value\":\"LDCs\"},\"renderers\":[{\"id\":\"3113\",\"type\":\"GlyphRenderer\"}]},\"id\":\"3122\",\"type\":\"LegendItem\"},{\"attributes\":{\"data_source\":{\"id\":\"3144\",\"type\":\"ColumnDataSource\"},\"glyph\":{\"id\":\"3145\",\"type\":\"Circle\"},\"hover_glyph\":null,\"muted_glyph\":null,\"nonselection_glyph\":{\"id\":\"3146\",\"type\":\"Circle\"},\"selection_glyph\":null,\"view\":{\"id\":\"3148\",\"type\":\"CDSView\"}},\"id\":\"3147\",\"type\":\"GlyphRenderer\"},{\"attributes\":{\"line_color\":\"red\",\"line_width\":2,\"x\":{\"field\":\"x\"},\"y\":{\"field\":\"y\"}},\"id\":\"3111\",\"type\":\"Line\"},{\"attributes\":{\"callback\":null,\"data\":{\"x\":[2001,2002,2003,2004,2005,2006,2007,2008,2009,2010,2011,2012,2013,2014,2015,2016,2017],\"y\":[27.21827502955226,25.932710988252836,25.209183734982894,23.41530177118728,23.38043266292523,22.36052404700153,21.913588386037436,21.562771797133657,22.996479470008765,21.94358614728724,21.011183599950137,22.043847175440607,21.289167254407456,20.999326828948075,21.21460865217579,21.26276969611124,20.813614631808505]},\"selected\":{\"id\":\"3142\",\"type\":\"Selection\"},\"selection_policy\":{\"id\":\"3141\",\"type\":\"UnionRenderers\"}},\"id\":\"3123\",\"type\":\"ColumnDataSource\"},{\"attributes\":{\"callback\":null,\"data\":{\"x\":[2001,2002,2003,2004,2005,2006,2007,2008,2009,2010,2011,2012,2013,2014,2015,2016,2017],\"y\":[27.21827502955226,25.932710988252836,25.209183734982894,23.41530177118728,23.38043266292523,22.36052404700153,21.913588386037436,21.562771797133657,22.996479470008765,21.94358614728724,21.011183599950137,22.043847175440607,21.289167254407456,20.999326828948075,21.21460865217579,21.26276969611124,20.813614631808505]},\"selected\":{\"id\":\"3140\",\"type\":\"Selection\"},\"selection_policy\":{\"id\":\"3139\",\"type\":\"UnionRenderers\"}},\"id\":\"3110\",\"type\":\"ColumnDataSource\"},{\"attributes\":{\"source\":{\"id\":\"3144\",\"type\":\"ColumnDataSource\"}},\"id\":\"3148\",\"type\":\"CDSView\"},{\"attributes\":{\"fill_color\":{\"value\":\"red\"},\"line_color\":{\"value\":\"red\"},\"line_width\":{\"value\":3},\"x\":{\"field\":\"x\"},\"y\":{\"field\":\"y\"}},\"id\":\"3124\",\"type\":\"Circle\"},{\"attributes\":{\"callback\":null,\"tooltips\":\"\\n        <div style=padding=5px>Year:@x</div>\\n        <div style=padding=5px>Value:@y</div>\\n        \"},\"id\":\"3149\",\"type\":\"HoverTool\"},{\"attributes\":{\"fill_alpha\":{\"value\":0.1},\"fill_color\":{\"value\":\"#1f77b4\"},\"line_alpha\":{\"value\":0.1},\"line_color\":{\"value\":\"#1f77b4\"},\"line_width\":{\"value\":3},\"x\":{\"field\":\"x\"},\"y\":{\"field\":\"y\"}},\"id\":\"3125\",\"type\":\"Circle\"},{\"attributes\":{},\"id\":\"3097\",\"type\":\"PanTool\"}],\"root_ids\":[\"3076\"]},\"title\":\"Bokeh Application\",\"version\":\"1.3.4\"}};\n",
       "  var render_items = [{\"docid\":\"8ffcbcf6-216f-45a0-a2d4-1a0ceee38164\",\"roots\":{\"3076\":\"724a963b-702a-40b5-8324-609522bb2e42\"}}];\n",
       "  root.Bokeh.embed.embed_items_notebook(docs_json, render_items);\n",
       "\n",
       "  }\n",
       "  if (root.Bokeh !== undefined) {\n",
       "    embed_document(root);\n",
       "  } else {\n",
       "    var attempts = 0;\n",
       "    var timer = setInterval(function(root) {\n",
       "      if (root.Bokeh !== undefined) {\n",
       "        embed_document(root);\n",
       "        clearInterval(timer);\n",
       "      }\n",
       "      attempts++;\n",
       "      if (attempts > 100) {\n",
       "        console.log(\"Bokeh: ERROR: Unable to run BokehJS code because BokehJS library is missing\");\n",
       "        clearInterval(timer);\n",
       "      }\n",
       "    }, 10, root)\n",
       "  }\n",
       "})(window);"
      ],
      "application/vnd.bokehjs_exec.v0+json": ""
     },
     "metadata": {
      "application/vnd.bokehjs_exec.v0+json": {
       "id": "3076"
      }
     },
     "output_type": "display_data"
    }
   ],
   "source": [
    "show_weighted_average('NV.AGR.TOTL.ZS', 'NY.GDP.MKTP.CD', ['LDCs', 'Developing excluding LDCs'])"
   ]
  },
  {
   "cell_type": "code",
   "execution_count": 19,
   "metadata": {},
   "outputs": [
    {
     "name": "stderr",
     "output_type": "stream",
     "text": [
      "INFO:bokeh.io.state:Session output file 'data.html' already exists, will be overwritten.\n"
     ]
    },
    {
     "data": {
      "text/html": [
       "\n",
       "\n",
       "\n",
       "\n",
       "\n",
       "\n",
       "  <div class=\"bk-root\" id=\"2c723d4c-d111-49ae-9d2f-6858ca06854c\" data-root-id=\"3474\"></div>\n"
      ]
     },
     "metadata": {},
     "output_type": "display_data"
    },
    {
     "data": {
      "application/javascript": [
       "(function(root) {\n",
       "  function embed_document(root) {\n",
       "    \n",
       "  var docs_json = {\"6057dc42-43b2-4ccd-bc87-afda36860a8a\":{\"roots\":{\"references\":[{\"attributes\":{\"below\":[{\"id\":\"3485\",\"type\":\"LinearAxis\"}],\"center\":[{\"id\":\"3489\",\"type\":\"Grid\"},{\"id\":\"3494\",\"type\":\"Grid\"},{\"id\":\"3519\",\"type\":\"Legend\"}],\"left\":[{\"id\":\"3490\",\"type\":\"LinearAxis\"}],\"plot_height\":400,\"plot_width\":900,\"renderers\":[{\"id\":\"3511\",\"type\":\"GlyphRenderer\"},{\"id\":\"3524\",\"type\":\"GlyphRenderer\"},{\"id\":\"3529\",\"type\":\"GlyphRenderer\"},{\"id\":\"3545\",\"type\":\"GlyphRenderer\"}],\"title\":{\"id\":\"3475\",\"type\":\"Title\"},\"toolbar\":{\"id\":\"3501\",\"type\":\"Toolbar\"},\"x_range\":{\"id\":\"3477\",\"type\":\"DataRange1d\"},\"x_scale\":{\"id\":\"3481\",\"type\":\"LinearScale\"},\"y_range\":{\"id\":\"3479\",\"type\":\"DataRange1d\"},\"y_scale\":{\"id\":\"3483\",\"type\":\"LinearScale\"}},\"id\":\"3474\",\"subtype\":\"Figure\",\"type\":\"Plot\"},{\"attributes\":{\"callback\":null,\"data\":{\"x\":[2001,2002,2003,2004,2005,2006,2007,2008,2009,2010,2011,2012,2013,2014,2015,2016,2017],\"y\":[74.5885508477545,74.170728373618,73.7383105264119,73.30461571223451,72.85760200817124,72.41698364409473,72.02137630639736,71.53477802260059,71.03883841181646,70.53468445683475,70.02322338974272,69.54425681847671,69.04126913036824,68.53335948867445,68.02084860989429,67.5036702230874,66.98172550096228]},\"selected\":{\"id\":\"3538\",\"type\":\"Selection\"},\"selection_policy\":{\"id\":\"3537\",\"type\":\"UnionRenderers\"}},\"id\":\"3508\",\"type\":\"ColumnDataSource\"},{\"attributes\":{},\"id\":\"3659\",\"type\":\"UnionRenderers\"},{\"attributes\":{\"source\":{\"id\":\"3542\",\"type\":\"ColumnDataSource\"}},\"id\":\"3546\",\"type\":\"CDSView\"},{\"attributes\":{\"axis_label\":\"Percentage\",\"formatter\":{\"id\":\"3515\",\"type\":\"BasicTickFormatter\"},\"ticker\":{\"id\":\"3491\",\"type\":\"BasicTicker\"}},\"id\":\"3490\",\"type\":\"LinearAxis\"},{\"attributes\":{},\"id\":\"3481\",\"type\":\"LinearScale\"},{\"attributes\":{\"fill_alpha\":{\"value\":0.1},\"fill_color\":{\"value\":\"#1f77b4\"},\"line_alpha\":{\"value\":0.1},\"line_color\":{\"value\":\"#1f77b4\"},\"line_width\":{\"value\":3},\"x\":{\"field\":\"x\"},\"y\":{\"field\":\"y\"}},\"id\":\"3523\",\"type\":\"Circle\"},{\"attributes\":{\"data_source\":{\"id\":\"3526\",\"type\":\"ColumnDataSource\"},\"glyph\":{\"id\":\"3527\",\"type\":\"Line\"},\"hover_glyph\":null,\"muted_glyph\":null,\"nonselection_glyph\":{\"id\":\"3528\",\"type\":\"Line\"},\"selection_glyph\":null,\"view\":{\"id\":\"3530\",\"type\":\"CDSView\"}},\"id\":\"3529\",\"type\":\"GlyphRenderer\"},{\"attributes\":{},\"id\":\"3498\",\"type\":\"SaveTool\"},{\"attributes\":{},\"id\":\"3660\",\"type\":\"Selection\"},{\"attributes\":{\"label\":{\"value\":\"Developing excluding LDCs\"},\"renderers\":[{\"id\":\"3529\",\"type\":\"GlyphRenderer\"}]},\"id\":\"3541\",\"type\":\"LegendItem\"},{\"attributes\":{\"line_color\":\"red\",\"line_width\":2,\"x\":{\"field\":\"x\"},\"y\":{\"field\":\"y\"}},\"id\":\"3509\",\"type\":\"Line\"},{\"attributes\":{},\"id\":\"3517\",\"type\":\"BasicTickFormatter\"},{\"attributes\":{\"callback\":null,\"tooltips\":\"\\n        <div style=padding=5px>Year:@x</div>\\n        <div style=padding=5px>Value:@y</div>\\n        \"},\"id\":\"3547\",\"type\":\"HoverTool\"},{\"attributes\":{},\"id\":\"3491\",\"type\":\"BasicTicker\"},{\"attributes\":{\"data_source\":{\"id\":\"3521\",\"type\":\"ColumnDataSource\"},\"glyph\":{\"id\":\"3522\",\"type\":\"Circle\"},\"hover_glyph\":null,\"muted_glyph\":null,\"nonselection_glyph\":{\"id\":\"3523\",\"type\":\"Circle\"},\"selection_glyph\":null,\"view\":{\"id\":\"3525\",\"type\":\"CDSView\"}},\"id\":\"3524\",\"type\":\"GlyphRenderer\"},{\"attributes\":{},\"id\":\"3515\",\"type\":\"BasicTickFormatter\"},{\"attributes\":{\"source\":{\"id\":\"3526\",\"type\":\"ColumnDataSource\"}},\"id\":\"3530\",\"type\":\"CDSView\"},{\"attributes\":{},\"id\":\"3483\",\"type\":\"LinearScale\"},{\"attributes\":{\"overlay\":{\"id\":\"3518\",\"type\":\"BoxAnnotation\"}},\"id\":\"3497\",\"type\":\"BoxZoomTool\"},{\"attributes\":{},\"id\":\"3500\",\"type\":\"HelpTool\"},{\"attributes\":{\"callback\":null,\"data\":{\"x\":[2001,2002,2003,2004,2005,2006,2007,2008,2009,2010,2011,2012,2013,2014,2015,2016,2017],\"y\":[58.19229593733421,57.49214750730395,56.79107257871115,56.08420239450577,55.37329789650857,54.672804549923406,53.97753965190463,53.28007273722422,52.58524307181396,51.892035276261424,51.22700828217376,50.57300177227711,49.922509991689395,49.273088119203514,48.627271251068386,47.98366015757143,47.34467173180429]},\"selected\":{\"id\":\"3660\",\"type\":\"Selection\"},\"selection_policy\":{\"id\":\"3659\",\"type\":\"UnionRenderers\"}},\"id\":\"3542\",\"type\":\"ColumnDataSource\"},{\"attributes\":{\"axis_label\":\"Years\",\"formatter\":{\"id\":\"3517\",\"type\":\"BasicTickFormatter\"},\"ticker\":{\"id\":\"3486\",\"type\":\"BasicTicker\"}},\"id\":\"3485\",\"type\":\"LinearAxis\"},{\"attributes\":{\"bottom_units\":\"screen\",\"fill_alpha\":{\"value\":0.5},\"fill_color\":{\"value\":\"lightgrey\"},\"left_units\":\"screen\",\"level\":\"overlay\",\"line_alpha\":{\"value\":1.0},\"line_color\":{\"value\":\"black\"},\"line_dash\":[4,4],\"line_width\":{\"value\":2},\"render_mode\":\"css\",\"right_units\":\"screen\",\"top_units\":\"screen\"},\"id\":\"3518\",\"type\":\"BoxAnnotation\"},{\"attributes\":{\"source\":{\"id\":\"3521\",\"type\":\"ColumnDataSource\"}},\"id\":\"3525\",\"type\":\"CDSView\"},{\"attributes\":{},\"id\":\"3657\",\"type\":\"UnionRenderers\"},{\"attributes\":{\"dimension\":1,\"ticker\":{\"id\":\"3491\",\"type\":\"BasicTicker\"}},\"id\":\"3494\",\"type\":\"Grid\"},{\"attributes\":{\"fill_color\":{\"value\":\"blue\"},\"line_color\":{\"value\":\"blue\"},\"line_width\":{\"value\":3},\"x\":{\"field\":\"x\"},\"y\":{\"field\":\"y\"}},\"id\":\"3543\",\"type\":\"Circle\"},{\"attributes\":{},\"id\":\"3537\",\"type\":\"UnionRenderers\"},{\"attributes\":{\"active_drag\":\"auto\",\"active_inspect\":\"auto\",\"active_multi\":null,\"active_scroll\":\"auto\",\"active_tap\":\"auto\",\"tools\":[{\"id\":\"3495\",\"type\":\"PanTool\"},{\"id\":\"3496\",\"type\":\"WheelZoomTool\"},{\"id\":\"3497\",\"type\":\"BoxZoomTool\"},{\"id\":\"3498\",\"type\":\"SaveTool\"},{\"id\":\"3499\",\"type\":\"ResetTool\"},{\"id\":\"3500\",\"type\":\"HelpTool\"},{\"id\":\"3547\",\"type\":\"HoverTool\"}]},\"id\":\"3501\",\"type\":\"Toolbar\"},{\"attributes\":{},\"id\":\"3658\",\"type\":\"Selection\"},{\"attributes\":{},\"id\":\"3486\",\"type\":\"BasicTicker\"},{\"attributes\":{},\"id\":\"3496\",\"type\":\"WheelZoomTool\"},{\"attributes\":{},\"id\":\"3538\",\"type\":\"Selection\"},{\"attributes\":{\"callback\":null,\"data\":{\"x\":[2001,2002,2003,2004,2005,2006,2007,2008,2009,2010,2011,2012,2013,2014,2015,2016,2017],\"y\":[58.19229593733421,57.49214750730395,56.79107257871115,56.08420239450577,55.37329789650857,54.672804549923406,53.97753965190463,53.28007273722422,52.58524307181396,51.892035276261424,51.22700828217376,50.57300177227711,49.922509991689395,49.273088119203514,48.627271251068386,47.98366015757143,47.34467173180429]},\"selected\":{\"id\":\"3658\",\"type\":\"Selection\"},\"selection_policy\":{\"id\":\"3657\",\"type\":\"UnionRenderers\"}},\"id\":\"3526\",\"type\":\"ColumnDataSource\"},{\"attributes\":{\"text\":\"Rural population (% of total population) weighted against Population, total\"},\"id\":\"3475\",\"type\":\"Title\"},{\"attributes\":{\"items\":[{\"id\":\"3520\",\"type\":\"LegendItem\"},{\"id\":\"3541\",\"type\":\"LegendItem\"}]},\"id\":\"3519\",\"type\":\"Legend\"},{\"attributes\":{\"callback\":null,\"data\":{\"x\":[2001,2002,2003,2004,2005,2006,2007,2008,2009,2010,2011,2012,2013,2014,2015,2016,2017],\"y\":[74.5885508477545,74.170728373618,73.7383105264119,73.30461571223451,72.85760200817124,72.41698364409473,72.02137630639736,71.53477802260059,71.03883841181646,70.53468445683475,70.02322338974272,69.54425681847671,69.04126913036824,68.53335948867445,68.02084860989429,67.5036702230874,66.98172550096228]},\"selected\":{\"id\":\"3540\",\"type\":\"Selection\"},\"selection_policy\":{\"id\":\"3539\",\"type\":\"UnionRenderers\"}},\"id\":\"3521\",\"type\":\"ColumnDataSource\"},{\"attributes\":{\"ticker\":{\"id\":\"3486\",\"type\":\"BasicTicker\"}},\"id\":\"3489\",\"type\":\"Grid\"},{\"attributes\":{\"fill_alpha\":{\"value\":0.1},\"fill_color\":{\"value\":\"#1f77b4\"},\"line_alpha\":{\"value\":0.1},\"line_color\":{\"value\":\"#1f77b4\"},\"line_width\":{\"value\":3},\"x\":{\"field\":\"x\"},\"y\":{\"field\":\"y\"}},\"id\":\"3544\",\"type\":\"Circle\"},{\"attributes\":{},\"id\":\"3539\",\"type\":\"UnionRenderers\"},{\"attributes\":{},\"id\":\"3495\",\"type\":\"PanTool\"},{\"attributes\":{\"line_color\":\"blue\",\"line_width\":2,\"x\":{\"field\":\"x\"},\"y\":{\"field\":\"y\"}},\"id\":\"3527\",\"type\":\"Line\"},{\"attributes\":{\"data_source\":{\"id\":\"3508\",\"type\":\"ColumnDataSource\"},\"glyph\":{\"id\":\"3509\",\"type\":\"Line\"},\"hover_glyph\":null,\"muted_glyph\":null,\"nonselection_glyph\":{\"id\":\"3510\",\"type\":\"Line\"},\"selection_glyph\":null,\"view\":{\"id\":\"3512\",\"type\":\"CDSView\"}},\"id\":\"3511\",\"type\":\"GlyphRenderer\"},{\"attributes\":{\"callback\":null},\"id\":\"3477\",\"type\":\"DataRange1d\"},{\"attributes\":{\"fill_color\":{\"value\":\"red\"},\"line_color\":{\"value\":\"red\"},\"line_width\":{\"value\":3},\"x\":{\"field\":\"x\"},\"y\":{\"field\":\"y\"}},\"id\":\"3522\",\"type\":\"Circle\"},{\"attributes\":{},\"id\":\"3499\",\"type\":\"ResetTool\"},{\"attributes\":{\"callback\":null},\"id\":\"3479\",\"type\":\"DataRange1d\"},{\"attributes\":{\"data_source\":{\"id\":\"3542\",\"type\":\"ColumnDataSource\"},\"glyph\":{\"id\":\"3543\",\"type\":\"Circle\"},\"hover_glyph\":null,\"muted_glyph\":null,\"nonselection_glyph\":{\"id\":\"3544\",\"type\":\"Circle\"},\"selection_glyph\":null,\"view\":{\"id\":\"3546\",\"type\":\"CDSView\"}},\"id\":\"3545\",\"type\":\"GlyphRenderer\"},{\"attributes\":{\"line_alpha\":0.1,\"line_color\":\"#1f77b4\",\"line_width\":2,\"x\":{\"field\":\"x\"},\"y\":{\"field\":\"y\"}},\"id\":\"3510\",\"type\":\"Line\"},{\"attributes\":{},\"id\":\"3540\",\"type\":\"Selection\"},{\"attributes\":{\"line_alpha\":0.1,\"line_color\":\"#1f77b4\",\"line_width\":2,\"x\":{\"field\":\"x\"},\"y\":{\"field\":\"y\"}},\"id\":\"3528\",\"type\":\"Line\"},{\"attributes\":{\"label\":{\"value\":\"LDCs\"},\"renderers\":[{\"id\":\"3511\",\"type\":\"GlyphRenderer\"}]},\"id\":\"3520\",\"type\":\"LegendItem\"},{\"attributes\":{\"source\":{\"id\":\"3508\",\"type\":\"ColumnDataSource\"}},\"id\":\"3512\",\"type\":\"CDSView\"}],\"root_ids\":[\"3474\"]},\"title\":\"Bokeh Application\",\"version\":\"1.3.4\"}};\n",
       "  var render_items = [{\"docid\":\"6057dc42-43b2-4ccd-bc87-afda36860a8a\",\"roots\":{\"3474\":\"2c723d4c-d111-49ae-9d2f-6858ca06854c\"}}];\n",
       "  root.Bokeh.embed.embed_items_notebook(docs_json, render_items);\n",
       "\n",
       "  }\n",
       "  if (root.Bokeh !== undefined) {\n",
       "    embed_document(root);\n",
       "  } else {\n",
       "    var attempts = 0;\n",
       "    var timer = setInterval(function(root) {\n",
       "      if (root.Bokeh !== undefined) {\n",
       "        embed_document(root);\n",
       "        clearInterval(timer);\n",
       "      }\n",
       "      attempts++;\n",
       "      if (attempts > 100) {\n",
       "        console.log(\"Bokeh: ERROR: Unable to run BokehJS code because BokehJS library is missing\");\n",
       "        clearInterval(timer);\n",
       "      }\n",
       "    }, 10, root)\n",
       "  }\n",
       "})(window);"
      ],
      "application/vnd.bokehjs_exec.v0+json": ""
     },
     "metadata": {
      "application/vnd.bokehjs_exec.v0+json": {
       "id": "3474"
      }
     },
     "output_type": "display_data"
    }
   ],
   "source": [
    "# Urban population as a percentage of total population\n",
    "show_weighted_average('SP.RUR.TOTL.ZS', 'SP.POP.TOTL', ['LDCs', 'Developing excluding LDCs'])"
   ]
  },
  {
   "cell_type": "code",
   "execution_count": 20,
   "metadata": {},
   "outputs": [
    {
     "name": "stderr",
     "output_type": "stream",
     "text": [
      "INFO:bokeh.io.state:Session output file 'data.html' already exists, will be overwritten.\n"
     ]
    },
    {
     "data": {
      "text/html": [
       "\n",
       "\n",
       "\n",
       "\n",
       "\n",
       "\n",
       "  <div class=\"bk-root\" id=\"4e03373c-0d59-469a-b4e2-5546c91b65d5\" data-root-id=\"3886\"></div>\n"
      ]
     },
     "metadata": {},
     "output_type": "display_data"
    },
    {
     "data": {
      "application/javascript": [
       "(function(root) {\n",
       "  function embed_document(root) {\n",
       "    \n",
       "  var docs_json = {\"76c205a1-92bf-43af-8e79-c7dfa22c2890\":{\"roots\":{\"references\":[{\"attributes\":{\"below\":[{\"id\":\"3897\",\"type\":\"LinearAxis\"}],\"center\":[{\"id\":\"3901\",\"type\":\"Grid\"},{\"id\":\"3906\",\"type\":\"Grid\"},{\"id\":\"3931\",\"type\":\"Legend\"}],\"left\":[{\"id\":\"3902\",\"type\":\"LinearAxis\"}],\"plot_height\":400,\"plot_width\":900,\"renderers\":[{\"id\":\"3923\",\"type\":\"GlyphRenderer\"},{\"id\":\"3936\",\"type\":\"GlyphRenderer\"},{\"id\":\"3941\",\"type\":\"GlyphRenderer\"},{\"id\":\"3957\",\"type\":\"GlyphRenderer\"}],\"title\":{\"id\":\"3887\",\"type\":\"Title\"},\"toolbar\":{\"id\":\"3913\",\"type\":\"Toolbar\"},\"x_range\":{\"id\":\"3889\",\"type\":\"DataRange1d\"},\"x_scale\":{\"id\":\"3893\",\"type\":\"LinearScale\"},\"y_range\":{\"id\":\"3891\",\"type\":\"DataRange1d\"},\"y_scale\":{\"id\":\"3895\",\"type\":\"LinearScale\"}},\"id\":\"3886\",\"subtype\":\"Figure\",\"type\":\"Plot\"},{\"attributes\":{\"items\":[{\"id\":\"3932\",\"type\":\"LegendItem\"},{\"id\":\"3953\",\"type\":\"LegendItem\"}]},\"id\":\"3931\",\"type\":\"Legend\"},{\"attributes\":{},\"id\":\"3903\",\"type\":\"BasicTicker\"},{\"attributes\":{\"fill_color\":{\"value\":\"blue\"},\"line_color\":{\"value\":\"blue\"},\"line_width\":{\"value\":3},\"x\":{\"field\":\"x\"},\"y\":{\"field\":\"y\"}},\"id\":\"3955\",\"type\":\"Circle\"},{\"attributes\":{\"label\":{\"value\":\"LDCs\"},\"renderers\":[{\"id\":\"3923\",\"type\":\"GlyphRenderer\"}]},\"id\":\"3932\",\"type\":\"LegendItem\"},{\"attributes\":{\"dimension\":1,\"ticker\":{\"id\":\"3903\",\"type\":\"BasicTicker\"}},\"id\":\"3906\",\"type\":\"Grid\"},{\"attributes\":{\"fill_alpha\":{\"value\":0.1},\"fill_color\":{\"value\":\"#1f77b4\"},\"line_alpha\":{\"value\":0.1},\"line_color\":{\"value\":\"#1f77b4\"},\"line_width\":{\"value\":3},\"x\":{\"field\":\"x\"},\"y\":{\"field\":\"y\"}},\"id\":\"3956\",\"type\":\"Circle\"},{\"attributes\":{\"callback\":null,\"data\":{\"x\":[2001,2002,2003,2004,2005,2006,2007,2008,2009,2010,2011,2012,2013,2014,2015,2016,2017],\"y\":[29.209016301994986,29.79844631497895,31.18696960164219,32.69297789614253,34.30733873540627,36.01016978662808,37.93187043091685,39.94500520648879,42.030124061483484,44.17895500170897,46.379028286829,48.629387865906054,50.964846617773375,53.3500288017079,55.76782165250671,58.22878123081063,60.72069424656215]},\"selected\":{\"id\":\"4086\",\"type\":\"Selection\"},\"selection_policy\":{\"id\":\"4085\",\"type\":\"UnionRenderers\"}},\"id\":\"3954\",\"type\":\"ColumnDataSource\"},{\"attributes\":{\"callback\":null,\"data\":{\"x\":[2001,2002,2003,2004,2005,2006,2007,2008,2009,2010,2011,2012,2013,2014,2015,2016,2017],\"y\":[8.310611901533424,9.28077115926377,10.252918388064186,11.205379345323372,12.149632874228196,13.089596716542752,14.025080502459863,14.955900981807803,15.821696108471013,16.70904578976817,17.553474451435996,18.374064944696872,19.187805301854958,19.99536707307814,20.797136473512595,21.58898092737968,22.37410478687044]},\"selected\":{\"id\":\"3952\",\"type\":\"Selection\"},\"selection_policy\":{\"id\":\"3951\",\"type\":\"UnionRenderers\"}},\"id\":\"3933\",\"type\":\"ColumnDataSource\"},{\"attributes\":{\"data_source\":{\"id\":\"3954\",\"type\":\"ColumnDataSource\"},\"glyph\":{\"id\":\"3955\",\"type\":\"Circle\"},\"hover_glyph\":null,\"muted_glyph\":null,\"nonselection_glyph\":{\"id\":\"3956\",\"type\":\"Circle\"},\"selection_glyph\":null,\"view\":{\"id\":\"3958\",\"type\":\"CDSView\"}},\"id\":\"3957\",\"type\":\"GlyphRenderer\"},{\"attributes\":{\"line_color\":\"red\",\"line_width\":2,\"x\":{\"field\":\"x\"},\"y\":{\"field\":\"y\"}},\"id\":\"3921\",\"type\":\"Line\"},{\"attributes\":{\"fill_color\":{\"value\":\"red\"},\"line_color\":{\"value\":\"red\"},\"line_width\":{\"value\":3},\"x\":{\"field\":\"x\"},\"y\":{\"field\":\"y\"}},\"id\":\"3934\",\"type\":\"Circle\"},{\"attributes\":{\"source\":{\"id\":\"3954\",\"type\":\"ColumnDataSource\"}},\"id\":\"3958\",\"type\":\"CDSView\"},{\"attributes\":{\"callback\":null,\"data\":{\"x\":[2001,2002,2003,2004,2005,2006,2007,2008,2009,2010,2011,2012,2013,2014,2015,2016,2017],\"y\":[8.310611901533424,9.28077115926377,10.252918388064186,11.205379345323372,12.149632874228196,13.089596716542752,14.025080502459863,14.955900981807803,15.821696108471013,16.70904578976817,17.553474451435996,18.374064944696872,19.187805301854958,19.99536707307814,20.797136473512595,21.58898092737968,22.37410478687044]},\"selected\":{\"id\":\"3950\",\"type\":\"Selection\"},\"selection_policy\":{\"id\":\"3949\",\"type\":\"UnionRenderers\"}},\"id\":\"3920\",\"type\":\"ColumnDataSource\"},{\"attributes\":{\"fill_alpha\":{\"value\":0.1},\"fill_color\":{\"value\":\"#1f77b4\"},\"line_alpha\":{\"value\":0.1},\"line_color\":{\"value\":\"#1f77b4\"},\"line_width\":{\"value\":3},\"x\":{\"field\":\"x\"},\"y\":{\"field\":\"y\"}},\"id\":\"3935\",\"type\":\"Circle\"},{\"attributes\":{\"line_alpha\":0.1,\"line_color\":\"#1f77b4\",\"line_width\":2,\"x\":{\"field\":\"x\"},\"y\":{\"field\":\"y\"}},\"id\":\"3922\",\"type\":\"Line\"},{\"attributes\":{},\"id\":\"3907\",\"type\":\"PanTool\"},{\"attributes\":{\"data_source\":{\"id\":\"3933\",\"type\":\"ColumnDataSource\"},\"glyph\":{\"id\":\"3934\",\"type\":\"Circle\"},\"hover_glyph\":null,\"muted_glyph\":null,\"nonselection_glyph\":{\"id\":\"3935\",\"type\":\"Circle\"},\"selection_glyph\":null,\"view\":{\"id\":\"3937\",\"type\":\"CDSView\"}},\"id\":\"3936\",\"type\":\"GlyphRenderer\"},{\"attributes\":{},\"id\":\"4083\",\"type\":\"UnionRenderers\"},{\"attributes\":{},\"id\":\"3908\",\"type\":\"WheelZoomTool\"},{\"attributes\":{\"source\":{\"id\":\"3933\",\"type\":\"ColumnDataSource\"}},\"id\":\"3937\",\"type\":\"CDSView\"},{\"attributes\":{\"overlay\":{\"id\":\"3930\",\"type\":\"BoxAnnotation\"}},\"id\":\"3909\",\"type\":\"BoxZoomTool\"},{\"attributes\":{},\"id\":\"4084\",\"type\":\"Selection\"},{\"attributes\":{\"callback\":null,\"tooltips\":\"\\n        <div style=padding=5px>Year:@x</div>\\n        <div style=padding=5px>Value:@y</div>\\n        \"},\"id\":\"3959\",\"type\":\"HoverTool\"},{\"attributes\":{\"callback\":null,\"data\":{\"x\":[2001,2002,2003,2004,2005,2006,2007,2008,2009,2010,2011,2012,2013,2014,2015,2016,2017],\"y\":[29.209016301994986,29.79844631497895,31.18696960164219,32.69297789614253,34.30733873540627,36.01016978662808,37.93187043091685,39.94500520648879,42.030124061483484,44.17895500170897,46.379028286829,48.629387865906054,50.964846617773375,53.3500288017079,55.76782165250671,58.22878123081063,60.72069424656215]},\"selected\":{\"id\":\"4084\",\"type\":\"Selection\"},\"selection_policy\":{\"id\":\"4083\",\"type\":\"UnionRenderers\"}},\"id\":\"3938\",\"type\":\"ColumnDataSource\"},{\"attributes\":{},\"id\":\"3910\",\"type\":\"SaveTool\"},{\"attributes\":{},\"id\":\"4085\",\"type\":\"UnionRenderers\"},{\"attributes\":{\"line_color\":\"blue\",\"line_width\":2,\"x\":{\"field\":\"x\"},\"y\":{\"field\":\"y\"}},\"id\":\"3939\",\"type\":\"Line\"},{\"attributes\":{},\"id\":\"3911\",\"type\":\"ResetTool\"},{\"attributes\":{},\"id\":\"4086\",\"type\":\"Selection\"},{\"attributes\":{\"text\":\"People using safely managed sanitation services (% of population) weighted against Population, total\"},\"id\":\"3887\",\"type\":\"Title\"},{\"attributes\":{\"line_alpha\":0.1,\"line_color\":\"#1f77b4\",\"line_width\":2,\"x\":{\"field\":\"x\"},\"y\":{\"field\":\"y\"}},\"id\":\"3940\",\"type\":\"Line\"},{\"attributes\":{},\"id\":\"3912\",\"type\":\"HelpTool\"},{\"attributes\":{\"data_source\":{\"id\":\"3938\",\"type\":\"ColumnDataSource\"},\"glyph\":{\"id\":\"3939\",\"type\":\"Line\"},\"hover_glyph\":null,\"muted_glyph\":null,\"nonselection_glyph\":{\"id\":\"3940\",\"type\":\"Line\"},\"selection_glyph\":null,\"view\":{\"id\":\"3942\",\"type\":\"CDSView\"}},\"id\":\"3941\",\"type\":\"GlyphRenderer\"},{\"attributes\":{\"callback\":null},\"id\":\"3889\",\"type\":\"DataRange1d\"},{\"attributes\":{\"active_drag\":\"auto\",\"active_inspect\":\"auto\",\"active_multi\":null,\"active_scroll\":\"auto\",\"active_tap\":\"auto\",\"tools\":[{\"id\":\"3907\",\"type\":\"PanTool\"},{\"id\":\"3908\",\"type\":\"WheelZoomTool\"},{\"id\":\"3909\",\"type\":\"BoxZoomTool\"},{\"id\":\"3910\",\"type\":\"SaveTool\"},{\"id\":\"3911\",\"type\":\"ResetTool\"},{\"id\":\"3912\",\"type\":\"HelpTool\"},{\"id\":\"3959\",\"type\":\"HoverTool\"}]},\"id\":\"3913\",\"type\":\"Toolbar\"},{\"attributes\":{\"callback\":null},\"id\":\"3891\",\"type\":\"DataRange1d\"},{\"attributes\":{\"source\":{\"id\":\"3938\",\"type\":\"ColumnDataSource\"}},\"id\":\"3942\",\"type\":\"CDSView\"},{\"attributes\":{},\"id\":\"3893\",\"type\":\"LinearScale\"},{\"attributes\":{},\"id\":\"3949\",\"type\":\"UnionRenderers\"},{\"attributes\":{\"data_source\":{\"id\":\"3920\",\"type\":\"ColumnDataSource\"},\"glyph\":{\"id\":\"3921\",\"type\":\"Line\"},\"hover_glyph\":null,\"muted_glyph\":null,\"nonselection_glyph\":{\"id\":\"3922\",\"type\":\"Line\"},\"selection_glyph\":null,\"view\":{\"id\":\"3924\",\"type\":\"CDSView\"}},\"id\":\"3923\",\"type\":\"GlyphRenderer\"},{\"attributes\":{},\"id\":\"3895\",\"type\":\"LinearScale\"},{\"attributes\":{},\"id\":\"3950\",\"type\":\"Selection\"},{\"attributes\":{\"source\":{\"id\":\"3920\",\"type\":\"ColumnDataSource\"}},\"id\":\"3924\",\"type\":\"CDSView\"},{\"attributes\":{\"axis_label\":\"Years\",\"formatter\":{\"id\":\"3929\",\"type\":\"BasicTickFormatter\"},\"ticker\":{\"id\":\"3898\",\"type\":\"BasicTicker\"}},\"id\":\"3897\",\"type\":\"LinearAxis\"},{\"attributes\":{},\"id\":\"3951\",\"type\":\"UnionRenderers\"},{\"attributes\":{},\"id\":\"3898\",\"type\":\"BasicTicker\"},{\"attributes\":{},\"id\":\"3952\",\"type\":\"Selection\"},{\"attributes\":{},\"id\":\"3927\",\"type\":\"BasicTickFormatter\"},{\"attributes\":{\"ticker\":{\"id\":\"3898\",\"type\":\"BasicTicker\"}},\"id\":\"3901\",\"type\":\"Grid\"},{\"attributes\":{\"label\":{\"value\":\"Developing excluding LDCs\"},\"renderers\":[{\"id\":\"3941\",\"type\":\"GlyphRenderer\"}]},\"id\":\"3953\",\"type\":\"LegendItem\"},{\"attributes\":{},\"id\":\"3929\",\"type\":\"BasicTickFormatter\"},{\"attributes\":{\"axis_label\":\"Percentage\",\"formatter\":{\"id\":\"3927\",\"type\":\"BasicTickFormatter\"},\"ticker\":{\"id\":\"3903\",\"type\":\"BasicTicker\"}},\"id\":\"3902\",\"type\":\"LinearAxis\"},{\"attributes\":{\"bottom_units\":\"screen\",\"fill_alpha\":{\"value\":0.5},\"fill_color\":{\"value\":\"lightgrey\"},\"left_units\":\"screen\",\"level\":\"overlay\",\"line_alpha\":{\"value\":1.0},\"line_color\":{\"value\":\"black\"},\"line_dash\":[4,4],\"line_width\":{\"value\":2},\"render_mode\":\"css\",\"right_units\":\"screen\",\"top_units\":\"screen\"},\"id\":\"3930\",\"type\":\"BoxAnnotation\"}],\"root_ids\":[\"3886\"]},\"title\":\"Bokeh Application\",\"version\":\"1.3.4\"}};\n",
       "  var render_items = [{\"docid\":\"76c205a1-92bf-43af-8e79-c7dfa22c2890\",\"roots\":{\"3886\":\"4e03373c-0d59-469a-b4e2-5546c91b65d5\"}}];\n",
       "  root.Bokeh.embed.embed_items_notebook(docs_json, render_items);\n",
       "\n",
       "  }\n",
       "  if (root.Bokeh !== undefined) {\n",
       "    embed_document(root);\n",
       "  } else {\n",
       "    var attempts = 0;\n",
       "    var timer = setInterval(function(root) {\n",
       "      if (root.Bokeh !== undefined) {\n",
       "        embed_document(root);\n",
       "        clearInterval(timer);\n",
       "      }\n",
       "      attempts++;\n",
       "      if (attempts > 100) {\n",
       "        console.log(\"Bokeh: ERROR: Unable to run BokehJS code because BokehJS library is missing\");\n",
       "        clearInterval(timer);\n",
       "      }\n",
       "    }, 10, root)\n",
       "  }\n",
       "})(window);"
      ],
      "application/vnd.bokehjs_exec.v0+json": ""
     },
     "metadata": {
      "application/vnd.bokehjs_exec.v0+json": {
       "id": "3886"
      }
     },
     "output_type": "display_data"
    }
   ],
   "source": [
    "# Access to safely managed sanitation services\n",
    "show_weighted_average('SH.STA.SMSS.ZS', 'SP.POP.TOTL', ['LDCs', 'Developing excluding LDCs'])"
   ]
  },
  {
   "cell_type": "code",
   "execution_count": 21,
   "metadata": {},
   "outputs": [
    {
     "name": "stderr",
     "output_type": "stream",
     "text": [
      "INFO:bokeh.io.state:Session output file 'data.html' already exists, will be overwritten.\n"
     ]
    },
    {
     "data": {
      "text/html": [
       "\n",
       "\n",
       "\n",
       "\n",
       "\n",
       "\n",
       "  <div class=\"bk-root\" id=\"bb2a3381-5958-423d-ba45-3a24405066f4\" data-root-id=\"4312\"></div>\n"
      ]
     },
     "metadata": {},
     "output_type": "display_data"
    },
    {
     "data": {
      "application/javascript": [
       "(function(root) {\n",
       "  function embed_document(root) {\n",
       "    \n",
       "  var docs_json = {\"3092eee6-4a21-48eb-9462-c21f040bc3be\":{\"roots\":{\"references\":[{\"attributes\":{\"below\":[{\"id\":\"4323\",\"type\":\"LinearAxis\"}],\"center\":[{\"id\":\"4327\",\"type\":\"Grid\"},{\"id\":\"4332\",\"type\":\"Grid\"},{\"id\":\"4357\",\"type\":\"Legend\"}],\"left\":[{\"id\":\"4328\",\"type\":\"LinearAxis\"}],\"plot_height\":400,\"plot_width\":900,\"renderers\":[{\"id\":\"4349\",\"type\":\"GlyphRenderer\"},{\"id\":\"4362\",\"type\":\"GlyphRenderer\"},{\"id\":\"4367\",\"type\":\"GlyphRenderer\"},{\"id\":\"4383\",\"type\":\"GlyphRenderer\"}],\"title\":{\"id\":\"4313\",\"type\":\"Title\"},\"toolbar\":{\"id\":\"4339\",\"type\":\"Toolbar\"},\"x_range\":{\"id\":\"4315\",\"type\":\"DataRange1d\"},\"x_scale\":{\"id\":\"4319\",\"type\":\"LinearScale\"},\"y_range\":{\"id\":\"4317\",\"type\":\"DataRange1d\"},\"y_scale\":{\"id\":\"4321\",\"type\":\"LinearScale\"}},\"id\":\"4312\",\"subtype\":\"Figure\",\"type\":\"Plot\"},{\"attributes\":{\"fill_color\":{\"value\":\"blue\"},\"line_color\":{\"value\":\"blue\"},\"line_width\":{\"value\":3},\"x\":{\"field\":\"x\"},\"y\":{\"field\":\"y\"}},\"id\":\"4381\",\"type\":\"Circle\"},{\"attributes\":{},\"id\":\"4525\",\"type\":\"UnionRenderers\"},{\"attributes\":{\"callback\":null,\"data\":{\"x\":[2001,2002,2003,2004,2005,2006,2007,2008,2009,2010,2011,2012,2013,2014,2015,2016,2017],\"y\":[59.10207444357071,67.44527107143864,46.28706107545072,45.77496831266765,33.79805885728417,54.274584052215474,57.16975625613291,63.41422135481231,66.07732991986343,68.0486080145007,69.73643076577738,76.28621410347083,82.34338029433856,78.83132852098583,79.67428038697989,84.88400348022604,81.7564251787433]},\"selected\":{\"id\":\"4376\",\"type\":\"Selection\"},\"selection_policy\":{\"id\":\"4375\",\"type\":\"UnionRenderers\"}},\"id\":\"4346\",\"type\":\"ColumnDataSource\"},{\"attributes\":{\"label\":{\"value\":\"LDCs\"},\"renderers\":[{\"id\":\"4349\",\"type\":\"GlyphRenderer\"}]},\"id\":\"4358\",\"type\":\"LegendItem\"},{\"attributes\":{\"ticker\":{\"id\":\"4324\",\"type\":\"BasicTicker\"}},\"id\":\"4327\",\"type\":\"Grid\"},{\"attributes\":{},\"id\":\"4355\",\"type\":\"BasicTickFormatter\"},{\"attributes\":{},\"id\":\"4376\",\"type\":\"Selection\"},{\"attributes\":{\"axis_label\":\"Percentage\",\"formatter\":{\"id\":\"4353\",\"type\":\"BasicTickFormatter\"},\"ticker\":{\"id\":\"4329\",\"type\":\"BasicTicker\"}},\"id\":\"4328\",\"type\":\"LinearAxis\"},{\"attributes\":{\"bottom_units\":\"screen\",\"fill_alpha\":{\"value\":0.5},\"fill_color\":{\"value\":\"lightgrey\"},\"left_units\":\"screen\",\"level\":\"overlay\",\"line_alpha\":{\"value\":1.0},\"line_color\":{\"value\":\"black\"},\"line_dash\":[4,4],\"line_width\":{\"value\":2},\"render_mode\":\"css\",\"right_units\":\"screen\",\"top_units\":\"screen\"},\"id\":\"4356\",\"type\":\"BoxAnnotation\"},{\"attributes\":{},\"id\":\"4329\",\"type\":\"BasicTicker\"},{\"attributes\":{\"items\":[{\"id\":\"4358\",\"type\":\"LegendItem\"},{\"id\":\"4379\",\"type\":\"LegendItem\"}]},\"id\":\"4357\",\"type\":\"Legend\"},{\"attributes\":{},\"id\":\"4377\",\"type\":\"UnionRenderers\"},{\"attributes\":{},\"id\":\"4523\",\"type\":\"UnionRenderers\"},{\"attributes\":{},\"id\":\"4321\",\"type\":\"LinearScale\"},{\"attributes\":{\"source\":{\"id\":\"4346\",\"type\":\"ColumnDataSource\"}},\"id\":\"4350\",\"type\":\"CDSView\"},{\"attributes\":{\"axis_label\":\"Years\",\"formatter\":{\"id\":\"4355\",\"type\":\"BasicTickFormatter\"},\"ticker\":{\"id\":\"4324\",\"type\":\"BasicTicker\"}},\"id\":\"4323\",\"type\":\"LinearAxis\"},{\"attributes\":{},\"id\":\"4524\",\"type\":\"Selection\"},{\"attributes\":{},\"id\":\"4324\",\"type\":\"BasicTicker\"},{\"attributes\":{},\"id\":\"4378\",\"type\":\"Selection\"},{\"attributes\":{},\"id\":\"4353\",\"type\":\"BasicTickFormatter\"},{\"attributes\":{},\"id\":\"4338\",\"type\":\"HelpTool\"},{\"attributes\":{\"callback\":null},\"id\":\"4315\",\"type\":\"DataRange1d\"},{\"attributes\":{\"data_source\":{\"id\":\"4364\",\"type\":\"ColumnDataSource\"},\"glyph\":{\"id\":\"4365\",\"type\":\"Line\"},\"hover_glyph\":null,\"muted_glyph\":null,\"nonselection_glyph\":{\"id\":\"4366\",\"type\":\"Line\"},\"selection_glyph\":null,\"view\":{\"id\":\"4368\",\"type\":\"CDSView\"}},\"id\":\"4367\",\"type\":\"GlyphRenderer\"},{\"attributes\":{\"active_drag\":\"auto\",\"active_inspect\":\"auto\",\"active_multi\":null,\"active_scroll\":\"auto\",\"active_tap\":\"auto\",\"tools\":[{\"id\":\"4333\",\"type\":\"PanTool\"},{\"id\":\"4334\",\"type\":\"WheelZoomTool\"},{\"id\":\"4335\",\"type\":\"BoxZoomTool\"},{\"id\":\"4336\",\"type\":\"SaveTool\"},{\"id\":\"4337\",\"type\":\"ResetTool\"},{\"id\":\"4338\",\"type\":\"HelpTool\"},{\"id\":\"4385\",\"type\":\"HoverTool\"}]},\"id\":\"4339\",\"type\":\"Toolbar\"},{\"attributes\":{\"fill_alpha\":{\"value\":0.1},\"fill_color\":{\"value\":\"#1f77b4\"},\"line_alpha\":{\"value\":0.1},\"line_color\":{\"value\":\"#1f77b4\"},\"line_width\":{\"value\":3},\"x\":{\"field\":\"x\"},\"y\":{\"field\":\"y\"}},\"id\":\"4382\",\"type\":\"Circle\"},{\"attributes\":{\"callback\":null},\"id\":\"4317\",\"type\":\"DataRange1d\"},{\"attributes\":{\"source\":{\"id\":\"4364\",\"type\":\"ColumnDataSource\"}},\"id\":\"4368\",\"type\":\"CDSView\"},{\"attributes\":{},\"id\":\"4319\",\"type\":\"LinearScale\"},{\"attributes\":{},\"id\":\"4375\",\"type\":\"UnionRenderers\"},{\"attributes\":{\"data_source\":{\"id\":\"4346\",\"type\":\"ColumnDataSource\"},\"glyph\":{\"id\":\"4347\",\"type\":\"Line\"},\"hover_glyph\":null,\"muted_glyph\":null,\"nonselection_glyph\":{\"id\":\"4348\",\"type\":\"Line\"},\"selection_glyph\":null,\"view\":{\"id\":\"4350\",\"type\":\"CDSView\"}},\"id\":\"4349\",\"type\":\"GlyphRenderer\"},{\"attributes\":{\"data_source\":{\"id\":\"4380\",\"type\":\"ColumnDataSource\"},\"glyph\":{\"id\":\"4381\",\"type\":\"Circle\"},\"hover_glyph\":null,\"muted_glyph\":null,\"nonselection_glyph\":{\"id\":\"4382\",\"type\":\"Circle\"},\"selection_glyph\":null,\"view\":{\"id\":\"4384\",\"type\":\"CDSView\"}},\"id\":\"4383\",\"type\":\"GlyphRenderer\"},{\"attributes\":{\"overlay\":{\"id\":\"4356\",\"type\":\"BoxAnnotation\"}},\"id\":\"4335\",\"type\":\"BoxZoomTool\"},{\"attributes\":{\"callback\":null,\"data\":{\"x\":[2001,2002,2003,2004,2005,2006,2007,2008,2009,2010,2011,2012,2013,2014,2015,2016,2017],\"y\":[70.09415289105432,91.6001066287305,75.43803695981006,95.83336721353999,82.43828246093037,81.15124202980608,96.11040805393682,86.85906614330486,91.27816403032914,95.79875294621195,86.52637049847507,90.79201280313602,89.77735203026297,93.27009066227772,99.21672065722079,99.33845058757792,90.85673268334824]},\"selected\":{\"id\":\"4524\",\"type\":\"Selection\"},\"selection_policy\":{\"id\":\"4523\",\"type\":\"UnionRenderers\"}},\"id\":\"4364\",\"type\":\"ColumnDataSource\"},{\"attributes\":{},\"id\":\"4336\",\"type\":\"SaveTool\"},{\"attributes\":{\"line_color\":\"blue\",\"line_width\":2,\"x\":{\"field\":\"x\"},\"y\":{\"field\":\"y\"}},\"id\":\"4365\",\"type\":\"Line\"},{\"attributes\":{},\"id\":\"4337\",\"type\":\"ResetTool\"},{\"attributes\":{\"source\":{\"id\":\"4380\",\"type\":\"ColumnDataSource\"}},\"id\":\"4384\",\"type\":\"CDSView\"},{\"attributes\":{\"text\":\"Literacy rate, youth female (% of females ages 15-24) weighted against Population, total\"},\"id\":\"4313\",\"type\":\"Title\"},{\"attributes\":{\"line_alpha\":0.1,\"line_color\":\"#1f77b4\",\"line_width\":2,\"x\":{\"field\":\"x\"},\"y\":{\"field\":\"y\"}},\"id\":\"4366\",\"type\":\"Line\"},{\"attributes\":{},\"id\":\"4526\",\"type\":\"Selection\"},{\"attributes\":{\"callback\":null,\"tooltips\":\"\\n        <div style=padding=5px>Year:@x</div>\\n        <div style=padding=5px>Value:@y</div>\\n        \"},\"id\":\"4385\",\"type\":\"HoverTool\"},{\"attributes\":{\"fill_alpha\":{\"value\":0.1},\"fill_color\":{\"value\":\"#1f77b4\"},\"line_alpha\":{\"value\":0.1},\"line_color\":{\"value\":\"#1f77b4\"},\"line_width\":{\"value\":3},\"x\":{\"field\":\"x\"},\"y\":{\"field\":\"y\"}},\"id\":\"4361\",\"type\":\"Circle\"},{\"attributes\":{\"line_alpha\":0.1,\"line_color\":\"#1f77b4\",\"line_width\":2,\"x\":{\"field\":\"x\"},\"y\":{\"field\":\"y\"}},\"id\":\"4348\",\"type\":\"Line\"},{\"attributes\":{\"label\":{\"value\":\"Developing excluding LDCs\"},\"renderers\":[{\"id\":\"4367\",\"type\":\"GlyphRenderer\"}]},\"id\":\"4379\",\"type\":\"LegendItem\"},{\"attributes\":{},\"id\":\"4333\",\"type\":\"PanTool\"},{\"attributes\":{\"data_source\":{\"id\":\"4359\",\"type\":\"ColumnDataSource\"},\"glyph\":{\"id\":\"4360\",\"type\":\"Circle\"},\"hover_glyph\":null,\"muted_glyph\":null,\"nonselection_glyph\":{\"id\":\"4361\",\"type\":\"Circle\"},\"selection_glyph\":null,\"view\":{\"id\":\"4363\",\"type\":\"CDSView\"}},\"id\":\"4362\",\"type\":\"GlyphRenderer\"},{\"attributes\":{},\"id\":\"4334\",\"type\":\"WheelZoomTool\"},{\"attributes\":{\"source\":{\"id\":\"4359\",\"type\":\"ColumnDataSource\"}},\"id\":\"4363\",\"type\":\"CDSView\"},{\"attributes\":{\"callback\":null,\"data\":{\"x\":[2001,2002,2003,2004,2005,2006,2007,2008,2009,2010,2011,2012,2013,2014,2015,2016,2017],\"y\":[70.09415289105432,91.6001066287305,75.43803695981006,95.83336721353999,82.43828246093037,81.15124202980608,96.11040805393682,86.85906614330486,91.27816403032914,95.79875294621195,86.52637049847507,90.79201280313602,89.77735203026297,93.27009066227772,99.21672065722079,99.33845058757792,90.85673268334824]},\"selected\":{\"id\":\"4526\",\"type\":\"Selection\"},\"selection_policy\":{\"id\":\"4525\",\"type\":\"UnionRenderers\"}},\"id\":\"4380\",\"type\":\"ColumnDataSource\"},{\"attributes\":{\"callback\":null,\"data\":{\"x\":[2001,2002,2003,2004,2005,2006,2007,2008,2009,2010,2011,2012,2013,2014,2015,2016,2017],\"y\":[59.10207444357071,67.44527107143864,46.28706107545072,45.77496831266765,33.79805885728417,54.274584052215474,57.16975625613291,63.41422135481231,66.07732991986343,68.0486080145007,69.73643076577738,76.28621410347083,82.34338029433856,78.83132852098583,79.67428038697989,84.88400348022604,81.7564251787433]},\"selected\":{\"id\":\"4378\",\"type\":\"Selection\"},\"selection_policy\":{\"id\":\"4377\",\"type\":\"UnionRenderers\"}},\"id\":\"4359\",\"type\":\"ColumnDataSource\"},{\"attributes\":{\"dimension\":1,\"ticker\":{\"id\":\"4329\",\"type\":\"BasicTicker\"}},\"id\":\"4332\",\"type\":\"Grid\"},{\"attributes\":{\"fill_color\":{\"value\":\"red\"},\"line_color\":{\"value\":\"red\"},\"line_width\":{\"value\":3},\"x\":{\"field\":\"x\"},\"y\":{\"field\":\"y\"}},\"id\":\"4360\",\"type\":\"Circle\"},{\"attributes\":{\"line_color\":\"red\",\"line_width\":2,\"x\":{\"field\":\"x\"},\"y\":{\"field\":\"y\"}},\"id\":\"4347\",\"type\":\"Line\"}],\"root_ids\":[\"4312\"]},\"title\":\"Bokeh Application\",\"version\":\"1.3.4\"}};\n",
       "  var render_items = [{\"docid\":\"3092eee6-4a21-48eb-9462-c21f040bc3be\",\"roots\":{\"4312\":\"bb2a3381-5958-423d-ba45-3a24405066f4\"}}];\n",
       "  root.Bokeh.embed.embed_items_notebook(docs_json, render_items);\n",
       "\n",
       "  }\n",
       "  if (root.Bokeh !== undefined) {\n",
       "    embed_document(root);\n",
       "  } else {\n",
       "    var attempts = 0;\n",
       "    var timer = setInterval(function(root) {\n",
       "      if (root.Bokeh !== undefined) {\n",
       "        embed_document(root);\n",
       "        clearInterval(timer);\n",
       "      }\n",
       "      attempts++;\n",
       "      if (attempts > 100) {\n",
       "        console.log(\"Bokeh: ERROR: Unable to run BokehJS code because BokehJS library is missing\");\n",
       "        clearInterval(timer);\n",
       "      }\n",
       "    }, 10, root)\n",
       "  }\n",
       "})(window);"
      ],
      "application/vnd.bokehjs_exec.v0+json": ""
     },
     "metadata": {
      "application/vnd.bokehjs_exec.v0+json": {
       "id": "4312"
      }
     },
     "output_type": "display_data"
    }
   ],
   "source": [
    "# Literacy rate, youth female (% of females ages 15-24)\n",
    "show_weighted_average('SE.ADT.1524.LT.FE.ZS', 'SP.POP.TOTL', ['LDCs', 'Developing excluding LDCs'])"
   ]
  },
  {
   "cell_type": "code",
   "execution_count": 35,
   "metadata": {},
   "outputs": [
    {
     "name": "stderr",
     "output_type": "stream",
     "text": [
      "INFO:bokeh.io.state:Session output file 'data.html' already exists, will be overwritten.\n"
     ]
    },
    {
     "data": {
      "text/html": [
       "\n",
       "\n",
       "\n",
       "\n",
       "\n",
       "\n",
       "  <div class=\"bk-root\" id=\"e57ee4d1-e466-4cb8-a0f3-3da64d83cee7\" data-root-id=\"7500\"></div>\n"
      ]
     },
     "metadata": {},
     "output_type": "display_data"
    },
    {
     "data": {
      "application/javascript": [
       "(function(root) {\n",
       "  function embed_document(root) {\n",
       "    \n",
       "  var docs_json = {\"5b129768-d384-410b-8965-0086438a0b1f\":{\"roots\":{\"references\":[{\"attributes\":{\"below\":[{\"id\":\"7511\",\"type\":\"LinearAxis\"}],\"center\":[{\"id\":\"7515\",\"type\":\"Grid\"},{\"id\":\"7520\",\"type\":\"Grid\"},{\"id\":\"7545\",\"type\":\"Legend\"}],\"left\":[{\"id\":\"7516\",\"type\":\"LinearAxis\"}],\"plot_height\":400,\"plot_width\":900,\"renderers\":[{\"id\":\"7537\",\"type\":\"GlyphRenderer\"},{\"id\":\"7550\",\"type\":\"GlyphRenderer\"},{\"id\":\"7555\",\"type\":\"GlyphRenderer\"},{\"id\":\"7571\",\"type\":\"GlyphRenderer\"},{\"id\":\"7576\",\"type\":\"GlyphRenderer\"},{\"id\":\"7596\",\"type\":\"GlyphRenderer\"}],\"title\":{\"id\":\"7501\",\"type\":\"Title\"},\"toolbar\":{\"id\":\"7527\",\"type\":\"Toolbar\"},\"x_range\":{\"id\":\"7503\",\"type\":\"DataRange1d\"},\"x_scale\":{\"id\":\"7507\",\"type\":\"LinearScale\"},\"y_range\":{\"id\":\"7505\",\"type\":\"DataRange1d\"},\"y_scale\":{\"id\":\"7509\",\"type\":\"LinearScale\"}},\"id\":\"7500\",\"subtype\":\"Figure\",\"type\":\"Plot\"},{\"attributes\":{\"data_source\":{\"id\":\"7534\",\"type\":\"ColumnDataSource\"},\"glyph\":{\"id\":\"7535\",\"type\":\"Line\"},\"hover_glyph\":null,\"muted_glyph\":null,\"nonselection_glyph\":{\"id\":\"7536\",\"type\":\"Line\"},\"selection_glyph\":null,\"view\":{\"id\":\"7538\",\"type\":\"CDSView\"}},\"id\":\"7537\",\"type\":\"GlyphRenderer\"},{\"attributes\":{\"data_source\":{\"id\":\"7552\",\"type\":\"ColumnDataSource\"},\"glyph\":{\"id\":\"7553\",\"type\":\"Line\"},\"hover_glyph\":null,\"muted_glyph\":null,\"nonselection_glyph\":{\"id\":\"7554\",\"type\":\"Line\"},\"selection_glyph\":null,\"view\":{\"id\":\"7556\",\"type\":\"CDSView\"}},\"id\":\"7555\",\"type\":\"GlyphRenderer\"},{\"attributes\":{},\"id\":\"7565\",\"type\":\"UnionRenderers\"},{\"attributes\":{\"axis_label\":\"Percentage\",\"formatter\":{\"id\":\"7541\",\"type\":\"BasicTickFormatter\"},\"ticker\":{\"id\":\"7517\",\"type\":\"BasicTicker\"}},\"id\":\"7516\",\"type\":\"LinearAxis\"},{\"attributes\":{\"fill_color\":{\"value\":\"red\"},\"line_color\":{\"value\":\"red\"},\"line_width\":{\"value\":3},\"x\":{\"field\":\"x\"},\"y\":{\"field\":\"y\"}},\"id\":\"7548\",\"type\":\"Circle\"},{\"attributes\":{},\"id\":\"7831\",\"type\":\"Selection\"},{\"attributes\":{\"source\":{\"id\":\"7568\",\"type\":\"ColumnDataSource\"}},\"id\":\"7572\",\"type\":\"CDSView\"},{\"attributes\":{\"callback\":null,\"data\":{\"x\":[2010,2011,2012,2013,2014,2015,2016,2017],\"y\":[28.08658188245818,27.93490828566148,27.777396634729463,27.61981254005661,27.466312124254276,27.317154578141448,27.1805791999314,27.043354960933396]},\"selected\":{\"id\":\"7831\",\"type\":\"Selection\"},\"selection_policy\":{\"id\":\"7830\",\"type\":\"UnionRenderers\"}},\"id\":\"7573\",\"type\":\"ColumnDataSource\"},{\"attributes\":{\"data_source\":{\"id\":\"7593\",\"type\":\"ColumnDataSource\"},\"glyph\":{\"id\":\"7594\",\"type\":\"Circle\"},\"hover_glyph\":null,\"muted_glyph\":null,\"nonselection_glyph\":{\"id\":\"7595\",\"type\":\"Circle\"},\"selection_glyph\":null,\"view\":{\"id\":\"7597\",\"type\":\"CDSView\"}},\"id\":\"7596\",\"type\":\"GlyphRenderer\"},{\"attributes\":{},\"id\":\"7507\",\"type\":\"LinearScale\"},{\"attributes\":{},\"id\":\"7832\",\"type\":\"UnionRenderers\"},{\"attributes\":{\"line_color\":\"blue\",\"line_width\":2,\"x\":{\"field\":\"x\"},\"y\":{\"field\":\"y\"}},\"id\":\"7553\",\"type\":\"Line\"},{\"attributes\":{\"line_alpha\":0.1,\"line_color\":\"#1f77b4\",\"line_width\":2,\"x\":{\"field\":\"x\"},\"y\":{\"field\":\"y\"}},\"id\":\"7536\",\"type\":\"Line\"},{\"attributes\":{\"overlay\":{\"id\":\"7544\",\"type\":\"BoxAnnotation\"}},\"id\":\"7523\",\"type\":\"BoxZoomTool\"},{\"attributes\":{},\"id\":\"7522\",\"type\":\"WheelZoomTool\"},{\"attributes\":{},\"id\":\"7588\",\"type\":\"UnionRenderers\"},{\"attributes\":{\"fill_alpha\":{\"value\":0.1},\"fill_color\":{\"value\":\"#1f77b4\"},\"line_alpha\":{\"value\":0.1},\"line_color\":{\"value\":\"#1f77b4\"},\"line_width\":{\"value\":3},\"x\":{\"field\":\"x\"},\"y\":{\"field\":\"y\"}},\"id\":\"7549\",\"type\":\"Circle\"},{\"attributes\":{\"line_alpha\":0.1,\"line_color\":\"#1f77b4\",\"line_width\":2,\"x\":{\"field\":\"x\"},\"y\":{\"field\":\"y\"}},\"id\":\"7554\",\"type\":\"Line\"},{\"attributes\":{},\"id\":\"7564\",\"type\":\"Selection\"},{\"attributes\":{\"active_drag\":\"auto\",\"active_inspect\":\"auto\",\"active_multi\":null,\"active_scroll\":\"auto\",\"active_tap\":\"auto\",\"tools\":[{\"id\":\"7521\",\"type\":\"PanTool\"},{\"id\":\"7522\",\"type\":\"WheelZoomTool\"},{\"id\":\"7523\",\"type\":\"BoxZoomTool\"},{\"id\":\"7524\",\"type\":\"SaveTool\"},{\"id\":\"7525\",\"type\":\"ResetTool\"},{\"id\":\"7526\",\"type\":\"HelpTool\"},{\"id\":\"7598\",\"type\":\"HoverTool\"}]},\"id\":\"7527\",\"type\":\"Toolbar\"},{\"attributes\":{\"source\":{\"id\":\"7593\",\"type\":\"ColumnDataSource\"}},\"id\":\"7597\",\"type\":\"CDSView\"},{\"attributes\":{},\"id\":\"7833\",\"type\":\"Selection\"},{\"attributes\":{},\"id\":\"7517\",\"type\":\"BasicTicker\"},{\"attributes\":{\"label\":{\"value\":\"Developing excluding LDCs\"},\"renderers\":[{\"id\":\"7555\",\"type\":\"GlyphRenderer\"}]},\"id\":\"7567\",\"type\":\"LegendItem\"},{\"attributes\":{\"line_color\":\"green\",\"line_width\":2,\"x\":{\"field\":\"x\"},\"y\":{\"field\":\"y\"}},\"id\":\"7574\",\"type\":\"Line\"},{\"attributes\":{},\"id\":\"7524\",\"type\":\"SaveTool\"},{\"attributes\":{\"bottom_units\":\"screen\",\"fill_alpha\":{\"value\":0.5},\"fill_color\":{\"value\":\"lightgrey\"},\"left_units\":\"screen\",\"level\":\"overlay\",\"line_alpha\":{\"value\":1.0},\"line_color\":{\"value\":\"black\"},\"line_dash\":[4,4],\"line_width\":{\"value\":2},\"render_mode\":\"css\",\"right_units\":\"screen\",\"top_units\":\"screen\"},\"id\":\"7544\",\"type\":\"BoxAnnotation\"},{\"attributes\":{\"ticker\":{\"id\":\"7512\",\"type\":\"BasicTicker\"}},\"id\":\"7515\",\"type\":\"Grid\"},{\"attributes\":{},\"id\":\"7512\",\"type\":\"BasicTicker\"},{\"attributes\":{\"data_source\":{\"id\":\"7547\",\"type\":\"ColumnDataSource\"},\"glyph\":{\"id\":\"7548\",\"type\":\"Circle\"},\"hover_glyph\":null,\"muted_glyph\":null,\"nonselection_glyph\":{\"id\":\"7549\",\"type\":\"Circle\"},\"selection_glyph\":null,\"view\":{\"id\":\"7551\",\"type\":\"CDSView\"}},\"id\":\"7550\",\"type\":\"GlyphRenderer\"},{\"attributes\":{},\"id\":\"7590\",\"type\":\"UnionRenderers\"},{\"attributes\":{\"callback\":null},\"id\":\"7505\",\"type\":\"DataRange1d\"},{\"attributes\":{\"label\":{\"value\":\"BRICs\"},\"renderers\":[{\"id\":\"7576\",\"type\":\"GlyphRenderer\"}]},\"id\":\"7592\",\"type\":\"LegendItem\"},{\"attributes\":{\"callback\":null,\"tooltips\":\"\\n        <div style=padding=5px>Year:@x</div>\\n        <div style=padding=5px>Value:@y</div>\\n        \"},\"id\":\"7598\",\"type\":\"HoverTool\"},{\"attributes\":{\"items\":[{\"id\":\"7546\",\"type\":\"LegendItem\"},{\"id\":\"7567\",\"type\":\"LegendItem\"},{\"id\":\"7592\",\"type\":\"LegendItem\"}]},\"id\":\"7545\",\"type\":\"Legend\"},{\"attributes\":{\"callback\":null,\"data\":{\"x\":[2010,2011,2012,2013,2014,2015,2016,2017],\"y\":[27.302294757124095,27.062004245098024,26.81707494686417,26.571303888699866,26.33248478028756,26.10246731610828,25.8848724370551,25.670861481196635]},\"selected\":{\"id\":\"7591\",\"type\":\"Selection\"},\"selection_policy\":{\"id\":\"7590\",\"type\":\"UnionRenderers\"}},\"id\":\"7568\",\"type\":\"ColumnDataSource\"},{\"attributes\":{\"dimension\":1,\"ticker\":{\"id\":\"7517\",\"type\":\"BasicTicker\"}},\"id\":\"7520\",\"type\":\"Grid\"},{\"attributes\":{},\"id\":\"7525\",\"type\":\"ResetTool\"},{\"attributes\":{\"line_alpha\":0.1,\"line_color\":\"#1f77b4\",\"line_width\":2,\"x\":{\"field\":\"x\"},\"y\":{\"field\":\"y\"}},\"id\":\"7575\",\"type\":\"Line\"},{\"attributes\":{\"source\":{\"id\":\"7547\",\"type\":\"ColumnDataSource\"}},\"id\":\"7551\",\"type\":\"CDSView\"},{\"attributes\":{},\"id\":\"7563\",\"type\":\"UnionRenderers\"},{\"attributes\":{\"label\":{\"value\":\"LDCs\"},\"renderers\":[{\"id\":\"7537\",\"type\":\"GlyphRenderer\"}]},\"id\":\"7546\",\"type\":\"LegendItem\"},{\"attributes\":{},\"id\":\"7589\",\"type\":\"Selection\"},{\"attributes\":{},\"id\":\"7830\",\"type\":\"UnionRenderers\"},{\"attributes\":{\"fill_color\":{\"value\":\"blue\"},\"line_color\":{\"value\":\"blue\"},\"line_width\":{\"value\":3},\"x\":{\"field\":\"x\"},\"y\":{\"field\":\"y\"}},\"id\":\"7569\",\"type\":\"Circle\"},{\"attributes\":{\"fill_alpha\":{\"value\":0.1},\"fill_color\":{\"value\":\"#1f77b4\"},\"line_alpha\":{\"value\":0.1},\"line_color\":{\"value\":\"#1f77b4\"},\"line_width\":{\"value\":3},\"x\":{\"field\":\"x\"},\"y\":{\"field\":\"y\"}},\"id\":\"7570\",\"type\":\"Circle\"},{\"attributes\":{\"callback\":null},\"id\":\"7503\",\"type\":\"DataRange1d\"},{\"attributes\":{\"axis_label\":\"Years\",\"formatter\":{\"id\":\"7543\",\"type\":\"BasicTickFormatter\"},\"ticker\":{\"id\":\"7512\",\"type\":\"BasicTicker\"}},\"id\":\"7511\",\"type\":\"LinearAxis\"},{\"attributes\":{\"callback\":null,\"data\":{\"x\":[2010,2011,2012,2013,2014,2015,2016,2017],\"y\":[27.302294757124095,27.062004245098024,26.81707494686417,26.571303888699866,26.33248478028756,26.10246731610828,25.8848724370551,25.670861481196635]},\"selected\":{\"id\":\"7589\",\"type\":\"Selection\"},\"selection_policy\":{\"id\":\"7588\",\"type\":\"UnionRenderers\"}},\"id\":\"7552\",\"type\":\"ColumnDataSource\"},{\"attributes\":{},\"id\":\"7541\",\"type\":\"BasicTickFormatter\"},{\"attributes\":{\"callback\":null,\"data\":{\"x\":[2010,2011,2012,2013,2014,2015,2016,2017],\"y\":[28.08658188245818,27.93490828566148,27.777396634729463,27.61981254005661,27.466312124254276,27.317154578141448,27.1805791999314,27.043354960933396]},\"selected\":{\"id\":\"7833\",\"type\":\"Selection\"},\"selection_policy\":{\"id\":\"7832\",\"type\":\"UnionRenderers\"}},\"id\":\"7593\",\"type\":\"ColumnDataSource\"},{\"attributes\":{\"source\":{\"id\":\"7534\",\"type\":\"ColumnDataSource\"}},\"id\":\"7538\",\"type\":\"CDSView\"},{\"attributes\":{\"data_source\":{\"id\":\"7573\",\"type\":\"ColumnDataSource\"},\"glyph\":{\"id\":\"7574\",\"type\":\"Line\"},\"hover_glyph\":null,\"muted_glyph\":null,\"nonselection_glyph\":{\"id\":\"7575\",\"type\":\"Line\"},\"selection_glyph\":null,\"view\":{\"id\":\"7577\",\"type\":\"CDSView\"}},\"id\":\"7576\",\"type\":\"GlyphRenderer\"},{\"attributes\":{\"callback\":null,\"data\":{\"x\":[2010,2011,2012,2013,2014,2015,2016,2017],\"y\":[41.49082505943999,41.29066020511194,41.06737328423549,40.819736905133695,40.55543302226043,40.27763880852747,40.006149187520116,39.721083369953]},\"selected\":{\"id\":\"7564\",\"type\":\"Selection\"},\"selection_policy\":{\"id\":\"7563\",\"type\":\"UnionRenderers\"}},\"id\":\"7534\",\"type\":\"ColumnDataSource\"},{\"attributes\":{\"source\":{\"id\":\"7552\",\"type\":\"ColumnDataSource\"}},\"id\":\"7556\",\"type\":\"CDSView\"},{\"attributes\":{\"source\":{\"id\":\"7573\",\"type\":\"ColumnDataSource\"}},\"id\":\"7577\",\"type\":\"CDSView\"},{\"attributes\":{\"line_color\":\"red\",\"line_width\":2,\"x\":{\"field\":\"x\"},\"y\":{\"field\":\"y\"}},\"id\":\"7535\",\"type\":\"Line\"},{\"attributes\":{\"fill_color\":{\"value\":\"green\"},\"line_color\":{\"value\":\"green\"},\"line_width\":{\"value\":3},\"x\":{\"field\":\"x\"},\"y\":{\"field\":\"y\"}},\"id\":\"7594\",\"type\":\"Circle\"},{\"attributes\":{\"data_source\":{\"id\":\"7568\",\"type\":\"ColumnDataSource\"},\"glyph\":{\"id\":\"7569\",\"type\":\"Circle\"},\"hover_glyph\":null,\"muted_glyph\":null,\"nonselection_glyph\":{\"id\":\"7570\",\"type\":\"Circle\"},\"selection_glyph\":null,\"view\":{\"id\":\"7572\",\"type\":\"CDSView\"}},\"id\":\"7571\",\"type\":\"GlyphRenderer\"},{\"attributes\":{\"text\":\"Population ages 0-14 (% of total population) weighted against Population, total\"},\"id\":\"7501\",\"type\":\"Title\"},{\"attributes\":{},\"id\":\"7566\",\"type\":\"Selection\"},{\"attributes\":{},\"id\":\"7509\",\"type\":\"LinearScale\"},{\"attributes\":{\"callback\":null,\"data\":{\"x\":[2010,2011,2012,2013,2014,2015,2016,2017],\"y\":[41.49082505943999,41.29066020511194,41.06737328423549,40.819736905133695,40.55543302226043,40.27763880852747,40.006149187520116,39.721083369953]},\"selected\":{\"id\":\"7566\",\"type\":\"Selection\"},\"selection_policy\":{\"id\":\"7565\",\"type\":\"UnionRenderers\"}},\"id\":\"7547\",\"type\":\"ColumnDataSource\"},{\"attributes\":{},\"id\":\"7543\",\"type\":\"BasicTickFormatter\"},{\"attributes\":{},\"id\":\"7526\",\"type\":\"HelpTool\"},{\"attributes\":{\"fill_alpha\":{\"value\":0.1},\"fill_color\":{\"value\":\"#1f77b4\"},\"line_alpha\":{\"value\":0.1},\"line_color\":{\"value\":\"#1f77b4\"},\"line_width\":{\"value\":3},\"x\":{\"field\":\"x\"},\"y\":{\"field\":\"y\"}},\"id\":\"7595\",\"type\":\"Circle\"},{\"attributes\":{},\"id\":\"7591\",\"type\":\"Selection\"},{\"attributes\":{},\"id\":\"7521\",\"type\":\"PanTool\"}],\"root_ids\":[\"7500\"]},\"title\":\"Bokeh Application\",\"version\":\"1.3.4\"}};\n",
       "  var render_items = [{\"docid\":\"5b129768-d384-410b-8965-0086438a0b1f\",\"roots\":{\"7500\":\"e57ee4d1-e466-4cb8-a0f3-3da64d83cee7\"}}];\n",
       "  root.Bokeh.embed.embed_items_notebook(docs_json, render_items);\n",
       "\n",
       "  }\n",
       "  if (root.Bokeh !== undefined) {\n",
       "    embed_document(root);\n",
       "  } else {\n",
       "    var attempts = 0;\n",
       "    var timer = setInterval(function(root) {\n",
       "      if (root.Bokeh !== undefined) {\n",
       "        embed_document(root);\n",
       "        clearInterval(timer);\n",
       "      }\n",
       "      attempts++;\n",
       "      if (attempts > 100) {\n",
       "        console.log(\"Bokeh: ERROR: Unable to run BokehJS code because BokehJS library is missing\");\n",
       "        clearInterval(timer);\n",
       "      }\n",
       "    }, 10, root)\n",
       "  }\n",
       "})(window);"
      ],
      "application/vnd.bokehjs_exec.v0+json": ""
     },
     "metadata": {
      "application/vnd.bokehjs_exec.v0+json": {
       "id": "7500"
      }
     },
     "output_type": "display_data"
    }
   ],
   "source": [
    "# Literacy rate, youth female (% of females ages 15-24)\n",
    "show_weighted_average('SP.POP.0014.TO.ZS', 'SP.POP.TOTL', ['LDCs', 'Developing excluding LDCs', 'OECD'])"
   ]
  },
  {
   "cell_type": "code",
   "execution_count": 40,
   "metadata": {},
   "outputs": [
    {
     "name": "stderr",
     "output_type": "stream",
     "text": [
      "INFO:bokeh.io.state:Session output file 'data.html' already exists, will be overwritten.\n"
     ]
    },
    {
     "data": {
      "text/html": [
       "\n",
       "\n",
       "\n",
       "\n",
       "\n",
       "\n",
       "  <div class=\"bk-root\" id=\"3385a7d6-41a7-410a-9dbb-822a8d732b33\" data-root-id=\"10423\"></div>\n"
      ]
     },
     "metadata": {},
     "output_type": "display_data"
    },
    {
     "data": {
      "application/javascript": [
       "(function(root) {\n",
       "  function embed_document(root) {\n",
       "    \n",
       "  var docs_json = {\"38bec979-282f-4725-9773-fe2db3eda94e\":{\"roots\":{\"references\":[{\"attributes\":{\"below\":[{\"id\":\"10434\",\"type\":\"LinearAxis\"}],\"center\":[{\"id\":\"10438\",\"type\":\"Grid\"},{\"id\":\"10443\",\"type\":\"Grid\"},{\"id\":\"10468\",\"type\":\"Legend\"}],\"left\":[{\"id\":\"10439\",\"type\":\"LinearAxis\"}],\"plot_height\":400,\"plot_width\":900,\"renderers\":[{\"id\":\"10460\",\"type\":\"GlyphRenderer\"},{\"id\":\"10473\",\"type\":\"GlyphRenderer\"}],\"title\":{\"id\":\"10424\",\"type\":\"Title\"},\"toolbar\":{\"id\":\"10450\",\"type\":\"Toolbar\"},\"x_range\":{\"id\":\"10426\",\"type\":\"DataRange1d\"},\"x_scale\":{\"id\":\"10430\",\"type\":\"LinearScale\"},\"y_range\":{\"id\":\"10428\",\"type\":\"DataRange1d\"},\"y_scale\":{\"id\":\"10432\",\"type\":\"LinearScale\"}},\"id\":\"10423\",\"subtype\":\"Figure\",\"type\":\"Plot\"},{\"attributes\":{\"dimension\":1,\"ticker\":{\"id\":\"10440\",\"type\":\"BasicTicker\"}},\"id\":\"10443\",\"type\":\"Grid\"},{\"attributes\":{\"callback\":null,\"data\":{\"x\":[1960,1961,1962,1963,1964,1965,1966,1967,1968,1969,1970,1971,1972,1973,1974,1975,1976,1977,1978,1979,1980,1981,1982,1983,1984,1985,1986,1987,1988,1989,1990,1991,1992,1993,1994,1995,1996,1997,1998,1999,2000,2001,2002,2003,2004,2005,2006,2007,2008,2009,2010,2011,2012,2013,2014,2015,2016,2017],\"y\":[240518433.0,246113640.0,251900741.0,257908074.0,264174179.0,270720892.0,277573029.0,284708409.0,292045744.0,299473256.0,306916896.0,314344629.0,321797581.0,329357353.0,337142681.0,345242710.0,353691338.0,362475112.0,371577256.0,380963304.0,390612563.0,400528924.0,410740611.0,421279107.0,432185325.0,443491288.0,455193656.0,467290514.0,479814021.0,492803028.0,506275612.0,520262423.0,534731006.0,549559264.0,564581083.0,579681672.0,594801259.0,609983301.0,625342098.0,641046802.0,657215864.0,673903112.0,691061397.0,708587948.0,726331177.0,744190510.0,762132501.0,780219542.0,798563392.0,817322629.0,836614860.0,856472234.0,873619764.0,894516028.0,915914952.0,937788499.0,960134718.0,982952189.0]},\"selected\":{\"id\":\"10774\",\"type\":\"Selection\"},\"selection_policy\":{\"id\":\"10773\",\"type\":\"UnionRenderers\"}},\"id\":\"10457\",\"type\":\"ColumnDataSource\"},{\"attributes\":{},\"id\":\"10435\",\"type\":\"BasicTicker\"},{\"attributes\":{},\"id\":\"10774\",\"type\":\"Selection\"},{\"attributes\":{\"active_drag\":\"auto\",\"active_inspect\":\"auto\",\"active_multi\":null,\"active_scroll\":\"auto\",\"active_tap\":\"auto\",\"tools\":[{\"id\":\"10444\",\"type\":\"PanTool\"},{\"id\":\"10445\",\"type\":\"WheelZoomTool\"},{\"id\":\"10446\",\"type\":\"BoxZoomTool\"},{\"id\":\"10447\",\"type\":\"SaveTool\"},{\"id\":\"10448\",\"type\":\"ResetTool\"},{\"id\":\"10449\",\"type\":\"HelpTool\"},{\"id\":\"10475\",\"type\":\"HoverTool\"}]},\"id\":\"10450\",\"type\":\"Toolbar\"},{\"attributes\":{\"data_source\":{\"id\":\"10470\",\"type\":\"ColumnDataSource\"},\"glyph\":{\"id\":\"10471\",\"type\":\"Circle\"},\"hover_glyph\":null,\"muted_glyph\":null,\"nonselection_glyph\":{\"id\":\"10472\",\"type\":\"Circle\"},\"selection_glyph\":null,\"view\":{\"id\":\"10474\",\"type\":\"CDSView\"}},\"id\":\"10473\",\"type\":\"GlyphRenderer\"},{\"attributes\":{},\"id\":\"10447\",\"type\":\"SaveTool\"},{\"attributes\":{},\"id\":\"10773\",\"type\":\"UnionRenderers\"},{\"attributes\":{\"line_alpha\":0.1,\"line_color\":\"#1f77b4\",\"line_width\":2,\"x\":{\"field\":\"x\"},\"y\":{\"field\":\"y\"}},\"id\":\"10459\",\"type\":\"Line\"},{\"attributes\":{\"data_source\":{\"id\":\"10457\",\"type\":\"ColumnDataSource\"},\"glyph\":{\"id\":\"10458\",\"type\":\"Line\"},\"hover_glyph\":null,\"muted_glyph\":null,\"nonselection_glyph\":{\"id\":\"10459\",\"type\":\"Line\"},\"selection_glyph\":null,\"view\":{\"id\":\"10461\",\"type\":\"CDSView\"}},\"id\":\"10460\",\"type\":\"GlyphRenderer\"},{\"attributes\":{\"label\":{\"value\":\"LDCs\"},\"renderers\":[{\"id\":\"10460\",\"type\":\"GlyphRenderer\"}]},\"id\":\"10469\",\"type\":\"LegendItem\"},{\"attributes\":{},\"id\":\"10775\",\"type\":\"UnionRenderers\"},{\"attributes\":{\"text\":\"Population, total\"},\"id\":\"10424\",\"type\":\"Title\"},{\"attributes\":{\"fill_alpha\":{\"value\":0.1},\"fill_color\":{\"value\":\"#1f77b4\"},\"line_alpha\":{\"value\":0.1},\"line_color\":{\"value\":\"#1f77b4\"},\"line_width\":{\"value\":3},\"x\":{\"field\":\"x\"},\"y\":{\"field\":\"y\"}},\"id\":\"10472\",\"type\":\"Circle\"},{\"attributes\":{\"overlay\":{\"id\":\"10467\",\"type\":\"BoxAnnotation\"}},\"id\":\"10446\",\"type\":\"BoxZoomTool\"},{\"attributes\":{},\"id\":\"10444\",\"type\":\"PanTool\"},{\"attributes\":{\"line_color\":\"red\",\"line_width\":2,\"x\":{\"field\":\"x\"},\"y\":{\"field\":\"y\"}},\"id\":\"10458\",\"type\":\"Line\"},{\"attributes\":{},\"id\":\"10448\",\"type\":\"ResetTool\"},{\"attributes\":{\"source\":{\"id\":\"10457\",\"type\":\"ColumnDataSource\"}},\"id\":\"10461\",\"type\":\"CDSView\"},{\"attributes\":{\"callback\":null},\"id\":\"10426\",\"type\":\"DataRange1d\"},{\"attributes\":{\"items\":[{\"id\":\"10469\",\"type\":\"LegendItem\"}]},\"id\":\"10468\",\"type\":\"Legend\"},{\"attributes\":{},\"id\":\"10776\",\"type\":\"Selection\"},{\"attributes\":{\"fill_color\":{\"value\":\"red\"},\"line_color\":{\"value\":\"red\"},\"line_width\":{\"value\":3},\"x\":{\"field\":\"x\"},\"y\":{\"field\":\"y\"}},\"id\":\"10471\",\"type\":\"Circle\"},{\"attributes\":{},\"id\":\"10466\",\"type\":\"BasicTickFormatter\"},{\"attributes\":{\"axis_label\":\"Years\",\"formatter\":{\"id\":\"10466\",\"type\":\"BasicTickFormatter\"},\"ticker\":{\"id\":\"10435\",\"type\":\"BasicTicker\"}},\"id\":\"10434\",\"type\":\"LinearAxis\"},{\"attributes\":{\"ticker\":{\"id\":\"10435\",\"type\":\"BasicTicker\"}},\"id\":\"10438\",\"type\":\"Grid\"},{\"attributes\":{},\"id\":\"10449\",\"type\":\"HelpTool\"},{\"attributes\":{\"axis_label\":\"Percentage\",\"formatter\":{\"id\":\"10464\",\"type\":\"BasicTickFormatter\"},\"ticker\":{\"id\":\"10440\",\"type\":\"BasicTicker\"}},\"id\":\"10439\",\"type\":\"LinearAxis\"},{\"attributes\":{},\"id\":\"10445\",\"type\":\"WheelZoomTool\"},{\"attributes\":{\"callback\":null,\"data\":{\"x\":[1960,1961,1962,1963,1964,1965,1966,1967,1968,1969,1970,1971,1972,1973,1974,1975,1976,1977,1978,1979,1980,1981,1982,1983,1984,1985,1986,1987,1988,1989,1990,1991,1992,1993,1994,1995,1996,1997,1998,1999,2000,2001,2002,2003,2004,2005,2006,2007,2008,2009,2010,2011,2012,2013,2014,2015,2016,2017],\"y\":[240518433.0,246113640.0,251900741.0,257908074.0,264174179.0,270720892.0,277573029.0,284708409.0,292045744.0,299473256.0,306916896.0,314344629.0,321797581.0,329357353.0,337142681.0,345242710.0,353691338.0,362475112.0,371577256.0,380963304.0,390612563.0,400528924.0,410740611.0,421279107.0,432185325.0,443491288.0,455193656.0,467290514.0,479814021.0,492803028.0,506275612.0,520262423.0,534731006.0,549559264.0,564581083.0,579681672.0,594801259.0,609983301.0,625342098.0,641046802.0,657215864.0,673903112.0,691061397.0,708587948.0,726331177.0,744190510.0,762132501.0,780219542.0,798563392.0,817322629.0,836614860.0,856472234.0,873619764.0,894516028.0,915914952.0,937788499.0,960134718.0,982952189.0]},\"selected\":{\"id\":\"10776\",\"type\":\"Selection\"},\"selection_policy\":{\"id\":\"10775\",\"type\":\"UnionRenderers\"}},\"id\":\"10470\",\"type\":\"ColumnDataSource\"},{\"attributes\":{\"bottom_units\":\"screen\",\"fill_alpha\":{\"value\":0.5},\"fill_color\":{\"value\":\"lightgrey\"},\"left_units\":\"screen\",\"level\":\"overlay\",\"line_alpha\":{\"value\":1.0},\"line_color\":{\"value\":\"black\"},\"line_dash\":[4,4],\"line_width\":{\"value\":2},\"render_mode\":\"css\",\"right_units\":\"screen\",\"top_units\":\"screen\"},\"id\":\"10467\",\"type\":\"BoxAnnotation\"},{\"attributes\":{},\"id\":\"10432\",\"type\":\"LinearScale\"},{\"attributes\":{},\"id\":\"10440\",\"type\":\"BasicTicker\"},{\"attributes\":{\"source\":{\"id\":\"10470\",\"type\":\"ColumnDataSource\"}},\"id\":\"10474\",\"type\":\"CDSView\"},{\"attributes\":{\"callback\":null},\"id\":\"10428\",\"type\":\"DataRange1d\"},{\"attributes\":{\"callback\":null,\"tooltips\":\"\\n        <div style=padding=5px>Year:@x</div>\\n        <div style=padding=5px>Value:@y</div>\\n        \"},\"id\":\"10475\",\"type\":\"HoverTool\"},{\"attributes\":{},\"id\":\"10430\",\"type\":\"LinearScale\"},{\"attributes\":{},\"id\":\"10464\",\"type\":\"BasicTickFormatter\"}],\"root_ids\":[\"10423\"]},\"title\":\"Bokeh Application\",\"version\":\"1.3.4\"}};\n",
       "  var render_items = [{\"docid\":\"38bec979-282f-4725-9773-fe2db3eda94e\",\"roots\":{\"10423\":\"3385a7d6-41a7-410a-9dbb-822a8d732b33\"}}];\n",
       "  root.Bokeh.embed.embed_items_notebook(docs_json, render_items);\n",
       "\n",
       "  }\n",
       "  if (root.Bokeh !== undefined) {\n",
       "    embed_document(root);\n",
       "  } else {\n",
       "    var attempts = 0;\n",
       "    var timer = setInterval(function(root) {\n",
       "      if (root.Bokeh !== undefined) {\n",
       "        embed_document(root);\n",
       "        clearInterval(timer);\n",
       "      }\n",
       "      attempts++;\n",
       "      if (attempts > 100) {\n",
       "        console.log(\"Bokeh: ERROR: Unable to run BokehJS code because BokehJS library is missing\");\n",
       "        clearInterval(timer);\n",
       "      }\n",
       "    }, 10, root)\n",
       "  }\n",
       "})(window);"
      ],
      "application/vnd.bokehjs_exec.v0+json": ""
     },
     "metadata": {
      "application/vnd.bokehjs_exec.v0+json": {
       "id": "10423"
      }
     },
     "output_type": "display_data"
    }
   ],
   "source": [
    "years = list(range(1960,2018))\n",
    "show_group_total('SP.POP.TOTL', ['LDCs'])"
   ]
  },
  {
   "cell_type": "code",
   "execution_count": 28,
   "metadata": {},
   "outputs": [],
   "source": [
    "data_group = get_data_table(years, 'SP.POP.TOTL', [['LDCs']])"
   ]
  },
  {
   "cell_type": "code",
   "execution_count": null,
   "metadata": {},
   "outputs": [],
   "source": []
  }
 ],
 "metadata": {
  "kernelspec": {
   "display_name": "Python 3",
   "language": "python",
   "name": "python3"
  },
  "language_info": {
   "codemirror_mode": {
    "name": "ipython",
    "version": 3
   },
   "file_extension": ".py",
   "mimetype": "text/x-python",
   "name": "python",
   "nbconvert_exporter": "python",
   "pygments_lexer": "ipython3",
   "version": "3.7.1"
  }
 },
 "nbformat": 4,
 "nbformat_minor": 2
}
