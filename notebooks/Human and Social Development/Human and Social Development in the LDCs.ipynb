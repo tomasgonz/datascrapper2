{
 "cells": [
  {
   "cell_type": "code",
   "execution_count": 1,
   "metadata": {
    "ExecuteTime": {
     "end_time": "2019-10-25T14:23:46.481587Z",
     "start_time": "2019-10-25T14:23:45.039173Z"
    },
    "slideshow": {
     "slide_type": "skip"
    }
   },
   "outputs": [
    {
     "data": {
      "text/html": [
       "\n",
       "    <div class=\"bk-root\">\n",
       "        <a href=\"https://bokeh.pydata.org\" target=\"_blank\" class=\"bk-logo bk-logo-small bk-logo-notebook\"></a>\n",
       "        <span id=\"1001\">Loading BokehJS ...</span>\n",
       "    </div>"
      ]
     },
     "metadata": {},
     "output_type": "display_data"
    },
    {
     "data": {
      "application/javascript": [
       "\n",
       "(function(root) {\n",
       "  function now() {\n",
       "    return new Date();\n",
       "  }\n",
       "\n",
       "  var force = true;\n",
       "\n",
       "  if (typeof root._bokeh_onload_callbacks === \"undefined\" || force === true) {\n",
       "    root._bokeh_onload_callbacks = [];\n",
       "    root._bokeh_is_loading = undefined;\n",
       "  }\n",
       "\n",
       "  var JS_MIME_TYPE = 'application/javascript';\n",
       "  var HTML_MIME_TYPE = 'text/html';\n",
       "  var EXEC_MIME_TYPE = 'application/vnd.bokehjs_exec.v0+json';\n",
       "  var CLASS_NAME = 'output_bokeh rendered_html';\n",
       "\n",
       "  /**\n",
       "   * Render data to the DOM node\n",
       "   */\n",
       "  function render(props, node) {\n",
       "    var script = document.createElement(\"script\");\n",
       "    node.appendChild(script);\n",
       "  }\n",
       "\n",
       "  /**\n",
       "   * Handle when an output is cleared or removed\n",
       "   */\n",
       "  function handleClearOutput(event, handle) {\n",
       "    var cell = handle.cell;\n",
       "\n",
       "    var id = cell.output_area._bokeh_element_id;\n",
       "    var server_id = cell.output_area._bokeh_server_id;\n",
       "    // Clean up Bokeh references\n",
       "    if (id != null && id in Bokeh.index) {\n",
       "      Bokeh.index[id].model.document.clear();\n",
       "      delete Bokeh.index[id];\n",
       "    }\n",
       "\n",
       "    if (server_id !== undefined) {\n",
       "      // Clean up Bokeh references\n",
       "      var cmd = \"from bokeh.io.state import curstate; print(curstate().uuid_to_server['\" + server_id + \"'].get_sessions()[0].document.roots[0]._id)\";\n",
       "      cell.notebook.kernel.execute(cmd, {\n",
       "        iopub: {\n",
       "          output: function(msg) {\n",
       "            var id = msg.content.text.trim();\n",
       "            if (id in Bokeh.index) {\n",
       "              Bokeh.index[id].model.document.clear();\n",
       "              delete Bokeh.index[id];\n",
       "            }\n",
       "          }\n",
       "        }\n",
       "      });\n",
       "      // Destroy server and session\n",
       "      var cmd = \"import bokeh.io.notebook as ion; ion.destroy_server('\" + server_id + \"')\";\n",
       "      cell.notebook.kernel.execute(cmd);\n",
       "    }\n",
       "  }\n",
       "\n",
       "  /**\n",
       "   * Handle when a new output is added\n",
       "   */\n",
       "  function handleAddOutput(event, handle) {\n",
       "    var output_area = handle.output_area;\n",
       "    var output = handle.output;\n",
       "\n",
       "    // limit handleAddOutput to display_data with EXEC_MIME_TYPE content only\n",
       "    if ((output.output_type != \"display_data\") || (!output.data.hasOwnProperty(EXEC_MIME_TYPE))) {\n",
       "      return\n",
       "    }\n",
       "\n",
       "    var toinsert = output_area.element.find(\".\" + CLASS_NAME.split(' ')[0]);\n",
       "\n",
       "    if (output.metadata[EXEC_MIME_TYPE][\"id\"] !== undefined) {\n",
       "      toinsert[toinsert.length - 1].firstChild.textContent = output.data[JS_MIME_TYPE];\n",
       "      // store reference to embed id on output_area\n",
       "      output_area._bokeh_element_id = output.metadata[EXEC_MIME_TYPE][\"id\"];\n",
       "    }\n",
       "    if (output.metadata[EXEC_MIME_TYPE][\"server_id\"] !== undefined) {\n",
       "      var bk_div = document.createElement(\"div\");\n",
       "      bk_div.innerHTML = output.data[HTML_MIME_TYPE];\n",
       "      var script_attrs = bk_div.children[0].attributes;\n",
       "      for (var i = 0; i < script_attrs.length; i++) {\n",
       "        toinsert[toinsert.length - 1].firstChild.setAttribute(script_attrs[i].name, script_attrs[i].value);\n",
       "      }\n",
       "      // store reference to server id on output_area\n",
       "      output_area._bokeh_server_id = output.metadata[EXEC_MIME_TYPE][\"server_id\"];\n",
       "    }\n",
       "  }\n",
       "\n",
       "  function register_renderer(events, OutputArea) {\n",
       "\n",
       "    function append_mime(data, metadata, element) {\n",
       "      // create a DOM node to render to\n",
       "      var toinsert = this.create_output_subarea(\n",
       "        metadata,\n",
       "        CLASS_NAME,\n",
       "        EXEC_MIME_TYPE\n",
       "      );\n",
       "      this.keyboard_manager.register_events(toinsert);\n",
       "      // Render to node\n",
       "      var props = {data: data, metadata: metadata[EXEC_MIME_TYPE]};\n",
       "      render(props, toinsert[toinsert.length - 1]);\n",
       "      element.append(toinsert);\n",
       "      return toinsert\n",
       "    }\n",
       "\n",
       "    /* Handle when an output is cleared or removed */\n",
       "    events.on('clear_output.CodeCell', handleClearOutput);\n",
       "    events.on('delete.Cell', handleClearOutput);\n",
       "\n",
       "    /* Handle when a new output is added */\n",
       "    events.on('output_added.OutputArea', handleAddOutput);\n",
       "\n",
       "    /**\n",
       "     * Register the mime type and append_mime function with output_area\n",
       "     */\n",
       "    OutputArea.prototype.register_mime_type(EXEC_MIME_TYPE, append_mime, {\n",
       "      /* Is output safe? */\n",
       "      safe: true,\n",
       "      /* Index of renderer in `output_area.display_order` */\n",
       "      index: 0\n",
       "    });\n",
       "  }\n",
       "\n",
       "  // register the mime type if in Jupyter Notebook environment and previously unregistered\n",
       "  if (root.Jupyter !== undefined) {\n",
       "    var events = require('base/js/events');\n",
       "    var OutputArea = require('notebook/js/outputarea').OutputArea;\n",
       "\n",
       "    if (OutputArea.prototype.mime_types().indexOf(EXEC_MIME_TYPE) == -1) {\n",
       "      register_renderer(events, OutputArea);\n",
       "    }\n",
       "  }\n",
       "\n",
       "  \n",
       "  if (typeof (root._bokeh_timeout) === \"undefined\" || force === true) {\n",
       "    root._bokeh_timeout = Date.now() + 5000;\n",
       "    root._bokeh_failed_load = false;\n",
       "  }\n",
       "\n",
       "  var NB_LOAD_WARNING = {'data': {'text/html':\n",
       "     \"<div style='background-color: #fdd'>\\n\"+\n",
       "     \"<p>\\n\"+\n",
       "     \"BokehJS does not appear to have successfully loaded. If loading BokehJS from CDN, this \\n\"+\n",
       "     \"may be due to a slow or bad network connection. Possible fixes:\\n\"+\n",
       "     \"</p>\\n\"+\n",
       "     \"<ul>\\n\"+\n",
       "     \"<li>re-rerun `output_notebook()` to attempt to load from CDN again, or</li>\\n\"+\n",
       "     \"<li>use INLINE resources instead, as so:</li>\\n\"+\n",
       "     \"</ul>\\n\"+\n",
       "     \"<code>\\n\"+\n",
       "     \"from bokeh.resources import INLINE\\n\"+\n",
       "     \"output_notebook(resources=INLINE)\\n\"+\n",
       "     \"</code>\\n\"+\n",
       "     \"</div>\"}};\n",
       "\n",
       "  function display_loaded() {\n",
       "    var el = document.getElementById(\"1001\");\n",
       "    if (el != null) {\n",
       "      el.textContent = \"BokehJS is loading...\";\n",
       "    }\n",
       "    if (root.Bokeh !== undefined) {\n",
       "      if (el != null) {\n",
       "        el.textContent = \"BokehJS \" + root.Bokeh.version + \" successfully loaded.\";\n",
       "      }\n",
       "    } else if (Date.now() < root._bokeh_timeout) {\n",
       "      setTimeout(display_loaded, 100)\n",
       "    }\n",
       "  }\n",
       "\n",
       "\n",
       "  function run_callbacks() {\n",
       "    try {\n",
       "      root._bokeh_onload_callbacks.forEach(function(callback) {\n",
       "        if (callback != null)\n",
       "          callback();\n",
       "      });\n",
       "    } finally {\n",
       "      delete root._bokeh_onload_callbacks\n",
       "    }\n",
       "    console.debug(\"Bokeh: all callbacks have finished\");\n",
       "  }\n",
       "\n",
       "  function load_libs(css_urls, js_urls, callback) {\n",
       "    if (css_urls == null) css_urls = [];\n",
       "    if (js_urls == null) js_urls = [];\n",
       "\n",
       "    root._bokeh_onload_callbacks.push(callback);\n",
       "    if (root._bokeh_is_loading > 0) {\n",
       "      console.debug(\"Bokeh: BokehJS is being loaded, scheduling callback at\", now());\n",
       "      return null;\n",
       "    }\n",
       "    if (js_urls == null || js_urls.length === 0) {\n",
       "      run_callbacks();\n",
       "      return null;\n",
       "    }\n",
       "    console.debug(\"Bokeh: BokehJS not loaded, scheduling load and callback at\", now());\n",
       "    root._bokeh_is_loading = css_urls.length + js_urls.length;\n",
       "\n",
       "    function on_load() {\n",
       "      root._bokeh_is_loading--;\n",
       "      if (root._bokeh_is_loading === 0) {\n",
       "        console.debug(\"Bokeh: all BokehJS libraries/stylesheets loaded\");\n",
       "        run_callbacks()\n",
       "      }\n",
       "    }\n",
       "\n",
       "    function on_error() {\n",
       "      console.error(\"failed to load \" + url);\n",
       "    }\n",
       "\n",
       "    for (var i = 0; i < css_urls.length; i++) {\n",
       "      var url = css_urls[i];\n",
       "      const element = document.createElement(\"link\");\n",
       "      element.onload = on_load;\n",
       "      element.onerror = on_error;\n",
       "      element.rel = \"stylesheet\";\n",
       "      element.type = \"text/css\";\n",
       "      element.href = url;\n",
       "      console.debug(\"Bokeh: injecting link tag for BokehJS stylesheet: \", url);\n",
       "      document.body.appendChild(element);\n",
       "    }\n",
       "\n",
       "    for (var i = 0; i < js_urls.length; i++) {\n",
       "      var url = js_urls[i];\n",
       "      var element = document.createElement('script');\n",
       "      element.onload = on_load;\n",
       "      element.onerror = on_error;\n",
       "      element.async = false;\n",
       "      element.src = url;\n",
       "      console.debug(\"Bokeh: injecting script tag for BokehJS library: \", url);\n",
       "      document.head.appendChild(element);\n",
       "    }\n",
       "  };var element = document.getElementById(\"1001\");\n",
       "  if (element == null) {\n",
       "    console.error(\"Bokeh: ERROR: autoload.js configured with elementid '1001' but no matching script tag was found. \")\n",
       "    return false;\n",
       "  }\n",
       "\n",
       "  function inject_raw_css(css) {\n",
       "    const element = document.createElement(\"style\");\n",
       "    element.appendChild(document.createTextNode(css));\n",
       "    document.body.appendChild(element);\n",
       "  }\n",
       "\n",
       "  var js_urls = [\"https://cdn.pydata.org/bokeh/release/bokeh-1.3.4.min.js\", \"https://cdn.pydata.org/bokeh/release/bokeh-widgets-1.3.4.min.js\", \"https://cdn.pydata.org/bokeh/release/bokeh-tables-1.3.4.min.js\", \"https://cdn.pydata.org/bokeh/release/bokeh-gl-1.3.4.min.js\"];\n",
       "  var css_urls = [];\n",
       "\n",
       "  var inline_js = [\n",
       "    function(Bokeh) {\n",
       "      Bokeh.set_log_level(\"info\");\n",
       "    },\n",
       "    \n",
       "    function(Bokeh) {\n",
       "      \n",
       "    },\n",
       "    function(Bokeh) {} // ensure no trailing comma for IE\n",
       "  ];\n",
       "\n",
       "  function run_inline_js() {\n",
       "    \n",
       "    if ((root.Bokeh !== undefined) || (force === true)) {\n",
       "      for (var i = 0; i < inline_js.length; i++) {\n",
       "        inline_js[i].call(root, root.Bokeh);\n",
       "      }if (force === true) {\n",
       "        display_loaded();\n",
       "      }} else if (Date.now() < root._bokeh_timeout) {\n",
       "      setTimeout(run_inline_js, 100);\n",
       "    } else if (!root._bokeh_failed_load) {\n",
       "      console.log(\"Bokeh: BokehJS failed to load within specified timeout.\");\n",
       "      root._bokeh_failed_load = true;\n",
       "    } else if (force !== true) {\n",
       "      var cell = $(document.getElementById(\"1001\")).parents('.cell').data().cell;\n",
       "      cell.output_area.append_execute_result(NB_LOAD_WARNING)\n",
       "    }\n",
       "\n",
       "  }\n",
       "\n",
       "  if (root._bokeh_is_loading === 0) {\n",
       "    console.debug(\"Bokeh: BokehJS loaded, going straight to plotting\");\n",
       "    run_inline_js();\n",
       "  } else {\n",
       "    load_libs(css_urls, js_urls, function() {\n",
       "      console.debug(\"Bokeh: BokehJS plotting callback run at\", now());\n",
       "      run_inline_js();\n",
       "    });\n",
       "  }\n",
       "}(window));"
      ],
      "application/vnd.bokehjs_load.v0+json": "\n(function(root) {\n  function now() {\n    return new Date();\n  }\n\n  var force = true;\n\n  if (typeof root._bokeh_onload_callbacks === \"undefined\" || force === true) {\n    root._bokeh_onload_callbacks = [];\n    root._bokeh_is_loading = undefined;\n  }\n\n  \n\n  \n  if (typeof (root._bokeh_timeout) === \"undefined\" || force === true) {\n    root._bokeh_timeout = Date.now() + 5000;\n    root._bokeh_failed_load = false;\n  }\n\n  var NB_LOAD_WARNING = {'data': {'text/html':\n     \"<div style='background-color: #fdd'>\\n\"+\n     \"<p>\\n\"+\n     \"BokehJS does not appear to have successfully loaded. If loading BokehJS from CDN, this \\n\"+\n     \"may be due to a slow or bad network connection. Possible fixes:\\n\"+\n     \"</p>\\n\"+\n     \"<ul>\\n\"+\n     \"<li>re-rerun `output_notebook()` to attempt to load from CDN again, or</li>\\n\"+\n     \"<li>use INLINE resources instead, as so:</li>\\n\"+\n     \"</ul>\\n\"+\n     \"<code>\\n\"+\n     \"from bokeh.resources import INLINE\\n\"+\n     \"output_notebook(resources=INLINE)\\n\"+\n     \"</code>\\n\"+\n     \"</div>\"}};\n\n  function display_loaded() {\n    var el = document.getElementById(\"1001\");\n    if (el != null) {\n      el.textContent = \"BokehJS is loading...\";\n    }\n    if (root.Bokeh !== undefined) {\n      if (el != null) {\n        el.textContent = \"BokehJS \" + root.Bokeh.version + \" successfully loaded.\";\n      }\n    } else if (Date.now() < root._bokeh_timeout) {\n      setTimeout(display_loaded, 100)\n    }\n  }\n\n\n  function run_callbacks() {\n    try {\n      root._bokeh_onload_callbacks.forEach(function(callback) {\n        if (callback != null)\n          callback();\n      });\n    } finally {\n      delete root._bokeh_onload_callbacks\n    }\n    console.debug(\"Bokeh: all callbacks have finished\");\n  }\n\n  function load_libs(css_urls, js_urls, callback) {\n    if (css_urls == null) css_urls = [];\n    if (js_urls == null) js_urls = [];\n\n    root._bokeh_onload_callbacks.push(callback);\n    if (root._bokeh_is_loading > 0) {\n      console.debug(\"Bokeh: BokehJS is being loaded, scheduling callback at\", now());\n      return null;\n    }\n    if (js_urls == null || js_urls.length === 0) {\n      run_callbacks();\n      return null;\n    }\n    console.debug(\"Bokeh: BokehJS not loaded, scheduling load and callback at\", now());\n    root._bokeh_is_loading = css_urls.length + js_urls.length;\n\n    function on_load() {\n      root._bokeh_is_loading--;\n      if (root._bokeh_is_loading === 0) {\n        console.debug(\"Bokeh: all BokehJS libraries/stylesheets loaded\");\n        run_callbacks()\n      }\n    }\n\n    function on_error() {\n      console.error(\"failed to load \" + url);\n    }\n\n    for (var i = 0; i < css_urls.length; i++) {\n      var url = css_urls[i];\n      const element = document.createElement(\"link\");\n      element.onload = on_load;\n      element.onerror = on_error;\n      element.rel = \"stylesheet\";\n      element.type = \"text/css\";\n      element.href = url;\n      console.debug(\"Bokeh: injecting link tag for BokehJS stylesheet: \", url);\n      document.body.appendChild(element);\n    }\n\n    for (var i = 0; i < js_urls.length; i++) {\n      var url = js_urls[i];\n      var element = document.createElement('script');\n      element.onload = on_load;\n      element.onerror = on_error;\n      element.async = false;\n      element.src = url;\n      console.debug(\"Bokeh: injecting script tag for BokehJS library: \", url);\n      document.head.appendChild(element);\n    }\n  };var element = document.getElementById(\"1001\");\n  if (element == null) {\n    console.error(\"Bokeh: ERROR: autoload.js configured with elementid '1001' but no matching script tag was found. \")\n    return false;\n  }\n\n  function inject_raw_css(css) {\n    const element = document.createElement(\"style\");\n    element.appendChild(document.createTextNode(css));\n    document.body.appendChild(element);\n  }\n\n  var js_urls = [\"https://cdn.pydata.org/bokeh/release/bokeh-1.3.4.min.js\", \"https://cdn.pydata.org/bokeh/release/bokeh-widgets-1.3.4.min.js\", \"https://cdn.pydata.org/bokeh/release/bokeh-tables-1.3.4.min.js\", \"https://cdn.pydata.org/bokeh/release/bokeh-gl-1.3.4.min.js\"];\n  var css_urls = [];\n\n  var inline_js = [\n    function(Bokeh) {\n      Bokeh.set_log_level(\"info\");\n    },\n    \n    function(Bokeh) {\n      \n    },\n    function(Bokeh) {} // ensure no trailing comma for IE\n  ];\n\n  function run_inline_js() {\n    \n    if ((root.Bokeh !== undefined) || (force === true)) {\n      for (var i = 0; i < inline_js.length; i++) {\n        inline_js[i].call(root, root.Bokeh);\n      }if (force === true) {\n        display_loaded();\n      }} else if (Date.now() < root._bokeh_timeout) {\n      setTimeout(run_inline_js, 100);\n    } else if (!root._bokeh_failed_load) {\n      console.log(\"Bokeh: BokehJS failed to load within specified timeout.\");\n      root._bokeh_failed_load = true;\n    } else if (force !== true) {\n      var cell = $(document.getElementById(\"1001\")).parents('.cell').data().cell;\n      cell.output_area.append_execute_result(NB_LOAD_WARNING)\n    }\n\n  }\n\n  if (root._bokeh_is_loading === 0) {\n    console.debug(\"Bokeh: BokehJS loaded, going straight to plotting\");\n    run_inline_js();\n  } else {\n    load_libs(css_urls, js_urls, function() {\n      console.debug(\"Bokeh: BokehJS plotting callback run at\", now());\n      run_inline_js();\n    });\n  }\n}(window));"
     },
     "metadata": {},
     "output_type": "display_data"
    }
   ],
   "source": [
    "import sys\n",
    "sys.path.append(\"../../\")\n",
    "from data.Frame import Frame\n",
    "from bk import show_weighted_average, show_group_total, get_pandas_dataframe, line_chart, scatter_plot\n",
    "from bokeh.io import output_notebook\n",
    "from bokeh.plotting import figure, output_file, show, reset_output\n",
    "import sources\n",
    "from sources.unpd.indicators import get_projection_by_groups as gpp\n",
    "from sources.cdp.indicators import get_indicators as get_indicators_cdp_2018\n",
    "from sources.worldbank.datatable import get_data_table as get_wb_tb\n",
    "reset_output()\n",
    "output_notebook()"
   ]
  },
  {
   "cell_type": "markdown",
   "metadata": {
    "slideshow": {
     "slide_type": "slide"
    }
   },
   "source": [
    "# Human and Social development in the LDCs"
   ]
  },
  {
   "cell_type": "markdown",
   "metadata": {
    "slideshow": {
     "slide_type": "slide"
    }
   },
   "source": [
    "# The Least Developed Countries\n",
    "\n",
    "+ The category of the least developed countries was created in 1971\n",
    "\n",
    "+ Least developed countries (LDCs) are low-income countries confronting severe structural impediments to sustainable development. They are highly vulnerable to economic and environmental shocks and have low levels of human assets.\n"
   ]
  },
  {
   "cell_type": "markdown",
   "metadata": {
    "slideshow": {
     "slide_type": "slide"
    }
   },
   "source": [
    "Least developed countries (LDCs) are **low-income countries** confronting severe **structural** impediments to sustainable development. They are highly **vulnerable to economic and environmental shocks** and have **low levels of human assets**."
   ]
  },
  {
   "cell_type": "markdown",
   "metadata": {
    "slideshow": {
     "slide_type": "slide"
    }
   },
   "source": [
    "## The criteria to dentify LDCs\n",
    "The Committee for Development Policy has established three criteria for including and graduating countries from the category:\n",
    "    \n",
    "### The Economic Vulnerability Index (EVI)\n",
    "    \n",
    "### The Human Assets Index (HAI)\n",
    "\n",
    "### GNI per capita"
   ]
  },
  {
   "cell_type": "code",
   "execution_count": 2,
   "metadata": {
    "ExecuteTime": {
     "end_time": "2019-10-25T14:23:46.674809Z",
     "start_time": "2019-10-25T14:23:46.484107Z"
    },
    "slideshow": {
     "slide_type": "skip"
    }
   },
   "outputs": [],
   "source": [
    "cdp_data_2018 = get_indicators_cdp_2018(['LDCs'])\n",
    "entities = cdp_data_2018.get_column('entity').as_array()\n",
    "evi = cdp_data_2018.get_column('evi').as_array()\n",
    "hai = cdp_data_2018.get_column('hai').as_array()\n",
    "gni = cdp_data_2018.get_column('gni_per_capita_dollars').as_array()\n",
    "gni_normalized = [(x / sum(gni))*30 for x in gni]"
   ]
  },
  {
   "cell_type": "code",
   "execution_count": 3,
   "metadata": {
    "ExecuteTime": {
     "end_time": "2019-10-25T14:23:46.713931Z",
     "start_time": "2019-10-25T14:23:46.677516Z"
    },
    "slideshow": {
     "slide_type": "slide"
    }
   },
   "outputs": [
    {
     "data": {
      "text/html": [
       "\n",
       "\n",
       "\n",
       "\n",
       "\n",
       "\n",
       "  <div class=\"bk-root\" id=\"22312133-91e1-48f4-b529-7bec2e9acbc7\" data-root-id=\"1004\"></div>\n"
      ]
     },
     "metadata": {},
     "output_type": "display_data"
    },
    {
     "data": {
      "application/javascript": [
       "(function(root) {\n",
       "  function embed_document(root) {\n",
       "    \n",
       "  var docs_json = {\"f1265484-9332-4412-97fc-5b68d8263629\":{\"roots\":{\"references\":[{\"attributes\":{\"below\":[{\"id\":\"1015\",\"type\":\"LinearAxis\"}],\"center\":[{\"id\":\"1019\",\"type\":\"Grid\"},{\"id\":\"1024\",\"type\":\"Grid\"},{\"id\":\"1033\",\"type\":\"LabelSet\"}],\"left\":[{\"id\":\"1020\",\"type\":\"LinearAxis\"}],\"plot_width\":950,\"renderers\":[{\"id\":\"1031\",\"type\":\"GlyphRenderer\"}],\"title\":{\"id\":\"1005\",\"type\":\"Title\"},\"toolbar\":{\"id\":\"1026\",\"type\":\"Toolbar\"},\"x_range\":{\"id\":\"1007\",\"type\":\"DataRange1d\"},\"x_scale\":{\"id\":\"1011\",\"type\":\"LinearScale\"},\"y_range\":{\"id\":\"1009\",\"type\":\"DataRange1d\"},\"y_scale\":{\"id\":\"1013\",\"type\":\"LinearScale\"}},\"id\":\"1004\",\"subtype\":\"Figure\",\"type\":\"Plot\"},{\"attributes\":{\"data_source\":{\"id\":\"1003\",\"type\":\"ColumnDataSource\"},\"glyph\":{\"id\":\"1029\",\"type\":\"Circle\"},\"hover_glyph\":null,\"muted_glyph\":null,\"nonselection_glyph\":{\"id\":\"1030\",\"type\":\"Circle\"},\"selection_glyph\":null,\"view\":{\"id\":\"1032\",\"type\":\"CDSView\"}},\"id\":\"1031\",\"type\":\"GlyphRenderer\"},{\"attributes\":{\"source\":{\"id\":\"1003\",\"type\":\"ColumnDataSource\"}},\"id\":\"1032\",\"type\":\"CDSView\"},{\"attributes\":{},\"id\":\"1011\",\"type\":\"LinearScale\"},{\"attributes\":{\"fill_alpha\":{\"value\":0.1},\"fill_color\":{\"value\":\"#1f77b4\"},\"line_alpha\":{\"value\":0.1},\"line_color\":{\"value\":\"#1f77b4\"},\"radius\":{\"field\":\"radii\",\"units\":\"data\"},\"x\":{\"field\":\"evi\"},\"y\":{\"field\":\"hai\"}},\"id\":\"1030\",\"type\":\"Circle\"},{\"attributes\":{\"text\":\"HAI vs EVI\"},\"id\":\"1005\",\"type\":\"Title\"},{\"attributes\":{\"callback\":null},\"id\":\"1009\",\"type\":\"DataRange1d\"},{\"attributes\":{\"callback\":null},\"id\":\"1007\",\"type\":\"DataRange1d\"},{\"attributes\":{},\"id\":\"1040\",\"type\":\"UnionRenderers\"},{\"attributes\":{},\"id\":\"1037\",\"type\":\"BasicTickFormatter\"},{\"attributes\":{},\"id\":\"1013\",\"type\":\"LinearScale\"},{\"attributes\":{\"axis_label\":\"HAI\",\"formatter\":{\"id\":\"1039\",\"type\":\"BasicTickFormatter\"},\"ticker\":{\"id\":\"1021\",\"type\":\"BasicTicker\"}},\"id\":\"1020\",\"type\":\"LinearAxis\"},{\"attributes\":{},\"id\":\"1021\",\"type\":\"BasicTicker\"},{\"attributes\":{},\"id\":\"1041\",\"type\":\"Selection\"},{\"attributes\":{},\"id\":\"1016\",\"type\":\"BasicTicker\"},{\"attributes\":{\"axis_label\":\"EVI\",\"formatter\":{\"id\":\"1037\",\"type\":\"BasicTickFormatter\"},\"ticker\":{\"id\":\"1016\",\"type\":\"BasicTicker\"}},\"id\":\"1015\",\"type\":\"LinearAxis\"},{\"attributes\":{\"level\":\"glyph\",\"source\":{\"id\":\"1003\",\"type\":\"ColumnDataSource\"},\"text\":{\"field\":\"names\"},\"text_font_size\":{\"value\":\"8pt\"},\"x\":{\"field\":\"evi\"},\"x_offset\":{\"value\":5},\"y\":{\"field\":\"hai\"},\"y_offset\":{\"value\":5}},\"id\":\"1033\",\"type\":\"LabelSet\"},{\"attributes\":{\"dimension\":1,\"ticker\":{\"id\":\"1021\",\"type\":\"BasicTicker\"}},\"id\":\"1024\",\"type\":\"Grid\"},{\"attributes\":{\"fill_alpha\":{\"value\":0.6},\"fill_color\":{\"value\":\"#1f77b4\"},\"line_color\":{\"value\":null},\"radius\":{\"field\":\"radii\",\"units\":\"data\"},\"x\":{\"field\":\"evi\"},\"y\":{\"field\":\"hai\"}},\"id\":\"1029\",\"type\":\"Circle\"},{\"attributes\":{\"active_drag\":\"auto\",\"active_inspect\":\"auto\",\"active_multi\":null,\"active_scroll\":\"auto\",\"active_tap\":\"auto\",\"tools\":[{\"id\":\"1025\",\"type\":\"HoverTool\"}]},\"id\":\"1026\",\"type\":\"Toolbar\"},{\"attributes\":{\"ticker\":{\"id\":\"1016\",\"type\":\"BasicTicker\"}},\"id\":\"1019\",\"type\":\"Grid\"},{\"attributes\":{\"callback\":null},\"id\":\"1025\",\"type\":\"HoverTool\"},{\"attributes\":{},\"id\":\"1039\",\"type\":\"BasicTickFormatter\"},{\"attributes\":{\"callback\":null,\"data\":{\"evi\":[39.31847499761291,36.757499031522215,25.21977531407407,34.32843983867595,36.26105903025079,38.24968188294886,44.53840537420615,34.75933730781097,33.55527518528004,52.43229442971872,52.38395723067039,27.237133266314615,36.329678101824925,54.70608523319488,32.09573717926084,72.15168677316157,30.163203421036275,52.38566801102522,30.553838443774744,73.69258065327526,42.02234466093909,53.203575960114186,37.845308176229935,47.1236284854542,36.7941622313397,39.91252075695854,36.7237686236129,31.7432961328469,28.422642129717293,35.255239686720145,36.377946784929456,41.23100272969866,33.44246330286905,51.563062215984765,51.90755365345187,34.725685139794926,49.214096687726894,56.79572845959256,28.338132621668773,56.01606076954609,31.718809204036635,27.90609781167721,46.9962786557694,38.63576320999087,40.46026103469391],\"hai\":[48.3698405313323,52.52043657551618,73.15064266822495,49.75421277291333,72.86608884522367,42.91698654581399,38.4582473052599,68.92528304696823,17.37091156051442,22.085484315685715,49.385256569573,41.87232303636952,58.02908229893985,42.893055780999646,45.30853361262692,51.82920387983884,39.48893995074097,41.716252662688056,47.97415181855695,83.96679690389746,61.572583924694506,37.23070426579468,54.53329453168444,52.522138892622166,43.106314630459046,46.940261858442696,45.8152514338928,68.47497037955749,71.21981923337259,35.374052152796644,54.97246497703989,86.00679852404463,57.12957161797068,27.395916767676766,74.78849047963382,16.65507946932967,53.03509118236097,66.63143020458574,61.82618003109269,90.13457842056366,50.23906690599287,56.02779180814835,78.51943490439294,59.22749709179137,58.594410552318735],\"names\":[\"Afghanistan\",\"Angola\",\"Bangladesh\",\"Benin\",\"Bhutan\",\"Burkina Faso\",\"Burundi\",\"Cambodia\",\"Central African Republic\",\"Chad\",\"Comoros\",\"Democratic Republic of the Congo\",\"Djibouti\",\"Eritrea\",\"Ethiopia\",\"Gambia\",\"Guinea\",\"Guinea-Bissau\",\"Haiti\",\"Kiribati\",\"Lesotho\",\"Liberia\",\"Madagascar\",\"Malawi\",\"Mali\",\"Mauritania\",\"Mozambique\",\"Myanmar\",\"Nepal\",\"Niger\",\"Rwanda\",\"Sao Tome and Principe\",\"Senegal\",\"Sierra Leone\",\"Solomon Islands\",\"Somalia\",\"Sudan\",\"Timor-Leste\",\"Togo\",\"Tuvalu\",\"Uganda\",\"United Republic of Tanzania\",\"Vanuatu\",\"Yemen\",\"Zambia\"],\"radii\":[0.3486056940032576,2.4668524266042016,0.7020447947937721,0.48602223509185105,1.3228778144086932,0.3545063770828273,0.1439906217703531,0.5921658071844065,0.2039025303122942,0.5072539150463391,0.8788819521470623,0.26478852194206287,1.0434896028654765,0.4748310823991456,0.3550084704511006,0.247446969190501,0.37373691067035597,0.32794088514739334,0.44869169499991846,1.6454751810450026,0.7143690867404829,0.23730867258431165,0.2677231781905875,0.18263121659249557,0.441142763699007,0.6775521275707559,0.3108420352212877,0.6914928152526487,0.41032077914907744,0.2166245207324081,0.3895316490963874,0.9279304402907724,0.5532615213153896,0.32073284585082373,0.9714956147211605,0.052410075653960046,0.8001174040745556,1.4634728916821294,0.3057813583848219,2.9686806171600546,0.3643815661228828,0.49688045527581914,1.6609010705734226,0.5258532451564529,0.8600485617522887]},\"selected\":{\"id\":\"1041\",\"type\":\"Selection\"},\"selection_policy\":{\"id\":\"1040\",\"type\":\"UnionRenderers\"}},\"id\":\"1003\",\"type\":\"ColumnDataSource\"}],\"root_ids\":[\"1004\"]},\"title\":\"Bokeh Application\",\"version\":\"1.3.4\"}};\n",
       "  var render_items = [{\"docid\":\"f1265484-9332-4412-97fc-5b68d8263629\",\"roots\":{\"1004\":\"22312133-91e1-48f4-b529-7bec2e9acbc7\"}}];\n",
       "  root.Bokeh.embed.embed_items_notebook(docs_json, render_items);\n",
       "\n",
       "  }\n",
       "  if (root.Bokeh !== undefined) {\n",
       "    embed_document(root);\n",
       "  } else {\n",
       "    var attempts = 0;\n",
       "    var timer = setInterval(function(root) {\n",
       "      if (root.Bokeh !== undefined) {\n",
       "        embed_document(root);\n",
       "        clearInterval(timer);\n",
       "      }\n",
       "      attempts++;\n",
       "      if (attempts > 100) {\n",
       "        console.log(\"Bokeh: ERROR: Unable to run BokehJS code because BokehJS library is missing\");\n",
       "        clearInterval(timer);\n",
       "      }\n",
       "    }, 10, root)\n",
       "  }\n",
       "})(window);"
      ],
      "application/vnd.bokehjs_exec.v0+json": ""
     },
     "metadata": {
      "application/vnd.bokehjs_exec.v0+json": {
       "id": "1004"
      }
     },
     "output_type": "display_data"
    }
   ],
   "source": [
    "p = scatter_plot(evi, hai, gni_normalized, entities)\n",
    "show(p)"
   ]
  },
  {
   "cell_type": "markdown",
   "metadata": {
    "slideshow": {
     "slide_type": "slide"
    }
   },
   "source": [
    "# The Istanbul Programme of Action"
   ]
  },
  {
   "cell_type": "markdown",
   "metadata": {
    "ExecuteTime": {
     "end_time": "2019-10-23T16:34:47.577716Z",
     "start_time": "2019-10-23T16:34:47.551207Z"
    },
    "slideshow": {
     "slide_type": "slide"
    }
   },
   "source": [
    "# Objectives"
   ]
  },
  {
   "cell_type": "markdown",
   "metadata": {
    "slideshow": {
     "slide_type": "slide"
    }
   },
   "source": [
    "27. The overarching goal of the Programme of Action for the decade 2011-2020 is to overcome the structural challenges faced by the least developed countries in order to eradicate poverty, achieve internationally agreed development goals and enable graduation from the least developed country category.\n",
    "\n"
   ]
  },
  {
   "cell_type": "markdown",
   "metadata": {
    "slideshow": {
     "slide_type": "slide"
    }
   },
   "source": [
    "28. Guided by the overarching goal, national policies of least developed countries and international support measures during the decade will focus on the following specific objectives with the aim of enabling half the number of least developed countries to meet the criteria for graduation by 2020:"
   ]
  },
  {
   "cell_type": "markdown",
   "metadata": {
    "slideshow": {
     "slide_type": "slide"
    }
   },
   "source": [
    "**(a)** Achieve sustained, equitable and inclusive economic growth in least developed countries, to at least the level of 7 per cent per annum, by strengthening their productive capacity in all sectors through structural transformation and overcoming their marginalization through their effective integration into the global economy, including through regional integration;"
   ]
  },
  {
   "cell_type": "markdown",
   "metadata": {
    "slideshow": {
     "slide_type": "slide"
    }
   },
   "source": [
    "**(b) Build human capacities by fostering sustained, equitable and inclusive human and social development, gender equality and the empowerment of women;**"
   ]
  },
  {
   "cell_type": "markdown",
   "metadata": {
    "slideshow": {
     "slide_type": "slide"
    }
   },
   "source": [
    "**(c)** Reduce the **vulnerability** of least developed countries to economic, natural and environmental shocks and disasters, as well as climate change, and enhance their ability to meet these and other challenges through strengthening their resilience;"
   ]
  },
  {
   "cell_type": "markdown",
   "metadata": {
    "slideshow": {
     "slide_type": "slide"
    }
   },
   "source": [
    "**(d)** Ensure enhanced financial resources and their effective use for least developed countries’ development, including through domestic resource mobilization, ODA, external debt relief, foreign direct investment and remittances;"
   ]
  },
  {
   "cell_type": "markdown",
   "metadata": {
    "slideshow": {
     "slide_type": "slide"
    }
   },
   "source": [
    "**(e)** Enhance good governance at all levels, by strengthening democratic processes, institutions and the rule of law; increasing efficiency, coherence, transparency and participation; protecting and promoting human rights; and reducing corruption, and strengthen least developed country Governments’ capacity to play an effective role in their economic and social development."
   ]
  },
  {
   "cell_type": "markdown",
   "metadata": {
    "slideshow": {
     "slide_type": "slide"
    }
   },
   "source": [
    "# IV. Priority areas for action\n",
    "\n",
    "43. The actions will be organized by priority areas as:\n",
    "\n",
    "A. Productive capacity\n",
    "\n",
    "B. Agriculture, food security and rural development\n",
    "\n",
    "C. Trade\n",
    "\n",
    "D. Commodities\n",
    "\n",
    "**E. Human and social development**\n",
    "\n",
    "F. Multiple crises and other emerging challenges ▪Economic shocks\n",
    "\n",
    "H. Good governance at all levels"
   ]
  },
  {
   "cell_type": "markdown",
   "metadata": {
    "slideshow": {
     "slide_type": "slide"
    }
   },
   "source": [
    "# E. Human and social development\n",
    "\n",
    "+ Education and training\n",
    "\n",
    "+ Population and primary health\n",
    "\n",
    "+ Youth development\n",
    "\n",
    "+ Shelter\n",
    "\n",
    "+ Water and sanitation\n",
    "\n",
    "+ Gender equality and empowerment of women \n",
    "\n",
    "+ Social protection"
   ]
  },
  {
   "cell_type": "markdown",
   "metadata": {
    "slideshow": {
     "slide_type": "slide"
    }
   },
   "source": [
    "# Population and primary health"
   ]
  },
  {
   "cell_type": "code",
   "execution_count": 4,
   "metadata": {
    "ExecuteTime": {
     "end_time": "2019-10-25T14:23:47.479465Z",
     "start_time": "2019-10-25T14:23:46.720219Z"
    },
    "slideshow": {
     "slide_type": "slide"
    }
   },
   "outputs": [
    {
     "data": {
      "text/html": [
       "\n",
       "\n",
       "\n",
       "\n",
       "\n",
       "\n",
       "  <div class=\"bk-root\" id=\"261cd2d7-3e37-4a01-9539-8024d437c2c9\" data-root-id=\"1084\"></div>\n"
      ]
     },
     "metadata": {},
     "output_type": "display_data"
    },
    {
     "data": {
      "application/javascript": [
       "(function(root) {\n",
       "  function embed_document(root) {\n",
       "    \n",
       "  var docs_json = {\"8f418438-ee45-403c-a8ca-0fc3814db608\":{\"roots\":{\"references\":[{\"attributes\":{\"below\":[{\"id\":\"1095\",\"type\":\"LinearAxis\"}],\"center\":[{\"id\":\"1099\",\"type\":\"Grid\"},{\"id\":\"1104\",\"type\":\"Grid\"},{\"id\":\"1129\",\"type\":\"Legend\"}],\"left\":[{\"id\":\"1100\",\"type\":\"LinearAxis\"}],\"plot_height\":400,\"plot_width\":900,\"renderers\":[{\"id\":\"1121\",\"type\":\"GlyphRenderer\"},{\"id\":\"1134\",\"type\":\"GlyphRenderer\"}],\"title\":{\"id\":\"1085\",\"type\":\"Title\"},\"toolbar\":{\"id\":\"1111\",\"type\":\"Toolbar\"},\"x_range\":{\"id\":\"1087\",\"type\":\"DataRange1d\"},\"x_scale\":{\"id\":\"1091\",\"type\":\"LinearScale\"},\"y_range\":{\"id\":\"1089\",\"type\":\"DataRange1d\"},\"y_scale\":{\"id\":\"1093\",\"type\":\"LinearScale\"}},\"id\":\"1084\",\"subtype\":\"Figure\",\"type\":\"Plot\"},{\"attributes\":{\"callback\":null,\"data\":{\"x\":[\"1960\",\"1961\",\"1962\",\"1963\",\"1964\",\"1965\",\"1966\",\"1967\",\"1968\",\"1969\",\"1970\",\"1971\",\"1972\",\"1973\",\"1974\",\"1975\",\"1976\",\"1977\",\"1978\",\"1979\",\"1980\",\"1981\",\"1982\",\"1983\",\"1984\",\"1985\",\"1986\",\"1987\",\"1988\",\"1989\",\"1990\",\"1991\",\"1992\",\"1993\",\"1994\",\"1995\",\"1996\",\"1997\",\"1998\",\"1999\",\"2000\",\"2001\",\"2002\",\"2003\",\"2004\",\"2005\",\"2006\",\"2007\",\"2008\",\"2009\",\"2010\",\"2011\",\"2012\",\"2013\",\"2014\",\"2015\",\"2016\",\"2017\"],\"y\":[240518433.0,246113640.0,251900741.0,257908074.0,264174179.0,270720892.0,277573029.0,284708409.0,292045744.0,299473256.0,306916896.0,314344629.0,321797581.0,329357353.0,337142681.0,345242710.0,353691338.0,362475112.0,371577256.0,380963304.0,390612563.0,400528924.0,410740611.0,421279107.0,432185325.0,443491288.0,455193656.0,467290514.0,479814021.0,492803028.0,506275612.0,520262423.0,534731006.0,549559264.0,564581083.0,579681672.0,594801259.0,609983301.0,625342098.0,641046802.0,657215864.0,673903112.0,691061397.0,708587948.0,726331177.0,744190510.0,762132501.0,780219542.0,798563392.0,817322629.0,836614860.0,856472234.0,873619764.0,894516028.0,915914952.0,937788499.0,960134718.0,982952189.0]},\"selected\":{\"id\":\"1154\",\"type\":\"Selection\"},\"selection_policy\":{\"id\":\"1153\",\"type\":\"UnionRenderers\"}},\"id\":\"1131\",\"type\":\"ColumnDataSource\"},{\"attributes\":{\"dimension\":1,\"grid_line_alpha\":0.5,\"ticker\":{\"id\":\"1101\",\"type\":\"BasicTicker\"}},\"id\":\"1104\",\"type\":\"Grid\"},{\"attributes\":{\"fill_color\":{\"value\":\"#FA1857\"},\"line_color\":{\"value\":\"#FA1857\"},\"line_width\":{\"value\":3},\"x\":{\"field\":\"x\"},\"y\":{\"field\":\"y\"}},\"id\":\"1132\",\"type\":\"Circle\"},{\"attributes\":{\"fill_alpha\":{\"value\":0.1},\"fill_color\":{\"value\":\"#1f77b4\"},\"line_alpha\":{\"value\":0.1},\"line_color\":{\"value\":\"#1f77b4\"},\"line_width\":{\"value\":3},\"x\":{\"field\":\"x\"},\"y\":{\"field\":\"y\"}},\"id\":\"1133\",\"type\":\"Circle\"},{\"attributes\":{\"data_source\":{\"id\":\"1131\",\"type\":\"ColumnDataSource\"},\"glyph\":{\"id\":\"1132\",\"type\":\"Circle\"},\"hover_glyph\":null,\"muted_glyph\":null,\"nonselection_glyph\":{\"id\":\"1133\",\"type\":\"Circle\"},\"selection_glyph\":null,\"view\":{\"id\":\"1135\",\"type\":\"CDSView\"}},\"id\":\"1134\",\"type\":\"GlyphRenderer\"},{\"attributes\":{\"callback\":null,\"data\":{\"x\":[\"1960\",\"1961\",\"1962\",\"1963\",\"1964\",\"1965\",\"1966\",\"1967\",\"1968\",\"1969\",\"1970\",\"1971\",\"1972\",\"1973\",\"1974\",\"1975\",\"1976\",\"1977\",\"1978\",\"1979\",\"1980\",\"1981\",\"1982\",\"1983\",\"1984\",\"1985\",\"1986\",\"1987\",\"1988\",\"1989\",\"1990\",\"1991\",\"1992\",\"1993\",\"1994\",\"1995\",\"1996\",\"1997\",\"1998\",\"1999\",\"2000\",\"2001\",\"2002\",\"2003\",\"2004\",\"2005\",\"2006\",\"2007\",\"2008\",\"2009\",\"2010\",\"2011\",\"2012\",\"2013\",\"2014\",\"2015\",\"2016\",\"2017\"],\"y\":[240518433.0,246113640.0,251900741.0,257908074.0,264174179.0,270720892.0,277573029.0,284708409.0,292045744.0,299473256.0,306916896.0,314344629.0,321797581.0,329357353.0,337142681.0,345242710.0,353691338.0,362475112.0,371577256.0,380963304.0,390612563.0,400528924.0,410740611.0,421279107.0,432185325.0,443491288.0,455193656.0,467290514.0,479814021.0,492803028.0,506275612.0,520262423.0,534731006.0,549559264.0,564581083.0,579681672.0,594801259.0,609983301.0,625342098.0,641046802.0,657215864.0,673903112.0,691061397.0,708587948.0,726331177.0,744190510.0,762132501.0,780219542.0,798563392.0,817322629.0,836614860.0,856472234.0,873619764.0,894516028.0,915914952.0,937788499.0,960134718.0,982952189.0]},\"selected\":{\"id\":\"1152\",\"type\":\"Selection\"},\"selection_policy\":{\"id\":\"1151\",\"type\":\"UnionRenderers\"}},\"id\":\"1118\",\"type\":\"ColumnDataSource\"},{\"attributes\":{\"source\":{\"id\":\"1131\",\"type\":\"ColumnDataSource\"}},\"id\":\"1135\",\"type\":\"CDSView\"},{\"attributes\":{},\"id\":\"1105\",\"type\":\"PanTool\"},{\"attributes\":{},\"id\":\"1106\",\"type\":\"WheelZoomTool\"},{\"attributes\":{},\"id\":\"1151\",\"type\":\"UnionRenderers\"},{\"attributes\":{\"overlay\":{\"id\":\"1128\",\"type\":\"BoxAnnotation\"}},\"id\":\"1107\",\"type\":\"BoxZoomTool\"},{\"attributes\":{},\"id\":\"1152\",\"type\":\"Selection\"},{\"attributes\":{\"callback\":null,\"tooltips\":\"                \\n        <div style=padding=5px>Year:@x</div>\\n        <div style=padding=5px>Value:@y</div>        \\n        \"},\"id\":\"1136\",\"type\":\"HoverTool\"},{\"attributes\":{},\"id\":\"1108\",\"type\":\"SaveTool\"},{\"attributes\":{\"text\":\"Population, total\"},\"id\":\"1085\",\"type\":\"Title\"},{\"attributes\":{},\"id\":\"1153\",\"type\":\"UnionRenderers\"},{\"attributes\":{},\"id\":\"1109\",\"type\":\"ResetTool\"},{\"attributes\":{\"callback\":null},\"id\":\"1087\",\"type\":\"DataRange1d\"},{\"attributes\":{},\"id\":\"1125\",\"type\":\"BasicTickFormatter\"},{\"attributes\":{},\"id\":\"1154\",\"type\":\"Selection\"},{\"attributes\":{},\"id\":\"1110\",\"type\":\"HelpTool\"},{\"attributes\":{\"callback\":null},\"id\":\"1089\",\"type\":\"DataRange1d\"},{\"attributes\":{\"line_color\":\"#FA1857\",\"x\":{\"field\":\"x\"},\"y\":{\"field\":\"y\"}},\"id\":\"1119\",\"type\":\"Line\"},{\"attributes\":{\"line_alpha\":0.1,\"line_color\":\"#1f77b4\",\"x\":{\"field\":\"x\"},\"y\":{\"field\":\"y\"}},\"id\":\"1120\",\"type\":\"Line\"},{\"attributes\":{\"active_drag\":\"auto\",\"active_inspect\":\"auto\",\"active_multi\":null,\"active_scroll\":\"auto\",\"active_tap\":\"auto\",\"tools\":[{\"id\":\"1105\",\"type\":\"PanTool\"},{\"id\":\"1106\",\"type\":\"WheelZoomTool\"},{\"id\":\"1107\",\"type\":\"BoxZoomTool\"},{\"id\":\"1108\",\"type\":\"SaveTool\"},{\"id\":\"1109\",\"type\":\"ResetTool\"},{\"id\":\"1110\",\"type\":\"HelpTool\"},{\"id\":\"1136\",\"type\":\"HoverTool\"}]},\"id\":\"1111\",\"type\":\"Toolbar\"},{\"attributes\":{},\"id\":\"1091\",\"type\":\"LinearScale\"},{\"attributes\":{},\"id\":\"1093\",\"type\":\"LinearScale\"},{\"attributes\":{\"source\":{\"id\":\"1118\",\"type\":\"ColumnDataSource\"}},\"id\":\"1122\",\"type\":\"CDSView\"},{\"attributes\":{\"data_source\":{\"id\":\"1118\",\"type\":\"ColumnDataSource\"},\"glyph\":{\"id\":\"1119\",\"type\":\"Line\"},\"hover_glyph\":null,\"muted_glyph\":null,\"nonselection_glyph\":{\"id\":\"1120\",\"type\":\"Line\"},\"selection_glyph\":null,\"view\":{\"id\":\"1122\",\"type\":\"CDSView\"}},\"id\":\"1121\",\"type\":\"GlyphRenderer\"},{\"attributes\":{\"axis_label\":\"Years\",\"formatter\":{\"id\":\"1125\",\"type\":\"BasicTickFormatter\"},\"ticker\":{\"id\":\"1096\",\"type\":\"BasicTicker\"}},\"id\":\"1095\",\"type\":\"LinearAxis\"},{\"attributes\":{},\"id\":\"1096\",\"type\":\"BasicTicker\"},{\"attributes\":{},\"id\":\"1127\",\"type\":\"BasicTickFormatter\"},{\"attributes\":{\"grid_line_color\":null,\"ticker\":{\"id\":\"1096\",\"type\":\"BasicTicker\"}},\"id\":\"1099\",\"type\":\"Grid\"},{\"attributes\":{\"bottom_units\":\"screen\",\"fill_alpha\":{\"value\":0.5},\"fill_color\":{\"value\":\"lightgrey\"},\"left_units\":\"screen\",\"level\":\"overlay\",\"line_alpha\":{\"value\":1.0},\"line_color\":{\"value\":\"black\"},\"line_dash\":[4,4],\"line_width\":{\"value\":2},\"render_mode\":\"css\",\"right_units\":\"screen\",\"top_units\":\"screen\"},\"id\":\"1128\",\"type\":\"BoxAnnotation\"},{\"attributes\":{\"items\":[{\"id\":\"1130\",\"type\":\"LegendItem\"}],\"location\":\"bottom_left\"},\"id\":\"1129\",\"type\":\"Legend\"},{\"attributes\":{\"axis_label\":\"SP.POP.TOTL\",\"formatter\":{\"id\":\"1127\",\"type\":\"BasicTickFormatter\"},\"ticker\":{\"id\":\"1101\",\"type\":\"BasicTicker\"}},\"id\":\"1100\",\"type\":\"LinearAxis\"},{\"attributes\":{\"label\":{\"value\":\"LDCs\"},\"renderers\":[{\"id\":\"1121\",\"type\":\"GlyphRenderer\"}]},\"id\":\"1130\",\"type\":\"LegendItem\"},{\"attributes\":{},\"id\":\"1101\",\"type\":\"BasicTicker\"}],\"root_ids\":[\"1084\"]},\"title\":\"Bokeh Application\",\"version\":\"1.3.4\"}};\n",
       "  var render_items = [{\"docid\":\"8f418438-ee45-403c-a8ca-0fc3814db608\",\"roots\":{\"1084\":\"261cd2d7-3e37-4a01-9539-8024d437c2c9\"}}];\n",
       "  root.Bokeh.embed.embed_items_notebook(docs_json, render_items);\n",
       "\n",
       "  }\n",
       "  if (root.Bokeh !== undefined) {\n",
       "    embed_document(root);\n",
       "  } else {\n",
       "    var attempts = 0;\n",
       "    var timer = setInterval(function(root) {\n",
       "      if (root.Bokeh !== undefined) {\n",
       "        embed_document(root);\n",
       "        clearInterval(timer);\n",
       "      }\n",
       "      attempts++;\n",
       "      if (attempts > 100) {\n",
       "        console.log(\"Bokeh: ERROR: Unable to run BokehJS code because BokehJS library is missing\");\n",
       "        clearInterval(timer);\n",
       "      }\n",
       "    }, 10, root)\n",
       "  }\n",
       "})(window);"
      ],
      "application/vnd.bokehjs_exec.v0+json": ""
     },
     "metadata": {
      "application/vnd.bokehjs_exec.v0+json": {
       "id": "1084"
      }
     },
     "output_type": "display_data"
    }
   ],
   "source": [
    "years = list(map(str, list(range(1960,2018))))\n",
    "result = show_group_total(years, 'SP.POP.TOTL', ['LDCs'])"
   ]
  },
  {
   "cell_type": "code",
   "execution_count": 5,
   "metadata": {
    "slideshow": {
     "slide_type": "slide"
    }
   },
   "outputs": [
    {
     "data": {
      "text/html": [
       "\n",
       "\n",
       "\n",
       "\n",
       "\n",
       "\n",
       "  <div class=\"bk-root\" id=\"6510ecb7-f3c5-4368-bc27-fabaa70a9922\" data-root-id=\"1215\"></div>\n"
      ]
     },
     "metadata": {},
     "output_type": "display_data"
    },
    {
     "data": {
      "application/javascript": [
       "(function(root) {\n",
       "  function embed_document(root) {\n",
       "    \n",
       "  var docs_json = {\"3ecf5db9-91aa-4312-b261-86abd80978f3\":{\"roots\":{\"references\":[{\"attributes\":{\"below\":[{\"id\":\"1226\",\"type\":\"LinearAxis\"}],\"center\":[{\"id\":\"1230\",\"type\":\"Grid\"},{\"id\":\"1235\",\"type\":\"Grid\"},{\"id\":\"1260\",\"type\":\"Legend\"}],\"left\":[{\"id\":\"1231\",\"type\":\"LinearAxis\"}],\"plot_height\":400,\"plot_width\":900,\"renderers\":[{\"id\":\"1252\",\"type\":\"GlyphRenderer\"},{\"id\":\"1265\",\"type\":\"GlyphRenderer\"}],\"title\":{\"id\":\"1216\",\"type\":\"Title\"},\"toolbar\":{\"id\":\"1242\",\"type\":\"Toolbar\"},\"x_range\":{\"id\":\"1218\",\"type\":\"DataRange1d\"},\"x_scale\":{\"id\":\"1222\",\"type\":\"LinearScale\"},\"y_range\":{\"id\":\"1220\",\"type\":\"DataRange1d\"},\"y_scale\":{\"id\":\"1224\",\"type\":\"LinearScale\"}},\"id\":\"1215\",\"subtype\":\"Figure\",\"type\":\"Plot\"},{\"attributes\":{\"bottom_units\":\"screen\",\"fill_alpha\":{\"value\":0.5},\"fill_color\":{\"value\":\"lightgrey\"},\"left_units\":\"screen\",\"level\":\"overlay\",\"line_alpha\":{\"value\":1.0},\"line_color\":{\"value\":\"black\"},\"line_dash\":[4,4],\"line_width\":{\"value\":2},\"render_mode\":\"css\",\"right_units\":\"screen\",\"top_units\":\"screen\"},\"id\":\"1259\",\"type\":\"BoxAnnotation\"},{\"attributes\":{},\"id\":\"1227\",\"type\":\"BasicTicker\"},{\"attributes\":{\"items\":[{\"id\":\"1261\",\"type\":\"LegendItem\"}],\"location\":\"bottom_left\"},\"id\":\"1260\",\"type\":\"Legend\"},{\"attributes\":{\"grid_line_color\":null,\"ticker\":{\"id\":\"1227\",\"type\":\"BasicTicker\"}},\"id\":\"1230\",\"type\":\"Grid\"},{\"attributes\":{\"callback\":null,\"tooltips\":\"                \\n        <div style=padding=5px>Year:@x</div>\\n        <div style=padding=5px>Value:@y</div>        \\n        \"},\"id\":\"1267\",\"type\":\"HoverTool\"},{\"attributes\":{\"label\":{\"value\":\"LDCs\"},\"renderers\":[{\"id\":\"1252\",\"type\":\"GlyphRenderer\"}]},\"id\":\"1261\",\"type\":\"LegendItem\"},{\"attributes\":{\"axis_label\":\"Population below 30\",\"formatter\":{\"id\":\"1258\",\"type\":\"BasicTickFormatter\"},\"ticker\":{\"id\":\"1232\",\"type\":\"BasicTicker\"}},\"id\":\"1231\",\"type\":\"LinearAxis\"},{\"attributes\":{\"callback\":null,\"data\":{\"x\":[1950.0,1951.0,1952.0,1953.0,1954.0,1955.0,1956.0,1957.0,1958.0,1959.0,1960.0,1961.0,1962.0,1963.0,1964.0,1965.0,1966.0,1967.0,1968.0,1969.0,1970.0,1971.0,1972.0,1973.0,1974.0,1975.0,1976.0,1977.0,1978.0,1979.0,1980.0,1981.0,1982.0,1983.0,1984.0,1985.0,1986.0,1987.0,1988.0,1989.0,1990.0,1991.0,1992.0,1993.0,1994.0,1995.0,1996.0,1997.0,1998.0,1999.0,2000.0,2001.0,2002.0,2003.0,2004.0,2005.0,2006.0,2007.0,2008.0,2009.0,2010.0,2011.0,2012.0,2013.0,2014.0,2015.0,2016.0,2017.0,2018.0,2019.0,2020.0],\"y\":[132855.88099999996,135623.16100000002,138407.477,141227.311,144119.51400000002,147127.231,150509.91700000002,153963.42400000003,157518.09399999998,161189.969,164981.977,169109.49200000006,173326.13599999997,177665.10000000006,182166.30499999996,186863.58400000003,192073.58499999996,197434.59099999996,202899.996,208393.333,213859.267,219331.986,224731.436,230128.11800000002,235632.36299999998,241339.312,247786.55999999997,254424.46299999993,261269.672,268312.89499999996,275543.42300000007,283376.7379999999,291350.78199999995,299481.427,307779.018,316260.33599999995,325094.9699999999,334018.047,343080.72,352344.05400000006,361846.22199999995,371586.42400000006,381491.8949999999,391487.6139999999,401463.72899999993,411352.94100000005,421795.947,432141.857,442496.88000000006,453010.24,463788.02800000005,475026.4589999999,486453.019,498005.87899999996,509581.276,521108.3789999999,532682.003,544207.1329999999,555758.8630000001,567425.0279999999,579272.7570000001,591382.7909999999,603599.0029999999,615969.5159999998,628560.117,641410.265,654453.5269999998,667655.3029999998,680941.229,694201.3130000002,707362.3299999997]},\"selected\":{\"id\":\"1295\",\"type\":\"Selection\"},\"selection_policy\":{\"id\":\"1294\",\"type\":\"UnionRenderers\"}},\"id\":\"1262\",\"type\":\"ColumnDataSource\"},{\"attributes\":{},\"id\":\"1232\",\"type\":\"BasicTicker\"},{\"attributes\":{\"fill_color\":{\"value\":\"#FA1857\"},\"line_color\":{\"value\":\"#FA1857\"},\"line_width\":{\"value\":3},\"x\":{\"field\":\"x\"},\"y\":{\"field\":\"y\"}},\"id\":\"1263\",\"type\":\"Circle\"},{\"attributes\":{\"dimension\":1,\"grid_line_alpha\":0.5,\"ticker\":{\"id\":\"1232\",\"type\":\"BasicTicker\"}},\"id\":\"1235\",\"type\":\"Grid\"},{\"attributes\":{\"fill_alpha\":{\"value\":0.1},\"fill_color\":{\"value\":\"#1f77b4\"},\"line_alpha\":{\"value\":0.1},\"line_color\":{\"value\":\"#1f77b4\"},\"line_width\":{\"value\":3},\"x\":{\"field\":\"x\"},\"y\":{\"field\":\"y\"}},\"id\":\"1264\",\"type\":\"Circle\"},{\"attributes\":{\"line_alpha\":0.1,\"line_color\":\"#1f77b4\",\"x\":{\"field\":\"x\"},\"y\":{\"field\":\"y\"}},\"id\":\"1251\",\"type\":\"Line\"},{\"attributes\":{\"data_source\":{\"id\":\"1262\",\"type\":\"ColumnDataSource\"},\"glyph\":{\"id\":\"1263\",\"type\":\"Circle\"},\"hover_glyph\":null,\"muted_glyph\":null,\"nonselection_glyph\":{\"id\":\"1264\",\"type\":\"Circle\"},\"selection_glyph\":null,\"view\":{\"id\":\"1266\",\"type\":\"CDSView\"}},\"id\":\"1265\",\"type\":\"GlyphRenderer\"},{\"attributes\":{\"callback\":null,\"data\":{\"x\":[1950.0,1951.0,1952.0,1953.0,1954.0,1955.0,1956.0,1957.0,1958.0,1959.0,1960.0,1961.0,1962.0,1963.0,1964.0,1965.0,1966.0,1967.0,1968.0,1969.0,1970.0,1971.0,1972.0,1973.0,1974.0,1975.0,1976.0,1977.0,1978.0,1979.0,1980.0,1981.0,1982.0,1983.0,1984.0,1985.0,1986.0,1987.0,1988.0,1989.0,1990.0,1991.0,1992.0,1993.0,1994.0,1995.0,1996.0,1997.0,1998.0,1999.0,2000.0,2001.0,2002.0,2003.0,2004.0,2005.0,2006.0,2007.0,2008.0,2009.0,2010.0,2011.0,2012.0,2013.0,2014.0,2015.0,2016.0,2017.0,2018.0,2019.0,2020.0],\"y\":[132855.88099999996,135623.16100000002,138407.477,141227.311,144119.51400000002,147127.231,150509.91700000002,153963.42400000003,157518.09399999998,161189.969,164981.977,169109.49200000006,173326.13599999997,177665.10000000006,182166.30499999996,186863.58400000003,192073.58499999996,197434.59099999996,202899.996,208393.333,213859.267,219331.986,224731.436,230128.11800000002,235632.36299999998,241339.312,247786.55999999997,254424.46299999993,261269.672,268312.89499999996,275543.42300000007,283376.7379999999,291350.78199999995,299481.427,307779.018,316260.33599999995,325094.9699999999,334018.047,343080.72,352344.05400000006,361846.22199999995,371586.42400000006,381491.8949999999,391487.6139999999,401463.72899999993,411352.94100000005,421795.947,432141.857,442496.88000000006,453010.24,463788.02800000005,475026.4589999999,486453.019,498005.87899999996,509581.276,521108.3789999999,532682.003,544207.1329999999,555758.8630000001,567425.0279999999,579272.7570000001,591382.7909999999,603599.0029999999,615969.5159999998,628560.117,641410.265,654453.5269999998,667655.3029999998,680941.229,694201.3130000002,707362.3299999997]},\"selected\":{\"id\":\"1293\",\"type\":\"Selection\"},\"selection_policy\":{\"id\":\"1292\",\"type\":\"UnionRenderers\"}},\"id\":\"1249\",\"type\":\"ColumnDataSource\"},{\"attributes\":{\"source\":{\"id\":\"1262\",\"type\":\"ColumnDataSource\"}},\"id\":\"1266\",\"type\":\"CDSView\"},{\"attributes\":{\"data_source\":{\"id\":\"1249\",\"type\":\"ColumnDataSource\"},\"glyph\":{\"id\":\"1250\",\"type\":\"Line\"},\"hover_glyph\":null,\"muted_glyph\":null,\"nonselection_glyph\":{\"id\":\"1251\",\"type\":\"Line\"},\"selection_glyph\":null,\"view\":{\"id\":\"1253\",\"type\":\"CDSView\"}},\"id\":\"1252\",\"type\":\"GlyphRenderer\"},{\"attributes\":{},\"id\":\"1236\",\"type\":\"PanTool\"},{\"attributes\":{\"line_color\":\"#FA1857\",\"x\":{\"field\":\"x\"},\"y\":{\"field\":\"y\"}},\"id\":\"1250\",\"type\":\"Line\"},{\"attributes\":{},\"id\":\"1237\",\"type\":\"WheelZoomTool\"},{\"attributes\":{},\"id\":\"1292\",\"type\":\"UnionRenderers\"},{\"attributes\":{\"overlay\":{\"id\":\"1259\",\"type\":\"BoxAnnotation\"}},\"id\":\"1238\",\"type\":\"BoxZoomTool\"},{\"attributes\":{},\"id\":\"1293\",\"type\":\"Selection\"},{\"attributes\":{},\"id\":\"1239\",\"type\":\"SaveTool\"},{\"attributes\":{},\"id\":\"1294\",\"type\":\"UnionRenderers\"},{\"attributes\":{},\"id\":\"1295\",\"type\":\"Selection\"},{\"attributes\":{},\"id\":\"1241\",\"type\":\"HelpTool\"},{\"attributes\":{\"text\":\"\"},\"id\":\"1216\",\"type\":\"Title\"},{\"attributes\":{\"callback\":null},\"id\":\"1218\",\"type\":\"DataRange1d\"},{\"attributes\":{\"active_drag\":\"auto\",\"active_inspect\":\"auto\",\"active_multi\":null,\"active_scroll\":\"auto\",\"active_tap\":\"auto\",\"tools\":[{\"id\":\"1236\",\"type\":\"PanTool\"},{\"id\":\"1237\",\"type\":\"WheelZoomTool\"},{\"id\":\"1238\",\"type\":\"BoxZoomTool\"},{\"id\":\"1239\",\"type\":\"SaveTool\"},{\"id\":\"1240\",\"type\":\"ResetTool\"},{\"id\":\"1241\",\"type\":\"HelpTool\"},{\"id\":\"1267\",\"type\":\"HoverTool\"}]},\"id\":\"1242\",\"type\":\"Toolbar\"},{\"attributes\":{\"callback\":null},\"id\":\"1220\",\"type\":\"DataRange1d\"},{\"attributes\":{\"source\":{\"id\":\"1249\",\"type\":\"ColumnDataSource\"}},\"id\":\"1253\",\"type\":\"CDSView\"},{\"attributes\":{},\"id\":\"1222\",\"type\":\"LinearScale\"},{\"attributes\":{},\"id\":\"1240\",\"type\":\"ResetTool\"},{\"attributes\":{},\"id\":\"1224\",\"type\":\"LinearScale\"},{\"attributes\":{},\"id\":\"1256\",\"type\":\"BasicTickFormatter\"},{\"attributes\":{\"axis_label\":\"Years\",\"formatter\":{\"id\":\"1256\",\"type\":\"BasicTickFormatter\"},\"ticker\":{\"id\":\"1227\",\"type\":\"BasicTicker\"}},\"id\":\"1226\",\"type\":\"LinearAxis\"},{\"attributes\":{},\"id\":\"1258\",\"type\":\"BasicTickFormatter\"}],\"root_ids\":[\"1215\"]},\"title\":\"Bokeh Application\",\"version\":\"1.3.4\"}};\n",
       "  var render_items = [{\"docid\":\"3ecf5db9-91aa-4312-b261-86abd80978f3\",\"roots\":{\"1215\":\"6510ecb7-f3c5-4368-bc27-fabaa70a9922\"}}];\n",
       "  root.Bokeh.embed.embed_items_notebook(docs_json, render_items);\n",
       "\n",
       "  }\n",
       "  if (root.Bokeh !== undefined) {\n",
       "    embed_document(root);\n",
       "  } else {\n",
       "    var attempts = 0;\n",
       "    var timer = setInterval(function(root) {\n",
       "      if (root.Bokeh !== undefined) {\n",
       "        embed_document(root);\n",
       "        clearInterval(timer);\n",
       "      }\n",
       "      attempts++;\n",
       "      if (attempts > 100) {\n",
       "        console.log(\"Bokeh: ERROR: Unable to run BokehJS code because BokehJS library is missing\");\n",
       "        clearInterval(timer);\n",
       "      }\n",
       "    }, 10, root)\n",
       "  }\n",
       "})(window);"
      ],
      "application/vnd.bokehjs_exec.v0+json": ""
     },
     "metadata": {
      "application/vnd.bokehjs_exec.v0+json": {
       "id": "1215"
      }
     },
     "output_type": "display_data"
    }
   ],
   "source": [
    "d = sources.unpd.indicators.get_age_group_by_country_groups(\"0-29\", ['LDCs'])\n",
    "show(line_chart(d, d[0][3], x_axis_label=\"Years\", y_axis_label='Population below 30', height=400, width=900))"
   ]
  },
  {
   "cell_type": "code",
   "execution_count": 6,
   "metadata": {
    "slideshow": {
     "slide_type": "slide"
    }
   },
   "outputs": [
    {
     "data": {
      "text/html": [
       "\n",
       "\n",
       "\n",
       "\n",
       "\n",
       "\n",
       "  <div class=\"bk-root\" id=\"05a625e1-935a-44a3-9671-c2539f93ae60\" data-root-id=\"1356\"></div>\n"
      ]
     },
     "metadata": {},
     "output_type": "display_data"
    },
    {
     "data": {
      "application/javascript": [
       "(function(root) {\n",
       "  function embed_document(root) {\n",
       "    \n",
       "  var docs_json = {\"7f871e39-4603-4b62-be9e-465548f483c0\":{\"roots\":{\"references\":[{\"attributes\":{\"below\":[{\"id\":\"1367\",\"type\":\"LinearAxis\"}],\"center\":[{\"id\":\"1371\",\"type\":\"Grid\"},{\"id\":\"1376\",\"type\":\"Grid\"},{\"id\":\"1401\",\"type\":\"Legend\"}],\"left\":[{\"id\":\"1372\",\"type\":\"LinearAxis\"}],\"plot_height\":400,\"plot_width\":1000,\"renderers\":[{\"id\":\"1393\",\"type\":\"GlyphRenderer\"},{\"id\":\"1406\",\"type\":\"GlyphRenderer\"}],\"title\":{\"id\":\"1357\",\"type\":\"Title\"},\"toolbar\":{\"id\":\"1383\",\"type\":\"Toolbar\"},\"x_range\":{\"id\":\"1359\",\"type\":\"DataRange1d\"},\"x_scale\":{\"id\":\"1363\",\"type\":\"LinearScale\"},\"y_range\":{\"id\":\"1361\",\"type\":\"DataRange1d\"},\"y_scale\":{\"id\":\"1365\",\"type\":\"LinearScale\"}},\"id\":\"1356\",\"subtype\":\"Figure\",\"type\":\"Plot\"},{\"attributes\":{\"source\":{\"id\":\"1390\",\"type\":\"ColumnDataSource\"}},\"id\":\"1394\",\"type\":\"CDSView\"},{\"attributes\":{},\"id\":\"1399\",\"type\":\"BasicTickFormatter\"},{\"attributes\":{\"bottom_units\":\"screen\",\"fill_alpha\":{\"value\":0.5},\"fill_color\":{\"value\":\"lightgrey\"},\"left_units\":\"screen\",\"level\":\"overlay\",\"line_alpha\":{\"value\":1.0},\"line_color\":{\"value\":\"black\"},\"line_dash\":[4,4],\"line_width\":{\"value\":2},\"render_mode\":\"css\",\"right_units\":\"screen\",\"top_units\":\"screen\"},\"id\":\"1400\",\"type\":\"BoxAnnotation\"},{\"attributes\":{\"items\":[{\"id\":\"1402\",\"type\":\"LegendItem\"}],\"location\":\"bottom_left\"},\"id\":\"1401\",\"type\":\"Legend\"},{\"attributes\":{\"line_color\":\"#FA1857\",\"x\":{\"field\":\"x\"},\"y\":{\"field\":\"y\"}},\"id\":\"1391\",\"type\":\"Line\"},{\"attributes\":{},\"id\":\"1397\",\"type\":\"BasicTickFormatter\"},{\"attributes\":{\"label\":{\"value\":\"LDCs\"},\"renderers\":[{\"id\":\"1393\",\"type\":\"GlyphRenderer\"}]},\"id\":\"1402\",\"type\":\"LegendItem\"},{\"attributes\":{\"callback\":null,\"data\":{\"x\":[2020,2025,2030,2035,2040,2045,2050,2055,2060,2065,2070,2075,2080,2085,2090,2095,2100],\"y\":[1057438.163,1182376.585,1313758.882,1450358.0589999997,1590723.5140000007,1733412.6489999997,1876797.781,2019337.702000001,2159628.188,2296253.5399999996,2427682.2370000007,2552545.8049999997,2669675.032999999,2778054.0900000003,2877186.7590000005,2966790.3559999997,3046778.7830000003]},\"selected\":{\"id\":\"1446\",\"type\":\"Selection\"},\"selection_policy\":{\"id\":\"1445\",\"type\":\"UnionRenderers\"}},\"id\":\"1403\",\"type\":\"ColumnDataSource\"},{\"attributes\":{\"text\":\"Projected population, thousands\"},\"id\":\"1357\",\"type\":\"Title\"},{\"attributes\":{\"callback\":null},\"id\":\"1359\",\"type\":\"DataRange1d\"},{\"attributes\":{\"fill_color\":{\"value\":\"#FA1857\"},\"line_color\":{\"value\":\"#FA1857\"},\"line_width\":{\"value\":3},\"x\":{\"field\":\"x\"},\"y\":{\"field\":\"y\"}},\"id\":\"1404\",\"type\":\"Circle\"},{\"attributes\":{\"dimension\":1,\"grid_line_alpha\":0.5,\"ticker\":{\"id\":\"1373\",\"type\":\"BasicTicker\"}},\"id\":\"1376\",\"type\":\"Grid\"},{\"attributes\":{\"callback\":null},\"id\":\"1361\",\"type\":\"DataRange1d\"},{\"attributes\":{\"fill_alpha\":{\"value\":0.1},\"fill_color\":{\"value\":\"#1f77b4\"},\"line_alpha\":{\"value\":0.1},\"line_color\":{\"value\":\"#1f77b4\"},\"line_width\":{\"value\":3},\"x\":{\"field\":\"x\"},\"y\":{\"field\":\"y\"}},\"id\":\"1405\",\"type\":\"Circle\"},{\"attributes\":{},\"id\":\"1363\",\"type\":\"LinearScale\"},{\"attributes\":{\"line_alpha\":0.1,\"line_color\":\"#1f77b4\",\"x\":{\"field\":\"x\"},\"y\":{\"field\":\"y\"}},\"id\":\"1392\",\"type\":\"Line\"},{\"attributes\":{\"data_source\":{\"id\":\"1403\",\"type\":\"ColumnDataSource\"},\"glyph\":{\"id\":\"1404\",\"type\":\"Circle\"},\"hover_glyph\":null,\"muted_glyph\":null,\"nonselection_glyph\":{\"id\":\"1405\",\"type\":\"Circle\"},\"selection_glyph\":null,\"view\":{\"id\":\"1407\",\"type\":\"CDSView\"}},\"id\":\"1406\",\"type\":\"GlyphRenderer\"},{\"attributes\":{},\"id\":\"1365\",\"type\":\"LinearScale\"},{\"attributes\":{\"callback\":null,\"data\":{\"x\":[2020,2025,2030,2035,2040,2045,2050,2055,2060,2065,2070,2075,2080,2085,2090,2095,2100],\"y\":[1057438.163,1182376.585,1313758.882,1450358.0589999997,1590723.5140000007,1733412.6489999997,1876797.781,2019337.702000001,2159628.188,2296253.5399999996,2427682.2370000007,2552545.8049999997,2669675.032999999,2778054.0900000003,2877186.7590000005,2966790.3559999997,3046778.7830000003]},\"selected\":{\"id\":\"1444\",\"type\":\"Selection\"},\"selection_policy\":{\"id\":\"1443\",\"type\":\"UnionRenderers\"}},\"id\":\"1390\",\"type\":\"ColumnDataSource\"},{\"attributes\":{\"source\":{\"id\":\"1403\",\"type\":\"ColumnDataSource\"}},\"id\":\"1407\",\"type\":\"CDSView\"},{\"attributes\":{\"axis_label\":\"Years\",\"formatter\":{\"id\":\"1397\",\"type\":\"BasicTickFormatter\"},\"ticker\":{\"id\":\"1368\",\"type\":\"BasicTicker\"}},\"id\":\"1367\",\"type\":\"LinearAxis\"},{\"attributes\":{\"data_source\":{\"id\":\"1390\",\"type\":\"ColumnDataSource\"},\"glyph\":{\"id\":\"1391\",\"type\":\"Line\"},\"hover_glyph\":null,\"muted_glyph\":null,\"nonselection_glyph\":{\"id\":\"1392\",\"type\":\"Line\"},\"selection_glyph\":null,\"view\":{\"id\":\"1394\",\"type\":\"CDSView\"}},\"id\":\"1393\",\"type\":\"GlyphRenderer\"},{\"attributes\":{},\"id\":\"1377\",\"type\":\"PanTool\"},{\"attributes\":{},\"id\":\"1381\",\"type\":\"ResetTool\"},{\"attributes\":{},\"id\":\"1378\",\"type\":\"WheelZoomTool\"},{\"attributes\":{\"grid_line_color\":null,\"ticker\":{\"id\":\"1368\",\"type\":\"BasicTicker\"}},\"id\":\"1371\",\"type\":\"Grid\"},{\"attributes\":{\"axis_label\":\"Projected population, 0-24, thousands\",\"formatter\":{\"id\":\"1399\",\"type\":\"BasicTickFormatter\"},\"ticker\":{\"id\":\"1373\",\"type\":\"BasicTicker\"}},\"id\":\"1372\",\"type\":\"LinearAxis\"},{\"attributes\":{},\"id\":\"1443\",\"type\":\"UnionRenderers\"},{\"attributes\":{\"overlay\":{\"id\":\"1400\",\"type\":\"BoxAnnotation\"}},\"id\":\"1379\",\"type\":\"BoxZoomTool\"},{\"attributes\":{},\"id\":\"1368\",\"type\":\"BasicTicker\"},{\"attributes\":{},\"id\":\"1444\",\"type\":\"Selection\"},{\"attributes\":{},\"id\":\"1380\",\"type\":\"SaveTool\"},{\"attributes\":{},\"id\":\"1445\",\"type\":\"UnionRenderers\"},{\"attributes\":{},\"id\":\"1373\",\"type\":\"BasicTicker\"},{\"attributes\":{},\"id\":\"1382\",\"type\":\"HelpTool\"},{\"attributes\":{},\"id\":\"1446\",\"type\":\"Selection\"},{\"attributes\":{\"active_drag\":\"auto\",\"active_inspect\":\"auto\",\"active_multi\":null,\"active_scroll\":\"auto\",\"active_tap\":\"auto\",\"tools\":[{\"id\":\"1377\",\"type\":\"PanTool\"},{\"id\":\"1378\",\"type\":\"WheelZoomTool\"},{\"id\":\"1379\",\"type\":\"BoxZoomTool\"},{\"id\":\"1380\",\"type\":\"SaveTool\"},{\"id\":\"1381\",\"type\":\"ResetTool\"},{\"id\":\"1382\",\"type\":\"HelpTool\"},{\"id\":\"1408\",\"type\":\"HoverTool\"}]},\"id\":\"1383\",\"type\":\"Toolbar\"},{\"attributes\":{\"callback\":null,\"tooltips\":\"                \\n        <div style=padding=5px>Year:@x</div>\\n        <div style=padding=5px>Value:@y</div>        \\n        \"},\"id\":\"1408\",\"type\":\"HoverTool\"}],\"root_ids\":[\"1356\"]},\"title\":\"Bokeh Application\",\"version\":\"1.3.4\"}};\n",
       "  var render_items = [{\"docid\":\"7f871e39-4603-4b62-be9e-465548f483c0\",\"roots\":{\"1356\":\"05a625e1-935a-44a3-9671-c2539f93ae60\"}}];\n",
       "  root.Bokeh.embed.embed_items_notebook(docs_json, render_items);\n",
       "\n",
       "  }\n",
       "  if (root.Bokeh !== undefined) {\n",
       "    embed_document(root);\n",
       "  } else {\n",
       "    var attempts = 0;\n",
       "    var timer = setInterval(function(root) {\n",
       "      if (root.Bokeh !== undefined) {\n",
       "        embed_document(root);\n",
       "        clearInterval(timer);\n",
       "      }\n",
       "      attempts++;\n",
       "      if (attempts > 100) {\n",
       "        console.log(\"Bokeh: ERROR: Unable to run BokehJS code because BokehJS library is missing\");\n",
       "        clearInterval(timer);\n",
       "      }\n",
       "    }, 10, root)\n",
       "  }\n",
       "})(window);"
      ],
      "application/vnd.bokehjs_exec.v0+json": ""
     },
     "metadata": {
      "application/vnd.bokehjs_exec.v0+json": {
       "id": "1356"
      }
     },
     "output_type": "display_data"
    }
   ],
   "source": [
    "show(line_chart(sources.unpd.indicators.get_projection_by_groups(['LDCs'], dataset='0-24'), \"Projected population, thousands\", \n",
    "                x_axis_label='Years', y_axis_label='Projected population, 0-24, thousands', height=400, width=1000))"
   ]
  },
  {
   "cell_type": "code",
   "execution_count": 7,
   "metadata": {
    "ExecuteTime": {
     "end_time": "2019-10-25T14:23:48.553769Z",
     "start_time": "2019-10-25T14:23:47.482012Z"
    },
    "slideshow": {
     "slide_type": "slide"
    }
   },
   "outputs": [
    {
     "data": {
      "text/html": [
       "\n",
       "\n",
       "\n",
       "\n",
       "\n",
       "\n",
       "  <div class=\"bk-root\" id=\"a2a92c64-51e4-46aa-9e6c-4569f6c7c812\" data-root-id=\"1507\"></div>\n"
      ]
     },
     "metadata": {},
     "output_type": "display_data"
    },
    {
     "data": {
      "application/javascript": [
       "(function(root) {\n",
       "  function embed_document(root) {\n",
       "    \n",
       "  var docs_json = {\"7d28a713-039b-4b4b-b4b6-34e437b9c8c8\":{\"roots\":{\"references\":[{\"attributes\":{\"below\":[{\"id\":\"1518\",\"type\":\"LinearAxis\"}],\"center\":[{\"id\":\"1522\",\"type\":\"Grid\"},{\"id\":\"1527\",\"type\":\"Grid\"},{\"id\":\"1552\",\"type\":\"Legend\"}],\"left\":[{\"id\":\"1523\",\"type\":\"LinearAxis\"}],\"plot_height\":400,\"plot_width\":1000,\"renderers\":[{\"id\":\"1544\",\"type\":\"GlyphRenderer\"},{\"id\":\"1557\",\"type\":\"GlyphRenderer\"},{\"id\":\"1562\",\"type\":\"GlyphRenderer\"},{\"id\":\"1578\",\"type\":\"GlyphRenderer\"},{\"id\":\"1583\",\"type\":\"GlyphRenderer\"},{\"id\":\"1603\",\"type\":\"GlyphRenderer\"}],\"title\":{\"id\":\"1508\",\"type\":\"Title\"},\"toolbar\":{\"id\":\"1534\",\"type\":\"Toolbar\"},\"x_range\":{\"id\":\"1510\",\"type\":\"DataRange1d\"},\"x_scale\":{\"id\":\"1514\",\"type\":\"LinearScale\"},\"y_range\":{\"id\":\"1512\",\"type\":\"DataRange1d\"},\"y_scale\":{\"id\":\"1516\",\"type\":\"LinearScale\"}},\"id\":\"1507\",\"subtype\":\"Figure\",\"type\":\"Plot\"},{\"attributes\":{\"callback\":null},\"id\":\"1512\",\"type\":\"DataRange1d\"},{\"attributes\":{\"callback\":null},\"id\":\"1510\",\"type\":\"DataRange1d\"},{\"attributes\":{\"data_source\":{\"id\":\"1559\",\"type\":\"ColumnDataSource\"},\"glyph\":{\"id\":\"1560\",\"type\":\"Line\"},\"hover_glyph\":null,\"muted_glyph\":null,\"nonselection_glyph\":{\"id\":\"1561\",\"type\":\"Line\"},\"selection_glyph\":null,\"view\":{\"id\":\"1563\",\"type\":\"CDSView\"}},\"id\":\"1562\",\"type\":\"GlyphRenderer\"},{\"attributes\":{},\"id\":\"1531\",\"type\":\"SaveTool\"},{\"attributes\":{},\"id\":\"1596\",\"type\":\"Selection\"},{\"attributes\":{\"source\":{\"id\":\"1559\",\"type\":\"ColumnDataSource\"}},\"id\":\"1563\",\"type\":\"CDSView\"},{\"attributes\":{},\"id\":\"1597\",\"type\":\"UnionRenderers\"},{\"attributes\":{},\"id\":\"1533\",\"type\":\"HelpTool\"},{\"attributes\":{},\"id\":\"1570\",\"type\":\"UnionRenderers\"},{\"attributes\":{},\"id\":\"1598\",\"type\":\"Selection\"},{\"attributes\":{\"active_drag\":\"auto\",\"active_inspect\":\"auto\",\"active_multi\":null,\"active_scroll\":\"auto\",\"active_tap\":\"auto\",\"tools\":[{\"id\":\"1528\",\"type\":\"PanTool\"},{\"id\":\"1529\",\"type\":\"WheelZoomTool\"},{\"id\":\"1530\",\"type\":\"BoxZoomTool\"},{\"id\":\"1531\",\"type\":\"SaveTool\"},{\"id\":\"1532\",\"type\":\"ResetTool\"},{\"id\":\"1533\",\"type\":\"HelpTool\"},{\"id\":\"1605\",\"type\":\"HoverTool\"}]},\"id\":\"1534\",\"type\":\"Toolbar\"},{\"attributes\":{},\"id\":\"1524\",\"type\":\"BasicTicker\"},{\"attributes\":{},\"id\":\"1571\",\"type\":\"Selection\"},{\"attributes\":{},\"id\":\"1595\",\"type\":\"UnionRenderers\"},{\"attributes\":{\"data_source\":{\"id\":\"1541\",\"type\":\"ColumnDataSource\"},\"glyph\":{\"id\":\"1542\",\"type\":\"Line\"},\"hover_glyph\":null,\"muted_glyph\":null,\"nonselection_glyph\":{\"id\":\"1543\",\"type\":\"Line\"},\"selection_glyph\":null,\"view\":{\"id\":\"1545\",\"type\":\"CDSView\"}},\"id\":\"1544\",\"type\":\"GlyphRenderer\"},{\"attributes\":{\"label\":{\"value\":\"OECD\"},\"renderers\":[{\"id\":\"1583\",\"type\":\"GlyphRenderer\"}]},\"id\":\"1599\",\"type\":\"LegendItem\"},{\"attributes\":{\"line_color\":\"#FA1857\",\"x\":{\"field\":\"x\"},\"y\":{\"field\":\"y\"}},\"id\":\"1542\",\"type\":\"Line\"},{\"attributes\":{},\"id\":\"1572\",\"type\":\"UnionRenderers\"},{\"attributes\":{\"source\":{\"id\":\"1541\",\"type\":\"ColumnDataSource\"}},\"id\":\"1545\",\"type\":\"CDSView\"},{\"attributes\":{\"callback\":null,\"data\":{\"x\":[2020,2025,2030,2035,2040,2045,2050,2055,2060,2065,2070,2075,2080,2085,2090,2095,2100],\"y\":[912306.7240000002,924199.783,933262.5580000001,940475.6150000001,944668.037,945929.6540000001,944372.924,940125.755,933542.0040000002,925493.626,916927.8789999998,908413.484,900272.8359999999,892459.4159999999,884981.163,877749.1270000001,870615.133]},\"selected\":{\"id\":\"1661\",\"type\":\"Selection\"},\"selection_policy\":{\"id\":\"1660\",\"type\":\"UnionRenderers\"}},\"id\":\"1600\",\"type\":\"ColumnDataSource\"},{\"attributes\":{},\"id\":\"1573\",\"type\":\"Selection\"},{\"attributes\":{\"fill_color\":{\"value\":\"#2CC775\"},\"line_color\":{\"value\":\"#2CC775\"},\"line_width\":{\"value\":3},\"x\":{\"field\":\"x\"},\"y\":{\"field\":\"y\"}},\"id\":\"1601\",\"type\":\"Circle\"},{\"attributes\":{\"label\":{\"value\":\"Developing excluding LDCs\"},\"renderers\":[{\"id\":\"1562\",\"type\":\"GlyphRenderer\"}]},\"id\":\"1574\",\"type\":\"LegendItem\"},{\"attributes\":{},\"id\":\"1550\",\"type\":\"BasicTickFormatter\"},{\"attributes\":{\"callback\":null,\"tooltips\":\"                \\n        <div style=padding=5px>Year:@x</div>\\n        <div style=padding=5px>Value:@y</div>        \\n        \"},\"id\":\"1605\",\"type\":\"HoverTool\"},{\"attributes\":{\"fill_alpha\":{\"value\":0.1},\"fill_color\":{\"value\":\"#1f77b4\"},\"line_alpha\":{\"value\":0.1},\"line_color\":{\"value\":\"#1f77b4\"},\"line_width\":{\"value\":3},\"x\":{\"field\":\"x\"},\"y\":{\"field\":\"y\"}},\"id\":\"1602\",\"type\":\"Circle\"},{\"attributes\":{\"callback\":null,\"data\":{\"x\":[2020,2025,2030,2035,2040,2045,2050,2055,2060,2065,2070,2075,2080,2085,2090,2095,2100],\"y\":[4993103.786000001,5218738.716999997,5421085.645999999,5600144.947999999,5752488.066,5878012.936,5976889.714000002,6050353.927999998,6099916.011999999,6128642.660999999,6138746.354000001,6132326.774999998,6111578.452999997,6078805.713000003,6037048.572999997,5987636.3539999975,5930332.014000001]},\"selected\":{\"id\":\"1598\",\"type\":\"Selection\"},\"selection_policy\":{\"id\":\"1597\",\"type\":\"UnionRenderers\"}},\"id\":\"1575\",\"type\":\"ColumnDataSource\"},{\"attributes\":{\"data_source\":{\"id\":\"1600\",\"type\":\"ColumnDataSource\"},\"glyph\":{\"id\":\"1601\",\"type\":\"Circle\"},\"hover_glyph\":null,\"muted_glyph\":null,\"nonselection_glyph\":{\"id\":\"1602\",\"type\":\"Circle\"},\"selection_glyph\":null,\"view\":{\"id\":\"1604\",\"type\":\"CDSView\"}},\"id\":\"1603\",\"type\":\"GlyphRenderer\"},{\"attributes\":{\"bottom_units\":\"screen\",\"fill_alpha\":{\"value\":0.5},\"fill_color\":{\"value\":\"lightgrey\"},\"left_units\":\"screen\",\"level\":\"overlay\",\"line_alpha\":{\"value\":1.0},\"line_color\":{\"value\":\"black\"},\"line_dash\":[4,4],\"line_width\":{\"value\":2},\"render_mode\":\"css\",\"right_units\":\"screen\",\"top_units\":\"screen\"},\"id\":\"1551\",\"type\":\"BoxAnnotation\"},{\"attributes\":{\"fill_color\":{\"value\":\"#5430F1\"},\"line_color\":{\"value\":\"#5430F1\"},\"line_width\":{\"value\":3},\"x\":{\"field\":\"x\"},\"y\":{\"field\":\"y\"}},\"id\":\"1576\",\"type\":\"Circle\"},{\"attributes\":{\"items\":[{\"id\":\"1553\",\"type\":\"LegendItem\"},{\"id\":\"1574\",\"type\":\"LegendItem\"},{\"id\":\"1599\",\"type\":\"LegendItem\"}],\"location\":\"bottom_left\"},\"id\":\"1552\",\"type\":\"Legend\"},{\"attributes\":{\"source\":{\"id\":\"1600\",\"type\":\"ColumnDataSource\"}},\"id\":\"1604\",\"type\":\"CDSView\"},{\"attributes\":{},\"id\":\"1514\",\"type\":\"LinearScale\"},{\"attributes\":{\"fill_alpha\":{\"value\":0.1},\"fill_color\":{\"value\":\"#1f77b4\"},\"line_alpha\":{\"value\":0.1},\"line_color\":{\"value\":\"#1f77b4\"},\"line_width\":{\"value\":3},\"x\":{\"field\":\"x\"},\"y\":{\"field\":\"y\"}},\"id\":\"1577\",\"type\":\"Circle\"},{\"attributes\":{\"label\":{\"value\":\"LDCs\"},\"renderers\":[{\"id\":\"1544\",\"type\":\"GlyphRenderer\"}]},\"id\":\"1553\",\"type\":\"LegendItem\"},{\"attributes\":{},\"id\":\"1516\",\"type\":\"LinearScale\"},{\"attributes\":{\"data_source\":{\"id\":\"1575\",\"type\":\"ColumnDataSource\"},\"glyph\":{\"id\":\"1576\",\"type\":\"Circle\"},\"hover_glyph\":null,\"muted_glyph\":null,\"nonselection_glyph\":{\"id\":\"1577\",\"type\":\"Circle\"},\"selection_glyph\":null,\"view\":{\"id\":\"1579\",\"type\":\"CDSView\"}},\"id\":\"1578\",\"type\":\"GlyphRenderer\"},{\"attributes\":{\"callback\":null,\"data\":{\"x\":[2020,2025,2030,2035,2040,2045,2050,2055,2060,2065,2070,2075,2080,2085,2090,2095,2100],\"y\":[1057438.163,1182376.585,1313758.882,1450358.0589999997,1590723.5140000007,1733412.6489999997,1876797.781,2019337.702000001,2159628.188,2296253.5399999996,2427682.2370000007,2552545.8049999997,2669675.032999999,2778054.0900000003,2877186.7590000005,2966790.3559999997,3046778.7830000003]},\"selected\":{\"id\":\"1573\",\"type\":\"Selection\"},\"selection_policy\":{\"id\":\"1572\",\"type\":\"UnionRenderers\"}},\"id\":\"1554\",\"type\":\"ColumnDataSource\"},{\"attributes\":{\"axis_label\":\"Years\",\"formatter\":{\"id\":\"1548\",\"type\":\"BasicTickFormatter\"},\"ticker\":{\"id\":\"1519\",\"type\":\"BasicTicker\"}},\"id\":\"1518\",\"type\":\"LinearAxis\"},{\"attributes\":{},\"id\":\"1658\",\"type\":\"UnionRenderers\"},{\"attributes\":{\"source\":{\"id\":\"1575\",\"type\":\"ColumnDataSource\"}},\"id\":\"1579\",\"type\":\"CDSView\"},{\"attributes\":{\"fill_color\":{\"value\":\"#FA1857\"},\"line_color\":{\"value\":\"#FA1857\"},\"line_width\":{\"value\":3},\"x\":{\"field\":\"x\"},\"y\":{\"field\":\"y\"}},\"id\":\"1555\",\"type\":\"Circle\"},{\"attributes\":{\"dimension\":1,\"grid_line_alpha\":0.5,\"ticker\":{\"id\":\"1524\",\"type\":\"BasicTicker\"}},\"id\":\"1527\",\"type\":\"Grid\"},{\"attributes\":{},\"id\":\"1659\",\"type\":\"Selection\"},{\"attributes\":{},\"id\":\"1532\",\"type\":\"ResetTool\"},{\"attributes\":{},\"id\":\"1548\",\"type\":\"BasicTickFormatter\"},{\"attributes\":{\"fill_alpha\":{\"value\":0.1},\"fill_color\":{\"value\":\"#1f77b4\"},\"line_alpha\":{\"value\":0.1},\"line_color\":{\"value\":\"#1f77b4\"},\"line_width\":{\"value\":3},\"x\":{\"field\":\"x\"},\"y\":{\"field\":\"y\"}},\"id\":\"1556\",\"type\":\"Circle\"},{\"attributes\":{\"axis_label\":\"Projected population, thousands\",\"formatter\":{\"id\":\"1550\",\"type\":\"BasicTickFormatter\"},\"ticker\":{\"id\":\"1524\",\"type\":\"BasicTicker\"}},\"id\":\"1523\",\"type\":\"LinearAxis\"},{\"attributes\":{\"line_alpha\":0.1,\"line_color\":\"#1f77b4\",\"x\":{\"field\":\"x\"},\"y\":{\"field\":\"y\"}},\"id\":\"1543\",\"type\":\"Line\"},{\"attributes\":{\"callback\":null,\"data\":{\"x\":[2020,2025,2030,2035,2040,2045,2050,2055,2060,2065,2070,2075,2080,2085,2090,2095,2100],\"y\":[912306.7240000002,924199.783,933262.5580000001,940475.6150000001,944668.037,945929.6540000001,944372.924,940125.755,933542.0040000002,925493.626,916927.8789999998,908413.484,900272.8359999999,892459.4159999999,884981.163,877749.1270000001,870615.133]},\"selected\":{\"id\":\"1659\",\"type\":\"Selection\"},\"selection_policy\":{\"id\":\"1658\",\"type\":\"UnionRenderers\"}},\"id\":\"1580\",\"type\":\"ColumnDataSource\"},{\"attributes\":{},\"id\":\"1660\",\"type\":\"UnionRenderers\"},{\"attributes\":{\"grid_line_color\":null,\"ticker\":{\"id\":\"1519\",\"type\":\"BasicTicker\"}},\"id\":\"1522\",\"type\":\"Grid\"},{\"attributes\":{\"line_color\":\"#2CC775\",\"x\":{\"field\":\"x\"},\"y\":{\"field\":\"y\"}},\"id\":\"1581\",\"type\":\"Line\"},{\"attributes\":{\"data_source\":{\"id\":\"1554\",\"type\":\"ColumnDataSource\"},\"glyph\":{\"id\":\"1555\",\"type\":\"Circle\"},\"hover_glyph\":null,\"muted_glyph\":null,\"nonselection_glyph\":{\"id\":\"1556\",\"type\":\"Circle\"},\"selection_glyph\":null,\"view\":{\"id\":\"1558\",\"type\":\"CDSView\"}},\"id\":\"1557\",\"type\":\"GlyphRenderer\"},{\"attributes\":{},\"id\":\"1661\",\"type\":\"Selection\"},{\"attributes\":{\"callback\":null,\"data\":{\"x\":[2020,2025,2030,2035,2040,2045,2050,2055,2060,2065,2070,2075,2080,2085,2090,2095,2100],\"y\":[1057438.163,1182376.585,1313758.882,1450358.0589999997,1590723.5140000007,1733412.6489999997,1876797.781,2019337.702000001,2159628.188,2296253.5399999996,2427682.2370000007,2552545.8049999997,2669675.032999999,2778054.0900000003,2877186.7590000005,2966790.3559999997,3046778.7830000003]},\"selected\":{\"id\":\"1571\",\"type\":\"Selection\"},\"selection_policy\":{\"id\":\"1570\",\"type\":\"UnionRenderers\"}},\"id\":\"1541\",\"type\":\"ColumnDataSource\"},{\"attributes\":{\"line_alpha\":0.1,\"line_color\":\"#1f77b4\",\"x\":{\"field\":\"x\"},\"y\":{\"field\":\"y\"}},\"id\":\"1582\",\"type\":\"Line\"},{\"attributes\":{\"source\":{\"id\":\"1554\",\"type\":\"ColumnDataSource\"}},\"id\":\"1558\",\"type\":\"CDSView\"},{\"attributes\":{\"text\":\"Projected population, thousands\"},\"id\":\"1508\",\"type\":\"Title\"},{\"attributes\":{\"data_source\":{\"id\":\"1580\",\"type\":\"ColumnDataSource\"},\"glyph\":{\"id\":\"1581\",\"type\":\"Line\"},\"hover_glyph\":null,\"muted_glyph\":null,\"nonselection_glyph\":{\"id\":\"1582\",\"type\":\"Line\"},\"selection_glyph\":null,\"view\":{\"id\":\"1584\",\"type\":\"CDSView\"}},\"id\":\"1583\",\"type\":\"GlyphRenderer\"},{\"attributes\":{},\"id\":\"1528\",\"type\":\"PanTool\"},{\"attributes\":{\"callback\":null,\"data\":{\"x\":[2020,2025,2030,2035,2040,2045,2050,2055,2060,2065,2070,2075,2080,2085,2090,2095,2100],\"y\":[4993103.786000001,5218738.716999997,5421085.645999999,5600144.947999999,5752488.066,5878012.936,5976889.714000002,6050353.927999998,6099916.011999999,6128642.660999999,6138746.354000001,6132326.774999998,6111578.452999997,6078805.713000003,6037048.572999997,5987636.3539999975,5930332.014000001]},\"selected\":{\"id\":\"1596\",\"type\":\"Selection\"},\"selection_policy\":{\"id\":\"1595\",\"type\":\"UnionRenderers\"}},\"id\":\"1559\",\"type\":\"ColumnDataSource\"},{\"attributes\":{},\"id\":\"1529\",\"type\":\"WheelZoomTool\"},{\"attributes\":{\"source\":{\"id\":\"1580\",\"type\":\"ColumnDataSource\"}},\"id\":\"1584\",\"type\":\"CDSView\"},{\"attributes\":{\"line_color\":\"#5430F1\",\"x\":{\"field\":\"x\"},\"y\":{\"field\":\"y\"}},\"id\":\"1560\",\"type\":\"Line\"},{\"attributes\":{},\"id\":\"1519\",\"type\":\"BasicTicker\"},{\"attributes\":{\"overlay\":{\"id\":\"1551\",\"type\":\"BoxAnnotation\"}},\"id\":\"1530\",\"type\":\"BoxZoomTool\"},{\"attributes\":{\"line_alpha\":0.1,\"line_color\":\"#1f77b4\",\"x\":{\"field\":\"x\"},\"y\":{\"field\":\"y\"}},\"id\":\"1561\",\"type\":\"Line\"}],\"root_ids\":[\"1507\"]},\"title\":\"Bokeh Application\",\"version\":\"1.3.4\"}};\n",
       "  var render_items = [{\"docid\":\"7d28a713-039b-4b4b-b4b6-34e437b9c8c8\",\"roots\":{\"1507\":\"a2a92c64-51e4-46aa-9e6c-4569f6c7c812\"}}];\n",
       "  root.Bokeh.embed.embed_items_notebook(docs_json, render_items);\n",
       "\n",
       "  }\n",
       "  if (root.Bokeh !== undefined) {\n",
       "    embed_document(root);\n",
       "  } else {\n",
       "    var attempts = 0;\n",
       "    var timer = setInterval(function(root) {\n",
       "      if (root.Bokeh !== undefined) {\n",
       "        embed_document(root);\n",
       "        clearInterval(timer);\n",
       "      }\n",
       "      attempts++;\n",
       "      if (attempts > 100) {\n",
       "        console.log(\"Bokeh: ERROR: Unable to run BokehJS code because BokehJS library is missing\");\n",
       "        clearInterval(timer);\n",
       "      }\n",
       "    }, 10, root)\n",
       "  }\n",
       "})(window);"
      ],
      "application/vnd.bokehjs_exec.v0+json": ""
     },
     "metadata": {
      "application/vnd.bokehjs_exec.v0+json": {
       "id": "1507"
      }
     },
     "output_type": "display_data"
    }
   ],
   "source": [
    "show(line_chart(gpp(['LDCs', 'Developing excluding LDCs', 'OECD']), \"Projected population, thousands\", \n",
    "                x_axis_label='Years', y_axis_label='Projected population, thousands', height=400, width=1000))"
   ]
  },
  {
   "cell_type": "code",
   "execution_count": 8,
   "metadata": {
    "ExecuteTime": {
     "end_time": "2019-10-25T14:23:48.676948Z",
     "start_time": "2019-10-25T14:23:48.556170Z"
    },
    "scrolled": true,
    "slideshow": {
     "slide_type": "slide"
    }
   },
   "outputs": [],
   "source": [
    "import sources\n",
    "data = sources.unpd.indicators.get_projection_by_group('LDCs')"
   ]
  },
  {
   "cell_type": "code",
   "execution_count": 9,
   "metadata": {
    "ExecuteTime": {
     "end_time": "2019-10-25T14:24:45.413121Z",
     "start_time": "2019-10-25T14:23:48.680578Z"
    },
    "slideshow": {
     "slide_type": "slide"
    }
   },
   "outputs": [
    {
     "data": {
      "text/html": [
       "\n",
       "\n",
       "\n",
       "\n",
       "\n",
       "\n",
       "  <div class=\"bk-root\" id=\"2cffc65f-caa3-4232-ac14-ccaa4e933696\" data-root-id=\"1770\"></div>\n"
      ]
     },
     "metadata": {},
     "output_type": "display_data"
    },
    {
     "data": {
      "application/javascript": [
       "(function(root) {\n",
       "  function embed_document(root) {\n",
       "    \n",
       "  var docs_json = {\"5319dcc4-cfc5-4059-b875-9918ede964fd\":{\"roots\":{\"references\":[{\"attributes\":{\"below\":[{\"id\":\"1781\",\"type\":\"LinearAxis\"}],\"center\":[{\"id\":\"1785\",\"type\":\"Grid\"},{\"id\":\"1790\",\"type\":\"Grid\"},{\"id\":\"1815\",\"type\":\"Legend\"}],\"left\":[{\"id\":\"1786\",\"type\":\"LinearAxis\"}],\"plot_height\":400,\"plot_width\":800,\"renderers\":[{\"id\":\"1807\",\"type\":\"GlyphRenderer\"},{\"id\":\"1820\",\"type\":\"GlyphRenderer\"},{\"id\":\"1825\",\"type\":\"GlyphRenderer\"},{\"id\":\"1841\",\"type\":\"GlyphRenderer\"},{\"id\":\"1846\",\"type\":\"GlyphRenderer\"},{\"id\":\"1866\",\"type\":\"GlyphRenderer\"}],\"title\":{\"id\":\"1771\",\"type\":\"Title\"},\"toolbar\":{\"id\":\"1797\",\"type\":\"Toolbar\"},\"x_range\":{\"id\":\"1773\",\"type\":\"DataRange1d\"},\"x_scale\":{\"id\":\"1777\",\"type\":\"LinearScale\"},\"y_range\":{\"id\":\"1775\",\"type\":\"DataRange1d\"},\"y_scale\":{\"id\":\"1779\",\"type\":\"LinearScale\"}},\"id\":\"1770\",\"subtype\":\"Figure\",\"type\":\"Plot\"},{\"attributes\":{\"callback\":null,\"data\":{\"x\":[\"1960\",\"1961\",\"1962\",\"1963\",\"1964\",\"1965\",\"1966\",\"1967\",\"1968\",\"1969\",\"1970\",\"1971\",\"1972\",\"1973\",\"1974\",\"1975\",\"1976\",\"1977\",\"1978\",\"1979\",\"1980\",\"1981\",\"1982\",\"1983\",\"1984\",\"1985\",\"1986\",\"1987\",\"1988\",\"1989\",\"1990\",\"1991\",\"1992\",\"1993\",\"1994\",\"1995\",\"1996\",\"1997\",\"1998\",\"1999\",\"2000\",\"2001\",\"2002\",\"2003\",\"2004\",\"2005\",\"2006\",\"2007\",\"2008\",\"2009\",\"2010\",\"2011\",\"2012\",\"2013\",\"2014\",\"2015\",\"2016\",\"2017\"],\"y\":[77.36558167990847,76.85369119674867,76.36339285706455,75.90657569857643,75.44052033579077,75.26400028680143,75.08339297208057,74.88663372543422,74.69354781183536,74.50525820996135,74.31608190924274,74.0994295857478,73.84165122691049,73.53470588085722,73.18012411831,72.8174531601147,72.46881304831041,72.11284869316286,71.63344265720838,71.03048255353748,70.41825210024072,69.78091162633353,69.1609761614545,68.5951423309108,68.01991309071222,67.44534086814598,66.87635574289399,66.31309198875933,65.7505405937328,65.1877917641661,64.62267427579381,64.05034616689697,63.51617996958811,62.94363443737534,62.370097261167366,61.7726251818695,61.20134552410558,60.62761861786045,60.04987015034463,59.47145651552464,58.8832603140381,58.236628025371395,57.53677645413849,56.83692426838377,56.13161431088994,55.42218461512898,54.7231232706239,54.02923081587353,53.3330568384248,52.63943737031043,51.94737597716072,51.283253521656704,50.62996024858259,49.98012308165774,49.331297704584024,48.68603002244665,48.042910549351525,47.4043586144919]},\"selected\":{\"id\":\"1859\",\"type\":\"Selection\"},\"selection_policy\":{\"id\":\"1858\",\"type\":\"UnionRenderers\"}},\"id\":\"1822\",\"type\":\"ColumnDataSource\"},{\"attributes\":{\"fill_alpha\":{\"value\":0.1},\"fill_color\":{\"value\":\"#1f77b4\"},\"line_alpha\":{\"value\":0.1},\"line_color\":{\"value\":\"#1f77b4\"},\"line_width\":{\"value\":3},\"x\":{\"field\":\"x\"},\"y\":{\"field\":\"y\"}},\"id\":\"1840\",\"type\":\"Circle\"},{\"attributes\":{\"data_source\":{\"id\":\"1817\",\"type\":\"ColumnDataSource\"},\"glyph\":{\"id\":\"1818\",\"type\":\"Circle\"},\"hover_glyph\":null,\"muted_glyph\":null,\"nonselection_glyph\":{\"id\":\"1819\",\"type\":\"Circle\"},\"selection_glyph\":null,\"view\":{\"id\":\"1821\",\"type\":\"CDSView\"}},\"id\":\"1820\",\"type\":\"GlyphRenderer\"},{\"attributes\":{\"data_source\":{\"id\":\"1838\",\"type\":\"ColumnDataSource\"},\"glyph\":{\"id\":\"1839\",\"type\":\"Circle\"},\"hover_glyph\":null,\"muted_glyph\":null,\"nonselection_glyph\":{\"id\":\"1840\",\"type\":\"Circle\"},\"selection_glyph\":null,\"view\":{\"id\":\"1842\",\"type\":\"CDSView\"}},\"id\":\"1841\",\"type\":\"GlyphRenderer\"},{\"attributes\":{},\"id\":\"1791\",\"type\":\"PanTool\"},{\"attributes\":{\"fill_alpha\":{\"value\":0.1},\"fill_color\":{\"value\":\"#1f77b4\"},\"line_alpha\":{\"value\":0.1},\"line_color\":{\"value\":\"#1f77b4\"},\"line_width\":{\"value\":3},\"x\":{\"field\":\"x\"},\"y\":{\"field\":\"y\"}},\"id\":\"1865\",\"type\":\"Circle\"},{\"attributes\":{\"line_alpha\":0.1,\"line_color\":\"#1f77b4\",\"x\":{\"field\":\"x\"},\"y\":{\"field\":\"y\"}},\"id\":\"1806\",\"type\":\"Line\"},{\"attributes\":{\"fill_color\":{\"value\":\"#5430F1\"},\"line_color\":{\"value\":\"#5430F1\"},\"line_width\":{\"value\":3},\"x\":{\"field\":\"x\"},\"y\":{\"field\":\"y\"}},\"id\":\"1839\",\"type\":\"Circle\"},{\"attributes\":{\"fill_alpha\":{\"value\":0.1},\"fill_color\":{\"value\":\"#1f77b4\"},\"line_alpha\":{\"value\":0.1},\"line_color\":{\"value\":\"#1f77b4\"},\"line_width\":{\"value\":3},\"x\":{\"field\":\"x\"},\"y\":{\"field\":\"y\"}},\"id\":\"1819\",\"type\":\"Circle\"},{\"attributes\":{\"callback\":null,\"tooltips\":\"                \\n        <div style=padding=5px>Year:@x</div>\\n        <div style=padding=5px>Value:@y</div>        \\n        \"},\"id\":\"1868\",\"type\":\"HoverTool\"},{\"attributes\":{\"callback\":null,\"data\":{\"x\":[\"1960\",\"1961\",\"1962\",\"1963\",\"1964\",\"1965\",\"1966\",\"1967\",\"1968\",\"1969\",\"1970\",\"1971\",\"1972\",\"1973\",\"1974\",\"1975\",\"1976\",\"1977\",\"1978\",\"1979\",\"1980\",\"1981\",\"1982\",\"1983\",\"1984\",\"1985\",\"1986\",\"1987\",\"1988\",\"1989\",\"1990\",\"1991\",\"1992\",\"1993\",\"1994\",\"1995\",\"1996\",\"1997\",\"1998\",\"1999\",\"2000\",\"2001\",\"2002\",\"2003\",\"2004\",\"2005\",\"2006\",\"2007\",\"2008\",\"2009\",\"2010\",\"2011\",\"2012\",\"2013\",\"2014\",\"2015\",\"2016\",\"2017\"],\"y\":[88.97397380724426,88.74414586911564,88.49317080122637,88.22840028265047,87.94990263493402,87.66155033648887,87.3641390310271,87.03385889268613,86.68982762918448,86.32916622899764,85.96775037463605,85.56855469902285,85.1428495686006,84.7117431310034,84.2752466550058,84.38589084454625,83.92375685724423,83.44096820409904,82.94024522267715,82.45591103908215,81.89333073011242,81.39378812254,81.04714420871082,80.66838842845898,80.24385790029407,79.79355991817908,79.3378233597624,78.87648632012264,78.40713078056805,77.9598005058758,77.49936799859805,77.06556198170198,76.66187797875509,76.27777894361772,75.94330765183989,75.62327542673187,75.30351373978903,74.97382646969444,74.65033879869868,74.3275699289948,73.99938422128915,73.61927055073161,73.2102923285181,72.78732929275272,72.36248070735364,71.92319139086008,71.4887276102885,71.09761887631305,70.61576005817462,70.12466145048869,69.62580805480984,69.12023174484858,68.6437134604995,68.14647270790401,67.64336558698045,67.13448240573528,66.61970742292803,66.09925314007546]},\"selected\":{\"id\":\"1834\",\"type\":\"Selection\"},\"selection_policy\":{\"id\":\"1833\",\"type\":\"UnionRenderers\"}},\"id\":\"1804\",\"type\":\"ColumnDataSource\"},{\"attributes\":{\"callback\":null,\"data\":{\"x\":[\"1960\",\"1961\",\"1962\",\"1963\",\"1964\",\"1965\",\"1966\",\"1967\",\"1968\",\"1969\",\"1970\",\"1971\",\"1972\",\"1973\",\"1974\",\"1975\",\"1976\",\"1977\",\"1978\",\"1979\",\"1980\",\"1981\",\"1982\",\"1983\",\"1984\",\"1985\",\"1986\",\"1987\",\"1988\",\"1989\",\"1990\",\"1991\",\"1992\",\"1993\",\"1994\",\"1995\",\"1996\",\"1997\",\"1998\",\"1999\",\"2000\",\"2001\",\"2002\",\"2003\",\"2004\",\"2005\",\"2006\",\"2007\",\"2008\",\"2009\",\"2010\",\"2011\",\"2012\",\"2013\",\"2014\",\"2015\",\"2016\",\"2017\"],\"y\":[77.36558167990847,76.85369119674867,76.36339285706455,75.90657569857643,75.44052033579077,75.26400028680143,75.08339297208057,74.88663372543422,74.69354781183536,74.50525820996135,74.31608190924274,74.0994295857478,73.84165122691049,73.53470588085722,73.18012411831,72.8174531601147,72.46881304831041,72.11284869316286,71.63344265720838,71.03048255353748,70.41825210024072,69.78091162633353,69.1609761614545,68.5951423309108,68.01991309071222,67.44534086814598,66.87635574289399,66.31309198875933,65.7505405937328,65.1877917641661,64.62267427579381,64.05034616689697,63.51617996958811,62.94363443737534,62.370097261167366,61.7726251818695,61.20134552410558,60.62761861786045,60.04987015034463,59.47145651552464,58.8832603140381,58.236628025371395,57.53677645413849,56.83692426838377,56.13161431088994,55.42218461512898,54.7231232706239,54.02923081587353,53.3330568384248,52.63943737031043,51.94737597716072,51.283253521656704,50.62996024858259,49.98012308165774,49.331297704584024,48.68603002244665,48.042910549351525,47.4043586144919]},\"selected\":{\"id\":\"1861\",\"type\":\"Selection\"},\"selection_policy\":{\"id\":\"1860\",\"type\":\"UnionRenderers\"}},\"id\":\"1838\",\"type\":\"ColumnDataSource\"},{\"attributes\":{\"fill_color\":{\"value\":\"#FA1857\"},\"line_color\":{\"value\":\"#FA1857\"},\"line_width\":{\"value\":3},\"x\":{\"field\":\"x\"},\"y\":{\"field\":\"y\"}},\"id\":\"1818\",\"type\":\"Circle\"},{\"attributes\":{\"fill_color\":{\"value\":\"#2CC775\"},\"line_color\":{\"value\":\"#2CC775\"},\"line_width\":{\"value\":3},\"x\":{\"field\":\"x\"},\"y\":{\"field\":\"y\"}},\"id\":\"1864\",\"type\":\"Circle\"},{\"attributes\":{\"label\":{\"value\":\"Developing excluding LDCs\"},\"renderers\":[{\"id\":\"1825\",\"type\":\"GlyphRenderer\"}]},\"id\":\"1837\",\"type\":\"LegendItem\"},{\"attributes\":{\"line_color\":\"#FA1857\",\"x\":{\"field\":\"x\"},\"y\":{\"field\":\"y\"}},\"id\":\"1805\",\"type\":\"Line\"},{\"attributes\":{},\"id\":\"1836\",\"type\":\"Selection\"},{\"attributes\":{\"callback\":null,\"data\":{\"x\":[\"1960\",\"1961\",\"1962\",\"1963\",\"1964\",\"1965\",\"1966\",\"1967\",\"1968\",\"1969\",\"1970\",\"1971\",\"1972\",\"1973\",\"1974\",\"1975\",\"1976\",\"1977\",\"1978\",\"1979\",\"1980\",\"1981\",\"1982\",\"1983\",\"1984\",\"1985\",\"1986\",\"1987\",\"1988\",\"1989\",\"1990\",\"1991\",\"1992\",\"1993\",\"1994\",\"1995\",\"1996\",\"1997\",\"1998\",\"1999\",\"2000\",\"2001\",\"2002\",\"2003\",\"2004\",\"2005\",\"2006\",\"2007\",\"2008\",\"2009\",\"2010\",\"2011\",\"2012\",\"2013\",\"2014\",\"2015\",\"2016\",\"2017\"],\"y\":[88.97397380724426,88.74414586911564,88.49317080122637,88.22840028265047,87.94990263493402,87.66155033648887,87.3641390310271,87.03385889268613,86.68982762918448,86.32916622899764,85.96775037463605,85.56855469902285,85.1428495686006,84.7117431310034,84.2752466550058,84.38589084454625,83.92375685724423,83.44096820409904,82.94024522267715,82.45591103908215,81.89333073011242,81.39378812254,81.04714420871082,80.66838842845898,80.24385790029407,79.79355991817908,79.3378233597624,78.87648632012264,78.40713078056805,77.9598005058758,77.49936799859805,77.06556198170198,76.66187797875509,76.27777894361772,75.94330765183989,75.62327542673187,75.30351373978903,74.97382646969444,74.65033879869868,74.3275699289948,73.99938422128915,73.61927055073161,73.2102923285181,72.78732929275272,72.36248070735364,71.92319139086008,71.4887276102885,71.09761887631305,70.61576005817462,70.12466145048869,69.62580805480984,69.12023174484858,68.6437134604995,68.14647270790401,67.64336558698045,67.13448240573528,66.61970742292803,66.09925314007546]},\"selected\":{\"id\":\"1836\",\"type\":\"Selection\"},\"selection_policy\":{\"id\":\"1835\",\"type\":\"UnionRenderers\"}},\"id\":\"1817\",\"type\":\"ColumnDataSource\"},{\"attributes\":{\"dimension\":1,\"grid_line_alpha\":0.5,\"ticker\":{\"id\":\"1787\",\"type\":\"BasicTicker\"}},\"id\":\"1790\",\"type\":\"Grid\"},{\"attributes\":{},\"id\":\"1795\",\"type\":\"ResetTool\"},{\"attributes\":{},\"id\":\"1835\",\"type\":\"UnionRenderers\"},{\"attributes\":{\"label\":{\"value\":\"LDCs\"},\"renderers\":[{\"id\":\"1807\",\"type\":\"GlyphRenderer\"}]},\"id\":\"1816\",\"type\":\"LegendItem\"},{\"attributes\":{\"label\":{\"value\":\"OECD\"},\"renderers\":[{\"id\":\"1846\",\"type\":\"GlyphRenderer\"}]},\"id\":\"1862\",\"type\":\"LegendItem\"},{\"attributes\":{},\"id\":\"1787\",\"type\":\"BasicTicker\"},{\"attributes\":{\"callback\":null,\"data\":{\"x\":[\"1960\",\"1961\",\"1962\",\"1963\",\"1964\",\"1965\",\"1966\",\"1967\",\"1968\",\"1969\",\"1970\",\"1971\",\"1972\",\"1973\",\"1974\",\"1975\",\"1976\",\"1977\",\"1978\",\"1979\",\"1980\",\"1981\",\"1982\",\"1983\",\"1984\",\"1985\",\"1986\",\"1987\",\"1988\",\"1989\",\"1990\",\"1991\",\"1992\",\"1993\",\"1994\",\"1995\",\"1996\",\"1997\",\"1998\",\"1999\",\"2000\",\"2001\",\"2002\",\"2003\",\"2004\",\"2005\",\"2006\",\"2007\",\"2008\",\"2009\",\"2010\",\"2011\",\"2012\",\"2013\",\"2014\",\"2015\",\"2016\",\"2017\"],\"y\":[37.40046379762384,36.910426656412376,36.42127360665778,35.91623000953568,35.41312563450036,34.91259283883799,34.41460814240305,33.906853776784544,33.41175944934178,32.93243762343052,32.47371657833314,32.08243047483682,31.72254341724644,31.376230937591238,31.02541989859808,30.694684316251664,30.439520115174478,30.192444164715646,29.942960728335073,29.698117424398575,29.45271291536762,29.159197365938237,28.884819993799557,28.62443020571846,28.373177767459325,28.121981510199006,27.8604458404359,27.578860132814693,27.299974013372434,27.04188263980006,26.764398045351797,26.48515980107442,26.22585182821077,25.962163393862863,25.69276563048598,25.42543337883581,25.181488242051362,24.9477281910235,24.714988268795185,24.48183071086911,24.25025925627994,23.905203675760802,23.504398066886452,23.123776637102807,22.758727449036055,22.408569017585673,22.085829368063017,21.7813270701607,21.485590735868247,21.19879146971327,20.918753085714805,20.70228925587614,20.51614583488052,20.332611207313864,20.1493430924518,19.961337971168508,19.770869743541244,19.576668574669895]},\"selected\":{\"id\":\"1942\",\"type\":\"Selection\"},\"selection_policy\":{\"id\":\"1941\",\"type\":\"UnionRenderers\"}},\"id\":\"1863\",\"type\":\"ColumnDataSource\"},{\"attributes\":{\"axis_label\":\"SP.RUR.TOTL.ZS\",\"formatter\":{\"id\":\"1813\",\"type\":\"BasicTickFormatter\"},\"ticker\":{\"id\":\"1787\",\"type\":\"BasicTicker\"}},\"id\":\"1786\",\"type\":\"LinearAxis\"},{\"attributes\":{},\"id\":\"1834\",\"type\":\"Selection\"},{\"attributes\":{\"items\":[{\"id\":\"1816\",\"type\":\"LegendItem\"},{\"id\":\"1837\",\"type\":\"LegendItem\"},{\"id\":\"1862\",\"type\":\"LegendItem\"}],\"location\":\"bottom_left\"},\"id\":\"1815\",\"type\":\"Legend\"},{\"attributes\":{},\"id\":\"1861\",\"type\":\"Selection\"},{\"attributes\":{},\"id\":\"1833\",\"type\":\"UnionRenderers\"},{\"attributes\":{},\"id\":\"1942\",\"type\":\"Selection\"},{\"attributes\":{\"bottom_units\":\"screen\",\"fill_alpha\":{\"value\":0.5},\"fill_color\":{\"value\":\"lightgrey\"},\"left_units\":\"screen\",\"level\":\"overlay\",\"line_alpha\":{\"value\":1.0},\"line_color\":{\"value\":\"black\"},\"line_dash\":[4,4],\"line_width\":{\"value\":2},\"render_mode\":\"css\",\"right_units\":\"screen\",\"top_units\":\"screen\"},\"id\":\"1814\",\"type\":\"BoxAnnotation\"},{\"attributes\":{\"grid_line_color\":null,\"ticker\":{\"id\":\"1782\",\"type\":\"BasicTicker\"}},\"id\":\"1785\",\"type\":\"Grid\"},{\"attributes\":{},\"id\":\"1813\",\"type\":\"BasicTickFormatter\"},{\"attributes\":{\"source\":{\"id\":\"1822\",\"type\":\"ColumnDataSource\"}},\"id\":\"1826\",\"type\":\"CDSView\"},{\"attributes\":{\"source\":{\"id\":\"1817\",\"type\":\"ColumnDataSource\"}},\"id\":\"1821\",\"type\":\"CDSView\"},{\"attributes\":{},\"id\":\"1782\",\"type\":\"BasicTicker\"},{\"attributes\":{},\"id\":\"1860\",\"type\":\"UnionRenderers\"},{\"attributes\":{},\"id\":\"1941\",\"type\":\"UnionRenderers\"},{\"attributes\":{\"data_source\":{\"id\":\"1822\",\"type\":\"ColumnDataSource\"},\"glyph\":{\"id\":\"1823\",\"type\":\"Line\"},\"hover_glyph\":null,\"muted_glyph\":null,\"nonselection_glyph\":{\"id\":\"1824\",\"type\":\"Line\"},\"selection_glyph\":null,\"view\":{\"id\":\"1826\",\"type\":\"CDSView\"}},\"id\":\"1825\",\"type\":\"GlyphRenderer\"},{\"attributes\":{\"source\":{\"id\":\"1804\",\"type\":\"ColumnDataSource\"}},\"id\":\"1808\",\"type\":\"CDSView\"},{\"attributes\":{\"axis_label\":\"Years\",\"formatter\":{\"id\":\"1811\",\"type\":\"BasicTickFormatter\"},\"ticker\":{\"id\":\"1782\",\"type\":\"BasicTicker\"}},\"id\":\"1781\",\"type\":\"LinearAxis\"},{\"attributes\":{},\"id\":\"1859\",\"type\":\"Selection\"},{\"attributes\":{\"line_alpha\":0.1,\"line_color\":\"#1f77b4\",\"x\":{\"field\":\"x\"},\"y\":{\"field\":\"y\"}},\"id\":\"1824\",\"type\":\"Line\"},{\"attributes\":{},\"id\":\"1940\",\"type\":\"Selection\"},{\"attributes\":{},\"id\":\"1858\",\"type\":\"UnionRenderers\"},{\"attributes\":{\"line_color\":\"#5430F1\",\"x\":{\"field\":\"x\"},\"y\":{\"field\":\"y\"}},\"id\":\"1823\",\"type\":\"Line\"},{\"attributes\":{},\"id\":\"1779\",\"type\":\"LinearScale\"},{\"attributes\":{\"data_source\":{\"id\":\"1804\",\"type\":\"ColumnDataSource\"},\"glyph\":{\"id\":\"1805\",\"type\":\"Line\"},\"hover_glyph\":null,\"muted_glyph\":null,\"nonselection_glyph\":{\"id\":\"1806\",\"type\":\"Line\"},\"selection_glyph\":null,\"view\":{\"id\":\"1808\",\"type\":\"CDSView\"}},\"id\":\"1807\",\"type\":\"GlyphRenderer\"},{\"attributes\":{\"source\":{\"id\":\"1843\",\"type\":\"ColumnDataSource\"}},\"id\":\"1847\",\"type\":\"CDSView\"},{\"attributes\":{},\"id\":\"1939\",\"type\":\"UnionRenderers\"},{\"attributes\":{},\"id\":\"1777\",\"type\":\"LinearScale\"},{\"attributes\":{\"data_source\":{\"id\":\"1843\",\"type\":\"ColumnDataSource\"},\"glyph\":{\"id\":\"1844\",\"type\":\"Line\"},\"hover_glyph\":null,\"muted_glyph\":null,\"nonselection_glyph\":{\"id\":\"1845\",\"type\":\"Line\"},\"selection_glyph\":null,\"view\":{\"id\":\"1847\",\"type\":\"CDSView\"}},\"id\":\"1846\",\"type\":\"GlyphRenderer\"},{\"attributes\":{\"active_drag\":\"auto\",\"active_inspect\":\"auto\",\"active_multi\":null,\"active_scroll\":\"auto\",\"active_tap\":\"auto\",\"tools\":[{\"id\":\"1791\",\"type\":\"PanTool\"},{\"id\":\"1792\",\"type\":\"WheelZoomTool\"},{\"id\":\"1793\",\"type\":\"BoxZoomTool\"},{\"id\":\"1794\",\"type\":\"SaveTool\"},{\"id\":\"1795\",\"type\":\"ResetTool\"},{\"id\":\"1796\",\"type\":\"HelpTool\"},{\"id\":\"1868\",\"type\":\"HoverTool\"}]},\"id\":\"1797\",\"type\":\"Toolbar\"},{\"attributes\":{\"source\":{\"id\":\"1838\",\"type\":\"ColumnDataSource\"}},\"id\":\"1842\",\"type\":\"CDSView\"},{\"attributes\":{\"callback\":null},\"id\":\"1775\",\"type\":\"DataRange1d\"},{\"attributes\":{},\"id\":\"1796\",\"type\":\"HelpTool\"},{\"attributes\":{\"line_alpha\":0.1,\"line_color\":\"#1f77b4\",\"x\":{\"field\":\"x\"},\"y\":{\"field\":\"y\"}},\"id\":\"1845\",\"type\":\"Line\"},{\"attributes\":{\"callback\":null},\"id\":\"1773\",\"type\":\"DataRange1d\"},{\"attributes\":{},\"id\":\"1811\",\"type\":\"BasicTickFormatter\"},{\"attributes\":{\"line_color\":\"#2CC775\",\"x\":{\"field\":\"x\"},\"y\":{\"field\":\"y\"}},\"id\":\"1844\",\"type\":\"Line\"},{\"attributes\":{},\"id\":\"1794\",\"type\":\"SaveTool\"},{\"attributes\":{\"text\":\"Rural population (% of total population) weighted against Population, total\"},\"id\":\"1771\",\"type\":\"Title\"},{\"attributes\":{\"callback\":null,\"data\":{\"x\":[\"1960\",\"1961\",\"1962\",\"1963\",\"1964\",\"1965\",\"1966\",\"1967\",\"1968\",\"1969\",\"1970\",\"1971\",\"1972\",\"1973\",\"1974\",\"1975\",\"1976\",\"1977\",\"1978\",\"1979\",\"1980\",\"1981\",\"1982\",\"1983\",\"1984\",\"1985\",\"1986\",\"1987\",\"1988\",\"1989\",\"1990\",\"1991\",\"1992\",\"1993\",\"1994\",\"1995\",\"1996\",\"1997\",\"1998\",\"1999\",\"2000\",\"2001\",\"2002\",\"2003\",\"2004\",\"2005\",\"2006\",\"2007\",\"2008\",\"2009\",\"2010\",\"2011\",\"2012\",\"2013\",\"2014\",\"2015\",\"2016\",\"2017\"],\"y\":[37.40046379762384,36.910426656412376,36.42127360665778,35.91623000953568,35.41312563450036,34.91259283883799,34.41460814240305,33.906853776784544,33.41175944934178,32.93243762343052,32.47371657833314,32.08243047483682,31.72254341724644,31.376230937591238,31.02541989859808,30.694684316251664,30.439520115174478,30.192444164715646,29.942960728335073,29.698117424398575,29.45271291536762,29.159197365938237,28.884819993799557,28.62443020571846,28.373177767459325,28.121981510199006,27.8604458404359,27.578860132814693,27.299974013372434,27.04188263980006,26.764398045351797,26.48515980107442,26.22585182821077,25.962163393862863,25.69276563048598,25.42543337883581,25.181488242051362,24.9477281910235,24.714988268795185,24.48183071086911,24.25025925627994,23.905203675760802,23.504398066886452,23.123776637102807,22.758727449036055,22.408569017585673,22.085829368063017,21.7813270701607,21.485590735868247,21.19879146971327,20.918753085714805,20.70228925587614,20.51614583488052,20.332611207313864,20.1493430924518,19.961337971168508,19.770869743541244,19.576668574669895]},\"selected\":{\"id\":\"1940\",\"type\":\"Selection\"},\"selection_policy\":{\"id\":\"1939\",\"type\":\"UnionRenderers\"}},\"id\":\"1843\",\"type\":\"ColumnDataSource\"},{\"attributes\":{\"source\":{\"id\":\"1863\",\"type\":\"ColumnDataSource\"}},\"id\":\"1867\",\"type\":\"CDSView\"},{\"attributes\":{\"overlay\":{\"id\":\"1814\",\"type\":\"BoxAnnotation\"}},\"id\":\"1793\",\"type\":\"BoxZoomTool\"},{\"attributes\":{},\"id\":\"1792\",\"type\":\"WheelZoomTool\"},{\"attributes\":{\"data_source\":{\"id\":\"1863\",\"type\":\"ColumnDataSource\"},\"glyph\":{\"id\":\"1864\",\"type\":\"Circle\"},\"hover_glyph\":null,\"muted_glyph\":null,\"nonselection_glyph\":{\"id\":\"1865\",\"type\":\"Circle\"},\"selection_glyph\":null,\"view\":{\"id\":\"1867\",\"type\":\"CDSView\"}},\"id\":\"1866\",\"type\":\"GlyphRenderer\"}],\"root_ids\":[\"1770\"]},\"title\":\"Bokeh Application\",\"version\":\"1.3.4\"}};\n",
       "  var render_items = [{\"docid\":\"5319dcc4-cfc5-4059-b875-9918ede964fd\",\"roots\":{\"1770\":\"2cffc65f-caa3-4232-ac14-ccaa4e933696\"}}];\n",
       "  root.Bokeh.embed.embed_items_notebook(docs_json, render_items);\n",
       "\n",
       "  }\n",
       "  if (root.Bokeh !== undefined) {\n",
       "    embed_document(root);\n",
       "  } else {\n",
       "    var attempts = 0;\n",
       "    var timer = setInterval(function(root) {\n",
       "      if (root.Bokeh !== undefined) {\n",
       "        embed_document(root);\n",
       "        clearInterval(timer);\n",
       "      }\n",
       "      attempts++;\n",
       "      if (attempts > 100) {\n",
       "        console.log(\"Bokeh: ERROR: Unable to run BokehJS code because BokehJS library is missing\");\n",
       "        clearInterval(timer);\n",
       "      }\n",
       "    }, 10, root)\n",
       "  }\n",
       "})(window);"
      ],
      "application/vnd.bokehjs_exec.v0+json": ""
     },
     "metadata": {
      "application/vnd.bokehjs_exec.v0+json": {
       "id": "1770"
      }
     },
     "output_type": "display_data"
    }
   ],
   "source": [
    "# Rural population as a percentage of total population\n",
    "result = show_weighted_average(years, 'SP.RUR.TOTL.ZS', 'SP.POP.TOTL', \n",
    "                               ['LDCs', 'Developing excluding LDCs', 'OECD'])"
   ]
  },
  {
   "cell_type": "code",
   "execution_count": 10,
   "metadata": {
    "ExecuteTime": {
     "end_time": "2019-10-25T14:24:46.376641Z",
     "start_time": "2019-10-25T14:24:45.418470Z"
    },
    "slideshow": {
     "slide_type": "slide"
    }
   },
   "outputs": [
    {
     "data": {
      "text/html": [
       "\n",
       "\n",
       "\n",
       "\n",
       "\n",
       "\n",
       "  <div class=\"bk-root\" id=\"bdda73fe-b4f3-4d70-b370-e4f50b4796d4\" data-root-id=\"2051\"></div>\n"
      ]
     },
     "metadata": {},
     "output_type": "display_data"
    },
    {
     "data": {
      "application/javascript": [
       "(function(root) {\n",
       "  function embed_document(root) {\n",
       "    \n",
       "  var docs_json = {\"9a3162a9-ba35-42a3-a9d9-6608a296a169\":{\"roots\":{\"references\":[{\"attributes\":{\"below\":[{\"id\":\"2062\",\"type\":\"LinearAxis\"}],\"center\":[{\"id\":\"2066\",\"type\":\"Grid\"},{\"id\":\"2071\",\"type\":\"Grid\"},{\"id\":\"2096\",\"type\":\"Legend\"}],\"left\":[{\"id\":\"2067\",\"type\":\"LinearAxis\"}],\"plot_height\":400,\"plot_width\":900,\"renderers\":[{\"id\":\"2088\",\"type\":\"GlyphRenderer\"},{\"id\":\"2101\",\"type\":\"GlyphRenderer\"}],\"title\":{\"id\":\"2052\",\"type\":\"Title\"},\"toolbar\":{\"id\":\"2078\",\"type\":\"Toolbar\"},\"x_range\":{\"id\":\"2054\",\"type\":\"DataRange1d\"},\"x_scale\":{\"id\":\"2058\",\"type\":\"LinearScale\"},\"y_range\":{\"id\":\"2056\",\"type\":\"DataRange1d\"},\"y_scale\":{\"id\":\"2060\",\"type\":\"LinearScale\"}},\"id\":\"2051\",\"subtype\":\"Figure\",\"type\":\"Plot\"},{\"attributes\":{\"bottom_units\":\"screen\",\"fill_alpha\":{\"value\":0.5},\"fill_color\":{\"value\":\"lightgrey\"},\"left_units\":\"screen\",\"level\":\"overlay\",\"line_alpha\":{\"value\":1.0},\"line_color\":{\"value\":\"black\"},\"line_dash\":[4,4],\"line_width\":{\"value\":2},\"render_mode\":\"css\",\"right_units\":\"screen\",\"top_units\":\"screen\"},\"id\":\"2095\",\"type\":\"BoxAnnotation\"},{\"attributes\":{},\"id\":\"2187\",\"type\":\"Selection\"},{\"attributes\":{\"active_drag\":\"auto\",\"active_inspect\":\"auto\",\"active_multi\":null,\"active_scroll\":\"auto\",\"active_tap\":\"auto\",\"tools\":[{\"id\":\"2072\",\"type\":\"PanTool\"},{\"id\":\"2073\",\"type\":\"WheelZoomTool\"},{\"id\":\"2074\",\"type\":\"BoxZoomTool\"},{\"id\":\"2075\",\"type\":\"SaveTool\"},{\"id\":\"2076\",\"type\":\"ResetTool\"},{\"id\":\"2077\",\"type\":\"HelpTool\"},{\"id\":\"2103\",\"type\":\"HoverTool\"}]},\"id\":\"2078\",\"type\":\"Toolbar\"},{\"attributes\":{\"data_source\":{\"id\":\"2098\",\"type\":\"ColumnDataSource\"},\"glyph\":{\"id\":\"2099\",\"type\":\"Circle\"},\"hover_glyph\":null,\"muted_glyph\":null,\"nonselection_glyph\":{\"id\":\"2100\",\"type\":\"Circle\"},\"selection_glyph\":null,\"view\":{\"id\":\"2102\",\"type\":\"CDSView\"}},\"id\":\"2101\",\"type\":\"GlyphRenderer\"},{\"attributes\":{\"dimension\":1,\"grid_line_alpha\":0.5,\"ticker\":{\"id\":\"2068\",\"type\":\"BasicTicker\"}},\"id\":\"2071\",\"type\":\"Grid\"},{\"attributes\":{},\"id\":\"2077\",\"type\":\"HelpTool\"},{\"attributes\":{},\"id\":\"2068\",\"type\":\"BasicTicker\"},{\"attributes\":{},\"id\":\"2094\",\"type\":\"BasicTickFormatter\"},{\"attributes\":{\"fill_alpha\":{\"value\":0.1},\"fill_color\":{\"value\":\"#1f77b4\"},\"line_alpha\":{\"value\":0.1},\"line_color\":{\"value\":\"#1f77b4\"},\"line_width\":{\"value\":3},\"x\":{\"field\":\"x\"},\"y\":{\"field\":\"y\"}},\"id\":\"2100\",\"type\":\"Circle\"},{\"attributes\":{},\"id\":\"2186\",\"type\":\"UnionRenderers\"},{\"attributes\":{},\"id\":\"2076\",\"type\":\"ResetTool\"},{\"attributes\":{\"axis_label\":\"SP.RUR.TOTL\",\"formatter\":{\"id\":\"2094\",\"type\":\"BasicTickFormatter\"},\"ticker\":{\"id\":\"2068\",\"type\":\"BasicTicker\"}},\"id\":\"2067\",\"type\":\"LinearAxis\"},{\"attributes\":{},\"id\":\"2185\",\"type\":\"Selection\"},{\"attributes\":{},\"id\":\"2075\",\"type\":\"SaveTool\"},{\"attributes\":{\"fill_color\":{\"value\":\"#FA1857\"},\"line_color\":{\"value\":\"#FA1857\"},\"line_width\":{\"value\":3},\"x\":{\"field\":\"x\"},\"y\":{\"field\":\"y\"}},\"id\":\"2099\",\"type\":\"Circle\"},{\"attributes\":{},\"id\":\"2092\",\"type\":\"BasicTickFormatter\"},{\"attributes\":{\"grid_line_color\":null,\"ticker\":{\"id\":\"2063\",\"type\":\"BasicTicker\"}},\"id\":\"2066\",\"type\":\"Grid\"},{\"attributes\":{\"overlay\":{\"id\":\"2095\",\"type\":\"BoxAnnotation\"}},\"id\":\"2074\",\"type\":\"BoxZoomTool\"},{\"attributes\":{},\"id\":\"2184\",\"type\":\"UnionRenderers\"},{\"attributes\":{\"callback\":null,\"data\":{\"x\":[\"1960\",\"1961\",\"1962\",\"1963\",\"1964\",\"1965\",\"1966\",\"1967\",\"1968\",\"1969\",\"1970\",\"1971\",\"1972\",\"1973\",\"1974\",\"1975\",\"1976\",\"1977\",\"1978\",\"1979\",\"1980\",\"1981\",\"1982\",\"1983\",\"1984\",\"1985\",\"1986\",\"1987\",\"1988\",\"1989\",\"1990\",\"1991\",\"1992\",\"1993\",\"1994\",\"1995\",\"1996\",\"1997\",\"1998\",\"1999\",\"2000\",\"2001\",\"2002\",\"2003\",\"2004\",\"2005\",\"2006\",\"2007\",\"2008\",\"2009\",\"2010\",\"2011\",\"2012\",\"2013\",\"2014\",\"2015\",\"2016\",\"2017\"],\"y\":[217201141.0,221648032.0,226185257.0,230852048.0,235678565.0,240689826.0,245905541.0,251232801.0,256646596.0,262035089.0,267378313.0,272530645.0,277556016.0,282587860.0,287723910.0,294963433.0,300466769.0,306095035.0,311835621.0,317790214.0,323594204.0,329769115.0,336725562.0,343761255.0,350844734.0,358052669.0,365463045.0,373065564.0,380863656.0,389023941.0,397380267.0,406151517.0,415295757.0,424676447.0,434374441.0,444118896.0,453786247.0,463345981.0,472977069.0,482765911.0,492753594.0,502654567.0,512565273.0,522500780.0,532434279.0,542199358.0,551913368.0,561924852.0,571250553.0,580616500.0,590103650.0,599729467.0,607552372.0,617585217.0,627707285.0,637891695.0,648126174.0,658398338.0]},\"selected\":{\"id\":\"2187\",\"type\":\"Selection\"},\"selection_policy\":{\"id\":\"2186\",\"type\":\"UnionRenderers\"}},\"id\":\"2098\",\"type\":\"ColumnDataSource\"},{\"attributes\":{},\"id\":\"2063\",\"type\":\"BasicTicker\"},{\"attributes\":{},\"id\":\"2073\",\"type\":\"WheelZoomTool\"},{\"attributes\":{\"source\":{\"id\":\"2085\",\"type\":\"ColumnDataSource\"}},\"id\":\"2089\",\"type\":\"CDSView\"},{\"attributes\":{\"axis_label\":\"Years\",\"formatter\":{\"id\":\"2092\",\"type\":\"BasicTickFormatter\"},\"ticker\":{\"id\":\"2063\",\"type\":\"BasicTicker\"}},\"id\":\"2062\",\"type\":\"LinearAxis\"},{\"attributes\":{},\"id\":\"2072\",\"type\":\"PanTool\"},{\"attributes\":{\"label\":{\"value\":\"LDCs\"},\"renderers\":[{\"id\":\"2088\",\"type\":\"GlyphRenderer\"}]},\"id\":\"2097\",\"type\":\"LegendItem\"},{\"attributes\":{\"line_alpha\":0.1,\"line_color\":\"#1f77b4\",\"x\":{\"field\":\"x\"},\"y\":{\"field\":\"y\"}},\"id\":\"2087\",\"type\":\"Line\"},{\"attributes\":{},\"id\":\"2060\",\"type\":\"LinearScale\"},{\"attributes\":{\"callback\":null},\"id\":\"2054\",\"type\":\"DataRange1d\"},{\"attributes\":{\"text\":\"Rural population\"},\"id\":\"2052\",\"type\":\"Title\"},{\"attributes\":{\"callback\":null,\"data\":{\"x\":[\"1960\",\"1961\",\"1962\",\"1963\",\"1964\",\"1965\",\"1966\",\"1967\",\"1968\",\"1969\",\"1970\",\"1971\",\"1972\",\"1973\",\"1974\",\"1975\",\"1976\",\"1977\",\"1978\",\"1979\",\"1980\",\"1981\",\"1982\",\"1983\",\"1984\",\"1985\",\"1986\",\"1987\",\"1988\",\"1989\",\"1990\",\"1991\",\"1992\",\"1993\",\"1994\",\"1995\",\"1996\",\"1997\",\"1998\",\"1999\",\"2000\",\"2001\",\"2002\",\"2003\",\"2004\",\"2005\",\"2006\",\"2007\",\"2008\",\"2009\",\"2010\",\"2011\",\"2012\",\"2013\",\"2014\",\"2015\",\"2016\",\"2017\"],\"y\":[217201141.0,221648032.0,226185257.0,230852048.0,235678565.0,240689826.0,245905541.0,251232801.0,256646596.0,262035089.0,267378313.0,272530645.0,277556016.0,282587860.0,287723910.0,294963433.0,300466769.0,306095035.0,311835621.0,317790214.0,323594204.0,329769115.0,336725562.0,343761255.0,350844734.0,358052669.0,365463045.0,373065564.0,380863656.0,389023941.0,397380267.0,406151517.0,415295757.0,424676447.0,434374441.0,444118896.0,453786247.0,463345981.0,472977069.0,482765911.0,492753594.0,502654567.0,512565273.0,522500780.0,532434279.0,542199358.0,551913368.0,561924852.0,571250553.0,580616500.0,590103650.0,599729467.0,607552372.0,617585217.0,627707285.0,637891695.0,648126174.0,658398338.0]},\"selected\":{\"id\":\"2185\",\"type\":\"Selection\"},\"selection_policy\":{\"id\":\"2184\",\"type\":\"UnionRenderers\"}},\"id\":\"2085\",\"type\":\"ColumnDataSource\"},{\"attributes\":{\"callback\":null,\"tooltips\":\"                \\n        <div style=padding=5px>Year:@x</div>\\n        <div style=padding=5px>Value:@y</div>        \\n        \"},\"id\":\"2103\",\"type\":\"HoverTool\"},{\"attributes\":{\"callback\":null},\"id\":\"2056\",\"type\":\"DataRange1d\"},{\"attributes\":{\"data_source\":{\"id\":\"2085\",\"type\":\"ColumnDataSource\"},\"glyph\":{\"id\":\"2086\",\"type\":\"Line\"},\"hover_glyph\":null,\"muted_glyph\":null,\"nonselection_glyph\":{\"id\":\"2087\",\"type\":\"Line\"},\"selection_glyph\":null,\"view\":{\"id\":\"2089\",\"type\":\"CDSView\"}},\"id\":\"2088\",\"type\":\"GlyphRenderer\"},{\"attributes\":{\"items\":[{\"id\":\"2097\",\"type\":\"LegendItem\"}],\"location\":\"bottom_left\"},\"id\":\"2096\",\"type\":\"Legend\"},{\"attributes\":{\"source\":{\"id\":\"2098\",\"type\":\"ColumnDataSource\"}},\"id\":\"2102\",\"type\":\"CDSView\"},{\"attributes\":{},\"id\":\"2058\",\"type\":\"LinearScale\"},{\"attributes\":{\"line_color\":\"#FA1857\",\"x\":{\"field\":\"x\"},\"y\":{\"field\":\"y\"}},\"id\":\"2086\",\"type\":\"Line\"}],\"root_ids\":[\"2051\"]},\"title\":\"Bokeh Application\",\"version\":\"1.3.4\"}};\n",
       "  var render_items = [{\"docid\":\"9a3162a9-ba35-42a3-a9d9-6608a296a169\",\"roots\":{\"2051\":\"bdda73fe-b4f3-4d70-b370-e4f50b4796d4\"}}];\n",
       "  root.Bokeh.embed.embed_items_notebook(docs_json, render_items);\n",
       "\n",
       "  }\n",
       "  if (root.Bokeh !== undefined) {\n",
       "    embed_document(root);\n",
       "  } else {\n",
       "    var attempts = 0;\n",
       "    var timer = setInterval(function(root) {\n",
       "      if (root.Bokeh !== undefined) {\n",
       "        embed_document(root);\n",
       "        clearInterval(timer);\n",
       "      }\n",
       "      attempts++;\n",
       "      if (attempts > 100) {\n",
       "        console.log(\"Bokeh: ERROR: Unable to run BokehJS code because BokehJS library is missing\");\n",
       "        clearInterval(timer);\n",
       "      }\n",
       "    }, 10, root)\n",
       "  }\n",
       "})(window);"
      ],
      "application/vnd.bokehjs_exec.v0+json": ""
     },
     "metadata": {
      "application/vnd.bokehjs_exec.v0+json": {
       "id": "2051"
      }
     },
     "output_type": "display_data"
    }
   ],
   "source": [
    "result = show_group_total(years, 'SP.RUR.TOTL', ['LDCs'])"
   ]
  },
  {
   "cell_type": "code",
   "execution_count": 11,
   "metadata": {
    "ExecuteTime": {
     "end_time": "2019-10-25T14:24:52.788910Z",
     "start_time": "2019-10-25T14:24:46.379697Z"
    },
    "slideshow": {
     "slide_type": "slide"
    }
   },
   "outputs": [
    {
     "data": {
      "text/html": [
       "\n",
       "\n",
       "\n",
       "\n",
       "\n",
       "\n",
       "  <div class=\"bk-root\" id=\"597b09cf-546c-4ac0-8bf6-96aabcb1fbf5\" data-root-id=\"2248\"></div>\n"
      ]
     },
     "metadata": {},
     "output_type": "display_data"
    },
    {
     "data": {
      "application/javascript": [
       "(function(root) {\n",
       "  function embed_document(root) {\n",
       "    \n",
       "  var docs_json = {\"87f45984-3e89-4bcc-acb5-f4b87e10ea8f\":{\"roots\":{\"references\":[{\"attributes\":{\"below\":[{\"id\":\"2259\",\"type\":\"LinearAxis\"}],\"center\":[{\"id\":\"2263\",\"type\":\"Grid\"},{\"id\":\"2268\",\"type\":\"Grid\"},{\"id\":\"2293\",\"type\":\"Legend\"}],\"left\":[{\"id\":\"2264\",\"type\":\"LinearAxis\"}],\"plot_height\":400,\"plot_width\":800,\"renderers\":[{\"id\":\"2285\",\"type\":\"GlyphRenderer\"},{\"id\":\"2298\",\"type\":\"GlyphRenderer\"},{\"id\":\"2303\",\"type\":\"GlyphRenderer\"},{\"id\":\"2319\",\"type\":\"GlyphRenderer\"},{\"id\":\"2324\",\"type\":\"GlyphRenderer\"},{\"id\":\"2344\",\"type\":\"GlyphRenderer\"},{\"id\":\"2349\",\"type\":\"GlyphRenderer\"},{\"id\":\"2373\",\"type\":\"GlyphRenderer\"}],\"title\":{\"id\":\"2249\",\"type\":\"Title\"},\"toolbar\":{\"id\":\"2275\",\"type\":\"Toolbar\"},\"x_range\":{\"id\":\"2251\",\"type\":\"DataRange1d\"},\"x_scale\":{\"id\":\"2255\",\"type\":\"LinearScale\"},\"y_range\":{\"id\":\"2253\",\"type\":\"DataRange1d\"},\"y_scale\":{\"id\":\"2257\",\"type\":\"LinearScale\"}},\"id\":\"2248\",\"subtype\":\"Figure\",\"type\":\"Plot\"},{\"attributes\":{},\"id\":\"2312\",\"type\":\"Selection\"},{\"attributes\":{},\"id\":\"2311\",\"type\":\"UnionRenderers\"},{\"attributes\":{},\"id\":\"2313\",\"type\":\"UnionRenderers\"},{\"attributes\":{},\"id\":\"2314\",\"type\":\"Selection\"},{\"attributes\":{\"label\":{\"value\":\"Developing excluding LDCs\"},\"renderers\":[{\"id\":\"2303\",\"type\":\"GlyphRenderer\"}]},\"id\":\"2315\",\"type\":\"LegendItem\"},{\"attributes\":{\"callback\":null,\"data\":{\"x\":[\"2000\",\"2001\",\"2002\",\"2003\",\"2004\",\"2005\",\"2006\",\"2007\",\"2008\",\"2009\",\"2010\",\"2011\",\"2012\",\"2013\",\"2014\",\"2015\",\"2016\",\"2017\"],\"y\":[31.45501317728547,31.043683748305877,30.511296017830627,29.917494644233273,29.36093695575281,28.890888585119253,28.471845013916965,28.126271073986057,27.83776671071426,27.567471401995352,27.29508958383986,27.05516942192989,26.810529887579573,26.56498460112185,26.326362059346703,26.096530369916763,25.87910474904753,25.665245061731724]},\"selected\":{\"id\":\"2339\",\"type\":\"Selection\"},\"selection_policy\":{\"id\":\"2338\",\"type\":\"UnionRenderers\"}},\"id\":\"2316\",\"type\":\"ColumnDataSource\"},{\"attributes\":{\"fill_color\":{\"value\":\"#5430F1\"},\"line_color\":{\"value\":\"#5430F1\"},\"line_width\":{\"value\":3},\"x\":{\"field\":\"x\"},\"y\":{\"field\":\"y\"}},\"id\":\"2317\",\"type\":\"Circle\"},{\"attributes\":{\"fill_alpha\":{\"value\":0.1},\"fill_color\":{\"value\":\"#1f77b4\"},\"line_alpha\":{\"value\":0.1},\"line_color\":{\"value\":\"#1f77b4\"},\"line_width\":{\"value\":3},\"x\":{\"field\":\"x\"},\"y\":{\"field\":\"y\"}},\"id\":\"2318\",\"type\":\"Circle\"},{\"attributes\":{\"data_source\":{\"id\":\"2316\",\"type\":\"ColumnDataSource\"},\"glyph\":{\"id\":\"2317\",\"type\":\"Circle\"},\"hover_glyph\":null,\"muted_glyph\":null,\"nonselection_glyph\":{\"id\":\"2318\",\"type\":\"Circle\"},\"selection_glyph\":null,\"view\":{\"id\":\"2320\",\"type\":\"CDSView\"}},\"id\":\"2319\",\"type\":\"GlyphRenderer\"},{\"attributes\":{\"source\":{\"id\":\"2316\",\"type\":\"ColumnDataSource\"}},\"id\":\"2320\",\"type\":\"CDSView\"},{\"attributes\":{\"callback\":null,\"data\":{\"x\":[\"2000\",\"2001\",\"2002\",\"2003\",\"2004\",\"2005\",\"2006\",\"2007\",\"2008\",\"2009\",\"2010\",\"2011\",\"2012\",\"2013\",\"2014\",\"2015\",\"2016\",\"2017\"],\"y\":[20.653439230371426,20.415555136413452,20.200407075212425,19.99721546354425,19.792580083113325,19.58153049491419,19.42936673752946,19.266708712785178,19.10062316536645,18.940792466102835,18.78763312883592,18.68284269266012,18.553760570557017,18.4175092045611,18.28626606521173,18.163323640146963,18.042734326142373,17.93618839869138]},\"selected\":{\"id\":\"2366\",\"type\":\"Selection\"},\"selection_policy\":{\"id\":\"2365\",\"type\":\"UnionRenderers\"}},\"id\":\"2321\",\"type\":\"ColumnDataSource\"},{\"attributes\":{\"line_color\":\"#2CC775\",\"x\":{\"field\":\"x\"},\"y\":{\"field\":\"y\"}},\"id\":\"2322\",\"type\":\"Line\"},{\"attributes\":{\"line_alpha\":0.1,\"line_color\":\"#1f77b4\",\"x\":{\"field\":\"x\"},\"y\":{\"field\":\"y\"}},\"id\":\"2323\",\"type\":\"Line\"},{\"attributes\":{\"data_source\":{\"id\":\"2321\",\"type\":\"ColumnDataSource\"},\"glyph\":{\"id\":\"2322\",\"type\":\"Line\"},\"hover_glyph\":null,\"muted_glyph\":null,\"nonselection_glyph\":{\"id\":\"2323\",\"type\":\"Line\"},\"selection_glyph\":null,\"view\":{\"id\":\"2325\",\"type\":\"CDSView\"}},\"id\":\"2324\",\"type\":\"GlyphRenderer\"},{\"attributes\":{\"source\":{\"id\":\"2321\",\"type\":\"ColumnDataSource\"}},\"id\":\"2325\",\"type\":\"CDSView\"},{\"attributes\":{},\"id\":\"2336\",\"type\":\"UnionRenderers\"},{\"attributes\":{},\"id\":\"2337\",\"type\":\"Selection\"},{\"attributes\":{},\"id\":\"2338\",\"type\":\"UnionRenderers\"},{\"attributes\":{},\"id\":\"2339\",\"type\":\"Selection\"},{\"attributes\":{\"label\":{\"value\":\"OECD\"},\"renderers\":[{\"id\":\"2324\",\"type\":\"GlyphRenderer\"}]},\"id\":\"2340\",\"type\":\"LegendItem\"},{\"attributes\":{\"fill_color\":{\"value\":\"#2CC775\"},\"line_color\":{\"value\":\"#2CC775\"},\"line_width\":{\"value\":3},\"x\":{\"field\":\"x\"},\"y\":{\"field\":\"y\"}},\"id\":\"2342\",\"type\":\"Circle\"},{\"attributes\":{\"callback\":null,\"data\":{\"x\":[\"2000\",\"2001\",\"2002\",\"2003\",\"2004\",\"2005\",\"2006\",\"2007\",\"2008\",\"2009\",\"2010\",\"2011\",\"2012\",\"2013\",\"2014\",\"2015\",\"2016\",\"2017\"],\"y\":[20.653439230371426,20.415555136413452,20.200407075212425,19.99721546354425,19.792580083113325,19.58153049491419,19.42936673752946,19.266708712785178,19.10062316536645,18.940792466102835,18.78763312883592,18.68284269266012,18.553760570557017,18.4175092045611,18.28626606521173,18.163323640146963,18.042734326142373,17.93618839869138]},\"selected\":{\"id\":\"2368\",\"type\":\"Selection\"},\"selection_policy\":{\"id\":\"2367\",\"type\":\"UnionRenderers\"}},\"id\":\"2341\",\"type\":\"ColumnDataSource\"},{\"attributes\":{\"fill_alpha\":{\"value\":0.1},\"fill_color\":{\"value\":\"#1f77b4\"},\"line_alpha\":{\"value\":0.1},\"line_color\":{\"value\":\"#1f77b4\"},\"line_width\":{\"value\":3},\"x\":{\"field\":\"x\"},\"y\":{\"field\":\"y\"}},\"id\":\"2343\",\"type\":\"Circle\"},{\"attributes\":{\"data_source\":{\"id\":\"2341\",\"type\":\"ColumnDataSource\"},\"glyph\":{\"id\":\"2342\",\"type\":\"Circle\"},\"hover_glyph\":null,\"muted_glyph\":null,\"nonselection_glyph\":{\"id\":\"2343\",\"type\":\"Circle\"},\"selection_glyph\":null,\"view\":{\"id\":\"2345\",\"type\":\"CDSView\"}},\"id\":\"2344\",\"type\":\"GlyphRenderer\"},{\"attributes\":{\"source\":{\"id\":\"2341\",\"type\":\"ColumnDataSource\"}},\"id\":\"2345\",\"type\":\"CDSView\"},{\"attributes\":{\"callback\":null,\"data\":{\"x\":[\"2000\",\"2001\",\"2002\",\"2003\",\"2004\",\"2005\",\"2006\",\"2007\",\"2008\",\"2009\",\"2010\",\"2011\",\"2012\",\"2013\",\"2014\",\"2015\",\"2016\",\"2017\"],\"y\":[26.275215002924497,25.740771470033607,24.99104946950845,24.12915585010682,23.339441068530373,22.71617250917954,22.197719471061305,21.81442848640427,21.54223888685379,21.31357973024241,21.09321477333619,20.929134021387153,20.78508387800108,20.65811546306569,20.54888239538855,20.452425596158864,20.36541226108201,20.2739601424701]},\"selected\":{\"id\":\"2479\",\"type\":\"Selection\"},\"selection_policy\":{\"id\":\"2478\",\"type\":\"UnionRenderers\"}},\"id\":\"2346\",\"type\":\"ColumnDataSource\"},{\"attributes\":{\"line_color\":\"#F4CA04\",\"x\":{\"field\":\"x\"},\"y\":{\"field\":\"y\"}},\"id\":\"2347\",\"type\":\"Line\"},{\"attributes\":{\"line_alpha\":0.1,\"line_color\":\"#1f77b4\",\"x\":{\"field\":\"x\"},\"y\":{\"field\":\"y\"}},\"id\":\"2348\",\"type\":\"Line\"},{\"attributes\":{\"data_source\":{\"id\":\"2346\",\"type\":\"ColumnDataSource\"},\"glyph\":{\"id\":\"2347\",\"type\":\"Line\"},\"hover_glyph\":null,\"muted_glyph\":null,\"nonselection_glyph\":{\"id\":\"2348\",\"type\":\"Line\"},\"selection_glyph\":null,\"view\":{\"id\":\"2350\",\"type\":\"CDSView\"}},\"id\":\"2349\",\"type\":\"GlyphRenderer\"},{\"attributes\":{\"source\":{\"id\":\"2346\",\"type\":\"ColumnDataSource\"}},\"id\":\"2350\",\"type\":\"CDSView\"},{\"attributes\":{},\"id\":\"2365\",\"type\":\"UnionRenderers\"},{\"attributes\":{},\"id\":\"2366\",\"type\":\"Selection\"},{\"attributes\":{},\"id\":\"2367\",\"type\":\"UnionRenderers\"},{\"attributes\":{\"line_color\":\"#FA1857\",\"x\":{\"field\":\"x\"},\"y\":{\"field\":\"y\"}},\"id\":\"2283\",\"type\":\"Line\"},{\"attributes\":{},\"id\":\"2368\",\"type\":\"Selection\"},{\"attributes\":{\"callback\":null,\"tooltips\":\"                \\n        <div style=padding=5px>Year:@x</div>\\n        <div style=padding=5px>Value:@y</div>        \\n        \"},\"id\":\"2375\",\"type\":\"HoverTool\"},{\"attributes\":{\"text\":\"Population ages 0-14 (% of total population) weighted against Population, total\"},\"id\":\"2249\",\"type\":\"Title\"},{\"attributes\":{\"label\":{\"value\":\"UMICs\"},\"renderers\":[{\"id\":\"2349\",\"type\":\"GlyphRenderer\"}]},\"id\":\"2369\",\"type\":\"LegendItem\"},{\"attributes\":{\"callback\":null,\"data\":{\"x\":[\"2000\",\"2001\",\"2002\",\"2003\",\"2004\",\"2005\",\"2006\",\"2007\",\"2008\",\"2009\",\"2010\",\"2011\",\"2012\",\"2013\",\"2014\",\"2015\",\"2016\",\"2017\"],\"y\":[26.275215002924497,25.740771470033607,24.99104946950845,24.12915585010682,23.339441068530373,22.71617250917954,22.197719471061305,21.81442848640427,21.54223888685379,21.31357973024241,21.09321477333619,20.929134021387153,20.78508387800108,20.65811546306569,20.54888239538855,20.452425596158864,20.36541226108201,20.2739601424701]},\"selected\":{\"id\":\"2481\",\"type\":\"Selection\"},\"selection_policy\":{\"id\":\"2480\",\"type\":\"UnionRenderers\"}},\"id\":\"2370\",\"type\":\"ColumnDataSource\"},{\"attributes\":{\"callback\":null},\"id\":\"2251\",\"type\":\"DataRange1d\"},{\"attributes\":{\"callback\":null},\"id\":\"2253\",\"type\":\"DataRange1d\"},{\"attributes\":{\"fill_color\":{\"value\":\"#F4CA04\"},\"line_color\":{\"value\":\"#F4CA04\"},\"line_width\":{\"value\":3},\"x\":{\"field\":\"x\"},\"y\":{\"field\":\"y\"}},\"id\":\"2371\",\"type\":\"Circle\"},{\"attributes\":{},\"id\":\"2255\",\"type\":\"LinearScale\"},{\"attributes\":{\"fill_alpha\":{\"value\":0.1},\"fill_color\":{\"value\":\"#1f77b4\"},\"line_alpha\":{\"value\":0.1},\"line_color\":{\"value\":\"#1f77b4\"},\"line_width\":{\"value\":3},\"x\":{\"field\":\"x\"},\"y\":{\"field\":\"y\"}},\"id\":\"2372\",\"type\":\"Circle\"},{\"attributes\":{},\"id\":\"2257\",\"type\":\"LinearScale\"},{\"attributes\":{\"data_source\":{\"id\":\"2370\",\"type\":\"ColumnDataSource\"},\"glyph\":{\"id\":\"2371\",\"type\":\"Circle\"},\"hover_glyph\":null,\"muted_glyph\":null,\"nonselection_glyph\":{\"id\":\"2372\",\"type\":\"Circle\"},\"selection_glyph\":null,\"view\":{\"id\":\"2374\",\"type\":\"CDSView\"}},\"id\":\"2373\",\"type\":\"GlyphRenderer\"},{\"attributes\":{},\"id\":\"2289\",\"type\":\"BasicTickFormatter\"},{\"attributes\":{\"axis_label\":\"Years\",\"formatter\":{\"id\":\"2289\",\"type\":\"BasicTickFormatter\"},\"ticker\":{\"id\":\"2260\",\"type\":\"BasicTicker\"}},\"id\":\"2259\",\"type\":\"LinearAxis\"},{\"attributes\":{\"source\":{\"id\":\"2370\",\"type\":\"ColumnDataSource\"}},\"id\":\"2374\",\"type\":\"CDSView\"},{\"attributes\":{},\"id\":\"2260\",\"type\":\"BasicTicker\"},{\"attributes\":{\"grid_line_color\":null,\"ticker\":{\"id\":\"2260\",\"type\":\"BasicTicker\"}},\"id\":\"2263\",\"type\":\"Grid\"},{\"attributes\":{},\"id\":\"2478\",\"type\":\"UnionRenderers\"},{\"attributes\":{\"axis_label\":\"SP.POP.0014.TO.ZS\",\"formatter\":{\"id\":\"2291\",\"type\":\"BasicTickFormatter\"},\"ticker\":{\"id\":\"2265\",\"type\":\"BasicTicker\"}},\"id\":\"2264\",\"type\":\"LinearAxis\"},{\"attributes\":{},\"id\":\"2479\",\"type\":\"Selection\"},{\"attributes\":{},\"id\":\"2265\",\"type\":\"BasicTicker\"},{\"attributes\":{},\"id\":\"2480\",\"type\":\"UnionRenderers\"},{\"attributes\":{\"dimension\":1,\"grid_line_alpha\":0.5,\"ticker\":{\"id\":\"2265\",\"type\":\"BasicTicker\"}},\"id\":\"2268\",\"type\":\"Grid\"},{\"attributes\":{},\"id\":\"2481\",\"type\":\"Selection\"},{\"attributes\":{\"callback\":null,\"data\":{\"x\":[\"2000\",\"2001\",\"2002\",\"2003\",\"2004\",\"2005\",\"2006\",\"2007\",\"2008\",\"2009\",\"2010\",\"2011\",\"2012\",\"2013\",\"2014\",\"2015\",\"2016\",\"2017\"],\"y\":[42.501489666698774,42.37374392265807,42.22887581740992,42.07219844488613,41.90384954996243,41.72083610508943,41.610008469641,41.47442096320036,41.316846318100616,41.141558470261536,40.95102839868382,40.755189506552824,40.53475295078126,40.29220143540501,40.03263457305002,39.758822964891884,39.49253508027312,39.211954136230496]},\"selected\":{\"id\":\"2312\",\"type\":\"Selection\"},\"selection_policy\":{\"id\":\"2311\",\"type\":\"UnionRenderers\"}},\"id\":\"2282\",\"type\":\"ColumnDataSource\"},{\"attributes\":{},\"id\":\"2269\",\"type\":\"PanTool\"},{\"attributes\":{},\"id\":\"2270\",\"type\":\"WheelZoomTool\"},{\"attributes\":{\"overlay\":{\"id\":\"2292\",\"type\":\"BoxAnnotation\"}},\"id\":\"2271\",\"type\":\"BoxZoomTool\"},{\"attributes\":{},\"id\":\"2272\",\"type\":\"SaveTool\"},{\"attributes\":{},\"id\":\"2273\",\"type\":\"ResetTool\"},{\"attributes\":{},\"id\":\"2274\",\"type\":\"HelpTool\"},{\"attributes\":{\"active_drag\":\"auto\",\"active_inspect\":\"auto\",\"active_multi\":null,\"active_scroll\":\"auto\",\"active_tap\":\"auto\",\"tools\":[{\"id\":\"2269\",\"type\":\"PanTool\"},{\"id\":\"2270\",\"type\":\"WheelZoomTool\"},{\"id\":\"2271\",\"type\":\"BoxZoomTool\"},{\"id\":\"2272\",\"type\":\"SaveTool\"},{\"id\":\"2273\",\"type\":\"ResetTool\"},{\"id\":\"2274\",\"type\":\"HelpTool\"},{\"id\":\"2375\",\"type\":\"HoverTool\"}]},\"id\":\"2275\",\"type\":\"Toolbar\"},{\"attributes\":{\"line_alpha\":0.1,\"line_color\":\"#1f77b4\",\"x\":{\"field\":\"x\"},\"y\":{\"field\":\"y\"}},\"id\":\"2284\",\"type\":\"Line\"},{\"attributes\":{\"data_source\":{\"id\":\"2282\",\"type\":\"ColumnDataSource\"},\"glyph\":{\"id\":\"2283\",\"type\":\"Line\"},\"hover_glyph\":null,\"muted_glyph\":null,\"nonselection_glyph\":{\"id\":\"2284\",\"type\":\"Line\"},\"selection_glyph\":null,\"view\":{\"id\":\"2286\",\"type\":\"CDSView\"}},\"id\":\"2285\",\"type\":\"GlyphRenderer\"},{\"attributes\":{\"source\":{\"id\":\"2282\",\"type\":\"ColumnDataSource\"}},\"id\":\"2286\",\"type\":\"CDSView\"},{\"attributes\":{},\"id\":\"2291\",\"type\":\"BasicTickFormatter\"},{\"attributes\":{\"bottom_units\":\"screen\",\"fill_alpha\":{\"value\":0.5},\"fill_color\":{\"value\":\"lightgrey\"},\"left_units\":\"screen\",\"level\":\"overlay\",\"line_alpha\":{\"value\":1.0},\"line_color\":{\"value\":\"black\"},\"line_dash\":[4,4],\"line_width\":{\"value\":2},\"render_mode\":\"css\",\"right_units\":\"screen\",\"top_units\":\"screen\"},\"id\":\"2292\",\"type\":\"BoxAnnotation\"},{\"attributes\":{\"items\":[{\"id\":\"2294\",\"type\":\"LegendItem\"},{\"id\":\"2315\",\"type\":\"LegendItem\"},{\"id\":\"2340\",\"type\":\"LegendItem\"},{\"id\":\"2369\",\"type\":\"LegendItem\"}],\"location\":\"bottom_left\"},\"id\":\"2293\",\"type\":\"Legend\"},{\"attributes\":{\"label\":{\"value\":\"LDCs\"},\"renderers\":[{\"id\":\"2285\",\"type\":\"GlyphRenderer\"}]},\"id\":\"2294\",\"type\":\"LegendItem\"},{\"attributes\":{\"callback\":null,\"data\":{\"x\":[\"2000\",\"2001\",\"2002\",\"2003\",\"2004\",\"2005\",\"2006\",\"2007\",\"2008\",\"2009\",\"2010\",\"2011\",\"2012\",\"2013\",\"2014\",\"2015\",\"2016\",\"2017\"],\"y\":[42.501489666698774,42.37374392265807,42.22887581740992,42.07219844488613,41.90384954996243,41.72083610508943,41.610008469641,41.47442096320036,41.316846318100616,41.141558470261536,40.95102839868382,40.755189506552824,40.53475295078126,40.29220143540501,40.03263457305002,39.758822964891884,39.49253508027312,39.211954136230496]},\"selected\":{\"id\":\"2314\",\"type\":\"Selection\"},\"selection_policy\":{\"id\":\"2313\",\"type\":\"UnionRenderers\"}},\"id\":\"2295\",\"type\":\"ColumnDataSource\"},{\"attributes\":{\"fill_color\":{\"value\":\"#FA1857\"},\"line_color\":{\"value\":\"#FA1857\"},\"line_width\":{\"value\":3},\"x\":{\"field\":\"x\"},\"y\":{\"field\":\"y\"}},\"id\":\"2296\",\"type\":\"Circle\"},{\"attributes\":{\"fill_alpha\":{\"value\":0.1},\"fill_color\":{\"value\":\"#1f77b4\"},\"line_alpha\":{\"value\":0.1},\"line_color\":{\"value\":\"#1f77b4\"},\"line_width\":{\"value\":3},\"x\":{\"field\":\"x\"},\"y\":{\"field\":\"y\"}},\"id\":\"2297\",\"type\":\"Circle\"},{\"attributes\":{\"data_source\":{\"id\":\"2295\",\"type\":\"ColumnDataSource\"},\"glyph\":{\"id\":\"2296\",\"type\":\"Circle\"},\"hover_glyph\":null,\"muted_glyph\":null,\"nonselection_glyph\":{\"id\":\"2297\",\"type\":\"Circle\"},\"selection_glyph\":null,\"view\":{\"id\":\"2299\",\"type\":\"CDSView\"}},\"id\":\"2298\",\"type\":\"GlyphRenderer\"},{\"attributes\":{\"source\":{\"id\":\"2295\",\"type\":\"ColumnDataSource\"}},\"id\":\"2299\",\"type\":\"CDSView\"},{\"attributes\":{\"callback\":null,\"data\":{\"x\":[\"2000\",\"2001\",\"2002\",\"2003\",\"2004\",\"2005\",\"2006\",\"2007\",\"2008\",\"2009\",\"2010\",\"2011\",\"2012\",\"2013\",\"2014\",\"2015\",\"2016\",\"2017\"],\"y\":[31.45501317728547,31.043683748305877,30.511296017830627,29.917494644233273,29.36093695575281,28.890888585119253,28.471845013916965,28.126271073986057,27.83776671071426,27.567471401995352,27.29508958383986,27.05516942192989,26.810529887579573,26.56498460112185,26.326362059346703,26.096530369916763,25.87910474904753,25.665245061731724]},\"selected\":{\"id\":\"2337\",\"type\":\"Selection\"},\"selection_policy\":{\"id\":\"2336\",\"type\":\"UnionRenderers\"}},\"id\":\"2300\",\"type\":\"ColumnDataSource\"},{\"attributes\":{\"line_color\":\"#5430F1\",\"x\":{\"field\":\"x\"},\"y\":{\"field\":\"y\"}},\"id\":\"2301\",\"type\":\"Line\"},{\"attributes\":{\"line_alpha\":0.1,\"line_color\":\"#1f77b4\",\"x\":{\"field\":\"x\"},\"y\":{\"field\":\"y\"}},\"id\":\"2302\",\"type\":\"Line\"},{\"attributes\":{\"data_source\":{\"id\":\"2300\",\"type\":\"ColumnDataSource\"},\"glyph\":{\"id\":\"2301\",\"type\":\"Line\"},\"hover_glyph\":null,\"muted_glyph\":null,\"nonselection_glyph\":{\"id\":\"2302\",\"type\":\"Line\"},\"selection_glyph\":null,\"view\":{\"id\":\"2304\",\"type\":\"CDSView\"}},\"id\":\"2303\",\"type\":\"GlyphRenderer\"},{\"attributes\":{\"source\":{\"id\":\"2300\",\"type\":\"ColumnDataSource\"}},\"id\":\"2304\",\"type\":\"CDSView\"}],\"root_ids\":[\"2248\"]},\"title\":\"Bokeh Application\",\"version\":\"1.3.4\"}};\n",
       "  var render_items = [{\"docid\":\"87f45984-3e89-4bcc-acb5-f4b87e10ea8f\",\"roots\":{\"2248\":\"597b09cf-546c-4ac0-8bf6-96aabcb1fbf5\"}}];\n",
       "  root.Bokeh.embed.embed_items_notebook(docs_json, render_items);\n",
       "\n",
       "  }\n",
       "  if (root.Bokeh !== undefined) {\n",
       "    embed_document(root);\n",
       "  } else {\n",
       "    var attempts = 0;\n",
       "    var timer = setInterval(function(root) {\n",
       "      if (root.Bokeh !== undefined) {\n",
       "        embed_document(root);\n",
       "        clearInterval(timer);\n",
       "      }\n",
       "      attempts++;\n",
       "      if (attempts > 100) {\n",
       "        console.log(\"Bokeh: ERROR: Unable to run BokehJS code because BokehJS library is missing\");\n",
       "        clearInterval(timer);\n",
       "      }\n",
       "    }, 10, root)\n",
       "  }\n",
       "})(window);"
      ],
      "application/vnd.bokehjs_exec.v0+json": ""
     },
     "metadata": {
      "application/vnd.bokehjs_exec.v0+json": {
       "id": "2248"
      }
     },
     "output_type": "display_data"
    }
   ],
   "source": [
    "years = list(map(str, list(range(2000,2018))))\n",
    "# Population 0-14\n",
    "result = show_weighted_average(years, 'SP.POP.0014.TO.ZS', 'SP.POP.TOTL', \n",
    "                               ['LDCs', 'Developing excluding LDCs', 'OECD', 'UMICs'])"
   ]
  },
  {
   "cell_type": "code",
   "execution_count": 12,
   "metadata": {
    "ExecuteTime": {
     "end_time": "2019-10-25T14:24:54.398684Z",
     "start_time": "2019-10-25T14:24:52.791475Z"
    },
    "slideshow": {
     "slide_type": "slide"
    }
   },
   "outputs": [
    {
     "data": {
      "text/html": [
       "\n",
       "\n",
       "\n",
       "\n",
       "\n",
       "\n",
       "  <div class=\"bk-root\" id=\"cd0705ff-1945-4444-b6bd-c8741c1b40fb\" data-root-id=\"2614\"></div>\n"
      ]
     },
     "metadata": {},
     "output_type": "display_data"
    },
    {
     "data": {
      "application/javascript": [
       "(function(root) {\n",
       "  function embed_document(root) {\n",
       "    \n",
       "  var docs_json = {\"e775e4be-9217-4832-bf2d-ae94d3a3b9e7\":{\"roots\":{\"references\":[{\"attributes\":{\"below\":[{\"id\":\"2625\",\"type\":\"LinearAxis\"}],\"center\":[{\"id\":\"2629\",\"type\":\"Grid\"},{\"id\":\"2634\",\"type\":\"Grid\"},{\"id\":\"2659\",\"type\":\"Legend\"}],\"left\":[{\"id\":\"2630\",\"type\":\"LinearAxis\"}],\"plot_height\":400,\"plot_width\":900,\"renderers\":[{\"id\":\"2651\",\"type\":\"GlyphRenderer\"},{\"id\":\"2664\",\"type\":\"GlyphRenderer\"},{\"id\":\"2669\",\"type\":\"GlyphRenderer\"},{\"id\":\"2685\",\"type\":\"GlyphRenderer\"},{\"id\":\"2690\",\"type\":\"GlyphRenderer\"},{\"id\":\"2710\",\"type\":\"GlyphRenderer\"},{\"id\":\"2715\",\"type\":\"GlyphRenderer\"},{\"id\":\"2739\",\"type\":\"GlyphRenderer\"}],\"title\":{\"id\":\"2615\",\"type\":\"Title\"},\"toolbar\":{\"id\":\"2641\",\"type\":\"Toolbar\"},\"x_range\":{\"id\":\"2617\",\"type\":\"DataRange1d\"},\"x_scale\":{\"id\":\"2621\",\"type\":\"LinearScale\"},\"y_range\":{\"id\":\"2619\",\"type\":\"DataRange1d\"},\"y_scale\":{\"id\":\"2623\",\"type\":\"LinearScale\"}},\"id\":\"2614\",\"subtype\":\"Figure\",\"type\":\"Plot\"},{\"attributes\":{},\"id\":\"2731\",\"type\":\"UnionRenderers\"},{\"attributes\":{},\"id\":\"2732\",\"type\":\"Selection\"},{\"attributes\":{},\"id\":\"2733\",\"type\":\"UnionRenderers\"},{\"attributes\":{},\"id\":\"2734\",\"type\":\"Selection\"},{\"attributes\":{\"label\":{\"value\":\"UMICs\"},\"renderers\":[{\"id\":\"2715\",\"type\":\"GlyphRenderer\"}]},\"id\":\"2735\",\"type\":\"LegendItem\"},{\"attributes\":{\"callback\":null,\"data\":{\"x\":[2020,2025,2030,2035,2040,2045,2050,2055,2060,2065,2070,2075,2080,2085,2090,2095,2100],\"y\":[2553770.2610000004,2605055.2009999994,2639029.0200000005,2659103.228999999,2665549.994,2659647.6620000005,2641734.805,2612545.58,2574153.84,2529722.836,2481956.653,2432242.5949999993,2381460.154,2330911.3399999994,2281947.836,2234791.158999999,2187803.0989999995]},\"selected\":{\"id\":\"2869\",\"type\":\"Selection\"},\"selection_policy\":{\"id\":\"2868\",\"type\":\"UnionRenderers\"}},\"id\":\"2736\",\"type\":\"ColumnDataSource\"},{\"attributes\":{\"fill_color\":{\"value\":\"#F4CA04\"},\"line_color\":{\"value\":\"#F4CA04\"},\"line_width\":{\"value\":3},\"x\":{\"field\":\"x\"},\"y\":{\"field\":\"y\"}},\"id\":\"2737\",\"type\":\"Circle\"},{\"attributes\":{\"fill_alpha\":{\"value\":0.1},\"fill_color\":{\"value\":\"#1f77b4\"},\"line_alpha\":{\"value\":0.1},\"line_color\":{\"value\":\"#1f77b4\"},\"line_width\":{\"value\":3},\"x\":{\"field\":\"x\"},\"y\":{\"field\":\"y\"}},\"id\":\"2738\",\"type\":\"Circle\"},{\"attributes\":{\"data_source\":{\"id\":\"2736\",\"type\":\"ColumnDataSource\"},\"glyph\":{\"id\":\"2737\",\"type\":\"Circle\"},\"hover_glyph\":null,\"muted_glyph\":null,\"nonselection_glyph\":{\"id\":\"2738\",\"type\":\"Circle\"},\"selection_glyph\":null,\"view\":{\"id\":\"2740\",\"type\":\"CDSView\"}},\"id\":\"2739\",\"type\":\"GlyphRenderer\"},{\"attributes\":{\"source\":{\"id\":\"2736\",\"type\":\"ColumnDataSource\"}},\"id\":\"2740\",\"type\":\"CDSView\"},{\"attributes\":{},\"id\":\"2866\",\"type\":\"UnionRenderers\"},{\"attributes\":{},\"id\":\"2867\",\"type\":\"Selection\"},{\"attributes\":{},\"id\":\"2868\",\"type\":\"UnionRenderers\"},{\"attributes\":{},\"id\":\"2869\",\"type\":\"Selection\"},{\"attributes\":{\"callback\":null,\"data\":{\"x\":[2020,2025,2030,2035,2040,2045,2050,2055,2060,2065,2070,2075,2080,2085,2090,2095,2100],\"y\":[1057438.163,1182376.585,1313758.882,1450358.0589999997,1590723.5140000007,1733412.6489999997,1876797.781,2019337.702000001,2159628.188,2296253.5399999996,2427682.2370000007,2552545.8049999997,2669675.032999999,2778054.0900000003,2877186.7590000005,2966790.3559999997,3046778.7830000003]},\"selected\":{\"id\":\"2680\",\"type\":\"Selection\"},\"selection_policy\":{\"id\":\"2679\",\"type\":\"UnionRenderers\"}},\"id\":\"2661\",\"type\":\"ColumnDataSource\"},{\"attributes\":{\"line_alpha\":0.1,\"line_color\":\"#1f77b4\",\"x\":{\"field\":\"x\"},\"y\":{\"field\":\"y\"}},\"id\":\"2650\",\"type\":\"Line\"},{\"attributes\":{\"source\":{\"id\":\"2661\",\"type\":\"ColumnDataSource\"}},\"id\":\"2665\",\"type\":\"CDSView\"},{\"attributes\":{},\"id\":\"2621\",\"type\":\"LinearScale\"},{\"attributes\":{\"callback\":null,\"data\":{\"x\":[2020,2025,2030,2035,2040,2045,2050,2055,2060,2065,2070,2075,2080,2085,2090,2095,2100],\"y\":[1057438.163,1182376.585,1313758.882,1450358.0589999997,1590723.5140000007,1733412.6489999997,1876797.781,2019337.702000001,2159628.188,2296253.5399999996,2427682.2370000007,2552545.8049999997,2669675.032999999,2778054.0900000003,2877186.7590000005,2966790.3559999997,3046778.7830000003]},\"selected\":{\"id\":\"2678\",\"type\":\"Selection\"},\"selection_policy\":{\"id\":\"2677\",\"type\":\"UnionRenderers\"}},\"id\":\"2648\",\"type\":\"ColumnDataSource\"},{\"attributes\":{\"callback\":null,\"data\":{\"x\":[2020,2025,2030,2035,2040,2045,2050,2055,2060,2065,2070,2075,2080,2085,2090,2095,2100],\"y\":[4993103.786000001,5218738.716999997,5421085.645999999,5600144.947999999,5752488.066,5878012.936,5976889.714000002,6050353.927999998,6099916.011999999,6128642.660999999,6138746.354000001,6132326.774999998,6111578.452999997,6078805.713000003,6037048.572999997,5987636.3539999975,5930332.014000001]},\"selected\":{\"id\":\"2703\",\"type\":\"Selection\"},\"selection_policy\":{\"id\":\"2702\",\"type\":\"UnionRenderers\"}},\"id\":\"2666\",\"type\":\"ColumnDataSource\"},{\"attributes\":{\"data_source\":{\"id\":\"2648\",\"type\":\"ColumnDataSource\"},\"glyph\":{\"id\":\"2649\",\"type\":\"Line\"},\"hover_glyph\":null,\"muted_glyph\":null,\"nonselection_glyph\":{\"id\":\"2650\",\"type\":\"Line\"},\"selection_glyph\":null,\"view\":{\"id\":\"2652\",\"type\":\"CDSView\"}},\"id\":\"2651\",\"type\":\"GlyphRenderer\"},{\"attributes\":{},\"id\":\"2635\",\"type\":\"PanTool\"},{\"attributes\":{\"line_color\":\"#5430F1\",\"x\":{\"field\":\"x\"},\"y\":{\"field\":\"y\"}},\"id\":\"2667\",\"type\":\"Line\"},{\"attributes\":{\"callback\":null},\"id\":\"2619\",\"type\":\"DataRange1d\"},{\"attributes\":{\"line_alpha\":0.1,\"line_color\":\"#1f77b4\",\"x\":{\"field\":\"x\"},\"y\":{\"field\":\"y\"}},\"id\":\"2668\",\"type\":\"Line\"},{\"attributes\":{\"callback\":null},\"id\":\"2617\",\"type\":\"DataRange1d\"},{\"attributes\":{\"data_source\":{\"id\":\"2666\",\"type\":\"ColumnDataSource\"},\"glyph\":{\"id\":\"2667\",\"type\":\"Line\"},\"hover_glyph\":null,\"muted_glyph\":null,\"nonselection_glyph\":{\"id\":\"2668\",\"type\":\"Line\"},\"selection_glyph\":null,\"view\":{\"id\":\"2670\",\"type\":\"CDSView\"}},\"id\":\"2669\",\"type\":\"GlyphRenderer\"},{\"attributes\":{\"fill_color\":{\"value\":\"#FA1857\"},\"line_color\":{\"value\":\"#FA1857\"},\"line_width\":{\"value\":3},\"x\":{\"field\":\"x\"},\"y\":{\"field\":\"y\"}},\"id\":\"2662\",\"type\":\"Circle\"},{\"attributes\":{\"fill_alpha\":{\"value\":0.1},\"fill_color\":{\"value\":\"#1f77b4\"},\"line_alpha\":{\"value\":0.1},\"line_color\":{\"value\":\"#1f77b4\"},\"line_width\":{\"value\":3},\"x\":{\"field\":\"x\"},\"y\":{\"field\":\"y\"}},\"id\":\"2663\",\"type\":\"Circle\"},{\"attributes\":{\"source\":{\"id\":\"2666\",\"type\":\"ColumnDataSource\"}},\"id\":\"2670\",\"type\":\"CDSView\"},{\"attributes\":{\"data_source\":{\"id\":\"2661\",\"type\":\"ColumnDataSource\"},\"glyph\":{\"id\":\"2662\",\"type\":\"Circle\"},\"hover_glyph\":null,\"muted_glyph\":null,\"nonselection_glyph\":{\"id\":\"2663\",\"type\":\"Circle\"},\"selection_glyph\":null,\"view\":{\"id\":\"2665\",\"type\":\"CDSView\"}},\"id\":\"2664\",\"type\":\"GlyphRenderer\"},{\"attributes\":{},\"id\":\"2677\",\"type\":\"UnionRenderers\"},{\"attributes\":{},\"id\":\"2678\",\"type\":\"Selection\"},{\"attributes\":{},\"id\":\"2679\",\"type\":\"UnionRenderers\"},{\"attributes\":{},\"id\":\"2680\",\"type\":\"Selection\"},{\"attributes\":{\"label\":{\"value\":\"Developing excluding LDCs\"},\"renderers\":[{\"id\":\"2669\",\"type\":\"GlyphRenderer\"}]},\"id\":\"2681\",\"type\":\"LegendItem\"},{\"attributes\":{\"callback\":null,\"data\":{\"x\":[2020,2025,2030,2035,2040,2045,2050,2055,2060,2065,2070,2075,2080,2085,2090,2095,2100],\"y\":[4993103.786000001,5218738.716999997,5421085.645999999,5600144.947999999,5752488.066,5878012.936,5976889.714000002,6050353.927999998,6099916.011999999,6128642.660999999,6138746.354000001,6132326.774999998,6111578.452999997,6078805.713000003,6037048.572999997,5987636.3539999975,5930332.014000001]},\"selected\":{\"id\":\"2705\",\"type\":\"Selection\"},\"selection_policy\":{\"id\":\"2704\",\"type\":\"UnionRenderers\"}},\"id\":\"2682\",\"type\":\"ColumnDataSource\"},{\"attributes\":{\"line_color\":\"#FA1857\",\"x\":{\"field\":\"x\"},\"y\":{\"field\":\"y\"}},\"id\":\"2649\",\"type\":\"Line\"},{\"attributes\":{\"fill_color\":{\"value\":\"#5430F1\"},\"line_color\":{\"value\":\"#5430F1\"},\"line_width\":{\"value\":3},\"x\":{\"field\":\"x\"},\"y\":{\"field\":\"y\"}},\"id\":\"2683\",\"type\":\"Circle\"},{\"attributes\":{\"fill_alpha\":{\"value\":0.1},\"fill_color\":{\"value\":\"#1f77b4\"},\"line_alpha\":{\"value\":0.1},\"line_color\":{\"value\":\"#1f77b4\"},\"line_width\":{\"value\":3},\"x\":{\"field\":\"x\"},\"y\":{\"field\":\"y\"}},\"id\":\"2684\",\"type\":\"Circle\"},{\"attributes\":{\"data_source\":{\"id\":\"2682\",\"type\":\"ColumnDataSource\"},\"glyph\":{\"id\":\"2683\",\"type\":\"Circle\"},\"hover_glyph\":null,\"muted_glyph\":null,\"nonselection_glyph\":{\"id\":\"2684\",\"type\":\"Circle\"},\"selection_glyph\":null,\"view\":{\"id\":\"2686\",\"type\":\"CDSView\"}},\"id\":\"2685\",\"type\":\"GlyphRenderer\"},{\"attributes\":{},\"id\":\"2631\",\"type\":\"BasicTicker\"},{\"attributes\":{\"source\":{\"id\":\"2682\",\"type\":\"ColumnDataSource\"}},\"id\":\"2686\",\"type\":\"CDSView\"},{\"attributes\":{\"callback\":null,\"data\":{\"x\":[2020,2025,2030,2035,2040,2045,2050,2055,2060,2065,2070,2075,2080,2085,2090,2095,2100],\"y\":[912306.7240000002,924199.783,933262.5580000001,940475.6150000001,944668.037,945929.6540000001,944372.924,940125.755,933542.0040000002,925493.626,916927.8789999998,908413.484,900272.8359999999,892459.4159999999,884981.163,877749.1270000001,870615.133]},\"selected\":{\"id\":\"2732\",\"type\":\"Selection\"},\"selection_policy\":{\"id\":\"2731\",\"type\":\"UnionRenderers\"}},\"id\":\"2687\",\"type\":\"ColumnDataSource\"},{\"attributes\":{\"line_color\":\"#2CC775\",\"x\":{\"field\":\"x\"},\"y\":{\"field\":\"y\"}},\"id\":\"2688\",\"type\":\"Line\"},{\"attributes\":{\"line_alpha\":0.1,\"line_color\":\"#1f77b4\",\"x\":{\"field\":\"x\"},\"y\":{\"field\":\"y\"}},\"id\":\"2689\",\"type\":\"Line\"},{\"attributes\":{\"data_source\":{\"id\":\"2687\",\"type\":\"ColumnDataSource\"},\"glyph\":{\"id\":\"2688\",\"type\":\"Line\"},\"hover_glyph\":null,\"muted_glyph\":null,\"nonselection_glyph\":{\"id\":\"2689\",\"type\":\"Line\"},\"selection_glyph\":null,\"view\":{\"id\":\"2691\",\"type\":\"CDSView\"}},\"id\":\"2690\",\"type\":\"GlyphRenderer\"},{\"attributes\":{\"axis_label\":\"Projected population, thousands\",\"formatter\":{\"id\":\"2657\",\"type\":\"BasicTickFormatter\"},\"ticker\":{\"id\":\"2631\",\"type\":\"BasicTicker\"}},\"id\":\"2630\",\"type\":\"LinearAxis\"},{\"attributes\":{\"source\":{\"id\":\"2687\",\"type\":\"ColumnDataSource\"}},\"id\":\"2691\",\"type\":\"CDSView\"},{\"attributes\":{},\"id\":\"2702\",\"type\":\"UnionRenderers\"},{\"attributes\":{\"dimension\":1,\"grid_line_alpha\":0.5,\"ticker\":{\"id\":\"2631\",\"type\":\"BasicTicker\"}},\"id\":\"2634\",\"type\":\"Grid\"},{\"attributes\":{},\"id\":\"2703\",\"type\":\"Selection\"},{\"attributes\":{},\"id\":\"2636\",\"type\":\"WheelZoomTool\"},{\"attributes\":{},\"id\":\"2639\",\"type\":\"ResetTool\"},{\"attributes\":{},\"id\":\"2704\",\"type\":\"UnionRenderers\"},{\"attributes\":{\"overlay\":{\"id\":\"2658\",\"type\":\"BoxAnnotation\"}},\"id\":\"2637\",\"type\":\"BoxZoomTool\"},{\"attributes\":{},\"id\":\"2705\",\"type\":\"Selection\"},{\"attributes\":{},\"id\":\"2638\",\"type\":\"SaveTool\"},{\"attributes\":{\"label\":{\"value\":\"OECD\"},\"renderers\":[{\"id\":\"2690\",\"type\":\"GlyphRenderer\"}]},\"id\":\"2706\",\"type\":\"LegendItem\"},{\"attributes\":{},\"id\":\"2655\",\"type\":\"BasicTickFormatter\"},{\"attributes\":{},\"id\":\"2640\",\"type\":\"HelpTool\"},{\"attributes\":{\"callback\":null,\"data\":{\"x\":[2020,2025,2030,2035,2040,2045,2050,2055,2060,2065,2070,2075,2080,2085,2090,2095,2100],\"y\":[912306.7240000002,924199.783,933262.5580000001,940475.6150000001,944668.037,945929.6540000001,944372.924,940125.755,933542.0040000002,925493.626,916927.8789999998,908413.484,900272.8359999999,892459.4159999999,884981.163,877749.1270000001,870615.133]},\"selected\":{\"id\":\"2734\",\"type\":\"Selection\"},\"selection_policy\":{\"id\":\"2733\",\"type\":\"UnionRenderers\"}},\"id\":\"2707\",\"type\":\"ColumnDataSource\"},{\"attributes\":{\"fill_color\":{\"value\":\"#2CC775\"},\"line_color\":{\"value\":\"#2CC775\"},\"line_width\":{\"value\":3},\"x\":{\"field\":\"x\"},\"y\":{\"field\":\"y\"}},\"id\":\"2708\",\"type\":\"Circle\"},{\"attributes\":{\"active_drag\":\"auto\",\"active_inspect\":\"auto\",\"active_multi\":null,\"active_scroll\":\"auto\",\"active_tap\":\"auto\",\"tools\":[{\"id\":\"2635\",\"type\":\"PanTool\"},{\"id\":\"2636\",\"type\":\"WheelZoomTool\"},{\"id\":\"2637\",\"type\":\"BoxZoomTool\"},{\"id\":\"2638\",\"type\":\"SaveTool\"},{\"id\":\"2639\",\"type\":\"ResetTool\"},{\"id\":\"2640\",\"type\":\"HelpTool\"},{\"id\":\"2741\",\"type\":\"HoverTool\"}]},\"id\":\"2641\",\"type\":\"Toolbar\"},{\"attributes\":{\"fill_alpha\":{\"value\":0.1},\"fill_color\":{\"value\":\"#1f77b4\"},\"line_alpha\":{\"value\":0.1},\"line_color\":{\"value\":\"#1f77b4\"},\"line_width\":{\"value\":3},\"x\":{\"field\":\"x\"},\"y\":{\"field\":\"y\"}},\"id\":\"2709\",\"type\":\"Circle\"},{\"attributes\":{\"grid_line_color\":null,\"ticker\":{\"id\":\"2626\",\"type\":\"BasicTicker\"}},\"id\":\"2629\",\"type\":\"Grid\"},{\"attributes\":{\"data_source\":{\"id\":\"2707\",\"type\":\"ColumnDataSource\"},\"glyph\":{\"id\":\"2708\",\"type\":\"Circle\"},\"hover_glyph\":null,\"muted_glyph\":null,\"nonselection_glyph\":{\"id\":\"2709\",\"type\":\"Circle\"},\"selection_glyph\":null,\"view\":{\"id\":\"2711\",\"type\":\"CDSView\"}},\"id\":\"2710\",\"type\":\"GlyphRenderer\"},{\"attributes\":{\"source\":{\"id\":\"2648\",\"type\":\"ColumnDataSource\"}},\"id\":\"2652\",\"type\":\"CDSView\"},{\"attributes\":{\"source\":{\"id\":\"2707\",\"type\":\"ColumnDataSource\"}},\"id\":\"2711\",\"type\":\"CDSView\"},{\"attributes\":{},\"id\":\"2626\",\"type\":\"BasicTicker\"},{\"attributes\":{},\"id\":\"2657\",\"type\":\"BasicTickFormatter\"},{\"attributes\":{\"callback\":null,\"data\":{\"x\":[2020,2025,2030,2035,2040,2045,2050,2055,2060,2065,2070,2075,2080,2085,2090,2095,2100],\"y\":[2553770.2610000004,2605055.2009999994,2639029.0200000005,2659103.228999999,2665549.994,2659647.6620000005,2641734.805,2612545.58,2574153.84,2529722.836,2481956.653,2432242.5949999993,2381460.154,2330911.3399999994,2281947.836,2234791.158999999,2187803.0989999995]},\"selected\":{\"id\":\"2867\",\"type\":\"Selection\"},\"selection_policy\":{\"id\":\"2866\",\"type\":\"UnionRenderers\"}},\"id\":\"2712\",\"type\":\"ColumnDataSource\"},{\"attributes\":{\"line_color\":\"#F4CA04\",\"x\":{\"field\":\"x\"},\"y\":{\"field\":\"y\"}},\"id\":\"2713\",\"type\":\"Line\"},{\"attributes\":{\"bottom_units\":\"screen\",\"fill_alpha\":{\"value\":0.5},\"fill_color\":{\"value\":\"lightgrey\"},\"left_units\":\"screen\",\"level\":\"overlay\",\"line_alpha\":{\"value\":1.0},\"line_color\":{\"value\":\"black\"},\"line_dash\":[4,4],\"line_width\":{\"value\":2},\"render_mode\":\"css\",\"right_units\":\"screen\",\"top_units\":\"screen\"},\"id\":\"2658\",\"type\":\"BoxAnnotation\"},{\"attributes\":{\"axis_label\":\"Years\",\"formatter\":{\"id\":\"2655\",\"type\":\"BasicTickFormatter\"},\"ticker\":{\"id\":\"2626\",\"type\":\"BasicTicker\"}},\"id\":\"2625\",\"type\":\"LinearAxis\"},{\"attributes\":{\"text\":\"Projected population, thousands\"},\"id\":\"2615\",\"type\":\"Title\"},{\"attributes\":{\"items\":[{\"id\":\"2660\",\"type\":\"LegendItem\"},{\"id\":\"2681\",\"type\":\"LegendItem\"},{\"id\":\"2706\",\"type\":\"LegendItem\"},{\"id\":\"2735\",\"type\":\"LegendItem\"}],\"location\":\"bottom_left\"},\"id\":\"2659\",\"type\":\"Legend\"},{\"attributes\":{\"callback\":null,\"tooltips\":\"                \\n        <div style=padding=5px>Year:@x</div>\\n        <div style=padding=5px>Value:@y</div>        \\n        \"},\"id\":\"2741\",\"type\":\"HoverTool\"},{\"attributes\":{\"line_alpha\":0.1,\"line_color\":\"#1f77b4\",\"x\":{\"field\":\"x\"},\"y\":{\"field\":\"y\"}},\"id\":\"2714\",\"type\":\"Line\"},{\"attributes\":{\"data_source\":{\"id\":\"2712\",\"type\":\"ColumnDataSource\"},\"glyph\":{\"id\":\"2713\",\"type\":\"Line\"},\"hover_glyph\":null,\"muted_glyph\":null,\"nonselection_glyph\":{\"id\":\"2714\",\"type\":\"Line\"},\"selection_glyph\":null,\"view\":{\"id\":\"2716\",\"type\":\"CDSView\"}},\"id\":\"2715\",\"type\":\"GlyphRenderer\"},{\"attributes\":{\"label\":{\"value\":\"LDCs\"},\"renderers\":[{\"id\":\"2651\",\"type\":\"GlyphRenderer\"}]},\"id\":\"2660\",\"type\":\"LegendItem\"},{\"attributes\":{},\"id\":\"2623\",\"type\":\"LinearScale\"},{\"attributes\":{\"source\":{\"id\":\"2712\",\"type\":\"ColumnDataSource\"}},\"id\":\"2716\",\"type\":\"CDSView\"}],\"root_ids\":[\"2614\"]},\"title\":\"Bokeh Application\",\"version\":\"1.3.4\"}};\n",
       "  var render_items = [{\"docid\":\"e775e4be-9217-4832-bf2d-ae94d3a3b9e7\",\"roots\":{\"2614\":\"cd0705ff-1945-4444-b6bd-c8741c1b40fb\"}}];\n",
       "  root.Bokeh.embed.embed_items_notebook(docs_json, render_items);\n",
       "\n",
       "  }\n",
       "  if (root.Bokeh !== undefined) {\n",
       "    embed_document(root);\n",
       "  } else {\n",
       "    var attempts = 0;\n",
       "    var timer = setInterval(function(root) {\n",
       "      if (root.Bokeh !== undefined) {\n",
       "        embed_document(root);\n",
       "        clearInterval(timer);\n",
       "      }\n",
       "      attempts++;\n",
       "      if (attempts > 100) {\n",
       "        console.log(\"Bokeh: ERROR: Unable to run BokehJS code because BokehJS library is missing\");\n",
       "        clearInterval(timer);\n",
       "      }\n",
       "    }, 10, root)\n",
       "  }\n",
       "})(window);"
      ],
      "application/vnd.bokehjs_exec.v0+json": ""
     },
     "metadata": {
      "application/vnd.bokehjs_exec.v0+json": {
       "id": "2614"
      }
     },
     "output_type": "display_data"
    }
   ],
   "source": [
    "show(line_chart(gpp(['LDCs', 'Developing excluding LDCs', 'OECD', 'UMICs']), \n",
    "                \"Projected population, thousands\", x_axis_label='Years', \n",
    "                y_axis_label='Projected population, thousands', height=400, width=900))"
   ]
  },
  {
   "cell_type": "code",
   "execution_count": 13,
   "metadata": {
    "ExecuteTime": {
     "end_time": "2019-10-25T14:24:58.884216Z",
     "start_time": "2019-10-25T14:24:54.401294Z"
    },
    "slideshow": {
     "slide_type": "slide"
    }
   },
   "outputs": [
    {
     "data": {
      "text/html": [
       "\n",
       "\n",
       "\n",
       "\n",
       "\n",
       "\n",
       "  <div class=\"bk-root\" id=\"6c1bd1e3-f305-4c51-9294-5ca9ae0849ff\" data-root-id=\"3002\"></div>\n"
      ]
     },
     "metadata": {},
     "output_type": "display_data"
    },
    {
     "data": {
      "application/javascript": [
       "(function(root) {\n",
       "  function embed_document(root) {\n",
       "    \n",
       "  var docs_json = {\"276d61a2-c3dc-469e-be54-bf4e9395c7cb\":{\"roots\":{\"references\":[{\"attributes\":{\"below\":[{\"id\":\"3013\",\"type\":\"LinearAxis\"}],\"center\":[{\"id\":\"3017\",\"type\":\"Grid\"},{\"id\":\"3022\",\"type\":\"Grid\"},{\"id\":\"3047\",\"type\":\"Legend\"}],\"left\":[{\"id\":\"3018\",\"type\":\"LinearAxis\"}],\"plot_height\":400,\"plot_width\":800,\"renderers\":[{\"id\":\"3039\",\"type\":\"GlyphRenderer\"},{\"id\":\"3052\",\"type\":\"GlyphRenderer\"},{\"id\":\"3057\",\"type\":\"GlyphRenderer\"},{\"id\":\"3073\",\"type\":\"GlyphRenderer\"},{\"id\":\"3078\",\"type\":\"GlyphRenderer\"},{\"id\":\"3098\",\"type\":\"GlyphRenderer\"}],\"title\":{\"id\":\"3003\",\"type\":\"Title\"},\"toolbar\":{\"id\":\"3029\",\"type\":\"Toolbar\"},\"x_range\":{\"id\":\"3005\",\"type\":\"DataRange1d\"},\"x_scale\":{\"id\":\"3009\",\"type\":\"LinearScale\"},\"y_range\":{\"id\":\"3007\",\"type\":\"DataRange1d\"},\"y_scale\":{\"id\":\"3011\",\"type\":\"LinearScale\"}},\"id\":\"3002\",\"subtype\":\"Figure\",\"type\":\"Plot\"},{\"attributes\":{\"data_source\":{\"id\":\"3054\",\"type\":\"ColumnDataSource\"},\"glyph\":{\"id\":\"3055\",\"type\":\"Line\"},\"hover_glyph\":null,\"muted_glyph\":null,\"nonselection_glyph\":{\"id\":\"3056\",\"type\":\"Line\"},\"selection_glyph\":null,\"view\":{\"id\":\"3058\",\"type\":\"CDSView\"}},\"id\":\"3057\",\"type\":\"GlyphRenderer\"},{\"attributes\":{},\"id\":\"3028\",\"type\":\"HelpTool\"},{\"attributes\":{\"line_alpha\":0.1,\"line_color\":\"#1f77b4\",\"x\":{\"field\":\"x\"},\"y\":{\"field\":\"y\"}},\"id\":\"3056\",\"type\":\"Line\"},{\"attributes\":{\"callback\":null,\"data\":{\"x\":[\"2000\",\"2001\",\"2002\",\"2003\",\"2004\",\"2005\",\"2006\",\"2007\",\"2008\",\"2009\",\"2010\",\"2011\",\"2012\",\"2013\",\"2014\",\"2015\",\"2016\",\"2017\"],\"y\":[2.717504233905171,2.7154866043270727,2.7462604986550527,2.806001725421847,2.83058646052991,2.80349980744469,2.7583374960640157,2.7328716945985123,2.734358102618147,2.734445239277997,2.724690515681557,2.7229922593698563,2.711802941232593,2.6925433317980856,2.671440686153528,2.648991920011479,2.6258157949200918,2.613168165844644]},\"selected\":{\"id\":\"3246\",\"type\":\"Selection\"},\"selection_policy\":{\"id\":\"3245\",\"type\":\"UnionRenderers\"}},\"id\":\"3095\",\"type\":\"ColumnDataSource\"},{\"attributes\":{\"grid_line_color\":null,\"ticker\":{\"id\":\"3014\",\"type\":\"BasicTicker\"}},\"id\":\"3017\",\"type\":\"Grid\"},{\"attributes\":{\"fill_color\":{\"value\":\"#2CC775\"},\"line_color\":{\"value\":\"#2CC775\"},\"line_width\":{\"value\":3},\"x\":{\"field\":\"x\"},\"y\":{\"field\":\"y\"}},\"id\":\"3096\",\"type\":\"Circle\"},{\"attributes\":{\"axis_label\":\"SN.ITK.DEFC.ZS\",\"formatter\":{\"id\":\"3045\",\"type\":\"BasicTickFormatter\"},\"ticker\":{\"id\":\"3019\",\"type\":\"BasicTicker\"}},\"id\":\"3018\",\"type\":\"LinearAxis\"},{\"attributes\":{\"source\":{\"id\":\"3054\",\"type\":\"ColumnDataSource\"}},\"id\":\"3058\",\"type\":\"CDSView\"},{\"attributes\":{\"active_drag\":\"auto\",\"active_inspect\":\"auto\",\"active_multi\":null,\"active_scroll\":\"auto\",\"active_tap\":\"auto\",\"tools\":[{\"id\":\"3023\",\"type\":\"PanTool\"},{\"id\":\"3024\",\"type\":\"WheelZoomTool\"},{\"id\":\"3025\",\"type\":\"BoxZoomTool\"},{\"id\":\"3026\",\"type\":\"SaveTool\"},{\"id\":\"3027\",\"type\":\"ResetTool\"},{\"id\":\"3028\",\"type\":\"HelpTool\"},{\"id\":\"3100\",\"type\":\"HoverTool\"}]},\"id\":\"3029\",\"type\":\"Toolbar\"},{\"attributes\":{\"fill_alpha\":{\"value\":0.1},\"fill_color\":{\"value\":\"#1f77b4\"},\"line_alpha\":{\"value\":0.1},\"line_color\":{\"value\":\"#1f77b4\"},\"line_width\":{\"value\":3},\"x\":{\"field\":\"x\"},\"y\":{\"field\":\"y\"}},\"id\":\"3097\",\"type\":\"Circle\"},{\"attributes\":{},\"id\":\"3019\",\"type\":\"BasicTicker\"},{\"attributes\":{},\"id\":\"3066\",\"type\":\"Selection\"},{\"attributes\":{\"data_source\":{\"id\":\"3095\",\"type\":\"ColumnDataSource\"},\"glyph\":{\"id\":\"3096\",\"type\":\"Circle\"},\"hover_glyph\":null,\"muted_glyph\":null,\"nonselection_glyph\":{\"id\":\"3097\",\"type\":\"Circle\"},\"selection_glyph\":null,\"view\":{\"id\":\"3099\",\"type\":\"CDSView\"}},\"id\":\"3098\",\"type\":\"GlyphRenderer\"},{\"attributes\":{\"dimension\":1,\"grid_line_alpha\":0.5,\"ticker\":{\"id\":\"3019\",\"type\":\"BasicTicker\"}},\"id\":\"3022\",\"type\":\"Grid\"},{\"attributes\":{},\"id\":\"3065\",\"type\":\"UnionRenderers\"},{\"attributes\":{\"source\":{\"id\":\"3095\",\"type\":\"ColumnDataSource\"}},\"id\":\"3099\",\"type\":\"CDSView\"},{\"attributes\":{},\"id\":\"3067\",\"type\":\"UnionRenderers\"},{\"attributes\":{\"source\":{\"id\":\"3036\",\"type\":\"ColumnDataSource\"}},\"id\":\"3040\",\"type\":\"CDSView\"},{\"attributes\":{\"data_source\":{\"id\":\"3036\",\"type\":\"ColumnDataSource\"},\"glyph\":{\"id\":\"3037\",\"type\":\"Line\"},\"hover_glyph\":null,\"muted_glyph\":null,\"nonselection_glyph\":{\"id\":\"3038\",\"type\":\"Line\"},\"selection_glyph\":null,\"view\":{\"id\":\"3040\",\"type\":\"CDSView\"}},\"id\":\"3039\",\"type\":\"GlyphRenderer\"},{\"attributes\":{},\"id\":\"3043\",\"type\":\"BasicTickFormatter\"},{\"attributes\":{\"callback\":null,\"data\":{\"x\":[\"2000\",\"2001\",\"2002\",\"2003\",\"2004\",\"2005\",\"2006\",\"2007\",\"2008\",\"2009\",\"2010\",\"2011\",\"2012\",\"2013\",\"2014\",\"2015\",\"2016\",\"2017\"],\"y\":[34.296690006630136,32.8968410303035,31.79773886292999,30.5686122583698,29.40060625275987,28.197830907824812,27.181161548902693,26.25402759144791,25.398866265707913,24.5963903225063,23.970161747111305,23.43052018307879,23.050821983980665,22.705763685275056,22.47210274575761,22.469255784991716,22.563852846171923,22.65045794352939]},\"selected\":{\"id\":\"3066\",\"type\":\"Selection\"},\"selection_policy\":{\"id\":\"3065\",\"type\":\"UnionRenderers\"}},\"id\":\"3036\",\"type\":\"ColumnDataSource\"},{\"attributes\":{},\"id\":\"3045\",\"type\":\"BasicTickFormatter\"},{\"attributes\":{\"label\":{\"value\":\"Developing excluding LDCs\"},\"renderers\":[{\"id\":\"3057\",\"type\":\"GlyphRenderer\"}]},\"id\":\"3069\",\"type\":\"LegendItem\"},{\"attributes\":{},\"id\":\"3243\",\"type\":\"UnionRenderers\"},{\"attributes\":{\"line_alpha\":0.1,\"line_color\":\"#1f77b4\",\"x\":{\"field\":\"x\"},\"y\":{\"field\":\"y\"}},\"id\":\"3038\",\"type\":\"Line\"},{\"attributes\":{},\"id\":\"3068\",\"type\":\"Selection\"},{\"attributes\":{\"callback\":null,\"tooltips\":\"                \\n        <div style=padding=5px>Year:@x</div>\\n        <div style=padding=5px>Value:@y</div>        \\n        \"},\"id\":\"3100\",\"type\":\"HoverTool\"},{\"attributes\":{\"source\":{\"id\":\"3075\",\"type\":\"ColumnDataSource\"}},\"id\":\"3079\",\"type\":\"CDSView\"},{\"attributes\":{},\"id\":\"3244\",\"type\":\"Selection\"},{\"attributes\":{\"text\":\"Prevalence of undernourishment (% of population) weighted against Population, total\"},\"id\":\"3003\",\"type\":\"Title\"},{\"attributes\":{\"callback\":null,\"data\":{\"x\":[\"2000\",\"2001\",\"2002\",\"2003\",\"2004\",\"2005\",\"2006\",\"2007\",\"2008\",\"2009\",\"2010\",\"2011\",\"2012\",\"2013\",\"2014\",\"2015\",\"2016\",\"2017\"],\"y\":[16.02606192520864,16.270773333279084,16.606876788025307,16.74535026220969,16.656448375078725,16.13405944602225,15.331780508336847,14.527816819573228,13.806451647166279,13.227587976590945,12.752576312725115,12.323216723695218,11.983420331424563,11.624874868210318,11.27625760481156,10.9695925016704,10.831636605682938,10.76640933924249]},\"selected\":{\"id\":\"3093\",\"type\":\"Selection\"},\"selection_policy\":{\"id\":\"3092\",\"type\":\"UnionRenderers\"}},\"id\":\"3070\",\"type\":\"ColumnDataSource\"},{\"attributes\":{},\"id\":\"3023\",\"type\":\"PanTool\"},{\"attributes\":{\"bottom_units\":\"screen\",\"fill_alpha\":{\"value\":0.5},\"fill_color\":{\"value\":\"lightgrey\"},\"left_units\":\"screen\",\"level\":\"overlay\",\"line_alpha\":{\"value\":1.0},\"line_color\":{\"value\":\"black\"},\"line_dash\":[4,4],\"line_width\":{\"value\":2},\"render_mode\":\"css\",\"right_units\":\"screen\",\"top_units\":\"screen\"},\"id\":\"3046\",\"type\":\"BoxAnnotation\"},{\"attributes\":{},\"id\":\"3090\",\"type\":\"UnionRenderers\"},{\"attributes\":{},\"id\":\"3245\",\"type\":\"UnionRenderers\"},{\"attributes\":{\"fill_alpha\":{\"value\":0.1},\"fill_color\":{\"value\":\"#1f77b4\"},\"line_alpha\":{\"value\":0.1},\"line_color\":{\"value\":\"#1f77b4\"},\"line_width\":{\"value\":3},\"x\":{\"field\":\"x\"},\"y\":{\"field\":\"y\"}},\"id\":\"3072\",\"type\":\"Circle\"},{\"attributes\":{},\"id\":\"3024\",\"type\":\"WheelZoomTool\"},{\"attributes\":{\"label\":{\"value\":\"LDCs\"},\"renderers\":[{\"id\":\"3039\",\"type\":\"GlyphRenderer\"}]},\"id\":\"3048\",\"type\":\"LegendItem\"},{\"attributes\":{\"callback\":null},\"id\":\"3005\",\"type\":\"DataRange1d\"},{\"attributes\":{},\"id\":\"3246\",\"type\":\"Selection\"},{\"attributes\":{\"fill_color\":{\"value\":\"#5430F1\"},\"line_color\":{\"value\":\"#5430F1\"},\"line_width\":{\"value\":3},\"x\":{\"field\":\"x\"},\"y\":{\"field\":\"y\"}},\"id\":\"3071\",\"type\":\"Circle\"},{\"attributes\":{},\"id\":\"3091\",\"type\":\"Selection\"},{\"attributes\":{\"items\":[{\"id\":\"3048\",\"type\":\"LegendItem\"},{\"id\":\"3069\",\"type\":\"LegendItem\"},{\"id\":\"3094\",\"type\":\"LegendItem\"}],\"location\":\"bottom_left\"},\"id\":\"3047\",\"type\":\"Legend\"},{\"attributes\":{\"overlay\":{\"id\":\"3046\",\"type\":\"BoxAnnotation\"}},\"id\":\"3025\",\"type\":\"BoxZoomTool\"},{\"attributes\":{},\"id\":\"3027\",\"type\":\"ResetTool\"},{\"attributes\":{\"callback\":null},\"id\":\"3007\",\"type\":\"DataRange1d\"},{\"attributes\":{\"data_source\":{\"id\":\"3070\",\"type\":\"ColumnDataSource\"},\"glyph\":{\"id\":\"3071\",\"type\":\"Circle\"},\"hover_glyph\":null,\"muted_glyph\":null,\"nonselection_glyph\":{\"id\":\"3072\",\"type\":\"Circle\"},\"selection_glyph\":null,\"view\":{\"id\":\"3074\",\"type\":\"CDSView\"}},\"id\":\"3073\",\"type\":\"GlyphRenderer\"},{\"attributes\":{\"callback\":null,\"data\":{\"x\":[\"2000\",\"2001\",\"2002\",\"2003\",\"2004\",\"2005\",\"2006\",\"2007\",\"2008\",\"2009\",\"2010\",\"2011\",\"2012\",\"2013\",\"2014\",\"2015\",\"2016\",\"2017\"],\"y\":[34.296690006630136,32.8968410303035,31.79773886292999,30.5686122583698,29.40060625275987,28.197830907824812,27.181161548902693,26.25402759144791,25.398866265707913,24.5963903225063,23.970161747111305,23.43052018307879,23.050821983980665,22.705763685275056,22.47210274575761,22.469255784991716,22.563852846171923,22.65045794352939]},\"selected\":{\"id\":\"3068\",\"type\":\"Selection\"},\"selection_policy\":{\"id\":\"3067\",\"type\":\"UnionRenderers\"}},\"id\":\"3049\",\"type\":\"ColumnDataSource\"},{\"attributes\":{},\"id\":\"3026\",\"type\":\"SaveTool\"},{\"attributes\":{\"line_color\":\"#FA1857\",\"x\":{\"field\":\"x\"},\"y\":{\"field\":\"y\"}},\"id\":\"3037\",\"type\":\"Line\"},{\"attributes\":{\"callback\":null,\"data\":{\"x\":[\"2000\",\"2001\",\"2002\",\"2003\",\"2004\",\"2005\",\"2006\",\"2007\",\"2008\",\"2009\",\"2010\",\"2011\",\"2012\",\"2013\",\"2014\",\"2015\",\"2016\",\"2017\"],\"y\":[2.717504233905171,2.7154866043270727,2.7462604986550527,2.806001725421847,2.83058646052991,2.80349980744469,2.7583374960640157,2.7328716945985123,2.734358102618147,2.734445239277997,2.724690515681557,2.7229922593698563,2.711802941232593,2.6925433317980856,2.671440686153528,2.648991920011479,2.6258157949200918,2.613168165844644]},\"selected\":{\"id\":\"3244\",\"type\":\"Selection\"},\"selection_policy\":{\"id\":\"3243\",\"type\":\"UnionRenderers\"}},\"id\":\"3075\",\"type\":\"ColumnDataSource\"},{\"attributes\":{\"fill_alpha\":{\"value\":0.1},\"fill_color\":{\"value\":\"#1f77b4\"},\"line_alpha\":{\"value\":0.1},\"line_color\":{\"value\":\"#1f77b4\"},\"line_width\":{\"value\":3},\"x\":{\"field\":\"x\"},\"y\":{\"field\":\"y\"}},\"id\":\"3051\",\"type\":\"Circle\"},{\"attributes\":{},\"id\":\"3092\",\"type\":\"UnionRenderers\"},{\"attributes\":{},\"id\":\"3009\",\"type\":\"LinearScale\"},{\"attributes\":{\"source\":{\"id\":\"3070\",\"type\":\"ColumnDataSource\"}},\"id\":\"3074\",\"type\":\"CDSView\"},{\"attributes\":{\"fill_color\":{\"value\":\"#FA1857\"},\"line_color\":{\"value\":\"#FA1857\"},\"line_width\":{\"value\":3},\"x\":{\"field\":\"x\"},\"y\":{\"field\":\"y\"}},\"id\":\"3050\",\"type\":\"Circle\"},{\"attributes\":{},\"id\":\"3011\",\"type\":\"LinearScale\"},{\"attributes\":{\"line_color\":\"#2CC775\",\"x\":{\"field\":\"x\"},\"y\":{\"field\":\"y\"}},\"id\":\"3076\",\"type\":\"Line\"},{\"attributes\":{\"data_source\":{\"id\":\"3049\",\"type\":\"ColumnDataSource\"},\"glyph\":{\"id\":\"3050\",\"type\":\"Circle\"},\"hover_glyph\":null,\"muted_glyph\":null,\"nonselection_glyph\":{\"id\":\"3051\",\"type\":\"Circle\"},\"selection_glyph\":null,\"view\":{\"id\":\"3053\",\"type\":\"CDSView\"}},\"id\":\"3052\",\"type\":\"GlyphRenderer\"},{\"attributes\":{},\"id\":\"3093\",\"type\":\"Selection\"},{\"attributes\":{\"data_source\":{\"id\":\"3075\",\"type\":\"ColumnDataSource\"},\"glyph\":{\"id\":\"3076\",\"type\":\"Line\"},\"hover_glyph\":null,\"muted_glyph\":null,\"nonselection_glyph\":{\"id\":\"3077\",\"type\":\"Line\"},\"selection_glyph\":null,\"view\":{\"id\":\"3079\",\"type\":\"CDSView\"}},\"id\":\"3078\",\"type\":\"GlyphRenderer\"},{\"attributes\":{\"callback\":null,\"data\":{\"x\":[\"2000\",\"2001\",\"2002\",\"2003\",\"2004\",\"2005\",\"2006\",\"2007\",\"2008\",\"2009\",\"2010\",\"2011\",\"2012\",\"2013\",\"2014\",\"2015\",\"2016\",\"2017\"],\"y\":[16.02606192520864,16.270773333279084,16.606876788025307,16.74535026220969,16.656448375078725,16.13405944602225,15.331780508336847,14.527816819573228,13.806451647166279,13.227587976590945,12.752576312725115,12.323216723695218,11.983420331424563,11.624874868210318,11.27625760481156,10.9695925016704,10.831636605682938,10.76640933924249]},\"selected\":{\"id\":\"3091\",\"type\":\"Selection\"},\"selection_policy\":{\"id\":\"3090\",\"type\":\"UnionRenderers\"}},\"id\":\"3054\",\"type\":\"ColumnDataSource\"},{\"attributes\":{\"axis_label\":\"Years\",\"formatter\":{\"id\":\"3043\",\"type\":\"BasicTickFormatter\"},\"ticker\":{\"id\":\"3014\",\"type\":\"BasicTicker\"}},\"id\":\"3013\",\"type\":\"LinearAxis\"},{\"attributes\":{\"line_alpha\":0.1,\"line_color\":\"#1f77b4\",\"x\":{\"field\":\"x\"},\"y\":{\"field\":\"y\"}},\"id\":\"3077\",\"type\":\"Line\"},{\"attributes\":{\"source\":{\"id\":\"3049\",\"type\":\"ColumnDataSource\"}},\"id\":\"3053\",\"type\":\"CDSView\"},{\"attributes\":{\"label\":{\"value\":\"OECD\"},\"renderers\":[{\"id\":\"3078\",\"type\":\"GlyphRenderer\"}]},\"id\":\"3094\",\"type\":\"LegendItem\"},{\"attributes\":{},\"id\":\"3014\",\"type\":\"BasicTicker\"},{\"attributes\":{\"line_color\":\"#5430F1\",\"x\":{\"field\":\"x\"},\"y\":{\"field\":\"y\"}},\"id\":\"3055\",\"type\":\"Line\"}],\"root_ids\":[\"3002\"]},\"title\":\"Bokeh Application\",\"version\":\"1.3.4\"}};\n",
       "  var render_items = [{\"docid\":\"276d61a2-c3dc-469e-be54-bf4e9395c7cb\",\"roots\":{\"3002\":\"6c1bd1e3-f305-4c51-9294-5ca9ae0849ff\"}}];\n",
       "  root.Bokeh.embed.embed_items_notebook(docs_json, render_items);\n",
       "\n",
       "  }\n",
       "  if (root.Bokeh !== undefined) {\n",
       "    embed_document(root);\n",
       "  } else {\n",
       "    var attempts = 0;\n",
       "    var timer = setInterval(function(root) {\n",
       "      if (root.Bokeh !== undefined) {\n",
       "        embed_document(root);\n",
       "        clearInterval(timer);\n",
       "      }\n",
       "      attempts++;\n",
       "      if (attempts > 100) {\n",
       "        console.log(\"Bokeh: ERROR: Unable to run BokehJS code because BokehJS library is missing\");\n",
       "        clearInterval(timer);\n",
       "      }\n",
       "    }, 10, root)\n",
       "  }\n",
       "})(window);"
      ],
      "application/vnd.bokehjs_exec.v0+json": ""
     },
     "metadata": {
      "application/vnd.bokehjs_exec.v0+json": {
       "id": "3002"
      }
     },
     "output_type": "display_data"
    }
   ],
   "source": [
    "# Prevalence of undernourishment (% of population)\n",
    "years = list(map(str, list(range(2000,2018))))\n",
    "result = show_weighted_average(years, 'SN.ITK.DEFC.ZS', 'SP.POP.TOTL', \n",
    "                               ['LDCs', 'Developing excluding LDCs', 'OECD'])"
   ]
  },
  {
   "cell_type": "code",
   "execution_count": 14,
   "metadata": {
    "ExecuteTime": {
     "end_time": "2019-10-25T14:25:03.855925Z",
     "start_time": "2019-10-25T14:24:58.886407Z"
    },
    "slideshow": {
     "slide_type": "slide"
    }
   },
   "outputs": [
    {
     "data": {
      "text/html": [
       "\n",
       "\n",
       "\n",
       "\n",
       "\n",
       "\n",
       "  <div class=\"bk-root\" id=\"cb068ee9-8560-4217-83c3-154248481b8d\" data-root-id=\"3355\"></div>\n"
      ]
     },
     "metadata": {},
     "output_type": "display_data"
    },
    {
     "data": {
      "application/javascript": [
       "(function(root) {\n",
       "  function embed_document(root) {\n",
       "    \n",
       "  var docs_json = {\"1c68720c-f64a-43c7-bb29-1102982b2e6f\":{\"roots\":{\"references\":[{\"attributes\":{\"below\":[{\"id\":\"3366\",\"type\":\"LinearAxis\"}],\"center\":[{\"id\":\"3370\",\"type\":\"Grid\"},{\"id\":\"3375\",\"type\":\"Grid\"},{\"id\":\"3400\",\"type\":\"Legend\"}],\"left\":[{\"id\":\"3371\",\"type\":\"LinearAxis\"}],\"plot_height\":400,\"plot_width\":800,\"renderers\":[{\"id\":\"3392\",\"type\":\"GlyphRenderer\"},{\"id\":\"3405\",\"type\":\"GlyphRenderer\"},{\"id\":\"3410\",\"type\":\"GlyphRenderer\"},{\"id\":\"3426\",\"type\":\"GlyphRenderer\"},{\"id\":\"3431\",\"type\":\"GlyphRenderer\"},{\"id\":\"3451\",\"type\":\"GlyphRenderer\"}],\"title\":{\"id\":\"3356\",\"type\":\"Title\"},\"toolbar\":{\"id\":\"3382\",\"type\":\"Toolbar\"},\"x_range\":{\"id\":\"3358\",\"type\":\"DataRange1d\"},\"x_scale\":{\"id\":\"3362\",\"type\":\"LinearScale\"},\"y_range\":{\"id\":\"3360\",\"type\":\"DataRange1d\"},\"y_scale\":{\"id\":\"3364\",\"type\":\"LinearScale\"}},\"id\":\"3355\",\"subtype\":\"Figure\",\"type\":\"Plot\"},{\"attributes\":{},\"id\":\"3377\",\"type\":\"WheelZoomTool\"},{\"attributes\":{\"source\":{\"id\":\"3402\",\"type\":\"ColumnDataSource\"}},\"id\":\"3406\",\"type\":\"CDSView\"},{\"attributes\":{\"fill_color\":{\"value\":\"#2CC775\"},\"line_color\":{\"value\":\"#2CC775\"},\"line_width\":{\"value\":3},\"x\":{\"field\":\"x\"},\"y\":{\"field\":\"y\"}},\"id\":\"3449\",\"type\":\"Circle\"},{\"attributes\":{},\"id\":\"3367\",\"type\":\"BasicTicker\"},{\"attributes\":{\"line_alpha\":0.1,\"line_color\":\"#1f77b4\",\"x\":{\"field\":\"x\"},\"y\":{\"field\":\"y\"}},\"id\":\"3409\",\"type\":\"Line\"},{\"attributes\":{\"source\":{\"id\":\"3448\",\"type\":\"ColumnDataSource\"}},\"id\":\"3452\",\"type\":\"CDSView\"},{\"attributes\":{\"callback\":null,\"data\":{\"x\":[\"2000\",\"2001\",\"2002\",\"2003\",\"2004\",\"2005\",\"2006\",\"2007\",\"2008\",\"2009\",\"2010\",\"2011\",\"2012\",\"2013\",\"2014\",\"2015\",\"2016\",\"2017\"],\"y\":[6.67838532122474,7.066966145061542,6.889353323332191,6.655588423229744,6.203546783341963,5.6363019320072345,5.349287409558019,5.9381576157577065,6.354971423643562,6.88697962812065,6.44811794037661,6.779580388013174,6.758180775464634,6.834941707698121,7.185358680561078,7.821629436531289,8.043040894368179,8.132975934296237]},\"selected\":{\"id\":\"3444\",\"type\":\"Selection\"},\"selection_policy\":{\"id\":\"3443\",\"type\":\"UnionRenderers\"}},\"id\":\"3407\",\"type\":\"ColumnDataSource\"},{\"attributes\":{\"fill_alpha\":{\"value\":0.1},\"fill_color\":{\"value\":\"#1f77b4\"},\"line_alpha\":{\"value\":0.1},\"line_color\":{\"value\":\"#1f77b4\"},\"line_width\":{\"value\":3},\"x\":{\"field\":\"x\"},\"y\":{\"field\":\"y\"}},\"id\":\"3450\",\"type\":\"Circle\"},{\"attributes\":{\"grid_line_color\":null,\"ticker\":{\"id\":\"3367\",\"type\":\"BasicTicker\"}},\"id\":\"3370\",\"type\":\"Grid\"},{\"attributes\":{},\"id\":\"3376\",\"type\":\"PanTool\"},{\"attributes\":{\"data_source\":{\"id\":\"3448\",\"type\":\"ColumnDataSource\"},\"glyph\":{\"id\":\"3449\",\"type\":\"Circle\"},\"hover_glyph\":null,\"muted_glyph\":null,\"nonselection_glyph\":{\"id\":\"3450\",\"type\":\"Circle\"},\"selection_glyph\":null,\"view\":{\"id\":\"3452\",\"type\":\"CDSView\"}},\"id\":\"3451\",\"type\":\"GlyphRenderer\"},{\"attributes\":{\"line_color\":\"#5430F1\",\"x\":{\"field\":\"x\"},\"y\":{\"field\":\"y\"}},\"id\":\"3408\",\"type\":\"Line\"},{\"attributes\":{\"axis_label\":\"TM.VAL.FOOD.ZS.UN\",\"formatter\":{\"id\":\"3398\",\"type\":\"BasicTickFormatter\"},\"ticker\":{\"id\":\"3372\",\"type\":\"BasicTicker\"}},\"id\":\"3371\",\"type\":\"LinearAxis\"},{\"attributes\":{\"fill_color\":{\"value\":\"#FA1857\"},\"line_color\":{\"value\":\"#FA1857\"},\"line_width\":{\"value\":3},\"x\":{\"field\":\"x\"},\"y\":{\"field\":\"y\"}},\"id\":\"3403\",\"type\":\"Circle\"},{\"attributes\":{\"line_color\":\"#FA1857\",\"x\":{\"field\":\"x\"},\"y\":{\"field\":\"y\"}},\"id\":\"3390\",\"type\":\"Line\"},{\"attributes\":{},\"id\":\"3446\",\"type\":\"Selection\"},{\"attributes\":{},\"id\":\"3362\",\"type\":\"LinearScale\"},{\"attributes\":{\"callback\":null,\"data\":{\"x\":[\"2000\",\"2001\",\"2002\",\"2003\",\"2004\",\"2005\",\"2006\",\"2007\",\"2008\",\"2009\",\"2010\",\"2011\",\"2012\",\"2013\",\"2014\",\"2015\",\"2016\",\"2017\"],\"y\":[17.473674203541137,16.380118773051816,16.47513346649186,18.08613953149967,16.78490129479693,16.007482051291397,15.313322308226102,15.983622760588208,15.681066764755263,16.22610041134688,16.154563828357762,16.562353136179336,15.178298854466885,14.75804992134933,14.9560562510018,14.784916706699187,15.752772028130035,16.792717806787888]},\"selected\":{\"id\":\"3419\",\"type\":\"Selection\"},\"selection_policy\":{\"id\":\"3418\",\"type\":\"UnionRenderers\"}},\"id\":\"3389\",\"type\":\"ColumnDataSource\"},{\"attributes\":{},\"id\":\"3617\",\"type\":\"Selection\"},{\"attributes\":{\"fill_alpha\":{\"value\":0.1},\"fill_color\":{\"value\":\"#1f77b4\"},\"line_alpha\":{\"value\":0.1},\"line_color\":{\"value\":\"#1f77b4\"},\"line_width\":{\"value\":3},\"x\":{\"field\":\"x\"},\"y\":{\"field\":\"y\"}},\"id\":\"3404\",\"type\":\"Circle\"},{\"attributes\":{\"label\":{\"value\":\"OECD\"},\"renderers\":[{\"id\":\"3431\",\"type\":\"GlyphRenderer\"}]},\"id\":\"3447\",\"type\":\"LegendItem\"},{\"attributes\":{},\"id\":\"3364\",\"type\":\"LinearScale\"},{\"attributes\":{\"data_source\":{\"id\":\"3402\",\"type\":\"ColumnDataSource\"},\"glyph\":{\"id\":\"3403\",\"type\":\"Circle\"},\"hover_glyph\":null,\"muted_glyph\":null,\"nonselection_glyph\":{\"id\":\"3404\",\"type\":\"Circle\"},\"selection_glyph\":null,\"view\":{\"id\":\"3406\",\"type\":\"CDSView\"}},\"id\":\"3405\",\"type\":\"GlyphRenderer\"},{\"attributes\":{},\"id\":\"3616\",\"type\":\"UnionRenderers\"},{\"attributes\":{\"axis_label\":\"Years\",\"formatter\":{\"id\":\"3396\",\"type\":\"BasicTickFormatter\"},\"ticker\":{\"id\":\"3367\",\"type\":\"BasicTicker\"}},\"id\":\"3366\",\"type\":\"LinearAxis\"},{\"attributes\":{\"items\":[{\"id\":\"3401\",\"type\":\"LegendItem\"},{\"id\":\"3422\",\"type\":\"LegendItem\"},{\"id\":\"3447\",\"type\":\"LegendItem\"}],\"location\":\"bottom_left\"},\"id\":\"3400\",\"type\":\"Legend\"},{\"attributes\":{},\"id\":\"3443\",\"type\":\"UnionRenderers\"},{\"attributes\":{\"text\":\"Food imports (% of merchandise imports) weighted against Merchandise imports (current US$)\"},\"id\":\"3356\",\"type\":\"Title\"},{\"attributes\":{\"callback\":null,\"data\":{\"x\":[\"2000\",\"2001\",\"2002\",\"2003\",\"2004\",\"2005\",\"2006\",\"2007\",\"2008\",\"2009\",\"2010\",\"2011\",\"2012\",\"2013\",\"2014\",\"2015\",\"2016\",\"2017\"],\"y\":[6.664750789193946,7.14260825773659,7.454785931920459,7.5069480358449825,7.061134298970307,6.798358087904257,6.463499051640063,6.724561457383378,7.076831863705094,8.259612794934673,7.468578257026923,7.615305901349119,7.570593882649795,7.890298170268733,7.995508600894686,8.359319653572543,8.569945562785916,8.425056582808882]},\"selected\":{\"id\":\"3617\",\"type\":\"Selection\"},\"selection_policy\":{\"id\":\"3616\",\"type\":\"UnionRenderers\"}},\"id\":\"3448\",\"type\":\"ColumnDataSource\"},{\"attributes\":{\"label\":{\"value\":\"LDCs\"},\"renderers\":[{\"id\":\"3392\",\"type\":\"GlyphRenderer\"}]},\"id\":\"3401\",\"type\":\"LegendItem\"},{\"attributes\":{},\"id\":\"3444\",\"type\":\"Selection\"},{\"attributes\":{},\"id\":\"3615\",\"type\":\"Selection\"},{\"attributes\":{\"callback\":null},\"id\":\"3358\",\"type\":\"DataRange1d\"},{\"attributes\":{\"callback\":null,\"data\":{\"x\":[\"2000\",\"2001\",\"2002\",\"2003\",\"2004\",\"2005\",\"2006\",\"2007\",\"2008\",\"2009\",\"2010\",\"2011\",\"2012\",\"2013\",\"2014\",\"2015\",\"2016\",\"2017\"],\"y\":[17.473674203541137,16.380118773051816,16.47513346649186,18.08613953149967,16.78490129479693,16.007482051291397,15.313322308226102,15.983622760588208,15.681066764755263,16.22610041134688,16.154563828357762,16.562353136179336,15.178298854466885,14.75804992134933,14.9560562510018,14.784916706699187,15.752772028130035,16.792717806787888]},\"selected\":{\"id\":\"3421\",\"type\":\"Selection\"},\"selection_policy\":{\"id\":\"3420\",\"type\":\"UnionRenderers\"}},\"id\":\"3402\",\"type\":\"ColumnDataSource\"},{\"attributes\":{},\"id\":\"3445\",\"type\":\"UnionRenderers\"},{\"attributes\":{\"data_source\":{\"id\":\"3423\",\"type\":\"ColumnDataSource\"},\"glyph\":{\"id\":\"3424\",\"type\":\"Circle\"},\"hover_glyph\":null,\"muted_glyph\":null,\"nonselection_glyph\":{\"id\":\"3425\",\"type\":\"Circle\"},\"selection_glyph\":null,\"view\":{\"id\":\"3427\",\"type\":\"CDSView\"}},\"id\":\"3426\",\"type\":\"GlyphRenderer\"},{\"attributes\":{\"callback\":null},\"id\":\"3360\",\"type\":\"DataRange1d\"},{\"attributes\":{\"dimension\":1,\"grid_line_alpha\":0.5,\"ticker\":{\"id\":\"3372\",\"type\":\"BasicTicker\"}},\"id\":\"3375\",\"type\":\"Grid\"},{\"attributes\":{\"line_alpha\":0.1,\"line_color\":\"#1f77b4\",\"x\":{\"field\":\"x\"},\"y\":{\"field\":\"y\"}},\"id\":\"3430\",\"type\":\"Line\"},{\"attributes\":{},\"id\":\"3614\",\"type\":\"UnionRenderers\"},{\"attributes\":{},\"id\":\"3421\",\"type\":\"Selection\"},{\"attributes\":{\"data_source\":{\"id\":\"3428\",\"type\":\"ColumnDataSource\"},\"glyph\":{\"id\":\"3429\",\"type\":\"Line\"},\"hover_glyph\":null,\"muted_glyph\":null,\"nonselection_glyph\":{\"id\":\"3430\",\"type\":\"Line\"},\"selection_glyph\":null,\"view\":{\"id\":\"3432\",\"type\":\"CDSView\"}},\"id\":\"3431\",\"type\":\"GlyphRenderer\"},{\"attributes\":{},\"id\":\"3398\",\"type\":\"BasicTickFormatter\"},{\"attributes\":{\"label\":{\"value\":\"Developing excluding LDCs\"},\"renderers\":[{\"id\":\"3410\",\"type\":\"GlyphRenderer\"}]},\"id\":\"3422\",\"type\":\"LegendItem\"},{\"attributes\":{\"source\":{\"id\":\"3407\",\"type\":\"ColumnDataSource\"}},\"id\":\"3411\",\"type\":\"CDSView\"},{\"attributes\":{},\"id\":\"3372\",\"type\":\"BasicTicker\"},{\"attributes\":{\"source\":{\"id\":\"3428\",\"type\":\"ColumnDataSource\"}},\"id\":\"3432\",\"type\":\"CDSView\"},{\"attributes\":{\"bottom_units\":\"screen\",\"fill_alpha\":{\"value\":0.5},\"fill_color\":{\"value\":\"lightgrey\"},\"left_units\":\"screen\",\"level\":\"overlay\",\"line_alpha\":{\"value\":1.0},\"line_color\":{\"value\":\"black\"},\"line_dash\":[4,4],\"line_width\":{\"value\":2},\"render_mode\":\"css\",\"right_units\":\"screen\",\"top_units\":\"screen\"},\"id\":\"3399\",\"type\":\"BoxAnnotation\"},{\"attributes\":{\"callback\":null,\"data\":{\"x\":[\"2000\",\"2001\",\"2002\",\"2003\",\"2004\",\"2005\",\"2006\",\"2007\",\"2008\",\"2009\",\"2010\",\"2011\",\"2012\",\"2013\",\"2014\",\"2015\",\"2016\",\"2017\"],\"y\":[6.67838532122474,7.066966145061542,6.889353323332191,6.655588423229744,6.203546783341963,5.6363019320072345,5.349287409558019,5.9381576157577065,6.354971423643562,6.88697962812065,6.44811794037661,6.779580388013174,6.758180775464634,6.834941707698121,7.185358680561078,7.821629436531289,8.043040894368179,8.132975934296237]},\"selected\":{\"id\":\"3446\",\"type\":\"Selection\"},\"selection_policy\":{\"id\":\"3445\",\"type\":\"UnionRenderers\"}},\"id\":\"3423\",\"type\":\"ColumnDataSource\"},{\"attributes\":{\"line_alpha\":0.1,\"line_color\":\"#1f77b4\",\"x\":{\"field\":\"x\"},\"y\":{\"field\":\"y\"}},\"id\":\"3391\",\"type\":\"Line\"},{\"attributes\":{\"callback\":null,\"tooltips\":\"                \\n        <div style=padding=5px>Year:@x</div>\\n        <div style=padding=5px>Value:@y</div>        \\n        \"},\"id\":\"3453\",\"type\":\"HoverTool\"},{\"attributes\":{\"source\":{\"id\":\"3423\",\"type\":\"ColumnDataSource\"}},\"id\":\"3427\",\"type\":\"CDSView\"},{\"attributes\":{},\"id\":\"3418\",\"type\":\"UnionRenderers\"},{\"attributes\":{\"callback\":null,\"data\":{\"x\":[\"2000\",\"2001\",\"2002\",\"2003\",\"2004\",\"2005\",\"2006\",\"2007\",\"2008\",\"2009\",\"2010\",\"2011\",\"2012\",\"2013\",\"2014\",\"2015\",\"2016\",\"2017\"],\"y\":[6.664750789193946,7.14260825773659,7.454785931920459,7.5069480358449825,7.061134298970307,6.798358087904257,6.463499051640063,6.724561457383378,7.076831863705094,8.259612794934673,7.468578257026923,7.615305901349119,7.570593882649795,7.890298170268733,7.995508600894686,8.359319653572543,8.569945562785916,8.425056582808882]},\"selected\":{\"id\":\"3615\",\"type\":\"Selection\"},\"selection_policy\":{\"id\":\"3614\",\"type\":\"UnionRenderers\"}},\"id\":\"3428\",\"type\":\"ColumnDataSource\"},{\"attributes\":{},\"id\":\"3419\",\"type\":\"Selection\"},{\"attributes\":{\"source\":{\"id\":\"3389\",\"type\":\"ColumnDataSource\"}},\"id\":\"3393\",\"type\":\"CDSView\"},{\"attributes\":{},\"id\":\"3379\",\"type\":\"SaveTool\"},{\"attributes\":{\"line_color\":\"#2CC775\",\"x\":{\"field\":\"x\"},\"y\":{\"field\":\"y\"}},\"id\":\"3429\",\"type\":\"Line\"},{\"attributes\":{\"data_source\":{\"id\":\"3389\",\"type\":\"ColumnDataSource\"},\"glyph\":{\"id\":\"3390\",\"type\":\"Line\"},\"hover_glyph\":null,\"muted_glyph\":null,\"nonselection_glyph\":{\"id\":\"3391\",\"type\":\"Line\"},\"selection_glyph\":null,\"view\":{\"id\":\"3393\",\"type\":\"CDSView\"}},\"id\":\"3392\",\"type\":\"GlyphRenderer\"},{\"attributes\":{},\"id\":\"3420\",\"type\":\"UnionRenderers\"},{\"attributes\":{},\"id\":\"3380\",\"type\":\"ResetTool\"},{\"attributes\":{\"fill_color\":{\"value\":\"#5430F1\"},\"line_color\":{\"value\":\"#5430F1\"},\"line_width\":{\"value\":3},\"x\":{\"field\":\"x\"},\"y\":{\"field\":\"y\"}},\"id\":\"3424\",\"type\":\"Circle\"},{\"attributes\":{\"data_source\":{\"id\":\"3407\",\"type\":\"ColumnDataSource\"},\"glyph\":{\"id\":\"3408\",\"type\":\"Line\"},\"hover_glyph\":null,\"muted_glyph\":null,\"nonselection_glyph\":{\"id\":\"3409\",\"type\":\"Line\"},\"selection_glyph\":null,\"view\":{\"id\":\"3411\",\"type\":\"CDSView\"}},\"id\":\"3410\",\"type\":\"GlyphRenderer\"},{\"attributes\":{},\"id\":\"3381\",\"type\":\"HelpTool\"},{\"attributes\":{\"overlay\":{\"id\":\"3399\",\"type\":\"BoxAnnotation\"}},\"id\":\"3378\",\"type\":\"BoxZoomTool\"},{\"attributes\":{\"fill_alpha\":{\"value\":0.1},\"fill_color\":{\"value\":\"#1f77b4\"},\"line_alpha\":{\"value\":0.1},\"line_color\":{\"value\":\"#1f77b4\"},\"line_width\":{\"value\":3},\"x\":{\"field\":\"x\"},\"y\":{\"field\":\"y\"}},\"id\":\"3425\",\"type\":\"Circle\"},{\"attributes\":{\"active_drag\":\"auto\",\"active_inspect\":\"auto\",\"active_multi\":null,\"active_scroll\":\"auto\",\"active_tap\":\"auto\",\"tools\":[{\"id\":\"3376\",\"type\":\"PanTool\"},{\"id\":\"3377\",\"type\":\"WheelZoomTool\"},{\"id\":\"3378\",\"type\":\"BoxZoomTool\"},{\"id\":\"3379\",\"type\":\"SaveTool\"},{\"id\":\"3380\",\"type\":\"ResetTool\"},{\"id\":\"3381\",\"type\":\"HelpTool\"},{\"id\":\"3453\",\"type\":\"HoverTool\"}]},\"id\":\"3382\",\"type\":\"Toolbar\"},{\"attributes\":{},\"id\":\"3396\",\"type\":\"BasicTickFormatter\"}],\"root_ids\":[\"3355\"]},\"title\":\"Bokeh Application\",\"version\":\"1.3.4\"}};\n",
       "  var render_items = [{\"docid\":\"1c68720c-f64a-43c7-bb29-1102982b2e6f\",\"roots\":{\"3355\":\"cb068ee9-8560-4217-83c3-154248481b8d\"}}];\n",
       "  root.Bokeh.embed.embed_items_notebook(docs_json, render_items);\n",
       "\n",
       "  }\n",
       "  if (root.Bokeh !== undefined) {\n",
       "    embed_document(root);\n",
       "  } else {\n",
       "    var attempts = 0;\n",
       "    var timer = setInterval(function(root) {\n",
       "      if (root.Bokeh !== undefined) {\n",
       "        embed_document(root);\n",
       "        clearInterval(timer);\n",
       "      }\n",
       "      attempts++;\n",
       "      if (attempts > 100) {\n",
       "        console.log(\"Bokeh: ERROR: Unable to run BokehJS code because BokehJS library is missing\");\n",
       "        clearInterval(timer);\n",
       "      }\n",
       "    }, 10, root)\n",
       "  }\n",
       "})(window);"
      ],
      "application/vnd.bokehjs_exec.v0+json": ""
     },
     "metadata": {
      "application/vnd.bokehjs_exec.v0+json": {
       "id": "3355"
      }
     },
     "output_type": "display_data"
    }
   ],
   "source": [
    "# Food imports as a percentage of merchandise imports\n",
    "years = list(map(str, list(range(2000,2018))))\n",
    "result = show_weighted_average(years, 'TM.VAL.FOOD.ZS.UN', 'TM.VAL.MRCH.CD.WT', \n",
    "                               ['LDCs', 'Developing excluding LDCs', 'OECD'])"
   ]
  },
  {
   "cell_type": "code",
   "execution_count": 15,
   "metadata": {
    "ExecuteTime": {
     "end_time": "2019-10-25T14:25:08.896422Z",
     "start_time": "2019-10-25T14:25:03.862619Z"
    },
    "slideshow": {
     "slide_type": "slide"
    }
   },
   "outputs": [
    {
     "data": {
      "text/html": [
       "\n",
       "\n",
       "\n",
       "\n",
       "\n",
       "\n",
       "  <div class=\"bk-root\" id=\"3990f33f-63d5-461a-b8c3-d1327078bf36\" data-root-id=\"3726\"></div>\n"
      ]
     },
     "metadata": {},
     "output_type": "display_data"
    },
    {
     "data": {
      "application/javascript": [
       "(function(root) {\n",
       "  function embed_document(root) {\n",
       "    \n",
       "  var docs_json = {\"ecea76eb-60f6-43a0-9d9e-d1c2fc873902\":{\"roots\":{\"references\":[{\"attributes\":{\"below\":[{\"id\":\"3737\",\"type\":\"LinearAxis\"}],\"center\":[{\"id\":\"3741\",\"type\":\"Grid\"},{\"id\":\"3746\",\"type\":\"Grid\"},{\"id\":\"3771\",\"type\":\"Legend\"}],\"left\":[{\"id\":\"3742\",\"type\":\"LinearAxis\"}],\"plot_height\":400,\"plot_width\":800,\"renderers\":[{\"id\":\"3763\",\"type\":\"GlyphRenderer\"},{\"id\":\"3776\",\"type\":\"GlyphRenderer\"},{\"id\":\"3781\",\"type\":\"GlyphRenderer\"},{\"id\":\"3797\",\"type\":\"GlyphRenderer\"},{\"id\":\"3802\",\"type\":\"GlyphRenderer\"},{\"id\":\"3822\",\"type\":\"GlyphRenderer\"}],\"title\":{\"id\":\"3727\",\"type\":\"Title\"},\"toolbar\":{\"id\":\"3753\",\"type\":\"Toolbar\"},\"x_range\":{\"id\":\"3729\",\"type\":\"DataRange1d\"},\"x_scale\":{\"id\":\"3733\",\"type\":\"LinearScale\"},\"y_range\":{\"id\":\"3731\",\"type\":\"DataRange1d\"},\"y_scale\":{\"id\":\"3735\",\"type\":\"LinearScale\"}},\"id\":\"3726\",\"subtype\":\"Figure\",\"type\":\"Plot\"},{\"attributes\":{\"items\":[{\"id\":\"3772\",\"type\":\"LegendItem\"},{\"id\":\"3793\",\"type\":\"LegendItem\"},{\"id\":\"3818\",\"type\":\"LegendItem\"}],\"location\":\"bottom_left\"},\"id\":\"3771\",\"type\":\"Legend\"},{\"attributes\":{\"callback\":null,\"tooltips\":\"                \\n        <div style=padding=5px>Year:@x</div>\\n        <div style=padding=5px>Value:@y</div>        \\n        \"},\"id\":\"3824\",\"type\":\"HoverTool\"},{\"attributes\":{\"text\":\"Vulnerable employment, total (% of total employment) (modeled ILO estimate) weighted against Population, total\"},\"id\":\"3727\",\"type\":\"Title\"},{\"attributes\":{\"data_source\":{\"id\":\"3778\",\"type\":\"ColumnDataSource\"},\"glyph\":{\"id\":\"3779\",\"type\":\"Line\"},\"hover_glyph\":null,\"muted_glyph\":null,\"nonselection_glyph\":{\"id\":\"3780\",\"type\":\"Line\"},\"selection_glyph\":null,\"view\":{\"id\":\"3782\",\"type\":\"CDSView\"}},\"id\":\"3781\",\"type\":\"GlyphRenderer\"},{\"attributes\":{\"source\":{\"id\":\"3799\",\"type\":\"ColumnDataSource\"}},\"id\":\"3803\",\"type\":\"CDSView\"},{\"attributes\":{\"label\":{\"value\":\"LDCs\"},\"renderers\":[{\"id\":\"3763\",\"type\":\"GlyphRenderer\"}]},\"id\":\"3772\",\"type\":\"LegendItem\"},{\"attributes\":{\"callback\":null},\"id\":\"3729\",\"type\":\"DataRange1d\"},{\"attributes\":{\"callback\":null,\"data\":{\"x\":[\"2000\",\"2001\",\"2002\",\"2003\",\"2004\",\"2005\",\"2006\",\"2007\",\"2008\",\"2009\",\"2010\",\"2011\",\"2012\",\"2013\",\"2014\",\"2015\",\"2016\",\"2017\"],\"y\":[76.55562066104517,76.37986864337054,76.20491185151087,76.0285482679487,75.82094785929357,75.61511952397093,75.32895405434937,75.01381997539303,74.69307298605345,74.43136697400037,74.07291940189262,73.61967067900957,73.18548775794076,72.8705406679276,72.58557928075658,72.42095588745232,72.24762664827033,71.97617982154789]},\"selected\":{\"id\":\"3792\",\"type\":\"Selection\"},\"selection_policy\":{\"id\":\"3791\",\"type\":\"UnionRenderers\"}},\"id\":\"3773\",\"type\":\"ColumnDataSource\"},{\"attributes\":{},\"id\":\"3814\",\"type\":\"UnionRenderers\"},{\"attributes\":{\"callback\":null},\"id\":\"3731\",\"type\":\"DataRange1d\"},{\"attributes\":{\"line_alpha\":0.1,\"line_color\":\"#1f77b4\",\"x\":{\"field\":\"x\"},\"y\":{\"field\":\"y\"}},\"id\":\"3780\",\"type\":\"Line\"},{\"attributes\":{},\"id\":\"3815\",\"type\":\"Selection\"},{\"attributes\":{},\"id\":\"3767\",\"type\":\"BasicTickFormatter\"},{\"attributes\":{},\"id\":\"3769\",\"type\":\"BasicTickFormatter\"},{\"attributes\":{\"line_color\":\"#2CC775\",\"x\":{\"field\":\"x\"},\"y\":{\"field\":\"y\"}},\"id\":\"3800\",\"type\":\"Line\"},{\"attributes\":{\"line_color\":\"#5430F1\",\"x\":{\"field\":\"x\"},\"y\":{\"field\":\"y\"}},\"id\":\"3779\",\"type\":\"Line\"},{\"attributes\":{\"line_alpha\":0.1,\"line_color\":\"#1f77b4\",\"x\":{\"field\":\"x\"},\"y\":{\"field\":\"y\"}},\"id\":\"3801\",\"type\":\"Line\"},{\"attributes\":{\"bottom_units\":\"screen\",\"fill_alpha\":{\"value\":0.5},\"fill_color\":{\"value\":\"lightgrey\"},\"left_units\":\"screen\",\"level\":\"overlay\",\"line_alpha\":{\"value\":1.0},\"line_color\":{\"value\":\"black\"},\"line_dash\":[4,4],\"line_width\":{\"value\":2},\"render_mode\":\"css\",\"right_units\":\"screen\",\"top_units\":\"screen\"},\"id\":\"3770\",\"type\":\"BoxAnnotation\"},{\"attributes\":{},\"id\":\"3750\",\"type\":\"SaveTool\"},{\"attributes\":{\"label\":{\"value\":\"OECD\"},\"renderers\":[{\"id\":\"3802\",\"type\":\"GlyphRenderer\"}]},\"id\":\"3818\",\"type\":\"LegendItem\"},{\"attributes\":{\"line_alpha\":0.1,\"line_color\":\"#1f77b4\",\"x\":{\"field\":\"x\"},\"y\":{\"field\":\"y\"}},\"id\":\"3762\",\"type\":\"Line\"},{\"attributes\":{\"data_source\":{\"id\":\"3799\",\"type\":\"ColumnDataSource\"},\"glyph\":{\"id\":\"3800\",\"type\":\"Line\"},\"hover_glyph\":null,\"muted_glyph\":null,\"nonselection_glyph\":{\"id\":\"3801\",\"type\":\"Line\"},\"selection_glyph\":null,\"view\":{\"id\":\"3803\",\"type\":\"CDSView\"}},\"id\":\"3802\",\"type\":\"GlyphRenderer\"},{\"attributes\":{},\"id\":\"4004\",\"type\":\"Selection\"},{\"attributes\":{\"callback\":null,\"data\":{\"x\":[\"2000\",\"2001\",\"2002\",\"2003\",\"2004\",\"2005\",\"2006\",\"2007\",\"2008\",\"2009\",\"2010\",\"2011\",\"2012\",\"2013\",\"2014\",\"2015\",\"2016\",\"2017\"],\"y\":[61.112907428435086,60.691447078218324,60.12378233908463,59.83958298619775,59.2886948540458,58.68715381695083,58.034486084007646,57.56646933138067,57.20233508484887,56.901675348262174,56.42641838827256,55.55841766390446,54.541716177965164,54.01071229168338,53.54334284165231,53.11197804583197,52.82467723653058,52.50722323269526]},\"selected\":{\"id\":\"3815\",\"type\":\"Selection\"},\"selection_policy\":{\"id\":\"3814\",\"type\":\"UnionRenderers\"}},\"id\":\"3778\",\"type\":\"ColumnDataSource\"},{\"attributes\":{\"data_source\":{\"id\":\"3794\",\"type\":\"ColumnDataSource\"},\"glyph\":{\"id\":\"3795\",\"type\":\"Circle\"},\"hover_glyph\":null,\"muted_glyph\":null,\"nonselection_glyph\":{\"id\":\"3796\",\"type\":\"Circle\"},\"selection_glyph\":null,\"view\":{\"id\":\"3798\",\"type\":\"CDSView\"}},\"id\":\"3797\",\"type\":\"GlyphRenderer\"},{\"attributes\":{\"callback\":null,\"data\":{\"x\":[\"2000\",\"2001\",\"2002\",\"2003\",\"2004\",\"2005\",\"2006\",\"2007\",\"2008\",\"2009\",\"2010\",\"2011\",\"2012\",\"2013\",\"2014\",\"2015\",\"2016\",\"2017\"],\"y\":[76.55562066104517,76.37986864337054,76.20491185151087,76.0285482679487,75.82094785929357,75.61511952397093,75.32895405434937,75.01381997539303,74.69307298605345,74.43136697400037,74.07291940189262,73.61967067900957,73.18548775794076,72.8705406679276,72.58557928075658,72.42095588745232,72.24762664827033,71.97617982154789]},\"selected\":{\"id\":\"3790\",\"type\":\"Selection\"},\"selection_policy\":{\"id\":\"3789\",\"type\":\"UnionRenderers\"}},\"id\":\"3760\",\"type\":\"ColumnDataSource\"},{\"attributes\":{},\"id\":\"4005\",\"type\":\"UnionRenderers\"},{\"attributes\":{\"source\":{\"id\":\"3760\",\"type\":\"ColumnDataSource\"}},\"id\":\"3764\",\"type\":\"CDSView\"},{\"attributes\":{\"source\":{\"id\":\"3794\",\"type\":\"ColumnDataSource\"}},\"id\":\"3798\",\"type\":\"CDSView\"},{\"attributes\":{\"data_source\":{\"id\":\"3760\",\"type\":\"ColumnDataSource\"},\"glyph\":{\"id\":\"3761\",\"type\":\"Line\"},\"hover_glyph\":null,\"muted_glyph\":null,\"nonselection_glyph\":{\"id\":\"3762\",\"type\":\"Line\"},\"selection_glyph\":null,\"view\":{\"id\":\"3764\",\"type\":\"CDSView\"}},\"id\":\"3763\",\"type\":\"GlyphRenderer\"},{\"attributes\":{},\"id\":\"3747\",\"type\":\"PanTool\"},{\"attributes\":{\"source\":{\"id\":\"3819\",\"type\":\"ColumnDataSource\"}},\"id\":\"3823\",\"type\":\"CDSView\"},{\"attributes\":{\"source\":{\"id\":\"3773\",\"type\":\"ColumnDataSource\"}},\"id\":\"3777\",\"type\":\"CDSView\"},{\"attributes\":{\"axis_label\":\"SL.EMP.VULN.ZS\",\"formatter\":{\"id\":\"3769\",\"type\":\"BasicTickFormatter\"},\"ticker\":{\"id\":\"3743\",\"type\":\"BasicTicker\"}},\"id\":\"3742\",\"type\":\"LinearAxis\"},{\"attributes\":{\"callback\":null,\"data\":{\"x\":[\"2000\",\"2001\",\"2002\",\"2003\",\"2004\",\"2005\",\"2006\",\"2007\",\"2008\",\"2009\",\"2010\",\"2011\",\"2012\",\"2013\",\"2014\",\"2015\",\"2016\",\"2017\"],\"y\":[15.103695797826978,15.131169027337517,14.956404858686836,14.940762682053347,14.834277780762966,14.355494539286878,13.756191814089059,13.46227561311569,13.185720820345873,13.311176143007764,13.205454041812168,13.11874289832326,13.014718113971039,12.888181456404036,12.723579196926023,12.524640395839814,12.37155664238607,12.249551314128]},\"selected\":{\"id\":\"4004\",\"type\":\"Selection\"},\"selection_policy\":{\"id\":\"4003\",\"type\":\"UnionRenderers\"}},\"id\":\"3799\",\"type\":\"ColumnDataSource\"},{\"attributes\":{},\"id\":\"4006\",\"type\":\"Selection\"},{\"attributes\":{},\"id\":\"3743\",\"type\":\"BasicTicker\"},{\"attributes\":{\"callback\":null,\"data\":{\"x\":[\"2000\",\"2001\",\"2002\",\"2003\",\"2004\",\"2005\",\"2006\",\"2007\",\"2008\",\"2009\",\"2010\",\"2011\",\"2012\",\"2013\",\"2014\",\"2015\",\"2016\",\"2017\"],\"y\":[61.112907428435086,60.691447078218324,60.12378233908463,59.83958298619775,59.2886948540458,58.68715381695083,58.034486084007646,57.56646933138067,57.20233508484887,56.901675348262174,56.42641838827256,55.55841766390446,54.541716177965164,54.01071229168338,53.54334284165231,53.11197804583197,52.82467723653058,52.50722323269526]},\"selected\":{\"id\":\"3817\",\"type\":\"Selection\"},\"selection_policy\":{\"id\":\"3816\",\"type\":\"UnionRenderers\"}},\"id\":\"3794\",\"type\":\"ColumnDataSource\"},{\"attributes\":{},\"id\":\"3751\",\"type\":\"ResetTool\"},{\"attributes\":{\"data_source\":{\"id\":\"3773\",\"type\":\"ColumnDataSource\"},\"glyph\":{\"id\":\"3774\",\"type\":\"Circle\"},\"hover_glyph\":null,\"muted_glyph\":null,\"nonselection_glyph\":{\"id\":\"3775\",\"type\":\"Circle\"},\"selection_glyph\":null,\"view\":{\"id\":\"3777\",\"type\":\"CDSView\"}},\"id\":\"3776\",\"type\":\"GlyphRenderer\"},{\"attributes\":{\"dimension\":1,\"grid_line_alpha\":0.5,\"ticker\":{\"id\":\"3743\",\"type\":\"BasicTicker\"}},\"id\":\"3746\",\"type\":\"Grid\"},{\"attributes\":{\"fill_color\":{\"value\":\"#5430F1\"},\"line_color\":{\"value\":\"#5430F1\"},\"line_width\":{\"value\":3},\"x\":{\"field\":\"x\"},\"y\":{\"field\":\"y\"}},\"id\":\"3795\",\"type\":\"Circle\"},{\"attributes\":{},\"id\":\"3752\",\"type\":\"HelpTool\"},{\"attributes\":{\"fill_color\":{\"value\":\"#2CC775\"},\"line_color\":{\"value\":\"#2CC775\"},\"line_width\":{\"value\":3},\"x\":{\"field\":\"x\"},\"y\":{\"field\":\"y\"}},\"id\":\"3820\",\"type\":\"Circle\"},{\"attributes\":{\"fill_alpha\":{\"value\":0.1},\"fill_color\":{\"value\":\"#1f77b4\"},\"line_alpha\":{\"value\":0.1},\"line_color\":{\"value\":\"#1f77b4\"},\"line_width\":{\"value\":3},\"x\":{\"field\":\"x\"},\"y\":{\"field\":\"y\"}},\"id\":\"3796\",\"type\":\"Circle\"},{\"attributes\":{\"callback\":null,\"data\":{\"x\":[\"2000\",\"2001\",\"2002\",\"2003\",\"2004\",\"2005\",\"2006\",\"2007\",\"2008\",\"2009\",\"2010\",\"2011\",\"2012\",\"2013\",\"2014\",\"2015\",\"2016\",\"2017\"],\"y\":[15.103695797826978,15.131169027337517,14.956404858686836,14.940762682053347,14.834277780762966,14.355494539286878,13.756191814089059,13.46227561311569,13.185720820345873,13.311176143007764,13.205454041812168,13.11874289832326,13.014718113971039,12.888181456404036,12.723579196926023,12.524640395839814,12.37155664238607,12.249551314128]},\"selected\":{\"id\":\"4006\",\"type\":\"Selection\"},\"selection_policy\":{\"id\":\"4005\",\"type\":\"UnionRenderers\"}},\"id\":\"3819\",\"type\":\"ColumnDataSource\"},{\"attributes\":{\"active_drag\":\"auto\",\"active_inspect\":\"auto\",\"active_multi\":null,\"active_scroll\":\"auto\",\"active_tap\":\"auto\",\"tools\":[{\"id\":\"3747\",\"type\":\"PanTool\"},{\"id\":\"3748\",\"type\":\"WheelZoomTool\"},{\"id\":\"3749\",\"type\":\"BoxZoomTool\"},{\"id\":\"3750\",\"type\":\"SaveTool\"},{\"id\":\"3751\",\"type\":\"ResetTool\"},{\"id\":\"3752\",\"type\":\"HelpTool\"},{\"id\":\"3824\",\"type\":\"HoverTool\"}]},\"id\":\"3753\",\"type\":\"Toolbar\"},{\"attributes\":{},\"id\":\"3790\",\"type\":\"Selection\"},{\"attributes\":{},\"id\":\"3738\",\"type\":\"BasicTicker\"},{\"attributes\":{\"line_color\":\"#FA1857\",\"x\":{\"field\":\"x\"},\"y\":{\"field\":\"y\"}},\"id\":\"3761\",\"type\":\"Line\"},{\"attributes\":{\"fill_alpha\":{\"value\":0.1},\"fill_color\":{\"value\":\"#1f77b4\"},\"line_alpha\":{\"value\":0.1},\"line_color\":{\"value\":\"#1f77b4\"},\"line_width\":{\"value\":3},\"x\":{\"field\":\"x\"},\"y\":{\"field\":\"y\"}},\"id\":\"3775\",\"type\":\"Circle\"},{\"attributes\":{},\"id\":\"3791\",\"type\":\"UnionRenderers\"},{\"attributes\":{},\"id\":\"4003\",\"type\":\"UnionRenderers\"},{\"attributes\":{},\"id\":\"3748\",\"type\":\"WheelZoomTool\"},{\"attributes\":{\"grid_line_color\":null,\"ticker\":{\"id\":\"3738\",\"type\":\"BasicTicker\"}},\"id\":\"3741\",\"type\":\"Grid\"},{\"attributes\":{\"fill_alpha\":{\"value\":0.1},\"fill_color\":{\"value\":\"#1f77b4\"},\"line_alpha\":{\"value\":0.1},\"line_color\":{\"value\":\"#1f77b4\"},\"line_width\":{\"value\":3},\"x\":{\"field\":\"x\"},\"y\":{\"field\":\"y\"}},\"id\":\"3821\",\"type\":\"Circle\"},{\"attributes\":{\"overlay\":{\"id\":\"3770\",\"type\":\"BoxAnnotation\"}},\"id\":\"3749\",\"type\":\"BoxZoomTool\"},{\"attributes\":{},\"id\":\"3792\",\"type\":\"Selection\"},{\"attributes\":{\"fill_color\":{\"value\":\"#FA1857\"},\"line_color\":{\"value\":\"#FA1857\"},\"line_width\":{\"value\":3},\"x\":{\"field\":\"x\"},\"y\":{\"field\":\"y\"}},\"id\":\"3774\",\"type\":\"Circle\"},{\"attributes\":{\"data_source\":{\"id\":\"3819\",\"type\":\"ColumnDataSource\"},\"glyph\":{\"id\":\"3820\",\"type\":\"Circle\"},\"hover_glyph\":null,\"muted_glyph\":null,\"nonselection_glyph\":{\"id\":\"3821\",\"type\":\"Circle\"},\"selection_glyph\":null,\"view\":{\"id\":\"3823\",\"type\":\"CDSView\"}},\"id\":\"3822\",\"type\":\"GlyphRenderer\"},{\"attributes\":{\"label\":{\"value\":\"Developing excluding LDCs\"},\"renderers\":[{\"id\":\"3781\",\"type\":\"GlyphRenderer\"}]},\"id\":\"3793\",\"type\":\"LegendItem\"},{\"attributes\":{},\"id\":\"3733\",\"type\":\"LinearScale\"},{\"attributes\":{},\"id\":\"3816\",\"type\":\"UnionRenderers\"},{\"attributes\":{\"source\":{\"id\":\"3778\",\"type\":\"ColumnDataSource\"}},\"id\":\"3782\",\"type\":\"CDSView\"},{\"attributes\":{},\"id\":\"3735\",\"type\":\"LinearScale\"},{\"attributes\":{},\"id\":\"3817\",\"type\":\"Selection\"},{\"attributes\":{},\"id\":\"3789\",\"type\":\"UnionRenderers\"},{\"attributes\":{\"axis_label\":\"Years\",\"formatter\":{\"id\":\"3767\",\"type\":\"BasicTickFormatter\"},\"ticker\":{\"id\":\"3738\",\"type\":\"BasicTicker\"}},\"id\":\"3737\",\"type\":\"LinearAxis\"}],\"root_ids\":[\"3726\"]},\"title\":\"Bokeh Application\",\"version\":\"1.3.4\"}};\n",
       "  var render_items = [{\"docid\":\"ecea76eb-60f6-43a0-9d9e-d1c2fc873902\",\"roots\":{\"3726\":\"3990f33f-63d5-461a-b8c3-d1327078bf36\"}}];\n",
       "  root.Bokeh.embed.embed_items_notebook(docs_json, render_items);\n",
       "\n",
       "  }\n",
       "  if (root.Bokeh !== undefined) {\n",
       "    embed_document(root);\n",
       "  } else {\n",
       "    var attempts = 0;\n",
       "    var timer = setInterval(function(root) {\n",
       "      if (root.Bokeh !== undefined) {\n",
       "        embed_document(root);\n",
       "        clearInterval(timer);\n",
       "      }\n",
       "      attempts++;\n",
       "      if (attempts > 100) {\n",
       "        console.log(\"Bokeh: ERROR: Unable to run BokehJS code because BokehJS library is missing\");\n",
       "        clearInterval(timer);\n",
       "      }\n",
       "    }, 10, root)\n",
       "  }\n",
       "})(window);"
      ],
      "application/vnd.bokehjs_exec.v0+json": ""
     },
     "metadata": {
      "application/vnd.bokehjs_exec.v0+json": {
       "id": "3726"
      }
     },
     "output_type": "display_data"
    }
   ],
   "source": [
    "# Vulnerable employment\n",
    "years = list(map(str, list(range(2000,2018))))\n",
    "result = show_weighted_average(years, 'SL.EMP.VULN.ZS', 'SP.POP.TOTL', \n",
    "                               ['LDCs', 'Developing excluding LDCs', 'OECD'])"
   ]
  },
  {
   "cell_type": "code",
   "execution_count": 16,
   "metadata": {
    "ExecuteTime": {
     "end_time": "2019-10-25T14:25:14.112300Z",
     "start_time": "2019-10-25T14:25:08.899437Z"
    },
    "slideshow": {
     "slide_type": "slide"
    }
   },
   "outputs": [
    {
     "data": {
      "text/html": [
       "\n",
       "\n",
       "\n",
       "\n",
       "\n",
       "\n",
       "  <div class=\"bk-root\" id=\"2881d767-c89a-4ce4-9c9d-a0855d13d5ff\" data-root-id=\"4115\"></div>\n"
      ]
     },
     "metadata": {},
     "output_type": "display_data"
    },
    {
     "data": {
      "application/javascript": [
       "(function(root) {\n",
       "  function embed_document(root) {\n",
       "    \n",
       "  var docs_json = {\"a5b2bca3-ce93-4266-8299-39389d685e92\":{\"roots\":{\"references\":[{\"attributes\":{\"below\":[{\"id\":\"4126\",\"type\":\"LinearAxis\"}],\"center\":[{\"id\":\"4130\",\"type\":\"Grid\"},{\"id\":\"4135\",\"type\":\"Grid\"},{\"id\":\"4160\",\"type\":\"Legend\"}],\"left\":[{\"id\":\"4131\",\"type\":\"LinearAxis\"}],\"plot_height\":400,\"plot_width\":800,\"renderers\":[{\"id\":\"4152\",\"type\":\"GlyphRenderer\"},{\"id\":\"4165\",\"type\":\"GlyphRenderer\"},{\"id\":\"4170\",\"type\":\"GlyphRenderer\"},{\"id\":\"4186\",\"type\":\"GlyphRenderer\"},{\"id\":\"4191\",\"type\":\"GlyphRenderer\"},{\"id\":\"4211\",\"type\":\"GlyphRenderer\"}],\"title\":{\"id\":\"4116\",\"type\":\"Title\"},\"toolbar\":{\"id\":\"4142\",\"type\":\"Toolbar\"},\"x_range\":{\"id\":\"4118\",\"type\":\"DataRange1d\"},\"x_scale\":{\"id\":\"4122\",\"type\":\"LinearScale\"},\"y_range\":{\"id\":\"4120\",\"type\":\"DataRange1d\"},\"y_scale\":{\"id\":\"4124\",\"type\":\"LinearScale\"}},\"id\":\"4115\",\"subtype\":\"Figure\",\"type\":\"Plot\"},{\"attributes\":{\"items\":[{\"id\":\"4161\",\"type\":\"LegendItem\"},{\"id\":\"4182\",\"type\":\"LegendItem\"},{\"id\":\"4207\",\"type\":\"LegendItem\"}],\"location\":\"bottom_left\"},\"id\":\"4160\",\"type\":\"Legend\"},{\"attributes\":{},\"id\":\"4203\",\"type\":\"UnionRenderers\"},{\"attributes\":{\"fill_alpha\":{\"value\":0.1},\"fill_color\":{\"value\":\"#1f77b4\"},\"line_alpha\":{\"value\":0.1},\"line_color\":{\"value\":\"#1f77b4\"},\"line_width\":{\"value\":3},\"x\":{\"field\":\"x\"},\"y\":{\"field\":\"y\"}},\"id\":\"4164\",\"type\":\"Circle\"},{\"attributes\":{},\"id\":\"4179\",\"type\":\"Selection\"},{\"attributes\":{},\"id\":\"4410\",\"type\":\"UnionRenderers\"},{\"attributes\":{\"label\":{\"value\":\"Developing excluding LDCs\"},\"renderers\":[{\"id\":\"4170\",\"type\":\"GlyphRenderer\"}]},\"id\":\"4182\",\"type\":\"LegendItem\"},{\"attributes\":{\"overlay\":{\"id\":\"4159\",\"type\":\"BoxAnnotation\"}},\"id\":\"4138\",\"type\":\"BoxZoomTool\"},{\"attributes\":{\"label\":{\"value\":\"OECD\"},\"renderers\":[{\"id\":\"4191\",\"type\":\"GlyphRenderer\"}]},\"id\":\"4207\",\"type\":\"LegendItem\"},{\"attributes\":{\"data_source\":{\"id\":\"4183\",\"type\":\"ColumnDataSource\"},\"glyph\":{\"id\":\"4184\",\"type\":\"Circle\"},\"hover_glyph\":null,\"muted_glyph\":null,\"nonselection_glyph\":{\"id\":\"4185\",\"type\":\"Circle\"},\"selection_glyph\":null,\"view\":{\"id\":\"4187\",\"type\":\"CDSView\"}},\"id\":\"4186\",\"type\":\"GlyphRenderer\"},{\"attributes\":{\"line_color\":\"#FA1857\",\"x\":{\"field\":\"x\"},\"y\":{\"field\":\"y\"}},\"id\":\"4150\",\"type\":\"Line\"},{\"attributes\":{},\"id\":\"4411\",\"type\":\"Selection\"},{\"attributes\":{},\"id\":\"4181\",\"type\":\"Selection\"},{\"attributes\":{\"line_alpha\":0.1,\"line_color\":\"#1f77b4\",\"x\":{\"field\":\"x\"},\"y\":{\"field\":\"y\"}},\"id\":\"4190\",\"type\":\"Line\"},{\"attributes\":{\"callback\":null,\"data\":{\"x\":[\"2000\",\"2001\",\"2002\",\"2003\",\"2004\",\"2005\",\"2006\",\"2007\",\"2008\",\"2009\",\"2010\",\"2011\",\"2012\",\"2013\",\"2014\",\"2015\",\"2016\",\"2017\"],\"y\":[84.67570947351659,84.54845719460349,84.41534021529151,84.25521506724928,84.12032093981615,83.97106596987518,83.68867661570852,83.77709620056729,83.84020087096158,83.93173050952733,83.8920683978044,83.35726364980452,82.7838732457836,82.3227983282936,81.7453445606311,81.28405232986904,80.80378155261585,80.23067519381057]},\"selected\":{\"id\":\"4181\",\"type\":\"Selection\"},\"selection_policy\":{\"id\":\"4180\",\"type\":\"UnionRenderers\"}},\"id\":\"4162\",\"type\":\"ColumnDataSource\"},{\"attributes\":{\"fill_color\":{\"value\":\"#FA1857\"},\"line_color\":{\"value\":\"#FA1857\"},\"line_width\":{\"value\":3},\"x\":{\"field\":\"x\"},\"y\":{\"field\":\"y\"}},\"id\":\"4163\",\"type\":\"Circle\"},{\"attributes\":{\"fill_color\":{\"value\":\"#5430F1\"},\"line_color\":{\"value\":\"#5430F1\"},\"line_width\":{\"value\":3},\"x\":{\"field\":\"x\"},\"y\":{\"field\":\"y\"}},\"id\":\"4184\",\"type\":\"Circle\"},{\"attributes\":{\"data_source\":{\"id\":\"4188\",\"type\":\"ColumnDataSource\"},\"glyph\":{\"id\":\"4189\",\"type\":\"Line\"},\"hover_glyph\":null,\"muted_glyph\":null,\"nonselection_glyph\":{\"id\":\"4190\",\"type\":\"Line\"},\"selection_glyph\":null,\"view\":{\"id\":\"4192\",\"type\":\"CDSView\"}},\"id\":\"4191\",\"type\":\"GlyphRenderer\"},{\"attributes\":{\"callback\":null,\"data\":{\"x\":[\"2000\",\"2001\",\"2002\",\"2003\",\"2004\",\"2005\",\"2006\",\"2007\",\"2008\",\"2009\",\"2010\",\"2011\",\"2012\",\"2013\",\"2014\",\"2015\",\"2016\",\"2017\"],\"y\":[84.67570947351659,84.54845719460349,84.41534021529151,84.25521506724928,84.12032093981615,83.97106596987518,83.68867661570852,83.77709620056729,83.84020087096158,83.93173050952733,83.8920683978044,83.35726364980452,82.7838732457836,82.3227983282936,81.7453445606311,81.28405232986904,80.80378155261585,80.23067519381057]},\"selected\":{\"id\":\"4179\",\"type\":\"Selection\"},\"selection_policy\":{\"id\":\"4178\",\"type\":\"UnionRenderers\"}},\"id\":\"4149\",\"type\":\"ColumnDataSource\"},{\"attributes\":{},\"id\":\"4156\",\"type\":\"BasicTickFormatter\"},{\"attributes\":{\"callback\":null,\"tooltips\":\"                \\n        <div style=padding=5px>Year:@x</div>\\n        <div style=padding=5px>Value:@y</div>        \\n        \"},\"id\":\"4213\",\"type\":\"HoverTool\"},{\"attributes\":{\"source\":{\"id\":\"4162\",\"type\":\"ColumnDataSource\"}},\"id\":\"4166\",\"type\":\"CDSView\"},{\"attributes\":{\"callback\":null},\"id\":\"4118\",\"type\":\"DataRange1d\"},{\"attributes\":{\"source\":{\"id\":\"4188\",\"type\":\"ColumnDataSource\"}},\"id\":\"4192\",\"type\":\"CDSView\"},{\"attributes\":{\"source\":{\"id\":\"4208\",\"type\":\"ColumnDataSource\"}},\"id\":\"4212\",\"type\":\"CDSView\"},{\"attributes\":{},\"id\":\"4180\",\"type\":\"UnionRenderers\"},{\"attributes\":{},\"id\":\"4141\",\"type\":\"HelpTool\"},{\"attributes\":{\"callback\":null,\"data\":{\"x\":[\"2000\",\"2001\",\"2002\",\"2003\",\"2004\",\"2005\",\"2006\",\"2007\",\"2008\",\"2009\",\"2010\",\"2011\",\"2012\",\"2013\",\"2014\",\"2015\",\"2016\",\"2017\"],\"y\":[65.39692668505631,64.96919616793897,64.2505725082179,63.79870336954884,63.21897556155796,62.36083024839076,61.600784397619954,60.977719388475336,60.33881045385905,59.7742461753223,59.09696605173391,57.96713437952283,56.63962670853221,56.007047740270906,55.416368528487254,54.98638981382023,54.60991636925909,54.26255432591824]},\"selected\":{\"id\":\"4204\",\"type\":\"Selection\"},\"selection_policy\":{\"id\":\"4203\",\"type\":\"UnionRenderers\"}},\"id\":\"4167\",\"type\":\"ColumnDataSource\"},{\"attributes\":{\"fill_alpha\":{\"value\":0.1},\"fill_color\":{\"value\":\"#1f77b4\"},\"line_alpha\":{\"value\":0.1},\"line_color\":{\"value\":\"#1f77b4\"},\"line_width\":{\"value\":3},\"x\":{\"field\":\"x\"},\"y\":{\"field\":\"y\"}},\"id\":\"4185\",\"type\":\"Circle\"},{\"attributes\":{},\"id\":\"4132\",\"type\":\"BasicTicker\"},{\"attributes\":{\"callback\":null},\"id\":\"4120\",\"type\":\"DataRange1d\"},{\"attributes\":{\"data_source\":{\"id\":\"4167\",\"type\":\"ColumnDataSource\"},\"glyph\":{\"id\":\"4168\",\"type\":\"Line\"},\"hover_glyph\":null,\"muted_glyph\":null,\"nonselection_glyph\":{\"id\":\"4169\",\"type\":\"Line\"},\"selection_glyph\":null,\"view\":{\"id\":\"4171\",\"type\":\"CDSView\"}},\"id\":\"4170\",\"type\":\"GlyphRenderer\"},{\"attributes\":{\"callback\":null,\"data\":{\"x\":[\"2000\",\"2001\",\"2002\",\"2003\",\"2004\",\"2005\",\"2006\",\"2007\",\"2008\",\"2009\",\"2010\",\"2011\",\"2012\",\"2013\",\"2014\",\"2015\",\"2016\",\"2017\"],\"y\":[14.48536902485712,14.493511769829844,14.191813316333826,13.993763075972725,13.83147018503385,13.370962271652207,12.80581092501148,12.566340934456548,12.298027267203656,12.373333284001852,12.307219209624574,12.287989367669757,12.15311900334881,11.971961077598174,11.744068220445252,11.58624004783634,11.401146754618209,11.2798928194068]},\"selected\":{\"id\":\"4411\",\"type\":\"Selection\"},\"selection_policy\":{\"id\":\"4410\",\"type\":\"UnionRenderers\"}},\"id\":\"4188\",\"type\":\"ColumnDataSource\"},{\"attributes\":{},\"id\":\"4137\",\"type\":\"WheelZoomTool\"},{\"attributes\":{},\"id\":\"4139\",\"type\":\"SaveTool\"},{\"attributes\":{\"data_source\":{\"id\":\"4208\",\"type\":\"ColumnDataSource\"},\"glyph\":{\"id\":\"4209\",\"type\":\"Circle\"},\"hover_glyph\":null,\"muted_glyph\":null,\"nonselection_glyph\":{\"id\":\"4210\",\"type\":\"Circle\"},\"selection_glyph\":null,\"view\":{\"id\":\"4212\",\"type\":\"CDSView\"}},\"id\":\"4211\",\"type\":\"GlyphRenderer\"},{\"attributes\":{},\"id\":\"4127\",\"type\":\"BasicTicker\"},{\"attributes\":{\"source\":{\"id\":\"4149\",\"type\":\"ColumnDataSource\"}},\"id\":\"4153\",\"type\":\"CDSView\"},{\"attributes\":{\"line_alpha\":0.1,\"line_color\":\"#1f77b4\",\"x\":{\"field\":\"x\"},\"y\":{\"field\":\"y\"}},\"id\":\"4151\",\"type\":\"Line\"},{\"attributes\":{\"axis_label\":\"Years\",\"formatter\":{\"id\":\"4156\",\"type\":\"BasicTickFormatter\"},\"ticker\":{\"id\":\"4127\",\"type\":\"BasicTicker\"}},\"id\":\"4126\",\"type\":\"LinearAxis\"},{\"attributes\":{\"line_color\":\"#2CC775\",\"x\":{\"field\":\"x\"},\"y\":{\"field\":\"y\"}},\"id\":\"4189\",\"type\":\"Line\"},{\"attributes\":{\"text\":\"Vulnerable employment, female (% of female employment) (modeled ILO estimate) weighted against Labor force, total\"},\"id\":\"4116\",\"type\":\"Title\"},{\"attributes\":{},\"id\":\"4178\",\"type\":\"UnionRenderers\"},{\"attributes\":{\"line_alpha\":0.1,\"line_color\":\"#1f77b4\",\"x\":{\"field\":\"x\"},\"y\":{\"field\":\"y\"}},\"id\":\"4169\",\"type\":\"Line\"},{\"attributes\":{},\"id\":\"4412\",\"type\":\"UnionRenderers\"},{\"attributes\":{\"data_source\":{\"id\":\"4162\",\"type\":\"ColumnDataSource\"},\"glyph\":{\"id\":\"4163\",\"type\":\"Circle\"},\"hover_glyph\":null,\"muted_glyph\":null,\"nonselection_glyph\":{\"id\":\"4164\",\"type\":\"Circle\"},\"selection_glyph\":null,\"view\":{\"id\":\"4166\",\"type\":\"CDSView\"}},\"id\":\"4165\",\"type\":\"GlyphRenderer\"},{\"attributes\":{\"active_drag\":\"auto\",\"active_inspect\":\"auto\",\"active_multi\":null,\"active_scroll\":\"auto\",\"active_tap\":\"auto\",\"tools\":[{\"id\":\"4136\",\"type\":\"PanTool\"},{\"id\":\"4137\",\"type\":\"WheelZoomTool\"},{\"id\":\"4138\",\"type\":\"BoxZoomTool\"},{\"id\":\"4139\",\"type\":\"SaveTool\"},{\"id\":\"4140\",\"type\":\"ResetTool\"},{\"id\":\"4141\",\"type\":\"HelpTool\"},{\"id\":\"4213\",\"type\":\"HoverTool\"}]},\"id\":\"4142\",\"type\":\"Toolbar\"},{\"attributes\":{\"fill_color\":{\"value\":\"#2CC775\"},\"line_color\":{\"value\":\"#2CC775\"},\"line_width\":{\"value\":3},\"x\":{\"field\":\"x\"},\"y\":{\"field\":\"y\"}},\"id\":\"4209\",\"type\":\"Circle\"},{\"attributes\":{\"data_source\":{\"id\":\"4149\",\"type\":\"ColumnDataSource\"},\"glyph\":{\"id\":\"4150\",\"type\":\"Line\"},\"hover_glyph\":null,\"muted_glyph\":null,\"nonselection_glyph\":{\"id\":\"4151\",\"type\":\"Line\"},\"selection_glyph\":null,\"view\":{\"id\":\"4153\",\"type\":\"CDSView\"}},\"id\":\"4152\",\"type\":\"GlyphRenderer\"},{\"attributes\":{\"label\":{\"value\":\"LDCs\"},\"renderers\":[{\"id\":\"4152\",\"type\":\"GlyphRenderer\"}]},\"id\":\"4161\",\"type\":\"LegendItem\"},{\"attributes\":{},\"id\":\"4205\",\"type\":\"UnionRenderers\"},{\"attributes\":{},\"id\":\"4206\",\"type\":\"Selection\"},{\"attributes\":{},\"id\":\"4124\",\"type\":\"LinearScale\"},{\"attributes\":{\"dimension\":1,\"grid_line_alpha\":0.5,\"ticker\":{\"id\":\"4132\",\"type\":\"BasicTicker\"}},\"id\":\"4135\",\"type\":\"Grid\"},{\"attributes\":{\"fill_alpha\":{\"value\":0.1},\"fill_color\":{\"value\":\"#1f77b4\"},\"line_alpha\":{\"value\":0.1},\"line_color\":{\"value\":\"#1f77b4\"},\"line_width\":{\"value\":3},\"x\":{\"field\":\"x\"},\"y\":{\"field\":\"y\"}},\"id\":\"4210\",\"type\":\"Circle\"},{\"attributes\":{\"grid_line_color\":null,\"ticker\":{\"id\":\"4127\",\"type\":\"BasicTicker\"}},\"id\":\"4130\",\"type\":\"Grid\"},{\"attributes\":{\"line_color\":\"#5430F1\",\"x\":{\"field\":\"x\"},\"y\":{\"field\":\"y\"}},\"id\":\"4168\",\"type\":\"Line\"},{\"attributes\":{\"callback\":null,\"data\":{\"x\":[\"2000\",\"2001\",\"2002\",\"2003\",\"2004\",\"2005\",\"2006\",\"2007\",\"2008\",\"2009\",\"2010\",\"2011\",\"2012\",\"2013\",\"2014\",\"2015\",\"2016\",\"2017\"],\"y\":[14.48536902485712,14.493511769829844,14.191813316333826,13.993763075972725,13.83147018503385,13.370962271652207,12.80581092501148,12.566340934456548,12.298027267203656,12.373333284001852,12.307219209624574,12.287989367669757,12.15311900334881,11.971961077598174,11.744068220445252,11.58624004783634,11.401146754618209,11.2798928194068]},\"selected\":{\"id\":\"4413\",\"type\":\"Selection\"},\"selection_policy\":{\"id\":\"4412\",\"type\":\"UnionRenderers\"}},\"id\":\"4208\",\"type\":\"ColumnDataSource\"},{\"attributes\":{},\"id\":\"4122\",\"type\":\"LinearScale\"},{\"attributes\":{},\"id\":\"4136\",\"type\":\"PanTool\"},{\"attributes\":{\"callback\":null,\"data\":{\"x\":[\"2000\",\"2001\",\"2002\",\"2003\",\"2004\",\"2005\",\"2006\",\"2007\",\"2008\",\"2009\",\"2010\",\"2011\",\"2012\",\"2013\",\"2014\",\"2015\",\"2016\",\"2017\"],\"y\":[65.39692668505631,64.96919616793897,64.2505725082179,63.79870336954884,63.21897556155796,62.36083024839076,61.600784397619954,60.977719388475336,60.33881045385905,59.7742461753223,59.09696605173391,57.96713437952283,56.63962670853221,56.007047740270906,55.416368528487254,54.98638981382023,54.60991636925909,54.26255432591824]},\"selected\":{\"id\":\"4206\",\"type\":\"Selection\"},\"selection_policy\":{\"id\":\"4205\",\"type\":\"UnionRenderers\"}},\"id\":\"4183\",\"type\":\"ColumnDataSource\"},{\"attributes\":{},\"id\":\"4413\",\"type\":\"Selection\"},{\"attributes\":{},\"id\":\"4140\",\"type\":\"ResetTool\"},{\"attributes\":{},\"id\":\"4158\",\"type\":\"BasicTickFormatter\"},{\"attributes\":{\"bottom_units\":\"screen\",\"fill_alpha\":{\"value\":0.5},\"fill_color\":{\"value\":\"lightgrey\"},\"left_units\":\"screen\",\"level\":\"overlay\",\"line_alpha\":{\"value\":1.0},\"line_color\":{\"value\":\"black\"},\"line_dash\":[4,4],\"line_width\":{\"value\":2},\"render_mode\":\"css\",\"right_units\":\"screen\",\"top_units\":\"screen\"},\"id\":\"4159\",\"type\":\"BoxAnnotation\"},{\"attributes\":{\"axis_label\":\"SL.EMP.VULN.FE.ZS\",\"formatter\":{\"id\":\"4158\",\"type\":\"BasicTickFormatter\"},\"ticker\":{\"id\":\"4132\",\"type\":\"BasicTicker\"}},\"id\":\"4131\",\"type\":\"LinearAxis\"},{\"attributes\":{\"source\":{\"id\":\"4167\",\"type\":\"ColumnDataSource\"}},\"id\":\"4171\",\"type\":\"CDSView\"},{\"attributes\":{\"source\":{\"id\":\"4183\",\"type\":\"ColumnDataSource\"}},\"id\":\"4187\",\"type\":\"CDSView\"},{\"attributes\":{},\"id\":\"4204\",\"type\":\"Selection\"}],\"root_ids\":[\"4115\"]},\"title\":\"Bokeh Application\",\"version\":\"1.3.4\"}};\n",
       "  var render_items = [{\"docid\":\"a5b2bca3-ce93-4266-8299-39389d685e92\",\"roots\":{\"4115\":\"2881d767-c89a-4ce4-9c9d-a0855d13d5ff\"}}];\n",
       "  root.Bokeh.embed.embed_items_notebook(docs_json, render_items);\n",
       "\n",
       "  }\n",
       "  if (root.Bokeh !== undefined) {\n",
       "    embed_document(root);\n",
       "  } else {\n",
       "    var attempts = 0;\n",
       "    var timer = setInterval(function(root) {\n",
       "      if (root.Bokeh !== undefined) {\n",
       "        embed_document(root);\n",
       "        clearInterval(timer);\n",
       "      }\n",
       "      attempts++;\n",
       "      if (attempts > 100) {\n",
       "        console.log(\"Bokeh: ERROR: Unable to run BokehJS code because BokehJS library is missing\");\n",
       "        clearInterval(timer);\n",
       "      }\n",
       "    }, 10, root)\n",
       "  }\n",
       "})(window);"
      ],
      "application/vnd.bokehjs_exec.v0+json": ""
     },
     "metadata": {
      "application/vnd.bokehjs_exec.v0+json": {
       "id": "4115"
      }
     },
     "output_type": "display_data"
    }
   ],
   "source": [
    "# Female vulnerable employment\n",
    "years = list(map(str, list(range(2000,2018))))\n",
    "result = show_weighted_average(years, 'SL.EMP.VULN.FE.ZS', 'SL.TLF.TOTL.IN', \n",
    "                               ['LDCs', 'Developing excluding LDCs', 'OECD'])"
   ]
  },
  {
   "cell_type": "code",
   "execution_count": 17,
   "metadata": {
    "ExecuteTime": {
     "end_time": "2019-10-25T14:25:19.414594Z",
     "start_time": "2019-10-25T14:25:14.115306Z"
    },
    "slideshow": {
     "slide_type": "slide"
    }
   },
   "outputs": [
    {
     "data": {
      "text/html": [
       "\n",
       "\n",
       "\n",
       "\n",
       "\n",
       "\n",
       "  <div class=\"bk-root\" id=\"c4e12438-ddd7-4632-8b23-5f052ec13caf\" data-root-id=\"4522\"></div>\n"
      ]
     },
     "metadata": {},
     "output_type": "display_data"
    },
    {
     "data": {
      "application/javascript": [
       "(function(root) {\n",
       "  function embed_document(root) {\n",
       "    \n",
       "  var docs_json = {\"0da725e4-bf9a-42f9-aedc-3d7aa49091d6\":{\"roots\":{\"references\":[{\"attributes\":{\"below\":[{\"id\":\"4533\",\"type\":\"LinearAxis\"}],\"center\":[{\"id\":\"4537\",\"type\":\"Grid\"},{\"id\":\"4542\",\"type\":\"Grid\"},{\"id\":\"4567\",\"type\":\"Legend\"}],\"left\":[{\"id\":\"4538\",\"type\":\"LinearAxis\"}],\"plot_height\":400,\"plot_width\":800,\"renderers\":[{\"id\":\"4559\",\"type\":\"GlyphRenderer\"},{\"id\":\"4572\",\"type\":\"GlyphRenderer\"},{\"id\":\"4577\",\"type\":\"GlyphRenderer\"},{\"id\":\"4593\",\"type\":\"GlyphRenderer\"},{\"id\":\"4598\",\"type\":\"GlyphRenderer\"},{\"id\":\"4618\",\"type\":\"GlyphRenderer\"}],\"title\":{\"id\":\"4523\",\"type\":\"Title\"},\"toolbar\":{\"id\":\"4549\",\"type\":\"Toolbar\"},\"x_range\":{\"id\":\"4525\",\"type\":\"DataRange1d\"},\"x_scale\":{\"id\":\"4529\",\"type\":\"LinearScale\"},\"y_range\":{\"id\":\"4527\",\"type\":\"DataRange1d\"},\"y_scale\":{\"id\":\"4531\",\"type\":\"LinearScale\"}},\"id\":\"4522\",\"subtype\":\"Figure\",\"type\":\"Plot\"},{\"attributes\":{\"callback\":null,\"data\":{\"x\":[\"2000\",\"2001\",\"2002\",\"2003\",\"2004\",\"2005\",\"2006\",\"2007\",\"2008\",\"2009\",\"2010\",\"2011\",\"2012\",\"2013\",\"2014\",\"2015\",\"2016\",\"2017\"],\"y\":[57.182668493701804,56.624347402457296,56.14973579960289,55.87796189195199,55.25401813080033,54.67087712681627,53.921143113103525,53.323776327013384,52.83097870875332,52.43257032658141,51.929260596232744,51.09073039239959,50.08754694939069,49.60308553742829,49.20403712953163,48.77821761472152,48.56988546874208,48.2728268059283]},\"selected\":{\"id\":\"4613\",\"type\":\"Selection\"},\"selection_policy\":{\"id\":\"4612\",\"type\":\"UnionRenderers\"}},\"id\":\"4590\",\"type\":\"ColumnDataSource\"},{\"attributes\":{\"line_color\":\"#FA1857\",\"x\":{\"field\":\"x\"},\"y\":{\"field\":\"y\"}},\"id\":\"4557\",\"type\":\"Line\"},{\"attributes\":{},\"id\":\"4546\",\"type\":\"SaveTool\"},{\"attributes\":{\"data_source\":{\"id\":\"4615\",\"type\":\"ColumnDataSource\"},\"glyph\":{\"id\":\"4616\",\"type\":\"Circle\"},\"hover_glyph\":null,\"muted_glyph\":null,\"nonselection_glyph\":{\"id\":\"4617\",\"type\":\"Circle\"},\"selection_glyph\":null,\"view\":{\"id\":\"4619\",\"type\":\"CDSView\"}},\"id\":\"4618\",\"type\":\"GlyphRenderer\"},{\"attributes\":{\"fill_color\":{\"value\":\"#5430F1\"},\"line_color\":{\"value\":\"#5430F1\"},\"line_width\":{\"value\":3},\"x\":{\"field\":\"x\"},\"y\":{\"field\":\"y\"}},\"id\":\"4591\",\"type\":\"Circle\"},{\"attributes\":{},\"id\":\"4547\",\"type\":\"ResetTool\"},{\"attributes\":{\"source\":{\"id\":\"4556\",\"type\":\"ColumnDataSource\"}},\"id\":\"4560\",\"type\":\"CDSView\"},{\"attributes\":{\"line_alpha\":0.1,\"line_color\":\"#1f77b4\",\"x\":{\"field\":\"x\"},\"y\":{\"field\":\"y\"}},\"id\":\"4558\",\"type\":\"Line\"},{\"attributes\":{\"source\":{\"id\":\"4615\",\"type\":\"ColumnDataSource\"}},\"id\":\"4619\",\"type\":\"CDSView\"},{\"attributes\":{},\"id\":\"4587\",\"type\":\"UnionRenderers\"},{\"attributes\":{},\"id\":\"4543\",\"type\":\"PanTool\"},{\"attributes\":{\"data_source\":{\"id\":\"4556\",\"type\":\"ColumnDataSource\"},\"glyph\":{\"id\":\"4557\",\"type\":\"Line\"},\"hover_glyph\":null,\"muted_glyph\":null,\"nonselection_glyph\":{\"id\":\"4558\",\"type\":\"Line\"},\"selection_glyph\":null,\"view\":{\"id\":\"4560\",\"type\":\"CDSView\"}},\"id\":\"4559\",\"type\":\"GlyphRenderer\"},{\"attributes\":{\"callback\":null,\"data\":{\"x\":[\"2000\",\"2001\",\"2002\",\"2003\",\"2004\",\"2005\",\"2006\",\"2007\",\"2008\",\"2009\",\"2010\",\"2011\",\"2012\",\"2013\",\"2014\",\"2015\",\"2016\",\"2017\"],\"y\":[13.983595169339262,13.998859245381606,13.991020663967802,14.08072441547863,14.122426832902441,13.78425403912315,13.299377817936158,13.057250481869682,12.840791354088491,13.031251656893089,13.030931611471235,12.99280973346482,12.971599240608382,12.90982728415717,12.853117783704255,12.684740815496953,12.575432474590244,12.453772658805285]},\"selected\":{\"id\":\"4838\",\"type\":\"Selection\"},\"selection_policy\":{\"id\":\"4837\",\"type\":\"UnionRenderers\"}},\"id\":\"4615\",\"type\":\"ColumnDataSource\"},{\"attributes\":{},\"id\":\"4588\",\"type\":\"Selection\"},{\"attributes\":{},\"id\":\"4534\",\"type\":\"BasicTicker\"},{\"attributes\":{},\"id\":\"4544\",\"type\":\"WheelZoomTool\"},{\"attributes\":{\"fill_color\":{\"value\":\"#2CC775\"},\"line_color\":{\"value\":\"#2CC775\"},\"line_width\":{\"value\":3},\"x\":{\"field\":\"x\"},\"y\":{\"field\":\"y\"}},\"id\":\"4616\",\"type\":\"Circle\"},{\"attributes\":{\"label\":{\"value\":\"Developing excluding LDCs\"},\"renderers\":[{\"id\":\"4577\",\"type\":\"GlyphRenderer\"}]},\"id\":\"4589\",\"type\":\"LegendItem\"},{\"attributes\":{\"grid_line_color\":null,\"ticker\":{\"id\":\"4534\",\"type\":\"BasicTicker\"}},\"id\":\"4537\",\"type\":\"Grid\"},{\"attributes\":{\"overlay\":{\"id\":\"4566\",\"type\":\"BoxAnnotation\"}},\"id\":\"4545\",\"type\":\"BoxZoomTool\"},{\"attributes\":{\"dimension\":1,\"grid_line_alpha\":0.5,\"ticker\":{\"id\":\"4539\",\"type\":\"BasicTicker\"}},\"id\":\"4542\",\"type\":\"Grid\"},{\"attributes\":{\"source\":{\"id\":\"4574\",\"type\":\"ColumnDataSource\"}},\"id\":\"4578\",\"type\":\"CDSView\"},{\"attributes\":{\"callback\":null},\"id\":\"4527\",\"type\":\"DataRange1d\"},{\"attributes\":{\"fill_alpha\":{\"value\":0.1},\"fill_color\":{\"value\":\"#1f77b4\"},\"line_alpha\":{\"value\":0.1},\"line_color\":{\"value\":\"#1f77b4\"},\"line_width\":{\"value\":3},\"x\":{\"field\":\"x\"},\"y\":{\"field\":\"y\"}},\"id\":\"4617\",\"type\":\"Circle\"},{\"attributes\":{},\"id\":\"4585\",\"type\":\"UnionRenderers\"},{\"attributes\":{},\"id\":\"4612\",\"type\":\"UnionRenderers\"},{\"attributes\":{},\"id\":\"4529\",\"type\":\"LinearScale\"},{\"attributes\":{\"active_drag\":\"auto\",\"active_inspect\":\"auto\",\"active_multi\":null,\"active_scroll\":\"auto\",\"active_tap\":\"auto\",\"tools\":[{\"id\":\"4543\",\"type\":\"PanTool\"},{\"id\":\"4544\",\"type\":\"WheelZoomTool\"},{\"id\":\"4545\",\"type\":\"BoxZoomTool\"},{\"id\":\"4546\",\"type\":\"SaveTool\"},{\"id\":\"4547\",\"type\":\"ResetTool\"},{\"id\":\"4548\",\"type\":\"HelpTool\"},{\"id\":\"4620\",\"type\":\"HoverTool\"}]},\"id\":\"4549\",\"type\":\"Toolbar\"},{\"attributes\":{\"callback\":null,\"data\":{\"x\":[\"2000\",\"2001\",\"2002\",\"2003\",\"2004\",\"2005\",\"2006\",\"2007\",\"2008\",\"2009\",\"2010\",\"2011\",\"2012\",\"2013\",\"2014\",\"2015\",\"2016\",\"2017\"],\"y\":[73.21763465176444,72.99635651982048,72.78114922045958,72.56740210564952,72.31280809134215,72.06374288534862,71.69979704264206,71.14977890148174,70.60291365237993,70.13601099904103,69.53324532417238,69.00621511120234,68.55967633532312,68.25151294620667,68.00716472004207,67.84672660682828,67.79561725854789,67.4365616886222]},\"selected\":{\"id\":\"4586\",\"type\":\"Selection\"},\"selection_policy\":{\"id\":\"4585\",\"type\":\"UnionRenderers\"}},\"id\":\"4556\",\"type\":\"ColumnDataSource\"},{\"attributes\":{},\"id\":\"4586\",\"type\":\"Selection\"},{\"attributes\":{},\"id\":\"4531\",\"type\":\"LinearScale\"},{\"attributes\":{},\"id\":\"4613\",\"type\":\"Selection\"},{\"attributes\":{\"callback\":null,\"tooltips\":\"                \\n        <div style=padding=5px>Year:@x</div>\\n        <div style=padding=5px>Value:@y</div>        \\n        \"},\"id\":\"4620\",\"type\":\"HoverTool\"},{\"attributes\":{\"line_color\":\"#5430F1\",\"x\":{\"field\":\"x\"},\"y\":{\"field\":\"y\"}},\"id\":\"4575\",\"type\":\"Line\"},{\"attributes\":{\"label\":{\"value\":\"OECD\"},\"renderers\":[{\"id\":\"4598\",\"type\":\"GlyphRenderer\"}]},\"id\":\"4614\",\"type\":\"LegendItem\"},{\"attributes\":{},\"id\":\"4548\",\"type\":\"HelpTool\"},{\"attributes\":{\"axis_label\":\"SL.EMP.VULN.MA.ZS\",\"formatter\":{\"id\":\"4565\",\"type\":\"BasicTickFormatter\"},\"ticker\":{\"id\":\"4539\",\"type\":\"BasicTicker\"}},\"id\":\"4538\",\"type\":\"LinearAxis\"},{\"attributes\":{\"line_alpha\":0.1,\"line_color\":\"#1f77b4\",\"x\":{\"field\":\"x\"},\"y\":{\"field\":\"y\"}},\"id\":\"4576\",\"type\":\"Line\"},{\"attributes\":{\"text\":\"Vulnerable employment, male (% of male employment) (modeled ILO estimate) weighted against Labor force, total\"},\"id\":\"4523\",\"type\":\"Title\"},{\"attributes\":{\"source\":{\"id\":\"4595\",\"type\":\"ColumnDataSource\"}},\"id\":\"4599\",\"type\":\"CDSView\"},{\"attributes\":{\"data_source\":{\"id\":\"4574\",\"type\":\"ColumnDataSource\"},\"glyph\":{\"id\":\"4575\",\"type\":\"Line\"},\"hover_glyph\":null,\"muted_glyph\":null,\"nonselection_glyph\":{\"id\":\"4576\",\"type\":\"Line\"},\"selection_glyph\":null,\"view\":{\"id\":\"4578\",\"type\":\"CDSView\"}},\"id\":\"4577\",\"type\":\"GlyphRenderer\"},{\"attributes\":{},\"id\":\"4539\",\"type\":\"BasicTicker\"},{\"attributes\":{\"callback\":null},\"id\":\"4525\",\"type\":\"DataRange1d\"},{\"attributes\":{},\"id\":\"4610\",\"type\":\"UnionRenderers\"},{\"attributes\":{\"data_source\":{\"id\":\"4569\",\"type\":\"ColumnDataSource\"},\"glyph\":{\"id\":\"4570\",\"type\":\"Circle\"},\"hover_glyph\":null,\"muted_glyph\":null,\"nonselection_glyph\":{\"id\":\"4571\",\"type\":\"Circle\"},\"selection_glyph\":null,\"view\":{\"id\":\"4573\",\"type\":\"CDSView\"}},\"id\":\"4572\",\"type\":\"GlyphRenderer\"},{\"attributes\":{},\"id\":\"4611\",\"type\":\"Selection\"},{\"attributes\":{\"axis_label\":\"Years\",\"formatter\":{\"id\":\"4563\",\"type\":\"BasicTickFormatter\"},\"ticker\":{\"id\":\"4534\",\"type\":\"BasicTicker\"}},\"id\":\"4533\",\"type\":\"LinearAxis\"},{\"attributes\":{\"source\":{\"id\":\"4569\",\"type\":\"ColumnDataSource\"}},\"id\":\"4573\",\"type\":\"CDSView\"},{\"attributes\":{\"items\":[{\"id\":\"4568\",\"type\":\"LegendItem\"},{\"id\":\"4589\",\"type\":\"LegendItem\"},{\"id\":\"4614\",\"type\":\"LegendItem\"}],\"location\":\"bottom_left\"},\"id\":\"4567\",\"type\":\"Legend\"},{\"attributes\":{\"line_color\":\"#2CC775\",\"x\":{\"field\":\"x\"},\"y\":{\"field\":\"y\"}},\"id\":\"4596\",\"type\":\"Line\"},{\"attributes\":{\"callback\":null,\"data\":{\"x\":[\"2000\",\"2001\",\"2002\",\"2003\",\"2004\",\"2005\",\"2006\",\"2007\",\"2008\",\"2009\",\"2010\",\"2011\",\"2012\",\"2013\",\"2014\",\"2015\",\"2016\",\"2017\"],\"y\":[57.182668493701804,56.624347402457296,56.14973579960289,55.87796189195199,55.25401813080033,54.67087712681627,53.921143113103525,53.323776327013384,52.83097870875332,52.43257032658141,51.929260596232744,51.09073039239959,50.08754694939069,49.60308553742829,49.20403712953163,48.77821761472152,48.56988546874208,48.2728268059283]},\"selected\":{\"id\":\"4611\",\"type\":\"Selection\"},\"selection_policy\":{\"id\":\"4610\",\"type\":\"UnionRenderers\"}},\"id\":\"4574\",\"type\":\"ColumnDataSource\"},{\"attributes\":{\"label\":{\"value\":\"LDCs\"},\"renderers\":[{\"id\":\"4559\",\"type\":\"GlyphRenderer\"}]},\"id\":\"4568\",\"type\":\"LegendItem\"},{\"attributes\":{\"line_alpha\":0.1,\"line_color\":\"#1f77b4\",\"x\":{\"field\":\"x\"},\"y\":{\"field\":\"y\"}},\"id\":\"4597\",\"type\":\"Line\"},{\"attributes\":{},\"id\":\"4836\",\"type\":\"Selection\"},{\"attributes\":{\"callback\":null,\"data\":{\"x\":[\"2000\",\"2001\",\"2002\",\"2003\",\"2004\",\"2005\",\"2006\",\"2007\",\"2008\",\"2009\",\"2010\",\"2011\",\"2012\",\"2013\",\"2014\",\"2015\",\"2016\",\"2017\"],\"y\":[73.21763465176444,72.99635651982048,72.78114922045958,72.56740210564952,72.31280809134215,72.06374288534862,71.69979704264206,71.14977890148174,70.60291365237993,70.13601099904103,69.53324532417238,69.00621511120234,68.55967633532312,68.25151294620667,68.00716472004207,67.84672660682828,67.79561725854789,67.4365616886222]},\"selected\":{\"id\":\"4588\",\"type\":\"Selection\"},\"selection_policy\":{\"id\":\"4587\",\"type\":\"UnionRenderers\"}},\"id\":\"4569\",\"type\":\"ColumnDataSource\"},{\"attributes\":{\"data_source\":{\"id\":\"4595\",\"type\":\"ColumnDataSource\"},\"glyph\":{\"id\":\"4596\",\"type\":\"Line\"},\"hover_glyph\":null,\"muted_glyph\":null,\"nonselection_glyph\":{\"id\":\"4597\",\"type\":\"Line\"},\"selection_glyph\":null,\"view\":{\"id\":\"4599\",\"type\":\"CDSView\"}},\"id\":\"4598\",\"type\":\"GlyphRenderer\"},{\"attributes\":{\"bottom_units\":\"screen\",\"fill_alpha\":{\"value\":0.5},\"fill_color\":{\"value\":\"lightgrey\"},\"left_units\":\"screen\",\"level\":\"overlay\",\"line_alpha\":{\"value\":1.0},\"line_color\":{\"value\":\"black\"},\"line_dash\":[4,4],\"line_width\":{\"value\":2},\"render_mode\":\"css\",\"right_units\":\"screen\",\"top_units\":\"screen\"},\"id\":\"4566\",\"type\":\"BoxAnnotation\"},{\"attributes\":{},\"id\":\"4837\",\"type\":\"UnionRenderers\"},{\"attributes\":{\"fill_color\":{\"value\":\"#FA1857\"},\"line_color\":{\"value\":\"#FA1857\"},\"line_width\":{\"value\":3},\"x\":{\"field\":\"x\"},\"y\":{\"field\":\"y\"}},\"id\":\"4570\",\"type\":\"Circle\"},{\"attributes\":{\"data_source\":{\"id\":\"4590\",\"type\":\"ColumnDataSource\"},\"glyph\":{\"id\":\"4591\",\"type\":\"Circle\"},\"hover_glyph\":null,\"muted_glyph\":null,\"nonselection_glyph\":{\"id\":\"4592\",\"type\":\"Circle\"},\"selection_glyph\":null,\"view\":{\"id\":\"4594\",\"type\":\"CDSView\"}},\"id\":\"4593\",\"type\":\"GlyphRenderer\"},{\"attributes\":{},\"id\":\"4838\",\"type\":\"Selection\"},{\"attributes\":{\"fill_alpha\":{\"value\":0.1},\"fill_color\":{\"value\":\"#1f77b4\"},\"line_alpha\":{\"value\":0.1},\"line_color\":{\"value\":\"#1f77b4\"},\"line_width\":{\"value\":3},\"x\":{\"field\":\"x\"},\"y\":{\"field\":\"y\"}},\"id\":\"4571\",\"type\":\"Circle\"},{\"attributes\":{\"source\":{\"id\":\"4590\",\"type\":\"ColumnDataSource\"}},\"id\":\"4594\",\"type\":\"CDSView\"},{\"attributes\":{},\"id\":\"4563\",\"type\":\"BasicTickFormatter\"},{\"attributes\":{},\"id\":\"4565\",\"type\":\"BasicTickFormatter\"},{\"attributes\":{},\"id\":\"4835\",\"type\":\"UnionRenderers\"},{\"attributes\":{\"callback\":null,\"data\":{\"x\":[\"2000\",\"2001\",\"2002\",\"2003\",\"2004\",\"2005\",\"2006\",\"2007\",\"2008\",\"2009\",\"2010\",\"2011\",\"2012\",\"2013\",\"2014\",\"2015\",\"2016\",\"2017\"],\"y\":[13.983595169339262,13.998859245381606,13.991020663967802,14.08072441547863,14.122426832902441,13.78425403912315,13.299377817936158,13.057250481869682,12.840791354088491,13.031251656893089,13.030931611471235,12.99280973346482,12.971599240608382,12.90982728415717,12.853117783704255,12.684740815496953,12.575432474590244,12.453772658805285]},\"selected\":{\"id\":\"4836\",\"type\":\"Selection\"},\"selection_policy\":{\"id\":\"4835\",\"type\":\"UnionRenderers\"}},\"id\":\"4595\",\"type\":\"ColumnDataSource\"},{\"attributes\":{\"fill_alpha\":{\"value\":0.1},\"fill_color\":{\"value\":\"#1f77b4\"},\"line_alpha\":{\"value\":0.1},\"line_color\":{\"value\":\"#1f77b4\"},\"line_width\":{\"value\":3},\"x\":{\"field\":\"x\"},\"y\":{\"field\":\"y\"}},\"id\":\"4592\",\"type\":\"Circle\"}],\"root_ids\":[\"4522\"]},\"title\":\"Bokeh Application\",\"version\":\"1.3.4\"}};\n",
       "  var render_items = [{\"docid\":\"0da725e4-bf9a-42f9-aedc-3d7aa49091d6\",\"roots\":{\"4522\":\"c4e12438-ddd7-4632-8b23-5f052ec13caf\"}}];\n",
       "  root.Bokeh.embed.embed_items_notebook(docs_json, render_items);\n",
       "\n",
       "  }\n",
       "  if (root.Bokeh !== undefined) {\n",
       "    embed_document(root);\n",
       "  } else {\n",
       "    var attempts = 0;\n",
       "    var timer = setInterval(function(root) {\n",
       "      if (root.Bokeh !== undefined) {\n",
       "        embed_document(root);\n",
       "        clearInterval(timer);\n",
       "      }\n",
       "      attempts++;\n",
       "      if (attempts > 100) {\n",
       "        console.log(\"Bokeh: ERROR: Unable to run BokehJS code because BokehJS library is missing\");\n",
       "        clearInterval(timer);\n",
       "      }\n",
       "    }, 10, root)\n",
       "  }\n",
       "})(window);"
      ],
      "application/vnd.bokehjs_exec.v0+json": ""
     },
     "metadata": {
      "application/vnd.bokehjs_exec.v0+json": {
       "id": "4522"
      }
     },
     "output_type": "display_data"
    }
   ],
   "source": [
    "# Male vulnerable employment\n",
    "years = list(map(str, list(range(2000,2018))))\n",
    "result = show_weighted_average(years, 'SL.EMP.VULN.MA.ZS', 'SL.TLF.TOTL.IN', \n",
    "                               ['LDCs', 'Developing excluding LDCs', 'OECD'])"
   ]
  },
  {
   "cell_type": "code",
   "execution_count": 18,
   "metadata": {
    "ExecuteTime": {
     "end_time": "2019-10-25T14:25:24.083516Z",
     "start_time": "2019-10-25T14:25:19.417499Z"
    },
    "slideshow": {
     "slide_type": "slide"
    }
   },
   "outputs": [
    {
     "data": {
      "text/html": [
       "\n",
       "\n",
       "\n",
       "\n",
       "\n",
       "\n",
       "  <div class=\"bk-root\" id=\"5dca1049-6011-44ea-9272-74fd6385e1f4\" data-root-id=\"4947\"></div>\n"
      ]
     },
     "metadata": {},
     "output_type": "display_data"
    },
    {
     "data": {
      "application/javascript": [
       "(function(root) {\n",
       "  function embed_document(root) {\n",
       "    \n",
       "  var docs_json = {\"2b05b65b-0a8b-42f5-aaed-434518b10023\":{\"roots\":{\"references\":[{\"attributes\":{\"below\":[{\"id\":\"4958\",\"type\":\"LinearAxis\"}],\"center\":[{\"id\":\"4962\",\"type\":\"Grid\"},{\"id\":\"4967\",\"type\":\"Grid\"},{\"id\":\"4992\",\"type\":\"Legend\"}],\"left\":[{\"id\":\"4963\",\"type\":\"LinearAxis\"}],\"plot_height\":400,\"plot_width\":800,\"renderers\":[{\"id\":\"4984\",\"type\":\"GlyphRenderer\"},{\"id\":\"4997\",\"type\":\"GlyphRenderer\"},{\"id\":\"5002\",\"type\":\"GlyphRenderer\"},{\"id\":\"5018\",\"type\":\"GlyphRenderer\"},{\"id\":\"5023\",\"type\":\"GlyphRenderer\"},{\"id\":\"5043\",\"type\":\"GlyphRenderer\"}],\"title\":{\"id\":\"4948\",\"type\":\"Title\"},\"toolbar\":{\"id\":\"4974\",\"type\":\"Toolbar\"},\"x_range\":{\"id\":\"4950\",\"type\":\"DataRange1d\"},\"x_scale\":{\"id\":\"4954\",\"type\":\"LinearScale\"},\"y_range\":{\"id\":\"4952\",\"type\":\"DataRange1d\"},\"y_scale\":{\"id\":\"4956\",\"type\":\"LinearScale\"}},\"id\":\"4947\",\"subtype\":\"Figure\",\"type\":\"Plot\"},{\"attributes\":{\"callback\":null,\"data\":{\"x\":[\"2000\",\"2001\",\"2002\",\"2003\",\"2004\",\"2005\",\"2006\",\"2007\",\"2008\",\"2009\",\"2010\",\"2011\",\"2012\",\"2013\",\"2014\",\"2015\",\"2016\",\"2017\"],\"y\":[54.79038158679697,55.287074928807264,55.813316402849836,56.368633395794234,56.948533135666324,57.54898574320102,58.16602728511171,58.79219566302946,59.41811372554519,60.03542306147486,60.63396924590268,61.20650588606631,61.743458424691624,62.25279596395541,62.72434854700804,63.154635897597124,63.54299723731197,63.89474884744179]},\"selected\":{\"id\":\"5011\",\"type\":\"Selection\"},\"selection_policy\":{\"id\":\"5010\",\"type\":\"UnionRenderers\"}},\"id\":\"4981\",\"type\":\"ColumnDataSource\"},{\"attributes\":{\"line_alpha\":0.1,\"line_color\":\"#1f77b4\",\"x\":{\"field\":\"x\"},\"y\":{\"field\":\"y\"}},\"id\":\"4983\",\"type\":\"Line\"},{\"attributes\":{\"source\":{\"id\":\"4981\",\"type\":\"ColumnDataSource\"}},\"id\":\"4985\",\"type\":\"CDSView\"},{\"attributes\":{\"source\":{\"id\":\"5040\",\"type\":\"ColumnDataSource\"}},\"id\":\"5044\",\"type\":\"CDSView\"},{\"attributes\":{\"text\":\"Life expectancy at birth, total (years) weighted against Population, total\"},\"id\":\"4948\",\"type\":\"Title\"},{\"attributes\":{},\"id\":\"5035\",\"type\":\"UnionRenderers\"},{\"attributes\":{\"overlay\":{\"id\":\"4991\",\"type\":\"BoxAnnotation\"}},\"id\":\"4970\",\"type\":\"BoxZoomTool\"},{\"attributes\":{\"callback\":null},\"id\":\"4952\",\"type\":\"DataRange1d\"},{\"attributes\":{\"data_source\":{\"id\":\"5040\",\"type\":\"ColumnDataSource\"},\"glyph\":{\"id\":\"5041\",\"type\":\"Circle\"},\"hover_glyph\":null,\"muted_glyph\":null,\"nonselection_glyph\":{\"id\":\"5042\",\"type\":\"Circle\"},\"selection_glyph\":null,\"view\":{\"id\":\"5044\",\"type\":\"CDSView\"}},\"id\":\"5043\",\"type\":\"GlyphRenderer\"},{\"attributes\":{\"bottom_units\":\"screen\",\"fill_alpha\":{\"value\":0.5},\"fill_color\":{\"value\":\"lightgrey\"},\"left_units\":\"screen\",\"level\":\"overlay\",\"line_alpha\":{\"value\":1.0},\"line_color\":{\"value\":\"black\"},\"line_dash\":[4,4],\"line_width\":{\"value\":2},\"render_mode\":\"css\",\"right_units\":\"screen\",\"top_units\":\"screen\"},\"id\":\"4991\",\"type\":\"BoxAnnotation\"},{\"attributes\":{\"callback\":null},\"id\":\"4950\",\"type\":\"DataRange1d\"},{\"attributes\":{},\"id\":\"5011\",\"type\":\"Selection\"},{\"attributes\":{},\"id\":\"4954\",\"type\":\"LinearScale\"},{\"attributes\":{\"callback\":null,\"data\":{\"x\":[\"2000\",\"2001\",\"2002\",\"2003\",\"2004\",\"2005\",\"2006\",\"2007\",\"2008\",\"2009\",\"2010\",\"2011\",\"2012\",\"2013\",\"2014\",\"2015\",\"2016\",\"2017\"],\"y\":[77.07712560169232,77.38833297513385,77.54776037882743,77.69654179560608,78.09938587502181,78.21736324644525,78.50714525876474,78.73135260844114,78.87486015871855,79.13132827194039,79.3009215024766,79.53231619249463,79.64498856482149,79.80818222814423,80.05654259453199,79.94678663973315,80.09864354689779,80.15042257303583]},\"selected\":{\"id\":\"5279\",\"type\":\"Selection\"},\"selection_policy\":{\"id\":\"5278\",\"type\":\"UnionRenderers\"}},\"id\":\"5020\",\"type\":\"ColumnDataSource\"},{\"attributes\":{},\"id\":\"4959\",\"type\":\"BasicTicker\"},{\"attributes\":{\"fill_alpha\":{\"value\":0.1},\"fill_color\":{\"value\":\"#1f77b4\"},\"line_alpha\":{\"value\":0.1},\"line_color\":{\"value\":\"#1f77b4\"},\"line_width\":{\"value\":3},\"x\":{\"field\":\"x\"},\"y\":{\"field\":\"y\"}},\"id\":\"5042\",\"type\":\"Circle\"},{\"attributes\":{},\"id\":\"4964\",\"type\":\"BasicTicker\"},{\"attributes\":{},\"id\":\"5038\",\"type\":\"Selection\"},{\"attributes\":{\"callback\":null,\"tooltips\":\"                \\n        <div style=padding=5px>Year:@x</div>\\n        <div style=padding=5px>Value:@y</div>        \\n        \"},\"id\":\"5045\",\"type\":\"HoverTool\"},{\"attributes\":{\"fill_color\":{\"value\":\"#FA1857\"},\"line_color\":{\"value\":\"#FA1857\"},\"line_width\":{\"value\":3},\"x\":{\"field\":\"x\"},\"y\":{\"field\":\"y\"}},\"id\":\"4995\",\"type\":\"Circle\"},{\"attributes\":{},\"id\":\"4956\",\"type\":\"LinearScale\"},{\"attributes\":{},\"id\":\"5013\",\"type\":\"Selection\"},{\"attributes\":{\"axis_label\":\"SP.DYN.LE00.IN\",\"formatter\":{\"id\":\"4990\",\"type\":\"BasicTickFormatter\"},\"ticker\":{\"id\":\"4964\",\"type\":\"BasicTicker\"}},\"id\":\"4963\",\"type\":\"LinearAxis\"},{\"attributes\":{\"source\":{\"id\":\"4999\",\"type\":\"ColumnDataSource\"}},\"id\":\"5003\",\"type\":\"CDSView\"},{\"attributes\":{\"fill_color\":{\"value\":\"#2CC775\"},\"line_color\":{\"value\":\"#2CC775\"},\"line_width\":{\"value\":3},\"x\":{\"field\":\"x\"},\"y\":{\"field\":\"y\"}},\"id\":\"5041\",\"type\":\"Circle\"},{\"attributes\":{\"line_color\":\"#5430F1\",\"x\":{\"field\":\"x\"},\"y\":{\"field\":\"y\"}},\"id\":\"5000\",\"type\":\"Line\"},{\"attributes\":{},\"id\":\"4968\",\"type\":\"PanTool\"},{\"attributes\":{},\"id\":\"4969\",\"type\":\"WheelZoomTool\"},{\"attributes\":{\"callback\":null,\"data\":{\"x\":[\"2000\",\"2001\",\"2002\",\"2003\",\"2004\",\"2005\",\"2006\",\"2007\",\"2008\",\"2009\",\"2010\",\"2011\",\"2012\",\"2013\",\"2014\",\"2015\",\"2016\",\"2017\"],\"y\":[54.79038158679697,55.287074928807264,55.813316402849836,56.368633395794234,56.948533135666324,57.54898574320102,58.16602728511171,58.79219566302946,59.41811372554519,60.03542306147486,60.63396924590268,61.20650588606631,61.743458424691624,62.25279596395541,62.72434854700804,63.154635897597124,63.54299723731197,63.89474884744179]},\"selected\":{\"id\":\"5013\",\"type\":\"Selection\"},\"selection_policy\":{\"id\":\"5012\",\"type\":\"UnionRenderers\"}},\"id\":\"4994\",\"type\":\"ColumnDataSource\"},{\"attributes\":{\"callback\":null,\"data\":{\"x\":[\"2000\",\"2001\",\"2002\",\"2003\",\"2004\",\"2005\",\"2006\",\"2007\",\"2008\",\"2009\",\"2010\",\"2011\",\"2012\",\"2013\",\"2014\",\"2015\",\"2016\",\"2017\"],\"y\":[77.07712560169232,77.38833297513385,77.54776037882743,77.69654179560608,78.09938587502181,78.21736324644525,78.50714525876474,78.73135260844114,78.87486015871855,79.13132827194039,79.3009215024766,79.53231619249463,79.64498856482149,79.80818222814423,80.05654259453199,79.94678663973315,80.09864354689779,80.15042257303583]},\"selected\":{\"id\":\"5281\",\"type\":\"Selection\"},\"selection_policy\":{\"id\":\"5280\",\"type\":\"UnionRenderers\"}},\"id\":\"5040\",\"type\":\"ColumnDataSource\"},{\"attributes\":{\"label\":{\"value\":\"LDCs\"},\"renderers\":[{\"id\":\"4984\",\"type\":\"GlyphRenderer\"}]},\"id\":\"4993\",\"type\":\"LegendItem\"},{\"attributes\":{},\"id\":\"5037\",\"type\":\"UnionRenderers\"},{\"attributes\":{},\"id\":\"5281\",\"type\":\"Selection\"},{\"attributes\":{\"dimension\":1,\"grid_line_alpha\":0.5,\"ticker\":{\"id\":\"4964\",\"type\":\"BasicTicker\"}},\"id\":\"4967\",\"type\":\"Grid\"},{\"attributes\":{\"callback\":null,\"data\":{\"x\":[\"2000\",\"2001\",\"2002\",\"2003\",\"2004\",\"2005\",\"2006\",\"2007\",\"2008\",\"2009\",\"2010\",\"2011\",\"2012\",\"2013\",\"2014\",\"2015\",\"2016\",\"2017\"],\"y\":[66.80550762746502,67.09575522261287,67.38845397138815,67.68641242492377,67.98850353535039,68.29683586546594,68.61376868812876,68.93811600827559,69.26960155877734,69.60770006976703,69.93884575077878,70.26845966598577,70.58941992930774,70.89896146370299,71.1942586920573,71.46625116456777,71.71665557950269,71.94788632890526]},\"selected\":{\"id\":\"5036\",\"type\":\"Selection\"},\"selection_policy\":{\"id\":\"5035\",\"type\":\"UnionRenderers\"}},\"id\":\"4999\",\"type\":\"ColumnDataSource\"},{\"attributes\":{},\"id\":\"4973\",\"type\":\"HelpTool\"},{\"attributes\":{\"fill_alpha\":{\"value\":0.1},\"fill_color\":{\"value\":\"#1f77b4\"},\"line_alpha\":{\"value\":0.1},\"line_color\":{\"value\":\"#1f77b4\"},\"line_width\":{\"value\":3},\"x\":{\"field\":\"x\"},\"y\":{\"field\":\"y\"}},\"id\":\"5017\",\"type\":\"Circle\"},{\"attributes\":{\"items\":[{\"id\":\"4993\",\"type\":\"LegendItem\"},{\"id\":\"5014\",\"type\":\"LegendItem\"},{\"id\":\"5039\",\"type\":\"LegendItem\"}],\"location\":\"bottom_left\"},\"id\":\"4992\",\"type\":\"Legend\"},{\"attributes\":{\"data_source\":{\"id\":\"4999\",\"type\":\"ColumnDataSource\"},\"glyph\":{\"id\":\"5000\",\"type\":\"Line\"},\"hover_glyph\":null,\"muted_glyph\":null,\"nonselection_glyph\":{\"id\":\"5001\",\"type\":\"Line\"},\"selection_glyph\":null,\"view\":{\"id\":\"5003\",\"type\":\"CDSView\"}},\"id\":\"5002\",\"type\":\"GlyphRenderer\"},{\"attributes\":{},\"id\":\"5279\",\"type\":\"Selection\"},{\"attributes\":{\"data_source\":{\"id\":\"4994\",\"type\":\"ColumnDataSource\"},\"glyph\":{\"id\":\"4995\",\"type\":\"Circle\"},\"hover_glyph\":null,\"muted_glyph\":null,\"nonselection_glyph\":{\"id\":\"4996\",\"type\":\"Circle\"},\"selection_glyph\":null,\"view\":{\"id\":\"4998\",\"type\":\"CDSView\"}},\"id\":\"4997\",\"type\":\"GlyphRenderer\"},{\"attributes\":{\"line_alpha\":0.1,\"line_color\":\"#1f77b4\",\"x\":{\"field\":\"x\"},\"y\":{\"field\":\"y\"}},\"id\":\"5001\",\"type\":\"Line\"},{\"attributes\":{\"label\":{\"value\":\"OECD\"},\"renderers\":[{\"id\":\"5023\",\"type\":\"GlyphRenderer\"}]},\"id\":\"5039\",\"type\":\"LegendItem\"},{\"attributes\":{\"active_drag\":\"auto\",\"active_inspect\":\"auto\",\"active_multi\":null,\"active_scroll\":\"auto\",\"active_tap\":\"auto\",\"tools\":[{\"id\":\"4968\",\"type\":\"PanTool\"},{\"id\":\"4969\",\"type\":\"WheelZoomTool\"},{\"id\":\"4970\",\"type\":\"BoxZoomTool\"},{\"id\":\"4971\",\"type\":\"SaveTool\"},{\"id\":\"4972\",\"type\":\"ResetTool\"},{\"id\":\"4973\",\"type\":\"HelpTool\"},{\"id\":\"5045\",\"type\":\"HoverTool\"}]},\"id\":\"4974\",\"type\":\"Toolbar\"},{\"attributes\":{\"source\":{\"id\":\"4994\",\"type\":\"ColumnDataSource\"}},\"id\":\"4998\",\"type\":\"CDSView\"},{\"attributes\":{},\"id\":\"4972\",\"type\":\"ResetTool\"},{\"attributes\":{\"grid_line_color\":null,\"ticker\":{\"id\":\"4959\",\"type\":\"BasicTicker\"}},\"id\":\"4962\",\"type\":\"Grid\"},{\"attributes\":{\"source\":{\"id\":\"5020\",\"type\":\"ColumnDataSource\"}},\"id\":\"5024\",\"type\":\"CDSView\"},{\"attributes\":{},\"id\":\"4990\",\"type\":\"BasicTickFormatter\"},{\"attributes\":{\"fill_color\":{\"value\":\"#5430F1\"},\"line_color\":{\"value\":\"#5430F1\"},\"line_width\":{\"value\":3},\"x\":{\"field\":\"x\"},\"y\":{\"field\":\"y\"}},\"id\":\"5016\",\"type\":\"Circle\"},{\"attributes\":{\"data_source\":{\"id\":\"5015\",\"type\":\"ColumnDataSource\"},\"glyph\":{\"id\":\"5016\",\"type\":\"Circle\"},\"hover_glyph\":null,\"muted_glyph\":null,\"nonselection_glyph\":{\"id\":\"5017\",\"type\":\"Circle\"},\"selection_glyph\":null,\"view\":{\"id\":\"5019\",\"type\":\"CDSView\"}},\"id\":\"5018\",\"type\":\"GlyphRenderer\"},{\"attributes\":{},\"id\":\"5010\",\"type\":\"UnionRenderers\"},{\"attributes\":{\"data_source\":{\"id\":\"5020\",\"type\":\"ColumnDataSource\"},\"glyph\":{\"id\":\"5021\",\"type\":\"Line\"},\"hover_glyph\":null,\"muted_glyph\":null,\"nonselection_glyph\":{\"id\":\"5022\",\"type\":\"Line\"},\"selection_glyph\":null,\"view\":{\"id\":\"5024\",\"type\":\"CDSView\"}},\"id\":\"5023\",\"type\":\"GlyphRenderer\"},{\"attributes\":{},\"id\":\"4971\",\"type\":\"SaveTool\"},{\"attributes\":{\"axis_label\":\"Years\",\"formatter\":{\"id\":\"4988\",\"type\":\"BasicTickFormatter\"},\"ticker\":{\"id\":\"4959\",\"type\":\"BasicTicker\"}},\"id\":\"4958\",\"type\":\"LinearAxis\"},{\"attributes\":{\"fill_alpha\":{\"value\":0.1},\"fill_color\":{\"value\":\"#1f77b4\"},\"line_alpha\":{\"value\":0.1},\"line_color\":{\"value\":\"#1f77b4\"},\"line_width\":{\"value\":3},\"x\":{\"field\":\"x\"},\"y\":{\"field\":\"y\"}},\"id\":\"4996\",\"type\":\"Circle\"},{\"attributes\":{\"line_alpha\":0.1,\"line_color\":\"#1f77b4\",\"x\":{\"field\":\"x\"},\"y\":{\"field\":\"y\"}},\"id\":\"5022\",\"type\":\"Line\"},{\"attributes\":{},\"id\":\"4988\",\"type\":\"BasicTickFormatter\"},{\"attributes\":{\"label\":{\"value\":\"Developing excluding LDCs\"},\"renderers\":[{\"id\":\"5002\",\"type\":\"GlyphRenderer\"}]},\"id\":\"5014\",\"type\":\"LegendItem\"},{\"attributes\":{\"line_color\":\"#2CC775\",\"x\":{\"field\":\"x\"},\"y\":{\"field\":\"y\"}},\"id\":\"5021\",\"type\":\"Line\"},{\"attributes\":{},\"id\":\"5278\",\"type\":\"UnionRenderers\"},{\"attributes\":{\"source\":{\"id\":\"5015\",\"type\":\"ColumnDataSource\"}},\"id\":\"5019\",\"type\":\"CDSView\"},{\"attributes\":{},\"id\":\"5280\",\"type\":\"UnionRenderers\"},{\"attributes\":{\"callback\":null,\"data\":{\"x\":[\"2000\",\"2001\",\"2002\",\"2003\",\"2004\",\"2005\",\"2006\",\"2007\",\"2008\",\"2009\",\"2010\",\"2011\",\"2012\",\"2013\",\"2014\",\"2015\",\"2016\",\"2017\"],\"y\":[66.80550762746502,67.09575522261287,67.38845397138815,67.68641242492377,67.98850353535039,68.29683586546594,68.61376868812876,68.93811600827559,69.26960155877734,69.60770006976703,69.93884575077878,70.26845966598577,70.58941992930774,70.89896146370299,71.1942586920573,71.46625116456777,71.71665557950269,71.94788632890526]},\"selected\":{\"id\":\"5038\",\"type\":\"Selection\"},\"selection_policy\":{\"id\":\"5037\",\"type\":\"UnionRenderers\"}},\"id\":\"5015\",\"type\":\"ColumnDataSource\"},{\"attributes\":{},\"id\":\"5036\",\"type\":\"Selection\"},{\"attributes\":{\"data_source\":{\"id\":\"4981\",\"type\":\"ColumnDataSource\"},\"glyph\":{\"id\":\"4982\",\"type\":\"Line\"},\"hover_glyph\":null,\"muted_glyph\":null,\"nonselection_glyph\":{\"id\":\"4983\",\"type\":\"Line\"},\"selection_glyph\":null,\"view\":{\"id\":\"4985\",\"type\":\"CDSView\"}},\"id\":\"4984\",\"type\":\"GlyphRenderer\"},{\"attributes\":{},\"id\":\"5012\",\"type\":\"UnionRenderers\"},{\"attributes\":{\"line_color\":\"#FA1857\",\"x\":{\"field\":\"x\"},\"y\":{\"field\":\"y\"}},\"id\":\"4982\",\"type\":\"Line\"}],\"root_ids\":[\"4947\"]},\"title\":\"Bokeh Application\",\"version\":\"1.3.4\"}};\n",
       "  var render_items = [{\"docid\":\"2b05b65b-0a8b-42f5-aaed-434518b10023\",\"roots\":{\"4947\":\"5dca1049-6011-44ea-9272-74fd6385e1f4\"}}];\n",
       "  root.Bokeh.embed.embed_items_notebook(docs_json, render_items);\n",
       "\n",
       "  }\n",
       "  if (root.Bokeh !== undefined) {\n",
       "    embed_document(root);\n",
       "  } else {\n",
       "    var attempts = 0;\n",
       "    var timer = setInterval(function(root) {\n",
       "      if (root.Bokeh !== undefined) {\n",
       "        embed_document(root);\n",
       "        clearInterval(timer);\n",
       "      }\n",
       "      attempts++;\n",
       "      if (attempts > 100) {\n",
       "        console.log(\"Bokeh: ERROR: Unable to run BokehJS code because BokehJS library is missing\");\n",
       "        clearInterval(timer);\n",
       "      }\n",
       "    }, 10, root)\n",
       "  }\n",
       "})(window);"
      ],
      "application/vnd.bokehjs_exec.v0+json": ""
     },
     "metadata": {
      "application/vnd.bokehjs_exec.v0+json": {
       "id": "4947"
      }
     },
     "output_type": "display_data"
    }
   ],
   "source": [
    "# Life expectancy\n",
    "years = list(map(str, list(range(2000,2018))))\n",
    "result = show_weighted_average(years, 'SP.DYN.LE00.IN', 'SP.POP.TOTL', \n",
    "                               ['LDCs', 'Developing excluding LDCs', 'OECD'])"
   ]
  },
  {
   "cell_type": "code",
   "execution_count": 19,
   "metadata": {
    "ExecuteTime": {
     "end_time": "2019-10-25T14:25:28.872290Z",
     "start_time": "2019-10-25T14:25:24.086081Z"
    },
    "slideshow": {
     "slide_type": "slide"
    }
   },
   "outputs": [
    {
     "data": {
      "text/html": [
       "\n",
       "\n",
       "\n",
       "\n",
       "\n",
       "\n",
       "  <div class=\"bk-root\" id=\"fcb8a115-43f0-4f70-9f2a-c073d7672180\" data-root-id=\"5390\"></div>\n"
      ]
     },
     "metadata": {},
     "output_type": "display_data"
    },
    {
     "data": {
      "application/javascript": [
       "(function(root) {\n",
       "  function embed_document(root) {\n",
       "    \n",
       "  var docs_json = {\"b56ffe3b-23bd-4a6c-bd2c-e5756282b2a5\":{\"roots\":{\"references\":[{\"attributes\":{\"below\":[{\"id\":\"5401\",\"type\":\"LinearAxis\"}],\"center\":[{\"id\":\"5405\",\"type\":\"Grid\"},{\"id\":\"5410\",\"type\":\"Grid\"},{\"id\":\"5435\",\"type\":\"Legend\"}],\"left\":[{\"id\":\"5406\",\"type\":\"LinearAxis\"}],\"plot_height\":400,\"plot_width\":800,\"renderers\":[{\"id\":\"5427\",\"type\":\"GlyphRenderer\"},{\"id\":\"5440\",\"type\":\"GlyphRenderer\"},{\"id\":\"5445\",\"type\":\"GlyphRenderer\"},{\"id\":\"5461\",\"type\":\"GlyphRenderer\"},{\"id\":\"5466\",\"type\":\"GlyphRenderer\"},{\"id\":\"5486\",\"type\":\"GlyphRenderer\"}],\"title\":{\"id\":\"5391\",\"type\":\"Title\"},\"toolbar\":{\"id\":\"5417\",\"type\":\"Toolbar\"},\"x_range\":{\"id\":\"5393\",\"type\":\"DataRange1d\"},\"x_scale\":{\"id\":\"5397\",\"type\":\"LinearScale\"},\"y_range\":{\"id\":\"5395\",\"type\":\"DataRange1d\"},\"y_scale\":{\"id\":\"5399\",\"type\":\"LinearScale\"}},\"id\":\"5390\",\"subtype\":\"Figure\",\"type\":\"Plot\"},{\"attributes\":{\"dimension\":1,\"grid_line_alpha\":0.5,\"ticker\":{\"id\":\"5407\",\"type\":\"BasicTicker\"}},\"id\":\"5410\",\"type\":\"Grid\"},{\"attributes\":{\"overlay\":{\"id\":\"5434\",\"type\":\"BoxAnnotation\"}},\"id\":\"5413\",\"type\":\"BoxZoomTool\"},{\"attributes\":{\"label\":{\"value\":\"Developing excluding LDCs\"},\"renderers\":[{\"id\":\"5445\",\"type\":\"GlyphRenderer\"}]},\"id\":\"5457\",\"type\":\"LegendItem\"},{\"attributes\":{\"line_color\":\"#2CC775\",\"x\":{\"field\":\"x\"},\"y\":{\"field\":\"y\"}},\"id\":\"5464\",\"type\":\"Line\"},{\"attributes\":{\"data_source\":{\"id\":\"5458\",\"type\":\"ColumnDataSource\"},\"glyph\":{\"id\":\"5459\",\"type\":\"Circle\"},\"hover_glyph\":null,\"muted_glyph\":null,\"nonselection_glyph\":{\"id\":\"5460\",\"type\":\"Circle\"},\"selection_glyph\":null,\"view\":{\"id\":\"5462\",\"type\":\"CDSView\"}},\"id\":\"5461\",\"type\":\"GlyphRenderer\"},{\"attributes\":{\"source\":{\"id\":\"5424\",\"type\":\"ColumnDataSource\"}},\"id\":\"5428\",\"type\":\"CDSView\"},{\"attributes\":{},\"id\":\"5415\",\"type\":\"ResetTool\"},{\"attributes\":{\"source\":{\"id\":\"5442\",\"type\":\"ColumnDataSource\"}},\"id\":\"5446\",\"type\":\"CDSView\"},{\"attributes\":{\"line_alpha\":0.1,\"line_color\":\"#1f77b4\",\"x\":{\"field\":\"x\"},\"y\":{\"field\":\"y\"}},\"id\":\"5465\",\"type\":\"Line\"},{\"attributes\":{},\"id\":\"5479\",\"type\":\"Selection\"},{\"attributes\":{},\"id\":\"5480\",\"type\":\"UnionRenderers\"},{\"attributes\":{\"source\":{\"id\":\"5458\",\"type\":\"ColumnDataSource\"}},\"id\":\"5462\",\"type\":\"CDSView\"},{\"attributes\":{},\"id\":\"5453\",\"type\":\"UnionRenderers\"},{\"attributes\":{\"callback\":null,\"data\":{\"x\":[\"2000\",\"2001\",\"2002\",\"2003\",\"2004\",\"2005\",\"2006\",\"2007\",\"2008\",\"2009\",\"2010\",\"2011\",\"2012\",\"2013\",\"2014\",\"2015\",\"2016\",\"2017\"],\"y\":[79.93351879418076,80.20290658761989,80.32918832949842,80.39856940465691,80.77521328865518,80.86674990168122,81.1402038786844,81.32381241465296,81.43163205746191,81.62948962454634,81.79594928587568,82.07333933782573,82.11929566013815,82.26555024337196,82.51912432141074,82.35601028400251,82.55037747513924,82.59790657999017]},\"selected\":{\"id\":\"5740\",\"type\":\"Selection\"},\"selection_policy\":{\"id\":\"5739\",\"type\":\"UnionRenderers\"}},\"id\":\"5463\",\"type\":\"ColumnDataSource\"},{\"attributes\":{},\"id\":\"5416\",\"type\":\"HelpTool\"},{\"attributes\":{},\"id\":\"5454\",\"type\":\"Selection\"},{\"attributes\":{\"callback\":null},\"id\":\"5393\",\"type\":\"DataRange1d\"},{\"attributes\":{},\"id\":\"5478\",\"type\":\"UnionRenderers\"},{\"attributes\":{\"callback\":null,\"data\":{\"x\":[\"2000\",\"2001\",\"2002\",\"2003\",\"2004\",\"2005\",\"2006\",\"2007\",\"2008\",\"2009\",\"2010\",\"2011\",\"2012\",\"2013\",\"2014\",\"2015\",\"2016\",\"2017\"],\"y\":[67.72613360952067,67.96678765132117,68.21521706263611,68.47684702683729,68.75328942223987,69.0484966771406,69.36634426933745,69.70503900878862,70.05566335667386,70.41841613739292,70.77789293848497,71.13500951943153,71.47851972701005,71.80180695377123,72.09903276477121,72.36667910378955,72.59908110172458,72.80832887210636]},\"selected\":{\"id\":\"5481\",\"type\":\"Selection\"},\"selection_policy\":{\"id\":\"5480\",\"type\":\"UnionRenderers\"}},\"id\":\"5458\",\"type\":\"ColumnDataSource\"},{\"attributes\":{\"line_color\":\"#5430F1\",\"x\":{\"field\":\"x\"},\"y\":{\"field\":\"y\"}},\"id\":\"5443\",\"type\":\"Line\"},{\"attributes\":{},\"id\":\"5741\",\"type\":\"UnionRenderers\"},{\"attributes\":{},\"id\":\"5397\",\"type\":\"LinearScale\"},{\"attributes\":{},\"id\":\"5431\",\"type\":\"BasicTickFormatter\"},{\"attributes\":{\"fill_color\":{\"value\":\"#5430F1\"},\"line_color\":{\"value\":\"#5430F1\"},\"line_width\":{\"value\":3},\"x\":{\"field\":\"x\"},\"y\":{\"field\":\"y\"}},\"id\":\"5459\",\"type\":\"Circle\"},{\"attributes\":{},\"id\":\"5411\",\"type\":\"PanTool\"},{\"attributes\":{\"line_alpha\":0.1,\"line_color\":\"#1f77b4\",\"x\":{\"field\":\"x\"},\"y\":{\"field\":\"y\"}},\"id\":\"5444\",\"type\":\"Line\"},{\"attributes\":{\"source\":{\"id\":\"5463\",\"type\":\"ColumnDataSource\"}},\"id\":\"5467\",\"type\":\"CDSView\"},{\"attributes\":{},\"id\":\"5742\",\"type\":\"Selection\"},{\"attributes\":{\"fill_alpha\":{\"value\":0.1},\"fill_color\":{\"value\":\"#1f77b4\"},\"line_alpha\":{\"value\":0.1},\"line_color\":{\"value\":\"#1f77b4\"},\"line_width\":{\"value\":3},\"x\":{\"field\":\"x\"},\"y\":{\"field\":\"y\"}},\"id\":\"5460\",\"type\":\"Circle\"},{\"attributes\":{\"data_source\":{\"id\":\"5424\",\"type\":\"ColumnDataSource\"},\"glyph\":{\"id\":\"5425\",\"type\":\"Line\"},\"hover_glyph\":null,\"muted_glyph\":null,\"nonselection_glyph\":{\"id\":\"5426\",\"type\":\"Line\"},\"selection_glyph\":null,\"view\":{\"id\":\"5428\",\"type\":\"CDSView\"}},\"id\":\"5427\",\"type\":\"GlyphRenderer\"},{\"attributes\":{\"data_source\":{\"id\":\"5442\",\"type\":\"ColumnDataSource\"},\"glyph\":{\"id\":\"5443\",\"type\":\"Line\"},\"hover_glyph\":null,\"muted_glyph\":null,\"nonselection_glyph\":{\"id\":\"5444\",\"type\":\"Line\"},\"selection_glyph\":null,\"view\":{\"id\":\"5446\",\"type\":\"CDSView\"}},\"id\":\"5445\",\"type\":\"GlyphRenderer\"},{\"attributes\":{},\"id\":\"5399\",\"type\":\"LinearScale\"},{\"attributes\":{},\"id\":\"5455\",\"type\":\"UnionRenderers\"},{\"attributes\":{\"data_source\":{\"id\":\"5437\",\"type\":\"ColumnDataSource\"},\"glyph\":{\"id\":\"5438\",\"type\":\"Circle\"},\"hover_glyph\":null,\"muted_glyph\":null,\"nonselection_glyph\":{\"id\":\"5439\",\"type\":\"Circle\"},\"selection_glyph\":null,\"view\":{\"id\":\"5441\",\"type\":\"CDSView\"}},\"id\":\"5440\",\"type\":\"GlyphRenderer\"},{\"attributes\":{\"data_source\":{\"id\":\"5463\",\"type\":\"ColumnDataSource\"},\"glyph\":{\"id\":\"5464\",\"type\":\"Line\"},\"hover_glyph\":null,\"muted_glyph\":null,\"nonselection_glyph\":{\"id\":\"5465\",\"type\":\"Line\"},\"selection_glyph\":null,\"view\":{\"id\":\"5467\",\"type\":\"CDSView\"}},\"id\":\"5466\",\"type\":\"GlyphRenderer\"},{\"attributes\":{},\"id\":\"5402\",\"type\":\"BasicTicker\"},{\"attributes\":{},\"id\":\"5456\",\"type\":\"Selection\"},{\"attributes\":{},\"id\":\"5414\",\"type\":\"SaveTool\"},{\"attributes\":{\"source\":{\"id\":\"5437\",\"type\":\"ColumnDataSource\"}},\"id\":\"5441\",\"type\":\"CDSView\"},{\"attributes\":{\"text\":\"Life expectancy at birth, female (years) weighted against Rural population\"},\"id\":\"5391\",\"type\":\"Title\"},{\"attributes\":{},\"id\":\"5739\",\"type\":\"UnionRenderers\"},{\"attributes\":{\"callback\":null,\"data\":{\"x\":[\"2000\",\"2001\",\"2002\",\"2003\",\"2004\",\"2005\",\"2006\",\"2007\",\"2008\",\"2009\",\"2010\",\"2011\",\"2012\",\"2013\",\"2014\",\"2015\",\"2016\",\"2017\"],\"y\":[67.72613360952067,67.96678765132117,68.21521706263611,68.47684702683729,68.75328942223987,69.0484966771406,69.36634426933745,69.70503900878862,70.05566335667386,70.41841613739292,70.77789293848497,71.13500951943153,71.47851972701005,71.80180695377123,72.09903276477121,72.36667910378955,72.59908110172458,72.80832887210636]},\"selected\":{\"id\":\"5479\",\"type\":\"Selection\"},\"selection_policy\":{\"id\":\"5478\",\"type\":\"UnionRenderers\"}},\"id\":\"5442\",\"type\":\"ColumnDataSource\"},{\"attributes\":{},\"id\":\"5740\",\"type\":\"Selection\"},{\"attributes\":{\"grid_line_color\":null,\"ticker\":{\"id\":\"5402\",\"type\":\"BasicTicker\"}},\"id\":\"5405\",\"type\":\"Grid\"},{\"attributes\":{\"line_color\":\"#FA1857\",\"x\":{\"field\":\"x\"},\"y\":{\"field\":\"y\"}},\"id\":\"5425\",\"type\":\"Line\"},{\"attributes\":{\"callback\":null,\"data\":{\"x\":[\"2000\",\"2001\",\"2002\",\"2003\",\"2004\",\"2005\",\"2006\",\"2007\",\"2008\",\"2009\",\"2010\",\"2011\",\"2012\",\"2013\",\"2014\",\"2015\",\"2016\",\"2017\"],\"y\":[56.4096480624582,56.91140883682168,57.44192353385225,58.00503362723879,58.598142772139326,59.21818984292778,59.86162958279785,60.51585399850994,61.17972155336314,61.83778106023187,62.478304438318595,63.09159526396696,63.664439641264124,64.20565620034435,64.70347781963777,65.15542624720327,65.56010632225701,65.92570996932908]},\"selected\":{\"id\":\"5456\",\"type\":\"Selection\"},\"selection_policy\":{\"id\":\"5455\",\"type\":\"UnionRenderers\"}},\"id\":\"5437\",\"type\":\"ColumnDataSource\"},{\"attributes\":{\"fill_alpha\":{\"value\":0.1},\"fill_color\":{\"value\":\"#1f77b4\"},\"line_alpha\":{\"value\":0.1},\"line_color\":{\"value\":\"#1f77b4\"},\"line_width\":{\"value\":3},\"x\":{\"field\":\"x\"},\"y\":{\"field\":\"y\"}},\"id\":\"5485\",\"type\":\"Circle\"},{\"attributes\":{\"axis_label\":\"SP.DYN.LE00.FE.IN\",\"formatter\":{\"id\":\"5433\",\"type\":\"BasicTickFormatter\"},\"ticker\":{\"id\":\"5407\",\"type\":\"BasicTicker\"}},\"id\":\"5406\",\"type\":\"LinearAxis\"},{\"attributes\":{\"data_source\":{\"id\":\"5483\",\"type\":\"ColumnDataSource\"},\"glyph\":{\"id\":\"5484\",\"type\":\"Circle\"},\"hover_glyph\":null,\"muted_glyph\":null,\"nonselection_glyph\":{\"id\":\"5485\",\"type\":\"Circle\"},\"selection_glyph\":null,\"view\":{\"id\":\"5487\",\"type\":\"CDSView\"}},\"id\":\"5486\",\"type\":\"GlyphRenderer\"},{\"attributes\":{\"fill_color\":{\"value\":\"#FA1857\"},\"line_color\":{\"value\":\"#FA1857\"},\"line_width\":{\"value\":3},\"x\":{\"field\":\"x\"},\"y\":{\"field\":\"y\"}},\"id\":\"5438\",\"type\":\"Circle\"},{\"attributes\":{\"callback\":null},\"id\":\"5395\",\"type\":\"DataRange1d\"},{\"attributes\":{\"fill_alpha\":{\"value\":0.1},\"fill_color\":{\"value\":\"#1f77b4\"},\"line_alpha\":{\"value\":0.1},\"line_color\":{\"value\":\"#1f77b4\"},\"line_width\":{\"value\":3},\"x\":{\"field\":\"x\"},\"y\":{\"field\":\"y\"}},\"id\":\"5439\",\"type\":\"Circle\"},{\"attributes\":{\"source\":{\"id\":\"5483\",\"type\":\"ColumnDataSource\"}},\"id\":\"5487\",\"type\":\"CDSView\"},{\"attributes\":{},\"id\":\"5407\",\"type\":\"BasicTicker\"},{\"attributes\":{\"label\":{\"value\":\"OECD\"},\"renderers\":[{\"id\":\"5466\",\"type\":\"GlyphRenderer\"}]},\"id\":\"5482\",\"type\":\"LegendItem\"},{\"attributes\":{\"bottom_units\":\"screen\",\"fill_alpha\":{\"value\":0.5},\"fill_color\":{\"value\":\"lightgrey\"},\"left_units\":\"screen\",\"level\":\"overlay\",\"line_alpha\":{\"value\":1.0},\"line_color\":{\"value\":\"black\"},\"line_dash\":[4,4],\"line_width\":{\"value\":2},\"render_mode\":\"css\",\"right_units\":\"screen\",\"top_units\":\"screen\"},\"id\":\"5434\",\"type\":\"BoxAnnotation\"},{\"attributes\":{\"line_alpha\":0.1,\"line_color\":\"#1f77b4\",\"x\":{\"field\":\"x\"},\"y\":{\"field\":\"y\"}},\"id\":\"5426\",\"type\":\"Line\"},{\"attributes\":{\"items\":[{\"id\":\"5436\",\"type\":\"LegendItem\"},{\"id\":\"5457\",\"type\":\"LegendItem\"},{\"id\":\"5482\",\"type\":\"LegendItem\"}],\"location\":\"bottom_left\"},\"id\":\"5435\",\"type\":\"Legend\"},{\"attributes\":{\"axis_label\":\"Years\",\"formatter\":{\"id\":\"5431\",\"type\":\"BasicTickFormatter\"},\"ticker\":{\"id\":\"5402\",\"type\":\"BasicTicker\"}},\"id\":\"5401\",\"type\":\"LinearAxis\"},{\"attributes\":{\"fill_color\":{\"value\":\"#2CC775\"},\"line_color\":{\"value\":\"#2CC775\"},\"line_width\":{\"value\":3},\"x\":{\"field\":\"x\"},\"y\":{\"field\":\"y\"}},\"id\":\"5484\",\"type\":\"Circle\"},{\"attributes\":{\"label\":{\"value\":\"LDCs\"},\"renderers\":[{\"id\":\"5427\",\"type\":\"GlyphRenderer\"}]},\"id\":\"5436\",\"type\":\"LegendItem\"},{\"attributes\":{\"callback\":null,\"tooltips\":\"                \\n        <div style=padding=5px>Year:@x</div>\\n        <div style=padding=5px>Value:@y</div>        \\n        \"},\"id\":\"5488\",\"type\":\"HoverTool\"},{\"attributes\":{\"callback\":null,\"data\":{\"x\":[\"2000\",\"2001\",\"2002\",\"2003\",\"2004\",\"2005\",\"2006\",\"2007\",\"2008\",\"2009\",\"2010\",\"2011\",\"2012\",\"2013\",\"2014\",\"2015\",\"2016\",\"2017\"],\"y\":[79.93351879418076,80.20290658761989,80.32918832949842,80.39856940465691,80.77521328865518,80.86674990168122,81.1402038786844,81.32381241465296,81.43163205746191,81.62948962454634,81.79594928587568,82.07333933782573,82.11929566013815,82.26555024337196,82.51912432141074,82.35601028400251,82.55037747513924,82.59790657999017]},\"selected\":{\"id\":\"5742\",\"type\":\"Selection\"},\"selection_policy\":{\"id\":\"5741\",\"type\":\"UnionRenderers\"}},\"id\":\"5483\",\"type\":\"ColumnDataSource\"},{\"attributes\":{\"callback\":null,\"data\":{\"x\":[\"2000\",\"2001\",\"2002\",\"2003\",\"2004\",\"2005\",\"2006\",\"2007\",\"2008\",\"2009\",\"2010\",\"2011\",\"2012\",\"2013\",\"2014\",\"2015\",\"2016\",\"2017\"],\"y\":[56.4096480624582,56.91140883682168,57.44192353385225,58.00503362723879,58.598142772139326,59.21818984292778,59.86162958279785,60.51585399850994,61.17972155336314,61.83778106023187,62.478304438318595,63.09159526396696,63.664439641264124,64.20565620034435,64.70347781963777,65.15542624720327,65.56010632225701,65.92570996932908]},\"selected\":{\"id\":\"5454\",\"type\":\"Selection\"},\"selection_policy\":{\"id\":\"5453\",\"type\":\"UnionRenderers\"}},\"id\":\"5424\",\"type\":\"ColumnDataSource\"},{\"attributes\":{\"active_drag\":\"auto\",\"active_inspect\":\"auto\",\"active_multi\":null,\"active_scroll\":\"auto\",\"active_tap\":\"auto\",\"tools\":[{\"id\":\"5411\",\"type\":\"PanTool\"},{\"id\":\"5412\",\"type\":\"WheelZoomTool\"},{\"id\":\"5413\",\"type\":\"BoxZoomTool\"},{\"id\":\"5414\",\"type\":\"SaveTool\"},{\"id\":\"5415\",\"type\":\"ResetTool\"},{\"id\":\"5416\",\"type\":\"HelpTool\"},{\"id\":\"5488\",\"type\":\"HoverTool\"}]},\"id\":\"5417\",\"type\":\"Toolbar\"},{\"attributes\":{},\"id\":\"5412\",\"type\":\"WheelZoomTool\"},{\"attributes\":{},\"id\":\"5433\",\"type\":\"BasicTickFormatter\"},{\"attributes\":{},\"id\":\"5481\",\"type\":\"Selection\"}],\"root_ids\":[\"5390\"]},\"title\":\"Bokeh Application\",\"version\":\"1.3.4\"}};\n",
       "  var render_items = [{\"docid\":\"b56ffe3b-23bd-4a6c-bd2c-e5756282b2a5\",\"roots\":{\"5390\":\"fcb8a115-43f0-4f70-9f2a-c073d7672180\"}}];\n",
       "  root.Bokeh.embed.embed_items_notebook(docs_json, render_items);\n",
       "\n",
       "  }\n",
       "  if (root.Bokeh !== undefined) {\n",
       "    embed_document(root);\n",
       "  } else {\n",
       "    var attempts = 0;\n",
       "    var timer = setInterval(function(root) {\n",
       "      if (root.Bokeh !== undefined) {\n",
       "        embed_document(root);\n",
       "        clearInterval(timer);\n",
       "      }\n",
       "      attempts++;\n",
       "      if (attempts > 100) {\n",
       "        console.log(\"Bokeh: ERROR: Unable to run BokehJS code because BokehJS library is missing\");\n",
       "        clearInterval(timer);\n",
       "      }\n",
       "    }, 10, root)\n",
       "  }\n",
       "})(window);"
      ],
      "application/vnd.bokehjs_exec.v0+json": ""
     },
     "metadata": {
      "application/vnd.bokehjs_exec.v0+json": {
       "id": "5390"
      }
     },
     "output_type": "display_data"
    }
   ],
   "source": [
    "# Female life expectancy\n",
    "years = list(map(str, list(range(2000,2018))))\n",
    "result = show_weighted_average(years, 'SP.DYN.LE00.FE.IN', 'SP.RUR.TOTL', \n",
    "                               ['LDCs', 'Developing excluding LDCs', 'OECD'])"
   ]
  },
  {
   "cell_type": "code",
   "execution_count": 20,
   "metadata": {
    "ExecuteTime": {
     "end_time": "2019-10-25T14:25:33.233720Z",
     "start_time": "2019-10-25T14:25:28.874728Z"
    },
    "slideshow": {
     "slide_type": "slide"
    }
   },
   "outputs": [
    {
     "data": {
      "text/html": [
       "\n",
       "\n",
       "\n",
       "\n",
       "\n",
       "\n",
       "  <div class=\"bk-root\" id=\"1da917fc-0c58-4edc-a527-4d0cf8ee4568\" data-root-id=\"5851\"></div>\n"
      ]
     },
     "metadata": {},
     "output_type": "display_data"
    },
    {
     "data": {
      "application/javascript": [
       "(function(root) {\n",
       "  function embed_document(root) {\n",
       "    \n",
       "  var docs_json = {\"73c5a3a0-9456-40aa-a8b3-6c18b9c970c4\":{\"roots\":{\"references\":[{\"attributes\":{\"below\":[{\"id\":\"5862\",\"type\":\"LinearAxis\"}],\"center\":[{\"id\":\"5866\",\"type\":\"Grid\"},{\"id\":\"5871\",\"type\":\"Grid\"},{\"id\":\"5896\",\"type\":\"Legend\"}],\"left\":[{\"id\":\"5867\",\"type\":\"LinearAxis\"}],\"plot_height\":400,\"plot_width\":800,\"renderers\":[{\"id\":\"5888\",\"type\":\"GlyphRenderer\"},{\"id\":\"5901\",\"type\":\"GlyphRenderer\"},{\"id\":\"5906\",\"type\":\"GlyphRenderer\"},{\"id\":\"5922\",\"type\":\"GlyphRenderer\"}],\"title\":{\"id\":\"5852\",\"type\":\"Title\"},\"toolbar\":{\"id\":\"5878\",\"type\":\"Toolbar\"},\"x_range\":{\"id\":\"5854\",\"type\":\"DataRange1d\"},\"x_scale\":{\"id\":\"5858\",\"type\":\"LinearScale\"},\"y_range\":{\"id\":\"5856\",\"type\":\"DataRange1d\"},\"y_scale\":{\"id\":\"5860\",\"type\":\"LinearScale\"}},\"id\":\"5851\",\"subtype\":\"Figure\",\"type\":\"Plot\"},{\"attributes\":{\"fill_alpha\":{\"value\":0.1},\"fill_color\":{\"value\":\"#1f77b4\"},\"line_alpha\":{\"value\":0.1},\"line_color\":{\"value\":\"#1f77b4\"},\"line_width\":{\"value\":3},\"x\":{\"field\":\"x\"},\"y\":{\"field\":\"y\"}},\"id\":\"5900\",\"type\":\"Circle\"},{\"attributes\":{},\"id\":\"6190\",\"type\":\"Selection\"},{\"attributes\":{\"overlay\":{\"id\":\"5895\",\"type\":\"BoxAnnotation\"}},\"id\":\"5874\",\"type\":\"BoxZoomTool\"},{\"attributes\":{\"source\":{\"id\":\"5885\",\"type\":\"ColumnDataSource\"}},\"id\":\"5889\",\"type\":\"CDSView\"},{\"attributes\":{},\"id\":\"5876\",\"type\":\"ResetTool\"},{\"attributes\":{\"callback\":null},\"id\":\"5856\",\"type\":\"DataRange1d\"},{\"attributes\":{\"data_source\":{\"id\":\"5898\",\"type\":\"ColumnDataSource\"},\"glyph\":{\"id\":\"5899\",\"type\":\"Circle\"},\"hover_glyph\":null,\"muted_glyph\":null,\"nonselection_glyph\":{\"id\":\"5900\",\"type\":\"Circle\"},\"selection_glyph\":null,\"view\":{\"id\":\"5902\",\"type\":\"CDSView\"}},\"id\":\"5901\",\"type\":\"GlyphRenderer\"},{\"attributes\":{\"data_source\":{\"id\":\"5885\",\"type\":\"ColumnDataSource\"},\"glyph\":{\"id\":\"5886\",\"type\":\"Line\"},\"hover_glyph\":null,\"muted_glyph\":null,\"nonselection_glyph\":{\"id\":\"5887\",\"type\":\"Line\"},\"selection_glyph\":null,\"view\":{\"id\":\"5889\",\"type\":\"CDSView\"}},\"id\":\"5888\",\"type\":\"GlyphRenderer\"},{\"attributes\":{},\"id\":\"5868\",\"type\":\"BasicTicker\"},{\"attributes\":{\"line_alpha\":0.1,\"line_color\":\"#1f77b4\",\"x\":{\"field\":\"x\"},\"y\":{\"field\":\"y\"}},\"id\":\"5905\",\"type\":\"Line\"},{\"attributes\":{},\"id\":\"5915\",\"type\":\"Selection\"},{\"attributes\":{\"axis_label\":\"SH.STA.MMRT\",\"formatter\":{\"id\":\"5894\",\"type\":\"BasicTickFormatter\"},\"ticker\":{\"id\":\"5868\",\"type\":\"BasicTicker\"}},\"id\":\"5867\",\"type\":\"LinearAxis\"},{\"attributes\":{},\"id\":\"5858\",\"type\":\"LinearScale\"},{\"attributes\":{\"source\":{\"id\":\"5898\",\"type\":\"ColumnDataSource\"}},\"id\":\"5902\",\"type\":\"CDSView\"},{\"attributes\":{},\"id\":\"5917\",\"type\":\"Selection\"},{\"attributes\":{\"callback\":null,\"data\":{\"x\":[\"2000\",\"2001\",\"2002\",\"2003\",\"2004\",\"2005\",\"2006\",\"2007\",\"2008\",\"2009\",\"2010\",\"2011\",\"2012\",\"2013\",\"2014\",\"2015\",\"2016\",\"2017\"],\"y\":[219.59332239180722,213.79178224882705,206.7101391641294,200.94829957227932,194.47262113081396,186.6900748169621,179.6875283788996,172.88250023278727,167.30998830487772,161.32739957997765,155.26019847197256,149.52928908927956,144.63840989429647,140.54135376423983,137.10987842496655,133.64519145588477,129.98852533210263,127.89498651545217]},\"selected\":{\"id\":\"6192\",\"type\":\"Selection\"},\"selection_policy\":{\"id\":\"6191\",\"type\":\"UnionRenderers\"}},\"id\":\"5919\",\"type\":\"ColumnDataSource\"},{\"attributes\":{\"bottom_units\":\"screen\",\"fill_alpha\":{\"value\":0.5},\"fill_color\":{\"value\":\"lightgrey\"},\"left_units\":\"screen\",\"level\":\"overlay\",\"line_alpha\":{\"value\":1.0},\"line_color\":{\"value\":\"black\"},\"line_dash\":[4,4],\"line_width\":{\"value\":2},\"render_mode\":\"css\",\"right_units\":\"screen\",\"top_units\":\"screen\"},\"id\":\"5895\",\"type\":\"BoxAnnotation\"},{\"attributes\":{\"callback\":null},\"id\":\"5854\",\"type\":\"DataRange1d\"},{\"attributes\":{},\"id\":\"5872\",\"type\":\"PanTool\"},{\"attributes\":{\"fill_color\":{\"value\":\"#FA1857\"},\"line_color\":{\"value\":\"#FA1857\"},\"line_width\":{\"value\":3},\"x\":{\"field\":\"x\"},\"y\":{\"field\":\"y\"}},\"id\":\"5899\",\"type\":\"Circle\"},{\"attributes\":{\"data_source\":{\"id\":\"5903\",\"type\":\"ColumnDataSource\"},\"glyph\":{\"id\":\"5904\",\"type\":\"Line\"},\"hover_glyph\":null,\"muted_glyph\":null,\"nonselection_glyph\":{\"id\":\"5905\",\"type\":\"Line\"},\"selection_glyph\":null,\"view\":{\"id\":\"5907\",\"type\":\"CDSView\"}},\"id\":\"5906\",\"type\":\"GlyphRenderer\"},{\"attributes\":{\"dimension\":1,\"grid_line_alpha\":0.5,\"ticker\":{\"id\":\"5868\",\"type\":\"BasicTicker\"}},\"id\":\"5871\",\"type\":\"Grid\"},{\"attributes\":{\"source\":{\"id\":\"5919\",\"type\":\"ColumnDataSource\"}},\"id\":\"5923\",\"type\":\"CDSView\"},{\"attributes\":{},\"id\":\"5860\",\"type\":\"LinearScale\"},{\"attributes\":{},\"id\":\"6189\",\"type\":\"UnionRenderers\"},{\"attributes\":{},\"id\":\"5892\",\"type\":\"BasicTickFormatter\"},{\"attributes\":{\"label\":{\"value\":\"Developing excluding LDCs\"},\"renderers\":[{\"id\":\"5906\",\"type\":\"GlyphRenderer\"}]},\"id\":\"5918\",\"type\":\"LegendItem\"},{\"attributes\":{},\"id\":\"6191\",\"type\":\"UnionRenderers\"},{\"attributes\":{\"grid_line_color\":null,\"ticker\":{\"id\":\"5863\",\"type\":\"BasicTicker\"}},\"id\":\"5866\",\"type\":\"Grid\"},{\"attributes\":{\"line_color\":\"#FA1857\",\"x\":{\"field\":\"x\"},\"y\":{\"field\":\"y\"}},\"id\":\"5886\",\"type\":\"Line\"},{\"attributes\":{\"source\":{\"id\":\"5903\",\"type\":\"ColumnDataSource\"}},\"id\":\"5907\",\"type\":\"CDSView\"},{\"attributes\":{\"fill_alpha\":{\"value\":0.1},\"fill_color\":{\"value\":\"#1f77b4\"},\"line_alpha\":{\"value\":0.1},\"line_color\":{\"value\":\"#1f77b4\"},\"line_width\":{\"value\":3},\"x\":{\"field\":\"x\"},\"y\":{\"field\":\"y\"}},\"id\":\"5921\",\"type\":\"Circle\"},{\"attributes\":{},\"id\":\"5877\",\"type\":\"HelpTool\"},{\"attributes\":{\"label\":{\"value\":\"LDCs\"},\"renderers\":[{\"id\":\"5888\",\"type\":\"GlyphRenderer\"}]},\"id\":\"5897\",\"type\":\"LegendItem\"},{\"attributes\":{\"text\":\"Maternal mortality ratio (modeled estimate, per 100,000 live births) weighted against Population, female\"},\"id\":\"5852\",\"type\":\"Title\"},{\"attributes\":{\"line_alpha\":0.1,\"line_color\":\"#1f77b4\",\"x\":{\"field\":\"x\"},\"y\":{\"field\":\"y\"}},\"id\":\"5887\",\"type\":\"Line\"},{\"attributes\":{\"axis_label\":\"Years\",\"formatter\":{\"id\":\"5892\",\"type\":\"BasicTickFormatter\"},\"ticker\":{\"id\":\"5863\",\"type\":\"BasicTicker\"}},\"id\":\"5862\",\"type\":\"LinearAxis\"},{\"attributes\":{},\"id\":\"5914\",\"type\":\"UnionRenderers\"},{\"attributes\":{},\"id\":\"5875\",\"type\":\"SaveTool\"},{\"attributes\":{\"items\":[{\"id\":\"5897\",\"type\":\"LegendItem\"},{\"id\":\"5918\",\"type\":\"LegendItem\"}],\"location\":\"bottom_left\"},\"id\":\"5896\",\"type\":\"Legend\"},{\"attributes\":{\"callback\":null,\"tooltips\":\"                \\n        <div style=padding=5px>Year:@x</div>\\n        <div style=padding=5px>Value:@y</div>        \\n        \"},\"id\":\"5924\",\"type\":\"HoverTool\"},{\"attributes\":{\"callback\":null,\"data\":{\"x\":[\"2000\",\"2001\",\"2002\",\"2003\",\"2004\",\"2005\",\"2006\",\"2007\",\"2008\",\"2009\",\"2010\",\"2011\",\"2012\",\"2013\",\"2014\",\"2015\",\"2016\",\"2017\"],\"y\":[219.59332239180722,213.79178224882705,206.7101391641294,200.94829957227932,194.47262113081396,186.6900748169621,179.6875283788996,172.88250023278727,167.30998830487772,161.32739957997765,155.26019847197256,149.52928908927956,144.63840989429647,140.54135376423983,137.10987842496655,133.64519145588477,129.98852533210263,127.89498651545217]},\"selected\":{\"id\":\"6190\",\"type\":\"Selection\"},\"selection_policy\":{\"id\":\"6189\",\"type\":\"UnionRenderers\"}},\"id\":\"5903\",\"type\":\"ColumnDataSource\"},{\"attributes\":{\"callback\":null,\"data\":{\"x\":[\"2000\",\"2001\",\"2002\",\"2003\",\"2004\",\"2005\",\"2006\",\"2007\",\"2008\",\"2009\",\"2010\",\"2011\",\"2012\",\"2013\",\"2014\",\"2015\",\"2016\",\"2017\"],\"y\":[707.531739364374,683.283841045393,664.7414975773867,642.2893584675744,617.168252539152,585.3156477244164,558.0368400964686,533.8385872165519,513.0331627922752,494.0011262280731,475.11407864456663,457.69536641876675,442.6467497166802,428.52376993081737,415.93865365234706,401.1090399695652,387.80267341348326,376.40298034245205]},\"selected\":{\"id\":\"5917\",\"type\":\"Selection\"},\"selection_policy\":{\"id\":\"5916\",\"type\":\"UnionRenderers\"}},\"id\":\"5898\",\"type\":\"ColumnDataSource\"},{\"attributes\":{\"data_source\":{\"id\":\"5919\",\"type\":\"ColumnDataSource\"},\"glyph\":{\"id\":\"5920\",\"type\":\"Circle\"},\"hover_glyph\":null,\"muted_glyph\":null,\"nonselection_glyph\":{\"id\":\"5921\",\"type\":\"Circle\"},\"selection_glyph\":null,\"view\":{\"id\":\"5923\",\"type\":\"CDSView\"}},\"id\":\"5922\",\"type\":\"GlyphRenderer\"},{\"attributes\":{\"line_color\":\"#5430F1\",\"x\":{\"field\":\"x\"},\"y\":{\"field\":\"y\"}},\"id\":\"5904\",\"type\":\"Line\"},{\"attributes\":{\"active_drag\":\"auto\",\"active_inspect\":\"auto\",\"active_multi\":null,\"active_scroll\":\"auto\",\"active_tap\":\"auto\",\"tools\":[{\"id\":\"5872\",\"type\":\"PanTool\"},{\"id\":\"5873\",\"type\":\"WheelZoomTool\"},{\"id\":\"5874\",\"type\":\"BoxZoomTool\"},{\"id\":\"5875\",\"type\":\"SaveTool\"},{\"id\":\"5876\",\"type\":\"ResetTool\"},{\"id\":\"5877\",\"type\":\"HelpTool\"},{\"id\":\"5924\",\"type\":\"HoverTool\"}]},\"id\":\"5878\",\"type\":\"Toolbar\"},{\"attributes\":{},\"id\":\"6192\",\"type\":\"Selection\"},{\"attributes\":{},\"id\":\"5863\",\"type\":\"BasicTicker\"},{\"attributes\":{},\"id\":\"5894\",\"type\":\"BasicTickFormatter\"},{\"attributes\":{\"fill_color\":{\"value\":\"#5430F1\"},\"line_color\":{\"value\":\"#5430F1\"},\"line_width\":{\"value\":3},\"x\":{\"field\":\"x\"},\"y\":{\"field\":\"y\"}},\"id\":\"5920\",\"type\":\"Circle\"},{\"attributes\":{},\"id\":\"5916\",\"type\":\"UnionRenderers\"},{\"attributes\":{},\"id\":\"5873\",\"type\":\"WheelZoomTool\"},{\"attributes\":{\"callback\":null,\"data\":{\"x\":[\"2000\",\"2001\",\"2002\",\"2003\",\"2004\",\"2005\",\"2006\",\"2007\",\"2008\",\"2009\",\"2010\",\"2011\",\"2012\",\"2013\",\"2014\",\"2015\",\"2016\",\"2017\"],\"y\":[707.531739364374,683.283841045393,664.7414975773867,642.2893584675744,617.168252539152,585.3156477244164,558.0368400964686,533.8385872165519,513.0331627922752,494.0011262280731,475.11407864456663,457.69536641876675,442.6467497166802,428.52376993081737,415.93865365234706,401.1090399695652,387.80267341348326,376.40298034245205]},\"selected\":{\"id\":\"5915\",\"type\":\"Selection\"},\"selection_policy\":{\"id\":\"5914\",\"type\":\"UnionRenderers\"}},\"id\":\"5885\",\"type\":\"ColumnDataSource\"}],\"root_ids\":[\"5851\"]},\"title\":\"Bokeh Application\",\"version\":\"1.3.4\"}};\n",
       "  var render_items = [{\"docid\":\"73c5a3a0-9456-40aa-a8b3-6c18b9c970c4\",\"roots\":{\"5851\":\"1da917fc-0c58-4edc-a527-4d0cf8ee4568\"}}];\n",
       "  root.Bokeh.embed.embed_items_notebook(docs_json, render_items);\n",
       "\n",
       "  }\n",
       "  if (root.Bokeh !== undefined) {\n",
       "    embed_document(root);\n",
       "  } else {\n",
       "    var attempts = 0;\n",
       "    var timer = setInterval(function(root) {\n",
       "      if (root.Bokeh !== undefined) {\n",
       "        embed_document(root);\n",
       "        clearInterval(timer);\n",
       "      }\n",
       "      attempts++;\n",
       "      if (attempts > 100) {\n",
       "        console.log(\"Bokeh: ERROR: Unable to run BokehJS code because BokehJS library is missing\");\n",
       "        clearInterval(timer);\n",
       "      }\n",
       "    }, 10, root)\n",
       "  }\n",
       "})(window);"
      ],
      "application/vnd.bokehjs_exec.v0+json": ""
     },
     "metadata": {
      "application/vnd.bokehjs_exec.v0+json": {
       "id": "5851"
      }
     },
     "output_type": "display_data"
    }
   ],
   "source": [
    "# Maternal mortality ratio\n",
    "years = list(map(str, list(range(2000,2018))))\n",
    "result = show_weighted_average(years, 'SH.STA.MMRT', 'SP.POP.TOTL.FE.IN', ['LDCs', 'Developing excluding LDCs'])"
   ]
  },
  {
   "cell_type": "code",
   "execution_count": 21,
   "metadata": {
    "ExecuteTime": {
     "end_time": "2019-10-25T14:25:37.466675Z",
     "start_time": "2019-10-25T14:25:33.236157Z"
    },
    "slideshow": {
     "slide_type": "slide"
    }
   },
   "outputs": [
    {
     "data": {
      "text/html": [
       "\n",
       "\n",
       "\n",
       "\n",
       "\n",
       "\n",
       "  <div class=\"bk-root\" id=\"a543e49e-c00d-469d-b8cb-09ccba618539\" data-root-id=\"6277\"></div>\n"
      ]
     },
     "metadata": {},
     "output_type": "display_data"
    },
    {
     "data": {
      "application/javascript": [
       "(function(root) {\n",
       "  function embed_document(root) {\n",
       "    \n",
       "  var docs_json = {\"fbf2d2e5-fae9-4869-b07d-45e01878091c\":{\"roots\":{\"references\":[{\"attributes\":{\"below\":[{\"id\":\"6288\",\"type\":\"LinearAxis\"}],\"center\":[{\"id\":\"6292\",\"type\":\"Grid\"},{\"id\":\"6297\",\"type\":\"Grid\"},{\"id\":\"6322\",\"type\":\"Legend\"}],\"left\":[{\"id\":\"6293\",\"type\":\"LinearAxis\"}],\"plot_height\":400,\"plot_width\":800,\"renderers\":[{\"id\":\"6314\",\"type\":\"GlyphRenderer\"},{\"id\":\"6327\",\"type\":\"GlyphRenderer\"},{\"id\":\"6332\",\"type\":\"GlyphRenderer\"},{\"id\":\"6348\",\"type\":\"GlyphRenderer\"}],\"title\":{\"id\":\"6278\",\"type\":\"Title\"},\"toolbar\":{\"id\":\"6304\",\"type\":\"Toolbar\"},\"x_range\":{\"id\":\"6280\",\"type\":\"DataRange1d\"},\"x_scale\":{\"id\":\"6284\",\"type\":\"LinearScale\"},\"y_range\":{\"id\":\"6282\",\"type\":\"DataRange1d\"},\"y_scale\":{\"id\":\"6286\",\"type\":\"LinearScale\"}},\"id\":\"6277\",\"subtype\":\"Figure\",\"type\":\"Plot\"},{\"attributes\":{\"fill_color\":{\"value\":\"#5430F1\"},\"line_color\":{\"value\":\"#5430F1\"},\"line_width\":{\"value\":3},\"x\":{\"field\":\"x\"},\"y\":{\"field\":\"y\"}},\"id\":\"6346\",\"type\":\"Circle\"},{\"attributes\":{\"active_drag\":\"auto\",\"active_inspect\":\"auto\",\"active_multi\":null,\"active_scroll\":\"auto\",\"active_tap\":\"auto\",\"tools\":[{\"id\":\"6298\",\"type\":\"PanTool\"},{\"id\":\"6299\",\"type\":\"WheelZoomTool\"},{\"id\":\"6300\",\"type\":\"BoxZoomTool\"},{\"id\":\"6301\",\"type\":\"SaveTool\"},{\"id\":\"6302\",\"type\":\"ResetTool\"},{\"id\":\"6303\",\"type\":\"HelpTool\"},{\"id\":\"6350\",\"type\":\"HoverTool\"}]},\"id\":\"6304\",\"type\":\"Toolbar\"},{\"attributes\":{\"callback\":null},\"id\":\"6282\",\"type\":\"DataRange1d\"},{\"attributes\":{\"line_alpha\":0.1,\"line_color\":\"#1f77b4\",\"x\":{\"field\":\"x\"},\"y\":{\"field\":\"y\"}},\"id\":\"6313\",\"type\":\"Line\"},{\"attributes\":{},\"id\":\"6340\",\"type\":\"UnionRenderers\"},{\"attributes\":{},\"id\":\"6284\",\"type\":\"LinearScale\"},{\"attributes\":{\"callback\":null,\"data\":{\"x\":[\"2000\",\"2001\",\"2002\",\"2003\",\"2004\",\"2005\",\"2006\",\"2007\",\"2008\",\"2009\",\"2010\",\"2011\",\"2012\",\"2013\",\"2014\",\"2015\",\"2016\",\"2017\"],\"y\":[45.78578383486713,44.031337681921,42.299199545339675,40.54757027872643,38.98089862139654,37.254607293482884,35.73002700694259,34.25452486812492,32.831847885572984,31.511479629869857,30.239629828962936,29.032021703430917,27.851114277234785,26.780028383299534,25.710035808823015,24.679313694191894,23.770222266419392,22.83221285696215]},\"selected\":{\"id\":\"6632\",\"type\":\"Selection\"},\"selection_policy\":{\"id\":\"6631\",\"type\":\"UnionRenderers\"}},\"id\":\"6345\",\"type\":\"ColumnDataSource\"},{\"attributes\":{\"data_source\":{\"id\":\"6311\",\"type\":\"ColumnDataSource\"},\"glyph\":{\"id\":\"6312\",\"type\":\"Line\"},\"hover_glyph\":null,\"muted_glyph\":null,\"nonselection_glyph\":{\"id\":\"6313\",\"type\":\"Line\"},\"selection_glyph\":null,\"view\":{\"id\":\"6315\",\"type\":\"CDSView\"}},\"id\":\"6314\",\"type\":\"GlyphRenderer\"},{\"attributes\":{},\"id\":\"6341\",\"type\":\"Selection\"},{\"attributes\":{},\"id\":\"6286\",\"type\":\"LinearScale\"},{\"attributes\":{\"source\":{\"id\":\"6311\",\"type\":\"ColumnDataSource\"}},\"id\":\"6315\",\"type\":\"CDSView\"},{\"attributes\":{},\"id\":\"6342\",\"type\":\"UnionRenderers\"},{\"attributes\":{\"axis_label\":\"Years\",\"formatter\":{\"id\":\"6318\",\"type\":\"BasicTickFormatter\"},\"ticker\":{\"id\":\"6289\",\"type\":\"BasicTicker\"}},\"id\":\"6288\",\"type\":\"LinearAxis\"},{\"attributes\":{},\"id\":\"6343\",\"type\":\"Selection\"},{\"attributes\":{},\"id\":\"6289\",\"type\":\"BasicTicker\"},{\"attributes\":{},\"id\":\"6320\",\"type\":\"BasicTickFormatter\"},{\"attributes\":{\"grid_line_color\":null,\"ticker\":{\"id\":\"6289\",\"type\":\"BasicTicker\"}},\"id\":\"6292\",\"type\":\"Grid\"},{\"attributes\":{\"bottom_units\":\"screen\",\"fill_alpha\":{\"value\":0.5},\"fill_color\":{\"value\":\"lightgrey\"},\"left_units\":\"screen\",\"level\":\"overlay\",\"line_alpha\":{\"value\":1.0},\"line_color\":{\"value\":\"black\"},\"line_dash\":[4,4],\"line_width\":{\"value\":2},\"render_mode\":\"css\",\"right_units\":\"screen\",\"top_units\":\"screen\"},\"id\":\"6321\",\"type\":\"BoxAnnotation\"},{\"attributes\":{\"items\":[{\"id\":\"6323\",\"type\":\"LegendItem\"},{\"id\":\"6344\",\"type\":\"LegendItem\"}],\"location\":\"bottom_left\"},\"id\":\"6322\",\"type\":\"Legend\"},{\"attributes\":{\"axis_label\":\"SP.DYN.IMRT.IN\",\"formatter\":{\"id\":\"6320\",\"type\":\"BasicTickFormatter\"},\"ticker\":{\"id\":\"6294\",\"type\":\"BasicTicker\"}},\"id\":\"6293\",\"type\":\"LinearAxis\"},{\"attributes\":{\"label\":{\"value\":\"LDCs\"},\"renderers\":[{\"id\":\"6314\",\"type\":\"GlyphRenderer\"}]},\"id\":\"6323\",\"type\":\"LegendItem\"},{\"attributes\":{},\"id\":\"6294\",\"type\":\"BasicTicker\"},{\"attributes\":{\"callback\":null,\"data\":{\"x\":[\"2000\",\"2001\",\"2002\",\"2003\",\"2004\",\"2005\",\"2006\",\"2007\",\"2008\",\"2009\",\"2010\",\"2011\",\"2012\",\"2013\",\"2014\",\"2015\",\"2016\",\"2017\"],\"y\":[81.69737664551816,78.7776742491001,75.79362231840066,72.85366195554936,69.98405325689488,67.2302438001353,64.64697239792967,62.09970211682473,59.955823257655744,57.44271974761365,55.609782399199666,53.204853479803546,51.33747517746826,49.57214439495452,47.923201331929235,46.39163855174094,44.93241266562697,43.528829212630185]},\"selected\":{\"id\":\"6343\",\"type\":\"Selection\"},\"selection_policy\":{\"id\":\"6342\",\"type\":\"UnionRenderers\"}},\"id\":\"6324\",\"type\":\"ColumnDataSource\"},{\"attributes\":{\"dimension\":1,\"grid_line_alpha\":0.5,\"ticker\":{\"id\":\"6294\",\"type\":\"BasicTicker\"}},\"id\":\"6297\",\"type\":\"Grid\"},{\"attributes\":{\"fill_color\":{\"value\":\"#FA1857\"},\"line_color\":{\"value\":\"#FA1857\"},\"line_width\":{\"value\":3},\"x\":{\"field\":\"x\"},\"y\":{\"field\":\"y\"}},\"id\":\"6325\",\"type\":\"Circle\"},{\"attributes\":{},\"id\":\"6630\",\"type\":\"Selection\"},{\"attributes\":{\"fill_alpha\":{\"value\":0.1},\"fill_color\":{\"value\":\"#1f77b4\"},\"line_alpha\":{\"value\":0.1},\"line_color\":{\"value\":\"#1f77b4\"},\"line_width\":{\"value\":3},\"x\":{\"field\":\"x\"},\"y\":{\"field\":\"y\"}},\"id\":\"6347\",\"type\":\"Circle\"},{\"attributes\":{\"fill_alpha\":{\"value\":0.1},\"fill_color\":{\"value\":\"#1f77b4\"},\"line_alpha\":{\"value\":0.1},\"line_color\":{\"value\":\"#1f77b4\"},\"line_width\":{\"value\":3},\"x\":{\"field\":\"x\"},\"y\":{\"field\":\"y\"}},\"id\":\"6326\",\"type\":\"Circle\"},{\"attributes\":{\"callback\":null,\"data\":{\"x\":[\"2000\",\"2001\",\"2002\",\"2003\",\"2004\",\"2005\",\"2006\",\"2007\",\"2008\",\"2009\",\"2010\",\"2011\",\"2012\",\"2013\",\"2014\",\"2015\",\"2016\",\"2017\"],\"y\":[81.69737664551816,78.7776742491001,75.79362231840066,72.85366195554936,69.98405325689488,67.2302438001353,64.64697239792967,62.09970211682473,59.955823257655744,57.44271974761365,55.609782399199666,53.204853479803546,51.33747517746826,49.57214439495452,47.923201331929235,46.39163855174094,44.93241266562697,43.528829212630185]},\"selected\":{\"id\":\"6341\",\"type\":\"Selection\"},\"selection_policy\":{\"id\":\"6340\",\"type\":\"UnionRenderers\"}},\"id\":\"6311\",\"type\":\"ColumnDataSource\"},{\"attributes\":{\"data_source\":{\"id\":\"6324\",\"type\":\"ColumnDataSource\"},\"glyph\":{\"id\":\"6325\",\"type\":\"Circle\"},\"hover_glyph\":null,\"muted_glyph\":null,\"nonselection_glyph\":{\"id\":\"6326\",\"type\":\"Circle\"},\"selection_glyph\":null,\"view\":{\"id\":\"6328\",\"type\":\"CDSView\"}},\"id\":\"6327\",\"type\":\"GlyphRenderer\"},{\"attributes\":{\"source\":{\"id\":\"6345\",\"type\":\"ColumnDataSource\"}},\"id\":\"6349\",\"type\":\"CDSView\"},{\"attributes\":{},\"id\":\"6298\",\"type\":\"PanTool\"},{\"attributes\":{\"source\":{\"id\":\"6324\",\"type\":\"ColumnDataSource\"}},\"id\":\"6328\",\"type\":\"CDSView\"},{\"attributes\":{},\"id\":\"6629\",\"type\":\"UnionRenderers\"},{\"attributes\":{},\"id\":\"6299\",\"type\":\"WheelZoomTool\"},{\"attributes\":{},\"id\":\"6318\",\"type\":\"BasicTickFormatter\"},{\"attributes\":{\"callback\":null,\"data\":{\"x\":[\"2000\",\"2001\",\"2002\",\"2003\",\"2004\",\"2005\",\"2006\",\"2007\",\"2008\",\"2009\",\"2010\",\"2011\",\"2012\",\"2013\",\"2014\",\"2015\",\"2016\",\"2017\"],\"y\":[45.78578383486713,44.031337681921,42.299199545339675,40.54757027872643,38.98089862139654,37.254607293482884,35.73002700694259,34.25452486812492,32.831847885572984,31.511479629869857,30.239629828962936,29.032021703430917,27.851114277234785,26.780028383299534,25.710035808823015,24.679313694191894,23.770222266419392,22.83221285696215]},\"selected\":{\"id\":\"6630\",\"type\":\"Selection\"},\"selection_policy\":{\"id\":\"6629\",\"type\":\"UnionRenderers\"}},\"id\":\"6329\",\"type\":\"ColumnDataSource\"},{\"attributes\":{\"line_color\":\"#FA1857\",\"x\":{\"field\":\"x\"},\"y\":{\"field\":\"y\"}},\"id\":\"6312\",\"type\":\"Line\"},{\"attributes\":{\"overlay\":{\"id\":\"6321\",\"type\":\"BoxAnnotation\"}},\"id\":\"6300\",\"type\":\"BoxZoomTool\"},{\"attributes\":{\"line_color\":\"#5430F1\",\"x\":{\"field\":\"x\"},\"y\":{\"field\":\"y\"}},\"id\":\"6330\",\"type\":\"Line\"},{\"attributes\":{},\"id\":\"6632\",\"type\":\"Selection\"},{\"attributes\":{},\"id\":\"6301\",\"type\":\"SaveTool\"},{\"attributes\":{\"data_source\":{\"id\":\"6345\",\"type\":\"ColumnDataSource\"},\"glyph\":{\"id\":\"6346\",\"type\":\"Circle\"},\"hover_glyph\":null,\"muted_glyph\":null,\"nonselection_glyph\":{\"id\":\"6347\",\"type\":\"Circle\"},\"selection_glyph\":null,\"view\":{\"id\":\"6349\",\"type\":\"CDSView\"}},\"id\":\"6348\",\"type\":\"GlyphRenderer\"},{\"attributes\":{\"callback\":null,\"tooltips\":\"                \\n        <div style=padding=5px>Year:@x</div>\\n        <div style=padding=5px>Value:@y</div>        \\n        \"},\"id\":\"6350\",\"type\":\"HoverTool\"},{\"attributes\":{\"text\":\"Mortality rate, infant (per 1,000 live births) weighted against Population, total\"},\"id\":\"6278\",\"type\":\"Title\"},{\"attributes\":{\"line_alpha\":0.1,\"line_color\":\"#1f77b4\",\"x\":{\"field\":\"x\"},\"y\":{\"field\":\"y\"}},\"id\":\"6331\",\"type\":\"Line\"},{\"attributes\":{},\"id\":\"6302\",\"type\":\"ResetTool\"},{\"attributes\":{\"label\":{\"value\":\"Developing excluding LDCs\"},\"renderers\":[{\"id\":\"6332\",\"type\":\"GlyphRenderer\"}]},\"id\":\"6344\",\"type\":\"LegendItem\"},{\"attributes\":{\"data_source\":{\"id\":\"6329\",\"type\":\"ColumnDataSource\"},\"glyph\":{\"id\":\"6330\",\"type\":\"Line\"},\"hover_glyph\":null,\"muted_glyph\":null,\"nonselection_glyph\":{\"id\":\"6331\",\"type\":\"Line\"},\"selection_glyph\":null,\"view\":{\"id\":\"6333\",\"type\":\"CDSView\"}},\"id\":\"6332\",\"type\":\"GlyphRenderer\"},{\"attributes\":{},\"id\":\"6631\",\"type\":\"UnionRenderers\"},{\"attributes\":{\"callback\":null},\"id\":\"6280\",\"type\":\"DataRange1d\"},{\"attributes\":{},\"id\":\"6303\",\"type\":\"HelpTool\"},{\"attributes\":{\"source\":{\"id\":\"6329\",\"type\":\"ColumnDataSource\"}},\"id\":\"6333\",\"type\":\"CDSView\"}],\"root_ids\":[\"6277\"]},\"title\":\"Bokeh Application\",\"version\":\"1.3.4\"}};\n",
       "  var render_items = [{\"docid\":\"fbf2d2e5-fae9-4869-b07d-45e01878091c\",\"roots\":{\"6277\":\"a543e49e-c00d-469d-b8cb-09ccba618539\"}}];\n",
       "  root.Bokeh.embed.embed_items_notebook(docs_json, render_items);\n",
       "\n",
       "  }\n",
       "  if (root.Bokeh !== undefined) {\n",
       "    embed_document(root);\n",
       "  } else {\n",
       "    var attempts = 0;\n",
       "    var timer = setInterval(function(root) {\n",
       "      if (root.Bokeh !== undefined) {\n",
       "        embed_document(root);\n",
       "        clearInterval(timer);\n",
       "      }\n",
       "      attempts++;\n",
       "      if (attempts > 100) {\n",
       "        console.log(\"Bokeh: ERROR: Unable to run BokehJS code because BokehJS library is missing\");\n",
       "        clearInterval(timer);\n",
       "      }\n",
       "    }, 10, root)\n",
       "  }\n",
       "})(window);"
      ],
      "application/vnd.bokehjs_exec.v0+json": ""
     },
     "metadata": {
      "application/vnd.bokehjs_exec.v0+json": {
       "id": "6277"
      }
     },
     "output_type": "display_data"
    }
   ],
   "source": [
    "# Infant mortality rate\n",
    "years = list(map(str, list(range(2000,2018))))\n",
    "result = show_weighted_average(years, 'SP.DYN.IMRT.IN', 'SP.POP.TOTL', ['LDCs', 'Developing excluding LDCs'])"
   ]
  },
  {
   "cell_type": "markdown",
   "metadata": {
    "slideshow": {
     "slide_type": "slide"
    }
   },
   "source": [
    "# Education and training"
   ]
  },
  {
   "cell_type": "code",
   "execution_count": 22,
   "metadata": {
    "slideshow": {
     "slide_type": "slide"
    }
   },
   "outputs": [
    {
     "data": {
      "text/html": [
       "\n",
       "\n",
       "\n",
       "\n",
       "\n",
       "\n",
       "  <div class=\"bk-root\" id=\"9fda257e-4c64-44ea-bcd2-9cd195b7ec01\" data-root-id=\"6717\"></div>\n"
      ]
     },
     "metadata": {},
     "output_type": "display_data"
    },
    {
     "data": {
      "application/javascript": [
       "(function(root) {\n",
       "  function embed_document(root) {\n",
       "    \n",
       "  var docs_json = {\"9e9053f1-8c9a-4339-80f1-05bf717c45f3\":{\"roots\":{\"references\":[{\"attributes\":{\"below\":[{\"id\":\"6728\",\"type\":\"LinearAxis\"}],\"center\":[{\"id\":\"6732\",\"type\":\"Grid\"},{\"id\":\"6737\",\"type\":\"Grid\"},{\"id\":\"6762\",\"type\":\"Legend\"}],\"left\":[{\"id\":\"6733\",\"type\":\"LinearAxis\"}],\"plot_height\":400,\"plot_width\":800,\"renderers\":[{\"id\":\"6754\",\"type\":\"GlyphRenderer\"},{\"id\":\"6767\",\"type\":\"GlyphRenderer\"}],\"title\":{\"id\":\"6718\",\"type\":\"Title\"},\"toolbar\":{\"id\":\"6744\",\"type\":\"Toolbar\"},\"x_range\":{\"id\":\"6720\",\"type\":\"DataRange1d\"},\"x_scale\":{\"id\":\"6724\",\"type\":\"LinearScale\"},\"y_range\":{\"id\":\"6722\",\"type\":\"DataRange1d\"},\"y_scale\":{\"id\":\"6726\",\"type\":\"LinearScale\"}},\"id\":\"6717\",\"subtype\":\"Figure\",\"type\":\"Plot\"},{\"attributes\":{},\"id\":\"6760\",\"type\":\"BasicTickFormatter\"},{\"attributes\":{\"line_color\":\"#FA1857\",\"x\":{\"field\":\"x\"},\"y\":{\"field\":\"y\"}},\"id\":\"6752\",\"type\":\"Line\"},{\"attributes\":{\"source\":{\"id\":\"6751\",\"type\":\"ColumnDataSource\"}},\"id\":\"6755\",\"type\":\"CDSView\"},{\"attributes\":{\"callback\":null,\"data\":{\"x\":[\"2011\",\"2016\"],\"y\":[102.40504842979927,101.785654111482]},\"selected\":{\"id\":\"7061\",\"type\":\"Selection\"},\"selection_policy\":{\"id\":\"7060\",\"type\":\"UnionRenderers\"}},\"id\":\"6764\",\"type\":\"ColumnDataSource\"},{\"attributes\":{\"axis_label\":\"SE.PRM.ENRR\",\"formatter\":{\"id\":\"6760\",\"type\":\"BasicTickFormatter\"},\"ticker\":{\"id\":\"6734\",\"type\":\"BasicTicker\"}},\"id\":\"6733\",\"type\":\"LinearAxis\"},{\"attributes\":{\"fill_alpha\":{\"value\":0.1},\"fill_color\":{\"value\":\"#1f77b4\"},\"line_alpha\":{\"value\":0.1},\"line_color\":{\"value\":\"#1f77b4\"},\"line_width\":{\"value\":3},\"x\":{\"field\":\"x\"},\"y\":{\"field\":\"y\"}},\"id\":\"6766\",\"type\":\"Circle\"},{\"attributes\":{},\"id\":\"6742\",\"type\":\"ResetTool\"},{\"attributes\":{},\"id\":\"7058\",\"type\":\"UnionRenderers\"},{\"attributes\":{\"active_drag\":\"auto\",\"active_inspect\":\"auto\",\"active_multi\":null,\"active_scroll\":\"auto\",\"active_tap\":\"auto\",\"tools\":[{\"id\":\"6738\",\"type\":\"PanTool\"},{\"id\":\"6739\",\"type\":\"WheelZoomTool\"},{\"id\":\"6740\",\"type\":\"BoxZoomTool\"},{\"id\":\"6741\",\"type\":\"SaveTool\"},{\"id\":\"6742\",\"type\":\"ResetTool\"},{\"id\":\"6743\",\"type\":\"HelpTool\"},{\"id\":\"6769\",\"type\":\"HoverTool\"}]},\"id\":\"6744\",\"type\":\"Toolbar\"},{\"attributes\":{\"callback\":null},\"id\":\"6720\",\"type\":\"DataRange1d\"},{\"attributes\":{},\"id\":\"7061\",\"type\":\"Selection\"},{\"attributes\":{\"callback\":null,\"tooltips\":\"                \\n        <div style=padding=5px>Year:@x</div>\\n        <div style=padding=5px>Value:@y</div>        \\n        \"},\"id\":\"6769\",\"type\":\"HoverTool\"},{\"attributes\":{},\"id\":\"7059\",\"type\":\"Selection\"},{\"attributes\":{\"bottom_units\":\"screen\",\"fill_alpha\":{\"value\":0.5},\"fill_color\":{\"value\":\"lightgrey\"},\"left_units\":\"screen\",\"level\":\"overlay\",\"line_alpha\":{\"value\":1.0},\"line_color\":{\"value\":\"black\"},\"line_dash\":[4,4],\"line_width\":{\"value\":2},\"render_mode\":\"css\",\"right_units\":\"screen\",\"top_units\":\"screen\"},\"id\":\"6761\",\"type\":\"BoxAnnotation\"},{\"attributes\":{\"axis_label\":\"Years\",\"formatter\":{\"id\":\"6758\",\"type\":\"BasicTickFormatter\"},\"ticker\":{\"id\":\"6729\",\"type\":\"BasicTicker\"}},\"id\":\"6728\",\"type\":\"LinearAxis\"},{\"attributes\":{},\"id\":\"6743\",\"type\":\"HelpTool\"},{\"attributes\":{\"label\":{\"value\":\"LDCs\"},\"renderers\":[{\"id\":\"6754\",\"type\":\"GlyphRenderer\"}]},\"id\":\"6763\",\"type\":\"LegendItem\"},{\"attributes\":{\"callback\":null},\"id\":\"6722\",\"type\":\"DataRange1d\"},{\"attributes\":{},\"id\":\"7060\",\"type\":\"UnionRenderers\"},{\"attributes\":{},\"id\":\"6726\",\"type\":\"LinearScale\"},{\"attributes\":{\"grid_line_color\":null,\"ticker\":{\"id\":\"6729\",\"type\":\"BasicTicker\"}},\"id\":\"6732\",\"type\":\"Grid\"},{\"attributes\":{},\"id\":\"6729\",\"type\":\"BasicTicker\"},{\"attributes\":{\"source\":{\"id\":\"6764\",\"type\":\"ColumnDataSource\"}},\"id\":\"6768\",\"type\":\"CDSView\"},{\"attributes\":{\"overlay\":{\"id\":\"6761\",\"type\":\"BoxAnnotation\"}},\"id\":\"6740\",\"type\":\"BoxZoomTool\"},{\"attributes\":{\"line_alpha\":0.1,\"line_color\":\"#1f77b4\",\"x\":{\"field\":\"x\"},\"y\":{\"field\":\"y\"}},\"id\":\"6753\",\"type\":\"Line\"},{\"attributes\":{},\"id\":\"6724\",\"type\":\"LinearScale\"},{\"attributes\":{\"data_source\":{\"id\":\"6764\",\"type\":\"ColumnDataSource\"},\"glyph\":{\"id\":\"6765\",\"type\":\"Circle\"},\"hover_glyph\":null,\"muted_glyph\":null,\"nonselection_glyph\":{\"id\":\"6766\",\"type\":\"Circle\"},\"selection_glyph\":null,\"view\":{\"id\":\"6768\",\"type\":\"CDSView\"}},\"id\":\"6767\",\"type\":\"GlyphRenderer\"},{\"attributes\":{},\"id\":\"6758\",\"type\":\"BasicTickFormatter\"},{\"attributes\":{\"text\":\"School enrollment, primary (% gross) weighted against Population, total\"},\"id\":\"6718\",\"type\":\"Title\"},{\"attributes\":{},\"id\":\"6741\",\"type\":\"SaveTool\"},{\"attributes\":{\"callback\":null,\"data\":{\"x\":[\"2011\",\"2016\"],\"y\":[102.40504842979927,101.785654111482]},\"selected\":{\"id\":\"7059\",\"type\":\"Selection\"},\"selection_policy\":{\"id\":\"7058\",\"type\":\"UnionRenderers\"}},\"id\":\"6751\",\"type\":\"ColumnDataSource\"},{\"attributes\":{\"items\":[{\"id\":\"6763\",\"type\":\"LegendItem\"}],\"location\":\"bottom_left\"},\"id\":\"6762\",\"type\":\"Legend\"},{\"attributes\":{\"dimension\":1,\"grid_line_alpha\":0.5,\"ticker\":{\"id\":\"6734\",\"type\":\"BasicTicker\"}},\"id\":\"6737\",\"type\":\"Grid\"},{\"attributes\":{\"fill_color\":{\"value\":\"#FA1857\"},\"line_color\":{\"value\":\"#FA1857\"},\"line_width\":{\"value\":3},\"x\":{\"field\":\"x\"},\"y\":{\"field\":\"y\"}},\"id\":\"6765\",\"type\":\"Circle\"},{\"attributes\":{},\"id\":\"6738\",\"type\":\"PanTool\"},{\"attributes\":{},\"id\":\"6734\",\"type\":\"BasicTicker\"},{\"attributes\":{\"data_source\":{\"id\":\"6751\",\"type\":\"ColumnDataSource\"},\"glyph\":{\"id\":\"6752\",\"type\":\"Line\"},\"hover_glyph\":null,\"muted_glyph\":null,\"nonselection_glyph\":{\"id\":\"6753\",\"type\":\"Line\"},\"selection_glyph\":null,\"view\":{\"id\":\"6755\",\"type\":\"CDSView\"}},\"id\":\"6754\",\"type\":\"GlyphRenderer\"},{\"attributes\":{},\"id\":\"6739\",\"type\":\"WheelZoomTool\"}],\"root_ids\":[\"6717\"]},\"title\":\"Bokeh Application\",\"version\":\"1.3.4\"}};\n",
       "  var render_items = [{\"docid\":\"9e9053f1-8c9a-4339-80f1-05bf717c45f3\",\"roots\":{\"6717\":\"9fda257e-4c64-44ea-bcd2-9cd195b7ec01\"}}];\n",
       "  root.Bokeh.embed.embed_items_notebook(docs_json, render_items);\n",
       "\n",
       "  }\n",
       "  if (root.Bokeh !== undefined) {\n",
       "    embed_document(root);\n",
       "  } else {\n",
       "    var attempts = 0;\n",
       "    var timer = setInterval(function(root) {\n",
       "      if (root.Bokeh !== undefined) {\n",
       "        embed_document(root);\n",
       "        clearInterval(timer);\n",
       "      }\n",
       "      attempts++;\n",
       "      if (attempts > 100) {\n",
       "        console.log(\"Bokeh: ERROR: Unable to run BokehJS code because BokehJS library is missing\");\n",
       "        clearInterval(timer);\n",
       "      }\n",
       "    }, 10, root)\n",
       "  }\n",
       "})(window);"
      ],
      "application/vnd.bokehjs_exec.v0+json": ""
     },
     "metadata": {
      "application/vnd.bokehjs_exec.v0+json": {
       "id": "6717"
      }
     },
     "output_type": "display_data"
    }
   ],
   "source": [
    "# School enrollment, primary\n",
    "years = ['2011', '2016']\n",
    "result = show_weighted_average(years, 'SE.PRM.ENRR', 'SP.POP.TOTL', \n",
    "                               ['LDCs'])"
   ]
  },
  {
   "cell_type": "code",
   "execution_count": 23,
   "metadata": {
    "slideshow": {
     "slide_type": "slide"
    }
   },
   "outputs": [
    {
     "data": {
      "text/html": [
       "\n",
       "\n",
       "\n",
       "\n",
       "\n",
       "\n",
       "  <div class=\"bk-root\" id=\"4851c289-6abf-431c-b3a2-d188b6cd2aa9\" data-root-id=\"7122\"></div>\n"
      ]
     },
     "metadata": {},
     "output_type": "display_data"
    },
    {
     "data": {
      "application/javascript": [
       "(function(root) {\n",
       "  function embed_document(root) {\n",
       "    \n",
       "  var docs_json = {\"e88a5b66-1328-4c8a-b654-547d112d3594\":{\"roots\":{\"references\":[{\"attributes\":{\"below\":[{\"id\":\"7133\",\"type\":\"LinearAxis\"}],\"center\":[{\"id\":\"7137\",\"type\":\"Grid\"},{\"id\":\"7142\",\"type\":\"Grid\"},{\"id\":\"7167\",\"type\":\"Legend\"}],\"left\":[{\"id\":\"7138\",\"type\":\"LinearAxis\"}],\"plot_height\":400,\"plot_width\":800,\"renderers\":[{\"id\":\"7159\",\"type\":\"GlyphRenderer\"},{\"id\":\"7172\",\"type\":\"GlyphRenderer\"},{\"id\":\"7177\",\"type\":\"GlyphRenderer\"},{\"id\":\"7193\",\"type\":\"GlyphRenderer\"},{\"id\":\"7198\",\"type\":\"GlyphRenderer\"},{\"id\":\"7218\",\"type\":\"GlyphRenderer\"}],\"title\":{\"id\":\"7123\",\"type\":\"Title\"},\"toolbar\":{\"id\":\"7149\",\"type\":\"Toolbar\"},\"x_range\":{\"id\":\"7125\",\"type\":\"DataRange1d\"},\"x_scale\":{\"id\":\"7129\",\"type\":\"LinearScale\"},\"y_range\":{\"id\":\"7127\",\"type\":\"DataRange1d\"},\"y_scale\":{\"id\":\"7131\",\"type\":\"LinearScale\"}},\"id\":\"7122\",\"subtype\":\"Figure\",\"type\":\"Plot\"},{\"attributes\":{\"label\":{\"value\":\"Developing excluding LDCs\"},\"renderers\":[{\"id\":\"7177\",\"type\":\"GlyphRenderer\"}]},\"id\":\"7189\",\"type\":\"LegendItem\"},{\"attributes\":{},\"id\":\"7134\",\"type\":\"BasicTicker\"},{\"attributes\":{},\"id\":\"7528\",\"type\":\"Selection\"},{\"attributes\":{\"callback\":null,\"data\":{\"x\":[\"2010\",\"2011\",\"2012\",\"2013\",\"2014\",\"2015\",\"2016\",\"2017\"],\"y\":[74.89483649419115,71.7293111922578,72.55803200547106,74.88712644187571,78.63032657672926,78.88460416945199,79.3951445589684,81.37361590400792]},\"selected\":{\"id\":\"7213\",\"type\":\"Selection\"},\"selection_policy\":{\"id\":\"7212\",\"type\":\"UnionRenderers\"}},\"id\":\"7190\",\"type\":\"ColumnDataSource\"},{\"attributes\":{\"label\":{\"value\":\"LDCs\"},\"renderers\":[{\"id\":\"7159\",\"type\":\"GlyphRenderer\"}]},\"id\":\"7168\",\"type\":\"LegendItem\"},{\"attributes\":{\"axis_label\":\"Years\",\"formatter\":{\"id\":\"7163\",\"type\":\"BasicTickFormatter\"},\"ticker\":{\"id\":\"7134\",\"type\":\"BasicTicker\"}},\"id\":\"7133\",\"type\":\"LinearAxis\"},{\"attributes\":{\"callback\":null,\"data\":{\"x\":[\"2010\",\"2011\",\"2012\",\"2013\",\"2014\",\"2015\",\"2016\",\"2017\"],\"y\":[74.89483649419115,71.7293111922578,72.55803200547106,74.88712644187571,78.63032657672926,78.88460416945199,79.3951445589684,81.37361590400792]},\"selected\":{\"id\":\"7211\",\"type\":\"Selection\"},\"selection_policy\":{\"id\":\"7210\",\"type\":\"UnionRenderers\"}},\"id\":\"7174\",\"type\":\"ColumnDataSource\"},{\"attributes\":{},\"id\":\"7529\",\"type\":\"UnionRenderers\"},{\"attributes\":{\"fill_color\":{\"value\":\"#5430F1\"},\"line_color\":{\"value\":\"#5430F1\"},\"line_width\":{\"value\":3},\"x\":{\"field\":\"x\"},\"y\":{\"field\":\"y\"}},\"id\":\"7191\",\"type\":\"Circle\"},{\"attributes\":{\"grid_line_color\":null,\"ticker\":{\"id\":\"7134\",\"type\":\"BasicTicker\"}},\"id\":\"7137\",\"type\":\"Grid\"},{\"attributes\":{\"line_color\":\"#5430F1\",\"x\":{\"field\":\"x\"},\"y\":{\"field\":\"y\"}},\"id\":\"7175\",\"type\":\"Line\"},{\"attributes\":{\"data_source\":{\"id\":\"7190\",\"type\":\"ColumnDataSource\"},\"glyph\":{\"id\":\"7191\",\"type\":\"Circle\"},\"hover_glyph\":null,\"muted_glyph\":null,\"nonselection_glyph\":{\"id\":\"7192\",\"type\":\"Circle\"},\"selection_glyph\":null,\"view\":{\"id\":\"7194\",\"type\":\"CDSView\"}},\"id\":\"7193\",\"type\":\"GlyphRenderer\"},{\"attributes\":{},\"id\":\"7530\",\"type\":\"Selection\"},{\"attributes\":{\"line_alpha\":0.1,\"line_color\":\"#1f77b4\",\"x\":{\"field\":\"x\"},\"y\":{\"field\":\"y\"}},\"id\":\"7176\",\"type\":\"Line\"},{\"attributes\":{\"fill_alpha\":{\"value\":0.1},\"fill_color\":{\"value\":\"#1f77b4\"},\"line_alpha\":{\"value\":0.1},\"line_color\":{\"value\":\"#1f77b4\"},\"line_width\":{\"value\":3},\"x\":{\"field\":\"x\"},\"y\":{\"field\":\"y\"}},\"id\":\"7192\",\"type\":\"Circle\"},{\"attributes\":{\"axis_label\":\"SE.SEC.ENRR\",\"formatter\":{\"id\":\"7165\",\"type\":\"BasicTickFormatter\"},\"ticker\":{\"id\":\"7139\",\"type\":\"BasicTicker\"}},\"id\":\"7138\",\"type\":\"LinearAxis\"},{\"attributes\":{\"text\":\"School enrollment, secondary (% gross) weighted against Population, total\"},\"id\":\"7123\",\"type\":\"Title\"},{\"attributes\":{\"line_color\":\"#FA1857\",\"x\":{\"field\":\"x\"},\"y\":{\"field\":\"y\"}},\"id\":\"7157\",\"type\":\"Line\"},{\"attributes\":{\"data_source\":{\"id\":\"7174\",\"type\":\"ColumnDataSource\"},\"glyph\":{\"id\":\"7175\",\"type\":\"Line\"},\"hover_glyph\":null,\"muted_glyph\":null,\"nonselection_glyph\":{\"id\":\"7176\",\"type\":\"Line\"},\"selection_glyph\":null,\"view\":{\"id\":\"7178\",\"type\":\"CDSView\"}},\"id\":\"7177\",\"type\":\"GlyphRenderer\"},{\"attributes\":{\"source\":{\"id\":\"7190\",\"type\":\"ColumnDataSource\"}},\"id\":\"7194\",\"type\":\"CDSView\"},{\"attributes\":{\"dimension\":1,\"grid_line_alpha\":0.5,\"ticker\":{\"id\":\"7139\",\"type\":\"BasicTicker\"}},\"id\":\"7142\",\"type\":\"Grid\"},{\"attributes\":{\"source\":{\"id\":\"7174\",\"type\":\"ColumnDataSource\"}},\"id\":\"7178\",\"type\":\"CDSView\"},{\"attributes\":{\"callback\":null},\"id\":\"7125\",\"type\":\"DataRange1d\"},{\"attributes\":{\"line_color\":\"#2CC775\",\"x\":{\"field\":\"x\"},\"y\":{\"field\":\"y\"}},\"id\":\"7196\",\"type\":\"Line\"},{\"attributes\":{},\"id\":\"7139\",\"type\":\"BasicTicker\"},{\"attributes\":{},\"id\":\"7185\",\"type\":\"UnionRenderers\"},{\"attributes\":{\"callback\":null,\"data\":{\"x\":[\"2010\",\"2011\",\"2012\",\"2013\",\"2014\",\"2015\",\"2016\",\"2017\"],\"y\":[88.76105292982297,92.43282204315506,92.56607539302803,96.70035095015737,100.62087691561094,101.89857975276283,102.40612104714488,102.75899444809875]},\"selected\":{\"id\":\"7528\",\"type\":\"Selection\"},\"selection_policy\":{\"id\":\"7527\",\"type\":\"UnionRenderers\"}},\"id\":\"7195\",\"type\":\"ColumnDataSource\"},{\"attributes\":{\"callback\":null},\"id\":\"7127\",\"type\":\"DataRange1d\"},{\"attributes\":{\"line_alpha\":0.1,\"line_color\":\"#1f77b4\",\"x\":{\"field\":\"x\"},\"y\":{\"field\":\"y\"}},\"id\":\"7197\",\"type\":\"Line\"},{\"attributes\":{\"callback\":null,\"tooltips\":\"                \\n        <div style=padding=5px>Year:@x</div>\\n        <div style=padding=5px>Value:@y</div>        \\n        \"},\"id\":\"7220\",\"type\":\"HoverTool\"},{\"attributes\":{\"fill_color\":{\"value\":\"#FA1857\"},\"line_color\":{\"value\":\"#FA1857\"},\"line_width\":{\"value\":3},\"x\":{\"field\":\"x\"},\"y\":{\"field\":\"y\"}},\"id\":\"7170\",\"type\":\"Circle\"},{\"attributes\":{},\"id\":\"7129\",\"type\":\"LinearScale\"},{\"attributes\":{\"source\":{\"id\":\"7195\",\"type\":\"ColumnDataSource\"}},\"id\":\"7199\",\"type\":\"CDSView\"},{\"attributes\":{\"callback\":null,\"data\":{\"x\":[\"2010\",\"2011\",\"2012\",\"2013\",\"2014\",\"2015\",\"2016\",\"2017\"],\"y\":[40.71979156217991,40.50524831492961,42.88559060690365,48.02763417723285,42.06890499122678,45.77221151940908,51.781966052740714,52.216689130724404]},\"selected\":{\"id\":\"7186\",\"type\":\"Selection\"},\"selection_policy\":{\"id\":\"7185\",\"type\":\"UnionRenderers\"}},\"id\":\"7156\",\"type\":\"ColumnDataSource\"},{\"attributes\":{\"data_source\":{\"id\":\"7215\",\"type\":\"ColumnDataSource\"},\"glyph\":{\"id\":\"7216\",\"type\":\"Circle\"},\"hover_glyph\":null,\"muted_glyph\":null,\"nonselection_glyph\":{\"id\":\"7217\",\"type\":\"Circle\"},\"selection_glyph\":null,\"view\":{\"id\":\"7219\",\"type\":\"CDSView\"}},\"id\":\"7218\",\"type\":\"GlyphRenderer\"},{\"attributes\":{},\"id\":\"7144\",\"type\":\"WheelZoomTool\"},{\"attributes\":{\"data_source\":{\"id\":\"7195\",\"type\":\"ColumnDataSource\"},\"glyph\":{\"id\":\"7196\",\"type\":\"Line\"},\"hover_glyph\":null,\"muted_glyph\":null,\"nonselection_glyph\":{\"id\":\"7197\",\"type\":\"Line\"},\"selection_glyph\":null,\"view\":{\"id\":\"7199\",\"type\":\"CDSView\"}},\"id\":\"7198\",\"type\":\"GlyphRenderer\"},{\"attributes\":{},\"id\":\"7131\",\"type\":\"LinearScale\"},{\"attributes\":{},\"id\":\"7143\",\"type\":\"PanTool\"},{\"attributes\":{\"fill_alpha\":{\"value\":0.1},\"fill_color\":{\"value\":\"#1f77b4\"},\"line_alpha\":{\"value\":0.1},\"line_color\":{\"value\":\"#1f77b4\"},\"line_width\":{\"value\":3},\"x\":{\"field\":\"x\"},\"y\":{\"field\":\"y\"}},\"id\":\"7171\",\"type\":\"Circle\"},{\"attributes\":{\"source\":{\"id\":\"7156\",\"type\":\"ColumnDataSource\"}},\"id\":\"7160\",\"type\":\"CDSView\"},{\"attributes\":{},\"id\":\"7210\",\"type\":\"UnionRenderers\"},{\"attributes\":{\"data_source\":{\"id\":\"7156\",\"type\":\"ColumnDataSource\"},\"glyph\":{\"id\":\"7157\",\"type\":\"Line\"},\"hover_glyph\":null,\"muted_glyph\":null,\"nonselection_glyph\":{\"id\":\"7158\",\"type\":\"Line\"},\"selection_glyph\":null,\"view\":{\"id\":\"7160\",\"type\":\"CDSView\"}},\"id\":\"7159\",\"type\":\"GlyphRenderer\"},{\"attributes\":{\"overlay\":{\"id\":\"7166\",\"type\":\"BoxAnnotation\"}},\"id\":\"7145\",\"type\":\"BoxZoomTool\"},{\"attributes\":{},\"id\":\"7212\",\"type\":\"UnionRenderers\"},{\"attributes\":{\"source\":{\"id\":\"7215\",\"type\":\"ColumnDataSource\"}},\"id\":\"7219\",\"type\":\"CDSView\"},{\"attributes\":{\"data_source\":{\"id\":\"7169\",\"type\":\"ColumnDataSource\"},\"glyph\":{\"id\":\"7170\",\"type\":\"Circle\"},\"hover_glyph\":null,\"muted_glyph\":null,\"nonselection_glyph\":{\"id\":\"7171\",\"type\":\"Circle\"},\"selection_glyph\":null,\"view\":{\"id\":\"7173\",\"type\":\"CDSView\"}},\"id\":\"7172\",\"type\":\"GlyphRenderer\"},{\"attributes\":{},\"id\":\"7147\",\"type\":\"ResetTool\"},{\"attributes\":{},\"id\":\"7211\",\"type\":\"Selection\"},{\"attributes\":{},\"id\":\"7146\",\"type\":\"SaveTool\"},{\"attributes\":{\"bottom_units\":\"screen\",\"fill_alpha\":{\"value\":0.5},\"fill_color\":{\"value\":\"lightgrey\"},\"left_units\":\"screen\",\"level\":\"overlay\",\"line_alpha\":{\"value\":1.0},\"line_color\":{\"value\":\"black\"},\"line_dash\":[4,4],\"line_width\":{\"value\":2},\"render_mode\":\"css\",\"right_units\":\"screen\",\"top_units\":\"screen\"},\"id\":\"7166\",\"type\":\"BoxAnnotation\"},{\"attributes\":{},\"id\":\"7213\",\"type\":\"Selection\"},{\"attributes\":{},\"id\":\"7148\",\"type\":\"HelpTool\"},{\"attributes\":{\"source\":{\"id\":\"7169\",\"type\":\"ColumnDataSource\"}},\"id\":\"7173\",\"type\":\"CDSView\"},{\"attributes\":{},\"id\":\"7163\",\"type\":\"BasicTickFormatter\"},{\"attributes\":{},\"id\":\"7165\",\"type\":\"BasicTickFormatter\"},{\"attributes\":{},\"id\":\"7186\",\"type\":\"Selection\"},{\"attributes\":{\"items\":[{\"id\":\"7168\",\"type\":\"LegendItem\"},{\"id\":\"7189\",\"type\":\"LegendItem\"},{\"id\":\"7214\",\"type\":\"LegendItem\"}],\"location\":\"bottom_left\"},\"id\":\"7167\",\"type\":\"Legend\"},{\"attributes\":{\"label\":{\"value\":\"UMICs\"},\"renderers\":[{\"id\":\"7198\",\"type\":\"GlyphRenderer\"}]},\"id\":\"7214\",\"type\":\"LegendItem\"},{\"attributes\":{\"line_alpha\":0.1,\"line_color\":\"#1f77b4\",\"x\":{\"field\":\"x\"},\"y\":{\"field\":\"y\"}},\"id\":\"7158\",\"type\":\"Line\"},{\"attributes\":{},\"id\":\"7527\",\"type\":\"UnionRenderers\"},{\"attributes\":{\"active_drag\":\"auto\",\"active_inspect\":\"auto\",\"active_multi\":null,\"active_scroll\":\"auto\",\"active_tap\":\"auto\",\"tools\":[{\"id\":\"7143\",\"type\":\"PanTool\"},{\"id\":\"7144\",\"type\":\"WheelZoomTool\"},{\"id\":\"7145\",\"type\":\"BoxZoomTool\"},{\"id\":\"7146\",\"type\":\"SaveTool\"},{\"id\":\"7147\",\"type\":\"ResetTool\"},{\"id\":\"7148\",\"type\":\"HelpTool\"},{\"id\":\"7220\",\"type\":\"HoverTool\"}]},\"id\":\"7149\",\"type\":\"Toolbar\"},{\"attributes\":{},\"id\":\"7187\",\"type\":\"UnionRenderers\"},{\"attributes\":{\"callback\":null,\"data\":{\"x\":[\"2010\",\"2011\",\"2012\",\"2013\",\"2014\",\"2015\",\"2016\",\"2017\"],\"y\":[40.71979156217991,40.50524831492961,42.88559060690365,48.02763417723285,42.06890499122678,45.77221151940908,51.781966052740714,52.216689130724404]},\"selected\":{\"id\":\"7188\",\"type\":\"Selection\"},\"selection_policy\":{\"id\":\"7187\",\"type\":\"UnionRenderers\"}},\"id\":\"7169\",\"type\":\"ColumnDataSource\"},{\"attributes\":{\"fill_color\":{\"value\":\"#2CC775\"},\"line_color\":{\"value\":\"#2CC775\"},\"line_width\":{\"value\":3},\"x\":{\"field\":\"x\"},\"y\":{\"field\":\"y\"}},\"id\":\"7216\",\"type\":\"Circle\"},{\"attributes\":{\"callback\":null,\"data\":{\"x\":[\"2010\",\"2011\",\"2012\",\"2013\",\"2014\",\"2015\",\"2016\",\"2017\"],\"y\":[88.76105292982297,92.43282204315506,92.56607539302803,96.70035095015737,100.62087691561094,101.89857975276283,102.40612104714488,102.75899444809875]},\"selected\":{\"id\":\"7530\",\"type\":\"Selection\"},\"selection_policy\":{\"id\":\"7529\",\"type\":\"UnionRenderers\"}},\"id\":\"7215\",\"type\":\"ColumnDataSource\"},{\"attributes\":{},\"id\":\"7188\",\"type\":\"Selection\"},{\"attributes\":{\"fill_alpha\":{\"value\":0.1},\"fill_color\":{\"value\":\"#1f77b4\"},\"line_alpha\":{\"value\":0.1},\"line_color\":{\"value\":\"#1f77b4\"},\"line_width\":{\"value\":3},\"x\":{\"field\":\"x\"},\"y\":{\"field\":\"y\"}},\"id\":\"7217\",\"type\":\"Circle\"}],\"root_ids\":[\"7122\"]},\"title\":\"Bokeh Application\",\"version\":\"1.3.4\"}};\n",
       "  var render_items = [{\"docid\":\"e88a5b66-1328-4c8a-b654-547d112d3594\",\"roots\":{\"7122\":\"4851c289-6abf-431c-b3a2-d188b6cd2aa9\"}}];\n",
       "  root.Bokeh.embed.embed_items_notebook(docs_json, render_items);\n",
       "\n",
       "  }\n",
       "  if (root.Bokeh !== undefined) {\n",
       "    embed_document(root);\n",
       "  } else {\n",
       "    var attempts = 0;\n",
       "    var timer = setInterval(function(root) {\n",
       "      if (root.Bokeh !== undefined) {\n",
       "        embed_document(root);\n",
       "        clearInterval(timer);\n",
       "      }\n",
       "      attempts++;\n",
       "      if (attempts > 100) {\n",
       "        console.log(\"Bokeh: ERROR: Unable to run BokehJS code because BokehJS library is missing\");\n",
       "        clearInterval(timer);\n",
       "      }\n",
       "    }, 10, root)\n",
       "  }\n",
       "})(window);"
      ],
      "application/vnd.bokehjs_exec.v0+json": ""
     },
     "metadata": {
      "application/vnd.bokehjs_exec.v0+json": {
       "id": "7122"
      }
     },
     "output_type": "display_data"
    }
   ],
   "source": [
    "# School enrollment, secondary\n",
    "years = list(map(str, list(range(2010,2018))))\n",
    "result = show_weighted_average(years, 'SE.SEC.ENRR', 'SP.POP.TOTL', \n",
    "                               ['LDCs', 'Developing excluding LDCs', 'UMICs'])"
   ]
  },
  {
   "cell_type": "code",
   "execution_count": 24,
   "metadata": {
    "ExecuteTime": {
     "end_time": "2019-10-25T14:25:38.329630Z",
     "start_time": "2019-10-25T14:25:37.469130Z"
    },
    "slideshow": {
     "slide_type": "slide"
    }
   },
   "outputs": [
    {
     "data": {
      "text/html": [
       "\n",
       "\n",
       "\n",
       "\n",
       "\n",
       "\n",
       "  <div class=\"bk-root\" id=\"45e23c12-fee1-4af9-94d5-71335635749c\" data-root-id=\"7639\"></div>\n"
      ]
     },
     "metadata": {},
     "output_type": "display_data"
    },
    {
     "data": {
      "application/javascript": [
       "(function(root) {\n",
       "  function embed_document(root) {\n",
       "    \n",
       "  var docs_json = {\"10feec9c-ce8b-457c-a7f8-57d539611551\":{\"roots\":{\"references\":[{\"attributes\":{\"below\":[{\"id\":\"7650\",\"type\":\"LinearAxis\"}],\"center\":[{\"id\":\"7654\",\"type\":\"Grid\"},{\"id\":\"7659\",\"type\":\"Grid\"},{\"id\":\"7684\",\"type\":\"Legend\"}],\"left\":[{\"id\":\"7655\",\"type\":\"LinearAxis\"}],\"plot_height\":400,\"plot_width\":800,\"renderers\":[{\"id\":\"7676\",\"type\":\"GlyphRenderer\"},{\"id\":\"7689\",\"type\":\"GlyphRenderer\"},{\"id\":\"7694\",\"type\":\"GlyphRenderer\"},{\"id\":\"7710\",\"type\":\"GlyphRenderer\"},{\"id\":\"7715\",\"type\":\"GlyphRenderer\"},{\"id\":\"7735\",\"type\":\"GlyphRenderer\"}],\"title\":{\"id\":\"7640\",\"type\":\"Title\"},\"toolbar\":{\"id\":\"7666\",\"type\":\"Toolbar\"},\"x_range\":{\"id\":\"7642\",\"type\":\"DataRange1d\"},\"x_scale\":{\"id\":\"7646\",\"type\":\"LinearScale\"},\"y_range\":{\"id\":\"7644\",\"type\":\"DataRange1d\"},\"y_scale\":{\"id\":\"7648\",\"type\":\"LinearScale\"}},\"id\":\"7639\",\"subtype\":\"Figure\",\"type\":\"Plot\"},{\"attributes\":{\"callback\":null,\"data\":{\"x\":[\"2010\",\"2011\",\"2012\",\"2013\",\"2014\"],\"y\":[6.97759961786947,9.086658069190648,9.121775166295603,8.515917852830238,10.11079604308265]},\"selected\":{\"id\":\"7705\",\"type\":\"Selection\"},\"selection_policy\":{\"id\":\"7704\",\"type\":\"UnionRenderers\"}},\"id\":\"7686\",\"type\":\"ColumnDataSource\"},{\"attributes\":{\"callback\":null},\"id\":\"7644\",\"type\":\"DataRange1d\"},{\"attributes\":{\"fill_color\":{\"value\":\"#FA1857\"},\"line_color\":{\"value\":\"#FA1857\"},\"line_width\":{\"value\":3},\"x\":{\"field\":\"x\"},\"y\":{\"field\":\"y\"}},\"id\":\"7687\",\"type\":\"Circle\"},{\"attributes\":{\"active_drag\":\"auto\",\"active_inspect\":\"auto\",\"active_multi\":null,\"active_scroll\":\"auto\",\"active_tap\":\"auto\",\"tools\":[{\"id\":\"7660\",\"type\":\"PanTool\"},{\"id\":\"7661\",\"type\":\"WheelZoomTool\"},{\"id\":\"7662\",\"type\":\"BoxZoomTool\"},{\"id\":\"7663\",\"type\":\"SaveTool\"},{\"id\":\"7664\",\"type\":\"ResetTool\"},{\"id\":\"7665\",\"type\":\"HelpTool\"},{\"id\":\"7737\",\"type\":\"HoverTool\"}]},\"id\":\"7666\",\"type\":\"Toolbar\"},{\"attributes\":{},\"id\":\"8065\",\"type\":\"Selection\"},{\"attributes\":{\"data_source\":{\"id\":\"7686\",\"type\":\"ColumnDataSource\"},\"glyph\":{\"id\":\"7687\",\"type\":\"Circle\"},\"hover_glyph\":null,\"muted_glyph\":null,\"nonselection_glyph\":{\"id\":\"7688\",\"type\":\"Circle\"},\"selection_glyph\":null,\"view\":{\"id\":\"7690\",\"type\":\"CDSView\"}},\"id\":\"7689\",\"type\":\"GlyphRenderer\"},{\"attributes\":{},\"id\":\"7646\",\"type\":\"LinearScale\"},{\"attributes\":{\"fill_alpha\":{\"value\":0.1},\"fill_color\":{\"value\":\"#1f77b4\"},\"line_alpha\":{\"value\":0.1},\"line_color\":{\"value\":\"#1f77b4\"},\"line_width\":{\"value\":3},\"x\":{\"field\":\"x\"},\"y\":{\"field\":\"y\"}},\"id\":\"7688\",\"type\":\"Circle\"},{\"attributes\":{},\"id\":\"7648\",\"type\":\"LinearScale\"},{\"attributes\":{\"callback\":null,\"data\":{\"x\":[\"2010\",\"2011\",\"2012\",\"2013\",\"2014\"],\"y\":[23.513041688550018,26.0163518298774,28.605589935710757,29.991015174173807,34.168460693584066]},\"selected\":{\"id\":\"7728\",\"type\":\"Selection\"},\"selection_policy\":{\"id\":\"7727\",\"type\":\"UnionRenderers\"}},\"id\":\"7691\",\"type\":\"ColumnDataSource\"},{\"attributes\":{\"fill_color\":{\"value\":\"#5430F1\"},\"line_color\":{\"value\":\"#5430F1\"},\"line_width\":{\"value\":3},\"x\":{\"field\":\"x\"},\"y\":{\"field\":\"y\"}},\"id\":\"7708\",\"type\":\"Circle\"},{\"attributes\":{\"axis_label\":\"Years\",\"formatter\":{\"id\":\"7680\",\"type\":\"BasicTickFormatter\"},\"ticker\":{\"id\":\"7651\",\"type\":\"BasicTicker\"}},\"id\":\"7650\",\"type\":\"LinearAxis\"},{\"attributes\":{\"source\":{\"id\":\"7686\",\"type\":\"ColumnDataSource\"}},\"id\":\"7690\",\"type\":\"CDSView\"},{\"attributes\":{\"data_source\":{\"id\":\"7707\",\"type\":\"ColumnDataSource\"},\"glyph\":{\"id\":\"7708\",\"type\":\"Circle\"},\"hover_glyph\":null,\"muted_glyph\":null,\"nonselection_glyph\":{\"id\":\"7709\",\"type\":\"Circle\"},\"selection_glyph\":null,\"view\":{\"id\":\"7711\",\"type\":\"CDSView\"}},\"id\":\"7710\",\"type\":\"GlyphRenderer\"},{\"attributes\":{\"fill_alpha\":{\"value\":0.1},\"fill_color\":{\"value\":\"#1f77b4\"},\"line_alpha\":{\"value\":0.1},\"line_color\":{\"value\":\"#1f77b4\"},\"line_width\":{\"value\":3},\"x\":{\"field\":\"x\"},\"y\":{\"field\":\"y\"}},\"id\":\"7734\",\"type\":\"Circle\"},{\"attributes\":{},\"id\":\"7651\",\"type\":\"BasicTicker\"},{\"attributes\":{\"line_color\":\"#5430F1\",\"x\":{\"field\":\"x\"},\"y\":{\"field\":\"y\"}},\"id\":\"7692\",\"type\":\"Line\"},{\"attributes\":{\"text\":\"School enrollment, tertiary (% gross) weighted against Population, total\"},\"id\":\"7640\",\"type\":\"Title\"},{\"attributes\":{},\"id\":\"7680\",\"type\":\"BasicTickFormatter\"},{\"attributes\":{\"callback\":null,\"data\":{\"x\":[\"2010\",\"2011\",\"2012\",\"2013\",\"2014\"],\"y\":[29.578342099714497,35.0387071416137,36.74134581365902,39.400822883016104,45.86198074086463]},\"selected\":{\"id\":\"8063\",\"type\":\"Selection\"},\"selection_policy\":{\"id\":\"8062\",\"type\":\"UnionRenderers\"}},\"id\":\"7712\",\"type\":\"ColumnDataSource\"},{\"attributes\":{\"data_source\":{\"id\":\"7691\",\"type\":\"ColumnDataSource\"},\"glyph\":{\"id\":\"7692\",\"type\":\"Line\"},\"hover_glyph\":null,\"muted_glyph\":null,\"nonselection_glyph\":{\"id\":\"7693\",\"type\":\"Line\"},\"selection_glyph\":null,\"view\":{\"id\":\"7695\",\"type\":\"CDSView\"}},\"id\":\"7694\",\"type\":\"GlyphRenderer\"},{\"attributes\":{\"grid_line_color\":null,\"ticker\":{\"id\":\"7651\",\"type\":\"BasicTicker\"}},\"id\":\"7654\",\"type\":\"Grid\"},{\"attributes\":{\"callback\":null},\"id\":\"7642\",\"type\":\"DataRange1d\"},{\"attributes\":{},\"id\":\"8063\",\"type\":\"Selection\"},{\"attributes\":{\"line_alpha\":0.1,\"line_color\":\"#1f77b4\",\"x\":{\"field\":\"x\"},\"y\":{\"field\":\"y\"}},\"id\":\"7693\",\"type\":\"Line\"},{\"attributes\":{\"source\":{\"id\":\"7707\",\"type\":\"ColumnDataSource\"}},\"id\":\"7711\",\"type\":\"CDSView\"},{\"attributes\":{\"data_source\":{\"id\":\"7712\",\"type\":\"ColumnDataSource\"},\"glyph\":{\"id\":\"7713\",\"type\":\"Line\"},\"hover_glyph\":null,\"muted_glyph\":null,\"nonselection_glyph\":{\"id\":\"7714\",\"type\":\"Line\"},\"selection_glyph\":null,\"view\":{\"id\":\"7716\",\"type\":\"CDSView\"}},\"id\":\"7715\",\"type\":\"GlyphRenderer\"},{\"attributes\":{\"line_alpha\":0.1,\"line_color\":\"#1f77b4\",\"x\":{\"field\":\"x\"},\"y\":{\"field\":\"y\"}},\"id\":\"7675\",\"type\":\"Line\"},{\"attributes\":{\"source\":{\"id\":\"7691\",\"type\":\"ColumnDataSource\"}},\"id\":\"7695\",\"type\":\"CDSView\"},{\"attributes\":{},\"id\":\"8064\",\"type\":\"UnionRenderers\"},{\"attributes\":{\"data_source\":{\"id\":\"7673\",\"type\":\"ColumnDataSource\"},\"glyph\":{\"id\":\"7674\",\"type\":\"Line\"},\"hover_glyph\":null,\"muted_glyph\":null,\"nonselection_glyph\":{\"id\":\"7675\",\"type\":\"Line\"},\"selection_glyph\":null,\"view\":{\"id\":\"7677\",\"type\":\"CDSView\"}},\"id\":\"7676\",\"type\":\"GlyphRenderer\"},{\"attributes\":{\"line_color\":\"#2CC775\",\"x\":{\"field\":\"x\"},\"y\":{\"field\":\"y\"}},\"id\":\"7713\",\"type\":\"Line\"},{\"attributes\":{},\"id\":\"7703\",\"type\":\"Selection\"},{\"attributes\":{\"source\":{\"id\":\"7673\",\"type\":\"ColumnDataSource\"}},\"id\":\"7677\",\"type\":\"CDSView\"},{\"attributes\":{\"line_alpha\":0.1,\"line_color\":\"#1f77b4\",\"x\":{\"field\":\"x\"},\"y\":{\"field\":\"y\"}},\"id\":\"7714\",\"type\":\"Line\"},{\"attributes\":{\"axis_label\":\"SE.TER.ENRR\",\"formatter\":{\"id\":\"7682\",\"type\":\"BasicTickFormatter\"},\"ticker\":{\"id\":\"7656\",\"type\":\"BasicTicker\"}},\"id\":\"7655\",\"type\":\"LinearAxis\"},{\"attributes\":{},\"id\":\"7702\",\"type\":\"UnionRenderers\"},{\"attributes\":{\"source\":{\"id\":\"7712\",\"type\":\"ColumnDataSource\"}},\"id\":\"7716\",\"type\":\"CDSView\"},{\"attributes\":{\"data_source\":{\"id\":\"7732\",\"type\":\"ColumnDataSource\"},\"glyph\":{\"id\":\"7733\",\"type\":\"Circle\"},\"hover_glyph\":null,\"muted_glyph\":null,\"nonselection_glyph\":{\"id\":\"7734\",\"type\":\"Circle\"},\"selection_glyph\":null,\"view\":{\"id\":\"7736\",\"type\":\"CDSView\"}},\"id\":\"7735\",\"type\":\"GlyphRenderer\"},{\"attributes\":{},\"id\":\"7656\",\"type\":\"BasicTicker\"},{\"attributes\":{},\"id\":\"7704\",\"type\":\"UnionRenderers\"},{\"attributes\":{\"dimension\":1,\"grid_line_alpha\":0.5,\"ticker\":{\"id\":\"7656\",\"type\":\"BasicTicker\"}},\"id\":\"7659\",\"type\":\"Grid\"},{\"attributes\":{\"source\":{\"id\":\"7732\",\"type\":\"ColumnDataSource\"}},\"id\":\"7736\",\"type\":\"CDSView\"},{\"attributes\":{},\"id\":\"7728\",\"type\":\"Selection\"},{\"attributes\":{\"callback\":null,\"tooltips\":\"                \\n        <div style=padding=5px>Year:@x</div>\\n        <div style=padding=5px>Value:@y</div>        \\n        \"},\"id\":\"7737\",\"type\":\"HoverTool\"},{\"attributes\":{\"label\":{\"value\":\"Developing excluding LDCs\"},\"renderers\":[{\"id\":\"7694\",\"type\":\"GlyphRenderer\"}]},\"id\":\"7706\",\"type\":\"LegendItem\"},{\"attributes\":{},\"id\":\"7660\",\"type\":\"PanTool\"},{\"attributes\":{},\"id\":\"7705\",\"type\":\"Selection\"},{\"attributes\":{},\"id\":\"7727\",\"type\":\"UnionRenderers\"},{\"attributes\":{\"callback\":null,\"data\":{\"x\":[\"2010\",\"2011\",\"2012\",\"2013\",\"2014\"],\"y\":[6.97759961786947,9.086658069190648,9.121775166295603,8.515917852830238,10.11079604308265]},\"selected\":{\"id\":\"7703\",\"type\":\"Selection\"},\"selection_policy\":{\"id\":\"7702\",\"type\":\"UnionRenderers\"}},\"id\":\"7673\",\"type\":\"ColumnDataSource\"},{\"attributes\":{\"label\":{\"value\":\"UMICs\"},\"renderers\":[{\"id\":\"7715\",\"type\":\"GlyphRenderer\"}]},\"id\":\"7731\",\"type\":\"LegendItem\"},{\"attributes\":{},\"id\":\"8062\",\"type\":\"UnionRenderers\"},{\"attributes\":{},\"id\":\"7661\",\"type\":\"WheelZoomTool\"},{\"attributes\":{\"callback\":null,\"data\":{\"x\":[\"2010\",\"2011\",\"2012\",\"2013\",\"2014\"],\"y\":[23.513041688550018,26.0163518298774,28.605589935710757,29.991015174173807,34.168460693584066]},\"selected\":{\"id\":\"7730\",\"type\":\"Selection\"},\"selection_policy\":{\"id\":\"7729\",\"type\":\"UnionRenderers\"}},\"id\":\"7707\",\"type\":\"ColumnDataSource\"},{\"attributes\":{},\"id\":\"7729\",\"type\":\"UnionRenderers\"},{\"attributes\":{\"overlay\":{\"id\":\"7683\",\"type\":\"BoxAnnotation\"}},\"id\":\"7662\",\"type\":\"BoxZoomTool\"},{\"attributes\":{\"fill_alpha\":{\"value\":0.1},\"fill_color\":{\"value\":\"#1f77b4\"},\"line_alpha\":{\"value\":0.1},\"line_color\":{\"value\":\"#1f77b4\"},\"line_width\":{\"value\":3},\"x\":{\"field\":\"x\"},\"y\":{\"field\":\"y\"}},\"id\":\"7709\",\"type\":\"Circle\"},{\"attributes\":{},\"id\":\"7730\",\"type\":\"Selection\"},{\"attributes\":{},\"id\":\"7682\",\"type\":\"BasicTickFormatter\"},{\"attributes\":{},\"id\":\"7663\",\"type\":\"SaveTool\"},{\"attributes\":{\"callback\":null,\"data\":{\"x\":[\"2010\",\"2011\",\"2012\",\"2013\",\"2014\"],\"y\":[29.578342099714497,35.0387071416137,36.74134581365902,39.400822883016104,45.86198074086463]},\"selected\":{\"id\":\"8065\",\"type\":\"Selection\"},\"selection_policy\":{\"id\":\"8064\",\"type\":\"UnionRenderers\"}},\"id\":\"7732\",\"type\":\"ColumnDataSource\"},{\"attributes\":{\"label\":{\"value\":\"LDCs\"},\"renderers\":[{\"id\":\"7676\",\"type\":\"GlyphRenderer\"}]},\"id\":\"7685\",\"type\":\"LegendItem\"},{\"attributes\":{},\"id\":\"7664\",\"type\":\"ResetTool\"},{\"attributes\":{\"items\":[{\"id\":\"7685\",\"type\":\"LegendItem\"},{\"id\":\"7706\",\"type\":\"LegendItem\"},{\"id\":\"7731\",\"type\":\"LegendItem\"}],\"location\":\"bottom_left\"},\"id\":\"7684\",\"type\":\"Legend\"},{\"attributes\":{\"line_color\":\"#FA1857\",\"x\":{\"field\":\"x\"},\"y\":{\"field\":\"y\"}},\"id\":\"7674\",\"type\":\"Line\"},{\"attributes\":{\"fill_color\":{\"value\":\"#2CC775\"},\"line_color\":{\"value\":\"#2CC775\"},\"line_width\":{\"value\":3},\"x\":{\"field\":\"x\"},\"y\":{\"field\":\"y\"}},\"id\":\"7733\",\"type\":\"Circle\"},{\"attributes\":{\"bottom_units\":\"screen\",\"fill_alpha\":{\"value\":0.5},\"fill_color\":{\"value\":\"lightgrey\"},\"left_units\":\"screen\",\"level\":\"overlay\",\"line_alpha\":{\"value\":1.0},\"line_color\":{\"value\":\"black\"},\"line_dash\":[4,4],\"line_width\":{\"value\":2},\"render_mode\":\"css\",\"right_units\":\"screen\",\"top_units\":\"screen\"},\"id\":\"7683\",\"type\":\"BoxAnnotation\"},{\"attributes\":{},\"id\":\"7665\",\"type\":\"HelpTool\"}],\"root_ids\":[\"7639\"]},\"title\":\"Bokeh Application\",\"version\":\"1.3.4\"}};\n",
       "  var render_items = [{\"docid\":\"10feec9c-ce8b-457c-a7f8-57d539611551\",\"roots\":{\"7639\":\"45e23c12-fee1-4af9-94d5-71335635749c\"}}];\n",
       "  root.Bokeh.embed.embed_items_notebook(docs_json, render_items);\n",
       "\n",
       "  }\n",
       "  if (root.Bokeh !== undefined) {\n",
       "    embed_document(root);\n",
       "  } else {\n",
       "    var attempts = 0;\n",
       "    var timer = setInterval(function(root) {\n",
       "      if (root.Bokeh !== undefined) {\n",
       "        embed_document(root);\n",
       "        clearInterval(timer);\n",
       "      }\n",
       "      attempts++;\n",
       "      if (attempts > 100) {\n",
       "        console.log(\"Bokeh: ERROR: Unable to run BokehJS code because BokehJS library is missing\");\n",
       "        clearInterval(timer);\n",
       "      }\n",
       "    }, 10, root)\n",
       "  }\n",
       "})(window);"
      ],
      "application/vnd.bokehjs_exec.v0+json": ""
     },
     "metadata": {
      "application/vnd.bokehjs_exec.v0+json": {
       "id": "7639"
      }
     },
     "output_type": "display_data"
    }
   ],
   "source": [
    "# School enrollment, tertiary\n",
    "years = list(map(str, list(range(2010,2015))))\n",
    "result = show_weighted_average(years, 'SE.TER.ENRR', 'SP.POP.TOTL', \n",
    "                               ['LDCs', 'Developing excluding LDCs', 'UMICs'])"
   ]
  },
  {
   "cell_type": "code",
   "execution_count": 25,
   "metadata": {
    "ExecuteTime": {
     "end_time": "2019-10-25T14:25:43.236189Z",
     "start_time": "2019-10-25T14:25:38.332666Z"
    },
    "slideshow": {
     "slide_type": "slide"
    }
   },
   "outputs": [
    {
     "data": {
      "text/html": [
       "\n",
       "\n",
       "\n",
       "\n",
       "\n",
       "\n",
       "  <div class=\"bk-root\" id=\"aa491954-ac1c-4b71-bb95-84848c11bf8f\" data-root-id=\"8174\"></div>\n"
      ]
     },
     "metadata": {},
     "output_type": "display_data"
    },
    {
     "data": {
      "application/javascript": [
       "(function(root) {\n",
       "  function embed_document(root) {\n",
       "    \n",
       "  var docs_json = {\"ffc380e9-e964-4e5f-9555-496b8ecd1246\":{\"roots\":{\"references\":[{\"attributes\":{\"below\":[{\"id\":\"8185\",\"type\":\"LinearAxis\"}],\"center\":[{\"id\":\"8189\",\"type\":\"Grid\"},{\"id\":\"8194\",\"type\":\"Grid\"},{\"id\":\"8219\",\"type\":\"Legend\"}],\"left\":[{\"id\":\"8190\",\"type\":\"LinearAxis\"}],\"plot_height\":400,\"plot_width\":800,\"renderers\":[{\"id\":\"8211\",\"type\":\"GlyphRenderer\"},{\"id\":\"8224\",\"type\":\"GlyphRenderer\"},{\"id\":\"8229\",\"type\":\"GlyphRenderer\"},{\"id\":\"8245\",\"type\":\"GlyphRenderer\"}],\"title\":{\"id\":\"8175\",\"type\":\"Title\"},\"toolbar\":{\"id\":\"8201\",\"type\":\"Toolbar\"},\"x_range\":{\"id\":\"8177\",\"type\":\"DataRange1d\"},\"x_scale\":{\"id\":\"8181\",\"type\":\"LinearScale\"},\"y_range\":{\"id\":\"8179\",\"type\":\"DataRange1d\"},\"y_scale\":{\"id\":\"8183\",\"type\":\"LinearScale\"}},\"id\":\"8174\",\"subtype\":\"Figure\",\"type\":\"Plot\"},{\"attributes\":{\"active_drag\":\"auto\",\"active_inspect\":\"auto\",\"active_multi\":null,\"active_scroll\":\"auto\",\"active_tap\":\"auto\",\"tools\":[{\"id\":\"8195\",\"type\":\"PanTool\"},{\"id\":\"8196\",\"type\":\"WheelZoomTool\"},{\"id\":\"8197\",\"type\":\"BoxZoomTool\"},{\"id\":\"8198\",\"type\":\"SaveTool\"},{\"id\":\"8199\",\"type\":\"ResetTool\"},{\"id\":\"8200\",\"type\":\"HelpTool\"},{\"id\":\"8247\",\"type\":\"HoverTool\"}]},\"id\":\"8201\",\"type\":\"Toolbar\"},{\"attributes\":{\"line_color\":\"#5430F1\",\"x\":{\"field\":\"x\"},\"y\":{\"field\":\"y\"}},\"id\":\"8227\",\"type\":\"Line\"},{\"attributes\":{},\"id\":\"8196\",\"type\":\"WheelZoomTool\"},{\"attributes\":{\"callback\":null,\"data\":{\"x\":[\"2000\",\"2001\",\"2002\",\"2003\",\"2004\",\"2005\",\"2006\",\"2007\",\"2008\",\"2009\",\"2010\",\"2011\",\"2012\",\"2013\",\"2014\",\"2015\",\"2016\",\"2017\"],\"y\":[33.37755563924882,29.576682084815303,33.39105245017255,33.78858371701915,27.636590845295633,27.45339800030305,23.324341793120627,23.17127908568781,22.095315459859545,21.858282304050356,21.554388636153632,25.18934762572364,21.227554530089638,24.16219498381551,24.02036266685082,24.579997184779092,25.221609621925957,24.28833783517891]},\"selected\":{\"id\":\"8587\",\"type\":\"Selection\"},\"selection_policy\":{\"id\":\"8586\",\"type\":\"UnionRenderers\"}},\"id\":\"8226\",\"type\":\"ColumnDataSource\"},{\"attributes\":{\"line_alpha\":0.1,\"line_color\":\"#1f77b4\",\"x\":{\"field\":\"x\"},\"y\":{\"field\":\"y\"}},\"id\":\"8210\",\"type\":\"Line\"},{\"attributes\":{\"source\":{\"id\":\"8242\",\"type\":\"ColumnDataSource\"}},\"id\":\"8246\",\"type\":\"CDSView\"},{\"attributes\":{\"overlay\":{\"id\":\"8218\",\"type\":\"BoxAnnotation\"}},\"id\":\"8197\",\"type\":\"BoxZoomTool\"},{\"attributes\":{},\"id\":\"8588\",\"type\":\"UnionRenderers\"},{\"attributes\":{\"source\":{\"id\":\"8221\",\"type\":\"ColumnDataSource\"}},\"id\":\"8225\",\"type\":\"CDSView\"},{\"attributes\":{},\"id\":\"8198\",\"type\":\"SaveTool\"},{\"attributes\":{},\"id\":\"8586\",\"type\":\"UnionRenderers\"},{\"attributes\":{\"callback\":null,\"data\":{\"x\":[\"2000\",\"2001\",\"2002\",\"2003\",\"2004\",\"2005\",\"2006\",\"2007\",\"2008\",\"2009\",\"2010\",\"2011\",\"2012\",\"2013\",\"2014\",\"2015\",\"2016\",\"2017\"],\"y\":[50.219754446492956,45.26929484916652,44.56567701152669,45.6269370204446,46.76775854418482,47.1921065769571,46.27871208171681,44.66074157882838,46.9343675391617,46.3074080366361,44.50508898614148,45.14368089916075,42.48998185792987,42.00549530078297,39.07495315457117,41.85413035115011,37.28410352715137,38.768702276413286]},\"selected\":{\"id\":\"8238\",\"type\":\"Selection\"},\"selection_policy\":{\"id\":\"8237\",\"type\":\"UnionRenderers\"}},\"id\":\"8208\",\"type\":\"ColumnDataSource\"},{\"attributes\":{\"label\":{\"value\":\"Developing excluding LDCs\"},\"renderers\":[{\"id\":\"8229\",\"type\":\"GlyphRenderer\"}]},\"id\":\"8241\",\"type\":\"LegendItem\"},{\"attributes\":{\"data_source\":{\"id\":\"8226\",\"type\":\"ColumnDataSource\"},\"glyph\":{\"id\":\"8227\",\"type\":\"Line\"},\"hover_glyph\":null,\"muted_glyph\":null,\"nonselection_glyph\":{\"id\":\"8228\",\"type\":\"Line\"},\"selection_glyph\":null,\"view\":{\"id\":\"8230\",\"type\":\"CDSView\"}},\"id\":\"8229\",\"type\":\"GlyphRenderer\"},{\"attributes\":{\"fill_color\":{\"value\":\"#FA1857\"},\"line_color\":{\"value\":\"#FA1857\"},\"line_width\":{\"value\":3},\"x\":{\"field\":\"x\"},\"y\":{\"field\":\"y\"}},\"id\":\"8222\",\"type\":\"Circle\"},{\"attributes\":{\"callback\":null},\"id\":\"8177\",\"type\":\"DataRange1d\"},{\"attributes\":{\"data_source\":{\"id\":\"8242\",\"type\":\"ColumnDataSource\"},\"glyph\":{\"id\":\"8243\",\"type\":\"Circle\"},\"hover_glyph\":null,\"muted_glyph\":null,\"nonselection_glyph\":{\"id\":\"8244\",\"type\":\"Circle\"},\"selection_glyph\":null,\"view\":{\"id\":\"8246\",\"type\":\"CDSView\"}},\"id\":\"8245\",\"type\":\"GlyphRenderer\"},{\"attributes\":{},\"id\":\"8195\",\"type\":\"PanTool\"},{\"attributes\":{\"fill_alpha\":{\"value\":0.1},\"fill_color\":{\"value\":\"#1f77b4\"},\"line_alpha\":{\"value\":0.1},\"line_color\":{\"value\":\"#1f77b4\"},\"line_width\":{\"value\":3},\"x\":{\"field\":\"x\"},\"y\":{\"field\":\"y\"}},\"id\":\"8223\",\"type\":\"Circle\"},{\"attributes\":{\"fill_color\":{\"value\":\"#5430F1\"},\"line_color\":{\"value\":\"#5430F1\"},\"line_width\":{\"value\":3},\"x\":{\"field\":\"x\"},\"y\":{\"field\":\"y\"}},\"id\":\"8243\",\"type\":\"Circle\"},{\"attributes\":{\"line_color\":\"#FA1857\",\"x\":{\"field\":\"x\"},\"y\":{\"field\":\"y\"}},\"id\":\"8209\",\"type\":\"Line\"},{\"attributes\":{\"items\":[{\"id\":\"8220\",\"type\":\"LegendItem\"},{\"id\":\"8241\",\"type\":\"LegendItem\"}],\"location\":\"bottom_left\"},\"id\":\"8219\",\"type\":\"Legend\"},{\"attributes\":{},\"id\":\"8589\",\"type\":\"Selection\"},{\"attributes\":{\"data_source\":{\"id\":\"8221\",\"type\":\"ColumnDataSource\"},\"glyph\":{\"id\":\"8222\",\"type\":\"Circle\"},\"hover_glyph\":null,\"muted_glyph\":null,\"nonselection_glyph\":{\"id\":\"8223\",\"type\":\"Circle\"},\"selection_glyph\":null,\"view\":{\"id\":\"8225\",\"type\":\"CDSView\"}},\"id\":\"8224\",\"type\":\"GlyphRenderer\"},{\"attributes\":{},\"id\":\"8191\",\"type\":\"BasicTicker\"},{\"attributes\":{\"line_alpha\":0.1,\"line_color\":\"#1f77b4\",\"x\":{\"field\":\"x\"},\"y\":{\"field\":\"y\"}},\"id\":\"8228\",\"type\":\"Line\"},{\"attributes\":{\"fill_alpha\":{\"value\":0.1},\"fill_color\":{\"value\":\"#1f77b4\"},\"line_alpha\":{\"value\":0.1},\"line_color\":{\"value\":\"#1f77b4\"},\"line_width\":{\"value\":3},\"x\":{\"field\":\"x\"},\"y\":{\"field\":\"y\"}},\"id\":\"8244\",\"type\":\"Circle\"},{\"attributes\":{\"label\":{\"value\":\"LDCs\"},\"renderers\":[{\"id\":\"8211\",\"type\":\"GlyphRenderer\"}]},\"id\":\"8220\",\"type\":\"LegendItem\"},{\"attributes\":{},\"id\":\"8587\",\"type\":\"Selection\"},{\"attributes\":{\"text\":\"Pupil-teacher ratio, primary weighted against Population, total\"},\"id\":\"8175\",\"type\":\"Title\"},{\"attributes\":{\"callback\":null,\"data\":{\"x\":[\"2000\",\"2001\",\"2002\",\"2003\",\"2004\",\"2005\",\"2006\",\"2007\",\"2008\",\"2009\",\"2010\",\"2011\",\"2012\",\"2013\",\"2014\",\"2015\",\"2016\",\"2017\"],\"y\":[50.219754446492956,45.26929484916652,44.56567701152669,45.6269370204446,46.76775854418482,47.1921065769571,46.27871208171681,44.66074157882838,46.9343675391617,46.3074080366361,44.50508898614148,45.14368089916075,42.48998185792987,42.00549530078297,39.07495315457117,41.85413035115011,37.28410352715137,38.768702276413286]},\"selected\":{\"id\":\"8240\",\"type\":\"Selection\"},\"selection_policy\":{\"id\":\"8239\",\"type\":\"UnionRenderers\"}},\"id\":\"8221\",\"type\":\"ColumnDataSource\"},{\"attributes\":{\"dimension\":1,\"grid_line_alpha\":0.5,\"ticker\":{\"id\":\"8191\",\"type\":\"BasicTicker\"}},\"id\":\"8194\",\"type\":\"Grid\"},{\"attributes\":{\"grid_line_color\":null,\"ticker\":{\"id\":\"8186\",\"type\":\"BasicTicker\"}},\"id\":\"8189\",\"type\":\"Grid\"},{\"attributes\":{\"callback\":null,\"tooltips\":\"                \\n        <div style=padding=5px>Year:@x</div>\\n        <div style=padding=5px>Value:@y</div>        \\n        \"},\"id\":\"8247\",\"type\":\"HoverTool\"},{\"attributes\":{},\"id\":\"8240\",\"type\":\"Selection\"},{\"attributes\":{},\"id\":\"8217\",\"type\":\"BasicTickFormatter\"},{\"attributes\":{},\"id\":\"8186\",\"type\":\"BasicTicker\"},{\"attributes\":{},\"id\":\"8239\",\"type\":\"UnionRenderers\"},{\"attributes\":{\"axis_label\":\"SE.PRM.ENRL.TC.ZS\",\"formatter\":{\"id\":\"8217\",\"type\":\"BasicTickFormatter\"},\"ticker\":{\"id\":\"8191\",\"type\":\"BasicTicker\"}},\"id\":\"8190\",\"type\":\"LinearAxis\"},{\"attributes\":{\"source\":{\"id\":\"8226\",\"type\":\"ColumnDataSource\"}},\"id\":\"8230\",\"type\":\"CDSView\"},{\"attributes\":{\"bottom_units\":\"screen\",\"fill_alpha\":{\"value\":0.5},\"fill_color\":{\"value\":\"lightgrey\"},\"left_units\":\"screen\",\"level\":\"overlay\",\"line_alpha\":{\"value\":1.0},\"line_color\":{\"value\":\"black\"},\"line_dash\":[4,4],\"line_width\":{\"value\":2},\"render_mode\":\"css\",\"right_units\":\"screen\",\"top_units\":\"screen\"},\"id\":\"8218\",\"type\":\"BoxAnnotation\"},{\"attributes\":{},\"id\":\"8183\",\"type\":\"LinearScale\"},{\"attributes\":{\"callback\":null,\"data\":{\"x\":[\"2000\",\"2001\",\"2002\",\"2003\",\"2004\",\"2005\",\"2006\",\"2007\",\"2008\",\"2009\",\"2010\",\"2011\",\"2012\",\"2013\",\"2014\",\"2015\",\"2016\",\"2017\"],\"y\":[33.37755563924882,29.576682084815303,33.39105245017255,33.78858371701915,27.636590845295633,27.45339800030305,23.324341793120627,23.17127908568781,22.095315459859545,21.858282304050356,21.554388636153632,25.18934762572364,21.227554530089638,24.16219498381551,24.02036266685082,24.579997184779092,25.221609621925957,24.28833783517891]},\"selected\":{\"id\":\"8589\",\"type\":\"Selection\"},\"selection_policy\":{\"id\":\"8588\",\"type\":\"UnionRenderers\"}},\"id\":\"8242\",\"type\":\"ColumnDataSource\"},{\"attributes\":{\"data_source\":{\"id\":\"8208\",\"type\":\"ColumnDataSource\"},\"glyph\":{\"id\":\"8209\",\"type\":\"Line\"},\"hover_glyph\":null,\"muted_glyph\":null,\"nonselection_glyph\":{\"id\":\"8210\",\"type\":\"Line\"},\"selection_glyph\":null,\"view\":{\"id\":\"8212\",\"type\":\"CDSView\"}},\"id\":\"8211\",\"type\":\"GlyphRenderer\"},{\"attributes\":{},\"id\":\"8181\",\"type\":\"LinearScale\"},{\"attributes\":{},\"id\":\"8238\",\"type\":\"Selection\"},{\"attributes\":{\"axis_label\":\"Years\",\"formatter\":{\"id\":\"8215\",\"type\":\"BasicTickFormatter\"},\"ticker\":{\"id\":\"8186\",\"type\":\"BasicTicker\"}},\"id\":\"8185\",\"type\":\"LinearAxis\"},{\"attributes\":{\"source\":{\"id\":\"8208\",\"type\":\"ColumnDataSource\"}},\"id\":\"8212\",\"type\":\"CDSView\"},{\"attributes\":{},\"id\":\"8199\",\"type\":\"ResetTool\"},{\"attributes\":{},\"id\":\"8237\",\"type\":\"UnionRenderers\"},{\"attributes\":{},\"id\":\"8215\",\"type\":\"BasicTickFormatter\"},{\"attributes\":{\"callback\":null},\"id\":\"8179\",\"type\":\"DataRange1d\"},{\"attributes\":{},\"id\":\"8200\",\"type\":\"HelpTool\"}],\"root_ids\":[\"8174\"]},\"title\":\"Bokeh Application\",\"version\":\"1.3.4\"}};\n",
       "  var render_items = [{\"docid\":\"ffc380e9-e964-4e5f-9555-496b8ecd1246\",\"roots\":{\"8174\":\"aa491954-ac1c-4b71-bb95-84848c11bf8f\"}}];\n",
       "  root.Bokeh.embed.embed_items_notebook(docs_json, render_items);\n",
       "\n",
       "  }\n",
       "  if (root.Bokeh !== undefined) {\n",
       "    embed_document(root);\n",
       "  } else {\n",
       "    var attempts = 0;\n",
       "    var timer = setInterval(function(root) {\n",
       "      if (root.Bokeh !== undefined) {\n",
       "        embed_document(root);\n",
       "        clearInterval(timer);\n",
       "      }\n",
       "      attempts++;\n",
       "      if (attempts > 100) {\n",
       "        console.log(\"Bokeh: ERROR: Unable to run BokehJS code because BokehJS library is missing\");\n",
       "        clearInterval(timer);\n",
       "      }\n",
       "    }, 10, root)\n",
       "  }\n",
       "})(window);"
      ],
      "application/vnd.bokehjs_exec.v0+json": ""
     },
     "metadata": {
      "application/vnd.bokehjs_exec.v0+json": {
       "id": "8174"
      }
     },
     "output_type": "display_data"
    }
   ],
   "source": [
    "# Pupil teacher ratio\n",
    "years = list(map(str, list(range(2000,2018))))\n",
    "result = show_weighted_average(years, 'SE.PRM.ENRL.TC.ZS', 'SP.POP.TOTL', \n",
    "                               ['LDCs', 'Developing excluding LDCs'])"
   ]
  },
  {
   "cell_type": "code",
   "execution_count": 26,
   "metadata": {
    "ExecuteTime": {
     "end_time": "2019-10-25T14:25:45.212387Z",
     "start_time": "2019-10-25T14:25:43.238485Z"
    },
    "scrolled": true,
    "slideshow": {
     "slide_type": "slide"
    }
   },
   "outputs": [
    {
     "data": {
      "text/html": [
       "\n",
       "\n",
       "\n",
       "\n",
       "\n",
       "\n",
       "  <div class=\"bk-root\" id=\"a5e9656e-df84-4ed3-b0ab-55b172ef952f\" data-root-id=\"8674\"></div>\n"
      ]
     },
     "metadata": {},
     "output_type": "display_data"
    },
    {
     "data": {
      "application/javascript": [
       "(function(root) {\n",
       "  function embed_document(root) {\n",
       "    \n",
       "  var docs_json = {\"78aee6b7-a2b4-478e-92ed-c4329cefb60d\":{\"roots\":{\"references\":[{\"attributes\":{\"below\":[{\"id\":\"8685\",\"type\":\"LinearAxis\"}],\"center\":[{\"id\":\"8689\",\"type\":\"Grid\"},{\"id\":\"8694\",\"type\":\"Grid\"},{\"id\":\"8719\",\"type\":\"Legend\"}],\"left\":[{\"id\":\"8690\",\"type\":\"LinearAxis\"}],\"plot_height\":400,\"plot_width\":800,\"renderers\":[{\"id\":\"8711\",\"type\":\"GlyphRenderer\"},{\"id\":\"8724\",\"type\":\"GlyphRenderer\"},{\"id\":\"8729\",\"type\":\"GlyphRenderer\"},{\"id\":\"8745\",\"type\":\"GlyphRenderer\"},{\"id\":\"8750\",\"type\":\"GlyphRenderer\"},{\"id\":\"8770\",\"type\":\"GlyphRenderer\"}],\"title\":{\"id\":\"8675\",\"type\":\"Title\"},\"toolbar\":{\"id\":\"8701\",\"type\":\"Toolbar\"},\"x_range\":{\"id\":\"8677\",\"type\":\"DataRange1d\"},\"x_scale\":{\"id\":\"8681\",\"type\":\"LinearScale\"},\"y_range\":{\"id\":\"8679\",\"type\":\"DataRange1d\"},\"y_scale\":{\"id\":\"8683\",\"type\":\"LinearScale\"}},\"id\":\"8674\",\"subtype\":\"Figure\",\"type\":\"Plot\"},{\"attributes\":{\"line_color\":\"#2CC775\",\"x\":{\"field\":\"x\"},\"y\":{\"field\":\"y\"}},\"id\":\"8748\",\"type\":\"Line\"},{\"attributes\":{},\"id\":\"8717\",\"type\":\"BasicTickFormatter\"},{\"attributes\":{\"line_alpha\":0.1,\"line_color\":\"#1f77b4\",\"x\":{\"field\":\"x\"},\"y\":{\"field\":\"y\"}},\"id\":\"8749\",\"type\":\"Line\"},{\"attributes\":{\"fill_color\":{\"value\":\"#5430F1\"},\"line_color\":{\"value\":\"#5430F1\"},\"line_width\":{\"value\":3},\"x\":{\"field\":\"x\"},\"y\":{\"field\":\"y\"}},\"id\":\"8743\",\"type\":\"Circle\"},{\"attributes\":{\"fill_color\":{\"value\":\"#2CC775\"},\"line_color\":{\"value\":\"#2CC775\"},\"line_width\":{\"value\":3},\"x\":{\"field\":\"x\"},\"y\":{\"field\":\"y\"}},\"id\":\"8768\",\"type\":\"Circle\"},{\"attributes\":{\"data_source\":{\"id\":\"8747\",\"type\":\"ColumnDataSource\"},\"glyph\":{\"id\":\"8748\",\"type\":\"Line\"},\"hover_glyph\":null,\"muted_glyph\":null,\"nonselection_glyph\":{\"id\":\"8749\",\"type\":\"Line\"},\"selection_glyph\":null,\"view\":{\"id\":\"8751\",\"type\":\"CDSView\"}},\"id\":\"8750\",\"type\":\"GlyphRenderer\"},{\"attributes\":{\"items\":[{\"id\":\"8720\",\"type\":\"LegendItem\"},{\"id\":\"8741\",\"type\":\"LegendItem\"},{\"id\":\"8766\",\"type\":\"LegendItem\"}],\"location\":\"bottom_left\"},\"id\":\"8719\",\"type\":\"Legend\"},{\"attributes\":{\"text\":\"Trained teachers in primary education (% of total teachers) weighted against Primary education, teachers\"},\"id\":\"8675\",\"type\":\"Title\"},{\"attributes\":{\"source\":{\"id\":\"8708\",\"type\":\"ColumnDataSource\"}},\"id\":\"8712\",\"type\":\"CDSView\"},{\"attributes\":{\"callback\":null,\"data\":{\"x\":[\"2005\",\"2006\",\"2007\",\"2008\",\"2009\",\"2010\",\"2011\",\"2012\",\"2013\",\"2014\"],\"y\":[80.72632882678737,81.71278915097777,90.68777914211722,90.47838782500084,90.73361691395684,84.09064780984899,88.1094587699186,88.97810074188251,90.90131756789039,93.93159751056649]},\"selected\":{\"id\":\"8765\",\"type\":\"Selection\"},\"selection_policy\":{\"id\":\"8764\",\"type\":\"UnionRenderers\"}},\"id\":\"8742\",\"type\":\"ColumnDataSource\"},{\"attributes\":{\"bottom_units\":\"screen\",\"fill_alpha\":{\"value\":0.5},\"fill_color\":{\"value\":\"lightgrey\"},\"left_units\":\"screen\",\"level\":\"overlay\",\"line_alpha\":{\"value\":1.0},\"line_color\":{\"value\":\"black\"},\"line_dash\":[4,4],\"line_width\":{\"value\":2},\"render_mode\":\"css\",\"right_units\":\"screen\",\"top_units\":\"screen\"},\"id\":\"8718\",\"type\":\"BoxAnnotation\"},{\"attributes\":{\"callback\":null,\"tooltips\":\"                \\n        <div style=padding=5px>Year:@x</div>\\n        <div style=padding=5px>Value:@y</div>        \\n        \"},\"id\":\"8772\",\"type\":\"HoverTool\"},{\"attributes\":{\"data_source\":{\"id\":\"8742\",\"type\":\"ColumnDataSource\"},\"glyph\":{\"id\":\"8743\",\"type\":\"Circle\"},\"hover_glyph\":null,\"muted_glyph\":null,\"nonselection_glyph\":{\"id\":\"8744\",\"type\":\"Circle\"},\"selection_glyph\":null,\"view\":{\"id\":\"8746\",\"type\":\"CDSView\"}},\"id\":\"8745\",\"type\":\"GlyphRenderer\"},{\"attributes\":{},\"id\":\"8715\",\"type\":\"BasicTickFormatter\"},{\"attributes\":{\"fill_alpha\":{\"value\":0.1},\"fill_color\":{\"value\":\"#1f77b4\"},\"line_alpha\":{\"value\":0.1},\"line_color\":{\"value\":\"#1f77b4\"},\"line_width\":{\"value\":3},\"x\":{\"field\":\"x\"},\"y\":{\"field\":\"y\"}},\"id\":\"8744\",\"type\":\"Circle\"},{\"attributes\":{},\"id\":\"8700\",\"type\":\"HelpTool\"},{\"attributes\":{\"source\":{\"id\":\"8742\",\"type\":\"ColumnDataSource\"}},\"id\":\"8746\",\"type\":\"CDSView\"},{\"attributes\":{},\"id\":\"8740\",\"type\":\"Selection\"},{\"attributes\":{},\"id\":\"8765\",\"type\":\"Selection\"},{\"attributes\":{\"callback\":null,\"data\":{\"x\":[\"2005\",\"2006\",\"2007\",\"2008\",\"2009\",\"2010\",\"2011\",\"2012\",\"2013\",\"2014\"],\"y\":[94.93443,95.15333,95.36857,95.04649,95.58816,95.58591,96.00005,95.99993,96.40006,96.78775]},\"selected\":{\"id\":\"9130\",\"type\":\"Selection\"},\"selection_policy\":{\"id\":\"9129\",\"type\":\"UnionRenderers\"}},\"id\":\"8747\",\"type\":\"ColumnDataSource\"},{\"attributes\":{},\"id\":\"8739\",\"type\":\"UnionRenderers\"},{\"attributes\":{\"active_drag\":\"auto\",\"active_inspect\":\"auto\",\"active_multi\":null,\"active_scroll\":\"auto\",\"active_tap\":\"auto\",\"tools\":[{\"id\":\"8695\",\"type\":\"PanTool\"},{\"id\":\"8696\",\"type\":\"WheelZoomTool\"},{\"id\":\"8697\",\"type\":\"BoxZoomTool\"},{\"id\":\"8698\",\"type\":\"SaveTool\"},{\"id\":\"8699\",\"type\":\"ResetTool\"},{\"id\":\"8700\",\"type\":\"HelpTool\"},{\"id\":\"8772\",\"type\":\"HoverTool\"}]},\"id\":\"8701\",\"type\":\"Toolbar\"},{\"attributes\":{\"line_alpha\":0.1,\"line_color\":\"#1f77b4\",\"x\":{\"field\":\"x\"},\"y\":{\"field\":\"y\"}},\"id\":\"8710\",\"type\":\"Line\"},{\"attributes\":{\"label\":{\"value\":\"Developing excluding LDCs\"},\"renderers\":[{\"id\":\"8729\",\"type\":\"GlyphRenderer\"}]},\"id\":\"8741\",\"type\":\"LegendItem\"},{\"attributes\":{},\"id\":\"8683\",\"type\":\"LinearScale\"},{\"attributes\":{},\"id\":\"8699\",\"type\":\"ResetTool\"},{\"attributes\":{},\"id\":\"9131\",\"type\":\"UnionRenderers\"},{\"attributes\":{\"overlay\":{\"id\":\"8718\",\"type\":\"BoxAnnotation\"}},\"id\":\"8697\",\"type\":\"BoxZoomTool\"},{\"attributes\":{\"source\":{\"id\":\"8726\",\"type\":\"ColumnDataSource\"}},\"id\":\"8730\",\"type\":\"CDSView\"},{\"attributes\":{\"data_source\":{\"id\":\"8708\",\"type\":\"ColumnDataSource\"},\"glyph\":{\"id\":\"8709\",\"type\":\"Line\"},\"hover_glyph\":null,\"muted_glyph\":null,\"nonselection_glyph\":{\"id\":\"8710\",\"type\":\"Line\"},\"selection_glyph\":null,\"view\":{\"id\":\"8712\",\"type\":\"CDSView\"}},\"id\":\"8711\",\"type\":\"GlyphRenderer\"},{\"attributes\":{\"callback\":null,\"data\":{\"x\":[\"2005\",\"2006\",\"2007\",\"2008\",\"2009\",\"2010\",\"2011\",\"2012\",\"2013\",\"2014\"],\"y\":[66.33843499380261,73.6181546297905,79.87922435274227,76.22568962608408,80.2435538339136,84.97842027154721,70.47245477285507,81.31887968744829,76.00179129461559,81.44549818899193]},\"selected\":{\"id\":\"8738\",\"type\":\"Selection\"},\"selection_policy\":{\"id\":\"8737\",\"type\":\"UnionRenderers\"}},\"id\":\"8708\",\"type\":\"ColumnDataSource\"},{\"attributes\":{},\"id\":\"9132\",\"type\":\"Selection\"},{\"attributes\":{},\"id\":\"8764\",\"type\":\"UnionRenderers\"},{\"attributes\":{},\"id\":\"8681\",\"type\":\"LinearScale\"},{\"attributes\":{},\"id\":\"8695\",\"type\":\"PanTool\"},{\"attributes\":{},\"id\":\"8737\",\"type\":\"UnionRenderers\"},{\"attributes\":{},\"id\":\"8698\",\"type\":\"SaveTool\"},{\"attributes\":{\"dimension\":1,\"grid_line_alpha\":0.5,\"ticker\":{\"id\":\"8691\",\"type\":\"BasicTicker\"}},\"id\":\"8694\",\"type\":\"Grid\"},{\"attributes\":{\"line_color\":\"#5430F1\",\"x\":{\"field\":\"x\"},\"y\":{\"field\":\"y\"}},\"id\":\"8727\",\"type\":\"Line\"},{\"attributes\":{},\"id\":\"8696\",\"type\":\"WheelZoomTool\"},{\"attributes\":{\"callback\":null},\"id\":\"8679\",\"type\":\"DataRange1d\"},{\"attributes\":{},\"id\":\"8738\",\"type\":\"Selection\"},{\"attributes\":{},\"id\":\"9129\",\"type\":\"UnionRenderers\"},{\"attributes\":{},\"id\":\"8763\",\"type\":\"Selection\"},{\"attributes\":{\"callback\":null},\"id\":\"8677\",\"type\":\"DataRange1d\"},{\"attributes\":{\"fill_color\":{\"value\":\"#FA1857\"},\"line_color\":{\"value\":\"#FA1857\"},\"line_width\":{\"value\":3},\"x\":{\"field\":\"x\"},\"y\":{\"field\":\"y\"}},\"id\":\"8722\",\"type\":\"Circle\"},{\"attributes\":{\"line_alpha\":0.1,\"line_color\":\"#1f77b4\",\"x\":{\"field\":\"x\"},\"y\":{\"field\":\"y\"}},\"id\":\"8728\",\"type\":\"Line\"},{\"attributes\":{},\"id\":\"9130\",\"type\":\"Selection\"},{\"attributes\":{\"data_source\":{\"id\":\"8721\",\"type\":\"ColumnDataSource\"},\"glyph\":{\"id\":\"8722\",\"type\":\"Circle\"},\"hover_glyph\":null,\"muted_glyph\":null,\"nonselection_glyph\":{\"id\":\"8723\",\"type\":\"Circle\"},\"selection_glyph\":null,\"view\":{\"id\":\"8725\",\"type\":\"CDSView\"}},\"id\":\"8724\",\"type\":\"GlyphRenderer\"},{\"attributes\":{\"line_color\":\"#FA1857\",\"x\":{\"field\":\"x\"},\"y\":{\"field\":\"y\"}},\"id\":\"8709\",\"type\":\"Line\"},{\"attributes\":{\"fill_alpha\":{\"value\":0.1},\"fill_color\":{\"value\":\"#1f77b4\"},\"line_alpha\":{\"value\":0.1},\"line_color\":{\"value\":\"#1f77b4\"},\"line_width\":{\"value\":3},\"x\":{\"field\":\"x\"},\"y\":{\"field\":\"y\"}},\"id\":\"8769\",\"type\":\"Circle\"},{\"attributes\":{\"axis_label\":\"SE.PRM.TCAQ.ZS\",\"formatter\":{\"id\":\"8717\",\"type\":\"BasicTickFormatter\"},\"ticker\":{\"id\":\"8691\",\"type\":\"BasicTicker\"}},\"id\":\"8690\",\"type\":\"LinearAxis\"},{\"attributes\":{\"data_source\":{\"id\":\"8726\",\"type\":\"ColumnDataSource\"},\"glyph\":{\"id\":\"8727\",\"type\":\"Line\"},\"hover_glyph\":null,\"muted_glyph\":null,\"nonselection_glyph\":{\"id\":\"8728\",\"type\":\"Line\"},\"selection_glyph\":null,\"view\":{\"id\":\"8730\",\"type\":\"CDSView\"}},\"id\":\"8729\",\"type\":\"GlyphRenderer\"},{\"attributes\":{\"data_source\":{\"id\":\"8767\",\"type\":\"ColumnDataSource\"},\"glyph\":{\"id\":\"8768\",\"type\":\"Circle\"},\"hover_glyph\":null,\"muted_glyph\":null,\"nonselection_glyph\":{\"id\":\"8769\",\"type\":\"Circle\"},\"selection_glyph\":null,\"view\":{\"id\":\"8771\",\"type\":\"CDSView\"}},\"id\":\"8770\",\"type\":\"GlyphRenderer\"},{\"attributes\":{\"grid_line_color\":null,\"ticker\":{\"id\":\"8686\",\"type\":\"BasicTicker\"}},\"id\":\"8689\",\"type\":\"Grid\"},{\"attributes\":{},\"id\":\"8691\",\"type\":\"BasicTicker\"},{\"attributes\":{\"source\":{\"id\":\"8767\",\"type\":\"ColumnDataSource\"}},\"id\":\"8771\",\"type\":\"CDSView\"},{\"attributes\":{\"callback\":null,\"data\":{\"x\":[\"2005\",\"2006\",\"2007\",\"2008\",\"2009\",\"2010\",\"2011\",\"2012\",\"2013\",\"2014\"],\"y\":[66.33843499380261,73.6181546297905,79.87922435274227,76.22568962608408,80.2435538339136,84.97842027154721,70.47245477285507,81.31887968744829,76.00179129461559,81.44549818899193]},\"selected\":{\"id\":\"8740\",\"type\":\"Selection\"},\"selection_policy\":{\"id\":\"8739\",\"type\":\"UnionRenderers\"}},\"id\":\"8721\",\"type\":\"ColumnDataSource\"},{\"attributes\":{},\"id\":\"8762\",\"type\":\"UnionRenderers\"},{\"attributes\":{\"source\":{\"id\":\"8721\",\"type\":\"ColumnDataSource\"}},\"id\":\"8725\",\"type\":\"CDSView\"},{\"attributes\":{\"label\":{\"value\":\"OECD\"},\"renderers\":[{\"id\":\"8750\",\"type\":\"GlyphRenderer\"}]},\"id\":\"8766\",\"type\":\"LegendItem\"},{\"attributes\":{\"axis_label\":\"Years\",\"formatter\":{\"id\":\"8715\",\"type\":\"BasicTickFormatter\"},\"ticker\":{\"id\":\"8686\",\"type\":\"BasicTicker\"}},\"id\":\"8685\",\"type\":\"LinearAxis\"},{\"attributes\":{\"callback\":null,\"data\":{\"x\":[\"2005\",\"2006\",\"2007\",\"2008\",\"2009\",\"2010\",\"2011\",\"2012\",\"2013\",\"2014\"],\"y\":[80.72632882678737,81.71278915097777,90.68777914211722,90.47838782500084,90.73361691395684,84.09064780984899,88.1094587699186,88.97810074188251,90.90131756789039,93.93159751056649]},\"selected\":{\"id\":\"8763\",\"type\":\"Selection\"},\"selection_policy\":{\"id\":\"8762\",\"type\":\"UnionRenderers\"}},\"id\":\"8726\",\"type\":\"ColumnDataSource\"},{\"attributes\":{\"source\":{\"id\":\"8747\",\"type\":\"ColumnDataSource\"}},\"id\":\"8751\",\"type\":\"CDSView\"},{\"attributes\":{},\"id\":\"8686\",\"type\":\"BasicTicker\"},{\"attributes\":{\"callback\":null,\"data\":{\"x\":[\"2005\",\"2006\",\"2007\",\"2008\",\"2009\",\"2010\",\"2011\",\"2012\",\"2013\",\"2014\"],\"y\":[94.93443,95.15333,95.36857,95.04649,95.58816,95.58591,96.00005,95.99993,96.40006,96.78775]},\"selected\":{\"id\":\"9132\",\"type\":\"Selection\"},\"selection_policy\":{\"id\":\"9131\",\"type\":\"UnionRenderers\"}},\"id\":\"8767\",\"type\":\"ColumnDataSource\"},{\"attributes\":{\"label\":{\"value\":\"LDCs\"},\"renderers\":[{\"id\":\"8711\",\"type\":\"GlyphRenderer\"}]},\"id\":\"8720\",\"type\":\"LegendItem\"},{\"attributes\":{\"fill_alpha\":{\"value\":0.1},\"fill_color\":{\"value\":\"#1f77b4\"},\"line_alpha\":{\"value\":0.1},\"line_color\":{\"value\":\"#1f77b4\"},\"line_width\":{\"value\":3},\"x\":{\"field\":\"x\"},\"y\":{\"field\":\"y\"}},\"id\":\"8723\",\"type\":\"Circle\"}],\"root_ids\":[\"8674\"]},\"title\":\"Bokeh Application\",\"version\":\"1.3.4\"}};\n",
       "  var render_items = [{\"docid\":\"78aee6b7-a2b4-478e-92ed-c4329cefb60d\",\"roots\":{\"8674\":\"a5e9656e-df84-4ed3-b0ab-55b172ef952f\"}}];\n",
       "  root.Bokeh.embed.embed_items_notebook(docs_json, render_items);\n",
       "\n",
       "  }\n",
       "  if (root.Bokeh !== undefined) {\n",
       "    embed_document(root);\n",
       "  } else {\n",
       "    var attempts = 0;\n",
       "    var timer = setInterval(function(root) {\n",
       "      if (root.Bokeh !== undefined) {\n",
       "        embed_document(root);\n",
       "        clearInterval(timer);\n",
       "      }\n",
       "      attempts++;\n",
       "      if (attempts > 100) {\n",
       "        console.log(\"Bokeh: ERROR: Unable to run BokehJS code because BokehJS library is missing\");\n",
       "        clearInterval(timer);\n",
       "      }\n",
       "    }, 10, root)\n",
       "  }\n",
       "})(window);"
      ],
      "application/vnd.bokehjs_exec.v0+json": ""
     },
     "metadata": {
      "application/vnd.bokehjs_exec.v0+json": {
       "id": "8674"
      }
     },
     "output_type": "display_data"
    }
   ],
   "source": [
    "# Trained teachers in primary\n",
    "years = list(map(str, list(range(2005,2015))))\n",
    "result = show_weighted_average(years, 'SE.PRM.TCAQ.ZS', 'SE.PRM.TCHR', \n",
    "                               ['LDCs', 'Developing excluding LDCs', 'OECD'])"
   ]
  },
  {
   "cell_type": "code",
   "execution_count": 27,
   "metadata": {
    "ExecuteTime": {
     "end_time": "2019-10-25T14:25:47.154621Z",
     "start_time": "2019-10-25T14:25:45.217692Z"
    },
    "slideshow": {
     "slide_type": "slide"
    }
   },
   "outputs": [
    {
     "data": {
      "text/html": [
       "\n",
       "\n",
       "\n",
       "\n",
       "\n",
       "\n",
       "  <div class=\"bk-root\" id=\"15a9e83a-d770-4fe7-a25e-c82c2f7de4a5\" data-root-id=\"9241\"></div>\n"
      ]
     },
     "metadata": {},
     "output_type": "display_data"
    },
    {
     "data": {
      "application/javascript": [
       "(function(root) {\n",
       "  function embed_document(root) {\n",
       "    \n",
       "  var docs_json = {\"2b542028-be76-481f-949b-965e0f3cf412\":{\"roots\":{\"references\":[{\"attributes\":{\"below\":[{\"id\":\"9252\",\"type\":\"LinearAxis\"}],\"center\":[{\"id\":\"9256\",\"type\":\"Grid\"},{\"id\":\"9261\",\"type\":\"Grid\"},{\"id\":\"9286\",\"type\":\"Legend\"}],\"left\":[{\"id\":\"9257\",\"type\":\"LinearAxis\"}],\"plot_height\":400,\"plot_width\":800,\"renderers\":[{\"id\":\"9278\",\"type\":\"GlyphRenderer\"},{\"id\":\"9291\",\"type\":\"GlyphRenderer\"},{\"id\":\"9296\",\"type\":\"GlyphRenderer\"},{\"id\":\"9312\",\"type\":\"GlyphRenderer\"},{\"id\":\"9317\",\"type\":\"GlyphRenderer\"},{\"id\":\"9337\",\"type\":\"GlyphRenderer\"}],\"title\":{\"id\":\"9242\",\"type\":\"Title\"},\"toolbar\":{\"id\":\"9268\",\"type\":\"Toolbar\"},\"x_range\":{\"id\":\"9244\",\"type\":\"DataRange1d\"},\"x_scale\":{\"id\":\"9248\",\"type\":\"LinearScale\"},\"y_range\":{\"id\":\"9246\",\"type\":\"DataRange1d\"},\"y_scale\":{\"id\":\"9250\",\"type\":\"LinearScale\"}},\"id\":\"9241\",\"subtype\":\"Figure\",\"type\":\"Plot\"},{\"attributes\":{\"active_drag\":\"auto\",\"active_inspect\":\"auto\",\"active_multi\":null,\"active_scroll\":\"auto\",\"active_tap\":\"auto\",\"tools\":[{\"id\":\"9262\",\"type\":\"PanTool\"},{\"id\":\"9263\",\"type\":\"WheelZoomTool\"},{\"id\":\"9264\",\"type\":\"BoxZoomTool\"},{\"id\":\"9265\",\"type\":\"SaveTool\"},{\"id\":\"9266\",\"type\":\"ResetTool\"},{\"id\":\"9267\",\"type\":\"HelpTool\"},{\"id\":\"9339\",\"type\":\"HoverTool\"}]},\"id\":\"9268\",\"type\":\"Toolbar\"},{\"attributes\":{\"data_source\":{\"id\":\"9309\",\"type\":\"ColumnDataSource\"},\"glyph\":{\"id\":\"9310\",\"type\":\"Circle\"},\"hover_glyph\":null,\"muted_glyph\":null,\"nonselection_glyph\":{\"id\":\"9311\",\"type\":\"Circle\"},\"selection_glyph\":null,\"view\":{\"id\":\"9313\",\"type\":\"CDSView\"}},\"id\":\"9312\",\"type\":\"GlyphRenderer\"},{\"attributes\":{},\"id\":\"9250\",\"type\":\"LinearScale\"},{\"attributes\":{},\"id\":\"9331\",\"type\":\"UnionRenderers\"},{\"attributes\":{},\"id\":\"9284\",\"type\":\"BasicTickFormatter\"},{\"attributes\":{\"source\":{\"id\":\"9309\",\"type\":\"ColumnDataSource\"}},\"id\":\"9313\",\"type\":\"CDSView\"},{\"attributes\":{\"axis_label\":\"Years\",\"formatter\":{\"id\":\"9282\",\"type\":\"BasicTickFormatter\"},\"ticker\":{\"id\":\"9253\",\"type\":\"BasicTicker\"}},\"id\":\"9252\",\"type\":\"LinearAxis\"},{\"attributes\":{\"callback\":null,\"data\":{\"x\":[\"2005\",\"2006\",\"2007\",\"2008\",\"2009\",\"2010\",\"2011\",\"2012\",\"2013\",\"2014\"],\"y\":[89.36711,85.318,90.00625,88.78647,89.85324,90.99565,85.67287,91.79758,92.06496,90.8964]},\"selected\":{\"id\":\"9715\",\"type\":\"Selection\"},\"selection_policy\":{\"id\":\"9714\",\"type\":\"UnionRenderers\"}},\"id\":\"9314\",\"type\":\"ColumnDataSource\"},{\"attributes\":{\"callback\":null},\"id\":\"9244\",\"type\":\"DataRange1d\"},{\"attributes\":{\"source\":{\"id\":\"9314\",\"type\":\"ColumnDataSource\"}},\"id\":\"9318\",\"type\":\"CDSView\"},{\"attributes\":{\"fill_color\":{\"value\":\"#FA1857\"},\"line_color\":{\"value\":\"#FA1857\"},\"line_width\":{\"value\":3},\"x\":{\"field\":\"x\"},\"y\":{\"field\":\"y\"}},\"id\":\"9289\",\"type\":\"Circle\"},{\"attributes\":{\"data_source\":{\"id\":\"9275\",\"type\":\"ColumnDataSource\"},\"glyph\":{\"id\":\"9276\",\"type\":\"Line\"},\"hover_glyph\":null,\"muted_glyph\":null,\"nonselection_glyph\":{\"id\":\"9277\",\"type\":\"Line\"},\"selection_glyph\":null,\"view\":{\"id\":\"9279\",\"type\":\"CDSView\"}},\"id\":\"9278\",\"type\":\"GlyphRenderer\"},{\"attributes\":{\"callback\":null,\"data\":{\"x\":[\"2005\",\"2006\",\"2007\",\"2008\",\"2009\",\"2010\",\"2011\",\"2012\",\"2013\",\"2014\"],\"y\":[86.87512995423359,87.63056023970321,92.32432134685388,91.63770297087862,92.55462125523024,83.46199102331038,88.7996933360356,89.20267700659186,89.01092336236253,90.12016981876029]},\"selected\":{\"id\":\"9332\",\"type\":\"Selection\"},\"selection_policy\":{\"id\":\"9331\",\"type\":\"UnionRenderers\"}},\"id\":\"9309\",\"type\":\"ColumnDataSource\"},{\"attributes\":{\"callback\":null},\"id\":\"9246\",\"type\":\"DataRange1d\"},{\"attributes\":{},\"id\":\"9265\",\"type\":\"SaveTool\"},{\"attributes\":{},\"id\":\"9329\",\"type\":\"UnionRenderers\"},{\"attributes\":{\"fill_color\":{\"value\":\"#5430F1\"},\"line_color\":{\"value\":\"#5430F1\"},\"line_width\":{\"value\":3},\"x\":{\"field\":\"x\"},\"y\":{\"field\":\"y\"}},\"id\":\"9310\",\"type\":\"Circle\"},{\"attributes\":{},\"id\":\"9717\",\"type\":\"Selection\"},{\"attributes\":{},\"id\":\"9248\",\"type\":\"LinearScale\"},{\"attributes\":{},\"id\":\"9266\",\"type\":\"ResetTool\"},{\"attributes\":{\"fill_alpha\":{\"value\":0.1},\"fill_color\":{\"value\":\"#1f77b4\"},\"line_alpha\":{\"value\":0.1},\"line_color\":{\"value\":\"#1f77b4\"},\"line_width\":{\"value\":3},\"x\":{\"field\":\"x\"},\"y\":{\"field\":\"y\"}},\"id\":\"9311\",\"type\":\"Circle\"},{\"attributes\":{},\"id\":\"9267\",\"type\":\"HelpTool\"},{\"attributes\":{\"callback\":null,\"data\":{\"x\":[\"2005\",\"2006\",\"2007\",\"2008\",\"2009\",\"2010\",\"2011\",\"2012\",\"2013\",\"2014\"],\"y\":[79.32941752876195,86.15621977489293,86.02774661892278,71.04739762838975,86.58685496184725,56.63384935461981,67.78695315953377,62.34684223691954,52.49870973544407,51.4375480377963]},\"selected\":{\"id\":\"9307\",\"type\":\"Selection\"},\"selection_policy\":{\"id\":\"9306\",\"type\":\"UnionRenderers\"}},\"id\":\"9288\",\"type\":\"ColumnDataSource\"},{\"attributes\":{},\"id\":\"9306\",\"type\":\"UnionRenderers\"},{\"attributes\":{},\"id\":\"9262\",\"type\":\"PanTool\"},{\"attributes\":{\"callback\":null,\"tooltips\":\"                \\n        <div style=padding=5px>Year:@x</div>\\n        <div style=padding=5px>Value:@y</div>        \\n        \"},\"id\":\"9339\",\"type\":\"HoverTool\"},{\"attributes\":{\"line_alpha\":0.1,\"line_color\":\"#1f77b4\",\"x\":{\"field\":\"x\"},\"y\":{\"field\":\"y\"}},\"id\":\"9277\",\"type\":\"Line\"},{\"attributes\":{},\"id\":\"9307\",\"type\":\"Selection\"},{\"attributes\":{\"text\":\"Trained teachers in secondary education (% of total teachers) weighted against Secondary education, teachers\"},\"id\":\"9242\",\"type\":\"Title\"},{\"attributes\":{},\"id\":\"9263\",\"type\":\"WheelZoomTool\"},{\"attributes\":{},\"id\":\"9714\",\"type\":\"UnionRenderers\"},{\"attributes\":{\"label\":{\"value\":\"Developing excluding LDCs\"},\"renderers\":[{\"id\":\"9296\",\"type\":\"GlyphRenderer\"}]},\"id\":\"9308\",\"type\":\"LegendItem\"},{\"attributes\":{},\"id\":\"9715\",\"type\":\"Selection\"},{\"attributes\":{\"overlay\":{\"id\":\"9285\",\"type\":\"BoxAnnotation\"}},\"id\":\"9264\",\"type\":\"BoxZoomTool\"},{\"attributes\":{},\"id\":\"9282\",\"type\":\"BasicTickFormatter\"},{\"attributes\":{\"label\":{\"value\":\"LDCs\"},\"renderers\":[{\"id\":\"9278\",\"type\":\"GlyphRenderer\"}]},\"id\":\"9287\",\"type\":\"LegendItem\"},{\"attributes\":{\"source\":{\"id\":\"9293\",\"type\":\"ColumnDataSource\"}},\"id\":\"9297\",\"type\":\"CDSView\"},{\"attributes\":{},\"id\":\"9716\",\"type\":\"UnionRenderers\"},{\"attributes\":{\"data_source\":{\"id\":\"9334\",\"type\":\"ColumnDataSource\"},\"glyph\":{\"id\":\"9335\",\"type\":\"Circle\"},\"hover_glyph\":null,\"muted_glyph\":null,\"nonselection_glyph\":{\"id\":\"9336\",\"type\":\"Circle\"},\"selection_glyph\":null,\"view\":{\"id\":\"9338\",\"type\":\"CDSView\"}},\"id\":\"9337\",\"type\":\"GlyphRenderer\"},{\"attributes\":{\"dimension\":1,\"grid_line_alpha\":0.5,\"ticker\":{\"id\":\"9258\",\"type\":\"BasicTicker\"}},\"id\":\"9261\",\"type\":\"Grid\"},{\"attributes\":{},\"id\":\"9304\",\"type\":\"UnionRenderers\"},{\"attributes\":{\"line_color\":\"#FA1857\",\"x\":{\"field\":\"x\"},\"y\":{\"field\":\"y\"}},\"id\":\"9276\",\"type\":\"Line\"},{\"attributes\":{\"source\":{\"id\":\"9334\",\"type\":\"ColumnDataSource\"}},\"id\":\"9338\",\"type\":\"CDSView\"},{\"attributes\":{\"line_alpha\":0.1,\"line_color\":\"#1f77b4\",\"x\":{\"field\":\"x\"},\"y\":{\"field\":\"y\"}},\"id\":\"9316\",\"type\":\"Line\"},{\"attributes\":{},\"id\":\"9305\",\"type\":\"Selection\"},{\"attributes\":{\"callback\":null,\"data\":{\"x\":[\"2005\",\"2006\",\"2007\",\"2008\",\"2009\",\"2010\",\"2011\",\"2012\",\"2013\",\"2014\"],\"y\":[79.32941752876195,86.15621977489293,86.02774661892278,71.04739762838975,86.58685496184725,56.63384935461981,67.78695315953377,62.34684223691954,52.49870973544407,51.4375480377963]},\"selected\":{\"id\":\"9305\",\"type\":\"Selection\"},\"selection_policy\":{\"id\":\"9304\",\"type\":\"UnionRenderers\"}},\"id\":\"9275\",\"type\":\"ColumnDataSource\"},{\"attributes\":{\"items\":[{\"id\":\"9287\",\"type\":\"LegendItem\"},{\"id\":\"9308\",\"type\":\"LegendItem\"},{\"id\":\"9333\",\"type\":\"LegendItem\"}],\"location\":\"bottom_left\"},\"id\":\"9286\",\"type\":\"Legend\"},{\"attributes\":{\"line_color\":\"#5430F1\",\"x\":{\"field\":\"x\"},\"y\":{\"field\":\"y\"}},\"id\":\"9294\",\"type\":\"Line\"},{\"attributes\":{\"fill_alpha\":{\"value\":0.1},\"fill_color\":{\"value\":\"#1f77b4\"},\"line_alpha\":{\"value\":0.1},\"line_color\":{\"value\":\"#1f77b4\"},\"line_width\":{\"value\":3},\"x\":{\"field\":\"x\"},\"y\":{\"field\":\"y\"}},\"id\":\"9290\",\"type\":\"Circle\"},{\"attributes\":{\"fill_color\":{\"value\":\"#2CC775\"},\"line_color\":{\"value\":\"#2CC775\"},\"line_width\":{\"value\":3},\"x\":{\"field\":\"x\"},\"y\":{\"field\":\"y\"}},\"id\":\"9335\",\"type\":\"Circle\"},{\"attributes\":{\"line_alpha\":0.1,\"line_color\":\"#1f77b4\",\"x\":{\"field\":\"x\"},\"y\":{\"field\":\"y\"}},\"id\":\"9295\",\"type\":\"Line\"},{\"attributes\":{\"callback\":null,\"data\":{\"x\":[\"2005\",\"2006\",\"2007\",\"2008\",\"2009\",\"2010\",\"2011\",\"2012\",\"2013\",\"2014\"],\"y\":[89.36711,85.318,90.00625,88.78647,89.85324,90.99565,85.67287,91.79758,92.06496,90.8964]},\"selected\":{\"id\":\"9717\",\"type\":\"Selection\"},\"selection_policy\":{\"id\":\"9716\",\"type\":\"UnionRenderers\"}},\"id\":\"9334\",\"type\":\"ColumnDataSource\"},{\"attributes\":{\"axis_label\":\"SE.SEC.TCAQ.ZS\",\"formatter\":{\"id\":\"9284\",\"type\":\"BasicTickFormatter\"},\"ticker\":{\"id\":\"9258\",\"type\":\"BasicTicker\"}},\"id\":\"9257\",\"type\":\"LinearAxis\"},{\"attributes\":{\"data_source\":{\"id\":\"9293\",\"type\":\"ColumnDataSource\"},\"glyph\":{\"id\":\"9294\",\"type\":\"Line\"},\"hover_glyph\":null,\"muted_glyph\":null,\"nonselection_glyph\":{\"id\":\"9295\",\"type\":\"Line\"},\"selection_glyph\":null,\"view\":{\"id\":\"9297\",\"type\":\"CDSView\"}},\"id\":\"9296\",\"type\":\"GlyphRenderer\"},{\"attributes\":{\"fill_alpha\":{\"value\":0.1},\"fill_color\":{\"value\":\"#1f77b4\"},\"line_alpha\":{\"value\":0.1},\"line_color\":{\"value\":\"#1f77b4\"},\"line_width\":{\"value\":3},\"x\":{\"field\":\"x\"},\"y\":{\"field\":\"y\"}},\"id\":\"9336\",\"type\":\"Circle\"},{\"attributes\":{},\"id\":\"9330\",\"type\":\"Selection\"},{\"attributes\":{\"bottom_units\":\"screen\",\"fill_alpha\":{\"value\":0.5},\"fill_color\":{\"value\":\"lightgrey\"},\"left_units\":\"screen\",\"level\":\"overlay\",\"line_alpha\":{\"value\":1.0},\"line_color\":{\"value\":\"black\"},\"line_dash\":[4,4],\"line_width\":{\"value\":2},\"render_mode\":\"css\",\"right_units\":\"screen\",\"top_units\":\"screen\"},\"id\":\"9285\",\"type\":\"BoxAnnotation\"},{\"attributes\":{\"data_source\":{\"id\":\"9288\",\"type\":\"ColumnDataSource\"},\"glyph\":{\"id\":\"9289\",\"type\":\"Circle\"},\"hover_glyph\":null,\"muted_glyph\":null,\"nonselection_glyph\":{\"id\":\"9290\",\"type\":\"Circle\"},\"selection_glyph\":null,\"view\":{\"id\":\"9292\",\"type\":\"CDSView\"}},\"id\":\"9291\",\"type\":\"GlyphRenderer\"},{\"attributes\":{},\"id\":\"9258\",\"type\":\"BasicTicker\"},{\"attributes\":{\"line_color\":\"#2CC775\",\"x\":{\"field\":\"x\"},\"y\":{\"field\":\"y\"}},\"id\":\"9315\",\"type\":\"Line\"},{\"attributes\":{},\"id\":\"9253\",\"type\":\"BasicTicker\"},{\"attributes\":{},\"id\":\"9332\",\"type\":\"Selection\"},{\"attributes\":{\"source\":{\"id\":\"9288\",\"type\":\"ColumnDataSource\"}},\"id\":\"9292\",\"type\":\"CDSView\"},{\"attributes\":{\"label\":{\"value\":\"OECD\"},\"renderers\":[{\"id\":\"9317\",\"type\":\"GlyphRenderer\"}]},\"id\":\"9333\",\"type\":\"LegendItem\"},{\"attributes\":{\"source\":{\"id\":\"9275\",\"type\":\"ColumnDataSource\"}},\"id\":\"9279\",\"type\":\"CDSView\"},{\"attributes\":{\"grid_line_color\":null,\"ticker\":{\"id\":\"9253\",\"type\":\"BasicTicker\"}},\"id\":\"9256\",\"type\":\"Grid\"},{\"attributes\":{\"callback\":null,\"data\":{\"x\":[\"2005\",\"2006\",\"2007\",\"2008\",\"2009\",\"2010\",\"2011\",\"2012\",\"2013\",\"2014\"],\"y\":[86.87512995423359,87.63056023970321,92.32432134685388,91.63770297087862,92.55462125523024,83.46199102331038,88.7996933360356,89.20267700659186,89.01092336236253,90.12016981876029]},\"selected\":{\"id\":\"9330\",\"type\":\"Selection\"},\"selection_policy\":{\"id\":\"9329\",\"type\":\"UnionRenderers\"}},\"id\":\"9293\",\"type\":\"ColumnDataSource\"},{\"attributes\":{\"data_source\":{\"id\":\"9314\",\"type\":\"ColumnDataSource\"},\"glyph\":{\"id\":\"9315\",\"type\":\"Line\"},\"hover_glyph\":null,\"muted_glyph\":null,\"nonselection_glyph\":{\"id\":\"9316\",\"type\":\"Line\"},\"selection_glyph\":null,\"view\":{\"id\":\"9318\",\"type\":\"CDSView\"}},\"id\":\"9317\",\"type\":\"GlyphRenderer\"}],\"root_ids\":[\"9241\"]},\"title\":\"Bokeh Application\",\"version\":\"1.3.4\"}};\n",
       "  var render_items = [{\"docid\":\"2b542028-be76-481f-949b-965e0f3cf412\",\"roots\":{\"9241\":\"15a9e83a-d770-4fe7-a25e-c82c2f7de4a5\"}}];\n",
       "  root.Bokeh.embed.embed_items_notebook(docs_json, render_items);\n",
       "\n",
       "  }\n",
       "  if (root.Bokeh !== undefined) {\n",
       "    embed_document(root);\n",
       "  } else {\n",
       "    var attempts = 0;\n",
       "    var timer = setInterval(function(root) {\n",
       "      if (root.Bokeh !== undefined) {\n",
       "        embed_document(root);\n",
       "        clearInterval(timer);\n",
       "      }\n",
       "      attempts++;\n",
       "      if (attempts > 100) {\n",
       "        console.log(\"Bokeh: ERROR: Unable to run BokehJS code because BokehJS library is missing\");\n",
       "        clearInterval(timer);\n",
       "      }\n",
       "    }, 10, root)\n",
       "  }\n",
       "})(window);"
      ],
      "application/vnd.bokehjs_exec.v0+json": ""
     },
     "metadata": {
      "application/vnd.bokehjs_exec.v0+json": {
       "id": "9241"
      }
     },
     "output_type": "display_data"
    }
   ],
   "source": [
    "# Trained teachers secondary\n",
    "years = list(map(str, list(range(2005,2015))))\n",
    "result = show_weighted_average(years, 'SE.SEC.TCAQ.ZS', 'SE.SEC.TCHR', \n",
    "                               ['LDCs', 'Developing excluding LDCs', 'OECD'])"
   ]
  },
  {
   "cell_type": "markdown",
   "metadata": {
    "slideshow": {
     "slide_type": "slide"
    }
   },
   "source": [
    "# Youth development"
   ]
  },
  {
   "cell_type": "code",
   "execution_count": 28,
   "metadata": {
    "ExecuteTime": {
     "end_time": "2019-10-25T14:25:48.983763Z",
     "start_time": "2019-10-25T14:25:47.157404Z"
    },
    "slideshow": {
     "slide_type": "slide"
    }
   },
   "outputs": [
    {
     "data": {
      "text/html": [
       "\n",
       "\n",
       "\n",
       "\n",
       "\n",
       "\n",
       "  <div class=\"bk-root\" id=\"07bc43cd-f30f-4da4-bbce-23157189badd\" data-root-id=\"9826\"></div>\n"
      ]
     },
     "metadata": {},
     "output_type": "display_data"
    },
    {
     "data": {
      "application/javascript": [
       "(function(root) {\n",
       "  function embed_document(root) {\n",
       "    \n",
       "  var docs_json = {\"5224dcc3-b483-45b4-8cf6-6b5087e62d66\":{\"roots\":{\"references\":[{\"attributes\":{\"below\":[{\"id\":\"9837\",\"type\":\"LinearAxis\"}],\"center\":[{\"id\":\"9841\",\"type\":\"Grid\"},{\"id\":\"9846\",\"type\":\"Grid\"},{\"id\":\"9871\",\"type\":\"Legend\"}],\"left\":[{\"id\":\"9842\",\"type\":\"LinearAxis\"}],\"plot_height\":400,\"plot_width\":800,\"renderers\":[{\"id\":\"9863\",\"type\":\"GlyphRenderer\"},{\"id\":\"9876\",\"type\":\"GlyphRenderer\"},{\"id\":\"9881\",\"type\":\"GlyphRenderer\"},{\"id\":\"9897\",\"type\":\"GlyphRenderer\"}],\"title\":{\"id\":\"9827\",\"type\":\"Title\"},\"toolbar\":{\"id\":\"9853\",\"type\":\"Toolbar\"},\"x_range\":{\"id\":\"9829\",\"type\":\"DataRange1d\"},\"x_scale\":{\"id\":\"9833\",\"type\":\"LinearScale\"},\"y_range\":{\"id\":\"9831\",\"type\":\"DataRange1d\"},\"y_scale\":{\"id\":\"9835\",\"type\":\"LinearScale\"}},\"id\":\"9826\",\"subtype\":\"Figure\",\"type\":\"Plot\"},{\"attributes\":{\"source\":{\"id\":\"9873\",\"type\":\"ColumnDataSource\"}},\"id\":\"9877\",\"type\":\"CDSView\"},{\"attributes\":{\"line_alpha\":0.1,\"line_color\":\"#1f77b4\",\"x\":{\"field\":\"x\"},\"y\":{\"field\":\"y\"}},\"id\":\"9862\",\"type\":\"Line\"},{\"attributes\":{\"callback\":null,\"data\":{\"x\":[\"2005\",\"2006\",\"2007\",\"2008\",\"2009\",\"2010\",\"2011\",\"2012\",\"2013\",\"2014\"],\"y\":[55.45037040894994,66.06053979838372,61.59263991865721,70.57472702626119,77.29950443176172,72.34804785677224,75.02611752268099,80.00946290801379,81.31988745347162,78.84605966652113]},\"selected\":{\"id\":\"9890\",\"type\":\"Selection\"},\"selection_policy\":{\"id\":\"9889\",\"type\":\"UnionRenderers\"}},\"id\":\"9860\",\"type\":\"ColumnDataSource\"},{\"attributes\":{\"source\":{\"id\":\"9894\",\"type\":\"ColumnDataSource\"}},\"id\":\"9898\",\"type\":\"CDSView\"},{\"attributes\":{\"overlay\":{\"id\":\"9870\",\"type\":\"BoxAnnotation\"}},\"id\":\"9849\",\"type\":\"BoxZoomTool\"},{\"attributes\":{\"data_source\":{\"id\":\"9894\",\"type\":\"ColumnDataSource\"},\"glyph\":{\"id\":\"9895\",\"type\":\"Circle\"},\"hover_glyph\":null,\"muted_glyph\":null,\"nonselection_glyph\":{\"id\":\"9896\",\"type\":\"Circle\"},\"selection_glyph\":null,\"view\":{\"id\":\"9898\",\"type\":\"CDSView\"}},\"id\":\"9897\",\"type\":\"GlyphRenderer\"},{\"attributes\":{\"fill_color\":{\"value\":\"#FA1857\"},\"line_color\":{\"value\":\"#FA1857\"},\"line_width\":{\"value\":3},\"x\":{\"field\":\"x\"},\"y\":{\"field\":\"y\"}},\"id\":\"9874\",\"type\":\"Circle\"},{\"attributes\":{\"label\":{\"value\":\"LDCs\"},\"renderers\":[{\"id\":\"9863\",\"type\":\"GlyphRenderer\"}]},\"id\":\"9872\",\"type\":\"LegendItem\"},{\"attributes\":{\"data_source\":{\"id\":\"9860\",\"type\":\"ColumnDataSource\"},\"glyph\":{\"id\":\"9861\",\"type\":\"Line\"},\"hover_glyph\":null,\"muted_glyph\":null,\"nonselection_glyph\":{\"id\":\"9862\",\"type\":\"Line\"},\"selection_glyph\":null,\"view\":{\"id\":\"9864\",\"type\":\"CDSView\"}},\"id\":\"9863\",\"type\":\"GlyphRenderer\"},{\"attributes\":{\"source\":{\"id\":\"9878\",\"type\":\"ColumnDataSource\"}},\"id\":\"9882\",\"type\":\"CDSView\"},{\"attributes\":{},\"id\":\"9838\",\"type\":\"BasicTicker\"},{\"attributes\":{},\"id\":\"10289\",\"type\":\"Selection\"},{\"attributes\":{\"fill_alpha\":{\"value\":0.1},\"fill_color\":{\"value\":\"#1f77b4\"},\"line_alpha\":{\"value\":0.1},\"line_color\":{\"value\":\"#1f77b4\"},\"line_width\":{\"value\":3},\"x\":{\"field\":\"x\"},\"y\":{\"field\":\"y\"}},\"id\":\"9896\",\"type\":\"Circle\"},{\"attributes\":{},\"id\":\"9869\",\"type\":\"BasicTickFormatter\"},{\"attributes\":{\"callback\":null,\"tooltips\":\"                \\n        <div style=padding=5px>Year:@x</div>\\n        <div style=padding=5px>Value:@y</div>        \\n        \"},\"id\":\"9899\",\"type\":\"HoverTool\"},{\"attributes\":{\"source\":{\"id\":\"9860\",\"type\":\"ColumnDataSource\"}},\"id\":\"9864\",\"type\":\"CDSView\"},{\"attributes\":{\"items\":[{\"id\":\"9872\",\"type\":\"LegendItem\"},{\"id\":\"9893\",\"type\":\"LegendItem\"}],\"location\":\"bottom_left\"},\"id\":\"9871\",\"type\":\"Legend\"},{\"attributes\":{\"line_color\":\"#FA1857\",\"x\":{\"field\":\"x\"},\"y\":{\"field\":\"y\"}},\"id\":\"9861\",\"type\":\"Line\"},{\"attributes\":{\"callback\":null,\"data\":{\"x\":[\"2005\",\"2006\",\"2007\",\"2008\",\"2009\",\"2010\",\"2011\",\"2012\",\"2013\",\"2014\"],\"y\":[90.78019536879648,90.77418753814752,96.50711051017467,92.05316715849918,94.74806511431586,97.16832187574117,92.14401070505136,94.34896382647602,92.86366736987512,95.31671021609542]},\"selected\":{\"id\":\"10291\",\"type\":\"Selection\"},\"selection_policy\":{\"id\":\"10290\",\"type\":\"UnionRenderers\"}},\"id\":\"9894\",\"type\":\"ColumnDataSource\"},{\"attributes\":{},\"id\":\"9843\",\"type\":\"BasicTicker\"},{\"attributes\":{\"line_color\":\"#5430F1\",\"x\":{\"field\":\"x\"},\"y\":{\"field\":\"y\"}},\"id\":\"9879\",\"type\":\"Line\"},{\"attributes\":{\"axis_label\":\"Years\",\"formatter\":{\"id\":\"9867\",\"type\":\"BasicTickFormatter\"},\"ticker\":{\"id\":\"9838\",\"type\":\"BasicTicker\"}},\"id\":\"9837\",\"type\":\"LinearAxis\"},{\"attributes\":{\"bottom_units\":\"screen\",\"fill_alpha\":{\"value\":0.5},\"fill_color\":{\"value\":\"lightgrey\"},\"left_units\":\"screen\",\"level\":\"overlay\",\"line_alpha\":{\"value\":1.0},\"line_color\":{\"value\":\"black\"},\"line_dash\":[4,4],\"line_width\":{\"value\":2},\"render_mode\":\"css\",\"right_units\":\"screen\",\"top_units\":\"screen\"},\"id\":\"9870\",\"type\":\"BoxAnnotation\"},{\"attributes\":{},\"id\":\"10290\",\"type\":\"UnionRenderers\"},{\"attributes\":{\"label\":{\"value\":\"Developing excluding LDCs\"},\"renderers\":[{\"id\":\"9881\",\"type\":\"GlyphRenderer\"}]},\"id\":\"9893\",\"type\":\"LegendItem\"},{\"attributes\":{},\"id\":\"9890\",\"type\":\"Selection\"},{\"attributes\":{},\"id\":\"10288\",\"type\":\"UnionRenderers\"},{\"attributes\":{\"active_drag\":\"auto\",\"active_inspect\":\"auto\",\"active_multi\":null,\"active_scroll\":\"auto\",\"active_tap\":\"auto\",\"tools\":[{\"id\":\"9847\",\"type\":\"PanTool\"},{\"id\":\"9848\",\"type\":\"WheelZoomTool\"},{\"id\":\"9849\",\"type\":\"BoxZoomTool\"},{\"id\":\"9850\",\"type\":\"SaveTool\"},{\"id\":\"9851\",\"type\":\"ResetTool\"},{\"id\":\"9852\",\"type\":\"HelpTool\"},{\"id\":\"9899\",\"type\":\"HoverTool\"}]},\"id\":\"9853\",\"type\":\"Toolbar\"},{\"attributes\":{},\"id\":\"9867\",\"type\":\"BasicTickFormatter\"},{\"attributes\":{\"callback\":null,\"data\":{\"x\":[\"2005\",\"2006\",\"2007\",\"2008\",\"2009\",\"2010\",\"2011\",\"2012\",\"2013\",\"2014\"],\"y\":[55.45037040894994,66.06053979838372,61.59263991865721,70.57472702626119,77.29950443176172,72.34804785677224,75.02611752268099,80.00946290801379,81.31988745347162,78.84605966652113]},\"selected\":{\"id\":\"9892\",\"type\":\"Selection\"},\"selection_policy\":{\"id\":\"9891\",\"type\":\"UnionRenderers\"}},\"id\":\"9873\",\"type\":\"ColumnDataSource\"},{\"attributes\":{},\"id\":\"9835\",\"type\":\"LinearScale\"},{\"attributes\":{\"line_alpha\":0.1,\"line_color\":\"#1f77b4\",\"x\":{\"field\":\"x\"},\"y\":{\"field\":\"y\"}},\"id\":\"9880\",\"type\":\"Line\"},{\"attributes\":{},\"id\":\"9891\",\"type\":\"UnionRenderers\"},{\"attributes\":{},\"id\":\"9852\",\"type\":\"HelpTool\"},{\"attributes\":{},\"id\":\"9833\",\"type\":\"LinearScale\"},{\"attributes\":{\"callback\":null,\"data\":{\"x\":[\"2005\",\"2006\",\"2007\",\"2008\",\"2009\",\"2010\",\"2011\",\"2012\",\"2013\",\"2014\"],\"y\":[90.78019536879648,90.77418753814752,96.50711051017467,92.05316715849918,94.74806511431586,97.16832187574117,92.14401070505136,94.34896382647602,92.86366736987512,95.31671021609542]},\"selected\":{\"id\":\"10289\",\"type\":\"Selection\"},\"selection_policy\":{\"id\":\"10288\",\"type\":\"UnionRenderers\"}},\"id\":\"9878\",\"type\":\"ColumnDataSource\"},{\"attributes\":{\"callback\":null},\"id\":\"9831\",\"type\":\"DataRange1d\"},{\"attributes\":{},\"id\":\"10291\",\"type\":\"Selection\"},{\"attributes\":{},\"id\":\"9850\",\"type\":\"SaveTool\"},{\"attributes\":{},\"id\":\"9848\",\"type\":\"WheelZoomTool\"},{\"attributes\":{\"callback\":null},\"id\":\"9829\",\"type\":\"DataRange1d\"},{\"attributes\":{\"data_source\":{\"id\":\"9873\",\"type\":\"ColumnDataSource\"},\"glyph\":{\"id\":\"9874\",\"type\":\"Circle\"},\"hover_glyph\":null,\"muted_glyph\":null,\"nonselection_glyph\":{\"id\":\"9875\",\"type\":\"Circle\"},\"selection_glyph\":null,\"view\":{\"id\":\"9877\",\"type\":\"CDSView\"}},\"id\":\"9876\",\"type\":\"GlyphRenderer\"},{\"attributes\":{},\"id\":\"9892\",\"type\":\"Selection\"},{\"attributes\":{\"fill_color\":{\"value\":\"#5430F1\"},\"line_color\":{\"value\":\"#5430F1\"},\"line_width\":{\"value\":3},\"x\":{\"field\":\"x\"},\"y\":{\"field\":\"y\"}},\"id\":\"9895\",\"type\":\"Circle\"},{\"attributes\":{},\"id\":\"9889\",\"type\":\"UnionRenderers\"},{\"attributes\":{\"axis_label\":\"SE.ADT.1524.LT.MA.ZS\",\"formatter\":{\"id\":\"9869\",\"type\":\"BasicTickFormatter\"},\"ticker\":{\"id\":\"9843\",\"type\":\"BasicTicker\"}},\"id\":\"9842\",\"type\":\"LinearAxis\"},{\"attributes\":{\"text\":\"Literacy rate, youth male (% of males ages 15-24) weighted against Population, total\"},\"id\":\"9827\",\"type\":\"Title\"},{\"attributes\":{},\"id\":\"9851\",\"type\":\"ResetTool\"},{\"attributes\":{\"data_source\":{\"id\":\"9878\",\"type\":\"ColumnDataSource\"},\"glyph\":{\"id\":\"9879\",\"type\":\"Line\"},\"hover_glyph\":null,\"muted_glyph\":null,\"nonselection_glyph\":{\"id\":\"9880\",\"type\":\"Line\"},\"selection_glyph\":null,\"view\":{\"id\":\"9882\",\"type\":\"CDSView\"}},\"id\":\"9881\",\"type\":\"GlyphRenderer\"},{\"attributes\":{\"dimension\":1,\"grid_line_alpha\":0.5,\"ticker\":{\"id\":\"9843\",\"type\":\"BasicTicker\"}},\"id\":\"9846\",\"type\":\"Grid\"},{\"attributes\":{\"fill_alpha\":{\"value\":0.1},\"fill_color\":{\"value\":\"#1f77b4\"},\"line_alpha\":{\"value\":0.1},\"line_color\":{\"value\":\"#1f77b4\"},\"line_width\":{\"value\":3},\"x\":{\"field\":\"x\"},\"y\":{\"field\":\"y\"}},\"id\":\"9875\",\"type\":\"Circle\"},{\"attributes\":{\"grid_line_color\":null,\"ticker\":{\"id\":\"9838\",\"type\":\"BasicTicker\"}},\"id\":\"9841\",\"type\":\"Grid\"},{\"attributes\":{},\"id\":\"9847\",\"type\":\"PanTool\"}],\"root_ids\":[\"9826\"]},\"title\":\"Bokeh Application\",\"version\":\"1.3.4\"}};\n",
       "  var render_items = [{\"docid\":\"5224dcc3-b483-45b4-8cf6-6b5087e62d66\",\"roots\":{\"9826\":\"07bc43cd-f30f-4da4-bbce-23157189badd\"}}];\n",
       "  root.Bokeh.embed.embed_items_notebook(docs_json, render_items);\n",
       "\n",
       "  }\n",
       "  if (root.Bokeh !== undefined) {\n",
       "    embed_document(root);\n",
       "  } else {\n",
       "    var attempts = 0;\n",
       "    var timer = setInterval(function(root) {\n",
       "      if (root.Bokeh !== undefined) {\n",
       "        embed_document(root);\n",
       "        clearInterval(timer);\n",
       "      }\n",
       "      attempts++;\n",
       "      if (attempts > 100) {\n",
       "        console.log(\"Bokeh: ERROR: Unable to run BokehJS code because BokehJS library is missing\");\n",
       "        clearInterval(timer);\n",
       "      }\n",
       "    }, 10, root)\n",
       "  }\n",
       "})(window);"
      ],
      "application/vnd.bokehjs_exec.v0+json": ""
     },
     "metadata": {
      "application/vnd.bokehjs_exec.v0+json": {
       "id": "9826"
      }
     },
     "output_type": "display_data"
    }
   ],
   "source": [
    "# Literacy rate, youth male (% of male ages 15-24)\n",
    "result = show_weighted_average(years, 'SE.ADT.1524.LT.MA.ZS', 'SP.POP.TOTL', \n",
    "                               ['LDCs', 'Developing excluding LDCs'])"
   ]
  },
  {
   "cell_type": "code",
   "execution_count": 29,
   "metadata": {
    "ExecuteTime": {
     "end_time": "2019-10-25T14:30:13.251639Z",
     "start_time": "2019-10-25T14:30:11.929452Z"
    },
    "slideshow": {
     "slide_type": "slide"
    }
   },
   "outputs": [
    {
     "data": {
      "text/html": [
       "\n",
       "\n",
       "\n",
       "\n",
       "\n",
       "\n",
       "  <div class=\"bk-root\" id=\"ae9c0983-029c-475e-a687-ea24530062d2\" data-root-id=\"10376\"></div>\n"
      ]
     },
     "metadata": {},
     "output_type": "display_data"
    },
    {
     "data": {
      "application/javascript": [
       "(function(root) {\n",
       "  function embed_document(root) {\n",
       "    \n",
       "  var docs_json = {\"36dc6a43-b61f-4ae1-a65d-b6dab608f21c\":{\"roots\":{\"references\":[{\"attributes\":{\"below\":[{\"id\":\"10387\",\"type\":\"LinearAxis\"}],\"center\":[{\"id\":\"10391\",\"type\":\"Grid\"},{\"id\":\"10396\",\"type\":\"Grid\"},{\"id\":\"10421\",\"type\":\"Legend\"}],\"left\":[{\"id\":\"10392\",\"type\":\"LinearAxis\"}],\"plot_height\":400,\"plot_width\":800,\"renderers\":[{\"id\":\"10413\",\"type\":\"GlyphRenderer\"},{\"id\":\"10426\",\"type\":\"GlyphRenderer\"},{\"id\":\"10431\",\"type\":\"GlyphRenderer\"},{\"id\":\"10447\",\"type\":\"GlyphRenderer\"},{\"id\":\"10452\",\"type\":\"GlyphRenderer\"},{\"id\":\"10472\",\"type\":\"GlyphRenderer\"}],\"title\":{\"id\":\"10377\",\"type\":\"Title\"},\"toolbar\":{\"id\":\"10403\",\"type\":\"Toolbar\"},\"x_range\":{\"id\":\"10379\",\"type\":\"DataRange1d\"},\"x_scale\":{\"id\":\"10383\",\"type\":\"LinearScale\"},\"y_range\":{\"id\":\"10381\",\"type\":\"DataRange1d\"},\"y_scale\":{\"id\":\"10385\",\"type\":\"LinearScale\"}},\"id\":\"10376\",\"subtype\":\"Figure\",\"type\":\"Plot\"},{\"attributes\":{\"callback\":null,\"data\":{\"x\":[\"2011\",\"2012\",\"2013\",\"2014\",\"2015\",\"2016\",\"2017\"],\"y\":[69.73643076577738,76.28621410347083,82.34338029433856,76.33290776938205,79.67428038697987,84.88400348022606,81.7564251787433]},\"selected\":{\"id\":\"10442\",\"type\":\"Selection\"},\"selection_policy\":{\"id\":\"10441\",\"type\":\"UnionRenderers\"}},\"id\":\"10423\",\"type\":\"ColumnDataSource\"},{\"attributes\":{\"callback\":null,\"tooltips\":\"                \\n        <div style=padding=5px>Year:@x</div>\\n        <div style=padding=5px>Value:@y</div>        \\n        \"},\"id\":\"10474\",\"type\":\"HoverTool\"},{\"attributes\":{\"fill_color\":{\"value\":\"#FA1857\"},\"line_color\":{\"value\":\"#FA1857\"},\"line_width\":{\"value\":3},\"x\":{\"field\":\"x\"},\"y\":{\"field\":\"y\"}},\"id\":\"10424\",\"type\":\"Circle\"},{\"attributes\":{},\"id\":\"10882\",\"type\":\"Selection\"},{\"attributes\":{},\"id\":\"10465\",\"type\":\"Selection\"},{\"attributes\":{\"source\":{\"id\":\"10449\",\"type\":\"ColumnDataSource\"}},\"id\":\"10453\",\"type\":\"CDSView\"},{\"attributes\":{\"fill_alpha\":{\"value\":0.1},\"fill_color\":{\"value\":\"#1f77b4\"},\"line_alpha\":{\"value\":0.1},\"line_color\":{\"value\":\"#1f77b4\"},\"line_width\":{\"value\":3},\"x\":{\"field\":\"x\"},\"y\":{\"field\":\"y\"}},\"id\":\"10425\",\"type\":\"Circle\"},{\"attributes\":{},\"id\":\"10467\",\"type\":\"Selection\"},{\"attributes\":{\"text\":\"Literacy rate, youth female (% of females ages 15-24) weighted against Population, total\"},\"id\":\"10377\",\"type\":\"Title\"},{\"attributes\":{},\"id\":\"10464\",\"type\":\"UnionRenderers\"},{\"attributes\":{\"data_source\":{\"id\":\"10449\",\"type\":\"ColumnDataSource\"},\"glyph\":{\"id\":\"10450\",\"type\":\"Line\"},\"hover_glyph\":null,\"muted_glyph\":null,\"nonselection_glyph\":{\"id\":\"10451\",\"type\":\"Line\"},\"selection_glyph\":null,\"view\":{\"id\":\"10453\",\"type\":\"CDSView\"}},\"id\":\"10452\",\"type\":\"GlyphRenderer\"},{\"attributes\":{\"callback\":null,\"data\":{\"x\":[\"2011\",\"2012\",\"2013\",\"2014\",\"2015\",\"2016\",\"2017\"],\"y\":[69.73643076577738,76.28621410347083,82.34338029433856,76.33290776938205,79.67428038697987,84.88400348022606,81.7564251787433]},\"selected\":{\"id\":\"10440\",\"type\":\"Selection\"},\"selection_policy\":{\"id\":\"10439\",\"type\":\"UnionRenderers\"}},\"id\":\"10410\",\"type\":\"ColumnDataSource\"},{\"attributes\":{\"data_source\":{\"id\":\"10423\",\"type\":\"ColumnDataSource\"},\"glyph\":{\"id\":\"10424\",\"type\":\"Circle\"},\"hover_glyph\":null,\"muted_glyph\":null,\"nonselection_glyph\":{\"id\":\"10425\",\"type\":\"Circle\"},\"selection_glyph\":null,\"view\":{\"id\":\"10427\",\"type\":\"CDSView\"}},\"id\":\"10426\",\"type\":\"GlyphRenderer\"},{\"attributes\":{\"label\":{\"value\":\"UMICs\"},\"renderers\":[{\"id\":\"10452\",\"type\":\"GlyphRenderer\"}]},\"id\":\"10468\",\"type\":\"LegendItem\"},{\"attributes\":{\"callback\":null},\"id\":\"10379\",\"type\":\"DataRange1d\"},{\"attributes\":{},\"id\":\"10397\",\"type\":\"PanTool\"},{\"attributes\":{\"line_alpha\":0.1,\"line_color\":\"#1f77b4\",\"x\":{\"field\":\"x\"},\"y\":{\"field\":\"y\"}},\"id\":\"10451\",\"type\":\"Line\"},{\"attributes\":{\"source\":{\"id\":\"10423\",\"type\":\"ColumnDataSource\"}},\"id\":\"10427\",\"type\":\"CDSView\"},{\"attributes\":{},\"id\":\"10881\",\"type\":\"UnionRenderers\"},{\"attributes\":{\"callback\":null},\"id\":\"10381\",\"type\":\"DataRange1d\"},{\"attributes\":{},\"id\":\"10398\",\"type\":\"WheelZoomTool\"},{\"attributes\":{},\"id\":\"10383\",\"type\":\"LinearScale\"},{\"attributes\":{\"callback\":null,\"data\":{\"x\":[\"2011\",\"2012\",\"2013\",\"2014\",\"2015\",\"2016\",\"2017\"],\"y\":[86.47892526910303,90.71073278613366,89.69280855721597,93.23074490917638,99.22731691065268,99.34360327194112,90.85673268334823]},\"selected\":{\"id\":\"10465\",\"type\":\"Selection\"},\"selection_policy\":{\"id\":\"10464\",\"type\":\"UnionRenderers\"}},\"id\":\"10428\",\"type\":\"ColumnDataSource\"},{\"attributes\":{\"callback\":null,\"data\":{\"x\":[\"2011\",\"2012\",\"2013\",\"2014\",\"2015\",\"2016\",\"2017\"],\"y\":[98.80323873395295,98.93122055874738,98.98058143637144,99.08615738416806,99.12698901894608,99.24316995964482,99.10889426005937]},\"selected\":{\"id\":\"10882\",\"type\":\"Selection\"},\"selection_policy\":{\"id\":\"10881\",\"type\":\"UnionRenderers\"}},\"id\":\"10449\",\"type\":\"ColumnDataSource\"},{\"attributes\":{\"line_color\":\"#2CC775\",\"x\":{\"field\":\"x\"},\"y\":{\"field\":\"y\"}},\"id\":\"10450\",\"type\":\"Line\"},{\"attributes\":{\"overlay\":{\"id\":\"10420\",\"type\":\"BoxAnnotation\"}},\"id\":\"10399\",\"type\":\"BoxZoomTool\"},{\"attributes\":{},\"id\":\"10385\",\"type\":\"LinearScale\"},{\"attributes\":{\"line_color\":\"#5430F1\",\"x\":{\"field\":\"x\"},\"y\":{\"field\":\"y\"}},\"id\":\"10429\",\"type\":\"Line\"},{\"attributes\":{\"fill_alpha\":{\"value\":0.1},\"fill_color\":{\"value\":\"#1f77b4\"},\"line_alpha\":{\"value\":0.1},\"line_color\":{\"value\":\"#1f77b4\"},\"line_width\":{\"value\":3},\"x\":{\"field\":\"x\"},\"y\":{\"field\":\"y\"}},\"id\":\"10471\",\"type\":\"Circle\"},{\"attributes\":{},\"id\":\"10400\",\"type\":\"SaveTool\"},{\"attributes\":{\"axis_label\":\"Years\",\"formatter\":{\"id\":\"10417\",\"type\":\"BasicTickFormatter\"},\"ticker\":{\"id\":\"10388\",\"type\":\"BasicTicker\"}},\"id\":\"10387\",\"type\":\"LinearAxis\"},{\"attributes\":{\"line_alpha\":0.1,\"line_color\":\"#1f77b4\",\"x\":{\"field\":\"x\"},\"y\":{\"field\":\"y\"}},\"id\":\"10430\",\"type\":\"Line\"},{\"attributes\":{\"callback\":null,\"data\":{\"x\":[\"2011\",\"2012\",\"2013\",\"2014\",\"2015\",\"2016\",\"2017\"],\"y\":[98.80323873395295,98.93122055874738,98.98058143637144,99.08615738416806,99.12698901894608,99.24316995964482,99.10889426005937]},\"selected\":{\"id\":\"10884\",\"type\":\"Selection\"},\"selection_policy\":{\"id\":\"10883\",\"type\":\"UnionRenderers\"}},\"id\":\"10469\",\"type\":\"ColumnDataSource\"},{\"attributes\":{},\"id\":\"10401\",\"type\":\"ResetTool\"},{\"attributes\":{\"data_source\":{\"id\":\"10428\",\"type\":\"ColumnDataSource\"},\"glyph\":{\"id\":\"10429\",\"type\":\"Line\"},\"hover_glyph\":null,\"muted_glyph\":null,\"nonselection_glyph\":{\"id\":\"10430\",\"type\":\"Line\"},\"selection_glyph\":null,\"view\":{\"id\":\"10432\",\"type\":\"CDSView\"}},\"id\":\"10431\",\"type\":\"GlyphRenderer\"},{\"attributes\":{},\"id\":\"10388\",\"type\":\"BasicTicker\"},{\"attributes\":{\"fill_color\":{\"value\":\"#2CC775\"},\"line_color\":{\"value\":\"#2CC775\"},\"line_width\":{\"value\":3},\"x\":{\"field\":\"x\"},\"y\":{\"field\":\"y\"}},\"id\":\"10470\",\"type\":\"Circle\"},{\"attributes\":{\"source\":{\"id\":\"10469\",\"type\":\"ColumnDataSource\"}},\"id\":\"10473\",\"type\":\"CDSView\"},{\"attributes\":{},\"id\":\"10402\",\"type\":\"HelpTool\"},{\"attributes\":{\"grid_line_color\":null,\"ticker\":{\"id\":\"10388\",\"type\":\"BasicTicker\"}},\"id\":\"10391\",\"type\":\"Grid\"},{\"attributes\":{\"source\":{\"id\":\"10428\",\"type\":\"ColumnDataSource\"}},\"id\":\"10432\",\"type\":\"CDSView\"},{\"attributes\":{\"active_drag\":\"auto\",\"active_inspect\":\"auto\",\"active_multi\":null,\"active_scroll\":\"auto\",\"active_tap\":\"auto\",\"tools\":[{\"id\":\"10397\",\"type\":\"PanTool\"},{\"id\":\"10398\",\"type\":\"WheelZoomTool\"},{\"id\":\"10399\",\"type\":\"BoxZoomTool\"},{\"id\":\"10400\",\"type\":\"SaveTool\"},{\"id\":\"10401\",\"type\":\"ResetTool\"},{\"id\":\"10402\",\"type\":\"HelpTool\"},{\"id\":\"10474\",\"type\":\"HoverTool\"}]},\"id\":\"10403\",\"type\":\"Toolbar\"},{\"attributes\":{},\"id\":\"10439\",\"type\":\"UnionRenderers\"},{\"attributes\":{\"line_alpha\":0.1,\"line_color\":\"#1f77b4\",\"x\":{\"field\":\"x\"},\"y\":{\"field\":\"y\"}},\"id\":\"10412\",\"type\":\"Line\"},{\"attributes\":{\"axis_label\":\"SE.ADT.1524.LT.FE.ZS\",\"formatter\":{\"id\":\"10419\",\"type\":\"BasicTickFormatter\"},\"ticker\":{\"id\":\"10393\",\"type\":\"BasicTicker\"}},\"id\":\"10392\",\"type\":\"LinearAxis\"},{\"attributes\":{\"data_source\":{\"id\":\"10444\",\"type\":\"ColumnDataSource\"},\"glyph\":{\"id\":\"10445\",\"type\":\"Circle\"},\"hover_glyph\":null,\"muted_glyph\":null,\"nonselection_glyph\":{\"id\":\"10446\",\"type\":\"Circle\"},\"selection_glyph\":null,\"view\":{\"id\":\"10448\",\"type\":\"CDSView\"}},\"id\":\"10447\",\"type\":\"GlyphRenderer\"},{\"attributes\":{},\"id\":\"10440\",\"type\":\"Selection\"},{\"attributes\":{},\"id\":\"10393\",\"type\":\"BasicTicker\"},{\"attributes\":{\"data_source\":{\"id\":\"10410\",\"type\":\"ColumnDataSource\"},\"glyph\":{\"id\":\"10411\",\"type\":\"Line\"},\"hover_glyph\":null,\"muted_glyph\":null,\"nonselection_glyph\":{\"id\":\"10412\",\"type\":\"Line\"},\"selection_glyph\":null,\"view\":{\"id\":\"10414\",\"type\":\"CDSView\"}},\"id\":\"10413\",\"type\":\"GlyphRenderer\"},{\"attributes\":{},\"id\":\"10441\",\"type\":\"UnionRenderers\"},{\"attributes\":{\"data_source\":{\"id\":\"10469\",\"type\":\"ColumnDataSource\"},\"glyph\":{\"id\":\"10470\",\"type\":\"Circle\"},\"hover_glyph\":null,\"muted_glyph\":null,\"nonselection_glyph\":{\"id\":\"10471\",\"type\":\"Circle\"},\"selection_glyph\":null,\"view\":{\"id\":\"10473\",\"type\":\"CDSView\"}},\"id\":\"10472\",\"type\":\"GlyphRenderer\"},{\"attributes\":{\"dimension\":1,\"grid_line_alpha\":0.5,\"ticker\":{\"id\":\"10393\",\"type\":\"BasicTicker\"}},\"id\":\"10396\",\"type\":\"Grid\"},{\"attributes\":{\"source\":{\"id\":\"10410\",\"type\":\"ColumnDataSource\"}},\"id\":\"10414\",\"type\":\"CDSView\"},{\"attributes\":{},\"id\":\"10442\",\"type\":\"Selection\"},{\"attributes\":{\"label\":{\"value\":\"Developing excluding LDCs\"},\"renderers\":[{\"id\":\"10431\",\"type\":\"GlyphRenderer\"}]},\"id\":\"10443\",\"type\":\"LegendItem\"},{\"attributes\":{},\"id\":\"10419\",\"type\":\"BasicTickFormatter\"},{\"attributes\":{\"source\":{\"id\":\"10444\",\"type\":\"ColumnDataSource\"}},\"id\":\"10448\",\"type\":\"CDSView\"},{\"attributes\":{},\"id\":\"10884\",\"type\":\"Selection\"},{\"attributes\":{\"callback\":null,\"data\":{\"x\":[\"2011\",\"2012\",\"2013\",\"2014\",\"2015\",\"2016\",\"2017\"],\"y\":[86.47892526910303,90.71073278613366,89.69280855721597,93.23074490917638,99.22731691065268,99.34360327194112,90.85673268334823]},\"selected\":{\"id\":\"10467\",\"type\":\"Selection\"},\"selection_policy\":{\"id\":\"10466\",\"type\":\"UnionRenderers\"}},\"id\":\"10444\",\"type\":\"ColumnDataSource\"},{\"attributes\":{\"bottom_units\":\"screen\",\"fill_alpha\":{\"value\":0.5},\"fill_color\":{\"value\":\"lightgrey\"},\"left_units\":\"screen\",\"level\":\"overlay\",\"line_alpha\":{\"value\":1.0},\"line_color\":{\"value\":\"black\"},\"line_dash\":[4,4],\"line_width\":{\"value\":2},\"render_mode\":\"css\",\"right_units\":\"screen\",\"top_units\":\"screen\"},\"id\":\"10420\",\"type\":\"BoxAnnotation\"},{\"attributes\":{},\"id\":\"10466\",\"type\":\"UnionRenderers\"},{\"attributes\":{},\"id\":\"10883\",\"type\":\"UnionRenderers\"},{\"attributes\":{},\"id\":\"10417\",\"type\":\"BasicTickFormatter\"},{\"attributes\":{\"line_color\":\"#FA1857\",\"x\":{\"field\":\"x\"},\"y\":{\"field\":\"y\"}},\"id\":\"10411\",\"type\":\"Line\"},{\"attributes\":{\"items\":[{\"id\":\"10422\",\"type\":\"LegendItem\"},{\"id\":\"10443\",\"type\":\"LegendItem\"},{\"id\":\"10468\",\"type\":\"LegendItem\"}],\"location\":\"bottom_left\"},\"id\":\"10421\",\"type\":\"Legend\"},{\"attributes\":{\"fill_color\":{\"value\":\"#5430F1\"},\"line_color\":{\"value\":\"#5430F1\"},\"line_width\":{\"value\":3},\"x\":{\"field\":\"x\"},\"y\":{\"field\":\"y\"}},\"id\":\"10445\",\"type\":\"Circle\"},{\"attributes\":{\"fill_alpha\":{\"value\":0.1},\"fill_color\":{\"value\":\"#1f77b4\"},\"line_alpha\":{\"value\":0.1},\"line_color\":{\"value\":\"#1f77b4\"},\"line_width\":{\"value\":3},\"x\":{\"field\":\"x\"},\"y\":{\"field\":\"y\"}},\"id\":\"10446\",\"type\":\"Circle\"},{\"attributes\":{\"label\":{\"value\":\"LDCs\"},\"renderers\":[{\"id\":\"10413\",\"type\":\"GlyphRenderer\"}]},\"id\":\"10422\",\"type\":\"LegendItem\"}],\"root_ids\":[\"10376\"]},\"title\":\"Bokeh Application\",\"version\":\"1.3.4\"}};\n",
       "  var render_items = [{\"docid\":\"36dc6a43-b61f-4ae1-a65d-b6dab608f21c\",\"roots\":{\"10376\":\"ae9c0983-029c-475e-a687-ea24530062d2\"}}];\n",
       "  root.Bokeh.embed.embed_items_notebook(docs_json, render_items);\n",
       "\n",
       "  }\n",
       "  if (root.Bokeh !== undefined) {\n",
       "    embed_document(root);\n",
       "  } else {\n",
       "    var attempts = 0;\n",
       "    var timer = setInterval(function(root) {\n",
       "      if (root.Bokeh !== undefined) {\n",
       "        embed_document(root);\n",
       "        clearInterval(timer);\n",
       "      }\n",
       "      attempts++;\n",
       "      if (attempts > 100) {\n",
       "        console.log(\"Bokeh: ERROR: Unable to run BokehJS code because BokehJS library is missing\");\n",
       "        clearInterval(timer);\n",
       "      }\n",
       "    }, 10, root)\n",
       "  }\n",
       "})(window);"
      ],
      "application/vnd.bokehjs_exec.v0+json": ""
     },
     "metadata": {
      "application/vnd.bokehjs_exec.v0+json": {
       "id": "10376"
      }
     },
     "output_type": "display_data"
    }
   ],
   "source": [
    "# Literacy rate, youth female (% of females ages 15-24)\n",
    "years = list(map(str, list(range(2011,2018))))\n",
    "result = show_weighted_average(years, 'SE.ADT.1524.LT.FE.ZS', 'SP.POP.TOTL', \n",
    "                               ['LDCs', 'Developing excluding LDCs', 'UMICs'])"
   ]
  },
  {
   "cell_type": "markdown",
   "metadata": {
    "slideshow": {
     "slide_type": "slide"
    }
   },
   "source": [
    "# Shelter"
   ]
  },
  {
   "cell_type": "code",
   "execution_count": 30,
   "metadata": {
    "ExecuteTime": {
     "end_time": "2019-10-25T14:25:51.766648Z",
     "start_time": "2019-10-25T14:25:50.523438Z"
    },
    "slideshow": {
     "slide_type": "slide"
    }
   },
   "outputs": [
    {
     "data": {
      "text/html": [
       "\n",
       "\n",
       "\n",
       "\n",
       "\n",
       "\n",
       "  <div class=\"bk-root\" id=\"c65a92b0-00c3-4373-9c9b-68e4847b0650\" data-root-id=\"10993\"></div>\n"
      ]
     },
     "metadata": {},
     "output_type": "display_data"
    },
    {
     "data": {
      "application/javascript": [
       "(function(root) {\n",
       "  function embed_document(root) {\n",
       "    \n",
       "  var docs_json = {\"48294164-fab2-4592-8a0c-a47c81d548cc\":{\"roots\":{\"references\":[{\"attributes\":{\"below\":[{\"id\":\"11004\",\"type\":\"LinearAxis\"}],\"center\":[{\"id\":\"11008\",\"type\":\"Grid\"},{\"id\":\"11013\",\"type\":\"Grid\"},{\"id\":\"11038\",\"type\":\"Legend\"}],\"left\":[{\"id\":\"11009\",\"type\":\"LinearAxis\"}],\"plot_height\":400,\"plot_width\":800,\"renderers\":[{\"id\":\"11030\",\"type\":\"GlyphRenderer\"},{\"id\":\"11043\",\"type\":\"GlyphRenderer\"},{\"id\":\"11048\",\"type\":\"GlyphRenderer\"},{\"id\":\"11064\",\"type\":\"GlyphRenderer\"},{\"id\":\"11069\",\"type\":\"GlyphRenderer\"},{\"id\":\"11089\",\"type\":\"GlyphRenderer\"}],\"title\":{\"id\":\"10994\",\"type\":\"Title\"},\"toolbar\":{\"id\":\"11020\",\"type\":\"Toolbar\"},\"x_range\":{\"id\":\"10996\",\"type\":\"DataRange1d\"},\"x_scale\":{\"id\":\"11000\",\"type\":\"LinearScale\"},\"y_range\":{\"id\":\"10998\",\"type\":\"DataRange1d\"},\"y_scale\":{\"id\":\"11002\",\"type\":\"LinearScale\"}},\"id\":\"10993\",\"subtype\":\"Figure\",\"type\":\"Plot\"},{\"attributes\":{\"source\":{\"id\":\"11045\",\"type\":\"ColumnDataSource\"}},\"id\":\"11049\",\"type\":\"CDSView\"},{\"attributes\":{\"callback\":null,\"data\":{\"x\":[\"2000\",\"2005\",\"2007\",\"2009\",\"2014\"],\"y\":[19.186981494515138,14.221528307791516,14.290817645409502,13.0,11.398005045670415]},\"selected\":{\"id\":\"11519\",\"type\":\"Selection\"},\"selection_policy\":{\"id\":\"11518\",\"type\":\"UnionRenderers\"}},\"id\":\"11086\",\"type\":\"ColumnDataSource\"},{\"attributes\":{\"fill_color\":{\"value\":\"#2CC775\"},\"line_color\":{\"value\":\"#2CC775\"},\"line_width\":{\"value\":3},\"x\":{\"field\":\"x\"},\"y\":{\"field\":\"y\"}},\"id\":\"11087\",\"type\":\"Circle\"},{\"attributes\":{},\"id\":\"11057\",\"type\":\"Selection\"},{\"attributes\":{\"source\":{\"id\":\"11027\",\"type\":\"ColumnDataSource\"}},\"id\":\"11031\",\"type\":\"CDSView\"},{\"attributes\":{},\"id\":\"11010\",\"type\":\"BasicTicker\"},{\"attributes\":{\"fill_alpha\":{\"value\":0.1},\"fill_color\":{\"value\":\"#1f77b4\"},\"line_alpha\":{\"value\":0.1},\"line_color\":{\"value\":\"#1f77b4\"},\"line_width\":{\"value\":3},\"x\":{\"field\":\"x\"},\"y\":{\"field\":\"y\"}},\"id\":\"11088\",\"type\":\"Circle\"},{\"attributes\":{},\"id\":\"11059\",\"type\":\"Selection\"},{\"attributes\":{\"bottom_units\":\"screen\",\"fill_alpha\":{\"value\":0.5},\"fill_color\":{\"value\":\"lightgrey\"},\"left_units\":\"screen\",\"level\":\"overlay\",\"line_alpha\":{\"value\":1.0},\"line_color\":{\"value\":\"black\"},\"line_dash\":[4,4],\"line_width\":{\"value\":2},\"render_mode\":\"css\",\"right_units\":\"screen\",\"top_units\":\"screen\"},\"id\":\"11037\",\"type\":\"BoxAnnotation\"},{\"attributes\":{\"data_source\":{\"id\":\"11086\",\"type\":\"ColumnDataSource\"},\"glyph\":{\"id\":\"11087\",\"type\":\"Circle\"},\"hover_glyph\":null,\"muted_glyph\":null,\"nonselection_glyph\":{\"id\":\"11088\",\"type\":\"Circle\"},\"selection_glyph\":null,\"view\":{\"id\":\"11090\",\"type\":\"CDSView\"}},\"id\":\"11089\",\"type\":\"GlyphRenderer\"},{\"attributes\":{},\"id\":\"11036\",\"type\":\"BasicTickFormatter\"},{\"attributes\":{},\"id\":\"11058\",\"type\":\"UnionRenderers\"},{\"attributes\":{},\"id\":\"11084\",\"type\":\"Selection\"},{\"attributes\":{\"dimension\":1,\"grid_line_alpha\":0.5,\"ticker\":{\"id\":\"11010\",\"type\":\"BasicTicker\"}},\"id\":\"11013\",\"type\":\"Grid\"},{\"attributes\":{},\"id\":\"11056\",\"type\":\"UnionRenderers\"},{\"attributes\":{\"items\":[{\"id\":\"11039\",\"type\":\"LegendItem\"},{\"id\":\"11060\",\"type\":\"LegendItem\"},{\"id\":\"11085\",\"type\":\"LegendItem\"}],\"location\":\"bottom_left\"},\"id\":\"11038\",\"type\":\"Legend\"},{\"attributes\":{\"label\":{\"value\":\"Developing excluding LDCs\"},\"renderers\":[{\"id\":\"11048\",\"type\":\"GlyphRenderer\"}]},\"id\":\"11060\",\"type\":\"LegendItem\"},{\"attributes\":{\"callback\":null,\"data\":{\"x\":[\"2000\",\"2005\",\"2007\",\"2009\",\"2014\"],\"y\":[75.33747542942652,69.6201732119946,67.93590338091548,65.70655306857522,62.3851831063759]},\"selected\":{\"id\":\"11057\",\"type\":\"Selection\"},\"selection_policy\":{\"id\":\"11056\",\"type\":\"UnionRenderers\"}},\"id\":\"11027\",\"type\":\"ColumnDataSource\"},{\"attributes\":{\"source\":{\"id\":\"11086\",\"type\":\"ColumnDataSource\"}},\"id\":\"11090\",\"type\":\"CDSView\"},{\"attributes\":{\"fill_color\":{\"value\":\"#5430F1\"},\"line_color\":{\"value\":\"#5430F1\"},\"line_width\":{\"value\":3},\"x\":{\"field\":\"x\"},\"y\":{\"field\":\"y\"}},\"id\":\"11062\",\"type\":\"Circle\"},{\"attributes\":{\"callback\":null,\"data\":{\"x\":[\"2000\",\"2005\",\"2007\",\"2009\",\"2014\"],\"y\":[75.33747542942652,69.6201732119946,67.93590338091548,65.70655306857522,62.3851831063759]},\"selected\":{\"id\":\"11059\",\"type\":\"Selection\"},\"selection_policy\":{\"id\":\"11058\",\"type\":\"UnionRenderers\"}},\"id\":\"11040\",\"type\":\"ColumnDataSource\"},{\"attributes\":{\"label\":{\"value\":\"LDCs\"},\"renderers\":[{\"id\":\"11030\",\"type\":\"GlyphRenderer\"}]},\"id\":\"11039\",\"type\":\"LegendItem\"},{\"attributes\":{\"callback\":null,\"data\":{\"x\":[\"2000\",\"2005\",\"2007\",\"2009\",\"2014\"],\"y\":[37.12593509389958,32.316430637513314,30.981376218825975,30.14981039905175,25.693627611759997]},\"selected\":{\"id\":\"11084\",\"type\":\"Selection\"},\"selection_policy\":{\"id\":\"11083\",\"type\":\"UnionRenderers\"}},\"id\":\"11061\",\"type\":\"ColumnDataSource\"},{\"attributes\":{\"fill_color\":{\"value\":\"#FA1857\"},\"line_color\":{\"value\":\"#FA1857\"},\"line_width\":{\"value\":3},\"x\":{\"field\":\"x\"},\"y\":{\"field\":\"y\"}},\"id\":\"11041\",\"type\":\"Circle\"},{\"attributes\":{\"fill_alpha\":{\"value\":0.1},\"fill_color\":{\"value\":\"#1f77b4\"},\"line_alpha\":{\"value\":0.1},\"line_color\":{\"value\":\"#1f77b4\"},\"line_width\":{\"value\":3},\"x\":{\"field\":\"x\"},\"y\":{\"field\":\"y\"}},\"id\":\"11063\",\"type\":\"Circle\"},{\"attributes\":{},\"id\":\"11516\",\"type\":\"UnionRenderers\"},{\"attributes\":{\"callback\":null,\"tooltips\":\"                \\n        <div style=padding=5px>Year:@x</div>\\n        <div style=padding=5px>Value:@y</div>        \\n        \"},\"id\":\"11091\",\"type\":\"HoverTool\"},{\"attributes\":{},\"id\":\"11517\",\"type\":\"Selection\"},{\"attributes\":{\"source\":{\"id\":\"11061\",\"type\":\"ColumnDataSource\"}},\"id\":\"11065\",\"type\":\"CDSView\"},{\"attributes\":{},\"id\":\"11015\",\"type\":\"WheelZoomTool\"},{\"attributes\":{\"data_source\":{\"id\":\"11061\",\"type\":\"ColumnDataSource\"},\"glyph\":{\"id\":\"11062\",\"type\":\"Circle\"},\"hover_glyph\":null,\"muted_glyph\":null,\"nonselection_glyph\":{\"id\":\"11063\",\"type\":\"Circle\"},\"selection_glyph\":null,\"view\":{\"id\":\"11065\",\"type\":\"CDSView\"}},\"id\":\"11064\",\"type\":\"GlyphRenderer\"},{\"attributes\":{},\"id\":\"11017\",\"type\":\"SaveTool\"},{\"attributes\":{\"text\":\"Population living in slums (% of urban population) weighted against Urban population\"},\"id\":\"10994\",\"type\":\"Title\"},{\"attributes\":{\"data_source\":{\"id\":\"11027\",\"type\":\"ColumnDataSource\"},\"glyph\":{\"id\":\"11028\",\"type\":\"Line\"},\"hover_glyph\":null,\"muted_glyph\":null,\"nonselection_glyph\":{\"id\":\"11029\",\"type\":\"Line\"},\"selection_glyph\":null,\"view\":{\"id\":\"11031\",\"type\":\"CDSView\"}},\"id\":\"11030\",\"type\":\"GlyphRenderer\"},{\"attributes\":{},\"id\":\"11014\",\"type\":\"PanTool\"},{\"attributes\":{\"data_source\":{\"id\":\"11040\",\"type\":\"ColumnDataSource\"},\"glyph\":{\"id\":\"11041\",\"type\":\"Circle\"},\"hover_glyph\":null,\"muted_glyph\":null,\"nonselection_glyph\":{\"id\":\"11042\",\"type\":\"Circle\"},\"selection_glyph\":null,\"view\":{\"id\":\"11044\",\"type\":\"CDSView\"}},\"id\":\"11043\",\"type\":\"GlyphRenderer\"},{\"attributes\":{\"callback\":null,\"data\":{\"x\":[\"2000\",\"2005\",\"2007\",\"2009\",\"2014\"],\"y\":[19.186981494515138,14.221528307791516,14.290817645409502,13.0,11.398005045670415]},\"selected\":{\"id\":\"11517\",\"type\":\"Selection\"},\"selection_policy\":{\"id\":\"11516\",\"type\":\"UnionRenderers\"}},\"id\":\"11066\",\"type\":\"ColumnDataSource\"},{\"attributes\":{},\"id\":\"11518\",\"type\":\"UnionRenderers\"},{\"attributes\":{\"fill_alpha\":{\"value\":0.1},\"fill_color\":{\"value\":\"#1f77b4\"},\"line_alpha\":{\"value\":0.1},\"line_color\":{\"value\":\"#1f77b4\"},\"line_width\":{\"value\":3},\"x\":{\"field\":\"x\"},\"y\":{\"field\":\"y\"}},\"id\":\"11042\",\"type\":\"Circle\"},{\"attributes\":{\"label\":{\"value\":\"OECD\"},\"renderers\":[{\"id\":\"11069\",\"type\":\"GlyphRenderer\"}]},\"id\":\"11085\",\"type\":\"LegendItem\"},{\"attributes\":{\"overlay\":{\"id\":\"11037\",\"type\":\"BoxAnnotation\"}},\"id\":\"11016\",\"type\":\"BoxZoomTool\"},{\"attributes\":{},\"id\":\"11018\",\"type\":\"ResetTool\"},{\"attributes\":{\"line_alpha\":0.1,\"line_color\":\"#1f77b4\",\"x\":{\"field\":\"x\"},\"y\":{\"field\":\"y\"}},\"id\":\"11068\",\"type\":\"Line\"},{\"attributes\":{\"callback\":null},\"id\":\"10996\",\"type\":\"DataRange1d\"},{\"attributes\":{\"line_color\":\"#FA1857\",\"x\":{\"field\":\"x\"},\"y\":{\"field\":\"y\"}},\"id\":\"11028\",\"type\":\"Line\"},{\"attributes\":{\"source\":{\"id\":\"11040\",\"type\":\"ColumnDataSource\"}},\"id\":\"11044\",\"type\":\"CDSView\"},{\"attributes\":{},\"id\":\"11519\",\"type\":\"Selection\"},{\"attributes\":{\"line_color\":\"#2CC775\",\"x\":{\"field\":\"x\"},\"y\":{\"field\":\"y\"}},\"id\":\"11067\",\"type\":\"Line\"},{\"attributes\":{},\"id\":\"11000\",\"type\":\"LinearScale\"},{\"attributes\":{\"line_color\":\"#5430F1\",\"x\":{\"field\":\"x\"},\"y\":{\"field\":\"y\"}},\"id\":\"11046\",\"type\":\"Line\"},{\"attributes\":{\"data_source\":{\"id\":\"11066\",\"type\":\"ColumnDataSource\"},\"glyph\":{\"id\":\"11067\",\"type\":\"Line\"},\"hover_glyph\":null,\"muted_glyph\":null,\"nonselection_glyph\":{\"id\":\"11068\",\"type\":\"Line\"},\"selection_glyph\":null,\"view\":{\"id\":\"11070\",\"type\":\"CDSView\"}},\"id\":\"11069\",\"type\":\"GlyphRenderer\"},{\"attributes\":{\"callback\":null},\"id\":\"10998\",\"type\":\"DataRange1d\"},{\"attributes\":{\"callback\":null,\"data\":{\"x\":[\"2000\",\"2005\",\"2007\",\"2009\",\"2014\"],\"y\":[37.12593509389958,32.316430637513314,30.981376218825975,30.14981039905175,25.693627611759997]},\"selected\":{\"id\":\"11082\",\"type\":\"Selection\"},\"selection_policy\":{\"id\":\"11081\",\"type\":\"UnionRenderers\"}},\"id\":\"11045\",\"type\":\"ColumnDataSource\"},{\"attributes\":{},\"id\":\"11034\",\"type\":\"BasicTickFormatter\"},{\"attributes\":{},\"id\":\"11019\",\"type\":\"HelpTool\"},{\"attributes\":{},\"id\":\"11081\",\"type\":\"UnionRenderers\"},{\"attributes\":{},\"id\":\"11002\",\"type\":\"LinearScale\"},{\"attributes\":{\"line_alpha\":0.1,\"line_color\":\"#1f77b4\",\"x\":{\"field\":\"x\"},\"y\":{\"field\":\"y\"}},\"id\":\"11047\",\"type\":\"Line\"},{\"attributes\":{\"active_drag\":\"auto\",\"active_inspect\":\"auto\",\"active_multi\":null,\"active_scroll\":\"auto\",\"active_tap\":\"auto\",\"tools\":[{\"id\":\"11014\",\"type\":\"PanTool\"},{\"id\":\"11015\",\"type\":\"WheelZoomTool\"},{\"id\":\"11016\",\"type\":\"BoxZoomTool\"},{\"id\":\"11017\",\"type\":\"SaveTool\"},{\"id\":\"11018\",\"type\":\"ResetTool\"},{\"id\":\"11019\",\"type\":\"HelpTool\"},{\"id\":\"11091\",\"type\":\"HoverTool\"}]},\"id\":\"11020\",\"type\":\"Toolbar\"},{\"attributes\":{\"source\":{\"id\":\"11066\",\"type\":\"ColumnDataSource\"}},\"id\":\"11070\",\"type\":\"CDSView\"},{\"attributes\":{},\"id\":\"11005\",\"type\":\"BasicTicker\"},{\"attributes\":{},\"id\":\"11082\",\"type\":\"Selection\"},{\"attributes\":{\"axis_label\":\"Years\",\"formatter\":{\"id\":\"11034\",\"type\":\"BasicTickFormatter\"},\"ticker\":{\"id\":\"11005\",\"type\":\"BasicTicker\"}},\"id\":\"11004\",\"type\":\"LinearAxis\"},{\"attributes\":{\"data_source\":{\"id\":\"11045\",\"type\":\"ColumnDataSource\"},\"glyph\":{\"id\":\"11046\",\"type\":\"Line\"},\"hover_glyph\":null,\"muted_glyph\":null,\"nonselection_glyph\":{\"id\":\"11047\",\"type\":\"Line\"},\"selection_glyph\":null,\"view\":{\"id\":\"11049\",\"type\":\"CDSView\"}},\"id\":\"11048\",\"type\":\"GlyphRenderer\"},{\"attributes\":{\"line_alpha\":0.1,\"line_color\":\"#1f77b4\",\"x\":{\"field\":\"x\"},\"y\":{\"field\":\"y\"}},\"id\":\"11029\",\"type\":\"Line\"},{\"attributes\":{\"grid_line_color\":null,\"ticker\":{\"id\":\"11005\",\"type\":\"BasicTicker\"}},\"id\":\"11008\",\"type\":\"Grid\"},{\"attributes\":{},\"id\":\"11083\",\"type\":\"UnionRenderers\"},{\"attributes\":{\"axis_label\":\"EN.POP.SLUM.UR.ZS\",\"formatter\":{\"id\":\"11036\",\"type\":\"BasicTickFormatter\"},\"ticker\":{\"id\":\"11010\",\"type\":\"BasicTicker\"}},\"id\":\"11009\",\"type\":\"LinearAxis\"}],\"root_ids\":[\"10993\"]},\"title\":\"Bokeh Application\",\"version\":\"1.3.4\"}};\n",
       "  var render_items = [{\"docid\":\"48294164-fab2-4592-8a0c-a47c81d548cc\",\"roots\":{\"10993\":\"c65a92b0-00c3-4373-9c9b-68e4847b0650\"}}];\n",
       "  root.Bokeh.embed.embed_items_notebook(docs_json, render_items);\n",
       "\n",
       "  }\n",
       "  if (root.Bokeh !== undefined) {\n",
       "    embed_document(root);\n",
       "  } else {\n",
       "    var attempts = 0;\n",
       "    var timer = setInterval(function(root) {\n",
       "      if (root.Bokeh !== undefined) {\n",
       "        embed_document(root);\n",
       "        clearInterval(timer);\n",
       "      }\n",
       "      attempts++;\n",
       "      if (attempts > 100) {\n",
       "        console.log(\"Bokeh: ERROR: Unable to run BokehJS code because BokehJS library is missing\");\n",
       "        clearInterval(timer);\n",
       "      }\n",
       "    }, 10, root)\n",
       "  }\n",
       "})(window);"
      ],
      "application/vnd.bokehjs_exec.v0+json": ""
     },
     "metadata": {
      "application/vnd.bokehjs_exec.v0+json": {
       "id": "10993"
      }
     },
     "output_type": "display_data"
    }
   ],
   "source": [
    "# Percentage of urban population living in slums\n",
    "years = ['2000', '2005', '2007', '2009', '2014']\n",
    "result = show_weighted_average(years, 'EN.POP.SLUM.UR.ZS', 'SP.URB.TOTL', \n",
    "                               ['LDCs', 'Developing excluding LDCs', 'OECD'])"
   ]
  },
  {
   "cell_type": "code",
   "execution_count": 31,
   "metadata": {
    "ExecuteTime": {
     "end_time": "2019-10-25T14:32:38.578383Z",
     "start_time": "2019-10-25T14:31:44.564667Z"
    },
    "slideshow": {
     "slide_type": "slide"
    }
   },
   "outputs": [
    {
     "data": {
      "text/html": [
       "\n",
       "\n",
       "\n",
       "\n",
       "\n",
       "\n",
       "  <div class=\"bk-root\" id=\"2b6c0791-e890-4503-b37f-37d330ab4cc3\" data-root-id=\"11628\"></div>\n"
      ]
     },
     "metadata": {},
     "output_type": "display_data"
    },
    {
     "data": {
      "application/javascript": [
       "(function(root) {\n",
       "  function embed_document(root) {\n",
       "    \n",
       "  var docs_json = {\"20b40bab-55be-485d-a62c-b76c27a1725d\":{\"roots\":{\"references\":[{\"attributes\":{\"below\":[{\"id\":\"11639\",\"type\":\"LinearAxis\"}],\"center\":[{\"id\":\"11643\",\"type\":\"Grid\"},{\"id\":\"11648\",\"type\":\"Grid\"},{\"id\":\"11673\",\"type\":\"Legend\"}],\"left\":[{\"id\":\"11644\",\"type\":\"LinearAxis\"}],\"plot_height\":400,\"plot_width\":800,\"renderers\":[{\"id\":\"11665\",\"type\":\"GlyphRenderer\"},{\"id\":\"11678\",\"type\":\"GlyphRenderer\"},{\"id\":\"11683\",\"type\":\"GlyphRenderer\"},{\"id\":\"11699\",\"type\":\"GlyphRenderer\"},{\"id\":\"11704\",\"type\":\"GlyphRenderer\"},{\"id\":\"11724\",\"type\":\"GlyphRenderer\"}],\"title\":{\"id\":\"11629\",\"type\":\"Title\"},\"toolbar\":{\"id\":\"11655\",\"type\":\"Toolbar\"},\"x_range\":{\"id\":\"11631\",\"type\":\"DataRange1d\"},\"x_scale\":{\"id\":\"11635\",\"type\":\"LinearScale\"},\"y_range\":{\"id\":\"11633\",\"type\":\"DataRange1d\"},\"y_scale\":{\"id\":\"11637\",\"type\":\"LinearScale\"}},\"id\":\"11628\",\"subtype\":\"Figure\",\"type\":\"Plot\"},{\"attributes\":{},\"id\":\"11718\",\"type\":\"UnionRenderers\"},{\"attributes\":{},\"id\":\"12171\",\"type\":\"UnionRenderers\"},{\"attributes\":{\"axis_label\":\"SP.URB.TOTL.IN.ZS\",\"formatter\":{\"id\":\"11671\",\"type\":\"BasicTickFormatter\"},\"ticker\":{\"id\":\"11645\",\"type\":\"BasicTicker\"}},\"id\":\"11644\",\"type\":\"LinearAxis\"},{\"attributes\":{\"callback\":null,\"data\":{\"x\":[\"1960\",\"1961\",\"1962\",\"1963\",\"1964\",\"1965\",\"1966\",\"1967\",\"1968\",\"1969\",\"1970\",\"1971\",\"1972\",\"1973\",\"1974\",\"1975\",\"1976\",\"1977\",\"1978\",\"1979\",\"1980\",\"1981\",\"1982\",\"1983\",\"1984\",\"1985\",\"1986\",\"1987\",\"1988\",\"1989\",\"1990\",\"1991\",\"1992\",\"1993\",\"1994\",\"1995\",\"1996\",\"1997\",\"1998\",\"1999\",\"2000\",\"2001\",\"2002\",\"2003\",\"2004\",\"2005\",\"2006\",\"2007\",\"2008\",\"2009\",\"2010\",\"2011\",\"2012\",\"2013\",\"2014\",\"2015\",\"2016\",\"2017\"],\"y\":[22.630949288694833,23.14281914867262,23.63312711968041,24.089976990736393,24.556059976253326,24.732603461884004,24.91323170795608,25.110005118236234,25.303107900443436,25.49142592220588,25.680646321274192,25.897359116719393,26.15520822571961,26.462227546535093,26.816876575043107,27.179600502462144,27.528279378386834,27.884271151811344,28.363702119408167,28.966693913320626,29.57896681146142,30.216362823981534,30.836365224138223,31.40227128490981,31.977573113645832,32.552216495483755,33.12127196800427,33.684605348038794,34.247222182829134,34.81002887259299,35.37519635893041,35.94756436038916,36.481760611613694,37.05433252421815,37.627897151830695,38.22540077342875,38.79671598864855,39.37048203585944,39.948270161766125,40.52672004161325,41.11494683071915,41.761603501479144,42.46147430353454,43.16134280503671,43.86666821577943,44.576114937235026,45.27519476585794,45.96910645799235,46.665300390624786,47.35893958565393,48.05102009881094,48.71516104918681,49.368472052422604,50.01832656497409,50.667168529751926,51.31245173550162,51.95558590128294,52.59415157798671]},\"selected\":{\"id\":\"11719\",\"type\":\"Selection\"},\"selection_policy\":{\"id\":\"11718\",\"type\":\"UnionRenderers\"}},\"id\":\"11696\",\"type\":\"ColumnDataSource\"},{\"attributes\":{\"bottom_units\":\"screen\",\"fill_alpha\":{\"value\":0.5},\"fill_color\":{\"value\":\"lightgrey\"},\"left_units\":\"screen\",\"level\":\"overlay\",\"line_alpha\":{\"value\":1.0},\"line_color\":{\"value\":\"black\"},\"line_dash\":[4,4],\"line_width\":{\"value\":2},\"render_mode\":\"css\",\"right_units\":\"screen\",\"top_units\":\"screen\"},\"id\":\"11672\",\"type\":\"BoxAnnotation\"},{\"attributes\":{\"data_source\":{\"id\":\"11701\",\"type\":\"ColumnDataSource\"},\"glyph\":{\"id\":\"11702\",\"type\":\"Line\"},\"hover_glyph\":null,\"muted_glyph\":null,\"nonselection_glyph\":{\"id\":\"11703\",\"type\":\"Line\"},\"selection_glyph\":null,\"view\":{\"id\":\"11705\",\"type\":\"CDSView\"}},\"id\":\"11704\",\"type\":\"GlyphRenderer\"},{\"attributes\":{\"label\":{\"value\":\"Developing excluding LDCs\"},\"renderers\":[{\"id\":\"11683\",\"type\":\"GlyphRenderer\"}]},\"id\":\"11695\",\"type\":\"LegendItem\"},{\"attributes\":{},\"id\":\"11717\",\"type\":\"Selection\"},{\"attributes\":{},\"id\":\"11671\",\"type\":\"BasicTickFormatter\"},{\"attributes\":{},\"id\":\"11694\",\"type\":\"Selection\"},{\"attributes\":{\"grid_line_color\":null,\"ticker\":{\"id\":\"11640\",\"type\":\"BasicTicker\"}},\"id\":\"11643\",\"type\":\"Grid\"},{\"attributes\":{},\"id\":\"11716\",\"type\":\"UnionRenderers\"},{\"attributes\":{},\"id\":\"11669\",\"type\":\"BasicTickFormatter\"},{\"attributes\":{},\"id\":\"12170\",\"type\":\"Selection\"},{\"attributes\":{},\"id\":\"11693\",\"type\":\"UnionRenderers\"},{\"attributes\":{},\"id\":\"11719\",\"type\":\"Selection\"},{\"attributes\":{},\"id\":\"11640\",\"type\":\"BasicTicker\"},{\"attributes\":{\"source\":{\"id\":\"11662\",\"type\":\"ColumnDataSource\"}},\"id\":\"11666\",\"type\":\"CDSView\"},{\"attributes\":{\"source\":{\"id\":\"11701\",\"type\":\"ColumnDataSource\"}},\"id\":\"11705\",\"type\":\"CDSView\"},{\"attributes\":{},\"id\":\"11692\",\"type\":\"Selection\"},{\"attributes\":{\"fill_alpha\":{\"value\":0.1},\"fill_color\":{\"value\":\"#1f77b4\"},\"line_alpha\":{\"value\":0.1},\"line_color\":{\"value\":\"#1f77b4\"},\"line_width\":{\"value\":3},\"x\":{\"field\":\"x\"},\"y\":{\"field\":\"y\"}},\"id\":\"11698\",\"type\":\"Circle\"},{\"attributes\":{\"axis_label\":\"Years\",\"formatter\":{\"id\":\"11669\",\"type\":\"BasicTickFormatter\"},\"ticker\":{\"id\":\"11640\",\"type\":\"BasicTicker\"}},\"id\":\"11639\",\"type\":\"LinearAxis\"},{\"attributes\":{},\"id\":\"12169\",\"type\":\"UnionRenderers\"},{\"attributes\":{},\"id\":\"11691\",\"type\":\"UnionRenderers\"},{\"attributes\":{\"data_source\":{\"id\":\"11662\",\"type\":\"ColumnDataSource\"},\"glyph\":{\"id\":\"11663\",\"type\":\"Line\"},\"hover_glyph\":null,\"muted_glyph\":null,\"nonselection_glyph\":{\"id\":\"11664\",\"type\":\"Line\"},\"selection_glyph\":null,\"view\":{\"id\":\"11666\",\"type\":\"CDSView\"}},\"id\":\"11665\",\"type\":\"GlyphRenderer\"},{\"attributes\":{},\"id\":\"11637\",\"type\":\"LinearScale\"},{\"attributes\":{\"source\":{\"id\":\"11680\",\"type\":\"ColumnDataSource\"}},\"id\":\"11684\",\"type\":\"CDSView\"},{\"attributes\":{},\"id\":\"11635\",\"type\":\"LinearScale\"},{\"attributes\":{\"active_drag\":\"auto\",\"active_inspect\":\"auto\",\"active_multi\":null,\"active_scroll\":\"auto\",\"active_tap\":\"auto\",\"tools\":[{\"id\":\"11649\",\"type\":\"PanTool\"},{\"id\":\"11650\",\"type\":\"WheelZoomTool\"},{\"id\":\"11651\",\"type\":\"BoxZoomTool\"},{\"id\":\"11652\",\"type\":\"SaveTool\"},{\"id\":\"11653\",\"type\":\"ResetTool\"},{\"id\":\"11654\",\"type\":\"HelpTool\"},{\"id\":\"11726\",\"type\":\"HoverTool\"}]},\"id\":\"11655\",\"type\":\"Toolbar\"},{\"attributes\":{\"data_source\":{\"id\":\"11680\",\"type\":\"ColumnDataSource\"},\"glyph\":{\"id\":\"11681\",\"type\":\"Line\"},\"hover_glyph\":null,\"muted_glyph\":null,\"nonselection_glyph\":{\"id\":\"11682\",\"type\":\"Line\"},\"selection_glyph\":null,\"view\":{\"id\":\"11684\",\"type\":\"CDSView\"}},\"id\":\"11683\",\"type\":\"GlyphRenderer\"},{\"attributes\":{\"source\":{\"id\":\"11721\",\"type\":\"ColumnDataSource\"}},\"id\":\"11725\",\"type\":\"CDSView\"},{\"attributes\":{\"callback\":null},\"id\":\"11633\",\"type\":\"DataRange1d\"},{\"attributes\":{},\"id\":\"11654\",\"type\":\"HelpTool\"},{\"attributes\":{\"line_alpha\":0.1,\"line_color\":\"#1f77b4\",\"x\":{\"field\":\"x\"},\"y\":{\"field\":\"y\"}},\"id\":\"11682\",\"type\":\"Line\"},{\"attributes\":{\"callback\":null},\"id\":\"11631\",\"type\":\"DataRange1d\"},{\"attributes\":{\"data_source\":{\"id\":\"11721\",\"type\":\"ColumnDataSource\"},\"glyph\":{\"id\":\"11722\",\"type\":\"Circle\"},\"hover_glyph\":null,\"muted_glyph\":null,\"nonselection_glyph\":{\"id\":\"11723\",\"type\":\"Circle\"},\"selection_glyph\":null,\"view\":{\"id\":\"11725\",\"type\":\"CDSView\"}},\"id\":\"11724\",\"type\":\"GlyphRenderer\"},{\"attributes\":{},\"id\":\"11653\",\"type\":\"ResetTool\"},{\"attributes\":{\"line_color\":\"#5430F1\",\"x\":{\"field\":\"x\"},\"y\":{\"field\":\"y\"}},\"id\":\"11681\",\"type\":\"Line\"},{\"attributes\":{\"fill_color\":{\"value\":\"#5430F1\"},\"line_color\":{\"value\":\"#5430F1\"},\"line_width\":{\"value\":3},\"x\":{\"field\":\"x\"},\"y\":{\"field\":\"y\"}},\"id\":\"11697\",\"type\":\"Circle\"},{\"attributes\":{\"text\":\"Urban population (% of total population) weighted against Population, total\"},\"id\":\"11629\",\"type\":\"Title\"},{\"attributes\":{},\"id\":\"11652\",\"type\":\"SaveTool\"},{\"attributes\":{\"callback\":null,\"data\":{\"x\":[\"1960\",\"1961\",\"1962\",\"1963\",\"1964\",\"1965\",\"1966\",\"1967\",\"1968\",\"1969\",\"1970\",\"1971\",\"1972\",\"1973\",\"1974\",\"1975\",\"1976\",\"1977\",\"1978\",\"1979\",\"1980\",\"1981\",\"1982\",\"1983\",\"1984\",\"1985\",\"1986\",\"1987\",\"1988\",\"1989\",\"1990\",\"1991\",\"1992\",\"1993\",\"1994\",\"1995\",\"1996\",\"1997\",\"1998\",\"1999\",\"2000\",\"2001\",\"2002\",\"2003\",\"2004\",\"2005\",\"2006\",\"2007\",\"2008\",\"2009\",\"2010\",\"2011\",\"2012\",\"2013\",\"2014\",\"2015\",\"2016\",\"2017\"],\"y\":[22.630949288694833,23.14281914867262,23.63312711968041,24.089976990736393,24.556059976253326,24.732603461884004,24.91323170795608,25.110005118236234,25.303107900443436,25.49142592220588,25.680646321274192,25.897359116719393,26.15520822571961,26.462227546535093,26.816876575043107,27.179600502462144,27.528279378386834,27.884271151811344,28.363702119408167,28.966693913320626,29.57896681146142,30.216362823981534,30.836365224138223,31.40227128490981,31.977573113645832,32.552216495483755,33.12127196800427,33.684605348038794,34.247222182829134,34.81002887259299,35.37519635893041,35.94756436038916,36.481760611613694,37.05433252421815,37.627897151830695,38.22540077342875,38.79671598864855,39.37048203585944,39.948270161766125,40.52672004161325,41.11494683071915,41.761603501479144,42.46147430353454,43.16134280503671,43.86666821577943,44.576114937235026,45.27519476585794,45.96910645799235,46.665300390624786,47.35893958565393,48.05102009881094,48.71516104918681,49.368472052422604,50.01832656497409,50.667168529751926,51.31245173550162,51.95558590128294,52.59415157798671]},\"selected\":{\"id\":\"11717\",\"type\":\"Selection\"},\"selection_policy\":{\"id\":\"11716\",\"type\":\"UnionRenderers\"}},\"id\":\"11680\",\"type\":\"ColumnDataSource\"},{\"attributes\":{\"fill_alpha\":{\"value\":0.1},\"fill_color\":{\"value\":\"#1f77b4\"},\"line_alpha\":{\"value\":0.1},\"line_color\":{\"value\":\"#1f77b4\"},\"line_width\":{\"value\":3},\"x\":{\"field\":\"x\"},\"y\":{\"field\":\"y\"}},\"id\":\"11723\",\"type\":\"Circle\"},{\"attributes\":{\"overlay\":{\"id\":\"11672\",\"type\":\"BoxAnnotation\"}},\"id\":\"11651\",\"type\":\"BoxZoomTool\"},{\"attributes\":{\"source\":{\"id\":\"11675\",\"type\":\"ColumnDataSource\"}},\"id\":\"11679\",\"type\":\"CDSView\"},{\"attributes\":{\"line_alpha\":0.1,\"line_color\":\"#1f77b4\",\"x\":{\"field\":\"x\"},\"y\":{\"field\":\"y\"}},\"id\":\"11703\",\"type\":\"Line\"},{\"attributes\":{},\"id\":\"11650\",\"type\":\"WheelZoomTool\"},{\"attributes\":{\"fill_color\":{\"value\":\"#2CC775\"},\"line_color\":{\"value\":\"#2CC775\"},\"line_width\":{\"value\":3},\"x\":{\"field\":\"x\"},\"y\":{\"field\":\"y\"}},\"id\":\"11722\",\"type\":\"Circle\"},{\"attributes\":{\"data_source\":{\"id\":\"11675\",\"type\":\"ColumnDataSource\"},\"glyph\":{\"id\":\"11676\",\"type\":\"Circle\"},\"hover_glyph\":null,\"muted_glyph\":null,\"nonselection_glyph\":{\"id\":\"11677\",\"type\":\"Circle\"},\"selection_glyph\":null,\"view\":{\"id\":\"11679\",\"type\":\"CDSView\"}},\"id\":\"11678\",\"type\":\"GlyphRenderer\"},{\"attributes\":{\"line_color\":\"#2CC775\",\"x\":{\"field\":\"x\"},\"y\":{\"field\":\"y\"}},\"id\":\"11702\",\"type\":\"Line\"},{\"attributes\":{},\"id\":\"11649\",\"type\":\"PanTool\"},{\"attributes\":{\"callback\":null,\"data\":{\"x\":[\"1960\",\"1961\",\"1962\",\"1963\",\"1964\",\"1965\",\"1966\",\"1967\",\"1968\",\"1969\",\"1970\",\"1971\",\"1972\",\"1973\",\"1974\",\"1975\",\"1976\",\"1977\",\"1978\",\"1979\",\"1980\",\"1981\",\"1982\",\"1983\",\"1984\",\"1985\",\"1986\",\"1987\",\"1988\",\"1989\",\"1990\",\"1991\",\"1992\",\"1993\",\"1994\",\"1995\",\"1996\",\"1997\",\"1998\",\"1999\",\"2000\",\"2001\",\"2002\",\"2003\",\"2004\",\"2005\",\"2006\",\"2007\",\"2008\",\"2009\",\"2010\",\"2011\",\"2012\",\"2013\",\"2014\",\"2015\",\"2016\",\"2017\"],\"y\":[62.59953620237616,63.08957334358763,63.57872639334224,64.08376999046433,64.58687436549964,65.087407161162,65.58539185759696,66.09314622321546,66.58824055065821,67.06756237656948,67.52628342166688,67.91756952516317,68.27745658275356,68.62376906240875,68.9745801014019,69.30531568374833,69.56047988482551,69.80755583528435,70.0570392716649,70.30188257560143,70.54728708463239,70.84080263406176,71.11518000620043,71.37556979428155,71.62682223254069,71.87801848980098,72.13955415956409,72.4211398671853,72.7000259866276,72.95811736019994,73.23560195464822,73.51484019892555,73.77414817178924,74.03783660613713,74.30723436951402,74.5745666211642,74.81851175794863,75.05227180897651,75.28501173120483,75.5181692891309,75.74974074372007,76.09479632423921,76.49560193311356,76.87622336289719,77.24127255096394,77.59143098241435,77.91417063193697,78.21867292983931,78.51440926413176,78.80120853028673,79.08124691428517,79.29771074412386,79.48385416511948,79.66738879268615,79.8506569075482,80.0386620288315,80.22913025645875,80.4233314253301]},\"selected\":{\"id\":\"12172\",\"type\":\"Selection\"},\"selection_policy\":{\"id\":\"12171\",\"type\":\"UnionRenderers\"}},\"id\":\"11721\",\"type\":\"ColumnDataSource\"},{\"attributes\":{\"fill_alpha\":{\"value\":0.1},\"fill_color\":{\"value\":\"#1f77b4\"},\"line_alpha\":{\"value\":0.1},\"line_color\":{\"value\":\"#1f77b4\"},\"line_width\":{\"value\":3},\"x\":{\"field\":\"x\"},\"y\":{\"field\":\"y\"}},\"id\":\"11677\",\"type\":\"Circle\"},{\"attributes\":{\"line_alpha\":0.1,\"line_color\":\"#1f77b4\",\"x\":{\"field\":\"x\"},\"y\":{\"field\":\"y\"}},\"id\":\"11664\",\"type\":\"Line\"},{\"attributes\":{\"callback\":null,\"data\":{\"x\":[\"1960\",\"1961\",\"1962\",\"1963\",\"1964\",\"1965\",\"1966\",\"1967\",\"1968\",\"1969\",\"1970\",\"1971\",\"1972\",\"1973\",\"1974\",\"1975\",\"1976\",\"1977\",\"1978\",\"1979\",\"1980\",\"1981\",\"1982\",\"1983\",\"1984\",\"1985\",\"1986\",\"1987\",\"1988\",\"1989\",\"1990\",\"1991\",\"1992\",\"1993\",\"1994\",\"1995\",\"1996\",\"1997\",\"1998\",\"1999\",\"2000\",\"2001\",\"2002\",\"2003\",\"2004\",\"2005\",\"2006\",\"2007\",\"2008\",\"2009\",\"2010\",\"2011\",\"2012\",\"2013\",\"2014\",\"2015\",\"2016\",\"2017\"],\"y\":[62.59953620237616,63.08957334358763,63.57872639334224,64.08376999046433,64.58687436549964,65.087407161162,65.58539185759696,66.09314622321546,66.58824055065821,67.06756237656948,67.52628342166688,67.91756952516317,68.27745658275356,68.62376906240875,68.9745801014019,69.30531568374833,69.56047988482551,69.80755583528435,70.0570392716649,70.30188257560143,70.54728708463239,70.84080263406176,71.11518000620043,71.37556979428155,71.62682223254069,71.87801848980098,72.13955415956409,72.4211398671853,72.7000259866276,72.95811736019994,73.23560195464822,73.51484019892555,73.77414817178924,74.03783660613713,74.30723436951402,74.5745666211642,74.81851175794863,75.05227180897651,75.28501173120483,75.5181692891309,75.74974074372007,76.09479632423921,76.49560193311356,76.87622336289719,77.24127255096394,77.59143098241435,77.91417063193697,78.21867292983931,78.51440926413176,78.80120853028673,79.08124691428517,79.29771074412386,79.48385416511948,79.66738879268615,79.8506569075482,80.0386620288315,80.22913025645875,80.4233314253301]},\"selected\":{\"id\":\"12170\",\"type\":\"Selection\"},\"selection_policy\":{\"id\":\"12169\",\"type\":\"UnionRenderers\"}},\"id\":\"11701\",\"type\":\"ColumnDataSource\"},{\"attributes\":{\"callback\":null,\"tooltips\":\"                \\n        <div style=padding=5px>Year:@x</div>\\n        <div style=padding=5px>Value:@y</div>        \\n        \"},\"id\":\"11726\",\"type\":\"HoverTool\"},{\"attributes\":{\"fill_color\":{\"value\":\"#FA1857\"},\"line_color\":{\"value\":\"#FA1857\"},\"line_width\":{\"value\":3},\"x\":{\"field\":\"x\"},\"y\":{\"field\":\"y\"}},\"id\":\"11676\",\"type\":\"Circle\"},{\"attributes\":{\"callback\":null,\"data\":{\"x\":[\"1960\",\"1961\",\"1962\",\"1963\",\"1964\",\"1965\",\"1966\",\"1967\",\"1968\",\"1969\",\"1970\",\"1971\",\"1972\",\"1973\",\"1974\",\"1975\",\"1976\",\"1977\",\"1978\",\"1979\",\"1980\",\"1981\",\"1982\",\"1983\",\"1984\",\"1985\",\"1986\",\"1987\",\"1988\",\"1989\",\"1990\",\"1991\",\"1992\",\"1993\",\"1994\",\"1995\",\"1996\",\"1997\",\"1998\",\"1999\",\"2000\",\"2001\",\"2002\",\"2003\",\"2004\",\"2005\",\"2006\",\"2007\",\"2008\",\"2009\",\"2010\",\"2011\",\"2012\",\"2013\",\"2014\",\"2015\",\"2016\",\"2017\"],\"y\":[9.590441626589154,9.82956798804145,10.089934021962767,10.364196897530594,10.652282421195487,10.950321706725706,11.25750617684957,11.597625960136675,11.951557303382339,12.322182079802046,12.693637316992934,13.102812270349515,13.538428975399318,13.979617608585043,14.426656898097457,14.327100490197138,14.800859912325933,15.295458366390301,15.807482552340032,16.301789127132675,16.872464467732378,17.378256808688977,17.729484022454084,18.11100449405242,18.536347067726282,18.98554603996622,19.438205330760468,19.894885353886682,20.35901959600948,20.801792260188662,21.259109417937637,21.691581230817796,22.09539325255832,22.480412543964785,22.815688586431065,23.135882958165656,23.454910987065734,23.783364917127294,24.10596219711036,24.429269167363092,24.760018964979476,25.144909976033862,25.560303342013075,25.99027025544907,26.42138428012602,26.865355922534857,27.302613758312003,27.694992295194165,28.177233849451273,28.66869884679192,29.16842314668098,29.675548544753788,30.14948587235772,30.64825122352178,31.151609942305576,31.658943613022824,32.17025719236082,32.68572055294565]},\"selected\":{\"id\":\"11692\",\"type\":\"Selection\"},\"selection_policy\":{\"id\":\"11691\",\"type\":\"UnionRenderers\"}},\"id\":\"11662\",\"type\":\"ColumnDataSource\"},{\"attributes\":{\"source\":{\"id\":\"11696\",\"type\":\"ColumnDataSource\"}},\"id\":\"11700\",\"type\":\"CDSView\"},{\"attributes\":{\"label\":{\"value\":\"OECD\"},\"renderers\":[{\"id\":\"11704\",\"type\":\"GlyphRenderer\"}]},\"id\":\"11720\",\"type\":\"LegendItem\"},{\"attributes\":{\"callback\":null,\"data\":{\"x\":[\"1960\",\"1961\",\"1962\",\"1963\",\"1964\",\"1965\",\"1966\",\"1967\",\"1968\",\"1969\",\"1970\",\"1971\",\"1972\",\"1973\",\"1974\",\"1975\",\"1976\",\"1977\",\"1978\",\"1979\",\"1980\",\"1981\",\"1982\",\"1983\",\"1984\",\"1985\",\"1986\",\"1987\",\"1988\",\"1989\",\"1990\",\"1991\",\"1992\",\"1993\",\"1994\",\"1995\",\"1996\",\"1997\",\"1998\",\"1999\",\"2000\",\"2001\",\"2002\",\"2003\",\"2004\",\"2005\",\"2006\",\"2007\",\"2008\",\"2009\",\"2010\",\"2011\",\"2012\",\"2013\",\"2014\",\"2015\",\"2016\",\"2017\"],\"y\":[9.590441626589154,9.82956798804145,10.089934021962767,10.364196897530594,10.652282421195487,10.950321706725706,11.25750617684957,11.597625960136675,11.951557303382339,12.322182079802046,12.693637316992934,13.102812270349515,13.538428975399318,13.979617608585043,14.426656898097457,14.327100490197138,14.800859912325933,15.295458366390301,15.807482552340032,16.301789127132675,16.872464467732378,17.378256808688977,17.729484022454084,18.11100449405242,18.536347067726282,18.98554603996622,19.438205330760468,19.894885353886682,20.35901959600948,20.801792260188662,21.259109417937637,21.691581230817796,22.09539325255832,22.480412543964785,22.815688586431065,23.135882958165656,23.454910987065734,23.783364917127294,24.10596219711036,24.429269167363092,24.760018964979476,25.144909976033862,25.560303342013075,25.99027025544907,26.42138428012602,26.865355922534857,27.302613758312003,27.694992295194165,28.177233849451273,28.66869884679192,29.16842314668098,29.675548544753788,30.14948587235772,30.64825122352178,31.151609942305576,31.658943613022824,32.17025719236082,32.68572055294565]},\"selected\":{\"id\":\"11694\",\"type\":\"Selection\"},\"selection_policy\":{\"id\":\"11693\",\"type\":\"UnionRenderers\"}},\"id\":\"11675\",\"type\":\"ColumnDataSource\"},{\"attributes\":{\"data_source\":{\"id\":\"11696\",\"type\":\"ColumnDataSource\"},\"glyph\":{\"id\":\"11697\",\"type\":\"Circle\"},\"hover_glyph\":null,\"muted_glyph\":null,\"nonselection_glyph\":{\"id\":\"11698\",\"type\":\"Circle\"},\"selection_glyph\":null,\"view\":{\"id\":\"11700\",\"type\":\"CDSView\"}},\"id\":\"11699\",\"type\":\"GlyphRenderer\"},{\"attributes\":{\"line_color\":\"#FA1857\",\"x\":{\"field\":\"x\"},\"y\":{\"field\":\"y\"}},\"id\":\"11663\",\"type\":\"Line\"},{\"attributes\":{\"label\":{\"value\":\"LDCs\"},\"renderers\":[{\"id\":\"11665\",\"type\":\"GlyphRenderer\"}]},\"id\":\"11674\",\"type\":\"LegendItem\"},{\"attributes\":{\"dimension\":1,\"grid_line_alpha\":0.5,\"ticker\":{\"id\":\"11645\",\"type\":\"BasicTicker\"}},\"id\":\"11648\",\"type\":\"Grid\"},{\"attributes\":{},\"id\":\"12172\",\"type\":\"Selection\"},{\"attributes\":{\"items\":[{\"id\":\"11674\",\"type\":\"LegendItem\"},{\"id\":\"11695\",\"type\":\"LegendItem\"},{\"id\":\"11720\",\"type\":\"LegendItem\"}],\"location\":\"bottom_left\"},\"id\":\"11673\",\"type\":\"Legend\"},{\"attributes\":{},\"id\":\"11645\",\"type\":\"BasicTicker\"}],\"root_ids\":[\"11628\"]},\"title\":\"Bokeh Application\",\"version\":\"1.3.4\"}};\n",
       "  var render_items = [{\"docid\":\"20b40bab-55be-485d-a62c-b76c27a1725d\",\"roots\":{\"11628\":\"2b6c0791-e890-4503-b37f-37d330ab4cc3\"}}];\n",
       "  root.Bokeh.embed.embed_items_notebook(docs_json, render_items);\n",
       "\n",
       "  }\n",
       "  if (root.Bokeh !== undefined) {\n",
       "    embed_document(root);\n",
       "  } else {\n",
       "    var attempts = 0;\n",
       "    var timer = setInterval(function(root) {\n",
       "      if (root.Bokeh !== undefined) {\n",
       "        embed_document(root);\n",
       "        clearInterval(timer);\n",
       "      }\n",
       "      attempts++;\n",
       "      if (attempts > 100) {\n",
       "        console.log(\"Bokeh: ERROR: Unable to run BokehJS code because BokehJS library is missing\");\n",
       "        clearInterval(timer);\n",
       "      }\n",
       "    }, 10, root)\n",
       "  }\n",
       "})(window);"
      ],
      "application/vnd.bokehjs_exec.v0+json": ""
     },
     "metadata": {
      "application/vnd.bokehjs_exec.v0+json": {
       "id": "11628"
      }
     },
     "output_type": "display_data"
    }
   ],
   "source": [
    "years = list(map(str, list(range(1960,2018))))\n",
    "# Urban population as a percentage of total population\n",
    "result = show_weighted_average(years, 'SP.URB.TOTL.IN.ZS', 'SP.POP.TOTL', \n",
    "                               ['LDCs', 'Developing excluding LDCs', 'OECD'])"
   ]
  },
  {
   "cell_type": "code",
   "execution_count": 32,
   "metadata": {
    "ExecuteTime": {
     "end_time": "2019-10-25T14:29:15.192779Z",
     "start_time": "2019-10-25T14:29:14.263102Z"
    },
    "slideshow": {
     "slide_type": "slide"
    }
   },
   "outputs": [
    {
     "data": {
      "text/html": [
       "\n",
       "\n",
       "\n",
       "\n",
       "\n",
       "\n",
       "  <div class=\"bk-root\" id=\"d68e7acb-864c-437e-9695-690e4b2d622c\" data-root-id=\"12281\"></div>\n"
      ]
     },
     "metadata": {},
     "output_type": "display_data"
    },
    {
     "data": {
      "application/javascript": [
       "(function(root) {\n",
       "  function embed_document(root) {\n",
       "    \n",
       "  var docs_json = {\"52ef8582-0554-4de1-90d3-51a2a82268a2\":{\"roots\":{\"references\":[{\"attributes\":{\"below\":[{\"id\":\"12292\",\"type\":\"LinearAxis\"}],\"center\":[{\"id\":\"12296\",\"type\":\"Grid\"},{\"id\":\"12301\",\"type\":\"Grid\"},{\"id\":\"12326\",\"type\":\"Legend\"}],\"left\":[{\"id\":\"12297\",\"type\":\"LinearAxis\"}],\"plot_height\":400,\"plot_width\":900,\"renderers\":[{\"id\":\"12318\",\"type\":\"GlyphRenderer\"},{\"id\":\"12331\",\"type\":\"GlyphRenderer\"}],\"title\":{\"id\":\"12282\",\"type\":\"Title\"},\"toolbar\":{\"id\":\"12308\",\"type\":\"Toolbar\"},\"x_range\":{\"id\":\"12284\",\"type\":\"DataRange1d\"},\"x_scale\":{\"id\":\"12288\",\"type\":\"LinearScale\"},\"y_range\":{\"id\":\"12286\",\"type\":\"DataRange1d\"},\"y_scale\":{\"id\":\"12290\",\"type\":\"LinearScale\"}},\"id\":\"12281\",\"subtype\":\"Figure\",\"type\":\"Plot\"},{\"attributes\":{},\"id\":\"12298\",\"type\":\"BasicTicker\"},{\"attributes\":{\"dimension\":1,\"grid_line_alpha\":0.5,\"ticker\":{\"id\":\"12298\",\"type\":\"BasicTicker\"}},\"id\":\"12301\",\"type\":\"Grid\"},{\"attributes\":{},\"id\":\"12787\",\"type\":\"Selection\"},{\"attributes\":{},\"id\":\"12306\",\"type\":\"ResetTool\"},{\"attributes\":{},\"id\":\"12786\",\"type\":\"UnionRenderers\"},{\"attributes\":{\"callback\":null},\"id\":\"12286\",\"type\":\"DataRange1d\"},{\"attributes\":{\"bottom_units\":\"screen\",\"fill_alpha\":{\"value\":0.5},\"fill_color\":{\"value\":\"lightgrey\"},\"left_units\":\"screen\",\"level\":\"overlay\",\"line_alpha\":{\"value\":1.0},\"line_color\":{\"value\":\"black\"},\"line_dash\":[4,4],\"line_width\":{\"value\":2},\"render_mode\":\"css\",\"right_units\":\"screen\",\"top_units\":\"screen\"},\"id\":\"12325\",\"type\":\"BoxAnnotation\"},{\"attributes\":{\"source\":{\"id\":\"12315\",\"type\":\"ColumnDataSource\"}},\"id\":\"12319\",\"type\":\"CDSView\"},{\"attributes\":{\"label\":{\"value\":\"LDCs\"},\"renderers\":[{\"id\":\"12318\",\"type\":\"GlyphRenderer\"}]},\"id\":\"12327\",\"type\":\"LegendItem\"},{\"attributes\":{\"axis_label\":\"SP.URB.TOTL\",\"formatter\":{\"id\":\"12324\",\"type\":\"BasicTickFormatter\"},\"ticker\":{\"id\":\"12298\",\"type\":\"BasicTicker\"}},\"id\":\"12297\",\"type\":\"LinearAxis\"},{\"attributes\":{},\"id\":\"12305\",\"type\":\"SaveTool\"},{\"attributes\":{},\"id\":\"12788\",\"type\":\"UnionRenderers\"},{\"attributes\":{},\"id\":\"12789\",\"type\":\"Selection\"},{\"attributes\":{\"overlay\":{\"id\":\"12325\",\"type\":\"BoxAnnotation\"}},\"id\":\"12304\",\"type\":\"BoxZoomTool\"},{\"attributes\":{\"callback\":null,\"tooltips\":\"                \\n        <div style=padding=5px>Year:@x</div>\\n        <div style=padding=5px>Value:@y</div>        \\n        \"},\"id\":\"12333\",\"type\":\"HoverTool\"},{\"attributes\":{\"fill_alpha\":{\"value\":0.1},\"fill_color\":{\"value\":\"#1f77b4\"},\"line_alpha\":{\"value\":0.1},\"line_color\":{\"value\":\"#1f77b4\"},\"line_width\":{\"value\":3},\"x\":{\"field\":\"x\"},\"y\":{\"field\":\"y\"}},\"id\":\"12330\",\"type\":\"Circle\"},{\"attributes\":{},\"id\":\"12322\",\"type\":\"BasicTickFormatter\"},{\"attributes\":{},\"id\":\"12290\",\"type\":\"LinearScale\"},{\"attributes\":{\"line_alpha\":0.1,\"line_color\":\"#1f77b4\",\"x\":{\"field\":\"x\"},\"y\":{\"field\":\"y\"}},\"id\":\"12317\",\"type\":\"Line\"},{\"attributes\":{\"items\":[{\"id\":\"12327\",\"type\":\"LegendItem\"}],\"location\":\"bottom_left\"},\"id\":\"12326\",\"type\":\"Legend\"},{\"attributes\":{\"axis_label\":\"Years\",\"formatter\":{\"id\":\"12322\",\"type\":\"BasicTickFormatter\"},\"ticker\":{\"id\":\"12293\",\"type\":\"BasicTicker\"}},\"id\":\"12292\",\"type\":\"LinearAxis\"},{\"attributes\":{\"fill_color\":{\"value\":\"#FA1857\"},\"line_color\":{\"value\":\"#FA1857\"},\"line_width\":{\"value\":3},\"x\":{\"field\":\"x\"},\"y\":{\"field\":\"y\"}},\"id\":\"12329\",\"type\":\"Circle\"},{\"attributes\":{},\"id\":\"12302\",\"type\":\"PanTool\"},{\"attributes\":{\"data_source\":{\"id\":\"12328\",\"type\":\"ColumnDataSource\"},\"glyph\":{\"id\":\"12329\",\"type\":\"Circle\"},\"hover_glyph\":null,\"muted_glyph\":null,\"nonselection_glyph\":{\"id\":\"12330\",\"type\":\"Circle\"},\"selection_glyph\":null,\"view\":{\"id\":\"12332\",\"type\":\"CDSView\"}},\"id\":\"12331\",\"type\":\"GlyphRenderer\"},{\"attributes\":{\"source\":{\"id\":\"12328\",\"type\":\"ColumnDataSource\"}},\"id\":\"12332\",\"type\":\"CDSView\"},{\"attributes\":{},\"id\":\"12303\",\"type\":\"WheelZoomTool\"},{\"attributes\":{},\"id\":\"12307\",\"type\":\"HelpTool\"},{\"attributes\":{\"active_drag\":\"auto\",\"active_inspect\":\"auto\",\"active_multi\":null,\"active_scroll\":\"auto\",\"active_tap\":\"auto\",\"tools\":[{\"id\":\"12302\",\"type\":\"PanTool\"},{\"id\":\"12303\",\"type\":\"WheelZoomTool\"},{\"id\":\"12304\",\"type\":\"BoxZoomTool\"},{\"id\":\"12305\",\"type\":\"SaveTool\"},{\"id\":\"12306\",\"type\":\"ResetTool\"},{\"id\":\"12307\",\"type\":\"HelpTool\"},{\"id\":\"12333\",\"type\":\"HoverTool\"}]},\"id\":\"12308\",\"type\":\"Toolbar\"},{\"attributes\":{},\"id\":\"12324\",\"type\":\"BasicTickFormatter\"},{\"attributes\":{},\"id\":\"12293\",\"type\":\"BasicTicker\"},{\"attributes\":{\"callback\":null,\"data\":{\"x\":[\"1960\",\"1961\",\"1962\",\"1963\",\"1964\",\"1965\",\"1966\",\"1967\",\"1968\",\"1969\",\"1970\",\"1971\",\"1972\",\"1973\",\"1974\",\"1975\",\"1976\",\"1977\",\"1978\",\"1979\",\"1980\",\"1981\",\"1982\",\"1983\",\"1984\",\"1985\",\"1986\",\"1987\",\"1988\",\"1989\",\"1990\",\"1991\",\"1992\",\"1993\",\"1994\",\"1995\",\"1996\",\"1997\",\"1998\",\"1999\",\"2000\",\"2001\",\"2002\",\"2003\",\"2004\",\"2005\",\"2006\",\"2007\",\"2008\",\"2009\",\"2010\",\"2011\",\"2012\",\"2013\",\"2014\",\"2015\",\"2016\",\"2017\"],\"y\":[23317292.0,24465608.0,25715484.0,27056026.0,28495614.0,30031066.0,31667488.0,33475608.0,35399148.0,37438167.0,39538583.0,41813984.0,44241565.0,46769493.0,49418771.0,50279277.0,53224569.0,56380077.0,59741635.0,63173090.0,67018359.0,70759809.0,74015049.0,77517852.0,81340591.0,85438619.0,89730611.0,94224950.0,98950365.0,103779087.0,108895345.0,114110906.0,119435249.0,124882817.0,130206642.0,135562776.0,141015012.0,146637320.0,152365029.0,158280891.0,164462270.0,171248545.0,178496124.0,186087168.0,193896898.0,201991152.0,210219133.0,218294690.0,227312839.0,236706129.0,246511210.0,256742767.0,266067392.0,276930811.0,288207667.0,299896804.0,312008544.0,324553851.0]},\"selected\":{\"id\":\"12787\",\"type\":\"Selection\"},\"selection_policy\":{\"id\":\"12786\",\"type\":\"UnionRenderers\"}},\"id\":\"12315\",\"type\":\"ColumnDataSource\"},{\"attributes\":{\"grid_line_color\":null,\"ticker\":{\"id\":\"12293\",\"type\":\"BasicTicker\"}},\"id\":\"12296\",\"type\":\"Grid\"},{\"attributes\":{\"callback\":null},\"id\":\"12284\",\"type\":\"DataRange1d\"},{\"attributes\":{\"line_color\":\"#FA1857\",\"x\":{\"field\":\"x\"},\"y\":{\"field\":\"y\"}},\"id\":\"12316\",\"type\":\"Line\"},{\"attributes\":{\"callback\":null,\"data\":{\"x\":[\"1960\",\"1961\",\"1962\",\"1963\",\"1964\",\"1965\",\"1966\",\"1967\",\"1968\",\"1969\",\"1970\",\"1971\",\"1972\",\"1973\",\"1974\",\"1975\",\"1976\",\"1977\",\"1978\",\"1979\",\"1980\",\"1981\",\"1982\",\"1983\",\"1984\",\"1985\",\"1986\",\"1987\",\"1988\",\"1989\",\"1990\",\"1991\",\"1992\",\"1993\",\"1994\",\"1995\",\"1996\",\"1997\",\"1998\",\"1999\",\"2000\",\"2001\",\"2002\",\"2003\",\"2004\",\"2005\",\"2006\",\"2007\",\"2008\",\"2009\",\"2010\",\"2011\",\"2012\",\"2013\",\"2014\",\"2015\",\"2016\",\"2017\"],\"y\":[23317292.0,24465608.0,25715484.0,27056026.0,28495614.0,30031066.0,31667488.0,33475608.0,35399148.0,37438167.0,39538583.0,41813984.0,44241565.0,46769493.0,49418771.0,50279277.0,53224569.0,56380077.0,59741635.0,63173090.0,67018359.0,70759809.0,74015049.0,77517852.0,81340591.0,85438619.0,89730611.0,94224950.0,98950365.0,103779087.0,108895345.0,114110906.0,119435249.0,124882817.0,130206642.0,135562776.0,141015012.0,146637320.0,152365029.0,158280891.0,164462270.0,171248545.0,178496124.0,186087168.0,193896898.0,201991152.0,210219133.0,218294690.0,227312839.0,236706129.0,246511210.0,256742767.0,266067392.0,276930811.0,288207667.0,299896804.0,312008544.0,324553851.0]},\"selected\":{\"id\":\"12789\",\"type\":\"Selection\"},\"selection_policy\":{\"id\":\"12788\",\"type\":\"UnionRenderers\"}},\"id\":\"12328\",\"type\":\"ColumnDataSource\"},{\"attributes\":{},\"id\":\"12288\",\"type\":\"LinearScale\"},{\"attributes\":{\"data_source\":{\"id\":\"12315\",\"type\":\"ColumnDataSource\"},\"glyph\":{\"id\":\"12316\",\"type\":\"Line\"},\"hover_glyph\":null,\"muted_glyph\":null,\"nonselection_glyph\":{\"id\":\"12317\",\"type\":\"Line\"},\"selection_glyph\":null,\"view\":{\"id\":\"12319\",\"type\":\"CDSView\"}},\"id\":\"12318\",\"type\":\"GlyphRenderer\"},{\"attributes\":{\"text\":\"Urban population\"},\"id\":\"12282\",\"type\":\"Title\"}],\"root_ids\":[\"12281\"]},\"title\":\"Bokeh Application\",\"version\":\"1.3.4\"}};\n",
       "  var render_items = [{\"docid\":\"52ef8582-0554-4de1-90d3-51a2a82268a2\",\"roots\":{\"12281\":\"d68e7acb-864c-437e-9695-690e4b2d622c\"}}];\n",
       "  root.Bokeh.embed.embed_items_notebook(docs_json, render_items);\n",
       "\n",
       "  }\n",
       "  if (root.Bokeh !== undefined) {\n",
       "    embed_document(root);\n",
       "  } else {\n",
       "    var attempts = 0;\n",
       "    var timer = setInterval(function(root) {\n",
       "      if (root.Bokeh !== undefined) {\n",
       "        embed_document(root);\n",
       "        clearInterval(timer);\n",
       "      }\n",
       "      attempts++;\n",
       "      if (attempts > 100) {\n",
       "        console.log(\"Bokeh: ERROR: Unable to run BokehJS code because BokehJS library is missing\");\n",
       "        clearInterval(timer);\n",
       "      }\n",
       "    }, 10, root)\n",
       "  }\n",
       "})(window);"
      ],
      "application/vnd.bokehjs_exec.v0+json": ""
     },
     "metadata": {
      "application/vnd.bokehjs_exec.v0+json": {
       "id": "12281"
      }
     },
     "output_type": "display_data"
    }
   ],
   "source": [
    "result = show_group_total(years, 'SP.URB.TOTL', ['LDCs'])"
   ]
  },
  {
   "cell_type": "code",
   "execution_count": 33,
   "metadata": {
    "ExecuteTime": {
     "end_time": "2019-10-25T14:35:30.281624Z",
     "start_time": "2019-10-25T14:35:22.402094Z"
    },
    "slideshow": {
     "slide_type": "slide"
    }
   },
   "outputs": [
    {
     "data": {
      "text/html": [
       "\n",
       "\n",
       "\n",
       "\n",
       "\n",
       "\n",
       "  <div class=\"bk-root\" id=\"0ab20475-a9d2-4d3c-ae5f-5c63c57f0d29\" data-root-id=\"12850\"></div>\n"
      ]
     },
     "metadata": {},
     "output_type": "display_data"
    },
    {
     "data": {
      "application/javascript": [
       "(function(root) {\n",
       "  function embed_document(root) {\n",
       "    \n",
       "  var docs_json = {\"26ac7444-a614-4eb5-9f92-38729178c6a1\":{\"roots\":{\"references\":[{\"attributes\":{\"below\":[{\"id\":\"12861\",\"type\":\"LinearAxis\"}],\"center\":[{\"id\":\"12865\",\"type\":\"Grid\"},{\"id\":\"12870\",\"type\":\"Grid\"},{\"id\":\"12895\",\"type\":\"Legend\"}],\"left\":[{\"id\":\"12866\",\"type\":\"LinearAxis\"}],\"plot_height\":400,\"plot_width\":800,\"renderers\":[{\"id\":\"12887\",\"type\":\"GlyphRenderer\"},{\"id\":\"12900\",\"type\":\"GlyphRenderer\"},{\"id\":\"12905\",\"type\":\"GlyphRenderer\"},{\"id\":\"12921\",\"type\":\"GlyphRenderer\"},{\"id\":\"12926\",\"type\":\"GlyphRenderer\"},{\"id\":\"12946\",\"type\":\"GlyphRenderer\"}],\"title\":{\"id\":\"12851\",\"type\":\"Title\"},\"toolbar\":{\"id\":\"12877\",\"type\":\"Toolbar\"},\"x_range\":{\"id\":\"12853\",\"type\":\"DataRange1d\"},\"x_scale\":{\"id\":\"12857\",\"type\":\"LinearScale\"},\"y_range\":{\"id\":\"12855\",\"type\":\"DataRange1d\"},\"y_scale\":{\"id\":\"12859\",\"type\":\"LinearScale\"}},\"id\":\"12850\",\"subtype\":\"Figure\",\"type\":\"Plot\"},{\"attributes\":{},\"id\":\"12938\",\"type\":\"UnionRenderers\"},{\"attributes\":{\"grid_line_color\":null,\"ticker\":{\"id\":\"12862\",\"type\":\"BasicTicker\"}},\"id\":\"12865\",\"type\":\"Grid\"},{\"attributes\":{\"callback\":null,\"data\":{\"x\":[\"2000\",\"2001\",\"2002\",\"2003\",\"2004\",\"2005\",\"2006\",\"2007\",\"2008\",\"2009\",\"2010\",\"2011\",\"2012\",\"2013\",\"2014\",\"2015\",\"2016\",\"2017\"],\"y\":[0.9948809271821193,1.1720404938170361,1.2487792655994334,1.2098437389978234,1.1858418971351812,1.1566812882637159,1.1461235724859402,1.1299299497492925,1.1478412678703078,1.0667506897450498,1.004952660145055,0.7748422786938176,0.8497708748839219,0.8674781666983666,0.8896129313491413,0.882013187119933,0.8885753632137473,0.8267985143506588]},\"selected\":{\"id\":\"13420\",\"type\":\"Selection\"},\"selection_policy\":{\"id\":\"13419\",\"type\":\"UnionRenderers\"}},\"id\":\"12923\",\"type\":\"ColumnDataSource\"},{\"attributes\":{\"fill_alpha\":{\"value\":0.1},\"fill_color\":{\"value\":\"#1f77b4\"},\"line_alpha\":{\"value\":0.1},\"line_color\":{\"value\":\"#1f77b4\"},\"line_width\":{\"value\":3},\"x\":{\"field\":\"x\"},\"y\":{\"field\":\"y\"}},\"id\":\"12899\",\"type\":\"Circle\"},{\"attributes\":{\"axis_label\":\"Years\",\"formatter\":{\"id\":\"12891\",\"type\":\"BasicTickFormatter\"},\"ticker\":{\"id\":\"12862\",\"type\":\"BasicTicker\"}},\"id\":\"12861\",\"type\":\"LinearAxis\"},{\"attributes\":{\"line_color\":\"#2CC775\",\"x\":{\"field\":\"x\"},\"y\":{\"field\":\"y\"}},\"id\":\"12924\",\"type\":\"Line\"},{\"attributes\":{\"data_source\":{\"id\":\"12897\",\"type\":\"ColumnDataSource\"},\"glyph\":{\"id\":\"12898\",\"type\":\"Circle\"},\"hover_glyph\":null,\"muted_glyph\":null,\"nonselection_glyph\":{\"id\":\"12899\",\"type\":\"Circle\"},\"selection_glyph\":null,\"view\":{\"id\":\"12901\",\"type\":\"CDSView\"}},\"id\":\"12900\",\"type\":\"GlyphRenderer\"},{\"attributes\":{},\"id\":\"12891\",\"type\":\"BasicTickFormatter\"},{\"attributes\":{\"line_alpha\":0.1,\"line_color\":\"#1f77b4\",\"x\":{\"field\":\"x\"},\"y\":{\"field\":\"y\"}},\"id\":\"12925\",\"type\":\"Line\"},{\"attributes\":{\"source\":{\"id\":\"12897\",\"type\":\"ColumnDataSource\"}},\"id\":\"12901\",\"type\":\"CDSView\"},{\"attributes\":{\"axis_label\":\"SP.URB.GROW\",\"formatter\":{\"id\":\"12893\",\"type\":\"BasicTickFormatter\"},\"ticker\":{\"id\":\"12867\",\"type\":\"BasicTicker\"}},\"id\":\"12866\",\"type\":\"LinearAxis\"},{\"attributes\":{\"data_source\":{\"id\":\"12923\",\"type\":\"ColumnDataSource\"},\"glyph\":{\"id\":\"12924\",\"type\":\"Line\"},\"hover_glyph\":null,\"muted_glyph\":null,\"nonselection_glyph\":{\"id\":\"12925\",\"type\":\"Line\"},\"selection_glyph\":null,\"view\":{\"id\":\"12927\",\"type\":\"CDSView\"}},\"id\":\"12926\",\"type\":\"GlyphRenderer\"},{\"attributes\":{\"callback\":null,\"data\":{\"x\":[\"2000\",\"2001\",\"2002\",\"2003\",\"2004\",\"2005\",\"2006\",\"2007\",\"2008\",\"2009\",\"2010\",\"2011\",\"2012\",\"2013\",\"2014\",\"2015\",\"2016\",\"2017\"],\"y\":[2.871713123812663,2.9511432100791484,3.0136932118765114,2.953868405139294,2.924116416288403,2.9006768448998628,2.8385887182475527,2.787551595330817,2.7628871731196654,2.72341580335172,2.6789486862183955,2.590195657094341,2.529948100519968,2.4961358861963343,2.465255348584935,2.4236075249092615,2.394780581402036,2.3538548161434734]},\"selected\":{\"id\":\"12939\",\"type\":\"Selection\"},\"selection_policy\":{\"id\":\"12938\",\"type\":\"UnionRenderers\"}},\"id\":\"12902\",\"type\":\"ColumnDataSource\"},{\"attributes\":{},\"id\":\"12867\",\"type\":\"BasicTicker\"},{\"attributes\":{},\"id\":\"12939\",\"type\":\"Selection\"},{\"attributes\":{},\"id\":\"12941\",\"type\":\"Selection\"},{\"attributes\":{\"source\":{\"id\":\"12923\",\"type\":\"ColumnDataSource\"}},\"id\":\"12927\",\"type\":\"CDSView\"},{\"attributes\":{\"line_color\":\"#5430F1\",\"x\":{\"field\":\"x\"},\"y\":{\"field\":\"y\"}},\"id\":\"12903\",\"type\":\"Line\"},{\"attributes\":{\"dimension\":1,\"grid_line_alpha\":0.5,\"ticker\":{\"id\":\"12867\",\"type\":\"BasicTicker\"}},\"id\":\"12870\",\"type\":\"Grid\"},{\"attributes\":{},\"id\":\"12940\",\"type\":\"UnionRenderers\"},{\"attributes\":{\"line_alpha\":0.1,\"line_color\":\"#1f77b4\",\"x\":{\"field\":\"x\"},\"y\":{\"field\":\"y\"}},\"id\":\"12904\",\"type\":\"Line\"},{\"attributes\":{\"label\":{\"value\":\"OECD\"},\"renderers\":[{\"id\":\"12926\",\"type\":\"GlyphRenderer\"}]},\"id\":\"12942\",\"type\":\"LegendItem\"},{\"attributes\":{\"source\":{\"id\":\"12918\",\"type\":\"ColumnDataSource\"}},\"id\":\"12922\",\"type\":\"CDSView\"},{\"attributes\":{\"callback\":null,\"tooltips\":\"                \\n        <div style=padding=5px>Year:@x</div>\\n        <div style=padding=5px>Value:@y</div>        \\n        \"},\"id\":\"12948\",\"type\":\"HoverTool\"},{\"attributes\":{},\"id\":\"12893\",\"type\":\"BasicTickFormatter\"},{\"attributes\":{\"data_source\":{\"id\":\"12902\",\"type\":\"ColumnDataSource\"},\"glyph\":{\"id\":\"12903\",\"type\":\"Line\"},\"hover_glyph\":null,\"muted_glyph\":null,\"nonselection_glyph\":{\"id\":\"12904\",\"type\":\"Line\"},\"selection_glyph\":null,\"view\":{\"id\":\"12906\",\"type\":\"CDSView\"}},\"id\":\"12905\",\"type\":\"GlyphRenderer\"},{\"attributes\":{\"callback\":null,\"data\":{\"x\":[\"2000\",\"2001\",\"2002\",\"2003\",\"2004\",\"2005\",\"2006\",\"2007\",\"2008\",\"2009\",\"2010\",\"2011\",\"2012\",\"2013\",\"2014\",\"2015\",\"2016\",\"2017\"],\"y\":[3.781552399759757,3.9942501736128904,4.0980366224839635,4.1200279616396,4.067771523272396,4.0462628038554005,3.9491110534001477,3.7343089278830024,4.00474292401507,4.006365015359042,4.017012003822316,4.026193802500771,3.976323997042947,3.9618560270813443,3.9501422897690834,3.931939995499514,3.9127531302754495,3.8933983484972026]},\"selected\":{\"id\":\"12914\",\"type\":\"Selection\"},\"selection_policy\":{\"id\":\"12913\",\"type\":\"UnionRenderers\"}},\"id\":\"12884\",\"type\":\"ColumnDataSource\"},{\"attributes\":{\"fill_color\":{\"value\":\"#2CC775\"},\"line_color\":{\"value\":\"#2CC775\"},\"line_width\":{\"value\":3},\"x\":{\"field\":\"x\"},\"y\":{\"field\":\"y\"}},\"id\":\"12944\",\"type\":\"Circle\"},{\"attributes\":{},\"id\":\"12871\",\"type\":\"PanTool\"},{\"attributes\":{\"source\":{\"id\":\"12902\",\"type\":\"ColumnDataSource\"}},\"id\":\"12906\",\"type\":\"CDSView\"},{\"attributes\":{},\"id\":\"12872\",\"type\":\"WheelZoomTool\"},{\"attributes\":{\"bottom_units\":\"screen\",\"fill_alpha\":{\"value\":0.5},\"fill_color\":{\"value\":\"lightgrey\"},\"left_units\":\"screen\",\"level\":\"overlay\",\"line_alpha\":{\"value\":1.0},\"line_color\":{\"value\":\"black\"},\"line_dash\":[4,4],\"line_width\":{\"value\":2},\"render_mode\":\"css\",\"right_units\":\"screen\",\"top_units\":\"screen\"},\"id\":\"12894\",\"type\":\"BoxAnnotation\"},{\"attributes\":{},\"id\":\"12913\",\"type\":\"UnionRenderers\"},{\"attributes\":{\"fill_alpha\":{\"value\":0.1},\"fill_color\":{\"value\":\"#1f77b4\"},\"line_alpha\":{\"value\":0.1},\"line_color\":{\"value\":\"#1f77b4\"},\"line_width\":{\"value\":3},\"x\":{\"field\":\"x\"},\"y\":{\"field\":\"y\"}},\"id\":\"12945\",\"type\":\"Circle\"},{\"attributes\":{\"overlay\":{\"id\":\"12894\",\"type\":\"BoxAnnotation\"}},\"id\":\"12873\",\"type\":\"BoxZoomTool\"},{\"attributes\":{\"line_color\":\"#FA1857\",\"x\":{\"field\":\"x\"},\"y\":{\"field\":\"y\"}},\"id\":\"12885\",\"type\":\"Line\"},{\"attributes\":{\"callback\":null,\"data\":{\"x\":[\"2000\",\"2001\",\"2002\",\"2003\",\"2004\",\"2005\",\"2006\",\"2007\",\"2008\",\"2009\",\"2010\",\"2011\",\"2012\",\"2013\",\"2014\",\"2015\",\"2016\",\"2017\"],\"y\":[0.9948809271821193,1.1720404938170361,1.2487792655994334,1.2098437389978234,1.1858418971351812,1.1566812882637159,1.1461235724859402,1.1299299497492925,1.1478412678703078,1.0667506897450498,1.004952660145055,0.7748422786938176,0.8497708748839219,0.8674781666983666,0.8896129313491413,0.882013187119933,0.8885753632137473,0.8267985143506588]},\"selected\":{\"id\":\"13422\",\"type\":\"Selection\"},\"selection_policy\":{\"id\":\"13421\",\"type\":\"UnionRenderers\"}},\"id\":\"12943\",\"type\":\"ColumnDataSource\"},{\"attributes\":{},\"id\":\"12914\",\"type\":\"Selection\"},{\"attributes\":{\"source\":{\"id\":\"12943\",\"type\":\"ColumnDataSource\"}},\"id\":\"12947\",\"type\":\"CDSView\"},{\"attributes\":{\"items\":[{\"id\":\"12896\",\"type\":\"LegendItem\"},{\"id\":\"12917\",\"type\":\"LegendItem\"},{\"id\":\"12942\",\"type\":\"LegendItem\"}],\"location\":\"bottom_left\"},\"id\":\"12895\",\"type\":\"Legend\"},{\"attributes\":{},\"id\":\"12874\",\"type\":\"SaveTool\"},{\"attributes\":{},\"id\":\"12915\",\"type\":\"UnionRenderers\"},{\"attributes\":{\"data_source\":{\"id\":\"12943\",\"type\":\"ColumnDataSource\"},\"glyph\":{\"id\":\"12944\",\"type\":\"Circle\"},\"hover_glyph\":null,\"muted_glyph\":null,\"nonselection_glyph\":{\"id\":\"12945\",\"type\":\"Circle\"},\"selection_glyph\":null,\"view\":{\"id\":\"12947\",\"type\":\"CDSView\"}},\"id\":\"12946\",\"type\":\"GlyphRenderer\"},{\"attributes\":{},\"id\":\"12875\",\"type\":\"ResetTool\"},{\"attributes\":{\"text\":\"Urban population growth (annual %) weighted against Urban population\"},\"id\":\"12851\",\"type\":\"Title\"},{\"attributes\":{},\"id\":\"12916\",\"type\":\"Selection\"},{\"attributes\":{},\"id\":\"13422\",\"type\":\"Selection\"},{\"attributes\":{},\"id\":\"12876\",\"type\":\"HelpTool\"},{\"attributes\":{\"label\":{\"value\":\"LDCs\"},\"renderers\":[{\"id\":\"12887\",\"type\":\"GlyphRenderer\"}]},\"id\":\"12896\",\"type\":\"LegendItem\"},{\"attributes\":{\"callback\":null},\"id\":\"12853\",\"type\":\"DataRange1d\"},{\"attributes\":{\"label\":{\"value\":\"Developing excluding LDCs\"},\"renderers\":[{\"id\":\"12905\",\"type\":\"GlyphRenderer\"}]},\"id\":\"12917\",\"type\":\"LegendItem\"},{\"attributes\":{\"active_drag\":\"auto\",\"active_inspect\":\"auto\",\"active_multi\":null,\"active_scroll\":\"auto\",\"active_tap\":\"auto\",\"tools\":[{\"id\":\"12871\",\"type\":\"PanTool\"},{\"id\":\"12872\",\"type\":\"WheelZoomTool\"},{\"id\":\"12873\",\"type\":\"BoxZoomTool\"},{\"id\":\"12874\",\"type\":\"SaveTool\"},{\"id\":\"12875\",\"type\":\"ResetTool\"},{\"id\":\"12876\",\"type\":\"HelpTool\"},{\"id\":\"12948\",\"type\":\"HoverTool\"}]},\"id\":\"12877\",\"type\":\"Toolbar\"},{\"attributes\":{\"callback\":null},\"id\":\"12855\",\"type\":\"DataRange1d\"},{\"attributes\":{\"callback\":null,\"data\":{\"x\":[\"2000\",\"2001\",\"2002\",\"2003\",\"2004\",\"2005\",\"2006\",\"2007\",\"2008\",\"2009\",\"2010\",\"2011\",\"2012\",\"2013\",\"2014\",\"2015\",\"2016\",\"2017\"],\"y\":[2.871713123812663,2.9511432100791484,3.0136932118765114,2.953868405139294,2.924116416288403,2.9006768448998628,2.8385887182475527,2.787551595330817,2.7628871731196654,2.72341580335172,2.6789486862183955,2.590195657094341,2.529948100519968,2.4961358861963343,2.465255348584935,2.4236075249092615,2.394780581402036,2.3538548161434734]},\"selected\":{\"id\":\"12941\",\"type\":\"Selection\"},\"selection_policy\":{\"id\":\"12940\",\"type\":\"UnionRenderers\"}},\"id\":\"12918\",\"type\":\"ColumnDataSource\"},{\"attributes\":{},\"id\":\"13419\",\"type\":\"UnionRenderers\"},{\"attributes\":{},\"id\":\"13421\",\"type\":\"UnionRenderers\"},{\"attributes\":{\"callback\":null,\"data\":{\"x\":[\"2000\",\"2001\",\"2002\",\"2003\",\"2004\",\"2005\",\"2006\",\"2007\",\"2008\",\"2009\",\"2010\",\"2011\",\"2012\",\"2013\",\"2014\",\"2015\",\"2016\",\"2017\"],\"y\":[3.781552399759757,3.9942501736128904,4.0980366224839635,4.1200279616396,4.067771523272396,4.0462628038554005,3.9491110534001477,3.7343089278830024,4.00474292401507,4.006365015359042,4.017012003822316,4.026193802500771,3.976323997042947,3.9618560270813443,3.9501422897690834,3.931939995499514,3.9127531302754495,3.8933983484972026]},\"selected\":{\"id\":\"12916\",\"type\":\"Selection\"},\"selection_policy\":{\"id\":\"12915\",\"type\":\"UnionRenderers\"}},\"id\":\"12897\",\"type\":\"ColumnDataSource\"},{\"attributes\":{},\"id\":\"12857\",\"type\":\"LinearScale\"},{\"attributes\":{\"line_alpha\":0.1,\"line_color\":\"#1f77b4\",\"x\":{\"field\":\"x\"},\"y\":{\"field\":\"y\"}},\"id\":\"12886\",\"type\":\"Line\"},{\"attributes\":{\"fill_color\":{\"value\":\"#5430F1\"},\"line_color\":{\"value\":\"#5430F1\"},\"line_width\":{\"value\":3},\"x\":{\"field\":\"x\"},\"y\":{\"field\":\"y\"}},\"id\":\"12919\",\"type\":\"Circle\"},{\"attributes\":{\"data_source\":{\"id\":\"12884\",\"type\":\"ColumnDataSource\"},\"glyph\":{\"id\":\"12885\",\"type\":\"Line\"},\"hover_glyph\":null,\"muted_glyph\":null,\"nonselection_glyph\":{\"id\":\"12886\",\"type\":\"Line\"},\"selection_glyph\":null,\"view\":{\"id\":\"12888\",\"type\":\"CDSView\"}},\"id\":\"12887\",\"type\":\"GlyphRenderer\"},{\"attributes\":{},\"id\":\"12859\",\"type\":\"LinearScale\"},{\"attributes\":{\"fill_alpha\":{\"value\":0.1},\"fill_color\":{\"value\":\"#1f77b4\"},\"line_alpha\":{\"value\":0.1},\"line_color\":{\"value\":\"#1f77b4\"},\"line_width\":{\"value\":3},\"x\":{\"field\":\"x\"},\"y\":{\"field\":\"y\"}},\"id\":\"12920\",\"type\":\"Circle\"},{\"attributes\":{},\"id\":\"13420\",\"type\":\"Selection\"},{\"attributes\":{\"fill_color\":{\"value\":\"#FA1857\"},\"line_color\":{\"value\":\"#FA1857\"},\"line_width\":{\"value\":3},\"x\":{\"field\":\"x\"},\"y\":{\"field\":\"y\"}},\"id\":\"12898\",\"type\":\"Circle\"},{\"attributes\":{\"data_source\":{\"id\":\"12918\",\"type\":\"ColumnDataSource\"},\"glyph\":{\"id\":\"12919\",\"type\":\"Circle\"},\"hover_glyph\":null,\"muted_glyph\":null,\"nonselection_glyph\":{\"id\":\"12920\",\"type\":\"Circle\"},\"selection_glyph\":null,\"view\":{\"id\":\"12922\",\"type\":\"CDSView\"}},\"id\":\"12921\",\"type\":\"GlyphRenderer\"},{\"attributes\":{\"source\":{\"id\":\"12884\",\"type\":\"ColumnDataSource\"}},\"id\":\"12888\",\"type\":\"CDSView\"},{\"attributes\":{},\"id\":\"12862\",\"type\":\"BasicTicker\"}],\"root_ids\":[\"12850\"]},\"title\":\"Bokeh Application\",\"version\":\"1.3.4\"}};\n",
       "  var render_items = [{\"docid\":\"26ac7444-a614-4eb5-9f92-38729178c6a1\",\"roots\":{\"12850\":\"0ab20475-a9d2-4d3c-ae5f-5c63c57f0d29\"}}];\n",
       "  root.Bokeh.embed.embed_items_notebook(docs_json, render_items);\n",
       "\n",
       "  }\n",
       "  if (root.Bokeh !== undefined) {\n",
       "    embed_document(root);\n",
       "  } else {\n",
       "    var attempts = 0;\n",
       "    var timer = setInterval(function(root) {\n",
       "      if (root.Bokeh !== undefined) {\n",
       "        embed_document(root);\n",
       "        clearInterval(timer);\n",
       "      }\n",
       "      attempts++;\n",
       "      if (attempts > 100) {\n",
       "        console.log(\"Bokeh: ERROR: Unable to run BokehJS code because BokehJS library is missing\");\n",
       "        clearInterval(timer);\n",
       "      }\n",
       "    }, 10, root)\n",
       "  }\n",
       "})(window);"
      ],
      "application/vnd.bokehjs_exec.v0+json": ""
     },
     "metadata": {
      "application/vnd.bokehjs_exec.v0+json": {
       "id": "12850"
      }
     },
     "output_type": "display_data"
    }
   ],
   "source": [
    "# Growth of urban population\n",
    "years = list(map(str, list(range(2000,2018))))\n",
    "result = show_weighted_average(years, 'SP.URB.GROW', 'SP.URB.TOTL', \n",
    "                               ['LDCs', 'Developing excluding LDCs', 'OECD']) "
   ]
  },
  {
   "cell_type": "markdown",
   "metadata": {
    "slideshow": {
     "slide_type": "slide"
    }
   },
   "source": [
    "# Water and sanitation"
   ]
  },
  {
   "cell_type": "code",
   "execution_count": 34,
   "metadata": {
    "ExecuteTime": {
     "end_time": "2019-10-25T14:25:57.739495Z",
     "start_time": "2019-10-25T14:25:51.769121Z"
    },
    "slideshow": {
     "slide_type": "slide"
    }
   },
   "outputs": [
    {
     "data": {
      "text/html": [
       "\n",
       "\n",
       "\n",
       "\n",
       "\n",
       "\n",
       "  <div class=\"bk-root\" id=\"1a167f9a-1db7-4c3c-9a57-ebaed52a1be7\" data-root-id=\"13531\"></div>\n"
      ]
     },
     "metadata": {},
     "output_type": "display_data"
    },
    {
     "data": {
      "application/javascript": [
       "(function(root) {\n",
       "  function embed_document(root) {\n",
       "    \n",
       "  var docs_json = {\"21caffd8-9ce1-4d1c-bc77-e32652ffd6d0\":{\"roots\":{\"references\":[{\"attributes\":{\"below\":[{\"id\":\"13542\",\"type\":\"LinearAxis\"}],\"center\":[{\"id\":\"13546\",\"type\":\"Grid\"},{\"id\":\"13551\",\"type\":\"Grid\"},{\"id\":\"13576\",\"type\":\"Legend\"}],\"left\":[{\"id\":\"13547\",\"type\":\"LinearAxis\"}],\"plot_height\":400,\"plot_width\":800,\"renderers\":[{\"id\":\"13568\",\"type\":\"GlyphRenderer\"},{\"id\":\"13581\",\"type\":\"GlyphRenderer\"},{\"id\":\"13586\",\"type\":\"GlyphRenderer\"},{\"id\":\"13602\",\"type\":\"GlyphRenderer\"},{\"id\":\"13607\",\"type\":\"GlyphRenderer\"},{\"id\":\"13627\",\"type\":\"GlyphRenderer\"}],\"title\":{\"id\":\"13532\",\"type\":\"Title\"},\"toolbar\":{\"id\":\"13558\",\"type\":\"Toolbar\"},\"x_range\":{\"id\":\"13534\",\"type\":\"DataRange1d\"},\"x_scale\":{\"id\":\"13538\",\"type\":\"LinearScale\"},\"y_range\":{\"id\":\"13536\",\"type\":\"DataRange1d\"},\"y_scale\":{\"id\":\"13540\",\"type\":\"LinearScale\"}},\"id\":\"13531\",\"subtype\":\"Figure\",\"type\":\"Plot\"},{\"attributes\":{},\"id\":\"13574\",\"type\":\"BasicTickFormatter\"},{\"attributes\":{\"line_color\":\"#2CC775\",\"x\":{\"field\":\"x\"},\"y\":{\"field\":\"y\"}},\"id\":\"13605\",\"type\":\"Line\"},{\"attributes\":{},\"id\":\"13572\",\"type\":\"BasicTickFormatter\"},{\"attributes\":{\"label\":{\"value\":\"Developing excluding LDCs\"},\"renderers\":[{\"id\":\"13586\",\"type\":\"GlyphRenderer\"}]},\"id\":\"13598\",\"type\":\"LegendItem\"},{\"attributes\":{\"axis_label\":\"SH.STA.SMSS.ZS\",\"formatter\":{\"id\":\"13574\",\"type\":\"BasicTickFormatter\"},\"ticker\":{\"id\":\"13548\",\"type\":\"BasicTicker\"}},\"id\":\"13547\",\"type\":\"LinearAxis\"},{\"attributes\":{\"callback\":null,\"tooltips\":\"                \\n        <div style=padding=5px>Year:@x</div>\\n        <div style=padding=5px>Value:@y</div>        \\n        \"},\"id\":\"13629\",\"type\":\"HoverTool\"},{\"attributes\":{},\"id\":\"13596\",\"type\":\"UnionRenderers\"},{\"attributes\":{\"axis_label\":\"Years\",\"formatter\":{\"id\":\"13572\",\"type\":\"BasicTickFormatter\"},\"ticker\":{\"id\":\"13543\",\"type\":\"BasicTicker\"}},\"id\":\"13542\",\"type\":\"LinearAxis\"},{\"attributes\":{},\"id\":\"14121\",\"type\":\"Selection\"},{\"attributes\":{},\"id\":\"13552\",\"type\":\"PanTool\"},{\"attributes\":{\"text\":\"People using safely managed sanitation services (% of population) weighted against Population, total\"},\"id\":\"13532\",\"type\":\"Title\"},{\"attributes\":{\"callback\":null,\"data\":{\"x\":[\"2000\",\"2001\",\"2002\",\"2003\",\"2004\",\"2005\",\"2006\",\"2007\",\"2008\",\"2009\",\"2010\",\"2011\",\"2012\",\"2013\",\"2014\",\"2015\",\"2016\",\"2017\"],\"y\":[80.04575550274292,80.13536831650443,80.2749830491825,80.58814768410595,80.98591935582309,81.41241391811296,82.53376279435736,82.94328127236986,83.35812838971606,83.77383345525976,84.19453320444809,84.60616451316776,85.02010336426527,85.44818985737146,85.89167410057688,86.28661161448157,86.61428373311065,86.89175663743303]},\"selected\":{\"id\":\"14119\",\"type\":\"Selection\"},\"selection_policy\":{\"id\":\"14118\",\"type\":\"UnionRenderers\"}},\"id\":\"13604\",\"type\":\"ColumnDataSource\"},{\"attributes\":{},\"id\":\"13597\",\"type\":\"Selection\"},{\"attributes\":{},\"id\":\"14120\",\"type\":\"UnionRenderers\"},{\"attributes\":{},\"id\":\"13548\",\"type\":\"BasicTicker\"},{\"attributes\":{},\"id\":\"13540\",\"type\":\"LinearScale\"},{\"attributes\":{\"line_alpha\":0.1,\"line_color\":\"#1f77b4\",\"x\":{\"field\":\"x\"},\"y\":{\"field\":\"y\"}},\"id\":\"13585\",\"type\":\"Line\"},{\"attributes\":{},\"id\":\"13620\",\"type\":\"Selection\"},{\"attributes\":{\"dimension\":1,\"grid_line_alpha\":0.5,\"ticker\":{\"id\":\"13548\",\"type\":\"BasicTicker\"}},\"id\":\"13551\",\"type\":\"Grid\"},{\"attributes\":{\"data_source\":{\"id\":\"13565\",\"type\":\"ColumnDataSource\"},\"glyph\":{\"id\":\"13566\",\"type\":\"Line\"},\"hover_glyph\":null,\"muted_glyph\":null,\"nonselection_glyph\":{\"id\":\"13567\",\"type\":\"Line\"},\"selection_glyph\":null,\"view\":{\"id\":\"13569\",\"type\":\"CDSView\"}},\"id\":\"13568\",\"type\":\"GlyphRenderer\"},{\"attributes\":{\"callback\":null},\"id\":\"13534\",\"type\":\"DataRange1d\"},{\"attributes\":{\"source\":{\"id\":\"13599\",\"type\":\"ColumnDataSource\"}},\"id\":\"13603\",\"type\":\"CDSView\"},{\"attributes\":{},\"id\":\"13595\",\"type\":\"Selection\"},{\"attributes\":{},\"id\":\"13538\",\"type\":\"LinearScale\"},{\"attributes\":{\"callback\":null,\"data\":{\"x\":[\"2000\",\"2001\",\"2002\",\"2003\",\"2004\",\"2005\",\"2006\",\"2007\",\"2008\",\"2009\",\"2010\",\"2011\",\"2012\",\"2013\",\"2014\",\"2015\",\"2016\",\"2017\"],\"y\":[7.313298252489695,8.310611901533424,9.28077115926377,10.252918388064188,11.205379345323372,12.149632874228196,13.089596716542752,14.025080502459863,14.955900981807803,15.821696108471013,16.709045789768172,17.553474451435992,18.374064944696872,19.187805301854954,19.99536707307814,20.797136473512598,21.58898092737968,22.374104786870443]},\"selected\":{\"id\":\"13595\",\"type\":\"Selection\"},\"selection_policy\":{\"id\":\"13594\",\"type\":\"UnionRenderers\"}},\"id\":\"13565\",\"type\":\"ColumnDataSource\"},{\"attributes\":{\"fill_alpha\":{\"value\":0.1},\"fill_color\":{\"value\":\"#1f77b4\"},\"line_alpha\":{\"value\":0.1},\"line_color\":{\"value\":\"#1f77b4\"},\"line_width\":{\"value\":3},\"x\":{\"field\":\"x\"},\"y\":{\"field\":\"y\"}},\"id\":\"13580\",\"type\":\"Circle\"},{\"attributes\":{\"source\":{\"id\":\"13578\",\"type\":\"ColumnDataSource\"}},\"id\":\"13582\",\"type\":\"CDSView\"},{\"attributes\":{},\"id\":\"13557\",\"type\":\"HelpTool\"},{\"attributes\":{\"data_source\":{\"id\":\"13583\",\"type\":\"ColumnDataSource\"},\"glyph\":{\"id\":\"13584\",\"type\":\"Line\"},\"hover_glyph\":null,\"muted_glyph\":null,\"nonselection_glyph\":{\"id\":\"13585\",\"type\":\"Line\"},\"selection_glyph\":null,\"view\":{\"id\":\"13587\",\"type\":\"CDSView\"}},\"id\":\"13586\",\"type\":\"GlyphRenderer\"},{\"attributes\":{},\"id\":\"13553\",\"type\":\"WheelZoomTool\"},{\"attributes\":{\"active_drag\":\"auto\",\"active_inspect\":\"auto\",\"active_multi\":null,\"active_scroll\":\"auto\",\"active_tap\":\"auto\",\"tools\":[{\"id\":\"13552\",\"type\":\"PanTool\"},{\"id\":\"13553\",\"type\":\"WheelZoomTool\"},{\"id\":\"13554\",\"type\":\"BoxZoomTool\"},{\"id\":\"13555\",\"type\":\"SaveTool\"},{\"id\":\"13556\",\"type\":\"ResetTool\"},{\"id\":\"13557\",\"type\":\"HelpTool\"},{\"id\":\"13629\",\"type\":\"HoverTool\"}]},\"id\":\"13558\",\"type\":\"Toolbar\"},{\"attributes\":{\"data_source\":{\"id\":\"13599\",\"type\":\"ColumnDataSource\"},\"glyph\":{\"id\":\"13600\",\"type\":\"Circle\"},\"hover_glyph\":null,\"muted_glyph\":null,\"nonselection_glyph\":{\"id\":\"13601\",\"type\":\"Circle\"},\"selection_glyph\":null,\"view\":{\"id\":\"13603\",\"type\":\"CDSView\"}},\"id\":\"13602\",\"type\":\"GlyphRenderer\"},{\"attributes\":{\"line_alpha\":0.1,\"line_color\":\"#1f77b4\",\"x\":{\"field\":\"x\"},\"y\":{\"field\":\"y\"}},\"id\":\"13567\",\"type\":\"Line\"},{\"attributes\":{\"label\":{\"value\":\"OECD\"},\"renderers\":[{\"id\":\"13607\",\"type\":\"GlyphRenderer\"}]},\"id\":\"13623\",\"type\":\"LegendItem\"},{\"attributes\":{},\"id\":\"13556\",\"type\":\"ResetTool\"},{\"attributes\":{},\"id\":\"14118\",\"type\":\"UnionRenderers\"},{\"attributes\":{\"overlay\":{\"id\":\"13575\",\"type\":\"BoxAnnotation\"}},\"id\":\"13554\",\"type\":\"BoxZoomTool\"},{\"attributes\":{\"fill_alpha\":{\"value\":0.1},\"fill_color\":{\"value\":\"#1f77b4\"},\"line_alpha\":{\"value\":0.1},\"line_color\":{\"value\":\"#1f77b4\"},\"line_width\":{\"value\":3},\"x\":{\"field\":\"x\"},\"y\":{\"field\":\"y\"}},\"id\":\"13601\",\"type\":\"Circle\"},{\"attributes\":{\"source\":{\"id\":\"13583\",\"type\":\"ColumnDataSource\"}},\"id\":\"13587\",\"type\":\"CDSView\"},{\"attributes\":{\"callback\":null,\"data\":{\"x\":[\"2000\",\"2001\",\"2002\",\"2003\",\"2004\",\"2005\",\"2006\",\"2007\",\"2008\",\"2009\",\"2010\",\"2011\",\"2012\",\"2013\",\"2014\",\"2015\",\"2016\",\"2017\"],\"y\":[28.95024757925739,29.209016301994986,29.79844631497895,31.18696960164219,32.69297789614253,34.30733873540626,36.01016978662808,37.93187043091685,39.94500520648879,42.03012406148348,44.17895500170897,46.379028286829,48.62938786590606,50.964846617773375,53.35002880170789,55.76782165250671,58.22878123081063,60.72069424656215]},\"selected\":{\"id\":\"13622\",\"type\":\"Selection\"},\"selection_policy\":{\"id\":\"13621\",\"type\":\"UnionRenderers\"}},\"id\":\"13599\",\"type\":\"ColumnDataSource\"},{\"attributes\":{},\"id\":\"13555\",\"type\":\"SaveTool\"},{\"attributes\":{\"callback\":null,\"data\":{\"x\":[\"2000\",\"2001\",\"2002\",\"2003\",\"2004\",\"2005\",\"2006\",\"2007\",\"2008\",\"2009\",\"2010\",\"2011\",\"2012\",\"2013\",\"2014\",\"2015\",\"2016\",\"2017\"],\"y\":[28.95024757925739,29.209016301994986,29.79844631497895,31.18696960164219,32.69297789614253,34.30733873540626,36.01016978662808,37.93187043091685,39.94500520648879,42.03012406148348,44.17895500170897,46.379028286829,48.62938786590606,50.964846617773375,53.35002880170789,55.76782165250671,58.22878123081063,60.72069424656215]},\"selected\":{\"id\":\"13620\",\"type\":\"Selection\"},\"selection_policy\":{\"id\":\"13619\",\"type\":\"UnionRenderers\"}},\"id\":\"13583\",\"type\":\"ColumnDataSource\"},{\"attributes\":{},\"id\":\"13619\",\"type\":\"UnionRenderers\"},{\"attributes\":{\"fill_color\":{\"value\":\"#FA1857\"},\"line_color\":{\"value\":\"#FA1857\"},\"line_width\":{\"value\":3},\"x\":{\"field\":\"x\"},\"y\":{\"field\":\"y\"}},\"id\":\"13579\",\"type\":\"Circle\"},{\"attributes\":{\"fill_color\":{\"value\":\"#2CC775\"},\"line_color\":{\"value\":\"#2CC775\"},\"line_width\":{\"value\":3},\"x\":{\"field\":\"x\"},\"y\":{\"field\":\"y\"}},\"id\":\"13625\",\"type\":\"Circle\"},{\"attributes\":{\"line_color\":\"#5430F1\",\"x\":{\"field\":\"x\"},\"y\":{\"field\":\"y\"}},\"id\":\"13584\",\"type\":\"Line\"},{\"attributes\":{\"source\":{\"id\":\"13604\",\"type\":\"ColumnDataSource\"}},\"id\":\"13608\",\"type\":\"CDSView\"},{\"attributes\":{},\"id\":\"14119\",\"type\":\"Selection\"},{\"attributes\":{},\"id\":\"13622\",\"type\":\"Selection\"},{\"attributes\":{\"items\":[{\"id\":\"13577\",\"type\":\"LegendItem\"},{\"id\":\"13598\",\"type\":\"LegendItem\"},{\"id\":\"13623\",\"type\":\"LegendItem\"}],\"location\":\"bottom_left\"},\"id\":\"13576\",\"type\":\"Legend\"},{\"attributes\":{\"line_color\":\"#FA1857\",\"x\":{\"field\":\"x\"},\"y\":{\"field\":\"y\"}},\"id\":\"13566\",\"type\":\"Line\"},{\"attributes\":{\"data_source\":{\"id\":\"13604\",\"type\":\"ColumnDataSource\"},\"glyph\":{\"id\":\"13605\",\"type\":\"Line\"},\"hover_glyph\":null,\"muted_glyph\":null,\"nonselection_glyph\":{\"id\":\"13606\",\"type\":\"Line\"},\"selection_glyph\":null,\"view\":{\"id\":\"13608\",\"type\":\"CDSView\"}},\"id\":\"13607\",\"type\":\"GlyphRenderer\"},{\"attributes\":{\"callback\":null,\"data\":{\"x\":[\"2000\",\"2001\",\"2002\",\"2003\",\"2004\",\"2005\",\"2006\",\"2007\",\"2008\",\"2009\",\"2010\",\"2011\",\"2012\",\"2013\",\"2014\",\"2015\",\"2016\",\"2017\"],\"y\":[7.313298252489695,8.310611901533424,9.28077115926377,10.252918388064188,11.205379345323372,12.149632874228196,13.089596716542752,14.025080502459863,14.955900981807803,15.821696108471013,16.709045789768172,17.553474451435992,18.374064944696872,19.187805301854954,19.99536707307814,20.797136473512598,21.58898092737968,22.374104786870443]},\"selected\":{\"id\":\"13597\",\"type\":\"Selection\"},\"selection_policy\":{\"id\":\"13596\",\"type\":\"UnionRenderers\"}},\"id\":\"13578\",\"type\":\"ColumnDataSource\"},{\"attributes\":{\"callback\":null,\"data\":{\"x\":[\"2000\",\"2001\",\"2002\",\"2003\",\"2004\",\"2005\",\"2006\",\"2007\",\"2008\",\"2009\",\"2010\",\"2011\",\"2012\",\"2013\",\"2014\",\"2015\",\"2016\",\"2017\"],\"y\":[80.04575550274292,80.13536831650443,80.2749830491825,80.58814768410595,80.98591935582309,81.41241391811296,82.53376279435736,82.94328127236986,83.35812838971606,83.77383345525976,84.19453320444809,84.60616451316776,85.02010336426527,85.44818985737146,85.89167410057688,86.28661161448157,86.61428373311065,86.89175663743303]},\"selected\":{\"id\":\"14121\",\"type\":\"Selection\"},\"selection_policy\":{\"id\":\"14120\",\"type\":\"UnionRenderers\"}},\"id\":\"13624\",\"type\":\"ColumnDataSource\"},{\"attributes\":{\"bottom_units\":\"screen\",\"fill_alpha\":{\"value\":0.5},\"fill_color\":{\"value\":\"lightgrey\"},\"left_units\":\"screen\",\"level\":\"overlay\",\"line_alpha\":{\"value\":1.0},\"line_color\":{\"value\":\"black\"},\"line_dash\":[4,4],\"line_width\":{\"value\":2},\"render_mode\":\"css\",\"right_units\":\"screen\",\"top_units\":\"screen\"},\"id\":\"13575\",\"type\":\"BoxAnnotation\"},{\"attributes\":{\"data_source\":{\"id\":\"13578\",\"type\":\"ColumnDataSource\"},\"glyph\":{\"id\":\"13579\",\"type\":\"Circle\"},\"hover_glyph\":null,\"muted_glyph\":null,\"nonselection_glyph\":{\"id\":\"13580\",\"type\":\"Circle\"},\"selection_glyph\":null,\"view\":{\"id\":\"13582\",\"type\":\"CDSView\"}},\"id\":\"13581\",\"type\":\"GlyphRenderer\"},{\"attributes\":{},\"id\":\"13621\",\"type\":\"UnionRenderers\"},{\"attributes\":{},\"id\":\"13594\",\"type\":\"UnionRenderers\"},{\"attributes\":{\"source\":{\"id\":\"13565\",\"type\":\"ColumnDataSource\"}},\"id\":\"13569\",\"type\":\"CDSView\"},{\"attributes\":{},\"id\":\"13543\",\"type\":\"BasicTicker\"},{\"attributes\":{\"line_alpha\":0.1,\"line_color\":\"#1f77b4\",\"x\":{\"field\":\"x\"},\"y\":{\"field\":\"y\"}},\"id\":\"13606\",\"type\":\"Line\"},{\"attributes\":{\"callback\":null},\"id\":\"13536\",\"type\":\"DataRange1d\"},{\"attributes\":{\"data_source\":{\"id\":\"13624\",\"type\":\"ColumnDataSource\"},\"glyph\":{\"id\":\"13625\",\"type\":\"Circle\"},\"hover_glyph\":null,\"muted_glyph\":null,\"nonselection_glyph\":{\"id\":\"13626\",\"type\":\"Circle\"},\"selection_glyph\":null,\"view\":{\"id\":\"13628\",\"type\":\"CDSView\"}},\"id\":\"13627\",\"type\":\"GlyphRenderer\"},{\"attributes\":{\"fill_color\":{\"value\":\"#5430F1\"},\"line_color\":{\"value\":\"#5430F1\"},\"line_width\":{\"value\":3},\"x\":{\"field\":\"x\"},\"y\":{\"field\":\"y\"}},\"id\":\"13600\",\"type\":\"Circle\"},{\"attributes\":{\"label\":{\"value\":\"LDCs\"},\"renderers\":[{\"id\":\"13568\",\"type\":\"GlyphRenderer\"}]},\"id\":\"13577\",\"type\":\"LegendItem\"},{\"attributes\":{\"grid_line_color\":null,\"ticker\":{\"id\":\"13543\",\"type\":\"BasicTicker\"}},\"id\":\"13546\",\"type\":\"Grid\"},{\"attributes\":{\"source\":{\"id\":\"13624\",\"type\":\"ColumnDataSource\"}},\"id\":\"13628\",\"type\":\"CDSView\"},{\"attributes\":{\"fill_alpha\":{\"value\":0.1},\"fill_color\":{\"value\":\"#1f77b4\"},\"line_alpha\":{\"value\":0.1},\"line_color\":{\"value\":\"#1f77b4\"},\"line_width\":{\"value\":3},\"x\":{\"field\":\"x\"},\"y\":{\"field\":\"y\"}},\"id\":\"13626\",\"type\":\"Circle\"}],\"root_ids\":[\"13531\"]},\"title\":\"Bokeh Application\",\"version\":\"1.3.4\"}};\n",
       "  var render_items = [{\"docid\":\"21caffd8-9ce1-4d1c-bc77-e32652ffd6d0\",\"roots\":{\"13531\":\"1a167f9a-1db7-4c3c-9a57-ebaed52a1be7\"}}];\n",
       "  root.Bokeh.embed.embed_items_notebook(docs_json, render_items);\n",
       "\n",
       "  }\n",
       "  if (root.Bokeh !== undefined) {\n",
       "    embed_document(root);\n",
       "  } else {\n",
       "    var attempts = 0;\n",
       "    var timer = setInterval(function(root) {\n",
       "      if (root.Bokeh !== undefined) {\n",
       "        embed_document(root);\n",
       "        clearInterval(timer);\n",
       "      }\n",
       "      attempts++;\n",
       "      if (attempts > 100) {\n",
       "        console.log(\"Bokeh: ERROR: Unable to run BokehJS code because BokehJS library is missing\");\n",
       "        clearInterval(timer);\n",
       "      }\n",
       "    }, 10, root)\n",
       "  }\n",
       "})(window);"
      ],
      "application/vnd.bokehjs_exec.v0+json": ""
     },
     "metadata": {
      "application/vnd.bokehjs_exec.v0+json": {
       "id": "13531"
      }
     },
     "output_type": "display_data"
    }
   ],
   "source": [
    "# Access to safely managed sanitation services\n",
    "years = list(map(str, list(range(2000,2018))))\n",
    "result = show_weighted_average(years, 'SH.STA.SMSS.ZS', 'SP.POP.TOTL', \n",
    "                               ['LDCs', 'Developing excluding LDCs', 'OECD']) "
   ]
  },
  {
   "cell_type": "code",
   "execution_count": 35,
   "metadata": {
    "ExecuteTime": {
     "end_time": "2019-10-25T14:26:01.793967Z",
     "start_time": "2019-10-25T14:25:57.741996Z"
    },
    "slideshow": {
     "slide_type": "slide"
    }
   },
   "outputs": [
    {
     "data": {
      "text/html": [
       "\n",
       "\n",
       "\n",
       "\n",
       "\n",
       "\n",
       "  <div class=\"bk-root\" id=\"cb478ef1-5a22-489b-afbe-72b57eb559a7\" data-root-id=\"14230\"></div>\n"
      ]
     },
     "metadata": {},
     "output_type": "display_data"
    },
    {
     "data": {
      "application/javascript": [
       "(function(root) {\n",
       "  function embed_document(root) {\n",
       "    \n",
       "  var docs_json = {\"17b91889-07cb-4747-a6fa-daaa5199bf3d\":{\"roots\":{\"references\":[{\"attributes\":{\"below\":[{\"id\":\"14241\",\"type\":\"LinearAxis\"}],\"center\":[{\"id\":\"14245\",\"type\":\"Grid\"},{\"id\":\"14250\",\"type\":\"Grid\"},{\"id\":\"14275\",\"type\":\"Legend\"}],\"left\":[{\"id\":\"14246\",\"type\":\"LinearAxis\"}],\"plot_height\":400,\"plot_width\":800,\"renderers\":[{\"id\":\"14267\",\"type\":\"GlyphRenderer\"},{\"id\":\"14280\",\"type\":\"GlyphRenderer\"},{\"id\":\"14285\",\"type\":\"GlyphRenderer\"},{\"id\":\"14301\",\"type\":\"GlyphRenderer\"}],\"title\":{\"id\":\"14231\",\"type\":\"Title\"},\"toolbar\":{\"id\":\"14257\",\"type\":\"Toolbar\"},\"x_range\":{\"id\":\"14233\",\"type\":\"DataRange1d\"},\"x_scale\":{\"id\":\"14237\",\"type\":\"LinearScale\"},\"y_range\":{\"id\":\"14235\",\"type\":\"DataRange1d\"},\"y_scale\":{\"id\":\"14239\",\"type\":\"LinearScale\"}},\"id\":\"14230\",\"subtype\":\"Figure\",\"type\":\"Plot\"},{\"attributes\":{},\"id\":\"14242\",\"type\":\"BasicTicker\"},{\"attributes\":{},\"id\":\"14252\",\"type\":\"WheelZoomTool\"},{\"attributes\":{\"callback\":null,\"data\":{\"x\":[\"2000\",\"2001\",\"2002\",\"2003\",\"2004\",\"2005\",\"2006\",\"2007\",\"2008\",\"2009\",\"2010\",\"2011\",\"2012\",\"2013\",\"2014\",\"2015\",\"2016\",\"2017\"],\"y\":[80.52938553993671,80.98306916658386,81.75577271857544,82.51738528343346,83.26856527716375,84.01035061665243,84.73493683343618,85.44665790841732,86.14597909243486,86.82384120053665,87.49098552195242,88.14296769426193,88.78219085406499,89.40976403386004,90.02760049458978,90.63753858167426,91.22512295896829,91.73069352453612]},\"selected\":{\"id\":\"14807\",\"type\":\"Selection\"},\"selection_policy\":{\"id\":\"14806\",\"type\":\"UnionRenderers\"}},\"id\":\"14282\",\"type\":\"ColumnDataSource\"},{\"attributes\":{},\"id\":\"14239\",\"type\":\"LinearScale\"},{\"attributes\":{\"fill_alpha\":{\"value\":0.1},\"fill_color\":{\"value\":\"#1f77b4\"},\"line_alpha\":{\"value\":0.1},\"line_color\":{\"value\":\"#1f77b4\"},\"line_width\":{\"value\":3},\"x\":{\"field\":\"x\"},\"y\":{\"field\":\"y\"}},\"id\":\"14279\",\"type\":\"Circle\"},{\"attributes\":{},\"id\":\"14271\",\"type\":\"BasicTickFormatter\"},{\"attributes\":{\"source\":{\"id\":\"14298\",\"type\":\"ColumnDataSource\"}},\"id\":\"14302\",\"type\":\"CDSView\"},{\"attributes\":{},\"id\":\"14295\",\"type\":\"UnionRenderers\"},{\"attributes\":{\"callback\":null},\"id\":\"14235\",\"type\":\"DataRange1d\"},{\"attributes\":{\"axis_label\":\"Years\",\"formatter\":{\"id\":\"14271\",\"type\":\"BasicTickFormatter\"},\"ticker\":{\"id\":\"14242\",\"type\":\"BasicTicker\"}},\"id\":\"14241\",\"type\":\"LinearAxis\"},{\"attributes\":{\"fill_color\":{\"value\":\"#5430F1\"},\"line_color\":{\"value\":\"#5430F1\"},\"line_width\":{\"value\":3},\"x\":{\"field\":\"x\"},\"y\":{\"field\":\"y\"}},\"id\":\"14299\",\"type\":\"Circle\"},{\"attributes\":{\"callback\":null,\"tooltips\":\"                \\n        <div style=padding=5px>Year:@x</div>\\n        <div style=padding=5px>Value:@y</div>        \\n        \"},\"id\":\"14303\",\"type\":\"HoverTool\"},{\"attributes\":{\"callback\":null,\"data\":{\"x\":[\"2000\",\"2001\",\"2002\",\"2003\",\"2004\",\"2005\",\"2006\",\"2007\",\"2008\",\"2009\",\"2010\",\"2011\",\"2012\",\"2013\",\"2014\",\"2015\",\"2016\",\"2017\"],\"y\":[49.88174088230704,50.608086227470224,51.395986738735594,52.22351498455358,53.05074087389461,53.92007437124153,54.779372631776084,55.62089417800866,56.4996966988253,57.37541469551412,58.24907194342576,58.917144030541415,59.80691635243508,60.671159882373644,61.5393733519655,62.35975740919952,63.092404238757574,63.83980163897949]},\"selected\":{\"id\":\"14294\",\"type\":\"Selection\"},\"selection_policy\":{\"id\":\"14293\",\"type\":\"UnionRenderers\"}},\"id\":\"14264\",\"type\":\"ColumnDataSource\"},{\"attributes\":{\"bottom_units\":\"screen\",\"fill_alpha\":{\"value\":0.5},\"fill_color\":{\"value\":\"lightgrey\"},\"left_units\":\"screen\",\"level\":\"overlay\",\"line_alpha\":{\"value\":1.0},\"line_color\":{\"value\":\"black\"},\"line_dash\":[4,4],\"line_width\":{\"value\":2},\"render_mode\":\"css\",\"right_units\":\"screen\",\"top_units\":\"screen\"},\"id\":\"14274\",\"type\":\"BoxAnnotation\"},{\"attributes\":{},\"id\":\"14296\",\"type\":\"Selection\"},{\"attributes\":{},\"id\":\"14255\",\"type\":\"ResetTool\"},{\"attributes\":{},\"id\":\"14808\",\"type\":\"UnionRenderers\"},{\"attributes\":{},\"id\":\"14256\",\"type\":\"HelpTool\"},{\"attributes\":{},\"id\":\"14293\",\"type\":\"UnionRenderers\"},{\"attributes\":{},\"id\":\"14809\",\"type\":\"Selection\"},{\"attributes\":{\"line_alpha\":0.1,\"line_color\":\"#1f77b4\",\"x\":{\"field\":\"x\"},\"y\":{\"field\":\"y\"}},\"id\":\"14284\",\"type\":\"Line\"},{\"attributes\":{},\"id\":\"14294\",\"type\":\"Selection\"},{\"attributes\":{},\"id\":\"14806\",\"type\":\"UnionRenderers\"},{\"attributes\":{\"label\":{\"value\":\"Developing excluding LDCs\"},\"renderers\":[{\"id\":\"14285\",\"type\":\"GlyphRenderer\"}]},\"id\":\"14297\",\"type\":\"LegendItem\"},{\"attributes\":{\"data_source\":{\"id\":\"14277\",\"type\":\"ColumnDataSource\"},\"glyph\":{\"id\":\"14278\",\"type\":\"Circle\"},\"hover_glyph\":null,\"muted_glyph\":null,\"nonselection_glyph\":{\"id\":\"14279\",\"type\":\"Circle\"},\"selection_glyph\":null,\"view\":{\"id\":\"14281\",\"type\":\"CDSView\"}},\"id\":\"14280\",\"type\":\"GlyphRenderer\"},{\"attributes\":{\"callback\":null},\"id\":\"14233\",\"type\":\"DataRange1d\"},{\"attributes\":{\"data_source\":{\"id\":\"14298\",\"type\":\"ColumnDataSource\"},\"glyph\":{\"id\":\"14299\",\"type\":\"Circle\"},\"hover_glyph\":null,\"muted_glyph\":null,\"nonselection_glyph\":{\"id\":\"14300\",\"type\":\"Circle\"},\"selection_glyph\":null,\"view\":{\"id\":\"14302\",\"type\":\"CDSView\"}},\"id\":\"14301\",\"type\":\"GlyphRenderer\"},{\"attributes\":{\"line_color\":\"#FA1857\",\"x\":{\"field\":\"x\"},\"y\":{\"field\":\"y\"}},\"id\":\"14265\",\"type\":\"Line\"},{\"attributes\":{\"data_source\":{\"id\":\"14264\",\"type\":\"ColumnDataSource\"},\"glyph\":{\"id\":\"14265\",\"type\":\"Line\"},\"hover_glyph\":null,\"muted_glyph\":null,\"nonselection_glyph\":{\"id\":\"14266\",\"type\":\"Line\"},\"selection_glyph\":null,\"view\":{\"id\":\"14268\",\"type\":\"CDSView\"}},\"id\":\"14267\",\"type\":\"GlyphRenderer\"},{\"attributes\":{\"source\":{\"id\":\"14264\",\"type\":\"ColumnDataSource\"}},\"id\":\"14268\",\"type\":\"CDSView\"},{\"attributes\":{\"fill_alpha\":{\"value\":0.1},\"fill_color\":{\"value\":\"#1f77b4\"},\"line_alpha\":{\"value\":0.1},\"line_color\":{\"value\":\"#1f77b4\"},\"line_width\":{\"value\":3},\"x\":{\"field\":\"x\"},\"y\":{\"field\":\"y\"}},\"id\":\"14300\",\"type\":\"Circle\"},{\"attributes\":{\"fill_color\":{\"value\":\"#FA1857\"},\"line_color\":{\"value\":\"#FA1857\"},\"line_width\":{\"value\":3},\"x\":{\"field\":\"x\"},\"y\":{\"field\":\"y\"}},\"id\":\"14278\",\"type\":\"Circle\"},{\"attributes\":{\"callback\":null,\"data\":{\"x\":[\"2000\",\"2001\",\"2002\",\"2003\",\"2004\",\"2005\",\"2006\",\"2007\",\"2008\",\"2009\",\"2010\",\"2011\",\"2012\",\"2013\",\"2014\",\"2015\",\"2016\",\"2017\"],\"y\":[80.52938553993671,80.98306916658386,81.75577271857544,82.51738528343346,83.26856527716375,84.01035061665243,84.73493683343618,85.44665790841732,86.14597909243486,86.82384120053665,87.49098552195242,88.14296769426193,88.78219085406499,89.40976403386004,90.02760049458978,90.63753858167426,91.22512295896829,91.73069352453612]},\"selected\":{\"id\":\"14809\",\"type\":\"Selection\"},\"selection_policy\":{\"id\":\"14808\",\"type\":\"UnionRenderers\"}},\"id\":\"14298\",\"type\":\"ColumnDataSource\"},{\"attributes\":{},\"id\":\"14254\",\"type\":\"SaveTool\"},{\"attributes\":{\"axis_label\":\"SH.H2O.BASW.ZS\",\"formatter\":{\"id\":\"14273\",\"type\":\"BasicTickFormatter\"},\"ticker\":{\"id\":\"14247\",\"type\":\"BasicTicker\"}},\"id\":\"14246\",\"type\":\"LinearAxis\"},{\"attributes\":{\"callback\":null,\"data\":{\"x\":[\"2000\",\"2001\",\"2002\",\"2003\",\"2004\",\"2005\",\"2006\",\"2007\",\"2008\",\"2009\",\"2010\",\"2011\",\"2012\",\"2013\",\"2014\",\"2015\",\"2016\",\"2017\"],\"y\":[49.88174088230704,50.608086227470224,51.395986738735594,52.22351498455358,53.05074087389461,53.92007437124153,54.779372631776084,55.62089417800866,56.4996966988253,57.37541469551412,58.24907194342576,58.917144030541415,59.80691635243508,60.671159882373644,61.5393733519655,62.35975740919952,63.092404238757574,63.83980163897949]},\"selected\":{\"id\":\"14296\",\"type\":\"Selection\"},\"selection_policy\":{\"id\":\"14295\",\"type\":\"UnionRenderers\"}},\"id\":\"14277\",\"type\":\"ColumnDataSource\"},{\"attributes\":{},\"id\":\"14273\",\"type\":\"BasicTickFormatter\"},{\"attributes\":{\"label\":{\"value\":\"LDCs\"},\"renderers\":[{\"id\":\"14267\",\"type\":\"GlyphRenderer\"}]},\"id\":\"14276\",\"type\":\"LegendItem\"},{\"attributes\":{\"overlay\":{\"id\":\"14274\",\"type\":\"BoxAnnotation\"}},\"id\":\"14253\",\"type\":\"BoxZoomTool\"},{\"attributes\":{},\"id\":\"14807\",\"type\":\"Selection\"},{\"attributes\":{\"active_drag\":\"auto\",\"active_inspect\":\"auto\",\"active_multi\":null,\"active_scroll\":\"auto\",\"active_tap\":\"auto\",\"tools\":[{\"id\":\"14251\",\"type\":\"PanTool\"},{\"id\":\"14252\",\"type\":\"WheelZoomTool\"},{\"id\":\"14253\",\"type\":\"BoxZoomTool\"},{\"id\":\"14254\",\"type\":\"SaveTool\"},{\"id\":\"14255\",\"type\":\"ResetTool\"},{\"id\":\"14256\",\"type\":\"HelpTool\"},{\"id\":\"14303\",\"type\":\"HoverTool\"}]},\"id\":\"14257\",\"type\":\"Toolbar\"},{\"attributes\":{},\"id\":\"14237\",\"type\":\"LinearScale\"},{\"attributes\":{},\"id\":\"14247\",\"type\":\"BasicTicker\"},{\"attributes\":{\"source\":{\"id\":\"14277\",\"type\":\"ColumnDataSource\"}},\"id\":\"14281\",\"type\":\"CDSView\"},{\"attributes\":{\"line_color\":\"#5430F1\",\"x\":{\"field\":\"x\"},\"y\":{\"field\":\"y\"}},\"id\":\"14283\",\"type\":\"Line\"},{\"attributes\":{\"source\":{\"id\":\"14282\",\"type\":\"ColumnDataSource\"}},\"id\":\"14286\",\"type\":\"CDSView\"},{\"attributes\":{\"grid_line_color\":null,\"ticker\":{\"id\":\"14242\",\"type\":\"BasicTicker\"}},\"id\":\"14245\",\"type\":\"Grid\"},{\"attributes\":{},\"id\":\"14251\",\"type\":\"PanTool\"},{\"attributes\":{\"text\":\"People using at least basic drinking water services (% of population) weighted against Population, total\"},\"id\":\"14231\",\"type\":\"Title\"},{\"attributes\":{\"line_alpha\":0.1,\"line_color\":\"#1f77b4\",\"x\":{\"field\":\"x\"},\"y\":{\"field\":\"y\"}},\"id\":\"14266\",\"type\":\"Line\"},{\"attributes\":{\"items\":[{\"id\":\"14276\",\"type\":\"LegendItem\"},{\"id\":\"14297\",\"type\":\"LegendItem\"}],\"location\":\"bottom_left\"},\"id\":\"14275\",\"type\":\"Legend\"},{\"attributes\":{\"data_source\":{\"id\":\"14282\",\"type\":\"ColumnDataSource\"},\"glyph\":{\"id\":\"14283\",\"type\":\"Line\"},\"hover_glyph\":null,\"muted_glyph\":null,\"nonselection_glyph\":{\"id\":\"14284\",\"type\":\"Line\"},\"selection_glyph\":null,\"view\":{\"id\":\"14286\",\"type\":\"CDSView\"}},\"id\":\"14285\",\"type\":\"GlyphRenderer\"},{\"attributes\":{\"dimension\":1,\"grid_line_alpha\":0.5,\"ticker\":{\"id\":\"14247\",\"type\":\"BasicTicker\"}},\"id\":\"14250\",\"type\":\"Grid\"}],\"root_ids\":[\"14230\"]},\"title\":\"Bokeh Application\",\"version\":\"1.3.4\"}};\n",
       "  var render_items = [{\"docid\":\"17b91889-07cb-4747-a6fa-daaa5199bf3d\",\"roots\":{\"14230\":\"cb478ef1-5a22-489b-afbe-72b57eb559a7\"}}];\n",
       "  root.Bokeh.embed.embed_items_notebook(docs_json, render_items);\n",
       "\n",
       "  }\n",
       "  if (root.Bokeh !== undefined) {\n",
       "    embed_document(root);\n",
       "  } else {\n",
       "    var attempts = 0;\n",
       "    var timer = setInterval(function(root) {\n",
       "      if (root.Bokeh !== undefined) {\n",
       "        embed_document(root);\n",
       "        clearInterval(timer);\n",
       "      }\n",
       "      attempts++;\n",
       "      if (attempts > 100) {\n",
       "        console.log(\"Bokeh: ERROR: Unable to run BokehJS code because BokehJS library is missing\");\n",
       "        clearInterval(timer);\n",
       "      }\n",
       "    }, 10, root)\n",
       "  }\n",
       "})(window);"
      ],
      "application/vnd.bokehjs_exec.v0+json": ""
     },
     "metadata": {
      "application/vnd.bokehjs_exec.v0+json": {
       "id": "14230"
      }
     },
     "output_type": "display_data"
    }
   ],
   "source": [
    "# Basic water access\n",
    "years = list(map(str, list(range(2000,2018))))\n",
    "result = show_weighted_average(years, 'SH.H2O.BASW.ZS', 'SP.POP.TOTL', ['LDCs', 'Developing excluding LDCs'])"
   ]
  },
  {
   "cell_type": "code",
   "execution_count": 36,
   "metadata": {
    "ExecuteTime": {
     "end_time": "2019-10-25T14:26:06.027715Z",
     "start_time": "2019-10-25T14:26:01.795810Z"
    },
    "slideshow": {
     "slide_type": "slide"
    }
   },
   "outputs": [
    {
     "data": {
      "text/html": [
       "\n",
       "\n",
       "\n",
       "\n",
       "\n",
       "\n",
       "  <div class=\"bk-root\" id=\"fca3f03f-1e15-490a-a676-3b0690cb6cd8\" data-root-id=\"14894\"></div>\n"
      ]
     },
     "metadata": {},
     "output_type": "display_data"
    },
    {
     "data": {
      "application/javascript": [
       "(function(root) {\n",
       "  function embed_document(root) {\n",
       "    \n",
       "  var docs_json = {\"c8d31288-5daa-48d7-8411-433b5894cb10\":{\"roots\":{\"references\":[{\"attributes\":{\"below\":[{\"id\":\"14905\",\"type\":\"LinearAxis\"}],\"center\":[{\"id\":\"14909\",\"type\":\"Grid\"},{\"id\":\"14914\",\"type\":\"Grid\"},{\"id\":\"14939\",\"type\":\"Legend\"}],\"left\":[{\"id\":\"14910\",\"type\":\"LinearAxis\"}],\"plot_height\":400,\"plot_width\":800,\"renderers\":[{\"id\":\"14931\",\"type\":\"GlyphRenderer\"},{\"id\":\"14944\",\"type\":\"GlyphRenderer\"},{\"id\":\"14949\",\"type\":\"GlyphRenderer\"},{\"id\":\"14965\",\"type\":\"GlyphRenderer\"}],\"title\":{\"id\":\"14895\",\"type\":\"Title\"},\"toolbar\":{\"id\":\"14921\",\"type\":\"Toolbar\"},\"x_range\":{\"id\":\"14897\",\"type\":\"DataRange1d\"},\"x_scale\":{\"id\":\"14901\",\"type\":\"LinearScale\"},\"y_range\":{\"id\":\"14899\",\"type\":\"DataRange1d\"},\"y_scale\":{\"id\":\"14903\",\"type\":\"LinearScale\"}},\"id\":\"14894\",\"subtype\":\"Figure\",\"type\":\"Plot\"},{\"attributes\":{\"callback\":null},\"id\":\"14899\",\"type\":\"DataRange1d\"},{\"attributes\":{\"active_drag\":\"auto\",\"active_inspect\":\"auto\",\"active_multi\":null,\"active_scroll\":\"auto\",\"active_tap\":\"auto\",\"tools\":[{\"id\":\"14915\",\"type\":\"PanTool\"},{\"id\":\"14916\",\"type\":\"WheelZoomTool\"},{\"id\":\"14917\",\"type\":\"BoxZoomTool\"},{\"id\":\"14918\",\"type\":\"SaveTool\"},{\"id\":\"14919\",\"type\":\"ResetTool\"},{\"id\":\"14920\",\"type\":\"HelpTool\"},{\"id\":\"14967\",\"type\":\"HoverTool\"}]},\"id\":\"14921\",\"type\":\"Toolbar\"},{\"attributes\":{},\"id\":\"14957\",\"type\":\"UnionRenderers\"},{\"attributes\":{},\"id\":\"14901\",\"type\":\"LinearScale\"},{\"attributes\":{},\"id\":\"14958\",\"type\":\"Selection\"},{\"attributes\":{},\"id\":\"14903\",\"type\":\"LinearScale\"},{\"attributes\":{\"data_source\":{\"id\":\"14928\",\"type\":\"ColumnDataSource\"},\"glyph\":{\"id\":\"14929\",\"type\":\"Line\"},\"hover_glyph\":null,\"muted_glyph\":null,\"nonselection_glyph\":{\"id\":\"14930\",\"type\":\"Line\"},\"selection_glyph\":null,\"view\":{\"id\":\"14932\",\"type\":\"CDSView\"}},\"id\":\"14931\",\"type\":\"GlyphRenderer\"},{\"attributes\":{},\"id\":\"14935\",\"type\":\"BasicTickFormatter\"},{\"attributes\":{},\"id\":\"14959\",\"type\":\"UnionRenderers\"},{\"attributes\":{\"source\":{\"id\":\"14928\",\"type\":\"ColumnDataSource\"}},\"id\":\"14932\",\"type\":\"CDSView\"},{\"attributes\":{\"axis_label\":\"Years\",\"formatter\":{\"id\":\"14935\",\"type\":\"BasicTickFormatter\"},\"ticker\":{\"id\":\"14906\",\"type\":\"BasicTicker\"}},\"id\":\"14905\",\"type\":\"LinearAxis\"},{\"attributes\":{},\"id\":\"14960\",\"type\":\"Selection\"},{\"attributes\":{},\"id\":\"14906\",\"type\":\"BasicTicker\"},{\"attributes\":{\"label\":{\"value\":\"Developing excluding LDCs\"},\"renderers\":[{\"id\":\"14949\",\"type\":\"GlyphRenderer\"}]},\"id\":\"14961\",\"type\":\"LegendItem\"},{\"attributes\":{},\"id\":\"14937\",\"type\":\"BasicTickFormatter\"},{\"attributes\":{\"grid_line_color\":null,\"ticker\":{\"id\":\"14906\",\"type\":\"BasicTicker\"}},\"id\":\"14909\",\"type\":\"Grid\"},{\"attributes\":{\"callback\":null,\"data\":{\"x\":[\"2000\",\"2001\",\"2002\",\"2003\",\"2004\",\"2005\",\"2006\",\"2007\",\"2008\",\"2009\",\"2010\",\"2011\",\"2012\",\"2013\",\"2014\",\"2015\",\"2016\",\"2017\"],\"y\":[70.53617342079441,70.98736853175153,71.93803161887901,72.88856091575647,73.83899935125105,74.79174508474752,75.7402919385478,76.68928352401974,77.63732473716367,78.57026473333019,79.50520264937938,80.44196190784398,81.37844584739321,82.31320813991483,83.24970749545021,84.18023015230632,85.0958832055751,86.00729014906636]},\"selected\":{\"id\":\"15487\",\"type\":\"Selection\"},\"selection_policy\":{\"id\":\"15486\",\"type\":\"UnionRenderers\"}},\"id\":\"14962\",\"type\":\"ColumnDataSource\"},{\"attributes\":{\"bottom_units\":\"screen\",\"fill_alpha\":{\"value\":0.5},\"fill_color\":{\"value\":\"lightgrey\"},\"left_units\":\"screen\",\"level\":\"overlay\",\"line_alpha\":{\"value\":1.0},\"line_color\":{\"value\":\"black\"},\"line_dash\":[4,4],\"line_width\":{\"value\":2},\"render_mode\":\"css\",\"right_units\":\"screen\",\"top_units\":\"screen\"},\"id\":\"14938\",\"type\":\"BoxAnnotation\"},{\"attributes\":{\"axis_label\":\"SH.H2O.BASW.RU.ZS\",\"formatter\":{\"id\":\"14937\",\"type\":\"BasicTickFormatter\"},\"ticker\":{\"id\":\"14911\",\"type\":\"BasicTicker\"}},\"id\":\"14910\",\"type\":\"LinearAxis\"},{\"attributes\":{\"fill_color\":{\"value\":\"#5430F1\"},\"line_color\":{\"value\":\"#5430F1\"},\"line_width\":{\"value\":3},\"x\":{\"field\":\"x\"},\"y\":{\"field\":\"y\"}},\"id\":\"14963\",\"type\":\"Circle\"},{\"attributes\":{\"items\":[{\"id\":\"14940\",\"type\":\"LegendItem\"},{\"id\":\"14961\",\"type\":\"LegendItem\"}],\"location\":\"bottom_left\"},\"id\":\"14939\",\"type\":\"Legend\"},{\"attributes\":{},\"id\":\"14911\",\"type\":\"BasicTicker\"},{\"attributes\":{\"fill_alpha\":{\"value\":0.1},\"fill_color\":{\"value\":\"#1f77b4\"},\"line_alpha\":{\"value\":0.1},\"line_color\":{\"value\":\"#1f77b4\"},\"line_width\":{\"value\":3},\"x\":{\"field\":\"x\"},\"y\":{\"field\":\"y\"}},\"id\":\"14964\",\"type\":\"Circle\"},{\"attributes\":{\"label\":{\"value\":\"LDCs\"},\"renderers\":[{\"id\":\"14931\",\"type\":\"GlyphRenderer\"}]},\"id\":\"14940\",\"type\":\"LegendItem\"},{\"attributes\":{\"dimension\":1,\"grid_line_alpha\":0.5,\"ticker\":{\"id\":\"14911\",\"type\":\"BasicTicker\"}},\"id\":\"14914\",\"type\":\"Grid\"},{\"attributes\":{\"data_source\":{\"id\":\"14962\",\"type\":\"ColumnDataSource\"},\"glyph\":{\"id\":\"14963\",\"type\":\"Circle\"},\"hover_glyph\":null,\"muted_glyph\":null,\"nonselection_glyph\":{\"id\":\"14964\",\"type\":\"Circle\"},\"selection_glyph\":null,\"view\":{\"id\":\"14966\",\"type\":\"CDSView\"}},\"id\":\"14965\",\"type\":\"GlyphRenderer\"},{\"attributes\":{\"callback\":null,\"data\":{\"x\":[\"2000\",\"2001\",\"2002\",\"2003\",\"2004\",\"2005\",\"2006\",\"2007\",\"2008\",\"2009\",\"2010\",\"2011\",\"2012\",\"2013\",\"2014\",\"2015\",\"2016\",\"2017\"],\"y\":[41.5045691703602,42.1806214875968,42.885242622983625,43.64136482547633,44.39836037458768,45.19722362416373,45.98902922387146,46.7651200755641,47.57302323497532,48.37812393351483,49.181884079296815,49.83570430661606,50.69488925039761,51.48859977029182,52.29018616324078,53.04155575034853,53.69592350981019,54.34820662340301]},\"selected\":{\"id\":\"14960\",\"type\":\"Selection\"},\"selection_policy\":{\"id\":\"14959\",\"type\":\"UnionRenderers\"}},\"id\":\"14941\",\"type\":\"ColumnDataSource\"},{\"attributes\":{\"source\":{\"id\":\"14962\",\"type\":\"ColumnDataSource\"}},\"id\":\"14966\",\"type\":\"CDSView\"},{\"attributes\":{\"fill_color\":{\"value\":\"#FA1857\"},\"line_color\":{\"value\":\"#FA1857\"},\"line_width\":{\"value\":3},\"x\":{\"field\":\"x\"},\"y\":{\"field\":\"y\"}},\"id\":\"14942\",\"type\":\"Circle\"},{\"attributes\":{\"callback\":null,\"data\":{\"x\":[\"2000\",\"2001\",\"2002\",\"2003\",\"2004\",\"2005\",\"2006\",\"2007\",\"2008\",\"2009\",\"2010\",\"2011\",\"2012\",\"2013\",\"2014\",\"2015\",\"2016\",\"2017\"],\"y\":[41.5045691703602,42.1806214875968,42.885242622983625,43.64136482547633,44.39836037458768,45.19722362416373,45.98902922387146,46.7651200755641,47.57302323497532,48.37812393351483,49.181884079296815,49.83570430661606,50.69488925039761,51.48859977029182,52.29018616324078,53.04155575034853,53.69592350981019,54.34820662340301]},\"selected\":{\"id\":\"14958\",\"type\":\"Selection\"},\"selection_policy\":{\"id\":\"14957\",\"type\":\"UnionRenderers\"}},\"id\":\"14928\",\"type\":\"ColumnDataSource\"},{\"attributes\":{\"fill_alpha\":{\"value\":0.1},\"fill_color\":{\"value\":\"#1f77b4\"},\"line_alpha\":{\"value\":0.1},\"line_color\":{\"value\":\"#1f77b4\"},\"line_width\":{\"value\":3},\"x\":{\"field\":\"x\"},\"y\":{\"field\":\"y\"}},\"id\":\"14943\",\"type\":\"Circle\"},{\"attributes\":{\"callback\":null,\"tooltips\":\"                \\n        <div style=padding=5px>Year:@x</div>\\n        <div style=padding=5px>Value:@y</div>        \\n        \"},\"id\":\"14967\",\"type\":\"HoverTool\"},{\"attributes\":{\"line_alpha\":0.1,\"line_color\":\"#1f77b4\",\"x\":{\"field\":\"x\"},\"y\":{\"field\":\"y\"}},\"id\":\"14930\",\"type\":\"Line\"},{\"attributes\":{},\"id\":\"15484\",\"type\":\"UnionRenderers\"},{\"attributes\":{\"data_source\":{\"id\":\"14941\",\"type\":\"ColumnDataSource\"},\"glyph\":{\"id\":\"14942\",\"type\":\"Circle\"},\"hover_glyph\":null,\"muted_glyph\":null,\"nonselection_glyph\":{\"id\":\"14943\",\"type\":\"Circle\"},\"selection_glyph\":null,\"view\":{\"id\":\"14945\",\"type\":\"CDSView\"}},\"id\":\"14944\",\"type\":\"GlyphRenderer\"},{\"attributes\":{},\"id\":\"14915\",\"type\":\"PanTool\"},{\"attributes\":{},\"id\":\"15485\",\"type\":\"Selection\"},{\"attributes\":{\"source\":{\"id\":\"14941\",\"type\":\"ColumnDataSource\"}},\"id\":\"14945\",\"type\":\"CDSView\"},{\"attributes\":{},\"id\":\"14916\",\"type\":\"WheelZoomTool\"},{\"attributes\":{\"line_color\":\"#FA1857\",\"x\":{\"field\":\"x\"},\"y\":{\"field\":\"y\"}},\"id\":\"14929\",\"type\":\"Line\"},{\"attributes\":{},\"id\":\"15486\",\"type\":\"UnionRenderers\"},{\"attributes\":{\"callback\":null,\"data\":{\"x\":[\"2000\",\"2001\",\"2002\",\"2003\",\"2004\",\"2005\",\"2006\",\"2007\",\"2008\",\"2009\",\"2010\",\"2011\",\"2012\",\"2013\",\"2014\",\"2015\",\"2016\",\"2017\"],\"y\":[70.53617342079441,70.98736853175153,71.93803161887901,72.88856091575647,73.83899935125105,74.79174508474752,75.7402919385478,76.68928352401974,77.63732473716367,78.57026473333019,79.50520264937938,80.44196190784398,81.37844584739321,82.31320813991483,83.24970749545021,84.18023015230632,85.0958832055751,86.00729014906636]},\"selected\":{\"id\":\"15485\",\"type\":\"Selection\"},\"selection_policy\":{\"id\":\"15484\",\"type\":\"UnionRenderers\"}},\"id\":\"14946\",\"type\":\"ColumnDataSource\"},{\"attributes\":{\"overlay\":{\"id\":\"14938\",\"type\":\"BoxAnnotation\"}},\"id\":\"14917\",\"type\":\"BoxZoomTool\"},{\"attributes\":{},\"id\":\"15487\",\"type\":\"Selection\"},{\"attributes\":{\"line_color\":\"#5430F1\",\"x\":{\"field\":\"x\"},\"y\":{\"field\":\"y\"}},\"id\":\"14947\",\"type\":\"Line\"},{\"attributes\":{},\"id\":\"14918\",\"type\":\"SaveTool\"},{\"attributes\":{\"line_alpha\":0.1,\"line_color\":\"#1f77b4\",\"x\":{\"field\":\"x\"},\"y\":{\"field\":\"y\"}},\"id\":\"14948\",\"type\":\"Line\"},{\"attributes\":{},\"id\":\"14919\",\"type\":\"ResetTool\"},{\"attributes\":{\"text\":\"People using at least basic drinking water services, rural (% of rural population) weighted against Rural population\"},\"id\":\"14895\",\"type\":\"Title\"},{\"attributes\":{\"data_source\":{\"id\":\"14946\",\"type\":\"ColumnDataSource\"},\"glyph\":{\"id\":\"14947\",\"type\":\"Line\"},\"hover_glyph\":null,\"muted_glyph\":null,\"nonselection_glyph\":{\"id\":\"14948\",\"type\":\"Line\"},\"selection_glyph\":null,\"view\":{\"id\":\"14950\",\"type\":\"CDSView\"}},\"id\":\"14949\",\"type\":\"GlyphRenderer\"},{\"attributes\":{},\"id\":\"14920\",\"type\":\"HelpTool\"},{\"attributes\":{\"callback\":null},\"id\":\"14897\",\"type\":\"DataRange1d\"},{\"attributes\":{\"source\":{\"id\":\"14946\",\"type\":\"ColumnDataSource\"}},\"id\":\"14950\",\"type\":\"CDSView\"}],\"root_ids\":[\"14894\"]},\"title\":\"Bokeh Application\",\"version\":\"1.3.4\"}};\n",
       "  var render_items = [{\"docid\":\"c8d31288-5daa-48d7-8411-433b5894cb10\",\"roots\":{\"14894\":\"fca3f03f-1e15-490a-a676-3b0690cb6cd8\"}}];\n",
       "  root.Bokeh.embed.embed_items_notebook(docs_json, render_items);\n",
       "\n",
       "  }\n",
       "  if (root.Bokeh !== undefined) {\n",
       "    embed_document(root);\n",
       "  } else {\n",
       "    var attempts = 0;\n",
       "    var timer = setInterval(function(root) {\n",
       "      if (root.Bokeh !== undefined) {\n",
       "        embed_document(root);\n",
       "        clearInterval(timer);\n",
       "      }\n",
       "      attempts++;\n",
       "      if (attempts > 100) {\n",
       "        console.log(\"Bokeh: ERROR: Unable to run BokehJS code because BokehJS library is missing\");\n",
       "        clearInterval(timer);\n",
       "      }\n",
       "    }, 10, root)\n",
       "  }\n",
       "})(window);"
      ],
      "application/vnd.bokehjs_exec.v0+json": ""
     },
     "metadata": {
      "application/vnd.bokehjs_exec.v0+json": {
       "id": "14894"
      }
     },
     "output_type": "display_data"
    }
   ],
   "source": [
    "# Basic water access rural\n",
    "years = list(map(str, list(range(2000,2018))))\n",
    "result = show_weighted_average(years, 'SH.H2O.BASW.RU.ZS', 'SP.RUR.TOTL', ['LDCs', 'Developing excluding LDCs'])"
   ]
  },
  {
   "cell_type": "markdown",
   "metadata": {
    "slideshow": {
     "slide_type": "slide"
    }
   },
   "source": [
    "# Gender equality and the empowerment of women"
   ]
  },
  {
   "cell_type": "code",
   "execution_count": 37,
   "metadata": {
    "ExecuteTime": {
     "end_time": "2019-10-25T14:26:06.754335Z",
     "start_time": "2019-10-25T14:26:06.030180Z"
    },
    "slideshow": {
     "slide_type": "slide"
    }
   },
   "outputs": [
    {
     "data": {
      "text/html": [
       "\n",
       "\n",
       "\n",
       "\n",
       "\n",
       "\n",
       "  <div class=\"bk-root\" id=\"e41fb285-e48d-4c63-b05b-bfca60bb7d82\" data-root-id=\"15572\"></div>\n"
      ]
     },
     "metadata": {},
     "output_type": "display_data"
    },
    {
     "data": {
      "application/javascript": [
       "(function(root) {\n",
       "  function embed_document(root) {\n",
       "    \n",
       "  var docs_json = {\"c01182ee-da61-479a-a3f9-1f3e9610ad37\":{\"roots\":{\"references\":[{\"attributes\":{\"below\":[{\"id\":\"15583\",\"type\":\"LinearAxis\"}],\"center\":[{\"id\":\"15587\",\"type\":\"Grid\"},{\"id\":\"15592\",\"type\":\"Grid\"},{\"id\":\"15617\",\"type\":\"Legend\"}],\"left\":[{\"id\":\"15588\",\"type\":\"LinearAxis\"}],\"plot_height\":400,\"plot_width\":800,\"renderers\":[{\"id\":\"15609\",\"type\":\"GlyphRenderer\"},{\"id\":\"15622\",\"type\":\"GlyphRenderer\"},{\"id\":\"15627\",\"type\":\"GlyphRenderer\"},{\"id\":\"15643\",\"type\":\"GlyphRenderer\"}],\"title\":{\"id\":\"15573\",\"type\":\"Title\"},\"toolbar\":{\"id\":\"15599\",\"type\":\"Toolbar\"},\"x_range\":{\"id\":\"15575\",\"type\":\"DataRange1d\"},\"x_scale\":{\"id\":\"15579\",\"type\":\"LinearScale\"},\"y_range\":{\"id\":\"15577\",\"type\":\"DataRange1d\"},\"y_scale\":{\"id\":\"15581\",\"type\":\"LinearScale\"}},\"id\":\"15572\",\"subtype\":\"Figure\",\"type\":\"Plot\"},{\"attributes\":{},\"id\":\"15613\",\"type\":\"BasicTickFormatter\"},{\"attributes\":{\"fill_color\":{\"value\":\"#5430F1\"},\"line_color\":{\"value\":\"#5430F1\"},\"line_width\":{\"value\":3},\"x\":{\"field\":\"x\"},\"y\":{\"field\":\"y\"}},\"id\":\"15641\",\"type\":\"Circle\"},{\"attributes\":{\"active_drag\":\"auto\",\"active_inspect\":\"auto\",\"active_multi\":null,\"active_scroll\":\"auto\",\"active_tap\":\"auto\",\"tools\":[{\"id\":\"15593\",\"type\":\"PanTool\"},{\"id\":\"15594\",\"type\":\"WheelZoomTool\"},{\"id\":\"15595\",\"type\":\"BoxZoomTool\"},{\"id\":\"15596\",\"type\":\"SaveTool\"},{\"id\":\"15597\",\"type\":\"ResetTool\"},{\"id\":\"15598\",\"type\":\"HelpTool\"},{\"id\":\"15645\",\"type\":\"HoverTool\"}]},\"id\":\"15599\",\"type\":\"Toolbar\"},{\"attributes\":{\"source\":{\"id\":\"15640\",\"type\":\"ColumnDataSource\"}},\"id\":\"15644\",\"type\":\"CDSView\"},{\"attributes\":{},\"id\":\"15638\",\"type\":\"Selection\"},{\"attributes\":{},\"id\":\"15596\",\"type\":\"SaveTool\"},{\"attributes\":{},\"id\":\"16178\",\"type\":\"UnionRenderers\"},{\"attributes\":{},\"id\":\"16179\",\"type\":\"Selection\"},{\"attributes\":{\"fill_alpha\":{\"value\":0.1},\"fill_color\":{\"value\":\"#1f77b4\"},\"line_alpha\":{\"value\":0.1},\"line_color\":{\"value\":\"#1f77b4\"},\"line_width\":{\"value\":3},\"x\":{\"field\":\"x\"},\"y\":{\"field\":\"y\"}},\"id\":\"15642\",\"type\":\"Circle\"},{\"attributes\":{\"data_source\":{\"id\":\"15606\",\"type\":\"ColumnDataSource\"},\"glyph\":{\"id\":\"15607\",\"type\":\"Line\"},\"hover_glyph\":null,\"muted_glyph\":null,\"nonselection_glyph\":{\"id\":\"15608\",\"type\":\"Line\"},\"selection_glyph\":null,\"view\":{\"id\":\"15610\",\"type\":\"CDSView\"}},\"id\":\"15609\",\"type\":\"GlyphRenderer\"},{\"attributes\":{},\"id\":\"16177\",\"type\":\"Selection\"},{\"attributes\":{},\"id\":\"16176\",\"type\":\"UnionRenderers\"},{\"attributes\":{\"callback\":null,\"data\":{\"x\":[\"2004\",\"2007\",\"2009\",\"2014\",\"2016\"],\"y\":[61.86680129076366,69.97282422378196,71.47856926329575,60.75834802241367,69.21737011372109]},\"selected\":{\"id\":\"16179\",\"type\":\"Selection\"},\"selection_policy\":{\"id\":\"16178\",\"type\":\"UnionRenderers\"}},\"id\":\"15640\",\"type\":\"ColumnDataSource\"},{\"attributes\":{\"callback\":null,\"data\":{\"x\":[\"2004\",\"2007\",\"2009\",\"2014\",\"2016\"],\"y\":[55.95647488898381,49.148601616188614,50.86221893261661,50.63622946017881,53.343214850211766]},\"selected\":{\"id\":\"15638\",\"type\":\"Selection\"},\"selection_policy\":{\"id\":\"15637\",\"type\":\"UnionRenderers\"}},\"id\":\"15619\",\"type\":\"ColumnDataSource\"},{\"attributes\":{\"data_source\":{\"id\":\"15619\",\"type\":\"ColumnDataSource\"},\"glyph\":{\"id\":\"15620\",\"type\":\"Circle\"},\"hover_glyph\":null,\"muted_glyph\":null,\"nonselection_glyph\":{\"id\":\"15621\",\"type\":\"Circle\"},\"selection_glyph\":null,\"view\":{\"id\":\"15623\",\"type\":\"CDSView\"}},\"id\":\"15622\",\"type\":\"GlyphRenderer\"},{\"attributes\":{\"callback\":null,\"data\":{\"x\":[\"2004\",\"2007\",\"2009\",\"2014\",\"2016\"],\"y\":[61.86680129076366,69.97282422378196,71.47856926329575,60.75834802241367,69.21737011372109]},\"selected\":{\"id\":\"16177\",\"type\":\"Selection\"},\"selection_policy\":{\"id\":\"16176\",\"type\":\"UnionRenderers\"}},\"id\":\"15624\",\"type\":\"ColumnDataSource\"},{\"attributes\":{\"label\":{\"value\":\"LDCs\"},\"renderers\":[{\"id\":\"15609\",\"type\":\"GlyphRenderer\"}]},\"id\":\"15618\",\"type\":\"LegendItem\"},{\"attributes\":{},\"id\":\"15636\",\"type\":\"Selection\"},{\"attributes\":{\"data_source\":{\"id\":\"15624\",\"type\":\"ColumnDataSource\"},\"glyph\":{\"id\":\"15625\",\"type\":\"Line\"},\"hover_glyph\":null,\"muted_glyph\":null,\"nonselection_glyph\":{\"id\":\"15626\",\"type\":\"Line\"},\"selection_glyph\":null,\"view\":{\"id\":\"15628\",\"type\":\"CDSView\"}},\"id\":\"15627\",\"type\":\"GlyphRenderer\"},{\"attributes\":{\"line_color\":\"#FA1857\",\"x\":{\"field\":\"x\"},\"y\":{\"field\":\"y\"}},\"id\":\"15607\",\"type\":\"Line\"},{\"attributes\":{\"source\":{\"id\":\"15606\",\"type\":\"ColumnDataSource\"}},\"id\":\"15610\",\"type\":\"CDSView\"},{\"attributes\":{},\"id\":\"15637\",\"type\":\"UnionRenderers\"},{\"attributes\":{\"callback\":null,\"tooltips\":\"                \\n        <div style=padding=5px>Year:@x</div>\\n        <div style=padding=5px>Value:@y</div>        \\n        \"},\"id\":\"15645\",\"type\":\"HoverTool\"},{\"attributes\":{\"line_alpha\":0.1,\"line_color\":\"#1f77b4\",\"x\":{\"field\":\"x\"},\"y\":{\"field\":\"y\"}},\"id\":\"15626\",\"type\":\"Line\"},{\"attributes\":{\"callback\":null},\"id\":\"15577\",\"type\":\"DataRange1d\"},{\"attributes\":{},\"id\":\"15597\",\"type\":\"ResetTool\"},{\"attributes\":{\"fill_alpha\":{\"value\":0.1},\"fill_color\":{\"value\":\"#1f77b4\"},\"line_alpha\":{\"value\":0.1},\"line_color\":{\"value\":\"#1f77b4\"},\"line_width\":{\"value\":3},\"x\":{\"field\":\"x\"},\"y\":{\"field\":\"y\"}},\"id\":\"15621\",\"type\":\"Circle\"},{\"attributes\":{\"fill_color\":{\"value\":\"#FA1857\"},\"line_color\":{\"value\":\"#FA1857\"},\"line_width\":{\"value\":3},\"x\":{\"field\":\"x\"},\"y\":{\"field\":\"y\"}},\"id\":\"15620\",\"type\":\"Circle\"},{\"attributes\":{\"source\":{\"id\":\"15619\",\"type\":\"ColumnDataSource\"}},\"id\":\"15623\",\"type\":\"CDSView\"},{\"attributes\":{},\"id\":\"15598\",\"type\":\"HelpTool\"},{\"attributes\":{\"label\":{\"value\":\"Developing excluding LDCs\"},\"renderers\":[{\"id\":\"15627\",\"type\":\"GlyphRenderer\"}]},\"id\":\"15639\",\"type\":\"LegendItem\"},{\"attributes\":{\"items\":[{\"id\":\"15618\",\"type\":\"LegendItem\"},{\"id\":\"15639\",\"type\":\"LegendItem\"}],\"location\":\"bottom_left\"},\"id\":\"15617\",\"type\":\"Legend\"},{\"attributes\":{},\"id\":\"15635\",\"type\":\"UnionRenderers\"},{\"attributes\":{},\"id\":\"15589\",\"type\":\"BasicTicker\"},{\"attributes\":{\"source\":{\"id\":\"15624\",\"type\":\"ColumnDataSource\"}},\"id\":\"15628\",\"type\":\"CDSView\"},{\"attributes\":{\"axis_label\":\"SH.FPL.SATM.ZS\",\"formatter\":{\"id\":\"15615\",\"type\":\"BasicTickFormatter\"},\"ticker\":{\"id\":\"15589\",\"type\":\"BasicTicker\"}},\"id\":\"15588\",\"type\":\"LinearAxis\"},{\"attributes\":{\"callback\":null},\"id\":\"15575\",\"type\":\"DataRange1d\"},{\"attributes\":{},\"id\":\"15615\",\"type\":\"BasicTickFormatter\"},{\"attributes\":{\"dimension\":1,\"grid_line_alpha\":0.5,\"ticker\":{\"id\":\"15589\",\"type\":\"BasicTicker\"}},\"id\":\"15592\",\"type\":\"Grid\"},{\"attributes\":{\"axis_label\":\"Years\",\"formatter\":{\"id\":\"15613\",\"type\":\"BasicTickFormatter\"},\"ticker\":{\"id\":\"15584\",\"type\":\"BasicTicker\"}},\"id\":\"15583\",\"type\":\"LinearAxis\"},{\"attributes\":{\"overlay\":{\"id\":\"15616\",\"type\":\"BoxAnnotation\"}},\"id\":\"15595\",\"type\":\"BoxZoomTool\"},{\"attributes\":{},\"id\":\"15593\",\"type\":\"PanTool\"},{\"attributes\":{\"bottom_units\":\"screen\",\"fill_alpha\":{\"value\":0.5},\"fill_color\":{\"value\":\"lightgrey\"},\"left_units\":\"screen\",\"level\":\"overlay\",\"line_alpha\":{\"value\":1.0},\"line_color\":{\"value\":\"black\"},\"line_dash\":[4,4],\"line_width\":{\"value\":2},\"render_mode\":\"css\",\"right_units\":\"screen\",\"top_units\":\"screen\"},\"id\":\"15616\",\"type\":\"BoxAnnotation\"},{\"attributes\":{\"line_color\":\"#5430F1\",\"x\":{\"field\":\"x\"},\"y\":{\"field\":\"y\"}},\"id\":\"15625\",\"type\":\"Line\"},{\"attributes\":{},\"id\":\"15581\",\"type\":\"LinearScale\"},{\"attributes\":{\"grid_line_color\":null,\"ticker\":{\"id\":\"15584\",\"type\":\"BasicTicker\"}},\"id\":\"15587\",\"type\":\"Grid\"},{\"attributes\":{\"text\":\"Demand for family planning satisfied by modern methods (% of married women with demand for family planning) weighted against Population, female\"},\"id\":\"15573\",\"type\":\"Title\"},{\"attributes\":{},\"id\":\"15594\",\"type\":\"WheelZoomTool\"},{\"attributes\":{},\"id\":\"15584\",\"type\":\"BasicTicker\"},{\"attributes\":{},\"id\":\"15579\",\"type\":\"LinearScale\"},{\"attributes\":{\"callback\":null,\"data\":{\"x\":[\"2004\",\"2007\",\"2009\",\"2014\",\"2016\"],\"y\":[55.95647488898381,49.148601616188614,50.86221893261661,50.63622946017881,53.343214850211766]},\"selected\":{\"id\":\"15636\",\"type\":\"Selection\"},\"selection_policy\":{\"id\":\"15635\",\"type\":\"UnionRenderers\"}},\"id\":\"15606\",\"type\":\"ColumnDataSource\"},{\"attributes\":{\"line_alpha\":0.1,\"line_color\":\"#1f77b4\",\"x\":{\"field\":\"x\"},\"y\":{\"field\":\"y\"}},\"id\":\"15608\",\"type\":\"Line\"},{\"attributes\":{\"data_source\":{\"id\":\"15640\",\"type\":\"ColumnDataSource\"},\"glyph\":{\"id\":\"15641\",\"type\":\"Circle\"},\"hover_glyph\":null,\"muted_glyph\":null,\"nonselection_glyph\":{\"id\":\"15642\",\"type\":\"Circle\"},\"selection_glyph\":null,\"view\":{\"id\":\"15644\",\"type\":\"CDSView\"}},\"id\":\"15643\",\"type\":\"GlyphRenderer\"}],\"root_ids\":[\"15572\"]},\"title\":\"Bokeh Application\",\"version\":\"1.3.4\"}};\n",
       "  var render_items = [{\"docid\":\"c01182ee-da61-479a-a3f9-1f3e9610ad37\",\"roots\":{\"15572\":\"e41fb285-e48d-4c63-b05b-bfca60bb7d82\"}}];\n",
       "  root.Bokeh.embed.embed_items_notebook(docs_json, render_items);\n",
       "\n",
       "  }\n",
       "  if (root.Bokeh !== undefined) {\n",
       "    embed_document(root);\n",
       "  } else {\n",
       "    var attempts = 0;\n",
       "    var timer = setInterval(function(root) {\n",
       "      if (root.Bokeh !== undefined) {\n",
       "        embed_document(root);\n",
       "        clearInterval(timer);\n",
       "      }\n",
       "      attempts++;\n",
       "      if (attempts > 100) {\n",
       "        console.log(\"Bokeh: ERROR: Unable to run BokehJS code because BokehJS library is missing\");\n",
       "        clearInterval(timer);\n",
       "      }\n",
       "    }, 10, root)\n",
       "  }\n",
       "})(window);"
      ],
      "application/vnd.bokehjs_exec.v0+json": ""
     },
     "metadata": {
      "application/vnd.bokehjs_exec.v0+json": {
       "id": "15572"
      }
     },
     "output_type": "display_data"
    }
   ],
   "source": [
    "# Basic water access rural\n",
    "years = ['2004', '2007', '2009', '2014', '2016']\n",
    "result = show_weighted_average(years, 'SH.FPL.SATM.ZS', 'SP.POP.TOTL.FE.IN', \n",
    "                               ['LDCs', 'Developing excluding LDCs'])"
   ]
  },
  {
   "cell_type": "code",
   "execution_count": 38,
   "metadata": {
    "ExecuteTime": {
     "end_time": "2019-10-25T14:26:07.694750Z",
     "start_time": "2019-10-25T14:26:06.760738Z"
    },
    "slideshow": {
     "slide_type": "slide"
    }
   },
   "outputs": [
    {
     "data": {
      "text/html": [
       "\n",
       "\n",
       "\n",
       "\n",
       "\n",
       "\n",
       "  <div class=\"bk-root\" id=\"ec0a20f4-2559-4030-b530-12a1e60f9fbb\" data-root-id=\"16264\"></div>\n"
      ]
     },
     "metadata": {},
     "output_type": "display_data"
    },
    {
     "data": {
      "application/javascript": [
       "(function(root) {\n",
       "  function embed_document(root) {\n",
       "    \n",
       "  var docs_json = {\"7d69b77b-bfe9-4fb1-9958-5256f43032ab\":{\"roots\":{\"references\":[{\"attributes\":{\"below\":[{\"id\":\"16275\",\"type\":\"LinearAxis\"}],\"center\":[{\"id\":\"16279\",\"type\":\"Grid\"},{\"id\":\"16284\",\"type\":\"Grid\"},{\"id\":\"16309\",\"type\":\"Legend\"}],\"left\":[{\"id\":\"16280\",\"type\":\"LinearAxis\"}],\"plot_height\":400,\"plot_width\":800,\"renderers\":[{\"id\":\"16301\",\"type\":\"GlyphRenderer\"},{\"id\":\"16314\",\"type\":\"GlyphRenderer\"},{\"id\":\"16319\",\"type\":\"GlyphRenderer\"},{\"id\":\"16335\",\"type\":\"GlyphRenderer\"}],\"title\":{\"id\":\"16265\",\"type\":\"Title\"},\"toolbar\":{\"id\":\"16291\",\"type\":\"Toolbar\"},\"x_range\":{\"id\":\"16267\",\"type\":\"DataRange1d\"},\"x_scale\":{\"id\":\"16271\",\"type\":\"LinearScale\"},\"y_range\":{\"id\":\"16269\",\"type\":\"DataRange1d\"},\"y_scale\":{\"id\":\"16273\",\"type\":\"LinearScale\"}},\"id\":\"16264\",\"subtype\":\"Figure\",\"type\":\"Plot\"},{\"attributes\":{\"source\":{\"id\":\"16311\",\"type\":\"ColumnDataSource\"}},\"id\":\"16315\",\"type\":\"CDSView\"},{\"attributes\":{\"line_color\":\"#5430F1\",\"x\":{\"field\":\"x\"},\"y\":{\"field\":\"y\"}},\"id\":\"16317\",\"type\":\"Line\"},{\"attributes\":{\"line_alpha\":0.1,\"line_color\":\"#1f77b4\",\"x\":{\"field\":\"x\"},\"y\":{\"field\":\"y\"}},\"id\":\"16318\",\"type\":\"Line\"},{\"attributes\":{},\"id\":\"16885\",\"type\":\"Selection\"},{\"attributes\":{\"callback\":null,\"data\":{\"x\":[\"2000\",\"2003\",\"2006\",\"2009\",\"2014\",\"2017\"],\"y\":[119.30680955251184,114.98644401832998,110.35720256269572,105.31697784440021,96.90208117559042,91.981959778557]},\"selected\":{\"id\":\"16330\",\"type\":\"Selection\"},\"selection_policy\":{\"id\":\"16329\",\"type\":\"UnionRenderers\"}},\"id\":\"16311\",\"type\":\"ColumnDataSource\"},{\"attributes\":{},\"id\":\"16289\",\"type\":\"ResetTool\"},{\"attributes\":{\"source\":{\"id\":\"16332\",\"type\":\"ColumnDataSource\"}},\"id\":\"16336\",\"type\":\"CDSView\"},{\"attributes\":{},\"id\":\"16883\",\"type\":\"Selection\"},{\"attributes\":{\"callback\":null,\"data\":{\"x\":[\"2000\",\"2003\",\"2006\",\"2009\",\"2014\",\"2017\"],\"y\":[48.60949425276021,44.793271674532996,41.346064517381414,38.23315248769004,33.08506789122465,29.748702993171424]},\"selected\":{\"id\":\"16883\",\"type\":\"Selection\"},\"selection_policy\":{\"id\":\"16882\",\"type\":\"UnionRenderers\"}},\"id\":\"16316\",\"type\":\"ColumnDataSource\"},{\"attributes\":{\"overlay\":{\"id\":\"16308\",\"type\":\"BoxAnnotation\"}},\"id\":\"16287\",\"type\":\"BoxZoomTool\"},{\"attributes\":{},\"id\":\"16276\",\"type\":\"BasicTicker\"},{\"attributes\":{\"fill_alpha\":{\"value\":0.1},\"fill_color\":{\"value\":\"#1f77b4\"},\"line_alpha\":{\"value\":0.1},\"line_color\":{\"value\":\"#1f77b4\"},\"line_width\":{\"value\":3},\"x\":{\"field\":\"x\"},\"y\":{\"field\":\"y\"}},\"id\":\"16334\",\"type\":\"Circle\"},{\"attributes\":{\"data_source\":{\"id\":\"16332\",\"type\":\"ColumnDataSource\"},\"glyph\":{\"id\":\"16333\",\"type\":\"Circle\"},\"hover_glyph\":null,\"muted_glyph\":null,\"nonselection_glyph\":{\"id\":\"16334\",\"type\":\"Circle\"},\"selection_glyph\":null,\"view\":{\"id\":\"16336\",\"type\":\"CDSView\"}},\"id\":\"16335\",\"type\":\"GlyphRenderer\"},{\"attributes\":{\"callback\":null},\"id\":\"16269\",\"type\":\"DataRange1d\"},{\"attributes\":{},\"id\":\"16290\",\"type\":\"HelpTool\"},{\"attributes\":{\"line_alpha\":0.1,\"line_color\":\"#1f77b4\",\"x\":{\"field\":\"x\"},\"y\":{\"field\":\"y\"}},\"id\":\"16300\",\"type\":\"Line\"},{\"attributes\":{\"data_source\":{\"id\":\"16298\",\"type\":\"ColumnDataSource\"},\"glyph\":{\"id\":\"16299\",\"type\":\"Line\"},\"hover_glyph\":null,\"muted_glyph\":null,\"nonselection_glyph\":{\"id\":\"16300\",\"type\":\"Line\"},\"selection_glyph\":null,\"view\":{\"id\":\"16302\",\"type\":\"CDSView\"}},\"id\":\"16301\",\"type\":\"GlyphRenderer\"},{\"attributes\":{\"data_source\":{\"id\":\"16316\",\"type\":\"ColumnDataSource\"},\"glyph\":{\"id\":\"16317\",\"type\":\"Line\"},\"hover_glyph\":null,\"muted_glyph\":null,\"nonselection_glyph\":{\"id\":\"16318\",\"type\":\"Line\"},\"selection_glyph\":null,\"view\":{\"id\":\"16320\",\"type\":\"CDSView\"}},\"id\":\"16319\",\"type\":\"GlyphRenderer\"},{\"attributes\":{\"callback\":null},\"id\":\"16267\",\"type\":\"DataRange1d\"},{\"attributes\":{},\"id\":\"16281\",\"type\":\"BasicTicker\"},{\"attributes\":{\"source\":{\"id\":\"16298\",\"type\":\"ColumnDataSource\"}},\"id\":\"16302\",\"type\":\"CDSView\"},{\"attributes\":{\"active_drag\":\"auto\",\"active_inspect\":\"auto\",\"active_multi\":null,\"active_scroll\":\"auto\",\"active_tap\":\"auto\",\"tools\":[{\"id\":\"16285\",\"type\":\"PanTool\"},{\"id\":\"16286\",\"type\":\"WheelZoomTool\"},{\"id\":\"16287\",\"type\":\"BoxZoomTool\"},{\"id\":\"16288\",\"type\":\"SaveTool\"},{\"id\":\"16289\",\"type\":\"ResetTool\"},{\"id\":\"16290\",\"type\":\"HelpTool\"},{\"id\":\"16337\",\"type\":\"HoverTool\"}]},\"id\":\"16291\",\"type\":\"Toolbar\"},{\"attributes\":{\"label\":{\"value\":\"Developing excluding LDCs\"},\"renderers\":[{\"id\":\"16319\",\"type\":\"GlyphRenderer\"}]},\"id\":\"16331\",\"type\":\"LegendItem\"},{\"attributes\":{},\"id\":\"16285\",\"type\":\"PanTool\"},{\"attributes\":{\"source\":{\"id\":\"16316\",\"type\":\"ColumnDataSource\"}},\"id\":\"16320\",\"type\":\"CDSView\"},{\"attributes\":{\"dimension\":1,\"grid_line_alpha\":0.5,\"ticker\":{\"id\":\"16281\",\"type\":\"BasicTicker\"}},\"id\":\"16284\",\"type\":\"Grid\"},{\"attributes\":{\"line_color\":\"#FA1857\",\"x\":{\"field\":\"x\"},\"y\":{\"field\":\"y\"}},\"id\":\"16299\",\"type\":\"Line\"},{\"attributes\":{\"bottom_units\":\"screen\",\"fill_alpha\":{\"value\":0.5},\"fill_color\":{\"value\":\"lightgrey\"},\"left_units\":\"screen\",\"level\":\"overlay\",\"line_alpha\":{\"value\":1.0},\"line_color\":{\"value\":\"black\"},\"line_dash\":[4,4],\"line_width\":{\"value\":2},\"render_mode\":\"css\",\"right_units\":\"screen\",\"top_units\":\"screen\"},\"id\":\"16308\",\"type\":\"BoxAnnotation\"},{\"attributes\":{\"callback\":null,\"data\":{\"x\":[\"2000\",\"2003\",\"2006\",\"2009\",\"2014\",\"2017\"],\"y\":[48.60949425276021,44.793271674532996,41.346064517381414,38.23315248769004,33.08506789122465,29.748702993171424]},\"selected\":{\"id\":\"16885\",\"type\":\"Selection\"},\"selection_policy\":{\"id\":\"16884\",\"type\":\"UnionRenderers\"}},\"id\":\"16332\",\"type\":\"ColumnDataSource\"},{\"attributes\":{},\"id\":\"16273\",\"type\":\"LinearScale\"},{\"attributes\":{},\"id\":\"16327\",\"type\":\"UnionRenderers\"},{\"attributes\":{},\"id\":\"16328\",\"type\":\"Selection\"},{\"attributes\":{},\"id\":\"16286\",\"type\":\"WheelZoomTool\"},{\"attributes\":{\"axis_label\":\"SP.ADO.TFRT\",\"formatter\":{\"id\":\"16307\",\"type\":\"BasicTickFormatter\"},\"ticker\":{\"id\":\"16281\",\"type\":\"BasicTicker\"}},\"id\":\"16280\",\"type\":\"LinearAxis\"},{\"attributes\":{\"axis_label\":\"Years\",\"formatter\":{\"id\":\"16305\",\"type\":\"BasicTickFormatter\"},\"ticker\":{\"id\":\"16276\",\"type\":\"BasicTicker\"}},\"id\":\"16275\",\"type\":\"LinearAxis\"},{\"attributes\":{\"text\":\"Adolescent fertility rate (births per 1,000 women ages 15-19) weighted against Population, female\"},\"id\":\"16265\",\"type\":\"Title\"},{\"attributes\":{},\"id\":\"16271\",\"type\":\"LinearScale\"},{\"attributes\":{\"data_source\":{\"id\":\"16311\",\"type\":\"ColumnDataSource\"},\"glyph\":{\"id\":\"16312\",\"type\":\"Circle\"},\"hover_glyph\":null,\"muted_glyph\":null,\"nonselection_glyph\":{\"id\":\"16313\",\"type\":\"Circle\"},\"selection_glyph\":null,\"view\":{\"id\":\"16315\",\"type\":\"CDSView\"}},\"id\":\"16314\",\"type\":\"GlyphRenderer\"},{\"attributes\":{\"fill_color\":{\"value\":\"#FA1857\"},\"line_color\":{\"value\":\"#FA1857\"},\"line_width\":{\"value\":3},\"x\":{\"field\":\"x\"},\"y\":{\"field\":\"y\"}},\"id\":\"16312\",\"type\":\"Circle\"},{\"attributes\":{},\"id\":\"16330\",\"type\":\"Selection\"},{\"attributes\":{\"fill_alpha\":{\"value\":0.1},\"fill_color\":{\"value\":\"#1f77b4\"},\"line_alpha\":{\"value\":0.1},\"line_color\":{\"value\":\"#1f77b4\"},\"line_width\":{\"value\":3},\"x\":{\"field\":\"x\"},\"y\":{\"field\":\"y\"}},\"id\":\"16313\",\"type\":\"Circle\"},{\"attributes\":{\"label\":{\"value\":\"LDCs\"},\"renderers\":[{\"id\":\"16301\",\"type\":\"GlyphRenderer\"}]},\"id\":\"16310\",\"type\":\"LegendItem\"},{\"attributes\":{},\"id\":\"16305\",\"type\":\"BasicTickFormatter\"},{\"attributes\":{},\"id\":\"16329\",\"type\":\"UnionRenderers\"},{\"attributes\":{\"grid_line_color\":null,\"ticker\":{\"id\":\"16276\",\"type\":\"BasicTicker\"}},\"id\":\"16279\",\"type\":\"Grid\"},{\"attributes\":{},\"id\":\"16288\",\"type\":\"SaveTool\"},{\"attributes\":{\"callback\":null,\"tooltips\":\"                \\n        <div style=padding=5px>Year:@x</div>\\n        <div style=padding=5px>Value:@y</div>        \\n        \"},\"id\":\"16337\",\"type\":\"HoverTool\"},{\"attributes\":{\"callback\":null,\"data\":{\"x\":[\"2000\",\"2003\",\"2006\",\"2009\",\"2014\",\"2017\"],\"y\":[119.30680955251184,114.98644401832998,110.35720256269572,105.31697784440021,96.90208117559042,91.981959778557]},\"selected\":{\"id\":\"16328\",\"type\":\"Selection\"},\"selection_policy\":{\"id\":\"16327\",\"type\":\"UnionRenderers\"}},\"id\":\"16298\",\"type\":\"ColumnDataSource\"},{\"attributes\":{\"items\":[{\"id\":\"16310\",\"type\":\"LegendItem\"},{\"id\":\"16331\",\"type\":\"LegendItem\"}],\"location\":\"bottom_left\"},\"id\":\"16309\",\"type\":\"Legend\"},{\"attributes\":{\"fill_color\":{\"value\":\"#5430F1\"},\"line_color\":{\"value\":\"#5430F1\"},\"line_width\":{\"value\":3},\"x\":{\"field\":\"x\"},\"y\":{\"field\":\"y\"}},\"id\":\"16333\",\"type\":\"Circle\"},{\"attributes\":{},\"id\":\"16307\",\"type\":\"BasicTickFormatter\"},{\"attributes\":{},\"id\":\"16884\",\"type\":\"UnionRenderers\"},{\"attributes\":{},\"id\":\"16882\",\"type\":\"UnionRenderers\"}],\"root_ids\":[\"16264\"]},\"title\":\"Bokeh Application\",\"version\":\"1.3.4\"}};\n",
       "  var render_items = [{\"docid\":\"7d69b77b-bfe9-4fb1-9958-5256f43032ab\",\"roots\":{\"16264\":\"ec0a20f4-2559-4030-b530-12a1e60f9fbb\"}}];\n",
       "  root.Bokeh.embed.embed_items_notebook(docs_json, render_items);\n",
       "\n",
       "  }\n",
       "  if (root.Bokeh !== undefined) {\n",
       "    embed_document(root);\n",
       "  } else {\n",
       "    var attempts = 0;\n",
       "    var timer = setInterval(function(root) {\n",
       "      if (root.Bokeh !== undefined) {\n",
       "        embed_document(root);\n",
       "        clearInterval(timer);\n",
       "      }\n",
       "      attempts++;\n",
       "      if (attempts > 100) {\n",
       "        console.log(\"Bokeh: ERROR: Unable to run BokehJS code because BokehJS library is missing\");\n",
       "        clearInterval(timer);\n",
       "      }\n",
       "    }, 10, root)\n",
       "  }\n",
       "})(window);"
      ],
      "application/vnd.bokehjs_exec.v0+json": ""
     },
     "metadata": {
      "application/vnd.bokehjs_exec.v0+json": {
       "id": "16264"
      }
     },
     "output_type": "display_data"
    }
   ],
   "source": [
    "# Basic water access rural\n",
    "years = ['2000', '2003', '2006', '2009', '2014', '2017']\n",
    "result = show_weighted_average(years, 'SP.ADO.TFRT', 'SP.POP.TOTL.FE.IN', \n",
    "                               ['LDCs', 'Developing excluding LDCs'])"
   ]
  },
  {
   "cell_type": "markdown",
   "metadata": {
    "slideshow": {
     "slide_type": "slide"
    }
   },
   "source": [
    "# Social protection"
   ]
  },
  {
   "cell_type": "code",
   "execution_count": 39,
   "metadata": {
    "ExecuteTime": {
     "end_time": "2019-10-25T14:26:12.858520Z",
     "start_time": "2019-10-25T14:26:07.697975Z"
    },
    "slideshow": {
     "slide_type": "slide"
    }
   },
   "outputs": [
    {
     "data": {
      "text/html": [
       "\n",
       "\n",
       "\n",
       "\n",
       "\n",
       "\n",
       "  <div class=\"bk-root\" id=\"d5a16942-236b-41e3-9323-88eee767f3c1\" data-root-id=\"16970\"></div>\n"
      ]
     },
     "metadata": {},
     "output_type": "display_data"
    },
    {
     "data": {
      "application/javascript": [
       "(function(root) {\n",
       "  function embed_document(root) {\n",
       "    \n",
       "  var docs_json = {\"7bd03024-8eac-4f5a-a1ab-0e3e13e5e8ba\":{\"roots\":{\"references\":[{\"attributes\":{\"below\":[{\"id\":\"16981\",\"type\":\"LinearAxis\"}],\"center\":[{\"id\":\"16985\",\"type\":\"Grid\"},{\"id\":\"16990\",\"type\":\"Grid\"},{\"id\":\"17015\",\"type\":\"Legend\"}],\"left\":[{\"id\":\"16986\",\"type\":\"LinearAxis\"}],\"plot_height\":400,\"plot_width\":800,\"renderers\":[{\"id\":\"17007\",\"type\":\"GlyphRenderer\"},{\"id\":\"17020\",\"type\":\"GlyphRenderer\"},{\"id\":\"17025\",\"type\":\"GlyphRenderer\"},{\"id\":\"17041\",\"type\":\"GlyphRenderer\"},{\"id\":\"17046\",\"type\":\"GlyphRenderer\"},{\"id\":\"17066\",\"type\":\"GlyphRenderer\"}],\"title\":{\"id\":\"16971\",\"type\":\"Title\"},\"toolbar\":{\"id\":\"16997\",\"type\":\"Toolbar\"},\"x_range\":{\"id\":\"16973\",\"type\":\"DataRange1d\"},\"x_scale\":{\"id\":\"16977\",\"type\":\"LinearScale\"},\"y_range\":{\"id\":\"16975\",\"type\":\"DataRange1d\"},\"y_scale\":{\"id\":\"16979\",\"type\":\"LinearScale\"}},\"id\":\"16970\",\"subtype\":\"Figure\",\"type\":\"Plot\"},{\"attributes\":{\"axis_label\":\"SP.POP.DPND\",\"formatter\":{\"id\":\"17013\",\"type\":\"BasicTickFormatter\"},\"ticker\":{\"id\":\"16987\",\"type\":\"BasicTicker\"}},\"id\":\"16986\",\"type\":\"LinearAxis\"},{\"attributes\":{\"fill_alpha\":{\"value\":0.1},\"fill_color\":{\"value\":\"#1f77b4\"},\"line_alpha\":{\"value\":0.1},\"line_color\":{\"value\":\"#1f77b4\"},\"line_width\":{\"value\":3},\"x\":{\"field\":\"x\"},\"y\":{\"field\":\"y\"}},\"id\":\"17040\",\"type\":\"Circle\"},{\"attributes\":{\"bottom_units\":\"screen\",\"fill_alpha\":{\"value\":0.5},\"fill_color\":{\"value\":\"lightgrey\"},\"left_units\":\"screen\",\"level\":\"overlay\",\"line_alpha\":{\"value\":1.0},\"line_color\":{\"value\":\"black\"},\"line_dash\":[4,4],\"line_width\":{\"value\":2},\"render_mode\":\"css\",\"right_units\":\"screen\",\"top_units\":\"screen\"},\"id\":\"17014\",\"type\":\"BoxAnnotation\"},{\"attributes\":{},\"id\":\"17061\",\"type\":\"Selection\"},{\"attributes\":{\"data_source\":{\"id\":\"17004\",\"type\":\"ColumnDataSource\"},\"glyph\":{\"id\":\"17005\",\"type\":\"Line\"},\"hover_glyph\":null,\"muted_glyph\":null,\"nonselection_glyph\":{\"id\":\"17006\",\"type\":\"Line\"},\"selection_glyph\":null,\"view\":{\"id\":\"17008\",\"type\":\"CDSView\"}},\"id\":\"17007\",\"type\":\"GlyphRenderer\"},{\"attributes\":{\"callback\":null,\"data\":{\"x\":[\"2000\",\"2001\",\"2002\",\"2003\",\"2004\",\"2005\",\"2006\",\"2007\",\"2008\",\"2009\",\"2010\",\"2011\",\"2012\",\"2013\",\"2014\",\"2015\",\"2016\",\"2017\"],\"y\":[50.723128378093605,50.5231850468679,50.37496397566116,50.256690141387246,50.13330348053058,49.99664317017944,50.01583887693405,50.00026173733251,49.99506396621195,50.06955879546578,50.259015743666154,50.596556044189086,50.982156909542724,51.41864250914094,51.884735692147885,52.364033705503694,52.810673816186224,53.26354779686192]},\"selected\":{\"id\":\"17634\",\"type\":\"Selection\"},\"selection_policy\":{\"id\":\"17633\",\"type\":\"UnionRenderers\"}},\"id\":\"17063\",\"type\":\"ColumnDataSource\"},{\"attributes\":{},\"id\":\"16979\",\"type\":\"LinearScale\"},{\"attributes\":{},\"id\":\"17035\",\"type\":\"UnionRenderers\"},{\"attributes\":{\"source\":{\"id\":\"17004\",\"type\":\"ColumnDataSource\"}},\"id\":\"17008\",\"type\":\"CDSView\"},{\"attributes\":{},\"id\":\"17633\",\"type\":\"UnionRenderers\"},{\"attributes\":{\"callback\":null,\"data\":{\"x\":[\"2000\",\"2001\",\"2002\",\"2003\",\"2004\",\"2005\",\"2006\",\"2007\",\"2008\",\"2009\",\"2010\",\"2011\",\"2012\",\"2013\",\"2014\",\"2015\",\"2016\",\"2017\"],\"y\":[50.723128378093605,50.5231850468679,50.37496397566116,50.256690141387246,50.13330348053058,49.99664317017944,50.01583887693405,50.00026173733251,49.99506396621195,50.06955879546578,50.259015743666154,50.596556044189086,50.982156909542724,51.41864250914094,51.884735692147885,52.364033705503694,52.810673816186224,53.26354779686192]},\"selected\":{\"id\":\"17632\",\"type\":\"Selection\"},\"selection_policy\":{\"id\":\"17631\",\"type\":\"UnionRenderers\"}},\"id\":\"17043\",\"type\":\"ColumnDataSource\"},{\"attributes\":{\"callback\":null,\"data\":{\"x\":[\"2000\",\"2001\",\"2002\",\"2003\",\"2004\",\"2005\",\"2006\",\"2007\",\"2008\",\"2009\",\"2010\",\"2011\",\"2012\",\"2013\",\"2014\",\"2015\",\"2016\",\"2017\"],\"y\":[85.17405524987429,84.79540428030643,84.3330650787975,83.81501444931978,83.25253104425855,82.64268122833322,82.3537804564918,81.97232450086702,81.50749277844447,80.9718701788124,80.37500826423279,79.81216621177352,79.1507140134569,78.41620239885593,77.62490340829318,76.79105196030804,76.0307949316323,75.22397002256074]},\"selected\":{\"id\":\"17036\",\"type\":\"Selection\"},\"selection_policy\":{\"id\":\"17035\",\"type\":\"UnionRenderers\"}},\"id\":\"17017\",\"type\":\"ColumnDataSource\"},{\"attributes\":{\"fill_color\":{\"value\":\"#2CC775\"},\"line_color\":{\"value\":\"#2CC775\"},\"line_width\":{\"value\":3},\"x\":{\"field\":\"x\"},\"y\":{\"field\":\"y\"}},\"id\":\"17064\",\"type\":\"Circle\"},{\"attributes\":{},\"id\":\"17036\",\"type\":\"Selection\"},{\"attributes\":{\"data_source\":{\"id\":\"17063\",\"type\":\"ColumnDataSource\"},\"glyph\":{\"id\":\"17064\",\"type\":\"Circle\"},\"hover_glyph\":null,\"muted_glyph\":null,\"nonselection_glyph\":{\"id\":\"17065\",\"type\":\"Circle\"},\"selection_glyph\":null,\"view\":{\"id\":\"17067\",\"type\":\"CDSView\"}},\"id\":\"17066\",\"type\":\"GlyphRenderer\"},{\"attributes\":{\"callback\":null,\"data\":{\"x\":[\"2000\",\"2001\",\"2002\",\"2003\",\"2004\",\"2005\",\"2006\",\"2007\",\"2008\",\"2009\",\"2010\",\"2011\",\"2012\",\"2013\",\"2014\",\"2015\",\"2016\",\"2017\"],\"y\":[58.19409281505839,57.390788669127076,56.303566941143856,55.0777888204011,53.9356506864574,52.98456714221311,52.19880666201814,51.56524492183216,51.0555121914691,50.59642272787209,50.15377130229243,49.85370067049981,49.550004873173656,49.27463686577526,49.07562632818277,48.97354671460469,49.01384219923888,49.124886101246084]},\"selected\":{\"id\":\"17061\",\"type\":\"Selection\"},\"selection_policy\":{\"id\":\"17060\",\"type\":\"UnionRenderers\"}},\"id\":\"17038\",\"type\":\"ColumnDataSource\"},{\"attributes\":{\"grid_line_color\":null,\"ticker\":{\"id\":\"16982\",\"type\":\"BasicTicker\"}},\"id\":\"16985\",\"type\":\"Grid\"},{\"attributes\":{},\"id\":\"17013\",\"type\":\"BasicTickFormatter\"},{\"attributes\":{\"data_source\":{\"id\":\"17043\",\"type\":\"ColumnDataSource\"},\"glyph\":{\"id\":\"17044\",\"type\":\"Line\"},\"hover_glyph\":null,\"muted_glyph\":null,\"nonselection_glyph\":{\"id\":\"17045\",\"type\":\"Line\"},\"selection_glyph\":null,\"view\":{\"id\":\"17047\",\"type\":\"CDSView\"}},\"id\":\"17046\",\"type\":\"GlyphRenderer\"},{\"attributes\":{},\"id\":\"16991\",\"type\":\"PanTool\"},{\"attributes\":{\"data_source\":{\"id\":\"17017\",\"type\":\"ColumnDataSource\"},\"glyph\":{\"id\":\"17018\",\"type\":\"Circle\"},\"hover_glyph\":null,\"muted_glyph\":null,\"nonselection_glyph\":{\"id\":\"17019\",\"type\":\"Circle\"},\"selection_glyph\":null,\"view\":{\"id\":\"17021\",\"type\":\"CDSView\"}},\"id\":\"17020\",\"type\":\"GlyphRenderer\"},{\"attributes\":{\"source\":{\"id\":\"17063\",\"type\":\"ColumnDataSource\"}},\"id\":\"17067\",\"type\":\"CDSView\"},{\"attributes\":{\"callback\":null},\"id\":\"16975\",\"type\":\"DataRange1d\"},{\"attributes\":{\"fill_color\":{\"value\":\"#5430F1\"},\"line_color\":{\"value\":\"#5430F1\"},\"line_width\":{\"value\":3},\"x\":{\"field\":\"x\"},\"y\":{\"field\":\"y\"}},\"id\":\"17039\",\"type\":\"Circle\"},{\"attributes\":{},\"id\":\"16992\",\"type\":\"WheelZoomTool\"},{\"attributes\":{\"items\":[{\"id\":\"17016\",\"type\":\"LegendItem\"},{\"id\":\"17037\",\"type\":\"LegendItem\"},{\"id\":\"17062\",\"type\":\"LegendItem\"}],\"location\":\"bottom_left\"},\"id\":\"17015\",\"type\":\"Legend\"},{\"attributes\":{},\"id\":\"17631\",\"type\":\"UnionRenderers\"},{\"attributes\":{\"data_source\":{\"id\":\"17038\",\"type\":\"ColumnDataSource\"},\"glyph\":{\"id\":\"17039\",\"type\":\"Circle\"},\"hover_glyph\":null,\"muted_glyph\":null,\"nonselection_glyph\":{\"id\":\"17040\",\"type\":\"Circle\"},\"selection_glyph\":null,\"view\":{\"id\":\"17042\",\"type\":\"CDSView\"}},\"id\":\"17041\",\"type\":\"GlyphRenderer\"},{\"attributes\":{},\"id\":\"16987\",\"type\":\"BasicTicker\"},{\"attributes\":{\"label\":{\"value\":\"LDCs\"},\"renderers\":[{\"id\":\"17007\",\"type\":\"GlyphRenderer\"}]},\"id\":\"17016\",\"type\":\"LegendItem\"},{\"attributes\":{\"callback\":null},\"id\":\"16973\",\"type\":\"DataRange1d\"},{\"attributes\":{\"dimension\":1,\"grid_line_alpha\":0.5,\"ticker\":{\"id\":\"16987\",\"type\":\"BasicTicker\"}},\"id\":\"16990\",\"type\":\"Grid\"},{\"attributes\":{},\"id\":\"17059\",\"type\":\"Selection\"},{\"attributes\":{},\"id\":\"16994\",\"type\":\"SaveTool\"},{\"attributes\":{},\"id\":\"17634\",\"type\":\"Selection\"},{\"attributes\":{\"line_color\":\"#5430F1\",\"x\":{\"field\":\"x\"},\"y\":{\"field\":\"y\"}},\"id\":\"17023\",\"type\":\"Line\"},{\"attributes\":{},\"id\":\"17632\",\"type\":\"Selection\"},{\"attributes\":{\"source\":{\"id\":\"17038\",\"type\":\"ColumnDataSource\"}},\"id\":\"17042\",\"type\":\"CDSView\"},{\"attributes\":{\"line_color\":\"#FA1857\",\"x\":{\"field\":\"x\"},\"y\":{\"field\":\"y\"}},\"id\":\"17005\",\"type\":\"Line\"},{\"attributes\":{},\"id\":\"17034\",\"type\":\"Selection\"},{\"attributes\":{},\"id\":\"16995\",\"type\":\"ResetTool\"},{\"attributes\":{\"fill_color\":{\"value\":\"#FA1857\"},\"line_color\":{\"value\":\"#FA1857\"},\"line_width\":{\"value\":3},\"x\":{\"field\":\"x\"},\"y\":{\"field\":\"y\"}},\"id\":\"17018\",\"type\":\"Circle\"},{\"attributes\":{\"text\":\"Age dependency ratio (% of working-age population) weighted against Population ages 15-64, total\"},\"id\":\"16971\",\"type\":\"Title\"},{\"attributes\":{\"line_color\":\"#2CC775\",\"x\":{\"field\":\"x\"},\"y\":{\"field\":\"y\"}},\"id\":\"17044\",\"type\":\"Line\"},{\"attributes\":{\"callback\":null,\"data\":{\"x\":[\"2000\",\"2001\",\"2002\",\"2003\",\"2004\",\"2005\",\"2006\",\"2007\",\"2008\",\"2009\",\"2010\",\"2011\",\"2012\",\"2013\",\"2014\",\"2015\",\"2016\",\"2017\"],\"y\":[85.17405524987429,84.79540428030643,84.3330650787975,83.81501444931978,83.25253104425855,82.64268122833322,82.3537804564918,81.97232450086702,81.50749277844447,80.9718701788124,80.37500826423279,79.81216621177352,79.1507140134569,78.41620239885593,77.62490340829318,76.79105196030804,76.0307949316323,75.22397002256074]},\"selected\":{\"id\":\"17034\",\"type\":\"Selection\"},\"selection_policy\":{\"id\":\"17033\",\"type\":\"UnionRenderers\"}},\"id\":\"17004\",\"type\":\"ColumnDataSource\"},{\"attributes\":{\"fill_alpha\":{\"value\":0.1},\"fill_color\":{\"value\":\"#1f77b4\"},\"line_alpha\":{\"value\":0.1},\"line_color\":{\"value\":\"#1f77b4\"},\"line_width\":{\"value\":3},\"x\":{\"field\":\"x\"},\"y\":{\"field\":\"y\"}},\"id\":\"17019\",\"type\":\"Circle\"},{\"attributes\":{\"label\":{\"value\":\"OECD\"},\"renderers\":[{\"id\":\"17046\",\"type\":\"GlyphRenderer\"}]},\"id\":\"17062\",\"type\":\"LegendItem\"},{\"attributes\":{\"source\":{\"id\":\"17017\",\"type\":\"ColumnDataSource\"}},\"id\":\"17021\",\"type\":\"CDSView\"},{\"attributes\":{\"active_drag\":\"auto\",\"active_inspect\":\"auto\",\"active_multi\":null,\"active_scroll\":\"auto\",\"active_tap\":\"auto\",\"tools\":[{\"id\":\"16991\",\"type\":\"PanTool\"},{\"id\":\"16992\",\"type\":\"WheelZoomTool\"},{\"id\":\"16993\",\"type\":\"BoxZoomTool\"},{\"id\":\"16994\",\"type\":\"SaveTool\"},{\"id\":\"16995\",\"type\":\"ResetTool\"},{\"id\":\"16996\",\"type\":\"HelpTool\"},{\"id\":\"17068\",\"type\":\"HoverTool\"}]},\"id\":\"16997\",\"type\":\"Toolbar\"},{\"attributes\":{\"callback\":null,\"data\":{\"x\":[\"2000\",\"2001\",\"2002\",\"2003\",\"2004\",\"2005\",\"2006\",\"2007\",\"2008\",\"2009\",\"2010\",\"2011\",\"2012\",\"2013\",\"2014\",\"2015\",\"2016\",\"2017\"],\"y\":[58.19409281505839,57.390788669127076,56.303566941143856,55.0777888204011,53.9356506864574,52.98456714221311,52.19880666201814,51.56524492183216,51.0555121914691,50.59642272787209,50.15377130229243,49.85370067049981,49.550004873173656,49.27463686577526,49.07562632818277,48.97354671460469,49.01384219923888,49.124886101246084]},\"selected\":{\"id\":\"17059\",\"type\":\"Selection\"},\"selection_policy\":{\"id\":\"17058\",\"type\":\"UnionRenderers\"}},\"id\":\"17022\",\"type\":\"ColumnDataSource\"},{\"attributes\":{\"line_alpha\":0.1,\"line_color\":\"#1f77b4\",\"x\":{\"field\":\"x\"},\"y\":{\"field\":\"y\"}},\"id\":\"17006\",\"type\":\"Line\"},{\"attributes\":{\"line_alpha\":0.1,\"line_color\":\"#1f77b4\",\"x\":{\"field\":\"x\"},\"y\":{\"field\":\"y\"}},\"id\":\"17045\",\"type\":\"Line\"},{\"attributes\":{\"callback\":null,\"tooltips\":\"                \\n        <div style=padding=5px>Year:@x</div>\\n        <div style=padding=5px>Value:@y</div>        \\n        \"},\"id\":\"17068\",\"type\":\"HoverTool\"},{\"attributes\":{\"data_source\":{\"id\":\"17022\",\"type\":\"ColumnDataSource\"},\"glyph\":{\"id\":\"17023\",\"type\":\"Line\"},\"hover_glyph\":null,\"muted_glyph\":null,\"nonselection_glyph\":{\"id\":\"17024\",\"type\":\"Line\"},\"selection_glyph\":null,\"view\":{\"id\":\"17026\",\"type\":\"CDSView\"}},\"id\":\"17025\",\"type\":\"GlyphRenderer\"},{\"attributes\":{\"source\":{\"id\":\"17043\",\"type\":\"ColumnDataSource\"}},\"id\":\"17047\",\"type\":\"CDSView\"},{\"attributes\":{\"overlay\":{\"id\":\"17014\",\"type\":\"BoxAnnotation\"}},\"id\":\"16993\",\"type\":\"BoxZoomTool\"},{\"attributes\":{},\"id\":\"17033\",\"type\":\"UnionRenderers\"},{\"attributes\":{},\"id\":\"16977\",\"type\":\"LinearScale\"},{\"attributes\":{\"fill_alpha\":{\"value\":0.1},\"fill_color\":{\"value\":\"#1f77b4\"},\"line_alpha\":{\"value\":0.1},\"line_color\":{\"value\":\"#1f77b4\"},\"line_width\":{\"value\":3},\"x\":{\"field\":\"x\"},\"y\":{\"field\":\"y\"}},\"id\":\"17065\",\"type\":\"Circle\"},{\"attributes\":{\"source\":{\"id\":\"17022\",\"type\":\"ColumnDataSource\"}},\"id\":\"17026\",\"type\":\"CDSView\"},{\"attributes\":{},\"id\":\"16982\",\"type\":\"BasicTicker\"},{\"attributes\":{},\"id\":\"17011\",\"type\":\"BasicTickFormatter\"},{\"attributes\":{\"line_alpha\":0.1,\"line_color\":\"#1f77b4\",\"x\":{\"field\":\"x\"},\"y\":{\"field\":\"y\"}},\"id\":\"17024\",\"type\":\"Line\"},{\"attributes\":{},\"id\":\"17058\",\"type\":\"UnionRenderers\"},{\"attributes\":{},\"id\":\"17060\",\"type\":\"UnionRenderers\"},{\"attributes\":{\"label\":{\"value\":\"Developing excluding LDCs\"},\"renderers\":[{\"id\":\"17025\",\"type\":\"GlyphRenderer\"}]},\"id\":\"17037\",\"type\":\"LegendItem\"},{\"attributes\":{},\"id\":\"16996\",\"type\":\"HelpTool\"},{\"attributes\":{\"axis_label\":\"Years\",\"formatter\":{\"id\":\"17011\",\"type\":\"BasicTickFormatter\"},\"ticker\":{\"id\":\"16982\",\"type\":\"BasicTicker\"}},\"id\":\"16981\",\"type\":\"LinearAxis\"}],\"root_ids\":[\"16970\"]},\"title\":\"Bokeh Application\",\"version\":\"1.3.4\"}};\n",
       "  var render_items = [{\"docid\":\"7bd03024-8eac-4f5a-a1ab-0e3e13e5e8ba\",\"roots\":{\"16970\":\"d5a16942-236b-41e3-9323-88eee767f3c1\"}}];\n",
       "  root.Bokeh.embed.embed_items_notebook(docs_json, render_items);\n",
       "\n",
       "  }\n",
       "  if (root.Bokeh !== undefined) {\n",
       "    embed_document(root);\n",
       "  } else {\n",
       "    var attempts = 0;\n",
       "    var timer = setInterval(function(root) {\n",
       "      if (root.Bokeh !== undefined) {\n",
       "        embed_document(root);\n",
       "        clearInterval(timer);\n",
       "      }\n",
       "      attempts++;\n",
       "      if (attempts > 100) {\n",
       "        console.log(\"Bokeh: ERROR: Unable to run BokehJS code because BokehJS library is missing\");\n",
       "        clearInterval(timer);\n",
       "      }\n",
       "    }, 10, root)\n",
       "  }\n",
       "})(window);"
      ],
      "application/vnd.bokehjs_exec.v0+json": ""
     },
     "metadata": {
      "application/vnd.bokehjs_exec.v0+json": {
       "id": "16970"
      }
     },
     "output_type": "display_data"
    }
   ],
   "source": [
    "# Age dependency ratio (% of working-age population)\n",
    "years = list(map(str, list(range(2000,2018))))\n",
    "result = show_weighted_average(years, 'SP.POP.DPND', 'SP.POP.1564.TO', ['LDCs', 'Developing excluding LDCs', 'OECD'])"
   ]
  },
  {
   "cell_type": "code",
   "execution_count": 40,
   "metadata": {
    "ExecuteTime": {
     "end_time": "2019-10-25T14:26:17.747160Z",
     "start_time": "2019-10-25T14:26:12.861357Z"
    },
    "slideshow": {
     "slide_type": "slide"
    }
   },
   "outputs": [
    {
     "data": {
      "text/html": [
       "\n",
       "\n",
       "\n",
       "\n",
       "\n",
       "\n",
       "  <div class=\"bk-root\" id=\"e62aa7eb-b52b-4b8c-af0f-a9c021fb5cd9\" data-root-id=\"17743\"></div>\n"
      ]
     },
     "metadata": {},
     "output_type": "display_data"
    },
    {
     "data": {
      "application/javascript": [
       "(function(root) {\n",
       "  function embed_document(root) {\n",
       "    \n",
       "  var docs_json = {\"113c419e-dd82-4f1b-ba93-101c6d8d040e\":{\"roots\":{\"references\":[{\"attributes\":{\"below\":[{\"id\":\"17754\",\"type\":\"LinearAxis\"}],\"center\":[{\"id\":\"17758\",\"type\":\"Grid\"},{\"id\":\"17763\",\"type\":\"Grid\"},{\"id\":\"17788\",\"type\":\"Legend\"}],\"left\":[{\"id\":\"17759\",\"type\":\"LinearAxis\"}],\"plot_height\":400,\"plot_width\":800,\"renderers\":[{\"id\":\"17780\",\"type\":\"GlyphRenderer\"},{\"id\":\"17793\",\"type\":\"GlyphRenderer\"},{\"id\":\"17798\",\"type\":\"GlyphRenderer\"},{\"id\":\"17814\",\"type\":\"GlyphRenderer\"},{\"id\":\"17819\",\"type\":\"GlyphRenderer\"},{\"id\":\"17839\",\"type\":\"GlyphRenderer\"}],\"title\":{\"id\":\"17744\",\"type\":\"Title\"},\"toolbar\":{\"id\":\"17770\",\"type\":\"Toolbar\"},\"x_range\":{\"id\":\"17746\",\"type\":\"DataRange1d\"},\"x_scale\":{\"id\":\"17750\",\"type\":\"LinearScale\"},\"y_range\":{\"id\":\"17748\",\"type\":\"DataRange1d\"},\"y_scale\":{\"id\":\"17752\",\"type\":\"LinearScale\"}},\"id\":\"17743\",\"subtype\":\"Figure\",\"type\":\"Plot\"},{\"attributes\":{\"callback\":null},\"id\":\"17746\",\"type\":\"DataRange1d\"},{\"attributes\":{\"source\":{\"id\":\"17777\",\"type\":\"ColumnDataSource\"}},\"id\":\"17781\",\"type\":\"CDSView\"},{\"attributes\":{\"fill_alpha\":{\"value\":0.1},\"fill_color\":{\"value\":\"#1f77b4\"},\"line_alpha\":{\"value\":0.1},\"line_color\":{\"value\":\"#1f77b4\"},\"line_width\":{\"value\":3},\"x\":{\"field\":\"x\"},\"y\":{\"field\":\"y\"}},\"id\":\"17792\",\"type\":\"Circle\"},{\"attributes\":{\"fill_color\":{\"value\":\"#5430F1\"},\"line_color\":{\"value\":\"#5430F1\"},\"line_width\":{\"value\":3},\"x\":{\"field\":\"x\"},\"y\":{\"field\":\"y\"}},\"id\":\"17812\",\"type\":\"Circle\"},{\"attributes\":{},\"id\":\"17765\",\"type\":\"WheelZoomTool\"},{\"attributes\":{\"fill_alpha\":{\"value\":0.1},\"fill_color\":{\"value\":\"#1f77b4\"},\"line_alpha\":{\"value\":0.1},\"line_color\":{\"value\":\"#1f77b4\"},\"line_width\":{\"value\":3},\"x\":{\"field\":\"x\"},\"y\":{\"field\":\"y\"}},\"id\":\"17813\",\"type\":\"Circle\"},{\"attributes\":{\"source\":{\"id\":\"17811\",\"type\":\"ColumnDataSource\"}},\"id\":\"17815\",\"type\":\"CDSView\"},{\"attributes\":{},\"id\":\"17806\",\"type\":\"UnionRenderers\"},{\"attributes\":{},\"id\":\"18423\",\"type\":\"Selection\"},{\"attributes\":{\"line_alpha\":0.1,\"line_color\":\"#1f77b4\",\"x\":{\"field\":\"x\"},\"y\":{\"field\":\"y\"}},\"id\":\"17797\",\"type\":\"Line\"},{\"attributes\":{},\"id\":\"17769\",\"type\":\"HelpTool\"},{\"attributes\":{\"callback\":null,\"data\":{\"x\":[\"2000\",\"2001\",\"2002\",\"2003\",\"2004\",\"2005\",\"2006\",\"2007\",\"2008\",\"2009\",\"2010\",\"2011\",\"2012\",\"2013\",\"2014\",\"2015\",\"2016\",\"2017\"],\"y\":[65.83301652521625,65.8684425528842,65.73427571808543,65.64919764713692,65.66603925352581,65.747247617559,65.82733188121632,65.79867099451198,65.67749694606924,65.23243344174506,65.14313911051282,65.0042687463501,64.80493437351076,64.6705264038209,64.61325967142318,64.54779771445858,64.48134681180402,64.84243717269096]},\"selected\":{\"id\":\"17807\",\"type\":\"Selection\"},\"selection_policy\":{\"id\":\"17806\",\"type\":\"UnionRenderers\"}},\"id\":\"17777\",\"type\":\"ColumnDataSource\"},{\"attributes\":{\"label\":{\"value\":\"Developing excluding LDCs\"},\"renderers\":[{\"id\":\"17798\",\"type\":\"GlyphRenderer\"}]},\"id\":\"17810\",\"type\":\"LegendItem\"},{\"attributes\":{\"dimension\":1,\"grid_line_alpha\":0.5,\"ticker\":{\"id\":\"17760\",\"type\":\"BasicTicker\"}},\"id\":\"17763\",\"type\":\"Grid\"},{\"attributes\":{},\"id\":\"17767\",\"type\":\"SaveTool\"},{\"attributes\":{},\"id\":\"18424\",\"type\":\"UnionRenderers\"},{\"attributes\":{\"grid_line_color\":null,\"ticker\":{\"id\":\"17755\",\"type\":\"BasicTicker\"}},\"id\":\"17758\",\"type\":\"Grid\"},{\"attributes\":{\"callback\":null,\"data\":{\"x\":[\"2000\",\"2001\",\"2002\",\"2003\",\"2004\",\"2005\",\"2006\",\"2007\",\"2008\",\"2009\",\"2010\",\"2011\",\"2012\",\"2013\",\"2014\",\"2015\",\"2016\",\"2017\"],\"y\":[62.02243357574345,61.64016680037185,61.1618940952195,60.78637558710965,60.735995768634645,60.53607853298226,60.269713445332776,60.075721745799676,59.750477553036504,59.25835137121876,58.96155327114154,58.71265955540014,58.47689078553427,58.318144479363795,58.199985004749834,58.00138011342064,57.745664542750994,57.66029265801793]},\"selected\":{\"id\":\"17832\",\"type\":\"Selection\"},\"selection_policy\":{\"id\":\"17831\",\"type\":\"UnionRenderers\"}},\"id\":\"17795\",\"type\":\"ColumnDataSource\"},{\"attributes\":{\"callback\":null,\"tooltips\":\"                \\n        <div style=padding=5px>Year:@x</div>\\n        <div style=padding=5px>Value:@y</div>        \\n        \"},\"id\":\"17841\",\"type\":\"HoverTool\"},{\"attributes\":{},\"id\":\"18422\",\"type\":\"UnionRenderers\"},{\"attributes\":{},\"id\":\"17755\",\"type\":\"BasicTicker\"},{\"attributes\":{\"data_source\":{\"id\":\"17816\",\"type\":\"ColumnDataSource\"},\"glyph\":{\"id\":\"17817\",\"type\":\"Line\"},\"hover_glyph\":null,\"muted_glyph\":null,\"nonselection_glyph\":{\"id\":\"17818\",\"type\":\"Line\"},\"selection_glyph\":null,\"view\":{\"id\":\"17820\",\"type\":\"CDSView\"}},\"id\":\"17819\",\"type\":\"GlyphRenderer\"},{\"attributes\":{\"source\":{\"id\":\"17795\",\"type\":\"ColumnDataSource\"}},\"id\":\"17799\",\"type\":\"CDSView\"},{\"attributes\":{\"fill_alpha\":{\"value\":0.1},\"fill_color\":{\"value\":\"#1f77b4\"},\"line_alpha\":{\"value\":0.1},\"line_color\":{\"value\":\"#1f77b4\"},\"line_width\":{\"value\":3},\"x\":{\"field\":\"x\"},\"y\":{\"field\":\"y\"}},\"id\":\"17838\",\"type\":\"Circle\"},{\"attributes\":{},\"id\":\"17760\",\"type\":\"BasicTicker\"},{\"attributes\":{\"callback\":null,\"data\":{\"x\":[\"2000\",\"2001\",\"2002\",\"2003\",\"2004\",\"2005\",\"2006\",\"2007\",\"2008\",\"2009\",\"2010\",\"2011\",\"2012\",\"2013\",\"2014\",\"2015\",\"2016\",\"2017\"],\"y\":[56.40865141951019,56.15551087542925,55.78176951023597,55.5296417520831,55.589161503213,55.967412284918765,56.41051699770243,56.73108736593439,56.62697234239764,55.124996476006956,54.84009591169655,54.959388942012374,55.0534575823381,55.05901270441525,55.304467418720705,55.67918767759019,56.10556899868917,56.579633263980924]},\"selected\":{\"id\":\"18425\",\"type\":\"Selection\"},\"selection_policy\":{\"id\":\"18424\",\"type\":\"UnionRenderers\"}},\"id\":\"17836\",\"type\":\"ColumnDataSource\"},{\"attributes\":{},\"id\":\"17768\",\"type\":\"ResetTool\"},{\"attributes\":{\"callback\":null,\"data\":{\"x\":[\"2000\",\"2001\",\"2002\",\"2003\",\"2004\",\"2005\",\"2006\",\"2007\",\"2008\",\"2009\",\"2010\",\"2011\",\"2012\",\"2013\",\"2014\",\"2015\",\"2016\",\"2017\"],\"y\":[56.40865141951019,56.15551087542925,55.78176951023597,55.5296417520831,55.589161503213,55.967412284918765,56.41051699770243,56.73108736593439,56.62697234239764,55.124996476006956,54.84009591169655,54.959388942012374,55.0534575823381,55.05901270441525,55.304467418720705,55.67918767759019,56.10556899868917,56.579633263980924]},\"selected\":{\"id\":\"18423\",\"type\":\"Selection\"},\"selection_policy\":{\"id\":\"18422\",\"type\":\"UnionRenderers\"}},\"id\":\"17816\",\"type\":\"ColumnDataSource\"},{\"attributes\":{\"source\":{\"id\":\"17836\",\"type\":\"ColumnDataSource\"}},\"id\":\"17840\",\"type\":\"CDSView\"},{\"attributes\":{\"axis_label\":\"SL.EMP.TOTL.SP.ZS\",\"formatter\":{\"id\":\"17786\",\"type\":\"BasicTickFormatter\"},\"ticker\":{\"id\":\"17760\",\"type\":\"BasicTicker\"}},\"id\":\"17759\",\"type\":\"LinearAxis\"},{\"attributes\":{\"source\":{\"id\":\"17790\",\"type\":\"ColumnDataSource\"}},\"id\":\"17794\",\"type\":\"CDSView\"},{\"attributes\":{\"active_drag\":\"auto\",\"active_inspect\":\"auto\",\"active_multi\":null,\"active_scroll\":\"auto\",\"active_tap\":\"auto\",\"tools\":[{\"id\":\"17764\",\"type\":\"PanTool\"},{\"id\":\"17765\",\"type\":\"WheelZoomTool\"},{\"id\":\"17766\",\"type\":\"BoxZoomTool\"},{\"id\":\"17767\",\"type\":\"SaveTool\"},{\"id\":\"17768\",\"type\":\"ResetTool\"},{\"id\":\"17769\",\"type\":\"HelpTool\"},{\"id\":\"17841\",\"type\":\"HoverTool\"}]},\"id\":\"17770\",\"type\":\"Toolbar\"},{\"attributes\":{\"axis_label\":\"Years\",\"formatter\":{\"id\":\"17784\",\"type\":\"BasicTickFormatter\"},\"ticker\":{\"id\":\"17755\",\"type\":\"BasicTicker\"}},\"id\":\"17754\",\"type\":\"LinearAxis\"},{\"attributes\":{\"line_alpha\":0.1,\"line_color\":\"#1f77b4\",\"x\":{\"field\":\"x\"},\"y\":{\"field\":\"y\"}},\"id\":\"17818\",\"type\":\"Line\"},{\"attributes\":{\"data_source\":{\"id\":\"17790\",\"type\":\"ColumnDataSource\"},\"glyph\":{\"id\":\"17791\",\"type\":\"Circle\"},\"hover_glyph\":null,\"muted_glyph\":null,\"nonselection_glyph\":{\"id\":\"17792\",\"type\":\"Circle\"},\"selection_glyph\":null,\"view\":{\"id\":\"17794\",\"type\":\"CDSView\"}},\"id\":\"17793\",\"type\":\"GlyphRenderer\"},{\"attributes\":{\"overlay\":{\"id\":\"17787\",\"type\":\"BoxAnnotation\"}},\"id\":\"17766\",\"type\":\"BoxZoomTool\"},{\"attributes\":{\"line_color\":\"#FA1857\",\"x\":{\"field\":\"x\"},\"y\":{\"field\":\"y\"}},\"id\":\"17778\",\"type\":\"Line\"},{\"attributes\":{\"callback\":null,\"data\":{\"x\":[\"2000\",\"2001\",\"2002\",\"2003\",\"2004\",\"2005\",\"2006\",\"2007\",\"2008\",\"2009\",\"2010\",\"2011\",\"2012\",\"2013\",\"2014\",\"2015\",\"2016\",\"2017\"],\"y\":[65.83301652521625,65.8684425528842,65.73427571808543,65.64919764713692,65.66603925352581,65.747247617559,65.82733188121632,65.79867099451198,65.67749694606924,65.23243344174506,65.14313911051282,65.0042687463501,64.80493437351076,64.6705264038209,64.61325967142318,64.54779771445858,64.48134681180402,64.84243717269096]},\"selected\":{\"id\":\"17809\",\"type\":\"Selection\"},\"selection_policy\":{\"id\":\"17808\",\"type\":\"UnionRenderers\"}},\"id\":\"17790\",\"type\":\"ColumnDataSource\"},{\"attributes\":{\"source\":{\"id\":\"17816\",\"type\":\"ColumnDataSource\"}},\"id\":\"17820\",\"type\":\"CDSView\"},{\"attributes\":{\"label\":{\"value\":\"LDCs\"},\"renderers\":[{\"id\":\"17780\",\"type\":\"GlyphRenderer\"}]},\"id\":\"17789\",\"type\":\"LegendItem\"},{\"attributes\":{},\"id\":\"18425\",\"type\":\"Selection\"},{\"attributes\":{\"bottom_units\":\"screen\",\"fill_alpha\":{\"value\":0.5},\"fill_color\":{\"value\":\"lightgrey\"},\"left_units\":\"screen\",\"level\":\"overlay\",\"line_alpha\":{\"value\":1.0},\"line_color\":{\"value\":\"black\"},\"line_dash\":[4,4],\"line_width\":{\"value\":2},\"render_mode\":\"css\",\"right_units\":\"screen\",\"top_units\":\"screen\"},\"id\":\"17787\",\"type\":\"BoxAnnotation\"},{\"attributes\":{},\"id\":\"17833\",\"type\":\"UnionRenderers\"},{\"attributes\":{},\"id\":\"17808\",\"type\":\"UnionRenderers\"},{\"attributes\":{},\"id\":\"17832\",\"type\":\"Selection\"},{\"attributes\":{},\"id\":\"17750\",\"type\":\"LinearScale\"},{\"attributes\":{\"callback\":null,\"data\":{\"x\":[\"2000\",\"2001\",\"2002\",\"2003\",\"2004\",\"2005\",\"2006\",\"2007\",\"2008\",\"2009\",\"2010\",\"2011\",\"2012\",\"2013\",\"2014\",\"2015\",\"2016\",\"2017\"],\"y\":[62.02243357574345,61.64016680037185,61.1618940952195,60.78637558710965,60.735995768634645,60.53607853298226,60.269713445332776,60.075721745799676,59.750477553036504,59.25835137121876,58.96155327114154,58.71265955540014,58.47689078553427,58.318144479363795,58.199985004749834,58.00138011342064,57.745664542750994,57.66029265801793]},\"selected\":{\"id\":\"17834\",\"type\":\"Selection\"},\"selection_policy\":{\"id\":\"17833\",\"type\":\"UnionRenderers\"}},\"id\":\"17811\",\"type\":\"ColumnDataSource\"},{\"attributes\":{\"line_color\":\"#2CC775\",\"x\":{\"field\":\"x\"},\"y\":{\"field\":\"y\"}},\"id\":\"17817\",\"type\":\"Line\"},{\"attributes\":{\"data_source\":{\"id\":\"17836\",\"type\":\"ColumnDataSource\"},\"glyph\":{\"id\":\"17837\",\"type\":\"Circle\"},\"hover_glyph\":null,\"muted_glyph\":null,\"nonselection_glyph\":{\"id\":\"17838\",\"type\":\"Circle\"},\"selection_glyph\":null,\"view\":{\"id\":\"17840\",\"type\":\"CDSView\"}},\"id\":\"17839\",\"type\":\"GlyphRenderer\"},{\"attributes\":{\"text\":\"Employment to population ratio, 15+, total (%) (modeled ILO estimate) weighted against Population, total\"},\"id\":\"17744\",\"type\":\"Title\"},{\"attributes\":{\"data_source\":{\"id\":\"17795\",\"type\":\"ColumnDataSource\"},\"glyph\":{\"id\":\"17796\",\"type\":\"Line\"},\"hover_glyph\":null,\"muted_glyph\":null,\"nonselection_glyph\":{\"id\":\"17797\",\"type\":\"Line\"},\"selection_glyph\":null,\"view\":{\"id\":\"17799\",\"type\":\"CDSView\"}},\"id\":\"17798\",\"type\":\"GlyphRenderer\"},{\"attributes\":{},\"id\":\"17786\",\"type\":\"BasicTickFormatter\"},{\"attributes\":{},\"id\":\"17809\",\"type\":\"Selection\"},{\"attributes\":{},\"id\":\"17764\",\"type\":\"PanTool\"},{\"attributes\":{},\"id\":\"17834\",\"type\":\"Selection\"},{\"attributes\":{},\"id\":\"17752\",\"type\":\"LinearScale\"},{\"attributes\":{\"fill_color\":{\"value\":\"#FA1857\"},\"line_color\":{\"value\":\"#FA1857\"},\"line_width\":{\"value\":3},\"x\":{\"field\":\"x\"},\"y\":{\"field\":\"y\"}},\"id\":\"17791\",\"type\":\"Circle\"},{\"attributes\":{},\"id\":\"17807\",\"type\":\"Selection\"},{\"attributes\":{\"items\":[{\"id\":\"17789\",\"type\":\"LegendItem\"},{\"id\":\"17810\",\"type\":\"LegendItem\"},{\"id\":\"17835\",\"type\":\"LegendItem\"}],\"location\":\"bottom_left\"},\"id\":\"17788\",\"type\":\"Legend\"},{\"attributes\":{\"callback\":null},\"id\":\"17748\",\"type\":\"DataRange1d\"},{\"attributes\":{\"data_source\":{\"id\":\"17777\",\"type\":\"ColumnDataSource\"},\"glyph\":{\"id\":\"17778\",\"type\":\"Line\"},\"hover_glyph\":null,\"muted_glyph\":null,\"nonselection_glyph\":{\"id\":\"17779\",\"type\":\"Line\"},\"selection_glyph\":null,\"view\":{\"id\":\"17781\",\"type\":\"CDSView\"}},\"id\":\"17780\",\"type\":\"GlyphRenderer\"},{\"attributes\":{\"data_source\":{\"id\":\"17811\",\"type\":\"ColumnDataSource\"},\"glyph\":{\"id\":\"17812\",\"type\":\"Circle\"},\"hover_glyph\":null,\"muted_glyph\":null,\"nonselection_glyph\":{\"id\":\"17813\",\"type\":\"Circle\"},\"selection_glyph\":null,\"view\":{\"id\":\"17815\",\"type\":\"CDSView\"}},\"id\":\"17814\",\"type\":\"GlyphRenderer\"},{\"attributes\":{\"label\":{\"value\":\"OECD\"},\"renderers\":[{\"id\":\"17819\",\"type\":\"GlyphRenderer\"}]},\"id\":\"17835\",\"type\":\"LegendItem\"},{\"attributes\":{},\"id\":\"17784\",\"type\":\"BasicTickFormatter\"},{\"attributes\":{\"line_color\":\"#5430F1\",\"x\":{\"field\":\"x\"},\"y\":{\"field\":\"y\"}},\"id\":\"17796\",\"type\":\"Line\"},{\"attributes\":{\"fill_color\":{\"value\":\"#2CC775\"},\"line_color\":{\"value\":\"#2CC775\"},\"line_width\":{\"value\":3},\"x\":{\"field\":\"x\"},\"y\":{\"field\":\"y\"}},\"id\":\"17837\",\"type\":\"Circle\"},{\"attributes\":{},\"id\":\"17831\",\"type\":\"UnionRenderers\"},{\"attributes\":{\"line_alpha\":0.1,\"line_color\":\"#1f77b4\",\"x\":{\"field\":\"x\"},\"y\":{\"field\":\"y\"}},\"id\":\"17779\",\"type\":\"Line\"}],\"root_ids\":[\"17743\"]},\"title\":\"Bokeh Application\",\"version\":\"1.3.4\"}};\n",
       "  var render_items = [{\"docid\":\"113c419e-dd82-4f1b-ba93-101c6d8d040e\",\"roots\":{\"17743\":\"e62aa7eb-b52b-4b8c-af0f-a9c021fb5cd9\"}}];\n",
       "  root.Bokeh.embed.embed_items_notebook(docs_json, render_items);\n",
       "\n",
       "  }\n",
       "  if (root.Bokeh !== undefined) {\n",
       "    embed_document(root);\n",
       "  } else {\n",
       "    var attempts = 0;\n",
       "    var timer = setInterval(function(root) {\n",
       "      if (root.Bokeh !== undefined) {\n",
       "        embed_document(root);\n",
       "        clearInterval(timer);\n",
       "      }\n",
       "      attempts++;\n",
       "      if (attempts > 100) {\n",
       "        console.log(\"Bokeh: ERROR: Unable to run BokehJS code because BokehJS library is missing\");\n",
       "        clearInterval(timer);\n",
       "      }\n",
       "    }, 10, root)\n",
       "  }\n",
       "})(window);"
      ],
      "application/vnd.bokehjs_exec.v0+json": ""
     },
     "metadata": {
      "application/vnd.bokehjs_exec.v0+json": {
       "id": "17743"
      }
     },
     "output_type": "display_data"
    }
   ],
   "source": [
    "#Employment to population ratio, 15+, total (%) (modeled ILO estimate)\n",
    "# Age dependency ratio (% of working-age population)\n",
    "years = list(map(str, list(range(2000,2018))))\n",
    "result = show_weighted_average(years, 'SL.EMP.TOTL.SP.ZS', 'SP.POP.TOTL', ['LDCs', 'Developing excluding LDCs', 'OECD'])"
   ]
  },
  {
   "cell_type": "markdown",
   "metadata": {
    "slideshow": {
     "slide_type": "slide"
    }
   },
   "source": [
    "# Some very general ideas"
   ]
  },
  {
   "cell_type": "markdown",
   "metadata": {
    "slideshow": {
     "slide_type": "slide"
    }
   },
   "source": [
    "# The world is becoming increasingly unequal"
   ]
  },
  {
   "cell_type": "markdown",
   "metadata": {
    "slideshow": {
     "slide_type": "slide"
    }
   },
   "source": [
    "# Great progress in certain areas, still an awful lot to do"
   ]
  },
  {
   "cell_type": "markdown",
   "metadata": {
    "slideshow": {
     "slide_type": "slide"
    }
   },
   "source": [
    "# Sustainable development in the LDCs won't happen without addressing gender inequalities"
   ]
  },
  {
   "cell_type": "markdown",
   "metadata": {
    "slideshow": {
     "slide_type": "slide"
    }
   },
   "source": [
    "# The SDGs and other internationally agreed development goals won't happen without accelerated progress in the LDCs."
   ]
  },
  {
   "cell_type": "markdown",
   "metadata": {
    "slideshow": {
     "slide_type": "slide"
    }
   },
   "source": [
    "# Many thanks\n",
    "\n",
    "Let's stay in touch\n",
    "\n",
    "Tomás González\n",
    "gonzalezt@un.org\n"
   ]
  },
  {
   "cell_type": "code",
   "execution_count": null,
   "metadata": {
    "scrolled": true
   },
   "outputs": [],
   "source": []
  }
 ],
 "metadata": {
  "celltoolbar": "Slideshow",
  "kernelspec": {
   "display_name": "Python 3",
   "language": "python",
   "name": "python3"
  },
  "language_info": {
   "codemirror_mode": {
    "name": "ipython",
    "version": 3
   },
   "file_extension": ".py",
   "mimetype": "text/x-python",
   "name": "python",
   "nbconvert_exporter": "python",
   "pygments_lexer": "ipython3",
   "version": "3.7.1"
  },
  "toc": {
   "base_numbering": 1,
   "nav_menu": {},
   "number_sections": true,
   "sideBar": true,
   "skip_h1_title": false,
   "title_cell": "Table of Contents",
   "title_sidebar": "Contents",
   "toc_cell": false,
   "toc_position": {},
   "toc_section_display": true,
   "toc_window_display": false
  }
 },
 "nbformat": 4,
 "nbformat_minor": 2
}
