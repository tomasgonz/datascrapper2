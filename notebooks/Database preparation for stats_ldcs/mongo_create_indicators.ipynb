{
 "cells": [
  {
   "cell_type": "code",
   "execution_count": 1,
   "metadata": {
    "ExecuteTime": {
     "end_time": "2019-12-03T21:19:41.029437Z",
     "start_time": "2019-12-03T21:19:39.525639Z"
    }
   },
   "outputs": [],
   "source": [
    "import sys\n",
    "sys.path.append(\"../..\")\n",
    "from sources import *\n",
    "from data.Frame import Frame\n",
    "from data.Stats import calculate_weighted_average as wa\n",
    "from geo.countries import Countries\n",
    "import os\n",
    "from IPython.display import clear_output\n",
    "from pymongo import MongoClient\n",
    "client = MongoClient('stats.whereistomas.org', username='root', password='Root!0676')\n",
    "db = client[\"stats\"]\n",
    "import time\n",
    "c = Countries()\n",
    "c.load_wb()\n",
    "from sources import worldbank as wb\n",
    "wb.indicators.load_all()"
   ]
  },
  {
   "cell_type": "code",
   "execution_count": null,
   "metadata": {
    "ExecuteTime": {
     "end_time": "2019-12-03T21:38:31.894995Z",
     "start_time": "2019-12-03T21:38:31.891351Z"
    }
   },
   "outputs": [],
   "source": [
    "indicators_to_retrieve = [{\"indicator\": \"SP.POP.TOTL\", \"aggregation\": True, \"weight\": \"None\"},\n",
    "                         {\"indicator\": \"NY.GDP.MKTP.CD\", \"aggregation\": True, \"weight\": \"None\" },\n",
    "                          {\"indicator\": \"SH.DYN.MORT\", \"aggregation\": False, \"weight\": \"SPPOPTOTL\"}, \n",
    "                          {\"indicator\":\"EN.ATM.CO2E.PC\", \"aggregation\": False, \"weight\": \"SPPOPTOTL\"}, \n",
    "                          {\"indicator\": \"NY.GNP.PCAP.CD\", \"aggregation\": True, \"weight\": \"None\"}, \n",
    "                          {\"indicator\": \"EG.ELC.ACCS.ZS\", \"aggregation\": False, \"weight\": \"SPPOPTOTL\"} , \n",
    "                          {\"indicator\": \"DT.ODA.ODAT.GN.ZS\", \"aggregation\": False, \"weight\": \"NYGDPMKTPCD\"},\n",
    "                          {\"indicator\": \"SE.ENR.PRSC.FM.ZS\", \"aggregation\": False, \"weight\": \"SPPOPTOTL\"},\n",
    "                          {\"indicator\": \"NY.GDP.MKTP.KD.ZG\", \"aggregation\": False, \"weight\": \"NYGDPMKTPCD\"},\n",
    "                          {\"indicator\": \"NY.GDP.PCAP.KD.ZG\", \"aggregation\": False, \"weight\": \"NYGDPMKTPCD\"},\n",
    "                          {\"indicator\": \"DT.DOD.DECT.GN.ZS\", \"aggregation\": True, \"weight\": \"NYGDPMKTPCD\"},\n",
    "                          {\"indicator\": \"NE.EXP.GNFS.ZS\", \"aggregation\": False, \"weight\": \"NYGDPMKTPCD\"},\n",
    "                          {\"indicator\": \"FP.CPI.TOTL.ZG\", \"aggregation\": False, \"weight\": \"NYGDPMKTPCD\"},\n",
    "                          {\"indicator\": \"SL.TLF.TOTL.IN\", \"aggregation\": True, \"weight\": \"None\"},\n",
    "                          {\"indicator\": \"FP.CPI.TOTL.ZG\", \"aggregation\": True, \"weight\": \"NYGDPMKTPCD\"},\n",
    "                          {\"indicator\": \"EG.ELC.RNEW.ZS\", \"aggregation\": False, \"weight\": \"EGELCRNWXKH\"},\n",
    "                          {\"indicator\": \"EG.ELC.RNWX.KH\", \"aggregation\": True, \"weight\": \"None\"},\n",
    "                          {\"indicator\": \"NY.GDP.TOTL.RT.ZS\", \"aggregation\": False, \"weight\": \"NYGDPMKTPCD\"},\n",
    "                          {\"indicator\": \"EN.ATM.GHGT.KT.CE\", \"aggregation\": True, \"weight\": \"None\"},\n",
    "                          {\"indicator\": \"BX.GRT.TECH.CD.WD\", \"aggregation\": True, \"weight\": \"None\"},\n",
    "                          {\"indicator\": \"FM.LBL.BMNY.GD.ZS\", \"aggregation\": False, \"weight\": \"None\"},\n",
    "                          {\"indicator\": \"FS.AST.PRVT.GD.ZS\", \"aggregation\": False, \"weight\": \"NYGDPMKTPCD\"},\n",
    "                          {\"indicator\": \"BX.TRF.PWKR.CD.DT\", \"aggregation\": True, \"weight\": \"None\"},\n",
    "                          {\"indicator\": \"FI.RES.TOTL.CD\", \"aggregation\": True, \"weight\": \"None\"},\n",
    "                          {\"indicator\": \"SP.ADO.TFRT\", \"aggregation\": False, \"weight\": \"SPPOPTOTL\"},\n",
    "                          {\"indicator\": \"SP.ADO.TFRT\", \"aggregation\": False, \"weight\": \"SPPOPTOTL\"},\n",
    "                          {\"indicator\": \"SE.PRM.UNER.MA\", \"aggregation\": False, \"weight\": \"None\"},\n",
    "                          {\"indicator\": \"SE.PRM.UNER.FE\", \"aggregation\": False, \"weight\": \"None\"},\n",
    "                          {\"indicator\": \"SP.POP.DPND\", \"aggregation\": False, \"weight\": \"None\"},\n",
    "                          {\"indicator\": \"EG.USE.ELEC.KH.PC\", \"aggregation\": False, \"weight\": \"None\"},\n",
    "                          {\"indicator\": \"EN.POP.SLUM.UR.ZS\", \"aggregation\": False, \"weight\": \"SPPOPTOTL\"},\n",
    "                          {\"indicator\": \"TX.VAL.FUEL.ZS.UN\", \"aggregation\": False, \"weight\": \"SPPOPTOTL\"},\n",
    "                          {\"indicator\": \"TX.VAL.MRCH.CD.WT\", \"aggregation\": True, \"weight\": \"None\"},\n",
    "                          {\"indicator\": \"ST.INT.RCPT.XP.ZS\", \"aggregation\": False, \"weight\": \"TXVALMRCHCDWT\"},\n",
    "                          {\"indicator\": \"TG.VAL.TOTL.GD.ZS\", \"aggregation\": False, \"weight\": \"NYGDPMKTPCD\"},\n",
    "                          {\"indicator\": \"MS.MIL.XPND.ZS\", \"aggregation\": False, \"weight\": \"NECONGOVTCD\"},\n",
    "                          {\"indicator\": \"NE.CON.GOVT.CD\", \"aggregation\": False, \"weight\": \"None\"},\n",
    "                          {\"indicator\": \"SG.GEN.PARL.ZS\", \"aggregation\": False, \"weight\": \"None\"},\n",
    "                          {\"indicator\": \"IP.JRN.ARTC.SC\", \"aggregation\": True, \"weight\": \"None\"},\n",
    "                          {\"indicator\": \"SP.URB.TOTL.IN.ZS\", \"aggregation\": False, \"weight\": \"SPPOPTOTL\"},\n",
    "                          {\"indicator\": \"SP.DYN.LE00.FE.IN\", \"aggregation\": False, \"weight\": \"None\"}]\n",
    "\n",
    "from geo.data import world\n",
    "def process_wb_data(data):\n",
    "    new_data =[];\n",
    "    \n",
    "    for dp in data:\n",
    "        if dp['entity'] in world:\n",
    "            new_data.append({'entity':dp['entity'].lower(), 'date': dp['date'], 'value': dp['value']})\n",
    "        else:\n",
    "            pass\n",
    "        \n",
    "    return new_data\n",
    "\n",
    "\n",
    "db[\"indicators\"].drop()\n",
    "\n",
    "i = 0\n",
    "j = 0\n",
    "\n",
    "years= list(map(str, list(range(1962,2018))))\n",
    "\n",
    "for ind in indicators_to_retrieve:    \n",
    "    try:\n",
    "        data = wb.indicators.get(name=ind['indicator'], \n",
    "                                 years=years, \n",
    "                                 countries=world)\n",
    "\n",
    "        ddata = process_wb_data(data['data'])\n",
    "        time.sleep(1)        \n",
    "\n",
    "        db[\"indicators\"].update_one({ \"name\" : data['name']}, \n",
    "                       {\"$set\":{\"name\" : data['name'],\n",
    "                                \"aggregation\": ind[\"aggregation\"],\n",
    "                                \"weight\": ind[\"weight\"],\n",
    "                                \"description\" : data['description'], \n",
    "                                \"years\" : years, \n",
    "                                \"sourceNote\" : data['sourcenote'],\n",
    "                                \"connector\" : data['connector'],\n",
    "                                \"source\" : data['source'],\n",
    "                                \"sourceurl\" : data['sourceurl'], \n",
    "                                \"keyField\" : \"entity\",\n",
    "                                \"pivotField\" : \"date\",\n",
    "                                \"valueField\" : \"value\",\n",
    "                                'data' : ddata}}, True)\n",
    "    except ValueError:\n",
    "        print(\"error in \" + ind.name )\n",
    "        print(ValueError)"
   ]
  },
  {
   "cell_type": "code",
   "execution_count": 12,
   "metadata": {},
   "outputs": [],
   "source": [
    "def calculate_groups_average(indicator, weight):    \n",
    "    averages = []\n",
    "    df = Frame()\n",
    "    df.load_data(sorted(db[\"indicators\"].find_one({\"name\":indicator})['data'], key=lambda k: k['date']))\n",
    "    df_wide = df.wide('entity', 'value', 'date')\n",
    "    dfw = Frame()\n",
    "    dfw.load_data(sorted(db[\"indicators\"].find_one({\"name\":weight})['data'], key=lambda k: k['date']))\n",
    "    dfw_wide = dfw.wide('entity', 'value', 'date')\n",
    "    \n",
    "    for g in db[\"groups\"].find():                \n",
    "        df_wide_group = df_wide.filter([item.lower() for item in c.get_group(g['name']).get_names()], \"entity\")\n",
    "        dfw_wide_group = dfw_wide.filter([item.lower() for item in c.get_group(g['name']).get_names()], \"entity\")\n",
    "        df_wa = wa(df_wide_group, dfw_wide_group, 'entity')\n",
    "        average = []\n",
    "        \n",
    "        # The pythonic ways are misterous and wonderful\n",
    "        for x in df_wa[len(df_wa)-1].as_array()[::3]:\n",
    "            average.append(x)\n",
    "            \n",
    "        averages.append({\"group\": g, \"indicator\": indicator, \"weight\":weight, \"data\":df_wa.as_json(), \"average\":average})   \n",
    "    \n",
    "    return averages"
   ]
  },
  {
   "cell_type": "code",
   "execution_count": 25,
   "metadata": {},
   "outputs": [],
   "source": [
    "def calculate_groups_total(indicator):\n",
    "    totals = []\n",
    "    df = Frame()\n",
    "    df.load_data(sorted(db[\"indicators\"].find_one({\"name\":indicator})['data'], key=lambda k: k['date']))\n",
    "    df_wide = df.wide('entity', 'value', 'date')\n",
    "    dfw = Frame()\n",
    "    \n",
    "    for g in db[\"groups\"].find():                \n",
    "        df_wide_group = df_wide.filter([item.lower() for item in c.get_group(g['name']).get_names()], \"entity\")        \n",
    "        \n",
    "        total = []   \n",
    "        \n",
    "        # The pythonic ways are misterous and wonderful\n",
    "        for x in df_wide_group.columns:            \n",
    "            total.append({x.name(): x.sum()})\n",
    "        \n",
    "        totals.append({\"group\": g, \"indicator\": indicator, \"data\":df_wide_group.as_json(), \"total\":total})   \n",
    "    \n",
    "    return totals"
   ]
  },
  {
   "cell_type": "code",
   "execution_count": 26,
   "metadata": {},
   "outputs": [
    {
     "name": "stdout",
     "output_type": "stream",
     "text": [
      "SHDYNMORT\n"
     ]
    },
    {
     "ename": "TypeError",
     "evalue": "'str' object is not callable",
     "output_type": "error",
     "traceback": [
      "\u001b[1;31m---------------------------------------------------------------------------\u001b[0m",
      "\u001b[1;31mTypeError\u001b[0m                                 Traceback (most recent call last)",
      "\u001b[1;32m<ipython-input-26-d62ddc523fc6>\u001b[0m in \u001b[0;36m<module>\u001b[1;34m\u001b[0m\n\u001b[0;32m      5\u001b[0m         \u001b[0mdb\u001b[0m\u001b[1;33m[\u001b[0m\u001b[1;34m\"indicators\"\u001b[0m\u001b[1;33m]\u001b[0m\u001b[1;33m.\u001b[0m\u001b[0mupdate_one\u001b[0m\u001b[1;33m(\u001b[0m\u001b[1;33m{\u001b[0m\u001b[1;34m\"name\"\u001b[0m\u001b[1;33m:\u001b[0m\u001b[0mi\u001b[0m\u001b[1;33m[\u001b[0m\u001b[1;34m\"name\"\u001b[0m\u001b[1;33m]\u001b[0m\u001b[1;33m}\u001b[0m\u001b[1;33m,\u001b[0m \u001b[1;33m{\u001b[0m\u001b[1;34m\"$set\"\u001b[0m\u001b[1;33m:\u001b[0m\u001b[1;33m{\u001b[0m\u001b[1;34m\"group_averages\"\u001b[0m\u001b[1;33m:\u001b[0m\u001b[0mww\u001b[0m\u001b[1;33m}\u001b[0m\u001b[1;33m}\u001b[0m\u001b[1;33m,\u001b[0m \u001b[1;32mTrue\u001b[0m\u001b[1;33m)\u001b[0m\u001b[1;33m\u001b[0m\u001b[1;33m\u001b[0m\u001b[0m\n\u001b[0;32m      6\u001b[0m \u001b[1;33m\u001b[0m\u001b[0m\n\u001b[1;32m----> 7\u001b[1;33m         \u001b[0mww2\u001b[0m \u001b[1;33m=\u001b[0m \u001b[0mcalculate_groups_total\u001b[0m\u001b[1;33m(\u001b[0m\u001b[0mi\u001b[0m\u001b[1;33m[\u001b[0m\u001b[1;34m'name'\u001b[0m\u001b[1;33m]\u001b[0m\u001b[1;33m)\u001b[0m\u001b[1;33m\u001b[0m\u001b[1;33m\u001b[0m\u001b[0m\n\u001b[0m\u001b[0;32m      8\u001b[0m         \u001b[0mdb\u001b[0m\u001b[1;33m[\u001b[0m\u001b[1;34m\"indicators\"\u001b[0m\u001b[1;33m]\u001b[0m\u001b[1;33m.\u001b[0m\u001b[0mupdate_one\u001b[0m\u001b[1;33m(\u001b[0m\u001b[1;33m{\u001b[0m\u001b[1;34m\"name\"\u001b[0m\u001b[1;33m:\u001b[0m\u001b[0mi\u001b[0m\u001b[1;33m[\u001b[0m\u001b[1;34m\"name\"\u001b[0m\u001b[1;33m]\u001b[0m\u001b[1;33m}\u001b[0m\u001b[1;33m,\u001b[0m \u001b[1;33m{\u001b[0m\u001b[1;34m\"$set\"\u001b[0m\u001b[1;33m:\u001b[0m\u001b[1;33m{\u001b[0m\u001b[1;34m\"group_totals\"\u001b[0m\u001b[1;33m:\u001b[0m\u001b[0mww2\u001b[0m\u001b[1;33m}\u001b[0m\u001b[1;33m}\u001b[0m\u001b[1;33m,\u001b[0m \u001b[1;32mTrue\u001b[0m\u001b[1;33m)\u001b[0m\u001b[1;33m\u001b[0m\u001b[1;33m\u001b[0m\u001b[0m\n",
      "\u001b[1;32m<ipython-input-25-997589c9a99a>\u001b[0m in \u001b[0;36mcalculate_groups_total\u001b[1;34m(indicator)\u001b[0m\n\u001b[0;32m     13\u001b[0m         \u001b[1;31m# The pythonic ways are misterous and wonderful\u001b[0m\u001b[1;33m\u001b[0m\u001b[1;33m\u001b[0m\u001b[1;33m\u001b[0m\u001b[0m\n\u001b[0;32m     14\u001b[0m         \u001b[1;32mfor\u001b[0m \u001b[0mx\u001b[0m \u001b[1;32min\u001b[0m \u001b[0mdf_wide_group\u001b[0m\u001b[1;33m.\u001b[0m\u001b[0mcolumns\u001b[0m\u001b[1;33m:\u001b[0m\u001b[1;33m\u001b[0m\u001b[1;33m\u001b[0m\u001b[0m\n\u001b[1;32m---> 15\u001b[1;33m             \u001b[0mtotal\u001b[0m\u001b[1;33m.\u001b[0m\u001b[0mappend\u001b[0m\u001b[1;33m(\u001b[0m\u001b[1;33m{\u001b[0m\u001b[0mx\u001b[0m\u001b[1;33m.\u001b[0m\u001b[0mname\u001b[0m\u001b[1;33m(\u001b[0m\u001b[1;33m)\u001b[0m\u001b[1;33m:\u001b[0m \u001b[0mx\u001b[0m\u001b[1;33m.\u001b[0m\u001b[0msum\u001b[0m\u001b[1;33m(\u001b[0m\u001b[1;33m)\u001b[0m\u001b[1;33m}\u001b[0m\u001b[1;33m)\u001b[0m\u001b[1;33m\u001b[0m\u001b[1;33m\u001b[0m\u001b[0m\n\u001b[0m\u001b[0;32m     16\u001b[0m \u001b[1;33m\u001b[0m\u001b[0m\n\u001b[0;32m     17\u001b[0m         \u001b[0mtotals\u001b[0m\u001b[1;33m.\u001b[0m\u001b[0mappend\u001b[0m\u001b[1;33m(\u001b[0m\u001b[1;33m{\u001b[0m\u001b[1;34m\"group\"\u001b[0m\u001b[1;33m:\u001b[0m \u001b[0mg\u001b[0m\u001b[1;33m,\u001b[0m \u001b[1;34m\"indicator\"\u001b[0m\u001b[1;33m:\u001b[0m \u001b[0mindicator\u001b[0m\u001b[1;33m,\u001b[0m \u001b[1;34m\"data\"\u001b[0m\u001b[1;33m:\u001b[0m\u001b[0mdf_wide_group\u001b[0m\u001b[1;33m.\u001b[0m\u001b[0mas_json\u001b[0m\u001b[1;33m(\u001b[0m\u001b[1;33m)\u001b[0m\u001b[1;33m,\u001b[0m \u001b[1;34m\"total\"\u001b[0m\u001b[1;33m:\u001b[0m\u001b[0mtotal\u001b[0m\u001b[1;33m}\u001b[0m\u001b[1;33m)\u001b[0m\u001b[1;33m\u001b[0m\u001b[1;33m\u001b[0m\u001b[0m\n",
      "\u001b[1;31mTypeError\u001b[0m: 'str' object is not callable"
     ]
    }
   ],
   "source": [
    "for i in db[\"indicators\"].find(no_cursor_timeout=True):\n",
    "    if i[\"weight\"] != \"None\":\n",
    "        print(i['name'])\n",
    "        ww = calculate_groups_average(i['name'], i['weight'])\n",
    "        db[\"indicators\"].update_one({\"name\":i[\"name\"]}, {\"$set\":{\"group_averages\":ww}}, True)\n",
    "        \n",
    "        ww2 = calculate_groups_total(i['name'])\n",
    "        db[\"indicators\"].update_one({\"name\":i[\"name\"]}, {\"$set\":{\"group_totals\":ww2}}, True)"
   ]
  },
  {
   "cell_type": "code",
   "execution_count": null,
   "metadata": {},
   "outputs": [],
   "source": []
  }
 ],
 "metadata": {
  "kernelspec": {
   "display_name": "Python 3",
   "language": "python",
   "name": "python3"
  },
  "language_info": {
   "codemirror_mode": {
    "name": "ipython",
    "version": 3
   },
   "file_extension": ".py",
   "mimetype": "text/x-python",
   "name": "python",
   "nbconvert_exporter": "python",
   "pygments_lexer": "ipython3",
   "version": "3.8.2"
  }
 },
 "nbformat": 4,
 "nbformat_minor": 4
}
