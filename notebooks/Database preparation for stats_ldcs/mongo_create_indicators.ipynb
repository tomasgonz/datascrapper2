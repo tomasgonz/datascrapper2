{
 "cells": [
  {
   "cell_type": "code",
   "execution_count": 1,
   "metadata": {
    "ExecuteTime": {
     "end_time": "2019-12-03T21:19:41.029437Z",
     "start_time": "2019-12-03T21:19:39.525639Z"
    }
   },
   "outputs": [],
   "source": [
    "import sys\n",
    "sys.path.append(\"../..\")\n",
    "from sources import *\n",
    "from data.Frame import Frame\n",
    "from data.Stats import calculate_weighted_average as wa\n",
    "from geo.countries import Countries\n",
    "import os\n",
    "from IPython.display import clear_output\n",
    "from pymongo import MongoClient\n",
    "client = MongoClient('stats.whereistomas.org', username='root', password='Root!0676')\n",
    "db = client[\"stats\"]\n",
    "import time\n",
    "c = Countries()\n",
    "c.load_wb()\n",
    "from sources import worldbank as wb\n",
    "# wb.indicators.load_all()"
   ]
  },
  {
   "cell_type": "code",
   "execution_count": 4,
   "metadata": {
    "ExecuteTime": {
     "end_time": "2019-12-03T21:38:31.894995Z",
     "start_time": "2019-12-03T21:38:31.891351Z"
    }
   },
   "outputs": [
    {
     "name": "stdout",
     "output_type": "stream",
     "text": [
      "http://api.worldbank.org/v2/countries/all/indicators/NV.SRV.TOTL.ZS?format=JSON&per_page=30000\n"
     ]
    }
   ],
   "source": [
    "indicators_to_retrieve = [{\"indicator\": \"SP.POP.TOTL\", \"aggregation\": True, \"weight\": \"None\"},\n",
    "                         {\"indicator\": \"NY.GDP.MKTP.CD\", \"aggregation\": True, \"weight\": \"None\" },\n",
    "                          {\"indicator\": \"SH.DYN.MORT\", \"aggregation\": False, \"weight\": \"SPPOPTOTL\"}, \n",
    "                          {\"indicator\":\"EN.ATM.CO2E.KT\", \"aggregation\": False, \"weight\": \"None\"}, \n",
    "                          {\"indicator\":\"EN.ATM.CO2E.PC\", \"aggregation\": False, \"weight\": \"SPPOPTOTL\"}, \n",
    "                          {\"indicator\": \"NY.GNP.PCAP.CD\", \"aggregation\": True, \"weight\": \"None\"}, \n",
    "                          {\"indicator\": \"EG.ELC.ACCS.ZS\", \"aggregation\": False, \"weight\": \"SPPOPTOTL\"} , \n",
    "                          {\"indicator\": \"DT.ODA.ODAT.GN.ZS\", \"aggregation\": False, \"weight\": \"NYGDPMKTPCD\"},\n",
    "                          {\"indicator\": \"SE.ENR.PRSC.FM.ZS\", \"aggregation\": False, \"weight\": \"SPPOPTOTL\"},\n",
    "                          {\"indicator\": \"NV.IND.MANF.ZS\", \"aggregation\": False, \"weight\": \"SPPOPTOTL\"},\n",
    "                          {\"indicator\": \"NV.SRV.TOTL.ZS\", \"aggregation\": False, \"weight\": \"SPPOPTOTL\"},\n",
    "                          {\"indicator\": \"NV.AGR.TOTL.ZS\", \"aggregation\": False, \"weight\": \"SPPOPTOTL\"},\n",
    "                          {\"indicator\": \"NY.GDP.MKTP.KD.ZG\", \"aggregation\": False, \"weight\": \"NYGDPMKTPCD\"},\n",
    "                          {\"indicator\": \"NY.GDP.PCAP.KD.ZG\", \"aggregation\": False, \"weight\": \"NYGDPMKTPCD\"},\n",
    "                          {\"indicator\": \"DT.DOD.DECT.GN.ZS\", \"aggregation\": True, \"weight\": \"NYGDPMKTPCD\"},\n",
    "                          {\"indicator\": \"NE.EXP.GNFS.ZS\", \"aggregation\": False, \"weight\": \"NYGDPMKTPCD\"},\n",
    "                          {\"indicator\": \"NE.EXP.GNFS.CD\", \"aggregation\": True, \"weight\": \"None\"},\n",
    "                          {\"indicator\": \"NE.IMP.GNFS.CD\", \"aggregation\": True, \"weight\": \"None\"},\n",
    "                          {\"indicator\": \"FP.CPI.TOTL.ZG\", \"aggregation\": False, \"weight\": \"NYGDPMKTPCD\"},\n",
    "                          {\"indicator\": \"SL.TLF.TOTL.IN\", \"aggregation\": True, \"weight\": \"None\"},\n",
    "                          {\"indicator\": \"FP.CPI.TOTL.ZG\", \"aggregation\": True, \"weight\": \"NYGDPMKTPCD\"},\n",
    "                          {\"indicator\": \"EG.ELC.RNEW.ZS\", \"aggregation\": False, \"weight\": \"EGELCRNWXKH\"},\n",
    "                          {\"indicator\": \"EG.ELC.RNWX.KH\", \"aggregation\": True, \"weight\": \"None\"},\n",
    "                          {\"indicator\": \"NY.GDP.TOTL.RT.ZS\", \"aggregation\": False, \"weight\": \"NYGDPMKTPCD\"},\n",
    "                          {\"indicator\": \"EN.ATM.GHGT.KT.CE\", \"aggregation\": True, \"weight\": \"None\"},\n",
    "                          {\"indicator\": \"BX.GRT.TECH.CD.WD\", \"aggregation\": True, \"weight\": \"None\"},\n",
    "                          {\"indicator\": \"FM.LBL.BMNY.GD.ZS\", \"aggregation\": False, \"weight\": \"None\"},\n",
    "                          {\"indicator\": \"FS.AST.PRVT.GD.ZS\", \"aggregation\": False, \"weight\": \"NYGDPMKTPCD\"},\n",
    "                          {\"indicator\": \"BX.TRF.PWKR.CD.DT\", \"aggregation\": True, \"weight\": \"None\"},\n",
    "                          {\"indicator\": \"FI.RES.TOTL.CD\", \"aggregation\": True, \"weight\": \"None\"},\n",
    "                          {\"indicator\": \"SP.ADO.TFRT\", \"aggregation\": False, \"weight\": \"SPPOPTOTL\"},\n",
    "                          {\"indicator\": \"SP.ADO.TFRT\", \"aggregation\": False, \"weight\": \"SPPOPTOTL\"},\n",
    "                          {\"indicator\": \"SE.PRM.UNER.MA\", \"aggregation\": False, \"weight\": \"None\"},\n",
    "                          {\"indicator\": \"SE.PRM.UNER.FE\", \"aggregation\": False, \"weight\": \"None\"},\n",
    "                          {\"indicator\": \"SP.POP.DPND\", \"aggregation\": False, \"weight\": \"None\"},\n",
    "                          {\"indicator\": \"EG.USE.ELEC.KH.PC\", \"aggregation\": False, \"weight\": \"None\"},\n",
    "                          {\"indicator\": \"EN.POP.SLUM.UR.ZS\", \"aggregation\": False, \"weight\": \"SPPOPTOTL\"},\n",
    "                          {\"indicator\": \"TX.VAL.FUEL.ZS.UN\", \"aggregation\": False, \"weight\": \"SPPOPTOTL\"},\n",
    "                          {\"indicator\": \"TX.VAL.MRCH.CD.WT\", \"aggregation\": True, \"weight\": \"None\"},\n",
    "                          {\"indicator\": \"ST.INT.RCPT.XP.ZS\", \"aggregation\": False, \"weight\": \"TXVALMRCHCDWT\"},\n",
    "                          {\"indicator\": \"TG.VAL.TOTL.GD.ZS\", \"aggregation\": False, \"weight\": \"NYGDPMKTPCD\"},\n",
    "                          {\"indicator\": \"MS.MIL.XPND.ZS\", \"aggregation\": False, \"weight\": \"NECONGOVTCD\"},\n",
    "                          {\"indicator\": \"NE.CON.GOVT.CD\", \"aggregation\": False, \"weight\": \"None\"},\n",
    "                          {\"indicator\": \"SG.GEN.PARL.ZS\", \"aggregation\": False, \"weight\": \"None\"},\n",
    "                          {\"indicator\": \"IP.JRN.ARTC.SC\", \"aggregation\": True, \"weight\": \"None\"},\n",
    "                          {\"indicator\": \"SP.URB.TOTL.IN.ZS\", \"aggregation\": False, \"weight\": \"SPPOPTOTL\"},\n",
    "                          {\"indicator\": \"SH.STA.MMRT\", \"aggregation\": False, \"weight\": \"SPPOPTOTL\"},\n",
    "                          {\"indicator\": \"SE.SEC.PROG.FE.ZS\", \"aggregation\": False, \"weight\": \"SPPOPTOTL\"},\n",
    "                          {\"indicator\": \"SP.DYN.LE00.FE.IN\", \"aggregation\": False, \"weight\": \"None\"}]\n",
    "\n",
    "from geo.data import world\n",
    "def process_wb_data(data):\n",
    "    new_data =[];\n",
    "    \n",
    "    for dp in data:\n",
    "        if dp['entity'] in world:\n",
    "            new_data.append({'entity':dp['entity'].lower(), 'date': dp['date'], 'value': dp['value']})\n",
    "        else:\n",
    "            pass\n",
    "        \n",
    "    return new_data\n",
    "\n",
    "\n",
    "db[\"indicators\"].drop()\n",
    "\n",
    "i = 0\n",
    "j = 0\n",
    "\n",
    "years= list(map(str, list(range(1962,2020))))\n",
    "\n",
    "for ind in indicators_to_retrieve:    \n",
    "    try:\n",
    "        data = wb.indicators.get(name=ind['indicator'], \n",
    "                                 years=years, \n",
    "                                 countries=world)\n",
    "\n",
    "        ddata = process_wb_data(data['data'])\n",
    "        time.sleep(1)        \n",
    "\n",
    "        db[\"indicators\"].update_one({ \"name\" : data['name']}, \n",
    "                       {\"$set\":{\"name\" : data['name'],\n",
    "                                \"aggregation\": ind[\"aggregation\"],\n",
    "                                \"weight\": ind[\"weight\"],\n",
    "                                \"description\" : data['description'], \n",
    "                                \"years\" : years, \n",
    "                                \"sourceNote\" : data['sourcenote'],\n",
    "                                \"connector\" : data['connector'],\n",
    "                                \"source\" : data['source'],\n",
    "                                \"sourceurl\" : data['sourceurl'], \n",
    "                                \"keyField\" : \"entity\",\n",
    "                                \"pivotField\" : \"date\",\n",
    "                                \"valueField\" : \"value\",\n",
    "                                'data' : ddata}}, True)\n",
    "    except ValueError:\n",
    "        print(\"error in \" + ind.name )\n",
    "        print(ValueError)"
   ]
  },
  {
   "cell_type": "code",
   "execution_count": null,
   "metadata": {},
   "outputs": [],
   "source": []
  }
 ],
 "metadata": {
  "kernelspec": {
   "display_name": "datascrapper2",
   "language": "python",
   "name": "datascrapper2"
  },
  "language_info": {
   "codemirror_mode": {
    "name": "ipython",
    "version": 3
   },
   "file_extension": ".py",
   "mimetype": "text/x-python",
   "name": "python",
   "nbconvert_exporter": "python",
   "pygments_lexer": "ipython3",
   "version": "3.8.5"
  }
 },
 "nbformat": 4,
 "nbformat_minor": 4
}
