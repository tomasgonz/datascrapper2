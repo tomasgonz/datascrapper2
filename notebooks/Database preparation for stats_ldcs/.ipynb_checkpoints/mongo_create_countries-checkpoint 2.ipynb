{
 "cells": [
  {
   "cell_type": "code",
   "execution_count": 1,
   "metadata": {
    "ExecuteTime": {
     "end_time": "2019-12-03T21:06:02.966442Z",
     "start_time": "2019-12-03T21:06:02.938704Z"
    }
   },
   "outputs": [],
   "source": [
    "import sys\n",
    "sys.path.append(\"../..\")\n",
    "from sources import *\n",
    "import os\n",
    "import os.path\n",
    "from IPython.display import clear_output\n",
    "import time\n",
    "from geo.list import CountryList\n",
    "from geo.utils import extract_countries\n",
    "from data.Frame import Frame\n",
    "c = CountryList()\n",
    "c.load_wb()\n",
    "import requests\n",
    "import urllib\n",
    "import json\n",
    "import requests\n",
    "import json"
   ]
  },
  {
   "cell_type": "code",
   "execution_count": 2,
   "metadata": {
    "ExecuteTime": {
     "end_time": "2019-12-03T21:06:03.124708Z",
     "start_time": "2019-12-03T21:06:03.107734Z"
    }
   },
   "outputs": [],
   "source": [
    "from pymongo import MongoClient\n",
    "import db\n",
    "client = MongoClient('stats.whereistomas.org', username='root', password='Root!0676')\n",
    "db = client[\"stats\"]\n",
    "url = 'http://country.io/names.json'\n",
    "response = urllib.request.urlopen(url)\n",
    "data = response.read().decode('utf-8')\n",
    "country_names = json.loads(data)"
   ]
  },
  {
   "cell_type": "code",
   "execution_count": 3,
   "metadata": {
    "ExecuteTime": {
     "end_time": "2019-12-03T21:06:28.624959Z",
     "start_time": "2019-12-03T21:06:27.339445Z"
    }
   },
   "outputs": [],
   "source": [
    "cache_folder = '..'\n",
    "# 604800 is on week\n",
    "max_age = 604800\n",
    "\n",
    "def get_file_path(name):\n",
    "    return str(cache_folder) + '/' + str(name) + '.json'\n",
    "\n",
    "def check_age(name):\n",
    "    if (os.path.getmtime(get_file_path(name)) - time.time()) < -max_age:\n",
    "        print(\"Updating \" + str(name) + \" from server.\")\n",
    "        retrieve_and_cache(name)\n",
    "        \n",
    "def check_cache(name):\n",
    "    return (os.path.exists(name))\n",
    "\n",
    "def write_cache(data, file_path):\n",
    "    with open(file_path, 'w') as outfile:\n",
    "        json.dump(data, outfile)\n",
    "        outfile.close()\n",
    "        \n",
    "def load_cache(file_path):\n",
    "    with open(file_path) as json_file:\n",
    "        data = json.load(json_file)\n",
    "        return (data)\n",
    "\n",
    "def retrieve_and_cache(name):\n",
    "    url = 'https://raw.githubusercontent.com/iancoleman/cia_world_factbook_api/master/data/factbook.json'\n",
    "    r = requests.get(url)\n",
    "    f = get_file_path(name)\n",
    "    write_cache(r.json(), f)\n",
    "\n",
    "def get_CIA_factbook(**kwargs):\n",
    "    p = get_file_path(kwargs['name'])\n",
    "    if check_cache(p) == False:\n",
    "        retrieve_and_cache(name=kwargs['name'])\n",
    "    else:\n",
    "        check_age(kwargs['name'])\n",
    "    cached_data = load_cache(p)\n",
    "    \n",
    "    return cached_data\n",
    "\n",
    "def add_to_profile(name, kind, config, profile):\n",
    "    profile.append({'name':name, 'kind': kind, 'config':config})\n",
    "    return profile\n",
    "\n",
    "def process_wb_data(c):\n",
    "    new_g = []            \n",
    "    for g in c['groups']:\n",
    "        new_g.append(g.lower())    \n",
    "    \n",
    "    c.groups = new_g\n",
    "        \n",
    "    return new_g\n",
    "\n",
    "fd = get_CIA_factbook(name='factbook.json')"
   ]
  },
  {
   "cell_type": "code",
   "execution_count": 16,
   "metadata": {},
   "outputs": [],
   "source": [
    "def process_profile_data(iso2code):\n",
    "    profile = []\n",
    "    \n",
    "    country_name = country_names[iso2code].lower().replace(\" \", \"_\")\n",
    "    \n",
    "    if (iso2code == 'BS'):\n",
    "        country_name = \"bahamas_the\"\n",
    "    \n",
    "    if (iso2code == 'CI'):\n",
    "        country_name = \"cote_d'_ivoire\"\n",
    "        \n",
    "    if (iso2code == 'CD'):\n",
    "        country_name = \"congo_democratic_republic_of_the\"\n",
    "        \n",
    "    if (iso2code == 'CG'):\n",
    "        country_name = \"congo_republic_of_the\"\n",
    "        \n",
    "    if (iso2code == 'CV'):\n",
    "        country_name = \"cabo_verde\"\n",
    "        \n",
    "    if (iso2code == 'CZ'):\n",
    "        country_name = \"czechia\"\n",
    "        \n",
    "    if (iso2code == 'FM'):\n",
    "        country_name = \"micronesia_federated_states_of\"\n",
    "        \n",
    "    if (iso2code == 'GM'):\n",
    "        country_name = \"gambia_the\"\n",
    "        \n",
    "    if (iso2code == 'GW'):\n",
    "        country_name = \"guinea_bissau\"\n",
    "    \n",
    "    if (iso2code == 'KR'):\n",
    "        country_name = \"korea_south\"\n",
    "        \n",
    "    if (iso2code == 'MO'):\n",
    "        country_name = \"macau\"\n",
    "        \n",
    "    if (iso2code == 'MK'):\n",
    "        country_name = \"north_macedonia\"\n",
    "    \n",
    "    if (iso2code == 'MM'):\n",
    "        country_name = \"burma\"\n",
    "    \n",
    "    if (iso2code == 'KP'):\n",
    "        country_name = \"korea_north\"\n",
    "    \n",
    "    if (iso2code == 'SZ'):\n",
    "        country_name = \"eswatini\"\n",
    "        \n",
    "    if (iso2code == 'TL'):\n",
    "        country_name = \"timor_leste\"\n",
    "        \n",
    "    if (iso2code == 'VI'):\n",
    "        country_name = 'virgin_islands'\n",
    "    \n",
    "    profile = add_to_profile('paragraph', 'text', {'kind': 'p', 'className': 'country-introductory-text', 'text': fd['countries'][country_name]['data']['introduction']['background']}, profile)\n",
    "    \n",
    "    profile = add_to_profile('paragraph', 'text', {'kind': 'p', 'className': 'country-introductory-text', 'text': \"Flag: \" + fd['countries']['spain']['data']['government']['flag_description']['description']}, profile)\n",
    "    \n",
    "    profile = add_to_profile('header', 'text', {'kind': 'h3', 'text':'Population'}, profile)\n",
    "    \n",
    "    profile = add_to_profile('SPPOPTOTL', 'indicator', {'kind':'linechart', \n",
    "                                                        'years':[str(year) for year in list(range(2000,2018))], \n",
    "                                                        'width':1000, 'height':400}, profile)\n",
    "    \n",
    "    profile = add_to_profile('header', 'text', {'kind': 'h3', 'text':'Macrodynamics'}, profile)\n",
    "    \n",
    "    profile = add_to_profile('NYGDPMKTPCD', 'indicator', {'kind':'linechart', \n",
    "                                                        'years':[str(year) for year in list(range(2011,2018))], \n",
    "                                                        'width':400, 'height':400}, profile)\n",
    "    \n",
    "    profile = add_to_profile('NYGDPTOTLRTZS', 'indicator', {'kind':'linechart', \n",
    "                                                        'years':[str(year) for year in list(range(2011,2018))], \n",
    "                                                        'width':400, 'height':400}, profile)\n",
    "    \n",
    "    profile = add_to_profile('NYGDPMKTPKDZG', 'indicator', {'kind':'linechart', \n",
    "                                                        'years':[str(year) for year in list(range(2011,2018))], \n",
    "                                                        'width':400, 'height':400}, profile)\n",
    "    \n",
    "    \n",
    "    profile = add_to_profile('header', 'text', {'kind': 'h3', 'text':'Environment'}, profile)\n",
    "    \n",
    "    profile = add_to_profile('paragraph', 'text', {'kind': 'p', 'className': 'country-introductory-text', 'text': \"Meteorology: \" + fd['countries']['spain']['data']['geography']['climate']}, profile)\n",
    "    \n",
    "    profile = add_to_profile('ENATMCO2EPC', 'indicator', {'kind':'linechart', \n",
    "                                                        'years':[str(year) for year in list(range(2011,2018))], \n",
    "                                                        'width':400, 'height':400}, profile)\n",
    "    \n",
    "    profile = add_to_profile('header', 'text', {'kind': 'h3', 'text':'Human Development'}, profile)\n",
    "    \n",
    "    profile = add_to_profile('NYGNPPCAPCD', 'indicator', {'kind':'linechart', \n",
    "                                                        'years':[str(year) for year in list(range(2011,2018))], \n",
    "                                                        'width':400, 'height':400}, profile)\n",
    "    profile = add_to_profile('SEPRMUNERFE', 'indicator', {'kind':'linechart', \n",
    "                                                        'years':[str(year) for year in list(range(2011,2018))], \n",
    "                                                        'width':400, 'height':400}, profile)\n",
    "    \n",
    "    profile = add_to_profile('SPDYNLE00FEIN', 'indicator', {'kind':'linechart', \n",
    "                                                        'years':[str(year) for year in list(range(2011,2018))], \n",
    "                                                        'width':400, 'height':400}, profile)\n",
    "    \n",
    "        \n",
    "        \n",
    "    return profile"
   ]
  },
  {
   "cell_type": "code",
   "execution_count": 17,
   "metadata": {
    "ExecuteTime": {
     "end_time": "2019-12-03T21:06:06.384321Z",
     "start_time": "2019-12-03T21:06:04.086446Z"
    }
   },
   "outputs": [
    {
     "ename": "KeyboardInterrupt",
     "evalue": "",
     "output_type": "error",
     "traceback": [
      "\u001b[0;31m---------------------------------------------------------------------------\u001b[0m",
      "\u001b[0;31mKeyboardInterrupt\u001b[0m                         Traceback (most recent call last)",
      "\u001b[0;32m<ipython-input-17-062c9e47a18b>\u001b[0m in \u001b[0;36m<module>\u001b[0;34m\u001b[0m\n\u001b[1;32m      5\u001b[0m             \u001b[0mg\u001b[0m \u001b[0;34m=\u001b[0m \u001b[0mprocess_wb_data\u001b[0m\u001b[0;34m(\u001b[0m\u001b[0mct\u001b[0m\u001b[0;34m)\u001b[0m\u001b[0;34m\u001b[0m\u001b[0;34m\u001b[0m\u001b[0m\n\u001b[1;32m      6\u001b[0m             \u001b[0mprofile\u001b[0m \u001b[0;34m=\u001b[0m  \u001b[0mprocess_profile_data\u001b[0m\u001b[0;34m(\u001b[0m\u001b[0mct\u001b[0m\u001b[0;34m[\u001b[0m\u001b[0;34m\"iso2code\"\u001b[0m\u001b[0;34m]\u001b[0m\u001b[0;34m)\u001b[0m\u001b[0;34m\u001b[0m\u001b[0;34m\u001b[0m\u001b[0m\n\u001b[0;32m----> 7\u001b[0;31m             db[\"countries\"].update_one({ \"name\" : ct['name'].lower()}, {\"$set\":{\"name\": country_names[ct[\"iso2code\"]].lower(),\n\u001b[0m\u001b[1;32m      8\u001b[0m                                                                        \u001b[0;34m\"aliases\"\u001b[0m\u001b[0;34m:\u001b[0m \u001b[0mct\u001b[0m\u001b[0;34m[\u001b[0m\u001b[0;34m\"aliases\"\u001b[0m\u001b[0;34m]\u001b[0m\u001b[0;34m,\u001b[0m\u001b[0;34m\u001b[0m\u001b[0;34m\u001b[0m\u001b[0m\n\u001b[1;32m      9\u001b[0m                                                                        \u001b[0;34m\"iso2code\"\u001b[0m\u001b[0;34m:\u001b[0m \u001b[0mct\u001b[0m\u001b[0;34m[\u001b[0m\u001b[0;34m\"iso2code\"\u001b[0m\u001b[0;34m]\u001b[0m\u001b[0;34m,\u001b[0m\u001b[0;34m\u001b[0m\u001b[0;34m\u001b[0m\u001b[0m\n",
      "\u001b[0;32m~/.local/share/virtualenvs/datascrapper2-b_UrJEZm/lib/python3.8/site-packages/pymongo/collection.py\u001b[0m in \u001b[0;36mupdate_one\u001b[0;34m(self, filter, update, upsert, bypass_document_validation, collation, array_filters, session)\u001b[0m\n\u001b[1;32m    996\u001b[0m         \u001b[0mwrite_concern\u001b[0m \u001b[0;34m=\u001b[0m \u001b[0mself\u001b[0m\u001b[0;34m.\u001b[0m\u001b[0m_write_concern_for\u001b[0m\u001b[0;34m(\u001b[0m\u001b[0msession\u001b[0m\u001b[0;34m)\u001b[0m\u001b[0;34m\u001b[0m\u001b[0;34m\u001b[0m\u001b[0m\n\u001b[1;32m    997\u001b[0m         return UpdateResult(\n\u001b[0;32m--> 998\u001b[0;31m             self._update_retryable(\n\u001b[0m\u001b[1;32m    999\u001b[0m                 \u001b[0mfilter\u001b[0m\u001b[0;34m,\u001b[0m \u001b[0mupdate\u001b[0m\u001b[0;34m,\u001b[0m \u001b[0mupsert\u001b[0m\u001b[0;34m,\u001b[0m \u001b[0mcheck_keys\u001b[0m\u001b[0;34m=\u001b[0m\u001b[0;32mFalse\u001b[0m\u001b[0;34m,\u001b[0m\u001b[0;34m\u001b[0m\u001b[0;34m\u001b[0m\u001b[0m\n\u001b[1;32m   1000\u001b[0m                 \u001b[0mwrite_concern\u001b[0m\u001b[0;34m=\u001b[0m\u001b[0mwrite_concern\u001b[0m\u001b[0;34m,\u001b[0m\u001b[0;34m\u001b[0m\u001b[0;34m\u001b[0m\u001b[0m\n",
      "\u001b[0;32m~/.local/share/virtualenvs/datascrapper2-b_UrJEZm/lib/python3.8/site-packages/pymongo/collection.py\u001b[0m in \u001b[0;36m_update_retryable\u001b[0;34m(self, criteria, document, upsert, check_keys, multi, manipulate, write_concern, op_id, ordered, bypass_doc_val, collation, array_filters, session)\u001b[0m\n\u001b[1;32m    852\u001b[0m                 retryable_write=retryable_write)\n\u001b[1;32m    853\u001b[0m \u001b[0;34m\u001b[0m\u001b[0m\n\u001b[0;32m--> 854\u001b[0;31m         return self.__database.client._retryable_write(\n\u001b[0m\u001b[1;32m    855\u001b[0m             \u001b[0;34m(\u001b[0m\u001b[0mwrite_concern\u001b[0m \u001b[0;32mor\u001b[0m \u001b[0mself\u001b[0m\u001b[0;34m.\u001b[0m\u001b[0mwrite_concern\u001b[0m\u001b[0;34m)\u001b[0m\u001b[0;34m.\u001b[0m\u001b[0macknowledged\u001b[0m \u001b[0;32mand\u001b[0m \u001b[0;32mnot\u001b[0m \u001b[0mmulti\u001b[0m\u001b[0;34m,\u001b[0m\u001b[0;34m\u001b[0m\u001b[0;34m\u001b[0m\u001b[0m\n\u001b[1;32m    856\u001b[0m             _update, session)\n",
      "\u001b[0;32m~/.local/share/virtualenvs/datascrapper2-b_UrJEZm/lib/python3.8/site-packages/pymongo/mongo_client.py\u001b[0m in \u001b[0;36m_retryable_write\u001b[0;34m(self, retryable, func, session)\u001b[0m\n\u001b[1;32m   1490\u001b[0m         \u001b[0;34m\"\"\"Internal retryable write helper.\"\"\"\u001b[0m\u001b[0;34m\u001b[0m\u001b[0;34m\u001b[0m\u001b[0m\n\u001b[1;32m   1491\u001b[0m         \u001b[0;32mwith\u001b[0m \u001b[0mself\u001b[0m\u001b[0;34m.\u001b[0m\u001b[0m_tmp_session\u001b[0m\u001b[0;34m(\u001b[0m\u001b[0msession\u001b[0m\u001b[0;34m)\u001b[0m \u001b[0;32mas\u001b[0m \u001b[0ms\u001b[0m\u001b[0;34m:\u001b[0m\u001b[0;34m\u001b[0m\u001b[0;34m\u001b[0m\u001b[0m\n\u001b[0;32m-> 1492\u001b[0;31m             \u001b[0;32mreturn\u001b[0m \u001b[0mself\u001b[0m\u001b[0;34m.\u001b[0m\u001b[0m_retry_with_session\u001b[0m\u001b[0;34m(\u001b[0m\u001b[0mretryable\u001b[0m\u001b[0;34m,\u001b[0m \u001b[0mfunc\u001b[0m\u001b[0;34m,\u001b[0m \u001b[0ms\u001b[0m\u001b[0;34m,\u001b[0m \u001b[0;32mNone\u001b[0m\u001b[0;34m)\u001b[0m\u001b[0;34m\u001b[0m\u001b[0;34m\u001b[0m\u001b[0m\n\u001b[0m\u001b[1;32m   1493\u001b[0m \u001b[0;34m\u001b[0m\u001b[0m\n\u001b[1;32m   1494\u001b[0m     \u001b[0;32mdef\u001b[0m \u001b[0m_reset_server\u001b[0m\u001b[0;34m(\u001b[0m\u001b[0mself\u001b[0m\u001b[0;34m,\u001b[0m \u001b[0maddress\u001b[0m\u001b[0;34m)\u001b[0m\u001b[0;34m:\u001b[0m\u001b[0;34m\u001b[0m\u001b[0;34m\u001b[0m\u001b[0m\n",
      "\u001b[0;32m~/.local/share/virtualenvs/datascrapper2-b_UrJEZm/lib/python3.8/site-packages/pymongo/mongo_client.py\u001b[0m in \u001b[0;36m_retry_with_session\u001b[0;34m(self, retryable, func, session, bulk)\u001b[0m\n\u001b[1;32m   1383\u001b[0m                             \u001b[0;32mraise\u001b[0m \u001b[0mlast_error\u001b[0m\u001b[0;34m\u001b[0m\u001b[0;34m\u001b[0m\u001b[0m\n\u001b[1;32m   1384\u001b[0m                         \u001b[0mretryable\u001b[0m \u001b[0;34m=\u001b[0m \u001b[0;32mFalse\u001b[0m\u001b[0;34m\u001b[0m\u001b[0;34m\u001b[0m\u001b[0m\n\u001b[0;32m-> 1385\u001b[0;31m                     \u001b[0;32mreturn\u001b[0m \u001b[0mfunc\u001b[0m\u001b[0;34m(\u001b[0m\u001b[0msession\u001b[0m\u001b[0;34m,\u001b[0m \u001b[0msock_info\u001b[0m\u001b[0;34m,\u001b[0m \u001b[0mretryable\u001b[0m\u001b[0;34m)\u001b[0m\u001b[0;34m\u001b[0m\u001b[0;34m\u001b[0m\u001b[0m\n\u001b[0m\u001b[1;32m   1386\u001b[0m             \u001b[0;32mexcept\u001b[0m \u001b[0mServerSelectionTimeoutError\u001b[0m\u001b[0;34m:\u001b[0m\u001b[0;34m\u001b[0m\u001b[0;34m\u001b[0m\u001b[0m\n\u001b[1;32m   1387\u001b[0m                 \u001b[0;32mif\u001b[0m \u001b[0mis_retrying\u001b[0m\u001b[0;34m(\u001b[0m\u001b[0;34m)\u001b[0m\u001b[0;34m:\u001b[0m\u001b[0;34m\u001b[0m\u001b[0;34m\u001b[0m\u001b[0m\n",
      "\u001b[0;32m~/.local/share/virtualenvs/datascrapper2-b_UrJEZm/lib/python3.8/site-packages/pymongo/collection.py\u001b[0m in \u001b[0;36m_update\u001b[0;34m(session, sock_info, retryable_write)\u001b[0m\n\u001b[1;32m    844\u001b[0m         \u001b[0;34m\"\"\"Internal update / replace helper.\"\"\"\u001b[0m\u001b[0;34m\u001b[0m\u001b[0;34m\u001b[0m\u001b[0m\n\u001b[1;32m    845\u001b[0m         \u001b[0;32mdef\u001b[0m \u001b[0m_update\u001b[0m\u001b[0;34m(\u001b[0m\u001b[0msession\u001b[0m\u001b[0;34m,\u001b[0m \u001b[0msock_info\u001b[0m\u001b[0;34m,\u001b[0m \u001b[0mretryable_write\u001b[0m\u001b[0;34m)\u001b[0m\u001b[0;34m:\u001b[0m\u001b[0;34m\u001b[0m\u001b[0;34m\u001b[0m\u001b[0m\n\u001b[0;32m--> 846\u001b[0;31m             return self._update(\n\u001b[0m\u001b[1;32m    847\u001b[0m                 \u001b[0msock_info\u001b[0m\u001b[0;34m,\u001b[0m \u001b[0mcriteria\u001b[0m\u001b[0;34m,\u001b[0m \u001b[0mdocument\u001b[0m\u001b[0;34m,\u001b[0m \u001b[0mupsert\u001b[0m\u001b[0;34m=\u001b[0m\u001b[0mupsert\u001b[0m\u001b[0;34m,\u001b[0m\u001b[0;34m\u001b[0m\u001b[0;34m\u001b[0m\u001b[0m\n\u001b[1;32m    848\u001b[0m                 \u001b[0mcheck_keys\u001b[0m\u001b[0;34m=\u001b[0m\u001b[0mcheck_keys\u001b[0m\u001b[0;34m,\u001b[0m \u001b[0mmulti\u001b[0m\u001b[0;34m=\u001b[0m\u001b[0mmulti\u001b[0m\u001b[0;34m,\u001b[0m \u001b[0mmanipulate\u001b[0m\u001b[0;34m=\u001b[0m\u001b[0mmanipulate\u001b[0m\u001b[0;34m,\u001b[0m\u001b[0;34m\u001b[0m\u001b[0;34m\u001b[0m\u001b[0m\n",
      "\u001b[0;32m~/.local/share/virtualenvs/datascrapper2-b_UrJEZm/lib/python3.8/site-packages/pymongo/collection.py\u001b[0m in \u001b[0;36m_update\u001b[0;34m(self, sock_info, criteria, document, upsert, check_keys, multi, manipulate, write_concern, op_id, ordered, bypass_doc_val, collation, array_filters, session, retryable_write)\u001b[0m\n\u001b[1;32m    813\u001b[0m         \u001b[0;31m# The command result has to be published for APM unmodified\u001b[0m\u001b[0;34m\u001b[0m\u001b[0;34m\u001b[0m\u001b[0;34m\u001b[0m\u001b[0m\n\u001b[1;32m    814\u001b[0m         \u001b[0;31m# so we make a shallow copy here before adding updatedExisting.\u001b[0m\u001b[0;34m\u001b[0m\u001b[0;34m\u001b[0m\u001b[0;34m\u001b[0m\u001b[0m\n\u001b[0;32m--> 815\u001b[0;31m         result = sock_info.command(\n\u001b[0m\u001b[1;32m    816\u001b[0m             \u001b[0mself\u001b[0m\u001b[0;34m.\u001b[0m\u001b[0m__database\u001b[0m\u001b[0;34m.\u001b[0m\u001b[0mname\u001b[0m\u001b[0;34m,\u001b[0m\u001b[0;34m\u001b[0m\u001b[0;34m\u001b[0m\u001b[0m\n\u001b[1;32m    817\u001b[0m             \u001b[0mcommand\u001b[0m\u001b[0;34m,\u001b[0m\u001b[0;34m\u001b[0m\u001b[0;34m\u001b[0m\u001b[0m\n",
      "\u001b[0;32m~/.local/share/virtualenvs/datascrapper2-b_UrJEZm/lib/python3.8/site-packages/pymongo/pool.py\u001b[0m in \u001b[0;36mcommand\u001b[0;34m(self, dbname, spec, slave_ok, read_preference, codec_options, check, allowable_errors, check_keys, read_concern, write_concern, parse_write_concern_error, collation, session, client, retryable_write, publish_events, user_fields)\u001b[0m\n\u001b[1;32m    616\u001b[0m         \u001b[0;31m# Catch socket.error, KeyboardInterrupt, etc. and close ourselves.\u001b[0m\u001b[0;34m\u001b[0m\u001b[0;34m\u001b[0m\u001b[0;34m\u001b[0m\u001b[0m\n\u001b[1;32m    617\u001b[0m         \u001b[0;32mexcept\u001b[0m \u001b[0mBaseException\u001b[0m \u001b[0;32mas\u001b[0m \u001b[0merror\u001b[0m\u001b[0;34m:\u001b[0m\u001b[0;34m\u001b[0m\u001b[0;34m\u001b[0m\u001b[0m\n\u001b[0;32m--> 618\u001b[0;31m             \u001b[0mself\u001b[0m\u001b[0;34m.\u001b[0m\u001b[0m_raise_connection_failure\u001b[0m\u001b[0;34m(\u001b[0m\u001b[0merror\u001b[0m\u001b[0;34m)\u001b[0m\u001b[0;34m\u001b[0m\u001b[0;34m\u001b[0m\u001b[0m\n\u001b[0m\u001b[1;32m    619\u001b[0m \u001b[0;34m\u001b[0m\u001b[0m\n\u001b[1;32m    620\u001b[0m     \u001b[0;32mdef\u001b[0m \u001b[0msend_message\u001b[0m\u001b[0;34m(\u001b[0m\u001b[0mself\u001b[0m\u001b[0;34m,\u001b[0m \u001b[0mmessage\u001b[0m\u001b[0;34m,\u001b[0m \u001b[0mmax_doc_size\u001b[0m\u001b[0;34m)\u001b[0m\u001b[0;34m:\u001b[0m\u001b[0;34m\u001b[0m\u001b[0;34m\u001b[0m\u001b[0m\n",
      "\u001b[0;32m~/.local/share/virtualenvs/datascrapper2-b_UrJEZm/lib/python3.8/site-packages/pymongo/pool.py\u001b[0m in \u001b[0;36mcommand\u001b[0;34m(self, dbname, spec, slave_ok, read_preference, codec_options, check, allowable_errors, check_keys, read_concern, write_concern, parse_write_concern_error, collation, session, client, retryable_write, publish_events, user_fields)\u001b[0m\n\u001b[1;32m    601\u001b[0m             \u001b[0mself\u001b[0m\u001b[0;34m.\u001b[0m\u001b[0m_raise_if_not_writable\u001b[0m\u001b[0;34m(\u001b[0m\u001b[0munacknowledged\u001b[0m\u001b[0;34m)\u001b[0m\u001b[0;34m\u001b[0m\u001b[0;34m\u001b[0m\u001b[0m\n\u001b[1;32m    602\u001b[0m         \u001b[0;32mtry\u001b[0m\u001b[0;34m:\u001b[0m\u001b[0;34m\u001b[0m\u001b[0;34m\u001b[0m\u001b[0m\n\u001b[0;32m--> 603\u001b[0;31m             return command(self.sock, dbname, spec, slave_ok,\n\u001b[0m\u001b[1;32m    604\u001b[0m                            \u001b[0mself\u001b[0m\u001b[0;34m.\u001b[0m\u001b[0mis_mongos\u001b[0m\u001b[0;34m,\u001b[0m \u001b[0mread_preference\u001b[0m\u001b[0;34m,\u001b[0m \u001b[0mcodec_options\u001b[0m\u001b[0;34m,\u001b[0m\u001b[0;34m\u001b[0m\u001b[0;34m\u001b[0m\u001b[0m\n\u001b[1;32m    605\u001b[0m                            \u001b[0msession\u001b[0m\u001b[0;34m,\u001b[0m \u001b[0mclient\u001b[0m\u001b[0;34m,\u001b[0m \u001b[0mcheck\u001b[0m\u001b[0;34m,\u001b[0m \u001b[0mallowable_errors\u001b[0m\u001b[0;34m,\u001b[0m\u001b[0;34m\u001b[0m\u001b[0;34m\u001b[0m\u001b[0m\n",
      "\u001b[0;32m~/.local/share/virtualenvs/datascrapper2-b_UrJEZm/lib/python3.8/site-packages/pymongo/network.py\u001b[0m in \u001b[0;36mcommand\u001b[0;34m(sock, dbname, spec, slave_ok, is_mongos, read_preference, codec_options, session, client, check, allowable_errors, address, check_keys, listeners, max_bson_size, read_concern, parse_write_concern_error, collation, compression_ctx, use_op_msg, unacknowledged, user_fields)\u001b[0m\n\u001b[1;32m    155\u001b[0m             \u001b[0mresponse_doc\u001b[0m \u001b[0;34m=\u001b[0m \u001b[0;34m{\u001b[0m\u001b[0;34m\"ok\"\u001b[0m\u001b[0;34m:\u001b[0m \u001b[0;36m1\u001b[0m\u001b[0;34m}\u001b[0m\u001b[0;34m\u001b[0m\u001b[0;34m\u001b[0m\u001b[0m\n\u001b[1;32m    156\u001b[0m         \u001b[0;32melse\u001b[0m\u001b[0;34m:\u001b[0m\u001b[0;34m\u001b[0m\u001b[0;34m\u001b[0m\u001b[0m\n\u001b[0;32m--> 157\u001b[0;31m             \u001b[0mreply\u001b[0m \u001b[0;34m=\u001b[0m \u001b[0mreceive_message\u001b[0m\u001b[0;34m(\u001b[0m\u001b[0msock\u001b[0m\u001b[0;34m,\u001b[0m \u001b[0mrequest_id\u001b[0m\u001b[0;34m)\u001b[0m\u001b[0;34m\u001b[0m\u001b[0;34m\u001b[0m\u001b[0m\n\u001b[0m\u001b[1;32m    158\u001b[0m             unpacked_docs = reply.unpack_response(\n\u001b[1;32m    159\u001b[0m                 codec_options=codec_options, user_fields=user_fields)\n",
      "\u001b[0;32m~/.local/share/virtualenvs/datascrapper2-b_UrJEZm/lib/python3.8/site-packages/pymongo/network.py\u001b[0m in \u001b[0;36mreceive_message\u001b[0;34m(sock, request_id, max_message_size)\u001b[0m\n\u001b[1;32m    194\u001b[0m     \u001b[0;31m# Ignore the response's request id.\u001b[0m\u001b[0;34m\u001b[0m\u001b[0;34m\u001b[0m\u001b[0;34m\u001b[0m\u001b[0m\n\u001b[1;32m    195\u001b[0m     length, _, response_to, op_code = _UNPACK_HEADER(\n\u001b[0;32m--> 196\u001b[0;31m         _receive_data_on_socket(sock, 16))\n\u001b[0m\u001b[1;32m    197\u001b[0m     \u001b[0;31m# No request_id for exhaust cursor \"getMore\".\u001b[0m\u001b[0;34m\u001b[0m\u001b[0;34m\u001b[0m\u001b[0;34m\u001b[0m\u001b[0m\n\u001b[1;32m    198\u001b[0m     \u001b[0;32mif\u001b[0m \u001b[0mrequest_id\u001b[0m \u001b[0;32mis\u001b[0m \u001b[0;32mnot\u001b[0m \u001b[0;32mNone\u001b[0m\u001b[0;34m:\u001b[0m\u001b[0;34m\u001b[0m\u001b[0;34m\u001b[0m\u001b[0m\n",
      "\u001b[0;32m~/.local/share/virtualenvs/datascrapper2-b_UrJEZm/lib/python3.8/site-packages/pymongo/network.py\u001b[0m in \u001b[0;36m_receive_data_on_socket\u001b[0;34m(sock, length)\u001b[0m\n\u001b[1;32m    253\u001b[0m         \u001b[0;32mwhile\u001b[0m \u001b[0mbytes_read\u001b[0m \u001b[0;34m<\u001b[0m \u001b[0mlength\u001b[0m\u001b[0;34m:\u001b[0m\u001b[0;34m\u001b[0m\u001b[0;34m\u001b[0m\u001b[0m\n\u001b[1;32m    254\u001b[0m             \u001b[0;32mtry\u001b[0m\u001b[0;34m:\u001b[0m\u001b[0;34m\u001b[0m\u001b[0;34m\u001b[0m\u001b[0m\n\u001b[0;32m--> 255\u001b[0;31m                 \u001b[0mchunk_length\u001b[0m \u001b[0;34m=\u001b[0m \u001b[0msock\u001b[0m\u001b[0;34m.\u001b[0m\u001b[0mrecv_into\u001b[0m\u001b[0;34m(\u001b[0m\u001b[0mmv\u001b[0m\u001b[0;34m[\u001b[0m\u001b[0mbytes_read\u001b[0m\u001b[0;34m:\u001b[0m\u001b[0;34m]\u001b[0m\u001b[0;34m)\u001b[0m\u001b[0;34m\u001b[0m\u001b[0;34m\u001b[0m\u001b[0m\n\u001b[0m\u001b[1;32m    256\u001b[0m             \u001b[0;32mexcept\u001b[0m \u001b[0;34m(\u001b[0m\u001b[0mIOError\u001b[0m\u001b[0;34m,\u001b[0m \u001b[0mOSError\u001b[0m\u001b[0;34m)\u001b[0m \u001b[0;32mas\u001b[0m \u001b[0mexc\u001b[0m\u001b[0;34m:\u001b[0m\u001b[0;34m\u001b[0m\u001b[0;34m\u001b[0m\u001b[0m\n\u001b[1;32m    257\u001b[0m                 \u001b[0;32mif\u001b[0m \u001b[0m_errno_from_exception\u001b[0m\u001b[0;34m(\u001b[0m\u001b[0mexc\u001b[0m\u001b[0;34m)\u001b[0m \u001b[0;34m==\u001b[0m \u001b[0merrno\u001b[0m\u001b[0;34m.\u001b[0m\u001b[0mEINTR\u001b[0m\u001b[0;34m:\u001b[0m\u001b[0;34m\u001b[0m\u001b[0;34m\u001b[0m\u001b[0m\n",
      "\u001b[0;31mKeyboardInterrupt\u001b[0m: "
     ]
    }
   ],
   "source": [
    "db[\"countries\"].drop()\n",
    "for ct in c:\n",
    "    try:\n",
    "        if (ct['capital_longitude'] != \"\"):\n",
    "            g = process_wb_data(ct)\n",
    "            profile =  process_profile_data(ct[\"iso2code\"])       \n",
    "            db[\"countries\"].update_one({ \"name\" : ct['name'].lower()}, {\"$set\":{\"name\": country_names[ct[\"iso2code\"]].lower(),\n",
    "                                                                       \"aliases\": ct[\"aliases\"],\n",
    "                                                                       \"iso2code\": ct[\"iso2code\"],\n",
    "                                                                       \"iso3code\": ct[\"iso3code\"],\n",
    "                                                                       \"income_level\": ct[\"incomelevel\"],\n",
    "                                                                       \"capital_longitude\": ct[\"capital_longitude\"],\n",
    "                                                                       \"capital_latitude\": ct[\"capital_latitude\"],\n",
    "                                                                       \"lendingtype\": ct[\"lendingtype\"],\n",
    "                                                                       \"region\": ct[\"region\"],\n",
    "                                                                       \"groups\": g,\n",
    "                                                                       \"profile\": profile}}, True)\n",
    "    except ValueError:\n",
    "        pass"
   ]
  },
  {
   "cell_type": "code",
   "execution_count": null,
   "metadata": {},
   "outputs": [],
   "source": [
    "fd['countries']['spain']['data'].keys()"
   ]
  },
  {
   "cell_type": "code",
   "execution_count": 13,
   "metadata": {},
   "outputs": [
    {
     "data": {
      "text/plain": [
       "dict_keys(['country_name', 'government_type', 'capital', 'administrative_divisions', 'independence', 'national_holidays', 'constitution', 'legal_system', 'international_law_organization_participation', 'citizenship', 'suffrage', 'executive_branch', 'legislative_branch', 'judicial_branch', 'political_parties_and_leaders', 'international_organization_participation', 'diplomatic_representation', 'flag_description', 'national_symbol', 'national_anthem'])"
      ]
     },
     "execution_count": 13,
     "metadata": {},
     "output_type": "execute_result"
    }
   ],
   "source": [
    "fd['countries']['spain']['data']['government'].keys()"
   ]
  },
  {
   "cell_type": "code",
   "execution_count": 18,
   "metadata": {},
   "outputs": [
    {
     "data": {
      "text/plain": [
       "'three horizontal bands of red (top), yellow (double width), and red with the national coat of arms on the hoist side of the yellow band; the coat of arms is quartered to display the emblems of the traditional kingdoms of Spain (clockwise from upper left, Castile, Leon, Navarre, and Aragon) while Granada is represented by the stylized pomegranate at the bottom of the shield; the arms are framed by two columns representing the Pillars of Hercules, which are the two promontories (Gibraltar and Ceuta) on either side of the eastern end of the Strait of Gibraltar; the red scroll across the two columns bears the imperial motto of \"Plus Ultra\" (further beyond) referring to Spanish lands beyond Europe; the triband arrangement with the center stripe twice the width of the outer dates to the 18th century'"
      ]
     },
     "execution_count": 18,
     "metadata": {},
     "output_type": "execute_result"
    }
   ],
   "source": [
    "fd['countries']['spain']['data']['government']['flag_description']['description']"
   ]
  },
  {
   "cell_type": "code",
   "execution_count": null,
   "metadata": {},
   "outputs": [],
   "source": []
  }
 ],
 "metadata": {
  "kernelspec": {
   "display_name": "Python 3",
   "language": "python",
   "name": "python3"
  },
  "language_info": {
   "codemirror_mode": {
    "name": "ipython",
    "version": 3
   },
   "file_extension": ".py",
   "mimetype": "text/x-python",
   "name": "python",
   "nbconvert_exporter": "python",
   "pygments_lexer": "ipython3",
   "version": "3.8.0"
  }
 },
 "nbformat": 4,
 "nbformat_minor": 4
}
