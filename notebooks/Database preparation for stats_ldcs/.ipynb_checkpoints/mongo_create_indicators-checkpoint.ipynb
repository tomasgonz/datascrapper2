{
 "cells": [
  {
   "cell_type": "code",
   "execution_count": 1,
   "metadata": {
    "ExecuteTime": {
     "end_time": "2019-12-03T21:19:41.029437Z",
     "start_time": "2019-12-03T21:19:39.525639Z"
    }
   },
   "outputs": [],
   "source": [
    "import sys\n",
    "sys.path.append(\"../..\")\n",
    "from sources import *\n",
    "import os\n",
    "from IPython.display import clear_output\n",
    "from pymongo import MongoClient\n",
    "client = MongoClient('stats.whereistomas.org', username='root', password='Root!0676')\n",
    "db = client[\"stats\"]\n",
    "import time"
   ]
  },
  {
   "cell_type": "code",
   "execution_count": 2,
   "metadata": {
    "ExecuteTime": {
     "end_time": "2019-12-03T21:19:46.566049Z",
     "start_time": "2019-12-03T21:19:41.831920Z"
    }
   },
   "outputs": [],
   "source": [
    "from sources import worldbank as wb\n",
    "wb.indicators.load_all()"
   ]
  },
  {
   "cell_type": "code",
   "execution_count": 4,
   "metadata": {
    "ExecuteTime": {
     "end_time": "2019-12-03T21:38:31.894995Z",
     "start_time": "2019-12-03T21:38:31.891351Z"
    }
   },
   "outputs": [],
   "source": [
    "indicators_to_retrieve = [\"SP.POP.TOTL\", \n",
    "                          \"SH.DYN.MORT\", \n",
    "                          \"EN.ATM.CO2E.PC\", \n",
    "                          \"NY.GNP.PCAP.CD\", \n",
    "                          \"EG.ELC.ACCS.ZS\", \n",
    "                          \"DT.ODA.ODAT.GN.ZS\",\n",
    "                         \"SE.ENR.PRSC.FM.ZS\",\n",
    "                         \"NY.GDP.MKTP.KD.ZG\",\n",
    "                         \"NY.GDP.PCAP.KD.ZG\",\n",
    "                         \"DT.DOD.DECT.GN.ZS\",\n",
    "                         \"SP.POP.TOTL\",\n",
    "                         \"NE.EXP.GNFS.ZS\",\n",
    "                         \"FP.CPI.TOTL.ZG\",\n",
    "                         \"SL.TLF.TOTL.IN\",\n",
    "                         \"EG.ELC.RNEW.ZS\",\n",
    "                         \"NY.GDP.TOTL.RT.ZS\",\n",
    "                         \"EN.ATM.GHGT.KT.CE\",\n",
    "                         \"BX.GRT.TECH.CD.WD\",\n",
    "                         \"FM.LBL.BMNY.GD.ZS\"\n",
    "                         \"FS.AST.PRVT.GD.ZS\",\n",
    "                         \"BX.TRF.PWKR.CD.DT\",\n",
    "                         \"FI.RES.TOTL.CD\",\n",
    "                         \"SP.ADO.TFRT\",\n",
    "                         \"SE.PRM.UNER.MA\",\n",
    "                         \"SP.POP.DPND\",\n",
    "                         \"EG.USE.ELEC.KH.PC\",\n",
    "                         \"EN.POP.SLUM.UR.ZS\",\n",
    "                         \"TX.VAL.FUEL.ZS.UN\",\n",
    "                         \"ST.INT.RCPT.XP.ZS\",\n",
    "                         \"TX.VAL.MRCH.CD.WT\",\n",
    "                         \"TG.VAL.TOTL.GD.ZS\",\n",
    "                         \"MS.MIL.XPND.ZS\",\n",
    "                         \"SG.GEN.PARL.ZS\",\n",
    "                         \"IP.JRN.ARTC.SC\",\n",
    "                         \"SP.URB.TOTL.IN.ZS\"]"
   ]
  },
  {
   "cell_type": "code",
   "execution_count": 5,
   "metadata": {
    "ExecuteTime": {
     "end_time": "2019-12-03T21:53:46.136029Z",
     "start_time": "2019-12-03T21:53:46.129984Z"
    }
   },
   "outputs": [],
   "source": [
    "from geo.data import world\n",
    "def process_wb_data(data):\n",
    "    new_data =[];\n",
    "    for dp in data:\n",
    "        if dp['entity'] in world:\n",
    "            new_data.append({'entity':dp['entity'].lower(), 'date': dp['date'], 'value': dp['value']})\n",
    "        else:\n",
    "            pass\n",
    "        \n",
    "    return new_data"
   ]
  },
  {
   "cell_type": "code",
   "execution_count": null,
   "metadata": {
    "ExecuteTime": {
     "end_time": "2019-12-03T21:54:37.321371Z",
     "start_time": "2019-12-03T21:54:16.362813Z"
    }
   },
   "outputs": [
    {
     "name": "stdout",
     "output_type": "stream",
     "text": [
      "BXGRTTECHCDWD\n",
      "Technical cooperation grants (BoP, current US$)\n",
      "Updating BX.TRF.PWKR.CD.DT from server.\n",
      "BXTRFPWKRCDDT\n",
      "Personal remittances, received (current US$)\n"
     ]
    }
   ],
   "source": [
    "i = 0\n",
    "j = 0\n",
    "years= list(map(str, list(range(1962,2018))))\n",
    "for ind in wb.indicators.Indicators:\n",
    "    if ind.name in indicators_to_retrieve:        \n",
    "        try:\n",
    "            data = wb.indicators.get(name=ind.name, \n",
    "                                     years=years, \n",
    "                                     countries=world)\n",
    "            \n",
    "            ddata = process_wb_data(data['data'])\n",
    "            print (data['name'])\n",
    "            print (data['description'])            \n",
    "            time.sleep(1)        \n",
    "            \n",
    "            db[\"indicators\"].update_one({ \"name\" : data['name']}, \n",
    "                           {\"$set\":{\"name\" : data['name'], \n",
    "                                    \"description\" : data['description'], \n",
    "                                    \"years\" : years, \n",
    "                                    \"sourceNote\" : ind.sourcenote,\n",
    "                                    \"connector\" : data['source'],\n",
    "                                    \"datasource\" : ind.datasource,\n",
    "                                    \"sourceurl\" : data['sourceurl'], \n",
    "                                    \"keyField\" : \"entity\",\n",
    "                                    \"pivotField\" : \"date\",\n",
    "                                    \"valueField\" : \"value\",\n",
    "                                    'data' : ddata}}, True)\n",
    "        except ValueError:\n",
    "            print(ValueError)\n",
    "            pass"
   ]
  },
  {
   "cell_type": "code",
   "execution_count": null,
   "metadata": {},
   "outputs": [],
   "source": []
  }
 ],
 "metadata": {
  "kernelspec": {
   "display_name": "Python 3",
   "language": "python",
   "name": "python3"
  },
  "language_info": {
   "codemirror_mode": {
    "name": "ipython",
    "version": 3
   },
   "file_extension": ".py",
   "mimetype": "text/x-python",
   "name": "python",
   "nbconvert_exporter": "python",
   "pygments_lexer": "ipython3",
   "version": "3.8.0"
  }
 },
 "nbformat": 4,
 "nbformat_minor": 4
}
