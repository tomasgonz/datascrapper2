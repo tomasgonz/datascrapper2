{
 "cells": [
  {
   "cell_type": "code",
   "execution_count": 1,
   "metadata": {},
   "outputs": [
    {
     "ename": "NameError",
     "evalue": "name 'get_group_json_files' is not defined",
     "output_type": "error",
     "traceback": [
      "\u001b[0;31m---------------------------------------------------------------------------\u001b[0m",
      "\u001b[0;31mNameError\u001b[0m                                 Traceback (most recent call last)",
      "\u001b[0;32m<ipython-input-1-1343cfb130cf>\u001b[0m in \u001b[0;36m<module>\u001b[0;34m\u001b[0m\n\u001b[1;32m     30\u001b[0m                 \u001b[0mf\u001b[0m\u001b[0;34m.\u001b[0m\u001b[0mclose\u001b[0m\u001b[0;34m(\u001b[0m\u001b[0;34m)\u001b[0m\u001b[0;34m\u001b[0m\u001b[0;34m\u001b[0m\u001b[0m\n\u001b[1;32m     31\u001b[0m \u001b[0;32mfor\u001b[0m \u001b[0mcountry\u001b[0m \u001b[0;32min\u001b[0m \u001b[0mcountry_alias\u001b[0m\u001b[0;34m:\u001b[0m\u001b[0;34m\u001b[0m\u001b[0;34m\u001b[0m\u001b[0m\n\u001b[0;32m---> 32\u001b[0;31m     \u001b[0;32mfor\u001b[0m \u001b[0mgfile\u001b[0m \u001b[0;32min\u001b[0m \u001b[0mget_group_json_files\u001b[0m\u001b[0;34m(\u001b[0m\u001b[0;34m)\u001b[0m\u001b[0;34m:\u001b[0m\u001b[0;34m\u001b[0m\u001b[0;34m\u001b[0m\u001b[0m\n\u001b[0m\u001b[1;32m     33\u001b[0m         \u001b[0mreplace\u001b[0m\u001b[0;34m(\u001b[0m\u001b[0mgfile\u001b[0m\u001b[0;34m,\u001b[0m \u001b[0mcountry\u001b[0m\u001b[0;34m,\u001b[0m \u001b[0mcountry_alias\u001b[0m\u001b[0;34m[\u001b[0m\u001b[0mcountry\u001b[0m\u001b[0;34m]\u001b[0m\u001b[0;34m)\u001b[0m\u001b[0;34m\u001b[0m\u001b[0;34m\u001b[0m\u001b[0m\n",
      "\u001b[0;31mNameError\u001b[0m: name 'get_group_json_files' is not defined"
     ]
    }
   ],
   "source": [
    "import sys\n",
    "sys.path.append(\"../..\")\n",
    "# from sources import *\n",
    "import os\n",
    "import os.path\n",
    "from IPython.display import clear_output\n",
    "import time\n",
    "from geo.countries import Countries\n",
    "from geo.utils import extract_countries\n",
    "from geo.data import country_alias\n",
    "c = Countries()\n",
    "c.load_wb()\n",
    "from data.Frame import Frame\n",
    "import requests\n",
    "import urllib\n",
    "import json\n",
    "import requests\n",
    "import json\n",
    "from pymongo import MongoClient\n",
    "import db\n",
    "\n",
    "# Get all json files containing group definitions\n",
    "def get_group_json_files():\n",
    "    from pathlib import Path\n",
    "    path = Path(os.getcwd())\n",
    "    files = []\n",
    "    for f in os.listdir(str(path.parent.parent) + '//geo///cache/groups//'):\n",
    "        files.append(str(path.parent.parent) + '//geo//cache//groups//' + f)\n",
    "    \n",
    "    return files\n",
    "def replace(file, name, aliases):\n",
    "    for alias in aliases:\n",
    "        with open(file, 'r', encoding='utf8') as f:\n",
    "            data = f.read()\n",
    "            se = (\"%s%s%s\" %(\"'\", alias,\"'\"))\n",
    "            data = data.replace(se, name)\n",
    "            with open(file, 'w', encoding='utf8') as f:\n",
    "                f.write(data)\n",
    "                f.close()\n",
    "                \n",
    "for country in country_alias:\n",
    "    for gfile in get_group_json_files():\n",
    "        replace(gfile, country, country_alias[country])"
   ]
  },
  {
   "cell_type": "code",
   "execution_count": 27,
   "metadata": {},
   "outputs": [
    {
     "data": {
      "text/plain": [
       "False"
      ]
     },
     "execution_count": 27,
     "metadata": {},
     "output_type": "execute_result"
    }
   ],
   "source": [
    "client = MongoClient('stats.whereistomas.org', username='root', password='Root!0676')\n",
    "db = client[\"stats\"]\n",
    "url = 'http://country.io/names.json'\n",
    "response = urllib.request.urlopen(url)\n",
    "data = response.read().decode('utf-8')\n",
    "country_names = json.loads(data)\n",
    "\n",
    "db[\"groups\"].drop()\n",
    "\n",
    "def read_json_file(fi):\n",
    "    with open(fi) as f:\n",
    "        d = json.load(f)\n",
    "    return d\n",
    "\n",
    "for f in get_group_json_files():    \n",
    "    print (\"Processing %s\" % (f))\n",
    "    if \"json\" in f:\n",
    "        data = read_json_file(f)\n",
    "        db[\"groups\"].insert_one(data)"
   ]
  },
  {
   "cell_type": "code",
   "execution_count": null,
   "metadata": {},
   "outputs": [],
   "source": []
  }
 ],
 "metadata": {
  "kernelspec": {
   "display_name": "datascrapper",
   "language": "python",
   "name": "datascrapper"
  },
  "language_info": {
   "codemirror_mode": {
    "name": "ipython",
    "version": 3
   },
   "file_extension": ".py",
   "mimetype": "text/x-python",
   "name": "python",
   "nbconvert_exporter": "python",
   "pygments_lexer": "ipython3",
   "version": "3.8.5"
  }
 },
 "nbformat": 4,
 "nbformat_minor": 4
}
