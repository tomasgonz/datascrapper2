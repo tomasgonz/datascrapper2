{
 "cells": [
  {
   "cell_type": "code",
   "execution_count": 54,
   "metadata": {},
   "outputs": [],
   "source": [
    "import sys\n",
    "sys.path.append(\"../..\")\n",
    "# from sources import *\n",
    "import os\n",
    "import os.path\n",
    "from IPython.display import clear_output\n",
    "import time\n",
    "from geo.countries import Countries\n",
    "from geo.utils import extract_countries\n",
    "from data.Frame import Frame\n",
    "c = Countries()\n",
    "c.load_wb()\n",
    "import requests\n",
    "import urllib\n",
    "import json\n",
    "import requests\n",
    "import json\n",
    "from pymongo import MongoClient\n",
    "import db\n",
    "\n",
    "client = MongoClient('stats.whereistomas.org', username='root', password='Root!0676')\n",
    "db = client[\"stats\"]\n",
    "url = 'http://country.io/names.json'\n",
    "response = urllib.request.urlopen(url)\n",
    "data = response.read().decode('utf-8')\n",
    "country_names = json.loads(data)"
   ]
  },
  {
   "cell_type": "code",
   "execution_count": 55,
   "metadata": {},
   "outputs": [
    {
     "output_type": "error",
     "ename": "TypeError",
     "evalue": "'Collection' object is not callable. If you meant to call the 'sinert_one' method on a 'Collection' object it is failing because no such method exists.",
     "traceback": [
      "\u001b[1;31m---------------------------------------------------------------------------\u001b[0m",
      "\u001b[1;31mTypeError\u001b[0m                                 Traceback (most recent call last)",
      "\u001b[1;32m<ipython-input-55-a18760a7acf8>\u001b[0m in \u001b[0;36m<module>\u001b[1;34m\u001b[0m\n\u001b[0;32m     18\u001b[0m \u001b[1;32mfor\u001b[0m \u001b[0mf\u001b[0m \u001b[1;32min\u001b[0m \u001b[0mget_group_json_files\u001b[0m\u001b[1;33m(\u001b[0m\u001b[1;33m)\u001b[0m\u001b[1;33m:\u001b[0m\u001b[1;33m\u001b[0m\u001b[1;33m\u001b[0m\u001b[0m\n\u001b[0;32m     19\u001b[0m     \u001b[0mdata\u001b[0m \u001b[1;33m=\u001b[0m \u001b[0mread_json_file\u001b[0m\u001b[1;33m(\u001b[0m\u001b[0mf\u001b[0m\u001b[1;33m)\u001b[0m\u001b[1;33m\u001b[0m\u001b[1;33m\u001b[0m\u001b[0m\n\u001b[1;32m---> 20\u001b[1;33m     \u001b[0mdb\u001b[0m\u001b[1;33m[\u001b[0m\u001b[1;34m\"groups\"\u001b[0m\u001b[1;33m]\u001b[0m\u001b[1;33m.\u001b[0m\u001b[0msinert_one\u001b[0m\u001b[1;33m(\u001b[0m\u001b[0mdata\u001b[0m\u001b[1;33m)\u001b[0m\u001b[1;33m\u001b[0m\u001b[1;33m\u001b[0m\u001b[0m\n\u001b[0m",
      "\u001b[1;32m~\\.virtualenvs\\datascrapper2-BF5814Rb\\lib\\site-packages\\pymongo\\collection.py\u001b[0m in \u001b[0;36m__call__\u001b[1;34m(self, *args, **kwargs)\u001b[0m\n\u001b[0;32m   3443\u001b[0m                             \u001b[1;34m\"exists.\"\u001b[0m \u001b[1;33m%\u001b[0m\u001b[1;33m\u001b[0m\u001b[1;33m\u001b[0m\u001b[0m\n\u001b[0;32m   3444\u001b[0m                             self.__name)\n\u001b[1;32m-> 3445\u001b[1;33m         raise TypeError(\"'Collection' object is not callable. If you meant to \"\n\u001b[0m\u001b[0;32m   3446\u001b[0m                         \u001b[1;34m\"call the '%s' method on a 'Collection' object it is \"\u001b[0m\u001b[1;33m\u001b[0m\u001b[1;33m\u001b[0m\u001b[0m\n\u001b[0;32m   3447\u001b[0m                         \u001b[1;34m\"failing because no such method exists.\"\u001b[0m \u001b[1;33m%\u001b[0m\u001b[1;33m\u001b[0m\u001b[1;33m\u001b[0m\u001b[0m\n",
      "\u001b[1;31mTypeError\u001b[0m: 'Collection' object is not callable. If you meant to call the 'sinert_one' method on a 'Collection' object it is failing because no such method exists."
     ]
    }
   ],
   "source": [
    "# Get all json files containing group definitions\n",
    "def get_group_json_files():\n",
    "    from pathlib import Path\n",
    "    path = Path(os.getcwd())\n",
    "    files = []\n",
    "    for f in os.listdir(str(path.parent.parent) + '\\\\geo\\\\cache\\\\groups\\\\'):\n",
    "        files.append(str(path.parent.parent) + '\\\\geo\\\\cache\\\\groups\\\\' + f)\n",
    "    \n",
    "    return files\n",
    "\n",
    "db[\"groups\"].drop()\n",
    "\n",
    "def read_json_file(fi):\n",
    "    with open(fi) as f:\n",
    "        d = json.load(f)\n",
    "    return d\n",
    "\n",
    "for f in get_group_json_files():    \n",
    "    data = read_json_file(f)\n",
    "    db[\"groups\"].insert_one(data)"
   ]
  },
  {
   "cell_type": "code",
   "execution_count": null,
   "metadata": {},
   "outputs": [],
   "source": []
  }
 ],
 "metadata": {
  "kernelspec": {
   "display_name": "Python 3",
   "language": "python",
   "name": "python3"
  },
  "language_info": {
   "codemirror_mode": {
    "name": "ipython",
    "version": 3
   },
   "file_extension": ".py",
   "mimetype": "text/x-python",
   "name": "python",
   "nbconvert_exporter": "python",
   "pygments_lexer": "ipython3",
   "version": "3.8.5"
  }
 },
 "nbformat": 4,
 "nbformat_minor": 4
}