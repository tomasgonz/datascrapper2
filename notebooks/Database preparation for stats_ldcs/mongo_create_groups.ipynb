{
 "cells": [
  {
   "cell_type": "code",
   "execution_count": 1,
   "metadata": {},
   "outputs": [],
   "source": [
    "import sys\n",
    "sys.path.append(\"../..\")\n",
    "# from sources import *\n",
    "import os\n",
    "import os.path\n",
    "from IPython.display import clear_output\n",
    "import time\n",
    "from geo.countries import Countries\n",
    "from geo.utils import extract_countries\n",
    "from data.Frame import Frame\n",
    "c = Countries()\n",
    "c.load_wb()\n",
    "import requests\n",
    "import urllib\n",
    "import json\n",
    "import requests\n",
    "import json"
   ]
  },
  {
   "cell_type": "code",
   "execution_count": 2,
   "metadata": {},
   "outputs": [],
   "source": [
    "from pymongo import MongoClient\n",
    "import db\n",
    "client = MongoClient('stats.whereistomas.org', username='root', password='Root!0676')\n",
    "db = client[\"stats\"]\n",
    "url = 'http://country.io/names.json'\n",
    "response = urllib.request.urlopen(url)\n",
    "data = response.read().decode('utf-8')\n",
    "country_names = json.loads(data)"
   ]
  },
  {
   "cell_type": "code",
   "execution_count": 3,
   "metadata": {},
   "outputs": [],
   "source": [
    "ldcs = c.get_group(\"LDCs\")"
   ]
  },
  {
   "cell_type": "code",
   "execution_count": 4,
   "metadata": {},
   "outputs": [],
   "source": [
    "def add_group_to_db(name, data):    \n",
    "    try:\n",
    "        db[\"groups\"].update_one({ \"name\" : name}, {\"$set\":{\"name\": name,\n",
    "                                                               \"countries\": data}}, True)\n",
    "    except ValueError:\n",
    "        pass"
   ]
  },
  {
   "cell_type": "code",
   "execution_count": 6,
   "metadata": {},
   "outputs": [],
   "source": [
    "db[\"groups\"].drop()\n",
    "add_group_to_db(\"LDCs\", c.get_group(\"LDCs\").get_names())\n",
    "add_group_to_db(\"LLDCs\", c.get_group(\"LLDCs\").get_names())\n",
    "add_group_to_db(\"SIDS\", c.get_group(\"SIDS\").get_names())\n",
    "add_group_to_db(\"Developing excluding LDCs\", c.get_group(\"Developing excluding LDCs\").get_names())\n",
    "add_group_to_db(\"OECD\", c.get_group(\"OECD\").get_names())"
   ]
  },
  {
   "cell_type": "code",
   "execution_count": null,
   "metadata": {},
   "outputs": [],
   "source": []
  }
 ],
 "metadata": {
  "kernelspec": {
   "display_name": "Python 3",
   "language": "python",
   "name": "python3"
  },
  "language_info": {
   "codemirror_mode": {
    "name": "ipython",
    "version": 3
   },
   "file_extension": ".py",
   "mimetype": "text/x-python",
   "name": "python",
   "nbconvert_exporter": "python",
   "pygments_lexer": "ipython3",
   "version": "3.8.5"
  }
 },
 "nbformat": 4,
 "nbformat_minor": 4
}
