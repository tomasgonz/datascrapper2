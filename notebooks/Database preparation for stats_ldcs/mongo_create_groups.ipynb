{
 "cells": [
  {
   "cell_type": "code",
   "execution_count": 1,
   "metadata": {},
   "outputs": [],
   "source": [
    "import sys\n",
    "sys.path.append(\"../..\")\n",
    "# from sources import *\n",
    "import os\n",
    "import os.path\n",
    "from IPython.display import clear_output\n",
    "import time\n",
    "from geo.countries import Countries\n",
    "from geo.utils import extract_countries\n",
    "from data.Frame import Frame\n",
    "c = Countries()\n",
    "c.load_wb()\n",
    "import requests\n",
    "import urllib\n",
    "import json\n",
    "import requests\n",
    "import json\n",
    "from pymongo import MongoClient\n",
    "import db\n",
    "\n",
    "client = MongoClient('stats.whereistomas.org', username='root', password='Root!0676')\n",
    "db = client[\"stats\"]\n",
    "url = 'http://country.io/names.json'\n",
    "response = urllib.request.urlopen(url)\n",
    "data = response.read().decode('utf-8')\n",
    "country_names = json.loads(data)\n",
    "\n",
    "# Get all json files containing group definitions\n",
    "def get_group_json_files():\n",
    "    from pathlib import Path\n",
    "    path = Path(os.getcwd())\n",
    "    files = []\n",
    "    for f in os.listdir(str(path.parent.parent) + '\\\\geo\\\\cache\\\\groups\\\\'):\n",
    "        files.append(str(path.parent.parent) + '\\\\geo\\\\cache\\\\groups\\\\' + f)\n",
    "    \n",
    "    return files\n",
    "\n",
    "db[\"groups\"].drop()\n",
    "\n",
    "def read_json_file(fi):\n",
    "    with open(fi) as f:\n",
    "        d = json.load(f)\n",
    "    return d\n",
    "\n",
    "for f in get_group_json_files():    \n",
    "    data = read_json_file(f)\n",
    "    db[\"groups\"].insert_one(data)"
   ]
  }
 ],
 "metadata": {
  "kernelspec": {
   "display_name": "Python 3",
   "language": "python",
   "name": "python3"
  },
  "language_info": {
   "codemirror_mode": {
    "name": "ipython",
    "version": 3
   },
   "file_extension": ".py",
   "mimetype": "text/x-python",
   "name": "python",
   "nbconvert_exporter": "python",
   "pygments_lexer": "ipython3",
   "version": "3.8.5"
  }
 },
 "nbformat": 4,
 "nbformat_minor": 4
}
