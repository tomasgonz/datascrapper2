{
 "cells": [
  {
   "cell_type": "code",
   "execution_count": 7,
   "id": "532410ab",
   "metadata": {},
   "outputs": [],
   "source": [
    "import os\n",
    "import sys\n",
    "module_path = os.path.abspath(os.path.join('../..'))\n",
    "if module_path not in sys.path:\n",
    "    sys.path.append(module_path)\n",
    "from sources import oecd\n",
    "from geo.countries import Countries\n",
    "from geo.groups import *\n",
    "c = Countries()\n",
    "c.load_wb()"
   ]
  },
  {
   "cell_type": "code",
   "execution_count": 2,
   "id": "4671439d",
   "metadata": {},
   "outputs": [],
   "source": [
    "ldcs = c.get_group('LDCs').get_names()\n",
    "odcs = c.get_group('Developing excluding LDCs').get_names()"
   ]
  },
  {
   "cell_type": "code",
   "execution_count": 3,
   "id": "c53357a1",
   "metadata": {},
   "outputs": [],
   "source": [
    "data = oecd.oda.get_data(['Humanitarian Aid'], [2010,2011,2012,2013,2014,2015], ['Official Donors, Total'], ldcs)"
   ]
  },
  {
   "cell_type": "code",
   "execution_count": 4,
   "id": "ab8cb842",
   "metadata": {},
   "outputs": [],
   "source": [
    "donors = oecd.oda.data['Donor'].unique()"
   ]
  },
  {
   "cell_type": "code",
   "execution_count": 8,
   "id": "401d9706",
   "metadata": {},
   "outputs": [
    {
     "data": {
      "text/plain": [
       "array([2011, 2012, 2013, 2014, 2015, 2016, 2017, 2018, 2019, 2020],\n",
       "      dtype=int64)"
      ]
     },
     "execution_count": 8,
     "metadata": {},
     "output_type": "execute_result"
    }
   ],
   "source": [
    "oecd.oda.get_years()"
   ]
  },
  {
   "cell_type": "code",
   "execution_count": 5,
   "id": "3a165aaf",
   "metadata": {},
   "outputs": [
    {
     "data": {
      "text/plain": [
       "array(['Official Donors, Total', 'DAC Countries, Total', 'Australia',\n",
       "       'Austria', 'Belgium', 'Canada', 'Denmark', 'Finland', 'France',\n",
       "       'Germany', 'Greece', 'Ireland', 'Italy', 'Japan', 'Korea',\n",
       "       'Luxembourg', 'Netherlands', 'New Zealand', 'Norway', 'Portugal',\n",
       "       'Spain', 'Sweden', 'Switzerland', 'United Kingdom',\n",
       "       'United States', 'Multilaterals, Total',\n",
       "       'African Development Bank [AfDB]',\n",
       "       'African Development Fund [AfDF]', 'Arab Fund (AFESD)',\n",
       "       'Arab Bank for Economic Development in Africa [BADEA]',\n",
       "       'EU Institutions',\n",
       "       'Global Alliance for Vaccines and Immunization [GAVI]',\n",
       "       'Global Environment Facility [GEF]', 'Global Fund',\n",
       "       'International Atomic Energy Agency [IAEA]',\n",
       "       'International Development Association [IDA]', 'IFAD',\n",
       "       'IMF (Concessional Trust Funds)',\n",
       "       'Islamic Development Bank [IsDB]', 'Nordic Development Fund [NDF]',\n",
       "       'OPEC Fund for International Development [OPEC Fund]', 'UNAIDS',\n",
       "       'UNDP', 'UNFPA', 'UNHCR', 'UNICEF',\n",
       "       'UN Peacebuilding Fund [UNPBF]', 'WFP',\n",
       "       'World Health Organisation [WHO]', 'Non-DAC Countries, Total',\n",
       "       'Bulgaria', 'Chinese Taipei', 'Cyprus', 'Czech Republic',\n",
       "       'Estonia', 'Hungary', 'Iceland', 'Israel', 'Kuwait', 'Latvia',\n",
       "       'Lithuania', 'Malta', 'Poland', 'Romania', 'Saudi Arabia',\n",
       "       'Slovak Republic', 'Slovenia', 'Thailand', 'Türkiye',\n",
       "       'United Arab Emirates', 'Private Donors, Total',\n",
       "       'Bill & Melinda Gates Foundation',\n",
       "       'Global Green Growth Institute [GGGI]', 'Montreal Protocol',\n",
       "       'OSCE', 'UNRWA', 'Croatia', 'Liechtenstein', 'UNECE',\n",
       "       'Climate Investment Funds [CIF]', 'Adaptation Fund',\n",
       "       'Council of Europe Development Bank [CEB]',\n",
       "       'Food and Agriculture Organisation [FAO]', 'Kazakhstan',\n",
       "       'International Labour Organisation [ILO]', 'Timor-Leste',\n",
       "       'United Nations, Total', 'World Bank Group, Total',\n",
       "       'World Bank, Total', 'Regional Development Banks, Total',\n",
       "       'International Monetary Fund, Total', 'Other Multilateral, Total',\n",
       "       'African Development Bank, Total', 'Asian Development Bank, Total',\n",
       "       'Inter-American Development Bank, Total', 'UNEP', 'Azerbaijan',\n",
       "       'Caribbean Development Bank [CarDB]'], dtype=object)"
      ]
     },
     "execution_count": 5,
     "metadata": {},
     "output_type": "execute_result"
    }
   ],
   "source": [
    "oecd.oda.get_donors()"
   ]
  },
  {
   "cell_type": "code",
   "execution_count": null,
   "id": "568cce4a",
   "metadata": {},
   "outputs": [],
   "source": []
  }
 ],
 "metadata": {
  "kernelspec": {
   "display_name": "Python 3 (ipykernel)",
   "language": "python",
   "name": "python3"
  },
  "language_info": {
   "codemirror_mode": {
    "name": "ipython",
    "version": 3
   },
   "file_extension": ".py",
   "mimetype": "text/x-python",
   "name": "python",
   "nbconvert_exporter": "python",
   "pygments_lexer": "ipython3",
   "version": "3.10.7"
  }
 },
 "nbformat": 4,
 "nbformat_minor": 5
}
