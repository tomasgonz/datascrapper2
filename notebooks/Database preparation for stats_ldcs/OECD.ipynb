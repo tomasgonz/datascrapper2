{
 "cells": [
  {
   "cell_type": "code",
   "execution_count": 1,
   "id": "532410ab",
   "metadata": {},
   "outputs": [],
   "source": [
    "import sys\n",
    "sys.path.append(\"../..\")\n",
    "import urllib\n",
    "import pandas as pd\n",
    "import mitosheet\n",
    "import plotly.express as px\n",
    "from geo.countries import Countries\n",
    "from geo.groups import *\n",
    "import \n",
    "c = Countries()\n",
    "c.load_wb()"
   ]
  },
  {
   "cell_type": "code",
   "execution_count": 2,
   "id": "f039a871",
   "metadata": {},
   "outputs": [],
   "source": [
    "data = pd.read_csv('table2aoecd.csv')"
   ]
  },
  {
   "cell_type": "code",
   "execution_count": 3,
   "id": "f978bf41",
   "metadata": {},
   "outputs": [],
   "source": [
    "# Get the name of columns\n",
    "# data.columns\n",
    "# Get a sense of the counts of different values\n",
    "# data['Aid type'].value_counts()"
   ]
  },
  {
   "cell_type": "code",
   "execution_count": 4,
   "id": "68eeda2a",
   "metadata": {},
   "outputs": [],
   "source": [
    "# Get only official donors and aid type ODA total net\n",
    "data_net_oda = data[(data['Donor'] == 'Official Donors, Total') & (data['Aid type'] == 'ODA: Total Net')]\n",
    "# Get only the LDCs\n",
    "data_net_oda_ldcs = data_net_oda[data_net_oda['Recipient'].isin(get_group(\"LDCs\").get_names_and_aliases())]\n",
    "# Get other developing countries\n",
    "data_net_oda_odcs = data_net_oda[data_net_oda['Recipient'].isin(get_group(\"Developing excluding LDCs\").get_names_and_aliases())]"
   ]
  },
  {
   "cell_type": "code",
   "execution_count": 5,
   "id": "cde8da38",
   "metadata": {},
   "outputs": [
    {
     "data": {
      "text/html": [
       "<div><div id=9d45659b-a43c-49d9-a646-926b77072232 style=\"display:none; background-color:#9D6CFF; color:white; width:200px; height:30px; padding-left:5px; border-radius:4px; flex-direction:row; justify-content:space-around; align-items:center;\" onmouseover=\"this.style.backgroundColor='#BA9BF8'\" onmouseout=\"this.style.backgroundColor='#9D6CFF'\" onclick=\"window.commands?.execute('create-mitosheet-from-dataframe-output');\">See Full Dataframe in Mito</div> <script> if (window.commands?.hasCommand('create-mitosheet-from-dataframe-output')) document.getElementById('9d45659b-a43c-49d9-a646-926b77072232').style.display = 'flex' </script> <table border=\"1\" class=\"dataframe\">\n",
       "  <thead>\n",
       "    <tr style=\"text-align: right;\">\n",
       "      <th></th>\n",
       "      <th>Value</th>\n",
       "    </tr>\n",
       "    <tr>\n",
       "      <th>Year</th>\n",
       "      <th></th>\n",
       "    </tr>\n",
       "  </thead>\n",
       "  <tbody>\n",
       "    <tr>\n",
       "      <th>2011</th>\n",
       "      <td>79339.80</td>\n",
       "    </tr>\n",
       "    <tr>\n",
       "      <th>2012</th>\n",
       "      <td>75007.86</td>\n",
       "    </tr>\n",
       "    <tr>\n",
       "      <th>2013</th>\n",
       "      <td>83364.19</td>\n",
       "    </tr>\n",
       "    <tr>\n",
       "      <th>2014</th>\n",
       "      <td>74927.66</td>\n",
       "    </tr>\n",
       "    <tr>\n",
       "      <th>2015</th>\n",
       "      <td>78176.80</td>\n",
       "    </tr>\n",
       "    <tr>\n",
       "      <th>2016</th>\n",
       "      <td>79201.20</td>\n",
       "    </tr>\n",
       "    <tr>\n",
       "      <th>2017</th>\n",
       "      <td>87340.24</td>\n",
       "    </tr>\n",
       "    <tr>\n",
       "      <th>2018</th>\n",
       "      <td>97078.73</td>\n",
       "    </tr>\n",
       "    <tr>\n",
       "      <th>2019</th>\n",
       "      <td>95391.41</td>\n",
       "    </tr>\n",
       "    <tr>\n",
       "      <th>2020</th>\n",
       "      <td>113761.65</td>\n",
       "    </tr>\n",
       "  </tbody>\n",
       "</table></div>"
      ],
      "text/plain": [
       "          Value\n",
       "Year           \n",
       "2011   79339.80\n",
       "2012   75007.86\n",
       "2013   83364.19\n",
       "2014   74927.66\n",
       "2015   78176.80\n",
       "2016   79201.20\n",
       "2017   87340.24\n",
       "2018   97078.73\n",
       "2019   95391.41\n",
       "2020  113761.65"
      ]
     },
     "execution_count": 5,
     "metadata": {},
     "output_type": "execute_result"
    }
   ],
   "source": [
    "data_net_oda_ldcs.groupby(['Year']).agg({'Value': sum})"
   ]
  },
  {
   "cell_type": "code",
   "execution_count": 6,
   "id": "89fd9f18",
   "metadata": {},
   "outputs": [
    {
     "data": {
      "text/html": [
       "<div><div id=dd1d0b9e-f14d-4b3d-b86b-7095a45fbe9d style=\"display:none; background-color:#9D6CFF; color:white; width:200px; height:30px; padding-left:5px; border-radius:4px; flex-direction:row; justify-content:space-around; align-items:center;\" onmouseover=\"this.style.backgroundColor='#BA9BF8'\" onmouseout=\"this.style.backgroundColor='#9D6CFF'\" onclick=\"window.commands?.execute('create-mitosheet-from-dataframe-output');\">See Full Dataframe in Mito</div> <script> if (window.commands?.hasCommand('create-mitosheet-from-dataframe-output')) document.getElementById('dd1d0b9e-f14d-4b3d-b86b-7095a45fbe9d').style.display = 'flex' </script> <table border=\"1\" class=\"dataframe\">\n",
       "  <thead>\n",
       "    <tr style=\"text-align: right;\">\n",
       "      <th></th>\n",
       "      <th>Value</th>\n",
       "    </tr>\n",
       "    <tr>\n",
       "      <th>Year</th>\n",
       "      <th></th>\n",
       "    </tr>\n",
       "  </thead>\n",
       "  <tbody>\n",
       "    <tr>\n",
       "      <th>2011</th>\n",
       "      <td>62041.35</td>\n",
       "    </tr>\n",
       "    <tr>\n",
       "      <th>2012</th>\n",
       "      <td>53436.43</td>\n",
       "    </tr>\n",
       "    <tr>\n",
       "      <th>2013</th>\n",
       "      <td>57486.80</td>\n",
       "    </tr>\n",
       "    <tr>\n",
       "      <th>2014</th>\n",
       "      <td>63644.51</td>\n",
       "    </tr>\n",
       "    <tr>\n",
       "      <th>2015</th>\n",
       "      <td>65634.27</td>\n",
       "    </tr>\n",
       "    <tr>\n",
       "      <th>2016</th>\n",
       "      <td>69299.55</td>\n",
       "    </tr>\n",
       "    <tr>\n",
       "      <th>2017</th>\n",
       "      <td>71014.11</td>\n",
       "    </tr>\n",
       "    <tr>\n",
       "      <th>2018</th>\n",
       "      <td>62902.76</td>\n",
       "    </tr>\n",
       "    <tr>\n",
       "      <th>2019</th>\n",
       "      <td>64691.60</td>\n",
       "    </tr>\n",
       "    <tr>\n",
       "      <th>2020</th>\n",
       "      <td>85159.62</td>\n",
       "    </tr>\n",
       "  </tbody>\n",
       "</table></div>"
      ],
      "text/plain": [
       "         Value\n",
       "Year          \n",
       "2011  62041.35\n",
       "2012  53436.43\n",
       "2013  57486.80\n",
       "2014  63644.51\n",
       "2015  65634.27\n",
       "2016  69299.55\n",
       "2017  71014.11\n",
       "2018  62902.76\n",
       "2019  64691.60\n",
       "2020  85159.62"
      ]
     },
     "execution_count": 6,
     "metadata": {},
     "output_type": "execute_result"
    }
   ],
   "source": [
    "data_net_oda_odcs.groupby(['Year']).agg({'Value': sum})"
   ]
  },
  {
   "cell_type": "code",
   "execution_count": 7,
   "id": "6bf6d46d",
   "metadata": {},
   "outputs": [],
   "source": [
    "# Reshape from long to wide\n",
    "data_net_oda_ldcs_pivot = data_net_oda_ldcs.pivot_table(\n",
    "    columns='Year', \n",
    "    values='Value', \n",
    "    index='Recipient'\n",
    ")\n",
    "data_net_oda_odcs_pivot = data_net_oda_odcs.pivot_table(\n",
    "    columns='Year', \n",
    "    values='Value', \n",
    "    index='Recipient'\n",
    ")"
   ]
  },
  {
   "cell_type": "code",
   "execution_count": null,
   "id": "0582374d",
   "metadata": {},
   "outputs": [],
   "source": [
    "import chart_studio.plotly as py\n"
   ]
  },
  {
   "cell_type": "code",
   "execution_count": 8,
   "id": "30af965c",
   "metadata": {},
   "outputs": [],
   "source": [
    "# mitosheet.sheet(data_net_oda_odcs_pivot, analysis_to_replay=\"id-rqpicnstal\")"
   ]
  }
 ],
 "metadata": {
  "kernelspec": {
   "display_name": "Python 3 (ipykernel)",
   "language": "python",
   "name": "python3"
  },
  "language_info": {
   "codemirror_mode": {
    "name": "ipython",
    "version": 3
   },
   "file_extension": ".py",
   "mimetype": "text/x-python",
   "name": "python",
   "nbconvert_exporter": "python",
   "pygments_lexer": "ipython3",
   "version": "3.10.7"
  }
 },
 "nbformat": 4,
 "nbformat_minor": 5
}
