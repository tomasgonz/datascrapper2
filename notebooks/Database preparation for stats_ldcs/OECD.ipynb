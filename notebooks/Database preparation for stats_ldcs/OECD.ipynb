{
 "cells": [
  {
   "cell_type": "code",
   "execution_count": 1,
   "id": "532410ab",
   "metadata": {},
   "outputs": [],
   "source": [
    "import sys\n",
    "sys.path.append(\"../..\")\n",
    "import urllib\n",
    "import pandas as pd\n",
    "import mitosheet\n",
    "from geo.countries import Countries\n",
    "from geo.groups import *\n",
    "c = Countries()\n",
    "c.load_wb()"
   ]
  },
  {
   "cell_type": "code",
   "execution_count": 2,
   "id": "f039a871",
   "metadata": {},
   "outputs": [],
   "source": [
    "data = pd.read_csv('table2aoecd.csv')"
   ]
  },
  {
   "cell_type": "code",
   "execution_count": 3,
   "id": "f978bf41",
   "metadata": {},
   "outputs": [
    {
     "data": {
      "text/plain": [
       "Index(['RECIPIENT', 'Recipient', 'DONOR', 'Donor', 'PART', 'Part', 'AIDTYPE',\n",
       "       'Aid type', 'DATATYPE', 'Amount type', 'TIME', 'Year', 'Unit Code',\n",
       "       'Unit', 'PowerCode Code', 'PowerCode', 'Reference Period Code',\n",
       "       'Reference Period', 'Value', 'Flag Codes', 'Flags'],\n",
       "      dtype='object')"
      ]
     },
     "execution_count": 3,
     "metadata": {},
     "output_type": "execute_result"
    }
   ],
   "source": [
    "data.columns"
   ]
  },
  {
   "cell_type": "code",
   "execution_count": 4,
   "id": "4cfc447e",
   "metadata": {},
   "outputs": [
    {
     "data": {
      "text/plain": [
       "Memo: ODA Total, excl. Debt             124452\n",
       "ODA: Total Net                          124309\n",
       "Imputed Multilateral ODA                123802\n",
       "Memo: ODA Total, Gross disbursements    120880\n",
       "Grants, Total                           113970\n",
       "Technical Cooperation                    62796\n",
       "ODA per Capita                           54660\n",
       "ODA as % GNI (Recipient)                 51873\n",
       "ODA Loans: Total Net                     43120\n",
       "Humanitarian Aid                         40334\n",
       "ODA Loan Repayments                      35906\n",
       "ODA Gross Loans                          29006\n",
       "Interest received                        25640\n",
       "Recoveries                               17746\n",
       "Development Food Aid                     12190\n",
       "Equity investment                         5042\n",
       "Memo: Net debt relief                     4639\n",
       "Grants: Debt Forgiveness                  3695\n",
       "Offsetting entries for debt relief        2871\n",
       "AF/Interest Subsidies                     1768\n",
       "Grants: Other Debt Grants                  986\n",
       "Rescheduled debt                           315\n",
       "Name: Aid type, dtype: int64"
      ]
     },
     "execution_count": 4,
     "metadata": {},
     "output_type": "execute_result"
    }
   ],
   "source": [
    "data['Aid type'].value_counts()"
   ]
  },
  {
   "cell_type": "code",
   "execution_count": 5,
   "id": "68eeda2a",
   "metadata": {},
   "outputs": [],
   "source": [
    "data_net_oda = data[(data['Donor'] == 'Official Donors, Total') & (data['Aid type'] == 'ODA: Total Net')]"
   ]
  },
  {
   "cell_type": "code",
   "execution_count": 6,
   "id": "06a1c67a",
   "metadata": {},
   "outputs": [],
   "source": [
    "data_net_oda_ldcs = data_net_oda[data_net_oda['Recipient'].isin(get_group(\"LDCs\").get_names_and_aliases())]"
   ]
  },
  {
   "cell_type": "code",
   "execution_count": 7,
   "id": "8e1959e9",
   "metadata": {},
   "outputs": [
    {
     "data": {
      "application/vnd.jupyter.widget-view+json": {
       "model_id": "7ddfbf772a534380a22f8e783f88d108",
       "version_major": 2,
       "version_minor": 0
      },
      "text/plain": [
       "MitoWidget(analysis_data_json='{\"analysisName\": \"id-boggvbcmuk\", \"analysisToReplay\": null, \"code\": [], \"stepSu…"
      ]
     },
     "metadata": {},
     "output_type": "display_data"
    }
   ],
   "source": [
    "mitosheet.sheet(data_net_oda_ldcs, analysis_to_replay=\"id-boggvbcmuk\")"
   ]
  },
  {
   "cell_type": "code",
   "execution_count": 12,
   "id": "c69f77ae",
   "metadata": {},
   "outputs": [
    {
     "data": {
      "text/html": [
       "<div><div id=107b7175-2af1-4afe-91ae-e3eb22cc3fd4 style=\"display:none; background-color:#9D6CFF; color:white; width:200px; height:30px; padding-left:5px; border-radius:4px; flex-direction:row; justify-content:space-around; align-items:center;\" onmouseover=\"this.style.backgroundColor='#BA9BF8'\" onmouseout=\"this.style.backgroundColor='#9D6CFF'\" onclick=\"window.commands?.execute('create-mitosheet-from-dataframe-output');\">See Full Dataframe in Mito</div> <script> if (window.commands?.hasCommand('create-mitosheet-from-dataframe-output')) document.getElementById('107b7175-2af1-4afe-91ae-e3eb22cc3fd4').style.display = 'flex' </script> <table border=\"1\" class=\"dataframe\">\n",
       "  <thead>\n",
       "    <tr style=\"text-align: right;\">\n",
       "      <th></th>\n",
       "      <th>Value</th>\n",
       "    </tr>\n",
       "    <tr>\n",
       "      <th>Year</th>\n",
       "      <th></th>\n",
       "    </tr>\n",
       "  </thead>\n",
       "  <tbody>\n",
       "    <tr>\n",
       "      <th>2011</th>\n",
       "      <td>79339.80</td>\n",
       "    </tr>\n",
       "    <tr>\n",
       "      <th>2012</th>\n",
       "      <td>75007.86</td>\n",
       "    </tr>\n",
       "    <tr>\n",
       "      <th>2013</th>\n",
       "      <td>83364.19</td>\n",
       "    </tr>\n",
       "    <tr>\n",
       "      <th>2014</th>\n",
       "      <td>74927.66</td>\n",
       "    </tr>\n",
       "    <tr>\n",
       "      <th>2015</th>\n",
       "      <td>78176.80</td>\n",
       "    </tr>\n",
       "    <tr>\n",
       "      <th>2016</th>\n",
       "      <td>79201.20</td>\n",
       "    </tr>\n",
       "    <tr>\n",
       "      <th>2017</th>\n",
       "      <td>87340.24</td>\n",
       "    </tr>\n",
       "    <tr>\n",
       "      <th>2018</th>\n",
       "      <td>97078.73</td>\n",
       "    </tr>\n",
       "    <tr>\n",
       "      <th>2019</th>\n",
       "      <td>95391.41</td>\n",
       "    </tr>\n",
       "    <tr>\n",
       "      <th>2020</th>\n",
       "      <td>113761.65</td>\n",
       "    </tr>\n",
       "  </tbody>\n",
       "</table></div>"
      ],
      "text/plain": [
       "          Value\n",
       "Year           \n",
       "2011   79339.80\n",
       "2012   75007.86\n",
       "2013   83364.19\n",
       "2014   74927.66\n",
       "2015   78176.80\n",
       "2016   79201.20\n",
       "2017   87340.24\n",
       "2018   97078.73\n",
       "2019   95391.41\n",
       "2020  113761.65"
      ]
     },
     "execution_count": 12,
     "metadata": {},
     "output_type": "execute_result"
    }
   ],
   "source": [
    "data_net_oda_ldcs.groupby(data['Year']).agg({'Value': sum})"
   ]
  },
  {
   "cell_type": "code",
   "execution_count": null,
   "id": "6bf6d46d",
   "metadata": {},
   "outputs": [],
   "source": []
  }
 ],
 "metadata": {
  "kernelspec": {
   "display_name": "Python 3 (ipykernel)",
   "language": "python",
   "name": "python3"
  },
  "language_info": {
   "codemirror_mode": {
    "name": "ipython",
    "version": 3
   },
   "file_extension": ".py",
   "mimetype": "text/x-python",
   "name": "python",
   "nbconvert_exporter": "python",
   "pygments_lexer": "ipython3",
   "version": "3.10.7"
  }
 },
 "nbformat": 4,
 "nbformat_minor": 5
}
