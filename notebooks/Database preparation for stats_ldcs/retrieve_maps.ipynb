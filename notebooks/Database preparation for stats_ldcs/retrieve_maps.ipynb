{
 "cells": [
  {
   "cell_type": "code",
   "execution_count": 18,
   "metadata": {},
   "outputs": [],
   "source": [
    "import sys\n",
    "sys.path.append(\"..\")\n",
    "import sources\n",
    "from countries.list import Countries\n",
    "c = Countries()\n",
    "c.\n",
    "import urllib\n",
    "import requests"
   ]
  },
  {
   "cell_type": "code",
   "execution_count": 19,
   "metadata": {},
   "outputs": [],
   "source": [
    "all_countries = Countries()\n",
    "all_countries."
   ]
  },
  {
   "cell_type": "code",
   "execution_count": 30,
   "metadata": {},
   "outputs": [],
   "source": [
    "for c in all_countries:\n",
    "    url = 'https://fvmstatic.s3.amazonaws.com/maps/m/%s-EPS-02-6001.png' % (c.iso2code)\n",
    "    r = requests.get(url)\n",
    "    # open method to open a file on your system and write the contents\n",
    "    file_name = \"./images/%s_flag.png\" % (c.iso2code)\n",
    "    with open(file_name, \"wb\") as code:\n",
    "        code.write(r.content)"
   ]
  },
  {
   "cell_type": "code",
   "execution_count": null,
   "metadata": {},
   "outputs": [],
   "source": []
  }
 ],
 "metadata": {
  "kernelspec": {
   "display_name": "Python 3",
   "language": "python",
   "name": "python3"
  },
  "language_info": {
   "codemirror_mode": {
    "name": "ipython",
    "version": 3
   },
   "file_extension": ".py",
   "mimetype": "text/x-python",
   "name": "python",
   "nbconvert_exporter": "python",
   "pygments_lexer": "ipython3",
   "version": "3.7.0"
  }
 },
 "nbformat": 4,
 "nbformat_minor": 4
}
