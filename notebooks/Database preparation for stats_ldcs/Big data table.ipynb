{
 "cells": [
  {
   "cell_type": "code",
   "execution_count": 2,
   "metadata": {
    "collapsed": true
   },
   "outputs": [],
   "source": [
    "import sys\n",
    "sys.path.append(\"..\")\n",
    "from pymongo import MongoClient\n",
    "from IPython.display import clear_output\n",
    "import json\n",
    "client = MongoClient('whereistomas.org', 27017)\n",
    "client.the_database.authenticate('stats', 'Helsinki0676', source='admin')\n",
    "db = client[\"stats\"]"
   ]
  },
  {
   "cell_type": "code",
   "execution_count": 3,
   "metadata": {
    "collapsed": true
   },
   "outputs": [],
   "source": [
    "indicators = db.indicators"
   ]
  },
  {
   "cell_type": "code",
   "execution_count": 3,
   "metadata": {
    "collapsed": true
   },
   "outputs": [],
   "source": [
    "ind = indicators.find({'name': 'hditrends'})"
   ]
  },
  {
   "cell_type": "code",
   "execution_count": 4,
   "metadata": {
    "collapsed": true
   },
   "outputs": [],
   "source": [
    "db.data.drop()"
   ]
  },
  {
   "cell_type": "code",
   "execution_count": null,
   "metadata": {
    "collapsed": true
   },
   "outputs": [],
   "source": [
    "i = 0\n",
    "for indicator in indicators.find():\n",
    "        i = i + 1\n",
    "        print (str(i) + \" \" + indicator['name'] + \" \" + indicator['description'])\n",
    "        for item in indicator['data']:\n",
    "                db.data.insert_one({'name': indicator['name'], \n",
    "                                'entity': item['entity'], \n",
    "                                'date': item['date'], \n",
    "                                'value':item['value']})"
   ]
  },
  {
   "cell_type": "code",
   "execution_count": 18,
   "metadata": {
    "collapsed": true
   },
   "outputs": [],
   "source": [
    "def generate_quick_facts(indicator):\n",
    "    i = 0\n",
    "    print (str(i) + \" \" + indicator['name'] + \" \" + indicator['description'])\n",
    "    for item in indicator['data']:\n",
    "            db.data.insert_one({'name': indicator['name'], \n",
    "                            'entity': item['entity'], \n",
    "                            'date': item['date'], \n",
    "                            'value':item['value']})"
   ]
  },
  {
   "cell_type": "code",
   "execution_count": 19,
   "metadata": {
    "collapsed": true
   },
   "outputs": [],
   "source": [
    "indicator = indicators.find({'name':'CDPEVI'})[0]"
   ]
  },
  {
   "cell_type": "code",
   "execution_count": 20,
   "metadata": {},
   "outputs": [
    {
     "name": "stdout",
     "output_type": "stream",
     "text": [
      "0 CDPEVI Economic vulnerability index (EVI)\n"
     ]
    }
   ],
   "source": [
    "generate_quick_facts(indicator)"
   ]
  },
  {
   "cell_type": "code",
   "execution_count": 21,
   "metadata": {
    "collapsed": true
   },
   "outputs": [],
   "source": [
    "indicator = indicators.find({'name':'CDPHAI'})[0]"
   ]
  },
  {
   "cell_type": "code",
   "execution_count": 22,
   "metadata": {},
   "outputs": [
    {
     "name": "stdout",
     "output_type": "stream",
     "text": [
      "0 CDPHAI Human asset index (HAI)\n"
     ]
    }
   ],
   "source": [
    "generate_quick_facts(indicator)"
   ]
  },
  {
   "cell_type": "code",
   "execution_count": null,
   "metadata": {
    "collapsed": true
   },
   "outputs": [],
   "source": []
  }
 ],
 "metadata": {
  "kernelspec": {
   "display_name": "Python 3",
   "language": "python",
   "name": "python3"
  },
  "language_info": {
   "codemirror_mode": {
    "name": "ipython",
    "version": 3
   },
   "file_extension": ".py",
   "mimetype": "text/x-python",
   "name": "python",
   "nbconvert_exporter": "python",
   "pygments_lexer": "ipython3",
   "version": "3.7.1"
  }
 },
 "nbformat": 4,
 "nbformat_minor": 1
}
