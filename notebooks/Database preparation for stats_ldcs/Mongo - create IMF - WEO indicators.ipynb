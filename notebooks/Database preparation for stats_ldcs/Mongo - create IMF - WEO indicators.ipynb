{
 "cells": [
  {
   "cell_type": "code",
   "execution_count": 1,
   "metadata": {
    "jupyter": {
     "outputs_hidden": false
    }
   },
   "outputs": [],
   "source": [
    "import sys\n",
    "sys.path.append(\"../..\")\n",
    "sys.path.append(\"../data\")\n",
    "from sources import *\n",
    "from data.Frame import Frame\n",
    "from data.Stats import calculate_weighted_average as wa\n",
    "from geo.countries import Countries\n",
    "import os\n",
    "import csv\n",
    "import json\n",
    "import urllib.request\n",
    "from IPython.display import clear_output\n",
    "c = Countries()\n",
    "import pandas as pd\n",
    "from pymongo import MongoClient\n",
    "client = MongoClient('stats.whereistomas.org', username='root', password='Root!0676')\n",
    "db = client[\"stats\"]\n",
    "from sources import *"
   ]
  },
  {
   "cell_type": "code",
   "execution_count": 2,
   "metadata": {
    "tags": []
   },
   "outputs": [
    {
     "name": "stderr",
     "output_type": "stream",
     "text": [
      "INFO:root:Retrieving source database: https://www.imf.org/-/media/Files/Publications/WEO/WEO-Database/2021/WEOOct2021all.ashx ...\n",
      "INFO:root:Source database downloaded to: archive/imf-weo-2021-oct.tsv\n",
      "INFO:root:Starting extraction of data from: archive/imf-weo-2021-oct.tsv\n",
      "INFO:root:Number of Indicators included: 45\n",
      "INFO:root:Number of Countries included: 196\n",
      "INFO:root:Completed data extraction to data/ directory\n"
     ]
    }
   ],
   "source": [
    "# Download and extract WEO database from IMF\n",
    "imf.weo.retrieve()"
   ]
  },
  {
   "cell_type": "code",
   "execution_count": 3,
   "metadata": {},
   "outputs": [],
   "source": [
    "ccodes = pd.read_csv(\"data/country.csv\")\n",
    "ccodes.columns = ['iso3code', 'WEO', 'Name']\n",
    "data = pd.read_csv(\"data/values.csv\")\n",
    "data.columns=['iso3code', 'indicator', 'Date', 'Value']\n",
    "data = pd.merge(data, ccodes, on=\"iso3code\", how=\"left\")\n",
    "indicators = pd.read_csv(\"data/indicators.csv\")\n",
    "indicators.columns = ['indicator', 'title', 'description', 'units', 'scale']\n",
    "data = pd.merge(data, indicators, on=\"indicator\", how=\"left\")\n",
    "data.columns= ['iso3code', 'indicator', 'Date', 'Value', 'WEO', 'Entity', 'title',\n",
    "       'description', 'units', 'scale']"
   ]
  },
  {
   "cell_type": "code",
   "execution_count": 4,
   "metadata": {},
   "outputs": [],
   "source": [
    "indicators_to_retrieve = [{\"indicator\": \"GGXWDG\", \"aggregation\":True, \"weight\": \"None\"}]"
   ]
  },
  {
   "cell_type": "code",
   "execution_count": 40,
   "metadata": {},
   "outputs": [],
   "source": [
    "inds = []\n",
    "for i in indicators_to_retrieve:\n",
    "    meta = indicators[indicators[\"indicator\"] == i[\"indicator\"]]\n",
    "    values = []\n",
    "    ind = data[data['indicator'] == i['indicator']]\n",
    "    years = ind['Date'].unique().tolist()\n",
    "    for ii in range(len(ind)):\n",
    "        date = str(ind.iat[ii, 2])\n",
    "        value = str(ind.iat[ii, 3])\n",
    "        value = value.replace(\",\", \"\")\n",
    "        value = float(value) if any([char.isdigit() for char in value]) else None\n",
    "        entity = str(ind.iat[ii, 5]).lower()\n",
    "        values.append({'entity':entity, 'date':date, 'value':value})\n",
    "\n",
    "    indicator = {\n",
    "        'name' : i[\"indicator\"],\n",
    "        'aggregation' : False,\n",
    "        'weight': \"None\",\n",
    "        'description': meta.iat[0, 1],\n",
    "        'years':[],\n",
    "        'sourcenote': meta.iat[0, 2],\n",
    "        'connector': \"\",\n",
    "        'source':\"IMF\",\n",
    "        'sourceurl': \"https://www.imf.org/en/Publications/WEO/weo-database/2021/October\",\n",
    "        'keyField': \"entity\",\n",
    "        'pivotField': \"date\",\n",
    "        'valueField': \"value\",\n",
    "        'data' : values\n",
    "        }\n",
    "    inds.append(indicator)"
   ]
  },
  {
   "cell_type": "code",
   "execution_count": 41,
   "metadata": {},
   "outputs": [
    {
     "name": "stdout",
     "output_type": "stream",
     "text": [
      "GGXWDG processed.\n"
     ]
    }
   ],
   "source": [
    "for ind in inds:\n",
    "    db[\"indicators\"].update_one({ \"name\" : ind['name']}, \n",
    "                                {\"$set\":{\"name\" : ind['name'],\n",
    "                                \"aggregation\": ind[\"aggregation\"],\n",
    "                                \"weight\": ind[\"weight\"],\n",
    "                                \"description\" : ind['description'], \n",
    "                                \"years\" : years, \n",
    "                                \"sourceNote\" : ind['sourcenote'],\n",
    "                                \"connector\" : ind['connector'],\n",
    "                                \"source\" : ind['source'],\n",
    "                                \"sourceurl\" : ind['sourceurl'], \n",
    "                                \"keyField\" : \"entity\",\n",
    "                                \"pivotField\" : \"date\",\n",
    "                                \"valueField\" : \"value\",\n",
    "                                'data' : ind['data']}}, True)\n",
    "    print(ind['name'] + \" processed.\")"
   ]
  },
  {
   "cell_type": "code",
   "execution_count": null,
   "metadata": {},
   "outputs": [],
   "source": [
    "imf.weo.check_indicators()"
   ]
  },
  {
   "cell_type": "code",
   "execution_count": null,
   "metadata": {},
   "outputs": [],
   "source": [
    "inds[0]['data']"
   ]
  },
  {
   "cell_type": "code",
   "execution_count": null,
   "metadata": {},
   "outputs": [],
   "source": [
    "indicators    "
   ]
  },
  {
   "cell_type": "code",
   "execution_count": null,
   "metadata": {},
   "outputs": [],
   "source": []
  }
 ],
 "metadata": {
  "kernelspec": {
   "display_name": "datascrapper2",
   "language": "python",
   "name": "datascrapper2"
  },
  "language_info": {
   "codemirror_mode": {
    "name": "ipython",
    "version": 3
   },
   "file_extension": ".py",
   "mimetype": "text/x-python",
   "name": "python",
   "nbconvert_exporter": "python",
   "pygments_lexer": "ipython3",
   "version": "3.8.5"
  }
 },
 "nbformat": 4,
 "nbformat_minor": 4
}
