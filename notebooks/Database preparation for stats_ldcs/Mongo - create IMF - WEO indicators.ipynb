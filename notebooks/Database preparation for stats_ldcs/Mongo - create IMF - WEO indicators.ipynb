{
 "cells": [
  {
   "cell_type": "code",
   "execution_count": 1,
   "metadata": {
    "jupyter": {
     "outputs_hidden": false
    }
   },
   "outputs": [],
   "source": [
    "import sys\n",
    "sys.path.append(\"../..\")\n",
    "sys.path.append(\"../data\")\n",
    "from sources import *\n",
    "from data.Frame import Frame\n",
    "from data.Stats import calculate_weighted_average as wa\n",
    "from geo.countries import Countries\n",
    "import os\n",
    "import csv\n",
    "import json\n",
    "import urllib.request\n",
    "from IPython.display import clear_output\n",
    "c = Countries()\n",
    "import pandas as pd\n",
    "from pymongo import MongoClient\n",
    "client = MongoClient('stats.whereistomas.org', username='root', password='Root!0676')\n",
    "db = client[\"stats\"]\n",
    "from sources import *"
   ]
  },
  {
   "cell_type": "code",
   "execution_count": 2,
   "metadata": {
    "tags": []
   },
   "outputs": [
    {
     "name": "stderr",
     "output_type": "stream",
     "text": [
      "INFO:root:Retrieving source database: https://www.imf.org/-/media/Files/Publications/WEO/WEO-Database/2021/WEOOct2021all.ashx ...\n",
      "INFO:root:Source database downloaded to: archive/imf-weo-2021-oct.tsv\n",
      "INFO:root:Starting extraction of data from: archive/imf-weo-2021-oct.tsv\n",
      "INFO:root:Number of Indicators included: 45\n",
      "INFO:root:Number of Countries included: 196\n",
      "INFO:root:Completed data extraction to data/ directory\n"
     ]
    }
   ],
   "source": [
    "# Download and extract WEO database from IMF\n",
    "imf.weo.retrieve()"
   ]
  },
  {
   "cell_type": "code",
   "execution_count": 3,
   "metadata": {},
   "outputs": [],
   "source": [
    "ccodes = pd.read_csv(\"data/country.csv\")\n",
    "ccodes.columns = ['iso3code', 'WEO', 'Name']\n",
    "data = pd.read_csv(\"data/values.csv\")\n",
    "data.columns=['iso3code', 'indicator', 'Date', 'Value']\n",
    "data = pd.merge(data, ccodes, on=\"iso3code\", how=\"left\")\n",
    "indicators = pd.read_csv(\"data/indicators.csv\")\n",
    "indicators.columns = ['indicator', 'title', 'description', 'units', 'scale']\n",
    "data = pd.merge(data, indicators, on=\"indicator\", how=\"left\")\n",
    "data.columns= ['iso3code', 'indicator', 'Date', 'Value', 'WEO', 'Entity', 'title',\n",
    "       'description', 'units', 'scale']"
   ]
  },
  {
   "cell_type": "code",
   "execution_count": 54,
   "metadata": {},
   "outputs": [],
   "source": [
    "indicators_to_retrieve = [{\"indicator\": \"GGXWDG\", \"aggregation\":True, \"weight\": \"None\"},\n",
    "                         {\"indicator\": \"LUR\", \"aggregation\":True, \"weight\": \"None\"},\n",
    "                         {\"indicator\": \"LP\", \"aggregation\":True, \"weight\": \"None\"},\n",
    "                         {\"indicator\": \"NGDP\", \"aggregation\":True, \"weight\": \"None\"},\n",
    "                         {\"indicator\": \"GGX\", \"aggregation\":True, \"weight\": \"None\"},\n",
    "                         {\"indicator\": \"BCA\", \"aggregation\":True, \"weight\": \"None\"},\n",
    "                         {\"indicator\": \"BCA_NGDPD\", \"aggregation\":True, \"weight\": \"None\"},\n",
    "                         {\"indicator\": \"NGAP_NPGDP\", \"aggregation\":True, \"weight\": \"None\"},\n",
    "                         {\"indicator\": \"NGDPD\", \"aggregation\":True, \"weight\": \"None\"},\n",
    "                         {\"indicator\": \"GGXWDG_NGDP\", \"aggregation\":True, \"weight\": \"None\"}]"
   ]
  },
  {
   "cell_type": "code",
   "execution_count": 55,
   "metadata": {},
   "outputs": [
    {
     "name": "stdout",
     "output_type": "stream",
     "text": [
      "GGXWDG processed.\n",
      "LUR processed.\n",
      "LP processed.\n",
      "NGDP processed.\n",
      "GGX processed.\n",
      "BCA processed.\n",
      "BCA_NGDPD processed.\n",
      "NGAP_NPGDP processed.\n",
      "NGDPD processed.\n",
      "GGXWDG_NGDP processed.\n"
     ]
    }
   ],
   "source": [
    "inds = []\n",
    "for i in indicators_to_retrieve:\n",
    "    meta = indicators[indicators[\"indicator\"] == i[\"indicator\"]]\n",
    "    values = []\n",
    "    ind = data[data['indicator'] == i['indicator']].sort_values(by = 'Date')\n",
    "    years = ind['Date'].unique().tolist()\n",
    "    for ii in range(len(ind)):\n",
    "        date = str(ind.iat[ii, 2])\n",
    "        value = str(ind.iat[ii, 3])\n",
    "        value = value.replace(\",\", \"\")\n",
    "        value = float(value) if any([char.isdigit() for char in value]) else None\n",
    "        entity = str(ind.iat[ii, 5]).lower()\n",
    "        values.append({'entity':entity, 'date':date, 'value':value})\n",
    "\n",
    "    indicator = {\n",
    "        'name' : i[\"indicator\"],\n",
    "        'aggregation' : False,\n",
    "        'weight': \"None\",\n",
    "        'description': meta.iat[0, 1],\n",
    "        'years':[],\n",
    "        'sourcenote': meta.iat[0, 2],\n",
    "        'connector': \"\",\n",
    "        'source':\"IMF\",\n",
    "        'sourceurl': \"https://www.imf.org/en/Publications/WEO/weo-database/2021/October\",\n",
    "        'keyField': \"entity\",\n",
    "        'pivotField': \"date\",\n",
    "        'valueField': \"value\",\n",
    "        'data' : values\n",
    "        }\n",
    "    inds.append(indicator)\n",
    "    \n",
    "for ind in inds:\n",
    "    db[\"indicators\"].update_one({ \"name\" : ind['name']}, \n",
    "                                {\"$set\":{\"name\" : ind['name'],\n",
    "                                \"aggregation\": ind[\"aggregation\"],\n",
    "                                \"weight\": ind[\"weight\"],\n",
    "                                \"description\" : ind['description'], \n",
    "                                \"years\" : years, \n",
    "                                \"sourceNote\" : ind['sourcenote'],\n",
    "                                \"connector\" : ind['connector'],\n",
    "                                \"source\" : ind['source'],\n",
    "                                \"sourceurl\" : ind['sourceurl'], \n",
    "                                \"keyField\" : \"entity\",\n",
    "                                \"pivotField\" : \"date\",\n",
    "                                \"valueField\" : \"value\",\n",
    "                                'data' : ind['data']}}, True)\n",
    "    print(ind['name'] + \" processed.\")"
   ]
  },
  {
   "cell_type": "code",
   "execution_count": 44,
   "metadata": {},
   "outputs": [
    {
     "name": "stdout",
     "output_type": "stream",
     "text": [
      "46\n",
      "NGDP_R \t\t Gross domestic product, constant prices\n",
      "NGDP_RPCH \t\t Gross domestic product, constant prices\n",
      "NGDP \t\t Gross domestic product, current prices\n",
      "NGDPD \t\t Gross domestic product, current prices\n",
      "PPPGDP \t\t Gross domestic product, current prices\n",
      "NGDP_D \t\t Gross domestic product, deflator\n",
      "NGDPRPC \t\t Gross domestic product per capita, constant prices\n",
      "NGDPRPPPPC \t\t Gross domestic product per capita, constant prices\n",
      "NGDPPC \t\t Gross domestic product per capita, current prices\n",
      "NGDPDPC \t\t Gross domestic product per capita, current prices\n",
      "PPPPC \t\t Gross domestic product per capita, current prices\n",
      "NGAP_NPGDP \t\t Output gap in percent of potential GDP\n",
      "PPPSH \t\t Gross domestic product based on purchasing-power-parity (PPP) share of world total\n",
      "PPPEX \t\t Implied PPP conversion rate\n",
      "NID_NGDP \t\t Total investment\n",
      "NGSD_NGDP \t\t Gross national savings\n",
      "PCPI \t\t Inflation, average consumer prices\n",
      "PCPIPCH \t\t Inflation, average consumer prices\n",
      "PCPIE \t\t Inflation, end of period consumer prices\n",
      "PCPIEPCH \t\t Inflation, end of period consumer prices\n",
      "FLIBOR6 \t\t Six-month London interbank offered rate (LIBOR)\n",
      "TM_RPCH \t\t Volume of imports of goods and services\n",
      "TMG_RPCH \t\t Volume of Imports of goods\n",
      "TX_RPCH \t\t Volume of exports of goods and services\n",
      "TXG_RPCH \t\t Volume of exports of goods\n",
      "LUR \t\t Unemployment rate\n",
      "LE \t\t Employment\n",
      "LP \t\t Population\n",
      "GGR \t\t General government revenue\n",
      "GGR_NGDP \t\t General government revenue\n",
      "GGX \t\t General government total expenditure\n",
      "GGX_NGDP \t\t General government total expenditure\n",
      "GGXCNL \t\t General government net lending/borrowing\n",
      "GGXCNL_NGDP \t\t General government net lending/borrowing\n",
      "GGSB \t\t General government structural balance\n",
      "GGSB_NPGDP \t\t General government structural balance\n",
      "GGXONLB \t\t General government primary net lending/borrowing\n",
      "GGXONLB_NGDP \t\t General government primary net lending/borrowing\n",
      "GGXWDN \t\t General government net debt\n",
      "GGXWDN_NGDP \t\t General government net debt\n",
      "GGXWDG \t\t General government gross debt\n",
      "GGXWDG_NGDP \t\t General government gross debt\n",
      "NGDP_FY \t\t Gross domestic product corresponding to fiscal year, current prices\n",
      "BCA \t\t Current account balance\n",
      "BCA_NGDPD \t\t Current account balance\n",
      " \t\t \n"
     ]
    }
   ],
   "source": [
    "imf.weo.check_indicators()"
   ]
  },
  {
   "cell_type": "code",
   "execution_count": null,
   "metadata": {},
   "outputs": [],
   "source": [
    "inds[0]['data']"
   ]
  },
  {
   "cell_type": "code",
   "execution_count": null,
   "metadata": {},
   "outputs": [],
   "source": [
    "indicators    "
   ]
  },
  {
   "cell_type": "code",
   "execution_count": null,
   "metadata": {},
   "outputs": [],
   "source": []
  }
 ],
 "metadata": {
  "kernelspec": {
   "display_name": "datascrapper2",
   "language": "python",
   "name": "datascrapper2"
  },
  "language_info": {
   "codemirror_mode": {
    "name": "ipython",
    "version": 3
   },
   "file_extension": ".py",
   "mimetype": "text/x-python",
   "name": "python",
   "nbconvert_exporter": "python",
   "pygments_lexer": "ipython3",
   "version": "3.8.5"
  }
 },
 "nbformat": 4,
 "nbformat_minor": 4
}
