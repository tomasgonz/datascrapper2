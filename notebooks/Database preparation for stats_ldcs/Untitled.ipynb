{
 "cells": [
  {
   "cell_type": "code",
   "execution_count": 2,
   "id": "b7c2475a",
   "metadata": {},
   "outputs": [
    {
     "name": "stderr",
     "output_type": "stream",
     "text": [
      "C:\\Users\\tomas.gonzalez\\AppData\\Local\\pypoetry\\Cache\\virtualenvs\\datascrapper2-8Yb7I1G0-py3.10\\lib\\site-packages\\requests\\__init__.py:102: RequestsDependencyWarning: urllib3 (1.26.8) or chardet (5.0.0)/charset_normalizer (2.0.12) doesn't match a supported version!\n",
      "  warnings.warn(\"urllib3 ({}) or chardet ({})/charset_normalizer ({}) doesn't match a supported \"\n"
     ]
    }
   ],
   "source": [
    "import sys\n",
    "sys.path.append(\"../..\")\n",
    "from get_wb_data import *"
   ]
  },
  {
   "cell_type": "code",
   "execution_count": 3,
   "id": "a4b81c92",
   "metadata": {},
   "outputs": [
    {
     "name": "stdout",
     "output_type": "stream",
     "text": [
      "SP.POP.TOTL processed.\n",
      "SP.RUR.TOTL processed.\n",
      "AG.LND.TOTL.K2 processed.\n",
      "NY.GDP.MKTP.CD processed.\n",
      "SP.RUR.TOTL.ZS processed.\n",
      "AG.LND.ARBL.ZS processed.\n",
      "SH.DYN.MORT processed.\n",
      "EN.ATM.CO2E.KT processed.\n",
      "EN.ATM.CO2E.PC processed.\n",
      "EG.ELC.ACCS.ZS processed.\n",
      "DT.ODA.ODAT.GN.ZS processed.\n",
      "DT.ODA.ODAT.GI.ZS processed.\n",
      "DT.ODA.ODAT.PC.ZS processed.\n",
      "GC.XPN.TOTL.GD.ZS processed.\n",
      "GC.REV.XGRT.GD.ZS processed.\n",
      "BN.CAB.XOKA.CD processed.\n",
      "BX.KLT.DINV.CD.WD processed.\n",
      "DT.DOD.DIMF.CD processed.\n",
      "FB.ATM.TOTL.P5 processed.\n",
      "FB.BNK.CAPA.ZS processed.\n",
      "FB.AST.NPER.ZS processed.\n",
      "FB.CBK.BRCH.P5 processed.\n",
      "FS.AST.DOMS.GD.ZS processed.\n",
      "CM.MKT.LCAP.GD.ZS processed.\n",
      "CM.MKT.LCAP.CD processed.\n",
      "SE.ENR.PRSC.FM.ZS processed.\n",
      "NV.IND.MANF.ZS processed.\n",
      "NV.SRV.TOTL.ZS processed.\n",
      "NV.AGR.TOTL.ZS processed.\n",
      "NY.GDP.MKTP.KD.ZG processed.\n",
      "NY.GDP.PCAP.KD.ZG processed.\n",
      "DT.DOD.DECT.GN.ZS processed.\n",
      "NE.EXP.GNFS.ZS processed.\n",
      "NE.EXP.GNFS.CD processed.\n",
      "NE.IMP.GNFS.CD processed.\n",
      "FP.CPI.TOTL.ZG processed.\n",
      "SL.TLF.TOTL.IN processed.\n",
      "FP.CPI.TOTL.ZG processed.\n",
      "EG.ELC.RNEW.ZS processed.\n",
      "EG.ELC.RNWX.KH processed.\n",
      "NY.GDP.TOTL.RT.ZS processed.\n",
      "EN.ATM.GHGT.KT.CE processed.\n",
      "BX.GRT.TECH.CD.WD processed.\n",
      "FM.LBL.BMNY.GD.ZS processed.\n",
      "FS.AST.PRVT.GD.ZS processed.\n",
      "BX.TRF.PWKR.CD.DT processed.\n",
      "FI.RES.TOTL.CD processed.\n",
      "SP.ADO.TFRT processed.\n",
      "SP.ADO.TFRT processed.\n",
      "SE.PRM.UNER.MA processed.\n",
      "SE.PRM.UNER.FE processed.\n",
      "SP.POP.DPND processed.\n",
      "EG.USE.ELEC.KH.PC processed.\n",
      "EN.POP.SLUM.UR.ZS processed.\n",
      "TX.VAL.FUEL.ZS.UN processed.\n",
      "TX.VAL.MRCH.CD.WT processed.\n",
      "ST.INT.RCPT.XP.ZS processed.\n",
      "TG.VAL.TOTL.GD.ZS processed.\n",
      "MS.MIL.XPND.ZS processed.\n",
      "NE.CON.GOVT.CD processed.\n",
      "SG.GEN.PARL.ZS processed.\n",
      "IP.JRN.ARTC.SC processed.\n",
      "SP.URB.TOTL.IN.ZS processed.\n",
      "SH.STA.MMRT processed.\n",
      "SE.SEC.PROG.FE.ZS processed.\n",
      "SH.XPD.CHEX.GD.ZS processed.\n",
      "SH.XPD.CHEX.PC.CD processed.\n",
      "SH.XPD.EHEX.PC.CD processed.\n",
      "SN.ITK.DEFC.ZS processed.\n",
      "SP.DYN.LE00.FE.IN processed.\n"
     ]
    }
   ],
   "source": [
    "retrieve_indicators()"
   ]
  },
  {
   "cell_type": "code",
   "execution_count": null,
   "id": "52e10e47",
   "metadata": {},
   "outputs": [],
   "source": []
  }
 ],
 "metadata": {
  "kernelspec": {
   "display_name": "Python 3 (ipykernel)",
   "language": "python",
   "name": "python3"
  },
  "language_info": {
   "codemirror_mode": {
    "name": "ipython",
    "version": 3
   },
   "file_extension": ".py",
   "mimetype": "text/x-python",
   "name": "python",
   "nbconvert_exporter": "python",
   "pygments_lexer": "ipython3",
   "version": "3.10.2"
  }
 },
 "nbformat": 4,
 "nbformat_minor": 5
}
