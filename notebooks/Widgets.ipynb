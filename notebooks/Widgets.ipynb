{
 "cells": [
  {
   "cell_type": "code",
   "execution_count": 109,
   "metadata": {},
   "outputs": [],
   "source": [
    "import sys\n",
    "sys.path.append(\"..\")\n",
    "import json\n",
    "from IPython.display import clear_output\n",
    "import sources\n",
    "from countries.list import CountryList\n",
    "from countries.utils import extract_countries\n",
    "from data.Frame import Frame\n",
    "from data.Stats import calculate_weighted_average as wa\n",
    "from sources.worldbank.indicators import get_data_frame_wide as getdfw\n",
    "from sources.worldbank.datatable import get_data_table\n",
    "c = CountryList()\n",
    "c.load_wb()"
   ]
  },
  {
   "cell_type": "code",
   "execution_count": 110,
   "metadata": {},
   "outputs": [],
   "source": [
    "sources.worldbank.indicators.load_all()\n",
    "indicators = sources.worldbank.indicators.Indicators\n",
    "names =[]\n",
    "for i in indicators:\n",
    "    names.append({'name':i.name, 'description':i.description})"
   ]
  },
  {
   "cell_type": "code",
   "execution_count": 111,
   "metadata": {},
   "outputs": [],
   "source": [
    "import ipywidgets as widgets"
   ]
  },
  {
   "cell_type": "code",
   "execution_count": 112,
   "metadata": {},
   "outputs": [
    {
     "data": {
      "application/vnd.jupyter.widget-view+json": {
       "model_id": "a80ab9c3ab9a4a63af841fca700e8383",
       "version_major": 2,
       "version_minor": 0
      },
      "text/plain": [
       "VBox(children=(Text(value='CO2 ', description='Search:', placeholder='Type something'), Output()))"
      ]
     },
     "metadata": {},
     "output_type": "display_data"
    }
   ],
   "source": [
    "def search_indicators(query):    \n",
    "    results = []\n",
    "    for i in indicators:\n",
    "        if all(word in i.description for word in query.split(' ')):\n",
    "            results.append({'name':i.name, 'description':i.description})\n",
    "        if len(results) > 20:\n",
    "               return results\n",
    "    return results\n",
    "\n",
    "def on_change(k):\n",
    "    out.clear_output()\n",
    "    with out:\n",
    "        for i in search_indicators(k['new']):\n",
    "            print('%s - %s\\n' % (i['name'], i['description']))\n",
    "\n",
    "            t= widgets.Text(\n",
    "    value='',\n",
    "    placeholder='Type something',\n",
    "    description='Search:',\n",
    "    disabled=False\n",
    ")\n",
    "out = widgets.Output()\n",
    "\n",
    "t.observe(on_change, names='value')\n",
    "items = [t, out]\n",
    "b = widgets.VBox(children=items)\n",
    "b"
   ]
  },
  {
   "cell_type": "code",
   "execution_count": null,
   "metadata": {},
   "outputs": [],
   "source": []
  }
 ],
 "metadata": {
  "kernelspec": {
   "display_name": "Python 3",
   "language": "python",
   "name": "python3"
  },
  "language_info": {
   "codemirror_mode": {
    "name": "ipython",
    "version": 3
   },
   "file_extension": ".py",
   "mimetype": "text/x-python",
   "name": "python",
   "nbconvert_exporter": "python",
   "pygments_lexer": "ipython3",
   "version": "3.7.1"
  }
 },
 "nbformat": 4,
 "nbformat_minor": 2
}
