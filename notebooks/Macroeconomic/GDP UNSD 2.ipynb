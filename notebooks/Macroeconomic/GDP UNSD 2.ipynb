{
 "cells": [
  {
   "cell_type": "code",
   "execution_count": 1,
   "metadata": {
    "collapsed": false
   },
   "outputs": [],
   "source": [
    "import csv\n",
    "import sys\n",
    "sys.path.append(\"..\")\n",
    "import json\n",
    "import urllib.request\n",
    "from IPython.display import clear_output\n",
    "import sources\n",
    "from countrylist import CountryList\n",
    "from data.Frame import Frame\n",
    "from data.Row import Row\n",
    "from data.Cell import Cell\n",
    "from data.Stats import calculate_weighted_average as wa\n",
    "c = CountryList()\n",
    "c.load_wb()\n",
    "from ldcs.groups import get_regionalized_dataframe as get_rdf"
   ]
  },
  {
   "cell_type": "code",
   "execution_count": 2,
   "metadata": {
    "collapsed": true
   },
   "outputs": [],
   "source": [
    "column_names = []\n",
    "df = Frame()\n",
    "with open('GDP_UNSD.csv') as csvfile:\n",
    "    weo_reader = csv.reader(csvfile, delimiter=',', quotechar='\"')\n",
    "    i = next(weo_reader)\n",
    "    for col in i:\n",
    "        column_names.append(col)\n",
    "    \n",
    "    for r in weo_reader:\n",
    "        dr = Row()\n",
    "        for i in range(0,len(r)):\n",
    "            dr.cells.append(Cell(column=column_names[i], value=r[i]))\n",
    "        \n",
    "        df.rows.append(dr)\n"
   ]
  },
  {
   "cell_type": "code",
   "execution_count": 3,
   "metadata": {
    "collapsed": true
   },
   "outputs": [],
   "source": [
    "dfw = df.wide(\"Country\", \"Value\", \"Year\")"
   ]
  },
  {
   "cell_type": "code",
   "execution_count": 4,
   "metadata": {
    "collapsed": true
   },
   "outputs": [],
   "source": [
    "dfw_r = get_rdf(dfw, \"Country\")"
   ]
  },
  {
   "cell_type": "code",
   "execution_count": 5,
   "metadata": {
    "collapsed": false
   },
   "outputs": [],
   "source": [
    "dfw_r.name='GDP-real-growth-UNSD'\n",
    "dfw_r.to_xlsx()"
   ]
  }
 ],
 "metadata": {
  "kernelspec": {
   "display_name": "Python 3",
   "language": "python",
   "name": "python3"
  },
  "language_info": {
   "codemirror_mode": {
    "name": "ipython",
    "version": 3
   },
   "file_extension": ".py",
   "mimetype": "text/x-python",
   "name": "python",
   "nbconvert_exporter": "python",
   "pygments_lexer": "ipython3",
   "version": "3.5.1"
  }
 },
 "nbformat": 4,
 "nbformat_minor": 2
}
