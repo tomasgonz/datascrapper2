{
 "cells": [
  {
   "cell_type": "code",
   "execution_count": 1,
   "metadata": {
    "collapsed": false,
    "jupyter": {
     "outputs_hidden": false
    }
   },
   "outputs": [],
   "source": [
    "import sys\n",
    "sys.path.append(\"../..\")\n",
    "sys.path.append(\"../data\")\n",
    "from sources import *\n",
    "from data.Frame import Frame\n",
    "from data.Stats import calculate_weighted_average as wa\n",
    "from geo.countries import Countries\n",
    "import os\n",
    "import csv\n",
    "import json\n",
    "import urllib.request\n",
    "from IPython.display import clear_output\n",
    "c = Countries()"
   ]
  },
  {
   "cell_type": "code",
   "execution_count": 2,
   "metadata": {
    "tags": []
   },
   "outputs": [
    {
     "name": "stderr",
     "output_type": "stream",
     "text": [
      "INFO:root:Retrieving source database: https://www.imf.org/-/media/Files/Publications/WEO/WEO-Database/2021/WEOOct2021all.ashx ...\n",
      "INFO:root:Source database downloaded to: archive/imf-weo-2021-oct.tsv\n"
     ]
    }
   ],
   "source": [
    "# Download and extract WEO database from IMF\n",
    "imf.weo.retrieve()"
   ]
  },
  {
   "cell_type": "code",
   "execution_count": 4,
   "metadata": {},
   "outputs": [
    {
     "name": "stdout",
     "output_type": "stream",
     "text": [
      "46\n",
      "NGDP_R \t\t Gross domestic product, constant prices\n",
      "NGDP_RPCH \t\t Gross domestic product, constant prices\n",
      "NGDP \t\t Gross domestic product, current prices\n",
      "NGDPD \t\t Gross domestic product, current prices\n",
      "PPPGDP \t\t Gross domestic product, current prices\n",
      "NGDP_D \t\t Gross domestic product, deflator\n",
      "NGDPRPC \t\t Gross domestic product per capita, constant prices\n",
      "NGDPRPPPPC \t\t Gross domestic product per capita, constant prices\n",
      "NGDPPC \t\t Gross domestic product per capita, current prices\n",
      "NGDPDPC \t\t Gross domestic product per capita, current prices\n",
      "PPPPC \t\t Gross domestic product per capita, current prices\n",
      "NGAP_NPGDP \t\t Output gap in percent of potential GDP\n",
      "PPPSH \t\t Gross domestic product based on purchasing-power-parity (PPP) share of world total\n",
      "PPPEX \t\t Implied PPP conversion rate\n",
      "NID_NGDP \t\t Total investment\n",
      "NGSD_NGDP \t\t Gross national savings\n",
      "PCPI \t\t Inflation, average consumer prices\n",
      "PCPIPCH \t\t Inflation, average consumer prices\n",
      "PCPIE \t\t Inflation, end of period consumer prices\n",
      "PCPIEPCH \t\t Inflation, end of period consumer prices\n",
      "FLIBOR6 \t\t Six-month London interbank offered rate (LIBOR)\n",
      "TM_RPCH \t\t Volume of imports of goods and services\n",
      "TMG_RPCH \t\t Volume of Imports of goods\n",
      "TX_RPCH \t\t Volume of exports of goods and services\n",
      "TXG_RPCH \t\t Volume of exports of goods\n",
      "LUR \t\t Unemployment rate\n",
      "LE \t\t Employment\n",
      "LP \t\t Population\n",
      "GGR \t\t General government revenue\n",
      "GGR_NGDP \t\t General government revenue\n",
      "GGX \t\t General government total expenditure\n",
      "GGX_NGDP \t\t General government total expenditure\n",
      "GGXCNL \t\t General government net lending/borrowing\n",
      "GGXCNL_NGDP \t\t General government net lending/borrowing\n",
      "GGSB \t\t General government structural balance\n",
      "GGSB_NPGDP \t\t General government structural balance\n",
      "GGXONLB \t\t General government primary net lending/borrowing\n",
      "GGXONLB_NGDP \t\t General government primary net lending/borrowing\n",
      "GGXWDN \t\t General government net debt\n",
      "GGXWDN_NGDP \t\t General government net debt\n",
      "GGXWDG \t\t General government gross debt\n",
      "GGXWDG_NGDP \t\t General government gross debt\n",
      "NGDP_FY \t\t Gross domestic product corresponding to fiscal year, current prices\n",
      "BCA \t\t Current account balance\n",
      "BCA_NGDPD \t\t Current account balance\n",
      " \t\t \n"
     ]
    }
   ],
   "source": [
    "imf.weo.check_indicators()"
   ]
  },
  {
   "cell_type": "code",
   "execution_count": null,
   "metadata": {},
   "outputs": [],
   "source": []
  }
 ],
 "metadata": {
  "kernelspec": {
   "display_name": "Python 3 (ipykernel)",
   "language": "python",
   "name": "python3"
  },
  "language_info": {
   "codemirror_mode": {
    "name": "ipython",
    "version": 3
   },
   "file_extension": ".py",
   "mimetype": "text/x-python",
   "name": "python",
   "nbconvert_exporter": "python",
   "pygments_lexer": "ipython3",
   "version": "3.10.2"
  }
 },
 "nbformat": 4,
 "nbformat_minor": 4
}
