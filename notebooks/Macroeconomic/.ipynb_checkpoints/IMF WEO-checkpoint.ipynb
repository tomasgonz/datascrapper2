{
 "cells": [
  {
   "cell_type": "code",
   "execution_count": 3,
   "metadata": {},
   "outputs": [],
   "source": [
    "import sys\n",
    "sys.path.append(\"../..\")\n",
    "from sources import *\n",
    "from data.Frame import Frame\n",
    "from data.Stats import calculate_weighted_average as wa\n",
    "from geo.countries import Countries\n",
    "import os\n",
    "import csv\n",
    "import json\n",
    "import urllib.request\n",
    "from IPython.display import clear_output\n",
    "c = Countries()"
   ]
  },
  {
   "cell_type": "code",
   "execution_count": 4,
   "metadata": {
    "tags": []
   },
   "outputs": [],
   "source": [
    "WEO_file = 'WEOOct2021all.csv'"
   ]
  },
  {
   "cell_type": "code",
   "execution_count": 8,
   "metadata": {
    "tags": []
   },
   "outputs": [],
   "source": [
    "def get_indicator_ldcs(subject_code, export_to_excel=False):\n",
    "    column_names = []\n",
    "    df = Frame()\n",
    "    with open(WEO_file) as csvfile:\n",
    "        weo_reader = csv.reader(csvfile, delimiter=',', quotechar='\"')\n",
    "        i = next(weo_reader)\n",
    "        for col in i:\n",
    "            column_names.append(col)\n",
    "\n",
    "        column_names[0] = 'WEO Country Code'\n",
    "\n",
    "        for r in weo_reader:\n",
    "            dr = Row()\n",
    "            for i in range(0,len(r)):\n",
    "                dr.cells.append(Cell(column=column_names[i], value=r[i]))\n",
    "\n",
    "            df.rows.append(dr)\n",
    "            \n",
    "        df_subject = df.search('WEO Subject Code', subject_code)\n",
    "        df_subject_ldcs = get_rdf(df_subject, 'Country')\n",
    "        \n",
    "        if export_to_excel == True:\n",
    "            df_subject_ldcs.name = \"%s\" % (subject_code)\n",
    "            df_subject_ldcs.to_xlsx()\n",
    "            \n",
    "        return df_subject_ldcs"
   ]
  },
  {
   "cell_type": "code",
   "execution_count": null,
   "metadata": {},
   "outputs": [
    {
     "ename": "FileNotFoundError",
     "evalue": "[Errno 2] No such file or directory: 'WEOOct2021all.csv'",
     "output_type": "error",
     "traceback": [
      "\u001b[1;31m---------------------------------------------------------------------------\u001b[0m",
      "\u001b[1;31mFileNotFoundError\u001b[0m                         Traceback (most recent call last)",
      "Input \u001b[1;32mIn [6]\u001b[0m, in \u001b[0;36m<module>\u001b[1;34m\u001b[0m\n\u001b[0;32m      1\u001b[0m \u001b[38;5;66;03m#ggr=get_indicator_ldcs('GGR_NGDP',export_to_excel=True)\u001b[39;00m\n\u001b[0;32m      2\u001b[0m \u001b[38;5;66;03m#ggte=get_indicator_ldcs('GGX_NGDP',export_to_excel=True)\u001b[39;00m\n\u001b[0;32m      3\u001b[0m \u001b[38;5;66;03m#gdpd=get_indicator_ldcs('NGDPD',export_to_excel=True)\u001b[39;00m\n\u001b[1;32m----> 4\u001b[0m bca\u001b[38;5;241m=\u001b[39m\u001b[43mget_indicator_ldcs\u001b[49m\u001b[43m(\u001b[49m\u001b[38;5;124;43m'\u001b[39;49m\u001b[38;5;124;43mBCA\u001b[39;49m\u001b[38;5;124;43m'\u001b[39;49m\u001b[43m,\u001b[49m\u001b[43mexport_to_excel\u001b[49m\u001b[38;5;241;43m=\u001b[39;49m\u001b[38;5;28;43;01mTrue\u001b[39;49;00m\u001b[43m)\u001b[49m\n",
      "Input \u001b[1;32mIn [5]\u001b[0m, in \u001b[0;36mget_indicator_ldcs\u001b[1;34m(subject_code, export_to_excel)\u001b[0m\n\u001b[0;32m      2\u001b[0m column_names \u001b[38;5;241m=\u001b[39m []\n\u001b[0;32m      3\u001b[0m df \u001b[38;5;241m=\u001b[39m Frame()\n\u001b[1;32m----> 4\u001b[0m \u001b[38;5;28;01mwith\u001b[39;00m \u001b[38;5;28;43mopen\u001b[39;49m\u001b[43m(\u001b[49m\u001b[43mWEO_file\u001b[49m\u001b[43m)\u001b[49m \u001b[38;5;28;01mas\u001b[39;00m csvfile:\n\u001b[0;32m      5\u001b[0m     weo_reader \u001b[38;5;241m=\u001b[39m csv\u001b[38;5;241m.\u001b[39mreader(csvfile, delimiter\u001b[38;5;241m=\u001b[39m\u001b[38;5;124m'\u001b[39m\u001b[38;5;124m,\u001b[39m\u001b[38;5;124m'\u001b[39m, quotechar\u001b[38;5;241m=\u001b[39m\u001b[38;5;124m'\u001b[39m\u001b[38;5;124m\"\u001b[39m\u001b[38;5;124m'\u001b[39m)\n\u001b[0;32m      6\u001b[0m     i \u001b[38;5;241m=\u001b[39m \u001b[38;5;28mnext\u001b[39m(weo_reader)\n",
      "\u001b[1;31mFileNotFoundError\u001b[0m: [Errno 2] No such file or directory: 'WEOOct2021all.csv'"
     ]
    }
   ],
   "source": [
    "#ggr=get_indicator_ldcs('GGR_NGDP',export_to_excel=True)\n",
    "#ggte=get_indicator_ldcs('GGX_NGDP',export_to_excel=True)\n",
    "#gdpd=get_indicator_ldcs('NGDPD',export_to_excel=True)\n",
    "bca=get_indicator_ldcs('BCA',export_to_excel=True)"
   ]
  },
  {
   "cell_type": "code",
   "execution_count": null,
   "metadata": {
    "collapsed": true,
    "jupyter": {
     "outputs_hidden": true
    }
   },
   "outputs": [],
   "source": []
  }
 ],
 "metadata": {
  "kernelspec": {
   "display_name": "Python 3 (ipykernel)",
   "language": "python",
   "name": "python3"
  },
  "language_info": {
   "codemirror_mode": {
    "name": "ipython",
    "version": 3
   },
   "file_extension": ".py",
   "mimetype": "text/x-python",
   "name": "python",
   "nbconvert_exporter": "python",
   "pygments_lexer": "ipython3",
   "version": "3.10.2"
  }
 },
 "nbformat": 4,
 "nbformat_minor": 4
}
