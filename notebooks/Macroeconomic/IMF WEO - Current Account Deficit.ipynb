{
 "cells": [
  {
   "cell_type": "code",
   "execution_count": 9,
   "metadata": {
    "collapsed": false,
    "jupyter": {
     "outputs_hidden": false
    }
   },
   "outputs": [],
   "source": [
    "import sys\n",
    "sys.path.append(\"../..\")\n",
    "sys.path.append(\"../data\")\n",
    "from sources import *\n",
    "from data.Frame import Frame\n",
    "from data.Stats import calculate_weighted_average as wa\n",
    "from geo.countries import Countries\n",
    "import os\n",
    "import csv\n",
    "import json\n",
    "import urllib.request\n",
    "from IPython.display import clear_output\n",
    "c = Countries()\n",
    "import pandas as pd"
   ]
  },
  {
   "cell_type": "code",
   "execution_count": 2,
   "metadata": {
    "tags": []
   },
   "outputs": [
    {
     "name": "stderr",
     "output_type": "stream",
     "text": [
      "INFO:root:Retrieving source database: https://www.imf.org/-/media/Files/Publications/WEO/WEO-Database/2021/WEOOct2021all.ashx ...\n",
      "INFO:root:Source database downloaded to: archive/imf-weo-2021-oct.tsv\n"
     ]
    }
   ],
   "source": [
    "# Download and extract WEO database from IMF\n",
    "imf.weo.retrieve()"
   ]
  },
  {
   "cell_type": "code",
   "execution_count": 4,
   "metadata": {},
   "outputs": [
    {
     "name": "stdout",
     "output_type": "stream",
     "text": [
      "46\n",
      "NGDP_R \t\t Gross domestic product, constant prices\n",
      "NGDP_RPCH \t\t Gross domestic product, constant prices\n",
      "NGDP \t\t Gross domestic product, current prices\n",
      "NGDPD \t\t Gross domestic product, current prices\n",
      "PPPGDP \t\t Gross domestic product, current prices\n",
      "NGDP_D \t\t Gross domestic product, deflator\n",
      "NGDPRPC \t\t Gross domestic product per capita, constant prices\n",
      "NGDPRPPPPC \t\t Gross domestic product per capita, constant prices\n",
      "NGDPPC \t\t Gross domestic product per capita, current prices\n",
      "NGDPDPC \t\t Gross domestic product per capita, current prices\n",
      "PPPPC \t\t Gross domestic product per capita, current prices\n",
      "NGAP_NPGDP \t\t Output gap in percent of potential GDP\n",
      "PPPSH \t\t Gross domestic product based on purchasing-power-parity (PPP) share of world total\n",
      "PPPEX \t\t Implied PPP conversion rate\n",
      "NID_NGDP \t\t Total investment\n",
      "NGSD_NGDP \t\t Gross national savings\n",
      "PCPI \t\t Inflation, average consumer prices\n",
      "PCPIPCH \t\t Inflation, average consumer prices\n",
      "PCPIE \t\t Inflation, end of period consumer prices\n",
      "PCPIEPCH \t\t Inflation, end of period consumer prices\n",
      "FLIBOR6 \t\t Six-month London interbank offered rate (LIBOR)\n",
      "TM_RPCH \t\t Volume of imports of goods and services\n",
      "TMG_RPCH \t\t Volume of Imports of goods\n",
      "TX_RPCH \t\t Volume of exports of goods and services\n",
      "TXG_RPCH \t\t Volume of exports of goods\n",
      "LUR \t\t Unemployment rate\n",
      "LE \t\t Employment\n",
      "LP \t\t Population\n",
      "GGR \t\t General government revenue\n",
      "GGR_NGDP \t\t General government revenue\n",
      "GGX \t\t General government total expenditure\n",
      "GGX_NGDP \t\t General government total expenditure\n",
      "GGXCNL \t\t General government net lending/borrowing\n",
      "GGXCNL_NGDP \t\t General government net lending/borrowing\n",
      "GGSB \t\t General government structural balance\n",
      "GGSB_NPGDP \t\t General government structural balance\n",
      "GGXONLB \t\t General government primary net lending/borrowing\n",
      "GGXONLB_NGDP \t\t General government primary net lending/borrowing\n",
      "GGXWDN \t\t General government net debt\n",
      "GGXWDN_NGDP \t\t General government net debt\n",
      "GGXWDG \t\t General government gross debt\n",
      "GGXWDG_NGDP \t\t General government gross debt\n",
      "NGDP_FY \t\t Gross domestic product corresponding to fiscal year, current prices\n",
      "BCA \t\t Current account balance\n",
      "BCA_NGDPD \t\t Current account balance\n",
      " \t\t \n"
     ]
    }
   ],
   "source": [
    "imf.weo.check_indicators()"
   ]
  },
  {
   "cell_type": "code",
   "execution_count": 10,
   "metadata": {},
   "outputs": [],
   "source": [
    "data = pd.read_csv(\"data/values.csv\")"
   ]
  },
  {
   "cell_type": "code",
   "execution_count": 11,
   "metadata": {},
   "outputs": [
    {
     "data": {
      "text/html": [
       "<div>\n",
       "<style scoped>\n",
       "    .dataframe tbody tr th:only-of-type {\n",
       "        vertical-align: middle;\n",
       "    }\n",
       "\n",
       "    .dataframe tbody tr th {\n",
       "        vertical-align: top;\n",
       "    }\n",
       "\n",
       "    .dataframe thead th {\n",
       "        text-align: right;\n",
       "    }\n",
       "</style>\n",
       "<table border=\"1\" class=\"dataframe\">\n",
       "  <thead>\n",
       "    <tr style=\"text-align: right;\">\n",
       "      <th></th>\n",
       "      <th>Country</th>\n",
       "      <th>Indicator</th>\n",
       "      <th>Year</th>\n",
       "      <th>Value</th>\n",
       "    </tr>\n",
       "  </thead>\n",
       "  <tbody>\n",
       "    <tr>\n",
       "      <th>0</th>\n",
       "      <td>AFG</td>\n",
       "      <td>NGDP_R</td>\n",
       "      <td>2002</td>\n",
       "      <td>453.484</td>\n",
       "    </tr>\n",
       "    <tr>\n",
       "      <th>1</th>\n",
       "      <td>AFG</td>\n",
       "      <td>NGDP_R</td>\n",
       "      <td>2003</td>\n",
       "      <td>492.903</td>\n",
       "    </tr>\n",
       "    <tr>\n",
       "      <th>2</th>\n",
       "      <td>AFG</td>\n",
       "      <td>NGDP_R</td>\n",
       "      <td>2004</td>\n",
       "      <td>496.209</td>\n",
       "    </tr>\n",
       "    <tr>\n",
       "      <th>3</th>\n",
       "      <td>AFG</td>\n",
       "      <td>NGDP_R</td>\n",
       "      <td>2005</td>\n",
       "      <td>554.91</td>\n",
       "    </tr>\n",
       "    <tr>\n",
       "      <th>4</th>\n",
       "      <td>AFG</td>\n",
       "      <td>NGDP_R</td>\n",
       "      <td>2006</td>\n",
       "      <td>584.658</td>\n",
       "    </tr>\n",
       "    <tr>\n",
       "      <th>...</th>\n",
       "      <td>...</td>\n",
       "      <td>...</td>\n",
       "      <td>...</td>\n",
       "      <td>...</td>\n",
       "    </tr>\n",
       "    <tr>\n",
       "      <th>357071</th>\n",
       "      <td>ZWE</td>\n",
       "      <td>BCA_NGDPD</td>\n",
       "      <td>2022</td>\n",
       "      <td>3.811</td>\n",
       "    </tr>\n",
       "    <tr>\n",
       "      <th>357072</th>\n",
       "      <td>ZWE</td>\n",
       "      <td>BCA_NGDPD</td>\n",
       "      <td>2023</td>\n",
       "      <td>2.217</td>\n",
       "    </tr>\n",
       "    <tr>\n",
       "      <th>357073</th>\n",
       "      <td>ZWE</td>\n",
       "      <td>BCA_NGDPD</td>\n",
       "      <td>2024</td>\n",
       "      <td>0.519</td>\n",
       "    </tr>\n",
       "    <tr>\n",
       "      <th>357074</th>\n",
       "      <td>ZWE</td>\n",
       "      <td>BCA_NGDPD</td>\n",
       "      <td>2025</td>\n",
       "      <td>-0.833</td>\n",
       "    </tr>\n",
       "    <tr>\n",
       "      <th>357075</th>\n",
       "      <td>ZWE</td>\n",
       "      <td>BCA_NGDPD</td>\n",
       "      <td>2026</td>\n",
       "      <td>-2.162</td>\n",
       "    </tr>\n",
       "  </tbody>\n",
       "</table>\n",
       "<p>357076 rows × 4 columns</p>\n",
       "</div>"
      ],
      "text/plain": [
       "       Country  Indicator  Year    Value\n",
       "0          AFG     NGDP_R  2002  453.484\n",
       "1          AFG     NGDP_R  2003  492.903\n",
       "2          AFG     NGDP_R  2004  496.209\n",
       "3          AFG     NGDP_R  2005   554.91\n",
       "4          AFG     NGDP_R  2006  584.658\n",
       "...        ...        ...   ...      ...\n",
       "357071     ZWE  BCA_NGDPD  2022    3.811\n",
       "357072     ZWE  BCA_NGDPD  2023    2.217\n",
       "357073     ZWE  BCA_NGDPD  2024    0.519\n",
       "357074     ZWE  BCA_NGDPD  2025   -0.833\n",
       "357075     ZWE  BCA_NGDPD  2026   -2.162\n",
       "\n",
       "[357076 rows x 4 columns]"
      ]
     },
     "execution_count": 11,
     "metadata": {},
     "output_type": "execute_result"
    }
   ],
   "source": [
    "data"
   ]
  },
  {
   "cell_type": "code",
   "execution_count": null,
   "metadata": {},
   "outputs": [],
   "source": []
  }
 ],
 "metadata": {
  "kernelspec": {
   "display_name": "Python 3 (ipykernel)",
   "language": "python",
   "name": "python3"
  },
  "language_info": {
   "codemirror_mode": {
    "name": "ipython",
    "version": 3
   },
   "file_extension": ".py",
   "mimetype": "text/x-python",
   "name": "python",
   "nbconvert_exporter": "python",
   "pygments_lexer": "ipython3",
   "version": "3.10.2"
  }
 },
 "nbformat": 4,
 "nbformat_minor": 4
}
