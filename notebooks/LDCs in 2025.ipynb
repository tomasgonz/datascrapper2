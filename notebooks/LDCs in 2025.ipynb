{
 "cells": [
  {
   "cell_type": "code",
   "execution_count": 1,
   "metadata": {},
   "outputs": [],
   "source": [
    "import sys\n",
    "sys.path.append(\"..\")\n",
    "import json\n",
    "import urllib.request\n",
    "from IPython.display import clear_output\n",
    "import sources\n",
    "from countries.list import CountryList\n",
    "from countries.utils import extract_countries\n",
    "from data.Frame import Frame\n",
    "from data.Row import Row\n",
    "from data.Cell import Cell\n",
    "from data.Stats import calculate_weighted_average as wa\n",
    "c = CountryList()\n",
    "c.load_wb()\n",
    "from sources.worldbank.indicators import get_data_frame_wide as getdfw\n",
    "from sources.worldbank.datatable import get_data_table"
   ]
  },
  {
   "cell_type": "code",
   "execution_count": 2,
   "metadata": {},
   "outputs": [],
   "source": [
    "years = [\"2016\"]\n",
    "groups_ldcs=[['LDCs']]\n",
    "groups_ldcs2025=[['LDCs2025']]\n",
    "indicator = 'NV.AGR.TOTL.ZS'\n",
    "weight = 'NY.GDP.MKTP.KD'"
   ]
  },
  {
   "cell_type": "code",
   "execution_count": 3,
   "metadata": {},
   "outputs": [],
   "source": [
    "def estimate(years,indicator, groups, weight = None):\n",
    "    data_df = get_data_table(years, indicator, groups, export_to_excel=False)    \n",
    "    \n",
    "    if weight is None:\n",
    "        return (data_df)    \n",
    "    \n",
    "    weight_df = get_data_table(years, weight, groups, export_to_excel=False)   \n",
    "    \n",
    "    df_ldcs_w = wa(data_df, weight_df, 'entity' )\n",
    "    \n",
    "    return (df_ldcs_w)"
   ]
  },
  {
   "cell_type": "code",
   "execution_count": 4,
   "metadata": {},
   "outputs": [],
   "source": [
    "def latest_data_point(df):    \n",
    "    return (df.rows[len(df.rows)-1].cells[len(df.get_column_names())-1].get_value())"
   ]
  },
  {
   "cell_type": "code",
   "execution_count": 5,
   "metadata": {},
   "outputs": [
    {
     "name": "stdout",
     "output_type": "stream",
     "text": [
      "21.542104088010582\n",
      "23.372111319642492\n"
     ]
    }
   ],
   "source": [
    "# Agriculture, fisheries and forestry added valuea s a percentae of GDP\n",
    "indicator = 'NV.AGR.TOTL.ZS'\n",
    "weight = 'NY.GDP.MKTP.KD'\n",
    "print(latest_data_point(estimate(years, indicator, [['LDCs']], weight = weight)))\n",
    "print(latest_data_point(estimate(years, indicator, [['LDCs2025']], weight = weight)))"
   ]
  },
  {
   "cell_type": "code",
   "execution_count": null,
   "metadata": {},
   "outputs": [],
   "source": [
    "# Ubran population as a percentage of total population\n",
    "indicator = 'SP.URB.TOTL.IN.ZS'\n",
    "weight = 'SP.POP.TOTL'\n",
    "print(latest_data_point(estimate(years, indicator, [['LDCs']], weight = weight)))\n",
    "print(latest_data_point(estimate(years, indicator, [['LDCs2025']], weight = weight)))"
   ]
  },
  {
   "cell_type": "code",
   "execution_count": null,
   "metadata": {},
   "outputs": [],
   "source": [
    "# Exports of manufactures as a percentage of merchandise exports\n",
    "indicator = 'TX.VAL.MANF.ZS.UN'\n",
    "weight = 'TX.VAL.MRCH.CD.WT'\n",
    "print(latest_data_point(estimate(years, indicator, [['LDCs']], weight = weight)))\n",
    "print(latest_data_point(estimate(years, indicator, [['LDCs2025']], weight = weight)))"
   ]
  },
  {
   "cell_type": "code",
   "execution_count": null,
   "metadata": {},
   "outputs": [],
   "source": [
    "# Gross savings as a percentage of GDP\n",
    "indicator = 'NY.GNS.ICTR.ZS'\n",
    "weight = 'NY.GDP.MKTP.CD'\n",
    "print(latest_data_point(estimate(years, indicator, [['LDCs']], weight = weight)))\n",
    "print(latest_data_point(estimate(years, indicator, [['Developing excluding LDCs']], weight = weight)))"
   ]
  },
  {
   "cell_type": "code",
   "execution_count": null,
   "metadata": {},
   "outputs": [],
   "source": [
    "# People using safely managed sanitation services (% of population)\n",
    "years = [\"2011\"]\n",
    "indicator = 'SH.STA.SMSS.ZS'\n",
    "weight = 'SP.POP.TOTL'\n",
    "print(latest_data_point(estimate(years, indicator, [['LDCs']], weight = weight)))\n",
    "print(latest_data_point(estimate(years, indicator, [['LDCs2025']], weight = weight)))"
   ]
  },
  {
   "cell_type": "code",
   "execution_count": null,
   "metadata": {},
   "outputs": [],
   "source": [
    "# Gross capital formation (% of GDP)\n",
    "# Gross capital formation (formerly gross domestic investment) consists of outlays on additions to the fixed assets of the economy plus net changes in the level of inventories. Fixed assets include land improvements (fences, ditches, drains, and so on); plant, machinery, and equipment purchases; and the construction of roads, railways, and the like, including schools, offices, hospitals, private residential dwellings, and commercial and industrial buildings. Inventories are stocks of goods held by firms to meet temporary or unexpected fluctuations in production or sales, and\n",
    "indicator = 'NE.GDI.TOTL.ZS'\n",
    "weight = 'NY.GDP.MKTP.CD'\n",
    "print(latest_data_point(estimate(years, indicator, [['LDCs']], weight = weight)))\n",
    "print(latest_data_point(estimate(years, indicator, [['LDCs2025']], weight = weight)))"
   ]
  },
  {
   "cell_type": "code",
   "execution_count": null,
   "metadata": {},
   "outputs": [],
   "source": [
    "# Current account balance (% of GDP)\n",
    "indicator = 'BN.CAB.XOKA.GD.ZS'\n",
    "weight = 'NY.GDP.MKTP.CD'\n",
    "print(latest_data_point(estimate(years, indicator, [['LDCs']], weight = weight)))\n",
    "print(latest_data_point(estimate(years, indicator, [['LDCs2025']], weight = weight)))"
   ]
  },
  {
   "cell_type": "code",
   "execution_count": null,
   "metadata": {},
   "outputs": [],
   "source": [
    "# Market capitalization of listed domestic companies (% of GDP)\n",
    "indicator = 'CM.MKT.LCAP.GD.ZS'\n",
    "weight = 'NY.GDP.MKTP.CD'\n",
    "print(latest_data_point(estimate(years, indicator, [['LDCs']], weight = weight)))\n",
    "print(latest_data_point(estimate(years, indicator, [['LDCs2025']], weight = weight)))"
   ]
  },
  {
   "cell_type": "code",
   "execution_count": null,
   "metadata": {},
   "outputs": [],
   "source": [
    "# Military expenditure (% of GDP)\n",
    "indicator = 'MS.MIL.XPND.GD.ZS'\n",
    "weight = 'NY.GDP.MKTP.CD'\n",
    "print(latest_data_point(estimate(years, indicator, [['LDCs']], weight = weight)))\n",
    "print(latest_data_point(estimate(years, indicator, [['LDCs2025']], weight = weight)))"
   ]
  },
  {
   "cell_type": "code",
   "execution_count": null,
   "metadata": {},
   "outputs": [],
   "source": [
    "# Individuals using the Internet (% of population)\n",
    "indicator = 'IT.NET.USER.ZS'\n",
    "weight = 'SP.POP.TOTL'\n",
    "print(latest_data_point(estimate(years, indicator, [['LDCs']], weight = weight)))\n",
    "print(latest_data_point(estimate(years, indicator, [['LDCs2025']], weight = weight)))"
   ]
  },
  {
   "cell_type": "code",
   "execution_count": null,
   "metadata": {},
   "outputs": [],
   "source": [
    "# Research and development expenditure (% of GDP)\n",
    "# Individuals using the Internet (% of population)\n",
    "indicator = 'GB.XPD.RSDV.GD.ZS'\n",
    "weight = 'NY.GDP.MKTP.CD'\n",
    "print(latest_data_point(estimate(years, indicator, [['LDCs']], weight = weight)))\n",
    "print(latest_data_point(estimate(years, indicator, [['LDCs2025']], weight = weight)))\n"
   ]
  },
  {
   "cell_type": "code",
   "execution_count": null,
   "metadata": {},
   "outputs": [],
   "source": [
    "# ICT goods exports (% of total goods exports)\n",
    "indicator = 'TX.VAL.ICTG.ZS.UN'\n"
   ]
  },
  {
   "cell_type": "code",
   "execution_count": null,
   "metadata": {},
   "outputs": [],
   "source": [
    "# Personal remittances, received (% of GDP)\n",
    "years = [\"2017\"]\n",
    "indicator = 'BX.TRF.PWKR.DT.GD.ZS'\n",
    "weight = 'NY.GDP.MKTP.CD'\n",
    "print(latest_data_point(estimate(years, indicator, [['LDCs']], weight = weight)))\n",
    "print(latest_data_point(estimate(years, indicator, [['LDCs2025']], weight = weight)))"
   ]
  },
  {
   "cell_type": "code",
   "execution_count": null,
   "metadata": {},
   "outputs": [],
   "source": [
    "SP.POP.2024.FE.5Y"
   ]
  }
 ],
 "metadata": {
  "kernelspec": {
   "display_name": "Python 3",
   "language": "python",
   "name": "python3"
  },
  "language_info": {
   "codemirror_mode": {
    "name": "ipython",
    "version": 3
   },
   "file_extension": ".py",
   "mimetype": "text/x-python",
   "name": "python",
   "nbconvert_exporter": "python",
   "pygments_lexer": "ipython3",
   "version": "3.7.1"
  }
 },
 "nbformat": 4,
 "nbformat_minor": 2
}
